{
 "cells": [
  {
   "cell_type": "markdown",
   "metadata": {},
   "source": [
    "<a id=\"topo\"></a>\n",
    "# Tópicos Básicos em Python\n",
    "0.  [Preliminares: Versão, Saída e Entrada de Dados, Constantes](#0.)\n",
    "1.\t<a href=\"#1.\">Variáveis, Operações e Funções Incorporadas</a>\n",
    "2.\t[Tipos de Dados e Conversões](#2.)\n",
    "3.\t<a href=\"#3.\">String</a>\n",
    "4.\t<a href=\"#4.\">Intervalo</a>\n",
    "5.  <a href=\"#5.\">Entrada de Dados</a>\n",
    "6.\t<a href=\"#6.\">Controle de Fluxo de Execução</a>\n",
    "7. Estruturas de Dados:  \n",
    "<a href=\"#7.\">  7.1 Lista</a>  \n",
    "<a href=\"#8.\">  7.2 Tupla</a>  \n",
    "<a href=\"#9.\">  7.3 Conjunto</a>  \n",
    "<a href=\"#10.\">  7.4 Dicionário</a>  \n",
    "8.\t<a href=\"#11.\">Funções Incorporadas</a>\n",
    "9.\t<a href=\"#12.\">Função Definida pelo Usuário</a>\n",
    "10.\t<a href=\"#13.\">Arquivos de E/S</a>\n",
    "11.\t<a href=\"#14.\">Exceções e Afirmações</a>"
   ]
  },
  {
   "cell_type": "code",
   "execution_count": 1,
   "metadata": {},
   "outputs": [
    {
     "data": {
      "text/html": [
       "<!-- Configuração para Tabelas -->\n",
       "<style>\n",
       "table th, table tr {text-align:center !important; float:center}\n",
       "table td {text-align:left}\n",
       "</style>\n"
      ],
      "text/plain": [
       "<IPython.core.display.HTML object>"
      ]
     },
     "metadata": {},
     "output_type": "display_data"
    }
   ],
   "source": [
    "%%html\n",
    "<!-- Configuração para Tabelas -->\n",
    "<style>\n",
    "table th, table tr {text-align:center !important; float:center}\n",
    "table td {text-align:left}\n",
    "</style>"
   ]
  },
  {
   "cell_type": "code",
   "execution_count": null,
   "metadata": {},
   "outputs": [],
   "source": [
    "# Ao finalizar uma célula Jupyter com o nome de uma saída variável ou uma expressão, \n",
    "# o Jupyter exibirá essa variável ou resultado da expressão sem a necessidade de uma instrução print.\n",
    "# Isso é útil ao lidar com os Data Frames do 'Pandas' (pacote de Estatística), pois a saída é formatada em tabela.\n",
    "# Para tanto, basta alterar uma opção do kernel para que isso não só aconteça com a última linha.\n",
    "\n",
    "from IPython.core.interactiveshell import InteractiveShell\n",
    "InteractiveShell.ast_node_interactivity = \"all\""
   ]
  },
  {
   "cell_type": "markdown",
   "metadata": {},
   "source": [
    "<a id=\"0.\"></a>\n",
    "### Versão em Uso\n",
    "Para se certificar da versão do interpretador Python que está em uso, digite:"
   ]
  },
  {
   "cell_type": "code",
   "execution_count": 15,
   "metadata": {},
   "outputs": [
    {
     "name": "stdout",
     "output_type": "stream",
     "text": [
      "3.8.5 (tags/v3.8.5:580fbb0, Jul 20 2020, 15:57:54) [MSC v.1924 64 bit (AMD64)]\n",
      "Versão do interpretador Python em uso:  3.8.5\n"
     ]
    }
   ],
   "source": [
    "# verificação da versão do interpretador Python em uso\n",
    "import sys\n",
    "versao = sys.version\n",
    "print(versao)\n",
    "print('Versão do interpretador Python em uso: ',versao.split(' ')[0])"
   ]
  },
  {
   "cell_type": "code",
   "execution_count": 26,
   "metadata": {},
   "outputs": [
    {
     "name": "stdout",
     "output_type": "stream",
     "text": [
      "ABCD/EFGH/IJKLVamos!\n"
     ]
    }
   ],
   "source": [
    "print(\"ABCD\",\"EFGH\",\"IJKL\",sep=\"/\",end='')\n",
    "print(\"Vamos!\")"
   ]
  },
  {
   "cell_type": "markdown",
   "metadata": {},
   "source": [
    "### Saída de Dados: comando `print` ou função `print( )`\n",
    "\n",
    "<font color=\"#1100FF\"><b>Python 2.x</b></font>:  é um **comando** que realiza a saída de dados no dispositivo padrão `stdout`.\n",
    "\n",
    "<font color=\"#1100FF\"><b>Python 3.x</b></font>:  é uma **função** que realiza a saída de dados no dispositivo padrão `stdout`."
   ]
  },
  {
   "cell_type": "code",
   "execution_count": 27,
   "metadata": {},
   "outputs": [
    {
     "name": "stdout",
     "output_type": "stream",
     "text": [
      "Help on built-in function print in module builtins:\n",
      "\n",
      "print(...)\n",
      "    print(value, ..., sep=' ', end='\\n', file=sys.stdout, flush=False)\n",
      "    \n",
      "    Prints the values to a stream, or to sys.stdout by default.\n",
      "    Optional keyword arguments:\n",
      "    file:  a file-like object (stream); defaults to the current sys.stdout.\n",
      "    sep:   string inserted between values, default a space.\n",
      "    end:   string appended after the last value, default a newline.\n",
      "    flush: whether to forcibly flush the stream.\n",
      "\n"
     ]
    }
   ],
   "source": [
    "help(\"print\")"
   ]
  },
  {
   "cell_type": "code",
   "execution_count": 30,
   "metadata": {},
   "outputs": [
    {
     "name": "stdout",
     "output_type": "stream",
     "text": [
      "Object ` print()  # observe a janela com 'Docstring' para o objeto solicitado, no caso, a função len()` not found.\n"
     ]
    }
   ],
   "source": [
    "? print()  # observe a janela com 'Docstring' para o objeto solicitado, no caso, a função len()"
   ]
  },
  {
   "cell_type": "markdown",
   "metadata": {},
   "source": [
    "### Entrada de Dados: função `input( )`\n"
   ]
  },
  {
   "cell_type": "code",
   "execution_count": 33,
   "metadata": {
    "scrolled": true
   },
   "outputs": [
    {
     "name": "stdout",
     "output_type": "stream",
     "text": [
      "Entre o nome do funcionario: JOAO BRANDAO\n",
      "Entre o salario:          R$ 3000\n",
      "Entre o nome da Empresa:     SUCESSO TOTAL\n"
     ]
    },
    {
     "data": {
      "text/plain": [
       "(str, str, str)"
      ]
     },
     "execution_count": 33,
     "metadata": {},
     "output_type": "execute_result"
    }
   ],
   "source": [
    "nome    = input(\"Entre o nome do funcionario: \")\n",
    "salario = float(input(\"Entre o salario:          R$ \"))\n",
    "empresa = input(\"Entre o nome da Empresa:     \")\n",
    "type(nome), type(salario), type(empresa)"
   ]
  },
  {
   "cell_type": "code",
   "execution_count": 35,
   "metadata": {},
   "outputs": [
    {
     "name": "stdout",
     "output_type": "stream",
     "text": [
      "3.8.5 (tags/v3.8.5:580fbb0, Jul 20 2020, 15:57:54) [MSC v.1924 64 bit (AMD64)]\n",
      "3.8.5 3.8.5\n",
      "Jul 20 2020\n",
      "J\n",
      "JOAO BRANDAO 3000 SUCESSO TOTAL\n"
     ]
    }
   ],
   "source": [
    "print(versao)\n",
    "print(versao[0:5], versao.split(' ')[0])\n",
    "print(versao[28:39])\n",
    "print(versao[28])\n",
    "print(nome, salario, empresa)"
   ]
  },
  {
   "cell_type": "code",
   "execution_count": null,
   "metadata": {},
   "outputs": [],
   "source": []
  },
  {
   "cell_type": "markdown",
   "metadata": {},
   "source": [
    "Impressão formatada no estilo \"printf()\" usado na Ling. C:"
   ]
  },
  {
   "cell_type": "code",
   "execution_count": 11,
   "metadata": {},
   "outputs": [
    {
     "name": "stdout",
     "output_type": "stream",
     "text": [
      "\n",
      "*** Dados do Funcionário ***\n",
      "Nome                      Salário R$   Empresa             \n",
      "José                      2000.00      BACANA              \n",
      "Maria de Santiago         3332.11      ABC Dados           \n"
     ]
    }
   ],
   "source": [
    "nome2    = \"Maria de Santiago\"\n",
    "salario2 = 3332.11\n",
    "empresa2 = \"ABC Dados\"\n",
    "\n",
    "print(\"\\n*** Dados do Funcionário ***\")\n",
    "print(\"%-25s %7s   %-20s\" % (\"Nome\",\"Salário R$\",\"Empresa\"))\n",
    "print(\"%-25s %7.2f      %-20s\" % (nome, salario, empresa))\n",
    "print(\"%-25s %7.2f      %-20s\" % (nome2, salario2, empresa2))\n",
    "\n",
    "# Versão 2.x:\n",
    "#   print \"%-25s %7s     %-20s\" % (\"Nome\",\"Salário\",\"Empresa\")\n",
    "#   print \"%-25s %7.2f   %-20s\" % (nome, salario, empresa)\n",
    "#   print \"%-25s %7.2f   %-20s\" % (nome2, salario2, empresa2)"
   ]
  },
  {
   "cell_type": "markdown",
   "metadata": {},
   "source": [
    "### Tipos de Dados\n",
    "Python suporta quatro tipos de dados numéricos diferentes:\n",
    "- **`int`** (inteiros com sinal): Eles geralmente são chamados de inteiros ou _ints_, e são números inteiros (sem ponto decimal) positivos ou negativos, sem casa decimal. Os inteiros em Python 3 têm tamanho ilimitado. Python 2 tem dois tipos inteiros - `int` e `long`.\n",
    "- **`long`** (inteiros longos): Também chamados de _longs_, são inteiros de tamanho \"ilimitado\". No **python2** são escritos como inteiros seguidos da letra `L` (maiúscula ou minúscula). Este tipo de dados foi abolido no **python3**.\n",
    "- **`float`** (valores reais de ponto flutuante): Também chamados de _floats_, eles representam números reais e são escritos com um ponto decimal dividindo as partes inteira e fracionária. Números _floats_ também podem ser escritos em notação científica, com `E` ou `e` indicando a potência de 10: $-3.25e3 = -3.25E3 = -3.25 \\times 10^3 = -3250$. \n",
    "- **`complex`** (números complexos): são da forma `a + bj`, onde `a` e `b` são _floats_ e `j` (ou `J`) representa a raiz quadrada de -1, $\\sqrt{-1}$, (número imaginário). A parte real do número é `a`, e a parte imaginária é `b`.\n",
    "- **`bool`** (valores lógicos): admitem apenas dois valores (palavras-chave) - `True` (verdade) e `False` (falso)."
   ]
  },
  {
   "cell_type": "markdown",
   "metadata": {},
   "source": [
    "### Constantes"
   ]
  },
  {
   "cell_type": "markdown",
   "metadata": {},
   "source": [
    "|   int  | long                 |       float       | complex    |\n",
    "|:------:|:--------------------:|:-----------------:|:-----------|\n",
    "|   10   | 51924361             |        0.0        | 3.14j      |\n",
    "|   100  | -0x19323             |       15.20       | 45.j       |\n",
    "|  -786  | 122                  |       -21.9       | 9.322e-36j |\n",
    "| 0x80   | 0xDEFABCECBDA        | 32.3+e18          | .876j      |\n",
    "| 0o60   | 4897495739349        |       5739349e-12 | 2-2j       |\n",
    "| -490   | 535633629843         | -90.              | -.6545+0J  |\n",
    "| -0x260 | -052318172735        | -32.54e100        | 3e+26J     |\n",
    "| 0x69   | -4721885298529       | 70.2E-2           | 4.53e-7j   |"
   ]
  },
  {
   "cell_type": "code",
   "execution_count": 40,
   "metadata": {},
   "outputs": [
    {
     "data": {
      "text/plain": [
       "(15323030801370.0,\n",
       " 0.876j,\n",
       " (-0.6545+0.65j),\n",
       " 0.0,\n",
       " 3.23e+19,\n",
       " 48,\n",
       " 4.897495739349,\n",
       " 22)"
      ]
     },
     "execution_count": 40,
     "metadata": {},
     "output_type": "execute_result"
    }
   ],
   "source": [
    "float(0xDEFABCECBDA), .876j, -.6545+0.65J, (4.53e-7j).real, 32.3e+18, 0o60, 4897495739349e-12, 0b10110"
   ]
  },
  {
   "cell_type": "markdown",
   "metadata": {},
   "source": [
    "### <a style=\"color: red\">Exercício</a>\n",
    "Determine o tipo de dados da variável `a` se:  \n",
    "* `a = 9`\n",
    "* `a = 9.`\n",
    "* `a = '9.'`\n",
    "* `a = (9)`\n",
    "* `a = False`\n",
    "* `a = [1, 2, 3]`\n",
    "* `a = (1, 2, 3)`\n",
    "* `a = {'id':121378}`\n",
    "* `a = 14 - 6j`"
   ]
  },
  {
   "cell_type": "code",
   "execution_count": 49,
   "metadata": {},
   "outputs": [
    {
     "data": {
      "text/plain": [
       "complex"
      ]
     },
     "execution_count": 49,
     "metadata": {},
     "output_type": "execute_result"
    }
   ],
   "source": [
    "a = 14 - 6j\n",
    "type(a)"
   ]
  },
  {
   "cell_type": "markdown",
   "metadata": {},
   "source": [
    "Para resolver os exercícios propostos, proceda da seguinte forma:\n",
    "<ol type=\"A\"><li>Acrescente uma célula de código para construir o seu script solução: selecione a célula do exercício e em seguida digite 'B' para inserir uma célula de código logo abaixo (<i>below</i>).</li>\n",
    "<li>Digite o seu script solução.</li>\n",
    "<li>Pressione <tt>[Ctrl]+[Enter]</tt> para executar a célula código que está selecionada, e veja se o resultado está coerente...</li></ol>"
   ]
  },
  {
   "cell_type": "markdown",
   "metadata": {},
   "source": [
    "<p style=\"text-align:right;\"><a href=\"#topo\">Volta ao topo</a></p>"
   ]
  },
  {
   "cell_type": "markdown",
   "metadata": {},
   "source": [
    "<a id=\"1.\"></a>\n",
    "## 1. Varíaveis, Operações e Funções Incorporadas (Embedded Functions)"
   ]
  },
  {
   "cell_type": "markdown",
   "metadata": {},
   "source": [
    "###  Identificadores \n",
    "Existem regras que devem ser seguidas para nomear identificadores (nomes de variáveis, funções, classes etc.) em Python. \n",
    "1. Você não pode usar __palavras-chave__ como identificadores: <b>int, float, bool, complex, str, True, False, ...</b>\n",
    "\n",
    "2. Os identificadores são gerados a partir da combinação de caracteres alfabéticos (`'a-z'`e `'A-Z'`), algarismos decimais (`'0-9'`) e sublinhados (`'_'`). \n",
    "\n",
    "3. Um identificador __não pode__ começar com algarismo (dígito). \n",
    "\n",
    "4. Caracteres especiais (`'@'`, `'#'`, `'\\$'` etc.) não são permitidos.\n",
    "\n",
    "5. Identificadores podem ser de qualquer comprimento em Python. Porém, o guia de estilo padrão do Python, mais especificamente o __PEP-8__ (_Python Enhancement Proposal_ - Proposta de Aprimoramento do Python), limita o comprimento da linha de código a 79 caracteres..."
   ]
  },
  {
   "cell_type": "code",
   "execution_count": 70,
   "metadata": {
    "scrolled": true
   },
   "outputs": [
    {
     "name": "stdout",
     "output_type": "stream",
     "text": [
      "['False', 'None', 'True', 'and', 'as', 'assert', 'async', 'await', 'break', 'class', 'continue', 'def', 'del', 'elif', 'else', 'except', 'finally', 'for', 'from', 'global', 'if', 'import', 'in', 'is', 'lambda', 'nonlocal', 'not', 'or', 'pass', 'raise', 'return', 'try', 'while', 'with', 'yield']\n",
      "Palavras-Chave:  35\n",
      "Caracteres de palavras começando com 'a':  20\n",
      "False\n"
     ]
    }
   ],
   "source": [
    "import keyword\n",
    "print(keyword.kwlist)\n",
    "print(\"Palavras-Chave: \",len(keyword.kwlist))\n",
    "carac = 0\n",
    "for palav in keyword.kwlist:\n",
    "    if palav[1] == 'a':\n",
    "        carac += len(palav)\n",
    "print(\"Caracteres de palavras começando com 'a': \",carac)\n",
    "print('asinc' in keyword.kwlist)"
   ]
  },
  {
   "cell_type": "markdown",
   "metadata": {},
   "source": [
    "Forma equivalente: (repare na diferença da importação da função no pacote `keyword`)"
   ]
  },
  {
   "cell_type": "code",
   "execution_count": null,
   "metadata": {},
   "outputs": [],
   "source": [
    "from keyword import kwlist          # pacote de palavras-chave (keyword)\n",
    "print(kwlist)                       # keywords list da versão do interpretador Python em uso"
   ]
  },
  {
   "cell_type": "code",
   "execution_count": 56,
   "metadata": {
    "scrolled": true
   },
   "outputs": [
    {
     "ename": "SyntaxError",
     "evalue": "invalid syntax (<ipython-input-56-326bd0e041aa>, line 1)",
     "output_type": "error",
     "traceback": [
      "\u001b[1;36m  File \u001b[1;32m\"<ipython-input-56-326bd0e041aa>\"\u001b[1;36m, line \u001b[1;32m1\u001b[0m\n\u001b[1;33m    1variavel = 6\u001b[0m\n\u001b[1;37m     ^\u001b[0m\n\u001b[1;31mSyntaxError\u001b[0m\u001b[1;31m:\u001b[0m invalid syntax\n"
     ]
    }
   ],
   "source": [
    "1variavel = 6 "
   ]
  },
  {
   "cell_type": "code",
   "execution_count": 57,
   "metadata": {
    "scrolled": false
   },
   "outputs": [
    {
     "ename": "SyntaxError",
     "evalue": "cannot assign to True (<ipython-input-57-a4d6f1772eea>, line 1)",
     "output_type": "error",
     "traceback": [
      "\u001b[1;36m  File \u001b[1;32m\"<ipython-input-57-a4d6f1772eea>\"\u001b[1;36m, line \u001b[1;32m1\u001b[0m\n\u001b[1;33m    True = 6\u001b[0m\n\u001b[1;37m    ^\u001b[0m\n\u001b[1;31mSyntaxError\u001b[0m\u001b[1;31m:\u001b[0m cannot assign to True\n"
     ]
    }
   ],
   "source": [
    "True = 6"
   ]
  },
  {
   "cell_type": "code",
   "execution_count": 58,
   "metadata": {},
   "outputs": [
    {
     "ename": "SyntaxError",
     "evalue": "invalid syntax (<ipython-input-58-abeb204702c4>, line 1)",
     "output_type": "error",
     "traceback": [
      "\u001b[1;36m  File \u001b[1;32m\"<ipython-input-58-abeb204702c4>\"\u001b[1;36m, line \u001b[1;32m1\u001b[0m\n\u001b[1;33m    variavel@ = 6\u001b[0m\n\u001b[1;37m              ^\u001b[0m\n\u001b[1;31mSyntaxError\u001b[0m\u001b[1;31m:\u001b[0m invalid syntax\n"
     ]
    }
   ],
   "source": [
    "variavel@ = 6 "
   ]
  },
  {
   "cell_type": "markdown",
   "metadata": {},
   "source": [
    "### Atribuição de Valor:   `<id_variável> = <expressão>`\n",
    "<!--- ![figura de variável](img\\variable_memory.gif)  --->\n",
    "<figure id=\"img\" style=\"float:right\">\n",
    "    <img src=\"img/variable_memory.gif\" alt=\"img com atribuição\" align=\"right\" style=\"width:200px; height:150px;\" border=\"25px\">\n",
    "    <figcaption><strong>Atribuição</strong></figcaption>\n",
    "</figure> \n",
    "\n",
    "O caracter de igualdade `=` é usado como __operador de atribuição__ (armazenamento) de um valor constante, ou resultado de uma expressão, a uma variável. A constante/expressão é sempre posicionada à direita do operador de atribuição e a variável que armazenará o valor, é sempre posicionada à esquerda do operador de atribuição, assim como ocorre na grande maioria das linguagens de programação de computadores.  \n",
    "\n",
    "Em Python, os tipos de dados numéricos e strings são imutáveis, de forma que toda atribuição de um valor numérico a uma variável cria um novo objeto numérico.  \n",
    "\n",
    "Sempre que pressionarmos qualquer tecla numérica, letra ou instrução no **console do Python** seguida da tecla [Enter], a resposta do interpretador Python ao comando será mostrada na linha seguinte. Mas, se atribuirmos um valor a uma variável, à esquerda do caracter de igualdade `=`, e pressionarmos [Enter], nenhuma informação será exibida na linha seguinte. Nesse caso, o interpretador Python somente calcula o resultado da expressão digitada ao lado direito do caracter de igualdade e o armazena na variável. \n",
    "\n",
    "Conceito de **Variável**: Uma variável pode ser vista como uma pequena caixa na memória do computador, na qual se armazena uma informação (um ou mais valores). Quando declaramos uma variável, o computador aloca determinada quantidade de memória, em bytes, para armazenar o(s) valor(es) dessa variável. O endereço de memória para cada variável é único. No Python a declaração explícita de variáveis não existe pois a linguagem faz a declaração automática da variável sempre que uma ação de atribuição de valor é realizada (tipificação dinâmica)."
   ]
  },
  {
   "cell_type": "markdown",
   "metadata": {},
   "source": [
    "Exemplos de atribuição de valores a variáveis (criação de variáveis) e apresentação de seus conteúdos usando o comando/função (vs.2/vs.3) `print`:"
   ]
  },
  {
   "cell_type": "code",
   "execution_count": 59,
   "metadata": {},
   "outputs": [
    {
     "name": "stdout",
     "output_type": "stream",
     "text": [
      "Python + Machine Learning = Sucesso\n",
      "2010\n",
      "2020.0\n"
     ]
    }
   ],
   "source": [
    "x = 'Python + Machine Learning = Sucesso'    # criação da var. 'x' e atribuição de valor String para var. 'x'\n",
    "ML = 2010                                    # criação da var. 'ML' e atribuição de valor inteiro (cte) à var. 'ML'\n",
    "z = ML + 10.                                 # criação da var. 'xL' e atribuição de valor (expressão) à var. 'z'\n",
    "print(x)                                     # apresentação do conteúdo da var. 'x'\n",
    "print(ML)                                    # apresentação do conteúdo da var. 'ML'\n",
    "print(z)                                     # apresentação do conteúdo da var. 'z'"
   ]
  },
  {
   "cell_type": "markdown",
   "metadata": {},
   "source": [
    "No código acima, usamos três variáveis. À variável `x` é atribuído o valor `'Python + Machine Learning = Sucesso'`, à var. `ML` é atribuído o valor 2020 e à var. `z` a expressão `ML + 10.`. Em seguida seus valores são apresentados."
   ]
  },
  {
   "cell_type": "markdown",
   "metadata": {},
   "source": [
    "Você pode apagar (excluir) uma variável da memória, ou várias delas usando a instrução `del`. <p>Exemplo:"
   ]
  },
  {
   "cell_type": "code",
   "execution_count": 60,
   "metadata": {},
   "outputs": [
    {
     "ename": "NameError",
     "evalue": "name 'x' is not defined",
     "output_type": "error",
     "traceback": [
      "\u001b[1;31m---------------------------------------------------------------------------\u001b[0m",
      "\u001b[1;31mNameError\u001b[0m                                 Traceback (most recent call last)",
      "\u001b[1;32m<ipython-input-60-19fc900c2131>\u001b[0m in \u001b[0;36m<module>\u001b[1;34m\u001b[0m\n\u001b[0;32m      1\u001b[0m \u001b[1;32mdel\u001b[0m \u001b[0mML\u001b[0m\u001b[1;33m\u001b[0m\u001b[1;33m\u001b[0m\u001b[0m\n\u001b[0;32m      2\u001b[0m \u001b[1;32mdel\u001b[0m \u001b[0mx\u001b[0m\u001b[1;33m\u001b[0m\u001b[1;33m\u001b[0m\u001b[0m\n\u001b[1;32m----> 3\u001b[1;33m \u001b[0mprint\u001b[0m\u001b[1;33m(\u001b[0m\u001b[0mx\u001b[0m\u001b[1;33m)\u001b[0m\u001b[1;33m\u001b[0m\u001b[1;33m\u001b[0m\u001b[0m\n\u001b[0m",
      "\u001b[1;31mNameError\u001b[0m: name 'x' is not defined"
     ]
    }
   ],
   "source": [
    "del ML\n",
    "del x\n",
    "print(x)"
   ]
  },
  {
   "cell_type": "markdown",
   "metadata": {},
   "source": [
    "#### Atribuição Múltipla\n",
    "O Python permite fazer atribuição múltipla a várias variáveis, numa mesma expressão. Para isso, devemos separar as variáveis e os valores com vírgulas."
   ]
  },
  {
   "cell_type": "code",
   "execution_count": 61,
   "metadata": {},
   "outputs": [
    {
     "name": "stdout",
     "output_type": "stream",
     "text": [
      "1 2 9 2\n"
     ]
    }
   ],
   "source": [
    "a = 1\n",
    "b, c, d = 2, 9, a+1\n",
    "print(a,b,c,d)"
   ]
  },
  {
   "cell_type": "markdown",
   "metadata": {},
   "source": [
    "### Operadores Aritméticos\n",
    "Soma (+), subtração (-), multiplicação (\\*), divisão (/), resto da divisão inteira (%), divisão inteira (//), potenciação (\\*\\*). A prioridade de execução segue os padrões matemáticos. Usando parênteses pode-se definir a parte da expressão que será executada primeiro."
   ]
  },
  {
   "cell_type": "markdown",
   "metadata": {},
   "source": [
    "<table> <caption>Operadores Aritméticos</caption>\n",
    "  <tr text-align:center;vertical-align:top>\n",
    "    <th text-align:center;vertical-align:top>Operador</th> <th>Exemplo</th> <th text-align:left>Descrição</th>\n",
    "  </tr>\n",
    "  <tr>\n",
    "    <td>+</td> <td text-align:center>a + b</td><td text-align:left>Soma os operandos em ambos lados do operador.</td>\n",
    "  </tr>\n",
    "  <tr>\n",
    "    <td>-</td><td>a - b</td><td>Subtrai o operando do lado direito do operando do lado esquerdo.<td>\n",
    "  </tr>\n",
    "  <tr>\n",
    "    <td>*</td><td>a * b</td><td>Multiplica os operandos em ambos lados do operador.</td>\n",
    "  </tr>\n",
    "  <tr>\n",
    "    <td>/</td><td>a / b</td><td>Divide o operando do lado esquerdo pelo operando do lado direito do operador (python2: retorna valor inteiro se operandos são inteiros).</td>\n",
    "  </tr>\n",
    "  <tr>\n",
    "    <td>%</td><td>a % b</td><td>Retorna o resto da divisão inteira do operando do lado esquerdo pelo operando do lado direito do operador.</td>\n",
    "  </tr>\n",
    "  <tr>\n",
    "    <td>**</td><td>a ** b</td><td>Retorna a potenciação do operador do lado esquerdo elevado ao operador do lado direito do operador.</td>\n",
    "  </tr>\n",
    "  <tr>\n",
    "    <td>//</td><td>a // b</td><td>Retorna o quociente da divisão dos operandos, onde o resultado é do tipo inteiro. Mas se um dos operandos for negativo, o resultado é flutuante, isto é, arredondado para longe de zero (em direção ao infinito negativo).</td>\n",
    "  </tr>\n",
    "</table>"
   ]
  },
  {
   "cell_type": "code",
   "execution_count": null,
   "metadata": {},
   "outputs": [],
   "source": [
    "12-4*9, (12-4)*9, 12-(4*9), 8 % 3, 9/7, 9//7"
   ]
  },
  {
   "cell_type": "markdown",
   "metadata": {},
   "source": [
    "**Atenção**: Divisão com operandos inteiros apresenta resultado também inteiro no **python2**. Naquele caso, para se obter resultado fracionário um dos operandos deve ser do tipo real (*float*)."
   ]
  },
  {
   "cell_type": "code",
   "execution_count": null,
   "metadata": {},
   "outputs": [],
   "source": [
    "8/6, 8./6, 12.5/3, 12.5//3, 13 % 5, 2**10"
   ]
  },
  {
   "cell_type": "markdown",
   "metadata": {},
   "source": [
    "### <a style=\"color: red\">Exercício</a>  \n",
    "Calcule o resultado de cada uma das seguintes expressões aritméticas:\n",
    "* $\\frac{5}{2}×3+4$\n",
    "* $42+3$\n",
    "* $\\sqrt{16}$\n",
    "* $3^{4−5}$\n",
    "* $\\frac{1+3+5}{2+4+6}$\n",
    "* $1−2+\\frac{9}{6}−3+5$\n",
    "* $(3+5−2)^\\frac{2}{3}$\n",
    "* $5+\\frac{3}{2}×5$\n",
    "* $\\sqrt{6^2+4}$\n",
    "* $1+9×\\frac{8}{4^2}+1^{3−4}×\\frac{1}{2.5}$\n"
   ]
  },
  {
   "cell_type": "code",
   "execution_count": 62,
   "metadata": {},
   "outputs": [
    {
     "data": {
      "text/plain": [
       "(0.75, 11.5, 45)"
      ]
     },
     "execution_count": 62,
     "metadata": {},
     "output_type": "execute_result"
    }
   ],
   "source": [
    "(1+3+5)/(2+4+6), 5/2*3+4, 42+3, "
   ]
  },
  {
   "cell_type": "markdown",
   "metadata": {},
   "source": [
    "### Operadores Relacionais\n",
    "<table>\n",
    "  <tr>\n",
    "      <th>Operador</th><th>Exemplo</th><th align=\"left\">Descrição</th>\n",
    "  </tr>\n",
    "  <tr>\n",
    "    <td><center>==</center></td><td>a == b</td><td>Retorna True se os operandos são iguais, e retorna False caso contrário.</td>\n",
    "  </tr>\n",
    "  <tr>\n",
    "    <td><center>!=, &lt;&gt; </center></td><td>a != b</td><td>Retorna True se os operandos são diferentes, e retorna False caso contrário.</td>\n",
    "  </tr>\n",
    "  <tr>\n",
    "    <td><center>></center></td><td>a > b</td><td>Retorna True se o operando do lado esquerdo do operador for maior que o operando do lado direito, e retorna False caso contrário.</td>\n",
    "  </tr>\n",
    "  <tr>\n",
    "    <td><center> &lt; </center></td><td>a &lt; b</td><td>Retorna True se o operando do lado esquerdo do operador for menor que o operando do lado direito, e retorna False caso contrário.</td>\n",
    "  </tr>\n",
    "  <tr>\n",
    "    <td><center>>=</center></td><td>a >= b</td><td>Retorna True se o operando do lado esquerdo do operador for maior ou igual ao operando do lado direito, e retorna False caso contrário.</td>\n",
    "  </tr>\n",
    "  <tr>\n",
    "    <td><center> &lt;= </center></td><td>a &lt;= b</td><td>Retorna True se o operando do lado esquerdo do operador for menor ou igual ao operando do lado direito, e retorna False caso contrário.</td>\n",
    "  </tr>\n",
    "</table>  \n",
    "\n",
    "Esses operadores serão usados, mais adiante, com as estruturas de controle de fluxo de execução dos scripts: `if` e `while`."
   ]
  },
  {
   "cell_type": "code",
   "execution_count": 68,
   "metadata": {},
   "outputs": [
    {
     "data": {
      "text/plain": [
       "(False, True, False, False)"
      ]
     },
     "execution_count": 68,
     "metadata": {},
     "output_type": "execute_result"
    }
   ],
   "source": [
    "12 == '12', 0 == False, 223 == True, \"a\" < \"A\""
   ]
  },
  {
   "cell_type": "markdown",
   "metadata": {},
   "source": [
    "### Operadores Lógicos\n",
    "<table>\n",
    "  <tr>\n",
    "    <th text-align: center;>Operador</th><th>Exemplo</th><th text-align: center;>Descrição</th>\n",
    "  </tr>\n",
    "  <tr>\n",
    "    <td><center> and </center></td><td>a and b</td><td>Retorna True se os operandos são True, e retorna False caso contrário.</td>\n",
    "  </tr>\n",
    "  <tr>\n",
    "    <td><center> or </center></td><td>a or b</td><td>Retorna True se qq. um dos operandos, ou ambos, são True, e retorna False caso contrário.</td>\n",
    "  </tr>\n",
    "  <tr>\n",
    "    <td><center> not </center></td><td> not a </td><td>Complementa o valor do operando lógico 'a'.</td>\n",
    "  </tr>\n",
    "</table>"
   ]
  },
  {
   "cell_type": "code",
   "execution_count": null,
   "metadata": {},
   "outputs": [],
   "source": [
    "12 == '12' and 0 == False, 12 == '12' or 0 == False, not(12 == '12') and 0 == False"
   ]
  },
  {
   "cell_type": "markdown",
   "metadata": {},
   "source": [
    "Um resumo das funcionalidades dos operadores booleanos é mostrado na tabela seguinte:  \n",
    "\n",
    "|A\t|B\t|not A|\tnot B|\tA == B|\tA =! B|\tA or B|\tA and B\n",
    "|---|---|-----|------|--------|-------|-------|--------\n",
    "|T\t|F\t|F\t  |T\t |F\t      |T\t  |T\t  |F\n",
    "|F\t|T\t|T\t  |F\t |F\t      |T\t  |T\t  |F\n",
    "|T\t|T\t|F\t  |F\t |T\t      |F\t  |T\t  |T\n",
    "|F\t|F\t|T\t  |T\t |T\t      |F\t  |F      |F"
   ]
  },
  {
   "cell_type": "markdown",
   "metadata": {},
   "source": [
    "### Operadores bit a bit\n",
    "Atua nos operandos no nível de bits.\n",
    "\n",
    "<table>\n",
    "  <tr>\n",
    "    <th><center> Operador </center></th><th>Exemplo</th><th>Descrição</th>\n",
    "  </tr>\n",
    "  <tr>\n",
    "    <td><center> &amp; </center></td><td>a &amp; b</td><td>Operação E: copia um bit para o resultado se ele existe em ambos operandos.</td>\n",
    "  </tr>\n",
    "  <tr>\n",
    "    <td><center> | </center></td><td>a | b</td><td>Operação OU: copia um bit para o resultado se ele existe em pelo menos um dos operandos.</td>\n",
    "  </tr>\n",
    "  <tr>\n",
    "    <td><center> ^ </center></td><td>a ^ b</td><td>Operação XOU: copia um bit para o resultado se ele estiver ligado (1) em um dos operandos, mas não em ambos.</td>\n",
    "  </tr>\n",
    "  <tr>\n",
    "    <td><center> ~ </center></td><td>~a</td><td>Operação Complemento 1: comuta os bits do operando 'a'.</td>\n",
    "  </tr>\n",
    "  <tr>\n",
    "    <td><center> &lt;&lt; </center></td><td>a &lt;&lt; b</td><td>Operação Deslocamento à Esquerda: desloca p/ esq. os bits do operando 'a' da quantidade de bits indicada pelo operando 'b'.</td>\n",
    "  </tr>\n",
    "  <tr>\n",
    "    <td><center> &gt;&gt; </center></td><td>a &gt;&gt; b</td><td>Operação Deslocamento à Direita: desloca p/ dir. os bits do operando 'a' da quantidade de bits indicada pelo operando 'b'.</td>\n",
    "  </tr>\n",
    "</table>  \n",
    "\n",
    "Os operadores bit a bit (binários) são diferentes dos operadores lógicos porque eles encaram os números inteiros como  sequências de bits. <p>Exemplo: $12_{(10)} = 1100_{(2)}$ e $8_{(10)} = 1000_{(2)}$.  \n",
    "    \n",
    "**Deslocamento para esquerda: a &lt;&lt; b**  \n",
    "O valor armazenado na variável \"a\" será multiplicado por $2^b$, pois seus bits serão movidos \"b\" posições à esquerda, adicionando zeros à direita.  \n",
    "\n",
    "Exemplo:  \n",
    "<tt>12 &lt;&lt; 3            # decimal 96  \n",
    "    1100 &lt;&lt; 11         # binário 1100000 </tt>  \n",
    "\n",
    "**Deslocamento para direita: a &gt;&gt; b**  \n",
    "O valor armazenado na variável \"a\" será dividido por $2^b$, pois seus bits serão movidos \"b\" posições à direita, adicionando zeros à esquerda.  \n",
    "\n",
    "Exemplo:  \n",
    "<tt>12 &gt;&gt; 2            # decimal 3  \n",
    "    1100 &gt;&gt; 10         # binário 11 </tt>"
   ]
  },
  {
   "cell_type": "code",
   "execution_count": 37,
   "metadata": {},
   "outputs": [
    {
     "name": "stdout",
     "output_type": "stream",
     "text": [
      "96 96 3 3\n"
     ]
    },
    {
     "data": {
      "text/plain": [
       "(75, 'A', 'A')"
      ]
     },
     "execution_count": 37,
     "metadata": {},
     "output_type": "execute_result"
    }
   ],
   "source": [
    "print(12 << 3, 0b1100 << 0b11, 12 >> 2, 0b1100 >> 0b10)\n",
    "ord(\"K\"), chr(65), chr(0b1000001)"
   ]
  },
  {
   "cell_type": "markdown",
   "metadata": {},
   "source": [
    "#### Manipulação de Bits\n",
    "\n",
    "Conversão de String \"binária\" em valor Inteiro:  \n",
    "* int(\"1011101101\", 2) --&gt; 749  \n",
    "* int(\"0xcaf\", 16) --&gt; 3247  \n",
    "* int(\"caf\", 16) --&gt; 3247  \n",
    "\n",
    "Conversão de valor Inteiro em String:  \n",
    "* str(0b1011101101)\n",
    "* hex(3247)\n",
    "* \"%x\" % \"caf\""
   ]
  },
  {
   "cell_type": "code",
   "execution_count": null,
   "metadata": {},
   "outputs": [],
   "source": [
    "int(\"1011101101\", 2), int(\"0xcaf\", 16), int(\"caf\", 16), hex(3247), \"0x%X\" % 3247, str(0b1011101101)"
   ]
  },
  {
   "cell_type": "markdown",
   "metadata": {},
   "source": [
    "### Operadores de Pertinência\n",
    "Indica a existência/pertinência de um elemento num iterável.\n",
    "<table>\n",
    "  <tr>\n",
    "    <th><center> Operador </center></th><th>Exemplo</th><th text-align: center;>Descrição</th>\n",
    "  </tr>\n",
    "  <tr>\n",
    "    <td><center> in </center></td><td>a in b</td><td><left>Retorna True se o operando 'a' estiver presente na sequência 'b'.</left></td>\n",
    "  </tr>\n",
    "  <tr>\n",
    "    <td><center> not in </center></td><td>a not in b</td><td>Retorna True se o operando 'a' não estiver presente na sequência 'b'.</td>\n",
    "  </tr>\n",
    "</table>"
   ]
  },
  {
   "cell_type": "markdown",
   "metadata": {},
   "source": [
    "**Operadores de Identidade**: indica a existência/pertinência de um elemento num iterável.\n",
    "\n",
    "| Operador | Exemplo | Descrição\n",
    "|:--------:|:-------:|:-------------------\n",
    "|    is    | x is &lt;tipo&gt; | Retorna True se  se ambos os operandos se referirem ao mesmo tipo de objeto\n",
    "|  is not  | x is not &lt;tipo&gt; | Retorna False se as variáveis de cada lado do operador apontarem para o mesmo tipo de objeto e True de outra forma"
   ]
  },
  {
   "cell_type": "markdown",
   "metadata": {},
   "source": [
    "#### Funções Matemáticas\n",
    "\n",
    "| Função (mód. math) | Descrição                                            |       float       | complex    |\n",
    "|:---------:|:--------------------------------------------------------------|:-----------------:|:----------:|\n",
    "| abs(x)    | O valor absoluto de x: a distância (positiva) entre x e zero. |        0.0        | 3.14j      |\n",
    "| ceil(x)   | O teto de x: o menor inteiro não menor que x                  |       15.20       | 45.j       |\n",
    "| cmp(x, y) | -1 se x < y; 0 se x == y ou 1 se x > y                        |         y         | 9.322e-36j |\n",
    "| exp(x)    | O exponencial de x: $e^x$                                     | 32.3+e18          | .876j      |\n",
    "| fabs(x)   | O valor absoluto de x.                                        | 4897495739349e-12 | 2-2j       |\n",
    "| floor(x)  | O piso de x: o maior número inteiro não maior que x           | -90.              | -.6545+0J  |\n",
    "| log(x)    | O logaritmo natural de x, para x> 0                           | -32.54e100        | 3e+26J     |\n",
    "| log10(x)  | O logaritmo de base 10 de x para x> 0                         | 70.2E-2           | 4.53e-7j   |\n",
    "\n",
    "| Função (mód. random)             | Descrição                                                               |\n",
    "|:--------------------------------:|:------------------------------------------------------------------------|\n",
    "| choice(seq)                      | Um item aleatório de uma lista, tupla ou string.                        |\n",
    "| randrange([start,] stop [,step]) | Um elemento selecionado aleatoriamente do intervalo (iniciar, parar, passo)|\n",
    "| random()                         |  Retorna um float r aleatório, tal que 0 <= r < 1                       |\n",
    "| seed([x])                        | Define o valor inicial do inteiro usado na geração de números aleatórios. Sem retorno.|\n",
    "| shuffle(lst)                     | Randomiza os itens de uma lista no lugar. Sem retorno.                  |\n",
    "\n",
    "| Função (mód. math) | Descrição                                  |\n",
    "|:-----------:|:--------------------------------------------------|\n",
    "| acos(x)     | Retorna o arco cosseno de x, em radianos.         |\n",
    "| asin(x)     | Retorne o arco seno de x, em radianos.            |\n",
    "| atan(x)     | Retorna o arco tangente de x, em radianos.        |\n",
    "| atan2(y, x) | Retorna atan (y / x), em radianos.                |\n",
    "| cos(x)      | Retorna o cosseno de x radianos.                  |\n",
    "| hypot(x, y) | Retorna a norma euclidiana, sqrt (x * x + y * y). |\n",
    "| sin(x)      | Devolve o seno de x radianos.                     |\n",
    "| tan(x)      | Retorna a tangente de x radianos.                 |\n",
    "| degrees(x)  | Converte o ângulo x de radianos para graus.       |\n",
    "| radians(x)  | Converte o ângulo x de graus para radianos.       |"
   ]
  },
  {
   "cell_type": "code",
   "execution_count": null,
   "metadata": {},
   "outputs": [],
   "source": [
    "import random as rd\n",
    "import math\n",
    "from math import ceil\n",
    "\n",
    "print(rd.randrange(1,61), math.cos(3.14159256), ceil(1.8))"
   ]
  },
  {
   "cell_type": "markdown",
   "metadata": {},
   "source": [
    "***"
   ]
  },
  {
   "cell_type": "markdown",
   "metadata": {},
   "source": [
    "### Funções Incorporadas (_Built in_)\n",
    "O interpretador Python possui várias funções e tipos de dados integrados que estão sempre disponíveis, e são listados em ordem alfabética na seguinte tabela:"
   ]
  },
  {
   "cell_type": "markdown",
   "metadata": {},
   "source": [
    "<style type=\"text/css\">\n",
    ".tg  {border-collapse:collapse;border-spacing:0;}\n",
    ".tg td{font-family:Arial, sans-serif;font-size:14px;padding:10px 5px;border-style:solid;border-width:1px;overflow:hidden;word-break:normal;border-color:black;}\n",
    ".tg th{font-family:Arial, sans-serif;font-size:14px;font-weight:normal;padding:10px 5px;border-style:solid;border-width:1px;overflow:hidden;word-break:normal;border-color:black;}\n",
    ".tg .tg-baqh{text-align:center;vertical-align:top}\n",
    ".tg .tg-uys7{border-color:inherit;text-align:center}\n",
    ".tg .tg-s8ju{font-size:15px;border-color:inherit;text-align:center}\n",
    "</style>\n",
    "<table class=\"tg\">\n",
    "  <tr>\n",
    "    <th class=\"tg-s8ju\" colspan=\"5\"><center><span style=\"font-weight:bold\">Funções Incorporadas (python3)</span></center></th>\n",
    "  </tr>\n",
    "  <tr>\n",
    "    <td style=\"text-align:left\">abs()</td>\n",
    "    <td style=\"text-align:left\">delattr()</td>\n",
    "    <td style=\"text-align:left\">hash()</td>\n",
    "    <td style=\"text-align:left\">memoryview()</td>\n",
    "    <td style=\"text-align:left\">set()</td>\n",
    "  </tr>\n",
    "  <tr>\n",
    "    <td style=\"text-align:left\">all()</td>\n",
    "    <td style=\"text-align:left\">dict()</td>\n",
    "    <td style=\"text-align:left\">help()</td>\n",
    "    <td style=\"text-align:left\">min()</td>\n",
    "    <td style=\"text-align:left\">setattr()</td>\n",
    "  </tr>\n",
    "  <tr>\n",
    "    <td style=\"text-align:left\">any()</td>\n",
    "    <td style=\"text-align:left\">dir()</td>\n",
    "    <td style=\"text-align:left\">hex()</td>\n",
    "    <td style=\"text-align:left\">next()</td>\n",
    "    <td style=\"text-align:left\">slice()</td>\n",
    "  </tr>\n",
    "  <tr>\n",
    "    <td style=\"text-align:left\">ascii()</td>\n",
    "    <td style=\"text-align:left\">divmod()</td>\n",
    "    <td style=\"text-align:left\">id()</td>\n",
    "    <td style=\"text-align:left\">object()</td>\n",
    "    <td style=\"text-align:left\">sorted()</td>\n",
    "  </tr>\n",
    "  <tr>\n",
    "    <td style=\"text-align:left\">bin()</td>\n",
    "    <td style=\"text-align:left\">enumerate()</td>\n",
    "    <td style=\"text-align:left\">input()</td>\n",
    "    <td style=\"text-align:left\">oct()</td>\n",
    "    <td style=\"text-align:left\">staticmethod()</td>\n",
    "  </tr>\n",
    "  <tr>\n",
    "    <td style=\"text-align:left\">bool()</td>\n",
    "    <td style=\"text-align:left\">eval()</td>\n",
    "    <td style=\"text-align:left\">int()</td>\n",
    "    <td style=\"text-align:left\">open()</td>\n",
    "    <td style=\"text-align:left\">str()</td>\n",
    "  </tr>\n",
    "  <tr>\n",
    "    <td style=\"text-align:left\">breakpoint()</td>\n",
    "    <td style=\"text-align:left\">exec()</td>\n",
    "    <td style=\"text-align:left\">isinstance()</td>\n",
    "    <td style=\"text-align:left\">ord()</td>\n",
    "    <td style=\"text-align:left\">sum()</td>\n",
    "  </tr>\n",
    "  <tr>\n",
    "    <td style=\"text-align:left\">bytearray()</td>\n",
    "    <td style=\"text-align:left\">filter()</td>\n",
    "    <td style=\"text-align:left\">issubclass()</td>\n",
    "    <td style=\"text-align:left\">pow()</td>\n",
    "    <td style=\"text-align:left\">super()</td>\n",
    "  </tr>\n",
    "  <tr>\n",
    "    <td style=\"text-align:left\">bytes()</td>\n",
    "    <td style=\"text-align:left\">float()</td>\n",
    "    <td style=\"text-align:left\">iter()</td>\n",
    "    <td style=\"text-align:left\">print()</td>\n",
    "    <td style=\"text-align:left\">tuple()</td>\n",
    "  </tr>\n",
    "  <tr>\n",
    "    <td style=\"text-align:left\">callable()</td>\n",
    "    <td style=\"text-align:left\">format()</td>\n",
    "    <td style=\"text-align:left\">len()</td>\n",
    "    <td style=\"text-align:left\">property()</td>\n",
    "    <td style=\"text-align:left\">type()</td>\n",
    "  </tr>\n",
    "  <tr>\n",
    "    <td style=\"text-align:left\">chr()</td>\n",
    "    <td style=\"text-align:left\">frozenset()</td>\n",
    "    <td style=\"text-align:left\">list()</td>\n",
    "    <td style=\"text-align:left\">range()</td>\n",
    "    <td style=\"text-align:left\">vars()</td>\n",
    "  </tr>\n",
    "  <tr>\n",
    "    <td style=\"text-align:left\">classmethod()</td>\n",
    "    <td style=\"text-align:left\">getattr()</td>\n",
    "    <td style=\"text-align:left\">locals()</td>\n",
    "    <td style=\"text-align:left\">repr()</td>\n",
    "    <td style=\"text-align:left\">zip()</td>\n",
    "  </tr>\n",
    "  <tr>\n",
    "    <td style=\"text-align:left\">compile()</td>\n",
    "    <td style=\"text-align:left\">globals()</td>\n",
    "    <td style=\"text-align:left\">map()</td>\n",
    "    <td style=\"text-align:left\">reversed()</td>\n",
    "    <td style=\"text-align:left\">__import__()</td>\n",
    "  </tr>\n",
    "  <tr>\n",
    "    <td style=\"text-align:left\">complex()</td>\n",
    "    <td style=\"text-align:left\">hasattr()</td>\n",
    "    <td style=\"text-align:left\">max()</td>\n",
    "    <td style=\"text-align:left\">round()</td>\n",
    "    <td style=\"text-align:left\"></td>\n",
    "  </tr>\n",
    "</table>"
   ]
  },
  {
   "cell_type": "markdown",
   "metadata": {},
   "source": [
    "### Função max( )\n",
    "Calcula o máximo dos valores passados como argumentos, ou o maior valor lexicográfico se strings forem passadas como argumentos.  \n",
    "\n",
    "Sintaxe: `max(a, b, c, ..., key, default)`\n",
    "Parâmetros (tipo de dados semelhantes): \n",
    "> `a, b, c, ...`  \n",
    "> `key`: função, ou expressão lambda, de comparação onde os iteráveis são passados e a comparação é realizada  \n",
    "> `default`: valor padrão passado se o iterável fornecido estiver vazio  \n",
    "> Retorno: valor máximo entre todos os argumentos  \n",
    "> Exceções: retorna **TypeError** quando tipos conflitantes são comparados.  \n",
    "\n",
    "**Exemplos:**"
   ]
  },
  {
   "cell_type": "code",
   "execution_count": 4,
   "metadata": {},
   "outputs": [
    {
     "name": "stdout",
     "output_type": "stream",
     "text": [
      "Máximo de (4, 12, 43.5, 19, 83, 18, 31, 45) é:  83\n",
      "Mínimo de (4, 12, 43.5, 19, 83, 18, 31, 45) é:  4\n"
     ]
    }
   ],
   "source": [
    "idade = (4,12,43.5,19,83,18,31,45)\n",
    "print(\"Máximo de\", idade, \"é: \", max(idade))\n",
    "print(\"Mínimo de\", idade, \"é: \", min(idade))"
   ]
  },
  {
   "cell_type": "markdown",
   "metadata": {},
   "source": [
    "Lançamento de exceção **TypeError**:"
   ]
  },
  {
   "cell_type": "code",
   "execution_count": 5,
   "metadata": {},
   "outputs": [
    {
     "ename": "TypeError",
     "evalue": "'>' not supported between instances of 'str' and 'tuple'",
     "output_type": "error",
     "traceback": [
      "\u001b[1;31m---------------------------------------------------------------------------\u001b[0m",
      "\u001b[1;31mTypeError\u001b[0m                                 Traceback (most recent call last)",
      "\u001b[1;32m<ipython-input-5-b26c25cc0df0>\u001b[0m in \u001b[0;36m<module>\u001b[1;34m\u001b[0m\n\u001b[0;32m      1\u001b[0m \u001b[0mmistura\u001b[0m \u001b[1;33m=\u001b[0m \u001b[1;33m[\u001b[0m\u001b[0midade\u001b[0m\u001b[1;33m,\u001b[0m \u001b[1;34m\"IFG\"\u001b[0m\u001b[1;33m]\u001b[0m\u001b[1;33m\u001b[0m\u001b[1;33m\u001b[0m\u001b[0m\n\u001b[1;32m----> 2\u001b[1;33m \u001b[0mprint\u001b[0m\u001b[1;33m(\u001b[0m\u001b[1;34m\"Máximo de\"\u001b[0m\u001b[1;33m,\u001b[0m \u001b[0mmistura\u001b[0m\u001b[1;33m,\u001b[0m \u001b[1;34m\"é: \"\u001b[0m\u001b[1;33m,\u001b[0m \u001b[0mmax\u001b[0m\u001b[1;33m(\u001b[0m\u001b[0mmistura\u001b[0m\u001b[1;33m)\u001b[0m\u001b[1;33m)\u001b[0m\u001b[1;33m\u001b[0m\u001b[1;33m\u001b[0m\u001b[0m\n\u001b[0m",
      "\u001b[1;31mTypeError\u001b[0m: '>' not supported between instances of 'str' and 'tuple'"
     ]
    }
   ],
   "source": [
    "mistura = [idade, \"IFG\"]\n",
    "print(\"Máximo de\", mistura, \"é: \", max(mistura))"
   ]
  },
  {
   "cell_type": "markdown",
   "metadata": {},
   "source": [
    "Posição do valor mínimo:"
   ]
  },
  {
   "cell_type": "code",
   "execution_count": 13,
   "metadata": {},
   "outputs": [
    {
     "name": "stdout",
     "output_type": "stream",
     "text": [
      "Mínimo: 1 Índice: 5\n"
     ]
    }
   ],
   "source": [
    "lista = [3,6,13,9,6,1,15]\n",
    "print(\"Mínimo:\", min(lista), end=' ')\n",
    "print(\"Índice:\", min(range(len(lista)), key=lista.__getitem__))"
   ]
  },
  {
   "cell_type": "markdown",
   "metadata": {},
   "source": [
    "### <a style=\"color: red\">Exercícios</a>   \n",
    "<figure id=\"img\" style=\"float:right\">\n",
    "    <img src=\"img/altura_arvore.jpg\" alt=\"imagem - altura do pinheiro\" align=\"right\" style=\"width:200px; height:150px;\" border=\"25px\">\n",
    "    <figcaption><strong>Altura da Árvore</strong></figcaption>\n",
    "</figure> \n",
    "\n",
    "<ol><li>Pode-se usar a trigonometria para encontrar a altura das árvores. A altura de uma árvore, $h$ é igual a distância\n",
    "$d$ entre um observador e a base da árvore multiplicada pela tangente do ângulo $\\alpha$ formado por uma reta paralela ao solo e por outra reta do topo da árvore, de acordo com a fórmula:\n",
    "\n",
    "$$h=d.tg(\\alpha)$$\n",
    "\n",
    "Se um observador de 1,70 m de estatura está a 6 metros da base de um pinheiro e olha para cima num ângulo de 63 graus em relação ao nível de seus olhos, para enxergar o topo da árvore, qual é a altura da árvore?</li>  \n",
    "<p> \n",
    "<figure id=\"img\" style=\"float:right\">\n",
    "  <img src=\"img/CR2450N.jpg\" alt=\"imagem - bateria tipo botão\" align=\"right\" style=\"width:200px; height:150px;\" border=\"25px\">\n",
    "</figure>\n",
    "<li>As baterias do tipo célula de botão são muito usadas em equipamentos eletrônicos de baixo consumo (relógios, termômetros etc.). O modelo <b>CR2450N</b> tem tensão de 3 V e capacidade de 540 mAh, e a química usada é de íons de Lítio e óxido de manganês (Li/MnO2). Faça um script que leia a corrente de entrada de uma placa eletrônica alimentada por uma <b>CR2450N</b> e mostre a autonomia alcançada por essa bateria.\n",
    "</li>\n",
    "<p>    \n",
    "<li>Idem para o modelo <b>CR2032</b> que também tem 3 V e capacidade de 220 mAh, e a química usada é de íons de Lítio (Li).\n",
    "</li>\n",
    "<p>\n",
    "<figure id=\"img\" style=\"float:right\">\n",
    "  <img src=\"img/lancamento.jpg\" alt=\"imagem - lançamento de uma bola de golfe\" align=\"right\" style=\"width:300px; height:150px;\" border=\"25px\">\n",
    "</figure>    \n",
    "<li>A distancia $d$ que um corpo alcança em um lançamento oblíquo depende da velocidade inicial do corpo $V_0$, da aceleração  da gravidade $G=9,81 m/s^2$ e do ângulo $\\theta$ que o corpo é lançado, de acordo com:\n",
    "    $$d=\\frac{V_0}{g}.sen(\\theta)$$\n",
    "Faça um script que mostre a distância percorrida pelo projétil considerando $V_0=150 m/s$ e com ângulos de lançamento variando de 10 a 80 graus, montando uma tabela de dados.\n",
    "</li></ol>"
   ]
  },
  {
   "cell_type": "code",
   "execution_count": 5,
   "metadata": {},
   "outputs": [
    {
     "name": "stdout",
     "output_type": "stream",
     "text": [
      "Altura do pinheiro:  13.5 m\n"
     ]
    }
   ],
   "source": [
    "# Solução do Exercício 1 - Altura da Árvore\n",
    "import math\n",
    "alfa = 63 * math.pi / 180          # 63o. de inclinação\n",
    "d = 6                              # distância de 6 m\n",
    "h = d * math.tan(alfa)             # altura da árvore a partir da estatura do observador\n",
    "print(\"Altura da árvore: %5.1f m\" % (h + 1.7))"
   ]
  },
  {
   "cell_type": "markdown",
   "metadata": {},
   "source": [
    "<p style=\"text-align:right;\"><a href=\"#topo\">Volta ao topo</a></p>"
   ]
  },
  {
   "cell_type": "markdown",
   "metadata": {},
   "source": [
    "<a id=\"2.\"></a>\n",
    "## 2. Tipos de Dado e Conversões de Tipos (*casting*)"
   ]
  },
  {
   "cell_type": "markdown",
   "metadata": {},
   "source": [
    "Os Dados em Python podem ser manipulados via um dos cinco tipos citados a seguir: Números, None, Sequências (listas, tuplas), Conjuntos ou Mapeamentos.\n",
    "\n",
    "Exemplos:"
   ]
  },
  {
   "cell_type": "code",
   "execution_count": 6,
   "metadata": {},
   "outputs": [
    {
     "name": "stdout",
     "output_type": "stream",
     "text": [
      "2\n",
      "<class 'int'>\n"
     ]
    }
   ],
   "source": [
    "# Inteiro:\n",
    "print(1 + 1)\n",
    "a = 4\n",
    "print(type(a))"
   ]
  },
  {
   "cell_type": "code",
   "execution_count": 7,
   "metadata": {},
   "outputs": [
    {
     "name": "stdout",
     "output_type": "stream",
     "text": [
      "<class 'float'>\n"
     ]
    }
   ],
   "source": [
    "# Real   -->   python2: <type 'float'>      python3: <class 'float'>\n",
    "c = 2.1\n",
    "print(type(c))"
   ]
  },
  {
   "cell_type": "code",
   "execution_count": 9,
   "metadata": {},
   "outputs": [
    {
     "name": "stdout",
     "output_type": "stream",
     "text": [
      "(1.5+0.5j) 1.5 0.5\n",
      "<class 'complex'>\n"
     ]
    }
   ],
   "source": [
    "# Complexo   -->   python2: <type 'complex'>      python3: <class 'complex'> \n",
    "a = 1.5 + 0.5j\n",
    "print(a, a.real, a.imag)\n",
    "print(type(1. + 0j))"
   ]
  },
  {
   "cell_type": "code",
   "execution_count": 10,
   "metadata": {},
   "outputs": [
    {
     "name": "stdout",
     "output_type": "stream",
     "text": [
      "False\n",
      "False <class 'bool'> \n",
      " True <class 'bool'>\n"
     ]
    }
   ],
   "source": [
    "# Lógico   -->   python2: <type 'bool'>      python3: <class 'bool'>\n",
    "continua = True\n",
    "print(3 > 4)\n",
    "teste = (3 > 4)\n",
    "print(teste, type(teste), '\\n', continua, type(continua))      # 'type()' é uma função da biblioteca padrão"
   ]
  },
  {
   "cell_type": "code",
   "execution_count": 11,
   "metadata": {},
   "outputs": [
    {
     "data": {
      "text/plain": [
       "(1.5, 1)"
      ]
     },
     "execution_count": 11,
     "metadata": {},
     "output_type": "execute_result"
    }
   ],
   "source": [
    "# Aviso   -->    python2: divisão inteira    python3: divisão real\n",
    "3/2, int(3/2)"
   ]
  },
  {
   "cell_type": "code",
   "execution_count": null,
   "metadata": {},
   "outputs": [],
   "source": [
    "# Dica python2: use operandos reais, ou pelo menos um dos operandos do tipo real\n",
    "3/2."
   ]
  },
  {
   "cell_type": "code",
   "execution_count": null,
   "metadata": {},
   "outputs": [],
   "source": [
    "# Dica python3: divisão inteira\n",
    "3//2"
   ]
  },
  {
   "cell_type": "code",
   "execution_count": null,
   "metadata": {},
   "outputs": [],
   "source": [
    "a, b = 3, 2\n",
    "print(a//b, a/float(b))"
   ]
  },
  {
   "cell_type": "markdown",
   "metadata": {},
   "source": [
    "Identificadores podem ser de qualquer tamanho em python. Mas o guia de estilo padrão do Python, o PEP-8 (_Python Enhancement Proposal_ - Proposta de aprimoramento do Python), limita o comprimento da linha a um máximo de 79 caracteres."
   ]
  },
  {
   "cell_type": "markdown",
   "metadata": {},
   "source": [
    "### Conversão de Tipo (*casting*)\n",
    "Permite a conversão de variáveis de um tipo de dado em outro. O Python possui algumas funções internas que se prestam à conversão de tipos. Vimos exemplos de variáveis de dados numéricos (inteiros e reais/ponto flutuante), de dados literais  *string* (cadeias de caracteres) e dos tipos lógico e complexo. \n",
    "\n",
    "Funções de conversão de tipo de dados: <tt>int(), float(), str(), bool(), complex()</tt>."
   ]
  },
  {
   "cell_type": "markdown",
   "metadata": {},
   "source": [
    "### Conversão para Inteiros\n",
    "A função `int()` é usada para converter *strings* ou *floats* em números inteiros. Observe que se a *string* não resultar num valor inteiro então uma mensagem de **erro de valor** será mostrada ao se solicitar a conversão de tipo para inteiro."
   ]
  },
  {
   "cell_type": "code",
   "execution_count": 12,
   "metadata": {},
   "outputs": [
    {
     "name": "stdout",
     "output_type": "stream",
     "text": [
      "2553\n",
      "IFG \n",
      "   Curso de Python \n",
      "   Prof. Cláudio, 41\n"
     ]
    }
   ],
   "source": [
    "print(int('2553'))\n",
    "# escrita do comando de atribuição continua na linha seguinte\n",
    "a = \\\n",
    "\"\"\"IFG \n",
    "   Curso de Python \n",
    "   Prof. Cláudio\"\"\" \n",
    "print(a, len(a), sep=', ')"
   ]
  },
  {
   "cell_type": "code",
   "execution_count": 15,
   "metadata": {},
   "outputs": [
    {
     "data": {
      "text/plain": [
       "2553"
      ]
     },
     "execution_count": 15,
     "metadata": {},
     "output_type": "execute_result"
    }
   ],
   "source": [
    "int(float('2553.49'))"
   ]
  },
  {
   "cell_type": "code",
   "execution_count": 16,
   "metadata": {},
   "outputs": [
    {
     "data": {
      "text/plain": [
       "2553"
      ]
     },
     "execution_count": 16,
     "metadata": {},
     "output_type": "execute_result"
    }
   ],
   "source": [
    "int(2553.49)"
   ]
  },
  {
   "cell_type": "markdown",
   "metadata": {},
   "source": [
    "### Conversão para Strings\n",
    "Use a função <tt>str()</tt> sem qualquer restrição de valor para gerar uma cadeia de caracteres (*string*)."
   ]
  },
  {
   "cell_type": "code",
   "execution_count": 17,
   "metadata": {
    "scrolled": true
   },
   "outputs": [
    {
     "data": {
      "text/plain": [
       "'2553.45'"
      ]
     },
     "execution_count": 17,
     "metadata": {},
     "output_type": "execute_result"
    }
   ],
   "source": [
    "str(2553.45)"
   ]
  },
  {
   "cell_type": "markdown",
   "metadata": {},
   "source": [
    "### <a style=\"color: red\">Exercícios</a>\n",
    "<ol><li>Porque a conversão seguinte apresenta mensagem de erro?  </li></ol>\n",
    "\n",
    "<!--- A função espera por um único argumento e são passados dois: 2334 e 45... Talvez o usuário estivesse querendo converter o número real 2334,45 em string, mas a representação correta é feita com ponto decimal, '.' e não com vírgula decimal ',', ou seja, talvez a conversão str(2334.45) fosse a desejada...--->"
   ]
  },
  {
   "cell_type": "markdown",
   "metadata": {},
   "source": [
    "<ol start=\"2\"><li>Dado o raio de uma circunferência, calcule e mostre a área da circunferência. <i>Dica</i>: $A_{circ} = \\pi.r^2$</li>\n",
    "<p>\n",
    "    <li>Dado o raio de uma esfera, calcule e mostre o volume da circunferência. <i>Dica</i>: $V_{esf} = \\frac{4}{3}\\pi.r^3$</li>\n",
    "    <p>\n",
    "    <li>O valor de um investimento $V$ composto anualmente a uma taxa de juros de $r\\%$ depois de $n$ anos depende do investimento inicial $V_0$ é dado por:  \n",
    "        \n",
    "$$V=V_0.(1+r/100)^n$$\n",
    "        \n",
    "Supondo um investimento inicial de R$ 1.000,00 e uma taxa de juros anual de 4\\% qual será o capital depois de 20 anos?\n",
    "</li>\n",
    "</ol>"
   ]
  },
  {
   "cell_type": "code",
   "execution_count": 96,
   "metadata": {},
   "outputs": [
    {
     "name": "stdout",
     "output_type": "stream",
     "text": [
      "Capital: R$ 2191.123143033421\n",
      "Capital: R$ 2191.12\n"
     ]
    }
   ],
   "source": [
    "# Solução do Exercício 1 - Altura da Árvore\n",
    "Vo = 1000                        # capital inicial\n",
    "r = 4                            # taxa de juros anual\n",
    "n = 20                           # intervalo de tempo da aplicação\n",
    "V = Vo * (1 + r/100)**n          # capital final do investimento\n",
    "print(\"Capital: R$\", V)         # sem formatação\n",
    "print(\"Capital: R$ %.2f\" % V)    # com formatação semelhante à função printf() da ling. C"
   ]
  },
  {
   "cell_type": "markdown",
   "metadata": {},
   "source": [
    "Quando escrevemos múltiplas variáveis na instrução ***print***, conversões de *strings* podem ser usadas para se fazer a concatenação das strings."
   ]
  },
  {
   "cell_type": "code",
   "execution_count": 22,
   "metadata": {},
   "outputs": [
    {
     "name": "stdout",
     "output_type": "stream",
     "text": [
      "Real = 255.45   Inteiro = -54\n"
     ]
    }
   ],
   "source": [
    "print('Real = ' + str(255.45) + '   Inteiro = ' + str(-54))"
   ]
  },
  {
   "cell_type": "markdown",
   "metadata": {},
   "source": [
    "### <a style=\"color: red\">Exercício</a>\n",
    "Você consegue gerar um código para fazer a mesma impressão anterior sem usar concatenação de strings?\n",
    "<!--- print('Real =',255.45,'  Inteiro =',-54) --->"
   ]
  },
  {
   "cell_type": "markdown",
   "metadata": {},
   "source": [
    "### Conversão para valores numéricos Reais\n",
    "A função `float()` é usada para converter *strings* ou inteiros em valores reais."
   ]
  },
  {
   "cell_type": "code",
   "execution_count": 24,
   "metadata": {},
   "outputs": [
    {
     "name": "stdout",
     "output_type": "stream",
     "text": [
      "54.0 54.221\n"
     ]
    }
   ],
   "source": [
    "print(float(54), float('54.221'))"
   ]
  },
  {
   "cell_type": "markdown",
   "metadata": {},
   "source": [
    "<p style=\"text-align:right;\"><a href=\"#topo\">Volta ao topo</a></p>"
   ]
  },
  {
   "cell_type": "markdown",
   "metadata": {},
   "source": [
    "<a id=\"3.\"></a>\n",
    "## 3. String"
   ]
  },
  {
   "cell_type": "markdown",
   "metadata": {},
   "source": [
    "As *strings* são estruturas de dados usadas para manipular informações do tipo textual, tais como nome, endereço, mensagem etc. O Python define o tipo de dados `str` para manipular e monitorar os elementos da *string*, ou seja, a sequência de caracteres. Por exemplo, o Python entende que a *string* \"IFG\" é uma sequência de letras com uma ordem específica. Isso significa que podemos usar a indexação para acessar letras específicas (como a primeira ou a última letra, por exemplo). \n",
    "<img src=\"img/string.png\" alt=\"img/string.png\" class=\"align-right\" style=\"width: 500.0px; height: 150.0px;\">\n",
    "\n",
    "- **Criando *Strings***\n",
    "Para criar uma *string* em Python você precisa usar aspas simples ou aspas duplas para delimitar a sequência de caracteres. \n",
    "Por exemplo (usando comentário na primeira linha):"
   ]
  },
  {
   "cell_type": "code",
   "execution_count": 25,
   "metadata": {},
   "outputs": [
    {
     "data": {
      "text/plain": [
       "'IFG'"
      ]
     },
     "execution_count": 25,
     "metadata": {},
     "output_type": "execute_result"
    }
   ],
   "source": [
    "# palavra única\n",
    "'IFG'"
   ]
  },
  {
   "cell_type": "code",
   "execution_count": 14,
   "metadata": {},
   "outputs": [
    {
     "data": {
      "text/plain": [
       "'Bem-vindos ao Curso de Extensão do IFG 2019-1'"
      ]
     },
     "execution_count": 14,
     "metadata": {},
     "output_type": "execute_result"
    }
   ],
   "source": [
    "# -*- coding: utf-8 -*-\n",
    "# uma frase com caracter de extensão na versão 2.x\n",
    "u'Bem-vindos ao Curso de Extensão do IFG 2019-1'"
   ]
  },
  {
   "cell_type": "code",
   "execution_count": 16,
   "metadata": {},
   "outputs": [
    {
     "ename": "SyntaxError",
     "evalue": "invalid syntax (<ipython-input-16-2fce13ee096c>, line 2)",
     "output_type": "error",
     "traceback": [
      "\u001b[1;36m  File \u001b[1;32m\"<ipython-input-16-2fce13ee096c>\"\u001b[1;36m, line \u001b[1;32m2\u001b[0m\n\u001b[1;33m    'Valor de 'x' no programa?'\u001b[0m\n\u001b[1;37m               ^\u001b[0m\n\u001b[1;31mSyntaxError\u001b[0m\u001b[1;31m:\u001b[0m invalid syntax\n"
     ]
    }
   ],
   "source": [
    "# erro de sintaxe\n",
    "'Valor de 'x' no programa?'"
   ]
  },
  {
   "cell_type": "markdown",
   "metadata": {},
   "source": [
    "A causa do erro na *string* definida logo acima é a aspa simples delimitando duas *strings* e o caractere 'x' ficou entre elas sem delimitação. <p style=\"color:red\">Solução: use combinações de aspas duplas e simples para obter a declaração correta."
   ]
  },
  {
   "cell_type": "code",
   "execution_count": 28,
   "metadata": {},
   "outputs": [
    {
     "data": {
      "text/plain": [
       "\"Valor de 'x' no programa?\""
      ]
     },
     "execution_count": 28,
     "metadata": {},
     "output_type": "execute_result"
    }
   ],
   "source": [
    "\"Valor de 'x' no programa?\""
   ]
  },
  {
   "cell_type": "markdown",
   "metadata": {},
   "source": [
    "- **Imprimindo *Strings***\n",
    "Usar a sequência de caracteres (*string*) no prompt (<tt>>>></tt>) do interpretador mostrará automaticamente seu valor, mas a maneira correta de exibir as *strings* na saída padrão (monitor de vídeo) é usar a instrução de impressão: ***print***.\n"
   ]
  },
  {
   "cell_type": "code",
   "execution_count": 30,
   "metadata": {},
   "outputs": [
    {
     "data": {
      "text/plain": [
       "'Aprendizado de Máquina'"
      ]
     },
     "execution_count": 30,
     "metadata": {},
     "output_type": "execute_result"
    }
   ],
   "source": [
    "\"Aprendizado de Máquina\""
   ]
  },
  {
   "cell_type": "code",
   "execution_count": 1,
   "metadata": {
    "scrolled": true
   },
   "outputs": [
    {
     "name": "stdout",
     "output_type": "stream",
     "text": [
      "Aprendizado de Máquina\n"
     ]
    }
   ],
   "source": [
    "print(\"Aprendizado de Máquina\")"
   ]
  },
  {
   "cell_type": "markdown",
   "metadata": {},
   "source": [
    "- Diferenças na Impressão em Python 2 e 3\n",
    "Na versão 2.x a impressão é realizada por uma instrução (sentença, comando) enquanto que na versão 3.x a impressão é feita por uma função: ***print( )***.\n"
   ]
  },
  {
   "cell_type": "code",
   "execution_count": 32,
   "metadata": {},
   "outputs": [
    {
     "name": "stdout",
     "output_type": "stream",
     "text": [
      "Vamos aprender mais sobre strings!\n"
     ]
    }
   ],
   "source": [
    "print(\"Vamos aprender mais sobre strings!\")"
   ]
  },
  {
   "cell_type": "code",
   "execution_count": 33,
   "metadata": {},
   "outputs": [
    {
     "name": "stdout",
     "output_type": "stream",
     "text": [
      "Use \n",
      " para imprimir em uma nova linha. \n",
      "--> \n",
      " equivale a CR + NL (Carriage Return + New Line)\n"
     ]
    }
   ],
   "source": [
    "print(\"Use \\n para imprimir em uma nova linha. \\n--> \\n equivale a CR + NL (Carriage Return + New Line)\")"
   ]
  },
  {
   "cell_type": "code",
   "execution_count": 34,
   "metadata": {},
   "outputs": [
    {
     "name": "stdout",
     "output_type": "stream",
     "text": [
      "\n",
      "Entendeu?\n"
     ]
    }
   ],
   "source": [
    "print('\\nEntendeu?')"
   ]
  },
  {
   "cell_type": "markdown",
   "metadata": {},
   "source": [
    "No python3 a saída de dados no dispositivo padrão, `stdout`, é feita da seguinte forma:  \n",
    "**print('Olá Mundo!')**.  \n",
    "\n",
    "Se você quiser usar esta mesma funcionalidade (função `print()`) no python2, você pode importar o pacote `future`. \n",
    "\n",
    "**Atenção**: Depois de importar esse pacote, você não poderá mais escolher o método de declaração da função de impressão. Então, escolha o que você preferir, dependendo da sua instalação do Python e continue com ele."
   ]
  },
  {
   "cell_type": "code",
   "execution_count": null,
   "metadata": {},
   "outputs": [],
   "source": [
    "from __future__ import print_function\n",
    "print('Função print da Vs. 3.4, sendo usada na Vs. 2.x')"
   ]
  },
  {
   "cell_type": "code",
   "execution_count": null,
   "metadata": {},
   "outputs": [],
   "source": [
    "print(\"Entendeu?\")"
   ]
  },
  {
   "cell_type": "markdown",
   "metadata": {},
   "source": [
    "Uma instrução **\\__future\\__** é uma diretiva do interpretador que avisa sobre um módulo específico que deve ser traduzido usando a sintaxe ou a semântica que estará disponível em uma versão futura do Python. A declaração **\\__future\\__** destina-se a facilitar a migração dos seus *scripts* para versões futuras do Python que introduzam alterações incompatíveis à versão da linguagem que vc estiver usando. Essa instrução permite o uso dos novos recursos por módulo antes do lançamento no qual o recurso se torna padrão.\n",
    "\n",
    "É como dizer: \n",
    "> <p style=\"color:green\">Use a função <b><i>print( )</i></b> no Python v2.7 tal como ela existe no Python 3.4 .</p>   \n",
    "\n",
    "Então, o ***'print'*** não será mais uma instrução: ***print \"mensagem\"***, mas uma função: ***print(\"mensagem\")***. Dessa forma, quando seu código for executado na versão Python 3.x, ***print( )*** não interromperá o _script_.\n",
    "\n",
    "- **Tamanho de uma String**\n",
    "Usamos a função nativa chamada <tt>len()</tt> para verificar o tamanho de uma *string*."
   ]
  },
  {
   "cell_type": "code",
   "execution_count": 35,
   "metadata": {
    "scrolled": true
   },
   "outputs": [
    {
     "data": {
      "text/plain": [
       "9"
      ]
     },
     "execution_count": 35,
     "metadata": {},
     "output_type": "execute_result"
    }
   ],
   "source": [
    "len(\"Entendeu?\")    # length --> comprimento"
   ]
  },
  {
   "cell_type": "markdown",
   "metadata": {},
   "source": [
    "- **Indexação e Fatiamento (Slicing) de Strings**  \n",
    "Sabemos que *strings* são sequências de caracteres, o que significa que o Python pode usar índices para acessar partes da sequência. \n",
    "\n",
    "Em Python, usamos colchetes <tt>[ ]</tt> depois de um objeto para acessar o conteúdo indicado pelo índice. Também devemos notar que, para o Python, a indexação começa em 0 (zero), ou seja, o primeiro caractere de uma *string* é referenciado pelo índice 0. Vamos criar um novo objeto chamado <b><tt>s</tt></b> e fazer alguns exemplos de indexação. "
   ]
  },
  {
   "cell_type": "code",
   "execution_count": 17,
   "metadata": {},
   "outputs": [
    {
     "data": {
      "text/plain": [
       "'Bom dia Bia!'"
      ]
     },
     "execution_count": 17,
     "metadata": {},
     "output_type": "execute_result"
    }
   ],
   "source": [
    "# atribuindo uma seq. de caracteres a um objeto 's'\n",
    "s = 'Bom dia Bia!'\n",
    "# verificando\n",
    "s"
   ]
  },
  {
   "cell_type": "code",
   "execution_count": 18,
   "metadata": {},
   "outputs": [
    {
     "name": "stdout",
     "output_type": "stream",
     "text": [
      "Bom dia Bia!\n",
      "12 caracteres\n"
     ]
    }
   ],
   "source": [
    "# imprimindo o conteúdo do objeto\n",
    "print(s)\n",
    "# imprimindo o comprimento da string\n",
    "print(len(s), 'caracteres')"
   ]
  },
  {
   "cell_type": "markdown",
   "metadata": {},
   "source": [
    "- **Acessando apenas um caractere** da sequência de caracteres..."
   ]
  },
  {
   "cell_type": "code",
   "execution_count": 38,
   "metadata": {},
   "outputs": [
    {
     "data": {
      "text/plain": [
       "'B'"
      ]
     },
     "execution_count": 38,
     "metadata": {},
     "output_type": "execute_result"
    }
   ],
   "source": [
    "# primeiro caracter da string\n",
    "s[0]"
   ]
  },
  {
   "cell_type": "code",
   "execution_count": 39,
   "metadata": {},
   "outputs": [
    {
     "data": {
      "text/plain": [
       "('o', 'a')"
      ]
     },
     "execution_count": 39,
     "metadata": {},
     "output_type": "execute_result"
    }
   ],
   "source": [
    "# segundo e sétimo caracteres da string\n",
    "s[1], s[6]"
   ]
  },
  {
   "cell_type": "code",
   "execution_count": 42,
   "metadata": {},
   "outputs": [
    {
     "data": {
      "text/plain": [
       "('!', '!')"
      ]
     },
     "execution_count": 42,
     "metadata": {},
     "output_type": "execute_result"
    }
   ],
   "source": [
    "# último caracter da string\n",
    "s[len(s)-1], s[-1]"
   ]
  },
  {
   "cell_type": "code",
   "execution_count": 43,
   "metadata": {},
   "outputs": [
    {
     "data": {
      "text/plain": [
       "'a'"
      ]
     },
     "execution_count": 43,
     "metadata": {},
     "output_type": "execute_result"
    }
   ],
   "source": [
    "# penúltimo caracter da string\n",
    "s[-2]"
   ]
  },
  {
   "cell_type": "markdown",
   "metadata": {},
   "source": [
    "- **Fatiamento** (*slicing*): acessando partes da sequência de caracteres, a partir da informação do início e do final da fatia. Pode-se acrescentar o passo na seleção dos caracteres do fatiamento.\n",
    "\n",
    "### string[início:final[:passo]]"
   ]
  },
  {
   "cell_type": "code",
   "execution_count": 44,
   "metadata": {},
   "outputs": [
    {
     "data": {
      "text/plain": [
       "'Bom'"
      ]
     },
     "execution_count": 44,
     "metadata": {},
     "output_type": "execute_result"
    }
   ],
   "source": [
    "# Acessando os três primeiros caracteres da string\n",
    "s[0:3]"
   ]
  },
  {
   "cell_type": "code",
   "execution_count": 45,
   "metadata": {},
   "outputs": [
    {
     "data": {
      "text/plain": [
       "'Bom'"
      ]
     },
     "execution_count": 45,
     "metadata": {},
     "output_type": "execute_result"
    }
   ],
   "source": [
    "# ou\n",
    "s[:3]"
   ]
  },
  {
   "cell_type": "code",
   "execution_count": 46,
   "metadata": {},
   "outputs": [
    {
     "data": {
      "text/plain": [
       "('Bom dia Bia!', 'dia Bia!')"
      ]
     },
     "execution_count": 46,
     "metadata": {},
     "output_type": "execute_result"
    }
   ],
   "source": [
    "s, s[4:len(s)]"
   ]
  },
  {
   "cell_type": "code",
   "execution_count": 47,
   "metadata": {},
   "outputs": [
    {
     "data": {
      "text/plain": [
       "'dia Bia!'"
      ]
     },
     "execution_count": 47,
     "metadata": {},
     "output_type": "execute_result"
    }
   ],
   "source": [
    "s[4:]"
   ]
  },
  {
   "cell_type": "markdown",
   "metadata": {},
   "source": [
    "Observe o primeiro fatiamento acima: **<tt>s[0:3]</tt>**. Aqui estamos dizendo ao Python para acessar os caracteres de <tt>s</tt>, do índice 0 até 3, <b>não incluindo o índice 3</b> (quarta posição). Você notará esse comportamento muitas vezes em Python, onde as declarações geralmente estão no contexto \"até, mas não incluindo\".\n",
    "\n",
    "Também podemos usar a notação de índice e fatia para acessar elementos de uma sequência com um determinado incremento (o padrão é passo unitário). Por exemplo, podemos usar dois dois-pontos em uma linha e, em seguida, um número especificando a frequência para acessar os elementos. Por exemplo:"
   ]
  },
  {
   "cell_type": "code",
   "execution_count": 22,
   "metadata": {},
   "outputs": [
    {
     "data": {
      "text/plain": [
       "'E.eore tao'"
      ]
     },
     "execution_count": 22,
     "metadata": {},
     "output_type": "execute_result"
    }
   ],
   "source": [
    "curso = \"Eng. de Controle e Automação\"\n",
    "curso[::3]"
   ]
  },
  {
   "cell_type": "code",
   "execution_count": 48,
   "metadata": {
    "scrolled": true
   },
   "outputs": [
    {
     "data": {
      "text/plain": [
       "'BmdaBa'"
      ]
     },
     "execution_count": 48,
     "metadata": {},
     "output_type": "execute_result"
    }
   ],
   "source": [
    "# usando passo dois no acesso aos caracteres da string\n",
    "s[::2]"
   ]
  },
  {
   "cell_type": "code",
   "execution_count": 49,
   "metadata": {
    "scrolled": true
   },
   "outputs": [
    {
     "data": {
      "text/plain": [
       "'daBa'"
      ]
     },
     "execution_count": 49,
     "metadata": {},
     "output_type": "execute_result"
    }
   ],
   "source": [
    "s[4::2]    # s contém 'Bom dia Bia!'"
   ]
  },
  {
   "cell_type": "markdown",
   "metadata": {},
   "source": [
    "Acessando os caracteres da *string* de trás para frente (em ordem inversa):"
   ]
  },
  {
   "cell_type": "code",
   "execution_count": 50,
   "metadata": {},
   "outputs": [
    {
     "data": {
      "text/plain": [
       "'!aiB aid moB'"
      ]
     },
     "execution_count": 50,
     "metadata": {},
     "output_type": "execute_result"
    }
   ],
   "source": [
    "s[::-1]"
   ]
  },
  {
   "cell_type": "code",
   "execution_count": 51,
   "metadata": {},
   "outputs": [
    {
     "data": {
      "text/plain": [
       "'nohtyP'"
      ]
     },
     "execution_count": 51,
     "metadata": {},
     "output_type": "execute_result"
    }
   ],
   "source": [
    "p = 'Python'\n",
    "p[::-1]"
   ]
  },
  {
   "cell_type": "markdown",
   "metadata": {},
   "source": [
    "- **Características das Strings**\n",
    "\n",
    "É importante notar que as *strings* são estruturas imutáveis. Isso significa que uma vez criada a *string*, os componentes (caracteres) dela não podem ser alterados ou suprimidos. Por exemplo:"
   ]
  },
  {
   "cell_type": "code",
   "execution_count": null,
   "metadata": {},
   "outputs": [],
   "source": [
    "s"
   ]
  },
  {
   "cell_type": "code",
   "execution_count": null,
   "metadata": {},
   "outputs": [],
   "source": [
    "s[0] = 'C'"
   ]
  },
  {
   "cell_type": "markdown",
   "metadata": {},
   "source": [
    "Observe como o erro nos diz diretamente o que não podemos fazer: **objeto 'str' não admite atribuição de item!**.\n",
    "O que podemos fazer é concatenar strings ou copiar para outra variável!"
   ]
  },
  {
   "cell_type": "code",
   "execution_count": 52,
   "metadata": {},
   "outputs": [
    {
     "data": {
      "text/plain": [
       "'Bom dia Bia! Vamos tomar um cafezinho?'"
      ]
     },
     "execution_count": 52,
     "metadata": {},
     "output_type": "execute_result"
    }
   ],
   "source": [
    "s + ' Vamos tomar um cafezinho?'"
   ]
  },
  {
   "cell_type": "code",
   "execution_count": 53,
   "metadata": {},
   "outputs": [],
   "source": [
    "t = _           # variável com o resultado da última execução realizada pelo interpretador Python"
   ]
  },
  {
   "cell_type": "code",
   "execution_count": 54,
   "metadata": {},
   "outputs": [
    {
     "name": "stdout",
     "output_type": "stream",
     "text": [
      "Bom dia Bia! Vamos tomar um cafezinho?\n"
     ]
    }
   ],
   "source": [
    "print(t)"
   ]
  },
  {
   "cell_type": "markdown",
   "metadata": {},
   "source": [
    "Podemos usar o símbolo de multiplicação para criar repetição de caracteres!"
   ]
  },
  {
   "cell_type": "code",
   "execution_count": 55,
   "metadata": {},
   "outputs": [
    {
     "data": {
      "text/plain": [
       "'////\\\\\\\\////\\\\\\\\////\\\\\\\\////\\\\\\\\////\\\\\\\\////\\\\\\\\////\\\\\\\\////\\\\\\\\'"
      ]
     },
     "execution_count": 55,
     "metadata": {},
     "output_type": "execute_result"
    }
   ],
   "source": [
    "marcador = '////\\\\\\\\'\n",
    "8 * marcador"
   ]
  },
  {
   "cell_type": "markdown",
   "metadata": {},
   "source": [
    "- **Concatenando Strings**:"
   ]
  },
  {
   "cell_type": "code",
   "execution_count": 26,
   "metadata": {},
   "outputs": [
    {
     "name": "stdout",
     "output_type": "stream",
     "text": [
      "TerçaQuintaSábado\n"
     ]
    },
    {
     "data": {
      "text/plain": [
       "(list, str)"
      ]
     },
     "execution_count": 26,
     "metadata": {},
     "output_type": "execute_result"
    }
   ],
   "source": [
    "dias = ['Terça', 'Quinta', 'Sábado']        # lista de dias\n",
    "concat = ', '.join(dias)\n",
    "print(concat)\n",
    "type(dias), type(concat)"
   ]
  },
  {
   "cell_type": "markdown",
   "metadata": {},
   "source": [
    "- **Métodos Nativos de Strings**:\n",
    "\n",
    "Objetos em Python geralmente possuem métodos internos. Esses métodos são funções associadas ao objeto que executam ações ou comandos no próprio objeto.\n",
    "\n",
    "Nós acessamos os métodos de um objeto usando um ponto '.' e depois o nome do método e seus parâmetros entre parênteses: \n",
    "\n",
    "<p style=\"text-align:center;\"><b>nome_objeto.método(parâmetros)</b></p>  \n",
    "\n",
    "onde os parâmetros são argumentos extras que podemos passar ao método. Não se preocupe com os detalhes se não fazem sentido nesse momento para você. Mais tarde criaremos nossos próprios objetos e métodos! \n",
    "\n",
    "Aqui estão exemplos de métodos internos dos objetos *strings*:"
   ]
  },
  {
   "cell_type": "code",
   "execution_count": 68,
   "metadata": {},
   "outputs": [
    {
     "data": {
      "text/plain": [
       "('Bom dia Bia!', 12)"
      ]
     },
     "execution_count": 68,
     "metadata": {},
     "output_type": "execute_result"
    }
   ],
   "source": [
    "s, len(s)"
   ]
  },
  {
   "cell_type": "code",
   "execution_count": 62,
   "metadata": {},
   "outputs": [
    {
     "data": {
      "text/plain": [
       "'BOM DIA BIA!'"
      ]
     },
     "execution_count": 62,
     "metadata": {},
     "output_type": "execute_result"
    }
   ],
   "source": [
    "s.upper()"
   ]
  },
  {
   "cell_type": "code",
   "execution_count": 63,
   "metadata": {},
   "outputs": [
    {
     "data": {
      "text/plain": [
       "'bom dia bia!'"
      ]
     },
     "execution_count": 63,
     "metadata": {},
     "output_type": "execute_result"
    }
   ],
   "source": [
    "s.lower()"
   ]
  },
  {
   "cell_type": "code",
   "execution_count": 35,
   "metadata": {},
   "outputs": [
    {
     "data": {
      "text/plain": [
       "'    bom dia BIA!    '"
      ]
     },
     "execution_count": 35,
     "metadata": {},
     "output_type": "execute_result"
    }
   ],
   "source": [
    "r = '    bom dia BIA!    '\n",
    "r"
   ]
  },
  {
   "cell_type": "markdown",
   "metadata": {},
   "source": [
    "Experimente também os métodos <b><tt>capitalize</tt></b> que retorna uma string com o primeiro caractere em maiúscula e o resto em minúsculas; e <b><tt>strip</tt></b> que retorna uma string removendo caracteres em branco do início e do fim."
   ]
  },
  {
   "cell_type": "code",
   "execution_count": 36,
   "metadata": {},
   "outputs": [
    {
     "name": "stdout",
     "output_type": "stream",
     "text": [
      "bom dia BIA!\n",
      "Bom dia bia!\n"
     ]
    }
   ],
   "source": [
    "m = r.strip()\n",
    "print(m)\n",
    "print(m.capitalize())"
   ]
  },
  {
   "cell_type": "code",
   "execution_count": 29,
   "metadata": {},
   "outputs": [
    {
     "data": {
      "text/plain": [
       "'Bom dia Bia!'"
      ]
     },
     "execution_count": 29,
     "metadata": {},
     "output_type": "execute_result"
    }
   ],
   "source": [
    "r.strip()"
   ]
  },
  {
   "cell_type": "code",
   "execution_count": 70,
   "metadata": {
    "scrolled": false
   },
   "outputs": [
    {
     "name": "stdout",
     "output_type": "stream",
     "text": [
      "['Bom', 'dia', 'Bia!']\n",
      "('Bom', 'dia', 'Bia!')\n",
      "Bom\n"
     ]
    }
   ],
   "source": [
    "# quebra de uma string nos espaços em branco (caracter padrão)\n",
    "saudacao = s.split()\n",
    "st = tuple(saudacao)   # t-upla\n",
    "print(saudacao)\n",
    "print(st)\n",
    "print(saudacao[0])"
   ]
  },
  {
   "cell_type": "code",
   "execution_count": 71,
   "metadata": {},
   "outputs": [
    {
     "name": "stdout",
     "output_type": "stream",
     "text": [
      "['Boa', 'noite', 'Bia!']\n"
     ]
    }
   ],
   "source": [
    "saudacao[0] = 'Boa'\n",
    "saudacao[1] = 'noite'\n",
    "print(saudacao)"
   ]
  },
  {
   "cell_type": "code",
   "execution_count": 72,
   "metadata": {},
   "outputs": [
    {
     "name": "stdout",
     "output_type": "stream",
     "text": [
      "['Boa', 'noite', 'Bia!', 'Tudo bem?']\n"
     ]
    },
    {
     "ename": "AttributeError",
     "evalue": "'tuple' object has no attribute 'append'",
     "output_type": "error",
     "traceback": [
      "\u001b[1;31m---------------------------------------------------------------------------\u001b[0m",
      "\u001b[1;31mAttributeError\u001b[0m                            Traceback (most recent call last)",
      "\u001b[1;32m<ipython-input-72-6f22990aba36>\u001b[0m in \u001b[0;36m<module>\u001b[1;34m\u001b[0m\n\u001b[0;32m      3\u001b[0m \u001b[1;33m\u001b[0m\u001b[0m\n\u001b[0;32m      4\u001b[0m \u001b[1;31m# st[0] = 'qq. coisa'\u001b[0m\u001b[1;33m\u001b[0m\u001b[1;33m\u001b[0m\u001b[1;33m\u001b[0m\u001b[0m\n\u001b[1;32m----> 5\u001b[1;33m \u001b[0mst\u001b[0m\u001b[1;33m.\u001b[0m\u001b[0mappend\u001b[0m\u001b[1;33m(\u001b[0m\u001b[1;34m'isso'\u001b[0m\u001b[1;33m)\u001b[0m\u001b[1;33m\u001b[0m\u001b[1;33m\u001b[0m\u001b[0m\n\u001b[0m",
      "\u001b[1;31mAttributeError\u001b[0m: 'tuple' object has no attribute 'append'"
     ]
    }
   ],
   "source": [
    "saudacao.append('Tudo bem?')\n",
    "print(saudacao)\n",
    "\n",
    "# st[0] = 'qq. coisa'\n",
    "st.append('isso')"
   ]
  },
  {
   "cell_type": "code",
   "execution_count": 75,
   "metadata": {},
   "outputs": [
    {
     "ename": "TypeError",
     "evalue": "'tuple' object does not support item assignment",
     "output_type": "error",
     "traceback": [
      "\u001b[1;31m---------------------------------------------------------------------------\u001b[0m",
      "\u001b[1;31mTypeError\u001b[0m                                 Traceback (most recent call last)",
      "\u001b[1;32m<ipython-input-75-6633ba54344c>\u001b[0m in \u001b[0;36m<module>\u001b[1;34m\u001b[0m\n\u001b[1;32m----> 1\u001b[1;33m \u001b[0mst\u001b[0m\u001b[1;33m[\u001b[0m\u001b[1;36m0\u001b[0m\u001b[1;33m]\u001b[0m \u001b[1;33m=\u001b[0m \u001b[1;34m'Boa'\u001b[0m\u001b[1;33m\u001b[0m\u001b[1;33m\u001b[0m\u001b[0m\n\u001b[0m\u001b[0;32m      2\u001b[0m \u001b[0mprint\u001b[0m\u001b[1;33m(\u001b[0m\u001b[0mst\u001b[0m\u001b[1;33m[\u001b[0m\u001b[1;36m0\u001b[0m\u001b[1;33m]\u001b[0m\u001b[1;33m)\u001b[0m\u001b[1;33m\u001b[0m\u001b[1;33m\u001b[0m\u001b[0m\n",
      "\u001b[1;31mTypeError\u001b[0m: 'tuple' object does not support item assignment"
     ]
    }
   ],
   "source": [
    "st[0] = 'Boa'\n",
    "print(st[0])"
   ]
  },
  {
   "cell_type": "markdown",
   "metadata": {},
   "source": [
    "Você não pode adicionar elementos a uma tupla por essa estrutura de dados ser imutável. Não há método `append()` ou `extend()` para tuplas. Você também não pode remover elementos de uma tupla, também por causa de sua imutabilidade."
   ]
  },
  {
   "cell_type": "code",
   "execution_count": 77,
   "metadata": {},
   "outputs": [
    {
     "name": "stdout",
     "output_type": "stream",
     "text": [
      "['João da Silva', 38, True, 1500.33] [23, 44, 33, 12, 8]\n",
      "[23 44 33 12  8]\n"
     ]
    }
   ],
   "source": [
    "dados = ['João da Silva', 38, True, 1500.33]   # lista de dados heterogêneos\n",
    "idades = [23, 44, 33, 12, 8]                   # lista de dados homogêneos\n",
    "print(dados, idades)\n",
    "\n",
    "import numpy\n",
    "id = numpy.array(idades)                       # vetor de idades\n",
    "print(id)"
   ]
  },
  {
   "cell_type": "code",
   "execution_count": null,
   "metadata": {},
   "outputs": [],
   "source": [
    "# quebra de uma string na sequência 'dia'\n",
    "s.split('dia')"
   ]
  },
  {
   "cell_type": "markdown",
   "metadata": {},
   "source": [
    "Existem muitos mais métodos para objetos strings do que os abordados aqui, por exemplo: `count(), replace(), capitalize(), isdigit(), isalnum(), center() ...`"
   ]
  },
  {
   "cell_type": "code",
   "execution_count": 9,
   "metadata": {},
   "outputs": [
    {
     "name": "stdout",
     "output_type": "stream",
     "text": [
      "['Bom ', ' Bia!']\n",
      "Bom * Bia!\n"
     ]
    }
   ],
   "source": [
    "s = 'Bom dia Bia!'\n",
    "print(s.split('dia'))\n",
    "print('*'.join(s.split('dia')))"
   ]
  },
  {
   "cell_type": "markdown",
   "metadata": {},
   "source": [
    "O Python tem dois estilos de <b>formatação de dados</b>, geralmente, denominados <u>moda antiga</u> e <u>moda nova</u>.\n",
    "\n",
    "- **Impressão Formatada**  \n",
    "\n",
    "Python tem formatadores de *string* interessantes. Vamos ver os mais comuns e aceitos pelas API’s de estilo de formatação de *strings*, [antiga e nova](https://pyformat.info/#conversion_flags).\n",
    "\n",
    "> <p style=\"color: blue; font-size:20px\"><b>Moda Antiga</b></p>"
   ]
  },
  {
   "cell_type": "code",
   "execution_count": 45,
   "metadata": {},
   "outputs": [
    {
     "name": "stdout",
     "output_type": "stream",
     "text": [
      "Nome: Matheus                                           .\n",
      "O Programador Matheus, tem  21 anos de idade.\n"
     ]
    }
   ],
   "source": [
    "nome = \"Matheus\"\n",
    "profissao = \"Programador\"\n",
    "idade = 21\n",
    "titulo = \"O %s %s, tem %3d anos de idade.\" % (profissao, nome, idade)\n",
    "print(\"Nome: %-50s.\" % nome)\n",
    "print(titulo)"
   ]
  },
  {
   "cell_type": "markdown",
   "metadata": {},
   "source": [
    "A formatação posicional simples (_moda antiga_) é provavelmente é a de uso mais comum, sendo a mais indicada quando a ordem dos argumentos não precisa ser alterada e quando se tem poucos elementos a concatenar. \n",
    "\n",
    "Como os elementos não são representados por algo tão descritivo quanto um nome, esse estilo simples deve ser usado apenas para formatar quantidades relativamente pequenas de elementos."
   ]
  },
  {
   "cell_type": "code",
   "execution_count": 81,
   "metadata": {},
   "outputs": [
    {
     "name": "stdout",
     "output_type": "stream",
     "text": [
      "Fleury, Cláudio.\n",
      "Fleury, Cláudio.\n"
     ]
    }
   ],
   "source": [
    "print('%s, %s.' % ('Fleury', 'Cláudio'))              # à moda antiga\n",
    "print('{}, {}.'.format('Fleury', 'Cláudio'))          # à moda nova"
   ]
  },
  {
   "cell_type": "code",
   "execution_count": 82,
   "metadata": {
    "scrolled": true
   },
   "outputs": [
    {
     "name": "stdout",
     "output_type": "stream",
     "text": [
      "Fleury, C.\n",
      "Fleury, C.\n"
     ]
    }
   ],
   "source": [
    "print('%s, %.1s.' % ('Fleury', 'Cláudio'))            # à moda antiga\n",
    "print('{}, {:.1}.'.format('Fleury', 'Cláudio'))       # à moda nova"
   ]
  },
  {
   "cell_type": "markdown",
   "metadata": {},
   "source": [
    "> <p style=\"color: blue; font-size:20px\"><b>Moda Nova</b></p>"
   ]
  },
  {
   "cell_type": "code",
   "execution_count": 104,
   "metadata": {},
   "outputs": [
    {
     "name": "stdout",
     "output_type": "stream",
     "text": [
      "O Programador Matheus tem 21 anos de idade.\n"
     ]
    }
   ],
   "source": [
    "nome = \"Matheus\"\n",
    "prof = \"Programador\"\n",
    "titulo = \"O {1} {0} tem {2:d} anos de idade.\".format(nome, profissao, idade)\n",
    "print(titulo)"
   ]
  },
  {
   "cell_type": "markdown",
   "metadata": {},
   "source": [
    "Com a nova formatação de estilo, é possível (e obrigatório no Python 2.6) dar aos espaços reservados um índice posicional explícito. Isso permite reorganizar a ordem de exibição sem alterar os argumentos (esta operação não é possível na formatação à moda antiga)."
   ]
  },
  {
   "cell_type": "code",
   "execution_count": 105,
   "metadata": {
    "scrolled": true
   },
   "outputs": [
    {
     "name": "stdout",
     "output_type": "stream",
     "text": [
      "Fleury, Cláudio.\n",
      "Fleury, Cl.\n",
      "Cláudio, Fleury.\n"
     ]
    }
   ],
   "source": [
    "# à moda nova\n",
    "print('{1}, {0}.'.format('Cláudio', 'Fleury'))\n",
    "print('{1}, {0:.2}.'.format('Cláudio', 'Fleury'))\n",
    "print('{}, {}.'.format('Cláudio', 'Fleury'))         # índices posicionais não indicados -> ordem natural"
   ]
  },
  {
   "cell_type": "markdown",
   "metadata": {},
   "source": [
    "- **Formatação de números inteiros** (modificador %d e d) **e reais** (%f e f):"
   ]
  },
  {
   "cell_type": "code",
   "execution_count": null,
   "metadata": {},
   "outputs": [],
   "source": [
    "# à moda antiga\n",
    "print('%d %f'     % (54, 2.334343))\n",
    "print('%4d %6.3f' % (54, 2.334543))"
   ]
  },
  {
   "cell_type": "code",
   "execution_count": 40,
   "metadata": {},
   "outputs": [
    {
     "name": "stdout",
     "output_type": "stream",
     "text": [
      "2.334343 54\n",
      "  2.33\n"
     ]
    }
   ],
   "source": [
    "# à moda nova\n",
    "print('{1:f} {0:d}'.format(54, 2.334343))\n",
    "print('{:06.2f}'.format(2.334343))"
   ]
  },
  {
   "cell_type": "markdown",
   "metadata": {},
   "source": [
    "**Código Pythônico**:"
   ]
  },
  {
   "cell_type": "code",
   "execution_count": 100,
   "metadata": {
    "scrolled": true
   },
   "outputs": [
    {
     "name": "stdout",
     "output_type": "stream",
     "text": [
      "------------------------------\n",
      "            Maria             \n",
      "------------------------------\n"
     ]
    }
   ],
   "source": [
    "usuario = 'Maria'\n",
    "if usuario == 'Maria':     # instrução de verificação --> alternativa\n",
    "    print('{0}\\n{1}\\n{0}'.format('-'*30, usuario.center(30)))"
   ]
  },
  {
   "cell_type": "markdown",
   "metadata": {},
   "source": [
    "**Código Convencional Equivalente** (comumente encontrado nas outras linguagens):"
   ]
  },
  {
   "cell_type": "code",
   "execution_count": 37,
   "metadata": {},
   "outputs": [
    {
     "name": "stdout",
     "output_type": "stream",
     "text": [
      "------------------------------\n",
      "            Maria\n",
      "------------------------------\n"
     ]
    }
   ],
   "source": [
    "usuario = 'Maria'\n",
    "if usuario == 'Maria':     # instrução de verificação --> alternativa\n",
    "    print('------------------------------')\n",
    "    print(' '*int((30 - len(usuario))/2) + usuario)\n",
    "    print('------------------------------')"
   ]
  },
  {
   "cell_type": "markdown",
   "metadata": {},
   "source": [
    "Mais detalhes sobre os métodos de formatação podem ser encontrados na documentação oficial do Python: [Moda Antiga](https://docs.python.org/2/library/stdtypes.html#string-formatting) e [Moda Nova](https://docs.python.org/3/library/string.html#string-formatting)"
   ]
  },
  {
   "cell_type": "markdown",
   "metadata": {},
   "source": [
    "### Trocando Caracteres numa String\n",
    "Exemplo de criação da tabela de valores numéricos usadas nesse caderno, no item **1. Variáveis e Operações**:"
   ]
  },
  {
   "cell_type": "code",
   "execution_count": 13,
   "metadata": {},
   "outputs": [
    {
     "name": "stdout",
     "output_type": "stream",
     "text": [
      "Bom dia Bia!\n",
      "Bom dio Bio!\n"
     ]
    }
   ],
   "source": [
    "print(s)\n",
    "so = s.replace('a','o')\n",
    "print(so)"
   ]
  },
  {
   "cell_type": "code",
   "execution_count": null,
   "metadata": {},
   "outputs": [],
   "source": [
    "a = 'int\tlong\tfloat\tcomplex\\n10\t51924361L\t0.0\t3.14j\\n100\t-0x19323L\t15.20\t45.j\\n-786\t122L\t-21.9\t9.322e-36j\\n0x80\t0xDEFABCECBDAECBFBAEL\t32.3+e18\t.876j\\n-490\t535633629843L\t-90.\t-.6545+0J\\n-0x260\t-052318172735L\t-32.54e100\t3e+26J\\n0x69\t-4721885298529L\t70.2-E12\t4.53e-7j'\n",
    "b = '|'+a.replace('L','').replace('\t','|').replace('\\n','|\\n|')+'|'\n",
    "c = b.find('x|')+2\n",
    "d = b[:c] + \"\\n|:---:|:---:|:---:|:---:|\\n\" + b[c+1:]\n",
    "print(a,'\\n\\n',b,'\\n\\n',c,'\\n\\n',sep='')\n",
    "print(\"Tabela (formatada em Markdown):\")\n",
    "print(d)"
   ]
  },
  {
   "cell_type": "markdown",
   "metadata": {},
   "source": [
    "|int|long|float|complex|\n",
    "|:---:|:---:|:---:|:---:|\n",
    "|10|51924361|0.0|3.14j|\n",
    "|100|-0x19323|15.20|45.j|\n",
    "|-786|122|-21.9|9.322e-36j|\n",
    "|0x80|0xDEFABCECBDAECBFBAE|32.3+e18|.876j|\n",
    "|-490|535633629843|-90.|-.6545+0J|\n",
    "|-0x260|-052318172735|-32.54e100|3e+26J|\n",
    "|0x69|-4721885298529|70.2-E12|4.53e-7j|"
   ]
  },
  {
   "cell_type": "markdown",
   "metadata": {},
   "source": [
    "### Representação Unicode\n",
    "O Python2 requer que você marque uma _string_ com o prefixo `u` se quiser armazená-la com codificação **Unicode** (caracteres universais), pois o padrão (*default*) é o armazenamento de caracteres codificados em **ASCII**.  \n",
    "\n",
    "O Python3 armazena as _strings_ como **Unicode**, por padrão. Portanto no Python3 passamos a ter três classes de _strings_: _strings_ de caracteres Unicode (utf-8) e mais duas classes `bytes`: bytes e matrizes de bytes."
   ]
  },
  {
   "cell_type": "markdown",
   "metadata": {},
   "source": [
    "<p style=\"text-align:right;\"><a href=\"#topo\">Volta ao topo</a></p>"
   ]
  },
  {
   "cell_type": "markdown",
   "metadata": {},
   "source": [
    "<a id=\"4.\"></a>\n",
    "## 4. Intervalo"
   ]
  },
  {
   "cell_type": "markdown",
   "metadata": {},
   "source": [
    "A função `range([início,] final [,passo])` (intervalo de valores) faz parte da <font color=\"red\">biblioteca padrão</font> do Python e gera uma sequência imutável de números inteiros de acordo com o intervalo determinado pelos argumentos. A série retornada é um <font color=\"red\">objeto iterável</font> tipo ***range*** e os elementos da série serão gerados sob demanda.\n",
    "\n",
    "É comum o uso da função ***range*()** com a estrutura de repetição ***for***. Neste caso temos que a cada ciclo de repetição o próximo elemento da sequência será utilizado de tal forma que é possível partirmos de um ponto e ir incrementando, decrementando conforme o **passo** adotado.\n",
    "\n",
    "Os argumentos para o construtor do objeto ***range*** devem ser do tipo **inteiro** (pode ser o tipo **int** nativo ou qualquer outro tipo/objeto que implemente o método especial **\\_\\_index__**). Se o argumento <u>passo</u> for omitido, é assumido o passo unitário (um). Se o argumento <u>início</u> for omitido, é assumido o valor 0 (zero). O passo não pode ser zero, senão um erro do tipo **ValueError** será gerado.\n",
    "\n",
    "- Para <u>passo</u> positivo, o conteúdo de um intervalo <tt>r</tt> é determinado pela fórmula:\n",
    "\n",
    "  <tt>r[i] = inicio + passo * i,   onde  i &ge; 0   e    r[i] &lt; final</tt>\n",
    "  \n",
    "\n",
    "- Para <u>passo</u> negativo, o conteúdo de um intervalo <tt>r</tt> é determinado pela fórmula:\n",
    "\n",
    "  <tt>r[i] = inicio + passo * i,   onde  i &ge; 0   e    r[i] &gt; final</tt>\n",
    "  \n",
    "\n",
    "Os intervalos podem ser construídos das seguintes formas:\n",
    "- <tt>*range(final)*: 0, 1, 2, ..., final-1</tt>\n",
    "- <tt>*range(início, final)*: início, início+1, início+2, ..., final-1</tt>\n",
    "- <tt>*range(início, final, passo)*: início, início+passo, início+2*passo, ..., final-1</tt>\n",
    "\n",
    "<!--- Um objeto ***range*** estará vazio se <tt>r[0]</tt> não atender à restrição de valor. Os intervalos suportam índices negativos, mas estes são interpretados como indexação a partir do final da sequência determinada pelos índices positivos. --->"
   ]
  },
  {
   "cell_type": "markdown",
   "metadata": {},
   "source": [
    "Exemplos:\n",
    "![range(6).png](img/range(6).png)"
   ]
  },
  {
   "cell_type": "code",
   "execution_count": 88,
   "metadata": {},
   "outputs": [
    {
     "data": {
      "text/plain": [
       "range(0, 6)"
      ]
     },
     "execution_count": 88,
     "metadata": {},
     "output_type": "execute_result"
    }
   ],
   "source": [
    "range(6)"
   ]
  },
  {
   "cell_type": "code",
   "execution_count": 92,
   "metadata": {},
   "outputs": [
    {
     "name": "stdout",
     "output_type": "stream",
     "text": [
      "***** Exemplo de uso da função range() num 'for' *****\n",
      "Mostrando o resultado da função range(6): \n",
      "0 - 1 - 2 - 3 - 4 - 5 - "
     ]
    }
   ],
   "source": [
    "print('*'*5,\"Exemplo de uso da função range() num 'for'\",'*'*5)\n",
    "print(\"Mostrando o resultado da função range(6): \")\n",
    "for i in range(6):\n",
    "    print(i, end=' - ')"
   ]
  },
  {
   "cell_type": "markdown",
   "metadata": {},
   "source": [
    "<b>Exemplo</b>: Exibição dos números pares até 50."
   ]
  },
  {
   "cell_type": "code",
   "execution_count": 93,
   "metadata": {
    "scrolled": true
   },
   "outputs": [
    {
     "name": "stdout",
     "output_type": "stream",
     "text": [
      "0 - 2 - 4 - 6 - 8 - 10 - 12 - 14 - 16 - 18 - 20 - 22 - 24 - 26 - 28 - 30 - 32 - 34 - 36 - 38 - 40 - 42 - 44 - 46 - 48 - 50 - "
     ]
    }
   ],
   "source": [
    "for i in range(0,51,2):\n",
    "    print(i, end=' - ')"
   ]
  },
  {
   "cell_type": "markdown",
   "metadata": {},
   "source": [
    "<b>Exemplo</b>: Exibição dos múltiplos de 3, de 3 até 50."
   ]
  },
  {
   "cell_type": "code",
   "execution_count": 38,
   "metadata": {},
   "outputs": [
    {
     "name": "stdout",
     "output_type": "stream",
     "text": [
      "3 - 6 - 9 - 12 - 15 - 18 - 21 - 24 - 27 - 30 - 33 - 36 - 39 - 42 - 45 - 48 - "
     ]
    }
   ],
   "source": [
    "for i in range(3,51,3):\n",
    "    print(i, end=' - ')\n",
    "\n",
    "# int i;\n",
    "# for(i=3; i<50; i=i+3)\n",
    "#    printf(\"%d - \",i);"
   ]
  },
  {
   "cell_type": "code",
   "execution_count": 54,
   "metadata": {
    "scrolled": true
   },
   "outputs": [
    {
     "name": "stdout",
     "output_type": "stream",
     "text": [
      "range(0, 20, 2)\n",
      "0 10 18\n",
      "[1 2 3 4 5 6]\n"
     ]
    }
   ],
   "source": [
    "# objeto iterável r - valor é gerado sob demanda\n",
    "r = range(0,20,2)\n",
    "print(r)\n",
    "print(r[0],r[5],r[9])\n",
    "\n",
    "# objeto estático s - valores já existem na memória\n",
    "import numpy as np\n",
    "s = np.array([1,2,3,4,5,6])\n",
    "print(s)"
   ]
  },
  {
   "cell_type": "code",
   "execution_count": 52,
   "metadata": {},
   "outputs": [
    {
     "name": "stdout",
     "output_type": "stream",
     "text": [
      "0, 2, 4, 6, 8, 10, 12, 14, 16, 18.\n",
      "0, 2, 4, 6, 8, 10, 12, 14, 16, 18."
     ]
    }
   ],
   "source": [
    "for i in range(0,20,2):\n",
    "    if i == 18:\n",
    "        print(i,end='.')\n",
    "    else:\n",
    "        print(i,end=\", \")\n",
    "print()\n",
    "for i in range(0,18,2):\n",
    "    print(i,end=\", \")\n",
    "print(i+2,end='.')"
   ]
  },
  {
   "cell_type": "code",
   "execution_count": 56,
   "metadata": {},
   "outputs": [
    {
     "name": "stdout",
     "output_type": "stream",
     "text": [
      "False True True False False\n"
     ]
    }
   ],
   "source": [
    "print(11 in r, 10 in r, 18 in r, 19 in r, 20 in r)"
   ]
  },
  {
   "cell_type": "code",
   "execution_count": 64,
   "metadata": {},
   "outputs": [
    {
     "name": "stdout",
     "output_type": "stream",
     "text": [
      "0 0\n"
     ]
    }
   ],
   "source": [
    "r.index(18)"
   ]
  },
  {
   "cell_type": "code",
   "execution_count": 58,
   "metadata": {},
   "outputs": [
    {
     "ename": "ValueError",
     "evalue": "11 is not in range",
     "output_type": "error",
     "traceback": [
      "\u001b[1;31m---------------------------------------------------------------------------\u001b[0m",
      "\u001b[1;31mValueError\u001b[0m                                Traceback (most recent call last)",
      "\u001b[1;32m<ipython-input-58-714e06d746fa>\u001b[0m in \u001b[0;36m<module>\u001b[1;34m\u001b[0m\n\u001b[1;32m----> 1\u001b[1;33m \u001b[0mr\u001b[0m\u001b[1;33m.\u001b[0m\u001b[0mindex\u001b[0m\u001b[1;33m(\u001b[0m\u001b[1;36m11\u001b[0m\u001b[1;33m)\u001b[0m\u001b[1;33m\u001b[0m\u001b[1;33m\u001b[0m\u001b[0m\n\u001b[0m",
      "\u001b[1;31mValueError\u001b[0m: 11 is not in range"
     ]
    }
   ],
   "source": [
    "r.index(11)"
   ]
  },
  {
   "cell_type": "code",
   "execution_count": 59,
   "metadata": {},
   "outputs": [
    {
     "data": {
      "text/plain": [
       "10"
      ]
     },
     "execution_count": 59,
     "metadata": {},
     "output_type": "execute_result"
    }
   ],
   "source": [
    "r[5]"
   ]
  },
  {
   "cell_type": "code",
   "execution_count": 60,
   "metadata": {},
   "outputs": [
    {
     "data": {
      "text/plain": [
       "range(0, 8, 2)"
      ]
     },
     "execution_count": 60,
     "metadata": {},
     "output_type": "execute_result"
    }
   ],
   "source": [
    "r[0:4]"
   ]
  },
  {
   "cell_type": "code",
   "execution_count": 65,
   "metadata": {},
   "outputs": [
    {
     "data": {
      "text/plain": [
       "(18, range(18, 12, -2), 18, 16, 14)"
      ]
     },
     "execution_count": 65,
     "metadata": {},
     "output_type": "execute_result"
    }
   ],
   "source": [
    "r[-1], r[-1:-4:-1], r[-1], r[-2], r[-3]"
   ]
  },
  {
   "cell_type": "markdown",
   "metadata": {},
   "source": [
    "A comparação de objetos do tipo ***range***, em termos de igualdade '==' ou diferença '!=', é feita como na comparação de sequências, ou seja, dois objetos de intervalo são considerados iguais se eles representam a mesma sequência de valores. Observe que dois objetos de intervalo que se comparam como iguais podem ter diferentes atributos de início, final e passo, como por exemplo: `range(0) == range(2,1,3)` ou `range(0,3,2) == range(0,4,2)`."
   ]
  },
  {
   "cell_type": "code",
   "execution_count": 67,
   "metadata": {},
   "outputs": [
    {
     "name": "stdout",
     "output_type": "stream",
     "text": [
      "0\n",
      "2\n",
      "0\n",
      "2\n"
     ]
    }
   ],
   "source": [
    "for i in range(0,3,2):\n",
    "    print(i)\n",
    "for i in range(0,4,2):\n",
    "    print(i)"
   ]
  },
  {
   "cell_type": "code",
   "execution_count": 103,
   "metadata": {},
   "outputs": [
    {
     "name": "stdout",
     "output_type": "stream",
     "text": [
      "Programando em Python\n"
     ]
    }
   ],
   "source": [
    "# Formatação de strings com f-strings\n",
    "linguagem = \"Python\"\n",
    "frase = f\"Programando em {linguagem}\"\n",
    "print(frase)"
   ]
  },
  {
   "cell_type": "markdown",
   "metadata": {},
   "source": [
    "<p style=\"text-align:right;\"><a href=\"#topo\">Volta ao topo</a></p>"
   ]
  },
  {
   "cell_type": "markdown",
   "metadata": {},
   "source": [
    "<a id=\"5.\"></a>\n",
    "## 5.\tEntrada de Dados\n",
    "Python fornece funções nativas que recebem as entradas realizadas via __teclado__ pelo usuário. A mais simples é chamada `raw_input()`. Ao executar esta função, o programa para e espera o usuário digitar alguma coisa. Quando o usuário finaliza a entrada de dados, ao pressionar a tecla [Enter], o programa prossegue e a função `raw_input()` retorna a digitação do usuário, <font color=\"red\">sempre como string</font>.\n",
    "\n",
    "Suponha a seguinte situação:\n",
    "> Uma aplicação com interface para usuário orientada a caracter (terminal) é escrita em Python, e precisa das credenciais de _login_ do usuário para funcionar:\n",
    "\n",
    "``` python\n",
    "usuario = input('login: ')\n",
    "senha   = input('senha: ')\n",
    "print('Olá, ' + usuario)\n",
    "```\n",
    "Ao ser executado no Python3 (computador em casa):\n",
    "\n",
    "#### Python3"
   ]
  },
  {
   "cell_type": "code",
   "execution_count": null,
   "metadata": {
    "scrolled": true
   },
   "outputs": [],
   "source": [
    "# Rodando no Python3\n",
    "usuario = input('login: ')\n",
    "senha   = input('senha: ')\n",
    "print('Olá, ' + usuario)"
   ]
  },
  {
   "cell_type": "markdown",
   "metadata": {},
   "source": [
    "> Conforme o esperado, exatamente o que é digitado é capturado para as variáveis `usuario` e `senha`!\n",
    "\n",
    "> Mas ao rodar o programa noutro computador (na empresa) com Python2, veja o que acontece:\n",
    "\n",
    "#### Python2"
   ]
  },
  {
   "cell_type": "code",
   "execution_count": null,
   "metadata": {
    "scrolled": false
   },
   "outputs": [],
   "source": [
    "# Rodando no Python2\n",
    "usuario = input('login: ')\n",
    "senha   = input('senha: ')\n",
    "print('Olá ' + usuario + '!')     # print 'Olá ' + usuario + '!'"
   ]
  },
  {
   "cell_type": "markdown",
   "metadata": {},
   "source": [
    "<font color=red>Erro de Nome!</font> Variável `'praxedes'` não está definida - como assim? Variável `'praxedes'`?!?!?! \n",
    "```python\n",
    "NameError                                 Traceback (most recent call last)\n",
    "<ipython-input-1-4447c7e85205> in <module>()\n",
    "----> 1 usuario = input('login: ')\n",
    "...\n",
    "--> 176             builtin_mod.input = lambda prompt='': eval(self.raw_input(prompt))\n",
    "...\n",
    "NameError: name 'praxedes' is not defined```\n",
    "\n",
    "<u>Explicando</u>: esta exceção indica que se tentou usar uma variável não definida, nesse caso, `'praxedes'`. Mas 'praxedes' era pra ser uma _string_ com o nome do usuáro no login da aplicação, não uma variável. Então por que isso acontece?\n",
    "\n",
    "A resposta é que a função `input()`, no Python2, não transforma a entrada do usuário em _string_, mas tenta avaliar a informação fornecida pelo usuário como uma expressão:"
   ]
  },
  {
   "cell_type": "code",
   "execution_count": null,
   "metadata": {},
   "outputs": [],
   "source": [
    "entrada = input(\"Digite uma expressao aritmetica: \")\n",
    "print entrada"
   ]
  },
  {
   "cell_type": "code",
   "execution_count": null,
   "metadata": {},
   "outputs": [],
   "source": [
    "entrada = input('Digite uma string:')\n",
    "print entrada"
   ]
  },
  {
   "cell_type": "markdown",
   "metadata": {},
   "source": [
    "Antes de usar `raw_input()` é bom exibir uma mensagem para o usuário dizendo o que ele deve digitar... Esta mensagem informa ao usuário que tipo de informação que o programa está esperando (_prompt_):"
   ]
  },
  {
   "cell_type": "code",
   "execution_count": null,
   "metadata": {
    "scrolled": true
   },
   "outputs": [],
   "source": [
    "nome = raw_input(\"Qual é o seu nome? \")\n",
    "print nome"
   ]
  },
  {
   "cell_type": "markdown",
   "metadata": {},
   "source": [
    "Se a entrada esperada for um valor numérico inteiro, então podemos usar a função `input()`.\n",
    "\n",
    "A função `input()` do Python2 lê dados em arquivos e também lê dados informados pelo usuário via teclado. Se a informação a ser entrada pelo usuário for uma _string_ então a informação deve ser digitada com os delimitadores de _string_ (par de aspas ou apóstrofes), mas se a informação for numérica então nenhum delimitador será necessário."
   ]
  },
  {
   "cell_type": "code",
   "execution_count": null,
   "metadata": {},
   "outputs": [],
   "source": [
    "# Python3\n",
    "nome = input('Digite o seu sobrenome: ')\n",
    "idade = input('Digite a sua idade: ')\n",
    "print(nome, 'tem', idade, 'anos.')"
   ]
  },
  {
   "cell_type": "markdown",
   "metadata": {},
   "source": [
    "Atente-se para o fato de que dados do tipo _string_ devem ser delimitadas por aspas (\") ou apóstrofos (') na entrada de dados com a função __`input()`__ no **Python2**."
   ]
  },
  {
   "cell_type": "code",
   "execution_count": null,
   "metadata": {},
   "outputs": [],
   "source": [
    "# Python2\n",
    "pergunta = \"Velocidade de percurso (km/h): \"\n",
    "velocidade = input(pergunta)"
   ]
  },
  {
   "cell_type": "markdown",
   "metadata": {},
   "source": [
    "Se o usuário digitar uma _string_ contendo dígitos, ela será convertida num inteiro/real e atribuída à variável velocidade. Infelizmente, se o usuário digitar um caractere que não seja um dígito numérico, o programa vai parar:"
   ]
  },
  {
   "cell_type": "code",
   "execution_count": null,
   "metadata": {},
   "outputs": [],
   "source": [
    "velocidade = input(pergunta)"
   ]
  },
  {
   "cell_type": "markdown",
   "metadata": {},
   "source": [
    "Para evitar esse tipo de erro, geralmente usa-se `raw_input()` para receber uma _string_ e, então, usar funções de conversão para outros tipos de dados: `int(), float(), long()`."
   ]
  },
  {
   "cell_type": "markdown",
   "metadata": {},
   "source": [
    "A função `input()` no Python2 não transforma a entrada do usuário em _string_, mas tenta avaliar a informação fornecida pelo usuário, como se fosse um comando ao interpretador:"
   ]
  },
  {
   "cell_type": "code",
   "execution_count": null,
   "metadata": {},
   "outputs": [],
   "source": [
    "# rodando no Python2\n",
    "import sys\n",
    "versao = sys.version                # versão do interpretador (kernel) em uso\n",
    "if versao[0] == '2': help(input)"
   ]
  },
  {
   "cell_type": "code",
   "execution_count": null,
   "metadata": {},
   "outputs": [],
   "source": [
    "expressao = input('Digite uma expressao aritmética: ')\n",
    "print(expressao)\n",
    "print(eval(expressao))"
   ]
  },
  {
   "cell_type": "markdown",
   "metadata": {},
   "source": [
    "Então quando tentamos mandar o usuário `'praxedes'` para a função `input()`, ela trata a informação como se fosse uma variável. Como essa variável não foi declarada, então recebemos o erro <font color=red>NameError</font>. Atente-se para o fato de que _strings_ devem ser delimitadas por aspas (\") ou apóstrofos (') na entrada de dados com a função `input()` no Python2.\n",
    "\n",
    "Por conta do pouco uso desse comportamento, ele foi removido no Python3.\n",
    "No Python 2, em vez da função `input()`, utilizamos a função `raw_input()` para pegar a entrada do usuário como _string_ e não como comando ou expressão:"
   ]
  },
  {
   "cell_type": "code",
   "execution_count": null,
   "metadata": {},
   "outputs": [],
   "source": [
    "# Rodando no Python2\n",
    "usuario = raw_input('login: ')\n",
    "senha   = raw_input('senha: ')\n",
    "print('Olá ' + usuario + '!')      # print 'Olá ' + usuario + '!' "
   ]
  },
  {
   "cell_type": "markdown",
   "metadata": {},
   "source": [
    "Como você deve ter percebido, há uma inconsistência na entrada de dados via teclado: se quisermos capturar uma entrada como _string_, não há um código único que simplesmente satisfaça ambas as versões do Python, 2.x e 3.x.\n",
    "Uma forma de resolver isso é checando a versão do Python através do atributo `version_info.major` do módulo `sys`:"
   ]
  },
  {
   "cell_type": "code",
   "execution_count": null,
   "metadata": {},
   "outputs": [],
   "source": [
    "import sys\n",
    "if sys.version_info.major == 2:\n",
    "    usuario = raw_input('login: ')\n",
    "elif sys.version_info.major == 3:\n",
    "    usuario = input('login: ')\n",
    "print('Olá ' + usuario + '!')"
   ]
  },
  {
   "cell_type": "markdown",
   "metadata": {},
   "source": [
    "Fonte: https://blog.alura.com.br/a-diferenca-das-funcoes-input-e-raw_input-no-python/"
   ]
  },
  {
   "cell_type": "markdown",
   "metadata": {},
   "source": [
    "<p style=\"text-align:right;\"><a href=\"#topo\">Volta ao topo</a></p>"
   ]
  },
  {
   "cell_type": "markdown",
   "metadata": {},
   "source": [
    "<a id=\"6.\"></a>\n",
    "## 6.\tControle de Fluxo de Execução\n",
    "\n",
    "### Condicional\n",
    "Para poder escrever programas úteis, quase sempre precisamos de uma forma de verificar condições e mudar o comportamento do programa de acordo com elas. As instruções condicionais oferecem essa habilidade. A forma mais simples é a instrução `if` (se):\n",
    "\n",
    "```python\n",
    "   if x > 0:\n",
    "     print(x, \"é positivo\")\n",
    "```\n",
    "A expressão booleana depois da instrução `if` é a condição a ser verificada. Se ela for verdadeira (`True`), então a(s) instrução(ões) indentada(s) é(são) executada(s). Se for falsa (`False`), nada acontece, e o fluxo de execução segue com o comando após o `if`."
   ]
  },
  {
   "cell_type": "markdown",
   "metadata": {},
   "source": [
    "As instruções compostas (mais de um comando = bloco de comandos) em Python são constituídas de um cabeçalho e de um conjunto de comandos separados por um caracter ':' como mostrado a seguir:\n",
    "\n",
    "> INSTRUÇÃO-COMPOSTA:  \n",
    "> > PRIMEIRO COMANDO  \n",
    "> > ...  \n",
    "> > ULTIMO COMANDO  \n",
    "COMANDO APÓS INSTRUÇÃO-COMPOSTA  \n",
    "\n",
    "A primeira instrução não indentada marca o final do bloco, ou seja, o bloco de comandos é indicado apenas pela indentação de seus comandos, e finalizado pelo primeiro comando não indentado.\n",
    "\n",
    "Não existe limite para a quantidade de instruções que podem aparecer aninhadas numa instrução `if`. Ocasionalmente, é útil ter uma parte do programa sem nenhuma instrução (apenas reservando espaço para um trecho de código que você ainda vai escrever!). Nesse caso, você pode usar o comando `pass`, que indica ao interpretador: “passe por aqui sem fazer nada” ou \"siga em frente...\".\n",
    "```python\n",
    "if a < b:\n",
    "   pass\n",
    "print a, b\n",
    "...```"
   ]
  },
  {
   "cell_type": "markdown",
   "metadata": {},
   "source": [
    "### Estruturas Alternativas\n",
    "\n",
    "#### Simples\n",
    "```python\n",
    "if condição:\n",
    "   comando(s)\t\t\t# executados se condição é True\n",
    "```\n",
    "#### Composta\n",
    "```python\n",
    "if condição:\n",
    "   comando(s)\t\t\t# executados se condição é True\n",
    "else:\n",
    "   comando(s)\t\t\t# executados se condição é False\n",
    "```"
   ]
  },
  {
   "cell_type": "markdown",
   "metadata": {},
   "source": [
    "#### Encadeada\n",
    "```python\n",
    "if condição1:\n",
    "   comando(s)\t\t\t# executados se condição1 é True\n",
    "elif condição2:\n",
    "   comando(s)\t\t\t# executados se condição2 é True\n",
    "elif condiçãoN:\n",
    "   comando(s)\t\t\t# executados se condiçãoN é False\n",
    "else:\n",
    "   comando(s)\t\t\t# executados se todas as condição são False\n",
    "```\n",
    "\n",
    "Exemplo:\n",
    "```python\n",
    "if a < b:\n",
    "  print(a, \" é menor que\", b)\n",
    "elif a > b:\n",
    "  print(a, \" é maior que\", b)\n",
    "else:\n",
    "  print(a, \" e\", b, \" são iguais\")\n",
    "```"
   ]
  },
  {
   "cell_type": "code",
   "execution_count": 56,
   "metadata": {},
   "outputs": [
    {
     "name": "stdout",
     "output_type": "stream",
     "text": [
      "Valor 1: 3\n",
      "Valor 2: 4\n",
      "Valor 3: 10\n",
      "Os valores 3.0 4.0 10.0\n",
      "não podem ser os lados de um triângulo.\n"
     ]
    }
   ],
   "source": [
    "# Lados de um triângulo?\n",
    "a = float(input('Valor 1: '))\n",
    "b = float(input('Valor 2: '))\n",
    "c = float(input('Valor 3: '))\n",
    "print('Os valores',a,b,c)\n",
    "if a+b > c and a+c > b and b+c > a:\n",
    "    print(\"podem ser os lados de um triângulo.\")\n",
    "else:\n",
    "    print(\"não podem ser os lados de um triângulo.\")"
   ]
  },
  {
   "cell_type": "markdown",
   "metadata": {},
   "source": [
    "A expressão `elif` é uma abreviação de `else if` (“senão se”). No Python não existe uma instrução do tipo escolha/caso, como `switch/case/default` da ling. C/C++, mas pode-se usar:\n",
    "```python\n",
    "if escolha == 'A':\n",
    "  funcao_A()\n",
    "elif escolha == 'B':\n",
    "  funcao_B()\n",
    "elif escolha == 'C':\n",
    "  funcao_C()\n",
    "else:\n",
    "  print(\"Escolha não disponível.\")\n",
    "```"
   ]
  },
  {
   "cell_type": "markdown",
   "metadata": {},
   "source": [
    "### Estruturas de Repetição\n",
    "\n",
    "Em geral, as instruções são executadas sequencialmente, uma a uma, da primeira instrução à última. Nas situações em que você precise executar um bloco de comandos várias vezes, as linguagens de programação fornecem algumas estruturas de controle do fluxo de execução que permitem lógicas mais complexas.\n",
    "\n",
    "Uma dessas estrutura de repetição apresenta a verificação da condição de manutenção de repetição no início da estrutura, conhecida por estrutura `while` (enquanto). \n",
    "\n",
    "Nesse caso o bloco de comandos (podendo ter um ou mais comandos) a ser repetido é colocado de forma indentada após o caractere ':' que aparece após a condição. O bloco de comandos pode ser executado nenhuma ou várias vezes, sendo repetido enquanto a condição for verdadeira (`True`).\n",
    "```python\n",
    "Inicialização\n",
    "while condição:  # enquanto condição for True bloco de comando será executado\n",
    "   comando(s)\n",
    "```\n",
    "No Python, a estrutura `while` executa repetidamente, um ou mais comandos indentados, enquanto a condição for avaliada como verdadeira. A condição pode ser qualquer expressão (obs.: a constante booelana `True` é qualquer valor diferente de zero).  \n",
    "Exemplo:"
   ]
  },
  {
   "cell_type": "code",
   "execution_count": null,
   "metadata": {},
   "outputs": [],
   "source": [
    "curso = 'Python'\n",
    "indice = 0\n",
    "while indice < len(curso):\n",
    "    letra = curso[indice]\n",
    "    print(letra, end='   ')\n",
    "    indice = indice + 1"
   ]
  },
  {
   "cell_type": "code",
   "execution_count": null,
   "metadata": {},
   "outputs": [],
   "source": [
    "curso = 'Python'\n",
    "indice = len(curso)-1\n",
    "while indice >= 0:\n",
    "    letra = curso[indice]\n",
    "    print(letra, end='   ')\n",
    "    indice = indice - 1"
   ]
  },
  {
   "cell_type": "markdown",
   "metadata": {},
   "source": [
    "O uso de um índice para percorrer um conjunto de valores é uma tarefa muito comum em programação, de modo que a linguagem Python oferece uma sintaxe alternativa simplificada - a estrutura de repetição for:"
   ]
  },
  {
   "cell_type": "code",
   "execution_count": null,
   "metadata": {},
   "outputs": [],
   "source": [
    "curso = 'Python'\n",
    "print(curso[::-1])\n",
    "reverso = curso[::-1]\n",
    "for letra in reverso:        # lê-se: para cada 'letra' em 'curso'\n",
    "    print(letra, end='   ')\n",
    "print(2*'\\b')"
   ]
  },
  {
   "cell_type": "markdown",
   "metadata": {},
   "source": [
    "#### Exemplo: \n",
    "\n",
    "Jogo Pedra-Papel-Tesoura"
   ]
  },
  {
   "cell_type": "code",
   "execution_count": 57,
   "metadata": {
    "scrolled": false
   },
   "outputs": [
    {
     "name": "stdout",
     "output_type": "stream",
     "text": [
      "Regras do jogo Pedra, papel e tesoura: \n",
      "Pedra X Papel   -> Papel vence\n",
      "Pedra X Tesoura -> Pedra vence\n",
      "Papel X Tesoura -> Tesoura vence\n",
      "\n",
      "Escolha:\n",
      " 1. Pedra\n",
      " 2. Papel\n",
      " 3. Tesoura\n",
      "\n",
      "Usuário: 2\n",
      "Escolha do usuário: Papel\n",
      "\n",
      "Agora eu escolho...\n",
      "Escolha do computador: Pedra\n",
      "Papel X Pedra\n",
      "Papel vence => >>> Usuário ganhou! <<<\n",
      "\n",
      "\n",
      "Quer jogar novamente? ( /N) a\n",
      "Escolha:\n",
      " 1. Pedra\n",
      " 2. Papel\n",
      " 3. Tesoura\n",
      "\n",
      "Usuário: 3\n",
      "Escolha do usuário: Tesoura\n",
      "\n",
      "Agora eu escolho...\n",
      "Escolha do computador: Papel\n",
      "Tesoura X Papel\n",
      "Tesoura vence => >>> Usuário ganhou! <<<\n",
      "\n",
      "\n",
      "Quer jogar novamente? ( /N) N\n",
      "\n",
      "Obrigado por jogar!\n"
     ]
    }
   ],
   "source": [
    "import random \n",
    "\n",
    "# Mostra instruções do jogo:\n",
    "print(\"Regras do jogo Pedra, papel e tesoura: \\n\"\n",
    "\t  + \"Pedra X Papel   -> Papel vence\\n\"\n",
    "\t  + \"Pedra X Tesoura -> Pedra vence\\n\"\n",
    "  \t  + \"Papel X Tesoura -> Tesoura vence\\n\") \n",
    "\n",
    "objetos = ['Pedra','Papel','Tesoura']\n",
    "while True: \n",
    "    print(\"Escolha:\\n 1. Pedra\\n 2. Papel\\n 3. Tesoura\\n\") \n",
    "    escolha = int(input(\"Usuário: \")) \n",
    "    while escolha > 3 or escolha < 1: \n",
    "        escolha = int(input(\"Escolha um objeto válido (1, 2 ou 3): \")) \n",
    "    objeto_escolhido = objetos[escolha-1]        \n",
    "    print(\"Escolha do usuário: \" + objeto_escolhido) \n",
    "    \n",
    "    print(\"\\nAgora eu escolho...\") \n",
    "    # Computador escolhe randomicamente um número\n",
    "    # entre 1 , 2 e 3. Usando o método 'randint' do módulo 'random'\n",
    "    escolha_comp = random.randint(1,3) \n",
    "    # busca nova escolha se o objeto escolhido pelo computador\n",
    "    # for o mesmo escolhido pelo usuário\n",
    "    while escolha_comp == escolha: \n",
    "        escolha_comp = random.randint(1, 3) \n",
    "    objeto_escolhido_comp = objetos[escolha_comp-1]        \n",
    "    print(\"Escolha do computador: \" + objeto_escolhido_comp) \n",
    "    print(objeto_escolhido + \" X \" + objeto_escolhido_comp) \n",
    "\n",
    "    if((escolha == 1 and escolha_comp == 2) or\n",
    "       (escolha == 2 and escolha_comp == 1)): \n",
    "        print(\"Papel vence => \", end = \"\") \n",
    "        result = \"Papel\"\n",
    "    elif((escolha == 1 and escolha_comp == 3) or\n",
    "       (escolha == 3 and escolha_comp == 1)): \n",
    "        print(\"Pedra vence => \", end = \"\") \n",
    "        result = \"Pedra\"\n",
    "    else: \n",
    "        print(\"Tesoura vence => \", end = \"\") \n",
    "        result = \"Tesoura\"\n",
    "\n",
    "    if result == objeto_escolhido: \n",
    "        print(\">>> Usuário ganhou! <<<\") \n",
    "    else: \n",
    "        print(\">>> Computador ganhou! <<<\") \n",
    "\n",
    "    resp = input(\"\\n\\nQuer jogar novamente? ( /N) \") \n",
    "    if resp == 'n' or resp == 'N': \n",
    "        break\n",
    "        \n",
    "print(\"\\nObrigado por jogar!\") \n"
   ]
  },
  {
   "cell_type": "markdown",
   "metadata": {},
   "source": [
    "### <font color=\"red\">Exercícios</font>\n",
    "\n",
    "<ol><li>Escreva um script Python para concatenar os seguintes dicionários para criar um novo.</li>  \n",
    "dic1 = {1:10, 2:20}  \n",
    "<br>dic2 = {3:30, 4:40}  \n",
    "<br>dic3 = {5:50, 6:60}  \n",
    "<br>Resultado: {1: 10, 2: 20, 3: 30, 4: 40, 5: 50, 6: 60}  \n",
    "    <br>Dica: Use o método <tt>update()</tt>.\n",
    "<p>\n",
    "<!--- \n",
    "dic1={1:10, 2:20}\n",
    "dic2={3:30, 4:40}\n",
    "dic3={5:50,6:60}\n",
    "dic4 = {}\n",
    "for d in (dic1, dic2, dic3): \n",
    "  dic4.update(d)\n",
    "print(dic4)   \n",
    "--->\n",
    "   \n",
    "<li>Escreva um script Python para imprimir um dicionário onde as chaves são números entre 1 e 15 (ambos incluídos) e os valores são os quadrados de cada chave. </li>\n",
    "\n",
    "<!---\n",
    "d = {}                   # dict()\n",
    "for x in range(1,16):\n",
    "    d[x] = x**2\n",
    "print(d)\n",
    "--->\n",
    "<p><li>Escreva um script Python para imprimir todos os valores sem repetição de uma lista de dicionários. </li>\n",
    "Exemplo: [{'V': 'S001'}, {'V': 'S002'}, {'VI': 'S001'}, {'VI': 'S005'}, {'VII': ' S005 '}, {' V ':' S009 '}, {' VIII ':' S007 '}]  \n",
    "<br>Saída esperada: {'S005', 'S002', 'S007', 'S001', 'S009'}\n",
    "\n",
    "<!---\n",
    "L = [{\"V\":\"S001\"}, {\"V\": \"S002\"}, {\"VI\": \"S001\"}, {\"VI\": \"S005\"}, {\"VII\":\"S005\"}, {\"V\":\"S009\"}, {\"VIII\":\"S007\"}]\n",
    "print(\"Lista original: \", L)\n",
    "valor = set(val for dic in L for val in dic.values())\n",
    "print(\"Valores únicos: \", valor)\n",
    "--->\n",
    "\n",
    "<p><li>Escreva um script Python para criar e exibir todas as combinações de letras, selecionando cada letra de uma chave diferente de um dicionário.</li>  \n",
    "Exemplo: {'1': ['a','b'], '2': ['c','d']}\n",
    "Resultado esperado:\n",
    "ac\n",
    "ad\n",
    "bc\n",
    "bd\n",
    "<!--\n",
    "import itertools      \n",
    "d = { '1':['a','b'], '2':['c','d'] }\n",
    "lista = [ d[k] for k in sorted(d.keys()) ]\n",
    "for combo in itertools.product( *lista ):\n",
    "    print( ''.join(combo) )\n",
    "-->\n",
    "\n",
    "<p><li>Escreva um script Python para criar um dicionário a partir de uma frase, tendo como chave cada letra e como valor a quantidade de ocorrências da chave (letra) na frase.</li>   \n",
    "\n",
    "<!--\n",
    "frase = 'O mundo gira e o tempo transforma dor em flor.' \n",
    "dic = { }\n",
    "for letra in frase:\n",
    "    dic[letra] = dic.get(letra, 0) + 1\n",
    "print(dic)\n",
    "-->"
   ]
  },
  {
   "cell_type": "code",
   "execution_count": 25,
   "metadata": {},
   "outputs": [
    {
     "data": {
      "text/plain": [
       "{'Q': 1,\n",
       " 'u': 3,\n",
       " 'e': 5,\n",
       " ' ': 5,\n",
       " 'b': 1,\n",
       " 'l': 1,\n",
       " 'a': 2,\n",
       " 't': 2,\n",
       " 'r': 1,\n",
       " 'd': 1,\n",
       " '!': 1,\n",
       " 'U': 1,\n",
       " 'm': 1,\n",
       " 'p': 1,\n",
       " 'o': 2,\n",
       " 'c': 1,\n",
       " 'q': 1,\n",
       " 'n': 1,\n",
       " '.': 3}"
      ]
     },
     "execution_count": 25,
     "metadata": {},
     "output_type": "execute_result"
    }
   ],
   "source": [
    "# Exercício 5\n",
    "f = 'Que bela tarde! Um pouco quente...'\n",
    "d = { }\n",
    "for letra in f:\n",
    "    d[letra] = d.get(letra, 0) + 1\n",
    "d"
   ]
  },
  {
   "cell_type": "code",
   "execution_count": 22,
   "metadata": {},
   "outputs": [
    {
     "data": {
      "text/plain": [
       "{1: 10, 2: 20, 3: 30, 4: 40, 5: 50, 6: 60}"
      ]
     },
     "execution_count": 22,
     "metadata": {},
     "output_type": "execute_result"
    }
   ],
   "source": [
    "# Exercício 1\n",
    "dic1 = {1:10, 2:20}\n",
    "dic2 = {3:30, 4:40}\n",
    "dic3 = {5:50, 6:60}\n",
    "dic4 = {}              # dicionário vazio\n",
    "for dic in (dic1,dic2,dic3):\n",
    "    dic4.update(dic)\n",
    "dic4"
   ]
  },
  {
   "cell_type": "code",
   "execution_count": null,
   "metadata": {},
   "outputs": [],
   "source": [
    "# Exercício 2\n",
    "d = {}\n",
    "for i in range(1,16):\n",
    "    d[i] = i**2\n",
    "d"
   ]
  },
  {
   "cell_type": "markdown",
   "metadata": {},
   "source": [
    "<p style=\"text-align:right;\"><a href=\"#topo\">Volta ao topo</a>"
   ]
  },
  {
   "cell_type": "markdown",
   "metadata": {},
   "source": [
    "## 7 Estruturas de Dados \n",
    "(Contêineres)\n",
    "\n",
    "<a id=\"7.\"></a>\n",
    "### 7.1 Lista\n",
    "\n",
    "Uma lista em Python é definida como uma <font color=\"green\">coleção de itens ou **objetos heterogêneos**</font>, ou seja, os dados podem ser de qualquer tipo, inclusive outras listas.  \n",
    "\n",
    "As listas podem ser homogêneas (dados de um mesmo tipo) ou heterogêneas, o que faz delas ferramentas poderosas no armazenamento e manipulação de dados. Uma lista pode conter números inteiros, números reais (ponto flutuante), strings ou qualquer outro objeto. As listas também são muito úteis na implementação de estruturas de dados, tais como pilhas e filas. As listas são mutáveis, ou seja, podem ser alteradas a qualquer instante após sua criação.\n",
    "\n",
    "No Python, `list` é um tipo de recipiente (_container_) usado no armazenamento de vários dados numa mesma variável. Ao contrário dos conjuntos (_sets_), uma <b>lista</b> tem seus elementos ordenados e uma contagem definida. Os elementos em uma lista são indexados de acordo com uma sequência definida e a indexação da lista tem índice 0 (zero) para o primeiro valor armazenado. Cada elemento da lista tem seu lugar definido, permitindo a existência de elementos duplicados na lista, com cada elemento tendo seu próprio lugar na memória.\n",
    "\n",
    "A lista é uma ferramenta útil quando se deseja preservar a ordem (sequência) dos dados e \"iterar\" (acessar sequencialmente) sobre os elementos da estrutura de dados (lista)."
   ]
  },
  {
   "cell_type": "code",
   "execution_count": 106,
   "metadata": {},
   "outputs": [
    {
     "name": "stdout",
     "output_type": "stream",
     "text": [
      "Nome do Funcionário: JOÃO BRANDÃO\n",
      "Profissão..........: Eletricista\n",
      "Idade..............: 33\n",
      "Salário (R$).......: 2500\n",
      "Registro:  ['JOÃO BRANDÃO', 'Eletricista', 33, 2500.0]\n"
     ]
    }
   ],
   "source": [
    "NOME = input(\"Nome do Funcionário: \")\n",
    "PROF = input(\"Profissão..........: \")\n",
    "IDAD = int(input(\"Idade..............: \"))\n",
    "SALR = float(input(\"Salário (R$).......: \"))\n",
    "\n",
    "FUNC = [NOME, PROF, IDAD, SALR]\n",
    "print(\"Registro: \", FUNC)"
   ]
  },
  {
   "cell_type": "code",
   "execution_count": 107,
   "metadata": {},
   "outputs": [
    {
     "name": "stdout",
     "output_type": "stream",
     "text": [
      "2500.0\n"
     ]
    },
    {
     "data": {
      "text/plain": [
       "float"
      ]
     },
     "execution_count": 107,
     "metadata": {},
     "output_type": "execute_result"
    }
   ],
   "source": [
    "print(FUNC[3])\n",
    "type(FUNC[3])"
   ]
  },
  {
   "cell_type": "code",
   "execution_count": 16,
   "metadata": {},
   "outputs": [
    {
     "name": "stdout",
     "output_type": "stream",
     "text": [
      "RPi Arduino\n",
      "['', 'ESP-32', 8051, 'ESP-8266', 'Arduino', 'BeagleBone', 'RPi']\n"
     ]
    }
   ],
   "source": [
    "# exemplo de lista em Python\n",
    "placaDesenv = ['RPi', 'BeagleBone', 'Arduino', 'ESP-8266', 8051, \"ESP-32\", '']\n",
    "# acessando para exibição, o primeiro e o terceiro elementos da lista 'placaDesenv'\n",
    "print(placaDesenv[0], placaDesenv[2])\n",
    "# exibindo todos os elementos da lista em ordem inversa\n",
    "print(placaDesenv[::-1])"
   ]
  },
  {
   "cell_type": "markdown",
   "metadata": {},
   "source": [
    "Também pode-se usar uma **coleção de itens de um único tipo de dado**, e nesse caso, dizemos que o contêiner é um arranjo (*array*):"
   ]
  },
  {
   "cell_type": "code",
   "execution_count": 2,
   "metadata": {},
   "outputs": [
    {
     "name": "stdout",
     "output_type": "stream",
     "text": [
      "array('d', [12.0, -9.5])\n"
     ]
    }
   ],
   "source": [
    "from array import array\n",
    "gols = array('d')          # um arranjo de valores numéricos (dígitos - d)\n",
    "gols.append(12)\n",
    "gols.append(-9.5)\n",
    "print(gols)"
   ]
  },
  {
   "cell_type": "code",
   "execution_count": 1,
   "metadata": {},
   "outputs": [
    {
     "name": "stdout",
     "output_type": "stream",
     "text": [
      "array('d', [12.0, -9.5])\n"
     ]
    },
    {
     "ename": "TypeError",
     "evalue": "must be real number, not str",
     "output_type": "error",
     "traceback": [
      "\u001b[1;31m---------------------------------------------------------------------------\u001b[0m",
      "\u001b[1;31mTypeError\u001b[0m                                 Traceback (most recent call last)",
      "\u001b[1;32m<ipython-input-1-3d2ef14de8bf>\u001b[0m in \u001b[0;36m<module>\u001b[1;34m\u001b[0m\n\u001b[0;32m      4\u001b[0m \u001b[0mgols\u001b[0m\u001b[1;33m.\u001b[0m\u001b[0mappend\u001b[0m\u001b[1;33m(\u001b[0m\u001b[1;33m-\u001b[0m\u001b[1;36m9.5\u001b[0m\u001b[1;33m)\u001b[0m\u001b[1;33m\u001b[0m\u001b[1;33m\u001b[0m\u001b[0m\n\u001b[0;32m      5\u001b[0m \u001b[0mprint\u001b[0m\u001b[1;33m(\u001b[0m\u001b[0mgols\u001b[0m\u001b[1;33m)\u001b[0m\u001b[1;33m\u001b[0m\u001b[1;33m\u001b[0m\u001b[0m\n\u001b[1;32m----> 6\u001b[1;33m \u001b[0mgols\u001b[0m\u001b[1;33m.\u001b[0m\u001b[0mappend\u001b[0m\u001b[1;33m(\u001b[0m\u001b[1;34m'Ok?'\u001b[0m\u001b[1;33m)\u001b[0m\u001b[1;33m\u001b[0m\u001b[1;33m\u001b[0m\u001b[0m\n\u001b[0m",
      "\u001b[1;31mTypeError\u001b[0m: must be real number, not str"
     ]
    }
   ],
   "source": [
    "gols.append('Ok?')"
   ]
  },
  {
   "cell_type": "markdown",
   "metadata": {},
   "source": [
    "### <tt>Percorrendo os Elementos de uma Lista</tt>\n",
    "\n",
    "#### Ordem Natural"
   ]
  },
  {
   "cell_type": "code",
   "execution_count": 26,
   "metadata": {
    "scrolled": false
   },
   "outputs": [
    {
     "name": "stdout",
     "output_type": "stream",
     "text": [
      "Quantidade de elementos da lista CORES: 6\n",
      "['branco', 'vermelho', 'azul', 'verde', 'amarelo', 'preto']\n",
      "branco | azul | amarelo | \b\b"
     ]
    }
   ],
   "source": [
    "# Python 3 - programa convencional\n",
    "cores = ['branco', 'vermelho', 'azul', 'verde', 'amarelo', 'preto']\n",
    "print(\"Quantidade de elementos da lista CORES:\", len(cores))\n",
    "print(cores)\n",
    "\n",
    "for i in range(0,len(cores)):    # range(6): 0, 1, 2, 3, 4, 5\n",
    "    print(cores[i], end=' | ')\n",
    "print('\\b\\b',end='')           # backspace com apagamento! (o cursor volta uma posição mas caracter não é apagado)"
   ]
  },
  {
   "cell_type": "code",
   "execution_count": 25,
   "metadata": {
    "scrolled": true
   },
   "outputs": [
    {
     "name": "stdout",
     "output_type": "stream",
     "text": [
      "branco | vermelho | azul | verde | amarelo | preto | \b\b\n"
     ]
    }
   ],
   "source": [
    "# Python 3 - programa pythônico\n",
    "cores = ['branco', 'vermelho', 'azul', 'verde', 'amarelo', 'preto']\n",
    "for cor in cores:\n",
    "    print(cor, end=' | ')\n",
    "print('\\b\\b')"
   ]
  },
  {
   "cell_type": "markdown",
   "metadata": {},
   "source": [
    "**Caracteres de Controle** (em inglês: *Escape Characters*)  \n",
    "\n",
    "| Caracter | Descrição \n",
    "|:--------:|:----------\n",
    "|\\ |Backslash  (\\)  \n",
    "|' |apóstrofe  (')  \n",
    "|\" |aspa dupla (\")  \n",
    "|\\a |ASCII Bell (BEL)  \n",
    "|\\b |ASCII Backspace (BS)  \n",
    "|\\f |ASCII Formfeed (FF)  \n",
    "|\\n |ASCII Linefeed (LF)  \n",
    "|\\r |ASCII Carriage Return (CR)  \n",
    "|\\t |ASCII Horizontal Tab (TAB)  \n",
    "|\\uxxxx| Caracter com valor hexadecimal de 16 bits XXXX (somente Unicode) (1)  \n",
    "|\\Uxxxxxxxx |Caracter com valor hexadecimal de 16 bits XXXX (somente Unicode) (2)  \n",
    "|\\v |ASCII Tabulação Vertical (VT)  \n",
    "|\\ooo |Caracter com valor octal OOO (3)(5)  \n",
    "|\\xhh |Caracter com valor hexadecimal de 8 bits value HH (4)(5)  "
   ]
  },
  {
   "cell_type": "markdown",
   "metadata": {},
   "source": [
    "**Exemplo**: Mostrando as cores cujos nomes terminam com a letra 'o'."
   ]
  },
  {
   "cell_type": "code",
   "execution_count": 27,
   "metadata": {},
   "outputs": [
    {
     "name": "stdout",
     "output_type": "stream",
     "text": [
      "branco, vermelho, amarelo, preto, \b\b\n"
     ]
    }
   ],
   "source": [
    "# Python 3 - programa pythônico: Cores com nome terminado em 'o'\n",
    "cores = ['branco', 'vermelho', 'azul', 'verde', 'amarelo', 'preto']\n",
    "for cor in cores:\n",
    "    if cor[-1] == 'o':\n",
    "        print(cor, end=', ')\n",
    "print('\\b\\b')"
   ]
  },
  {
   "cell_type": "markdown",
   "metadata": {},
   "source": [
    "**Exercício**: Cor(es) cujo(s) nome(s) contém(nham) a letra 'a' e terminando com 'o'."
   ]
  },
  {
   "cell_type": "code",
   "execution_count": 28,
   "metadata": {},
   "outputs": [
    {
     "name": "stdout",
     "output_type": "stream",
     "text": [
      "branco, amarelo, \b\b\n"
     ]
    }
   ],
   "source": [
    "# Python 3 - programa convencional\n",
    "cores = ['branco', 'vermelho', 'azul', 'verde', 'amarelo', 'preto']\n",
    "coresO = []                   # lista de cores que terminam com a letra 'o' (vazia no início)\n",
    "for cor in cores:\n",
    "    if cor[-1] == 'o':\n",
    "        coresO.append(cor)\n",
    "for cor in coresO:\n",
    "    if 'a' in cor:\n",
    "        print(cor, end=', ')\n",
    "print('\\b\\b')"
   ]
  },
  {
   "cell_type": "code",
   "execution_count": 11,
   "metadata": {},
   "outputs": [
    {
     "name": "stdout",
     "output_type": "stream",
     "text": [
      "branco, amarelo, \b\b\n"
     ]
    }
   ],
   "source": [
    "# Python 3 - programa pythônico\n",
    "cores = ['branco', 'vermelho', 'azul', 'verde', 'amarelo', 'preto']\n",
    "for cor in cores:\n",
    "    if cor[-1] == 'o' and 'a' in cor:\n",
    "        print(cor, end=', ')\n",
    "print('\\b\\b')"
   ]
  },
  {
   "cell_type": "markdown",
   "metadata": {},
   "source": [
    "Exemplo: Mostrando as cores cujos nomes tem mais de cinco letras."
   ]
  },
  {
   "cell_type": "code",
   "execution_count": 29,
   "metadata": {},
   "outputs": [
    {
     "name": "stdout",
     "output_type": "stream",
     "text": [
      "branco, vermelho, amarelo, \b\b\n"
     ]
    }
   ],
   "source": [
    "# Python 3 - programa pythônico\n",
    "cores = ['branco', 'vermelho', 'azul', 'verde', 'amarelo', 'preto']\n",
    "for cor in cores:\n",
    "    if len(cor) > 5:\n",
    "        print(cor, end=', ')\n",
    "print('\\b\\b')"
   ]
  },
  {
   "cell_type": "markdown",
   "metadata": {},
   "source": [
    "#### Ordem Reversa"
   ]
  },
  {
   "cell_type": "code",
   "execution_count": 14,
   "metadata": {},
   "outputs": [
    {
     "name": "stdout",
     "output_type": "stream",
     "text": [
      "preto, amarelo, verde, azul, vermelho, branco, "
     ]
    }
   ],
   "source": [
    "# Python 3 - programa convencional\n",
    "cores = ['branco', 'vermelho', 'azul', 'verde', 'amarelo', 'preto']\n",
    "for i in range(len(cores)-1, -1, -1):\n",
    "    print(cores[i], end=', ')"
   ]
  },
  {
   "cell_type": "code",
   "execution_count": 15,
   "metadata": {},
   "outputs": [
    {
     "name": "stdout",
     "output_type": "stream",
     "text": [
      "preto, amarelo, verde, azul, vermelho, branco, "
     ]
    }
   ],
   "source": [
    "# Python 3 - programa pythônico\n",
    "cores = ['branco', 'vermelho', 'azul', 'verde', 'amarelo', 'preto']\n",
    "#for cor in reversed(cores):    # usando função nativa\n",
    "for cor in cores[::-1]:         # usando fatiamento (slicing)\n",
    "    print(cor, end=', ')"
   ]
  },
  {
   "cell_type": "markdown",
   "metadata": {},
   "source": [
    "### <tt>Lista Vazia</tt>"
   ]
  },
  {
   "cell_type": "code",
   "execution_count": 16,
   "metadata": {
    "scrolled": true
   },
   "outputs": [
    {
     "name": "stdout",
     "output_type": "stream",
     "text": [
      "[]\n"
     ]
    }
   ],
   "source": [
    "lista_compra = []\n",
    "print(lista_compra)"
   ]
  },
  {
   "cell_type": "markdown",
   "metadata": {},
   "source": [
    "**Exercício**: Crie uma lista para armazenar os dados de alunos (nome e nota média) fornecidos pelo usuário. Use como flag de parada de entrada de dados o nome do aluno como 'fim'. Depois da entrada de dados mostre a lista."
   ]
  },
  {
   "cell_type": "code",
   "execution_count": 31,
   "metadata": {},
   "outputs": [
    {
     "name": "stdout",
     "output_type": "stream",
     "text": [
      "Nome do Aluno: Ana\n",
      "Nota do Aluno: 10\n",
      "Nome do Aluno: João\n",
      "Nota do Aluno: 8\n",
      "Nome do Aluno: Maria\n",
      "Nota do Aluno: 7\n",
      "Nome do Aluno: Carlos\n",
      "['Ana', 10.0, 'João', 8.0, 'Maria', 7.0]\n"
     ]
    }
   ],
   "source": [
    "turma = []\n",
    "nome = input('Nome do Aluno: ')\n",
    "while nome != 'fim':\n",
    "    nota = float(input('Nota do Aluno: '))\n",
    "    turma.append(nome)\n",
    "    turma.append(nota)\n",
    "    nome = input('Nome do Aluno: ')\n",
    "print(turma)"
   ]
  },
  {
   "cell_type": "markdown",
   "metadata": {},
   "source": [
    "### <tt>Lista Misturada (heterogênea)</tt>"
   ]
  },
  {
   "cell_type": "code",
   "execution_count": 21,
   "metadata": {},
   "outputs": [
    {
     "name": "stdout",
     "output_type": "stream",
     "text": [
      "[3.141592653589, -5, 'Tudo certo?', True, '*']\n"
     ]
    }
   ],
   "source": [
    "mist = [3.141592653589, -5, 'Tudo certo?', True, '*']\n",
    "print(mist)"
   ]
  },
  {
   "cell_type": "markdown",
   "metadata": {},
   "source": [
    "### <tt>Lista 2D</tt>"
   ]
  },
  {
   "cell_type": "code",
   "execution_count": 32,
   "metadata": {},
   "outputs": [
    {
     "name": "stdout",
     "output_type": "stream",
     "text": [
      "[['12', 3], [-5, 'Tudo certo?', True, 'IFG'], [0.1, 'ok', 22]]\n",
      "Tudo certo?\n",
      "12, 3, \b\b\n",
      "-5, Tudo certo?, True, IFG, \b\b\n",
      "0.1, ok, 22, \b\b\n"
     ]
    }
   ],
   "source": [
    "lista2D = [ ['12',3],\n",
    "            [-5, 'Tudo certo?', True, 'IFG'],\n",
    "            [0.1, 'ok',22] ]\n",
    "print(lista2D)\n",
    "\n",
    "print(lista2D[1][1])\n",
    "\n",
    "for linha in lista2D:\n",
    "    for elem in linha:\n",
    "        print(elem,end=', ')\n",
    "    print('\\b'*2)                       # dois caracteres 'backspace': para apagar a última vírgula da linha..."
   ]
  },
  {
   "cell_type": "markdown",
   "metadata": {},
   "source": [
    "### <tt>Fatiamento de Lista</tt>"
   ]
  },
  {
   "cell_type": "code",
   "execution_count": 24,
   "metadata": {},
   "outputs": [
    {
     "name": "stdout",
     "output_type": "stream",
     "text": [
      "[0, 2, 4, 6, 8, 10, 12, 14, 16, 18]\n",
      "[0, 2, 4]\n",
      "[4, 6, 8, 10, 12, 14]\n"
     ]
    }
   ],
   "source": [
    "# listadec = range(1,10)        # python2: o resultado da função 'range' é uma lista de valores\n",
    "listadec = list(range(0,20,2))  # python3: o resultado da função 'range' é um ojbeto 'range', precisa ser convertido em lista\n",
    "print(listadec)\n",
    "print(listadec[0:3])            # acessa do 1o. ao 3o. elementos\n",
    "print(listadec[2:-2])           # acessa do 3o. ao penúltimo elementos"
   ]
  },
  {
   "cell_type": "markdown",
   "metadata": {},
   "source": [
    "### <tt>Soma dos Elementos da Lista (_loop_)</tt>"
   ]
  },
  {
   "cell_type": "code",
   "execution_count": 37,
   "metadata": {},
   "outputs": [
    {
     "name": "stdout",
     "output_type": "stream",
     "text": [
      "Soma dos Pesos:  298\n",
      "Soma dos Pesos:  298\n"
     ]
    }
   ],
   "source": [
    "pesos = [56, 73, 92, 32, 45]      # lista homogênea - só valores inteiros\n",
    "# programa convencional\n",
    "soma = 0\n",
    "for peso in pesos:\n",
    "    soma += peso                  # operação equivalente: soma = soma + peso   (como em Ling. C)\n",
    "print('Soma dos Pesos: ', soma)\n",
    "\n",
    "# programa pythonico\n",
    "print('Soma dos Pesos: ', sum(pesos))"
   ]
  },
  {
   "cell_type": "markdown",
   "metadata": {},
   "source": [
    "E se a lista contiver elementos não numéricos? O interpretador Python indica erro para a tentativa de se somar elemento do tipo `str` com `int`."
   ]
  },
  {
   "cell_type": "code",
   "execution_count": 34,
   "metadata": {},
   "outputs": [
    {
     "ename": "TypeError",
     "evalue": "unsupported operand type(s) for +=: 'int' and 'str'",
     "output_type": "error",
     "traceback": [
      "\u001b[1;31m---------------------------------------------------------------------------\u001b[0m",
      "\u001b[1;31mTypeError\u001b[0m                                 Traceback (most recent call last)",
      "\u001b[1;32m<ipython-input-34-1d76f45988bc>\u001b[0m in \u001b[0;36m<module>\u001b[1;34m\u001b[0m\n\u001b[0;32m      2\u001b[0m \u001b[0msoma\u001b[0m \u001b[1;33m=\u001b[0m \u001b[1;36m0\u001b[0m\u001b[1;33m\u001b[0m\u001b[1;33m\u001b[0m\u001b[0m\n\u001b[0;32m      3\u001b[0m \u001b[1;32mfor\u001b[0m \u001b[0mpeso\u001b[0m \u001b[1;32min\u001b[0m \u001b[0mpesos\u001b[0m\u001b[1;33m:\u001b[0m\u001b[1;33m\u001b[0m\u001b[1;33m\u001b[0m\u001b[0m\n\u001b[1;32m----> 4\u001b[1;33m     \u001b[0msoma\u001b[0m \u001b[1;33m+=\u001b[0m \u001b[0mpeso\u001b[0m\u001b[1;33m\u001b[0m\u001b[1;33m\u001b[0m\u001b[0m\n\u001b[0m\u001b[0;32m      5\u001b[0m \u001b[0mprint\u001b[0m\u001b[1;33m(\u001b[0m\u001b[1;34m'Soma dos Pesos: '\u001b[0m\u001b[1;33m,\u001b[0m \u001b[0msoma\u001b[0m\u001b[1;33m)\u001b[0m\u001b[1;33m\u001b[0m\u001b[1;33m\u001b[0m\u001b[0m\n",
      "\u001b[1;31mTypeError\u001b[0m: unsupported operand type(s) for +=: 'int' and 'str'"
     ]
    }
   ],
   "source": [
    "pesos = [56, 73, 92, 'ok', 32, 45, True, \"vida\"]\n",
    "soma = 0\n",
    "for peso in pesos:\n",
    "    soma += peso\n",
    "print('Soma dos Pesos: ', soma)"
   ]
  },
  {
   "cell_type": "markdown",
   "metadata": {},
   "source": [
    "Prevenindo-se da possível ocorrência do erro: <tt>TypeError</tt>"
   ]
  },
  {
   "cell_type": "code",
   "execution_count": 38,
   "metadata": {
    "scrolled": true
   },
   "outputs": [
    {
     "name": "stdout",
     "output_type": "stream",
     "text": [
      "Soma dos Pesos:  298\n"
     ]
    }
   ],
   "source": [
    "pesos = [56, 73, 92, 'ok', 32, 45, True, \"vida\"]\n",
    "soma = 0\n",
    "for peso in pesos:\n",
    "    if str(peso).isnumeric():\n",
    "#   if type(peso) == int or type(peso) == float:         # verificação do conteúdo do elemento\n",
    "        soma += peso\n",
    "print('Soma dos Pesos: ', soma)\n"
   ]
  },
  {
   "cell_type": "markdown",
   "metadata": {},
   "source": [
    "### <tt>Apresentação da Lista com _loop_</tt>"
   ]
  },
  {
   "cell_type": "code",
   "execution_count": 40,
   "metadata": {},
   "outputs": [
    {
     "name": "stdout",
     "output_type": "stream",
     "text": [
      "branco\n",
      "amarelo\n",
      "laranja\n",
      "vermelho\n",
      "verde\n",
      "roxo\n",
      "preto\n"
     ]
    }
   ],
   "source": [
    "cores = [\"branco\",\"amarelo\",\"laranja\",\"vermelho\",\"verde\",\"azul\",\"roxo\",\"preto\"]\n",
    "for cor in cores:\n",
    "    print(cor,end='')\n",
    "    if cor == \"azul\":\n",
    "        print(\" --> minha cor favorita!\")\n",
    "    else:\n",
    "        print()"
   ]
  },
  {
   "cell_type": "code",
   "execution_count": 15,
   "metadata": {},
   "outputs": [
    {
     "name": "stdout",
     "output_type": "stream",
     "text": [
      "(. .)\n",
      " (~) \n",
      "  |\n",
      " /|\\\n",
      "  |\n",
      "_/ \\_\n"
     ]
    }
   ],
   "source": [
    "# preparando para o jogo da forca\n",
    "boneco = ['(. .)', ' (~) ', '  |', \" /|\\\\\", '  |', '_/ \\\\_']\n",
    "for parte in boneco:\n",
    "    print(parte)"
   ]
  },
  {
   "cell_type": "markdown",
   "metadata": {},
   "source": [
    "### <tt>Abrangência de Lista</tt> (_List Comprehension_)\n",
    "\n",
    "Trata-se de uma forma concisa de se criar e manipular listas, com a seguinte sintaxe: \n",
    "```python\n",
    "[expr for item in objeto_iteravel]\n",
    "```\n",
    "A expressão `expr` é aplicada para cada item do objeto `objeto_iteravel`. Como a sintaxe está entre colchetes então todo elemento iterado será um elemento de uma lista resultante.\n",
    "\n",
    "**Exemplo**: Criação de uma lista com os valores quadrados dos números naturais de 0 a 9.\n",
    "\n",
    "#### Modo Convencional"
   ]
  },
  {
   "cell_type": "code",
   "execution_count": 34,
   "metadata": {},
   "outputs": [
    {
     "data": {
      "text/plain": [
       "[0, 1, 4, 9, 16, 25, 36, 49, 64, 81]"
      ]
     },
     "execution_count": 34,
     "metadata": {},
     "output_type": "execute_result"
    }
   ],
   "source": [
    "lista = []\n",
    "for item in range(10):\n",
    "    lista.append(item**2)   \n",
    "lista"
   ]
  },
  {
   "cell_type": "markdown",
   "metadata": {},
   "source": [
    "#### Modo Pythonico\n",
    "\n",
    "Podemos reescrever o exemplo anterior usando _list comprehension_, da seguinte forma:"
   ]
  },
  {
   "cell_type": "code",
   "execution_count": 35,
   "metadata": {},
   "outputs": [
    {
     "data": {
      "text/plain": [
       "[0, 1, 4, 9, 16, 25, 36, 49, 64, 81]"
      ]
     },
     "execution_count": 35,
     "metadata": {},
     "output_type": "execute_result"
    }
   ],
   "source": [
    "lista = [item**2 for item in range(10)]   # potência de 2 de cada elemento da faixa (intervalo, range)\n",
    "lista"
   ]
  },
  {
   "cell_type": "markdown",
   "metadata": {},
   "source": [
    "Exemplo: Como transformar os itens da lista `nomes` em maiúsculos.\n",
    "\n",
    "#### Modo Convencional"
   ]
  },
  {
   "cell_type": "code",
   "execution_count": 36,
   "metadata": {},
   "outputs": [
    {
     "name": "stdout",
     "output_type": "stream",
     "text": [
      "['JOÃO', 'MARIA', 'JOSÉ', 'SUZY']\n"
     ]
    }
   ],
   "source": [
    "# Solução 1: cria uma nova lista com todos os elementos em maiúsculas\n",
    "nomes = ['joão','maria','josé','suzy']\n",
    "maiusc = []                             # lista a ser criada com nomes escritos em maiúsculas\n",
    "for nome_minusc in nomes:\n",
    "    maiusc.append(nome_minusc.upper())  # o método 'upper()' da classe String converte as letras para maiúsculas.\n",
    "print(maiusc)"
   ]
  },
  {
   "cell_type": "code",
   "execution_count": 37,
   "metadata": {},
   "outputs": [
    {
     "name": "stdout",
     "output_type": "stream",
     "text": [
      "['JOÃO', 'MARIA', 'JOSÉ', 'SUZY', \b\b \b]\n"
     ]
    }
   ],
   "source": [
    "# Solução 2: mostrando os elementos da lista em maiúsculas\n",
    "nomes = ['joão','maria','josé','suzy']\n",
    "print('[',end=\"\")\n",
    "for nome in nomes:\n",
    "    print(\"'\" + nome.upper(), end=\"', \")\n",
    "print('\\b'*2,'\\b]')"
   ]
  },
  {
   "cell_type": "markdown",
   "metadata": {},
   "source": [
    "#### Modo Pythonico"
   ]
  },
  {
   "cell_type": "code",
   "execution_count": 44,
   "metadata": {
    "scrolled": true
   },
   "outputs": [
    {
     "name": "stdout",
     "output_type": "stream",
     "text": [
      "['João', 'Maria', 'José', 'Suzy']\n"
     ]
    }
   ],
   "source": [
    "# Solução 3: usando abrangência de lista\n",
    "nomes = ['joão','maria','josé','suzy']\n",
    "print( [x.capitalize() for x in nomes] )"
   ]
  },
  {
   "cell_type": "markdown",
   "metadata": {},
   "source": [
    "###  <tt>List Comprehension com Filtro</tt> (`if`)\n",
    "As expressões das _Lists Comprehensions_ podem ser condicionadas, para se criar listas com critérios, ou até mesmo modificar listas existentes.\n",
    "\n",
    "Sua sintaxe básica é:\n",
    "```python\n",
    "[expr for item in iteravel if cond]\n",
    "```"
   ]
  },
  {
   "cell_type": "markdown",
   "metadata": {},
   "source": [
    "Exemplo: Transformar para letras maiúsculas somente os nomes que começarem com a letra 'j'."
   ]
  },
  {
   "cell_type": "code",
   "execution_count": 39,
   "metadata": {},
   "outputs": [
    {
     "data": {
      "text/plain": [
       "['JOÃO', 'JOSÉ']"
      ]
     },
     "execution_count": 39,
     "metadata": {},
     "output_type": "execute_result"
    }
   ],
   "source": [
    "nomes = ['joão','maria','josé','suzy']\n",
    "[item.upper() for item in nomes if item[0] == 'j']"
   ]
  },
  {
   "cell_type": "markdown",
   "metadata": {},
   "source": [
    "Exemplo: Transformar para letras maiúsculas somente os nomes que começarem com a letra 'j' e terminarem com a letra 'o'."
   ]
  },
  {
   "cell_type": "code",
   "execution_count": 43,
   "metadata": {},
   "outputs": [
    {
     "data": {
      "text/plain": [
       "['João']"
      ]
     },
     "execution_count": 43,
     "metadata": {},
     "output_type": "execute_result"
    }
   ],
   "source": [
    "nomes = ['joão','maria','josé','suzy']\n",
    "[item.upper() for item in nomes if item[0] == 'j' if item[-1] == 'o']"
   ]
  },
  {
   "cell_type": "markdown",
   "metadata": {},
   "source": [
    "### <tt>Enumerando os Elementos de uma Lista</tt>\n",
    "#### Modo Convencional"
   ]
  },
  {
   "cell_type": "code",
   "execution_count": 41,
   "metadata": {},
   "outputs": [
    {
     "name": "stdout",
     "output_type": "stream",
     "text": [
      "1 - branco\n",
      "2 - vermelho\n",
      "3 - azul\n",
      "4 - verde\n",
      "5 - amarelo\n",
      "6 - preto\n"
     ]
    }
   ],
   "source": [
    "# Python 3 - programa convencional\n",
    "cores = ['branco', 'vermelho', 'azul', 'verde', 'amarelo', 'preto']\n",
    "for i in range(len(cores)):\n",
    "    print(i+1,\"-\",cores[i])"
   ]
  },
  {
   "cell_type": "markdown",
   "metadata": {},
   "source": [
    "#### Modo Pythonico"
   ]
  },
  {
   "cell_type": "code",
   "execution_count": 44,
   "metadata": {
    "scrolled": true
   },
   "outputs": [
    {
     "name": "stdout",
     "output_type": "stream",
     "text": [
      "0 - branco\n",
      "1 - vermelho\n",
      "2 - azul\n",
      "3 - verde\n",
      "4 - amarelo\n",
      "5 - preto\n"
     ]
    }
   ],
   "source": [
    "# Python 3 - programa pythônico\n",
    "cores = ['branco', 'vermelho', 'azul', 'verde', 'amarelo', 'preto']\n",
    "for i, cor in enumerate(cores):\n",
    "    print(i,\"-\",cor)"
   ]
  },
  {
   "cell_type": "code",
   "execution_count": 45,
   "metadata": {
    "scrolled": true
   },
   "outputs": [
    {
     "name": "stdout",
     "output_type": "stream",
     "text": [
      "1 - branco\n",
      "2 - vermelho\n",
      "3 - azul\n",
      "4 - verde\n",
      "5 - amarelo\n",
      "6 - preto\n"
     ]
    }
   ],
   "source": [
    "# Python 3 - programa pythônico\n",
    "cores = ['branco', 'vermelho', 'azul', 'verde', 'amarelo', 'preto']\n",
    "for i, cor in enumerate(cores,1):\n",
    "    print(i,\"-\",cor)"
   ]
  },
  {
   "cell_type": "markdown",
   "metadata": {},
   "source": [
    "### <tt>Classificando os Elementos de uma Lista</tt>"
   ]
  },
  {
   "cell_type": "code",
   "execution_count": 46,
   "metadata": {},
   "outputs": [
    {
     "name": "stdout",
     "output_type": "stream",
     "text": [
      "amarelo, azul, branco, preto, verde, vermelho, \b\b\n"
     ]
    }
   ],
   "source": [
    "# Python 3 - Ordem alfabética\n",
    "cores = ['branco', 'vermelho', 'azul', 'verde', 'amarelo', 'preto']\n",
    "for cor in sorted(cores):\n",
    "    print(cor, end=', ')\n",
    "print('\\b\\b')"
   ]
  },
  {
   "cell_type": "code",
   "execution_count": 47,
   "metadata": {},
   "outputs": [
    {
     "name": "stdout",
     "output_type": "stream",
     "text": [
      "vermelho, verde, preto, branco, azul, amarelo, \b\b\n"
     ]
    }
   ],
   "source": [
    "# Python 3 - Ordem alfabética reversa\n",
    "cores = ['branco', 'vermelho', 'azul', 'verde', 'amarelo', 'preto']\n",
    "for cor in sorted(cores, reverse=True):\n",
    "    print(cor, end=', ')\n",
    "print('\\b\\b')"
   ]
  },
  {
   "cell_type": "markdown",
   "metadata": {},
   "source": [
    "### <a style=\"color: red\">Exercícios</a>\n",
    "1. Escreva um _script_ para gerar uma lista de todos os números primos menores que 20. Mas antes de começar, é importante definir **número primo**...  \n",
    "\n",
    "**Um número primo tem que ser um inteiro positivo divisível apenas por dois outros números inteiros: 1 e ele mesmo.** Portanto, o número 1 deveria ser um número primo, porém por definição, não é."
   ]
  },
  {
   "cell_type": "code",
   "execution_count": null,
   "metadata": {},
   "outputs": [],
   "source": [
    "# Cria uma lista de números primos menores que 20\n",
    "primos = []\n",
    "for candidato in range(2, 21):\n",
    "    # Assumindo que 'n' é primo até prova em contrário! \n",
    "    Primo = True\n",
    "    for n in range(2, int(candidato ** 0.5) + 1):\n",
    "        if candidato % n == 0:\n",
    "            Primo = False\n",
    "            break\n",
    "    if Primo:\n",
    "        primos.append(candidato)\n",
    "print(\"Primos (< 20):\",primos)\n",
    "\n",
    "from IPython.display import HTML\n",
    "HTML('''<script> code_show=true; \n",
    "  function code_toggle() {\n",
    "    if (code_show) {\n",
    "        $('div.cell.code_cell.rendered.selected div.input').hide(); } \n",
    "    else {\n",
    "        $('div.cell.code_cell.rendered.selected div.input').show(); }\n",
    "    code_show = !code_show\n",
    "  } \n",
    "$( document ).ready(code_toggle);\n",
    "</script>\n",
    "Para mostrar/esconder o código de entrada desta célula, \n",
    "clique <a href=\"javascript:code_toggle()\">aqui</a>.''')"
   ]
  },
  {
   "cell_type": "markdown",
   "metadata": {},
   "source": [
    "2.\tDada uma lista de chamada dos alunos (máx. 99 alunos) de uma turma, pede-se mostrar a lista com a seguinte aparência:\n",
    "> 01 - JOAO  \n",
    "02 - ANA  \n",
    "03 - RUBENS  \n",
    "04 - OTACILIO  \n",
    "05 - ...  "
   ]
  },
  {
   "cell_type": "code",
   "execution_count": null,
   "metadata": {},
   "outputs": [],
   "source": [
    "nomes = ['joão','ana','rubens','otacílio','maria']\n",
    "for pos, nome in enumerate(nomes,1):\n",
    "    print(\"%02d - %s\" % (pos,nome.upper()))"
   ]
  },
  {
   "cell_type": "markdown",
   "metadata": {},
   "source": [
    "3.\tConsidere a lista do exercício 2 contendo também a idade de cada aluno: [\"Joao\",22,\"Ana\",19,...]. Mostre a lista com a mesma aparência, porém contendo apenas os alunos com mais de 20 anos."
   ]
  },
  {
   "cell_type": "code",
   "execution_count": null,
   "metadata": {},
   "outputs": [],
   "source": [
    "nomes = ['joão',23,'ana',32,'rubens',11,'otacílio',18,'maria',24]\n",
    "for pos in range(1,len(nomes),2):\n",
    "    if nomes[pos] > 20:\n",
    "        print(\"%02d - %s\" % ((pos+1)/2,nomes[pos-1].upper()))"
   ]
  },
  {
   "cell_type": "markdown",
   "metadata": {},
   "source": [
    "4.\tConsidere uma lista de preços de frutas e verduras, em reais (`R$`), de uma feira livre: [\"Pepino\",5.5,\"Tomate\",8.3,\"Banana\",4.5,\"Laranja\",3.0,\"Café Jacú\",990.5,...]. Mostre a lista com preços convertidos para dólar americano (use câmbio `R$` 3,80/`US$`) com a seguinte aparência: \n",
    "> 01\tPepino \t5,50  \n",
    "02\tTomate \t8,30  \n",
    "03\tBanana\t4,50  \n",
    "04\tLaranja\t3,00  \n",
    "05\tCafé Jacú\t990,50  "
   ]
  },
  {
   "cell_type": "markdown",
   "metadata": {},
   "source": [
    "<p style=\"text-align:right;\"><a href=\"#topo\">Volta ao topo</a>"
   ]
  },
  {
   "cell_type": "markdown",
   "metadata": {},
   "source": [
    "<a id=\"8.\"></a>\n",
    "## 7.2.\tTupla: \n",
    "\n",
    "Uma tupla é uma **coleção ordenada e imutável** de objetos Python. Tuplas são sequências, assim como as listas. As diferenças entre tuplas e listas são: as tuplas não podem ser alteradas diferentemente das listas, e as tuplas usam parênteses como delimitadores enquanto as listas usam colchetes. Criar uma tupla é tão simples quanto colocar diferentes valores separados por vírgulas e delimitados por parênteses.\n",
    "\n",
    "### <tt>Criando Tuplas</tt>\n",
    "A construção de uma tupla usa elementos separados por vírgulas e delimitados por `( )`. Por exemplo:"
   ]
  },
  {
   "cell_type": "code",
   "execution_count": 45,
   "metadata": {},
   "outputs": [
    {
     "name": "stdout",
     "output_type": "stream",
     "text": [
      "(15, 34, 92, 22)\n"
     ]
    }
   ],
   "source": [
    "tup = (15, 34, 92, 22)\n",
    "print(tup)"
   ]
  },
  {
   "cell_type": "code",
   "execution_count": 46,
   "metadata": {},
   "outputs": [
    {
     "name": "stdout",
     "output_type": "stream",
     "text": [
      "('python', 'geeks')\n",
      "('python', 'geeks')\n"
     ]
    }
   ],
   "source": [
    "# uma forma para se criar uma tupla\n",
    "tup = 'python', 'geeks'\n",
    "print(tup) \n",
    "  \n",
    "# outra forma de se fazer o mesmo...\n",
    "tup = ('python', 'geeks') \n",
    "print(tup) "
   ]
  },
  {
   "cell_type": "markdown",
   "metadata": {},
   "source": [
    "Assim como para as listas, a quantidade de elementos pode ser obtida com a função `len()`:"
   ]
  },
  {
   "cell_type": "code",
   "execution_count": null,
   "metadata": {},
   "outputs": [],
   "source": [
    "print(len(tup))"
   ]
  },
  {
   "cell_type": "markdown",
   "metadata": {},
   "source": [
    "Tupla com objetos de tipos de dados diversos:"
   ]
  },
  {
   "cell_type": "code",
   "execution_count": null,
   "metadata": {},
   "outputs": [],
   "source": [
    "turma = ('CTIELT.4M',True,16,6.3,34323787,'10/02/2019')\n",
    "print(\"Total de Alunos: \",turma[2],\"   Diário Id: \",turma[4])"
   ]
  },
  {
   "cell_type": "markdown",
   "metadata": {},
   "source": [
    "Todas as formas de acesso aos elementos das listas também valem para as tuplas:"
   ]
  },
  {
   "cell_type": "code",
   "execution_count": null,
   "metadata": {},
   "outputs": [],
   "source": [
    "turma[-1]"
   ]
  },
  {
   "cell_type": "code",
   "execution_count": null,
   "metadata": {},
   "outputs": [],
   "source": [
    "turma[::-1]"
   ]
  },
  {
   "cell_type": "markdown",
   "metadata": {},
   "source": [
    "Concatenação de Tuplas: "
   ]
  },
  {
   "cell_type": "code",
   "execution_count": 47,
   "metadata": {},
   "outputs": [
    {
     "name": "stdout",
     "output_type": "stream",
     "text": [
      "(0, 1, 2, 3, 'python', 'geek')\n"
     ]
    }
   ],
   "source": [
    "# concatenação de duas tuplas \n",
    "tupla1, tupla2 = (0, 1, 2, 3), ('python', 'geek') \n",
    "print(tupla1 + tupla2)"
   ]
  },
  {
   "cell_type": "markdown",
   "metadata": {},
   "source": [
    "Repetição de tupla:"
   ]
  },
  {
   "cell_type": "code",
   "execution_count": 48,
   "metadata": {},
   "outputs": [
    {
     "name": "stdout",
     "output_type": "stream",
     "text": [
      "('python', 'python', 'python')\n"
     ]
    }
   ],
   "source": [
    "# criando uma tupla com repetição de tupla \n",
    "tupla3 = ('python',) * 3 \n",
    "print(tupla3)"
   ]
  },
  {
   "cell_type": "markdown",
   "metadata": {},
   "source": [
    "Conversão de lista em Tupla usando a função `tuple()`:"
   ]
  },
  {
   "cell_type": "code",
   "execution_count": 49,
   "metadata": {},
   "outputs": [
    {
     "name": "stdout",
     "output_type": "stream",
     "text": [
      "(0, 1, 2)\n",
      "('p', 'y', 't', 'h', 'o', 'n')\n"
     ]
    }
   ],
   "source": [
    "lista1 = [0, 1, 2] \n",
    "print(tuple(lista1)) \n",
    "print(tuple('python'))     # string 'python' "
   ]
  },
  {
   "cell_type": "markdown",
   "metadata": {},
   "source": [
    "A função `tuple()` recebe um único parâmetro que pode ser uma lista, uma string, um conjunto ou até mesmo um dicionário (somente as chaves são recebidas como elementos) e as converte em uma tupla."
   ]
  },
  {
   "cell_type": "markdown",
   "metadata": {},
   "source": [
    "### <tt>Métodos de Tupla</tt>\n",
    "Tuplas têm métodos embutidos, mas não tantos quanto os métodos disponíveis para listas."
   ]
  },
  {
   "cell_type": "code",
   "execution_count": 62,
   "metadata": {},
   "outputs": [
    {
     "name": "stdout",
     "output_type": "stream",
     "text": [
      "['Ana Clara', 10.0, 'João', 8.0, 'Maria', 7.0, 'Ana', 8, 'Ana', 10]\n",
      "<class 'list'>\n",
      "<class 'tuple'>\n"
     ]
    },
    {
     "data": {
      "text/plain": [
       "(2, 2)"
      ]
     },
     "execution_count": 62,
     "metadata": {},
     "output_type": "execute_result"
    }
   ],
   "source": [
    "# contagem de ocorrências de um dado elemento na tupla\n",
    "# turma.append('Ana')\n",
    "# turma.append(10)\n",
    "turma[0] = 'Ana Clara'\n",
    "print(turma)\n",
    "print(type(turma))\n",
    "turma_fixa = tuple(turma)\n",
    "print(type(turma_fixa))\n",
    "turma_fixa.count(10), turma_fixa.count('Ana')"
   ]
  },
  {
   "cell_type": "markdown",
   "metadata": {},
   "source": [
    "### <tt>Imutabilidade </tt>\n",
    "Relembrando: as tuplas são imutáveis, não se pode modificar uma tupla depois que ela for definida..."
   ]
  },
  {
   "cell_type": "code",
   "execution_count": 64,
   "metadata": {},
   "outputs": [
    {
     "data": {
      "text/plain": [
       "'João'"
      ]
     },
     "execution_count": 64,
     "metadata": {},
     "output_type": "execute_result"
    }
   ],
   "source": [
    "turma_fixa[2]"
   ]
  },
  {
   "cell_type": "code",
   "execution_count": 65,
   "metadata": {},
   "outputs": [
    {
     "ename": "TypeError",
     "evalue": "'tuple' object does not support item assignment",
     "output_type": "error",
     "traceback": [
      "\u001b[1;31m---------------------------------------------------------------------------\u001b[0m",
      "\u001b[1;31mTypeError\u001b[0m                                 Traceback (most recent call last)",
      "\u001b[1;32m<ipython-input-65-16d0722345b9>\u001b[0m in \u001b[0;36m<module>\u001b[1;34m\u001b[0m\n\u001b[1;32m----> 1\u001b[1;33m \u001b[0mturma_fixa\u001b[0m\u001b[1;33m[\u001b[0m\u001b[1;36m2\u001b[0m\u001b[1;33m]\u001b[0m \u001b[1;33m=\u001b[0m \u001b[1;36m19\u001b[0m\u001b[1;33m\u001b[0m\u001b[1;33m\u001b[0m\u001b[0m\n\u001b[0m",
      "\u001b[1;31mTypeError\u001b[0m: 'tuple' object does not support item assignment"
     ]
    }
   ],
   "source": [
    "turma_fixa[2] = 19"
   ]
  },
  {
   "cell_type": "code",
   "execution_count": 66,
   "metadata": {},
   "outputs": [
    {
     "ename": "AttributeError",
     "evalue": "'tuple' object has no attribute 'append'",
     "output_type": "error",
     "traceback": [
      "\u001b[1;31m---------------------------------------------------------------------------\u001b[0m",
      "\u001b[1;31mAttributeError\u001b[0m                            Traceback (most recent call last)",
      "\u001b[1;32m<ipython-input-66-d4147e663f1f>\u001b[0m in \u001b[0;36m<module>\u001b[1;34m\u001b[0m\n\u001b[1;32m----> 1\u001b[1;33m \u001b[0mturma_fixa\u001b[0m\u001b[1;33m.\u001b[0m\u001b[0mappend\u001b[0m\u001b[1;33m(\u001b[0m\u001b[1;34m'encerrada'\u001b[0m\u001b[1;33m)\u001b[0m\u001b[1;33m\u001b[0m\u001b[1;33m\u001b[0m\u001b[0m\n\u001b[0m",
      "\u001b[1;31mAttributeError\u001b[0m: 'tuple' object has no attribute 'append'"
     ]
    }
   ],
   "source": [
    "turma_fixa.append('encerrada')"
   ]
  },
  {
   "cell_type": "markdown",
   "metadata": {},
   "source": [
    "### <tt>Quando usar tuplas</tt>\n",
    "Você pode estar se perguntando: _\"Por que se preocupar em usar tuplas quando elas têm menos métodos disponíveis que as listas?\"_ Na verdade, as tuplas não são usadas tão frequentemente quanto as listas, mas são usadas quando a imutabilidade é necessária. Se no seu programa você está passando um objeto e precisa ter certeza de que ele não será alterado, então a tupla será a solução. Ela fornece uma forma conveniente de se obter integridade de dados."
   ]
  },
  {
   "cell_type": "code",
   "execution_count": 67,
   "metadata": {},
   "outputs": [
    {
     "name": "stdout",
     "output_type": "stream",
     "text": [
      "('python', 'teek', 'arg')\n",
      "teek arg\n"
     ]
    }
   ],
   "source": [
    "tupla2 = ('python', 'teek', 'arg')\n",
    "print(tupla2)\n",
    "print(max(tupla2), min(tupla2))      # considerando ordem alfabética"
   ]
  },
  {
   "cell_type": "code",
   "execution_count": 68,
   "metadata": {},
   "outputs": [
    {
     "name": "stdout",
     "output_type": "stream",
     "text": [
      "Diferentes!\n",
      "Maiores elementos nas tuplas 1,2: python,ok\n",
      "Menores elementos nas tuplas 1,2: geek,codificador\n"
     ]
    }
   ],
   "source": [
    "# comparação de tuplas\n",
    "tupla1 = ('python', 'geek') \n",
    "tupla2 = ('codificador', 'ok') \n",
    "  \n",
    "# if cmp(tupla1, tupla2) != 0:              # python2\n",
    "   # cmp() retorna 0 se os argumentos se casam (são iguais), 1 quando a tupla1 não  \n",
    "   # é a maior das tuplas e -1 quando a tupla1 é menor que a tupla2 \n",
    "if (tupla1 > tupla2)-(tupla1 < tupla2):     # python3\n",
    "   print('Diferentes!') \n",
    "else: \n",
    "   print('Idênticas!') \n",
    "print ('Maiores elementos nas tuplas 1,2: ' + str(max(tupla1)) +  ',' + str(max(tupla2))) \n",
    "print ('Menores elementos nas tuplas 1,2: ' + str(min(tupla1)) + ','  + str(min(tupla2))) "
   ]
  },
  {
   "cell_type": "markdown",
   "metadata": {},
   "source": [
    "Obs.: \n",
    "- `max()` e `min()` verificam os valores baseados no código ASCII. Se houver duas strings em uma tupla, o primeiro caractere diferente nas strings será verificado.\n",
    "- `cmp()` é uma função embutida no Python, usada para comparar dois objetos e não retorna `True` ou `False` mas sim um valor negativo, zero ou positivo, com base nos objetos dados. (Funcionamento parecido ao da função strcmp() da linguagem C)."
   ]
  },
  {
   "cell_type": "markdown",
   "metadata": {},
   "source": [
    "### <a style=\"color: red\">Exercício</a>\n",
    "1. Dada uma lista de tuplas, some e mostre as tuplas que tenha o primeiro valor iguais.\n",
    "\n",
    "Exemplos:\n",
    "\n",
    "    Entrada: [(1, 13), (2, 190), (3, 82), (1, 12)] \n",
    "    Saída:   [(1, 25), (2, 190), (3, 82)] \n",
    "    Entrada: [(1, 13), (1, 190), (3, 25), (1, 12)] \n",
    "    Saída:   [(1, 215), (3, 25)]"
   ]
  },
  {
   "cell_type": "code",
   "execution_count": null,
   "metadata": {},
   "outputs": [],
   "source": [
    "Input = [(1, 13), (3, -2), (1, 190), (3, 25), (1, 12)] \n",
    "d = {x:0 for x, _ in Input} \n",
    "for nome, num in Input: d[nome] += num \n",
    " \n",
    "# using map \n",
    "Output = list(map(tuple, d.items())) \n",
    "print(Output)\n",
    "\n",
    "from IPython.display import HTML\n",
    "HTML('''<script> code_show=true; \n",
    "  function code_toggle() {\n",
    "    if (code_show) {\n",
    "        $('div.cell.code_cell.rendered.selected div.input').hide(); } \n",
    "    else {\n",
    "        $('div.cell.code_cell.rendered.selected div.input').show(); }\n",
    "    code_show = !code_show\n",
    "  } \n",
    "$( document ).ready(code_toggle);\n",
    "</script>\n",
    "Para mostrar/esconder o código de entrada desta célula, \n",
    "clique <a href=\"javascript:code_toggle()\">aqui</a>.''')"
   ]
  },
  {
   "cell_type": "markdown",
   "metadata": {},
   "source": [
    "<p style=\"text-align:right;\"><a href=\"#topo\">Volta ao topo</a>"
   ]
  },
  {
   "cell_type": "markdown",
   "metadata": {},
   "source": [
    "<a id=\"9.\"></a>\n",
    "## 7.3.\tConjunto\n",
    "\n",
    "O contêiner __conjunto__ (_set_, em inglês) pode ser usado na execução de operações relacionadas a conjuntos matemáticos, tais como: união, interseção, diferença simétrica etc. \n",
    "\n",
    "Um **conjunto** é uma **coleção não ordenada de elementos únicos** e que podem ser alterados, acrescentados ou excluídos.\n",
    "\n",
    "### <tt>Criando um Conjunto</tt> \n",
    "\n",
    "Podemos usar a função `set()` ou um par de chaves `{ }` para criar um conjunto vazio, ou podemos ainda criá-los com elementos a partir de outras estruturas iteráveis (lista, tupla, dicionário etc). \n",
    "\n",
    "Exemplo: Criação e inserção de elementos num conjunto."
   ]
  },
  {
   "cell_type": "code",
   "execution_count": 66,
   "metadata": {},
   "outputs": [
    {
     "data": {
      "text/plain": [
       "set()"
      ]
     },
     "execution_count": 66,
     "metadata": {},
     "output_type": "execute_result"
    }
   ],
   "source": [
    "# criando um conjunto vazio: A = { }  ou\n",
    "A = set()\n",
    "A"
   ]
  },
  {
   "cell_type": "markdown",
   "metadata": {},
   "source": [
    "### <tt>Acrescentando Elemento(s) ao Conjunto</tt>"
   ]
  },
  {
   "cell_type": "code",
   "execution_count": 67,
   "metadata": {},
   "outputs": [
    {
     "data": {
      "text/plain": [
       "{'ok'}"
      ]
     },
     "execution_count": 67,
     "metadata": {},
     "output_type": "execute_result"
    }
   ],
   "source": [
    "A.add('ok')\n",
    "A"
   ]
  },
  {
   "cell_type": "code",
   "execution_count": 69,
   "metadata": {},
   "outputs": [
    {
     "data": {
      "text/plain": [
       "{1, 'ok'}"
      ]
     },
     "execution_count": 69,
     "metadata": {},
     "output_type": "execute_result"
    }
   ],
   "source": [
    "A.add(1)\n",
    "A.add(1)          # elementos repetidos não são incluídos...\n",
    "A.add(1)          # elementos repetidos não são incluídos...\n",
    "A"
   ]
  },
  {
   "cell_type": "code",
   "execution_count": 70,
   "metadata": {},
   "outputs": [
    {
     "data": {
      "text/plain": [
       "{-8, 1, 'ok'}"
      ]
     },
     "execution_count": 70,
     "metadata": {},
     "output_type": "execute_result"
    }
   ],
   "source": [
    "A.add(-8)\n",
    "A"
   ]
  },
  {
   "cell_type": "code",
   "execution_count": 71,
   "metadata": {},
   "outputs": [
    {
     "data": {
      "text/plain": [
       "{-8, 1, 5, 'ok'}"
      ]
     },
     "execution_count": 71,
     "metadata": {},
     "output_type": "execute_result"
    }
   ],
   "source": [
    "A.add(5)\n",
    "A                 # coleção não ordenada"
   ]
  },
  {
   "cell_type": "markdown",
   "metadata": {},
   "source": [
    "Observe que os elementos não guardam, obrigatoriamente, qualquer ordem no conjunto e que elementos já existentes não são repetidos ao serem adicionados mais de uma vez ao conjunto."
   ]
  },
  {
   "cell_type": "markdown",
   "metadata": {},
   "source": [
    "Exemplo:  Supressão de elementos repetidos de uma lista ou tupla:"
   ]
  },
  {
   "cell_type": "code",
   "execution_count": 72,
   "metadata": {},
   "outputs": [
    {
     "name": "stdout",
     "output_type": "stream",
     "text": [
      "11\n",
      "{22, 23, 25, 26, 27, 28} 6\n",
      "[22, 23, 25, 26, 27, 28]\n"
     ]
    }
   ],
   "source": [
    "lista = [22,22,23,25,25,25,26,26,27,28,28]\n",
    "print(len(lista))\n",
    "conj  = set(lista)\n",
    "print(conj,len(conj))\n",
    "lista2 = list(conj)             # lista dos elementos não repetidos\n",
    "print(lista2)"
   ]
  },
  {
   "cell_type": "code",
   "execution_count": 39,
   "metadata": {},
   "outputs": [
    {
     "data": {
      "text/plain": [
       "(22, 22, 23, 25, 25, 25, 26, 26, 27, 28, 28)"
      ]
     },
     "execution_count": 39,
     "metadata": {},
     "output_type": "execute_result"
    }
   ],
   "source": [
    "tupla = tuple(lista)\n",
    "tupla"
   ]
  },
  {
   "cell_type": "code",
   "execution_count": 74,
   "metadata": {},
   "outputs": [
    {
     "name": "stdout",
     "output_type": "stream",
     "text": [
      "{22, 23, 25, 26, 27, 28}\n"
     ]
    }
   ],
   "source": [
    "B = set(tupla)\n",
    "print(B)"
   ]
  },
  {
   "cell_type": "markdown",
   "metadata": {},
   "source": [
    "### <tt>Removendo Elemento(s) de um Conjunto</tt>\n",
    "\n",
    "Um item específico pode ser removido do conjunto usando os métodos: `discard()` e `remove()`. A diferença entre esses métodos é que, ao usar o __discard(item)__ se o __item__ não existir no conjunto nenhuma ação é realizada, enquanto o método __remove(item)__ gerará um erro nessa situação."
   ]
  },
  {
   "cell_type": "code",
   "execution_count": 75,
   "metadata": {},
   "outputs": [
    {
     "data": {
      "text/plain": [
       "{22, 25, 26, 27, 28}"
      ]
     },
     "execution_count": 75,
     "metadata": {},
     "output_type": "execute_result"
    }
   ],
   "source": [
    "B.discard(23)\n",
    "B.discard(23)\n",
    "B"
   ]
  },
  {
   "cell_type": "code",
   "execution_count": 49,
   "metadata": {
    "scrolled": true
   },
   "outputs": [
    {
     "ename": "KeyError",
     "evalue": "23",
     "output_type": "error",
     "traceback": [
      "\u001b[1;31m---------------------------------------------------------------------------\u001b[0m",
      "\u001b[1;31mKeyError\u001b[0m                                  Traceback (most recent call last)",
      "\u001b[1;32m<ipython-input-49-7e94e52cea6e>\u001b[0m in \u001b[0;36m<module>\u001b[1;34m\u001b[0m\n\u001b[0;32m      1\u001b[0m \u001b[0mB\u001b[0m\u001b[1;33m.\u001b[0m\u001b[0mdiscard\u001b[0m\u001b[1;33m(\u001b[0m\u001b[1;36m23\u001b[0m\u001b[1;33m)\u001b[0m\u001b[1;33m\u001b[0m\u001b[1;33m\u001b[0m\u001b[0m\n\u001b[1;32m----> 2\u001b[1;33m \u001b[0mB\u001b[0m\u001b[1;33m.\u001b[0m\u001b[0mremove\u001b[0m\u001b[1;33m(\u001b[0m\u001b[1;36m23\u001b[0m\u001b[1;33m)\u001b[0m\u001b[1;33m\u001b[0m\u001b[1;33m\u001b[0m\u001b[0m\n\u001b[0m",
      "\u001b[1;31mKeyError\u001b[0m: 23"
     ]
    }
   ],
   "source": [
    "B.remove(23)"
   ]
  },
  {
   "cell_type": "markdown",
   "metadata": {},
   "source": [
    "### <tt>União de Conjuntos</tt>\n",
    "\n",
    "A união dos conjuntos **A** e **B** é um conjunto de todos os elementos de ambos os conjuntos. União é realizada usando o operador **‘|’** ou o método **union()**.\n"
   ]
  },
  {
   "cell_type": "code",
   "execution_count": 77,
   "metadata": {},
   "outputs": [
    {
     "name": "stdout",
     "output_type": "stream",
     "text": [
      "{3, 4, 5} {4, 5, 6}\n",
      "{3, 4, 5, 6}\n",
      "{3, 4, 5, 6}\n"
     ]
    }
   ],
   "source": [
    "A = {4,3,5,4}\n",
    "B = {4,5,6}\n",
    "print(A, B)\n",
    "print(A | B)            # união dos conjuntos A e B\n",
    "print(A.union(B))       # união dos conjuntos A e B"
   ]
  },
  {
   "cell_type": "markdown",
   "metadata": {},
   "source": [
    "### <tt>Interseção entre Conjuntos </tt>\n",
    "A interseção entre __A__ e __B__ é um conjunto de elementos comuns a ambos os conjuntos. A interseção é realizada usando o operador **'&'** ou o método __intersection()__."
   ]
  },
  {
   "cell_type": "code",
   "execution_count": 78,
   "metadata": {
    "scrolled": false
   },
   "outputs": [
    {
     "name": "stdout",
     "output_type": "stream",
     "text": [
      "{4, 5}\n",
      "{4, 5}\n",
      "{4, 5}\n"
     ]
    }
   ],
   "source": [
    "print(B.intersection(A))\n",
    "print(B & A)\n",
    "print(A.intersection(B))"
   ]
  },
  {
   "cell_type": "markdown",
   "metadata": {},
   "source": [
    "### <tt>Diferença de Conjuntos</tt>\n",
    "A diferença entre os conjuntos __A__ e __B__ é representada por __A – B__, e é um conjunto formado pelos elementos que estão apenas em __A__, mas não em __B__. Da mesma forma, __B – A__ é um conjunto formado pelos elementos que estão em __B__ e que não estão em __A__. A diferença de conjuntos é realizada em Python pelo operador `-` ou pelo método __difference()__."
   ]
  },
  {
   "cell_type": "code",
   "execution_count": 79,
   "metadata": {
    "scrolled": true
   },
   "outputs": [
    {
     "name": "stdout",
     "output_type": "stream",
     "text": [
      "A: {3, 4, 5} B: {4, 5, 6}\n",
      "A - B: {3}\n",
      "B - A: {6}\n"
     ]
    }
   ],
   "source": [
    "print(\"A:\",A,\"B:\",B)\n",
    "print(\"A - B:\",A - B)               # ou:  A.difference(B)\n",
    "print(\"B - A:\",B - A)               # ou:  B.difference(A)"
   ]
  },
  {
   "cell_type": "code",
   "execution_count": 80,
   "metadata": {},
   "outputs": [
    {
     "data": {
      "text/plain": [
       "{'Ana', 'Camila', 'Matheus', 'Pedro'}"
      ]
     },
     "execution_count": 80,
     "metadata": {},
     "output_type": "execute_result"
    }
   ],
   "source": [
    "homens = {\"Pedro\", \"Matheus\"}\n",
    "mulheres = {\"Ana\", \"Camila\"}\n",
    "familia = homens | mulheres\n",
    "familia"
   ]
  },
  {
   "cell_type": "code",
   "execution_count": 81,
   "metadata": {},
   "outputs": [
    {
     "data": {
      "text/plain": [
       "{'Camila', 'Matheus'}"
      ]
     },
     "execution_count": 81,
     "metadata": {},
     "output_type": "execute_result"
    }
   ],
   "source": [
    "empregado = {\"Pedro\",\"Ana\"}\n",
    "desempregado = familia - empregado\n",
    "desempregado"
   ]
  },
  {
   "cell_type": "markdown",
   "metadata": {},
   "source": [
    "### <tt>Diferença Simétrica entre Conjuntos</tt>\n",
    "A diferença simétrica entre os conjuntos __A__ e __B__, representada por __A ^ B__, é um conjunto de elementos em __A__ e __B__, exceto aqueles que são comuns a ambos. A diferença simétrica é realizada usando o operador __‘^’__ ou usando o método __symmetric_difference()__."
   ]
  },
  {
   "cell_type": "code",
   "execution_count": 85,
   "metadata": {},
   "outputs": [
    {
     "name": "stdout",
     "output_type": "stream",
     "text": [
      "{3, 4, 5} {4, 5, 6}\n",
      "{3, 6}\n",
      "{3, 6} {3, 6}\n",
      "{'Matheus', 'Camila'}\n",
      "{'Matheus', 'Camila'}\n"
     ]
    }
   ],
   "source": [
    "print(A, B)\n",
    "print(A.symmetric_difference(B))\n",
    "print(A ^ B, B ^ A)\n",
    "print(familia ^ empregado)\n",
    "print(familia - empregado)"
   ]
  },
  {
   "cell_type": "markdown",
   "metadata": {},
   "source": [
    "### <a style=\"color: red\">Exercícios</a>\n",
    "<ol><li>Mostre os números incomuns dos *containers* `lista_a = [0, 1, 2, 3, 4]`  e `lista_b = [2, 3, 4, 5]`.\n",
    "    Dica: use a função `set()`.</li>"
   ]
  },
  {
   "cell_type": "code",
   "execution_count": null,
   "metadata": {},
   "outputs": [],
   "source": [
    "lista_a = [0, 1, 2, 3, 4]\n",
    "lista_b = [2, 3, 4, 5]\n",
    "print((set(lista_a) - set(lista_b)) | (set(lista_b) - set(lista_a)))\n",
    "print(set(lista_a) ^ set(lista_b))"
   ]
  },
  {
   "cell_type": "markdown",
   "metadata": {},
   "source": [
    "<li>Mostre os números comuns aos *containers* `lista_a = [1, 2, 3, 4]`  e `lista_b = [2, 3, 4, 5]`.\n",
    "Dica: use a função `set()`.</li></ol>"
   ]
  },
  {
   "cell_type": "code",
   "execution_count": 87,
   "metadata": {},
   "outputs": [
    {
     "data": {
      "text/plain": [
       "{2, 3, 4}"
      ]
     },
     "execution_count": 87,
     "metadata": {},
     "output_type": "execute_result"
    }
   ],
   "source": [
    "lista_a = [1, 2, 3, 4]\n",
    "lista_b = [2, 3, 4, 5]\n",
    "conj_a = set(lista_a)\n",
    "conj_b = set(lista_b)\n",
    "conj_a & conj_b"
   ]
  },
  {
   "cell_type": "markdown",
   "metadata": {},
   "source": [
    "### <tt>Acessando Elementos do Conjunto</tt>\n",
    "Diferentemente das estruturas de dados __Lista__ e __Tupla__, os elementos de um __Conjunto__ não podem ser acessados via indexação:"
   ]
  },
  {
   "cell_type": "code",
   "execution_count": 88,
   "metadata": {},
   "outputs": [
    {
     "data": {
      "text/plain": [
       "{4, 5, 6}"
      ]
     },
     "execution_count": 88,
     "metadata": {},
     "output_type": "execute_result"
    }
   ],
   "source": [
    "B"
   ]
  },
  {
   "cell_type": "code",
   "execution_count": 89,
   "metadata": {},
   "outputs": [
    {
     "ename": "TypeError",
     "evalue": "'set' object is not subscriptable",
     "output_type": "error",
     "traceback": [
      "\u001b[1;31m---------------------------------------------------------------------------\u001b[0m",
      "\u001b[1;31mTypeError\u001b[0m                                 Traceback (most recent call last)",
      "\u001b[1;32m<ipython-input-89-40c3736f2221>\u001b[0m in \u001b[0;36m<module>\u001b[1;34m\u001b[0m\n\u001b[1;32m----> 1\u001b[1;33m \u001b[0mB\u001b[0m\u001b[1;33m[\u001b[0m\u001b[1;36m0\u001b[0m\u001b[1;33m]\u001b[0m\u001b[1;33m\u001b[0m\u001b[1;33m\u001b[0m\u001b[0m\n\u001b[0m",
      "\u001b[1;31mTypeError\u001b[0m: 'set' object is not subscriptable"
     ]
    }
   ],
   "source": [
    "B[0]"
   ]
  },
  {
   "cell_type": "code",
   "execution_count": 90,
   "metadata": {},
   "outputs": [
    {
     "name": "stdout",
     "output_type": "stream",
     "text": [
      "4, 5, 6, \b\b\n"
     ]
    }
   ],
   "source": [
    "for elemento in B:\n",
    "   print(elemento,end=', ')\n",
    "print('\\b\\b')                     # '\\b' caracter Backspace"
   ]
  },
  {
   "cell_type": "markdown",
   "metadata": {},
   "source": [
    "Funções incorporadas aplicáveis aos conjuntos: <tt>all(), any(), enumerate(), len(), max(), min(), sorted() e sum()</tt>."
   ]
  },
  {
   "cell_type": "code",
   "execution_count": 91,
   "metadata": {},
   "outputs": [
    {
     "name": "stdout",
     "output_type": "stream",
     "text": [
      "{4, 5, 6} 15 6 4 3 [4, 5, 6] True True\n"
     ]
    }
   ],
   "source": [
    "print(B, sum(B), max(B), min(B), len(B), sorted(B), any(B), all(B))"
   ]
  },
  {
   "cell_type": "markdown",
   "metadata": {},
   "source": [
    "### <tt>Conjuntos Imutáveis: frozenset()</tt> \n",
    "\n",
    "É uma estrutura que possui características de um conjunto, mas seus elementos não podem ser alterados/acrescidos/removidos depois de atribuídos. Podemos dizer que as **tuplas são listas imutáveis** e que os __frozensets são conjuntos imutáveis__. \n",
    "\n",
    "Conjuntos não podem ser usados como chaves de dicionário, por serem mutáveis. Por outro lado, os __frozensets__ podem ser usados como chaves de um dicionário.  Podem ser criados usando a função `frozenset()`."
   ]
  },
  {
   "cell_type": "code",
   "execution_count": 94,
   "metadata": {},
   "outputs": [
    {
     "data": {
      "text/plain": [
       "(frozenset({1, 2, 3, 4}), frozenset({3, 4, 5, 6}))"
      ]
     },
     "execution_count": 94,
     "metadata": {},
     "output_type": "execute_result"
    }
   ],
   "source": [
    "A = frozenset([1, 2, 3, 4])\n",
    "B = frozenset([3, 4, 5, 6])\n",
    "A, B"
   ]
  },
  {
   "cell_type": "code",
   "execution_count": 95,
   "metadata": {},
   "outputs": [
    {
     "data": {
      "text/plain": [
       "(frozenset({1, 2, 5, 6}), frozenset({1, 2, 3, 4, 5, 6}))"
      ]
     },
     "execution_count": 95,
     "metadata": {},
     "output_type": "execute_result"
    }
   ],
   "source": [
    "A ^ B, A | B"
   ]
  },
  {
   "cell_type": "code",
   "execution_count": 96,
   "metadata": {
    "scrolled": true
   },
   "outputs": [
    {
     "ename": "AttributeError",
     "evalue": "'frozenset' object has no attribute 'add'",
     "output_type": "error",
     "traceback": [
      "\u001b[1;31m---------------------------------------------------------------------------\u001b[0m",
      "\u001b[1;31mAttributeError\u001b[0m                            Traceback (most recent call last)",
      "\u001b[1;32m<ipython-input-96-26d85722fca4>\u001b[0m in \u001b[0;36m<module>\u001b[1;34m\u001b[0m\n\u001b[1;32m----> 1\u001b[1;33m \u001b[0mA\u001b[0m\u001b[1;33m.\u001b[0m\u001b[0madd\u001b[0m\u001b[1;33m(\u001b[0m\u001b[1;36m5\u001b[0m\u001b[1;33m)\u001b[0m\u001b[1;33m\u001b[0m\u001b[1;33m\u001b[0m\u001b[0m\n\u001b[0m",
      "\u001b[1;31mAttributeError\u001b[0m: 'frozenset' object has no attribute 'add'"
     ]
    }
   ],
   "source": [
    "A.add(5)"
   ]
  },
  {
   "cell_type": "markdown",
   "metadata": {},
   "source": [
    "### <a style=\"color: red\">Exercício</a>\n",
    "Mostre a quantidade de vogais existente numa string. Inicialmente usando conjunto(s) no seu _script_ e depois faça outro _script_ mas sem usar conjunto(s)."
   ]
  },
  {
   "cell_type": "code",
   "execution_count": 102,
   "metadata": {
    "scrolled": true
   },
   "outputs": [
    {
     "name": "stdout",
     "output_type": "stream",
     "text": [
      "11\n",
      "Qtde de vogais: 6\n",
      "Qtde de consoantes: 4\n"
     ]
    }
   ],
   "source": [
    "# usando conjuntos\n",
    "vogais = set(\"AEIOUaeiou\")\n",
    "nome = \"Ana Claudia\"\n",
    "print(\"Qtde de vogais:\", len(nome) - len((set(nome) - vogais)))\n",
    "\n",
    "print(\"Qtde de consoantes:\", len((set(nome) - vogais) - set(' ')))"
   ]
  },
  {
   "cell_type": "code",
   "execution_count": 103,
   "metadata": {},
   "outputs": [
    {
     "name": "stdout",
     "output_type": "stream",
     "text": [
      "Qtde de vogais: 6\n"
     ]
    }
   ],
   "source": [
    "# sem usar conjuntos\n",
    "s = \"Ana Claudia\"                 # raw_input(\"Entre uma string: \")\n",
    "cont = 0\n",
    "vogais = \"AEIOUaeiou\"\n",
    "for letra in s:\n",
    "    if letra in vogais:\n",
    "        cont += 1\n",
    "print(\"Qtde de vogais:\", cont)"
   ]
  },
  {
   "cell_type": "markdown",
   "metadata": {},
   "source": [
    "<p style=\"text-align:right;\"><a href=\"#topo\">Volta ao topo</a>"
   ]
  },
  {
   "cell_type": "markdown",
   "metadata": {},
   "source": [
    "<a id=\"10.\"></a>\n",
    "## 7.4.\tDicionário\n",
    "Trata-se de uma estrutura de dados útil na implementação de mapeamentos. O __Mapeamento__ é uma coleção de associações entre pares de valores. De certa forma, um mapeamento é uma <u>generalização</u> do acesso de dados por índices, comumente usado em arranjos (vetores e matrizes), com a diferença dos índices (ou chaves) num mapeamento poder ser de qualquer tipo de dado imutável, inclusive _string_.\n",
    "\n",
    "O dicionário é uma <font color=blue>coleção <b>não ordenada</b> de itens</font>. Enquanto outros tipos de dados compostos (arranjos) têm apenas um valor associado a cada índice, num dicionário tem-se um par do tipo <font color=green><b>chave:valor</b></font>. Os dicionários são otimizados para recuperar valores quando a __chave__ for conhecida. \n",
    "\n",
    "Se você estiver familiarizado com outras linguagens, pode pensar em **dicionário** como sendo uma tabela de mapeamento - [Apêndice: Hash Table](#hashtable).\n",
    "\n",
    "As chaves de um dicionário devem ser de tipos de dados **imutáveis**, tais como String, números ou tuplas.\n",
    "\n",
    "### <tt>Criando um Dicionário</tt> \n",
    "Um dicionário em Python consiste de entradas compostas por uma chave e por um valor associado, separados pelo caracter `:`. Esse valor pode ser praticamente qualquer objeto do Python.\n",
    "\n",
    "Criar um dicionário é tão simples quanto colocar pares (chave:valor) separados por vírgula e delimitados por chaves { }. \n",
    "Cada item do dicionário tem uma __chave__ e um __valor__ correspondente, e é expresso pelo par `chave:valor`. Embora o __valor__ possa ser de qualquer tipo de dado e possa se repetir, a __chave__ deve ser de um tipo imutável (string, número ou tupla) e deve ser exclusiva dentro do dicionário."
   ]
  },
  {
   "cell_type": "code",
   "execution_count": 15,
   "metadata": {
    "scrolled": true
   },
   "outputs": [
    {
     "name": "stdout",
     "output_type": "stream",
     "text": [
      "{}\n",
      "{'hoje': '19/06/2019'}\n",
      "{1: 'manga', 2: 'bola', 3: 1220}\n"
     ]
    },
    {
     "data": {
      "text/plain": [
       "'manga'"
      ]
     },
     "execution_count": 15,
     "metadata": {},
     "output_type": "execute_result"
    }
   ],
   "source": [
    "# criando um dicionário vazio\n",
    "dicionario = { }\n",
    "print(dicionario)\n",
    "\n",
    "dicionario['hoje'] = '19/06/2019'\n",
    "print(dicionario)\n",
    "\n",
    "# dicionário com chaves do tipo numérico 'inteiro'\n",
    "z = { 1 : 'manga', 2 : 'bola', 3 : 1220 }\n",
    "print(z)\n",
    "z[1]"
   ]
  },
  {
   "cell_type": "code",
   "execution_count": 60,
   "metadata": {},
   "outputs": [
    {
     "name": "stdout",
     "output_type": "stream",
     "text": [
      "{1: 'banana', 2: 'bola', 3: 1220}\n",
      "1220\n"
     ]
    }
   ],
   "source": [
    "z[1] = 'banana'\n",
    "print(z)\n",
    "print(z[3])"
   ]
  },
  {
   "cell_type": "code",
   "execution_count": 9,
   "metadata": {},
   "outputs": [
    {
     "data": {
      "text/plain": [
       "'ok'"
      ]
     },
     "execution_count": 9,
     "metadata": {},
     "output_type": "execute_result"
    }
   ],
   "source": [
    "# criando dicionário com chaves mistas (vários tipos de dados)\n",
    "y = { 'nome': 'Maria', 'notas': [6,7,4], 5: 'ok' }\n",
    "y[5]"
   ]
  },
  {
   "cell_type": "code",
   "execution_count": 62,
   "metadata": {},
   "outputs": [
    {
     "data": {
      "text/plain": [
       "'Maria'"
      ]
     },
     "execution_count": 62,
     "metadata": {},
     "output_type": "execute_result"
    }
   ],
   "source": [
    "y['nome']"
   ]
  },
  {
   "cell_type": "code",
   "execution_count": 63,
   "metadata": {},
   "outputs": [
    {
     "name": "stdout",
     "output_type": "stream",
     "text": [
      "[6, 7, 4] 6\n"
     ]
    }
   ],
   "source": [
    "print( y['notas'], y['notas'][0])"
   ]
  },
  {
   "cell_type": "markdown",
   "metadata": {},
   "source": [
    "Também podemos criar um dicionário usando a função incorporada `dict()` que requer como parâmetro uma lista de tuplas, cada uma com um par __chave:valor__, ou usando uma sequência de itens no formato `chave=valor`."
   ]
  },
  {
   "cell_type": "code",
   "execution_count": 107,
   "metadata": {},
   "outputs": [
    {
     "data": {
      "text/plain": [
       "{'nome': 'Maria', 'notas': [6, 7, 4], 5: 'ok'}"
      ]
     },
     "execution_count": 107,
     "metadata": {},
     "output_type": "execute_result"
    }
   ],
   "source": [
    "# criando dicionário com a função dict()\n",
    "w = dict([('nome','Maria'), ('notas',[6,7,4]), (5,'ok')])\n",
    "w"
   ]
  },
  {
   "cell_type": "code",
   "execution_count": 18,
   "metadata": {},
   "outputs": [
    {
     "name": "stdout",
     "output_type": "stream",
     "text": [
      "{'a': 'ok', 'x': 1, 'y': 2, 'w': 3, 'k': -15}\n"
     ]
    },
    {
     "data": {
      "text/plain": [
       "1"
      ]
     },
     "execution_count": 18,
     "metadata": {},
     "output_type": "execute_result"
    }
   ],
   "source": [
    "# criando dicionário com uma sequência de itens\n",
    "a = dict(a='ok', x=1, y=2, w=3, k=-15)\n",
    "print(a)\n",
    "a['x']"
   ]
  },
  {
   "cell_type": "markdown",
   "metadata": {},
   "source": [
    "Também podemos criar __chave__ via operador de atribuição. Por exemplo, se começássemos com um dicionário vazio, poderíamos adicionar elementos continuamente:"
   ]
  },
  {
   "cell_type": "code",
   "execution_count": 109,
   "metadata": {},
   "outputs": [
    {
     "data": {
      "text/plain": [
       "{'animal': 'gato', 'idade': 6}"
      ]
     },
     "execution_count": 109,
     "metadata": {},
     "output_type": "execute_result"
    }
   ],
   "source": [
    "d = { }                # dicionário vazio\n",
    "d['animal'] = 'gato'   # acrescenta o elemento 'animal':'gato'\n",
    "d['idade'] = 6         # acrescenta o elemento 'idade':6\n",
    "d"
   ]
  },
  {
   "cell_type": "markdown",
   "metadata": {},
   "source": [
    "### <tt>Acessando Elementos de um Dicionário</tt>\n",
    "Dicionário são estruturas mutáveis. Podemos adicionar novos itens ou alterar o valor dos itens existentes usando o operador de atribuição. Se a chave já estiver presente no dicionário, então o __valor__ atribuído atualizará a __chave__, caso contrário, um novo par __chave:valor__ será adicionado ao dicionário."
   ]
  },
  {
   "cell_type": "code",
   "execution_count": 110,
   "metadata": {},
   "outputs": [
    {
     "name": "stdout",
     "output_type": "stream",
     "text": [
      "{'animal': 'gato', 'idade': 6}\n"
     ]
    },
    {
     "data": {
      "text/plain": [
       "{'animal': 'gato', 'idade': 5, 'cor': 'branco', 'nome': 'Teo'}"
      ]
     },
     "execution_count": 110,
     "metadata": {},
     "output_type": "execute_result"
    }
   ],
   "source": [
    "print(d)\n",
    "d['idade'] = 5\n",
    "d['cor'] = 'branco'\n",
    "d['nome'] = 'Teo'\n",
    "d"
   ]
  },
  {
   "cell_type": "markdown",
   "metadata": {},
   "source": [
    "### <tt>Excluindo Elementos de um Dicionário</tt>\n",
    "Podemos remover um par específico de um dicionário usando o método `pop(chave)`. Este método remove o item com a __chave__ fornecida e retorna o __valor__ associado. \n",
    "\n",
    "O método `popitem()` pode ser usado para remover e retornar um determinado item (chave, valor) do dicionário. Todos os itens podem ser removidos de uma só vez usando o método `clear()`. Também podemos usar a função incorporada `del()` para remover itens individuais ou o dicionário inteiro."
   ]
  },
  {
   "cell_type": "code",
   "execution_count": 20,
   "metadata": {},
   "outputs": [
    {
     "name": "stdout",
     "output_type": "stream",
     "text": [
      "{'nome': 'Maria', 'notas': [6, 7, 4], 5: 'ok'}\n",
      "{'nome': 'Maria', 'notas': [6, 7, 4]}\n"
     ]
    }
   ],
   "source": [
    "y = { 'nome': 'Maria', 'notas': [6,7,4], 5: 'ok' }\n",
    "print(y)\n",
    "y.pop(5)\n",
    "print(y)"
   ]
  },
  {
   "cell_type": "code",
   "execution_count": 21,
   "metadata": {},
   "outputs": [
    {
     "data": {
      "text/plain": [
       "{'nome': 'Maria', 'notas': [6, 7, 4]}"
      ]
     },
     "execution_count": 21,
     "metadata": {},
     "output_type": "execute_result"
    }
   ],
   "source": [
    "y"
   ]
  },
  {
   "cell_type": "code",
   "execution_count": 22,
   "metadata": {},
   "outputs": [
    {
     "data": {
      "text/plain": [
       "{'nome': 'Maria'}"
      ]
     },
     "execution_count": 22,
     "metadata": {},
     "output_type": "execute_result"
    }
   ],
   "source": [
    "del y['notas']\n",
    "y"
   ]
  },
  {
   "cell_type": "code",
   "execution_count": 23,
   "metadata": {},
   "outputs": [
    {
     "ename": "NameError",
     "evalue": "name 'd' is not defined",
     "output_type": "error",
     "traceback": [
      "\u001b[1;31m---------------------------------------------------------------------------\u001b[0m",
      "\u001b[1;31mNameError\u001b[0m                                 Traceback (most recent call last)",
      "\u001b[1;32m<ipython-input-23-825f2643431a>\u001b[0m in \u001b[0;36m<module>\u001b[1;34m\u001b[0m\n\u001b[1;32m----> 1\u001b[1;33m \u001b[0mprint\u001b[0m\u001b[1;33m(\u001b[0m\u001b[0md\u001b[0m\u001b[1;33m)\u001b[0m\u001b[1;33m\u001b[0m\u001b[1;33m\u001b[0m\u001b[0m\n\u001b[0m\u001b[0;32m      2\u001b[0m \u001b[1;32mdel\u001b[0m \u001b[0md\u001b[0m\u001b[1;33m\u001b[0m\u001b[1;33m\u001b[0m\u001b[0m\n\u001b[0;32m      3\u001b[0m \u001b[0md\u001b[0m\u001b[1;33m\u001b[0m\u001b[1;33m\u001b[0m\u001b[0m\n",
      "\u001b[1;31mNameError\u001b[0m: name 'd' is not defined"
     ]
    }
   ],
   "source": [
    "print(d)\n",
    "del d\n",
    "d"
   ]
  },
  {
   "cell_type": "markdown",
   "metadata": {},
   "source": [
    "Outros tantos métodos estão disponíveis para uso com dicionários: `clear(), copy(), \n",
    "fromkeys(seq[, v]), get(key[,d]), items(), keys(), pop(key[,d]), popitem(), update([other]), values()`."
   ]
  },
  {
   "cell_type": "code",
   "execution_count": 24,
   "metadata": {},
   "outputs": [
    {
     "data": {
      "text/plain": [
       "{'matemática': 0, 'espanhol': 0, 'português': 0}"
      ]
     },
     "execution_count": 24,
     "metadata": {},
     "output_type": "execute_result"
    }
   ],
   "source": [
    "notas = {}.fromkeys(['matemática','espanhol','português'],0)\n",
    "notas"
   ]
  },
  {
   "cell_type": "code",
   "execution_count": 27,
   "metadata": {
    "scrolled": true
   },
   "outputs": [
    {
     "name": "stdout",
     "output_type": "stream",
     "text": [
      "('matemática', 0), ('espanhol', 0), ('português', 0), "
     ]
    }
   ],
   "source": [
    "for disciplina in notas.items():\n",
    "  print(disciplina, end=', ')\n",
    "print('\\b'*2)"
   ]
  },
  {
   "cell_type": "code",
   "execution_count": 28,
   "metadata": {
    "scrolled": true
   },
   "outputs": [
    {
     "name": "stdout",
     "output_type": "stream",
     "text": [
      "Nota (matemática) =  8.5, Nota (espanhol) =  0, Nota (português) =  6.1, \b\b\n"
     ]
    }
   ],
   "source": [
    "notas['matemática'] = 8.5\n",
    "notas['português'] = 6.1\n",
    "for disciplina in notas:\n",
    "  print(\"Nota (\" + disciplina + \") = \", notas[disciplina], end=', ')\n",
    "print('\\b'*2)"
   ]
  },
  {
   "cell_type": "code",
   "execution_count": 29,
   "metadata": {},
   "outputs": [
    {
     "name": "stdout",
     "output_type": "stream",
     "text": [
      "['espanhol', 'matemática', 'português']\n"
     ]
    }
   ],
   "source": [
    "print(sorted(notas.keys()))"
   ]
  },
  {
   "cell_type": "markdown",
   "metadata": {},
   "source": [
    "### <tt>Aninhamento de Dicionários</tt>\n",
    "O Python é bastante flexível em termos de aninhamento de objetos e na chamada de métodos. Vamos ver um dicionário aninhado, ou seja, um dicionário dentro de outro dicionário:"
   ]
  },
  {
   "cell_type": "code",
   "execution_count": 129,
   "metadata": {},
   "outputs": [
    {
     "data": {
      "text/plain": [
       "{'chave1': {'ch_aninh': {'ch_sub_aninh': 1000}}}"
      ]
     },
     "execution_count": 129,
     "metadata": {},
     "output_type": "execute_result"
    }
   ],
   "source": [
    "d = {'chave1':{'ch_aninh':{'ch_sub_aninh':1000}}}\n",
    "d"
   ]
  },
  {
   "cell_type": "code",
   "execution_count": 130,
   "metadata": {},
   "outputs": [
    {
     "data": {
      "text/plain": [
       "1000"
      ]
     },
     "execution_count": 130,
     "metadata": {},
     "output_type": "execute_result"
    }
   ],
   "source": [
    "d['chave1']['ch_aninh']['ch_sub_aninh']"
   ]
  },
  {
   "cell_type": "code",
   "execution_count": 31,
   "metadata": {},
   "outputs": [
    {
     "name": "stdout",
     "output_type": "stream",
     "text": [
      "{1: {'nome': 'Maria', 'idade': 25, 'sexo': 'Fem.', 'cor': 'branca'}, 2: {'nome': 'Luiz', 'idade': 35, 'sexo': 'Masc.'}}\n",
      "Maria,  Luiz\n",
      "{1: {'nome': 'Maria', 'idade': 25, 'sexo': 'Fem.', 'cor': 'branca'}, 2: {'nome': 'Luiz', 'idade': 35, 'sexo': 'Masc.'}, 3: {'nome': 'Ana', 'idade': 19, 'sexo': 'Fem.', 'casada': False}}\n",
      "Maria,  Luiz,  Ana\n",
      "dict_items([(1, {'nome': 'Maria', 'idade': 25, 'sexo': 'Fem.', 'cor': 'branca'}), (2, {'nome': 'Luiz', 'idade': 35, 'sexo': 'Masc.'}), (3, {'nome': 'Ana', 'idade': 19, 'sexo': 'Fem.', 'casada': False})])\n"
     ]
    }
   ],
   "source": [
    "pessoas = {1: {'nome':'Maria', 'idade':25, 'sexo':'Fem.','cor':'branca'}, 2: {'nome':'Luiz', 'idade':35, 'sexo':'Masc.'} }\n",
    "print(pessoas)\n",
    "print(pessoas[1]['nome'] + ', ', pessoas[2]['nome'])\n",
    "\n",
    "pessoas[3] = {'nome':'Ana','idade':19,'sexo':'Fem.','casada':False}\n",
    "print(pessoas)\n",
    "print(pessoas[1]['nome'] + ', ', pessoas[2]['nome'] + ', ', pessoas[3]['nome'])\n",
    "\n",
    "print(pessoas.items())"
   ]
  },
  {
   "cell_type": "code",
   "execution_count": 35,
   "metadata": {},
   "outputs": [
    {
     "name": "stdout",
     "output_type": "stream",
     "text": [
      "\n",
      "Identificação: 1\n",
      "      nome : Maria   \n",
      "     idade : 25      \n",
      "      sexo : Fem.    \n",
      "       cor : branca  \n",
      "    casada : True    \n",
      "\n",
      "Identificação: 2\n",
      "      nome : Luiz    \n",
      "     idade : 35      \n",
      "      sexo : Masc.   \n",
      "\n",
      "Identificação: 3\n",
      "      nome : Ana     \n",
      "     idade : 19      \n",
      "      sexo : Fem.    \n",
      "    casada : False   \n"
     ]
    }
   ],
   "source": [
    "pessoas[1]['casada'] = True\n",
    "for chave, reg_pessoal in pessoas.items():\n",
    "  print(\"\\nIdentificação:\", chave)\n",
    "  for caracteristica in reg_pessoal:\n",
    "      print(\"%10s : %-8s\" % (caracteristica, reg_pessoal[caracteristica]))"
   ]
  },
  {
   "cell_type": "code",
   "execution_count": 139,
   "metadata": {},
   "outputs": [
    {
     "data": {
      "text/plain": [
       "False"
      ]
     },
     "execution_count": 139,
     "metadata": {},
     "output_type": "execute_result"
    }
   ],
   "source": [
    "'d' in dir()"
   ]
  },
  {
   "cell_type": "markdown",
   "metadata": {},
   "source": [
    "### <tt>Abrangência de Dicionário</tt>\n",
    "A abrangência do dicionário é uma maneira elegante e concisa de criar um novo dicionário a partir de um __objeto iterável__ em Python. A abrangência do dicionário consiste num par __chave:valor__ seguido por uma instrução executável (for, if) entre chaves `{ }`. Aqui está um exemplo para criar um dicionário em que cada item será um par formado por um número e o valor do seu cubo."
   ]
  },
  {
   "cell_type": "code",
   "execution_count": 37,
   "metadata": {},
   "outputs": [
    {
     "name": "stdout",
     "output_type": "stream",
     "text": [
      "{0: 0, 1: 1, 2: 8, 3: 27, 4: 64, 5: 125, 6: 216, 7: 343, 8: 512, 9: 729, 10: 1000}\n",
      "343\n"
     ]
    }
   ],
   "source": [
    "cubos = {x : x**3 for x in range(11)}   # abrangência de dicionário --> comprehension dictionary \n",
    "print(cubos)\n",
    "print(cubos[7])"
   ]
  },
  {
   "cell_type": "code",
   "execution_count": 14,
   "metadata": {},
   "outputs": [
    {
     "name": "stdout",
     "output_type": "stream",
     "text": [
      "{0: 0, 1: 1, 2: 8, 3: 27, 4: 64, 5: 125, 6: 216, 7: 343, 8: 512, 9: 729}\n"
     ]
    }
   ],
   "source": [
    "# Código equivalente usando a sentença 'for':\n",
    "cubos = { }\n",
    "for x in range(10):\n",
    "   cubos[x] = x**3\n",
    "print(cubos)"
   ]
  },
  {
   "cell_type": "markdown",
   "metadata": {},
   "source": [
    "Uma abrangência de dicionário, opcionalmente, pode conter mais instruções `for` ou `if`. Uma instrução `if` pode filtrar itens na formação do novo dicionário. Veja um exemplo para criar um dicionário com apenas chaves ímpares."
   ]
  },
  {
   "cell_type": "code",
   "execution_count": 38,
   "metadata": {
    "scrolled": false
   },
   "outputs": [
    {
     "name": "stdout",
     "output_type": "stream",
     "text": [
      "{1: 1, 3: 9, 5: 25, 7: 49, 9: 81}\n"
     ]
    }
   ],
   "source": [
    "quadrados_impares = {x: x*x for x in range(11) if x%2 == 1}\n",
    "print(quadrados_impares)"
   ]
  },
  {
   "cell_type": "markdown",
   "metadata": {},
   "source": [
    "### <tt>Teste de Associação ao Dicionário</tt>\n",
    "Podemos testar se uma chave está num dicionário ou não usando a palavra-chave `in`. Observe que o teste de associação é válido somente para chaves, não para valores. Para investigar a associação de um valor deve-se explicitar o acesso aos valores com o método `values()`."
   ]
  },
  {
   "cell_type": "code",
   "execution_count": 39,
   "metadata": {},
   "outputs": [
    {
     "name": "stdout",
     "output_type": "stream",
     "text": [
      "{1: 1, 3: 9, 5: 25, 7: 49, 9: 81}\n",
      "True\n",
      "False\n",
      "True\n",
      "True\n"
     ]
    }
   ],
   "source": [
    "print(quadrados_impares)\n",
    "print(1 in quadrados_impares)\n",
    "print(2 in quadrados_impares)\n",
    "print(7 in quadrados_impares)\n",
    "print(49 in quadrados_impares.values())"
   ]
  },
  {
   "cell_type": "markdown",
   "metadata": {},
   "source": [
    "### <tt>Passeando (Iterando) pelos Itens de um Dicionário </tt>\n",
    "Usando um laço `for`, podemos iterar por cada uma das chaves do dicionário"
   ]
  },
  {
   "cell_type": "code",
   "execution_count": 42,
   "metadata": {},
   "outputs": [
    {
     "name": "stdout",
     "output_type": "stream",
     "text": [
      "{1: 1, 3: 9, 5: 25, 7: 49, 9: 81}\n",
      "1 : 1\n",
      "3 : 9\n",
      "5 : 25\n",
      "7 : 49\n",
      "9 : 81\n"
     ]
    },
    {
     "data": {
      "text/plain": [
       "5"
      ]
     },
     "execution_count": 42,
     "metadata": {},
     "output_type": "execute_result"
    }
   ],
   "source": [
    "print(quadrados_impares)\n",
    "for i in quadrados_impares:\n",
    "   print(i,\":\",quadrados_impares[i])\n",
    "len(quadrados_impares)"
   ]
  },
  {
   "cell_type": "markdown",
   "metadata": {},
   "source": [
    "Funções incorporadas aplicáveis aos dicionários:`all(), any(), len(), cmp(), sorted()` etc.\n",
    "\n",
    "|     Função     |    Descrição                                                                                               |\n",
    "|:--------------:|:-----------------------------------------------------------------------------------------------------------|\n",
    "|      all()     |    Retorna True   se todas as chaves do dicionário são verdadeiras (ou se o dicionário está   vazio)       |\n",
    "|      any()     |    Retorna True   se qualquer chave do dicionário é verdadeira. Se o dicionário está vazio,   retorna False|\n",
    "|      len()     |    Retorna o comprimento (a   quantidade de itens) do dicionário                                           |\n",
    "|      cmp()     |    Compara os itens de dois   dicionários                                                                  |\n",
    "|    sorted()    |    Retorna uma nova lista   ordenada de chaves/valores do dicionário                                       |\n",
    "\n",
    "|      Método      |    Descrição                                                                                             |\n",
    "|:----------------:|----------------------------------------------------------------------------------------------------------|\n",
    "|      copy()      |    Retorna uma cópia profunda   do dicionário, um novo objeto é criado na memória contendo todos os pares do   dicionário fonte da cópia |\n",
    "|    fromkeys()    |    Retorna um novo dicionário   cujas chaves são os elementos de lista (prim. Parâmetro) e cujos valores são   todos iguais a valor (seg. parâmetro)   |\n",
    "|     update()     |    Atualiza um dicionário com   os elementos de outro. Os itens do outro dic são adicionados um a um ao   dicionário original                           |\n"
   ]
  },
  {
   "cell_type": "code",
   "execution_count": null,
   "metadata": {},
   "outputs": [],
   "source": [
    "print(quadrados_imp)\n",
    "print(len(quadrados_imp))\n",
    "print(sorted(quadrados_imp))\n",
    "print(sorted(quadrados_imp.values()))"
   ]
  },
  {
   "cell_type": "code",
   "execution_count": null,
   "metadata": {},
   "outputs": [],
   "source": [
    "antonimos = {'sobe':'desce', 'certo':'errado', 'verdadeiro':'falso'}\n",
    "antonimos"
   ]
  },
  {
   "cell_type": "code",
   "execution_count": null,
   "metadata": {},
   "outputs": [],
   "source": [
    "opostos = antonimos              # cópia superficial (shallow)\n",
    "opostos"
   ]
  },
  {
   "cell_type": "code",
   "execution_count": null,
   "metadata": {},
   "outputs": [],
   "source": [
    "opostos['certo'] = 'incerto'\n",
    "print(antonimos)\n",
    "copia = antonimos.copy()          # cópia profunda (deep)\n",
    "copia"
   ]
  },
  {
   "cell_type": "code",
   "execution_count": null,
   "metadata": {},
   "outputs": [],
   "source": [
    "copia['certo'] = 'duvidoso'\n",
    "print(antonimos)\n",
    "print(copia)\n",
    "print(opostos)"
   ]
  },
  {
   "cell_type": "markdown",
   "metadata": {},
   "source": [
    "<hr>"
   ]
  },
  {
   "cell_type": "code",
   "execution_count": null,
   "metadata": {},
   "outputs": [],
   "source": [
    "x = {\"Carla\":[1,2], \"Maria\":[3,4]}\n",
    "y = x.copy()                        # cópia profunda\n",
    "y['Carla'] = [0]\n",
    "z = x                               # cópia rasa\n",
    "z['Maria'] =[10,11]\n",
    "print(x)\n",
    "print(y)\n",
    "print(z,x)"
   ]
  },
  {
   "cell_type": "code",
   "execution_count": null,
   "metadata": {},
   "outputs": [],
   "source": [
    "y[\"Mariana\"] = [5,6]\n",
    "y"
   ]
  },
  {
   "cell_type": "code",
   "execution_count": null,
   "metadata": {},
   "outputs": [],
   "source": [
    "x[\"Carla\"] = x[\"Carla\"] + [3]        # anexação de elemento a uma lista\n",
    "x"
   ]
  },
  {
   "cell_type": "code",
   "execution_count": null,
   "metadata": {},
   "outputs": [],
   "source": [
    "print(y)\n",
    "# print(id(x), id(y))"
   ]
  },
  {
   "cell_type": "code",
   "execution_count": null,
   "metadata": {},
   "outputs": [],
   "source": [
    "z = {\"a\":1, \"b\":2, \"c\":3}\n",
    "q = {\"z\":9, \"b\":7}\n",
    "z.update(q)\n",
    "print(z, q)"
   ]
  },
  {
   "cell_type": "markdown",
   "metadata": {},
   "source": [
    "### <tt>Matriz Esparsa e Dicionário</tt>\n",
    "Considere a seguinte matriz esparsa:"
   ]
  },
  {
   "cell_type": "markdown",
   "metadata": {},
   "source": [
    "<img src=\"img/matriz_esparsa.png\" alt=\"figura de uma matriz esparsa\">\n",
    "\n",
    "Uma representação dessa matriz usando uma lista terá muitos zeros:"
   ]
  },
  {
   "cell_type": "code",
   "execution_count": 43,
   "metadata": {},
   "outputs": [],
   "source": [
    "matriz = [ [0, 0, 0, 1, 0],\n",
    "           [0, 0, 0, 0, 0],\n",
    "           [0, 2, 0, 0, 0],\n",
    "           [0, 0, 0, 0, 0],\n",
    "           [0, 0, 0, 3, 0] ]"
   ]
  },
  {
   "cell_type": "markdown",
   "metadata": {},
   "source": [
    "Uma alternativa para economizar memória é usarmos um dicionário. Para as chaves usaremos tuplas com os índices da linha e da coluna:"
   ]
  },
  {
   "cell_type": "code",
   "execution_count": 44,
   "metadata": {},
   "outputs": [],
   "source": [
    "esparsa = {(0,3): 1, (2, 1): 2, (4, 3): 3}"
   ]
  },
  {
   "cell_type": "markdown",
   "metadata": {},
   "source": [
    "Nós precisamos apenas de três itens __chave:valor__ para armazenar os valores diferentes de zero da matriz. Cada __chave__ é uma tupla com informação da linha e coluna do elemento não nulo, e cada __valor__ é o valor não nulo (número inteiro) a ser armazenado.\n",
    "\n",
    "Para acessarmos um elemento da matriz armazenada na __lista__ utilizamos o operador de indexação [ ]. Por exemplo, para acessar o primeiro elemento não nulo da matriz: "
   ]
  },
  {
   "cell_type": "code",
   "execution_count": 45,
   "metadata": {},
   "outputs": [
    {
     "data": {
      "text/plain": [
       "1"
      ]
     },
     "execution_count": 45,
     "metadata": {},
     "output_type": "execute_result"
    }
   ],
   "source": [
    "matriz[0][3]"
   ]
  },
  {
   "cell_type": "markdown",
   "metadata": {},
   "source": [
    "Note que a sintaxe da representação de um dicionário não é a mesma usada na representação das listas. Em vez de usarmos dois índices inteiros, nós usamos apenas um índice, que nesse caso, é uma tupla formada a partir dos dois valores inteiros referentes à linha e coluna dos elementos não nulos.\n",
    "\n",
    "Mas temos um problema com essa alternativa... Se tentarmos buscar um elemento zero, obteremos um erro, pois não existe uma entrada no dicionário para a chave especificada, 0 (zero):"
   ]
  },
  {
   "cell_type": "code",
   "execution_count": 46,
   "metadata": {},
   "outputs": [
    {
     "name": "stdout",
     "output_type": "stream",
     "text": [
      "1\n",
      "1\n"
     ]
    },
    {
     "ename": "KeyError",
     "evalue": "(1, 3)",
     "output_type": "error",
     "traceback": [
      "\u001b[1;31m---------------------------------------------------------------------------\u001b[0m",
      "\u001b[1;31mKeyError\u001b[0m                                  Traceback (most recent call last)",
      "\u001b[1;32m<ipython-input-46-f9425136b439>\u001b[0m in \u001b[0;36m<module>\u001b[1;34m\u001b[0m\n\u001b[0;32m      1\u001b[0m \u001b[0mprint\u001b[0m\u001b[1;33m(\u001b[0m\u001b[0mmatriz\u001b[0m\u001b[1;33m[\u001b[0m\u001b[1;36m0\u001b[0m\u001b[1;33m]\u001b[0m\u001b[1;33m[\u001b[0m\u001b[1;36m3\u001b[0m\u001b[1;33m]\u001b[0m\u001b[1;33m)\u001b[0m\u001b[1;33m\u001b[0m\u001b[1;33m\u001b[0m\u001b[0m\n\u001b[0;32m      2\u001b[0m \u001b[0mprint\u001b[0m\u001b[1;33m(\u001b[0m\u001b[0mesparsa\u001b[0m\u001b[1;33m[\u001b[0m\u001b[1;36m0\u001b[0m\u001b[1;33m,\u001b[0m\u001b[1;36m3\u001b[0m\u001b[1;33m]\u001b[0m\u001b[1;33m)\u001b[0m\u001b[1;33m\u001b[0m\u001b[1;33m\u001b[0m\u001b[0m\n\u001b[1;32m----> 3\u001b[1;33m \u001b[0mprint\u001b[0m\u001b[1;33m(\u001b[0m\u001b[0mesparsa\u001b[0m\u001b[1;33m[\u001b[0m\u001b[1;36m1\u001b[0m\u001b[1;33m,\u001b[0m\u001b[1;36m3\u001b[0m\u001b[1;33m]\u001b[0m\u001b[1;33m)\u001b[0m\u001b[1;33m\u001b[0m\u001b[1;33m\u001b[0m\u001b[0m\n\u001b[0m",
      "\u001b[1;31mKeyError\u001b[0m: (1, 3)"
     ]
    }
   ],
   "source": [
    "print(matriz[0][3])\n",
    "print(esparsa[0,3])\n",
    "print(esparsa[1,3])"
   ]
  },
  {
   "cell_type": "markdown",
   "metadata": {},
   "source": [
    "Podemos usar o método `get()` para resolver essa questão:"
   ]
  },
  {
   "cell_type": "code",
   "execution_count": 47,
   "metadata": {},
   "outputs": [
    {
     "data": {
      "text/plain": [
       "1"
      ]
     },
     "execution_count": 47,
     "metadata": {},
     "output_type": "execute_result"
    }
   ],
   "source": [
    "esparsa.get((0,3), 0)"
   ]
  },
  {
   "cell_type": "markdown",
   "metadata": {},
   "source": [
    "O primeiro parâmetro do `get()` é a __chave__ buscada, e o segundo parâmetro é o __valor__ que o `get()` retornará caso a chave não exista no dicionário. Exemplo:"
   ]
  },
  {
   "cell_type": "code",
   "execution_count": 48,
   "metadata": {
    "scrolled": true
   },
   "outputs": [
    {
     "data": {
      "text/plain": [
       "0"
      ]
     },
     "execution_count": 48,
     "metadata": {},
     "output_type": "execute_result"
    }
   ],
   "source": [
    "esparsa.get((1,3),0)"
   ]
  },
  {
   "cell_type": "markdown",
   "metadata": {},
   "source": [
    "### <a style=\"color: red\">Exercícios</a>\n",
    "1.\tDada uma palavra, só com letras minúsculas, entrada pelo usuário, mostre a quantidade de letras na palavra."
   ]
  },
  {
   "cell_type": "code",
   "execution_count": 52,
   "metadata": {},
   "outputs": [
    {
     "name": "stdout",
     "output_type": "stream",
     "text": [
      "Digite uma palavra com letras minúsculas: anticonstitucionalissimamente\n"
     ]
    },
    {
     "data": {
      "text/plain": [
       "29"
      ]
     },
     "execution_count": 52,
     "metadata": {},
     "output_type": "execute_result"
    }
   ],
   "source": [
    "s = input(\"Digite uma palavra com letras minúsculas: \")   # use delimitador na string 'ana claudia maria' para versão 2.x\n",
    "len(s)"
   ]
  },
  {
   "cell_type": "code",
   "execution_count": null,
   "metadata": {},
   "outputs": [],
   "source": [
    "print(s)"
   ]
  },
  {
   "cell_type": "markdown",
   "metadata": {},
   "source": [
    "2.\tDada uma palavra, só com letras minúsculas, entrada pelo usuário, mostre a ocorrência de cada letra da palavra (histograma = contagem de frequência), usando lista."
   ]
  },
  {
   "cell_type": "code",
   "execution_count": 53,
   "metadata": {},
   "outputs": [
    {
     "name": "stdout",
     "output_type": "stream",
     "text": [
      "['a', 'n', 't', 'i', 'c', 'o', 'n', 's', 't', 'i', 't', 'u', 'c', 'i', 'o', 'n', 'a', 'l', 'i', 's', 's', 'i', 'm', 'a', 'm', 'e', 'n', 't', 'e']\n",
      "[3, 4, 4, 5, 2, 2, 3, 1, 1, 2, 2] ['a', 'n', 't', 'i', 'c', 'o', 's', 'u', 'l', 'm', 'e']\n"
     ]
    }
   ],
   "source": [
    "c = []; L = []\n",
    "S = list(s)\n",
    "print(S)\n",
    "for letra in S:\n",
    "    if letra not in L:\n",
    "        c = c + [S.count(letra)]\n",
    "        L = L + [letra]    # L.append(letra)\n",
    "print(c,L)"
   ]
  },
  {
   "cell_type": "markdown",
   "metadata": {},
   "source": [
    "3.\tDada uma palavra, só com letras minúsculas, entrada pelo usuário, mostre a ocorrência de cada letra da palavra (histograma = contagem de frequência), usando dicionário."
   ]
  },
  {
   "cell_type": "code",
   "execution_count": 54,
   "metadata": {},
   "outputs": [
    {
     "name": "stdout",
     "output_type": "stream",
     "text": [
      "{'a': 3, 'n': 4, 't': 4, 'i': 5, 'c': 2, 'o': 2, 's': 3, 'u': 1, 'l': 1, 'm': 2, 'e': 2}\n"
     ]
    }
   ],
   "source": [
    "dic = { }\n",
    "for letra in s:\n",
    "    if letra in dic:\n",
    "        dic[letra] += 1       # acrescenta um no valor associado à chave 'letra'\n",
    "    else:\n",
    "        dic[letra] = 1        # insere o par 'letra':1 no dicionário 'dic'\n",
    "print(dic)"
   ]
  },
  {
   "cell_type": "markdown",
   "metadata": {},
   "source": [
    "<p style=\"text-align:right;\"><a href=\"#topo\">Volta ao topo</a>"
   ]
  },
  {
   "cell_type": "markdown",
   "metadata": {},
   "source": [
    "<a id=\"11.\"></a>\n",
    "## 8.\tFunções Incorporadas\n",
    "\n",
    "### Definição\n",
    "O interpretador Python possui várias funções incorporadas que estão sempre disponíveis – **não dependem de importações**. <br>Elas estão listadas em ordem alfabética a seguir:\n",
    "\n",
    "<style type=\"text/css\">\n",
    ".tg  {border-collapse:collapse;border-spacing:0;}\n",
    ".tg td{font-family:Arial, sans-serif;font-size:14px;padding:10px 5px;border-style:solid;border-width:1px;overflow:hidden;word-break:normal;border-color:black;}\n",
    ".tg th{font-family:Arial, sans-serif;font-size:14px;font-weight:normal;padding:10px 5px;border-style:solid;border-width:1px;overflow:hidden;word-break:normal;border-color:black;}\n",
    ".tg .tg-c3ow{border-color:inherit;text-align:center;vertical-align:top}\n",
    ".tg .tg-uys7{border-color:inherit;text-align:center}\n",
    ".tg .tg-p8sp{font-size:20px;border-color:inherit;text-align:center;vertical-align:top}\n",
    "</style>\n",
    "<table class=\"tg\">\n",
    "  <tr>\n",
    "    <th class=\"tg-p8sp\" colspan=\"5\">Funções Incorporadas</th>\n",
    "  </tr>\n",
    "  <tr>\n",
    "    <td class=\"tg-uys7\"><br>&nbsp;&nbsp;abs()<br>&nbsp;&nbsp;</td>\n",
    "    <td class=\"tg-uys7\"><br>&nbsp;&nbsp;divmod()<br>&nbsp;&nbsp;</td>\n",
    "    <td class=\"tg-uys7\"><br>&nbsp;&nbsp;input()<br>&nbsp;&nbsp;</td>\n",
    "    <td class=\"tg-uys7\"><br>&nbsp;&nbsp;open()<br>&nbsp;&nbsp;</td>\n",
    "    <td class=\"tg-uys7\"><br>&nbsp;&nbsp;staticmethod()<br>&nbsp;&nbsp;</td>\n",
    "  </tr>\n",
    "  <tr>\n",
    "    <td class=\"tg-uys7\"><br>&nbsp;&nbsp;all()<br>&nbsp;&nbsp;</td>\n",
    "    <td class=\"tg-uys7\"><br>&nbsp;&nbsp;<a href=\"#enumerate\">enumerate()</a><br>&nbsp;&nbsp;</td>\n",
    "    <td class=\"tg-uys7\"><br>&nbsp;&nbsp;int()<br>&nbsp;&nbsp;</td>\n",
    "    <td class=\"tg-uys7\"><br>&nbsp;&nbsp;ord()<br>&nbsp;&nbsp;</td>\n",
    "    <td class=\"tg-uys7\"><br>&nbsp;&nbsp;str()<br>&nbsp;&nbsp;</td>\n",
    "  </tr>\n",
    "  <tr>\n",
    "    <td class=\"tg-uys7\"><br>&nbsp;&nbsp;any()<br>&nbsp;&nbsp;</td>\n",
    "    <td class=\"tg-uys7\"><br>&nbsp;&nbsp;eval()<br>&nbsp;&nbsp;</td>\n",
    "    <td class=\"tg-uys7\"><br>&nbsp;&nbsp;isinstance()<br>&nbsp;&nbsp;</td>\n",
    "    <td class=\"tg-uys7\"><br>&nbsp;&nbsp;pow()<br>&nbsp;&nbsp;</td>\n",
    "    <td class=\"tg-uys7\"><br>&nbsp;&nbsp;sum()<br>&nbsp;&nbsp;</td>\n",
    "  </tr>\n",
    "  <tr>\n",
    "    <td class=\"tg-uys7\"><br>&nbsp;&nbsp;basestring()<br>&nbsp;&nbsp;</td>\n",
    "    <td class=\"tg-uys7\"><br>&nbsp;&nbsp;execfile()<br>&nbsp;&nbsp;</td>\n",
    "    <td class=\"tg-uys7\"><br>&nbsp;&nbsp;issubclass()<br>&nbsp;&nbsp;</td>\n",
    "    <td class=\"tg-uys7\"><br>&nbsp;&nbsp;print()<br>&nbsp;&nbsp;</td>\n",
    "    <td class=\"tg-uys7\"><br>&nbsp;&nbsp;super()<br>&nbsp;&nbsp;</td>\n",
    "  </tr>\n",
    "  <tr>\n",
    "    <td class=\"tg-uys7\"><br>&nbsp;&nbsp;bin()<br>&nbsp;&nbsp;</td>\n",
    "    <td class=\"tg-uys7\"><br>&nbsp;&nbsp;file()<br>&nbsp;&nbsp;</td>\n",
    "    <td class=\"tg-uys7\"><br>&nbsp;&nbsp;iter()<br>&nbsp;&nbsp;</td>\n",
    "    <td class=\"tg-uys7\"><br>&nbsp;&nbsp;property()<br>&nbsp;&nbsp;</td>\n",
    "    <td class=\"tg-uys7\"><br>&nbsp;&nbsp;tuple()<br>&nbsp;&nbsp;</td>\n",
    "  </tr>\n",
    "  <tr>\n",
    "    <td class=\"tg-uys7\"><br>&nbsp;&nbsp;bool()<br>&nbsp;&nbsp;</td>\n",
    "    <td class=\"tg-uys7\"><br>&nbsp;&nbsp;filter()<br>&nbsp;&nbsp;</td>\n",
    "    <td class=\"tg-uys7\"><br>&nbsp;&nbsp;len()<br>&nbsp;&nbsp;</td>\n",
    "    <td class=\"tg-uys7\"><br>&nbsp;&nbsp;range()<br>&nbsp;&nbsp;</td>\n",
    "    <td class=\"tg-uys7\"><br>&nbsp;&nbsp;type()<br>&nbsp;&nbsp;</td>\n",
    "  </tr>\n",
    "  <tr>\n",
    "    <td class=\"tg-uys7\"><br>&nbsp;&nbsp;bytearray()<br>&nbsp;&nbsp;</td>\n",
    "    <td class=\"tg-uys7\"><br>&nbsp;&nbsp;float()<br>&nbsp;&nbsp;</td>\n",
    "    <td class=\"tg-uys7\"><br>&nbsp;&nbsp;list()<br>&nbsp;&nbsp;</td>\n",
    "    <td class=\"tg-uys7\"><br>&nbsp;&nbsp;raw_input()<br>&nbsp;&nbsp;</td>\n",
    "    <td class=\"tg-uys7\"><br>&nbsp;&nbsp;unichr()<br>&nbsp;&nbsp;</td>\n",
    "  </tr>\n",
    "  <tr>\n",
    "    <td class=\"tg-uys7\"><br>&nbsp;&nbsp;callable()<br>&nbsp;&nbsp;</td>\n",
    "    <td class=\"tg-uys7\"><br>&nbsp;&nbsp;format()<br>&nbsp;&nbsp;</td>\n",
    "    <td class=\"tg-uys7\"><br>&nbsp;&nbsp;locals()<br>&nbsp;&nbsp;</td>\n",
    "    <td class=\"tg-uys7\"><br>&nbsp;&nbsp;reduce()<br>&nbsp;&nbsp;</td>\n",
    "    <td class=\"tg-uys7\"><br>&nbsp;&nbsp;unicode()<br>&nbsp;&nbsp;</td>\n",
    "  </tr>\n",
    "  <tr>\n",
    "    <td class=\"tg-uys7\"><br>&nbsp;&nbsp;chr()<br>&nbsp;&nbsp;</td>\n",
    "    <td class=\"tg-uys7\"><br>&nbsp;&nbsp;frozenset()<br>&nbsp;&nbsp;</td>\n",
    "    <td class=\"tg-uys7\"><br>&nbsp;&nbsp;long()<br>&nbsp;&nbsp;</td>\n",
    "    <td class=\"tg-uys7\"><br>&nbsp;&nbsp;reload()<br>&nbsp;&nbsp;</td>\n",
    "    <td class=\"tg-uys7\"><br>&nbsp;&nbsp;vars()<br>&nbsp;&nbsp;</td>\n",
    "  </tr>\n",
    "  <tr>\n",
    "    <td class=\"tg-uys7\"><br>&nbsp;&nbsp;classmethod()<br>&nbsp;&nbsp;</td>\n",
    "    <td class=\"tg-uys7\"><br>&nbsp;&nbsp;getattr()<br>&nbsp;&nbsp;</td>\n",
    "    <td class=\"tg-uys7\"><br>&nbsp;&nbsp;map()<br>&nbsp;&nbsp;</td>\n",
    "    <td class=\"tg-uys7\"><br>&nbsp;&nbsp;repr()<br>&nbsp;&nbsp;</td>\n",
    "    <td class=\"tg-uys7\"><br>&nbsp;&nbsp;xrange()<br>&nbsp;&nbsp;</td>\n",
    "  </tr>\n",
    "  <tr>\n",
    "    <td class=\"tg-uys7\"><br>&nbsp;&nbsp;cmp()<br>&nbsp;&nbsp;</td>\n",
    "    <td class=\"tg-uys7\"><br>&nbsp;&nbsp;globals()<br>&nbsp;&nbsp;</td>\n",
    "    <td class=\"tg-uys7\"><br>&nbsp;&nbsp;max()<br>&nbsp;&nbsp;</td>\n",
    "    <td class=\"tg-uys7\"><br>&nbsp;&nbsp;reversed()<br>&nbsp;&nbsp;</td>\n",
    "      <td class=\"tg-uys7\"><br>&nbsp;&nbsp;<a href=\"#zip\">zip()</a><br>&nbsp;&nbsp;</td>\n",
    "  </tr>\n",
    "  <tr>\n",
    "    <td class=\"tg-uys7\"><br>&nbsp;&nbsp;compile()<br>&nbsp;&nbsp;</td>\n",
    "    <td class=\"tg-uys7\"><br>&nbsp;&nbsp;hasattr()<br>&nbsp;&nbsp;</td>\n",
    "    <td class=\"tg-uys7\"><br>&nbsp;&nbsp;memoryview()<br>&nbsp;&nbsp;</td>\n",
    "    <td class=\"tg-uys7\"><br>&nbsp;&nbsp;round()<br>&nbsp;&nbsp;</td>\n",
    "    <td class=\"tg-uys7\"><br>&nbsp;&nbsp;__import__()<br>&nbsp;&nbsp;</td>\n",
    "  </tr>\n",
    "  <tr>\n",
    "    <td class=\"tg-uys7\"><br>&nbsp;&nbsp;complex()<br>&nbsp;&nbsp;</td>\n",
    "    <td class=\"tg-uys7\"><br>&nbsp;&nbsp;hash()<br>&nbsp;&nbsp;</td>\n",
    "    <td class=\"tg-uys7\"><br>&nbsp;&nbsp;min()<br>&nbsp;&nbsp;</td>\n",
    "    <td class=\"tg-uys7\"><br>&nbsp;&nbsp;set()<br>&nbsp;&nbsp;</td>\n",
    "    <td class=\"tg-uys7\"></td>\n",
    "  </tr>\n",
    "  <tr>\n",
    "    <td class=\"tg-uys7\"><br>&nbsp;&nbsp;delattr()<br>&nbsp;&nbsp;</td>\n",
    "    <td class=\"tg-uys7\"><br>&nbsp;&nbsp;help()<br>&nbsp;&nbsp;</td>\n",
    "    <td class=\"tg-uys7\"><br>&nbsp;&nbsp;next()<br>&nbsp;&nbsp;</td>\n",
    "    <td class=\"tg-uys7\"><br>&nbsp;&nbsp;setattr()<br>&nbsp;&nbsp;</td>\n",
    "    <td class=\"tg-uys7\"></td>\n",
    "  </tr>\n",
    "  <tr>\n",
    "    <td class=\"tg-c3ow\"><br>&nbsp;&nbsp;dict()<br>&nbsp;&nbsp;</td>\n",
    "    <td class=\"tg-c3ow\"><br>&nbsp;&nbsp;hex()<br>&nbsp;&nbsp;</td>\n",
    "    <td class=\"tg-c3ow\"><br>&nbsp;&nbsp;object()<br>&nbsp;&nbsp;</td>\n",
    "    <td class=\"tg-c3ow\"><br>&nbsp;&nbsp;slice()<br>&nbsp;&nbsp;</td>\n",
    "    <td class=\"tg-c3ow\"></td>\n",
    "  </tr>\n",
    "  <tr>\n",
    "    <td class=\"tg-c3ow\"><br>&nbsp;&nbsp;dir()<br>&nbsp;&nbsp;</td>\n",
    "    <td class=\"tg-c3ow\"><br>&nbsp;&nbsp;id()<br>&nbsp;&nbsp;</td>\n",
    "    <td class=\"tg-c3ow\"><br>&nbsp;&nbsp;oct()<br>&nbsp;&nbsp;</td>\n",
    "    <td class=\"tg-c3ow\"><br>&nbsp;&nbsp;sorted()<br>&nbsp;&nbsp;</td>\n",
    "    <td class=\"tg-c3ow\"></td>\n",
    "  </tr>\n",
    "</table>"
   ]
  },
  {
   "cell_type": "markdown",
   "metadata": {},
   "source": [
    "### Funções Poderosas"
   ]
  },
  {
   "cell_type": "markdown",
   "metadata": {},
   "source": [
    "<a id=\"#enumerate\"></a>\n",
    "#### <tt style=\"color:#c00000; font-size:18px\">enumerate(iteravel, inicio=0)</tt>\n",
    "Retorna um objeto do tipo enumerado. O parâmetro `iteravel` pode ser uma sequência, um iterador ou algum outro objeto que suporte iteração. O método `next()` do iterador gerado por `enumerate()` retorna uma tupla contendo uma contagem a partir do início (parâmetro `inicio`, cujo valor padrão é 0) e os valores obtidos da iteração na sequência `iteravel`:"
   ]
  },
  {
   "cell_type": "code",
   "execution_count": 26,
   "metadata": {},
   "outputs": [
    {
     "name": "stdout",
     "output_type": "stream",
     "text": [
      "[(0, 'Primavera'), (1, 'Verao'), (2, 'Outono'), (3, 'Inverno')]\n",
      "[(1, 'Primavera'), (2, 'Verao'), (3, 'Outono'), (4, 'Inverno')]\n"
     ]
    }
   ],
   "source": [
    "estacoes = ['Primavera', 'Verao', 'Outono', 'Inverno']\n",
    "\n",
    "print(list(enumerate(estacoes)))\n",
    "\n",
    "print(list(enumerate(estacoes,1)))"
   ]
  },
  {
   "cell_type": "markdown",
   "metadata": {},
   "source": [
    "Equivalente à seguinte função do usuário:\n",
    "```python\n",
    "def enumerate(iteravel, inicio=0):\n",
    "    n = inicio\n",
    "    for elem in iteravel:\n",
    "        yield n, elem\n",
    "        n += 1\n",
    "```\n",
    "Outro exemplo de uso da função incorporada `enumerate()`:"
   ]
  },
  {
   "cell_type": "code",
   "execution_count": 31,
   "metadata": {},
   "outputs": [
    {
     "name": "stdout",
     "output_type": "stream",
     "text": [
      "Fruta 10: manga     .\n",
      "Fruta 11: banana    .\n",
      "Fruta 12: laranja   .\n",
      "Fruta 13: uva       .\n",
      "Fruta 14: ata       .\n",
      "Fruta 15: abacaxi   .\n"
     ]
    }
   ],
   "source": [
    "frutas = ('manga', 'banana', 'laranja', 'uva', 'ata', 'abacaxi')\n",
    "for cont, fruta in enumerate(frutas,10):\n",
    "    print(\"Fruta %2d: %-10s.\" % (cont,fruta))"
   ]
  },
  {
   "cell_type": "markdown",
   "metadata": {},
   "source": [
    "**Iteração**: _substantivo feminino_. \n",
    "1. _ato de iterar; repetição_. \n",
    "2. ÁLGEBRA: _processo de resolução de uma equação mediante operações em que sucessivamente o objeto de cada uma é o resultado da que a precede_. \n",
    "3. COMPUT.: _é o processo de repetição de uma ou mais ações; cada iteração se refere a apenas uma instância da ação._"
   ]
  },
  {
   "cell_type": "markdown",
   "metadata": {},
   "source": [
    "Mais um exemplo:"
   ]
  },
  {
   "cell_type": "code",
   "execution_count": 34,
   "metadata": {
    "scrolled": false
   },
   "outputs": [
    {
     "name": "stdout",
     "output_type": "stream",
     "text": [
      "Segunda-feira é o 1o. dia útil da semana\n",
      "Terça-feira é o 2o. dia útil da semana\n",
      "Quarta-feira é o 3o. dia útil da semana\n",
      "Quinta-feira é o 4o. dia útil da semana\n",
      "Sexta-feira é o 5o. dia útil da semana\n"
     ]
    }
   ],
   "source": [
    "diasSemana = [\"Segunda\", \"Terça\", \"Quarta\", \"Quinta\", \"Sexta\", \"Sábado\", \"Domingo\"]\n",
    "for i, dia in enumerate(diasSemana,1):\n",
    "    print(\"{}-feira é o {}o. dia útil da semana\".format(dia, i))\n",
    "    if i >= 5:\n",
    "        break"
   ]
  },
  {
   "cell_type": "code",
   "execution_count": 38,
   "metadata": {},
   "outputs": [
    {
     "name": "stdout",
     "output_type": "stream",
     "text": [
      "3- José\n",
      "2- Maria\n",
      "1- João\n"
     ]
    }
   ],
   "source": [
    "alunos = ('joão','maria','josé')\n",
    "for i,aluno in enumerate(alunos[::-1],1):\n",
    "    print(\"%d- %s\" % (4-i, aluno.capitalize()))"
   ]
  },
  {
   "cell_type": "markdown",
   "metadata": {},
   "source": [
    "#### <tt style=\"color:#c00000; font-size:18px\">Operador lambda - Função Anônima</tt>\n",
    "Um operador `lambda`, ou uma função `lambda`, é usado para criar objetos do tipo **função anônima**, pequena e composta apenas de expressões (argumentos e comandos). A função _lambda_ é escrita numa única linha, e pode ter o seu resultado atribuído a uma variável.\n",
    "\n",
    "Sintaxe:  \n",
    "\n",
    "```python\n",
    "lambda argumentos : expressão\n",
    "```\n",
    "Vejamos um exemplo de aplicação do operador _lambda_: o nome da função definida pelo usuário é `soma()`, ela espera dois argumentos `x` e `y`, e retorna a soma deles:"
   ]
  },
  {
   "cell_type": "code",
   "execution_count": 58,
   "metadata": {},
   "outputs": [
    {
     "name": "stdout",
     "output_type": "stream",
     "text": [
      "53\n"
     ]
    }
   ],
   "source": [
    "def soma(x, y):            # função do usuário (criada pelo programador)\n",
    "    return x + y\n",
    "  \n",
    "# chamada à função 'soma'\n",
    "print(soma(20,33))"
   ]
  },
  {
   "cell_type": "markdown",
   "metadata": {},
   "source": [
    "A mesma função `soma()` com operador _lambda_:"
   ]
  },
  {
   "cell_type": "code",
   "execution_count": 60,
   "metadata": {},
   "outputs": [
    {
     "name": "stdout",
     "output_type": "stream",
     "text": [
      "11\n"
     ]
    }
   ],
   "source": [
    "soma = lambda x, y : x + y \n",
    "print(soma(4, 7))"
   ]
  },
  {
   "cell_type": "code",
   "execution_count": 74,
   "metadata": {},
   "outputs": [
    {
     "name": "stdout",
     "output_type": "stream",
     "text": [
      "[0 0 0 0 0 0 0 0 0 0 0 0 0 0 0 0 0 0 0 0 0 5 5 5 5 5 5 5 5 5 5 5 5 5 5 5 0\n",
      " 0 0 0 0 0 0 0 0 0 0 0 0 0 0 0 0 0 0 0 0 0 0 0 0 0 0 0 0 0 0 0 0 0 0 0 0 0\n",
      " 0 0 0 0 0 0]\n"
     ]
    },
    {
     "data": {
      "image/png": "[encoded data removed]",
      "text/plain": [
       "<Figure size 432x288 with 1 Axes>"
      ]
     },
     "metadata": {
      "needs_background": "light"
     },
     "output_type": "display_data"
    }
   ],
   "source": [
    "import numpy as np\n",
    "\n",
    "pulso_unit = lambda tau, t0 : (tau >= 0) * (tau < t0)   # pulso unitário: u(t)-u(t-t0)\n",
    "t = np.arange(-1,7,0.1)                                 # base de tempo, de -1 a 1, de 0.1 em 0.1\n",
    "print(pulso_unit(2*(t-1),3)*5)                          # 5.p(3(t-1))\n",
    "\n",
    "import pylab as pl\n",
    "pl.plot(t,intervalo(2*(t-1),3)*5);"
   ]
  },
  {
   "cell_type": "markdown",
   "metadata": {},
   "source": [
    "Na construção `lambda x, y: x + y`; `x` e `y` são argumentos para a função e `x + y` é a expressão que é executada e seu valor é retornado como saída. \n",
    "\n",
    "O operador `lambda x, y: x + y` retorna um objeto função que pode ser atribuído a qualquer variável, neste caso, o objeto função foi atribuído à variável `soma_lambda`."
   ]
  },
  {
   "cell_type": "markdown",
   "metadata": {},
   "source": [
    "No exemplo da função `filter()` (ver logo adiante) tivemos que definir uma função do usuário, `positivo()`, para ser usada somente como parâmetro da função `filter()`, sendo invocada para cada elemento filtrado. Ao invés de definir uma função de usuário com a instrução `def`, podemos definir uma função válida somente enquanto durar a execução da função `filter()`. Não é necessário nem nomear tal função, sendo, portanto chamada de função anônima ou função `lambda`. \n",
    "\n",
    "Considere o exemplo seguinte:"
   ]
  },
  {
   "cell_type": "code",
   "execution_count": null,
   "metadata": {},
   "outputs": [],
   "source": [
    "valores = [10, 4, -1, 3, 5, -9, -11,-20]\n",
    "print(list(filter(lambda x: x > 0, valores)))\n",
    "print(list(filter(lambda x: x>0 and x%2 == 0, valores)))"
   ]
  },
  {
   "cell_type": "markdown",
   "metadata": {},
   "source": [
    "Definimos uma função anônima que recebe um parâmetro de entrada `x` e retorna o resultado da operação relacional `x > 0: True` ou `False`.\n",
    "\n",
    "Também podemos usar uma função `lambda` no exemplo mostrado para a função `reduce()`:"
   ]
  },
  {
   "cell_type": "code",
   "execution_count": null,
   "metadata": {},
   "outputs": [],
   "source": [
    "import functools                       # python3\n",
    "cinco = [1, 2, 3, 4, 5]\n",
    "soma =  functools.reduce(lambda x, y: x + y, cinco)\n",
    "print(soma)"
   ]
  },
  {
   "cell_type": "markdown",
   "metadata": {},
   "source": [
    "No código acima, definimos uma função anônima que recebe dois parâmetros de entrada e retorna a soma deles."
   ]
  },
  {
   "cell_type": "markdown",
   "metadata": {},
   "source": [
    "#### <tt style=\"color:#c00000; font-size:18px\">map(funcao, iteravel_1, iteravel_2,...)</tt>\n",
    "Aplica o objeto `funcao` a cada item do `iteravel_1` e retorna uma **lista** dos elementos modificados pelo objeto `funcao`. \n",
    "\n",
    "O mapeamento consiste em aplicar uma função a todos os itens de uma sequência (lista, dicionário, tupla, conjunto etc.) gerando outra lista com os resultados e com o mesmo tamanho da sequência original.  \n",
    "\n",
    "Se os argumentos iteráveis adicionais forem indicados, a função deve tomar tantos quantos argumentos que serão aplicados aos itens de todos os iteráveis em paralelo. Se um iterável for menor que outro, então ele será estendido com itens `None`. Se a função não for especificada (`None`) então a função `identity()` é assumida; se houver vários argumentos `map()` retorna uma lista que consiste de tuplas contendo os itens correspondentes a todos os iteráveis informados (um tipo de operação de transposição).  \n",
    "\n",
    "Os argumentos iteráveis podem ser sequência ou qualquer objeto iterável; **o resultado é sempre uma lista**."
   ]
  },
  {
   "cell_type": "code",
   "execution_count": 58,
   "metadata": {},
   "outputs": [
    {
     "name": "stdout",
     "output_type": "stream",
     "text": [
      "9.0\n",
      "[1.0, 2.0, 3.0, 4.0, 5.0]\n"
     ]
    }
   ],
   "source": [
    "#### <tt style=\"color:#c00000; font-size:18px\">\n",
    "import math\n",
    "quadrados = [1, 4, 9, 16, 25]\n",
    "print(math.sqrt(81))\n",
    "resultado = map(math.sqrt, quadrados)\n",
    "print(list(resultado))"
   ]
  },
  {
   "cell_type": "markdown",
   "metadata": {},
   "source": [
    "No Python3, a função `map()` retorna um iterador ou objeto `map` que é <u>avaliado preguiçosamente</u>.\n",
    "> Avaliação Preguiçosa (_Lazy Evaluation_), ou chamada por necessidade (_call-by-need_), é uma estratégia de avaliação que retarda a avaliação de uma expressão até que seu valor seja necessário e que também evite avaliações repetidas.\n",
    "\n",
    "Não podemos acessar os elementos do objeto `map` com índice, e nem podemos usar `len()` para encontrar o tamanho do objeto `map`. Podemos, no entanto, forçar a conversão da saída da função `map()`, ou seja, o objeto `map`, para listar como mostrado a seguir:"
   ]
  },
  {
   "cell_type": "code",
   "execution_count": null,
   "metadata": {},
   "outputs": [],
   "source": [
    "print(list(resultado))"
   ]
  },
  {
   "cell_type": "markdown",
   "metadata": {},
   "source": [
    "Exemplo de uso da função `map()` com dois iteráveis:"
   ]
  },
  {
   "cell_type": "code",
   "execution_count": null,
   "metadata": {},
   "outputs": [],
   "source": [
    "# Aqui, cada elemento do 'a' e 'b' será passado como argumento para a função lambda.\n",
    "a = [1, 2, 3]\n",
    "b = [10, 20, 30]\n",
    "list(map(lambda x, y: x + y, a, b))     # Resultado: [11, 22, 33]"
   ]
  },
  {
   "cell_type": "markdown",
   "metadata": {},
   "source": [
    "Ao chamar a função `map(math.sqrt, quadrados)` estamos solicitando ao interpretador que execute a função `math.sqrt()` (_square root_, do inglês: raiz quadrada) usando como entrada cada um dos elementos da lista `quadrados`, e inserindo o resultado na lista retornada pela função `map()`, nesse caso, a lista `resultado`.\n",
    "\n",
    "Podemos facilmente substituir uma chamada `map()` por uma <font color=blue>_list comprehension_</font>.  \n",
    "O código anterior poderia ser substituído por:"
   ]
  },
  {
   "cell_type": "code",
   "execution_count": null,
   "metadata": {},
   "outputs": [],
   "source": [
    "result = [math.sqrt(x) for x in quadrados]\n",
    "print(result)"
   ]
  },
  {
   "cell_type": "markdown",
   "metadata": {},
   "source": [
    "Outro exemplo:"
   ]
  },
  {
   "cell_type": "code",
   "execution_count": null,
   "metadata": {
    "scrolled": true
   },
   "outputs": [],
   "source": [
    "list(map(lambda x : x**2, [1, 2, 3, 4]))   # Resultado: [1, 4, 9, 16]"
   ]
  },
  {
   "cell_type": "markdown",
   "metadata": {},
   "source": [
    "#### <tt style=\"color:#c00000; font-size:18px\">filter(funcao, iteravel)</tt>\n",
    "Semelhante à função `map()`, a função `filter()` no Python3 retorna um objeto `filter` ou o iterador que é avaliado um a um.\n",
    "\n",
    "A função `filter()` <font color=red>cria uma lista</font> a partir dos elementos da estrutura de dados **iteravel**, para os quais a aplicação da **funcao** retorna `True`. O parâmetro **iteravel** pode ser uma sequência, um contêiner que suporta iteração ou um iterador. Se **iteravel** for uma _string_ ou uma tupla, o resultado também será do mesmo tipo do **iteravel**; caso contrário, será uma lista. Se o parâmetro **funcao** não for especificado ou for **None**, a função **identity()** é assumida, ou seja, todos os elementos do **iteravel** que forem `False` não serão considerados.\n",
    "\n",
    "A função `filter()` é equivalente à seguinte _list comprehension_:\n",
    "- Com parâmetro funcao especificado: \t\t\n",
    "```python \n",
    "[item for item in iteravel if funcao(item)]```\n",
    "- Com parâmetro funcao não especificado: \t\n",
    "```python \n",
    "[item for item in iteravel if item]```"
   ]
  },
  {
   "cell_type": "code",
   "execution_count": 59,
   "metadata": {},
   "outputs": [
    {
     "name": "stdout",
     "output_type": "stream",
     "text": [
      "[8, 9, 3, 5, 2, 5, 91, 5, 10, 93]\n",
      "[-1, -3, -5, -4, -4, -11, -75]\n"
     ]
    }
   ],
   "source": [
    "lista = [8, 9, -1, -3, 3, -5, -4, 5, -4, 2, 5, 91, -11, 5, 10, 93, -75]\n",
    "positivos = []\n",
    "\n",
    "for item in lista:\n",
    "   if item > 0:\n",
    "      positivos.append(item)\n",
    "print(positivos)\n",
    "\n",
    "negativos = [x for x in lista if x < 0]\n",
    "print(negativos)"
   ]
  },
  {
   "cell_type": "markdown",
   "metadata": {},
   "source": [
    "Agora vamos mostrar o jeito 'Pythonico' de se programar, fazendo a mesma coisa de forma mais compacta, usando uma função definida pelo usuário e denominada `positivo()`:"
   ]
  },
  {
   "cell_type": "code",
   "execution_count": 60,
   "metadata": {},
   "outputs": [
    {
     "name": "stdout",
     "output_type": "stream",
     "text": [
      "[8, 9, 3, 5, 2, 5, 91, 5, 10, 93]\n",
      "[-1, -3, -5, -4, -4, -11, -75]\n"
     ]
    }
   ],
   "source": [
    "lista = [8, 9, -1, -3, 3, -5, -4, 5, -4, 2, 5, 91, -11, 5, 10, 93, -75]\n",
    "def positivo(x):       # retorna True para x positivo\n",
    "    return x > 0\n",
    "\n",
    "posit = filter(positivo, lista)\n",
    "print(list(posit))\n",
    "\n",
    "print(list(filter(lambda x : x < 0,lista)))"
   ]
  },
  {
   "cell_type": "markdown",
   "metadata": {},
   "source": [
    "#### <tt style=\"color:#c00000; font-size:18px\">reduce()</tt>\n",
    "A função `reduce()` aceita uma função e uma sequência, e retorna um único valor calculado da seguinte maneira: Inicialmente, a função é chamada com os dois primeiros itens da sequência e o resultado é retornado. A função é então chamada novamente com o resultado obtido na etapa anterior e o próximo valor na sequência. Esse processo continua se repetindo até que não tenha mais item na sequência.\n",
    "\n",
    "A sintaxe da função `reduce()`:\n",
    "\n",
    "```python\n",
    "valor = reduce(funcao, sequencia [, inicial])\n",
    "```\n",
    "Quando o valor inicial é fornecido a função é chamada com esse valor inicial e o primeiro item da sequência.  \n",
    "\n",
    "No Python 2, `reduce()` é uma função incorporada. No entanto, no Python 3, ela foi movida para o módulo `functools`. Portanto, para usá-lo, você deve primeiro importá-lo da seguinte maneira:\n",
    "\n",
    "```python\n",
    "from functools import reduce # only in Python 3\n",
    "```\n",
    "\n",
    "Exemplo:\n",
    "\n",
    "```python\n",
    "reduce(lambda x, y: x + y, [1,2,3,4,5]) --> faz o seguinte cálculo ((((1+2)+3)+4)+5) = 15. \n",
    "```\n",
    "O argumento da esquerda, `x`, é o valor acumulado e o argumento da direita, `y`, é o valor de atualização do iterável. Se `inicial` (argumento opcional) estiver presente, ele será colocado antes dos itens do iterável no cálculo e servirá como padrão quando o iterável estiver vazio. Se `inicial` não for fornecido e iterável contiver apenas um item, o primeiro item será retornado. Aproximadamente se equivale a:\n",
    "\n",
    "```python\n",
    "def reduce(funcao, iteravel, inicial=None):\n",
    "    it = iter(iteravel)\n",
    "    if inicial is None:\n",
    "        try:\n",
    "            inicial = next(it)               # primeiro valor do iterável\n",
    "        except StopIteration:\n",
    "            raise TypeError('reduce() de sequência vazia e sem valor inicial')\n",
    "    acumulador = inicial\n",
    "    for x in it:\n",
    "        acumulador = funcao(acumulador, x)\n",
    "    return acumulador\n",
    "```"
   ]
  },
  {
   "cell_type": "code",
   "execution_count": 66,
   "metadata": {},
   "outputs": [
    {
     "data": {
      "text/plain": [
       "120"
      ]
     },
     "execution_count": 66,
     "metadata": {},
     "output_type": "execute_result"
    }
   ],
   "source": [
    "reduce(lambda x, y: x * y, [1,2,3,4,5])"
   ]
  },
  {
   "cell_type": "code",
   "execution_count": 64,
   "metadata": {},
   "outputs": [
    {
     "data": {
      "text/plain": [
       "24"
      ]
     },
     "execution_count": 64,
     "metadata": {},
     "output_type": "execute_result"
    }
   ],
   "source": [
    "from functools import reduce        # python3\n",
    "def faz_mult(x1, x2): \n",
    "    return x1 * x2\n",
    "\n",
    "reduce(faz_mult, [1, 2, 3, 4])"
   ]
  },
  {
   "cell_type": "markdown",
   "metadata": {},
   "source": [
    "A chamada à função `reduce()` no exemplo anterior é funcionalmente equivalente a:"
   ]
  },
  {
   "cell_type": "code",
   "execution_count": null,
   "metadata": {},
   "outputs": [],
   "source": [
    "def minha_reduce(func, seq, inicio=0):\n",
    "    primeiro = seq[inicio]\n",
    "    for i in seq[1:]:\n",
    "        primeiro = func(primeiro, i)\n",
    "    return primeiro\n",
    "\n",
    "minha_reduce(faz_soma, [1, 2, 3, 4])"
   ]
  },
  {
   "cell_type": "markdown",
   "metadata": {},
   "source": [
    "A função `reduce()` pode ser usada para calcular o fatorial de um valor `n`:"
   ]
  },
  {
   "cell_type": "code",
   "execution_count": null,
   "metadata": {},
   "outputs": [],
   "source": [
    "# Calcula o fatorial de n\n",
    "def fatorial(n):\n",
    "    return reduce(lambda x,y: x*y, range(1,n+1))\n",
    "print(fatorial(6))"
   ]
  },
  {
   "cell_type": "markdown",
   "metadata": {},
   "source": [
    "<a id=\"#zip\"></a>\n",
    "#### <tt style=\"color:#c00000; font-size:18px\">zip(*iteravel)</tt>\n",
    "A função `zip()` recebe iteráveis (pode ser zero ou mais) e executa um iterador que agrega elementos baseados nos iteráveis recebidos como parâmetros e retorna um iterador de tuplas. O i-ésimo elemento da tupla é criado usando o i-ésimo elemento de cada um dos iteráveis passados como argumentos.\n",
    "\n",
    "A sintaxe da função `zip()\":\n",
    "\n",
    "```python\n",
    "zip(*iteraveis)\n",
    "```\n",
    "A função `zip()` recebe `iteraveis` - podem ser iteráveis internos, como: `list, string, tuple, dict` ou iteráveis definidos pelo usuário: objeto de classe que implementa o método __iter__.\n",
    "\n",
    "A função `zip()` retorna um iterador de tuplas baseada no(s) objeto(s) iterável(eis) recebido(s) como argumento(s). \n",
    "- Se nenhum parâmetro for passado, `zip()` retorna um iterador vazio. \n",
    "- Se um único iterável for passado, `zip()` retorna um iterador de tupla 1D (a qtde. de elementos em cada tupla é 1). \n",
    "- Se `n` iteráveis forem passados, `zip()` retorna um iterador de tupla nD (cada tupla contém `n` elementos). Suponha que dois iteráveis são passados; um iterável contendo 3 elementos e outro contendo 5. Então, o iterador retornado terá 3 tuplas (a menor qtde). Isto acontece porque o iterador finaliza quando o menor iterável é exaurido."
   ]
  },
  {
   "cell_type": "code",
   "execution_count": null,
   "metadata": {},
   "outputs": [],
   "source": [
    "numeros   = [1, 2, 3]\n",
    "extenso   = ['um', 'dois', 'três']\n",
    "resultado = zip()                  # nenhum iteravel é passado\n",
    "lista1    = list(resultado)\n",
    "print(lista1)\n",
    "\n",
    "resultado = zip(numeros, extenso)  # dois iteráveis são passados\n",
    "conjunto  = set(resultado)\n",
    "print(conjunto)"
   ]
  },
  {
   "cell_type": "code",
   "execution_count": null,
   "metadata": {},
   "outputs": [],
   "source": [
    "listaNum  = [1, 2, 3]\n",
    "tuplaNum  = ('UM', 'DOIS', 'TRES', 'QUATRO')\n",
    "extenso   = ['um', 'dois']\n",
    "resultado = zip(listaNum, tuplaNum)  # dois iteráveis de comprimentos diferentes são passados\n",
    "print(set(resultado))\n",
    "resultado = zip(listaNum, tuplaNum, extenso)  # três iteráveis de compr.s diferentes são passados\n",
    "print(set(resultado))"
   ]
  },
  {
   "cell_type": "markdown",
   "metadata": {},
   "source": [
    "O operador `*` pode ser usado com a função `zip()` para descompactar uma lista de tuplas.  \n",
    "Exemplo:"
   ]
  },
  {
   "cell_type": "code",
   "execution_count": null,
   "metadata": {},
   "outputs": [],
   "source": [
    "coordenada = ['x', 'y', 'z']\n",
    "valor = [3, 4, 5, 0, 9]\n",
    "\n",
    "resultado = zip(coordenada, valor)\n",
    "listaResult = list(resultado)\n",
    "print(listaResult)\n",
    "\n",
    "c, v =  zip(*listaResult)\n",
    "print('Coordenadas: ', c)\n",
    "print('Valores:     ', v)"
   ]
  },
  {
   "cell_type": "markdown",
   "metadata": {},
   "source": [
    "Observe que, os elementos 0 e 9 da variável `valor` não estão na variável `v`. Isso ocorre porque os iteráveis compactados possuem diferentes números de elementos."
   ]
  },
  {
   "cell_type": "markdown",
   "metadata": {},
   "source": [
    "Como transformar o seu código em código pythônico, mais bonito e idiomático: \n",
    "\n",
    "Veja o vídeo de Raymond Hettinger: https://www.youtube.com/watch?v=OSGv2VnC0go"
   ]
  },
  {
   "cell_type": "markdown",
   "metadata": {},
   "source": [
    "### [Diferenças entre as Versões 2 e 3 do Python:](https://docs.python.org/3.0/whatsnew/3.0.html)\n",
    "\n",
    "<img src=img/diferencas.png width=500>"
   ]
  },
  {
   "cell_type": "markdown",
   "metadata": {},
   "source": [
    "<p style=\"text-align:right;\"><a href=\"#topo\">Volta ao topo</a>"
   ]
  },
  {
   "cell_type": "markdown",
   "metadata": {},
   "source": [
    "<a id=\"12.\"></a>\n",
    "## 9.\tFunção do Usuário\n",
    "\n",
    "### Definição\n",
    "Função é um grupo de instruções relacionadas que executam uma tarefa específica. As funções ajudam a dividir os programas em partes menores e modulares. À medida que o programa se torna maior, as funções o tornam mais organizado e gerenciável, além de evitar a repetição de comandos e gerar códigos reutilizáveis.\n",
    "\n",
    "```python\n",
    "def nome_funcao(parametros):\n",
    "\t\"\"\" string documental: descreva aqui o que faz a função \"\"\"\n",
    "\tcomando(s)\n",
    "```\n",
    "A palavra-chave `def` define o nome da função bem como os parâmetros que ela deve receber para cumprir o seu papel dentro da lógica do programa. A primeira _string_ após o cabeçalho da função é chamada de **docstring**. Ela é usada para apresentar um resumo do que faz a função. Embora opcional, a documentação é uma boa prática de programação. Geralmente, usamos aspas triplas para que a **docstring** possa se estender por várias linhas. Esta _string_ será apresentada ao usuário via atributo **\\_\\_doc\\_\\_** do objeto função.\n",
    "\n",
    "A instrução `return` é usada para encerrar a função e voltar para o local de onde foi chamada com o resultado da função.  \n",
    "\n",
    "Exemplo:"
   ]
  },
  {
   "cell_type": "code",
   "execution_count": 81,
   "metadata": {
    "scrolled": true
   },
   "outputs": [
    {
     "name": "stdout",
     "output_type": "stream",
     "text": [
      "(4+4j) = 6.40 ∠ 51.3°\n",
      "\n",
      "Converte as coordenadas retangulares (x,y) em coordenadas polares (mod,fase), \n",
      "    sendo a fase apresentada em graus.\n",
      "\n",
      "Help on function polar in module __main__:\n",
      "\n",
      "polar(x, y)\n",
      "    Converte as coordenadas retangulares (x,y) em coordenadas polares (mod,fase), \n",
      "    sendo a fase apresentada em graus.\n",
      "\n"
     ]
    }
   ],
   "source": [
    "from math import sqrt, atan2, pi\n",
    "\n",
    "def polar(x, y):\n",
    "    \"\"\"Converte as coordenadas retangulares (x,y) em coordenadas polares (mod,fase), \n",
    "    sendo a fase apresentada em graus.\"\"\"\n",
    "    mod = sqrt(x*x + y*y)\n",
    "    fase = atan2(y,x) * 180./pi                              # ângulo em graus\n",
    "    return mod,fase\n",
    "\n",
    "z, alfa = polar(4, 5)\n",
    "print(\"%s = %.2f ∠ %.1f\\u00b0\" % (complex(4,4), z, alfa))    # grau: \\xb0\n",
    "\n",
    "print('\\n',polar.__doc__,'\\n',sep='')                        # docstring\n",
    "\n",
    "help(polar)"
   ]
  },
  {
   "cell_type": "markdown",
   "metadata": {},
   "source": [
    "Funções que definimos para executar determinada tarefa específica são chamadas de <b><tt>funções definidas pelo usuário</tt></b>. Funções prontas do Python são chamadas de <b><tt>funções internas</tt></b> ou <b><tt>funções incorporadas</tt></b>. \n",
    "\n",
    "Funções escritas por outras pessoas e disponibilizadas na forma de biblioteca são denominadas <b><tt>funções de biblioteca</tt></b> ou <b><tt>módulos de funções</tt></b>.\n",
    "\n",
    "### Funcionamento\n",
    "Depois de definida pelo usuário (declaração com o comando `def`) a função poderá ser chamada no _script_ sempre que necessário.\n",
    "\n",
    "<table><tr>\n",
    "    <td><img src='img/funcao.png' alt='figura - definição de função do usuário' style=\"float:right; padding:30px; border=1px solid blue\"></td>\n",
    "    <td><img src='img/funcao2.png' alt='figura - uso de função do usuário' width=250></td>\n",
    "</tr></table>\n"
   ]
  },
  {
   "cell_type": "code",
   "execution_count": 21,
   "metadata": {},
   "outputs": [
    {
     "data": {
      "text/plain": [
       "5"
      ]
     },
     "execution_count": 21,
     "metadata": {},
     "output_type": "execute_result"
    }
   ],
   "source": [
    "def add(x,y):\n",
    "    return x + y;\n",
    "\n",
    "sum = add(4,1)\n",
    "sum"
   ]
  },
  {
   "cell_type": "markdown",
   "metadata": {},
   "source": [
    "### Escopo de Variáveis e Passagem de Parâmetros\n",
    "\n",
    "O escopo de uma variável se refere ao local num programa em que a variável é reconhecida.  \n",
    "\n",
    "**Parâmetros e variáveis definidos dentro de uma função não são visíveis fora dessa função**. Por isso, diz-se que variáveis desse tipo têm __escopo local__. O Tempo de vida de uma variável é o período em que ela existe até ser apagada da memória. O tempo de vida de variáveis definidas numa função é o mesmo tempo que a função precisa para ser executada. Elas são destruídas quando a função é encerrada. Assim, uma função não consegue se 'lembrar' do valor de suas variáveis em chamadas anteriores.\n",
    "\n",
    "Exemplo:"
   ]
  },
  {
   "cell_type": "code",
   "execution_count": 9,
   "metadata": {},
   "outputs": [
    {
     "name": "stdout",
     "output_type": "stream",
     "text": [
      "Valor de 'x' dentro da funcao:  10\n",
      "Valor de 'x' fora da funcao:    20\n"
     ]
    }
   ],
   "source": [
    "def minha_funcao():\n",
    "    x = 10\n",
    "    print(\"Valor de 'x' dentro da funcao: \", x)\n",
    "\n",
    "x = 20\n",
    "minha_funcao()\n",
    "print(\"Valor de 'x' fora da funcao:   \", x)"
   ]
  },
  {
   "cell_type": "markdown",
   "metadata": {},
   "source": [
    "### Vantagens das Funções Definidas pelo Usuário\n",
    "\n",
    "- As funções definidas pelo usuário ajudam a decompor um programa grande em pequenos trechos de código, o que torna o programa mais fácil de se entender, manter e depurar. \n",
    "- Se ocorrer código repetido em um programa. A função pode ser usada para otimizar o código, sendo chamada sempre que for necessário. \n",
    "- Programadores de grandes projetos dividem a carga de trabalho criando diferentes funções."
   ]
  },
  {
   "cell_type": "code",
   "execution_count": 28,
   "metadata": {
    "scrolled": true
   },
   "outputs": [
    {
     "name": "stdout",
     "output_type": "stream",
     "text": [
      "Elemento(s) Comum(ns) entre x e y:    [3, 4, 5]\n",
      "Elemento(s) Comum(ns) entre x, y e z: [5]\n"
     ]
    }
   ],
   "source": [
    "def comum(lista1, lista2):\n",
    "    '''Retorna uma lista com os elementos em comum das duas listas: 'lista1' e 'lista2'.'''\n",
    "    A = set(lista1)\n",
    "    B = set(lista2)\n",
    "    return list(A & B)\n",
    "  \n",
    "x = [1,2,3,4,5]\n",
    "y = [3,4,5,6,7,9,10]\n",
    "z = range(0,50,5)\n",
    "\n",
    "print(\"Elemento(s) Comum(ns) entre x e y:   \", comum(x,y))\n",
    "\n",
    "print(\"Elemento(s) Comum(ns) entre x, y e z:\", comum(comum(x,y),z))"
   ]
  },
  {
   "cell_type": "code",
   "execution_count": 27,
   "metadata": {},
   "outputs": [
    {
     "name": "stdout",
     "output_type": "stream",
     "text": [
      "Help on function comum in module __main__:\n",
      "\n",
      "comum(lista1, lista2)\n",
      "    Retorna uma lista com os elementos em comum das duas listas: 'lista1' e 'lista2'.\n",
      "\n"
     ]
    }
   ],
   "source": [
    "help(comum)"
   ]
  },
  {
   "cell_type": "markdown",
   "metadata": {},
   "source": [
    "<font color='green'>À incluir:  \n",
    "- Descompactação de argumentos com expressão * e expressão ** nas chamadas de função.  \n",
    "- Compactação de parâmetros com expressão * e expressão ** nas definições de função.</font>\n",
    "<!-- http://yaoyao.codes/python/2016/09/25/python-starred-expression#:~:text=A%20tuple%20(or%20list)%20on,are%20called%20“mandatory”). -->"
   ]
  },
  {
   "cell_type": "markdown",
   "metadata": {},
   "source": [
    "### Exercícios:\n",
    "1.\tCalcule e mostre o mínimo múltiplo comum (mmc) de dois números (menor inteiro positivo que é perfeitamente divisível pelos dois números dados) usando uma função definida pelo usuário."
   ]
  },
  {
   "cell_type": "code",
   "execution_count": 29,
   "metadata": {},
   "outputs": [
    {
     "name": "stdout",
     "output_type": "stream",
     "text": [
      "mmc(40,8) = 40 40\n",
      "mmc(20,8) = 40 40\n",
      "mmc(2,3)  = 6 6\n",
      "mmc(2,9)  = 18 18\n"
     ]
    }
   ],
   "source": [
    "def mmc1(x,y):\n",
    "    '''Calcula o mínimo múltiplo comum entre dois valores inteiros, x e y.'''\n",
    "    p = 1\n",
    "    d = 2\n",
    "    f1 = x\n",
    "    f2 = y\n",
    "    while d <= f1 or d <= f2:\n",
    "        c = 0\n",
    "        while x % d == 0 or y % d == 0:\n",
    "            c += 1\n",
    "            if (x % d == 0):\n",
    "                x = x / d\n",
    "            if (y % d == 0):\n",
    "                y = y / d\n",
    "        p *= d ** c\n",
    "        d += 1\n",
    "    return p\n",
    "\n",
    "def mmc2(x,y):\n",
    "    '''Calcula o mínimo múltiplo comum entre dois valores inteiros, x e y.\n",
    "       Usando conjuntos matemáticos. '''\n",
    "    if x > y:\n",
    "        if x%y == 0:\n",
    "            return x\n",
    "    elif y%x == 0:\n",
    "        return y\n",
    "            \n",
    "    multx = [m for m in range(x,x*y+1,x)]\n",
    "    multy = [m for m in range(y,x*y+1,y)]\n",
    "    multc = list(sorted(set(multx) & set(multy)))\n",
    "    return multc[0]\n",
    "\n",
    "# Usando as duas funções: mmc() e mmc2()\n",
    "print(\"mmc(40,8) =\", mmc1(40,8), mmc2(40,8))\n",
    "print(\"mmc(20,8) =\", mmc1(20,8), mmc2(20,8))\n",
    "print(\"mmc(2,3)  =\", mmc1(2,3),  mmc2(2,3))\n",
    "print(\"mmc(2,9)  =\", mmc1(2,9),  mmc2(2,9))"
   ]
  },
  {
   "cell_type": "markdown",
   "metadata": {},
   "source": [
    "2.\tCalcule e mostre o máximo divisor comum (mdc) de dois números (maior inteiro positivo que é perfeitamente divisível pelos dois números dados) usando uma função definida pelo usuário."
   ]
  },
  {
   "cell_type": "code",
   "execution_count": 15,
   "metadata": {},
   "outputs": [
    {
     "name": "stdout",
     "output_type": "stream",
     "text": [
      "MDC(10,5)  --> 5\n",
      "MDC(32,24) --> 8\n",
      "MDC(5,3)   --> 1\n",
      "mmc(40,8)  --> 40\n",
      "mmc(20,8)  --> 40\n"
     ]
    }
   ],
   "source": [
    "def mdc(a,b):                   \n",
    "    '''Calcula o máximo divisor comum entre 'a' e 'b' usando o Algoritmo de Euclides:\n",
    "       se 'r' é o resto da divisão de 'a' por 'b', então mdc(a, b) = mdc(b, r)'''\n",
    "    if b == 0:\n",
    "        return a\n",
    "    return mdc(b, a % b)          # função recursiva: chama a si própria\n",
    "\n",
    "def mmc3(a,b):\n",
    "    return abs(a*b)/mdc(a,b)\n",
    "\n",
    "print(\"MDC(10,5)  --> %d\" % mdc(10,5))\n",
    "print(\"MDC(32,24) --> %d\" % mdc(32,24))\n",
    "print(\"MDC(5,3)   --> %d\" % mdc(5,3))\n",
    "print(\"mmc(40,8)  --> %d\" % mmc3(40,8))\n",
    "print(\"mmc(20,8)  --> %d\" % mmc3(20,8))\n"
   ]
  },
  {
   "cell_type": "markdown",
   "metadata": {},
   "source": [
    "3.\tDefina uma função Python `fibonacci(n)` para calcular e mostrar a série de Fibonacci com termos até `n`, usando expressão lambda, e não usando."
   ]
  },
  {
   "cell_type": "code",
   "execution_count": 31,
   "metadata": {},
   "outputs": [
    {
     "name": "stdout",
     "output_type": "stream",
     "text": [
      "1, 1, 2, 3, 5, 8, 13, 21, 34, 55, \b\b\n"
     ]
    }
   ],
   "source": [
    "# não usando função lambda para gerar até o n-ésimo elemento da série de Fibonacci\n",
    "def fibonacci(n):\n",
    "    '''Mostra os n termos da série de Fibonacci.'''\n",
    "    a, b = 0, 1\n",
    "    termos = 1\n",
    "    while termos <= n+1:\n",
    "        if a > 0:\n",
    "            print(a, end=\", \")\n",
    "        a, b = b, a+b\n",
    "        termos += 1\n",
    "    print(2*'\\b')               # apaga a vírgula da última impressão\n",
    "    \n",
    "fibonacci(10)"
   ]
  },
  {
   "cell_type": "code",
   "execution_count": 34,
   "metadata": {},
   "outputs": [
    {
     "name": "stdout",
     "output_type": "stream",
     "text": [
      "Qtde de termos da série de Fibonacii: 10\n",
      "1, 1, 2, 3, 5, 8, 13, 21, 34, 55\n"
     ]
    }
   ],
   "source": [
    "# usando função lambda recursiva para gerar até o n-ésimo elemento da série de Fibonacci\n",
    "fib = lambda x: 1 if x < 2 else fib(x-1) + fib(x-2)\n",
    "\n",
    "n = int(input(\"Qtde de termos da série de Fibonacii: \"))\n",
    "for i in range(n):\n",
    "    print(fib(i), end=', ')\n",
    "print(2*'\\b')                   # apaga a vírgula da última impressão"
   ]
  },
  {
   "cell_type": "markdown",
   "metadata": {},
   "source": [
    "<p style=\"text-align:right;\"><a href=\"#topo\">Volta ao topo</a>"
   ]
  },
  {
   "cell_type": "markdown",
   "metadata": {},
   "source": [
    "<a id=\"13.\"></a>\n",
    "## 10.\tArquivos de E/S\n",
    "\n",
    "### Saída de Dados em Dispositivo Padrão (_stdout_)\n",
    "A maneira mais simples de se produzir uma saída na tela é usar a instrução `print` no Python2 ou a função `print()` no Python3, para a qual pode-se passar zero ou mais expressões separadas por vírgulas. Essa instrução/função converte as expressões numa _string_ e envia o resultado para a saída padrão, da seguinte forma:\n",
    "\n",
    "**Python2:** \n",
    "```python\n",
    "print \"Python é uma boa linguagem de programação, \", \"não é mesmo?\"\n",
    "```\n",
    "**Python3:**\n",
    "```python\n",
    "print(\"Python é uma boa linguagem de programação, \", \"não é mesmo?\")\n",
    "```\n",
    "Isso produz o seguinte resultado em seu dispositivo padrão de saída de dados (tela):\n",
    "\n",
    "> <tt>Python é uma boa linguagem de programação, não é mesmo?</tt>\n",
    "\n",
    "\n",
    "### Entrada de Dados em Dispositivo Padrão (_stdin_)\n",
    "O Python também fornece duas funções internas para leitura de uma linha de texto na entrada de dados padrão (teclado). Essas funções são: `raw_input()` e `input()` (apresentadas anteriormente).\n",
    "\n",
    "> - `raw_input([msg])`: lê uma linha da entrada padrão e a retorna como uma _string_, removendo o último caractere: linha nova (_new-line_).\n",
    "> - `input([msg])`: é equivalente a `raw_input()`, exceto pelo fato de assumir que a entrada é uma expressão válida do Python2 e retorna o resultado avaliado, ou seja, você pode usar constantes ou variáveis com informações numéricas ou strings.\n",
    "\n",
    "**Nota**:\n",
    "O Python2 possui duas versões de funções de entrada: `input()` e `raw_input()`. A função `input()` trata os dados recebidos como _string_ se estiverem incluídos entre aspas \"\" ou '', caso contrário, os dados serão tratados como números. No Python3, a função `raw_input()` foi descontinuada, ficando apenas a função `input()`, ou seja, os dados lidos são sempre tratados como _string_."
   ]
  },
  {
   "cell_type": "markdown",
   "metadata": {},
   "source": [
    "### E/S em Arquivos de Dados\n",
    "Até agora fizemos leituras e escritas em entrada e saída padrões, _stdin_ e _stdout_, respectivamente. Agora, vamos usar arquivos de dados do usuário. O Python fornece funções básicas e métodos necessários à manipulação de arquivos de dados. Podemos fazer a maior parte da manipulação de arquivos usando um objeto arquivo: `file`.\n",
    "\n",
    "#### Abertura do Arquivo\n",
    "Antes de se ler/escrever de/em um arquivo, é preciso abri-lo usando a função nativa (incorporada) `open()` do Python. Essa função cria um objeto **file** que será utilizado na chamada de outros métodos associados a ele."
   ]
  },
  {
   "cell_type": "markdown",
   "metadata": {},
   "source": [
    "> Sintaxe:\n",
    "```python\n",
    "objeto_arq = open(nome_arq [, modo_accesso][, buffer])\n",
    "```\n",
    ">> <tt>nome_arq</tt>: _string_ com o caminho e o nome do arquivo a ser acessado.  \n",
    ">> <tt>modo_acesso</tt>: determina o modo de abertura do arquivo - leitura/escrita/anexação etc. Este parâmetro é opcional, sendo padrão o modo de acesso para leitura `'r'`.   \n",
    ">> <tt>buffer</tt>: se o valor do buffer for `0`, não existirá nenhum buffer; se o valor do buffer for `1` então o buffer de linha será criado ao acessar o arquivo; se o valor do buffer for um inteiro maior que `1`, a ação do buffer será executada com o tamanho do buffer indicado; se for negativo, o tamanho do buffer é o padrão do sistema (default)."
   ]
  },
  {
   "cell_type": "markdown",
   "metadata": {},
   "source": [
    "| Modo | Operação |\n",
    "|:----:|:--------|\n",
    "| r   | Abre um arquivo apenas para leitura. O ponteiro do arquivo é colocado no início do arquivo.   Este é o modo padrão.   |\n",
    "| rb  | Abre um arquivo para leitura somente em   formato binário. O ponteiro do arquivo é colocado no início do arquivo. Este   é o modo padrão.|\n",
    "| r+  | Abre um arquivo para leitura e gravação.   O ponteiro do arquivo colocado no final do arquivo.                       |\n",
    "| rb+ | Abre um arquivo para leitura e gravação   em formato binário. O ponteiro do arquivo colocado no início do arquivo.    |\n",
    "| w   | Abre um arquivo apenas para gravação.   Sobrescreve o arquivo se o arquivo existir. Se o arquivo não existir, cria um   novo arquivo para gravação.                                                                                                    |\n",
    "| wb  | Abre um arquivo para gravação somente em   formato binário. Sobrescreve o arquivo se o arquivo existir. Se o arquivo não   existir, cria um novo arquivo para gravação.                                                                                |\n",
    "| w+  | Abre um arquivo para escrita e leitura.   Sobrescreve o arquivo existente se o arquivo existir. Se o arquivo não   existir, cria um novo arquivo para leitura e gravação.                                                                              |\n",
    "| wb+ | Abre um arquivo para escrita e leitura em   formato binário. Sobrescreve o arquivo existente se o arquivo existir. Se o   arquivo não existir, cria um novo arquivo para leitura e gravação.                                                           |\n",
    "| a   | Abre um arquivo para anexar. O ponteiro   do arquivo está no final do arquivo, se o arquivo existir. Ou seja, o arquivo   está no modo de acréscimo. Se o arquivo não existir, ele criará um novo   arquivo para gravação.                             |\n",
    "| ab  | Abre um arquivo para anexar em formato   binário. O ponteiro do arquivo está no final do arquivo, se o arquivo   existir. Ou seja, o arquivo está no modo de acréscimo. Se o arquivo não   existir, ele criará um novo arquivo para gravação.          |\n",
    "| a+  | Abre um arquivo para anexar e ler. O   ponteiro do arquivo está no final do arquivo, se o arquivo existir. O arquivo   é aberto no modo de acréscimo. Se o arquivo não existir, ele cria um novo   arquivo para leitura e gravação.                    |\n",
    "| ab+ | Abre um arquivo para anexar e ler em   formato binário. O ponteiro do arquivo está no final do arquivo, se o arquivo   existir. O arquivo é aberto no modo de acréscimo. Se o arquivo não existir,   ele cria um novo arquivo para leitura e gravação. |"
   ]
  },
  {
   "cell_type": "markdown",
   "metadata": {},
   "source": [
    "#### Atributos do objeto `file`\n",
    "Depois que um arquivo é aberto pela função incorporada `open()` tem-se um objeto `file` pelo qual se obtém várias informações relacionadas ao arquivo aberto.\n",
    "\n",
    "> `obj_file.closed`: \tRetorna `True` se o arquivo for fechado, caso contrário, `False`.  \n",
    "`obj_file.mode`: \tRetorna o modo de acesso com o qual o arquivo foi aberto.  \n",
    "`obj_file.name`: \tRetorna o nome do arquivo.  \n",
    "`obj_file.softspace` (Python2): \tRetorna `False` se o espaço for explicitamente requerido pela `print`, `True` caso contrário."
   ]
  },
  {
   "cell_type": "markdown",
   "metadata": {},
   "source": [
    "#### Métodos da Classe `file:`\n",
    "- `close()` - libera qualquer informação não escrita e fecha o objeto `file`. Após a execução desse método nenhuma operação de escrita/gravação no arquivo poderá ser feita. O Python fecha automaticamente um arquivo quando o objeto de referência ao arquivo é reatribuído a outro arquivo. É uma boa prática usar o método `close()` para fechar um arquivo.  \n",
    "\n",
    "Sintaxe: <tt>objeto_arq.close()</tt>\n",
    "\n",
    "Exemplo:"
   ]
  },
  {
   "cell_type": "code",
   "execution_count": 36,
   "metadata": {
    "scrolled": true
   },
   "outputs": [
    {
     "name": "stdout",
     "output_type": "stream",
     "text": [
      "Nome do arquivo  :  qq.txt\n",
      "Está fechado     :  False\n",
      "Modo de acesso   :  wb\n"
     ]
    }
   ],
   "source": [
    "# abertura/fechamento de um arquivo de dados\n",
    "fo = open(\"qq.txt\", \"wb\")                    # fo - file object\n",
    "print(\"Nome do arquivo  : \", fo.name)\n",
    "print(\"Está fechado     : \", fo.closed)\n",
    "print(\"Modo de acesso   : \", fo.mode) \n",
    "fo.close()"
   ]
  },
  {
   "cell_type": "markdown",
   "metadata": {},
   "source": [
    "- `write()`: grava qualquer _string_ no arquivo aberto. É importante observar que as _strings_ Python podem ter dados binários e não apenas texto. Esse método não adiciona um caracter de 'nova linha' ('\\n') ao final da _string_.  \n",
    "\n",
    "Sintaxe: <tt>objeto_arq.write(string)</tt>\n",
    "\n",
    "Exemplo:"
   ]
  },
  {
   "cell_type": "code",
   "execution_count": 38,
   "metadata": {},
   "outputs": [],
   "source": [
    "# Python 2\n",
    "ag = open(\"qq.txt\", \"w\")                   # abre o arquivo 'qq.txt' para gravação --> manipulador 'ag' (arq. de gravação)\n",
    "ag.write(\"Python é uma boa linguagem.\\n\")\n",
    "ag.write(\"Não é mesmo?\")\n",
    "ag.close()                                 # fecha o arquivo aberto"
   ]
  },
  {
   "cell_type": "markdown",
   "metadata": {},
   "source": [
    "Usando um **Gerenciador de Contexto** (`'with'` - bloco de comandos que ao ser finalizado fecha automaticamente o arquivo):"
   ]
  },
  {
   "cell_type": "code",
   "execution_count": 43,
   "metadata": {},
   "outputs": [],
   "source": [
    "with open(\"qq.txt\", \"w\") as ag:         # abre o arquivo 'qq.txt' para gravação --> manipulador 'ag' (arq. de gravação)\n",
    "    ag.write(\"Python é uma boa linguagem.\\n\")\n",
    "    ag.write(\"Não é mesmo???\\n\")\n",
    "    ag.write(\"----------------------------\")\n",
    "# Não precisa usar o método close()!"
   ]
  },
  {
   "cell_type": "code",
   "execution_count": 44,
   "metadata": {},
   "outputs": [
    {
     "name": "stdout",
     "output_type": "stream",
     "text": [
      "Python é uma boa linguagem.\n",
      "Não é mesmo???\n",
      "----------------------------\n"
     ]
    }
   ],
   "source": [
    "# visualizando na tela o conteúdo do arquivo recém-criado, usando um comando mágico para enviar comando ao S.O. \n",
    "# Windows:\n",
    "!type qq.txt\n",
    "# Linux:\n",
    "#!cat qq.txt"
   ]
  },
  {
   "cell_type": "markdown",
   "metadata": {},
   "source": [
    "- `read()`: lê uma _string_ do arquivo aberto. É importante observar que as _strings_ Python podem ter dados binários, além dos dados de texto.  \n",
    "\n",
    "Sintaxe: <tt>varstr = objeto_arq.read(quantidade_bytes)  \n",
    "\n",
    "\n",
    "- `readline()`: lê a primeira linha de um arquivo, isto é, lê bytes até encontrar um caracter 'nova linha' (_newline_: `'\\n'`) ou um caracter EOF (_End-Of-File_) no caso do arquivo ter apenas uma linha, e retorna uma _string_.  \n",
    "\n",
    "Sintaxe: <tt> varstr = objeto_arq.readline(\\[quantidade_bytes\\])</tt>\n",
    "\n",
    "Exemplos:"
   ]
  },
  {
   "cell_type": "code",
   "execution_count": 46,
   "metadata": {},
   "outputs": [
    {
     "name": "stdout",
     "output_type": "stream",
     "text": [
      "Dados lidos:  Python é uma boa linguage\n"
     ]
    }
   ],
   "source": [
    "# Python 3\n",
    "ala = open(\"qq.txt\", \"r+\")      # abre o arquivo \"qq.txt\" p/ leitura e anexação\n",
    "msg = ala.read(25)\n",
    "print(\"Dados lidos: \", msg)\n",
    "ala.close()                     # fecha arquivo aberto"
   ]
  },
  {
   "cell_type": "code",
   "execution_count": 47,
   "metadata": {},
   "outputs": [
    {
     "name": "stdout",
     "output_type": "stream",
     "text": [
      "<_io.TextIOWrapper name='qq.txt' mode='r' encoding='cp1252'>\n"
     ]
    }
   ],
   "source": [
    "# Python 3\n",
    "# mostra os atributos do objeto 'al'\n",
    "al = open(\"qq.txt\", 'r')\n",
    "print(al)"
   ]
  },
  {
   "cell_type": "code",
   "execution_count": 51,
   "metadata": {
    "scrolled": true
   },
   "outputs": [
    {
     "name": "stdout",
     "output_type": "stream",
     "text": [
      "Dados lidos: \n",
      "Python é uma boa linguagem.\n",
      "Não é mesmo???\n",
      "----------------------------"
     ]
    }
   ],
   "source": [
    "# Python 3\n",
    "ala = open(\"qq.txt\", \"r+\")      # abre o arquivo \"qq.txt\" p/ leitura e anexação\n",
    "msg = ala.readline()\n",
    "print(\"Dados lidos: \")\n",
    "while len(msg):\n",
    "    print(msg,end='')\n",
    "    msg = ala.readline()\n",
    "ala.close()                     # fecha arquivo aberto"
   ]
  },
  {
   "cell_type": "code",
   "execution_count": null,
   "metadata": {},
   "outputs": [],
   "source": [
    "# Python 2\n",
    "# usando gerenciador de contexto\n",
    "with open(\"qq.txt\", \"r+\") as ala:      # abre o arquivo \"qq.txt\" p/ leitura e anexação\n",
    "    msg = ala.readline()\n",
    "    print \"Dados lidos: \"\n",
    "    while len(msg):\n",
    "        print msg,\n",
    "        msg = ala.readline()"
   ]
  },
  {
   "cell_type": "markdown",
   "metadata": {},
   "source": [
    "- `tell()`: informa a posição atual do ponteiro de leitura/gravação no arquivo. Em outras palavras, a próxima leitura/gravação ocorrerá naquela quantidade de bytes a partir do início do arquivo.  \n",
    "\n",
    "\n",
    "- `seek(deslocamento [, referência])`: altera a posição atual do ponteiro de leitura/gravação do arquivo. O parâmetro `deslocamento` indica a quantidade de bytes a serem deslocados. O parâmetro `referência` especifica a posição de referência a partir da qual os bytes devem ser deslocados: `0` (padrão) significa início do arquivo como posição de referência; `1` significa posição atual como a posição de referência e; `2`, significa o final do arquivo.\n",
    "\n",
    "Sintaxe: <tt>objeto_arq.tell()</tt>  \n",
    "\n",
    "Sintaxe: <tt>objeto_arq.seek(100)</tt>  \n",
    "\n",
    "Exemplo:"
   ]
  },
  {
   "cell_type": "code",
   "execution_count": 53,
   "metadata": {},
   "outputs": [
    {
     "name": "stdout",
     "output_type": "stream",
     "text": [
      "Dados lidos a partir do início do arquivo:  Python é u\n",
      "Posição corrente no arquivo:  10\n",
      "Dados lidos a partir do sexto caracter:  n é uma boa linguagem.\n",
      "Não é mesmo???\n",
      "----------------------------\n"
     ]
    }
   ],
   "source": [
    "# Python 3\n",
    "ala = open(\"qq.txt\", \"r+\")\n",
    "msg = ala.read(10)                          # lê 10 bytes a partir do início do arquivo\n",
    "print(\"Dados lidos a partir do início do arquivo: \", msg)\n",
    "\n",
    "posicao = ala.tell()                        # lê a posição atual do ponteiro de operação (escrita ou leitura)\n",
    "print(\"Posição corrente no arquivo: \", posicao)\n",
    "\n",
    "posicao = ala.seek(5)                       # Reposiciona no sexto caracter a partir do início do arquivo\n",
    "msg = ala.read(70)\n",
    "print(\"Dados lidos a partir do sexto caracter: \", msg)"
   ]
  },
  {
   "cell_type": "code",
   "execution_count": null,
   "metadata": {},
   "outputs": [],
   "source": [
    "# Python 2\n",
    "ala.seek(10)\n",
    "posicao = ala.tell()\n",
    "print \"Posição a partir do início do arquivo:\", posicao\n",
    "print \"Dados lidos:\", ala.read(5)\n",
    "\n",
    "ala.seek(-5,1)\n",
    "posicao = ala.tell()\n",
    "print \"Posição a partir da posição corrente do ponteiro:\", posicao  # deve ser 10\n",
    "print \"Dados lidos:\", ala.read(5)"
   ]
  },
  {
   "cell_type": "code",
   "execution_count": null,
   "metadata": {},
   "outputs": [],
   "source": [
    "# Python 2\n",
    "posicao = ala.seek(0,2)\n",
    "msg = ala.write(\" final.\")\n",
    "\n",
    "ala.seek(0)\n",
    "msg = ala.read(100)\n",
    "print \"Dados lidos: \", msg\n",
    "ala.close()                                 # fecha arquivo aberto"
   ]
  },
  {
   "cell_type": "markdown",
   "metadata": {},
   "source": [
    "#### Exemplo - Cópia de Arquivo\n",
    "Considere um arquivo chamado `'motivos.txt'` disponível no diretório `'arq'` com o seguinte conteúdo:  "
   ]
  },
  {
   "cell_type": "raw",
   "metadata": {},
   "source": [
    "Cinco motivos para se aprender Python:\n",
    "- Fácil aprendizagem, principalmente para iniciantes\n",
    "- Versatilidade\n",
    "- Multiplataforma\n",
    "- Comunidade crescente\n",
    "- Mercado de trabalho"
   ]
  },
  {
   "cell_type": "code",
   "execution_count": null,
   "metadata": {},
   "outputs": [],
   "source": [
    "# usando o comando mágico \"!\" para mostrar o arquivo 'motivos.txt' no diretório 'arq'\n",
    "!dir arq"
   ]
  },
  {
   "cell_type": "code",
   "execution_count": null,
   "metadata": {},
   "outputs": [],
   "source": [
    "# usando o comando mágico \"!\" para mostrar o conteúdo do arquivo 'motivos.txt' no diretório 'arq'\n",
    "!type arq\\motivos.txt"
   ]
  },
  {
   "cell_type": "markdown",
   "metadata": {},
   "source": [
    "Pode-se copiar esse arquivo usando o seguinte _script_, usando gerenciadores de contexto:"
   ]
  },
  {
   "cell_type": "code",
   "execution_count": null,
   "metadata": {},
   "outputs": [],
   "source": [
    "# Python 2 ou 3\n",
    "with open('arq/motivos.txt','r') as al:          # arquivo de leitura: al\n",
    "    with open('arq/motivos2.txt','w') as ac:     # arquivo cópia: ac\n",
    "        for linha in al:\n",
    "            ac.write(linha)\n",
    "print('Arquivo copiado!')"
   ]
  },
  {
   "cell_type": "code",
   "execution_count": null,
   "metadata": {
    "scrolled": true
   },
   "outputs": [],
   "source": [
    "# Visualizando o diretório após a cópia do arquivo...\n",
    "!dir arq"
   ]
  },
  {
   "cell_type": "code",
   "execution_count": null,
   "metadata": {},
   "outputs": [],
   "source": [
    "# Podemos visualizar o conteúdo do arquivo copiado, 'motivos2.txt', com um comando mágico:\n",
    "!type arq\\motivos2.txt\n",
    "print(30*'- ')\n",
    "\n",
    "# ou com o seguinte script:\n",
    "with open('arq/motivos2.txt','r') as al: print(al.read())"
   ]
  },
  {
   "cell_type": "markdown",
   "metadata": {},
   "source": [
    "#### <font color=red> Exercícios</font>\n",
    "1.  Faça um _script_ para copiar o arquivo imagem `'apolloLM.jpg'` disponível no diretório `'img'`. **Dica**: as informações de um arquivo imagem são do tipo <tt>'byte'</tt> e portanto os arquivos devem ser abertos com modos `'rb'` e `'wb'`.\n",
    "2.\tFaça um _script_ para criar uma agenda de compromissos, para a qual as seguintes informações: <tt>evento, dia, horário, local, obs</tt> devem ser cadastradas para cada compromisso. O usuário deve conseguir **inserir, alterar, excluir** compromissos (um a um) e **visualizar** compromisso(s) do dia, da semana e do mês.\n",
    "3.\tFaça um _script_ para cadastrar ofertas de produtos de um supermercado, armazenando as seguintes informações: loja, produto (categoria, descrição, quantidade, unidade de medida, preços (compra, venda), oferta (data, pr_venda). Usuário deve inserir, alterar, excluir e visualizar oferta(s) do dia, classificadas por categoria."
   ]
  },
  {
   "cell_type": "markdown",
   "metadata": {},
   "source": [
    "<p style=\"text-align:right;\"><a href=\"#topo\">Volta ao topo</a>"
   ]
  },
  {
   "cell_type": "markdown",
   "metadata": {},
   "source": [
    "<a id=\"14.\"></a>\n",
    "## 11. Exceções\te Afirmações\n",
    "Existem pelo menos dois tipos de erros no ambiente Python: **erro de sintaxe** e **exceção**. \n",
    "O **erro de sintaxe** (ou erros de análise de comandos) é talvez o tipo mais comum de queixa que você emite enquanto ainda está aprendendo Python... \n",
    "\n",
    "Exemplo:"
   ]
  },
  {
   "cell_type": "code",
   "execution_count": 49,
   "metadata": {},
   "outputs": [
    {
     "ename": "SyntaxError",
     "evalue": "invalid syntax (<ipython-input-49-87563a47f7ef>, line 1)",
     "output_type": "error",
     "traceback": [
      "\u001b[1;36m  File \u001b[1;32m\"<ipython-input-49-87563a47f7ef>\"\u001b[1;36m, line \u001b[1;32m1\u001b[0m\n\u001b[1;33m    while True print 'Hello world'\u001b[0m\n\u001b[1;37m               ^\u001b[0m\n\u001b[1;31mSyntaxError\u001b[0m\u001b[1;31m:\u001b[0m invalid syntax\n"
     ]
    }
   ],
   "source": [
    "while True print 'Hello world'"
   ]
  },
  {
   "cell_type": "markdown",
   "metadata": {},
   "source": [
    "No exemplo anterior, foi detectado um erro de sintaxe na palavra-chave `print`, pois está faltando o caracter obrigatório na finalização do comando `while`, dois pontos `':'`, depois da constante booleana `True`.\n",
    "\n",
    "Mesmo estando sintaticamente correta, uma instrução, ou expressão, poderá causar um erro quando for executada. Erros detectados durante a execução são chamados de **exceções** e não são obrigatoriamente fatais, ou seja, é plenamente possível contorna o problema causador da exceção e continuar com o _script_ sem a interrupção do mesmo. A maioria das exceções não é tratada pelos programas, e resultam em mensagens de erro:"
   ]
  },
  {
   "cell_type": "code",
   "execution_count": null,
   "metadata": {},
   "outputs": [],
   "source": [
    "10 * (1/0)"
   ]
  },
  {
   "cell_type": "code",
   "execution_count": null,
   "metadata": {},
   "outputs": [],
   "source": [
    "4 + spam*3"
   ]
  },
  {
   "cell_type": "code",
   "execution_count": null,
   "metadata": {},
   "outputs": [],
   "source": [
    "'2' + 2"
   ]
  },
  {
   "cell_type": "markdown",
   "metadata": {},
   "source": [
    "O Python fornece dois recursos para lidar com situações de erro nos seus programas e para incluir comandos de depuração neles.\n",
    "- Manipulação de Exceção (***exception handling***) \n",
    "- Afirmações (***assertions***)"
   ]
  },
  {
   "cell_type": "markdown",
   "metadata": {},
   "source": [
    "### Exceção em Python\n",
    "<u>É um evento que ocorre durante a execução de um programa e que interrompe o fluxo normal de execução das instruções do programa</u>. \n",
    "\n",
    "Em geral, quando o interpretador Python encontra uma situação com a qual ele não consegue resolver, ele gera uma exceção. Uma **exceção** é um **objeto Python** que representa um erro. Quando um _script_ Python provoca uma exceção, ele deve tratar a exceção imediatamente, pois caso contrário, ele será encerrado e o _prompt_ do interpretador será mostrado.\n",
    "\n",
    "### Tratando uma Exceção \n",
    "Se o seu _script_ tiver algum código que possa provocar uma exceção, então você pode preparar seu programa para não ser interrompindo pela exceção, você deve colocar o código suspeito num bloco `try:`. Depois desse bloco inclua uma instrução `except:`, seguida por um bloco de código de tratamento do problema (contorna o problema) da maneira mais elegante possível.\n",
    "\n",
    "Sintaxe:  \n",
    "```python\n",
    "try:\n",
    "    código suspeito de provocar erro(s)  \n",
    "    ...  \n",
    "except Exception1:  \n",
    "    se existir Exception1, então execute este bloco.  \n",
    "    ...  \n",
    "except Exception2:  \n",
    "    se existir Exception2, então execute este bloco.  \n",
    "    ...  \n",
    "else:  \n",
    "    se não for nenhuma das exceções anteriores, então execute este bloco.  \n",
    "    ...\n",
    "\n",
    "```"
   ]
  },
  {
   "cell_type": "markdown",
   "metadata": {},
   "source": [
    "A instrução **try** funciona da seguinte maneira: \n",
    "- Os comandos da cláusula **try** (as sentenças entre as palavras-chave **try** e **except**) são executados. \n",
    "- Se não  ocorrer nenhuma exceção, as cláusulas **except/else** são ignoradas e a instrução **try** é concluída. \n",
    "- Se ocorrer uma exceção durante a execução da cláusula **try**, os comandos restantes da cláusula serão ignorados. Se o tipo da exceção corresponder à exceção nomeada após a palavra-chave **except**, a cláusula é executada e a cláusula **try** é encerrada. \n",
    "- Se ocorrer uma exceção que não corresponda à(s) exceção(ões) nomeadas na(s) cláusula(s) **except**, a execução é passada para as instruções **try** externas (se existirem); se nenhum manipulador for encontrado, então será considerada como exceção não tratada e a execução será interrompida com uma mensagem do interpretador.\n",
    "\n",
    "Exemplo:"
   ]
  },
  {
   "cell_type": "code",
   "execution_count": null,
   "metadata": {},
   "outputs": [],
   "source": [
    "# Python 2\n",
    "while True:\n",
    "    try:\n",
    "        x = int(raw_input(\"Entre um valor numerico inteiro: \"))\n",
    "        break\n",
    "    except ValueError:\n",
    "        print \"Oops!  Isso nao e um número inteiro.  Tente novamente...\""
   ]
  },
  {
   "cell_type": "code",
   "execution_count": null,
   "metadata": {},
   "outputs": [],
   "source": [
    "# Python 3\n",
    "while True:\n",
    "    try:\n",
    "        x = int(input(\"Entre um valor numérico inteiro: \"))\n",
    "        print(\"Parabéns!\")\n",
    "        break\n",
    "    except ValueError:\n",
    "        print(\"Oops!  Isso não é um número inteiro.  Tente novamente...\")\n",
    "print(\"Segue o baile...\")"
   ]
  },
  {
   "cell_type": "markdown",
   "metadata": {},
   "source": [
    "Exemplo: \n",
    "\n",
    "Abre um arquivo, grava algum conteúdo e sai corretamente, de modo que não haja qualquer problema."
   ]
  },
  {
   "cell_type": "code",
   "execution_count": null,
   "metadata": {},
   "outputs": [],
   "source": [
    "# Python 3\n",
    "try:\n",
    "    ag = open(\"arqteste.txt\", \"w\")\n",
    "    ag.write(\"Arquivo teste para tratamento de exceção!!\")\n",
    "except IOError:\n",
    "    print(\"Erro: não pode encontrar arquivo, ou os dados de leitura.\")\n",
    "else:\n",
    "    print(\"Conteúdo escrito no arquivo com sucesso.\")\n",
    "ag.close()"
   ]
  },
  {
   "cell_type": "markdown",
   "metadata": {},
   "source": [
    "Exemplo:  \n",
    "\n",
    "Tentativa de abrir um arquivo inexistente para leitura, para gerar uma exceção."
   ]
  },
  {
   "cell_type": "code",
   "execution_count": null,
   "metadata": {},
   "outputs": [],
   "source": [
    "try:\n",
    "    al = open(\"arqfantasma.txt\", \"r\")\n",
    "    al.read(10)\n",
    "    al.close()\n",
    "except IOError:\n",
    "    print(\"Erro: não se pode encontrar arquivo ou os dados de leitura.\")\n",
    "else:\n",
    "    print(\"Outro tipo de erro na manipulação do arquivo...\")"
   ]
  },
  {
   "cell_type": "markdown",
   "metadata": {},
   "source": [
    "Pode-se também usar a instrução except sem exceções definidas:\n",
    "\n",
    "```python\n",
    "try:\n",
    "    operação suspeita do seu script\n",
    "    ...\n",
    "except:\n",
    "    se existir alguma exceção, então execute este bloco.\n",
    "    ...\n",
    "else:\n",
    "    se não existir exceção então execute este bloco.\n",
    "    ...\n",
    "```\n",
    "Esse tipo de instrução **try-except** captura todas as exceções que ocorrem. O uso desse tipo de instrução não é considerada uma boa prática de programação, justamente por ela capturar todas as exceções, e não ajudar o programador a identificar a causa do problema que está ocorrendo...\n",
    "\n",
    "Outra possibilidade para a instrução except é usar várias exceções numa única cláusula:\n",
    "\n",
    "```python\n",
    "try:\n",
    "    operação suspeita do seu script\n",
    "    ...\n",
    "except (Excecao1[, Excecao2[, ... ExcecaoN]]]):\n",
    "    se for uma das exceções da lista, então execute este bloco.\n",
    "    ...\n",
    "else:\n",
    "    se não existir exceção então execute este bloco.\n",
    "    ...\n",
    "```\n",
    "\n",
    "Você pode usar um bloco de comandos da sub-cláusula **finally** da cláusula **try**. No bloco **finally** coloca-se qualquer código que deve ser executado de qualquer forma, quer o bloco de teste (**try**) tenha gerado uma exceção ou não."
   ]
  },
  {
   "cell_type": "code",
   "execution_count": null,
   "metadata": {},
   "outputs": [],
   "source": [
    "# Python 3\n",
    "try:\n",
    "    ag = open(\"arqteste.txt\", \"w\")\n",
    "    ag.write(\"Teste de gravação em arquivo p/ tratamento de exceção!!\")\n",
    "finally:\n",
    "   print(\"Erro: arquivo ou dados não localizados!!\")"
   ]
  },
  {
   "cell_type": "markdown",
   "metadata": {},
   "source": [
    "Quando uma exceção é gerada por uma instrução dentro do bloco **try**, a execução passa imediatamente para o bloco **finally** e depois a exceção é levantada novamente e tratada nas instruções **except**, se presentes na próxima camada superior da instrução **try-except**."
   ]
  },
  {
   "cell_type": "code",
   "execution_count": null,
   "metadata": {},
   "outputs": [],
   "source": [
    "# Python 3\n",
    "try:\n",
    "    ag = open(\"arqteste.txt\", \"w\")\n",
    "    try:\n",
    "        ag.write(\"Teste de gravação em arquivo, para tratamento de exceção!!\")\n",
    "    finally:\n",
    "        print(\"Fechando o arquivo...\")\n",
    "        ag.close()\n",
    "except IOError:\n",
    "    print(\"Erro: não se pode encontrar arquivo ou os dados de leitura.\")"
   ]
  },
  {
   "cell_type": "markdown",
   "metadata": {},
   "source": [
    "Você pode gerar exceções arbitrariamente, ou seja, quando precisar e de várias maneiras, usando a instrução `raise`.  \n",
    "\n",
    "Sintaxe: `raise [exc [, args [, traceback]]]`  \n",
    "\n",
    "onde: \n",
    "> `exc` - é o tipo de exceção (por exemplo, `NameError`) \n",
    "> `args` - são os possíveis argumentos da exceção (opcionais - se não forem fornecidos será assumido como `None`). \n",
    "> `traceback` - também é opcional (e raramente usado na prática) - se presente, será o objeto `traceback` usado na exceção.  \n",
    "\n",
    "Exemplo:  \n",
    "\n",
    "Uma exceção pode ser uma string, uma classe ou um objeto. A maioria das exceções que o núcleo do Python gera são classes, com um argumento que é uma instância da classe. Definir novas exceções é muito fácil e pode ser feito da seguinte maneira:"
   ]
  },
  {
   "cell_type": "code",
   "execution_count": null,
   "metadata": {},
   "outputs": [],
   "source": [
    "def nomeFuncao(nivel):\n",
    "    if nivel < 1:\n",
    "        raise Exception(\"Nível não permitido!\")\n",
    "# O código abaixo desse trecho não será executado se a exceção for gerada\n",
    "\n",
    "nomeFuncao(-2)"
   ]
  },
  {
   "cell_type": "markdown",
   "metadata": {},
   "source": [
    "**Obs**: Para capturar uma exceção, uma cláusula **except** deve referir-se à mesma exceção lançada como objeto de classe ou _string_. Por exemplo, para capturar a exceção definida acima, devemos escrever a cláusula **except** da seguinte forma:\n",
    "\n",
    "```python\n",
    "try:\n",
    "    comandos suspeitos\n",
    "    ....\n",
    "except Exception(\"Nível não permitido!\"):\n",
    "    tratamento da exceção aqui...\n",
    "else:\n",
    "    resto do código aqui...\n",
    "```"
   ]
  },
  {
   "cell_type": "markdown",
   "metadata": {},
   "source": [
    "### Exceções padronizadas no Python\n",
    "|    N.    |    Exceção                |    Motivo da Ocorrência                                                          |\n",
    "|----------|---------------------------|----------------------------------------------------------------------------------|\n",
    "|    1     |    Exception              |    Classe base para todas   as exceções                                          |\n",
    "|    2     |    StopIteration          |    O método next() de um iterador não aponta para   nenhum objeto.               |\n",
    "|    3     |    SystemExit             |    Função sys.exit().                                                            |\n",
    "|    4     |    StandardError          |    Classe base para todas   as exceções internas, exceto StopIteration   e SystemExit.|\n",
    "|    5     |    ArithmeticError        |    Classe base para todos   os erros que ocorrem no cálculo numérico.            |\n",
    "|    6     |    OverflowError          |    Um cálculo excede o   limite máximo de um tipo numérico.                      |\n",
    "|    7     |    FloatingPointError     |    Um cálculo de ponto   flutuante falha.                                        |\n",
    "|    8     |    ZeroDivisionError      |    Uma divisão ou módulo   por zero (para todos os tipos numéricos).             |\n",
    "|    9     |    AssertionError         |    Em caso de falha da   declaração do Assert.                                   |\n",
    "|    10    |    AttributeError         |    Em caso de falha de   referência a atributo.                                  |\n",
    "|    11    |    EOFError               |    Não há entrada para   função raw_input() ou input() e o final do arquivo é   atingido.|\n",
    "|    12    |    ImportError            |    Uma declaração de   importação falha.                                         |\n",
    "|    13    |    KeyboardInterrupt      |    O usuário interrompe a   execução do programa: [Ctrl]+[C].                    |\n",
    "|    14    |    LookupError            |    Classe base para todos   os erros de pesquisa.                                |\n",
    "|    15    |    IndexError             |    Um índice não é   encontrado em uma sequência.                                |\n",
    "|    16    |    KeyError               |    A chave especificada   não é encontrada no dicionário.                        |\n",
    "|    17    |    NameError              |    Um identificador não é   encontrado no espaço de nomes local/global.          |\n",
    "|    18    |    UnboundLocalError      |    Ao tentar acessar uma   variável local em uma função ou método, mas nenhum valor foi atribuído a ela.|\n",
    "|    19    |    EnvironmentError       |    Classe base p/ todas   exceções que ocorrem fora do ambiente Python.          |\n",
    "|    20    |    IOError                |    Uma operação de   entrada/saída falha, como a instrução print   ou a função open() ao tentar abrir   um arquivo que não existe.       |\n",
    "|    21    |    IOError                |    Por erros relacionados   ao sistema operacional.                              |\n",
    "|    22    |    SyntaxError            |    Há um erro na sintaxe   do Python.                                            |\n",
    "|    23    |    IndentationError       |    O recuo não é   especificado corretamente.                                    |\n",
    "|    24    |    SystemError            |    O interpretador   encontra um problema interno, mas quando esse erro é encontrado, o   interpretador Python não sai.                  |\n",
    "|    25    |    SystemExit             |    O interpretador Python   é encerrado usando a função sys.exit().   Se não for tratado no código, faz com que o intérprete saia.       |\n",
    "|    26    |    TypeError              |    Uma operação/função   tentada é inválida para o tipo de dado indicado         |\n",
    "|    27    |    ValueError             |    A função interna de um   tipo de dado possui o tipo válido de argumentos, mas os argumentos têm   valores inválidos especificados.    |\n",
    "|    28    |    RuntimeError           |    Um erro gerado não se   enquadra em nenhuma categoria.                        |\n",
    "|    29    |    NotImplementedError    |    Um método abstrato de uma   classe herdada não foi implementado.              |"
   ]
  },
  {
   "cell_type": "markdown",
   "metadata": {},
   "source": [
    "### Afirmações \n",
    "Uma afirmação <u>é uma verificação de sanidade do seu _script_, que você ativa durante o desenvolvimento do programa e desativa quando terminar de testar o programa</u>.  \n",
    "\n",
    "A maneira mais fácil de pensar numa afirmação é compará-la a uma declaração `raise-if` (gera - se) ou, para ser mais preciso, a uma declaração `raise-if-not` (gera - se - não). Uma expressão é testada e se o resultado for falso, então uma exceção é gerada (_raised_, do inglês: levantada). \n",
    "\n",
    "As afirmações são executadas pela instrução **assert**, a mais nova palavra-chave para o Python, introduzida na versão 1.5. Os programadores costumam colocar afirmações no início de uma função para verificar se há uma entrada válida e depois de uma chamada de função para verificar se a saída é válida.\n",
    "\n",
    "Sintaxe:  <tt> assert expressao[, argumentos]</tt>\n",
    "\n",
    "Quando uma declaração de afirmação é encontrada, o Python avalia sua expressão (espera-se que o resultado dessa avaliação seja verdadeira para que o fluxo de execução siga seu curso normalmente). Se a expressão for falsa, o Python gerará a exceção **AssertionError**.\n",
    "\n",
    "Essas exceções podem ser capturadas e tratadas como qualquer outra exceção usando a instrução **try-except**, mas se não forem tratadas, elas encerrarão o programa e produzirão um *traceback*.\n",
    "\n",
    "Exemplo:  \n",
    "\n",
    "Dado uma função que converte temperatura em Kelvin para graus Fahrenheit. Como zero Kelvin é definido como a temperatura mais baixa possível, a função não deve aceitar uma temperatura negativa."
   ]
  },
  {
   "cell_type": "code",
   "execution_count": null,
   "metadata": {},
   "outputs": [],
   "source": [
    "def Kelvin2Fahrenheit(Temperature):\n",
    "    assert (Temperature >= 0), \"Mais frio que o zero absoluto?!\"\n",
    "    return ((Temperature-273) * 1.8) + 32\n",
    "\n",
    "print(Kelvin2Fahrenheit(273))\n",
    "print(int(Kelvin2Fahrenheit(505.78)))\n",
    "print(Kelvin2Fahrenheit(-5))"
   ]
  },
  {
   "cell_type": "markdown",
   "metadata": {},
   "source": [
    "Uso da instrução **assert** em Python:\n",
    "- Na verificação de tipos e de entrada válida. \n",
    "- Na verificação de valores de argumentos. \n",
    "- Verificação de saídas de funções. \n",
    "- Como um depurador para interromper o programa onde ocorre um erro. \n",
    "- No teste do código. \n",
    "\n",
    "Exemplo:"
   ]
  },
  {
   "cell_type": "code",
   "execution_count": null,
   "metadata": {},
   "outputs": [],
   "source": [
    "def div(p,q):\n",
    "    assert q!=0, \"Dividindo por zero! Como é isso?\"\n",
    "    return p/q\n",
    "\n",
    "div(2,3)"
   ]
  },
  {
   "cell_type": "code",
   "execution_count": null,
   "metadata": {},
   "outputs": [],
   "source": [
    "div(2,0)"
   ]
  },
  {
   "cell_type": "markdown",
   "metadata": {},
   "source": [
    "Exercícios:\n",
    "\n",
    "1.\tCrie uma função que converta temperaturas em Kelvin para Celsius, tal como no exemplo anterior.\n",
    "\n",
    "2.\tCrie uma função que calcule a velocidade média de um automóvel, dados a distância (m) e o tempo (s) gasto para percorrê-la. Use afirmação.\n"
   ]
  },
  {
   "cell_type": "markdown",
   "metadata": {},
   "source": [
    "<p style=\"text-align:right;\"><a href=\"#topo\">Volta ao topo</a>"
   ]
  },
  {
   "cell_type": "markdown",
   "metadata": {},
   "source": [
    "<a id=\"15.\"></a>\n",
    "## 15.\tMódulos e Pacotes\n",
    "\n",
    "### Definições\n",
    "\n",
    "**Módulo**: um arquivo Python (extensão .py) com funções, classes e outros componentes.\n",
    "Trabalhar com módulos permite ao desenvolvedor usar componentes já testados (reuso de código - sem reinventar a roda!) e consagrados por outros tantos desenvolvedores.\n",
    "\n",
    "**Exemplo**: Vamos criar um módulo para auxiliar na apresentação de comentários."
   ]
  },
  {
   "cell_type": "code",
   "execution_count": null,
   "metadata": {},
   "outputs": [],
   "source": [
    "# Comentários\n",
    "def mostra(mensagem, aviso=False):\n",
    "    if aviso:\n",
    "        print(\"Aviso: \",end='')\n",
    "    print(mensagem)"
   ]
  },
  {
   "cell_type": "markdown",
   "metadata": {},
   "source": [
    "Agora salve o script da célula anterior no diretório de módulos da sua instalação Python com o nome `comentarios.py`. Depois para poder usar a função mostra vc precisa apenas fazer a importação do módulo `comentarios.py`:"
   ]
  },
  {
   "cell_type": "code",
   "execution_count": null,
   "metadata": {},
   "outputs": [],
   "source": [
    "import comentario as cm\n",
    "cm.mostra(\"tudo bem!\")\n",
    "cm.mostra(\"Mas cuidado!\",True)"
   ]
  },
  {
   "cell_type": "markdown",
   "metadata": {},
   "source": [
    "**Pacote**: coleção de módulos publicados, acessíveis no índice de pacotes Python ([PyPI](https://pypi.org/) - *Python Packages Index*).\n",
    "\n",
    "**Instalação de Pacotes**: A forma mais simples de se instalar um novo pacote na sua versão Python é usando o programa utilitário chamado de `pip` a partir da linha de comandos do *shell* do Sist. Operacional:  \n",
    "\n",
    "<tt>\\# Instalando um único pacote chamado 'colorama'  \n",
    "$ pip install colorama  \n",
    "\n",
    "\\# Instalando uma lista de pacotes salvos no arquivo 'pacotes.txt'  \n",
    "$ pip install pacotes.txt  \n",
    "</tt>\n"
   ]
  },
  {
   "cell_type": "markdown",
   "metadata": {},
   "source": [
    "### Ambientes Virtuais\n",
    "\n",
    "Naturalmente os pacotes são instalados de uma maneira global. Isto dificulta o gerenciamento de versões. **Ambientes Virtuais** são usados com o intuito de separar coleções de pacotes, facilitando a gestão de versões. Na prática tudo se resolve com um diretório por trás das cenas que conterá todos os arquivos do **Ambiente Virtual**.  \n",
    "\n",
    "**Criando um Ambiente Virtual**  \n",
    "\n",
    "<tt>\\# Instalando o utilitário 'virtualenv'  \n",
    "$ pip install virtualenv  \n",
    "  \n",
    "\\# Criando um ambiente virtual  \n",
    "\\#   No Windows:  \n",
    "$ python -m venv [nome_diretório]  \n",
    "\\#   No OSX/Linux:  \n",
    "virtualenv [nome_diretório]  \n",
    "</tt>\n",
    "\n",
    "**Usando Ambientes Virtuais**  \n",
    "\n",
    "<tt>\\#   No Windows:  \n",
    "[nome_diretório]\\Scripts\\Activate.bat  \n",
    "\\#   No Linux (bash):  \n",
    ". ./[nome_diretório]/Scripts/activate  \n",
    "\\#   No OSX:  \n",
    "[nome_diretório]/bin/activate</tt>  \n",
    "    \n",
    "Após a ativação do Ambiente Virtual faz-se a instalação dos pacotes desejados, da mesma forma que se fez na instalação global."
   ]
  },
  {
   "cell_type": "code",
   "execution_count": null,
   "metadata": {},
   "outputs": [],
   "source": [
    "from pip._vendor.colorama import init, Fore\n",
    "# Comentários\n",
    "def mostra(mensagem, aviso=False):\n",
    "    if aviso:\n",
    "        print(Fore.RED + \"Aviso: \",end='')\n",
    "    print(Fore.BLUE + mensagem)\n",
    "    \n",
    "mostra(\"Você venceu!\")\n",
    "mostra(\"Você venceu!\",True)"
   ]
  },
  {
   "cell_type": "markdown",
   "metadata": {},
   "source": [
    "[Microsoft Demo](https://www.youtube.com/watch?v=mzpQgMNdR0g&list=PLlrxD0HtieHhS8VzuMCfQD4uJ9yne1mE6&index=35): Virtual Environment Packages | Python for Beginners \\[35 or 44\\]"
   ]
  },
  {
   "cell_type": "markdown",
   "metadata": {},
   "source": [
    "<p style=\"text-align:right;\"><a href=\"#topo\">Volta ao topo</a>"
   ]
  },
  {
   "cell_type": "markdown",
   "metadata": {},
   "source": [
    "## Modelo de Dados\n",
    "\n",
    "### Objetos, Valores e Tipos \n",
    "Objetos são abstrações do Python para armazenar dados. Todos os dados num programa Python são representados por objetos ou por relações entre objetos. Todo objeto tem uma __identidade__, um __tipo__ e um __valor__. A identidade de um objeto nunca muda depois de criada. Pode-se pensar nisso como sendo o endereço do objeto na memória. O operador `is` compara a identidade de dois objetos e a função `id()` retorna um inteiro representando a identidade do objeto.\n",
    "\n",
    "O tipo de um objeto determina as operações que o objeto suporta (por exemplo, \"ele tem um comprimento?\") E também define os valores possíveis para objetos desse tipo. A função type () retorna o tipo de objeto (que é um objeto em si). Como sua identidade, o tipo de objeto também é imutável. 1 "
   ]
  },
  {
   "cell_type": "markdown",
   "metadata": {},
   "source": [
    "O valor de alguns objetos pode mudar. Objetos cujo valor pode mudar são considerados mutáveis; objetos cujo valor é imutável depois de criados são chamados de imutáveis. (O valor de um objeto contêiner imutável que contém uma referência a um objeto mutável pode mudar quando o valor deste é alterado; no entanto, o contêiner ainda é considerado imutável, porque a coleção de objetos que ele contém não pode ser alterada. o mesmo que ter um valor imutável, é mais sutil.) A mutabilidade de um objeto é determinada por seu tipo; por exemplo, números, strings e tuplas são imutáveis, enquanto dicionários e listas são mutáveis. \n",
    "\n",
    "Objetos nunca são explicitamente destruídos; no entanto, quando eles se tornam inacessíveis, eles podem ser coletados como lixo. Uma implementação tem permissão para adiar a coleta de lixo ou omiti-la completamente - é uma questão de qualidade da implementação como a coleta de lixo é implementada, desde que nenhum objeto seja coletado e que ainda esteja acessível."
   ]
  },
  {
   "cell_type": "markdown",
   "metadata": {},
   "source": [
    "<p style=\"text-align:right;\"><a href=\"#topo\">Volta ao topo</a>"
   ]
  },
  {
   "cell_type": "markdown",
   "metadata": {},
   "source": [
    "### Gabaritos dos Exercícios"
   ]
  },
  {
   "cell_type": "code",
   "execution_count": null,
   "metadata": {},
   "outputs": [],
   "source": [
    "!dir img\n",
    "with open('img/apolloLM.jpg','rb') as al:          # arquivo de leitura: al\n",
    "    with open('img/apolloLM2.jpg','wb') as ac:     # arquivo cópia: ac\n",
    "        for linha in al:\n",
    "            ac.write(linha)\n",
    "!dir img"
   ]
  },
  {
   "cell_type": "code",
   "execution_count": null,
   "metadata": {},
   "outputs": [],
   "source": [
    "!del img\\apolloLM2.jpg\n",
    "!dir img\n",
    "# copiando pedaços do arquivo e não linhas! (não faz sentido falar em linhas num arquivo imagem)\n",
    "tamanhoPedaco = 1024\n",
    "with open('img/apolloLM.jpg','rb') as al:          # arquivo de leitura: al\n",
    "    with open('img/apolloLM2.jpg','wb') as ac:     # arquivo cópia: ac\n",
    "        pedaco = al.read(tamanhoPedaco)\n",
    "        while len(pedaco) > 0:\n",
    "            ac.write(pedaco)\n",
    "            pedaco = al.read(tamanhoPedaco)\n",
    "!dir img\n",
    "# mostrando o arquivo imagem copiado:\n",
    "from IPython.display import display, Image\n",
    "display(Image('img/apolloLM2.jpg'))"
   ]
  },
  {
   "cell_type": "markdown",
   "metadata": {
    "collapsed": true
   },
   "source": [
    "Fontes: \n",
    "1. E:\\python\\bibliografia\\Scipy_Lectures\n",
    "2. https://pythonacademy.com.br/blog/list-comprehensions-no-python#list-comprehensions-com-v%C3%A1rios-ifs\n",
    "3. https://www.programiz.com/python-programming/methods/built-in/zip\n",
    "3. https://thepythonguru.com/python-builtin-functions/reduce/\n",
    "3. https://medium.com/better-programming/lambda-map-and-filter-in-python-4935f248593\n",
    "3. https://blog.usejournal.com/zip-in-python-48cb4f70d013\n",
    "3. https://docs.python.org/3/reference/datamodel.html"
   ]
  },
  {
   "cell_type": "markdown",
   "metadata": {},
   "source": [
    "## Apêndice\n",
    "\n",
    "### <a id=\"hashtable\"></a><i>Hash Table</i>\n",
    "\n",
    "**Definição**: *Hash Table* é uma estrutura de dados composta em que os dados são armazenados de maneira associativa (no formato de chave:valor). A chave (ou índice) é único. Esse tipo de armazenamento facilita a localização dos dados posteriormente. Esse tipo de tabela também é conhecida por Tabela de Espalhamento, Tabela de Dispersão ou, simplesmente, **Tabela Hash**.\n",
    "\n",
    "A Tabela Hash armazena dados num formato matricial (arranjo). Ela usa uma função *hash*, ou função de espalhamento, que gera um índice para armazenar/inserir qualquer elemento ou valor na estrutura de dados. Essa função mapeia dados de comprimento variável para dados de comprimento fixo, retornando os chamados **valores hash** (códigos hash, somas hash ou simplesmente hashes).\n",
    "\n",
    "Vamos criar uma tabela hash."
   ]
  },
  {
   "cell_type": "markdown",
   "metadata": {},
   "source": [
    "#### Implementação Simples\n",
    "\n",
    "Aqui está uma implementação muito simples de uma Tabela Hash e respectiva função Hash.\n",
    "\n",
    "**Espalhamento** *(Hashing)*\n",
    "\n",
    "Trata-se da geração de índice para qualquer valor da \"chave\". A função Hash perfeito é aquela que atribui um índice exclusivo para cada elemento da Tabela Hash, ou seja, para cada par **chave:valor**. Às vezes, pode haver casos em que a função Hash gere o mesmo índice para vários pares chave:valor. O tamanho da Tabela de Hash pode ser aumentado para melhorar a perfeição da função de Hash.\n",
    "\n",
    "Tabela Hash de tamanho 10 (até 10 pares chave:valor) com dados vazios."
   ]
  },
  {
   "cell_type": "code",
   "execution_count": null,
   "metadata": {},
   "outputs": [],
   "source": [
    "tabela_hash = [None] * 10\n",
    "print(tabela_hash) "
   ]
  },
  {
   "cell_type": "markdown",
   "metadata": {},
   "source": [
    "Logo a seguir criamos uma função Hash simples que retorna o módulo do comprimento da Tabela Hash. No nosso caso, esse comprimento é 10.  O operador módulo da divisão inteira (%) é usado na função Hash."
   ]
  },
  {
   "cell_type": "code",
   "execution_count": null,
   "metadata": {},
   "outputs": [],
   "source": [
    "def hashing(chave):\n",
    "    return chave % len(tabela_hash)\n",
    " \n",
    "print(hashing(10)) # Output: 0\n",
    "print(hashing(20)) # Output: 0\n",
    "print(hashing(25)) # Output: 5"
   ]
  },
  {
   "cell_type": "markdown",
   "metadata": {},
   "source": [
    "#### Inserindo dados na Tabela Hash\n",
    "\n",
    "Segue uma implementação simples para inserção de dados/valores na nossa Tabela Hash. Primeiro, usamos a função Hash para gerar um índice e armazenar o valor fornecido nesse índice (chave)."
   ]
  },
  {
   "cell_type": "code",
   "execution_count": null,
   "metadata": {},
   "outputs": [],
   "source": [
    "def insere(tab_hash, chave, valor):\n",
    "    chave_hash = hashing(chave)\n",
    "    tab_hash[chave_hash] = valor \n",
    " \n",
    "insere(tabela_hash, 10, 'Argentina')\n",
    "print(tabela_hash)\n",
    " \n",
    "insere(tabela_hash, 25, 'Equador')\n",
    "print(tabela_hash)"
   ]
  },
  {
   "cell_type": "markdown",
   "metadata": {},
   "source": [
    "#### Colisão\n",
    "\n",
    "Uma colisão ocorre quando dois elementos (chaves) obtêm o mesmo índice, ou seja, a função Hash gera o mesmo índice para vários itens da Tabela Hash. Se as etapas de resolução de colisão adequadas não forem tomadas, o item anterior no índice gerado será substituído pelo novo item sempre que ocorrer uma colisão.\n",
    "\n",
    "*Exemplo:* No código anterior, inserimos os itens \"Argentina\" e \"Equador\" com as chaves 10 e 25, respectivamente. Se tentarmos inserir um novo item com a chave 20, a colisão ocorrerá porque nossa função Hash gerará o índice 0 para a chave 20. Mas, o índice 0 na Tabela Hash já foi atribuído ao item 'Argentina'."
   ]
  },
  {
   "cell_type": "code",
   "execution_count": null,
   "metadata": {},
   "outputs": [],
   "source": [
    "insere(tabela_hash, 20, 'Brasil')\n",
    "print(tabela_hash)"
   ]
  },
  {
   "cell_type": "markdown",
   "metadata": {},
   "source": [
    "Como você pode ver, o valor 'Argentina' é substituído por 'Brasil' como o primeiro item da Tabela Hash porque o resultado função de espalhamento (hashing) para as chaves 10 e 20 é o mesmo, ou seja, 0.\n",
    "\n",
    "#### Resolução de colisão\n",
    "\n",
    "Geralmente, existem duas maneiras de resolver uma colisão:\n",
    "\n",
    "1. **Sondagem Linear**: \n",
    "Uma forma de se resolver a colisão seria encontrar outro índice não usado sempre que houvesse uma colisão, para armazenar o item (valor) nesse índice desocupado. A busca por esse índice livre começa no índice em que a colisão ocorreu. Ele se move sequencialmente pelos próximos indices até que se encontre um índice livre. O movimento é circular. Ele pode ir para o primeiro índice da estrutura enquanto procura por um índice vazio. Esse tipo de pesquisa seqüencial é chamada de Sondagem Linear (*Linear Probing*).  \n",
    "<br>  \n",
    "2. **Encadeamento**:\n",
    "A outra maneira de resolver colisões seria a técnica de encadeamento. Isso permite que vários itens existam no mesmo índice. Isso pode criar uma cadeia/coleção de itens em um único índice. Quando a colisão acontece, o item é armazenado no mesmo índice usando o mecanismo de encadeamento.\n",
    "\n",
    "Vamos implementar a técnica do encadeamento. Primeiro criamos a Tabela Hash como uma lista aninhada, ou seja,  listas dentro de outra lista."
   ]
  },
  {
   "cell_type": "code",
   "execution_count": null,
   "metadata": {},
   "outputs": [],
   "source": [
    "tabela_hash = [ [] for _ in range(10) ]\n",
    "print(tabela_hash)"
   ]
  },
  {
   "cell_type": "markdown",
   "metadata": {},
   "source": [
    "Vamos alterar a função de inserção, de modo que ela use a função `append()` para inserir pares de chave:valor na Tabela Hash."
   ]
  },
  {
   "cell_type": "code",
   "execution_count": null,
   "metadata": {},
   "outputs": [],
   "source": [
    "def insere(tab_hash, chave, valor):\n",
    "    chave_hash = hashing(chave)\n",
    "    tab_hash[chave_hash].append(valor)\n",
    "\n",
    "insere(tabela_hash, 10, 'Argentina')\n",
    "print(tabela_hash)\n",
    " \n",
    "insere(tabela_hash, 25, 'Equador')\n",
    "print(tabela_hash)\n",
    " \n",
    "insere(tabela_hash, 20, 'Brasil')\n",
    "print(tabela_hash)"
   ]
  },
  {
   "cell_type": "markdown",
   "metadata": {},
   "source": [
    "#### Implementação Padrão\n",
    "\n",
    "Uma implementação mais padrão da Tabela Hash com Python é apresentada abaixo. Criamos três funções diferentes para inserir, pesquisar e excluir itens da Tabela Hash.\n",
    "\n",
    "A função `hash()` interna do Python é usada para criar um valor hash para qualquer chave. Essa função é útil, pois cria um valor hash inteiro para uma chave do tipo string ou inteira. O valor Hash para o número inteiro será o mesmo, ou seja, `hash(10)` resultará em 10 e `hash(20)` resultará em 20 e assim por diante."
   ]
  },
  {
   "cell_type": "code",
   "execution_count": null,
   "metadata": {},
   "outputs": [],
   "source": [
    "print(hash('xyz')) \n",
    "print(hash('10')) \n",
    "print(hash(10)) \n",
    "print(hash('20')) \n",
    "print(hash(10)) \n",
    "print(hash('25')) \n",
    "print(hash(25)) \n",
    "print(hash('20') % len(tabela_hash)) \n",
    "print(hash('25') % len(tabela_hash)) \n",
    "print(hash(10) % len(tabela_hash)) \n",
    "print(hash(20) % len(tabela_hash)) \n",
    "print(hash(25) % len(tabela_hash)) "
   ]
  },
  {
   "cell_type": "markdown",
   "metadata": {},
   "source": [
    "> **Criando Tabela Hash vazia**\n",
    "\n",
    "Criando a tabela hash como uma lista aninhada (listas dentro de uma lista)."
   ]
  },
  {
   "cell_type": "code",
   "execution_count": null,
   "metadata": {},
   "outputs": [],
   "source": [
    "tabela_hash = [ [] for _ in range(10) ]\n",
    "print(tabela_hash)"
   ]
  },
  {
   "cell_type": "markdown",
   "metadata": {},
   "source": [
    "> **Inserindo dados na Tabela Hash**\n",
    "\n",
    "Vamos nomear cada lista individual dentro da lista de Tabela Hash como \"bloco\".\n",
    "\n",
    "     Ao inserir um novo elemento na Tabela Hash, primeiro pesquisamos se a chave já existe na referida tabela.\n",
    "     - Se a chave existir na Tabela Hash, atualizamos seu \"valor\" com a nova informação.\n",
    "     - Caso contrário, inserimos um novo par de chave:valor na Tabela  Hash."
   ]
  },
  {
   "cell_type": "code",
   "execution_count": null,
   "metadata": {},
   "outputs": [],
   "source": [
    "def insere(tab_hash, chave, valor):\n",
    "    chave_hash = hash(chave) % len(hash_table)\n",
    "    chave_existe = False\n",
    "    bloco = tab_hash[chave_hash]    \n",
    "    for i, kv in enumerate(bloco):\n",
    "        ch, vl = kv\n",
    "        if chave == ch:\n",
    "            chave_existe = True \n",
    "            break\n",
    "    if chave_existe:\n",
    "        bloco[i] = ((chave, valor))\n",
    "    else:\n",
    "        bloco.append((chave, valor))\n",
    "\n",
    "insere(tabela_hash, 10, 'Argentina')\n",
    "insere(tabela_hash, 25, 'Equador')\n",
    "insere(tabela_hash, 20, 'Brasil')\n",
    "print(tabela_hash)"
   ]
  },
  {
   "cell_type": "markdown",
   "metadata": {},
   "source": [
    "> **Pesquisando dados da Tabela Hash**\n",
    "\n",
    "    Enquanto procuramos por qualquer chave na Tabela Hash, precisamos percorrer cada sub-lista individual."
   ]
  },
  {
   "cell_type": "code",
   "execution_count": null,
   "metadata": {},
   "outputs": [],
   "source": [
    "def busca(tab_hash, chave):\n",
    "    chave_hash = hash(chave) % len(tab_hash)    \n",
    "    bloco = tab_hash[chave_hash]\n",
    "    for i, kv in enumerate(bloco):\n",
    "        ch, vl = kv\n",
    "        if chave == ch:\n",
    "            return vl\n",
    "\n",
    "print(tabela_hash)\n",
    "print (busca(tabela_hash, 10)) \n",
    "print (busca(tabela_hash, 20)) \n",
    "print (busca(tabela_hash, 30)) "
   ]
  },
  {
   "cell_type": "markdown",
   "metadata": {},
   "source": [
    "> **Excluindo dados da Tabela Hash**\n",
    "\n",
    "A exclusão do elemento (par de chave:valor) da Tabela Hash é um pouco semelhante à inserção do elemento. O laço de repetição é quase o mesmo.\n",
    "\n",
    "     Ao excluir qualquer elemento existente da Tabela Hash, primeiro pesquisamos se a chave já existe.\n",
    "\n",
    "     - Se a chave já existir na Tabela Hash, simplesmente excluímos o par chave:valor específico.\n",
    "     - Caso contrário, nenhuma operação é feita. Simplesmente mostramos uma mensagem \"Chave não encontrada!."
   ]
  },
  {
   "cell_type": "code",
   "execution_count": null,
   "metadata": {},
   "outputs": [],
   "source": [
    "def deleta(tab_hash, chave):\n",
    "    chave_hash = hash(chave) % len(tab_hash)    \n",
    "    chave_existe = False\n",
    "    bloco = tab_hash[chave_hash]\n",
    "    for i, kv in enumerate(bloco):\n",
    "        ch, vl = kv \n",
    "        if chave == ch:\n",
    "            chave_existe = True \n",
    "            break\n",
    "    if chave_existe:\n",
    "        del bloco[i]\n",
    "        print ('Chave {} foi apagada!'.format(chave))\n",
    "    else:\n",
    "        print ('Chave {} não encontrada!'.format(chave))\n",
    " \n",
    " \n",
    "deleta(tabela_hash, 100)\n",
    "print(tabela_hash)\n",
    "deleta(tabela_hash, 10)\n",
    "print(tabela_hash)"
   ]
  },
  {
   "cell_type": "markdown",
   "metadata": {},
   "source": [
    "### Tabela Hash em Python\n",
    "\n",
    "Quando você precisar de uma tabela hash no Python, use a estrutura de dados `dict`. Em geral, isso será suficiente para a maioria dos propósitos, principalmente se tudo o que você precisar fazer for armazenar informações em pares **chave:valor**. Vamos criar uma Tabela Hash com o CEP de algumas capitais de estado brasileiras:"
   ]
  },
  {
   "cell_type": "code",
   "execution_count": null,
   "metadata": {},
   "outputs": [],
   "source": [
    "tab_cep = {'Palmas - TO':[77000,77270], 'Goiânia - GO':[72800,74894], 'Curitiba - PR':[80000,83800]}"
   ]
  },
  {
   "cell_type": "markdown",
   "metadata": {},
   "source": [
    "Para recuperar o intervalo de valores de CEP de Goiânia, basta escrever "
   ]
  },
  {
   "cell_type": "code",
   "execution_count": null,
   "metadata": {},
   "outputs": [],
   "source": [
    "print(tab_cep['Goiânia - GO'])"
   ]
  },
  {
   "cell_type": "markdown",
   "metadata": {},
   "source": [
    "Acescentando elementos ao dicionário:"
   ]
  },
  {
   "cell_type": "code",
   "execution_count": null,
   "metadata": {},
   "outputs": [],
   "source": [
    "tab_cep['São Paulo - SP'] = [1000,8499]\n",
    "print(tab_cep)"
   ]
  },
  {
   "cell_type": "markdown",
   "metadata": {},
   "source": [
    "Então, por que exatamente usamos isso em vez de outra estrutura? Poderíamos usar outra maneira de armazenar pares chave:valor. Usar uma lista de tuplas também faria o mesmo trabalho."
   ]
  },
  {
   "cell_type": "code",
   "execution_count": null,
   "metadata": {},
   "outputs": [],
   "source": [
    "outra_tab_cep = [('Palmas - TO',77000,77270), ('Goiânia - GO',72800,74894), ('Curitiba - PR',80000,83800)]"
   ]
  },
  {
   "cell_type": "markdown",
   "metadata": {},
   "source": [
    "\n",
    "Mas para recuperar o intervalo de valores de CEP de Goiânia já seria um pouco mais trabalhoso:"
   ]
  },
  {
   "cell_type": "code",
   "execution_count": null,
   "metadata": {},
   "outputs": [],
   "source": [
    "import time\n",
    "\n",
    "def get(lista, chave):\n",
    "    for item in lista:\n",
    "        if item[0] == chave:\n",
    "            return item[1:3]\n",
    "    return None\n",
    "\n",
    "def set(lista, chave, valor1, valor2):\n",
    "    if get(lista, chave) == None:\n",
    "        lista.append((chave, valor1, valor2))\n",
    "    else:\n",
    "        print('Cidade já cadastrada!')\n",
    "\n",
    "print(get(outra_tab_cep, 'Goiânia - GO'))\n",
    "set(outra_tab_cep,'São Paulo - SP',1000,8499)\n",
    "print(outra_tab_cep)"
   ]
  },
  {
   "cell_type": "markdown",
   "metadata": {},
   "source": [
    "Então, por que não usar essa implementação? A resposta é o maior tempo de execução com uma maior quantidade de dados. Simplesmente leva mais tempo para recuperar e definir valores para a estrutura `outra_tab_cep` quando você não conhece o índice correspondente à chave pesquisada. Digamos que o comprimento de `outra_tab_cep` tenha bem mais de dois itens, como no caso do CEP de todas as cidades emancipadas (5500 municípios). Agora vamos supor que o CEP que queremos, está no final da lista. Como não conhecemos o índice, apenas a chave, precisaremos fazer uma pesquisa linear desde o início da lista até o seu final. Com a estrutura de dados dicionário do Python, a recuperação de um valor de `tab_cep` não levará tanto tempo. Na pior das hipóteses, serão necessárias 5500 operações para encontrar o valor. Mas, na prática, os dicionários são muito mais rápidos na recuperação de valores."
   ]
  },
  {
   "cell_type": "markdown",
   "metadata": {},
   "source": [
    "<p style=\"text-align:right;\"><a href=\"#8.\">Volta</a>"
   ]
  },
  {
   "cell_type": "code",
   "execution_count": null,
   "metadata": {
    "scrolled": true
   },
   "outputs": [],
   "source": [
    "# Traçado do sinal x(t) da questão 1.3-5 do Livro do Lathi\n",
    "# x(t) = {t, 0 < t <= 1}, {0.5+0.5cos(2.pi.t), 1 < t <= 2}, {3 - t, 2 < t <= 3}, {0}\n",
    "import pylab as pl\n",
    "import numpy as np\n",
    "\n",
    "t = np.arange(-1,4,0.01)\n",
    "x  = (0 < 2*t)*(2*t <= 1)*2*t\n",
    "x += (1 < 2*t)*(2*t <= 2)*(0.5 + 0.5*np.cos(2*np.pi*2*t))\n",
    "x += (2 < 2*t)*(2*t <= 3)*(3 - 2*t)\n",
    "pl.plot(t,1/3*x); pl.grid(True)"
   ]
  },
  {
   "cell_type": "code",
   "execution_count": null,
   "metadata": {},
   "outputs": [],
   "source": [
    "Lista = ['ok',-1.0,False,-0.5,0.0,\"certo?\",0.5,1.0,1.5,2.0]\n",
    "t = np.array([-1,-0.5,0,.5,1,1.5,2])\n",
    "print(t)\n",
    "print(t > 0)\n",
    "print((t > 0)*1)\n",
    "pl.stem(t,(t > 0)*1)"
   ]
  }
 ],
 "metadata": {
  "kernelspec": {
   "display_name": "Python 3",
   "language": "python",
   "name": "python3"
  },
  "language_info": {
   "codemirror_mode": {
    "name": "ipython",
    "version": 3
   },
   "file_extension": ".py",
   "mimetype": "text/x-python",
   "name": "python",
   "nbconvert_exporter": "python",
   "pygments_lexer": "ipython3",
   "version": "3.8.5"
  }
 },
 "nbformat": 4,
 "nbformat_minor": 2
}
