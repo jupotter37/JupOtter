{
 "cells": [
  {
   "cell_type": "code",
   "execution_count": 60,
   "metadata": {},
   "outputs": [],
   "source": [
    "from urllib.request import urlopen\n",
    "from bs4 import BeautifulSoup   ## !pip install beautifulsoup4"
   ]
  },
  {
   "cell_type": "markdown",
   "metadata": {},
   "source": [
    "The most common reason of an error in a Python program is when a certain statement is not in accordance with the prescribed usage. Such an error is called a syntax error. The Python interpreter immediately reports it, usually along with the reason.\n",
    "\n",
    "--------------------------------\n",
    "\n",
    "### 1. Error Types in Python_Exception.\n",
    "\n",
    "#### 1.1. TypeError & ValueError\n",
    "\n",
    "A **`TypeError`** occurs when an operation or function is applied to an object of `inappropriate type`.\n",
    "\n",
    "To print the `type_name_error`; we use:\n",
    "\n",
    "        try: \n",
    "            something\n",
    "        except type_name_error as e: \n",
    "            print(e)"
   ]
  },
  {
   "cell_type": "code",
   "execution_count": 1,
   "metadata": {},
   "outputs": [
    {
     "name": "stdout",
     "output_type": "stream",
     "text": [
      "TypeError: object of type 'int' has no len()\n"
     ]
    }
   ],
   "source": [
    "try: len(29)\n",
    "except TypeError as e: print('TypeError:', e)"
   ]
  },
  {
   "cell_type": "code",
   "execution_count": 2,
   "metadata": {},
   "outputs": [
    {
     "name": "stdout",
     "output_type": "stream",
     "text": [
      "TypeError: unsupported operand type(s) for +: 'int' and 'str'\n"
     ]
    }
   ],
   "source": [
    "try: 2 + 'a'\n",
    "except TypeError as e: print('TypeError:', e)"
   ]
  },
  {
   "cell_type": "code",
   "execution_count": 3,
   "metadata": {},
   "outputs": [
    {
     "name": "stdout",
     "output_type": "stream",
     "text": [
      "TypeError: 'list' object cannot be interpreted as an integer\n"
     ]
    }
   ],
   "source": [
    "try: bin([1,2])\n",
    "except TypeError as e: print('TypeError:', e)"
   ]
  },
  {
   "cell_type": "markdown",
   "metadata": {},
   "source": [
    "A **`ValueError`** occurs when a built-in operation or function receives an argument that has the `right type` but an `inappropriate value`, and the situation is not described by a more precise exception such as `IndexError`."
   ]
  },
  {
   "cell_type": "code",
   "execution_count": 4,
   "metadata": {},
   "outputs": [
    {
     "name": "stdout",
     "output_type": "stream",
     "text": [
      "ValueError: invalid literal for int() with base 10: 'dog'\n"
     ]
    }
   ],
   "source": [
    "try: int(\"dog\")\n",
    "except ValueError as e: print('ValueError:', e)"
   ]
  },
  {
   "cell_type": "markdown",
   "metadata": {},
   "source": [
    "#### 1.2. UnicodeError, UnicodeEncodeError, UnicodeDecodeError & UnicodeTranslateError\n",
    "\n",
    "**`UnicodeError`.** Raised when a Unicode-related encoding or decoding error occurs.\n",
    "\n",
    "**`UnicodeEncodeError.`** Raised when a Unicode-related error occurs during encoding.\n",
    "\n",
    "**`UnicodeDecodeError`** Raised when a Unicode-related error occurs during decoding.\n",
    "\n",
    "**`UnicodeTranslateError`.** Raised when a Unicode-related error occurs during translation."
   ]
  },
  {
   "cell_type": "code",
   "execution_count": 5,
   "metadata": {},
   "outputs": [
    {
     "name": "stdout",
     "output_type": "stream",
     "text": [
      "UnicodeDecodeError :  'utf-8' codec can't decode byte 0x9c in position 28: invalid start byte\n"
     ]
    }
   ],
   "source": [
    "import pandas as pd\n",
    "\n",
    "try: OnRet_df = pd.read_csv(r\"D:\\Nhan\\Data\\Online_Retail.csv\")\n",
    "except UnicodeDecodeError as e: print('UnicodeDecodeError : ', e)"
   ]
  },
  {
   "cell_type": "markdown",
   "metadata": {},
   "source": [
    "#### 1.3. LookupError: (including) IndexError & KeyError.\n",
    "\n",
    "An **`IndexError`** is thrown when trying to access an item at an invalid index; while\n",
    "\n",
    "**`KeyError`** is thrown when a key is not found."
   ]
  },
  {
   "cell_type": "code",
   "execution_count": 6,
   "metadata": {},
   "outputs": [
    {
     "name": "stdout",
     "output_type": "stream",
     "text": [
      "IndexError: list index out of range\n"
     ]
    }
   ],
   "source": [
    "name_ls = ['Do', 'Grace', 'Clement', 'David', 'Lui']\n",
    "try : name_ls[40]\n",
    "except IndexError as e: print('IndexError:', e)"
   ]
  },
  {
   "cell_type": "code",
   "execution_count": 7,
   "metadata": {},
   "outputs": [
    {
     "name": "stdout",
     "output_type": "stream",
     "text": [
      "KeyError : 'Lee'\n"
     ]
    }
   ],
   "source": [
    "my_dict = {'Do': 1991, 'Lu': 1984, 'Liu': 1979, 'Qin': 1986}\n",
    "try : my_dict['Lee']\n",
    "except KeyError as e: print('KeyError :', e)"
   ]
  },
  {
   "cell_type": "markdown",
   "metadata": {},
   "source": [
    "#### 1.4. SyntaxError.\n",
    "\n",
    "Raised by the parser when a `syntax` error is `encountered`. \n",
    "\n",
    "The **`most common`** cases can be listed be `Misspelling, Missing, or Misusing Python Keywords`.\n",
    "\n",
    "##### `1.4.1. Misspell keywords`\n",
    "For example; `mispelling` with `for` and `fro`\n",
    "\n",
    "The right one must be \n",
    "\n",
    "        for k in range(3):\n",
    "            something w.r.t. k"
   ]
  },
  {
   "cell_type": "code",
   "execution_count": 8,
   "metadata": {},
   "outputs": [
    {
     "ename": "SyntaxError",
     "evalue": "invalid syntax (<ipython-input-8-8cacd3b337ad>, line 1)",
     "output_type": "error",
     "traceback": [
      "\u001b[1;36m  File \u001b[1;32m\"<ipython-input-8-8cacd3b337ad>\"\u001b[1;36m, line \u001b[1;32m1\u001b[0m\n\u001b[1;33m    fro k in range(3):\u001b[0m\n\u001b[1;37m        ^\u001b[0m\n\u001b[1;31mSyntaxError\u001b[0m\u001b[1;31m:\u001b[0m invalid syntax\n"
     ]
    }
   ],
   "source": [
    "fro k in range(3):\n",
    "    print(k)"
   ]
  },
  {
   "cell_type": "markdown",
   "metadata": {},
   "source": [
    "The message reads **`SyntaxError`**: invalid syntax, but that’s not very helpful. \n",
    "\n",
    "The `traceback` points to the first place where `Python` could detect that something was wrong. \n",
    "\n",
    "**To fix this sort of error,** ***make sure that all of your Python keywords are spelled correctly***."
   ]
  },
  {
   "cell_type": "markdown",
   "metadata": {},
   "source": [
    "##### `1.4.2. Missing keyword`\n",
    "\n",
    "For example, in the following `for_loop`, we miss the keyword **`in`**"
   ]
  },
  {
   "cell_type": "code",
   "execution_count": 20,
   "metadata": {},
   "outputs": [
    {
     "ename": "SyntaxError",
     "evalue": "invalid syntax (<ipython-input-20-7ade46c82121>, line 1)",
     "output_type": "error",
     "traceback": [
      "\u001b[1;36m  File \u001b[1;32m\"<ipython-input-20-7ade46c82121>\"\u001b[1;36m, line \u001b[1;32m1\u001b[0m\n\u001b[1;33m    for i range(3):\u001b[0m\n\u001b[1;37m              ^\u001b[0m\n\u001b[1;31mSyntaxError\u001b[0m\u001b[1;31m:\u001b[0m invalid syntax\n"
     ]
    }
   ],
   "source": [
    "for i range(3):\n",
    "    print(i)"
   ]
  },
  {
   "cell_type": "markdown",
   "metadata": {},
   "source": [
    "##### `1.4.3. Misuse keyword.`\n",
    "\n",
    "A `common example` of this is the use of **`continue`** or **`break`** outside of a loop. \n",
    "\n",
    "This can easily happen during development when you’re implementing things and happen to move logic outside of a loop:"
   ]
  },
  {
   "cell_type": "code",
   "execution_count": 21,
   "metadata": {},
   "outputs": [
    {
     "ename": "SyntaxError",
     "evalue": "'break' outside loop (<ipython-input-21-587c243511a3>, line 7)",
     "output_type": "error",
     "traceback": [
      "\u001b[1;36m  File \u001b[1;32m\"<ipython-input-21-587c243511a3>\"\u001b[1;36m, line \u001b[1;32m7\u001b[0m\n\u001b[1;31mSyntaxError\u001b[0m\u001b[1;31m:\u001b[0m 'break' outside loop\n"
     ]
    }
   ],
   "source": [
    "names = ['pam', 'jim', 'michael']\n",
    "if 'jim' in names:\n",
    "    print('jim found')\n",
    "    break"
   ]
  },
  {
   "cell_type": "code",
   "execution_count": 22,
   "metadata": {},
   "outputs": [
    {
     "ename": "SyntaxError",
     "evalue": "'continue' not properly in loop (<ipython-input-22-bdeee22744b4>, line 6)",
     "output_type": "error",
     "traceback": [
      "\u001b[1;36m  File \u001b[1;32m\"<ipython-input-22-bdeee22744b4>\"\u001b[1;36m, line \u001b[1;32m6\u001b[0m\n\u001b[1;31mSyntaxError\u001b[0m\u001b[1;31m:\u001b[0m 'continue' not properly in loop\n"
     ]
    }
   ],
   "source": [
    "if 'jim' in names:\n",
    "    print('jim found')\n",
    "    continue"
   ]
  },
  {
   "cell_type": "markdown",
   "metadata": {},
   "source": [
    "Here, Python does a great job of telling you exactly what’s wrong. The messages `\"'break' outside loop\"` and `\"'continue' not properly in loop\"` help you figure out exactly what to do. If this code were in a file, then Python would also have the caret pointing right to the misused keyword."
   ]
  },
  {
   "cell_type": "markdown",
   "metadata": {},
   "source": [
    "##### `1.4.4. Naming function & variable`\n",
    "\n",
    "Another example is if you attempt to assign a Python keyword to a variable or use a keyword to define a function:"
   ]
  },
  {
   "cell_type": "code",
   "execution_count": 23,
   "metadata": {},
   "outputs": [
    {
     "ename": "SyntaxError",
     "evalue": "invalid syntax (<ipython-input-23-e4033f83b0c3>, line 1)",
     "output_type": "error",
     "traceback": [
      "\u001b[1;36m  File \u001b[1;32m\"<ipython-input-23-e4033f83b0c3>\"\u001b[1;36m, line \u001b[1;32m1\u001b[0m\n\u001b[1;33m    def pass():\u001b[0m\n\u001b[1;37m           ^\u001b[0m\n\u001b[1;31mSyntaxError\u001b[0m\u001b[1;31m:\u001b[0m invalid syntax\n"
     ]
    }
   ],
   "source": [
    "def pass():"
   ]
  },
  {
   "cell_type": "markdown",
   "metadata": {},
   "source": [
    "##### `1.4.5.  IndentationError & TabError`\n",
    "\n",
    "**`IndentationError / TabError`**. Raised when there is an incorrect indentation, consits of inconsistent tabs and spaces  mixed by tabs and spaces in the same code\n",
    "\n",
    "For example; after using **`if-elif-else, for, while, ...`** we must have an indentation. The right-one must be:\n",
    "\n",
    "    if 2 > 3:\n",
    "        print(\"Not good\")\n",
    "        \n",
    "Below is a example for **`IndentationError`** when missing the indentation."
   ]
  },
  {
   "cell_type": "code",
   "execution_count": 36,
   "metadata": {},
   "outputs": [
    {
     "ename": "IndentationError",
     "evalue": "expected an indented block (<ipython-input-36-f64f6b648d7d>, line 2)",
     "output_type": "error",
     "traceback": [
      "\u001b[1;36m  File \u001b[1;32m\"<ipython-input-36-f64f6b648d7d>\"\u001b[1;36m, line \u001b[1;32m2\u001b[0m\n\u001b[1;33m    print(\"Not good\")\u001b[0m\n\u001b[1;37m        ^\u001b[0m\n\u001b[1;31mIndentationError\u001b[0m\u001b[1;31m:\u001b[0m expected an indented block\n"
     ]
    }
   ],
   "source": [
    "if 2 > 3:\n",
    "print(\"Not good\")"
   ]
  },
  {
   "cell_type": "markdown",
   "metadata": {},
   "source": [
    "##### `1.4.6.  Misuse dictionary or parentheness`\n",
    "\n",
    "There are two other exceptions that you might see Python raise. These are equivalent to SyntaxError but have different names"
   ]
  },
  {
   "cell_type": "code",
   "execution_count": 25,
   "metadata": {},
   "outputs": [
    {
     "ename": "SyntaxError",
     "evalue": "Missing parentheses in call to 'print'. Did you mean print(\"hello\")? (<ipython-input-25-2a0eaa89f43f>, line 1)",
     "output_type": "error",
     "traceback": [
      "\u001b[1;36m  File \u001b[1;32m\"<ipython-input-25-2a0eaa89f43f>\"\u001b[1;36m, line \u001b[1;32m1\u001b[0m\n\u001b[1;33m    print \"hello\"\u001b[0m\n\u001b[1;37m                ^\u001b[0m\n\u001b[1;31mSyntaxError\u001b[0m\u001b[1;31m:\u001b[0m Missing parentheses in call to 'print'. Did you mean print(\"hello\")?\n"
     ]
    }
   ],
   "source": [
    "print \"hello\""
   ]
  },
  {
   "cell_type": "markdown",
   "metadata": {},
   "source": [
    "For example, to fix this, we must use `print(\"hello\")`"
   ]
  },
  {
   "cell_type": "code",
   "execution_count": 26,
   "metadata": {},
   "outputs": [
    {
     "name": "stdout",
     "output_type": "stream",
     "text": [
      "hello\n"
     ]
    }
   ],
   "source": [
    "print(\"hello\")"
   ]
  },
  {
   "cell_type": "markdown",
   "metadata": {},
   "source": [
    "**Misuse a dictionary**\n",
    "\n",
    "For example; the right one be"
   ]
  },
  {
   "cell_type": "code",
   "execution_count": 27,
   "metadata": {},
   "outputs": [
    {
     "data": {
      "text/plain": [
       "{'name': ['Don'], 'age': 24}"
      ]
     },
     "execution_count": 27,
     "metadata": {},
     "output_type": "execute_result"
    }
   ],
   "source": [
    "{'name': ['Don'], 'age': 24}"
   ]
  },
  {
   "cell_type": "markdown",
   "metadata": {},
   "source": [
    "Bellow be some common mistakes"
   ]
  },
  {
   "cell_type": "code",
   "execution_count": 28,
   "metadata": {},
   "outputs": [
    {
     "ename": "SyntaxError",
     "evalue": "invalid syntax (<ipython-input-28-022570b64e6d>, line 1)",
     "output_type": "error",
     "traceback": [
      "\u001b[1;36m  File \u001b[1;32m\"<ipython-input-28-022570b64e6d>\"\u001b[1;36m, line \u001b[1;32m1\u001b[0m\n\u001b[1;33m    {'name' = 'Don'}\u001b[0m\n\u001b[1;37m            ^\u001b[0m\n\u001b[1;31mSyntaxError\u001b[0m\u001b[1;31m:\u001b[0m invalid syntax\n"
     ]
    }
   ],
   "source": [
    "{'name' = 'Don'}"
   ]
  },
  {
   "cell_type": "code",
   "execution_count": 29,
   "metadata": {},
   "outputs": [
    {
     "ename": "SyntaxError",
     "evalue": "unexpected EOF while parsing (<ipython-input-29-f10688b8ba4a>, line 1)",
     "output_type": "error",
     "traceback": [
      "\u001b[1;36m  File \u001b[1;32m\"<ipython-input-29-f10688b8ba4a>\"\u001b[1;36m, line \u001b[1;32m1\u001b[0m\n\u001b[1;33m    {'name' : 'Don'\u001b[0m\n\u001b[1;37m                   ^\u001b[0m\n\u001b[1;31mSyntaxError\u001b[0m\u001b[1;31m:\u001b[0m unexpected EOF while parsing\n"
     ]
    }
   ],
   "source": [
    "{'name' : 'Don'"
   ]
  },
  {
   "cell_type": "code",
   "execution_count": 30,
   "metadata": {},
   "outputs": [
    {
     "ename": "SyntaxError",
     "evalue": "invalid syntax (<ipython-input-30-6a9e04f59c3a>, line 1)",
     "output_type": "error",
     "traceback": [
      "\u001b[1;36m  File \u001b[1;32m\"<ipython-input-30-6a9e04f59c3a>\"\u001b[1;36m, line \u001b[1;32m1\u001b[0m\n\u001b[1;33m    {'name': 'Don' 'age': 24}\u001b[0m\n\u001b[1;37m                        ^\u001b[0m\n\u001b[1;31mSyntaxError\u001b[0m\u001b[1;31m:\u001b[0m invalid syntax\n"
     ]
    }
   ],
   "source": [
    "{'name': 'Don' 'age': 24}"
   ]
  },
  {
   "cell_type": "markdown",
   "metadata": {},
   "source": [
    "##### `1.4.7. Defining & calling function / vars`"
   ]
  },
  {
   "cell_type": "code",
   "execution_count": 31,
   "metadata": {},
   "outputs": [
    {
     "ename": "SyntaxError",
     "evalue": "invalid syntax (<ipython-input-31-300249d5c997>, line 1)",
     "output_type": "error",
     "traceback": [
      "\u001b[1;36m  File \u001b[1;32m\"<ipython-input-31-300249d5c997>\"\u001b[1;36m, line \u001b[1;32m1\u001b[0m\n\u001b[1;33m    def my_fun();\u001b[0m\n\u001b[1;37m                ^\u001b[0m\n\u001b[1;31mSyntaxError\u001b[0m\u001b[1;31m:\u001b[0m invalid syntax\n"
     ]
    }
   ],
   "source": [
    "def my_fun();"
   ]
  },
  {
   "cell_type": "markdown",
   "metadata": {},
   "source": [
    "In addition, `keyword arguments` in both `function definitions` and `function calls` need to be in the `right order`. \n",
    "\n",
    "`Keyword arguments` always come after positional arguments. *`Failure to use this ordering will lead to a SyntaxError`*:"
   ]
  },
  {
   "cell_type": "code",
   "execution_count": 32,
   "metadata": {},
   "outputs": [
    {
     "ename": "SyntaxError",
     "evalue": "positional argument follows keyword argument (<ipython-input-32-556f195e947c>, line 4)",
     "output_type": "error",
     "traceback": [
      "\u001b[1;36m  File \u001b[1;32m\"<ipython-input-32-556f195e947c>\"\u001b[1;36m, line \u001b[1;32m4\u001b[0m\n\u001b[1;33m    fun(a=1, 2)\u001b[0m\n\u001b[1;37m            ^\u001b[0m\n\u001b[1;31mSyntaxError\u001b[0m\u001b[1;31m:\u001b[0m positional argument follows keyword argument\n"
     ]
    }
   ],
   "source": [
    "def my_fun(a, b):\n",
    "    return a + b**2\n",
    "\n",
    "fun(a=1, 2)"
   ]
  },
  {
   "cell_type": "markdown",
   "metadata": {},
   "source": [
    "##### `1.4.8. EOFError`\n",
    "\n",
    "**`EOFError`** Raised when the input() function hits the `end-of-file` condition.\n",
    "\n",
    "For example; when we finised the loop without any statements."
   ]
  },
  {
   "cell_type": "code",
   "execution_count": 42,
   "metadata": {},
   "outputs": [
    {
     "ename": "SyntaxError",
     "evalue": "unexpected EOF while parsing (<ipython-input-42-2b1b72cc55b9>, line 1)",
     "output_type": "error",
     "traceback": [
      "\u001b[1;36m  File \u001b[1;32m\"<ipython-input-42-2b1b72cc55b9>\"\u001b[1;36m, line \u001b[1;32m1\u001b[0m\n\u001b[1;33m    for i in range(0,24):\u001b[0m\n\u001b[1;37m                         ^\u001b[0m\n\u001b[1;31mSyntaxError\u001b[0m\u001b[1;31m:\u001b[0m unexpected EOF while parsing\n"
     ]
    }
   ],
   "source": [
    "for i in range(0,24):"
   ]
  },
  {
   "cell_type": "code",
   "execution_count": 41,
   "metadata": {},
   "outputs": [
    {
     "ename": "SyntaxError",
     "evalue": "unexpected EOF while parsing (<ipython-input-41-769e12ce34a9>, line 1)",
     "output_type": "error",
     "traceback": [
      "\u001b[1;36m  File \u001b[1;32m\"<ipython-input-41-769e12ce34a9>\"\u001b[1;36m, line \u001b[1;32m1\u001b[0m\n\u001b[1;33m    while 1:\u001b[0m\n\u001b[1;37m            ^\u001b[0m\n\u001b[1;31mSyntaxError\u001b[0m\u001b[1;31m:\u001b[0m unexpected EOF while parsing\n"
     ]
    }
   ],
   "source": [
    "while 1:"
   ]
  },
  {
   "cell_type": "code",
   "execution_count": 40,
   "metadata": {},
   "outputs": [
    {
     "ename": "SyntaxError",
     "evalue": "unexpected EOF while parsing (<ipython-input-40-068861cce0a8>, line 1)",
     "output_type": "error",
     "traceback": [
      "\u001b[1;36m  File \u001b[1;32m\"<ipython-input-40-068861cce0a8>\"\u001b[1;36m, line \u001b[1;32m1\u001b[0m\n\u001b[1;33m    if 2 < 3:\u001b[0m\n\u001b[1;37m             ^\u001b[0m\n\u001b[1;31mSyntaxError\u001b[0m\u001b[1;31m:\u001b[0m unexpected EOF while parsing\n"
     ]
    }
   ],
   "source": [
    "if 2 < 3:"
   ]
  },
  {
   "cell_type": "markdown",
   "metadata": {},
   "source": [
    "**Another example of `end_of_file`**"
   ]
  },
  {
   "cell_type": "code",
   "execution_count": 43,
   "metadata": {},
   "outputs": [
    {
     "name": "stdout",
     "output_type": "stream",
     "text": [
      "this is end-of-file\n"
     ]
    }
   ],
   "source": [
    "import os\n",
    "f = open(r\"C:\\Users\\Admin\\Desktop\\Nhan_pro\\Data\\ML\\alice.txt\", 'r')\n",
    "if f.tell() == os.fstat(f.fileno()).st_size:\n",
    "    print('pass')\n",
    "else:\n",
    "    print('this is end-of-file')"
   ]
  },
  {
   "cell_type": "markdown",
   "metadata": {},
   "source": [
    "#### 1.5. ModuleNotFoundError & ImportError \n",
    "\n",
    "**`ModuleNotFoundError`** is thrown when a module could not be found; while\n",
    "\n",
    "**`ImportError`** is thrown when a specified function can not be found"
   ]
  },
  {
   "cell_type": "code",
   "execution_count": 33,
   "metadata": {},
   "outputs": [
    {
     "name": "stdout",
     "output_type": "stream",
     "text": [
      "ModuleNotFoundError: No module named 'kememay'\n"
     ]
    }
   ],
   "source": [
    "try: import kememay\n",
    "except ModuleNotFoundError as e: print('ModuleNotFoundError:', e)"
   ]
  },
  {
   "cell_type": "code",
   "execution_count": 11,
   "metadata": {},
   "outputs": [
    {
     "name": "stdout",
     "output_type": "stream",
     "text": [
      "ImportError: cannot import name 'kememay' from 'math' (unknown location)\n"
     ]
    }
   ],
   "source": [
    "try: from math import kememay\n",
    "except ImportError as e: print('ImportError:', e)"
   ]
  },
  {
   "cell_type": "markdown",
   "metadata": {},
   "source": [
    "#### 1.6. StopIteration \n",
    "\n",
    "**`StopIteration`** is thrown when the `next() function` goes `beyond` the iterator items."
   ]
  },
  {
   "cell_type": "code",
   "execution_count": 34,
   "metadata": {},
   "outputs": [
    {
     "ename": "StopIteration",
     "evalue": "",
     "output_type": "error",
     "traceback": [
      "\u001b[1;31m---------------------------------------------------------------------------\u001b[0m",
      "\u001b[1;31mStopIteration\u001b[0m                             Traceback (most recent call last)",
      "\u001b[1;32m<ipython-input-34-19016dea604d>\u001b[0m in \u001b[0;36m<module>\u001b[1;34m\u001b[0m\n\u001b[0;32m      3\u001b[0m \u001b[0mnext\u001b[0m\u001b[1;33m(\u001b[0m\u001b[0mit\u001b[0m\u001b[1;33m)\u001b[0m\u001b[1;33m\u001b[0m\u001b[1;33m\u001b[0m\u001b[0m\n\u001b[0;32m      4\u001b[0m \u001b[0mnext\u001b[0m\u001b[1;33m(\u001b[0m\u001b[0mit\u001b[0m\u001b[1;33m)\u001b[0m\u001b[1;33m\u001b[0m\u001b[1;33m\u001b[0m\u001b[0m\n\u001b[1;32m----> 5\u001b[1;33m \u001b[0mnext\u001b[0m\u001b[1;33m(\u001b[0m\u001b[0mit\u001b[0m\u001b[1;33m)\u001b[0m\u001b[1;33m\u001b[0m\u001b[1;33m\u001b[0m\u001b[0m\n\u001b[0m",
      "\u001b[1;31mStopIteration\u001b[0m: "
     ]
    }
   ],
   "source": [
    "it = iter([1,2,3])\n",
    "next(it)\n",
    "next(it)\n",
    "next(it)\n",
    "next(it)"
   ]
  },
  {
   "cell_type": "markdown",
   "metadata": {},
   "source": [
    "#### 1.7. ArithmeticError: ZeroDivisionError, OverflowError, FloatingPointError.\n",
    "\n",
    "##### `1.7.1. ZeroDivisionError`\n",
    "\n",
    "**`ZeroDivisionError`** is thrown when the second operator in the division is zero."
   ]
  },
  {
   "cell_type": "code",
   "execution_count": 13,
   "metadata": {
    "scrolled": true
   },
   "outputs": [
    {
     "name": "stdout",
     "output_type": "stream",
     "text": [
      "ZeroDivisionError:  division by zero\n"
     ]
    }
   ],
   "source": [
    "try: x = 100/0\n",
    "except ZeroDivisionError as e: print('ZeroDivisionError: ', e)"
   ]
  },
  {
   "cell_type": "markdown",
   "metadata": {},
   "source": [
    "##### `1.7.2. FloatingPointError`\n",
    "\n",
    "**`FloatingPointError`** Raised when a floating point operation fails."
   ]
  },
  {
   "cell_type": "code",
   "execution_count": 14,
   "metadata": {},
   "outputs": [
    {
     "name": "stdout",
     "output_type": "stream",
     "text": [
      "FloatingPointError: not equal\n"
     ]
    }
   ],
   "source": [
    "if 1/10 + 1/5 == 0.3:\n",
    "    print('right!')\n",
    "else:\n",
    "    print('FloatingPointError: not equal')"
   ]
  },
  {
   "cell_type": "markdown",
   "metadata": {},
   "source": [
    "This can be considered as a bug in Python, but it is not. \n",
    "\n",
    "This has little to do with Python, and much more to do with how the underlying platform handles floating-point numbers. \n",
    "\n",
    "It’s a normal case encountered when handling floating-point numbers internally in a system. It’s a problem caused when the internal representation of floating-point numbers, which uses a fixed number of binary digits to represent a decimal number. \n",
    "\n",
    "It is difficult to represent some decimal number in binary, so in many cases, it leads to small roundoff errors.\n",
    "\n",
    "The representation of 0.2 in `binary` is `0.00110011001100110011001100......` and so on. It is difficult to store this infinite decimal number internally. Normally a float object’s value is stored in binary floating-point with a fixed precision. So we represent 0.3 internally as,\n",
    "\n",
    "            0011111111010011001100110011001100110011001100110011001100110011  \n",
    "            \n",
    "Which is exactly equal to :\n",
    "\n",
    "            0.299999999999999988897769753748434595763683319091796875"
   ]
  },
  {
   "cell_type": "code",
   "execution_count": 15,
   "metadata": {},
   "outputs": [
    {
     "name": "stdout",
     "output_type": "stream",
     "text": [
      "binary of a floating_point 0.3 is:  0011111111010011001100110011001100110011001100110011001100110011\n",
      "decimal of 0.3 is:  0.299999999999999988897769753748434595763683319091796875\n"
     ]
    }
   ],
   "source": [
    "import bitstring\n",
    "from decimal import *\n",
    "x = 0.3\n",
    "f = bitstring.BitArray(float = x, length=64)\n",
    "print('binary of a floating_point 0.3 is: ', f.bin)\n",
    "print('decimal of 0.3 is: ', Decimal(0.3))"
   ]
  },
  {
   "cell_type": "markdown",
   "metadata": {},
   "source": [
    "##### `1.7.3. OverflowError`\n",
    "\n",
    "**`OverflowError`** Raised when the result of an arithmetic operation is too large to be represented or a calculation exceeds maximum limit for a numeric type."
   ]
  },
  {
   "cell_type": "code",
   "execution_count": 42,
   "metadata": {},
   "outputs": [
    {
     "name": "stdout",
     "output_type": "stream",
     "text": [
      "OverflowError : math range error\n"
     ]
    }
   ],
   "source": [
    "try: x = math.exp(1000)\n",
    "except OverflowError as e:\n",
    "    print('OverflowError :', e)"
   ]
  },
  {
   "cell_type": "code",
   "execution_count": 16,
   "metadata": {},
   "outputs": [
    {
     "name": "stdout",
     "output_type": "stream",
     "text": [
      "0 3.0\n",
      "1 9.0\n",
      "2 81.0\n",
      "3 6561.0\n",
      "4 43046721.0\n",
      "5 1853020188851841.0\n",
      "6 3.4336838202925124e+30\n",
      "7 1.1790184577738583e+61\n",
      "8 1.3900845237714473e+122\n",
      "9 1.9323349832288915e+244\n",
      "OverflowError : (34, 'Result too large')\n"
     ]
    }
   ],
   "source": [
    "try: \n",
    "    i = 1\n",
    "    f = 3.0**i\n",
    "    for i in range(100):\n",
    "        print(i, f)\n",
    "        f = f ** 2\n",
    "except OverflowError as e:\n",
    "    print('OverflowError :', e)"
   ]
  },
  {
   "cell_type": "markdown",
   "metadata": {},
   "source": [
    "#### 1.8. AssertionError & AttributeError\n",
    "\n",
    "**`AssertionError`** Raised when the assert statement fails."
   ]
  },
  {
   "cell_type": "code",
   "execution_count": 17,
   "metadata": {},
   "outputs": [
    {
     "name": "stdout",
     "output_type": "stream",
     "text": [
      "AssertionError: have you seen Invalid Operation\n"
     ]
    }
   ],
   "source": [
    "x = 1\n",
    "y = 0\n",
    "try: \n",
    "    assert y != 0, \"have you seen Invalid Operation\" # denominator can't be 0 \n",
    "    print(x / y) \n",
    "\n",
    "except AssertionError as e: print('AssertionError:', e)"
   ]
  },
  {
   "cell_type": "markdown",
   "metadata": {},
   "source": [
    "**`AttributeError.`** Raised on the attribute assignment or reference fails."
   ]
  },
  {
   "cell_type": "code",
   "execution_count": 18,
   "metadata": {},
   "outputs": [
    {
     "name": "stdout",
     "output_type": "stream",
     "text": [
      "this_is_my_class\n",
      "AttributeError:  'my_class' object has no attribute 'b'\n"
     ]
    }
   ],
   "source": [
    "class my_class():    \n",
    "    def __init__(self): \n",
    "        self.a = 'this_is_my_class'\n",
    "obj = my_class() \n",
    "try: \n",
    "    print(obj.a)   ## defined at self.a\n",
    "    print(obj.b)   ## no-defined before\n",
    "    \n",
    "except AttributeError as e:\n",
    "    print('AttributeError: ', e) "
   ]
  },
  {
   "cell_type": "markdown",
   "metadata": {},
   "source": [
    "#### 1.9.GeneratorExit.\n",
    "\n",
    "**`GeneratorExit`**\tRaised when a generator's close() method is called."
   ]
  },
  {
   "cell_type": "code",
   "execution_count": 41,
   "metadata": {},
   "outputs": [
    {
     "name": "stdout",
     "output_type": "stream",
     "text": [
      "Yielding 0\n",
      "0\n",
      "GeneratorExit!\n"
     ]
    }
   ],
   "source": [
    "def my_generator(): \n",
    "    try: \n",
    "        for i in range(5): \n",
    "            print('Yielding', i) \n",
    "            yield i \n",
    "    except GeneratorExit as e: \n",
    "        print('GeneratorExit!')\n",
    "g = my_generator() \n",
    "print(next(g)) \n",
    "g.close()"
   ]
  },
  {
   "cell_type": "markdown",
   "metadata": {},
   "source": [
    "#### 1.10. EnvironmentError: IOError & OSError\n",
    "\n",
    "##### `1.10.1. IOError`. \n",
    "\n",
    "Raised when an I/O operation (such as a print statement, the built-in open() function or a method of a file object) fails for an I/O-related reason, e.g., “file not found” or “disk full”."
   ]
  },
  {
   "cell_type": "code",
   "execution_count": 50,
   "metadata": {},
   "outputs": [
    {
     "name": "stdout",
     "output_type": "stream",
     "text": [
      "EnvironmentError:  No such file or directory\n"
     ]
    }
   ],
   "source": [
    "try:\n",
    "    open('no file of this name')   # generate 'file not found error'\n",
    "except EnvironmentError as e:      # OSError or IOError...\n",
    "    print('EnvironmentError: ', os.strerror(e.errno))  "
   ]
  },
  {
   "cell_type": "code",
   "execution_count": 47,
   "metadata": {},
   "outputs": [
    {
     "name": "stdout",
     "output_type": "stream",
     "text": [
      "IOError: No such file or directory\n"
     ]
    }
   ],
   "source": [
    "import os\n",
    "try:\n",
    "    open('/Users/test/Documents/test')   # will be a permission error\n",
    "except IOError as e:\n",
    "    print('IOError:', os.strerror(e.errno))  "
   ]
  },
  {
   "cell_type": "code",
   "execution_count": 51,
   "metadata": {},
   "outputs": [
    {
     "name": "stdout",
     "output_type": "stream",
     "text": [
      "IOError!\n"
     ]
    }
   ],
   "source": [
    "try:\n",
    "    f = open(\"fake.txt\", mode=\"r\")\n",
    "except IOError:\n",
    "    print(\"IOError!\")"
   ]
  },
  {
   "cell_type": "markdown",
   "metadata": {},
   "source": [
    "##### `1.10.2. OSError: WinError (Windows) & VMSError`\n",
    "\n",
    "Raised when a system operation causes a system-related error; including ` WindowsError (Windows) & EMSError`.\n",
    "\n",
    "**`WinError`** Raised when a Windows-specific error occurs or when the error number does not correspond to an errno value. The winerror and strerror values are created from the return values of the `GetLastError()` and `FormatMessage()` functions from the `Windows Platform API`. The errno value maps the winerror value to corresponding errno.h values. This is a `subclass of OSError`.\n",
    "\n",
    "**`VMSError`** Only available on VMS. Raised when a VMS-specific error occurs, it is completely unused by the interpreter core and the standard library.."
   ]
  },
  {
   "cell_type": "code",
   "execution_count": 52,
   "metadata": {},
   "outputs": [
    {
     "name": "stdout",
     "output_type": "stream",
     "text": [
      "OSError : [WinError 3] The system cannot find the path specified: 'file' -> 'illegal characters: /\\\\:*?\"<>|@'\n"
     ]
    }
   ],
   "source": [
    "with open('file', 'w'): \n",
    "    pass\n",
    "newFileName = 'illegal characters: /\\\\:*?\"<>|@'\n",
    "try:    \n",
    "    os.rename('file', newFileName)\n",
    "except OSError as e: \n",
    "    print(\"OSError :\", e)"
   ]
  },
  {
   "cell_type": "markdown",
   "metadata": {},
   "source": [
    "#### 1.11. RuntimeError:  ReferenceError, RecursionError & NotImplementedError.\n",
    "\n",
    "**`RuntimeError`** Raised when an error is detected that doesn’t fall in any of the other categories. The associated value is a string indicating what precisely went wrong.\n",
    "\n",
    "-------------------------\n",
    "\n",
    "**`RecursionError`** is derived from the `RuntimeError`. This exception is raised when the interpreter detects that the maximum recursion depth is exceeded.\n",
    "\n",
    "-------------------------\n",
    "\n",
    "**`ReferenceError`** This exception is raised when a weak reference proxy, created by the `weakref.proxy()` function, is used to access an attribute of the referent after it has been garbage collected. For more information on weak references, see the `weakref` module.\n",
    "\n",
    "-------------------------\n",
    "\n",
    "**`NotImplementedError`** This exception is derived from `RuntimeError`. In user defined base classes, abstract methods should raise this exception when they require derived classes to override the method. \n",
    "\n",
    "It raised when an abstract method that needs to be implemented in an inherited class is not actually implemented."
   ]
  },
  {
   "cell_type": "code",
   "execution_count": 65,
   "metadata": {},
   "outputs": [
    {
     "name": "stdout",
     "output_type": "stream",
     "text": [
      "BEFORE: my_obj\n",
      "(Deleting <__main__.Foo object at 0x000001CD1AFE1048>)\n",
      "ReferenceError: weakly-referenced object no longer exists\n"
     ]
    }
   ],
   "source": [
    "import gc \n",
    "import weakref \n",
    "  \n",
    "class Foo(object): \n",
    "    def __init__(self, name): \n",
    "        self.name = name       \n",
    "    def __del__(self): \n",
    "        print('(Deleting %s)' % self)\n",
    "obj = Foo('my_obj') \n",
    "p = weakref.proxy(obj) \n",
    "print('BEFORE:', p.name) \n",
    "obj = None\n",
    "try:\n",
    "    print('AFTER:', p.name) \n",
    "except ReferenceError as e:\n",
    "    print(\"ReferenceError:\", e)"
   ]
  },
  {
   "cell_type": "code",
   "execution_count": 67,
   "metadata": {},
   "outputs": [
    {
     "name": "stdout",
     "output_type": "stream",
     "text": [
      "NotImplemented Error\n"
     ]
    }
   ],
   "source": [
    "class myC(object):\n",
    "    def f(self):\n",
    "        raise NotImplementedError()\n",
    "try:\n",
    "    myC().f()   ## .f is not an inherited class\n",
    "except NotImplementedError:\n",
    "    print(\"NotImplemented Error\")"
   ]
  },
  {
   "cell_type": "markdown",
   "metadata": {},
   "source": [
    "#### 1.12. SystemError; NameError (UnboundedError) & MemmoryError \n",
    "\n",
    "**`1.12.1. SystemError`** is raised when the interpreter finds an internal error. The associated value is a string indicating what went wrong.\n",
    "\n",
    "For example, it's quite common to have a layout like this...\n",
    "\n",
    "                    main.py\n",
    "                    mypackage/\n",
    "                        __init__.py\n",
    "                        mymodule.py\n",
    "                        myothermodule.py\n",
    "where the `mymodule.py` is defined by:\n",
    "\n",
    "                    def as_int(a):\n",
    "                        return int(a)\n",
    "                    def _test():\n",
    "                        assert as_int('1') == 1\n",
    "                    if __name__ == '__main__':\n",
    "                        _test()\n",
    "and `myothermodule.py` is defined by:\n",
    "\n",
    "                    from mypackage.mymodule import as_int\n",
    "                    # Exported function\n",
    "                    def add(a, b):\n",
    "                        return as_int(a) + as_int(b)\n",
    "                    # Test function for module  \n",
    "                    def _test():\n",
    "                        assert add('1', '1') == 2\n",
    "                    if __name__ == '__main__':\n",
    "                        _test()\n",
    "The **`SystemError`** will be appeared if we try to import `add` with `mypackage/myothermodule.py`, as follow\n",
    "\n",
    "        from mypackage.myothermodule import add\n",
    "        def main():\n",
    "            print(add('1', '1'))\n",
    "        if __name__ == '__main__':\n",
    "            main()\n",
    "            \n",
    "which it works fine when you run `main.py` or `mypackage/mymodule.py`"
   ]
  },
  {
   "cell_type": "markdown",
   "metadata": {},
   "source": [
    "**1.12.2. `NameError (UnboundedLocalError)`**"
   ]
  },
  {
   "cell_type": "code",
   "execution_count": 3,
   "metadata": {},
   "outputs": [
    {
     "name": "stdout",
     "output_type": "stream",
     "text": [
      "Global name error: name 'unknown_global_name' is not defined\n",
      "Local name error: local variable 'local_val' referenced before assignment\n"
     ]
    }
   ],
   "source": [
    "def global_name_error(): \n",
    "    print(unknown_global_name) \n",
    "def unbound_local(): \n",
    "    local_val = local_val + 1\n",
    "    print(local_val)   \n",
    "try: \n",
    "    global_name_error() \n",
    "except NameError as err: \n",
    "    print('Global name error (NameError):', err) \n",
    "try: \n",
    "    unbound_local() \n",
    "except UnboundLocalError as err: \n",
    "    print('Local name error (LocalUnboundedError):', err) "
   ]
  },
  {
   "cell_type": "markdown",
   "metadata": {},
   "source": [
    "**`1.12.3. MemoryError`** Raised when an operation runs out of memory."
   ]
  },
  {
   "cell_type": "markdown",
   "metadata": {},
   "source": [
    "### 2. Python_warning\n",
    "\n",
    "#### 2.1. DeprecationWarning. \n",
    "\n",
    "This is a base category for warnings about deprecated features when those warnings are intended for other Python developers"
   ]
  },
  {
   "cell_type": "code",
   "execution_count": 8,
   "metadata": {
    "scrolled": true
   },
   "outputs": [
    {
     "name": "stderr",
     "output_type": "stream",
     "text": [
      "C:\\Users\\Admin\\.conda\\envs\\projecy\\lib\\site-packages\\ipykernel_launcher.py:2: DeprecationWarning: first example of warning!\n",
      "  \n"
     ]
    }
   ],
   "source": [
    "import warnings\n",
    "warnings.warn(\"first example of warning!\", DeprecationWarning)"
   ]
  },
  {
   "cell_type": "markdown",
   "metadata": {},
   "source": [
    "To ignore this warning; type\n",
    "\n",
    "            warnings.filterwarnings(\"ignore\")"
   ]
  },
  {
   "cell_type": "code",
   "execution_count": 3,
   "metadata": {},
   "outputs": [],
   "source": [
    "warnings.filterwarnings(\"ignore\")\n",
    "warnings.warn(\"first example of warning!\", DeprecationWarning)"
   ]
  },
  {
   "cell_type": "markdown",
   "metadata": {},
   "source": [
    "#### 2.2. PendingDeprecationWarning.\n",
    "\n",
    "This is the base class for warnings about features which will be deprecated in the future.\n",
    "\n",
    "This class is rarely used as emitting a warning about a possible upcoming deprecation is unusual, and DeprecationWarning is preferred for already active deprecations"
   ]
  },
  {
   "cell_type": "code",
   "execution_count": 16,
   "metadata": {},
   "outputs": [
    {
     "name": "stdout",
     "output_type": "stream",
     "text": [
      "method1 7\n",
      "method2 7\n",
      "new method 7\n"
     ]
    },
    {
     "name": "stderr",
     "output_type": "stream",
     "text": [
      "C:\\Users\\Admin\\.conda\\envs\\projecy\\lib\\site-packages\\ipykernel_launcher.py:7: DeprecationWarning: method1 is deprecated, use new_method instead\n",
      "  import sys\n",
      "C:\\Users\\Admin\\.conda\\envs\\projecy\\lib\\site-packages\\ipykernel_launcher.py:10: PendingDeprecationWarning: method2 will be deprecated in version 2, use new_method instead\n",
      "  # Remove the CWD from sys.path while we load stuff.\n"
     ]
    }
   ],
   "source": [
    "import warnings\n",
    "class WarnExample:\n",
    "    def __init__(self):\n",
    "        self.text = \"Warning\"\n",
    "    def method1(self):\n",
    "        warnings.warn(\"method1 is deprecated, use new_method instead\", DeprecationWarning)\n",
    "        print('method1', len(self.text))\n",
    "    def method2(self):\n",
    "        warnings.warn(\"method2 will be deprecated in version 2, use new_method instead\", PendingDeprecationWarning)\n",
    "        print('method2', len(self.text))\n",
    "    def new_method(self):\n",
    "        print('new method', len(self.text))\n",
    "if __name__=='__main__':\n",
    "    e = WarnExample()\n",
    "    e.method1()\n",
    "    e.method2()\n",
    "    e.new_method()"
   ]
  },
  {
   "cell_type": "markdown",
   "metadata": {},
   "source": [
    "#### 2.3. RuntimeWarning. \n",
    "\n",
    "This is a base class for warnings about `dubious runtime behavior`."
   ]
  },
  {
   "cell_type": "code",
   "execution_count": 17,
   "metadata": {},
   "outputs": [
    {
     "name": "stderr",
     "output_type": "stream",
     "text": [
      "C:\\Users\\Admin\\.conda\\envs\\projecy\\lib\\site-packages\\ipykernel_launcher.py:1: RuntimeWarning: deprecated\n",
      "  \"\"\"Entry point for launching an IPython kernel.\n"
     ]
    }
   ],
   "source": [
    "warnings.warn(\"deprecated\", RuntimeWarning)"
   ]
  },
  {
   "cell_type": "markdown",
   "metadata": {},
   "source": [
    "#### 2.4. SyntaxWarning.\n",
    "\n",
    "This is a base class for warnings about `dubious syntax` or about the `dubious syntactic features`."
   ]
  },
  {
   "cell_type": "code",
   "execution_count": 18,
   "metadata": {},
   "outputs": [
    {
     "name": "stderr",
     "output_type": "stream",
     "text": [
      "C:\\Users\\Admin\\.conda\\envs\\projecy\\lib\\site-packages\\ipykernel_launcher.py:1: SyntaxWarning: deprecated\n",
      "  \"\"\"Entry point for launching an IPython kernel.\n"
     ]
    }
   ],
   "source": [
    "warnings.warn(\"deprecated\", SyntaxWarning)"
   ]
  },
  {
   "cell_type": "markdown",
   "metadata": {},
   "source": [
    "#### 2.5. UserWarning. \n",
    "\n",
    "This is a base class for warnings generated by `user code`."
   ]
  },
  {
   "cell_type": "code",
   "execution_count": 19,
   "metadata": {},
   "outputs": [
    {
     "name": "stderr",
     "output_type": "stream",
     "text": [
      "C:\\Users\\Admin\\.conda\\envs\\projecy\\lib\\site-packages\\ipykernel_launcher.py:1: UserWarning: deprecated\n",
      "  \"\"\"Entry point for launching an IPython kernel.\n"
     ]
    }
   ],
   "source": [
    "warnings.warn(\"deprecated\", UserWarning)"
   ]
  },
  {
   "cell_type": "markdown",
   "metadata": {},
   "source": [
    "#### 2.6. FutureWarning.\n",
    "\n",
    "For warnings about deprecated features when those warnings are intended for end users."
   ]
  },
  {
   "cell_type": "code",
   "execution_count": 20,
   "metadata": {},
   "outputs": [
    {
     "name": "stderr",
     "output_type": "stream",
     "text": [
      "C:\\Users\\Admin\\.conda\\envs\\projecy\\lib\\site-packages\\ipykernel_launcher.py:1: FutureWarning: deprecated\n",
      "  \"\"\"Entry point for launching an IPython kernel.\n"
     ]
    }
   ],
   "source": [
    "warnings.warn(\"deprecated\", FutureWarning)"
   ]
  },
  {
   "cell_type": "markdown",
   "metadata": {},
   "source": [
    "#### 2.7. ImportWarning\n",
    "\n",
    "For warnings triggered `during the process of importing a module`."
   ]
  },
  {
   "cell_type": "code",
   "execution_count": 21,
   "metadata": {},
   "outputs": [
    {
     "name": "stderr",
     "output_type": "stream",
     "text": [
      "C:\\Users\\Admin\\.conda\\envs\\projecy\\lib\\site-packages\\ipykernel_launcher.py:1: ImportWarning: deprecated\n",
      "  \"\"\"Entry point for launching an IPython kernel.\n"
     ]
    }
   ],
   "source": [
    "warnings.warn(\"deprecated\", ImportWarning)"
   ]
  },
  {
   "cell_type": "markdown",
   "metadata": {},
   "source": [
    "#### 2.8. UnicodeWarning\n",
    "\n",
    "For warnings related to `Unicode`, "
   ]
  },
  {
   "cell_type": "code",
   "execution_count": 22,
   "metadata": {},
   "outputs": [
    {
     "name": "stderr",
     "output_type": "stream",
     "text": [
      "C:\\Users\\Admin\\.conda\\envs\\projecy\\lib\\site-packages\\ipykernel_launcher.py:1: UnicodeWarning: deprecated\n",
      "  \"\"\"Entry point for launching an IPython kernel.\n"
     ]
    }
   ],
   "source": [
    "warnings.warn(\"deprecated\", UnicodeWarning)"
   ]
  },
  {
   "cell_type": "markdown",
   "metadata": {},
   "source": [
    "#### 2.9. BytesWarning\n",
    "\n",
    "This class is for warnings about bytes and buffer related problems, mostly related to conversion from str or comparing to str. "
   ]
  },
  {
   "cell_type": "code",
   "execution_count": 23,
   "metadata": {},
   "outputs": [
    {
     "name": "stderr",
     "output_type": "stream",
     "text": [
      "C:\\Users\\Admin\\.conda\\envs\\projecy\\lib\\site-packages\\ipykernel_launcher.py:1: BytesWarning: deprecated\n",
      "  \"\"\"Entry point for launching an IPython kernel.\n"
     ]
    }
   ],
   "source": [
    "warnings.warn(\"deprecated\", BytesWarning)"
   ]
  },
  {
   "cell_type": "markdown",
   "metadata": {},
   "source": [
    "### 3. Using `try`, `raise`, `except` & `type_name_error` to built a warning of a function & class\n",
    "\n",
    "#### Exercise 3.1. Create the `exception errors`\n",
    "\n",
    "First, we use **`raise`** to create the `Name_of_Errors_Type`"
   ]
  },
  {
   "cell_type": "code",
   "execution_count": 32,
   "metadata": {},
   "outputs": [
    {
     "ename": "Exception",
     "evalue": "x should not exceed 5. The value of x was: 10",
     "output_type": "error",
     "traceback": [
      "\u001b[1;31m---------------------------------------------------------------------------\u001b[0m",
      "\u001b[1;31mException\u001b[0m                                 Traceback (most recent call last)",
      "\u001b[1;32m<ipython-input-32-3dcc1a597936>\u001b[0m in \u001b[0;36m<module>\u001b[1;34m\u001b[0m\n\u001b[0;32m      1\u001b[0m \u001b[0mx\u001b[0m \u001b[1;33m=\u001b[0m \u001b[1;36m10\u001b[0m\u001b[1;33m\u001b[0m\u001b[1;33m\u001b[0m\u001b[0m\n\u001b[0;32m      2\u001b[0m \u001b[1;32mif\u001b[0m \u001b[0mx\u001b[0m \u001b[1;33m>\u001b[0m \u001b[1;36m5\u001b[0m\u001b[1;33m:\u001b[0m\u001b[1;33m\u001b[0m\u001b[1;33m\u001b[0m\u001b[0m\n\u001b[1;32m----> 3\u001b[1;33m     \u001b[1;32mraise\u001b[0m \u001b[0mException\u001b[0m\u001b[1;33m(\u001b[0m\u001b[1;34m'x should not exceed 5. The value of x was: {}'\u001b[0m\u001b[1;33m.\u001b[0m\u001b[0mformat\u001b[0m\u001b[1;33m(\u001b[0m\u001b[0mx\u001b[0m\u001b[1;33m)\u001b[0m\u001b[1;33m)\u001b[0m\u001b[1;33m\u001b[0m\u001b[1;33m\u001b[0m\u001b[0m\n\u001b[0m",
      "\u001b[1;31mException\u001b[0m: x should not exceed 5. The value of x was: 10"
     ]
    }
   ],
   "source": [
    "x = 10\n",
    "if x > 5:\n",
    "    raise Exception('x should not exceed 5. The value of x was: {}'.format(x))"
   ]
  },
  {
   "cell_type": "markdown",
   "metadata": {},
   "source": [
    "For example; we will put this be `ValueError`"
   ]
  },
  {
   "cell_type": "code",
   "execution_count": 33,
   "metadata": {},
   "outputs": [
    {
     "ename": "ValueError",
     "evalue": "x should not exceed 5. The value of x was: 10",
     "output_type": "error",
     "traceback": [
      "\u001b[1;31m---------------------------------------------------------------------------\u001b[0m",
      "\u001b[1;31mValueError\u001b[0m                                Traceback (most recent call last)",
      "\u001b[1;32m<ipython-input-33-93d19fe3d143>\u001b[0m in \u001b[0;36m<module>\u001b[1;34m\u001b[0m\n\u001b[0;32m      1\u001b[0m \u001b[0mx\u001b[0m \u001b[1;33m=\u001b[0m \u001b[1;36m10\u001b[0m\u001b[1;33m\u001b[0m\u001b[1;33m\u001b[0m\u001b[0m\n\u001b[0;32m      2\u001b[0m \u001b[1;32mif\u001b[0m \u001b[0mx\u001b[0m \u001b[1;33m>\u001b[0m \u001b[1;36m5\u001b[0m\u001b[1;33m:\u001b[0m\u001b[1;33m\u001b[0m\u001b[1;33m\u001b[0m\u001b[0m\n\u001b[1;32m----> 3\u001b[1;33m     \u001b[1;32mraise\u001b[0m \u001b[0mValueError\u001b[0m\u001b[1;33m(\u001b[0m\u001b[1;34m'x should not exceed 5. The value of x was: {}'\u001b[0m\u001b[1;33m.\u001b[0m\u001b[0mformat\u001b[0m\u001b[1;33m(\u001b[0m\u001b[0mx\u001b[0m\u001b[1;33m)\u001b[0m\u001b[1;33m)\u001b[0m\u001b[1;33m\u001b[0m\u001b[1;33m\u001b[0m\u001b[0m\n\u001b[0m",
      "\u001b[1;31mValueError\u001b[0m: x should not exceed 5. The value of x was: 10"
     ]
    }
   ],
   "source": [
    "x = 10\n",
    "if x > 5:\n",
    "    raise ValueError('x should not exceed 5. The value of x was: {}'.format(x))"
   ]
  },
  {
   "cell_type": "markdown",
   "metadata": {},
   "source": [
    "Next; we will create a `Custom Exception` by define a new `class` of the `Name_of_Errors_Type`; for instance : `ValueNotInRangeError`"
   ]
  },
  {
   "cell_type": "code",
   "execution_count": 2,
   "metadata": {},
   "outputs": [
    {
     "name": "stdout",
     "output_type": "stream",
     "text": [
      "Enter salary amount: 908\n",
      "ValueNotInRangeError:  Salary is not in (5000, 15000) range\n"
     ]
    }
   ],
   "source": [
    "class ValueNotInRangeError(Exception):\n",
    "    \"\"\"Exception raised for errors in the input salary_value.\n",
    "\n",
    "    Attributes:\n",
    "        salary -- input salary which caused the error\n",
    "        message -- explanation of the error\n",
    "    \"\"\"\n",
    "\n",
    "    def __init__(self, salary, message=\"Salary is not in (5000, 15000) range\"):\n",
    "        self.salary = salary\n",
    "        self.message = message\n",
    "        super().__init__(self.message)\n",
    "\n",
    "def input_salary():\n",
    "    salary = int(input(\"Enter salary amount: \"))\n",
    "    if not 5000 < salary < 15000:\n",
    "        raise ValueNotInRangeError(salary)\n",
    "        \n",
    "try: input_salary()\n",
    "except ValueNotInRangeError as e:\n",
    "    print(\"ValueNotInRangeError: \", e)"
   ]
  },
  {
   "cell_type": "code",
   "execution_count": 29,
   "metadata": {},
   "outputs": [
    {
     "name": "stdout",
     "output_type": "stream",
     "text": [
      "Enter a number: 99\n",
      "This value is too large, try again!\n",
      "\n",
      "Enter a number: 1\n",
      "This value is too small, try again!\n",
      "\n",
      "Enter a number: 50\n",
      "This value is too large, try again!\n",
      "\n",
      "Enter a number: 20\n",
      "This value is too large, try again!\n",
      "\n",
      "Enter a number: 10\n",
      "Congratulations! You guessed it correctly.\n"
     ]
    }
   ],
   "source": [
    "# define Python user-defined exceptions\n",
    "class Error(Exception):\n",
    "    \"\"\"Base class for other exceptions\"\"\"\n",
    "    pass\n",
    "\n",
    "class ValueTooSmallError(Error):\n",
    "    \"\"\"Raised when the input value is too small\"\"\"\n",
    "    pass\n",
    "\n",
    "class ValueTooLargeError(Error):\n",
    "    \"\"\"Raised when the input value is too large\"\"\"\n",
    "    pass\n",
    "\n",
    "# you need to guess this number\n",
    "number = 10\n",
    "\n",
    "# user guesses a number until he/she gets it right\n",
    "while True:\n",
    "    try:\n",
    "        i_num = int(input(\"Enter a number: \"))\n",
    "        if i_num < number:\n",
    "            raise ValueTooSmallError\n",
    "        elif i_num > number:\n",
    "            raise ValueTooLargeError\n",
    "        break\n",
    "    except ValueTooSmallError:\n",
    "        print(\"This value is too small, try again!\")\n",
    "        print()\n",
    "    except ValueTooLargeError:\n",
    "        print(\"This value is too large, try again!\")\n",
    "        print()\n",
    "\n",
    "print(\"Congratulations! You guessed it correctly.\")"
   ]
  },
  {
   "cell_type": "markdown",
   "metadata": {},
   "source": [
    "#### Exercise 3.2. Define a `class` of `warning`"
   ]
  },
  {
   "cell_type": "code",
   "execution_count": 24,
   "metadata": {},
   "outputs": [
    {
     "name": "stdout",
     "output_type": "stream",
     "text": [
      "Enter some integer here: 9\n",
      "TaolaoWarning : test demo; just for fun! Tao lao warning: your binary_length must be in (10, 100) \n"
     ]
    }
   ],
   "source": [
    "class TaolaoWarning(UserWarning, ValueError):\n",
    "    def __init__(self, value, message=\"test demo; just for fun!: your binary_length must be in (10, 100) \"):\n",
    "        self.value = value\n",
    "        self.message = message\n",
    "        super().__init__(self.message)\n",
    "\n",
    "def test_func():\n",
    "    value = int(input(\"Enter some integer here: \"))\n",
    "    if not 10 < len(list(str(bin(value)))) < 100:\n",
    "        raise TaolaoWarning(value)\n",
    "        \n",
    "try: test_func()\n",
    "except TaolaoWarning as err: \n",
    "    print(\"TaolaoWarning :\", err)"
   ]
  },
  {
   "cell_type": "markdown",
   "metadata": {},
   "source": [
    "### 4. Reference.\n",
    "\n",
    "https://www.geeksforgeeks.org/built-exceptions-python/"
   ]
  }
 ],
 "metadata": {
  "kernelspec": {
   "display_name": "Python 3",
   "language": "python",
   "name": "python3"
  },
  "language_info": {
   "codemirror_mode": {
    "name": "ipython",
    "version": 3
   },
   "file_extension": ".py",
   "mimetype": "text/x-python",
   "name": "python",
   "nbconvert_exporter": "python",
   "pygments_lexer": "ipython3",
   "version": "3.7.7"
  },
  "toc": {
   "base_numbering": 1,
   "nav_menu": {},
   "number_sections": false,
   "sideBar": true,
   "skip_h1_title": false,
   "title_cell": "Table of Contents",
   "title_sidebar": "Contents",
   "toc_cell": false,
   "toc_position": {
    "height": "calc(100% - 180px)",
    "left": "10px",
    "top": "150px",
    "width": "461.264px"
   },
   "toc_section_display": true,
   "toc_window_display": true
  }
 },
 "nbformat": 4,
 "nbformat_minor": 4
}
