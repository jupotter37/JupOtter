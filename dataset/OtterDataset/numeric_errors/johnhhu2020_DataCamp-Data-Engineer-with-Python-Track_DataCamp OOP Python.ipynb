{
 "cells": [
  {
   "cell_type": "raw",
   "id": "d9de0e7f-a620-48b8-95f7-89f7b5f6de25",
   "metadata": {},
   "source": [
    "\n",
    "\n",
    "# Python Class: Object-Oriented Programming(OOP) Tutorial  DataCamp\n",
    "\n"
   ]
  },
  {
   "cell_type": "raw",
   "id": "8941dafb-7c46-43c8-bef2-122ad9d47485",
   "metadata": {},
   "source": [
    "## OOP Fundamentals\n",
    "\n",
    "In this chapter, you'll learn what object-oriented programming (OOP) is, how it differs from procedural-programming, and how it can be applied. You'll then define your own classes, and learn how to create methods, attributes, and constructors\n",
    "\n",
    "What is OOP?     50 xp\n",
    "OOP termininology     100 xp\n",
    "Exploring object interface     100 xp\n",
    "Class anatomy: attributes and methods     50 xp\n",
    "Understanding class definitions     100 xp\n",
    "Create your first class     100 xp\n",
    "Using attributes in class definition     100 xp\n",
    "Class anatomy: the __init__ constructor     50 xp\n",
    "Correct use of __init__     50 xp\n",
    "Add a class constructor     100 xp\n",
    "Write a class from scratch     100 xp"
   ]
  },
  {
   "cell_type": "code",
   "execution_count": null,
   "id": "5b480852-a4e6-40be-a13b-a06ef9db217f",
   "metadata": {},
   "outputs": [],
   "source": []
  },
  {
   "cell_type": "raw",
   "id": "678e7d47-af71-4ab1-8021-6c06c84f24e1",
   "metadata": {},
   "source": [
    "## Inheritance and Polymorphism\n",
    "\n",
    "Inheritance and polymorphism are the core concepts of OOP that enable efficient and consistent code reuse. Learn how to inherit from a class, customize and redefine methods, and review the differences between class-level data and instance-level data\n",
    "\n",
    "Instance and class data     50 xp\n",
    "Class-level attributes     100 xp\n",
    "Changing class attributes     100 xp\n",
    "Alternative constructors     100 xp\n",
    "Class inheritance     50 xp\n",
    "Understanding inheritance     100 xp\n",
    "Create a subclass     100 xp\n",
    "Customizing functionality via inheritance     50 xp\n",
    "Method inheritance     100 xp\n",
    "Inheritance of class attributes     100 xp\n",
    "Customizing a DataFrame     100 xp"
   ]
  },
  {
   "cell_type": "code",
   "execution_count": null,
   "id": "34ccc3da-8387-4a89-a8b0-4edfc26122cf",
   "metadata": {},
   "outputs": [],
   "source": []
  },
  {
   "cell_type": "raw",
   "id": "50f118e4-b8e0-4b85-88f3-2c52f19f230a",
   "metadata": {},
   "source": [
    "## Integrating with Standard Python\n",
    "\n",
    "In this chapter, you'll learn how to make sure that objects that store the same data are considered equal, how to define and customize string representations of objects, and even how to create new error types. Through interactive exercises, you’ll learn how to further customize your classes to make them work more like standard Python data types.\n",
    "\n",
    "Operator overloading: comparison     50 xp\n",
    "Overloading equality     100 xp\n",
    "Checking class equality     100 xp\n",
    "Comparison and inheritance     100 xp\n",
    "Operator overloading: string representation     50 xp\n",
    "String formatting review     100 xp\n",
    "String representation of objects     100 xp\n",
    "Exceptions     50 xp\n",
    "Catching exceptions     100 xp\n",
    "Custom exceptions     100 xp\n",
    "Handling exception hierarchies     100 xp"
   ]
  },
  {
   "cell_type": "code",
   "execution_count": null,
   "id": "a1df5344-fcc7-4710-bd52-29f7b1d30694",
   "metadata": {},
   "outputs": [],
   "source": []
  },
  {
   "cell_type": "raw",
   "id": "8e6fb338-c087-4908-95c4-c985c34d5c23",
   "metadata": {},
   "source": [
    "## Best Practices of Class Design\n",
    "\n",
    "How do you design classes for inheritance? Does Python have private attributes? Is it possible to control attribute access? You'll find answers to these questions (and more) as you learn class design best practices.\n",
    "\n",
    "Designing for inheritance and polymorphism     50 xp\n",
    "Polymorphic methods     50 xp\n",
    "Square and rectangle     100 xp\n",
    "Managing data access: private attributes     50 xp\n",
    "Attribute naming conventions     100 xp\n",
    "Using internal attributes     100 xp\n",
    "Properties     50 xp\n",
    "What do properties do?     50 xp\n",
    "Create and set properties     100 xp\n",
    "Read-only properties     100 xp\n",
    "Congratulations!     50 xp"
   ]
  },
  {
   "cell_type": "code",
   "execution_count": null,
   "id": "c8c9618a-af05-4edd-891b-01b205344e1f",
   "metadata": {},
   "outputs": [],
   "source": []
  },
  {
   "cell_type": "code",
   "execution_count": 1,
   "id": "8669301a-d936-4f58-a2de-196ed0dd3c1d",
   "metadata": {},
   "outputs": [],
   "source": [
    "class dog:\n",
    "    def __init__(self):\n",
    "        pass"
   ]
  },
  {
   "cell_type": "markdown",
   "id": "12180767-c93a-4bf4-bed4-ad6d974748e6",
   "metadata": {
    "tags": []
   },
   "source": [
    "\n",
    "## Instantiate an object"
   ]
  },
  {
   "cell_type": "code",
   "execution_count": 2,
   "id": "8ad96fea-40a4-4559-9cf3-4654af62b729",
   "metadata": {},
   "outputs": [
    {
     "name": "stdout",
     "output_type": "stream",
     "text": [
      "<__main__.dog object at 0x7f4ea5013ee0>\n"
     ]
    }
   ],
   "source": [
    "ozzy = dog()\n",
    "print(ozzy)"
   ]
  },
  {
   "cell_type": "markdown",
   "id": "7dd6c906-103e-468b-acc8-a4cca86ce8ea",
   "metadata": {},
   "source": [
    "\n",
    "### Adding attributes to a class"
   ]
  },
  {
   "cell_type": "code",
   "execution_count": 3,
   "id": "e410a4c5-8fd6-4efb-9fbe-51c2b28f33d3",
   "metadata": {},
   "outputs": [],
   "source": [
    "class dog:\n",
    "    def __init__(self,name,age):\n",
    "        self.name = name\n",
    "        self.age = age"
   ]
  },
  {
   "cell_type": "code",
   "execution_count": 4,
   "id": "77a53763-10f9-4ac6-b65e-acdc5dad5c85",
   "metadata": {},
   "outputs": [
    {
     "name": "stdout",
     "output_type": "stream",
     "text": [
      "2\n"
     ]
    }
   ],
   "source": [
    "ozzy = dog('Ozzy',2)\n",
    "print(ozzy.age)"
   ]
  },
  {
   "cell_type": "code",
   "execution_count": 5,
   "id": "699102ce-518b-460a-b4dc-d6291f09166c",
   "metadata": {},
   "outputs": [
    {
     "name": "stdout",
     "output_type": "stream",
     "text": [
      "Ozzy is 2 years old\n"
     ]
    }
   ],
   "source": [
    "#print(ozzy.name + ' is ' + ozzy.age + ' years old')\n",
    "print(ozzy.name + ' is ' + str(ozzy.age) + ' years old')"
   ]
  },
  {
   "cell_type": "markdown",
   "id": "6f25dd85-2d5a-4fa4-9b50-c105f79a58ec",
   "metadata": {},
   "source": [
    "\n",
    "## Defing methods in class"
   ]
  },
  {
   "cell_type": "code",
   "execution_count": 6,
   "id": "e39c4ae5-1f27-4b55-8a6e-9fe87753bd3d",
   "metadata": {},
   "outputs": [],
   "source": [
    "class dog:\n",
    "    def __init__(self,name,age):\n",
    "        self.name = name\n",
    "        self.age = age\n",
    "        \n",
    "    def bark(self):\n",
    "        print('Bark, Bark')"
   ]
  },
  {
   "cell_type": "code",
   "execution_count": 7,
   "id": "858ef1f7-0ea0-4abc-86e0-5b1891b686a2",
   "metadata": {},
   "outputs": [
    {
     "data": {
      "text/plain": [
       "<function __main__.dog.bark(self)>"
      ]
     },
     "execution_count": 7,
     "metadata": {},
     "output_type": "execute_result"
    }
   ],
   "source": [
    "#dog.bark()\n",
    "dog.bark"
   ]
  },
  {
   "cell_type": "code",
   "execution_count": 8,
   "id": "e4632e9e-899b-4600-b22a-9ca23d1f0567",
   "metadata": {},
   "outputs": [
    {
     "name": "stdout",
     "output_type": "stream",
     "text": [
      "Bark, Bark\n"
     ]
    }
   ],
   "source": [
    "ozzy = dog('Ozzy',2)\n",
    "ozzy.bark()"
   ]
  },
  {
   "cell_type": "markdown",
   "id": "dcd07901-0d4c-42ab-adc7-1f4573c98dc9",
   "metadata": {},
   "source": [
    "### Notice here when calling a methods, the parentheses .bark() are always included but its not applicable on attributes like dog.name or dog.age\n"
   ]
  },
  {
   "cell_type": "code",
   "execution_count": 5,
   "id": "2b3a3cb3-76a8-4754-840a-a4687ecf368a",
   "metadata": {},
   "outputs": [],
   "source": [
    "class dog:\n",
    "    def __init__(self):\n",
    "        pass\n",
    "    \n",
    "    def bark(self):\n",
    "        print('Bark, Bark')"
   ]
  },
  {
   "cell_type": "code",
   "execution_count": 6,
   "id": "c9607ae4-4556-4d88-aa7f-7c87742425bd",
   "metadata": {},
   "outputs": [
    {
     "name": "stdout",
     "output_type": "stream",
     "text": [
      "Bark, Bark\n"
     ]
    }
   ],
   "source": [
    "oo = dog()\n",
    "oo.bark()"
   ]
  },
  {
   "cell_type": "code",
   "execution_count": 7,
   "id": "96beae9d-a611-41d0-89ad-8f7ed3bded49",
   "metadata": {},
   "outputs": [
    {
     "data": {
      "text/plain": [
       "<function __main__.dog.bark(self)>"
      ]
     },
     "execution_count": 7,
     "metadata": {},
     "output_type": "execute_result"
    }
   ],
   "source": [
    "dog.bark"
   ]
  },
  {
   "cell_type": "code",
   "execution_count": 9,
   "id": "05b85d07-c755-4ded-a3fa-3fca7e0ef2b4",
   "metadata": {},
   "outputs": [
    {
     "name": "stdout",
     "output_type": "stream",
     "text": [
      "Bark, Bark\n"
     ]
    }
   ],
   "source": [
    "dog().bark()"
   ]
  },
  {
   "cell_type": "markdown",
   "id": "d41cc30a-cacc-4e36-bd31-e592f89471d8",
   "metadata": {
    "tags": []
   },
   "source": [
    "\n",
    "## Recall what have learned"
   ]
  },
  {
   "cell_type": "code",
   "execution_count": 12,
   "id": "93810e8f-bf37-4ee8-aac7-e2df15e3fb52",
   "metadata": {},
   "outputs": [],
   "source": [
    "class Dog:\n",
    "    def __init__(self,name,age):\n",
    "        self.name = name\n",
    "        self.age = age\n",
    "    \n",
    "    def bark(self):\n",
    "        print('Bark, Bark')\n",
    "    \n",
    "    def dog_info(self):\n",
    "        print(self.name + ' is ' + str(self.age) + ' years old')\n",
    "\n",
    "ozzy = Dog('Ozzy',2)\n",
    "skippy = Dog('Skippy',12)\n",
    "filou = Dog('Filou',8)\n"
   ]
  },
  {
   "cell_type": "code",
   "execution_count": 13,
   "id": "9f8d12b9-2f21-40ed-914b-5a5f950c512d",
   "metadata": {},
   "outputs": [
    {
     "name": "stdout",
     "output_type": "stream",
     "text": [
      "Bark, Bark\n"
     ]
    }
   ],
   "source": [
    "ozzy.bark()"
   ]
  },
  {
   "cell_type": "code",
   "execution_count": 14,
   "id": "ed021117-bcde-4925-8790-0bf796ed21e3",
   "metadata": {},
   "outputs": [
    {
     "name": "stdout",
     "output_type": "stream",
     "text": [
      "Ozzy is 2 years old\n"
     ]
    }
   ],
   "source": [
    "ozzy.dog_info()"
   ]
  },
  {
   "cell_type": "code",
   "execution_count": 15,
   "id": "4215534d-e8e5-4f1c-a6f9-5bbe41603c8b",
   "metadata": {},
   "outputs": [
    {
     "name": "stdout",
     "output_type": "stream",
     "text": [
      "Ozzy is 3 years old\n"
     ]
    }
   ],
   "source": [
    "ozzy.age = 3\n",
    "ozzy.dog_info()"
   ]
  },
  {
   "cell_type": "code",
   "execution_count": 16,
   "id": "481f002f-56ce-442f-91c0-6e7262ab3631",
   "metadata": {},
   "outputs": [
    {
     "data": {
      "text/plain": [
       "'Ozzy'"
      ]
     },
     "execution_count": 16,
     "metadata": {},
     "output_type": "execute_result"
    }
   ],
   "source": [
    "ozzy.name"
   ]
  },
  {
   "cell_type": "code",
   "execution_count": 17,
   "id": "669c0405-427d-43e6-8950-d1e5190b150b",
   "metadata": {},
   "outputs": [
    {
     "name": "stdout",
     "output_type": "stream",
     "text": [
      "Ozzy\n"
     ]
    }
   ],
   "source": [
    "print(ozzy.name)"
   ]
  },
  {
   "cell_type": "code",
   "execution_count": 18,
   "id": "22f50490-60f0-4377-ba3c-bdd3f028e98d",
   "metadata": {},
   "outputs": [
    {
     "name": "stdout",
     "output_type": "stream",
     "text": [
      "Ozzy is 2 years old\n"
     ]
    }
   ],
   "source": [
    "class Dog:\n",
    "    def __init__(self,name,age):\n",
    "        self.name = name\n",
    "        self.age = age\n",
    "    \n",
    "    def bark(self):\n",
    "        print('Bark, Bark')\n",
    "    \n",
    "    def dog_info(self):\n",
    "        print(self.name + ' is ' + str(self.age) + ' years old')\n",
    "    \n",
    "    def birthday(self):\n",
    "        self.age += 1\n",
    "\n",
    "ozzy = Dog('Ozzy',2)\n",
    "ozzy.dog_info()"
   ]
  },
  {
   "cell_type": "code",
   "execution_count": 19,
   "id": "8602ba9b-721e-4462-b784-d7c01887a01a",
   "metadata": {},
   "outputs": [
    {
     "name": "stdout",
     "output_type": "stream",
     "text": [
      "Ozzy is 3 years old\n"
     ]
    }
   ],
   "source": [
    "ozzy.birthday()\n",
    "ozzy.dog_info()"
   ]
  },
  {
   "cell_type": "markdown",
   "id": "a953488f-7dd9-4b24-99ee-652c5f077c43",
   "metadata": {},
   "source": [
    "\n",
    "## Passing arguments to a method"
   ]
  },
  {
   "cell_type": "code",
   "execution_count": 20,
   "id": "702ee88b-982d-4bc6-952f-dfc3058362a8",
   "metadata": {},
   "outputs": [],
   "source": [
    "class Dog:\n",
    "    def __init__(self,name,age):\n",
    "        self.name = name\n",
    "        self.age = age\n",
    "    \n",
    "    def bark(self):\n",
    "        print('Bark Bark')\n",
    "    \n",
    "    def dog_info(self):\n",
    "        print(self.name + ' is ' + str(self.age) + ' years old')\n",
    "    \n",
    "    def birthday(self):\n",
    "        self.age += 1\n",
    "    \n",
    "    def setBuddy(self,buddy):\n",
    "        self.buddy = buddy\n",
    "        buddy.buddy = self\n",
    "\n",
    "ozzy = Dog('Ozzy',2)\n",
    "filou = Dog('Filou',8)"
   ]
  },
  {
   "cell_type": "code",
   "execution_count": 21,
   "id": "1e25a26d-86f8-44e7-a8ac-699fd39e3acc",
   "metadata": {},
   "outputs": [
    {
     "name": "stdout",
     "output_type": "stream",
     "text": [
      "8\n",
      "Filou\n",
      "2\n",
      "Ozzy\n"
     ]
    }
   ],
   "source": [
    "ozzy.setBuddy(filou)\n",
    "\n",
    "print(ozzy.buddy.age)\n",
    "print(ozzy.buddy.name)\n",
    "\n",
    "print(filou.buddy.age)\n",
    "print(filou.buddy.name)"
   ]
  },
  {
   "cell_type": "code",
   "execution_count": 22,
   "id": "c9ed3fd5-1a79-4a58-81a9-af1ea7ea16f2",
   "metadata": {},
   "outputs": [
    {
     "name": "stdout",
     "output_type": "stream",
     "text": [
      "Filou is 8 years old\n"
     ]
    }
   ],
   "source": [
    "ozzy.buddy.dog_info()"
   ]
  },
  {
   "cell_type": "code",
   "execution_count": 1,
   "id": "f4b8b394-8fdf-4fd4-b51b-ab07ca402036",
   "metadata": {},
   "outputs": [
    {
     "name": "stdout",
     "output_type": "stream",
     "text": [
      "10\n"
     ]
    },
    {
     "data": {
      "text/plain": [
       "10"
      ]
     },
     "execution_count": 1,
     "metadata": {},
     "output_type": "execute_result"
    }
   ],
   "source": [
    "# Create a Player class\n",
    "class Player:\n",
    "    MAX_POSITION = 10\n",
    "\n",
    "    def __init__(self, position=0):\n",
    "        self.position = position\n",
    "\n",
    "\n",
    "# Print Player.MAX_POSITION       \n",
    "print(Player.MAX_POSITION)\n",
    "\n",
    "# Create a player p and print its MAX_POSITITON\n",
    "p = Player()\n",
    "p.MAX_POSITION"
   ]
  },
  {
   "cell_type": "code",
   "execution_count": 3,
   "id": "cd90e14c-c42e-4c01-813d-cb61db839504",
   "metadata": {},
   "outputs": [
    {
     "name": "stdout",
     "output_type": "stream",
     "text": [
      "10\n",
      "10\n"
     ]
    }
   ],
   "source": [
    "# Create a Player class\n",
    "class Player:\n",
    "    MAX_POSITION = 10\n",
    "    \n",
    "    def __init__(self):\n",
    "        self.position = 0\n",
    "\n",
    "# Print Player.MAX_POSITION  \n",
    "print(Player.MAX_POSITION)   \n",
    "\n",
    "# Create a player p and print its MAX_POSITITON\n",
    "p = Player()\n",
    "print(p.MAX_POSITION)"
   ]
  },
  {
   "cell_type": "code",
   "execution_count": 4,
   "id": "ee112dc0-5a4c-4e87-ad41-08111acf7a0e",
   "metadata": {},
   "outputs": [
    {
     "name": "stdout",
     "output_type": "stream",
     "text": [
      "MAX_SPEED of p1 and p2 before assignment:\n",
      "3\n",
      "3\n",
      "MAX_SPEED of p1 and p2 after assignment:\n",
      "7\n",
      "3\n",
      "MAX_SPEED of Player:\n",
      "3\n"
     ]
    }
   ],
   "source": [
    "# Create Players p1 and p2\n",
    "class Player:\n",
    "    MAX_SPEED = 3\n",
    "    MAX_POSITION = 10\n",
    "\n",
    "    def __init__(self,position = 0):\n",
    "        self.position = position\n",
    "\n",
    "p1 = Player()\n",
    "p2 = Player()\n",
    "\n",
    "\n",
    "print(\"MAX_SPEED of p1 and p2 before assignment:\")\n",
    "# Print p1.MAX_SPEED and p2.MAX_SPEED\n",
    "print(p1.MAX_SPEED)\n",
    "print(p2.MAX_SPEED)\n",
    "\n",
    "# Assign 7 to p1.MAX_SPEED\n",
    "p1.MAX_SPEED = 7\n",
    "\n",
    "print(\"MAX_SPEED of p1 and p2 after assignment:\")\n",
    "# Print p1.MAX_SPEED and p2.MAX_SPEED\n",
    "print(p1.MAX_SPEED)\n",
    "print(p2.MAX_SPEED)\n",
    "\n",
    "print(\"MAX_SPEED of Player:\")\n",
    "# Print Player.MAX_SPEED\n",
    "print(Player.MAX_SPEED)"
   ]
  },
  {
   "cell_type": "code",
   "execution_count": 5,
   "id": "0fb853c0-81e0-4f12-bb29-352c98d3c0a4",
   "metadata": {},
   "outputs": [
    {
     "name": "stdout",
     "output_type": "stream",
     "text": [
      "MAX_SPEED of p1 and p2 before assignment:\n",
      "3\n",
      "3\n",
      "MAX_SPEED of p1 and p2 after assignment:\n",
      "7\n",
      "3\n",
      "MAX_SPEED of Player:\n",
      "3\n"
     ]
    }
   ],
   "source": [
    "# Create Players p1 and p2\n",
    "p1, p2 = Player(), Player()\n",
    "\n",
    "print(\"MAX_SPEED of p1 and p2 before assignment:\")\n",
    "# Print p1.MAX_SPEED and p2.MAX_SPEED\n",
    "print(p1.MAX_SPEED)\n",
    "print(p2.MAX_SPEED)\n",
    "\n",
    "# Assign 7 to p1.MAX_SPEED\n",
    "p1.MAX_SPEED = 7\n",
    "\n",
    "print(\"MAX_SPEED of p1 and p2 after assignment:\")\n",
    "# Print p1.MAX_SPEED and p2.MAX_SPEED\n",
    "print(p1.MAX_SPEED)\n",
    "print(p2.MAX_SPEED)\n",
    "\n",
    "print(\"MAX_SPEED of Player:\")\n",
    "# Print Player.MAX_SPEED\n",
    "print(Player.MAX_SPEED)"
   ]
  },
  {
   "cell_type": "markdown",
   "id": "c1d43b85-df68-4fe3-9569-420334705e74",
   "metadata": {},
   "source": [
    "\n",
    "## Instance and class data\n"
   ]
  },
  {
   "cell_type": "markdown",
   "id": "553ac56a-549e-433c-a51b-3c5f549f89f8",
   "metadata": {},
   "source": [
    "## class attributes  &  class mathods\n",
    "\n",
    "**remember the Employee class we defined, \n",
    "it had attributes like name and salary, \n",
    "and we were able to assign specific value to them for each new instance**\n",
    "\n",
    "### there attributes are called  instance sttributes\n",
    "**we use self to bind them to a particular instance\n",
    "\n"
   ]
  },
  {
   "cell_type": "code",
   "execution_count": null,
   "id": "f22abd35-ffeb-441f-88bb-53d5f121ec66",
   "metadata": {},
   "outputs": [],
   "source": [
    "class Employee:\n",
    "    def __init__(self,name,salary):\n",
    "        self.name,self.salary = name,salary\n",
    "        \n",
    "        \n",
    "emp1 = Employee('Jhu',6000) # echa new instance can have assign value\n",
    "emp2 = Employee('Hhu',8000)"
   ]
  },
  {
   "cell_type": "markdown",
   "id": "626117f4-c602-4c14-8e7e-25ee6de09eec",
   "metadata": {},
   "source": [
    "## Class-level data\n",
    "\n",
    "**data shared among all instance of a class\n",
    "\n",
    "\n",
    "#### we can use this attributes inside the class, only prepended by the class name\n",
    "#### not use self to define class attributes, use ClassName.ATTR_name to access class attribute\n",
    "#### this min_salary variable will be shared among all the instance of the employee class\n",
    "#### we can access it like any other attribute from an object instance, and the value\n",
    "#### will be same across instances"
   ]
  },
  {
   "cell_type": "code",
   "execution_count": 78,
   "id": "d471d4c5-5509-4bdc-94c7-ccd5a88542a5",
   "metadata": {},
   "outputs": [
    {
     "name": "stdout",
     "output_type": "stream",
     "text": [
      "John Hhu 87000\n"
     ]
    },
    {
     "data": {
      "text/plain": [
       "Manager: (name: John Hhu, salary: 100000, bonus: 10000)"
      ]
     },
     "execution_count": 78,
     "metadata": {},
     "output_type": "execute_result"
    }
   ],
   "source": [
    "class Employee:\n",
    "    MIN_SALARY = 30000  # <= a class attribute, shared among all Employee instances\n",
    "\n",
    "    def __init__(self, name, salary=MIN_SALARY):\n",
    "        self.name = name\n",
    "        if salary >= Employee.MIN_SALARY:\n",
    "            self.salary = salary\n",
    "        else:\n",
    "            self.salary = Employee.MIN_SALARY\n",
    "        \n",
    "    def give_raise(self, amount):\n",
    "        self.salary += amount      \n",
    "        \n",
    "        \n",
    "# Define a new class Manager inheriting from Employee\n",
    "class Manager(Employee):\n",
    "    MIN_SALARY = 87000\n",
    "    # the main use case for class attributes is global constance that are related to class\n",
    "    \n",
    "    def __init__(self, name, salary = Manager.MIN_SALARY, bonus=10000):\n",
    "        Employee.__init__(self,name, salary)\n",
    "        self.name, self.salary, self.bonus = name, salary, bonus\n",
    "        \n",
    "    def give_raise(self,bonus):  # use method inheritance from Employee class ?\n",
    "        self.salary += bonus\n",
    "        \n",
    "    def __repr__(self):\n",
    "        return \"Manager: (name: {name}, salary: {salary}, bonus: {bonus})\"\\\n",
    "    .format(name=self.name, salary=self.salary, bonus=self.bonus)\n",
    "\n",
    "        \n",
    "# Define a Manager object\n",
    "mng1 = Manager('Debbie Lashko',86500)\n",
    "mng2 = Manager('John Hhu',100000)\n",
    "mng3 = Manager('Uuh')\n",
    "emp1 = Employee('John P',200000)\n",
    "\n",
    "mng1.MIN_SALARY\n",
    "emp1.MIN_SALARY\n",
    "print(mng2.name, mng2.MIN_SALARY)\n",
    "mng3.salary\n",
    "mng3.bonus\n",
    "mng2"
   ]
  },
  {
   "cell_type": "code",
   "execution_count": null,
   "id": "0a8cb4a8-be35-4604-822f-1bc0a2f2d10a",
   "metadata": {},
   "outputs": [],
   "source": []
  },
  {
   "cell_type": "markdown",
   "id": "46c154a3-7974-4343-a62a-72e79dfe7678",
   "metadata": {},
   "source": [
    "## Exploring object interface\n",
    "\n",
    "The best way to learn how to write object-oriented code is to study the design of existing classes. You've already learned about exploration tools like type() and dir().\n",
    "\n",
    "Another important function is help(): calling help(x) in the console will show the documentation for the object or class x.\n",
    "\n",
    "Most real world classes have many methods and attributes, and it is easy to get lost, so in this exercise, you will start with something simpler. We have defined a class, and created an object of that class called mystery. Explore the object in the console using the tools that you learned.\n",
    "\n",
    "\n",
    "\n",
    "Question\n",
    "\n",
    "What class does the mystery object have?\n",
    "Possible Answers\n",
    "\n",
    "    numpy.ndarray\n",
    "    __main__.Employee\n",
    "    pandas.core.DataFrame\n",
    "    salesforce.Customer\n",
    "    It doesn't have a class\n",
    "    \n",
    "    \n",
    "\n",
    "\n",
    "\n",
    "So the mystery object is an Employee! Explore it in the console further to find out what attributes it has.\n",
    "\n",
    "    Print the mystery employee's name attribute.\n",
    "    Print the employee's salary.\n",
    "\n",
    "\n",
    "\n",
    "\n",
    "\n",
    "Natasha -- our mystery employee -- has their salary stored in the attribute .salary.\n",
    "\n",
    "    Give Natasha a raise of $2500 by using a suitable method (use help() again if you need to!).\n",
    "    Print the salary again.\n"
   ]
  },
  {
   "cell_type": "markdown",
   "id": "ca29f817-7a2d-4334-8116-59fa546c5027",
   "metadata": {},
   "source": [
    "help(mystery)\n",
    "Help on Employee in module __main__ object:\n",
    "\n",
    "class Employee(builtins.object)\n",
    " |  Class representing a company employee.\n",
    " |  \n",
    " |  Attributes\n",
    " |   ----------\n",
    " |   name : str \n",
    " |       Employee's name        \n",
    " |   email : str, default None\n",
    " |       Employee's email\n",
    " |   salary : float, default None\n",
    " |       Employee's salary\n",
    " |   rank : int, default 5\n",
    " |       The rank of the employee in the company hierarchy (1 -- CEO, 2 -- direct reports of CEO, 3 -- direct reports of direct reports of CEO etc). Cannot be None if the employee is current.\n",
    " |  \n",
    " |  Methods defined here:\n",
    " |  \n",
    " |  __init__(self, name, email=None, salary=None, rank=5)\n",
    " |      Create an Employee object\n",
    " |  \n",
    " |  give_raise(self, amount)\n",
    " |      Raise employee's salary by a certain `amount`. Can only be used with current employees.\n",
    " |      \n",
    " |      Example usage:\n",
    " |        # emp is an Employee object\n",
    " |        emp.give_raise(1000)\n",
    " |  \n",
    " |  promote(self)\n",
    " |      Promote an employee to the next level of the company hierarchy. Decreases the rank of the employee by 1. Can only be used on current employeed who are not at the top of the hierarchy.\n",
    " |      \n",
    " |      Example usage:\n",
    " |          # emp is an Employee object\n",
    " |          emp.promote()\n",
    " |  \n",
    " |  terminate(self)\n",
    " |      Terminate the employee. Sets salary and rank to None..\n",
    " |      \n",
    " |      Example usage:\n",
    " |         # emp is an Employee object\n",
    " |         emp.terminate()\n",
    " |  \n",
    " |  ----------------------------------------------------------------------\n",
    " |  Data descriptors defined here:\n",
    " |  \n",
    " |  __dict__\n",
    " |      dictionary for instance variables (if defined)\n",
    " |  \n",
    " |  __weakref__\n",
    " |      list of weak references to the object (if defined)\n"
   ]
  },
  {
   "cell_type": "code",
   "execution_count": 227,
   "id": "2ecdfd5b-f4ca-4116-9fc7-30c1e559b927",
   "metadata": {},
   "outputs": [
    {
     "name": "stdout",
     "output_type": "stream",
     "text": [
      "I am customer: John\n"
     ]
    }
   ],
   "source": [
    "## Class anatomy: attributes and methods\n",
    "\n",
    "\n",
    "\n",
    "\n",
    "class Customer:\n",
    "    \n",
    "    def identify(self, name):    \n",
    "        # add a method to a class, method are function, just like regular python function, \n",
    "        # but with one exception, the special self argument that every method will have as the \n",
    "        # first argument. \n",
    "        \n",
    "        print('I am customer: ' + name)\n",
    "\n",
    "\n",
    "        \n",
    "c1 = Customer()   # <= Object of the class - Customer\n",
    "c1.identify('John')    # using object dot method syntax to pass the desired name and get output\n",
    "\n",
    "\n",
    "# we want to create object that actually atore data and operate on it, in other words, \n",
    "# have attributes and methods. "
   ]
  },
  {
   "cell_type": "markdown",
   "id": "d7e13cee-c8a6-47c9-abf3-94baa97d274b",
   "metadata": {},
   "source": [
    "## Classes are templets, object of a class dont yet exist when a class ia being defined, \n",
    "\n",
    "\n",
    "## but we offen need a way to refer to the data of a particular object within class definition. \n",
    "\n",
    "\n",
    "## this is the purpose of self, its a stand-in for the future object. object reference\n",
    "\n",
    "**thats why every method should have the self argument -- so we could use it to access attributes and call other methods from within the class feninition even when no objcts were created yet. \n",
    "\n",
    "\n",
    "python will handle self, when the method is called from an object using the dot syntax.  in fact using object dot method is equivalent to passing that object an an argument. \n",
    "\n",
    "**cust.identify('John')  will be interpreted as Customer.identify(cust, 'John')\n",
    "\n",
    "\n",
    "\n",
    "thats why we dont specify it explicitly when calling the method from an existing object.  \n",
    "\n",
    "\n",
    "\n",
    "\n",
    "## by the principle of OOP, the data descriping the state of the object should be bounded into the object. \n",
    " **for example, customer name should be an attribute of a customer object, instead of a parameter passed to a method.  \n",
    " \n",
    " \n",
    "to create an attribute of the Customer class called name, all we need to do is to assign something to self dot name. \n",
    "\n",
    "self is a stand-in for object, so self dot attribute should be remind you the object dot attribyte syntax\n",
    "\n",
    "when we create a customer object, it doesnt yet have a name attribute\n",
    "\n",
    "but after the set_name method is called, the name attribute is created, and we can then access it though dot name"
   ]
  },
  {
   "cell_type": "code",
   "execution_count": 230,
   "id": "3d61c2b1-e55d-4b0a-800b-602873ccd418",
   "metadata": {},
   "outputs": [
    {
     "name": "stdout",
     "output_type": "stream",
     "text": [
      "John\n"
     ]
    }
   ],
   "source": [
    "class Customer:\n",
    "    \n",
    "    # set the name sttribute of an object  to new_name\n",
    "    def set_name(self, new_name):\n",
    "        \n",
    "        # create an attribute by assigning a value\n",
    "        self.name = new_name     # objcet.name\n",
    "        \n",
    "        \n",
    "        \n",
    "cust = Customer()  # <= dot name doent exist here yet\n",
    "cust.set_name('John')  # <= .name is created, and set to 'John'\n",
    "print(cust.name)  # <= object.name can be accessed\n"
   ]
  },
  {
   "cell_type": "code",
   "execution_count": 235,
   "id": "3dd93c8a-405a-4a0d-b76d-fbf2ad8dd651",
   "metadata": {},
   "outputs": [
    {
     "name": "stdout",
     "output_type": "stream",
     "text": [
      "I am cuatomer: JJ\n"
     ]
    }
   ],
   "source": [
    "class Customer:\n",
    "    \n",
    "    def set_name(self, new_name):\n",
    "        self.name = new_name\n",
    "        \n",
    "        \n",
    "    def identify(self):\n",
    "        print('I am cuatomer: ' + self.name)\n",
    "        \n",
    "        \n",
    "        \n",
    "        \n",
    "cust11 = Customer()\n",
    "cust11.set_name('JJ')\n",
    "\n",
    "cust11.identify()"
   ]
  },
  {
   "cell_type": "markdown",
   "id": "46efbace-302f-4390-84a4-4e2ae85c1593",
   "metadata": {},
   "source": [
    "## Create your first class\n",
    "\n",
    "Time to write your first class! In this exercise, you'll start building the Employee class you briefly explored in the previous lesson. You'll start by creating methods that set attributes, and then add a few methods that manipulate them.\n",
    "\n",
    "As mentioned in the first video, an object-oriented approach is most useful when your code involves complex interactions of many objects. In real production code, classes can have dozens of attributes and methods with complicated logic, but the underlying structure is the same as with the most simple class.\n",
    "\n",
    "Your classes in this course will only have a few attributes and short methods, but the organizational principles behind the them will be directly translatable to more complicated code.\n",
    "\n",
    "\n",
    "\n",
    "\n",
    "\n",
    "\n",
    "    Create an empty class Employee.\n",
    "    Create an object emp of the class Employee by calling Employee().\n",
    "\n",
    "Try printing the .name attribute of emp object in the console. What happens?\n",
    "\n",
    "\n",
    "\n",
    "\n",
    "\n",
    "\n",
    "    Modify the Employee class to include a .set_name() method that takes a new_name argument, and assigns new_name to the .name attribute of the class.\n",
    "    Use the set_name() method on emp to set the name to 'Korel Rossi'.\n",
    "    Print emp.name.\n",
    "\n",
    "\n",
    "\n",
    "\n",
    "\n",
    "\n",
    "\n",
    "    Follow the pattern to add another method - set_salary() - that will set the salary attribute of the class to the parameter new_salary passed to method.\n",
    "    Set the salary of emp to 50000.\n",
    "\n",
    "Try printing emp.salary before and after calling set_salary()."
   ]
  },
  {
   "cell_type": "code",
   "execution_count": 236,
   "id": "5a078005-1de5-4893-9d08-e73c538a98bf",
   "metadata": {},
   "outputs": [
    {
     "name": "stdout",
     "output_type": "stream",
     "text": [
      "Korel Rossi\n"
     ]
    }
   ],
   "source": [
    "# Include a set_name method\n",
    "class Employee:\n",
    "  \n",
    "  def set_name(self, new_name):\n",
    "    self.name = new_name\n",
    "    \n",
    "# Create an object emp of class Employee  \n",
    "emp = Employee()\n",
    "\n",
    "# Use set_name() on emp to set the name of emp to 'Korel Rossi'\n",
    "emp.set_name('Korel Rossi')\n",
    "\n",
    "# Print the name of emp\n",
    "print(emp.name)"
   ]
  },
  {
   "cell_type": "code",
   "execution_count": 237,
   "id": "93f4a0fe-8615-40c2-8143-75ab49bdd291",
   "metadata": {},
   "outputs": [
    {
     "name": "stdout",
     "output_type": "stream",
     "text": [
      "50000\n"
     ]
    }
   ],
   "source": [
    "class Employee:\n",
    "    def set_name(self, new_name):\n",
    "        self.name = new_name\n",
    "        \n",
    "    # Add set_salary() method\n",
    "    def set_salary(self, new_salary):\n",
    "        self.salary = new_salary\n",
    "  \n",
    "  \n",
    "# Create an object emp of class Employee  \n",
    "emp = Employee()\n",
    "\n",
    "# Use set_name to set the name of emp to 'Korel Rossi'\n",
    "emp.set_name('Korel Rossi')\n",
    "\n",
    "# Set the salary of emp to 50000\n",
    "emp.set_salary(50000)\n",
    "\n",
    "print(emp.salary)"
   ]
  },
  {
   "cell_type": "markdown",
   "id": "6f617db5-1832-4894-84a0-0398b24baa2e",
   "metadata": {},
   "source": [
    "## Using attributes in class definition\n",
    "\n",
    "In the previous exercise, you defined an Employee class with two attributes and two methods setting those attributes. This kind of method, aptly called a setter method, is far from the only possible kind. Methods are functions, so anything you can do with a function, you can also do with a method. For example, you can use methods to print, return values, make plots, and raise exceptions, as long as it makes sense as the behavior of the objects described by the class (an Employee probably wouldn't have a pivot_table() method).\n",
    "\n",
    "In this exercise, you'll go beyond the setter methods and learn how to use existing class attributes to define new methods. The Employee class and the emp object from the previous exercise are in your script pane.\n",
    "\n",
    "\n",
    "\n",
    "\n",
    "\n",
    "    Print the salary attribute of emp.\n",
    "    Attributes aren't read-only: use assignment (equality sign) to increase the salary attribute of emp by 1500, and print it again.\n",
    "\n",
    "\n",
    "\n",
    "\n",
    "\n",
    "Raising a salary for an employee is a common pattern of behavior, so it should be part of the class definition instead.\n",
    "\n",
    "    Add a method give_raise() to Employee that increases the salary by the amount passed to give_raise() as a parameter.\n",
    "\n",
    "\n",
    "\n",
    "\n",
    "\n",
    "Methods don't have to just modify the attributes - they can return values as well!\n",
    "\n",
    "    Add a method monthly_salary() that returns the value of the .salary attribute divided by 12.\n",
    "    Call .monthly_salary() on emp, assign it to mon_sal, and print.\n"
   ]
  },
  {
   "cell_type": "code",
   "execution_count": 238,
   "id": "01e57459-c732-494c-bded-e10ee7b0cf68",
   "metadata": {},
   "outputs": [
    {
     "name": "stdout",
     "output_type": "stream",
     "text": [
      "50000\n",
      "51500\n"
     ]
    }
   ],
   "source": [
    "class Employee:\n",
    "    def set_name(self, new_name):\n",
    "        self.name = new_name\n",
    "\n",
    "    def set_salary(self, new_salary):\n",
    "        self.salary = new_salary \n",
    "    \n",
    "emp = Employee()\n",
    "emp.set_name('Korel Rossi')\n",
    "emp.set_salary(50000)\n",
    "\n",
    "# Print the salary attribute of emp\n",
    "print(emp.salary)\n",
    "\n",
    "# Increase salary of emp by 1500\n",
    "emp.salary = emp.salary + 1500\n",
    "\n",
    "# Print the salary attribute of emp again\n",
    "print(emp.salary)"
   ]
  },
  {
   "cell_type": "code",
   "execution_count": 240,
   "id": "df266d71-ccd3-4531-b3fe-efaa1b0d2f82",
   "metadata": {},
   "outputs": [
    {
     "name": "stdout",
     "output_type": "stream",
     "text": [
      "4166.666666666667\n"
     ]
    }
   ],
   "source": [
    "class Employee:\n",
    "    def set_name(self, new_name):\n",
    "        self.name = new_name\n",
    "        # ------------------------------------------------------------------------------------------\n",
    "        # Attribute are created by assignment and referred to using the self variable within method\n",
    "        \n",
    "\n",
    "    def set_salary(self, new_salary):\n",
    "        self.salary = new_salary \n",
    "\n",
    "    def give_raise(self, amount):\n",
    "        self.salary = self.salary + amount\n",
    "\n",
    "    # Add monthly_salary method that returns 1/12th of salary attribute\n",
    "    def monthly_salary(self):\n",
    "        return self.salary/12\n",
    "\n",
    "    \n",
    "emp = Employee()\n",
    "emp.set_name('Korel Rossi')\n",
    "emp.set_salary(50000)\n",
    "\n",
    "# Get monthly salary of emp and assign to mon_sal\n",
    "mon_sal = emp.monthly_salary()\n",
    "\n",
    "# Print mon_sal\n",
    "print(mon_sal)"
   ]
  },
  {
   "cell_type": "markdown",
   "id": "f85a7195-f22f-4bbd-b0d8-9b87f9b75d31",
   "metadata": {},
   "source": [
    "## Class anatomy: the __init__ constructor\n",
    "\n",
    "\n",
    "\n",
    "\n",
    "\n",
    "### A better strategy would be to add data to the object when creating it, like you do when creating a numpy array or a DataFrame.  \n",
    "\n",
    "**Python allows you to add a specially method(__init__() method) called the constructor that is automatically called everytime an object is created.  \n",
    "\n",
    "\n",
    "here we define the __init__() method for the Customer class, The method takes one argument - name, salary\n",
    "\n",
    "----------------------------------------------------------------------------------------------------\n",
    "in the body of the method, we created the name attribute, set its value to the name parameter, and print an message"
   ]
  },
  {
   "cell_type": "code",
   "execution_count": 244,
   "id": "ff7cf056-b1c1-4e58-a0f5-699e87c19db0",
   "metadata": {},
   "outputs": [
    {
     "name": "stdout",
     "output_type": "stream",
     "text": [
      "the __init__ method was called\n",
      "Johh\n",
      "0\n"
     ]
    }
   ],
   "source": [
    "class Customer:\n",
    "    \n",
    "    def __init__(self, name, salary=0):  # set default value of zero to salary argument\n",
    "                            # -------------------------------------------------------------\n",
    "        self.name = name    # <= create the .name attribute and set it to name parameter\n",
    "        self.salary = salary\n",
    "        \n",
    "        print('the __init__ method was called')\n",
    "        \n",
    "        \n",
    "        \n",
    "# so now we can pass the customer name in the parenthses when creating an customer object\n",
    "#    the __init__() method will be automatically called, and the name attribute created. \n",
    "\n",
    "# the __init__() constructor is also a good place to set the default values for attributes\n",
    "# \n",
    "\n",
    "cu1 = Customer('Johh')\n",
    "\n",
    "print(cu1.name)\n",
    "print(cu1.salary)"
   ]
  },
  {
   "cell_type": "markdown",
   "id": "cdbdcd6c-38ab-4689-a33e-26b7e24f3975",
   "metadata": {},
   "source": [
    "## So there are two ways to define attributes: \n",
    "   \n",
    "   \n",
    "   **we can define an attribute in any method in a class, and calling the method will add attributes to the object\n",
    "   \n",
    "   **alternatively, we can define them all together in the constructor\n",
    "   \n",
    "   \n",
    "   ## if possible, try to avoid defining attribute outside the constructor\n",
    "   \n",
    "   \n",
    "   \n",
    "   MyClassName        class naming strategy\n",
    "   my_function_name       function naming strategy"
   ]
  },
  {
   "cell_type": "code",
   "execution_count": 246,
   "id": "4017c085-01e0-4804-836d-2714b623fc2f",
   "metadata": {},
   "outputs": [
    {
     "name": "stdout",
     "output_type": "stream",
     "text": [
      "Joo\n"
     ]
    },
    {
     "ename": "AttributeError",
     "evalue": "'Customer' object has no attribute 'salary'",
     "output_type": "error",
     "traceback": [
      "\u001b[0;31m---------------------------------------------------------------------------\u001b[0m",
      "\u001b[0;31mAttributeError\u001b[0m                            Traceback (most recent call last)",
      "\u001b[0;32m/tmp/ipykernel_1920/2219732551.py\u001b[0m in \u001b[0;36m<module>\u001b[0;34m\u001b[0m\n\u001b[1;32m     14\u001b[0m \u001b[0;34m\u001b[0m\u001b[0m\n\u001b[1;32m     15\u001b[0m \u001b[0mprint\u001b[0m\u001b[0;34m(\u001b[0m\u001b[0mcus\u001b[0m\u001b[0;34m.\u001b[0m\u001b[0mname\u001b[0m\u001b[0;34m)\u001b[0m\u001b[0;34m\u001b[0m\u001b[0;34m\u001b[0m\u001b[0m\n\u001b[0;32m---> 16\u001b[0;31m \u001b[0mprint\u001b[0m\u001b[0;34m(\u001b[0m\u001b[0mcus\u001b[0m\u001b[0;34m.\u001b[0m\u001b[0msalary\u001b[0m\u001b[0;34m)\u001b[0m\u001b[0;34m\u001b[0m\u001b[0;34m\u001b[0m\u001b[0m\n\u001b[0m",
      "\u001b[0;31mAttributeError\u001b[0m: 'Customer' object has no attribute 'salary'"
     ]
    }
   ],
   "source": [
    "class Customer:\n",
    "    \n",
    "    def set_name(self, new_name):\n",
    "        self.name = new_name\n",
    "        \n",
    "    def set_salary(self, salary):\n",
    "        self.salary = salary\n",
    "        \n",
    "        \n",
    "        \n",
    "cus = Customer()\n",
    "cus.set_name('Joo')\n",
    "#cus.set_salary(100000)\n",
    "\n",
    "print(cus.name)\n",
    "print(cus.salary)"
   ]
  },
  {
   "cell_type": "code",
   "execution_count": 247,
   "id": "e30fa00c-69ad-456a-b76c-1535dd2abf9b",
   "metadata": {},
   "outputs": [
    {
     "name": "stdout",
     "output_type": "stream",
     "text": [
      "Jooo\n"
     ]
    }
   ],
   "source": [
    "class Customer:\n",
    "    \n",
    "    def __init__(self, new_name, salary=0):\n",
    "        self.name = new_name\n",
    "        self.salary = salary\n",
    "        \n",
    "        \n",
    "        \n",
    "cucu = Customer('Jooo', 1000)\n",
    "print(cucu.name)"
   ]
  },
  {
   "cell_type": "code",
   "execution_count": null,
   "id": "5919e0a3-055a-4034-8781-06b95902d977",
   "metadata": {},
   "outputs": [],
   "source": []
  },
  {
   "cell_type": "code",
   "execution_count": null,
   "id": "cb8a7be3-133a-468c-9d8a-4fff0359f707",
   "metadata": {},
   "outputs": [],
   "source": []
  },
  {
   "cell_type": "markdown",
   "id": "cd129656-77c2-491a-90f5-1f5ad64ed1ad",
   "metadata": {},
   "source": [
    "\n",
    "## class method\n",
    "\n",
    "\n",
    "\n",
    "**methods are already share among all the instances, the only difference is the data fed into it. \n",
    "\n",
    "## it is possiable to define methods bound to class rather than an instance, but they have a narrow\n",
    "application scope, because these methods will not be able to use any instance-level data.\n",
    "\n",
    "**you cant refer to any instance attributes in that method\n",
    "\n",
    "## to define a class method, you start with a classmethod decorator, followed by a method definition\n",
    "\n",
    "\n",
    "class MyClass:\n",
    "\n",
    "    @classmethod     # <= use decorator to declare a class method\n",
    "    \n",
    "    def my_class_method(cls, args ...):     # <= cls argument refers to the class\n",
    "    \n",
    "        # Do stuff here\n",
    "        # Cant use any instance attributes :(\n",
    "    \n",
    "    \n",
    "**to call a class method, use class.method syntax, rather than object.method syntax**\n",
    "\n",
    "MyClass.my_class_method(arg, ...)"
   ]
  },
  {
   "cell_type": "markdown",
   "id": "e061beee-c271-492c-8af9-4aa768d4367d",
   "metadata": {},
   "source": [
    "## why we need class method at all?\n",
    "\n",
    "\n",
    "## the main use case is  alternative constructors, \n",
    "a class can only have one __init__() method, \n",
    "but there may be multiple ways to initialize an object\n",
    "\n",
    "\n",
    "for example we might want to create an Employee object from data stored in a file\n",
    "**we cant use method, because it would require an instance, and there isnt one yet.\n",
    "      emp1 = Employee()\n",
    "      emp1.open_file(\"/ab/cf/at.txt\")\n"
   ]
  },
  {
   "cell_type": "code",
   "execution_count": 10,
   "id": "a33872b0-8625-4bf1-9bd4-bb81ce7ab553",
   "metadata": {},
   "outputs": [
    {
     "name": "stdout",
     "output_type": "stream",
     "text": [
      "Jjj\n",
      "Employee: (name: Jjj, slalry: 60000)\n"
     ]
    },
    {
     "data": {
      "text/plain": [
       "'hello, john hhu, this is a test file for class method\\n'"
      ]
     },
     "execution_count": 10,
     "metadata": {},
     "output_type": "execute_result"
    }
   ],
   "source": [
    "class Employee:\n",
    "    MIN_SALARY = 30000\n",
    "    \n",
    "    def __init__(self, name, salary=60000, file_name=None):\n",
    "        self.name = name\n",
    "        self.file_name = file_name\n",
    "        if salary >= Employee.MIN_SALARY:\n",
    "            self.salary = salary\n",
    "        else:\n",
    "            self.salary = Employee.MIN_SALARY\n",
    "            \n",
    "            \n",
    "    def file_open(self,file_name):\n",
    "        with open(file_name, 'r') as f:\n",
    "            name = f.readline()\n",
    "        return name\n",
    "            \n",
    "            \n",
    "    @classmethod\n",
    "    def from_file(cls,file_name):\n",
    "        with open(file_name, \"r\") as f:\n",
    "            name = f.readline()\n",
    "        return cls(name)\n",
    "    \n",
    "    def __repr__(self):\n",
    "        return \"Employee: (name: {name}, slalry: {salary})\"\\\n",
    "    .format(name = self.name, salary = self.salary)\n",
    "    \n",
    "    \n",
    "emp1 = Employee('Jjj')\n",
    "print(emp1.name)\n",
    "print(emp1)\n",
    "    \n",
    "    \n",
    "#tt = Employee(\"hello.txt\").file_open(\"hello.txt\")  \n",
    "#tt.name\n",
    "\n",
    "# --------------------------------------------------------------- #\n",
    "# the attributes has already set in its __init__() constructor\n",
    "#   so we need another specific class to do the file data read\n",
    "#     a class can only have one __init__() method  *****\n",
    "# we cant use method, because it would require an instance, and there isnt one yet\n",
    "# --------------------------------------------------------------- #\n",
    "    \n",
    "na1 = Employee.from_file(\"hello.txt\")\n",
    "na1.name"
   ]
  },
  {
   "cell_type": "code",
   "execution_count": 11,
   "id": "18095913-d27c-405a-a2a9-512817ae6f13",
   "metadata": {},
   "outputs": [
    {
     "name": "stdout",
     "output_type": "stream",
     "text": [
      "Jjj\n",
      "Employee: (name: Jjj, slalry: 60000)\n"
     ]
    },
    {
     "data": {
      "text/plain": [
       "'hello, john hhu, this is a test file for class method\\n'"
      ]
     },
     "execution_count": 11,
     "metadata": {},
     "output_type": "execute_result"
    }
   ],
   "source": [
    "class Employee:\n",
    "    MIN_SALARY = 30000\n",
    "    \n",
    "    def __init__(self, name, salary=60000):\n",
    "        self.name = name\n",
    "        if salary >= Employee.MIN_SALARY:\n",
    "            self.salary = salary\n",
    "        else:\n",
    "            self.salary = Employee.MIN_SALARY\n",
    "            \n",
    "            \n",
    "    @classmethod\n",
    "    def from_file(cls,file_name):\n",
    "        with open(file_name, \"r\") as f:\n",
    "            name = f.readline()\n",
    "        return cls(name)\n",
    "    \n",
    "    def __repr__(self):\n",
    "        return \"Employee: (name: {name}, slalry: {salary})\"\\\n",
    "    .format(name = self.name, salary = self.salary)\n",
    "    \n",
    "    \n",
    "emp1 = Employee('Jjj')\n",
    "print(emp1.name)\n",
    "print(emp1)\n",
    "    \n",
    "    \n",
    "na1 = Employee.from_file(\"hello.txt\")  \n",
    "# <= using class.method, it will create an employee object without explicitly calling the constructor\n",
    "\n",
    "na1.name"
   ]
  },
  {
   "cell_type": "code",
   "execution_count": 122,
   "id": "f01f40ba-59de-4043-9e7c-eadc50cfa4af",
   "metadata": {},
   "outputs": [
    {
     "name": "stdout",
     "output_type": "stream",
     "text": [
      "hello, john hhu, this is a test file for class method\n",
      "\n"
     ]
    }
   ],
   "source": [
    "# use one class to open file and use another to process the data of it? good or bad? \n",
    "\n",
    "\n",
    "class Program:\n",
    "    def __init__(self, file_name):\n",
    "        self.t = open(file_name, 'r')      # <= with open(file_name, \"r\") as f:\n",
    "        #with open(file_name,\"r\") as f:    # <=     self.name = f.readline()\n",
    "        #    self.name = f.readline()      # <= def closs(self) with not work with this situation\n",
    "        self.name = self.t.readline()\n",
    "        \n",
    "\n",
    "    def check(self):\n",
    "        pass\n",
    "        \n",
    "\n",
    "    def close(self):\n",
    "        if self.t:\n",
    "            self.t.close()\n",
    "            self.t = None\n",
    "            \n",
    "pro = Program(\"hello.txt\")\n",
    "print(pro.name)\n",
    "            \n",
    "import contextlib\n",
    "with contextlib.closing(Program('hello.txt')) as program:  # <= further Python programing study needed\n",
    "    program.check()"
   ]
  },
  {
   "cell_type": "markdown",
   "id": "243cb99d-c7c8-4314-9ba0-ae817fe9bc85",
   "metadata": {},
   "source": [
    "## Correct use of __init__\n",
    "\n",
    "\n",
    "Python allows you to run custom code - for example, initializing attributes - any time an object is created: you just need to define a special method called __init__(). Use this exercise to check your understanding of __init__() mechanics!\n",
    "\n",
    "Which of the code blocks will NOT return an error when run?\n",
    "\n",
    "4 code blocks\n",
    "\n",
    "\n",
    "\n",
    "1,\n",
    "class Counter:\n",
    "    def __init__(self, count):\n",
    "        self.count = count\n",
    "        self.name = name\n",
    "        \n",
    "c = Counter(0, 'My counter')\n",
    "print(c.count)\n",
    "\n",
    "\n",
    "3,\n",
    "class Counter:\n",
    "    self.counter = 5\n",
    "    self.name = 'My counter'\n",
    "    \n",
    "c = Counter(0, 'My counter')\n",
    "print(c.count)\n",
    "\n",
    "\n",
    "2,\n",
    "class Counter:\n",
    "    def __init__(self, count, name):\n",
    "        self.count = 5\n",
    "        self.name = name\n",
    "c = Counter(0, 'My count')\n",
    "print(c.count)\n",
    "\n",
    "\n",
    "4,\n",
    "class Count:\n",
    "    def __init__(self, count, name):\n",
    "        self.name = name\n",
    "        \n",
    "c = Counter(0, My count)\n",
    "print(c.count)"
   ]
  },
  {
   "cell_type": "code",
   "execution_count": 221,
   "id": "427078d6-f06e-4814-b39c-196baf191438",
   "metadata": {},
   "outputs": [
    {
     "ename": "TypeError",
     "evalue": "__init__() takes 2 positional arguments but 3 were given",
     "output_type": "error",
     "traceback": [
      "\u001b[0;31m---------------------------------------------------------------------------\u001b[0m",
      "\u001b[0;31mTypeError\u001b[0m                                 Traceback (most recent call last)",
      "\u001b[0;32m/tmp/ipykernel_1920/2778291328.py\u001b[0m in \u001b[0;36m<module>\u001b[0;34m\u001b[0m\n\u001b[1;32m      5\u001b[0m         \u001b[0mself\u001b[0m\u001b[0;34m.\u001b[0m\u001b[0mname\u001b[0m \u001b[0;34m=\u001b[0m \u001b[0mname\u001b[0m\u001b[0;34m\u001b[0m\u001b[0;34m\u001b[0m\u001b[0m\n\u001b[1;32m      6\u001b[0m \u001b[0;34m\u001b[0m\u001b[0m\n\u001b[0;32m----> 7\u001b[0;31m \u001b[0mc\u001b[0m \u001b[0;34m=\u001b[0m \u001b[0mCounter\u001b[0m\u001b[0;34m(\u001b[0m\u001b[0;36m0\u001b[0m\u001b[0;34m,\u001b[0m \u001b[0;34m'My counter'\u001b[0m\u001b[0;34m)\u001b[0m\u001b[0;34m\u001b[0m\u001b[0;34m\u001b[0m\u001b[0m\n\u001b[0m\u001b[1;32m      8\u001b[0m \u001b[0mprint\u001b[0m\u001b[0;34m(\u001b[0m\u001b[0mc\u001b[0m\u001b[0;34m.\u001b[0m\u001b[0mcount\u001b[0m\u001b[0;34m)\u001b[0m\u001b[0;34m\u001b[0m\u001b[0;34m\u001b[0m\u001b[0m\n\u001b[1;32m      9\u001b[0m \u001b[0;34m\u001b[0m\u001b[0m\n",
      "\u001b[0;31mTypeError\u001b[0m: __init__() takes 2 positional arguments but 3 were given"
     ]
    }
   ],
   "source": [
    "#1,\n",
    "class Counter:\n",
    "    def __init__(self, count):\n",
    "        self.count = count\n",
    "        self.name = name\n",
    "        \n",
    "c = Counter(0, 'My counter')\n",
    "print(c.count)\n",
    "\n",
    "\n",
    "#3,\n",
    "class Counter:\n",
    "    self.counter = 5\n",
    "    self.name = 'My counter'\n",
    "    \n",
    "c = Counter(0, 'My counter')\n",
    "print(c.count)\n",
    "\n",
    "\n",
    "#2,  ***************************\n",
    "class Counter:\n",
    "    def __init__(self, count, name):\n",
    "        self.count = 5\n",
    "        self.name = name\n",
    "        \n",
    "c = Counter(0, 'My count')\n",
    "print(c.count)\n",
    "\n",
    "\n",
    "#4,\n",
    "class Count:\n",
    "    def __init__(self, count, name):\n",
    "        self.name = name\n",
    "        \n",
    "c = Counter(0, 'My count')\n",
    "print(c.count)"
   ]
  },
  {
   "cell_type": "code",
   "execution_count": 220,
   "id": "71af6d20-b44a-4890-8b10-8ccd089e1669",
   "metadata": {},
   "outputs": [
    {
     "name": "stdout",
     "output_type": "stream",
     "text": [
      "5\n"
     ]
    }
   ],
   "source": [
    "class Count:\n",
    "    def __init__(self, count, name):\n",
    "        self.name = name\n",
    "        \n",
    "c = Counter(0, 'My count')\n",
    "print(c.count)"
   ]
  },
  {
   "cell_type": "code",
   "execution_count": 219,
   "id": "b8bd57df-b488-431f-a0c6-428be362a66d",
   "metadata": {},
   "outputs": [
    {
     "name": "stdout",
     "output_type": "stream",
     "text": [
      "5\n"
     ]
    }
   ],
   "source": [
    "class Counter:\n",
    "    def __init__(self, count, name):\n",
    "        self.count = 5\n",
    "        self.name = name\n",
    "c = Counter(0, 'My count')\n",
    "print(c.count)"
   ]
  },
  {
   "cell_type": "code",
   "execution_count": 218,
   "id": "6cbca949-cb96-4341-8e10-c44c3aa9b9c9",
   "metadata": {},
   "outputs": [
    {
     "ename": "NameError",
     "evalue": "name 'self' is not defined",
     "output_type": "error",
     "traceback": [
      "\u001b[0;31m---------------------------------------------------------------------------\u001b[0m",
      "\u001b[0;31mNameError\u001b[0m                                 Traceback (most recent call last)",
      "\u001b[0;32m/tmp/ipykernel_1920/2847627020.py\u001b[0m in \u001b[0;36m<module>\u001b[0;34m\u001b[0m\n\u001b[0;32m----> 1\u001b[0;31m \u001b[0;32mclass\u001b[0m \u001b[0mCounter\u001b[0m\u001b[0;34m:\u001b[0m\u001b[0;34m\u001b[0m\u001b[0;34m\u001b[0m\u001b[0m\n\u001b[0m\u001b[1;32m      2\u001b[0m     \u001b[0mself\u001b[0m\u001b[0;34m.\u001b[0m\u001b[0mcounter\u001b[0m \u001b[0;34m=\u001b[0m \u001b[0;36m5\u001b[0m\u001b[0;34m\u001b[0m\u001b[0;34m\u001b[0m\u001b[0m\n\u001b[1;32m      3\u001b[0m     \u001b[0mself\u001b[0m\u001b[0;34m.\u001b[0m\u001b[0mname\u001b[0m \u001b[0;34m=\u001b[0m \u001b[0;34m'My counter'\u001b[0m\u001b[0;34m\u001b[0m\u001b[0;34m\u001b[0m\u001b[0m\n\u001b[1;32m      4\u001b[0m \u001b[0;34m\u001b[0m\u001b[0m\n\u001b[1;32m      5\u001b[0m \u001b[0mc\u001b[0m \u001b[0;34m=\u001b[0m \u001b[0mCounter\u001b[0m\u001b[0;34m(\u001b[0m\u001b[0;36m0\u001b[0m\u001b[0;34m,\u001b[0m \u001b[0;34m'My counter'\u001b[0m\u001b[0;34m)\u001b[0m\u001b[0;34m\u001b[0m\u001b[0;34m\u001b[0m\u001b[0m\n",
      "\u001b[0;32m/tmp/ipykernel_1920/2847627020.py\u001b[0m in \u001b[0;36mCounter\u001b[0;34m()\u001b[0m\n\u001b[1;32m      1\u001b[0m \u001b[0;32mclass\u001b[0m \u001b[0mCounter\u001b[0m\u001b[0;34m:\u001b[0m\u001b[0;34m\u001b[0m\u001b[0;34m\u001b[0m\u001b[0m\n\u001b[0;32m----> 2\u001b[0;31m     \u001b[0mself\u001b[0m\u001b[0;34m.\u001b[0m\u001b[0mcounter\u001b[0m \u001b[0;34m=\u001b[0m \u001b[0;36m5\u001b[0m\u001b[0;34m\u001b[0m\u001b[0;34m\u001b[0m\u001b[0m\n\u001b[0m\u001b[1;32m      3\u001b[0m     \u001b[0mself\u001b[0m\u001b[0;34m.\u001b[0m\u001b[0mname\u001b[0m \u001b[0;34m=\u001b[0m \u001b[0;34m'My counter'\u001b[0m\u001b[0;34m\u001b[0m\u001b[0;34m\u001b[0m\u001b[0m\n\u001b[1;32m      4\u001b[0m \u001b[0;34m\u001b[0m\u001b[0m\n\u001b[1;32m      5\u001b[0m \u001b[0mc\u001b[0m \u001b[0;34m=\u001b[0m \u001b[0mCounter\u001b[0m\u001b[0;34m(\u001b[0m\u001b[0;36m0\u001b[0m\u001b[0;34m,\u001b[0m \u001b[0;34m'My counter'\u001b[0m\u001b[0;34m)\u001b[0m\u001b[0;34m\u001b[0m\u001b[0;34m\u001b[0m\u001b[0m\n",
      "\u001b[0;31mNameError\u001b[0m: name 'self' is not defined"
     ]
    }
   ],
   "source": [
    "class Counter:\n",
    "    self.counter = 5\n",
    "    self.name = 'My counter'\n",
    "    \n",
    "c = Counter(0, 'My counter')\n",
    "print(c.count)"
   ]
  },
  {
   "cell_type": "markdown",
   "id": "deb092c8-42c6-45a6-89c2-7008bf410726",
   "metadata": {},
   "source": [
    "## Add a class constructor\n",
    "\n",
    "\n",
    "In this exercise, you'll continue working on the Employee class. Instead of using the methods like set_salary() that you wrote in the previous lesson, you will introduce a constructor that assigns name and salary to the employee at the moment when the object is created.\n",
    "\n",
    "You'll also create a new attribute -- hire_date -- which will not be initialized through parameters, but instead will contain the current date.\n",
    "\n",
    "Initializing attributes in the constructor is a good idea, because this ensures that the object has all the necessary attributes the moment it is created.\n",
    "\n",
    "\n",
    "\n",
    "\n",
    "Define the class Employee with a constructor __init__() that:\n",
    "\n",
    "    accepts two arguments, name and salary (with default value0),\n",
    "    creates two attributes, also called name and salary,\n",
    "    sets their values to the corresponding arguments.\n",
    "\n",
    "\n",
    "\n",
    "The __init__() method is a great place to do preprocessing.\n",
    "\n",
    "    Modify __init__() to check whether the salary parameter is positive:\n",
    "        if yes, assign it to the salary attribute,\n",
    "        if not, assign 0 to the attribute and print \"Invalid salary!\".\n",
    "\n",
    "\n",
    "\n",
    "    Import datetime from the datetime module. This contains the function that returns current date.\n",
    "    Add an attribute hire_date and set it to datetime.today().\n"
   ]
  },
  {
   "cell_type": "code",
   "execution_count": 209,
   "id": "26676863-e1ab-48e5-b0ad-cdae5b365bc7",
   "metadata": {},
   "outputs": [
    {
     "name": "stdout",
     "output_type": "stream",
     "text": [
      "Korel Rossi\n",
      "0\n"
     ]
    }
   ],
   "source": [
    "class Employee:\n",
    "    # Create __init__() method\n",
    "    def __init__(self, name,salary=0):\n",
    "        # Create the name and salary attributes\n",
    "        self.name= name\n",
    "        self.salary= salary\n",
    "    \n",
    "    # From the previous lesson\n",
    "    def give_raise(self, amount):\n",
    "        self.salary += amount\n",
    "\n",
    "    def monthly_salary(self):\n",
    "        return self.salary/12\n",
    "        \n",
    "emp = Employee(\"Korel Rossi\")\n",
    "print(emp.name)\n",
    "print(emp.salary)     "
   ]
  },
  {
   "cell_type": "code",
   "execution_count": 211,
   "id": "df7b9a0b-df23-4931-8406-264edceeaec5",
   "metadata": {},
   "outputs": [
    {
     "name": "stdout",
     "output_type": "stream",
     "text": [
      "Invalid salary!\n",
      "Korel Rossi\n",
      "0\n"
     ]
    }
   ],
   "source": [
    "class Employee:\n",
    "    \n",
    "    def __init__(self, name, salary=0):\n",
    "        self.name = name\n",
    "        # Modify code below to check if salary is positive\n",
    "        if salary >= 0:\n",
    "            self.salary = salary\n",
    "        else:\n",
    "            self.salary = 0\n",
    "            print(\"Invalid salary!\")\n",
    "        \n",
    "   \n",
    "   # ...Other methods omitted for brevity ... \n",
    "      \n",
    "emp = Employee(\"Korel Rossi\", -1000)\n",
    "print(emp.name)\n",
    "print(emp.salary)"
   ]
  },
  {
   "cell_type": "code",
   "execution_count": 213,
   "id": "82618c7a-dc18-40b1-ba18-4f42c34afbd2",
   "metadata": {},
   "outputs": [
    {
     "name": "stdout",
     "output_type": "stream",
     "text": [
      "Invalid salary!\n",
      "Korel Rossi\n",
      "2021-09-25 13:26:47.451451\n"
     ]
    }
   ],
   "source": [
    "# Import datetime from datetime\n",
    "from datetime import datetime\n",
    "\n",
    "class Employee:\n",
    "    \n",
    "    def __init__(self, name, salary=0):\n",
    "        self.name = name\n",
    "        if salary > 0:\n",
    "            self.salary = salary\n",
    "        else:\n",
    "            self.salary = 0\n",
    "            print(\"Invalid salary!\")\n",
    "          \n",
    "        # Add the hire_date attribute and set it to today's date\n",
    "        self.hire_date = datetime.today()\n",
    "        \n",
    "   # ...Other methods omitted for brevity ...\n",
    "      \n",
    "emp = Employee(\"Korel Rossi\")\n",
    "print(emp.name)\n",
    "print(emp.hire_date)"
   ]
  },
  {
   "cell_type": "markdown",
   "id": "2edaa98c-e3af-4af5-8bae-23afd34ed466",
   "metadata": {},
   "source": [
    "## Write a class from scratch\n",
    "\n",
    "\n",
    "You are a Python developer writing a visualization package. For any element in a visualization, you want to be able to tell the position of the element, how far it is from other elements, and easily implement horizontal or vertical flip .\n",
    "\n",
    "The most basic element of any visualization is a single point. In this exercise, you'll write a class for a point on a plane from scratch.\n",
    "\n",
    "\n",
    "Define the class Point that has:\n",
    "\n",
    "    Two attributes, x and y - the coordinates of the point on the plane;\n",
    "    A constructor that accepts two arguments, x and y, that initialize the corresponding attributes. These arguments should have default value of 0.0;\n",
    "    A method distance_to_origin() that returns the distance from the point to the origin. The formula for that is \n",
    "\n",
    "    .\n",
    "    A method reflect(), that reflects the point with respect to the x- or y-axis:\n",
    "        accepts one argument axis,\n",
    "        if axis=\"x\" , it sets the y (not a typo!) attribute to the negative value of the y attribute,\n",
    "        if axis=\"y\", it sets the x attribute to the negative value of the x attribute,\n",
    "        for any other value of axis, prints an error message. Reflection of a point with respect to y and x axes\n",
    "\n",
    "Note: You can choose to use sqrt() function from either the numpy or the math package, but whichever package you choose, don't forget to import it before starting the class definition!\n",
    "\n",
    "\n",
    "\n",
    "\n"
   ]
  },
  {
   "cell_type": "code",
   "execution_count": 208,
   "id": "0b36a7e2-b4c6-4a43-95eb-ed57cb6e11ff",
   "metadata": {},
   "outputs": [
    {
     "name": "stdout",
     "output_type": "stream",
     "text": [
      "(-3.0, 0.0)\n",
      "5.0\n"
     ]
    }
   ],
   "source": [
    "# Write the class Point as outlined in the instructions\n",
    "#from math import sqrt\n",
    "\n",
    "class Point():\n",
    "    from math import sqrt\n",
    "\n",
    "    def __init__(self,x= 0.0,y= 0.0):\n",
    "        self.x = x\n",
    "        self.y = y\n",
    "\n",
    "    def distance_to_origin(self):\n",
    "        #from math import sqrt\n",
    "        return self.sqrt((self.x)**2+(self.y)**2)\n",
    "\n",
    "    def reflect(self,axis):\n",
    "        if axis == 'x':\n",
    "            self.y = - self.y\n",
    "        elif axis == 'y':\n",
    "            self.x = -self.x\n",
    "\n",
    "pt = Point(x=3.0)\n",
    "pt.reflect('y')\n",
    "print((pt.x,pt.y))\n",
    "pt.y =4.0\n",
    "print(pt.distance_to_origin())"
   ]
  },
  {
   "cell_type": "markdown",
   "id": "c8343c4f-4c3d-4e16-be81-08385a0d1afa",
   "metadata": {},
   "source": [
    "## <= further Python programing study needed\n",
    "\n",
    "\n",
    "including yield & return\n",
    "    **yield turns function into an generator\n",
    "__exit__ program to release memory and others"
   ]
  },
  {
   "cell_type": "markdown",
   "id": "5a2df610-1c51-4bb3-af43-2e092199fb45",
   "metadata": {},
   "source": [
    "## Class-level attributes\n",
    "\n",
    "Class attributes store data that is shared among all the class instances. They are assigned values in the class body, and are referred to using the ClassName. syntax rather than self. syntax when used in methods.\n",
    "\n",
    "In this exercise, you will be a game developer working on a game that will have several players moving on a grid and interacting with each other. As the first step, you want to define a Player class that will just move along a straight line. Player will have a position attribute and a move() method. The grid is limited, so the position of Player will have a maximal value.\n",
    "\n",
    "\n",
    "    Define a class Player that has:\n",
    "    A class attribute MAX_POSITION with value 10.\n",
    "    The __init__() method that sets the position instance attribute to 0.\n",
    "    Print Player.MAX_POSITION.\n",
    "    Create a Player object p and print its MAX_POSITION.\n",
    "\n",
    "\n",
    "\n",
    "\n",
    "\n",
    "Instructions 1/2\n",
    "50 XP\n",
    "\n",
    "    1\n",
    "    2  missing"
   ]
  },
  {
   "cell_type": "code",
   "execution_count": 129,
   "id": "bfb761cf-3ef6-4758-af86-3e9256bbf0f3",
   "metadata": {},
   "outputs": [
    {
     "name": "stdout",
     "output_type": "stream",
     "text": [
      "10\n",
      "10\n"
     ]
    }
   ],
   "source": [
    "# Create a Player class\n",
    "class Player:\n",
    "    MAX_POSITION = 10\n",
    "\n",
    "    def __init__(self,position=0): \n",
    "        self.position = position\n",
    "    #<= The __init__() method that sets the position instance attribute to 0. \n",
    "\n",
    "    def move(self): pass\n",
    "\n",
    "\n",
    "# Print Player.MAX_POSITION       \n",
    "print(Player.MAX_POSITION)\n",
    "\n",
    "# Create a player p and print its MAX_POSITITON\n",
    "p = Player()\n",
    "print(p.MAX_POSITION)"
   ]
  },
  {
   "cell_type": "markdown",
   "id": "36417526-0723-4d9c-babb-21e8e5d675a5",
   "metadata": {},
   "source": [
    "## Changing class attributes\n",
    "\n",
    "\n",
    "You learned how to define class attributes and how to access them from class instances. So what will happen if you try to assign another value to a class attribute when accessing it from an instance? The answer is not as simple as you might think!\n",
    "\n",
    "The Player class from the previous exercise is pre-defined. Recall that it has a position instance attribute, and MAX_SPEED and MAX_POSITION class attributes. The initial value of MAX_SPEED is 3.\n",
    "\n",
    "\n",
    "    Create two Player objects p1 and p2.\n",
    "    Print p1.MAX_SPEED and p2.MAX_SPEED.\n",
    "    Assign 7 to p1.MAX_SPEED.\n",
    "    Print p1.MAX_SPEED and p2.MAX_SPEED again.\n",
    "    Print Player.MAX_SPEED.\n",
    "    Examine the output carefully.\n",
    "\n",
    "\n",
    "\n",
    "\n",
    "\n",
    "Instructions 1/2\n",
    "50 XP\n",
    "\n",
    "    1\n",
    "    2  missing"
   ]
  },
  {
   "cell_type": "code",
   "execution_count": 130,
   "id": "c5545700-fed4-4739-ab5c-b3524e43ba10",
   "metadata": {},
   "outputs": [
    {
     "name": "stdout",
     "output_type": "stream",
     "text": [
      "MAX_SPEED of p1 and p2 before assignment:\n",
      "10\n",
      "10\n",
      "MAX_SPEED of p1 and p2 after assignment:\n",
      "7\n",
      "10\n",
      "MAX_SPEED of Player:\n",
      "10\n"
     ]
    }
   ],
   "source": [
    "class Player:\n",
    "    MAX_SPEED = 10\n",
    "    \n",
    "    def __init__(self,position = 0):\n",
    "        self.position = position\n",
    "\n",
    "\n",
    "# Create Players p1 and p2\n",
    "p1 = Player()\n",
    "p2 = Player()\n",
    "\n",
    "print(\"MAX_SPEED of p1 and p2 before assignment:\")\n",
    "# Print p1.MAX_SPEED and p2.MAX_SPEED\n",
    "print(p1.MAX_SPEED)\n",
    "print(p2.MAX_SPEED)\n",
    "\n",
    "# Assign 7 to p1.MAX_SPEED\n",
    "p1.MAX_SPEED = 7\n",
    "\n",
    "print(\"MAX_SPEED of p1 and p2 after assignment:\")\n",
    "# Print p1.MAX_SPEED and p2.MAX_SPEED\n",
    "print(p1.MAX_SPEED)\n",
    "print(p2.MAX_SPEED)\n",
    "\n",
    "print(\"MAX_SPEED of Player:\")\n",
    "# Print Player.MAX_SPEED\n",
    "print(Player.MAX_SPEED)"
   ]
  },
  {
   "cell_type": "markdown",
   "id": "fc2dafed-d870-4b16-988b-3ae4f750d592",
   "metadata": {},
   "source": [
    "## Alternative constructors\n",
    "\n",
    "\n",
    "Python allows you to define class methods as well, using the @classmethod decorator and a special first argument cls. The main use of class methods is defining methods that return an instance of the class, but aren't using the same code as __init__().\n",
    "\n",
    "For example, you are developing a time series package and want to define your own class for working with dates, BetterDate. The attributes of the class will be year, month, and day. You want to have a constructor that creates BetterDate objects given the values for year, month, and day, but you also want to be able to create BetterDate objects from strings like 2020-04-30.\n",
    "\n",
    "You might find the following functions useful:\n",
    "\n",
    "    .split(\"-\") method will split a string at\"-\" into an array, e.g. \"2020-04-30\".split(\"-\") returns [\"2020\", \"04\", \"30\"],\n",
    "    int() will convert a string into a number, e.g. int(\"2019\") is 2019 .\n",
    "\n",
    "\n",
    "\n",
    "\n",
    "\n",
    "Instructions 1/2\n",
    "50 XP\n",
    "\n",
    "    1\n",
    "    2  missing"
   ]
  },
  {
   "cell_type": "code",
   "execution_count": 132,
   "id": "808138a4-da8c-4a06-9e68-cec722870d8a",
   "metadata": {},
   "outputs": [
    {
     "name": "stdout",
     "output_type": "stream",
     "text": [
      "2020\n",
      "4\n",
      "30\n"
     ]
    }
   ],
   "source": [
    "class BetterDate:    \n",
    "    # Constructor\n",
    "    def __init__(self, year, month, day):\n",
    "        # --------------------------------------------------------------------- #\n",
    "        # you want to have a constructor that creates BetterDate objects\n",
    "        # given the values for year, month, and day, \n",
    "        \n",
    "      # Recall that Python allows multiple variable assignments in one line\n",
    "      self.year, self.month, self.day = year, month, day\n",
    "    \n",
    "    # Define a class method from_str\n",
    "    @classmethod\n",
    "    def from_str(cls, datestr):\n",
    "        # --------------------------------------------------------------------- #\n",
    "        # but you also want to be able to create BetterDate objects from strings like 2020-04-30\n",
    "        \n",
    "        # Split the string at \"-\" and convert each part to integer\n",
    "        parts = datestr.split(\"-\")\n",
    "        year, month, day = int(parts[0]), int(parts[1]), int(parts[2])\n",
    "        # Return the class instance\n",
    "        return cls(year, month, day)  # <= it returns an object instance\n",
    "        \n",
    "        \n",
    "bd = BetterDate.from_str('2020-04-30')   \n",
    "print(bd.year)\n",
    "print(bd.month)\n",
    "print(bd.day)"
   ]
  },
  {
   "cell_type": "markdown",
   "id": "07e81b44-fc1c-4de2-aa7f-d4077d88f062",
   "metadata": {},
   "source": [
    "## class inheritance\n",
    "\n",
    "\n",
    "\n",
    "**Object-oriented Programming is fundamentally about code reuse\n",
    "\n",
    "\n",
    "Modules like Pandas or Numpy are a great tool that allows you to use code written by other programmers.\n",
    "\n",
    "## but what if that code doesnt match your needs exactly? \n",
    "\n",
    "You could do that by importing Pandas and writing a new function, but it will not be integrated into the DataFrame interface. OOP will alow you to keep interface consistent while customizing functionality.\n",
    "\n",
    "## it would be better to have a general Data Structure that implements the basic functionality only once. and we can accomplish this with inheritance. \n",
    "\n",
    "\n",
    "class inheritance is mechanism by which we can define a new class that get all the functionality of another class plus maybe something extra with out reimplimenting the code. "
   ]
  },
  {
   "cell_type": "markdown",
   "id": "3afc8626-365e-4aa1-8b29-816f35764790",
   "metadata": {},
   "source": [
    "\n",
    "## Inheritance is a powerful tool of object-oriented languages that allows you to customize functionality of existing classes without having to re-implement methods from scratch.\n",
    "\n",
    "\n",
    "## implementing class inheritance\n",
    "\n",
    "## we can create an object even though we did not define a constructor"
   ]
  },
  {
   "cell_type": "code",
   "execution_count": 136,
   "id": "ccfdd3ac-9f97-4a91-a989-92024eef186e",
   "metadata": {},
   "outputs": [
    {
     "data": {
      "text/plain": [
       "5400"
      ]
     },
     "execution_count": 136,
     "metadata": {},
     "output_type": "execute_result"
    }
   ],
   "source": [
    "class BankAccount:\n",
    "    def __init__(self, balance):\n",
    "        self.balance = balance\n",
    "        \n",
    "    def withdraw(self,amount):\n",
    "        self.balance -= amount\n",
    "        \n",
    "        \n",
    "class SavingAccount(BankAccount):\n",
    "    pass\n",
    "\n",
    "\n",
    "ba = BankAccount(5000)\n",
    "ba.withdraw(500)\n",
    "ba.balance\n",
    "\n",
    "# ----------------------------------------------------------------------- #\n",
    "# we can create an object even though we did not define a constructor\n",
    "sa = SavingAccount(6000)\n",
    "sa.withdraw(600)\n",
    "sa.balance"
   ]
  },
  {
   "cell_type": "code",
   "execution_count": 10,
   "id": "c29c917e-c909-4c1b-91b3-4b16d125df9d",
   "metadata": {},
   "outputs": [
    {
     "data": {
      "text/plain": [
       "970"
      ]
     },
     "execution_count": 10,
     "metadata": {},
     "output_type": "execute_result"
    }
   ],
   "source": [
    "class BankAccount:\n",
    "    def __init__(self,balance):\n",
    "        self.balance = balance\n",
    "        \n",
    "    def withdraw(self,amount):\n",
    "        self.balance -= amount\n",
    "    \n",
    "    \n",
    "class SavingAccount(BankAccount):\n",
    "    pass\n",
    "\n",
    "\n",
    "saving_acct = SavingAccount(1000)\n",
    "type(saving_acct)\n",
    "\n",
    "#<= we can access balance attribute and withdraw method from the instance of SavingAccount,\n",
    "# even though these features weren't defined in the new class --- inheritance\n",
    "saving_acct.balance  \n",
    "saving_acct.withdraw(30)\n",
    "saving_acct.balance"
   ]
  },
  {
   "cell_type": "code",
   "execution_count": 13,
   "id": "f23b7866-738a-4935-bc73-006fae89adc8",
   "metadata": {
    "tags": []
   },
   "outputs": [
    {
     "data": {
      "text/plain": [
       "True"
      ]
     },
     "execution_count": 13,
     "metadata": {},
     "output_type": "execute_result"
    }
   ],
   "source": [
    "isinstance(saving_acct,SavingAccount)"
   ]
  },
  {
   "cell_type": "code",
   "execution_count": 14,
   "id": "45220364-5177-41ce-a8f4-078ea23a1a6f",
   "metadata": {},
   "outputs": [
    {
     "data": {
      "text/plain": [
       "True"
      ]
     },
     "execution_count": 14,
     "metadata": {},
     "output_type": "execute_result"
    }
   ],
   "source": [
    "isinstance(saving_acct,BankAccount)"
   ]
  },
  {
   "cell_type": "markdown",
   "id": "bf7aa97a-9f15-4a27-bdbe-8f0c633bb3ed",
   "metadata": {},
   "source": [
    "## Understanding inheritance\n",
    "\n",
    "\n",
    "\n",
    "Inheritance is a powerful tool of object-oriented languages that allows you to customize functionality of existing classes without having to re-implement methods from scratch.\n",
    "\n",
    "In this exercise you'll check your understanding of the basics of inheritance. In the questions, we'll make use of the following two classes:\n",
    "\n",
    "class Counter:\n",
    "    def __init__(self, count):\n",
    "       self.count = count\n",
    "\n",
    "    def add_counts(self, n):\n",
    "       self.count += n\n",
    "\n",
    "class Indexer(Counter):\n",
    "   pass\n",
    "\n",
    "\n",
    "Hint\n",
    "\n",
    "    In the video SavingsAccount was inherited from BankAccount. The objects of the class SavingsAccount were both instances of SavingsAccount and BankAccount.\n",
    "    In absence of any other methods, the child class (in this case, Indexer) will use the methods of the Counter class if they are called from an instance.\n"
   ]
  },
  {
   "cell_type": "markdown",
   "id": "b66dc4be-23ee-4063-ab55-7c619c565e8f",
   "metadata": {},
   "source": [
    "**running ind = Indexer() will cause an error, because attribute data missing - count\n",
    "**inheritance represent is-a relashionship"
   ]
  },
  {
   "cell_type": "markdown",
   "id": "0208d45c-c342-4bf1-87ae-98b98ca03506",
   "metadata": {},
   "source": [
    "## Create a subclass\n",
    "\n",
    "\n",
    "The purpose of child classes -- or sub-classes, as they are usually called - is to customize and extend functionality of the parent class.\n",
    "\n",
    "Recall the Employee class from earlier in the course. In most organizations, managers enjoy more privileges and more responsibilities than a regular employee. So it would make sense to introduce a Manager class that has more functionality than Employee.\n",
    "\n",
    "But a Manager is still an employee, so the Manager class should be inherited from the Employee class.\n",
    "\n",
    "\n",
    "\n",
    "    Add an empty Manager class that is inherited from Employee.\n",
    "    Create an object mng of the Manager class with the name Debbie Lashko and salary 86500.\n",
    "    Print the name of mng.\n",
    "\n",
    "\n",
    "\n",
    "\n",
    "\n",
    "Instructions 1/2\n",
    "50 XP\n",
    "\n",
    "    1\n",
    "    2  missing"
   ]
  },
  {
   "cell_type": "code",
   "execution_count": 31,
   "id": "f7fc3fd8-0526-4bc0-923c-82f42059a9fa",
   "metadata": {},
   "outputs": [
    {
     "data": {
      "text/plain": [
       "95600"
      ]
     },
     "execution_count": 31,
     "metadata": {},
     "output_type": "execute_result"
    }
   ],
   "source": [
    "class Employee:\n",
    "    MIN_SALARY = 30000\n",
    "    \n",
    "    def __init__(self, name, salary=Employee.MIN_SALARY):\n",
    "        self.name = name\n",
    "        if salary >= Employee.MIN_SALARY:\n",
    "            self.salary = salary\n",
    "        else:\n",
    "            self.salary = Employee.MIN_SALARY\n",
    "        \n",
    "    def give_raise(self, amount):\n",
    "        self.salary += amount      \n",
    "        \n",
    "# Define a new class Manager inheriting from Employee\n",
    "class Manager(Employee):\n",
    "    MIN_SALARY = 90000\n",
    "    \n",
    "    def __init__(self,name,salary = Manager.MIN_SALARY):\n",
    "        \n",
    "        Employee.__init__(self, name, salary)\n",
    "        self.name = name\n",
    "        self.salary = salary\n",
    "\n",
    "# Define a Manager object\n",
    "mng = Manager('Debbie Lashko',86500)\n",
    "mng11 = Manager('John')\n",
    "mng11.give_raise(5600)\n",
    "\n",
    "# Print mng's name\n",
    "mng.name\n",
    "mng.salary\n",
    "\n",
    "mng11.salary"
   ]
  },
  {
   "cell_type": "markdown",
   "id": "d04f4eb1-e868-4f36-b2b8-fa096357af8e",
   "metadata": {},
   "source": [
    "## Customizing functionality via inheritance\n",
    "\n",
    "\n",
    "\n",
    "**customizing constructors\n",
    "\n",
    "Adding the specific SavingAccount constructor, it will take a balance parameter just like BankAccount, and an additional **interest_rate parameter. \n",
    "\n",
    "in that constructor, we __first run the code for creating a generic BankAccount by explicitly calling the __init__ method of the BankAccount class. then we can add more functionality. \n",
    "\n",
    "**in this case just initializing an attribute --interest_rate"
   ]
  },
  {
   "cell_type": "code",
   "execution_count": 12,
   "id": "23b898ea-251b-4e4d-b56e-5f18e4d40c07",
   "metadata": {},
   "outputs": [],
   "source": [
    "class BankAccount:\n",
    "    def __init__(self,balance):\n",
    "        self.balance = balance\n",
    "        \n",
    "class SavingAccount(BankAccount):\n",
    "    def __init__(self,balance,interest_rate):\n",
    "        BankAccount.__init__(self,balance)\n",
    "        self.interest_rate = interest_rate"
   ]
  },
  {
   "cell_type": "code",
   "execution_count": 32,
   "id": "b1708dfd-cca3-428a-9b97-52ea9fca8a61",
   "metadata": {},
   "outputs": [
    {
     "ename": "TypeError",
     "evalue": "withdraw() got an unexpected keyword argument 'fee'",
     "output_type": "error",
     "traceback": [
      "\u001b[0;31m---------------------------------------------------------------------------\u001b[0m",
      "\u001b[0;31mTypeError\u001b[0m                                 Traceback (most recent call last)",
      "\u001b[0;32m/tmp/ipykernel_55664/3837729264.py\u001b[0m in \u001b[0;36m<module>\u001b[0;34m\u001b[0m\n\u001b[1;32m     79\u001b[0m \u001b[0mbank_acct\u001b[0m\u001b[0;34m.\u001b[0m\u001b[0mbalance\u001b[0m\u001b[0;34m\u001b[0m\u001b[0;34m\u001b[0m\u001b[0m\n\u001b[1;32m     80\u001b[0m \u001b[0;34m\u001b[0m\u001b[0m\n\u001b[0;32m---> 81\u001b[0;31m \u001b[0mbank_acct\u001b[0m\u001b[0;34m.\u001b[0m\u001b[0mwithdraw\u001b[0m\u001b[0;34m(\u001b[0m\u001b[0;36m200\u001b[0m\u001b[0;34m,\u001b[0m\u001b[0mfee\u001b[0m \u001b[0;34m=\u001b[0m \u001b[0;36m15\u001b[0m\u001b[0;34m)\u001b[0m\u001b[0;34m\u001b[0m\u001b[0;34m\u001b[0m\u001b[0m\n\u001b[0m\u001b[1;32m     82\u001b[0m \u001b[0mbank_acct\u001b[0m\u001b[0;34m.\u001b[0m\u001b[0mbalance\u001b[0m\u001b[0;34m\u001b[0m\u001b[0;34m\u001b[0m\u001b[0m\n",
      "\u001b[0;31mTypeError\u001b[0m: withdraw() got an unexpected keyword argument 'fee'"
     ]
    }
   ],
   "source": [
    "class BankAccount:\n",
    "    def __init__(self,balance):\n",
    "        self.balance = balance\n",
    "        \n",
    "    def withdraw(self,amount):\n",
    "        self.balance -= amount\n",
    "    \n",
    "    \n",
    "class SavingAccount(BankAccount):\n",
    "    # constructor specifically for SavingAccount with additional parameter -interest_rate\n",
    "    def __init__(self,balance,interest_rate):\n",
    "        # ------------------------------------------------------------- #\n",
    "        # call the parent constructor using class.__init__()\n",
    "        BankAccount.__init__(self,balance)\n",
    "        self.interest_rate = interest_rate # <= add more functionality, initializing an attribute\n",
    "    \n",
    "    \n",
    "    # SavingAccount have inherited the withdraw() method from parent class, no need to define it\n",
    "    \n",
    "        \n",
    "    # add new functionality\n",
    "    def compute_interest(self,n_periods = 1):\n",
    "        return self.balance * ((1 + self.interest_rate)**n_periods - 1)\n",
    "    \n",
    "    \n",
    "class CheckingAccount(BankAccount):\n",
    "    def __init__(self, balance, limit):\n",
    "        BankAccount.__init__(self,balance)\n",
    "        self.limit = limit\n",
    "        \n",
    "    def deposit(self, amount):\n",
    "        self.balance += amount\n",
    "        \n",
    "    def withdraw(self, amount,fee=0):\n",
    "        # <= customizing functionality based on BankAccount\n",
    "        \n",
    "        if fee <= self.limit:          ############ change the signature of method in sub class\n",
    "            BankAccount.withdraw(self, amount - fee)\n",
    "            # notice that we can change the signature of the method in the sub class by adding a parameter\n",
    "        else:\n",
    "            # <= use Parent.method(self,args) to call a method from the parent class   *******\n",
    "            BankAccount.withdraw(self, amount - self.limit)  \n",
    "            \n",
    "            \n",
    "bank = BankAccount(5000)\n",
    "bank.withdraw(100)\n",
    "bank.balance\n",
    "\n",
    "# construct the object using the new constructor\n",
    "acct = SavingAccount(50000,0.03)\n",
    "acct.interest_rate\n",
    "\n",
    "\n",
    "check_acct = CheckingAccount(1000,limit=25)\n",
    "check_acct.balance\n",
    "check_acct.deposit(1000)\n",
    "check_acct.balance\n",
    "\n",
    "\n",
    "# ------------------------------------------------------------------------- #\n",
    "# Now when we call withdraw() method from an object that is a CheckAccount instance, \n",
    "# the new customized version will be used, The interface of the call is the same, \n",
    "# and the actually method that is called is determined by the instance class\n",
    "########## will call withdraw from checking account\n",
    "check_acct.withdraw(200)\n",
    "check_acct.balance\n",
    "\n",
    "\n",
    "# ------------------------------------------------------------------------- #\n",
    "# Another difference is that for a CheckAccount instance, we can call the\n",
    "# method with 2 parameters not BankAccount, becaused the method has customized\n",
    "check_acct.withdraw(200,fee = 15) # <= or just .withdraw(200, 15) \n",
    "check_acct.balance\n",
    "\n",
    "\n",
    "bank_acct = BankAccount(1000)\n",
    "# will call withdraw from bank account\n",
    "bank_acct.withdraw(200)\n",
    "bank_acct.balance\n",
    "\n",
    "bank_acct.withdraw(200,fee = 15)\n",
    "bank_acct.balance"
   ]
  },
  {
   "cell_type": "markdown",
   "id": "15976c06-3266-48d9-b425-9c0358ab2809",
   "metadata": {},
   "source": [
    "\n",
    "### Method inheritance\n",
    "\n",
    "\n",
    "\n",
    "Inheritance is powerful because it allows us to reuse and customize code without rewriting existing code. By calling methods of the parent class within the child class, we reuse all the code in those methods, making our code concise and manageable.\n",
    "\n",
    "In this exercise, you'll continue working with the Manager class that is inherited from the Employee class. You'll add new data to the class, and __customize the give_raise() method from Chapter 1 to increase the manager's raise amount by a bonus percentage whenever they are given a raise.\n",
    "\n",
    "A simplified version of the Employee class, as well as the beginning of the Manager class from the previous lesson is provided for you in the script pane.\n",
    "\n",
    "\n",
    "Add a constructor to Manager that:\n",
    "\n",
    "    accepts name, salary (default 50000), and project (default None)\n",
    "    calls the constructor of the Employee class with the name and salary parameters,\n",
    "    creates a project attribute and sets it to the project parameter.\n",
    "\n",
    "\n",
    "\n",
    "\n",
    "\n",
    "Instructions 1/2\n",
    "50 XP\n",
    "\n",
    "    1\n",
    "    2  missing"
   ]
  },
  {
   "cell_type": "code",
   "execution_count": 23,
   "id": "e7bc0f23-0111-4d81-b079-bffed08094f3",
   "metadata": {},
   "outputs": [
    {
     "data": {
      "text/plain": [
       "103500"
      ]
     },
     "execution_count": 23,
     "metadata": {},
     "output_type": "execute_result"
    }
   ],
   "source": [
    "class Employee:\n",
    "    def __init__(self, name, salary=30000):\n",
    "        self.name = name\n",
    "        self.salary = salary\n",
    "\n",
    "    def give_raise(self, amount):\n",
    "        self.salary += amount\n",
    "\n",
    "        \n",
    "class Manager(Employee):\n",
    "  # Add a constructor \n",
    "    def __init__(self, name, salary = 50000, project = None):\n",
    "\n",
    "        # Call the parent's constructor   \n",
    "        Employee.__init__(self, name, salary)\n",
    "\n",
    "        # Assign project attribute\n",
    "        self.project = project  \n",
    "        \n",
    "        \n",
    "    def give_raise(self,percentage):\n",
    "        self.salary = round(self.salary*(1+percentage))\n",
    "\n",
    "  \n",
    "    def display(self):\n",
    "        print(\"Manager \", self.name)\n",
    "        \n",
    "        \n",
    "emp1 = Employee('John',80000)\n",
    "emp1.give_raise(2000)\n",
    "emp1.salary\n",
    "\n",
    "mng1 = Manager('John',90000)\n",
    "mng1.give_raise(0.15)\n",
    "mng1.salary"
   ]
  },
  {
   "cell_type": "code",
   "execution_count": 28,
   "id": "7fee9549-7fe0-41be-b0e8-019b98a38370",
   "metadata": {},
   "outputs": [
    {
     "data": {
      "text/plain": [
       "78400.0"
      ]
     },
     "execution_count": 28,
     "metadata": {},
     "output_type": "execute_result"
    }
   ],
   "source": [
    "class Employee:\n",
    "    MIN_SALARY = 60000\n",
    "    \n",
    "    def __init__(self, name, salary=Employee.MIN_SALARY):\n",
    "        self.name = name\n",
    "        self.salary = salary\n",
    "\n",
    "    def give_raise(self, amount):\n",
    "        self.salary += amount\n",
    "\n",
    "        \n",
    "class Manager(Employee):\n",
    "    MIN_SALARY = 70000\n",
    "    \n",
    "  # Add a constructor \n",
    "    def __init__(self, name, salary=Manager.MIN_SALARY, project=0):\n",
    "        Employee.__init__(self,name,salary)\n",
    "        self.project = project # <= can we not wrote these lines? self.project = project\n",
    "\n",
    "    def give_rise(self,percentage): # (self,name,salary,amount)\n",
    "\n",
    "        # Assign project attribute\n",
    "        self.salary = round(self.salary * (1 + percentage), 1) \n",
    "\n",
    "  \n",
    "    def display(self):\n",
    "        print(\"Manager \", self.name)\n",
    "        \n",
    "        \n",
    "        \n",
    "Manager('John').salary\n",
    "\n",
    "Manager('John',project = 12).give_rise(0.15)\n",
    "mng11 = Manager('John', project = 12)\n",
    "mng11.give_rise(0.12)\n",
    "mng11.salary\n",
    "\n",
    "#Manager('John',project = 12).salary\n",
    "\n",
    "#\n",
    "#jhu = Manager('John',project = 12)\n",
    "#jhu.give_rise(amount = 5000)\n",
    "#jhu.project\n",
    "#\n",
    "#joh = Manager('Jhu')\n",
    "#joh.project\n",
    "###jhu.salary"
   ]
  },
  {
   "cell_type": "code",
   "execution_count": 86,
   "id": "2b906408-bc07-4b3a-ac1a-3e3e95ef5a50",
   "metadata": {},
   "outputs": [
    {
     "name": "stdout",
     "output_type": "stream",
     "text": [
      "Manager  John\n"
     ]
    },
    {
     "data": {
      "text/plain": [
       "12"
      ]
     },
     "execution_count": 86,
     "metadata": {},
     "output_type": "execute_result"
    }
   ],
   "source": [
    "class Employee:\n",
    "    def __init__(self, name, salary=30000):\n",
    "        self.name = name\n",
    "        self.salary = salary\n",
    "\n",
    "    def give_raise(self, amount):\n",
    "        self.salary += amount\n",
    "\n",
    "        \n",
    "class Manager(Employee):\n",
    "  # Add a constructor \n",
    "    def __init__(self, name, salary=50000, project=None):\n",
    "\n",
    "        # Call the parent's constructor   \n",
    "        Employee.__init__(self, name, salary)\n",
    "\n",
    "        # Assign project attribute\n",
    "        self.project = project  \n",
    "\n",
    "  \n",
    "    def display(self):\n",
    "        print(\"Manager \", self.name)\n",
    "        \n",
    "jhu = Manager('John',project=12)\n",
    "jhu.display()\n",
    "\n",
    "jhu.project"
   ]
  },
  {
   "cell_type": "markdown",
   "id": "578e6ef3-fa86-4d31-bd4b-0bc8f82b29db",
   "metadata": {},
   "source": [
    "### Inheritance of class attributes\n",
    "\n",
    "\n",
    "In the beginning of this chapter, you learned about class attributes and methods that are shared among all the instances of a class. How do they work with inheritance?\n",
    "\n",
    "In this exercise, you'll create subclasses of the Player class from the first lesson of the chapter, and explore the inheritance of class attributes and methods.\n",
    "\n",
    "The Player class has been defined for you. Recall that the Player class had two **class-level attributes: MAX_POSITION and MAX_SPEED, with default values 10 and 3.\n",
    "\n",
    "    Create a class Racer inherited from Player,\n",
    "    Assign 5 to MAX_SPEED in the body of the class.  ***************\n",
    "    Create a Player object p and a Racer object r (no arguments needed for the constructor).\n",
    "\n",
    "Examine the printouts carefully. Next step is a quiz!\n",
    "\n",
    "\n",
    "\n",
    "\n",
    "\n",
    "Instructions 1/2\n",
    "50 XP\n",
    "\n",
    "    1\n",
    "    2  missing"
   ]
  },
  {
   "cell_type": "code",
   "execution_count": 37,
   "id": "78aaa98f-611f-49aa-8287-5e01d9211470",
   "metadata": {},
   "outputs": [
    {
     "name": "stdout",
     "output_type": "stream",
     "text": [
      "p.MAX_SPEED =  3\n",
      "r.MAX_SPEED =  5\n",
      "p.MAX_POSITION =  10\n",
      "r.MAX_POSITION =  10\n"
     ]
    }
   ],
   "source": [
    "class Player:\n",
    "    MAX_SPEED = 3\n",
    "    MAX_POSITION = 10\n",
    "    \n",
    "    def __init__(self):\n",
    "        pass\n",
    "\n",
    "\n",
    "# Create a Racer class and set MAX_SPEED to 5\n",
    "class Racer(Player):\n",
    "    MAX_SPEED = 5\n",
    "\n",
    "    def __init__(self):\n",
    "        pass\n",
    "    \n",
    "    \n",
    "# Create a Player and a Racer objects\n",
    "p = Player()\n",
    "r = Racer()\n",
    "\n",
    "print(\"p.MAX_SPEED = \", p.MAX_SPEED)\n",
    "print(\"r.MAX_SPEED = \", r.MAX_SPEED)\n",
    "\n",
    "print(\"p.MAX_POSITION = \", p.MAX_POSITION)\n",
    "print(\"r.MAX_POSITION = \", r.MAX_POSITION)"
   ]
  },
  {
   "cell_type": "code",
   "execution_count": 39,
   "id": "5f57cf0a-8817-4b82-aded-e8950bff8c30",
   "metadata": {},
   "outputs": [
    {
     "name": "stdout",
     "output_type": "stream",
     "text": [
      "p.MAX_SPEED =  3\n",
      "r.MAX_SPEED =  5\n",
      "p.MAX_POSITION =  10\n",
      "r.MAX_POSITION =  10\n"
     ]
    }
   ],
   "source": [
    "class Player:\n",
    "    \n",
    "    # ------------------------------------------------------------------------- #\n",
    "    # <= its not set default value of attribute in the constructor\n",
    "    def __init__(self,MAX_POSITION=10,MAX_SPEED=3):\n",
    "        self.MAX_POSITION = MAX_POSITION\n",
    "        self.MAX_SPEED = MAX_SPEED\n",
    "\n",
    "# Create a Racer class and set MAX_SPEED to 5\n",
    "class Racer(Player):\n",
    "    def __init__(self,MAX_POSITION=10,MAX_SPEED=5):  # <= the uncalled pramater needs a default value\n",
    "        Player.__init__(self,MAX_POSITION=10,MAX_SPEED=3) \n",
    "        self.MAX_SPEED = MAX_SPEED\n",
    "        \n",
    "# Create a Player and a Racer objects\n",
    "p = Player()\n",
    "r = Racer()\n",
    "\n",
    "print(\"p.MAX_SPEED = \", p.MAX_SPEED)\n",
    "print(\"r.MAX_SPEED = \", r.MAX_SPEED)\n",
    "\n",
    "print(\"p.MAX_POSITION = \", p.MAX_POSITION)\n",
    "print(\"r.MAX_POSITION = \", r.MAX_POSITION) "
   ]
  },
  {
   "cell_type": "code",
   "execution_count": 40,
   "id": "28deae1d-d213-414e-8803-1a7ddda7a206",
   "metadata": {},
   "outputs": [
    {
     "name": "stdout",
     "output_type": "stream",
     "text": [
      "p.MAX_SPEED =  3\n",
      "r.MAX_SPEED =  5\n",
      "p.MAX_POSITION =  10\n",
      "r.MAX_POSITION =  10\n"
     ]
    }
   ],
   "source": [
    "class Player:\n",
    "    def __init__(self,MAX_POSITION=10,MAX_SPEED=3):\n",
    "        self.MAX_POSITION = MAX_POSITION\n",
    "        self.MAX_SPEED = MAX_SPEED\n",
    "\n",
    "# Create a Racer class and set MAX_SPEED to 5\n",
    "class Racer(Player):\n",
    "    def __init__(self,MAX_SPEED=5):\n",
    "        # <= dont need the MAX_POSITION attribute inherited from Player()\n",
    "        Player.__init__(self,MAX_POSITION=10,MAX_SPEED=3) \n",
    "        self.MAX_SPEED = MAX_SPEED\n",
    "        \n",
    "# Create a Player and a Racer objects\n",
    "p = Player()\n",
    "r = Racer()\n",
    "\n",
    "print(\"p.MAX_SPEED = \", p.MAX_SPEED)\n",
    "print(\"r.MAX_SPEED = \", r.MAX_SPEED)\n",
    "\n",
    "print(\"p.MAX_POSITION = \", p.MAX_POSITION)\n",
    "print(\"r.MAX_POSITION = \", r.MAX_POSITION)"
   ]
  },
  {
   "cell_type": "markdown",
   "id": "b9ee27ce-0781-4db5-ac36-b6f2a6c2c451",
   "metadata": {},
   "source": [
    "## I'm guessing the better way is to set default value in the body of class, before its constructor,\n",
    "## in order to avoid this odd situation, WHAT HAPPENED HERE ??\n"
   ]
  },
  {
   "cell_type": "code",
   "execution_count": 41,
   "id": "d6e4ce73-1327-4c63-aa8b-1539274f32c8",
   "metadata": {},
   "outputs": [
    {
     "name": "stdout",
     "output_type": "stream",
     "text": [
      "p.MAX_SPEED =  3\n",
      "r.MAX_SPEED =  5\n",
      "p.MAX_POSITION =  10\n",
      "r.MAX_POSITION =  5\n"
     ]
    }
   ],
   "source": [
    "class Player:\n",
    "    def __init__(self,MAX_POSITION=10,MAX_SPEED=3):\n",
    "        self.MAX_POSITION = MAX_POSITION\n",
    "        self.MAX_SPEED = MAX_SPEED\n",
    "\n",
    "# Create a Racer class and set MAX_SPEED to 5\n",
    "class Racer(Player):\n",
    "    def __init__(self,MAX_SPEED=5):\n",
    "        Player.__init__(self,MAX_SPEED)  # <= dont need the MAX_POSITION attribute inherited\n",
    "        self.MAX_SPEED = MAX_SPEED  # <= without it the MAX_SPEED inherit from Player()\n",
    "        \n",
    "# Create a Player and a Racer objects\n",
    "p = Player()\n",
    "r = Racer()\n",
    "\n",
    "print(\"p.MAX_SPEED = \", p.MAX_SPEED)\n",
    "print(\"r.MAX_SPEED = \", r.MAX_SPEED)\n",
    "\n",
    "print(\"p.MAX_POSITION = \", p.MAX_POSITION)\n",
    "print(\"r.MAX_POSITION = \", r.MAX_POSITION)  # <= where does MAX_POSITION = 5 come from?\n",
    "\n",
    "\n",
    "# I'm guessing the better way is to set default value in the body of class, before its constructor,\n",
    "# in order to avoid this odd situation, WHAT HAPPENED HERE ??"
   ]
  },
  {
   "cell_type": "markdown",
   "id": "1dc90d1e-c19e-4119-8415-e753fdedb0b4",
   "metadata": {},
   "source": [
    "## Customizing a DataFrame\n",
    "\n",
    "\n",
    "In your company, any data has to come with a timestamp recording when the dataset was created, to make sure that outdated information is not being used. You would like to use pandas DataFrames for processing data, but you would need to customize the class to allow for the use of timestamps.\n",
    "\n",
    "In this exercise, you will implement a small LoggedDF class that inherits from a regular pandas DataFrame but __has a created_at attribute storing the timestamp__. You will then augment the standard to_csv() method to always include a column storing the creation date.\n",
    "\n",
    "Tip: all DataFrame methods have many parameters, and it is not sustainable to copy all of them for each method you're customizing. The trick is to use variable-length arguments *args and **kwargs to catch all of them.\n",
    "\n",
    "\n",
    "    Import pandas as pd.\n",
    "    Define LoggedDF class inherited from pd.DataFrame.\n",
    "    \n",
    "    Define a constructor with arguments *args and **kwargs that:\n",
    "        \n",
    "        calls the pd.DataFrame constructor with the same arguments,\n",
    "        assigns datetime.today() to self.created_at.\n",
    "\n",
    "\n",
    "\n",
    "\n",
    "\n",
    "Instructions 1/2\n",
    "50 XP\n",
    "\n",
    "    1\n",
    "    2  missing"
   ]
  },
  {
   "cell_type": "code",
   "execution_count": 42,
   "id": "aac9af57-85b1-4ccc-839a-0416dba04498",
   "metadata": {},
   "outputs": [
    {
     "name": "stdout",
     "output_type": "stream",
     "text": [
      "[]\n",
      "2021-09-22 09:05:18.872281\n"
     ]
    }
   ],
   "source": [
    "# Import pandas as pd\n",
    "import pandas as pd\n",
    "from datetime import datetime\n",
    "\n",
    "# Define LoggedDF inherited from pd.DataFrame and add the constructor\n",
    "class LoggedDF(pd.DataFrame):\n",
    "    def __init__(self,created_at,*args,**kwargs):  \n",
    "                      # <= so when passing *args from parent class, \n",
    "                      # we set other atributs outside of __init__() method constructor ?\n",
    "        pd.DataFrame.__init__(self,*args,**kwargs) # <= ???\n",
    "        self.created_at = datetime.today()\n",
    "\n",
    "        \n",
    "ldf = LoggedDF({\"col1\": [1,2], \"col2\": [3,4]})\n",
    "print(ldf.values)\n",
    "print(ldf.created_at)"
   ]
  },
  {
   "cell_type": "code",
   "execution_count": 43,
   "id": "4e8e9e59-93e3-4fca-822a-c381370dcc41",
   "metadata": {},
   "outputs": [
    {
     "name": "stdout",
     "output_type": "stream",
     "text": [
      "[[1 3]\n",
      " [2 4]]\n",
      "2021-09-22 09:05:33.343572\n"
     ]
    }
   ],
   "source": [
    "# Import pandas as pd\n",
    "import pandas as pd\n",
    "from datetime import datetime\n",
    "\n",
    "# Define LoggedDF inherited from pd.DataFrame and add the constructor\n",
    "class LoggedDF(pd.DataFrame):\n",
    "  \n",
    "  def __init__(self, *args, **kwargs):\n",
    "        pd.DataFrame.__init__(self, *args, **kwargs)\n",
    "        \n",
    "        self.created_at = datetime.today()\n",
    "    \n",
    "    \n",
    "ldf = LoggedDF({\"col1\": [1,2], \"col2\": [3,4]})\n",
    "print(ldf.values)\n",
    "print(ldf.created_at)"
   ]
  },
  {
   "cell_type": "markdown",
   "id": "570d3a70-a384-4ec2-b4bb-0c13ffb26bbc",
   "metadata": {},
   "source": [
    "## Operator overloading: comparison\n",
    "\n"
   ]
  },
  {
   "cell_type": "code",
   "execution_count": 36,
   "id": "73590a14-0cf7-4ac3-b9e5-a6b274ea9a8e",
   "metadata": {},
   "outputs": [
    {
     "name": "stdout",
     "output_type": "stream",
     "text": [
      "<__main__.Customer object at 0x7f5f9864f490>\n",
      "<__main__.Customer object at 0x7f5f4f971610>\n"
     ]
    }
   ],
   "source": [
    "class Customer:\n",
    "    def __init__(self,name,balance,id):\n",
    "        self.name,self.balance,self.id = name,balance,id\n",
    "        \n",
    "cust1 = Customer('John',20000,964)\n",
    "cust2 = Customer('John',20000,964)\n",
    "\n",
    "cust1.name\n",
    "cust1.balance\n",
    "\n",
    "cust1==cust2\n",
    "\n",
    "print(cust1)\n",
    "print(cust2)  # <= Python allocate different chunk of memory to each object"
   ]
  },
  {
   "cell_type": "code",
   "execution_count": 46,
   "id": "a1851c14-7874-43e3-ab1b-d4cc8451a30d",
   "metadata": {},
   "outputs": [
    {
     "name": "stdout",
     "output_type": "stream",
     "text": [
      "[[ True  True  True  True]]\n",
      "[ True  True  True]\n",
      "[[12  3  4  8]]\n",
      "[[0 1 2]\n",
      " [0 2 4]\n",
      " [0 3 6]]\n"
     ]
    }
   ],
   "source": [
    "import numpy as np\n",
    "\n",
    "arry1 = np.array([[12,3,4,8]])\n",
    "arry2 = np.array([[12,3,4,8]])\n",
    "\n",
    "arr1 = np.array([1,2,3])\n",
    "arr2 = np.array([1,2,3])\n",
    "\n",
    "a = np.array([[0, 1, 2],\n",
    "              [0, 2, 4],\n",
    "              [0, 3, 6]])\n",
    "\n",
    "print(arry1 == arry2)  # <= in np or pd, different object with same data is equal\n",
    "print(arr1 == arr2)\n",
    "print(arry1)  # <= print the value of customer object\n",
    "print(a)"
   ]
  },
  {
   "cell_type": "markdown",
   "id": "9f6e4356-61d5-4f01-b9cf-c78b31d4474b",
   "metadata": {
    "tags": []
   },
   "source": [
    "## Overloading __eq__() method\n",
    "\n",
    "\n",
    "class Customer:\n",
    "    def __init__(self, id, name):\n",
    "        self.id, self.name = id, name\n",
    "    \n",
    "\n",
    "   **id we dont define it, when compare two object, Python compare by checking memory address\n",
    "   **whereas, two object were recoginzed as same thing if all attributes are equa\n",
    "   **Will be called when == is used**\n",
    "    def __eq__(self, other):  # accepts 2 arguments, self and other to compare\n",
    "        return (self.id == other.id) and (self.name == other.name)"
   ]
  },
  {
   "cell_type": "code",
   "execution_count": 44,
   "id": "41711e44-7aa3-46d9-8608-9f786a0802ba",
   "metadata": {},
   "outputs": [
    {
     "name": "stdout",
     "output_type": "stream",
     "text": [
      "__eq__ is called\n",
      "(20000, False, 964)\n",
      "<__main__.Customer object at 0x7ff8d83d6040>\n",
      "<__main__.Customer object at 0x7ff8d8350a60>\n"
     ]
    }
   ],
   "source": [
    "class Customer:\n",
    "    def __init__(self,name,balance,id):\n",
    "        self.name,self.balance,self.id = name,balance,id\n",
    "    \n",
    "    def __eq__(self,other):\n",
    "        print('__eq__ is called')\n",
    "        return (self.name == other.name) and \\\n",
    "    (self.balance,self.id == other.balance,other.id) \n",
    "        \n",
    "cust1 = Customer('John',20000,964)\n",
    "cust2 = Customer('John',20000,964)\n",
    "\n",
    "cust1.name\n",
    "cust1.balance\n",
    "\n",
    "print(cust1==cust2)\n",
    "\n",
    "print(cust1)\n",
    "print(cust2)  # <= Python allocate different chunk of memory to each object"
   ]
  },
  {
   "cell_type": "code",
   "execution_count": 45,
   "id": "81ae53e3-52ea-404b-a58e-c6993c033786",
   "metadata": {},
   "outputs": [
    {
     "name": "stdout",
     "output_type": "stream",
     "text": [
      "__eq__() method is called\n",
      "True\n",
      "<__main__.Customer object at 0x7ff8d8350040>\n",
      "<__main__.Customer object at 0x7ff8d840c280>\n"
     ]
    }
   ],
   "source": [
    "class Customer:\n",
    "    def __init__(self,name,balance,id):\n",
    "        self.name,self.balance,self.id = name,balance,id\n",
    "        \n",
    "    def __eq__(self,other):\n",
    "        print('__eq__() method is called')\n",
    "        \n",
    "        return self.name == other.name and \\\n",
    "               self.balance == other.balance and \\\n",
    "               self.id == other.id\n",
    "    \n",
    "cul1 = Customer('Jhu',20000,9854)\n",
    "cul2 = Customer('Jhu',20000,9854)\n",
    "\n",
    "print(cul1 == cul2)\n",
    "print(cul1)\n",
    "print(cul2)"
   ]
  },
  {
   "cell_type": "markdown",
   "id": "ee91d858-4817-4b8e-93e4-25153628e4a1",
   "metadata": {},
   "source": [
    "## Python comparison operators\n",
    "### that is if we need to customize those method\n",
    "==  __eq__()\n",
    "!=  __ne__()\n",
    ">=  __ge__()\n",
    "<=  __le__()\n",
    ">  __gt__()\n",
    "<  __lt__()"
   ]
  },
  {
   "cell_type": "markdown",
   "id": "d69ef210-55e6-41b4-aa23-3a7aaa627f42",
   "metadata": {},
   "source": [
    "## Overloading equality\n",
    "\n",
    "**When comparing two objects of a custom class using ==, Python by default compares just the object references, not the data contained in the objects**. To override this behavior, the class can implement the special __eq__() method, which accepts two arguments -- the objects to be compared -- and returns True or False. This method will be implicitly called when two objects are compared.\n",
    "\n",
    "The BankAccount class from the previous chapter is available for you in the script pane. It has one attribute, balance, and a withdraw() method. Two bank accounts with the same balance are not necessarily the same account, but a bank account usually has an account number, and two accounts with the same account number should be considered the same.\n",
    "\n",
    "\n",
    "\n",
    "Try selecting the code in lines 1-7 and pressing the \"Run code\" button. Then try to create a few BankAccount objects in the console and compare them.\n",
    "\n",
    "    Modify the __init__() method to accept a new parameter - number - and initialize a new number attribute.\n",
    "    Define an __eq__() method that returns True if the number attribute of two objects is equal.\n",
    "    Examine the print statements and the output in the console.\n",
    "\n",
    "\n",
    "Hint\n",
    "\n",
    "    The __eq__() method should accept two arguments, usually called self and other.\n",
    "    When adding parameters to __init__(), remember that parameters without default values should be placed before parameters that have default values.\n"
   ]
  },
  {
   "cell_type": "code",
   "execution_count": 48,
   "id": "0c21b41b-a156-436e-aaf8-c68b97b799cd",
   "metadata": {},
   "outputs": [
    {
     "name": "stdout",
     "output_type": "stream",
     "text": [
      "True\n",
      "False\n"
     ]
    }
   ],
   "source": [
    "class BankAccount:\n",
    "   # MODIFY to initialize a number attribute\n",
    "    def __init__(self, number, balance=0):\n",
    "        self.number = number\n",
    "        self.balance = balance\n",
    "        \n",
    "      \n",
    "    def withdraw(self, amount):\n",
    "        self.balance -= amount \n",
    "    \n",
    "    # Define __eq__ that returns True if the number attributes are equal \n",
    "    def __eq__(self,other):\n",
    "        return self.number == other.number   \n",
    "\n",
    "# Create accounts and compare them       \n",
    "acct1 = BankAccount(123, 1000)\n",
    "acct2 = BankAccount(123, 2000)\n",
    "acct3 = BankAccount(456, 3000)\n",
    "print(acct1 == acct2)\n",
    "print(acct1 == acct3)"
   ]
  },
  {
   "cell_type": "markdown",
   "id": "68048bb0-4d63-4367-a64a-545c8c93bd22",
   "metadata": {},
   "source": [
    "## Checking class equality\n",
    "\n",
    "In the previous exercise, you defined a BankAccount class with a number attribute that was used for comparison. But if you were to compare a BankAccount object to an object of another class that also has a number attribute, you could end up with unexpected results.\n",
    "\n",
    "For example, consider two classes"
   ]
  },
  {
   "cell_type": "code",
   "execution_count": 90,
   "id": "6cf897f1-9f90-4208-8894-43ee0d8fce6f",
   "metadata": {},
   "outputs": [
    {
     "name": "stdout",
     "output_type": "stream",
     "text": [
      "True\n",
      "True\n"
     ]
    }
   ],
   "source": [
    "class BankAccount:\n",
    "    def __init__(self, number, balance=0):\n",
    "        self.number, self.balance = number, balance\n",
    "      \n",
    "    def withdraw(self, amount):\n",
    "        self.balance -= amount \n",
    "\n",
    "    # MODIFY to add a check for the type()\n",
    "    def __eq__(self, other):\n",
    "        return (self.number == other.number)\n",
    "\n",
    "    \n",
    "class Phone:\n",
    "    def __init__(self,number,balance=0):\n",
    "        self.number,self.balance = number,balance\n",
    "        \n",
    "    def using(self,amount):   # <= interesting, even adding different methods\n",
    "        self.balance -= amount\n",
    "        \n",
    "    def __eq__(self,other):\n",
    "        return self.number,self.balance == bumber,balance\n",
    "    \n",
    "    \n",
    "acct = BankAccount(873555333,3000)\n",
    "pn = Phone(873555333,3000)\n",
    "acct.withdraw(3000)\n",
    "pn.using(3000)\n",
    "print(acct == pn)\n",
    "\n",
    "BankAccount(6000,5000).withdraw(2000)\n",
    "Phone(6000,5000).using(2000)\n",
    "print(acct == pn)"
   ]
  },
  {
   "cell_type": "markdown",
   "id": "15ec4183-3e8a-4fe8-a868-d224027181f9",
   "metadata": {},
   "source": [
    "### Checking class equality\n",
    "\n",
    "Both the Phone and the BankAccount classes have been defined. Try running the code as-is using the \"Run code\" button and examine the output.\n",
    "\n",
    "    Modify the definition of BankAccount to only return True if the number attribute is the same and the type() of both objects passed to it is the same.\n",
    "\n",
    "Run the code and examine the output again."
   ]
  },
  {
   "cell_type": "code",
   "execution_count": 51,
   "id": "20a1dc4b-390b-4b8e-93f7-e0683a26d979",
   "metadata": {},
   "outputs": [
    {
     "name": "stdout",
     "output_type": "stream",
     "text": [
      "True\n",
      "False\n",
      "False\n"
     ]
    }
   ],
   "source": [
    "class BankAccount:\n",
    "    def __init__(self, number, balance=0):\n",
    "        self.number, self.balance = number, balance\n",
    "      \n",
    "    def withdraw(self, amount):\n",
    "        self.balance -= amount \n",
    "\n",
    "    # MODIFY to add a check for the type()\n",
    "    def __eq__(self, other):\n",
    "        return (self.number == other.number) and \\\n",
    "        (type(self.number)==type(other.number))\n",
    "\n",
    "    \n",
    "class Phone:\n",
    "\n",
    "    def __init__(self, number): \n",
    "        self.number = number\n",
    "\n",
    "    def __eq__(self, other):\n",
    "        return (self.number == other.number) and type(self.number == other.number)\n",
    "\n",
    "    \n",
    "    \n",
    "acc1 = BankAccount(735553)\n",
    "pn1 = Phone(735553)\n",
    "print(acc1 == pn1)\n",
    "    \n",
    "acct = BankAccount('873555333')\n",
    "pn = Phone(873555333)\n",
    "print(acct == pn)\n",
    "\n",
    "acct1 = BankAccount('1234')\n",
    "acct2 = BankAccount(1234)\n",
    "print(acct1 == acct2)"
   ]
  },
  {
   "cell_type": "markdown",
   "id": "12850242-c4de-49cd-b1ad-7464d5dee794",
   "metadata": {},
   "source": [
    "## Comparison and inheritance\n",
    "\n",
    "\n",
    "What happens when an object is compared to an object of a child class? Consider the following two classes:\n",
    "\n",
    "The Child class inherits from the Parent class, and both implement the __eq__() method that includes a diagnostic printout."
   ]
  },
  {
   "cell_type": "code",
   "execution_count": 100,
   "id": "5078f975-0866-4ead-b51c-7fa2f07984d4",
   "metadata": {},
   "outputs": [
    {
     "name": "stdout",
     "output_type": "stream",
     "text": [
      "Child's __eq__() called\n"
     ]
    },
    {
     "data": {
      "text/plain": [
       "True"
      ]
     },
     "execution_count": 100,
     "metadata": {},
     "output_type": "execute_result"
    }
   ],
   "source": [
    "class Parent:\n",
    "    def __eq__(self, other):\n",
    "        print(\"Parent's __eq__() called\")\n",
    "        return True\n",
    "\n",
    "class Child(Parent):\n",
    "    def __eq__(self, other):\n",
    "        print(\"Child's __eq__() called\")\n",
    "        return True\n",
    "\n",
    "Parent()==Child()"
   ]
  },
  {
   "cell_type": "markdown",
   "id": "1b469358-a1c7-4eb7-b8a0-7c81880c9da9",
   "metadata": {},
   "source": [
    "## Operator overloading: string representation\n",
    "\n"
   ]
  },
  {
   "cell_type": "code",
   "execution_count": 105,
   "id": "fe47b36d-5cfe-41a5-bc09-694568a0238f",
   "metadata": {},
   "outputs": [
    {
     "name": "stdout",
     "output_type": "stream",
     "text": [
      "[1, 4, 21, 3, 9]\n",
      "<class 'list'>\n"
     ]
    }
   ],
   "source": [
    "das = [1,4,21,3,9]\n",
    "print(das)\n",
    "print(type(das))"
   ]
  },
  {
   "cell_type": "code",
   "execution_count": 111,
   "id": "b78e9ff2-7911-41fb-9cbf-1c47c25d8043",
   "metadata": {},
   "outputs": [
    {
     "name": "stdout",
     "output_type": "stream",
     "text": [
      "<__main__.Customer object at 0x7f5f4f8d2be0>\n"
     ]
    }
   ],
   "source": [
    "class Customer:\n",
    "    def __init__(self,name,balance,id):\n",
    "        self.name,self.balance,self.id = name,balance,id\n",
    "\n",
    "\n",
    "cust1 = Customer('John',20000,1863)\n",
    "print(cust1)  # <= it returns an object's address on the memory by default"
   ]
  },
  {
   "cell_type": "markdown",
   "id": "8bf9e249-ed32-470a-be5b-3f3cb97f18d0",
   "metadata": {},
   "source": [
    "### but there are plenty of classes for which the printout is much more informative\n",
    "### if printout a np array or pd DataFrame, we can see actual data contained in the object\n",
    "\n",
    "\n",
    "Printing an object, there are two specially method can be defined in the class that will return a printable representation of an object.  \n",
    "\n",
    "__str__() method and __repr__() method\n",
    "\n",
    "print(obj) or str(obj)  and  repr(obj)\n",
    " "
   ]
  },
  {
   "cell_type": "code",
   "execution_count": 108,
   "id": "e92f8d1e-622b-437d-a33a-f5f6509afb97",
   "metadata": {},
   "outputs": [
    {
     "name": "stdout",
     "output_type": "stream",
     "text": [
      "[2 9 6 4 3]\n"
     ]
    }
   ],
   "source": [
    "import numpy as np\n",
    "\n",
    "ab = np.array([2,9,6,4,3])\n",
    "print(ab)"
   ]
  },
  {
   "cell_type": "code",
   "execution_count": 109,
   "id": "164ede8f-5e98-4e78-87ab-9c2c24cfaaee",
   "metadata": {},
   "outputs": [
    {
     "data": {
      "text/plain": [
       "'[2 9 6 4 3]'"
      ]
     },
     "execution_count": 109,
     "metadata": {},
     "output_type": "execute_result"
    }
   ],
   "source": [
    "str(ab)"
   ]
  },
  {
   "cell_type": "code",
   "execution_count": 110,
   "id": "2f2149f9-ba38-4fc8-b77f-0df2c7cfff93",
   "metadata": {},
   "outputs": [
    {
     "data": {
      "text/plain": [
       "'array([2, 9, 6, 4, 3])'"
      ]
     },
     "execution_count": 110,
     "metadata": {},
     "output_type": "execute_result"
    }
   ],
   "source": [
    "repr(ab)"
   ]
  },
  {
   "cell_type": "markdown",
   "id": "92e0081d-1aca-4f07-a672-df3c9dcfb400",
   "metadata": {},
   "source": [
    "### Triple quotes are used in Python to define multi-line strings\n",
    "### format() method is used on strings to substitute values inside {} curly bracket with variables\n",
    "\n",
    "\n",
    "\n",
    "# The best practics is to use __repr__ to print a string that can be used to reproduce the objuct. \n",
    "\n",
    "**following the best practices, we make sure that __repr__ returns the string that can be reproduce the object, in this case, the extract initialization call.  "
   ]
  },
  {
   "cell_type": "code",
   "execution_count": 76,
   "id": "38e6dbb4-77dd-477e-9c3a-64d466bcfce5",
   "metadata": {},
   "outputs": [
    {
     "name": "stdout",
     "output_type": "stream",
     "text": [
      "\n",
      "        Customer:\n",
      "          name: John\n",
      "          balance: 30000\n",
      "          id: 1763\n"
     ]
    },
    {
     "data": {
      "text/plain": [
       "Customer: (name =John, balance =30000, id =1763)"
      ]
     },
     "execution_count": 76,
     "metadata": {},
     "output_type": "execute_result"
    }
   ],
   "source": [
    "class Customer:\n",
    "    def __init__(self,name,balance,id):\n",
    "        self.name,self.balance,self.id = name,balance,id\n",
    "    \n",
    "    def __str__(self):\n",
    "                   # <= Triple quotes are used in Python to define multi-line strings\n",
    "        cust_str = '''\n",
    "        Customer:\n",
    "          name: {name}\n",
    "          balance: {balance}\n",
    "          id: {id}'''.format(name = self.name,balance = self.balance,\\\n",
    "                           id = self.id)\n",
    "        return cust_str\n",
    "    \n",
    "    def __repr__(self):\n",
    "        cust_repr = '''Customer: (name ={name}, balance ={balance}, id ={id})'''\\\n",
    "        .format(name= self.name,balance = self.balance,id = self.id)\n",
    "        return cust_repr\n",
    "\n",
    "cust1 = Customer('John',30000,1763)\n",
    "print(cust1)\n",
    "str(cust1)\n",
    "cust1\n",
    "#repr(cust1)"
   ]
  },
  {
   "cell_type": "code",
   "execution_count": 59,
   "id": "c96af554-4541-4f56-aab3-7cfc858eaa97",
   "metadata": {},
   "outputs": [
    {
     "name": "stdout",
     "output_type": "stream",
     "text": [
      "Customer: name=John, balance=30000, id=1763\n"
     ]
    },
    {
     "data": {
      "text/plain": [
       "'Customer:(name =John, balance =30000, id =1763)'"
      ]
     },
     "execution_count": 59,
     "metadata": {},
     "output_type": "execute_result"
    }
   ],
   "source": [
    "class Customer:\n",
    "    def __init__(self,name,balance,id):\n",
    "        self.name,self.balance,self.id = name,balance,id\n",
    "    \n",
    "    def __str__(self):\n",
    "                   # <= Triple quotes are used in Python to define multi-line strings\n",
    "        cust_str = \"Customer: name={name}, balance={balance}, id={id}\"\\\n",
    "        .format(name = self.name,balance = self.balance,id = self.id)\n",
    "        return cust_str\n",
    "    \n",
    "    def __repr__(self):\n",
    "        cust_repr = \"Customer:(name ={name}, balance ={balance}, id ={id})\"\\\n",
    "        .format(name= self.name,balance = self.balance,id = self.id)\n",
    "        return cust_repr\n",
    "\n",
    "cust1 = Customer('John',30000,1763)\n",
    "print(cust1)\n",
    "cust1\n",
    "str(cust1)\n",
    "repr(cust1)"
   ]
  },
  {
   "cell_type": "raw",
   "id": "46d3d3c7-73dc-4927-9464-65e23bd99aef",
   "metadata": {},
   "source": [
    "## String formatting review\n",
    "\n",
    "\n",
    "Before you start defining custom string representations for objects, make sure you are comfortable working with strings and formatting them. If you need a refresher, take a minute to look through the official Python tutorial on string formatting.\n",
    "\n",
    "In this exercise, consider the following code\n",
    "\n",
    "my_num = 5\n",
    "my_str = \"Hello\"\n",
    "\n",
    "f = ...\n",
    "print(f)\n",
    "\n",
    "where the definition for f is missing.\n",
    "\n",
    "Here are a few possible variants for the definition of f:\n",
    "\n",
    "\n",
    "f = \"my_num is {0}, and my_str is {1}.\".format(my_num, my_str)\n",
    "\n",
    "f = \"my_num is {}, and my_str is \\\"{}\\\".\".format(my_num, my_str)\n",
    "\n",
    "f = \"my_num is {n}, and my_str is '{s}'.\".format(n=my_num, s=my_str)\n",
    "\n",
    "f = \"my_num is {my_num}, and my_str is '{my_str}'.\".format()\n",
    "\n",
    "\n",
    "\n",
    "Question\n",
    "\n",
    "Pick the definition of f that will make the code above print exactly the following:\n",
    "\n",
    "**my_num is 5, and my_str is \"Hello\".\n",
    "\n",
    "There is only one correct answer! Feel free to use the script pane or console to experiment."
   ]
  },
  {
   "cell_type": "code",
   "execution_count": 178,
   "id": "d6fc65c8-9e6f-429a-9ceb-5deba51d0cae",
   "metadata": {},
   "outputs": [
    {
     "name": "stdout",
     "output_type": "stream",
     "text": [
      "my_num is 5, and my_str is Hello.\n"
     ]
    }
   ],
   "source": [
    "my_num = 5\n",
    "my_str = \"Hello\"\n",
    "\n",
    "\n",
    "f = \"my_num is {0}, and my_str is {1}.\".format(my_num, my_str)\n",
    "\n",
    "print(f)"
   ]
  },
  {
   "cell_type": "code",
   "execution_count": 187,
   "id": "d5d2d87d-8794-42b9-bc7f-6588834ef498",
   "metadata": {},
   "outputs": [
    {
     "name": "stdout",
     "output_type": "stream",
     "text": [
      "my_num is 5, and my_str is \"Hello\".\n"
     ]
    }
   ],
   "source": [
    "my_num = 5\n",
    "my_str = \"Hello\"\n",
    "\n",
    "\n",
    "f = \"my_num is {}, and my_str is \\\"{}\\\".\".format(my_num, my_str)\n",
    "\n",
    "print(f)"
   ]
  },
  {
   "cell_type": "code",
   "execution_count": 180,
   "id": "5fbd446e-ea7e-40d4-a765-2c7b330b6113",
   "metadata": {},
   "outputs": [
    {
     "name": "stdout",
     "output_type": "stream",
     "text": [
      "my_num is 5, and my_str is 'Hello'.\n"
     ]
    }
   ],
   "source": [
    "my_num = 5\n",
    "my_str = \"Hello\"\n",
    "\n",
    "\n",
    "f = \"my_num is {n}, and my_str is '{s}'.\".format(n=my_num, s=my_str)\n",
    "\n",
    "print(f)"
   ]
  },
  {
   "cell_type": "code",
   "execution_count": 60,
   "id": "3fb2d989-857b-42f7-a3ba-5eaefad3b13b",
   "metadata": {},
   "outputs": [
    {
     "name": "stdout",
     "output_type": "stream",
     "text": [
      "my_num is 5, and my_str is \"Hello\".\n"
     ]
    }
   ],
   "source": [
    "my_num = 5\n",
    "my_str = \"Hello\"\n",
    "\n",
    "\n",
    "f = '''my_num is {n}, and my_str is \"{s}\".'''.format(n=my_num, s=my_str)\n",
    "\n",
    "print(f)"
   ]
  },
  {
   "cell_type": "markdown",
   "id": "2cfbbea3-a515-4b3b-82b6-b07531ed773c",
   "metadata": {},
   "source": [
    "### String representation of objects\n",
    "\n",
    "\n",
    "\n",
    "There are two special methods in Python that return a string representation of an object. __str__() is called when you use print() or str() on an object, and __repr__() is called when you use repr() on an object, print the object in the console without calling print(), or instead of __str__() if __str__() is not defined.\n",
    "\n",
    "__str__() is supposed to provide a \"user-friendly\" output describing an object, and __repr__() should return the expression that, when evaluated, will return the same object, ensuring the reproducibility of your code.\n",
    "\n",
    "In this exercise, you will continue working with the Employee class from Chapter 2.\n",
    "\n",
    "\n",
    "### Hint\n",
    "\n",
    "    You can use triple quotes \"\"\" to define multi-line strings. Alternatively, you can use the special \\n character to start a new line.\n",
    "    The best way to insert values of variables into strings is by using .format() or f-strings, but you can also use string concatenation. for example \"My name is \" + name will concatenate the string \"My name is \" with the variable name.\n",
    "\n",
    "\n",
    "\n",
    "\n",
    "\n",
    "Instructions 1/2\n",
    "50 XP\n",
    "\n",
    "    1\n",
    "    2  missing"
   ]
  },
  {
   "cell_type": "code",
   "execution_count": 204,
   "id": "1b9a0de8-b4e0-48e2-aa17-37ecf142d5bc",
   "metadata": {},
   "outputs": [
    {
     "name": "stdout",
     "output_type": "stream",
     "text": [
      "\n",
      "        Employee name: 'Amar Howard'\n",
      "        Employee salary: 30000\n",
      "\n",
      "        Employee name: 'Carolyn Ramirez'\n",
      "        Employee salary: 35000\n"
     ]
    },
    {
     "data": {
      "text/plain": [
       "<__main__.Employee at 0x7f5f4f8b25b0>"
      ]
     },
     "execution_count": 204,
     "metadata": {},
     "output_type": "execute_result"
    }
   ],
   "source": [
    "class Employee:\n",
    "    def __init__(self, name, salary=30000):\n",
    "        self.name, self.salary = name, salary\n",
    "            \n",
    "    # Add the __str__() method\n",
    "    def __str__(self):\n",
    "        return '''\n",
    "        Employee name: '{name}'\n",
    "        Employee salary: {salary}'''\\\n",
    "        .format(name=self.name,salary=self.salary)\n",
    "\n",
    "emp1 = Employee(\"Amar Howard\", 30000)\n",
    "print(emp1)\n",
    "emp2 = Employee(\"Carolyn Ramirez\", 35000)\n",
    "print(emp2)\n",
    "\n",
    "\n",
    "str(emp1)\n",
    "emp1    # <= very interesting doing these"
   ]
  },
  {
   "cell_type": "code",
   "execution_count": 68,
   "id": "eb6abd5f-4303-4fc9-8c96-00723a25285b",
   "metadata": {},
   "outputs": [
    {
     "name": "stdout",
     "output_type": "stream",
     "text": [
      "Employee name: Amar Howard\n",
      "Employee salary: 30000\n",
      "Employee name: Carolyn Ramirez\n",
      "Employee salary: 35000\n"
     ]
    }
   ],
   "source": [
    "class Employee:\n",
    "    def __init__(self, name, salary=30000):\n",
    "        self.name, self.salary = name, salary\n",
    "      \n",
    "    # Add the __str__() method\n",
    "    def __str__(self):            # <= using \\n here to cut string in its printout \n",
    "        s = \"Employee name: {name}\\nEmployee salary: {salary}\"\\\n",
    "        .format(name=self.name, salary=self.salary)      \n",
    "        return s\n",
    "\n",
    "emp1 = Employee(\"Amar Howard\", 30000)\n",
    "print(emp1)\n",
    "emp2 = Employee(\"Carolyn Ramirez\", 35000)\n",
    "print(emp2)"
   ]
  },
  {
   "cell_type": "markdown",
   "id": "cedbe010-c200-49a8-a1ae-5b90392c11cf",
   "metadata": {},
   "source": [
    "\n",
    "## Exceptions\n",
    "\n",
    "\n",
    "\n",
    "\n",
    "many type of Exceptions "
   ]
  },
  {
   "cell_type": "code",
   "execution_count": 215,
   "id": "9323c15f-0181-4b86-97e3-83b0359f5f66",
   "metadata": {},
   "outputs": [
    {
     "ename": "ZeroDivisionError",
     "evalue": "division by zero",
     "output_type": "error",
     "traceback": [
      "\u001b[0;31m---------------------------------------------------------------------------\u001b[0m",
      "\u001b[0;31mZeroDivisionError\u001b[0m                         Traceback (most recent call last)",
      "\u001b[0;32m/tmp/ipykernel_26572/1977999522.py\u001b[0m in \u001b[0;36m<module>\u001b[0;34m\u001b[0m\n\u001b[1;32m      2\u001b[0m \u001b[0;34m\u001b[0m\u001b[0m\n\u001b[1;32m      3\u001b[0m \u001b[0ma\u001b[0m \u001b[0;34m=\u001b[0m \u001b[0;36m8\u001b[0m\u001b[0;34m\u001b[0m\u001b[0;34m\u001b[0m\u001b[0m\n\u001b[0;32m----> 4\u001b[0;31m \u001b[0ma\u001b[0m\u001b[0;34m/\u001b[0m\u001b[0;36m0\u001b[0m\u001b[0;34m\u001b[0m\u001b[0;34m\u001b[0m\u001b[0m\n\u001b[0m",
      "\u001b[0;31mZeroDivisionError\u001b[0m: division by zero"
     ]
    }
   ],
   "source": [
    "# Exception - ZeroDivisionError\n",
    "\n",
    "a = 8\n",
    "a/0"
   ]
  },
  {
   "cell_type": "code",
   "execution_count": 217,
   "id": "e9c9ca0d-8bb4-408d-94bc-5f2d1f272ebe",
   "metadata": {},
   "outputs": [
    {
     "ename": "IndexError",
     "evalue": "list index out of range",
     "output_type": "error",
     "traceback": [
      "\u001b[0;31m---------------------------------------------------------------------------\u001b[0m",
      "\u001b[0;31mIndexError\u001b[0m                                Traceback (most recent call last)",
      "\u001b[0;32m/tmp/ipykernel_26572/3910563986.py\u001b[0m in \u001b[0;36m<module>\u001b[0;34m\u001b[0m\n\u001b[1;32m      2\u001b[0m \u001b[0;34m\u001b[0m\u001b[0m\n\u001b[1;32m      3\u001b[0m \u001b[0ma\u001b[0m \u001b[0;34m=\u001b[0m \u001b[0;34m[\u001b[0m\u001b[0;36m1\u001b[0m\u001b[0;34m,\u001b[0m\u001b[0;36m3\u001b[0m\u001b[0;34m,\u001b[0m\u001b[0;36m4\u001b[0m\u001b[0;34m,\u001b[0m\u001b[0;36m2\u001b[0m\u001b[0;34m,\u001b[0m\u001b[0;36m5\u001b[0m\u001b[0;34m,\u001b[0m\u001b[0;36m6\u001b[0m\u001b[0;34m]\u001b[0m\u001b[0;34m\u001b[0m\u001b[0;34m\u001b[0m\u001b[0m\n\u001b[0;32m----> 4\u001b[0;31m \u001b[0ma\u001b[0m\u001b[0;34m[\u001b[0m\u001b[0;36m12\u001b[0m\u001b[0;34m]\u001b[0m\u001b[0;34m\u001b[0m\u001b[0;34m\u001b[0m\u001b[0m\n\u001b[0m",
      "\u001b[0;31mIndexError\u001b[0m: list index out of range"
     ]
    }
   ],
   "source": [
    "# Exception - IndexError\n",
    "\n",
    "a = [1,3,4,2,5,6]\n",
    "a[12]"
   ]
  },
  {
   "cell_type": "code",
   "execution_count": 219,
   "id": "797108a0-3ea5-47d8-90d0-d9ff0663be97",
   "metadata": {},
   "outputs": [
    {
     "ename": "TypeError",
     "evalue": "can only concatenate str (not \"int\") to str",
     "output_type": "error",
     "traceback": [
      "\u001b[0;31m---------------------------------------------------------------------------\u001b[0m",
      "\u001b[0;31mTypeError\u001b[0m                                 Traceback (most recent call last)",
      "\u001b[0;32m/tmp/ipykernel_26572/852791697.py\u001b[0m in \u001b[0;36m<module>\u001b[0;34m\u001b[0m\n\u001b[1;32m      2\u001b[0m \u001b[0;34m\u001b[0m\u001b[0m\n\u001b[1;32m      3\u001b[0m \u001b[0ma\u001b[0m \u001b[0;34m=\u001b[0m \u001b[0;34m'hello'\u001b[0m\u001b[0;34m\u001b[0m\u001b[0;34m\u001b[0m\u001b[0m\n\u001b[0;32m----> 4\u001b[0;31m \u001b[0ma\u001b[0m \u001b[0;34m+\u001b[0m \u001b[0;36m12\u001b[0m\u001b[0;34m\u001b[0m\u001b[0;34m\u001b[0m\u001b[0m\n\u001b[0m",
      "\u001b[0;31mTypeError\u001b[0m: can only concatenate str (not \"int\") to str"
     ]
    }
   ],
   "source": [
    "# Exception - TypeError\n",
    "\n",
    "a = 'hello'\n",
    "a + 12"
   ]
  },
  {
   "cell_type": "code",
   "execution_count": 221,
   "id": "44f3fd8d-6d9b-48ee-a4b4-3b4289b78c7b",
   "metadata": {},
   "outputs": [
    {
     "ename": "NameError",
     "evalue": "name 'b' is not defined",
     "output_type": "error",
     "traceback": [
      "\u001b[0;31m---------------------------------------------------------------------------\u001b[0m",
      "\u001b[0;31mNameError\u001b[0m                                 Traceback (most recent call last)",
      "\u001b[0;32m/tmp/ipykernel_26572/360643525.py\u001b[0m in \u001b[0;36m<module>\u001b[0;34m\u001b[0m\n\u001b[1;32m      2\u001b[0m \u001b[0;34m\u001b[0m\u001b[0m\n\u001b[1;32m      3\u001b[0m \u001b[0ma\u001b[0m \u001b[0;34m=\u001b[0m \u001b[0;36m12\u001b[0m\u001b[0;34m\u001b[0m\u001b[0;34m\u001b[0m\u001b[0m\n\u001b[0;32m----> 4\u001b[0;31m \u001b[0ma\u001b[0m\u001b[0;34m+\u001b[0m\u001b[0mb\u001b[0m\u001b[0;34m\u001b[0m\u001b[0;34m\u001b[0m\u001b[0m\n\u001b[0m",
      "\u001b[0;31mNameError\u001b[0m: name 'b' is not defined"
     ]
    }
   ],
   "source": [
    "# Exception - NameError\n",
    "\n",
    "a = 12\n",
    "a+b"
   ]
  },
  {
   "cell_type": "markdown",
   "id": "8e573326-9768-44a0-b57a-a855011ebf1d",
   "metadata": {},
   "source": [
    "## Exception handing\n",
    "\n",
    "\n",
    "\n",
    "Prevent the program from terminating when an Exception is raised\n",
    "\n",
    "\n",
    "## if exceptions are not handled correctly, they will stop execution of program entirely\n",
    "\n",
    "try - except - finally\n"
   ]
  },
  {
   "cell_type": "code",
   "execution_count": null,
   "id": "c575e49e-ffcc-499d-b7cc-36b0b37e72cd",
   "metadata": {},
   "outputs": [],
   "source": [
    "try:\n",
    "    # try running some code or program\n",
    "    \n",
    "except ExceptionNameHere:\n",
    "    # run this code if ExceptionNameHere happened\n",
    "    \n",
    "except AnotherExceptionNameHere:\n",
    "    # run this code if AnotherExceptionNameHere happened\n",
    "    \n",
    "......\n",
    "    \n",
    "finally:        # <= this is optional\n",
    "    # run this code no matter what\n",
    "    # this code block is best used for cleaning up, like closing open files. \n"
   ]
  },
  {
   "cell_type": "code",
   "execution_count": 74,
   "id": "2e5b738b-dd07-4ecf-a38d-8450d5eb81de",
   "metadata": {},
   "outputs": [
    {
     "name": "stdout",
     "output_type": "stream",
     "text": [
      "0.16666666666666666\n",
      "Cannot divide by zero! \n",
      "None\n",
      "Index out of range! \n",
      "None\n"
     ]
    }
   ],
   "source": [
    "# MODIFY the function to catch exceptions\n",
    "def invert_at_index(x, ind):\n",
    "    return 1/x[ind]\n",
    " \n",
    "a = [5,6,0,7]\n",
    "\n",
    "# Works okay\n",
    "print(invert_at_index(a, 1))\n",
    "\n",
    "\n",
    "\n",
    "# Potential ZeroDivisionError\n",
    "\n",
    "try:\n",
    "    invert_at_index(a,2)\n",
    "except ZeroDivisionError:\n",
    "    print(\"Cannot divide by zero! \\nNone\")\n",
    "except IndexError:\n",
    "    print(\"Index out of range! \\nNone\")\n",
    "    \n",
    "    \n",
    "try:\n",
    "    invert_at_index(a,5)\n",
    "except ZeroDivisionError:\n",
    "    print('Cannot divide by zero! \\nNone')\n",
    "except IndexError:\n",
    "    print(\"Index out of range! \\nNone\")"
   ]
  },
  {
   "cell_type": "markdown",
   "id": "536cb29e-62c6-4646-b192-37fff9f2e090",
   "metadata": {},
   "source": [
    "## Rasing exceptions\n",
    "\n",
    "\n",
    "\n",
    "sometimes you want to raise Exceptions yourself, for example when some conditions arent satisfied\n",
    "\n",
    "\n",
    " **raise ExceptionNameHere('Error message here')\n",
    " "
   ]
  },
  {
   "cell_type": "code",
   "execution_count": null,
   "id": "f764465b-285a-4af2-afe9-71f1331c51b7",
   "metadata": {},
   "outputs": [],
   "source": [
    "raise ExceptionNameHere('Error message here')"
   ]
  },
  {
   "cell_type": "code",
   "execution_count": 69,
   "id": "dc48750a-582d-487a-9d74-f4af5490891a",
   "metadata": {},
   "outputs": [
    {
     "ename": "ValueError",
     "evalue": "Invalid Length! length should be positive",
     "output_type": "error",
     "traceback": [
      "\u001b[0;31m---------------------------------------------------------------------------\u001b[0m",
      "\u001b[0;31mValueError\u001b[0m                                Traceback (most recent call last)",
      "\u001b[0;32m/tmp/ipykernel_55664/1707459981.py\u001b[0m in \u001b[0;36m<module>\u001b[0;34m\u001b[0m\n\u001b[1;32m      9\u001b[0m \u001b[0;34m\u001b[0m\u001b[0m\n\u001b[1;32m     10\u001b[0m \u001b[0;34m\u001b[0m\u001b[0m\n\u001b[0;32m---> 11\u001b[0;31m \u001b[0mmake_list_of_one\u001b[0m\u001b[0;34m(\u001b[0m\u001b[0;36m0\u001b[0m\u001b[0;34m)\u001b[0m\u001b[0;34m\u001b[0m\u001b[0;34m\u001b[0m\u001b[0m\n\u001b[0m\u001b[1;32m     12\u001b[0m \u001b[0mmake_list_of_one\u001b[0m\u001b[0;34m(\u001b[0m\u001b[0;36m23\u001b[0m\u001b[0;34m)\u001b[0m\u001b[0;34m\u001b[0m\u001b[0;34m\u001b[0m\u001b[0m\n",
      "\u001b[0;32m/tmp/ipykernel_55664/1707459981.py\u001b[0m in \u001b[0;36mmake_list_of_one\u001b[0;34m(length)\u001b[0m\n\u001b[1;32m      5\u001b[0m     \u001b[0;32mif\u001b[0m \u001b[0mlength\u001b[0m \u001b[0;34m<=\u001b[0m \u001b[0;36m0\u001b[0m\u001b[0;34m:\u001b[0m\u001b[0;34m\u001b[0m\u001b[0;34m\u001b[0m\u001b[0m\n\u001b[1;32m      6\u001b[0m         \u001b[0;31m#<= will stop the program and raise an error message\u001b[0m\u001b[0;34m\u001b[0m\u001b[0;34m\u001b[0m\u001b[0;34m\u001b[0m\u001b[0m\n\u001b[0;32m----> 7\u001b[0;31m         \u001b[0;32mraise\u001b[0m \u001b[0mValueError\u001b[0m\u001b[0;34m(\u001b[0m\u001b[0;34m\"Invalid Length! length should be positive\"\u001b[0m\u001b[0;34m)\u001b[0m\u001b[0;34m\u001b[0m\u001b[0;34m\u001b[0m\u001b[0m\n\u001b[0m\u001b[1;32m      8\u001b[0m     \u001b[0;32mreturn\u001b[0m \u001b[0;34m[\u001b[0m\u001b[0;36m1\u001b[0m\u001b[0;34m]\u001b[0m\u001b[0;34m*\u001b[0m\u001b[0mlength\u001b[0m\u001b[0;34m\u001b[0m\u001b[0;34m\u001b[0m\u001b[0m\n\u001b[1;32m      9\u001b[0m \u001b[0;34m\u001b[0m\u001b[0m\n",
      "\u001b[0;31mValueError\u001b[0m: Invalid Length! length should be positive"
     ]
    }
   ],
   "source": [
    "## Rasing exceptions\n",
    "\n",
    "\n",
    "def make_list_of_one(length):\n",
    "    if length <= 0:\n",
    "        #<= will stop the program and raise an error message\n",
    "        raise ValueError(\"Invalid Length! length should be positive\")  \n",
    "    return [1]*length\n",
    "\n",
    "\n",
    "make_list_of_one(0)\n",
    "make_list_of_one(23)"
   ]
  },
  {
   "cell_type": "markdown",
   "id": "82cc43c0-ee01-4728-af2c-c706adda6528",
   "metadata": {},
   "source": [
    "### In Python, Exceptions are actually classes inherited from build-in classes BaseException or Exception\n",
    "\n",
    "BaseException\n",
    "+-- Exception\n",
    "    +-- ArithmeticError\n",
    "        +-- FloatingPointError\n",
    "        +-- OverFlowError\n",
    "        +-- ZeroDivisionError\n",
    "    +-- TypeError\n",
    "    +-- ValueError\n",
    "        +-- UnicodeError\n",
    "        +-- UnicodeDecodeError\n",
    "        +-- UnicodeEncodeError\n",
    "        +-- UnicodeTranslateError\n",
    "    +-- RuntimeError\n",
    "        +-- others\n",
    "        "
   ]
  },
  {
   "cell_type": "markdown",
   "id": "5de3aa7b-5de4-4947-adeb-d26c371536e6",
   "metadata": {},
   "source": [
    "## Costom Exception\n",
    "\n",
    "\n",
    "inherit from Exception class or one of its subclass\n",
    "usually an empty class\n",
    "\n",
    "\n",
    "Custom exception classes are usefull because thay can be specific to your application and can provide granular handling errors. \n"
   ]
  },
  {
   "cell_type": "code",
   "execution_count": 20,
   "id": "748573df-dd6a-417c-9cc5-c2d9b26902df",
   "metadata": {},
   "outputs": [
    {
     "name": "stdout",
     "output_type": "stream",
     "text": [
      "Customer:\n",
      " name: John \n",
      " balance: 100\n"
     ]
    }
   ],
   "source": [
    "class BalanceError(Exception): pass\n",
    "\n",
    "\n",
    "class Customer:\n",
    "    DEFAULT_BALANCE = 100\n",
    "    \n",
    "    def __init__(self,name,balance):\n",
    "        #self.name,self.balance = name,balance\n",
    "        \n",
    "        if balance < 0:\n",
    "            raise BalanceError('Balance has to be positive number')\n",
    "        else:\n",
    "            self.name, self.balance = name, balance  # <= we can put condition statements before\n",
    "            \n",
    "            \n",
    "    def __repr__(self):\n",
    "        return \"Customer:\\n name: {name} \\n balance: {balance}\".\\\n",
    "    format(name = self.name, balance = self.balance)\n",
    "            \n",
    "            \n",
    "try:\n",
    "    cust1 = Customer('John',-9)\n",
    "except BalanceError:\n",
    "    cust1 = Customer('John',Customer.DEFAULT_BALANCE)\n",
    "finally:\n",
    "    print(cust1)"
   ]
  },
  {
   "cell_type": "markdown",
   "id": "f78ef139-9006-4c19-9b3a-e1757053fef6",
   "metadata": {},
   "source": [
    "\n",
    "## handling it with exception is better, \n",
    "\n",
    "\n",
    "\n",
    "because in this case, **the constructor terminates** and the **Customer object is not created at all**, **instead of being implicitly created with account balance set to zero despite the error.** This send a clear signal to the user of the Customer class that something went wrong. The user can then decide to handle this exception using try,except,finally block if they want, but the we the author of the code do not make this decision for them.\n",
    "\n"
   ]
  },
  {
   "cell_type": "markdown",
   "id": "c406a625-b51a-4152-8951-a3016bc917b9",
   "metadata": {},
   "source": [
    "## Exception interrupted the constructor, object is not created\n",
    " \n",
    "\n",
    "**in the first chapter, we dealt with this situation by merely printing a message,and then creating an object with zero balance. Handling it with exception is better"
   ]
  },
  {
   "cell_type": "code",
   "execution_count": 345,
   "id": "2211a6fe-bc76-481a-96c6-38f7439a5cad",
   "metadata": {},
   "outputs": [
    {
     "name": "stdout",
     "output_type": "stream",
     "text": [
      "BalanceError! using o as defaule value of balance\n",
      "Customer: \n",
      "  name = John, \n",
      "  balance = 0\n"
     ]
    },
    {
     "data": {
      "text/plain": [
       "Customer: \n",
       "  name = John, \n",
       "  balance = 0"
      ]
     },
     "execution_count": 345,
     "metadata": {},
     "output_type": "execute_result"
    }
   ],
   "source": [
    "class BalanceError(Exception): pass\n",
    "\n",
    "\n",
    "class Customer:\n",
    "    def __init__(self,name,balance):\n",
    "        #self.name,self.balance = name,balance\n",
    "        \n",
    "        if balance < 0:\n",
    "            raise BalanceError('Balance has to be positive number')\n",
    "        else:\n",
    "            self.name,self.balance = name,balance  # <= we can put condition statements before\n",
    "            \n",
    "    def __repr__(self):\n",
    "        return 'Customer: \\n  name = {name}, \\n  balance = {balance}'\\\n",
    "    .format(name=self.name,balance=self.balance)\n",
    "\n",
    "\n",
    "try:\n",
    "    cust1 = Customer('John',-98)\n",
    "except BalanceError:\n",
    "    print('BalanceError! using o as defaule value of balance')\n",
    "    cust1 = Customer('John',0)\n",
    "\n",
    "    \n",
    "print(cust1)\n",
    "cust1"
   ]
  },
  {
   "cell_type": "markdown",
   "id": "66e7d1c6-b539-4638-8f0b-da7134e90930",
   "metadata": {},
   "source": [
    "## Catching exceptions\n",
    "\n",
    "\n",
    "\n",
    "\n",
    "Before you start writing your own custom exceptions, let's make sure you have the basics of handling exceptions down.\n",
    "\n",
    "In this exercise, you are given a function invert_at_index(x, ind) that takes two arguments, a list x and an index ind, and inverts the element of the list at that index. For example invert_at_index([5,6,7], 1) returns 1/6, or 0.166666 .\n",
    "\n",
    "Try running the code as-is and examine the output in the console. There are two unsafe operations in this function: first, if the element that we're trying to invert has the value 0, then the code will cause a ZeroDivisionError exception. Second, if the index passed to the function is out of range for the list, the code will cause a IndexError. In both cases, the script will be interrupted, which might not be desirable.\n",
    "\n",
    "\n",
    "\n",
    "Use a try - except - except pattern (with two except blocks) inside the function to catch and handle two exceptions as follows:\n",
    "\n",
    "    try executing the code as-is,\n",
    "    if ZeroDivisionError occurs, print \"Cannot divide by zero!\",\n",
    "    if IndexError occurs, print \"Index out of range!\"\n",
    "\n",
    "You know you got it right if the code runs without errors, and the output in the console is:\n",
    "\n",
    "0.16666666666666666\n",
    "Cannot divide by zero!\n",
    "None\n",
    "Index out of range!\n",
    "None\n",
    "\n",
    "\n",
    "\n",
    "## Hint\n",
    "\n",
    "    The general structure of the body of the function should be\n",
    "\n",
    "try:\n",
    "   # Some code\n",
    "except FirstErrorName:\n",
    "   # Code to run when FirstErrorName occurs\n",
    "except SecondErrorName:   \n",
    "   # Code to run when SecondErrorName occurs\n",
    "\n",
    "with FirstErrorName and SecondErrorName substituted by the appropriate errors. Don't forget colons and indentation!"
   ]
  },
  {
   "cell_type": "code",
   "execution_count": 98,
   "id": "6cd42286-d1dd-4217-b1b2-179c53b0245f",
   "metadata": {},
   "outputs": [
    {
     "name": "stdout",
     "output_type": "stream",
     "text": [
      "0.16666666666666666\n",
      "x cant be zero, return x[ind-1]\n",
      "0.16666666666666666\n",
      "x out of a list range, return x[-1]\n",
      "0.14285714285714285\n"
     ]
    }
   ],
   "source": [
    "# MODIFY the function to catch exceptions\n",
    "class ZeroError(Exception): pass\n",
    "class OutRange(Exception): pass\n",
    "\n",
    "\n",
    "def invert_at_index(x, ind):\n",
    "#    if x == 0:\n",
    "#        raise ZeroError(\"x cant be zero\")\n",
    "#    elif ind > len(x):\n",
    "#        raise OutRange(\"x out length range\")\n",
    "    \n",
    "    try:\n",
    "#        if x[ind] == 0: \n",
    "#            raise ZeroDivisionError('x cant be zero')\n",
    "#        if ind > len(x):\n",
    "#            raise IndexError('x out length range')\n",
    "        return 1/x[ind]\n",
    "    \n",
    "    except ZeroDivisionError:\n",
    "        print(\"x cant be zero, return x[ind-1]\")\n",
    "        return 1/x[ind-1]\n",
    "    except IndexError:\n",
    "        print(\"x out of a list range, return x[-1]\")\n",
    "        return 1/x[-1]\n",
    "\n",
    "        \n",
    "a = [5,6,0,7]\n",
    "\n",
    "# Works okay\n",
    "print(invert_at_index(a, 1))\n",
    "\n",
    "# Potential ZeroDivisionError\n",
    "print(invert_at_index(a, 2))\n",
    "\n",
    "# Potential IndexError\n",
    "print(invert_at_index(a, 5))"
   ]
  },
  {
   "cell_type": "code",
   "execution_count": 96,
   "id": "835aeb04-d415-458c-b1f1-5f972ca71b5e",
   "metadata": {},
   "outputs": [
    {
     "name": "stdout",
     "output_type": "stream",
     "text": [
      "0.16666666666666666\n",
      "x cant be zero, return x[ind-1]\n",
      "0.16666666666666666\n",
      "x out of a list range, return x[-1]\n",
      "0.14285714285714285\n"
     ]
    }
   ],
   "source": [
    "# MODIFY the function to catch exceptions\n",
    "class ZeroError(Exception): pass\n",
    "class OutRange(Exception): pass\n",
    "\n",
    "\n",
    "def invert_at_index(x, ind):\n",
    "#    if x == 0:\n",
    "#        raise ZeroError(\"x cant be zero\")\n",
    "#    elif ind > len(x):\n",
    "#        raise OutRange(\"x out length range\")\n",
    "    \n",
    "    try:\n",
    "        if ind > len(x):\n",
    "            raise OutRange('x out length range')\n",
    "        if x[ind] == 0:\n",
    "            raise ZeroError('x cant be zero')\n",
    "        return 1/x[ind]\n",
    "    \n",
    "    except ZeroError:\n",
    "        print(\"x cant be zero, return x[ind-1]\")\n",
    "        return 1/x[ind-1]\n",
    "    except OutRange:\n",
    "        print(\"x out of a list range, return x[-1]\")\n",
    "        return 1/x[-1]\n",
    "\n",
    "        \n",
    "a = [5,6,0,7]\n",
    "len(a)\n",
    "\n",
    "# Works okay\n",
    "print(invert_at_index(a, 1))\n",
    "\n",
    "# Potential ZeroDivisionError\n",
    "print(invert_at_index(a, 2))\n",
    "\n",
    "# Potential IndexError\n",
    "print(invert_at_index(a, 5))"
   ]
  },
  {
   "cell_type": "code",
   "execution_count": 73,
   "id": "f904472c-fb40-408b-b453-5aa1776d21af",
   "metadata": {},
   "outputs": [
    {
     "name": "stdout",
     "output_type": "stream",
     "text": [
      "0.16666666666666666\n",
      "Cannot divide by zero!\n",
      "None\n",
      "Index out of range!\n",
      "None\n"
     ]
    }
   ],
   "source": [
    "# MODIFY the function to catch exceptions\n",
    "def invert_at_index(x, ind):\n",
    "    return 1/x[ind]\n",
    " \n",
    "a = [5,6,0,7]\n",
    "\n",
    "print(invert_at_index(a, 1))\n",
    "\n",
    "\n",
    "# Potential ZeroDivisionError\n",
    "\n",
    "try:\n",
    "    invert_at_index(a,2)\n",
    "except ZeroDivisionError:\n",
    "    print(\"Cannot divide by zero!\\nNone\")\n",
    "except IndexError:\n",
    "    print(\"Index out of range!\\nNone\")\n",
    "finally:\n",
    "    pass\n",
    "    \n",
    "    \n",
    "try:\n",
    "      # <= the [try except finally] code was used for handling exception \n",
    "      # <= to prevent program terminating when an exception was raised\n",
    "    invert_at_index(a,5)\n",
    "except ZeroDivisionError:\n",
    "    print('Cannot divide by zero!\\nNone')\n",
    "except IndexError:\n",
    "    print(\"Index out of range!\\nNone\")\n",
    "finally:  # <= optional code block\n",
    "    pass\n"
   ]
  },
  {
   "cell_type": "code",
   "execution_count": 47,
   "id": "c00e1a7a-cc4b-44e6-9108-53d14361b583",
   "metadata": {},
   "outputs": [
    {
     "name": "stdout",
     "output_type": "stream",
     "text": [
      "0.16666666666666666\n",
      "Cannot divided by zero! \n",
      "None\n",
      "Index out of range! \n",
      "None\n"
     ]
    }
   ],
   "source": [
    "# MODIFY the function to catch exceptions\n",
    "def invert_at_index(x, ind):\n",
    "    try:\n",
    "        return 1/x[ind]\n",
    "    except IndexError:\n",
    "        print(\"Index out of range! \")\n",
    "    except ZeroDivisionError:\n",
    "        print(\"Cannot divided by zero! \")\n",
    "    finally:\n",
    "        pass\n",
    "\n",
    "    \n",
    "a = [5,6,0,7]\n",
    "\n",
    "# Works okay\n",
    "print(invert_at_index(a, 1))\n",
    "\n",
    "# Potential ZeroDivisionError\n",
    "print(invert_at_index(a, 2))\n",
    "\n",
    "# Potential IndexError\n",
    "print(invert_at_index(a, 5))"
   ]
  },
  {
   "cell_type": "markdown",
   "id": "881954e8-45bd-41ed-9bc9-bfc69c1fea0f",
   "metadata": {},
   "source": [
    "## Custom exceptions\n",
    "\n",
    "You don't have to rely solely on built-in exceptions like IndexError: you can define your own exceptions more specific to your application. You can also define exception hierarchies. All you need to define an exception is a class inherited from the built-in Exception class or one of its subclasses.\n",
    "\n",
    "In Chapter 1, you defined an Employee class and used print statements and default values to handle errors like creating an employee with a salary below the minimum or giving a raise that is too big. A better way to handle this situation is to use exceptions. Because these errors are specific to our application (unlike, for example, a division by zero error which is universal), it makes sense to use custom exception classes.\n",
    "\n",
    "\n",
    "\n",
    "\n",
    "\n",
    "    Define an empty class SalaryError inherited from the built-in ValueError class.\n",
    "    Define an empty class BonusError inherited from the SalaryError class.\n",
    "\n",
    "\n",
    "\n",
    "\n",
    "\n",
    "Instructions 1/3\n",
    "35 XP\n",
    "\n",
    "    1\n",
    "    2  missing\n",
    "    3  missing"
   ]
  },
  {
   "cell_type": "markdown",
   "id": "e6009efe-cd88-4e7e-895a-24037f915dfb",
   "metadata": {},
   "source": [
    "## Handling exception hierarchies\n",
    "\n",
    "\n",
    "\n",
    "\n",
    "Previously, you defined an Employee class with a method get_bonus() that raises a BonusError and a SalaryError depending on parameters. But the BonusError exception was inherited from the SalaryError exception. __How does exception inheritance affect exception handling?\n",
    "\n",
    "The Employee class has been defined for you. It has a minimal salary of 30000 and a maximal bonus amount of 5000.\n",
    "\n",
    "Question\n",
    "\n",
    "Experiment with the following code\n",
    "\n",
    "emp = Employee(\"Katze Rik\", salary=50000)\n",
    "try:\n",
    "  emp.give_bonus(7000)\n",
    "except SalaryError:\n",
    "  print(\"SalaryError caught!\")\n",
    "\n",
    "try:\n",
    "  emp.give_bonus(7000)\n",
    "except BonusError:\n",
    "  print(\"BonusError caught!\")\n",
    "\n",
    "try:\n",
    "  emp.give_bonus(-100000)\n",
    "except SalaryError:\n",
    "  print(\"SalaryError caught again!\")\n",
    "\n",
    "try:\n",
    "  emp.give_bonus(-100000)\n",
    "except BonusError:\n",
    "  print(\"BonusError caught again!\")  \n",
    "  \n",
    "\n",
    "and select the statement which is TRUE about handling parent/child exception classes:\n",
    "\n",
    "**except block for a parent exception will catch child exceptions**\n",
    "**except block for a parent exception will not catch child exceptions**\n",
    "\n",
    "\n",
    "\n",
    "## Hint\n",
    "\n",
    "    Giving a bonus over 5000 raises a BonusError which is inherited from the SalaryError, and giving a bonus that would result in a salary below 30000 will raise a SalaryError.\n",
    "    \n",
    "    Copy-paste the code from the question into the console. You can see whether an exception was caught by examining the output: if there are errors, the exception wasn't caught.\n",
    "\n",
    "\n",
    "\n",
    "\n",
    "\n",
    "\n",
    "Instructions 1/2\n",
    "50 XP\n",
    "\n",
    "    1\n",
    "    2  missing"
   ]
  },
  {
   "cell_type": "code",
   "execution_count": 106,
   "id": "1828ee84-4ef4-4bec-a208-662f71c2d4d7",
   "metadata": {},
   "outputs": [
    {
     "ename": "SalaryError",
     "evalue": "Salary below 30000 will raise SalaryError",
     "output_type": "error",
     "traceback": [
      "\u001b[0;31m---------------------------------------------------------------------------\u001b[0m",
      "\u001b[0;31mSalaryError\u001b[0m                               Traceback (most recent call last)",
      "\u001b[0;32m/tmp/ipykernel_1920/2450305548.py\u001b[0m in \u001b[0;36m<module>\u001b[0;34m\u001b[0m\n\u001b[1;32m     29\u001b[0m \u001b[0;34m\u001b[0m\u001b[0m\n\u001b[1;32m     30\u001b[0m \u001b[0;31m# Define a Manager object\u001b[0m\u001b[0;34m\u001b[0m\u001b[0;34m\u001b[0m\u001b[0;34m\u001b[0m\u001b[0m\n\u001b[0;32m---> 31\u001b[0;31m \u001b[0mmng\u001b[0m \u001b[0;34m=\u001b[0m \u001b[0mManager\u001b[0m\u001b[0;34m(\u001b[0m\u001b[0;34m'Debbie Lashko'\u001b[0m\u001b[0;34m,\u001b[0m\u001b[0;36m500\u001b[0m\u001b[0;34m)\u001b[0m\u001b[0;34m\u001b[0m\u001b[0;34m\u001b[0m\u001b[0m\n\u001b[0m\u001b[1;32m     32\u001b[0m \u001b[0mmng\u001b[0m\u001b[0;34m.\u001b[0m\u001b[0msalary\u001b[0m\u001b[0;34m\u001b[0m\u001b[0;34m\u001b[0m\u001b[0m\n\u001b[1;32m     33\u001b[0m \u001b[0;31m# Print mng's name\u001b[0m\u001b[0;34m\u001b[0m\u001b[0;34m\u001b[0m\u001b[0;34m\u001b[0m\u001b[0m\n",
      "\u001b[0;32m/tmp/ipykernel_1920/2450305548.py\u001b[0m in \u001b[0;36m__init__\u001b[0;34m(self, name, salary)\u001b[0m\n\u001b[1;32m     24\u001b[0m     \u001b[0;32mdef\u001b[0m \u001b[0m__init__\u001b[0m\u001b[0;34m(\u001b[0m\u001b[0mself\u001b[0m\u001b[0;34m,\u001b[0m\u001b[0mname\u001b[0m\u001b[0;34m,\u001b[0m\u001b[0msalary\u001b[0m\u001b[0;34m)\u001b[0m\u001b[0;34m:\u001b[0m\u001b[0;34m\u001b[0m\u001b[0;34m\u001b[0m\u001b[0m\n\u001b[1;32m     25\u001b[0m \u001b[0;34m\u001b[0m\u001b[0m\n\u001b[0;32m---> 26\u001b[0;31m         \u001b[0mEmployee\u001b[0m\u001b[0;34m.\u001b[0m\u001b[0m__init__\u001b[0m\u001b[0;34m(\u001b[0m\u001b[0mself\u001b[0m\u001b[0;34m,\u001b[0m \u001b[0mname\u001b[0m\u001b[0;34m,\u001b[0m \u001b[0msalary\u001b[0m\u001b[0;34m)\u001b[0m   \u001b[0;31m# <= trying to understand the beauty of code\u001b[0m\u001b[0;34m\u001b[0m\u001b[0;34m\u001b[0m\u001b[0m\n\u001b[0m\u001b[1;32m     27\u001b[0m         \u001b[0mself\u001b[0m\u001b[0;34m.\u001b[0m\u001b[0mname\u001b[0m \u001b[0;34m=\u001b[0m \u001b[0mname\u001b[0m\u001b[0;34m\u001b[0m\u001b[0;34m\u001b[0m\u001b[0m\n\u001b[1;32m     28\u001b[0m         \u001b[0mself\u001b[0m\u001b[0;34m.\u001b[0m\u001b[0msalary\u001b[0m \u001b[0;34m=\u001b[0m \u001b[0msalary\u001b[0m\u001b[0;34m\u001b[0m\u001b[0;34m\u001b[0m\u001b[0m\n",
      "\u001b[0;32m/tmp/ipykernel_1920/2450305548.py\u001b[0m in \u001b[0;36m__init__\u001b[0;34m(self, name, salary)\u001b[0m\n\u001b[1;32m     10\u001b[0m             \u001b[0mself\u001b[0m\u001b[0;34m.\u001b[0m\u001b[0msalary\u001b[0m \u001b[0;34m=\u001b[0m \u001b[0msalary\u001b[0m\u001b[0;34m\u001b[0m\u001b[0;34m\u001b[0m\u001b[0m\n\u001b[1;32m     11\u001b[0m         \u001b[0;32melse\u001b[0m\u001b[0;34m:\u001b[0m\u001b[0;34m\u001b[0m\u001b[0;34m\u001b[0m\u001b[0m\n\u001b[0;32m---> 12\u001b[0;31m             \u001b[0;32mraise\u001b[0m \u001b[0mSalaryError\u001b[0m\u001b[0;34m(\u001b[0m\u001b[0;34m\"Salary below 30000 will raise SalaryError\"\u001b[0m\u001b[0;34m)\u001b[0m\u001b[0;34m\u001b[0m\u001b[0;34m\u001b[0m\u001b[0m\n\u001b[0m\u001b[1;32m     13\u001b[0m             \u001b[0mself\u001b[0m\u001b[0;34m.\u001b[0m\u001b[0msalary\u001b[0m \u001b[0;34m=\u001b[0m \u001b[0mEmployee\u001b[0m\u001b[0;34m.\u001b[0m\u001b[0mMIN_SALARY\u001b[0m\u001b[0;34m\u001b[0m\u001b[0;34m\u001b[0m\u001b[0m\n\u001b[1;32m     14\u001b[0m \u001b[0;34m\u001b[0m\u001b[0m\n",
      "\u001b[0;31mSalaryError\u001b[0m: Salary below 30000 will raise SalaryError"
     ]
    }
   ],
   "source": [
    "class SalaryError(Exception): pass\n",
    "class BonusError(SalaryError): pass\n",
    "\n",
    "class Employee:\n",
    "    MIN_SALARY = 30000\n",
    "    \n",
    "    def __init__(self, name, salary=MIN_SALARY):\n",
    "        self.name = name\n",
    "        if salary >= Employee.MIN_SALARY:\n",
    "            self.salary = salary\n",
    "        else:\n",
    "            raise SalaryError(\"Salary below 30000 will raise SalaryError\")\n",
    "            self.salary = Employee.MIN_SALARY\n",
    "        \n",
    "    def give_raise(self, bonus):\n",
    "        if bonus > 5000:\n",
    "            raise BonusError(\"Bonus over 5000 raise BonusError\")\n",
    "            bonus = 5000\n",
    "        else:\n",
    "            self.salary += bonus      \n",
    "        \n",
    "# Define a new class Manager inheriting from Employee\n",
    "class Manager(Employee):\n",
    "    def __init__(self,name,salary):\n",
    "        \n",
    "        Employee.__init__(self, name, salary)   # <= trying to understand the beauty of code\n",
    "        self.name = name\n",
    "        self.salary = salary\n",
    "\n",
    "# Define a Manager object\n",
    "mng = Manager('Debbie Lashko',500)\n",
    "mng.salary\n",
    "# Print mng's name\n",
    "#mng.give_raise(6000)"
   ]
  },
  {
   "cell_type": "code",
   "execution_count": 110,
   "id": "50c9756e-6bf7-4726-9f42-4b3a9329e103",
   "metadata": {},
   "outputs": [
    {
     "ename": "SalaryError",
     "evalue": "Salary below 60000 will raise SalaryError",
     "output_type": "error",
     "traceback": [
      "\u001b[0;31m---------------------------------------------------------------------------\u001b[0m",
      "\u001b[0;31mSalaryError\u001b[0m                               Traceback (most recent call last)",
      "\u001b[0;32m/tmp/ipykernel_1920/2535524304.py\u001b[0m in \u001b[0;36m<module>\u001b[0;34m\u001b[0m\n\u001b[1;32m     35\u001b[0m \u001b[0;34m\u001b[0m\u001b[0m\n\u001b[1;32m     36\u001b[0m \u001b[0;31m# Define a Manager object\u001b[0m\u001b[0;34m\u001b[0m\u001b[0;34m\u001b[0m\u001b[0;34m\u001b[0m\u001b[0m\n\u001b[0;32m---> 37\u001b[0;31m \u001b[0mmng\u001b[0m \u001b[0;34m=\u001b[0m \u001b[0mManager\u001b[0m\u001b[0;34m(\u001b[0m\u001b[0;34m'Debbie Lashko'\u001b[0m\u001b[0;34m,\u001b[0m\u001b[0;36m500\u001b[0m\u001b[0;34m)\u001b[0m\u001b[0;34m\u001b[0m\u001b[0;34m\u001b[0m\u001b[0m\n\u001b[0m\u001b[1;32m     38\u001b[0m \u001b[0mmng\u001b[0m\u001b[0;34m.\u001b[0m\u001b[0msalary\u001b[0m\u001b[0;34m\u001b[0m\u001b[0;34m\u001b[0m\u001b[0m\n\u001b[1;32m     39\u001b[0m \u001b[0;34m\u001b[0m\u001b[0m\n",
      "\u001b[0;32m/tmp/ipykernel_1920/2535524304.py\u001b[0m in \u001b[0;36m__init__\u001b[0;34m(self, name, salary)\u001b[0m\n\u001b[1;32m     29\u001b[0m         \u001b[0mself\u001b[0m\u001b[0;34m.\u001b[0m\u001b[0mname\u001b[0m \u001b[0;34m=\u001b[0m \u001b[0mname\u001b[0m\u001b[0;34m\u001b[0m\u001b[0;34m\u001b[0m\u001b[0m\n\u001b[1;32m     30\u001b[0m         \u001b[0;32mif\u001b[0m \u001b[0msalary\u001b[0m \u001b[0;34m<\u001b[0m \u001b[0mManager\u001b[0m\u001b[0;34m.\u001b[0m\u001b[0mMIN_SALARY\u001b[0m\u001b[0;34m:\u001b[0m\u001b[0;34m\u001b[0m\u001b[0;34m\u001b[0m\u001b[0m\n\u001b[0;32m---> 31\u001b[0;31m             \u001b[0;32mraise\u001b[0m \u001b[0mSalaryError\u001b[0m\u001b[0;34m(\u001b[0m\u001b[0;34m\"Salary below 60000 will raise SalaryError\"\u001b[0m\u001b[0;34m)\u001b[0m\u001b[0;34m\u001b[0m\u001b[0;34m\u001b[0m\u001b[0m\n\u001b[0m\u001b[1;32m     32\u001b[0m             \u001b[0msalary\u001b[0m\u001b[0;34m=\u001b[0m\u001b[0mManager\u001b[0m\u001b[0;34m.\u001b[0m\u001b[0mMIN_SALARY\u001b[0m\u001b[0;34m\u001b[0m\u001b[0;34m\u001b[0m\u001b[0m\n\u001b[1;32m     33\u001b[0m         \u001b[0;32melse\u001b[0m\u001b[0;34m:\u001b[0m\u001b[0;34m\u001b[0m\u001b[0;34m\u001b[0m\u001b[0m\n",
      "\u001b[0;31mSalaryError\u001b[0m: Salary below 60000 will raise SalaryError"
     ]
    }
   ],
   "source": [
    "class SalaryError(Exception): pass\n",
    "class BonusError(Exception): pass\n",
    "\n",
    "class Employee:\n",
    "    MIN_SALARY = 30000\n",
    "    \n",
    "    def __init__(self, name, salary=MIN_SALARY):\n",
    "        self.name = name\n",
    "        if salary < Employee.MIN_SALARY:\n",
    "            raise SalaryError(\"Salary below 30000 will raise SalaryError\")\n",
    "            #self.salary = Employee.MIN_SALARY\n",
    "            salary = Employee.MIN_SALARY\n",
    "        else:\n",
    "            self.salary = salary\n",
    "        \n",
    "    def give_raise(self, bonus):\n",
    "        if bonus > 5000:\n",
    "            raise BonusError(\"Bonus over 5000 raise BonusError\")\n",
    "            bonus = 5000\n",
    "        else:\n",
    "            self.salary += bonus      \n",
    "        \n",
    "# Define a new class Manager inheriting from Employee\n",
    "class Manager(Employee):\n",
    "    MIN_SALARY = 60000\n",
    "    \n",
    "    def __init__(self,name,salary=MIN_SALARY):\n",
    "        Employee.__init__(self,name)  # not using salary in Employee class to provent wrong Exception\n",
    "        self.name = name\n",
    "        if salary < Manager.MIN_SALARY:\n",
    "            raise SalaryError(\"Salary below 60000 will raise SalaryError\")\n",
    "            salary=Manager.MIN_SALARY\n",
    "        else:\n",
    "            self.salary = salary\n",
    "\n",
    "# Define a Manager object\n",
    "mng = Manager('Debbie Lashko',500)\n",
    "mng.salary\n",
    "\n",
    "#emp = Employee('John',400)"
   ]
  },
  {
   "cell_type": "code",
   "execution_count": 17,
   "id": "7749ecc9-f16b-4f7d-9cf0-998ee1cc210f",
   "metadata": {},
   "outputs": [
    {
     "data": {
      "text/plain": [
       "60000"
      ]
     },
     "execution_count": 17,
     "metadata": {},
     "output_type": "execute_result"
    }
   ],
   "source": [
    "class SalaryError(Exception): pass\n",
    "class BonusError(Exception): pass\n",
    "\n",
    "class Employee:\n",
    "    MIN_SALARY = 30000\n",
    "    \n",
    "    def __init__(self, name, salary=MIN_SALARY):\n",
    "        self.name = name\n",
    "        if salary < Employee.MIN_SALARY:\n",
    "            raise SalaryError(\"Salary below 30000 will raise SalaryError\")\n",
    "            #self.salary = Employee.MIN_SALARY\n",
    "            salary = Employee.MIN_SALARY\n",
    "        else:\n",
    "            self.salary = salary\n",
    "        \n",
    "    def give_raise(self, bonus):\n",
    "        if bonus > 5000:\n",
    "            raise BonusError(\"Bonus over 5000 raise BonusError\")\n",
    "            bonus = 5000\n",
    "        else:\n",
    "            self.salary += bonus      \n",
    "        \n",
    "# Define a new class Manager inheriting from Employee\n",
    "class Manager(Employee):\n",
    "    MIN_SALARY = 60000\n",
    "    \n",
    "    def __init__(self,name,salary=MIN_SALARY):\n",
    "        Employee.__init__(self,name)  # not using salary in Employee class to provent wrong Exception\n",
    "        self.name = name\n",
    "        if salary < Manager.MIN_SALARY:\n",
    "            raise SalaryError(\"Salary below 60000 will raise SalaryError\")\n",
    "            salary=Manager.MIN_SALARY\n",
    "        else:\n",
    "            self.salary = salary\n",
    "\n",
    "            \n",
    "# Define a Manager object\n",
    "try:\n",
    "    mng = Manager('Debbie Lashko',500)\n",
    "except SalaryError:\n",
    "    mng = Manager('Debbie Lashko')\n",
    "    \n",
    "mng.salary\n",
    "\n",
    "#emp = Employee('John',400)"
   ]
  },
  {
   "cell_type": "code",
   "execution_count": 107,
   "id": "27a5a94c-c502-466a-b93d-89860ef1be45",
   "metadata": {},
   "outputs": [
    {
     "ename": "BonusError",
     "evalue": "Bonus over 5000 raise BonusError",
     "output_type": "error",
     "traceback": [
      "\u001b[0;31m---------------------------------------------------------------------------\u001b[0m",
      "\u001b[0;31mBonusError\u001b[0m                                Traceback (most recent call last)",
      "\u001b[0;32m/tmp/ipykernel_1920/3563885343.py\u001b[0m in \u001b[0;36m<module>\u001b[0;34m\u001b[0m\n\u001b[1;32m     38\u001b[0m \u001b[0memp\u001b[0m \u001b[0;34m=\u001b[0m \u001b[0mEmployee\u001b[0m\u001b[0;34m(\u001b[0m\u001b[0;34m\"Katze Rik\"\u001b[0m\u001b[0;34m,\u001b[0m \u001b[0msalary\u001b[0m\u001b[0;34m=\u001b[0m\u001b[0;36m50000\u001b[0m\u001b[0;34m)\u001b[0m\u001b[0;34m\u001b[0m\u001b[0;34m\u001b[0m\u001b[0m\n\u001b[1;32m     39\u001b[0m \u001b[0;32mtry\u001b[0m\u001b[0;34m:\u001b[0m\u001b[0;34m\u001b[0m\u001b[0;34m\u001b[0m\u001b[0m\n\u001b[0;32m---> 40\u001b[0;31m     \u001b[0memp\u001b[0m\u001b[0;34m.\u001b[0m\u001b[0mgive_raise\u001b[0m\u001b[0;34m(\u001b[0m\u001b[0;36m7000\u001b[0m\u001b[0;34m)\u001b[0m\u001b[0;34m\u001b[0m\u001b[0;34m\u001b[0m\u001b[0m\n\u001b[0m\u001b[1;32m     41\u001b[0m \u001b[0;32mexcept\u001b[0m \u001b[0mSalaryError\u001b[0m\u001b[0;34m:\u001b[0m\u001b[0;34m\u001b[0m\u001b[0;34m\u001b[0m\u001b[0m\n\u001b[1;32m     42\u001b[0m     \u001b[0mprint\u001b[0m\u001b[0;34m(\u001b[0m\u001b[0;34m\"SalaryError caught!\"\u001b[0m\u001b[0;34m)\u001b[0m\u001b[0;34m\u001b[0m\u001b[0;34m\u001b[0m\u001b[0m\n",
      "\u001b[0;32m/tmp/ipykernel_1920/3563885343.py\u001b[0m in \u001b[0;36mgive_raise\u001b[0;34m(self, bonus)\u001b[0m\n\u001b[1;32m     16\u001b[0m     \u001b[0;32mdef\u001b[0m \u001b[0mgive_raise\u001b[0m\u001b[0;34m(\u001b[0m\u001b[0mself\u001b[0m\u001b[0;34m,\u001b[0m \u001b[0mbonus\u001b[0m\u001b[0;34m)\u001b[0m\u001b[0;34m:\u001b[0m\u001b[0;34m\u001b[0m\u001b[0;34m\u001b[0m\u001b[0m\n\u001b[1;32m     17\u001b[0m         \u001b[0;32mif\u001b[0m \u001b[0mbonus\u001b[0m \u001b[0;34m>\u001b[0m \u001b[0;36m5000\u001b[0m\u001b[0;34m:\u001b[0m\u001b[0;34m\u001b[0m\u001b[0;34m\u001b[0m\u001b[0m\n\u001b[0;32m---> 18\u001b[0;31m             \u001b[0;32mraise\u001b[0m \u001b[0mBonusError\u001b[0m\u001b[0;34m(\u001b[0m\u001b[0;34m\"Bonus over 5000 raise BonusError\"\u001b[0m\u001b[0;34m)\u001b[0m\u001b[0;34m\u001b[0m\u001b[0;34m\u001b[0m\u001b[0m\n\u001b[0m\u001b[1;32m     19\u001b[0m             \u001b[0mbonus\u001b[0m \u001b[0;34m=\u001b[0m \u001b[0;36m5000\u001b[0m\u001b[0;34m\u001b[0m\u001b[0;34m\u001b[0m\u001b[0m\n\u001b[1;32m     20\u001b[0m         \u001b[0;32melse\u001b[0m\u001b[0;34m:\u001b[0m\u001b[0;34m\u001b[0m\u001b[0;34m\u001b[0m\u001b[0m\n",
      "\u001b[0;31mBonusError\u001b[0m: Bonus over 5000 raise BonusError"
     ]
    }
   ],
   "source": [
    "class SalaryError(Exception): pass\n",
    "class BonusError(Exception): pass\n",
    "\n",
    "class Employee:\n",
    "    MIN_SALARY = 30000\n",
    "    \n",
    "    def __init__(self, name, salary=MIN_SALARY):\n",
    "        self.name = name\n",
    "        if salary < Employee.MIN_SALARY:\n",
    "            raise SalaryError(\"Salary below 30000 will raise SalaryError\")\n",
    "            #self.salary = Employee.MIN_SALARY\n",
    "            salary = Employee.MIN_SALARY\n",
    "        else:\n",
    "            self.salary = salary\n",
    "        \n",
    "    def give_raise(self, bonus):\n",
    "        if bonus > 5000:\n",
    "            raise BonusError(\"Bonus over 5000 raise BonusError\")\n",
    "            bonus = 5000\n",
    "        else:\n",
    "            self.salary += bonus      \n",
    "        \n",
    "# Define a new class Manager inheriting from Employee\n",
    "class Manager(Employee):\n",
    "    MIN_SALARY = 30000\n",
    "    \n",
    "    def __init__(self,name,salary=MIN_SALARY):\n",
    "        Employee.__init__(self,name)  # not using salary in Employee class to provent wrong Exception\n",
    "        self.name = name\n",
    "        if salary < Manager.MIN_SALARY:\n",
    "            raise SalaryError(\"Salary below 60000 will raise SalaryError\")\n",
    "            salary=Manager.MIN_SALARY\n",
    "        else:\n",
    "            self.salary = salary\n",
    "\n",
    "\n",
    "\n",
    "emp = Employee(\"Katze Rik\", salary=50000)\n",
    "try:\n",
    "    emp.give_raise(7000)\n",
    "except SalaryError:\n",
    "    print(\"SalaryError caught!\")\n",
    "\n",
    "try:\n",
    "    emp.give_raise(7000)\n",
    "except BonusError:\n",
    "    print(\"BonusError caught!\")\n",
    "\n",
    "try:\n",
    "    emp.give_raise(-100000)\n",
    "except SalaryError:\n",
    "    print(\"SalaryError caught again!\")\n",
    "\n",
    "try:\n",
    "    emp.give_raise(-100000)\n",
    "except BonusError:\n",
    "    print(\"BonusError caught again!\")"
   ]
  },
  {
   "cell_type": "markdown",
   "id": "ad1d09d6-559d-4221-937e-2f5da28044e3",
   "metadata": {},
   "source": [
    "## Designing for inheritance and polymorphism\n",
    "\n",
    "\n",
    "\n",
    "\n",
    "\n",
    "\n",
    "\n",
    "**This is the finally chapter\n",
    "\n",
    "we'll cover two topics: __efficient using of inheritance__, and __managing the levels of access to the data contained in your object. \n",
    "\n",
    "\n",
    "## polymorphism means using a unified interface to operate on object of different classes. we've already dealt with it in chapter two. \n",
    "\n",
    "\n"
   ]
  },
  {
   "cell_type": "markdown",
   "id": "5755998c-9b9b-4211-956e-e4f7245164e1",
   "metadata": {},
   "source": [
    "## Designing for inheritance and polymorphism\n",
    "\n",
    "\n",
    "__All that matter is the interface__\n",
    "\n",
    "\n",
    "\n"
   ]
  },
  {
   "cell_type": "code",
   "execution_count": null,
   "id": "ba15f994-df6d-4f33-a041-2d88bfb1d754",
   "metadata": {},
   "outputs": [],
   "source": [
    "# withdraw amount of money from each of account in list_of_accounts\n",
    "\n",
    "\n",
    "def batch_withdraw(list_of_accounts, amount):\n",
    "    for acct in list_of_accounts:\n",
    "        acct.withdraw(amount)\n",
    "        \n",
    "        \n",
    "b, c, s = BankAccount(1000), CheckingAccount(2000), SavingsAccount(3000)\n",
    "batch_withdraw([a, c, s])   # <= Will use BankAccount.withdraw()\n",
    "                            # <= then use SavingsAccount.withdraw()\n",
    "                            # <= and use CheckingAccount.withdraw()\n",
    "        "
   ]
  },
  {
   "cell_type": "markdown",
   "id": "dea2e199-7f95-4806-8746-1ef4237c563a",
   "metadata": {},
   "source": [
    "## this function doesnt know or care wheather the object passed to it are checking_accounts, saving_accounts or mix \n",
    "**-- all that matter is that they have a withdraw method that accept one argument. that is enough to make the function work. \n",
    "\n",
    "\n",
    "\n",
    "\n",
    "## it doesnt check which withdraw it should call -- the original or the modified. \n",
    "\n",
    "\n",
    "**When the withdraw method is actually called, Python will dynamically pull the correct method: modified withdraw for whenever a checkingaccount is being processed, and a base withdraw for whenever a savings accounts or generic bank account is processed. \n",
    "\n",
    "\n",
    "## so the writer of this batch process function, dont need to worry about what exactly is being passed to it, only what kind of interface it has. \n",
    "\n",
    "**to really make use of this idea, you have to design your classes with inheritance and polymorphism - the uniformity of interface in mind. \n",
    "\n",
    "**a base class should be interchangeable with any of its subclasses without altering any properties of the surrounding program. -------the Liskov Substitution Principle\n",
    "\n",
    "\n",
    "###################################################################################################\n",
    "wherever in your application you use a BankAccount object instance, substituting a CheckAccount instead should not affect anything in the surrounding program. Fpr example, the batch withdraw function worked regardless of what kind of account was used. \n",
    "###################################################################################################\n",
    "\n",
    "this should be true both syntactically and semantically. On the one hand, the method in a subclass should have a signataure with parameter and returned value compatible with the method in the parent class. On the other hand, the state of objects also must stay consistent; the sublcass method shouldnt rely on stronger input condition, should not provide weaker output conditions, it should not throw addition exceptions and so on. \n",
    "\n",
    "\n"
   ]
  },
  {
   "cell_type": "markdown",
   "id": "8c4478d0-27d3-41e8-ae15-ff0764ee117d",
   "metadata": {},
   "source": [
    "## Violating LSP\n",
    "\n",
    "## No LSP --- No inheritance\n",
    "\n",
    "\n",
    "\n",
    "## Syntactic incompatibility\n",
    "__Parent withdraw method BankAccount.withdrow() require 1 parameter, but the subclass method  CheckingAccount.withdrow() requires 2,__ then we coundnt use subclass' withdraw in place of parent\n",
    "  but if the subclass method has a default value for the second parameter, then there is no problem. \n",
    "\n",
    "\n",
    "## Subclass strengthening input condition\n",
    "__If the subclass only accept certain amounts, unlike the base one.__ \n",
    "    BankAccount.withdraw() accept any amount, but CheckingAccount.withdraw() assume the amount is limited\n",
    "\n",
    "\n",
    "## Subclass weakening output condition\n",
    "__If the base withdraw had a check for weather the resulting balance is positive, and only performed withdraw in that case, but the subclass did not do that. \n",
    "\n",
    "\n",
    "## change additional attributes in subclass's method\n",
    "\n",
    "\n",
    "## throwing additional exception in subclass's method\n",
    "\n",
    "\n"
   ]
  },
  {
   "cell_type": "markdown",
   "id": "9fab4c2d-4685-4438-8b94-05b1b918b1f1",
   "metadata": {},
   "source": [
    "## Polymorphic methods\n",
    "\n",
    "\n",
    "To design classes effectively, you need to understand how inheritance and polymorphism work together.\n",
    "\n",
    "In this exercise, you have three classes - one parent and two children - each of which has a talk() method. Analyze the following code:"
   ]
  },
  {
   "cell_type": "code",
   "execution_count": 348,
   "id": "e4115c96-be6a-4007-b275-f3fedcbfa31c",
   "metadata": {},
   "outputs": [
    {
     "name": "stdout",
     "output_type": "stream",
     "text": [
      "Parent talking!\n",
      "Child talking!\n",
      "TalkativeChild talking!\n",
      "Parent talking!\n"
     ]
    }
   ],
   "source": [
    "\n",
    "\n",
    "class Parent:\n",
    "    def talk(self):\n",
    "        print(\"Parent talking!\")     \n",
    "\n",
    "class Child(Parent):\n",
    "    def talk(self):\n",
    "        print(\"Child talking!\")          \n",
    "\n",
    "class TalkativeChild(Parent):\n",
    "    def talk(self):\n",
    "        print(\"TalkativeChild talking!\")\n",
    "        Parent.talk(self)\n",
    "\n",
    "\n",
    "p, c, tc = Parent(), Child(), TalkativeChild()\n",
    "\n",
    "for obj in (p, c, tc):\n",
    "    obj.talk()\n"
   ]
  },
  {
   "cell_type": "markdown",
   "id": "74a52241-4fe2-48ab-9841-390a871f21f3",
   "metadata": {},
   "source": [
    "## Square and rectangle\n",
    "\n",
    "\n",
    "\n",
    "The classic example of a problem that violates the Liskov Substitution Principle is the Circle-Ellipse problem, sometimes called the Square-Rectangle problem.\n",
    "\n",
    "By all means, it seems like you should be able to define a class Rectangle, with attributes h and w (for height and width), and then define a class Square that inherits from the Rectangle. After all, a square \"is-a\" rectangle!\n",
    "\n",
    "Unfortunately, this intuition doesn't apply to object-oriented design.\n",
    "\n",
    "\n",
    "\n",
    "    Create a class Rectangle with a constructor that accepts two parameters, h and w, and sets its h and w attributes to the values of h and w.\n",
    "    \n",
    "    Create a class Square inherited from Rectangle with a constructor that accepts one parameter w, and sets both the h and w attributes to the value of w.\n",
    "\n",
    "\n",
    "\n",
    "\n",
    "\n",
    "\n",
    "Instructions 1/4\n",
    "25 XP\n",
    "\n",
    "    1\n",
    "    2  missing\n",
    "    3  missing\n",
    "    4  missing"
   ]
  },
  {
   "cell_type": "code",
   "execution_count": 120,
   "id": "f73697db-c344-4278-8442-bf6d2488fcc4",
   "metadata": {},
   "outputs": [
    {
     "name": "stdout",
     "output_type": "stream",
     "text": [
      "5\n",
      "10\n",
      "6\n",
      "6\n"
     ]
    }
   ],
   "source": [
    "# Define a Rectangle class\n",
    "class Rectangle:\n",
    "    def __init__(self, h, w):\n",
    "        ''' a constructor that accepts two parameters, h and w, \n",
    "            and sets its h and w attributes to the values of h and w '''\n",
    "        self.h, self.w = h, w\n",
    "\n",
    "\n",
    "# Define a Square class\n",
    "class Square(Rectangle):\n",
    "    def __init__(self, w):\n",
    "        #Rectangle.__init__(self,  w)  # <= why we cant call parent constructor \n",
    "        # https://stackoverflow.com/questions/1385759/should-init-call-the-parent-classs-init#1385836\n",
    "        self.w = w \n",
    "        self.h = w\n",
    "        \n",
    "        \n",
    "rec = Rectangle(5,10)\n",
    "squ = Square(6)\n",
    "\n",
    "\n",
    "print(rec.h)\n",
    "print(rec.w)\n",
    "\n",
    "print(squ.h)\n",
    "print(squ.w)"
   ]
  },
  {
   "cell_type": "markdown",
   "id": "2dc1c577-dedb-4536-9601-c30b8de837db",
   "metadata": {},
   "source": [
    "## Managing data access: private attributes\n",
    "\n",
    "\n",
    "\n",
    "\n",
    "__All class data in Python is technically public, Any attribute oe method of any class can be accessed by anyone. That said, thereare few ways to manage access to data. \n",
    "\n",
    "\n",
    "**we can use some universal naming convensions to signal that the data is not for extrnal consumption\n",
    "**and there are special kind of sttributes called @property that allows you to control how each attribute is modified\n",
    "**finally there are special methods that you can override to change how attribute are used entirely\n",
    "      __getattr__()  __setattr__()\n",
    "      \n",
    "      \n",
    "      \n",
    "## naming convension: internal attributes\n",
    "   \n",
    "   ### obj._att_name   obj._method_name()\n",
    "        *starts with a single underscore _  >  internal\n",
    "        *not part of public api\n",
    "   \n",
    "   **using single leading underscore to indicate an attribute or method that arent part of public class interface, and can change without notice. \n",
    "   \n",
    "   ### obj.__attr_name   obj.__method_name()\n",
    "        *it means that this data is not inherited\n",
    "        *obj.__sttr_name is interpreted as obj._MyClass__attr_name, and that new \n",
    "            name wll be the actual internal name of the attribute or method\n",
    "   \n",
    "   **another naming convension is using a leading double underscore \n",
    "   \n",
    "   \n",
    "    \n",
    "## the main use of these pseudo-private attribute is to prevent name clashes in child classes: you cant control what attributes or methods someone will introduce when inheriting from your class, and its possible that someone will unknowingly introduce a name that already exist in your class, thus overriding the present method or attribute. \n",
    "\n",
    "**you can use double leading underscores to protect important attributes and methods that should not be overridden. \n"
   ]
  },
  {
   "cell_type": "markdown",
   "id": "0a19ff88-a832-4c57-8648-e4d7a95647f2",
   "metadata": {},
   "source": [
    "## Using internal attributes\n",
    "\n",
    "In this exercise, you'll return to the BetterDate class of Chapter 2. Your date class is better because it will use the sensible convention of having exactly 30 days in each month.\n",
    "\n",
    "You decide to add a method that checks the validity of the date, but you don't want to make it a part of BetterDate's public interface.\n",
    "\n",
    "The class BetterDate is available in the script pane.\n",
    "\n",
    "\n",
    "\n",
    "\n",
    "    Add a class attribute _MAX_DAYS storing the maximal number of days in a month - 30.\n",
    "    Add another class attribute storing the maximal number of months in a year - 12. Use the appropriate naming convention to indicate that this is an internal attribute.\n",
    "    Add an _is_valid() method that returns True if the day and month attributes are less than or equal to the corresponding maximum values, and False otherwise. Make sure to refer to the class attributes by their names!\n"
   ]
  },
  {
   "cell_type": "code",
   "execution_count": 184,
   "id": "09ee72ca-ac10-4ef0-8d48-4de1b6f90351",
   "metadata": {},
   "outputs": [
    {
     "name": "stdout",
     "output_type": "stream",
     "text": [
      "True\n",
      "False\n",
      "2021\n",
      "9\n",
      "13\n",
      "False\n"
     ]
    },
    {
     "ename": "TypeError",
     "evalue": "cannot unpack non-iterable BetterDate object",
     "output_type": "error",
     "traceback": [
      "\u001b[0;31m---------------------------------------------------------------------------\u001b[0m",
      "\u001b[0;31mTypeError\u001b[0m                                 Traceback (most recent call last)",
      "\u001b[0;32m/tmp/ipykernel_1920/1557071960.py\u001b[0m in \u001b[0;36m<module>\u001b[0;34m\u001b[0m\n\u001b[1;32m     57\u001b[0m \u001b[0;34m\u001b[0m\u001b[0m\n\u001b[1;32m     58\u001b[0m \u001b[0mpi\u001b[0m \u001b[0;34m=\u001b[0m \u001b[0mPick\u001b[0m\u001b[0;34m(\u001b[0m\u001b[0;34m)\u001b[0m\u001b[0;34m\u001b[0m\u001b[0;34m\u001b[0m\u001b[0m\n\u001b[0;32m---> 59\u001b[0;31m \u001b[0mpi\u001b[0m\u001b[0;34m.\u001b[0m\u001b[0mdate\u001b[0m\u001b[0;34m(\u001b[0m\u001b[0;34m'2019-13-76'\u001b[0m\u001b[0;34m)\u001b[0m\u001b[0;34m\u001b[0m\u001b[0;34m\u001b[0m\u001b[0m\n\u001b[0m\u001b[1;32m     60\u001b[0m \u001b[0;34m\u001b[0m\u001b[0m\n\u001b[1;32m     61\u001b[0m \u001b[0;31m#datestr = '2019-13-76'\u001b[0m\u001b[0;34m\u001b[0m\u001b[0;34m\u001b[0m\u001b[0;34m\u001b[0m\u001b[0m\n",
      "\u001b[0;32m/tmp/ipykernel_1920/1557071960.py\u001b[0m in \u001b[0;36mdate\u001b[0;34m(self, datestr)\u001b[0m\n\u001b[1;32m     27\u001b[0m         \u001b[0;32mpass\u001b[0m\u001b[0;34m\u001b[0m\u001b[0;34m\u001b[0m\u001b[0m\n\u001b[1;32m     28\u001b[0m     \u001b[0;32mdef\u001b[0m \u001b[0mdate\u001b[0m\u001b[0;34m(\u001b[0m\u001b[0mself\u001b[0m\u001b[0;34m,\u001b[0m \u001b[0mdatestr\u001b[0m\u001b[0;34m)\u001b[0m\u001b[0;34m:\u001b[0m\u001b[0;34m\u001b[0m\u001b[0;34m\u001b[0m\u001b[0m\n\u001b[0;32m---> 29\u001b[0;31m         \u001b[0myear\u001b[0m\u001b[0;34m,\u001b[0m \u001b[0mmonth\u001b[0m\u001b[0;34m,\u001b[0m \u001b[0mday\u001b[0m \u001b[0;34m=\u001b[0m \u001b[0mBetterDate\u001b[0m\u001b[0;34m.\u001b[0m\u001b[0mfrom_str\u001b[0m\u001b[0;34m(\u001b[0m\u001b[0mdatestr\u001b[0m\u001b[0;34m)\u001b[0m \u001b[0;31m# <= maybe people never coding like this******\u001b[0m\u001b[0;34m\u001b[0m\u001b[0;34m\u001b[0m\u001b[0m\n\u001b[0m\u001b[1;32m     30\u001b[0m         \u001b[0;32mreturn\u001b[0m \u001b[0myear\u001b[0m\u001b[0;34m,\u001b[0m \u001b[0mmonth\u001b[0m\u001b[0;34m,\u001b[0m \u001b[0mday\u001b[0m\u001b[0;34m\u001b[0m\u001b[0;34m\u001b[0m\u001b[0m\n\u001b[1;32m     31\u001b[0m \u001b[0;34m\u001b[0m\u001b[0m\n",
      "\u001b[0;31mTypeError\u001b[0m: cannot unpack non-iterable BetterDate object"
     ]
    }
   ],
   "source": [
    "# Add class attributes for max number of days and months\n",
    "class BetterDate:\n",
    "    _MAX_DAYS = 30\n",
    "    _MAX_MONTHS = 12\n",
    "    \n",
    "    def __init__(self, year, month, day):\n",
    "        self.year, self.month, self.day = year, month, day\n",
    "        \n",
    "    @classmethod\n",
    "    def from_str(cls, datestr):\n",
    "        year, month, day = map(int, datestr.split(\"-\"))\n",
    "        return cls(year, month, day)\n",
    "    \n",
    "    # Add _is_valid() checking day and month values\n",
    "    def _is_valid(self):\n",
    "        return True if self.month < BetterDate._MAX_MONTHS and \\\n",
    "        self.day <= BetterDate._MAX_DAYS else False\n",
    "    \n",
    "    \n",
    "class DateA(BetterDate):\n",
    "    #def __init__(self):  # <= without subclass constructor, we can call parent class class method\n",
    "    pass\n",
    "\n",
    "\n",
    "class Pick:\n",
    "    def __init__(self):\n",
    "        pass\n",
    "    def date(self, datestr):\n",
    "        year, month, day = BetterDate.from_str(datestr) # <= maybe people never coding like this******\n",
    "        return year, month, day\n",
    "\n",
    "#def date1(datestr):\n",
    "#    year, month, day = BetterDate.from_str(datestr)\n",
    "#    return year, month, day\n",
    "\n",
    "\n",
    "    \n",
    "bd1 = BetterDate(2020, 4, 30)\n",
    "print(bd1._is_valid())\n",
    "\n",
    "bd2 = BetterDate(2020, 6, 45)\n",
    "print(bd2._is_valid())\n",
    "\n",
    "\n",
    "da1 = BetterDate.from_str('2021-02-19')\n",
    "print(da1.year)\n",
    "\n",
    "da2 = DateA.from_str('2022-06-09')\n",
    "print(da2.day)\n",
    "\n",
    "da3 = DateA.from_str('2028-13-09')  #\n",
    "print(da3.month)\n",
    "\n",
    "da4 = DateA.from_str('2199-18-43')  # <= THINK\n",
    "print(da4._is_valid())\n",
    "\n",
    "\n",
    "pi = Pick()\n",
    "pi.date('2019-13-76')\n",
    "\n",
    "#datestr = '2019-13-76'\n",
    "#pi = date1(datestr)\n",
    "#pi.day"
   ]
  },
  {
   "cell_type": "code",
   "execution_count": 165,
   "id": "32f428e8-10a1-4e64-a7f4-9536faad3673",
   "metadata": {},
   "outputs": [
    {
     "name": "stdout",
     "output_type": "stream",
     "text": [
      "True\n",
      "False\n",
      "2021\n",
      "9\n",
      "13\n"
     ]
    },
    {
     "ename": "AttributeError",
     "evalue": "'DateA' object has no attribute '_DateA__is_valid'",
     "output_type": "error",
     "traceback": [
      "\u001b[0;31m---------------------------------------------------------------------------\u001b[0m",
      "\u001b[0;31mAttributeError\u001b[0m                            Traceback (most recent call last)",
      "\u001b[0;32m/tmp/ipykernel_1920/1977671722.py\u001b[0m in \u001b[0;36m<module>\u001b[0;34m\u001b[0m\n\u001b[1;32m     40\u001b[0m \u001b[0;34m\u001b[0m\u001b[0m\n\u001b[1;32m     41\u001b[0m \u001b[0mda4\u001b[0m \u001b[0;34m=\u001b[0m \u001b[0mDateA\u001b[0m\u001b[0;34m.\u001b[0m\u001b[0mfrom_str\u001b[0m\u001b[0;34m(\u001b[0m\u001b[0;34m'2199-18-43'\u001b[0m\u001b[0;34m)\u001b[0m  \u001b[0;31m# <= THINK\u001b[0m\u001b[0;34m\u001b[0m\u001b[0;34m\u001b[0m\u001b[0m\n\u001b[0;32m---> 42\u001b[0;31m \u001b[0mprint\u001b[0m\u001b[0;34m(\u001b[0m\u001b[0mda4\u001b[0m\u001b[0;34m.\u001b[0m\u001b[0m_DateA__is_valid\u001b[0m\u001b[0;34m(\u001b[0m\u001b[0;34m)\u001b[0m\u001b[0;34m)\u001b[0m   \u001b[0;31m# ************************************ #\u001b[0m\u001b[0;34m\u001b[0m\u001b[0;34m\u001b[0m\u001b[0m\n\u001b[0m",
      "\u001b[0;31mAttributeError\u001b[0m: 'DateA' object has no attribute '_DateA__is_valid'"
     ]
    }
   ],
   "source": [
    "# Add class attributes for max number of days and months\n",
    "class BetterDate:\n",
    "    __MAX_DAYS = 30\n",
    "    __MAX_MONTHS = 12\n",
    "    \n",
    "    def __init__(self, year, month, day):\n",
    "        self.year, self.month, self.day = year, month, day\n",
    "        \n",
    "    @classmethod\n",
    "    def from_str(cls, datestr):\n",
    "        year, month, day = map(int, datestr.split(\"-\"))\n",
    "        return cls(year, month, day)\n",
    "    \n",
    "    # Add _is_valid() checking day and month values\n",
    "    def __is_valid(self):\n",
    "        return True if self.month < BetterDate.__MAX_MONTHS and \\\n",
    "        self.day <= BetterDate.__MAX_DAYS else False\n",
    "    \n",
    "    \n",
    "class DateA(BetterDate):\n",
    "    #def __init__(self):  # <= without subclass constructor, we can call parent class class method\n",
    "    pass\n",
    "    \n",
    "    \n",
    "bd1 = BetterDate(2020, 4, 30)\n",
    "print(bd1._BetterDate__is_valid())   # *********************************** #\n",
    "\n",
    "bd2 = BetterDate(2020, 6, 45)\n",
    "print(bd2._BetterDate__is_valid())\n",
    "\n",
    "\n",
    "da1 = BetterDate.from_str('2021-02-19')\n",
    "print(da1.year)\n",
    "\n",
    "da2 = DateA.from_str('2022-06-09')\n",
    "print(da2.day)\n",
    "\n",
    "da3 = DateA.from_str('2028-13-09')  #\n",
    "print(da3.month)\n",
    "\n",
    "da4 = DateA.from_str('2199-18-43')  # <= THINK\n",
    "print(da4._DateA__is_valid())   # ************************************ #"
   ]
  },
  {
   "cell_type": "code",
   "execution_count": 125,
   "id": "66dfb9a7-ef90-474a-83ca-4188e22e07ce",
   "metadata": {},
   "outputs": [
    {
     "name": "stdout",
     "output_type": "stream",
     "text": [
      "True\n",
      "False\n"
     ]
    }
   ],
   "source": [
    "# Add class attributes for max number of days and months\n",
    "class BetterDate:\n",
    "    _MAX_DAYS = 30\n",
    "    _MAX_MONTHS = 12\n",
    "    \n",
    "    def __init__(self, year, month, day):\n",
    "        self.year, self.month, self.day = year, month, day\n",
    "        \n",
    "    @classmethod\n",
    "    def from_str(cls, datestr):\n",
    "        year, month, day = map(int, datestr.split(\"-\"))\n",
    "        return cls(year, month, day)\n",
    "        \n",
    "    # Add _is_valid() checking day and month values\n",
    "    def _is_valid(self):\n",
    "        return (self.day <= BetterDate._MAX_DAYS) and \\\n",
    "               (self.month <= BetterDate._MAX_MONTHS)\n",
    "        \n",
    "bd1 = BetterDate(2020, 4, 30)\n",
    "print(bd1._is_valid())\n",
    "\n",
    "bd2 = BetterDate(2020, 6, 45)\n",
    "print(bd2._is_valid())"
   ]
  },
  {
   "cell_type": "markdown",
   "id": "b8672976-33d9-4948-9d22-d99b06f8c951",
   "metadata": {},
   "source": [
    "## Properties\n",
    "\n",
    "\n",
    "**is a special kind of attribute taht allow customized access, \n",
    "\n",
    "control attribute access \n",
    "\n",
    "\n",
    "\n"
   ]
  },
  {
   "cell_type": "code",
   "execution_count": 185,
   "id": "5a561b51-a2ad-47a7-874d-1978c9f51f1d",
   "metadata": {},
   "outputs": [
    {
     "data": {
      "text/html": [
       "<div>\n",
       "<style scoped>\n",
       "    .dataframe tbody tr th:only-of-type {\n",
       "        vertical-align: middle;\n",
       "    }\n",
       "\n",
       "    .dataframe tbody tr th {\n",
       "        vertical-align: top;\n",
       "    }\n",
       "\n",
       "    .dataframe thead th {\n",
       "        text-align: right;\n",
       "    }\n",
       "</style>\n",
       "<table border=\"1\" class=\"dataframe\">\n",
       "  <thead>\n",
       "    <tr style=\"text-align: right;\">\n",
       "      <th></th>\n",
       "      <th>ColA</th>\n",
       "      <th>ColB</th>\n",
       "    </tr>\n",
       "  </thead>\n",
       "  <tbody>\n",
       "    <tr>\n",
       "      <th>0</th>\n",
       "      <td>1</td>\n",
       "      <td>11</td>\n",
       "    </tr>\n",
       "    <tr>\n",
       "      <th>1</th>\n",
       "      <td>2</td>\n",
       "      <td>12</td>\n",
       "    </tr>\n",
       "    <tr>\n",
       "      <th>2</th>\n",
       "      <td>3</td>\n",
       "      <td>13</td>\n",
       "    </tr>\n",
       "  </tbody>\n",
       "</table>\n",
       "</div>"
      ],
      "text/plain": [
       "   ColA  ColB\n",
       "0     1    11\n",
       "1     2    12\n",
       "2     3    13"
      ]
     },
     "execution_count": 185,
     "metadata": {},
     "output_type": "execute_result"
    }
   ],
   "source": [
    "import pandas as pd\n",
    "\n",
    "df = pd.DataFrame({'ColA': [1,2,3],'ColB': [11,12,13]})\n",
    "df"
   ]
  },
  {
   "cell_type": "code",
   "execution_count": 186,
   "id": "48ae71f0-ffd1-4953-b7a3-969e29fee14b",
   "metadata": {},
   "outputs": [
    {
     "data": {
      "text/html": [
       "<div>\n",
       "<style scoped>\n",
       "    .dataframe tbody tr th:only-of-type {\n",
       "        vertical-align: middle;\n",
       "    }\n",
       "\n",
       "    .dataframe tbody tr th {\n",
       "        vertical-align: top;\n",
       "    }\n",
       "\n",
       "    .dataframe thead th {\n",
       "        text-align: right;\n",
       "    }\n",
       "</style>\n",
       "<table border=\"1\" class=\"dataframe\">\n",
       "  <thead>\n",
       "    <tr style=\"text-align: right;\">\n",
       "      <th></th>\n",
       "      <th>NewColA</th>\n",
       "      <th>NewColB</th>\n",
       "    </tr>\n",
       "  </thead>\n",
       "  <tbody>\n",
       "    <tr>\n",
       "      <th>0</th>\n",
       "      <td>1</td>\n",
       "      <td>11</td>\n",
       "    </tr>\n",
       "    <tr>\n",
       "      <th>1</th>\n",
       "      <td>2</td>\n",
       "      <td>12</td>\n",
       "    </tr>\n",
       "    <tr>\n",
       "      <th>2</th>\n",
       "      <td>3</td>\n",
       "      <td>13</td>\n",
       "    </tr>\n",
       "  </tbody>\n",
       "</table>\n",
       "</div>"
      ],
      "text/plain": [
       "   NewColA  NewColB\n",
       "0        1       11\n",
       "1        2       12\n",
       "2        3       13"
      ]
     },
     "execution_count": 186,
     "metadata": {},
     "output_type": "execute_result"
    }
   ],
   "source": [
    "df.columns = ['NewColA', 'NewColB']\n",
    "df"
   ]
  },
  {
   "cell_type": "code",
   "execution_count": 187,
   "id": "6024e9b4-9dce-4f74-a3dc-7d4b826a6c0e",
   "metadata": {},
   "outputs": [
    {
     "ename": "ValueError",
     "evalue": "Length mismatch: Expected axis has 2 elements, new values have 3 elements",
     "output_type": "error",
     "traceback": [
      "\u001b[0;31m---------------------------------------------------------------------------\u001b[0m",
      "\u001b[0;31mValueError\u001b[0m                                Traceback (most recent call last)",
      "\u001b[0;32m/tmp/ipykernel_1920/1253739591.py\u001b[0m in \u001b[0;36m<module>\u001b[0;34m\u001b[0m\n\u001b[0;32m----> 1\u001b[0;31m \u001b[0mdf\u001b[0m\u001b[0;34m.\u001b[0m\u001b[0mcolumns\u001b[0m \u001b[0;34m=\u001b[0m \u001b[0;34m[\u001b[0m\u001b[0;34m'NewColA'\u001b[0m\u001b[0;34m,\u001b[0m \u001b[0;34m'NewColB'\u001b[0m\u001b[0;34m,\u001b[0m \u001b[0;34m'NewColC'\u001b[0m\u001b[0;34m]\u001b[0m\u001b[0;34m\u001b[0m\u001b[0;34m\u001b[0m\u001b[0m\n\u001b[0m\u001b[1;32m      2\u001b[0m \u001b[0mdf\u001b[0m\u001b[0;34m\u001b[0m\u001b[0;34m\u001b[0m\u001b[0m\n",
      "\u001b[0;32m~/.virtual_environments/py39/lib/python3.9/site-packages/pandas/core/generic.py\u001b[0m in \u001b[0;36m__setattr__\u001b[0;34m(self, name, value)\u001b[0m\n\u001b[1;32m   5498\u001b[0m         \u001b[0;32mtry\u001b[0m\u001b[0;34m:\u001b[0m\u001b[0;34m\u001b[0m\u001b[0;34m\u001b[0m\u001b[0m\n\u001b[1;32m   5499\u001b[0m             \u001b[0mobject\u001b[0m\u001b[0;34m.\u001b[0m\u001b[0m__getattribute__\u001b[0m\u001b[0;34m(\u001b[0m\u001b[0mself\u001b[0m\u001b[0;34m,\u001b[0m \u001b[0mname\u001b[0m\u001b[0;34m)\u001b[0m\u001b[0;34m\u001b[0m\u001b[0;34m\u001b[0m\u001b[0m\n\u001b[0;32m-> 5500\u001b[0;31m             \u001b[0;32mreturn\u001b[0m \u001b[0mobject\u001b[0m\u001b[0;34m.\u001b[0m\u001b[0m__setattr__\u001b[0m\u001b[0;34m(\u001b[0m\u001b[0mself\u001b[0m\u001b[0;34m,\u001b[0m \u001b[0mname\u001b[0m\u001b[0;34m,\u001b[0m \u001b[0mvalue\u001b[0m\u001b[0;34m)\u001b[0m\u001b[0;34m\u001b[0m\u001b[0;34m\u001b[0m\u001b[0m\n\u001b[0m\u001b[1;32m   5501\u001b[0m         \u001b[0;32mexcept\u001b[0m \u001b[0mAttributeError\u001b[0m\u001b[0;34m:\u001b[0m\u001b[0;34m\u001b[0m\u001b[0;34m\u001b[0m\u001b[0m\n\u001b[1;32m   5502\u001b[0m             \u001b[0;32mpass\u001b[0m\u001b[0;34m\u001b[0m\u001b[0;34m\u001b[0m\u001b[0m\n",
      "\u001b[0;32m~/.virtual_environments/py39/lib/python3.9/site-packages/pandas/_libs/properties.pyx\u001b[0m in \u001b[0;36mpandas._libs.properties.AxisProperty.__set__\u001b[0;34m()\u001b[0m\n",
      "\u001b[0;32m~/.virtual_environments/py39/lib/python3.9/site-packages/pandas/core/generic.py\u001b[0m in \u001b[0;36m_set_axis\u001b[0;34m(self, axis, labels)\u001b[0m\n\u001b[1;32m    764\u001b[0m     \u001b[0;32mdef\u001b[0m \u001b[0m_set_axis\u001b[0m\u001b[0;34m(\u001b[0m\u001b[0mself\u001b[0m\u001b[0;34m,\u001b[0m \u001b[0maxis\u001b[0m\u001b[0;34m:\u001b[0m \u001b[0mint\u001b[0m\u001b[0;34m,\u001b[0m \u001b[0mlabels\u001b[0m\u001b[0;34m:\u001b[0m \u001b[0mIndex\u001b[0m\u001b[0;34m)\u001b[0m \u001b[0;34m->\u001b[0m \u001b[0;32mNone\u001b[0m\u001b[0;34m:\u001b[0m\u001b[0;34m\u001b[0m\u001b[0;34m\u001b[0m\u001b[0m\n\u001b[1;32m    765\u001b[0m         \u001b[0mlabels\u001b[0m \u001b[0;34m=\u001b[0m \u001b[0mensure_index\u001b[0m\u001b[0;34m(\u001b[0m\u001b[0mlabels\u001b[0m\u001b[0;34m)\u001b[0m\u001b[0;34m\u001b[0m\u001b[0;34m\u001b[0m\u001b[0m\n\u001b[0;32m--> 766\u001b[0;31m         \u001b[0mself\u001b[0m\u001b[0;34m.\u001b[0m\u001b[0m_mgr\u001b[0m\u001b[0;34m.\u001b[0m\u001b[0mset_axis\u001b[0m\u001b[0;34m(\u001b[0m\u001b[0maxis\u001b[0m\u001b[0;34m,\u001b[0m \u001b[0mlabels\u001b[0m\u001b[0;34m)\u001b[0m\u001b[0;34m\u001b[0m\u001b[0;34m\u001b[0m\u001b[0m\n\u001b[0m\u001b[1;32m    767\u001b[0m         \u001b[0mself\u001b[0m\u001b[0;34m.\u001b[0m\u001b[0m_clear_item_cache\u001b[0m\u001b[0;34m(\u001b[0m\u001b[0;34m)\u001b[0m\u001b[0;34m\u001b[0m\u001b[0;34m\u001b[0m\u001b[0m\n\u001b[1;32m    768\u001b[0m \u001b[0;34m\u001b[0m\u001b[0m\n",
      "\u001b[0;32m~/.virtual_environments/py39/lib/python3.9/site-packages/pandas/core/internals/managers.py\u001b[0m in \u001b[0;36mset_axis\u001b[0;34m(self, axis, new_labels)\u001b[0m\n\u001b[1;32m    214\u001b[0m     \u001b[0;32mdef\u001b[0m \u001b[0mset_axis\u001b[0m\u001b[0;34m(\u001b[0m\u001b[0mself\u001b[0m\u001b[0;34m,\u001b[0m \u001b[0maxis\u001b[0m\u001b[0;34m:\u001b[0m \u001b[0mint\u001b[0m\u001b[0;34m,\u001b[0m \u001b[0mnew_labels\u001b[0m\u001b[0;34m:\u001b[0m \u001b[0mIndex\u001b[0m\u001b[0;34m)\u001b[0m \u001b[0;34m->\u001b[0m \u001b[0;32mNone\u001b[0m\u001b[0;34m:\u001b[0m\u001b[0;34m\u001b[0m\u001b[0;34m\u001b[0m\u001b[0m\n\u001b[1;32m    215\u001b[0m         \u001b[0;31m# Caller is responsible for ensuring we have an Index object.\u001b[0m\u001b[0;34m\u001b[0m\u001b[0;34m\u001b[0m\u001b[0;34m\u001b[0m\u001b[0m\n\u001b[0;32m--> 216\u001b[0;31m         \u001b[0mself\u001b[0m\u001b[0;34m.\u001b[0m\u001b[0m_validate_set_axis\u001b[0m\u001b[0;34m(\u001b[0m\u001b[0maxis\u001b[0m\u001b[0;34m,\u001b[0m \u001b[0mnew_labels\u001b[0m\u001b[0;34m)\u001b[0m\u001b[0;34m\u001b[0m\u001b[0;34m\u001b[0m\u001b[0m\n\u001b[0m\u001b[1;32m    217\u001b[0m         \u001b[0mself\u001b[0m\u001b[0;34m.\u001b[0m\u001b[0maxes\u001b[0m\u001b[0;34m[\u001b[0m\u001b[0maxis\u001b[0m\u001b[0;34m]\u001b[0m \u001b[0;34m=\u001b[0m \u001b[0mnew_labels\u001b[0m\u001b[0;34m\u001b[0m\u001b[0;34m\u001b[0m\u001b[0m\n\u001b[1;32m    218\u001b[0m \u001b[0;34m\u001b[0m\u001b[0m\n",
      "\u001b[0;32m~/.virtual_environments/py39/lib/python3.9/site-packages/pandas/core/internals/base.py\u001b[0m in \u001b[0;36m_validate_set_axis\u001b[0;34m(self, axis, new_labels)\u001b[0m\n\u001b[1;32m     55\u001b[0m \u001b[0;34m\u001b[0m\u001b[0m\n\u001b[1;32m     56\u001b[0m         \u001b[0;32melif\u001b[0m \u001b[0mnew_len\u001b[0m \u001b[0;34m!=\u001b[0m \u001b[0mold_len\u001b[0m\u001b[0;34m:\u001b[0m\u001b[0;34m\u001b[0m\u001b[0;34m\u001b[0m\u001b[0m\n\u001b[0;32m---> 57\u001b[0;31m             raise ValueError(\n\u001b[0m\u001b[1;32m     58\u001b[0m                 \u001b[0;34mf\"Length mismatch: Expected axis has {old_len} elements, new \"\u001b[0m\u001b[0;34m\u001b[0m\u001b[0;34m\u001b[0m\u001b[0m\n\u001b[1;32m     59\u001b[0m                 \u001b[0;34mf\"values have {new_len} elements\"\u001b[0m\u001b[0;34m\u001b[0m\u001b[0;34m\u001b[0m\u001b[0m\n",
      "\u001b[0;31mValueError\u001b[0m: Length mismatch: Expected axis has 2 elements, new values have 3 elements"
     ]
    }
   ],
   "source": [
    "df.columns = ['NewColA', 'NewColB', 'NewColC']\n",
    "df"
   ]
  },
  {
   "cell_type": "code",
   "execution_count": 188,
   "id": "c7ea3ae6-3b1c-4805-b9c2-7a9f8f4696e6",
   "metadata": {},
   "outputs": [
    {
     "name": "stderr",
     "output_type": "stream",
     "text": [
      "/tmp/ipykernel_1920/4127559491.py:1: UserWarning: Pandas doesn't allow columns to be created via a new attribute name - see https://pandas.pydata.org/pandas-docs/stable/indexing.html#attribute-access\n",
      "  df.shape = (12, 13)\n"
     ]
    },
    {
     "ename": "AttributeError",
     "evalue": "can't set attribute",
     "output_type": "error",
     "traceback": [
      "\u001b[0;31m---------------------------------------------------------------------------\u001b[0m",
      "\u001b[0;31mAttributeError\u001b[0m                            Traceback (most recent call last)",
      "\u001b[0;32m~/.virtual_environments/py39/lib/python3.9/site-packages/pandas/core/generic.py\u001b[0m in \u001b[0;36m__setattr__\u001b[0;34m(self, name, value)\u001b[0m\n\u001b[1;32m   5517\u001b[0m                 \u001b[0;32melse\u001b[0m\u001b[0;34m:\u001b[0m\u001b[0;34m\u001b[0m\u001b[0;34m\u001b[0m\u001b[0m\n\u001b[0;32m-> 5518\u001b[0;31m                     \u001b[0mobject\u001b[0m\u001b[0;34m.\u001b[0m\u001b[0m__setattr__\u001b[0m\u001b[0;34m(\u001b[0m\u001b[0mself\u001b[0m\u001b[0;34m,\u001b[0m \u001b[0mname\u001b[0m\u001b[0;34m,\u001b[0m \u001b[0mvalue\u001b[0m\u001b[0;34m)\u001b[0m\u001b[0;34m\u001b[0m\u001b[0;34m\u001b[0m\u001b[0m\n\u001b[0m\u001b[1;32m   5519\u001b[0m             \u001b[0;32mexcept\u001b[0m \u001b[0;34m(\u001b[0m\u001b[0mAttributeError\u001b[0m\u001b[0;34m,\u001b[0m \u001b[0mTypeError\u001b[0m\u001b[0;34m)\u001b[0m\u001b[0;34m:\u001b[0m\u001b[0;34m\u001b[0m\u001b[0;34m\u001b[0m\u001b[0m\n",
      "\u001b[0;31mAttributeError\u001b[0m: can't set attribute",
      "\nDuring handling of the above exception, another exception occurred:\n",
      "\u001b[0;31mAttributeError\u001b[0m                            Traceback (most recent call last)",
      "\u001b[0;32m/tmp/ipykernel_1920/4127559491.py\u001b[0m in \u001b[0;36m<module>\u001b[0;34m\u001b[0m\n\u001b[0;32m----> 1\u001b[0;31m \u001b[0mdf\u001b[0m\u001b[0;34m.\u001b[0m\u001b[0mshape\u001b[0m \u001b[0;34m=\u001b[0m \u001b[0;34m(\u001b[0m\u001b[0;36m12\u001b[0m\u001b[0;34m,\u001b[0m \u001b[0;36m13\u001b[0m\u001b[0;34m)\u001b[0m\u001b[0;34m\u001b[0m\u001b[0;34m\u001b[0m\u001b[0m\n\u001b[0m\u001b[1;32m      2\u001b[0m \u001b[0mdf\u001b[0m\u001b[0;34m\u001b[0m\u001b[0;34m\u001b[0m\u001b[0m\n",
      "\u001b[0;32m~/.virtual_environments/py39/lib/python3.9/site-packages/pandas/core/generic.py\u001b[0m in \u001b[0;36m__setattr__\u001b[0;34m(self, name, value)\u001b[0m\n\u001b[1;32m   5526\u001b[0m                         \u001b[0mstacklevel\u001b[0m\u001b[0;34m=\u001b[0m\u001b[0;36m2\u001b[0m\u001b[0;34m,\u001b[0m\u001b[0;34m\u001b[0m\u001b[0;34m\u001b[0m\u001b[0m\n\u001b[1;32m   5527\u001b[0m                     )\n\u001b[0;32m-> 5528\u001b[0;31m                 \u001b[0mobject\u001b[0m\u001b[0;34m.\u001b[0m\u001b[0m__setattr__\u001b[0m\u001b[0;34m(\u001b[0m\u001b[0mself\u001b[0m\u001b[0;34m,\u001b[0m \u001b[0mname\u001b[0m\u001b[0;34m,\u001b[0m \u001b[0mvalue\u001b[0m\u001b[0;34m)\u001b[0m\u001b[0;34m\u001b[0m\u001b[0;34m\u001b[0m\u001b[0m\n\u001b[0m\u001b[1;32m   5529\u001b[0m \u001b[0;34m\u001b[0m\u001b[0m\n\u001b[1;32m   5530\u001b[0m     \u001b[0;34m@\u001b[0m\u001b[0mfinal\u001b[0m\u001b[0;34m\u001b[0m\u001b[0;34m\u001b[0m\u001b[0m\n",
      "\u001b[0;31mAttributeError\u001b[0m: can't set attribute"
     ]
    }
   ],
   "source": [
    "df.shape = (12, 13)\n",
    "df"
   ]
  },
  {
   "cell_type": "markdown",
   "id": "e67dd13c-dea9-4ffd-bd5d-cbee41caabd8",
   "metadata": {},
   "source": [
    "## @property to do this\n",
    "\n",
    "\n",
    "\n",
    "**starting by defining an internal attribute that will store the data, as we have learned in the previous video, it is recomended to start the name with one leading underscore. \n",
    "\n",
    "**next, we define a method whose name is exactly name we'd like restricted attribute to have, and put a decorator on \"preperty\" it. the method just returns the actual internal ttribute that is storing the data. \n",
    "\n",
    "**to customize how the attribute is set, we implement a method with a decorater \"attribute name\" dot setter, __use @sttr.setter on a method attr() that will be called on obj.attr = value__\n",
    "\n",
    "    it will be called when a value is assigned to the property attribute, it has a self argument and an argument that represents the value to be assigned. \n",
    "\n",
    "\n",
    "\n",
    "so there are two methods called salary, the name of the property -- that have different decoraters. \n",
    "## the method with @property decorator returns the data, and method with @salary.setter decorator implement validation and sets the attribute. \n",
    "\n",
    "## How does this work in practice? we can use this @property just as if it was a regular attribute. (remember the ONLY real attribute is the internal underscore salary) \n",
    "\n",
    "## use the dot synatx and equality sign to assign a value to the salary property, then the setter method will be called, \n",
    "\n",
    "\n",
    "\n",
    "Other possibilities:\n",
    "\n",
    "## Create a read-only property\n",
    "\n",
    "   **Add @attr.getter**\n",
    "   use for the method that is called when the property's value is retrieved\n",
    "   **Add @sttr.deleter**\n",
    "   use for the method that is called when the property is deleted using del"
   ]
  },
  {
   "cell_type": "code",
   "execution_count": 202,
   "id": "685f0340-f8ec-42ce-b83c-dc7759135cc0",
   "metadata": {},
   "outputs": [
    {
     "name": "stdout",
     "output_type": "stream",
     "text": [
      "4000\n",
      "4000\n"
     ]
    },
    {
     "data": {
      "text/plain": [
       "<bound method Test.extract of <__main__.Test object at 0x7f68157faac0>>"
      ]
     },
     "execution_count": 202,
     "metadata": {},
     "output_type": "execute_result"
    }
   ],
   "source": [
    "class Employee:\n",
    "    def __init__(self, name, new_salary):\n",
    "        self.name = name\n",
    "        self._salary = new_salary  #<= use protected attribute to store the data\n",
    "        \n",
    "    @property     #<= use @property on a method whose name is exactly the name of restricted attribute\n",
    "    def salary(self):\n",
    "        return self._salary   #<= and return the internal attribute\n",
    "    \n",
    "    @salary.setter\n",
    "    def salary(self, new_salary):\n",
    "        if new_salary < 0:\n",
    "            raise ValueError(\"Invalid salary figure\")\n",
    "        self._salary = new_salary\n",
    "    \n",
    "    \n",
    "class Test:\n",
    "    def extract(self):\n",
    "        return Employee._salary   # why am i always want to do this? inheritance is enough\n",
    "                                  # doe this makes _salary attribute private? \n",
    "                                  # whats real life coding private attribute situation\n",
    "                                  # how people makes they code efficiency by using class\n",
    "                                  # *************************************************************\n",
    "    \n",
    "    \n",
    "    \n",
    "emp = Employee('John', 35000)\n",
    "#accessing the @property\n",
    "emp.salary        # we can use this @property just as if it was a regular attribute. \n",
    "\n",
    "\n",
    "emp.salary = 4000   #<= @salary.setter\n",
    "emp.salary\n",
    "\n",
    "\n",
    "#emp.salary = -12\n",
    "emp.salary\n",
    "\n",
    "print(emp._salary)\n",
    "print(emp.salary)\n",
    "\n",
    "\n",
    "t = Test()\n",
    "t.extract"
   ]
  },
  {
   "cell_type": "markdown",
   "id": "b0ec8e47-fb9a-4211-b416-3c45606a91c3",
   "metadata": {},
   "source": [
    "## Create and set properties\n",
    "\n",
    "There are two parts to defining a property:\n",
    "\n",
    "    first, define an \"internal\" attribute that will contain the data;\n",
    "    then, define a @property-decorated method whose name is the property name, and that returns the internal attribute storing the data.\n",
    "\n",
    "If you'd also like to define a custom setter method, there's an additional step:\n",
    "\n",
    "    define another method whose name is exactly the property name (again), and decorate it with @prop_name.setter where prop_name is the name of the property. The method should take two arguments -- self (as always), and the value that's being assigned to the property.\n",
    "\n",
    "In this exercise, you'll create a balance property for a Customer class - a better, more controlled version of the balance attribute that you worked with before.\n",
    "\n",
    "\n",
    "\n",
    "Create a Customer class with the __init__() method that:\n",
    "\n",
    "    takes parameters name and new_bal,\n",
    "    assigns name to the attribute name,\n",
    "    raises a ValueError if new_bal is negative,\n",
    "    otherwise, assigns new_bal to the attribute _balance (with _).\n",
    "\n",
    "\n",
    "\n",
    "\n",
    "\n",
    "Instructions 1/4\n",
    "25 XP\n",
    "\n",
    "    1\n",
    "    2  missing\n",
    "    3  missing\n",
    "    4  missing"
   ]
  },
  {
   "cell_type": "code",
   "execution_count": 206,
   "id": "5e1f6426-9b5b-4232-8f89-d1202be62f9a",
   "metadata": {},
   "outputs": [
    {
     "name": "stdout",
     "output_type": "stream",
     "text": [
      "9000\n",
      "8000\n",
      "7000\n"
     ]
    }
   ],
   "source": [
    "# Create a Customer class\n",
    "class Customer:\n",
    "    def __init__(self, name, new_bal):\n",
    "        self.name = name\n",
    "        self._balance = new_bal\n",
    "\n",
    "    @property\n",
    "    def balance(self):\n",
    "        return self._balance\n",
    "\n",
    "    @balance.setter\n",
    "    def balance(self, new_bal):\n",
    "        if new_bal < 0:\n",
    "            raise ValueError('new_bal should be positive')\n",
    "        self._balance = new_bal\n",
    "\n",
    "cust = Customer('John', 9000)\n",
    "print(cust._balance)\n",
    "\n",
    "cust.balance = 8000\n",
    "print(cust.balance)\n",
    "\n",
    "\n",
    "cust._balance = 7000\n",
    "print(cust.balance)\n"
   ]
  },
  {
   "cell_type": "markdown",
   "id": "e3c06174-d462-4c45-a5de-df682e0167f1",
   "metadata": {},
   "source": [
    "## Read-only properties\n",
    "\n",
    "The LoggedDF class from Chapter 2 was an extension of the pandas DataFrame class that had an additional created_at attribute that stored the timestamp when the DataFrame was created, so that the user could see how out-of-date the data is.\n",
    "\n",
    "But that class wasn't very useful: we could just assign any value to created_at after the DataFrame was created, thus defeating the whole point of the attribute! Now, using properties, we can make the attribute read-only.\n",
    "\n",
    "The LoggedDF class from Chapter 2 is available for you in the script pane.\n",
    "\n",
    "\n",
    "\n",
    "\n",
    "    Assign a new value of '2035-07-13' to the created_at attribute.\n",
    "    Print the value of ldf's created_at attribute to verify that your assignment was successful.\n",
    "\n",
    "\n",
    "\n",
    "\n",
    "\n",
    "Instructions 1/3\n",
    "35 XP\n",
    "\n",
    "    1\n",
    "    2  missing\n",
    "    3  missing"
   ]
  },
  {
   "cell_type": "code",
   "execution_count": 207,
   "id": "b1e28a6d-c740-4064-9512-f73295adb7ab",
   "metadata": {},
   "outputs": [
    {
     "name": "stdout",
     "output_type": "stream",
     "text": [
      "2022-12-34\n"
     ]
    }
   ],
   "source": [
    "import pandas as pd\n",
    "from datetime import datetime\n",
    "\n",
    "# LoggedDF class definition from Chapter 2\n",
    "class LoggedDF(pd.DataFrame):\n",
    "    def __init__(self, *args, **kwargs):\n",
    "        pd.DataFrame.__init__(self, *args, **kwargs)\n",
    "        self.created_at = datetime.today()\n",
    "\n",
    "    def to_csv(self, *args, **kwargs):\n",
    "        temp = self.copy()\n",
    "        temp[\"created_at\"] = self.created_at\n",
    "        pd.DataFrame.to_csv(temp, *args, **kwargs)   \n",
    "\n",
    "# Instantiate a LoggedDF called ldf\n",
    "ldf = LoggedDF({\"col1\": [1,2], \"col2\":[3,4]}) \n",
    "\n",
    "# Assign a new value to ldf's created_at attribute and print\n",
    "# Assign a new value to ldf's created_at attribute and print\n",
    "ldf.created_at = ('2022-12-34')\n",
    "print(ldf.created_at)"
   ]
  },
  {
   "cell_type": "code",
   "execution_count": null,
   "id": "89b5f9e2-07c8-40a5-bed2-7d8da95db756",
   "metadata": {},
   "outputs": [],
   "source": []
  },
  {
   "cell_type": "code",
   "execution_count": null,
   "id": "ec603e82-9e1d-4941-aea7-6950ea98c53a",
   "metadata": {},
   "outputs": [],
   "source": []
  },
  {
   "cell_type": "code",
   "execution_count": null,
   "id": "2f3bb80c-ac4c-4204-a1f5-82d929c86997",
   "metadata": {},
   "outputs": [],
   "source": []
  },
  {
   "cell_type": "code",
   "execution_count": null,
   "id": "031573f6-07f1-4c2b-bed5-80f57480c419",
   "metadata": {},
   "outputs": [],
   "source": []
  },
  {
   "cell_type": "code",
   "execution_count": null,
   "id": "c9b33e82-0cc3-42ed-9261-396313f797b2",
   "metadata": {},
   "outputs": [],
   "source": []
  },
  {
   "cell_type": "code",
   "execution_count": null,
   "id": "7a622d57-3387-4539-9e42-220a37cf06b5",
   "metadata": {},
   "outputs": [],
   "source": []
  }
 ],
 "metadata": {
  "kernelspec": {
   "display_name": "Python 3 (ipykernel)",
   "language": "python",
   "name": "python3"
  },
  "language_info": {
   "codemirror_mode": {
    "name": "ipython",
    "version": 3
   },
   "file_extension": ".py",
   "mimetype": "text/x-python",
   "name": "python",
   "nbconvert_exporter": "python",
   "pygments_lexer": "ipython3",
   "version": "3.9.2"
  }
 },
 "nbformat": 4,
 "nbformat_minor": 5
}
