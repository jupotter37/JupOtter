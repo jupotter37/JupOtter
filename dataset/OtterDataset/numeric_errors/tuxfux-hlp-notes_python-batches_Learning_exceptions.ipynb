{
 "cells": [
  {
   "cell_type": "code",
   "execution_count": null,
   "metadata": {
    "collapsed": true
   },
   "outputs": [],
   "source": [
    "# exceptions: error handling\n",
    "# https://docs.python.org/2.7/tutorial/errors.html\n",
    "# pre-production"
   ]
  },
  {
   "cell_type": "code",
   "execution_count": 1,
   "metadata": {
    "collapsed": false
   },
   "outputs": [
    {
     "name": "stdout",
     "output_type": "stream",
     "text": [
      "please enter the number1:10\n",
      "please enter the number2:2\n",
      "result is 5\n"
     ]
    }
   ],
   "source": [
    "# example 1:\n",
    "num1 = int(raw_input(\"please enter the number1:\"))\n",
    "num2 = int(raw_input(\"please enter the number2:\"))\n",
    "result = num1/num2\n",
    "print \"result is {}\".format(result)"
   ]
  },
  {
   "cell_type": "code",
   "execution_count": 3,
   "metadata": {
    "collapsed": false
   },
   "outputs": [
    {
     "name": "stdout",
     "output_type": "stream",
     "text": [
      "please enter the number1:ten\n"
     ]
    },
    {
     "ename": "ValueError",
     "evalue": "invalid literal for int() with base 10: 'ten'",
     "output_type": "error",
     "traceback": [
      "\u001b[0;31m---------------------------------------------------------------------------\u001b[0m",
      "\u001b[0;31mValueError\u001b[0m                                Traceback (most recent call last)",
      "\u001b[0;32m<ipython-input-3-313ae63bb131>\u001b[0m in \u001b[0;36m<module>\u001b[0;34m()\u001b[0m\n\u001b[1;32m      1\u001b[0m \u001b[0;31m# exception 1\u001b[0m\u001b[0;34m\u001b[0m\u001b[0;34m\u001b[0m\u001b[0m\n\u001b[0;32m----> 2\u001b[0;31m \u001b[0mnum1\u001b[0m \u001b[0;34m=\u001b[0m \u001b[0mint\u001b[0m\u001b[0;34m(\u001b[0m\u001b[0mraw_input\u001b[0m\u001b[0;34m(\u001b[0m\u001b[0;34m\"please enter the number1:\"\u001b[0m\u001b[0;34m)\u001b[0m\u001b[0;34m)\u001b[0m\u001b[0;34m\u001b[0m\u001b[0m\n\u001b[0m\u001b[1;32m      3\u001b[0m \u001b[0mnum2\u001b[0m \u001b[0;34m=\u001b[0m \u001b[0mint\u001b[0m\u001b[0;34m(\u001b[0m\u001b[0mraw_input\u001b[0m\u001b[0;34m(\u001b[0m\u001b[0;34m\"please enter the number2:\"\u001b[0m\u001b[0;34m)\u001b[0m\u001b[0;34m)\u001b[0m\u001b[0;34m\u001b[0m\u001b[0m\n\u001b[1;32m      4\u001b[0m \u001b[0mresult\u001b[0m \u001b[0;34m=\u001b[0m \u001b[0mnum1\u001b[0m\u001b[0;34m/\u001b[0m\u001b[0mnum2\u001b[0m\u001b[0;34m\u001b[0m\u001b[0m\n\u001b[1;32m      5\u001b[0m \u001b[0;32mprint\u001b[0m \u001b[0;34m\"result is {}\"\u001b[0m\u001b[0;34m.\u001b[0m\u001b[0mformat\u001b[0m\u001b[0;34m(\u001b[0m\u001b[0mresult\u001b[0m\u001b[0;34m)\u001b[0m\u001b[0;34m\u001b[0m\u001b[0m\n",
      "\u001b[0;31mValueError\u001b[0m: invalid literal for int() with base 10: 'ten'"
     ]
    }
   ],
   "source": [
    "# exception 1\n",
    "num1 = int(raw_input(\"please enter the number1:\"))\n",
    "num2 = int(raw_input(\"please enter the number2:\"))\n",
    "result = num1/num2\n",
    "print \"result is {}\".format(result)"
   ]
  },
  {
   "cell_type": "code",
   "execution_count": 4,
   "metadata": {
    "collapsed": false
   },
   "outputs": [
    {
     "name": "stdout",
     "output_type": "stream",
     "text": [
      "please enter the number1:10\n",
      "please enter the number2:0\n"
     ]
    },
    {
     "ename": "ZeroDivisionError",
     "evalue": "integer division or modulo by zero",
     "output_type": "error",
     "traceback": [
      "\u001b[0;31m---------------------------------------------------------------------------\u001b[0m",
      "\u001b[0;31mZeroDivisionError\u001b[0m                         Traceback (most recent call last)",
      "\u001b[0;32m<ipython-input-4-3b0c3af6a024>\u001b[0m in \u001b[0;36m<module>\u001b[0;34m()\u001b[0m\n\u001b[1;32m      2\u001b[0m \u001b[0mnum1\u001b[0m \u001b[0;34m=\u001b[0m \u001b[0mint\u001b[0m\u001b[0;34m(\u001b[0m\u001b[0mraw_input\u001b[0m\u001b[0;34m(\u001b[0m\u001b[0;34m\"please enter the number1:\"\u001b[0m\u001b[0;34m)\u001b[0m\u001b[0;34m)\u001b[0m\u001b[0;34m\u001b[0m\u001b[0m\n\u001b[1;32m      3\u001b[0m \u001b[0mnum2\u001b[0m \u001b[0;34m=\u001b[0m \u001b[0mint\u001b[0m\u001b[0;34m(\u001b[0m\u001b[0mraw_input\u001b[0m\u001b[0;34m(\u001b[0m\u001b[0;34m\"please enter the number2:\"\u001b[0m\u001b[0;34m)\u001b[0m\u001b[0;34m)\u001b[0m\u001b[0;34m\u001b[0m\u001b[0m\n\u001b[0;32m----> 4\u001b[0;31m \u001b[0mresult\u001b[0m \u001b[0;34m=\u001b[0m \u001b[0mnum1\u001b[0m\u001b[0;34m/\u001b[0m\u001b[0mnum2\u001b[0m\u001b[0;34m\u001b[0m\u001b[0m\n\u001b[0m\u001b[1;32m      5\u001b[0m \u001b[0;32mprint\u001b[0m \u001b[0;34m\"result is {}\"\u001b[0m\u001b[0;34m.\u001b[0m\u001b[0mformat\u001b[0m\u001b[0;34m(\u001b[0m\u001b[0mresult\u001b[0m\u001b[0;34m)\u001b[0m\u001b[0;34m\u001b[0m\u001b[0m\n",
      "\u001b[0;31mZeroDivisionError\u001b[0m: integer division or modulo by zero"
     ]
    }
   ],
   "source": [
    "# exception 2:\n",
    "num1 = int(raw_input(\"please enter the number1:\"))\n",
    "num2 = int(raw_input(\"please enter the number2:\"))\n",
    "result = num1/num2\n",
    "print \"result is {}\".format(result)"
   ]
  },
  {
   "cell_type": "code",
   "execution_count": 5,
   "metadata": {
    "collapsed": true
   },
   "outputs": [],
   "source": [
    "# what are different exceptions in python\n",
    "\n",
    "import exceptions as e\n"
   ]
  },
  {
   "cell_type": "code",
   "execution_count": 6,
   "metadata": {
    "collapsed": false
   },
   "outputs": [
    {
     "name": "stdout",
     "output_type": "stream",
     "text": [
      "['ArithmeticError', 'AssertionError', 'AttributeError', 'BaseException', 'BufferError', 'BytesWarning', 'DeprecationWarning', 'EOFError', 'EnvironmentError', 'Exception', 'FloatingPointError', 'FutureWarning', 'GeneratorExit', 'IOError', 'ImportError', 'ImportWarning', 'IndentationError', 'IndexError', 'KeyError', 'KeyboardInterrupt', 'LookupError', 'MemoryError', 'NameError', 'NotImplementedError', 'OSError', 'OverflowError', 'PendingDeprecationWarning', 'ReferenceError', 'RuntimeError', 'RuntimeWarning', 'StandardError', 'StopIteration', 'SyntaxError', 'SyntaxWarning', 'SystemError', 'SystemExit', 'TabError', 'TypeError', 'UnboundLocalError', 'UnicodeDecodeError', 'UnicodeEncodeError', 'UnicodeError', 'UnicodeTranslateError', 'UnicodeWarning', 'UserWarning', 'ValueError', 'Warning', 'ZeroDivisionError', '__doc__', '__name__', '__package__']\n"
     ]
    }
   ],
   "source": [
    "print dir(e)"
   ]
  },
  {
   "cell_type": "code",
   "execution_count": null,
   "metadata": {
    "collapsed": true
   },
   "outputs": [],
   "source": [
    "# try..except..else..finally\n",
    "# try -> to compute or most important task.\n",
    "# except -> handling your exceptions.\n",
    "# else -> if try is True.. then go to else."
   ]
  },
  {
   "cell_type": "code",
   "execution_count": 7,
   "metadata": {
    "collapsed": false
   },
   "outputs": [
    {
     "name": "stdout",
     "output_type": "stream",
     "text": [
      "please enter the number1:10\n",
      "please enter the number2:2\n",
      "result is 5\n"
     ]
    }
   ],
   "source": [
    "# run1\n",
    "try:\n",
    "    num1 = int(raw_input(\"please enter the number1:\"))\n",
    "    num2 = int(raw_input(\"please enter the number2:\"))\n",
    "    result = num1/num2\n",
    "except:\n",
    "    print \"please enter numbers.Make sure your denominator is non-zero\"\n",
    "else:\n",
    "    print \"result is {}\".format(result)"
   ]
  },
  {
   "cell_type": "code",
   "execution_count": 8,
   "metadata": {
    "collapsed": false
   },
   "outputs": [
    {
     "name": "stdout",
     "output_type": "stream",
     "text": [
      "please enter the number1:ten\n",
      "please enter numbers.Make sure your denominator is non-zero\n"
     ]
    }
   ],
   "source": [
    "# run2\n",
    "try:\n",
    "    num1 = int(raw_input(\"please enter the number1:\"))\n",
    "    num2 = int(raw_input(\"please enter the number2:\"))\n",
    "    result = num1/num2\n",
    "except:\n",
    "    print \"please enter numbers.Make sure your denominator is non-zero\"\n",
    "else:\n",
    "    print \"result is {}\".format(result)"
   ]
  },
  {
   "cell_type": "code",
   "execution_count": 9,
   "metadata": {
    "collapsed": false
   },
   "outputs": [
    {
     "name": "stdout",
     "output_type": "stream",
     "text": [
      "please enter the number1:10\n",
      "please enter the number2:0\n",
      "please enter numbers.Make sure your denominator is non-zero\n"
     ]
    }
   ],
   "source": [
    "# run3\n",
    "try:\n",
    "    num1 = int(raw_input(\"please enter the number1:\"))\n",
    "    num2 = int(raw_input(\"please enter the number2:\"))\n",
    "    result = num1/num2\n",
    "except:\n",
    "    print \"please enter numbers.Make sure your denominator is non-zero\"\n",
    "else:\n",
    "    print \"result is {}\".format(result)"
   ]
  },
  {
   "cell_type": "code",
   "execution_count": 10,
   "metadata": {
    "collapsed": false
   },
   "outputs": [
    {
     "name": "stdout",
     "output_type": "stream",
     "text": [
      "please enter the number1:ten\n",
      "please enter numbers.Make sure your denominator is non-zero\n"
     ]
    }
   ],
   "source": [
    "# now lets tell crearly that its a value error or a zero division error.\n",
    "try:\n",
    "    num1 = int(raw_input(\"please enter the number1:\"))\n",
    "    num2 = int(raw_input(\"please enter the number2:\"))\n",
    "    result = num1/num2\n",
    "except (ZeroDivisionError,ValueError):\n",
    "    print \"please enter numbers.Make sure your denominator is non-zero\"\n",
    "else:\n",
    "    print \"result is {}\".format(result)"
   ]
  },
  {
   "cell_type": "code",
   "execution_count": 11,
   "metadata": {
    "collapsed": false
   },
   "outputs": [
    {
     "name": "stdout",
     "output_type": "stream",
     "text": [
      "please enter the number1:10\n",
      "please enter the number2:0\n",
      "please enter numbers.Make sure your denominator is non-zero\n"
     ]
    }
   ],
   "source": [
    "try:\n",
    "    num1 = int(raw_input(\"please enter the number1:\"))\n",
    "    num2 = int(raw_input(\"please enter the number2:\"))\n",
    "    result = num1/num2\n",
    "except (ZeroDivisionError,ValueError):\n",
    "    print \"please enter numbers.Make sure your denominator is non-zero\"\n",
    "else:\n",
    "    print \"result is {}\".format(result)"
   ]
  },
  {
   "cell_type": "code",
   "execution_count": 12,
   "metadata": {
    "collapsed": false
   },
   "outputs": [
    {
     "name": "stdout",
     "output_type": "stream",
     "text": [
      "please enter the number1:ten\n",
      "please enter numbers.\n"
     ]
    }
   ],
   "source": [
    "# making it more granular.\n",
    "\n",
    "try:\n",
    "    num1 = int(raw_input(\"please enter the number1:\"))\n",
    "    num2 = int(raw_input(\"please enter the number2:\"))\n",
    "    result = num1/num2\n",
    "except ZeroDivisionError:\n",
    "    print \"Make sure your denominator is non-zero\"\n",
    "except ValueError:\n",
    "    print \"please enter numbers.\"\n",
    "else:\n",
    "    print \"result is {}\".format(result)"
   ]
  },
  {
   "cell_type": "code",
   "execution_count": 14,
   "metadata": {
    "collapsed": false
   },
   "outputs": [
    {
     "name": "stdout",
     "output_type": "stream",
     "text": [
      "please enter the number1:10\n",
      "please enter the number2:0\n",
      "Make sure your denominator is non-zero\n"
     ]
    }
   ],
   "source": [
    "try:\n",
    "    num1 = int(raw_input(\"please enter the number1:\"))\n",
    "    num2 = int(raw_input(\"please enter the number2:\"))\n",
    "    result = num1/num2\n",
    "except ZeroDivisionError:\n",
    "    print \"Make sure your denominator is non-zero\"\n",
    "except ValueError:\n",
    "    print \"please enter numbers.\"\n",
    "else:\n",
    "    print \"result is {}\".format(result)"
   ]
  },
  {
   "cell_type": "code",
   "execution_count": null,
   "metadata": {
    "collapsed": true
   },
   "outputs": [],
   "source": [
    "# hhow about an exception which is not handled in the program.\n",
    "# try..except..else..finally\n",
    "# try -> to compute or most important task.\n",
    "# except -> handling your exceptions.\n",
    "# else -> if try is True.. then go to else.\n",
    "# finally->\n",
    "# case1: when i enter all values which are valid. -> try..else..finally\n",
    "# case2: when i enter invalid value, handled by exception.-> try..except..finally\n",
    "# case3: when i enter invalid values,not handed by exception -> try..finally..bombed with exception"
   ]
  },
  {
   "cell_type": "code",
   "execution_count": 17,
   "metadata": {
    "collapsed": false
   },
   "outputs": [
    {
     "name": "stdout",
     "output_type": "stream",
     "text": [
      "please enter the number1:10\n",
      "please enter the number2:2\n",
      "result is 5\n",
      "we are all good.\n"
     ]
    }
   ],
   "source": [
    "#case1\n",
    "try:\n",
    "    num1 = int(raw_input(\"please enter the number1:\"))\n",
    "    num2 = int(raw_input(\"please enter the number2:\"))\n",
    "    result = num1/num2\n",
    "except ValueError:\n",
    "    print \"please enter numbers.\"\n",
    "else:\n",
    "    print \"result is {}\".format(result)\n",
    "finally:\n",
    "    print \"we are all good.\""
   ]
  },
  {
   "cell_type": "code",
   "execution_count": 18,
   "metadata": {
    "collapsed": false
   },
   "outputs": [
    {
     "name": "stdout",
     "output_type": "stream",
     "text": [
      "please enter the number1:ten\n",
      "please enter numbers.\n",
      "we are all good.\n"
     ]
    }
   ],
   "source": [
    "#case2\n",
    "try:\n",
    "    num1 = int(raw_input(\"please enter the number1:\"))\n",
    "    num2 = int(raw_input(\"please enter the number2:\"))\n",
    "    result = num1/num2\n",
    "except ValueError:\n",
    "    print \"please enter numbers.\"\n",
    "else:\n",
    "    print \"result is {}\".format(result)\n",
    "finally:\n",
    "    print \"we are all good.\""
   ]
  },
  {
   "cell_type": "code",
   "execution_count": 19,
   "metadata": {
    "collapsed": false
   },
   "outputs": [
    {
     "name": "stdout",
     "output_type": "stream",
     "text": [
      "please enter the number1:10\n",
      "please enter the number2:0\n",
      "we are all good.\n"
     ]
    },
    {
     "ename": "ZeroDivisionError",
     "evalue": "integer division or modulo by zero",
     "output_type": "error",
     "traceback": [
      "\u001b[0;31m---------------------------------------------------------------------------\u001b[0m",
      "\u001b[0;31mZeroDivisionError\u001b[0m                         Traceback (most recent call last)",
      "\u001b[0;32m<ipython-input-19-db111121e3fa>\u001b[0m in \u001b[0;36m<module>\u001b[0;34m()\u001b[0m\n\u001b[1;32m      3\u001b[0m     \u001b[0mnum1\u001b[0m \u001b[0;34m=\u001b[0m \u001b[0mint\u001b[0m\u001b[0;34m(\u001b[0m\u001b[0mraw_input\u001b[0m\u001b[0;34m(\u001b[0m\u001b[0;34m\"please enter the number1:\"\u001b[0m\u001b[0;34m)\u001b[0m\u001b[0;34m)\u001b[0m\u001b[0;34m\u001b[0m\u001b[0m\n\u001b[1;32m      4\u001b[0m     \u001b[0mnum2\u001b[0m \u001b[0;34m=\u001b[0m \u001b[0mint\u001b[0m\u001b[0;34m(\u001b[0m\u001b[0mraw_input\u001b[0m\u001b[0;34m(\u001b[0m\u001b[0;34m\"please enter the number2:\"\u001b[0m\u001b[0;34m)\u001b[0m\u001b[0;34m)\u001b[0m\u001b[0;34m\u001b[0m\u001b[0m\n\u001b[0;32m----> 5\u001b[0;31m     \u001b[0mresult\u001b[0m \u001b[0;34m=\u001b[0m \u001b[0mnum1\u001b[0m\u001b[0;34m/\u001b[0m\u001b[0mnum2\u001b[0m\u001b[0;34m\u001b[0m\u001b[0m\n\u001b[0m\u001b[1;32m      6\u001b[0m \u001b[0;32mexcept\u001b[0m \u001b[0mValueError\u001b[0m\u001b[0;34m:\u001b[0m\u001b[0;34m\u001b[0m\u001b[0m\n\u001b[1;32m      7\u001b[0m     \u001b[0;32mprint\u001b[0m \u001b[0;34m\"please enter numbers.\"\u001b[0m\u001b[0;34m\u001b[0m\u001b[0m\n",
      "\u001b[0;31mZeroDivisionError\u001b[0m: integer division or modulo by zero"
     ]
    }
   ],
   "source": [
    "#case3\n",
    "try:\n",
    "    num1 = int(raw_input(\"please enter the number1:\"))\n",
    "    num2 = int(raw_input(\"please enter the number2:\"))\n",
    "    result = num1/num2\n",
    "except ValueError:\n",
    "    print \"please enter numbers.\"\n",
    "else:\n",
    "    print \"result is {}\".format(result)\n",
    "finally:\n",
    "    print \"we are all good.\""
   ]
  },
  {
   "cell_type": "code",
   "execution_count": null,
   "metadata": {
    "collapsed": true
   },
   "outputs": [],
   "source": [
    "# finally block is to make sure you can close all resource before code exits.\n",
    "# db.close\n",
    "# socket.close\n",
    "# file.close"
   ]
  },
  {
   "cell_type": "code",
   "execution_count": null,
   "metadata": {
    "collapsed": true
   },
   "outputs": [],
   "source": [
    "# raise"
   ]
  },
  {
   "cell_type": "code",
   "execution_count": 20,
   "metadata": {
    "collapsed": false
   },
   "outputs": [
    {
     "ename": "SyntaxError",
     "evalue": "invalid syntax (<ipython-input-20-64a359c3f7cb>, line 1)",
     "output_type": "error",
     "traceback": [
      "\u001b[0;36m  File \u001b[0;32m\"<ipython-input-20-64a359c3f7cb>\"\u001b[0;36m, line \u001b[0;32m1\u001b[0m\n\u001b[0;31m    pint \"hello welcome \"\u001b[0m\n\u001b[0m                        ^\u001b[0m\n\u001b[0;31mSyntaxError\u001b[0m\u001b[0;31m:\u001b[0m invalid syntax\n"
     ]
    }
   ],
   "source": [
    "pint \"hello welcome \""
   ]
  },
  {
   "cell_type": "code",
   "execution_count": 22,
   "metadata": {
    "collapsed": false
   },
   "outputs": [
    {
     "ename": "SyntaxError",
     "evalue": "please clean your glasses.",
     "output_type": "error",
     "traceback": [
      "\u001b[0;36m  File \u001b[0;32m\"<string>\"\u001b[0;36m, line \u001b[0;32munknown\u001b[0m\n\u001b[0;31mSyntaxError\u001b[0m\u001b[0;31m:\u001b[0m please clean your glasses.\n"
     ]
    }
   ],
   "source": [
    "raise SyntaxError,\"please clean your glasses.\""
   ]
  },
  {
   "cell_type": "code",
   "execution_count": null,
   "metadata": {
    "collapsed": true
   },
   "outputs": [],
   "source": [
    "# if you want to raise an exception it has to be part of exception class."
   ]
  },
  {
   "cell_type": "code",
   "execution_count": 23,
   "metadata": {
    "collapsed": false
   },
   "outputs": [
    {
     "ename": "NameError",
     "evalue": "name 'santosh' is not defined",
     "output_type": "error",
     "traceback": [
      "\u001b[0;31m---------------------------------------------------------------------------\u001b[0m",
      "\u001b[0;31mNameError\u001b[0m                                 Traceback (most recent call last)",
      "\u001b[0;32m<ipython-input-23-460ec4d018fb>\u001b[0m in \u001b[0;36m<module>\u001b[0;34m()\u001b[0m\n\u001b[0;32m----> 1\u001b[0;31m \u001b[0;32mraise\u001b[0m \u001b[0msantosh\u001b[0m\u001b[0;34m\u001b[0m\u001b[0m\n\u001b[0m",
      "\u001b[0;31mNameError\u001b[0m: name 'santosh' is not defined"
     ]
    }
   ],
   "source": [
    "raise santosh"
   ]
  },
  {
   "cell_type": "code",
   "execution_count": 24,
   "metadata": {
    "collapsed": true
   },
   "outputs": [],
   "source": [
    "# lets make santosh part of exception class\n",
    "class santosh(Exception):\n",
    "    pass"
   ]
  },
  {
   "cell_type": "code",
   "execution_count": 25,
   "metadata": {
    "collapsed": false
   },
   "outputs": [
    {
     "ename": "santosh",
     "evalue": "I am back!!!",
     "output_type": "error",
     "traceback": [
      "\u001b[0;31m---------------------------------------------------------------------------\u001b[0m",
      "\u001b[0;31msantosh\u001b[0m                                   Traceback (most recent call last)",
      "\u001b[0;32m<ipython-input-25-421375233df0>\u001b[0m in \u001b[0;36m<module>\u001b[0;34m()\u001b[0m\n\u001b[0;32m----> 1\u001b[0;31m \u001b[0;32mraise\u001b[0m \u001b[0msantosh\u001b[0m\u001b[0;34m,\u001b[0m\u001b[0;34m\"I am back!!!\"\u001b[0m\u001b[0;34m\u001b[0m\u001b[0m\n\u001b[0m",
      "\u001b[0;31msantosh\u001b[0m: I am back!!!"
     ]
    }
   ],
   "source": [
    "raise santosh,\"I am back!!!\""
   ]
  },
  {
   "cell_type": "code",
   "execution_count": 28,
   "metadata": {
    "collapsed": false
   },
   "outputs": [
    {
     "name": "stdout",
     "output_type": "stream",
     "text": [
      "please enter the age 1-150:250\n",
      "Invalid age range, you entered : 250\n"
     ]
    }
   ],
   "source": [
    " #!/usr/bin/env python\n",
    "\n",
    "age = raw_input(\"please enter the age 1-150:\")\n",
    "\n",
    "class InvalidAgeRangeException(Exception):\n",
    "   def __init__(self,age):\n",
    "     self.age = age\n",
    "\n",
    "def validate_age(age):\n",
    "     if age < 0 or age > 150:\n",
    "         raise InvalidAgeRangeException(age)\n",
    "\n",
    "# Main\n",
    "try:\n",
    "   age=int(age)\n",
    "   validate_age(age)\n",
    "except ValueError as e:\n",
    "   print e\n",
    "except InvalidAgeRangeException as e:\n",
    "   print 'Invalid age range, you entered : %s' % e.age"
   ]
  },
  {
   "cell_type": "code",
   "execution_count": null,
   "metadata": {
    "collapsed": true
   },
   "outputs": [],
   "source": []
  }
 ],
 "metadata": {
  "kernelspec": {
   "display_name": "Python 2",
   "language": "python",
   "name": "python2"
  },
  "language_info": {
   "codemirror_mode": {
    "name": "ipython",
    "version": 2
   },
   "file_extension": ".py",
   "mimetype": "text/x-python",
   "name": "python",
   "nbconvert_exporter": "python",
   "pygments_lexer": "ipython2",
   "version": "2.7.6"
  }
 },
 "nbformat": 4,
 "nbformat_minor": 1
}
