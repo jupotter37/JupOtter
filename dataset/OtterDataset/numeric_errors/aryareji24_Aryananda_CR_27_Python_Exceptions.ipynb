{
 "cells": [
  {
   "cell_type": "markdown",
   "id": "49aa7d59-3680-4126-b7e8-8f13938dc142",
   "metadata": {},
   "source": [
    "# PYTHON EXCEPTIONS"
   ]
  },
  {
   "cell_type": "markdown",
   "id": "0d5f887a-7305-4d10-ac9a-7f43e6309a6e",
   "metadata": {},
   "source": [
    "### An exception is an unexpected event that occurs during program execution"
   ]
  },
  {
   "cell_type": "markdown",
   "id": "965583b2-d43a-41ed-bfe8-fe9cdaed108b",
   "metadata": {},
   "source": [
    "## Python Logical Errors (Exceptions)"
   ]
  },
  {
   "cell_type": "markdown",
   "id": "54af1c0c-a7e1-4ed8-a8e1-c0bfd8ecaa60",
   "metadata": {},
   "source": [
    "### Errors that occur at runtime (after passing the syntax test) are called exceptions or logical errors."
   ]
  },
  {
   "cell_type": "code",
   "execution_count": 5,
   "id": "081df396-4bde-4ca1-be6a-c641b87dce05",
   "metadata": {},
   "outputs": [
    {
     "ename": "ZeroDivisionError",
     "evalue": "division by zero",
     "output_type": "error",
     "traceback": [
      "\u001b[1;31m---------------------------------------------------------------------------\u001b[0m",
      "\u001b[1;31mZeroDivisionError\u001b[0m                         Traceback (most recent call last)",
      "Cell \u001b[1;32mIn[5], line 1\u001b[0m\n\u001b[1;32m----> 1\u001b[0m divide_numbers \u001b[38;5;241m=\u001b[39m \u001b[38;5;241m7\u001b[39m \u001b[38;5;241m/\u001b[39m \u001b[38;5;241m0\u001b[39m\n\u001b[0;32m      2\u001b[0m \u001b[38;5;28mprint\u001b[39m(divide_numbers)\n",
      "\u001b[1;31mZeroDivisionError\u001b[0m: division by zero"
     ]
    }
   ],
   "source": [
    "divide_numbers = 7 / 0\n",
    "print(divide_numbers)"
   ]
  },
  {
   "cell_type": "markdown",
   "id": "a0f4d6e6-8ae9-492a-a79b-05636eb7684c",
   "metadata": {},
   "source": [
    "# Python Built-in Exceptions"
   ]
  },
  {
   "cell_type": "code",
   "execution_count": 8,
   "id": "c052b14c-1a8d-4098-9cb0-4983fedbe688",
   "metadata": {},
   "outputs": [
    {
     "name": "stdout",
     "output_type": "stream",
     "text": [
      "['ArithmeticError', 'AssertionError', 'AttributeError', 'BaseException', 'BaseExceptionGroup', 'BlockingIOError', 'BrokenPipeError', 'BufferError', 'BytesWarning', 'ChildProcessError', 'ConnectionAbortedError', 'ConnectionError', 'ConnectionRefusedError', 'ConnectionResetError', 'DeprecationWarning', 'EOFError', 'Ellipsis', 'EncodingWarning', 'EnvironmentError', 'Exception', 'ExceptionGroup', 'False', 'FileExistsError', 'FileNotFoundError', 'FloatingPointError', 'FutureWarning', 'GeneratorExit', 'IOError', 'ImportError', 'ImportWarning', 'IndentationError', 'IndexError', 'InterruptedError', 'IsADirectoryError', 'KeyError', 'KeyboardInterrupt', 'LookupError', 'MemoryError', 'ModuleNotFoundError', 'NameError', 'None', 'NotADirectoryError', 'NotImplemented', 'NotImplementedError', 'OSError', 'OverflowError', 'PendingDeprecationWarning', 'PermissionError', 'ProcessLookupError', 'RecursionError', 'ReferenceError', 'ResourceWarning', 'RuntimeError', 'RuntimeWarning', 'StopAsyncIteration', 'StopIteration', 'SyntaxError', 'SyntaxWarning', 'SystemError', 'SystemExit', 'TabError', 'TimeoutError', 'True', 'TypeError', 'UnboundLocalError', 'UnicodeDecodeError', 'UnicodeEncodeError', 'UnicodeError', 'UnicodeTranslateError', 'UnicodeWarning', 'UserWarning', 'ValueError', 'Warning', 'WindowsError', 'ZeroDivisionError', '__IPYTHON__', '__build_class__', '__debug__', '__doc__', '__import__', '__loader__', '__name__', '__package__', '__spec__', 'abs', 'aiter', 'all', 'anext', 'any', 'ascii', 'bin', 'bool', 'breakpoint', 'bytearray', 'bytes', 'callable', 'chr', 'classmethod', 'compile', 'complex', 'copyright', 'credits', 'delattr', 'dict', 'dir', 'display', 'divmod', 'enumerate', 'eval', 'exec', 'execfile', 'filter', 'float', 'format', 'frozenset', 'get_ipython', 'getattr', 'globals', 'hasattr', 'hash', 'help', 'hex', 'id', 'input', 'int', 'isinstance', 'issubclass', 'iter', 'len', 'license', 'list', 'locals', 'map', 'max', 'memoryview', 'min', 'next', 'object', 'oct', 'open', 'ord', 'pow', 'print', 'property', 'range', 'repr', 'reversed', 'round', 'runfile', 'set', 'setattr', 'slice', 'sorted', 'staticmethod', 'str', 'sum', 'super', 'tuple', 'type', 'vars', 'zip']\n"
     ]
    }
   ],
   "source": [
    "print(dir(locals()['__builtins__']))"
   ]
  },
  {
   "cell_type": "markdown",
   "id": "e5028d8c-42ad-4ea2-97d4-fc42288510ee",
   "metadata": {},
   "source": [
    "### Two types of exceptions : Bulit-in and user-defined "
   ]
  },
  {
   "cell_type": "markdown",
   "id": "aed2a5a7-3945-4fdd-a44e-770b9212daf8",
   "metadata": {},
   "source": [
    "## 1_Built-in Exceptions"
   ]
  },
  {
   "cell_type": "markdown",
   "id": "a8c79658-16a8-4934-8b40-33fd5c8565ff",
   "metadata": {},
   "source": [
    "__Exceptions__      |       __Cause of errors__\n",
    "__________________________________________\n",
    "* AssertionError :  Raised when an assert statement fails.\n",
    "* AttributeError :  Raised when attribute assignment or reference fails.\n",
    "* EOFError : Raised when the input() function hits end-of-file condition.\n",
    "* FloatingPointError : Raised when a floating point operation fails.ods.nd"
   ]
  },
  {
   "cell_type": "markdown",
   "id": "7429a503-675e-4385-a493-d21ece933344",
   "metadata": {},
   "source": [
    "## 2_Python User-defined Exceptions."
   ]
  },
  {
   "cell_type": "markdown",
   "id": "fb7fd43c-070a-47f8-829b-9898dde30c3c",
   "metadata": {},
   "source": [
    "### In Python, you can define your own exceptions by creating a new class.we can define custom exceptions by creating a new class that is derived from the built-in Exception class."
   ]
  },
  {
   "cell_type": "markdown",
   "id": "4b30213e-d136-49ff-99cb-3f7d0f990542",
   "metadata": {},
   "source": [
    "### syntax to define custom exceptions,"
   ]
  },
  {
   "cell_type": "code",
   "execution_count": 33,
   "id": "039ae3cf-da39-4430-9a55-e1f2d3425779",
   "metadata": {},
   "outputs": [],
   "source": [
    "class CustomError(Exception):\n",
    "    ...\n",
    "    pass\n",
    "\n",
    "try:\n",
    "   ...\n",
    "\n",
    "except CustomError:\n",
    "    ..."
   ]
  },
  {
   "cell_type": "markdown",
   "id": "59638bb6-ecfd-42ea-ba57-c1ae62dbaeb0",
   "metadata": {},
   "source": [
    "#### Example: Python User-Defined Exception"
   ]
  },
  {
   "cell_type": "code",
   "execution_count": 36,
   "id": "74f6a6e7-d322-4a01-8730-85ea4ade4ddf",
   "metadata": {},
   "outputs": [
    {
     "name": "stdin",
     "output_type": "stream",
     "text": [
      "Enter a number:  9\n"
     ]
    },
    {
     "name": "stdout",
     "output_type": "stream",
     "text": [
      "Exception occurred: Invalid Age\n"
     ]
    }
   ],
   "source": [
    "# define Python user-defined exceptions\n",
    "class InvalidAgeException(Exception):\n",
    "    \"Raised when the input value is less than 18\"\n",
    "    pass\n",
    "\n",
    "# you need to guess this number\n",
    "number = 18\n",
    "\n",
    "try:\n",
    "    input_num = int(input(\"Enter a number: \"))\n",
    "    if input_num < number:\n",
    "        raise InvalidAgeException\n",
    "    else:\n",
    "        print(\"Eligible to Vote\")\n",
    "        \n",
    "except InvalidAgeException:\n",
    "    print(\"Exception occurred: Invalid Age\")"
   ]
  },
  {
   "cell_type": "code",
   "execution_count": null,
   "id": "e4a7203e-91cd-4398-bea9-44d9555ce1a2",
   "metadata": {},
   "outputs": [],
   "source": []
  }
 ],
 "metadata": {
  "kernelspec": {
   "display_name": "Python 3 (ipykernel)",
   "language": "python",
   "name": "python3"
  },
  "language_info": {
   "codemirror_mode": {
    "name": "ipython",
    "version": 3
   },
   "file_extension": ".py",
   "mimetype": "text/x-python",
   "name": "python",
   "nbconvert_exporter": "python",
   "pygments_lexer": "ipython3",
   "version": "3.12.4"
  }
 },
 "nbformat": 4,
 "nbformat_minor": 5
}
