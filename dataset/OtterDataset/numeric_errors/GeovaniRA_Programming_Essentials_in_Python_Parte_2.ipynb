{
 "cells": [
  {
   "cell_type": "code",
   "execution_count": 124,
   "metadata": {},
   "outputs": [],
   "source": [
    "#Importar modulos\n",
    "\n",
    "#import math\n",
    "#import sys\n",
    "\n",
    "import math, sys"
   ]
  },
  {
   "cell_type": "code",
   "execution_count": 125,
   "metadata": {},
   "outputs": [
    {
     "name": "stdout",
     "output_type": "stream",
     "text": [
      "1.0\n"
     ]
    }
   ],
   "source": [
    "print(math.sin(math.pi/2))"
   ]
  },
  {
   "cell_type": "code",
   "execution_count": 126,
   "metadata": {},
   "outputs": [
    {
     "name": "stdout",
     "output_type": "stream",
     "text": [
      "0.999999\n",
      "1.0\n"
     ]
    }
   ],
   "source": [
    "#Ejemplo\n",
    "def sin(x):\n",
    "    if 2 * x == pi:\n",
    "        return 0.999999\n",
    "    else:\n",
    "        return None\n",
    "\n",
    "pi = 3.14 \n",
    "\n",
    "print(sin(pi/2))\n",
    "print(math.sin(math.pi/2))"
   ]
  },
  {
   "cell_type": "code",
   "execution_count": 127,
   "metadata": {},
   "outputs": [
    {
     "name": "stdout",
     "output_type": "stream",
     "text": [
      "1.0\n"
     ]
    }
   ],
   "source": [
    "# Importar entidad de modulos\n",
    "from math import pi, sin\n",
    "print(sin(pi/2))"
   ]
  },
  {
   "cell_type": "code",
   "execution_count": 128,
   "metadata": {},
   "outputs": [
    {
     "name": "stdout",
     "output_type": "stream",
     "text": [
      "1.0\n",
      "0.99999999\n"
     ]
    }
   ],
   "source": [
    "#Procesos inversos al remplazar definiciones originales\n",
    "from math import pi, sin\n",
    "\n",
    "print(sin(pi/2))\n",
    "pi = 3.14\n",
    "def sin(x):\n",
    "    if 2 * x == pi:\n",
    "        return 0.99999999\n",
    "    else:\n",
    "        return None\n",
    "\n",
    "print(sin(pi/2))"
   ]
  },
  {
   "cell_type": "code",
   "execution_count": 129,
   "metadata": {},
   "outputs": [
    {
     "name": "stdout",
     "output_type": "stream",
     "text": [
      "0.99999999\n",
      "1.0\n"
     ]
    }
   ],
   "source": [
    "pi = 3.14\n",
    "\n",
    "def sin(x):\n",
    "    if 2 * x == pi:\n",
    "        return 0.99999999\n",
    "    else:\n",
    "        return None\n",
    "\n",
    "print(sin(pi/2))\n",
    "\n",
    "from math import sin, pi\n",
    "print(sin(pi/2))"
   ]
  },
  {
   "cell_type": "code",
   "execution_count": 130,
   "metadata": {},
   "outputs": [
    {
     "name": "stdout",
     "output_type": "stream",
     "text": [
      "1.0\n"
     ]
    }
   ],
   "source": [
    "# Importar todas las entidades del modulo indicado\n",
    "''' from module import * '''\n",
    "\n",
    "#La palabra reservada as - aliasing/renombrado\n",
    "'''import module as alias'''\n",
    "'''from module import name as alias, name2 as alias2'''\n",
    "\n",
    "import math as m\n",
    "print(m.sin(m.pi/2))"
   ]
  },
  {
   "cell_type": "code",
   "execution_count": 131,
   "metadata": {},
   "outputs": [
    {
     "name": "stdout",
     "output_type": "stream",
     "text": [
      "1.0\n"
     ]
    }
   ],
   "source": [
    "from math import sin as sine, pi as PI\n",
    "print(sine(PI/2))"
   ]
  },
  {
   "cell_type": "code",
   "execution_count": 132,
   "metadata": {},
   "outputs": [
    {
     "data": {
      "text/plain": [
       "['__doc__',\n",
       " '__loader__',\n",
       " '__name__',\n",
       " '__package__',\n",
       " '__spec__',\n",
       " 'acos',\n",
       " 'acosh',\n",
       " 'asin',\n",
       " 'asinh',\n",
       " 'atan',\n",
       " 'atan2',\n",
       " 'atanh',\n",
       " 'cbrt',\n",
       " 'ceil',\n",
       " 'comb',\n",
       " 'copysign',\n",
       " 'cos',\n",
       " 'cosh',\n",
       " 'degrees',\n",
       " 'dist',\n",
       " 'e',\n",
       " 'erf',\n",
       " 'erfc',\n",
       " 'exp',\n",
       " 'exp2',\n",
       " 'expm1',\n",
       " 'fabs',\n",
       " 'factorial',\n",
       " 'floor',\n",
       " 'fmod',\n",
       " 'frexp',\n",
       " 'fsum',\n",
       " 'gamma',\n",
       " 'gcd',\n",
       " 'hypot',\n",
       " 'inf',\n",
       " 'isclose',\n",
       " 'isfinite',\n",
       " 'isinf',\n",
       " 'isnan',\n",
       " 'isqrt',\n",
       " 'lcm',\n",
       " 'ldexp',\n",
       " 'lgamma',\n",
       " 'log',\n",
       " 'log10',\n",
       " 'log1p',\n",
       " 'log2',\n",
       " 'modf',\n",
       " 'nan',\n",
       " 'nextafter',\n",
       " 'perm',\n",
       " 'pi',\n",
       " 'pow',\n",
       " 'prod',\n",
       " 'radians',\n",
       " 'remainder',\n",
       " 'sin',\n",
       " 'sinh',\n",
       " 'sqrt',\n",
       " 'tan',\n",
       " 'tanh',\n",
       " 'tau',\n",
       " 'trunc',\n",
       " 'ulp']"
      ]
     },
     "execution_count": 132,
     "metadata": {},
     "output_type": "execute_result"
    }
   ],
   "source": [
    "# Mostrar entidades ordenadas alfabeticamente\n",
    "import math\n",
    "dir(math)"
   ]
  },
  {
   "cell_type": "code",
   "execution_count": 133,
   "metadata": {},
   "outputs": [
    {
     "name": "stdout",
     "output_type": "stream",
     "text": [
      "True\n",
      "True\n",
      "True\n",
      "True\n"
     ]
    }
   ],
   "source": [
    "from math import pi, radians,degrees, sin, cos, tan, asin\n",
    "\n",
    "ad = 90\n",
    "ar = radians(ad)\n",
    "ad = degrees(ar)\n",
    "\n",
    "print(ad == 90.)\n",
    "print(ar == pi/2.)\n",
    "print(sin(ar)/cos(ar) == tan(ar))\n",
    "print(asin(sin(ar))== ar)"
   ]
  },
  {
   "cell_type": "code",
   "execution_count": 134,
   "metadata": {},
   "outputs": [
    {
     "name": "stdout",
     "output_type": "stream",
     "text": [
      "True\n",
      "True\n",
      "True\n"
     ]
    }
   ],
   "source": [
    "from math import e, exp, log\n",
    "\n",
    "print(pow(e,1) == exp(log(e)))\n",
    "print(pow(2,2) == exp(2*log(2)))\n",
    "print(log(e,e) == exp(0))\n"
   ]
  },
  {
   "cell_type": "code",
   "execution_count": 135,
   "metadata": {},
   "outputs": [
    {
     "name": "stdout",
     "output_type": "stream",
     "text": [
      "1 2\n",
      "-2 -3\n",
      "2 3\n",
      "-1 -2\n",
      "1 2\n",
      "-1 -2\n"
     ]
    }
   ],
   "source": [
    "from math import ceil, floor, trunc\n",
    "x = 1.4\n",
    "y = 2.6\n",
    "\n",
    "print(floor(x), floor(y))\n",
    "print(floor(-x),floor(-y))\n",
    "print(ceil(x),ceil(y))\n",
    "print(ceil(-x),ceil(-y))\n",
    "print(trunc(x), trunc(y))\n",
    "print(trunc(-x), trunc(-y))"
   ]
  },
  {
   "cell_type": "code",
   "execution_count": 136,
   "metadata": {},
   "outputs": [
    {
     "name": "stdout",
     "output_type": "stream",
     "text": [
      "0.04632052581289048\n",
      "0.21059213803588173\n",
      "0.7274395561916348\n",
      "0.8481754463307846\n",
      "0.33767260219082995\n"
     ]
    }
   ],
   "source": [
    "# Funcion random\n",
    "from random import random\n",
    "\n",
    "for i in range(5):\n",
    "    print(random())"
   ]
  },
  {
   "cell_type": "code",
   "execution_count": 137,
   "metadata": {},
   "outputs": [
    {
     "name": "stdout",
     "output_type": "stream",
     "text": [
      "0.8444218515250481\n",
      "0.7579544029403025\n",
      "0.420571580830845\n",
      "0.25891675029296335\n",
      "0.5112747213686085\n"
     ]
    }
   ],
   "source": [
    "from random import random, seed\n",
    "seed(0)\n",
    "# seed() Proporcionaria aleatoriedad regularmente indexado a la hora\n",
    "for i in range(5):\n",
    "    print(random())"
   ]
  },
  {
   "cell_type": "code",
   "execution_count": 138,
   "metadata": {},
   "outputs": [
    {
     "name": "stdout",
     "output_type": "stream",
     "text": [
      "0 0 1 1\n"
     ]
    }
   ],
   "source": [
    "# Numeros aleatorios dentro de un rango\n",
    "\n",
    "from random import randrange, randint\n",
    "\n",
    "print(randrange(1), end=' ')\n",
    "print(randrange(0,1), end=\" \")\n",
    "print(randrange(0,2,1), end = \" \")\n",
    "print(randint(0,1))"
   ]
  },
  {
   "cell_type": "code",
   "execution_count": 139,
   "metadata": {},
   "outputs": [
    {
     "name": "stdout",
     "output_type": "stream",
     "text": [
      "10,4,9,3,5,3,2,10,5,9,"
     ]
    }
   ],
   "source": [
    "# Generar numeros que no son unicos\n",
    "from random import randint\n",
    "\n",
    "for i in range(10):\n",
    "    print(randint(1,10), end = \",\")"
   ]
  },
  {
   "cell_type": "code",
   "execution_count": 140,
   "metadata": {},
   "outputs": [
    {
     "name": "stdout",
     "output_type": "stream",
     "text": [
      "10\n",
      "[3, 5, 2, 6, 1]\n",
      "[6, 8, 2, 3, 4, 7, 9, 5, 10, 1]\n"
     ]
    }
   ],
   "source": [
    "from random import sample, choice\n",
    "my_list = [1, 2, 3, 4, 5, 6, 7, 8, 9, 10]\n",
    "# Funcion choice- elegir un elemento aleatorio de la sec. de entrada y lo devuelve\n",
    "print(choice(my_list))\n",
    "# Funcion sample- devuelve una lista de elemtos menor a la de entrada sin repetir\n",
    "print(sample(my_list,5))\n",
    "print(sample(my_list,10))\n"
   ]
  },
  {
   "cell_type": "code",
   "execution_count": 141,
   "metadata": {},
   "outputs": [
    {
     "name": "stdout",
     "output_type": "stream",
     "text": [
      "Windows-10-10.0.22621-SP0\n",
      "Windows-10-10.0.22621-SP0\n",
      "Windows-10\n"
     ]
    }
   ],
   "source": [
    "# Mostrar capas de la plataforma subyacente\n",
    "from platform import platform\n",
    "\n",
    "print(platform())\n",
    "print(platform(aliased=1))\n",
    "print(platform(aliased=0,terse=1))"
   ]
  },
  {
   "cell_type": "code",
   "execution_count": 142,
   "metadata": {},
   "outputs": [
    {
     "name": "stdout",
     "output_type": "stream",
     "text": [
      "AMD64\n"
     ]
    }
   ],
   "source": [
    "# Mostrar el procesador que ejecuta el sistema operativo\n",
    "from platform import machine\n",
    "print(machine())"
   ]
  },
  {
   "cell_type": "code",
   "execution_count": 143,
   "metadata": {},
   "outputs": [
    {
     "name": "stdout",
     "output_type": "stream",
     "text": [
      "AMD64 Family 25 Model 80 Stepping 0, AuthenticAMD\n"
     ]
    }
   ],
   "source": [
    "# Muestra el nombre del procesador real de ser posible\n",
    "from platform import processor\n",
    "\n",
    "print(processor())"
   ]
  },
  {
   "cell_type": "code",
   "execution_count": 144,
   "metadata": {},
   "outputs": [
    {
     "name": "stdout",
     "output_type": "stream",
     "text": [
      "Windows\n"
     ]
    }
   ],
   "source": [
    "'''\n",
    "La función system\n",
    "\n",
    "Una función llamada system() devuelve el nombre genérico del sistema operativo en una cadena.\n",
    "'''\n",
    "from platform import system\n",
    "print(system())\n"
   ]
  },
  {
   "cell_type": "code",
   "execution_count": 145,
   "metadata": {},
   "outputs": [
    {
     "name": "stdout",
     "output_type": "stream",
     "text": [
      "10.0.22621\n"
     ]
    }
   ],
   "source": [
    "'''\n",
    "La función version\n",
    "\n",
    "La versión del sistema operativo se proporciona como una cadena por la función version().\n",
    "'''\n",
    "\n",
    "from platform import version\n",
    "print(version())"
   ]
  },
  {
   "cell_type": "code",
   "execution_count": 146,
   "metadata": {},
   "outputs": [
    {
     "name": "stdout",
     "output_type": "stream",
     "text": [
      "CPython\n",
      "3\n",
      "11\n",
      "4\n"
     ]
    }
   ],
   "source": [
    "'''\n",
    "Las funciones python_implementation y python_version_tuple\n",
    "\n",
    "Si necesitas saber que versión de Python está ejecutando tu código, puedes verificarlo utilizando una serie de funciones dedicadas, aquí hay dos de ellas:\n",
    "\n",
    "python_implementation() → devuelve una cadena que denota la implementación de Python (espera CPython aquí, a menos que decidas utilizar cualquier rama de Python no canónica).\n",
    "python_version_tuple() → devuelve una tupla de tres elementos la cual contiene:\n",
    "La parte mayor de la versión de Python.\n",
    "La parte menor.\n",
    "El número del nivel de parche.\n",
    "'''\n",
    "from platform import python_implementation, python_version_tuple\n",
    "\n",
    "print(python_implementation())\n",
    "\n",
    "for atr in python_version_tuple():\n",
    "    print(atr)"
   ]
  },
  {
   "cell_type": "code",
   "execution_count": 147,
   "metadata": {},
   "outputs": [
    {
     "name": "stdout",
     "output_type": "stream",
     "text": [
      "c:\\Users\\Geovani\\Downloads\n",
      "c:\\Users\\Geovani\\AppData\\Local\\Programs\\Python\\Python311\\python311.zip\n",
      "c:\\Users\\Geovani\\AppData\\Local\\Programs\\Python\\Python311\\DLLs\n",
      "c:\\Users\\Geovani\\AppData\\Local\\Programs\\Python\\Python311\\Lib\n",
      "c:\\Users\\Geovani\\AppData\\Local\\Programs\\Python\\Python311\n",
      "\n",
      "C:\\Users\\Geovani\\AppData\\Roaming\\Python\\Python311\\site-packages\n",
      "C:\\Users\\Geovani\\AppData\\Roaming\\Python\\Python311\\site-packages\\win32\n",
      "C:\\Users\\Geovani\\AppData\\Roaming\\Python\\Python311\\site-packages\\win32\\lib\n",
      "C:\\Users\\Geovani\\AppData\\Roaming\\Python\\Python311\\site-packages\\Pythonwin\n",
      "c:\\Users\\Geovani\\AppData\\Local\\Programs\\Python\\Python311\\Lib\\site-packages\n"
     ]
    }
   ],
   "source": [
    "# Mostrar ubiaciones que almacenan todas las ubicaciones que se buscan\n",
    "import sys\n",
    "\n",
    "for p in sys.path:\n",
    "    print(p)"
   ]
  },
  {
   "cell_type": "code",
   "execution_count": 148,
   "metadata": {},
   "outputs": [
    {
     "name": "stdout",
     "output_type": "stream",
     "text": [
      "0\n",
      "1\n"
     ]
    }
   ],
   "source": [
    "from sys import path\n",
    "\n",
    "path.append('c:\\\\Users\\\\Geovani\\\\Downloads\\\\Modulos_2023')\n",
    "\n",
    "import Modulo\n",
    "\n",
    "zeroes = [0 for i in range(5)]\n",
    "ones = [1 for i in range(5)]\n",
    "print(Modulo.sum1(zeroes))\n",
    "print(Modulo.prod1(ones))"
   ]
  },
  {
   "cell_type": "code",
   "execution_count": 149,
   "metadata": {},
   "outputs": [
    {
     "name": "stdout",
     "output_type": "stream",
     "text": [
      "Iota\n"
     ]
    }
   ],
   "source": [
    "# la presencia del archivo __init.py__ finalmente compone el paquete\n",
    "from sys import path\n",
    "import Extra.iota\n",
    "print(Extra.iota.FunI())"
   ]
  },
  {
   "cell_type": "code",
   "execution_count": 150,
   "metadata": {},
   "outputs": [
    {
     "name": "stdout",
     "output_type": "stream",
     "text": [
      "Iota\n"
     ]
    }
   ],
   "source": [
    "from sys import path\n",
    "\n",
    "from Extra.iota import FunI\n",
    "print(FunI())"
   ]
  },
  {
   "cell_type": "code",
   "execution_count": 151,
   "metadata": {},
   "outputs": [
    {
     "name": "stdout",
     "output_type": "stream",
     "text": [
      "Sigma\n",
      "Tau\n"
     ]
    }
   ],
   "source": [
    "# Ir mas profundo del arbol\n",
    "\n",
    "from sys import path\n",
    "\n",
    "import Extra.good.best.sigma\n",
    "from Extra.good.best.tau import FunT\n",
    "\n",
    "print(Extra.good.best.sigma.FunS())\n",
    "print(FunT())"
   ]
  },
  {
   "cell_type": "code",
   "execution_count": 152,
   "metadata": {},
   "outputs": [
    {
     "name": "stdout",
     "output_type": "stream",
     "text": [
      "Sigma\n",
      "Alpha\n"
     ]
    }
   ],
   "source": [
    "from sys import path\n",
    "\n",
    "import Extra.good.best.sigma as sig\n",
    "import Extra.good.alpha as alp\n",
    "\n",
    "print(sig.FunS())\n",
    "print(alp.FunA())"
   ]
  },
  {
   "cell_type": "code",
   "execution_count": 153,
   "metadata": {},
   "outputs": [
    {
     "name": "stdout",
     "output_type": "stream",
     "text": [
      "Sigma\n",
      "Alpha\n",
      "Iota\n",
      "Beta\n"
     ]
    }
   ],
   "source": [
    "# Manejo de carpeta comprimida\n",
    "from sys import path\n",
    "path.append(\"C:\\\\Users\\\\Geovani\\\\Downloads\\\\EXTRA2\\\\Extrapack ZIP file.zip\")\n",
    "\n",
    "import extra.good.best.sigma as sig\n",
    "import extra.good.alpha as alp\n",
    "from extra.iota import FunI\n",
    "from extra.good.beta import FunB\n",
    "\n",
    "print(sig.FunS())\n",
    "print(alp.FunA())\n",
    "print(FunI())\n",
    "print(FunB())\n"
   ]
  },
  {
   "cell_type": "code",
   "execution_count": 154,
   "metadata": {},
   "outputs": [
    {
     "name": "stdout",
     "output_type": "stream",
     "text": [
      "\n",
      "Usage:   \n",
      "  c:\\Users\\Geovani\\AppData\\Local\\Programs\\Python\\Python311\\python.exe -m pip <command> [options]\n",
      "\n",
      "Commands:\n",
      "  install                     Install packages.\n",
      "  download                    Download packages.\n",
      "  uninstall                   Uninstall packages.\n",
      "  freeze                      Output installed packages in requirements format.\n",
      "  inspect                     Inspect the python environment.\n",
      "  list                        List installed packages.\n",
      "  show                        Show information about installed packages.\n",
      "  check                       Verify installed packages have compatible dependencies.\n",
      "  config                      Manage local and global configuration.\n",
      "  search                      Search PyPI for packages.\n",
      "  cache                       Inspect and manage pip's wheel cache.\n",
      "  index                       Inspect information available from package indexes.\n",
      "  wheel                       Build wheels from your requirements.\n",
      "  hash                        Compute hashes of package archives.\n",
      "  completion                  A helper command used for command completion.\n",
      "  debug                       Show information useful for debugging.\n",
      "  help                        Show help for commands.\n",
      "\n",
      "General Options:\n",
      "  -h, --help                  Show help.\n",
      "  --debug                     Let unhandled exceptions propagate outside the\n",
      "                              main subroutine, instead of logging them to\n",
      "                              stderr.\n",
      "  --isolated                  Run pip in an isolated mode, ignoring\n",
      "                              environment variables and user configuration.\n",
      "  --require-virtualenv        Allow pip to only run in a virtual environment;\n",
      "                              exit with an error otherwise.\n",
      "  --python <python>           Run pip with the specified Python interpreter.\n",
      "  -v, --verbose               Give more output. Option is additive, and can be\n",
      "                              used up to 3 times.\n",
      "  -V, --version               Show version and exit.\n",
      "  -q, --quiet                 Give less output. Option is additive, and can be\n",
      "                              used up to 3 times (corresponding to WARNING,\n",
      "                              ERROR, and CRITICAL logging levels).\n",
      "  --log <path>                Path to a verbose appending log.\n",
      "  --no-input                  Disable prompting for input.\n",
      "  --keyring-provider <keyring_provider>\n",
      "                              Enable the credential lookup via the keyring\n",
      "                              library if user input is allowed. Specify which\n",
      "                              mechanism to use [disabled, import, subprocess].\n",
      "                              (default: disabled)\n",
      "  --proxy <proxy>             Specify a proxy in the form\n",
      "                              scheme://[user:passwd@]proxy.server:port.\n",
      "  --retries <retries>         Maximum number of retries each connection should\n",
      "                              attempt (default 5 times).\n",
      "  --timeout <sec>             Set the socket timeout (default 15 seconds).\n",
      "  --exists-action <action>    Default action when a path already exists:\n",
      "                              (s)witch, (i)gnore, (w)ipe, (b)ackup, (a)bort.\n",
      "  --trusted-host <hostname>   Mark this host or host:port pair as trusted,\n",
      "                              even though it does not have valid or any HTTPS.\n",
      "  --cert <path>               Path to PEM-encoded CA certificate bundle. If\n",
      "                              provided, overrides the default. See 'SSL\n",
      "                              Certificate Verification' in pip documentation\n",
      "                              for more information.\n",
      "  --client-cert <path>        Path to SSL client certificate, a single file\n",
      "                              containing the private key and the certificate\n",
      "                              in PEM format.\n",
      "  --cache-dir <dir>           Store the cache data in <dir>.\n",
      "  --no-cache-dir              Disable the cache.\n",
      "  --disable-pip-version-check\n",
      "                              Don't periodically check PyPI to determine\n",
      "                              whether a new version of pip is available for\n",
      "                              download. Implied with --no-index.\n",
      "  --no-color                  Suppress colored output.\n",
      "  --no-python-version-warning\n",
      "                              Silence deprecation warnings for upcoming\n",
      "                              unsupported Pythons.\n",
      "  --use-feature <feature>     Enable new functionality, that may be backward\n",
      "                              incompatible.\n",
      "  --use-deprecated <feature>  Enable deprecated functionality, that will be\n",
      "                              removed in the future.\n",
      "Note: you may need to restart the kernel to use updated packages.\n"
     ]
    }
   ],
   "source": [
    "pip help"
   ]
  },
  {
   "cell_type": "code",
   "execution_count": 155,
   "metadata": {},
   "outputs": [
    {
     "ename": "SyntaxError",
     "evalue": "invalid syntax (2889637397.py, line 2)",
     "output_type": "error",
     "traceback": [
      "\u001b[1;36m  Cell \u001b[1;32mIn[155], line 2\u001b[1;36m\u001b[0m\n\u001b[1;33m    pip help install\u001b[0m\n\u001b[1;37m        ^\u001b[0m\n\u001b[1;31mSyntaxError\u001b[0m\u001b[1;31m:\u001b[0m invalid syntax\n"
     ]
    }
   ],
   "source": [
    "# Resumen de todas las operaciones disponibles de pip\n",
    "pip help install"
   ]
  },
  {
   "cell_type": "code",
   "execution_count": null,
   "metadata": {},
   "outputs": [
    {
     "name": "stdout",
     "output_type": "stream",
     "text": [
      "Requirement already satisfied: pygame in c:\\users\\geovani\\anaconda3\\lib\\site-packages (2.5.1)\n"
     ]
    },
    {
     "name": "stderr",
     "output_type": "stream",
     "text": [
      "WARNING: Ignoring invalid distribution -ygame (c:\\users\\geovani\\anaconda3\\lib\\site-packages)\n",
      "WARNING: Ignoring invalid distribution -ygame (c:\\users\\geovani\\anaconda3\\lib\\site-packages)\n",
      "WARNING: Ignoring invalid distribution -ygame (c:\\users\\geovani\\anaconda3\\lib\\site-packages)\n",
      "WARNING: Ignoring invalid distribution -ygame (c:\\users\\geovani\\anaconda3\\lib\\site-packages)\n",
      "WARNING: Ignoring invalid distribution -ygame (c:\\users\\geovani\\anaconda3\\lib\\site-packages)\n",
      "WARNING: Ignoring invalid distribution -ygame (c:\\users\\geovani\\anaconda3\\lib\\site-packages)\n"
     ]
    }
   ],
   "source": [
    "# Paquetes instalados hasta ahora\n",
    "!pip install pygame"
   ]
  },
  {
   "cell_type": "code",
   "execution_count": null,
   "metadata": {},
   "outputs": [
    {
     "name": "stdout",
     "output_type": "stream",
     "text": [
      "Name: pygame\n",
      "Version: 2.5.1\n",
      "Summary: Python Game Development\n",
      "Home-page: https://www.pygame.org\n",
      "Author: A community project.\n",
      "Author-email: pygame@pygame.org\n",
      "License: LGPL\n",
      "Location: c:\\users\\geovani\\anaconda3\\lib\\site-packages\n",
      "Requires: \n",
      "Required-by: \n",
      "Note: you may need to restart the kernel to use updated packages.\n"
     ]
    }
   ],
   "source": [
    "pip show pygame"
   ]
  },
  {
   "cell_type": "code",
   "execution_count": null,
   "metadata": {},
   "outputs": [
    {
     "name": "stdout",
     "output_type": "stream",
     "text": [
      "Package                       Version\n",
      "----------------------------- ---------------\n",
      "alabaster                     0.7.12\n",
      "anaconda-client               1.11.2\n",
      "anaconda-navigator            2.4.1\n",
      "anaconda-project              0.11.1\n",
      "anyio                         3.5.0\n",
      "appdirs                       1.4.4\n",
      "argon2-cffi                   21.3.0\n",
      "argon2-cffi-bindings          21.2.0\n",
      "arrow                         1.2.3\n",
      "astroid                       2.14.2\n",
      "astropy                       5.1\n",
      "asttokens                     2.0.5\n",
      "atomicwrites                  1.4.0\n",
      "attrs                         22.1.0\n",
      "Automat                       20.2.0\n",
      "autopep8                      1.6.0\n",
      "Babel                         2.11.0\n",
      "backcall                      0.2.0\n",
      "backports.functools-lru-cache 1.6.4\n",
      "backports.tempfile            1.0\n",
      "backports.weakref             1.0.post1\n",
      "bcrypt                        3.2.0\n",
      "beautifulsoup4                4.11.1\n",
      "binaryornot                   0.4.4\n",
      "black                         22.6.0\n",
      "bleach                        4.1.0\n",
      "bokeh                         2.4.3\n",
      "boltons                       23.0.0\n",
      "Bottleneck                    1.3.5\n",
      "brotlipy                      0.7.0\n",
      "certifi                       2023.5.7\n",
      "cffi                          1.15.1\n",
      "chardet                       4.0.0\n",
      "charset-normalizer            2.0.4\n",
      "click                         8.0.4\n",
      "cloudpickle                   2.0.0\n",
      "clyent                        1.2.2\n",
      "colorama                      0.4.6\n",
      "colorcet                      3.0.1\n",
      "comm                          0.1.2\n",
      "conda                         23.3.1\n",
      "conda-build                   3.24.0\n",
      "conda-content-trust           0.1.3\n",
      "conda-pack                    0.6.0\n",
      "conda-package-handling        2.0.2\n",
      "conda_package_streaming       0.7.0\n",
      "conda-repo-cli                1.0.41\n",
      "conda-token                   0.4.0\n",
      "conda-verify                  3.4.2\n",
      "constantly                    15.1.0\n",
      "contourpy                     1.0.5\n",
      "cookiecutter                  1.7.3\n",
      "cryptography                  39.0.1\n",
      "cssselect                     1.1.0\n",
      "cycler                        0.11.0\n",
      "cytoolz                       0.12.0\n",
      "daal4py                       2023.0.2\n",
      "dask                          2022.7.0\n",
      "datashader                    0.14.4\n",
      "datashape                     0.5.4\n",
      "debugpy                       1.5.1\n",
      "decorator                     5.1.1\n",
      "defusedxml                    0.7.1\n",
      "diff-match-patch              20200713\n",
      "dill                          0.3.6\n",
      "distributed                   2022.7.0\n",
      "docstring-to-markdown         0.11\n",
      "docutils                      0.18.1\n",
      "entrypoints                   0.4\n",
      "et-xmlfile                    1.1.0\n",
      "executing                     0.8.3\n",
      "fastjsonschema                2.16.2\n",
      "filelock                      3.9.0\n",
      "flake8                        6.0.0\n",
      "Flask                         2.2.2\n",
      "flit_core                     3.6.0\n",
      "fonttools                     4.25.0\n",
      "fsspec                        2022.11.0\n",
      "future                        0.18.3\n",
      "gensim                        4.3.0\n",
      "glob2                         0.7\n",
      "greenlet                      2.0.1\n",
      "h5py                          3.7.0\n",
      "HeapDict                      1.0.1\n",
      "holoviews                     1.15.4\n",
      "huggingface-hub               0.10.1\n",
      "hvplot                        0.8.2\n",
      "hyperlink                     21.0.0\n",
      "idna                          3.4\n",
      "imagecodecs                   2021.8.26\n",
      "imageio                       2.26.0\n",
      "imagesize                     1.4.1\n",
      "imbalanced-learn              0.10.1\n",
      "importlib-metadata            4.11.3\n",
      "incremental                   21.3.0\n",
      "inflection                    0.5.1\n",
      "iniconfig                     1.1.1\n",
      "intake                        0.6.7\n",
      "intervaltree                  3.1.0\n",
      "ipykernel                     6.19.2\n",
      "ipython                       8.10.0\n",
      "ipython-genutils              0.2.0\n",
      "ipywidgets                    7.6.5\n",
      "isort                         5.9.3\n",
      "itemadapter                   0.3.0\n",
      "itemloaders                   1.0.4\n",
      "itsdangerous                  2.0.1\n",
      "jedi                          0.18.1\n",
      "jellyfish                     0.9.0\n",
      "Jinja2                        3.1.2\n",
      "jinja2-time                   0.2.0\n",
      "jmespath                      0.10.0\n",
      "joblib                        1.1.1\n",
      "json5                         0.9.6\n",
      "jsonpatch                     1.32\n",
      "jsonpointer                   2.1\n",
      "jsonschema                    4.17.3\n",
      "jupyter                       1.0.0\n",
      "jupyter_client                7.3.4\n",
      "jupyter-console               6.6.2\n",
      "jupyter_core                  5.2.0\n",
      "jupyter-server                1.23.4\n",
      "jupyterlab                    3.5.3\n",
      "jupyterlab-pygments           0.1.2\n",
      "jupyterlab_server             2.19.0\n",
      "jupyterlab-widgets            1.0.0\n",
      "keyring                       23.4.0\n",
      "kiwisolver                    1.4.4\n",
      "lazy-object-proxy             1.6.0\n",
      "libarchive-c                  2.9\n",
      "llvmlite                      0.39.1\n",
      "locket                        1.0.0\n",
      "lxml                          4.9.1\n",
      "lz4                           3.1.3\n",
      "Markdown                      3.4.1\n",
      "MarkupSafe                    2.1.1\n",
      "matplotlib                    3.7.0\n",
      "matplotlib-inline             0.1.6\n",
      "mccabe                        0.7.0\n",
      "menuinst                      1.4.19\n",
      "mistune                       0.8.4\n",
      "mkl-fft                       1.3.1\n",
      "mkl-random                    1.2.2\n",
      "mkl-service                   2.4.0\n",
      "mock                          4.0.3\n",
      "mpmath                        1.2.1\n",
      "msgpack                       1.0.3\n",
      "multipledispatch              0.6.0\n",
      "munkres                       1.1.4\n",
      "mypy-extensions               0.4.3\n",
      "navigator-updater             0.3.0\n",
      "nbclassic                     0.5.2\n",
      "nbclient                      0.5.13\n",
      "nbconvert                     6.5.4\n",
      "nbformat                      5.7.0\n",
      "nest-asyncio                  1.5.6\n",
      "networkx                      2.8.4\n",
      "nltk                          3.7\n",
      "notebook                      6.5.2\n",
      "notebook_shim                 0.2.2\n",
      "numba                         0.56.4\n",
      "numexpr                       2.8.4\n",
      "numpy                         1.23.5\n",
      "numpydoc                      1.5.0\n",
      "openpyxl                      3.0.10\n",
      "packaging                     22.0\n",
      "pandas                        1.5.3\n",
      "pandocfilters                 1.5.0\n",
      "panel                         0.14.3\n",
      "param                         1.12.3\n",
      "paramiko                      2.8.1\n",
      "parsel                        1.6.0\n",
      "parso                         0.8.3\n",
      "partd                         1.2.0\n",
      "pathlib                       1.0.1\n",
      "pathspec                      0.10.3\n",
      "patsy                         0.5.3\n",
      "pep8                          1.7.1\n",
      "pexpect                       4.8.0\n",
      "pickleshare                   0.7.5\n",
      "Pillow                        9.4.0\n",
      "pip                           22.3.1\n",
      "pkginfo                       1.9.6\n",
      "platformdirs                  2.5.2\n",
      "plotly                        5.9.0\n",
      "pluggy                        1.0.0\n",
      "ply                           3.11\n",
      "pooch                         1.4.0\n",
      "poyo                          0.5.0\n",
      "prometheus-client             0.14.1\n",
      "prompt-toolkit                3.0.36\n",
      "Protego                       0.1.16\n",
      "psutil                        5.9.0\n",
      "ptyprocess                    0.7.0\n",
      "pure-eval                     0.2.2\n",
      "py                            1.11.0\n",
      "pyasn1                        0.4.8\n",
      "pyasn1-modules                0.2.8\n",
      "pycodestyle                   2.10.0\n",
      "pycosat                       0.6.4\n",
      "pycparser                     2.21\n",
      "pyct                          0.5.0\n",
      "pycurl                        7.45.1\n",
      "PyDispatcher                  2.0.5\n",
      "pydocstyle                    6.3.0\n",
      "pyerfa                        2.0.0\n",
      "pyflakes                      3.0.1\n",
      "pygame                        2.5.1\n",
      "Pygments                      2.11.2\n",
      "PyHamcrest                    2.0.2\n",
      "PyJWT                         2.4.0\n",
      "pylint                        2.16.2\n",
      "pylint-venv                   2.3.0\n",
      "pyls-spyder                   0.4.0\n",
      "PyNaCl                        1.5.0\n",
      "pyodbc                        4.0.34\n",
      "pyOpenSSL                     23.0.0\n",
      "pyparsing                     3.0.9\n",
      "PyQt5                         5.15.7\n",
      "PyQt5-sip                     12.11.0\n",
      "PyQtWebEngine                 5.15.4\n",
      "pyrsistent                    0.18.0\n",
      "PySocks                       1.7.1\n",
      "pytest                        7.1.2\n",
      "python-dateutil               2.8.2\n",
      "python-lsp-black              1.2.1\n",
      "python-lsp-jsonrpc            1.0.0\n",
      "python-lsp-server             1.7.1\n",
      "python-slugify                5.0.2\n",
      "python-snappy                 0.6.1\n",
      "pytoolconfig                  1.2.5\n",
      "pytz                          2022.7\n",
      "pyviz-comms                   2.0.2\n",
      "PyWavelets                    1.4.1\n",
      "pywin32                       305.1\n",
      "pywin32-ctypes                0.2.0\n",
      "pywinpty                      2.0.10\n",
      "PyYAML                        6.0\n",
      "pyzmq                         23.2.0\n",
      "QDarkStyle                    3.0.2\n",
      "qstylizer                     0.2.2\n",
      "QtAwesome                     1.2.2\n",
      "qtconsole                     5.4.0\n",
      "QtPy                          2.2.0\n",
      "queuelib                      1.5.0\n",
      "regex                         2022.7.9\n",
      "requests                      2.28.1\n",
      "requests-file                 1.5.1\n",
      "requests-toolbelt             0.9.1\n",
      "rope                          1.7.0\n",
      "Rtree                         1.0.1\n",
      "ruamel.yaml                   0.17.21\n",
      "ruamel.yaml.clib              0.2.6\n",
      "ruamel-yaml-conda             0.17.21\n",
      "scikit-image                  0.19.3\n",
      "scikit-learn                  1.2.1\n",
      "scikit-learn-intelex          20230228.214818\n",
      "scipy                         1.10.0\n",
      "Scrapy                        2.8.0\n",
      "seaborn                       0.12.2\n",
      "Send2Trash                    1.8.0\n",
      "service-identity              18.1.0\n",
      "setuptools                    65.6.3\n",
      "sip                           6.6.2\n",
      "six                           1.16.0\n",
      "smart-open                    5.2.1\n",
      "sniffio                       1.2.0\n",
      "snowballstemmer               2.2.0\n",
      "sortedcontainers              2.4.0\n",
      "soupsieve                     2.3.2.post1\n",
      "Sphinx                        5.0.2\n",
      "sphinxcontrib-applehelp       1.0.2\n",
      "sphinxcontrib-devhelp         1.0.2\n",
      "sphinxcontrib-htmlhelp        2.0.0\n",
      "sphinxcontrib-jsmath          1.0.1\n",
      "sphinxcontrib-qthelp          1.0.3\n",
      "sphinxcontrib-serializinghtml 1.1.5\n",
      "spyder                        5.4.1\n",
      "spyder-kernels                2.4.1\n",
      "SQLAlchemy                    1.4.39\n",
      "stack-data                    0.2.0\n",
      "statsmodels                   0.13.5\n",
      "sympy                         1.11.1\n",
      "tables                        3.7.0\n",
      "tabulate                      0.8.10\n",
      "TBB                           0.2\n",
      "tblib                         1.7.0\n",
      "tenacity                      8.0.1\n",
      "terminado                     0.17.1\n",
      "text-unidecode                1.3\n",
      "textdistance                  4.2.1\n",
      "threadpoolctl                 2.2.0\n",
      "three-merge                   0.1.1\n",
      "tifffile                      2021.7.2\n",
      "tinycss2                      1.2.1\n",
      "tldextract                    3.2.0\n",
      "tokenizers                    0.11.4\n",
      "toml                          0.10.2\n",
      "tomli                         2.0.1\n",
      "tomlkit                       0.11.1\n",
      "toolz                         0.12.0\n",
      "torch                         1.12.1\n",
      "tornado                       6.1\n",
      "tqdm                          4.64.1\n",
      "traitlets                     5.7.1\n",
      "transformers                  4.24.0\n",
      "Twisted                       22.2.0\n",
      "twisted-iocpsupport           1.0.2\n",
      "typing_extensions             4.4.0\n",
      "ujson                         5.4.0\n",
      "Unidecode                     1.2.0\n",
      "urllib3                       1.26.14\n",
      "w3lib                         1.21.0\n",
      "watchdog                      2.1.6\n",
      "wcwidth                       0.2.5\n",
      "webencodings                  0.5.1\n",
      "websocket-client              0.58.0\n",
      "Werkzeug                      2.2.2\n",
      "whatthepatch                  1.0.2\n",
      "wheel                         0.38.4\n",
      "widgetsnbextension            3.5.2\n",
      "win-inet-pton                 1.1.0\n",
      "wincertstore                  0.2\n",
      "wrapt                         1.14.1\n",
      "xarray                        2022.11.0\n",
      "xlwings                       0.29.1\n",
      "yapf                          0.31.0\n",
      "zict                          2.1.0\n",
      "zipp                          3.11.0\n",
      "zope.interface                5.4.0\n",
      "zstandard                     0.19.0\n",
      "Note: you may need to restart the kernel to use updated packages.\n"
     ]
    }
   ],
   "source": [
    "pip list"
   ]
  },
  {
   "cell_type": "code",
   "execution_count": null,
   "metadata": {},
   "outputs": [
    {
     "name": "stdout",
     "output_type": "stream",
     "text": [
      "pygame 2.5.1 (SDL 2.28.2, Python 3.10.9)\n",
      "Hello from the pygame community. https://www.pygame.org/contribute.html\n"
     ]
    },
    {
     "ename": "",
     "evalue": "",
     "output_type": "error",
     "traceback": [
      "\u001b[1;31mThe Kernel crashed while executing code in the the current cell or a previous cell. Please review the code in the cell(s) to identify a possible cause of the failure. Click <a href='https://aka.ms/vscodeJupyterKernelCrash'>here</a> for more info. View Jupyter <a href='command:jupyter.viewOutput'>log</a> for further details."
     ]
    }
   ],
   "source": [
    "import pygame\n",
    "\n",
    "run = True\n",
    "width = 400\n",
    "height = 100\n",
    "pygame.init()\n",
    "screen = pygame.display.set_mode((width, height))\n",
    "font = pygame.font.SysFont(None, 48)\n",
    "text = font.render(\"Bienvenido a pygame\", True, (255, 255, 255))\n",
    "screen.blit(text, ((width - text.get_width()) // 2, (height - text.get_height()) // 2))\n",
    "pygame.display.flip()\n",
    "while run:\n",
    "    for event in pygame.event.get():\n",
    "        if event.type == pygame.QUIT\\\n",
    "        or event.type == pygame.MOUSEBUTTONUP\\\n",
    "        or event.type == pygame.KEYUP:\n",
    "            run = False\n"
   ]
  },
  {
   "cell_type": "code",
   "execution_count": null,
   "metadata": {},
   "outputs": [
    {
     "name": "stdout",
     "output_type": "stream",
     "text": [
      "^C\n"
     ]
    }
   ],
   "source": [
    "# Eliminar paquete.\n",
    "!pip uninstall pygame"
   ]
  },
  {
   "cell_type": "code",
   "execution_count": null,
   "metadata": {},
   "outputs": [
    {
     "name": "stdout",
     "output_type": "stream",
     "text": [
      "2\n",
      "0\n",
      "3\n"
     ]
    }
   ],
   "source": [
    "# Cadenas \n",
    "word = 'by'\n",
    "print(len(word))\n",
    "\n",
    "empty = ''\n",
    "print(len(empty))\n",
    "\n",
    "i_am = 'I\\'m'\n",
    "print(len(i_am))"
   ]
  },
  {
   "cell_type": "code",
   "execution_count": null,
   "metadata": {},
   "outputs": [
    {
     "name": "stdout",
     "output_type": "stream",
     "text": [
      "17\n"
     ]
    }
   ],
   "source": [
    "# El salto de linea cuenta como caracter especial \\n\n",
    "multiline = '''Linea #1\n",
    "Linea #2'''\n",
    "print(len(multiline))"
   ]
  },
  {
   "cell_type": "code",
   "execution_count": null,
   "metadata": {},
   "outputs": [
    {
     "name": "stdout",
     "output_type": "stream",
     "text": [
      "ab\n",
      "ba\n",
      "aaaaa\n",
      "bbbb\n"
     ]
    }
   ],
   "source": [
    "str1 = 'a'\n",
    "str2 = 'b'\n",
    "\n",
    "print(str1 + str2)\n",
    "print(str2 + str1)\n",
    "print(5*'a')\n",
    "print('b'*4)"
   ]
  },
  {
   "cell_type": "code",
   "execution_count": null,
   "metadata": {},
   "outputs": [
    {
     "name": "stdout",
     "output_type": "stream",
     "text": [
      "97\n",
      "35\n"
     ]
    }
   ],
   "source": [
    "# Saber el valor del punto del codigo ASCII/UNICODE de un caracter especifico\n",
    "char_1 = 'a'\n",
    "char_2 = '#'\n",
    "\n",
    "print(ord(char_1))\n",
    "print(ord(char_2))"
   ]
  },
  {
   "cell_type": "code",
   "execution_count": null,
   "metadata": {},
   "outputs": [
    {
     "name": "stdout",
     "output_type": "stream",
     "text": [
      "a\n",
      "#\n"
     ]
    }
   ],
   "source": [
    "# Conocer el caracter a partir del punto de codigo\n",
    "print(chr(97))\n",
    "print(chr(35))"
   ]
  },
  {
   "cell_type": "code",
   "execution_count": null,
   "metadata": {},
   "outputs": [
    {
     "name": "stdout",
     "output_type": "stream",
     "text": [
      "s i l l y   w a l k s "
     ]
    }
   ],
   "source": [
    "# Indexacion de cadenas\n",
    "the_string = 'silly walks'\n",
    "\n",
    "for ix in range(len(the_string)):\n",
    "    print(the_string[ix], end=' ')"
   ]
  },
  {
   "cell_type": "code",
   "execution_count": null,
   "metadata": {},
   "outputs": [
    {
     "name": "stdout",
     "output_type": "stream",
     "text": [
      "s i l l y   w a l k s "
     ]
    }
   ],
   "source": [
    "the_string = 'silly walks'\n",
    "\n",
    "for character in the_string:\n",
    "    print(character, end = ' ')"
   ]
  },
  {
   "cell_type": "code",
   "execution_count": null,
   "metadata": {},
   "outputs": [
    {
     "name": "stdout",
     "output_type": "stream",
     "text": [
      "bd\n",
      "efg\n",
      "abd\n",
      "e\n",
      "e\n",
      "adf\n",
      "beg\n"
     ]
    }
   ],
   "source": [
    "#Rebanadas\n",
    "alpha = 'abdefg'\n",
    "\n",
    "print(alpha[1:3])\n",
    "print(alpha[3:])\n",
    "print(alpha[:3])\n",
    "print(alpha[3:-2])\n",
    "print(alpha[-3:4])\n",
    "print(alpha[::2])\n",
    "print(alpha[1::2])\n"
   ]
  },
  {
   "cell_type": "code",
   "execution_count": null,
   "metadata": {},
   "outputs": [
    {
     "name": "stdout",
     "output_type": "stream",
     "text": [
      "True\n",
      "False\n",
      "False\n",
      "True\n",
      "False\n"
     ]
    }
   ],
   "source": [
    "# Operador in y not in\n",
    "\n",
    "alphabet = 'abcdefghijklmnopqrstuvwxyz'\n",
    "\n",
    "print('f' in alphabet)\n",
    "print('F' in alphabet)\n",
    "print('1' in alphabet)\n",
    "print('ghi' in alphabet)\n",
    "print('Xyz' in alphabet)\n"
   ]
  },
  {
   "cell_type": "code",
   "execution_count": null,
   "metadata": {},
   "outputs": [
    {
     "name": "stdout",
     "output_type": "stream",
     "text": [
      "False\n",
      "True\n",
      "True\n",
      "False\n",
      "True\n"
     ]
    }
   ],
   "source": [
    "alphabet = 'abcdefghijklmnopqrstuvwxyz'\n",
    "\n",
    "print('f' not in alphabet)\n",
    "print('F' not in alphabet)\n",
    "print('1' not in alphabet)\n",
    "print('ghi' not in alphabet)\n",
    "print('Xyz' not in alphabet)\n"
   ]
  },
  {
   "cell_type": "code",
   "execution_count": null,
   "metadata": {},
   "outputs": [
    {
     "name": "stdout",
     "output_type": "stream",
     "text": [
      "abcdefghijklmnopqrstuvwxyz\n",
      "La cadena ya fue borrada.\n"
     ]
    }
   ],
   "source": [
    "# Las cadenas de Python son inmutables\n",
    "print(alphabet)\n",
    "del alphabet\n",
    "\n",
    "try:\n",
    "    print(alphabet)\n",
    "except:\n",
    "    print('La cadena ya fue borrada.')"
   ]
  },
  {
   "cell_type": "code",
   "execution_count": null,
   "metadata": {},
   "outputs": [
    {
     "name": "stdout",
     "output_type": "stream",
     "text": [
      "abcdefghijklmnopqrstuvwxyz\n"
     ]
    }
   ],
   "source": [
    "# Agregar elementos a cadenas\n",
    "\n",
    "alphabet = 'bcdefghijklmnopqrstuvwxy'\n",
    "alphabet = 'a' + alphabet\n",
    "alphabet = alphabet + 'z'\n",
    "\n",
    "print(alphabet)"
   ]
  },
  {
   "cell_type": "code",
   "execution_count": null,
   "metadata": {},
   "outputs": [
    {
     "name": "stdout",
     "output_type": "stream",
     "text": [
      "A\n",
      "[ ]\n",
      "0\n"
     ]
    }
   ],
   "source": [
    "# Minimos considerando la tabla ascii min()\n",
    "\n",
    "print(min('aAbByYzZ'))\n",
    "\n",
    "t = 'Los Caballeros Que Dicen \"¡Ni!\"'\n",
    "print('[' + min(t) + ']')\n",
    "\n",
    "t = [0,1,2]\n",
    "print(min(t))\n"
   ]
  },
  {
   "cell_type": "code",
   "execution_count": null,
   "metadata": {},
   "outputs": [
    {
     "name": "stdout",
     "output_type": "stream",
     "text": [
      "z\n",
      "[¡]\n",
      "2\n"
     ]
    }
   ],
   "source": [
    "# Maximos considerando la tabla ascii max()\n",
    "\n",
    "print(max('aAbByYzZ'))\n",
    "\n",
    "t = 'Los Caballeros Que Dicen \"¡Ni!\"'\n",
    "print('[' + max(t) + ']')\n",
    "\n",
    "t = [0,1,2]\n",
    "print(max(t))"
   ]
  },
  {
   "cell_type": "code",
   "execution_count": null,
   "metadata": {},
   "outputs": [
    {
     "name": "stdout",
     "output_type": "stream",
     "text": [
      "2\n",
      "7\n",
      "9\n"
     ]
    }
   ],
   "source": [
    "#Funcion index: da posicion de la primera aparicion del argumento\n",
    "print(\"aAbByYzZaA\".index(\"b\"))\n",
    "print(\"aAbByYzZaA\".index(\"Z\"))\n",
    "print(\"aAbByYzZaX\".index(\"X\"))\n",
    "\n",
    "#Genera error si no encuentra el argumento"
   ]
  },
  {
   "cell_type": "code",
   "execution_count": null,
   "metadata": {},
   "outputs": [
    {
     "name": "stdout",
     "output_type": "stream",
     "text": [
      "['a', 'b', 'c', 'a', 'b', 'c']\n"
     ]
    }
   ],
   "source": [
    "# Metodo list() - crea una lista de los caracteres de la cadena\n",
    "print(list('abcabc'))"
   ]
  },
  {
   "cell_type": "code",
   "execution_count": null,
   "metadata": {},
   "outputs": [
    {
     "name": "stdout",
     "output_type": "stream",
     "text": [
      "2\n",
      "0\n"
     ]
    }
   ],
   "source": [
    "# Metodo count() - Cuebnta todas las apariciones del elemento dentro de la secuencia\n",
    "print('abcabc'.count('b'))\n",
    "print('abcabc'.count('d'))\n"
   ]
  },
  {
   "cell_type": "code",
   "execution_count": null,
   "metadata": {},
   "outputs": [
    {
     "name": "stdout",
     "output_type": "stream",
     "text": [
      "Abcd\n",
      "Alpha\n",
      "Alpha\n",
      " alpha\n",
      "123\n",
      "Αβγδ\n"
     ]
    }
   ],
   "source": [
    "# Metodo Capitalize(), primera letra a mayusculas y las demas en minusculas\n",
    "print('aBcD'.capitalize())\n",
    "print(\"Alpha\".capitalize())\n",
    "print('ALPHA'.capitalize())\n",
    "print(' Alpha'.capitalize())\n",
    "print('123'.capitalize())\n",
    "print(\"αβγδ\".capitalize())"
   ]
  },
  {
   "cell_type": "code",
   "execution_count": null,
   "metadata": {},
   "outputs": [
    {
     "name": "stdout",
     "output_type": "stream",
     "text": [
      "[Beta]\n",
      "[Beta]\n",
      "[ Beta ]\n",
      "[**Beta**]\n"
     ]
    }
   ],
   "source": [
    "#Metodo center - centrar cadenas con numero de caracteres especificados\n",
    "print('[' + 'Beta'.center(2) + ']')\n",
    "print('[' + 'Beta'.center(4) + ']')\n",
    "print('[' + 'Beta'.center(6) + ']')\n",
    "print( '[' + 'Beta'.center(8,'*') + ']')"
   ]
  },
  {
   "cell_type": "code",
   "execution_count": null,
   "metadata": {},
   "outputs": [
    {
     "name": "stdout",
     "output_type": "stream",
     "text": [
      "Si\n"
     ]
    }
   ],
   "source": [
    "# Metodo endwith() - Validar si una cadena termina en un argumento especificado\n",
    "if 'epsilon'.endswith('on'):\n",
    "    print('Si')\n",
    "else:\n",
    "    print('No') "
   ]
  },
  {
   "cell_type": "code",
   "execution_count": null,
   "metadata": {},
   "outputs": [
    {
     "name": "stdout",
     "output_type": "stream",
     "text": [
      "True\n",
      "False\n",
      "False\n",
      "True\n"
     ]
    }
   ],
   "source": [
    "t = 'zeta'\n",
    "\n",
    "print(t.endswith('a'))\n",
    "print(t.endswith('A'))\n",
    "print(t.endswith('et'))\n",
    "print(t.endswith('eta'))\n"
   ]
  },
  {
   "cell_type": "code",
   "execution_count": null,
   "metadata": {},
   "outputs": [
    {
     "name": "stdout",
     "output_type": "stream",
     "text": [
      "1\n",
      "-1\n"
     ]
    }
   ],
   "source": [
    "# Metodo find() muestra posicion del argumento, arrojando -1 si no esta dentro de cadena\n",
    "\n",
    "print('Eta'.find('ta'))\n",
    "print('Eta'.find('mma'))"
   ]
  },
  {
   "cell_type": "code",
   "execution_count": null,
   "metadata": {},
   "outputs": [
    {
     "name": "stdout",
     "output_type": "stream",
     "text": [
      "2\n",
      "2\n",
      "0\n",
      "-1\n"
     ]
    }
   ],
   "source": [
    "t = 'theta'\n",
    "print(t.find('eta')) #2\n",
    "print(t.find('et')) #2\n",
    "print(t.find('the')) #0\n",
    "print(t.find('ha')) #-1\n",
    "\n"
   ]
  },
  {
   "cell_type": "code",
   "execution_count": null,
   "metadata": {},
   "outputs": [
    {
     "name": "stdout",
     "output_type": "stream",
     "text": [
      "4\n"
     ]
    }
   ],
   "source": [
    "# Estableciendo un indice de inicio\n",
    "print('kappa'.find('a',2))"
   ]
  },
  {
   "cell_type": "code",
   "execution_count": null,
   "metadata": {},
   "outputs": [
    {
     "name": "stdout",
     "output_type": "stream",
     "text": [
      "15\n",
      "80\n",
      "198\n",
      "221\n",
      "238\n"
     ]
    }
   ],
   "source": [
    "#Ejemplo mas elaborado\n",
    "the_text = \"\"\"A variation of the ordinary lorem ipsum\n",
    "text has been used in typesetting since the 1960s \n",
    "or earlier, when it was popularized by advertisements \n",
    "for Letraset transfer sheets. It was introduced to \n",
    "the Information Age in the mid-1980s by the Aldus Corporation, \n",
    "which employed it in graphics and word-processing templates\n",
    "for its desktop publishing program PageMaker (from Wikipedia)\"\"\"\n",
    "\n",
    "fnd = the_text.find('the')\n",
    "\n",
    "while fnd != -1:\n",
    "    print(fnd)\n",
    "    fnd = the_text.find('the', fnd +1)\n",
    "\n",
    "#Indice de ocurrencias de aparicion 'the'"
   ]
  },
  {
   "cell_type": "code",
   "execution_count": null,
   "metadata": {},
   "outputs": [
    {
     "name": "stdout",
     "output_type": "stream",
     "text": [
      "1\n",
      "4\n",
      "-1\n"
     ]
    }
   ],
   "source": [
    "# Mutacion de 3 parametros para find() - limite superior de la busqueda\n",
    "print('kappa'.find('a', 1, 4))\n",
    "print('kappa'.find('a', 2, 5))\n",
    "print('kappa'.find('a', 2, 4))\n",
    "# el limite es n-1"
   ]
  },
  {
   "cell_type": "code",
   "execution_count": null,
   "metadata": {},
   "outputs": [
    {
     "name": "stdout",
     "output_type": "stream",
     "text": [
      "True\n",
      "True\n",
      "True\n",
      "False\n",
      "False\n",
      "False\n"
     ]
    }
   ],
   "source": [
    "# Metodo isalnum(), verificar si los caracteres son alfanumericos\n",
    "\n",
    "print('lamda30'.isalnum())\n",
    "print('lambda'.isalnum())\n",
    "print('30'.isalnum())\n",
    "print('@'.isalnum())\n",
    "print('lambda_30'.isalnum())\n",
    "print(''.isalnum())"
   ]
  },
  {
   "cell_type": "code",
   "execution_count": null,
   "metadata": {},
   "outputs": [
    {
     "name": "stdout",
     "output_type": "stream",
     "text": [
      "False\n",
      "True\n",
      "True\n"
     ]
    }
   ],
   "source": [
    "t = 'Six lambdas'\n",
    "print(t.isalnum())\n",
    "\n",
    "t = 'ΑβΓδ'\n",
    "print(t.isalnum())\n",
    "\n",
    "t = '20E1'\n",
    "print(t.isalnum())"
   ]
  },
  {
   "cell_type": "code",
   "execution_count": 595,
   "metadata": {},
   "outputs": [
    {
     "name": "stdout",
     "output_type": "stream",
     "text": [
      "False\n",
      "False\n",
      "True\n",
      "False\n"
     ]
    }
   ],
   "source": [
    "# isalpha() - vericar solo si son letras\n",
    "print('Mo ooo'.isalpha())\n",
    "print('Mu40'.isalpha())\n",
    "# isdigit() - verificar si son digitos\n",
    "print('2018'.isdigit())\n",
    "print('Year2019'.isdigit())"
   ]
  },
  {
   "cell_type": "code",
   "execution_count": null,
   "metadata": {},
   "outputs": [
    {
     "name": "stdout",
     "output_type": "stream",
     "text": [
      "False\n",
      "True\n",
      "True\n",
      "True\n",
      "False\n",
      "False\n",
      "False\n",
      "True\n"
     ]
    }
   ],
   "source": [
    "# Verificar letras minusculas\n",
    "print('Moooo'.islower())\n",
    "print('moooo'.islower())\n",
    "# Verificar espacios en blanco unicamente\n",
    "print(' \\n'.isspace())\n",
    "print(' '.isspace())\n",
    "print('mooo mooo mooo'.isspace())\n",
    "# Verificar letras mayusculas\n",
    "print('Moooo'.isupper()) \n",
    "print('moooo'.isupper())\n",
    "print('MOOOO'.isupper())"
   ]
  },
  {
   "cell_type": "code",
   "execution_count": null,
   "metadata": {},
   "outputs": [
    {
     "name": "stdout",
     "output_type": "stream",
     "text": [
      "omicron,pi,rho\n"
     ]
    }
   ],
   "source": [
    "# Metodo join(), la cadena de invocacion es usada como separador\n",
    "# Es importante que todos los metodos de la lista sean cadenas\n",
    "print(','.join(['omicron','pi','rho']))"
   ]
  },
  {
   "cell_type": "code",
   "execution_count": null,
   "metadata": {},
   "outputs": [
    {
     "name": "stdout",
     "output_type": "stream",
     "text": [
      "sigma=60\n"
     ]
    }
   ],
   "source": [
    "#Metodo lower(), covertir minusculas en mayusculas\n",
    "print('SiGmA=60'.lower())"
   ]
  },
  {
   "cell_type": "code",
   "execution_count": null,
   "metadata": {},
   "outputs": [
    {
     "name": "stdout",
     "output_type": "stream",
     "text": [
      "[tay ]\n",
      "cisco.com\n",
      "pythoninstitute.org\n"
     ]
    }
   ],
   "source": [
    "# lstrip()\n",
    "'''Devuelve una cadena recien creada formada a partir de la original \n",
    "eliminando todos los espacios en blanco iniciales'''\n",
    "\n",
    "print('[' + ' tay '.lstrip() + ']' )\n",
    "\n",
    "# Si incluyes un parametro dentro del argumento de la funcion los elimina\n",
    "print('www.cisco.com'.lstrip('w.'))\n",
    "\n",
    "print(\"pythoninstitute.org\".lstrip(\".org\"))"
   ]
  },
  {
   "cell_type": "code",
   "execution_count": null,
   "metadata": {},
   "outputs": [
    {
     "name": "stdout",
     "output_type": "stream",
     "text": [
      "www.pythoninstitute.org\n",
      "Thare are it!\n",
      "Apple \n"
     ]
    }
   ],
   "source": [
    "# Metodo replace(), remplazar valores\n",
    "print(\"www.netacad.com\".replace(\"netacad.com\", \"pythoninstitute.org\"))\n",
    "print(\"This is it!\".replace(\"is\", \"are\"))\n",
    "print(\"Apple juice\".replace(\"juice\", \"\"))"
   ]
  },
  {
   "cell_type": "code",
   "execution_count": null,
   "metadata": {},
   "outputs": [
    {
     "name": "stdout",
     "output_type": "stream",
     "text": [
      "8\n",
      "-1\n",
      "4\n"
     ]
    }
   ],
   "source": [
    "'''\n",
    "El método rfind()\n",
    "Los métodos de uno, dos y tres parámetros denominados rfind() hacen casi lo mismo\n",
    " que sus contrapartes (las que carecen del prefijo r), pero comienzan sus búsquedas \n",
    " desde el final de la cadena, no el principio (de ahí el prefijo r, de reversa).\n",
    "'''\n",
    "# Demostración del método rfind():\n",
    "print(\"tau tau tau\".rfind(\"ta\"))\n",
    "print(\"tau tau tau\".rfind(\"ta\", 9))\n",
    "print(\"tau tau tau\".rfind(\"ta\", 3, 9))\n"
   ]
  },
  {
   "cell_type": "code",
   "execution_count": 117,
   "metadata": {},
   "outputs": [
    {
     "name": "stdout",
     "output_type": "stream",
     "text": [
      "Thare is it!\n",
      "Thare are it!\n"
     ]
    }
   ],
   "source": [
    "# Con tres parametros para limitar el numero de remplazos\n",
    "print(\"This is it!\".replace(\"is\", \"are\", 1))\n",
    "print(\"This is it!\".replace(\"is\", \"are\", 2))"
   ]
  },
  {
   "cell_type": "code",
   "execution_count": 156,
   "metadata": {},
   "outputs": [
    {
     "name": "stdout",
     "output_type": "stream",
     "text": [
      "[ upsilon]\n",
      "cis\n"
     ]
    }
   ],
   "source": [
    "'''\n",
    "El método rstrip()\n",
    "Dos variantes del método rstrip() hacen casi lo mismo que el método lstrip, \n",
    "pero afecta el lado opuesto de la cadena.\n",
    "'''\n",
    "\n",
    "print(\"[\" + \" upsilon \".rstrip() + \"]\")\n",
    "print(\"cisco.com\".rstrip(\".com\"))\n"
   ]
  },
  {
   "cell_type": "code",
   "execution_count": 157,
   "metadata": {},
   "outputs": [
    {
     "name": "stdout",
     "output_type": "stream",
     "text": [
      "['phi', 'chi', 'psi']\n"
     ]
    }
   ],
   "source": [
    "'''\n",
    "El método split()\n",
    "El método split() divide la cadena y crea una lista de todas las subcadenas detectadas.\n",
    "\n",
    "El método asume que las subcadenas están delimitadas por espacios en blanco - los espacios\n",
    " no participan en la operación y no se copian en la lista resultante.\n",
    "\n",
    "Si la cadena está vacía, la lista resultante también está vacía.\n",
    "'''\n",
    "\n",
    "print('phi         chi\\npsi'.split())"
   ]
  },
  {
   "cell_type": "code",
   "execution_count": 161,
   "metadata": {},
   "outputs": [
    {
     "name": "stdout",
     "output_type": "stream",
     "text": [
      "False\n",
      "True\n"
     ]
    }
   ],
   "source": [
    "''' \n",
    "El método startswith()\n",
    "El método startswith() es un espejo del método endswith() - comprueba \n",
    "si una cadena dada comienza con la subcadena especificada.\n",
    "'''\n",
    "print('omega'.startswith('meg'))\n",
    "print('omega'.startswith('om'))"
   ]
  },
  {
   "cell_type": "code",
   "execution_count": 165,
   "metadata": {},
   "outputs": [
    {
     "name": "stdout",
     "output_type": "stream",
     "text": [
      "[aleph]\n"
     ]
    }
   ],
   "source": [
    "''' \n",
    "El método strip()\n",
    "El método strip() combina los efectos causados por rstrip() y lstrip() - \n",
    "crea una nueva cadena que carece de todos los espacios en blanco iniciales y finales.\n",
    "'''\n",
    "\n",
    "print('['+ '      aleph      '.strip() +']')"
   ]
  },
  {
   "cell_type": "code",
   "execution_count": 168,
   "metadata": {},
   "outputs": [
    {
     "name": "stdout",
     "output_type": "stream",
     "text": [
      "yO SE QUE NO SE NADA\n",
      "Yo Se Que No Se Nada. Part 1.\n",
      "YO SE QUE NO SE NADA. PART 2.\n"
     ]
    }
   ],
   "source": [
    "# Metodo swapcase() - intercambia todas las letras por mayusculas o minusculas dentro de\n",
    "# la cadena original\n",
    "\n",
    "print('Yo se que no se nada'.swapcase())\n",
    "\n",
    "# Metodo title(): - Cambia la primera letra de cada palabra a mayuscula, \n",
    "# conviertiendo todas las demas en minuscula\n",
    "print('Yo se que no se nada. Part 1.'.title())\n",
    "\n",
    "# Metodo upper() - Remplaza todas la letras minusculas con sus equivalentes en \n",
    "# mayusculas\n",
    "print('Yo se que no se nada. Part 2.'.upper())\n",
    "\n",
    " "
   ]
  },
  {
   "cell_type": "code",
   "execution_count": 170,
   "metadata": {},
   "outputs": [
    {
     "name": "stdout",
     "output_type": "stream",
     "text": [
      "True\n",
      "True\n"
     ]
    }
   ],
   "source": [
    "# Comparar cadenas\n",
    "print('alpha' == 'alpha')\n",
    "print('alpha' != 'Alpha')"
   ]
  },
  {
   "cell_type": "code",
   "execution_count": 172,
   "metadata": {},
   "outputs": [
    {
     "name": "stdout",
     "output_type": "stream",
     "text": [
      "True\n",
      "True\n"
     ]
    }
   ],
   "source": [
    "print('alpha' < 'alphabet')\n",
    "print('beta'>'Beta')"
   ]
  },
  {
   "cell_type": "code",
   "execution_count": 174,
   "metadata": {},
   "outputs": [
    {
     "name": "stdout",
     "output_type": "stream",
     "text": [
      "False\n",
      "True\n",
      "False\n",
      "True\n",
      "True\n"
     ]
    }
   ],
   "source": [
    "# Se compara el primer digito de la cifra en formato ascii\n",
    "print('10' == '010')\n",
    "print('10' > '010')\n",
    "print('10' > '8')\n",
    "print('20' < '8')\n",
    "print('20' < '80')"
   ]
  },
  {
   "cell_type": "code",
   "execution_count": 177,
   "metadata": {},
   "outputs": [
    {
     "name": "stdout",
     "output_type": "stream",
     "text": [
      "['omega', 'alpha', 'pi', 'gamma']\n",
      "['alpha', 'gamma', 'omega', 'pi']\n",
      "['omega', 'alpha', 'pi', 'gamma']\n",
      "['alpha', 'gamma', 'omega', 'pi']\n"
     ]
    }
   ],
   "source": [
    "# Ordenamineto\n",
    "\n",
    "# Funcion sorted() , la lista original permanece intacta ********\n",
    "first_greek = ['omega', 'alpha', 'pi', 'gamma']\n",
    "first_greek_2 = sorted(first_greek)\n",
    "print(first_greek)\n",
    "print(first_greek_2)\n",
    "# Metodo sort() , la lista original es afectada *******************\n",
    "second_greek = ['omega', 'alpha', 'pi', 'gamma']\n",
    "print(second_greek)\n",
    "second_greek.sort()\n",
    "print(second_greek)"
   ]
  },
  {
   "cell_type": "code",
   "execution_count": 178,
   "metadata": {},
   "outputs": [
    {
     "name": "stdout",
     "output_type": "stream",
     "text": [
      "13 1.3\n"
     ]
    }
   ],
   "source": [
    "# Conversion numero a cadena\n",
    "itg = 13\n",
    "flt = 1.3\n",
    "si = str(itg)\n",
    "sf = str(flt)\n",
    "print(si + ' ' + sf)"
   ]
  },
  {
   "cell_type": "code",
   "execution_count": 179,
   "metadata": {},
   "outputs": [
    {
     "name": "stdout",
     "output_type": "stream",
     "text": [
      "14.3\n"
     ]
    }
   ],
   "source": [
    "#Conversion de cadena a numero\n",
    "si = '13'\n",
    "sf = '1.3'\n",
    "\n",
    "itg = int(si)\n",
    "flt = float(sf)\n",
    "\n",
    "print(itg + flt)"
   ]
  },
  {
   "cell_type": "code",
   "execution_count": 186,
   "metadata": {},
   "outputs": [
    {
     "name": "stdout",
     "output_type": "stream",
     "text": [
      "ZJTIFO\n"
     ]
    }
   ],
   "source": [
    "'''\n",
    "El Cifrado César: encriptando un mensaje\n",
    "Te mostraremos cuatro programas simples para presentar algunos aspectos del procesamiento de cadenas en Python. Son intencionalmente simples, pero los problemas de laboratorio serán significativamente más complicados.\n",
    "\n",
    "El primer problema que queremos mostrarte se llama Cifrado César - más detalles aquí: https://en.wikipedia.org/wiki/Caesar_cipher.\n",
    "\n",
    "Este cifrado fue (probablemente) inventado y utilizado por Cayo Julio César y sus tropas durante las Guerras Galas. La idea es bastante simple: cada letra del mensaje se reemplaza por su consecuente más cercano (A se convierte en B, B se convierte en C, y así sucesivamente). La única excepción es la Z, la cual se convierte en A.\n",
    "\n",
    "El programa en el editor es una implementación muy simple (pero funcional) del algoritmo.\n",
    "\n",
    "Se ha escrito utilizando los siguientes supuestos:\n",
    "\n",
    "Solo acepta letras latinas (nota: los Romanos no usaban espacios en blanco ni dígitos).\n",
    "Todas las letras del mensaje están en mayúsculas (nota: los Romanos solo conocían las mayúsculas).\n",
    "Veamos el código:\n",
    "\n",
    "La línea 02: pide al usuario que ingrese un mensaje (sin cifrar) de una línea.\n",
    "La línea 03: prepara una cadena para el mensaje cifrado (esta vacía por ahora).\n",
    "La línea 04: inicia la iteración a través del mensaje.\n",
    "La línea 05: si el carácter actual no es alfabético...\n",
    "La línea 06: ...ignoralo.\n",
    "La línea 07: convierta la letra a mayúsculas (es preferible hacerlo a ciegas, en lugar de verificar si es necesario o no).\n",
    "La línea 08: obtén el código de la letra e increméntalo en uno.\n",
    "La línea 09: si el código resultante ha \"dejado\" el alfabeto latino (si es mayor que el código de la Z)...\n",
    "La línea 10: ... cámbialo al código de la A.\n",
    "La línea 11: agrega el carácter recibido al final del mensaje cifrado.\n",
    "La línea 13: imprime el cifrado.\n",
    "El código, con este mensaje:\n",
    "\n",
    "AVE CAESAR\n",
    "\n",
    "Da como salida:\n",
    "\n",
    "BWFDBFTBS\n",
    "'''\n",
    "\n",
    "text = input('Ingresa tu mensaje: ')\n",
    "cipher = ''\n",
    "\n",
    "for char in text:\n",
    "    if not char.isalpha():\n",
    "        continue\n",
    "    char = char.upper()\n",
    "    code = ord(char) + 1\n",
    "    if code > ord('Z'):\n",
    "        code = ord('A')\n",
    "    cipher += chr(code)\n",
    "\n",
    "print(cipher)\n",
    "\n"
   ]
  },
  {
   "cell_type": "code",
   "execution_count": 187,
   "metadata": {},
   "outputs": [
    {
     "name": "stdout",
     "output_type": "stream",
     "text": [
      "YISHEN\n"
     ]
    }
   ],
   "source": [
    "# Desencriptar\n",
    "cipher = input('Ingresa tu criptograma: ')\n",
    "text = ''\n",
    "for char in cipher:\n",
    "    if not char.isalpha():\n",
    "        continue\n",
    "    char = char.upper()\n",
    "    code = ord(char) - 1\n",
    "    if code < ord('A'):\n",
    "        code = ord('Z')\n",
    "    text += chr(code)\n",
    "\n",
    "print(text)"
   ]
  },
  {
   "cell_type": "code",
   "execution_count": 192,
   "metadata": {},
   "outputs": [
    {
     "name": "stdout",
     "output_type": "stream",
     "text": [
      "El total es:  0\n"
     ]
    }
   ],
   "source": [
    "'''\n",
    "El Procesador de Números\n",
    "El tercer programa muestra un método simple que permite ingresar una línea llena de números y sumarlos fácilmente. Nota: la función input(), combinada junto con las funciones int() o float(), no es lo adecuado para este propósito.\n",
    "\n",
    "El procesamiento será extremadamente fácil: queremos que se sumen los números.\n",
    "\n",
    "Observa el código en el editor. Analicémoslo.\n",
    "\n",
    "Emplear listas puede hacer que el código sea más pequeño. Puedes hacerlo si quieres.\n",
    "\n",
    "Presentemos nuestra versión:\n",
    "\n",
    "La línea 03: pide al usuario que ingrese una línea llena de cualquier cantidad de números (los números pueden ser flotantes).\n",
    "La línea 04: divide la línea en una lista con subcadenas.\n",
    "La línea 05: se inicializa la suma total a cero.\n",
    "La línea 06: como la conversión de cadena a flotante puede generar una excepción, es mejor continuar con la protección del bloque try-except.\n",
    "La línea 07: itera a través de la lista...\n",
    "La línea 08: ... e intenta convertir todos sus elementos en números flotantes; si funciona, aumenta la suma.\n",
    "La línea 09: todo está bien hasta ahora, así que imprime la suma.\n",
    "La línea 10: el programa termina aquí en caso de error.\n",
    "La línea 11: imprime un mensaje de diagnóstico que muestra al usuario el motivo de la falla.\n",
    "'''\n",
    "\n",
    "line = input('Ingresa una linea de numeros, separarlos con espacios: ')\n",
    "strings = line.split()\n",
    "total = 0\n",
    "try:\n",
    "    for substr in strings:\n",
    "        total += float(substr)\n",
    "    print('El total es: ', total)\n",
    "except:\n",
    "    print(substr, 'No es un numero.')"
   ]
  },
  {
   "cell_type": "code",
   "execution_count": 202,
   "metadata": {},
   "outputs": [
    {
     "name": "stdout",
     "output_type": "stream",
     "text": [
      "El IBAN ingresado es valido.\n"
     ]
    }
   ],
   "source": [
    "''' \n",
    "El Validador IBAN\n",
    "El cuarto programa implementa (en una forma ligeramente simplificada) un algoritmo utilizado por los bancos Europeos para especificar los números de cuenta. El estándar llamado IBAN (Número de cuenta bancaria internacional) proporciona un método simple y bastante confiable para validar los números de cuenta contra errores tipográficos simples que pueden ocurrir durante la reescritura del número, por ejemplo, de documentos en papel, como facturas o facturas en las computadoras.\n",
    "\n",
    "Puedes encontrar más detalles aquí: https://en.wikipedia.org/wiki/International_Bank_Account_Number.\n",
    "\n",
    "Un número de cuenta compatible con IBAN consta de:\n",
    "\n",
    "Un código de país de dos letras tomado del estándar ISO 3166-1 (por ejemplo, FR para Francia, GB para Gran Bretaña DE para Alemania, y así sucesivamente).\n",
    "Dos dígitos de verificación utilizados para realizar las verificaciones de validez: pruebas rápidas y simples, pero no totalmente confiables, que muestran si un número es inválido (distorsionado por un error tipográfico) o válido.\n",
    "El número de cuenta real (hasta 30 caracteres alfanuméricos; la longitud de esa parte depende del país).\n",
    "El estándar dice que la validación requiere los siguientes pasos (según Wikipedia):\n",
    "\n",
    "(Paso 1) Verificar que la longitud total del IBAN sea correcta según el país (este programa no lo hará, pero puedes modificar el código para cumplir con este requisito si lo deseas; nota: pero debes enseñar al código a conocer todas las longitudes utilizadas en Europa).\n",
    "(Paso 2) Mueve los cuatro caracteres iniciales al final de la cadena (es decir, el código del país y los dígitos de verificación).\n",
    "(Paso 3) Reemplaza cada letra en la cadena con dos dígitos, expandiendo así la cadena, donde A = 10, B = 11 ... Z = 35.\n",
    "(Paso 4) Interpreta la cadena como un entero decimal y calcula el residuo de ese número dividiéndolo entre 97. Si el residuo es 1, pasa la prueba de verificación de dígitos y el IBAN puede ser válido.\n",
    "Observa el código en el editor. Analicémoslo:\n",
    "\n",
    "Línea 03: pide al usuario que ingrese el IBAN (el número puede contener espacios, ya que mejoran significativamente la legibilidad del número...\n",
    "Línea 04: ... pero remueve los espacios de inmediato).\n",
    "Línea 05: el IBAN ingresado debe constar solo de dígitos y letras, de lo contrario...\n",
    "Línea 06: ... muestra un mensaje.\n",
    "Línea 07: el IBAN no debe tener menos de 15 caracteres (esta es la variante más corta, utilizada en Noruega).\n",
    "Línea 08: si es más corto, se informa al usuario.\n",
    "Línea 09: además, el IBAN no puede tener más de 31 caracteres (esta es la variante más larga, utilizada en Malta).\n",
    "Línea 10: si es más largo, se le informa al usuario.\n",
    "Línea 11: se comienza con el procesamiento.\n",
    "Línea 12: se mueven los cuatro caracteres iniciales al final del número y se convierten todas las letras a mayúsculas (paso 02 del algoritmo).\n",
    "Línea 13: esta es la variable utilizada para completar el número, creada al reemplazar las letras con dígitos (de acuerdo con el paso 03 del algoritmo).\n",
    "Línea 14: iterar a través del IBAN.\n",
    "Línea 15: si el carácter es un dígito...\n",
    "Línea 16: ... se copia.\n",
    "Línea 17: de lo contrario...\n",
    "Línea 18: ... conviértelo en dos dígitos (observa cómo se hace aquí).\n",
    "Línea 19: la forma convertida del IBAN está lista: ahora se convierte en un número entero.\n",
    "Línea 20: ¿el residuo de la división de iban2 entre 97 es igual a 1?\n",
    "Línea 21: si es así, entonces el número es correcto.\n",
    "Línea 22: de lo contrario...\n",
    "Línea 23: ... el número no es válido.\n",
    "Agreguemos algunos datos de prueba (todos estos números son válidos; puedes invalidarlos cambiando cualquier carácter).\n",
    "\n",
    "Inglés: GB72 HBZU 7006 7212 1253 00\n",
    "Francés: FR76 30003 03620 00020216907 50\n",
    "Alemán: DE02100100100152517108\n",
    "Si eres residente de la UE, puedes usar tu propio número de cuenta para hacer pruebas.\n",
    "'''\n",
    "\n",
    "iban = input('Ingresa un IBAN, por favor: ')\n",
    "iban = iban.replace(' ','')\n",
    "\n",
    "if not iban.isalnum():\n",
    "    print('Haz introducido caracteres no validos')\n",
    "elif len(iban) < 15:\n",
    "    print('El IBAN ingresado es demasiado corto.')\n",
    "elif len(iban) > 31:\n",
    "    print('El IBAN ingresado es demasiado largo.')\n",
    "else:\n",
    "    iban = (iban[4:] + iban[:4]).upper()\n",
    "    iban2 = ''\n",
    "    for ch in iban:\n",
    "        if ch.isdigit():\n",
    "            iban2 += ch\n",
    "        else:\n",
    "            iban2 += str(10 + ord(ch) - ord('A'))\n",
    "    iban = int(iban2)\n",
    "    if iban % 97 == 1:\n",
    "        print('El IBAN ingresado es valido.')\n",
    "    else:\n",
    "        print('El IBAN ingresado no es valido')"
   ]
  },
  {
   "cell_type": "code",
   "execution_count": 212,
   "metadata": {},
   "outputs": [
    {
     "name": "stdout",
     "output_type": "stream",
     "text": [
      "Oh cielos, algo salio mal\n",
      "Fin\n"
     ]
    }
   ],
   "source": [
    "# Tratamiento de excepciones\n",
    "try:\n",
    "    x = int(input('Ingresa un numero: '))\n",
    "    y = 1/x\n",
    "    print(y)\n",
    "except ZeroDivisionError:\n",
    "    print('No puedes dividir entre zero, lo siento')\n",
    "except ValueError:\n",
    "    print('Debes ingresar un valor entero')\n",
    "except:\n",
    "    print('Oh cielos, algo salio mal')\n",
    "\n",
    "print('Fin')"
   ]
  },
  {
   "cell_type": "code",
   "execution_count": 214,
   "metadata": {},
   "outputs": [
    {
     "name": "stdout",
     "output_type": "stream",
     "text": [
      "Uuupsss...\n",
      "FIN.\n"
     ]
    }
   ],
   "source": [
    "# ZeroDivisionError es parte de ArithmeticError\n",
    "''' \n",
    "Vamos a resumir:\n",
    "\n",
    "Cada excepción generada cae en la primer coincidencia.\n",
    "La coincidencia correspondiente no tiene que especificar \n",
    "exactamente la misma excepción, es suficiente que la excepción sea más general (más abstracta) que la generada.\n",
    "'''\n",
    "try:\n",
    "    y = 1 / 0\n",
    "except ArithmeticError:\n",
    "    print(\"Uuupsss...\")\n",
    "\n",
    "print(\"FIN.\")"
   ]
  },
  {
   "cell_type": "code",
   "execution_count": 216,
   "metadata": {},
   "outputs": [
    {
     "name": "stdout",
     "output_type": "stream",
     "text": [
      "¿Que pasó? ¿Un error?\n",
      "Fin\n"
     ]
    }
   ],
   "source": [
    "# Funcion raise para simular errores\n",
    "def bad_fun(n):\n",
    "    raise ZeroDivisionError\n",
    "\n",
    "try:\n",
    "    bad_fun(0)\n",
    "except ArithmeticError:\n",
    "    print(\"¿Que pasó? ¿Un error?\")\n",
    "\n",
    "print('Fin')"
   ]
  },
  {
   "cell_type": "code",
   "execution_count": 218,
   "metadata": {},
   "outputs": [
    {
     "name": "stdout",
     "output_type": "stream",
     "text": [
      "Lo hize otra vez\n",
      "Ya veo\n",
      "Fin\n"
     ]
    }
   ],
   "source": [
    "# raise sin nombre de excepcion\n",
    "\n",
    "def bad_fun(n):\n",
    "    try:\n",
    "        return n/0\n",
    "    except:\n",
    "        print('Lo hize otra vez')\n",
    "        raise\n",
    "\n",
    "try:\n",
    "    bad_fun(0)\n",
    "except ArithmeticError:\n",
    "    print('Ya veo')\n",
    "\n",
    "print('Fin')"
   ]
  },
  {
   "cell_type": "code",
   "execution_count": 225,
   "metadata": {},
   "outputs": [
    {
     "name": "stdout",
     "output_type": "stream",
     "text": [
      "3.0\n"
     ]
    }
   ],
   "source": [
    "# assert - instruccion\n",
    "''' Cómo funciona?\n",
    "\n",
    "Se evalúa la expresión.\n",
    "Si la expresión se evalúa como True (Verdadera), o un valor numérico distinto de cero,\n",
    " o una cadena no vacía, o cualquier otro valor diferente de None, no hará nada más.\n",
    "De lo contrario, automáticamente e inmediatamente se genera una excepción llamada AssertionError\n",
    " (en este caso, decimos que la afirmación ha fallado).'''\n",
    "\n",
    "import math\n",
    "\n",
    "x = float(input('Ingresa un numero: '))\n",
    "assert x >= 0.0\n",
    "\n",
    "x = math.sqrt(x)\n",
    "print(x)\n",
    "\n",
    "'''\n",
    "---------------------------------------------------------------------------\n",
    "AssertionError                            Traceback (most recent call last)\n",
    "c:\\Users\\Geovani\\Downloads\\Parte_2.ipynb Cell 93 line 1\n",
    "     10 import math\n",
    "     12 x = float(input('Ingresa un numero: '))\n",
    "---> 13 assert x >= 0.0\n",
    "     15 x = math.sqrt(x)\n",
    "     16 print(x)\n",
    "\n",
    "AssertionError: \n",
    "'''"
   ]
  },
  {
   "cell_type": "code",
   "execution_count": 226,
   "metadata": {},
   "outputs": [
    {
     "name": "stdout",
     "output_type": "stream",
     "text": [
      "algo\n"
     ]
    }
   ],
   "source": [
    "def foo(x):\n",
    "    assert x\n",
    "    return 1/x\n",
    "\n",
    "\n",
    "try:\n",
    "    print(foo(0))\n",
    "except ZeroDivisionError:\n",
    "    print(\"cero\")\n",
    "except:\n",
    "    print(\"algo\")"
   ]
  },
  {
   "cell_type": "code",
   "execution_count": 229,
   "metadata": {},
   "outputs": [
    {
     "name": "stdout",
     "output_type": "stream",
     "text": [
      "1.19175359259421\n"
     ]
    }
   ],
   "source": [
    "from math import tan, radians\n",
    "angle = int(input('Ingresa el angulo entero en grados: '))\n",
    "\n",
    "# Debemos estar seguros de que angle != 90 + k * 180\n",
    "assert angle % 180 != 90\n",
    "print(tan(radians(angle)))\n",
    "\n"
   ]
  },
  {
   "cell_type": "code",
   "execution_count": 230,
   "metadata": {},
   "outputs": [
    {
     "name": "stdout",
     "output_type": "stream",
     "text": [
      "1\n",
      "2\n",
      "3\n",
      "4\n",
      "5\n",
      "Listo\n"
     ]
    }
   ],
   "source": [
    "# El codigo muestra una forma extravagante\n",
    "# de dejar el bucle.\n",
    "\n",
    "the_list = [1, 2, 3, 4, 5]\n",
    "ix = 0\n",
    "do_it = True\n",
    "\n",
    "while do_it:\n",
    "    try:\n",
    "        print(the_list[ix])\n",
    "        ix += 1\n",
    "    except IndexError:\n",
    "        do_it = False\n",
    "\n",
    "print('Listo')\n",
    "\n"
   ]
  },
  {
   "cell_type": "code",
   "execution_count": 231,
   "metadata": {},
   "outputs": [
    {
     "name": "stdout",
     "output_type": "stream",
     "text": [
      "0\n",
      "1\n",
      "2\n",
      "3\n",
      "4\n",
      "5\n",
      "6\n",
      "7\n",
      "8\n",
      "9\n",
      "10\n",
      "11\n",
      "12\n",
      "13\n",
      "¡No hagas eso!\n",
      "14\n",
      "15\n",
      "16\n",
      "17\n",
      "18\n",
      "19\n",
      "20\n",
      "21\n",
      "22\n",
      "23\n",
      "24\n",
      "25\n",
      "26\n",
      "27\n",
      "28\n",
      "¡No hagas eso!\n",
      "29\n",
      "30\n",
      "31\n",
      "32\n",
      "33\n",
      "34\n",
      "35\n",
      "36\n",
      "37\n",
      "38\n",
      "39\n",
      "40\n",
      "41\n",
      "42\n",
      "43\n",
      "44\n",
      "¡No hagas eso!\n",
      "45\n",
      "46\n",
      "47\n",
      "48\n",
      "49\n",
      "50\n",
      "51\n",
      "52\n",
      "53\n",
      "54\n",
      "55\n",
      "56\n",
      "57\n",
      "58\n",
      "59\n"
     ]
    }
   ],
   "source": [
    "# Este código no puede ser terminado\n",
    "# presionando Ctrl-C.\n",
    "\n",
    "from time import sleep\n",
    "\n",
    "seconds = 0\n",
    "\n",
    "while True:\n",
    "    try:\n",
    "        print(seconds)\n",
    "        seconds += 1\n",
    "        sleep(1)\n",
    "    except KeyboardInterrupt:\n",
    "        print(\"¡No hagas eso!\")\n",
    "\n"
   ]
  },
  {
   "cell_type": "code",
   "execution_count": null,
   "metadata": {},
   "outputs": [],
   "source": [
    "''' \n",
    "# Este código causa la excepción MemoryError.\n",
    "# Advertencia: el ejecutar este código puede afectar tu Sistema Operativo.\n",
    "# ¡No lo ejecutes en entornos de producción!\n",
    "\n",
    "string = 'x'\n",
    "try:\n",
    "    while True:\n",
    "        string = string + string\n",
    "        print(len(string))\n",
    "except MemoryError:\n",
    "    print('¡Esto no es gracioso!')\n",
    "'''"
   ]
  },
  {
   "cell_type": "code",
   "execution_count": 2,
   "metadata": {},
   "outputs": [
    {
     "name": "stdout",
     "output_type": "stream",
     "text": [
      "2.718281828459045\n",
      "7.38905609893065\n",
      "54.598150033144236\n",
      "2980.9579870417283\n",
      "8886110.520507872\n",
      "78962960182680.69\n",
      "6.235149080811617e+27\n",
      "3.8877084059945954e+55\n",
      "1.5114276650041035e+111\n",
      "2.2844135865397565e+222\n",
      "El número es demasiado grande.\n"
     ]
    }
   ],
   "source": [
    "'''OverflowError\n",
    "Ubicación: BaseException ← Exception ← ArithmeticError ← OverflowError\n",
    "\n",
    "Descripción: una excepción concreta que surge cuando una operación produce un \n",
    "número demasiado grande para ser almacenado con éxito.'''\n",
    "\n",
    "# El código imprime los valores subsequentes\n",
    "# de exp(k), k = 1, 2, 4, 8, 16, ...\n",
    "\n",
    "from math import exp\n",
    "\n",
    "ex = 1\n",
    "\n",
    "try:\n",
    "    while True:\n",
    "        print(exp(ex))\n",
    "        ex *= 2\n",
    "except OverflowError:\n",
    "    print('El número es demasiado grande.')"
   ]
  },
  {
   "cell_type": "code",
   "execution_count": 3,
   "metadata": {},
   "outputs": [
    {
     "name": "stdout",
     "output_type": "stream",
     "text": [
      "Una de tus importaciones ha fallado.\n"
     ]
    }
   ],
   "source": [
    "# Una de estas importaciones fallará, ¿cuál será?\n",
    "\n",
    "try:\n",
    "    import math\n",
    "    import time\n",
    "    import abracadabra\n",
    "\n",
    "except:\n",
    "    print('Una de tus importaciones ha fallado.')\n",
    "\n"
   ]
  },
  {
   "cell_type": "code",
   "execution_count": 4,
   "metadata": {},
   "outputs": [
    {
     "name": "stdout",
     "output_type": "stream",
     "text": [
      "b\n",
      "c\n",
      "d\n",
      "No existe tal clave: d\n"
     ]
    }
   ],
   "source": [
    "# ¿Cómo abusar del diccionario\n",
    "# y cómo lidiar con ello?\n",
    "\n",
    "dictionary = {'a': 'b', 'b': 'c', 'c': 'd'}\n",
    "ch = 'a'\n",
    "\n",
    "try:\n",
    "    while True:\n",
    "        ch = dictionary[ch]\n",
    "        print(ch)\n",
    "except KeyError:\n",
    "    print('No existe tal clave:', ch)\n",
    "\n"
   ]
  },
  {
   "cell_type": "code",
   "execution_count": 5,
   "metadata": {},
   "outputs": [
    {
     "data": {
      "text/plain": [
       "<__main__.TheSimplestClass at 0x1b061c93650>"
      ]
     },
     "execution_count": 5,
     "metadata": {},
     "output_type": "execute_result"
    }
   ],
   "source": [
    "# Crear clase vacia / pass llena la clase sin nada\n",
    "class TheSimplestClass:\n",
    "    pass"
   ]
  },
  {
   "cell_type": "code",
   "execution_count": 3,
   "metadata": {},
   "outputs": [
    {
     "data": {
      "text/plain": [
       "<__main__.TheSimplestClass at 0x1b061c9d210>"
      ]
     },
     "execution_count": 3,
     "metadata": {},
     "output_type": "execute_result"
    }
   ],
   "source": [
    "#Crear objeto vacio\n",
    "my_first_object = TheSimplestClass()\n",
    "my_first_object"
   ]
  },
  {
   "cell_type": "code",
   "execution_count": 13,
   "metadata": {},
   "outputs": [
    {
     "name": "stdout",
     "output_type": "stream",
     "text": [
      "[3, 2, 1]\n",
      "Deleted was:  1 ----> [3, 2]\n",
      "Deleted was:  2 ----> [3]\n",
      "Deleted was:  3 ----> []\n"
     ]
    }
   ],
   "source": [
    "# Enfoque de pila procedimental\n",
    "stack = []\n",
    "\n",
    "def push(val):\n",
    "    stack.append(val)\n",
    "\n",
    "def pop():\n",
    "    val = stack[-1]\n",
    "    del stack[-1]\n",
    "    return val\n",
    "\n",
    "push(3)\n",
    "push(2)\n",
    "push(1)\n",
    "\n",
    "print(stack)\n",
    "print('Deleted was: ', pop(),'---->', stack )\n",
    "print('Deleted was: ', pop(),'---->', stack )\n",
    "print('Deleted was: ', pop(), '---->', stack )\n"
   ]
  },
  {
   "cell_type": "code",
   "execution_count": 22,
   "metadata": {},
   "outputs": [
    {
     "name": "stdout",
     "output_type": "stream",
     "text": [
      "¡Hola!\n"
     ]
    }
   ],
   "source": [
    "class Stack:\n",
    "    def __init__(self): #Definiendo la funcion del constructor\n",
    "        print('¡Hola!')\n",
    "\n",
    "stack_object = Stack() # Instanciando el objeto"
   ]
  },
  {
   "cell_type": "code",
   "execution_count": 52,
   "metadata": {},
   "outputs": [
    {
     "name": "stdout",
     "output_type": "stream",
     "text": [
      "10\n",
      "4\n",
      "3\n",
      "2\n",
      "1\n",
      "0\n"
     ]
    }
   ],
   "source": [
    "# Codigo con clases y subclases\n",
    "class Stack:\n",
    "    def __init__(self):\n",
    "        self.__stack_list = []\n",
    "\n",
    "    def push(self, val):\n",
    "        self.__stack_list.append(val)\n",
    "\n",
    "    def pop(self):\n",
    "        val = self.__stack_list[-1]\n",
    "        del self.__stack_list[-1]\n",
    "        return val\n",
    "\n",
    "\n",
    "class AddingStack(Stack):\n",
    "    def __init__(self):\n",
    "        Stack.__init__(self)\n",
    "        self.__sum = 0\n",
    "\n",
    "    def get_sum(self):\n",
    "        return self.__sum\n",
    "\n",
    "    def push(self, val):\n",
    "        self.__sum += val\n",
    "        Stack.push(self, val)\n",
    "\n",
    "    def pop(self):\n",
    "        val = Stack.pop(self)\n",
    "        self.__sum -= val\n",
    "        return val\n",
    "\n",
    "\n",
    "stack_object = AddingStack()\n",
    "\n",
    "for i in range(5):\n",
    "    stack_object.push(i)\n",
    "print(stack_object.get_sum())\n",
    "\n",
    "for i in range(5):\n",
    "    print(stack_object.pop())\n",
    "\n"
   ]
  },
  {
   "cell_type": "code",
   "execution_count": 53,
   "metadata": {},
   "outputs": [
    {
     "name": "stdout",
     "output_type": "stream",
     "text": [
      "{'first': 1}\n",
      "{'first': 2, 'second': 3}\n",
      "{'first': 4, 'third': 5}\n"
     ]
    }
   ],
   "source": [
    "class ExampleClass:\n",
    "    def __init__(self, val = 1):\n",
    "        self.first = val\n",
    "\n",
    "    def set_second(self, val):\n",
    "        self.second = val\n",
    "\n",
    "\n",
    "example_object_1 = ExampleClass()\n",
    "example_object_2 = ExampleClass(2)\n",
    "\n",
    "example_object_2.set_second(3)\n",
    "\n",
    "example_object_3 = ExampleClass(4)\n",
    "example_object_3.third = 5\n",
    "\n",
    "print(example_object_1.__dict__)\n",
    "print(example_object_2.__dict__)\n",
    "print(example_object_3.__dict__)\n",
    "\n"
   ]
  },
  {
   "cell_type": "code",
   "execution_count": 54,
   "metadata": {},
   "outputs": [
    {
     "name": "stdout",
     "output_type": "stream",
     "text": [
      "{'first': 1}\n",
      "{'first': 2, 'second': 3}\n",
      "{'first': 4, 'third': 5}\n"
     ]
    }
   ],
   "source": [
    "# Variables de instancia\n",
    "'''el modificar una variable de instancia de cualquier objeto\n",
    " no tiene impacto en todos los objetos restantes. Las variables de instancia están \n",
    " perfectamente aisladas unas de otras. '''\n",
    "\n",
    "class ExampleClass:\n",
    "    def __init__(self, val = 1):\n",
    "        self.first = val\n",
    "    def set_second(self, val):\n",
    "        self.second = val\n",
    "    \n",
    "example_object_1 = ExampleClass()\n",
    "example_object_2 = ExampleClass(2)\n",
    "\n",
    "example_object_2.set_second(3)\n",
    "\n",
    "example_object_3 = ExampleClass(4)\n",
    "example_object_3.third = 5\n",
    "\n",
    "print(example_object_1.__dict__)\n",
    "print(example_object_2.__dict__)\n",
    "print(example_object_3.__dict__)\n",
    "\n",
    " "
   ]
  },
  {
   "cell_type": "code",
   "execution_count": 57,
   "metadata": {},
   "outputs": [
    {
     "name": "stdout",
     "output_type": "stream",
     "text": [
      "{'_ExampleClass__first': 1}\n",
      "{'_ExampleClass__first': 2, '_ExampleClass__second': 3}\n",
      "{'_ExampleClass__first': 4, '__third': 5}\n"
     ]
    },
    {
     "data": {
      "text/plain": [
       "1"
      ]
     },
     "execution_count": 57,
     "metadata": {},
     "output_type": "execute_result"
    }
   ],
   "source": [
    "# Manejo de instancias privadas\n",
    "class ExampleClass:\n",
    "    def __init__(self, val = 1):\n",
    "        self.__first = val\n",
    "    \n",
    "    def set_second(self, val = 2):\n",
    "        self.__second = val\n",
    "\n",
    "example_object_1 = ExampleClass()\n",
    "example_object_2 = ExampleClass(2)\n",
    "\n",
    "example_object_2.set_second(3)\n",
    "\n",
    "example_object_3 = ExampleClass(4)\n",
    "example_object_3.__third = 5\n",
    "\n",
    "\n",
    "print(example_object_1.__dict__)\n",
    "print(example_object_2.__dict__)\n",
    "print(example_object_3.__dict__)\n",
    "\n",
    "# Como acceder a instancia privada\n",
    "example_object_1._ExampleClass__first\n"
   ]
  },
  {
   "cell_type": "code",
   "execution_count": 60,
   "metadata": {},
   "outputs": [
    {
     "name": "stdout",
     "output_type": "stream",
     "text": [
      "1\n",
      "{'_ExampleClass__first': 1} 3\n",
      "{'_ExampleClass__first': 2} 3\n",
      "{'_ExampleClass__first': 4} 3\n"
     ]
    }
   ],
   "source": [
    "class ExampleClass:\n",
    "    counter = 0\n",
    "    def __init__(self, val = 1):\n",
    "        self.__first = val\n",
    "        ExampleClass.counter += 1\n",
    "\n",
    "example_object_1 = ExampleClass()\n",
    "print(example_object_1.counter)\n",
    "example_object_2 = ExampleClass(2)\n",
    "example_object_3 = ExampleClass(4)\n",
    "\n",
    "print(example_object_1.__dict__, example_object_1.counter)\n",
    "print(example_object_2.__dict__, example_object_2.counter)\n",
    "print(example_object_3.__dict__, example_object_3.counter)\n",
    "\n"
   ]
  },
  {
   "cell_type": "code",
   "execution_count": 61,
   "metadata": {},
   "outputs": [
    {
     "name": "stdout",
     "output_type": "stream",
     "text": [
      "{'_ExampleClass__first': 1} 3\n",
      "{'_ExampleClass__first': 2} 3\n",
      "{'_ExampleClass__first': 4} 3\n"
     ]
    }
   ],
   "source": [
    "class ExampleClass:\n",
    "    __counter = 0\n",
    "    def __init__(self, val = 1):\n",
    "        self.__first = val\n",
    "        ExampleClass.__counter += 1\n",
    "\n",
    "\n",
    "example_object_1 = ExampleClass()\n",
    "example_object_2 = ExampleClass(2)\n",
    "example_object_3 = ExampleClass(4)\n",
    "\n",
    "print(example_object_1.__dict__, example_object_1._ExampleClass__counter)\n",
    "print(example_object_2.__dict__, example_object_2._ExampleClass__counter)\n",
    "print(example_object_3.__dict__, example_object_3._ExampleClass__counter)\n"
   ]
  },
  {
   "cell_type": "code",
   "execution_count": 67,
   "metadata": {},
   "outputs": [
    {
     "name": "stdout",
     "output_type": "stream",
     "text": [
      "{'__module__': '__main__', 'varia': 1, '__init__': <function ExampleClass.__init__ at 0x000001B0624B0860>, '__dict__': <attribute '__dict__' of 'ExampleClass' objects>, '__weakref__': <attribute '__weakref__' of 'ExampleClass' objects>, '__doc__': None}\n",
      "{'__module__': '__main__', 'varia': 2, '__init__': <function ExampleClass.__init__ at 0x000001B0624B0860>, '__dict__': <attribute '__dict__' of 'ExampleClass' objects>, '__weakref__': <attribute '__weakref__' of 'ExampleClass' objects>, '__doc__': None}\n",
      "{}\n"
     ]
    }
   ],
   "source": [
    "class ExampleClass:\n",
    "    varia = 1\n",
    "    def __init__(self, val):\n",
    "        ExampleClass.varia = val\n",
    "\n",
    "\n",
    "print(ExampleClass.__dict__)\n",
    "example_object = ExampleClass(2)\n",
    "\n",
    "print(ExampleClass.__dict__)\n",
    "print(example_object.__dict__)\n"
   ]
  },
  {
   "cell_type": "code",
   "execution_count": 79,
   "metadata": {},
   "outputs": [
    {
     "name": "stdout",
     "output_type": "stream",
     "text": [
      "1\n"
     ]
    }
   ],
   "source": [
    "''' \n",
    "Python proporciona una función que puede verificar con seguridad si algún objeto / \n",
    "clase contiene una propiedad específica. La función se llama hasattr, y espera que le pasen dos argumentos:\n",
    "\n",
    "La clase o el objeto que se verifica.\n",
    "El nombre de la propiedad cuya existencia se debe informar (Nota: debe ser una cadena que contenga el nombre del atributo).\n",
    "La función retorna True o False.\n",
    " '''\n",
    "\n",
    "class ExampleClass:\n",
    "    def __init__(self, val):\n",
    "        if val % 2 != 0:\n",
    "            self.a = 1\n",
    "        else:\n",
    "            self.b = 2\n",
    "\n",
    "example_object = ExampleClass(1)\n",
    "print(example_object.a)\n",
    "\n",
    "if hasattr(example_object, 'b'):\n",
    "    print(example_object.b)"
   ]
  },
  {
   "cell_type": "code",
   "execution_count": 85,
   "metadata": {},
   "outputs": [],
   "source": [
    "# Validar si variable esta en el objeto con hasattr\n",
    "class ExampleClass:\n",
    "    def __init__(self, val):\n",
    "        if val % 2 != 0:\n",
    "            self.a = 1\n",
    "        else:\n",
    "            self.b = 2\n",
    "\n",
    "example_object = ExampleClass(1)\n",
    "\n",
    "try:\n",
    "    print(example_object.b)\n",
    "except AttributeError:\n",
    "    pass"
   ]
  },
  {
   "cell_type": "code",
   "execution_count": 83,
   "metadata": {},
   "outputs": [
    {
     "name": "stdout",
     "output_type": "stream",
     "text": [
      "True\n",
      "True\n",
      "False\n",
      "True\n"
     ]
    }
   ],
   "source": [
    "# Validar si la clase tiene la variable con hasatttr\n",
    "class ExampleClass:\n",
    "    a = 1\n",
    "    def __init__(self):\n",
    "        self.b = 2\n",
    "\n",
    "example_object = ExampleClass()\n",
    "\n",
    "print(hasattr(example_object,'b'))\n",
    "print(hasattr(example_object,'a'))\n",
    "print(hasattr(ExampleClass, 'b'))\n",
    "print(hasattr(ExampleClass, 'a'))"
   ]
  },
  {
   "cell_type": "code",
   "execution_count": 87,
   "metadata": {},
   "outputs": [
    {
     "name": "stdout",
     "output_type": "stream",
     "text": [
      "Metodo:  1\n",
      "Metodo:  2\n",
      "Metodo:  3\n"
     ]
    }
   ],
   "source": [
    "# Metodos en las clases de Python\n",
    "class Classy:\n",
    "    def method(self, par):\n",
    "        print('Metodo: ', par)\n",
    "\n",
    "obj = Classy()\n",
    "obj.method(1)\n",
    "obj.method(2)\n",
    "obj.method(3)"
   ]
  },
  {
   "cell_type": "code",
   "execution_count": 92,
   "metadata": {},
   "outputs": [
    {
     "name": "stdout",
     "output_type": "stream",
     "text": [
      "2 3\n"
     ]
    }
   ],
   "source": [
    "# self para obtener acceso a la instancia del objeto y las variables de clase\n",
    "class Classy:\n",
    "    varia = 2\n",
    "    def method(self):\n",
    "        print(self.varia, self.var)\n",
    "\n",
    "obj = Classy()\n",
    "obj.var = 3\n",
    "obj.method()"
   ]
  },
  {
   "cell_type": "code",
   "execution_count": 93,
   "metadata": {},
   "outputs": [
    {
     "name": "stdout",
     "output_type": "stream",
     "text": [
      "metodo\n",
      "otro\n"
     ]
    }
   ],
   "source": [
    "# Self para invovar otros metodos desde dentro de la clase\n",
    "class Classy:\n",
    "    \n",
    "    def other(self):\n",
    "        print('otro')\n",
    "    \n",
    "    def method(self):\n",
    "        print('metodo')\n",
    "        self.other()\n",
    "\n",
    "obj = Classy()\n",
    "obj.method()"
   ]
  },
  {
   "cell_type": "code",
   "execution_count": 94,
   "metadata": {},
   "outputs": [
    {
     "name": "stdout",
     "output_type": "stream",
     "text": [
      "objeto\n"
     ]
    }
   ],
   "source": [
    "class Classy:\n",
    "    def __init__(self, value):\n",
    "        self.var = value\n",
    "\n",
    "obj_1 = Classy('objeto')\n",
    "\n",
    "print(obj_1.var)"
   ]
  },
  {
   "cell_type": "code",
   "execution_count": 95,
   "metadata": {},
   "outputs": [
    {
     "name": "stdout",
     "output_type": "stream",
     "text": [
      "objeto\n",
      "None\n"
     ]
    }
   ],
   "source": [
    "class Classy:\n",
    "    def __init__(self, value = None):\n",
    "        self.var = value\n",
    "    \n",
    "obj_1 = Classy('objeto')\n",
    "obj_2 = Classy()\n",
    "\n",
    "print(obj_1.var)\n",
    "print(obj_2.var)"
   ]
  },
  {
   "cell_type": "code",
   "execution_count": 98,
   "metadata": {},
   "outputs": [
    {
     "name": "stdout",
     "output_type": "stream",
     "text": [
      "visible\n",
      "fallido\n",
      "oculto\n"
     ]
    }
   ],
   "source": [
    "class Classy:\n",
    "    def visible(self):\n",
    "        print('visible')\n",
    "    def __hiden(self):\n",
    "        print('oculto')\n",
    "\n",
    "obj = Classy()\n",
    "obj.visible()\n",
    "\n",
    "try:\n",
    "    obj.__hidden()\n",
    "except:\n",
    "    print('fallido')\n",
    "\n",
    "obj._Classy__hiden()"
   ]
  },
  {
   "cell_type": "code",
   "execution_count": 99,
   "metadata": {},
   "outputs": [
    {
     "data": {
      "text/plain": [
       "mappingproxy({'__module__': '__main__',\n",
       "              'visible': <function __main__.Classy.visible(self)>,\n",
       "              '_Classy__hiden': <function __main__.Classy.__hiden(self)>,\n",
       "              '__dict__': <attribute '__dict__' of 'Classy' objects>,\n",
       "              '__weakref__': <attribute '__weakref__' of 'Classy' objects>,\n",
       "              '__doc__': None})"
      ]
     },
     "execution_count": 99,
     "metadata": {},
     "output_type": "execute_result"
    }
   ],
   "source": [
    "Classy.__dict__"
   ]
  },
  {
   "cell_type": "code",
   "execution_count": 100,
   "metadata": {},
   "outputs": [
    {
     "name": "stdout",
     "output_type": "stream",
     "text": [
      "{'var': 2}\n",
      "{'__module__': '__main__', 'varia': 1, '__init__': <function Classy.__init__ at 0x000001B0624C9C60>, 'method': <function Classy.method at 0x000001B0624C99E0>, '_Classy__hidden': <function Classy.__hidden at 0x000001B0624C9B20>, '__dict__': <attribute '__dict__' of 'Classy' objects>, '__weakref__': <attribute '__weakref__' of 'Classy' objects>, '__doc__': None}\n"
     ]
    }
   ],
   "source": [
    "class Classy:\n",
    "    varia = 1\n",
    "    def __init__(self):\n",
    "        self.var = 2\n",
    "    def method(self):\n",
    "        pass\n",
    "    def __hidden(self):\n",
    "        pass\n",
    "\n",
    "obj = Classy()\n",
    "print(obj.__dict__)\n",
    "print(Classy.__dict__)"
   ]
  },
  {
   "cell_type": "code",
   "execution_count": 104,
   "metadata": {},
   "outputs": [
    {
     "name": "stdout",
     "output_type": "stream",
     "text": [
      "Classy\n",
      "Classy\n"
     ]
    }
   ],
   "source": [
    "#__name__ solo funciona en clases\n",
    "class Classy:\n",
    "    pass\n",
    "\n",
    "print(Classy.__name__)\n",
    "obj = Classy()\n",
    "print(type(obj).__name__)"
   ]
  },
  {
   "cell_type": "code",
   "execution_count": 105,
   "metadata": {},
   "outputs": [
    {
     "name": "stdout",
     "output_type": "stream",
     "text": [
      "__main__\n",
      "__main__\n"
     ]
    }
   ],
   "source": [
    "# __main__ almacena el nombre del modulo que contiene la definicion de la clase\n",
    "class Classy:\n",
    "    pass\n",
    "\n",
    "print(Classy.__module__)\n",
    "obj = Classy()\n",
    "print(obj.__module__)"
   ]
  },
  {
   "cell_type": "code",
   "execution_count": 117,
   "metadata": {},
   "outputs": [
    {
     "name": "stdout",
     "output_type": "stream",
     "text": [
      "( object )\n",
      "( object )\n",
      "( SuperOne SuperTwo )\n"
     ]
    }
   ],
   "source": [
    "#  __bases__ tupla contiene clases que son superclases directas de la clase\n",
    "\n",
    "class SuperOne:\n",
    "    pass\n",
    "\n",
    "class SuperTwo:\n",
    "    pass\n",
    "\n",
    "class Sub(SuperOne, SuperTwo):\n",
    "    pass\n",
    "\n",
    "def printBases(cls):\n",
    "    print('(', end = ' ')\n",
    "    for x in cls.__bases__:\n",
    "        print(x.__name__, end = ' ')\n",
    "    print(')')\n",
    "\n",
    "printBases(SuperOne)\n",
    "printBases(SuperTwo)\n",
    "printBases(Sub)"
   ]
  },
  {
   "cell_type": "code",
   "execution_count": 133,
   "metadata": {},
   "outputs": [
    {
     "name": "stdout",
     "output_type": "stream",
     "text": [
      "{'a': 1, 'b': 2, 'i': 3, 'ireal': 3.5, 'integer': 4, 'z': 5}\n",
      "{'a': 1, 'b': 2, 'i': 4, 'ireal': 3.5, 'integer': 5, 'z': 5}\n"
     ]
    }
   ],
   "source": [
    "# Funciones anidadas\n",
    "class MyClass:\n",
    "    pass\n",
    "\n",
    "obj = MyClass()\n",
    "obj.a = 1\n",
    "obj.b = 2\n",
    "obj.i = 3\n",
    "obj.ireal = 3.5\n",
    "obj.integer = 4\n",
    "obj.z = 5\n",
    "\n",
    "def incIntsI(obj):\n",
    "    for name in obj.__dict__.keys():\n",
    "        if name.startswith('i'):\n",
    "            val = getattr(obj, name)\n",
    "            if isinstance(val, int):\n",
    "                setattr(obj, name, val + 1)\n",
    "\n",
    "print(obj.__dict__)\n",
    "incIntsI(obj)\n",
    "print(obj.__dict__)"
   ]
  },
  {
   "cell_type": "code",
   "execution_count": 140,
   "metadata": {},
   "outputs": [
    {
     "name": "stdout",
     "output_type": "stream",
     "text": [
      "<__main__.Star object at 0x000001B062412010>\n"
     ]
    }
   ],
   "source": [
    "# Herencia - la forma en que el objeto puede presentarse a si mismo\n",
    "class Star:\n",
    "    def __init__(self, name, galaxy):\n",
    "        self.name = name\n",
    "        self.galaxy = galaxy\n",
    "\n",
    "sun = Star('Sol ', 'Via Lactea')\n",
    "print(sun)\n"
   ]
  },
  {
   "cell_type": "code",
   "execution_count": 148,
   "metadata": {},
   "outputs": [
    {
     "name": "stdout",
     "output_type": "stream",
     "text": [
      "<__main__.Star object at 0x000001B0625C7E90>\n"
     ]
    }
   ],
   "source": [
    "class Star:\n",
    "    def __init__(self, name, galaxy):\n",
    "        self.name = name\n",
    "        self.galaxy = galaxy\n",
    "    \n",
    "sun = Star('Sol','Via Lactea')\n",
    "print(sun)"
   ]
  },
  {
   "cell_type": "code",
   "execution_count": 149,
   "metadata": {},
   "outputs": [
    {
     "name": "stdout",
     "output_type": "stream",
     "text": [
      "Sol en Via Lactea\n"
     ]
    }
   ],
   "source": [
    "class Star:\n",
    "    def __init__(self, name, galaxy):\n",
    "        self.name = name\n",
    "        self.galaxy = galaxy\n",
    "    def __str__(self):\n",
    "        return self.name + ' en ' + self.galaxy\n",
    "    \n",
    "sun = Star('Sol','Via Lactea')\n",
    "print(sun)"
   ]
  },
  {
   "cell_type": "code",
   "execution_count": 151,
   "metadata": {},
   "outputs": [
    {
     "name": "stdout",
     "output_type": "stream",
     "text": [
      "True\tFalse\tFalse\t\n",
      "True\tTrue\tFalse\t\n",
      "True\tTrue\tTrue\t\n"
     ]
    }
   ],
   "source": [
    "# Herencia - issubclass(a,b) a es subclase de b?\n",
    "\n",
    "class Vehicle:\n",
    "    pass\n",
    "class LandVehicle(Vehicle):\n",
    "    pass\n",
    "class TrackedVehicle(LandVehicle):\n",
    "    pass\n",
    "\n",
    "for cls1 in [Vehicle, LandVehicle, TrackedVehicle]:\n",
    "    for cls2 in [Vehicle, LandVehicle, TrackedVehicle]:\n",
    "        print(issubclass(cls1,cls2), end = '\\t')\n",
    "    print()"
   ]
  },
  {
   "cell_type": "code",
   "execution_count": 159,
   "metadata": {},
   "outputs": [
    {
     "name": "stdout",
     "output_type": "stream",
     "text": [
      "True\tFalse\tFalse\t\n",
      "True\tTrue\tFalse\t\n",
      "True\tTrue\tTrue\t\n"
     ]
    }
   ],
   "source": [
    "# Herencia: isinstance(objectName, ClassName) - es un objeto de cierta clase?\n",
    "\n",
    "class Vehicle:\n",
    "    pass\n",
    "class LandVehicle(Vehicle):\n",
    "    pass\n",
    "class TrackedVehicle(LandVehicle):\n",
    "    pass\n",
    "\n",
    "my_vehicle = Vehicle()\n",
    "my_land_vehicle = LandVehicle()\n",
    "my_tracked_vehicle = TrackedVehicle()\n",
    "\n",
    "for obj in [my_vehicle,my_land_vehicle,my_tracked_vehicle]:\n",
    "    for cls in [Vehicle, LandVehicle, TrackedVehicle]:\n",
    "        print(isinstance(obj, cls) , end = '\\t')\n",
    "    print()"
   ]
  },
  {
   "cell_type": "code",
   "execution_count": 163,
   "metadata": {},
   "outputs": [],
   "source": [
    "def renglon(n):\n",
    "    print('\\n' + '*'*n + '\\n')"
   ]
  },
  {
   "cell_type": "code",
   "execution_count": 166,
   "metadata": {},
   "outputs": [
    {
     "name": "stdout",
     "output_type": "stream",
     "text": [
      "{'val': 1}\n",
      "{'val': 2}\n",
      "{'val': 1}\n",
      "\n",
      "********************\n",
      "\n",
      "False\n",
      "False\n",
      "True\n",
      "\n",
      "********************\n",
      "\n",
      "1 2 1\n",
      "\n",
      "********************\n",
      "\n",
      "Mary tenia un corderito - Mary tenia un corderito\n",
      "True False\n"
     ]
    }
   ],
   "source": [
    "# Operador is - verificar si dos variables se refieren al mismo objeto\n",
    "class SampleClass:\n",
    "    def __init__(self, val):\n",
    "        self.val = val\n",
    "\n",
    "object_1 = SampleClass(0)\n",
    "object_2 = SampleClass(2)\n",
    "object_3 = object_1\n",
    "object_3.val += 1\n",
    "\n",
    "print(object_1.__dict__)\n",
    "print(object_2.__dict__)\n",
    "print(object_3.__dict__)\n",
    "renglon(20)\n",
    "print(object_1 is object_2)\n",
    "print(object_2 is object_3)\n",
    "print(object_3 is object_1)\n",
    "renglon(20)\n",
    "print(object_1.val, object_2.val, object_3.val)\n",
    "renglon(20)\n",
    "string_1 = 'Mary tenia un '\n",
    "string_2 = 'Mary tenia un corderito'\n",
    "string_1 += 'corderito'\n",
    "print(string_1,'-', string_2)\n",
    "print(string_1 == string_2, string_1 is string_2)\n",
    "\n"
   ]
  },
  {
   "cell_type": "code",
   "execution_count": 171,
   "metadata": {},
   "outputs": [
    {
     "name": "stdout",
     "output_type": "stream",
     "text": [
      "Mi nombre es: Andy.\n"
     ]
    }
   ],
   "source": [
    "# Ejemplo de herencia\n",
    "\n",
    "class Super:\n",
    "    def __init__(self, name):\n",
    "        self.name = name\n",
    "    def __str__(self):\n",
    "        return 'Mi nombre es: ' + self.name +'.'\n",
    "    \n",
    "class Sub(Super):\n",
    "    def __init__(self, name):\n",
    "        Super.__init__(self, name)\n",
    "\n",
    "obj = Sub('Andy')\n",
    "print(obj)\n",
    "\n",
    "#Print() simpre retorna __str__ de las clases"
   ]
  },
  {
   "cell_type": "code",
   "execution_count": 172,
   "metadata": {},
   "outputs": [
    {
     "name": "stdout",
     "output_type": "stream",
     "text": [
      "Mi nombre es Yishen.\n"
     ]
    }
   ],
   "source": [
    "# Ejemplo ligera variacion\n",
    "class Super:\n",
    "    def __init__(self, name):\n",
    "        self.name = name\n",
    "    def __str__(self):\n",
    "        return \"Mi nombre es \" + self.name + \".\"\n",
    "\n",
    "class Sub(Super):\n",
    "    def __init__(self, name):\n",
    "        super().__init__(name)\n",
    "\n",
    "obj = Sub('Yishen')\n",
    "print(obj)"
   ]
  },
  {
   "cell_type": "code",
   "execution_count": 186,
   "metadata": {},
   "outputs": [
    {
     "name": "stdout",
     "output_type": "stream",
     "text": [
      "2\n",
      "1\n"
     ]
    }
   ],
   "source": [
    "class Super:\n",
    "    supVar = 1\n",
    "\n",
    "\n",
    "class Sub(Super):\n",
    "    subVar = 2\n",
    "\n",
    "\n",
    "obj = Sub()\n",
    "\n",
    "print(obj.subVar)\n",
    "print(obj.supVar)\n",
    "\n",
    "'''\n",
    "obj.subVar devuelve 2, ya que accede directamente a la variable de clase subVar de la clase Sub.\n",
    "\n",
    "obj.supVar devuelve 1, ya que la primera vez que se accede, se obtiene el valor de \n",
    "la variable de clase supVar de la clase Super.\n",
    "\n",
    "obj.supVar devuelve 1 nuevamente, pero esta vez, Python ha creado una variable de \n",
    "instancia supVar en obj que oculta la variable de clase supVar.\n",
    " Por lo tanto, obtienes el valor de la variable de instancia en lugar de \n",
    " la variable de clase.\n",
    " '''"
   ]
  },
  {
   "cell_type": "code",
   "execution_count": 197,
   "metadata": {},
   "outputs": [
    {
     "name": "stdout",
     "output_type": "stream",
     "text": [
      "12\n",
      "11\n"
     ]
    }
   ],
   "source": [
    "class Super:\n",
    "    def __init__(self):\n",
    "        self.supVar = 11\n",
    "\n",
    "\n",
    "class Sub(Super):\n",
    "    def __init__(self):\n",
    "        super().__init__()\n",
    "        self.subVar = 12\n",
    "\n",
    "\n",
    "obj = Sub()\n",
    "\n",
    "print(obj.subVar)\n",
    "print(obj.supVar)\n",
    "\n"
   ]
  },
  {
   "cell_type": "code",
   "execution_count": 198,
   "metadata": {},
   "outputs": [
    {
     "name": "stdout",
     "output_type": "stream",
     "text": [
      "100 101 102\n",
      "200 201 202\n",
      "300 301 302\n"
     ]
    }
   ],
   "source": [
    "class Level1:\n",
    "    variable_1 = 100\n",
    "    def __init__(self):\n",
    "        self.var_1 = 101\n",
    "\n",
    "    def fun_1(self):\n",
    "        return 102\n",
    "\n",
    "\n",
    "class Level2(Level1):\n",
    "    variable_2 = 200\n",
    "    def __init__(self):\n",
    "        super().__init__()\n",
    "        self.var_2 = 201\n",
    "    \n",
    "    def fun_2(self):\n",
    "        return 202\n",
    "\n",
    "\n",
    "class Level3(Level2):\n",
    "    variable_3 = 300\n",
    "    def __init__(self):\n",
    "        super().__init__()\n",
    "        self.var_3 = 301\n",
    "\n",
    "    def fun_3(self):\n",
    "        return 302\n",
    "\n",
    "\n",
    "obj = Level3()\n",
    "\n",
    "print(obj.variable_1, obj.var_1, obj.fun_1())\n",
    "print(obj.variable_2, obj.var_2, obj.fun_2())\n",
    "print(obj.variable_3, obj.var_3, obj.fun_3())"
   ]
  },
  {
   "cell_type": "code",
   "execution_count": 205,
   "metadata": {},
   "outputs": [
    {
     "name": "stdout",
     "output_type": "stream",
     "text": [
      "10 11\n",
      "20 21\n"
     ]
    }
   ],
   "source": [
    "# Herencia multiple simplificada\n",
    "class SuperA:\n",
    "    var_a = 10\n",
    "    def fun_a(self):\n",
    "        return 11\n",
    "    \n",
    "class SuperB:\n",
    "    var_b = 20\n",
    "    def fun_b(self):\n",
    "        return 21\n",
    "class Sub(SuperA, SuperB):\n",
    "    pass\n",
    "\n",
    "obj = Sub()\n",
    "\n",
    "print(obj.var_a, obj.fun_a())\n",
    "print(obj.var_b, obj.fun_b())"
   ]
  },
  {
   "cell_type": "code",
   "execution_count": 206,
   "metadata": {},
   "outputs": [
    {
     "name": "stdout",
     "output_type": "stream",
     "text": [
      "200 201\n",
      "200 201\n",
      "200 201\n"
     ]
    }
   ],
   "source": [
    "class Level1:\n",
    "    var = 100\n",
    "    def fun(self):\n",
    "        return 101\n",
    "\n",
    "\n",
    "class Level2(Level1):\n",
    "    var = 200\n",
    "    def fun(self):\n",
    "        return 201\n",
    "\n",
    "\n",
    "class Level3(Level2):\n",
    "    pass\n",
    "\n",
    "\n",
    "obj = Level3()\n",
    "\n",
    "print(obj.var, obj.fun())\n",
    "print(obj.var, obj.fun())\n",
    "print(obj.var, obj.fun())"
   ]
  },
  {
   "cell_type": "code",
   "execution_count": 207,
   "metadata": {},
   "outputs": [
    {
     "name": "stdout",
     "output_type": "stream",
     "text": [
      "L LL RR Left\n"
     ]
    }
   ],
   "source": [
    "'''  \n",
    "Podemos decir que Python busca componentes de objetos en el siguiente orden:\n",
    "\n",
    "Dentro del objeto mismo.\n",
    "En sus superclases, de abajo hacia arriba.\n",
    "Si hay más de una clase en una ruta de herencia, Python las escanea de izquierda a derecha.\n",
    " '''\n",
    "\n",
    "class Left:\n",
    "    var = \"L\"\n",
    "    var_left = \"LL\"\n",
    "    def fun(self):\n",
    "        return \"Left\"\n",
    "\n",
    "\n",
    "class Right:\n",
    "    var = \"R\"\n",
    "    var_right = \"RR\"\n",
    "    def fun(self):\n",
    "        return \"Right\"\n",
    "\n",
    "\n",
    "class Sub(Left, Right):\n",
    "    pass\n",
    "\n",
    "\n",
    "obj = Sub()\n",
    "\n",
    "print(obj.var, obj.var_left, obj.var_right, obj.fun())"
   ]
  },
  {
   "cell_type": "code",
   "execution_count": 208,
   "metadata": {},
   "outputs": [
    {
     "name": "stdout",
     "output_type": "stream",
     "text": [
      "R LL RR Right\n"
     ]
    }
   ],
   "source": [
    "class Left:\n",
    "    var = \"L\"\n",
    "    var_left = \"LL\"\n",
    "    def fun(self):\n",
    "        return \"Left\"\n",
    "\n",
    "\n",
    "class Right:\n",
    "    var = \"R\"\n",
    "    var_right = \"RR\"\n",
    "    def fun(self):\n",
    "        return \"Right\"\n",
    "\n",
    "\n",
    "class Sub(Right, Left):\n",
    "    pass\n",
    "\n",
    "\n",
    "obj = Sub()\n",
    "\n",
    "print(obj.var, obj.var_left, obj.var_right, obj.fun())"
   ]
  },
  {
   "cell_type": "code",
   "execution_count": 209,
   "metadata": {},
   "outputs": [
    {
     "name": "stdout",
     "output_type": "stream",
     "text": [
      "do_it de One\n",
      "do_it de Two\n"
     ]
    }
   ],
   "source": [
    "#Polimorfismo\n",
    "\n",
    "class One:\n",
    "    def do_it(self):\n",
    "        print(\"do_it de One\")\n",
    "\n",
    "    def doanything(self):\n",
    "        self.do_it()\n",
    "\n",
    "\n",
    "class Two(One):\n",
    "    def do_it(self):\n",
    "        print(\"do_it de Two\")\n",
    "\n",
    "\n",
    "one = One()\n",
    "two = Two()\n",
    "\n",
    "one.doanything()\n",
    "two.doanything()\n"
   ]
  },
  {
   "cell_type": "code",
   "execution_count": 211,
   "metadata": {},
   "outputs": [
    {
     "name": "stdout",
     "output_type": "stream",
     "text": [
      "ruedas:  True True\n",
      "ruedas:  True False\n",
      "pistas:  False True\n",
      "pistas:  False False\n"
     ]
    }
   ],
   "source": [
    "import time\n",
    "\n",
    "class Tracks:\n",
    "    def change_direction(self, left, on):\n",
    "        print(\"pistas: \", left, on)\n",
    "\n",
    "\n",
    "class Wheels:\n",
    "    def change_direction(self, left, on):\n",
    "        print(\"ruedas: \", left, on)\n",
    "\n",
    "\n",
    "class Vehicle:\n",
    "    def __init__(self, controller):\n",
    "        self.controller = controller\n",
    "\n",
    "    def turn(self, left):\n",
    "        self.controller.change_direction(left, True)\n",
    "        time.sleep(0.25)\n",
    "        self.controller.change_direction(left, False)\n",
    "\n",
    "\n",
    "wheeled = Vehicle(Wheels())\n",
    "tracked = Vehicle(Tracks())\n",
    "\n",
    "wheeled.turn(True)\n",
    "tracked.turn(False)\n"
   ]
  },
  {
   "cell_type": "code",
   "execution_count": 216,
   "metadata": {},
   "outputs": [
    {
     "name": "stdout",
     "output_type": "stream",
     "text": [
      "invalid literal for int() with base 10: '¡Hola!'\n",
      "invalid literal for int() with base 10: '¡Hola!'\n"
     ]
    }
   ],
   "source": [
    "# Except como clase\n",
    "try:\n",
    "    i = int(\"¡Hola!\")\n",
    "except Exception as e:\n",
    "    print(e)\n",
    "    print(e.__str__())\n"
   ]
  },
  {
   "cell_type": "code",
   "execution_count": null,
   "metadata": {},
   "outputs": [],
   "source": [
    "'''\n",
    "Las excepciones son clases\n",
    "Todas las excepciones integradas de Python forman una jerarquía de clases.\n",
    " Si lo deseas, puedes extenderlo sin problema.\n",
    "\n",
    "Todas las excepciones integradas de Python forman una jerarquía de clases.\n",
    " Si lo deseas, puedes extenderlo sin problema.\n",
    "\n",
    "Como un árbol es un ejemplo perfecto de una estructura de datos recursiva, \n",
    "la recursión parece ser la mejor manera de recorrerlo. La función \n",
    "print_exception_tree() toma dos argumentos:\n",
    "\n",
    "Un punto dentro del árbol desde el cual comenzamos a recorrerlo.\n",
    "Un nivel de anidación (lo usaremos para construir un dibujo simplificado de \n",
    "las ramas del árbol).\n",
    "Comencemos desde la raíz del árbol: la raíz de las clases de excepciones de \n",
    "Python es la clase BaseException (es una superclase de todas las demás excepciones).\n",
    "\n",
    "Para cada una de las clases encontradas, se realiza el mismo conjunto de operaciones:\n",
    "\n",
    "Imprimir su nombre, tomado de la propiedad __name__.\n",
    "Iterar a través de la lista de subclases provistas por el método __subclasses__(), \n",
    "e invocar recursivamente la función printExcTree(), incrementando el nivel de anidación respectivamente.\n",
    "Toma en cuenta como hemos dibujado las ramas. La impresión no está ordenada de alguna manera: \n",
    "si deseas un desafío, puedes intentar ordenarla tú mismo. Además, hay algunas imprecisiones sutiles \n",
    "en la forma en que se presentan algunas ramas. Eso también se puede arreglar, si lo deseas.\n",
    "'''"
   ]
  },
  {
   "cell_type": "code",
   "execution_count": 230,
   "metadata": {},
   "outputs": [
    {
     "name": "stdout",
     "output_type": "stream",
     "text": [
      "\n",
      "********************\n",
      "\n",
      "<class 'BaseExceptionGroup'>\n",
      "\n",
      "********************\n",
      "\n",
      "<class 'ExceptionGroup'>\n",
      "++++++++++++++++++++++++++++\n",
      "\n",
      "********************\n",
      "\n",
      "<class 'Exception'>\n",
      "\n",
      "********************\n",
      "\n",
      "<class 'ArithmeticError'>\n",
      "<class 'AssertionError'>\n",
      "<class 'AttributeError'>\n",
      "<class 'BufferError'>\n",
      "<class 'EOFError'>\n",
      "<class 'ImportError'>\n",
      "<class 'LookupError'>\n",
      "<class 'MemoryError'>\n",
      "<class 'NameError'>\n",
      "<class 'OSError'>\n",
      "<class 'ReferenceError'>\n",
      "<class 'RuntimeError'>\n",
      "<class 'StopAsyncIteration'>\n",
      "<class 'StopIteration'>\n",
      "<class 'SyntaxError'>\n",
      "<class 'SystemError'>\n",
      "<class 'TypeError'>\n",
      "<class 'ValueError'>\n",
      "<class 'Warning'>\n",
      "<class 'ExceptionGroup'>\n",
      "<class 'warnings._OptionError'>\n",
      "<class 'runpy._Error'>\n",
      "<class 're.error'>\n",
      "<class 'locale.Error'>\n",
      "<class 'subprocess.SubprocessError'>\n",
      "<class 'zmq.error.ZMQBaseError'>\n",
      "<class 'copy.Error'>\n",
      "<class 'struct.error'>\n",
      "<class '_pickle.PickleError'>\n",
      "<class 'pickle._Stop'>\n",
      "<class 'tokenize.TokenError'>\n",
      "<class 'tokenize.StopTokenizing'>\n",
      "<class 'concurrent.futures._base.Error'>\n",
      "<class 'socket._GiveupOnSendfile'>\n",
      "<class 'binascii.Incomplete'>\n",
      "<class 'inspect.ClassFoundException'>\n",
      "<class 'inspect.EndOfBlock'>\n",
      "<class 'asyncio.exceptions.InvalidStateError'>\n",
      "<class 'asyncio.exceptions.LimitOverrunError'>\n",
      "<class 'asyncio.queues.QueueEmpty'>\n",
      "<class 'asyncio.queues.QueueFull'>\n",
      "<class 'zlib.error'>\n",
      "<class '_lzma.LZMAError'>\n",
      "<class 'shutil.RegistryError'>\n",
      "<class 'shutil._GiveupOnFastCopy'>\n",
      "<class 'traitlets.traitlets.TraitError'>\n",
      "<class '_queue.Empty'>\n",
      "<class 'queue.Full'>\n",
      "<class 'ctypes.ArgumentError'>\n",
      "<class '_ctypes.COMError'>\n",
      "<class 'tornado.concurrent.ReturnValueIgnoredError'>\n",
      "<class 'argparse.ArgumentError'>\n",
      "<class 'argparse.ArgumentTypeError'>\n",
      "<class 'traitlets.config.loader.ConfigError'>\n",
      "<class 'traitlets.config.configurable.ConfigurableError'>\n",
      "<class 'traitlets.config.application.ApplicationError'>\n",
      "<class 'jupyter_client.channels.InvalidPortNumber'>\n",
      "<class 'jupyter_client.localinterfaces.NoIPAddresses'>\n",
      "<class '_csv.Error'>\n",
      "<class 'zipfile.BadZipFile'>\n",
      "<class 'zipfile.LargeZipFile'>\n",
      "<class 'email.errors.MessageError'>\n",
      "<class 'jupyter_client.multikernelmanager.DuplicateKernelError'>\n",
      "<class 'pydoc.ErrorDuringImport'>\n",
      "<class 'executing.executing.NotOneValueFound'>\n",
      "<class 'executing._exceptions.KnownIssue'>\n",
      "<class 'executing._exceptions.VerifierFailure'>\n",
      "<class 'pure_eval.utils.CannotEval'>\n",
      "<class 'pygments.util.OptionError'>\n",
      "<class 'bdb.BdbQuit'>\n",
      "<class 'pdb.Restart'>\n",
      "<class 'IPython.utils.process.FindCmdError'>\n",
      "<class 'IPython.utils.path.HomeDirError'>\n",
      "<class 'IPython.core.profiledir.ProfileDirError'>\n",
      "<class 'IPython.core.error.IPythonCoreError'>\n",
      "<class 'IPython.core.error.InputRejected'>\n",
      "<class 'getopt.GetoptError'>\n",
      "<class 'pygments.filters.ErrorToken'>\n",
      "<class 'IPython.core.prefilter.PrefilterError'>\n",
      "<class 'IPython.core.alias.AliasError'>\n",
      "<class 'sqlite3.Error'>\n",
      "<class 'sqlite3.Warning'>\n",
      "<class 'IPython.core.interactiveshell.SpaceInInput'>\n",
      "<class 'xml.dom.DOMException'>\n",
      "<class 'prompt_toolkit.validation.ValidationError'>\n",
      "<class 'prompt_toolkit.buffer.EditReadOnlyBuffer'>\n",
      "<class 'prompt_toolkit.buffer._Retry'>\n",
      "<class 'prompt_toolkit.layout.layout.InvalidLayoutError'>\n",
      "<class 'prompt_toolkit.renderer.HeightIsUnknownError'>\n",
      "<class 'IPython.core.guarded_eval.GuardRejection'>\n",
      "<class 'parso.parser.ParserSyntaxError'>\n",
      "<class 'parso.parser.InternalParseError'>\n",
      "<class 'parso.python.diff._PositionUpdatingFinished'>\n",
      "<class 'jedi.inference.helpers.SimpleGetItemNotFound'>\n",
      "<class 'jedi.inference.utils.UncaughtAttributeError'>\n",
      "<class 'jedi.inference.base_value.HasNoContext'>\n",
      "<class 'jedi.inference.arguments.ParamIssue'>\n",
      "<class 'jedi.api.exceptions._JediError'>\n",
      "<class 'jedi.api.helpers.OnErrorLeaf'>\n",
      "<class 'jedi.api.environment.InvalidPythonEnvironment'>\n",
      "<class 'http.client.HTTPException'>\n",
      "<class 'IPython.core.magics.code.InteractivelyDefined'>\n",
      "<class 'IPython.terminal.embed.KillEmbedded'>\n",
      "<class 'psutil.Error'>\n",
      "<class '_psutil_windows.Error'>\n",
      "<class '_psutil_windows.TimeoutExpired'>\n",
      "<class '_psutil_windows.TimeoutAbandoned'>\n",
      "<class 'tornado.gen.KeyReuseError'>\n",
      "<class 'tornado.gen.UnknownKeyError'>\n",
      "<class 'tornado.gen.LeakedCallbackError'>\n",
      "<class 'tornado.gen.BadYieldError'>\n",
      "<class 'tornado.gen.ReturnValueIgnoredError'>\n",
      "<class 'tornado.gen.Return'>\n",
      "<class 'tornado.queues.QueueEmpty'>\n",
      "<class 'tornado.queues.QueueFull'>\n",
      "<class '_pydev_bundle._pydev_saved_modules.DebuggerInitializationError'>\n",
      "<class 'xml.parsers.expat.ExpatError'>\n",
      "<class 'xmlrpc.client.Error'>\n",
      "<class 'pywintypes.error'>\n",
      "<class 'pywintypes.com_error'>\n",
      "<class 'pythoncom.internal_error'>\n",
      "<class 'pkg_resources._vendor.pyparsing.exceptions.ParseBaseException'>\n",
      "<class 'pkg_resources._vendor.pyparsing.exceptions.RecursiveGrammarException'>\n",
      "<class 'pkg_resources.ResolutionError'>\n",
      "<class '_pydevd_bundle.pydevd_runpy._Error'>\n",
      "<class '_pydevd_bundle.pydevd_resolver.UnableToResolveVariableException'>\n",
      "<class '_pydev_bundle.pydev_monkey.InvalidTypeInArgsException'>\n",
      "++++++++++++++++++++++++++++\n",
      "\n",
      "********************\n",
      "\n",
      "<class 'GeneratorExit'>\n",
      "\n",
      "********************\n",
      "\n",
      "++++++++++++++++++++++++++++\n",
      "\n",
      "********************\n",
      "\n",
      "<class 'KeyboardInterrupt'>\n",
      "\n",
      "********************\n",
      "\n",
      "++++++++++++++++++++++++++++\n",
      "\n",
      "********************\n",
      "\n",
      "<class 'SystemExit'>\n",
      "\n",
      "********************\n",
      "\n",
      "++++++++++++++++++++++++++++\n",
      "\n",
      "********************\n",
      "\n",
      "<class 'asyncio.exceptions.CancelledError'>\n",
      "\n",
      "********************\n",
      "\n",
      "++++++++++++++++++++++++++++\n",
      "\n",
      "********************\n",
      "\n",
      "<class 'pkg_resources._vendor.more_itertools.more.AbortThread'>\n",
      "\n",
      "********************\n",
      "\n",
      "++++++++++++++++++++++++++++\n"
     ]
    }
   ],
   "source": [
    "for i in BaseException.__subclasses__():\n",
    "    renglon(20)\n",
    "    print(i)\n",
    "    renglon(20)\n",
    "    for j in i.__subclasses__():\n",
    "        print(j)\n",
    "    print('++++++++++++++++++++++++++++')"
   ]
  },
  {
   "cell_type": "code",
   "execution_count": 231,
   "metadata": {},
   "outputs": [
    {
     "name": "stdout",
     "output_type": "stream",
     "text": [
      "BaseException\n",
      "   +---BaseExceptionGroup\n",
      "   |   +---ExceptionGroup\n",
      "   +---Exception\n",
      "   |   +---ArithmeticError\n",
      "   |   |   +---FloatingPointError\n",
      "   |   |   +---OverflowError\n",
      "   |   |   +---ZeroDivisionError\n",
      "   |   |   |   +---DivisionByZero\n",
      "   |   |   |   +---DivisionUndefined\n",
      "   |   |   +---DecimalException\n",
      "   |   |   |   +---Clamped\n",
      "   |   |   |   +---Rounded\n",
      "   |   |   |   |   +---Underflow\n",
      "   |   |   |   |   +---Overflow\n",
      "   |   |   |   +---Inexact\n",
      "   |   |   |   |   +---Underflow\n",
      "   |   |   |   |   +---Overflow\n",
      "   |   |   |   +---Subnormal\n",
      "   |   |   |   |   +---Underflow\n",
      "   |   |   |   +---DivisionByZero\n",
      "   |   |   |   +---FloatOperation\n",
      "   |   |   |   +---InvalidOperation\n",
      "   |   |   |   |   +---ConversionSyntax\n",
      "   |   |   |   |   +---DivisionImpossible\n",
      "   |   |   |   |   +---DivisionUndefined\n",
      "   |   |   |   |   +---InvalidContext\n",
      "   |   +---AssertionError\n",
      "   |   +---AttributeError\n",
      "   |   |   +---FrozenInstanceError\n",
      "   |   +---BufferError\n",
      "   |   +---EOFError\n",
      "   |   |   +---IncompleteReadError\n",
      "   |   +---ImportError\n",
      "   |   |   +---ModuleNotFoundError\n",
      "   |   |   |   +---PackageNotFoundError\n",
      "   |   |   +---ZipImportError\n",
      "   |   +---LookupError\n",
      "   |   |   +---IndexError\n",
      "   |   |   +---KeyError\n",
      "   |   |   |   +---NoSuchKernel\n",
      "   |   |   |   +---UnknownBackend\n",
      "   |   |   +---CodecRegistryError\n",
      "   |   +---MemoryError\n",
      "   |   +---NameError\n",
      "   |   |   +---UnboundLocalError\n",
      "   |   +---OSError\n",
      "   |   |   +---BlockingIOError\n",
      "   |   |   +---ChildProcessError\n",
      "   |   |   +---ConnectionError\n",
      "   |   |   |   +---BrokenPipeError\n",
      "   |   |   |   +---ConnectionAbortedError\n",
      "   |   |   |   +---ConnectionRefusedError\n",
      "   |   |   |   +---ConnectionResetError\n",
      "   |   |   |   |   +---RemoteDisconnected\n",
      "   |   |   +---FileExistsError\n",
      "   |   |   +---FileNotFoundError\n",
      "   |   |   +---InterruptedError\n",
      "   |   |   |   +---InterruptedSystemCall\n",
      "   |   |   +---IsADirectoryError\n",
      "   |   |   +---NotADirectoryError\n",
      "   |   |   +---PermissionError\n",
      "   |   |   +---ProcessLookupError\n",
      "   |   |   +---TimeoutError\n",
      "   |   |   +---UnsupportedOperation\n",
      "   |   |   +---herror\n",
      "   |   |   +---gaierror\n",
      "   |   |   +---SSLError\n",
      "   |   |   |   +---SSLCertVerificationError\n",
      "   |   |   |   +---SSLZeroReturnError\n",
      "   |   |   |   +---SSLWantWriteError\n",
      "   |   |   |   +---SSLWantReadError\n",
      "   |   |   |   +---SSLSyscallError\n",
      "   |   |   |   +---SSLEOFError\n",
      "   |   |   +---Error\n",
      "   |   |   |   +---SameFileError\n",
      "   |   |   +---SpecialFileError\n",
      "   |   |   +---ExecError\n",
      "   |   |   +---ReadError\n",
      "   |   |   +---URLError\n",
      "   |   |   |   +---HTTPError\n",
      "   |   |   |   +---ContentTooShortError\n",
      "   |   |   +---BadGzipFile\n",
      "   |   +---ReferenceError\n",
      "   |   +---RuntimeError\n",
      "   |   |   +---NotImplementedError\n",
      "   |   |   |   +---ZMQVersionError\n",
      "   |   |   |   +---StdinNotImplementedError\n",
      "   |   |   +---RecursionError\n",
      "   |   |   +---_DeadlockError\n",
      "   |   |   +---BrokenBarrierError\n",
      "   |   |   +---BrokenExecutor\n",
      "   |   |   |   +---BrokenThreadPool\n",
      "   |   |   +---SendfileNotAvailableError\n",
      "   |   |   +---BrokenBarrierError\n",
      "   |   |   +---ExtractionError\n",
      "   |   |   +---VariableError\n",
      "   |   +---StopAsyncIteration\n",
      "   |   +---StopIteration\n",
      "   |   +---SyntaxError\n",
      "   |   |   +---IndentationError\n",
      "   |   |   |   +---TabError\n",
      "   |   +---SystemError\n",
      "   |   |   +---CodecRegistryError\n",
      "   |   +---TypeError\n",
      "   |   |   +---FloatOperation\n",
      "   |   |   +---MultipartConversionError\n",
      "   |   +---ValueError\n",
      "   |   |   +---UnicodeError\n",
      "   |   |   |   +---UnicodeDecodeError\n",
      "   |   |   |   +---UnicodeEncodeError\n",
      "   |   |   |   +---UnicodeTranslateError\n",
      "   |   |   +---UnsupportedOperation\n",
      "   |   |   +---JSONDecodeError\n",
      "   |   |   +---SSLCertVerificationError\n",
      "   |   |   +---Error\n",
      "   |   |   +---AddressValueError\n",
      "   |   |   +---NetmaskValueError\n",
      "   |   |   +---UnsupportedDigestmodError\n",
      "   |   |   +---IllegalMonthError\n",
      "   |   |   +---IllegalWeekdayError\n",
      "   |   |   +---ParserError\n",
      "   |   |   +---MessageDefect\n",
      "   |   |   |   +---NoBoundaryInMultipartDefect\n",
      "   |   |   |   +---StartBoundaryNotFoundDefect\n",
      "   |   |   |   +---CloseBoundaryNotFoundDefect\n",
      "   |   |   |   +---FirstHeaderLineIsContinuationDefect\n",
      "   |   |   |   +---MisplacedEnvelopeHeaderDefect\n",
      "   |   |   |   +---MissingHeaderBodySeparatorDefect\n",
      "   |   |   |   +---MultipartInvariantViolationDefect\n",
      "   |   |   |   +---InvalidMultipartContentTransferEncodingDefect\n",
      "   |   |   |   +---UndecodableBytesDefect\n",
      "   |   |   |   +---InvalidBase64PaddingDefect\n",
      "   |   |   |   +---InvalidBase64CharactersDefect\n",
      "   |   |   |   +---InvalidBase64LengthDefect\n",
      "   |   |   |   +---HeaderDefect\n",
      "   |   |   |   |   +---InvalidHeaderDefect\n",
      "   |   |   |   |   +---HeaderMissingRequiredValue\n",
      "   |   |   |   |   +---NonPrintableDefect\n",
      "   |   |   |   |   +---ObsoleteHeaderDefect\n",
      "   |   |   |   |   +---NonASCIILocalPartDefect\n",
      "   |   |   |   |   +---InvalidDateDefect\n",
      "   |   |   +---ClassNotFound\n",
      "   |   |   +---ClipboardEmpty\n",
      "   |   |   +---MacroToEdit\n",
      "   |   |   +---InvalidFileException\n",
      "   |   |   +---UnequalIterablesError\n",
      "   |   |   +---InvalidVersion\n",
      "   |   |   +---_InvalidELFFileHeader\n",
      "   |   |   +---InvalidWheelFilename\n",
      "   |   |   +---InvalidSdistFilename\n",
      "   |   |   +---InvalidSpecifier\n",
      "   |   |   +---InvalidMarker\n",
      "   |   |   +---UndefinedComparison\n",
      "   |   |   +---UndefinedEnvironmentName\n",
      "   |   |   +---InvalidRequirement\n",
      "   |   |   |   +---RequirementParseError\n",
      "   |   |   +---InvalidVersion\n",
      "   |   +---Warning\n",
      "   |   |   +---BytesWarning\n",
      "   |   |   +---DeprecationWarning\n",
      "   |   |   |   +---ProvisionalWarning\n",
      "   |   |   +---EncodingWarning\n",
      "   |   |   +---FutureWarning\n",
      "   |   |   |   +---ProvisionalCompleterWarning\n",
      "   |   |   +---ImportWarning\n",
      "   |   |   +---PendingDeprecationWarning\n",
      "   |   |   +---ResourceWarning\n",
      "   |   |   +---RuntimeWarning\n",
      "   |   |   |   +---ProactorSelectorThreadWarning\n",
      "   |   |   |   +---UnknownTimezoneWarning\n",
      "   |   |   |   +---PEP440Warning\n",
      "   |   |   +---SyntaxWarning\n",
      "   |   |   +---UnicodeWarning\n",
      "   |   |   +---UserWarning\n",
      "   |   |   |   +---GetPassWarning\n",
      "   |   |   |   +---FormatterWarning\n",
      "   |   |   +---DeprecatedTzFormatWarning\n",
      "   |   |   +---PkgResourcesDeprecationWarning\n",
      "   |   +---ExceptionGroup\n",
      "   |   +---_OptionError\n",
      "   |   +---_Error\n",
      "   |   +---error\n",
      "   |   +---Error\n",
      "   |   +---SubprocessError\n",
      "   |   |   +---CalledProcessError\n",
      "   |   |   +---TimeoutExpired\n",
      "   |   +---ZMQBaseError\n",
      "   |   |   +---ZMQError\n",
      "   |   |   |   +---ContextTerminated\n",
      "   |   |   |   +---Again\n",
      "   |   |   |   +---InterruptedSystemCall\n",
      "   |   |   +---ZMQBindError\n",
      "   |   |   +---NotDone\n",
      "   |   +---Error\n",
      "   |   +---error\n",
      "   |   +---PickleError\n",
      "   |   |   +---PicklingError\n",
      "   |   |   +---UnpicklingError\n",
      "   |   +---_Stop\n",
      "   |   +---TokenError\n",
      "   |   +---StopTokenizing\n",
      "   |   +---Error\n",
      "   |   |   +---CancelledError\n",
      "   |   |   +---InvalidStateError\n",
      "   |   +---_GiveupOnSendfile\n",
      "   |   +---Incomplete\n",
      "   |   +---ClassFoundException\n",
      "   |   +---EndOfBlock\n",
      "   |   +---InvalidStateError\n",
      "   |   +---LimitOverrunError\n",
      "   |   +---QueueEmpty\n",
      "   |   +---QueueFull\n",
      "   |   +---error\n",
      "   |   +---LZMAError\n",
      "   |   +---RegistryError\n",
      "   |   +---_GiveupOnFastCopy\n",
      "   |   +---TraitError\n",
      "   |   +---Empty\n",
      "   |   +---Full\n",
      "   |   +---ArgumentError\n",
      "   |   +---COMError\n",
      "   |   +---ReturnValueIgnoredError\n",
      "   |   +---ArgumentError\n",
      "   |   +---ArgumentTypeError\n",
      "   |   +---ConfigError\n",
      "   |   |   +---ConfigLoaderError\n",
      "   |   |   |   +---ArgumentError\n",
      "   |   |   +---ConfigFileNotFound\n",
      "   |   +---ConfigurableError\n",
      "   |   |   +---MultipleInstanceError\n",
      "   |   +---ApplicationError\n",
      "   |   +---InvalidPortNumber\n",
      "   |   +---NoIPAddresses\n",
      "   |   +---Error\n",
      "   |   +---BadZipFile\n",
      "   |   +---LargeZipFile\n",
      "   |   +---MessageError\n",
      "   |   |   +---MessageParseError\n",
      "   |   |   |   +---HeaderParseError\n",
      "   |   |   |   +---BoundaryError\n",
      "   |   |   +---MultipartConversionError\n",
      "   |   |   +---CharsetError\n",
      "   |   +---DuplicateKernelError\n",
      "   |   +---ErrorDuringImport\n",
      "   |   +---NotOneValueFound\n",
      "   |   +---KnownIssue\n",
      "   |   +---VerifierFailure\n",
      "   |   +---CannotEval\n",
      "   |   +---OptionError\n",
      "   |   +---BdbQuit\n",
      "   |   +---Restart\n",
      "   |   +---FindCmdError\n",
      "   |   +---HomeDirError\n",
      "   |   +---ProfileDirError\n",
      "   |   +---IPythonCoreError\n",
      "   |   |   +---TryNext\n",
      "   |   |   +---UsageError\n",
      "   |   |   +---StdinNotImplementedError\n",
      "   |   +---InputRejected\n",
      "   |   +---GetoptError\n",
      "   |   +---ErrorToken\n",
      "   |   +---PrefilterError\n",
      "   |   +---AliasError\n",
      "   |   |   +---InvalidAliasError\n",
      "   |   +---Error\n",
      "   |   |   +---InterfaceError\n",
      "   |   |   +---DatabaseError\n",
      "   |   |   |   +---InternalError\n",
      "   |   |   |   +---OperationalError\n",
      "   |   |   |   +---ProgrammingError\n",
      "   |   |   |   +---IntegrityError\n",
      "   |   |   |   +---DataError\n",
      "   |   |   |   +---NotSupportedError\n",
      "   |   +---Warning\n",
      "   |   +---SpaceInInput\n",
      "   |   +---DOMException\n",
      "   |   |   +---IndexSizeErr\n",
      "   |   |   +---DomstringSizeErr\n",
      "   |   |   +---HierarchyRequestErr\n",
      "   |   |   +---WrongDocumentErr\n",
      "   |   |   +---InvalidCharacterErr\n",
      "   |   |   +---NoDataAllowedErr\n",
      "   |   |   +---NoModificationAllowedErr\n",
      "   |   |   +---NotFoundErr\n",
      "   |   |   +---NotSupportedErr\n",
      "   |   |   +---InuseAttributeErr\n",
      "   |   |   +---InvalidStateErr\n",
      "   |   |   +---SyntaxErr\n",
      "   |   |   +---InvalidModificationErr\n",
      "   |   |   +---NamespaceErr\n",
      "   |   |   +---InvalidAccessErr\n",
      "   |   |   +---ValidationErr\n",
      "   |   +---ValidationError\n",
      "   |   +---EditReadOnlyBuffer\n",
      "   |   +---_Retry\n",
      "   |   +---InvalidLayoutError\n",
      "   |   +---HeightIsUnknownError\n",
      "   |   +---GuardRejection\n",
      "   |   +---ParserSyntaxError\n",
      "   |   +---InternalParseError\n",
      "   |   +---_PositionUpdatingFinished\n",
      "   |   +---SimpleGetItemNotFound\n",
      "   |   +---UncaughtAttributeError\n",
      "   |   +---HasNoContext\n",
      "   |   +---ParamIssue\n",
      "   |   +---_JediError\n",
      "   |   |   +---InternalError\n",
      "   |   |   +---WrongVersion\n",
      "   |   |   +---RefactoringError\n",
      "   |   +---OnErrorLeaf\n",
      "   |   +---InvalidPythonEnvironment\n",
      "   |   +---HTTPException\n",
      "   |   |   +---NotConnected\n",
      "   |   |   +---InvalidURL\n",
      "   |   |   +---UnknownProtocol\n",
      "   |   |   +---UnknownTransferEncoding\n",
      "   |   |   +---UnimplementedFileMode\n",
      "   |   |   +---IncompleteRead\n",
      "   |   |   +---ImproperConnectionState\n",
      "   |   |   |   +---CannotSendRequest\n",
      "   |   |   |   +---CannotSendHeader\n",
      "   |   |   |   +---ResponseNotReady\n",
      "   |   |   +---BadStatusLine\n",
      "   |   |   |   +---RemoteDisconnected\n",
      "   |   |   +---LineTooLong\n",
      "   |   +---InteractivelyDefined\n",
      "   |   +---KillEmbedded\n",
      "   |   +---Error\n",
      "   |   |   +---NoSuchProcess\n",
      "   |   |   |   +---ZombieProcess\n",
      "   |   |   +---AccessDenied\n",
      "   |   |   +---TimeoutExpired\n",
      "   |   +---Error\n",
      "   |   +---TimeoutExpired\n",
      "   |   +---TimeoutAbandoned\n",
      "   |   +---KeyReuseError\n",
      "   |   +---UnknownKeyError\n",
      "   |   +---LeakedCallbackError\n",
      "   |   +---BadYieldError\n",
      "   |   +---ReturnValueIgnoredError\n",
      "   |   +---Return\n",
      "   |   +---QueueEmpty\n",
      "   |   +---QueueFull\n",
      "   |   +---DebuggerInitializationError\n",
      "   |   +---ExpatError\n",
      "   |   +---Error\n",
      "   |   |   +---ProtocolError\n",
      "   |   |   +---ResponseError\n",
      "   |   |   +---Fault\n",
      "   |   +---error\n",
      "   |   +---com_error\n",
      "   |   +---internal_error\n",
      "   |   +---ParseBaseException\n",
      "   |   |   +---ParseException\n",
      "   |   |   +---ParseFatalException\n",
      "   |   |   |   +---ParseSyntaxException\n",
      "   |   +---RecursiveGrammarException\n",
      "   |   +---ResolutionError\n",
      "   |   |   +---VersionConflict\n",
      "   |   |   |   +---ContextualVersionConflict\n",
      "   |   |   +---DistributionNotFound\n",
      "   |   |   +---UnknownExtra\n",
      "   |   +---_Error\n",
      "   |   +---UnableToResolveVariableException\n",
      "   |   +---InvalidTypeInArgsException\n",
      "   +---GeneratorExit\n",
      "   +---KeyboardInterrupt\n",
      "   +---SystemExit\n",
      "   +---CancelledError\n",
      "   +---AbortThread\n"
     ]
    }
   ],
   "source": [
    "#codigo dado por curso\n",
    "def print_exception_tree(thisclass, nest = 0):\n",
    "    if nest > 1:\n",
    "        print(\"   |\" * (nest - 1), end=\"\")\n",
    "    if nest > 0:\n",
    "        print(\"   +---\", end=\"\")\n",
    "\n",
    "    print(thisclass.__name__)\n",
    "\n",
    "    for subclass in thisclass.__subclasses__():\n",
    "        print_exception_tree(subclass, nest + 1)\n",
    "\n",
    "\n",
    "print_exception_tree(BaseException)\n"
   ]
  },
  {
   "cell_type": "code",
   "execution_count": 244,
   "metadata": {},
   "outputs": [
    {
     "name": "stdout",
     "output_type": "stream",
     "text": [
      " :  : \n",
      "mi excepción : mi excepción : mi excepción\n",
      "('mi', 'excepción') : ('mi', 'excepción') : ('mi', 'excepción')\n"
     ]
    }
   ],
   "source": [
    "#Codigo dado por curso\n",
    "def print_args(args):\n",
    "    lng = len(args)\n",
    "    if lng == 0:\n",
    "        print(\"\")\n",
    "    elif lng == 1:\n",
    "        print(args[0])\n",
    "    else:\n",
    "        print(str(args))\n",
    "\n",
    "\n",
    "try:\n",
    "    raise Exception\n",
    "except Exception as e:\n",
    "    print(e, e.__str__(), sep=' : ' ,end=' : ')\n",
    "    print_args(e.args)\n",
    "\n",
    "try:\n",
    "    raise Exception(\"mi excepción\")\n",
    "except Exception as e:\n",
    "    print(e, e.__str__(), sep=' : ', end=' : ')\n",
    "    print_args(e.args)\n",
    "\n",
    "try:\n",
    "    raise Exception(\"mi\", \"excepción\")\n",
    "except Exception as e:\n",
    "    print(e, e.__str__(), sep=' : ', end=' : ')\n",
    "    print_args(e.args)\n"
   ]
  },
  {
   "cell_type": "code",
   "execution_count": 245,
   "metadata": {},
   "outputs": [
    {
     "name": "stdout",
     "output_type": "stream",
     "text": [
      "División entre cero\n",
      "División entre cero\n",
      "División entre cero original\n",
      "Mi división entre cero\n"
     ]
    }
   ],
   "source": [
    "# definir tus propias excepciones como subclases derivadas de las predefinidas.\n",
    "class MyZeroDivisionError(ZeroDivisionError):\t\n",
    "    pass\n",
    "\n",
    "\n",
    "def do_the_division(mine):\n",
    "    if mine:\n",
    "        raise MyZeroDivisionError(\"peores noticias\")\n",
    "    else:\t\t\n",
    "        raise ZeroDivisionError(\"malas noticias\")\n",
    "\n",
    "\n",
    "for mode in [False, True]:\n",
    "    try:\n",
    "        do_the_division(mode)\n",
    "    except ZeroDivisionError:\n",
    "        print('División entre cero')\n",
    "\n",
    "for mode in [False, True]:\n",
    "    try:\n",
    "        do_the_division(mode)\n",
    "    except MyZeroDivisionError:\n",
    "        print('Mi división entre cero')\n",
    "    except ZeroDivisionError:\n",
    "        print('División entre cero original')\n"
   ]
  },
  {
   "cell_type": "code",
   "execution_count": 246,
   "metadata": {},
   "outputs": [
    {
     "name": "stdout",
     "output_type": "stream",
     "text": [
      "¡Pizza lista!\n",
      "demasiado queso : 110\n",
      "no hay tal pizza en el menú : mafia\n"
     ]
    }
   ],
   "source": [
    "# Ejemplo curso de excepciones personalizadas\n",
    "class PizzaError(Exception):\n",
    "    def __init__(self, pizza, message):\n",
    "        Exception.__init__(self, message)\n",
    "        self.pizza = pizza\n",
    "\n",
    "\n",
    "class TooMuchCheeseError(PizzaError):\n",
    "    def __init__(self, pizza, cheese, message):\n",
    "        PizzaError.__init__(self, pizza, message)\n",
    "        self.cheese = cheese\n",
    "\n",
    "\n",
    "def make_pizza(pizza, cheese):\n",
    "    if pizza not in ['margherita', 'capricciosa', 'calzone']:\n",
    "        raise PizzaError(pizza, \"no hay tal pizza en el menú\")\n",
    "    if cheese > 100:\n",
    "        raise TooMuchCheeseError(pizza, cheese, \"demasiado queso\")\n",
    "    print(\"¡Pizza lista!\")\n",
    "\n",
    "for (pz, ch) in [('calzone', 0), ('margherita', 110), ('mafia', 20)]:\n",
    "    try:\n",
    "        make_pizza(pz, ch)\n",
    "    except TooMuchCheeseError as tmce:\n",
    "        print(tmce, ':', tmce.cheese)\n",
    "    except PizzaError as pe:\n",
    "        print(pe, ':', pe.pizza)\n"
   ]
  },
  {
   "cell_type": "code",
   "execution_count": 252,
   "metadata": {},
   "outputs": [
    {
     "name": "stdout",
     "output_type": "stream",
     "text": [
      "__init__\n",
      "__iter__\n",
      "__next__\n",
      "1\n",
      "__next__\n",
      "1\n",
      "__next__\n",
      "2\n",
      "__next__\n",
      "3\n",
      "__next__\n",
      "5\n",
      "__next__\n",
      "8\n",
      "__next__\n",
      "13\n",
      "__next__\n",
      "21\n",
      "__next__\n",
      "34\n",
      "__next__\n",
      "55\n",
      "__next__\n"
     ]
    }
   ],
   "source": [
    "# Generador\n",
    "class Fib:\n",
    "    def __init__(self, nn):\n",
    "        print('__init__')\n",
    "        self.__n = nn\n",
    "        self.__i = 0\n",
    "        self.__p1 = self.__p2 = 1\n",
    "\n",
    "    def __iter__(self):\n",
    "        print('__iter__')\n",
    "        return self\n",
    "\n",
    "    def __next__(self):\n",
    "      print(\"__next__\")\t\t\n",
    "      self.__i += 1\n",
    "      if self.__i > self.__n:\n",
    "          raise StopIteration\n",
    "      if self.__i in [1, 2]:\n",
    "          return 1\n",
    "      ret = self.__p1 + self.__p2\n",
    "      self.__p1, self.__p2 = self.__p2, ret\n",
    "      return ret\n",
    "\n",
    "    \n",
    "\n",
    "for i in Fib(10):\n",
    "    print(i)\n",
    "\n",
    "    "
   ]
  },
  {
   "cell_type": "code",
   "execution_count": 294,
   "metadata": {},
   "outputs": [
    {
     "name": "stdout",
     "output_type": "stream",
     "text": [
      "Fib iter\n",
      "1\n",
      "1\n",
      "2\n",
      "3\n",
      "5\n",
      "8\n",
      "13\n",
      "21\n",
      "34\n",
      "55\n",
      "\n",
      "********************\n",
      "\n",
      "Class iter\n",
      "1\n",
      "1\n",
      "2\n",
      "3\n",
      "5\n",
      "8\n",
      "13\n",
      "21\n"
     ]
    }
   ],
   "source": [
    "class Fib:\n",
    "    def __init__(self, nn):\n",
    "        self.__n = nn\n",
    "        self.__i = 0\n",
    "        self.__p1 = self.__p2 = 1\n",
    "\n",
    "    def __iter__(self):\n",
    "        print('Fib iter')\n",
    "        return self\n",
    "\n",
    "    def __next__(self):\n",
    "        self.__i += 1\n",
    "        if self.__i > self.__n:\n",
    "            raise StopIteration\n",
    "        if self.__i in [1,2]:\n",
    "            return 1\n",
    "        ret = self.__p1 + self.__p2\n",
    "        self.__p1, self.__p2 = self.__p2, ret\n",
    "        return ret\n",
    "\n",
    "for i in Fib(10):\n",
    "    print(i)\n",
    "    \n",
    "renglon(20)\n",
    "\n",
    "class Class:\n",
    "    def __init__(self,n):\n",
    "        self.iter = Fib(n)\n",
    "    \n",
    "    def __iter__(self):\n",
    "        print('Class iter')\n",
    "        return self.iter\n",
    "    \n",
    "object = Class(8)\n",
    "\n",
    "for i in object:\n",
    "    print(i)"
   ]
  },
  {
   "cell_type": "code",
   "execution_count": 296,
   "metadata": {},
   "outputs": [
    {
     "name": "stdout",
     "output_type": "stream",
     "text": [
      "0\n",
      "1\n",
      "2\n",
      "3\n",
      "4\n"
     ]
    }
   ],
   "source": [
    "# Generadores - expresion yield\n",
    "\n",
    "def fun(n):\n",
    "    for i in range(n):\n",
    "        yield i\n",
    "\n",
    "for v in fun(5):\n",
    "    print(v)"
   ]
  },
  {
   "cell_type": "code",
   "execution_count": 297,
   "metadata": {},
   "outputs": [
    {
     "name": "stdout",
     "output_type": "stream",
     "text": [
      "1\n",
      "2\n",
      "4\n",
      "8\n",
      "16\n",
      "32\n",
      "64\n",
      "128\n"
     ]
    }
   ],
   "source": [
    "# Ejemplo generador con yield\n",
    "def powers_of_2(n):\n",
    "    power = 1\n",
    "    for i in range(n):\n",
    "        yield power\n",
    "        power *=2\n",
    "\n",
    "for v in powers_of_2(8):\n",
    "    print(v)"
   ]
  },
  {
   "cell_type": "code",
   "execution_count": 298,
   "metadata": {},
   "outputs": [
    {
     "name": "stdout",
     "output_type": "stream",
     "text": [
      "[1, 2, 4, 8, 16]\n"
     ]
    }
   ],
   "source": [
    "# Lista por comprencion\n",
    "def powers_of_2(n):\n",
    "    power = 1\n",
    "    for i in range(n):\n",
    "        yield power\n",
    "        power *= 2\n",
    "\n",
    "t = [x for x in powers_of_2(5)]\n",
    "print(t)"
   ]
  },
  {
   "cell_type": "code",
   "execution_count": 301,
   "metadata": {},
   "outputs": [
    {
     "name": "stdout",
     "output_type": "stream",
     "text": [
      "[1, 2, 4, 8]\n"
     ]
    }
   ],
   "source": [
    "# lista\n",
    "\n",
    "def powers_of_2(n):\n",
    "    power = 1\n",
    "    for i in range(n):\n",
    "        yield power\n",
    "        power *= 2\n",
    "\n",
    "t = list(powers_of_2(4))\n",
    "print(t)"
   ]
  },
  {
   "cell_type": "code",
   "execution_count": 300,
   "metadata": {},
   "outputs": [
    {
     "name": "stdout",
     "output_type": "stream",
     "text": [
      "1\n",
      "2\n",
      "4\n",
      "8\n"
     ]
    }
   ],
   "source": [
    "# in en generador\n",
    "def powers_of_2(n):\n",
    "    power = 1\n",
    "    for i in range(n):\n",
    "        yield power\n",
    "        power *= 2\n",
    "\n",
    "for i in range(20):\n",
    "    if i in powers_of_2(4):\n",
    "        print(i)"
   ]
  },
  {
   "cell_type": "code",
   "execution_count": 302,
   "metadata": {},
   "outputs": [
    {
     "name": "stdout",
     "output_type": "stream",
     "text": [
      "[1, 1, 2, 3, 5, 8, 13, 21, 34, 55]\n"
     ]
    }
   ],
   "source": [
    "# fibonacci con sentencia yield\n",
    "def fibonacci(n):\n",
    "    p = pp = 1\n",
    "    for i in range(n):\n",
    "        if i in [0,1]:\n",
    "            yield 1\n",
    "        else:\n",
    "            n = p + pp\n",
    "            pp, p = p, n\n",
    "            yield n\n",
    "\n",
    "fibs = list(fibonacci(10))\n",
    "print(fibs)"
   ]
  },
  {
   "cell_type": "code",
   "execution_count": 304,
   "metadata": {},
   "outputs": [
    {
     "name": "stdout",
     "output_type": "stream",
     "text": [
      "[1, 10, 100, 1000, 10000, 100000]\n",
      "[1, 10, 100, 1000, 10000, 100000]\n"
     ]
    }
   ],
   "source": [
    "# Listas por comprencion mas simple de crear sus listas y copntenidos\n",
    "list_1 = []\n",
    "\n",
    "for ex in range(6):\n",
    "    list_1.append(10 ** ex)\n",
    "\n",
    "list_2 = [10 ** ex for ex in range(6)]\n",
    "\n",
    "print(list_1)\n",
    "print(list_2)"
   ]
  },
  {
   "cell_type": "code",
   "execution_count": 305,
   "metadata": {},
   "outputs": [
    {
     "name": "stdout",
     "output_type": "stream",
     "text": [
      "[1, 0, 1, 0, 1, 0, 1, 0, 1, 0]\n"
     ]
    }
   ],
   "source": [
    "# Expresion condicional booleana\n",
    "the_list = []\n",
    "\n",
    "for x in range(10):\n",
    "    the_list.append(1 if x % 2 == 0 else 0)\n",
    "\n",
    "print(the_list)"
   ]
  },
  {
   "cell_type": "code",
   "execution_count": 308,
   "metadata": {},
   "outputs": [
    {
     "name": "stdout",
     "output_type": "stream",
     "text": [
      "1 0 1 0 1 0 1 0 1 0 \n",
      "1 0 1 0 1 0 1 0 1 0 \n"
     ]
    }
   ],
   "source": [
    "# Listas de comprension vs generadores\n",
    "the_list = [1 if x % 2 == 0 else 0 for x in range(10)]\n",
    "the_generator = (1 if x % 2 == 0 else 0 for x in range(10)) #Generador con parentesis\n",
    "\n",
    "for v in the_list:\n",
    "    print(v, end = ' ')\n",
    "print()\n",
    "\n",
    "for v in the_generator:\n",
    "    print(v, end = ' ')\n",
    "print()"
   ]
  },
  {
   "cell_type": "code",
   "execution_count": 311,
   "metadata": {},
   "outputs": [
    {
     "name": "stdout",
     "output_type": "stream",
     "text": [
      "10\n"
     ]
    },
    {
     "data": {
      "text/plain": [
       "\"print(len(the_generator))\\nTypeError: object of type 'generator' has no len()\""
      ]
     },
     "execution_count": 311,
     "metadata": {},
     "output_type": "execute_result"
    }
   ],
   "source": [
    "# Validacion si es generador con len\n",
    "\n",
    "print(len(the_list))\n",
    "\n",
    "'''print(len(the_generator))\n",
    "TypeError: object of type 'generator' has no len()'''"
   ]
  },
  {
   "cell_type": "code",
   "execution_count": 312,
   "metadata": {},
   "outputs": [
    {
     "name": "stdout",
     "output_type": "stream",
     "text": [
      "1 0 1 0 1 0 1 0 1 0 \n",
      "1 0 1 0 1 0 1 0 1 0 \n"
     ]
    }
   ],
   "source": [
    "# itinerar sin guardar lista o generador\n",
    "\n",
    "for v in [1 if x % 2 == 0 else 0 for x in range(10)]:\n",
    "    print(v, end = ' ')\n",
    "\n",
    "print()\n",
    "for v in (1 if x % 2 == 0 else 0 for x in range(10)):\n",
    "    print(v, end = ' ')\n",
    "\n",
    "print()"
   ]
  },
  {
   "cell_type": "code",
   "execution_count": 313,
   "metadata": {},
   "outputs": [
    {
     "name": "stdout",
     "output_type": "stream",
     "text": [
      "4 4\n",
      "1 1\n",
      "0 0\n",
      "1 1\n",
      "4 4\n"
     ]
    }
   ],
   "source": [
    "# Funciones lambda\n",
    "two = lambda: 2\n",
    "sqr = lambda x : x*x\n",
    "pwr = lambda x,y : x**y \n",
    "\n",
    "for a in range(-2, 3):\n",
    "    print(sqr(a), end = ' ')\n",
    "    print(pwr(a, two()))"
   ]
  },
  {
   "cell_type": "code",
   "execution_count": 317,
   "metadata": {},
   "outputs": [
    {
     "name": "stdout",
     "output_type": "stream",
     "text": [
      "f(-2)=18\n",
      "f(-1)=8\n",
      "f(0)=2\n",
      "f(1)=0\n",
      "f(2)=2\n"
     ]
    }
   ],
   "source": [
    "def print_function(args, fun):\n",
    "    for x in args:\n",
    "        print('f(', x , ')=', fun(x), sep='')\n",
    "\n",
    "def poly(x):\n",
    "    return 2 * x**2 - 4 * x + 2\n",
    "\n",
    "print_function([x for x in range(-2,3)] , poly)\n"
   ]
  },
  {
   "cell_type": "code",
   "execution_count": 320,
   "metadata": {},
   "outputs": [
    {
     "name": "stdout",
     "output_type": "stream",
     "text": [
      "[1, 2, 4, 8, 16]\n",
      "1 4 16 64 256 \n"
     ]
    }
   ],
   "source": [
    "# map(function, list), aplicar la funcion a entidad itinerable\n",
    "list_1 = [x for x in range(5)]\n",
    "list_2 = list(map(lambda x:2**x, list_1))\n",
    "print(list_2)\n",
    "\n",
    "for x in map(lambda x:x*x, list_2):\n",
    "    print(x, end = ' ')\n",
    "print()\n"
   ]
  },
  {
   "cell_type": "code",
   "execution_count": 323,
   "metadata": {},
   "outputs": [
    {
     "name": "stdout",
     "output_type": "stream",
     "text": [
      "[-8, -1, 8, 5, 2, 6, 6, 2, 8, 3]\n",
      "[8, 2, 6, 6, 2, 8]\n"
     ]
    }
   ],
   "source": [
    "# filter() - generador que cumplen la condicion\n",
    "from random import seed, randint\n",
    "\n",
    "seed()\n",
    "data = [randint(-10,10) for x in range(10)]\n",
    "filtered = list(filter(lambda x : x > 0 and x % 2 == 0, data))\n",
    "\n",
    "print(data)\n",
    "print(filtered)"
   ]
  },
  {
   "cell_type": "code",
   "execution_count": 328,
   "metadata": {},
   "outputs": [
    {
     "name": "stdout",
     "output_type": "stream",
     "text": [
      "1\n"
     ]
    }
   ],
   "source": [
    "#Retornar variables internas de funcion/cierres es una técnica\n",
    "# que permite almacenar valores a pesar de que el contexto en el que se crearon ya no existe.\n",
    "def outer(par):\n",
    "    loc = par\n",
    "\n",
    "    def inner():\n",
    "        return loc\n",
    "    \n",
    "    return inner\n",
    "\n",
    "var = 1\n",
    "fun = outer(var)\n",
    "\n",
    "print(fun())\n"
   ]
  },
  {
   "cell_type": "code",
   "execution_count": 330,
   "metadata": {},
   "outputs": [
    {
     "name": "stdout",
     "output_type": "stream",
     "text": [
      "0 0 0\n",
      "1 1 1\n",
      "2 4 8\n",
      "3 9 27\n",
      "4 16 64\n"
     ]
    }
   ],
   "source": [
    "def make_closure(par):\n",
    "    loc = par\n",
    "    def power(p):\n",
    "        return p ** loc\n",
    "    return power\n",
    "\n",
    "fsqr = make_closure(2)\n",
    "fcub = make_closure(3)\n",
    "\n",
    "for i in range(5):\n",
    "    print(i, fsqr(i), fcub(i))\n"
   ]
  },
  {
   "cell_type": "code",
   "execution_count": 338,
   "metadata": {},
   "outputs": [
    {
     "data": {
      "text/plain": [
       "'c:\\\\Users\\\\Geovani\\\\Downloads'"
      ]
     },
     "execution_count": 338,
     "metadata": {},
     "output_type": "execute_result"
    }
   ],
   "source": [
    "import os\n",
    "os.getcwd()"
   ]
  },
  {
   "cell_type": "code",
   "execution_count": 355,
   "metadata": {},
   "outputs": [
    {
     "name": "stdout",
     "output_type": "stream",
     "text": [
      "H\n",
      "o\n",
      "l\n",
      "a\n"
     ]
    }
   ],
   "source": [
    "# Lectura de archivo\n",
    "\n",
    "stream = open('yishen.txt', 'rt', encoding='utf-8')\n",
    "\n",
    "#Imprimir contenido del archivo\n",
    "print(stream.read(1))\n",
    "print(stream.read(1))\n",
    "print(stream.read(1))\n",
    "print(stream.read(1))"
   ]
  },
  {
   "cell_type": "code",
   "execution_count": 357,
   "metadata": {},
   "outputs": [
    {
     "name": "stdout",
     "output_type": "stream",
     "text": [
      "Hola, buenos dias\n",
      "Que tal? como estas?\n",
      "Esta es una prueba de lectura de los archivos de texto\n",
      "XDXDXDXDXD\n",
      "\n",
      "Caracteres en el archivo: 104\n"
     ]
    }
   ],
   "source": [
    "# Lectura a travez de metodo read() caracter's\n",
    "from os import strerror\n",
    "\n",
    "try:\n",
    "    counter = 0\n",
    "    stream = open('yishen.txt', \"rt\")\n",
    "    char = stream.read(1)\n",
    "    while char != '':\n",
    "        print(char, end='')\n",
    "        counter += 1\n",
    "        char = stream.read(1)\n",
    "    stream.close()\n",
    "    print(\"\\n\\nCaracteres en el archivo:\", counter)\n",
    "except IOError as e:\n",
    "    print(\"Se produjo un error de E/S:\", strerror(e.errno))"
   ]
  },
  {
   "cell_type": "code",
   "execution_count": 359,
   "metadata": {},
   "outputs": [
    {
     "name": "stdout",
     "output_type": "stream",
     "text": [
      "Hola, buenos dias\n",
      "Que tal? como estas?\n",
      "Esta es una prueba de lectura de los archivos de texto\n",
      "XDXDXDXDXD\n",
      "\n",
      "Caracteres en el archivo: 104\n"
     ]
    }
   ],
   "source": [
    "# Lectura de archivos como un todo\n",
    "from os import strerror\n",
    "\n",
    "try:\n",
    "    counter = 0\n",
    "    stream = open('yishen.txt', \"rt\")\n",
    "    content = stream.read()\n",
    "    for char in content:\n",
    "        print(char, end='')\n",
    "        counter += 1\n",
    "    stream.close()\n",
    "    print(\"\\n\\nCaracteres en el archivo:\", counter)\n",
    "except IOError as e:\n",
    "    print(\"Se produjo un error de E/S:\", strerr(e.errno))"
   ]
  },
  {
   "cell_type": "code",
   "execution_count": 361,
   "metadata": {},
   "outputs": [
    {
     "name": "stdout",
     "output_type": "stream",
     "text": [
      "Hola, buenos dias\n",
      "Que tal? como estas?\n",
      "Esta es una prueba de lectura de los archivos de texto\n",
      "XDXDXDXDXD\n",
      "\n",
      "Caracteres en el archivo: 104\n",
      "Líneas en el archivo:      4\n"
     ]
    }
   ],
   "source": [
    "## Lectura de archivos por lineas\n",
    "from os import strerror\n",
    "\n",
    "try:\n",
    "    character_counter = line_counter = 0\n",
    "    stream = open('yishen.txt', 'rt')\n",
    "    line = stream.readline()\n",
    "    while line != '':\n",
    "        line_counter += 1\n",
    "        for char in line:\n",
    "            print(char, end='')\n",
    "            character_counter += 1\n",
    "        line = stream.readline()\n",
    "    stream.close()\n",
    "    print(\"\\n\\nCaracteres en el archivo:\", character_counter)\n",
    "    print(\"Líneas en el archivo:     \", line_counter)\n",
    "except IOError as e:\n",
    "    print(\"Se produjo un error de E/S:\", strerror(e.errno))"
   ]
  },
  {
   "cell_type": "code",
   "execution_count": 366,
   "metadata": {},
   "outputs": [
    {
     "name": "stdout",
     "output_type": "stream",
     "text": [
      "Hola, buenos dias\n",
      "\n",
      "Que tal? como estas?\n",
      "\n",
      "Esta es una prueba de lectura de los archivos de texto\n",
      "\n"
     ]
    }
   ],
   "source": [
    "stream = open('yishen.txt', 'rt', encoding='utf-8')\n",
    "print(stream.readline())\n",
    "print(stream.readline())\n",
    "print(stream.readline())"
   ]
  },
  {
   "cell_type": "code",
   "execution_count": 379,
   "metadata": {},
   "outputs": [
    {
     "name": "stdout",
     "output_type": "stream",
     "text": [
      "['Hola, buenos dias\\n', 'Que tal? como estas?\\n', 'Esta es una prueba de lectura de los archivos de texto\\n', 'XDXDXDXDXD']\n"
     ]
    }
   ],
   "source": [
    "#Readlines()\n",
    "stream = open('yishen.txt', 'rt', encoding='utf-8')\n",
    "print(stream.readlines())"
   ]
  },
  {
   "cell_type": "code",
   "execution_count": 381,
   "metadata": {},
   "outputs": [
    {
     "name": "stdout",
     "output_type": "stream",
     "text": [
      "['Hola, buenos dias\\n', 'Que tal? como estas?\\n']\n",
      "['Esta es una prueba de lectura de los archivos de texto\\n']\n",
      "['XDXDXDXDXD']\n",
      "[]\n"
     ]
    }
   ],
   "source": [
    "#Readlines()\n",
    "stream = open('yishen.txt', 'rt', encoding='utf-8')\n",
    "print(stream.readlines(20))\n",
    "print(stream.readlines(30))\n",
    "print(stream.readlines(20))\n",
    "print(stream.readlines(20))\n",
    "\n",
    "#El tamaño máximo del búfer de entrada aceptado se pasa al método como argumento.\n"
   ]
  },
  {
   "cell_type": "code",
   "execution_count": 382,
   "metadata": {},
   "outputs": [
    {
     "name": "stdout",
     "output_type": "stream",
     "text": [
      "Hola, buenos dias\n",
      "Que tal? como estas?\n",
      "Esta es una prueba de lectura de los archivos de texto\n",
      "XDXDXDXDXD\n",
      "\n",
      "Caracteres en el archivo: 104\n",
      "Líneas en el archivo:      4\n"
     ]
    }
   ],
   "source": [
    "from os import strerror\n",
    "\n",
    "try:\n",
    "    character_counter = line_counter = 0\n",
    "    stream = open('yishen.txt', 'rt')\n",
    "    lines = stream.readlines(20)\n",
    "    while len(lines) != 0:\n",
    "        for line in lines:\n",
    "            line_counter += 1\n",
    "            for char in line:\n",
    "                print(char, end='')\n",
    "                character_counter += 1\n",
    "        lines = stream.readlines(10)\n",
    "    stream.close()\n",
    "    print(\"\\n\\nCaracteres en el archivo:\", character_counter)\n",
    "    print(\"Líneas en el archivo:     \", line_counter)\n",
    "except IOError as e:\n",
    "    print(\"Se produjo un error de E/S:\", strerror(e.errno))\n"
   ]
  },
  {
   "cell_type": "code",
   "execution_count": 385,
   "metadata": {},
   "outputs": [
    {
     "name": "stdout",
     "output_type": "stream",
     "text": [
      "Hola, buenos dias\n",
      "Que tal? como estas?\n",
      "Esta es una prueba de lectura de los archivos de texto\n",
      "XDXDXDXDXD\n",
      "\n",
      "Caracteres en el archivo:  104\n",
      "Líneas en el archivo:      4\n"
     ]
    }
   ],
   "source": [
    "# Open() tambien es un objeto itinerable de lineas\n",
    "from os import strerror\n",
    "\n",
    "try:\n",
    "\tcharacter_counter = line_counter = 0\n",
    "\tfor line in open('yishen.txt', 'rt'):\n",
    "\t\tline_counter += 1\n",
    "\t\tfor char in line:\n",
    "\t\t\tprint(char, end='')\n",
    "\t\t\tcharacter_counter += 1\n",
    "\tprint(\"\\n\\nCaracteres en el archivo: \", character_counter)\n",
    "\tprint(\"Líneas en el archivo:     \", line_counter)\n",
    "except IOError as e:\n",
    "\tprint(\"Se produjo un error de E/S:\", strerror(e.errno))\n"
   ]
  },
  {
   "cell_type": "code",
   "execution_count": 390,
   "metadata": {},
   "outputs": [
    {
     "name": "stdout",
     "output_type": "stream",
     "text": [
      "línea #1\n",
      "línea #2\n",
      "línea #3\n",
      "línea #4\n",
      "línea #5\n",
      "línea #6\n",
      "línea #7\n",
      "línea #8\n",
      "línea #9\n",
      "línea #10\n",
      "\n"
     ]
    }
   ],
   "source": [
    "# Escritura\n",
    "from os import strerror\n",
    "\n",
    "try:\n",
    "\tfile = open('newtext.txt', 'wt') # Un nuevo archivo (newtext.txt) es creado.\n",
    "\tfor i in range(10):\n",
    "\t\ts = \"línea #\" + str(i+1) + \"\\n\"\n",
    "\t\tfor char in s:\n",
    "\t\t\tfile.write(char)\n",
    "\tfile.close()\n",
    "except IOError as e:\n",
    "\tprint(\"Se produjo un error de E/S:\", strerror(e.errno))\n",
    "\n",
    "print(open('newtext.txt', 'rt').read())"
   ]
  },
  {
   "cell_type": "code",
   "execution_count": 393,
   "metadata": {},
   "outputs": [
    {
     "name": "stdout",
     "output_type": "stream",
     "text": [
      "Linea 1 XD\n",
      "Linea 2 XD\n",
      "Linea 3 XD\n",
      "Linea 4 XD\n",
      "Linea 5 XD\n",
      "Linea 6 XD\n",
      "Linea 7 XD\n",
      "Linea 8 XD\n",
      "Linea 9 XD\n",
      "Linea 10 XD\n",
      "\n"
     ]
    }
   ],
   "source": [
    "# Escritura archivo por lineas\n",
    "\n",
    "from os import strerror\n",
    "\n",
    "try:\n",
    "    file = open('prueba2.txt', 'wt')\n",
    "    for i in range(10):\n",
    "        s = 'Linea ' + str(i+1) + ' XD\\n' \n",
    "        file.write(s)\n",
    "    file.close()\n",
    "except IOError as e:\n",
    "    print('Se produjo un error E/S: ' + strerror(e.errno))\n",
    "\n",
    "print(open('prueba2.txt', 'rt').read())"
   ]
  },
  {
   "cell_type": "code",
   "execution_count": 403,
   "metadata": {},
   "outputs": [
    {
     "name": "stdout",
     "output_type": "stream",
     "text": [
      "bytearray(b'\\x00\\x00\\x00\\x00\\x00\\x00\\x00\\x00\\x00\\x00')\n",
      "\n",
      "********************\n",
      "\n",
      "10\n",
      "\n",
      "********************\n",
      "\n",
      "bytearray(b'\\n\\t\\x08\\x07\\x06\\x05\\x04\\x03\\x02\\x01')\n",
      "\n",
      "********************\n",
      "\n",
      "0xa 0x9 0x8 0x7 0x6 0x5 0x4 0x3 0x2 0x1 "
     ]
    }
   ],
   "source": [
    "# Creacion de bytearray\n",
    "data = bytearray(10)\n",
    "print(data)\n",
    "renglon(20)\n",
    "print(len(data))\n",
    "renglon(20)\n",
    "for i in range(len(data)):\n",
    "    data[i] = 10 - i\n",
    "print(data)\n",
    "renglon(20)\n",
    "for b in data:\n",
    "    print(hex(b), end=' ')"
   ]
  },
  {
   "cell_type": "code",
   "execution_count": 407,
   "metadata": {},
   "outputs": [
    {
     "name": "stdout",
     "output_type": "stream",
     "text": [
      "0xa 0xb 0xc 0xd 0xe 0xf 0x10 0x11 0x12 0x13 "
     ]
    }
   ],
   "source": [
    "# Escritura y lectura de archivo binario\n",
    "\n",
    "# Parte de escritura\n",
    "from os import strerror\n",
    "\n",
    "data = bytearray(10)\n",
    "for i in range(len(data)):\n",
    "    data[i] = 10+i\n",
    "\n",
    "try:\n",
    "    binary_file = open('file.bin', 'wb')\n",
    "    binary_file.write(data)\n",
    "    binary_file.close\n",
    "except IOError as e:\n",
    "    print('Se produjo un error de E/S: ', strerror(e.errno))\n",
    "\n",
    "#Parte de lectura\n",
    "from os import strerror\n",
    "\n",
    "data = bytearray(10)\n",
    "\n",
    "try:\n",
    "    binary_file = open('file.bin', 'rb')\n",
    "    binary_file.readinto(data)\n",
    "    binary_file.close()\n",
    "\n",
    "    for b in data:\n",
    "        print(hex(b), end = ' ')\n",
    "except IOError as e:\n",
    "    print('Se produjo un error de E/S: ' , strerror(e.errno)) "
   ]
  },
  {
   "cell_type": "code",
   "execution_count": 415,
   "metadata": {},
   "outputs": [
    {
     "name": "stdout",
     "output_type": "stream",
     "text": [
      "\n",
      "********************\n",
      "\n",
      "0xa 0xb 0xc 0xd 0xe 0xf 0x10 0x11 0x12 0x13 "
     ]
    }
   ],
   "source": [
    "# forma facil de lectura, es inmutable\n",
    "\n",
    "# Ten cuidado: no utilices este tipo de lectura si no estás seguro de que el contenido del\n",
    "# archivo se ajuste a la memoria disponible.\n",
    "\n",
    "from os import strerror\n",
    "\n",
    "data = bytearray(10)\n",
    "\n",
    "for i in range(len(data)):\n",
    "    data[i] = 10 + i\n",
    "\n",
    "try:\n",
    "    binary_file = open('file.bin', 'wb')\n",
    "    binary_file.write(data)\n",
    "    binary_file.close()\n",
    "except IOError as e:\n",
    "    print('Se produjo un error de E/S: ', strerror(e.errno))\n",
    "\n",
    "renglon(20)\n",
    "\n",
    "try:\n",
    "    binary_file = open('file.bin', 'rb')\n",
    "    data = bytearray(binary_file.read())\n",
    "    binary_file.close()\n",
    "\n",
    "    for b in data:\n",
    "        print(hex(b), end = ' ')\n",
    "except IOError as e:\n",
    "    print('Se produjo un error de E/S: ', strerror(e.errno))"
   ]
  },
  {
   "cell_type": "code",
   "execution_count": 416,
   "metadata": {},
   "outputs": [
    {
     "name": "stdout",
     "output_type": "stream",
     "text": [
      "\n",
      "********************\n",
      "\n",
      "0xa 0xb 0xc 0xd 0xe "
     ]
    }
   ],
   "source": [
    "# Si el método read() se invoca con un argumento, se especifica el número máximo de bytes a leer.\n",
    "from os import strerror\n",
    "\n",
    "data = bytearray(10)\n",
    "\n",
    "for i in range(len(data)):\n",
    "    data[i] = 10 + i\n",
    "\n",
    "try:\n",
    "    binary_file = open('file.bin', 'wb')\n",
    "    binary_file.write(data)\n",
    "    binary_file.close()\n",
    "except IOError as e:\n",
    "    print(\"Se produjo un error de E/S:\", strerror(e.errno))\n",
    "\n",
    "renglon(20)\n",
    "\n",
    "try:\n",
    "    binary_file = open('file.bin', 'rb')\n",
    "    data = bytearray(binary_file.read(5))\n",
    "    binary_file.close()\n",
    "\n",
    "    for b in data:\n",
    "        print(hex(b), end=' ')\n",
    "\n",
    "except IOError as e:\n",
    "    print(\"Se produjo un error de E/S:\", strerror(e.errno))\n",
    "\n"
   ]
  },
  {
   "cell_type": "code",
   "execution_count": 422,
   "metadata": {},
   "outputs": [
    {
     "data": {
      "text/plain": [
       "'nt'"
      ]
     },
     "execution_count": 422,
     "metadata": {},
     "output_type": "execute_result"
    }
   ],
   "source": [
    "# Conocer mi sistema operativo - posix/unix, nt/windows,java/jython\n",
    "import os\n",
    "os.name"
   ]
  },
  {
   "cell_type": "code",
   "execution_count": 427,
   "metadata": {},
   "outputs": [
    {
     "name": "stdout",
     "output_type": "stream",
     "text": [
      "['.ipynb_checkpoints', '.vscode', '2109135200_202306.pdf', '2109135200_202307.pdf', '2109135200_202308.pdf', 'C34GJL4F4C3O2L9Q654410006JQH000COYF00000000000000W4M5.pdf', 'C34GJL4F4C3Q2L9YI54730006C4R000CA7S00000000000000EQPJ (1).pdf', 'C34GJL4F4C3Q2L9YI54730006C4R000CA7S00000000000000EQPJ.pdf', 'Carta compromiso DSEF 2023-24.pdf', 'Carta_Motivos.pdf', 'Carta_Motivos_DP.pdf', 'Carta_Motivos_DP_EF.pdf', 'Cedula de Inscripcion DSEF FE 2023-24.pdf', 'cisco_Python_1.2.docx', 'Cisco___Python (1).pdf', 'Cisco___Python.pdf', 'comprobante-seguro.pdf', 'Constancia de Semanas Cotizadas del Asegurado.pdf', 'CONSTANCIA_ACTUALIZADA.pdf', 'CV_Geovani_Ramirez_Alvarado.pdf', 'desktop.ini', 'EXTRA2', 'FIEL_RAAG991106975_20230712155303', 'file.bin', 'FOUNDERS', 'Historial_Academico.pdf', 'hojaDeReferencia (5).pdf', 'ImprimeCita.pdf', 'ImprimeCita_verificacion.pdf', 'INE.pdf', 'Informe de Saldo Julio 2023.pdf', 'Informe de Saldo Junio 2023.pdf', 'Informe de Saldo Mayo 2023.pdf', 'Liderazgo_que_obtiene_resultados_Daniel.pdf', 'Mario Luna - Psicología del éxito (2015, ePubLibre) - libgen.li.epub', 'Modulos_2023', 'my_first_directory', 'my_first_directory_2', 'newtext.txt', 'orden_aportacion_ 283980 (1).PDF', 'orden_aportacion_ 283980.PDF', 'orden_aportacion_4420123011225RK30234.pdf', 'Otto Scharmer - Teoría U Liderar desde el futuro a medida que emerge (2017, Editorial Eleftheria SL) - libgen.li.epub', 'Parte_1.ipynb', 'Parte_2.ipynb', 'prueba2.txt', 'Prueba_Modulo.py', 'reporteSemanasCotizadas.pdf', 'Solicitud de Ingreso DSEF FE 2023-24.pdf', 'Temario_EMED_CD.pdf', 'yishen.txt', '_XFM6HVzS-6xTOh1c1vu5A_ae284537e29a4fb5a419a342caf8a8f1_Using-buzzwords-in-your-job-search_SPA.docx', '__pycache__', '~$sco_Python_1.2.docx']\n"
     ]
    }
   ],
   "source": [
    "# crear y mostrar directorio\n",
    "os.mkdir('my_first_directory_2')\n",
    "print(os.listdir())"
   ]
  },
  {
   "cell_type": "code",
   "execution_count": 430,
   "metadata": {},
   "outputs": [
    {
     "name": "stdout",
     "output_type": "stream",
     "text": [
      "['carpetita']\n"
     ]
    }
   ],
   "source": [
    "#crear directorio dentro de directorio\n",
    "import os\n",
    "os.makedirs('carpeta/carpetita')\n",
    "os.chdir('carpeta')\n",
    "print(os.listdir())\n"
   ]
  },
  {
   "cell_type": "code",
   "execution_count": 432,
   "metadata": {},
   "outputs": [
    {
     "name": "stdout",
     "output_type": "stream",
     "text": [
      "c:\\Users\\Geovani\\Downloads\\carpeta\n",
      "c:\\Users\\Geovani\\Downloads\\carpeta\\carpetita\n"
     ]
    }
   ],
   "source": [
    "# Detectar donde estamos\n",
    "print(os.getcwd())\n",
    "os.chdir('carpetita')\n",
    "print(os.getcwd())"
   ]
  },
  {
   "cell_type": "code",
   "execution_count": 441,
   "metadata": {},
   "outputs": [
    {
     "name": "stdout",
     "output_type": "stream",
     "text": [
      "['.ipynb_checkpoints', '.vscode', '2109135200_202306.pdf', '2109135200_202307.pdf', '2109135200_202308.pdf', 'C34GJL4F4C3O2L9Q654410006JQH000COYF00000000000000W4M5.pdf', 'C34GJL4F4C3Q2L9YI54730006C4R000CA7S00000000000000EQPJ (1).pdf', 'C34GJL4F4C3Q2L9YI54730006C4R000CA7S00000000000000EQPJ.pdf', 'carpeta', 'Carta compromiso DSEF 2023-24.pdf', 'Carta_Motivos.pdf', 'Carta_Motivos_DP.pdf', 'Carta_Motivos_DP_EF.pdf', 'Cedula de Inscripcion DSEF FE 2023-24.pdf', 'cisco_Python_1.2.docx', 'Cisco___Python (1).pdf', 'Cisco___Python.pdf', 'comprobante-seguro.pdf', 'Constancia de Semanas Cotizadas del Asegurado.pdf', 'CONSTANCIA_ACTUALIZADA.pdf', 'CV_Geovani_Ramirez_Alvarado.pdf', 'desktop.ini', 'EXTRA2', 'FIEL_RAAG991106975_20230712155303', 'file.bin', 'FOUNDERS', 'Historial_Academico.pdf', 'hojaDeReferencia (5).pdf', 'ImprimeCita.pdf', 'ImprimeCita_verificacion.pdf', 'INE.pdf', 'Informe de Saldo Julio 2023.pdf', 'Informe de Saldo Junio 2023.pdf', 'Informe de Saldo Mayo 2023.pdf', 'Liderazgo_que_obtiene_resultados_Daniel.pdf', 'Mario Luna - Psicología del éxito (2015, ePubLibre) - libgen.li.epub', 'Modulos_2023', 'my_first_directory', 'my_first_directory_2', 'newtext.txt', 'orden_aportacion_ 283980 (1).PDF', 'orden_aportacion_ 283980.PDF', 'orden_aportacion_4420123011225RK30234.pdf', 'Otto Scharmer - Teoría U Liderar desde el futuro a medida que emerge (2017, Editorial Eleftheria SL) - libgen.li.epub', 'Parte_1.ipynb', 'Parte_2.ipynb', 'prueba2.txt', 'Prueba_Modulo.py', 'reporteSemanasCotizadas.pdf', 'Solicitud de Ingreso DSEF FE 2023-24.pdf', 'Temario_EMED_CD.pdf', 'yishen.txt', '_XFM6HVzS-6xTOh1c1vu5A_ae284537e29a4fb5a419a342caf8a8f1_Using-buzzwords-in-your-job-search_SPA.docx', '__pycache__', '~$sco_Python_1.2.docx']\n",
      "Listo\n"
     ]
    }
   ],
   "source": [
    "#Remover directorio o directorios\n",
    "os.chdir('c:\\\\Users\\\\Geovani\\\\Downloads')\n",
    "print(os.listdir())\n",
    "try:\n",
    "    os.rmdir('my_first_directory')\n",
    "    os.rmdir('my_first_directory_2')\n",
    "    os.removedirs('carpeta\\\\carpetita')\n",
    "except:\n",
    "    print('Fallo')\n",
    "else:\n",
    "    print('Listo')\n",
    "\n"
   ]
  },
  {
   "cell_type": "code",
   "execution_count": 450,
   "metadata": {},
   "outputs": [
    {
     "name": "stdout",
     "output_type": "stream",
     "text": [
      "0\n"
     ]
    }
   ],
   "source": [
    "# system() ejecuta comandos que se le pasan como cadena\n",
    "\n",
    "import os\n",
    "returned_value = os.system('mkdir nueva_carpeta')\n",
    "print(returned_value)"
   ]
  },
  {
   "cell_type": "code",
   "execution_count": 451,
   "metadata": {},
   "outputs": [
    {
     "name": "stdout",
     "output_type": "stream",
     "text": [
      "0\n"
     ]
    }
   ],
   "source": [
    "resultado = os.system('rmdir nueva_carpeta')\n",
    "print(resultado)"
   ]
  },
  {
   "cell_type": "code",
   "execution_count": 453,
   "metadata": {},
   "outputs": [
    {
     "name": "stdout",
     "output_type": "stream",
     "text": [
      "<class 'datetime.date'>\n",
      "Hoy: 2023-09-18\n",
      "Año: 2023\n",
      "Mes: 9\n",
      "Día: 18\n"
     ]
    }
   ],
   "source": [
    "# Fechas\n",
    "\n",
    "from datetime import date\n",
    "\n",
    "# Imprimir fecha actual}\n",
    "today = date.today()\n",
    "\n",
    "print(type(hoy))\n",
    "print(\"Hoy:\", today)\n",
    "print(\"Año:\", today.year)\n",
    "print(\"Mes:\", today.month)\n",
    "print(\"Día:\", today.day)"
   ]
  },
  {
   "cell_type": "code",
   "execution_count": 457,
   "metadata": {},
   "outputs": [
    {
     "name": "stdout",
     "output_type": "stream",
     "text": [
      "Marca de tiempo:  1695072378.6279576\n",
      "Fecha:  2023-09-18\n"
     ]
    }
   ],
   "source": [
    "from datetime import date\n",
    "import time\n",
    "# segundo desde una marca de tiempo hasta hoy\n",
    "timestamp = time.time()\n",
    "print('Marca de tiempo: ', timestamp)\n",
    "# obtener fecha a partir de la marca de tiempo\n",
    "d = date.fromtimestamp(timestamp)\n",
    "print('Fecha: ', d)"
   ]
  },
  {
   "cell_type": "code",
   "execution_count": 459,
   "metadata": {},
   "outputs": [
    {
     "name": "stdout",
     "output_type": "stream",
     "text": [
      "2019-11-04\n",
      "<class 'datetime.date'>\n"
     ]
    }
   ],
   "source": [
    "# El iso format es yyyy-mm-dd\n",
    "from datetime import date\n",
    "\n",
    "d = date.fromisoformat('2019-11-04')\n",
    "print(d)\n",
    "print(type(d))"
   ]
  },
  {
   "cell_type": "code",
   "execution_count": 461,
   "metadata": {},
   "outputs": [
    {
     "name": "stdout",
     "output_type": "stream",
     "text": [
      "1991-02-05\n",
      "<class 'datetime.date'>\n",
      "1992-01-16\n"
     ]
    }
   ],
   "source": [
    "# Remplazar valores de una fecha\n",
    "from datetime import date\n",
    "\n",
    "d = date(1991,2,5)\n",
    "print(d)\n",
    "print(type(d))\n",
    "\n",
    "d = d.replace(year = 1992, month = 1, day = 16)\n",
    "print(d)"
   ]
  },
  {
   "cell_type": "code",
   "execution_count": 465,
   "metadata": {},
   "outputs": [
    {
     "name": "stdout",
     "output_type": "stream",
     "text": [
      "0\n",
      "1\n"
     ]
    }
   ],
   "source": [
    "# Obtener el dia de hoy 0-6\n",
    "\n",
    "from datetime import date\n",
    "\n",
    "d = date(2019,11,4)\n",
    "print(d.weekday())\n",
    "\n",
    "# Para tenerlo en el formato iso 1-7\n",
    "d = date(2019,11,4)\n",
    "print(d.isoweekday())"
   ]
  },
  {
   "cell_type": "code",
   "execution_count": 471,
   "metadata": {},
   "outputs": [
    {
     "name": "stdout",
     "output_type": "stream",
     "text": [
      "14:53:20.000001\n",
      "Tiempo: 14:53:20.000001\n",
      "Hora: 14\n",
      "Minuto: 53\n",
      "Segundo: 20\n",
      "Microsegundo: 1\n"
     ]
    }
   ],
   "source": [
    "# modulo time de datetime para la hora\n",
    "from datetime import time\n",
    "t = time(14,53,20,1)\n",
    "print(t)\n",
    "\n",
    "print(\"Tiempo:\", t)\n",
    "print(\"Hora:\", t.hour)\n",
    "print(\"Minuto:\", t.minute)\n",
    "print(\"Segundo:\", t.second)\n",
    "print(\"Microsegundo:\", t.microsecond)"
   ]
  },
  {
   "cell_type": "code",
   "execution_count": 474,
   "metadata": {},
   "outputs": [
    {
     "name": "stdout",
     "output_type": "stream",
     "text": [
      "Estoy muy cansado. Tengo que hecharme una siesta. Hata luego\n",
      "Dormi bien, Me siento genial\n"
     ]
    }
   ],
   "source": [
    "# modulo time.sleep\n",
    "import time\n",
    "\n",
    "class Student:\n",
    "    def take_nape(self, seconds):\n",
    "        print('Estoy muy cansado. Tengo que hecharme una siesta. Hata luego')\n",
    "        time.sleep(seconds)\n",
    "        print('Dormi bien, Me siento genial')\n",
    "student = Student()\n",
    "student.take_nape(5)\n"
   ]
  },
  {
   "cell_type": "code",
   "execution_count": 476,
   "metadata": {},
   "outputs": [
    {
     "name": "stdout",
     "output_type": "stream",
     "text": [
      "Mon Nov  4 08:53:00 2019\n",
      "Mon Sep 18 15:55:22 2023\n"
     ]
    }
   ],
   "source": [
    "# Modulo ctime() - convierte el tiempo en segundos desde el 1 enero de 1970 (epoxa unix) en una cadena\n",
    "\n",
    "import time\n",
    "\n",
    "timestamp = 1572879180\n",
    "print(time.ctime(timestamp))\n",
    "\n",
    "# Para conocer la hora de hoy solo debemos dejarlo vacio\n",
    "\n",
    "print(time.ctime())"
   ]
  },
  {
   "cell_type": "code",
   "execution_count": 481,
   "metadata": {},
   "outputs": [
    {
     "name": "stdout",
     "output_type": "stream",
     "text": [
      "time.struct_time(tm_year=2019, tm_mon=11, tm_mday=4, tm_hour=14, tm_min=53, tm_sec=0, tm_wday=0, tm_yday=308, tm_isdst=0)\n",
      "time.struct_time(tm_year=2019, tm_mon=11, tm_mday=4, tm_hour=8, tm_min=53, tm_sec=0, tm_wday=0, tm_yday=308, tm_isdst=0)\n"
     ]
    }
   ],
   "source": [
    "# estructura del modulo time\n",
    "import time\n",
    "timestamp = 1572879180\n",
    "# gmtime() devuelve la hora utc\n",
    "print(time.gmtime(timestamp))\n",
    "\n",
    "# localtime() time devuelve la hora local\n",
    "print(time.localtime(timestamp))"
   ]
  },
  {
   "cell_type": "code",
   "execution_count": 485,
   "metadata": {},
   "outputs": [
    {
     "name": "stdout",
     "output_type": "stream",
     "text": [
      "Mon Nov  4 14:53:00 2019\n",
      "1572900780.0\n"
     ]
    }
   ],
   "source": [
    "import time\n",
    "\n",
    "timestamp = 1572879180\n",
    "\n",
    "#obtener un objeto struct_time\n",
    "st = time.gmtime(timestamp)\n",
    "\n",
    "#Obtener una tupla en cadena\n",
    "print(time.asctime(st))\n",
    "\n",
    "#tupla que expresa la hora local al numero de segundos de la epoca de Unix\n",
    "print(time.mktime(st))\n",
    "\n",
    "#"
   ]
  },
  {
   "cell_type": "code",
   "execution_count": 490,
   "metadata": {},
   "outputs": [
    {
     "name": "stdout",
     "output_type": "stream",
     "text": [
      "Fecha y Hora: 2019-11-04 14:53:00\n",
      "Fecha: 2019-11-04\n",
      "Hora: 14:53:00\n"
     ]
    }
   ],
   "source": [
    "# datetime() para combinar fecha y hora\n",
    "\n",
    "from datetime import datetime\n",
    "\n",
    "dt = datetime(2019,11,4,14,53)\n",
    "\n",
    "print(\"Fecha y Hora:\", dt)\n",
    "print(\"Fecha:\", dt.date())\n",
    "print(\"Hora:\", dt.time())\n",
    "\n"
   ]
  },
  {
   "cell_type": "code",
   "execution_count": 491,
   "metadata": {},
   "outputs": [
    {
     "name": "stdout",
     "output_type": "stream",
     "text": [
      "hoy: 2023-09-18 16:32:32.309692\n",
      "ahora: 2023-09-18 16:32:32.309691\n",
      "utc_ahora: 2023-09-18 22:32:32.309691\n"
     ]
    }
   ],
   "source": [
    "# Fechas y horas actuales\n",
    "\n",
    "from datetime import datetime\n",
    "print(\"hoy:\", datetime.today())\n",
    "print(\"ahora:\", datetime.now())\n",
    "print(\"utc_ahora:\", datetime.utcnow())\n"
   ]
  },
  {
   "cell_type": "code",
   "execution_count": 495,
   "metadata": {},
   "outputs": [
    {
     "name": "stdout",
     "output_type": "stream",
     "text": [
      "2020-10-04 14:55:00\n",
      "1601844900.0\n"
     ]
    }
   ],
   "source": [
    "# Marca de tiempo con metodo timestamp\n",
    "\n",
    "from datetime import datetime\n",
    "\n",
    "dt = datetime(2020,10,4,14,55)\n",
    "print(dt)\n",
    "\n",
    "print(dt.timestamp())"
   ]
  },
  {
   "cell_type": "code",
   "execution_count": 509,
   "metadata": {},
   "outputs": [
    {
     "name": "stdout",
     "output_type": "stream",
     "text": [
      "2020/01/04\n",
      "20/01/04\n"
     ]
    }
   ],
   "source": [
    "# Definir el formato de la fecha con strftime()\n",
    "from datetime import date\n",
    "d = date(2020,1,4)\n",
    "print(d.strftime('%Y/%m/%d'))\n",
    "print(d.strftime('%y/%m/%d'))"
   ]
  },
  {
   "cell_type": "code",
   "execution_count": 513,
   "metadata": {},
   "outputs": [
    {
     "name": "stdout",
     "output_type": "stream",
     "text": [
      "14:53:00\n",
      "2020/November/04 14:53:00\n"
     ]
    }
   ],
   "source": [
    "from datetime import time\n",
    "from datetime import datetime\n",
    "\n",
    "t = time(14,53)\n",
    "print(t.strftime('%H:%M:%S'))\n",
    "\n",
    "dt = datetime(2020,11,4,14,53)\n",
    "print(dt.strftime('%Y/%B/%d %H:%M:%S'))"
   ]
  },
  {
   "cell_type": "code",
   "execution_count": 515,
   "metadata": {},
   "outputs": [
    {
     "name": "stdout",
     "output_type": "stream",
     "text": [
      "2019/11/04 14:53:00\n",
      "2023/09/18 16:54:56\n"
     ]
    }
   ],
   "source": [
    "'''  \n",
    "En la primera llamada a la función, formateamos el objeto struct_time, mientras que en la segunda llamada \n",
    "(sin el argumento opcional), formateamos la hora local. Puede encontrar todas las directivas disponibles \n",
    "en el módulo time aquí.\n",
    " '''\n",
    "\n",
    "# strftime en modulo time, requiere formato struct_time o una tupla\n",
    "import time\n",
    "timestamp = 1572879180\n",
    "st = time.gmtime(timestamp)\n",
    "\n",
    "print(time.strftime(\"%Y/%m/%d %H:%M:%S\", st))\n",
    "print(time.strftime(\"%Y/%m/%d %H:%M:%S\"))\n"
   ]
  },
  {
   "cell_type": "code",
   "execution_count": 519,
   "metadata": {},
   "outputs": [
    {
     "name": "stdout",
     "output_type": "stream",
     "text": [
      "2018-11-04 14:53:00\n"
     ]
    },
    {
     "data": {
      "text/plain": [
       "datetime.datetime(2018, 11, 4, 14, 53)"
      ]
     },
     "execution_count": 519,
     "metadata": {},
     "output_type": "execute_result"
    }
   ],
   "source": [
    "# Metodo strptime para crear formato datetime a partir de cadena de libreria datetime\n",
    "\n",
    "from datetime import datetime\n",
    "\n",
    "print(datetime.strptime('2018/11/04 14:53:00', '%Y/%m/%d %H:%M:%S'))\n",
    "datetime.strptime('2018/11/04 14:53:00', '%Y/%m/%d %H:%M:%S')"
   ]
  },
  {
   "cell_type": "code",
   "execution_count": 521,
   "metadata": {},
   "outputs": [
    {
     "name": "stdout",
     "output_type": "stream",
     "text": [
      "time.struct_time(tm_year=2018, tm_mon=11, tm_mday=4, tm_hour=14, tm_min=53, tm_sec=0, tm_wday=6, tm_yday=308, tm_isdst=-1)\n"
     ]
    },
    {
     "data": {
      "text/plain": [
       "time.struct_time(tm_year=2018, tm_mon=11, tm_mday=4, tm_hour=14, tm_min=53, tm_sec=0, tm_wday=6, tm_yday=308, tm_isdst=-1)"
      ]
     },
     "execution_count": 521,
     "metadata": {},
     "output_type": "execute_result"
    }
   ],
   "source": [
    "# Metodo strptime para crear formato datetime a partir de cadena de libreria time\n",
    "# arroja objeto struct_time\n",
    "\n",
    "import time\n",
    "print(time.strptime('2018/11/04 14:53:00', '%Y/%m/%d %H:%M:%S'))\n",
    "time.strptime('2018/11/04 14:53:00', '%Y/%m/%d %H:%M:%S')\n",
    "\n"
   ]
  },
  {
   "cell_type": "code",
   "execution_count": 581,
   "metadata": {},
   "outputs": [
    {
     "name": "stdout",
     "output_type": "stream",
     "text": [
      "366 days, 0:00:00\n",
      "365 days, 9:07:00\n",
      "<class 'datetime.timedelta'>\n"
     ]
    }
   ],
   "source": [
    "# Calculos con fechas y horas\n",
    "\n",
    "from datetime import datetime\n",
    "from datetime import date\n",
    "\n",
    "d1 = date(2020,11,4)\n",
    "d2 = date(2019,11,4)\n",
    "\n",
    "print(d1 - d2)\n",
    "\n",
    "dt1 = datetime(2020, 11, 4, 0, 0, 0)\n",
    "dt2 = datetime(2019, 11, 4, 14, 53, 0)\n",
    "\n",
    "print(dt1 - dt2)\n",
    "print(type(dt1 - dt2))"
   ]
  },
  {
   "cell_type": "code",
   "execution_count": 531,
   "metadata": {},
   "outputs": [
    {
     "name": "stdout",
     "output_type": "stream",
     "text": [
      "16 days, 3:00:00\n",
      "Días: 16\n",
      "Segundos: 10800\n",
      "Microsegundos: 0\n"
     ]
    }
   ],
   "source": [
    "# time delta - days, seconds, microseconds, milliseconds, minutes, hours, y weeks\n",
    "from datetime import timedelta\n",
    "delta = timedelta(weeks=2,days=2,hours=3)\n",
    "print(delta)\n",
    "print(\"Días:\", delta.days)\n",
    "print(\"Segundos:\", delta.seconds)\n",
    "print(\"Microsegundos:\", delta.microseconds)"
   ]
  },
  {
   "cell_type": "code",
   "execution_count": 538,
   "metadata": {},
   "outputs": [
    {
     "name": "stdout",
     "output_type": "stream",
     "text": [
      "16 days, 2:00:00\n",
      "<class 'datetime.timedelta'>\n",
      "32 days, 4:00:00\n",
      "<class 'datetime.timedelta'>\n",
      "2019-11-05\n",
      "<class 'datetime.date'>\n",
      "2019-11-05 18:53:00\n",
      "<class 'datetime.datetime'>\n"
     ]
    }
   ],
   "source": [
    "# operaciones con time delta\n",
    "from datetime import timedelta\n",
    "from datetime import date\n",
    "from datetime import datetime\n",
    "\n",
    "delta = timedelta(weeks=2, days=2, hours=2)\n",
    "print(delta)\n",
    "print(type(delta))\n",
    "\n",
    "delta2 = delta*2\n",
    "print(delta2)\n",
    "print(type(delta2))\n",
    "\n",
    "d = date(2019, 10, 4) + delta2\n",
    "print(d)\n",
    "print(type(d))\n",
    "\n",
    "dt = datetime(2019, 10, 4, 14, 53) + delta2\n",
    "print(dt)\n",
    "print(type(dt))\n",
    "\n"
   ]
  },
  {
   "cell_type": "code",
   "execution_count": 547,
   "metadata": {},
   "outputs": [
    {
     "name": "stdout",
     "output_type": "stream",
     "text": [
      "                                               2020\n",
      "\n",
      "      January                   February                   March                     April\n",
      "Mo Tu We Th Fr Sa Su      Mo Tu We Th Fr Sa Su      Mo Tu We Th Fr Sa Su      Mo Tu We Th Fr Sa Su\n",
      "       1  2  3  4  5                      1  2                         1             1  2  3  4  5\n",
      " 6  7  8  9 10 11 12       3  4  5  6  7  8  9       2  3  4  5  6  7  8       6  7  8  9 10 11 12\n",
      "13 14 15 16 17 18 19      10 11 12 13 14 15 16       9 10 11 12 13 14 15      13 14 15 16 17 18 19\n",
      "20 21 22 23 24 25 26      17 18 19 20 21 22 23      16 17 18 19 20 21 22      20 21 22 23 24 25 26\n",
      "27 28 29 30 31            24 25 26 27 28 29         23 24 25 26 27 28 29      27 28 29 30\n",
      "                                                    30 31\n",
      "\n",
      "        May                       June                      July                     August\n",
      "Mo Tu We Th Fr Sa Su      Mo Tu We Th Fr Sa Su      Mo Tu We Th Fr Sa Su      Mo Tu We Th Fr Sa Su\n",
      "             1  2  3       1  2  3  4  5  6  7             1  2  3  4  5                      1  2\n",
      " 4  5  6  7  8  9 10       8  9 10 11 12 13 14       6  7  8  9 10 11 12       3  4  5  6  7  8  9\n",
      "11 12 13 14 15 16 17      15 16 17 18 19 20 21      13 14 15 16 17 18 19      10 11 12 13 14 15 16\n",
      "18 19 20 21 22 23 24      22 23 24 25 26 27 28      20 21 22 23 24 25 26      17 18 19 20 21 22 23\n",
      "25 26 27 28 29 30 31      29 30                     27 28 29 30 31            24 25 26 27 28 29 30\n",
      "                                                                              31\n",
      "\n",
      "     September                  October                   November                  December\n",
      "Mo Tu We Th Fr Sa Su      Mo Tu We Th Fr Sa Su      Mo Tu We Th Fr Sa Su      Mo Tu We Th Fr Sa Su\n",
      "    1  2  3  4  5  6                1  2  3  4                         1          1  2  3  4  5  6\n",
      " 7  8  9 10 11 12 13       5  6  7  8  9 10 11       2  3  4  5  6  7  8       7  8  9 10 11 12 13\n",
      "14 15 16 17 18 19 20      12 13 14 15 16 17 18       9 10 11 12 13 14 15      14 15 16 17 18 19 20\n",
      "21 22 23 24 25 26 27      19 20 21 22 23 24 25      16 17 18 19 20 21 22      21 22 23 24 25 26 27\n",
      "28 29 30                  26 27 28 29 30 31         23 24 25 26 27 28 29      28 29 30 31\n",
      "                                                    30\n",
      "\n"
     ]
    }
   ],
   "source": [
    "# calendarios\n",
    "'''  \n",
    "w: ancho de la columna de fecha (por defecto 2)\n",
    "l: número de líneas por semana (por defecto 1)\n",
    "c: número de espacios entre las columnas del mes (por defecto 6)\n",
    "m: número de columnas (por defecto 3)\n",
    "'''\n",
    "import calendar # requiere print\n",
    "print(calendar.calendar(2020, m=4))"
   ]
  },
  {
   "cell_type": "code",
   "execution_count": 549,
   "metadata": {},
   "outputs": [
    {
     "name": "stdout",
     "output_type": "stream",
     "text": [
      "                                               2020\n",
      "\n",
      "      January                   February                   March                     April\n",
      "Mo Tu We Th Fr Sa Su      Mo Tu We Th Fr Sa Su      Mo Tu We Th Fr Sa Su      Mo Tu We Th Fr Sa Su\n",
      "       1  2  3  4  5                      1  2                         1             1  2  3  4  5\n",
      " 6  7  8  9 10 11 12       3  4  5  6  7  8  9       2  3  4  5  6  7  8       6  7  8  9 10 11 12\n",
      "13 14 15 16 17 18 19      10 11 12 13 14 15 16       9 10 11 12 13 14 15      13 14 15 16 17 18 19\n",
      "20 21 22 23 24 25 26      17 18 19 20 21 22 23      16 17 18 19 20 21 22      20 21 22 23 24 25 26\n",
      "27 28 29 30 31            24 25 26 27 28 29         23 24 25 26 27 28 29      27 28 29 30\n",
      "                                                    30 31\n",
      "\n",
      "        May                       June                      July                     August\n",
      "Mo Tu We Th Fr Sa Su      Mo Tu We Th Fr Sa Su      Mo Tu We Th Fr Sa Su      Mo Tu We Th Fr Sa Su\n",
      "             1  2  3       1  2  3  4  5  6  7             1  2  3  4  5                      1  2\n",
      " 4  5  6  7  8  9 10       8  9 10 11 12 13 14       6  7  8  9 10 11 12       3  4  5  6  7  8  9\n",
      "11 12 13 14 15 16 17      15 16 17 18 19 20 21      13 14 15 16 17 18 19      10 11 12 13 14 15 16\n",
      "18 19 20 21 22 23 24      22 23 24 25 26 27 28      20 21 22 23 24 25 26      17 18 19 20 21 22 23\n",
      "25 26 27 28 29 30 31      29 30                     27 28 29 30 31            24 25 26 27 28 29 30\n",
      "                                                                              31\n",
      "\n",
      "     September                  October                   November                  December\n",
      "Mo Tu We Th Fr Sa Su      Mo Tu We Th Fr Sa Su      Mo Tu We Th Fr Sa Su      Mo Tu We Th Fr Sa Su\n",
      "    1  2  3  4  5  6                1  2  3  4                         1          1  2  3  4  5  6\n",
      " 7  8  9 10 11 12 13       5  6  7  8  9 10 11       2  3  4  5  6  7  8       7  8  9 10 11 12 13\n",
      "14 15 16 17 18 19 20      12 13 14 15 16 17 18       9 10 11 12 13 14 15      14 15 16 17 18 19 20\n",
      "21 22 23 24 25 26 27      19 20 21 22 23 24 25      16 17 18 19 20 21 22      21 22 23 24 25 26 27\n",
      "28 29 30                  26 27 28 29 30 31         23 24 25 26 27 28 29      28 29 30 31\n",
      "                                                    30\n"
     ]
    }
   ],
   "source": [
    "# no requiere print\n",
    "\n",
    "import calendar\n",
    "calendar.prcal(2020, m= 4)"
   ]
  },
  {
   "cell_type": "code",
   "execution_count": 550,
   "metadata": {},
   "outputs": [
    {
     "name": "stdout",
     "output_type": "stream",
     "text": [
      "   November 2020\n",
      "Mo Tu We Th Fr Sa Su\n",
      "                   1\n",
      " 2  3  4  5  6  7  8\n",
      " 9 10 11 12 13 14 15\n",
      "16 17 18 19 20 21 22\n",
      "23 24 25 26 27 28 29\n",
      "30\n",
      "\n"
     ]
    }
   ],
   "source": [
    "# Calendario del mes\n",
    "import calendar\n",
    "print(calendar.month(2020,11))"
   ]
  },
  {
   "cell_type": "code",
   "execution_count": 553,
   "metadata": {},
   "outputs": [
    {
     "name": "stdout",
     "output_type": "stream",
     "text": [
      "   November 2020\n",
      "Su Mo Tu We Th Fr Sa\n",
      " 1  2  3  4  5  6  7\n",
      " 8  9 10 11 12 13 14\n",
      "15 16 17 18 19 20 21\n",
      "22 23 24 25 26 27 28\n",
      "29 30\n"
     ]
    }
   ],
   "source": [
    "# definir primer dia de la semana en el calendario\n",
    "import calendar\n",
    "calendar.setfirstweekday(calendar.SUNDAY)\n",
    "calendar.prmonth(2020,11)"
   ]
  },
  {
   "cell_type": "code",
   "execution_count": 555,
   "metadata": {},
   "outputs": [
    {
     "name": "stdout",
     "output_type": "stream",
     "text": [
      "3\n"
     ]
    }
   ],
   "source": [
    "# saber que dia de la semana es dada una fecha\n",
    "import calendar\n",
    "print(calendar.weekday(2020,12,24))"
   ]
  },
  {
   "cell_type": "code",
   "execution_count": 560,
   "metadata": {},
   "outputs": [
    {
     "name": "stdout",
     "output_type": "stream",
     "text": [
      "   Sunday       Monday      Tuesday     Wednesday     Thursday      Friday      Saturday  \n"
     ]
    }
   ],
   "source": [
    "# Ampliar encabezado de los nombre de los meses\n",
    "import calendar\n",
    "print(calendar.weekheader(12))"
   ]
  },
  {
   "cell_type": "code",
   "execution_count": 564,
   "metadata": {},
   "outputs": [
    {
     "name": "stdout",
     "output_type": "stream",
     "text": [
      "True\n",
      "3\n"
     ]
    }
   ],
   "source": [
    "import calendar\n",
    "# isleap - True si el año es biciesto\n",
    "print(calendar.isleap(2020))\n",
    "#leapdays numero de años biciestos en el rango dado\n",
    "print(calendar.leapdays(2012, 2021))"
   ]
  },
  {
   "cell_type": "code",
   "execution_count": 565,
   "metadata": {},
   "outputs": [
    {
     "name": "stdout",
     "output_type": "stream",
     "text": [
      "6 0 1 2 3 4 5 "
     ]
    }
   ],
   "source": [
    "#Itinerador para el numero de dias de la semana\n",
    "import calendar\n",
    "c = calendar.Calendar(calendar.SUNDAY)\n",
    "for weekday in c.iterweekdays():\n",
    "    print(weekday, end = ' ')"
   ]
  },
  {
   "cell_type": "code",
   "execution_count": 571,
   "metadata": {},
   "outputs": [
    {
     "name": "stdout",
     "output_type": "stream",
     "text": [
      "2019-10-28 2019-10-29 2019-10-30 2019-10-31 2019-11-01 2019-11-02 2019-11-03 2019-11-04 2019-11-05 2019-11-06 2019-11-07 2019-11-08 2019-11-09 2019-11-10 2019-11-11 2019-11-12 2019-11-13 2019-11-14 2019-11-15 2019-11-16 2019-11-17 2019-11-18 2019-11-19 2019-11-20 2019-11-21 2019-11-22 2019-11-23 2019-11-24 2019-11-25 2019-11-26 2019-11-27 2019-11-28 2019-11-29 2019-11-30 2019-12-01 "
     ]
    }
   ],
   "source": [
    "''' El método itermonthdates() - se devuelven todos los días del mes y año especificados, así como todos los \n",
    "días antes del comienzo del mes o del final del mes que son necesarios para obtener\n",
    " una semana completa.'''\n",
    "import calendar  \n",
    "\n",
    "c = calendar.Calendar()\n",
    "\n",
    "for date in c.itermonthdates(2019, 11):\n",
    "    print(date, end=\" \")\n"
   ]
  },
  {
   "cell_type": "code",
   "execution_count": 570,
   "metadata": {},
   "outputs": [
    {
     "name": "stdout",
     "output_type": "stream",
     "text": [
      "                                               2019\n",
      "\n",
      "      January                   February                   March                     April\n",
      "Su Mo Tu We Th Fr Sa      Su Mo Tu We Th Fr Sa      Su Mo Tu We Th Fr Sa      Su Mo Tu We Th Fr Sa\n",
      "       1  2  3  4  5                      1  2                      1  2          1  2  3  4  5  6\n",
      " 6  7  8  9 10 11 12       3  4  5  6  7  8  9       3  4  5  6  7  8  9       7  8  9 10 11 12 13\n",
      "13 14 15 16 17 18 19      10 11 12 13 14 15 16      10 11 12 13 14 15 16      14 15 16 17 18 19 20\n",
      "20 21 22 23 24 25 26      17 18 19 20 21 22 23      17 18 19 20 21 22 23      21 22 23 24 25 26 27\n",
      "27 28 29 30 31            24 25 26 27 28            24 25 26 27 28 29 30      28 29 30\n",
      "                                                    31\n",
      "\n",
      "        May                       June                      July                     August\n",
      "Su Mo Tu We Th Fr Sa      Su Mo Tu We Th Fr Sa      Su Mo Tu We Th Fr Sa      Su Mo Tu We Th Fr Sa\n",
      "          1  2  3  4                         1          1  2  3  4  5  6                   1  2  3\n",
      " 5  6  7  8  9 10 11       2  3  4  5  6  7  8       7  8  9 10 11 12 13       4  5  6  7  8  9 10\n",
      "12 13 14 15 16 17 18       9 10 11 12 13 14 15      14 15 16 17 18 19 20      11 12 13 14 15 16 17\n",
      "19 20 21 22 23 24 25      16 17 18 19 20 21 22      21 22 23 24 25 26 27      18 19 20 21 22 23 24\n",
      "26 27 28 29 30 31         23 24 25 26 27 28 29      28 29 30 31               25 26 27 28 29 30 31\n",
      "                          30\n",
      "\n",
      "     September                  October                   November                  December\n",
      "Su Mo Tu We Th Fr Sa      Su Mo Tu We Th Fr Sa      Su Mo Tu We Th Fr Sa      Su Mo Tu We Th Fr Sa\n",
      " 1  2  3  4  5  6  7             1  2  3  4  5                      1  2       1  2  3  4  5  6  7\n",
      " 8  9 10 11 12 13 14       6  7  8  9 10 11 12       3  4  5  6  7  8  9       8  9 10 11 12 13 14\n",
      "15 16 17 18 19 20 21      13 14 15 16 17 18 19      10 11 12 13 14 15 16      15 16 17 18 19 20 21\n",
      "22 23 24 25 26 27 28      20 21 22 23 24 25 26      17 18 19 20 21 22 23      22 23 24 25 26 27 28\n",
      "29 30                     27 28 29 30 31            24 25 26 27 28 29 30      29 30 31\n",
      "\n"
     ]
    }
   ],
   "source": [
    "print(calendar.calendar(2019, m=4))"
   ]
  },
  {
   "cell_type": "code",
   "execution_count": 572,
   "metadata": {},
   "outputs": [
    {
     "name": "stdout",
     "output_type": "stream",
     "text": [
      "0 0 0 0 1 2 3 4 5 6 7 8 9 10 11 12 13 14 15 16 17 18 19 20 21 22 23 24 25 26 27 28 29 30 0 "
     ]
    }
   ],
   "source": [
    "# días de la semana representados por números.\n",
    "import calendar\n",
    "\n",
    "c = calendar.Calendar()\n",
    "\n",
    "for iter in c.itermonthdays(2019,11):\n",
    "    print(iter, end = ' ')"
   ]
  },
  {
   "cell_type": "code",
   "execution_count": 577,
   "metadata": {},
   "outputs": [
    {
     "name": "stdout",
     "output_type": "stream",
     "text": [
      "(0, 0) (0, 1) (0, 2) (0, 3) (1, 4) (2, 5) (3, 6) (4, 0) (5, 1) (6, 2) (7, 3) (8, 4) (9, 5) (10, 6) (11, 0) (12, 1) (13, 2) (14, 3) (15, 4) (16, 5) (17, 6) (18, 0) (19, 1) (20, 2) (21, 3) (22, 4) (23, 5) (24, 6) (25, 0) (26, 1) (27, 2) (28, 3) (29, 4) (30, 5) (0, 6) "
     ]
    }
   ],
   "source": [
    "#itermonthdates2: devuelve días en forma de tuplas que consisten en un número de día del mes y un número de día de la semana.\n",
    "import calendar\n",
    "\n",
    "c = calendar.Calendar()\n",
    "\n",
    "for iter in c.itermonthdays2(2019,11):\n",
    "    print(iter, end = ' ')"
   ]
  },
  {
   "cell_type": "code",
   "execution_count": 578,
   "metadata": {},
   "outputs": [
    {
     "name": "stdout",
     "output_type": "stream",
     "text": [
      "(2019, 10, 28) (2019, 10, 29) (2019, 10, 30) (2019, 10, 31) (2019, 11, 1) (2019, 11, 2) (2019, 11, 3) (2019, 11, 4) (2019, 11, 5) (2019, 11, 6) (2019, 11, 7) (2019, 11, 8) (2019, 11, 9) (2019, 11, 10) (2019, 11, 11) (2019, 11, 12) (2019, 11, 13) (2019, 11, 14) (2019, 11, 15) (2019, 11, 16) (2019, 11, 17) (2019, 11, 18) (2019, 11, 19) (2019, 11, 20) (2019, 11, 21) (2019, 11, 22) (2019, 11, 23) (2019, 11, 24) (2019, 11, 25) (2019, 11, 26) (2019, 11, 27) (2019, 11, 28) (2019, 11, 29) (2019, 11, 30) (2019, 12, 1) "
     ]
    }
   ],
   "source": [
    "# itermonthdates3: devuelve días en forma de tuplas que constan de un año, un mes y un día de los números del mes. \n",
    "import calendar\n",
    "\n",
    "c = calendar.Calendar()\n",
    "\n",
    "for iter in c.itermonthdays3(2019,11):\n",
    "    print(iter, end = ' ')"
   ]
  },
  {
   "cell_type": "code",
   "execution_count": 579,
   "metadata": {},
   "outputs": [
    {
     "name": "stdout",
     "output_type": "stream",
     "text": [
      "(2019, 10, 28, 0) (2019, 10, 29, 1) (2019, 10, 30, 2) (2019, 10, 31, 3) (2019, 11, 1, 4) (2019, 11, 2, 5) (2019, 11, 3, 6) (2019, 11, 4, 0) (2019, 11, 5, 1) (2019, 11, 6, 2) (2019, 11, 7, 3) (2019, 11, 8, 4) (2019, 11, 9, 5) (2019, 11, 10, 6) (2019, 11, 11, 0) (2019, 11, 12, 1) (2019, 11, 13, 2) (2019, 11, 14, 3) (2019, 11, 15, 4) (2019, 11, 16, 5) (2019, 11, 17, 6) (2019, 11, 18, 0) (2019, 11, 19, 1) (2019, 11, 20, 2) (2019, 11, 21, 3) (2019, 11, 22, 4) (2019, 11, 23, 5) (2019, 11, 24, 6) (2019, 11, 25, 0) (2019, 11, 26, 1) (2019, 11, 27, 2) (2019, 11, 28, 3) (2019, 11, 29, 4) (2019, 11, 30, 5) (2019, 12, 1, 6) "
     ]
    }
   ],
   "source": [
    "# itermonthdates4: devuelve días en forma de tuplas que constan de números de año, mes, día del mes y día de la semana.\n",
    "import calendar\n",
    "\n",
    "c = calendar.Calendar()\n",
    "\n",
    "for iter in c.itermonthdays4(2019,11):\n",
    "    print(iter, end = ' ')"
   ]
  },
  {
   "cell_type": "code",
   "execution_count": 580,
   "metadata": {},
   "outputs": [
    {
     "name": "stdout",
     "output_type": "stream",
     "text": [
      "[(0, 0), (1, 1), (2, 2), (3, 3), (4, 4), (5, 5), (6, 6)]\n",
      "[(7, 0), (8, 1), (9, 2), (10, 3), (11, 4), (12, 5), (13, 6)]\n",
      "[(14, 0), (15, 1), (16, 2), (17, 3), (18, 4), (19, 5), (20, 6)]\n",
      "[(21, 0), (22, 1), (23, 2), (24, 3), (25, 4), (26, 5), (27, 6)]\n",
      "[(28, 0), (29, 1), (30, 2), (31, 3), (0, 4), (0, 5), (0, 6)]\n"
     ]
    }
   ],
   "source": [
    "'''  \n",
    "El método monthdays2calendar()\n",
    "La clase Calendar tiene varios otros métodos útiles sobre los que puedes obtener más\n",
    " información en la documentación (https://docs.python.org/3/library/calendar.html).\n",
    "\n",
    "Uno de ellos es el método monthdays2calendar, que toma el año y el mes, y luego \n",
    "devuelve una lista de semanas en un mes específico. Cada semana es una tupla que consta \n",
    "de números de días y números de días de la semana.   '''\n",
    "\n",
    "import calendar  \n",
    "\n",
    "c = calendar.Calendar()\n",
    "\n",
    "for data in c.monthdays2calendar(2020, 12):\n",
    "    print(data)\n"
   ]
  }
 ],
 "metadata": {
  "kernelspec": {
   "display_name": "Python 3",
   "language": "python",
   "name": "python3"
  },
  "language_info": {
   "codemirror_mode": {
    "name": "ipython",
    "version": 3
   },
   "file_extension": ".py",
   "mimetype": "text/x-python",
   "name": "python",
   "nbconvert_exporter": "python",
   "pygments_lexer": "ipython3",
   "version": "3.11.4"
  },
  "orig_nbformat": 4
 },
 "nbformat": 4,
 "nbformat_minor": 2
}
