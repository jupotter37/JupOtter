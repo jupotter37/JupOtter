{
 "cells": [
  {
   "cell_type": "markdown",
   "metadata": {},
   "source": [
    "## Error Exception Handling"
   ]
  },
  {
   "cell_type": "markdown",
   "metadata": {},
   "source": [
    "`try` and `except`"
   ]
  },
  {
   "cell_type": "code",
   "execution_count": 1,
   "metadata": {},
   "outputs": [
    {
     "ename": "FileNotFoundError",
     "evalue": "[Errno 2] No such file or directory: 'test.txt'",
     "output_type": "error",
     "traceback": [
      "\u001b[0;31m---------------------------------------------------------------------------\u001b[0m",
      "\u001b[0;31mFileNotFoundError\u001b[0m                         Traceback (most recent call last)",
      "\u001b[1;32mUntitled-1.ipynb Cell 2\u001b[0m line \u001b[0;36m1\n\u001b[0;32m----> <a href='vscode-notebook-cell:Untitled-1.ipynb?jupyter-notebook#W0sdW50aXRsZWQ%3D?line=0'>1</a>\u001b[0m f \u001b[39m=\u001b[39m \u001b[39mopen\u001b[39;49m(\u001b[39m'\u001b[39;49m\u001b[39mtest.txt\u001b[39;49m\u001b[39m'\u001b[39;49m)\n",
      "File \u001b[0;32m~/Library/Python/3.11/lib/python/site-packages/IPython/core/interactiveshell.py:284\u001b[0m, in \u001b[0;36m_modified_open\u001b[0;34m(file, *args, **kwargs)\u001b[0m\n\u001b[1;32m    277\u001b[0m \u001b[39mif\u001b[39;00m file \u001b[39min\u001b[39;00m {\u001b[39m0\u001b[39m, \u001b[39m1\u001b[39m, \u001b[39m2\u001b[39m}:\n\u001b[1;32m    278\u001b[0m     \u001b[39mraise\u001b[39;00m \u001b[39mValueError\u001b[39;00m(\n\u001b[1;32m    279\u001b[0m         \u001b[39mf\u001b[39m\u001b[39m\"\u001b[39m\u001b[39mIPython won\u001b[39m\u001b[39m'\u001b[39m\u001b[39mt let you open fd=\u001b[39m\u001b[39m{\u001b[39;00mfile\u001b[39m}\u001b[39;00m\u001b[39m by default \u001b[39m\u001b[39m\"\u001b[39m\n\u001b[1;32m    280\u001b[0m         \u001b[39m\"\u001b[39m\u001b[39mas it is likely to crash IPython. If you know what you are doing, \u001b[39m\u001b[39m\"\u001b[39m\n\u001b[1;32m    281\u001b[0m         \u001b[39m\"\u001b[39m\u001b[39myou can use builtins\u001b[39m\u001b[39m'\u001b[39m\u001b[39m open.\u001b[39m\u001b[39m\"\u001b[39m\n\u001b[1;32m    282\u001b[0m     )\n\u001b[0;32m--> 284\u001b[0m \u001b[39mreturn\u001b[39;00m io_open(file, \u001b[39m*\u001b[39;49margs, \u001b[39m*\u001b[39;49m\u001b[39m*\u001b[39;49mkwargs)\n",
      "\u001b[0;31mFileNotFoundError\u001b[0m: [Errno 2] No such file or directory: 'test.txt'"
     ]
    }
   ],
   "source": [
    "f = open('test.txt')"
   ]
  },
  {
   "cell_type": "code",
   "execution_count": 1,
   "metadata": {},
   "outputs": [
    {
     "ename": "ZeroDivisionError",
     "evalue": "division by zero",
     "output_type": "error",
     "traceback": [
      "\u001b[0;31m---------------------------------------------------------------------------\u001b[0m",
      "\u001b[0;31mZeroDivisionError\u001b[0m                         Traceback (most recent call last)",
      "Cell \u001b[0;32mIn[1], line 1\u001b[0m\n\u001b[0;32m----> 1\u001b[0m \u001b[38;5;241;43m400\u001b[39;49m\u001b[38;5;241;43m/\u001b[39;49m\u001b[38;5;241;43m0\u001b[39;49m\n",
      "\u001b[0;31mZeroDivisionError\u001b[0m: division by zero"
     ]
    }
   ],
   "source": [
    "400/0"
   ]
  },
  {
   "cell_type": "markdown",
   "metadata": {},
   "source": [
    "Error above is useful. We can make it more specific"
   ]
  },
  {
   "cell_type": "code",
   "execution_count": 2,
   "metadata": {},
   "outputs": [
    {
     "name": "stdout",
     "output_type": "stream",
     "text": [
      "Sorry. This file does not exist\n"
     ]
    }
   ],
   "source": [
    "try:\n",
    "    f = open('test.txt')\n",
    "except Exception: # for any error\n",
    "    print('Sorry. This file does not exist')"
   ]
  },
  {
   "cell_type": "markdown",
   "metadata": {},
   "source": [
    "- `try` and `except` locks handles showing errors that are easier to read and help troubleshoot\n",
    "- we get a custom error\n",
    "- The goal is not to just get around errors, but also errors we expect and handle them properly"
   ]
  },
  {
   "cell_type": "code",
   "execution_count": 4,
   "metadata": {},
   "outputs": [
    {
     "name": "stdout",
     "output_type": "stream",
     "text": [
      "File does not exist\n"
     ]
    }
   ],
   "source": [
    "try:\n",
    "  # This code may raise an exception\n",
    "  open(\"nonexistent_file.txt\", \"r\")\n",
    "except FileNotFoundError: #for a specific error\n",
    "  # Handle the exception\n",
    "  print(\"File does not exist\")"
   ]
  },
  {
   "cell_type": "code",
   "execution_count": 13,
   "metadata": {},
   "outputs": [
    {
     "data": {
      "text/plain": [
       "['ArithmeticError',\n",
       " 'AssertionError',\n",
       " 'AttributeError',\n",
       " 'BaseException',\n",
       " 'BaseExceptionGroup',\n",
       " 'BlockingIOError',\n",
       " 'BrokenPipeError',\n",
       " 'BufferError',\n",
       " 'BytesWarning',\n",
       " 'ChildProcessError',\n",
       " 'ConnectionAbortedError',\n",
       " 'ConnectionError',\n",
       " 'ConnectionRefusedError',\n",
       " 'ConnectionResetError',\n",
       " 'DeprecationWarning',\n",
       " 'EOFError',\n",
       " 'Ellipsis',\n",
       " 'EncodingWarning',\n",
       " 'EnvironmentError',\n",
       " 'Exception',\n",
       " 'ExceptionGroup',\n",
       " 'False',\n",
       " 'FileExistsError',\n",
       " 'FileNotFoundError',\n",
       " 'FloatingPointError',\n",
       " 'FutureWarning',\n",
       " 'GeneratorExit',\n",
       " 'IOError',\n",
       " 'ImportError',\n",
       " 'ImportWarning',\n",
       " 'IndentationError',\n",
       " 'IndexError',\n",
       " 'InterruptedError',\n",
       " 'IsADirectoryError',\n",
       " 'KeyError',\n",
       " 'KeyboardInterrupt',\n",
       " 'LookupError',\n",
       " 'MemoryError',\n",
       " 'ModuleNotFoundError',\n",
       " 'NameError',\n",
       " 'None',\n",
       " 'NotADirectoryError',\n",
       " 'NotImplemented',\n",
       " 'NotImplementedError',\n",
       " 'OSError',\n",
       " 'OverflowError',\n",
       " 'PendingDeprecationWarning',\n",
       " 'PermissionError',\n",
       " 'ProcessLookupError',\n",
       " 'RecursionError',\n",
       " 'ReferenceError',\n",
       " 'ResourceWarning',\n",
       " 'RuntimeError',\n",
       " 'RuntimeWarning',\n",
       " 'StopAsyncIteration',\n",
       " 'StopIteration',\n",
       " 'SyntaxError',\n",
       " 'SyntaxWarning',\n",
       " 'SystemError',\n",
       " 'SystemExit',\n",
       " 'TabError',\n",
       " 'TimeoutError',\n",
       " 'True',\n",
       " 'TypeError',\n",
       " 'UnboundLocalError',\n",
       " 'UnicodeDecodeError',\n",
       " 'UnicodeEncodeError',\n",
       " 'UnicodeError',\n",
       " 'UnicodeTranslateError',\n",
       " 'UnicodeWarning',\n",
       " 'UserWarning',\n",
       " 'ValueError',\n",
       " 'Warning',\n",
       " 'ZeroDivisionError',\n",
       " '__IPYTHON__',\n",
       " '__build_class__',\n",
       " '__debug__',\n",
       " '__doc__',\n",
       " '__import__',\n",
       " '__loader__',\n",
       " '__name__',\n",
       " '__package__',\n",
       " '__spec__',\n",
       " 'abs',\n",
       " 'aiter',\n",
       " 'all',\n",
       " 'anext',\n",
       " 'any',\n",
       " 'ascii',\n",
       " 'bin',\n",
       " 'bool',\n",
       " 'breakpoint',\n",
       " 'bytearray',\n",
       " 'bytes',\n",
       " 'callable',\n",
       " 'chr',\n",
       " 'classmethod',\n",
       " 'compile',\n",
       " 'complex',\n",
       " 'copyright',\n",
       " 'credits',\n",
       " 'delattr',\n",
       " 'dict',\n",
       " 'dir',\n",
       " 'display',\n",
       " 'divmod',\n",
       " 'enumerate',\n",
       " 'eval',\n",
       " 'exec',\n",
       " 'execfile',\n",
       " 'filter',\n",
       " 'float',\n",
       " 'format',\n",
       " 'frozenset',\n",
       " 'get_ipython',\n",
       " 'getattr',\n",
       " 'globals',\n",
       " 'hasattr',\n",
       " 'hash',\n",
       " 'help',\n",
       " 'hex',\n",
       " 'id',\n",
       " 'input',\n",
       " 'int',\n",
       " 'isinstance',\n",
       " 'issubclass',\n",
       " 'iter',\n",
       " 'len',\n",
       " 'license',\n",
       " 'list',\n",
       " 'locals',\n",
       " 'map',\n",
       " 'max',\n",
       " 'memoryview',\n",
       " 'min',\n",
       " 'next',\n",
       " 'object',\n",
       " 'oct',\n",
       " 'open',\n",
       " 'ord',\n",
       " 'pow',\n",
       " 'print',\n",
       " 'property',\n",
       " 'range',\n",
       " 'repr',\n",
       " 'reversed',\n",
       " 'round',\n",
       " 'runfile',\n",
       " 'set',\n",
       " 'setattr',\n",
       " 'slice',\n",
       " 'sorted',\n",
       " 'staticmethod',\n",
       " 'str',\n",
       " 'sum',\n",
       " 'super',\n",
       " 'tuple',\n",
       " 'type',\n",
       " 'vars',\n",
       " 'zip']"
      ]
     },
     "execution_count": 13,
     "metadata": {},
     "output_type": "execute_result"
    }
   ],
   "source": [
    "dir(locals()['__builtins__'])"
   ]
  },
  {
   "cell_type": "code",
   "execution_count": 1,
   "metadata": {},
   "outputs": [
    {
     "name": "stdout",
     "output_type": "stream",
     "text": [
      "Cannot divide by zero\n"
     ]
    }
   ],
   "source": [
    "# Example 2:\n",
    "try:\n",
    "  # This code may raise an exception\n",
    "  1 / 0\n",
    "except ZeroDivisionError:\n",
    "  # Handle the exception\n",
    "  print(\"Cannot divide by zero\")\n",
    "\n"
   ]
  },
  {
   "cell_type": "code",
   "execution_count": 2,
   "metadata": {},
   "outputs": [
    {
     "name": "stdout",
     "output_type": "stream",
     "text": [
      "Index out of range\n"
     ]
    }
   ],
   "source": [
    "# Example 3:\n",
    "try:\n",
    "  # This code may raise an exception\n",
    "  list_of_numbers = [1, 2, 3, 4, 5]\n",
    "  print(list_of_numbers[5])\n",
    "except IndexError:\n",
    "  # Handle the exception\n",
    "  print(\"Index out of range\")\n"
   ]
  },
  {
   "cell_type": "markdown",
   "metadata": {},
   "source": [
    "Handling a wrong input example:"
   ]
  },
  {
   "cell_type": "code",
   "execution_count": 1,
   "metadata": {},
   "outputs": [
    {
     "name": "stdout",
     "output_type": "stream",
     "text": [
      "Oops!  That was no valid number.  Try again...\n"
     ]
    }
   ],
   "source": [
    "while True:\n",
    "    try:\n",
    "        x = int(input(\"Please enter a number: \"))\n",
    "        break\n",
    "    except ValueError:\n",
    "        print(\"Oops!  That was no valid number.  Try again...\")"
   ]
  },
  {
   "cell_type": "code",
   "execution_count": null,
   "metadata": {},
   "outputs": [],
   "source": [
    "# more details with positive number condition\n",
    "while True:\n",
    "    try:\n",
    "        user_input = int(input(\"Please enter a number: \"))\n",
    "        # Check if the input meets your criteria\n",
    "        if user_input < 0:\n",
    "            raise ValueError(\"Please enter a positive number.\")\n",
    "        # If the input is valid, break out of the loop\n",
    "        break\n",
    "    except ValueError as e:\n",
    "        # Handle the case when the input is not a valid integer\n",
    "        print(\"Error:\", e)\n"
   ]
  },
  {
   "cell_type": "markdown",
   "metadata": {},
   "source": [
    "You can use a `try` block along with an `except` block to handle errors when using the `input()` function in Python. Here's how you can ensure that the user places the right input:\n",
    "\n",
    "\n",
    "In this example:\n",
    "\n",
    "- The `try` block attempts to execute the code inside it.\n",
    "- If the user enters something that can't be converted to an integer, a `ValueError` will be raised.\n",
    "- The `except` block catches this `ValueError` and prints an error message.\n",
    "- The loop continues until the user enters a valid input.\n",
    "\n",
    "You can adjust the condition inside the `if` statement to match your specific criteria for valid input."
   ]
  },
  {
   "cell_type": "markdown",
   "metadata": {},
   "source": [
    "## __Demo: Error Handling in Python__\n",
    "__Scenario:__\n",
    "\n",
    "We will create a program that asks the user to enter a file name. The program will try to open the file and read its contents and display them. If the file does not exist, the program will catch the error and inform the user that the file was not found. Regardless of whether the file was found or not, the program will always close the file at the end."
   ]
  },
  {
   "cell_type": "markdown",
   "metadata": {},
   "source": [
    "- __try__ block: Attempts to open the file and read it\n",
    "- __except FileNotFoundError:__ Catches the error when the file doesn't exist and handles it gracefully\n",
    "- __finally__ block: Ensures that the file is closed if it was opened or informs the user if the file was never opened\n"
   ]
  },
  {
   "cell_type": "code",
   "execution_count": null,
   "metadata": {},
   "outputs": [],
   "source": [
    "def file_demo():\n",
    "    try:\n",
    "        # Ask the user for the file name\n",
    "        file_name = input(\"Enter the file name: \")\n",
    "\n",
    "        # Try to open the file and read its content\n",
    "        file = open(file_name, 'r')\n",
    "        content = file.read()\n",
    "        print(\"File content:\")\n",
    "        print(content)\n",
    "\n",
    "    except FileNotFoundError:\n",
    "        # If the file is not found, this block runs\n",
    "        print(\"Error: File not found.\")\n",
    "\n",
    "    finally:\n",
    "        # This block runs regardless of whether an error occurred\n",
    "        print(\"Closing file if open.\")\n",
    "        try:\n",
    "            file.close()\n",
    "        except:\n",
    "            print(\"File was never opened.\")\n",
    "\n",
    "# Call the demo function\n",
    "file_demo()\n"
   ]
  },
  {
   "cell_type": "markdown",
   "metadata": {},
   "source": [
    "### __How to Use the Demo:__\n",
    "__Run the code__\n",
    "\n",
    "__Case 1:__ When the user inputs an existing file name (For example, example.txt):\n",
    "\n",
    "- The program will read and display the file's content.\n",
    "- The program will close the file successfully and print the message \"Closing file if open.\"\n",
    "\n",
    "__Case 2:__ When the user inputs a non-existent file name (For example, nonexistent.txt):\n",
    "\n",
    "- The program will catch the __FileNotFoundError__ and display \"Error: File not found.\"\n",
    "- The program will attempt to close the file, but since the file was never opened, the __finally__ block will handle that by printing \"File was never opened.\""
   ]
  },
  {
   "cell_type": "markdown",
   "metadata": {},
   "source": [
    "`getpass()`"
   ]
  },
  {
   "cell_type": "code",
   "execution_count": 4,
   "metadata": {},
   "outputs": [],
   "source": [
    "import getpass\n",
    "password = getpass.getpass(prompt='Enter your password: ')"
   ]
  },
  {
   "cell_type": "markdown",
   "metadata": {},
   "source": [
    "Data Dictionaries"
   ]
  },
  {
   "cell_type": "code",
   "execution_count": 5,
   "metadata": {},
   "outputs": [],
   "source": [
    "my_dict = {\"name\": \"Bard\"}"
   ]
  },
  {
   "cell_type": "code",
   "execution_count": 6,
   "metadata": {},
   "outputs": [
    {
     "name": "stdout",
     "output_type": "stream",
     "text": [
      "{'name': 'Bard', 'age': 30}\n"
     ]
    }
   ],
   "source": [
    "my_dict.update({\"age\": 30})\n",
    "\n",
    "print(my_dict)\n"
   ]
  },
  {
   "cell_type": "code",
   "execution_count": 7,
   "metadata": {},
   "outputs": [
    {
     "name": "stdout",
     "output_type": "stream",
     "text": [
      "{'name': 'Bard', 'age': 30}\n"
     ]
    }
   ],
   "source": [
    "my_dict = {\"name\": \"Bard\"}\n",
    "my_dict[\"age\"] = 30\n",
    "\n",
    "print(my_dict)\n"
   ]
  },
  {
   "cell_type": "code",
   "execution_count": 12,
   "metadata": {},
   "outputs": [],
   "source": [
    "# Create a demo catalogue of products\n",
    "cars = [\n",
    "    {'id': 12, 'brand': 'Ford'},\n",
    "    {'id': 23, 'name': 'Toyota'},\n",
    "    {'id': 36, 'name': 'BMW'},\n",
    "    {'id': 48, 'name': 'Lexus'}\n",
    "]\n"
   ]
  },
  {
   "cell_type": "code",
   "execution_count": 13,
   "metadata": {},
   "outputs": [
    {
     "data": {
      "text/plain": [
       "{'id': 23, 'name': 'Toyota'}"
      ]
     },
     "execution_count": 13,
     "metadata": {},
     "output_type": "execute_result"
    }
   ],
   "source": [
    "item_id = 23\n",
    "product = [p for p in cars if p['id'] == item_id][0]\n",
    "product"
   ]
  },
  {
   "cell_type": "markdown",
   "metadata": {},
   "source": [
    "`Datetime`"
   ]
  },
  {
   "cell_type": "code",
   "execution_count": 14,
   "metadata": {},
   "outputs": [
    {
     "name": "stdout",
     "output_type": "stream",
     "text": [
      "2023-10-23 20:54:25.103625\n"
     ]
    }
   ],
   "source": [
    "# get current date and time\n",
    "import datetime\n",
    "\n",
    "now = datetime.datetime.now()\n",
    "\n",
    "print(now)\n"
   ]
  },
  {
   "cell_type": "code",
   "execution_count": 24,
   "metadata": {},
   "outputs": [
    {
     "name": "stdout",
     "output_type": "stream",
     "text": [
      "2023-10-24 00:00:00\n"
     ]
    }
   ],
   "source": [
    "#Example 2: Create a datetime object for a specific date and time:\n",
    "\n",
    "import datetime\n",
    "\n",
    "date_time = datetime.datetime(2023, 10, 24)\n",
    "\n",
    "print(date_time)\n"
   ]
  },
  {
   "cell_type": "code",
   "execution_count": 25,
   "metadata": {},
   "outputs": [
    {
     "name": "stdout",
     "output_type": "stream",
     "text": [
      "2023-10-24 12:00:00\n"
     ]
    }
   ],
   "source": [
    "# you can specify the timestamp too\n",
    "date_time = datetime.datetime(2023, 10, 24, 12, 0, 0)\n",
    "\n",
    "print(date_time)\n"
   ]
  },
  {
   "cell_type": "code",
   "execution_count": 16,
   "metadata": {},
   "outputs": [
    {
     "name": "stdout",
     "output_type": "stream",
     "text": [
      "Year: 2023\n",
      "Month: 10\n",
      "Day: 23\n",
      "Hour: 20\n",
      "Minute: 54\n",
      "Second: 57\n"
     ]
    }
   ],
   "source": [
    "# Example 3: Get the year, month, day, hour, minute, and second from a datetime object:\n",
    "\n",
    "\n",
    "import datetime\n",
    "\n",
    "now = datetime.datetime.now()\n",
    "\n",
    "year = now.year\n",
    "month = now.month\n",
    "day = now.day\n",
    "hour = now.hour\n",
    "minute = now.minute\n",
    "second = now.second\n",
    "\n",
    "print(f'Year: {year}')\n",
    "print(f'Month: {month}')\n",
    "print(f'Day: {day}')\n",
    "print(f'Hour: {hour}')\n",
    "print(f'Minute: {minute}')\n",
    "print(f'Second: {second}')\n"
   ]
  },
  {
   "cell_type": "code",
   "execution_count": 18,
   "metadata": {},
   "outputs": [
    {
     "name": "stdout",
     "output_type": "stream",
     "text": [
      "Tomorrow: 2023-10-24 20:55:40.147724\n",
      "Two hours ago: 2023-10-23 18:55:40.147724\n"
     ]
    }
   ],
   "source": [
    "#Example 4: Add or subtract days, hours, minutes, and seconds from a datetime object:\n",
    "\n",
    "import datetime\n",
    "\n",
    "now = datetime.datetime.now()\n",
    "\n",
    "# Add 1 day to the current date and time\n",
    "one_day = datetime.timedelta(days=1)\n",
    "tomorrow = now + one_day\n",
    "\n",
    "# Subtract 2 hours from the current date and time\n",
    "two_hours = datetime.timedelta(hours=2)\n",
    "two_hours_ago = now - two_hours\n",
    "\n",
    "print(f'Tomorrow: {tomorrow}')\n",
    "print(f'Two hours ago: {two_hours_ago}')\n"
   ]
  },
  {
   "cell_type": "code",
   "execution_count": 19,
   "metadata": {},
   "outputs": [
    {
     "name": "stdout",
     "output_type": "stream",
     "text": [
      "2023-10-23\n"
     ]
    }
   ],
   "source": [
    "#Example 5: Convert a datetime object to a string:\n",
    "\n",
    "\n",
    "import datetime\n",
    "\n",
    "now = datetime.datetime.now()\n",
    "\n",
    "# Convert the datetime object to a string in the format 'YYYY-MM-DD HH:MM:SS'\n",
    "string_representation = now.strftime('%Y-%m-%d %H:%M:%S')\n",
    "\n",
    "print(string_representation)\n"
   ]
  },
  {
   "cell_type": "code",
   "execution_count": 21,
   "metadata": {},
   "outputs": [
    {
     "name": "stdout",
     "output_type": "stream",
     "text": [
      "2023-10-23\n"
     ]
    }
   ],
   "source": [
    "# just the date\n",
    "string_representation = now.strftime('%Y-%m-%d')\n",
    "\n",
    "print(string_representation)"
   ]
  },
  {
   "cell_type": "markdown",
   "metadata": {},
   "source": [
    "## List Comprehensions"
   ]
  },
  {
   "cell_type": "code",
   "execution_count": 1,
   "metadata": {},
   "outputs": [
    {
     "data": {
      "text/plain": [
       "[1, 4, 9, 16, 25]"
      ]
     },
     "execution_count": 1,
     "metadata": {},
     "output_type": "execute_result"
    }
   ],
   "source": [
    "squares = [x**2 for x in range(1, 6)]  # [1, 4, 9, 16, 25]\n",
    "squares"
   ]
  },
  {
   "cell_type": "code",
   "execution_count": 2,
   "metadata": {},
   "outputs": [
    {
     "data": {
      "text/plain": [
       "[2, 4, 6, 8, 10]"
      ]
     },
     "execution_count": 2,
     "metadata": {},
     "output_type": "execute_result"
    }
   ],
   "source": [
    "even_numbers = [x for x in range(1, 11) if x % 2 == 0] \n",
    "even_numbers"
   ]
  },
  {
   "cell_type": "markdown",
   "metadata": {},
   "source": [
    "Sure, here are some advanced examples of list comprehensions in Python:\n",
    "\n",
    "1. **Nested List Comprehension**:\n",
    "You can create nested lists using a nested list comprehension. This is useful when you need to perform operations on two or more iterables.\n",
    "\n",
    "```python\n",
    "matrix = [[j for j in range(5)] for i in range(3)]\n",
    "print(matrix)\n",
    "# Output: [[0, 1, 2, 3, 4], [0, 1, 2, 3, 4], [0, 1, 2, 3, 4]]\n",
    "```\n",
    "\n",
    "2. **Conditional List Comprehension with Multiple Conditions**:\n",
    "You can apply multiple conditions in a list comprehension using logical operators like `and` and `or`.\n",
    "\n",
    "```python\n",
    "numbers = [x for x in range(1, 21) if x % 2 == 0 and x % 3 != 0]\n",
    "print(numbers)\n",
    "# Output: [2, 4, 8, 10, 14, 16, 20]\n",
    "```\n",
    "\n",
    "3. **List Comprehension with Complex Expressions**:\n",
    "List comprehensions can include complex expressions involving functions, lambda functions, and other operations.\n",
    "\n",
    "```python\n",
    "import math\n",
    "\n",
    "numbers = [x if x % 2 == 0 else x**2 for x in range(1, 11)]\n",
    "print(numbers)\n",
    "# Output: [1, 4, 9, 16, 25, 36, 49, 64, 81, 100]\n",
    "\n",
    "circles = [math.pi * r**2 for r in range(1, 6)]\n",
    "print(circles)\n",
    "# Output: [3.141592653589793, 12.566370614359172, 28.274333882308138, 50.26548245743669, 78.53981633974483]\n",
    "```\n",
    "\n",
    "4. **List Comprehension with Conditional Expression**:\n",
    "You can use a conditional expression (ternary operator) inside a list comprehension to apply different operations based on a condition.\n",
    "\n",
    "```python\n",
    "numbers = [-5, -4, -3, -2, -1, 0, 1, 2, 3, 4, 5]\n",
    "positive_squares = [x**2 if x > 0 else 0 for x in numbers]\n",
    "print(positive_squares)\n",
    "# Output: [0, 0, 0, 0, 0, 0, 1, 4, 9, 16, 25]\n",
    "```\n",
    "\n",
    "5. **List Comprehension with `zip` and `enumerate`**:\n",
    "You can use the `zip` function to combine multiple iterables or the `enumerate` function to get the index and value of each item in an iterable.\n",
    "\n",
    "```python\n",
    "names = ['Alice', 'Bob', 'Charlie']\n",
    "ages = [25, 30, 35]\n",
    "people = [f\"{name} ({age})\" for name, age in zip(names, ages)]\n",
    "print(people)\n",
    "# Output: ['Alice (25)', 'Bob (30)', 'Charlie (35)']\n",
    "\n",
    "fruits = ['apple', 'banana', 'cherry']\n",
    "enumerated_fruits = [(i, fruit) for i, fruit in enumerate(fruits)]\n",
    "print(enumerated_fruits)\n",
    "# Output: [(0, 'apple'), (1, 'banana'), (2, 'cherry')]\n",
    "```\n",
    "\n",
    "6. **List Comprehension with Generators and Functions**:\n",
    "List comprehensions can work with generators and user-defined functions to create more complex expressions.\n",
    "\n",
    "```python\n",
    "def is_prime(n):\n",
    "    if n < 2:\n",
    "        return False\n",
    "    for i in range(2, int(n**0.5) + 1):\n",
    "        if n % i == 0:\n",
    "            return False\n",
    "    return True\n",
    "\n",
    "primes = [x for x in range(1, 101) if is_prime(x)]\n",
    "print(primes)\n",
    "# Output: [2, 3, 5, 7, 11, 13, 17, 19, 23, 29, 31, 37, 41, 43, 47, 53, 59, 61, 67, 71, 73, 79, 83, 89, 97]\n",
    "```\n",
    "\n",
    "These examples demonstrate the power and flexibility of list comprehensions in Python. They can be used to perform complex operations, apply multiple conditions, and work with various data structures and functions, making your code more concise and readable."
   ]
  },
  {
   "cell_type": "code",
   "execution_count": null,
   "metadata": {},
   "outputs": [],
   "source": []
  }
 ],
 "metadata": {
  "kernelspec": {
   "display_name": "Python 3",
   "language": "python",
   "name": "python3"
  },
  "language_info": {
   "codemirror_mode": {
    "name": "ipython",
    "version": 3
   },
   "file_extension": ".py",
   "mimetype": "text/x-python",
   "name": "python",
   "nbconvert_exporter": "python",
   "pygments_lexer": "ipython3",
   "version": "3.11.3"
  },
  "orig_nbformat": 4
 },
 "nbformat": 4,
 "nbformat_minor": 2
}
