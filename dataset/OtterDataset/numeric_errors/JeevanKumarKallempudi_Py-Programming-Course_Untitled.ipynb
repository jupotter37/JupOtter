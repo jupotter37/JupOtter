{
 "cells": [
  {
   "cell_type": "markdown",
   "id": "d300099f-ffab-4dd8-9f7a-a5e02d4d5597",
   "metadata": {},
   "source": [
    "### Errors & Built-in-Exceptions\n",
    "###### -> When we write code a lot time, python interpreter throws an error. There can be different reasons for the exceptions caused.\n",
    "###### ->  Errors refers to the Syntax errors\n",
    "###### -> Errors detected during the execution are called exceptions."
   ]
  },
  {
   "attachments": {},
   "cell_type": "markdown",
   "id": "f95c4d59-e7a8-4e1b-8647-4a91e1d39bff",
   "metadata": {},
   "source": [
    "### Examples of Errors\n",
    "###### -> Syntax Error\n",
    "###### -> Name Error\n",
    "###### -> Value Error\n",
    "###### -> ModuleNotFound Error\n",
    "###### -> ZeroDivison Error\n",
    "###### -> FileNotFound Error etc..."
   ]
  },
  {
   "cell_type": "code",
   "execution_count": 1,
   "id": "b37ff6bb-df68-42d2-95e7-1622d75f611b",
   "metadata": {},
   "outputs": [
    {
     "ename": "NameError",
     "evalue": "name 'a' is not defined",
     "output_type": "error",
     "traceback": [
      "\u001b[1;31m---------------------------------------------------------------------------\u001b[0m",
      "\u001b[1;31mNameError\u001b[0m                                 Traceback (most recent call last)",
      "Cell \u001b[1;32mIn[1], line 1\u001b[0m\n\u001b[1;32m----> 1\u001b[0m \u001b[38;5;28mprint\u001b[39m(\u001b[43ma\u001b[49m)\n",
      "\u001b[1;31mNameError\u001b[0m: name 'a' is not defined"
     ]
    }
   ],
   "source": [
    "print(a)"
   ]
  },
  {
   "cell_type": "code",
   "execution_count": 2,
   "id": "fc8166e7-20dc-40fb-9ec0-51377702a7ce",
   "metadata": {},
   "outputs": [
    {
     "ename": "SyntaxError",
     "evalue": "incomplete input (2090848999.py, line 1)",
     "output_type": "error",
     "traceback": [
      "\u001b[1;36m  Cell \u001b[1;32mIn[2], line 1\u001b[1;36m\u001b[0m\n\u001b[1;33m    if (5 > 3):\u001b[0m\n\u001b[1;37m               ^\u001b[0m\n\u001b[1;31mSyntaxError\u001b[0m\u001b[1;31m:\u001b[0m incomplete input\n"
     ]
    }
   ],
   "source": [
    "if (5 > 3):"
   ]
  },
  {
   "cell_type": "code",
   "execution_count": 3,
   "id": "d0d0d92c-4c83-4f29-a0e2-3346881f83d8",
   "metadata": {},
   "outputs": [],
   "source": [
    "if (5 > 3):\n",
    "    pass"
   ]
  },
  {
   "cell_type": "code",
   "execution_count": 5,
   "id": "da0d41c3-5497-4854-b712-623782917951",
   "metadata": {},
   "outputs": [
    {
     "ename": "ModuleNotFoundError",
     "evalue": "No module named 'dontknow'",
     "output_type": "error",
     "traceback": [
      "\u001b[1;31m---------------------------------------------------------------------------\u001b[0m",
      "\u001b[1;31mModuleNotFoundError\u001b[0m                       Traceback (most recent call last)",
      "Cell \u001b[1;32mIn[5], line 1\u001b[0m\n\u001b[1;32m----> 1\u001b[0m \u001b[38;5;28;01mimport\u001b[39;00m \u001b[38;5;21;01mdontknow\u001b[39;00m\n",
      "\u001b[1;31mModuleNotFoundError\u001b[0m: No module named 'dontknow'"
     ]
    }
   ],
   "source": [
    "import dontknow"
   ]
  },
  {
   "cell_type": "code",
   "execution_count": 6,
   "id": "12efda2a-d29a-479e-9bec-34503084c49d",
   "metadata": {},
   "outputs": [
    {
     "ename": "AttributeError",
     "evalue": "'str' object has no attribute 'sort'",
     "output_type": "error",
     "traceback": [
      "\u001b[1;31m---------------------------------------------------------------------------\u001b[0m",
      "\u001b[1;31mAttributeError\u001b[0m                            Traceback (most recent call last)",
      "Cell \u001b[1;32mIn[6], line 1\u001b[0m\n\u001b[1;32m----> 1\u001b[0m \u001b[38;5;124;43m\"\u001b[39;49m\u001b[38;5;124;43mJeevanK\u001b[39;49m\u001b[38;5;124;43m\"\u001b[39;49m\u001b[38;5;241;43m.\u001b[39;49m\u001b[43msort\u001b[49m()\n",
      "\u001b[1;31mAttributeError\u001b[0m: 'str' object has no attribute 'sort'"
     ]
    }
   ],
   "source": [
    "\"JeevanK\".sort()"
   ]
  },
  {
   "cell_type": "code",
   "execution_count": 7,
   "id": "b9c954d0-337f-4f27-93f4-372a7048e040",
   "metadata": {},
   "outputs": [
    {
     "ename": "TypeError",
     "evalue": "can only concatenate str (not \"int\") to str",
     "output_type": "error",
     "traceback": [
      "\u001b[1;31m---------------------------------------------------------------------------\u001b[0m",
      "\u001b[1;31mTypeError\u001b[0m                                 Traceback (most recent call last)",
      "Cell \u001b[1;32mIn[7], line 1\u001b[0m\n\u001b[1;32m----> 1\u001b[0m \u001b[38;5;124;43m\"\u001b[39;49m\u001b[38;5;124;43mHello\u001b[39;49m\u001b[38;5;124;43m\"\u001b[39;49m\u001b[43m \u001b[49m\u001b[38;5;241;43m+\u001b[39;49m\u001b[43m \u001b[49m\u001b[38;5;241;43m1\u001b[39;49m\n",
      "\u001b[1;31mTypeError\u001b[0m: can only concatenate str (not \"int\") to str"
     ]
    }
   ],
   "source": [
    "\"Hello\" + 1"
   ]
  },
  {
   "cell_type": "markdown",
   "id": "76b64bd0-11ee-4bb3-8679-faba13b44de1",
   "metadata": {},
   "source": [
    "##### - Whenever these error occur, Python creates an exception object.\n",
    "##### - As a programmer, our task is to handle these exceptions appropriately."
   ]
  },
  {
   "cell_type": "code",
   "execution_count": 8,
   "id": "7dd63100-e2d7-4dca-b179-9b9a385f8ca3",
   "metadata": {},
   "outputs": [
    {
     "name": "stdout",
     "output_type": "stream",
     "text": [
      "['ArithmeticError', 'AssertionError', 'AttributeError', 'BaseException', 'BaseExceptionGroup', 'BlockingIOError', 'BrokenPipeError', 'BufferError', 'BytesWarning', 'ChildProcessError', 'ConnectionAbortedError', 'ConnectionError', 'ConnectionRefusedError', 'ConnectionResetError', 'DeprecationWarning', 'EOFError', 'Ellipsis', 'EncodingWarning', 'EnvironmentError', 'Exception', 'ExceptionGroup', 'False', 'FileExistsError', 'FileNotFoundError', 'FloatingPointError', 'FutureWarning', 'GeneratorExit', 'IOError', 'ImportError', 'ImportWarning', 'IndentationError', 'IndexError', 'InterruptedError', 'IsADirectoryError', 'KeyError', 'KeyboardInterrupt', 'LookupError', 'MemoryError', 'ModuleNotFoundError', 'NameError', 'None', 'NotADirectoryError', 'NotImplemented', 'NotImplementedError', 'OSError', 'OverflowError', 'PendingDeprecationWarning', 'PermissionError', 'ProcessLookupError', 'RecursionError', 'ReferenceError', 'ResourceWarning', 'RuntimeError', 'RuntimeWarning', 'StopAsyncIteration', 'StopIteration', 'SyntaxError', 'SyntaxWarning', 'SystemError', 'SystemExit', 'TabError', 'TimeoutError', 'True', 'TypeError', 'UnboundLocalError', 'UnicodeDecodeError', 'UnicodeEncodeError', 'UnicodeError', 'UnicodeTranslateError', 'UnicodeWarning', 'UserWarning', 'ValueError', 'Warning', 'WindowsError', 'ZeroDivisionError', '__IPYTHON__', '__build_class__', '__debug__', '__doc__', '__import__', '__loader__', '__name__', '__package__', '__spec__', 'abs', 'aiter', 'all', 'anext', 'any', 'ascii', 'bin', 'bool', 'breakpoint', 'bytearray', 'bytes', 'callable', 'chr', 'classmethod', 'compile', 'complex', 'copyright', 'credits', 'delattr', 'dict', 'dir', 'display', 'divmod', 'enumerate', 'eval', 'exec', 'execfile', 'filter', 'float', 'format', 'frozenset', 'get_ipython', 'getattr', 'globals', 'hasattr', 'hash', 'help', 'hex', 'id', 'input', 'int', 'isinstance', 'issubclass', 'iter', 'len', 'license', 'list', 'locals', 'map', 'max', 'memoryview', 'min', 'next', 'object', 'oct', 'open', 'ord', 'pow', 'print', 'property', 'range', 'repr', 'reversed', 'round', 'runfile', 'set', 'setattr', 'slice', 'sorted', 'staticmethod', 'str', 'sum', 'super', 'tuple', 'type', 'vars', 'zip']\n"
     ]
    }
   ],
   "source": [
    "print(dir(__builtins__))"
   ]
  },
  {
   "cell_type": "code",
   "execution_count": null,
   "id": "35d5387f-93f0-4286-8ecb-fd42bae75330",
   "metadata": {},
   "outputs": [],
   "source": []
  },
  {
   "cell_type": "markdown",
   "id": "c41fb90a-6093-4381-ba6b-ac2d17b374b3",
   "metadata": {},
   "source": [
    "### Try - Except\n",
    "###### -> whenever an exception occur, it makes our program crash if not handled properly.\n",
    "###### -> To avoid this issue, we use Try block. The suspected line that can throw any error, we put inside try block.\n",
    "###### -> Except Block will help to receive the program flow if any line inside try-block throws an error."
   ]
  },
  {
   "cell_type": "code",
   "execution_count": 11,
   "id": "b4d900ef-6d6a-4c67-b9d1-11f67eeb6b8f",
   "metadata": {},
   "outputs": [
    {
     "name": "stdout",
     "output_type": "stream",
     "text": [
      "Current ele :  2\n",
      "Result :  2.5\n",
      "Current ele :  0\n"
     ]
    },
    {
     "ename": "ZeroDivisionError",
     "evalue": "division by zero",
     "output_type": "error",
     "traceback": [
      "\u001b[1;31m---------------------------------------------------------------------------\u001b[0m",
      "\u001b[1;31mZeroDivisionError\u001b[0m                         Traceback (most recent call last)",
      "Cell \u001b[1;32mIn[11], line 4\u001b[0m\n\u001b[0;32m      2\u001b[0m \u001b[38;5;28;01mfor\u001b[39;00m ele \u001b[38;5;129;01min\u001b[39;00m lst:\n\u001b[0;32m      3\u001b[0m         \u001b[38;5;28mprint\u001b[39m(\u001b[38;5;124m\"\u001b[39m\u001b[38;5;124mCurrent ele : \u001b[39m\u001b[38;5;124m\"\u001b[39m, ele)\n\u001b[1;32m----> 4\u001b[0m         res \u001b[38;5;241m=\u001b[39m \u001b[38;5;241;43m5\u001b[39;49m\u001b[38;5;241;43m/\u001b[39;49m\u001b[38;5;28;43mint\u001b[39;49m\u001b[43m(\u001b[49m\u001b[43mele\u001b[49m\u001b[43m)\u001b[49m\n\u001b[0;32m      5\u001b[0m         \u001b[38;5;28mprint\u001b[39m(\u001b[38;5;124m\"\u001b[39m\u001b[38;5;124mResult : \u001b[39m\u001b[38;5;124m\"\u001b[39m, res)\n",
      "\u001b[1;31mZeroDivisionError\u001b[0m: division by zero"
     ]
    }
   ],
   "source": [
    "lst = [2, 0, 'Hello', None]\n",
    "for ele in lst:\n",
    "        print(\"Current ele : \", ele)\n",
    "        res = 5/int(ele)\n",
    "        print(\"Result : \", res)"
   ]
  },
  {
   "cell_type": "code",
   "execution_count": 13,
   "id": "5c599ca4-03d2-4ffc-882f-87d3cf523973",
   "metadata": {},
   "outputs": [
    {
     "name": "stdout",
     "output_type": "stream",
     "text": [
      "Current ele :  2\n",
      "Result :  2.5\n",
      "Current ele :  0\n",
      "Current ele :  Hello\n",
      "Current ele :  None\n",
      "Current ele :  3.0\n",
      "Result :  1.6666666666666667\n"
     ]
    }
   ],
   "source": [
    "lst = [2, 0, 'Hello', None, 3.0]\n",
    "for ele in lst:\n",
    "    try:\n",
    "        print(\"Current ele : \", ele)\n",
    "        res = 5/int(ele)\n",
    "        print(\"Result : \", res)\n",
    "    except:\n",
    "        pass"
   ]
  },
  {
   "cell_type": "markdown",
   "id": "2c5ec5a7-7366-4643-a490-ea0a2d02924a",
   "metadata": {},
   "source": [
    "### Except Block"
   ]
  },
  {
   "cell_type": "code",
   "execution_count": 14,
   "id": "cdf3cc85-9517-44ba-a4b4-3506027ff853",
   "metadata": {},
   "outputs": [
    {
     "name": "stdout",
     "output_type": "stream",
     "text": [
      "Current ele :  2\n",
      "Result :  2.5\n",
      "Current ele :  0\n",
      "Error Occured\n",
      "Current ele :  Hello\n",
      "Error Occured\n",
      "Current ele :  None\n",
      "Error Occured\n",
      "Current ele :  3.0\n",
      "Result :  1.6666666666666667\n"
     ]
    }
   ],
   "source": [
    "lst = [2, 0, 'Hello', None, 3.0]\n",
    "for ele in lst:\n",
    "    try:\n",
    "        print(\"Current ele : \", ele)\n",
    "        res = 5/int(ele)\n",
    "        print(\"Result : \", res)\n",
    "    except:\n",
    "        print(\"Error Occured\")"
   ]
  },
  {
   "cell_type": "code",
   "execution_count": 21,
   "id": "8196e963-7189-48b3-8479-a456cb877764",
   "metadata": {},
   "outputs": [],
   "source": [
    "import sys"
   ]
  },
  {
   "cell_type": "code",
   "execution_count": 23,
   "id": "bb38ad71-d9cc-47a5-8a87-f249ebc020c7",
   "metadata": {},
   "outputs": [
    {
     "name": "stdout",
     "output_type": "stream",
     "text": [
      "Current ele :  2\n",
      "Result :  2.5\n",
      "--------------------------------------------------\n",
      "Current ele :  0\n",
      "Error Occured :  division by zero\n",
      "<class 'ZeroDivisionError'>\n",
      "--------------------------------------------------\n",
      "Current ele :  Hello\n",
      "Error Occured :  invalid literal for int() with base 10: 'Hello'\n",
      "<class 'ValueError'>\n",
      "--------------------------------------------------\n",
      "Current ele :  None\n",
      "Error Occured :  int() argument must be a string, a bytes-like object or a real number, not 'NoneType'\n",
      "<class 'TypeError'>\n",
      "--------------------------------------------------\n"
     ]
    }
   ],
   "source": [
    "lst = [2, 0, 'Hello', None]\n",
    "for ele in lst:\n",
    "    try:\n",
    "        print(\"Current ele : \", ele)\n",
    "        res = 5/int(ele)\n",
    "        print(\"Result : \", res)\n",
    "    except Exception as e:\n",
    "        print(\"Error Occured : \", e)\n",
    "        print( sys.exc_info()[0])\n",
    "    print(\"-\"*50)"
   ]
  },
  {
   "cell_type": "code",
   "execution_count": null,
   "id": "a582ef9d-56f3-461c-8464-232fcac42cf8",
   "metadata": {},
   "outputs": [],
   "source": []
  },
  {
   "cell_type": "markdown",
   "id": "26714a65-2a2f-4baf-8229-2e504ee42d29",
   "metadata": {},
   "source": [
    "### Catching Specific Errors.\n",
    "###### - sometimes programmers needs to give a proper message for the error caused why exactly error happend.\n",
    "###### - In above exammple, error happend due to different reasons in each case.\n",
    "###### - So, we can write different except blocks to catch different types of errors."
   ]
  },
  {
   "cell_type": "code",
   "execution_count": 25,
   "id": "28839809-86bd-40d2-a016-fe0ea4195a08",
   "metadata": {},
   "outputs": [
    {
     "name": "stdout",
     "output_type": "stream",
     "text": [
      "Current ele :  2\n",
      "Result :  2.5\n",
      "--------------------------------------------------\n",
      "Current ele :  0\n",
      "Don't divide by Zero: division by zero\n",
      "--------------------------------------------------\n",
      "Current ele :  Hello\n",
      "valueError Occured: invalid literal for int() with base 10: 'Hello'\n",
      "--------------------------------------------------\n",
      "Current ele :  None\n",
      "Error Occured :  int() argument must be a string, a bytes-like object or a real number, not 'NoneType'\n",
      "<class 'TypeError'>\n",
      "--------------------------------------------------\n"
     ]
    }
   ],
   "source": [
    "lst = [2, 0, 'Hello', None]\n",
    "for ele in lst:\n",
    "    try:\n",
    "        print(\"Current ele : \", ele)\n",
    "        res = 5/int(ele)\n",
    "        print(\"Result : \", res)\n",
    "    except ValueError as ve:\n",
    "        print(\"valueError Occured:\", ve)\n",
    "    except ZeroDivisionError as ze:\n",
    "        print(\"Don't divide by Zero:\", ze)\n",
    "    except Exception as e:\n",
    "        print(\"Error Occured : \", e)\n",
    "        print( sys.exc_info()[0])\n",
    "    print(\"-\"*50)"
   ]
  },
  {
   "cell_type": "markdown",
   "id": "090f1746-56be-4dbe-a7a3-fb469b1f0360",
   "metadata": {},
   "source": [
    "### Finally\n",
    "##### -> Finally block is executed everytime, no matter error occured or not.\n",
    "##### -> This can be used to release the allocated resources.\n",
    "##### -> e.g. closing a file, or closing a db connection"
   ]
  },
  {
   "cell_type": "code",
   "execution_count": 30,
   "id": "cbcd5c24-aa6a-4270-b7b1-4f70e95f6f20",
   "metadata": {},
   "outputs": [],
   "source": [
    "try:\n",
    "    5/2\n",
    "except Exception as e:\n",
    "    print(\"Error : \", e)"
   ]
  },
  {
   "cell_type": "code",
   "execution_count": 37,
   "id": "ec477d6e-b73e-4b27-a777-28d49e794964",
   "metadata": {},
   "outputs": [
    {
     "name": "stdout",
     "output_type": "stream",
     "text": [
      "5.0\n",
      "Executes Always\n"
     ]
    }
   ],
   "source": [
    "try:\n",
    "    ans = 5/1\n",
    "    print(ans)\n",
    "except Exception as e:\n",
    "    print(\"Error : \", e)\n",
    "finally:\n",
    "    print(\"Executes Always\")"
   ]
  },
  {
   "cell_type": "markdown",
   "id": "bbb687f7-9036-4ee0-b552-7c95611a7908",
   "metadata": {},
   "source": [
    "### Raising Exception\n",
    "###### -> programmers can create new exceptions whenever code doesn't work in a usual way.\n",
    "###### -> raise keyword is used to raise an Exception"
   ]
  },
  {
   "cell_type": "code",
   "execution_count": 40,
   "id": "28bf726d-f53d-461c-8d7f-5d60f67a7725",
   "metadata": {},
   "outputs": [
    {
     "ename": "Exception",
     "evalue": "Error",
     "output_type": "error",
     "traceback": [
      "\u001b[1;31m---------------------------------------------------------------------------\u001b[0m",
      "\u001b[1;31mException\u001b[0m                                 Traceback (most recent call last)",
      "Cell \u001b[1;32mIn[40], line 1\u001b[0m\n\u001b[1;32m----> 1\u001b[0m \u001b[38;5;28;01mraise\u001b[39;00m \u001b[38;5;167;01mException\u001b[39;00m (\u001b[38;5;124m\"\u001b[39m\u001b[38;5;124mError\u001b[39m\u001b[38;5;124m\"\u001b[39m)\n\u001b[0;32m      2\u001b[0m \u001b[38;5;28mprint\u001b[39m(\u001b[38;5;124m\"\u001b[39m\u001b[38;5;124m100 Line Code\u001b[39m\u001b[38;5;124m\"\u001b[39m)\n",
      "\u001b[1;31mException\u001b[0m: Error"
     ]
    }
   ],
   "source": [
    "raise Exception (\"Error\")\n",
    "print(\"100 Line Code\")"
   ]
  },
  {
   "cell_type": "code",
   "execution_count": 44,
   "id": "7d78a750-9e2c-4dba-9b39-0d0c9b970254",
   "metadata": {},
   "outputs": [
    {
     "name": "stdin",
     "output_type": "stream",
     "text": [
      "Enter Your Name : abc\n"
     ]
    },
    {
     "name": "stdout",
     "output_type": "stream",
     "text": [
      "Error occured : Name can not be less than 4 Characters.\n",
      "<class 'ValueError'>\n",
      "More Code\n"
     ]
    }
   ],
   "source": [
    "try:\n",
    "    name = input(\"Enter Your Name :\")\n",
    "    if len(name) < 4:\n",
    "        raise ValueError(\"Name can not be less than 4 Characters.\")\n",
    "    print(\"Hello\", name)\n",
    "except Exception as e:\n",
    "    print(\"Error occured :\", e)\n",
    "    print(sys.exc_info()[0])\n",
    "print(\"More Code\")"
   ]
  },
  {
   "cell_type": "code",
   "execution_count": null,
   "id": "4ba1b1c6-2d3a-4582-b393-da2acf5f79ce",
   "metadata": {},
   "outputs": [],
   "source": []
  }
 ],
 "metadata": {
  "kernelspec": {
   "display_name": "Python 3 (ipykernel)",
   "language": "python",
   "name": "python3"
  },
  "language_info": {
   "codemirror_mode": {
    "name": "ipython",
    "version": 3
   },
   "file_extension": ".py",
   "mimetype": "text/x-python",
   "name": "python",
   "nbconvert_exporter": "python",
   "pygments_lexer": "ipython3",
   "version": "3.12.4"
  }
 },
 "nbformat": 4,
 "nbformat_minor": 5
}
