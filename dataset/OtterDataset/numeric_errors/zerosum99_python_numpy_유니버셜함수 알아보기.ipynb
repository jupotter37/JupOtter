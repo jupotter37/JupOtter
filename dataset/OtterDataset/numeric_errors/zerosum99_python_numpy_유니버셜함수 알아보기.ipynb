{
 "cells": [
  {
   "cell_type": "code",
   "execution_count": 1,
   "metadata": {
    "collapsed": true
   },
   "outputs": [],
   "source": [
    "import numpy as np"
   ]
  },
  {
   "cell_type": "code",
   "execution_count": 2,
   "metadata": {},
   "outputs": [
    {
     "data": {
      "text/plain": [
       "{'ALLOW_THREADS': 1,\n",
       " 'AxisError': numpy.core._internal.AxisError,\n",
       " 'BUFSIZE': 8192,\n",
       " 'CLIP': 0,\n",
       " 'ComplexWarning': numpy.core.numeric.ComplexWarning,\n",
       " 'DataSource': numpy.lib._datasource.DataSource,\n",
       " 'ERR_CALL': 3,\n",
       " 'ERR_DEFAULT': 521,\n",
       " 'ERR_IGNORE': 0,\n",
       " 'ERR_LOG': 5,\n",
       " 'ERR_PRINT': 4,\n",
       " 'ERR_RAISE': 2,\n",
       " 'ERR_WARN': 1,\n",
       " 'FLOATING_POINT_SUPPORT': 1,\n",
       " 'FPE_DIVIDEBYZERO': 1,\n",
       " 'FPE_INVALID': 8,\n",
       " 'FPE_OVERFLOW': 2,\n",
       " 'FPE_UNDERFLOW': 4,\n",
       " 'False_': False,\n",
       " 'Inf': inf,\n",
       " 'Infinity': inf,\n",
       " 'MAXDIMS': 32,\n",
       " 'MAY_SHARE_BOUNDS': 0,\n",
       " 'MAY_SHARE_EXACT': -1,\n",
       " 'MachAr': numpy.core.machar.MachAr,\n",
       " 'ModuleDeprecationWarning': numpy._globals.ModuleDeprecationWarning,\n",
       " 'NAN': nan,\n",
       " 'NINF': -inf,\n",
       " 'NZERO': -0.0,\n",
       " 'NaN': nan,\n",
       " 'PINF': inf,\n",
       " 'PZERO': 0.0,\n",
       " 'PackageLoader': numpy._import_tools.PackageLoader,\n",
       " 'RAISE': 2,\n",
       " 'RankWarning': numpy.lib.polynomial.RankWarning,\n",
       " 'SHIFT_DIVIDEBYZERO': 0,\n",
       " 'SHIFT_INVALID': 9,\n",
       " 'SHIFT_OVERFLOW': 3,\n",
       " 'SHIFT_UNDERFLOW': 6,\n",
       " 'ScalarType': (int,\n",
       "  float,\n",
       "  complex,\n",
       "  int,\n",
       "  bool,\n",
       "  bytes,\n",
       "  str,\n",
       "  memoryview,\n",
       "  numpy.bool_,\n",
       "  numpy.int8,\n",
       "  numpy.uint8,\n",
       "  numpy.int16,\n",
       "  numpy.uint16,\n",
       "  numpy.int32,\n",
       "  numpy.uint32,\n",
       "  numpy.int64,\n",
       "  numpy.uint64,\n",
       "  numpy.int64,\n",
       "  numpy.uint64,\n",
       "  numpy.float16,\n",
       "  numpy.float32,\n",
       "  numpy.float64,\n",
       "  numpy.float128,\n",
       "  numpy.complex64,\n",
       "  numpy.complex128,\n",
       "  numpy.complex256,\n",
       "  numpy.object_,\n",
       "  numpy.bytes_,\n",
       "  numpy.str_,\n",
       "  numpy.void,\n",
       "  numpy.datetime64,\n",
       "  numpy.timedelta64),\n",
       " 'Tester': numpy.testing.nosetester.NoseTester,\n",
       " 'TooHardError': numpy.core._internal.TooHardError,\n",
       " 'True_': True,\n",
       " 'UFUNC_BUFSIZE_DEFAULT': 8192,\n",
       " 'UFUNC_PYVALS_NAME': 'UFUNC_PYVALS',\n",
       " 'VisibleDeprecationWarning': numpy._globals.VisibleDeprecationWarning,\n",
       " 'WRAP': 1,\n",
       " '_NoValue': numpy._globals._NoValue,\n",
       " '__NUMPY_SETUP__': False,\n",
       " '__all__': ['add_newdocs',\n",
       "  'ModuleDeprecationWarning',\n",
       "  'VisibleDeprecationWarning',\n",
       "  '__version__',\n",
       "  'pkgload',\n",
       "  'PackageLoader',\n",
       "  'show_config',\n",
       "  'char',\n",
       "  'rec',\n",
       "  'memmap',\n",
       "  'newaxis',\n",
       "  'ndarray',\n",
       "  'flatiter',\n",
       "  'nditer',\n",
       "  'nested_iters',\n",
       "  'ufunc',\n",
       "  'arange',\n",
       "  'array',\n",
       "  'zeros',\n",
       "  'count_nonzero',\n",
       "  'empty',\n",
       "  'broadcast',\n",
       "  'dtype',\n",
       "  'fromstring',\n",
       "  'fromfile',\n",
       "  'frombuffer',\n",
       "  'int_asbuffer',\n",
       "  'where',\n",
       "  'argwhere',\n",
       "  'copyto',\n",
       "  'concatenate',\n",
       "  'fastCopyAndTranspose',\n",
       "  'lexsort',\n",
       "  'set_numeric_ops',\n",
       "  'can_cast',\n",
       "  'promote_types',\n",
       "  'min_scalar_type',\n",
       "  'result_type',\n",
       "  'asarray',\n",
       "  'asanyarray',\n",
       "  'ascontiguousarray',\n",
       "  'asfortranarray',\n",
       "  'isfortran',\n",
       "  'empty_like',\n",
       "  'zeros_like',\n",
       "  'ones_like',\n",
       "  'correlate',\n",
       "  'convolve',\n",
       "  'inner',\n",
       "  'dot',\n",
       "  'outer',\n",
       "  'vdot',\n",
       "  'roll',\n",
       "  'rollaxis',\n",
       "  'moveaxis',\n",
       "  'cross',\n",
       "  'tensordot',\n",
       "  'array2string',\n",
       "  'get_printoptions',\n",
       "  'set_printoptions',\n",
       "  'array_repr',\n",
       "  'array_str',\n",
       "  'set_string_function',\n",
       "  'little_endian',\n",
       "  'require',\n",
       "  'fromiter',\n",
       "  'array_equal',\n",
       "  'array_equiv',\n",
       "  'indices',\n",
       "  'fromfunction',\n",
       "  'isclose',\n",
       "  'load',\n",
       "  'loads',\n",
       "  'isscalar',\n",
       "  'binary_repr',\n",
       "  'base_repr',\n",
       "  'ones',\n",
       "  'identity',\n",
       "  'allclose',\n",
       "  'compare_chararrays',\n",
       "  'putmask',\n",
       "  'seterr',\n",
       "  'geterr',\n",
       "  'setbufsize',\n",
       "  'getbufsize',\n",
       "  'seterrcall',\n",
       "  'geterrcall',\n",
       "  'errstate',\n",
       "  'flatnonzero',\n",
       "  'Inf',\n",
       "  'inf',\n",
       "  'infty',\n",
       "  'Infinity',\n",
       "  'nan',\n",
       "  'NaN',\n",
       "  'False_',\n",
       "  'True_',\n",
       "  'bitwise_not',\n",
       "  'CLIP',\n",
       "  'RAISE',\n",
       "  'WRAP',\n",
       "  'MAXDIMS',\n",
       "  'BUFSIZE',\n",
       "  'ALLOW_THREADS',\n",
       "  'ComplexWarning',\n",
       "  'full',\n",
       "  'full_like',\n",
       "  'matmul',\n",
       "  'shares_memory',\n",
       "  'may_share_memory',\n",
       "  'MAY_SHARE_BOUNDS',\n",
       "  'MAY_SHARE_EXACT',\n",
       "  'TooHardError',\n",
       "  'AxisError',\n",
       "  'alen',\n",
       "  'all',\n",
       "  'alltrue',\n",
       "  'amax',\n",
       "  'amin',\n",
       "  'any',\n",
       "  'argmax',\n",
       "  'argmin',\n",
       "  'argpartition',\n",
       "  'argsort',\n",
       "  'around',\n",
       "  'choose',\n",
       "  'clip',\n",
       "  'compress',\n",
       "  'cumprod',\n",
       "  'cumproduct',\n",
       "  'cumsum',\n",
       "  'diagonal',\n",
       "  'mean',\n",
       "  'ndim',\n",
       "  'nonzero',\n",
       "  'partition',\n",
       "  'prod',\n",
       "  'product',\n",
       "  'ptp',\n",
       "  'put',\n",
       "  'rank',\n",
       "  'ravel',\n",
       "  'repeat',\n",
       "  'reshape',\n",
       "  'resize',\n",
       "  'round_',\n",
       "  'searchsorted',\n",
       "  'shape',\n",
       "  'size',\n",
       "  'sometrue',\n",
       "  'sort',\n",
       "  'squeeze',\n",
       "  'std',\n",
       "  'sum',\n",
       "  'swapaxes',\n",
       "  'take',\n",
       "  'trace',\n",
       "  'transpose',\n",
       "  'var',\n",
       "  'frompyfunc',\n",
       "  'seterrobj',\n",
       "  'geterrobj',\n",
       "  'absolute',\n",
       "  'add',\n",
       "  'arccos',\n",
       "  'arccosh',\n",
       "  'arcsin',\n",
       "  'arcsinh',\n",
       "  'arctan',\n",
       "  'arctan2',\n",
       "  'arctanh',\n",
       "  'bitwise_and',\n",
       "  'bitwise_or',\n",
       "  'bitwise_xor',\n",
       "  'cbrt',\n",
       "  'ceil',\n",
       "  'conjugate',\n",
       "  'copysign',\n",
       "  'cos',\n",
       "  'cosh',\n",
       "  'deg2rad',\n",
       "  'degrees',\n",
       "  'divmod',\n",
       "  'equal',\n",
       "  'exp',\n",
       "  'exp2',\n",
       "  'expm1',\n",
       "  'fabs',\n",
       "  'float_power',\n",
       "  'floor',\n",
       "  'floor_divide',\n",
       "  'fmax',\n",
       "  'fmin',\n",
       "  'fmod',\n",
       "  'frexp',\n",
       "  'greater',\n",
       "  'greater_equal',\n",
       "  'heaviside',\n",
       "  'hypot',\n",
       "  'invert',\n",
       "  'isfinite',\n",
       "  'isinf',\n",
       "  'isnan',\n",
       "  'isnat',\n",
       "  'ldexp',\n",
       "  'left_shift',\n",
       "  'less',\n",
       "  'less_equal',\n",
       "  'log',\n",
       "  'log10',\n",
       "  'log1p',\n",
       "  'log2',\n",
       "  'logaddexp',\n",
       "  'logaddexp2',\n",
       "  'logical_and',\n",
       "  'logical_not',\n",
       "  'logical_or',\n",
       "  'logical_xor',\n",
       "  'maximum',\n",
       "  'minimum',\n",
       "  'modf',\n",
       "  'multiply',\n",
       "  'negative',\n",
       "  'nextafter',\n",
       "  'not_equal',\n",
       "  'positive',\n",
       "  'power',\n",
       "  'rad2deg',\n",
       "  'radians',\n",
       "  'reciprocal',\n",
       "  'remainder',\n",
       "  'right_shift',\n",
       "  'rint',\n",
       "  'sign',\n",
       "  'signbit',\n",
       "  'sin',\n",
       "  'sinh',\n",
       "  'spacing',\n",
       "  'sqrt',\n",
       "  'square',\n",
       "  'subtract',\n",
       "  'tan',\n",
       "  'tanh',\n",
       "  'true_divide',\n",
       "  'trunc',\n",
       "  'pi',\n",
       "  'e',\n",
       "  'euler_gamma',\n",
       "  'ERR_IGNORE',\n",
       "  'ERR_WARN',\n",
       "  'ERR_CALL',\n",
       "  'ERR_RAISE',\n",
       "  'ERR_PRINT',\n",
       "  'ERR_LOG',\n",
       "  'ERR_DEFAULT',\n",
       "  'SHIFT_DIVIDEBYZERO',\n",
       "  'SHIFT_OVERFLOW',\n",
       "  'SHIFT_UNDERFLOW',\n",
       "  'SHIFT_INVALID',\n",
       "  'FPE_DIVIDEBYZERO',\n",
       "  'FPE_OVERFLOW',\n",
       "  'FPE_UNDERFLOW',\n",
       "  'FPE_INVALID',\n",
       "  'FLOATING_POINT_SUPPORT',\n",
       "  'UFUNC_PYVALS_NAME',\n",
       "  'UFUNC_BUFSIZE_DEFAULT',\n",
       "  'PINF',\n",
       "  'NINF',\n",
       "  'PZERO',\n",
       "  'NZERO',\n",
       "  'NAN',\n",
       "  'divide',\n",
       "  'conj',\n",
       "  'mod',\n",
       "  'sctypeDict',\n",
       "  'sctypeNA',\n",
       "  'typeDict',\n",
       "  'typeNA',\n",
       "  'sctypes',\n",
       "  'ScalarType',\n",
       "  'obj2sctype',\n",
       "  'cast',\n",
       "  'nbytes',\n",
       "  'sctype2char',\n",
       "  'maximum_sctype',\n",
       "  'issctype',\n",
       "  'typecodes',\n",
       "  'find_common_type',\n",
       "  'issubdtype',\n",
       "  'datetime_data',\n",
       "  'datetime_as_string',\n",
       "  'busday_offset',\n",
       "  'busday_count',\n",
       "  'is_busday',\n",
       "  'busdaycalendar',\n",
       "  'byte',\n",
       "  'ubyte',\n",
       "  'short',\n",
       "  'ushort',\n",
       "  'uint',\n",
       "  'intp',\n",
       "  'uintp',\n",
       "  'long',\n",
       "  'longlong',\n",
       "  'ulonglong',\n",
       "  'half',\n",
       "  'double',\n",
       "  'longdouble',\n",
       "  'cfloat',\n",
       "  'cdouble',\n",
       "  'clongdouble',\n",
       "  'unicode',\n",
       "  'void',\n",
       "  'generic',\n",
       "  'number',\n",
       "  'integer',\n",
       "  'inexact',\n",
       "  'signedinteger',\n",
       "  'unsignedinteger',\n",
       "  'floating',\n",
       "  'complexfloating',\n",
       "  'flexible',\n",
       "  'character',\n",
       "  'bool8',\n",
       "  'float16',\n",
       "  'float32',\n",
       "  'float64',\n",
       "  'float128',\n",
       "  'complex64',\n",
       "  'complex128',\n",
       "  'complex256',\n",
       "  'object0',\n",
       "  'bytes0',\n",
       "  'str0',\n",
       "  'void0',\n",
       "  'datetime64',\n",
       "  'timedelta64',\n",
       "  'int64',\n",
       "  'uint64',\n",
       "  'int32',\n",
       "  'uint32',\n",
       "  'int16',\n",
       "  'uint16',\n",
       "  'int8',\n",
       "  'uint8',\n",
       "  'complex_',\n",
       "  'int0',\n",
       "  'uint0',\n",
       "  'single',\n",
       "  'csingle',\n",
       "  'singlecomplex',\n",
       "  'float_',\n",
       "  'intc',\n",
       "  'uintc',\n",
       "  'int_',\n",
       "  'longfloat',\n",
       "  'clongfloat',\n",
       "  'longcomplex',\n",
       "  'bool_',\n",
       "  'unicode_',\n",
       "  'object_',\n",
       "  'bytes_',\n",
       "  'str_',\n",
       "  'string_',\n",
       "  'alen',\n",
       "  'all',\n",
       "  'alltrue',\n",
       "  'amax',\n",
       "  'amin',\n",
       "  'any',\n",
       "  'argmax',\n",
       "  'argmin',\n",
       "  'argpartition',\n",
       "  'argsort',\n",
       "  'around',\n",
       "  'choose',\n",
       "  'clip',\n",
       "  'compress',\n",
       "  'cumprod',\n",
       "  'cumproduct',\n",
       "  'cumsum',\n",
       "  'diagonal',\n",
       "  'mean',\n",
       "  'ndim',\n",
       "  'nonzero',\n",
       "  'partition',\n",
       "  'prod',\n",
       "  'product',\n",
       "  'ptp',\n",
       "  'put',\n",
       "  'rank',\n",
       "  'ravel',\n",
       "  'repeat',\n",
       "  'reshape',\n",
       "  'resize',\n",
       "  'round_',\n",
       "  'searchsorted',\n",
       "  'shape',\n",
       "  'size',\n",
       "  'sometrue',\n",
       "  'sort',\n",
       "  'squeeze',\n",
       "  'std',\n",
       "  'sum',\n",
       "  'swapaxes',\n",
       "  'take',\n",
       "  'trace',\n",
       "  'transpose',\n",
       "  'var',\n",
       "  'record',\n",
       "  'recarray',\n",
       "  'format_parser',\n",
       "  'chararray',\n",
       "  'logspace',\n",
       "  'linspace',\n",
       "  'geomspace',\n",
       "  'MachAr',\n",
       "  'finfo',\n",
       "  'iinfo',\n",
       "  'atleast_1d',\n",
       "  'atleast_2d',\n",
       "  'atleast_3d',\n",
       "  'block',\n",
       "  'hstack',\n",
       "  'stack',\n",
       "  'vstack',\n",
       "  'einsum',\n",
       "  'einsum_path',\n",
       "  'matrix',\n",
       "  'bmat',\n",
       "  'mat',\n",
       "  'asmatrix',\n",
       "  'emath',\n",
       "  'math',\n",
       "  'tracemalloc_domain',\n",
       "  'iscomplexobj',\n",
       "  'isrealobj',\n",
       "  'imag',\n",
       "  'iscomplex',\n",
       "  'isreal',\n",
       "  'nan_to_num',\n",
       "  'real',\n",
       "  'real_if_close',\n",
       "  'typename',\n",
       "  'asfarray',\n",
       "  'mintypecode',\n",
       "  'asscalar',\n",
       "  'common_type',\n",
       "  'ravel_multi_index',\n",
       "  'unravel_index',\n",
       "  'mgrid',\n",
       "  'ogrid',\n",
       "  'r_',\n",
       "  'c_',\n",
       "  's_',\n",
       "  'index_exp',\n",
       "  'ix_',\n",
       "  'ndenumerate',\n",
       "  'ndindex',\n",
       "  'fill_diagonal',\n",
       "  'diag_indices',\n",
       "  'diag_indices_from',\n",
       "  'select',\n",
       "  'piecewise',\n",
       "  'trim_zeros',\n",
       "  'copy',\n",
       "  'iterable',\n",
       "  'percentile',\n",
       "  'diff',\n",
       "  'gradient',\n",
       "  'angle',\n",
       "  'unwrap',\n",
       "  'sort_complex',\n",
       "  'disp',\n",
       "  'flip',\n",
       "  'rot90',\n",
       "  'extract',\n",
       "  'place',\n",
       "  'vectorize',\n",
       "  'asarray_chkfinite',\n",
       "  'average',\n",
       "  'histogram',\n",
       "  'histogramdd',\n",
       "  'bincount',\n",
       "  'digitize',\n",
       "  'cov',\n",
       "  'corrcoef',\n",
       "  'msort',\n",
       "  'median',\n",
       "  'sinc',\n",
       "  'hamming',\n",
       "  'hanning',\n",
       "  'bartlett',\n",
       "  'blackman',\n",
       "  'kaiser',\n",
       "  'trapz',\n",
       "  'i0',\n",
       "  'add_newdoc',\n",
       "  'add_docstring',\n",
       "  'meshgrid',\n",
       "  'delete',\n",
       "  'insert',\n",
       "  'append',\n",
       "  'interp',\n",
       "  'add_newdoc_ufunc',\n",
       "  'column_stack',\n",
       "  'row_stack',\n",
       "  'dstack',\n",
       "  'array_split',\n",
       "  'split',\n",
       "  'hsplit',\n",
       "  'vsplit',\n",
       "  'dsplit',\n",
       "  'apply_over_axes',\n",
       "  'expand_dims',\n",
       "  'apply_along_axis',\n",
       "  'kron',\n",
       "  'tile',\n",
       "  'get_array_wrap',\n",
       "  'broadcast_to',\n",
       "  'broadcast_arrays',\n",
       "  'diag',\n",
       "  'diagflat',\n",
       "  'eye',\n",
       "  'fliplr',\n",
       "  'flipud',\n",
       "  'tri',\n",
       "  'triu',\n",
       "  'tril',\n",
       "  'vander',\n",
       "  'histogram2d',\n",
       "  'mask_indices',\n",
       "  'tril_indices',\n",
       "  'tril_indices_from',\n",
       "  'triu_indices',\n",
       "  'triu_indices_from',\n",
       "  'fix',\n",
       "  'isneginf',\n",
       "  'isposinf',\n",
       "  'pad',\n",
       "  'poly',\n",
       "  'roots',\n",
       "  'polyint',\n",
       "  'polyder',\n",
       "  'polyadd',\n",
       "  'polysub',\n",
       "  'polymul',\n",
       "  'polydiv',\n",
       "  'polyval',\n",
       "  'poly1d',\n",
       "  'polyfit',\n",
       "  'RankWarning',\n",
       "  'issubclass_',\n",
       "  'issubsctype',\n",
       "  'issubdtype',\n",
       "  'deprecate',\n",
       "  'deprecate_with_doc',\n",
       "  'get_include',\n",
       "  'info',\n",
       "  'source',\n",
       "  'who',\n",
       "  'lookfor',\n",
       "  'byte_bounds',\n",
       "  'safe_eval',\n",
       "  'ediff1d',\n",
       "  'intersect1d',\n",
       "  'setxor1d',\n",
       "  'union1d',\n",
       "  'setdiff1d',\n",
       "  'unique',\n",
       "  'in1d',\n",
       "  'isin',\n",
       "  'savetxt',\n",
       "  'loadtxt',\n",
       "  'genfromtxt',\n",
       "  'ndfromtxt',\n",
       "  'mafromtxt',\n",
       "  'recfromtxt',\n",
       "  'recfromcsv',\n",
       "  'load',\n",
       "  'loads',\n",
       "  'save',\n",
       "  'savez',\n",
       "  'savez_compressed',\n",
       "  'packbits',\n",
       "  'unpackbits',\n",
       "  'fromregex',\n",
       "  'DataSource',\n",
       "  'fv',\n",
       "  'pmt',\n",
       "  'nper',\n",
       "  'ipmt',\n",
       "  'ppmt',\n",
       "  'pv',\n",
       "  'rate',\n",
       "  'irr',\n",
       "  'npv',\n",
       "  'mirr',\n",
       "  'nansum',\n",
       "  'nanmax',\n",
       "  'nanmin',\n",
       "  'nanargmax',\n",
       "  'nanargmin',\n",
       "  'nanmean',\n",
       "  'nanmedian',\n",
       "  'nanpercentile',\n",
       "  'nanvar',\n",
       "  'nanstd',\n",
       "  'nanprod',\n",
       "  'nancumsum',\n",
       "  'nancumprod',\n",
       "  'linalg',\n",
       "  'fft',\n",
       "  'random',\n",
       "  'ctypeslib',\n",
       "  'ma'],\n",
       " '__builtins__': {'ArithmeticError': ArithmeticError,\n",
       "  'AssertionError': AssertionError,\n",
       "  'AttributeError': AttributeError,\n",
       "  'BaseException': BaseException,\n",
       "  'BlockingIOError': BlockingIOError,\n",
       "  'BrokenPipeError': BrokenPipeError,\n",
       "  'BufferError': BufferError,\n",
       "  'BytesWarning': BytesWarning,\n",
       "  'ChildProcessError': ChildProcessError,\n",
       "  'ConnectionAbortedError': ConnectionAbortedError,\n",
       "  'ConnectionError': ConnectionError,\n",
       "  'ConnectionRefusedError': ConnectionRefusedError,\n",
       "  'ConnectionResetError': ConnectionResetError,\n",
       "  'DeprecationWarning': DeprecationWarning,\n",
       "  'EOFError': EOFError,\n",
       "  'Ellipsis': Ellipsis,\n",
       "  'EnvironmentError': OSError,\n",
       "  'Exception': Exception,\n",
       "  'False': False,\n",
       "  'FileExistsError': FileExistsError,\n",
       "  'FileNotFoundError': FileNotFoundError,\n",
       "  'FloatingPointError': FloatingPointError,\n",
       "  'FutureWarning': FutureWarning,\n",
       "  'GeneratorExit': GeneratorExit,\n",
       "  'IOError': OSError,\n",
       "  'ImportError': ImportError,\n",
       "  'ImportWarning': ImportWarning,\n",
       "  'IndentationError': IndentationError,\n",
       "  'IndexError': IndexError,\n",
       "  'InterruptedError': InterruptedError,\n",
       "  'IsADirectoryError': IsADirectoryError,\n",
       "  'KeyError': KeyError,\n",
       "  'KeyboardInterrupt': KeyboardInterrupt,\n",
       "  'LookupError': LookupError,\n",
       "  'MemoryError': MemoryError,\n",
       "  'ModuleNotFoundError': ModuleNotFoundError,\n",
       "  'NameError': NameError,\n",
       "  'None': None,\n",
       "  'NotADirectoryError': NotADirectoryError,\n",
       "  'NotImplemented': NotImplemented,\n",
       "  'NotImplementedError': NotImplementedError,\n",
       "  'OSError': OSError,\n",
       "  'OverflowError': OverflowError,\n",
       "  'PendingDeprecationWarning': PendingDeprecationWarning,\n",
       "  'PermissionError': PermissionError,\n",
       "  'ProcessLookupError': ProcessLookupError,\n",
       "  'RecursionError': RecursionError,\n",
       "  'ReferenceError': ReferenceError,\n",
       "  'ResourceWarning': ResourceWarning,\n",
       "  'RuntimeError': RuntimeError,\n",
       "  'RuntimeWarning': RuntimeWarning,\n",
       "  'StopAsyncIteration': StopAsyncIteration,\n",
       "  'StopIteration': StopIteration,\n",
       "  'SyntaxError': SyntaxError,\n",
       "  'SyntaxWarning': SyntaxWarning,\n",
       "  'SystemError': SystemError,\n",
       "  'SystemExit': SystemExit,\n",
       "  'TabError': TabError,\n",
       "  'TimeoutError': TimeoutError,\n",
       "  'True': True,\n",
       "  'TypeError': TypeError,\n",
       "  'UnboundLocalError': UnboundLocalError,\n",
       "  'UnicodeDecodeError': UnicodeDecodeError,\n",
       "  'UnicodeEncodeError': UnicodeEncodeError,\n",
       "  'UnicodeError': UnicodeError,\n",
       "  'UnicodeTranslateError': UnicodeTranslateError,\n",
       "  'UnicodeWarning': UnicodeWarning,\n",
       "  'UserWarning': UserWarning,\n",
       "  'ValueError': ValueError,\n",
       "  'Warning': Warning,\n",
       "  'ZeroDivisionError': ZeroDivisionError,\n",
       "  '__IPYTHON__': True,\n",
       "  '__build_class__': <function __build_class__>,\n",
       "  '__debug__': True,\n",
       "  '__doc__': \"Built-in functions, exceptions, and other objects.\\n\\nNoteworthy: None is the `nil' object; Ellipsis represents `...' in slices.\",\n",
       "  '__import__': <function __import__>,\n",
       "  '__loader__': _frozen_importlib.BuiltinImporter,\n",
       "  '__name__': 'builtins',\n",
       "  '__package__': '',\n",
       "  '__spec__': ModuleSpec(name='builtins', loader=<class '_frozen_importlib.BuiltinImporter'>),\n",
       "  'abs': <function abs>,\n",
       "  'all': <function all>,\n",
       "  'any': <function any>,\n",
       "  'ascii': <function ascii>,\n",
       "  'bin': <function bin>,\n",
       "  'bool': bool,\n",
       "  'bytearray': bytearray,\n",
       "  'bytes': bytes,\n",
       "  'callable': <function callable>,\n",
       "  'chr': <function chr>,\n",
       "  'classmethod': classmethod,\n",
       "  'compile': <function compile>,\n",
       "  'complex': complex,\n",
       "  'copyright': Copyright (c) 2001-2017 Python Software Foundation.\n",
       "  All Rights Reserved.\n",
       "  \n",
       "  Copyright (c) 2000 BeOpen.com.\n",
       "  All Rights Reserved.\n",
       "  \n",
       "  Copyright (c) 1995-2001 Corporation for National Research Initiatives.\n",
       "  All Rights Reserved.\n",
       "  \n",
       "  Copyright (c) 1991-1995 Stichting Mathematisch Centrum, Amsterdam.\n",
       "  All Rights Reserved.,\n",
       "  'credits':     Thanks to CWI, CNRI, BeOpen.com, Zope Corporation and a cast of thousands\n",
       "      for supporting Python development.  See www.python.org for more information.,\n",
       "  'delattr': <function delattr>,\n",
       "  'dict': dict,\n",
       "  'dir': <function dir>,\n",
       "  'divmod': <function divmod>,\n",
       "  'dreload': <function IPython.lib.deepreload._dreload>,\n",
       "  'enumerate': enumerate,\n",
       "  'eval': <function eval>,\n",
       "  'exec': <function exec>,\n",
       "  'filter': filter,\n",
       "  'float': float,\n",
       "  'format': <function format>,\n",
       "  'frozenset': frozenset,\n",
       "  'get_ipython': <bound method InteractiveShell.get_ipython of <ipykernel.zmqshell.ZMQInteractiveShell object at 0x10b634438>>,\n",
       "  'getattr': <function getattr>,\n",
       "  'globals': <function globals>,\n",
       "  'hasattr': <function hasattr>,\n",
       "  'hash': <function hash>,\n",
       "  'help': Type help() for interactive help, or help(object) for help about object.,\n",
       "  'hex': <function hex>,\n",
       "  'id': <function id>,\n",
       "  'input': <bound method Kernel.raw_input of <ipykernel.ipkernel.IPythonKernel object at 0x10b6347b8>>,\n",
       "  'int': int,\n",
       "  'isinstance': <function isinstance>,\n",
       "  'issubclass': <function issubclass>,\n",
       "  'iter': <function iter>,\n",
       "  'len': <function len>,\n",
       "  'license': Type license() to see the full license text,\n",
       "  'list': list,\n",
       "  'locals': <function locals>,\n",
       "  'map': map,\n",
       "  'max': <function max>,\n",
       "  'memoryview': memoryview,\n",
       "  'min': <function min>,\n",
       "  'next': <function next>,\n",
       "  'object': object,\n",
       "  'oct': <function oct>,\n",
       "  'open': <function io.open>,\n",
       "  'ord': <function ord>,\n",
       "  'pow': <function pow>,\n",
       "  'print': <function print>,\n",
       "  'property': property,\n",
       "  'range': range,\n",
       "  'repr': <function repr>,\n",
       "  'reversed': reversed,\n",
       "  'round': <function round>,\n",
       "  'set': set,\n",
       "  'setattr': <function setattr>,\n",
       "  'slice': slice,\n",
       "  'sorted': <function sorted>,\n",
       "  'staticmethod': staticmethod,\n",
       "  'str': str,\n",
       "  'sum': <function sum>,\n",
       "  'super': super,\n",
       "  'tuple': tuple,\n",
       "  'type': type,\n",
       "  'vars': <function vars>,\n",
       "  'zip': zip},\n",
       " '__cached__': '/Users/dahlmoon/anaconda/lib/python3.6/site-packages/numpy/__pycache__/__init__.cpython-36.pyc',\n",
       " '__config__': <module 'numpy.__config__' from '/Users/dahlmoon/anaconda/lib/python3.6/site-packages/numpy/__config__.py'>,\n",
       " '__doc__': '\\nNumPy\\n=====\\n\\nProvides\\n  1. An array object of arbitrary homogeneous items\\n  2. Fast mathematical operations over arrays\\n  3. Linear Algebra, Fourier Transforms, Random Number Generation\\n\\nHow to use the documentation\\n----------------------------\\nDocumentation is available in two forms: docstrings provided\\nwith the code, and a loose standing reference guide, available from\\n`the NumPy homepage <http://www.scipy.org>`_.\\n\\nWe recommend exploring the docstrings using\\n`IPython <http://ipython.scipy.org>`_, an advanced Python shell with\\nTAB-completion and introspection capabilities.  See below for further\\ninstructions.\\n\\nThe docstring examples assume that `numpy` has been imported as `np`::\\n\\n  >>> import numpy as np\\n\\nCode snippets are indicated by three greater-than signs::\\n\\n  >>> x = 42\\n  >>> x = x + 1\\n\\nUse the built-in ``help`` function to view a function\\'s docstring::\\n\\n  >>> help(np.sort)\\n  ... # doctest: +SKIP\\n\\nFor some objects, ``np.info(obj)`` may provide additional help.  This is\\nparticularly true if you see the line \"Help on ufunc object:\" at the top\\nof the help() page.  Ufuncs are implemented in C, not Python, for speed.\\nThe native Python help() does not know how to view their help, but our\\nnp.info() function does.\\n\\nTo search for documents containing a keyword, do::\\n\\n  >>> np.lookfor(\\'keyword\\')\\n  ... # doctest: +SKIP\\n\\nGeneral-purpose documents like a glossary and help on the basic concepts\\nof numpy are available under the ``doc`` sub-module::\\n\\n  >>> from numpy import doc\\n  >>> help(doc)\\n  ... # doctest: +SKIP\\n\\nAvailable subpackages\\n---------------------\\ndoc\\n    Topical documentation on broadcasting, indexing, etc.\\nlib\\n    Basic functions used by several sub-packages.\\nrandom\\n    Core Random Tools\\nlinalg\\n    Core Linear Algebra Tools\\nfft\\n    Core FFT routines\\npolynomial\\n    Polynomial tools\\ntesting\\n    NumPy testing tools\\nf2py\\n    Fortran to Python Interface Generator.\\ndistutils\\n    Enhancements to distutils with support for\\n    Fortran compilers support and more.\\n\\nUtilities\\n---------\\ntest\\n    Run numpy unittests\\nshow_config\\n    Show numpy build configuration\\ndual\\n    Overwrite certain functions with high-performance Scipy tools\\nmatlib\\n    Make everything matrices.\\n__version__\\n    NumPy version string\\n\\nViewing documentation using IPython\\n-----------------------------------\\nStart IPython with the NumPy profile (``ipython -p numpy``), which will\\nimport `numpy` under the alias `np`.  Then, use the ``cpaste`` command to\\npaste examples into the shell.  To see which functions are available in\\n`numpy`, type ``np.<TAB>`` (where ``<TAB>`` refers to the TAB key), or use\\n``np.*cos*?<ENTER>`` (where ``<ENTER>`` refers to the ENTER key) to narrow\\ndown the list.  To view the docstring for a function, use\\n``np.cos?<ENTER>`` (to view the docstring) and ``np.cos??<ENTER>`` (to view\\nthe source code).\\n\\nCopies vs. in-place operation\\n-----------------------------\\nMost of the functions in `numpy` return a copy of the array argument\\n(e.g., `np.sort`).  In-place versions of these functions are often\\navailable as array methods, i.e. ``x = np.array([1,2,3]); x.sort()``.\\nExceptions to this rule are documented.\\n\\n',\n",
       " '__file__': '/Users/dahlmoon/anaconda/lib/python3.6/site-packages/numpy/__init__.py',\n",
       " '__git_revision__': '1462df1c20eae44d28e6b665b5d194788f57efc5',\n",
       " '__loader__': <_frozen_importlib_external.SourceFileLoader at 0x10b742860>,\n",
       " '__name__': 'numpy',\n",
       " '__package__': 'numpy',\n",
       " '__path__': ['/Users/dahlmoon/anaconda/lib/python3.6/site-packages/numpy'],\n",
       " '__spec__': ModuleSpec(name='numpy', loader=<_frozen_importlib_external.SourceFileLoader object at 0x10b742860>, origin='/Users/dahlmoon/anaconda/lib/python3.6/site-packages/numpy/__init__.py', submodule_search_locations=['/Users/dahlmoon/anaconda/lib/python3.6/site-packages/numpy']),\n",
       " '__version__': '1.13.1',\n",
       " '_distributor_init': <module 'numpy._distributor_init' from '/Users/dahlmoon/anaconda/lib/python3.6/site-packages/numpy/_distributor_init.py'>,\n",
       " '_globals': <module 'numpy._globals' from '/Users/dahlmoon/anaconda/lib/python3.6/site-packages/numpy/_globals.py'>,\n",
       " '_import_tools': <module 'numpy._import_tools' from '/Users/dahlmoon/anaconda/lib/python3.6/site-packages/numpy/_import_tools.py'>,\n",
       " '_mat': <module 'numpy.matrixlib' from '/Users/dahlmoon/anaconda/lib/python3.6/site-packages/numpy/matrixlib/__init__.py'>,\n",
       " 'abs': <ufunc 'absolute'>,\n",
       " 'absolute': <ufunc 'absolute'>,\n",
       " 'absolute_import': _Feature((2, 5, 0, 'alpha', 1), (3, 0, 0, 'alpha', 0), 16384),\n",
       " 'add': <ufunc 'add'>,\n",
       " 'add_docstring': <function numpy.core.multiarray.add_docstring>,\n",
       " 'add_newdoc': <function numpy.lib.function_base.add_newdoc>,\n",
       " 'add_newdoc_ufunc': <function numpy.core.umath._add_newdoc_ufunc>,\n",
       " 'add_newdocs': <module 'numpy.add_newdocs' from '/Users/dahlmoon/anaconda/lib/python3.6/site-packages/numpy/add_newdocs.py'>,\n",
       " 'alen': <function numpy.core.fromnumeric.alen>,\n",
       " 'all': <function numpy.core.fromnumeric.all>,\n",
       " 'allclose': <function numpy.core.numeric.allclose>,\n",
       " 'alltrue': <function numpy.core.fromnumeric.alltrue>,\n",
       " 'amax': <function numpy.core.fromnumeric.amax>,\n",
       " 'amin': <function numpy.core.fromnumeric.amin>,\n",
       " 'angle': <function numpy.lib.function_base.angle>,\n",
       " 'any': <function numpy.core.fromnumeric.any>,\n",
       " 'append': <function numpy.lib.function_base.append>,\n",
       " 'apply_along_axis': <function numpy.lib.shape_base.apply_along_axis>,\n",
       " 'apply_over_axes': <function numpy.lib.shape_base.apply_over_axes>,\n",
       " 'arange': <function numpy.core.multiarray.arange>,\n",
       " 'arccos': <ufunc 'arccos'>,\n",
       " 'arccosh': <ufunc 'arccosh'>,\n",
       " 'arcsin': <ufunc 'arcsin'>,\n",
       " 'arcsinh': <ufunc 'arcsinh'>,\n",
       " 'arctan': <ufunc 'arctan'>,\n",
       " 'arctan2': <ufunc 'arctan2'>,\n",
       " 'arctanh': <ufunc 'arctanh'>,\n",
       " 'argmax': <function numpy.core.fromnumeric.argmax>,\n",
       " 'argmin': <function numpy.core.fromnumeric.argmin>,\n",
       " 'argpartition': <function numpy.core.fromnumeric.argpartition>,\n",
       " 'argsort': <function numpy.core.fromnumeric.argsort>,\n",
       " 'argwhere': <function numpy.core.numeric.argwhere>,\n",
       " 'around': <function numpy.core.fromnumeric.around>,\n",
       " 'array': <function numpy.core.multiarray.array>,\n",
       " 'array2string': <function numpy.core.arrayprint.array2string>,\n",
       " 'array_equal': <function numpy.core.numeric.array_equal>,\n",
       " 'array_equiv': <function numpy.core.numeric.array_equiv>,\n",
       " 'array_repr': <function numpy.core.numeric.array_repr>,\n",
       " 'array_split': <function numpy.lib.shape_base.array_split>,\n",
       " 'array_str': <function numpy.core.numeric.array_str>,\n",
       " 'asanyarray': <function numpy.core.numeric.asanyarray>,\n",
       " 'asarray': <function numpy.core.numeric.asarray>,\n",
       " 'asarray_chkfinite': <function numpy.lib.function_base.asarray_chkfinite>,\n",
       " 'ascontiguousarray': <function numpy.core.numeric.ascontiguousarray>,\n",
       " 'asfarray': <function numpy.lib.type_check.asfarray>,\n",
       " 'asfortranarray': <function numpy.core.numeric.asfortranarray>,\n",
       " 'asmatrix': <function numpy.matrixlib.defmatrix.asmatrix>,\n",
       " 'asscalar': <function numpy.lib.type_check.asscalar>,\n",
       " 'atleast_1d': <function numpy.core.shape_base.atleast_1d>,\n",
       " 'atleast_2d': <function numpy.core.shape_base.atleast_2d>,\n",
       " 'atleast_3d': <function numpy.core.shape_base.atleast_3d>,\n",
       " 'average': <function numpy.lib.function_base.average>,\n",
       " 'bartlett': <function numpy.lib.function_base.bartlett>,\n",
       " 'base_repr': <function numpy.core.numeric.base_repr>,\n",
       " 'bench': <bound method NoseTester.bench of <numpy.testing.nosetester.NoseTester object at 0x10b742be0>>,\n",
       " 'binary_repr': <function numpy.core.numeric.binary_repr>,\n",
       " 'bincount': <function numpy.core.multiarray.bincount>,\n",
       " 'bitwise_and': <ufunc 'bitwise_and'>,\n",
       " 'bitwise_not': <ufunc 'invert'>,\n",
       " 'bitwise_or': <ufunc 'bitwise_or'>,\n",
       " 'bitwise_xor': <ufunc 'bitwise_xor'>,\n",
       " 'blackman': <function numpy.lib.function_base.blackman>,\n",
       " 'block': <function numpy.core.shape_base.block>,\n",
       " 'bmat': <function numpy.matrixlib.defmatrix.bmat>,\n",
       " 'bool': bool,\n",
       " 'bool8': numpy.bool_,\n",
       " 'bool_': numpy.bool_,\n",
       " 'broadcast': numpy.broadcast,\n",
       " 'broadcast_arrays': <function numpy.lib.stride_tricks.broadcast_arrays>,\n",
       " 'broadcast_to': <function numpy.lib.stride_tricks.broadcast_to>,\n",
       " 'busday_count': <function numpy.core.multiarray.busday_count>,\n",
       " 'busday_offset': <function numpy.core.multiarray.busday_offset>,\n",
       " 'busdaycalendar': numpy.busdaycalendar,\n",
       " 'byte': numpy.int8,\n",
       " 'byte_bounds': <function numpy.lib.utils.byte_bounds>,\n",
       " 'bytes0': numpy.bytes_,\n",
       " 'bytes_': numpy.bytes_,\n",
       " 'c_': <numpy.lib.index_tricks.CClass at 0x10bcc2f28>,\n",
       " 'can_cast': <function numpy.core.multiarray.can_cast>,\n",
       " 'cast': {numpy.bool_: <function numpy.core.numerictypes.<lambda>>,\n",
       "  numpy.int8: <function numpy.core.numerictypes.<lambda>>,\n",
       "  numpy.uint8: <function numpy.core.numerictypes.<lambda>>,\n",
       "  numpy.int16: <function numpy.core.numerictypes.<lambda>>,\n",
       "  numpy.uint16: <function numpy.core.numerictypes.<lambda>>,\n",
       "  numpy.int32: <function numpy.core.numerictypes.<lambda>>,\n",
       "  numpy.uint32: <function numpy.core.numerictypes.<lambda>>,\n",
       "  numpy.int64: <function numpy.core.numerictypes.<lambda>>,\n",
       "  numpy.uint64: <function numpy.core.numerictypes.<lambda>>,\n",
       "  numpy.int64: <function numpy.core.numerictypes.<lambda>>,\n",
       "  numpy.uint64: <function numpy.core.numerictypes.<lambda>>,\n",
       "  numpy.float16: <function numpy.core.numerictypes.<lambda>>,\n",
       "  numpy.float32: <function numpy.core.numerictypes.<lambda>>,\n",
       "  numpy.float64: <function numpy.core.numerictypes.<lambda>>,\n",
       "  numpy.float128: <function numpy.core.numerictypes.<lambda>>,\n",
       "  numpy.complex64: <function numpy.core.numerictypes.<lambda>>,\n",
       "  numpy.complex128: <function numpy.core.numerictypes.<lambda>>,\n",
       "  numpy.complex256: <function numpy.core.numerictypes.<lambda>>,\n",
       "  numpy.object_: <function numpy.core.numerictypes.<lambda>>,\n",
       "  numpy.bytes_: <function numpy.core.numerictypes.<lambda>>,\n",
       "  numpy.str_: <function numpy.core.numerictypes.<lambda>>,\n",
       "  numpy.void: <function numpy.core.numerictypes.<lambda>>,\n",
       "  numpy.datetime64: <function numpy.core.numerictypes.<lambda>>,\n",
       "  numpy.timedelta64: <function numpy.core.numerictypes.<lambda>>},\n",
       " 'cbrt': <ufunc 'cbrt'>,\n",
       " 'cdouble': numpy.complex128,\n",
       " 'ceil': <ufunc 'ceil'>,\n",
       " 'cfloat': numpy.complex128,\n",
       " 'char': <module 'numpy.core.defchararray' from '/Users/dahlmoon/anaconda/lib/python3.6/site-packages/numpy/core/defchararray.py'>,\n",
       " 'character': numpy.character,\n",
       " 'chararray': numpy.core.defchararray.chararray,\n",
       " 'choose': <function numpy.core.fromnumeric.choose>,\n",
       " 'clip': <function numpy.core.fromnumeric.clip>,\n",
       " 'clongdouble': numpy.complex256,\n",
       " 'clongfloat': numpy.complex256,\n",
       " 'column_stack': <function numpy.lib.shape_base.column_stack>,\n",
       " 'common_type': <function numpy.lib.type_check.common_type>,\n",
       " 'compare_chararrays': <function numpy.core.multiarray.compare_chararrays>,\n",
       " 'compat': <module 'numpy.compat' from '/Users/dahlmoon/anaconda/lib/python3.6/site-packages/numpy/compat/__init__.py'>,\n",
       " 'complex': complex,\n",
       " 'complex128': numpy.complex128,\n",
       " 'complex256': numpy.complex256,\n",
       " 'complex64': numpy.complex64,\n",
       " 'complex_': numpy.complex128,\n",
       " 'complexfloating': numpy.complexfloating,\n",
       " 'compress': <function numpy.core.fromnumeric.compress>,\n",
       " 'concatenate': <function numpy.core.multiarray.concatenate>,\n",
       " 'conj': <ufunc 'conjugate'>,\n",
       " 'conjugate': <ufunc 'conjugate'>,\n",
       " 'convolve': <function numpy.core.numeric.convolve>,\n",
       " 'copy': <function numpy.lib.function_base.copy>,\n",
       " 'copysign': <ufunc 'copysign'>,\n",
       " 'copyto': <function numpy.core.multiarray.copyto>,\n",
       " 'core': <module 'numpy.core' from '/Users/dahlmoon/anaconda/lib/python3.6/site-packages/numpy/core/__init__.py'>,\n",
       " 'corrcoef': <function numpy.lib.function_base.corrcoef>,\n",
       " 'correlate': <function numpy.core.numeric.correlate>,\n",
       " 'cos': <ufunc 'cos'>,\n",
       " 'cosh': <ufunc 'cosh'>,\n",
       " 'count_nonzero': <function numpy.core.numeric.count_nonzero>,\n",
       " 'cov': <function numpy.lib.function_base.cov>,\n",
       " 'cross': <function numpy.core.numeric.cross>,\n",
       " 'csingle': numpy.complex64,\n",
       " 'ctypeslib': <module 'numpy.ctypeslib' from '/Users/dahlmoon/anaconda/lib/python3.6/site-packages/numpy/ctypeslib.py'>,\n",
       " 'cumprod': <function numpy.core.fromnumeric.cumprod>,\n",
       " 'cumproduct': <function numpy.core.fromnumeric.cumproduct>,\n",
       " 'cumsum': <function numpy.core.fromnumeric.cumsum>,\n",
       " 'datetime64': numpy.datetime64,\n",
       " 'datetime_as_string': <function numpy.core.multiarray.datetime_as_string>,\n",
       " 'datetime_data': <function numpy.core.multiarray.datetime_data>,\n",
       " 'deg2rad': <ufunc 'deg2rad'>,\n",
       " 'degrees': <ufunc 'degrees'>,\n",
       " 'delete': <function numpy.lib.function_base.delete>,\n",
       " 'deprecate': <function numpy.lib.utils.deprecate>,\n",
       " 'deprecate_with_doc': <function numpy.lib.utils.<lambda>>,\n",
       " 'diag': <function numpy.lib.twodim_base.diag>,\n",
       " 'diag_indices': <function numpy.lib.index_tricks.diag_indices>,\n",
       " 'diag_indices_from': <function numpy.lib.index_tricks.diag_indices_from>,\n",
       " 'diagflat': <function numpy.lib.twodim_base.diagflat>,\n",
       " 'diagonal': <function numpy.core.fromnumeric.diagonal>,\n",
       " 'diff': <function numpy.lib.function_base.diff>,\n",
       " 'digitize': <function numpy.core.multiarray.digitize>,\n",
       " 'disp': <function numpy.lib.function_base.disp>,\n",
       " 'divide': <ufunc 'true_divide'>,\n",
       " 'division': _Feature((2, 2, 0, 'alpha', 2), (3, 0, 0, 'alpha', 0), 8192),\n",
       " 'divmod': <ufunc 'divmod'>,\n",
       " 'dot': <function numpy.core.multiarray.dot>,\n",
       " 'double': numpy.float64,\n",
       " 'dsplit': <function numpy.lib.shape_base.dsplit>,\n",
       " 'dstack': <function numpy.lib.shape_base.dstack>,\n",
       " 'dtype': numpy.dtype,\n",
       " 'e': 2.718281828459045,\n",
       " 'ediff1d': <function numpy.lib.arraysetops.ediff1d>,\n",
       " 'einsum': <function numpy.core.einsumfunc.einsum>,\n",
       " 'einsum_path': <function numpy.core.einsumfunc.einsum_path>,\n",
       " 'emath': <module 'numpy.lib.scimath' from '/Users/dahlmoon/anaconda/lib/python3.6/site-packages/numpy/lib/scimath.py'>,\n",
       " 'empty': <function numpy.core.multiarray.empty>,\n",
       " 'empty_like': <function numpy.core.multiarray.empty_like>,\n",
       " 'equal': <ufunc 'equal'>,\n",
       " 'errstate': numpy.core.numeric.errstate,\n",
       " 'euler_gamma': 0.5772156649015329,\n",
       " 'exp': <ufunc 'exp'>,\n",
       " 'exp2': <ufunc 'exp2'>,\n",
       " 'expand_dims': <function numpy.lib.shape_base.expand_dims>,\n",
       " 'expm1': <ufunc 'expm1'>,\n",
       " 'extract': <function numpy.lib.function_base.extract>,\n",
       " 'eye': <function numpy.lib.twodim_base.eye>,\n",
       " 'fabs': <ufunc 'fabs'>,\n",
       " 'fastCopyAndTranspose': <function numpy.core.multiarray._fastCopyAndTranspose>,\n",
       " 'fft': <module 'numpy.fft' from '/Users/dahlmoon/anaconda/lib/python3.6/site-packages/numpy/fft/__init__.py'>,\n",
       " 'fill_diagonal': <function numpy.lib.index_tricks.fill_diagonal>,\n",
       " 'find_common_type': <function numpy.core.numerictypes.find_common_type>,\n",
       " 'finfo': numpy.core.getlimits.finfo,\n",
       " 'fix': <function numpy.lib.ufunclike.fix>,\n",
       " 'flatiter': numpy.flatiter,\n",
       " 'flatnonzero': <function numpy.core.numeric.flatnonzero>,\n",
       " 'flexible': numpy.flexible,\n",
       " 'flip': <function numpy.lib.function_base.flip>,\n",
       " 'fliplr': <function numpy.lib.twodim_base.fliplr>,\n",
       " 'flipud': <function numpy.lib.twodim_base.flipud>,\n",
       " 'float': float,\n",
       " 'float128': numpy.float128,\n",
       " 'float16': numpy.float16,\n",
       " 'float32': numpy.float32,\n",
       " 'float64': numpy.float64,\n",
       " 'float_': numpy.float64,\n",
       " 'float_power': <ufunc 'float_power'>,\n",
       " 'floating': numpy.floating,\n",
       " 'floor': <ufunc 'floor'>,\n",
       " 'floor_divide': <ufunc 'floor_divide'>,\n",
       " 'fmax': <ufunc 'fmax'>,\n",
       " 'fmin': <ufunc 'fmin'>,\n",
       " 'fmod': <ufunc 'fmod'>,\n",
       " 'format_parser': numpy.core.records.format_parser,\n",
       " 'frexp': <ufunc 'frexp'>,\n",
       " 'frombuffer': <function numpy.core.multiarray.frombuffer>,\n",
       " 'fromfile': <function numpy.core.multiarray.fromfile>,\n",
       " 'fromfunction': <function numpy.core.numeric.fromfunction>,\n",
       " 'fromiter': <function numpy.core.multiarray.fromiter>,\n",
       " 'frompyfunc': <function numpy.core.umath.frompyfunc>,\n",
       " 'fromregex': <function numpy.lib.npyio.fromregex>,\n",
       " 'fromstring': <function numpy.core.multiarray.fromstring>,\n",
       " 'full': <function numpy.core.numeric.full>,\n",
       " 'full_like': <function numpy.core.numeric.full_like>,\n",
       " 'fv': <function numpy.lib.financial.fv>,\n",
       " 'generic': numpy.generic,\n",
       " 'genfromtxt': <function numpy.lib.npyio.genfromtxt>,\n",
       " 'geomspace': <function numpy.core.function_base.geomspace>,\n",
       " 'get_array_wrap': <function numpy.lib.shape_base.get_array_wrap>,\n",
       " 'get_include': <function numpy.lib.utils.get_include>,\n",
       " 'get_printoptions': <function numpy.core.arrayprint.get_printoptions>,\n",
       " 'getbufsize': <function numpy.core.numeric.getbufsize>,\n",
       " 'geterr': <function numpy.core.numeric.geterr>,\n",
       " 'geterrcall': <function numpy.core.numeric.geterrcall>,\n",
       " 'geterrobj': <function numpy.core.umath.geterrobj>,\n",
       " 'gradient': <function numpy.lib.function_base.gradient>,\n",
       " 'greater': <ufunc 'greater'>,\n",
       " 'greater_equal': <ufunc 'greater_equal'>,\n",
       " 'half': numpy.float16,\n",
       " 'hamming': <function numpy.lib.function_base.hamming>,\n",
       " 'hanning': <function numpy.lib.function_base.hanning>,\n",
       " 'heaviside': <ufunc 'heaviside'>,\n",
       " 'histogram': <function numpy.lib.function_base.histogram>,\n",
       " 'histogram2d': <function numpy.lib.twodim_base.histogram2d>,\n",
       " 'histogramdd': <function numpy.lib.function_base.histogramdd>,\n",
       " 'hsplit': <function numpy.lib.shape_base.hsplit>,\n",
       " 'hstack': <function numpy.core.shape_base.hstack>,\n",
       " 'hypot': <ufunc 'hypot'>,\n",
       " 'i0': <function numpy.lib.function_base.i0>,\n",
       " 'identity': <function numpy.core.numeric.identity>,\n",
       " 'iinfo': numpy.core.getlimits.iinfo,\n",
       " 'imag': <function numpy.lib.type_check.imag>,\n",
       " 'in1d': <function numpy.lib.arraysetops.in1d>,\n",
       " 'index_exp': <numpy.lib.index_tricks.IndexExpression at 0x10bccd048>,\n",
       " 'indices': <function numpy.core.numeric.indices>,\n",
       " 'inexact': numpy.inexact,\n",
       " 'inf': inf,\n",
       " 'info': <function numpy.lib.utils.info>,\n",
       " 'infty': inf,\n",
       " 'inner': <function numpy.core.multiarray.inner>,\n",
       " 'insert': <function numpy.lib.function_base.insert>,\n",
       " 'int': int,\n",
       " 'int0': numpy.int64,\n",
       " 'int16': numpy.int16,\n",
       " 'int32': numpy.int32,\n",
       " 'int64': numpy.int64,\n",
       " 'int8': numpy.int8,\n",
       " 'int_': numpy.int64,\n",
       " 'int_asbuffer': <function numpy.core.multiarray.int_asbuffer>,\n",
       " 'intc': numpy.int32,\n",
       " 'integer': numpy.integer,\n",
       " 'interp': <function numpy.lib.function_base.interp>,\n",
       " 'intersect1d': <function numpy.lib.arraysetops.intersect1d>,\n",
       " 'intp': numpy.int64,\n",
       " 'invert': <ufunc 'invert'>,\n",
       " 'ipmt': <function numpy.lib.financial.ipmt>,\n",
       " 'irr': <function numpy.lib.financial.irr>,\n",
       " 'is_busday': <function numpy.core.multiarray.is_busday>,\n",
       " 'isclose': <function numpy.core.numeric.isclose>,\n",
       " 'iscomplex': <function numpy.lib.type_check.iscomplex>,\n",
       " 'iscomplexobj': <function numpy.lib.type_check.iscomplexobj>,\n",
       " 'isfinite': <ufunc 'isfinite'>,\n",
       " 'isfortran': <function numpy.core.numeric.isfortran>,\n",
       " 'isin': <function numpy.lib.arraysetops.isin>,\n",
       " 'isinf': <ufunc 'isinf'>,\n",
       " 'isnan': <ufunc 'isnan'>,\n",
       " 'isnat': <ufunc 'isnat'>,\n",
       " 'isneginf': <function numpy.lib.ufunclike.isneginf>,\n",
       " 'isposinf': <function numpy.lib.ufunclike.isposinf>,\n",
       " 'isreal': <function numpy.lib.type_check.isreal>,\n",
       " 'isrealobj': <function numpy.lib.type_check.isrealobj>,\n",
       " 'isscalar': <function numpy.core.numeric.isscalar>,\n",
       " 'issctype': <function numpy.core.numerictypes.issctype>,\n",
       " 'issubclass_': <function numpy.core.numerictypes.issubclass_>,\n",
       " 'issubdtype': <function numpy.core.numerictypes.issubdtype>,\n",
       " 'issubsctype': <function numpy.core.numerictypes.issubsctype>,\n",
       " 'iterable': <function numpy.lib.function_base.iterable>,\n",
       " 'ix_': <function numpy.lib.index_tricks.ix_>,\n",
       " 'kaiser': <function numpy.lib.function_base.kaiser>,\n",
       " 'kron': <function numpy.lib.shape_base.kron>,\n",
       " 'ldexp': <ufunc 'ldexp'>,\n",
       " 'left_shift': <ufunc 'left_shift'>,\n",
       " 'less': <ufunc 'less'>,\n",
       " 'less_equal': <ufunc 'less_equal'>,\n",
       " 'lexsort': <function numpy.core.multiarray.lexsort>,\n",
       " 'lib': <module 'numpy.lib' from '/Users/dahlmoon/anaconda/lib/python3.6/site-packages/numpy/lib/__init__.py'>,\n",
       " 'linalg': <module 'numpy.linalg' from '/Users/dahlmoon/anaconda/lib/python3.6/site-packages/numpy/linalg/__init__.py'>,\n",
       " 'linspace': <function numpy.core.function_base.linspace>,\n",
       " 'little_endian': True,\n",
       " 'load': <function numpy.lib.npyio.load>,\n",
       " 'loads': <function _pickle.loads>,\n",
       " 'loadtxt': <function numpy.lib.npyio.loadtxt>,\n",
       " 'log': <ufunc 'log'>,\n",
       " 'log10': <ufunc 'log10'>,\n",
       " 'log1p': <ufunc 'log1p'>,\n",
       " 'log2': <ufunc 'log2'>,\n",
       " 'logaddexp': <ufunc 'logaddexp'>,\n",
       " 'logaddexp2': <ufunc 'logaddexp2'>,\n",
       " 'logical_and': <ufunc 'logical_and'>,\n",
       " 'logical_not': <ufunc 'logical_not'>,\n",
       " 'logical_or': <ufunc 'logical_or'>,\n",
       " 'logical_xor': <ufunc 'logical_xor'>,\n",
       " 'logspace': <function numpy.core.function_base.logspace>,\n",
       " 'long': int,\n",
       " 'longcomplex': numpy.complex256,\n",
       " 'longdouble': numpy.float128,\n",
       " 'longfloat': numpy.float128,\n",
       " 'longlong': numpy.int64,\n",
       " 'lookfor': <function numpy.lib.utils.lookfor>,\n",
       " 'ma': <module 'numpy.ma' from '/Users/dahlmoon/anaconda/lib/python3.6/site-packages/numpy/ma/__init__.py'>,\n",
       " 'mafromtxt': <function numpy.lib.npyio.mafromtxt>,\n",
       " 'mask_indices': <function numpy.lib.twodim_base.mask_indices>,\n",
       " 'mat': <function numpy.matrixlib.defmatrix.asmatrix>,\n",
       " 'math': <module 'math' from '/Users/dahlmoon/anaconda/lib/python3.6/lib-dynload/math.cpython-36m-darwin.so'>,\n",
       " 'matmul': <function numpy.core.multiarray.matmul>,\n",
       " 'matrix': numpy.matrixlib.defmatrix.matrix,\n",
       " 'matrixlib': <module 'numpy.matrixlib' from '/Users/dahlmoon/anaconda/lib/python3.6/site-packages/numpy/matrixlib/__init__.py'>,\n",
       " 'max': <function numpy.core.fromnumeric.amax>,\n",
       " 'maximum': <ufunc 'maximum'>,\n",
       " 'maximum_sctype': <function numpy.core.numerictypes.maximum_sctype>,\n",
       " 'may_share_memory': <function numpy.core.multiarray.may_share_memory>,\n",
       " 'mean': <function numpy.core.fromnumeric.mean>,\n",
       " 'median': <function numpy.lib.function_base.median>,\n",
       " 'memmap': numpy.core.memmap.memmap,\n",
       " 'meshgrid': <function numpy.lib.function_base.meshgrid>,\n",
       " 'mgrid': <numpy.lib.index_tricks.nd_grid at 0x10bc9e278>,\n",
       " 'min': <function numpy.core.fromnumeric.amin>,\n",
       " 'min_scalar_type': <function numpy.core.multiarray.min_scalar_type>,\n",
       " 'minimum': <ufunc 'minimum'>,\n",
       " 'mintypecode': <function numpy.lib.type_check.mintypecode>,\n",
       " 'mirr': <function numpy.lib.financial.mirr>,\n",
       " 'mod': <ufunc 'remainder'>,\n",
       " 'modf': <ufunc 'modf'>,\n",
       " 'moveaxis': <function numpy.core.numeric.moveaxis>,\n",
       " 'msort': <function numpy.lib.function_base.msort>,\n",
       " 'multiply': <ufunc 'multiply'>,\n",
       " 'nan': nan,\n",
       " 'nan_to_num': <function numpy.lib.type_check.nan_to_num>,\n",
       " 'nanargmax': <function numpy.lib.nanfunctions.nanargmax>,\n",
       " 'nanargmin': <function numpy.lib.nanfunctions.nanargmin>,\n",
       " 'nancumprod': <function numpy.lib.nanfunctions.nancumprod>,\n",
       " 'nancumsum': <function numpy.lib.nanfunctions.nancumsum>,\n",
       " 'nanmax': <function numpy.lib.nanfunctions.nanmax>,\n",
       " 'nanmean': <function numpy.lib.nanfunctions.nanmean>,\n",
       " 'nanmedian': <function numpy.lib.nanfunctions.nanmedian>,\n",
       " 'nanmin': <function numpy.lib.nanfunctions.nanmin>,\n",
       " 'nanpercentile': <function numpy.lib.nanfunctions.nanpercentile>,\n",
       " 'nanprod': <function numpy.lib.nanfunctions.nanprod>,\n",
       " 'nanstd': <function numpy.lib.nanfunctions.nanstd>,\n",
       " 'nansum': <function numpy.lib.nanfunctions.nansum>,\n",
       " 'nanvar': <function numpy.lib.nanfunctions.nanvar>,\n",
       " 'nbytes': {numpy.bool_: 1,\n",
       "  numpy.int8: 1,\n",
       "  numpy.uint8: 1,\n",
       "  numpy.int16: 2,\n",
       "  numpy.uint16: 2,\n",
       "  numpy.int32: 4,\n",
       "  numpy.uint32: 4,\n",
       "  numpy.int64: 8,\n",
       "  numpy.uint64: 8,\n",
       "  numpy.int64: 8,\n",
       "  numpy.uint64: 8,\n",
       "  numpy.float16: 2,\n",
       "  numpy.float32: 4,\n",
       "  numpy.float64: 8,\n",
       "  numpy.float128: 16,\n",
       "  numpy.complex64: 8,\n",
       "  numpy.complex128: 16,\n",
       "  numpy.complex256: 32,\n",
       "  numpy.object_: 8,\n",
       "  numpy.bytes_: 0,\n",
       "  numpy.str_: 0,\n",
       "  numpy.void: 0,\n",
       "  numpy.datetime64: 8,\n",
       "  numpy.timedelta64: 8},\n",
       " 'ndarray': numpy.ndarray,\n",
       " 'ndenumerate': numpy.lib.index_tricks.ndenumerate,\n",
       " 'ndfromtxt': <function numpy.lib.npyio.ndfromtxt>,\n",
       " 'ndim': <function numpy.core.fromnumeric.ndim>,\n",
       " 'ndindex': numpy.lib.index_tricks.ndindex,\n",
       " 'nditer': numpy.nditer,\n",
       " 'negative': <ufunc 'negative'>,\n",
       " 'nested_iters': <function numpy.core.multiarray.nested_iters>,\n",
       " 'newaxis': None,\n",
       " 'nextafter': <ufunc 'nextafter'>,\n",
       " 'nonzero': <function numpy.core.fromnumeric.nonzero>,\n",
       " 'not_equal': <ufunc 'not_equal'>,\n",
       " 'nper': <function numpy.lib.financial.nper>,\n",
       " 'npv': <function numpy.lib.financial.npv>,\n",
       " 'numarray': 'removed',\n",
       " 'number': numpy.number,\n",
       " 'obj2sctype': <function numpy.core.numerictypes.obj2sctype>,\n",
       " 'object': object,\n",
       " 'object0': numpy.object_,\n",
       " 'object_': numpy.object_,\n",
       " 'ogrid': <numpy.lib.index_tricks.nd_grid at 0x10bc9e2e8>,\n",
       " 'oldnumeric': 'removed',\n",
       " 'ones': <function numpy.core.numeric.ones>,\n",
       " 'ones_like': <function numpy.core.numeric.ones_like>,\n",
       " 'outer': <function numpy.core.numeric.outer>,\n",
       " 'packbits': <function numpy.core.multiarray.packbits>,\n",
       " 'pad': <function numpy.lib.arraypad.pad>,\n",
       " 'partition': <function numpy.core.fromnumeric.partition>,\n",
       " 'percentile': <function numpy.lib.function_base.percentile>,\n",
       " 'pi': 3.141592653589793,\n",
       " 'piecewise': <function numpy.lib.function_base.piecewise>,\n",
       " 'pkgload': <function numpy.pkgload>,\n",
       " 'place': <function numpy.lib.function_base.place>,\n",
       " 'pmt': <function numpy.lib.financial.pmt>,\n",
       " 'poly': <function numpy.lib.polynomial.poly>,\n",
       " 'poly1d': numpy.lib.polynomial.poly1d,\n",
       " 'polyadd': <function numpy.lib.polynomial.polyadd>,\n",
       " 'polyder': <function numpy.lib.polynomial.polyder>,\n",
       " 'polydiv': <function numpy.lib.polynomial.polydiv>,\n",
       " 'polyfit': <function numpy.lib.polynomial.polyfit>,\n",
       " 'polyint': <function numpy.lib.polynomial.polyint>,\n",
       " 'polymul': <function numpy.lib.polynomial.polymul>,\n",
       " 'polynomial': <module 'numpy.polynomial' from '/Users/dahlmoon/anaconda/lib/python3.6/site-packages/numpy/polynomial/__init__.py'>,\n",
       " 'polysub': <function numpy.lib.polynomial.polysub>,\n",
       " 'polyval': <function numpy.lib.polynomial.polyval>,\n",
       " 'positive': <ufunc 'positive'>,\n",
       " 'power': <ufunc 'power'>,\n",
       " 'ppmt': <function numpy.lib.financial.ppmt>,\n",
       " 'print_function': _Feature((2, 6, 0, 'alpha', 2), (3, 0, 0, 'alpha', 0), 65536),\n",
       " 'prod': <function numpy.core.fromnumeric.prod>,\n",
       " 'product': <function numpy.core.fromnumeric.product>,\n",
       " 'promote_types': <function numpy.core.multiarray.promote_types>,\n",
       " 'ptp': <function numpy.core.fromnumeric.ptp>,\n",
       " 'put': <function numpy.core.fromnumeric.put>,\n",
       " 'putmask': <function numpy.core.multiarray.putmask>,\n",
       " 'pv': <function numpy.lib.financial.pv>,\n",
       " 'r_': <numpy.lib.index_tricks.RClass at 0x10bcc2eb8>,\n",
       " 'rad2deg': <ufunc 'rad2deg'>,\n",
       " 'radians': <ufunc 'radians'>,\n",
       " 'random': <module 'numpy.random' from '/Users/dahlmoon/anaconda/lib/python3.6/site-packages/numpy/random/__init__.py'>,\n",
       " 'rank': <function numpy.core.fromnumeric.rank>,\n",
       " 'rate': <function numpy.lib.financial.rate>,\n",
       " 'ravel': <function numpy.core.fromnumeric.ravel>,\n",
       " 'ravel_multi_index': <function numpy.core.multiarray.ravel_multi_index>,\n",
       " 'real': <function numpy.lib.type_check.real>,\n",
       " 'real_if_close': <function numpy.lib.type_check.real_if_close>,\n",
       " 'rec': <module 'numpy.core.records' from '/Users/dahlmoon/anaconda/lib/python3.6/site-packages/numpy/core/records.py'>,\n",
       " 'recarray': numpy.recarray,\n",
       " 'recfromcsv': <function numpy.lib.npyio.recfromcsv>,\n",
       " 'recfromtxt': <function numpy.lib.npyio.recfromtxt>,\n",
       " 'reciprocal': <ufunc 'reciprocal'>,\n",
       " 'record': numpy.record,\n",
       " 'remainder': <ufunc 'remainder'>,\n",
       " 'repeat': <function numpy.core.fromnumeric.repeat>,\n",
       " 'require': <function numpy.core.numeric.require>,\n",
       " 'reshape': <function numpy.core.fromnumeric.reshape>,\n",
       " 'resize': <function numpy.core.fromnumeric.resize>,\n",
       " 'result_type': <function numpy.core.multiarray.result_type>,\n",
       " 'right_shift': <ufunc 'right_shift'>,\n",
       " 'rint': <ufunc 'rint'>,\n",
       " 'roll': <function numpy.core.numeric.roll>,\n",
       " 'rollaxis': <function numpy.core.numeric.rollaxis>,\n",
       " 'roots': <function numpy.lib.polynomial.roots>,\n",
       " 'rot90': <function numpy.lib.function_base.rot90>,\n",
       " 'round': <function numpy.core.fromnumeric.round_>,\n",
       " 'round_': <function numpy.core.fromnumeric.round_>,\n",
       " 'row_stack': <function numpy.core.shape_base.vstack>,\n",
       " 's_': <numpy.lib.index_tricks.IndexExpression at 0x10bccd080>,\n",
       " 'safe_eval': <function numpy.lib.utils.safe_eval>,\n",
       " 'save': <function numpy.lib.npyio.save>,\n",
       " 'savetxt': <function numpy.lib.npyio.savetxt>,\n",
       " 'savez': <function numpy.lib.npyio.savez>,\n",
       " 'savez_compressed': <function numpy.lib.npyio.savez_compressed>,\n",
       " 'sctype2char': <function numpy.core.numerictypes.sctype2char>,\n",
       " 'sctypeDict': {'?': numpy.bool_,\n",
       "  0: numpy.bool_,\n",
       "  'byte': numpy.int8,\n",
       "  'b': numpy.int8,\n",
       "  1: numpy.int8,\n",
       "  'ubyte': numpy.uint8,\n",
       "  'B': numpy.uint8,\n",
       "  2: numpy.uint8,\n",
       "  'short': numpy.int16,\n",
       "  'h': numpy.int16,\n",
       "  3: numpy.int16,\n",
       "  'ushort': numpy.uint16,\n",
       "  'H': numpy.uint16,\n",
       "  4: numpy.uint16,\n",
       "  'i': numpy.int32,\n",
       "  5: numpy.int32,\n",
       "  'uint': numpy.uint64,\n",
       "  'I': numpy.uint32,\n",
       "  6: numpy.uint32,\n",
       "  'intp': numpy.int64,\n",
       "  'p': numpy.int64,\n",
       "  7: numpy.int64,\n",
       "  'uintp': numpy.uint64,\n",
       "  'P': numpy.uint64,\n",
       "  8: numpy.uint64,\n",
       "  'long': numpy.int64,\n",
       "  'l': numpy.int64,\n",
       "  'L': numpy.uint64,\n",
       "  'longlong': numpy.int64,\n",
       "  'q': numpy.int64,\n",
       "  9: numpy.int64,\n",
       "  'ulonglong': numpy.uint64,\n",
       "  'Q': numpy.uint64,\n",
       "  10: numpy.uint64,\n",
       "  'half': numpy.float16,\n",
       "  'e': numpy.float16,\n",
       "  23: numpy.float16,\n",
       "  'f': numpy.float32,\n",
       "  11: numpy.float32,\n",
       "  'double': numpy.float64,\n",
       "  'd': numpy.float64,\n",
       "  12: numpy.float64,\n",
       "  'longdouble': numpy.float128,\n",
       "  'g': numpy.float128,\n",
       "  13: numpy.float128,\n",
       "  'cfloat': numpy.complex128,\n",
       "  'F': numpy.complex64,\n",
       "  14: numpy.complex64,\n",
       "  'cdouble': numpy.complex128,\n",
       "  'D': numpy.complex128,\n",
       "  15: numpy.complex128,\n",
       "  'clongdouble': numpy.complex256,\n",
       "  'G': numpy.complex256,\n",
       "  16: numpy.complex256,\n",
       "  'O': numpy.object_,\n",
       "  17: numpy.object_,\n",
       "  'S': numpy.bytes_,\n",
       "  18: numpy.bytes_,\n",
       "  'unicode': numpy.str_,\n",
       "  'U': numpy.str_,\n",
       "  19: numpy.str_,\n",
       "  'void': numpy.void,\n",
       "  'V': numpy.void,\n",
       "  20: numpy.void,\n",
       "  'M': numpy.datetime64,\n",
       "  21: numpy.datetime64,\n",
       "  'm': numpy.timedelta64,\n",
       "  22: numpy.timedelta64,\n",
       "  'bool8': numpy.bool_,\n",
       "  'Bool': numpy.bool_,\n",
       "  'b1': numpy.bool_,\n",
       "  'float16': numpy.float16,\n",
       "  'Float16': numpy.float16,\n",
       "  'f2': numpy.float16,\n",
       "  'float32': numpy.float32,\n",
       "  'Float32': numpy.float32,\n",
       "  'f4': numpy.float32,\n",
       "  'float64': numpy.float64,\n",
       "  'Float64': numpy.float64,\n",
       "  'f8': numpy.float64,\n",
       "  'float128': numpy.float128,\n",
       "  'Float128': numpy.float128,\n",
       "  'f16': numpy.float128,\n",
       "  'complex64': numpy.complex64,\n",
       "  'Complex32': numpy.complex64,\n",
       "  'c8': numpy.complex64,\n",
       "  'complex128': numpy.complex128,\n",
       "  'Complex64': numpy.complex128,\n",
       "  'c16': numpy.complex128,\n",
       "  'complex256': numpy.complex256,\n",
       "  'Complex128': numpy.complex256,\n",
       "  'c32': numpy.complex256,\n",
       "  'object0': numpy.object_,\n",
       "  'Object0': numpy.object_,\n",
       "  'bytes0': numpy.bytes_,\n",
       "  'Bytes0': numpy.bytes_,\n",
       "  'str0': numpy.str_,\n",
       "  'Str0': numpy.str_,\n",
       "  'void0': numpy.void,\n",
       "  'Void0': numpy.void,\n",
       "  'datetime64': numpy.datetime64,\n",
       "  'Datetime64': numpy.datetime64,\n",
       "  'M8': numpy.datetime64,\n",
       "  'timedelta64': numpy.timedelta64,\n",
       "  'Timedelta64': numpy.timedelta64,\n",
       "  'm8': numpy.timedelta64,\n",
       "  'int64': numpy.int64,\n",
       "  'uint64': numpy.uint64,\n",
       "  'Int64': numpy.int64,\n",
       "  'UInt64': numpy.uint64,\n",
       "  'i8': numpy.int64,\n",
       "  'u8': numpy.uint64,\n",
       "  'int32': numpy.int32,\n",
       "  'uint32': numpy.uint32,\n",
       "  'Int32': numpy.int32,\n",
       "  'UInt32': numpy.uint32,\n",
       "  'i4': numpy.int32,\n",
       "  'u4': numpy.uint32,\n",
       "  'int16': numpy.int16,\n",
       "  'uint16': numpy.uint16,\n",
       "  'Int16': numpy.int16,\n",
       "  'UInt16': numpy.uint16,\n",
       "  'i2': numpy.int16,\n",
       "  'u2': numpy.uint16,\n",
       "  'int8': numpy.int8,\n",
       "  'uint8': numpy.uint8,\n",
       "  'Int8': numpy.int8,\n",
       "  'UInt8': numpy.uint8,\n",
       "  'i1': numpy.int8,\n",
       "  'u1': numpy.uint8,\n",
       "  'complex_': numpy.complex128,\n",
       "  'int0': numpy.int64,\n",
       "  'uint0': numpy.uint64,\n",
       "  'single': numpy.float32,\n",
       "  'csingle': numpy.complex64,\n",
       "  'singlecomplex': numpy.complex64,\n",
       "  'float_': numpy.float64,\n",
       "  'intc': numpy.int32,\n",
       "  'uintc': numpy.uint32,\n",
       "  'int_': numpy.int64,\n",
       "  'longfloat': numpy.float128,\n",
       "  'clongfloat': numpy.complex256,\n",
       "  'longcomplex': numpy.complex256,\n",
       "  'bool_': numpy.bool_,\n",
       "  'unicode_': numpy.str_,\n",
       "  'object_': numpy.object_,\n",
       "  'bytes_': numpy.bytes_,\n",
       "  'str_': numpy.str_,\n",
       "  'string_': numpy.bytes_,\n",
       "  'int': numpy.int64,\n",
       "  'float': numpy.float64,\n",
       "  'complex': numpy.complex128,\n",
       "  'bool': numpy.bool_,\n",
       "  'object': numpy.object_,\n",
       "  'str': numpy.str_,\n",
       "  'bytes': numpy.bytes_,\n",
       "  'a': numpy.bytes_},\n",
       " 'sctypeNA': {'Bool': numpy.bool_,\n",
       "  numpy.bool_: 'Bool',\n",
       "  '?': 'Bool',\n",
       "  'b1': 'Bool',\n",
       "  'Float16': numpy.float16,\n",
       "  numpy.float16: 'Float16',\n",
       "  'e': 'Float16',\n",
       "  'f2': 'Float16',\n",
       "  'Float32': numpy.float32,\n",
       "  numpy.float32: 'Float32',\n",
       "  'f': 'Float32',\n",
       "  'f4': 'Float32',\n",
       "  'Float64': numpy.float64,\n",
       "  numpy.float64: 'Float64',\n",
       "  'd': 'Float64',\n",
       "  'f8': 'Float64',\n",
       "  'Float128': numpy.float128,\n",
       "  numpy.float128: 'Float128',\n",
       "  'g': 'Float128',\n",
       "  'f16': 'Float128',\n",
       "  'Complex32': numpy.complex64,\n",
       "  numpy.complex64: 'Complex32',\n",
       "  'F': 'Complex32',\n",
       "  'c8': 'Complex32',\n",
       "  'Complex64': numpy.complex128,\n",
       "  numpy.complex128: 'Complex64',\n",
       "  'D': 'Complex64',\n",
       "  'c16': 'Complex64',\n",
       "  'Complex128': numpy.complex256,\n",
       "  numpy.complex256: 'Complex128',\n",
       "  'G': 'Complex128',\n",
       "  'c32': 'Complex128',\n",
       "  'Object0': numpy.object_,\n",
       "  numpy.object_: 'Object0',\n",
       "  'O': 'Object0',\n",
       "  'Bytes0': numpy.bytes_,\n",
       "  numpy.bytes_: 'Bytes0',\n",
       "  'S': 'Bytes0',\n",
       "  'Str0': numpy.str_,\n",
       "  numpy.str_: 'Str0',\n",
       "  'U': 'Str0',\n",
       "  'Void0': numpy.void,\n",
       "  numpy.void: 'Void0',\n",
       "  'V': 'Void0',\n",
       "  'Datetime64': numpy.datetime64,\n",
       "  numpy.datetime64: 'Datetime64',\n",
       "  'M': 'Datetime64',\n",
       "  'M8': 'Datetime64',\n",
       "  'Timedelta64': numpy.timedelta64,\n",
       "  numpy.timedelta64: 'Timedelta64',\n",
       "  'm': 'Timedelta64',\n",
       "  'm8': 'Timedelta64',\n",
       "  'Int64': numpy.int64,\n",
       "  'UInt64': numpy.uint64,\n",
       "  'i8': numpy.int64,\n",
       "  'u8': numpy.uint64,\n",
       "  numpy.int64: 'Int64',\n",
       "  numpy.uint64: 'UInt64',\n",
       "  'l': 'Int64',\n",
       "  'L': 'UInt64',\n",
       "  numpy.int64: 'Int64',\n",
       "  numpy.uint64: 'UInt64',\n",
       "  'q': 'Int64',\n",
       "  'Q': 'UInt64',\n",
       "  'Int32': numpy.int32,\n",
       "  'UInt32': numpy.uint32,\n",
       "  'i4': numpy.int32,\n",
       "  'u4': numpy.uint32,\n",
       "  numpy.int32: 'Int32',\n",
       "  numpy.uint32: 'UInt32',\n",
       "  'i': 'Int32',\n",
       "  'I': 'UInt32',\n",
       "  'Int16': numpy.int16,\n",
       "  'UInt16': numpy.uint16,\n",
       "  'i2': numpy.int16,\n",
       "  'u2': numpy.uint16,\n",
       "  numpy.int16: 'Int16',\n",
       "  numpy.uint16: 'UInt16',\n",
       "  'h': 'Int16',\n",
       "  'H': 'UInt16',\n",
       "  'Int8': numpy.int8,\n",
       "  'UInt8': numpy.uint8,\n",
       "  'i1': numpy.int8,\n",
       "  'u1': numpy.uint8,\n",
       "  numpy.int8: 'Int8',\n",
       "  numpy.uint8: 'UInt8',\n",
       "  'b': 'Int8',\n",
       "  'B': 'UInt8'},\n",
       " 'sctypes': {'complex': [numpy.complex64, numpy.complex128, numpy.complex256],\n",
       "  'float': [numpy.float16, numpy.float32, numpy.float64, numpy.float128],\n",
       "  'int': [numpy.int8, numpy.int16, numpy.int32, numpy.int64],\n",
       "  'others': [bool, object, bytes, str, numpy.void],\n",
       "  'uint': [numpy.uint8, numpy.uint16, numpy.uint32, numpy.uint64]},\n",
       " 'searchsorted': <function numpy.core.fromnumeric.searchsorted>,\n",
       " 'select': <function numpy.lib.function_base.select>,\n",
       " 'set_numeric_ops': <function numpy.core.multiarray.set_numeric_ops>,\n",
       " 'set_printoptions': <function numpy.core.arrayprint.set_printoptions>,\n",
       " 'set_string_function': <function numpy.core.numeric.set_string_function>,\n",
       " 'setbufsize': <function numpy.core.numeric.setbufsize>,\n",
       " 'setdiff1d': <function numpy.lib.arraysetops.setdiff1d>,\n",
       " 'seterr': <function numpy.core.numeric.seterr>,\n",
       " 'seterrcall': <function numpy.core.numeric.seterrcall>,\n",
       " 'seterrobj': <function numpy.core.umath.seterrobj>,\n",
       " 'setxor1d': <function numpy.lib.arraysetops.setxor1d>,\n",
       " 'shape': <function numpy.core.fromnumeric.shape>,\n",
       " 'shares_memory': <function numpy.core.multiarray.shares_memory>,\n",
       " 'short': numpy.int16,\n",
       " 'show_config': <function numpy.__config__.show>,\n",
       " 'sign': <ufunc 'sign'>,\n",
       " 'signbit': <ufunc 'signbit'>,\n",
       " 'signedinteger': numpy.signedinteger,\n",
       " 'sin': <ufunc 'sin'>,\n",
       " 'sinc': <function numpy.lib.function_base.sinc>,\n",
       " 'single': numpy.float32,\n",
       " 'singlecomplex': numpy.complex64,\n",
       " 'sinh': <ufunc 'sinh'>,\n",
       " 'size': <function numpy.core.fromnumeric.size>,\n",
       " 'sometrue': <function numpy.core.fromnumeric.sometrue>,\n",
       " 'sort': <function numpy.core.fromnumeric.sort>,\n",
       " 'sort_complex': <function numpy.lib.function_base.sort_complex>,\n",
       " 'source': <function numpy.lib.utils.source>,\n",
       " 'spacing': <ufunc 'spacing'>,\n",
       " 'split': <function numpy.lib.shape_base.split>,\n",
       " 'sqrt': <ufunc 'sqrt'>,\n",
       " 'square': <ufunc 'square'>,\n",
       " 'squeeze': <function numpy.core.fromnumeric.squeeze>,\n",
       " 'stack': <function numpy.core.shape_base.stack>,\n",
       " 'std': <function numpy.core.fromnumeric.std>,\n",
       " 'str': str,\n",
       " 'str0': numpy.str_,\n",
       " 'str_': numpy.str_,\n",
       " 'string_': numpy.bytes_,\n",
       " 'subtract': <ufunc 'subtract'>,\n",
       " 'sum': <function numpy.core.fromnumeric.sum>,\n",
       " 'swapaxes': <function numpy.core.fromnumeric.swapaxes>,\n",
       " 'sys': <module 'sys' (built-in)>,\n",
       " 'take': <function numpy.core.fromnumeric.take>,\n",
       " 'tan': <ufunc 'tan'>,\n",
       " 'tanh': <ufunc 'tanh'>,\n",
       " 'tensordot': <function numpy.core.numeric.tensordot>,\n",
       " 'test': <bound method NoseTester.test of <numpy.testing.nosetester.NoseTester object at 0x10b742ba8>>,\n",
       " 'testing': <module 'numpy.testing' from '/Users/dahlmoon/anaconda/lib/python3.6/site-packages/numpy/testing/__init__.py'>,\n",
       " 'tile': <function numpy.lib.shape_base.tile>,\n",
       " 'timedelta64': numpy.timedelta64,\n",
       " 'trace': <function numpy.core.fromnumeric.trace>,\n",
       " 'tracemalloc_domain': 389047,\n",
       " 'transpose': <function numpy.core.fromnumeric.transpose>,\n",
       " 'trapz': <function numpy.lib.function_base.trapz>,\n",
       " 'tri': <function numpy.lib.twodim_base.tri>,\n",
       " 'tril': <function numpy.lib.twodim_base.tril>,\n",
       " 'tril_indices': <function numpy.lib.twodim_base.tril_indices>,\n",
       " 'tril_indices_from': <function numpy.lib.twodim_base.tril_indices_from>,\n",
       " 'trim_zeros': <function numpy.lib.function_base.trim_zeros>,\n",
       " 'triu': <function numpy.lib.twodim_base.triu>,\n",
       " 'triu_indices': <function numpy.lib.twodim_base.triu_indices>,\n",
       " 'triu_indices_from': <function numpy.lib.twodim_base.triu_indices_from>,\n",
       " 'true_divide': <ufunc 'true_divide'>,\n",
       " 'trunc': <ufunc 'trunc'>,\n",
       " 'typeDict': {'?': numpy.bool_,\n",
       "  0: numpy.bool_,\n",
       "  'byte': numpy.int8,\n",
       "  'b': numpy.int8,\n",
       "  1: numpy.int8,\n",
       "  'ubyte': numpy.uint8,\n",
       "  'B': numpy.uint8,\n",
       "  2: numpy.uint8,\n",
       "  'short': numpy.int16,\n",
       "  'h': numpy.int16,\n",
       "  3: numpy.int16,\n",
       "  'ushort': numpy.uint16,\n",
       "  'H': numpy.uint16,\n",
       "  4: numpy.uint16,\n",
       "  'i': numpy.int32,\n",
       "  5: numpy.int32,\n",
       "  'uint': numpy.uint64,\n",
       "  'I': numpy.uint32,\n",
       "  6: numpy.uint32,\n",
       "  'intp': numpy.int64,\n",
       "  'p': numpy.int64,\n",
       "  7: numpy.int64,\n",
       "  'uintp': numpy.uint64,\n",
       "  'P': numpy.uint64,\n",
       "  8: numpy.uint64,\n",
       "  'long': numpy.int64,\n",
       "  'l': numpy.int64,\n",
       "  'L': numpy.uint64,\n",
       "  'longlong': numpy.int64,\n",
       "  'q': numpy.int64,\n",
       "  9: numpy.int64,\n",
       "  'ulonglong': numpy.uint64,\n",
       "  'Q': numpy.uint64,\n",
       "  10: numpy.uint64,\n",
       "  'half': numpy.float16,\n",
       "  'e': numpy.float16,\n",
       "  23: numpy.float16,\n",
       "  'f': numpy.float32,\n",
       "  11: numpy.float32,\n",
       "  'double': numpy.float64,\n",
       "  'd': numpy.float64,\n",
       "  12: numpy.float64,\n",
       "  'longdouble': numpy.float128,\n",
       "  'g': numpy.float128,\n",
       "  13: numpy.float128,\n",
       "  'cfloat': numpy.complex128,\n",
       "  'F': numpy.complex64,\n",
       "  14: numpy.complex64,\n",
       "  'cdouble': numpy.complex128,\n",
       "  'D': numpy.complex128,\n",
       "  15: numpy.complex128,\n",
       "  'clongdouble': numpy.complex256,\n",
       "  'G': numpy.complex256,\n",
       "  16: numpy.complex256,\n",
       "  'O': numpy.object_,\n",
       "  17: numpy.object_,\n",
       "  'S': numpy.bytes_,\n",
       "  18: numpy.bytes_,\n",
       "  'unicode': numpy.str_,\n",
       "  'U': numpy.str_,\n",
       "  19: numpy.str_,\n",
       "  'void': numpy.void,\n",
       "  'V': numpy.void,\n",
       "  20: numpy.void,\n",
       "  'M': numpy.datetime64,\n",
       "  21: numpy.datetime64,\n",
       "  'm': numpy.timedelta64,\n",
       "  22: numpy.timedelta64,\n",
       "  'bool8': numpy.bool_,\n",
       "  'Bool': numpy.bool_,\n",
       "  'b1': numpy.bool_,\n",
       "  'float16': numpy.float16,\n",
       "  'Float16': numpy.float16,\n",
       "  'f2': numpy.float16,\n",
       "  'float32': numpy.float32,\n",
       "  'Float32': numpy.float32,\n",
       "  'f4': numpy.float32,\n",
       "  'float64': numpy.float64,\n",
       "  'Float64': numpy.float64,\n",
       "  'f8': numpy.float64,\n",
       "  'float128': numpy.float128,\n",
       "  'Float128': numpy.float128,\n",
       "  'f16': numpy.float128,\n",
       "  'complex64': numpy.complex64,\n",
       "  'Complex32': numpy.complex64,\n",
       "  'c8': numpy.complex64,\n",
       "  'complex128': numpy.complex128,\n",
       "  'Complex64': numpy.complex128,\n",
       "  'c16': numpy.complex128,\n",
       "  'complex256': numpy.complex256,\n",
       "  'Complex128': numpy.complex256,\n",
       "  'c32': numpy.complex256,\n",
       "  'object0': numpy.object_,\n",
       "  'Object0': numpy.object_,\n",
       "  'bytes0': numpy.bytes_,\n",
       "  'Bytes0': numpy.bytes_,\n",
       "  'str0': numpy.str_,\n",
       "  'Str0': numpy.str_,\n",
       "  'void0': numpy.void,\n",
       "  'Void0': numpy.void,\n",
       "  'datetime64': numpy.datetime64,\n",
       "  'Datetime64': numpy.datetime64,\n",
       "  'M8': numpy.datetime64,\n",
       "  'timedelta64': numpy.timedelta64,\n",
       "  'Timedelta64': numpy.timedelta64,\n",
       "  'm8': numpy.timedelta64,\n",
       "  'int64': numpy.int64,\n",
       "  'uint64': numpy.uint64,\n",
       "  'Int64': numpy.int64,\n",
       "  'UInt64': numpy.uint64,\n",
       "  'i8': numpy.int64,\n",
       "  'u8': numpy.uint64,\n",
       "  'int32': numpy.int32,\n",
       "  'uint32': numpy.uint32,\n",
       "  'Int32': numpy.int32,\n",
       "  'UInt32': numpy.uint32,\n",
       "  'i4': numpy.int32,\n",
       "  'u4': numpy.uint32,\n",
       "  'int16': numpy.int16,\n",
       "  'uint16': numpy.uint16,\n",
       "  'Int16': numpy.int16,\n",
       "  'UInt16': numpy.uint16,\n",
       "  'i2': numpy.int16,\n",
       "  'u2': numpy.uint16,\n",
       "  'int8': numpy.int8,\n",
       "  'uint8': numpy.uint8,\n",
       "  'Int8': numpy.int8,\n",
       "  'UInt8': numpy.uint8,\n",
       "  'i1': numpy.int8,\n",
       "  'u1': numpy.uint8,\n",
       "  'complex_': numpy.complex128,\n",
       "  'int0': numpy.int64,\n",
       "  'uint0': numpy.uint64,\n",
       "  'single': numpy.float32,\n",
       "  'csingle': numpy.complex64,\n",
       "  'singlecomplex': numpy.complex64,\n",
       "  'float_': numpy.float64,\n",
       "  'intc': numpy.int32,\n",
       "  'uintc': numpy.uint32,\n",
       "  'int_': numpy.int64,\n",
       "  'longfloat': numpy.float128,\n",
       "  'clongfloat': numpy.complex256,\n",
       "  'longcomplex': numpy.complex256,\n",
       "  'bool_': numpy.bool_,\n",
       "  'unicode_': numpy.str_,\n",
       "  'object_': numpy.object_,\n",
       "  'bytes_': numpy.bytes_,\n",
       "  'str_': numpy.str_,\n",
       "  'string_': numpy.bytes_,\n",
       "  'int': numpy.int64,\n",
       "  'float': numpy.float64,\n",
       "  'complex': numpy.complex128,\n",
       "  'bool': numpy.bool_,\n",
       "  'object': numpy.object_,\n",
       "  'str': numpy.str_,\n",
       "  'bytes': numpy.bytes_,\n",
       "  'a': numpy.bytes_},\n",
       " 'typeNA': {'Bool': numpy.bool_,\n",
       "  numpy.bool_: 'Bool',\n",
       "  '?': 'Bool',\n",
       "  'b1': 'Bool',\n",
       "  'Float16': numpy.float16,\n",
       "  numpy.float16: 'Float16',\n",
       "  'e': 'Float16',\n",
       "  'f2': 'Float16',\n",
       "  'Float32': numpy.float32,\n",
       "  numpy.float32: 'Float32',\n",
       "  'f': 'Float32',\n",
       "  'f4': 'Float32',\n",
       "  'Float64': numpy.float64,\n",
       "  numpy.float64: 'Float64',\n",
       "  'd': 'Float64',\n",
       "  'f8': 'Float64',\n",
       "  'Float128': numpy.float128,\n",
       "  numpy.float128: 'Float128',\n",
       "  'g': 'Float128',\n",
       "  'f16': 'Float128',\n",
       "  'Complex32': numpy.complex64,\n",
       "  numpy.complex64: 'Complex32',\n",
       "  'F': 'Complex32',\n",
       "  'c8': 'Complex32',\n",
       "  'Complex64': numpy.complex128,\n",
       "  numpy.complex128: 'Complex64',\n",
       "  'D': 'Complex64',\n",
       "  'c16': 'Complex64',\n",
       "  'Complex128': numpy.complex256,\n",
       "  numpy.complex256: 'Complex128',\n",
       "  'G': 'Complex128',\n",
       "  'c32': 'Complex128',\n",
       "  'Object0': numpy.object_,\n",
       "  numpy.object_: 'Object0',\n",
       "  'O': 'Object0',\n",
       "  'Bytes0': numpy.bytes_,\n",
       "  numpy.bytes_: 'Bytes0',\n",
       "  'S': 'Bytes0',\n",
       "  'Str0': numpy.str_,\n",
       "  numpy.str_: 'Str0',\n",
       "  'U': 'Str0',\n",
       "  'Void0': numpy.void,\n",
       "  numpy.void: 'Void0',\n",
       "  'V': 'Void0',\n",
       "  'Datetime64': numpy.datetime64,\n",
       "  numpy.datetime64: 'Datetime64',\n",
       "  'M': 'Datetime64',\n",
       "  'M8': 'Datetime64',\n",
       "  'Timedelta64': numpy.timedelta64,\n",
       "  numpy.timedelta64: 'Timedelta64',\n",
       "  'm': 'Timedelta64',\n",
       "  'm8': 'Timedelta64',\n",
       "  'Int64': numpy.int64,\n",
       "  'UInt64': numpy.uint64,\n",
       "  'i8': numpy.int64,\n",
       "  'u8': numpy.uint64,\n",
       "  numpy.int64: 'Int64',\n",
       "  numpy.uint64: 'UInt64',\n",
       "  'l': 'Int64',\n",
       "  'L': 'UInt64',\n",
       "  numpy.int64: 'Int64',\n",
       "  numpy.uint64: 'UInt64',\n",
       "  'q': 'Int64',\n",
       "  'Q': 'UInt64',\n",
       "  'Int32': numpy.int32,\n",
       "  'UInt32': numpy.uint32,\n",
       "  'i4': numpy.int32,\n",
       "  'u4': numpy.uint32,\n",
       "  numpy.int32: 'Int32',\n",
       "  numpy.uint32: 'UInt32',\n",
       "  'i': 'Int32',\n",
       "  'I': 'UInt32',\n",
       "  'Int16': numpy.int16,\n",
       "  'UInt16': numpy.uint16,\n",
       "  'i2': numpy.int16,\n",
       "  'u2': numpy.uint16,\n",
       "  numpy.int16: 'Int16',\n",
       "  numpy.uint16: 'UInt16',\n",
       "  'h': 'Int16',\n",
       "  'H': 'UInt16',\n",
       "  'Int8': numpy.int8,\n",
       "  'UInt8': numpy.uint8,\n",
       "  'i1': numpy.int8,\n",
       "  'u1': numpy.uint8,\n",
       "  numpy.int8: 'Int8',\n",
       "  numpy.uint8: 'UInt8',\n",
       "  'b': 'Int8',\n",
       "  'B': 'UInt8'},\n",
       " 'typecodes': {'All': '?bhilqpBHILQPefdgFDGSUVOMm',\n",
       "  'AllFloat': 'efdgFDG',\n",
       "  'AllInteger': 'bBhHiIlLqQpP',\n",
       "  'Character': 'c',\n",
       "  'Complex': 'FDG',\n",
       "  'Datetime': 'Mm',\n",
       "  'Float': 'efdg',\n",
       "  'Integer': 'bhilqp',\n",
       "  'UnsignedInteger': 'BHILQP'},\n",
       " 'typename': <function numpy.lib.type_check.typename>,\n",
       " 'ubyte': numpy.uint8,\n",
       " 'ufunc': numpy.ufunc,\n",
       " 'uint': numpy.uint64,\n",
       " 'uint0': numpy.uint64,\n",
       " 'uint16': numpy.uint16,\n",
       " 'uint32': numpy.uint32,\n",
       " 'uint64': numpy.uint64,\n",
       " 'uint8': numpy.uint8,\n",
       " 'uintc': numpy.uint32,\n",
       " 'uintp': numpy.uint64,\n",
       " 'ulonglong': numpy.uint64,\n",
       " 'unicode': str,\n",
       " 'unicode_': numpy.str_,\n",
       " 'union1d': <function numpy.lib.arraysetops.union1d>,\n",
       " 'unique': <function numpy.lib.arraysetops.unique>,\n",
       " 'unpackbits': <function numpy.core.multiarray.unpackbits>,\n",
       " 'unravel_index': <function numpy.core.multiarray.unravel_index>,\n",
       " 'unsignedinteger': numpy.unsignedinteger,\n",
       " 'unwrap': <function numpy.lib.function_base.unwrap>,\n",
       " 'ushort': numpy.uint16,\n",
       " 'vander': <function numpy.lib.twodim_base.vander>,\n",
       " 'var': <function numpy.core.fromnumeric.var>,\n",
       " 'vdot': <function numpy.core.multiarray.vdot>,\n",
       " 'vectorize': numpy.lib.function_base.vectorize,\n",
       " 'version': <module 'numpy.version' from '/Users/dahlmoon/anaconda/lib/python3.6/site-packages/numpy/version.py'>,\n",
       " 'void': numpy.void,\n",
       " 'void0': numpy.void,\n",
       " 'vsplit': <function numpy.lib.shape_base.vsplit>,\n",
       " 'vstack': <function numpy.core.shape_base.vstack>,\n",
       " 'warnings': <module 'warnings' from '/Users/dahlmoon/anaconda/lib/python3.6/warnings.py'>,\n",
       " 'where': <function numpy.core.multiarray.where>,\n",
       " 'who': <function numpy.lib.utils.who>,\n",
       " 'zeros': <function numpy.core.multiarray.zeros>,\n",
       " 'zeros_like': <function numpy.core.numeric.zeros_like>}"
      ]
     },
     "execution_count": 2,
     "metadata": {},
     "output_type": "execute_result"
    }
   ],
   "source": [
    "np.__dict__"
   ]
  },
  {
   "cell_type": "code",
   "execution_count": 3,
   "metadata": {},
   "outputs": [
    {
     "data": {
      "text/plain": [
       "613"
      ]
     },
     "execution_count": 3,
     "metadata": {},
     "output_type": "execute_result"
    }
   ],
   "source": [
    "len(np.__dict__)"
   ]
  },
  {
   "cell_type": "markdown",
   "metadata": {},
   "source": [
    "# 유니버셜 함수\n",
    "\n",
    "    배열의 원소별로 전부 순환문 없이 전부 곗ㄴ을 하는 함수가 유니버셜함수 이다.\n",
    "    "
   ]
  },
  {
   "cell_type": "code",
   "execution_count": 7,
   "metadata": {},
   "outputs": [
    {
     "name": "stdout",
     "output_type": "stream",
     "text": [
      "<class 'numpy.ufunc'>\n"
     ]
    }
   ],
   "source": [
    "print(np.ufunc)"
   ]
  },
  {
   "cell_type": "code",
   "execution_count": 5,
   "metadata": {},
   "outputs": [
    {
     "name": "stdout",
     "output_type": "stream",
     "text": [
      "bitwise_not\n",
      "absolute\n",
      "add\n",
      "arccos\n",
      "arccosh\n",
      "arcsin\n",
      "arcsinh\n",
      "arctan\n",
      "arctan2\n",
      "arctanh\n",
      "bitwise_and\n",
      "bitwise_or\n",
      "bitwise_xor\n",
      "cbrt\n",
      "ceil\n",
      "conjugate\n",
      "copysign\n",
      "cos\n",
      "cosh\n",
      "deg2rad\n",
      "degrees\n",
      "divmod\n",
      "equal\n",
      "exp\n",
      "exp2\n",
      "expm1\n",
      "fabs\n",
      "float_power\n",
      "floor\n",
      "floor_divide\n",
      "fmax\n",
      "fmin\n",
      "fmod\n",
      "frexp\n",
      "greater\n",
      "greater_equal\n",
      "heaviside\n",
      "hypot\n",
      "invert\n",
      "isfinite\n",
      "isinf\n",
      "isnan\n",
      "isnat\n",
      "ldexp\n",
      "left_shift\n",
      "less\n",
      "less_equal\n",
      "log\n",
      "log10\n",
      "log1p\n",
      "log2\n",
      "logaddexp\n",
      "logaddexp2\n",
      "logical_and\n",
      "logical_not\n",
      "logical_or\n",
      "logical_xor\n",
      "maximum\n",
      "minimum\n",
      "modf\n",
      "multiply\n",
      "negative\n",
      "nextafter\n",
      "not_equal\n",
      "positive\n",
      "power\n",
      "rad2deg\n",
      "radians\n",
      "reciprocal\n",
      "remainder\n",
      "right_shift\n",
      "rint\n",
      "sign\n",
      "signbit\n",
      "sin\n",
      "sinh\n",
      "spacing\n",
      "sqrt\n",
      "square\n",
      "subtract\n",
      "tan\n",
      "tanh\n",
      "true_divide\n",
      "trunc\n",
      "divide\n",
      "conj\n",
      "mod\n",
      "abs\n"
     ]
    }
   ],
   "source": [
    "for i in np.__dict__ :\n",
    "    \n",
    "    if type(np.__dict__[i]) == np.ufunc :\n",
    "        print(i)\n",
    "    "
   ]
  },
  {
   "cell_type": "markdown",
   "metadata": {},
   "source": [
    "## 최대값과 최소값 "
   ]
  },
  {
   "cell_type": "code",
   "execution_count": 142,
   "metadata": {},
   "outputs": [
    {
     "name": "stdout",
     "output_type": "stream",
     "text": [
      "[2 5 4]\n",
      "[1 3 2]\n"
     ]
    }
   ],
   "source": [
    "print(np.maximum([2, 3, 4], [1, 5, 2]))\n",
    "print(np.minimum([2, 3, 4], [1, 5, 2]))"
   ]
  },
  {
   "cell_type": "code",
   "execution_count": 143,
   "metadata": {},
   "outputs": [
    {
     "data": {
      "text/plain": [
       "array([[ 1. ,  2. ],\n",
       "       [ 0.5,  2. ]])"
      ]
     },
     "execution_count": 143,
     "metadata": {},
     "output_type": "execute_result"
    }
   ],
   "source": [
    "np.maximum(np.eye(2), [0.5, 2])"
   ]
  },
  {
   "cell_type": "code",
   "execution_count": 144,
   "metadata": {},
   "outputs": [
    {
     "data": {
      "text/plain": [
       "array([[ 0.5,  0. ],\n",
       "       [ 0. ,  1. ]])"
      ]
     },
     "execution_count": 144,
     "metadata": {},
     "output_type": "execute_result"
    }
   ],
   "source": [
    "np.minimum(np.eye(2), [0.5, 2])"
   ]
  },
  {
   "cell_type": "markdown",
   "metadata": {},
   "source": [
    "## 산술연산"
   ]
  },
  {
   "cell_type": "code",
   "execution_count": 32,
   "metadata": {},
   "outputs": [
    {
     "name": "stdout",
     "output_type": "stream",
     "text": [
      "<class 'numpy.ufunc'>\n",
      "<class 'numpy.ufunc'>\n",
      "<class 'numpy.ufunc'>\n",
      "<class 'numpy.ufunc'>\n",
      "<class 'numpy.ufunc'>\n",
      "<class 'numpy.ufunc'>\n"
     ]
    }
   ],
   "source": [
    "print(type(np.add))\n",
    "print(type(np.subtract))\n",
    "print(type(np.multiply))\n",
    "print(type(np.divide))\n",
    "print(type(np.true_divide))\n",
    "print(type(np.floor_divide))\n"
   ]
  },
  {
   "cell_type": "markdown",
   "metadata": {},
   "source": [
    "### 덧셈과 뺄셈 "
   ]
  },
  {
   "cell_type": "code",
   "execution_count": 64,
   "metadata": {},
   "outputs": [
    {
     "name": "stdout",
     "output_type": "stream",
     "text": [
      "[10 12 14 16 18 20 22 24 26 28] <class 'numpy.ndarray'>\n"
     ]
    }
   ],
   "source": [
    "a = np.arange(10)\n",
    "b = np.arange(10,20)\n",
    "\n",
    "c = np.add(a,b)\n",
    "\n",
    "print(c,type(c))"
   ]
  },
  {
   "cell_type": "code",
   "execution_count": 65,
   "metadata": {},
   "outputs": [
    {
     "name": "stdout",
     "output_type": "stream",
     "text": [
      "[10 12 14 16 18 20 22 24 26 28] <class 'numpy.ndarray'>\n"
     ]
    }
   ],
   "source": [
    "d = a + b\n",
    "print(d,type(d))"
   ]
  },
  {
   "cell_type": "code",
   "execution_count": 66,
   "metadata": {},
   "outputs": [
    {
     "name": "stdout",
     "output_type": "stream",
     "text": [
      "[0 1 2 3 4 5 6 7 8 9]\n",
      "[10 11 12 13 14 15 16 17 18 19]\n"
     ]
    }
   ],
   "source": [
    "print(a)\n",
    "print(b)"
   ]
  },
  {
   "cell_type": "code",
   "execution_count": 67,
   "metadata": {},
   "outputs": [
    {
     "name": "stdout",
     "output_type": "stream",
     "text": [
      "[-10 -10 -10 -10 -10 -10 -10 -10 -10 -10] <class 'numpy.ndarray'>\n"
     ]
    }
   ],
   "source": [
    "c = np.subtract(a,b)\n",
    "\n",
    "print(c,type(c))"
   ]
  },
  {
   "cell_type": "markdown",
   "metadata": {},
   "source": [
    "### 곱셈과 나눗셈 "
   ]
  },
  {
   "cell_type": "code",
   "execution_count": 68,
   "metadata": {},
   "outputs": [
    {
     "name": "stdout",
     "output_type": "stream",
     "text": [
      "[  0  11  24  39  56  75  96 119 144 171] <class 'numpy.ndarray'>\n"
     ]
    }
   ],
   "source": [
    "c = np.multiply(a,b)\n",
    "\n",
    "print(c,type(c))"
   ]
  },
  {
   "cell_type": "code",
   "execution_count": 69,
   "metadata": {},
   "outputs": [
    {
     "name": "stdout",
     "output_type": "stream",
     "text": [
      "[ 0.          0.09090909  0.16666667  0.23076923  0.28571429  0.33333333\n",
      "  0.375       0.41176471  0.44444444  0.47368421] <class 'numpy.ndarray'>\n"
     ]
    }
   ],
   "source": [
    "c = np.divide(a,b)\n",
    "\n",
    "print(c,type(c))"
   ]
  },
  {
   "cell_type": "code",
   "execution_count": 70,
   "metadata": {},
   "outputs": [
    {
     "name": "stdout",
     "output_type": "stream",
     "text": [
      "[ 0.          0.09090909  0.16666667  0.23076923  0.28571429  0.33333333\n",
      "  0.375       0.41176471  0.44444444  0.47368421] <class 'numpy.ndarray'>\n"
     ]
    }
   ],
   "source": [
    "c = np.true_divide(a,b)\n",
    "\n",
    "print(c,type(c))"
   ]
  },
  {
   "cell_type": "code",
   "execution_count": 71,
   "metadata": {},
   "outputs": [
    {
     "name": "stdout",
     "output_type": "stream",
     "text": [
      "[0 0 0 0 0 0 0 0 0 0] <class 'numpy.ndarray'>\n"
     ]
    }
   ],
   "source": [
    "c = np.floor_divide(a,b)\n",
    "\n",
    "print(c,type(c))"
   ]
  },
  {
   "cell_type": "markdown",
   "metadata": {},
   "source": [
    "### 몫과 나머지 계산하기 "
   ]
  },
  {
   "cell_type": "code",
   "execution_count": 72,
   "metadata": {},
   "outputs": [
    {
     "name": "stdout",
     "output_type": "stream",
     "text": [
      "(array([0, 0, 0, 0, 0, 0, 0, 0, 0, 0]), array([0, 1, 2, 3, 4, 5, 6, 7, 8, 9]))\n"
     ]
    }
   ],
   "source": [
    "c = np.divmod(a,b) \n",
    "print(c)"
   ]
  },
  {
   "cell_type": "code",
   "execution_count": 73,
   "metadata": {},
   "outputs": [
    {
     "name": "stdout",
     "output_type": "stream",
     "text": [
      "[0 1 2 3 4 5 6 7 8 9]\n"
     ]
    }
   ],
   "source": [
    "c = np.remainder(a,b) \n",
    "print(c)"
   ]
  },
  {
   "cell_type": "markdown",
   "metadata": {},
   "source": [
    "### 소숫점 자리수 조정하기 "
   ]
  },
  {
   "cell_type": "code",
   "execution_count": 37,
   "metadata": {},
   "outputs": [
    {
     "name": "stdout",
     "output_type": "stream",
     "text": [
      "[ 0.          0.09090909  0.16666667  0.23076923  0.28571429  0.33333333\n",
      "  0.375       0.41176471  0.44444444  0.47368421] <class 'numpy.ndarray'>\n",
      "[ 0.    0.09  0.17  0.23  0.29  0.33  0.38  0.41  0.44  0.47]\n"
     ]
    }
   ],
   "source": [
    "c = np.true_divide(a,b)\n",
    "\n",
    "print(c,type(c))\n",
    "\n",
    "d = np.round(c,2)\n",
    "print(d)"
   ]
  },
  {
   "cell_type": "markdown",
   "metadata": {},
   "source": [
    "#### 소숫점 자라 절사하기 "
   ]
  },
  {
   "cell_type": "code",
   "execution_count": 46,
   "metadata": {},
   "outputs": [
    {
     "name": "stdout",
     "output_type": "stream",
     "text": [
      "[-1. -1. -0.  0.  1.  1.  2.]\n"
     ]
    }
   ],
   "source": [
    "a = np.array([-1.7, -1.5, -0.2, 0.2, 1.5, 1.7, 2.0])\n",
    "print(np.trunc(a))"
   ]
  },
  {
   "cell_type": "markdown",
   "metadata": {},
   "source": [
    "#### 소숫점자리 반올림"
   ]
  },
  {
   "cell_type": "code",
   "execution_count": 45,
   "metadata": {},
   "outputs": [
    {
     "name": "stdout",
     "output_type": "stream",
     "text": [
      "[-1. -1. -0.  1.  2.  2.  2.]\n"
     ]
    }
   ],
   "source": [
    "a = np.array([-1.7, -1.5, -0.2, 0.2, 1.5, 1.7, 2.0])\n",
    "print(np.ceil(a))"
   ]
  },
  {
   "cell_type": "code",
   "execution_count": 47,
   "metadata": {},
   "outputs": [
    {
     "name": "stdout",
     "output_type": "stream",
     "text": [
      "[-2. -2. -1.  0.  1.  1.  2.]\n"
     ]
    }
   ],
   "source": [
    "a = np.array([-1.7, -1.5, -0.2, 0.2, 1.5, 1.7, 2.0])\n",
    "print(np.floor(a))"
   ]
  },
  {
   "cell_type": "code",
   "execution_count": null,
   "metadata": {
    "collapsed": true
   },
   "outputs": [],
   "source": [
    "positive\n",
    "negative\n",
    "sign"
   ]
  },
  {
   "cell_type": "markdown",
   "metadata": {},
   "source": [
    "## 로그 와 지수 함수\n"
   ]
  },
  {
   "cell_type": "code",
   "execution_count": 53,
   "metadata": {},
   "outputs": [
    {
     "name": "stdout",
     "output_type": "stream",
     "text": [
      "[ 0.          0.69314718  1.09861229  1.38629436]\n",
      "[ 0.          0.30103     0.47712125  0.60205999]\n",
      "[ 0.         1.         1.5849625  2.       ]\n",
      "[ 0.69314718  1.09861229  1.38629436  1.60943791]\n"
     ]
    }
   ],
   "source": [
    "a = np.array([1,2,3,4])\n",
    "\n",
    "print(np.log(a))\n",
    "print(np.log10(a))\n",
    "print(np.log2(a))\n",
    "print(np.log1p(a))"
   ]
  },
  {
   "cell_type": "code",
   "execution_count": 54,
   "metadata": {},
   "outputs": [
    {
     "name": "stdout",
     "output_type": "stream",
     "text": [
      "1e-99\n",
      "0.0\n"
     ]
    }
   ],
   "source": [
    "print(np.log1p(1e-99))\n",
    "\n",
    "print(np.log(1 + 1e-99))"
   ]
  },
  {
   "cell_type": "code",
   "execution_count": 56,
   "metadata": {},
   "outputs": [
    {
     "name": "stdout",
     "output_type": "stream",
     "text": [
      "0.0\n",
      "1e-99\n"
     ]
    }
   ],
   "source": [
    "print(np.exp(1e-99) - 1)\n",
    "print(np.log1p(1e-99))\n"
   ]
  },
  {
   "cell_type": "markdown",
   "metadata": {},
   "source": [
    "## Calculates log(exp(x1) + exp(x2))."
   ]
  },
  {
   "cell_type": "code",
   "execution_count": 57,
   "metadata": {},
   "outputs": [
    {
     "name": "stdout",
     "output_type": "stream",
     "text": [
      "-113.876491681\n"
     ]
    }
   ],
   "source": [
    "prob1 = np.log(1e-50)\n",
    "prob2 = np.log(2.5e-50)\n",
    "prob12 = np.logaddexp(prob1, prob2)\n",
    "\n",
    "print(prob12)"
   ]
  },
  {
   "cell_type": "markdown",
   "metadata": {},
   "source": [
    "## Calculates log2(2**x1 + 2**x2)"
   ]
  },
  {
   "cell_type": "code",
   "execution_count": 60,
   "metadata": {},
   "outputs": [
    {
     "name": "stdout",
     "output_type": "stream",
     "text": [
      "-164.289049822\n"
     ]
    }
   ],
   "source": [
    "prob1 = np.log2(1e-50)\n",
    "prob2 = np.log2(2.5e-50)\n",
    "prob12 = np.logaddexp2(prob1, prob2)\n",
    "\n",
    "print(prob12)"
   ]
  },
  {
   "cell_type": "markdown",
   "metadata": {},
   "source": [
    "### 지수 함수 "
   ]
  },
  {
   "cell_type": "code",
   "execution_count": 83,
   "metadata": {},
   "outputs": [
    {
     "name": "stdout",
     "output_type": "stream",
     "text": [
      "[  2.71828183   7.3890561   20.08553692  54.59815003]\n"
     ]
    }
   ],
   "source": [
    "a = np.exp([1,2,3,4])\n",
    "print(a)"
   ]
  },
  {
   "cell_type": "code",
   "execution_count": 87,
   "metadata": {},
   "outputs": [
    {
     "name": "stdout",
     "output_type": "stream",
     "text": [
      "2.718281828459045\n",
      "7.38905609893065\n",
      "20.085536923187668\n",
      "54.598150033144236\n"
     ]
    }
   ],
   "source": [
    "import math\n",
    "\n",
    "for i in range(1,5) :\n",
    "    a = math.exp(i)\n",
    "    print(a)"
   ]
  },
  {
   "cell_type": "code",
   "execution_count": 121,
   "metadata": {},
   "outputs": [
    {
     "name": "stdout",
     "output_type": "stream",
     "text": [
      "4\n",
      "[ 4 16 81]\n"
     ]
    }
   ],
   "source": [
    "print(np.square(2))\n",
    "print(np.square([2,4,9]))"
   ]
  },
  {
   "cell_type": "code",
   "execution_count": 128,
   "metadata": {},
   "outputs": [
    {
     "name": "stdout",
     "output_type": "stream",
     "text": [
      "8\n",
      "12.167\n"
     ]
    }
   ],
   "source": [
    "print(np.power(2,3))\n",
    "\n",
    "print(np.float_power(2.3,3))"
   ]
  },
  {
   "cell_type": "code",
   "execution_count": 123,
   "metadata": {},
   "outputs": [
    {
     "name": "stdout",
     "output_type": "stream",
     "text": [
      "1.41421356237\n",
      "[ 1.41421356  1.73205081  2.23606798]\n"
     ]
    }
   ],
   "source": [
    "print(np.sqrt(2))\n",
    "print(np.sqrt([2,3,5]))"
   ]
  },
  {
   "cell_type": "markdown",
   "metadata": {},
   "source": [
    "## 논리함수 "
   ]
  },
  {
   "cell_type": "code",
   "execution_count": 95,
   "metadata": {},
   "outputs": [
    {
     "name": "stdout",
     "output_type": "stream",
     "text": [
      "False\n",
      "[False  True  True  True]\n"
     ]
    }
   ],
   "source": [
    "print(np.logical_not(3))\n",
    "print(np.logical_not([True, False,False, False]))"
   ]
  },
  {
   "cell_type": "code",
   "execution_count": 88,
   "metadata": {},
   "outputs": [
    {
     "name": "stdout",
     "output_type": "stream",
     "text": [
      "False\n",
      "[False False]\n"
     ]
    }
   ],
   "source": [
    "print(np.logical_and(True, False))\n",
    "print(np.logical_and([True, False], [False, False]))\n"
   ]
  },
  {
   "cell_type": "code",
   "execution_count": 89,
   "metadata": {},
   "outputs": [
    {
     "name": "stdout",
     "output_type": "stream",
     "text": [
      "True\n",
      "[ True False]\n"
     ]
    }
   ],
   "source": [
    "print(np.logical_or(True, False))\n",
    "print(np.logical_or([True, False], [False, False]))"
   ]
  },
  {
   "cell_type": "code",
   "execution_count": 90,
   "metadata": {},
   "outputs": [
    {
     "name": "stdout",
     "output_type": "stream",
     "text": [
      "True\n",
      "[ True False]\n"
     ]
    }
   ],
   "source": [
    "print(np.logical_xor(True, False))\n",
    "print(np.logical_xor([True, False], [False, False]))"
   ]
  },
  {
   "cell_type": "markdown",
   "metadata": {},
   "source": [
    "## 비트 연산 "
   ]
  },
  {
   "cell_type": "code",
   "execution_count": 124,
   "metadata": {},
   "outputs": [
    {
     "name": "stdout",
     "output_type": "stream",
     "text": [
      "False\n"
     ]
    }
   ],
   "source": [
    "print(np.signbit(1))"
   ]
  },
  {
   "cell_type": "code",
   "execution_count": 125,
   "metadata": {},
   "outputs": [
    {
     "name": "stdout",
     "output_type": "stream",
     "text": [
      "True\n",
      "[False  True False]\n"
     ]
    }
   ],
   "source": [
    "print(np.signbit(-1.2))\n",
    "\n",
    "print(np.signbit(np.array([1, -2.3, 2.1])))\n"
   ]
  },
  {
   "cell_type": "code",
   "execution_count": 103,
   "metadata": {},
   "outputs": [
    {
     "name": "stdout",
     "output_type": "stream",
     "text": [
      "-14\n",
      "[-15  -4]\n"
     ]
    }
   ],
   "source": [
    "print(np.bitwise_not(13))\n",
    "print(np.bitwise_not([14,3]))"
   ]
  },
  {
   "cell_type": "code",
   "execution_count": 104,
   "metadata": {},
   "outputs": [
    {
     "data": {
      "text/plain": [
       "('-100', '-1110', '-1111')"
      ]
     },
     "execution_count": 104,
     "metadata": {},
     "output_type": "execute_result"
    }
   ],
   "source": [
    "np.binary_repr(-4), np.binary_repr(-14), np.binary_repr(-15)"
   ]
  },
  {
   "cell_type": "code",
   "execution_count": 100,
   "metadata": {},
   "outputs": [
    {
     "data": {
      "text/plain": [
       "('1100', '1101', '10001')"
      ]
     },
     "execution_count": 100,
     "metadata": {},
     "output_type": "execute_result"
    }
   ],
   "source": [
    "np.binary_repr(12), np.binary_repr(13), np.binary_repr(17)"
   ]
  },
  {
   "cell_type": "code",
   "execution_count": 98,
   "metadata": {},
   "outputs": [
    {
     "name": "stdout",
     "output_type": "stream",
     "text": [
      "1\n",
      "[12  1]\n"
     ]
    }
   ],
   "source": [
    "print(np.bitwise_and(13, 17))\n",
    "print(np.bitwise_and([14,3], 13))"
   ]
  },
  {
   "cell_type": "code",
   "execution_count": 101,
   "metadata": {},
   "outputs": [
    {
     "name": "stdout",
     "output_type": "stream",
     "text": [
      "29\n",
      "[15 15]\n"
     ]
    }
   ],
   "source": [
    "print(np.bitwise_or(13, 17))\n",
    "print(np.bitwise_or([14,3], 13))"
   ]
  },
  {
   "cell_type": "code",
   "execution_count": 102,
   "metadata": {},
   "outputs": [
    {
     "name": "stdout",
     "output_type": "stream",
     "text": [
      "28\n",
      "[ 3 14]\n"
     ]
    }
   ],
   "source": [
    "print(np.bitwise_xor(13, 17))\n",
    "print(np.bitwise_xor([14,3], 13))"
   ]
  },
  {
   "cell_type": "code",
   "execution_count": 105,
   "metadata": {},
   "outputs": [
    {
     "data": {
      "text/plain": [
       "True"
      ]
     },
     "execution_count": 105,
     "metadata": {},
     "output_type": "execute_result"
    }
   ],
   "source": [
    "np.bitwise_not is np.invert"
   ]
  },
  {
   "cell_type": "code",
   "execution_count": 110,
   "metadata": {},
   "outputs": [
    {
     "name": "stdout",
     "output_type": "stream",
     "text": [
      "[242]\n",
      "11110010\n"
     ]
    }
   ],
   "source": [
    "print(np.invert(np.array([13], dtype=np.uint8)))\n",
    "\n",
    "print(np.binary_repr(242, width=8))"
   ]
  },
  {
   "cell_type": "markdown",
   "metadata": {},
   "source": [
    "### 비트연산 중에 쉬프트 연산"
   ]
  },
  {
   "cell_type": "code",
   "execution_count": 111,
   "metadata": {},
   "outputs": [
    {
     "name": "stdout",
     "output_type": "stream",
     "text": [
      "[10 20 40]\n",
      "[10 20 40]\n"
     ]
    }
   ],
   "source": [
    "print(np.left_shift(5, [1,2,3]))\n",
    "print(np.left_shift([5,5,5],[1,2,3]))\n"
   ]
  },
  {
   "cell_type": "code",
   "execution_count": 114,
   "metadata": {},
   "outputs": [
    {
     "name": "stdout",
     "output_type": "stream",
     "text": [
      "[25 12  6]\n",
      "[25 12  6]\n"
     ]
    }
   ],
   "source": [
    "print(np.right_shift(50, [1,2,3]))\n",
    "print(np.right_shift([50,50,50],[1,2,3]))"
   ]
  },
  {
   "cell_type": "code",
   "execution_count": 118,
   "metadata": {},
   "outputs": [
    {
     "name": "stdout",
     "output_type": "stream",
     "text": [
      "110010\n",
      "11001\n",
      "1100\n",
      "110\n"
     ]
    }
   ],
   "source": [
    "print(np.binary_repr(50))\n",
    "print(np.binary_repr(25))\n",
    "print(np.binary_repr(12))\n",
    "print(np.binary_repr(6))"
   ]
  },
  {
   "cell_type": "markdown",
   "metadata": {},
   "source": [
    "## 비교하기 "
   ]
  },
  {
   "cell_type": "code",
   "execution_count": 76,
   "metadata": {},
   "outputs": [
    {
     "name": "stdout",
     "output_type": "stream",
     "text": [
      "False\n",
      "False\n"
     ]
    }
   ],
   "source": [
    "print(np.greater(10,30))\n",
    "print(10 > 30)"
   ]
  },
  {
   "cell_type": "code",
   "execution_count": 77,
   "metadata": {},
   "outputs": [
    {
     "name": "stdout",
     "output_type": "stream",
     "text": [
      "False\n",
      "False\n"
     ]
    }
   ],
   "source": [
    "print(np.greater_equal(10,30))\n",
    "print(10 >= 30)"
   ]
  },
  {
   "cell_type": "code",
   "execution_count": 78,
   "metadata": {},
   "outputs": [
    {
     "name": "stdout",
     "output_type": "stream",
     "text": [
      "True\n",
      "True\n"
     ]
    }
   ],
   "source": [
    "print(np.less(10,30))\n",
    "print(10 < 30)"
   ]
  },
  {
   "cell_type": "code",
   "execution_count": 79,
   "metadata": {},
   "outputs": [
    {
     "name": "stdout",
     "output_type": "stream",
     "text": [
      "True\n",
      "True\n"
     ]
    }
   ],
   "source": [
    "print(np.less_equal(10,30))\n",
    "print(10 <= 30)"
   ]
  },
  {
   "cell_type": "code",
   "execution_count": 81,
   "metadata": {},
   "outputs": [
    {
     "name": "stdout",
     "output_type": "stream",
     "text": [
      "False\n",
      "False\n"
     ]
    }
   ],
   "source": [
    "print(np.equal(10,30))\n",
    "print(10 == 30)"
   ]
  },
  {
   "cell_type": "code",
   "execution_count": 82,
   "metadata": {},
   "outputs": [
    {
     "name": "stdout",
     "output_type": "stream",
     "text": [
      "True\n",
      "True\n"
     ]
    }
   ],
   "source": [
    "print(np.not_equal(10,30))\n",
    "print(10 != 30)"
   ]
  },
  {
   "cell_type": "markdown",
   "metadata": {},
   "source": [
    "## 삼각함수 "
   ]
  },
  {
   "cell_type": "code",
   "execution_count": null,
   "metadata": {
    "collapsed": true
   },
   "outputs": [],
   "source": [
    "arccos\n",
    "arccosh\n",
    "arcsin\n",
    "arcsinh\n",
    "arctan\n",
    "arctan2\n",
    "arctanh\n",
    "cos\n",
    "cosh\n",
    "sin\n",
    "sinh\n",
    "tan\n",
    "tanh\n",
    "\n",
    "deg2rad\n",
    "degrees\n",
    "rad2deg\n",
    "radians"
   ]
  },
  {
   "cell_type": "markdown",
   "metadata": {},
   "source": [
    "## is 연산 "
   ]
  },
  {
   "cell_type": "code",
   "execution_count": 129,
   "metadata": {},
   "outputs": [
    {
     "data": {
      "text/plain": [
       "True"
      ]
     },
     "execution_count": 129,
     "metadata": {},
     "output_type": "execute_result"
    }
   ],
   "source": [
    "np.isfinite(1)"
   ]
  },
  {
   "cell_type": "code",
   "execution_count": 132,
   "metadata": {},
   "outputs": [
    {
     "data": {
      "text/plain": [
       "True"
      ]
     },
     "execution_count": 132,
     "metadata": {},
     "output_type": "execute_result"
    }
   ],
   "source": [
    "np.isinf(np.inf)"
   ]
  },
  {
   "cell_type": "code",
   "execution_count": 133,
   "metadata": {},
   "outputs": [
    {
     "data": {
      "text/plain": [
       "True"
      ]
     },
     "execution_count": 133,
     "metadata": {},
     "output_type": "execute_result"
    }
   ],
   "source": [
    "np.isnan(np.nan)"
   ]
  },
  {
   "cell_type": "code",
   "execution_count": null,
   "metadata": {
    "collapsed": true
   },
   "outputs": [],
   "source": [
    "\n",
    "absolute\n",
    "cbrt\n",
    "conjugate\n",
    "copysign\n",
    "expm1\n",
    "fabs\n",
    "fmax\n",
    "fmin\n",
    "fmod\n",
    "frexp\n",
    "heaviside\n",
    "hypot\n",
    "\n",
    "ldexp\n",
    "maximum\n",
    "minimum\n",
    "modf\n",
    "nextafter\n",
    "reciprocal\n",
    "rint\n",
    "spacing\n",
    "conj\n",
    "mod\n",
    "abs"
   ]
  }
 ],
 "metadata": {
  "kernelspec": {
   "display_name": "Python 3",
   "language": "python",
   "name": "python3"
  },
  "language_info": {
   "codemirror_mode": {
    "name": "ipython",
    "version": 3
   },
   "file_extension": ".py",
   "mimetype": "text/x-python",
   "name": "python",
   "nbconvert_exporter": "python",
   "pygments_lexer": "ipython3",
   "version": "3.6.1"
  }
 },
 "nbformat": 4,
 "nbformat_minor": 2
}
