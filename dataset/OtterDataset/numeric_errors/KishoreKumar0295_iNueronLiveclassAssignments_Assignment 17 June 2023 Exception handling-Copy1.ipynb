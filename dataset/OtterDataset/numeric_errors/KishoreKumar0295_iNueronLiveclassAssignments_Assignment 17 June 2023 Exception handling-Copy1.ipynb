{
 "cells": [
  {
   "cell_type": "markdown",
   "id": "4be4a533",
   "metadata": {},
   "source": [
    "# 1. What is the role of try and exception block?\n",
    "\n",
    "## Role of Try and Except:\n",
    "\n",
    "### try block: \n",
    "The code within the try block contains the statements that may potentially raise an exception. It allows you to specify the section of code that you want to monitor for exceptions.\n",
    "\n",
    "### except block:\n",
    "If an exception occurs within the try block, the corresponding except block(s) are executed. The except block allows you to define the actions or code that should be executed when a specific exception is raised. You can have multiple except blocks to handle different types of exceptions.\n",
    "\n",
    "The else block allows you run code without errors.\n",
    "\n",
    "The finally block executes code regardless of the try-and-except blocks.\n",
    "\n",
    "Use the raise keyword to throw (or raise) an exception.e program from crashing abruptly.\n"
   ]
  },
  {
   "cell_type": "code",
   "execution_count": 11,
   "id": "9913333a",
   "metadata": {},
   "outputs": [
    {
     "name": "stdout",
     "output_type": "stream",
     "text": [
      "There is no x defined, please check it once!\n",
      "There is no x defined, please check it once!\n",
      "Try and except are executed\n"
     ]
    }
   ],
   "source": [
    "# 2. What is the syntax for a basic try-except block?\n",
    "# Ex:\n",
    "try:\n",
    "    print(x)\n",
    "except:\n",
    "    print(\"There is no x defined, please check it once!\")\n",
    "else:\n",
    "    print('No error')\n",
    "    \n",
    "# Ex:\n",
    "try:\n",
    "    print(x)\n",
    "except:\n",
    "    print(\"There is no x defined, please check it once!\")\n",
    "finally: # it will not stop execution\n",
    "    print('Try and except are executed')"
   ]
  },
  {
   "cell_type": "code",
   "execution_count": 45,
   "id": "ad8987c6",
   "metadata": {},
   "outputs": [
    {
     "ename": "Exception",
     "evalue": "There is a issue.... x is below 20",
     "output_type": "error",
     "traceback": [
      "\u001b[1;31m---------------------------------------------------------------------------\u001b[0m",
      "\u001b[1;31mException\u001b[0m                                 Traceback (most recent call last)",
      "\u001b[1;32m~\\AppData\\Local\\Temp\\ipykernel_884\\1732177582.py\u001b[0m in \u001b[0;36m<module>\u001b[1;34m\u001b[0m\n\u001b[0;32m      4\u001b[0m \u001b[0mx\u001b[0m\u001b[1;33m=\u001b[0m\u001b[1;36m10\u001b[0m\u001b[1;33m\u001b[0m\u001b[1;33m\u001b[0m\u001b[0m\n\u001b[0;32m      5\u001b[0m \u001b[1;32mif\u001b[0m \u001b[0mx\u001b[0m\u001b[1;33m<\u001b[0m\u001b[1;36m20\u001b[0m\u001b[1;33m:\u001b[0m\u001b[1;33m\u001b[0m\u001b[1;33m\u001b[0m\u001b[0m\n\u001b[1;32m----> 6\u001b[1;33m     \u001b[1;32mraise\u001b[0m \u001b[0mException\u001b[0m\u001b[1;33m(\u001b[0m\u001b[1;34m\"There is a issue.... x is below 20\"\u001b[0m\u001b[1;33m)\u001b[0m\u001b[1;33m\u001b[0m\u001b[1;33m\u001b[0m\u001b[0m\n\u001b[0m\u001b[0;32m      7\u001b[0m \u001b[1;32melse\u001b[0m\u001b[1;33m:\u001b[0m\u001b[1;33m\u001b[0m\u001b[1;33m\u001b[0m\u001b[0m\n\u001b[0;32m      8\u001b[0m     \u001b[0mprint\u001b[0m\u001b[1;33m(\u001b[0m\u001b[0mx\u001b[0m\u001b[1;33m)\u001b[0m\u001b[1;33m\u001b[0m\u001b[1;33m\u001b[0m\u001b[0m\n",
      "\u001b[1;31mException\u001b[0m: There is a issue.... x is below 20"
     ]
    }
   ],
   "source": [
    "# 3. What happens if an exception occurs inside a try block and there is no matching except block?\n",
    "# if an exception occurs inside a try block and there is no matching except block means then we can raise our own exception using raise excetption method\n",
    "# ex:\n",
    "x=10\n",
    "if x<20:\n",
    "    raise Exception(\"There is a issue.... x is below 20\")\n",
    "else:\n",
    "    print(x)"
   ]
  },
  {
   "cell_type": "code",
   "execution_count": 4,
   "id": "eb382594",
   "metadata": {},
   "outputs": [],
   "source": [
    "# 4. What is the difference between using a bare except block and specifying a specificexception type?\n"
   ]
  },
  {
   "cell_type": "raw",
   "id": "1bec0ae7",
   "metadata": {},
   "source": [
    "Bare Except Block:\n",
    "1 A bare except block is written as just \"except:\" without specifying any exception type.\n",
    "2 It catches all exceptions, regardless of the type.\n",
    "3 It is a general catch-all mechanism that can handle any exception raised within the try block.\n",
    "4 Using a bare except block is considered less recommended because it can mask errors and make it harder to diagnose and debug issues.\n",
    "5 It should be used sparingly and only when you have a specific reason to catch all exceptions.\n",
    "Example:"
   ]
  },
  {
   "cell_type": "code",
   "execution_count": null,
   "id": "5c039956",
   "metadata": {},
   "outputs": [],
   "source": [
    "# bare except block\n",
    "try:\n",
    "    print(x) # Some code that may raise exceptions\n",
    "    ...\n",
    "except:\n",
    "    print('There is no x defined please check it once!')# Handle any exception (not recommended)\n",
    "    ...\n"
   ]
  },
  {
   "cell_type": "raw",
   "id": "72b4932f",
   "metadata": {},
   "source": [
    "Specific Exception Type:\n",
    "1 When you specify an exception type in the except block, such as \"except ValueError:\", it catches only exceptions of that \n",
    "particular type.\n",
    "2 It allows you to handle specific exceptions individually and provide targeted error handling for each type of exception.\n",
    "By specifying the exception type, you can ensure that only the intended exceptions are caught and handled, while other exceptions propagate up the call stack.\n",
    "3 It is considered a best practice to be as specific as possible when handling exceptions.\n",
    "Example:"
   ]
  },
  {
   "cell_type": "code",
   "execution_count": 17,
   "id": "729745bc",
   "metadata": {},
   "outputs": [
    {
     "name": "stdout",
     "output_type": "stream",
     "text": [
      "Please enter numbers only2\n",
      "Please enter numbers only0\n",
      "The number is devided by zero\n"
     ]
    }
   ],
   "source": [
    "# Specific Exception Type:\n",
    "try:\n",
    "    # Some code that may raise exceptions\n",
    "    x = int(input(\"Please enter numbers only\"))\n",
    "    y = int(input(\"Please enter numbers only\"))\n",
    "    result= x/y\n",
    "    print(result)\n",
    "except ZeroDivisionError:\n",
    "    # Handle ValueError exception specifically\n",
    "    print(\"The number is devided by zero\")\n",
    "    "
   ]
  },
  {
   "cell_type": "code",
   "execution_count": 26,
   "id": "fe09176f",
   "metadata": {},
   "outputs": [
    {
     "name": "stdout",
     "output_type": "stream",
     "text": [
      "Outer try block\n",
      "Please enter numbers only: 2\n",
      "Please enter numbers only: 3e\n",
      "The above try block exception is occurs an error\n",
      "After outer try-except block\n"
     ]
    }
   ],
   "source": [
    "# 5. Can you have nested try-except blocks in Python? If yes, then give an example.\n",
    "\n",
    "    \n",
    "try:\n",
    "    # Outer try block\n",
    "    print(\"Outer try block\")\n",
    "    \n",
    "    try:\n",
    "        # Some code that may raise exceptions\n",
    "        x = int(input(\"Please enter numbers only: \"))\n",
    "        y = int(input(\"Please enter numbers only: \"))\n",
    "        result= x/y\n",
    "        print(result)\n",
    "    except ZeroDivisionError:\n",
    "        # Inner except block\n",
    "        print(\"Inner except block: Division by zero error\")\n",
    "    \n",
    "    print(\"After inner try-except block\")\n",
    "    \n",
    "except:\n",
    "    # Outer except block\n",
    "    print(\"The above try block exception is occurs an error\")\n",
    "\n",
    "print(\"After outer try-except block\")\n"
   ]
  },
  {
   "cell_type": "code",
   "execution_count": 27,
   "id": "1ae66a2c",
   "metadata": {},
   "outputs": [
    {
     "name": "stdout",
     "output_type": "stream",
     "text": [
      "Please enter numbers only: 3\n",
      "Please enter numbers only: f\n",
      "Please enter numbers formated values only\n"
     ]
    }
   ],
   "source": [
    "# 6. Can we use multiple exception blocks, if yes then give an example.\n",
    "try:\n",
    "    # Some code that may raise exceptions\n",
    "    x = int(input(\"Please enter numbers only: \"))\n",
    "    y = int(input(\"Please enter numbers only: \"))\n",
    "    result= x/y\n",
    "    print(result)\n",
    "except ZeroDivisionError:\n",
    "    # Handle ValueError exception specifically\n",
    "    print(\"The number is devided by zero\")\n",
    "except ValueError:\n",
    "    print('Please enter numbers formated values only')\n",
    "except TypeError:\n",
    "    print('Data type mismatch')\n",
    "    "
   ]
  },
  {
   "cell_type": "code",
   "execution_count": 56,
   "id": "33d83ee1",
   "metadata": {},
   "outputs": [
    {
     "name": "stdout",
     "output_type": "stream",
     "text": [
      "File doesnot exists\n",
      "IndexError error occurred.\n",
      "Insufficient memory for the list\n",
      "100000000000000000000000000000000000000000000000000\n",
      "Please enter the numerator: 5\n",
      "Please enter the denominator: 3\n",
      "Result: 1.6666666666666667\n"
     ]
    }
   ],
   "source": [
    "# 7. Write the reason due to which following errors are raised:\n",
    "# a. EOFError : This error will occur on Input and output error\n",
    "try:\n",
    "    file_name='file_123.txt'\n",
    "    with open(file_name,'w') as file:\n",
    "        contents = file.read()\n",
    "except IOError:\n",
    "    print('File doesnot exists' )\n",
    "           \n",
    "# b. FloatingPointError\n",
    "# FloatingPointError: Raised when a floating point operation fails.\n",
    "\n",
    "try:\n",
    "    float_value = 12.2\n",
    "    if float_value == float():      \n",
    "        print(float_value)\n",
    "except FloatingPointError:\n",
    "    print('Please chekc the type of value, it is not a floting value')\n",
    "# c. IndexError\n",
    "# IndexError: Raised when a sequence subscript (index) is out of range.\n",
    "try:\n",
    "    list1 = [1, 2, 3]\n",
    "\n",
    "    print(list1[3])  # Trying to reach an index that is out of range\n",
    "\n",
    "except IndexError:\n",
    "    print(\"IndexError error occurred.\")\n",
    "\n",
    "# d. MemoryError\n",
    "try:\n",
    "    big_list=[1]*(10**12) # list contains 1s=10^12\n",
    "    print(big_list)\n",
    "except:\n",
    "    print('Insufficient memory for the list')\n",
    "# e. OverflowError\n",
    "try:\n",
    "    result=100000**10\n",
    "except OverflowError:\n",
    "    print('Too big calculation')\n",
    "else:\n",
    "    print(result)\n",
    "# f. TabError\n",
    "# TabError: Raised when indentation contains mixed tabs and spaces.\n",
    "try:\n",
    "    name = \"John\"\n",
    "    age = 50\n",
    "\n",
    "except IndentationError:\n",
    "    print(\"There is an IndentationError\")\n",
    "           \n",
    "# g. ValueError\n",
    "\n",
    "x = int(input(\"Please enter the numerator: \"))\n",
    "y = int(input(\"Please enter the denominator: \"))\n",
    "\n",
    "result = x / y\n",
    "print(\"Result:\", result)\n"
   ]
  },
  {
   "cell_type": "markdown",
   "id": "f43f957d",
   "metadata": {},
   "source": [
    "### Here's a brief description of each exception:\n",
    "\n",
    "BaseException: The base class for all built-in exceptions.\n",
    "Exception: The base class for all non-exit exceptions.\n",
    "ArithmeticError: Raised for any arithmetic errors.\n",
    "BufferError: Raised when operations on a buffer are not possible.\n",
    "LookupError: Raised when a mapping (dictionary) key or sequence index is not found.\n",
    "AssertionError: Raised when an assert statement fails.\n",
    "AttributeError: Raised when attribute reference or assignment fails.\n",
    "EOFError: Raised when the input() function hits an end-of-file condition (EOF).\n",
    "FloatingPointError: Raised when a floating point operation fails.\n",
    "GeneratorExit: Raised when a generator or coroutine is closed.\n",
    "ImportError: Raised when the import statement fails to find the module definition.\n",
    "ModuleNotFoundError: A subclass of ImportError, raised when an import statement fails to find the module.\n",
    "IndexError: Raised when a sequence subscript (index) is out of range.\n",
    "KeyError: Raised when a dictionary key is not found.\n",
    "KeyboardInterrupt: Raised when the user interrupts program execution (usually by pressing Ctrl+C).\n",
    "MemoryError: Raised when an operation runs out of memory.\n",
    "NameError: Raised when a local or global name is not found.\n",
    "NotImplementedError: Raised when an abstract method requiring an override in an inherited class is not provided.\n",
    "OSError: Raised when a system-related error occurs.\n",
    "OverflowError: Raised when the result of an arithmetic operation is too large to be expressed.\n",
    "RecursionError: Raised when the maximum recursion depth has been exceeded.\n",
    "ReferenceError: Raised when a weak reference proxy is used to access a garbage collected referent.\n",
    "RuntimeError: Raised when an error is detected that doesn’t fall in any of the other categories.\n",
    "StopIteration: Raised by built-in function next() and an iterator‘s __next__() method to signal that there are no further items.\n",
    "StopAsyncIteration: Raised by an asynchronous iterator object’s __anext__() method to stop the iteration.\n",
    "SyntaxError: Raised by the parser when a syntax error is encountered.\n",
    "IndentationError: Raised when there is incorrect indentation.\n",
    "TabError: Raised when indentation contains mixed tabs and spaces.\n",
    "SystemError: Raised when the interpreter finds an internal problem.\n",
    "SystemExit: Raised by the sys.exit() function.\n",
    "TypeError: Raised when an operation or function is applied to an object of inappropriate type.\n",
    "UnboundLocalError: Raised when a local variable is referenced before it has been assigned a value.\n",
    "UnicodeError: Raised when a Unicode-related encoding or decoding error occurs.\n",
    "UnicodeEncodeError: Raised when a Unicode-related error occurs during encoding.\n",
    "UnicodeDecodeError: Raised when a Unicode-related error occurs during decoding.\n",
    "UnicodeTranslateError: Raised when a Unicode-related error occurs during translating.\n",
    "ValueError: Raised when a built-in operation or function receives an argument that has the right type but an inappropriate value.\n",
    "ZeroDivisionError: Raised when the second argument of a division or modulo operation is zero.\n",
    "EnvironmentError: Base class for exceptions that can occur outside the Python system.\n",
    "IOError: Raised when an I/O operation (such as a print statement, the built-in open() function or a method of a file object)"
   ]
  },
  {
   "cell_type": "code",
   "execution_count": 8,
   "id": "00d5a65f",
   "metadata": {},
   "outputs": [],
   "source": [
    "# 8. Write code for the following given scenario and add try-exception block to it.\n",
    "        # a. Program to divide two numbers\n",
    "        # b. Program to convert a string to an integer\n",
    "        # c. Program to access an element in a list\n",
    "        # d. Program to handle a specific exception\n",
    "        # e. Program to handle any exception"
   ]
  },
  {
   "cell_type": "markdown",
   "id": "153d0dd8",
   "metadata": {},
   "source": [
    "# Program to divide two numbers\n"
   ]
  },
  {
   "cell_type": "code",
   "execution_count": 60,
   "id": "e4481653",
   "metadata": {},
   "outputs": [
    {
     "name": "stdout",
     "output_type": "stream",
     "text": [
      "Please enter the numerator: 2\n",
      "Please enter the denominator: 0\n",
      "Please dont enter the zero value in the denominator: 0\n"
     ]
    }
   ],
   "source": [
    "try:\n",
    "    x=int(input(\"Please enter the numerator: \"))\n",
    "    y=int(input(\"Please enter the denominator: \"))\n",
    "\n",
    "    result = x/y\n",
    "    print(result)\n",
    "except ZeroDivisionError:\n",
    "    print('Please dont enter the zero value in the denominator:',y)\n",
    "except ValueError:\n",
    "    print('please check the type of value you have entered, it should be numbers only')\n",
    "else:\n",
    "    print('Output is executed successfully')"
   ]
  },
  {
   "cell_type": "markdown",
   "id": "0bca3503",
   "metadata": {},
   "source": [
    "# b. Program to convert a string to an integer\n"
   ]
  },
  {
   "cell_type": "code",
   "execution_count": 63,
   "id": "a2763940",
   "metadata": {},
   "outputs": [
    {
     "name": "stdout",
     "output_type": "stream",
     "text": [
      "Please enter the numerator: 2\n",
      "2\n",
      "Output is executed successfully\n"
     ]
    }
   ],
   "source": [
    "try:\n",
    "    x=input(\"Please enter the numerator: \")\n",
    "    y=int(x)\n",
    "    print(y)\n",
    "except TypeError:\n",
    "    print('please check the type of value you have entered, it should be numbers only')\n",
    "else:\n",
    "    print('Output is executed successfully')"
   ]
  },
  {
   "cell_type": "markdown",
   "id": "d43583e2",
   "metadata": {},
   "source": [
    "# c. Program to access an element in a list\n"
   ]
  },
  {
   "cell_type": "code",
   "execution_count": 65,
   "id": "3f6a1602",
   "metadata": {},
   "outputs": [
    {
     "name": "stdout",
     "output_type": "stream",
     "text": [
      "Please enter a Index possition number to access the list element8\n",
      "please enter the valid Index possition number only\n"
     ]
    }
   ],
   "source": [
    "try:\n",
    "    l=[1,2,3,4,5,6]\n",
    "    access_list_element=int(input('Please enter a Index possition number to access the list element'))\n",
    "    print(l[access_list_element])\n",
    "except IndexError:\n",
    "    print('please enter the valid Index possition number only')"
   ]
  },
  {
   "cell_type": "markdown",
   "id": "5e275504",
   "metadata": {},
   "source": [
    "# d. Program to handle a specific exception\n"
   ]
  },
  {
   "cell_type": "code",
   "execution_count": 66,
   "id": "b6228ce5",
   "metadata": {},
   "outputs": [
    {
     "name": "stdout",
     "output_type": "stream",
     "text": [
      "File doesnot exists\n"
     ]
    }
   ],
   "source": [
    "try:\n",
    "    file_name='file_123.txt'\n",
    "    with open(file_name,'w') as file:\n",
    "        contents = file.read()\n",
    "except IOError:\n",
    "    print('File doesnot exists' )\n",
    "           "
   ]
  },
  {
   "cell_type": "markdown",
   "id": "8b2d17f3",
   "metadata": {},
   "source": [
    "# e. Program to handle any exception"
   ]
  },
  {
   "cell_type": "code",
   "execution_count": 68,
   "id": "91e4b23e",
   "metadata": {},
   "outputs": [
    {
     "name": "stdout",
     "output_type": "stream",
     "text": [
      "Please enter the numerator: g\n",
      "invalid literal for int() with base 10: 'g'\n"
     ]
    }
   ],
   "source": [
    "try:\n",
    "    x=input(\"Please enter the numerator: \")\n",
    "    y=int(x)\n",
    "    print(y)\n",
    "except Exception as e:\n",
    "    print(e)\n",
    "else:\n",
    "    print('Output is executed successfully')"
   ]
  },
  {
   "cell_type": "code",
   "execution_count": null,
   "id": "965046d7",
   "metadata": {},
   "outputs": [],
   "source": []
  }
 ],
 "metadata": {
  "kernelspec": {
   "display_name": "Python 3 (ipykernel)",
   "language": "python",
   "name": "python3"
  },
  "language_info": {
   "codemirror_mode": {
    "name": "ipython",
    "version": 3
   },
   "file_extension": ".py",
   "mimetype": "text/x-python",
   "name": "python",
   "nbconvert_exporter": "python",
   "pygments_lexer": "ipython3",
   "version": "3.9.13"
  }
 },
 "nbformat": 4,
 "nbformat_minor": 5
}
