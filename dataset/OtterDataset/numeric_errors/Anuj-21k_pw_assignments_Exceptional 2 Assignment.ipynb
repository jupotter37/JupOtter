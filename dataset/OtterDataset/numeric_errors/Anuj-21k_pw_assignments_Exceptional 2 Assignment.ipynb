{
 "cells": [
  {
   "cell_type": "markdown",
   "id": "b7d302c1-5b19-4ef2-a17c-b3872110431b",
   "metadata": {},
   "source": [
    "# Q1. Explain why we have to use the Exception class while creating a Custom Exception.\n",
    "\n"
   ]
  },
  {
   "cell_type": "markdown",
   "id": "45854cfb-9cc3-498e-aeee-453619ebc201",
   "metadata": {},
   "source": [
    "#### Ans: \n",
    "Using the Exception class as a base for custom exceptions in Python ensures compatibility with built-in exceptions, consistent error handling mechanisms, and adherence to Python's exception hierarchy. Inheriting from Exception allows for polymorphic handling, simplifies code maintenance, and enhances readability by signaling that the class represents an error. This approach aligns custom exceptions with Python's best practices, facilitating clear and structured error handling in codebases.\n"
   ]
  },
  {
   "cell_type": "markdown",
   "id": "8145baaf-8eda-4494-b82a-59256bb7186a",
   "metadata": {},
   "source": [
    "# Q2. Write a python program to print Python Exception Hierarchy"
   ]
  },
  {
   "cell_type": "code",
   "execution_count": 3,
   "id": "4105cec8-dba2-4c89-9f18-ccabcf7eee4b",
   "metadata": {},
   "outputs": [
    {
     "name": "stderr",
     "output_type": "stream",
     "text": [
      "Traceback (most recent call last):\n",
      "  File \"/tmp/ipykernel_2125/2182459801.py\", line 4, in <module>\n",
      "    raise Exception(\"this is an exception\")\n",
      "Exception: this is an exception\n"
     ]
    }
   ],
   "source": [
    "import traceback # using python `traceback` exception hierarchy\n",
    "\n",
    "try:\n",
    "    raise Exception(\"this is an exception\")\n",
    "except Exception as e :\n",
    "    traceback.print_exception(type(e), e, e.__traceback__)"
   ]
  },
  {
   "cell_type": "markdown",
   "id": "5f27c3ee-b0a7-458a-a14b-8fced87c250a",
   "metadata": {},
   "source": [
    "# Q3. What errors are defined in the ArithmeticError class? Explain any two with an example."
   ]
  },
  {
   "cell_type": "markdown",
   "id": "77ef9145-debc-4cb7-87ef-cece08551abc",
   "metadata": {},
   "source": [
    "#### Ans:\n",
    "\n",
    "The ArithmeticError class in Python defines errors that occur during arithmetic operations. Two common errors defined in this class are ZeroDivisionError and OverflowError."
   ]
  },
  {
   "cell_type": "code",
   "execution_count": 4,
   "id": "3d4fbddd-97ca-4c85-8ce8-fb45aeed4032",
   "metadata": {},
   "outputs": [
    {
     "name": "stdout",
     "output_type": "stream",
     "text": [
      "Error : Division by zero!\n"
     ]
    }
   ],
   "source": [
    "# 1. ZeroDivisionError: This error occurs when attempting to divide by zero.\n",
    "\n",
    "try:\n",
    "    result = 10/0\n",
    "except ZeroDivisionError:\n",
    "    print(\"Error : Division by zero!\")"
   ]
  },
  {
   "cell_type": "code",
   "execution_count": null,
   "id": "f311e7e0-5100-45f6-905d-584d904b1cf7",
   "metadata": {},
   "outputs": [],
   "source": [
    "# 2.OverflowError: This error occurs when the result of an arithmetic operation exceeds the maximum representable value for a numeric type.\n",
    "\n",
    "\n",
    "max_int_value = (2**31 - 1)\n",
    "\n",
    "try:\n",
    "    # Attempting addition on a small integer type might overflow\n",
    "    result = max_int_value + 1\n",
    "except OverflowError:\n",
    "    print(\"OverflowError raised using ctypes.c_int\")\n",
    "\n"
   ]
  },
  {
   "cell_type": "markdown",
   "id": "44e67a2a-fd45-43de-8cd8-bab45c5feb5b",
   "metadata": {},
   "source": [
    "# Q4. Why LookupError class is used? Explain with an example KeyError and IndexError."
   ]
  },
  {
   "cell_type": "markdown",
   "id": "982c2127-1afb-4e14-b220-d9ae30a9b94d",
   "metadata": {},
   "source": [
    "#### Ans:\n",
    "The LookupError class in Python is used to handle errors that occur when a key or index is not found during lookup operations. It serves as the base class for several specific lookup-related error classes, including KeyError and IndexError."
   ]
  },
  {
   "cell_type": "code",
   "execution_count": 3,
   "id": "aa70a865-d4ff-4e37-8fae-b700de4c27ee",
   "metadata": {},
   "outputs": [
    {
     "name": "stdout",
     "output_type": "stream",
     "text": [
      "Error: key not found in dictionary! 'd'\n"
     ]
    }
   ],
   "source": [
    "# KeyError : This error occurs when trying to access a dictionary key that does not exist.\n",
    "\n",
    "my_dict = {'a' : 1 , 'b' : 2 , 'c' : 3}\n",
    "\n",
    "try:\n",
    "    value = my_dict['d']\n",
    "except KeyError as e:\n",
    "    \n",
    "    print(\"Error: key not found in dictionary!\",e)"
   ]
  },
  {
   "cell_type": "code",
   "execution_count": 5,
   "id": "480b31e6-cb37-4466-9062-ee277cc9bd4c",
   "metadata": {},
   "outputs": [
    {
     "name": "stdout",
     "output_type": "stream",
     "text": [
      "Error :  list index out of range\n"
     ]
    }
   ],
   "source": [
    "# IndexError: This error occurs when trying to access an index that is out of range in a sequence (e.g., list, tuple).\n",
    "\n",
    "my_list = [1,2,3,4,5]\n",
    "\n",
    "try:\n",
    "    value = my_list[8]\n",
    "except IndexError as e:\n",
    "    print(\"Error : \",e)"
   ]
  },
  {
   "cell_type": "markdown",
   "id": "bd26b8de-6764-4949-a4bc-bb9d75644b8c",
   "metadata": {},
   "source": [
    "# Q5. Explain ImportError. What is ModuleNotFoundError?"
   ]
  },
  {
   "cell_type": "markdown",
   "id": "a58d12b1-ca8e-4c72-b56d-1d149f7ea582",
   "metadata": {},
   "source": [
    "#### Ans:\n",
    "ImportError is a built-in Python exception raised when an import statement fails to import a module or when an imported module fails to provide a necessary attribute. It indicates issues related to module imports."
   ]
  },
  {
   "cell_type": "code",
   "execution_count": 6,
   "id": "d38b93dd-c023-43f8-b34c-f093e16410f4",
   "metadata": {},
   "outputs": [
    {
     "name": "stdout",
     "output_type": "stream",
     "text": [
      "Error:  No module named 'non_existent_model'\n"
     ]
    }
   ],
   "source": [
    "try:\n",
    "    import non_existent_model\n",
    "except ImportError as e:\n",
    "    print(\"Error: \",e)"
   ]
  },
  {
   "cell_type": "markdown",
   "id": "43658097-7fe7-48f4-a006-7eadfbd0475f",
   "metadata": {},
   "source": [
    "#Q6. List down some best practices for exception handling in python."
   ]
  },
  {
   "cell_type": "code",
   "execution_count": null,
   "id": "f3239ede-a60e-4ded-91b4-3c395c1806e2",
   "metadata": {},
   "outputs": [],
   "source": []
  }
 ],
 "metadata": {
  "kernelspec": {
   "display_name": "Python 3 (ipykernel)",
   "language": "python",
   "name": "python3"
  },
  "language_info": {
   "codemirror_mode": {
    "name": "ipython",
    "version": 3
   },
   "file_extension": ".py",
   "mimetype": "text/x-python",
   "name": "python",
   "nbconvert_exporter": "python",
   "pygments_lexer": "ipython3",
   "version": "3.10.8"
  }
 },
 "nbformat": 4,
 "nbformat_minor": 5
}
