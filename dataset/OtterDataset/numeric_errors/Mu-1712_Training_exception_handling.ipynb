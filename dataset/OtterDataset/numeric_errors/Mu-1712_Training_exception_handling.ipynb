{
  "nbformat": 4,
  "nbformat_minor": 0,
  "metadata": {
    "colab": {
      "provenance": []
    },
    "kernelspec": {
      "name": "python3",
      "display_name": "Python 3"
    }
  },
  "cells": [
    {
      "cell_type": "code",
      "metadata": {
        "id": "Nneacm6Y3TvP"
      },
      "source": [
        "#try\n",
        "#except\n",
        "#finally\n"
      ],
      "execution_count": null,
      "outputs": []
    },
    {
      "cell_type": "markdown",
      "source": [
        "Python has a wide range of built-in exceptions that can be raised by the interpreter or by code in your program. Here is a list of some of the most common exceptions:\n",
        "\n",
        "BaseException: The base class for all exceptions in Python.\n",
        "\n",
        "Exception: The most common base class for non-system-exiting exceptions.\n",
        "\n",
        "ArithmeticError: The base class for arithmetic-related exceptions, such as ZeroDivisionError and OverflowError.\n",
        "\n",
        "AssertionError: Raised when an assert statement fails.\n",
        "\n",
        "AttributeError: Raised when an object has no attribute (or method) of a given name.\n",
        "\n",
        "EOFError: Raised when there is no input from an input() function or when a file is empty.\n",
        "\n",
        "ImportError: Raised when an imported module cannot be found.\n",
        "\n",
        "IndexError: Raised when an index is out of range.\n",
        "\n",
        "KeyError: Raised when a key is not found in a dictionary.\n",
        "\n",
        "KeyboardInterrupt: Raised when the user interrupts the program execution, usually by pressing Ctrl+C.\n",
        "\n",
        "MemoryError: Raised when a program runs out of memory.\n",
        "\n",
        "NameError: Raised when a name is not found in the local or global namespace.\n",
        "\n",
        "OSError: The base class for operating system-related exceptions.\n",
        "\n",
        "StopIteration: Raised when the next() method of an iterator has no more values.\n",
        "\n",
        "SyntaxError: Raised when there is a syntax error in the program.\n",
        "\n",
        "TypeError: Raised when an operation or function is applied to an object of inappropriate type.\n",
        "\n",
        "ValueError: Raised when an operation or function receives an argument of inappropriate value.\n",
        "\n",
        "ZeroDivisionError: Raised when attempting to divide by zero.\n",
        "\n",
        "These are just a few examples of the many built-in exceptions available in Python. You can also create your own custom exceptions by subclassing one of the built-in exceptions."
      ],
      "metadata": {
        "id": "xXU5bpTBiWJF"
      }
    },
    {
      "cell_type": "code",
      "source": [
        "try:\n",
        "    x = 1 / 0\n",
        "except ArithmeticError:\n",
        "    print(\"Error: an arithmetic error occurred\")\n",
        "\n",
        "# except ZeroDivisionError:\n",
        "#     print(\"Error: division by zero\")"
      ],
      "metadata": {
        "colab": {
          "base_uri": "https://localhost:8080/"
        },
        "id": "fQwYaagEjQMw",
        "outputId": "0bd0c4d8-a728-4c47-87c9-35a1a10b7cf7"
      },
      "execution_count": null,
      "outputs": [
        {
          "output_type": "stream",
          "name": "stdout",
          "text": [
            "Error: an arithmetic error occurred\n"
          ]
        }
      ]
    },
    {
      "cell_type": "code",
      "source": [
        "try:\n",
        "    x = 5\n",
        "    y = 10\n",
        "    assert x > y, \"x should be greater than y\"\n",
        "except AssertionError as error:\n",
        "    print(error)\n"
      ],
      "metadata": {
        "colab": {
          "base_uri": "https://localhost:8080/"
        },
        "id": "vT9kCeATkjHs",
        "outputId": "7406ddf0-7fb6-4925-9d10-12630f4abf13"
      },
      "execution_count": null,
      "outputs": [
        {
          "output_type": "stream",
          "name": "stdout",
          "text": [
            "x should be greater than y\n"
          ]
        }
      ]
    },
    {
      "cell_type": "code",
      "source": [
        "try:\n",
        "    my_str = \"Hello, world!\"\n",
        "    my_str.sort()\n",
        "except AttributeError:\n",
        "    print(\"Error: string object has no attribute 'sort'\")\n"
      ],
      "metadata": {
        "colab": {
          "base_uri": "https://localhost:8080/"
        },
        "id": "y13FhZeckpWU",
        "outputId": "c3d88473-f020-437f-fa05-611a5387d3e7"
      },
      "execution_count": null,
      "outputs": [
        {
          "output_type": "stream",
          "name": "stdout",
          "text": [
            "Error: string object has no attribute 'sort'\n"
          ]
        }
      ]
    },
    {
      "cell_type": "code",
      "source": [
        "try:\n",
        "    my_list = [1, 2, 3]\n",
        "    print(my_list[3])\n",
        "except IndexError:\n",
        "    print(\"Error: index out of range\")\n"
      ],
      "metadata": {
        "colab": {
          "base_uri": "https://localhost:8080/"
        },
        "id": "3YqwMB3Rkpfy",
        "outputId": "32d656e2-648f-4c04-9c7b-4e77f5e36fed"
      },
      "execution_count": null,
      "outputs": [
        {
          "output_type": "stream",
          "name": "stdout",
          "text": [
            "Error: index out of range\n"
          ]
        }
      ]
    },
    {
      "cell_type": "code",
      "source": [
        "my_list = [1, 2, 3]\n",
        "print(my_list[3])"
      ],
      "metadata": {
        "colab": {
          "base_uri": "https://localhost:8080/",
          "height": 186
        },
        "id": "rsR51w3qgQKX",
        "outputId": "04de50e4-bf0e-41c2-bc76-e6d18b6fe76d"
      },
      "execution_count": null,
      "outputs": [
        {
          "output_type": "error",
          "ename": "IndexError",
          "evalue": "ignored",
          "traceback": [
            "\u001b[0;31m---------------------------------------------------------------------------\u001b[0m",
            "\u001b[0;31mIndexError\u001b[0m                                Traceback (most recent call last)",
            "\u001b[0;32m<ipython-input-3-d54d0dfa12f9>\u001b[0m in \u001b[0;36m<cell line: 2>\u001b[0;34m()\u001b[0m\n\u001b[1;32m      1\u001b[0m \u001b[0mmy_list\u001b[0m \u001b[0;34m=\u001b[0m \u001b[0;34m[\u001b[0m\u001b[0;36m1\u001b[0m\u001b[0;34m,\u001b[0m \u001b[0;36m2\u001b[0m\u001b[0;34m,\u001b[0m \u001b[0;36m3\u001b[0m\u001b[0;34m]\u001b[0m\u001b[0;34m\u001b[0m\u001b[0;34m\u001b[0m\u001b[0m\n\u001b[0;32m----> 2\u001b[0;31m \u001b[0mprint\u001b[0m\u001b[0;34m(\u001b[0m\u001b[0mmy_list\u001b[0m\u001b[0;34m[\u001b[0m\u001b[0;36m3\u001b[0m\u001b[0;34m]\u001b[0m\u001b[0;34m)\u001b[0m\u001b[0;34m\u001b[0m\u001b[0;34m\u001b[0m\u001b[0m\n\u001b[0m",
            "\u001b[0;31mIndexError\u001b[0m: list index out of range"
          ]
        }
      ]
    },
    {
      "cell_type": "code",
      "source": [
        "try:\n",
        "    my_dict = {\"name\": \"Alice\", \"age\": 30}\n",
        "    print(my_dict[\"height\"])\n",
        "except KeyError:\n",
        "    print(\"Error: key not found in dictionary\")\n"
      ],
      "metadata": {
        "colab": {
          "base_uri": "https://localhost:8080/"
        },
        "id": "uUf4PwPPkppX",
        "outputId": "c5aa4208-b990-446c-c1fb-b86879c19130"
      },
      "execution_count": null,
      "outputs": [
        {
          "output_type": "stream",
          "name": "stdout",
          "text": [
            "Error: key not found in dictionary\n"
          ]
        }
      ]
    },
    {
      "cell_type": "code",
      "source": [
        "try:\n",
        "    my_list = [0] * (10 ** 9)\n",
        "except MemoryError:\n",
        "    print(\"Error: not enough memory available\")\n"
      ],
      "metadata": {
        "id": "Jtuzq92fkpxa"
      },
      "execution_count": null,
      "outputs": []
    },
    {
      "cell_type": "code",
      "source": [
        "try:\n",
        "    print(my_var)\n",
        "except NameError:\n",
        "    print(\"Error: variable not defined\")\n"
      ],
      "metadata": {
        "colab": {
          "base_uri": "https://localhost:8080/"
        },
        "id": "c97KKGZOkp7M",
        "outputId": "3fb041b6-b120-4537-8e3e-f20865f7afa8"
      },
      "execution_count": null,
      "outputs": [
        {
          "output_type": "stream",
          "name": "stdout",
          "text": [
            "Error: variable not defined\n"
          ]
        }
      ]
    },
    {
      "cell_type": "code",
      "source": [
        "try:\n",
        "    with open(\"nonexistent_file.txt\") as f:\n",
        "        contents = f.read()\n",
        "except OSError:\n",
        "    print(\"Error: could not open file\")\n"
      ],
      "metadata": {
        "colab": {
          "base_uri": "https://localhost:8080/"
        },
        "id": "7kPBoDKDkqEf",
        "outputId": "4b08d123-79a0-4758-cb70-239b9f4cf0ec"
      },
      "execution_count": null,
      "outputs": [
        {
          "output_type": "stream",
          "name": "stdout",
          "text": [
            "Error: could not open file\n"
          ]
        }
      ]
    },
    {
      "cell_type": "code",
      "source": [
        "try:\n",
        "    eval(\"x = 5\")\n",
        "except SyntaxError:\n",
        "    print(\"Error: invalid syntax\")\n"
      ],
      "metadata": {
        "colab": {
          "base_uri": "https://localhost:8080/"
        },
        "id": "Z_szQcCDkqM-",
        "outputId": "8bca0263-cb65-4625-9c95-cca928f0f10d"
      },
      "execution_count": null,
      "outputs": [
        {
          "output_type": "stream",
          "name": "stdout",
          "text": [
            "Error: invalid syntax\n"
          ]
        }
      ]
    },
    {
      "cell_type": "code",
      "source": [
        "try:\n",
        "    result = 5 + \"hello\"\n",
        "except TypeError:\n",
        "    print(\"Error: unsupported operand type(s) for +: 'int' and 'str'\")\n"
      ],
      "metadata": {
        "colab": {
          "base_uri": "https://localhost:8080/"
        },
        "id": "D0fUUeqgkqXJ",
        "outputId": "9decf1e3-9132-4326-854e-59264da428fc"
      },
      "execution_count": null,
      "outputs": [
        {
          "output_type": "stream",
          "name": "stdout",
          "text": [
            "Error: unsupported operand type(s) for +: 'int' and 'str'\n"
          ]
        }
      ]
    },
    {
      "cell_type": "code",
      "source": [
        "try:\n",
        "    num = int(\"hello\")\n",
        "except ValueError:\n",
        "    print(\"Error: could not convert string to integer\")\n"
      ],
      "metadata": {
        "colab": {
          "base_uri": "https://localhost:8080/"
        },
        "id": "sVFseS4Mkqf5",
        "outputId": "9f12dae3-6c31-42b0-c3fa-b698b2a1ef8a"
      },
      "execution_count": null,
      "outputs": [
        {
          "output_type": "stream",
          "name": "stdout",
          "text": [
            "Error: could not convert string to integer\n"
          ]
        }
      ]
    },
    {
      "cell_type": "code",
      "source": [
        "import os\n",
        "\n",
        "def divide_by_zero():\n",
        "    return 1/0\n",
        "\n",
        "def get_item_by_index(my_list, index):\n",
        "    return my_list[index]\n",
        "\n",
        "def raise_assertion_error(value):\n",
        "    assert value > 10, \"Value must be greater than 10\"\n",
        "\n",
        "def raise_key_error(my_dict, key):\n",
        "    return my_dict[key]\n",
        "\n",
        "def read_file(file_path):\n",
        "    with open(file_path, \"r\") as f:\n",
        "        return f.read(1000000000)\n",
        "\n",
        "def create_directory(dir_path):\n",
        "    os.mkdir(dir_path)\n",
        "\n",
        "try:\n",
        "    divide_by_zero()\n",
        "except ZeroDivisionError:\n",
        "    print(\"Error: division by zero\")\n",
        "\n",
        "my_list = [1, 2, 3]\n",
        "try:\n",
        "    get_item_by_index(my_list, 5)\n",
        "except IndexError:\n",
        "    print(\"Error: list index out of range\")\n",
        "\n",
        "try:\n",
        "    raise_assertion_error(5)\n",
        "except AssertionError:\n",
        "    print(\"Error: assertion failed\")\n",
        "\n",
        "my_dict = {\"key1\": \"value1\", \"key2\": \"value2\"}\n",
        "try:\n",
        "    raise_key_error(my_dict, \"key3\")\n",
        "except KeyError:\n",
        "    print(\"Error: key not found\")\n",
        "\n",
        "try:\n",
        "    read_file(\"nonexistent_file.txt\")\n",
        "except FileNotFoundError:\n",
        "    print(\"Error: file not found\")\n",
        "\n",
        "try:\n",
        "    create_directory(\"/root/newdir\")\n",
        "except OSError:\n",
        "    print(\"Error: failed to create directory\")\n"
      ],
      "metadata": {
        "colab": {
          "base_uri": "https://localhost:8080/"
        },
        "id": "GPM0VZtAkqo8",
        "outputId": "28e72e91-e7e5-4330-9e74-9a07ffa57d3e"
      },
      "execution_count": null,
      "outputs": [
        {
          "output_type": "stream",
          "name": "stdout",
          "text": [
            "Error: division by zero\n",
            "Error: list index out of range\n",
            "Error: assertion failed\n",
            "Error: key not found\n",
            "Error: file not found\n"
          ]
        }
      ]
    },
    {
      "cell_type": "code",
      "source": [
        "try:\n",
        "    # code that may raise exceptions\n",
        "    x = 1 / 0\n",
        "    num = int(\"hello\")\n",
        "except ZeroDivisionError:\n",
        "    # handle the ZeroDivisionError\n",
        "    print(\"Cannot divide by zero!\")\n",
        "except ValueError:\n",
        "    # handle the ValueError\n",
        "    print(\"Invalid value provided!\")\n",
        "\n"
      ],
      "metadata": {
        "colab": {
          "base_uri": "https://localhost:8080/"
        },
        "id": "lNtGxzPAkqyo",
        "outputId": "25b26dfa-4848-473b-ae20-effa9516e25c"
      },
      "execution_count": null,
      "outputs": [
        {
          "output_type": "stream",
          "name": "stdout",
          "text": [
            "Invalid value provided!\n"
          ]
        }
      ]
    },
    {
      "cell_type": "code",
      "source": [
        "try:\n",
        "    # code that may raise exceptions\n",
        "    #x = 1 / 0\n",
        "    num = int(\"hello\")\n",
        "except Exception as e:\n",
        "  # handle any other exception\n",
        "    print(f\"Unexpected error: {e}\")"
      ],
      "metadata": {
        "colab": {
          "base_uri": "https://localhost:8080/"
        },
        "id": "u0Owt11ay7XZ",
        "outputId": "38aef453-fae3-432c-e589-9616f09d38a3"
      },
      "execution_count": null,
      "outputs": [
        {
          "output_type": "stream",
          "name": "stdout",
          "text": [
            "Unexpected error: invalid literal for int() with base 10: 'hello'\n"
          ]
        }
      ]
    },
    {
      "cell_type": "code",
      "source": [
        "try:\n",
        "    x = int(input(\"Enter a number: \"))\n",
        "    y = 1 / x\n",
        "    lst = [1, 2, 3]\n",
        "    index = int(input(\"Enter an index: \"))\n",
        "    print(f\"The element at index {index} is {lst[index]}\")\n",
        "except ValueError:\n",
        "    print(\"Invalid input. Please enter a valid integer.\")\n",
        "except ZeroDivisionError:\n",
        "    print(\"Cannot divide by zero.\")\n",
        "except IndexError:\n",
        "    print(\"Index out of range. Please enter a valid index.\")\n"
      ],
      "metadata": {
        "colab": {
          "base_uri": "https://localhost:8080/"
        },
        "id": "EDvfidXH06GW",
        "outputId": "d5f6a630-9259-4983-ac64-25e0c1a708a6"
      },
      "execution_count": null,
      "outputs": [
        {
          "output_type": "stream",
          "name": "stdout",
          "text": [
            "Enter a number: 0\n",
            "Cannot divide by zero.\n"
          ]
        }
      ]
    },
    {
      "cell_type": "code",
      "source": [
        "import mysql.connector\n",
        "\n",
        "try:\n",
        "    # create a connection to the database\n",
        "    conn = mysql.connector.connect(\n",
        "        host=\"localhost\",\n",
        "        user=\"myusername\",\n",
        "        password=\"mypassword\",\n",
        "        database=\"mydatabase\"\n",
        "    )\n",
        "\n",
        "    # create a cursor object\n",
        "    cursor = conn.cursor()\n",
        "\n",
        "    # execute a SQL query\n",
        "    cursor.execute(\"SELECT * FROM mytable\")\n",
        "\n",
        "    # fetch the results\n",
        "    results = cursor.fetchall()\n",
        "\n",
        "except mysql.connector.Error as error:\n",
        "    # handle the exception here\n",
        "    # ...\n",
        "    # print an error message\n",
        "    print(\"Error: {}\".format(error))\n",
        "\n",
        "finally:\n",
        "    # close the cursor and connection\n",
        "    cursor.close()\n",
        "    conn.close()\n"
      ],
      "metadata": {
        "id": "qPUeaqGOkq78"
      },
      "execution_count": null,
      "outputs": []
    },
    {
      "cell_type": "code",
      "metadata": {
        "id": "TUel9Pi34tP-",
        "colab": {
          "base_uri": "https://localhost:8080/",
          "height": 200
        },
        "outputId": "82a896a8-609a-47a5-bf60-f82dc97bea7e"
      },
      "source": [
        "print(x)\n",
        "c= 2+6\n",
        "print(c)"
      ],
      "execution_count": null,
      "outputs": [
        {
          "output_type": "error",
          "ename": "NameError",
          "evalue": "ignored",
          "traceback": [
            "\u001b[0;31m---------------------------------------------------------------------------\u001b[0m",
            "\u001b[0;31mNameError\u001b[0m                                 Traceback (most recent call last)",
            "\u001b[0;32m<ipython-input-1-058e95d54731>\u001b[0m in \u001b[0;36m<module>\u001b[0;34m\u001b[0m\n\u001b[0;32m----> 1\u001b[0;31m \u001b[0mprint\u001b[0m\u001b[0;34m(\u001b[0m\u001b[0mx\u001b[0m\u001b[0;34m)\u001b[0m\u001b[0;34m\u001b[0m\u001b[0;34m\u001b[0m\u001b[0m\n\u001b[0m\u001b[1;32m      2\u001b[0m \u001b[0mc\u001b[0m\u001b[0;34m=\u001b[0m \u001b[0;36m2\u001b[0m\u001b[0;34m+\u001b[0m\u001b[0;36m6\u001b[0m\u001b[0;34m\u001b[0m\u001b[0;34m\u001b[0m\u001b[0m\n\u001b[1;32m      3\u001b[0m \u001b[0mprint\u001b[0m\u001b[0;34m(\u001b[0m\u001b[0mc\u001b[0m\u001b[0;34m)\u001b[0m\u001b[0;34m\u001b[0m\u001b[0;34m\u001b[0m\u001b[0m\n",
            "\u001b[0;31mNameError\u001b[0m: name 'x' is not defined"
          ]
        }
      ]
    },
    {
      "cell_type": "code",
      "metadata": {
        "id": "4SWWPkl25EyY",
        "colab": {
          "base_uri": "https://localhost:8080/"
        },
        "outputId": "f2bca489-476d-4582-b6f7-038f57c91ed0"
      },
      "source": [
        "try:\n",
        "  print(x)\n",
        "except:\n",
        "  print('error')\n",
        "\n",
        "finally:\n",
        "  c=2+6\n",
        "  print(c)"
      ],
      "execution_count": null,
      "outputs": [
        {
          "output_type": "stream",
          "name": "stdout",
          "text": [
            "error\n",
            "8\n"
          ]
        }
      ]
    },
    {
      "cell_type": "code",
      "metadata": {
        "id": "sxhDOJfp5eqz",
        "colab": {
          "base_uri": "https://localhost:8080/",
          "height": 51
        },
        "outputId": "affcc094-fa19-4101-d3c5-5988abcb36ff"
      },
      "source": [
        "try:\n",
        "  print(x)\n",
        "\n",
        "except:\n",
        "  print(\"error occurs\")\n",
        "\n",
        "finally:\n",
        "  c=8+9\n",
        "  print(c)"
      ],
      "execution_count": null,
      "outputs": [
        {
          "output_type": "stream",
          "text": [
            "error occurs\n",
            "17\n"
          ],
          "name": "stdout"
        }
      ]
    },
    {
      "cell_type": "code",
      "metadata": {
        "id": "yqQXgSjl7MeB",
        "colab": {
          "base_uri": "https://localhost:8080/",
          "height": 280
        },
        "outputId": "83a22413-b50f-4a14-d85e-b7f4c2de95b2"
      },
      "source": [
        "#example\n",
        "\n",
        "a=[2,4,6,'a',8,0]\n",
        "for i in a:\n",
        "  c=2/i\n",
        "  print(c)"
      ],
      "execution_count": null,
      "outputs": [
        {
          "output_type": "stream",
          "text": [
            "1.0\n",
            "0.5\n",
            "0.3333333333333333\n"
          ],
          "name": "stdout"
        },
        {
          "output_type": "error",
          "ename": "TypeError",
          "evalue": "ignored",
          "traceback": [
            "\u001b[0;31m---------------------------------------------------------------------------\u001b[0m",
            "\u001b[0;31mTypeError\u001b[0m                                 Traceback (most recent call last)",
            "\u001b[0;32m<ipython-input-4-b95fefadd022>\u001b[0m in \u001b[0;36m<module>\u001b[0;34m()\u001b[0m\n\u001b[1;32m      3\u001b[0m \u001b[0ma\u001b[0m\u001b[0;34m=\u001b[0m\u001b[0;34m[\u001b[0m\u001b[0;36m2\u001b[0m\u001b[0;34m,\u001b[0m\u001b[0;36m4\u001b[0m\u001b[0;34m,\u001b[0m\u001b[0;36m6\u001b[0m\u001b[0;34m,\u001b[0m\u001b[0;34m'a'\u001b[0m\u001b[0;34m,\u001b[0m\u001b[0;36m8\u001b[0m\u001b[0;34m,\u001b[0m\u001b[0;36m0\u001b[0m\u001b[0;34m]\u001b[0m\u001b[0;34m\u001b[0m\u001b[0;34m\u001b[0m\u001b[0m\n\u001b[1;32m      4\u001b[0m \u001b[0;32mfor\u001b[0m \u001b[0mi\u001b[0m \u001b[0;32min\u001b[0m \u001b[0ma\u001b[0m\u001b[0;34m:\u001b[0m\u001b[0;34m\u001b[0m\u001b[0;34m\u001b[0m\u001b[0m\n\u001b[0;32m----> 5\u001b[0;31m   \u001b[0mc\u001b[0m\u001b[0;34m=\u001b[0m\u001b[0;36m2\u001b[0m\u001b[0;34m/\u001b[0m\u001b[0mi\u001b[0m\u001b[0;34m\u001b[0m\u001b[0;34m\u001b[0m\u001b[0m\n\u001b[0m\u001b[1;32m      6\u001b[0m   \u001b[0mprint\u001b[0m\u001b[0;34m(\u001b[0m\u001b[0mc\u001b[0m\u001b[0;34m)\u001b[0m\u001b[0;34m\u001b[0m\u001b[0;34m\u001b[0m\u001b[0m\n",
            "\u001b[0;31mTypeError\u001b[0m: unsupported operand type(s) for /: 'int' and 'str'"
          ]
        }
      ]
    },
    {
      "cell_type": "code",
      "source": [
        "import sys\n",
        "a=[2,4,6,'a',8,0]\n",
        "for i in a:\n",
        "  try:\n",
        "    c=2/i\n",
        "    print(c)\n",
        "  except Exception as e:\n",
        "    print(\"error\")"
      ],
      "metadata": {
        "colab": {
          "base_uri": "https://localhost:8080/"
        },
        "id": "IsuO-o14iFvN",
        "outputId": "3ad2adc4-fac0-468f-94c7-612eeee25daf"
      },
      "execution_count": null,
      "outputs": [
        {
          "output_type": "stream",
          "name": "stdout",
          "text": [
            "1.0\n",
            "0.5\n",
            "0.3333333333333333\n",
            "error\n",
            "0.25\n",
            "error\n"
          ]
        }
      ]
    },
    {
      "cell_type": "code",
      "metadata": {
        "id": "JW9wizHE-epr",
        "colab": {
          "base_uri": "https://localhost:8080/"
        },
        "outputId": "07ed2b27-9f7a-4f94-bca5-d81a10e2ebf0"
      },
      "source": [
        "import sys\n",
        "a=[2,4,6,'a',8,0]\n",
        "for i in a:\n",
        "  try:\n",
        "    c=2/i\n",
        "    print(c)\n",
        "  except:\n",
        "    print(\"error\",sys.exc_info())"
      ],
      "execution_count": null,
      "outputs": [
        {
          "output_type": "stream",
          "name": "stdout",
          "text": [
            "1.0\n",
            "0.5\n",
            "0.3333333333333333\n",
            "error (<class 'TypeError'>, TypeError(\"unsupported operand type(s) for /: 'int' and 'str'\"), <traceback object at 0x78e7d1df4e00>)\n",
            "0.25\n",
            "error (<class 'ZeroDivisionError'>, ZeroDivisionError('division by zero'), <traceback object at 0x78e7d1df4e00>)\n"
          ]
        }
      ]
    },
    {
      "cell_type": "code",
      "metadata": {
        "id": "KXJhHO-I_MXE",
        "colab": {
          "base_uri": "https://localhost:8080/",
          "height": 136
        },
        "outputId": "9cca2a0d-4473-4a59-feb7-c96ed36cb5a1"
      },
      "source": [
        "import sys\n",
        "a=[1,2,3,4,'s',9,0]\n",
        "for i in a:\n",
        "  try:\n",
        "    c=2/i\n",
        "    print(c)\n",
        "\n",
        "  except:\n",
        "    print('error',sys.exc_info()[0])"
      ],
      "execution_count": null,
      "outputs": [
        {
          "output_type": "stream",
          "text": [
            "2.0\n",
            "1.0\n",
            "0.6666666666666666\n",
            "0.5\n",
            "error <class 'TypeError'>\n",
            "0.2222222222222222\n",
            "error <class 'ZeroDivisionError'>\n"
          ],
          "name": "stdout"
        }
      ]
    },
    {
      "cell_type": "code",
      "metadata": {
        "colab": {
          "base_uri": "https://localhost:8080/"
        },
        "id": "IZGMhGRnp15P",
        "outputId": "a209fcc0-d247-4898-ee15-7e00bd2ff360"
      },
      "source": [
        "import sys\n",
        "\n",
        "randomList = ['a', 0, '2']\n",
        "\n",
        "for entry in randomList:\n",
        "    try:\n",
        "        print(\"The entry is\", entry)\n",
        "        r = 1/int(entry)\n",
        "\n",
        "    except:\n",
        "        print(\"Oops!\", sys.exc_info()[0], \"occurred.\")\n",
        "        print(\"Next entry.\")\n",
        "        print()\n",
        "print(\"The reciprocal of\", entry, \"is\", r)"
      ],
      "execution_count": null,
      "outputs": [
        {
          "output_type": "stream",
          "name": "stdout",
          "text": [
            "The entry is a\n",
            "Oops! <class 'ValueError'> occurred.\n",
            "Next entry.\n",
            "\n",
            "The entry is 0\n",
            "Oops! <class 'ZeroDivisionError'> occurred.\n",
            "Next entry.\n",
            "\n",
            "The entry is 2\n",
            "The reciprocal of 2 is 0.5\n"
          ]
        }
      ]
    },
    {
      "cell_type": "code",
      "source": [
        "try:\n",
        "    num1 = int(input(\"Enter First Number: \"))\n",
        "    num2 = int(input(\"Enter Second Number: \"))\n",
        "\n",
        "    result = num1 / num2\n",
        "\n",
        "    print(result)\n",
        "except ValueError as e:\n",
        "    print(\"Invalid Input Please Input Integer...\")\n",
        "except ZeroDivisionError as e:\n",
        "    print(e)\n"
      ],
      "metadata": {
        "colab": {
          "base_uri": "https://localhost:8080/"
        },
        "id": "PY1yKPLCBVjr",
        "outputId": "11d48f1d-3a33-4456-e741-e9465be27455"
      },
      "execution_count": null,
      "outputs": [
        {
          "output_type": "stream",
          "name": "stdout",
          "text": [
            "Enter First Number: w\n",
            "Invalid Input Please Input Integer...\n"
          ]
        }
      ]
    },
    {
      "cell_type": "code",
      "metadata": {
        "colab": {
          "base_uri": "https://localhost:8080/"
        },
        "id": "pzZAlkZ2PObR",
        "outputId": "6cb25889-152d-414d-b843-4d9fa0c65de7"
      },
      "source": [
        "# Program to handle multiple errors with one\n",
        "# except statement\n",
        "# Python 3\n",
        "\n",
        "def fun(a):\n",
        "\tif a < 4:\n",
        "\n",
        "\t\t# throws ZeroDivisionError for a = 3\n",
        "\t\tb = a/(a-3)\n",
        "\n",
        "\t# throws NameError if a >= 4\n",
        "\tprint(\"Value of b = \", b)\n",
        "\n",
        "try:\n",
        "\tfun(3)\n",
        "\tfun(5)\n",
        "\n",
        "\n",
        "# note that braces () are necessary here for\n",
        "# multiple exceptions\n",
        "except ZeroDivisionError:\n",
        "\tprint(\"ZeroDivisionError Occurred and Handled\")\n",
        "except NameError:\n",
        "\tprint(\"NameError Occurred and Handled\")\n"
      ],
      "execution_count": null,
      "outputs": [
        {
          "output_type": "stream",
          "name": "stdout",
          "text": [
            "ZeroDivisionError Occurred and Handled\n"
          ]
        }
      ]
    },
    {
      "cell_type": "code",
      "metadata": {
        "id": "fyoD0P2Vbnku"
      },
      "source": [
        "# user defined exception\n",
        "# guess game\n",
        "class Error(Exception):\n",
        "  pass\n",
        "class ToSmallNumber(Error):\n",
        "  pass\n",
        "class ToLargeNumber(Error):\n",
        "  pass\n",
        "num=10\n",
        "while True:\n",
        "  try:\n",
        "    ch=int(input(\"Enter The Number\"))\n",
        "    if ch<10:\n",
        "      raise ToSmallNumber\n",
        "    elif ch>10:\n",
        "      raise ToLargeNumber\n",
        "    break\n",
        "  except ToSmallNumber:\n",
        "    print(\"you have entered an small number,please try again\")\n",
        "  except ToLargeNumber:\n",
        "    print(\"you have entered an large number,please try again\")\n",
        "\n",
        "print(\"you entered the correct number\")\n",
        "\n"
      ],
      "execution_count": null,
      "outputs": []
    },
    {
      "cell_type": "code",
      "metadata": {
        "id": "rLYlc0s9dEXA",
        "colab": {
          "base_uri": "https://localhost:8080/",
          "height": 34
        },
        "outputId": "faac89cc-c702-48e7-c944-cf8365c0cfca"
      },
      "source": [
        "import re\n",
        "string = ' 2102 1111'\n",
        "# Three digit number followed by space followed by two digit number\n",
        "pattern = '(\\d{3}) (\\d{2})'\n",
        "# match variable contains a Match object.\n",
        "match = re.search(pattern, string)\n",
        "if match:\n",
        "  print(match.group())\n",
        "else:\n",
        "  print(\"pattern not found\")"
      ],
      "execution_count": null,
      "outputs": [
        {
          "output_type": "stream",
          "text": [
            "102 11\n"
          ],
          "name": "stdout"
        }
      ]
    }
  ]
}