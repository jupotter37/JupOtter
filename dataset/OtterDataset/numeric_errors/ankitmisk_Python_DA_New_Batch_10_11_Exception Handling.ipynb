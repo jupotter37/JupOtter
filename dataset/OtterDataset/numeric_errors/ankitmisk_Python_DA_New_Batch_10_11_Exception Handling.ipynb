{
 "cells": [
  {
   "cell_type": "code",
   "execution_count": 1,
   "id": "62f260bd",
   "metadata": {},
   "outputs": [
    {
     "ename": "NameError",
     "evalue": "name 'aman' is not defined",
     "output_type": "error",
     "traceback": [
      "\u001b[1;31m---------------------------------------------------------------------------\u001b[0m",
      "\u001b[1;31mNameError\u001b[0m                                 Traceback (most recent call last)",
      "Cell \u001b[1;32mIn[1], line 1\u001b[0m\n\u001b[1;32m----> 1\u001b[0m \u001b[38;5;28mprint\u001b[39m(aman)\n",
      "\u001b[1;31mNameError\u001b[0m: name 'aman' is not defined"
     ]
    }
   ],
   "source": [
    "print(aman)"
   ]
  },
  {
   "cell_type": "code",
   "execution_count": 2,
   "id": "ef86dbe8",
   "metadata": {},
   "outputs": [
    {
     "ename": "NameError",
     "evalue": "name 'y' is not defined",
     "output_type": "error",
     "traceback": [
      "\u001b[1;31m---------------------------------------------------------------------------\u001b[0m",
      "\u001b[1;31mNameError\u001b[0m                                 Traceback (most recent call last)",
      "Cell \u001b[1;32mIn[2], line 1\u001b[0m\n\u001b[1;32m----> 1\u001b[0m \u001b[38;5;28mprint\u001b[39m(y)\n",
      "\u001b[1;31mNameError\u001b[0m: name 'y' is not defined"
     ]
    }
   ],
   "source": [
    "print(y)"
   ]
  },
  {
   "cell_type": "code",
   "execution_count": 3,
   "id": "eccbf0ba",
   "metadata": {},
   "outputs": [],
   "source": [
    "import requests as r"
   ]
  },
  {
   "cell_type": "code",
   "execution_count": 5,
   "id": "e3d4c11d",
   "metadata": {},
   "outputs": [],
   "source": [
    "# r.get('''data:image/jpeg;base64,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''')"
   ]
  },
  {
   "cell_type": "code",
   "execution_count": 6,
   "id": "f44771dc",
   "metadata": {},
   "outputs": [],
   "source": [
    "# Error handle topic :- Exception Handling"
   ]
  },
  {
   "cell_type": "code",
   "execution_count": 7,
   "id": "9d523856",
   "metadata": {},
   "outputs": [
    {
     "ename": "AttributeError",
     "evalue": "'str' object has no attribute 'append'",
     "output_type": "error",
     "traceback": [
      "\u001b[1;31m---------------------------------------------------------------------------\u001b[0m",
      "\u001b[1;31mAttributeError\u001b[0m                            Traceback (most recent call last)",
      "Cell \u001b[1;32mIn[7], line 3\u001b[0m\n\u001b[0;32m      1\u001b[0m k \u001b[38;5;241m=\u001b[39m \u001b[38;5;124m'\u001b[39m\u001b[38;5;124mkamal\u001b[39m\u001b[38;5;124m'\u001b[39m\n\u001b[1;32m----> 3\u001b[0m k\u001b[38;5;241m.\u001b[39mappend()\n",
      "\u001b[1;31mAttributeError\u001b[0m: 'str' object has no attribute 'append'"
     ]
    }
   ],
   "source": [
    "k = 'kamal'\n",
    "\n",
    "k.append()"
   ]
  },
  {
   "cell_type": "code",
   "execution_count": 8,
   "id": "c1ca365d",
   "metadata": {},
   "outputs": [
    {
     "ename": "IndexError",
     "evalue": "list index out of range",
     "output_type": "error",
     "traceback": [
      "\u001b[1;31m---------------------------------------------------------------------------\u001b[0m",
      "\u001b[1;31mIndexError\u001b[0m                                Traceback (most recent call last)",
      "Cell \u001b[1;32mIn[8], line 3\u001b[0m\n\u001b[0;32m      1\u001b[0m d \u001b[38;5;241m=\u001b[39m [\u001b[38;5;241m1\u001b[39m,\u001b[38;5;241m2343\u001b[39m,\u001b[38;5;241m5\u001b[39m]\n\u001b[1;32m----> 3\u001b[0m d[\u001b[38;5;241m12\u001b[39m]\n",
      "\u001b[1;31mIndexError\u001b[0m: list index out of range"
     ]
    }
   ],
   "source": [
    "d = [1,2343,5]\n",
    "\n",
    "d[12]"
   ]
  },
  {
   "cell_type": "code",
   "execution_count": 15,
   "id": "86ce284f",
   "metadata": {},
   "outputs": [
    {
     "ename": "NameError",
     "evalue": "name 'Hello' is not defined",
     "output_type": "error",
     "traceback": [
      "\u001b[1;31m---------------------------------------------------------------------------\u001b[0m",
      "\u001b[1;31mNameError\u001b[0m                                 Traceback (most recent call last)",
      "Cell \u001b[1;32mIn[15], line 2\u001b[0m\n\u001b[0;32m      1\u001b[0m \u001b[38;5;28;01mif\u001b[39;00m \u001b[38;5;241m2\u001b[39m\u001b[38;5;241m!=\u001b[39m\u001b[38;5;241m23\u001b[39m:\n\u001b[1;32m----> 2\u001b[0m     \u001b[38;5;28mprint\u001b[39m(Hello)\n",
      "\u001b[1;31mNameError\u001b[0m: name 'Hello' is not defined"
     ]
    }
   ],
   "source": [
    "if 2!=23:\n",
    "    print(Hello)"
   ]
  },
  {
   "cell_type": "code",
   "execution_count": 17,
   "id": "0fde20f9",
   "metadata": {},
   "outputs": [
    {
     "ename": "ModuleNotFoundError",
     "evalue": "No module named 'Requests'",
     "output_type": "error",
     "traceback": [
      "\u001b[1;31m---------------------------------------------------------------------------\u001b[0m",
      "\u001b[1;31mModuleNotFoundError\u001b[0m                       Traceback (most recent call last)",
      "Cell \u001b[1;32mIn[17], line 1\u001b[0m\n\u001b[1;32m----> 1\u001b[0m \u001b[38;5;28;01mimport\u001b[39;00m \u001b[38;5;21;01mRequests\u001b[39;00m \u001b[38;5;28;01mas\u001b[39;00m \u001b[38;5;21;01mr\u001b[39;00m\n",
      "\u001b[1;31mModuleNotFoundError\u001b[0m: No module named 'Requests'"
     ]
    }
   ],
   "source": [
    "import Requests as r"
   ]
  },
  {
   "cell_type": "code",
   "execution_count": 21,
   "id": "951d36a6",
   "metadata": {},
   "outputs": [
    {
     "ename": "ImportError",
     "evalue": "cannot import name 'pii' from 'math' (unknown location)",
     "output_type": "error",
     "traceback": [
      "\u001b[1;31m---------------------------------------------------------------------------\u001b[0m",
      "\u001b[1;31mImportError\u001b[0m                               Traceback (most recent call last)",
      "Cell \u001b[1;32mIn[21], line 1\u001b[0m\n\u001b[1;32m----> 1\u001b[0m \u001b[38;5;28;01mfrom\u001b[39;00m \u001b[38;5;21;01mmath\u001b[39;00m \u001b[38;5;28;01mimport\u001b[39;00m pii\n",
      "\u001b[1;31mImportError\u001b[0m: cannot import name 'pii' from 'math' (unknown location)"
     ]
    }
   ],
   "source": [
    "from math import pii"
   ]
  },
  {
   "cell_type": "code",
   "execution_count": 22,
   "id": "b135bf30",
   "metadata": {},
   "outputs": [
    {
     "data": {
      "text/plain": [
       "3.141592653589793"
      ]
     },
     "execution_count": 22,
     "metadata": {},
     "output_type": "execute_result"
    }
   ],
   "source": [
    "pi"
   ]
  },
  {
   "cell_type": "code",
   "execution_count": 25,
   "id": "53ff75f3",
   "metadata": {},
   "outputs": [
    {
     "ename": "FileNotFoundError",
     "evalue": "[Errno 2] No such file or directory: 'majid.tt'",
     "output_type": "error",
     "traceback": [
      "\u001b[1;31m---------------------------------------------------------------------------\u001b[0m",
      "\u001b[1;31mFileNotFoundError\u001b[0m                         Traceback (most recent call last)",
      "Cell \u001b[1;32mIn[25], line 1\u001b[0m\n\u001b[1;32m----> 1\u001b[0m \u001b[38;5;28mopen\u001b[39m(\u001b[38;5;124m'\u001b[39m\u001b[38;5;124mmajid.tt\u001b[39m\u001b[38;5;124m'\u001b[39m,\u001b[38;5;124m'\u001b[39m\u001b[38;5;124mr\u001b[39m\u001b[38;5;124m'\u001b[39m)\n",
      "File \u001b[1;32m~\\anaconda3\\Lib\\site-packages\\IPython\\core\\interactiveshell.py:310\u001b[0m, in \u001b[0;36m_modified_open\u001b[1;34m(file, *args, **kwargs)\u001b[0m\n\u001b[0;32m    303\u001b[0m \u001b[38;5;28;01mif\u001b[39;00m file \u001b[38;5;129;01min\u001b[39;00m {\u001b[38;5;241m0\u001b[39m, \u001b[38;5;241m1\u001b[39m, \u001b[38;5;241m2\u001b[39m}:\n\u001b[0;32m    304\u001b[0m     \u001b[38;5;28;01mraise\u001b[39;00m \u001b[38;5;167;01mValueError\u001b[39;00m(\n\u001b[0;32m    305\u001b[0m         \u001b[38;5;124mf\u001b[39m\u001b[38;5;124m\"\u001b[39m\u001b[38;5;124mIPython won\u001b[39m\u001b[38;5;124m'\u001b[39m\u001b[38;5;124mt let you open fd=\u001b[39m\u001b[38;5;132;01m{\u001b[39;00mfile\u001b[38;5;132;01m}\u001b[39;00m\u001b[38;5;124m by default \u001b[39m\u001b[38;5;124m\"\u001b[39m\n\u001b[0;32m    306\u001b[0m         \u001b[38;5;124m\"\u001b[39m\u001b[38;5;124mas it is likely to crash IPython. If you know what you are doing, \u001b[39m\u001b[38;5;124m\"\u001b[39m\n\u001b[0;32m    307\u001b[0m         \u001b[38;5;124m\"\u001b[39m\u001b[38;5;124myou can use builtins\u001b[39m\u001b[38;5;124m'\u001b[39m\u001b[38;5;124m open.\u001b[39m\u001b[38;5;124m\"\u001b[39m\n\u001b[0;32m    308\u001b[0m     )\n\u001b[1;32m--> 310\u001b[0m \u001b[38;5;28;01mreturn\u001b[39;00m io_open(file, \u001b[38;5;241m*\u001b[39margs, \u001b[38;5;241m*\u001b[39m\u001b[38;5;241m*\u001b[39mkwargs)\n",
      "\u001b[1;31mFileNotFoundError\u001b[0m: [Errno 2] No such file or directory: 'majid.tt'"
     ]
    }
   ],
   "source": [
    "open('majid.tt','r')"
   ]
  },
  {
   "cell_type": "code",
   "execution_count": 27,
   "id": "a116fb65",
   "metadata": {},
   "outputs": [
    {
     "ename": "ZeroDivisionError",
     "evalue": "division by zero",
     "output_type": "error",
     "traceback": [
      "\u001b[1;31m---------------------------------------------------------------------------\u001b[0m",
      "\u001b[1;31mZeroDivisionError\u001b[0m                         Traceback (most recent call last)",
      "Cell \u001b[1;32mIn[27], line 1\u001b[0m\n\u001b[1;32m----> 1\u001b[0m \u001b[38;5;28mprint\u001b[39m(\u001b[38;5;241m1765456\u001b[39m\u001b[38;5;241m/\u001b[39m\u001b[38;5;241m0\u001b[39m)\n",
      "\u001b[1;31mZeroDivisionError\u001b[0m: division by zero"
     ]
    }
   ],
   "source": [
    "print(1765456/0)"
   ]
  },
  {
   "cell_type": "code",
   "execution_count": 28,
   "id": "e4c739f0",
   "metadata": {},
   "outputs": [
    {
     "name": "stdout",
     "output_type": "stream",
     "text": [
      "Enter number\": g\n"
     ]
    },
    {
     "ename": "ValueError",
     "evalue": "invalid literal for int() with base 10: 'g'",
     "output_type": "error",
     "traceback": [
      "\u001b[1;31m---------------------------------------------------------------------------\u001b[0m",
      "\u001b[1;31mValueError\u001b[0m                                Traceback (most recent call last)",
      "Cell \u001b[1;32mIn[28], line 1\u001b[0m\n\u001b[1;32m----> 1\u001b[0m d \u001b[38;5;241m=\u001b[39m \u001b[38;5;28mint\u001b[39m(\u001b[38;5;28minput\u001b[39m(\u001b[38;5;124m'\u001b[39m\u001b[38;5;124mEnter number\u001b[39m\u001b[38;5;124m\"\u001b[39m\u001b[38;5;124m: \u001b[39m\u001b[38;5;124m'\u001b[39m))\n\u001b[0;32m      3\u001b[0m \u001b[38;5;28mprint\u001b[39m(d)\n",
      "\u001b[1;31mValueError\u001b[0m: invalid literal for int() with base 10: 'g'"
     ]
    }
   ],
   "source": [
    "d = int(input('Enter number\": '))\n",
    "\n",
    "print(d)"
   ]
  },
  {
   "cell_type": "code",
   "execution_count": 30,
   "id": "577ecc88",
   "metadata": {},
   "outputs": [
    {
     "ename": "ValueError",
     "evalue": "invalid literal for int() with base 10: '34.8'",
     "output_type": "error",
     "traceback": [
      "\u001b[1;31m---------------------------------------------------------------------------\u001b[0m",
      "\u001b[1;31mValueError\u001b[0m                                Traceback (most recent call last)",
      "Cell \u001b[1;32mIn[30], line 3\u001b[0m\n\u001b[0;32m      1\u001b[0m a \u001b[38;5;241m=\u001b[39m \u001b[38;5;124m'\u001b[39m\u001b[38;5;124m34.8\u001b[39m\u001b[38;5;124m'\u001b[39m\n\u001b[1;32m----> 3\u001b[0m \u001b[38;5;28mint\u001b[39m(a)\n",
      "\u001b[1;31mValueError\u001b[0m: invalid literal for int() with base 10: '34.8'"
     ]
    }
   ],
   "source": [
    "a = '34.8'\n",
    "\n",
    "int(a)"
   ]
  },
  {
   "cell_type": "code",
   "execution_count": 33,
   "id": "8ba9242e",
   "metadata": {},
   "outputs": [
    {
     "ename": "SyntaxError",
     "evalue": "(unicode error) 'unicodeescape' codec can't decode bytes in position 2-3: truncated \\UXXXXXXXX escape (3199637342.py, line 1)",
     "output_type": "error",
     "traceback": [
      "\u001b[1;36m  Cell \u001b[1;32mIn[33], line 1\u001b[1;36m\u001b[0m\n\u001b[1;33m    open(\"C:\\Users\\Lenovo\\Desktop\\kohli_image.jpg\")\u001b[0m\n\u001b[1;37m                                                  ^\u001b[0m\n\u001b[1;31mSyntaxError\u001b[0m\u001b[1;31m:\u001b[0m (unicode error) 'unicodeescape' codec can't decode bytes in position 2-3: truncated \\UXXXXXXXX escape\n"
     ]
    }
   ],
   "source": [
    "open(\"C:\\Users\\Lenovo\\Desktop\\kohli_image.jpg\")"
   ]
  },
  {
   "cell_type": "code",
   "execution_count": 35,
   "id": "dd55dee9",
   "metadata": {},
   "outputs": [
    {
     "ename": "ValueError",
     "evalue": "could not convert string to float: 'g'",
     "output_type": "error",
     "traceback": [
      "\u001b[1;31m---------------------------------------------------------------------------\u001b[0m",
      "\u001b[1;31mValueError\u001b[0m                                Traceback (most recent call last)",
      "Cell \u001b[1;32mIn[35], line 1\u001b[0m\n\u001b[1;32m----> 1\u001b[0m \u001b[38;5;28mfloat\u001b[39m(\u001b[38;5;124m'\u001b[39m\u001b[38;5;124mg\u001b[39m\u001b[38;5;124m'\u001b[39m)\n",
      "\u001b[1;31mValueError\u001b[0m: could not convert string to float: 'g'"
     ]
    }
   ],
   "source": [
    "float('g')"
   ]
  },
  {
   "cell_type": "code",
   "execution_count": 36,
   "id": "075ace7e",
   "metadata": {},
   "outputs": [],
   "source": [
    "def abc():\n",
    "    abc()"
   ]
  },
  {
   "cell_type": "code",
   "execution_count": 37,
   "id": "44b7ddcb",
   "metadata": {},
   "outputs": [
    {
     "ename": "RecursionError",
     "evalue": "maximum recursion depth exceeded",
     "output_type": "error",
     "traceback": [
      "\u001b[1;31m---------------------------------------------------------------------------\u001b[0m",
      "\u001b[1;31mRecursionError\u001b[0m                            Traceback (most recent call last)",
      "Cell \u001b[1;32mIn[37], line 1\u001b[0m\n\u001b[1;32m----> 1\u001b[0m abc()\n",
      "Cell \u001b[1;32mIn[36], line 2\u001b[0m, in \u001b[0;36mabc\u001b[1;34m()\u001b[0m\n\u001b[0;32m      1\u001b[0m \u001b[38;5;28;01mdef\u001b[39;00m \u001b[38;5;21mabc\u001b[39m():\n\u001b[1;32m----> 2\u001b[0m     abc()\n",
      "Cell \u001b[1;32mIn[36], line 2\u001b[0m, in \u001b[0;36mabc\u001b[1;34m()\u001b[0m\n\u001b[0;32m      1\u001b[0m \u001b[38;5;28;01mdef\u001b[39;00m \u001b[38;5;21mabc\u001b[39m():\n\u001b[1;32m----> 2\u001b[0m     abc()\n",
      "    \u001b[1;31m[... skipping similar frames: abc at line 2 (2971 times)]\u001b[0m\n",
      "Cell \u001b[1;32mIn[36], line 2\u001b[0m, in \u001b[0;36mabc\u001b[1;34m()\u001b[0m\n\u001b[0;32m      1\u001b[0m \u001b[38;5;28;01mdef\u001b[39;00m \u001b[38;5;21mabc\u001b[39m():\n\u001b[1;32m----> 2\u001b[0m     abc()\n",
      "\u001b[1;31mRecursionError\u001b[0m: maximum recursion depth exceeded"
     ]
    }
   ],
   "source": [
    "abc()"
   ]
  },
  {
   "cell_type": "code",
   "execution_count": 38,
   "id": "9f6ac48e",
   "metadata": {},
   "outputs": [
    {
     "ename": "MemoryError",
     "evalue": "",
     "output_type": "error",
     "traceback": [
      "\u001b[1;31m---------------------------------------------------------------------------\u001b[0m",
      "\u001b[1;31mMemoryError\u001b[0m                               Traceback (most recent call last)",
      "Cell \u001b[1;32mIn[38], line 1\u001b[0m\n\u001b[1;32m----> 1\u001b[0m d \u001b[38;5;241m=\u001b[39m [i \u001b[38;5;28;01mfor\u001b[39;00m i \u001b[38;5;129;01min\u001b[39;00m \u001b[38;5;28mrange\u001b[39m(\u001b[38;5;241m345678654567654567876545678976543\u001b[39m)]\n",
      "Cell \u001b[1;32mIn[38], line 1\u001b[0m, in \u001b[0;36m<listcomp>\u001b[1;34m(.0)\u001b[0m\n\u001b[1;32m----> 1\u001b[0m d \u001b[38;5;241m=\u001b[39m [i \u001b[38;5;28;01mfor\u001b[39;00m i \u001b[38;5;129;01min\u001b[39;00m \u001b[38;5;28mrange\u001b[39m(\u001b[38;5;241m345678654567654567876545678976543\u001b[39m)]\n",
      "\u001b[1;31mMemoryError\u001b[0m: "
     ]
    }
   ],
   "source": [
    "d = [i for i in range(345678654567654567876545678976543)]"
   ]
  },
  {
   "cell_type": "code",
   "execution_count": null,
   "id": "ba867a93",
   "metadata": {},
   "outputs": [],
   "source": []
  },
  {
   "cell_type": "code",
   "execution_count": 40,
   "id": "c35651c0",
   "metadata": {},
   "outputs": [
    {
     "name": "stdout",
     "output_type": "stream",
     "text": [
      "['ArithmeticError', 'AssertionError', 'AttributeError', 'BaseException', 'BaseExceptionGroup', 'BlockingIOError', 'BrokenPipeError', 'BufferError', 'BytesWarning', 'ChildProcessError', 'ConnectionAbortedError', 'ConnectionError', 'ConnectionRefusedError', 'ConnectionResetError', 'DeprecationWarning', 'EOFError', 'Ellipsis', 'EncodingWarning', 'EnvironmentError', 'Exception', 'ExceptionGroup', 'False', 'FileExistsError', 'FileNotFoundError', 'FloatingPointError', 'FutureWarning', 'GeneratorExit', 'IOError', 'ImportError', 'ImportWarning', 'IndentationError', 'IndexError', 'InterruptedError', 'IsADirectoryError', 'KeyError', 'KeyboardInterrupt', 'LookupError', 'MemoryError', 'ModuleNotFoundError', 'NameError', 'None', 'NotADirectoryError', 'NotImplemented', 'NotImplementedError', 'OSError', 'OverflowError', 'PendingDeprecationWarning', 'PermissionError', 'ProcessLookupError', 'RecursionError', 'ReferenceError', 'ResourceWarning', 'RuntimeError', 'RuntimeWarning', 'StopAsyncIteration', 'StopIteration', 'SyntaxError', 'SyntaxWarning', 'SystemError', 'SystemExit', 'TabError', 'TimeoutError', 'True', 'TypeError', 'UnboundLocalError', 'UnicodeDecodeError', 'UnicodeEncodeError', 'UnicodeError', 'UnicodeTranslateError', 'UnicodeWarning', 'UserWarning', 'ValueError', 'Warning', 'WindowsError', 'ZeroDivisionError', '__IPYTHON__', '__build_class__', '__debug__', '__doc__', '__import__', '__loader__', '__name__', '__package__', '__spec__', 'abs', 'aiter', 'all', 'anext', 'any', 'ascii', 'bin', 'bool', 'breakpoint', 'bytearray', 'bytes', 'callable', 'chr', 'classmethod', 'compile', 'complex', 'copyright', 'credits', 'delattr', 'dict', 'dir', 'display', 'divmod', 'enumerate', 'eval', 'exec', 'execfile', 'filter', 'float', 'format', 'frozenset', 'get_ipython', 'getattr', 'globals', 'hasattr', 'hash', 'help', 'hex', 'id', 'input', 'int', 'isinstance', 'issubclass', 'iter', 'len', 'license', 'list', 'locals', 'map', 'max', 'memoryview', 'min', 'next', 'object', 'oct', 'open', 'ord', 'pow', 'print', 'property', 'range', 'repr', 'reversed', 'round', 'runfile', 'set', 'setattr', 'slice', 'sorted', 'staticmethod', 'str', 'sum', 'super', 'tuple', 'type', 'vars', 'zip']\n"
     ]
    }
   ],
   "source": [
    "print(dir(__builtins__))"
   ]
  },
  {
   "cell_type": "code",
   "execution_count": 41,
   "id": "b32f18b4",
   "metadata": {},
   "outputs": [
    {
     "ename": "FileExistsError",
     "evalue": "[Errno 17] File exists: 'ezra_class.py'",
     "output_type": "error",
     "traceback": [
      "\u001b[1;31m---------------------------------------------------------------------------\u001b[0m",
      "\u001b[1;31mFileExistsError\u001b[0m                           Traceback (most recent call last)",
      "Cell \u001b[1;32mIn[41], line 1\u001b[0m\n\u001b[1;32m----> 1\u001b[0m \u001b[38;5;28mopen\u001b[39m(\u001b[38;5;124m'\u001b[39m\u001b[38;5;124mezra_class.py\u001b[39m\u001b[38;5;124m'\u001b[39m,\u001b[38;5;124m'\u001b[39m\u001b[38;5;124mx\u001b[39m\u001b[38;5;124m'\u001b[39m)\n",
      "File \u001b[1;32m~\\anaconda3\\Lib\\site-packages\\IPython\\core\\interactiveshell.py:310\u001b[0m, in \u001b[0;36m_modified_open\u001b[1;34m(file, *args, **kwargs)\u001b[0m\n\u001b[0;32m    303\u001b[0m \u001b[38;5;28;01mif\u001b[39;00m file \u001b[38;5;129;01min\u001b[39;00m {\u001b[38;5;241m0\u001b[39m, \u001b[38;5;241m1\u001b[39m, \u001b[38;5;241m2\u001b[39m}:\n\u001b[0;32m    304\u001b[0m     \u001b[38;5;28;01mraise\u001b[39;00m \u001b[38;5;167;01mValueError\u001b[39;00m(\n\u001b[0;32m    305\u001b[0m         \u001b[38;5;124mf\u001b[39m\u001b[38;5;124m\"\u001b[39m\u001b[38;5;124mIPython won\u001b[39m\u001b[38;5;124m'\u001b[39m\u001b[38;5;124mt let you open fd=\u001b[39m\u001b[38;5;132;01m{\u001b[39;00mfile\u001b[38;5;132;01m}\u001b[39;00m\u001b[38;5;124m by default \u001b[39m\u001b[38;5;124m\"\u001b[39m\n\u001b[0;32m    306\u001b[0m         \u001b[38;5;124m\"\u001b[39m\u001b[38;5;124mas it is likely to crash IPython. If you know what you are doing, \u001b[39m\u001b[38;5;124m\"\u001b[39m\n\u001b[0;32m    307\u001b[0m         \u001b[38;5;124m\"\u001b[39m\u001b[38;5;124myou can use builtins\u001b[39m\u001b[38;5;124m'\u001b[39m\u001b[38;5;124m open.\u001b[39m\u001b[38;5;124m\"\u001b[39m\n\u001b[0;32m    308\u001b[0m     )\n\u001b[1;32m--> 310\u001b[0m \u001b[38;5;28;01mreturn\u001b[39;00m io_open(file, \u001b[38;5;241m*\u001b[39margs, \u001b[38;5;241m*\u001b[39m\u001b[38;5;241m*\u001b[39mkwargs)\n",
      "\u001b[1;31mFileExistsError\u001b[0m: [Errno 17] File exists: 'ezra_class.py'"
     ]
    }
   ],
   "source": [
    "open('ezra_class.py','x')"
   ]
  },
  {
   "cell_type": "code",
   "execution_count": 42,
   "id": "a8d69e46",
   "metadata": {},
   "outputs": [],
   "source": [
    "data = {'name':'aman'}"
   ]
  },
  {
   "cell_type": "code",
   "execution_count": 43,
   "id": "43e27be3",
   "metadata": {},
   "outputs": [
    {
     "ename": "KeyError",
     "evalue": "'class'",
     "output_type": "error",
     "traceback": [
      "\u001b[1;31m---------------------------------------------------------------------------\u001b[0m",
      "\u001b[1;31mKeyError\u001b[0m                                  Traceback (most recent call last)",
      "Cell \u001b[1;32mIn[43], line 1\u001b[0m\n\u001b[1;32m----> 1\u001b[0m data[\u001b[38;5;124m'\u001b[39m\u001b[38;5;124mclass\u001b[39m\u001b[38;5;124m'\u001b[39m]\n",
      "\u001b[1;31mKeyError\u001b[0m: 'class'"
     ]
    }
   ],
   "source": [
    "data['class']"
   ]
  },
  {
   "cell_type": "code",
   "execution_count": 44,
   "id": "abe539ea",
   "metadata": {},
   "outputs": [
    {
     "name": "stdout",
     "output_type": "stream",
     "text": [
      "hello World\n",
      "we are learning Python\n"
     ]
    },
    {
     "ename": "ZeroDivisionError",
     "evalue": "division by zero",
     "output_type": "error",
     "traceback": [
      "\u001b[1;31m---------------------------------------------------------------------------\u001b[0m",
      "\u001b[1;31mZeroDivisionError\u001b[0m                         Traceback (most recent call last)",
      "Cell \u001b[1;32mIn[44], line 5\u001b[0m\n\u001b[0;32m      1\u001b[0m \u001b[38;5;28mprint\u001b[39m(\u001b[38;5;124m'\u001b[39m\u001b[38;5;124mhello World\u001b[39m\u001b[38;5;124m'\u001b[39m)\n\u001b[0;32m      3\u001b[0m \u001b[38;5;28mprint\u001b[39m(\u001b[38;5;124m'\u001b[39m\u001b[38;5;124mwe are learning Python\u001b[39m\u001b[38;5;124m'\u001b[39m)\n\u001b[1;32m----> 5\u001b[0m \u001b[38;5;28mprint\u001b[39m(\u001b[38;5;241m1\u001b[39m\u001b[38;5;241m/\u001b[39m\u001b[38;5;241m0\u001b[39m)\n\u001b[0;32m      7\u001b[0m \u001b[38;5;28mprint\u001b[39m(\u001b[38;5;124m'\u001b[39m\u001b[38;5;124mPython\u001b[39m\u001b[38;5;130;01m\\n\u001b[39;00m\u001b[38;5;124m'\u001b[39m\u001b[38;5;241m*\u001b[39m\u001b[38;5;241m5\u001b[39m)\n\u001b[0;32m      8\u001b[0m \u001b[38;5;28;01mfor\u001b[39;00m i \u001b[38;5;129;01min\u001b[39;00m \u001b[38;5;28mrange\u001b[39m(\u001b[38;5;241m5\u001b[39m):\n",
      "\u001b[1;31mZeroDivisionError\u001b[0m: division by zero"
     ]
    }
   ],
   "source": [
    "print('hello World')\n",
    "\n",
    "print('we are learning Python')\n",
    "\n",
    "print(1/0)\n",
    "\n",
    "print('Python\\n'*5)\n",
    "for i in range(5):\n",
    "    print(i)"
   ]
  },
  {
   "cell_type": "code",
   "execution_count": 46,
   "id": "7b9f7e36",
   "metadata": {},
   "outputs": [
    {
     "name": "stdout",
     "output_type": "stream",
     "text": [
      "hello World\n",
      "we are learning Python\n",
      "Python\n",
      "Python\n",
      "Python\n",
      "Python\n",
      "Python\n",
      "\n",
      "0\n",
      "1\n",
      "2\n",
      "3\n",
      "4\n"
     ]
    }
   ],
   "source": [
    "print('hello World')\n",
    "\n",
    "print('we are learning Python')\n",
    "\n",
    "try:\n",
    "    print(1/0)\n",
    "\n",
    "except:\n",
    "    print('Python\\n'*5)\n",
    "    for i in range(5):\n",
    "        print(i)"
   ]
  },
  {
   "cell_type": "code",
   "execution_count": 50,
   "id": "d6a89e02",
   "metadata": {},
   "outputs": [
    {
     "name": "stdout",
     "output_type": "stream",
     "text": [
      "Something went wrong!!\n",
      "Python is Awesome\n"
     ]
    }
   ],
   "source": [
    "try:\n",
    "    print(world)\n",
    "except:\n",
    "    print('Something went wrong!!')\n",
    "\n",
    "print('Python is Awesome')"
   ]
  },
  {
   "cell_type": "code",
   "execution_count": null,
   "id": "58d7618b",
   "metadata": {},
   "outputs": [],
   "source": []
  },
  {
   "cell_type": "code",
   "execution_count": 51,
   "id": "c59e1964",
   "metadata": {},
   "outputs": [
    {
     "name": "stdout",
     "output_type": "stream",
     "text": [
      "Hello World\n",
      "Python is Awesome\n"
     ]
    }
   ],
   "source": [
    "try:\n",
    "    print('Hello World')\n",
    "    \n",
    "except:\n",
    "    print('Something went wrong!!')\n",
    "\n",
    "print('Python is Awesome')"
   ]
  },
  {
   "cell_type": "code",
   "execution_count": null,
   "id": "b609f877",
   "metadata": {},
   "outputs": [],
   "source": []
  },
  {
   "cell_type": "code",
   "execution_count": null,
   "id": "dd55b5b0",
   "metadata": {},
   "outputs": [],
   "source": []
  },
  {
   "cell_type": "code",
   "execution_count": 53,
   "id": "0f8a5ef0",
   "metadata": {},
   "outputs": [
    {
     "name": "stdout",
     "output_type": "stream",
     "text": [
      "Something went wrong!!\n",
      "Python is Awesome\n"
     ]
    }
   ],
   "source": [
    "try:\n",
    "    print(1/0)\n",
    "    print('Hello World')\n",
    "    \n",
    "    \n",
    "except:\n",
    "    print('Something went wrong!!')\n",
    "\n",
    "print('Python is Awesome')"
   ]
  },
  {
   "cell_type": "code",
   "execution_count": null,
   "id": "e97f9278",
   "metadata": {},
   "outputs": [],
   "source": []
  },
  {
   "cell_type": "code",
   "execution_count": null,
   "id": "e00fcf5e",
   "metadata": {},
   "outputs": [],
   "source": []
  },
  {
   "cell_type": "code",
   "execution_count": 60,
   "id": "2fac4845",
   "metadata": {},
   "outputs": [
    {
     "name": "stdout",
     "output_type": "stream",
     "text": [
      "Something went wrong!! division by zero\n",
      "Python is Awesome\n"
     ]
    }
   ],
   "source": [
    "try:\n",
    "    print(1/0)\n",
    "    print('Hello World')\n",
    "    \n",
    "    \n",
    "except Exception as err:\n",
    "    print('Something went wrong!!',err)\n",
    "\n",
    "print('Python is Awesome')"
   ]
  },
  {
   "cell_type": "code",
   "execution_count": null,
   "id": "af9595ab",
   "metadata": {},
   "outputs": [],
   "source": []
  },
  {
   "cell_type": "code",
   "execution_count": null,
   "id": "f67103ef",
   "metadata": {},
   "outputs": [],
   "source": []
  },
  {
   "cell_type": "code",
   "execution_count": 61,
   "id": "d14a0f77",
   "metadata": {},
   "outputs": [
    {
     "name": "stdout",
     "output_type": "stream",
     "text": [
      "Wrong list index out of range\n"
     ]
    }
   ],
   "source": [
    "try:\n",
    "    a = [1,234,5,5]\n",
    "    print(a[10])\n",
    "    \n",
    "except Exception as e:\n",
    "    print('Wrong!!',e)\n",
    "    \n",
    "else:\n",
    "    print('This will only run when try all code run successfully!!')"
   ]
  },
  {
   "cell_type": "code",
   "execution_count": null,
   "id": "3867635a",
   "metadata": {},
   "outputs": [],
   "source": []
  },
  {
   "cell_type": "code",
   "execution_count": null,
   "id": "2961c29b",
   "metadata": {},
   "outputs": [],
   "source": []
  },
  {
   "cell_type": "code",
   "execution_count": 64,
   "id": "897f802c",
   "metadata": {},
   "outputs": [
    {
     "name": "stdout",
     "output_type": "stream",
     "text": [
      "Element is:  234\n",
      "This will only run when try all code run successfully!!\n"
     ]
    }
   ],
   "source": [
    "try:\n",
    "    a = [1,234,5,5]\n",
    "    print('Element is: ',a[1])\n",
    "    \n",
    "except Exception as e:\n",
    "    print('Wrong!!',e)\n",
    "    \n",
    "else:\n",
    "    print('This will only run when try all code run successfully!!')"
   ]
  },
  {
   "cell_type": "code",
   "execution_count": null,
   "id": "d0124c4f",
   "metadata": {},
   "outputs": [],
   "source": []
  },
  {
   "cell_type": "code",
   "execution_count": null,
   "id": "788fbdc4",
   "metadata": {},
   "outputs": [],
   "source": []
  },
  {
   "cell_type": "code",
   "execution_count": 65,
   "id": "0c615e31",
   "metadata": {},
   "outputs": [
    {
     "name": "stdout",
     "output_type": "stream",
     "text": [
      "Element is:  234\n",
      "Wrong!! 'address'\n"
     ]
    }
   ],
   "source": [
    "try:\n",
    "    a = [1,234,5,5]\n",
    "    print('Element is: ',a[1])\n",
    "    \n",
    "    data = {'class':3,'age':23}\n",
    "    \n",
    "    print(data['address'])\n",
    "    \n",
    "except Exception as e:\n",
    "    print('Wrong!!',e)\n",
    "    \n",
    "else:\n",
    "    print('Else block will only run when try all code run successfully!!')"
   ]
  },
  {
   "cell_type": "code",
   "execution_count": null,
   "id": "d5369883",
   "metadata": {},
   "outputs": [],
   "source": []
  },
  {
   "cell_type": "code",
   "execution_count": null,
   "id": "faa89037",
   "metadata": {},
   "outputs": [],
   "source": []
  },
  {
   "cell_type": "code",
   "execution_count": 68,
   "id": "ee59645e",
   "metadata": {},
   "outputs": [
    {
     "name": "stdout",
     "output_type": "stream",
     "text": [
      "Element is:  234\n",
      "Wrong!! 'address'\n",
      "ye chalega hi chalega!!\n"
     ]
    }
   ],
   "source": [
    "try:\n",
    "    a = [1,234,5,5]\n",
    "    print('Element is: ',a[1])\n",
    "    \n",
    "    data = {'class':3,'age':23}\n",
    "    \n",
    "    print(data['address'])\n",
    "    \n",
    "except Exception as e:\n",
    "    print('Wrong!!',e)\n",
    "    \n",
    "else:\n",
    "    print('Else block will only run when try all code run successfully!!')\n",
    "    \n",
    "finally:\n",
    "    print('ye chalega hi chalega!!')"
   ]
  },
  {
   "cell_type": "code",
   "execution_count": null,
   "id": "dd5af8de",
   "metadata": {},
   "outputs": [],
   "source": []
  },
  {
   "cell_type": "code",
   "execution_count": null,
   "id": "f92f07c9",
   "metadata": {},
   "outputs": [],
   "source": []
  },
  {
   "cell_type": "code",
   "execution_count": 69,
   "id": "07ce716c",
   "metadata": {},
   "outputs": [],
   "source": [
    "try:\n",
    "    \n",
    "    print('Write code that you want to try')\n",
    "    \n",
    "except:\n",
    "    print('This will run when try fails!!')\n",
    "\n",
    "else:\n",
    "    print('Else block will only run when try all code run successfully!!')\n",
    "    \n",
    "finally:\n",
    "    print('ye chalega hi chalega!!')    "
   ]
  },
  {
   "cell_type": "code",
   "execution_count": null,
   "id": "4ab634a6",
   "metadata": {},
   "outputs": [],
   "source": []
  },
  {
   "cell_type": "code",
   "execution_count": null,
   "id": "2128985e",
   "metadata": {},
   "outputs": [],
   "source": []
  },
  {
   "cell_type": "code",
   "execution_count": 70,
   "id": "0bdeb026",
   "metadata": {},
   "outputs": [],
   "source": [
    "# try:\n",
    "#     try:\n",
    "#         pass\n",
    "#     except:\n",
    "#         pass\n",
    "    \n",
    "# except:\n",
    "#     try:\n",
    "#         pass\n",
    "#     except:\n",
    "#         pass\n",
    "#     else:\n",
    "#         pass\n",
    "#     finally:\n",
    "#         try:\n",
    "#             pass\n",
    "#         except:\n",
    "#             pass\n",
    "#         else:\n",
    "#             try:\n",
    "#                 pass\n",
    "#             except:\n",
    "#                 pass\n",
    "# else:\n",
    "#     pass\n",
    "# finally:\n",
    "#     pass"
   ]
  },
  {
   "cell_type": "code",
   "execution_count": null,
   "id": "b78cdddb",
   "metadata": {},
   "outputs": [],
   "source": []
  },
  {
   "cell_type": "code",
   "execution_count": null,
   "id": "8091e8df",
   "metadata": {},
   "outputs": [],
   "source": []
  },
  {
   "cell_type": "code",
   "execution_count": 72,
   "id": "cc8c0149",
   "metadata": {},
   "outputs": [
    {
     "name": "stdout",
     "output_type": "stream",
     "text": [
      "Write code that you want to try\n",
      "ye chalega hi chalega!!\n"
     ]
    }
   ],
   "source": [
    "try:\n",
    "    print('Write code that you want to try')\n",
    "\n",
    "    \n",
    "finally:\n",
    "    print('ye chalega hi chalega!!')    "
   ]
  },
  {
   "cell_type": "code",
   "execution_count": null,
   "id": "de4c204c",
   "metadata": {},
   "outputs": [],
   "source": []
  },
  {
   "cell_type": "code",
   "execution_count": null,
   "id": "f4399803",
   "metadata": {},
   "outputs": [],
   "source": []
  },
  {
   "cell_type": "code",
   "execution_count": 73,
   "id": "91d83154",
   "metadata": {},
   "outputs": [],
   "source": [
    "# concept of try with specific error"
   ]
  },
  {
   "cell_type": "code",
   "execution_count": 74,
   "id": "1c4c9847",
   "metadata": {},
   "outputs": [
    {
     "name": "stdout",
     "output_type": "stream",
     "text": [
      "division by zero\n"
     ]
    }
   ],
   "source": [
    "try:\n",
    "    print(1/0)\n",
    "    \n",
    "except Exception as e:\n",
    "    print(e)"
   ]
  },
  {
   "cell_type": "code",
   "execution_count": null,
   "id": "1723604d",
   "metadata": {},
   "outputs": [],
   "source": []
  },
  {
   "cell_type": "code",
   "execution_count": 89,
   "id": "784d3660",
   "metadata": {},
   "outputs": [
    {
     "name": "stdout",
     "output_type": "stream",
     "text": [
      "invalid literal for int() with base 10: '78.8'\n"
     ]
    }
   ],
   "source": [
    "try:\n",
    "#     print(1/0)\n",
    "#     print(karan)\n",
    "    data = {'name':'aman'}\n",
    "#     data['age']\n",
    "    print(int('78.8'))\n",
    "    \n",
    "except ZeroDivisionError:\n",
    "    print('ki bhai kisi bhi number ko zero se divide nahi kar sakte dhang se likh!!')\n",
    "    \n",
    "except NameError:\n",
    "    print('Aapne wo variable call kiya hai  jo abhi banaya bhi nahi hai')\n",
    "    \n",
    "except KeyError:\n",
    "    print('aapne galat key likh diya hai dict ka!!')\n",
    "    \n",
    "except Exception as e:\n",
    "    print(e)"
   ]
  },
  {
   "cell_type": "code",
   "execution_count": 86,
   "id": "045bf19d",
   "metadata": {},
   "outputs": [],
   "source": [
    "# print(dir(__builtin__))"
   ]
  },
  {
   "cell_type": "code",
   "execution_count": null,
   "id": "5d359bf8",
   "metadata": {},
   "outputs": [],
   "source": []
  },
  {
   "cell_type": "code",
   "execution_count": null,
   "id": "43b7ae47",
   "metadata": {},
   "outputs": [],
   "source": []
  },
  {
   "cell_type": "code",
   "execution_count": 90,
   "id": "728db476",
   "metadata": {},
   "outputs": [],
   "source": [
    "# Raise Exception(Error)"
   ]
  },
  {
   "cell_type": "code",
   "execution_count": 98,
   "id": "c2640f65",
   "metadata": {},
   "outputs": [
    {
     "ename": "Exception",
     "evalue": "Error Error Error Error Error ",
     "output_type": "error",
     "traceback": [
      "\u001b[1;31m---------------------------------------------------------------------------\u001b[0m",
      "\u001b[1;31mException\u001b[0m                                 Traceback (most recent call last)",
      "Cell \u001b[1;32mIn[98], line 7\u001b[0m\n\u001b[0;32m      4\u001b[0m     \u001b[38;5;28mprint\u001b[39m(\u001b[38;5;124m'\u001b[39m\u001b[38;5;124mSuccess\u001b[39m\u001b[38;5;124m'\u001b[39m)\n\u001b[0;32m      6\u001b[0m \u001b[38;5;28;01melse\u001b[39;00m:\n\u001b[1;32m----> 7\u001b[0m     \u001b[38;5;28;01mraise\u001b[39;00m \u001b[38;5;167;01mException\u001b[39;00m(\u001b[38;5;124m'\u001b[39m\u001b[38;5;124mError \u001b[39m\u001b[38;5;124m'\u001b[39m\u001b[38;5;241m*\u001b[39m\u001b[38;5;241m5\u001b[39m)\n\u001b[0;32m      9\u001b[0m \u001b[38;5;28mprint\u001b[39m(\u001b[38;5;124m'\u001b[39m\u001b[38;5;124mWelcome\u001b[39m\u001b[38;5;124m'\u001b[39m)\n",
      "\u001b[1;31mException\u001b[0m: Error Error Error Error Error "
     ]
    }
   ],
   "source": [
    "pwd = 1110\n",
    "\n",
    "if pwd == 1111:\n",
    "    print('Success')\n",
    "    \n",
    "else:\n",
    "    raise Exception('Error '*5)\n",
    "    \n",
    "print('Welcome')"
   ]
  },
  {
   "cell_type": "code",
   "execution_count": 96,
   "id": "5d2efaab",
   "metadata": {},
   "outputs": [
    {
     "name": "stdout",
     "output_type": "stream",
     "text": [
      "Error Error Error Error Error \n",
      "Welcome\n"
     ]
    }
   ],
   "source": [
    "pwd = 1110\n",
    "\n",
    "if pwd == 1111:\n",
    "    print('Success')\n",
    "    \n",
    "else:\n",
    "    print('Error '*5)\n",
    "    \n",
    "print('Welcome')"
   ]
  },
  {
   "cell_type": "code",
   "execution_count": null,
   "id": "739e13a0",
   "metadata": {},
   "outputs": [],
   "source": []
  },
  {
   "cell_type": "code",
   "execution_count": null,
   "id": "f8365d22",
   "metadata": {},
   "outputs": [],
   "source": []
  },
  {
   "cell_type": "code",
   "execution_count": 99,
   "id": "48cc6f96",
   "metadata": {},
   "outputs": [],
   "source": [
    "# naamkaran error"
   ]
  },
  {
   "cell_type": "code",
   "execution_count": 102,
   "id": "59303edc",
   "metadata": {},
   "outputs": [],
   "source": [
    "# oops\n",
    "\n",
    "class Sandeep_bhai_ka_25_tola_error(Exception):\n",
    "    pass"
   ]
  },
  {
   "cell_type": "code",
   "execution_count": null,
   "id": "746d9a5e",
   "metadata": {},
   "outputs": [],
   "source": []
  },
  {
   "cell_type": "code",
   "execution_count": 103,
   "id": "aa12e3bc",
   "metadata": {},
   "outputs": [
    {
     "ename": "Sandeep_bhai_ka_25_tola_error",
     "evalue": "25 Tola!!",
     "output_type": "error",
     "traceback": [
      "\u001b[1;31m---------------------------------------------------------------------------\u001b[0m",
      "\u001b[1;31mSandeep_bhai_ka_25_tola_error\u001b[0m             Traceback (most recent call last)",
      "Cell \u001b[1;32mIn[103], line 7\u001b[0m\n\u001b[0;32m      4\u001b[0m     \u001b[38;5;28mprint\u001b[39m(\u001b[38;5;124m'\u001b[39m\u001b[38;5;124mSuccess\u001b[39m\u001b[38;5;124m'\u001b[39m)\n\u001b[0;32m      6\u001b[0m \u001b[38;5;28;01melse\u001b[39;00m:\n\u001b[1;32m----> 7\u001b[0m     \u001b[38;5;28;01mraise\u001b[39;00m Sandeep_bhai_ka_25_tola_error(\u001b[38;5;124m'\u001b[39m\u001b[38;5;124m25 Tola!!\u001b[39m\u001b[38;5;124m'\u001b[39m)\n\u001b[0;32m      9\u001b[0m \u001b[38;5;28mprint\u001b[39m(\u001b[38;5;124m'\u001b[39m\u001b[38;5;124mWelcome\u001b[39m\u001b[38;5;124m'\u001b[39m)\n",
      "\u001b[1;31mSandeep_bhai_ka_25_tola_error\u001b[0m: 25 Tola!!"
     ]
    }
   ],
   "source": [
    "pwd = 1110\n",
    "\n",
    "if pwd == 1111:\n",
    "    print('Success')\n",
    "    \n",
    "else:\n",
    "    raise Sandeep_bhai_ka_25_tola_error('25 Tola!!')\n",
    "    \n",
    "print('Welcome')"
   ]
  },
  {
   "cell_type": "code",
   "execution_count": 105,
   "id": "a9dd805d",
   "metadata": {},
   "outputs": [],
   "source": [
    "class My_error(Exception):\n",
    "    pass"
   ]
  },
  {
   "cell_type": "code",
   "execution_count": 107,
   "id": "64d2fe33",
   "metadata": {},
   "outputs": [
    {
     "ename": "My_error",
     "evalue": "Message!!",
     "output_type": "error",
     "traceback": [
      "\u001b[1;31m---------------------------------------------------------------------------\u001b[0m",
      "\u001b[1;31mMy_error\u001b[0m                                  Traceback (most recent call last)",
      "Cell \u001b[1;32mIn[107], line 7\u001b[0m\n\u001b[0;32m      4\u001b[0m     \u001b[38;5;28mprint\u001b[39m(\u001b[38;5;124m'\u001b[39m\u001b[38;5;124mSuccess\u001b[39m\u001b[38;5;124m'\u001b[39m)\n\u001b[0;32m      6\u001b[0m \u001b[38;5;28;01melse\u001b[39;00m:\n\u001b[1;32m----> 7\u001b[0m     \u001b[38;5;28;01mraise\u001b[39;00m My_error(\u001b[38;5;124m'\u001b[39m\u001b[38;5;124mMessage!!\u001b[39m\u001b[38;5;124m'\u001b[39m)\n\u001b[0;32m      9\u001b[0m \u001b[38;5;28mprint\u001b[39m(\u001b[38;5;124m'\u001b[39m\u001b[38;5;124mWelcome\u001b[39m\u001b[38;5;124m'\u001b[39m)\n",
      "\u001b[1;31mMy_error\u001b[0m: Message!!"
     ]
    }
   ],
   "source": [
    "pwd = 1110\n",
    "\n",
    "if pwd == 1111:\n",
    "    print('Success')\n",
    "    \n",
    "else:\n",
    "    raise My_error('Message!!')\n",
    "    \n",
    "print('Welcome')"
   ]
  },
  {
   "cell_type": "code",
   "execution_count": null,
   "id": "b134f682",
   "metadata": {},
   "outputs": [],
   "source": []
  },
  {
   "cell_type": "code",
   "execution_count": null,
   "id": "a8fc7e00",
   "metadata": {},
   "outputs": [],
   "source": []
  },
  {
   "cell_type": "code",
   "execution_count": null,
   "id": "6b9c40ac",
   "metadata": {},
   "outputs": [],
   "source": []
  },
  {
   "cell_type": "code",
   "execution_count": 111,
   "id": "0d5b8159",
   "metadata": {},
   "outputs": [
    {
     "name": "stdout",
     "output_type": "stream",
     "text": [
      "25 Tola Error!!\n"
     ]
    }
   ],
   "source": [
    "pwd = 1110\n",
    "   \n",
    "try:\n",
    "    if pwd == 1111:\n",
    "        print('Success')\n",
    "        \n",
    "    else:\n",
    "        raise Sandeep_bhai_ka_25_tola_error('25 Tola Error!!')\n",
    "        \n",
    "except Exception as e:\n",
    "    print(e)\n",
    "    \n",
    "    \n",
    "# print('Welcome')"
   ]
  },
  {
   "cell_type": "code",
   "execution_count": null,
   "id": "ef9cd5c1",
   "metadata": {},
   "outputs": [],
   "source": []
  },
  {
   "cell_type": "code",
   "execution_count": null,
   "id": "4deaabbf",
   "metadata": {},
   "outputs": [],
   "source": []
  },
  {
   "cell_type": "code",
   "execution_count": null,
   "id": "052e5624",
   "metadata": {},
   "outputs": [],
   "source": []
  },
  {
   "cell_type": "code",
   "execution_count": 125,
   "id": "29125646",
   "metadata": {},
   "outputs": [
    {
     "name": "stdout",
     "output_type": "stream",
     "text": [
      "Image dowloaded successfully!!\n"
     ]
    },
    {
     "data": {
      "image/jpeg": "[encoded data removed]",
      "text/plain": [
       "<IPython.core.display.Image object>"
      ]
     },
     "metadata": {
      "image/jpeg": {
       "height": 100,
       "width": 100
      }
     },
     "output_type": "display_data"
    }
   ],
   "source": [
    "try:\n",
    "    import requests as r\n",
    "\n",
    "    url = '''https://img1.hscicdn.com/image/upload/f_auto,t_ds_wide_w_960,q_50/lsci/db/PICTURES/CMS/384000/384057.6.jpg'''\n",
    "\n",
    "    response = r.get(url)\n",
    "\n",
    "    data = response.content\n",
    "    \n",
    "    if len(data)>0:\n",
    "        with open('t20_win.jpg','wb') as f:\n",
    "            f.write(data)\n",
    "            \n",
    "    else:\n",
    "        raise Exception('Error with try block!!')\n",
    "\n",
    "except Exception as e:\n",
    "    print('Something went wrong!!',e)\n",
    "    \n",
    "else:\n",
    "    print('Image dowloaded successfully!!')\n",
    "    display(IPython.display.Image('t20_win.jpg',width=100,height=100))\n",
    "    "
   ]
  },
  {
   "cell_type": "code",
   "execution_count": null,
   "id": "e18dbe09",
   "metadata": {},
   "outputs": [],
   "source": []
  },
  {
   "cell_type": "code",
   "execution_count": null,
   "id": "c6bf9440",
   "metadata": {},
   "outputs": [],
   "source": []
  },
  {
   "cell_type": "code",
   "execution_count": null,
   "id": "111a6292",
   "metadata": {},
   "outputs": [],
   "source": []
  },
  {
   "cell_type": "code",
   "execution_count": null,
   "id": "f1bce24a",
   "metadata": {},
   "outputs": [],
   "source": []
  }
 ],
 "metadata": {
  "kernelspec": {
   "display_name": "Python 3 (ipykernel)",
   "language": "python",
   "name": "python3"
  },
  "language_info": {
   "codemirror_mode": {
    "name": "ipython",
    "version": 3
   },
   "file_extension": ".py",
   "mimetype": "text/x-python",
   "name": "python",
   "nbconvert_exporter": "python",
   "pygments_lexer": "ipython3",
   "version": "3.11.3"
  }
 },
 "nbformat": 4,
 "nbformat_minor": 5
}
