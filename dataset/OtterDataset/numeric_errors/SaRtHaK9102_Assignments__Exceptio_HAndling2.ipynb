{
 "cells": [
  {
   "cell_type": "markdown",
   "id": "679734df-d89c-404e-a80e-128682eda233",
   "metadata": {},
   "source": [
    "Q1. Explain why we have to use the Exception class while creating a Custom Exception."
   ]
  },
  {
   "cell_type": "markdown",
   "id": "dec865bb-4302-4b0a-ad40-1e33eca60659",
   "metadata": {},
   "source": [
    "--> Exception class serves as the base class for all exceptions in Python also provides a common interface and functionality for handling and propagating exceptions\n",
    "\n",
    "--> By inheriting from the Exception class, you can take advantage of its attributes and methods"
   ]
  },
  {
   "cell_type": "code",
   "execution_count": 3,
   "id": "e5d7b0a7-c9ce-413f-b121-d900f6c6ab77",
   "metadata": {},
   "outputs": [
    {
     "ename": "CustomException",
     "evalue": "This is a custom exception.",
     "output_type": "error",
     "traceback": [
      "\u001b[0;31m---------------------------------------------------------------------------\u001b[0m",
      "\u001b[0;31mCustomException\u001b[0m                           Traceback (most recent call last)",
      "Cell \u001b[0;32mIn[3], line 3\u001b[0m\n\u001b[1;32m      1\u001b[0m \u001b[38;5;28;01mclass\u001b[39;00m \u001b[38;5;21;01mCustomException\u001b[39;00m(\u001b[38;5;167;01mException\u001b[39;00m):\n\u001b[1;32m      2\u001b[0m     \u001b[38;5;28;01mpass\u001b[39;00m\n\u001b[0;32m----> 3\u001b[0m \u001b[38;5;28;01mraise\u001b[39;00m CustomException(\u001b[38;5;124m\"\u001b[39m\u001b[38;5;124mThis is a custom exception.\u001b[39m\u001b[38;5;124m\"\u001b[39m)\n",
      "\u001b[0;31mCustomException\u001b[0m: This is a custom exception."
     ]
    }
   ],
   "source": [
    "class CustomException(Exception):\n",
    "    pass\n",
    "raise CustomException(\"This is a custom exception.\")\n"
   ]
  },
  {
   "cell_type": "code",
   "execution_count": null,
   "id": "e8ae33d1-0c58-4298-96c8-b33410a4d3f9",
   "metadata": {},
   "outputs": [],
   "source": []
  },
  {
   "cell_type": "markdown",
   "id": "18400fe9-fb2b-4218-870d-ba677af33ee0",
   "metadata": {},
   "source": [
    "Q2. Write a python program to print Python Exception Hierarchy."
   ]
  },
  {
   "cell_type": "code",
   "execution_count": 4,
   "id": "8a11b515-975b-4f5f-a88d-a6e533fa836f",
   "metadata": {},
   "outputs": [],
   "source": [
    "import sys"
   ]
  },
  {
   "cell_type": "code",
   "execution_count": 8,
   "id": "eb400f53-3ba7-4121-b534-0ed7526a3ae8",
   "metadata": {},
   "outputs": [],
   "source": [
    "def Exception_Hierrchy():\n",
    "    exceptions = []\n",
    "    for name, obj in vars(sys.modules[__name__]).items():\n",
    "        if isinstance(obj, type) and issubclass(obj, BaseException):\n",
    "            exceptions.append(obj.__name__)\n",
    "    \n",
    "    print('\\n'.join(exceptions))"
   ]
  },
  {
   "cell_type": "code",
   "execution_count": 9,
   "id": "d7e4cf76-c3bf-47b3-9ec3-5fec308c3ad7",
   "metadata": {},
   "outputs": [
    {
     "name": "stdout",
     "output_type": "stream",
     "text": [
      "CustomException\n"
     ]
    }
   ],
   "source": [
    "Exception_Hierrchy()"
   ]
  },
  {
   "cell_type": "code",
   "execution_count": null,
   "id": "ac646ca3-6a3f-468d-a3f9-a86899e9d72e",
   "metadata": {},
   "outputs": [],
   "source": []
  },
  {
   "cell_type": "markdown",
   "id": "db8d20e5-e41b-49b0-873f-f05e0aeed982",
   "metadata": {},
   "source": [
    "Q3. What errors are defined in the ArithmeticError class? Explain any two with an example."
   ]
  },
  {
   "cell_type": "markdown",
   "id": "c217bbfd-f2a9-42c1-87b1-fa97cd7b053e",
   "metadata": {},
   "source": [
    "1. ZeroDivisonError : When we try to divide a number with zero, it arires the Exception adn stops the progra abruptly.\n",
    "\n",
    "2. OverflowError: This error is raised when the result of an arithmetic operation exceeds the maximum limit."
   ]
  },
  {
   "cell_type": "code",
   "execution_count": 1,
   "id": "85a07eb4-addd-4fac-b1ec-9f09c6988d05",
   "metadata": {},
   "outputs": [
    {
     "name": "stdout",
     "output_type": "stream",
     "text": [
      "Division by zero Error\n"
     ]
    }
   ],
   "source": [
    "#ZeroDivisionError\n",
    "try:\n",
    "    result = 10 / 0\n",
    "except ZeroDivisionError:\n",
    "    print(\"Division by zero Error\")"
   ]
  },
  {
   "cell_type": "code",
   "execution_count": null,
   "id": "8a587c37-27e2-46b7-a5b7-a3cf0eef3654",
   "metadata": {},
   "outputs": [],
   "source": [
    "#OverflowError\n",
    "\n",
    "try:\n",
    "    result = 2 ** 99999999999\n",
    "except OverflowError:\n",
    "    print(\"Result too large\")"
   ]
  },
  {
   "cell_type": "code",
   "execution_count": null,
   "id": "6ca0c22f-3dd2-43dd-b18d-f0874b7133b1",
   "metadata": {},
   "outputs": [],
   "source": []
  },
  {
   "cell_type": "markdown",
   "id": "8526118f-c180-40df-a323-c7f56fae71b8",
   "metadata": {},
   "source": [
    "Q4. Why LookupError class is used? Explain with an example KeyError and IndexError."
   ]
  },
  {
   "cell_type": "markdown",
   "id": "00745c83-22c1-459f-8ca1-30db886f9dc4",
   "metadata": {},
   "source": [
    "--> LookupError class in Python is a base class for exceptions that occur when a indexing operation fails"
   ]
  },
  {
   "cell_type": "markdown",
   "id": "f7a99b70-25e1-44fc-850b-0a116e268229",
   "metadata": {},
   "source": [
    "1. KeyError: This error is raised when a dictionary is accessed with a key that doesn't exist in the dictionary.\n",
    "\n",
    "2. IndexError: This error is raised when trying to access an index of a sequence (such as a list or string) that is out of rangee"
   ]
  },
  {
   "cell_type": "code",
   "execution_count": 2,
   "id": "9ed09266-64a4-41f3-861d-8dbf1a8244a4",
   "metadata": {},
   "outputs": [
    {
     "name": "stdout",
     "output_type": "stream",
     "text": [
      "Error: Key not found\n"
     ]
    }
   ],
   "source": [
    "#KeyEroor Example\n",
    "dict = {'a': 1, 'b': 2}\n",
    "try:\n",
    "    value = dict['c']\n",
    "except KeyError:\n",
    "    print(\"Error: Key not found\")\n"
   ]
  },
  {
   "cell_type": "code",
   "execution_count": 4,
   "id": "6b392687-14d9-46a8-a24c-fc58d87ee783",
   "metadata": {},
   "outputs": [
    {
     "name": "stdout",
     "output_type": "stream",
     "text": [
      "List eitem not found\n"
     ]
    }
   ],
   "source": [
    "# example of IndexError\n",
    "l = [1, 2, 3]\n",
    "try:\n",
    "    value = l[3]\n",
    "except IndexError:\n",
    "    print('List eitem not found')\n",
    "   \n"
   ]
  },
  {
   "cell_type": "code",
   "execution_count": null,
   "id": "355b0b98-269e-4fc1-a3b7-b95257bc9d71",
   "metadata": {},
   "outputs": [],
   "source": []
  },
  {
   "cell_type": "markdown",
   "id": "f63244df-297f-4e4e-922a-ec93d357b231",
   "metadata": {},
   "source": [
    "Q5. Explain ImportError. What is ModuleNotFoundError?"
   ]
  },
  {
   "cell_type": "markdown",
   "id": "c77a2aba-f31f-4e71-bcbb-79b2e6c170ca",
   "metadata": {},
   "source": [
    "--> ImportError: This exception is raised when there is a problem importing a module. \n",
    "\n",
    "--> It can occur due to various reasons, such as a missing module, an invalid module name, or an error within the module being imported"
   ]
  },
  {
   "cell_type": "markdown",
   "id": "9dc0ecfb-f280-4abc-985a-8b2321f82fdf",
   "metadata": {},
   "source": [
    "ModuleNotFoundError : This exception is a subclass of ImportError and specifically raised when the module being imported cannot be found."
   ]
  },
  {
   "cell_type": "code",
   "execution_count": 6,
   "id": "106dcc4d-bff6-4092-94e5-31d8ccf57925",
   "metadata": {},
   "outputs": [
    {
     "name": "stdout",
     "output_type": "stream",
     "text": [
      "Error: Unable to import the module\n"
     ]
    }
   ],
   "source": [
    "#example of ImporterError\n",
    "try:\n",
    "    import Sarthak\n",
    "except ImportError:\n",
    "    print(\"Error: Unable to import the module\")\n"
   ]
  },
  {
   "cell_type": "code",
   "execution_count": 8,
   "id": "d869ab0f-c9bb-4f8f-af74-8b56244469c9",
   "metadata": {},
   "outputs": [
    {
     "name": "stdout",
     "output_type": "stream",
     "text": [
      "Error: Unable to import the module\n"
     ]
    }
   ],
   "source": [
    "#exaple of ModuleNotFoundError\n",
    "try:\n",
    "    import Sarthak_module\n",
    "except ImportError:\n",
    "    print(\"Error: Unable to import the module\")\n"
   ]
  },
  {
   "cell_type": "code",
   "execution_count": null,
   "id": "427728e1-1909-4865-a171-5d50ab25621e",
   "metadata": {},
   "outputs": [],
   "source": []
  },
  {
   "cell_type": "markdown",
   "id": "70d5de04-1cef-4186-bbe4-25d27f6d2274",
   "metadata": {},
   "source": [
    "Q6. List down some best practices for exception handling in python."
   ]
  },
  {
   "cell_type": "markdown",
   "id": "3bb671b4-9bdb-4527-9b5e-da2402c22486",
   "metadata": {},
   "source": [
    "1. Use multiple except blocks\n",
    "2. Avoid writinf \"EXCEPT\" statements\n",
    "3. Use built-in exceptions when possible\n",
    "4. Use finally for cleanup"
   ]
  },
  {
   "cell_type": "code",
   "execution_count": null,
   "id": "2fc96db1-69b0-4ba1-b7ee-b7699150c58e",
   "metadata": {},
   "outputs": [],
   "source": []
  }
 ],
 "metadata": {
  "kernelspec": {
   "display_name": "Python 3 (ipykernel)",
   "language": "python",
   "name": "python3"
  },
  "language_info": {
   "codemirror_mode": {
    "name": "ipython",
    "version": 3
   },
   "file_extension": ".py",
   "mimetype": "text/x-python",
   "name": "python",
   "nbconvert_exporter": "python",
   "pygments_lexer": "ipython3",
   "version": "3.10.8"
  }
 },
 "nbformat": 4,
 "nbformat_minor": 5
}
