{
 "cells": [
  {
   "cell_type": "markdown",
   "metadata": {},
   "source": [
    "# Exceptions\n",
    "\n",
    "- An unexpected event that occurs during the execution of a program.\n",
    "- Also know as logical errors"
   ]
  },
  {
   "cell_type": "code",
   "execution_count": 2,
   "metadata": {},
   "outputs": [
    {
     "ename": "ZeroDivisionError",
     "evalue": "division by zero",
     "output_type": "error",
     "traceback": [
      "\u001b[0;31m---------------------------------------------------------------------------\u001b[0m",
      "\u001b[0;31mZeroDivisionError\u001b[0m                         Traceback (most recent call last)",
      "\u001b[1;32m/home/mk16/Documents/Source Files/DCI/P23-E05/live/exceptions/exceptions.ipynb Cell 2\u001b[0m line \u001b[0;36m1\n\u001b[0;32m----> <a href='vscode-notebook-cell:/home/mk16/Documents/Source%20Files/DCI/P23-E05/live/exceptions/exceptions.ipynb#W0sZmlsZQ%3D%3D?line=0'>1</a>\u001b[0m divide \u001b[39m=\u001b[39m \u001b[39m9\u001b[39;49m\u001b[39m/\u001b[39;49m\u001b[39m0\u001b[39;49m\n\u001b[1;32m      <a href='vscode-notebook-cell:/home/mk16/Documents/Source%20Files/DCI/P23-E05/live/exceptions/exceptions.ipynb#W0sZmlsZQ%3D%3D?line=1'>2</a>\u001b[0m \u001b[39mprint\u001b[39m(divide)\n",
      "\u001b[0;31mZeroDivisionError\u001b[0m: division by zero"
     ]
    }
   ],
   "source": [
    "divide = 9/0 # ZeroDivisionError\n",
    "print(divide)"
   ]
  },
  {
   "cell_type": "code",
   "execution_count": 3,
   "metadata": {},
   "outputs": [
    {
     "ename": "IndexError",
     "evalue": "list index out of range",
     "output_type": "error",
     "traceback": [
      "\u001b[0;31m---------------------------------------------------------------------------\u001b[0m",
      "\u001b[0;31mIndexError\u001b[0m                                Traceback (most recent call last)",
      "\u001b[1;32m/home/mk16/Documents/Source Files/DCI/P23-E05/live/exceptions/exceptions.ipynb Cell 3\u001b[0m line \u001b[0;36m2\n\u001b[1;32m      <a href='vscode-notebook-cell:/home/mk16/Documents/Source%20Files/DCI/P23-E05/live/exceptions/exceptions.ipynb#W5sZmlsZQ%3D%3D?line=0'>1</a>\u001b[0m list_1 \u001b[39m=\u001b[39m [\u001b[39m1\u001b[39m, \u001b[39m2\u001b[39m, \u001b[39m3\u001b[39m, \u001b[39m4\u001b[39m, \u001b[39m5\u001b[39m]\n\u001b[0;32m----> <a href='vscode-notebook-cell:/home/mk16/Documents/Source%20Files/DCI/P23-E05/live/exceptions/exceptions.ipynb#W5sZmlsZQ%3D%3D?line=1'>2</a>\u001b[0m \u001b[39mprint\u001b[39m(list_1[\u001b[39m5\u001b[39;49m]) \u001b[39m# IndexError\u001b[39;00m\n",
      "\u001b[0;31mIndexError\u001b[0m: list index out of range"
     ]
    }
   ],
   "source": [
    "list_1 = [1, 2, 3, 4, 5]\n",
    "print(list_1[5]) # IndexError"
   ]
  },
  {
   "cell_type": "code",
   "execution_count": 5,
   "metadata": {},
   "outputs": [
    {
     "ename": "KeyError",
     "evalue": "'8'",
     "output_type": "error",
     "traceback": [
      "\u001b[0;31m---------------------------------------------------------------------------\u001b[0m",
      "\u001b[0;31mKeyError\u001b[0m                                  Traceback (most recent call last)",
      "\u001b[1;32m/home/mk16/Documents/Source Files/DCI/P23-E05/live/exceptions/exceptions.ipynb Cell 4\u001b[0m line \u001b[0;36m2\n\u001b[1;32m      <a href='vscode-notebook-cell:/home/mk16/Documents/Source%20Files/DCI/P23-E05/live/exceptions/exceptions.ipynb#W6sZmlsZQ%3D%3D?line=0'>1</a>\u001b[0m dict_1 \u001b[39m=\u001b[39m {\u001b[39m1\u001b[39m: \u001b[39m\"\u001b[39m\u001b[39mHello\u001b[39m\u001b[39m\"\u001b[39m, \u001b[39m2\u001b[39m: \u001b[39m\"\u001b[39m\u001b[39mWorld!\u001b[39m\u001b[39m\"\u001b[39m, \u001b[39m3\u001b[39m: \u001b[39m\"\u001b[39m\u001b[39mPython\u001b[39m\u001b[39m\"\u001b[39m}\n\u001b[0;32m----> <a href='vscode-notebook-cell:/home/mk16/Documents/Source%20Files/DCI/P23-E05/live/exceptions/exceptions.ipynb#W6sZmlsZQ%3D%3D?line=1'>2</a>\u001b[0m \u001b[39mprint\u001b[39m(dict_1[\u001b[39m\"\u001b[39;49m\u001b[39m8\u001b[39;49m\u001b[39m\"\u001b[39;49m])\n",
      "\u001b[0;31mKeyError\u001b[0m: '8'"
     ]
    }
   ],
   "source": [
    "dict_1 = {1: \"Hello\", 2: \"World!\", 3: \"Python\"}\n",
    "print(dict_1[\"8\"]) # KeyError"
   ]
  },
  {
   "cell_type": "markdown",
   "metadata": {},
   "source": [
    "## Python Built-in Exceptions\n",
    "\n",
    "We can view the built-in exceptions using `locals()` function"
   ]
  },
  {
   "cell_type": "code",
   "execution_count": 8,
   "metadata": {},
   "outputs": [
    {
     "name": "stdout",
     "output_type": "stream",
     "text": [
      "['ArithmeticError', 'AssertionError', 'AttributeError', 'BaseException', 'BaseExceptionGroup', 'BlockingIOError', 'BrokenPipeError', 'BufferError', 'BytesWarning', 'ChildProcessError', 'ConnectionAbortedError', 'ConnectionError', 'ConnectionRefusedError', 'ConnectionResetError', 'DeprecationWarning', 'EOFError', 'Ellipsis', 'EncodingWarning', 'EnvironmentError', 'Exception', 'ExceptionGroup', 'False', 'FileExistsError', 'FileNotFoundError', 'FloatingPointError', 'FutureWarning', 'GeneratorExit', 'IOError', 'ImportError', 'ImportWarning', 'IndentationError', 'IndexError', 'InterruptedError', 'IsADirectoryError', 'KeyError', 'KeyboardInterrupt', 'LookupError', 'MemoryError', 'ModuleNotFoundError', 'NameError', 'None', 'NotADirectoryError', 'NotImplemented', 'NotImplementedError', 'OSError', 'OverflowError', 'PendingDeprecationWarning', 'PermissionError', 'ProcessLookupError', 'RecursionError', 'ReferenceError', 'ResourceWarning', 'RuntimeError', 'RuntimeWarning', 'StopAsyncIteration', 'StopIteration', 'SyntaxError', 'SyntaxWarning', 'SystemError', 'SystemExit', 'TabError', 'TimeoutError', 'True', 'TypeError', 'UnboundLocalError', 'UnicodeDecodeError', 'UnicodeEncodeError', 'UnicodeError', 'UnicodeTranslateError', 'UnicodeWarning', 'UserWarning', 'ValueError', 'Warning', 'ZeroDivisionError', '__IPYTHON__', '__build_class__', '__debug__', '__doc__', '__import__', '__loader__', '__name__', '__package__', '__spec__', 'abs', 'aiter', 'all', 'anext', 'any', 'ascii', 'bin', 'bool', 'breakpoint', 'bytearray', 'bytes', 'callable', 'chr', 'classmethod', 'compile', 'complex', 'copyright', 'credits', 'delattr', 'dict', 'dir', 'display', 'divmod', 'enumerate', 'eval', 'exec', 'execfile', 'filter', 'float', 'format', 'frozenset', 'get_ipython', 'getattr', 'globals', 'hasattr', 'hash', 'help', 'hex', 'id', 'input', 'int', 'isinstance', 'issubclass', 'iter', 'len', 'license', 'list', 'locals', 'map', 'max', 'memoryview', 'min', 'next', 'object', 'oct', 'open', 'ord', 'pow', 'print', 'property', 'range', 'repr', 'reversed', 'round', 'runfile', 'set', 'setattr', 'slice', 'sorted', 'staticmethod', 'str', 'sum', 'super', 'tuple', 'type', 'vars', 'zip']\n"
     ]
    }
   ],
   "source": [
    "print(dir(locals()['__builtin__']))"
   ]
  },
  {
   "cell_type": "markdown",
   "metadata": {},
   "source": [
    "## Python Errors and Exceptions\n",
    "\n",
    "**Errors:**\n",
    "- represents conditions such as compilation error, syntax error, error in logic of the code, library incompatibility, etc.\n",
    "- Errors are usually beyond the control of the programmer and we should not try to handle errors.\n",
    "\n",
    "**Exceptions:**\n",
    "- can be caught and handled by the program."
   ]
  },
  {
   "cell_type": "markdown",
   "metadata": {},
   "source": [
    "## Python Exception Handling\n",
    "- We can built-in and user-defined exceptions in Python using the `try`, `except` and `finally` statements."
   ]
  },
  {
   "cell_type": "code",
   "execution_count": null,
   "metadata": {},
   "outputs": [],
   "source": [
    "try:\n",
    "    # code that may cause an exception\n",
    "except: \n",
    "    # code to run when exception occurs"
   ]
  },
  {
   "cell_type": "code",
   "execution_count": 13,
   "metadata": {},
   "outputs": [
    {
     "name": "stdout",
     "output_type": "stream",
     "text": [
      "3.0\n"
     ]
    }
   ],
   "source": [
    "try:\n",
    "    # code to try that might cause exception\n",
    "    numerator = 9\n",
    "    denominator = 3\n",
    "    \n",
    "    result = numerator/denominator\n",
    "    \n",
    "    print(result)\n",
    "except:\n",
    "    # code to execute if exception occurs\n",
    "    print(\"You cannot divide by zero(0)\")"
   ]
  },
  {
   "cell_type": "markdown",
   "metadata": {},
   "source": [
    "### Catching Specific Exceptions\n",
    "- For each `try` block, there can be zero or more `except` blocks.\n",
    "- Multiple `except` blocks allow us to handle each exception differently.\n",
    "- The argument type of each `except` block indicates the type of exception that can be handled by it."
   ]
  },
  {
   "cell_type": "code",
   "execution_count": 17,
   "metadata": {},
   "outputs": [
    {
     "name": "stdout",
     "output_type": "stream",
     "text": [
      "Index too high!\n"
     ]
    }
   ],
   "source": [
    "try:\n",
    "    even_nums = [2, 4, 6, 8, 10]\n",
    "    print(even_nums[5])\n",
    "    \n",
    "except ZeroDivisionError:\n",
    "    print(\"Denominator cannot be zero(0).\")\n",
    "    \n",
    "except IndexError:\n",
    "    print(\"Index too high!\")    \n"
   ]
  },
  {
   "cell_type": "markdown",
   "metadata": {},
   "source": [
    "### Python try with else clause\n",
    "- We might want to run a certain block of code if the code block inside the try runs without any exceptions.\n"
   ]
  },
  {
   "cell_type": "code",
   "execution_count": 21,
   "metadata": {},
   "outputs": [
    {
     "name": "stdout",
     "output_type": "stream",
     "text": [
      "Even number\n",
      "There's an exception.\n"
     ]
    }
   ],
   "source": [
    "try:\n",
    "    num = 2\n",
    "    if num % 2 == 0: \n",
    "        print(\"Even number\")\n",
    "    even_nums = [2, 4, 6, 8]\n",
    "    print(even_nums[5])\n",
    "except IndexError:\n",
    "    print(\"There's an exception.\")\n",
    "else:\n",
    "    result = 10 / num\n",
    "    print(result)"
   ]
  },
  {
   "cell_type": "markdown",
   "metadata": {},
   "source": [
    "> Exceptions that occur in the `else` block will not be handled by the previous except clauses."
   ]
  },
  {
   "cell_type": "markdown",
   "metadata": {},
   "source": [
    "### Python try....finally block\n",
    "- The `finally` block is executed whether there is an exception or not.\n",
    "- The `finally` block is optional.\n",
    "- For each `try` block there can only be one `finally` block"
   ]
  },
  {
   "cell_type": "code",
   "execution_count": 25,
   "metadata": {},
   "outputs": [
    {
     "name": "stdout",
     "output_type": "stream",
     "text": [
      "5.0\n",
      "55.0\n",
      "This is the finally block\n"
     ]
    }
   ],
   "source": [
    "try:\n",
    "    numerator = 10\n",
    "    denominator = 2\n",
    "    \n",
    "    result = numerator / denominator\n",
    "    print(result)\n",
    "    \n",
    "except ZeroDivisionError:\n",
    "    print(\"You're trying to divide by zero(0)\")\n",
    "    \n",
    "else:\n",
    "    result += 50\n",
    "    print(result)\n",
    "    \n",
    "finally:\n",
    "    print(\"This is the finally block\")"
   ]
  },
  {
   "cell_type": "code",
   "execution_count": null,
   "metadata": {},
   "outputs": [],
   "source": [
    "try:\n",
    "    list_1 = [1,2,3,4,5,6,7]\n",
    "    for num in list_1:\n",
    "        if num % 2 == 0:\n",
    "            print(\"Even!\")\n",
    "            \n",
    "except:\n",
    "    print(\"There was an exception!\")"
   ]
  }
 ],
 "metadata": {
  "kernelspec": {
   "display_name": "Python 3",
   "language": "python",
   "name": "python3"
  },
  "language_info": {
   "codemirror_mode": {
    "name": "ipython",
    "version": 3
   },
   "file_extension": ".py",
   "mimetype": "text/x-python",
   "name": "python",
   "nbconvert_exporter": "python",
   "pygments_lexer": "ipython3",
   "version": "3.11.4"
  },
  "orig_nbformat": 4
 },
 "nbformat": 4,
 "nbformat_minor": 2
}
