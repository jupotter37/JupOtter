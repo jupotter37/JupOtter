{
 "cells": [
  {
   "cell_type": "code",
   "execution_count": 2,
   "id": "b2674af4",
   "metadata": {},
   "outputs": [
    {
     "data": {
      "text/plain": [
       "{'id': 1, 'name': 'ak'}"
      ]
     },
     "execution_count": 2,
     "metadata": {},
     "output_type": "execute_result"
    }
   ],
   "source": [
    "# 1\n",
    "# Write a Python program to create an instance of a specified class and display the namespace of the said instance.\n",
    "class student:\n",
    "    def __init__(self,id,name):\n",
    "        self.id = id\n",
    "        self.name = name\n",
    "stu = student(1,\"ak\")\n",
    "stu.__dict__ # will take variable as key and the parameters as value"
   ]
  },
  {
   "cell_type": "code",
   "execution_count": 10,
   "id": "450e6a54",
   "metadata": {},
   "outputs": [
    {
     "name": "stdout",
     "output_type": "stream",
     "text": [
      "Help on built-in function abs in module builtins:\n",
      "\n",
      "abs(x, /)\n",
      "    Return the absolute value of the argument.\n",
      "\n",
      "155\n",
      "\n",
      "ArithmeticError\n",
      "AssertionError\n",
      "AttributeError\n",
      "BaseException\n",
      "BaseExceptionGroup\n",
      "BlockingIOError\n",
      "BrokenPipeError\n",
      "BufferError\n",
      "BytesWarning\n",
      "ChildProcessError\n",
      "ConnectionAbortedError\n",
      "ConnectionError\n",
      "ConnectionRefusedError\n",
      "ConnectionResetError\n",
      "DeprecationWarning\n",
      "EOFError\n",
      "Ellipsis\n",
      "EncodingWarning\n",
      "EnvironmentError\n",
      "Exception\n",
      "ExceptionGroup\n",
      "False\n",
      "FileExistsError\n",
      "FileNotFoundError\n",
      "FloatingPointError\n",
      "FutureWarning\n",
      "GeneratorExit\n",
      "IOError\n",
      "ImportError\n",
      "ImportWarning\n",
      "IndentationError\n",
      "IndexError\n",
      "InterruptedError\n",
      "IsADirectoryError\n",
      "KeyError\n",
      "KeyboardInterrupt\n",
      "LookupError\n",
      "MemoryError\n",
      "ModuleNotFoundError\n",
      "NameError\n",
      "None\n",
      "NotADirectoryError\n",
      "NotImplemented\n",
      "NotImplementedError\n",
      "OSError\n",
      "OverflowError\n",
      "PendingDeprecationWarning\n",
      "PermissionError\n",
      "ProcessLookupError\n",
      "RecursionError\n",
      "ReferenceError\n",
      "ResourceWarning\n",
      "RuntimeError\n",
      "RuntimeWarning\n",
      "StopAsyncIteration\n",
      "StopIteration\n",
      "SyntaxError\n",
      "SyntaxWarning\n",
      "SystemError\n",
      "SystemExit\n",
      "TabError\n",
      "TimeoutError\n",
      "True\n",
      "TypeError\n",
      "UnboundLocalError\n",
      "UnicodeDecodeError\n",
      "UnicodeEncodeError\n",
      "UnicodeError\n",
      "UnicodeTranslateError\n",
      "UnicodeWarning\n",
      "UserWarning\n",
      "ValueError\n",
      "Warning\n",
      "WindowsError\n",
      "ZeroDivisionError\n",
      "__IPYTHON__\n",
      "__build_class__\n",
      "__debug__\n",
      "__doc__\n",
      "__import__\n",
      "__loader__\n",
      "__name__\n",
      "__package__\n",
      "__spec__\n",
      "abs\n",
      "aiter\n",
      "all\n",
      "anext\n",
      "any\n",
      "ascii\n",
      "bin\n",
      "bool\n",
      "breakpoint\n",
      "bytearray\n",
      "bytes\n",
      "callable\n",
      "chr\n",
      "classmethod\n",
      "compile\n",
      "complex\n",
      "copyright\n",
      "credits\n",
      "delattr\n",
      "dict\n",
      "dir\n",
      "display\n",
      "divmod\n",
      "enumerate\n",
      "eval\n",
      "exec\n",
      "execfile\n",
      "filter\n",
      "float\n",
      "format\n",
      "frozenset\n",
      "get_ipython\n",
      "getattr\n",
      "globals\n",
      "hasattr\n",
      "hash\n",
      "help\n",
      "hex\n",
      "id\n",
      "input\n",
      "int\n",
      "isinstance\n",
      "issubclass\n",
      "iter\n",
      "len\n",
      "license\n",
      "list\n",
      "locals\n",
      "map\n",
      "max\n",
      "memoryview\n",
      "min\n",
      "next\n",
      "object\n",
      "oct\n",
      "open\n",
      "ord\n",
      "pow\n",
      "print\n",
      "property\n",
      "range\n",
      "repr\n",
      "reversed\n",
      "round\n",
      "runfile\n",
      "set\n",
      "setattr\n",
      "slice\n",
      "sorted\n",
      "staticmethod\n",
      "str\n",
      "sum\n",
      "super\n",
      "tuple\n",
      "type\n",
      "vars\n",
      "zip\n"
     ]
    }
   ],
   "source": [
    "# 2\n",
    "# 'builtins' module provides direct access to all 'built-in' identifiers of  Python.\n",
    "# Write a  Python program that imports the abs() function using the builtins module, displays \n",
    "# the documentation of the abs() function and finds the absolute value of -155.\n",
    "\n",
    "import builtins\n",
    "help(builtins.abs)\n",
    "print(builtins.abs(-155))\n",
    "print()\n",
    "a = dir(builtins) # all built in functions in python - dir is an inbuilt function used to print the functions of an module\n",
    "for i in a:\n",
    "    print(i)"
   ]
  },
  {
   "cell_type": "code",
   "execution_count": 16,
   "id": "c6b21d2c",
   "metadata": {},
   "outputs": [
    {
     "name": "stdout",
     "output_type": "stream",
     "text": [
      "True\n",
      "False\n",
      "checking whether the classes are subclass of builtin object class\n",
      "True\n"
     ]
    }
   ],
   "source": [
    "# 3\n",
    "# Python Class ( Basic ): Exercise-8 with Solution\n",
    "# Write a  Python program to create two empty classes, Student and Marks. Now create some instances and check whether \n",
    "# they are instances of the said classes or not. Also, check whether the said classes are subclasses of the built-in \n",
    "# object class or not.\n",
    "class student:\n",
    "    pass\n",
    "class marks:\n",
    "    pass\n",
    "st = student()\n",
    "ma = marks()\n",
    "print(isinstance(st,student))\n",
    "print(isinstance(st,marks))\n",
    "print(\"checking whether the classes are subclass of builtin object class\")\n",
    "print(issubclass(student,object))"
   ]
  },
  {
   "cell_type": "code",
   "execution_count": 22,
   "id": "baddadbc",
   "metadata": {},
   "outputs": [
    {
     "name": "stdout",
     "output_type": "stream",
     "text": [
      "10 ak\n"
     ]
    }
   ],
   "source": [
    "# 4\n",
    "# Write a  Python class named Student with two attributes: student_id, student_name. \n",
    "# Add a new attribute: student_class. Create a function to display all attributes and their values in the Student class.        \n",
    "\n",
    "class student:\n",
    "    id = 10\n",
    "    name = \"ak\"\n",
    "    def display():\n",
    "        print(student.id,student.name)\n",
    "s = student\n",
    "s.display()"
   ]
  },
  {
   "cell_type": "code",
   "execution_count": 29,
   "id": "20078ece",
   "metadata": {},
   "outputs": [
    {
     "data": {
      "text/plain": [
       "False"
      ]
     },
     "execution_count": 29,
     "metadata": {},
     "output_type": "execute_result"
    }
   ],
   "source": [
    "# 5\n",
    "# Write a  Python class to check the validity of a string of parentheses, '(', ')', '{', '}', '[' and ']. \n",
    "# These brackets must be closed in the correct order,\n",
    "# for example \"()\" and \"()[]{}\" are valid but \"[)\", \"({[)]\" and \"{{{\" are invalid.\n",
    "\n",
    "class para:\n",
    "    def check(self,s):\n",
    "        st = []\n",
    "        for i in s:\n",
    "            if i == \"{\":\n",
    "                st.append(\"}\")\n",
    "            if i == \"[\":\n",
    "                st.append(\"]\")\n",
    "            if i == \"(\":\n",
    "                st.append(\")\")\n",
    "            elif st.pop() != i:\n",
    "                return False\n",
    "        return True\n",
    "p = para()\n",
    "p.check(\"(){}[]\")"
   ]
  },
  {
   "cell_type": "code",
   "execution_count": 36,
   "id": "38c866fd",
   "metadata": {},
   "outputs": [
    {
     "data": {
      "text/plain": [
       "4"
      ]
     },
     "execution_count": 36,
     "metadata": {},
     "output_type": "execute_result"
    }
   ],
   "source": [
    "# 6\n",
    "# Write a  Python class to implement pow(x, n).\n",
    "class power:\n",
    "    @staticmethod # so self doesnt have to be used \n",
    "    def res(x,n):\n",
    "        return x**n\n",
    "p = power()\n",
    "p.res(2,2)"
   ]
  },
  {
   "cell_type": "code",
   "execution_count": 39,
   "id": "5c02c1fe",
   "metadata": {},
   "outputs": [
    {
     "name": "stdout",
     "output_type": "stream",
     "text": [
      "olleh\n",
      "makanav\n"
     ]
    }
   ],
   "source": [
    "# 7\n",
    "# Write a Python class to reverse a string word by word.\n",
    "# Input string : 'hello . py'\n",
    "\n",
    "class reverse:\n",
    "    @staticmethod\n",
    "    def result(s):\n",
    "        for i in s:\n",
    "            print(''.join(reversed(i)))\n",
    "r = reverse\n",
    "r.result([\"hello\",\"vanakam\"])"
   ]
  },
  {
   "cell_type": "code",
   "execution_count": 46,
   "id": "741d5a12",
   "metadata": {},
   "outputs": [
    {
     "name": "stdout",
     "output_type": "stream",
     "text": [
      "hello\n",
      "HELLO\n"
     ]
    }
   ],
   "source": [
    "# 8\n",
    "# Write a Python class that has two methods: get_String and print_String , get_String accept a \n",
    "# string from the user and print_String prints the string in upper case.\n",
    "\n",
    "class string:\n",
    "    def get_str(self):\n",
    "        self.inp = input()\n",
    "\n",
    "    def print_str(self):\n",
    "        print(self.inp.upper())\n",
    "s = string()\n",
    "s.get_str()\n",
    "s.print_str()"
   ]
  },
  {
   "cell_type": "code",
   "execution_count": 53,
   "id": "8771904a",
   "metadata": {},
   "outputs": [
    {
     "data": {
      "text/plain": [
       "20"
      ]
     },
     "execution_count": 53,
     "metadata": {},
     "output_type": "execute_result"
    }
   ],
   "source": [
    "# 9\n",
    "# Write a Python class named Rectangle constructed from length and width and a method that will compute the area of a rectangle.\n",
    "class rectangle:\n",
    "    def __init__(self,l,b):\n",
    "        self.l = l\n",
    "        self.b = b\n",
    "    def area(self):\n",
    "        return self.l*self.b\n",
    "r = rectangle(10,2)\n",
    "r.area()"
   ]
  },
  {
   "cell_type": "code",
   "execution_count": 57,
   "id": "674fdf03",
   "metadata": {},
   "outputs": [
    {
     "name": "stdout",
     "output_type": "stream",
     "text": [
      "cycle\n"
     ]
    }
   ],
   "source": [
    "# 10\n",
    "# Write a  Python class to get the class name of an instance in Python.\n",
    "\n",
    "import itertools\n",
    "x = itertools.cycle('ABCD')\n",
    "print(type(x).__name__) # name of instance used (__name__)"
   ]
  },
  {
   "cell_type": "code",
   "execution_count": 5,
   "id": "51269928",
   "metadata": {},
   "outputs": [
    {
     "name": "stdout",
     "output_type": "stream",
     "text": [
      "ak 20000 research\n",
      "ak 20800.0 research\n"
     ]
    }
   ],
   "source": [
    "# 11\n",
    "# 1. Write a Python class Employee with attributes like emp_id, emp_name, emp_salary, and emp_department and methods \n",
    "# like calculate_emp_salary, emp_assign_department, and print_employee_details.\n",
    "# Sample Employee Data:\n",
    "# \"ADAMS\", \"E7876\", 50000, \"ACCOUNTING\"\n",
    "# \"JONES\", \"E7499\", 45000, \"RESEARCH\"\n",
    "# \"MARTIN\", \"E7900\", 50000, \"SALES\"\n",
    "# \"SMITH\", \"E7698\", 55000, \"OPERATIONS\"\n",
    "# Use 'assign_department' method to change the department of an employee.\n",
    "# Use 'print_employee_details' method to print the details of an employee.\n",
    "# Use 'calculate_emp_salary' method takes two arguments: salary and hours_worked, which is the number of hours worked by the \n",
    "# employee. If the number of hours worked is more than 50, the method computes overtime and adds it to the salary. Overtime is \n",
    "# calculated as following formula:\n",
    "# overtime = hours_worked - 50\n",
    "# Overtime amount = (overtime * (salary / 50))\n",
    "\n",
    "class employee:\n",
    "    def __init__(self,emp_name,emp_sal,emp_dept):\n",
    "        self.emp_name = emp_name\n",
    "        self.emp_sal = emp_sal\n",
    "        self.emp_dept = emp_dept\n",
    "    \n",
    "    def calculate_sal(self,emp_sal,hrs):\n",
    "        ot = 0\n",
    "        if hrs > 50:\n",
    "            ot = hrs-50\n",
    "        self.emp_sal = self.emp_sal + ot*(self.emp_sal/50)\n",
    "    \n",
    "    def assign_dept(self,dept):\n",
    "        self.emp_dept = dept\n",
    "    \n",
    "    def print_details(self):\n",
    "        print(self.emp_name,self.emp_sal,self.emp_dept)\n",
    "\n",
    "e = employee(\"ak\",20000,\"research\")\n",
    "e.print_details()\n",
    "e.calculate_sal(20000,52)\n",
    "e.print_details()"
   ]
  },
  {
   "cell_type": "code",
   "execution_count": 8,
   "id": "679db9cf",
   "metadata": {},
   "outputs": [
    {
     "name": "stdout",
     "output_type": "stream",
     "text": [
      "{'item_id': '001', 'item_name': 'Laptop', 'stock_count': 8, 'price': 999.99}\n"
     ]
    }
   ],
   "source": [
    "# 12\n",
    "# Write a Python class Inventory with attributes like item_id, item_name, stock_count, and price, and methods like add_item, \n",
    "# Use a dictionary to store the item details, where the key is the item_id and the value is a dictionary containing the \n",
    "# item_name, stock_count, and price.\n",
    "\n",
    "class Inventory:\n",
    "    def __init__(self, item_id, item_name, stock_count, price):\n",
    "        self.item_id = item_id\n",
    "        self.item_name = item_name\n",
    "        self.stock_count = stock_count\n",
    "        self.price = price\n",
    "    \n",
    "    def update_stock(self, new_stock_count):\n",
    "        self.stock_count = new_stock_count\n",
    "    \n",
    "    def get_item(self):\n",
    "        return {\n",
    "            'item_id': self.item_id,\n",
    "            'item_name': self.item_name,\n",
    "            'stock_count': self.stock_count,\n",
    "            'price': self.price\n",
    "        }\n",
    "    \n",
    "inventory = Inventory('001', 'Laptop', 10, 999.99)\n",
    "inventory.update_stock(8)\n",
    "print(inventory.get_item())"
   ]
  },
  {
   "cell_type": "code",
   "execution_count": 12,
   "id": "91695452",
   "metadata": {},
   "outputs": [
    {
     "data": {
      "text/plain": [
       "'Hello ak'"
      ]
     },
     "execution_count": 12,
     "metadata": {},
     "output_type": "execute_result"
    }
   ],
   "source": [
    "# Inheritance\n",
    "class Animal:\n",
    "    def __init__(self,name):\n",
    "        self.name = name\n",
    "    \n",
    "    def display(self):\n",
    "        return self.name\n",
    "\n",
    "class Child(Animal):\n",
    "    def show(self):\n",
    "        return f\"Hello {self.name}\"\n",
    "\n",
    "c = Child(\"ak\")\n",
    "c.name\n",
    "c.show()"
   ]
  },
  {
   "cell_type": "code",
   "execution_count": 22,
   "id": "f4ce390b",
   "metadata": {},
   "outputs": [
    {
     "name": "stdout",
     "output_type": "stream",
     "text": [
      "pug\n",
      "jonny pug\n"
     ]
    }
   ],
   "source": [
    "# super function()\n",
    "class animal:\n",
    "    def __init__(self,name):\n",
    "        self.name = name\n",
    "        \n",
    "class child(animal):\n",
    "    def __init__(self,name,breed):\n",
    "        super().__init__(name)\n",
    "        self.breed = breed\n",
    "    \n",
    "    def display(self):\n",
    "        print(self.name,self.breed)\n",
    "        \n",
    "c = child(\"jonny\",\"pug\")\n",
    "print(c.breed) \n",
    "c.display()"
   ]
  },
  {
   "cell_type": "code",
   "execution_count": 27,
   "id": "10f17b1a",
   "metadata": {},
   "outputs": [
    {
     "name": "stdout",
     "output_type": "stream",
     "text": [
      "public\n",
      "protected\n"
     ]
    },
    {
     "ename": "AttributeError",
     "evalue": "'encap' object has no attribute '__private'",
     "output_type": "error",
     "traceback": [
      "\u001b[1;31m---------------------------------------------------------------------------\u001b[0m",
      "\u001b[1;31mAttributeError\u001b[0m                            Traceback (most recent call last)",
      "Cell \u001b[1;32mIn[27], line 10\u001b[0m\n\u001b[0;32m      8\u001b[0m \u001b[38;5;28mprint\u001b[39m(e\u001b[38;5;241m.\u001b[39mpublic)\n\u001b[0;32m      9\u001b[0m \u001b[38;5;28mprint\u001b[39m(e\u001b[38;5;241m.\u001b[39m_protected)\n\u001b[1;32m---> 10\u001b[0m \u001b[38;5;28mprint\u001b[39m(e\u001b[38;5;241m.\u001b[39m__private)\n",
      "\u001b[1;31mAttributeError\u001b[0m: 'encap' object has no attribute '__private'"
     ]
    }
   ],
   "source": [
    "# encapsulation - private members\n",
    "class encap:\n",
    "    def __init__(self):\n",
    "        self.public = \"public\"\n",
    "        self._protected = \"protected\" # single underscore\n",
    "        self.__private = \"private\" #  double underscore, cannot be accessed\n",
    "e = encap()\n",
    "print(e.public)\n",
    "print(e._protected)\n",
    "print(e.__private)"
   ]
  },
  {
   "cell_type": "code",
   "execution_count": 33,
   "id": "5df547c6",
   "metadata": {},
   "outputs": [
    {
     "name": "stdout",
     "output_type": "stream",
     "text": [
      "Dog\n"
     ]
    }
   ],
   "source": [
    "# polymorphism\n",
    "class animal:\n",
    "    def sound(self):\n",
    "        print(\"Animal\")\n",
    "\n",
    "class dog(animal):\n",
    "    def sound(self):\n",
    "        print(\"Dog\")\n",
    "\n",
    "class cat(animal):\n",
    "    def sound(self):\n",
    "        print(\"cat\")\n",
    "        \n",
    "def make(animal):\n",
    "    animal.sound()\n",
    "    \n",
    "d = dog()\n",
    "make(d)"
   ]
  },
  {
   "cell_type": "code",
   "execution_count": 34,
   "id": "ab097610",
   "metadata": {},
   "outputs": [
    {
     "data": {
      "text/plain": [
       "'Bark'"
      ]
     },
     "execution_count": 34,
     "metadata": {},
     "output_type": "execute_result"
    }
   ],
   "source": [
    "# abstraction \n",
    "from abc import ABC, abstractmethod\n",
    "class animal(ABC):\n",
    "    @abstractmethod\n",
    "    def sound(self):\n",
    "        pass\n",
    "class dog(animal):\n",
    "    def sound(self):\n",
    "        return \"Bark\"\n",
    "d = dog()\n",
    "d.sound()"
   ]
  },
  {
   "cell_type": "code",
   "execution_count": 38,
   "id": "697e3f7a",
   "metadata": {},
   "outputs": [
    {
     "name": "stdout",
     "output_type": "stream",
     "text": [
      "ak\n",
      "20\n",
      "24\n",
      "True\n"
     ]
    }
   ],
   "source": [
    "# class and static method\n",
    "from datetime import date\n",
    "class person:\n",
    "    def __init__(self,name,age):\n",
    "        self.name = name\n",
    "        self.age =age\n",
    "    \n",
    "    @classmethod\n",
    "    def birth(cls,name,year):\n",
    "        return cls(name,date.today().year - year)\n",
    "    \n",
    "    @staticmethod\n",
    "    def static(age):\n",
    "        return age>18\n",
    "p = person(\"ak\",20)\n",
    "p1 = person.birth(\"ak\",2000)\n",
    "print(p.name)\n",
    "print(p.age)\n",
    "print(p1.age)\n",
    "print(person.static(20))"
   ]
  },
  {
   "cell_type": "code",
   "execution_count": null,
   "id": "afee0022",
   "metadata": {},
   "outputs": [],
   "source": []
  }
 ],
 "metadata": {
  "kernelspec": {
   "display_name": "Python 3 (ipykernel)",
   "language": "python",
   "name": "python3"
  },
  "language_info": {
   "codemirror_mode": {
    "name": "ipython",
    "version": 3
   },
   "file_extension": ".py",
   "mimetype": "text/x-python",
   "name": "python",
   "nbconvert_exporter": "python",
   "pygments_lexer": "ipython3",
   "version": "3.11.5"
  }
 },
 "nbformat": 4,
 "nbformat_minor": 5
}
