{
 "cells": [
  {
   "cell_type": "markdown",
   "id": "cb5140ef",
   "metadata": {
    "slideshow": {
     "slide_type": "slide"
    }
   },
   "source": [
    "<img src=\"images/inmas.png\" width=130x align=right />\n",
    "\n",
    "# Notebook 10 - Exception Handling\n",
    "\n",
    "<small>\n",
    "    \n",
    "Material covered in this notebook:\n",
    "\n",
    "- Using assert\n",
    "- Built-in exceptions\n",
    "- Raising exceptions\n",
    "- Exception handling using try, except, and else\n",
    "\n",
    "\n",
    "### Prerequisite\n",
    "Notebook 09\n",
    "</small>\n",
    "----"
   ]
  },
  {
   "cell_type": "markdown",
   "id": "7003cb43",
   "metadata": {
    "slideshow": {
     "slide_type": "slide"
    }
   },
   "source": [
    "### Using the `assert` built-in function\n",
    "An important approach when developing code is to take nothing for granted\n",
    "\n",
    "Signs of arguments, lengths of arrays, type of data, etc. should be verified when entering important functions\n",
    "\n",
    "The built-in function `assert` is very convenient to achieve this task:\n",
    "\n",
    "> assert \\<condition\\>, \\<error message\\>\n",
    "\n",
    "\n",
    "\n"
   ]
  },
  {
   "cell_type": "markdown",
   "id": "4796b155",
   "metadata": {
    "slideshow": {
     "slide_type": "slide"
    }
   },
   "source": [
    "Assert raises an `AssertionError` that we will cover in a few slides\n",
    "\n",
    "For now, notice how `assert` can take an optional second argument that is an informative error message\n",
    "\n",
    "We look at a full example on the next slide:"
   ]
  },
  {
   "cell_type": "markdown",
   "id": "32e14edd",
   "metadata": {
    "slideshow": {
     "slide_type": "slide"
    }
   },
   "source": [
    "### Being assertive"
   ]
  },
  {
   "cell_type": "code",
   "execution_count": null,
   "id": "4122a09a",
   "metadata": {
    "slideshow": {
     "slide_type": "fragment"
    }
   },
   "outputs": [],
   "source": [
    "def fac(a):\n",
    "    '''Compute factorial of an integer. Not a substitute for gamma function.'''\n",
    "    assert type(a) is int, 'Error: argument %r is not an integer!'%a\n",
    "    assert a >= 0, 'Error: argument %r is negative.'%a\n",
    "    res = 1\n",
    "    while a > 0:\n",
    "        res *= a\n",
    "        a -= 1\n",
    "    return res\n",
    "        \n",
    "mylist = [0, 1, 2, '3', 4]\n",
    "for num in mylist:\n",
    "    print('factorial of %r is %r; '%(num, fac(num)), end='')"
   ]
  },
  {
   "cell_type": "markdown",
   "id": "c39ccaf8",
   "metadata": {
    "slideshow": {
     "slide_type": "slide"
    }
   },
   "source": [
    "### What are Exceptions?\n",
    "The code on the previous slide raised an `AssertionError` exception when `assert` conditions are not met\n",
    "\n",
    "A powerful method for functions and methods to communicate problems is to raise an exception\n",
    "\n",
    "Then, the caller can decide how to handle it\n"
   ]
  },
  {
   "cell_type": "markdown",
   "id": "0d770b79",
   "metadata": {
    "slideshow": {
     "slide_type": "slide"
    }
   },
   "source": [
    "By default, the Python interpreter has a handler that gives traceback information as to where exactly this exception took place in the code\n",
    "\n",
    "Users can also decide to handle the exception, overriding the default exception handlers provided by the interpreter\n",
    "\n",
    "The next slide describes the syntax required to raise exceptions"
   ]
  },
  {
   "cell_type": "markdown",
   "id": "dfec5e53",
   "metadata": {
    "slideshow": {
     "slide_type": "slide"
    }
   },
   "source": [
    "### Raising Exceptions\n",
    "Apart from using the `assert` keyword, which raises an `AssertionError`, users can also `raise` exceptions\n",
    "\n",
    "- Built-in exceptions follow PascalCase naming convention\n",
    "- Common exceptions include: ArithmeticError, TypeError, PermissionError, FileNotFoundError, FloatingPointError, ZeroDivisionError, OverflowError, IndexError, ...\n",
    "- Generic exception: Exception\n"
   ]
  },
  {
   "cell_type": "markdown",
   "id": "b01d76df",
   "metadata": {
    "slideshow": {
     "slide_type": "slide"
    }
   },
   "source": [
    "These exceptions are objects that can accept a message string as an argument. For example:\n",
    "\n",
    "`raise IndexError('Index %d is bigger than array size %d.' % (i, n-1))`\n",
    "\n",
    "Exceptions can be any of the built-in exceptions listed on the next slide"
   ]
  },
  {
   "cell_type": "markdown",
   "id": "27ab4c5d",
   "metadata": {
    "slideshow": {
     "slide_type": "slide"
    }
   },
   "source": [
    "### Listing Python built-in exceptions\n",
    "The following command lists all the built-in exceptions (PascalCase) and functions (lowercase):"
   ]
  },
  {
   "cell_type": "code",
   "execution_count": null,
   "id": "d821c70f",
   "metadata": {
    "slideshow": {
     "slide_type": "fragment"
    }
   },
   "outputs": [],
   "source": [
    "print(dir(locals()['__builtins__']))"
   ]
  },
  {
   "cell_type": "markdown",
   "id": "3791b0db",
   "metadata": {
    "slideshow": {
     "slide_type": "slide"
    }
   },
   "source": [
    "### A short example of a non-existent file"
   ]
  },
  {
   "cell_type": "code",
   "execution_count": null,
   "id": "d7f8b78d",
   "metadata": {
    "slideshow": {
     "slide_type": "fragment"
    }
   },
   "outputs": [],
   "source": [
    "import os\n",
    "\n",
    "def checkFileAndThrow(f):\n",
    "    if not os.path.isfile(f):\n",
    "        raise FileNotFoundError('File \"%s\" was not found.' % f)\n",
    "\n",
    "myfile = 'thisFileDoesNotExist'\n",
    "\n",
    "checkFileAndThrow(myfile)"
   ]
  },
  {
   "cell_type": "markdown",
   "id": "464dedeb",
   "metadata": {
    "slideshow": {
     "slide_type": "fragment"
    }
   },
   "source": [
    "The exception raised is handled by the default handler of the Python interpreter"
   ]
  },
  {
   "cell_type": "markdown",
   "id": "1a87762b",
   "metadata": {
    "slideshow": {
     "slide_type": "slide"
    }
   },
   "source": [
    "### Overriding the default exception handler\n",
    "The default behavior of Python is to stop everything and report where the exception occured\n",
    "\n",
    "In some other situations, we would like to recover and keep computing\n",
    "\n",
    "The user then takes over the exception handling\n",
    "\n",
    "Next slide introduces the syntax required to perform exception handling in Python"
   ]
  },
  {
   "cell_type": "markdown",
   "id": "6ca44062",
   "metadata": {
    "slideshow": {
     "slide_type": "slide"
    }
   },
   "source": [
    "### Handling exceptions\n",
    "\n",
    "<small>\n",
    "\n",
    "The full syntax construct to handle exceptions is:\n",
    "```python\n",
    "try:                     # Code we want to run\n",
    "    code block\n",
    "except Exception1:       # What to do if Exception1 is raised\n",
    "    code block\n",
    "except OtherException:   # What to do if OtherException is raised\n",
    "    code block\n",
    "    ...\n",
    "else:                    # What to do if no exception is raised (not commonly used)\n",
    "    code block\n",
    "finally:                 # What to do in all cases (cleanup complex situations)\n",
    "    code block\n",
    "```\n",
    "</small>"
   ]
  },
  {
   "cell_type": "markdown",
   "id": "5f120fe5",
   "metadata": {
    "slideshow": {
     "slide_type": "slide"
    }
   },
   "source": [
    "### Common use of try and except\n",
    "The try/except construct is often found in I/O operations. This code gives an example for the use of `else`.\n",
    "\n",
    "<small>\n",
    "\n",
    "```python\n",
    "try:\n",
    "    operation_that_can_throw_ioerror()\n",
    "except IOError:\n",
    "    handle_the_exception_somehow()\n",
    "else:\n",
    "    # We don't want to catch the IOError if it's raised\n",
    "    another_bookkeeping_operation_that_can_throw_ioerror()\n",
    "\n",
    "```\n",
    "Finally, `finally` is rarely seen in practical applications\n",
    "</small>"
   ]
  },
  {
   "cell_type": "markdown",
   "id": "fcd8c6ec",
   "metadata": {
    "slideshow": {
     "slide_type": "slide"
    }
   },
   "source": [
    "### Handling exceptions\n",
    "We have seen that Python has many built-in exceptions and a default exception handler\n",
    "\n",
    "We now override the exception handler with our own code\n",
    "\n",
    "As written, the next cell tries to divide by zero.\n",
    "Run once, then run again with `x` = 1:"
   ]
  },
  {
   "cell_type": "code",
   "execution_count": null,
   "id": "cb887f70",
   "metadata": {
    "scrolled": true,
    "slideshow": {
     "slide_type": "slide"
    }
   },
   "outputs": [],
   "source": [
    "x, y = 0, 4\n",
    "try:\n",
    "    print(y/x)\n",
    "except ZeroDivisionError:\n",
    "    print(\"You can't divide by zero!\")\n",
    "else:\n",
    "    print(\"There was no exception!\")\n",
    "    # print(\"But who will catch this new exception then?\", 4/0)   # Uncomment to find out!\n",
    "finally:\n",
    "    print(\"This statement always happens.\")\n",
    "print(\"Coding continues...\")"
   ]
  },
  {
   "cell_type": "markdown",
   "id": "29692b3c",
   "metadata": {
    "slideshow": {
     "slide_type": "slide"
    }
   },
   "source": [
    "### Revisiting a previous example\n",
    "Using what we have just learned, we rewrite the previous factorial example to be more robust:"
   ]
  },
  {
   "cell_type": "code",
   "execution_count": null,
   "id": "1053a786",
   "metadata": {
    "slideshow": {
     "slide_type": "fragment"
    }
   },
   "outputs": [],
   "source": [
    "def fac(a):\n",
    "    '''Compute factorial of an integer. Not a substitute for gamma function.'''\n",
    "    if not isinstance(a, int):\n",
    "        raise TypeError('Error: argument %r is not an integer!'%a)\n",
    "    if a < 0:\n",
    "        raise ValueError('Error: argument %r is negative.'%a)\n",
    "    res = 1\n",
    "    while a > 0:\n",
    "        res *= a\n",
    "        a -= 1\n",
    "    return res"
   ]
  },
  {
   "cell_type": "markdown",
   "id": "3735e807",
   "metadata": {
    "slideshow": {
     "slide_type": "slide"
    }
   },
   "source": [
    "### Exception handling leads to better code\n",
    "Let's run the same code again and see what happens"
   ]
  },
  {
   "cell_type": "code",
   "execution_count": null,
   "id": "915def09",
   "metadata": {
    "slideshow": {
     "slide_type": "fragment"
    }
   },
   "outputs": [],
   "source": [
    "mylist = [0, 1, 2, '3', 4]\n",
    "for num in mylist:\n",
    "    try:\n",
    "        print('factorial of %r is %r; '%(num, fac(num)), end='')\n",
    "    except TypeError:\n",
    "        print('Value %r is not legit!; '%num, end='')"
   ]
  },
  {
   "cell_type": "markdown",
   "id": "b363e2bc",
   "metadata": {
    "slideshow": {
     "slide_type": "fragment"
    }
   },
   "source": [
    "Notice how this time we recover from the error and can run `fac()` on the last element of the list!"
   ]
  },
  {
   "cell_type": "markdown",
   "id": "88570925",
   "metadata": {
    "slideshow": {
     "slide_type": "slide"
    }
   },
   "source": [
    "### When the exception is not known\n",
    "When unknown, the exception can be processed using the `as` construct below: "
   ]
  },
  {
   "cell_type": "code",
   "execution_count": null,
   "id": "4f4eb96d",
   "metadata": {
    "slideshow": {
     "slide_type": "fragment"
    }
   },
   "outputs": [],
   "source": [
    "import numpy as np\n",
    "\n",
    "try:\n",
    "    data = np.genfromtxt('This_File_DoEsNoTeXiSt.csv')        # Trying to open a file that does not exist\n",
    "except Exception as e:\n",
    "    print('An exception was received!')\n",
    "    print('The exception received is:', type(e).__name__)     # Prints the name of the exception class\n",
    "    print('With error message:', e)                           # Prints the exception message"
   ]
  },
  {
   "cell_type": "markdown",
   "id": "070b8179",
   "metadata": {
    "slideshow": {
     "slide_type": "slide"
    }
   },
   "source": [
    "### Key Points\n",
    "- Use `assert` whenever possible\n",
    "- Python has many built-in exceptions\n",
    "     - Be familar with the most common ones\n",
    "- `try`, `except`, and `else` are used to handle errors\n",
    "- Exceptions can be raised by the `raise` keyword"
   ]
  },
  {
   "cell_type": "markdown",
   "id": "bc5e3803",
   "metadata": {
    "slideshow": {
     "slide_type": "slide"
    }
   },
   "source": [
    "### What's Next?\n",
    "- Complete the exercises in this associated exercise notebook [X-10-ExceptionHandling.ipynb](X-10-ExceptionHandling.ipynb)\n",
    "- Next notebook is [N-11-SoftwareEng.ipynb](N-11-SoftwareEng.ipynb)"
   ]
  }
 ],
 "metadata": {
  "celltoolbar": "Slideshow",
  "kernelspec": {
   "display_name": "Python [conda env:rise] *",
   "language": "python",
   "name": "conda-env-rise-py"
  },
  "language_info": {
   "codemirror_mode": {
    "name": "ipython",
    "version": 3
   },
   "file_extension": ".py",
   "mimetype": "text/x-python",
   "name": "python",
   "nbconvert_exporter": "python",
   "pygments_lexer": "ipython3",
   "version": "3.12.7"
  }
 },
 "nbformat": 4,
 "nbformat_minor": 5
}
