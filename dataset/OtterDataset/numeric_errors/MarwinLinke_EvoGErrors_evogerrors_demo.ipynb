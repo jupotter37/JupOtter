{
 "cells": [
  {
   "attachments": {},
   "cell_type": "markdown",
   "metadata": {},
   "source": [
    "# A Simple Example for EvoGErrors\n",
    "In this quick demo we want to show the capabilities of differentiating exception types while using **EvoGFuzz**"
   ]
  },
  {
   "attachments": {},
   "cell_type": "markdown",
   "metadata": {},
   "source": [
    "### Defining a Sample Program\n",
    "**EvoGErrors** builds its own oracle, which simplifies the process but also adds a level of constraints. In this example, we define an `advanced_calulator` that includes a variety of different error types."
   ]
  },
  {
   "cell_type": "code",
   "execution_count": 1,
   "metadata": {},
   "outputs": [],
   "source": [
    "import math\n",
    "\n",
    "# This function contains various errors that must be found and classified.\n",
    "def advanced_calculator(inp: str) -> float:\n",
    "\n",
    "    # The math.increment function does not exist -> AttributeError\n",
    "    if not str(inp).find(\"inc\") == -1:\n",
    "        return eval(str(inp), {\"inc\": math.increment})\n",
    "    \n",
    "    if not str(inp).find(\"factorial\") == -1:\n",
    "        return eval(str(inp))\n",
    "\n",
    "    if not str(inp).find(\"is_int\") == -1:\n",
    "        return eval(str(inp))\n",
    "    \n",
    "    return eval(\n",
    "        str(inp), {\n",
    "            \"sqrt\": math.sqrt, # Square roots of negative numbers are not defined -> ValueError\n",
    "            \"sin\": math.sin,\n",
    "            \"cos\": math.cos,\n",
    "            \"tan\": math.tan,\n",
    "            \"log\": math.log # The logarithm is only defined for positive numbers -> ValueError\n",
    "            }\n",
    "    )\n",
    "\n",
    "def factorial(n):\n",
    "    if n >= 2:\n",
    "        return n * factorial(n) # Infinite recursion -> RecursionError\n",
    "    else:\n",
    "        return 1\n",
    "\n",
    "def is_int(inp):\n",
    "    assert isinstance(inp, int) # If inp is not an integer -> AssertionError\n",
    "    return True"
   ]
  },
  {
   "attachments": {},
   "cell_type": "markdown",
   "metadata": {},
   "source": [
    "### Defining the Grammar\n",
    "We need to define a corresponding grammar. This grammar covers all potentially valid inputs to the calculator function, including mathematical expressions like square roots, trigonometric functions, factorial, division, incrementing and length of a number, as well as checking whether a number is an integer. Also, the grammar includes one common mistake, which is later correctly found by **EvoGErrors**. Perhaps you already see it."
   ]
  },
  {
   "cell_type": "code",
   "execution_count": 2,
   "metadata": {},
   "outputs": [],
   "source": [
    "from fuzzingbook.Grammars import Grammar, is_valid_grammar\n",
    "\n",
    "CALCGRAMMAR: Grammar = {\n",
    "    \"<start>\":\n",
    "        [\"<start1>\"],\n",
    "\n",
    "    \"<start1>\":\n",
    "        [\"<expr>\", \"<term> / <term>\"],\n",
    "\n",
    "    \"<expr>\":\n",
    "        [\"<function>(<term>)\"],\n",
    "\n",
    "    \"<function>\":\n",
    "        [\"sqrt\", \"tan\", \"cos\", \"sin\", \"log\", \"len\", \"inc\", \"factorial\", \"is_int\"],\n",
    "    \n",
    "    \"<term>\":\n",
    "        [\"-<value>\", \"<value>\"], \n",
    "    \n",
    "    \"<value>\":\n",
    "        [\"<integer>.<integer>\", \"<integer>\"],\n",
    "\n",
    "    \"<integer>\":\n",
    "        [\"<digit><integer>\", \"<digit>\"],\n",
    "\n",
    "    \"<digit>\":\n",
    "        [\"1\", \"2\", \"3\", \"4\", \"5\", \"6\", \"7\", \"8\", \"9\", \"0\"]\n",
    "}\n",
    "\n",
    "assert is_valid_grammar(CALCGRAMMAR)"
   ]
  },
  {
   "attachments": {},
   "cell_type": "markdown",
   "metadata": {},
   "source": [
    "### Initial Inputs\n",
    "Initial inputs can be defined but it is recommended not to, since **EvoGErrors** needs to check for every error type. Unfortunate inputs would increase the run time immensely."
   ]
  },
  {
   "cell_type": "code",
   "execution_count": 3,
   "metadata": {},
   "outputs": [],
   "source": [
    "from evogfuzz.evogerrors import EvoGErrors\n",
    "\n",
    "epp = EvoGErrors(\n",
    "    grammar=CALCGRAMMAR,\n",
    "    program=advanced_calculator,\n",
    "    min_iterations = 3,\n",
    "    final_iterations = 30\n",
    ")"
   ]
  },
  {
   "attachments": {},
   "cell_type": "markdown",
   "metadata": {},
   "source": [
    "### Iterations\n",
    "\n",
    "Note that **EvoGErrors** in contrast to **EvoGFuzz** takes two different iteration parameters. The `min_iterations` is executed for every exception type, it is advisable to keep the number low. Once **EvoGErrors** found a bug, it continues the iteration until it hits the specified `final_iterations`."
   ]
  },
  {
   "attachments": {},
   "cell_type": "markdown",
   "metadata": {},
   "source": [
    "### Let's Start the Fuzzing\n",
    "\n",
    "It may take a while. Try restarting if it takes too long."
   ]
  },
  {
   "cell_type": "code",
   "execution_count": 4,
   "metadata": {},
   "outputs": [
    {
     "name": "stdout",
     "output_type": "stream",
     "text": [
      "[1/65] Currently searching for: ArithmeticError\n",
      "[2/65] Currently searching for: AssertionError\n",
      "[2/65] Looking deeper into: AssertionError\n",
      "[3/65] Currently searching for: AttributeError\n",
      "[3/65] Looking deeper into: AttributeError\n",
      "[4/65] Currently searching for: BaseException\n",
      "[5/65] Currently searching for: BlockingIOError\n",
      "[6/65] Currently searching for: BrokenPipeError\n",
      "[7/65] Currently searching for: BufferError\n",
      "[8/65] Currently searching for: BytesWarning\n",
      "[9/65] Currently searching for: ChildProcessError\n",
      "[10/65] Currently searching for: ConnectionAbortedError\n",
      "[11/65] Currently searching for: ConnectionError\n",
      "[12/65] Currently searching for: ConnectionRefusedError\n",
      "[13/65] Currently searching for: ConnectionResetError\n",
      "[14/65] Currently searching for: DeprecationWarning\n",
      "[15/65] Currently searching for: EOFError\n",
      "[16/65] Currently searching for: EncodingWarning\n",
      "[17/65] Currently searching for: OSError\n",
      "[18/65] Currently searching for: Exception\n",
      "[19/65] Currently searching for: FileExistsError\n",
      "[20/65] Currently searching for: FileNotFoundError\n",
      "[21/65] Currently searching for: FloatingPointError\n",
      "[22/65] Currently searching for: FutureWarning\n",
      "[23/65] Currently searching for: GeneratorExit\n",
      "[24/65] Currently searching for: ImportError\n",
      "[25/65] Currently searching for: ImportWarning\n",
      "[26/65] Currently searching for: IndentationError\n",
      "[27/65] Currently searching for: IndexError\n",
      "[28/65] Currently searching for: InterruptedError\n",
      "[29/65] Currently searching for: IsADirectoryError\n",
      "[30/65] Currently searching for: KeyError\n",
      "[31/65] Currently searching for: KeyboardInterrupt\n",
      "[32/65] Currently searching for: LookupError\n",
      "[33/65] Currently searching for: MemoryError\n",
      "[34/65] Currently searching for: ModuleNotFoundError\n",
      "[35/65] Currently searching for: NameError\n",
      "[36/65] Currently searching for: NotADirectoryError\n",
      "[37/65] Currently searching for: NotImplementedError\n",
      "[38/65] Currently searching for: OverflowError\n",
      "[39/65] Currently searching for: PendingDeprecationWarning\n",
      "[40/65] Currently searching for: PermissionError\n",
      "[41/65] Currently searching for: ProcessLookupError\n",
      "[42/65] Currently searching for: RecursionError\n",
      "[42/65] Looking deeper into: RecursionError\n",
      "[43/65] Currently searching for: ReferenceError\n",
      "[44/65] Currently searching for: ResourceWarning\n",
      "[45/65] Currently searching for: RuntimeError\n",
      "[46/65] Currently searching for: RuntimeWarning\n",
      "[47/65] Currently searching for: StopAsyncIteration\n",
      "[48/65] Currently searching for: StopIteration\n",
      "[49/65] Currently searching for: SyntaxError\n",
      "[49/65] Looking deeper into: SyntaxError\n",
      "[50/65] Currently searching for: SyntaxWarning\n",
      "[51/65] Currently searching for: SystemError\n",
      "[52/65] Currently searching for: SystemExit\n",
      "[53/65] Currently searching for: TabError\n",
      "[54/65] Currently searching for: TimeoutError\n",
      "[55/65] Currently searching for: TypeError\n",
      "[55/65] Looking deeper into: TypeError\n",
      "[56/65] Currently searching for: UnboundLocalError\n",
      "[57/65] Currently searching for: UnicodeDecodeError\n",
      "[58/65] Currently searching for: UnicodeEncodeError\n",
      "[59/65] Currently searching for: UnicodeError\n",
      "[60/65] Currently searching for: UnicodeTranslateError\n",
      "[61/65] Currently searching for: UnicodeWarning\n",
      "[62/65] Currently searching for: UserWarning\n",
      "[63/65] Currently searching for: ValueError\n",
      "[63/65] Looking deeper into: ValueError\n",
      "[64/65] Currently searching for: Warning\n",
      "[65/65] Currently searching for: ZeroDivisionError\n",
      "[65/65] Looking deeper into: ZeroDivisionError\n"
     ]
    }
   ],
   "source": [
    "found_exception_inputs = epp.fuzz()"
   ]
  },
  {
   "cell_type": "code",
   "execution_count": 5,
   "metadata": {},
   "outputs": [
    {
     "name": "stdout",
     "output_type": "stream",
     "text": [
      "EvoGFuzz found 7 Exception types!\n",
      "AssertionError\n",
      "AttributeError\n",
      "RecursionError\n",
      "SyntaxError\n",
      "TypeError\n",
      "ValueError\n",
      "ZeroDivisionError\n"
     ]
    }
   ],
   "source": [
    "print(f\"EvoGFuzz found {len(found_exception_inputs)} Exception types!\")\n",
    "for type, inps in found_exception_inputs.items():\n",
    "    print(type.__name__)"
   ]
  },
  {
   "attachments": {},
   "cell_type": "markdown",
   "metadata": {},
   "source": [
    "If you were lucky, you found all 7 Exceptions. The `SyntaxError` is one that wasn't coming from the calculator. Let's see what sample inputs are for each error type."
   ]
  },
  {
   "cell_type": "code",
   "execution_count": 6,
   "metadata": {},
   "outputs": [
    {
     "name": "stdout",
     "output_type": "stream",
     "text": [
      "AssertionError:\n",
      "\n",
      "is_int(-4.246)\n",
      "is_int(-44.2954)\n",
      "is_int(-29.803520)\n",
      "\n",
      "AttributeError:\n",
      "\n",
      "inc(-99032397779987807233)\n",
      "inc(-37.54775567398668)\n",
      "inc(9.511)\n",
      "\n",
      "RecursionError:\n",
      "\n",
      "factorial(8.3)\n",
      "factorial(75.877)\n",
      "factorial(43454581)\n",
      "\n",
      "SyntaxError:\n",
      "\n",
      "-305535030 / -0150\n",
      "09 / 0\n",
      "8 / -043\n",
      "\n",
      "TypeError:\n",
      "\n",
      "len(2.74)\n",
      "len(398.19)\n",
      "len(4.688)\n",
      "\n",
      "ValueError:\n",
      "\n",
      "log(-19459423582168871241929917)\n",
      "sqrt(-9.6321)\n",
      "log(-6.8)\n",
      "\n",
      "ZeroDivisionError:\n",
      "\n",
      "8903.0240794 / 0\n",
      "-5 / 0\n",
      "89 / 00\n",
      "\n"
     ]
    }
   ],
   "source": [
    "for type, inputs in found_exception_inputs.items():\n",
    "    print(f\"{type.__name__}:\")\n",
    "    print()\n",
    "    for input in list(inputs)[:3]:\n",
    "        print(str(input))\n",
    "    print()"
   ]
  },
  {
   "attachments": {},
   "cell_type": "markdown",
   "metadata": {},
   "source": [
    "The `SyntaxError` was introduced by the common mistake to not check for leading zeros in the grammar."
   ]
  },
  {
   "attachments": {},
   "cell_type": "markdown",
   "metadata": {},
   "source": [
    "### Multi Probabilistic Grammar\n",
    "\n",
    "Lastly, let's visualize the probabilities by combining all probabilistic grammars into one. "
   ]
  },
  {
   "cell_type": "code",
   "execution_count": 7,
   "metadata": {},
   "outputs": [
    {
     "name": "stdout",
     "output_type": "stream",
     "text": [
      "<start>:\n",
      "   ('<start1>', {'AssertionError': None, 'AttributeError': None, 'RecursionError': None, 'SyntaxError': None, 'TypeError': None, 'ValueError': None, 'ZeroDivisionError': None})\n",
      "<start1>:\n",
      "   ('<expr>', {'AssertionError': 0.4846, 'AttributeError': 1.0, 'RecursionError': 0.76, 'SyntaxError': 0.68, 'TypeError': 1.0, 'ValueError': 0.96, 'ZeroDivisionError': 0.9444})\n",
      " | ('<term> / <term>', {'AssertionError': 0.5154, 'AttributeError': 0.0, 'RecursionError': 0.24, 'SyntaxError': 0.32, 'TypeError': 0.0, 'ValueError': 0.04, 'ZeroDivisionError': 0.0556})\n",
      "<expr>:\n",
      "   ('<function>(<term>)', {'AssertionError': None, 'AttributeError': None, 'RecursionError': None, 'SyntaxError': None, 'TypeError': None, 'ValueError': None, 'ZeroDivisionError': None})\n",
      "<function>:\n",
      "   ('sqrt', {'AssertionError': 0.0, 'AttributeError': 0.0, 'RecursionError': 0.0, 'SyntaxError': 0.0, 'TypeError': 0.0396, 'ValueError': 0.0, 'ZeroDivisionError': 0.0})\n",
      " | ('tan', {'AssertionError': 0.0, 'AttributeError': 0.0, 'RecursionError': 0.0, 'SyntaxError': 0.3529, 'TypeError': 0.1353, 'ValueError': 0.0, 'ZeroDivisionError': 0.0})\n",
      " | ('cos', {'AssertionError': 0.0, 'AttributeError': 0.04, 'RecursionError': 0.0, 'SyntaxError': 0.1176, 'TypeError': 0.162, 'ValueError': 0.0, 'ZeroDivisionError': 0.0})\n",
      " | ('sin', {'AssertionError': 0.0, 'AttributeError': 0.0, 'RecursionError': 0.0526, 'SyntaxError': 0.2353, 'TypeError': 0.2007, 'ValueError': 0.0, 'ZeroDivisionError': 1.0})\n",
      " | ('log', {'AssertionError': 0.0, 'AttributeError': 0.0, 'RecursionError': 0.0, 'SyntaxError': 0.1176, 'TypeError': 0.0405, 'ValueError': 1.0, 'ZeroDivisionError': 0.0})\n",
      " | ('len', {'AssertionError': 0.0, 'AttributeError': 0.0, 'RecursionError': 0.0, 'SyntaxError': 0.0588, 'TypeError': 0.1229, 'ValueError': 0.0, 'ZeroDivisionError': 0.0})\n",
      " | ('inc', {'AssertionError': 0.0, 'AttributeError': 0.96, 'RecursionError': 0.0, 'SyntaxError': 0.0, 'TypeError': 0.1346, 'ValueError': 0.0, 'ZeroDivisionError': 0.0})\n",
      " | ('factorial', {'AssertionError': 0.0, 'AttributeError': 0.0, 'RecursionError': 0.9474, 'SyntaxError': 0.0, 'TypeError': 0.0573, 'ValueError': 0.0, 'ZeroDivisionError': 0.0})\n",
      " | ('is_int', {'AssertionError': 1.0, 'AttributeError': 0.0, 'RecursionError': 0.0, 'SyntaxError': 0.1176, 'TypeError': 0.107, 'ValueError': 0.0, 'ZeroDivisionError': 0.0})\n",
      "<term>:\n",
      "   ('-<value>', {'AssertionError': 0.5417, 'AttributeError': 0.5817, 'RecursionError': 0.0323, 'SyntaxError': 0.3939, 'TypeError': 0.6522, 'ValueError': 0.8077, 'ZeroDivisionError': 0.0})\n",
      " | ('<value>', {'AssertionError': 0.4583, 'AttributeError': 0.4183, 'RecursionError': 0.9677, 'SyntaxError': 0.6061, 'TypeError': 0.3478, 'ValueError': 0.1923, 'ZeroDivisionError': 1.0})\n",
      "<value>:\n",
      "   ('<integer>.<integer>', {'AssertionError': 1.0, 'AttributeError': 0.92, 'RecursionError': 0.2665, 'SyntaxError': 0.9697, 'TypeError': 1.0, 'ValueError': 0.7819, 'ZeroDivisionError': 0.4737})\n",
      " | ('<integer>', {'AssertionError': 0.0, 'AttributeError': 0.08, 'RecursionError': 0.7335, 'SyntaxError': 0.0303, 'TypeError': 0.0, 'ValueError': 0.2181, 'ZeroDivisionError': 0.5263})\n",
      "<integer>:\n",
      "   ('<digit><integer>', {'AssertionError': 0.3766, 'AttributeError': 0.6471, 'RecursionError': 0.4904, 'SyntaxError': 0.5667, 'TypeError': 0.4321, 'ValueError': 0.8452, 'ZeroDivisionError': 0.1749})\n",
      " | ('<digit>', {'AssertionError': 0.6234, 'AttributeError': 0.3529, 'RecursionError': 0.5096, 'SyntaxError': 0.4333, 'TypeError': 0.5679, 'ValueError': 0.1548, 'ZeroDivisionError': 0.8251})\n",
      "<digit>:\n",
      "   ('1', {'AssertionError': 0.026, 'AttributeError': 0.2059, 'RecursionError': 0.0288, 'SyntaxError': 0.0466, 'TypeError': 0.2469, 'ValueError': 0.096, 'ZeroDivisionError': 0.1})\n",
      " | ('2', {'AssertionError': 0.1429, 'AttributeError': 0.1618, 'RecursionError': 0.0481, 'SyntaxError': 0.0071, 'TypeError': 0.0, 'ValueError': 0.0093, 'ZeroDivisionError': 0.15})\n",
      " | ('3', {'AssertionError': 0.1429, 'AttributeError': 0.0368, 'RecursionError': 0.0481, 'SyntaxError': 0.0258, 'TypeError': 0.284, 'ValueError': 0.1703, 'ZeroDivisionError': 0.0})\n",
      " | ('4', {'AssertionError': 0.1169, 'AttributeError': 0.0735, 'RecursionError': 0.0577, 'SyntaxError': 0.1333, 'TypeError': 0.1358, 'ValueError': 0.0433, 'ZeroDivisionError': 0.1375})\n",
      " | ('5', {'AssertionError': 0.013, 'AttributeError': 0.0, 'RecursionError': 0.1058, 'SyntaxError': 0.1489, 'TypeError': 0.0617, 'ValueError': 0.0774, 'ZeroDivisionError': 0.1625})\n",
      " | ('6', {'AssertionError': 0.026, 'AttributeError': 0.2059, 'RecursionError': 0.1538, 'SyntaxError': 0.1703, 'TypeError': 0.0123, 'ValueError': 0.1331, 'ZeroDivisionError': 0.225})\n",
      " | ('7', {'AssertionError': 0.1558, 'AttributeError': 0.0662, 'RecursionError': 0.0, 'SyntaxError': 0.1595, 'TypeError': 0.0247, 'ValueError': 0.1517, 'ZeroDivisionError': 0.1})\n",
      " | ('8', {'AssertionError': 0.1429, 'AttributeError': 0.0515, 'RecursionError': 0.2788, 'SyntaxError': 0.1487, 'TypeError': 0.1235, 'ValueError': 0.0, 'ZeroDivisionError': 0.125})\n",
      " | ('9', {'AssertionError': 0.1169, 'AttributeError': 0.1544, 'RecursionError': 0.2212, 'SyntaxError': 0.1578, 'TypeError': 0.1111, 'ValueError': 0.1827, 'ZeroDivisionError': 0.0})\n",
      " | ('0', {'AssertionError': 0.1169, 'AttributeError': 0.0441, 'RecursionError': 0.0577, 'SyntaxError': 0.002, 'TypeError': 0.0, 'ValueError': 0.1362, 'ZeroDivisionError': 0.0})\n",
      "\n"
     ]
    }
   ],
   "source": [
    "print(epp.get_last_grammar())"
   ]
  }
 ],
 "metadata": {
  "kernelspec": {
   "display_name": "venv",
   "language": "python",
   "name": "python3"
  },
  "language_info": {
   "codemirror_mode": {
    "name": "ipython",
    "version": 3
   },
   "file_extension": ".py",
   "mimetype": "text/x-python",
   "name": "python",
   "nbconvert_exporter": "python",
   "pygments_lexer": "ipython3",
   "version": "3.10.6"
  },
  "orig_nbformat": 4
 },
 "nbformat": 4,
 "nbformat_minor": 2
}
