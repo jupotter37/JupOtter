{
 "cells": [
  {
   "cell_type": "markdown",
   "id": "04a10972-f9e7-4b47-8592-7cb1ced26903",
   "metadata": {},
   "source": [
    "**Exception Handling**\n",
    "\n",
    "Python exception handling is a way to manage and respond to errors in your code, allowing your program to continue running or exiting gracefully when something goes wrong.\n",
    "\n",
    "**Python Built-in Exception Handling**\n",
    "\n",
    "Exception - ArithmeticError - OverflowError - ZeroDivisionError - ValueError - TypeError - IndexError - KeyError - FileNotFoundError - IOError - ImportError - AttributeError - RuntimeError - SyntaxError"
   ]
  },
  {
   "cell_type": "code",
   "execution_count": 15,
   "id": "8a2d154f-78b3-431f-9f6c-73f0eaaab058",
   "metadata": {},
   "outputs": [
    {
     "name": "stdout",
     "output_type": "stream",
     "text": [
      "Error: This library does not exist.\n"
     ]
    }
   ],
   "source": [
    "# ImportError -> raised when a library does not exist\n",
    "\n",
    "try:\n",
    "    # attempt to import a non-existent library\n",
    "    import randomLibrary\n",
    "\n",
    "except ImportError:\n",
    "    # handle the error if the library does not exist\n",
    "    print(\"Error: This library does not exist.\")"
   ]
  },
  {
   "cell_type": "code",
   "execution_count": 16,
   "id": "ca8e6cfc-223e-4935-9227-c4a6b61ad385",
   "metadata": {},
   "outputs": [
    {
     "name": "stdout",
     "output_type": "stream",
     "text": [
      "Error: File does not exist. [Errno 2] No such file or directory: 'non-existant-file.csv'\n"
     ]
    }
   ],
   "source": [
    "# IOError -> raised when input/output operation fails.\n",
    "# e.g, opening a file that dos not exist/cannot be accessed.\n",
    "\n",
    "try:\n",
    "    # attempt to open a file that does not exist\n",
    "    with open(\"non-existant-file.csv\", \"r\") as file:\n",
    "        content = file.read()\n",
    "        \n",
    "except IOError as e:\n",
    "    # handle the error if the file cannot be opened\n",
    "    print(f\"Error: File does not exist. {e}\")"
   ]
  },
  {
   "cell_type": "code",
   "execution_count": 17,
   "id": "ceaa8109-3e36-421b-9c23-32305293eebe",
   "metadata": {},
   "outputs": [
    {
     "name": "stdout",
     "output_type": "stream",
     "text": [
      "FileNotFoundError occurred: [Errno 2] No such file or directory: 'non_existent_file.txt'\n"
     ]
    }
   ],
   "source": [
    "# recommended to use when dealing with file-related issues.\n",
    "\n",
    "try:\n",
    "    with open('non_existent_file.txt', 'r') as file:\n",
    "        content = file.read()\n",
    "        \n",
    "except FileNotFoundError as e:\n",
    "    print(f\"FileNotFoundError occurred: {e}\")\n"
   ]
  },
  {
   "cell_type": "code",
   "execution_count": 25,
   "id": "c551c9f6-9743-43ff-ae92-718ae18e0f0d",
   "metadata": {},
   "outputs": [
    {
     "name": "stdout",
     "output_type": "stream",
     "text": [
      "5 + 9 = 14\n",
      "Incorrect type.\n"
     ]
    }
   ],
   "source": [
    "# TypeError\n",
    "\n",
    "def sum_of_two_nums(num1, num2):\n",
    "    \"\"\"adds two arguments and prints the result\"\"\"\n",
    "    print(f\"{num1} + {num2} =\", num1 + num2)\n",
    "\n",
    "\n",
    "try:\n",
    "    # this will pass as we are passing two integers\n",
    "    sum_of_two_nums(5, 9)\n",
    "    # this will fail as we are passing an int and a string\n",
    "    sum_of_two_nums(5, \"a\")\n",
    "except TypeError:\n",
    "    # handle the error if the types are incorrect\n",
    "    print(\"Incorrect type.\")"
   ]
  },
  {
   "cell_type": "code",
   "execution_count": null,
   "id": "bf31df2c-8329-43d2-b72e-29866e73433a",
   "metadata": {},
   "outputs": [],
   "source": []
  }
 ],
 "metadata": {
  "kernelspec": {
   "display_name": "Python 3 (ipykernel)",
   "language": "python",
   "name": "python3"
  },
  "language_info": {
   "codemirror_mode": {
    "name": "ipython",
    "version": 3
   },
   "file_extension": ".py",
   "mimetype": "text/x-python",
   "name": "python",
   "nbconvert_exporter": "python",
   "pygments_lexer": "ipython3",
   "version": "3.10.12"
  }
 },
 "nbformat": 4,
 "nbformat_minor": 5
}
