{
 "cells": [
  {
   "cell_type": "markdown",
   "id": "51bda19e-5459-4859-8221-9d1b40a26042",
   "metadata": {},
   "source": [
    "### Q1. Explain why we have to use the Exception class while creating a Custom Exception.\n",
    "\n",
    "The Exception class provides a set of methods and attributes that are used by all exceptions in Python, such as the `__str__()` method, which returns a string representation of the exception, and the `args` attribute, which stores any arguments that were passed to the exception.\n",
    "\n",
    "By inheriting from the Exception class, custom exceptions can inherit these methods and attributes, and can also be caught and handled using the same syntax as built-in exceptions in Python.\n",
    "\n",
    "Therefore, the Exception class is used while creating a custom exception to ensure that the new exception inherits the necessary methods and attributes from the base Exception class, and to ensure that the new exception can be caught and handled using the same syntax as built-in exceptions in Python."
   ]
  },
  {
   "cell_type": "code",
   "execution_count": 9,
   "id": "e404e72e-2190-4d1b-b95a-0a24fe76fb13",
   "metadata": {},
   "outputs": [],
   "source": [
    "import logging"
   ]
  },
  {
   "cell_type": "code",
   "execution_count": 1,
   "id": "67229c1f-073a-4c4e-9688-c7d32275ecef",
   "metadata": {},
   "outputs": [
    {
     "name": "stdin",
     "output_type": "stream",
     "text": [
      "Enter a number:  2\n"
     ]
    },
    {
     "name": "stdout",
     "output_type": "stream",
     "text": [
      "Result = 50.0\n",
      "Done ❤️‍\n"
     ]
    }
   ],
   "source": [
    "## Q2. Write a python program to print Python Exception Hierarchy.\n",
    "\n",
    "try:\n",
    "    x = int(input(\"Enter a number: \"))\n",
    "    result = 100 / x\n",
    "except ( ValueError,ZeroDivisionError):\n",
    "    print(\"Invalid input\")\n",
    "else:\n",
    "    print(\"Result =\", result)\n",
    "finally:\n",
    "    print(\"Done ❤️‍\")\n"
   ]
  },
  {
   "cell_type": "markdown",
   "id": "31ed09fc-6729-4dd0-9d84-ee789cdd70dd",
   "metadata": {},
   "source": [
    "### Q3. What errors are defined in the ArithmeticError class? Explain any two with an example.\n",
    "\n",
    "The ArithmeticError class is a base class for all the exceptions that occur due to numerical computations. The ArithmeticError class has many derived classes, which are used to handle specific arithmetic errors. Some of the commonly used derived classes of ArithmeticError are:\n",
    "\n",
    "`ZeroDivisionError`: Raised when we try to divide a number by zero.\n",
    "\n",
    "`OverflowError`: Raised when the result of an arithmetic operation is too large to be represented by the available memory."
   ]
  },
  {
   "cell_type": "code",
   "execution_count": 8,
   "id": "4c1c18c7-37d0-4fd1-b807-040a4f3209e1",
   "metadata": {},
   "outputs": [
    {
     "name": "stdout",
     "output_type": "stream",
     "text": [
      "Error: division by zero\n",
      "Error: Result too large to represent!\n"
     ]
    }
   ],
   "source": [
    "#Example 1: ZeroDivisionError\n",
    "try:\n",
    "    result = 1 / 0\n",
    "    print(\"Result: \", result)\n",
    "except ZeroDivisionError as e:\n",
    "    print(\"Error:\", e)\n",
    "    \n",
    "    \n",
    "#Example 2: OverflowError \n",
    "import math\n",
    "\n",
    "try:\n",
    "    x = math.exp(1000)\n",
    "    print(\"Result: \", x)\n",
    "except OverflowError:\n",
    "    print(\"Error: Result too large to represent!\")\n"
   ]
  },
  {
   "cell_type": "markdown",
   "id": "7ceb2952-f0e2-42a0-8278-78b833c2ca6d",
   "metadata": {},
   "source": [
    "### Q4. Why LookupError class is used? Explain with an example KeyError and IndexError\n",
    "\n",
    "The `LookupError` class is the base class for all lookup errors in Python. It is used to handle errors that occur when trying to access an item in a collection using an invalid key or index.\n",
    "\n",
    "Two commonly used derived classes of LookupError are `KeyError` and `IndexError`."
   ]
  },
  {
   "cell_type": "code",
   "execution_count": 13,
   "id": "b7a8190f-07f1-4cde-bb25-ff14f27d307f",
   "metadata": {},
   "outputs": [],
   "source": [
    "#Example of key error :\n",
    "d = {'key1': 1, 'key2':2, 'key3': 3}\n",
    "try:\n",
    "    print(d['key10'])\n",
    "except KeyError as e:\n",
    "    logging.basicConfig(filename=  'test.log', level = logging.ERROR)\n",
    "    \n",
    "# Example of  IndexError\n",
    "a = [1, 2, 3]\n",
    "\n",
    "try:\n",
    "    print(a[3])\n",
    "except IndexError as e:\n",
    "    logging.error(f\"Index Error msg : {e}\")\n",
    "\n",
    "    "
   ]
  },
  {
   "cell_type": "markdown",
   "id": "a8e1415b-7c7c-469e-a60e-abbe738b026a",
   "metadata": {},
   "source": [
    "### Q5. Explain ImportError. What is ModuleNotFoundError?\n",
    "\n",
    "`ImportError` is an exception that is raised when an imported module or package cannot be found or loaded. This can happen if the module does not exist, if the name of the module is misspelled, or if the module is not located in any of the directories in the Python path.\n"
   ]
  },
  {
   "cell_type": "code",
   "execution_count": 14,
   "id": "c35dd6ce-6ef8-44ca-8297-fae2d54e078e",
   "metadata": {},
   "outputs": [],
   "source": [
    "try : \n",
    "    import module_doest_not_exist\n",
    "except ModuleNotFoundError as e :\n",
    "    logging.error(f\"Error Module not found: {e}\")"
   ]
  },
  {
   "cell_type": "markdown",
   "id": "c443c00c-9f1b-445c-a601-6a2ec799be88",
   "metadata": {},
   "source": [
    "### Q6. List down some best practices for exception handling in python.\n",
    "\n",
    "* Catch specific exceptions: Instead of catching all exceptions with a broad Exception statement, it's better to catch specific exceptions that you expect might be raised. This will make your code more precise and easier to debug.\n",
    "\n",
    "* Use try-except-finally: The try block is where you put your code that may raise an exception, the except block is where you handle the exception, and the finally block is where you put code that should always run, whether or not an exception was raised.\n",
    "\n",
    "* Use multiple except blocks: You can use multiple except blocks to catch different types of exceptions.\n",
    "\n",
    "* Don't suppress exceptions: It's generally not a good idea to suppress exceptions by catching them and doing nothing. At the very least, you should log the exception or print an error message so that you know something went wrong.\n",
    "\n",
    "* Use the with statement: When working with resources that need to be closed (like files or network connections), it's best to use the with statement. This ensures that the resource is properly closed, even if an exception is raised.\n",
    "\n",
    "* Use descriptive error messages: When raising exceptions, use descriptive error messages that explain what went wrong and how to fix it.\n",
    "\n",
    "* Use Logging to catch all the errors in a particular file in an organised way"
   ]
  },
  {
   "cell_type": "code",
   "execution_count": null,
   "id": "560e79e2-21b4-43ab-adfa-f7148016df87",
   "metadata": {},
   "outputs": [],
   "source": []
  }
 ],
 "metadata": {
  "kernelspec": {
   "display_name": "Python 3 (ipykernel)",
   "language": "python",
   "name": "python3"
  },
  "language_info": {
   "codemirror_mode": {
    "name": "ipython",
    "version": 3
   },
   "file_extension": ".py",
   "mimetype": "text/x-python",
   "name": "python",
   "nbconvert_exporter": "python",
   "pygments_lexer": "ipython3",
   "version": "3.10.8"
  }
 },
 "nbformat": 4,
 "nbformat_minor": 5
}
