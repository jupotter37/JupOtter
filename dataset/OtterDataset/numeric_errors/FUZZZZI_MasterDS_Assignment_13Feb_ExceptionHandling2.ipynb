Q1. Explain why we have to use the Exception class while creating a Custom Exception.
Note: Here Exception class refers to the base class for all the exceptions.
Ans.
In Python, we can define our own exceptions by creating a new class that 
inherits from the built-in Exception class or one of its subclasses.

The reason we inherit from the Exception class is because it provides a 
standard interface for handling and raising exceptions in Python. The Exception 
class defines several methods that we can use to customize the behavior of our 
custom exception, such as __init__ for initializing the exception and __str__ 
for converting the exception to a string representation.

Inheriting from the Exception class also ensures that our custom exception can 
be caught by a broad range of exception handling constructs in Python, such as 
the try...except block.

Therefore, using the Exception class as the base class for our custom exception 
provides a consistent and well-defined approach to handling and raising exceptions in Python.

Q2. Write a python program to print Python Exception Hierarchy.
Ans.
# For printing the hierarchy for inbuilt exceptions:  
# First, we will import the inspect module       
import inspect as ipt

# Then we will create tree_class function
def tree_class(cls, ind = 0):
    
    # Then we will print the name of the class 
    print ('-' * ind, cls.__name__)
    
    # now, we will iterate through the subclasses 
    for i in cls.__subclasses__():  
        tree_class(i, ind + 3) 
print ("The Hierarchy for inbuilt exceptions is: ")

# THE inspect.getmro() will return the tuple   
# of class  which is cls's base classes.  
ipt.getclasstree(ipt.getmro(BaseException))
tree_class(BaseException) 

Q3. What errors are defined in the ArithmeticError class? Explain any two 
with an example.
Ans.
ArithmeticError raised for various arithmetic errors
OverflowError
ZeroDivisionError
FloatingPointError

ZeroDivisionError exception occurs when a number is divided by 0

# ZeroDivisionError
try :
    10 / 0
except Exception as e :
    print(e)

An OverflowError exception is raised when an arithmetic operation exceeds 
the limits to be represented

# OverflowError
j = 5.0

for i in range(1, 1000):
    j = j**i
    print(j)
    
Q4. Why LookupError class is used? Explain with an example KeyError and IndexError.
Ans.
The LookupError exception in Python forms the base class for all exceptions 
that are raised when an index or a key is not found for a sequence or 
dictionary respectively.

IndexError error occurs when an attempt is made to access an item in a list at 
an index which is out of bounds.

# IndexError
l = [1,2,3,3]
l[10]
KeyError is raised when a mapping key is accessed and isn't found in the mapping.

# KeyError
d = {1: [3,4,5,6] , "key" :"sudh"}
d["key10"]

Q5. Explain ImportError. What is ModuleNotFoundError?
Ans.
The ImportError is raised when an import statement has trouble successfully 
importing the specified module.

It may occur due to -

Module name not found
Circular import

ModuleNotFoundError:-
This error occurs when you're trying to access or use a module that cannot 
be found.

Q6. List down some best practices for exception handling in python.
Ans.
Always use specific exception
Print always a valid msg
Always avoid to write a multiple exception handling
Always try to log the error
Prepare a proper documnetation