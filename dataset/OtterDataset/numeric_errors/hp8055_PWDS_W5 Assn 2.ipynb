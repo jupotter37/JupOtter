{
 "cells": [
  {
   "cell_type": "code",
   "execution_count": 2,
   "id": "4cfc38d1-2e13-4803-bb28-516fd5348023",
   "metadata": {},
   "outputs": [],
   "source": [
    "# Q1\n",
    "# In Python, when creating a custom exception, it's essential to inherit from the built-in `Exception` class or one of its subclasses. Here's why:\n",
    "\n",
    "# 1. **Consistency and Compatibility**: Inheriting from the `Exception` class ensures that your custom exception behaves like other standard exceptions in Python. This consistency is crucial for developers who may handle your custom exception alongside built-in exceptions. If your custom exception does not inherit from `Exception`, it might not be caught by general exception handling mechanisms.\n",
    "\n",
    "# 2. **Hierarchy and Organization**: Inheriting from `Exception` allows your custom exception to be part of the exception hierarchy. Python's exception hierarchy provides a structured way to organize and categorize different types of exceptions. By inheriting from `Exception`, your custom exception becomes part of this hierarchy, making it easier to understand its relationship to other exceptions.\n",
    "\n",
    "# 3. **Interoperability**: Inheriting from `Exception` ensures interoperability with existing code and libraries that expect exceptions to be subclasses of `Exception`. This interoperability ensures that your custom exception can be used seamlessly in various contexts, including third-party libraries and frameworks.\n",
    "\n",
    "# 4. **Exception Handling**: Inheriting from `Exception` allows you to leverage Python's built-in exception handling mechanisms, such as `try-except` blocks. When you raise your custom exception, code that catches exceptions using `except Exception:` or `except:` will also catch your custom exception, providing consistent error handling across your application.\n",
    "\n",
    "# By inheriting from the `Exception` class, you ensure that your custom exception is consistent, compatible, and interoperable with the rest of the Python ecosystem, making it easier to use and maintain in your codebase."
   ]
  },
  {
   "cell_type": "code",
   "execution_count": 4,
   "id": "287d6e7b-b435-4e89-9fa6-5b7613d9f1f1",
   "metadata": {},
   "outputs": [],
   "source": [
    "# #Q2\n",
    "# import inspect\n",
    "\n",
    "# def print_exception_hierarchy(exception_cls, indent=0):\n",
    "#     print(' ' * indent + exception_cls.__name__)\n",
    "#     for subclass in exception_cls.__subclasses__():\n",
    "#         print_exception_hierarchy(subclass, indent + 2)\n",
    "\n",
    "# print(\"Python Exception Hierarchy:\")\n",
    "# print_exception_hierarchy(BaseException)\n"
   ]
  },
  {
   "cell_type": "code",
   "execution_count": 8,
   "id": "8089210a-8373-41cd-8dc6-a23428726b96",
   "metadata": {},
   "outputs": [],
   "source": [
    "# Q3\n",
    "# The ArithmeticError class serves as the base class for exceptions that occur during arithmetic operations. Two common errors defined in the ArithmeticError class are ZeroDivisionError and OverflowError."
   ]
  },
  {
   "cell_type": "code",
   "execution_count": 9,
   "id": "72fa82ab-ff39-4147-963e-84f9a0573ade",
   "metadata": {},
   "outputs": [
    {
     "name": "stdout",
     "output_type": "stream",
     "text": [
      "Error: Cannot divide by zero\n"
     ]
    }
   ],
   "source": [
    "try:\n",
    "    result = 10 / 0\n",
    "except ZeroDivisionError:\n",
    "    print(\"Error: Cannot divide by zero\")\n"
   ]
  },
  {
   "cell_type": "code",
   "execution_count": 12,
   "id": "a7afebeb-521d-44ea-aaf2-a83741b2ed92",
   "metadata": {},
   "outputs": [],
   "source": [
    "try:\n",
    "    result = 2 ** 10000  # Exponential operation causing overflow\n",
    "except OverflowError:\n",
    "    print(\"Error: Arithmetic operation resulted in overflow\")\n"
   ]
  },
  {
   "cell_type": "code",
   "execution_count": null,
   "id": "880212e4-e4c6-43be-85d8-8dd6be8cb26d",
   "metadata": {},
   "outputs": [],
   "source": [
    "#Q4\n",
    "# The LookupError class in Python serves as the base class for exceptions that occur when a key or index used to access a collection is invalid. It provides a common base for more specific lookup-related exceptions like KeyError and IndexError."
   ]
  },
  {
   "cell_type": "code",
   "execution_count": 6,
   "id": "07a4e09a-50d6-4133-8fd6-6d4099f1a9d0",
   "metadata": {},
   "outputs": [
    {
     "name": "stdout",
     "output_type": "stream",
     "text": [
      "Key not found error\n"
     ]
    }
   ],
   "source": [
    "my_dict = {'a':1,'b':2,'c':3}\n",
    "try:\n",
    "    my_dict['d']\n",
    "    \n",
    "except KeyError:\n",
    "    print(\"Key not found error\")"
   ]
  },
  {
   "cell_type": "code",
   "execution_count": 8,
   "id": "cdb523f2-4448-4d78-98b4-c25f152a9cb8",
   "metadata": {},
   "outputs": [
    {
     "name": "stdout",
     "output_type": "stream",
     "text": [
      "Index not found buddy\n"
     ]
    }
   ],
   "source": [
    "a = [1,2,34,6]\n",
    "try:\n",
    "    a[10]\n",
    "except IndexError:\n",
    "    print('Index not found buddy')"
   ]
  },
  {
   "cell_type": "code",
   "execution_count": 9,
   "id": "2d2ef0f2-812d-4218-b095-52cdb92fae71",
   "metadata": {},
   "outputs": [],
   "source": [
    "#Q5\n",
    "# ImportError: Occurs when Python cannot import a module due to various reasons, such as the module not being installed, a syntax error in the module, or an issue with the module's dependencies.\n",
    "\n",
    "# ModuleNotFoundError: A specific subclass of ImportError introduced in Python 3.6. It occurs when Python cannot locate the module specified in the import statement, typically because the module doesn't exist or is not in the Python path."
   ]
  },
  {
   "cell_type": "code",
   "execution_count": 11,
   "id": "a5cadf67-3026-47fb-8472-a8d3cbebcd34",
   "metadata": {},
   "outputs": [
    {
     "name": "stdout",
     "output_type": "stream",
     "text": [
      "Import module not found brother\n"
     ]
    }
   ],
   "source": [
    "try:\n",
    "    import bablu\n",
    "except ImportError:\n",
    "    print('Import module not found brother')"
   ]
  },
  {
   "cell_type": "code",
   "execution_count": 12,
   "id": "80c4a349-50a6-488f-97ad-b4ef7d42e89b",
   "metadata": {},
   "outputs": [],
   "source": [
    "# #Q6\n",
    "# Certainly! Exception handling is a crucial aspect of writing robust and maintainable Python code. Here are some best practices for exception handling in Python:\n",
    "\n",
    "# 1. **Specificity**: Catch specific exceptions rather than using broad `except` blocks. This allows you to handle different types of errors appropriately and avoids catching unexpected exceptions.\n",
    "\n",
    "# 2. **Use `try-except` Blocks**: Wrap the code that may raise an exception in a `try` block and handle the exception in an `except` block. This helps in gracefully handling errors and preventing the program from crashing.\n",
    "\n",
    "# 3. **Handle Exceptions Appropriately**: Handle exceptions in a way that makes sense for your application. This could involve logging the error, displaying a user-friendly error message, or taking corrective actions to recover from the error.\n",
    "\n",
    "# 4. **Avoid Bare Except Blocks**: Avoid using bare `except` blocks without specifying the type of exception to catch. This can mask errors and make debugging difficult. Instead, catch specific exceptions or use `except Exception` if you need to catch all exceptions.\n",
    "\n",
    "# 5. **Cleanup with `finally`**: Use the `finally` block to ensure that cleanup code (e.g., closing files or releasing resources) is always executed, regardless of whether an exception occurs.\n",
    "\n",
    "# 6. **Don't Suppress Exceptions**: Avoid suppressing exceptions without appropriate handling. If you catch an exception, make sure to handle it appropriately or re-raise it if necessary.\n",
    "\n",
    "# 7. **Keep Exception Handling Localized**: Handle exceptions at the appropriate level of abstraction and localize exception handling to the code that can handle it best. This helps in maintaining clean and readable code.\n",
    "\n",
    "# 8. **Use Context Managers**: Use context managers (e.g., `with` statement) to automatically handle resource management and cleanup. Context managers ensure that resources are properly released even if an exception occurs.\n",
    "\n",
    "# 9. **Use Custom Exceptions**: Define custom exception classes for specific error conditions in your application. This makes error handling more descriptive and allows you to differentiate between different types of errors.\n",
    "\n",
    "# 10. **Test Exception Handling**: Test your exception handling code to ensure that it behaves as expected in various error scenarios. Write unit tests to cover different paths of exception handling in your code.\n",
    "\n",
    "# By following these best practices, you can improve the reliability, maintainability, and readability of your Python code, and effectively handle errors and exceptions in your applications."
   ]
  },
  {
   "cell_type": "code",
   "execution_count": null,
   "id": "1f07f672-c899-468f-bae6-070bafd39442",
   "metadata": {},
   "outputs": [],
   "source": []
  }
 ],
 "metadata": {
  "kernelspec": {
   "display_name": "Python 3 (ipykernel)",
   "language": "python",
   "name": "python3"
  },
  "language_info": {
   "codemirror_mode": {
    "name": "ipython",
    "version": 3
   },
   "file_extension": ".py",
   "mimetype": "text/x-python",
   "name": "python",
   "nbconvert_exporter": "python",
   "pygments_lexer": "ipython3",
   "version": "3.10.8"
  }
 },
 "nbformat": 4,
 "nbformat_minor": 5
}
