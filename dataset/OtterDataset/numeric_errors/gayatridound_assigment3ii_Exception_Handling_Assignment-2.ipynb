{
 "cells": [
  {
   "cell_type": "raw",
   "id": "880f7859-60f8-4403-928c-816887b4a1d7",
   "metadata": {},
   "source": [
    "Q1 Explain Why we have to use the Exception class while creating a Custom Exception."
   ]
  },
  {
   "cell_type": "markdown",
   "id": "509b6ed9-902f-4aa8-b6bb-dc3cce4a06de",
   "metadata": {},
   "source": [
    "Inheriting from the Exception class is fundamental when creating custom exceptions in languages like Python and Java for several reasons:\n",
    "\n",
    "1. Leverage the Exception Hierarchy:\n",
    "Polymorphism: By inheriting from Exception, custom exceptions become part of the exception hierarchy. This allows for generic exception handling mechanisms to catch them, providing flexibility.\n",
    "Standard Methods: The Exception class offers methods like getMessage(), str(), and args which can be used for retrieving error details, making it easier to provide informative error messages.\n",
    "2. Consistency and Compatibility:\n",
    "Familiar Behavior: Users of your code expect exceptions to behave in a certain way. Inheriting from Exception ensures that your custom exceptions align with this behavior, making them predictable and easier to handle.\n",
    "Tool Integration: Many development tools and frameworks are designed to work with exceptions. By inheriting from Exception, your custom exceptions can be seamlessly integrated into these environments.\n",
    "3. Clarity and Specificity:\n",
    "Custom Error Types: Creating custom exceptions allows you to define specific error conditions that are relevant to your application's domain. This improves code readability and maintainability.\n",
    "Detailed Error Information: You can add custom attributes or methods to your exception class to provide more context about the error, aiding in debugging and troubleshooting.\n",
    "4. Exception Handling Mechanisms:\n",
    "try-except Blocks: Custom exceptions can be caught in try-except blocks, enabling appropriate error handling and recovery.\n",
    "Raising Exceptions: You can raise custom exceptions to signal errors and interrupt program flow when necessary."
   ]
  },
  {
   "cell_type": "raw",
   "id": "183b3e61-f0b1-4668-930c-8b9d5e8534c2",
   "metadata": {},
   "source": [
    "Q2 Write a python program to print python Exception Hiearchy."
   ]
  },
  {
   "cell_type": "code",
   "execution_count": null,
   "id": "69a9c768-9e10-4590-94db-86f0c0c66574",
   "metadata": {},
   "outputs": [],
   "source": [
    "import inspect\n",
    "\n",
    "def print_exception_hierarchy(cls, indent=0):\n",
    "    \"\"\"Prints the exception hierarchy for a given class.\"\"\"\n",
    "    print(\"-\" * indent, cls.__name__)\n",
    "    for subclass in cls.__subclasses__():\n",
    "        print_exception_hierarchy(subclass, indent + 4)\n",
    "\n",
    "print(\"Python Exception Hierarchy:\")\n",
    "print_exception_hierarchy(BaseException)\n"
   ]
  },
  {
   "cell_type": "raw",
   "id": "322c5637-52da-40b8-82bf-032032fc681a",
   "metadata": {},
   "source": [
    "Q3.What errors are defined in the ArithmeticError class? Explain any two with an example."
   ]
  },
  {
   "cell_type": "code",
   "execution_count": null,
   "id": "304dd02b-6821-4a45-b75c-b52fd6f6e2a0",
   "metadata": {},
   "outputs": [],
   "source": [
    "try:\n",
    "    result = 10 / 0\n",
    "except ZeroDivisionError:\n",
    "    print(\"Division by zero error!\")\n"
   ]
  },
  {
   "cell_type": "code",
   "execution_count": null,
   "id": "3673b737-b419-458f-9b88-42b76659d720",
   "metadata": {},
   "outputs": [],
   "source": [
    "import sys\n",
    "\n",
    "try:\n",
    "    large_number = sys.maxsize\n",
    "    result = large_number * large_number\n",
    "except OverflowError:\n",
    "    print(\"Overflow error occurred!\")\n"
   ]
  },
  {
   "cell_type": "markdown",
   "id": "94229aac-3bb5-43c3-a73b-fa2dcbc88a00",
   "metadata": {},
   "source": [
    "1. ZeroDivisionError\n",
    "Raised when the second argument of a division or modulo operation is zero.\n",
    "2. OverflowError\n",
    "Raised when the result of an arithmetic operation is too large to be represented. This is more common in languages like C or C++, but can occur in Python under specific conditions, especially with large numbers or specific data types.\n"
   ]
  },
  {
   "cell_type": "raw",
   "id": "f99747a9-c93d-4714-8f9a-0753b97c3c92",
   "metadata": {},
   "source": [
    "Q4.Why LookupError class is used?Explain with an example keyError and IndexError."
   ]
  },
  {
   "cell_type": "markdown",
   "id": "be5ba7d5-40c1-4253-8f3d-f495b1723a7e",
   "metadata": {},
   "source": [
    "LookupError Class\n",
    "LookupError is a base class in Python used to represent errors that occur when a mapping or sequence is accessed with an improper key or index. It provides a common ancestor for exceptions related to lookups, making it easier to handle these types of errors in a general way.\n",
    "\n",
    "\n",
    "KeyError\n",
    "A KeyError is raised when you try to access a dictionary using a key that doesn't exist.\n",
    "IndexError\n",
    "An IndexError is raised when you try to access a sequence (like a list or tuple) using an index that is out of range.\n",
    "\n",
    "\n",
    "Why use LookupError?\n",
    "\n",
    "General error handling: By catching LookupError, you can handle both KeyError and IndexError in a single except block.\n",
    "Code readability: It can improve code readability by grouping related exceptions together.\n",
    "Hierarchy: It provides a clear hierarchical structure for exceptions related to lookups."
   ]
  },
  {
   "cell_type": "code",
   "execution_count": 1,
   "id": "7b243a6c-5f09-48fe-8a62-74cac7c625c5",
   "metadata": {},
   "outputs": [
    {
     "name": "stdout",
     "output_type": "stream",
     "text": [
      "Key 'c' not found in the dictionary.\n",
      "Index out of range.\n",
      "Error accessing data: 'c'\n"
     ]
    }
   ],
   "source": [
    "my_dict = {'a': 1, 'b': 2}\n",
    "try:\n",
    "    value = my_dict['c']  # KeyError will be raised\n",
    "except KeyError:\n",
    "    print(\"Key 'c' not found in the dictionary.\")\n",
    "\n",
    "    \n",
    "    \n",
    "    \n",
    "my_list = [10, 20, 30]\n",
    "try:\n",
    "    value = my_list[3]  # IndexError will be raised\n",
    "except IndexError:\n",
    "    print(\"Index out of range.\")\n",
    "\n",
    "    \n",
    "my_data = {'a': [1, 2, 3], 'b': [4, 5]}\n",
    "\n",
    "try:\n",
    "    value = my_data['c'][2]  # Might raise KeyError or IndexError\n",
    "except LookupError as e:\n",
    "    print(\"Error accessing data:\", e)\n",
    "\n",
    "    \n",
    "    "
   ]
  },
  {
   "cell_type": "raw",
   "id": "bd661a7b-e206-47eb-ac9a-304cd6d63944",
   "metadata": {},
   "source": [
    "Q5.Expalin Import Error.What is ModuleNot FoundError?"
   ]
  },
  {
   "cell_type": "markdown",
   "id": "a3f3c51e-b39f-4ecc-b529-416061b642f2",
   "metadata": {},
   "source": [
    "ImportError\n",
    "ImportError is a base class for exceptions that occur during the import process. This means any issue related to importing a module will raise an ImportError. It's a broad category that encompasses various import-related problems.\n",
    "\n",
    "ModuleNotFoundError\n",
    "ModuleNotFoundError is a more specific exception that was introduced in Python 3.6. It's a subclass of ImportError and indicates that the Python interpreter couldn't find the specified module. This error typically occurs due to:\n",
    "\n",
    "Missing module: The module is not installed in your Python environment.\n",
    "Incorrect module name: The module name is misspelled or incorrect.\n",
    "Incorrect path: The module is in a location not included in Python's search path."
   ]
  },
  {
   "cell_type": "code",
   "execution_count": null,
   "id": "1c9cb39f-5305-4e69-b8af-53b4c83d63a2",
   "metadata": {},
   "outputs": [],
   "source": [
    "import non_existent_module\n",
    "\n",
    "# This will raise a ModuleNotFoundError because the module doesn't exist\n"
   ]
  },
  {
   "cell_type": "raw",
   "id": "fe634441-a379-42d6-b566-e98050cfbe01",
   "metadata": {},
   "source": [
    "Q6.List down some best practices for exception hnadling in python."
   ]
  },
  {
   "cell_type": "raw",
   "id": "393e6c80-f7ee-473e-8bb9-3661d902992d",
   "metadata": {},
   "source": [
    "General Practices\n",
    "Use specific exceptions\n",
    "Provide informative error messages\n",
    "Log exceptions\n",
    "Use try-except-else-finally blocks\n",
    "Define custom exceptions\n",
    "Handle exceptions gracefully\n",
    "\n",
    "Specific Scenarios\n",
    "\n",
    "Keep try blocks small\n",
    "Avoid bare except clauses\n",
    "Use with statements for resource management\n",
    "Raise exceptions when appropriate\n",
    "Consider using context managers\n",
    "Test your exception handling"
   ]
  }
 ],
 "metadata": {
  "kernelspec": {
   "display_name": "Python 3 (ipykernel)",
   "language": "python",
   "name": "python3"
  },
  "language_info": {
   "codemirror_mode": {
    "name": "ipython",
    "version": 3
   },
   "file_extension": ".py",
   "mimetype": "text/x-python",
   "name": "python",
   "nbconvert_exporter": "python",
   "pygments_lexer": "ipython3",
   "version": "3.10.8"
  }
 },
 "nbformat": 4,
 "nbformat_minor": 5
}
