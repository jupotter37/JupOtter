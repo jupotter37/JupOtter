{
 "cells": [
  {
   "cell_type": "markdown",
   "metadata": {
    "toc": "true"
   },
   "source": [
    "# Table of Contents\n",
    " <p>"
   ]
  },
  {
   "cell_type": "code",
   "execution_count": 2,
   "metadata": {},
   "outputs": [],
   "source": [
    "# what does the equal sign mean in python?\n",
    "# you should care because it is everywhere in the language\n",
    "# and may complex (list) mistakes are from it\n",
    "# you change a variable in one place, and it changes it elsewhere"
   ]
  },
  {
   "cell_type": "code",
   "execution_count": 7,
   "metadata": {},
   "outputs": [
    {
     "data": {
      "text/plain": [
       "100"
      ]
     },
     "execution_count": 7,
     "metadata": {},
     "output_type": "execute_result"
    }
   ],
   "source": [
    "x = 100\n",
    "x"
   ]
  },
  {
   "cell_type": "code",
   "execution_count": 8,
   "metadata": {},
   "outputs": [
    {
     "data": {
      "text/plain": [
       "100"
      ]
     },
     "execution_count": 8,
     "metadata": {},
     "output_type": "execute_result"
    }
   ],
   "source": [
    "y = x\n",
    "y"
   ]
  },
  {
   "cell_type": "code",
   "execution_count": 9,
   "metadata": {},
   "outputs": [
    {
     "data": {
      "text/plain": [
       "'foo'"
      ]
     },
     "execution_count": 9,
     "metadata": {},
     "output_type": "execute_result"
    }
   ],
   "source": [
    "y = 'foo'\n",
    "y"
   ]
  },
  {
   "cell_type": "code",
   "execution_count": 10,
   "metadata": {},
   "outputs": [
    {
     "name": "stdout",
     "output_type": "stream",
     "text": [
      "100\n"
     ]
    }
   ],
   "source": [
    "print(x)"
   ]
  },
  {
   "cell_type": "code",
   "execution_count": 11,
   "metadata": {},
   "outputs": [],
   "source": [
    "# awesome that all makes sense\n",
    "# this is what we expect"
   ]
  },
  {
   "cell_type": "code",
   "execution_count": 13,
   "metadata": {},
   "outputs": [
    {
     "data": {
      "text/plain": [
       "[100, 200, 300]"
      ]
     },
     "execution_count": 13,
     "metadata": {},
     "output_type": "execute_result"
    }
   ],
   "source": [
    "x = [100, 200, 300]\n",
    "x"
   ]
  },
  {
   "cell_type": "code",
   "execution_count": 15,
   "metadata": {},
   "outputs": [
    {
     "data": {
      "text/plain": [
       "[100, 200, 300]"
      ]
     },
     "execution_count": 15,
     "metadata": {},
     "output_type": "execute_result"
    }
   ],
   "source": [
    "y = x\n",
    "y"
   ]
  },
  {
   "cell_type": "code",
   "execution_count": 17,
   "metadata": {},
   "outputs": [
    {
     "data": {
      "text/plain": [
       "[100, 99999, 300]"
      ]
     },
     "execution_count": 17,
     "metadata": {},
     "output_type": "execute_result"
    }
   ],
   "source": [
    "y[1] = 99999\n",
    "y"
   ]
  },
  {
   "cell_type": "code",
   "execution_count": 18,
   "metadata": {},
   "outputs": [
    {
     "name": "stdout",
     "output_type": "stream",
     "text": [
      "[100, 99999, 300]\n"
     ]
    }
   ],
   "source": [
    "print(x)"
   ]
  },
  {
   "cell_type": "code",
   "execution_count": 19,
   "metadata": {},
   "outputs": [],
   "source": [
    "# HOLY WTF!"
   ]
  },
  {
   "cell_type": "code",
   "execution_count": 20,
   "metadata": {},
   "outputs": [],
   "source": [
    "# action at a distance"
   ]
  },
  {
   "cell_type": "code",
   "execution_count": 21,
   "metadata": {},
   "outputs": [
    {
     "data": {
      "text/plain": [
       "['foo', 'bar']"
      ]
     },
     "execution_count": 21,
     "metadata": {},
     "output_type": "execute_result"
    }
   ],
   "source": [
    "y = ['foo', 'bar']\n",
    "y"
   ]
  },
  {
   "cell_type": "code",
   "execution_count": 22,
   "metadata": {},
   "outputs": [
    {
     "data": {
      "text/plain": [
       "[100, 99999, 300]"
      ]
     },
     "execution_count": 22,
     "metadata": {},
     "output_type": "execute_result"
    }
   ],
   "source": [
    "x"
   ]
  },
  {
   "cell_type": "code",
   "execution_count": 24,
   "metadata": {},
   "outputs": [],
   "source": [
    "# know this will happen\n",
    "# if you understand it\n",
    "# this is how argements are passed in function calls\n",
    "# function calls are passed by assignment"
   ]
  },
  {
   "cell_type": "code",
   "execution_count": 25,
   "metadata": {},
   "outputs": [],
   "source": [
    "# dynamic assignment languages\n",
    "# play with code strings"
   ]
  },
  {
   "cell_type": "code",
   "execution_count": 26,
   "metadata": {},
   "outputs": [],
   "source": [
    "# understand name spaces"
   ]
  },
  {
   "cell_type": "code",
   "execution_count": 33,
   "metadata": {},
   "outputs": [
    {
     "data": {
      "text/plain": [
       "\"\\nx = 100\\ny = x\\ny = 'foo'\\nprint(x)\\n\""
      ]
     },
     "execution_count": 33,
     "metadata": {},
     "output_type": "execute_result"
    }
   ],
   "source": [
    "my_code = \"\"\"\n",
    "x = 100\n",
    "y = x\n",
    "y = 'foo'\n",
    "print(x)\n",
    "\"\"\"\n",
    "my_code"
   ]
  },
  {
   "cell_type": "code",
   "execution_count": 34,
   "metadata": {},
   "outputs": [],
   "source": [
    "my_namespace = {} # some place to store code to execute"
   ]
  },
  {
   "cell_type": "code",
   "execution_count": 38,
   "metadata": {},
   "outputs": [
    {
     "name": "stdout",
     "output_type": "stream",
     "text": [
      "100\n"
     ]
    }
   ],
   "source": [
    "exec(my_code, my_namespace)\n",
    "# python 2:\n",
    "# exec my_code in {}, namespace"
   ]
  },
  {
   "cell_type": "code",
   "execution_count": 39,
   "metadata": {},
   "outputs": [
    {
     "data": {
      "text/plain": [
       "{'y': 'foo',\n",
       " 'x': 100,\n",
       " '__builtins__': {'RuntimeError': RuntimeError,\n",
       "  'tuple': tuple,\n",
       "  'callable': <function callable>,\n",
       "  'property': property,\n",
       "  'divmod': <function divmod>,\n",
       "  'SystemExit': SystemExit,\n",
       "  'any': <function any>,\n",
       "  'AttributeError': AttributeError,\n",
       "  'id': <function id>,\n",
       "  'BrokenPipeError': BrokenPipeError,\n",
       "  '__debug__': True,\n",
       "  'sorted': <function sorted>,\n",
       "  'ProcessLookupError': ProcessLookupError,\n",
       "  'ResourceWarning': ResourceWarning,\n",
       "  'memoryview': memoryview,\n",
       "  '__build_class__': <function __build_class__>,\n",
       "  'hex': <function hex>,\n",
       "  'None': None,\n",
       "  'NameError': NameError,\n",
       "  'reversed': reversed,\n",
       "  'AssertionError': AssertionError,\n",
       "  'input': <function IPython.kernel.zmq.ipkernel.Kernel.execute_request.<locals>.<lambda>>,\n",
       "  'bytearray': bytearray,\n",
       "  'FloatingPointError': FloatingPointError,\n",
       "  'hasattr': <function hasattr>,\n",
       "  'NotImplementedError': NotImplementedError,\n",
       "  'pow': <function pow>,\n",
       "  'isinstance': <function isinstance>,\n",
       "  'license': Type license() to see the full license text,\n",
       "  'TabError': TabError,\n",
       "  'abs': <function abs>,\n",
       "  'delattr': <function delattr>,\n",
       "  'PendingDeprecationWarning': PendingDeprecationWarning,\n",
       "  'LookupError': LookupError,\n",
       "  '__import__': <function __import__>,\n",
       "  'GeneratorExit': GeneratorExit,\n",
       "  'KeyError': KeyError,\n",
       "  'InterruptedError': InterruptedError,\n",
       "  'dreload': <function IPython.lib.deepreload.reload>,\n",
       "  'False': False,\n",
       "  'SyntaxError': SyntaxError,\n",
       "  'BytesWarning': BytesWarning,\n",
       "  'UnicodeDecodeError': UnicodeDecodeError,\n",
       "  'enumerate': enumerate,\n",
       "  'NotImplemented': NotImplemented,\n",
       "  'len': <function len>,\n",
       "  'iter': <function iter>,\n",
       "  'getattr': <function getattr>,\n",
       "  'int': int,\n",
       "  'BlockingIOError': BlockingIOError,\n",
       "  'OSError': OSError,\n",
       "  'Warning': Warning,\n",
       "  '__IPYTHON__active': 'Deprecated, check for __IPYTHON__',\n",
       "  'UnicodeError': UnicodeError,\n",
       "  'ImportError': ImportError,\n",
       "  'dict': dict,\n",
       "  'ConnectionResetError': ConnectionResetError,\n",
       "  'KeyboardInterrupt': KeyboardInterrupt,\n",
       "  'locals': <function locals>,\n",
       "  'OverflowError': OverflowError,\n",
       "  'bin': <function bin>,\n",
       "  'BufferError': BufferError,\n",
       "  'RuntimeWarning': RuntimeWarning,\n",
       "  'UnicodeTranslateError': UnicodeTranslateError,\n",
       "  'max': <function max>,\n",
       "  'help': Type help() for interactive help, or help(object) for help about object.,\n",
       "  'classmethod': classmethod,\n",
       "  'ReferenceError': ReferenceError,\n",
       "  'next': <function next>,\n",
       "  'oct': <function oct>,\n",
       "  '__loader__': _frozen_importlib.BuiltinImporter,\n",
       "  'IndentationError': IndentationError,\n",
       "  'object': object,\n",
       "  'ord': <function ord>,\n",
       "  'TimeoutError': TimeoutError,\n",
       "  'min': <function min>,\n",
       "  '__name__': 'builtins',\n",
       "  'bool': bool,\n",
       "  'ArithmeticError': ArithmeticError,\n",
       "  'ConnectionRefusedError': ConnectionRefusedError,\n",
       "  '__spec__': ModuleSpec(name='builtins', loader=<class '_frozen_importlib.BuiltinImporter'>),\n",
       "  'Ellipsis': Ellipsis,\n",
       "  'hash': <function hash>,\n",
       "  'open': <function io.open>,\n",
       "  'BaseException': BaseException,\n",
       "  'issubclass': <function issubclass>,\n",
       "  'eval': <function eval>,\n",
       "  'SystemError': SystemError,\n",
       "  'ValueError': ValueError,\n",
       "  'range': range,\n",
       "  'dir': <function dir>,\n",
       "  'round': <function round>,\n",
       "  'vars': <function vars>,\n",
       "  'FileNotFoundError': FileNotFoundError,\n",
       "  'get_ipython': <bound method ZMQInteractiveShell.get_ipython of <IPython.kernel.zmq.zmqshell.ZMQInteractiveShell object at 0x7f271e82f160>>,\n",
       "  'float': float,\n",
       "  'PermissionError': PermissionError,\n",
       "  'bytes': bytes,\n",
       "  'Exception': Exception,\n",
       "  'ImportWarning': ImportWarning,\n",
       "  'copyright': Copyright (c) 2001-2014 Python Software Foundation.\n",
       "  All Rights Reserved.\n",
       "  \n",
       "  Copyright (c) 2000 BeOpen.com.\n",
       "  All Rights Reserved.\n",
       "  \n",
       "  Copyright (c) 1995-2001 Corporation for National Research Initiatives.\n",
       "  All Rights Reserved.\n",
       "  \n",
       "  Copyright (c) 1991-1995 Stichting Mathematisch Centrum, Amsterdam.\n",
       "  All Rights Reserved.,\n",
       "  'IsADirectoryError': IsADirectoryError,\n",
       "  'IOError': OSError,\n",
       "  'type': type,\n",
       "  'filter': filter,\n",
       "  'str': str,\n",
       "  'repr': <function repr>,\n",
       "  'format': <function format>,\n",
       "  'set': set,\n",
       "  'SyntaxWarning': SyntaxWarning,\n",
       "  'chr': <function chr>,\n",
       "  'UserWarning': UserWarning,\n",
       "  'ConnectionAbortedError': ConnectionAbortedError,\n",
       "  'NotADirectoryError': NotADirectoryError,\n",
       "  'setattr': <function setattr>,\n",
       "  'map': map,\n",
       "  'frozenset': frozenset,\n",
       "  'ChildProcessError': ChildProcessError,\n",
       "  'ZeroDivisionError': ZeroDivisionError,\n",
       "  'credits':     Thanks to CWI, CNRI, BeOpen.com, Zope Corporation and a cast of thousands\n",
       "      for supporting Python development.  See www.python.org for more information.,\n",
       "  '__doc__': \"Built-in functions, exceptions, and other objects.\\n\\nNoteworthy: None is the `nil' object; Ellipsis represents `...' in slices.\",\n",
       "  'slice': slice,\n",
       "  'sum': <function sum>,\n",
       "  'UnicodeEncodeError': UnicodeEncodeError,\n",
       "  'True': True,\n",
       "  '__package__': '',\n",
       "  'globals': <function globals>,\n",
       "  'EnvironmentError': OSError,\n",
       "  'ascii': <function ascii>,\n",
       "  '__IPYTHON__': True,\n",
       "  'TypeError': TypeError,\n",
       "  'staticmethod': staticmethod,\n",
       "  'MemoryError': MemoryError,\n",
       "  'StopIteration': StopIteration,\n",
       "  'DeprecationWarning': DeprecationWarning,\n",
       "  'list': list,\n",
       "  'ConnectionError': ConnectionError,\n",
       "  'EOFError': EOFError,\n",
       "  'FutureWarning': FutureWarning,\n",
       "  'compile': <function compile>,\n",
       "  'FileExistsError': FileExistsError,\n",
       "  'complex': complex,\n",
       "  'UnboundLocalError': UnboundLocalError,\n",
       "  'super': super,\n",
       "  'zip': zip,\n",
       "  'IndexError': IndexError,\n",
       "  'print': <function print>,\n",
       "  'UnicodeWarning': UnicodeWarning,\n",
       "  'all': <function all>,\n",
       "  'exec': <function exec>}}"
      ]
     },
     "execution_count": 39,
     "metadata": {},
     "output_type": "execute_result"
    }
   ],
   "source": [
    "my_namespace"
   ]
  },
  {
   "cell_type": "code",
   "execution_count": null,
   "metadata": {},
   "outputs": [],
   "source": []
  }
 ],
 "metadata": {
  "kernelspec": {
   "display_name": "Python 3",
   "language": "python",
   "name": "python3"
  },
  "language_info": {
   "codemirror_mode": {
    "name": "ipython",
    "version": 3
   },
   "file_extension": ".py",
   "mimetype": "text/x-python",
   "name": "python",
   "nbconvert_exporter": "python",
   "pygments_lexer": "ipython3",
   "version": "3.6.2"
  },
  "toc": {
   "colors": {
    "hover_highlight": "#DAA520",
    "navigate_num": "#000000",
    "navigate_text": "#333333",
    "running_highlight": "#FF0000",
    "selected_highlight": "#FFD700",
    "sidebar_border": "#EEEEEE",
    "wrapper_background": "#FFFFFF"
   },
   "moveMenuLeft": true,
   "nav_menu": {
    "height": "12px",
    "width": "252px"
   },
   "navigate_menu": true,
   "number_sections": true,
   "sideBar": true,
   "threshold": 4,
   "toc_cell": true,
   "toc_section_display": "block",
   "toc_window_display": true,
   "widenNotebook": false
  }
 },
 "nbformat": 4,
 "nbformat_minor": 1
}
