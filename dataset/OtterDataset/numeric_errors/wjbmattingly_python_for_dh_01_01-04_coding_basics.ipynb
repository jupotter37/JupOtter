{
 "cells": [
  {
   "cell_type": "markdown",
   "id": "613bae22-5138-407f-85c3-89e00a8d7ab3",
   "metadata": {},
   "source": [
    "# Coding Basics"
   ]
  },
  {
   "cell_type": "markdown",
   "id": "5c149f11-182e-4b07-813a-f39ac5270786",
   "metadata": {},
   "source": [
    "Before we jump into the textbook, we should cover a few basic aspects of programming that the reader may not know. These are some of the most essential terms and concepts that you will see used throughout this textbook. Remember, you can always come back to this section if you forget one of these terms."
   ]
  },
  {
   "cell_type": "markdown",
   "id": "ae36818c-c23c-49e1-a6d0-2f0af744996a",
   "metadata": {
    "tags": []
   },
   "source": [
    "## The Print Function"
   ]
  },
  {
   "cell_type": "markdown",
   "id": "24000ff1-0bde-4324-8e0d-9257af16c1ff",
   "metadata": {},
   "source": [
    "The very first thing that every programmer learns is how to print something off using that programming language. In most tutorials, you will see the phrase \"Hello, World!\" used. In this textbook, let's try something a bit different. Let's say I wanted to print off \"Hello, William\". We can do this in Python by using the **print function**. The print function lets us print off some piece of data. In our case, that piece of data will be a piece of text, known as a string (see below). Our text is \"Hello, William\". The thing that we want to print off must be located between an open parentheses and a close parentheses. Let's try to execute the print command in the cell below."
   ]
  },
  {
   "cell_type": "code",
   "execution_count": 2,
   "id": "27a1f7ed-d095-4849-aca4-47a66b3df6f5",
   "metadata": {},
   "outputs": [
    {
     "name": "stdout",
     "output_type": "stream",
     "text": [
      "Hello, William!\n"
     ]
    }
   ],
   "source": [
    "print(\"Hello, William!\")"
   ]
  },
  {
   "cell_type": "markdown",
   "id": "fed10185-d060-4363-93e8-9af2e2ef1b66",
   "metadata": {},
   "source": [
    "As we can see, the code that we typed in the Jupyter cell outputted beneath it. Now, it is your turn. Try to print off something. In order to print off text, you will need to use an open and a close quotation mark. We will learn more about this as we meet strings in the next chapter."
   ]
  },
  {
   "cell_type": "code",
   "execution_count": 4,
   "id": "c3c31212-79b6-45d6-b183-4d1405dffb3d",
   "metadata": {
    "tags": [
     "hide-input"
    ]
   },
   "outputs": [
    {
     "data": {
      "text/html": [
       "\n",
       "        <iframe\n",
       "            width=\"700\"\n",
       "            height=\"500\"\n",
       "            src=\"https://trinket.io/embed/python3/3fe4c8f3f4\"\n",
       "            frameborder=\"0\"\n",
       "            allowfullscreen\n",
       "            \n",
       "        ></iframe>\n",
       "        "
      ],
      "text/plain": [
       "<IPython.lib.display.IFrame at 0x7f0a6c7b3af0>"
      ]
     },
     "execution_count": 4,
     "metadata": {},
     "output_type": "execute_result"
    }
   ],
   "source": [
    "from IPython.display import IFrame\n",
    "IFrame('https://trinket.io/embed/python3/3fe4c8f3f4', 700, 500)"
   ]
  },
  {
   "cell_type": "markdown",
   "id": "5f1458b0-e2f0-416f-a6ff-1b842be8852d",
   "metadata": {},
   "source": [
    "This has worked wonderfully, but what if our Python notebook needs to be more dynamic, meaning it needs to adjust based on some user input. Perhaps, we need to use a name other than William based on some user-defined input. To do this, we would need to store a piece of data in memory. We can do this in Python by creating a variable that will point to an object. Before we get into how this is done, let's first get to know objects and variables."
   ]
  },
  {
   "cell_type": "markdown",
   "id": "c2b4dd4e-b7a3-4a3f-a859-823faf141d6b",
   "metadata": {},
   "source": [
    "## Objects"
   ]
  },
  {
   "cell_type": "markdown",
   "id": "64335704-d12a-4246-a4a0-063b0990771d",
   "metadata": {},
   "source": [
    "When we import or create data within Python, we are essentially creating an object in memory with a variable. These two words, <b>object</b> and <b>variable</b> mean slightly different things, but are often used interchangeably. We will not get into the complexities of their differences and why they exist in this textbook, but for now, view an object as something that is created by a Python script and stored in your computer's memory so that it can be used later in a program.\n",
    "\n",
    "Think of your <b>computer's memory</b> rather like your own brain. Imagine if you needed to remember what the word for \"hello\" in German. You may use your memory rather like a flashcard, where \"hello\" in English equates to \"hallo\" in German. In Python, we create objects in a similar way. The object would be the dictionary entry of \"hello: hallo\"."
   ]
  },
  {
   "cell_type": "markdown",
   "id": "fd01e37e-af1d-443a-90f2-2551b76017ce",
   "metadata": {},
   "source": [
    "## Variables"
   ]
  },
  {
   "cell_type": "markdown",
   "id": "9a453145-6948-4b06-93d6-03b9cef5ec99",
   "metadata": {},
   "source": [
    "In order to reference this dictionary entry in memory, we need a way to reference it. We do this with a variable. The variable is simply the name of the item in our script that will point to that object in memory. Variables make it so that we can have an easy-to-remember name to reference, call, and change that object in memory.\n",
    "\n",
    "Variables can be created by typing a unique word, followed by an = sign, followed by the specific data. As we will learn throughout this chapter, there are many types of data that are created differently. Let's create our first object before we begin. This will be a string, or a piece of text. (We will learn about these in more detail below.) In my case, I want to create the object author. I want author to be associated with my name in memory. In the cell, or block of code, below, let's do this."
   ]
  },
  {
   "cell_type": "code",
   "execution_count": 4,
   "id": "46b66ba7-6ae9-490b-a04b-1fc9a52290ac",
   "metadata": {},
   "outputs": [],
   "source": [
    "author = \"William Mattingly\""
   ]
  },
  {
   "cell_type": "markdown",
   "id": "4bd457f0-a36d-482e-b26f-a4b66caaebea",
   "metadata": {},
   "source": [
    "Excellent! We have created our first object. Now, it is time to use that object. Below, we will learn about ways we can manipulate strings, but for now, let's simply see if that object exists in memory. We can do this with the print function.\n",
    "\n",
    "The print function will become your best friend in Python. It is, perhaps, the function I use most commonly. The reason for this is because the print function allows for you to easily debug, or identify problems and fix them, within your code. It allows us to print off objects that are stored in memory.\n",
    "\n",
    "To use the print function, we type the word print followed by an open parentheses. After the open parentheses, we place the object or that piece of data that we want to print. After that, we close the function with the close parentheses. Let's try to print off our new object author to make sure it is in memory."
   ]
  },
  {
   "cell_type": "code",
   "execution_count": 6,
   "id": "e69374b2-cdb7-4e13-ba0f-845d21162991",
   "metadata": {},
   "outputs": [
    {
     "name": "stdout",
     "output_type": "stream",
     "text": [
      "William Mattingly\n"
     ]
    }
   ],
   "source": [
    "print(author)"
   ]
  },
  {
   "cell_type": "markdown",
   "id": "ff4fb336-c885-4568-b381-9d3232bc714f",
   "metadata": {},
   "source": [
    "Notice that when I execute the cell above, I see an output that relates to the object we created above. What would happen if I tried to print off that object, but I used a capital letter, rather than a lowercase one at the beginning, so Author, rather than author?"
   ]
  },
  {
   "cell_type": "markdown",
   "id": "1c6c9cb1-01e4-431d-a4f3-2553d54191f4",
   "metadata": {},
   "source": [
    "## Case Sensitivity"
   ]
  },
  {
   "cell_type": "code",
   "execution_count": 3,
   "id": "d11b30dc-6fc0-4461-b0b8-cda796cf78de",
   "metadata": {},
   "outputs": [
    {
     "ename": "NameError",
     "evalue": "name 'Author' is not defined",
     "output_type": "error",
     "traceback": [
      "\u001b[0;31m---------------------------------------------------------------------------\u001b[0m",
      "\u001b[0;31mNameError\u001b[0m                                 Traceback (most recent call last)",
      "Input \u001b[0;32mIn [3]\u001b[0m, in \u001b[0;36m<cell line: 1>\u001b[0;34m()\u001b[0m\n\u001b[0;32m----> 1\u001b[0m \u001b[38;5;28mprint\u001b[39m (\u001b[43mAuthor\u001b[49m)\n",
      "\u001b[0;31mNameError\u001b[0m: name 'Author' is not defined"
     ]
    }
   ],
   "source": [
    "print(Author)"
   ]
  },
  {
   "cell_type": "markdown",
   "id": "1ce8f6a3-4c7e-43d3-bd46-ae8fd2cd4f94",
   "metadata": {},
   "source": [
    "The scary looking block of text above indicates that we have produced an error in Python. This mistake teaches us two things. First, Python is case sensitive. This means that if any object (or string) will need to be matched in not only letters, but also the case of those letters. Second, this mistake teaches us that we can only call objects that have been created and stored in memory.\n",
    "\n",
    "Now that we have the variable pointing to a specific piece of data, we can make our print function above a bit more dynamic. Let's try and print off the same statement as before, but with the new full author name. I don't expect you to understand the specifics of the code below, rather simply understand that we will frequently need to store variables in memory so that we can use them later in our programs."
   ]
  },
  {
   "cell_type": "code",
   "execution_count": 13,
   "id": "1f54358a-0e2a-4ed6-806b-12b34ac27952",
   "metadata": {},
   "outputs": [
    {
     "name": "stdout",
     "output_type": "stream",
     "text": [
      "Hello, William Mattingly!\n"
     ]
    }
   ],
   "source": [
    "print(f\"Hello, {author}!\")"
   ]
  },
  {
   "cell_type": "markdown",
   "id": "79982a8c-78c6-4458-9815-747503561eea",
   "metadata": {},
   "source": [
    "## Reserved Words"
   ]
  },
  {
   "cell_type": "markdown",
   "id": "669fcb83-3972-4b98-92d8-da701856f2f5",
   "metadata": {},
   "source": [
    "When working with Python, there are a number of words known as **reserve words**. These are words that cannot be used as variable names. As of Python version 3.6, there are a total of 33 reserve words. In can sometimes be difficult to remember all of these reserve words, so Python has a nice built in function, \"help\". If we execute the following command, we will see an entire list."
   ]
  },
  {
   "cell_type": "code",
   "execution_count": 13,
   "id": "15206fe3-ca7d-4d62-8d11-b5f19180ae79",
   "metadata": {},
   "outputs": [
    {
     "name": "stdout",
     "output_type": "stream",
     "text": [
      "\n",
      "Here is a list of the Python keywords.  Enter any keyword to get more help.\n",
      "\n",
      "False               class               from                or\n",
      "None                continue            global              pass\n",
      "True                def                 if                  raise\n",
      "and                 del                 import              return\n",
      "as                  elif                in                  try\n",
      "assert              else                is                  while\n",
      "async               except              lambda              with\n",
      "await               finally             nonlocal            yield\n",
      "break               for                 not                 \n",
      "\n"
     ]
    }
   ],
   "source": [
    "help(\"keywords\")"
   ]
  },
  {
   "cell_type": "markdown",
   "id": "da8eb562-155e-472e-b553-fd567db3136c",
   "metadata": {},
   "source": [
    "These are words that you cannot use as a variable name."
   ]
  },
  {
   "cell_type": "markdown",
   "id": "f7b4d06b-5110-4828-88a6-788fe088e1d7",
   "metadata": {},
   "source": [
    "## Built-in Types"
   ]
  },
  {
   "cell_type": "markdown",
   "id": "6208b495-7342-4e68-a88f-99db97eb284d",
   "metadata": {},
   "source": [
    "In addition to reserve words, there are also built-in types in Python. These are words that you can use (as we will see) to convert one type of data into another. There are 94 of these in total. Unlike reserve words, you *can* use a built-in type as a variable name. It is, however, strongly discouraged to do so because it will overwrite the intended use of these variable names in your script."
   ]
  },
  {
   "cell_type": "code",
   "execution_count": 8,
   "id": "15cbc5f4-041a-4ca5-8f48-9fccdca98956",
   "metadata": {},
   "outputs": [
    {
     "data": {
      "text/plain": [
       "[ArithmeticError,\n",
       " AssertionError,\n",
       " AttributeError,\n",
       " BaseException,\n",
       " BlockingIOError,\n",
       " BrokenPipeError,\n",
       " BufferError,\n",
       " BytesWarning,\n",
       " ChildProcessError,\n",
       " ConnectionAbortedError,\n",
       " ConnectionError,\n",
       " ConnectionRefusedError,\n",
       " ConnectionResetError,\n",
       " DeprecationWarning,\n",
       " EOFError,\n",
       " OSError,\n",
       " Exception,\n",
       " FileExistsError,\n",
       " FileNotFoundError,\n",
       " FloatingPointError,\n",
       " FutureWarning,\n",
       " GeneratorExit,\n",
       " OSError,\n",
       " ImportError,\n",
       " ImportWarning,\n",
       " IndentationError,\n",
       " IndexError,\n",
       " InterruptedError,\n",
       " IsADirectoryError,\n",
       " KeyError,\n",
       " KeyboardInterrupt,\n",
       " LookupError,\n",
       " MemoryError,\n",
       " ModuleNotFoundError,\n",
       " NameError,\n",
       " NotADirectoryError,\n",
       " NotImplementedError,\n",
       " OSError,\n",
       " OverflowError,\n",
       " PendingDeprecationWarning,\n",
       " PermissionError,\n",
       " ProcessLookupError,\n",
       " RecursionError,\n",
       " ReferenceError,\n",
       " ResourceWarning,\n",
       " RuntimeError,\n",
       " RuntimeWarning,\n",
       " StopAsyncIteration,\n",
       " StopIteration,\n",
       " SyntaxError,\n",
       " SyntaxWarning,\n",
       " SystemError,\n",
       " SystemExit,\n",
       " TabError,\n",
       " TimeoutError,\n",
       " TypeError,\n",
       " UnboundLocalError,\n",
       " UnicodeDecodeError,\n",
       " UnicodeEncodeError,\n",
       " UnicodeError,\n",
       " UnicodeTranslateError,\n",
       " UnicodeWarning,\n",
       " UserWarning,\n",
       " ValueError,\n",
       " Warning,\n",
       " OSError,\n",
       " ZeroDivisionError,\n",
       " _frozen_importlib.BuiltinImporter,\n",
       " bool,\n",
       " bytearray,\n",
       " bytes,\n",
       " classmethod,\n",
       " complex,\n",
       " dict,\n",
       " enumerate,\n",
       " filter,\n",
       " float,\n",
       " frozenset,\n",
       " int,\n",
       " list,\n",
       " map,\n",
       " memoryview,\n",
       " object,\n",
       " property,\n",
       " range,\n",
       " reversed,\n",
       " set,\n",
       " slice,\n",
       " staticmethod,\n",
       " str,\n",
       " super,\n",
       " tuple,\n",
       " type,\n",
       " zip]"
      ]
     },
     "execution_count": 8,
     "metadata": {},
     "output_type": "execute_result"
    }
   ],
   "source": [
    "import builtins\n",
    "[getattr(builtins, d) for d in dir(builtins) if isinstance(getattr(builtins, d), type)]"
   ]
  },
  {
   "cell_type": "markdown",
   "id": "e363a431-69c8-4866-ad1b-ec68fe08ce6a",
   "metadata": {},
   "source": [
    "Of this long list, I recommend paying particular attention to the ones that you are more likely to write naturally: bool, dict, float, int, list, map, object, property, range, reversed, set, slice, str, super, tuple, type, and zip. You are more likely to use these as variable names by accident than, say, ZeroDivisionError; and this shorter list is a lot easier to memorize."
   ]
  },
  {
   "cell_type": "markdown",
   "id": "fc6fc328-172c-492d-b9a4-cbe5703f960c",
   "metadata": {},
   "source": [
    "## Type Function"
   ]
  },
  {
   "cell_type": "markdown",
   "id": "985a52d8-5e05-4924-ae61-279b4b711c4e",
   "metadata": {},
   "source": [
    "It is frequently necessary to check to see what type of data a variable is. To identify this, you can use the built-in function **type** in Python. To use type, we use the command below with the data we want to analyze placed between the two parentheses."
   ]
  },
  {
   "cell_type": "code",
   "execution_count": 3,
   "id": "7675110e-5803-4381-9c5c-8b89306d8a47",
   "metadata": {
    "tags": []
   },
   "outputs": [
    {
     "data": {
      "text/plain": [
       "str"
      ]
     },
     "execution_count": 3,
     "metadata": {},
     "output_type": "execute_result"
    }
   ],
   "source": [
    "type(\"this is a string...\")"
   ]
  },
  {
   "cell_type": "markdown",
   "id": "11d30303-fa18-4e15-a141-cc3548b6cd10",
   "metadata": {},
   "source": [
    "## Bugs"
   ]
  },
  {
   "cell_type": "markdown",
   "id": "16850543-61bc-4e3f-8d07-c4c2582826f2",
   "metadata": {},
   "source": [
    "Throughout your programming career, you will often read or hear about `bugs`. A bug is a problem in your code that either returns an error or an unintended result in the output. Tracing down bugs and fixing them is known as `debugging`. Aside from figuring out how to code solutions to problems, `debugging` can be one of the more time-consuming aspects of writing a program, especially if it is quite complex. Throughout this textbook, we will encounter common errors so that you can see them in this controlled space. We will also walk through what the error means and how to resolve it. That said, you are likely to create many other bugs as you try to apply the code in this textbook to your own data. That is expected. Always remember to read each line of your Python code carefully and, if you have an error message, identify where the error is coming from and what it is."
   ]
  },
  {
   "cell_type": "code",
   "execution_count": null,
   "id": "cbe80a5e-af1f-481b-a2b9-48c10f4763ad",
   "metadata": {},
   "outputs": [],
   "source": []
  }
 ],
 "metadata": {
  "kernelspec": {
   "display_name": "Python 3 (ipykernel)",
   "language": "python",
   "name": "python3"
  },
  "language_info": {
   "codemirror_mode": {
    "name": "ipython",
    "version": 3
   },
   "file_extension": ".py",
   "mimetype": "text/x-python",
   "name": "python",
   "nbconvert_exporter": "python",
   "pygments_lexer": "ipython3",
   "version": "3.9.12"
  }
 },
 "nbformat": 4,
 "nbformat_minor": 5
}
