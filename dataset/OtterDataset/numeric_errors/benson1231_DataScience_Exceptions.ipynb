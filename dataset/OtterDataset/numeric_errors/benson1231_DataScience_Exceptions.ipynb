{
 "cells": [
  {
   "cell_type": "code",
   "execution_count": null,
   "id": "c1fd6b7c-5325-48c7-bfa3-1e3fe7a96a6f",
   "metadata": {},
   "outputs": [],
   "source": []
  },
  {
   "cell_type": "code",
   "execution_count": 10,
   "id": "b4390cb7-9eda-4e09-93ad-1e811f35308d",
   "metadata": {
    "tags": []
   },
   "outputs": [],
   "source": [
    "def open_register(employee_status):\n",
    "  if employee_status == 'Authorized':\n",
    "    print('Successfully opened cash register')\n",
    "  else:\n",
    "    # Alternatives: raise TypeError() or TypeError('Message')\n",
    "    raise TypeError(\"error:\")\n"
   ]
  },
  {
   "cell_type": "code",
   "execution_count": 11,
   "id": "ae09abf4-07c5-47fa-99e7-68916fa0cf31",
   "metadata": {
    "tags": []
   },
   "outputs": [
    {
     "name": "stdout",
     "output_type": "stream",
     "text": [
      "Successfully opened cash register\n"
     ]
    }
   ],
   "source": [
    "open_register(\"Authorized\")"
   ]
  },
  {
   "cell_type": "code",
   "execution_count": 12,
   "id": "26b81cb7-4c1c-465f-9325-5d6f74f11b4b",
   "metadata": {
    "tags": []
   },
   "outputs": [
    {
     "ename": "TypeError",
     "evalue": "error:",
     "output_type": "error",
     "traceback": [
      "\u001b[0;31m---------------------------------------------------------------------------\u001b[0m",
      "\u001b[0;31mTypeError\u001b[0m                                 Traceback (most recent call last)",
      "Cell \u001b[0;32mIn[12], line 1\u001b[0m\n\u001b[0;32m----> 1\u001b[0m open_register(\u001b[38;5;124m\"\u001b[39m\u001b[38;5;124mbenson\u001b[39m\u001b[38;5;124m\"\u001b[39m)\n",
      "Cell \u001b[0;32mIn[10], line 6\u001b[0m, in \u001b[0;36mopen_register\u001b[0;34m(employee_status)\u001b[0m\n\u001b[1;32m      3\u001b[0m   \u001b[38;5;28mprint\u001b[39m(\u001b[38;5;124m'\u001b[39m\u001b[38;5;124mSuccessfully opened cash register\u001b[39m\u001b[38;5;124m'\u001b[39m)\n\u001b[1;32m      4\u001b[0m \u001b[38;5;28;01melse\u001b[39;00m:\n\u001b[1;32m      5\u001b[0m   \u001b[38;5;66;03m# Alternatives: raise TypeError() or TypeError('Message')\u001b[39;00m\n\u001b[0;32m----> 6\u001b[0m   \u001b[38;5;28;01mraise\u001b[39;00m \u001b[38;5;167;01mTypeError\u001b[39;00m(\u001b[38;5;124m\"\u001b[39m\u001b[38;5;124merror:\u001b[39m\u001b[38;5;124m\"\u001b[39m)\n",
      "\u001b[0;31mTypeError\u001b[0m: error:"
     ]
    }
   ],
   "source": [
    "open_register(\"benson\")"
   ]
  },
  {
   "cell_type": "code",
   "execution_count": 14,
   "id": "d9804da0-e263-4f35-802d-dcfef01739bc",
   "metadata": {
    "tags": []
   },
   "outputs": [],
   "source": [
    "def open_register(employee_status):\n",
    "  if employee_status == 'Authorized':\n",
    "    print('Successfully opened cash register')\n",
    "  else:\n",
    "    raise Exception('Employee does not have access!')\n"
   ]
  },
  {
   "cell_type": "code",
   "execution_count": 15,
   "id": "433a0011-ddde-4abd-8a80-9973dea49023",
   "metadata": {
    "tags": []
   },
   "outputs": [
    {
     "ename": "Exception",
     "evalue": "Employee does not have access!",
     "output_type": "error",
     "traceback": [
      "\u001b[0;31m---------------------------------------------------------------------------\u001b[0m",
      "\u001b[0;31mException\u001b[0m                                 Traceback (most recent call last)",
      "Cell \u001b[0;32mIn[15], line 1\u001b[0m\n\u001b[0;32m----> 1\u001b[0m open_register(\u001b[38;5;124m\"\u001b[39m\u001b[38;5;124mbenson\u001b[39m\u001b[38;5;124m\"\u001b[39m)\n",
      "Cell \u001b[0;32mIn[14], line 5\u001b[0m, in \u001b[0;36mopen_register\u001b[0;34m(employee_status)\u001b[0m\n\u001b[1;32m      3\u001b[0m   \u001b[38;5;28mprint\u001b[39m(\u001b[38;5;124m'\u001b[39m\u001b[38;5;124mSuccessfully opened cash register\u001b[39m\u001b[38;5;124m'\u001b[39m)\n\u001b[1;32m      4\u001b[0m \u001b[38;5;28;01melse\u001b[39;00m:\n\u001b[0;32m----> 5\u001b[0m   \u001b[38;5;28;01mraise\u001b[39;00m \u001b[38;5;167;01mException\u001b[39;00m(\u001b[38;5;124m'\u001b[39m\u001b[38;5;124mEmployee does not have access!\u001b[39m\u001b[38;5;124m'\u001b[39m)\n",
      "\u001b[0;31mException\u001b[0m: Employee does not have access!"
     ]
    }
   ],
   "source": [
    "open_register(\"benson\")"
   ]
  },
  {
   "cell_type": "code",
   "execution_count": 28,
   "id": "79c2e47c-59e1-4bc7-95cd-12d483eec705",
   "metadata": {
    "tags": []
   },
   "outputs": [
    {
     "name": "stdout",
     "output_type": "stream",
     "text": [
      "Instrument World Austin has:\n",
      "5 sales employees\n",
      "1 floor managers\n",
      "The ratio of sales people to managers is 5.0\n",
      "\n",
      "final\n",
      "Could not print sales report for Melbourne\n",
      "division by zero\n",
      "final\n",
      "Instrument World Beijing has:\n",
      "5 sales employees\n",
      "2 floor managers\n",
      "The ratio of sales people to managers is 2.5\n",
      "\n",
      "final\n"
     ]
    }
   ],
   "source": [
    "staff = {\n",
    "  'Austin': {\n",
    "    'floor managers': 1,\n",
    "    'sales associates': 5\n",
    "  },\n",
    "  'Melbourne': {\n",
    "    'floor managers': 0,\n",
    "    'sales associates': 8\n",
    "  },\n",
    "  'Beijing': {\n",
    "    'floor managers': 2,\n",
    "    'sales associates': 5\n",
    "  },\n",
    "}\n",
    "\n",
    "def print_staff_report(location, staff_dict):\n",
    "  managers = staff_dict['floor managers']\n",
    "  sales_people = staff_dict['sales associates']\n",
    "  ratio = sales_people / managers\n",
    "  print('Instrument World ' + location + ' has:')\n",
    "  print(str(sales_people) + ' sales employees')\n",
    "  print(str(managers) + ' floor managers')\n",
    "  print('The ratio of sales people to managers is ' + str(ratio))\n",
    "  print()\n",
    "\n",
    "for location, staff in staff.items():\n",
    "    try:\n",
    "      print_staff_report(location, staff)\n",
    "  # Write your code below:\n",
    "    except ZeroDivisionError as e:\n",
    "      print('Could not print sales report for ' + location)\n",
    "      print(e)\n",
    "    except KeyError:\n",
    "      print('An invalid instrument was entered!')\n",
    "    finally:\n",
    "      print('final')"
   ]
  },
  {
   "cell_type": "code",
   "execution_count": 18,
   "id": "4e1492d7-e337-4ac5-bd47-115d722a8e02",
   "metadata": {
    "tags": []
   },
   "outputs": [
    {
     "name": "stdout",
     "output_type": "stream",
     "text": [
      "BaseException:\n",
      "--------------------------------------------------\n",
      "BaseException: 所有異常的基類，捕獲所有錯誤（不建議常用）\n",
      "\n",
      "Exception:\n",
      "--------------------------------------------------\n",
      "ArithmeticError: 數學計算錯誤的基類\n",
      "ZeroDivisionError: 除以零錯誤\n",
      "OverflowError: 數值超出範圍\n",
      "AttributeError: 訪問對象中不存在的屬性時引發\n",
      "BufferError: 緩衝區相關操作錯誤\n",
      "EOFError: 當文件到達末尾時引發，例如 input() 遇到 EOF\n",
      "ImportError: 無法導入模組或模組中的屬性\n",
      "ModuleNotFoundError: 未找到指定模組（ImportError 的子類）\n",
      "IndexError: 序列索引超出範圍\n",
      "KeyError: 字典中訪問不存在的鍵\n",
      "KeyboardInterrupt: 用戶中斷（Ctrl+C）\n",
      "MemoryError: 內存不足時引發\n",
      "NameError: 變數未定義\n",
      "UnboundLocalError: 訪問未綁定的本地變數\n",
      "OSError: 操作系統相關錯誤，例如文件未找到\n",
      "FileNotFoundError: 指定的文件不存在（OSError 的子類）\n",
      "PermissionError: 嘗試無權限的操作（例如文件寫入）\n",
      "RuntimeError: 其他未分類的錯誤\n",
      "NotImplementedError: 表示未實現的方法\n",
      "StopIteration: 停止迭代\n",
      "SyntaxError: 語法錯誤\n",
      "IndentationError: 縮排錯誤\n",
      "TabError: 混合使用 Tab 和空格導致錯誤\n",
      "TypeError: 操作或函數的類型不正確\n",
      "ValueError: 操作或函數接收正確類型但不正確值\n",
      "UnicodeError: Unicode 編碼/解碼相關錯誤\n",
      "UnicodeEncodeError: Unicode 編碼錯誤\n",
      "UnicodeDecodeError: Unicode 解碼錯誤\n",
      "UnicodeTranslateError: Unicode 翻譯錯誤\n",
      "SystemError: 解釋器出現內部錯誤\n",
      "RecursionError: 超出最大遞歸深度限制\n"
     ]
    }
   ],
   "source": [
    "# Python 程式用於列出所有內建異常類別及其用途\n",
    "\n",
    "# 所有異常都繼承自 BaseException\n",
    "print(\"BaseException:\")\n",
    "print(\"-\" * 50)\n",
    "\n",
    "# BaseException 是所有異常的基類\n",
    "print(\"BaseException: 所有異常的基類，捕獲所有錯誤（不建議常用）\")\n",
    "\n",
    "# Exception 是一般錯誤的基類，常用於處理特定類型的錯誤\n",
    "print(\"\\nException:\")\n",
    "print(\"-\" * 50)\n",
    "\n",
    "# 常見的異常類別和用途\n",
    "error_classes = {\n",
    "    \"ArithmeticError\": \"數學計算錯誤的基類\",\n",
    "    \"ZeroDivisionError\": \"除以零錯誤\",\n",
    "    \"OverflowError\": \"數值超出範圍\",\n",
    "    \"AttributeError\": \"訪問對象中不存在的屬性時引發\",\n",
    "    \"BufferError\": \"緩衝區相關操作錯誤\",\n",
    "    \"EOFError\": \"當文件到達末尾時引發，例如 input() 遇到 EOF\",\n",
    "    \"ImportError\": \"無法導入模組或模組中的屬性\",\n",
    "    \"ModuleNotFoundError\": \"未找到指定模組（ImportError 的子類）\",\n",
    "    \"IndexError\": \"序列索引超出範圍\",\n",
    "    \"KeyError\": \"字典中訪問不存在的鍵\",\n",
    "    \"KeyboardInterrupt\": \"用戶中斷（Ctrl+C）\",\n",
    "    \"MemoryError\": \"內存不足時引發\",\n",
    "    \"NameError\": \"變數未定義\",\n",
    "    \"UnboundLocalError\": \"訪問未綁定的本地變數\",\n",
    "    \"OSError\": \"操作系統相關錯誤，例如文件未找到\",\n",
    "    \"FileNotFoundError\": \"指定的文件不存在（OSError 的子類）\",\n",
    "    \"PermissionError\": \"嘗試無權限的操作（例如文件寫入）\",\n",
    "    \"RuntimeError\": \"其他未分類的錯誤\",\n",
    "    \"NotImplementedError\": \"表示未實現的方法\",\n",
    "    \"StopIteration\": \"停止迭代\",\n",
    "    \"SyntaxError\": \"語法錯誤\",\n",
    "    \"IndentationError\": \"縮排錯誤\",\n",
    "    \"TabError\": \"混合使用 Tab 和空格導致錯誤\",\n",
    "    \"TypeError\": \"操作或函數的類型不正確\",\n",
    "    \"ValueError\": \"操作或函數接收正確類型但不正確值\",\n",
    "    \"UnicodeError\": \"Unicode 編碼/解碼相關錯誤\",\n",
    "    \"UnicodeEncodeError\": \"Unicode 編碼錯誤\",\n",
    "    \"UnicodeDecodeError\": \"Unicode 解碼錯誤\",\n",
    "    \"UnicodeTranslateError\": \"Unicode 翻譯錯誤\",\n",
    "    \"SystemError\": \"解釋器出現內部錯誤\",\n",
    "    \"RecursionError\": \"超出最大遞歸深度限制\",\n",
    "}\n",
    "\n",
    "# 列印每種異常及其說明\n",
    "for error, description in error_classes.items():\n",
    "    print(f\"{error}: {description}\")\n"
   ]
  },
  {
   "cell_type": "markdown",
   "id": "3d60ae28-3dca-42a9-bab1-61efa5318df5",
   "metadata": {},
   "source": [
    "# User-defined Exceptions"
   ]
  },
  {
   "cell_type": "code",
   "execution_count": null,
   "id": "26da107e-5b76-4ffc-b3f5-6869f9702588",
   "metadata": {},
   "outputs": [],
   "source": [
    "class CustomError(Exception):\n",
    "    pass\n"
   ]
  },
  {
   "cell_type": "code",
   "execution_count": 22,
   "id": "53b0c6af-8811-4fbf-984c-873c78937280",
   "metadata": {
    "tags": []
   },
   "outputs": [],
   "source": [
    "class LocationTooFarError(Exception):\n",
    "   def __init__(self, distance):\n",
    "       self.distance = distance\n",
    "       \n",
    "   def __str__(self):\n",
    "        return 'Location is not within 10 km: ' + str(self.distance)"
   ]
  },
  {
   "cell_type": "code",
   "execution_count": 25,
   "id": "07962424-8ac7-4633-83de-26522f0a46a3",
   "metadata": {
    "tags": []
   },
   "outputs": [
    {
     "ename": "LocationTooFarError",
     "evalue": "Location is not within 10 km: 11",
     "output_type": "error",
     "traceback": [
      "\u001b[0;31m---------------------------------------------------------------------------\u001b[0m",
      "\u001b[0;31mLocationTooFarError\u001b[0m                       Traceback (most recent call last)",
      "Cell \u001b[0;32mIn[25], line 7\u001b[0m\n\u001b[1;32m      4\u001b[0m     \u001b[38;5;28;01melse\u001b[39;00m:\n\u001b[1;32m      5\u001b[0m         \u001b[38;5;28mprint\u001b[39m(\u001b[38;5;124m'\u001b[39m\u001b[38;5;124mScheduling the delivery...\u001b[39m\u001b[38;5;124m'\u001b[39m)\n\u001b[0;32m----> 7\u001b[0m schedule_delivery(\u001b[38;5;241m11\u001b[39m)\n",
      "Cell \u001b[0;32mIn[25], line 3\u001b[0m, in \u001b[0;36mschedule_delivery\u001b[0;34m(distance_from_store)\u001b[0m\n\u001b[1;32m      1\u001b[0m \u001b[38;5;28;01mdef\u001b[39;00m \u001b[38;5;21mschedule_delivery\u001b[39m(distance_from_store):\n\u001b[1;32m      2\u001b[0m     \u001b[38;5;28;01mif\u001b[39;00m distance_from_store \u001b[38;5;241m>\u001b[39m \u001b[38;5;241m10\u001b[39m:\n\u001b[0;32m----> 3\u001b[0m         \u001b[38;5;28;01mraise\u001b[39;00m LocationTooFarError(distance_from_store)\n\u001b[1;32m      4\u001b[0m     \u001b[38;5;28;01melse\u001b[39;00m:\n\u001b[1;32m      5\u001b[0m         \u001b[38;5;28mprint\u001b[39m(\u001b[38;5;124m'\u001b[39m\u001b[38;5;124mScheduling the delivery...\u001b[39m\u001b[38;5;124m'\u001b[39m)\n",
      "\u001b[0;31mLocationTooFarError\u001b[0m: Location is not within 10 km: 11"
     ]
    }
   ],
   "source": [
    "def schedule_delivery(distance_from_store):\n",
    "    if distance_from_store > 10:\n",
    "        raise LocationTooFarError(distance_from_store)\n",
    "    else:\n",
    "        print('Scheduling the delivery...')\n",
    "        \n",
    "schedule_delivery(11)"
   ]
  }
 ],
 "metadata": {
  "kernelspec": {
   "display_name": "Python 3 (ipykernel)",
   "language": "python",
   "name": "python3"
  },
  "language_info": {
   "codemirror_mode": {
    "name": "ipython",
    "version": 3
   },
   "file_extension": ".py",
   "mimetype": "text/x-python",
   "name": "python",
   "nbconvert_exporter": "python",
   "pygments_lexer": "ipython3",
   "version": "3.11.5"
  }
 },
 "nbformat": 4,
 "nbformat_minor": 5
}
