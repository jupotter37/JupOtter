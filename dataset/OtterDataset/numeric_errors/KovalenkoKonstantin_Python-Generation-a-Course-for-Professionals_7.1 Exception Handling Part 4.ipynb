{
 "cells": [
  {
   "cell_type": "markdown",
   "source": [
    "Иерархия исключений"
   ],
   "metadata": {
    "collapsed": false
   },
   "id": "945b7c3b05204886"
  },
  {
   "cell_type": "markdown",
   "source": [
    "В Python присутствует строгая иерархия исключений, вершиной которой является тип BaseException.\n",
    "\n",
    "Тип BaseException является классом самого верхнего уровня и базовым для всех прочих классов исключений."
   ],
   "metadata": {
    "collapsed": false
   },
   "id": "74a9959fc79b0d63"
  },
  {
   "cell_type": "markdown",
   "source": [
    "Дерево встроенных исключений выглядит так:"
   ],
   "metadata": {
    "collapsed": false
   },
   "id": "9d88e7f2f5a90935"
  },
  {
   "cell_type": "markdown",
   "source": [
    "BaseException\n",
    " +-- SystemExit\n",
    " +-- KeyboardInterrupt\n",
    " +-- GeneratorExit\n",
    " +-- Exception\n",
    "      +-- StopIteration\n",
    "      +-- StopAsyncIteration\n",
    "      +-- ArithmeticError\n",
    "      |    +-- FloatingPointError\n",
    "      |    +-- OverflowError\n",
    "      |    +-- ZeroDivisionError\n",
    "      +-- AssertionError\n",
    "      +-- AttributeError\n",
    "      +-- BufferError\n",
    "      +-- EOFError\n",
    "      +-- ImportError\n",
    "           +-- ModuleNotFoundError\n",
    "      +-- LookupError\n",
    "      |    +-- IndexError\n",
    "      |    +-- KeyError\n",
    "      +-- MemoryError\n",
    "      +-- NameError\n",
    "      |    +-- UnboundLocalError\n",
    "      +-- OSError\n",
    "      |    +-- BlockingIOError\n",
    "      |    +-- ChildProcessError\n",
    "      |    +-- ConnectionError\n",
    "      |    |    +-- BrokenPipeError\n",
    "      |    |    +-- ConnectionAbortedError\n",
    "      |    |    +-- ConnectionRefusedError\n",
    "      |    |    +-- ConnectionResetError\n",
    "      |    +-- FileExistsError\n",
    "      |    +-- FileNotFoundError\n",
    "      |    +-- InterruptedError\n",
    "      |    +-- IsADirectoryError\n",
    "      |    +-- NotADirectoryError\n",
    "      |    +-- PermissionError\n",
    "      |    +-- ProcessLookupError\n",
    "      |    +-- TimeoutError\n",
    "      +-- ReferenceError\n",
    "      +-- RuntimeError\n",
    "      |    +-- NotImplementedError\n",
    "      |    +-- RecursionError\n",
    "      +-- SyntaxError\n",
    "      |    +-- IndentationError\n",
    "      |         +-- TabError\n",
    "      +-- SystemError\n",
    "      +-- TypeError\n",
    "      +-- ValueError\n",
    "      |    +-- UnicodeError\n",
    "      |         +-- UnicodeDecodeError\n",
    "      |         +-- UnicodeEncodeError\n",
    "      |         +-- UnicodeTranslateError\n",
    "      +-- Warning\n",
    "           +-- DeprecationWarning\n",
    "           +-- PendingDeprecationWarning\n",
    "           +-- RuntimeWarning\n",
    "           +-- SyntaxWarning\n",
    "           +-- UserWarning\n",
    "           +-- FutureWarning\n",
    "           +-- ImportWarning\n",
    "           +-- UnicodeWarning\n",
    "           +-- BytesWarning\n",
    "           +-- ResourceWarning"
   ],
   "metadata": {
    "collapsed": false
   },
   "id": "bfb3a15ddf54fdc4"
  },
  {
   "cell_type": "markdown",
   "source": [
    "Тип Exception – базовый класс для большинства встроенных в Python исключений. Именно его, а не BaseException, необходимо наследовать при создании пользовательского класса исключения."
   ],
   "metadata": {
    "collapsed": false
   },
   "id": "64a8cb992ea87f3a"
  },
  {
   "cell_type": "markdown",
   "source": [
    "Для проверки родства классов исключений можно использовать встроенную функцию issubclass(), которая указывает на то, является ли некоторый класс потомком указанного класса или нет."
   ],
   "metadata": {
    "collapsed": false
   },
   "id": "6739678863cf3092"
  },
  {
   "cell_type": "code",
   "execution_count": 1,
   "outputs": [
    {
     "name": "stdout",
     "output_type": "stream",
     "text": [
      "True\n",
      "True\n",
      "True\n",
      "False\n",
      "False\n"
     ]
    }
   ],
   "source": [
    "print(issubclass(IndexError, LookupError))\n",
    "print(issubclass(KeyError, Exception))\n",
    "print(issubclass(ZeroDivisionError, ArithmeticError))\n",
    "\n",
    "print(issubclass(IndexError, ArithmeticError))\n",
    "print(issubclass(FloatingPointError, OverflowError))"
   ],
   "metadata": {
    "collapsed": false,
    "ExecuteTime": {
     "end_time": "2024-11-29T07:27:45.578002500Z",
     "start_time": "2024-11-29T07:27:45.572838600Z"
    }
   },
   "id": "62112c0edf3cf4db"
  },
  {
   "cell_type": "markdown",
   "source": [
    "Важно помнить, что если у нас используется несколько блоков except, то первыми нужно указывать наиболее конкретные. Иначе мы можем оказаться в ситуации вроде этой:"
   ],
   "metadata": {
    "collapsed": false
   },
   "id": "d49c04fd97c6c879"
  },
  {
   "cell_type": "code",
   "execution_count": 2,
   "outputs": [
    {
     "name": "stdout",
     "output_type": "stream",
     "text": [
      "Произошла ошибка!\n"
     ]
    }
   ],
   "source": [
    "try:\n",
    "    nums = [10, 5, 20, 25]\n",
    "    print(nums[100])\n",
    "except Exception:\n",
    "    print('Произошла ошибка!')\n",
    "except (KeyError, IndexError):\n",
    "    print('Ошибка связанная с индексом!')"
   ],
   "metadata": {
    "collapsed": false,
    "ExecuteTime": {
     "end_time": "2024-11-29T07:28:44.817935400Z",
     "start_time": "2024-11-29T07:28:44.812459300Z"
    }
   },
   "id": "bdf668aaf6bc4180"
  },
  {
   "cell_type": "markdown",
   "source": [
    "Здесь первый блок except отлавливает вообще все исключения, ведь любое конкретное исключение наследуется от типа Exception. Второй блок except не имеет шанса хоть раз быть выполненным."
   ],
   "metadata": {
    "collapsed": false
   },
   "id": "5f119deb328fcd76"
  },
  {
   "cell_type": "markdown",
   "source": [
    "Обработчик исключений может поймать не только указанные типы исключений, но и всех их потомков."
   ],
   "metadata": {
    "collapsed": false
   },
   "id": "f66f3a17900a9a3f"
  },
  {
   "cell_type": "markdown",
   "source": [
    "Работа с объектом возбужденного исключения"
   ],
   "metadata": {
    "collapsed": false
   },
   "id": "8dec7bfedfb4835a"
  },
  {
   "cell_type": "markdown",
   "source": [
    "Если нужен доступ к сгенерированному исключению как к объекту, то используется специальный синтаксис."
   ],
   "metadata": {
    "collapsed": false
   },
   "id": "e2875bb08c852d17"
  },
  {
   "cell_type": "code",
   "execution_count": 3,
   "outputs": [
    {
     "name": "stdout",
     "output_type": "stream",
     "text": [
      "list index out of range\n",
      "<class 'IndexError'>\n"
     ]
    }
   ],
   "source": [
    "try:\n",
    "    nums = [10, 5, 20, 25]\n",
    "    print(nums[100])\n",
    "except (KeyError, IndexError) as err:  # записываем сгенерированное исключение в переменную err\n",
    "    print(err)\n",
    "    print(type(err))"
   ],
   "metadata": {
    "collapsed": false,
    "ExecuteTime": {
     "end_time": "2024-11-29T07:30:01.833468900Z",
     "start_time": "2024-11-29T07:30:01.827935600Z"
    }
   },
   "id": "f8cb1bc2017f8a58"
  },
  {
   "cell_type": "markdown",
   "source": [
    "В данном примере в переменную err попадает объект типа IndexError."
   ],
   "metadata": {
    "collapsed": false
   },
   "id": "7246e0cd4b635c92"
  },
  {
   "cell_type": "markdown",
   "source": [
    "Посмотреть все атрибуты объекта сгенерированного исключения можно с помощью встроенной функции dir()."
   ],
   "metadata": {
    "collapsed": false
   },
   "id": "ae5fa1485a20bceb"
  },
  {
   "cell_type": "code",
   "execution_count": 4,
   "outputs": [
    {
     "name": "stdout",
     "output_type": "stream",
     "text": [
      "['__cause__', '__class__', '__context__', '__delattr__', '__dict__', '__dir__', '__doc__', '__eq__', '__format__', '__ge__', '__getattribute__', '__getstate__', '__gt__', '__hash__', '__init__', '__init_subclass__', '__le__', '__lt__', '__ne__', '__new__', '__reduce__', '__reduce_ex__', '__repr__', '__setattr__', '__setstate__', '__sizeof__', '__str__', '__subclasshook__', '__suppress_context__', '__traceback__', 'add_note', 'args', 'with_traceback']\n"
     ]
    }
   ],
   "source": [
    "try:\n",
    "    print(1 / 0)\n",
    "except ZeroDivisionError as err:\n",
    "    print(dir(err))"
   ],
   "metadata": {
    "collapsed": false,
    "ExecuteTime": {
     "end_time": "2024-11-29T07:30:40.857034700Z",
     "start_time": "2024-11-29T07:30:40.840988200Z"
    }
   },
   "id": "42a9550777c76ab9"
  },
  {
   "cell_type": "markdown",
   "source": [
    "Наибольший интерес представляет из себя атрибут args, о котором будет рассказано ниже."
   ],
   "metadata": {
    "collapsed": false
   },
   "id": "7fa77be5cff63cff"
  },
  {
   "cell_type": "markdown",
   "source": [
    "В имени err нет ничего особенного. Это просто имя, которое мы выбрали для примеров. Можно использовать любое имя по своему выбору. Обычно используют имена err, exp, e"
   ],
   "metadata": {
    "collapsed": false
   },
   "id": "de48ab8c16fafa3a"
  },
  {
   "cell_type": "markdown",
   "source": [
    "Если при обработке всех исключений одним блоком except мы хотим получить доступ к объекту исключения, то нужно явно указать его тип."
   ],
   "metadata": {
    "collapsed": false
   },
   "id": "a627a15853c2e115"
  },
  {
   "cell_type": "code",
   "execution_count": 5,
   "outputs": [
    {
     "ename": "SyntaxError",
     "evalue": "invalid syntax (1792582329.py, line 3)",
     "output_type": "error",
     "traceback": [
      "\u001B[1;36m  Cell \u001B[1;32mIn[5], line 3\u001B[1;36m\u001B[0m\n\u001B[1;33m    except as err:\u001B[0m\n\u001B[1;37m           ^\u001B[0m\n\u001B[1;31mSyntaxError\u001B[0m\u001B[1;31m:\u001B[0m invalid syntax\n"
     ]
    }
   ],
   "source": [
    "try:\n",
    "    х = 1 / 0\n",
    "except as err:\n",
    "    print(err)"
   ],
   "metadata": {
    "collapsed": false,
    "ExecuteTime": {
     "end_time": "2024-11-29T07:31:49.865329600Z",
     "start_time": "2024-11-29T07:31:49.858221300Z"
    }
   },
   "id": "829db6dd14de012e"
  },
  {
   "cell_type": "code",
   "execution_count": 6,
   "outputs": [
    {
     "name": "stdout",
     "output_type": "stream",
     "text": [
      "division by zero\n"
     ]
    }
   ],
   "source": [
    "try:\n",
    "    х = 1 / 0\n",
    "except Exception as err:\n",
    "    print(err)"
   ],
   "metadata": {
    "collapsed": false,
    "ExecuteTime": {
     "end_time": "2024-11-29T07:32:09.752315900Z",
     "start_time": "2024-11-29T07:32:09.747696300Z"
    }
   },
   "id": "c6e47f255ecc6503"
  },
  {
   "cell_type": "markdown",
   "source": [
    "Примечания"
   ],
   "metadata": {
    "collapsed": false
   },
   "id": "a4f3317f0270d4b4"
  },
  {
   "cell_type": "markdown",
   "source": [
    "Примечание 1. Для получения информации об исключении можно воспользоваться функцией exc_infо() из модуля sys. Данная функция возвращает кортеж из трех значений: типа исключения, значения и объекта с трассировочной информацией об исключении, которое в данный момент обрабатывается."
   ],
   "metadata": {
    "collapsed": false
   },
   "id": "93ebe3b858f20093"
  },
  {
   "cell_type": "code",
   "execution_count": 7,
   "outputs": [
    {
     "name": "stdout",
     "output_type": "stream",
     "text": [
      "(<class 'ZeroDivisionError'>, ZeroDivisionError('division by zero'), <traceback object at 0x000001D5DEEFD080>)\n"
     ]
    }
   ],
   "source": [
    "from sys import exc_info\n",
    "\n",
    "try:\n",
    "    х = 1 / 0\n",
    "except Exception as err:\n",
    "    print(exc_info())"
   ],
   "metadata": {
    "collapsed": false,
    "ExecuteTime": {
     "end_time": "2024-11-29T07:32:50.405790100Z",
     "start_time": "2024-11-29T07:32:50.402927600Z"
    }
   },
   "id": "522af30176231851"
  },
  {
   "cell_type": "markdown",
   "source": [
    "Преобразовать эти значения в удобочитаемый вид позволяет модуль traceback"
   ],
   "metadata": {
    "collapsed": false
   },
   "id": "73466eb8d365e44b"
  },
  {
   "cell_type": "markdown",
   "source": [
    "Примечание 2. Таблица основных типов исключений."
   ],
   "metadata": {
    "collapsed": false
   },
   "id": "a0a6eae223044e58"
  },
  {
   "cell_type": "code",
   "execution_count": 9,
   "outputs": [
    {
     "data": {
      "image/png": "[encoded data removed]",
      "text/plain": "<IPython.core.display.Image object>"
     },
     "metadata": {},
     "output_type": "display_data"
    }
   ],
   "source": [
    "__import__('functions').picture('лдоаБез имени.png')"
   ],
   "metadata": {
    "collapsed": false,
    "ExecuteTime": {
     "end_time": "2024-11-29T07:36:45.662739700Z",
     "start_time": "2024-11-29T07:36:45.631606200Z"
    }
   },
   "id": "2f8c2663eb4d2192"
  },
  {
   "cell_type": "markdown",
   "source": [
    "Примечание 3. Класс, от которого производится наследование, называется базовым, родительским или суперклассом. Новый класс называется потомком, наследником, дочерним или производным классом. Базовым классом для большинства встроенных в Python исключений является Exception."
   ],
   "metadata": {
    "collapsed": false
   },
   "id": "e04221d27e8483d7"
  },
  {
   "cell_type": "markdown",
   "source": [
    "Возбуждение исключений"
   ],
   "metadata": {
    "collapsed": false
   },
   "id": "b127889236c33805"
  },
  {
   "cell_type": "markdown",
   "source": [
    "До сих пор мы позволяли интерпретатору Python возбуждать исключения, совершая преднамеренно ошибки. Однако мы можем заставить и наш код также возбудить исключение."
   ],
   "metadata": {
    "collapsed": false
   },
   "id": "cd9652b5512b4726"
  },
  {
   "cell_type": "markdown",
   "source": [
    "Для возбуждения исключения используется оператор raise. В качестве аргумента оператор raise использует экземпляр класса, унаследованного от Exception. Класс указывает на тип исключения, а аргумент, передаваемый конструктору этого исключения, обычно описывает подробности возникновения исключительной ситуации."
   ],
   "metadata": {
    "collapsed": false
   },
   "id": "643f44cc15b0e22e"
  },
  {
   "cell_type": "markdown",
   "source": [
    "Если возбуждаемые пользователем исключения не перехватываются, то они распространяются вплоть до стандартного обработчика исключений и прекращают работу программы с выводом стандартного сообщения об ошибке."
   ],
   "metadata": {
    "collapsed": false
   },
   "id": "e04d835e841079e8"
  },
  {
   "cell_type": "markdown",
   "source": [
    "Возбуждаемые пользователем исключения перехватываются тем же способом, что и исключения, которые возбуждает интерпретатор Python."
   ],
   "metadata": {
    "collapsed": false
   },
   "id": "cbffd6da9c39bd6a"
  },
  {
   "cell_type": "code",
   "execution_count": 13,
   "outputs": [
    {
     "name": "stdout",
     "output_type": "stream",
     "text": [
      "ошибочка\n",
      "<class 'IndexError'>\n"
     ]
    }
   ],
   "source": [
    "try:\n",
    "    raise IndexError('ошибочка')  # возбуждение исключения вручную\n",
    "except Exception as err:\n",
    "    print(err)\n",
    "    print(type(err))"
   ],
   "metadata": {
    "collapsed": false,
    "ExecuteTime": {
     "end_time": "2024-11-29T07:49:03.802549900Z",
     "start_time": "2024-11-29T07:49:03.794026600Z"
    }
   },
   "id": "1c13c434dba9bc3f"
  },
  {
   "cell_type": "code",
   "execution_count": 16,
   "outputs": [],
   "source": [
    "def get_month_name(index):\n",
    "    if not index.isdigit():\n",
    "        raise TypeError('Аргумент должен быть числом.')\n",
    "    if int(index) < 1 or int(index) > 12:\n",
    "        raise ValueError('Аргумент должен быть целым числом от 1 до 12.')\n",
    "    # ..."
   ],
   "metadata": {
    "collapsed": false,
    "ExecuteTime": {
     "end_time": "2024-11-29T07:50:07.537160400Z",
     "start_time": "2024-11-29T07:50:07.528643700Z"
    }
   },
   "id": "a2730495526eec7f"
  },
  {
   "cell_type": "markdown",
   "source": [
    "При создании объекта исключения мы можем указать в конструкторе подробности возникновения исключительной ситуации. Конструктор любого исключения принимает переменное количество аргументов. Для того чтобы получить указанные значения, мы используем атрибут args, который является кортежем."
   ],
   "metadata": {
    "collapsed": false
   },
   "id": "368eb9c88f82c3db"
  },
  {
   "cell_type": "code",
   "execution_count": 17,
   "outputs": [
    {
     "name": "stdout",
     "output_type": "stream",
     "text": [
      "Произошло деление на ноль.\n",
      "('Произошло деление на ноль.',)\n",
      "<class 'tuple'>\n"
     ]
    }
   ],
   "source": [
    "try:\n",
    "    x, y = 10, 0\n",
    "    if y == 0:\n",
    "        raise ZeroDivisionError('Произошло деление на ноль.')\n",
    "except ZeroDivisionError as err:\n",
    "    print(err)\n",
    "    print(err.args)\n",
    "    print(type(err.args))"
   ],
   "metadata": {
    "collapsed": false,
    "ExecuteTime": {
     "end_time": "2024-11-29T07:51:11.272836300Z",
     "start_time": "2024-11-29T07:51:11.264130900Z"
    }
   },
   "id": "df7f4f96a76edc59"
  },
  {
   "cell_type": "markdown",
   "source": [
    "При печати объекта исключения автоматически происходит вызов функции str()."
   ],
   "metadata": {
    "collapsed": false
   },
   "id": "6b3203f573dec34"
  },
  {
   "cell_type": "markdown",
   "source": [
    "Оператор возбуждения исключений raise имеет несколько вариантов формата:\n",
    "\n",
    "raise <экземпляр класса>\n",
    "raise <название класса>\n",
    "raise <экземпляр или название класса> from <объект исключения>\n",
    "raise"
   ],
   "metadata": {
    "collapsed": false
   },
   "id": "73336bfe4f6bc510"
  },
  {
   "cell_type": "markdown",
   "source": [
    "В первом варианте оператора raise указывается экземпляр класса возбуждаемого исключения с аргументами при необходимости."
   ],
   "metadata": {
    "collapsed": false
   },
   "id": "55e32fc6c71a6a40"
  },
  {
   "cell_type": "code",
   "execution_count": null,
   "outputs": [],
   "source": [
    "raise ValueError('Oпиcaниe исключения')"
   ],
   "metadata": {
    "collapsed": false
   },
   "id": "e3b97873ed6c3177"
  },
  {
   "cell_type": "markdown",
   "source": [
    "Во втором варианте оператора raise указывается только название класса исключения."
   ],
   "metadata": {
    "collapsed": false
   },
   "id": "c873c02fa23ae27f"
  },
  {
   "cell_type": "code",
   "execution_count": null,
   "outputs": [],
   "source": [
    "raise ValueError  # эквивалентно: raise ValueError()"
   ],
   "metadata": {
    "collapsed": false
   },
   "id": "b3d6bc214e9493a2"
  },
  {
   "cell_type": "markdown",
   "source": [
    "В третьем варианте оператора raise сначала указывается экземпляр класса или просто название класса, а потом объект исключения, на основании которого создается новое исключение. В этом случае объект исходного исключения сохраняется в атрибуте __cause__. При обработке вложенных исключений эти данные используются для вывода информации не только о последнем исключении, но и о первоначальном исключении."
   ],
   "metadata": {
    "collapsed": false
   },
   "id": "a3c26aec478daec2"
  },
  {
   "cell_type": "code",
   "execution_count": 18,
   "outputs": [
    {
     "name": "stdout",
     "output_type": "stream",
     "text": [
      "Ошибка TypeError:  Ошибка типа данных.\n",
      "Первоначальная ошибка:  Произошла ошибка в процессе выполнения.\n"
     ]
    }
   ],
   "source": [
    "try:\n",
    "    # Вызовим исключение\n",
    "    raise ValueError(\"Произошла ошибка в процессе выполнения.\")\n",
    "except ValueError as e:\n",
    "    try:\n",
    "        # Вложенное исключение, где мы заново возбуждаем исключение\n",
    "        raise TypeError(\"Ошибка типа данных.\") from e\n",
    "    except TypeError as e2:\n",
    "        # Вложенное исключение с указанием первоначальной ошибки через __cause__\n",
    "        print(\"Ошибка TypeError: \", e2)\n",
    "        print(\"Первоначальная ошибка: \", e2.__cause__)"
   ],
   "metadata": {
    "collapsed": false,
    "ExecuteTime": {
     "end_time": "2024-11-29T07:54:23.895429700Z",
     "start_time": "2024-11-29T07:54:23.888914900Z"
    }
   },
   "id": "9fbbe6f416c41cd"
  },
  {
   "cell_type": "markdown",
   "source": [
    "Повторное возбуждение исключения"
   ],
   "metadata": {
    "collapsed": false
   },
   "id": "db7aeaecf19ffe5f"
  },
  {
   "cell_type": "markdown",
   "source": [
    "В четвертом варианте оператора raise мы повторно возбуждаем и пробрасываем выше последнее перехваченное исключение."
   ],
   "metadata": {
    "collapsed": false
   },
   "id": "f9248452df409351"
  },
  {
   "cell_type": "code",
   "execution_count": 20,
   "outputs": [
    {
     "name": "stdout",
     "output_type": "stream",
     "text": [
      "Произошла ошибка: Некорректные данные\n",
      "Исключение было проброшено снова: Некорректные данные\n"
     ]
    }
   ],
   "source": [
    "def process_data(data):\n",
    "    try:\n",
    "        if data == \"bad_data\":\n",
    "            raise ValueError(\"Некорректные данные\")\n",
    "        print(f\"Обрабатываем данные: {data}\")\n",
    "    except ValueError as e:\n",
    "        print(f\"Произошла ошибка: {e}\")\n",
    "        # Повторно возбуждаем то же самое исключение\n",
    "        raise\n",
    "\n",
    "\n",
    "try:\n",
    "    process_data(\"bad_data\")\n",
    "except ValueError as e:\n",
    "    print(f\"Исключение было проброшено снова: {e}\")  # пробрасываем исключение выше"
   ],
   "metadata": {
    "collapsed": false,
    "ExecuteTime": {
     "end_time": "2024-11-29T07:59:52.330676900Z",
     "start_time": "2024-11-29T07:59:52.320814100Z"
    }
   },
   "id": "64a449a022318586"
  },
  {
   "cell_type": "markdown",
   "source": [
    "Примечания"
   ],
   "metadata": {
    "collapsed": false
   },
   "id": "a7c397456376f184"
  },
  {
   "cell_type": "markdown",
   "source": [
    "Примечание 1. Возбуждение исключения в коде похоже на return, только на его глобальную версию, завершающую все функции в порядке, обратном тому, в котором они вызывались. Если исключение будет возбуждено, но не будет перехвачено, то есть как-то обработано, вся программа так и завершится."
   ],
   "metadata": {
    "collapsed": false
   },
   "id": "4b334775d534c95d"
  },
  {
   "cell_type": "markdown",
   "source": [
    "Примечание 2. Сам механизм исключений достаточно медленный, поэтому, например, не очень хорошей идеей будет возбуждать исключение внутри цикла, когда мы точно знаем, что их будет достаточно большое количество."
   ],
   "metadata": {
    "collapsed": false
   },
   "id": "66ec88f28a6e9d95"
  },
  {
   "cell_type": "markdown",
   "source": [
    "Примечание 3. В ситуации, когда мы перехватываем исключение, делаем некие действия, а затем пробрасываем его выше, нужно использовать следующий код:"
   ],
   "metadata": {
    "collapsed": false
   },
   "id": "50eb785d13c64aa2"
  },
  {
   "cell_type": "code",
   "execution_count": 22,
   "outputs": [
    {
     "name": "stdout",
     "output_type": "stream",
     "text": [
      "division by zero\n"
     ]
    },
    {
     "ename": "ZeroDivisionError",
     "evalue": "division by zero",
     "output_type": "error",
     "traceback": [
      "\u001B[1;31m---------------------------------------------------------------------------\u001B[0m",
      "\u001B[1;31mZeroDivisionError\u001B[0m                         Traceback (most recent call last)",
      "Cell \u001B[1;32mIn[22], line 2\u001B[0m\n\u001B[0;32m      1\u001B[0m \u001B[38;5;28;01mtry\u001B[39;00m:\n\u001B[1;32m----> 2\u001B[0m     х \u001B[38;5;241m=\u001B[39m \u001B[38;5;241;43m1\u001B[39;49m\u001B[43m \u001B[49m\u001B[38;5;241;43m/\u001B[39;49m\u001B[43m \u001B[49m\u001B[38;5;241;43m0\u001B[39;49m\n\u001B[0;32m      3\u001B[0m \u001B[38;5;28;01mexcept\u001B[39;00m \u001B[38;5;167;01mException\u001B[39;00m \u001B[38;5;28;01mas\u001B[39;00m err:\n\u001B[0;32m      4\u001B[0m     \u001B[38;5;28mprint\u001B[39m(err)                  \u001B[38;5;66;03m# каким-то образом обработали перехваченное исключение\u001B[39;00m\n",
      "\u001B[1;31mZeroDivisionError\u001B[0m: division by zero"
     ]
    }
   ],
   "source": [
    "try:\n",
    "    х = 1 / 0\n",
    "except Exception as err:\n",
    "    print(err)  # каким-то образом обработали перехваченное исключение\n",
    "    raise  # пробрасываем исключение выше"
   ],
   "metadata": {
    "collapsed": false,
    "ExecuteTime": {
     "end_time": "2024-11-29T08:05:32.644749800Z",
     "start_time": "2024-11-29T08:05:32.627026Z"
    }
   },
   "id": "c70efc7d4c6f010b"
  },
  {
   "cell_type": "markdown",
   "source": [
    "Использовать код не рекомендуется, так как мы получим возбуждение нового исключения, пусть даже и представляющего старый объект. Возбуждение нового исключения повлечет за собой потерю информации о месте возникновения изначального исключения."
   ],
   "metadata": {
    "collapsed": false
   },
   "id": "ae5b3206783ab6cb"
  },
  {
   "cell_type": "code",
   "execution_count": 21,
   "outputs": [
    {
     "name": "stdout",
     "output_type": "stream",
     "text": [
      "division by zero\n"
     ]
    },
    {
     "ename": "ZeroDivisionError",
     "evalue": "division by zero",
     "output_type": "error",
     "traceback": [
      "\u001B[1;31m---------------------------------------------------------------------------\u001B[0m",
      "\u001B[1;31mZeroDivisionError\u001B[0m                         Traceback (most recent call last)",
      "Cell \u001B[1;32mIn[21], line 5\u001B[0m\n\u001B[0;32m      3\u001B[0m \u001B[38;5;28;01mexcept\u001B[39;00m \u001B[38;5;167;01mException\u001B[39;00m \u001B[38;5;28;01mas\u001B[39;00m err:\n\u001B[0;32m      4\u001B[0m     \u001B[38;5;28mprint\u001B[39m(err)\n\u001B[1;32m----> 5\u001B[0m     \u001B[38;5;28;01mraise\u001B[39;00m err\n",
      "Cell \u001B[1;32mIn[21], line 2\u001B[0m\n\u001B[0;32m      1\u001B[0m \u001B[38;5;28;01mtry\u001B[39;00m:\n\u001B[1;32m----> 2\u001B[0m     х \u001B[38;5;241m=\u001B[39m \u001B[38;5;241;43m1\u001B[39;49m\u001B[43m \u001B[49m\u001B[38;5;241;43m/\u001B[39;49m\u001B[43m \u001B[49m\u001B[38;5;241;43m0\u001B[39;49m\n\u001B[0;32m      3\u001B[0m \u001B[38;5;28;01mexcept\u001B[39;00m \u001B[38;5;167;01mException\u001B[39;00m \u001B[38;5;28;01mas\u001B[39;00m err:\n\u001B[0;32m      4\u001B[0m     \u001B[38;5;28mprint\u001B[39m(err)\n",
      "\u001B[1;31mZeroDivisionError\u001B[0m: division by zero"
     ]
    }
   ],
   "source": [
    "try:\n",
    "    х = 1 / 0\n",
    "except Exception as err:\n",
    "    print(err)\n",
    "    raise err"
   ],
   "metadata": {
    "collapsed": false,
    "ExecuteTime": {
     "end_time": "2024-11-29T08:05:28.649229500Z",
     "start_time": "2024-11-29T08:05:28.611744Z"
    }
   },
   "id": "e7f3b29f71ce64a"
  },
  {
   "cell_type": "markdown",
   "source": [
    "Просто пишите raise — так будет заново возбуждено последнее перехваченное исключение с сохранением нужной информации."
   ],
   "metadata": {
    "collapsed": false
   },
   "id": "8e9683f8013b12a7"
  },
  {
   "cell_type": "markdown",
   "source": [
    "Примечание 4. Как уже говорилось ранее, при создании объекта исключения мы можем указать в конструкторе подробности возникновения исключительной ситуации. Конструктор исключения принимает переменное количество аргументов."
   ],
   "metadata": {
    "collapsed": false
   },
   "id": "6affa7b917f7f60f"
  },
  {
   "cell_type": "code",
   "execution_count": 23,
   "outputs": [
    {
     "name": "stdout",
     "output_type": "stream",
     "text": [
      "Произошла ошибка\n"
     ]
    }
   ],
   "source": [
    "try:\n",
    "    raise ValueError('Произошла ошибка')\n",
    "except ValueError as e:\n",
    "    print(e)"
   ],
   "metadata": {
    "collapsed": false,
    "ExecuteTime": {
     "end_time": "2024-11-29T08:06:36.949121600Z",
     "start_time": "2024-11-29T08:06:36.939115300Z"
    }
   },
   "id": "9fbc70e9a07ae10c"
  },
  {
   "cell_type": "markdown",
   "source": [
    "Примечательно то, что при передаче переменной с исключением в функцию print() происходит вывод именно тех аргументов, которые были указаны при создании объекта исключения. И если таких аргументов было передано несколько, они будут выведены все в виде кортежа."
   ],
   "metadata": {
    "collapsed": false
   },
   "id": "925c19c4a05f60bf"
  },
  {
   "cell_type": "code",
   "execution_count": 24,
   "outputs": [
    {
     "name": "stdout",
     "output_type": "stream",
     "text": [
      "('Ой', 'Произошла ошибка')\n"
     ]
    }
   ],
   "source": [
    "try:\n",
    "    raise ValueError('Ой', 'Произошла ошибка')\n",
    "except ValueError as e:\n",
    "    print(e)"
   ],
   "metadata": {
    "collapsed": false,
    "ExecuteTime": {
     "end_time": "2024-11-29T08:07:13.163677700Z",
     "start_time": "2024-11-29T08:07:13.154140200Z"
    }
   },
   "id": "9312798497d84df5"
  },
  {
   "cell_type": "code",
   "execution_count": 25,
   "outputs": [
    {
     "name": "stdout",
     "output_type": "stream",
     "text": [
      "oops\n",
      "('oops',)\n",
      "<class 'tuple'>\n"
     ]
    }
   ],
   "source": [
    "try:\n",
    "    raise ValueError('oops')\n",
    "except ValueError as e:\n",
    "    print(e)\n",
    "    print(e.args)\n",
    "    print(type(e.args))"
   ],
   "metadata": {
    "collapsed": false,
    "ExecuteTime": {
     "end_time": "2024-11-29T08:17:33.523653600Z",
     "start_time": "2024-11-29T08:17:33.514093Z"
    }
   },
   "id": "d58adeb02021c285"
  },
  {
   "cell_type": "code",
   "execution_count": 27,
   "outputs": [
    {
     "name": "stdout",
     "output_type": "stream",
     "text": [
      "('Not found', 'Firefox')\n"
     ]
    }
   ],
   "source": [
    "data = {'Chrome': 'browser', 'Discord': 'messenger', 'Steam': 'digital distributor'}\n",
    "\n",
    "try:\n",
    "    try:\n",
    "        app_name = 'Firefox'\n",
    "        app_type = data[app_name]\n",
    "    except:\n",
    "        raise KeyError('Not found', app_name)\n",
    "except KeyError as e:\n",
    "    print(e.args)"
   ],
   "metadata": {
    "collapsed": false,
    "ExecuteTime": {
     "end_time": "2024-11-29T08:18:24.602247800Z",
     "start_time": "2024-11-29T08:18:24.592517300Z"
    }
   },
   "id": "5a2d8f56993d4c96"
  },
  {
   "cell_type": "markdown",
   "source": [
    "Функция get_weekday()\n",
    "Реализуйте функцию get_weekday(), которая принимает один аргумент:\n",
    "\n",
    "number — целое число (от 1 до 7 включительно)\n",
    "Функция должна возвращать полное название дня недели на русском, который соответствует числу number, при этом:\n",
    "\n",
    "если number не является целым числом, функция должна возбуждать исключение: \n",
    "TypeError('Аргумент не является целым числом')\n",
    "если number является целым числом, но не принадлежит отрезку [1;7], функция должна возбуждать исключение: \n",
    "ValueError('Аргумент не принадлежит требуемому диапазону')\n",
    "Примечание 1. В тестирующую систему сдайте программу, содержащую только необходимую функцию get_weekday(), но не код, вызывающий ее."
   ],
   "metadata": {
    "collapsed": false
   },
   "id": "10caaf6cc98a478d"
  },
  {
   "cell_type": "code",
   "execution_count": 38,
   "outputs": [
    {
     "name": "stdout",
     "output_type": "stream",
     "text": [
      "Понедельник\n",
      "Аргумент не является целым числом\n",
      "<class 'TypeError'>\n",
      "Аргумент не принадлежит требуемому диапазону\n",
      "<class 'ValueError'>\n",
      "Аргумент не является целым числом\n",
      "<class 'TypeError'>\n"
     ]
    }
   ],
   "source": [
    "def get_weekday(number: int):\n",
    "    if type(number) is int:\n",
    "        try:\n",
    "            week = {1: \"Понедельник\", 2: \"Вторник\", 3: \"Среда\", 4: \"Четверг\", 5: \"Пятница\", 6: \"Суббота\",\n",
    "                    7: \"Воскресенье\", }\n",
    "            return week[number]\n",
    "        except:\n",
    "            raise ValueError('Аргумент не принадлежит требуемому диапазону')\n",
    "    else:\n",
    "        raise TypeError('Аргумент не является целым числом')\n",
    "\n",
    "\n",
    "print(get_weekday(1))\n",
    "\n",
    "try:\n",
    "    print(get_weekday('hello'))\n",
    "except Exception as err:\n",
    "    print(err)\n",
    "    print(type(err))\n",
    "\n",
    "try:\n",
    "    print(get_weekday(8))\n",
    "except ValueError as err:\n",
    "    print(err)\n",
    "    print(type(err))\n",
    "\n",
    "try:\n",
    "    print(get_weekday(4.0))\n",
    "except Exception as err:\n",
    "    print(err)\n",
    "    print(type(err))"
   ],
   "metadata": {
    "collapsed": false,
    "ExecuteTime": {
     "end_time": "2024-11-29T09:06:48.045404600Z",
     "start_time": "2024-11-29T09:06:48.036886500Z"
    }
   },
   "id": "982d5218b9e27b09"
  },
  {
   "cell_type": "code",
   "execution_count": 41,
   "outputs": [
    {
     "name": "stdout",
     "output_type": "stream",
     "text": [
      "{1: 'понедельник', 2: 'вторник', 3: 'среда', 4: 'четверг', 5: 'пятница', 6: 'суббота', 7: 'воскресенье'}\n"
     ]
    }
   ],
   "source": [
    "import calendar, locale\n",
    "\n",
    "locale.setlocale(locale.LC_ALL, 'ru_RU.UTF-8')\n",
    "days = dict(enumerate(calendar.day_name, 1))\n",
    "print(days)"
   ],
   "metadata": {
    "collapsed": false,
    "ExecuteTime": {
     "end_time": "2024-11-29T09:10:45.974917900Z",
     "start_time": "2024-11-29T09:10:45.966370400Z"
    }
   },
   "id": "fbe1757183da21d1"
  },
  {
   "cell_type": "markdown",
   "source": [
    "Функция get_id()\n",
    "В онлайн-школе BEEGEEK имя ученика считается корректным, если оно начинается с заглавной латинской буквы, за которой следуют строчные латинские буквы. Например, имена Timur и Yo считаются корректными, а имена timyrik, Yo17, TimuRRR нет. Также у каждого ученика имеется идентификационный номер, представленный натуральным числом, который выдается при поступлении в школу. К примеру, если в школе обучается 10 учеников, то новый прибывший ученик получит идентификационный номер равный 11.\n",
    "\n",
    "Реализуйте функцию get_id(), которая принимает два аргумента:\n",
    "\n",
    "names — список имен учеников, обучающихся в школе\n",
    "name — имя поступающего ученика\n",
    "Функция должна возвращать идентификационный номер, который получит поступающий в школу ученик, при этом\n",
    "\n",
    "если имя ученика name не является строкой (тип str), функция должна возбуждать исключение:\n",
    "TypeError('Имя не является строкой')\n",
    "если имя ученика name является строкой (тип str), но не представляет собой корректное имя, функция должна возбуждать исключение:\n",
    "ValueError('Имя не является корректным')\n",
    "Примечание 1. В тестирующую систему сдайте программу, содержащую только необходимую функцию get_id(), но не код, вызывающий ее. "
   ],
   "metadata": {
    "collapsed": false
   },
   "id": "3892f30b83bcaccf"
  },
  {
   "cell_type": "code",
   "execution_count": 80,
   "outputs": [
    {
     "name": "stdout",
     "output_type": "stream",
     "text": [
      "4\n",
      "Имя не является корректным\n",
      "Имя не является строкой\n",
      "Имя не является корректным\n",
      "Имя не является корректным\n"
     ]
    }
   ],
   "source": [
    "def get_id(names: list, name: str):\n",
    "    try:\n",
    "        if not name.isalpha() or not name[0].isupper() or not name[1:].islower():\n",
    "            raise ValueError('Имя не является корректным')\n",
    "        else:\n",
    "            return len(names) + 1\n",
    "    except AttributeError:\n",
    "        raise TypeError('Имя не является строкой')\n",
    "\n",
    "names = ['Timur', 'Anri', 'Dima']\n",
    "name = 'Arthur'\n",
    "\n",
    "print(get_id(names, name))\n",
    "\n",
    "names = ['Timur', 'Anri', 'Dima', 'Arthur']\n",
    "name = 'Ruslan1337'\n",
    "\n",
    "try:\n",
    "    print(get_id(names, name))\n",
    "except ValueError as e:\n",
    "    print(e)\n",
    "    \n",
    "names = ['Timur', 'Anri', 'Dima', 'Arthur', 'Ruslan']\n",
    "name = ['E', 'd', 'u', 'a', 'r', 'd']\n",
    "\n",
    "try:\n",
    "    print(get_id(names, name))\n",
    "except TypeError as e:\n",
    "    print(e)\n",
    "    \n",
    "names = ['Timur', 'Anri', 'Dima', 'Arthur']\n",
    "name = 'ruslan'\n",
    "\n",
    "try:\n",
    "    print(get_id(names, name))\n",
    "except ValueError as e:\n",
    "    print(e)\n",
    "    \n",
    "names = ['Timur', 'Anri', 'Dima', 'Arthur']\n",
    "name = 'RuSlan'\n",
    "\n",
    "try:\n",
    "    print(get_id(names, name))\n",
    "except ValueError as e:\n",
    "    print(e)\n",
    "    "
   ],
   "metadata": {
    "collapsed": false,
    "ExecuteTime": {
     "end_time": "2024-11-29T12:21:02.882319900Z",
     "start_time": "2024-11-29T12:21:02.872372800Z"
    }
   },
   "id": "5d5228c1048df594"
  },
  {
   "cell_type": "code",
   "execution_count": null,
   "outputs": [],
   "source": [
    "def get_id(names: list, name: str) -> int:\n",
    "    id_ = len(names)\n",
    "    if not isinstance(name, str):\n",
    "        raise TypeError('Имя не является строкой')\n",
    "    if not name.istitle() or not name.isalpha():\n",
    "        raise ValueError('Имя не является корректным')\n",
    "    return id_ + 1"
   ],
   "metadata": {
    "collapsed": false
   },
   "id": "5dbbccffbbc46d32"
  },
  {
   "cell_type": "markdown",
   "source": [
    "Десериализация\n",
    "Напишите программу, которая принимает на вход название JSON файла, десериализует содержащийся в этом файле объект и выводит его.\n",
    "\n",
    "если файла с данным названием нет в папке с программой, программа должна вывести текст:\n",
    "Файл не найден\n",
    "если файл с данным названием содержит некорректные данные (то есть не удовлетворяющие формату JSON), программа должна вывести текст:\n",
    "Ошибка при десериализации\n",
    "Формат входных данных\n",
    "На вход программе подается название JSON файла.\n",
    "\n",
    "Формат выходных данных\n",
    "Программа должна десериализовать объект, содержащийся в файле с введенным названием, и вывести его. Если при поиске файла или десериализации его содержимого произошла ошибка, программа должна вывести соответствующий текст.\n",
    "\n",
    "Примечание 1. Название подаваемого файла уже содержит расширение.\n",
    "\n",
    "Примечание 2. В первом тесте файл numbers.json имеет следующее содержание\n",
    "\n",
    "[1, 2, 3, 4, 5, 6, 7, 8, 9, 10]\n",
    "Файл countries.json, представленный во втором тесте, отсутствует в папке с программой.\n",
    "\n",
    "В третьем тесте файл stores.json имеет следующее содержание:\n",
    "\n",
    "[}{}D}A{Sd]as][d]as[d][A}SD[as]d[][1111111111111[{}0002"
   ],
   "metadata": {
    "collapsed": false
   },
   "id": "21f473ca4dc6291a"
  },
  {
   "cell_type": "code",
   "execution_count": 84,
   "outputs": [
    {
     "name": "stdout",
     "output_type": "stream",
     "text": [
      "Файл не найден\n"
     ]
    }
   ],
   "source": [
    "import json\n",
    "\n",
    "name = input()\n",
    "\n",
    "try:\n",
    "    with open(name) as file:\n",
    "        data = json.load(file)\n",
    "        print(data)\n",
    "except FileNotFoundError:\n",
    "    print('Файл не найден')\n",
    "except json.decoder.JSONDecodeError:\n",
    "    print('Ошибка при десериализации')    "
   ],
   "metadata": {
    "collapsed": false,
    "ExecuteTime": {
     "end_time": "2024-11-29T12:38:51.684627900Z",
     "start_time": "2024-11-29T12:38:48.405734200Z"
    }
   },
   "id": "4d3e4231234a6a5f"
  },
  {
   "cell_type": "code",
   "execution_count": null,
   "outputs": [],
   "source": [
    "import json\n",
    "\n",
    "try:\n",
    "    with open(input(), encoding='utf-8') as f:\n",
    "        print(json.load(f))\n",
    "except FileNotFoundError:\n",
    "    print('Файл не найден')\n",
    "except ValueError:\n",
    "    print('Ошибка при десериализации')"
   ],
   "metadata": {
    "collapsed": false
   },
   "id": "7f81debd24f11adb"
  }
 ],
 "metadata": {
  "kernelspec": {
   "display_name": "Python 3",
   "language": "python",
   "name": "python3"
  },
  "language_info": {
   "codemirror_mode": {
    "name": "ipython",
    "version": 2
   },
   "file_extension": ".py",
   "mimetype": "text/x-python",
   "name": "python",
   "nbconvert_exporter": "python",
   "pygments_lexer": "ipython2",
   "version": "2.7.6"
  }
 },
 "nbformat": 4,
 "nbformat_minor": 5
}
