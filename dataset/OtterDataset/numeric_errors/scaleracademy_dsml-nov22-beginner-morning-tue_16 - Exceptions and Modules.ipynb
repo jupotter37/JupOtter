{
 "cells": [
  {
   "cell_type": "code",
   "execution_count": 1,
   "id": "68232a30",
   "metadata": {},
   "outputs": [
    {
     "ename": "ZeroDivisionError",
     "evalue": "division by zero",
     "output_type": "error",
     "traceback": [
      "\u001b[0;31m---------------------------------------------------------------------------\u001b[0m",
      "\u001b[0;31mZeroDivisionError\u001b[0m                         Traceback (most recent call last)",
      "\u001b[0;32m/var/folders/nn/c52y0d3j0gq59dpsswchkt2r0000gn/T/ipykernel_2936/1455669704.py\u001b[0m in \u001b[0;36m<module>\u001b[0;34m\u001b[0m\n\u001b[0;32m----> 1\u001b[0;31m \u001b[0;36m1\u001b[0m \u001b[0;34m/\u001b[0m \u001b[0;36m0\u001b[0m\u001b[0;34m\u001b[0m\u001b[0;34m\u001b[0m\u001b[0m\n\u001b[0m",
      "\u001b[0;31mZeroDivisionError\u001b[0m: division by zero"
     ]
    }
   ],
   "source": [
    "1 / 0"
   ]
  },
  {
   "cell_type": "code",
   "execution_count": 2,
   "id": "eacf657b",
   "metadata": {},
   "outputs": [
    {
     "ename": "NameError",
     "evalue": "name 'var' is not defined",
     "output_type": "error",
     "traceback": [
      "\u001b[0;31m---------------------------------------------------------------------------\u001b[0m",
      "\u001b[0;31mNameError\u001b[0m                                 Traceback (most recent call last)",
      "\u001b[0;32m/var/folders/nn/c52y0d3j0gq59dpsswchkt2r0000gn/T/ipykernel_2936/2734745701.py\u001b[0m in \u001b[0;36m<module>\u001b[0;34m\u001b[0m\n\u001b[0;32m----> 1\u001b[0;31m \u001b[0mprint\u001b[0m\u001b[0;34m(\u001b[0m\u001b[0mvar\u001b[0m\u001b[0;34m)\u001b[0m\u001b[0;34m\u001b[0m\u001b[0;34m\u001b[0m\u001b[0m\n\u001b[0m",
      "\u001b[0;31mNameError\u001b[0m: name 'var' is not defined"
     ]
    }
   ],
   "source": [
    "print(var)"
   ]
  },
  {
   "cell_type": "code",
   "execution_count": 3,
   "id": "00b16f36",
   "metadata": {},
   "outputs": [
    {
     "ename": "IndentationError",
     "evalue": "expected an indented block (3614531987.py, line 1)",
     "output_type": "error",
     "traceback": [
      "\u001b[0;36m  File \u001b[0;32m\"/var/folders/nn/c52y0d3j0gq59dpsswchkt2r0000gn/T/ipykernel_2936/3614531987.py\"\u001b[0;36m, line \u001b[0;32m1\u001b[0m\n\u001b[0;31m    if 573:\u001b[0m\n\u001b[0m           ^\u001b[0m\n\u001b[0;31mIndentationError\u001b[0m\u001b[0;31m:\u001b[0m expected an indented block\n"
     ]
    }
   ],
   "source": [
    "if 573:"
   ]
  },
  {
   "cell_type": "code",
   "execution_count": 4,
   "id": "7f12b58b",
   "metadata": {},
   "outputs": [
    {
     "ename": "AttributeError",
     "evalue": "'str' object has no attribute 'sort'",
     "output_type": "error",
     "traceback": [
      "\u001b[0;31m---------------------------------------------------------------------------\u001b[0m",
      "\u001b[0;31mAttributeError\u001b[0m                            Traceback (most recent call last)",
      "\u001b[0;32m/var/folders/nn/c52y0d3j0gq59dpsswchkt2r0000gn/T/ipykernel_2936/2691597495.py\u001b[0m in \u001b[0;36m<module>\u001b[0;34m\u001b[0m\n\u001b[0;32m----> 1\u001b[0;31m \u001b[0;34m\"random\"\u001b[0m\u001b[0;34m.\u001b[0m\u001b[0msort\u001b[0m\u001b[0;34m(\u001b[0m\u001b[0;34m)\u001b[0m\u001b[0;34m\u001b[0m\u001b[0;34m\u001b[0m\u001b[0m\n\u001b[0m",
      "\u001b[0;31mAttributeError\u001b[0m: 'str' object has no attribute 'sort'"
     ]
    }
   ],
   "source": [
    "\"random\".sort()"
   ]
  },
  {
   "cell_type": "code",
   "execution_count": 6,
   "id": "02407003",
   "metadata": {},
   "outputs": [
    {
     "name": "stdout",
     "output_type": "stream",
     "text": [
      "ArithmeticError\n",
      "AssertionError\n",
      "AttributeError\n",
      "BlockingIOError\n",
      "BrokenPipeError\n",
      "BufferError\n",
      "ChildProcessError\n",
      "ConnectionAbortedError\n",
      "ConnectionError\n",
      "ConnectionRefusedError\n",
      "ConnectionResetError\n",
      "EOFError\n",
      "EnvironmentError\n",
      "FileExistsError\n",
      "FileNotFoundError\n",
      "FloatingPointError\n",
      "IOError\n",
      "ImportError\n",
      "IndentationError\n",
      "IndexError\n",
      "InterruptedError\n",
      "IsADirectoryError\n",
      "KeyError\n",
      "LookupError\n",
      "MemoryError\n",
      "ModuleNotFoundError\n",
      "NameError\n",
      "NotADirectoryError\n",
      "NotImplementedError\n",
      "OSError\n",
      "OverflowError\n",
      "PermissionError\n",
      "ProcessLookupError\n",
      "RecursionError\n",
      "ReferenceError\n",
      "RuntimeError\n",
      "SyntaxError\n",
      "SystemError\n",
      "TabError\n",
      "TimeoutError\n",
      "TypeError\n",
      "UnboundLocalError\n",
      "UnicodeDecodeError\n",
      "UnicodeEncodeError\n",
      "UnicodeError\n",
      "UnicodeTranslateError\n",
      "ValueError\n",
      "ZeroDivisionError\n"
     ]
    }
   ],
   "source": [
    "for i in dir(__builtins__):\n",
    "    if \"Error\" in i:\n",
    "        print(i)"
   ]
  },
  {
   "cell_type": "code",
   "execution_count": 8,
   "id": "8eb5b222",
   "metadata": {},
   "outputs": [
    {
     "name": "stdout",
     "output_type": "stream",
     "text": [
      "Hello2!\n"
     ]
    },
    {
     "ename": "ZeroDivisionError",
     "evalue": "division by zero",
     "output_type": "error",
     "traceback": [
      "\u001b[0;31m---------------------------------------------------------------------------\u001b[0m",
      "\u001b[0;31mZeroDivisionError\u001b[0m                         Traceback (most recent call last)",
      "\u001b[0;32m/var/folders/nn/c52y0d3j0gq59dpsswchkt2r0000gn/T/ipykernel_2936/2394280922.py\u001b[0m in \u001b[0;36m<module>\u001b[0;34m\u001b[0m\n\u001b[1;32m      4\u001b[0m \u001b[0;34m\u001b[0m\u001b[0m\n\u001b[1;32m      5\u001b[0m \u001b[0mprint\u001b[0m\u001b[0;34m(\u001b[0m\u001b[0;34m\"Hello2!\"\u001b[0m\u001b[0;34m)\u001b[0m\u001b[0;34m\u001b[0m\u001b[0;34m\u001b[0m\u001b[0m\n\u001b[0;32m----> 6\u001b[0;31m \u001b[0msomething\u001b[0m\u001b[0;34m(\u001b[0m\u001b[0;34m)\u001b[0m\u001b[0;34m\u001b[0m\u001b[0;34m\u001b[0m\u001b[0m\n\u001b[0m",
      "\u001b[0;32m/var/folders/nn/c52y0d3j0gq59dpsswchkt2r0000gn/T/ipykernel_2936/2394280922.py\u001b[0m in \u001b[0;36msomething\u001b[0;34m()\u001b[0m\n\u001b[1;32m      1\u001b[0m \u001b[0;32mdef\u001b[0m \u001b[0msomething\u001b[0m\u001b[0;34m(\u001b[0m\u001b[0;34m)\u001b[0m\u001b[0;34m:\u001b[0m\u001b[0;34m\u001b[0m\u001b[0;34m\u001b[0m\u001b[0m\n\u001b[0;32m----> 2\u001b[0;31m     \u001b[0;36m1\u001b[0m \u001b[0;34m/\u001b[0m \u001b[0;36m0\u001b[0m\u001b[0;34m\u001b[0m\u001b[0;34m\u001b[0m\u001b[0m\n\u001b[0m\u001b[1;32m      3\u001b[0m     \u001b[0mprint\u001b[0m\u001b[0;34m(\u001b[0m\u001b[0;34m\"Hello!\"\u001b[0m\u001b[0;34m)\u001b[0m\u001b[0;34m\u001b[0m\u001b[0;34m\u001b[0m\u001b[0m\n\u001b[1;32m      4\u001b[0m \u001b[0;34m\u001b[0m\u001b[0m\n\u001b[1;32m      5\u001b[0m \u001b[0mprint\u001b[0m\u001b[0;34m(\u001b[0m\u001b[0;34m\"Hello2!\"\u001b[0m\u001b[0;34m)\u001b[0m\u001b[0;34m\u001b[0m\u001b[0;34m\u001b[0m\u001b[0m\n",
      "\u001b[0;31mZeroDivisionError\u001b[0m: division by zero"
     ]
    }
   ],
   "source": [
    "def something():\n",
    "    1 / 0\n",
    "    print(\"Hello!\")\n",
    "    \n",
    "print(\"Hello2!\")\n",
    "something()"
   ]
  },
  {
   "cell_type": "code",
   "execution_count": 9,
   "id": "f2dd3d66",
   "metadata": {},
   "outputs": [],
   "source": [
    "def weird_function(a):\n",
    "    return a / 0"
   ]
  },
  {
   "cell_type": "code",
   "execution_count": 10,
   "id": "79112a16",
   "metadata": {},
   "outputs": [],
   "source": [
    "# Error Handling"
   ]
  },
  {
   "cell_type": "code",
   "execution_count": 11,
   "id": "6983486f",
   "metadata": {},
   "outputs": [
    {
     "name": "stdout",
     "output_type": "stream",
     "text": [
      "An error has occured! You can't divide by zero.\n"
     ]
    }
   ],
   "source": [
    "try: # standard code\n",
    "    weird_function(5)\n",
    "except: # this runs if an error occurs in the try block\n",
    "    print(\"An error has occured! You can't divide by zero.\")"
   ]
  },
  {
   "cell_type": "code",
   "execution_count": 14,
   "id": "29d907f9",
   "metadata": {},
   "outputs": [
    {
     "name": "stdout",
     "output_type": "stream",
     "text": [
      "Current element - 2\n",
      "Result = 2.5\n",
      "--------------------\n",
      "Current element - 0\n",
      "Error - division by zero!\n",
      "--------------------\n",
      "Current element - hello\n",
      "Error - invalid literal for int() with base 10: 'hello'!\n",
      "--------------------\n",
      "Current element - None\n",
      "Error - int() argument must be a string, a bytes-like object or a number, not 'NoneType'!\n",
      "--------------------\n"
     ]
    }
   ],
   "source": [
    "l = [2, 0, \"hello\", None]\n",
    "\n",
    "for element in l:\n",
    "    try:\n",
    "        print(f\"Current element - {element}\")\n",
    "        result = 5 / int(element)\n",
    "        print(f\"Result = {result}\")\n",
    "    except Exception as e:\n",
    "        print(f\"Error - {e}!\")\n",
    "        \n",
    "    print(\"-\"*20)"
   ]
  },
  {
   "cell_type": "code",
   "execution_count": 18,
   "id": "f1101c0a",
   "metadata": {},
   "outputs": [
    {
     "name": "stdout",
     "output_type": "stream",
     "text": [
      "Current element - 2\n",
      "Result = 2.5\n",
      "--------------------\n",
      "Current element - 0\n",
      "ARE YOU CRAZY?\n",
      "--------------------\n",
      "Current element - hello\n",
      "WHAT?\n",
      "--------------------\n",
      "Current element - None\n",
      "Error - int() argument must be a string, a bytes-like object or a number, not 'NoneType'!\n",
      "--------------------\n"
     ]
    }
   ],
   "source": [
    "l = [2, 0, \"hello\", None]\n",
    "\n",
    "for element in l:\n",
    "    try:\n",
    "        print(f\"Current element - {element}\")\n",
    "        result = 5 / int(element)\n",
    "        print(f\"Result = {result}\")\n",
    "    except ZeroDivisionError as z: # Only for ZeroDivisionError\n",
    "        print(\"ARE YOU CRAZY?\")\n",
    "    except ValueError as v: # Only for ValueError\n",
    "        print(\"WHAT?\")\n",
    "    except Exception as e: # All the rest of the errors\n",
    "        print(f\"Error - {e}!\")\n",
    "        \n",
    "    print(\"-\"*20)"
   ]
  },
  {
   "cell_type": "code",
   "execution_count": 20,
   "id": "893ae2af",
   "metadata": {},
   "outputs": [
    {
     "name": "stdout",
     "output_type": "stream",
     "text": [
      "TRY\n",
      "ELSE\n"
     ]
    }
   ],
   "source": [
    "try:\n",
    "    print(\"TRY\")\n",
    "    # 1 / 0\n",
    "except:\n",
    "    print(\"EXCEPT - If exception occurs!\")\n",
    "else:\n",
    "    print(\"ELSE - If exception does not occur!\")"
   ]
  },
  {
   "cell_type": "code",
   "execution_count": 25,
   "id": "baefa452",
   "metadata": {},
   "outputs": [
    {
     "name": "stdout",
     "output_type": "stream",
     "text": [
      "TRY\n",
      "EXCEPT - If exception occurs!\n",
      "FINALLY - Runs no matter what!\n",
      "WHY NOT THIS?\n"
     ]
    }
   ],
   "source": [
    "# HOMEWORK -> Read about else and finally\n",
    "\n",
    "try:\n",
    "    print(\"TRY\")\n",
    "    1 / 0\n",
    "except:\n",
    "    print(\"EXCEPT - If exception occurs!\")\n",
    "else:\n",
    "    print(\"ELSE - If exception does not occur!\")\n",
    "finally:\n",
    "    print(\"FINALLY - Runs no matter what!\")\n",
    "    \n",
    "print(\"WHY NOT THIS?\")"
   ]
  },
  {
   "cell_type": "code",
   "execution_count": 27,
   "id": "e498bd47",
   "metadata": {},
   "outputs": [],
   "source": [
    "import math\n",
    "# Using import, you can load another python file i.e. module into your current file"
   ]
  },
  {
   "cell_type": "code",
   "execution_count": 28,
   "id": "4c497c5d",
   "metadata": {},
   "outputs": [
    {
     "data": {
      "text/plain": [
       "3.1622776601683795"
      ]
     },
     "execution_count": 28,
     "metadata": {},
     "output_type": "execute_result"
    }
   ],
   "source": [
    "math.sqrt(10)"
   ]
  },
  {
   "cell_type": "code",
   "execution_count": 29,
   "id": "2fd1de48",
   "metadata": {},
   "outputs": [
    {
     "data": {
      "text/plain": [
       "10"
      ]
     },
     "execution_count": 29,
     "metadata": {},
     "output_type": "execute_result"
    }
   ],
   "source": [
    "math.floor(10.5)"
   ]
  },
  {
   "cell_type": "code",
   "execution_count": 31,
   "id": "6c7302fb",
   "metadata": {},
   "outputs": [
    {
     "data": {
      "text/plain": [
       "120"
      ]
     },
     "execution_count": 31,
     "metadata": {},
     "output_type": "execute_result"
    }
   ],
   "source": [
    "math.factorial(5)"
   ]
  },
  {
   "cell_type": "code",
   "execution_count": 33,
   "id": "cd6d49e1",
   "metadata": {},
   "outputs": [],
   "source": [
    "# help(math)"
   ]
  },
  {
   "cell_type": "code",
   "execution_count": 34,
   "id": "c8ee5aeb",
   "metadata": {},
   "outputs": [],
   "source": [
    "import random"
   ]
  },
  {
   "cell_type": "code",
   "execution_count": 40,
   "id": "353bbb85",
   "metadata": {},
   "outputs": [
    {
     "data": {
      "text/plain": [
       "86"
      ]
     },
     "execution_count": 40,
     "metadata": {},
     "output_type": "execute_result"
    }
   ],
   "source": [
    "random.randint(0, 100)"
   ]
  },
  {
   "cell_type": "code",
   "execution_count": 41,
   "id": "5b134483",
   "metadata": {},
   "outputs": [],
   "source": [
    "import math"
   ]
  },
  {
   "cell_type": "code",
   "execution_count": 42,
   "id": "7e4ae523",
   "metadata": {},
   "outputs": [],
   "source": [
    "from math import *"
   ]
  },
  {
   "cell_type": "code",
   "execution_count": 43,
   "id": "fff50ead",
   "metadata": {},
   "outputs": [
    {
     "data": {
      "text/plain": [
       "120"
      ]
     },
     "execution_count": 43,
     "metadata": {},
     "output_type": "execute_result"
    }
   ],
   "source": [
    "factorial(5)"
   ]
  },
  {
   "cell_type": "code",
   "execution_count": 44,
   "id": "df2e3068",
   "metadata": {},
   "outputs": [
    {
     "data": {
      "text/plain": [
       "3.1622776601683795"
      ]
     },
     "execution_count": 44,
     "metadata": {},
     "output_type": "execute_result"
    }
   ],
   "source": [
    "sqrt(10)"
   ]
  },
  {
   "cell_type": "code",
   "execution_count": 45,
   "id": "77a4911b",
   "metadata": {},
   "outputs": [],
   "source": [
    "import math as m"
   ]
  },
  {
   "cell_type": "code",
   "execution_count": 46,
   "id": "d1ccd658",
   "metadata": {},
   "outputs": [
    {
     "data": {
      "text/plain": [
       "120"
      ]
     },
     "execution_count": 46,
     "metadata": {},
     "output_type": "execute_result"
    }
   ],
   "source": [
    "m.factorial(5)"
   ]
  },
  {
   "cell_type": "code",
   "execution_count": 47,
   "id": "f54caaab",
   "metadata": {},
   "outputs": [
    {
     "data": {
      "text/plain": [
       "3.1622776601683795"
      ]
     },
     "execution_count": 47,
     "metadata": {},
     "output_type": "execute_result"
    }
   ],
   "source": [
    "m.sqrt(10)"
   ]
  },
  {
   "cell_type": "code",
   "execution_count": 48,
   "id": "d3cd6321",
   "metadata": {},
   "outputs": [],
   "source": [
    "from functools import reduce"
   ]
  },
  {
   "cell_type": "code",
   "execution_count": 49,
   "id": "8c5948d0",
   "metadata": {},
   "outputs": [],
   "source": [
    "from math import factorial, sqrt, floor"
   ]
  },
  {
   "cell_type": "code",
   "execution_count": 50,
   "id": "e5c4660f",
   "metadata": {},
   "outputs": [],
   "source": [
    "from math import factorial as f, sqrt as s"
   ]
  },
  {
   "cell_type": "code",
   "execution_count": 51,
   "id": "30b498a4",
   "metadata": {},
   "outputs": [],
   "source": [
    "# HOMEWORK!\n",
    "# Create a custom sorting module!\n",
    "# Bubble, Selection, Insertion and Merge.\n",
    "# Each sort should have the key functionality."
   ]
  },
  {
   "cell_type": "code",
   "execution_count": null,
   "id": "0b2229f2",
   "metadata": {},
   "outputs": [],
   "source": []
  }
 ],
 "metadata": {
  "kernelspec": {
   "display_name": "Python 3 (ipykernel)",
   "language": "python",
   "name": "python3"
  },
  "language_info": {
   "codemirror_mode": {
    "name": "ipython",
    "version": 3
   },
   "file_extension": ".py",
   "mimetype": "text/x-python",
   "name": "python",
   "nbconvert_exporter": "python",
   "pygments_lexer": "ipython3",
   "version": "3.9.5"
  }
 },
 "nbformat": 4,
 "nbformat_minor": 5
}
