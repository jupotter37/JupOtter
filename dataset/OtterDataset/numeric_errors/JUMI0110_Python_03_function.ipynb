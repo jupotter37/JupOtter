{
 "cells": [
  {
   "cell_type": "markdown",
   "id": "6156ed36-e3ce-4fe5-9592-7a2744a7cd4e",
   "metadata": {},
   "source": [
    "# 함수 (function)\n",
    "- 코드의 재사용을 위해서 함수 사용"
   ]
  },
  {
   "cell_type": "code",
   "execution_count": 1,
   "id": "eb50a66b-d22e-4cbc-8999-e39a3732af0c",
   "metadata": {},
   "outputs": [
    {
     "name": "stdout",
     "output_type": "stream",
     "text": [
      "사각형의 넓이는 1500고, 둘레는 160입니다.\n"
     ]
    }
   ],
   "source": [
    "height = 50\n",
    "width = 30\n",
    "\n",
    "area = height * width\n",
    "perimeter = (height + width) * 2\n",
    "\n",
    "print(f'사각형의 넓이는 {area}고, 둘레는 {perimeter}입니다.')"
   ]
  },
  {
   "cell_type": "markdown",
   "id": "51fd1e30-bcd8-49ee-90c2-a75eb9692b0b",
   "metadata": {},
   "source": [
    "## 함수의 선언과 호출\n",
    "\n",
    "- 함수의 선언\n",
    "\n",
    "```\n",
    "def(정의) 함수의 이름(기능할 수 있게 재료1, 재료2):\n",
    "    code1\n",
    "    code2\n",
    "    ...\n",
    "    return value (함수의 결과를 값에 반환)\n",
    "```\n",
    "```python\n",
    "def func_name(parameter1, parameter2, ...):\n",
    "    code1\n",
    "    code2\n",
    "    ...\n",
    "    return velue\n",
    "```\n",
    "\n",
    "- 함수의 호출(실행)\n",
    "\n",
    "함수의 이름(재료1, 재료2)\n",
    "```python\n",
    "func_name(parameter1, parameter2, ...)\n",
    "```\n"
   ]
  },
  {
   "cell_type": "code",
   "execution_count": 3,
   "id": "439d7f72-2dda-4552-b310-f481437e5979",
   "metadata": {},
   "outputs": [],
   "source": [
    "def rectangle(height, width):\n",
    "    area = height * width\n",
    "    perimeter = (height + width) * 2\n",
    "    print(area, perimeter)\n",
    "    "
   ]
  },
  {
   "cell_type": "code",
   "execution_count": 5,
   "id": "c4b994d3-b055-4ff0-b1fd-ae6254c5476e",
   "metadata": {},
   "outputs": [
    {
     "name": "stdout",
     "output_type": "stream",
     "text": [
      "20000 600\n",
      "250000 2000\n",
      "50 30\n"
     ]
    }
   ],
   "source": [
    "rectangle(100, 200)\n",
    "rectangle(500, 500)\n",
    "rectangle(5, 10)"
   ]
  },
  {
   "cell_type": "code",
   "execution_count": 7,
   "id": "af92787a-b488-4a55-9eb5-55d6e1714a4b",
   "metadata": {},
   "outputs": [
    {
     "data": {
      "text/plain": [
       "['ArithmeticError',\n",
       " 'AssertionError',\n",
       " 'AttributeError',\n",
       " 'BaseException',\n",
       " 'BaseExceptionGroup',\n",
       " 'BlockingIOError',\n",
       " 'BrokenPipeError',\n",
       " 'BufferError',\n",
       " 'BytesWarning',\n",
       " 'ChildProcessError',\n",
       " 'ConnectionAbortedError',\n",
       " 'ConnectionError',\n",
       " 'ConnectionRefusedError',\n",
       " 'ConnectionResetError',\n",
       " 'DeprecationWarning',\n",
       " 'EOFError',\n",
       " 'Ellipsis',\n",
       " 'EncodingWarning',\n",
       " 'EnvironmentError',\n",
       " 'Exception',\n",
       " 'ExceptionGroup',\n",
       " 'False',\n",
       " 'FileExistsError',\n",
       " 'FileNotFoundError',\n",
       " 'FloatingPointError',\n",
       " 'FutureWarning',\n",
       " 'GeneratorExit',\n",
       " 'IOError',\n",
       " 'ImportError',\n",
       " 'ImportWarning',\n",
       " 'IndentationError',\n",
       " 'IndexError',\n",
       " 'InterruptedError',\n",
       " 'IsADirectoryError',\n",
       " 'KeyError',\n",
       " 'KeyboardInterrupt',\n",
       " 'LookupError',\n",
       " 'MemoryError',\n",
       " 'ModuleNotFoundError',\n",
       " 'NameError',\n",
       " 'None',\n",
       " 'NotADirectoryError',\n",
       " 'NotImplemented',\n",
       " 'NotImplementedError',\n",
       " 'OSError',\n",
       " 'OverflowError',\n",
       " 'PendingDeprecationWarning',\n",
       " 'PermissionError',\n",
       " 'ProcessLookupError',\n",
       " 'RecursionError',\n",
       " 'ReferenceError',\n",
       " 'ResourceWarning',\n",
       " 'RuntimeError',\n",
       " 'RuntimeWarning',\n",
       " 'StopAsyncIteration',\n",
       " 'StopIteration',\n",
       " 'SyntaxError',\n",
       " 'SyntaxWarning',\n",
       " 'SystemError',\n",
       " 'SystemExit',\n",
       " 'TabError',\n",
       " 'TimeoutError',\n",
       " 'True',\n",
       " 'TypeError',\n",
       " 'UnboundLocalError',\n",
       " 'UnicodeDecodeError',\n",
       " 'UnicodeEncodeError',\n",
       " 'UnicodeError',\n",
       " 'UnicodeTranslateError',\n",
       " 'UnicodeWarning',\n",
       " 'UserWarning',\n",
       " 'ValueError',\n",
       " 'Warning',\n",
       " 'WindowsError',\n",
       " 'ZeroDivisionError',\n",
       " '__IPYTHON__',\n",
       " '__build_class__',\n",
       " '__debug__',\n",
       " '__doc__',\n",
       " '__import__',\n",
       " '__loader__',\n",
       " '__name__',\n",
       " '__package__',\n",
       " '__spec__',\n",
       " 'abs',\n",
       " 'aiter',\n",
       " 'all',\n",
       " 'anext',\n",
       " 'any',\n",
       " 'ascii',\n",
       " 'bin',\n",
       " 'bool',\n",
       " 'breakpoint',\n",
       " 'bytearray',\n",
       " 'bytes',\n",
       " 'callable',\n",
       " 'chr',\n",
       " 'classmethod',\n",
       " 'compile',\n",
       " 'complex',\n",
       " 'copyright',\n",
       " 'credits',\n",
       " 'delattr',\n",
       " 'dict',\n",
       " 'dir',\n",
       " 'display',\n",
       " 'divmod',\n",
       " 'enumerate',\n",
       " 'eval',\n",
       " 'exec',\n",
       " 'execfile',\n",
       " 'filter',\n",
       " 'float',\n",
       " 'format',\n",
       " 'frozenset',\n",
       " 'get_ipython',\n",
       " 'getattr',\n",
       " 'globals',\n",
       " 'hasattr',\n",
       " 'hash',\n",
       " 'help',\n",
       " 'hex',\n",
       " 'id',\n",
       " 'input',\n",
       " 'int',\n",
       " 'isinstance',\n",
       " 'issubclass',\n",
       " 'iter',\n",
       " 'len',\n",
       " 'license',\n",
       " 'list',\n",
       " 'locals',\n",
       " 'map',\n",
       " 'max',\n",
       " 'memoryview',\n",
       " 'min',\n",
       " 'next',\n",
       " 'object',\n",
       " 'oct',\n",
       " 'open',\n",
       " 'ord',\n",
       " 'pow',\n",
       " 'print',\n",
       " 'property',\n",
       " 'range',\n",
       " 'repr',\n",
       " 'reversed',\n",
       " 'round',\n",
       " 'runfile',\n",
       " 'set',\n",
       " 'setattr',\n",
       " 'slice',\n",
       " 'sorted',\n",
       " 'staticmethod',\n",
       " 'str',\n",
       " 'sum',\n",
       " 'super',\n",
       " 'tuple',\n",
       " 'type',\n",
       " 'vars',\n",
       " 'zip']"
      ]
     },
     "execution_count": 7,
     "metadata": {},
     "output_type": "execute_result"
    }
   ],
   "source": [
    "# 파이썬에 원래 있는 함수 - 내장함수\n",
    "dir(__builtins__)"
   ]
  },
  {
   "cell_type": "code",
   "execution_count": 8,
   "id": "2a38fb55-ac39-4964-87c2-3be326bb06df",
   "metadata": {},
   "outputs": [
    {
     "data": {
      "text/plain": [
       "4"
      ]
     },
     "execution_count": 8,
     "metadata": {},
     "output_type": "execute_result"
    }
   ],
   "source": [
    "max([1, 2, 3,4])"
   ]
  },
  {
   "cell_type": "code",
   "execution_count": 9,
   "id": "042930cb-de26-4ea6-8af6-51a6bd2c2ced",
   "metadata": {},
   "outputs": [],
   "source": [
    "def my_max(num1, num2):\n",
    "    if num1 > num2:\n",
    "        print(num1)\n",
    "    elif num1 < num2:\n",
    "        print(num2)\n",
    "    else:\n",
    "        print('같다')\n"
   ]
  },
  {
   "cell_type": "code",
   "execution_count": 10,
   "id": "30adc4d4-ba21-4949-a501-6f33d7b12084",
   "metadata": {},
   "outputs": [
    {
     "name": "stdout",
     "output_type": "stream",
     "text": [
      "5\n",
      "4\n",
      "같다\n"
     ]
    }
   ],
   "source": [
    "my_max(5, 1)\n",
    "my_max(2, 4)\n",
    "my_max(4, 4)"
   ]
  },
  {
   "cell_type": "markdown",
   "id": "23307830-de32-4ac1-a2b0-12095f0c8087",
   "metadata": {},
   "source": [
    "## 함수의 return\n",
    "\n",
    "- 함수가 return을 만나면 해당 값을 반환하고 함수를 종료\n",
    "- 만약 return이 없는 경우 None을 자동으로 반환\n",
    "- return은 오직 하나의 객체만 반환"
   ]
  },
  {
   "cell_type": "code",
   "execution_count": 12,
   "id": "777340e0-8478-41e7-ac73-aab767aa7733",
   "metadata": {},
   "outputs": [
    {
     "name": "stdout",
     "output_type": "stream",
     "text": [
      "2\n",
      "None\n"
     ]
    }
   ],
   "source": [
    "result = my_max(1, 2)\n",
    "print(result)"
   ]
  },
  {
   "cell_type": "code",
   "execution_count": 13,
   "id": "2f3681f9-314d-444b-91f0-5ccd037d0e71",
   "metadata": {},
   "outputs": [],
   "source": [
    "def my_max2(num1, num2):\n",
    "    if num1 > num2:\n",
    "        return num1\n",
    "    elif num1 < num2:\n",
    "        return num2\n",
    "    else:\n",
    "        return num1\n",
    "    "
   ]
  },
  {
   "cell_type": "code",
   "execution_count": 15,
   "id": "5f1e6a98-1b93-44e1-8cee-0af943519850",
   "metadata": {},
   "outputs": [
    {
     "name": "stdout",
     "output_type": "stream",
     "text": [
      "2\n"
     ]
    }
   ],
   "source": [
    "my_max(1, 2)"
   ]
  },
  {
   "cell_type": "code",
   "execution_count": 17,
   "id": "af258555-6108-46a6-b454-779a3ebb0102",
   "metadata": {},
   "outputs": [
    {
     "data": {
      "text/plain": [
       "2"
      ]
     },
     "execution_count": 17,
     "metadata": {},
     "output_type": "execute_result"
    }
   ],
   "source": [
    "#return 결과물은 변수에 저장하여 사용할 수 있음\n",
    "#return 결과는 데이터가 나오지만 print()하지 않으면 저장만 되어있음\n",
    "my_max2(1, 2)"
   ]
  },
  {
   "cell_type": "code",
   "execution_count": 19,
   "id": "a2ed01c1-cf47-411e-b1dc-239eae7950e3",
   "metadata": {},
   "outputs": [],
   "source": [
    "result = my_max2(1, 2)"
   ]
  },
  {
   "cell_type": "code",
   "execution_count": 20,
   "id": "2e74a570-d0ab-42bd-9c1f-95e3afb7e339",
   "metadata": {},
   "outputs": [
    {
     "name": "stdout",
     "output_type": "stream",
     "text": [
      "2\n"
     ]
    }
   ],
   "source": [
    "result = my_max2(1, 2)\n",
    "print(result)"
   ]
  },
  {
   "cell_type": "code",
   "execution_count": 32,
   "id": "87ef704a-3715-40d8-a2df-8889e8b4bd07",
   "metadata": {},
   "outputs": [],
   "source": [
    "def my_list_max(list1, list2):\n",
    "    if sum(list1) > sum(list2):\n",
    "        print(list1)\n",
    "        return \n",
    "    elif sum(list1) < sum(list2):\n",
    "        print(list2)\n",
    "        return \n",
    "    else:\n",
    "        print(f'{list1}와 {list2}의 합은 같다.')\n",
    "        return\n",
    "    "
   ]
  },
  {
   "cell_type": "code",
   "execution_count": 36,
   "id": "c7cab948-8433-44d2-bfe0-5863eb19053f",
   "metadata": {},
   "outputs": [
    {
     "name": "stdout",
     "output_type": "stream",
     "text": [
      "[2, 3, 4]\n",
      "[1, 2, 4]와 [2, 5]의 합은 같다.\n"
     ]
    }
   ],
   "source": [
    "my_list_max([1, 2, 3], [2, 3, 4])\n",
    "my_list_max([1, 2, 4], [2, 5])"
   ]
  },
  {
   "cell_type": "code",
   "execution_count": 37,
   "id": "ede71446-e975-4af2-8b58-ed05be1f90e8",
   "metadata": {},
   "outputs": [],
   "source": [
    "def my_list_max2(list1, list2):\n",
    "    result1 = 0\n",
    "    result2 = 0\n",
    "\n",
    "    for num in list1:\n",
    "        result1 += num\n",
    "\n",
    "    for num in list2:\n",
    "        result2 += num\n",
    "\n",
    "    if result1 > result2:\n",
    "        return list1\n",
    "    else:\n",
    "        return list2"
   ]
  },
  {
   "cell_type": "code",
   "execution_count": 41,
   "id": "ac64f3c7-2179-4f17-8ac1-438997aa8682",
   "metadata": {},
   "outputs": [
    {
     "data": {
      "text/plain": [
       "[2, 3, 4]"
      ]
     },
     "execution_count": 41,
     "metadata": {},
     "output_type": "execute_result"
    }
   ],
   "source": [
    "my_list_max2([1, 2, 3], [2, 3, 4])"
   ]
  },
  {
   "cell_type": "code",
   "execution_count": 44,
   "id": "7bf9d3b4-4ba0-4c06-8a94-82d66cad0349",
   "metadata": {},
   "outputs": [
    {
     "data": {
      "text/plain": [
       "30"
      ]
     },
     "execution_count": 44,
     "metadata": {},
     "output_type": "execute_result"
    }
   ],
   "source": [
    "def my_def(x):\n",
    "    return x * 3\n",
    "    return x * 2\n",
    "\n",
    "my_def(10)"
   ]
  },
  {
   "cell_type": "code",
   "execution_count": 46,
   "id": "af7034a5-d5d9-400d-84b1-bf0d5ae033f6",
   "metadata": {},
   "outputs": [
    {
     "data": {
      "text/plain": [
       "(10, 20)"
      ]
     },
     "execution_count": 46,
     "metadata": {},
     "output_type": "execute_result"
    }
   ],
   "source": [
    "# 파이썬 기능적으로 두 개의 데이터를 하나의 객체로 묶어서 결과 반환\n",
    "def my_def2(x):\n",
    "    return x, x * 2\n",
    "\n",
    "my_def2(10)"
   ]
  },
  {
   "cell_type": "markdown",
   "id": "7df526c0-7e6d-467e-ac77-c6e56ed468c8",
   "metadata": {},
   "source": [
    "## 함수의 인수\n",
    "### 위치인수\n",
    "기본적으로 함수는 위치를 기준으로 인수를 판단\n"
   ]
  },
  {
   "cell_type": "code",
   "execution_count": 47,
   "id": "abe0049d-7e2a-4e1e-a7b5-4e4fad6692cb",
   "metadata": {},
   "outputs": [],
   "source": [
    "def cylinder(r, h):\n",
    "    return 3.14 * r**2 * h\n",
    "    "
   ]
  },
  {
   "cell_type": "code",
   "execution_count": 49,
   "id": "4d037d39-066d-4c68-a823-411127f799d1",
   "metadata": {},
   "outputs": [
    {
     "data": {
      "text/plain": [
       "785.0"
      ]
     },
     "execution_count": 49,
     "metadata": {},
     "output_type": "execute_result"
    }
   ],
   "source": [
    "cylinder(10, 5)\n",
    "cylinder(5, 10)"
   ]
  },
  {
   "cell_type": "markdown",
   "id": "46e9e403-b110-49bc-b35c-bd2425583b96",
   "metadata": {},
   "source": [
    "### 기본값\n",
    "\n",
    "'인수=값'으로 기본값을 넣어주면 인수를 넣지 않아도 기본값 출력\n",
    "\n",
    "```python\n",
    "def func(p1=v1):\n",
    "    code...\n",
    "    return value\n",
    "```"
   ]
  },
  {
   "cell_type": "code",
   "execution_count": 54,
   "id": "944513cc-11e1-49c3-8288-293f468b8c62",
   "metadata": {},
   "outputs": [],
   "source": [
    "def greeting(name='익명'):\n",
    "    return f'{name}님 반갑습니다.'\n"
   ]
  },
  {
   "cell_type": "code",
   "execution_count": 55,
   "id": "f38cbc3d-559d-41d8-abe8-cc513817ff46",
   "metadata": {},
   "outputs": [
    {
     "data": {
      "text/plain": [
       "'익명님 반갑습니다.'"
      ]
     },
     "execution_count": 55,
     "metadata": {},
     "output_type": "execute_result"
    }
   ],
   "source": [
    "greeting()"
   ]
  },
  {
   "cell_type": "code",
   "execution_count": 56,
   "id": "bb9860e6-207a-42f7-80db-acc7dc561b5e",
   "metadata": {},
   "outputs": [
    {
     "data": {
      "text/plain": [
       "'홍길동님 반갑습니다.'"
      ]
     },
     "execution_count": 56,
     "metadata": {},
     "output_type": "execute_result"
    }
   ],
   "source": [
    "greeting('홍길동')"
   ]
  },
  {
   "cell_type": "code",
   "execution_count": 57,
   "id": "57c0cfa4-e316-489f-8795-50f183484ce5",
   "metadata": {},
   "outputs": [
    {
     "name": "stdout",
     "output_type": "stream",
     "text": [
      "안녕하세요\n"
     ]
    }
   ],
   "source": [
    "print('안녕하세요')"
   ]
  },
  {
   "cell_type": "code",
   "execution_count": 58,
   "id": "c313d47c-8b6d-4cb3-a171-225b101c0322",
   "metadata": {},
   "outputs": [
    {
     "name": "stdout",
     "output_type": "stream",
     "text": [
      "안녕하세요 저는 길동이에요\n"
     ]
    }
   ],
   "source": [
    "print('안녕하세요', '저는 길동이에요')"
   ]
  },
  {
   "cell_type": "code",
   "execution_count": 63,
   "id": "f81d9949-d777-4bae-91a7-10ea6494d42f",
   "metadata": {},
   "outputs": [
    {
     "name": "stdout",
     "output_type": "stream",
     "text": [
      "안녕하세요? 저는 길동이에요!hello\n"
     ]
    }
   ],
   "source": [
    "print('안녕하세요', '저는 길동이에요', sep='? ', end='!')\n",
    "print('hello') #end의 기본값이 없어서 옆으로 붙음"
   ]
  },
  {
   "cell_type": "code",
   "execution_count": 67,
   "id": "fbeb431c-70d3-496b-bc22-2f8eb51d1e5d",
   "metadata": {},
   "outputs": [
    {
     "ename": "SyntaxError",
     "evalue": "parameter without a default follows parameter with a default (2569167446.py, line 2)",
     "output_type": "error",
     "traceback": [
      "\u001b[1;36m  Cell \u001b[1;32mIn[67], line 2\u001b[1;36m\u001b[0m\n\u001b[1;33m    def greeting(name='익명', age):\u001b[0m\n\u001b[1;37m                            ^\u001b[0m\n\u001b[1;31mSyntaxError\u001b[0m\u001b[1;31m:\u001b[0m parameter without a default follows parameter with a default\n"
     ]
    }
   ],
   "source": [
    "# 기본값을 앞에 쓰면 에러 기본값은 데이터가 선택적이기 때문에 뒤에 작성\n",
    "def greeting(name='익명', age):\n",
    "    return f'{name}님의 나이는 {age}입니다.'"
   ]
  },
  {
   "cell_type": "code",
   "execution_count": 68,
   "id": "01a9ad60-6da7-4c2f-85c7-964a8467f143",
   "metadata": {},
   "outputs": [],
   "source": [
    "def greeting(age, name='익명'):\n",
    "    return f'{name}님의 나이는 {age}입니다.'"
   ]
  },
  {
   "cell_type": "code",
   "execution_count": 69,
   "id": "879557de-f4f7-476a-ad2e-7bfb0a7d7a68",
   "metadata": {},
   "outputs": [
    {
     "data": {
      "text/plain": [
       "'익명님의 나이는 10입니다.'"
      ]
     },
     "execution_count": 69,
     "metadata": {},
     "output_type": "execute_result"
    }
   ],
   "source": [
    "greeting(10)"
   ]
  },
  {
   "cell_type": "code",
   "execution_count": 70,
   "id": "3eb522a1-b7ae-4052-a36b-7f0f0278111e",
   "metadata": {},
   "outputs": [
    {
     "data": {
      "text/plain": [
       "'길동님의 나이는 10입니다.'"
      ]
     },
     "execution_count": 70,
     "metadata": {},
     "output_type": "execute_result"
    }
   ],
   "source": [
    "greeting(10, '길동')"
   ]
  },
  {
   "cell_type": "markdown",
   "id": "cd1b0091-c5ef-40bb-9df9-3c506ff15927",
   "metadata": {},
   "source": [
    "### 키워드 인수\n",
    "함수를 호출(실행)할 때 내가 원하는 위치에 직접적으로 특정 인수를 전달"
   ]
  },
  {
   "cell_type": "code",
   "execution_count": 71,
   "id": "3fc465d4-dd97-4cf4-bdc5-554123ae60df",
   "metadata": {},
   "outputs": [],
   "source": [
    "def greeting(age, name='익명'):\n",
    "    return(f'{name}님의 나이는 {age}입니다')"
   ]
  },
  {
   "cell_type": "code",
   "execution_count": 74,
   "id": "e477ecd0-f980-48a4-adc7-fac9a85c823b",
   "metadata": {},
   "outputs": [
    {
     "data": {
      "text/plain": [
       "'길동님의 나이는 10입니다'"
      ]
     },
     "execution_count": 74,
     "metadata": {},
     "output_type": "execute_result"
    }
   ],
   "source": [
    "greeting(10)\n",
    "greeting(10, '길동')\n",
    "greeting(name='길동', age=10)"
   ]
  },
  {
   "cell_type": "markdown",
   "id": "f3fe8224-ceff-4f57-b035-43877896d9f1",
   "metadata": {},
   "source": [
    "### 가변인수 리스트\n",
    "- 들어오는 데이터가 변할 수 있음\n",
    "- *parms : 몇 개의 데이터가 들어올지 모르나 Tuple형으로 묶어서 관리\n",
    "```python\n",
    "def func(*parms):\n",
    "    code\n",
    "```"
   ]
  },
  {
   "cell_type": "code",
   "execution_count": 75,
   "id": "46c26436-bd02-4ac6-88e4-38838ee163a2",
   "metadata": {},
   "outputs": [
    {
     "name": "stdout",
     "output_type": "stream",
     "text": [
      "hi hello my\n"
     ]
    }
   ],
   "source": [
    "print('hi','hello','my')"
   ]
  },
  {
   "cell_type": "code",
   "execution_count": 76,
   "id": "702abbb7-724d-494f-a515-3b69eec93cf0",
   "metadata": {},
   "outputs": [],
   "source": [
    "def my_print(*words):\n",
    "    print(words)\n",
    "    "
   ]
  },
  {
   "cell_type": "code",
   "execution_count": 77,
   "id": "cbbf9066-312f-4e4d-9798-f9b4bdce7887",
   "metadata": {},
   "outputs": [
    {
     "name": "stdout",
     "output_type": "stream",
     "text": [
      "('my', 'name', 'is')\n"
     ]
    }
   ],
   "source": [
    "my_print('my', 'name', 'is')"
   ]
  },
  {
   "cell_type": "code",
   "execution_count": 78,
   "id": "e1d5a357-0637-45a4-a669-1f2eb0592351",
   "metadata": {},
   "outputs": [
    {
     "data": {
      "text/plain": [
       "7"
      ]
     },
     "execution_count": 78,
     "metadata": {},
     "output_type": "execute_result"
    }
   ],
   "source": [
    "max(1, 2, 3, 4, 5, 6, 7)"
   ]
  },
  {
   "cell_type": "code",
   "execution_count": 98,
   "id": "e55adf87-4161-4dfa-8cb4-3e384b376a33",
   "metadata": {},
   "outputs": [],
   "source": [
    "def my_max(*numbers):\n",
    "    # max_num = 0\n",
    "    max_num = numbers[0]\n",
    "    \n",
    "    for number in numbers:\n",
    "        if max_num < number:\n",
    "            max_num = number\n",
    "\n",
    "    return max_num"
   ]
  },
  {
   "cell_type": "code",
   "execution_count": 101,
   "id": "154efe9d-46b5-46ae-b00d-46f3f8bc1d00",
   "metadata": {},
   "outputs": [
    {
     "data": {
      "text/plain": [
       "-1"
      ]
     },
     "execution_count": 101,
     "metadata": {},
     "output_type": "execute_result"
    }
   ],
   "source": [
    "my_max(-1,-2,-3)"
   ]
  },
  {
   "cell_type": "markdown",
   "id": "259ef001-c2c0-4192-9f4e-d44d43c82f16",
   "metadata": {},
   "source": [
    "### 정의되지 않은 키워드 인수 처리하기\n",
    "- 'key=value'형태로 값을 넣으면 딕셔너리 형태로 반환 \n",
    "```python\n",
    "def func(**kwrgs):\n",
    "    code ...\n",
    "```\n"
   ]
  },
  {
   "cell_type": "code",
   "execution_count": 102,
   "id": "b8309d49-1bcb-4e32-9aef-b94199cdc587",
   "metadata": {},
   "outputs": [
    {
     "name": "stdout",
     "output_type": "stream",
     "text": [
      "{'name': 'hong', 'age': 10}\n"
     ]
    }
   ],
   "source": [
    "info = {\n",
    "    'name': 'hong',\n",
    "    'age': 10,\n",
    "}\n",
    "print(info)"
   ]
  },
  {
   "cell_type": "code",
   "execution_count": 103,
   "id": "46f67efc-8ce6-495a-8744-34f85db667b6",
   "metadata": {},
   "outputs": [
    {
     "name": "stdout",
     "output_type": "stream",
     "text": [
      "{'name': 'hong', 'age': 10}\n"
     ]
    }
   ],
   "source": [
    "info = dict(name='hong',age=10)\n",
    "print(info)"
   ]
  },
  {
   "cell_type": "code",
   "execution_count": 107,
   "id": "f7fc64a2-a22c-4a78-a4b3-978b4dbc4f56",
   "metadata": {},
   "outputs": [],
   "source": [
    "def my_dict(**kwargs):\n",
    "    print(kwargs)"
   ]
  },
  {
   "cell_type": "code",
   "execution_count": 108,
   "id": "659000d0-9708-4900-bb33-1d104bd722ce",
   "metadata": {},
   "outputs": [
    {
     "name": "stdout",
     "output_type": "stream",
     "text": [
      "{'asdf': '123', 'qwer': '456'}\n"
     ]
    }
   ],
   "source": [
    "my_dict(asdf='123', qwer='456')"
   ]
  },
  {
   "cell_type": "code",
   "execution_count": 110,
   "id": "f1bc9894-f671-4ce4-82eb-01d7550b1b02",
   "metadata": {},
   "outputs": [],
   "source": [
    "def my_func(*datas, **kwdatas):\n",
    "    print(datas)\n",
    "    print(kwdatas)"
   ]
  },
  {
   "cell_type": "code",
   "execution_count": 111,
   "id": "06824b4f-d9f3-4c54-9887-d7d19b0feb34",
   "metadata": {},
   "outputs": [
    {
     "name": "stdout",
     "output_type": "stream",
     "text": [
      "(1, 2, 'hello', [1, 2, 3], {})\n",
      "{'hello': 'hi', 'world': '123', 'hi': {}}\n"
     ]
    }
   ],
   "source": [
    "my_func(1, 2, 'hello', [1, 2, 3], {}, hello='hi', world='123',hi={})"
   ]
  },
  {
   "cell_type": "markdown",
   "id": "b8993967-c7e0-434b-8ace-fd1cbf28fab1",
   "metadata": {},
   "source": [
    "### dictionary를 인수로 넣기(unpacking)\n",
    "dictionary로 패키지화 시켜서 인수로 넣고 함수는 unpacking하여 기능"
   ]
  },
  {
   "cell_type": "code",
   "execution_count": 112,
   "id": "3424c94d-b13e-4c42-b706-fa08000ccbfd",
   "metadata": {},
   "outputs": [],
   "source": [
    "def sign_up(username, pw, pw_conf):\n",
    "    if pw == pw_conf:\n",
    "        print(f'{username}님 회원가입을 환영합니다.')\n",
    "    else:\n",
    "        print('비밀번호가 일치하지 않습니다.')\n"
   ]
  },
  {
   "cell_type": "code",
   "execution_count": 114,
   "id": "923f67d4-b15d-4d87-bd8b-27df3c0d08ca",
   "metadata": {},
   "outputs": [
    {
     "name": "stdout",
     "output_type": "stream",
     "text": [
      "비밀번호가 일치하지 않습니다.\n",
      "hong님 회원가입을 환영합니다.\n"
     ]
    }
   ],
   "source": [
    "sign_up('hong','1234', '123')\n",
    "sign_up('hong','1234', '1234')"
   ]
  },
  {
   "cell_type": "code",
   "execution_count": 116,
   "id": "c797c115-dd2d-4d43-8527-7e6adf72655c",
   "metadata": {},
   "outputs": [
    {
     "name": "stdout",
     "output_type": "stream",
     "text": [
      "hong님 회원가입을 환영합니다.\n"
     ]
    }
   ],
   "source": [
    "user_info = {\n",
    "    'username': 'hong',\n",
    "    'pw': '1234',\n",
    "    'pw_conf': '1234',\n",
    "}\n",
    "sign_up(**user_info)"
   ]
  },
  {
   "cell_type": "markdown",
   "id": "32335d65-1f92-4904-a0e7-03ce0c80fca1",
   "metadata": {},
   "source": [
    "### lambda 표현식\n",
    "- 함수를 축약해서 정리\n",
    "- 속도가 빠름\n",
    "```python\n",
    "lambda parameter: expression\n",
    "```"
   ]
  },
  {
   "cell_type": "code",
   "execution_count": 117,
   "id": "7ae2a3f2-3348-44a2-aee5-0734aec50d1d",
   "metadata": {},
   "outputs": [],
   "source": [
    "def my_sum(num1, num2):\n",
    "    return num1 + num2"
   ]
  },
  {
   "cell_type": "code",
   "execution_count": 118,
   "id": "c7f1365b-797e-4faa-92f5-adb2feedc2bb",
   "metadata": {},
   "outputs": [
    {
     "data": {
      "text/plain": [
       "3"
      ]
     },
     "execution_count": 118,
     "metadata": {},
     "output_type": "execute_result"
    }
   ],
   "source": [
    "my_sum(1, 2)"
   ]
  },
  {
   "cell_type": "code",
   "execution_count": 119,
   "id": "034ddb16-0e0f-440c-9356-ad4599f80b12",
   "metadata": {},
   "outputs": [
    {
     "data": {
      "text/plain": [
       "3"
      ]
     },
     "execution_count": 119,
     "metadata": {},
     "output_type": "execute_result"
    }
   ],
   "source": [
    "(lambda num1, num2: num1 + num2)(1, 2)"
   ]
  },
  {
   "cell_type": "markdown",
   "id": "3400ea47-ecb7-4e6a-8dd3-7766d5a388df",
   "metadata": {},
   "source": [
    "### 타입힌트\n",
    "인수: 타입\n",
    "인수에 넣어야 할 타입을 알려주는 힌트 "
   ]
  },
  {
   "cell_type": "code",
   "execution_count": 120,
   "id": "4eca2708-c66c-4584-bd1d-5266a4bbe636",
   "metadata": {},
   "outputs": [],
   "source": [
    "def my_sum(a, b):\n",
    "    return a + b"
   ]
  },
  {
   "cell_type": "code",
   "execution_count": 121,
   "id": "3258c214-a2fc-4fbb-9172-6b9878d33b82",
   "metadata": {},
   "outputs": [
    {
     "data": {
      "text/plain": [
       "3"
      ]
     },
     "execution_count": 121,
     "metadata": {},
     "output_type": "execute_result"
    }
   ],
   "source": [
    "my_sum(1, 2)"
   ]
  },
  {
   "cell_type": "code",
   "execution_count": 122,
   "id": "94caf08d-f8ed-46a4-a8c4-2b0bcbfee8eb",
   "metadata": {},
   "outputs": [
    {
     "ename": "TypeError",
     "evalue": "can only concatenate str (not \"int\") to str",
     "output_type": "error",
     "traceback": [
      "\u001b[1;31m---------------------------------------------------------------------------\u001b[0m",
      "\u001b[1;31mTypeError\u001b[0m                                 Traceback (most recent call last)",
      "Cell \u001b[1;32mIn[122], line 1\u001b[0m\n\u001b[1;32m----> 1\u001b[0m \u001b[43mmy_sum\u001b[49m\u001b[43m(\u001b[49m\u001b[38;5;124;43m'\u001b[39;49m\u001b[38;5;124;43m1\u001b[39;49m\u001b[38;5;124;43m'\u001b[39;49m\u001b[43m,\u001b[49m\u001b[43m \u001b[49m\u001b[38;5;241;43m2\u001b[39;49m\u001b[43m)\u001b[49m\n",
      "Cell \u001b[1;32mIn[120], line 2\u001b[0m, in \u001b[0;36mmy_sum\u001b[1;34m(a, b)\u001b[0m\n\u001b[0;32m      1\u001b[0m \u001b[38;5;28;01mdef\u001b[39;00m \u001b[38;5;21mmy_sum\u001b[39m(a, b):\n\u001b[1;32m----> 2\u001b[0m     \u001b[38;5;28;01mreturn\u001b[39;00m \u001b[43ma\u001b[49m\u001b[43m \u001b[49m\u001b[38;5;241;43m+\u001b[39;49m\u001b[43m \u001b[49m\u001b[43mb\u001b[49m\n",
      "\u001b[1;31mTypeError\u001b[0m: can only concatenate str (not \"int\") to str"
     ]
    }
   ],
   "source": [
    "my_sum('1', 2)"
   ]
  },
  {
   "cell_type": "code",
   "execution_count": 124,
   "id": "5fe57486-c4b4-4602-9c29-3093a4279535",
   "metadata": {},
   "outputs": [],
   "source": [
    "def my_sum(a: int, b: int)-> int:\n",
    "    return a + b"
   ]
  },
  {
   "cell_type": "markdown",
   "id": "878bc55b-8934-465a-a5ac-324948bcaffa",
   "metadata": {},
   "source": [
    "## 이름공간(scope)\n",
    "\n",
    "- python에서 사용되는 이름(변수, 함수의 이름)들은 이름공간에 저장\n",
    "1. Local: 정의된 함수 내부\n",
    "2. Enclosed: 상위 함수\n",
    "3. Global: 함수 밖\n",
    "4. Built-in: python이 기본적으로 가지고 있는 함수 / 변수\n",
    "\n",
    "위 순서대로 인지"
   ]
  },
  {
   "cell_type": "code",
   "execution_count": 125,
   "id": "72a7064a-42cf-468b-a015-b4cb5324b743",
   "metadata": {},
   "outputs": [
    {
     "name": "stdout",
     "output_type": "stream",
     "text": [
      "1\n"
     ]
    }
   ],
   "source": [
    "result = str(1)\n",
    "print(result)"
   ]
  },
  {
   "cell_type": "code",
   "execution_count": 126,
   "id": "41db75ea-a731-4634-856d-86ce915a89b3",
   "metadata": {},
   "outputs": [],
   "source": [
    "str = 'hi'"
   ]
  },
  {
   "cell_type": "code",
   "execution_count": 129,
   "id": "d219b020-85c4-428f-897e-b99b6463cc3a",
   "metadata": {},
   "outputs": [
    {
     "name": "stdout",
     "output_type": "stream",
     "text": [
      "1\n"
     ]
    }
   ],
   "source": [
    "result = str(1)\n",
    "print(result)"
   ]
  },
  {
   "cell_type": "code",
   "execution_count": 128,
   "id": "f3a841b9-8d95-4b80-b799-8900bf6d5aec",
   "metadata": {},
   "outputs": [],
   "source": [
    "del str"
   ]
  },
  {
   "cell_type": "code",
   "execution_count": 131,
   "id": "d57bd67b-e06d-48ca-9ec1-f21d1b8cff96",
   "metadata": {},
   "outputs": [
    {
     "name": "stdout",
     "output_type": "stream",
     "text": [
      "1\n",
      "5\n"
     ]
    }
   ],
   "source": [
    "a = 1\n",
    "\n",
    "def local_scope(a):\n",
    "    return a\n",
    "\n",
    "print(a)\n",
    "print(local_scope(5))"
   ]
  },
  {
   "cell_type": "code",
   "execution_count": 132,
   "id": "1774e0c7-e97c-4323-a9f3-0d9d5046d12e",
   "metadata": {},
   "outputs": [
    {
     "data": {
      "text/plain": [
       "10"
      ]
     },
     "execution_count": 132,
     "metadata": {},
     "output_type": "execute_result"
    }
   ],
   "source": [
    "a = 10\n",
    "\n",
    "def global_scope():\n",
    "    return a\n",
    "\n",
    "global_scope()"
   ]
  },
  {
   "cell_type": "code",
   "execution_count": 133,
   "id": "714d9d62-ba3b-4ea5-a300-003fb9f5bab3",
   "metadata": {},
   "outputs": [
    {
     "ename": "UnboundLocalError",
     "evalue": "cannot access local variable 'a' where it is not associated with a value",
     "output_type": "error",
     "traceback": [
      "\u001b[1;31m---------------------------------------------------------------------------\u001b[0m",
      "\u001b[1;31mUnboundLocalError\u001b[0m                         Traceback (most recent call last)",
      "Cell \u001b[1;32mIn[133], line 7\u001b[0m\n\u001b[0;32m      4\u001b[0m     a \u001b[38;5;241m+\u001b[39m\u001b[38;5;241m=\u001b[39m \u001b[38;5;241m1\u001b[39m\n\u001b[0;32m      5\u001b[0m     \u001b[38;5;28;01mreturn\u001b[39;00m a\n\u001b[1;32m----> 7\u001b[0m \u001b[43mglobal_scope\u001b[49m\u001b[43m(\u001b[49m\u001b[43m)\u001b[49m\n",
      "Cell \u001b[1;32mIn[133], line 4\u001b[0m, in \u001b[0;36mglobal_scope\u001b[1;34m()\u001b[0m\n\u001b[0;32m      3\u001b[0m \u001b[38;5;28;01mdef\u001b[39;00m \u001b[38;5;21mglobal_scope\u001b[39m():\n\u001b[1;32m----> 4\u001b[0m     \u001b[43ma\u001b[49m \u001b[38;5;241m+\u001b[39m\u001b[38;5;241m=\u001b[39m \u001b[38;5;241m1\u001b[39m\n\u001b[0;32m      5\u001b[0m     \u001b[38;5;28;01mreturn\u001b[39;00m a\n",
      "\u001b[1;31mUnboundLocalError\u001b[0m: cannot access local variable 'a' where it is not associated with a value"
     ]
    }
   ],
   "source": [
    "a = 10\n",
    "\n",
    "def global_scope():\n",
    "    a += 1\n",
    "    return a\n",
    "\n",
    "global_scope()"
   ]
  },
  {
   "cell_type": "code",
   "execution_count": 134,
   "id": "43b84a18-b5fb-4cd4-92a2-e79a3ed2c533",
   "metadata": {},
   "outputs": [
    {
     "data": {
      "text/plain": [
       "11"
      ]
     },
     "execution_count": 134,
     "metadata": {},
     "output_type": "execute_result"
    }
   ],
   "source": [
    "a = 10\n",
    "\n",
    "def global_scope():\n",
    "    global a\n",
    "    a += 1\n",
    "    return a\n",
    "\n",
    "global_scope()"
   ]
  },
  {
   "cell_type": "markdown",
   "id": "6d96a61f-b89a-4342-98b2-b66b52d7e285",
   "metadata": {},
   "source": [
    "## 재귀\n",
    "\n",
    "- 재귀함수는 함수 내부에서 자기 자신을 호출하는 함수\n"
   ]
  },
  {
   "cell_type": "markdown",
   "id": "2e7a06a5-030d-469c-b5c8-05cb732af173",
   "metadata": {},
   "source": [
    "n! = 1 * 2 * 3 * ...n\n",
    "\n",
    "- 1! = 1\n",
    "- 2! = 1 * 2 = 1! * 2\n",
    "- 3! = 1 * 2 * 3 = 2! * 3\n",
    "- n! = (n - 1)! * n"
   ]
  },
  {
   "cell_type": "code",
   "execution_count": 135,
   "id": "bac343cc-f641-472e-be56-ed2482a12280",
   "metadata": {},
   "outputs": [
    {
     "data": {
      "text/plain": [
       "120"
      ]
     },
     "execution_count": 135,
     "metadata": {},
     "output_type": "execute_result"
    }
   ],
   "source": [
    "def fact(n):\n",
    "    if n == 1:\n",
    "        return 1\n",
    "    else:\n",
    "        return fact(n-1) * n\n",
    "\n",
    "fact(5)"
   ]
  },
  {
   "cell_type": "code",
   "execution_count": null,
   "id": "059720ce-ba13-45f2-b408-066e4e70ce51",
   "metadata": {},
   "outputs": [],
   "source": []
  },
  {
   "cell_type": "code",
   "execution_count": null,
   "id": "bb627095-cc00-47fc-a3db-f81a969847d5",
   "metadata": {},
   "outputs": [],
   "source": []
  },
  {
   "cell_type": "code",
   "execution_count": null,
   "id": "44d53389-b735-45e0-9806-6c2b55817d87",
   "metadata": {},
   "outputs": [],
   "source": []
  },
  {
   "cell_type": "code",
   "execution_count": null,
   "id": "471aab03-5d72-4883-ad26-fe31c145f22b",
   "metadata": {},
   "outputs": [],
   "source": []
  },
  {
   "cell_type": "code",
   "execution_count": null,
   "id": "aace6a2e-614a-4130-8592-7dff223283d9",
   "metadata": {},
   "outputs": [],
   "source": []
  }
 ],
 "metadata": {
  "kernelspec": {
   "display_name": "Python 3 (ipykernel)",
   "language": "python",
   "name": "python3"
  },
  "language_info": {
   "codemirror_mode": {
    "name": "ipython",
    "version": 3
   },
   "file_extension": ".py",
   "mimetype": "text/x-python",
   "name": "python",
   "nbconvert_exporter": "python",
   "pygments_lexer": "ipython3",
   "version": "3.12.4"
  }
 },
 "nbformat": 4,
 "nbformat_minor": 5
}
