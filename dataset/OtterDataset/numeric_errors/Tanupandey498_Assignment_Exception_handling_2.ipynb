{
  "nbformat": 4,
  "nbformat_minor": 0,
  "metadata": {
    "colab": {
      "provenance": [],
      "authorship_tag": "ABX9TyNDA4btp+28GHMc2Ojy7lLs"
    },
    "kernelspec": {
      "name": "python3",
      "display_name": "Python 3"
    },
    "language_info": {
      "name": "python"
    }
  },
  "cells": [
    {
      "cell_type": "markdown",
      "source": [
        "Q1. Explain why we have to use the Exception class while creating a Custom Exception.\n",
        "\n",
        "Ans: In Python, all exceptions are derived from the base class Exception. When creating a custom exception, it is important to inherit from the Exception class because:\n",
        "\n",
        "**Consistency with the Exception Hierarchy:**\n",
        "\n",
        " The Exception class is part of Python’s built-in exception hierarchy, and by extending it, custom exceptions become part of this structured hierarchy, making them easier to manage.\n",
        "\n",
        "**Built-in Functionality:**\n",
        "\n",
        "Inheriting from the Exception class allows custom exceptions to behave like regular exceptions, including the ability to be caught using try-except blocks, propagate, and integrate with the existing exception-handling framework.\n",
        "\n",
        "**Readability and Clarity**:  \n",
        "\n",
        "Custom exceptions can carry specific messages and attributes, enhancing the clarity of error reporting in the program. Without extending Exception, you would lose access to the rich functionality and semantics of exceptions in Python."
      ],
      "metadata": {
        "id": "5iB3_3vAK_g0"
      }
    },
    {
      "cell_type": "markdown",
      "source": [
        "Q2. Write a Python Program to Print Python Exception Hierarchy.\n",
        "\n",
        "Ans:- You can print Python’s exception hierarchy by traversing the BaseException class and its subclasses."
      ],
      "metadata": {
        "id": "ST7ju78cLlFt"
      }
    },
    {
      "cell_type": "code",
      "source": [
        "import inspect\n",
        "\n",
        "def print_exception_hierarchy(cls, indent=0):\n",
        "    print(\" \" * indent + cls.__name__)\n",
        "    for subclass in cls.__subclasses__():\n",
        "        print_exception_hierarchy(subclass, indent + 4)\n",
        "\n",
        "print_exception_hierarchy(BaseException)"
      ],
      "metadata": {
        "id": "tFac6xlJL-Fc"
      },
      "execution_count": null,
      "outputs": []
    },
    {
      "cell_type": "markdown",
      "source": [
        "Q3. What Errors are Defined in the ArithmeticError Class? Explain Any Two with an Example.\n",
        "\n",
        "Ans: The ArithmeticError class is a base class for all errors that occur for numeric calculations. Some errors defined in this class are:\n",
        "\n",
        "**ZeroDivisionError:** Raised when a division or modulo operation is performed with zero as the divisor.\n",
        "\n",
        "**OverflowError:** Raised when the result of an arithmetic operation is too large to be expressed within the range of the numeric type.\n",
        "FloatingPointError: Raised when a floating-point operation fails."
      ],
      "metadata": {
        "id": "PdKNSGmAMeUD"
      }
    },
    {
      "cell_type": "code",
      "source": [
        "#Example of ZeroDivisionError:\n",
        "\n",
        "try:\n",
        "    result = 10 / 0\n",
        "except ZeroDivisionError as e:\n",
        "    print(f\"Error: {e}\")"
      ],
      "metadata": {
        "colab": {
          "base_uri": "https://localhost:8080/"
        },
        "id": "FTJx31LFMFSV",
        "outputId": "389ee43f-1972-443a-f5c8-eab938b94421"
      },
      "execution_count": 13,
      "outputs": [
        {
          "output_type": "stream",
          "name": "stdout",
          "text": [
            "Error: division by zero\n"
          ]
        }
      ]
    },
    {
      "cell_type": "code",
      "source": [
        "#Example of OverflowError:\n",
        "\n",
        "import math\n",
        "\n",
        "try:\n",
        "    result = math.exp(1000)\n",
        "except OverflowError as e:\n",
        "    print(f\"Error: {e}\")"
      ],
      "metadata": {
        "colab": {
          "base_uri": "https://localhost:8080/"
        },
        "id": "6_hkZgTgM_bf",
        "outputId": "b902a6fe-4310-47f3-8306-2faef11edc33"
      },
      "execution_count": 15,
      "outputs": [
        {
          "output_type": "stream",
          "name": "stdout",
          "text": [
            "Error: math range error\n"
          ]
        }
      ]
    },
    {
      "cell_type": "markdown",
      "source": [
        "Q4. Why is the LookupError Class Used? Explain with Examples: KeyError and IndexError.\n",
        "\n",
        "Ans: The LookupError class is the base class for all errors raised when a key or index used for lookups is invalid. It is the superclass for exceptions that occur when attempting to access an element in a sequence or dictionary with an invalid index or key.\n",
        "\n",
        "**KeyError:**\n",
        "Raised when a dictionary is accessed with a key that does not exist."
      ],
      "metadata": {
        "id": "SmpcA3i7Nxwi"
      }
    },
    {
      "cell_type": "code",
      "source": [
        "try:\n",
        "    my_dict = {\"name\": \"Alice\"}\n",
        "    print(my_dict[\"age\"])\n",
        "except KeyError as e:\n",
        "    print(f\"Error: {e}\")"
      ],
      "metadata": {
        "colab": {
          "base_uri": "https://localhost:8080/"
        },
        "id": "zBtzuIS1OMdl",
        "outputId": "bc55cb83-ee19-47ef-9f78-16336d9681a6"
      },
      "execution_count": 16,
      "outputs": [
        {
          "output_type": "stream",
          "name": "stdout",
          "text": [
            "Error: 'age'\n"
          ]
        }
      ]
    },
    {
      "cell_type": "markdown",
      "source": [
        "IndexError:\n",
        "\n",
        "Raised when accessing an index in a list or other sequence that is out of range."
      ],
      "metadata": {
        "id": "VipxZU5vOc1n"
      }
    },
    {
      "cell_type": "code",
      "source": [
        "try:\n",
        "    my_list = [1, 2, 3]\n",
        "    print(my_list[5])\n",
        "except IndexError as e:\n",
        "    print(f\"Error: {e}\")"
      ],
      "metadata": {
        "colab": {
          "base_uri": "https://localhost:8080/"
        },
        "id": "zUUnZj0BORlt",
        "outputId": "2746f9d6-9b95-48d4-ca7b-40b7058da2f5"
      },
      "execution_count": 17,
      "outputs": [
        {
          "output_type": "stream",
          "name": "stdout",
          "text": [
            "Error: list index out of range\n"
          ]
        }
      ]
    },
    {
      "cell_type": "markdown",
      "source": [
        "Q5. Explain ImportError. What is ModuleNotFoundError?\n",
        "\n",
        "ImportError:\n",
        "\n",
        " - Raised when an import statement has trouble loading a module or when a from module import name statement cannot find a name to import.\n",
        " - Common reasons for an ImportError include misspelling the module name or trying to import something that isn’t available."
      ],
      "metadata": {
        "id": "lMdWlqxkO8iD"
      }
    },
    {
      "cell_type": "code",
      "source": [
        "try:\n",
        "    from math import square\n",
        "except ImportError as e:\n",
        "    print(f\"Error: {e}\")"
      ],
      "metadata": {
        "colab": {
          "base_uri": "https://localhost:8080/"
        },
        "id": "sYF1CrghOvmn",
        "outputId": "0fadec03-70a5-4a5e-8f8c-13547e8aecc5"
      },
      "execution_count": 18,
      "outputs": [
        {
          "output_type": "stream",
          "name": "stdout",
          "text": [
            "Error: cannot import name 'square' from 'math' (unknown location)\n"
          ]
        }
      ]
    },
    {
      "cell_type": "markdown",
      "source": [
        "ModuleNotFoundError:\n",
        "\n",
        " - A subclass of ImportError that is raised when a specific module cannot be found. It specifically occurs when the Python interpreter is unable to locate the module you are trying to import."
      ],
      "metadata": {
        "id": "eCx3j8GBPRtn"
      }
    },
    {
      "cell_type": "code",
      "source": [
        "try:\n",
        "    import non_existent_module\n",
        "except ModuleNotFoundError as e:\n",
        "    print(f\"Error: {e}\")"
      ],
      "metadata": {
        "colab": {
          "base_uri": "https://localhost:8080/"
        },
        "id": "uDwqA5mdPLa8",
        "outputId": "068b0c4a-7fc3-4680-8209-02c3115630c5"
      },
      "execution_count": 19,
      "outputs": [
        {
          "output_type": "stream",
          "name": "stdout",
          "text": [
            "Error: No module named 'non_existent_module'\n"
          ]
        }
      ]
    },
    {
      "cell_type": "markdown",
      "source": [
        "Q6. List Down Some Best Practices for Exception Handling in Python.\n",
        "\n",
        "1. Use Specific Exceptions:\n",
        "\n",
        "\n",
        "  - Always catch specific exceptions rather than using a blanket except clause. This ensures that only relevant exceptions are caught, and others can propagate."
      ],
      "metadata": {
        "id": "Bxz3bftqPquv"
      }
    },
    {
      "cell_type": "code",
      "source": [
        "try:\n",
        "    result = 10 / 0\n",
        "except ZeroDivisionError:\n",
        "    print(\"Cannot divide by zero!\")"
      ],
      "metadata": {
        "id": "iVTdcdmwPa04"
      },
      "execution_count": null,
      "outputs": []
    },
    {
      "cell_type": "markdown",
      "source": [
        "2. Avoid Bare except:\n",
        "\n",
        "- Avoid using a bare except: as it catches all exceptions, including system-exiting exceptions like SystemExit and KeyboardInterrupt."
      ],
      "metadata": {
        "id": "0ZaqFGB7QRu3"
      }
    },
    {
      "cell_type": "code",
      "source": [
        "#Bad Practice:\n",
        "\n",
        "try:\n",
        "    risky_code():\n",
        "except:\n",
        "    print(\"Something went wrong!\")"
      ],
      "metadata": {
        "id": "UJfzfo33QhcV"
      },
      "execution_count": null,
      "outputs": []
    },
    {
      "cell_type": "markdown",
      "source": [
        "3. Use finally for Cleanup:\n",
        "\n",
        " - Use the finally block to ensure that cleanup actions like closing files or releasing resources always happen, regardless of whether an exception occurred."
      ],
      "metadata": {
        "id": "zNIYpeNGQ8We"
      }
    },
    {
      "cell_type": "code",
      "source": [
        "try:\n",
        "    file = open(\"data.txt\", \"r\")\n",
        "finally:\n",
        "    file.close()"
      ],
      "metadata": {
        "id": "kAbmEy9KRC6P"
      },
      "execution_count": null,
      "outputs": []
    },
    {
      "cell_type": "markdown",
      "source": [
        "4. Raise Custom Exceptions for Business Logic:\n",
        "\n",
        "- Use custom exceptions to represent business logic errors. This adds clarity to error handling."
      ],
      "metadata": {
        "id": "X4SnDyfsRJuq"
      }
    },
    {
      "cell_type": "code",
      "source": [
        "class InvalidInputError(Exception):\n",
        "    pass"
      ],
      "metadata": {
        "id": "gdddp0uxReTM"
      },
      "execution_count": null,
      "outputs": []
    },
    {
      "cell_type": "markdown",
      "source": [
        "5. Log Exceptions:\n",
        "\n",
        "- Use logging instead of printing errors. Logging provides more context about the error and allows you to track issues in production environments."
      ],
      "metadata": {
        "id": "t8hKnAagRoLg"
      }
    },
    {
      "cell_type": "code",
      "source": [
        "import logging\n",
        "\n",
        "try:\n",
        "    result = 10 / 0\n",
        "except ZeroDivisionError as e:\n",
        "    logging.error(\"ZeroDivisionError occurred\", exc_info=True)"
      ],
      "metadata": {
        "id": "Lsxqo1p0R5pT"
      },
      "execution_count": null,
      "outputs": []
    },
    {
      "cell_type": "markdown",
      "source": [
        "6. Use else for Code That Should Run if No Exceptions Occur:\n",
        "\n",
        "- Use the else block for code that should run if the try block succeeds. It keeps the flow of logic clear."
      ],
      "metadata": {
        "id": "TJMNZIDhR9gB"
      }
    },
    {
      "cell_type": "code",
      "source": [
        "try:\n",
        "    result = 10 / 2\n",
        "except ZeroDivisionError:\n",
        "    print(\"Cannot divide by zero\")\n",
        "else:\n",
        "    print(\"Division successful:\", result)"
      ],
      "metadata": {
        "id": "463RF-24R9EG"
      },
      "execution_count": null,
      "outputs": []
    },
    {
      "cell_type": "markdown",
      "source": [
        "7. Avoid Swallowing Exceptions:\n",
        "\n",
        "- Don't suppress exceptions unintentionally. If you catch an exception, ensure you either re-raise it or handle it meaningfully.\n",
        "\n",
        "8. Document Exceptions:\n",
        "\n",
        "- Document which exceptions a function might raise and under what conditions in its docstring."
      ],
      "metadata": {
        "id": "swXkZRy3SJbq"
      }
    },
    {
      "cell_type": "code",
      "source": [
        "def divide(a, b):\n",
        "    \"\"\"\n",
        "    Divides two numbers.\n",
        "\n",
        "    Raises:\n",
        "        ZeroDivisionError: If b is zero.\n",
        "    \"\"\"\n",
        "    return a / b"
      ],
      "metadata": {
        "id": "9DAcc2JSSh2X"
      },
      "execution_count": 20,
      "outputs": []
    },
    {
      "cell_type": "code",
      "source": [],
      "metadata": {
        "id": "SRONWjT1Sikh"
      },
      "execution_count": null,
      "outputs": []
    }
  ]
}