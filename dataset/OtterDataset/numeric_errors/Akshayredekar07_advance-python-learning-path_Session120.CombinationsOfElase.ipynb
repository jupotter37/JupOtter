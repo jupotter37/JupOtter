{
 "cells": [
  {
   "cell_type": "code",
   "execution_count": 1,
   "metadata": {},
   "outputs": [
    {
     "name": "stdout",
     "output_type": "stream",
     "text": [
      "Exception occured and its description  invalid literal for int() with base 10: 'g'\n"
     ]
    }
   ],
   "source": [
    "try:\n",
    "    x = int(input(\"Enter frist number: \"))\n",
    "    y = int(input(\"Enter second number: \"))\n",
    "except ZeroDivisionError as e:\n",
    "    print(\"Exception Raised and its Description: \", e)\n",
    "except ValueError as e:\n",
    "    print(\"Exception occured and its description \", e)    "
   ]
  },
  {
   "cell_type": "code",
   "execution_count": 5,
   "metadata": {},
   "outputs": [
    {
     "name": "stdout",
     "output_type": "stream",
     "text": [
      "Exception Raised and its Description:  invalid literal for int() with base 10: 'r' invalid literal for int() with base 10: 'r'\n"
     ]
    }
   ],
   "source": [
    "try:\n",
    "    x = int(input(\"Enter frist number:\"))\n",
    "    y = int(input(\"Enter second number:\"))\n",
    "    print(x/y)\n",
    "except (ZeroDivisionError, ValueError) as e:\n",
    "    print(\"Exception Raised and its Description: \", e, str(e))\n"
   ]
  },
  {
   "cell_type": "code",
   "execution_count": 6,
   "metadata": {},
   "outputs": [
    {
     "name": "stdout",
     "output_type": "stream",
     "text": [
      "Exception Raised: ValueError, Description: invalid literal for int() with base 10: 'fr'\n"
     ]
    }
   ],
   "source": [
    "try:\n",
    "    x = int(input(\"Enter frist number:\"))\n",
    "    y = int(input(\"Enter second number:\"))\n",
    "    print(x/y)\n",
    "except (ZeroDivisionError, ValueError) as e:\n",
    "    print(\"Exception Raised: {}, Description: {}\".format(type(e).__name__, e))  "
   ]
  },
  {
   "cell_type": "markdown",
   "metadata": {},
   "source": [
    "```python\n",
    "BaseException\n",
    "├── SystemExit\n",
    "├── KeyboardInterrupt\n",
    "├── GeneratorExit\n",
    "└── Exception\n",
    "    ├── StopIteration\n",
    "    ├── StopAsyncIteration\n",
    "    ├── ArithmeticError\n",
    "    │   ├── FloatingPointError\n",
    "    │   ├── OverflowError\n",
    "    │   └── ZeroDivisionError\n",
    "    ├── AssertionError\n",
    "    ├── AttributeError\n",
    "    ├── BufferError\n",
    "    ├── EOFError\n",
    "    ├── ImportError\n",
    "    │   └── ModuleNotFoundError\n",
    "    ├── LookupError\n",
    "    │   ├── IndexError\n",
    "    │   └── KeyError\n",
    "    ├── MemoryError\n",
    "    ├── NameError\n",
    "    │   └── UnboundLocalError\n",
    "    ├── OSError\n",
    "    │   ├── BlockingIOError\n",
    "    │   ├── ChildProcessError\n",
    "    │   ├── ConnectionError\n",
    "    │   │   ├── BrokenPipeError\n",
    "    │   │   ├── ConnectionAbortedError\n",
    "    │   │   ├── ConnectionRefusedError\n",
    "    │   │   └── ConnectionResetError\n",
    "    │   ├── FileExistsError\n",
    "    │   ├── FileNotFoundError\n",
    "    │   ├── IsADirectoryError\n",
    "    │   ├── NotADirectoryError\n",
    "    │   ├── PermissionError\n",
    "    │   ├── ProcessLookupError\n",
    "    │   └── TimeoutError\n",
    "    ├── ReferenceError\n",
    "    ├── RuntimeError\n",
    "    │   ├── NotImplementedError\n",
    "    │   └── RecursionError\n",
    "    ├── SyntaxError\n",
    "    │   ├── IndentationError\n",
    "    │   │   └── TabError\n",
    "    ├── SystemError\n",
    "    ├── TypeError\n",
    "    ├── ValueError\n",
    "    │   ├── UnicodeError\n",
    "    │   │   ├── UnicodeDecodeError\n",
    "    │   │   ├── UnicodeEncodeError\n",
    "    │   │   └── UnicodeTranslateError\n",
    "    ├── Warning\n",
    "        ├── DeprecationWarning\n",
    "        ├── PendingDeprecationWarning\n",
    "        ├── RuntimeWarning\n",
    "        ├── SyntaxWarning\n",
    "        ├── UserWarning\n",
    "        ├── FutureWarning\n",
    "        ├── ImportWarning\n",
    "        ├── UnicodeWarning\n",
    "        ├── BytesWarning\n",
    "        └── ResourceWarning\n",
    "```"
   ]
  },
  {
   "cell_type": "code",
   "execution_count": 9,
   "metadata": {},
   "outputs": [
    {
     "name": "stdout",
     "output_type": "stream",
     "text": [
      "Exception Raised: ValueError\n",
      "ValueError\n"
     ]
    }
   ],
   "source": [
    "try:\n",
    "    x = int(input(\"Enter frist number:\"))\n",
    "    y = int(input(\"Enter second number:\"))\n",
    "    print(x/y)\n",
    "except (BaseException ,ZeroDivisionError, ValueError) as e:\n",
    "    print(\"Exception Raised: {}\".format(type(e).__name__))  \n",
    "    print(e.__class__.__name__)  "
   ]
  },
  {
   "cell_type": "code",
   "execution_count": 10,
   "metadata": {},
   "outputs": [
    {
     "name": "stdout",
     "output_type": "stream",
     "text": [
      "Exception Raised: ValueError\n"
     ]
    }
   ],
   "source": [
    "try:\n",
    "    x = int(input(\"Enter frist number:\"))\n",
    "    y = int(input(\"Enter second number:\"))\n",
    "    print(x/y)\n",
    "\n",
    "except (ZeroDivisionError, ValueError) as e:\n",
    "     print(f\"Exception Raised: {e.__class__.__name__}\")\n",
    "\n",
    "except:\n",
    "     print(f\"Exception Raised\")"
   ]
  },
  {
   "cell_type": "code",
   "execution_count": 11,
   "metadata": {},
   "outputs": [
    {
     "name": "stdout",
     "output_type": "stream",
     "text": [
      "Exception Raised\n"
     ]
    }
   ],
   "source": [
    "try:\n",
    "    x = int(input(\"Enter frist number:\"))\n",
    "    y = int(input(\"Enter second number:\"))\n",
    "    print(x/y)\n",
    "\n",
    "except:\n",
    "     print(f\"Exception Raised\")"
   ]
  },
  {
   "cell_type": "code",
   "execution_count": null,
   "metadata": {},
   "outputs": [],
   "source": [
    "try:\n",
    "    x = int(input(\"Enter frist number:\"))\n",
    "    y = int(input(\"Enter second number:\"))\n",
    "    print(x/y)\n",
    "\n",
    "except:\n",
    "    print(f\"Exception Raised\")"
   ]
  },
  {
   "cell_type": "code",
   "execution_count": 13,
   "metadata": {},
   "outputs": [
    {
     "name": "stdout",
     "output_type": "stream",
     "text": [
      "1.0\n"
     ]
    }
   ],
   "source": [
    "try:\n",
    "    x = int(input(\"Enter frist number:\"))\n",
    "    y = int(input(\"Enter second number:\"))\n",
    "    print(x/y)\n",
    "\n",
    "except:\n",
    "    print(f\"Exception Raised\")\n",
    "\n",
    "# SyntaxError: default 'except:' must be last\n",
    "\n",
    "# except ZeroDivisionError:\n",
    "#     print(\"ZeroDivisionError Occured\")   "
   ]
  },
  {
   "cell_type": "markdown",
   "metadata": {},
   "source": [
    "\n",
    "## Try with Multiple Except Blocks\n",
    "The way of handling exceptions varies based on the type of exception. Hence, for every exception type, a separate `except` block should be provided. It is possible and recommended to use multiple `except` blocks.\n",
    "\n",
    "### Example:\n",
    "```python\n",
    "try:\n",
    "    # Code block\n",
    "except ZeroDivisionError:\n",
    "    # Perform alternative arithmetic operations\n",
    "except FileNotFoundError:\n",
    "    # Use a local file instead of a remote file\n",
    "```\n",
    "\n",
    "If multiple `except` blocks are available, the corresponding block for the raised exception will be executed.\n",
    "\n",
    "### Code:\n",
    "```python\n",
    "try:\n",
    "    x = int(input(\"Enter First Number: \"))\n",
    "    y = int(input(\"Enter Second Number: \"))\n",
    "    print(x / y)\n",
    "except ZeroDivisionError:\n",
    "    print(\"Can't Divide with Zero\")\n",
    "except ValueError:\n",
    "    print(\"Please provide int value only\")\n",
    "```\n",
    "\n",
    "### Output:\n",
    "#### Case 1:\n",
    "```\n",
    "Enter First Number: 10\n",
    "Enter Second Number: 2\n",
    "5.0\n",
    "```\n",
    "#### Case 2:\n",
    "```\n",
    "Enter First Number: 10\n",
    "Enter Second Number: 0\n",
    "Can't Divide with Zero\n",
    "```\n",
    "#### Case 3:\n",
    "```\n",
    "Enter First Number: 10\n",
    "Enter Second Number: ten\n",
    "Please provide int value only\n",
    "```\n",
    "\n",
    "\n",
    "\n",
    "### Order of Except Blocks\n",
    "The order of the `except` blocks is important. Python checks them from top to bottom until a match is found.\n",
    "\n",
    "\n",
    "```python\n",
    "try:\n",
    "    x = int(input(\"Enter First Number: \"))\n",
    "    y = int(input(\"Enter Second Number: \"))\n",
    "    print(x / y)\n",
    "except ArithmeticError:\n",
    "    print(\"ArithmeticError\")\n",
    "except ZeroDivisionError:\n",
    "    print(\"ZeroDivisionError\")\n",
    "```\n",
    "\n",
    "### Output:\n",
    "```\n",
    "Enter First Number: 10\n",
    "Enter Second Number: 0\n",
    "ArithmeticError\n",
    "```\n",
    "\n",
    "\n",
    "\n",
    "### Single Except Block to Handle Multiple Exceptions\n",
    "A single `except` block can handle multiple exception types. Use parentheses to group exceptions, treated internally as a tuple.\n",
    "\n",
    "### Syntax:\n",
    "```python\n",
    "except (Exception1, Exception2, ...): \n",
    "# OR\n",
    "except (Exception1, Exception2, ...) as msg:\n",
    "```\n",
    "\n",
    "### Code:\n",
    "```python\n",
    "try:\n",
    "    x = int(input(\"Enter First Number: \"))\n",
    "    y = int(input(\"Enter Second Number: \"))\n",
    "    print(x / y)\n",
    "except (ZeroDivisionError, ValueError) as msg:\n",
    "    print(\"Please provide valid numbers only. Problem:\", msg)\n",
    "```\n",
    "\n",
    "### Output:\n",
    "#### Case 1:\n",
    "```\n",
    "Enter First Number: 10\n",
    "Enter Second Number: 0\n",
    "Please provide valid numbers only. Problem: division by zero\n",
    "```\n",
    "#### Case 2:\n",
    "```\n",
    "Enter First Number: 10\n",
    "Enter Second Number: ten\n",
    "Please provide valid numbers only. Problem: invalid literal for int() with base 10: 'ten'\n",
    "```\n",
    "\n",
    "\n",
    "## Default Except Block\n",
    "A default `except` block handles any type of exception. It typically prints general error messages.\n",
    "\n",
    "### Syntax:\n",
    "```python\n",
    "except:\n",
    "    # Statements\n",
    "```\n",
    "\n",
    "```python\n",
    "try:\n",
    "    x = int(input(\"Enter First Number: \"))\n",
    "    y = int(input(\"Enter Second Number: \"))\n",
    "    print(x / y)\n",
    "except ZeroDivisionError:\n",
    "    print(\"ZeroDivisionError: Can't divide with zero\")\n",
    "except:\n",
    "    print(\"Default Except: Please provide valid input only\")\n",
    "```\n",
    "\n",
    "### Output:\n",
    "#### Case 1:\n",
    "```\n",
    "Enter First Number: 10\n",
    "Enter Second Number: 0\n",
    "ZeroDivisionError: Can't divide with zero\n",
    "```\n",
    "#### Case 2:\n",
    "```\n",
    "Enter First Number: 10\n",
    "Enter Second Number: ten\n",
    "Default Except: Please provide valid input only\n",
    "```\n",
    "\n",
    "### Note:\n",
    "If a default `except` block is used with multiple blocks, it must be the last block; otherwise, a `SyntaxError` occurs.\n",
    "\n",
    "```python\n",
    "try:\n",
    "    print(10 / 0)\n",
    "except:\n",
    "    print(\"Default Except\")\n",
    "except ZeroDivisionError:\n",
    "    print(\"ZeroDivisionError\")\n",
    "```\n",
    "\n",
    "### Output:\n",
    "```\n",
    "SyntaxError: default 'except:' must be last\n",
    "```\n",
    "\n",
    "\n",
    "\n",
    "### Possible Combinations of Except Blocks\n",
    "1. `except ZeroDivisionError:`\n",
    "2. `except ZeroDivisionError as msg:`\n",
    "3. `except (ZeroDivisionError, ValueError):`\n",
    "4. `except (ZeroDivisionError, ValueError) as msg:`\n",
    "5. `except:`\n"
   ]
  },
  {
   "cell_type": "code",
   "execution_count": null,
   "metadata": {},
   "outputs": [],
   "source": []
  },
  {
   "cell_type": "markdown",
   "metadata": {},
   "source": [
    "\n",
    "## Finally Block in Python\n",
    "\n",
    "### Purpose of Finally Block\n",
    "- The **finally block** is used to maintain clean-up code (e.g., resource deallocation or resource release) that must be executed regardless of whether an exception occurs.\n",
    "- It is **not recommended** to place clean-up code in the `try` block, as there is no guarantee that every statement inside the `try` block will execute.\n",
    "- Similarly, it is **not recommended** to place clean-up code in the `except` block, as the block is not executed if no exception occurs.\n",
    "- The **finally block** ensures that clean-up code executes **always**, irrespective of whether an exception is raised or handled.\n",
    "\n",
    "### Syntax:\n",
    "```python\n",
    "try:\n",
    "    # Risky Code\n",
    "except:\n",
    "    # Handling Code\n",
    "finally:\n",
    "    # Clean-up Code\n",
    "```\n",
    "\n",
    "## Special Characteristics\n",
    "The `finally` block executes:\n",
    "1. Whether an exception is raised or not.\n",
    "2. Whether an exception is handled or not.\n",
    "\n"
   ]
  },
  {
   "cell_type": "markdown",
   "metadata": {},
   "source": [
    "### Case 1: No Exception"
   ]
  },
  {
   "cell_type": "code",
   "execution_count": 14,
   "metadata": {},
   "outputs": [
    {
     "name": "stdout",
     "output_type": "stream",
     "text": [
      "try\n",
      "finally\n"
     ]
    }
   ],
   "source": [
    "try:\n",
    "    print(\"try\")\n",
    "except:\n",
    "    print(\"except\")\n",
    "finally:\n",
    "    print(\"finally\") "
   ]
  },
  {
   "cell_type": "markdown",
   "metadata": {},
   "source": [
    "### Case 2: Exception Raised and Handled"
   ]
  },
  {
   "cell_type": "code",
   "execution_count": 15,
   "metadata": {},
   "outputs": [
    {
     "name": "stdout",
     "output_type": "stream",
     "text": [
      "try\n",
      "except\n",
      "finally\n"
     ]
    }
   ],
   "source": [
    "try:\n",
    "    print(\"try\")\n",
    "    print(10 / 0)  # Raises ZeroDivisionError\n",
    "except ZeroDivisionError:\n",
    "    print(\"except\")\n",
    "finally:\n",
    "    print(\"finally\")"
   ]
  },
  {
   "cell_type": "markdown",
   "metadata": {},
   "source": [
    "### Case 3: Exception Raised but Not Handled"
   ]
  },
  {
   "cell_type": "code",
   "execution_count": 16,
   "metadata": {},
   "outputs": [
    {
     "name": "stdout",
     "output_type": "stream",
     "text": [
      "try\n",
      "finally\n"
     ]
    },
    {
     "ename": "ZeroDivisionError",
     "evalue": "division by zero",
     "output_type": "error",
     "traceback": [
      "\u001b[1;31m---------------------------------------------------------------------------\u001b[0m",
      "\u001b[1;31mZeroDivisionError\u001b[0m                         Traceback (most recent call last)",
      "Cell \u001b[1;32mIn[16], line 3\u001b[0m\n\u001b[0;32m      1\u001b[0m \u001b[38;5;28;01mtry\u001b[39;00m:\n\u001b[0;32m      2\u001b[0m     \u001b[38;5;28mprint\u001b[39m(\u001b[38;5;124m\"\u001b[39m\u001b[38;5;124mtry\u001b[39m\u001b[38;5;124m\"\u001b[39m)\n\u001b[1;32m----> 3\u001b[0m     \u001b[38;5;28mprint\u001b[39m(\u001b[38;5;241;43m10\u001b[39;49m\u001b[43m \u001b[49m\u001b[38;5;241;43m/\u001b[39;49m\u001b[43m \u001b[49m\u001b[38;5;241;43m0\u001b[39;49m)  \u001b[38;5;66;03m# Raises ZeroDivisionError\u001b[39;00m\n\u001b[0;32m      4\u001b[0m \u001b[38;5;28;01mexcept\u001b[39;00m \u001b[38;5;167;01mNameError\u001b[39;00m:  \u001b[38;5;66;03m# Does not handle ZeroDivisionError\u001b[39;00m\n\u001b[0;32m      5\u001b[0m     \u001b[38;5;28mprint\u001b[39m(\u001b[38;5;124m\"\u001b[39m\u001b[38;5;124mexcept\u001b[39m\u001b[38;5;124m\"\u001b[39m)\n",
      "\u001b[1;31mZeroDivisionError\u001b[0m: division by zero"
     ]
    }
   ],
   "source": [
    "\n",
    "try:\n",
    "    print(\"try\")\n",
    "    print(10 / 0)  # Raises ZeroDivisionError\n",
    "except NameError:  # Does not handle ZeroDivisionError\n",
    "    print(\"except\")\n",
    "finally:\n",
    "    print(\"finally\")"
   ]
  },
  {
   "cell_type": "markdown",
   "metadata": {},
   "source": [
    "### Exception: Using `os._exit(0)`\n",
    "The **only situation** where the `finally` block will not execute is when the program is terminated using the `os._exit(0)` function.\n"
   ]
  },
  {
   "cell_type": "code",
   "execution_count": null,
   "metadata": {},
   "outputs": [
    {
     "ename": "",
     "evalue": "",
     "output_type": "error",
     "traceback": [
      "\u001b[1;31mThe Kernel crashed while executing code in the current cell or a previous cell. \n",
      "\u001b[1;31mPlease review the code in the cell(s) to identify a possible cause of the failure. \n",
      "\u001b[1;31mClick <a href='https://aka.ms/vscodeJupyterKernelCrash'>here</a> for more info. \n",
      "\u001b[1;31mView Jupyter <a href='command:jupyter.viewOutput'>log</a> for further details."
     ]
    }
   ],
   "source": [
    "import os\n",
    "\n",
    "try:\n",
    "    print(\"try\")\n",
    "    os._exit(0)  # Terminates the program\n",
    "except:\n",
    "    print(\"except\")\n",
    "finally:\n",
    "    print(\"finally\")"
   ]
  },
  {
   "cell_type": "markdown",
   "metadata": {},
   "source": [
    "### Key Notes:\n",
    "- The `finally` block is the **best place** for resource clean-up.\n",
    "- It is **always executed** except when using `os._exit(0)` or in case of a system crash."
   ]
  }
 ],
 "metadata": {
  "kernelspec": {
   "display_name": "Python 3",
   "language": "python",
   "name": "python3"
  },
  "language_info": {
   "codemirror_mode": {
    "name": "ipython",
    "version": 3
   },
   "file_extension": ".py",
   "mimetype": "text/x-python",
   "name": "python",
   "nbconvert_exporter": "python",
   "pygments_lexer": "ipython3",
   "version": "3.12.7"
  }
 },
 "nbformat": 4,
 "nbformat_minor": 2
}
