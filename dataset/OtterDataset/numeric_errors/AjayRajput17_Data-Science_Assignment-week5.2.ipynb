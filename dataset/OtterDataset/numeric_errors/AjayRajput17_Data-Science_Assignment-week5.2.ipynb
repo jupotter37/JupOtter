{
 "cells": [
  {
   "cell_type": "markdown",
   "id": "d4ebebee-81ef-49c1-8e08-aa290d715e3a",
   "metadata": {},
   "source": [
    "Question 1"
   ]
  },
  {
   "cell_type": "markdown",
   "id": "acea9f06-5303-4ccb-aec0-781b156b4c06",
   "metadata": {},
   "source": [
    "Q1. Explain why we have to use the Exception class while creating a Custom Exception."
   ]
  },
  {
   "cell_type": "markdown",
   "id": "14f850cd-116b-4a27-9832-3deb9a9e2698",
   "metadata": {},
   "source": [
    "When creating a custom exception in Python, it is recommended to derive your custom exception class from the built-in Exception class or one of its subclasses. Here are a  reasons why using the Exception class as the base class for custom exceptions is Inheritance: By inheriting from the Exception class, your custom exception inherits all the properties and behaviors of the base class. This includes the ability to capture and display an error message, traceback information, and other attributes associated with exceptions. It provides a consistent interface and behavior that is expected from an exception class."
   ]
  },
  {
   "cell_type": "markdown",
   "id": "7eee5e56-6599-4025-8b3f-ad731874391b",
   "metadata": {},
   "source": [
    "Question 2"
   ]
  },
  {
   "cell_type": "markdown",
   "id": "77ae7cbd-16f1-48a3-a574-7d55aea3affd",
   "metadata": {},
   "source": [
    "Q2. Write a python program to print Python Exception Hierarchy."
   ]
  },
  {
   "cell_type": "code",
   "execution_count": 3,
   "id": "ca45c9ab-ff82-4971-ba32-2632a2d3a91f",
   "metadata": {},
   "outputs": [
    {
     "name": "stdout",
     "output_type": "stream",
     "text": [
      "0: BaseException\n"
     ]
    }
   ],
   "source": [
    "import sys\n",
    "\n",
    "def print_exception_hierarchy():\n",
    "    exception_classes = []\n",
    "\n",
    "    # Traverse the exception hierarchy and collect exception classes\n",
    "    current_exception = BaseException\n",
    "    while current_exception is not object:\n",
    "        exception_classes.append(current_exception)\n",
    "        current_exception = current_exception.__base__\n",
    "\n",
    "    # Print the exception hierarchy\n",
    "    for i, exception_class in enumerate(reversed(exception_classes)):\n",
    "        print(f\"{i}: {exception_class.__name__}\")\n",
    "\n",
    "# Call the function to print the exception hierarchy\n",
    "print_exception_hierarchy()\n"
   ]
  },
  {
   "cell_type": "markdown",
   "id": "3b8e3dc6-260b-4ec9-b975-5658b9243f6c",
   "metadata": {},
   "source": [
    "Question 2"
   ]
  },
  {
   "cell_type": "markdown",
   "id": "424ea937-a03d-4b7e-95c8-7a09fabd092d",
   "metadata": {},
   "source": [
    "Q3. What errors are defined in the ArithmeticError class? Explain any two with an example."
   ]
  },
  {
   "cell_type": "markdown",
   "id": "6b99cb45-62ea-4297-8d92-783a5c4c4c39",
   "metadata": {},
   "source": [
    "The ArithmeticError class is a built-in exception class in Python that serves as the base class for arithmetic-related errors. It provides a common base for various arithmetic-related exceptions. Some of the errors defined in the ArithmeticError class include:"
   ]
  },
  {
   "cell_type": "markdown",
   "id": "af32aeb3-e7b2-4e0f-b43b-7a83e4d9ff12",
   "metadata": {},
   "source": [
    "1.ZeroDivisionError: This error occurs when a division or modulo operation is performed with zero as the divisor. It indicates an attempt to divide a number by zero, which is mathematically undefined."
   ]
  },
  {
   "cell_type": "code",
   "execution_count": 4,
   "id": "3c984f68-5d4e-4f95-9998-1c851bf8687c",
   "metadata": {},
   "outputs": [
    {
     "name": "stdout",
     "output_type": "stream",
     "text": [
      "Error: Division by zero is not allowed.\n"
     ]
    }
   ],
   "source": [
    "a = 10\n",
    "b = 0\n",
    "try:\n",
    "    result = a / b\n",
    "except ZeroDivisionError:\n",
    "    print(\"Error: Division by zero is not allowed.\")\n"
   ]
  },
  {
   "cell_type": "markdown",
   "id": "22657cfa-b326-44c0-b820-77371b89fc30",
   "metadata": {},
   "source": [
    "2.OverflowError: This error occurs when a mathematical operation exceeds the maximum representable value for a numeric type. It indicates that the result of the operation is too large to be stored or represented within the available numeric range."
   ]
  },
  {
   "cell_type": "code",
   "execution_count": 4,
   "id": "ead53e36-d069-4f74-938a-7e264ea6ec29",
   "metadata": {},
   "outputs": [],
   "source": [
    "import sys\n",
    "a = sys.maxsize  # Maximum representable integer value\n",
    "try:\n",
    "    result = a * a  # Multiplying large numbers can cause an OverflowError\n",
    "except OverflowError:\n",
    "    print(\"Error: Arithmetic operation resulted in overflow.\")\n"
   ]
  },
  {
   "cell_type": "code",
   "execution_count": null,
   "id": "9bbea416-0d8d-4635-9d42-c4626962eb83",
   "metadata": {},
   "outputs": [],
   "source": []
  },
  {
   "cell_type": "markdown",
   "id": "2e8f4652-abaf-4471-a5e2-fbf394ec80c6",
   "metadata": {},
   "source": [
    "Question 3"
   ]
  },
  {
   "cell_type": "markdown",
   "id": "abad4b73-c150-4e01-a925-d95b5623e37a",
   "metadata": {},
   "source": [
    "Q4. Why LookupError class is used? Explain with an example KeyError and IndexError."
   ]
  },
  {
   "cell_type": "markdown",
   "id": "37ad610a-a98f-4bb8-a66f-1f0f4525eb25",
   "metadata": {},
   "source": [
    "The LookupError class is a base class for exceptions that occur when a key or index lookup fails. It is an abstract class that serves as a superclass for more specific lookup-related exceptions in Python. The primary purpose of the LookupError class is to provide a common base for handling lookup failures in a generic way.\n",
    "Two common exceptions derived from the LookupError class are KeyError and IndexError. Let's explain each of them with an example:\n",
    "\n",
    "KeyError: This exception is raised when a dictionary or other mapping type is accessed using a key that does not exist in the mapping."
   ]
  },
  {
   "cell_type": "code",
   "execution_count": 5,
   "id": "cdad4903-cb7f-4d8e-9752-8e053e04f4f5",
   "metadata": {},
   "outputs": [
    {
     "name": "stdout",
     "output_type": "stream",
     "text": [
      "Error: The key does not exist in the dictionary.\n"
     ]
    }
   ],
   "source": [
    "dictionary = {\"name\": \"John\", \"age\": 30}\n",
    "try:\n",
    "    value = dictionary[\"email\"]  # Accessing a non-existent key\n",
    "except KeyError:\n",
    "    print(\"Error: The key does not exist in the dictionary.\")\n"
   ]
  },
  {
   "cell_type": "markdown",
   "id": "7514b745-3e08-4970-ae61-4349c9439824",
   "metadata": {},
   "source": [
    "IndexError: This exception is raised when trying to access a sequence (such as a list or tuple) using an index that is out of range."
   ]
  },
  {
   "cell_type": "code",
   "execution_count": 6,
   "id": "f21236c7-18c9-4aeb-acca-4bb9f965d29d",
   "metadata": {},
   "outputs": [
    {
     "name": "stdout",
     "output_type": "stream",
     "text": [
      "Error: The index is out of range.\n"
     ]
    }
   ],
   "source": [
    "my_list = [1, 2, 3]\n",
    "try:\n",
    "    value = my_list[5]  # Accessing an index out of range\n",
    "except IndexError:\n",
    "    print(\"Error: The index is out of range.\")\n"
   ]
  },
  {
   "cell_type": "markdown",
   "id": "13caa5ea-0d46-4d20-a57e-f284d0bd7375",
   "metadata": {},
   "source": [
    "Question 5"
   ]
  },
  {
   "cell_type": "markdown",
   "id": "a532db86-dac6-4798-ab26-3c845ff7e41a",
   "metadata": {},
   "source": [
    "Q5. Explain ImportError. What is ModuleNotFoundError?"
   ]
  },
  {
   "cell_type": "markdown",
   "id": "e7b50609-d18f-42f2-98b6-54949be5bd57",
   "metadata": {},
   "source": [
    "ImportError: This exception is raised when an import statement fails to import a module or encounters an error during the import process. It is a generic exception that can occur due to various reasons such as a missing module, incorrect module name, or other import-related errors."
   ]
  },
  {
   "cell_type": "code",
   "execution_count": 7,
   "id": "2569e34a-bdca-4a97-b565-8d9ee86f6dd1",
   "metadata": {},
   "outputs": [
    {
     "name": "stdout",
     "output_type": "stream",
     "text": [
      "Error: Failed to import the module.\n"
     ]
    }
   ],
   "source": [
    "try:\n",
    "    import non_existent_module\n",
    "except ImportError:\n",
    "    print(\"Error: Failed to import the module.\")\n"
   ]
  },
  {
   "cell_type": "markdown",
   "id": "c9dd6527-0a37-4c62-b887-a971459f0da5",
   "metadata": {},
   "source": [
    "ModuleNotFoundError: This exception is a subclass of ImportError and is specifically raised when a module cannot be found during the import process. It indicates that the Python interpreter was unable to locate the specified module."
   ]
  },
  {
   "cell_type": "code",
   "execution_count": 8,
   "id": "bb6e655b-8582-4cf5-a6f0-9e17e7dff84d",
   "metadata": {},
   "outputs": [
    {
     "name": "stdout",
     "output_type": "stream",
     "text": [
      "Error: The specified module or package does not exist.\n"
     ]
    }
   ],
   "source": [
    "try:\n",
    "    from non_existent_package import module\n",
    "except ModuleNotFoundError:\n",
    "    print(\"Error: The specified module or package does not exist.\")\n"
   ]
  },
  {
   "cell_type": "markdown",
   "id": "a57a42a0-4f1b-4568-a693-911b72d0c6a5",
   "metadata": {},
   "source": [
    "Question 6"
   ]
  },
  {
   "cell_type": "markdown",
   "id": "225163d3-a107-4243-85ac-609971c87055",
   "metadata": {},
   "source": [
    "Q6. List down some best practices for exception handling in python."
   ]
  },
  {
   "cell_type": "markdown",
   "id": "7cd4822d-a40a-4e89-a116-e3ac45075426",
   "metadata": {},
   "source": [
    "1. use alwalys a specific exception"
   ]
  },
  {
   "cell_type": "markdown",
   "id": "bbf7c114-a1a6-4c0f-ba2a-31fd08e4f907",
   "metadata": {},
   "source": [
    "2. print always a proper message"
   ]
  },
  {
   "cell_type": "markdown",
   "id": "40bb7a54-b770-41db-becb-d75e57cb519b",
   "metadata": {},
   "source": [
    "3. Always try to log your error"
   ]
  },
  {
   "cell_type": "markdown",
   "id": "0b7db11b-4996-4418-84cb-89be9a937fdd",
   "metadata": {},
   "source": [
    "4. Always avoid to write a multiple exceptional handling"
   ]
  },
  {
   "cell_type": "markdown",
   "id": "4c99f56b-f418-4656-a11f-e284f0b003de",
   "metadata": {},
   "source": [
    "5. Document all the error. why you write this exception block"
   ]
  },
  {
   "cell_type": "markdown",
   "id": "53025a93-00b3-41e3-98e8-831bbdd55fba",
   "metadata": {},
   "source": [
    "6. clean up all the resourcess. use the finally to release the resorcess like open files , database connection"
   ]
  },
  {
   "cell_type": "code",
   "execution_count": null,
   "id": "31134ca7-3eb2-4353-8335-df2408355ee2",
   "metadata": {},
   "outputs": [],
   "source": []
  }
 ],
 "metadata": {
  "kernelspec": {
   "display_name": "Python 3 (ipykernel)",
   "language": "python",
   "name": "python3"
  },
  "language_info": {
   "codemirror_mode": {
    "name": "ipython",
    "version": 3
   },
   "file_extension": ".py",
   "mimetype": "text/x-python",
   "name": "python",
   "nbconvert_exporter": "python",
   "pygments_lexer": "ipython3",
   "version": "3.10.8"
  }
 },
 "nbformat": 4,
 "nbformat_minor": 5
}
