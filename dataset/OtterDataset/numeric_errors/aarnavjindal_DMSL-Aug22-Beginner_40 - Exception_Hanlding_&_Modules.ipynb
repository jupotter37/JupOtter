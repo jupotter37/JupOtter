{
  "nbformat": 4,
  "nbformat_minor": 0,
  "metadata": {
    "colab": {
      "provenance": [],
      "collapsed_sections": [
        "AAR8isAMWGoJ",
        "Xoy1ALSyXCVW"
      ]
    },
    "kernelspec": {
      "name": "python3",
      "display_name": "Python 3"
    },
    "language_info": {
      "name": "python"
    }
  },
  "cells": [
    {
      "cell_type": "markdown",
      "source": [
        "### Exception Handling"
      ],
      "metadata": {
        "id": "Ym0N0rxLPFgd"
      }
    },
    {
      "cell_type": "code",
      "execution_count": null,
      "metadata": {
        "colab": {
          "base_uri": "https://localhost:8080/",
          "height": 201
        },
        "id": "urkH3aVJOCm4",
        "outputId": "1b6e41c1-4fd1-42be-c3b0-ef281effc8f2"
      },
      "outputs": [
        {
          "output_type": "error",
          "ename": "ZeroDivisionError",
          "evalue": "ignored",
          "traceback": [
            "\u001b[0;31m---------------------------------------------------------------------------\u001b[0m",
            "\u001b[0;31mZeroDivisionError\u001b[0m                         Traceback (most recent call last)",
            "\u001b[0;32m<ipython-input-3-2fc232d1511a>\u001b[0m in \u001b[0;36m<module>\u001b[0;34m\u001b[0m\n\u001b[0;32m----> 1\u001b[0;31m \u001b[0mprint\u001b[0m\u001b[0;34m(\u001b[0m\u001b[0;36m1\u001b[0m\u001b[0;34m/\u001b[0m\u001b[0;36m0\u001b[0m\u001b[0;34m)\u001b[0m\u001b[0;34m\u001b[0m\u001b[0;34m\u001b[0m\u001b[0m\n\u001b[0m",
            "\u001b[0;31mZeroDivisionError\u001b[0m: division by zero"
          ]
        }
      ],
      "source": [
        "print(1/0)"
      ]
    },
    {
      "cell_type": "code",
      "source": [
        "print(x)"
      ],
      "metadata": {
        "colab": {
          "base_uri": "https://localhost:8080/",
          "height": 201
        },
        "id": "RnlSin3lQdRH",
        "outputId": "1a1e236a-a636-4f5e-c410-d8b20b61841a"
      },
      "execution_count": null,
      "outputs": [
        {
          "output_type": "error",
          "ename": "NameError",
          "evalue": "ignored",
          "traceback": [
            "\u001b[0;31m---------------------------------------------------------------------------\u001b[0m",
            "\u001b[0;31mNameError\u001b[0m                                 Traceback (most recent call last)",
            "\u001b[0;32m<ipython-input-4-fc17d851ef81>\u001b[0m in \u001b[0;36m<module>\u001b[0;34m\u001b[0m\n\u001b[0;32m----> 1\u001b[0;31m \u001b[0mprint\u001b[0m\u001b[0;34m(\u001b[0m\u001b[0mx\u001b[0m\u001b[0;34m)\u001b[0m\u001b[0;34m\u001b[0m\u001b[0;34m\u001b[0m\u001b[0m\n\u001b[0m",
            "\u001b[0;31mNameError\u001b[0m: name 'x' is not defined"
          ]
        }
      ]
    },
    {
      "cell_type": "code",
      "source": [
        "# What is exception => Any error which is known\n",
        "# Python prints the error message"
      ],
      "metadata": {
        "id": "_sw3OTviQ4XC"
      },
      "execution_count": null,
      "outputs": []
    },
    {
      "cell_type": "code",
      "source": [
        "def something(x): # x is a parameter\n",
        "    print(1 / x)\n",
        "    print(\"A\")"
      ],
      "metadata": {
        "id": "d9F3zJZ_RCoD"
      },
      "execution_count": null,
      "outputs": []
    },
    {
      "cell_type": "code",
      "source": [
        "something(2)"
      ],
      "metadata": {
        "colab": {
          "base_uri": "https://localhost:8080/"
        },
        "id": "iUSakw4cRGNf",
        "outputId": "3284e838-9ff9-49c2-a0d3-be1647dfb995"
      },
      "execution_count": null,
      "outputs": [
        {
          "output_type": "stream",
          "name": "stdout",
          "text": [
            "0.5\n",
            "A\n"
          ]
        }
      ]
    },
    {
      "cell_type": "code",
      "source": [
        "something(-10)"
      ],
      "metadata": {
        "colab": {
          "base_uri": "https://localhost:8080/"
        },
        "id": "V6ijyK9pRL_k",
        "outputId": "bff764e2-f9ed-452f-d3ee-b4df908b8b3d"
      },
      "execution_count": null,
      "outputs": [
        {
          "output_type": "stream",
          "name": "stdout",
          "text": [
            "-0.1\n",
            "A\n"
          ]
        }
      ]
    },
    {
      "cell_type": "code",
      "source": [
        "something(0)"
      ],
      "metadata": {
        "colab": {
          "base_uri": "https://localhost:8080/",
          "height": 287
        },
        "id": "CU7T3AUeROum",
        "outputId": "3e703ce7-1cc2-4ad3-ac9f-b15dffd37fff"
      },
      "execution_count": null,
      "outputs": [
        {
          "output_type": "error",
          "ename": "ZeroDivisionError",
          "evalue": "ignored",
          "traceback": [
            "\u001b[0;31m---------------------------------------------------------------------------\u001b[0m",
            "\u001b[0;31mZeroDivisionError\u001b[0m                         Traceback (most recent call last)",
            "\u001b[0;32m<ipython-input-8-842bfeb86600>\u001b[0m in \u001b[0;36m<module>\u001b[0;34m\u001b[0m\n\u001b[0;32m----> 1\u001b[0;31m \u001b[0msomething\u001b[0m\u001b[0;34m(\u001b[0m\u001b[0;36m0\u001b[0m\u001b[0;34m)\u001b[0m\u001b[0;34m\u001b[0m\u001b[0;34m\u001b[0m\u001b[0m\n\u001b[0m",
            "\u001b[0;32m<ipython-input-5-6e8c82edfe30>\u001b[0m in \u001b[0;36msomething\u001b[0;34m(x)\u001b[0m\n\u001b[1;32m      1\u001b[0m \u001b[0;32mdef\u001b[0m \u001b[0msomething\u001b[0m\u001b[0;34m(\u001b[0m\u001b[0mx\u001b[0m\u001b[0;34m)\u001b[0m\u001b[0;34m:\u001b[0m \u001b[0;31m# x is a parameter\u001b[0m\u001b[0;34m\u001b[0m\u001b[0;34m\u001b[0m\u001b[0m\n\u001b[0;32m----> 2\u001b[0;31m     \u001b[0mprint\u001b[0m\u001b[0;34m(\u001b[0m\u001b[0;36m1\u001b[0m \u001b[0;34m/\u001b[0m \u001b[0mx\u001b[0m\u001b[0;34m)\u001b[0m\u001b[0;34m\u001b[0m\u001b[0;34m\u001b[0m\u001b[0m\n\u001b[0m\u001b[1;32m      3\u001b[0m     \u001b[0mprint\u001b[0m\u001b[0;34m(\u001b[0m\u001b[0;34m\"A\"\u001b[0m\u001b[0;34m)\u001b[0m\u001b[0;34m\u001b[0m\u001b[0;34m\u001b[0m\u001b[0m\n",
            "\u001b[0;31mZeroDivisionError\u001b[0m: division by zero"
          ]
        }
      ]
    },
    {
      "cell_type": "code",
      "source": [
        "# built in errors handled by Python\n",
        "dir(__builtins__)"
      ],
      "metadata": {
        "colab": {
          "base_uri": "https://localhost:8080/"
        },
        "id": "AuhFmIepRgHD",
        "outputId": "d2c1869e-cbcd-47fd-e477-a136c7a0b217"
      },
      "execution_count": null,
      "outputs": [
        {
          "output_type": "execute_result",
          "data": {
            "text/plain": [
              "['ArithmeticError',\n",
              " 'AssertionError',\n",
              " 'AttributeError',\n",
              " 'BaseException',\n",
              " 'BlockingIOError',\n",
              " 'BrokenPipeError',\n",
              " 'BufferError',\n",
              " 'BytesWarning',\n",
              " 'ChildProcessError',\n",
              " 'ConnectionAbortedError',\n",
              " 'ConnectionError',\n",
              " 'ConnectionRefusedError',\n",
              " 'ConnectionResetError',\n",
              " 'DeprecationWarning',\n",
              " 'EOFError',\n",
              " 'Ellipsis',\n",
              " 'EnvironmentError',\n",
              " 'Exception',\n",
              " 'False',\n",
              " 'FileExistsError',\n",
              " 'FileNotFoundError',\n",
              " 'FloatingPointError',\n",
              " 'FutureWarning',\n",
              " 'GeneratorExit',\n",
              " 'IOError',\n",
              " 'ImportError',\n",
              " 'ImportWarning',\n",
              " 'IndentationError',\n",
              " 'IndexError',\n",
              " 'InterruptedError',\n",
              " 'IsADirectoryError',\n",
              " 'KeyError',\n",
              " 'KeyboardInterrupt',\n",
              " 'LookupError',\n",
              " 'MemoryError',\n",
              " 'ModuleNotFoundError',\n",
              " 'NameError',\n",
              " 'None',\n",
              " 'NotADirectoryError',\n",
              " 'NotImplemented',\n",
              " 'NotImplementedError',\n",
              " 'OSError',\n",
              " 'OverflowError',\n",
              " 'PendingDeprecationWarning',\n",
              " 'PermissionError',\n",
              " 'ProcessLookupError',\n",
              " 'RecursionError',\n",
              " 'ReferenceError',\n",
              " 'ResourceWarning',\n",
              " 'RuntimeError',\n",
              " 'RuntimeWarning',\n",
              " 'StopAsyncIteration',\n",
              " 'StopIteration',\n",
              " 'SyntaxError',\n",
              " 'SyntaxWarning',\n",
              " 'SystemError',\n",
              " 'SystemExit',\n",
              " 'TabError',\n",
              " 'TimeoutError',\n",
              " 'True',\n",
              " 'TypeError',\n",
              " 'UnboundLocalError',\n",
              " 'UnicodeDecodeError',\n",
              " 'UnicodeEncodeError',\n",
              " 'UnicodeError',\n",
              " 'UnicodeTranslateError',\n",
              " 'UnicodeWarning',\n",
              " 'UserWarning',\n",
              " 'ValueError',\n",
              " 'Warning',\n",
              " 'ZeroDivisionError',\n",
              " '__IPYTHON__',\n",
              " '__build_class__',\n",
              " '__debug__',\n",
              " '__doc__',\n",
              " '__import__',\n",
              " '__loader__',\n",
              " '__name__',\n",
              " '__package__',\n",
              " '__spec__',\n",
              " 'abs',\n",
              " 'all',\n",
              " 'any',\n",
              " 'ascii',\n",
              " 'bin',\n",
              " 'bool',\n",
              " 'breakpoint',\n",
              " 'bytearray',\n",
              " 'bytes',\n",
              " 'callable',\n",
              " 'chr',\n",
              " 'classmethod',\n",
              " 'compile',\n",
              " 'complex',\n",
              " 'copyright',\n",
              " 'credits',\n",
              " 'delattr',\n",
              " 'dict',\n",
              " 'dir',\n",
              " 'display',\n",
              " 'divmod',\n",
              " 'enumerate',\n",
              " 'eval',\n",
              " 'exec',\n",
              " 'execfile',\n",
              " 'filter',\n",
              " 'float',\n",
              " 'format',\n",
              " 'frozenset',\n",
              " 'get_ipython',\n",
              " 'getattr',\n",
              " 'globals',\n",
              " 'hasattr',\n",
              " 'hash',\n",
              " 'help',\n",
              " 'hex',\n",
              " 'id',\n",
              " 'input',\n",
              " 'int',\n",
              " 'isinstance',\n",
              " 'issubclass',\n",
              " 'iter',\n",
              " 'len',\n",
              " 'license',\n",
              " 'list',\n",
              " 'locals',\n",
              " 'map',\n",
              " 'max',\n",
              " 'memoryview',\n",
              " 'min',\n",
              " 'next',\n",
              " 'object',\n",
              " 'oct',\n",
              " 'open',\n",
              " 'ord',\n",
              " 'pow',\n",
              " 'print',\n",
              " 'property',\n",
              " 'range',\n",
              " 'repr',\n",
              " 'reversed',\n",
              " 'round',\n",
              " 'runfile',\n",
              " 'set',\n",
              " 'setattr',\n",
              " 'slice',\n",
              " 'sorted',\n",
              " 'staticmethod',\n",
              " 'str',\n",
              " 'sum',\n",
              " 'super',\n",
              " 'tuple',\n",
              " 'type',\n",
              " 'vars',\n",
              " 'zip']"
            ]
          },
          "metadata": {},
          "execution_count": 9
        }
      ]
    },
    {
      "cell_type": "markdown",
      "source": [
        "### Handling"
      ],
      "metadata": {
        "id": "F6pKY4GLR7Vz"
      }
    },
    {
      "cell_type": "code",
      "source": [
        "def send_sms(phone_num):\n",
        "    # use some 3rd party APIs \n",
        "    print('Message is successfuly sent')\n",
        "\n",
        "contact_nums = [9102341411, 9102341412, 9102341413, 9102341414]"
      ],
      "metadata": {
        "id": "jI2NuKTNRkKp"
      },
      "execution_count": null,
      "outputs": []
    },
    {
      "cell_type": "code",
      "source": [
        "for num in contact_nums:\n",
        "    send_sms(num)"
      ],
      "metadata": {
        "colab": {
          "base_uri": "https://localhost:8080/"
        },
        "id": "-K7QvHUGSM8g",
        "outputId": "13d7fc14-5df1-47f0-ebb9-d6abf48a191e"
      },
      "execution_count": null,
      "outputs": [
        {
          "output_type": "stream",
          "name": "stdout",
          "text": [
            "Message is successfuly sent\n",
            "Message is successfuly sent\n",
            "Message is successfuly sent\n",
            "Message is successfuly sent\n"
          ]
        }
      ]
    },
    {
      "cell_type": "markdown",
      "source": [
        "### With error"
      ],
      "metadata": {
        "id": "y4msmfVUSf1H"
      }
    },
    {
      "cell_type": "code",
      "source": [
        "def send_sms(phone_num):\n",
        "    # use some 3rd party APIs \n",
        "\n",
        "    if phone_num % 10 == 4 :\n",
        "      # Used to throw an error\n",
        "      raise Exception(\"This is a bug\")\n",
        "    \n",
        "    print(f'Message is successfuly sent for {phone_num}')\n",
        "\n",
        "contact_nums = [9102341411, 9102341412, 9102341414, 9102341413]"
      ],
      "metadata": {
        "id": "z5YOCv7tSeV1"
      },
      "execution_count": null,
      "outputs": []
    },
    {
      "cell_type": "code",
      "source": [
        "for num in contact_nums:\n",
        "    send_sms(num)"
      ],
      "metadata": {
        "colab": {
          "base_uri": "https://localhost:8080/",
          "height": 374
        },
        "id": "kPmyeE6HS0h4",
        "outputId": "56c5e04b-fdac-42b0-af43-950503f91f73"
      },
      "execution_count": null,
      "outputs": [
        {
          "output_type": "stream",
          "name": "stdout",
          "text": [
            "Message is successfuly sent\n",
            "Message is successfuly sent\n"
          ]
        },
        {
          "output_type": "error",
          "ename": "Exception",
          "evalue": "ignored",
          "traceback": [
            "\u001b[0;31m---------------------------------------------------------------------------\u001b[0m",
            "\u001b[0;31mException\u001b[0m                                 Traceback (most recent call last)",
            "\u001b[0;32m<ipython-input-17-5f480472ce71>\u001b[0m in \u001b[0;36m<module>\u001b[0;34m\u001b[0m\n\u001b[1;32m      1\u001b[0m \u001b[0;32mfor\u001b[0m \u001b[0mnum\u001b[0m \u001b[0;32min\u001b[0m \u001b[0mcontact_nums\u001b[0m\u001b[0;34m:\u001b[0m\u001b[0;34m\u001b[0m\u001b[0;34m\u001b[0m\u001b[0m\n\u001b[0;32m----> 2\u001b[0;31m     \u001b[0msend_sms\u001b[0m\u001b[0;34m(\u001b[0m\u001b[0mnum\u001b[0m\u001b[0;34m)\u001b[0m\u001b[0;34m\u001b[0m\u001b[0;34m\u001b[0m\u001b[0m\n\u001b[0m",
            "\u001b[0;32m<ipython-input-16-36abc4125b3d>\u001b[0m in \u001b[0;36msend_sms\u001b[0;34m(phone_num)\u001b[0m\n\u001b[1;32m      3\u001b[0m \u001b[0;34m\u001b[0m\u001b[0m\n\u001b[1;32m      4\u001b[0m     \u001b[0;32mif\u001b[0m \u001b[0mphone_num\u001b[0m \u001b[0;34m%\u001b[0m \u001b[0;36m10\u001b[0m \u001b[0;34m==\u001b[0m \u001b[0;36m4\u001b[0m \u001b[0;34m:\u001b[0m\u001b[0;34m\u001b[0m\u001b[0;34m\u001b[0m\u001b[0m\n\u001b[0;32m----> 5\u001b[0;31m       \u001b[0;32mraise\u001b[0m \u001b[0mException\u001b[0m\u001b[0;34m(\u001b[0m\u001b[0;34m\"This is a bug\"\u001b[0m\u001b[0;34m)\u001b[0m\u001b[0;34m\u001b[0m\u001b[0;34m\u001b[0m\u001b[0m\n\u001b[0m\u001b[1;32m      6\u001b[0m \u001b[0;34m\u001b[0m\u001b[0m\n\u001b[1;32m      7\u001b[0m     \u001b[0mprint\u001b[0m\u001b[0;34m(\u001b[0m\u001b[0;34m'Message is successfuly sent'\u001b[0m\u001b[0;34m)\u001b[0m\u001b[0;34m\u001b[0m\u001b[0;34m\u001b[0m\u001b[0m\n",
            "\u001b[0;31mException\u001b[0m: This is a bug"
          ]
        }
      ]
    },
    {
      "cell_type": "code",
      "source": [
        "# Used to handle error\n",
        "try:\n",
        "    for num in contact_nums:\n",
        "        send_sms(num)\n",
        "except:\n",
        "    # try again\n",
        "    # might want to have some code to retry sending sms\n",
        "    pass"
      ],
      "metadata": {
        "colab": {
          "base_uri": "https://localhost:8080/"
        },
        "id": "R3P04cefToer",
        "outputId": "e7a9e083-4b3c-407f-9158-f8d7296a13e9"
      },
      "execution_count": null,
      "outputs": [
        {
          "output_type": "stream",
          "name": "stdout",
          "text": [
            "Message is successfuly sent for 9102341411\n",
            "Message is successfuly sent for 9102341412\n"
          ]
        }
      ]
    },
    {
      "cell_type": "code",
      "source": [
        "for num in contact_nums:\n",
        "  try :\n",
        "    send_sms(num)\n",
        "  except :\n",
        "    # try again\n",
        "    # might want to have some code to retry sending sms\n",
        "    pass"
      ],
      "metadata": {
        "colab": {
          "base_uri": "https://localhost:8080/"
        },
        "id": "k3OWCssbUg7s",
        "outputId": "de4e2b8d-ad12-46ca-d242-fe5480695b77"
      },
      "execution_count": null,
      "outputs": [
        {
          "output_type": "stream",
          "name": "stdout",
          "text": [
            "Message is successfuly sent for 9102341411\n",
            "Message is successfuly sent for 9102341412\n",
            "Message is successfuly sent for 9102341413\n"
          ]
        }
      ]
    },
    {
      "cell_type": "markdown",
      "source": [
        "#### Quiz"
      ],
      "metadata": {
        "id": "AAR8isAMWGoJ"
      }
    },
    {
      "cell_type": "code",
      "source": [
        "try:\n",
        "    number1 = int(input())\n",
        "    print(number1 * 3)\n",
        "\n",
        "    number2 = int(input())\n",
        "    print(number2 * 3)\n",
        "except:\n",
        "    print('x')\n",
        "print('e')\n",
        "\n",
        "# Output : x, e"
      ],
      "metadata": {
        "colab": {
          "base_uri": "https://localhost:8080/"
        },
        "id": "Wy0vhbHLWIAN",
        "outputId": "3ddfa127-12f6-4360-96a6-f6e01d5ddfe9"
      },
      "execution_count": null,
      "outputs": [
        {
          "output_type": "stream",
          "name": "stdout",
          "text": [
            "z\n",
            "x\n",
            "e\n"
          ]
        }
      ]
    },
    {
      "cell_type": "code",
      "source": [
        "try:\n",
        "    number1 = int(input())\n",
        "    print(number1 * 3)\n",
        "\n",
        "    number2 = int(input())\n",
        "    print(number2 * 3)\n",
        "except:\n",
        "    print('x')\n",
        "print('e')\n",
        "\n",
        "# Output : 21, 27, e"
      ],
      "metadata": {
        "colab": {
          "base_uri": "https://localhost:8080/"
        },
        "id": "vKiyYi5zWh2W",
        "outputId": "c796ba98-9dff-40a3-b527-d865d38b3694"
      },
      "execution_count": null,
      "outputs": [
        {
          "output_type": "stream",
          "name": "stdout",
          "text": [
            "7\n",
            "21\n",
            "9\n",
            "27\n",
            "e\n"
          ]
        }
      ]
    },
    {
      "cell_type": "code",
      "source": [
        "try:\n",
        "    number1 = int(input())\n",
        "    print(number1 * 3)\n",
        "\n",
        "    number2 = int(input())\n",
        "    print(number2 * 3)\n",
        "except:\n",
        "    print('x')\n",
        "print('e')\n",
        "\n",
        "# Output : 21, x, e"
      ],
      "metadata": {
        "colab": {
          "base_uri": "https://localhost:8080/"
        },
        "id": "G2gV9HgiWp83",
        "outputId": "6a1f2bbc-b230-48c5-d1e5-f57acee4bf8e"
      },
      "execution_count": null,
      "outputs": [
        {
          "output_type": "stream",
          "name": "stdout",
          "text": [
            "7\n",
            "21\n",
            "z\n",
            "x\n",
            "e\n"
          ]
        }
      ]
    },
    {
      "cell_type": "markdown",
      "source": [
        "### Handling Multiple Exceptions\n"
      ],
      "metadata": {
        "id": "Xoy1ALSyXCVW"
      }
    },
    {
      "cell_type": "code",
      "source": [
        "l = [2, 0, 'hello', None]"
      ],
      "metadata": {
        "id": "pIcsU91xXEr8"
      },
      "execution_count": null,
      "outputs": []
    },
    {
      "cell_type": "code",
      "source": [
        "def something(x):\n",
        "    return (1 // x)"
      ],
      "metadata": {
        "id": "9FNSLwprXIfY"
      },
      "execution_count": null,
      "outputs": []
    },
    {
      "cell_type": "code",
      "source": [
        "for e in l:\n",
        "    try:\n",
        "        # doing some operation on e\n",
        "        print(f'Current element - {e}')\n",
        "        res = something(e)\n",
        "        print(f'Result - {res}')\n",
        "    except: # as soon as an error comes => catch it here\n",
        "        print('Error occured!')\n",
        "    \n",
        "    print('-'*25)"
      ],
      "metadata": {
        "colab": {
          "base_uri": "https://localhost:8080/"
        },
        "id": "TUf5in9PXJma",
        "outputId": "6c292859-f437-422e-fd2e-c66cff55a131"
      },
      "execution_count": null,
      "outputs": [
        {
          "output_type": "stream",
          "name": "stdout",
          "text": [
            "Current element - 2\n",
            "Result - 0\n",
            "-------------------------\n",
            "Current element - 0\n",
            "Error occured!\n",
            "-------------------------\n",
            "Current element - hello\n",
            "Error occured!\n",
            "-------------------------\n",
            "Current element - None\n",
            "Error occured!\n",
            "-------------------------\n"
          ]
        }
      ]
    },
    {
      "cell_type": "markdown",
      "source": [
        "### Printing names of errrors"
      ],
      "metadata": {
        "id": "UY7qHAjEXzsr"
      }
    },
    {
      "cell_type": "code",
      "source": [
        "for e in l:\n",
        "    try:\n",
        "        # doing some operation on e\n",
        "        print(f'Current element - {e}')\n",
        "        res = something(e)\n",
        "        print(f'Result - {res}')\n",
        "    except ZeroDivisionError: # as soon as an error comes => catch it here\n",
        "        print('Division by Zero occurred!')\n",
        "    except TypeError:\n",
        "        print('Input is invalid')\n",
        "    \n",
        "    print('-'*25)"
      ],
      "metadata": {
        "colab": {
          "base_uri": "https://localhost:8080/"
        },
        "id": "4FpWnJyeX02X",
        "outputId": "1fd980dd-bb9f-44ef-83da-1b20f0ecb2d9"
      },
      "execution_count": null,
      "outputs": [
        {
          "output_type": "stream",
          "name": "stdout",
          "text": [
            "Current element - 2\n",
            "Result - 0\n",
            "-------------------------\n",
            "Current element - 0\n",
            "Division by Zero occurred!\n",
            "-------------------------\n",
            "Current element - hello\n",
            "Input is invalid\n",
            "-------------------------\n",
            "Current element - None\n",
            "Input is invalid\n",
            "-------------------------\n"
          ]
        }
      ]
    },
    {
      "cell_type": "code",
      "source": [
        "for e in l:\n",
        "    try:\n",
        "        # doing some operation on e\n",
        "        print(f'Current element - {e}')\n",
        "        res = something(e)\n",
        "        print(f'Result - {res}')\n",
        "    except Exception as err: \n",
        "      print(err)\n",
        "    \n",
        "    print('-'*25)"
      ],
      "metadata": {
        "colab": {
          "base_uri": "https://localhost:8080/"
        },
        "id": "lQQ294PTY0uH",
        "outputId": "3927e987-dcaf-439d-d84a-2aaa0e254294"
      },
      "execution_count": null,
      "outputs": [
        {
          "output_type": "stream",
          "name": "stdout",
          "text": [
            "Current element - 2\n",
            "Result - 0\n",
            "-------------------------\n",
            "Current element - 0\n",
            "integer division or modulo by zero\n",
            "-------------------------\n",
            "Current element - hello\n",
            "unsupported operand type(s) for //: 'int' and 'str'\n",
            "-------------------------\n",
            "Current element - None\n",
            "unsupported operand type(s) for //: 'int' and 'NoneType'\n",
            "-------------------------\n"
          ]
        }
      ]
    },
    {
      "cell_type": "code",
      "source": [
        "# Break - 10:10pm"
      ],
      "metadata": {
        "id": "VF9FaaIIagHA"
      },
      "execution_count": null,
      "outputs": []
    },
    {
      "cell_type": "code",
      "source": [
        "import random"
      ],
      "metadata": {
        "id": "KADBUC_HgoHV"
      },
      "execution_count": null,
      "outputs": []
    },
    {
      "cell_type": "code",
      "source": [
        "print(random.randint(1, 10))\n",
        "print(random.randint(1, 10))\n",
        "print(random.randint(1, 10))\n",
        "print(random.randint(1, 10))\n",
        "print(random.randint(1, 10))"
      ],
      "metadata": {
        "colab": {
          "base_uri": "https://localhost:8080/"
        },
        "id": "M2zASM8AgqMc",
        "outputId": "3427e5b3-0012-40c2-a2fb-5e032ef5932f"
      },
      "execution_count": null,
      "outputs": [
        {
          "output_type": "stream",
          "name": "stdout",
          "text": [
            "5\n",
            "4\n",
            "10\n",
            "4\n",
            "10\n"
          ]
        }
      ]
    },
    {
      "cell_type": "code",
      "source": [
        "random.seed(100)\n",
        "print(random.randint(1, 10))\n",
        "print(random.randint(1, 10))\n",
        "print(random.randint(1, 10))\n",
        "print(random.randint(1, 10))\n",
        "print(random.randint(1, 10))"
      ],
      "metadata": {
        "colab": {
          "base_uri": "https://localhost:8080/"
        },
        "id": "mcyJmrkihbbQ",
        "outputId": "f9a93867-687f-4b1e-9556-b61ceb46455c"
      },
      "execution_count": null,
      "outputs": [
        {
          "output_type": "stream",
          "name": "stdout",
          "text": [
            "3\n",
            "8\n",
            "8\n",
            "3\n",
            "7\n"
          ]
        }
      ]
    },
    {
      "cell_type": "code",
      "source": [
        "import math"
      ],
      "metadata": {
        "id": "91_2AM4cibJF"
      },
      "execution_count": null,
      "outputs": []
    },
    {
      "cell_type": "code",
      "source": [
        "print(math.sin(10))\n",
        "print(math.tan(20))"
      ],
      "metadata": {
        "colab": {
          "base_uri": "https://localhost:8080/"
        },
        "id": "SynB90Z2ig_i",
        "outputId": "a94609ce-594e-4406-a94c-8652a98def92"
      },
      "execution_count": null,
      "outputs": [
        {
          "output_type": "stream",
          "name": "stdout",
          "text": [
            "-0.5440211108893698\n",
            "2.237160944224742\n"
          ]
        }
      ]
    },
    {
      "cell_type": "code",
      "source": [
        "import math as m\n",
        "\n",
        "# import math\n",
        "# m = math"
      ],
      "metadata": {
        "id": "mMQAW1x2i0YN"
      },
      "execution_count": null,
      "outputs": []
    },
    {
      "cell_type": "code",
      "source": [
        "print(m.sin(10))\n",
        "print(m.tan(20))"
      ],
      "metadata": {
        "colab": {
          "base_uri": "https://localhost:8080/"
        },
        "id": "AI9eAo05jHG2",
        "outputId": "b2718ada-8320-4fc2-d915-9a3b09d5059c"
      },
      "execution_count": null,
      "outputs": [
        {
          "output_type": "stream",
          "name": "stdout",
          "text": [
            "-0.5440211108893698\n",
            "2.237160944224742\n"
          ]
        }
      ]
    },
    {
      "cell_type": "code",
      "source": [
        "from math import *"
      ],
      "metadata": {
        "id": "1TkX06Mqjtz5"
      },
      "execution_count": null,
      "outputs": []
    },
    {
      "cell_type": "code",
      "source": [
        "print(sin(10))\n",
        "print(tan(20))"
      ],
      "metadata": {
        "colab": {
          "base_uri": "https://localhost:8080/"
        },
        "id": "aipCVj79j0_D",
        "outputId": "6f712ddd-d043-4149-94cb-e2ac4e8193c9"
      },
      "execution_count": null,
      "outputs": [
        {
          "output_type": "stream",
          "name": "stdout",
          "text": [
            "-0.5440211108893698\n",
            "2.237160944224742\n"
          ]
        }
      ]
    },
    {
      "cell_type": "code",
      "source": [
        "from math import sin, tan\n",
        "\n",
        "# You can use sin, tan without mentioning module name\n",
        "# But other functions in math module will be written like math.function_name"
      ],
      "metadata": {
        "id": "JLgjdZvYj9KL"
      },
      "execution_count": null,
      "outputs": []
    },
    {
      "cell_type": "code",
      "source": [
        "# help(math) -> See all functions in math module"
      ],
      "metadata": {
        "id": "Hykf0lCXkUEk"
      },
      "execution_count": null,
      "outputs": []
    },
    {
      "cell_type": "code",
      "source": [
        "from math1 import sin\n",
        "from math2 import sin\n",
        "\n",
        "sin(x) -> math2 sin function"
      ],
      "metadata": {
        "id": "wWYTuxk9kfeB"
      },
      "execution_count": null,
      "outputs": []
    },
    {
      "cell_type": "code",
      "source": [
        "import module1\n",
        "\n",
        "module1.cool_func()"
      ],
      "metadata": {
        "colab": {
          "base_uri": "https://localhost:8080/"
        },
        "id": "bPwKjo4Ml2nU",
        "outputId": "3aff6dbc-c622-4713-87a9-ab24e20c0abb"
      },
      "execution_count": null,
      "outputs": [
        {
          "output_type": "stream",
          "name": "stdout",
          "text": [
            "Current File (Module 1) - module1\n",
            "I am so cool!\n"
          ]
        }
      ]
    },
    {
      "cell_type": "markdown",
      "source": [
        "**In a Python file :**\n",
        "\n",
        "If you print \\_\\_name\\_\\_ variable you will get \\_\\_main\\_\\_ as the output\n",
        "\n",
        "**If you import Python file as module in another file :**\n",
        "\n",
        "If you print module.\\_\\_name\\_\\_ variable you will get module_name as the output"
      ],
      "metadata": {
        "id": "JCmRDhB5maAS"
      }
    },
    {
      "cell_type": "code",
      "source": [],
      "metadata": {
        "id": "rQ9G6PMHof9T"
      },
      "execution_count": null,
      "outputs": []
    }
  ]
}