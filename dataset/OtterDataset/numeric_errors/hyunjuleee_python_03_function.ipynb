{
 "cells": [
  {
   "cell_type": "markdown",
   "id": "a81e0610-afba-4c79-9176-322968bd1379",
   "metadata": {},
   "source": [
    "# 함수(function)"
   ]
  },
  {
   "cell_type": "code",
   "execution_count": 4,
   "id": "28b7c07d-cac4-4349-bdbf-2d03b48e6113",
   "metadata": {},
   "outputs": [
    {
     "name": "stdout",
     "output_type": "stream",
     "text": [
      "사각형의 너비는 1500고, 둘레는 160입니다.\n"
     ]
    }
   ],
   "source": [
    "height = 50\n",
    "width = 30\n",
    "\n",
    "area = height * width\n",
    "perimeter = (height + width) * 2\n",
    "\n",
    "print(f'사각형의 너비는 {area}고, 둘레는 {perimeter}입니다.')"
   ]
  },
  {
   "cell_type": "markdown",
   "id": "7af27868-4e5f-483a-ba3f-05d349922f0d",
   "metadata": {},
   "source": [
    "## 함수의 선언과 호출\n",
    "\n",
    "- 함수의 선언\n",
    "```python\n",
    "def func_name(parameter1, parameter2 ...):\n",
    "    code1\n",
    "    code2\n",
    "    ...\n",
    "    return value\n",
    "```\n",
    "\n",
    "- 함수의 호출(실행)\n",
    "```python\n",
    "func_name(parameter1, parameter2 ...)\n",
    "```"
   ]
  },
  {
   "cell_type": "code",
   "execution_count": 7,
   "id": "7ad900f5-c38e-4013-80ef-3774aa4e898b",
   "metadata": {},
   "outputs": [],
   "source": [
    "def rectangle(height, width):\n",
    "    area = height * width\n",
    "    perimeter = (height + width) * 2\n",
    "    print(area, perimeter)"
   ]
  },
  {
   "cell_type": "code",
   "execution_count": 8,
   "id": "3e21f3ff-c2ea-4223-a2cb-9a3d3098102c",
   "metadata": {},
   "outputs": [
    {
     "name": "stdout",
     "output_type": "stream",
     "text": [
      "20000 600\n",
      "10000 400\n"
     ]
    }
   ],
   "source": [
    "rectangle(100, 200)\n",
    "rectangle(100, 100)"
   ]
  },
  {
   "cell_type": "code",
   "execution_count": 9,
   "id": "f3140339-4cec-45d3-a180-77b24c450286",
   "metadata": {},
   "outputs": [
    {
     "data": {
      "text/plain": [
       "['ArithmeticError',\n",
       " 'AssertionError',\n",
       " 'AttributeError',\n",
       " 'BaseException',\n",
       " 'BaseExceptionGroup',\n",
       " 'BlockingIOError',\n",
       " 'BrokenPipeError',\n",
       " 'BufferError',\n",
       " 'BytesWarning',\n",
       " 'ChildProcessError',\n",
       " 'ConnectionAbortedError',\n",
       " 'ConnectionError',\n",
       " 'ConnectionRefusedError',\n",
       " 'ConnectionResetError',\n",
       " 'DeprecationWarning',\n",
       " 'EOFError',\n",
       " 'Ellipsis',\n",
       " 'EncodingWarning',\n",
       " 'EnvironmentError',\n",
       " 'Exception',\n",
       " 'ExceptionGroup',\n",
       " 'False',\n",
       " 'FileExistsError',\n",
       " 'FileNotFoundError',\n",
       " 'FloatingPointError',\n",
       " 'FutureWarning',\n",
       " 'GeneratorExit',\n",
       " 'IOError',\n",
       " 'ImportError',\n",
       " 'ImportWarning',\n",
       " 'IndentationError',\n",
       " 'IndexError',\n",
       " 'InterruptedError',\n",
       " 'IsADirectoryError',\n",
       " 'KeyError',\n",
       " 'KeyboardInterrupt',\n",
       " 'LookupError',\n",
       " 'MemoryError',\n",
       " 'ModuleNotFoundError',\n",
       " 'NameError',\n",
       " 'None',\n",
       " 'NotADirectoryError',\n",
       " 'NotImplemented',\n",
       " 'NotImplementedError',\n",
       " 'OSError',\n",
       " 'OverflowError',\n",
       " 'PendingDeprecationWarning',\n",
       " 'PermissionError',\n",
       " 'ProcessLookupError',\n",
       " 'RecursionError',\n",
       " 'ReferenceError',\n",
       " 'ResourceWarning',\n",
       " 'RuntimeError',\n",
       " 'RuntimeWarning',\n",
       " 'StopAsyncIteration',\n",
       " 'StopIteration',\n",
       " 'SyntaxError',\n",
       " 'SyntaxWarning',\n",
       " 'SystemError',\n",
       " 'SystemExit',\n",
       " 'TabError',\n",
       " 'TimeoutError',\n",
       " 'True',\n",
       " 'TypeError',\n",
       " 'UnboundLocalError',\n",
       " 'UnicodeDecodeError',\n",
       " 'UnicodeEncodeError',\n",
       " 'UnicodeError',\n",
       " 'UnicodeTranslateError',\n",
       " 'UnicodeWarning',\n",
       " 'UserWarning',\n",
       " 'ValueError',\n",
       " 'Warning',\n",
       " 'WindowsError',\n",
       " 'ZeroDivisionError',\n",
       " '__IPYTHON__',\n",
       " '__build_class__',\n",
       " '__debug__',\n",
       " '__doc__',\n",
       " '__import__',\n",
       " '__loader__',\n",
       " '__name__',\n",
       " '__package__',\n",
       " '__spec__',\n",
       " 'abs',\n",
       " 'aiter',\n",
       " 'all',\n",
       " 'anext',\n",
       " 'any',\n",
       " 'ascii',\n",
       " 'bin',\n",
       " 'bool',\n",
       " 'breakpoint',\n",
       " 'bytearray',\n",
       " 'bytes',\n",
       " 'callable',\n",
       " 'chr',\n",
       " 'classmethod',\n",
       " 'compile',\n",
       " 'complex',\n",
       " 'copyright',\n",
       " 'credits',\n",
       " 'delattr',\n",
       " 'dict',\n",
       " 'dir',\n",
       " 'display',\n",
       " 'divmod',\n",
       " 'enumerate',\n",
       " 'eval',\n",
       " 'exec',\n",
       " 'execfile',\n",
       " 'filter',\n",
       " 'float',\n",
       " 'format',\n",
       " 'frozenset',\n",
       " 'get_ipython',\n",
       " 'getattr',\n",
       " 'globals',\n",
       " 'hasattr',\n",
       " 'hash',\n",
       " 'help',\n",
       " 'hex',\n",
       " 'id',\n",
       " 'input',\n",
       " 'int',\n",
       " 'isinstance',\n",
       " 'issubclass',\n",
       " 'iter',\n",
       " 'len',\n",
       " 'license',\n",
       " 'list',\n",
       " 'locals',\n",
       " 'map',\n",
       " 'max',\n",
       " 'memoryview',\n",
       " 'min',\n",
       " 'next',\n",
       " 'object',\n",
       " 'oct',\n",
       " 'open',\n",
       " 'ord',\n",
       " 'pow',\n",
       " 'print',\n",
       " 'property',\n",
       " 'range',\n",
       " 'repr',\n",
       " 'reversed',\n",
       " 'round',\n",
       " 'runfile',\n",
       " 'set',\n",
       " 'setattr',\n",
       " 'slice',\n",
       " 'sorted',\n",
       " 'staticmethod',\n",
       " 'str',\n",
       " 'sum',\n",
       " 'super',\n",
       " 'tuple',\n",
       " 'type',\n",
       " 'vars',\n",
       " 'zip']"
      ]
     },
     "execution_count": 9,
     "metadata": {},
     "output_type": "execute_result"
    }
   ],
   "source": [
    "dir(__builtins__)"
   ]
  },
  {
   "cell_type": "code",
   "execution_count": 10,
   "id": "398c52f3-52e7-4f87-937a-ae087afa86bb",
   "metadata": {},
   "outputs": [
    {
     "data": {
      "text/plain": [
       "4"
      ]
     },
     "execution_count": 10,
     "metadata": {},
     "output_type": "execute_result"
    }
   ],
   "source": [
    "max([1, 2, 3, 4])"
   ]
  },
  {
   "cell_type": "code",
   "execution_count": 13,
   "id": "ff1d52ca-a4f6-4973-a123-8a400e0f3aa7",
   "metadata": {},
   "outputs": [],
   "source": [
    "def my_max(num1, num2):\n",
    "    # 실행할 때 my_max(5, 1)이 각각 num1과 num2에 들어감\n",
    "    if num1 > num2:\n",
    "        print(num1)\n",
    "    elif num1 < num2:\n",
    "        print(num2)\n",
    "    else:\n",
    "        print('같습니다.')"
   ]
  },
  {
   "cell_type": "code",
   "execution_count": 14,
   "id": "ccd52537-3b54-4c4d-a5da-10b900022da2",
   "metadata": {},
   "outputs": [
    {
     "name": "stdout",
     "output_type": "stream",
     "text": [
      "5\n",
      "4\n",
      "같습니다.\n"
     ]
    }
   ],
   "source": [
    "my_max(5, 1)\n",
    "my_max(2, 4)\n",
    "my_max(4, 4)"
   ]
  },
  {
   "cell_type": "markdown",
   "id": "e1ed9566-5724-4b64-88a6-66a3142fceeb",
   "metadata": {},
   "source": [
    "## 함수의 return\n",
    "\n",
    "- 함수가 return을 만나면 해당 값을 반환하고 함수를 종료\n",
    "- 만약 return이 없는 경우 None을 자동으로 반환\n",
    "- return은 오직 하나의 객체만 반환한다."
   ]
  },
  {
   "cell_type": "code",
   "execution_count": 17,
   "id": "29d3c47a-073b-41b0-849f-aa0d8b89b638",
   "metadata": {},
   "outputs": [
    {
     "name": "stdout",
     "output_type": "stream",
     "text": [
      "2\n",
      "None\n"
     ]
    }
   ],
   "source": [
    "result = my_max(1, 2)\n",
    "print(result)"
   ]
  },
  {
   "cell_type": "code",
   "execution_count": 24,
   "id": "f4f95520-4d6d-45dc-8a0a-2be1e3685c09",
   "metadata": {},
   "outputs": [],
   "source": [
    "def my_max2(num1, num2):\n",
    "    if num1 > num2:\n",
    "        return num1\n",
    "    elif num1 < num2:\n",
    "        return num2\n",
    "    else:\n",
    "        return num1"
   ]
  },
  {
   "cell_type": "code",
   "execution_count": 25,
   "id": "71d8e943-e1e3-451c-8749-593e35a7c596",
   "metadata": {},
   "outputs": [
    {
     "name": "stdout",
     "output_type": "stream",
     "text": [
      "2\n"
     ]
    }
   ],
   "source": [
    "my_max(1, 2)"
   ]
  },
  {
   "cell_type": "code",
   "execution_count": 27,
   "id": "23f3cc07-60ee-4f80-8cbb-38b81ca344c0",
   "metadata": {},
   "outputs": [
    {
     "data": {
      "text/plain": [
       "2"
      ]
     },
     "execution_count": 27,
     "metadata": {},
     "output_type": "execute_result"
    }
   ],
   "source": [
    "my_max2(1, 2)\n",
    "\n",
    "# print(my_max2(1, 2))"
   ]
  },
  {
   "cell_type": "code",
   "execution_count": 29,
   "id": "f1e6dad3-2e76-429d-8e98-4543f91048a9",
   "metadata": {},
   "outputs": [
    {
     "data": {
      "text/plain": [
       "2"
      ]
     },
     "execution_count": 29,
     "metadata": {},
     "output_type": "execute_result"
    }
   ],
   "source": [
    "result = my_max2(1, 2)\n",
    "result\n",
    "\n",
    "# print(result)"
   ]
  },
  {
   "cell_type": "code",
   "execution_count": 64,
   "id": "84db81ff-768f-4c04-a330-b32a5cd60661",
   "metadata": {},
   "outputs": [],
   "source": [
    "# list 안의 value를 모두 더해 비교하기\n",
    "\n",
    "# ver1\n",
    "def my_list_max(list1, list2):\n",
    "    if list1[0] + list1[1] + list1[2] < list2[0] + list2[1] + list2[2]:\n",
    "        return list2\n",
    "    else:\n",
    "        return list1"
   ]
  },
  {
   "cell_type": "code",
   "execution_count": 65,
   "id": "34dd9f49-3e83-4a0c-84e9-3f1465f16dc4",
   "metadata": {},
   "outputs": [
    {
     "data": {
      "text/plain": [
       "[2, 3, 4]"
      ]
     },
     "execution_count": 65,
     "metadata": {},
     "output_type": "execute_result"
    }
   ],
   "source": [
    "my_list_max([1, 2, 3], [2, 3, 4])"
   ]
  },
  {
   "cell_type": "code",
   "execution_count": null,
   "id": "0932e24f-b867-4d4c-ba0e-898ba6ddc320",
   "metadata": {},
   "outputs": [],
   "source": [
    "# ver2\n",
    "\n",
    "def my_list_max(list1, list2):\n",
    "    result1 = 0\n",
    "    result2 = 0\n",
    "\n",
    "    for num in list1:\n",
    "        result1 += num\n",
    "\n",
    "    for num in list2:\n",
    "        result2 += num\n",
    "\n",
    "    if result1 > result2:\n",
    "        return list1\n",
    "    else:\n",
    "        return list2"
   ]
  },
  {
   "cell_type": "code",
   "execution_count": 73,
   "id": "ef486aa6-77b4-4d82-9507-663bffb4b7bf",
   "metadata": {},
   "outputs": [
    {
     "data": {
      "text/plain": [
       "[2, 3, 4, 5, 6]"
      ]
     },
     "execution_count": 73,
     "metadata": {},
     "output_type": "execute_result"
    }
   ],
   "source": [
    "my_list_max([1, 2, 3], [2, 3, 4, 5, 6])"
   ]
  },
  {
   "cell_type": "code",
   "execution_count": 70,
   "id": "3d45e33d-a757-43b8-a100-dd8e6fc2c868",
   "metadata": {},
   "outputs": [],
   "source": [
    "# ver3\n",
    "\n",
    "def my_list_max(list1, list2):\n",
    "    if sum(list1) > sum(list2):\n",
    "        return list1\n",
    "    else:\n",
    "        return list2"
   ]
  },
  {
   "cell_type": "code",
   "execution_count": 71,
   "id": "43c01924-7cd7-414d-bde4-9c3c0fdd4d8b",
   "metadata": {},
   "outputs": [
    {
     "data": {
      "text/plain": [
       "[2, 3, 4, 5, 6]"
      ]
     },
     "execution_count": 71,
     "metadata": {},
     "output_type": "execute_result"
    }
   ],
   "source": [
    "my_list_max([1, 2, 3], [2, 3, 4, 5, 6])"
   ]
  },
  {
   "cell_type": "code",
   "execution_count": 77,
   "id": "abfd4701-a26e-414d-a754-0a8c1cd30c2b",
   "metadata": {},
   "outputs": [
    {
     "data": {
      "text/plain": [
       "20"
      ]
     },
     "execution_count": 77,
     "metadata": {},
     "output_type": "execute_result"
    }
   ],
   "source": [
    "def my_def(x):\n",
    "    return x * 2\n",
    "    return x * 3\n",
    "# return은 한 번만 실행\n",
    "my_def(10)"
   ]
  },
  {
   "cell_type": "code",
   "execution_count": 80,
   "id": "d4e27f46-879a-425b-9670-c6b635889c3c",
   "metadata": {},
   "outputs": [
    {
     "data": {
      "text/plain": [
       "(10, 20)"
      ]
     },
     "execution_count": 80,
     "metadata": {},
     "output_type": "execute_result"
    }
   ],
   "source": [
    "def my_def2(x):\n",
    "    return x, x * 2\n",
    "\n",
    "my_def2(10)\n",
    "# 반환 값이 2개일 경우 튜플로 묶어 하나의 객체로 처리"
   ]
  },
  {
   "cell_type": "markdown",
   "id": "b400ffbf-5e9b-41a7-a462-669bef3ec120",
   "metadata": {},
   "source": [
    "## 함수의 인수\n",
    "### 위치 인수\n",
    "기본적으로 함수는 위치를 기준으로 인수를 판단합니다."
   ]
  },
  {
   "cell_type": "code",
   "execution_count": 81,
   "id": "c2c22513-ab54-4859-9e73-ab6116180365",
   "metadata": {},
   "outputs": [],
   "source": [
    "def cylinder(r, h):\n",
    "    return 3.14 * r**2 * h"
   ]
  },
  {
   "cell_type": "code",
   "execution_count": 84,
   "id": "9bb3dd1b-1741-461e-8009-503ef36f4c6f",
   "metadata": {},
   "outputs": [
    {
     "data": {
      "text/plain": [
       "785.0"
      ]
     },
     "execution_count": 84,
     "metadata": {},
     "output_type": "execute_result"
    }
   ],
   "source": [
    "cylinder(10 ,5)\n",
    "cylinder(5, 10)"
   ]
  },
  {
   "cell_type": "markdown",
   "id": "6ccad109-de2d-43f9-be1a-a54339ae1755",
   "metadata": {},
   "source": [
    "### 기본값\n",
    "```python\n",
    "def func(p1=v1):\n",
    "    code\n",
    "    ...\n",
    "    return value\n",
    "```\n",
    "- v1에 들어가는 값이 기본값이 됨 (예를 들어 아무 입력이 없을 경우 오류 생기는 것 방지)"
   ]
  },
  {
   "cell_type": "code",
   "execution_count": 85,
   "id": "7eb93796-ac77-4609-8747-323015e68cd1",
   "metadata": {},
   "outputs": [],
   "source": [
    "def greeting(name):\n",
    "    return f'{name}님 반갑습니다.'"
   ]
  },
  {
   "cell_type": "code",
   "execution_count": 91,
   "id": "42eb5992-c7d8-438d-ae1e-3251a622ced9",
   "metadata": {},
   "outputs": [
    {
     "data": {
      "text/plain": [
       "'홍길동님 반갑습니다.'"
      ]
     },
     "execution_count": 91,
     "metadata": {},
     "output_type": "execute_result"
    }
   ],
   "source": [
    "greeting('홍길동')"
   ]
  },
  {
   "cell_type": "code",
   "execution_count": 93,
   "id": "8a9ff4e0-8ecb-40c2-a69e-5009a9f111f3",
   "metadata": {},
   "outputs": [],
   "source": [
    "def greeting(name='익명'):\n",
    "    return f'{name}님 반갑습니다.'"
   ]
  },
  {
   "cell_type": "code",
   "execution_count": 94,
   "id": "a8bbd489-105e-4c53-8341-b1c7b2ea4120",
   "metadata": {},
   "outputs": [
    {
     "data": {
      "text/plain": [
       "'익명님 반갑습니다.'"
      ]
     },
     "execution_count": 94,
     "metadata": {},
     "output_type": "execute_result"
    }
   ],
   "source": [
    "greeting()"
   ]
  },
  {
   "cell_type": "code",
   "execution_count": 107,
   "id": "bfdc5aed-7c53-421a-ba56-cb309bd73fb9",
   "metadata": {},
   "outputs": [
    {
     "name": "stdout",
     "output_type": "stream",
     "text": [
      "안녕하세요?저는 길동이에요!hello\n"
     ]
    }
   ],
   "source": [
    "print('안녕하세요', '저는 길동이에요', sep='?', end='!') #sep = |n\n",
    "print('hello')"
   ]
  },
  {
   "cell_type": "code",
   "execution_count": 108,
   "id": "75f29aed-7b37-4ad3-9607-f8430585c986",
   "metadata": {},
   "outputs": [
    {
     "name": "stdout",
     "output_type": "stream",
     "text": [
      "안녕하세요?저는 길동이에요\n",
      "hello\n"
     ]
    }
   ],
   "source": [
    "print('안녕하세요', '저는 길동이에요', sep='?') #sep = |n\n",
    "print('hello')"
   ]
  },
  {
   "cell_type": "code",
   "execution_count": 114,
   "id": "4249ee64-6437-4491-b042-5f0678b7017d",
   "metadata": {},
   "outputs": [
    {
     "ename": "SyntaxError",
     "evalue": "parameter without a default follows parameter with a default (3515306901.py, line 1)",
     "output_type": "error",
     "traceback": [
      "\u001b[1;36m  Cell \u001b[1;32mIn[114], line 1\u001b[1;36m\u001b[0m\n\u001b[1;33m    def greeting(name='익명', age):\u001b[0m\n\u001b[1;37m                            ^\u001b[0m\n\u001b[1;31mSyntaxError\u001b[0m\u001b[1;31m:\u001b[0m parameter without a default follows parameter with a default\n"
     ]
    }
   ],
   "source": [
    "def greeting(name='익명', age):\n",
    "    return f'{name}님의 나이는 {age}입니다.'\n",
    "\n",
    "# 기본값이 있는 parameter는 앞에 나오면 안된다"
   ]
  },
  {
   "cell_type": "code",
   "execution_count": 112,
   "id": "e548192e-fb38-44f6-b6c2-be9ddc8f8807",
   "metadata": {},
   "outputs": [],
   "source": [
    "def greeting(age, name='익명'):\n",
    "    return f'{name}님의 나이는 {age}입니다.'"
   ]
  },
  {
   "cell_type": "code",
   "execution_count": 115,
   "id": "89e151cc-c1c2-4428-850f-5addf1adf876",
   "metadata": {},
   "outputs": [
    {
     "data": {
      "text/plain": [
       "'익명님의 나이는 10입니다.'"
      ]
     },
     "execution_count": 115,
     "metadata": {},
     "output_type": "execute_result"
    }
   ],
   "source": [
    "greeting(10)"
   ]
  },
  {
   "cell_type": "code",
   "execution_count": 116,
   "id": "2c714e47-06c9-4cf5-9e03-ae4ac5638ee2",
   "metadata": {},
   "outputs": [
    {
     "data": {
      "text/plain": [
       "'길동님의 나이는 10입니다.'"
      ]
     },
     "execution_count": 116,
     "metadata": {},
     "output_type": "execute_result"
    }
   ],
   "source": [
    "greeting(10, '길동')"
   ]
  },
  {
   "cell_type": "markdown",
   "id": "b6dee1ec-b368-4d17-8209-ac43f94136a1",
   "metadata": {},
   "source": [
    "### 키워드 인수\n",
    "함수를 호출(실행)할 때 내가 원하는 위치에 직접적으로 특정인자를 전달"
   ]
  },
  {
   "cell_type": "code",
   "execution_count": 119,
   "id": "58dd97d4-3199-423c-9096-a90178e80111",
   "metadata": {},
   "outputs": [],
   "source": [
    "def greeting(age, name='익명'):\n",
    "    return(f'{name}님의 나이는 {age}입니다.')"
   ]
  },
  {
   "cell_type": "code",
   "execution_count": 122,
   "id": "dff3c38f-c1b8-49c1-b1a0-5681c65e2dfa",
   "metadata": {},
   "outputs": [
    {
     "data": {
      "text/plain": [
       "'길동님의 나이는 10입니다.'"
      ]
     },
     "execution_count": 122,
     "metadata": {},
     "output_type": "execute_result"
    }
   ],
   "source": [
    "greeting(10)\n",
    "greeting(10,'길동')\n",
    "greeting(name='길동', age=10)"
   ]
  },
  {
   "cell_type": "markdown",
   "id": "c083e396-3c08-4a26-9b56-6c1938143157",
   "metadata": {},
   "source": [
    "### 가변인자 리스트\n",
    "- 데이터가 몇개 들어올지 모르는 것을 가정 (가변인자 = *parms), `*`할 경우 하나의 리스트를 tuple로 관리\n",
    "```python\n",
    "def func(*parms):\n",
    "    code\n",
    "    ...\n",
    "```"
   ]
  },
  {
   "cell_type": "code",
   "execution_count": 123,
   "id": "39c2215c-9c20-4b46-9912-57ce8d6ead92",
   "metadata": {},
   "outputs": [
    {
     "name": "stdout",
     "output_type": "stream",
     "text": [
      "hi hello my name is\n"
     ]
    }
   ],
   "source": [
    "print('hi', 'hello', 'my', 'name', 'is')"
   ]
  },
  {
   "cell_type": "code",
   "execution_count": 125,
   "id": "b5ba0be6-e5c9-4a39-b5cf-c1b8a1b2cf4e",
   "metadata": {},
   "outputs": [],
   "source": [
    "def my_print(*words):\n",
    "    print(words)"
   ]
  },
  {
   "cell_type": "code",
   "execution_count": 126,
   "id": "eb7af6f2-1ae9-48d5-9045-ffdae8c6fa10",
   "metadata": {},
   "outputs": [
    {
     "name": "stdout",
     "output_type": "stream",
     "text": [
      "('my', 'name', 'is')\n"
     ]
    }
   ],
   "source": [
    "my_print('my', 'name', 'is')"
   ]
  },
  {
   "cell_type": "code",
   "execution_count": 134,
   "id": "b3b9230d-117f-498b-9525-2824ca58a52f",
   "metadata": {},
   "outputs": [],
   "source": [
    "def my_max(*numbers):\n",
    "    print(max(numbers))"
   ]
  },
  {
   "cell_type": "code",
   "execution_count": 137,
   "id": "d49f602f-4482-42e7-9761-8f4e9a1e6388",
   "metadata": {},
   "outputs": [
    {
     "name": "stdout",
     "output_type": "stream",
     "text": [
      "5\n"
     ]
    }
   ],
   "source": [
    "my_max(1, 2, 3, 4, 5)"
   ]
  },
  {
   "cell_type": "code",
   "execution_count": 153,
   "id": "1c99898e-5520-4a8a-9a76-580e649bb34b",
   "metadata": {},
   "outputs": [],
   "source": [
    "def my_max(*numbers):\n",
    "    max_num = 0\n",
    "    \n",
    "    for number in numbers:\n",
    "        if max_num < number:\n",
    "            max_num = number\n",
    "    return max_num"
   ]
  },
  {
   "cell_type": "code",
   "execution_count": 154,
   "id": "8358e9de-0435-462d-a7c6-9e7230f6fae2",
   "metadata": {},
   "outputs": [
    {
     "data": {
      "text/plain": [
       "5"
      ]
     },
     "execution_count": 154,
     "metadata": {},
     "output_type": "execute_result"
    }
   ],
   "source": [
    "my_max(1, 2, 3, 4, 5)"
   ]
  },
  {
   "cell_type": "code",
   "execution_count": 155,
   "id": "459462db-5acd-4cdc-8627-6e854bb4b0cc",
   "metadata": {},
   "outputs": [],
   "source": [
    "def my_max(*numbers):\n",
    "    #max_num = 0\n",
    "    max_num = numbers[0]\n",
    "    \n",
    "    for number in numbers:\n",
    "        if max_num < number:\n",
    "            max_num = number\n",
    "    return max_num"
   ]
  },
  {
   "cell_type": "code",
   "execution_count": 156,
   "id": "8ac68a18-5392-423a-845f-7e241c43f9ea",
   "metadata": {},
   "outputs": [
    {
     "data": {
      "text/plain": [
       "-1"
      ]
     },
     "execution_count": 156,
     "metadata": {},
     "output_type": "execute_result"
    }
   ],
   "source": [
    "my_max(-1, -2, -3)"
   ]
  },
  {
   "cell_type": "markdown",
   "id": "5f75e7ac-bbde-4f21-8805-1444de2613ea",
   "metadata": {},
   "source": [
    "### 정의되지 않은 키워드 인자 처리하기\n",
    "\n",
    "```python\n",
    "def func(**kwargs):\n",
    "    code ...\n",
    "```"
   ]
  },
  {
   "cell_type": "code",
   "execution_count": 167,
   "id": "ee82418a-0175-4d88-91b2-12b03fd8978c",
   "metadata": {},
   "outputs": [],
   "source": [
    "# 키워드인자: key와 value 쌍이 되는 인자"
   ]
  },
  {
   "cell_type": "code",
   "execution_count": 158,
   "id": "8319105a-c018-41da-ad6c-428c3aa2a930",
   "metadata": {},
   "outputs": [
    {
     "name": "stdout",
     "output_type": "stream",
     "text": [
      "{'name': 'hong', 'age': 10}\n"
     ]
    }
   ],
   "source": [
    "info = {\n",
    "    'name': 'hong',\n",
    "    'age': 10,\n",
    "}\n",
    "\n",
    "print(info)"
   ]
  },
  {
   "cell_type": "code",
   "execution_count": 160,
   "id": "dc1049b9-f0b9-4c00-84d9-cb25fa82e295",
   "metadata": {},
   "outputs": [
    {
     "name": "stdout",
     "output_type": "stream",
     "text": [
      "{'name': 'hong', 'age': 10, 'location': 'seoul'}\n"
     ]
    }
   ],
   "source": [
    "info = dict(name='hong', age=10, location='seoul')\n",
    "print(info)"
   ]
  },
  {
   "cell_type": "code",
   "execution_count": 162,
   "id": "edd05fbe-636f-4abc-9199-e9abeb35c3c2",
   "metadata": {},
   "outputs": [],
   "source": [
    "def my_dict(**kwargs):\n",
    "    print(kwargs)"
   ]
  },
  {
   "cell_type": "code",
   "execution_count": 170,
   "id": "91058883-395e-4401-991e-c1550e419713",
   "metadata": {},
   "outputs": [
    {
     "name": "stdout",
     "output_type": "stream",
     "text": [
      "{'asdf': '123', 'qwer': '456'}\n"
     ]
    }
   ],
   "source": [
    "my_dict(asdf='123', qwer='456')"
   ]
  },
  {
   "cell_type": "code",
   "execution_count": 172,
   "id": "80fcc000-ea92-45ad-8a7f-32a4ba9b42e1",
   "metadata": {},
   "outputs": [],
   "source": [
    "# 가변인자와 키워드인자의 차이 (참조)"
   ]
  },
  {
   "cell_type": "code",
   "execution_count": 164,
   "id": "3d79376c-a5c1-43f4-ac78-a5d6dd7f0b01",
   "metadata": {},
   "outputs": [],
   "source": [
    "def my_func(*datas, **kwdatas):\n",
    "    print(datas)\n",
    "    print(kwdatas)"
   ]
  },
  {
   "cell_type": "code",
   "execution_count": 169,
   "id": "e708f1c5-c6b1-45d5-8cf0-3dcfa2fc74f7",
   "metadata": {},
   "outputs": [
    {
     "name": "stdout",
     "output_type": "stream",
     "text": [
      "(1, 2, [1, 2], 'abc')\n",
      "{'hello': 'hi', 'world': 'w'}\n"
     ]
    }
   ],
   "source": [
    "my_func(1, 2, [1, 2], 'abc', hello='hi', world='w')"
   ]
  },
  {
   "cell_type": "markdown",
   "id": "107f6e0e-eaee-45c3-8cc3-cd1de1a310a8",
   "metadata": {},
   "source": [
    "### dictionary를 인자로 넣기(unpacking)"
   ]
  },
  {
   "cell_type": "code",
   "execution_count": 173,
   "id": "bc3d3b87-b001-49ca-8e25-8d51d58213e2",
   "metadata": {},
   "outputs": [],
   "source": [
    "def sign_up(username, pw, pw_conf):\n",
    "    if pw == pw_conf:\n",
    "        print(f'{username}님 회원 가입을 환영합니다.')\n",
    "    else:\n",
    "        print('비밀번호가 일치하지 않습니다.')"
   ]
  },
  {
   "cell_type": "code",
   "execution_count": 175,
   "id": "973038f4-4dab-40ec-a480-66777b24d544",
   "metadata": {},
   "outputs": [
    {
     "name": "stdout",
     "output_type": "stream",
     "text": [
      "비밀번호가 일치하지 않습니다.\n",
      "hong님 회원 가입을 환영합니다.\n"
     ]
    }
   ],
   "source": [
    "sign_up('hong', '1234', '123')\n",
    "sign_up('hong', '1234', '1234')"
   ]
  },
  {
   "cell_type": "code",
   "execution_count": 177,
   "id": "bb9624f7-8643-4822-9547-f9817af5410a",
   "metadata": {},
   "outputs": [
    {
     "name": "stdout",
     "output_type": "stream",
     "text": [
      "hong님 회원 가입을 환영합니다.\n"
     ]
    }
   ],
   "source": [
    "user_info = {\n",
    "    'username': 'hong',\n",
    "    'pw': '1234',\n",
    "    'pw_conf': '1234',\n",
    "}\n",
    "sign_up(**user_info)"
   ]
  },
  {
   "cell_type": "markdown",
   "id": "c3ad344a-a45f-4c2f-b8b0-e2df9c6418b3",
   "metadata": {},
   "source": [
    "### lambda 표현식\n",
    "\n",
    "```python\n",
    "lambda parameter: expression\n",
    "```"
   ]
  },
  {
   "cell_type": "code",
   "execution_count": 179,
   "id": "694ee28f-6967-44d6-8fc4-5014050beb52",
   "metadata": {},
   "outputs": [],
   "source": [
    "def my_sum(num1, num2):\n",
    "    return num1 + num2"
   ]
  },
  {
   "cell_type": "code",
   "execution_count": 181,
   "id": "d7430568-49c2-41b5-bd1f-7ea04382ead6",
   "metadata": {},
   "outputs": [
    {
     "data": {
      "text/plain": [
       "3"
      ]
     },
     "execution_count": 181,
     "metadata": {},
     "output_type": "execute_result"
    }
   ],
   "source": [
    "my_sum(1, 2)"
   ]
  },
  {
   "cell_type": "code",
   "execution_count": 182,
   "id": "e70271c4-8e7e-4ea1-a7cb-cedd91868fef",
   "metadata": {},
   "outputs": [
    {
     "data": {
      "text/plain": [
       "3"
      ]
     },
     "execution_count": 182,
     "metadata": {},
     "output_type": "execute_result"
    }
   ],
   "source": [
    "(lambda num1, num2: num1 + num2)(1, 2)"
   ]
  },
  {
   "cell_type": "markdown",
   "id": "e69715dc-54e4-47d1-b45f-82a3b4f04fd7",
   "metadata": {},
   "source": [
    "### 타입힌트"
   ]
  },
  {
   "cell_type": "code",
   "execution_count": 184,
   "id": "de01db38-4125-412b-bf0a-9a2e7e0671f0",
   "metadata": {},
   "outputs": [],
   "source": [
    "def my_sum(a, b):\n",
    "    return a + b"
   ]
  },
  {
   "cell_type": "code",
   "execution_count": 185,
   "id": "16bda004-96b9-4840-a1b1-252f7a9766a3",
   "metadata": {},
   "outputs": [
    {
     "data": {
      "text/plain": [
       "3"
      ]
     },
     "execution_count": 185,
     "metadata": {},
     "output_type": "execute_result"
    }
   ],
   "source": [
    "my_sum(1, 2)"
   ]
  },
  {
   "cell_type": "code",
   "execution_count": 186,
   "id": "8417d20a-35ce-45a6-95f3-dd9c007a1943",
   "metadata": {},
   "outputs": [],
   "source": [
    "def my_sum(a: int, b: int) -> int: # -> 이후 값: 리턴되는 값이 int\n",
    "    return a + b"
   ]
  },
  {
   "cell_type": "code",
   "execution_count": 188,
   "id": "eb85d8f6-3737-4f9e-a639-88d9512cb566",
   "metadata": {},
   "outputs": [
    {
     "data": {
      "text/plain": [
       "3"
      ]
     },
     "execution_count": 188,
     "metadata": {},
     "output_type": "execute_result"
    }
   ],
   "source": [
    "my_sum(1, 2)"
   ]
  },
  {
   "cell_type": "markdown",
   "id": "561ae2fa-eb32-4163-b185-d63d86bdd083",
   "metadata": {},
   "source": [
    "## 이름공간(scope, name space)\n",
    "python에서 사용되는 이름들은 이름 공간에 저장되어 있습니다.\n",
    "LEGB rule\n",
    "1. Local: 정의된 함수 내부\n",
    "2. Enclosed: 상위 함수\n",
    "4. Global: 함수 밖의 변수\n",
    "5. Built-in: python이 기본적으로 가지고 있는 함수 / 변수"
   ]
  },
  {
   "cell_type": "code",
   "execution_count": 6,
   "id": "42904c96-a22a-42f3-8813-57395a5ff3cb",
   "metadata": {},
   "outputs": [
    {
     "name": "stdout",
     "output_type": "stream",
     "text": [
      "1\n"
     ]
    }
   ],
   "source": [
    "# built-in 함수 < Local 함수 (우선)\n",
    "\n",
    "result = str(1)\n",
    "print(result)"
   ]
  },
  {
   "cell_type": "code",
   "execution_count": 2,
   "id": "52b7870c-b77e-4d8e-a040-46a8ab316328",
   "metadata": {},
   "outputs": [],
   "source": [
    "str = 'hi'"
   ]
  },
  {
   "cell_type": "code",
   "execution_count": 3,
   "id": "82b2e0f1-3f3d-4f7e-bdac-b370c88e74ca",
   "metadata": {},
   "outputs": [
    {
     "ename": "TypeError",
     "evalue": "'str' object is not callable",
     "output_type": "error",
     "traceback": [
      "\u001b[1;31m---------------------------------------------------------------------------\u001b[0m",
      "\u001b[1;31mTypeError\u001b[0m                                 Traceback (most recent call last)",
      "Cell \u001b[1;32mIn[3], line 1\u001b[0m\n\u001b[1;32m----> 1\u001b[0m result \u001b[38;5;241m=\u001b[39m \u001b[38;5;28;43mstr\u001b[39;49m\u001b[43m(\u001b[49m\u001b[38;5;241;43m1\u001b[39;49m\u001b[43m)\u001b[49m\n\u001b[0;32m      2\u001b[0m \u001b[38;5;28mprint\u001b[39m(result)\n",
      "\u001b[1;31mTypeError\u001b[0m: 'str' object is not callable"
     ]
    }
   ],
   "source": [
    "result = str(1)\n",
    "print(result)"
   ]
  },
  {
   "cell_type": "code",
   "execution_count": 14,
   "id": "dba73426-e759-4841-bd43-1980d333ee85",
   "metadata": {},
   "outputs": [],
   "source": [
    "# del str"
   ]
  },
  {
   "cell_type": "code",
   "execution_count": 15,
   "id": "4b144ae2-88f6-4309-a1e4-e64030c8466c",
   "metadata": {},
   "outputs": [
    {
     "name": "stdout",
     "output_type": "stream",
     "text": [
      "1\n",
      "5\n"
     ]
    }
   ],
   "source": [
    "# Local > Global\n",
    "\n",
    "a = 1 # 얘랑\n",
    "\n",
    "def local_scope(a):\n",
    "    # a = 5\n",
    "    return a # 얘는 다름\n",
    "\n",
    "print(a)\n",
    "print(local_scope(5))"
   ]
  },
  {
   "cell_type": "code",
   "execution_count": 12,
   "id": "162a7643-2a59-4962-bf04-86c0960bf5a9",
   "metadata": {},
   "outputs": [
    {
     "data": {
      "text/plain": [
       "10"
      ]
     },
     "execution_count": 12,
     "metadata": {},
     "output_type": "execute_result"
    }
   ],
   "source": [
    "a = 10\n",
    "\n",
    "def global_scope():\n",
    "    return a\n",
    "\n",
    "global_scope()"
   ]
  },
  {
   "cell_type": "code",
   "execution_count": 17,
   "id": "f3d13deb-2e50-431c-a688-d4b44a948bbf",
   "metadata": {},
   "outputs": [
    {
     "data": {
      "text/plain": [
       "13"
      ]
     },
     "execution_count": 17,
     "metadata": {},
     "output_type": "execute_result"
    }
   ],
   "source": [
    "a = 12\n",
    "\n",
    "def global_scope():\n",
    "    global a\n",
    "    a = a + 1\n",
    "    return a\n",
    "\n",
    "global_scope()"
   ]
  },
  {
   "cell_type": "markdown",
   "id": "a37c8dc1-3cde-4f53-ba24-5f6c3ab62471",
   "metadata": {},
   "source": [
    "## 재귀\n",
    "\n",
    "재귀함수는 함수 내부에서 자기 자신을 호출하는 함수입니다."
   ]
  },
  {
   "cell_type": "markdown",
   "id": "21063382-8140-493c-83db-b038da1b4134",
   "metadata": {},
   "source": [
    "n! = 1 * 2 * 3 * ... n\n",
    "\n",
    "- 1! = 1\n",
    "- 2! = 1 * 2 = 1! * 2\n",
    "- 3! = 1 * 2 * 3 = 2! * 3\n",
    "- n! = (n-1)! * n"
   ]
  },
  {
   "cell_type": "code",
   "execution_count": 21,
   "id": "67664937-5c7b-4ebc-80f2-871b2a1b9328",
   "metadata": {},
   "outputs": [
    {
     "data": {
      "text/plain": [
       "120"
      ]
     },
     "execution_count": 21,
     "metadata": {},
     "output_type": "execute_result"
    }
   ],
   "source": [
    "def fact(n):\n",
    "    if n == 1:\n",
    "        return 1\n",
    "    else:\n",
    "        return fact(n-1) * n\n",
    "\n",
    "fact(5)"
   ]
  },
  {
   "cell_type": "code",
   "execution_count": null,
   "id": "8876b6c7-5ed5-45d0-9fa2-b0741f3a5911",
   "metadata": {},
   "outputs": [],
   "source": []
  },
  {
   "cell_type": "code",
   "execution_count": null,
   "id": "cf4c5757-a5fe-4044-8b4e-fad3c75c0f8a",
   "metadata": {},
   "outputs": [],
   "source": []
  },
  {
   "cell_type": "code",
   "execution_count": null,
   "id": "315d5d1f-4f80-40c8-8a38-9885c401d906",
   "metadata": {},
   "outputs": [],
   "source": []
  },
  {
   "cell_type": "code",
   "execution_count": null,
   "id": "f6964d18-0a48-4472-a333-95cb00af9881",
   "metadata": {},
   "outputs": [],
   "source": []
  },
  {
   "cell_type": "code",
   "execution_count": null,
   "id": "d9db2a7a-7893-46af-8baf-90d2e66c40ed",
   "metadata": {},
   "outputs": [],
   "source": []
  }
 ],
 "metadata": {
  "kernelspec": {
   "display_name": "Python 3 (ipykernel)",
   "language": "python",
   "name": "python3"
  },
  "language_info": {
   "codemirror_mode": {
    "name": "ipython",
    "version": 3
   },
   "file_extension": ".py",
   "mimetype": "text/x-python",
   "name": "python",
   "nbconvert_exporter": "python",
   "pygments_lexer": "ipython3",
   "version": "3.12.4"
  }
 },
 "nbformat": 4,
 "nbformat_minor": 5
}
