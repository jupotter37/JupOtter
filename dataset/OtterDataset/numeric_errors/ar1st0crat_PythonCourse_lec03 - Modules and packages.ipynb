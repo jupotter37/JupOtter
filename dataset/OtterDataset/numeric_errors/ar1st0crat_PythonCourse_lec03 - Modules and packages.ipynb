{
 "cells": [
  {
   "cell_type": "markdown",
   "metadata": {
    "collapsed": true,
    "slideshow": {
     "slide_type": "-"
    }
   },
   "source": [
    "## Лекция 3 - Модули и пакеты Python\n",
    "\n",
    "- подключение модулей\n",
    "- интроспекция модулей\n",
    "- собственные модули и пакеты\n",
    "- примеры стандартных модулей:\n",
    "    * math\n",
    "    * random\n",
    "    * datetime, time, calendar\n",
    "    * re\n",
    "    * itertools\n",
    "    * collections"
   ]
  },
  {
   "cell_type": "code",
   "execution_count": 1,
   "metadata": {
    "collapsed": false,
    "slideshow": {
     "slide_type": "-"
    }
   },
   "outputs": [
    {
     "name": "stdout",
     "output_type": "stream",
     "text": [
      "Help on built-in module math:\n",
      "\n",
      "NAME\n",
      "    math\n",
      "\n",
      "DESCRIPTION\n",
      "    This module is always available.  It provides access to the\n",
      "    mathematical functions defined by the C standard.\n",
      "\n",
      "FUNCTIONS\n",
      "    acos(...)\n",
      "        acos(x)\n",
      "        \n",
      "        Return the arc cosine (measured in radians) of x.\n",
      "    \n",
      "    acosh(...)\n",
      "        acosh(x)\n",
      "        \n",
      "        Return the inverse hyperbolic cosine of x.\n",
      "    \n",
      "    asin(...)\n",
      "        asin(x)\n",
      "        \n",
      "        Return the arc sine (measured in radians) of x.\n",
      "    \n",
      "    asinh(...)\n",
      "        asinh(x)\n",
      "        \n",
      "        Return the inverse hyperbolic sine of x.\n",
      "    \n",
      "    atan(...)\n",
      "        atan(x)\n",
      "        \n",
      "        Return the arc tangent (measured in radians) of x.\n",
      "    \n",
      "    atan2(...)\n",
      "        atan2(y, x)\n",
      "        \n",
      "        Return the arc tangent (measured in radians) of y/x.\n",
      "        Unlike atan(y/x), the signs of both x and y are considered.\n",
      "    \n",
      "    atanh(...)\n",
      "        atanh(x)\n",
      "        \n",
      "        Return the inverse hyperbolic tangent of x.\n",
      "    \n",
      "    ceil(...)\n",
      "        ceil(x)\n",
      "        \n",
      "        Return the ceiling of x as an Integral.\n",
      "        This is the smallest integer >= x.\n",
      "    \n",
      "    copysign(...)\n",
      "        copysign(x, y)\n",
      "        \n",
      "        Return a float with the magnitude (absolute value) of x but the sign \n",
      "        of y. On platforms that support signed zeros, copysign(1.0, -0.0) \n",
      "        returns -1.0.\n",
      "    \n",
      "    cos(...)\n",
      "        cos(x)\n",
      "        \n",
      "        Return the cosine of x (measured in radians).\n",
      "    \n",
      "    cosh(...)\n",
      "        cosh(x)\n",
      "        \n",
      "        Return the hyperbolic cosine of x.\n",
      "    \n",
      "    degrees(...)\n",
      "        degrees(x)\n",
      "        \n",
      "        Convert angle x from radians to degrees.\n",
      "    \n",
      "    erf(...)\n",
      "        erf(x)\n",
      "        \n",
      "        Error function at x.\n",
      "    \n",
      "    erfc(...)\n",
      "        erfc(x)\n",
      "        \n",
      "        Complementary error function at x.\n",
      "    \n",
      "    exp(...)\n",
      "        exp(x)\n",
      "        \n",
      "        Return e raised to the power of x.\n",
      "    \n",
      "    expm1(...)\n",
      "        expm1(x)\n",
      "        \n",
      "        Return exp(x)-1.\n",
      "        This function avoids the loss of precision involved in the direct evaluation of exp(x)-1 for small x.\n",
      "    \n",
      "    fabs(...)\n",
      "        fabs(x)\n",
      "        \n",
      "        Return the absolute value of the float x.\n",
      "    \n",
      "    factorial(...)\n",
      "        factorial(x) -> Integral\n",
      "        \n",
      "        Find x!. Raise a ValueError if x is negative or non-integral.\n",
      "    \n",
      "    floor(...)\n",
      "        floor(x)\n",
      "        \n",
      "        Return the floor of x as an Integral.\n",
      "        This is the largest integer <= x.\n",
      "    \n",
      "    fmod(...)\n",
      "        fmod(x, y)\n",
      "        \n",
      "        Return fmod(x, y), according to platform C.  x % y may differ.\n",
      "    \n",
      "    frexp(...)\n",
      "        frexp(x)\n",
      "        \n",
      "        Return the mantissa and exponent of x, as pair (m, e).\n",
      "        m is a float and e is an int, such that x = m * 2.**e.\n",
      "        If x is 0, m and e are both 0.  Else 0.5 <= abs(m) < 1.0.\n",
      "    \n",
      "    fsum(...)\n",
      "        fsum(iterable)\n",
      "        \n",
      "        Return an accurate floating point sum of values in the iterable.\n",
      "        Assumes IEEE-754 floating point arithmetic.\n",
      "    \n",
      "    gamma(...)\n",
      "        gamma(x)\n",
      "        \n",
      "        Gamma function at x.\n",
      "    \n",
      "    gcd(...)\n",
      "        gcd(x, y) -> int\n",
      "        greatest common divisor of x and y\n",
      "    \n",
      "    hypot(...)\n",
      "        hypot(x, y)\n",
      "        \n",
      "        Return the Euclidean distance, sqrt(x*x + y*y).\n",
      "    \n",
      "    isclose(...)\n",
      "        isclose(a, b, *, rel_tol=1e-09, abs_tol=0.0) -> bool\n",
      "        \n",
      "        Determine whether two floating point numbers are close in value.\n",
      "        \n",
      "           rel_tol\n",
      "               maximum difference for being considered \"close\", relative to the\n",
      "               magnitude of the input values\n",
      "            abs_tol\n",
      "               maximum difference for being considered \"close\", regardless of the\n",
      "               magnitude of the input values\n",
      "        \n",
      "        Return True if a is close in value to b, and False otherwise.\n",
      "        \n",
      "        For the values to be considered close, the difference between them\n",
      "        must be smaller than at least one of the tolerances.\n",
      "        \n",
      "        -inf, inf and NaN behave similarly to the IEEE 754 Standard.  That\n",
      "        is, NaN is not close to anything, even itself.  inf and -inf are\n",
      "        only close to themselves.\n",
      "    \n",
      "    isfinite(...)\n",
      "        isfinite(x) -> bool\n",
      "        \n",
      "        Return True if x is neither an infinity nor a NaN, and False otherwise.\n",
      "    \n",
      "    isinf(...)\n",
      "        isinf(x) -> bool\n",
      "        \n",
      "        Return True if x is a positive or negative infinity, and False otherwise.\n",
      "    \n",
      "    isnan(...)\n",
      "        isnan(x) -> bool\n",
      "        \n",
      "        Return True if x is a NaN (not a number), and False otherwise.\n",
      "    \n",
      "    ldexp(...)\n",
      "        ldexp(x, i)\n",
      "        \n",
      "        Return x * (2**i).\n",
      "    \n",
      "    lgamma(...)\n",
      "        lgamma(x)\n",
      "        \n",
      "        Natural logarithm of absolute value of Gamma function at x.\n",
      "    \n",
      "    log(...)\n",
      "        log(x[, base])\n",
      "        \n",
      "        Return the logarithm of x to the given base.\n",
      "        If the base not specified, returns the natural logarithm (base e) of x.\n",
      "    \n",
      "    log10(...)\n",
      "        log10(x)\n",
      "        \n",
      "        Return the base 10 logarithm of x.\n",
      "    \n",
      "    log1p(...)\n",
      "        log1p(x)\n",
      "        \n",
      "        Return the natural logarithm of 1+x (base e).\n",
      "        The result is computed in a way which is accurate for x near zero.\n",
      "    \n",
      "    log2(...)\n",
      "        log2(x)\n",
      "        \n",
      "        Return the base 2 logarithm of x.\n",
      "    \n",
      "    modf(...)\n",
      "        modf(x)\n",
      "        \n",
      "        Return the fractional and integer parts of x.  Both results carry the sign\n",
      "        of x and are floats.\n",
      "    \n",
      "    pow(...)\n",
      "        pow(x, y)\n",
      "        \n",
      "        Return x**y (x to the power of y).\n",
      "    \n",
      "    radians(...)\n",
      "        radians(x)\n",
      "        \n",
      "        Convert angle x from degrees to radians.\n",
      "    \n",
      "    sin(...)\n",
      "        sin(x)\n",
      "        \n",
      "        Return the sine of x (measured in radians).\n",
      "    \n",
      "    sinh(...)\n",
      "        sinh(x)\n",
      "        \n",
      "        Return the hyperbolic sine of x.\n",
      "    \n",
      "    sqrt(...)\n",
      "        sqrt(x)\n",
      "        \n",
      "        Return the square root of x.\n",
      "    \n",
      "    tan(...)\n",
      "        tan(x)\n",
      "        \n",
      "        Return the tangent of x (measured in radians).\n",
      "    \n",
      "    tanh(...)\n",
      "        tanh(x)\n",
      "        \n",
      "        Return the hyperbolic tangent of x.\n",
      "    \n",
      "    trunc(...)\n",
      "        trunc(x:Real) -> Integral\n",
      "        \n",
      "        Truncates x to the nearest Integral toward 0. Uses the __trunc__ magic method.\n",
      "\n",
      "DATA\n",
      "    e = 2.718281828459045\n",
      "    inf = inf\n",
      "    nan = nan\n",
      "    pi = 3.141592653589793\n",
      "\n",
      "FILE\n",
      "    (built-in)\n",
      "\n",
      "\n"
     ]
    }
   ],
   "source": [
    "# подключение стандартного модуля math\n",
    "import math\n",
    "\n",
    "# тут же можем посмотреть справку по модулю\n",
    "help(math)"
   ]
  },
  {
   "cell_type": "code",
   "execution_count": 2,
   "metadata": {
    "collapsed": false
   },
   "outputs": [
    {
     "name": "stdout",
     "output_type": "stream",
     "text": [
      "PI = 3.141592653589793\n",
      "PI/2 = 90.0 degrees\n",
      "НОД(64, 112) = 16\n",
      "\n",
      "Сравнение 2.4 и 0.8*3\n",
      "1) через ==\n",
      "2) с помощью math\n",
      "\n",
      "False\n",
      "True\n"
     ]
    }
   ],
   "source": [
    "# пример использования функций и констант подключенного модуля\n",
    "print('PI = {}'.format(math.pi))\n",
    "print('PI/2 = {} degrees'.format(math.degrees(math.pi/2)))\n",
    "print('НОД(64, 112) = {}'.format(math.gcd(64, 112)))\n",
    "\n",
    "a = 2.4\n",
    "b = 0.8 * 3\n",
    "print('\\nСравнение 2.4 и 0.8*3\\n1) через ==\\n2) с помощью math\\n')\n",
    "print(a == b)\n",
    "print(math.isclose(a, b))"
   ]
  },
  {
   "cell_type": "code",
   "execution_count": 3,
   "metadata": {
    "collapsed": false
   },
   "outputs": [
    {
     "name": "stdout",
     "output_type": "stream",
     "text": [
      "3.141592653589793\n",
      "2.718281828459045\n"
     ]
    }
   ],
   "source": [
    "# можно подключить выборочно константы/функции модуля:\n",
    "from math import pi, e\n",
    "\n",
    "print(pi)\n",
    "print(e)\n",
    "\n",
    "# или даже так (все имена загрузить в текущий модуль):\n",
    "# from math import *\n",
    "\n",
    "# но лучше так не делать по пресловутой причине коллизии имен"
   ]
  },
  {
   "cell_type": "code",
   "execution_count": 4,
   "metadata": {
    "collapsed": false
   },
   "outputs": [
    {
     "name": "stdout",
     "output_type": "stream",
     "text": [
      "True\n"
     ]
    }
   ],
   "source": [
    "# если не нравится писать везде имя модуля, можно ввести свой алиас:\n",
    "# import math as m\n",
    "# print(m.pi)\n",
    "\n",
    "# (хотя вряд ли есть причина алиасить годное имя math )))\n",
    "\n",
    "# алиас для какой-либо функции модуля:\n",
    "from math import isclose as cmp\n",
    "\n",
    "print(cmp(a, b))"
   ]
  },
  {
   "cell_type": "code",
   "execution_count": 5,
   "metadata": {
    "collapsed": false
   },
   "outputs": [
    {
     "data": {
      "text/plain": [
       "['__doc__',\n",
       " '__loader__',\n",
       " '__name__',\n",
       " '__package__',\n",
       " '__spec__',\n",
       " 'acos',\n",
       " 'acosh',\n",
       " 'asin',\n",
       " 'asinh',\n",
       " 'atan',\n",
       " 'atan2',\n",
       " 'atanh',\n",
       " 'ceil',\n",
       " 'copysign',\n",
       " 'cos',\n",
       " 'cosh',\n",
       " 'degrees',\n",
       " 'e',\n",
       " 'erf',\n",
       " 'erfc',\n",
       " 'exp',\n",
       " 'expm1',\n",
       " 'fabs',\n",
       " 'factorial',\n",
       " 'floor',\n",
       " 'fmod',\n",
       " 'frexp',\n",
       " 'fsum',\n",
       " 'gamma',\n",
       " 'gcd',\n",
       " 'hypot',\n",
       " 'inf',\n",
       " 'isclose',\n",
       " 'isfinite',\n",
       " 'isinf',\n",
       " 'isnan',\n",
       " 'ldexp',\n",
       " 'lgamma',\n",
       " 'log',\n",
       " 'log10',\n",
       " 'log1p',\n",
       " 'log2',\n",
       " 'modf',\n",
       " 'nan',\n",
       " 'pi',\n",
       " 'pow',\n",
       " 'radians',\n",
       " 'sin',\n",
       " 'sinh',\n",
       " 'sqrt',\n",
       " 'tan',\n",
       " 'tanh',\n",
       " 'trunc']"
      ]
     },
     "execution_count": 5,
     "metadata": {},
     "output_type": "execute_result"
    }
   ],
   "source": [
    "# help() выдает нам справку, удобную для чтения\n",
    "# а dir() - полезнейшая функция для кодера \n",
    "# (выводит все символьные имена, определенные в модуле/типе)\n",
    "dir(math)"
   ]
  },
  {
   "cell_type": "code",
   "execution_count": 6,
   "metadata": {
    "collapsed": false
   },
   "outputs": [
    {
     "data": {
      "text/plain": [
       "['__add__',\n",
       " '__class__',\n",
       " '__contains__',\n",
       " '__delattr__',\n",
       " '__dir__',\n",
       " '__doc__',\n",
       " '__eq__',\n",
       " '__format__',\n",
       " '__ge__',\n",
       " '__getattribute__',\n",
       " '__getitem__',\n",
       " '__getnewargs__',\n",
       " '__gt__',\n",
       " '__hash__',\n",
       " '__init__',\n",
       " '__iter__',\n",
       " '__le__',\n",
       " '__len__',\n",
       " '__lt__',\n",
       " '__mod__',\n",
       " '__mul__',\n",
       " '__ne__',\n",
       " '__new__',\n",
       " '__reduce__',\n",
       " '__reduce_ex__',\n",
       " '__repr__',\n",
       " '__rmod__',\n",
       " '__rmul__',\n",
       " '__setattr__',\n",
       " '__sizeof__',\n",
       " '__str__',\n",
       " '__subclasshook__']"
      ]
     },
     "execution_count": 6,
     "metadata": {},
     "output_type": "execute_result"
    }
   ],
   "source": [
    "# с помощью dir() можно на ходу интроспектировать модули и типы!\n",
    "# например, у нас есть переменная, выведем все magic-методы ее типа\n",
    "message = 'hello'\n",
    "magic = [method for method in dir(message) if method.startswith('__') ]\n",
    "magic"
   ]
  },
  {
   "cell_type": "code",
   "execution_count": 7,
   "metadata": {
    "collapsed": false
   },
   "outputs": [
    {
     "name": "stdout",
     "output_type": "stream",
     "text": [
      "__doc__: This module is always available.  It provides access to the\n",
      "mathematical functions defined by the C standard.\n",
      "__name__: math\n",
      "__package__: \n",
      "__loader__: <class '_frozen_importlib.BuiltinImporter'>\n",
      "__spec__: ModuleSpec(name='math', loader=<class '_frozen_importlib.BuiltinImporter'>, origin='built-in')\n"
     ]
    }
   ],
   "source": [
    "# посмотрим значения первых \"особенных\" членов модуля math:\n",
    "# строка документации модуля (docstring)\n",
    "print('__doc__:', math.__doc__)\n",
    "\n",
    "# квалифицированное имя модуля\n",
    "print('__name__:', math.__name__)\n",
    "\n",
    "# пакет, которому принадлежит модуль\n",
    "print('__package__:', math.__package__)\n",
    "\n",
    "# служебный объект-загрузчик модуля (начиная с Python 3.3)\n",
    "print('__loader__:', math.__loader__)\n",
    "\n",
    "# служебная информация загрузчика модуля (начиная с Python 3.4)\n",
    "# https://docs.python.org/3/reference/import.html#import-related-module-attributes\n",
    "print('__spec__:', math.__spec__)"
   ]
  },
  {
   "cell_type": "markdown",
   "metadata": {},
   "source": [
    "<hr/>\n",
    "Любой ```*.py``` скрипт является модулем, равно как и текущая сессия интерпретатора. Т.е. мы, как и в предыдущем примере, можем посмотреть значения служебных переменных в текущем модуле (или выполняемой сессии интерпретатора):"
   ]
  },
  {
   "cell_type": "code",
   "execution_count": 8,
   "metadata": {
    "collapsed": false
   },
   "outputs": [
    {
     "name": "stdout",
     "output_type": "stream",
     "text": [
      "__doc__: Automatically created module for IPython interactive environment\n",
      "__name__: __main__\n",
      "__package__: None\n",
      "__loader__: None\n",
      "__spec__: None\n"
     ]
    }
   ],
   "source": [
    "print('__doc__:', __doc__)\n",
    "print('__name__:', __name__)\n",
    "print('__package__:', __package__)\n",
    "print('__loader__:', __loader__)\n",
    "print('__spec__:', __spec__)"
   ]
  },
  {
   "cell_type": "markdown",
   "metadata": {},
   "source": [
    "\n",
    "Обратите внимание на значение ```__name__```. Если модуль запущен интерпретатором, то значение ```__name__ = '__main__' ```. Если модуль импортируется, то ```__name__``` будет совпадать с именем модуля (например, 'mymodule.py').\n",
    "\n",
    "Важно: при импорте модуля Python выполнит все инструкции, которые определены в этом модуле (при множественном импорте одного и того же модуля, тем не менее, инструкции будут выполнены только один раз). \n",
    "\n",
    "Иногда модуль проектируется как для использования его функций и констант, так и для автономного запуска (например, для какой-либо демонстрации его возможностей или специфических тестов). Тогда в коде модуля пишется стандартная проверка:"
   ]
  },
  {
   "cell_type": "code",
   "execution_count": 9,
   "metadata": {
    "collapsed": false
   },
   "outputs": [
    {
     "name": "stdout",
     "output_type": "stream",
     "text": [
      "This script is executing right now\n"
     ]
    }
   ],
   "source": [
    "# здесь описываем функции и константы модуля\n",
    "# ...\n",
    "\n",
    "if __name__ == '__main__':\n",
    "    # здесь прописать те инструкции, которые\n",
    "    # должны выполняться при автономном запуске скрипта\n",
    "    print('This script is executing right now')"
   ]
  },
  {
   "cell_type": "code",
   "execution_count": 10,
   "metadata": {
    "collapsed": false
   },
   "outputs": [
    {
     "data": {
      "text/plain": [
       "['In',\n",
       " 'Out',\n",
       " '_',\n",
       " '_5',\n",
       " '_6',\n",
       " '__',\n",
       " '___',\n",
       " '__builtin__',\n",
       " '__builtins__',\n",
       " '__doc__',\n",
       " '__loader__',\n",
       " '__name__',\n",
       " '__package__',\n",
       " '__spec__',\n",
       " '_dh',\n",
       " '_i',\n",
       " '_i1',\n",
       " '_i10',\n",
       " '_i2',\n",
       " '_i3',\n",
       " '_i4',\n",
       " '_i5',\n",
       " '_i6',\n",
       " '_i7',\n",
       " '_i8',\n",
       " '_i9',\n",
       " '_ih',\n",
       " '_ii',\n",
       " '_iii',\n",
       " '_oh',\n",
       " '_sh',\n",
       " 'a',\n",
       " 'b',\n",
       " 'cmp',\n",
       " 'e',\n",
       " 'exit',\n",
       " 'get_ipython',\n",
       " 'magic',\n",
       " 'math',\n",
       " 'message',\n",
       " 'pi',\n",
       " 'quit']"
      ]
     },
     "execution_count": 10,
     "metadata": {},
     "output_type": "execute_result"
    }
   ],
   "source": [
    "# dir без параметров вернет все символьные имена в текущем модуле\n",
    "dir()"
   ]
  },
  {
   "cell_type": "code",
   "execution_count": 11,
   "metadata": {
    "collapsed": false
   },
   "outputs": [
    {
     "data": {
      "text/plain": [
       "['ArithmeticError',\n",
       " 'AssertionError',\n",
       " 'AttributeError',\n",
       " 'BaseException',\n",
       " 'BlockingIOError',\n",
       " 'BrokenPipeError',\n",
       " 'BufferError',\n",
       " 'BytesWarning',\n",
       " 'ChildProcessError',\n",
       " 'ConnectionAbortedError',\n",
       " 'ConnectionError',\n",
       " 'ConnectionRefusedError',\n",
       " 'ConnectionResetError',\n",
       " 'DeprecationWarning',\n",
       " 'EOFError',\n",
       " 'Ellipsis',\n",
       " 'EnvironmentError',\n",
       " 'Exception',\n",
       " 'False',\n",
       " 'FileExistsError',\n",
       " 'FileNotFoundError',\n",
       " 'FloatingPointError',\n",
       " 'FutureWarning',\n",
       " 'GeneratorExit',\n",
       " 'IOError',\n",
       " 'ImportError',\n",
       " 'ImportWarning',\n",
       " 'IndentationError',\n",
       " 'IndexError',\n",
       " 'InterruptedError',\n",
       " 'IsADirectoryError',\n",
       " 'KeyError',\n",
       " 'KeyboardInterrupt',\n",
       " 'LookupError',\n",
       " 'MemoryError',\n",
       " 'NameError',\n",
       " 'None',\n",
       " 'NotADirectoryError',\n",
       " 'NotImplemented',\n",
       " 'NotImplementedError',\n",
       " 'OSError',\n",
       " 'OverflowError',\n",
       " 'PendingDeprecationWarning',\n",
       " 'PermissionError',\n",
       " 'ProcessLookupError',\n",
       " 'RecursionError',\n",
       " 'ReferenceError',\n",
       " 'ResourceWarning',\n",
       " 'RuntimeError',\n",
       " 'RuntimeWarning',\n",
       " 'StopAsyncIteration',\n",
       " 'StopIteration',\n",
       " 'SyntaxError',\n",
       " 'SyntaxWarning',\n",
       " 'SystemError',\n",
       " 'SystemExit',\n",
       " 'TabError',\n",
       " 'TimeoutError',\n",
       " 'True',\n",
       " 'TypeError',\n",
       " 'UnboundLocalError',\n",
       " 'UnicodeDecodeError',\n",
       " 'UnicodeEncodeError',\n",
       " 'UnicodeError',\n",
       " 'UnicodeTranslateError',\n",
       " 'UnicodeWarning',\n",
       " 'UserWarning',\n",
       " 'ValueError',\n",
       " 'Warning',\n",
       " 'WindowsError',\n",
       " 'ZeroDivisionError',\n",
       " '__IPYTHON__',\n",
       " '__IPYTHON__active',\n",
       " '__build_class__',\n",
       " '__debug__',\n",
       " '__doc__',\n",
       " '__import__',\n",
       " '__loader__',\n",
       " '__name__',\n",
       " '__package__',\n",
       " '__spec__',\n",
       " 'abs',\n",
       " 'all',\n",
       " 'any',\n",
       " 'ascii',\n",
       " 'bin',\n",
       " 'bool',\n",
       " 'bytearray',\n",
       " 'bytes',\n",
       " 'callable',\n",
       " 'chr',\n",
       " 'classmethod',\n",
       " 'compile',\n",
       " 'complex',\n",
       " 'copyright',\n",
       " 'credits',\n",
       " 'delattr',\n",
       " 'dict',\n",
       " 'dir',\n",
       " 'divmod',\n",
       " 'dreload',\n",
       " 'enumerate',\n",
       " 'eval',\n",
       " 'exec',\n",
       " 'filter',\n",
       " 'float',\n",
       " 'format',\n",
       " 'frozenset',\n",
       " 'get_ipython',\n",
       " 'getattr',\n",
       " 'globals',\n",
       " 'hasattr',\n",
       " 'hash',\n",
       " 'help',\n",
       " 'hex',\n",
       " 'id',\n",
       " 'input',\n",
       " 'int',\n",
       " 'isinstance',\n",
       " 'issubclass',\n",
       " 'iter',\n",
       " 'len',\n",
       " 'license',\n",
       " 'list',\n",
       " 'locals',\n",
       " 'map',\n",
       " 'max',\n",
       " 'memoryview',\n",
       " 'min',\n",
       " 'next',\n",
       " 'object',\n",
       " 'oct',\n",
       " 'open',\n",
       " 'ord',\n",
       " 'pow',\n",
       " 'print',\n",
       " 'property',\n",
       " 'range',\n",
       " 'repr',\n",
       " 'reversed',\n",
       " 'round',\n",
       " 'set',\n",
       " 'setattr',\n",
       " 'slice',\n",
       " 'sorted',\n",
       " 'staticmethod',\n",
       " 'str',\n",
       " 'sum',\n",
       " 'super',\n",
       " 'tuple',\n",
       " 'type',\n",
       " 'vars',\n",
       " 'zip']"
      ]
     },
     "execution_count": 11,
     "metadata": {},
     "output_type": "execute_result"
    }
   ],
   "source": [
    "# показать все доступные встроенные функции/типы/константы\n",
    "dir(__builtin__)"
   ]
  },
  {
   "cell_type": "markdown",
   "metadata": {},
   "source": [
    "#### Модули можно структурировать по пакетам. Подробно здесь:\n",
    "\n",
    "https://docs.python.org/3/tutorial/modules.html#packages\n",
    "\n",
    "Если кратко, то нужно соблюсти определенную структуру директорий со скриптами:\n",
    "```\n",
    "sound/                          пакет верхнего уровня\n",
    "      __init__.py               инициализация пакета sound\n",
    "      formats/                  суб-пакет для преобразований форматов файлов\n",
    "              __init__.py\n",
    "              wavread.py\n",
    "              wavwrite.py\n",
    "              aiffread.py\n",
    "              aiffwrite.py\n",
    "              ...\n",
    "      effects/                  суб-пакет для звуковых эффектов\n",
    "              __init__.py\n",
    "              echo.py\n",
    "              surround.py\n",
    "              reverse.py\n",
    "              ...\n",
    "```\n",
    "Файлы ```__init__.py``` нужны для того, чтобы Python воспринимал директорию как <i>контейнер пакета</i>.\n",
    "\n",
    "Сами эти файлы могут быть пустыми, но также можно определить там некоторые константы и функции, общие для всего пакета.\n",
    "\n",
    "Кроме того, можно задать значение переменной ```__all__``` (о ней - ниже).\n",
    "\n",
    "Пример импорта суб-пакета:\n",
    "\n",
    "```import sound.effects.echo```"
   ]
  },
  {
   "cell_type": "markdown",
   "metadata": {},
   "source": [
    "#### Внутрипакетные ссылки\n",
    "\n",
    "Если пакеты содержат суб-пакеты (как в случае с пакетом-примером sound), то для обращения к суб-пакетам используется абсолютный импорт. Например, если модулю ```sound.filters.vocoder``` нужен доступ к функциям модуля ```echo``` из пакета ```sound.effects```, надо прописать \n",
    "```\n",
    "from sound.effects import echo\n",
    "```\n",
    "\n",
    "Можно также использовать относительный импорт. При этом для описания текущего и родительского пакетов используется символ точки. Например, для модуля ```surround``` можно написать:\n",
    "\n",
    "```\n",
    "from . import echo\n",
    "from .. import formats\n",
    "from ..filters import equalizer\n",
    "```\n",
    "\n",
    "Относительное импортирование опирается на имя текущего модуля. Т.к. имя главного модуля всегда ```__main__```, то модули, используемые в качестве главных модулей приложения, должны импортироваться \"абсолютным\" способом."
   ]
  },
  {
   "cell_type": "code",
   "execution_count": 12,
   "metadata": {
    "collapsed": false
   },
   "outputs": [
    {
     "data": {
      "text/plain": [
       "['__builtins__',\n",
       " '__cached__',\n",
       " '__doc__',\n",
       " '__file__',\n",
       " '__loader__',\n",
       " '__name__',\n",
       " '__package__',\n",
       " '__spec__',\n",
       " '__test_speed',\n",
       " 'binary_search',\n",
       " 'exponential_search',\n",
       " 'interpolation_search']"
      ]
     },
     "execution_count": 12,
     "metadata": {},
     "output_type": "execute_result"
    }
   ],
   "source": [
    "# DEMO time!\n",
    "# Рассмотрим все вышесказанное на примере демо-пакета algo.\n",
    "# Скачайте одноименную директорию и просмотрите коды всех файлов\n",
    "import algo.search\n",
    "\n",
    "dir(algo.search)"
   ]
  },
  {
   "cell_type": "code",
   "execution_count": 13,
   "metadata": {
    "collapsed": false
   },
   "outputs": [
    {
     "name": "stdout",
     "output_type": "stream",
     "text": [
      "Help on package algo:\n",
      "\n",
      "NAME\n",
      "    algo\n",
      "\n",
      "PACKAGE CONTENTS\n",
      "    search\n",
      "    sort\n",
      "\n",
      "DATA\n",
      "    __all__ = ['search', 'sort']\n",
      "\n",
      "FILE\n",
      "    c:\\users\\tim\\documents\\python scripts\\algo\\__init__.py\n",
      "\n",
      "\n"
     ]
    }
   ],
   "source": [
    "help(algo)"
   ]
  },
  {
   "cell_type": "code",
   "execution_count": 14,
   "metadata": {
    "collapsed": false
   },
   "outputs": [
    {
     "name": "stdout",
     "output_type": "stream",
     "text": [
      "Help on module algo.search in algo:\n",
      "\n",
      "NAME\n",
      "    algo.search - Search\n",
      "\n",
      "DESCRIPTION\n",
      "    The module provides a standard set of fast search algorithms\n",
      "    in sorted arrays:\n",
      "        - Binary Search\n",
      "        - Interpolation Search\n",
      "        - Exponential Search\n",
      "\n",
      "FUNCTIONS\n",
      "    binary_search(a, elem)\n",
      "        Binary Search iterative implementation.\n",
      "        \n",
      "        Parameters\n",
      "        ----------\n",
      "        a : array of items\n",
      "        elem : item to find\n",
      "        \n",
      "        Returns\n",
      "        ---------- \n",
      "        position of the element or -1, if the element was not found\n",
      "    \n",
      "    exponential_search(a, elem)\n",
      "        Exponential Search implementation.\n",
      "        \n",
      "        Parameters\n",
      "        ----------\n",
      "        a : array of items\n",
      "        elem : item to find\n",
      "        \n",
      "        Returns\n",
      "        ---------- \n",
      "        position of the element or -1, if the element was not found\n",
      "    \n",
      "    interpolation_search(a, elem)\n",
      "        Interpolation Search iterative implementation.\n",
      "        \n",
      "        The worst case complexity of interpolation search is O(N), \n",
      "        e.g., searching for 1000 in 1,2,...,999,1000,10^9 will take 1000 accesses.\n",
      "        However, its average case complexity, under the assumption that the keys \n",
      "        are uniformly distributed, is O(log log N).\n",
      "        \n",
      "        Parameters\n",
      "        ----------\n",
      "        a : array of items\n",
      "        elem : item to find\n",
      "        \n",
      "        Returns\n",
      "        ---------- \n",
      "        position of the element or -1, if the element was not found\n",
      "\n",
      "FILE\n",
      "    c:\\users\\tim\\documents\\python scripts\\algo\\search.py\n",
      "\n",
      "\n"
     ]
    }
   ],
   "source": [
    "help(algo.search)"
   ]
  },
  {
   "cell_type": "code",
   "execution_count": 15,
   "metadata": {
    "collapsed": false
   },
   "outputs": [
    {
     "name": "stdout",
     "output_type": "stream",
     "text": [
      "Help on function binary_search in module algo.search:\n",
      "\n",
      "binary_search(a, elem)\n",
      "    Binary Search iterative implementation.\n",
      "    \n",
      "    Parameters\n",
      "    ----------\n",
      "    a : array of items\n",
      "    elem : item to find\n",
      "    \n",
      "    Returns\n",
      "    ---------- \n",
      "    position of the element or -1, if the element was not found\n",
      "\n"
     ]
    }
   ],
   "source": [
    "help(algo.search.binary_search)"
   ]
  },
  {
   "cell_type": "code",
   "execution_count": 16,
   "metadata": {
    "collapsed": false
   },
   "outputs": [
    {
     "name": "stdout",
     "output_type": "stream",
     "text": [
      "BS pos: 3\n",
      "ES pos: 3\n"
     ]
    }
   ],
   "source": [
    "from algo.search import *\n",
    "\n",
    "pos = binary_search([1,2,3,4,5], 4)\n",
    "print('BS pos:', pos)\n",
    "\n",
    "pos = exponential_search([1,2,3,4,5], 4)\n",
    "print('ES pos:', pos)\n",
    "\n",
    "# альтернативный вариант:\n",
    "# (т.к. в переменной __all__ пакета algo мы указали 'search',\n",
    "# код, приведенный ниже, становится возможен\n",
    "\n",
    "#from algo import *\n",
    "#\n",
    "#pos = search.binary_search([1,2,3,4,5], 4)\n",
    "#print(pos)\n",
    "#\n",
    "#pos = search.exponential_search([1,2,3,4,5], 4)\n",
    "#print(pos)"
   ]
  },
  {
   "cell_type": "markdown",
   "metadata": {},
   "source": [
    "#### Некоторые замечания по локации модулей\n",
    "При импорте модуля интерпретатор Python ищет данный модуль в следующей последовательности:\n",
    "\n",
    "- Текущая директория\n",
    "- Если модуль не найден, Python ищет его в каждой директории из списка переменной среды PYTHONPATH.\n",
    "- Если модуль по-прежнему не найден, Python проверяет путь по умолчанию. Например, в UNIX-системах, это обычно ```/usr/local/lib/python/```.\n",
    "\n",
    "Переменная PYTHONPATH содержит список директорий. В Windows прописать какой-либо путь в PYTHONPATH можно так:\n",
    "\n",
    "```\n",
    "set PYTHONPATH=c:\\python\\lib; \n",
    "```\n",
    "\n",
    "в UNIX-системах так:\n",
    "\n",
    "```\n",
    "set PYTHONPATH=/usr/local/lib/python\n",
    "```"
   ]
  },
  {
   "cell_type": "markdown",
   "metadata": {},
   "source": [
    "Строка пути поиска модуля хранится в системном модуле <b>sys</b> в переменной <b>sys.path</b>. Эта переменная содержит полный путь текущей директории, значение переменной PYTHONPATH и путь по умолчанию, выставленный при установке интерпретатора Python."
   ]
  },
  {
   "cell_type": "code",
   "execution_count": 17,
   "metadata": {
    "collapsed": false
   },
   "outputs": [
    {
     "data": {
      "text/plain": [
       "['',\n",
       " 'D:\\\\DEV\\\\Anaconda3\\\\python35.zip',\n",
       " 'D:\\\\DEV\\\\Anaconda3\\\\DLLs',\n",
       " 'D:\\\\DEV\\\\Anaconda3\\\\lib',\n",
       " 'D:\\\\DEV\\\\Anaconda3',\n",
       " 'D:\\\\DEV\\\\Anaconda3\\\\lib\\\\site-packages',\n",
       " 'D:\\\\DEV\\\\Anaconda3\\\\lib\\\\site-packages\\\\Sphinx-1.4.1-py3.5.egg',\n",
       " 'D:\\\\DEV\\\\Anaconda3\\\\lib\\\\site-packages\\\\win32',\n",
       " 'D:\\\\DEV\\\\Anaconda3\\\\lib\\\\site-packages\\\\win32\\\\lib',\n",
       " 'D:\\\\DEV\\\\Anaconda3\\\\lib\\\\site-packages\\\\Pythonwin',\n",
       " 'D:\\\\DEV\\\\Anaconda3\\\\lib\\\\site-packages\\\\setuptools-23.0.0-py3.5.egg',\n",
       " 'D:\\\\DEV\\\\Anaconda3\\\\lib\\\\site-packages\\\\IPython\\\\extensions',\n",
       " 'C:\\\\Users\\\\Tim\\\\.ipython']"
      ]
     },
     "execution_count": 17,
     "metadata": {},
     "output_type": "execute_result"
    }
   ],
   "source": [
    "import sys\n",
    "sys.path"
   ]
  },
  {
   "cell_type": "code",
   "execution_count": 18,
   "metadata": {
    "collapsed": false
   },
   "outputs": [
    {
     "name": "stdout",
     "output_type": "stream",
     "text": [
      "\n",
      "Please wait a moment while I gather a list of all available modules...\n",
      "\n",
      "Crypto              cmd                 modulefinder        sqlite3\n",
      "Cython              code                mpl_toolkits        sre_compile\n",
      "IPython             codecs              mpmath              sre_constants\n",
      "OpenSSL             codeop              msilib              sre_parse\n",
      "PIL                 collections         msvcrt              ssl\n",
      "PyQt4               colorama            multipledispatch    sspi\n",
      "__future__          colorsys            multiprocessing     sspicon\n",
      "_ast                commctrl            nb_anacondacloud    stat\n",
      "_bisect             compileall          nb_conda            statistics\n",
      "_bootlocale         comtypes            nb_conda_kernels    statsmodels\n",
      "_bz2                concurrent          nbconvert           storemagic\n",
      "_cffi_backend       conda               nbformat            string\n",
      "_codecs             conda_build         nbpresent           stringprep\n",
      "_codecs_cn          conda_env           netbios             struct\n",
      "_codecs_hk          configobj           netrc               subprocess\n",
      "_codecs_iso2022     configparser        networkx            sunau\n",
      "_codecs_jp          contextlib          nltk                symbol\n",
      "_codecs_kr          contextlib2         nntplib             sympy\n",
      "_codecs_tw          copy                nose                sympyprinting\n",
      "_collections        copyreg             notebook            symtable\n",
      "_collections_abc    crypt               nt                  sys\n",
      "_compat_pickle      cryptography        ntpath              sysconfig\n",
      "_compression        csv                 ntsecuritycon       tables\n",
      "_csv                ctypes              nturl2path          tabnanny\n",
      "_ctypes             curl                numba               tarfile\n",
      "_ctypes_test        curses              numbers             telnetlib\n",
      "_datetime           cwp                 numexpr             tempfile\n",
      "_decimal            cycler              numpy               test\n",
      "_dummy_thread       cython              odbc                test_path\n",
      "_elementtree        cythonmagic         odo                 test_pycosat\n",
      "_functools          cytoolz             opcode              tests\n",
      "_hashlib            dask                openpyxl            textwrap\n",
      "_heapq              datashape           operator            this\n",
      "_imp                datetime            optparse            threading\n",
      "_io                 dateutil            os                  time\n",
      "_json               dbi                 pandas              timeit\n",
      "_locale             dbm                 parser              timer\n",
      "_lsprof             dde                 partd               tkinter\n",
      "_lzma               decimal             path                token\n",
      "_markupbase         decorator           pathlib             tokenize\n",
      "_md5                difflib             pathlib2            toolz\n",
      "_msi                dill                patsy               tornado\n",
      "_multibytecodec     dis                 pdb                 trace\n",
      "_multiprocessing    distutils           pep8                traceback\n",
      "_nsis               doctest             perfmon             tracemalloc\n",
      "_opcode             docutils            pickle              traitlets\n",
      "_operator           dummy_threading     pickleshare         tty\n",
      "_osx_support        dynd                pickletools         turtle\n",
      "_overlapped         easy_install        pip                 turtledemo\n",
      "_pickle             email               pipes               types\n",
      "_pydecimal          encodings           pkg_resources       typing\n",
      "_pyio               ensurepip           pkgutil             unicodecsv\n",
      "_pytest             entrypoints         platform            unicodedata\n",
      "_random             enum                plistlib            unittest\n",
      "_sha1               errno               ply                 urllib\n",
      "_sha256             et_xmlfile          poplib              uu\n",
      "_sha512             fastcache           posixpath           uuid\n",
      "_signal             faulthandler        pprint              validate\n",
      "_sitebuiltins       filecmp             profile             venv\n",
      "_socket             fileinput           pstats              warnings\n",
      "_sqlite3            flask               psutil              wave\n",
      "_sre                flask_cors          pty                 weakref\n",
      "_ssl                fnmatch             py                  webbrowser\n",
      "_stat               formatter           py_compile          werkzeug\n",
      "_string             fractions           pyasn1              wheel\n",
      "_strptime           ftplib              pyclbr              win2kras\n",
      "_struct             functools           pycosat             win32api\n",
      "_symtable           gc                  pycparser           win32clipboard\n",
      "_system_path        genericpath         pycurl              win32com\n",
      "_testbuffer         getopt              pydoc               win32con\n",
      "_testcapi           getpass             pydoc_data          win32console\n",
      "_testimportmultiple gettext             pyexpat             win32cred\n",
      "_testmultiphase     gevent              pyflakes            win32crypt\n",
      "_thread             glob                pygments            win32cryptcon\n",
      "_threading_local    greenlet            pylab               win32event\n",
      "_tkinter            gzip                pyparsing           win32evtlog\n",
      "_tracemalloc        h5py                pyreadline          win32evtlogutil\n",
      "_version            hashlib             pytest              win32file\n",
      "_warnings           heapdict            pythoncom           win32gui\n",
      "_weakref            heapq               pytz                win32gui_struct\n",
      "_weakrefset         hmac                pywin               win32help\n",
      "_win32sysloader     html                pywin32_testutil    win32inet\n",
      "_winapi             http                pywintypes          win32inetcon\n",
      "_winxptheme         idlelib             pyximport           win32job\n",
      "_yaml               idna                qtconsole           win32lz\n",
      "abc                 imagesize           qtpy                win32net\n",
      "adodbapi            imaplib             queue               win32netcon\n",
      "afxres              imghdr              quopri              win32pdh\n",
      "aifc                imp                 random              win32pdhquery\n",
      "alabaster           importlib           rasutil             win32pdhutil\n",
      "algo                inspect             re                  win32pipe\n",
      "anaconda_navigator  io                  readline            win32print\n",
      "antigravity         ipaddress           regcheck            win32process\n",
      "argcomplete         ipykernel           regutil             win32profile\n",
      "argparse            ipython_genutils    reprlib             win32ras\n",
      "array               ipywidgets          requests            win32rcparser\n",
      "ast                 isapi               rlcompleter         win32security\n",
      "astropy             itertools           rmagic              win32service\n",
      "asynchat            itsdangerous        rope                win32serviceutil\n",
      "asyncio             jdcal               ruamel_yaml         win32timezone\n",
      "asyncore            jedi                runpy               win32trace\n",
      "atexit              jinja2              sched               win32traceutil\n",
      "audioop             json                scipy               win32transaction\n",
      "autoreload          jsonschema          select              win32ts\n",
      "babel               jupyter             selectors           win32ui\n",
      "backports           jupyter_client      servicemanager      win32uiole\n",
      "base64              jupyter_console     setuptools          win32verstamp\n",
      "bdb                 jupyter_core        shelve              win32wnet\n",
      "binascii            keyword             shlex               winerror\n",
      "binhex              lib2to3             shutil              winioctlcon\n",
      "binstar_client      linecache           signal              winnt\n",
      "bisect              llvmlite            simplegeneric       winperf\n",
      "bitarray            locale              singledispatch      winreg\n",
      "blaze               locket              singledispatch_helpers winsound\n",
      "bokeh               logging             sip                 winxpgui\n",
      "boto                lxml                sipconfig           winxptheme\n",
      "bottleneck          lzma                sipdistutils        wsgiref\n",
      "bs4                 macpath             site                xdrlib\n",
      "builtins            macurl2path         six                 xlrd\n",
      "bz2                 mailbox             skimage             xlsxwriter\n",
      "cProfile            mailcap             sklearn             xlwings\n",
      "calendar            markupsafe          smtpd               xlwt\n",
      "cffi                marshal             smtplib             xml\n",
      "cgi                 math                sndhdr              xmlrpc\n",
      "cgitb               matplotlib          snowballstemmer     xxsubtype\n",
      "chest               menuinst            socket              yaml\n",
      "chunk               mimetypes           socketserver        zipapp\n",
      "cio_test            mistune             sockjs              zipfile\n",
      "click               mkl                 sphinx_rtd_theme    zipimport\n",
      "cloudpickle         mmap                spyderlib           zlib\n",
      "clyent              mmapfile            spyderplugins       zmq\n",
      "cmath               mmsystem            sqlalchemy          \n",
      "\n",
      "Enter any module name to get more help.  Or, type \"modules spam\" to search\n",
      "for modules whose name or summary contain the string \"spam\".\n",
      "\n"
     ]
    }
   ],
   "source": [
    "# а так можно собрать информацию вообще по всем доступным модулям Python\n",
    "help('modules')"
   ]
  },
  {
   "cell_type": "markdown",
   "metadata": {},
   "source": [
    "#### Рассмотрим несколько полезных модулей Python.\n",
    "\n",
    "Начнем с работы с датой и временем\n",
    "https://docs.python.org/3.5/library/datetime.html"
   ]
  },
  {
   "cell_type": "code",
   "execution_count": 19,
   "metadata": {
    "collapsed": false
   },
   "outputs": [
    {
     "name": "stdout",
     "output_type": "stream",
     "text": [
      "2016-09-07\n",
      "Friday 21 Dec 2012\n"
     ]
    }
   ],
   "source": [
    "# модуль для работы с датой и временем\n",
    "import datetime\n",
    "\n",
    "# демо простой работы с датой\n",
    "print(datetime.date.today())\n",
    "\n",
    "armageddon = datetime.date(2012, 12, 21)\n",
    "print(armageddon.strftime('%A %d %b %Y'))"
   ]
  },
  {
   "cell_type": "code",
   "execution_count": 20,
   "metadata": {
    "collapsed": false
   },
   "outputs": [
    {
     "name": "stdout",
     "output_type": "stream",
     "text": [
      "Trial period: 60 days\n",
      "Software installed at 2014-10-05 15:45:22\n",
      "Trial period expires at 2014-12-04 15:45:22\n"
     ]
    }
   ],
   "source": [
    "# демо работы с датой-временем и временными интервалами\n",
    "trial_period = datetime.timedelta(days=60)\n",
    "print('Trial period: {} days'.format(trial_period.days))\n",
    "\n",
    "install_date = datetime.datetime(2014, 10, 5, 15, 45, 22)\n",
    "print('Software installed at {}'.format(install_date))\n",
    "\n",
    "expiration_date = install_date + trial_period\n",
    "print('Trial period expires at {}'.format(expiration_date))"
   ]
  },
  {
   "cell_type": "code",
   "execution_count": 21,
   "metadata": {
    "collapsed": false
   },
   "outputs": [
    {
     "name": "stdout",
     "output_type": "stream",
     "text": [
      "time.struct_time(tm_year=2016, tm_mon=9, tm_mday=7, tm_hour=22, tm_min=49, tm_sec=39, tm_wday=2, tm_yday=251, tm_isdst=0)\n"
     ]
    }
   ],
   "source": [
    "# для работы со временем есть еще модуль time\n",
    "import time\n",
    "\n",
    "print(time.localtime())"
   ]
  },
  {
   "cell_type": "code",
   "execution_count": 22,
   "metadata": {
    "collapsed": false
   },
   "outputs": [
    {
     "name": "stdout",
     "output_type": "stream",
     "text": [
      "22:49:39\n",
      "Wed Sep  7 22:49:39 2016\n"
     ]
    }
   ],
   "source": [
    "lt = time.localtime()\n",
    "\n",
    "print('{}:{}:{}'.format(lt.tm_hour, lt.tm_min, lt.tm_sec))\n",
    "\n",
    "print(time.asctime())"
   ]
  },
  {
   "cell_type": "code",
   "execution_count": 23,
   "metadata": {
    "collapsed": false
   },
   "outputs": [
    {
     "name": "stdout",
     "output_type": "stream",
     "text": [
      "Current locale: ('ru_RU', 'cp1251')\n",
      "среда 07 сен 2016\n"
     ]
    }
   ],
   "source": [
    "# вопросы локализации частенько нетривиальны\n",
    "import locale\n",
    "print('Current locale: {}'.format(locale.getdefaultlocale()))\n",
    "\n",
    "locale.setlocale(locale.LC_TIME, '')\n",
    "time_string = time.strftime('%A %d %b %Y', time.localtime())\n",
    "\n",
    "# NB. если текущая кодировка - не UTF8, то перекодируем:\n",
    "print(time_string.encode('latin1').decode('cp1251'))\n",
    "\n",
    "# подробнее о кодировках - в лекции №8"
   ]
  },
  {
   "cell_type": "code",
   "execution_count": 24,
   "metadata": {
    "collapsed": false
   },
   "outputs": [
    {
     "name": "stdout",
     "output_type": "stream",
     "text": [
      "      Май 2016\n",
      "Пн Вт Ср Чт Пт Сб Вс\n",
      "                   1\n",
      " 2  3  4  5  6  7  8\n",
      " 9 10 11 12 13 14 15\n",
      "16 17 18 19 20 21 22\n",
      "23 24 25 26 27 28 29\n",
      "30 31\n",
      "\n"
     ]
    }
   ],
   "source": [
    "# простой модуль с календарем\n",
    "# вопросы локализации - на самостоятельную проработку\n",
    "import calendar\n",
    "\n",
    "may_2016 = calendar.month(2016, 5)\n",
    "print(may_2016.encode('latin1').decode('cp1251'))"
   ]
  },
  {
   "cell_type": "code",
   "execution_count": 25,
   "metadata": {
    "collapsed": false
   },
   "outputs": [
    {
     "name": "stdout",
     "output_type": "stream",
     "text": [
      "28/02/2015 - день недели: суббота\n"
     ]
    }
   ],
   "source": [
    "day = calendar.weekday(2015, calendar.February, 28)\n",
    "day = calendar.day_name[day].encode('latin1').decode('cp1251')\n",
    "print('28/02/2015 - день недели: {}'.format(day))"
   ]
  },
  {
   "cell_type": "code",
   "execution_count": 26,
   "metadata": {
    "collapsed": false
   },
   "outputs": [
    {
     "name": "stdout",
     "output_type": "stream",
     "text": [
      "[18, 87, 36, 35, 64, 36, 24, 13, 62, 8]\n",
      "[64, 87, 8, 36, 35, 62, 24, 18, 36, 13]\n",
      "[8, 18, 36]\n"
     ]
    }
   ],
   "source": [
    "# продемонстрируем возможности модуля работы со случайными числами\n",
    "import random\n",
    "\n",
    "# сгенерируем 10 случайных чисел\n",
    "random_numbers = [random.randint(1, 100) for _ in range(10)]\n",
    "print(random_numbers)\n",
    "\n",
    "# перемешаем числа в случайном порядке\n",
    "random.shuffle(random_numbers)\n",
    "print(random_numbers)\n",
    "\n",
    "# выберем случайно 3 числа из набора\n",
    "selected = random.sample(random_numbers, 3)\n",
    "print(selected)"
   ]
  },
  {
   "cell_type": "code",
   "execution_count": 27,
   "metadata": {
    "collapsed": false
   },
   "outputs": [
    {
     "name": "stdout",
     "output_type": "stream",
     "text": [
      "[21.4, 17.4, 29.0, 17.0, 14.1, 18.5, 21.9, 15.1, 14.1, 19.6, 14.4, 15.2, 24.0, 15.0, 14.7, 12.9, 11.3, 3.1, 13.5, 16.3, 14.7, 10.5, 7.2, 13.8, 14.6, 7.1, 15.4, 13.3, 11.9, 25.1, 11.1, 16.9, 15.2, 17.7, 18.8, 10.6, 16.2, 18.9, 16.6, 20.2, 20.8, 10.3, 22.7, 7.3, 10.5, 18.9, 14.5, 15.0, 22.2, 14.5, 22.3, 15.3, 27.0, 13.5, 12.0, 17.4, 16.5, 12.5, 17.9, 19.7, 13.1, 16.4, 4.9, 17.2, 20.1, 13.8, 23.8, 12.5, 8.1, 10.1, 13.9, 20.8, 11.7, 16.0, 19.5, 22.3, 8.5, 23.0, 16.7, 14.0, 12.5, 8.6, 16.8, 16.5, 16.5, 19.6, 10.9, 17.7, 15.6, 10.1, 17.1, 28.7, 15.1, 11.0, 15.8, 18.0, 24.1, 9.9, 12.1, 15.5]\n",
      "Mean: 15.735999999999992\n",
      "Std. deviation: 4.886011051972765\n"
     ]
    }
   ],
   "source": [
    "# сгенерируем выборку 100 чисел с нормальным распределением\n",
    "MU = 15\n",
    "SIGMA = 5\n",
    "normal = [round(random.gauss(MU, SIGMA), 1) for _ in range(100)]\n",
    "print(normal)\n",
    "\n",
    "# перепроверим среднее (должно быть близко к MU)\n",
    "mean = sum(normal) / len(normal)\n",
    "print('Mean:', mean)\n",
    "\n",
    "# и стандартное отклонение (должно быть близко к SIGMA)\n",
    "variance = sum([(i - mean)**2 for i in normal]) / len(normal)\n",
    "print('Std. deviation:', variance**0.5)"
   ]
  },
  {
   "cell_type": "code",
   "execution_count": 28,
   "metadata": {
    "collapsed": false
   },
   "outputs": [
    {
     "name": "stdout",
     "output_type": "stream",
     "text": [
      "(1, 2, 3, 4)\n",
      "(1, 2, 4, 3)\n",
      "(1, 3, 2, 4)\n",
      "(1, 3, 4, 2)\n",
      "(1, 4, 2, 3)\n",
      "(1, 4, 3, 2)\n",
      "(2, 1, 3, 4)\n",
      "(2, 1, 4, 3)\n",
      "(2, 3, 1, 4)\n",
      "(2, 3, 4, 1)\n",
      "(2, 4, 1, 3)\n",
      "(2, 4, 3, 1)\n",
      "(3, 1, 2, 4)\n",
      "(3, 1, 4, 2)\n",
      "(3, 2, 1, 4)\n",
      "(3, 2, 4, 1)\n",
      "(3, 4, 1, 2)\n",
      "(3, 4, 2, 1)\n",
      "(4, 1, 2, 3)\n",
      "(4, 1, 3, 2)\n",
      "(4, 2, 1, 3)\n",
      "(4, 2, 3, 1)\n",
      "(4, 3, 1, 2)\n",
      "(4, 3, 2, 1)\n"
     ]
    }
   ],
   "source": [
    "# еще полезный модуль! \n",
    "# часть его возможностей рассмотрим в следующей лекции\n",
    "# а в этой - демонстрация комбинаторики\n",
    "import itertools\n",
    "\n",
    "nums = [1, 2, 3, 4]\n",
    "\n",
    "# выведем все ПЕРЕСТАНОВКИ чисел 1, 2, 3, 4\n",
    "for perm in itertools.permutations(nums):\n",
    "    print(perm)"
   ]
  },
  {
   "cell_type": "code",
   "execution_count": 29,
   "metadata": {
    "collapsed": false
   },
   "outputs": [
    {
     "name": "stdout",
     "output_type": "stream",
     "text": [
      "(1, 2)\n",
      "(1, 3)\n",
      "(1, 4)\n",
      "(2, 3)\n",
      "(2, 4)\n",
      "(3, 4)\n"
     ]
    }
   ],
   "source": [
    "# выведем все парные СОЧЕТАНИЯ чисел 1, 2, 3, 4\n",
    "for comb in itertools.combinations(nums, 2):\n",
    "    print(comb)"
   ]
  },
  {
   "cell_type": "code",
   "execution_count": 30,
   "metadata": {
    "collapsed": false
   },
   "outputs": [
    {
     "data": {
      "text/plain": [
       "Counter({'e': 2, 'l': 1, 'r': 1, 's': 1, 't': 2})"
      ]
     },
     "execution_count": 30,
     "metadata": {},
     "output_type": "execute_result"
    }
   ],
   "source": [
    "# Рассмотрим кратко модуль collections.\n",
    "# Среди полезных его возможностей:\n",
    "#\n",
    "#    Counter\n",
    "#    deque\n",
    "#    defaultdict\n",
    "#    OrderedDict\n",
    "#\n",
    "from collections import Counter\n",
    "\n",
    "c = Counter('letters')\n",
    "c"
   ]
  },
  {
   "cell_type": "code",
   "execution_count": 31,
   "metadata": {
    "collapsed": false
   },
   "outputs": [
    {
     "data": {
      "text/plain": [
       "['s', 'r', 'l', 'e', 'e', 't', 't']"
      ]
     },
     "execution_count": 31,
     "metadata": {},
     "output_type": "execute_result"
    }
   ],
   "source": [
    "list(c.elements())"
   ]
  },
  {
   "cell_type": "code",
   "execution_count": 32,
   "metadata": {
    "collapsed": false
   },
   "outputs": [
    {
     "data": {
      "text/plain": [
       "[('e', 2), ('t', 2), ('s', 1)]"
      ]
     },
     "execution_count": 32,
     "metadata": {},
     "output_type": "execute_result"
    }
   ],
   "source": [
    "c.most_common(3)"
   ]
  },
  {
   "cell_type": "code",
   "execution_count": 33,
   "metadata": {
    "collapsed": false
   },
   "outputs": [
    {
     "data": {
      "text/plain": [
       "defaultdict(list, {'blue': [2, 4], 'red': [1], 'yellow': [1, 3]})"
      ]
     },
     "execution_count": 33,
     "metadata": {},
     "output_type": "execute_result"
    }
   ],
   "source": [
    "# пример из документации:\n",
    "from collections import defaultdict\n",
    "\n",
    "s = [('yellow', 1), ('blue', 2), ('yellow', 3), ('blue', 4), ('red', 1)]\n",
    "\n",
    "d = defaultdict(list)\n",
    "for k, v in s:\n",
    "    d[k].append(v)\n",
    "\n",
    "d"
   ]
  },
  {
   "cell_type": "code",
   "execution_count": 34,
   "metadata": {
    "collapsed": false
   },
   "outputs": [
    {
     "data": {
      "text/plain": [
       "{'blue': [2, 4], 'red': [1], 'yellow': [1, 3]}"
      ]
     },
     "execution_count": 34,
     "metadata": {},
     "output_type": "execute_result"
    }
   ],
   "source": [
    "# впрочем, можно то же самое сделать через обычный dict:\n",
    "d = {}\n",
    "\n",
    "for k, v in s:\n",
    "    d.setdefault(k, []).append(v)\n",
    "    \n",
    "d    "
   ]
  },
  {
   "cell_type": "code",
   "execution_count": 35,
   "metadata": {
    "collapsed": false
   },
   "outputs": [
    {
     "data": {
      "text/plain": [
       "OrderedDict([('x', None),\n",
       "             ('y', None),\n",
       "             ('z', None),\n",
       "             ('c', 3),\n",
       "             ('a', 2),\n",
       "             ('b', 7)])"
      ]
     },
     "execution_count": 35,
     "metadata": {},
     "output_type": "execute_result"
    }
   ],
   "source": [
    "from collections import OrderedDict\n",
    "\n",
    "od = OrderedDict.fromkeys('xyz')\n",
    "\n",
    "od['c'] = 3\n",
    "od['a'] = 2\n",
    "od['b'] = 7\n",
    "\n",
    "od"
   ]
  },
  {
   "cell_type": "code",
   "execution_count": 36,
   "metadata": {
    "collapsed": false
   },
   "outputs": [
    {
     "name": "stdout",
     "output_type": "stream",
     "text": [
      "['01.mp3', '12.wav', '23.mp3']\n"
     ]
    }
   ],
   "source": [
    "# и куда же без регулярок ))\n",
    "import re\n",
    "\n",
    "haystack = \"Folder contains 01.mp3 and 12.wav (as well as 23.mp3)\"\n",
    "\n",
    "# найти все подстроки по шаблону (способ 1 - все сразу)\n",
    "needles = re.findall(r'\\d{1,2}\\.(?:mp3|wav)', haystack)\n",
    "print(needles)"
   ]
  },
  {
   "cell_type": "code",
   "execution_count": 37,
   "metadata": {
    "collapsed": false
   },
   "outputs": [
    {
     "name": "stdout",
     "output_type": "stream",
     "text": [
      "['mp3', 'wav', 'mp3']\n"
     ]
    }
   ],
   "source": [
    "# разница - в non-capturing groups (?:)\n",
    "needles = re.findall(r'\\d{1,2}\\.(mp3|wav)', haystack)\n",
    "print(needles)"
   ]
  },
  {
   "cell_type": "code",
   "execution_count": 38,
   "metadata": {
    "collapsed": false
   },
   "outputs": [
    {
     "name": "stdout",
     "output_type": "stream",
     "text": [
      "01.mp3\n",
      "  [file mp3]\n",
      "12.wav\n",
      "  [file wav]\n",
      "23.mp3\n",
      "  [file mp3]\n"
     ]
    }
   ],
   "source": [
    "# найти все подстроки по шаблону (способ 2 - через итератор)\n",
    "for s in re.finditer(r'\\d{1,2}\\.(mp3|wav)', haystack):\n",
    "    print(haystack[s.start():s.end()])\n",
    "    print('  [file {}]'.format(s.group(1)))"
   ]
  },
  {
   "cell_type": "code",
   "execution_count": 39,
   "metadata": {
    "collapsed": false
   },
   "outputs": [
    {
     "name": "stdout",
     "output_type": "stream",
     "text": [
      "Phone Num : 2004-959-559 \n"
     ]
    }
   ],
   "source": [
    "# еще пример (взято из\n",
    "# http://www.tutorialspoint.com/python/python_reg_expressions.htm)\n",
    "phone = \"2004-959-559 # This is Phone Number\"\n",
    "\n",
    "# Замена 1: удаляем Python-style комментарии\n",
    "num = re.sub(r'#.*$', '', phone)\n",
    "print('Phone Num : {}'.format(num))"
   ]
  },
  {
   "cell_type": "code",
   "execution_count": 40,
   "metadata": {
    "collapsed": false
   },
   "outputs": [
    {
     "name": "stdout",
     "output_type": "stream",
     "text": [
      "Phone Num : 2004959559\n"
     ]
    }
   ],
   "source": [
    "# Замена 2: удаляем всё, кроме цифр\n",
    "num = re.sub(r'\\D', '', phone)\n",
    "print('Phone Num : {}'.format(num))"
   ]
  },
  {
   "cell_type": "code",
   "execution_count": 41,
   "metadata": {
    "collapsed": false
   },
   "outputs": [
    {
     "name": "stdout",
     "output_type": "stream",
     "text": [
      "['Think harder', 'Hey, think longer', 'THINK']\n",
      "Think harder\n",
      "Think 0 12\n",
      "\n",
      "Hey, think longer\n",
      "think 0 17\n",
      "\n",
      "THINK\n",
      "THINK 0 5\n",
      "\n"
     ]
    }
   ],
   "source": [
    "# демонстрация метода search\n",
    "# (ищет вхождение паттерна в любом месте строки)\n",
    "text = '''Think harder!\n",
    "Hey, think longer\n",
    "THINK'''\n",
    "\n",
    "text_parts = re.split(r'[!\\n]', text)\n",
    "text_parts = [w for w in text_parts if w != '']\n",
    "print(text_parts)\n",
    "\n",
    "for part in text_parts:\n",
    "    result = re.search(r'Think', part, re.I)\n",
    "    if result:\n",
    "        print(part)\n",
    "        print(result.group(), result.pos, result.endpos)\n",
    "        print()"
   ]
  },
  {
   "cell_type": "code",
   "execution_count": 42,
   "metadata": {
    "collapsed": false
   },
   "outputs": [
    {
     "name": "stdout",
     "output_type": "stream",
     "text": [
      "Think harder\n",
      "Think 0 12\n",
      "\n",
      "THINK\n",
      "THINK 0 5\n",
      "\n"
     ]
    }
   ],
   "source": [
    "# демонстрация метода match\n",
    "# (ищет вхождение паттерна только в начале строки)\n",
    "for part in text_parts:\n",
    "    result = re.match(r'Think', part, re.I)\n",
    "    if result:\n",
    "        print(part)\n",
    "        print(result.group(), result.pos, result.endpos)\n",
    "        print()"
   ]
  },
  {
   "cell_type": "code",
   "execution_count": 43,
   "metadata": {
    "collapsed": false
   },
   "outputs": [
    {
     "name": "stdout",
     "output_type": "stream",
     "text": [
      "THINK\n",
      "THINK 0 5\n"
     ]
    }
   ],
   "source": [
    "# демонстрация метода fullmatch\n",
    "# (ищет полное соотвествие паттерна всей строке)\n",
    "for part in text_parts:\n",
    "    result = re.fullmatch(r'(?i)Think', part)\n",
    "    if result:\n",
    "        print(part)\n",
    "        print(result.group(), result.pos, result.endpos)"
   ]
  }
 ],
 "metadata": {
  "anaconda-cloud": {},
  "kernelspec": {
   "display_name": "Python [default]",
   "language": "python",
   "name": "python3"
  },
  "language_info": {
   "codemirror_mode": {
    "name": "ipython",
    "version": 3
   },
   "file_extension": ".py",
   "mimetype": "text/x-python",
   "name": "python",
   "nbconvert_exporter": "python",
   "pygments_lexer": "ipython3",
   "version": "3.5.2"
  }
 },
 "nbformat": 4,
 "nbformat_minor": 0
}
