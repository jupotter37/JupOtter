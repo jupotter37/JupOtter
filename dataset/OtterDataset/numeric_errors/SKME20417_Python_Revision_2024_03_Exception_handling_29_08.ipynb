{
 "cells": [
  {
   "cell_type": "markdown",
   "id": "e9eba4d5",
   "metadata": {},
   "source": [
    "# Examples of error:\n",
    "\n",
    "- synatx error\n",
    "- name error\n",
    "- value error\n",
    "- modulenotfound error\n",
    "- zerodivison error\n",
    "- filenotfound error"
   ]
  },
  {
   "cell_type": "code",
   "execution_count": 2,
   "id": "1081e3b2",
   "metadata": {},
   "outputs": [
    {
     "ename": "NameError",
     "evalue": "name 'a' is not defined",
     "output_type": "error",
     "traceback": [
      "\u001b[1;31m---------------------------------------------------------------------------\u001b[0m",
      "\u001b[1;31mNameError\u001b[0m                                 Traceback (most recent call last)",
      "\u001b[1;32m<ipython-input-2-bca0e2660b9f>\u001b[0m in \u001b[0;36m<module>\u001b[1;34m\u001b[0m\n\u001b[1;32m----> 1\u001b[1;33m \u001b[0mprint\u001b[0m\u001b[1;33m(\u001b[0m\u001b[0ma\u001b[0m\u001b[1;33m)\u001b[0m\u001b[1;33m\u001b[0m\u001b[1;33m\u001b[0m\u001b[0m\n\u001b[0m",
      "\u001b[1;31mNameError\u001b[0m: name 'a' is not defined"
     ]
    }
   ],
   "source": [
    "print(a)"
   ]
  },
  {
   "cell_type": "code",
   "execution_count": 3,
   "id": "9c505028",
   "metadata": {},
   "outputs": [
    {
     "ename": "SyntaxError",
     "evalue": "unexpected EOF while parsing (<ipython-input-3-2c3c3da165b0>, line 1)",
     "output_type": "error",
     "traceback": [
      "\u001b[1;36m  File \u001b[1;32m\"<ipython-input-3-2c3c3da165b0>\"\u001b[1;36m, line \u001b[1;32m1\u001b[0m\n\u001b[1;33m    if (5>3):\u001b[0m\n\u001b[1;37m             ^\u001b[0m\n\u001b[1;31mSyntaxError\u001b[0m\u001b[1;31m:\u001b[0m unexpected EOF while parsing\n"
     ]
    }
   ],
   "source": [
    "if (5>3):"
   ]
  },
  {
   "cell_type": "code",
   "execution_count": 4,
   "id": "5200f2ae",
   "metadata": {},
   "outputs": [
    {
     "ename": "ModuleNotFoundError",
     "evalue": "No module named 'computer'",
     "output_type": "error",
     "traceback": [
      "\u001b[1;31m---------------------------------------------------------------------------\u001b[0m",
      "\u001b[1;31mModuleNotFoundError\u001b[0m                       Traceback (most recent call last)",
      "\u001b[1;32m<ipython-input-4-923ce1128b99>\u001b[0m in \u001b[0;36m<module>\u001b[1;34m\u001b[0m\n\u001b[1;32m----> 1\u001b[1;33m \u001b[1;32mimport\u001b[0m \u001b[0mcomputer\u001b[0m\u001b[1;33m\u001b[0m\u001b[1;33m\u001b[0m\u001b[0m\n\u001b[0m",
      "\u001b[1;31mModuleNotFoundError\u001b[0m: No module named 'computer'"
     ]
    }
   ],
   "source": [
    "import computer"
   ]
  },
  {
   "cell_type": "code",
   "execution_count": 5,
   "id": "aefe751b",
   "metadata": {},
   "outputs": [
    {
     "ename": "AttributeError",
     "evalue": "'str' object has no attribute 'sort'",
     "output_type": "error",
     "traceback": [
      "\u001b[1;31m---------------------------------------------------------------------------\u001b[0m",
      "\u001b[1;31mAttributeError\u001b[0m                            Traceback (most recent call last)",
      "\u001b[1;32m<ipython-input-5-811bb38d5efe>\u001b[0m in \u001b[0;36m<module>\u001b[1;34m\u001b[0m\n\u001b[1;32m----> 1\u001b[1;33m \u001b[1;34m\"machine and deeplearning\"\u001b[0m\u001b[1;33m.\u001b[0m\u001b[0msort\u001b[0m\u001b[1;33m(\u001b[0m\u001b[1;33m)\u001b[0m\u001b[1;33m\u001b[0m\u001b[1;33m\u001b[0m\u001b[0m\n\u001b[0m",
      "\u001b[1;31mAttributeError\u001b[0m: 'str' object has no attribute 'sort'"
     ]
    }
   ],
   "source": [
    "\"machine and deeplearning\".sort()"
   ]
  },
  {
   "cell_type": "code",
   "execution_count": 6,
   "id": "782d47ea",
   "metadata": {},
   "outputs": [
    {
     "ename": "TypeError",
     "evalue": "can only concatenate str (not \"int\") to str",
     "output_type": "error",
     "traceback": [
      "\u001b[1;31m---------------------------------------------------------------------------\u001b[0m",
      "\u001b[1;31mTypeError\u001b[0m                                 Traceback (most recent call last)",
      "\u001b[1;32m<ipython-input-6-917ec72bce98>\u001b[0m in \u001b[0;36m<module>\u001b[1;34m\u001b[0m\n\u001b[1;32m----> 1\u001b[1;33m \u001b[1;34m\"Hello\"\u001b[0m \u001b[1;33m+\u001b[0m \u001b[1;36m2\u001b[0m\u001b[1;33m\u001b[0m\u001b[1;33m\u001b[0m\u001b[0m\n\u001b[0m",
      "\u001b[1;31mTypeError\u001b[0m: can only concatenate str (not \"int\") to str"
     ]
    }
   ],
   "source": [
    "\"Hello\" + 2"
   ]
  },
  {
   "cell_type": "code",
   "execution_count": 9,
   "id": "f87a23b5",
   "metadata": {},
   "outputs": [
    {
     "name": "stdout",
     "output_type": "stream",
     "text": [
      "['ArithmeticError', 'AssertionError', 'AttributeError', 'BaseException', 'BlockingIOError', 'BrokenPipeError', 'BufferError', 'BytesWarning', 'ChildProcessError', 'ConnectionAbortedError', 'ConnectionError', 'ConnectionRefusedError', 'ConnectionResetError', 'DeprecationWarning', 'EOFError', 'Ellipsis', 'EnvironmentError', 'Exception', 'False', 'FileExistsError', 'FileNotFoundError', 'FloatingPointError', 'FutureWarning', 'GeneratorExit', 'IOError', 'ImportError', 'ImportWarning', 'IndentationError', 'IndexError', 'InterruptedError', 'IsADirectoryError', 'KeyError', 'KeyboardInterrupt', 'LookupError', 'MemoryError', 'ModuleNotFoundError', 'NameError', 'None', 'NotADirectoryError', 'NotImplemented', 'NotImplementedError', 'OSError', 'OverflowError', 'PendingDeprecationWarning', 'PermissionError', 'ProcessLookupError', 'RecursionError', 'ReferenceError', 'ResourceWarning', 'RuntimeError', 'RuntimeWarning', 'StopAsyncIteration', 'StopIteration', 'SyntaxError', 'SyntaxWarning', 'SystemError', 'SystemExit', 'TabError', 'TimeoutError', 'True', 'TypeError', 'UnboundLocalError', 'UnicodeDecodeError', 'UnicodeEncodeError', 'UnicodeError', 'UnicodeTranslateError', 'UnicodeWarning', 'UserWarning', 'ValueError', 'Warning', 'WindowsError', 'ZeroDivisionError', '__IPYTHON__', '__build_class__', '__debug__', '__doc__', '__import__', '__loader__', '__name__', '__package__', '__spec__', 'abs', 'all', 'any', 'ascii', 'bin', 'bool', 'breakpoint', 'bytearray', 'bytes', 'callable', 'chr', 'classmethod', 'compile', 'complex', 'copyright', 'credits', 'delattr', 'dict', 'dir', 'display', 'divmod', 'enumerate', 'eval', 'exec', 'filter', 'float', 'format', 'frozenset', 'get_ipython', 'getattr', 'globals', 'hasattr', 'hash', 'help', 'hex', 'id', 'input', 'int', 'isinstance', 'issubclass', 'iter', 'len', 'license', 'list', 'locals', 'map', 'max', 'memoryview', 'min', 'next', 'object', 'oct', 'open', 'ord', 'pow', 'print', 'property', 'range', 'repr', 'reversed', 'round', 'set', 'setattr', 'slice', 'sorted', 'staticmethod', 'str', 'sum', 'super', 'tuple', 'type', 'vars', 'zip']\n"
     ]
    }
   ],
   "source": [
    "print(dir(__builtins__))"
   ]
  },
  {
   "cell_type": "code",
   "execution_count": 10,
   "id": "11e8e0a6",
   "metadata": {},
   "outputs": [
    {
     "ename": "SyntaxError",
     "evalue": "invalid syntax (<ipython-input-10-e059dd400d35>, line 1)",
     "output_type": "error",
     "traceback": [
      "\u001b[1;36m  File \u001b[1;32m\"<ipython-input-10-e059dd400d35>\"\u001b[1;36m, line \u001b[1;32m1\u001b[0m\n\u001b[1;33m    try\u001b[0m\n\u001b[1;37m       ^\u001b[0m\n\u001b[1;31mSyntaxError\u001b[0m\u001b[1;31m:\u001b[0m invalid syntax\n"
     ]
    }
   ],
   "source": [
    "try\n",
    "except\n",
    "finally\n",
    "raise\n",
    "else"
   ]
  },
  {
   "cell_type": "code",
   "execution_count": 18,
   "id": "0ff4ca3f",
   "metadata": {},
   "outputs": [],
   "source": [
    "import sys"
   ]
  },
  {
   "cell_type": "code",
   "execution_count": 12,
   "id": "a0d1e825",
   "metadata": {},
   "outputs": [],
   "source": [
    "lst = [2,0,'hello', False, None, 5,6,1]"
   ]
  },
  {
   "cell_type": "code",
   "execution_count": 22,
   "id": "47b0b95b",
   "metadata": {},
   "outputs": [
    {
     "name": "stdout",
     "output_type": "stream",
     "text": [
      "Current Elemet : 2\n",
      "Result: 2.5\n",
      "==================================================\n",
      "Current Elemet : 0\n",
      "Error occured :  division by zero\n",
      "<class 'ZeroDivisionError'>\n",
      "==================================================\n",
      "Current Elemet : hello\n",
      "Error occured :  invalid literal for int() with base 10: 'hello'\n",
      "<class 'ValueError'>\n",
      "==================================================\n",
      "Current Elemet : False\n",
      "Error occured :  division by zero\n",
      "<class 'ZeroDivisionError'>\n",
      "==================================================\n",
      "Current Elemet : None\n",
      "Error occured :  int() argument must be a string, a bytes-like object or a number, not 'NoneType'\n",
      "<class 'TypeError'>\n",
      "==================================================\n",
      "Current Elemet : 5\n",
      "Result: 1.0\n",
      "==================================================\n",
      "Current Elemet : 6\n",
      "Result: 0.8333333333333334\n",
      "==================================================\n",
      "Current Elemet : 1\n",
      "Result: 5.0\n",
      "==================================================\n",
      "100 lines of code\n"
     ]
    }
   ],
   "source": [
    "for i in lst:\n",
    "    try:\n",
    "        print(\"Current Elemet :\", i)\n",
    "        res = 5/int(i)\n",
    "        print(\"Result:\",res)\n",
    "    except Exception as e:\n",
    "        print(\"Error occured : \", e)\n",
    "        print(sys.exc_info()[0])\n",
    "    print(\"=\"*50)\n",
    "        \n",
    "        \n",
    "print(\"100 lines of code\")"
   ]
  },
  {
   "cell_type": "code",
   "execution_count": 23,
   "id": "5c0ca69b",
   "metadata": {},
   "outputs": [],
   "source": [
    "lst = [2,0,'hello', False, None, 5,6,1]"
   ]
  },
  {
   "cell_type": "code",
   "execution_count": 28,
   "id": "2b82d2bd",
   "metadata": {},
   "outputs": [
    {
     "name": "stdout",
     "output_type": "stream",
     "text": [
      "Current Elemet : 2\n",
      "Result: 2.5\n",
      "I will be executed always..\n",
      "==================================================\n",
      "Current Elemet : 0\n",
      "hey you can not divide with zero\n",
      "I will be executed always..\n",
      "==================================================\n",
      "Current Elemet : hello\n",
      "This is a value error...\n",
      "I will be executed always..\n",
      "==================================================\n",
      "Current Elemet : False\n",
      "hey you can not divide with zero\n",
      "I will be executed always..\n",
      "==================================================\n",
      "Current Elemet : None\n",
      "Error occured :  int() argument must be a string, a bytes-like object or a number, not 'NoneType'\n",
      "<class 'TypeError'>\n",
      "I will be executed always..\n",
      "==================================================\n",
      "Current Elemet : 5\n",
      "Result: 1.0\n",
      "I will be executed always..\n",
      "==================================================\n",
      "Current Elemet : 6\n",
      "Result: 0.8333333333333334\n",
      "I will be executed always..\n",
      "==================================================\n",
      "Current Elemet : 1\n",
      "Result: 5.0\n",
      "I will be executed always..\n",
      "==================================================\n",
      "100 lines of code\n"
     ]
    }
   ],
   "source": [
    "for i in lst:\n",
    "    try:\n",
    "        print(\"Current Elemet :\", i)\n",
    "        res = 5/int(i)\n",
    "        print(\"Result:\",res)\n",
    "    except ZeroDivisionError as ze:\n",
    "        print(\"hey you can not divide with zero\")\n",
    "    except ValueError as ve:\n",
    "        print(\"This is a value error...\")\n",
    "    except Exception as e:\n",
    "        print(\"Error occured : \", e)\n",
    "        print(sys.exc_info()[0])\n",
    "    finally:\n",
    "        #f.close\n",
    "        #f.api\n",
    "        #f.db.close\n",
    "        print(\"I will be executed always..\")\n",
    "    print(\"=\"*50)\n",
    "        \n",
    "        \n",
    "print(\"100 lines of code\")"
   ]
  },
  {
   "cell_type": "code",
   "execution_count": null,
   "id": "3aea8b5c",
   "metadata": {},
   "outputs": [],
   "source": []
  },
  {
   "cell_type": "code",
   "execution_count": 29,
   "id": "9ce17f28",
   "metadata": {},
   "outputs": [],
   "source": [
    "#"
   ]
  },
  {
   "cell_type": "code",
   "execution_count": 31,
   "id": "1287c86d",
   "metadata": {},
   "outputs": [
    {
     "ename": "Exception",
     "evalue": "hello",
     "output_type": "error",
     "traceback": [
      "\u001b[1;31m---------------------------------------------------------------------------\u001b[0m",
      "\u001b[1;31mException\u001b[0m                                 Traceback (most recent call last)",
      "\u001b[1;32m<ipython-input-31-2679d3bd2de7>\u001b[0m in \u001b[0;36m<module>\u001b[1;34m\u001b[0m\n\u001b[1;32m----> 1\u001b[1;33m \u001b[1;32mraise\u001b[0m \u001b[0mException\u001b[0m\u001b[1;33m(\u001b[0m\u001b[1;34m'hello'\u001b[0m\u001b[1;33m)\u001b[0m\u001b[1;33m\u001b[0m\u001b[1;33m\u001b[0m\u001b[0m\n\u001b[0m",
      "\u001b[1;31mException\u001b[0m: hello"
     ]
    }
   ],
   "source": [
    "raise Exception('hello')"
   ]
  },
  {
   "cell_type": "code",
   "execution_count": 33,
   "id": "b2be72d4",
   "metadata": {},
   "outputs": [
    {
     "ename": "Exception",
     "evalue": "Code",
     "output_type": "error",
     "traceback": [
      "\u001b[1;31m---------------------------------------------------------------------------\u001b[0m",
      "\u001b[1;31mException\u001b[0m                                 Traceback (most recent call last)",
      "\u001b[1;32m<ipython-input-33-9e0e29c0fb2a>\u001b[0m in \u001b[0;36m<module>\u001b[1;34m\u001b[0m\n\u001b[1;32m----> 1\u001b[1;33m \u001b[1;32mraise\u001b[0m \u001b[0mException\u001b[0m\u001b[1;33m(\u001b[0m\u001b[1;34m\"Code\"\u001b[0m\u001b[1;33m)\u001b[0m\u001b[1;33m\u001b[0m\u001b[1;33m\u001b[0m\u001b[0m\n\u001b[0m\u001b[0;32m      2\u001b[0m \u001b[0mprint\u001b[0m\u001b[1;33m(\u001b[0m\u001b[1;34m\"100 lines of code\"\u001b[0m\u001b[1;33m)\u001b[0m\u001b[1;33m\u001b[0m\u001b[1;33m\u001b[0m\u001b[0m\n",
      "\u001b[1;31mException\u001b[0m: Code"
     ]
    }
   ],
   "source": [
    "raise Exception(\"Code\")\n",
    "print(\"100 lines of code\")"
   ]
  },
  {
   "cell_type": "code",
   "execution_count": 44,
   "id": "e1319c92",
   "metadata": {},
   "outputs": [
    {
     "name": "stdout",
     "output_type": "stream",
     "text": [
      "Enter Your name : sanjay\n",
      "Hello Good morning. sanjay\n",
      "Dont forget to close DB, API, and file\n",
      "100 lines of code\n"
     ]
    }
   ],
   "source": [
    "try:\n",
    "    name = input(\"Enter Your name : \")\n",
    "    if len(name)<4:\n",
    "        raise ValueError(\"You can not provide name less than 4 charcters\")\n",
    "    else:\n",
    "        print(\"Hello Good morning.\", name)\n",
    "except Exception as e:\n",
    "    print(\"Error happened\", e)\n",
    "    print(sys.exc_info()[0])\n",
    "finally:\n",
    "    print(\"Dont forget to close DB, API, and file\")\n",
    "    \n",
    "print(\"100 lines of code\")"
   ]
  },
  {
   "cell_type": "code",
   "execution_count": null,
   "id": "ace6bc91",
   "metadata": {},
   "outputs": [],
   "source": []
  }
 ],
 "metadata": {
  "kernelspec": {
   "display_name": "Python 3",
   "language": "python",
   "name": "python3"
  },
  "language_info": {
   "codemirror_mode": {
    "name": "ipython",
    "version": 3
   },
   "file_extension": ".py",
   "mimetype": "text/x-python",
   "name": "python",
   "nbconvert_exporter": "python",
   "pygments_lexer": "ipython3",
   "version": "3.8.8"
  }
 },
 "nbformat": 4,
 "nbformat_minor": 5
}
