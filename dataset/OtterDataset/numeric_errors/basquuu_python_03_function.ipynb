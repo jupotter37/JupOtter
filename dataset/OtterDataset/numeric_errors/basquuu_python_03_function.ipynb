{
 "cells": [
  {
   "cell_type": "markdown",
   "id": "7ef7ff58-d16b-4b6e-8bcb-79c5b926c2b3",
   "metadata": {},
   "source": [
    "## 함수(function)"
   ]
  },
  {
   "cell_type": "code",
   "execution_count": 2,
   "id": "9a7b2b3c-a362-4c94-a63d-70cf4fb29a97",
   "metadata": {},
   "outputs": [
    {
     "name": "stdout",
     "output_type": "stream",
     "text": [
      "사각형의 넓이는 1500고, 둘레는 3000입니다.\n"
     ]
    }
   ],
   "source": [
    "height = 50\n",
    "width = 30\n",
    "\n",
    "area = height * width\n",
    "perimeter = (height * width) * 2\n",
    "\n",
    "print(f'사각형의 넓이는 {area}고, 둘레는 {perimeter}입니다.')"
   ]
  },
  {
   "cell_type": "markdown",
   "id": "2a7b0b3d-a133-4030-83de-a16eec2747a4",
   "metadata": {},
   "source": [
    "## 함수의 선언과 호출\n",
    "\n",
    "- 함수의 선언\n",
    "\n",
    "```python\n",
    "  \n",
    "def func_name(parameter1, parameter2 ...):\n",
    "    code 1 \n",
    "    code 2\n",
    "    ....\n",
    "    return value\n",
    "```\n",
    "\n",
    "- 함수의 호출(실행)\n",
    "\n",
    "``` python\n",
    "func_name(parameter1, parameter2 ...)\n",
    "```"
   ]
  },
  {
   "cell_type": "code",
   "execution_count": null,
   "id": "c7e41b5f-abba-4830-adf4-e8fda0afff9d",
   "metadata": {},
   "outputs": [],
   "source": [
    " def rectangle(h, w):\n",
    "    area = h * w\n",
    "    periemter = (h*w) * 2\n",
    "    return area, perimeter"
   ]
  },
  {
   "cell_type": "code",
   "execution_count": 11,
   "id": "610dea80-d0da-44c8-86ee-271a7ad69195",
   "metadata": {},
   "outputs": [
    {
     "data": {
      "text/plain": [
       "['ArithmeticError',\n",
       " 'AssertionError',\n",
       " 'AttributeError',\n",
       " 'BaseException',\n",
       " 'BlockingIOError',\n",
       " 'BrokenPipeError',\n",
       " 'BufferError',\n",
       " 'BytesWarning',\n",
       " 'ChildProcessError',\n",
       " 'ConnectionAbortedError',\n",
       " 'ConnectionError',\n",
       " 'ConnectionRefusedError',\n",
       " 'ConnectionResetError',\n",
       " 'DeprecationWarning',\n",
       " 'EOFError',\n",
       " 'Ellipsis',\n",
       " 'EnvironmentError',\n",
       " 'Exception',\n",
       " 'False',\n",
       " 'FileExistsError',\n",
       " 'FileNotFoundError',\n",
       " 'FloatingPointError',\n",
       " 'FutureWarning',\n",
       " 'GeneratorExit',\n",
       " 'IOError',\n",
       " 'ImportError',\n",
       " 'ImportWarning',\n",
       " 'IndentationError',\n",
       " 'IndexError',\n",
       " 'InterruptedError',\n",
       " 'IsADirectoryError',\n",
       " 'KeyError',\n",
       " 'KeyboardInterrupt',\n",
       " 'LookupError',\n",
       " 'MemoryError',\n",
       " 'ModuleNotFoundError',\n",
       " 'NameError',\n",
       " 'None',\n",
       " 'NotADirectoryError',\n",
       " 'NotImplemented',\n",
       " 'NotImplementedError',\n",
       " 'OSError',\n",
       " 'OverflowError',\n",
       " 'PendingDeprecationWarning',\n",
       " 'PermissionError',\n",
       " 'ProcessLookupError',\n",
       " 'RecursionError',\n",
       " 'ReferenceError',\n",
       " 'ResourceWarning',\n",
       " 'RuntimeError',\n",
       " 'RuntimeWarning',\n",
       " 'StopAsyncIteration',\n",
       " 'StopIteration',\n",
       " 'SyntaxError',\n",
       " 'SyntaxWarning',\n",
       " 'SystemError',\n",
       " 'SystemExit',\n",
       " 'TabError',\n",
       " 'TimeoutError',\n",
       " 'True',\n",
       " 'TypeError',\n",
       " 'UnboundLocalError',\n",
       " 'UnicodeDecodeError',\n",
       " 'UnicodeEncodeError',\n",
       " 'UnicodeError',\n",
       " 'UnicodeTranslateError',\n",
       " 'UnicodeWarning',\n",
       " 'UserWarning',\n",
       " 'ValueError',\n",
       " 'Warning',\n",
       " 'WindowsError',\n",
       " 'ZeroDivisionError',\n",
       " '__IPYTHON__',\n",
       " '__build_class__',\n",
       " '__debug__',\n",
       " '__doc__',\n",
       " '__import__',\n",
       " '__loader__',\n",
       " '__name__',\n",
       " '__package__',\n",
       " '__spec__',\n",
       " 'abs',\n",
       " 'all',\n",
       " 'any',\n",
       " 'ascii',\n",
       " 'bin',\n",
       " 'bool',\n",
       " 'breakpoint',\n",
       " 'bytearray',\n",
       " 'bytes',\n",
       " 'callable',\n",
       " 'chr',\n",
       " 'classmethod',\n",
       " 'compile',\n",
       " 'complex',\n",
       " 'copyright',\n",
       " 'credits',\n",
       " 'delattr',\n",
       " 'dict',\n",
       " 'dir',\n",
       " 'display',\n",
       " 'divmod',\n",
       " 'enumerate',\n",
       " 'eval',\n",
       " 'exec',\n",
       " 'execfile',\n",
       " 'filter',\n",
       " 'float',\n",
       " 'format',\n",
       " 'frozenset',\n",
       " 'get_ipython',\n",
       " 'getattr',\n",
       " 'globals',\n",
       " 'hasattr',\n",
       " 'hash',\n",
       " 'help',\n",
       " 'hex',\n",
       " 'id',\n",
       " 'input',\n",
       " 'int',\n",
       " 'isinstance',\n",
       " 'issubclass',\n",
       " 'iter',\n",
       " 'len',\n",
       " 'license',\n",
       " 'list',\n",
       " 'locals',\n",
       " 'map',\n",
       " 'max',\n",
       " 'memoryview',\n",
       " 'min',\n",
       " 'next',\n",
       " 'object',\n",
       " 'oct',\n",
       " 'open',\n",
       " 'ord',\n",
       " 'pow',\n",
       " 'print',\n",
       " 'property',\n",
       " 'range',\n",
       " 'repr',\n",
       " 'reversed',\n",
       " 'round',\n",
       " 'runfile',\n",
       " 'set',\n",
       " 'setattr',\n",
       " 'slice',\n",
       " 'sorted',\n",
       " 'staticmethod',\n",
       " 'str',\n",
       " 'sum',\n",
       " 'super',\n",
       " 'tuple',\n",
       " 'type',\n",
       " 'vars',\n",
       " 'zip']"
      ]
     },
     "execution_count": 11,
     "metadata": {},
     "output_type": "execute_result"
    }
   ],
   "source": [
    "dir(__builtin__)"
   ]
  },
  {
   "cell_type": "code",
   "execution_count": 12,
   "id": "c27e4ee5-746f-403c-abfb-2ce1f1cfe2ca",
   "metadata": {},
   "outputs": [],
   "source": [
    "def my_max(n1, n2):\n",
    "    return max(n1,n2)"
   ]
  },
  {
   "cell_type": "code",
   "execution_count": 13,
   "id": "3163758a-7cd2-4df3-8609-c1343b050c1b",
   "metadata": {},
   "outputs": [
    {
     "data": {
      "text/plain": [
       "3"
      ]
     },
     "execution_count": 13,
     "metadata": {},
     "output_type": "execute_result"
    }
   ],
   "source": [
    "my_max(1,3)"
   ]
  },
  {
   "cell_type": "markdown",
   "id": "bb8dcd09-6d85-4167-a773-54126666e672",
   "metadata": {},
   "source": [
    "## 함수의 return\n",
    "\n",
    "- 함수가 return을 만나면 해당 값을 반환하고 함수를 종료\n",
    "- 만약 return 이 없는 경우 None을 자동으로 반환 \n",
    "- return 은 오직 하나의 객체만 반환한다."
   ]
  },
  {
   "cell_type": "code",
   "execution_count": 14,
   "id": "bd024aff-8399-4898-8669-2ce8aca3e922",
   "metadata": {},
   "outputs": [
    {
     "name": "stdout",
     "output_type": "stream",
     "text": [
      "2\n"
     ]
    }
   ],
   "source": [
    "result = my_max(1,2)\n",
    "print(result)"
   ]
  },
  {
   "cell_type": "code",
   "execution_count": 25,
   "id": "5eabb40d-d532-4c1a-895b-37c110079be6",
   "metadata": {},
   "outputs": [],
   "source": [
    "def my_list_max(list1, list2):\n",
    "    return max(list1, list2)\n",
    "#max 함수는 각 리스트의 요소 대소 비교를 통해 반환, 요소의 합이 아님 !! "
   ]
  },
  {
   "cell_type": "code",
   "execution_count": 29,
   "id": "e3fa2ba2-8616-4801-bbea-e9f00d421187",
   "metadata": {},
   "outputs": [],
   "source": [
    "def my_list_max(list1, list2):\n",
    "    if sum(list1) > sum(list2):\n",
    "        return list1\n",
    "    elif sum(list1) <sum(list2):\n",
    "        return list2"
   ]
  },
  {
   "cell_type": "code",
   "execution_count": 28,
   "id": "a0d8752f-5071-4d5e-b0e5-3480e6078949",
   "metadata": {},
   "outputs": [
    {
     "data": {
      "text/plain": [
       "[4, 5, 6]"
      ]
     },
     "execution_count": 28,
     "metadata": {},
     "output_type": "execute_result"
    }
   ],
   "source": [
    "max([1,2,3],[4,5,6], [1,5,9]) #동일 "
   ]
  },
  {
   "cell_type": "code",
   "execution_count": 30,
   "id": "f71878b6-8831-4757-94aa-fdebcb93dfba",
   "metadata": {},
   "outputs": [],
   "source": [
    "def my_def(x): return x*2"
   ]
  },
  {
   "cell_type": "code",
   "execution_count": 31,
   "id": "9715b95d-f2c7-4bc7-ad5e-ca604d67b1de",
   "metadata": {},
   "outputs": [
    {
     "data": {
      "text/plain": [
       "20"
      ]
     },
     "execution_count": 31,
     "metadata": {},
     "output_type": "execute_result"
    }
   ],
   "source": [
    "my_def(10)"
   ]
  },
  {
   "cell_type": "markdown",
   "id": "cd2fc81a-83c6-43d2-a761-1597b9884d5d",
   "metadata": {},
   "source": [
    "## 함수의 인수\n",
    "### 위치 인수 \n",
    "기본적으로 함수는 위치를 기준으로 인수를 판단함 \n",
    "```\n",
    "def(func\n",
    "```"
   ]
  },
  {
   "cell_type": "code",
   "execution_count": 33,
   "id": "eac2814c-0eed-4d44-9c7a-8d8b50b9104e",
   "metadata": {},
   "outputs": [],
   "source": [
    "def greeting(name='익명'):\n",
    "    return f'{name}님 반갑습니다.'"
   ]
  },
  {
   "cell_type": "code",
   "execution_count": 35,
   "id": "3f5eea32-cc07-44a3-ae77-8290ad74c38b",
   "metadata": {},
   "outputs": [
    {
     "data": {
      "text/plain": [
       "'홍길동님 반갑습니다.'"
      ]
     },
     "execution_count": 35,
     "metadata": {},
     "output_type": "execute_result"
    }
   ],
   "source": [
    "greeting('홍길동')"
   ]
  },
  {
   "cell_type": "code",
   "execution_count": 37,
   "id": "1191fb3c-71d5-4f21-ae29-e516ecd52552",
   "metadata": {},
   "outputs": [
    {
     "name": "stdout",
     "output_type": "stream",
     "text": [
      "안녕하세요? 저는 길동이에요!"
     ]
    }
   ],
   "source": [
    "print('안녕하세요','저는 길동이에요', sep='? ',end='!')"
   ]
  },
  {
   "cell_type": "code",
   "execution_count": 40,
   "id": "66e55fde-65a5-41ee-be81-91f757a5daf7",
   "metadata": {},
   "outputs": [],
   "source": [
    "def greeting(age, name='익명'):\n",
    "    return f'{name}님의 나이는 {age}입니다.'"
   ]
  },
  {
   "cell_type": "code",
   "execution_count": 41,
   "id": "32fbb20f-53b0-41aa-a48f-345d2923cf11",
   "metadata": {},
   "outputs": [
    {
     "data": {
      "text/plain": [
       "'익명님의 나이는 10입니다.'"
      ]
     },
     "execution_count": 41,
     "metadata": {},
     "output_type": "execute_result"
    }
   ],
   "source": [
    "greeting(10)"
   ]
  },
  {
   "cell_type": "markdown",
   "id": "02002b22-b180-4b0b-ba7e-7fda616a5c6d",
   "metadata": {},
   "source": [
    "## 키워드 인수\n",
    "함수를 호출(실행) 할 때 내가 원하는 위치에 직접적으로 특정인자를 전달 "
   ]
  },
  {
   "cell_type": "code",
   "execution_count": 42,
   "id": "280dc7a7-f86c-43ec-8898-76191cc9275e",
   "metadata": {},
   "outputs": [],
   "source": [
    "def greeting(age, name='익명'):\n",
    "    return (f'{name}님의 나이는 {age}입니다.')"
   ]
  },
  {
   "cell_type": "code",
   "execution_count": 43,
   "id": "e66e9029-145c-49fc-88db-cc3347e752df",
   "metadata": {},
   "outputs": [
    {
     "data": {
      "text/plain": [
       "'길동님의 나이는 10입니다.'"
      ]
     },
     "execution_count": 43,
     "metadata": {},
     "output_type": "execute_result"
    }
   ],
   "source": [
    "greeting(10)\n",
    "greeting(10, '길동')\n",
    "greeting(name='길동', age=10)"
   ]
  },
  {
   "cell_type": "markdown",
   "id": "b5df6951-bae8-4e55-8ff8-3e55aaa78a14",
   "metadata": {},
   "source": [
    "## 가변인자 리스트 \n",
    "```python\n",
    "def func(*parms):\n",
    "    code ...\n",
    "```\n",
    "- 데이터가 몇 개 들어올지 모름 !"
   ]
  },
  {
   "cell_type": "code",
   "execution_count": 44,
   "id": "1ea45fe6-fcdb-4f36-8a36-3ad240120b19",
   "metadata": {},
   "outputs": [
    {
     "name": "stdout",
     "output_type": "stream",
     "text": [
      "hi hello my name is\n"
     ]
    }
   ],
   "source": [
    "print('hi', 'hello', 'my', 'name', 'is')"
   ]
  },
  {
   "cell_type": "code",
   "execution_count": 46,
   "id": "02fabddd-7d57-4658-a7d1-adec3318a7f2",
   "metadata": {},
   "outputs": [],
   "source": [
    "def my_print(*words):\n",
    "    print"
   ]
  },
  {
   "cell_type": "code",
   "execution_count": 47,
   "id": "21627db5-5d53-49d3-a65a-e4d2918a6c54",
   "metadata": {},
   "outputs": [
    {
     "name": "stdout",
     "output_type": "stream",
     "text": [
      "('my', 'name', 'is')\n"
     ]
    }
   ],
   "source": [
    "my_print('my','name', 'is', )"
   ]
  },
  {
   "cell_type": "code",
   "execution_count": 48,
   "id": "f2beaad6-15ca-4dc1-acd0-77bd30a8553a",
   "metadata": {},
   "outputs": [
    {
     "data": {
      "text/plain": [
       "10"
      ]
     },
     "execution_count": 48,
     "metadata": {},
     "output_type": "execute_result"
    }
   ],
   "source": [
    "max(1,2,3,4,5,6,7,8,9,10) #가장 큰 수 출력"
   ]
  },
  {
   "cell_type": "code",
   "execution_count": 52,
   "id": "9a60f680-c6cb-4489-81f8-d7a82ea25f80",
   "metadata": {},
   "outputs": [],
   "source": [
    "def my_max(*numbers):\n",
    "    return max(numbers)"
   ]
  },
  {
   "cell_type": "code",
   "execution_count": null,
   "id": "3e6cafa1-034f-4178-bf53-461aeeee9cf5",
   "metadata": {},
   "outputs": [],
   "source": [
    "def my max(*numbers):\n",
    "    numbers.sort()"
   ]
  },
  {
   "cell_type": "code",
   "execution_count": 5,
   "id": "7952d8aa-6b4f-4917-910b-0423dd7fe549",
   "metadata": {},
   "outputs": [],
   "source": [
    "def my_max(*numbers):\n",
    "    max = numbers[0]\n",
    "    for n in numbers:\n",
    "        if max < n:\n",
    "            max = n\n",
    "    return max"
   ]
  },
  {
   "cell_type": "code",
   "execution_count": 6,
   "id": "dc219250-61cc-42c8-a5e7-2f611d89e582",
   "metadata": {},
   "outputs": [
    {
     "data": {
      "text/plain": [
       "12"
      ]
     },
     "execution_count": 6,
     "metadata": {},
     "output_type": "execute_result"
    }
   ],
   "source": [
    "my_max(1,2,3,4,5,6,7,8,9,12)"
   ]
  },
  {
   "cell_type": "markdown",
   "id": "bd251f6c-bc83-44f8-af85-d7fca947b802",
   "metadata": {},
   "source": [
    "## 정의되지 않은 키워드 인자 처리하기 \n",
    "\n",
    "키워드 인자 : key 와 value 쌍으로 들어가는 것 \n",
    "```python\n",
    "def funx(**kwargs):\n",
    "     code...\n",
    "```"
   ]
  },
  {
   "cell_type": "code",
   "execution_count": 1,
   "id": "e6b6da77-d16b-4a77-ba30-2be740928314",
   "metadata": {},
   "outputs": [
    {
     "name": "stdout",
     "output_type": "stream",
     "text": [
      "{'name': 'hong', 'age': 10}\n"
     ]
    }
   ],
   "source": [
    "info = {\n",
    "    'name': 'hong',\n",
    "    'age': 10,\n",
    "}\n",
    "print(info)"
   ]
  },
  {
   "cell_type": "code",
   "execution_count": 8,
   "id": "67eea658-100a-425e-877a-3e859f187867",
   "metadata": {},
   "outputs": [
    {
     "data": {
      "text/plain": [
       "{'name': 'hong', 'age': 10}"
      ]
     },
     "execution_count": 8,
     "metadata": {},
     "output_type": "execute_result"
    }
   ],
   "source": [
    "dict(name='hong', age=10)"
   ]
  },
  {
   "cell_type": "code",
   "execution_count": 10,
   "id": "95d37dcb-9290-4016-8e87-08e7a4c7144e",
   "metadata": {},
   "outputs": [],
   "source": [
    "def my_dict(**kwargs):\n",
    "    print(kwargs)"
   ]
  },
  {
   "cell_type": "code",
   "execution_count": 12,
   "id": "db64869b-2334-4f22-a9e7-825fab83d680",
   "metadata": {
    "scrolled": true
   },
   "outputs": [
    {
     "name": "stdout",
     "output_type": "stream",
     "text": [
      "{'asdf': '123', 'qwer': '456'}\n"
     ]
    }
   ],
   "source": [
    "my_dict(asdf = '123', qwer='456')"
   ]
  },
  {
   "cell_type": "code",
   "execution_count": 13,
   "id": "29ffe56c-af5f-420f-83ee-f1175b83313e",
   "metadata": {},
   "outputs": [],
   "source": [
    "def my_func(*datas, **kwdatas):\n",
    "    print(datas)\n",
    "    print(kwdatas)"
   ]
  },
  {
   "cell_type": "code",
   "execution_count": 14,
   "id": "5286143c-13e0-453f-bbcc-d3ef092a28e8",
   "metadata": {},
   "outputs": [
    {
     "name": "stdout",
     "output_type": "stream",
     "text": [
      "(1, 'hell0', [1, 2, 3], {})\n",
      "{'hello': 'hi', 'world': 123, 'hi': {}}\n"
     ]
    }
   ],
   "source": [
    "my_func(1, 'hell0', [1,2,3],{},hello='hi', world=123, hi={})"
   ]
  },
  {
   "cell_type": "markdown",
   "id": "7eafb678-7419-433c-bf8b-87e576d669f3",
   "metadata": {},
   "source": [
    "## dictionary를 인자로 넣기 (unpacking)"
   ]
  },
  {
   "cell_type": "code",
   "execution_count": 15,
   "id": "2c3cdbbc-af91-436c-aa54-655d9c63a848",
   "metadata": {},
   "outputs": [],
   "source": [
    "def sign_up(username,pw,pw_conf):\n",
    "    if pw == pw_conf:\n",
    "        print(f'{username}님 회원가입을 환영합니다.')\n",
    "    else:\n",
    "        print('비밀번호가 일치하지 않습니다.')"
   ]
  },
  {
   "cell_type": "code",
   "execution_count": 17,
   "id": "b27d154d-eb2b-4c0d-afa3-f887cbe89403",
   "metadata": {},
   "outputs": [
    {
     "name": "stdout",
     "output_type": "stream",
     "text": [
      "hong님 회원가입을 환영합니다.\n"
     ]
    }
   ],
   "source": [
    "sign_up('hong', '1234' , '1234')\n",
    "#dict를 인자로 넣기 작업을 하려고 함 "
   ]
  },
  {
   "cell_type": "code",
   "execution_count": 18,
   "id": "5770d29f-b30e-474c-a09f-849e36992e93",
   "metadata": {},
   "outputs": [
    {
     "name": "stdout",
     "output_type": "stream",
     "text": [
      "hong님 회원가입을 환영합니다.\n"
     ]
    }
   ],
   "source": [
    "user_info = {\n",
    "    'username':'hong',\n",
    "    'pw': '1234',\n",
    "    'pw_conf': '1234',\n",
    "}\n",
    "sign_up(**user_info)"
   ]
  },
  {
   "cell_type": "markdown",
   "id": "fa4da502-00fe-4fcb-b1a1-07f257265b2d",
   "metadata": {},
   "source": [
    "## lambda 표현식 \n",
    "```python\n",
    "lambda parameter : expression\n",
    "```"
   ]
  },
  {
   "cell_type": "code",
   "execution_count": 19,
   "id": "6fac9c97-28cf-499a-b258-33107e8d2eff",
   "metadata": {},
   "outputs": [],
   "source": [
    "def my_sum(num1, num2):\n",
    "    return num1+num2"
   ]
  },
  {
   "cell_type": "code",
   "execution_count": 21,
   "id": "2dd4e06e-d6fa-4d75-add4-591e80cc8729",
   "metadata": {},
   "outputs": [
    {
     "data": {
      "text/plain": [
       "3"
      ]
     },
     "execution_count": 21,
     "metadata": {},
     "output_type": "execute_result"
    }
   ],
   "source": [
    "(lambda num1, num2 : num1 + num2)(1,2)"
   ]
  },
  {
   "cell_type": "markdown",
   "id": "443a42a4-1100-4926-aefd-5491c5822631",
   "metadata": {},
   "source": [
    "### 타입 힌트 "
   ]
  },
  {
   "cell_type": "code",
   "execution_count": 24,
   "id": "cd9c9cbf-9ae7-4298-b2f0-8cfda920d2e7",
   "metadata": {},
   "outputs": [],
   "source": [
    "def my_sum(a: int,b: int) -> int:\n",
    "    return a + b"
   ]
  },
  {
   "cell_type": "markdown",
   "id": "c037eff5-93f3-46b9-95fa-57248ba82ea0",
   "metadata": {},
   "source": [
    "my_sum('1', 2)"
   ]
  },
  {
   "cell_type": "markdown",
   "id": "cb6bec45-9f74-49bd-b90a-00f134d1343b",
   "metadata": {},
   "source": [
    "## 이름 공간 (space)\n",
    "\n",
    "python에서 사용되는 이름들은 이름공간에 저장되어 있습니다. \n",
    "\n",
    "1. Local scope : 정의된 함수 내부 \n",
    "2. Enclosed : 상위 함수 \n",
    "3. Global : 함수 밖 \n",
    "4. Built-in : python이 기본적으로 가지고 있는 함수/변수"
   ]
  },
  {
   "cell_type": "code",
   "execution_count": 30,
   "id": "0fe43985-a7ea-4ca3-8c90-e4b513b9b4de",
   "metadata": {},
   "outputs": [],
   "source": [
    "str = 'hi'"
   ]
  },
  {
   "cell_type": "code",
   "execution_count": 33,
   "id": "7bbd69e2-655f-4eec-8407-b63d19748b57",
   "metadata": {},
   "outputs": [
    {
     "name": "stdout",
     "output_type": "stream",
     "text": [
      "1\n"
     ]
    }
   ],
   "source": [
    "result = str(1)\n",
    "print(result)"
   ]
  },
  {
   "cell_type": "code",
   "execution_count": 32,
   "id": "95063d7d-c756-4062-944b-4c96040f879c",
   "metadata": {},
   "outputs": [],
   "source": [
    "del str"
   ]
  },
  {
   "cell_type": "code",
   "execution_count": 35,
   "id": "02435325-b1a3-4863-a9fe-584504ced2d4",
   "metadata": {},
   "outputs": [
    {
     "name": "stdout",
     "output_type": "stream",
     "text": [
      "1\n",
      "5\n"
     ]
    }
   ],
   "source": [
    "a = 1 \n",
    "def local_scope(a):\n",
    "    return a\n",
    "print(a)\n",
    "print(local_scope(5))"
   ]
  },
  {
   "cell_type": "code",
   "execution_count": 36,
   "id": "ce81b754-5cca-42f8-b5fe-e10881865bae",
   "metadata": {},
   "outputs": [
    {
     "data": {
      "text/plain": [
       "10"
      ]
     },
     "execution_count": 36,
     "metadata": {},
     "output_type": "execute_result"
    }
   ],
   "source": [
    "a = 10\n",
    "\n",
    "def global_scope():\n",
    "    return a\n",
    "global_scope()"
   ]
  },
  {
   "cell_type": "markdown",
   "id": "71643c93-7c83-44ae-9ac4-4f4c422e54e0",
   "metadata": {},
   "source": [
    "## 재귀\n",
    "\n",
    "재귀함수는 함수 내부에서 자기 자신을 호출하는 함수\n",
    "- n ! = 1 * 2 * 3 * ... n "
   ]
  },
  {
   "cell_type": "code",
   "execution_count": 50,
   "id": "2f265f98-64ba-4965-ac54-6341bcfd8e79",
   "metadata": {},
   "outputs": [],
   "source": [
    "def fact(n):\n",
    "    if n == 1:\n",
    "        return 1\n",
    "    else:\n",
    "        return fact(n-1) * n"
   ]
  },
  {
   "cell_type": "code",
   "execution_count": 52,
   "id": "ccb0f769-e351-4ce4-8784-5b890000bda2",
   "metadata": {},
   "outputs": [
    {
     "data": {
      "text/plain": [
       "6"
      ]
     },
     "execution_count": 52,
     "metadata": {},
     "output_type": "execute_result"
    }
   ],
   "source": [
    "fact(3)"
   ]
  },
  {
   "cell_type": "code",
   "execution_count": null,
   "id": "bb52f23d-a004-4586-9dca-817e907df784",
   "metadata": {},
   "outputs": [],
   "source": []
  },
  {
   "cell_type": "code",
   "execution_count": null,
   "id": "08c9b3f5-d56e-46b8-8f0f-2c6e1a02f8a5",
   "metadata": {},
   "outputs": [],
   "source": []
  },
  {
   "cell_type": "code",
   "execution_count": null,
   "id": "fb04c454-5840-4c3b-8cf8-fab6f4d85269",
   "metadata": {},
   "outputs": [],
   "source": []
  }
 ],
 "metadata": {
  "kernelspec": {
   "display_name": "Python 3 (ipykernel)",
   "language": "python",
   "name": "python3"
  },
  "language_info": {
   "codemirror_mode": {
    "name": "ipython",
    "version": 3
   },
   "file_extension": ".py",
   "mimetype": "text/x-python",
   "name": "python",
   "nbconvert_exporter": "python",
   "pygments_lexer": "ipython3",
   "version": "3.9.2"
  }
 },
 "nbformat": 4,
 "nbformat_minor": 5
}
