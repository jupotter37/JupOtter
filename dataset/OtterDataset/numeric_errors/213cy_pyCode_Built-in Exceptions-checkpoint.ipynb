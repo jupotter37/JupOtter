{
 "cells": [
  {
   "cell_type": "code",
   "execution_count": 1,
   "id": "4c52b709",
   "metadata": {},
   "outputs": [],
   "source": [
    "# builtin 基本函数\n",
    "# dir vars set all hasattr filter\n",
    "# python Built-in Exceptions"
   ]
  },
  {
   "cell_type": "code",
   "execution_count": 2,
   "id": "eeadfd2e",
   "metadata": {
    "scrolled": false
   },
   "outputs": [
    {
     "name": "stdout",
     "output_type": "stream",
     "text": [
      "True\tFalse\tTrue\n"
     ]
    }
   ],
   "source": [
    "a=dir(__builtin__)\n",
    "b=dir(__builtins__)\n",
    "print( a==b , a is b , all([ k[0] is k[1]  for k in zip(a,b) ]),sep= '\\t' )"
   ]
  },
  {
   "cell_type": "code",
   "execution_count": 3,
   "id": "62b17a22",
   "metadata": {},
   "outputs": [
    {
     "name": "stdout",
     "output_type": "stream",
     "text": [
      "67 67 True\n",
      "67 + 87 = 154\n"
     ]
    }
   ],
   "source": [
    "b=vars(__builtins__)\n",
    "c=list( filter(lambda k: hasattr( b[k] ,'__cause__'),b.keys() ) )\n",
    "d =list( filter(lambda k: not hasattr(k, '__cause__'), b.values()) )\n",
    "\n",
    "a=dir(__builtins__)\n",
    "cc=list( filter(lambda k: hasattr( getattr(__builtins__,k) ,'__cause__'),a) )\n",
    "print( len(cc) , len(c), set(cc) == set(c) )\n",
    "\n",
    "print(len(c) ,'+',len(d),'=', len(b) )"
   ]
  },
  {
   "cell_type": "code",
   "execution_count": 4,
   "id": "f67817f4",
   "metadata": {
    "scrolled": true
   },
   "outputs": [
    {
     "name": "stdout",
     "output_type": "stream",
     "text": [
      "[True, True]\n",
      "{'Exception', 'SystemExit', 'BaseException', 'StopIteration', 'GeneratorExit', 'StopAsyncIteration', 'KeyboardInterrupt'}\n",
      "11 + 49 + 7 =  67\n"
     ]
    }
   ],
   "source": [
    "c1 =  [ f for f,g in b.items() if f.endswith('Warning')] \n",
    "# for k in c1 : print('%-30s %s' % (k,b[k]))\n",
    "c2 =  [ f[0] for f in b.items() if f[0].endswith('Error')] \n",
    "# for k in c2 : print('%-30s %s' % (k,b[k]))\n",
    "print( [set(cc).issuperset(set(c1)),set(cc).issuperset(set(c2))] )\n",
    "c3 = set(cc)-set(c1)-set(c2) \n",
    "print( c3 )\n",
    "print( len(c1),'+',len(c2) ,'+',len(c3),'= ',len(c))"
   ]
  },
  {
   "cell_type": "code",
   "execution_count": 5,
   "id": "3c6e2d57",
   "metadata": {
    "scrolled": true
   },
   "outputs": [
    {
     "name": "stdout",
     "output_type": "stream",
     "text": [
      "['BaseException', 'Exception', 'TypeError', 'StopAsyncIteration', 'StopIteration', 'GeneratorExit', 'SystemExit', 'KeyboardInterrupt', 'ImportError', 'ModuleNotFoundError', 'OSError', 'EnvironmentError', 'IOError', 'WindowsError', 'EOFError', 'RuntimeError', 'RecursionError', 'NotImplementedError', 'NameError', 'UnboundLocalError', 'AttributeError', 'SyntaxError', 'IndentationError', 'TabError', 'LookupError', 'IndexError', 'KeyError', 'ValueError', 'UnicodeError', 'UnicodeEncodeError', 'UnicodeDecodeError', 'UnicodeTranslateError', 'AssertionError', 'ArithmeticError', 'FloatingPointError', 'OverflowError', 'ZeroDivisionError', 'SystemError', 'ReferenceError', 'MemoryError', 'BufferError', 'Warning', 'UserWarning', 'DeprecationWarning', 'PendingDeprecationWarning', 'SyntaxWarning', 'RuntimeWarning', 'FutureWarning', 'ImportWarning', 'UnicodeWarning', 'BytesWarning', 'ResourceWarning', 'ConnectionError', 'BlockingIOError', 'BrokenPipeError', 'ChildProcessError', 'ConnectionAbortedError', 'ConnectionRefusedError', 'ConnectionResetError', 'FileExistsError', 'FileNotFoundError', 'IsADirectoryError', 'NotADirectoryError', 'InterruptedError', 'PermissionError', 'ProcessLookupError', 'TimeoutError']\n",
      "__name__\t__doc__\t__package__\t__loader__\t__spec__\t__build_class__\t__import__\tabs\tall\tany\tascii\tbin\tbreakpoint\tcallable\tchr\tcompile\tdelattr\tdir\tdivmod\teval\texec\tformat\tgetattr\tglobals\thasattr\thash\thex\tid\tinput\tisinstance\tissubclass\titer\tlen\tlocals\tmax\tmin\tnext\toct\tord\tpow\tprint\trepr\tround\tsetattr\tsorted\tsum\tvars\tNone\tEllipsis\tNotImplemented\tFalse\tTrue\tbool\tmemoryview\tbytearray\tbytes\tclassmethod\tcomplex\tdict\tenumerate\tfilter\tfloat\tfrozenset\tproperty\tint\tlist\tmap\tobject\trange\treversed\tset\tslice\tstaticmethod\tstr\tsuper\ttuple\ttype\tzip\t__debug__\topen\tcopyright\tcredits\tlicense\thelp\t__IPYTHON__\tdisplay\tget_ipython\t"
     ]
    }
   ],
   "source": [
    "# for k in c : print('%-30s %s' % (k,str(getattr(__builtins__,k))) )\n",
    "# print('\\n'.join(c) )\n",
    "print(c)\n",
    "\n",
    "for k in filter(lambda k: not hasattr( b[k] ,'__cause__'),b.keys() ) : print(k,end='\\t')"
   ]
  },
  {
   "cell_type": "code",
   "execution_count": 6,
   "id": "d4c0547a",
   "metadata": {
    "scrolled": true
   },
   "outputs": [
    {
     "name": "stdout",
     "output_type": "stream",
     "text": [
      "{'__setattr__', '__cause__', '__dict__', 'with_traceback', '__lt__', '__format__', '__le__', '__delattr__', '__subclasshook__', '__str__', 'args', '__init_subclass__', '__traceback__', '__class__', '__repr__', '__dir__', '__suppress_context__', '__setstate__', '__doc__', '__new__', '__reduce__', '__eq__', '__ge__', '__context__', '__gt__', '__init__', '__getattribute__', '__sizeof__', '__ne__', '__reduce_ex__', '__hash__'}\n",
      "=======================================================\n",
      "{'__setstate__', '__context__', '__cause__', '__dict__', 'with_traceback', 'args', '__traceback__', '__suppress_context__'}\n"
     ]
    }
   ],
   "source": [
    "attrs = set(dir(Exception))\n",
    "for k in filter(lambda k: hasattr(k, '__cause__'), b.values()): attrs &= set( dir(k))\n",
    "\n",
    "print(attrs)\n",
    "print(55*'=')\n",
    "print(attrs-set(dir(object)))"
   ]
  },
  {
   "cell_type": "code",
   "execution_count": 11,
   "id": "5788830d",
   "metadata": {},
   "outputs": [
    {
     "name": "stdout",
     "output_type": "stream",
     "text": [
      "TypeError\tTrue\n",
      "ImportError\tFalse\n",
      "ModuleNotFoundError\tFalse\n",
      "OSError\tFalse\n",
      "EnvironmentError\tFalse\n",
      "IOError\tFalse\n",
      "WindowsError\tFalse\n",
      "EOFError\tTrue\n",
      "RuntimeError\tTrue\n",
      "RecursionError\tTrue\n",
      "NotImplementedError\tTrue\n",
      "NameError\tTrue\n",
      "UnboundLocalError\tTrue\n",
      "AttributeError\tTrue\n",
      "SyntaxError\tFalse\n",
      "IndentationError\tFalse\n",
      "TabError\tFalse\n",
      "LookupError\tTrue\n",
      "IndexError\tTrue\n",
      "KeyError\tTrue\n",
      "ValueError\tTrue\n",
      "UnicodeError\tTrue\n",
      "UnicodeEncodeError\tFalse\n",
      "UnicodeDecodeError\tFalse\n",
      "UnicodeTranslateError\tFalse\n",
      "AssertionError\tTrue\n",
      "ArithmeticError\tTrue\n",
      "FloatingPointError\tTrue\n",
      "OverflowError\tTrue\n",
      "ZeroDivisionError\tTrue\n",
      "SystemError\tTrue\n",
      "ReferenceError\tTrue\n",
      "MemoryError\tTrue\n",
      "BufferError\tTrue\n",
      "ConnectionError\tFalse\n",
      "BlockingIOError\tFalse\n",
      "BrokenPipeError\tFalse\n",
      "ChildProcessError\tFalse\n",
      "ConnectionAbortedError\tFalse\n",
      "ConnectionRefusedError\tFalse\n",
      "ConnectionResetError\tFalse\n",
      "FileExistsError\tFalse\n",
      "FileNotFoundError\tFalse\n",
      "IsADirectoryError\tFalse\n",
      "NotADirectoryError\tFalse\n",
      "InterruptedError\tFalse\n",
      "PermissionError\tFalse\n",
      "ProcessLookupError\tFalse\n",
      "TimeoutError\tFalse\n"
     ]
    }
   ],
   "source": [
    "attrs = set(dir(Exception))\n",
    "for k in c2 : print( k , attrs == set( dir(b[k])), sep='\\t') "
   ]
  },
  {
   "cell_type": "code",
   "execution_count": 8,
   "id": "cda9d409",
   "metadata": {
    "scrolled": false
   },
   "outputs": [
    {
     "name": "stdout",
     "output_type": "stream",
     "text": [
      "__name__                       ---------builtins\n",
      "__doc__                        ---------Built-in functions, exceptions, and other objects.\n",
      "\n",
      "Noteworthy: None is the `nil' object; Ellipsis represents `...' in slices.\n",
      "__package__                    ---------\n",
      "=======================================================\n",
      "__name__                       ---------builtins\n",
      "__doc__                        ---------Built-in functions, exceptions, and other objects.\n",
      "\n",
      "Noteworthy: None is the `nil' object; Ellipsis represents `...' in slices.\n",
      "__package__                    ---------\n",
      "=======================================================\n",
      "3 3 True\n"
     ]
    }
   ],
   "source": [
    "def m(k):\n",
    "    if hasattr( k[1] ,'__cause__' ):\n",
    "        return False\n",
    "    if  isinstance(k[1],str): # type(k[1])==type('sdf'):\n",
    "        print('%-30s ---------%s' % k)\n",
    "        return True\n",
    "    return False\n",
    "d= dict( filter(m,b.items()) )\n",
    "print(55*'=')\n",
    "c = {a:b for a,b in b.items() if m((a,b))}\n",
    "print(55*'=')\n",
    "print(len(d),len(c) , d == c)"
   ]
  }
 ],
 "metadata": {
  "kernelspec": {
   "display_name": "Python 3",
   "language": "python",
   "name": "python3"
  },
  "language_info": {
   "codemirror_mode": {
    "name": "ipython",
    "version": 3
   },
   "file_extension": ".py",
   "mimetype": "text/x-python",
   "name": "python",
   "nbconvert_exporter": "python",
   "pygments_lexer": "ipython3",
   "version": "3.8.8"
  }
 },
 "nbformat": 4,
 "nbformat_minor": 5
}
