{
  "nbformat": 4,
  "nbformat_minor": 0,
  "metadata": {
    "colab": {
      "provenance": []
    },
    "kernelspec": {
      "name": "python3",
      "display_name": "Python 3"
    },
    "language_info": {
      "name": "python"
    }
  },
  "cells": [
    {
      "cell_type": "markdown",
      "source": [
        "Q1. Explain why we have to use the Exception class while creating a Custom Exception.\n",
        "\n",
        "Note: Here Exception class refers to the base class for all the exceptions."
      ],
      "metadata": {
        "id": "kBwosNPi62r4"
      }
    },
    {
      "cell_type": "markdown",
      "source": [
        "Answer : - Here's why we use the Exception class as the base class for custom exceptions:\n",
        "\n",
        "Consistency and Compatibility: The Exception class serves as the base class for all exceptions in most programming languages. By subclassing Exception, your custom exception inherits standard exception handling behavior and can be caught using the same mechanisms that handle built-in exceptions. This ensures consistency and compatibility with existing exception handling code.\n",
        "\n",
        "Standardized Interface: Exception classes define standard interfaces and methods for handling exceptions, such as __init__ to initialize the exception object and __str__ to represent the exception as a string. By subclassing Exception, you inherit these methods and can customize them as needed for your custom exception.\n",
        "\n",
        "Clear Hierarchy and Organization: Subclassing Exception allows you to organize custom exceptions into a hierarchy based on their relationships and types of errors they represent. For example, you can create specific subclasses of Exception for different categories of errors in your application, making it easier to understand and manage the code.\n",
        "\n",
        "Semantic Clarity and Readability: By subclassing Exception, you make the purpose and nature of your custom exception clear to other developers who may encounter it in the codebase. It provides semantic clarity and improves readability, making it easier to understand the intent and context of the exception.\n",
        "\n",
        "Facilitates Exception Handling: Subclassing Exception enables you to define custom behavior and handling strategies for specific types of errors in your application. You can catch and handle different types of exceptions separately, allowing for more granular control over error recovery and program flow.\n",
        "\n",
        "In summary, using the Exception class as the base class for custom exceptions provides consistency, compatibility, clarity, and flexibility in exception handling, making it an essential practice in software development."
      ],
      "metadata": {
        "id": "0-BJbSSj7CA3"
      }
    },
    {
      "cell_type": "markdown",
      "source": [
        "Q2. Write a python program to print Python Exception Hierarchy."
      ],
      "metadata": {
        "id": "P9MoV-5476eR"
      }
    },
    {
      "cell_type": "code",
      "source": [
        "def print_exception_hierarchy(exception_cls, indent=0):\n",
        "    print('  ' * indent + exception_cls.__name__)\n",
        "    for subclass in exception_cls.__subclasses__():\n",
        "        print_exception_hierarchy(subclass, indent + 1)\n",
        "\n",
        "print(\"Python Exception Hierarchy:\")\n",
        "print_exception_hierarchy(BaseException)\n"
      ],
      "metadata": {
        "id": "g_MScCWq8Lp0"
      },
      "execution_count": null,
      "outputs": []
    },
    {
      "cell_type": "markdown",
      "source": [
        "This program defines a function print_exception_hierarchy that recursively traverses through the exception hierarchy starting from the BaseException class. It prints out the name of each exception class, with indentation to represent the hierarchy level.\n",
        "\n",
        "When you run this program, it will output the entire exception hierarchy, showing the relationships between different exception classes in Python.\n",
        "\n",
        "\n",
        "\n",
        "\n"
      ],
      "metadata": {
        "id": "efAk18iZ8tni"
      }
    },
    {
      "cell_type": "markdown",
      "source": [
        "Q3. What errors are defined in the ArithmeticError class? Explain any two with an example."
      ],
      "metadata": {
        "id": "xp0MTHfj8yNC"
      }
    },
    {
      "cell_type": "markdown",
      "source": [
        "Answer : - The ArithmeticError class in Python serves as the base class for exceptions that occur during arithmetic operations. It provides a common base for various arithmetic-related exceptions. Some errors defined in the ArithmeticError class include:\n",
        "\n",
        "1 . OverflowError: This exception is raised when the result of an arithmetic operation is too large to be represented within the available numeric range.\n",
        "Example:"
      ],
      "metadata": {
        "id": "YNOkIBgG9ASn"
      }
    },
    {
      "cell_type": "code",
      "source": [
        "import sys\n",
        "\n",
        "try:\n",
        "    result = sys.maxsize + 1  # Adding 1 to the maximum integer value\n",
        "    print(\"Result:\", result)\n",
        "except OverflowError as e:\n",
        "    print(\"OverflowError:\", e)\n"
      ],
      "metadata": {
        "id": "a8fo_QMh9zfV"
      },
      "execution_count": null,
      "outputs": []
    },
    {
      "cell_type": "markdown",
      "source": [
        "In this example, we attempt to add 1 to the maximum integer value (sys.maxsize). Since the result exceeds the maximum representable integer value, an OverflowError is raised"
      ],
      "metadata": {
        "id": "g-s9nN2694Ba"
      }
    },
    {
      "cell_type": "markdown",
      "source": [
        "2. ZeroDivisionError: This exception is raised when attempting to divide a number by zero.\n",
        "Example:"
      ],
      "metadata": {
        "id": "qQljcaAF99Bu"
      }
    },
    {
      "cell_type": "code",
      "source": [
        "try:\n",
        "    result = 10 / 0  # Attempting to divide by zero\n",
        "    print(\"Result:\", result)\n",
        "except ZeroDivisionError as e:\n",
        "    print(\"ZeroDivisionError:\", e)\n"
      ],
      "metadata": {
        "id": "XDEIFJVm-GRn"
      },
      "execution_count": null,
      "outputs": []
    },
    {
      "cell_type": "markdown",
      "source": [
        "In this example, we attempt to divide 10 by 0, which is mathematically undefined. As a result, a ZeroDivisionError is raised.\n",
        "\n",
        "These are just two examples of errors defined in the ArithmeticError class. They highlight common scenarios where arithmetic operations encounter exceptional conditions, such as overflow or division by zero. Handling such exceptions appropriately helps ensure the robustness and reliability of Python programs that involve arithmetic operations.\n",
        "\n",
        "\n",
        "\n",
        "\n"
      ],
      "metadata": {
        "id": "LjCKxpEl-JgH"
      }
    },
    {
      "cell_type": "markdown",
      "source": [
        "Q4. Why LookupError class is used? Explain with an example KeyError and IndexError."
      ],
      "metadata": {
        "id": "k68D600S-O1k"
      }
    },
    {
      "cell_type": "markdown",
      "source": [
        "Answer :- The LookupError class in Python serves as the base class for exceptions that occur when a key or index used to access an element in a mapping or sequence respectively, is invalid or not found. It provides a common base for various lookup-related exceptions.\n",
        "\n",
        "Two common subclasses of LookupError are KeyError and IndexError.\n",
        "\n",
        "1. KeyError: This exception is raised when a dictionary key is not found in the dictionary.\n",
        "Example:"
      ],
      "metadata": {
        "id": "hCYXZXbp-ZKi"
      }
    },
    {
      "cell_type": "code",
      "source": [
        "my_dict = {'a': 1, 'b': 2, 'c': 3}\n",
        "\n",
        "try:\n",
        "    value = my_dict['d']  # Trying to access a key that doesn't exist\n",
        "    print(\"Value:\", value)\n",
        "except KeyError as e:\n",
        "    print(\"KeyError:\", e)\n"
      ],
      "metadata": {
        "colab": {
          "base_uri": "https://localhost:8080/"
        },
        "id": "4FLiN38_-4MI",
        "outputId": "34b9f277-700f-4a57-a444-bd8c3430b2d3"
      },
      "execution_count": 2,
      "outputs": [
        {
          "output_type": "stream",
          "name": "stdout",
          "text": [
            "KeyError: 'd'\n"
          ]
        }
      ]
    },
    {
      "cell_type": "markdown",
      "source": [
        "In this example, we attempt to access the value associated with the key 'd' in the dictionary my_dict. However, since the key 'd' does not exist in the dictionary, a KeyError is raised."
      ],
      "metadata": {
        "id": "uyBB32rQ-74r"
      }
    },
    {
      "cell_type": "markdown",
      "source": [
        "2 . IndexError: This exception is raised when trying to access an index that is out of range in a sequence (e.g., list, tuple, string).\n",
        "Example:"
      ],
      "metadata": {
        "id": "clS8v3lB_Et8"
      }
    },
    {
      "cell_type": "code",
      "source": [
        "my_list = [1, 2, 3, 4, 5]\n",
        "\n",
        "try:\n",
        "    value = my_list[5]  # Trying to access an index that doesn't exist\n",
        "    print(\"Value:\", value)\n",
        "except IndexError as e:\n",
        "    print(\"IndexError:\", e)\n"
      ],
      "metadata": {
        "colab": {
          "base_uri": "https://localhost:8080/"
        },
        "id": "hrsX3ur-_LGd",
        "outputId": "cab72408-e8c8-4ff0-adae-1c567f540714"
      },
      "execution_count": 3,
      "outputs": [
        {
          "output_type": "stream",
          "name": "stdout",
          "text": [
            "IndexError: list index out of range\n"
          ]
        }
      ]
    },
    {
      "cell_type": "markdown",
      "source": [
        "In this example, we attempt to access the value at index 5 in the list my_list. However, since the list has only indices 0 to 4, accessing index 5 is out of range, leading to an IndexError.\n",
        "\n",
        "\n",
        "Both KeyError and IndexError are subclasses of LookupError, which means they inherit from it and are used to handle situations where a lookup operation fails due to an invalid key or index. Handling these exceptions appropriately helps in writing robust and error-tolerant code when working with mappings and sequences in Python.\n",
        "\n",
        "\n",
        "\n",
        "\n"
      ],
      "metadata": {
        "id": "ld0yGTJh_boc"
      }
    },
    {
      "cell_type": "markdown",
      "source": [
        "Q5. Explain ImportError. What is ModuleNotFoundError?"
      ],
      "metadata": {
        "id": "oNunY0b2_pSe"
      }
    },
    {
      "cell_type": "markdown",
      "source": [
        "Answer : - 1 . ImportError:\n",
        "\n",
        "ImportError is a base class for exceptions that occur when an import statement cannot find the module being imported or when there is an issue with importing a module for some reason.\n",
        "This exception can occur due to various reasons such as:\n",
        "The module file does not exist.\n",
        "The module file is not accessible due to file permissions.\n",
        "The module is in a directory not included in the Python module search path.\n",
        "There are syntax errors or other issues in the module being imported."
      ],
      "metadata": {
        "id": "Sm_Vxpk6_ybn"
      }
    },
    {
      "cell_type": "code",
      "source": [
        "try:\n",
        "    import non_existent_module\n",
        "except ImportError as e:\n",
        "    print(\"ImportError:\", e)\n"
      ],
      "metadata": {
        "colab": {
          "base_uri": "https://localhost:8080/"
        },
        "id": "Ayxg1ObQAG-p",
        "outputId": "6b6c1a21-68de-40c4-f047-3229bfd7e29a"
      },
      "execution_count": 4,
      "outputs": [
        {
          "output_type": "stream",
          "name": "stdout",
          "text": [
            "ImportError: No module named 'non_existent_module'\n"
          ]
        }
      ]
    },
    {
      "cell_type": "markdown",
      "source": [
        "2 . ModuleNotFoundError:\n",
        "\n",
        "ModuleNotFoundError is a subclass of ImportError that specifically indicates that the requested module could not be found.\n",
        "It was introduced in Python 3.6 to provide more specific information about failed imports.\n",
        "ModuleNotFoundError is raised when Python cannot locate the module specified in the import statement, regardless of the reason for the failure.\n",
        "Example:"
      ],
      "metadata": {
        "id": "tlnMEEpjAKD-"
      }
    },
    {
      "cell_type": "code",
      "source": [
        "try:\n",
        "    import non_existent_module\n",
        "except ModuleNotFoundError as e:\n",
        "    print(\"ModuleNotFoundError:\", e)\n"
      ],
      "metadata": {
        "colab": {
          "base_uri": "https://localhost:8080/"
        },
        "id": "EnZRUYOIAPGu",
        "outputId": "2c6309db-932a-41a1-d41f-8d2d608e940b"
      },
      "execution_count": 5,
      "outputs": [
        {
          "output_type": "stream",
          "name": "stdout",
          "text": [
            "ModuleNotFoundError: No module named 'non_existent_module'\n"
          ]
        }
      ]
    },
    {
      "cell_type": "markdown",
      "source": [
        "Similar to the previous example, this code tries to import a module named non_existent_module, and since it cannot be found, a ModuleNotFoundError is raised.\n",
        "In summary, both ImportError and ModuleNotFoundError are exceptions that indicate issues with importing modules in Python. While ImportError is a more general exception for import-related errors, ModuleNotFoundError is a specific subclass introduced to provide clearer information when a requested module cannot be found.\n",
        "\n",
        "\n",
        "\n",
        "\n"
      ],
      "metadata": {
        "id": "wOh3b0AtASlh"
      }
    },
    {
      "cell_type": "markdown",
      "source": [
        "Q6. List down some best practices for exception handling in python."
      ],
      "metadata": {
        "id": "TP39Hh3gAXTF"
      }
    },
    {
      "cell_type": "markdown",
      "source": [
        "Answer :- Specificity: Catch specific exceptions rather than using a generic except block. This allows you to handle different types of errors differently and provides clarity about the type of exceptions you expect.\n",
        "\n",
        "Use of try-except Blocks: Wrap the code that may raise an exception inside a try block and handle the exception(s) in the corresponding except block(s). This isolates the error-prone code and allows you to handle exceptions gracefully.\n",
        "\n",
        "Avoid Bare Excepts: Avoid using bare except blocks without specifying the exception type. Bare except blocks can catch unexpected exceptions, including system errors or KeyboardInterrupt, which may hide bugs or make debugging difficult.\n",
        "\n",
        "Cleanup with finally: Use the finally block to execute cleanup code that should always run, regardless of whether an exception occurred or not. This is useful for releasing resources such as file handles or network connections.\n",
        "\n",
        "Logging: Use Python's logging module to log exceptions and error messages. Logging helps in debugging and troubleshooting issues, especially in production environments where direct debugging may not be feasible.\n",
        "\n",
        "Raising Exceptions: Raise exceptions to indicate errors or exceptional conditions in your code. Use custom exception classes for specific error scenarios to provide meaningful error messages and to distinguish between different types of exceptions.\n",
        "\n",
        "Handle Exceptions Locally: Handle exceptions at an appropriate level in your code. Avoid catching exceptions too high in the call stack if they can be handled more effectively at a lower level where more context is available.\n",
        "\n",
        "Keep Exception Handling Simple: Keep exception handling code concise and focused on handling exceptions effectively. Avoid complex logic within except blocks, as it can make the code harder to understand and maintain.\n",
        "\n",
        "Use Context Managers: Utilize Python's context managers (with statements) for managing resources that need cleanup. Context managers ensure that cleanup actions are performed automatically, even in the presence of exceptions.\n",
        "\n",
        "Unit Testing: Write unit tests to verify the behavior of your code under different exception scenarios. Test both the expected behavior when exceptions occur and the behavior when exceptions are handled properly.\n",
        "\n",
        "By following these best practices, you can write Python code that is more robust, maintainable, and easier to debug in the presence of exceptions.\n",
        "\n",
        "\n",
        "\n",
        "\n"
      ],
      "metadata": {
        "id": "Nzg6tf-cA102"
      }
    },
    {
      "cell_type": "code",
      "source": [],
      "metadata": {
        "id": "HrOgqGVZBFZM"
      },
      "execution_count": null,
      "outputs": []
    },
    {
      "cell_type": "code",
      "execution_count": null,
      "metadata": {
        "id": "C_JyOA0s6Y7w"
      },
      "outputs": [],
      "source": []
    }
  ]
}