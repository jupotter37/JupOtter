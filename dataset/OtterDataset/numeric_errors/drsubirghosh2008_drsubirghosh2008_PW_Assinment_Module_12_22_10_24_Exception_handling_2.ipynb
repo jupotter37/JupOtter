{
  "nbformat": 4,
  "nbformat_minor": 0,
  "metadata": {
    "colab": {
      "provenance": [],
      "authorship_tag": "ABX9TyMJBEsOiyEmyQ+QllyqPLM6",
      "include_colab_link": true
    },
    "kernelspec": {
      "name": "python3",
      "display_name": "Python 3"
    },
    "language_info": {
      "name": "python"
    }
  },
  "cells": [
    {
      "cell_type": "markdown",
      "metadata": {
        "id": "view-in-github",
        "colab_type": "text"
      },
      "source": [
        "<a href=\"https://colab.research.google.com/github/drsubirghosh2008/drsubirghosh2008/blob/main/PW_Assinment_Module_12_22_10_24_Exception_handling_2.ipynb\" target=\"_parent\"><img src=\"https://colab.research.google.com/assets/colab-badge.svg\" alt=\"Open In Colab\"/></a>"
      ]
    },
    {
      "cell_type": "markdown",
      "source": [
        "Q1. Explain why we have to use the Exception class while creating a Custom Exception.\n",
        "\n",
        "Answer:\n",
        "When creating a custom exception in Python (or most object-oriented programming languages), we inherit from the built-in Exception class because:\n",
        "\n",
        "1. Inheriting Built-in Functionality: The Exception class provides the basic\n",
        "   mechanisms that any exception needs, such as carrying an error message, maintaining a traceback, and handling interrupt flows during execution. By inheriting from Exception, your custom exception class automatically gains these functionalities without needing to redefine them.\n",
        "\n",
        "2. Consistent Exception Hierarchy: Python organizes all exceptions into a\n",
        "   hierarchy that starts from the base class BaseException, followed by Exception, and then more specific subclasses. By inheriting from Exception, your custom exceptions become part of this hierarchy, which ensures that they are handled correctly by the existing try-except constructs.\n",
        "\n",
        "3. Standard Handling: Exception handling mechanisms (try-except blocks) are    designed to catch instances of Exception and its subclasses. If your custom exception doesn't inherit from Exception, it may not be caught correctly in these blocks, leading to unintended behavior.\n",
        "\n",
        "4. Code Readability and Maintenance: Creating a custom exception class that\n",
        "   inherits from Exception also improves code readability, as other developers (or even future you) can immediately recognize that your class is meant to represent an error condition. It aligns with common coding practices, making the code easier to maintain."
      ],
      "metadata": {
        "id": "MhfPQIfXR7o0"
      }
    },
    {
      "cell_type": "code",
      "source": [
        "class CustomError(Exception):\n",
        "    def __init__(self, message):\n",
        "        self.message = message\n",
        "        super().__init__(self.message)\n"
      ],
      "metadata": {
        "id": "lconPjVsSxUr"
      },
      "execution_count": null,
      "outputs": []
    },
    {
      "cell_type": "markdown",
      "source": [
        "In this example, CustomError inherits from Exception and can be used in a try-except block just like any other built-in exception."
      ],
      "metadata": {
        "id": "YFa4kbe5SzQb"
      }
    },
    {
      "cell_type": "markdown",
      "source": [
        "Q2. Write a python program to print Python Exception Hierarchy."
      ],
      "metadata": {
        "id": "tDVuyfbxS4gc"
      }
    },
    {
      "cell_type": "code",
      "source": [
        "# Answer:\n",
        "def print_exception_hierarchy(base_class, indent=0):\n",
        "    # Print the current class with indentation\n",
        "    print(\" \" * indent + base_class.__name__)\n",
        "    # Recursively print subclasses\n",
        "    for subclass in base_class.__subclasses__():\n",
        "        print_exception_hierarchy(subclass, indent + 4)\n",
        "\n",
        "# Start from the BaseException class\n",
        "print(\"Python Exception Hierarchy:\")\n",
        "print_exception_hierarchy(BaseException)\n"
      ],
      "metadata": {
        "colab": {
          "base_uri": "https://localhost:8080/"
        },
        "id": "5Xr0006vTHBb",
        "outputId": "2cf6b1b2-cf39-4047-e996-b2b5499af105"
      },
      "execution_count": null,
      "outputs": [
        {
          "output_type": "stream",
          "name": "stdout",
          "text": [
            "Python Exception Hierarchy:\n",
            "BaseException\n",
            "    Exception\n",
            "        TypeError\n",
            "            MultipartConversionError\n",
            "            FloatOperation\n",
            "            DTypePromotionError\n",
            "            UFuncTypeError\n",
            "                UFuncTypeError\n",
            "                    UFuncTypeError\n",
            "                UFuncTypeError\n",
            "                    UFuncTypeError\n",
            "                    UFuncTypeError\n",
            "            ConversionError\n",
            "        StopAsyncIteration\n",
            "        StopIteration\n",
            "        ImportError\n",
            "            ModuleNotFoundError\n",
            "                PackageNotFoundError\n",
            "            ZipImportError\n",
            "        OSError\n",
            "            ConnectionError\n",
            "                BrokenPipeError\n",
            "                ConnectionAbortedError\n",
            "                ConnectionRefusedError\n",
            "                ConnectionResetError\n",
            "                    RemoteDisconnected\n",
            "            BlockingIOError\n",
            "            ChildProcessError\n",
            "            FileExistsError\n",
            "            FileNotFoundError\n",
            "                ExecutableNotFoundError\n",
            "            IsADirectoryError\n",
            "            NotADirectoryError\n",
            "            InterruptedError\n",
            "                InterruptedSystemCall\n",
            "            PermissionError\n",
            "            ProcessLookupError\n",
            "            TimeoutError\n",
            "            UnsupportedOperation\n",
            "            itimer_error\n",
            "            Error\n",
            "                SameFileError\n",
            "            SpecialFileError\n",
            "            ExecError\n",
            "            ReadError\n",
            "            herror\n",
            "            gaierror\n",
            "            SSLError\n",
            "                SSLCertVerificationError\n",
            "                SSLZeroReturnError\n",
            "                SSLWantWriteError\n",
            "                SSLWantReadError\n",
            "                SSLSyscallError\n",
            "                SSLEOFError\n",
            "            URLError\n",
            "                HTTPError\n",
            "                ContentTooShortError\n",
            "            UnidentifiedImageError\n",
            "            BadGzipFile\n",
            "            ProxyError\n",
            "                GeneralProxyError\n",
            "                ProxyConnectionError\n",
            "                SOCKS5AuthError\n",
            "                SOCKS5Error\n",
            "                SOCKS4Error\n",
            "                HTTPError\n",
            "        EOFError\n",
            "            IncompleteReadError\n",
            "        RuntimeError\n",
            "            RecursionError\n",
            "            NotImplementedError\n",
            "                StdinNotImplementedError\n",
            "                ZMQVersionError\n",
            "            _DeadlockError\n",
            "            BrokenBarrierError\n",
            "            BrokenExecutor\n",
            "                BrokenThreadPool\n",
            "            SendfileNotAvailableError\n",
            "            RemovedCommandError\n",
            "            PackageDiscoveryError\n",
            "            TooHardError\n",
            "            ExtractionError\n",
            "            VariableError\n",
            "        NameError\n",
            "            UnboundLocalError\n",
            "        AttributeError\n",
            "            FrozenInstanceError\n",
            "        SyntaxError\n",
            "            IndentationError\n",
            "                TabError\n",
            "            ParseError\n",
            "        LookupError\n",
            "            IndexError\n",
            "                AxisError\n",
            "                OutOfBounds\n",
            "            KeyError\n",
            "                UnknownBackend\n",
            "                NoSuchKernel\n",
            "            CodecRegistryError\n",
            "        ValueError\n",
            "            UnicodeError\n",
            "                UnicodeEncodeError\n",
            "                UnicodeDecodeError\n",
            "                UnicodeTranslateError\n",
            "            UnsupportedOperation\n",
            "            JSONDecodeError\n",
            "            UnsupportedDigestmodError\n",
            "            Error\n",
            "            IllegalMonthError\n",
            "            IllegalWeekdayError\n",
            "            MessageDefect\n",
            "                NoBoundaryInMultipartDefect\n",
            "                StartBoundaryNotFoundDefect\n",
            "                CloseBoundaryNotFoundDefect\n",
            "                FirstHeaderLineIsContinuationDefect\n",
            "                MisplacedEnvelopeHeaderDefect\n",
            "                MissingHeaderBodySeparatorDefect\n",
            "                MultipartInvariantViolationDefect\n",
            "                InvalidMultipartContentTransferEncodingDefect\n",
            "                UndecodableBytesDefect\n",
            "                InvalidBase64PaddingDefect\n",
            "                InvalidBase64CharactersDefect\n",
            "                InvalidBase64LengthDefect\n",
            "                HeaderDefect\n",
            "                    InvalidHeaderDefect\n",
            "                    HeaderMissingRequiredValue\n",
            "                    NonPrintableDefect\n",
            "                    ObsoleteHeaderDefect\n",
            "                    NonASCIILocalPartDefect\n",
            "                    InvalidDateDefect\n",
            "            ClassNotFound\n",
            "            SSLCertVerificationError\n",
            "            ClipboardEmpty\n",
            "            MacroToEdit\n",
            "            ParserError\n",
            "            UnequalIterablesError\n",
            "            UnequalIterablesError\n",
            "            ELFInvalid\n",
            "            InvalidVersion\n",
            "            InvalidName\n",
            "            InvalidWheelFilename\n",
            "            InvalidSdistFilename\n",
            "            InvalidSpecifier\n",
            "            InvalidMarker\n",
            "            UndefinedComparison\n",
            "            UndefinedEnvironmentName\n",
            "            InvalidRequirement\n",
            "                RequirementParseError\n",
            "            DisabledFunctionError\n",
            "            AxisError\n",
            "            LinAlgError\n",
            "            DefusedXmlException\n",
            "                DTDForbidden\n",
            "                EntitiesForbidden\n",
            "                ExternalReferenceForbidden\n",
            "                NotSupportedError\n",
            "            NonIntersectingPathException\n",
            "            InvalidFileException\n",
            "        AssertionError\n",
            "        ArithmeticError\n",
            "            FloatingPointError\n",
            "            OverflowError\n",
            "            ZeroDivisionError\n",
            "                DivisionByZero\n",
            "                DivisionUndefined\n",
            "            DecimalException\n",
            "                Clamped\n",
            "                Rounded\n",
            "                    Underflow\n",
            "                    Overflow\n",
            "                Inexact\n",
            "                    Underflow\n",
            "                    Overflow\n",
            "                Subnormal\n",
            "                    Underflow\n",
            "                DivisionByZero\n",
            "                FloatOperation\n",
            "                InvalidOperation\n",
            "                    ConversionSyntax\n",
            "                    DivisionImpossible\n",
            "                    DivisionUndefined\n",
            "                    InvalidContext\n",
            "        SystemError\n",
            "            CodecRegistryError\n",
            "        ReferenceError\n",
            "        MemoryError\n",
            "            MemoryError\n",
            "        BufferError\n",
            "        Warning\n",
            "            UserWarning\n",
            "                GetPassWarning\n",
            "                FormatterWarning\n",
            "                SetuptoolsWarning\n",
            "                    InformationOnly\n",
            "                    SetuptoolsDeprecationWarning\n",
            "                        _AmbiguousMarker\n",
            "                        _DeprecatedConfig\n",
            "                        DistDeprecationWarning\n",
            "                    _MissingDynamic\n",
            "                    _ExperimentalConfiguration\n",
            "                    _ToolsTypoInMetadata\n",
            "                VisibleDeprecationWarning\n",
            "                RankWarning\n",
            "                ConversionWarning\n",
            "                RankWarning\n",
            "            EncodingWarning\n",
            "            DeprecationWarning\n",
            "                ProvisionalWarning\n",
            "                ModuleDeprecationWarning\n",
            "                MatplotlibDeprecationWarning\n",
            "            PendingDeprecationWarning\n",
            "            SyntaxWarning\n",
            "            RuntimeWarning\n",
            "                ProactorSelectorThreadWarning\n",
            "                UnknownTimezoneWarning\n",
            "                ComplexWarning\n",
            "                DecompressionBombWarning\n",
            "                PEP440Warning\n",
            "            FutureWarning\n",
            "                ProvisionalCompleterWarning\n",
            "                MaskedArrayFutureWarning\n",
            "            ImportWarning\n",
            "            UnicodeWarning\n",
            "            BytesWarning\n",
            "            ResourceWarning\n",
            "            DeprecatedTzFormatWarning\n",
            "            MathTextWarning\n",
            "            PkgResourcesDeprecationWarning\n",
            "        _OptionError\n",
            "        error\n",
            "        Verbose\n",
            "        Error\n",
            "        _Error\n",
            "        SubprocessError\n",
            "            CalledProcessError\n",
            "            TimeoutExpired\n",
            "        Error\n",
            "        TokenError\n",
            "        StopTokenizing\n",
            "        error\n",
            "        LZMAError\n",
            "        RegistryError\n",
            "        _GiveupOnFastCopy\n",
            "        ClassFoundException\n",
            "        EndOfBlock\n",
            "        TraitError\n",
            "        _GiveupOnSendfile\n",
            "        error\n",
            "        PickleError\n",
            "            PicklingError\n",
            "            UnpicklingError\n",
            "        _Stop\n",
            "        Empty\n",
            "        Full\n",
            "        ArgumentError\n",
            "        ArgumentTypeError\n",
            "        ConfigError\n",
            "            ConfigLoaderError\n",
            "                ArgumentError\n",
            "            ConfigFileNotFound\n",
            "        ConfigurableError\n",
            "            MultipleInstanceError\n",
            "        ApplicationError\n",
            "        ErrorDuringImport\n",
            "        BdbQuit\n",
            "        Restart\n",
            "        ExceptionPexpect\n",
            "            EOF\n",
            "            TIMEOUT\n",
            "        error\n",
            "        PtyProcessError\n",
            "        FindCmdError\n",
            "        HomeDirError\n",
            "        ProfileDirError\n",
            "        IPythonCoreError\n",
            "            TryNext\n",
            "            UsageError\n",
            "            StdinNotImplementedError\n",
            "        InputRejected\n",
            "        GetoptError\n",
            "        Incomplete\n",
            "        Error\n",
            "        BadZipFile\n",
            "        LargeZipFile\n",
            "        Error\n",
            "        MessageError\n",
            "            MessageParseError\n",
            "                HeaderParseError\n",
            "                    _InvalidEwError\n",
            "                BoundaryError\n",
            "            MultipartConversionError\n",
            "            CharsetError\n",
            "            HeaderWriteError\n",
            "        OptionError\n",
            "        ErrorToken\n",
            "        PrefilterError\n",
            "        AliasError\n",
            "            InvalidAliasError\n",
            "        Error\n",
            "            InterfaceError\n",
            "            DatabaseError\n",
            "                InternalError\n",
            "                OperationalError\n",
            "                ProgrammingError\n",
            "                IntegrityError\n",
            "                DataError\n",
            "                NotSupportedError\n",
            "        Warning\n",
            "        Error\n",
            "            CancelledError\n",
            "            TimeoutError\n",
            "            InvalidStateError\n",
            "        TimeoutError\n",
            "        InvalidStateError\n",
            "        LimitOverrunError\n",
            "        QueueEmpty\n",
            "        QueueFull\n",
            "        SpaceInInput\n",
            "        DOMException\n",
            "            IndexSizeErr\n",
            "            DomstringSizeErr\n",
            "            HierarchyRequestErr\n",
            "            WrongDocumentErr\n",
            "            InvalidCharacterErr\n",
            "            NoDataAllowedErr\n",
            "            NoModificationAllowedErr\n",
            "            NotFoundErr\n",
            "            NotSupportedErr\n",
            "            InuseAttributeErr\n",
            "            InvalidStateErr\n",
            "            SyntaxErr\n",
            "            InvalidModificationErr\n",
            "            NamespaceErr\n",
            "            InvalidAccessErr\n",
            "            ValidationErr\n",
            "        ValidationError\n",
            "        EditReadOnlyBuffer\n",
            "        _Retry\n",
            "        InvalidLayoutError\n",
            "        HeightIsUnknownError\n",
            "        ExpatError\n",
            "        ParseEscape\n",
            "        HTTPException\n",
            "            NotConnected\n",
            "            InvalidURL\n",
            "            UnknownProtocol\n",
            "            UnknownTransferEncoding\n",
            "            UnimplementedFileMode\n",
            "            IncompleteRead\n",
            "            ImproperConnectionState\n",
            "                CannotSendRequest\n",
            "                CannotSendHeader\n",
            "                ResponseNotReady\n",
            "            BadStatusLine\n",
            "                RemoteDisconnected\n",
            "            LineTooLong\n",
            "        InteractivelyDefined\n",
            "        KillEmbedded\n",
            "        ArgumentError\n",
            "        ZMQBaseError\n",
            "            ZMQError\n",
            "                ContextTerminated\n",
            "                Again\n",
            "                InterruptedSystemCall\n",
            "            ZMQBindError\n",
            "            NotDone\n",
            "        NoIPAddresses\n",
            "        Error\n",
            "            NoSectionError\n",
            "            DuplicateSectionError\n",
            "            DuplicateOptionError\n",
            "            NoOptionError\n",
            "            InterpolationError\n",
            "                InterpolationMissingOptionError\n",
            "                InterpolationSyntaxError\n",
            "                InterpolationDepthError\n",
            "            ParsingError\n",
            "                MissingSectionHeaderError\n",
            "        InvalidPortNumber\n",
            "        DuplicateKernelError\n",
            "        error\n",
            "        ReturnValueIgnoredError\n",
            "        KeyReuseError\n",
            "        UnknownKeyError\n",
            "        LeakedCallbackError\n",
            "        BadYieldError\n",
            "        ReturnValueIgnoredError\n",
            "        Return\n",
            "        QueueEmpty\n",
            "        QueueFull\n",
            "        IPythonError\n",
            "            KernelError\n",
            "                EngineError\n",
            "                NoEnginesRegistered\n",
            "                TaskAborted\n",
            "                TaskTimeout\n",
            "                UnmetDependency\n",
            "                    ImpossibleDependency\n",
            "                        DependencyTimeout\n",
            "                        InvalidDependency\n",
            "                RemoteError\n",
            "                    CompositeError\n",
            "                    AlreadyDisplayedError\n",
            "                TaskRejectError\n",
            "        ProcessError\n",
            "            BufferTooShort\n",
            "            TimeoutError\n",
            "            AuthenticationError\n",
            "        BadEntryPoint\n",
            "        NoSuchEntryPoint\n",
            "        Error\n",
            "            NoSuchProcess\n",
            "                ZombieProcess\n",
            "            AccessDenied\n",
            "            TimeoutExpired\n",
            "        _Ipv6UnsupportedError\n",
            "        LauncherError\n",
            "            ProcessStateError\n",
            "            UnknownStatus\n",
            "            NotRunning\n",
            "        DistutilsError\n",
            "            DistutilsModuleError\n",
            "            DistutilsClassError\n",
            "            DistutilsGetoptError\n",
            "            DistutilsArgError\n",
            "            DistutilsFileError\n",
            "            DistutilsOptionError\n",
            "                InvalidConfigError\n",
            "                RemovedConfigError\n",
            "            DistutilsSetupError\n",
            "            DistutilsPlatformError\n",
            "            DistutilsExecError\n",
            "            DistutilsInternalError\n",
            "            DistutilsTemplateError\n",
            "            DistutilsByteCompileError\n",
            "            RemovedCommandError\n",
            "            PackageDiscoveryError\n",
            "        CCompilerError\n",
            "            PreprocessError\n",
            "            CompileError\n",
            "            LibError\n",
            "            LinkError\n",
            "            UnknownFileError\n",
            "        TarError\n",
            "            ExtractError\n",
            "            ReadError\n",
            "            CompressionError\n",
            "            StreamError\n",
            "            HeaderError\n",
            "                EmptyHeaderError\n",
            "                TruncatedHeaderError\n",
            "                EOFHeaderError\n",
            "                InvalidHeaderError\n",
            "                SubsequentHeaderError\n",
            "            FilterError\n",
            "                AbsolutePathError\n",
            "                OutsideDestinationError\n",
            "                SpecialFileError\n",
            "                AbsoluteLinkError\n",
            "                LinkOutsideDestinationError\n",
            "        ParserSyntaxError\n",
            "        Error\n",
            "            AuthorizationError\n",
            "            RuntimeManagementError\n",
            "            MessageError\n",
            "        WidgetException\n",
            "        JsException\n",
            "        ConverterError\n",
            "            ConverterLockError\n",
            "        MAError\n",
            "            MaskError\n",
            "        FormattedTracebackError\n",
            "        ParseBaseException\n",
            "            ParseException\n",
            "            ParseFatalException\n",
            "                ParseSyntaxException\n",
            "        RecursiveGrammarException\n",
            "        _ParseActionIndexError\n",
            "        HttpLib2Error\n",
            "            HttpLib2ErrorWithResponse\n",
            "                RedirectMissingLocation\n",
            "                RedirectLimit\n",
            "                FailedToDecompressContent\n",
            "                UnimplementedDigestAuthOptionError\n",
            "                UnimplementedHmacDigestAuthOptionError\n",
            "            MalformedHeader\n",
            "            RelativeURIError\n",
            "            ServerNotFoundError\n",
            "            ProxiesUnavailableError\n",
            "        DecompressionBombError\n",
            "        FFIError\n",
            "        CDefError\n",
            "        VerificationError\n",
            "        VerificationMissing\n",
            "        PkgConfigError\n",
            "        BadRequiredStrength\n",
            "        DuplicateConstraint\n",
            "        DuplicateEditVariable\n",
            "        UnknownConstraint\n",
            "        UnknownEditVariable\n",
            "        UnsatisfiableConstraint\n",
            "        NonGuiException\n",
            "        InvalidIndexError\n",
            "        TerminateTrajectory\n",
            "        NoFreePortFoundError\n",
            "        DebuggerInitializationError\n",
            "        Error\n",
            "            ProtocolError\n",
            "            ResponseError\n",
            "            Fault\n",
            "        ResolutionError\n",
            "            VersionConflict\n",
            "                ContextualVersionConflict\n",
            "            DistributionNotFound\n",
            "            UnknownExtra\n",
            "        _Error\n",
            "        UnableToResolveVariableException\n",
            "        InvalidTypeInArgsException\n",
            "        CustomError\n",
            "    GeneratorExit\n",
            "    SystemExit\n",
            "    KeyboardInterrupt\n",
            "    CancelledError\n",
            "    AbortThread\n"
          ]
        }
      ]
    },
    {
      "cell_type": "markdown",
      "source": [
        "Q3. What errors are defined in the ArithmeticError class? Explain any two with an example.\n",
        "\n",
        "Answer:\n",
        "The ArithmeticError class in Python is a built-in exception that serves as a base class for all errors related to numeric calculations. It is the parent class of three main error types:\n",
        "\n",
        "ZeroDivisionError: Raised when a division or modulo operation is performed with zero as the divisor.\n",
        "OverflowError: Raised when the result of an arithmetic operation is too large to be represented within the allowable range of numeric types.\n",
        "FloatingPointError: Raised when a floating-point operation fails. However, in practice, this error is rarely used in Python.\n",
        "Let's explain ZeroDivisionError and OverflowError in detail with examples.\n",
        "\n",
        "1. ZeroDivisionError\n",
        "This error occurs when you attempt to divide a number by zero, which is mathematically undefined."
      ],
      "metadata": {
        "id": "9dmZ9WbnTTlE"
      }
    },
    {
      "cell_type": "code",
      "source": [
        "try:\n",
        "    result = 10 / 0\n",
        "except ZeroDivisionError as e:\n",
        "    print(f\"Error: {e}\")\n",
        "## In this example, a division by zero (10 / 0) is attempted, which raises a ZeroDivisionError.\n",
        "# The program catches the exception using a try-except block and prints the error message."
      ],
      "metadata": {
        "colab": {
          "base_uri": "https://localhost:8080/"
        },
        "id": "roRw31-cTzD0",
        "outputId": "70ae07d9-a985-44c7-a10e-a99536aad488"
      },
      "execution_count": null,
      "outputs": [
        {
          "output_type": "stream",
          "name": "stdout",
          "text": [
            "Error: division by zero\n"
          ]
        }
      ]
    },
    {
      "cell_type": "markdown",
      "source": [
        "2. OverflowError\n",
        "This error occurs when the result of a mathematical operation is too large to be represented by the machine’s floating-point number system."
      ],
      "metadata": {
        "id": "VDS6k_F_T1CC"
      }
    },
    {
      "cell_type": "code",
      "source": [
        "import math\n",
        "\n",
        "try:\n",
        "    result = math.exp(1000)  # Exponential function that will cause overflow\n",
        "except OverflowError as e:\n",
        "    print(f\"Error: {e}\")\n",
        "## In this example, we are trying to calculate exp(1000) (i.e., e^1000),\n",
        "## which results in a number that is too large to fit within the floating-point range of the system.\n",
        "## Python raises an OverflowError, which is caught by the except block and prints an error message."
      ],
      "metadata": {
        "colab": {
          "base_uri": "https://localhost:8080/"
        },
        "id": "u__gJ2PWUVA8",
        "outputId": "6fb9a8df-67cf-4d3c-b20a-049698a71f70"
      },
      "execution_count": null,
      "outputs": [
        {
          "output_type": "stream",
          "name": "stdout",
          "text": [
            "Error: math range error\n"
          ]
        }
      ]
    },
    {
      "cell_type": "markdown",
      "source": [
        "Q4. Why LookupError class is used? Explain with an example KeyError and IndexError.\n",
        "\n",
        "Answer:\n",
        "\n",
        "The LookupError class in Python is a built-in exception that acts as the base class for all errors raised when a key or index used to access data structures (like dictionaries or lists) is not found.\n",
        "\n",
        "The LookupError class allows for more generalized exception handling in cases where a key or index may be invalid, without having to catch both KeyError and IndexError separately.\n",
        "\n",
        "If  working with both dictionaries and lists (or other sequences), and you don't care whether the error is a key or index issue, it can catch LookupError to handle both cases.\n",
        "\n",
        "It is the parent class of specific lookup-related errors such as:\n",
        "\n",
        "1. KeyError: Raised when a dictionary key is not found.\n",
        "2. IndexError: Raised when a sequence index (such as a list or a tuple) is out of range.\n",
        "By using LookupError as a parent class, Python allows  to catch all lookup-related errors in a generic way, or handle them more specifically (e.g., using KeyError or IndexError)."
      ],
      "metadata": {
        "id": "PM6BnmEwUr1U"
      }
    },
    {
      "cell_type": "code",
      "source": [
        "# LookupError:\n",
        "try:\n",
        "    my_dict = {'name': 'Alice'}\n",
        "    value = my_dict['age']  # KeyError\n",
        "except LookupError as e:\n",
        "    print(f\"LookupError caught: {e}\")\n"
      ],
      "metadata": {
        "colab": {
          "base_uri": "https://localhost:8080/"
        },
        "id": "6N3HaUTQV25T",
        "outputId": "5d5b313c-7c09-4a15-e15d-cf03efbb761b"
      },
      "execution_count": null,
      "outputs": [
        {
          "output_type": "stream",
          "name": "stdout",
          "text": [
            "LookupError caught: 'age'\n"
          ]
        }
      ]
    },
    {
      "cell_type": "code",
      "source": [
        "# KeyError:\n",
        "my_dict = {'name': 'Alice', 'age': 25}\n",
        "\n",
        "try:\n",
        "    value = my_dict['address']  # 'address' key does not exist\n",
        "except KeyError as e:\n",
        "    print(f\"KeyError: {e}\")\n"
      ],
      "metadata": {
        "colab": {
          "base_uri": "https://localhost:8080/"
        },
        "id": "Lq_jJ4UJV_1S",
        "outputId": "e00036cb-867f-46ef-d07b-af7e5f61cafa"
      },
      "execution_count": null,
      "outputs": [
        {
          "output_type": "stream",
          "name": "stdout",
          "text": [
            "KeyError: 'address'\n"
          ]
        }
      ]
    },
    {
      "cell_type": "code",
      "source": [
        "# IndexError:\n",
        "my_list = [1, 2, 3]\n",
        "\n",
        "try:\n",
        "    value = my_list[5]  # Index 5 is out of range\n",
        "except IndexError as e:\n",
        "    print(f\"IndexError: {e}\")\n"
      ],
      "metadata": {
        "colab": {
          "base_uri": "https://localhost:8080/"
        },
        "id": "h24XBZ7YWK7S",
        "outputId": "f13b5c56-5218-4c3b-fc7d-3fa8f6f97b3b"
      },
      "execution_count": null,
      "outputs": [
        {
          "output_type": "stream",
          "name": "stdout",
          "text": [
            "IndexError: list index out of range\n"
          ]
        }
      ]
    },
    {
      "cell_type": "markdown",
      "source": [
        "Q5. Explain ImportError. What is ModuleNotFoundError?\n",
        "\n",
        "Answer:\n",
        "\n",
        "ImportError\n",
        "ImportError is a built-in Python exception that is raised when an import statement fails to import a module or a specific attribute (function, class, variable) from a module. This can happen due to several reasons, such as:\n",
        "\n",
        "The module or package is not installed.\n",
        "The module's name is misspelled.\n",
        "The Python interpreter cannot find the module due to incorrect paths or environment configurations.\n",
        "An attempt is made to import a function or attribute that does not exist in the module."
      ],
      "metadata": {
        "id": "IGXk3oM4WTe7"
      }
    },
    {
      "cell_type": "code",
      "source": [
        "# Example of ImportError:\n",
        "try:\n",
        "    from math import square_root  # No such function 'square_root' in the math module\n",
        "except ImportError as e:\n",
        "    print(f\"ImportError: {e}\")\n"
      ],
      "metadata": {
        "colab": {
          "base_uri": "https://localhost:8080/"
        },
        "id": "MRJOCewRWprz",
        "outputId": "8ab803a7-8df7-4ef9-f33f-f25a8346c8cd"
      },
      "execution_count": null,
      "outputs": [
        {
          "output_type": "stream",
          "name": "stdout",
          "text": [
            "ImportError: cannot import name 'square_root' from 'math' (unknown location)\n"
          ]
        }
      ]
    },
    {
      "cell_type": "markdown",
      "source": [
        "ModuleNotFoundError\n",
        "ModuleNotFoundError is a subclass of ImportError that was introduced in Python 3.6 to specifically handle the case where the module being imported cannot be found. It is raised when Python cannot locate the module you are trying to import. Before Python 3.6, this situation also raised an ImportError, but now ModuleNotFoundError distinguishes module-not-found errors from other types of import errors."
      ],
      "metadata": {
        "id": "H9si6LgvWyWz"
      }
    },
    {
      "cell_type": "code",
      "source": [
        "# Example of ModuleNotFoundError:\n",
        "try:\n",
        "    import nonexistent_module  # This module does not exist\n",
        "except ModuleNotFoundError as e:\n",
        "    print(f\"ModuleNotFoundError: {e}\")\n"
      ],
      "metadata": {
        "colab": {
          "base_uri": "https://localhost:8080/"
        },
        "id": "1ide8LszW8IT",
        "outputId": "1eedf4d9-c68c-4185-b44d-e47846b8c8be"
      },
      "execution_count": null,
      "outputs": [
        {
          "output_type": "stream",
          "name": "stdout",
          "text": [
            "ModuleNotFoundError: No module named 'nonexistent_module'\n"
          ]
        }
      ]
    },
    {
      "cell_type": "markdown",
      "source": [
        "Q6. List down some best practices for exception handling in python.\n",
        "\n",
        "Answer:\n",
        "\n",
        "Effective exception handling in Python can make your code more robust, readable, and maintainable. Below are some best practices for handling exceptions in Python:\n",
        "\n",
        "1. Catch Specific Exceptions\n",
        "Always catch specific exceptions rather than using a generic except block. This makes it clear what type of error you expect and prevents unintended masking of unrelated errors.\n",
        "\n",
        "2. Avoid Catching Generic Exception (or BaseException)\n",
        "Catching all exceptions using except Exception can make debugging difficult by hiding unexpected errors. Only use it when absolutely necessary, and even then, log or re-raise the exception if needed.\n",
        "\n",
        "3. Use finally for Cleanup Actions\n",
        "The finally block is executed no matter what happens, whether an exception is raised or not. Use it for cleanup actions like closing files or releasing resources.\n",
        "\n",
        "4. Leverage the else Block\n",
        "The else block in a try-except construct is executed if no exceptions are raised. This is useful for code that should only run when the try block is successful.\n",
        "\n",
        "5. Use Exceptions for Exceptional Situations\n",
        "Avoid using exceptions for flow control or non-exceptional situations. Exceptions should represent truly exceptional conditions, not for common control flow.\n",
        "\n",
        "6. Log Exceptions for Debugging\n",
        "Log exceptions using Python’s logging module rather than simply printing them. This provides better control over log levels, formatting, and allows you to store logs for future analysis.\n",
        "\n",
        "7. Use Exception Hierarchy for Cleaner Code\n",
        "You can catch multiple related exceptions by handling their common base class. For example, LookupError is the base class for both KeyError and IndexError.\n",
        "\n",
        "8. Re-raise Exceptions When Necessary\n",
        "Sometimes you need to catch an exception to perform some action (e.g., logging), but still want to propagate it upward. You can use raise to re-raise the exception after handling it.\n",
        "\n",
        "9. Create Custom Exceptions for Specific Use Cases\n",
        "When creating custom exceptions, inherit from the Exception class and provide clear error messages. This can make your code more readable and your errors more meaningful.\n",
        "\n",
        "10. Avoid Silent Failures\n",
        "Avoid using empty except blocks that swallow exceptions without any handling or logging. This can make it very hard to debug issues, as errors will be ignored.\n",
        "\n",
        "11. Keep try-except Blocks Short\n",
        "Place only the necessary code inside the try block. The shorter the try block, the easier it is to identify the source of an exception and handle it appropriately.\n",
        "\n",
        "12. Document Exception Handling\n",
        "Clearly document any exceptions your functions might raise, especially if they are part of a public API. This helps users of your code understand what to expect and how to handle those exceptions.\n",
        "\n",
        "By following these best practices, you can make your exception handling more predictable, informative, and easier to maintain."
      ],
      "metadata": {
        "id": "-0ioERsPXGnu"
      }
    },
    {
      "cell_type": "code",
      "source": [
        "try:\n",
        "    result = 10 / 0\n",
        "except ZeroDivisionError:\n",
        "    print(\"Cannot divide by zero.\")\n"
      ],
      "metadata": {
        "colab": {
          "base_uri": "https://localhost:8080/"
        },
        "id": "mc90ooLWYAQq",
        "outputId": "eaaad73c-eccf-43ad-89bd-3f99a276da33"
      },
      "execution_count": null,
      "outputs": [
        {
          "output_type": "stream",
          "name": "stdout",
          "text": [
            "Cannot divide by zero.\n"
          ]
        }
      ]
    },
    {
      "cell_type": "markdown",
      "source": [
        "Thank You!"
      ],
      "metadata": {
        "id": "S9Uvrz8IYK2z"
      }
    }
  ]
}