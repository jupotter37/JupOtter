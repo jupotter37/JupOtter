{
 "cells": [
  {
   "cell_type": "markdown",
   "id": "a44afdaf-2c66-4c0f-92fb-4f8d52bef5c3",
   "metadata": {},
   "source": [
    "##### 1) A Custom Exception can be raised if a class inheriting the super class 'Exception' is defined wherein the custom exception message is defined. So, Exception class is basically the super/parent class for our defined exception class which will inherit all the methods and properties of the parent class."
   ]
  },
  {
   "cell_type": "code",
   "execution_count": 4,
   "id": "50fff7ae-3175-406c-b387-45a79b2fd635",
   "metadata": {},
   "outputs": [],
   "source": [
    "#2)\n",
    "def hierarchy(cls, i = 0):\n",
    "    print(\"*\" * i,cls.__name__)\n",
    "    for j in cls.__subclasses__():\n",
    "        hierarchy(j,i + 1)"
   ]
  },
  {
   "cell_type": "code",
   "execution_count": 5,
   "id": "30498bb5-041d-4375-bf66-82e4376072bd",
   "metadata": {
    "collapsed": true,
    "jupyter": {
     "outputs_hidden": true
    },
    "tags": []
   },
   "outputs": [
    {
     "name": "stdout",
     "output_type": "stream",
     "text": [
      " BaseException\n",
      "* Exception\n",
      "** TypeError\n",
      "*** FloatOperation\n",
      "*** MultipartConversionError\n",
      "** StopAsyncIteration\n",
      "** StopIteration\n",
      "** ImportError\n",
      "*** ModuleNotFoundError\n",
      "*** ZipImportError\n",
      "** OSError\n",
      "*** ConnectionError\n",
      "**** BrokenPipeError\n",
      "**** ConnectionAbortedError\n",
      "**** ConnectionRefusedError\n",
      "**** ConnectionResetError\n",
      "***** RemoteDisconnected\n",
      "*** BlockingIOError\n",
      "*** ChildProcessError\n",
      "*** FileExistsError\n",
      "*** FileNotFoundError\n",
      "*** IsADirectoryError\n",
      "*** NotADirectoryError\n",
      "*** InterruptedError\n",
      "**** InterruptedSystemCall\n",
      "*** PermissionError\n",
      "*** ProcessLookupError\n",
      "*** TimeoutError\n",
      "*** UnsupportedOperation\n",
      "*** itimer_error\n",
      "*** herror\n",
      "*** gaierror\n",
      "*** SSLError\n",
      "**** SSLCertVerificationError\n",
      "**** SSLZeroReturnError\n",
      "**** SSLWantWriteError\n",
      "**** SSLWantReadError\n",
      "**** SSLSyscallError\n",
      "**** SSLEOFError\n",
      "*** Error\n",
      "**** SameFileError\n",
      "*** SpecialFileError\n",
      "*** ExecError\n",
      "*** ReadError\n",
      "*** URLError\n",
      "**** HTTPError\n",
      "**** ContentTooShortError\n",
      "*** BadGzipFile\n",
      "** EOFError\n",
      "*** IncompleteReadError\n",
      "** RuntimeError\n",
      "*** RecursionError\n",
      "*** NotImplementedError\n",
      "**** ZMQVersionError\n",
      "**** StdinNotImplementedError\n",
      "*** _DeadlockError\n",
      "*** BrokenBarrierError\n",
      "*** BrokenExecutor\n",
      "**** BrokenThreadPool\n",
      "*** SendfileNotAvailableError\n",
      "*** ExtractionError\n",
      "*** VariableError\n",
      "** NameError\n",
      "*** UnboundLocalError\n",
      "** AttributeError\n",
      "*** FrozenInstanceError\n",
      "** SyntaxError\n",
      "*** IndentationError\n",
      "**** TabError\n",
      "** LookupError\n",
      "*** IndexError\n",
      "*** KeyError\n",
      "**** NoSuchKernel\n",
      "**** UnknownBackend\n",
      "*** CodecRegistryError\n",
      "** ValueError\n",
      "*** UnicodeError\n",
      "**** UnicodeEncodeError\n",
      "**** UnicodeDecodeError\n",
      "**** UnicodeTranslateError\n",
      "*** UnsupportedOperation\n",
      "*** JSONDecodeError\n",
      "*** SSLCertVerificationError\n",
      "*** Error\n",
      "*** UnsupportedDigestmodError\n",
      "*** IllegalMonthError\n",
      "*** IllegalWeekdayError\n",
      "*** ParserError\n",
      "*** ClassNotFound\n",
      "*** ClipboardEmpty\n",
      "*** MessageDefect\n",
      "**** NoBoundaryInMultipartDefect\n",
      "**** StartBoundaryNotFoundDefect\n",
      "**** CloseBoundaryNotFoundDefect\n",
      "**** FirstHeaderLineIsContinuationDefect\n",
      "**** MisplacedEnvelopeHeaderDefect\n",
      "**** MissingHeaderBodySeparatorDefect\n",
      "**** MultipartInvariantViolationDefect\n",
      "**** InvalidMultipartContentTransferEncodingDefect\n",
      "**** UndecodableBytesDefect\n",
      "**** InvalidBase64PaddingDefect\n",
      "**** InvalidBase64CharactersDefect\n",
      "**** InvalidBase64LengthDefect\n",
      "**** HeaderDefect\n",
      "***** InvalidHeaderDefect\n",
      "***** HeaderMissingRequiredValue\n",
      "***** NonPrintableDefect\n",
      "***** ObsoleteHeaderDefect\n",
      "***** NonASCIILocalPartDefect\n",
      "***** InvalidDateDefect\n",
      "*** MacroToEdit\n",
      "*** InvalidFileException\n",
      "*** UnequalIterablesError\n",
      "*** InvalidVersion\n",
      "*** _InvalidELFFileHeader\n",
      "*** InvalidWheelFilename\n",
      "*** InvalidSdistFilename\n",
      "*** InvalidSpecifier\n",
      "*** InvalidMarker\n",
      "*** UndefinedComparison\n",
      "*** UndefinedEnvironmentName\n",
      "*** InvalidRequirement\n",
      "**** RequirementParseError\n",
      "*** InvalidVersion\n",
      "** AssertionError\n",
      "** ArithmeticError\n",
      "*** FloatingPointError\n",
      "*** OverflowError\n",
      "*** ZeroDivisionError\n",
      "**** DivisionByZero\n",
      "**** DivisionUndefined\n",
      "*** DecimalException\n",
      "**** Clamped\n",
      "**** Rounded\n",
      "***** Underflow\n",
      "***** Overflow\n",
      "**** Inexact\n",
      "***** Underflow\n",
      "***** Overflow\n",
      "**** Subnormal\n",
      "***** Underflow\n",
      "**** DivisionByZero\n",
      "**** FloatOperation\n",
      "**** InvalidOperation\n",
      "***** ConversionSyntax\n",
      "***** DivisionImpossible\n",
      "***** DivisionUndefined\n",
      "***** InvalidContext\n",
      "** SystemError\n",
      "*** CodecRegistryError\n",
      "** ReferenceError\n",
      "** MemoryError\n",
      "** BufferError\n",
      "** Warning\n",
      "*** UserWarning\n",
      "**** GetPassWarning\n",
      "**** FormatterWarning\n",
      "*** EncodingWarning\n",
      "*** DeprecationWarning\n",
      "**** ProvisionalWarning\n",
      "*** PendingDeprecationWarning\n",
      "*** SyntaxWarning\n",
      "*** RuntimeWarning\n",
      "**** ProactorSelectorThreadWarning\n",
      "**** UnknownTimezoneWarning\n",
      "**** PEP440Warning\n",
      "*** FutureWarning\n",
      "**** ProvisionalCompleterWarning\n",
      "*** ImportWarning\n",
      "*** UnicodeWarning\n",
      "*** BytesWarning\n",
      "*** ResourceWarning\n",
      "*** DeprecatedTzFormatWarning\n",
      "*** PkgResourcesDeprecationWarning\n",
      "** _OptionError\n",
      "** _Error\n",
      "** error\n",
      "** Verbose\n",
      "** Error\n",
      "** SubprocessError\n",
      "*** CalledProcessError\n",
      "*** TimeoutExpired\n",
      "** TokenError\n",
      "** StopTokenizing\n",
      "** ClassFoundException\n",
      "** EndOfBlock\n",
      "** TraitError\n",
      "** Error\n",
      "** Error\n",
      "*** CancelledError\n",
      "*** TimeoutError\n",
      "*** InvalidStateError\n",
      "** _GiveupOnSendfile\n",
      "** error\n",
      "** Incomplete\n",
      "** TimeoutError\n",
      "** InvalidStateError\n",
      "** LimitOverrunError\n",
      "** QueueEmpty\n",
      "** QueueFull\n",
      "** Empty\n",
      "** Full\n",
      "** ArgumentError\n",
      "** ZMQBaseError\n",
      "*** ZMQError\n",
      "**** ContextTerminated\n",
      "**** Again\n",
      "**** InterruptedSystemCall\n",
      "*** ZMQBindError\n",
      "*** NotDone\n",
      "** PickleError\n",
      "*** PicklingError\n",
      "*** UnpicklingError\n",
      "** _Stop\n",
      "** ArgumentError\n",
      "** ArgumentTypeError\n",
      "** ConfigError\n",
      "*** ConfigLoaderError\n",
      "**** ArgumentError\n",
      "*** ConfigFileNotFound\n",
      "** ConfigurableError\n",
      "*** MultipleInstanceError\n",
      "** ApplicationError\n",
      "** error\n",
      "** TimeoutError\n",
      "** error\n",
      "** ReturnValueIgnoredError\n",
      "** KeyReuseError\n",
      "** UnknownKeyError\n",
      "** LeakedCallbackError\n",
      "** BadYieldError\n",
      "** ReturnValueIgnoredError\n",
      "** Return\n",
      "** InvalidPortNumber\n",
      "** error\n",
      "** LZMAError\n",
      "** RegistryError\n",
      "** _GiveupOnFastCopy\n",
      "** Error\n",
      "*** NoSectionError\n",
      "*** DuplicateSectionError\n",
      "*** DuplicateOptionError\n",
      "*** NoOptionError\n",
      "*** InterpolationError\n",
      "**** InterpolationMissingOptionError\n",
      "**** InterpolationSyntaxError\n",
      "**** InterpolationDepthError\n",
      "*** ParsingError\n",
      "**** MissingSectionHeaderError\n",
      "** NoIPAddresses\n",
      "** BadZipFile\n",
      "** LargeZipFile\n",
      "** BadEntryPoint\n",
      "** NoSuchEntryPoint\n",
      "** DuplicateKernelError\n",
      "** ErrorDuringImport\n",
      "** NotOneValueFound\n",
      "** CannotEval\n",
      "** OptionError\n",
      "** BdbQuit\n",
      "** Restart\n",
      "** ExceptionPexpect\n",
      "*** EOF\n",
      "*** TIMEOUT\n",
      "** PtyProcessError\n",
      "** FindCmdError\n",
      "** HomeDirError\n",
      "** ProfileDirError\n",
      "** IPythonCoreError\n",
      "*** TryNext\n",
      "*** UsageError\n",
      "*** StdinNotImplementedError\n",
      "** InputRejected\n",
      "** GetoptError\n",
      "** ErrorToken\n",
      "** PrefilterError\n",
      "** AliasError\n",
      "*** InvalidAliasError\n",
      "** Error\n",
      "*** InterfaceError\n",
      "*** DatabaseError\n",
      "**** InternalError\n",
      "**** OperationalError\n",
      "**** ProgrammingError\n",
      "**** IntegrityError\n",
      "**** DataError\n",
      "**** NotSupportedError\n",
      "** Warning\n",
      "** SpaceInInput\n",
      "** DOMException\n",
      "*** IndexSizeErr\n",
      "*** DomstringSizeErr\n",
      "*** HierarchyRequestErr\n",
      "*** WrongDocumentErr\n",
      "*** InvalidCharacterErr\n",
      "*** NoDataAllowedErr\n",
      "*** NoModificationAllowedErr\n",
      "*** NotFoundErr\n",
      "*** NotSupportedErr\n",
      "*** InuseAttributeErr\n",
      "*** InvalidStateErr\n",
      "*** SyntaxErr\n",
      "*** InvalidModificationErr\n",
      "*** NamespaceErr\n",
      "*** InvalidAccessErr\n",
      "*** ValidationErr\n",
      "** ValidationError\n",
      "** EditReadOnlyBuffer\n",
      "** _Retry\n",
      "** InvalidLayoutError\n",
      "** HeightIsUnknownError\n",
      "** ParserSyntaxError\n",
      "** InternalParseError\n",
      "** _PositionUpdatingFinished\n",
      "** SimpleGetItemNotFound\n",
      "** UncaughtAttributeError\n",
      "** HasNoContext\n",
      "** ParamIssue\n",
      "** _JediError\n",
      "*** InternalError\n",
      "*** WrongVersion\n",
      "*** RefactoringError\n",
      "** OnErrorLeaf\n",
      "** InvalidPythonEnvironment\n",
      "** MessageError\n",
      "*** MessageParseError\n",
      "**** HeaderParseError\n",
      "**** BoundaryError\n",
      "*** MultipartConversionError\n",
      "*** CharsetError\n",
      "** Error\n",
      "** HTTPException\n",
      "*** NotConnected\n",
      "*** InvalidURL\n",
      "*** UnknownProtocol\n",
      "*** UnknownTransferEncoding\n",
      "*** UnimplementedFileMode\n",
      "*** IncompleteRead\n",
      "*** ImproperConnectionState\n",
      "**** CannotSendRequest\n",
      "**** CannotSendHeader\n",
      "**** ResponseNotReady\n",
      "*** BadStatusLine\n",
      "**** RemoteDisconnected\n",
      "*** LineTooLong\n",
      "** InteractivelyDefined\n",
      "** KillEmbedded\n",
      "** Error\n",
      "*** NoSuchProcess\n",
      "**** ZombieProcess\n",
      "*** AccessDenied\n",
      "*** TimeoutExpired\n",
      "** _Ipv6UnsupportedError\n",
      "** QueueEmpty\n",
      "** QueueFull\n",
      "** DebuggerInitializationError\n",
      "** ExpatError\n",
      "** Error\n",
      "*** ProtocolError\n",
      "*** ResponseError\n",
      "*** Fault\n",
      "** ParseBaseException\n",
      "*** ParseException\n",
      "*** ParseFatalException\n",
      "**** ParseSyntaxException\n",
      "** RecursiveGrammarException\n",
      "** ResolutionError\n",
      "*** VersionConflict\n",
      "**** ContextualVersionConflict\n",
      "*** DistributionNotFound\n",
      "*** UnknownExtra\n",
      "** _Error\n",
      "** UnableToResolveVariableException\n",
      "** InvalidTypeInArgsException\n",
      "* GeneratorExit\n",
      "* SystemExit\n",
      "* KeyboardInterrupt\n",
      "* CancelledError\n",
      "* AbortThread\n"
     ]
    }
   ],
   "source": [
    "hierarchy(BaseException)"
   ]
  },
  {
   "cell_type": "markdown",
   "id": "a4388c97-230d-4ec4-b99e-91b79fcedb04",
   "metadata": {},
   "source": [
    "##### 3)FloatingPointError, OverflowError, ZeroDivisionError, DecimalException are defined in ArithmeticError class."
   ]
  },
  {
   "cell_type": "code",
   "execution_count": 10,
   "id": "53eaec8f-a598-409e-9659-abe766f6cc89",
   "metadata": {},
   "outputs": [
    {
     "name": "stdout",
     "output_type": "stream",
     "text": [
      "Exception :  division by zero\n"
     ]
    }
   ],
   "source": [
    "# ZeroDivisionError:\n",
    "try:\n",
    "    1 / 0\n",
    "except ZeroDivisionError as e:\n",
    "    print(\"Exception : \",e)"
   ]
  },
  {
   "cell_type": "code",
   "execution_count": 12,
   "id": "059d7a97-cf54-4c49-9dd2-d88bfd6f9658",
   "metadata": {},
   "outputs": [
    {
     "data": {
      "text/plain": [
       "0.19999999999999996"
      ]
     },
     "execution_count": 12,
     "metadata": {},
     "output_type": "execute_result"
    }
   ],
   "source": [
    "1.2 - 1.0"
   ]
  },
  {
   "cell_type": "code",
   "execution_count": 14,
   "id": "1eca8122-96fa-4bba-9fde-2c251c12f891",
   "metadata": {
    "collapsed": true,
    "jupyter": {
     "outputs_hidden": true
    },
    "tags": []
   },
   "outputs": [
    {
     "name": "stderr",
     "output_type": "stream",
     "text": [
      "IOPub data rate exceeded.\n",
      "The Jupyter server will temporarily stop sending output\n",
      "to the client in order to avoid crashing it.\n",
      "To change this limit, set the config variable\n",
      "`--ServerApp.iopub_data_rate_limit`.\n",
      "\n",
      "Current values:\n",
      "ServerApp.iopub_data_rate_limit=1000000.0 (bytes/sec)\n",
      "ServerApp.rate_limit_window=3.0 (secs)\n",
      "\n"
     ]
    },
    {
     "ename": "ValueError",
     "evalue": "Exceeds the limit (4300) for integer string conversion; use sys.set_int_max_str_digits() to increase the limit",
     "output_type": "error",
     "traceback": [
      "\u001b[0;31m---------------------------------------------------------------------------\u001b[0m",
      "\u001b[0;31mValueError\u001b[0m                                Traceback (most recent call last)",
      "Cell \u001b[0;32mIn[14], line 5\u001b[0m\n\u001b[1;32m      3\u001b[0m \u001b[38;5;28;01mfor\u001b[39;00m i \u001b[38;5;129;01min\u001b[39;00m \u001b[38;5;28mrange\u001b[39m(\u001b[38;5;241m1\u001b[39m,\u001b[38;5;241m10000\u001b[39m):\n\u001b[1;32m      4\u001b[0m     a \u001b[38;5;241m=\u001b[39m i \u001b[38;5;241m*\u001b[39m a\n\u001b[0;32m----> 5\u001b[0m     \u001b[38;5;28;43mprint\u001b[39;49m\u001b[43m(\u001b[49m\u001b[43ma\u001b[49m\u001b[43m)\u001b[49m\n",
      "\u001b[0;31mValueError\u001b[0m: Exceeds the limit (4300) for integer string conversion; use sys.set_int_max_str_digits() to increase the limit"
     ]
    }
   ],
   "source": [
    "# OverflowError:\n",
    "a = 100\n",
    "for i in range(1,10000):\n",
    "    a = i * a\n",
    "    print(a)"
   ]
  },
  {
   "cell_type": "markdown",
   "id": "a242b36e-2a97-49d5-bbeb-95297390eab9",
   "metadata": {},
   "source": [
    "##### 4) LookupError is the base exception class for keyError and valueError. It is used for exceptions related to the dictionary and its operations. Ex :"
   ]
  },
  {
   "cell_type": "code",
   "execution_count": 9,
   "id": "5a65b2ce-0ff1-4d9c-93fb-354c4f8abc42",
   "metadata": {},
   "outputs": [],
   "source": [
    "d = {i : i ** 2 for i in range(1,11)}"
   ]
  },
  {
   "cell_type": "code",
   "execution_count": 10,
   "id": "417e28a5-5574-422d-86b0-712922a3ab48",
   "metadata": {},
   "outputs": [
    {
     "data": {
      "text/plain": [
       "{1: 1, 2: 4, 3: 9, 4: 16, 5: 25, 6: 36, 7: 49, 8: 64, 9: 81, 10: 100}"
      ]
     },
     "execution_count": 10,
     "metadata": {},
     "output_type": "execute_result"
    }
   ],
   "source": [
    "d"
   ]
  },
  {
   "cell_type": "code",
   "execution_count": 25,
   "id": "43ad9f79-10c4-4203-ad3e-60e97b5fffa2",
   "metadata": {},
   "outputs": [
    {
     "ename": "KeyError",
     "evalue": "11",
     "output_type": "error",
     "traceback": [
      "\u001b[0;31m---------------------------------------------------------------------------\u001b[0m",
      "\u001b[0;31mKeyError\u001b[0m                                  Traceback (most recent call last)",
      "Cell \u001b[0;32mIn[25], line 2\u001b[0m\n\u001b[1;32m      1\u001b[0m \u001b[38;5;66;03m# KeyError :\u001b[39;00m\n\u001b[0;32m----> 2\u001b[0m \u001b[43md\u001b[49m\u001b[43m[\u001b[49m\u001b[38;5;241;43m11\u001b[39;49m\u001b[43m]\u001b[49m\n",
      "\u001b[0;31mKeyError\u001b[0m: 11"
     ]
    }
   ],
   "source": [
    "# KeyError :\n",
    "d[11]"
   ]
  },
  {
   "cell_type": "code",
   "execution_count": 27,
   "id": "16a40c68-17c9-4687-af11-e81ec83ec2b0",
   "metadata": {},
   "outputs": [
    {
     "ename": "ValueError",
     "evalue": "invalid literal for int() with base 10: 'hello'",
     "output_type": "error",
     "traceback": [
      "\u001b[0;31m---------------------------------------------------------------------------\u001b[0m",
      "\u001b[0;31mValueError\u001b[0m                                Traceback (most recent call last)",
      "Cell \u001b[0;32mIn[27], line 2\u001b[0m\n\u001b[1;32m      1\u001b[0m \u001b[38;5;66;03m# ValueError :\u001b[39;00m\n\u001b[0;32m----> 2\u001b[0m \u001b[38;5;28;43mint\u001b[39;49m\u001b[43m(\u001b[49m\u001b[38;5;124;43m\"\u001b[39;49m\u001b[38;5;124;43mhello\u001b[39;49m\u001b[38;5;124;43m\"\u001b[39;49m\u001b[43m)\u001b[49m\n",
      "\u001b[0;31mValueError\u001b[0m: invalid literal for int() with base 10: 'hello'"
     ]
    }
   ],
   "source": [
    "# ValueError :\n",
    "int(\"hello\")"
   ]
  },
  {
   "cell_type": "markdown",
   "id": "d6f1d423-36e3-4fd0-9a5a-a04b88041b4d",
   "metadata": {},
   "source": [
    "##### 5) ImportError : It is an exception raised when a module from a package or a file is not imported when it is not available in the memory or the path is incorrect.\n",
    "##### ModuleNotFoundError : It is an exception raised when specifically a module to be imported is not available. Ex : "
   ]
  },
  {
   "cell_type": "code",
   "execution_count": 30,
   "id": "ad6141b7-5c9d-4e46-83d4-0e7e56372894",
   "metadata": {},
   "outputs": [
    {
     "name": "stdout",
     "output_type": "stream",
     "text": [
      "No module named 'hello'\n"
     ]
    }
   ],
   "source": [
    "try:\n",
    "    import hello # dummy module\n",
    "except ModuleNotFoundError as e:\n",
    "    print(e)"
   ]
  },
  {
   "cell_type": "markdown",
   "id": "8a6b193e-8457-4971-8e3e-b6e84d387c2c",
   "metadata": {},
   "source": [
    "##### 6) Best practices for Exception Handling :\n",
    "##### * Mention the specific exception subclass or child class while catching the exception in except block instead of the main Exception class (Super class). \n",
    "##### * Keep logging the status of the execution of the program when exceptions are expected to be raised. Ex :"
   ]
  },
  {
   "cell_type": "code",
   "execution_count": 36,
   "id": "26fd9ed7-a6eb-4318-9393-bd83577bb077",
   "metadata": {},
   "outputs": [
    {
     "name": "stdout",
     "output_type": "stream",
     "text": [
      "[Errno 2] No such file or directory: 'test.csv'\n",
      "Executes everytime\n"
     ]
    }
   ],
   "source": [
    "# Best Practice :\n",
    "\n",
    "import logging\n",
    "\n",
    "logging.basicConfig(filename = \"test.log\", levels = logging.INFO, format = \"(%asctime) (%message)s\")\n",
    "\n",
    "try:\n",
    "    logging.info(\"Trying to open the file\")\n",
    "    f = open(\"test.csv\",\"r\")\n",
    "    \n",
    "except FileNotFoundError as e:\n",
    "    print(e)\n",
    "    logging.info(e)\n",
    "    \n",
    "else:\n",
    "    print(\"This executes when there is no exception\")\n",
    "    \n",
    "finally:\n",
    "    print(\"Executes everytime\")"
   ]
  },
  {
   "cell_type": "code",
   "execution_count": null,
   "id": "fb94920c-0cf7-4a32-861b-be568be53207",
   "metadata": {},
   "outputs": [],
   "source": []
  }
 ],
 "metadata": {
  "kernelspec": {
   "display_name": "Python 3 (ipykernel)",
   "language": "python",
   "name": "python3"
  },
  "language_info": {
   "codemirror_mode": {
    "name": "ipython",
    "version": 3
   },
   "file_extension": ".py",
   "mimetype": "text/x-python",
   "name": "python",
   "nbconvert_exporter": "python",
   "pygments_lexer": "ipython3",
   "version": "3.10.8"
  }
 },
 "nbformat": 4,
 "nbformat_minor": 5
}
