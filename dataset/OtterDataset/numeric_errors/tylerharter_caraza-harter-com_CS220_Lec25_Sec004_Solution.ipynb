{
 "cells": [
  {
   "cell_type": "code",
   "execution_count": null,
   "metadata": {},
   "outputs": [],
   "source": [
    "# Warmup: Review Worksheet Exercises."
   ]
  },
  {
   "cell_type": "code",
   "execution_count": null,
   "metadata": {},
   "outputs": [],
   "source": [
    "# Warmup: \n",
    "# Run this program and think of 2 different kinds of inputs that would crash it.\n",
    "\n",
    "# Name the Runtime errors that occurred here:\n",
    "# ...Entering a slice count of 0....divide by 0   ZeroDivisionError\n",
    "# ...Entering non-numbers                         ValueError\n",
    "# ...Entering only 1 number or no comma           IndexError\n",
    "\n",
    "# Then, think of other inputs that will give Semantic Errors\n",
    "# ...Entering a negative number\n",
    "\n",
    "import math\n",
    "\n",
    "def pizza_size(radius):\n",
    "    # What do we assume is true here?\n",
    "    return (radius ** 2) * math.pi     # SemanticError\n",
    "\n",
    "def slice_size(radius, slice_count):\n",
    "    # What could go wrong here?\n",
    "    total_size = pizza_size(radius)\n",
    "    return total_size * (1 / slice_count)  # ZeroDivisionError\n",
    "\n",
    "# What could go wrong here? \n",
    "args = input(\"Enter pizza diameter(inches), slice count: \")\n",
    "args = args.split(',')\n",
    "radius = float(args[0].strip()) / 2 # ValueError\n",
    "slices = int(args[1].strip())       # IndexError, ValueError\n",
    "\n",
    "size = slice_size(radius, slices)\n",
    "print('Each pizza slice will be {} square inches'.format(size))"
   ]
  },
  {
   "cell_type": "markdown",
   "metadata": {},
   "source": [
    "### Lecture 25: Error Handling\n",
    "\n",
    "**Learing Objectives:**\n",
    "    \n",
    " - Explain the purpose of assert statements, try/except blocks, and raise statements.\n",
    "\n",
    " - Use an assert statement to force a program to crash, and trace code that uses assert.\n",
    "\n",
    " - Use try/except blocks to catch runtime errors and deal with them\n",
    "   - by specifying the exception(s) caught\n",
    "   - by using the exception object\n",
    "\n",
    " - Use the raise statement to raise an exception that may be caught in another part of the program\n",
    "\n",
    " - Hand trace code that uses assert, try/except blocks and raise statements"
   ]
  },
  {
   "cell_type": "markdown",
   "metadata": {},
   "source": [
    "### Being 'Assert'ive\n",
    "`assert` makes code 'fail fast' rather than continuing with bad data. This is useful because we would prefer to have runtime errors over semantic (thinking) errors.\n",
    "\n",
    "An `assert` statement takes a boolean condition, e.g. `assert my_list != []` would assert that the list is not empty.\n",
    "\n",
    "If the assert statement is True, nothing happens. If the assert statement is False, a runtime error occurs."
   ]
  },
  {
   "cell_type": "code",
   "execution_count": null,
   "metadata": {},
   "outputs": [],
   "source": [
    "age = int(input(\"Enter your age: \"))\n",
    "assert age >= 0\n",
    "print(\"In five years, you will be\", age + 5, \"years old\")"
   ]
  },
  {
   "cell_type": "code",
   "execution_count": null,
   "metadata": {},
   "outputs": [],
   "source": [
    "# You try!\n",
    "# In pizza_size, assert that the radius is positive.\n",
    "# In slice_size assert that slice_count is positive.\n",
    "\n",
    "import math\n",
    "\n",
    "def pizza_size(radius):\n",
    "    assert radius > 0\n",
    "    return (radius ** 2) * math.pi\n",
    "\n",
    "def slice_size(radius, slice_count):\n",
    "    assert slice_count >= 1\n",
    "    total_size = pizza_size(radius)\n",
    "    return total_size * (1 / slice_count)\n",
    "\n",
    "args = input(\"Enter pizza diameter(inches), slice count: \")\n",
    "args = args.split(',')\n",
    "\n",
    "radius = float(args[0].strip()) / 2\n",
    "slices = int(args[1].strip())\n",
    "\n",
    "size = slice_size(radius, slices)\n",
    "print('Each pizza slice will be {} square inches'.format(size))"
   ]
  },
  {
   "cell_type": "markdown",
   "metadata": {},
   "source": [
    "### Use `try`/`except` blocks to \"catch\" runtime errors\n",
    "`assert` isn't always the prettiest for the user -- their program crashes!\n",
    "\n",
    "Often, we prefer to use `try` and `except`. `try` and `except` blocks come in pairs. Python tries to run the code in the `try` block, but if there’s an exception, it jumps to the `except` block -- it does not crash! We call this \"catching\" the exception. If there is no exception, the `except` block does not run."
   ]
  },
  {
   "cell_type": "code",
   "execution_count": null,
   "metadata": {},
   "outputs": [],
   "source": [
    "try:  \n",
    "    print(\"2 inverse is\", 1/2)\n",
    "    print(\"1 inverse is\", 1/1)\n",
    "    print(\"0 inverse is\", 1/0)   # this line results in a RuntimeError\n",
    "    print(\"-1 inverse is\", 1/-1)\n",
    "    print(\"-2 inverse is\", 1/-2)\n",
    "except:\n",
    "    print(\"Something bad happened :(\")\n",
    "    \n",
    "print(\"Just like ifs, we join here!\")"
   ]
  },
  {
   "cell_type": "code",
   "execution_count": null,
   "metadata": {},
   "outputs": [],
   "source": [
    "# You try! Catch the error before the program crashes.\n",
    "# For this example, do NOT use an if statement!\n",
    "pizza_slices = 8\n",
    "try:\n",
    "    num_people = int(input(\"Enter a number of people to divide the pizza among: \"))\n",
    "    pizza_per_person = pizza_slices / num_people\n",
    "    print(pizza_per_person, \"slices per person.\")\n",
    "except:\n",
    "    print(\"We can't divide by 0\")"
   ]
  },
  {
   "cell_type": "markdown",
   "metadata": {},
   "source": [
    "### Being Descriptive\n",
    "We can be more descriptive by saying `except Exception as e` and printing out information with `e`"
   ]
  },
  {
   "cell_type": "code",
   "execution_count": null,
   "metadata": {},
   "outputs": [],
   "source": [
    "try:  \n",
    "    print(\"2 inverse is\", 1/2)\n",
    "    print(\"1 inverse is\", 1/1)\n",
    "    print(\"0 inverse is\", 1/0)   # this line results in a RuntimeError\n",
    "    print(\"-1 inverse is\", 1/-1)\n",
    "    print(\"-2 inverse is\", 1/-2)\n",
    "except Exception as e:\n",
    "    print(\"Something bad happened :(\")\n",
    "    print(type(e))\n",
    "    print(str(e))"
   ]
  },
  {
   "cell_type": "code",
   "execution_count": null,
   "metadata": {},
   "outputs": [],
   "source": [
    "# Add a try/catch block to handle all errors\n",
    "# Be descriptive, print out the error type and message.\n",
    "\n",
    "import math\n",
    "\n",
    "def pizza_size(radius):\n",
    "    return (radius ** 2) * math.pi\n",
    "\n",
    "def slice_size(radius, slice_count):\n",
    "    total_size = pizza_size(radius)\n",
    "    return total_size * (1 / slice_count)\n",
    "\n",
    "while(True):\n",
    "    args = input(\"Enter pizza diameter(inches), slice count: \")\n",
    "    args = args.split(',')\n",
    "\n",
    "    try:\n",
    "        radius = float(args[0].strip()) / 2\n",
    "        slices = int(args[1].strip())\n",
    "        size = slice_size(radius, slices)\n",
    "        print('Each pizza slice will be {} square inches'.format(size))\n",
    "    except Exception as e:\n",
    "        print(\"Something went wrong!\")\n",
    "        print(type(e))\n",
    "        print(str(e))"
   ]
  },
  {
   "cell_type": "markdown",
   "metadata": {},
   "source": [
    "### Nested Exceptions\n",
    "Exceptions can be thrown from any function. If that function cannot handle the exception, the exception goes to the calling function. If that function cannot handle the exception, to its calling function. If no calling function can handle the exception, the program crashes."
   ]
  },
  {
   "cell_type": "code",
   "execution_count": null,
   "metadata": {},
   "outputs": [],
   "source": [
    "def cole():\n",
    "    print(\"Cole: Hello! :)\")\n",
    "    cust_happy = input(\"Cole: Are you having a pleasent shopping experience?\")\n",
    "    assert cust_happy.lower() == 'y'\n",
    "    print(\"Cole: Great! :)\")\n",
    "    \n",
    "def matt():\n",
    "    print(\"At Matt's store...\")\n",
    "    cole()\n",
    "    \n",
    "def pig_wig_corp():\n",
    "    while(True):\n",
    "        print(\"At the pig wig...\")\n",
    "        matt()\n",
    "        \n",
    "pig_wig_corp()"
   ]
  },
  {
   "cell_type": "markdown",
   "metadata": {},
   "source": [
    "We can choose where to handle an exception, e.g. defer all complaints to corporate."
   ]
  },
  {
   "cell_type": "code",
   "execution_count": null,
   "metadata": {},
   "outputs": [],
   "source": [
    "def cole():\n",
    "    print(\"Cole: Hello! :)\")\n",
    "    cust_happy = input(\"Cole: Are you having a pleasent shopping experience?\")\n",
    "    assert cust_happy.lower() == 'y'\n",
    "    print(\"Cole: Great! :)\")\n",
    "    \n",
    "def matt():\n",
    "    print(\"At Matt's store...\")\n",
    "    cole()\n",
    "    \n",
    "def pig_wig_corp():\n",
    "    while(True):\n",
    "        print(\"At the pig wig...\")\n",
    "        try:\n",
    "            matt()\n",
    "        except Exception as e:\n",
    "            print(\"Corp: We are sorry to hear this.\")\n",
    "            print(\"Err msg:\", str(e))\n",
    "            print(\"Err type:\", type(e))\n",
    "        \n",
    "pig_wig_corp()"
   ]
  },
  {
   "cell_type": "markdown",
   "metadata": {},
   "source": [
    "... or handle them ourselves ..."
   ]
  },
  {
   "cell_type": "code",
   "execution_count": null,
   "metadata": {},
   "outputs": [],
   "source": [
    "def cole():\n",
    "    try:\n",
    "        print(\"Cole: Hello! :)\")\n",
    "        cust_happy = input(\"Cole: Are you having a pleasent shopping experience?\")\n",
    "        assert cust_happy.lower() == 'y'\n",
    "        print(\"Cole: Great! :)\")\n",
    "    except Exception as e:\n",
    "        print(\"Cole: Dang that's rough\")\n",
    "    \n",
    "def matt():\n",
    "    print(\"At Matt's store...\")\n",
    "    cole()\n",
    "    \n",
    "def pig_wig_corp():\n",
    "    while(True):\n",
    "        print(\"At the pig wig...\")\n",
    "        try:\n",
    "            matt()\n",
    "        except Exception as e:\n",
    "            print(\"Corp: We are sorry to hear this.\")\n",
    "            print(\"Err msg:\", str(e))\n",
    "            print(\"Err type:\", type(e))\n",
    "pig_wig_corp()"
   ]
  },
  {
   "cell_type": "markdown",
   "metadata": {},
   "source": [
    "... or somewhere in between!"
   ]
  },
  {
   "cell_type": "markdown",
   "metadata": {},
   "source": [
    "### `raise` Our Own Errors\n",
    "Rather than using `assert` we can also `raise` an error. As we can see by `type(e)`, there are different types of errors in Python. These form a hierarchy [(see here)](https://docs.python.org/3/library/exceptions.html). It helps to know some common exceptions, but you don't need to memorize them."
   ]
  },
  {
   "cell_type": "code",
   "execution_count": null,
   "metadata": {},
   "outputs": [],
   "source": [
    "def cole():\n",
    "    print(\"Cole: Hello! :)\")\n",
    "    cust_happy = input(\"Cole: Are you having a pleasent shopping experience?\")\n",
    "    if cust_happy.lower() != 'y':\n",
    "        raise FutureWarning(\"This customer may not return in the future!\")\n",
    "    print(\"Cole: Great! :)\")\n",
    "    \n",
    "def matt():\n",
    "    print(\"At Matt's store...\")\n",
    "    cole()\n",
    "    \n",
    "def pig_wig_corp():\n",
    "    while(True):\n",
    "        print(\"At the pig wig...\")\n",
    "        try:\n",
    "            matt()\n",
    "        except Exception as e:\n",
    "            print(\"Corp: We are sorry to hear this.\")\n",
    "            print(\"Err msg:\", str(e))\n",
    "            print(\"Err type:\", type(e))\n",
    "        \n",
    "pig_wig_corp()"
   ]
  },
  {
   "cell_type": "markdown",
   "metadata": {},
   "source": [
    "Let's check if the customer is happy and if they have found everything they needed.\n",
    " - If they are not happy, `raise` a `FutureWarning`. Corporate can handle this.\n",
    " - If they have not found everything they needed, `raise` a `ResourceWarning`. Matt can handle this."
   ]
  },
  {
   "cell_type": "code",
   "execution_count": null,
   "metadata": {},
   "outputs": [],
   "source": [
    "def cole():\n",
    "    print(\"Cole: Hello! :)\")\n",
    "    cust_happy = input(\"Cole: Are you having a pleasent shopping experience?\")\n",
    "    if cust_happy.lower() != 'y':\n",
    "        raise FutureWarning(\"This customer may not return in the future!\")\n",
    "    cust_found = input(\"Cole: Did you find everything that you needed?\")\n",
    "    if cust_found.lower() != 'y':\n",
    "        raise ResourceWarning(\"We are running out of resources!\")\n",
    "    print(\"Cole: Great! :)\")\n",
    "    \n",
    "def matt():\n",
    "    print(\"At Matt's store...\")\n",
    "    try:\n",
    "        cole()\n",
    "    except Exception as e: # ALMOST correct....\n",
    "        print(\"Matt: I'll order some more!\")\n",
    "    \n",
    "def pig_wig_corp():\n",
    "    while(True):\n",
    "        print(\"At the pig wig...\")\n",
    "        try:\n",
    "            matt()\n",
    "        except Exception as e: \n",
    "            print(\"Corp: We are sorry to hear this.\")\n",
    "            print(\"Err msg:\", str(e))\n",
    "            print(\"Err type:\", type(e))\n",
    "        \n",
    "pig_wig_corp()"
   ]
  },
  {
   "cell_type": "markdown",
   "metadata": {},
   "source": [
    "What's wrong with the above function? Fix it below."
   ]
  },
  {
   "cell_type": "code",
   "execution_count": null,
   "metadata": {},
   "outputs": [],
   "source": [
    "def cole():\n",
    "    print(\"Cole: Hello! :)\")\n",
    "    cust_happy = input(\"Cole: Are you having a pleasent shopping experience?\")\n",
    "    if cust_happy.lower() != 'y':\n",
    "        raise FutureWarning(\"This customer may not return in the future!\")\n",
    "    cust_found = input(\"Cole: Did you find everything that you needed?\")\n",
    "    if cust_found.lower() != 'y':\n",
    "        raise ResourceWarning(\"We are running out of resources!\")\n",
    "    print(\"Cole: Great! :)\")\n",
    "    \n",
    "def matt():\n",
    "    print(\"At Matt's store...\")\n",
    "    try:\n",
    "        cole()\n",
    "    except ResourceWarning as e:\n",
    "        print(\"Matt: I'll order some more!\")\n",
    "    \n",
    "def pig_wig_corp():\n",
    "    while(True):\n",
    "        print(\"At the pig wig...\")\n",
    "        try:\n",
    "            matt()\n",
    "        except Exception as e: \n",
    "            print(\"Corp: We are sorry to hear this.\")\n",
    "            print(\"Err msg:\", str(e))\n",
    "            print(\"Err type:\", type(e))\n",
    "        \n",
    "pig_wig_corp()"
   ]
  },
  {
   "cell_type": "markdown",
   "metadata": {},
   "source": [
    "Let's also ask the customer if they are feeling healthy. If not, we should `raise` a `UserWarning` and Matt should ask them to leave the store."
   ]
  },
  {
   "cell_type": "code",
   "execution_count": null,
   "metadata": {},
   "outputs": [],
   "source": [
    "def cole():\n",
    "    print(\"Cole: Hello! :)\")\n",
    "    cust_happy = input(\"Cole: Are you having a pleasent shopping experience?\")\n",
    "    if cust_happy.lower() != 'y':\n",
    "        raise FutureWarning(\"This customer may not return in the future!\")\n",
    "    cust_found = input(\"Cole: Did you find everything that you needed?\")\n",
    "    if cust_found.lower() != 'y':\n",
    "        raise ResourceWarning(\"We are running out of resources!\")\n",
    "    cust_healthy = input(\"Cole: Are you feeling healthy today?\")\n",
    "    if cust_healthy.lower() != 'y':\n",
    "        raise UserWarning(\"The customer is feeling sick...\")\n",
    "    print(\"Cole: Great! :)\")\n",
    "    \n",
    "def matt():\n",
    "    print(\"At Matt's store...\")\n",
    "    try:\n",
    "        cole()\n",
    "    except ResourceWarning as rw:\n",
    "        print(\"Matt: I'll order some more!\")\n",
    "    except UserWarning as uw:\n",
    "        print(\"Matt: Please leave the store :(\")\n",
    "    \n",
    "def pig_wig_corp():\n",
    "    while(True):\n",
    "        print(\"At the pig wig...\")\n",
    "        try:\n",
    "            matt()\n",
    "        except Exception as e: \n",
    "            print(\"Corp: We are sorry to hear this.\")\n",
    "            print(\"Err msg:\", str(e))\n",
    "            print(\"Err type:\", type(e))\n",
    "        \n",
    "pig_wig_corp()"
   ]
  },
  {
   "cell_type": "code",
   "execution_count": null,
   "metadata": {},
   "outputs": [],
   "source": [
    "# Consider the code below and answer the following questions...\n",
    "\n",
    "# In your own words, describe what the code does.\n",
    "# There is a random chance each one of our \"flaky\" functions break,\n",
    "# and we attempt to catch the exceptions as they happen.\n",
    "\n",
    "# In a single iteration, can a FloatingPointError and OverflowError be thrown?\n",
    "# No, since these are in the same try/catch block, as soon as there is an exception,\n",
    "# we will skip to the \"except\" block. Either one (or neither) may be thrown,\n",
    "# but not both.\n",
    "\n",
    "# In a single iteration, can a OSError follow an OverflowError?\n",
    "# Yes. Although we catch the overflow error if it happens,\n",
    "# there is a 1% chance an OSError follows. They are not in the\n",
    "# same try/except block.\n",
    "\n",
    "# Are there any error(s) we are not catching? If so, name them.\n",
    "# We are not catching an OSError as it is not inside a try/catch.\n",
    "# We are also not catching a PermissionError as neither the type\n",
    "# nor supertype is in the except block.\n",
    "\n",
    "# Are there any error(s) we are catching but not raising?\n",
    "# Yes, FileExistsError is not raised by anything."
   ]
  },
  {
   "cell_type": "code",
   "execution_count": null,
   "metadata": {},
   "outputs": [],
   "source": [
    "import random\n",
    "import time\n",
    "\n",
    "def flaky_math_func1():\n",
    "    if(random.random() < .5):\n",
    "        raise FloatingPointError(\"Something went wrong doing some float math!\")\n",
    "        \n",
    "def flaky_math_func2():\n",
    "    if(random.random() < .5):\n",
    "        raise OverflowError(\"Something went wrong doing some big math!\")\n",
    "        \n",
    "def flaky_os_func():\n",
    "    if(random.random() < .01):\n",
    "        raise OSError(\"Something went wrong in the OS!\")\n",
    "        \n",
    "def flaky_impl_func():\n",
    "    if(random.random() < .05):\n",
    "        raise NotImplementedError(\"Something went wrong in the implementation!\")\n",
    "        \n",
    "def flaky_perm_func():\n",
    "    if(random.random() < .2):\n",
    "        raise PermissionError(\"I don't have permission to do that!\")\n",
    "         \n",
    "while(True):\n",
    "    print(\"Beginning the flaky functions!\")\n",
    "    \n",
    "    \n",
    "    try:\n",
    "        flaky_math_func1()\n",
    "        flaky_math_func2()\n",
    "    except ArithmeticError as e:\n",
    "        print(\"Phew! I avoided a\", type(e))\n",
    "        \n",
    "    flaky_os_func()\n",
    "    \n",
    "    try:\n",
    "        flaky_impl_func()\n",
    "        flaky_perm_func()\n",
    "    except (RuntimeError, FileExistsError) as e:\n",
    "        print(\"Phew! I avoided a\", type(e))\n",
    "    \n",
    "    print(\"End of flaky functions!\")\n",
    "    print()\n",
    "    \n",
    "    time.sleep(15) # wait 15 seconds, give time to read the output."
   ]
  },
  {
   "cell_type": "markdown",
   "metadata": {},
   "source": [
    "### A Word on Hierarchy\n",
    "All dogs are animals, but not all animals are dogs.\n",
    "\n",
    "All ZeroDivisionErrors are ArithmeticErrors, but not all ArithmeticErrors are ZeroDivisionErrors."
   ]
  },
  {
   "attachments": {
    "1_iP78XqAbkntOuzbHCoiubg.png": {
     "image/png": "[encoded data removed]"
    }
   },
   "cell_type": "markdown",
   "metadata": {},
   "source": [
    "![1_iP78XqAbkntOuzbHCoiubg.png](attachment:1_iP78XqAbkntOuzbHCoiubg.png)"
   ]
  },
  {
   "cell_type": "markdown",
   "metadata": {},
   "source": [
    "[Source](https://levelup.gitconnected.com/java-classes-and-objects-a312db4bc785) (yes this is a Java resource -- but applicable to MANY programming languages!)"
   ]
  }
 ],
 "metadata": {
  "kernelspec": {
   "display_name": "Python 3 (ipykernel)",
   "language": "python",
   "name": "python3"
  },
  "language_info": {
   "codemirror_mode": {
    "name": "ipython",
    "version": 3
   },
   "file_extension": ".py",
   "mimetype": "text/x-python",
   "name": "python",
   "nbconvert_exporter": "python",
   "pygments_lexer": "ipython3",
   "version": "3.9.7"
  }
 },
 "nbformat": 4,
 "nbformat_minor": 4
}
