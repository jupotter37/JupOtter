{
 "cells": [
  {
   "cell_type": "markdown",
   "id": "975f6e0d-5c67-4f6b-b122-d960517bc581",
   "metadata": {},
   "source": [
    "## 1) What are the types of Applications? "
   ]
  },
  {
   "cell_type": "markdown",
   "id": "789f3b79-8f0d-49fc-8943-3a16e7606432",
   "metadata": {},
   "source": [
    "* Web Development\n",
    "* Machine Learning and Artificial Intelligence\n",
    "* Data Science\n",
    "* Game Development\n",
    "* Software Development\n",
    "* Business Applications"
   ]
  },
  {
   "cell_type": "markdown",
   "id": "007f24dc-6626-4785-9afc-29211c2e398f",
   "metadata": {},
   "source": [
    "## 2) What is programing?"
   ]
  },
  {
   "cell_type": "markdown",
   "id": "fd38198c-ae1c-4655-b30b-91a69da60289",
   "metadata": {},
   "source": [
    "* Programming is a sequence of instruction given to any device through a programming language to follow a certain task, it consisit of step by step procedure and algorithm to follow a path."
   ]
  },
  {
   "cell_type": "markdown",
   "id": "335cbfb6-e5a2-4463-a39b-5c1d3e6dc0c9",
   "metadata": {},
   "source": [
    "## 3) What is Python?"
   ]
  },
  {
   "cell_type": "markdown",
   "id": "148b3e74-9f99-4ddd-87e5-a4340b3179b9",
   "metadata": {},
   "source": [
    "* Python is a computer programming language often used to build websites and software, automate tasks, and analyze data."
   ]
  },
  {
   "cell_type": "markdown",
   "id": "87210f2f-c445-4672-b3e5-2992eddc360e",
   "metadata": {},
   "source": [
    "## 4) Write a Python program to check if a number is positive, negative or zero."
   ]
  },
  {
   "cell_type": "code",
   "execution_count": null,
   "id": "a1aa3d0d-c7eb-490a-a54a-3891b3f402f9",
   "metadata": {},
   "outputs": [],
   "source": [
    "x=float(input(\"Write a number: \"))\n",
    "\n",
    "if (x>0):\n",
    "    print(\"Positive\")\n",
    "elif (x<0):\n",
    "    print(\"Negative\")\n",
    "elif (x==0):\n",
    "    print(\"Zero\")\n",
    "else:\n",
    "    print(\"Incorrect Input\")"
   ]
  },
  {
   "cell_type": "markdown",
   "id": "48c8ff19-d96b-46e6-837d-da3eecaa85f1",
   "metadata": {},
   "source": [
    "## 5) Write a Python program to get the Factorial number of given numbers.  "
   ]
  },
  {
   "cell_type": "code",
   "execution_count": null,
   "id": "c53a6dc6-e9b0-491b-a1f4-e8d384a977b3",
   "metadata": {},
   "outputs": [],
   "source": [
    "a = int(input(\"Write an integer: \"))\n",
    "num = 1\n",
    "\n",
    "for i in range(1, a+1):\n",
    "    num *= i\n",
    "\n",
    "print(num)"
   ]
  },
  {
   "cell_type": "markdown",
   "id": "e98f257b-c31e-48cf-98c2-d47726c7e36c",
   "metadata": {},
   "source": [
    "## 6) Write a Python program to get the Fibonacci series of given range. "
   ]
  },
  {
   "cell_type": "code",
   "execution_count": null,
   "id": "568ee6a4-b1de-4a8d-9b2b-2ecb28470465",
   "metadata": {},
   "outputs": [],
   "source": [
    "x = int(input(\"Enter a number here: \"))\n",
    "\n",
    "# Febonnaci Formula = F(n)=F(n−1)+F(n−2)\n",
    "for i in range(x):\n",
    "    f = (x-1) + (x-2)\n",
    "\n",
    "print(f)"
   ]
  },
  {
   "cell_type": "markdown",
   "id": "f1def31d-c9c3-43fa-a834-e240d91a13ff",
   "metadata": {},
   "source": [
    "## 7) How memory is managed in Python? "
   ]
  },
  {
   "cell_type": "markdown",
   "id": "8287f6e1-15a6-4239-9d55-a9fc75cbf2d3",
   "metadata": {},
   "source": [
    "* Memory is managed in Python by one of two ways: dynamic allocation or static allocation. Dynamic allocation occurs as the program is running. This means that as the program operates, it can dynamically determine where to allocate memory while reusing and releasing it. Static memory allocation happens before the running of a program, predetermining the amount and distribution of the memory, and without the ability to reuse memory."
   ]
  },
  {
   "cell_type": "markdown",
   "id": "4000fcf4-61d5-4e39-a58b-7abe1a7c7651",
   "metadata": {},
   "source": [
    "## 8) What is the purpose continuing statement in python? "
   ]
  },
  {
   "cell_type": "markdown",
   "id": "48d7886e-1a33-4243-aed1-b0de061e43fe",
   "metadata": {},
   "source": [
    "* The continue keyword is used to end the current iteration in a loop, and continues to the next iteration. It is mainly used for a condition so that we can skip some code for a particular condition."
   ]
  },
  {
   "cell_type": "markdown",
   "id": "3974c977-5031-41f9-9c40-7319e657e1f2",
   "metadata": {},
   "source": [
    "## 9) Write python program that swap two number with temp variable and without temp variable. "
   ]
  },
  {
   "cell_type": "code",
   "execution_count": null,
   "id": "feef7c41-0d6a-49ca-8c66-1ae08c667177",
   "metadata": {},
   "outputs": [],
   "source": [
    "# Swaping two numbers without temp variable\n",
    "x = int(input(\"Enter num x: \"))\n",
    "y = int(input(\"Enter num y: \"))\n",
    "\n",
    "x, y = y, x\n",
    "\n",
    "print(\"x is: \", x)\n",
    "print(\"y is: \", y)"
   ]
  },
  {
   "cell_type": "code",
   "execution_count": null,
   "id": "4d15af69-ed1f-4f75-92ce-10c017dd9090",
   "metadata": {},
   "outputs": [],
   "source": [
    "# Swaping two numbers with temp variable\n",
    "x = int(input(\"Enter num x: \"))\n",
    "y = int(input(\"Enter num y: \"))\n",
    "\n",
    "temp = x\n",
    "x = y\n",
    "y = temp\n",
    "\n",
    "print(\"x is: \", x)\n",
    "print(\"y is: \", y)"
   ]
  },
  {
   "cell_type": "markdown",
   "id": "f2124bc7-8303-4e0f-b590-15bb10f05174",
   "metadata": {},
   "source": [
    "## 10) Write a Python program to find whether a given number is even or odd, print out an appropriate message to the user. "
   ]
  },
  {
   "cell_type": "code",
   "execution_count": null,
   "id": "84050688-9cb5-41c0-a56d-010e131e56a4",
   "metadata": {},
   "outputs": [],
   "source": [
    "a = int(input(\"Enter a number here: \"))\n",
    "\n",
    "if a % 2 == 0:\n",
    "    print(\"It is a Even number\")\n",
    "elif a % 2 != 0:\n",
    "    print(\"It is a Odd number\")\n",
    "else:\n",
    "    print(\"Enter a valid number\")"
   ]
  },
  {
   "cell_type": "markdown",
   "id": "510262a9-c017-4499-95fc-d65a61394522",
   "metadata": {},
   "source": [
    "## 11) Write a Python program to test whether a passed letter is a vowel or not. "
   ]
  },
  {
   "cell_type": "code",
   "execution_count": null,
   "id": "9b6ca5aa-eed2-42d4-a727-e182922f977a",
   "metadata": {},
   "outputs": [],
   "source": [
    "a = input(\"Enter a letter here\")\n",
    "\n",
    "if a == \"a\" or a == \"e\" or a == \"i\" or a == \"o\" or a == \"u\" or a == \"A\" or a == \"E\" or a == \"I\" or a == \"O\" or a == \"U\" :\n",
    "    print(\"It's a Vowel\")\n",
    "else:\n",
    "    print(\"It's not a Vowel\")"
   ]
  },
  {
   "cell_type": "markdown",
   "id": "eeeb3b24-b856-4060-96a3-4db26b37fcc5",
   "metadata": {},
   "source": [
    "## 12) Write a Python program to sum of three given integers. However, if two values are equal sum will be zero. "
   ]
  },
  {
   "cell_type": "code",
   "execution_count": null,
   "id": "c58f8267-02e5-4b45-a499-a3efff113c16",
   "metadata": {},
   "outputs": [],
   "source": [
    "a = int(input(\"Enter a number here: \"))\n",
    "b = int(input(\"Enter a number here: \"))\n",
    "c = int(input(\"Enter a number here: \"))\n",
    "\n",
    "if a == b or b == c or a == c:\n",
    "    print(\"You have similar numbers\")\n",
    "else:\n",
    "    print(a + b + c)"
   ]
  },
  {
   "cell_type": "markdown",
   "id": "04d33b14-6fbb-46a6-a892-b705ab4572b4",
   "metadata": {},
   "source": [
    "## 13) Write a Python program that will return true if the two given integer values are equal or their sum or difference is 5."
   ]
  },
  {
   "cell_type": "code",
   "execution_count": null,
   "id": "19ec39a2-0974-45da-a063-bda0d8321245",
   "metadata": {},
   "outputs": [],
   "source": [
    "x = int(input(\"Enter num x: \"))\n",
    "y = int(input(\"Enter num y: \"))\n",
    "\n",
    "if x == y or x - y == 5 or x + y == 5:\n",
    "    print(\"True\")\n",
    "else:\n",
    "    print(\"False\")"
   ]
  },
  {
   "cell_type": "markdown",
   "id": "5b438376-7d73-4fcb-934c-54f3e97308d5",
   "metadata": {},
   "source": [
    "## 14) Write a python program to sum of the first n positive integers. "
   ]
  },
  {
   "cell_type": "code",
   "execution_count": null,
   "id": "84c349f4-9551-4dcd-968e-8dc7c56d195e",
   "metadata": {},
   "outputs": [],
   "source": [
    "n = int(input(\"Enter a number here: \"))\n",
    "\n",
    "for i in range(1, n):\n",
    "    n += i\n",
    "\n",
    "print(n)"
   ]
  },
  {
   "cell_type": "markdown",
   "id": "fab06d31-41e6-4009-a18d-5cfed796f740",
   "metadata": {},
   "source": [
    "## 15) Write a Python program to calculate the length of a string. "
   ]
  },
  {
   "cell_type": "code",
   "execution_count": null,
   "id": "a188f757-6b56-48e8-a2f9-a607b2043e20",
   "metadata": {},
   "outputs": [],
   "source": [
    "s = str(input(\"Enter String here: \"))\n",
    "\n",
    "len = len(s)\n",
    "print(\"Lenght of String is: \", len)"
   ]
  },
  {
   "cell_type": "markdown",
   "id": "5a3c1cb9-de38-4a77-aa46-14db3dca1a13",
   "metadata": {},
   "source": [
    "## 16) Write a Python program to count the number of characters (character frequency) in a string "
   ]
  },
  {
   "cell_type": "code",
   "execution_count": null,
   "id": "fc8db44b-553a-48da-b6e1-aeb1843ea1d5",
   "metadata": {},
   "outputs": [],
   "source": [
    "str = input(\"Enter a String here: \")\n",
    "dic = {}\n",
    "\n",
    "for i in str:\n",
    "    if i in dic:\n",
    "        dic[i] = dic[i] + 1\n",
    "    else:\n",
    "        dic[i] = 1\n",
    "\n",
    "print(dic)"
   ]
  },
  {
   "cell_type": "markdown",
   "id": "9083ced1-4949-4e64-ad86-8d4734c00341",
   "metadata": {},
   "source": [
    "## 17) What are negative indexes and why are they used? "
   ]
  },
  {
   "cell_type": "markdown",
   "id": "a822cf18-538f-426f-84f2-697c5f3e2e44",
   "metadata": {},
   "source": [
    "* Negative indexing allows you to access elements of a sequence from the end, using negative numbers as indexes. This can be useful for getting the last few elements of a sequence, reversing a sequence, or performing other operations that require accessing elements from the end."
   ]
  },
  {
   "cell_type": "markdown",
   "id": "8d46b526-0621-4f42-8cc5-de4bc172f1d8",
   "metadata": {},
   "source": [
    "## 18) Write a Python program to count occurrences of a substring in a string."
   ]
  },
  {
   "cell_type": "code",
   "execution_count": null,
   "id": "7479e7fd-11de-4b37-bbcd-23bb17bda67f",
   "metadata": {},
   "outputs": [],
   "source": [
    "string = input(\"Enter the String here: \")\n",
    "sub_string = input(\"Enter the Sub-string you want to count: \")\n",
    "\n",
    "count = string.count(sub_string)\n",
    "\n",
    "print(\"The word\", sub_string ,\"occurs\", count ,\"times in\", string)"
   ]
  },
  {
   "cell_type": "markdown",
   "id": "35cf9bc2-a639-474a-b5d0-e30348ba59ed",
   "metadata": {},
   "source": [
    "## 19) Write a Python program to count the occurrences of each word in a given sentence"
   ]
  },
  {
   "cell_type": "code",
   "execution_count": null,
   "id": "9d4537ea-f178-4109-95ea-41e95097c6f0",
   "metadata": {},
   "outputs": [],
   "source": [
    "x = str(input(\"Enter a String here: \"))\n",
    "dict = {}\n",
    "words = x.split()\n",
    "\n",
    "for i in words:\n",
    "    if i in dict:\n",
    "        dict[i] = dict[i] + 1\n",
    "    else:\n",
    "        dict[i] = 1\n",
    "\n",
    "print(dict)"
   ]
  },
  {
   "cell_type": "markdown",
   "id": "a87c3179-d823-4367-a110-eefdf25f8857",
   "metadata": {},
   "source": [
    "## 20) Write a Python program to get a single string from two given strings, separated by a space and swap the first two characters of each string."
   ]
  },
  {
   "cell_type": "code",
   "execution_count": null,
   "id": "a10674f8-13f8-459d-bac1-454dc2100007",
   "metadata": {},
   "outputs": [],
   "source": [
    "s = str(input(\"Enter String here: \"))\n",
    "y = str(input(\"Enter String here: \"))\n",
    "\n",
    "s, y = y[0:1] + s[1:], s[0:1] + y[1:]\n",
    "\n",
    "print(s, y, sep=\" \")"
   ]
  },
  {
   "cell_type": "markdown",
   "id": "e6213aa9-bcef-4f7b-a9fe-ec74adfef767",
   "metadata": {},
   "source": [
    "## 21) Write a Python program to add 'in' at the end of a given string (length should be at least 3). If the given string already ends with 'ing' then add 'ly' instead if the string length of the given string is less than 3, leave it unchanged."
   ]
  },
  {
   "cell_type": "code",
   "execution_count": null,
   "id": "3aae077c-6baf-406c-8b07-711e74024e6f",
   "metadata": {},
   "outputs": [],
   "source": [
    "x = str(input(\"Enter a String here: \"))\n",
    "\n",
    "if len(x) < 3:\n",
    "    print(x)\n",
    "elif x.endswith(\"ing\") == True:\n",
    "    print(x + \"ly\")\n",
    "else:\n",
    "    print(x + \"in\")"
   ]
  },
  {
   "cell_type": "markdown",
   "id": "3379fe2c-0a5c-4942-99d9-fdb65b0e3956",
   "metadata": {},
   "source": [
    "## 22) Write a Python function to reverses a string if its length is a multiple of 4. "
   ]
  },
  {
   "cell_type": "code",
   "execution_count": null,
   "id": "af2c39b3-a7a1-4f48-9f66-22dbe15079f1",
   "metadata": {},
   "outputs": [],
   "source": [
    "x = str(input(\"Enter a String here: \"))\n",
    "\n",
    "if len(x) % 4 == 0:\n",
    "    print(x[::-1])\n",
    "else:\n",
    "    print(\"String's length is not a multiple of 4\")"
   ]
  },
  {
   "cell_type": "markdown",
   "id": "b96f4086-0446-408d-8eb8-221c7fede152",
   "metadata": {},
   "source": [
    "## 23) Write a Python program to get a string made of the first 2 and the last 2 chars from a given a string. If the string length is less than 2, return instead of the empty string. "
   ]
  },
  {
   "cell_type": "code",
   "execution_count": null,
   "id": "08e6a15e-665e-49ac-9ed1-c0dc88cc1b24",
   "metadata": {},
   "outputs": [],
   "source": [
    "x = str(input(\"Enter a String here: \"))\n",
    "\n",
    "if len(x) > 2:\n",
    "    print(x[0:2]+x[-2:])\n",
    "else:\n",
    "    print()"
   ]
  },
  {
   "cell_type": "markdown",
   "id": "c25b9131-8e31-4bb1-9cc0-485568a5110d",
   "metadata": {},
   "source": [
    "## 24) Write a Python function to insert a string in the middle of a string. "
   ]
  },
  {
   "cell_type": "code",
   "execution_count": null,
   "id": "fb253634-81fd-4fea-8d57-4283c93efb80",
   "metadata": {},
   "outputs": [],
   "source": [
    "x = str(input(\"Enter a String here: \"))\n",
    "y = str(input(\"Enter a String to insert in the middle here: \"))\n",
    "\n",
    "if len(x)//2 == 0:\n",
    "    print(x"
   ]
  },
  {
   "cell_type": "markdown",
   "id": "db674600-5b7e-4936-ac41-59dce242af50",
   "metadata": {},
   "source": [
    "## 25) What is List? How will you reverse a list? "
   ]
  },
  {
   "cell_type": "markdown",
   "id": "f72eb217-1f12-4051-8720-b39454f07591",
   "metadata": {},
   "source": [
    "* Negative indexing allows you to access elements of a sequence from the end, using negative numbers as indexes. This can be useful for getting the last few elements of a sequence, reversing a sequence, or performing other operations that require accessing elements from the end."
   ]
  },
  {
   "cell_type": "markdown",
   "id": "174b7495-c741-43b8-8a19-4b9c49722891",
   "metadata": {},
   "source": [
    "## 26) How will you remove last object from a list? "
   ]
  },
  {
   "cell_type": "markdown",
   "id": "4193289c-0d5e-48d0-bb3e-75bf6225d9fc",
   "metadata": {},
   "source": [
    "* To remove the last object from a list in Python, you have a few options. Here are the most common methods:\n",
    "1) Using the pop() method: my_list.pop()\n",
    "2) Using slicing = my_list: my_list[:-1]\n",
    "3) Using del statement: del my_list[-1]"
   ]
  },
  {
   "cell_type": "markdown",
   "id": "0e0f5a11-4a0f-413a-b2d2-0148ee3e7bfc",
   "metadata": {},
   "source": [
    "## 27) Suppose list1 is [2, 33, 222, 14, and 25], what is list1 [-1]?"
   ]
  },
  {
   "cell_type": "markdown",
   "id": "8a79e2e3-18de-45e3-9832-768eb1bf2d75",
   "metadata": {},
   "source": [
    "* The list [-1] means value of last element: [25]"
   ]
  },
  {
   "cell_type": "markdown",
   "id": "b811b48f-e114-4592-9e92-6a964055f9c8",
   "metadata": {},
   "source": [
    "## 28) Differentiate between append () and extend () methods? "
   ]
  },
  {
   "cell_type": "markdown",
   "id": "77256e23-bb5d-47c7-9c2f-891a3bf9e186",
   "metadata": {},
   "source": [
    "* append(): Adds its argument as a single element to the end of the list. The argument can be of any type.\n",
    "\n",
    "Example:\n",
    "my_list = [1, 2, 3]\n",
    "my_list.append(4)\n",
    "print(my_list)  # Output: [1, 2, 3, 4]\n",
    "\n",
    "my_list.append([5, 6])\n",
    "print(my_list)  # Output: [1, 2, 3, 4, [5, 6]]\n",
    "\n",
    "* extend(): Iterates over its argument, adding each element to the end of the list. The argument must be an ite\n",
    "\n",
    "Example:\n",
    "my_list = [1, 2, 3]\n",
    "my_list.extend([4, 5])\n",
    "print(my_list)  # Output: [1, 2, 3, 4, 5]\n",
    "\n",
    "my_list.extend('abc')\n",
    "print(my_list)  # Output: [1, 2, 3, 4, 5, 'a', 'b','c']\n",
    "rable."
   ]
  },
  {
   "cell_type": "markdown",
   "id": "c6db52ee-1a3c-47f9-ab69-c911a7797302",
   "metadata": {},
   "source": [
    "## 29) Write a Python function to get the largest number, smallest num and sum of all from a list. "
   ]
  },
  {
   "cell_type": "code",
   "execution_count": null,
   "id": "909a89e8-56a3-4bfe-9350-e5b5be2882fa",
   "metadata": {},
   "outputs": [],
   "source": [
    "a = [1,3,5,2,7,2,9,5,4,2]\n",
    "\n",
    "print(min(a))\n",
    "print(max(a))\n",
    "print(sum(a))"
   ]
  },
  {
   "cell_type": "markdown",
   "id": "df28d465-03fe-445f-9879-e86ff79d3c5a",
   "metadata": {},
   "source": [
    "## 30) How will you compare two lists?"
   ]
  },
  {
   "cell_type": "code",
   "execution_count": null,
   "id": "08fe8c82-a3d6-477f-9780-09fe8cca87ba",
   "metadata": {},
   "outputs": [],
   "source": [
    "list1 = [1, 2, 3, 4]\n",
    "list2 = [1, 2, 3, 4]\n",
    "\n",
    "equal = list1 == list2\n",
    "print(equal)"
   ]
  },
  {
   "cell_type": "markdown",
   "id": "9955e7fc-aa42-4f3b-a05f-cbfaadd52040",
   "metadata": {},
   "source": [
    "## 31) Write a Python program to count the number of strings where the string length is 2 or more and the first and last character are same from a given list of strings. "
   ]
  },
  {
   "cell_type": "code",
   "execution_count": null,
   "id": "af29d8d1-65ce-4c76-9f6f-fdbea87f3229",
   "metadata": {},
   "outputs": [],
   "source": [
    "x = str(input(\"Enter a string:\"))\n",
    "\n",
    "if len(x) >= 2 and x[0] == x[-1]:\n",
    "    print(len(x))\n",
    "else:\n",
    "    print(\"Write another string\")"
   ]
  },
  {
   "cell_type": "markdown",
   "id": "e3f54c89-edc4-4438-a20b-d8b3bd5b6bb5",
   "metadata": {},
   "source": [
    "## 32) Write a Python program to remove duplicates from a list. "
   ]
  },
  {
   "cell_type": "code",
   "execution_count": null,
   "id": "54db7be9-f6d6-45d8-b319-cb0b14ef7c91",
   "metadata": {},
   "outputs": [],
   "source": [
    "x = list(input(\"Enter the list of numbers here: \"))\n",
    "print(x)\n",
    "\n",
    "print(set(x))"
   ]
  },
  {
   "cell_type": "markdown",
   "id": "56efcb5a-b739-4bde-a8a3-1ba4be0ef4aa",
   "metadata": {},
   "source": [
    "## 33) Write a Python program to check a list is empty or not. "
   ]
  },
  {
   "cell_type": "code",
   "execution_count": null,
   "id": "71fd4b46-5d1e-46a1-b614-d853bc25ca5d",
   "metadata": {},
   "outputs": [],
   "source": [
    "x = list(input(\"Enter the list of numbers here: \"))\n",
    "\n",
    "for i in x:\n",
    "    if x.count(i) == 0:\n",
    "        print(\"List x is empty\")\n",
    "\n",
    "print(x)"
   ]
  },
  {
   "cell_type": "markdown",
   "id": "aa4a0439-be48-47da-9ab4-f15cb73feb3f",
   "metadata": {},
   "source": [
    "## 34) Write a Python function that takes two lists and returns true if they have at least one common member. "
   ]
  },
  {
   "cell_type": "code",
   "execution_count": null,
   "id": "ff1df5a5-8141-4526-97f5-7a89569520fd",
   "metadata": {},
   "outputs": [],
   "source": [
    "x = [1,4,7,3,2,\"abc\"]\n",
    "y = [8,9,5,3,\"abc\"]\n",
    "\n",
    "print(set(x).intersection(set(y)))\n",
    "\n",
    "if len(set(x).intersection(set(y))) > 0:\n",
    "    print(\"True\")\n",
    "else:\n",
    "    print(\"False\")"
   ]
  },
  {
   "cell_type": "markdown",
   "id": "5ec1384c-6687-4b48-ac59-fa3134cb6374",
   "metadata": {},
   "source": [
    "## 35) Write a Python program to generate and print a list of first and last 5 elements where the values are square of numbers between 1 and 30."
   ]
  },
  {
   "cell_type": "code",
   "execution_count": null,
   "id": "94b8abd8-546c-435c-a6a9-0df627ecab63",
   "metadata": {},
   "outputs": [],
   "source": [
    "x = [a**2 for a in range(1,31)]\n",
    "print(x)\n",
    "print(x[0:5] + x[-5:])"
   ]
  },
  {
   "cell_type": "markdown",
   "id": "12ffc738-a351-4ba7-9247-e1fb3b8aec4a",
   "metadata": {},
   "source": [
    "## 36) Write a Python function that takes a list and returns a new list with unique elements of the first list. "
   ]
  },
  {
   "cell_type": "code",
   "execution_count": null,
   "id": "a36b58cc-8249-4b9e-a2ad-beec30805ae9",
   "metadata": {},
   "outputs": [],
   "source": [
    "x = [1,3,43,4,4,3,2,2,7,90,53,3]\n",
    "print(x)\n",
    "y = set(x)\n",
    "x = list(y)\n",
    "print(x)"
   ]
  },
  {
   "cell_type": "markdown",
   "id": "55c8fba3-f8f9-4d9c-a967-bf240e1e41e4",
   "metadata": {},
   "source": [
    "## 37) Write a Python program to convert a list of characters into a string. "
   ]
  },
  {
   "cell_type": "code",
   "execution_count": null,
   "id": "f1a8382d-be88-4024-9dd0-8a1bd2fabc58",
   "metadata": {},
   "outputs": [],
   "source": [
    "x = ['a','d','g','d','a','4']\n",
    "c = ''.join(x)\n",
    "print(c)"
   ]
  },
  {
   "cell_type": "markdown",
   "id": "9c5e2df6-d28a-4cb3-915e-afe5c195fd01",
   "metadata": {},
   "source": [
    "## 38) Write a Python program to select an item randomly from a list. "
   ]
  },
  {
   "cell_type": "code",
   "execution_count": null,
   "id": "18b5c0de-c7ce-41ac-943b-496053054545",
   "metadata": {},
   "outputs": [],
   "source": [
    "import random\n",
    "a = list(input(\"Enter list\"))\n",
    "print(a)\n",
    "b = random.choice(a)\n",
    "print(b)"
   ]
  },
  {
   "cell_type": "markdown",
   "id": "88d8b45f-1324-4241-b507-27df474410bb",
   "metadata": {},
   "source": [
    "## 39) Write a Python program to find the second smallest number in a list. "
   ]
  },
  {
   "cell_type": "code",
   "execution_count": null,
   "id": "6805cd00-a786-44cd-945f-f1d116e91bb5",
   "metadata": {},
   "outputs": [],
   "source": [
    "list = [1,3,42,34,6,3,3,5,4,7]\n",
    "list.sort()\n",
    "print(list[1:2])"
   ]
  },
  {
   "cell_type": "markdown",
   "id": "e953eccd-12a5-411a-93bf-293a37192dbf",
   "metadata": {},
   "source": [
    "## 40) Write a Python program to get unique values from a list "
   ]
  },
  {
   "cell_type": "code",
   "execution_count": null,
   "id": "28903a2d-a70d-496e-bffb-b768bc9c3622",
   "metadata": {},
   "outputs": [],
   "source": [
    "list = [1,3,42,34,6,3,3,5,4,7]\n",
    "a = set(list)\n",
    "print(a)"
   ]
  },
  {
   "cell_type": "markdown",
   "id": "44429b4e-bfe6-4bcc-ac80-730a85a39a66",
   "metadata": {},
   "source": [
    "## 41) Write a Python program to check whether a list contains a sub list "
   ]
  },
  {
   "cell_type": "code",
   "execution_count": null,
   "id": "5ef7bc3f-efa0-4cfe-aae0-89e406dbfc44",
   "metadata": {},
   "outputs": [],
   "source": [
    "a=[1,2,3,4,5]\n",
    "b=[1,2]\n",
    "for i in b:\n",
    "    if i not in a:\n",
    "        print(\"Does not contain sub list\")\n",
    "        break\n",
    "else:\n",
    "    print(\"Contains sub list\")"
   ]
  },
  {
   "cell_type": "markdown",
   "id": "5c3cb2d5-9e7f-43bc-94d8-19e2b0208ab1",
   "metadata": {},
   "source": [
    "## 42) Write a Python program to split a list into different variables. "
   ]
  },
  {
   "cell_type": "code",
   "execution_count": null,
   "id": "81df65ab-64ca-4425-9013-2c206a93b952",
   "metadata": {},
   "outputs": [],
   "source": [
    "list = [1,2,3,4,5]\n",
    "var1, var2, var3, var4, var5 = list\n",
    "print(\"Var 1:\", var1)"
   ]
  },
  {
   "cell_type": "markdown",
   "id": "4fc65595-f5ff-4464-8231-2c884b3a87c8",
   "metadata": {},
   "source": [
    "## 43) What is tuple? Difference between list and tuple. "
   ]
  },
  {
   "cell_type": "markdown",
   "id": "1a3de514-ff3f-426a-81de-2b80aae75ad6",
   "metadata": {},
   "source": [
    "* A tuple is an immutable sequence type in Python. This means once a tuple is created, its contents cannot be changed. Tuples can store multiple items, which can be of different data types, and they are defined by enclosing the items in parentheses ().\n",
    "\n",
    "### Differnce between list and tuple:\n",
    "* Syntax: List: Defined using square brackets []. Tuple: Defined using parentheses ().\n",
    "* Mutability: List: Mutable (can be modified after creation). Tuple: Immutable (cannot be modified after creation).\n",
    "* Performance: List: Generally slower due to overhead associated with dynamic resizing and additional methods. Tuple: Generally faster due to fixed size and immutability.\n",
    "* Use Cases: List: Used for collections of items that may need to be changed or modified. Tuple: Used for fixed collections of items or when immutability is desired (e.g., as keys in dictionaries)."
   ]
  },
  {
   "cell_type": "markdown",
   "id": "61b7086e-0beb-4e5a-b4dd-27831cc1eab9",
   "metadata": {},
   "source": [
    "## 44) Write a Python program to create a tuple with different data types. "
   ]
  },
  {
   "cell_type": "code",
   "execution_count": null,
   "id": "adcc3ae8-8156-418c-8fb8-dcd215390b58",
   "metadata": {},
   "outputs": [],
   "source": [
    "a = (1, \"a\", 4.42, [1,3], 3)\n",
    "print(a)\n",
    "type(a)"
   ]
  },
  {
   "cell_type": "markdown",
   "id": "9be93b28-f507-437b-8136-7d8cb1701f58",
   "metadata": {},
   "source": [
    "## 45) Write a Python program to unzip a list of tuples into individual lists. "
   ]
  },
  {
   "cell_type": "code",
   "execution_count": null,
   "id": "24b196dc-421d-4b02-b667-6dc843bad0a2",
   "metadata": {},
   "outputs": [],
   "source": [
    "# Ensure 'list' is not redefined\n",
    "# If necessary, run: del list\n",
    "\n",
    "# Define a list of tuples\n",
    "list_of_tuples = [(1, 'a', 3.5), (2, 'b', 4.5), (3, 'c', 5.5)]\n",
    "\n",
    "# Use zip with unpacking to unzip the list of tuples\n",
    "unzipped_lists = list(zip(*list_of_tuples))\n",
    "\n",
    "# Convert each tuple in the unzipped_lists to a list\n",
    "list1, list2, list3 = [list(tup) for tup in unzipped_lists]\n",
    "\n",
    "# Print the individual lists\n",
    "print(\"List 1:\", list1)\n",
    "print(\"List 2:\", list2)\n",
    "print(\"List 3:\", list3)"
   ]
  },
  {
   "cell_type": "markdown",
   "id": "74c86f9e-9909-4916-950a-6d4134167acc",
   "metadata": {},
   "source": [
    "## 46) Write a Python program to convert a list of tuples into a dictionary. "
   ]
  },
  {
   "cell_type": "code",
   "execution_count": null,
   "id": "5c4b146f-6f5c-4228-9eab-1261195c21c1",
   "metadata": {},
   "outputs": [],
   "source": [
    "list_of_tuple = [(\"a\", 1),(\"b\", 2),(\"c\", 3),(\"d\", 4)]\n",
    "\n",
    "dict = dict(list_of_tuple)\n",
    "print(dict)"
   ]
  },
  {
   "cell_type": "markdown",
   "id": "8ee83030-1653-4a93-80f8-0e411585a453",
   "metadata": {},
   "source": [
    "## 47) How will you create a dictionary using tuples in python? "
   ]
  },
  {
   "cell_type": "markdown",
   "id": "bc6e271f-21c4-494a-942a-5ff29b34784a",
   "metadata": {},
   "source": [
    "### Explanation:\n",
    "* List of Tuples: Each tuple in the list should have exactly two elements: the first element is the key and the second is the value.\n",
    "* Using dict(): This built-in function takes an iterable of key-value pairs (tuples) and constructs a dictionary.\n",
    "* Using Dictionary Comprehension: This method provides a more flexible way to create a dictionary, which can be useful if you need to apply transformations or filters during dictionary creation."
   ]
  },
  {
   "cell_type": "markdown",
   "id": "72f1dea4-af5c-4f34-8033-9b3b73a7145f",
   "metadata": {},
   "source": [
    "## 48) Write a Python script to sort (ascending and descending) a dictionary by value. "
   ]
  },
  {
   "cell_type": "code",
   "execution_count": null,
   "id": "1060bf8d-9811-4f27-8065-bdb1da3aee10",
   "metadata": {},
   "outputs": [],
   "source": [
    "# Define a dictionary\n",
    "my_dict = {'apple': 5, 'banana': 2, 'cherry': 7, 'date': 3}\n",
    "\n",
    "# Sort the dictionary by value in ascending order\n",
    "ascending_sorted_dict = (sorted(my_dict.items(), key=lambda item: item[1]))\n",
    "\n",
    "# Sort the dictionary by value in descending order\n",
    "descending_sorted_dict = (sorted(my_dict.items(), key=lambda item: item[1], reverse=True))\n",
    "\n",
    "# Print the sorted dictionaries\n",
    "print(\"Ascending Order:\", ascending_sorted_dict)\n",
    "print(\"Descending Order:\", descending_sorted_dict)"
   ]
  },
  {
   "cell_type": "markdown",
   "id": "64ff643b-1899-4325-ad45-b9162d519432",
   "metadata": {},
   "source": [
    "## 49) Write a Python script to concatenate following dictionaries to create a new one. "
   ]
  },
  {
   "cell_type": "code",
   "execution_count": null,
   "id": "213c4b07-174f-46be-be95-055470d16908",
   "metadata": {},
   "outputs": [],
   "source": [
    "# Define dictionaries to concatenate\n",
    "dict1 = {'a': 1, 'b': 2}\n",
    "dict2 = {'c': 3, 'd': 4}\n",
    "dict3 = {'e': 5, 'f': 6}\n",
    "\n",
    "# Concatenate dictionaries\n",
    "concatenated_dict = {**dict1, **dict2, **dict3}\n",
    "\n",
    "# Print the resulting dictionary\n",
    "print(\"Concatenated Dictionary:\", concatenated_dict)"
   ]
  },
  {
   "cell_type": "markdown",
   "id": "2a5f4f84-a17e-4575-a13d-c8612ec4d29a",
   "metadata": {},
   "source": [
    "## 50) Write a Python script to check if a given key already exists in a dictionary. "
   ]
  },
  {
   "cell_type": "code",
   "execution_count": null,
   "id": "be53aaed-b0a4-40db-8d67-61aa804bf996",
   "metadata": {},
   "outputs": [],
   "source": [
    "# Define a dictionary\n",
    "dic1 = {'name': 'Alice', 'age': 30, 'city': 'New York'}\n",
    "\n",
    "# Define the key to check\n",
    "key = 'age'\n",
    "\n",
    "# Check if the key exists in the dictionary\n",
    "if key in dic1:\n",
    "    print(f\"Key '{key}' exists in the dictionary.\")\n",
    "else:\n",
    "    print(f\"Key '{key}' does not exist in the dictionary.\")"
   ]
  },
  {
   "cell_type": "markdown",
   "id": "a305df87-51c5-4fc4-990d-30fd98ff5762",
   "metadata": {},
   "source": [
    "## 51) How Do You Traverse Through a Dictionary Object in Python? "
   ]
  },
  {
   "cell_type": "markdown",
   "id": "3cb1d81d-e844-48b8-a6e8-41dffc0e28a8",
   "metadata": {},
   "source": [
    "There are many ways to transverse through a dictionary.\n",
    "* By using for loop method.\n",
    "* By usinf values().\n",
    "* By using keys().\n",
    "* By using items().\n",
    "* And by using Iterators."
   ]
  },
  {
   "cell_type": "markdown",
   "id": "7fa15ef5-c506-49e0-a019-ce923030fada",
   "metadata": {},
   "source": [
    "## 52) How Do You Check the Presence of a Key in A Dictionary? "
   ]
  },
  {
   "cell_type": "code",
   "execution_count": null,
   "id": "05a3ce00-4863-4e49-a8fe-89ecab0cbaf9",
   "metadata": {},
   "outputs": [],
   "source": [
    "my_dict = {'a': 1, 'b': 2, 'c': 3}\n",
    "\n",
    "if 'b' in my_dict:\n",
    "    print(\"Key 'b' is present.\")\n",
    "else:\n",
    "    print(\"Key 'b' is not present.\")"
   ]
  },
  {
   "cell_type": "markdown",
   "id": "d80c35f7-a842-4309-8f07-9c6d43602733",
   "metadata": {},
   "source": [
    "## 53) Write a Python script to print a dictionary where the keys are numbers between 1 and 15. "
   ]
  },
  {
   "cell_type": "code",
   "execution_count": null,
   "id": "0bb69d55-45d5-40a0-bfa5-4d7d1413e8b3",
   "metadata": {},
   "outputs": [],
   "source": [
    "my_dict = {key: None for key in range(1,16)}\n",
    "\n",
    "print(my_dict)"
   ]
  },
  {
   "cell_type": "markdown",
   "id": "101c904d-4236-4d05-bb95-5ddce33eff0b",
   "metadata": {},
   "source": [
    "## 54) Write a Python program to check multiple keys exists in a dictionary "
   ]
  },
  {
   "cell_type": "code",
   "execution_count": null,
   "id": "937649dd-6b11-440e-8229-6beeef4c6e28",
   "metadata": {},
   "outputs": [],
   "source": [
    "my_dict = {'a': 1, 'b': 2, 'b': 3}\n",
    "\n",
    "def check_multi_key(my_dict, key):\n",
    "    return my_dict.get(key, 0)>1\n",
    "\n",
    "if check_multi_key(my_dict, 'b'):\n",
    "    print(\"The key 'b' appears more than once.\")\n",
    "else:\n",
    "    print(\"The key 'b' does not appear more than once.\")"
   ]
  },
  {
   "cell_type": "markdown",
   "id": "b6408737-0066-442c-a729-638a2e04f8c4",
   "metadata": {},
   "source": [
    "## 55) Write a Python script to merge two Python dictionaries "
   ]
  },
  {
   "cell_type": "code",
   "execution_count": null,
   "id": "048b7808-a465-40d4-96fb-71f09e2b8a93",
   "metadata": {},
   "outputs": [],
   "source": [
    "dict1 = {'a': 1, 'b': 2}\n",
    "dict2 = {'b': 3, 'c': 4}\n",
    "\n",
    "dict1.update(dict2)\n",
    "\n",
    "print(\"Merged Dictionary: \",dict1)"
   ]
  },
  {
   "cell_type": "markdown",
   "id": "5e776ec6-d299-4510-9ee3-42f7c9bb0aef",
   "metadata": {},
   "source": [
    "## 56) Write a Python program to map two lists into a dictionary \n",
    "### Sample output: Counter ({'a': 400, 'b': 400,’d’: 400, 'c': 300})."
   ]
  },
  {
   "cell_type": "code",
   "execution_count": null,
   "id": "562f6f22-3be0-41d6-9d19-9bd780847ea1",
   "metadata": {},
   "outputs": [],
   "source": [
    "while True:\n",
    "    keys = input(\"Enter keys (Or 'Stop' to finish): \")\n",
    "    if keys == \"Stop\" or keys == \"stop\" or keys == \"STOP\":\n",
    "        break\n",
    "    values = input(\"Enter values here: \")\n",
    "    dictionary[keys] = values\n",
    "\n",
    "print(\"Dictionary :\" ,dictionary)"
   ]
  },
  {
   "cell_type": "markdown",
   "id": "c400da4f-fe22-484d-81e9-978d47773056",
   "metadata": {},
   "source": [
    "## 57) Write a Python program to find the highest 3 values in a dictionary "
   ]
  },
  {
   "cell_type": "code",
   "execution_count": null,
   "id": "434555dd-d2c6-4e71-a6af-296679afffde",
   "metadata": {},
   "outputs": [],
   "source": [
    "def find_high_3_values(dictionary):\n",
    "  \"Finds the highest 3 values in a dictionary.\"\n",
    "\n",
    "  sorted_values = sorted(dictionary.values(), reverse=True)\n",
    "  return sorted_values[:3]\n",
    "\n",
    "# Example usage:\n",
    "my_dict = {'a': 10, 'b': 5, 'c': 20, 'd': 15}\n",
    "highest_3 = find_high_3_values(my_dict)\n",
    "print(\"Highest 3 values:\", highest_3)"
   ]
  },
  {
   "cell_type": "markdown",
   "id": "2ce6b3e0-20ac-4f6b-abf3-8c7ab4171786",
   "metadata": {},
   "source": [
    "## 58) Write a Python program to combine values in python list of dictionaries.\n",
    "### Sample data: [{'item': 'item1', 'amount': 400}, {'item': 'item2','amount': 300}, o {'item': 'item1', 'amount': 750}]\n",
    "###  Expected Output: Counter ({'item1': 1150, 'item2': 300})"
   ]
  },
  {
   "cell_type": "code",
   "execution_count": null,
   "id": "ec29aa6d-7cee-4e80-9624-f74d40d00a91",
   "metadata": {},
   "outputs": [],
   "source": [
    "from collections import Counter\n",
    "\n",
    "# Sample data\n",
    "\n",
    "data = [\n",
    "    {'item': 'item1', 'amount': 400},\n",
    "    {'item': 'item2', 'amount': 300},\n",
    "    {'item': 'item1', 'amount': 750}\n",
    "]\n",
    "\n",
    "counter = Counter()\n",
    "\n",
    "for entry in data:\n",
    "    item = entry['item']\n",
    "    amount = entry['amount']\n",
    "    counter[item] = counter[item] + amount\n",
    "\n",
    "print(\"Counter\", dict(counters))"
   ]
  },
  {
   "cell_type": "markdown",
   "id": "d1a69c62-12b8-4c44-a0ec-1f51551e2a6f",
   "metadata": {},
   "source": [
    "## 59) Write a Python program to create a dictionary from a string. \n",
    "### Note: Track the count of the letters from the string. "
   ]
  },
  {
   "cell_type": "code",
   "execution_count": null,
   "id": "312c9332-85a4-4829-9ee3-669059d14cba",
   "metadata": {},
   "outputs": [],
   "source": [
    "from collections import Counter\n",
    "\n",
    "string = \"hello world\"\n",
    "\n",
    "letter_count = Counter(string)\n",
    "\n",
    "print(\"Count of letter:\", letter_count)"
   ]
  },
  {
   "cell_type": "markdown",
   "id": "1f4d208b-797f-421d-b4c8-517554683f82",
   "metadata": {},
   "source": [
    "## 60) Sample string:'w3resource' \n",
    "### Expected output: {'3': 1,’s’: 1, 'r': 2, 'u': 1, 'w': 1, 'c': 1, 'e': 2, 'o': 1}"
   ]
  },
  {
   "cell_type": "code",
   "execution_count": null,
   "id": "5b064258-ca42-4c31-8bf6-f3d977888ef5",
   "metadata": {},
   "outputs": [],
   "source": [
    "from collections import Counter\n",
    "# Sample string\n",
    "string = \"w3resource\"\n",
    "\n",
    "letter_count = Counter(string)\n",
    "\n",
    "print(\"Output:\", letter_count)"
   ]
  },
  {
   "cell_type": "markdown",
   "id": "d398939f-4156-4480-9675-5c0cf4db441b",
   "metadata": {},
   "source": [
    "## 61) Write a Python function to calculate the factorial of a number (a nonnegative integer) "
   ]
  },
  {
   "cell_type": "code",
   "execution_count": null,
   "id": "23c78765-5ec5-4afe-a9fe-e4528f062cd6",
   "metadata": {},
   "outputs": [],
   "source": [
    "x = int(input(\"Enter a number here: \"))\n",
    "a = 1\n",
    "\n",
    "for i in range(1, x + 1):\n",
    "    a *= i\n",
    "    \n",
    "print(a)"
   ]
  },
  {
   "cell_type": "markdown",
   "id": "9db85b01-0f11-45b1-9c02-70235454e241",
   "metadata": {},
   "source": [
    "## 62) Write a Python function to check whether a number is in a given range "
   ]
  },
  {
   "cell_type": "code",
   "execution_count": null,
   "id": "45b7a89e-d6dd-4d4e-b787-12dd5f0144e2",
   "metadata": {},
   "outputs": [],
   "source": [
    "def num_in_range(number, lower_limit, upper_limit):\n",
    "    return lower_limit <= number <= upper_limit\n",
    "\n",
    "print(num_in_range(5, 1, 10))\n",
    "print(num_in_range(7, 1, 5))"
   ]
  },
  {
   "cell_type": "markdown",
   "id": "cbd3ef2d-375c-4027-a243-b107d04842fc",
   "metadata": {},
   "source": [
    "## 63) Write a Python function to check whether a number is perfect or not. "
   ]
  },
  {
   "cell_type": "code",
   "execution_count": null,
   "id": "0b457765-28af-43e2-8476-3be61e29b1fc",
   "metadata": {},
   "outputs": [],
   "source": [
    "def perfect_number(n):\n",
    "    \"\"\"Checks if the number is perfect or not\"\"\"\n",
    "    if n <= 1:\n",
    "        return False\n",
    "    # Now find the divisor sum\n",
    "    divisor_sum = 0\n",
    "    for i in range (1, (n//2) + 1):\n",
    "        if n % i == 0:\n",
    "            divisor_sum = i + divisor_sum\n",
    "    return divisor_sum == n\n",
    "\n",
    "# write number n to check\n",
    "n = 28\n",
    "if perfect_number(n):\n",
    "  print(n, \"is a perfect number.\")\n",
    "else:\n",
    "  print(n, \"is not a perfect number.\")"
   ]
  },
  {
   "cell_type": "markdown",
   "id": "409a291c-29a9-4143-89e4-13cbf50a5b7b",
   "metadata": {},
   "source": [
    "## 64) Write a Python function that checks whether a passed string is palindrome or not "
   ]
  },
  {
   "cell_type": "code",
   "execution_count": null,
   "id": "79efbf07-4e43-4772-91b3-8b895653248f",
   "metadata": {},
   "outputs": [],
   "source": [
    "# For a Single word\n",
    "x = str(input(\"Enter a String here:\"))\n",
    "\n",
    "if x.lower() == x[::-1].lower():\n",
    "    print(\"It is a Palindrome\")\n",
    "else:\n",
    "    print(\"It's not a Palindrome\")"
   ]
  },
  {
   "cell_type": "code",
   "execution_count": null,
   "id": "e409ba46-becd-4576-8000-7e5db604070b",
   "metadata": {},
   "outputs": [],
   "source": [
    "# For one or more than one word\n",
    "def is_palindrome(s):\n",
    "    s_1 = s.replace(\" \",\"\").lower()\n",
    "    if s_1 == s_1[::-1]:\n",
    "        print(\"It is a Palindrome\")\n",
    "    else:\n",
    "        print(\"It's not a Palindrome\")\n",
    "    return s"
   ]
  },
  {
   "cell_type": "code",
   "execution_count": null,
   "id": "f2ed2623-30d4-4072-bb03-7c32da2bf318",
   "metadata": {},
   "outputs": [],
   "source": [
    "is_palindrome(\"iTopiNonAvevanoNipoti\")"
   ]
  },
  {
   "cell_type": "markdown",
   "id": "170a4545-73a1-4273-9730-365d4d06a99d",
   "metadata": {},
   "source": [
    "## 65) How Many Basic Types of Functions Are Available in Python? "
   ]
  },
  {
   "cell_type": "markdown",
   "id": "0cb0d91c-a14e-4917-ab5e-c90eaabfef2d",
   "metadata": {},
   "source": [
    "* Built-in Functions: Predefined functions available in Python.\n",
    "* User-Defined Functions: Functions defined by the user using the def keyword.\n",
    "* Lambda Functions: Anonymous functions created using the lambda keyword.\n",
    "* Higher-Order Functions: Functions that accept other functions as arguments or return them.\n",
    "* Recursive Functions: Functions that call themselves.\n",
    "* Generator Functions: Functions that use yield to produce a sequence of values.\n",
    "* Coroutine Functions: Asynchronous functions defined with async def and used with await."
   ]
  },
  {
   "cell_type": "markdown",
   "id": "a2e360e2-d821-44e9-8ed5-45645569ddc4",
   "metadata": {},
   "source": [
    "## 66) How can you pick a random item from a list or tuple? "
   ]
  },
  {
   "cell_type": "code",
   "execution_count": null,
   "id": "19d640ee-eeef-44d9-b059-b925115fcaca",
   "metadata": {},
   "outputs": [],
   "source": [
    "import random\n",
    "\n",
    "# Example list and tuple\n",
    "my_list = [1, 2, 3, 4, 5]\n",
    "my_tuple = ('apple', 'banana', 'cherry', 'date')\n",
    "\n",
    "# Pick a random item from the list\n",
    "random_item_list = random.choice(my_list)\n",
    "# Pick a random item from the tuple\n",
    "random_item_tuple = random.choice(my_tuple)\n",
    "\n",
    "print(\"Random item from list:\", random_item_list)\n",
    "print(\"Random item from tuple:\", random_item_tuple)"
   ]
  },
  {
   "cell_type": "markdown",
   "id": "77aa1808-3080-41f3-8cfb-0299d2752b42",
   "metadata": {},
   "source": [
    "## 67) How can you pick a random item from a range? "
   ]
  },
  {
   "cell_type": "code",
   "execution_count": null,
   "id": "55eeba83-b231-4879-a374-c11dbe06e28c",
   "metadata": {},
   "outputs": [],
   "source": [
    "import random\n",
    "\n",
    "range_list = list(range(1, 11))\n",
    "\n",
    "# Pick a random item from the list created from the range\n",
    "print(\"Random item from range:\", random.choice(range_list))"
   ]
  },
  {
   "cell_type": "markdown",
   "id": "e27bb561-55cf-48cb-8cd1-578c40647e19",
   "metadata": {},
   "source": [
    "## 68) How can you get a random number in python? "
   ]
  },
  {
   "cell_type": "code",
   "execution_count": null,
   "id": "f4b5e3e8-c178-40b1-b4cc-ade8e8609daa",
   "metadata": {},
   "outputs": [],
   "source": [
    "import random\n",
    "\n",
    "random_int = random.randint(1, 10)\n",
    "print(\"Random integer between 1 and 10:\", random_int)"
   ]
  },
  {
   "cell_type": "markdown",
   "id": "6885621d-4c66-458f-963b-4fa4bdbf4d51",
   "metadata": {},
   "source": [
    "## 69) How will you set the starting value in generating random numbers? "
   ]
  },
  {
   "cell_type": "code",
   "execution_count": null,
   "id": "c1d87a3e-1973-4935-995a-42546eb001fc",
   "metadata": {},
   "outputs": [],
   "source": [
    "import random\n",
    "\n",
    "# Set the seed for reproducibility\n",
    "random.seed(42)\n",
    "\n",
    "# Generate some random numbers\n",
    "random_float1 = random.random()\n",
    "random_int1 = random.randint(1, 10)\n",
    "\n",
    "print(\"Random float with seed 42:\", random_float1)\n",
    "print(\"Random integer with seed 42:\", random_int1)"
   ]
  },
  {
   "cell_type": "markdown",
   "id": "2cc172d8-9327-45d4-a816-22667fd33572",
   "metadata": {},
   "source": [
    "## 70) How will you randomize the items of a list in place? "
   ]
  },
  {
   "cell_type": "code",
   "execution_count": null,
   "id": "af233dde-f77f-4bbb-b89c-6dbee5bf41cc",
   "metadata": {},
   "outputs": [],
   "source": [
    "import random\n",
    "\n",
    "my_list = [1, 2, 3, 4, 5]\n",
    "random.shuffle(my_list)\n",
    "print(my_list)"
   ]
  },
  {
   "cell_type": "markdown",
   "id": "42812b2d-5fd1-4ca9-9664-1af20f7126a1",
   "metadata": {},
   "source": [
    "## 71) What is File function in python? What are keywords to create and write file. "
   ]
  },
  {
   "cell_type": "markdown",
   "id": "984f1ee1-9e93-4564-a43f-fb281da3d87f",
   "metadata": {},
   "source": [
    "##### In Python, handling files is essential for many applications, such as reading and writing data. Python provides built-in functions and methods to work with files. The file function, which was used in Python 2, has been replaced by the open() function in Python 3. The open() function is used to create, read, write, and manipulate files.\n",
    "* open() Function: The primary function used to open files in Python 3.\n",
    "###### Keywords for File Operations:\n",
    "* 'w': Write mode (creates or truncates a file).\n",
    "* 'a': Append mode (adds to an existing file).\n",
    "* 'x': Exclusive creation mode (raises an error if file exists).\n",
    "* 'r': Read mode (reads from the file)."
   ]
  },
  {
   "cell_type": "markdown",
   "id": "190683b2-a9b6-4b99-b693-3a4339b023e9",
   "metadata": {},
   "source": [
    "## 72) Write a Python program to read an entire text file. "
   ]
  },
  {
   "cell_type": "code",
   "execution_count": null,
   "id": "363139a0-84b8-4339-827b-688f94d0d33b",
   "metadata": {},
   "outputs": [],
   "source": [
    "with open('example.txt', 'r') as file:\n",
    "    content = file.read()\n",
    "    print(content)"
   ]
  },
  {
   "cell_type": "markdown",
   "id": "6d334d9a-70ab-4867-a746-f8fe54194932",
   "metadata": {},
   "source": [
    "## 73) Write a Python program to append text to a file and display the text. "
   ]
  },
  {
   "cell_type": "code",
   "execution_count": null,
   "id": "1325f3cc-b2d2-4d7e-b6fd-34986dea0088",
   "metadata": {},
   "outputs": [],
   "source": [
    "def append_text_to_file(filename, text):\n",
    "  \"Appends text to a file and displays the entire contents.\"\n",
    "\n",
    "  with open(filename, 'a') as file:\n",
    "    file.write('\\n' + text)\n",
    "\n",
    "  with open(filename, 'r') as file:\n",
    "    content = file.read()\n",
    "    print(content)\n",
    "\n",
    "filename = \"example.txt\"\n",
    "text_to_append = \"This is some new text.\"\n",
    "\n",
    "append_text_to_file(filename, text_to_append)"
   ]
  },
  {
   "cell_type": "markdown",
   "id": "ab428c18-3df7-4241-aaec-8f1417bbb38b",
   "metadata": {},
   "source": [
    "## 74) Write a Python program to read first n lines of a file. "
   ]
  },
  {
   "cell_type": "code",
   "execution_count": null,
   "id": "5835317c-92c6-4cca-a117-cb0a0e375127",
   "metadata": {},
   "outputs": [],
   "source": [
    "def read_first_n_lines(filename, n):\n",
    "    \"Reads the first n lines of a file.\"\n",
    "\n",
    "    with open(filename, 'r') as file:\n",
    "        lines = file.readlines()\n",
    "        return lines[:n]\n",
    "\n",
    "\n",
    "filename = \"example.txt\"\n",
    "n = 3  # Number of lines to read\n",
    "\n",
    "lines = read_first_n_lines(filename, n)\n",
    "for line in lines:\n",
    "    print(line.strip())"
   ]
  },
  {
   "cell_type": "markdown",
   "id": "61f6344d-1d33-4531-92e1-6802bbb565c2",
   "metadata": {},
   "source": [
    "## 75) Write a Python program to read last n lines of a file. "
   ]
  },
  {
   "cell_type": "code",
   "execution_count": null,
   "id": "aa237412-9312-40c9-9553-b75ae49d59a1",
   "metadata": {},
   "outputs": [],
   "source": [
    "def read_first_n_lines(filename, n):\n",
    "    \"Reads the first n lines of a file.\"\n",
    "\n",
    "    with open(filename, 'r') as file:\n",
    "        lines = file.readlines()\n",
    "        return lines[-n:]\n",
    "\n",
    "\n",
    "filename = \"example.txt\"\n",
    "n = 3  # Number of lines to read\n",
    "\n",
    "lines = read_first_n_lines(filename, n)\n",
    "for line in lines:\n",
    "    print(line.strip())"
   ]
  },
  {
   "cell_type": "markdown",
   "id": "524147e5-b029-49e6-9399-02144fda8277",
   "metadata": {},
   "source": [
    "## 76) Write a Python program to read a file line by line and store it into a list "
   ]
  },
  {
   "cell_type": "code",
   "execution_count": null,
   "id": "2e5dfcad-6c25-4e61-917c-f9953815f031",
   "metadata": {},
   "outputs": [],
   "source": [
    "# Define the filename (update this with your actual file path)\n",
    "filename = 'example.txt'\n",
    "\n",
    "# Initialize an empty list to store lines\n",
    "lines_list = []\n",
    "\n",
    "# Open the file for reading\n",
    "with open(filename, 'r') as file:\n",
    "    # Iterate through each line in the file\n",
    "    for line in file:\n",
    "        # Strip any leading/trailing whitespace (including the newline character) and append to the list\n",
    "        lines_list.append(line.strip())\n",
    "\n",
    "# Print the list to see the result\n",
    "print(lines_list)"
   ]
  },
  {
   "cell_type": "markdown",
   "id": "2dccfa3d-d31f-4e35-8989-0f0c3947b38c",
   "metadata": {},
   "source": [
    "## 77) Write a Python program to read a file line by line store it into a variable. "
   ]
  },
  {
   "cell_type": "code",
   "execution_count": null,
   "id": "c754fa5d-dee5-476e-a343-8647fe15cb79",
   "metadata": {},
   "outputs": [],
   "source": [
    "# Define the filename (update this with your actual file path)\n",
    "filename = 'example.txt'\n",
    "\n",
    "# Initialize an empty string to store the file content\n",
    "file_content = \"123 \"\n",
    "\n",
    "# Open the file for reading\n",
    "with open(filename, 'r') as file:\n",
    "    # Iterate through each line in the file\n",
    "    for line in file:\n",
    "        # Append each line to the string with a newline character\n",
    "        file_content += line\n",
    "\n",
    "# Print the content to see the result\n",
    "print(file_content)"
   ]
  },
  {
   "cell_type": "markdown",
   "id": "55498785-b379-41ef-83d7-92ac335726f0",
   "metadata": {},
   "source": [
    "## 78) Write a python program to find the longest words. "
   ]
  },
  {
   "cell_type": "code",
   "execution_count": null,
   "id": "96f6166f-573e-4255-89cf-142d9804d49d",
   "metadata": {},
   "outputs": [],
   "source": [
    "def find_longest_words(text):\n",
    "    # Split the text into words\n",
    "    words = text.split()\n",
    "    \n",
    "    # Find the length of the longest word\n",
    "    max_length = max(len(word) for word in words)\n",
    "    \n",
    "    # Collect all words with the maximum length\n",
    "    longest_words = [word for word in words if len(word) == max_length]\n",
    "    \n",
    "    return longest_words\n",
    "\n",
    "# Define the filename (update this with your actual file path)\n",
    "filename = 'example.txt'\n",
    "\n",
    "# Read the content of the file\n",
    "with open(filename, 'r') as file:\n",
    "    text = file.read()\n",
    "\n",
    "# Find the longest words in the text\n",
    "longest_words = find_longest_words(text)\n",
    "\n",
    "# Print the longest words\n",
    "print(\"Longest words:\", longest_words)"
   ]
  },
  {
   "cell_type": "markdown",
   "id": "73257154-9d20-44c6-bf85-73cbd3d66375",
   "metadata": {},
   "source": [
    "## 79) Write a Python program to count the number of lines in a text file. "
   ]
  },
  {
   "cell_type": "code",
   "execution_count": null,
   "id": "c60b3172-cd4d-46d1-8050-76e3c8ee55d2",
   "metadata": {},
   "outputs": [],
   "source": [
    "def count_lines_in_file(filename):\n",
    "  \"Counts the number of lines in a text file.\"\n",
    "\n",
    "  with open(filename, 'r') as file:\n",
    "    line_count = 0\n",
    "    for line in file:\n",
    "      line_count += 1\n",
    "  return line_count\n",
    "\n",
    "\n",
    "filename = \"example.txt\"\n",
    "line_count = count_lines_in_file(filename)\n",
    "print(\"Number of lines:\", line_count)"
   ]
  },
  {
   "cell_type": "markdown",
   "id": "aa0d15dd-5d15-4d14-8237-14a1b09ec126",
   "metadata": {},
   "source": [
    "## 80) Write a Python program to count the frequency of words in a file. "
   ]
  },
  {
   "cell_type": "code",
   "execution_count": null,
   "id": "aacbc61d-87e0-4616-8354-b544f8ec0aeb",
   "metadata": {},
   "outputs": [],
   "source": [
    "from collections import Counter\n",
    "\n",
    "def count_word_frequency(filename):\n",
    "  \"Counts the frequency of words in a text file.\"\n",
    "\n",
    "  with open(filename, 'r') as file:\n",
    "    words = file.read().split()\n",
    "    word_count = Counter(words)\n",
    "  return word_count\n",
    "\n",
    "\n",
    "filename = \"example.txt\"\n",
    "word_frequency = count_word_frequency(filename)\n",
    "print(word_frequency)"
   ]
  },
  {
   "cell_type": "markdown",
   "id": "74d0b1d7-0382-4bfe-9f4c-bd086fe8de6d",
   "metadata": {},
   "source": [
    "## 81) Write a Python program to write a list to a file. "
   ]
  },
  {
   "cell_type": "code",
   "execution_count": null,
   "id": "3e45888e-7e35-465d-8dcb-04aa9819ad4b",
   "metadata": {},
   "outputs": [],
   "source": [
    "# Define the list to be written to the file\n",
    "my_list = ['apple', 'banana', 'cherry', 'date', 'elderberry']\n",
    "\n",
    "# Define the filename (update this with your actual file path)\n",
    "filename = 'output.txt'\n",
    "\n",
    "# Open the file for writing\n",
    "with open(filename, 'w') as file:\n",
    "    # Write each item in the list to the file on a new line\n",
    "    for item in my_list:\n",
    "        file.write(item + '\\n')\n",
    "\n",
    "print(f\"List has been written to {filename}\")"
   ]
  },
  {
   "cell_type": "markdown",
   "id": "c2fdb63d-5150-4acc-a487-2d57af0fbc1a",
   "metadata": {},
   "source": [
    "## 82) Write a Python program to copy the contents of a file to another file. "
   ]
  },
  {
   "cell_type": "code",
   "execution_count": null,
   "id": "0ae2161e-27e4-4d9a-ae6b-a9ed51fc0d55",
   "metadata": {},
   "outputs": [],
   "source": [
    "source_filename = 'source.txt'\n",
    "destination_filename = 'destination.txt'\n",
    "\n",
    "# Open the source file for reading and the destination file for writing\n",
    "with open(source_filename, 'r') as source_file:\n",
    "    with open(destination_filename, 'w') as dest_file:\n",
    "        # Read the entire content of the source file\n",
    "        content = source_file.read()\n",
    "        # Write the content to the destination file\n",
    "        dest_file.write(content)\n",
    "\n",
    "print(f\"Contents of {source_filename} have been copied to {destination_filename}\")"
   ]
  },
  {
   "cell_type": "markdown",
   "id": "0107115c-fe00-4f32-a7de-907130bb288f",
   "metadata": {},
   "source": [
    "## 83) Explain Exception handling? What is an Error in Python? "
   ]
  },
  {
   "cell_type": "markdown",
   "id": "b4ef8860-7ebf-4177-a1d9-070e054b28fb",
   "metadata": {},
   "source": [
    "#### Exception Handling in Python\n",
    "* Exception handling is a mechanism to handle runtime errors or exceptional conditions that arise during the execution of a program. It allows a program to deal with unexpected situations gracefully without crashing. In Python, this is typically achieved using try, except, else, and finally blocks.\n",
    "\n",
    "##### Basic Structure of Exception Handling\n",
    "* try Block: Contains the code that might raise an exception. If an error occurs, the rest of the code in this block is skipped.\n",
    "* except Block: Contains code that handles the exception if it occurs. You can specify different types of exceptions to handle different error conditions.\n",
    "* else Block: (Optional) Contains code that runs if no exceptions are raised in the try block.\n",
    "* finally Block: (Optional) Contains code that always runs, regardless of whether an exception was raised or not. This is often used for cleanup actions like closing files or releasing resources.\n",
    "\n",
    "#### Errors in Python\n",
    "* Errors in Python refer to issues that occur when the Python interpreter is unable to execute code. Errors can be classified into two main categories:\n",
    "* Syntax Errors: These occur when there is a mistake in the syntax of the code, such as missing punctuation or incorrect indentation. Syntax errors are detected during the parsing of the code before execution.\n",
    "* Exceptions: These are errors that occur during the execution of a program. Exceptions are typically caused by issues such as invalid operations, file not found, or network errors. They can be handled using exception handling techniques.\n",
    "\n",
    "##### Common Python Errors and Exceptions\n",
    "* ZeroDivisionError: Raised when attempting to divide by zero.\n",
    "* FileNotFoundError: Raised when trying to open a file that does not exist.\n",
    "* IndexError: Raised when trying to access an index that is out of range in a list or tuple.\n",
    "* KeyError: Raised when trying to access a dictionary key that does not exist.\n",
    "* TypeError: Raised when an operation or function is applied to an object of inappropriate type"
   ]
  },
  {
   "cell_type": "markdown",
   "id": "20b2c46d-1ace-4065-82e3-9658922a4f2c",
   "metadata": {},
   "source": [
    "## 84) How many except statements can a try-except block have? Name Some built-in exception classes: "
   ]
  },
  {
   "cell_type": "markdown",
   "id": "6f6c4773-114f-4bfd-aea3-c5c4e0023de4",
   "metadata": {},
   "source": [
    "* In Python, a try block can have multiple except statements to handle different types of exceptions separately. There is no strict limit to the number of except blocks you can have, but having too many can make your code harder to maintain and read. Each except block can handle a specific exception type or a group of exception types.\n",
    "\n",
    "#### Some Built-in Exception Classes in Python\n",
    "\n",
    "* Exception: The base class for all built-in exceptions.\n",
    "* ArithmeticError: Base class for all arithmetic errors.\n",
    "* ZeroDivisionError: Raised when dividing by zero.\n",
    "* OverflowError: Raised when a calculation exceeds the maximum limit for a numeric type.\n",
    "* FloatingPointError: Raised when a floating-point operation fails.\n",
    "* LookupError: Base class for all lookup errors.\n",
    "* IndexError: Raised when an index is out of range.\n",
    "* KeyError: Raised when a dictionary key is not found.\n",
    "* FileNotFoundError: Raised when a file or directory is requested but cannot be found.\n",
    "* IOError: Raised when an I/O operation fails, such as a file read/write error.\n",
    "* ValueError: Raised when a function receives an argument of the right type but inappropriate value.\n",
    "* TypeError: Raised when an operation or function is applied to an object of inappropriate type.\n",
    "* NameError: Raised when a local or global name is not found.\n",
    "* AttributeError: Raised when an invalid attribute reference is made.\n",
    "* RuntimeError: Raised when an error is detected that doesn’t fall into any of the other categories."
   ]
  },
  {
   "cell_type": "markdown",
   "id": "0b9ffdfc-6897-4941-af42-20fa5077c1d8",
   "metadata": {},
   "source": [
    "## 85) When will the else part of try-except-else be executed? "
   ]
  },
  {
   "cell_type": "markdown",
   "id": "b398672b-11b5-4328-8d3a-bf85e0910d95",
   "metadata": {},
   "source": [
    "* The else block in a try-except-else structure is executed only if no exceptions are raised in the try block. It allows you to specify code that should run when the try block completes successfully without encountering any errors."
   ]
  },
  {
   "cell_type": "markdown",
   "id": "40ef7c39-4dd3-4698-bce1-8912867deb43",
   "metadata": {},
   "source": [
    "## 86) Can one block of except statements handle multiple exception? "
   ]
  },
  {
   "cell_type": "markdown",
   "id": "eeb3af55-b54d-4d63-965f-9412d79ad2ca",
   "metadata": {},
   "source": [
    "* Yes, a single except block in Python can handle multiple exceptions. This is useful when you want to catch and handle several types of exceptions in the same way, without writing separate except blocks for each exception type."
   ]
  },
  {
   "cell_type": "markdown",
   "id": "c6b8b788-6952-49b1-b892-560bfb8afc71",
   "metadata": {},
   "source": [
    "## 87) When is the finally block executed? "
   ]
  },
  {
   "cell_type": "markdown",
   "id": "2750e7b9-a4dc-4c5d-ae0a-1d24f1f4255f",
   "metadata": {},
   "source": [
    "* The finally block in a try-except-finally construct is always executed, regardless of whether an exception was raised or not. It is designed to ensure that certain cleanup actions are performed, no matter what happens during the execution of the try block."
   ]
  },
  {
   "cell_type": "markdown",
   "id": "0c588ab7-b410-4a9f-9592-d431201f6603",
   "metadata": {},
   "source": [
    "## 88) What happens when „1‟== 1 is executed? "
   ]
  },
  {
   "cell_type": "code",
   "execution_count": null,
   "id": "62da00a6-f2d5-41a8-9cad-5242774a151b",
   "metadata": {},
   "outputs": [],
   "source": [
    "\"1\"==1"
   ]
  },
  {
   "cell_type": "markdown",
   "id": "6c274827-a1f5-4cab-a2be-34e771c142ca",
   "metadata": {},
   "source": [
    "## 89) How Do You Handle Exceptions with Try/Except/Finally in Python? Explain with coding snippets. "
   ]
  },
  {
   "cell_type": "code",
   "execution_count": null,
   "id": "7705c349-c24e-4f1f-a261-066cb5ab9791",
   "metadata": {},
   "outputs": [],
   "source": [
    "num1 = int(input(\"Enter First number: \"))\n",
    "num2 = int(input(\"Enter Second number: \"))\n",
    "\n",
    "try:\n",
    "    print(num1/num2)\n",
    "except ZeroDivisionError:\n",
    "    print(\"Error : Cannot divide by zero\")\n",
    "except ValueError:\n",
    "    print(\"Error : Enter a valid number\")\n",
    "finally:\n",
    "    print(\"Function is exeuted\")"
   ]
  },
  {
   "cell_type": "markdown",
   "id": "57e5f9e3-1bbb-4ef5-8116-6e1396f928da",
   "metadata": {},
   "source": [
    "## 90) Write python program that user to enter only odd numbers, else will raise an exception."
   ]
  },
  {
   "cell_type": "code",
   "execution_count": null,
   "id": "17a601ee-607c-41b1-b5e0-0d7d1b97ef73",
   "metadata": {},
   "outputs": [],
   "source": [
    "def input_odd_number():\n",
    "  \"Prompts the user to enter an odd number and raises an exception if the input is not odd.\"\n",
    "\n",
    "  while True:\n",
    "    try:\n",
    "      number = int(input(\"Enter an odd number: \"))\n",
    "      if number % 2 == 0:\n",
    "        raise ValueError(\"Please enter an odd number.\")\n",
    "      return number\n",
    "    except ValueError:\n",
    "      print(\"Invalid input. Please enter an odd number.\")\n",
    "\n",
    "try:\n",
    "  odd_number = input_odd_number()\n",
    "  print(\"You entered:\", odd_number)\n",
    "except ValueError:\n",
    "  print(\"Error: You did not enter an odd number.\")"
   ]
  }
 ],
 "metadata": {
  "kernelspec": {
   "display_name": "Python 3 (ipykernel)",
   "language": "python",
   "name": "python3"
  },
  "language_info": {
   "codemirror_mode": {
    "name": "ipython",
    "version": 3
   },
   "file_extension": ".py",
   "mimetype": "text/x-python",
   "name": "python",
   "nbconvert_exporter": "python",
   "pygments_lexer": "ipython3",
   "version": "3.12.4"
  }
 },
 "nbformat": 4,
 "nbformat_minor": 5
}
