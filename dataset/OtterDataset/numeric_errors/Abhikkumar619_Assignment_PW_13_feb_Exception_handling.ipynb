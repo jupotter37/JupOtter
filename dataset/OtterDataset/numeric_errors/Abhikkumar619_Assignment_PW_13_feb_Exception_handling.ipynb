{
 "cells": [
  {
   "cell_type": "code",
   "execution_count": null,
   "id": "7b705274-69a9-4fa0-9cff-8f3cd814f812",
   "metadata": {},
   "outputs": [],
   "source": [
    "'''\n",
    "Q1. Explain why we have to use the Exception class while creating a Custom Exception.\n",
    "\n",
    "Ans: we have to use the Exception class while creating a custom Excetion because  this \n",
    "makes it super easy to create our own custom exception nees not be complicated, \n",
    "just inherit from Exception.\n",
    "\"\"\""
   ]
  },
  {
   "cell_type": "code",
   "execution_count": 6,
   "id": "06cbb7ce-6f90-4657-8a26-7f3c959db488",
   "metadata": {},
   "outputs": [
    {
     "name": "stdin",
     "output_type": "stream",
     "text": [
      "Enter number for numerator 10\n",
      "Enter number for denominator 0\n"
     ]
    },
    {
     "name": "stdout",
     "output_type": "stream",
     "text": [
      "division by zero\n"
     ]
    }
   ],
   "source": [
    "# Write a python program to print Python Exception Hierarchy.\n",
    "try: \n",
    "    numerator=int(input(\"Enter number for numerator\"))\n",
    "    denominator=int(input(\"Enter number for denominator\"))\n",
    "    result=numerator/denominator\n",
    "    print(result)\n",
    "except ZeroDivisionError as e:\n",
    "    print(e)"
   ]
  },
  {
   "cell_type": "code",
   "execution_count": null,
   "id": "09bf8654-83ea-4dee-9cb6-ef4dee67a191",
   "metadata": {},
   "outputs": [],
   "source": [
    "\"\"\"\n",
    "Q3. What errors are defined in the ArithmeticError class? Explain any two with an example.\n",
    "\n",
    "Ans: The error which are defined in ArithmeticError class are:\n",
    "     1. overflowError.\n",
    "     2. zeroDivision error.\n",
    "     3. floating point error.\n",
    "     \n",
    "Example1.\n",
    "\"\"\""
   ]
  },
  {
   "cell_type": "code",
   "execution_count": 6,
   "id": "fc2374f3-1fbd-46d1-a519-31382fa87422",
   "metadata": {},
   "outputs": [
    {
     "name": "stdout",
     "output_type": "stream",
     "text": [
      "overflow error occurs\n"
     ]
    }
   ],
   "source": [
    "try: \n",
    "    a=5.0\n",
    "    for i in range(1,1000):\n",
    "        j=a**i\n",
    "        # print(j)\n",
    "except OverflowError as e:\n",
    "    print(\"overflow error occurs\")"
   ]
  },
  {
   "cell_type": "code",
   "execution_count": 10,
   "id": "e43c3888-f801-4d55-b0c9-4234f5644108",
   "metadata": {},
   "outputs": [
    {
     "name": "stdout",
     "output_type": "stream",
     "text": [
      "division by zero\n"
     ]
    }
   ],
   "source": [
    "#Example2:\n",
    "try: \n",
    "    a=10\n",
    "    b=0\n",
    "    c=a/0\n",
    "    print(c)\n",
    "except ZeroDivisionError as e:\n",
    "    print(e)\n"
   ]
  },
  {
   "cell_type": "code",
   "execution_count": 13,
   "id": "2860b81d-4eda-4d6c-b73e-156e9c5ce9cf",
   "metadata": {},
   "outputs": [
    {
     "name": "stdout",
     "output_type": "stream",
     "text": [
      "list index out of range\n"
     ]
    }
   ],
   "source": [
    "\"\"\"\n",
    "Q4. Why LookupError class is used? Explain with an example KeyError and IndexError.\n",
    "\n",
    "Ans: The lookuoerror are raised when an index or key is not found for a sequence or dictionary.\n",
    "     We use LookupError exception to handle both IndexError and KeyError.\n",
    "     \n",
    "Example of IndexError:\n",
    "\"\"\"\n",
    "try:\n",
    "    x=[1,2,3,4,5]\n",
    "    print(x[6])\n",
    "except IndexError as e:\n",
    "    print(e)"
   ]
  },
  {
   "cell_type": "code",
   "execution_count": 33,
   "id": "84ba2a5f-024c-4d52-a18a-b9b96906adaf",
   "metadata": {},
   "outputs": [
    {
     "name": "stdout",
     "output_type": "stream",
     "text": [
      "1\n",
      "Key Not Found in Employee Dictionary: 'Role'\n"
     ]
    }
   ],
   "source": [
    "#Example o\n",
    "emp_dict = {'Name': 'Pankaj', 'ID': 1}\n",
    "\n",
    "try:\n",
    "    emp_id = emp_dict['ID']\n",
    "    print(emp_id)\n",
    "\n",
    "    emp_role = emp_dict['Role']\n",
    "    print(emp_role)\n",
    "except KeyError as ke:\n",
    "    print('Key Not Found in Employee Dictionary:', ke)"
   ]
  },
  {
   "cell_type": "code",
   "execution_count": null,
   "id": "fdbef4d2-0646-4b99-a7b6-d917f16620fe",
   "metadata": {},
   "outputs": [],
   "source": [
    "\"\"\"\n",
    "Q5. Explain ImportError. What is ModuleNotFoundError?\n",
    "\n",
    "Ans: An ImportError is python has a problem with sucessful module import.\n",
    "     Which is usually caused by incorrect path. and display with message that \n",
    "     No module named(...).\n",
    "     \n",
    "     ModuleNotFoundError: This error occurs when you are trying to access or use a module \n",
    "     that cannot be found.\n"
   ]
  },
  {
   "cell_type": "code",
   "execution_count": null,
   "id": "6bbee70d-b550-470c-8dfc-d2ca20706619",
   "metadata": {},
   "outputs": [],
   "source": [
    "\"\"\"\n",
    "Q6. List down some best practices for exception handling in python.\n",
    "\n",
    "Ans: The best practices of exception handling in python are:\n",
    "    1. Always us spacific Exception.\n",
    "    2.Print always proper message.\n",
    "    3.Always try to log on error.\n",
    "    "
   ]
  },
  {
   "cell_type": "code",
   "execution_count": null,
   "id": "c9570482-e029-44f5-8aca-48d3f94b01f2",
   "metadata": {},
   "outputs": [],
   "source": []
  }
 ],
 "metadata": {
  "kernelspec": {
   "display_name": "Python 3 (ipykernel)",
   "language": "python",
   "name": "python3"
  },
  "language_info": {
   "codemirror_mode": {
    "name": "ipython",
    "version": 3
   },
   "file_extension": ".py",
   "mimetype": "text/x-python",
   "name": "python",
   "nbconvert_exporter": "python",
   "pygments_lexer": "ipython3",
   "version": "3.10.8"
  }
 },
 "nbformat": 4,
 "nbformat_minor": 5
}
