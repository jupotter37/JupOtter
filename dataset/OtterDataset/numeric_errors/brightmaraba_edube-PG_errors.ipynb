{
 "cells": [
  {
   "cell_type": "markdown",
   "metadata": {},
   "source": [
    "## Errors and Exceptions"
   ]
  },
  {
   "cell_type": "code",
   "execution_count": null,
   "metadata": {},
   "outputs": [],
   "source": [
    "# Errors can happen all the time and we must handle them.\n",
    "# Consider the following code:\n",
    "# Enter a string: hello and check see what happens\n",
    "import math\n",
    "x = float(input(\"Enter a number: \"))\n",
    "y = math.sqrt(x) # This will raise an error if x is negative or not a number\n",
    "print(f\"The square root of {x} is {y}.\")\n",
    "# Each time your code tries to do something wrong, it will STOP and raise an error."
   ]
  },
  {
   "cell_type": "markdown",
   "metadata": {},
   "source": [
    "## Types of Exceptions"
   ]
  },
  {
   "cell_type": "code",
   "execution_count": null,
   "metadata": {},
   "outputs": [],
   "source": [
    "# Divide by zero error => ZeroDivisionError\n",
    "value = 1/0 # This will raise a ZeroDivisionError => Illegal division by zero\n",
    "# IndexError => Index out of range\n",
    "my_list = [1, 2, 3] # Has a length of 3 (0, 1, 2)\n",
    "print(my_list[3]) # This will raise an IndexError => Index out of range (3 does not exist)\n",
    "# There are 63 Exception types in the Python standard library.\n",
    "# You can create your own Exception types.\n",
    "\n"
   ]
  },
  {
   "cell_type": "markdown",
   "metadata": {},
   "source": [
    "### Exceptions\n",
    "| Index | Exception | Cause of Error |\n",
    "| --- | --- | --- |\n",
    "|1| AssertionError | Raised when an assert statement fails. |\n",
    "|2| AttributeError | Attribute assignement of reference fails. |\n",
    "|3 |EOFError | Raised when reading from a file reaches the end of the file. |\n",
    "|4|FloatingPointError | Raised when a floating point operation fails. |\n",
    "|5|GeneratorExit | Raised when a generator is closed. |\n",
    "|6|ImportError | Raised when an import fails. |\n",
    "|7|IndexError | Raised when an index is not found. |\n",
    "|8|KeyError | Raised when a key is not found in a dictionary. |\n",
    "|9|KeyboardInterrupt | Raised when the user interrupts a program. |\n",
    "|10|MemoryError | Raised when a memory allocation fails. |\n",
    "|11|NameError | Raised when a name is not found. |\n",
    "|12|NotImplementedError | Raised when a method is not implemented. |\n",
    "|13|OSError | Raised when an operating system error occurs. |\n",
    "|14|OverflowError | Raised when an arithmetic operation overflows. |\n",
    "|15|RuntimeError | Raised when a runtime error occurs. |\n",
    "|16|ReferenceError | Raised when a reference is not found. |\n",
    "|17|StopIteration | Raised when the next() method of a generator is called when the generator is exhausted. |\n",
    "|18|SyntaxError | Raised when a syntax error is detected. |\n",
    "|19|SystemError | Raised when a system error occurs. |\n",
    "|20|TypeError | Raised when a function is applied to an object of the wrong type. |\n",
    "|21|UnboundLocalError | Raised when a local variable is referenced before assignment. |\n",
    "|22|SystemExit | Raised when the interpreter is about to exit. |\n",
    "|23|UnicodeError | Raised when a Unicode encoding or decoding error occurs. |\n",
    "|24|UnicodeDecodeError | Raised when a Unicode decoding error occurs. |\n",
    "|25|UnicodeEncodeError | Raised when a Unicode encoding error occurs. |\n",
    "|26|UnicodeTranslateError | Raised when a Unicode translation error occurs. |\n",
    "|27|ValueError | Raised when a built-in operation or function receives an argument that has the right type, but the value is outside the allowed range. |\n",
    "|28|ZeroDivisionError | Raised when the second argument of a division or modulo operation is zero. |\n"
   ]
  },
  {
   "cell_type": "code",
   "execution_count": null,
   "metadata": {},
   "outputs": [],
   "source": [
    "# Try and except\n",
    "x = int(input(\"Enter x: \"))\n",
    "y = int(input(\"Enter y: \"))\n",
    "try:\n",
    "    print(x/y) # If y is zero, this will raise a ZeroDivisionError => Try it!\n",
    "except ZeroDivisionError:\n",
    "    print(\"You can't divide by zero!\")"
   ]
  },
  {
   "cell_type": "code",
   "execution_count": null,
   "metadata": {},
   "outputs": [],
   "source": [
    "# You can chain link many except statements to handle different errors\n",
    "try:\n",
    "    x = int(input(\"Enter x: \"))\n",
    "    y = int(input(\"Enter y: \"))\n",
    "    print(x/y)\n",
    "except ZeroDivisionError:\n",
    "    print(\"You can't divide by zero!\") # Handle the ZeroDivisionError here\n",
    "except ValueError:\n",
    "    print(\"You must enter a number!\") # Handle the ValueError here => if either x or y is not a number\n",
    "except:\n",
    "    print(\"Something went wrong!\") # Handle any other error here"
   ]
  },
  {
   "cell_type": "markdown",
   "metadata": {},
   "source": [
    "## Exception Heirarchy\n",
    "- ZeroDivisionError -> ArithmeticError -> Exception -> BaseException\n",
    "- BaseException will therefore be the base class of all exceptions."
   ]
  },
  {
   "cell_type": "code",
   "execution_count": null,
   "metadata": {},
   "outputs": [],
   "source": [
    "# ZeroDivisionError is a subclass of Exception\n",
    "try:\n",
    "    y = 1/0\n",
    "except ZeroDivisionError:\n",
    "    print(\"You can't divide by zero!\")\n",
    "\n",
    "# Using BaseException\n",
    "try:\n",
    "    y = 1/0\n",
    "except BaseException:\n",
    "    print(\"You can't divide by zero!\")\n",
    "\n",
    "# Same behavior as because ZeroDivisionError is a subclass of BaseException"
   ]
  },
  {
   "cell_type": "markdown",
   "metadata": {},
   "source": [
    "## Remember:\n",
    "- the order of the branches matters!\n",
    "- don't put more general exceptions before more concrete ones;\n",
    "- this will make the latter one unreachable and useless;\n",
    "- moreover, it will make your code messy and inconsistent;\n",
    "- Python won't generate any error messages regarding this issue."
   ]
  },
  {
   "cell_type": "code",
   "execution_count": null,
   "metadata": {},
   "outputs": [],
   "source": [
    "# Exceptions propagate out of functions\n",
    "def bad_fun(n):\n",
    "    return 1/n\n",
    "\n",
    "try:\n",
    "    bad_fun(0)\n",
    "except ZeroDivisionError:\n",
    "    print(\"You can't divide by zero!\")"
   ]
  },
  {
   "cell_type": "code",
   "execution_count": null,
   "metadata": {},
   "outputs": [],
   "source": [
    "# raise keyword allows you to raise an exception manually\n",
    "def bad_fun(n):\n",
    "    raise ZeroDivisionError(\"You can't divide by zero!\")\n",
    "\n",
    "try:\n",
    "    bad_fun(0)\n",
    "except ArithmeticError:\n",
    "    print(\"An errror occured !\")"
   ]
  },
  {
   "cell_type": "code",
   "execution_count": null,
   "metadata": {},
   "outputs": [],
   "source": [
    "# Assert statements\n",
    "import math\n",
    "x = float(input(\"Enter a number: \"))\n",
    "assert x > 0, \"x must be greater than zero\"\n",
    "y = math.sqrt(x)\n",
    "print(f\"The square root of {x} is {y}.\")"
   ]
  },
  {
   "cell_type": "code",
   "execution_count": null,
   "metadata": {},
   "outputs": [],
   "source": [
    "# ArithmeticError => Exception => BaseExeption\n",
    "# AssertionError => Exception => BaseException\n",
    "from math import tan, radians\n",
    "angle = int(input(\"Enter an angle in degrees: \"))\n",
    "assert 0 <= angle <= 360, \"Angle must be between 0 and 360\" # Angel must be between 0 and 360, inclusive. Messages are optional.\n",
    "print(tan(radians(angle)))"
   ]
  },
  {
   "cell_type": "code",
   "execution_count": null,
   "metadata": {},
   "outputs": [],
   "source": [
    "# IndexError => LookupError => Exception => BaseException\n",
    "the_names = [\"Alice\", \"Bob\", \"Charlie\"]\n",
    "ix = 0\n",
    "while True:\n",
    "    try:\n",
    "        print(the_names[ix])\n",
    "        ix += 1\n",
    "    except IndexError:\n",
    "        break\n",
    "\n",
    "print(\"Finish\")"
   ]
  },
  {
   "cell_type": "code",
   "execution_count": null,
   "metadata": {},
   "outputs": [],
   "source": [
    "# KeyBoardInterrupt => Exception => BaseException\n",
    "# Prevent the program from exiting by pressing Ctrl+C\n",
    "from time import sleep\n",
    "seconds = 0\n",
    "while True:\n",
    "    try:\n",
    "        print(seconds)\n",
    "        seconds += 1\n",
    "        sleep(1)\n",
    "    except KeyboardInterrupt:\n",
    "        print(\"Can't stop!\")"
   ]
  },
  {
   "cell_type": "markdown",
   "metadata": {},
   "source": [
    "## Summary:\n",
    "### Abstract Base Classes\n",
    "- BaseException\n",
    "- ArithmeticError\n",
    "- LookupError\n",
    "### Concrete Base Classes\n",
    "- AssertionError\n",
    "- ImportError\n",
    "- IndexError\n",
    "- KeyError\n",
    "- NameError\n",
    "- MemoryError\n",
    "- OverflowError\n",
    "- KeyboardInterrupt"
   ]
  }
 ],
 "metadata": {
  "interpreter": {
   "hash": "6281920a2f7d55fb1819a37259a7b826a3ceec2b5323bb212e4bf02908926b41"
  },
  "kernelspec": {
   "display_name": "Python 3.8.10 ('env': venv)",
   "language": "python",
   "name": "python3"
  },
  "language_info": {
   "codemirror_mode": {
    "name": "ipython",
    "version": 3
   },
   "file_extension": ".py",
   "mimetype": "text/x-python",
   "name": "python",
   "nbconvert_exporter": "python",
   "pygments_lexer": "ipython3",
   "version": "3.8.10"
  },
  "orig_nbformat": 4
 },
 "nbformat": 4,
 "nbformat_minor": 2
}
