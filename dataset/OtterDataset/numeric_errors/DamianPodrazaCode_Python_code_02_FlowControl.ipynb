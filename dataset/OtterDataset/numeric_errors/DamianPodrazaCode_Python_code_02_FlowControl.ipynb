{
 "cells": [
  {
   "cell_type": "markdown",
   "id": "6f186415-55ea-4e3a-b5dc-14c5269096b0",
   "metadata": {
    "editable": true,
    "slideshow": {
     "slide_type": ""
    },
    "tags": []
   },
   "source": [
    "--------------------------------------------------------------------------------------------------------------------------\n",
    "## 08. Warunki if...else."
   ]
  },
  {
   "cell_type": "code",
   "execution_count": 1,
   "id": "33c5efb3-137c-4be5-aa1e-b67ebbbb2e31",
   "metadata": {},
   "outputs": [],
   "source": [
    "# ==\t    Sprawdza, czy dwie wartości są równe.\n",
    "# !=\t    Sprawdza, czy dwie wartości są różne.\n",
    "# >\t        Sprawdza, czy pierwsza wartość jest większa od drugiej.\n",
    "# <\t        Sprawdza, czy pierwsza wartość jest mniejsza od drugiej.\n",
    "# >=\t    Sprawdza, czy pierwsza wartość jest większa lub równa drugiej.\n",
    "# <=\t    Sprawdza, czy pierwsza wartość jest mniejsza lub równa drugiej.\n",
    "# in\t    Sprawdza, czy element znajduje się w sekwencji.\n",
    "# not in\tSprawdza, czy element nie znajduje się w sekwencji.\n",
    "# is\t    Sprawdza, czy dwie zmienne wskazują na ten sam obiekt.\n",
    "# is not\tSprawdza, czy dwie zmienne wskazują na różne obiekty.\n",
    "# and\t    Zwraca True, jeśli oba warunki są prawdziwe.\n",
    "# or\t    Zwraca True, jeśli co najmniej jeden z warunków jest prawdziwy.\n",
    "# not\t    Odwraca wartość logiczną warunku."
   ]
  },
  {
   "cell_type": "code",
   "execution_count": 2,
   "id": "6a74cb5b-f150-4f4e-b9f1-453f0483ffb1",
   "metadata": {},
   "outputs": [
    {
     "name": "stdout",
     "output_type": "stream",
     "text": [
      "True\n"
     ]
    }
   ],
   "source": [
    "# przy if zamiast nawiasów{} jak w 'c' są odsunięcia\n",
    "zm1 = 1\n",
    "if zm1 > 0 : \n",
    "    print(bool(zm1))"
   ]
  },
  {
   "cell_type": "code",
   "execution_count": 3,
   "id": "1b525583-aa7d-436b-8927-ef12ee62c553",
   "metadata": {},
   "outputs": [],
   "source": [
    "# czasami pisze się warunek ale jeszcze niema się ciała warunku, wtedy używa sie instrukcji pustej 'pass' tymczasowo\n",
    "if zm1 != 0 :\n",
    "    pass "
   ]
  },
  {
   "cell_type": "code",
   "execution_count": 4,
   "id": "ea24e798-a4d3-4ad5-ba20-b9b1163b1928",
   "metadata": {},
   "outputs": [],
   "source": [
    "# składnia z else\n",
    "if zm1 > 10 :\n",
    "    pass\n",
    "else :\n",
    "    pass"
   ]
  },
  {
   "cell_type": "code",
   "execution_count": 5,
   "id": "c5f43eff-0b26-4ace-9ecb-b41583c70747",
   "metadata": {},
   "outputs": [],
   "source": [
    "# składnia z elif - wykona się tylko pierwszy prawdziwy warunek, jak go niebędzie to wykona się else\n",
    "if zm1 > 10 :\n",
    "    pass\n",
    "elif zm1 < 5 :\n",
    "    pass\n",
    "elif zm1 == 0 :\n",
    "    pass\n",
    "else :\n",
    "    pass"
   ]
  },
  {
   "cell_type": "markdown",
   "id": "a945aa2e-a713-4374-91b5-212390275c4b",
   "metadata": {},
   "source": [
    "--------------------------------------------------------------------------------------------------------------------------\n",
    "## 09. Pętle while."
   ]
  },
  {
   "cell_type": "code",
   "execution_count": 6,
   "id": "a7ed5e64-94cc-42b5-bc6a-a458bfd2ab9d",
   "metadata": {},
   "outputs": [
    {
     "name": "stdout",
     "output_type": "stream",
     "text": [
      "0\n",
      "1\n",
      "2\n"
     ]
    }
   ],
   "source": [
    "x = 0\n",
    "while x < 3:\n",
    "    print(x)\n",
    "    x += 1\n",
    "\n",
    "# x = 0\n",
    "# while x < 10:\n",
    "#     pass #taki nop, ale wtym przypadku zrobi się pętla nieskończona\n",
    "# są jeszcze continue i break standard jak w C"
   ]
  },
  {
   "cell_type": "code",
   "execution_count": 7,
   "id": "5515cbc0-e844-4ac9-834d-b3ab930640fb",
   "metadata": {},
   "outputs": [
    {
     "name": "stdout",
     "output_type": "stream",
     "text": [
      "0\n",
      "1\n",
      "2\n",
      "3\n",
      "4\n",
      "5\n"
     ]
    }
   ],
   "source": [
    "lista = [1,2,3,4,5,6]\n",
    "i = 0\n",
    "while i < len(lista):\n",
    "    print(i)\n",
    "    i += 1   "
   ]
  },
  {
   "cell_type": "code",
   "execution_count": 8,
   "id": "b0c1e29d-4d65-4891-bc4b-99e5bd747961",
   "metadata": {},
   "outputs": [],
   "source": [
    "# while True:\n",
    "#     respone = input('in <<<')    \n",
    "#     if respone == 'stop':\n",
    "#         break"
   ]
  },
  {
   "cell_type": "code",
   "execution_count": 9,
   "id": "3732ac0c-4fdd-4768-9e11-7857af2c3f9f",
   "metadata": {},
   "outputs": [],
   "source": [
    "# while True:\n",
    "#     respone = input('in <<<')    \n",
    "#     if respone == 'stop':\n",
    "#         break\n",
    "#     if respone == 'rep':\n",
    "#         continue\n",
    "#     print(respone)"
   ]
  },
  {
   "cell_type": "code",
   "execution_count": 10,
   "id": "5c5ca3c2-4d32-4694-939e-bcd7699aedfd",
   "metadata": {},
   "outputs": [
    {
     "name": "stdout",
     "output_type": "stream",
     "text": [
      "0\n",
      "1\n",
      "2\n",
      "end while\n"
     ]
    }
   ],
   "source": [
    "zm1 = 0\n",
    "while zm1 < 3 : # wykonuj dopóki zm1 mniejsze od 3\n",
    "    print(zm1)\n",
    "    zm1 += 1\n",
    "print('end while')    "
   ]
  },
  {
   "cell_type": "code",
   "execution_count": 11,
   "id": "9d3a33c2-12a8-4f42-8906-2d1d03596e45",
   "metadata": {},
   "outputs": [
    {
     "name": "stdout",
     "output_type": "stream",
     "text": [
      "3\n",
      "2\n",
      "1\n",
      "end while\n"
     ]
    }
   ],
   "source": [
    "# Instrukcja \"break\" służy do przerywana działania pętli.\n",
    "zm1 = 3\n",
    "while True : # pętla nieskończona\n",
    "    if zm1 <= 0 :\n",
    "        break\n",
    "    print(zm1)\n",
    "    zm1 -= 1\n",
    "print('end while')    "
   ]
  },
  {
   "cell_type": "code",
   "execution_count": 12,
   "id": "e866742e-fc53-4ecf-801f-89605ca3ddf4",
   "metadata": {},
   "outputs": [
    {
     "name": "stdout",
     "output_type": "stream",
     "text": [
      "6\n",
      "4\n",
      "2\n",
      "end while\n"
     ]
    }
   ],
   "source": [
    "# Instrukcja \"continue\" powoduje przeskok do następnego obrotu pętli.\n",
    "zm1 = 8\n",
    "while True :\n",
    "    zm1 -= 1\n",
    "    if zm1 % 2 : # jeżeli wynik z dzielenia ma reszte to pomin ta pętle i wykonaj następną\n",
    "        continue\n",
    "    if zm1 <= 0 :\n",
    "        break \n",
    "    print(zm1)\n",
    "print('end while')"
   ]
  },
  {
   "cell_type": "markdown",
   "id": "d7298edd-d9df-4db8-b39b-da2ee6f07996",
   "metadata": {},
   "source": [
    "--------------------------------------------------------------------------------------------------------------------------\n",
    "## 10. Pętle for."
   ]
  },
  {
   "cell_type": "code",
   "execution_count": 13,
   "id": "9a2ff121-8907-4f85-b871-c2b447e6a691",
   "metadata": {},
   "outputs": [
    {
     "name": "stdout",
     "output_type": "stream",
     "text": [
      "jeden\n",
      "dwa\n",
      "trzy\n",
      "cztery\n",
      "pięć\n",
      "end for\n"
     ]
    }
   ],
   "source": [
    "# for to pętla iteracyjna, całkiem inna niż w C\n",
    "# iteracja wg listy, for przejedzie przez całą listę pokolei od elementu pierwszego\n",
    "lista = ['jeden', 'dwa', 'trzy', 'cztery', 'pięć'] \n",
    "for my_str in lista : \n",
    "    print(my_str)\n",
    "print('end for')"
   ]
  },
  {
   "cell_type": "code",
   "execution_count": 14,
   "id": "8b7741c4-73af-49c2-a896-daacbc21a230",
   "metadata": {},
   "outputs": [
    {
     "name": "stdout",
     "output_type": "stream",
     "text": [
      "2\n",
      "45\n",
      "45\n",
      "3\n",
      "end for\n"
     ]
    }
   ],
   "source": [
    "# lista wbudowana w for'a\n",
    "for my_str in [2, 45, 45, 3] :\n",
    "    print(my_str)\n",
    "print('end for')"
   ]
  },
  {
   "cell_type": "code",
   "execution_count": 15,
   "id": "3df9d5a9-63cc-477c-873d-2f6fb4b8beba",
   "metadata": {},
   "outputs": [
    {
     "name": "stdout",
     "output_type": "stream",
     "text": [
      "0\n",
      "1\n",
      "2\n",
      "3\n",
      "end for\n"
     ]
    }
   ],
   "source": [
    "# iteracja oparta na zakresie liczbowym\n",
    "# range([start],stop,[step]) - tylko liczby całkowite\n",
    "for my_str in range(4): # będzie liczyć od 0 do 9\n",
    "    print(my_str)\n",
    "print('end for')"
   ]
  },
  {
   "cell_type": "code",
   "execution_count": 16,
   "id": "7c52250f-ced3-4815-82a1-f0cb279e4d06",
   "metadata": {},
   "outputs": [
    {
     "name": "stdout",
     "output_type": "stream",
     "text": [
      "2\n",
      "3\n",
      "4\n",
      "end for\n"
     ]
    }
   ],
   "source": [
    "for my_str in range(2,5): # bedzie liczyć o 2 do 4\n",
    "    print(my_str)\n",
    "print('end for')"
   ]
  },
  {
   "cell_type": "code",
   "execution_count": 17,
   "id": "d0d4d75a-ebbb-426e-ae10-b8446c559c9c",
   "metadata": {},
   "outputs": [
    {
     "name": "stdout",
     "output_type": "stream",
     "text": [
      "6\n",
      "5\n",
      "4\n",
      "3\n",
      "end for\n"
     ]
    }
   ],
   "source": [
    "for my_str in range(6,2,-1): # bedzie liczyć o 6 do 3\n",
    "    print(my_str)\n",
    "print('end for')"
   ]
  },
  {
   "cell_type": "code",
   "execution_count": 18,
   "id": "bd32cb14-38f2-4665-9093-3d156661038e",
   "metadata": {},
   "outputs": [
    {
     "name": "stdout",
     "output_type": "stream",
     "text": [
      "5\n",
      "7\n",
      "9\n",
      "11\n",
      "end for\n"
     ]
    }
   ],
   "source": [
    "for my_str in range(5,13,2): # bedzie liczyć o 5 do 11 z krokiem co 2\n",
    "    print(my_str)\n",
    "print('end for')"
   ]
  },
  {
   "cell_type": "code",
   "execution_count": 19,
   "id": "d90e3643-0dd4-411a-960e-49736b08d9bd",
   "metadata": {},
   "outputs": [
    {
     "name": "stdout",
     "output_type": "stream",
     "text": [
      "{'asd': 'dsa', 'qwe': 'ewq', 'jeden': 1, 'dwa': 2, 'trzy': 3, 'cztery': 4}\n"
     ]
    }
   ],
   "source": [
    "d = dict(asd='dsa', qwe='ewq', jeden=1, dwa=2, trzy=3, cztery=4)\n",
    "print(d)"
   ]
  },
  {
   "cell_type": "code",
   "execution_count": 20,
   "id": "3f5a496e-f701-4577-9525-ceb7bb0901c1",
   "metadata": {},
   "outputs": [
    {
     "name": "stdout",
     "output_type": "stream",
     "text": [
      "asd\n",
      "qwe\n",
      "jeden\n",
      "dwa\n",
      "trzy\n",
      "cztery\n"
     ]
    }
   ],
   "source": [
    "for k in d.keys():     # wylistowanie kluczy\n",
    "    print(k)    "
   ]
  },
  {
   "cell_type": "code",
   "execution_count": 21,
   "id": "a7055c7b-ae22-4b84-bce9-c0b7110a7271",
   "metadata": {},
   "outputs": [
    {
     "name": "stdout",
     "output_type": "stream",
     "text": [
      "dsa\n",
      "ewq\n",
      "1\n",
      "2\n",
      "3\n",
      "4\n"
     ]
    }
   ],
   "source": [
    "for k in d.values():    # wylistowanie wartości\n",
    "    print(k)   "
   ]
  },
  {
   "cell_type": "code",
   "execution_count": 22,
   "id": "1146a720-f4c3-466b-9d8f-c39239c4f7da",
   "metadata": {},
   "outputs": [
    {
     "name": "stdout",
     "output_type": "stream",
     "text": [
      "('asd', 'dsa')\n",
      "('qwe', 'ewq')\n",
      "('jeden', 1)\n",
      "('dwa', 2)\n",
      "('trzy', 3)\n",
      "('cztery', 4)\n"
     ]
    }
   ],
   "source": [
    "for k in d.items():    # wylistowanie par\n",
    "    print(k)"
   ]
  },
  {
   "cell_type": "code",
   "execution_count": 23,
   "id": "3e2b5699-62b3-4874-93cc-342c1d7dca6f",
   "metadata": {},
   "outputs": [
    {
     "name": "stdout",
     "output_type": "stream",
     "text": [
      "asd dsa\n",
      "qwe ewq\n",
      "jeden 1\n",
      "dwa 2\n",
      "trzy 3\n",
      "cztery 4\n"
     ]
    }
   ],
   "source": [
    "for k in d.keys():  # wylistowanie wartości po kluczu\n",
    "    print(k, d[k])    "
   ]
  },
  {
   "cell_type": "code",
   "execution_count": 24,
   "id": "1abc250e-969e-4354-b85a-37d22141f0b9",
   "metadata": {},
   "outputs": [
    {
     "name": "stdout",
     "output_type": "stream",
     "text": [
      "asd dsa\n",
      "qwe ewq\n",
      "jeden 1\n",
      "dwa 2\n",
      "trzy 3\n",
      "cztery 4\n"
     ]
    }
   ],
   "source": [
    "for k, v in d.items():  # wylistowanie wartości i klucza\n",
    "    print(k, v)"
   ]
  },
  {
   "cell_type": "code",
   "execution_count": 25,
   "id": "59376c93-9080-4fe2-be01-ca9a0b2e5a91",
   "metadata": {},
   "outputs": [
    {
     "name": "stdout",
     "output_type": "stream",
     "text": [
      "(0, 't')\n",
      "(1, 'e')\n",
      "(2, 'x')\n",
      "(3, 't')\n",
      "(4, ' ')\n",
      "(5, 't')\n",
      "(6, 'e')\n",
      "(7, 's')\n",
      "(8, 't')\n"
     ]
    }
   ],
   "source": [
    "for char in enumerate('text test'):\n",
    "    print(char)"
   ]
  },
  {
   "cell_type": "code",
   "execution_count": 26,
   "id": "72f09467-899e-418c-8573-966a8b656955",
   "metadata": {},
   "outputs": [
    {
     "name": "stdout",
     "output_type": "stream",
     "text": [
      "0 t\n",
      "1 e\n",
      "2 x\n",
      "3 t\n",
      "4  \n",
      "5 t\n",
      "6 e\n",
      "7 s\n",
      "8 t\n"
     ]
    }
   ],
   "source": [
    "for i, char in enumerate('text test'):\n",
    "    print(i, char)"
   ]
  },
  {
   "cell_type": "code",
   "execution_count": 27,
   "id": "7e0bea72-014e-4507-abbc-8a417b451b45",
   "metadata": {},
   "outputs": [
    {
     "name": "stdout",
     "output_type": "stream",
     "text": [
      "Indeks: 0, Element: a\n",
      "Indeks: 1, Element: b\n",
      "Indeks: 2, Element: c\n",
      "Indeks: 3, Element: d\n",
      "Indeks: 4, Element: e\n"
     ]
    }
   ],
   "source": [
    "# enumerate()\n",
    "# Funkcja enumerate() jest przydatnym narzędziem do iteracji po sekwencji (takiej jak lista, krotka, czy napis) \n",
    "# jednocześnie zwracając indeks elementu oraz sam element.\n",
    "# enumerate(iterable, start=0)\n",
    "lista = ['a', 'b', 'c', 'd', 'e']\n",
    "for indeks, element in enumerate(lista):\n",
    "    print(f\"Indeks: {indeks}, Element: {element}\")"
   ]
  },
  {
   "cell_type": "code",
   "execution_count": 28,
   "id": "aa3c1147-fd27-4c00-b91b-99b912f23bf6",
   "metadata": {},
   "outputs": [
    {
     "name": "stdout",
     "output_type": "stream",
     "text": [
      "Indeks: 1, Litera: P\n",
      "Indeks: 2, Litera: y\n",
      "Indeks: 3, Litera: t\n",
      "Indeks: 4, Litera: h\n",
      "Indeks: 5, Litera: o\n",
      "Indeks: 6, Litera: n\n"
     ]
    }
   ],
   "source": [
    "napis = \"Python\"\n",
    "for indeks, litera in enumerate(napis, start=1):\n",
    "    print(f\"Indeks: {indeks}, Litera: {litera}\")"
   ]
  },
  {
   "cell_type": "code",
   "execution_count": 29,
   "id": "a4ccf8a7-46cb-41a6-8288-e7bacc6c4228",
   "metadata": {},
   "outputs": [
    {
     "name": "stdout",
     "output_type": "stream",
     "text": [
      "tekst\n",
      "teksttekst\n",
      "   *   \n",
      "  ***  \n",
      " ***** \n",
      "*******\n",
      "   *   \n",
      "   *   \n"
     ]
    }
   ],
   "source": [
    "picture = [\n",
    "  [0,0,0,1,0,0,0],\n",
    "  [0,0,1,1,1,0,0],\n",
    "  [0,1,1,1,1,1,0],\n",
    "  [1,1,1,1,1,1,1],\n",
    "  [0,0,0,1,0,0,0],\n",
    "  [0,0,0,1,0,0,0]\n",
    "]\n",
    "\n",
    "print('tekst') # na końcu ma domyślnie zakończenie lini\n",
    "print('tekst', end='') # a tak nie ma, albo ma co mu wpiszemy\n",
    "print('tekst')\n",
    "\n",
    "for row in picture:\n",
    "    for pixel in row:\n",
    "        if pixel == 1:\n",
    "            print('*', end='')\n",
    "        else:\n",
    "            print(' ', end='')\n",
    "    print('')\n"
   ]
  },
  {
   "cell_type": "markdown",
   "id": "b4a12194-07d4-4cc0-9f9b-32dc400012da",
   "metadata": {},
   "source": [
    "--------------------------------------------------------------------------------------------------------------------------\n",
    "## 11. Funkcje."
   ]
  },
  {
   "cell_type": "code",
   "execution_count": 30,
   "id": "af586bdf-475d-48c3-aef3-f4b0f655ee51",
   "metadata": {},
   "outputs": [
    {
     "name": "stdout",
     "output_type": "stream",
     "text": [
      "fun\n",
      "6\n"
     ]
    }
   ],
   "source": [
    "# Funkcja be zwracanej wartości.\n",
    "def fun() :\n",
    "    print('fun')\n",
    "# Funkcja ze zwrotem\n",
    "def fun2(a1, a2) :\n",
    "    return a1 * a2\n",
    "fun()\n",
    "print(fun2(2, 3)) "
   ]
  },
  {
   "cell_type": "code",
   "execution_count": 31,
   "id": "1efe48d3-3302-4c4e-8d07-0896138141aa",
   "metadata": {},
   "outputs": [
    {
     "name": "stdout",
     "output_type": "stream",
     "text": [
      "v1 v2 v3\n",
      "v1 v2 v3\n",
      "1 2 3\n"
     ]
    }
   ],
   "source": [
    "# Pozycje argumentów.\n",
    "def fun(a1, a2, a3):\n",
    "    print(a1, a2, a3)\n",
    "fun('v1', 'v2', 'v3') \n",
    "fun(a1='v1', a3='v3', a2='v2') # pozycje wymieszane ale przypisane prawidłowym\n",
    "# Przekazanie listy jako argument, lista musi zawierać tyle elementów co ilość argumentów w funkcji.\n",
    "lista = [1, 2, 3]\n",
    "fun(*lista) "
   ]
  },
  {
   "cell_type": "code",
   "execution_count": 32,
   "id": "f1323972-2db3-43bd-9dde-a2e05d06d5bc",
   "metadata": {},
   "outputs": [
    {
     "name": "stdout",
     "output_type": "stream",
     "text": [
      "100\n",
      "20\n"
     ]
    }
   ],
   "source": [
    "# Funkcja z argumentem starowym.\n",
    "def fun(a1=100):\n",
    "    return a1\n",
    "print(fun())\n",
    "print(fun(20))"
   ]
  },
  {
   "cell_type": "code",
   "execution_count": 33,
   "id": "818dde30-539f-4af7-928c-ae9a4d96942e",
   "metadata": {},
   "outputs": [
    {
     "name": "stdout",
     "output_type": "stream",
     "text": [
      "a1\n",
      "a1\n",
      "a2\n",
      "a1\n",
      "2\n",
      "2.34\n",
      "1\n",
      "2\n",
      "3\n"
     ]
    }
   ],
   "source": [
    "# Funkcja z nieznaną ilością argumentów.\n",
    "def fun(*args):\n",
    "    for arg in args:\n",
    "        print(arg)\n",
    "fun('a1')\n",
    "fun('a1', 'a2')\n",
    "fun('a1', 2, 2.34)\n",
    "# Przekazanie listy do funkcji.\n",
    "lista = [1,2,3]  \n",
    "fun(*lista)"
   ]
  },
  {
   "cell_type": "code",
   "execution_count": 34,
   "id": "81851172-a702-4b72-9e12-29d21b0b8d60",
   "metadata": {},
   "outputs": [
    {
     "name": "stdout",
     "output_type": "stream",
     "text": [
      "arg1 111\n",
      "arg2 222\n",
      "arg3 333\n",
      "arg1 111\n",
      "arg2 222\n",
      "arg3 333\n"
     ]
    }
   ],
   "source": [
    "# Przekazanie dict do funkcji.\n",
    "myDict = {'arg1': 111, 'arg2': '222', 'arg3': 333} \n",
    "\n",
    "def fun(**args):\n",
    "    for key in args:\n",
    "        print(key, args[key])\n",
    "fun(arg1=111, arg2='222', arg3=333)\n",
    "fun(**myDict)        "
   ]
  },
  {
   "cell_type": "code",
   "execution_count": 35,
   "id": "35c4fdf0-7d1c-4e1f-9689-6d4790a60c03",
   "metadata": {},
   "outputs": [
    {
     "name": "stdout",
     "output_type": "stream",
     "text": [
      "{'arg1': '111', 'arg2': '222'}\n",
      "111\n",
      "222\n",
      "{'arg1': '111'}\n",
      "111\n",
      "{'arg1': '111', 'arg2': '222', 'arg3': '333'}\n",
      "111\n",
      "222\n",
      "333\n",
      "{'arg4': 'ok'}\n",
      "jest arg4 ok\n",
      "{'arg2': 'aaa', 'arg3': 'dsa'}\n",
      "aaa\n",
      "dsa\n"
     ]
    }
   ],
   "source": [
    "# Lub.\n",
    "def fun(**args):\n",
    "    print(args)\n",
    "    def disp(key):\n",
    "        if key in args.keys():  # jeżeli w argumencie występuje klucz\n",
    "            print(args[key])\n",
    "    disp('arg1')\n",
    "    disp('arg2')\n",
    "    disp('arg3')\n",
    "    if 'arg4' in args.keys():\n",
    "        print('jest arg4', args['arg4'])\n",
    "\n",
    "fun(arg1='111', arg2='222')\n",
    "fun(arg1='111')\n",
    "fun(arg1='111', arg2='222', arg3='333')\n",
    "fun(arg4='ok')\n",
    "fun(arg2='aaa', arg3='dsa')"
   ]
  },
  {
   "cell_type": "code",
   "execution_count": 36,
   "id": "5275086d-bd40-4bde-83e2-632bcbf2e32d",
   "metadata": {},
   "outputs": [
    {
     "name": "stdout",
     "output_type": "stream",
     "text": [
      "1 2 3 4 5\n",
      "(1, 2, 3, 4, 5)\n",
      "15\n",
      "param1 param2\n",
      "{'param1': 'aaa', 'param2': 12}\n",
      "1 2 3 4 5\n",
      "(1, 2, 3, 4, 5)\n",
      "param1 param2\n",
      "{'param1': 'aaa', 'param2': 12}\n"
     ]
    }
   ],
   "source": [
    "# Jeszcze raz -> *args **kwargs\n",
    "\n",
    "# *args służy do przekazywania zmiennej liczby argumentów pozycyjnych do funkcji. \n",
    "# Gdy używasz *args jako argumentu funkcji, możesz przekazać do niej dowolną liczbę argumentów pozycyjnych, \n",
    "# a są one pakowane do krotki.\n",
    "def fun(*args):\n",
    "    print(*args) # 1 2 3 4 5  -> elementy po kolei\n",
    "    print(args) # (1, 2, 3, 4, 5) -> tuple elementów\n",
    "    return sum(args)\n",
    "print(fun(1, 2, 3, 4, 5)) # 15\n",
    "\n",
    "# **kwargs służy do przekazywania zmiennej liczby argumentów klucz-wartość (keyword arguments) do funkcji. \n",
    "# Gdy używasz **kwargs jako argumentu funkcji, możesz przekazać do niej dowolną liczbę argumentów klucz-wartość, \n",
    "# a są one pakowane do słownika.\n",
    "def fun(**kwargs):\n",
    "    print(*kwargs) # param1 param2 ->lista parametrów\n",
    "    print(kwargs) # {'param1': 'aaa', 'param2': 12} -> parametry i wartości w postaci dict\n",
    "fun(param1='aaa', param2=12)    \n",
    "\n",
    "def fun(*args, **kwargs):\n",
    "    print(*args) # 1 2 3 4 5  -> elementy po kolei\n",
    "    print(args) # (1, 2, 3, 4, 5) -> tuple elementów\n",
    "    print(*kwargs) # param1 param2 ->lista parametrów\n",
    "    print(kwargs) # {'param1': 'aaa', 'param2': 12} -> parametry i wartości w postaci dict\n",
    "fun(1, 2, 3, 4, 5, param1='aaa', param2=12)\n",
    "\n",
    "#reguła: params, *args, default params, **kwargs\n",
    "# def fun(par1, par2, *args, par3='def', **kwargs):"
   ]
  },
  {
   "cell_type": "code",
   "execution_count": 37,
   "id": "79edd665-db10-459e-b3ea-169b5dfd2947",
   "metadata": {},
   "outputs": [
    {
     "name": "stdout",
     "output_type": "stream",
     "text": [
      "Jestem w funkcji zewnętrznej\n",
      "Jestem w funkcji wewnętrznej\n"
     ]
    }
   ],
   "source": [
    "# Funkcja w funkcji.\n",
    "def zewnetrzna_funkcja():\n",
    "    def wewnetrzna_funkcja():\n",
    "        print(\"Jestem w funkcji wewnętrznej\")\n",
    "    print(\"Jestem w funkcji zewnętrznej\")\n",
    "    wewnetrzna_funkcja()\n",
    "zewnetrzna_funkcja()"
   ]
  },
  {
   "cell_type": "code",
   "execution_count": 38,
   "id": "6632a1bb-168e-4a79-b6e8-c6c0f33f3c32",
   "metadata": {},
   "outputs": [
    {
     "name": "stdout",
     "output_type": "stream",
     "text": [
      "111\n",
      "222\n",
      "333\n"
     ]
    }
   ],
   "source": [
    "# Wywołanie funkcji z parametrem dict.\n",
    "def fun(a,b,c):\n",
    "    print(a)    \n",
    "    print(b)\n",
    "    print(c)\n",
    "myDict = dict(a=111, b='222', c=333)\n",
    "fun(**myDict)"
   ]
  },
  {
   "cell_type": "code",
   "execution_count": 39,
   "id": "08d08f6f-609a-43ce-a27b-06d879c166fc",
   "metadata": {},
   "outputs": [
    {
     "name": "stdout",
     "output_type": "stream",
     "text": [
      "111\n",
      "222\n",
      "333\n"
     ]
    }
   ],
   "source": [
    "# Wywołanie funkcji z parametrem typu dict, który jest zwracany z innej funkcji.\n",
    "def getData():\n",
    "    return dict(a=111, b='222', c=333)\n",
    "fun(**getData())"
   ]
  },
  {
   "cell_type": "code",
   "execution_count": 40,
   "id": "35f3baa0-b3b0-4370-8dc8-45d0694ecae7",
   "metadata": {},
   "outputs": [
    {
     "name": "stdout",
     "output_type": "stream",
     "text": [
      "3\n",
      "3\n"
     ]
    }
   ],
   "source": [
    "# Funkcja w argumencie funkcji.\n",
    "def fun1():\n",
    "    return 1\n",
    "def fun2():\n",
    "    return 2\n",
    "def fun(a1, a2):\n",
    "    print(a1 + a2)\n",
    "\n",
    "# Funkcje uruchamiają się w argumencie i przekazują zwrócone wartości.\n",
    "fun(fun1(),fun2()) \n",
    "\n",
    "def fun(a1, a2):\n",
    "    a = a1()\n",
    "    b = a2()\n",
    "    print(a + b)\n",
    "\n",
    "# Argumenty są wskaźnikami do funkcji które są uruchamiane w funkcji głównej\n",
    "fun(fun1,fun2)  "
   ]
  },
  {
   "cell_type": "code",
   "execution_count": 41,
   "id": "bbc96fce-7e84-43f9-be5c-85f362248766",
   "metadata": {},
   "outputs": [
    {
     "name": "stdout",
     "output_type": "stream",
     "text": [
      "Hello, John!\n",
      "Hello, John!\n"
     ]
    }
   ],
   "source": [
    "# Positional-Only Arguments to mechanizm w języku Python, który umożliwia definiowanie argumentów funkcji, \n",
    "# które mogą być przekazywane tylko za pomocą ich pozycji, a nie za pomocą ich nazw. \n",
    "# Aby zdefiniować argumenty przekazywane tylko za pomocą ich pozycji, \n",
    "# używamy znaku ukośnika (/) po argumentach, które mają być positional-only.\n",
    "def greeting(name, /, message):\n",
    "    return f\"{message}, {name}!\"\n",
    "print(greeting(\"John\", \"Hello\")) \n",
    "print(greeting(\"John\", message=\"Hello\"))  \n",
    "# print(greeting(name=\"John\", message=\"Hello\"))  # Błąd"
   ]
  },
  {
   "cell_type": "code",
   "execution_count": 42,
   "id": "a40dc034-6fe2-4d8d-a101-723e14f9600e",
   "metadata": {},
   "outputs": [
    {
     "name": "stdout",
     "output_type": "stream",
     "text": [
      "Hello, John!\n"
     ]
    }
   ],
   "source": [
    "# Keyword-Only Arguments to mechanizm w języku Python, który umożliwia definiowanie argumentów funkcji, \n",
    "# które mogą być przekazywane tylko za pomocą ich nazw, a nie za pomocą ich pozycji. \n",
    "# Jest to przydatna funkcjonalność, która umożliwia bardziej jasne określenie, jakie argumenty są wymagane i jakie są opcjonalne.\n",
    "def greeting(*, name, message):\n",
    "    return f\"{message}, {name}!\"\n",
    "print(greeting(name=\"John\", message=\"Hello\"))  # Poprawne\n",
    "# print(greeting(\"John\", \"Hello\"))  # Błąd"
   ]
  },
  {
   "cell_type": "code",
   "execution_count": 43,
   "id": "eb2facf2-ab55-4e3c-aad2-b1149d665ae0",
   "metadata": {},
   "outputs": [
    {
     "name": "stdout",
     "output_type": "stream",
     "text": [
      "Cześć, Jan!\n"
     ]
    }
   ],
   "source": [
    "# Połaczenie Positional-Only and Keyword-Only\n",
    "def powitanie(imie, /, *, wiadomosc):\n",
    "    return f\"{wiadomosc}, {imie}!\"\n",
    "print(powitanie(\"Jan\", wiadomosc=\"Cześć\"))  # Poprawne\n",
    "# print(powitanie(\"Jan\", \"Cześć\"))  # Błąd: argument pozycyjny po argumentach nazwanych\n",
    "# print(powitanie(imie=\"Jan\", wiadomosc=\"Cześć\"))  # Błąd: imie jest dostępne tylko przez pozycję"
   ]
  },
  {
   "cell_type": "code",
   "execution_count": 44,
   "id": "306d3329-ee59-4f04-a65d-400599346a89",
   "metadata": {},
   "outputs": [
    {
     "name": "stdout",
     "output_type": "stream",
     "text": [
      "120\n"
     ]
    }
   ],
   "source": [
    "# Rekursja (rekurencja) to technika programowania, w której funkcja wywołuje samą siebie w celu rozwiązania problemu. \n",
    "# Jest to przydatne podejście do rozwiązywania problemów, które mogą być łatwo podzielone na mniejsze podproblemy, \n",
    "# które można rozwiązać w taki sam sposób.\n",
    "def silnia(n):\n",
    "    if n == 0:\n",
    "        return 1\n",
    "    else:\n",
    "        return n * silnia(n - 1)\n",
    "print(silnia(5))  "
   ]
  },
  {
   "cell_type": "code",
   "execution_count": 45,
   "id": "8ad9eb71-4423-4760-8d42-792b2faad25a",
   "metadata": {},
   "outputs": [
    {
     "name": "stdout",
     "output_type": "stream",
     "text": [
      "to jest info które się wyświetli w helpie funkcji\n"
     ]
    }
   ],
   "source": [
    "#info funkcji \n",
    "def fun_info():\n",
    "    '''to jest info które się wyświetli w helpie funkcji'''\n",
    "    pass\n",
    "\n",
    "fun_info()\n",
    "print(fun_info.__doc__) # a to jest tekst pomocy"
   ]
  },
  {
   "cell_type": "markdown",
   "id": "9c2f4746-56c4-4f23-8600-143604739138",
   "metadata": {},
   "source": [
    "--------------------------------------------------------------------------------------------------------------------------\n",
    "## 12. Zasięgi zmiennych i funkcji."
   ]
  },
  {
   "cell_type": "code",
   "execution_count": 46,
   "id": "3d8c3595-29dc-4fb6-9158-d682ad314182",
   "metadata": {},
   "outputs": [
    {
     "name": "stdout",
     "output_type": "stream",
     "text": [
      "zmienna_lokalna\n",
      "zmienna_globalna\n",
      "zmienna_globalna\n"
     ]
    }
   ],
   "source": [
    "# Zasięg zmiennej.\n",
    "def funkcja():\n",
    "    zmienna_lokalna = 'zmienna_lokalna'\n",
    "    print(zmienna_lokalna)\n",
    "funkcja()\n",
    "\n",
    "zmienna_globalna = 'zmienna_globalna'\n",
    "def funkcja():\n",
    "    print(zmienna_globalna)\n",
    "funkcja()\n",
    "print(zmienna_globalna)"
   ]
  },
  {
   "cell_type": "code",
   "execution_count": 47,
   "id": "e2308e6f-11fd-4db3-a7ce-0e603d07d69b",
   "metadata": {},
   "outputs": [
    {
     "name": "stdout",
     "output_type": "stream",
     "text": [
      "30\n",
      "50\n"
     ]
    }
   ],
   "source": [
    "# Zasięg globalny.\n",
    "zmienna_globalna = 10\n",
    "def funkcja():\n",
    "    # Jeśli chcemy zmodyfikować zmienną globalną wewnątrz funkcji, możemy to zrobić, używając słowa kluczowego global\n",
    "    global zmienna_globalna \n",
    "    zmienna_globalna += 20\n",
    "funkcja()\n",
    "print(zmienna_globalna) \n",
    "funkcja()\n",
    "print(zmienna_globalna) "
   ]
  },
  {
   "cell_type": "code",
   "execution_count": 48,
   "id": "c3b5c9d3-9d33-45a6-af7c-6743d06e2cc1",
   "metadata": {},
   "outputs": [
    {
     "name": "stdout",
     "output_type": "stream",
     "text": [
      "Wewnątrz wewnętrznej funkcji: 11\n",
      "Po wywołaniu wewnętrznej funkcji: 11\n"
     ]
    }
   ],
   "source": [
    "# Zasięg nie lokalny w języku Python dotyczy przestrzeni nazw, w której zmienne są dostępne wewnątrz funkcji, \n",
    "# ale nie są zmiennymi lokalnymi ani globalnymi. \n",
    "# Zmienne w zasięgu nie lokalnym mogą być dostępne na poziomie zagnieżdżonych funkcji lub metod wewnątrz klasy.\n",
    "\n",
    "def zewnetrzna_funkcja():\n",
    "    zmienna_zewnetrzna = 10\n",
    "    def wewnetrzna_funkcja():\n",
    "        # Aby zdefiniować zmienną jako nie lokalną w funkcji, używamy słowa kluczowego nonlocal\n",
    "        nonlocal zmienna_zewnetrzna\n",
    "        zmienna_zewnetrzna += 1\n",
    "        print(\"Wewnątrz wewnętrznej funkcji:\", zmienna_zewnetrzna)\n",
    "    wewnetrzna_funkcja()\n",
    "    print(\"Po wywołaniu wewnętrznej funkcji:\", zmienna_zewnetrzna)\n",
    "zewnetrzna_funkcja()"
   ]
  },
  {
   "cell_type": "markdown",
   "id": "311d6dfb-eccf-496c-aea0-eba0aab94045",
   "metadata": {},
   "source": [
    "--------------------------------------------------------------------------------------------------------------------------\n",
    "## 13. Wyrażenie lambda."
   ]
  },
  {
   "cell_type": "code",
   "execution_count": 49,
   "id": "3ca93991-0e18-42a0-bd97-65407c0662b3",
   "metadata": {},
   "outputs": [],
   "source": [
    "# Wyrażenie lambda w języku Python umożliwia definiowanie małych anonimowych funkcji. \n",
    "# Są one używane w miejscach, gdzie potrzebna jest funkcja jednolinijkowa, którą można zdefiniować bez konieczności \n",
    "# używania pełnej definicji funkcji za pomocą słowa kluczowego def.\n",
    "# lambda arguments: expression"
   ]
  },
  {
   "cell_type": "code",
   "execution_count": 50,
   "id": "3d0bf88b-d901-4496-a547-ca5d2da3e387",
   "metadata": {},
   "outputs": [
    {
     "name": "stdout",
     "output_type": "stream",
     "text": [
      "Hello, world!\n"
     ]
    }
   ],
   "source": [
    "x = lambda: \"Hello, world!\"\n",
    "print(x()) "
   ]
  },
  {
   "cell_type": "code",
   "execution_count": 51,
   "id": "0e58b79f-8718-4d0f-b08b-2ab1a55c720d",
   "metadata": {},
   "outputs": [
    {
     "name": "stdout",
     "output_type": "stream",
     "text": [
      "6\n"
     ]
    }
   ],
   "source": [
    "x = lambda a: a * 2\n",
    "print(x(3)) "
   ]
  },
  {
   "cell_type": "code",
   "execution_count": 52,
   "id": "757e7dc2-eb14-46cb-a80c-43cd87b228b9",
   "metadata": {},
   "outputs": [
    {
     "name": "stdout",
     "output_type": "stream",
     "text": [
      "6\n"
     ]
    }
   ],
   "source": [
    "x = lambda a, b, c: a + b + c\n",
    "print(x(1, 2, 3))"
   ]
  },
  {
   "cell_type": "code",
   "execution_count": 53,
   "id": "58c177c5-90f5-4f0e-971a-6dcaa9afb5cf",
   "metadata": {},
   "outputs": [
    {
     "name": "stdout",
     "output_type": "stream",
     "text": [
      "6\n",
      "36\n"
     ]
    }
   ],
   "source": [
    "ret = lambda x=0, y=0: x*y\n",
    "print(ret(2,3))\n",
    "print(ret(12,3))"
   ]
  },
  {
   "cell_type": "markdown",
   "id": "eb3ba6cf-1254-4131-a952-767e432e1d7d",
   "metadata": {},
   "source": [
    "--------------------------------------------------------------------------------------------------------------------------\n",
    "## 14. Wyjątki."
   ]
  },
  {
   "cell_type": "code",
   "execution_count": 54,
   "id": "054ada46-75dc-4dc8-b0c6-648171b0b59e",
   "metadata": {},
   "outputs": [],
   "source": [
    "# Instrukcja try w języku Python służy do obsługi wyjątków. Pozwala ona na umieszczenie bloku kodu, \n",
    "# który może generować wyjątki, wewnątrz bloku try, a następnie zdefiniowanie bloków kodu, które zostaną wykonane w przypadku, \n",
    "# gdy wyjątek wystąpi lub nie wystąpi."
   ]
  },
  {
   "cell_type": "raw",
   "id": "7f84370b-d512-4f3e-82d6-c3d0e7f91ae7",
   "metadata": {},
   "source": [
    "try:\n",
    "    # Blok kodu, który może generować wyjątki\n",
    "    # ...\n",
    "except ExceptionType1 as variable1:\n",
    "    # Obsługa wyjątku typu ExceptionType1\n",
    "    # ...\n",
    "except ExceptionType2 as variable2:\n",
    "    # Obsługa wyjątku typu ExceptionType2\n",
    "    # ...\n",
    "else:\n",
    "    # Blok kodu, który zostanie wykonany, jeśli żaden wyjątek nie wystąpi\n",
    "    # ...\n",
    "finally:\n",
    "    # Blok kodu, który zostanie wykonany zawsze, niezależnie od tego, czy wyjątek wystąpił czy nie\n",
    "    # ..."
   ]
  },
  {
   "cell_type": "code",
   "execution_count": 55,
   "id": "afa5a3d2-aef3-4042-a97f-70e8930b4589",
   "metadata": {},
   "outputs": [
    {
     "name": "stdout",
     "output_type": "stream",
     "text": [
      "Dzielenie przez zero!\n",
      "Zawsze wykonywane, niezależnie od tego, czy wystąpił wyjątek czy nie.\n"
     ]
    }
   ],
   "source": [
    "try:\n",
    "    result = 10 / 0\n",
    "except ZeroDivisionError as e:\n",
    "    print(\"Dzielenie przez zero!\")\n",
    "else:\n",
    "    print(\"Wynik:\", result)\n",
    "finally:\n",
    "    print(\"Zawsze wykonywane, niezależnie od tego, czy wystąpił wyjątek czy nie.\")"
   ]
  },
  {
   "cell_type": "raw",
   "id": "99d08eaa-be9c-40b7-ba4c-54d45ccd7700",
   "metadata": {},
   "source": [
    "Wyjątki:\n",
    "1. Exception: Jest to podstawowy typ wyjątku, z którego dziedziczą wszystkie inne wyjątki. Może być używany do przechwytywania dowolnego wyjątku.\n",
    "2. StopIteration: Występuje, gdy metoda next() iteratora nie ma więcej danych do zwrócenia.\n",
    "3. SystemExit: Występuje, gdy interpreter Pythona jest zatrzymywany przez wywołanie funkcji sys.exit().\n",
    "4. KeyboardInterrupt: Występuje, gdy użytkownik naciśnie klawisze Ctrl+C, aby przerwać działanie programu.\n",
    "5. GeneratorExit: Występuje, gdy generator jest zamykany.\n",
    "6. ArithmeticError: Jest to bazowa klasa dla wyjątków arytmetycznych.\n",
    "7. OverflowError: Występuje, gdy wynik operacji arytmetycznej jest zbyt duży, aby zostać reprezentowanym.\n",
    "8. ZeroDivisionError: Występuje, gdy próbujemy podzielić przez zero.\n",
    "9. FloatingPointError: Występuje, gdy błąd wystąpi podczas operacji na liczbach zmiennoprzecinkowych.\n",
    "10. AssertionError: Występuje, gdy wyrażenie asercji nie jest spełnione.\n",
    "11. AttributeError: Występuje, gdy obiekt nie ma atrybutu o podanej nazwie.\n",
    "12. EOFError: Występuje, gdy funkcja input() nie otrzymuje danych do przetworzenia (np. podczas naciśnięcia Ctrl+D na konsoli).\n",
    "13. FileNotFoundError: Występuje, gdy plik, który próbujemy otworzyć, nie istnieje.\n",
    "14. ImportError: Występuje, gdy moduł nie może być zaimportowany.\n",
    "15. IndexError: Występuje, gdy odwołujemy się do indeksu spoza zakresu sekwencji.\n",
    "16. KeyError: Występuje, gdy klucz nie istnieje w słowniku.\n",
    "17. MemoryError: Występuje, gdy brakuje pamięci.\n",
    "18. NameError: Występuje, gdy odwołujemy się do niezdefiniowanej nazwy.\n",
    "19. NotImplementedError: Występuje, gdy metoda nie została zaimplementowana.\n",
    "20. OSError: Jest to bazowa klasa dla wyjątków związanych z systemem operacyjnym.\n",
    "21. IndentationError: Jest wyjątkiem zgłaszanym, gdy w kodzie źródłowym występują błędy związane z wcięciami.\t  \n",
    "22. LookupError: Jest ogólnym wyjątkiem zgłaszanym, gdy nie można znaleźć elementu w kolekcji, takiej jak lista, krotka, zbiór lub słownik.\n",
    "23. ReferenceError: Jest wyjątkiem zgłaszanym, gdy próbujesz uzyskać dostęp do zmiennej, która nie istnieje.\n",
    "24. RuntimeError: Jest ogólnym wyjątkiem, który może być zgłaszany w różnych sytuacjach, gdy występuje błąd wykonania programu, który nie pasuje do żadnego konkretnego rodzaju wyjątku. \n",
    "25. SyntaxError: Jest wyjątkiem zgłaszanym, gdy interpreter Python napotka składniowy błąd w kodzie źródłowym. \n",
    "26. TabError: Jest wyjątkiem zgłaszanym, gdy w kodzie źródłowym występuje nieprawidłowe mieszanie tabulacji i spacji. \n",
    "27. SystemError:  Jest wyjątkiem zgłaszanym, gdy interpreter Python napotyka wewnętrzny problem, który nie powinien wystąpić w normalnych warunkach działania programu. \n",
    "28. TypeError: Jest wyjątkiem zgłaszanym, gdy operacja jest wykonywana dla obiektu, który nie obsługuje określonego typu. \n",
    "29. UnboundLocalError: Jest wyjątkiem zgłaszanym, gdy próbujemy odwołać się do zmiennej lokalnej w funkcji, która nie została jeszcze zainicjowana lub przypisana wartość.\n",
    "30. UnicodeError: Jest wyjątkiem zgłaszanym, gdy wystąpi błąd związany z kodowaniem lub dekodowaniem danych tekstowych w Unicode. \n",
    "31. UnicodeEncodeError:  Jest wyjątkiem zgłaszanym, gdy wystąpi problem podczas próby zakodowania tekstu Unicode do ciągu bajtów w określonym kodowaniu. \n",
    "32. UnicodeDecodeError: Jest wyjątkiem zgłaszanym, gdy wystąpi problem podczas próby dekodowania ciągu bajtów do tekstu Unicode. \n",
    "33. UnicodeTranslateError: Jest wyjątkiem zgłaszanym, gdy wystąpi problem z translacją tekstu Unicode.\n",
    "34. ValueError: Jest wyjątkiem zgłaszanym, gdy funkcja otrzymuje argument o poprawnym typie, ale o nieprawidłowej wartości."
   ]
  },
  {
   "cell_type": "code",
   "execution_count": 56,
   "id": "6efc8481-2191-4bee-b4d4-3dbd1fe3665c",
   "metadata": {},
   "outputs": [
    {
     "name": "stdout",
     "output_type": "stream",
     "text": [
      "Wystąpił błąd: Dzielenie przez zero jest niedozwolone\n"
     ]
    }
   ],
   "source": [
    "# Wyrażenie raise w języku Python służy do ręcznego zgłaszania wyjątków w kodzie. \n",
    "# Pozwala programiście na kontrolowane i celowe generowanie wyjątków w określonych sytuacjach.\n",
    "def divide(x, y):\n",
    "    if y == 0:\n",
    "        raise ValueError(\"Dzielenie przez zero jest niedozwolone\")\n",
    "    return x / y\n",
    "\n",
    "try:\n",
    "    result = divide(10, 0)\n",
    "except ValueError as e:\n",
    "    print(\"Wystąpił błąd:\", e)"
   ]
  },
  {
   "cell_type": "markdown",
   "id": "bcf34184-9ef8-4392-863c-b942b687bf80",
   "metadata": {},
   "source": [
    "--------------------------------------------------------------------------------------------------------------------------\n",
    "## 15. List, Set, Dict Comprehensions."
   ]
  },
  {
   "cell_type": "code",
   "execution_count": 57,
   "id": "b071c3cc-c23d-4cfb-8fff-2f771e1a8493",
   "metadata": {},
   "outputs": [],
   "source": [
    "# List Comprehensions"
   ]
  },
  {
   "cell_type": "code",
   "execution_count": 58,
   "id": "fc087d9f-df15-4ace-ab17-0fed0f0e7f81",
   "metadata": {},
   "outputs": [
    {
     "name": "stdout",
     "output_type": "stream",
     "text": [
      "['t', 'e', 'k', 's', 't']\n",
      "['t', 'e', 'k', 's', 't']\n"
     ]
    }
   ],
   "source": [
    "lista = [i for i in 'tekst']\n",
    "print(lista) # ['t', 'e', 'k', 's', 't']\n",
    "# jest to równoznaczne z:\n",
    "lista = []\n",
    "for i in 'tekst':\n",
    "    lista.append(i)\n",
    "print(lista) # ['t', 'e', 'k', 's', 't']"
   ]
  },
  {
   "cell_type": "code",
   "execution_count": 59,
   "id": "ecc9dacb-d591-42fa-9741-6a36ee20a377",
   "metadata": {},
   "outputs": [
    {
     "name": "stdout",
     "output_type": "stream",
     "text": [
      "[0, 1, 2, 3, 4, 5, 6, 7, 8, 9]\n",
      "[0, 2, 4, 6, 8, 10, 12, 14, 16, 18]\n",
      "[0, 4, 8, 12, 16]\n"
     ]
    }
   ],
   "source": [
    "lista = [i for i in range(0, 10)]\n",
    "print(lista) # [0, 1, 2, 3, 4, 5, 6, 7, 8, 9]\n",
    "\n",
    "lista = [i*2 for i in range(0, 10)]\n",
    "print(lista) # [0, 2, 4, 6, 8, 10, 12, 14, 16, 18]\n",
    "\n",
    "lista = [i*2 for i in range(0, 10) if i % 2 == 0]\n",
    "print(lista) # [0, 4, 8, 12, 16]"
   ]
  },
  {
   "cell_type": "code",
   "execution_count": 60,
   "id": "3407d325-d8c3-4517-89f8-cb66c456d224",
   "metadata": {},
   "outputs": [
    {
     "name": "stdout",
     "output_type": "stream",
     "text": [
      "{0, 1, 2, 3, 4, 5, 6, 7, 8, 9}\n"
     ]
    }
   ],
   "source": [
    "# Set Comprehensions, to samo co wyżej tylko zmieniają się nawiasy\n",
    "my_set = {i for i in range(0, 10)}\n",
    "print(my_set) # {0, 1, 2, 3, 4, 5, 6, 7, 8, 9}"
   ]
  },
  {
   "cell_type": "code",
   "execution_count": 61,
   "id": "5c6ac712-bc3a-49b5-86db-6ab13ed1fe28",
   "metadata": {},
   "outputs": [],
   "source": [
    "# Dict Comprehensions"
   ]
  },
  {
   "cell_type": "code",
   "execution_count": 62,
   "id": "b3234b02-f9f6-4660-bba7-9fbc24ec2306",
   "metadata": {},
   "outputs": [
    {
     "name": "stdout",
     "output_type": "stream",
     "text": [
      "{'a': 1, 'b': 4, 'c': 9, 'd': 16}\n",
      "{'b': 4, 'd': 16}\n",
      "{1: 2, 2: 4, 3: 6, 4: 8}\n"
     ]
    }
   ],
   "source": [
    "simple_dict = {\n",
    "    'a': 1,\n",
    "    'b': 2,\n",
    "    'c': 3,\n",
    "    'd': 4\n",
    "}\n",
    "my_dict = {key:value**2 for key,value in simple_dict.items()}\n",
    "print(my_dict) # {'a': 1, 'b': 4, 'c': 9, 'd': 16}\n",
    "\n",
    "my_dict = {key:value**2 for key,value in simple_dict.items() if value % 2 == 0}\n",
    "print(my_dict) # {'b': 4, 'd': 16}\n",
    "\n",
    "my_dict = {i:i*2 for i in [1,2,3,4]}\n",
    "print(my_dict) # {1: 2, 2: 4, 3: 6, 4: 8}"
   ]
  },
  {
   "cell_type": "markdown",
   "id": "c46e6351-7367-48f8-8ba8-a940bfa5d07b",
   "metadata": {},
   "source": [
    "--------------------------------------------------------------------------------------------------------------------------\n",
    "## 16. Funkcje wbudowane."
   ]
  },
  {
   "cell_type": "markdown",
   "id": "ecd7ceea-33ad-4951-86df-7784fa651f7e",
   "metadata": {},
   "source": [
    "### abs()"
   ]
  },
  {
   "cell_type": "code",
   "execution_count": 63,
   "id": "ad6f960e-2e38-46e1-b52c-68f7254360e8",
   "metadata": {},
   "outputs": [
    {
     "name": "stdout",
     "output_type": "stream",
     "text": [
      "10\n",
      "3.14\n"
     ]
    }
   ],
   "source": [
    "# Obliczanie wartości bezwzględnej liczby całkowitej\n",
    "abs_result1 = abs(-10)\n",
    "print(abs_result1)  # Output: 10\n",
    "# Obliczanie wartości bezwzględnej liczby rzeczywistej\n",
    "abs_result2 = abs(-3.14)\n",
    "print(abs_result2)  # Output: 3.14"
   ]
  },
  {
   "cell_type": "markdown",
   "id": "559313c1-5b0b-4340-bc44-7e8a7e92e145",
   "metadata": {},
   "source": [
    "### aiter()"
   ]
  },
  {
   "cell_type": "code",
   "execution_count": 64,
   "id": "89792faa-940b-4ce5-bcfc-f2a260c0f12c",
   "metadata": {},
   "outputs": [],
   "source": [
    "# Funkcja aiter() jest asynchronicznym odpowiednikiem funkcji iter() i służy do uzyskiwania \n",
    "# asynchronicznego iteratora dla asynchronicznego obiektu."
   ]
  },
  {
   "cell_type": "markdown",
   "id": "2d7c9080-be8a-48e7-97d3-dc89b4896fca",
   "metadata": {},
   "source": [
    "### all()"
   ]
  },
  {
   "cell_type": "code",
   "execution_count": 65,
   "id": "15046812-3065-456c-819f-db8a23b451c6",
   "metadata": {},
   "outputs": [
    {
     "name": "stdout",
     "output_type": "stream",
     "text": [
      "True\n",
      "False\n",
      "True\n",
      "True\n",
      "True\n"
     ]
    }
   ],
   "source": [
    "# Funkcja all() służy do sprawdzania, czy wszystkie elementy w danej sekwencji \n",
    "# (takiej jak lista, krotka, zbiór lub inny iterowalny obiekt) są prawdziwe (tzn. mają wartość True).\n",
    "\n",
    "# Lista z wartościami logicznymi\n",
    "values1 = [True, True, True]\n",
    "print(all(values1))  # Output: True\n",
    "# Lista z wartościami logicznymi i jedną wartością False\n",
    "values2 = [True, False, True]\n",
    "print(all(values2))  # Output: False\n",
    "# Lista pusta\n",
    "empty_list = []\n",
    "print(all(empty_list))  # Output: True (brak elementów, więc wszystkie są \"prawdziwe\")\n",
    "# Krotka z wartościami logicznymi\n",
    "values3 = (True, True, True)\n",
    "print(all(values3))  # Output: True\n",
    "# Zbiór z wartościami logicznymi\n",
    "values4 = {True, True, True}\n",
    "print(all(values4))  # Output: True"
   ]
  },
  {
   "cell_type": "markdown",
   "id": "05dec1da-77f2-434a-b2a4-ca844f04bffd",
   "metadata": {},
   "source": [
    "### anext()"
   ]
  },
  {
   "cell_type": "code",
   "execution_count": 66,
   "id": "1ccc8ce6-89b4-4fcd-a727-dfe1e9022683",
   "metadata": {},
   "outputs": [],
   "source": [
    "# Funkcja anext() jest używana w kontekście asynchronicznego programowania do pobierania kolejnych wartości z asynchronicznego iteratora. \n",
    "# Jest to asynchroniczny odpowiednik funkcji next()."
   ]
  },
  {
   "cell_type": "markdown",
   "id": "5b45b636-6ea8-4607-96b6-59934158cc39",
   "metadata": {},
   "source": [
    "### any()"
   ]
  },
  {
   "cell_type": "code",
   "execution_count": 67,
   "id": "d38433a0-01dd-44fe-9e57-564e40f093f8",
   "metadata": {},
   "outputs": [
    {
     "name": "stdout",
     "output_type": "stream",
     "text": [
      "True\n",
      "False\n",
      "False\n",
      "True\n",
      "False\n"
     ]
    }
   ],
   "source": [
    "# Funkcja any() służy do sprawdzania, czy co najmniej jeden element w danej sekwencji \n",
    "# (takiej jak lista, krotka, zbiór lub inny iterowalny obiekt) jest prawdziwy (tzn. ma wartość True).\n",
    "\n",
    "# Lista z wartościami logicznymi\n",
    "values1 = [False, False, True]\n",
    "print(any(values1))  # Output: True\n",
    "# Lista z wartościami logicznymi i samymi wartościami False\n",
    "values2 = [False, False, False]\n",
    "print(any(values2))  # Output: False\n",
    "# Lista pusta\n",
    "empty_list = []\n",
    "print(any(empty_list))  # Output: False (brak elementów, więc żaden nie jest \"prawdziwy\")\n",
    "# Krotka z wartościami logicznymi\n",
    "values3 = (True, False, False)\n",
    "print(any(values3))  # Output: True\n",
    "# Zbiór z wartościami logicznymi\n",
    "values4 = {False, False, False}\n",
    "print(any(values4))  # Output: False"
   ]
  },
  {
   "cell_type": "markdown",
   "id": "b0046b80-d429-4012-abaa-37033720512a",
   "metadata": {},
   "source": [
    "### ascii()"
   ]
  },
  {
   "cell_type": "code",
   "execution_count": 68,
   "id": "7df48c90-7f5a-4c66-8cfc-4a720812b070",
   "metadata": {},
   "outputs": [
    {
     "name": "stdout",
     "output_type": "stream",
     "text": [
      "'Hello, world!'\n",
      "[1, 2, 'Hello', 'World']\n",
      "{'a': 1, 'b': 2, 'c': 3}\n"
     ]
    }
   ],
   "source": [
    "# Funkcja ascii() służy do zwracania reprezentacji łańcucha znaków w postaci, \n",
    "# która jest czytelna dla człowieka i może być użyta do rekonstrukcji obiektu za pomocą funkcji eval(). \n",
    "\n",
    "# Reprezentacja łańcucha znaków\n",
    "text = \"Hello, world!\"\n",
    "print(ascii(text))  # Output: 'Hello, world!'\n",
    "# Reprezentacja listy\n",
    "my_list = [1, 2, \"Hello\", \"World\"]\n",
    "print(ascii(my_list))  # Output: '[1, 2, \\'Hello\\', \\'World\\']'\n",
    "# Reprezentacja słownika\n",
    "my_dict = {'a': 1, 'b': 2, 'c': 3}\n",
    "print(ascii(my_dict))  # Output: \"{'a': 1, 'b': 2, 'c': 3}\""
   ]
  },
  {
   "cell_type": "markdown",
   "id": "65077a88-d480-46b3-84c0-797e11d6eb08",
   "metadata": {},
   "source": [
    "### bin()"
   ]
  },
  {
   "cell_type": "code",
   "execution_count": 69,
   "id": "d97bd3e2-9b17-4ea5-94c1-111d37109485",
   "metadata": {},
   "outputs": [
    {
     "name": "stdout",
     "output_type": "stream",
     "text": [
      "0b1010\n",
      "-0b1010\n"
     ]
    }
   ],
   "source": [
    "# Funkcja bin() służy do konwertowania liczby całkowitej na jej reprezentację binarną w postaci łańcucha znaków.\n",
    "\n",
    "# Konwersja liczby całkowitej na binarną\n",
    "binary1 = bin(10)\n",
    "print(binary1)  # Output: '0b1010'\n",
    "# Konwersja liczby całkowitej ujemnej na binarną\n",
    "binary2 = bin(-10)\n",
    "print(binary2)  # Output: '-0b1010'"
   ]
  },
  {
   "cell_type": "markdown",
   "id": "0aad550a-96c0-4b89-80f5-6207ea4369ad",
   "metadata": {},
   "source": [
    "### bool()"
   ]
  },
  {
   "cell_type": "code",
   "execution_count": 70,
   "id": "3fef5f00-b42a-4e03-a81f-3103739e313d",
   "metadata": {},
   "outputs": [
    {
     "name": "stdout",
     "output_type": "stream",
     "text": [
      "True\n",
      "False\n",
      "False\n",
      "True\n",
      "False\n",
      "True\n",
      "False\n",
      "True\n"
     ]
    }
   ],
   "source": [
    "# Funkcja bool() służy do konwersji wartości na typ logiczny (bool).\n",
    "\n",
    "# Konwersja różnych wartości na typ logiczny\n",
    "print(bool(True))    # Output: True\n",
    "print(bool(False))   # Output: False\n",
    "print(bool(0))       # Output: False\n",
    "print(bool(1))       # Output: True\n",
    "print(bool([]))      # Output: False\n",
    "print(bool([1, 2]))  # Output: True\n",
    "print(bool(''))      # Output: False\n",
    "print(bool('abc'))   # Output: True"
   ]
  },
  {
   "cell_type": "markdown",
   "id": "089f9ba9-400e-4cef-97a5-8ea04473728d",
   "metadata": {},
   "source": [
    "### breakpoint()"
   ]
  },
  {
   "cell_type": "code",
   "execution_count": 71,
   "id": "fa3ba47b-7724-4aa8-b2e3-7549cfd7c627",
   "metadata": {},
   "outputs": [
    {
     "name": "stdout",
     "output_type": "stream",
     "text": [
      "2.0\n"
     ]
    }
   ],
   "source": [
    "# Funkcja breakpoint() działa zarówno w trybie synchronicznym, jak i asynchronicznym. \n",
    "# Służy ona do umieszczania punktów przerwania (ang. breakpoint) w kodzie, co pozwala na debugowanie programu.\n",
    "# breakpoint() działa podobnie do wywołania import pdb; pdb.set_trace(), ustawiając punkt przerwania w miejscu, \n",
    "# gdzie się znajduje, co pozwala na interaktywne debugowanie kodu w terminalu.\n",
    "\n",
    "def divide(x, y):\n",
    "    result = x / y\n",
    "    breakpoint()  # Wywołanie punktu przerwania\n",
    "    return result\n",
    "\n",
    "result = divide(10, 5)\n",
    "print(result)"
   ]
  },
  {
   "cell_type": "markdown",
   "id": "690d56f2-e0e4-4c4a-b9e9-addfa5c63617",
   "metadata": {},
   "source": [
    "### bytearray()"
   ]
  },
  {
   "cell_type": "code",
   "execution_count": 72,
   "id": "3a587d10-7333-4c0a-8a61-a7cbd656f4ca",
   "metadata": {},
   "outputs": [
    {
     "name": "stdout",
     "output_type": "stream",
     "text": [
      "65\n",
      "6142434445\n",
      "aBCDE\n"
     ]
    }
   ],
   "source": [
    "# bytearray jest mutowalnym typem sekwencji, który przechowuje tablicę bajtów. \n",
    "# Oznacza to, że bytearray jest zmodyfikowalny po utworzeniu, co oznacza, że jego elementy (bajty) mogą być zmieniane.\n",
    "\n",
    "# Tworzenie pustej tablicy bajtów\n",
    "byte_array = bytearray()\n",
    "# Tworzenie tablicy bajtów z określonymi bajtami\n",
    "byte_array = bytearray(b'Hello')\n",
    "# Tworzenie tablicy bajtów z określonej sekwencji bajtów\n",
    "byte_array = bytearray([65, 66, 67, 68, 69])\n",
    "# Dostęp do elementów tablicy bajtów\n",
    "print(byte_array[0])  # Output: 65\n",
    "# Modyfikacja elementów tablicy bajtów\n",
    "byte_array[0] = 97\n",
    "# Konwersja tablicy bajtów na łańcuch znaków\n",
    "print(byte_array.hex())\n",
    "my_string = byte_array.decode()\n",
    "print(my_string)  # Output: 'aBCDE'"
   ]
  },
  {
   "cell_type": "markdown",
   "id": "3d783160-12f8-4797-8980-5c74911ee458",
   "metadata": {},
   "source": [
    "### bytes()"
   ]
  },
  {
   "cell_type": "code",
   "execution_count": 73,
   "id": "82138f93-e279-43d2-920b-680f98d07240",
   "metadata": {},
   "outputs": [],
   "source": [
    "# Funkcja bytes() służy do tworzenia obiektu typu bytes, który reprezentuje niemodyfikowalną sekwencję bajtów. \n",
    "# Można ją wywołać na kilka sposobów:\n",
    "# 1. Można przekazać łańcuch znaków zakodowany w określonym kodowaniu, np. \"utf-8\", \n",
    "# aby uzyskać reprezentację bajtową tego łańcucha w danym kodowaniu.\n",
    "b = bytes(\"hello\", \"utf-8\")\n",
    "# 2. Można przekazać liczbę całkowitą i uzyskać reprezentację bajtową tej liczby, używając bajtów kodujących jej binarną reprezentację.\n",
    "b = bytes(5)\n",
    "# 3. Można przekazać inny obiekt iterowalny zawierający liczby całkowite z zakresu 0-255 i uzyskać reprezentację bajtową na podstawie tych liczb.\n",
    "b = bytes([72, 101, 108, 108, 111])"
   ]
  },
  {
   "cell_type": "markdown",
   "id": "4567623e-8e4f-4adc-919d-94cc8d673613",
   "metadata": {},
   "source": [
    "### callable()"
   ]
  },
  {
   "cell_type": "code",
   "execution_count": 74,
   "id": "ae4d89fb-7c6f-45c8-adff-603f117ae5d6",
   "metadata": {},
   "outputs": [
    {
     "name": "stdout",
     "output_type": "stream",
     "text": [
      "True\n",
      "True\n",
      "True\n",
      "False\n"
     ]
    }
   ],
   "source": [
    "# Funkcja callable() służy do sprawdzania, czy dany obiekt jest wywoływalny (ang. callable), czyli czy można go wywołać jak funkcję.\n",
    "\n",
    "# Funkcja jest wywoływalna\n",
    "def my_function():\n",
    "    print(\"Hello, world!\")\n",
    "\n",
    "print(callable(my_function))  # Output: True\n",
    "\n",
    "# Metoda klasy jest wywoływalna\n",
    "class MyClass:\n",
    "    def my_method(self):\n",
    "        print(\"Hello from method!\")\n",
    "\n",
    "print(callable(MyClass.my_method))  # Output: True\n",
    "\n",
    "# Obiekt klasy zdefiniowanej z metodą __call__ jest wywoływalny\n",
    "class CallableClass:\n",
    "    def __call__(self):\n",
    "        print(\"Hello from __call__ method!\")\n",
    "\n",
    "obj = CallableClass()\n",
    "print(callable(obj))  # Output: True\n",
    "\n",
    "# Obiekt nie jest wywoływalny\n",
    "my_variable = 10\n",
    "print(callable(my_variable))  # Output: False"
   ]
  },
  {
   "cell_type": "markdown",
   "id": "8cc0cb71-154f-4f2b-8146-7d1fe67cc6bf",
   "metadata": {},
   "source": [
    "### chr()"
   ]
  },
  {
   "cell_type": "code",
   "execution_count": 75,
   "id": "819497be-04c3-43f7-9e10-b47484189d89",
   "metadata": {},
   "outputs": [
    {
     "name": "stdout",
     "output_type": "stream",
     "text": [
      "A\n",
      "€\n"
     ]
    }
   ],
   "source": [
    "# Funkcja chr() przyjmuje kod Unicode i zwraca odpowiadający mu znak. abs\n",
    "\n",
    "# Zwraca znak Unicode dla podanego kodu\n",
    "print(chr(65))  # Output: 'A'\n",
    "# Zwraca znak Unicode dla kodu poza zakresem standardowego ASCII\n",
    "print(chr(8364))  # Output: '€'"
   ]
  },
  {
   "cell_type": "markdown",
   "id": "475e5047-1800-4bc7-bd6f-5dbec7fa901d",
   "metadata": {},
   "source": [
    "### classmethod()"
   ]
  },
  {
   "cell_type": "code",
   "execution_count": 76,
   "id": "97cfec6c-bbd1-4a7e-a893-b3042e0d6655",
   "metadata": {},
   "outputs": [
    {
     "name": "stdout",
     "output_type": "stream",
     "text": [
      "1\n"
     ]
    }
   ],
   "source": [
    "# Funkcja classmethod() służy do definiowania metod klasy. Metody klasy są powiązane z klasą, a nie z instancją klasy, \n",
    "# co oznacza, że mają dostęp tylko do atrybutów klasy, a nie do atrybutów instancji.\n",
    "\n",
    "class Person:\n",
    "    count = 0\n",
    "\n",
    "    @classmethod\n",
    "    def increase_count(cls):\n",
    "        cls.count += 1\n",
    "\n",
    "    @classmethod\n",
    "    def get_count(cls):\n",
    "        return cls.count\n",
    "\n",
    "Person.increase_count()  # Zwiększa liczbę instancji klasy Person\n",
    "print(Person.get_count())  # Output: 1"
   ]
  },
  {
   "cell_type": "markdown",
   "id": "672e128e-6a0f-44c6-a579-a62edec9a4bc",
   "metadata": {},
   "source": [
    "### compile()"
   ]
  },
  {
   "cell_type": "code",
   "execution_count": 77,
   "id": "5809d78a-6354-41ff-addc-6159740f618c",
   "metadata": {},
   "outputs": [
    {
     "name": "stdout",
     "output_type": "stream",
     "text": [
      "6\n"
     ]
    }
   ],
   "source": [
    "# Funkcja compile() jest używana do kompilowania kodu źródłowego Pythona do kodu bajtowego lub do obiektu kodu, \n",
    "# który może być uruchomiony za pomocą interpretera Pythona.\n",
    "\n",
    "source_code = \"\"\"\n",
    "def multiply(x, y):\n",
    "    return x * y\n",
    "\n",
    "result = multiply(2, 3)\n",
    "print(result)\n",
    "\"\"\"\n",
    "\n",
    "compiled_code = compile(source_code, '<string>', 'exec')\n",
    "exec(compiled_code)"
   ]
  },
  {
   "cell_type": "markdown",
   "id": "59526cb4-0af1-4f38-baf0-59b6da138b91",
   "metadata": {},
   "source": [
    "### complex()"
   ]
  },
  {
   "cell_type": "code",
   "execution_count": 78,
   "id": "d0536a7c-122d-4194-8dc3-09a3e1f96726",
   "metadata": {},
   "outputs": [
    {
     "name": "stdout",
     "output_type": "stream",
     "text": [
      "(3+0j)\n",
      "(2+4j)\n",
      "(1+2j)\n"
     ]
    }
   ],
   "source": [
    "# Funkcja complex() tworzy liczbę zespoloną na podstawie podanych argumentów. \n",
    "# Może przyjąć dwa argumenty liczbowe lub jedno wyrażenie, które zostanie zinterpretowane jako liczba zespolona.\n",
    "\n",
    "# Tworzenie liczby rzeczywistej\n",
    "real_number = complex(3)\n",
    "print(real_number)  # Output: (3+0j)\n",
    "\n",
    "# Tworzenie liczby zespolonej\n",
    "complex_number = complex(2, 4)\n",
    "print(complex_number)  # Output: (2+4j)\n",
    "\n",
    "# Tworzenie liczby zespolonej na podstawie wyrażenia\n",
    "expression_number = complex(\"1+2j\")\n",
    "print(expression_number)  # Output: (1+2j)"
   ]
  },
  {
   "cell_type": "markdown",
   "id": "f0adff53-9abd-4bbb-a00a-20d370ac34cb",
   "metadata": {},
   "source": [
    "### delattr()"
   ]
  },
  {
   "cell_type": "code",
   "execution_count": 79,
   "id": "05d5c844-c07d-4d2d-8668-db26bff1bf14",
   "metadata": {},
   "outputs": [
    {
     "name": "stdout",
     "output_type": "stream",
     "text": [
      "John\n"
     ]
    }
   ],
   "source": [
    "# Funkcja delattr() usuwa atrybut o podanej nazwie z danego obiektu. \n",
    "# Jeśli atrybut o tej nazwie nie istnieje, zostanie zgłoszony wyjątek AttributeError.\n",
    "\n",
    "class Person:\n",
    "    def __init__(self, name, age):\n",
    "        self.name = name\n",
    "        self.age = age\n",
    "\n",
    "person = Person(\"John\", 30)\n",
    "print(person.name)  # Output: John\n",
    "\n",
    "delattr(person, \"name\")\n",
    "# Wywołanie poniższego polecenia spowoduje zgłoszenie wyjątku AttributeError,\n",
    "# ponieważ atrybut \"name\" został usunięty z obiektu \"person\"\n",
    "# print(person.name)"
   ]
  },
  {
   "cell_type": "markdown",
   "id": "90fcf35d-9b15-4328-bb7f-e0151d9e6115",
   "metadata": {},
   "source": [
    "### dict()"
   ]
  },
  {
   "cell_type": "code",
   "execution_count": 80,
   "id": "acf90d6a-08ca-479a-b452-5726fd46b927",
   "metadata": {},
   "outputs": [
    {
     "name": "stdout",
     "output_type": "stream",
     "text": [
      "{}\n",
      "{'a': 1, 'b': 2, 'c': 3}\n",
      "{'name': 'John', 'age': 30}\n"
     ]
    }
   ],
   "source": [
    "# Funkcja dict() służy do tworzenia nowego słownika lub konwertowania obiektów na słownik.\n",
    "\n",
    "# Utworzenie pustego słownika\n",
    "empty_dict = dict()\n",
    "print(empty_dict)  # Output: {}\n",
    "\n",
    "# Utworzenie słownika z sekwencji krotek\n",
    "pairs = [('a', 1), ('b', 2), ('c', 3)]\n",
    "dict_from_tuples = dict(pairs)\n",
    "print(dict_from_tuples)  # Output: {'a': 1, 'b': 2, 'c': 3}\n",
    "\n",
    "# Utworzenie słownika za pomocą argumentów nazwanych\n",
    "named_arguments_dict = dict(name='John', age=30)\n",
    "print(named_arguments_dict)  # Output: {'name': 'John', 'age': 30}"
   ]
  },
  {
   "cell_type": "markdown",
   "id": "b0399431-37f3-42ca-bc12-f7f04f98bb26",
   "metadata": {},
   "source": [
    "### dir()"
   ]
  },
  {
   "cell_type": "code",
   "execution_count": 81,
   "id": "7e92b5ae-d6f0-4821-9f32-f02c87176f43",
   "metadata": {},
   "outputs": [
    {
     "name": "stdout",
     "output_type": "stream",
     "text": [
      "['__class__', '__delattr__', '__dict__', '__dir__', '__doc__', '__eq__', '__format__', '__ge__', '__getattribute__', '__getstate__', '__gt__', '__hash__', '__init__', '__init_subclass__', '__le__', '__lt__', '__module__', '__ne__', '__new__', '__reduce__', '__reduce_ex__', '__repr__', '__setattr__', '__sizeof__', '__str__', '__subclasshook__', '__weakref__', 'attribute', 'method']\n"
     ]
    }
   ],
   "source": [
    "# Funkcja dir() służy do uzyskania listy nazw atrybutów i metod obiektu. \n",
    "# Może być używana na różnych typach obiektów, w tym na modułach, klasach, instancjach klas, funkcjach itp.\n",
    "\n",
    "# Uzyskanie listy nazw atrybutów i metod wbudowanych dla typu listy\n",
    "# print(dir(list))\n",
    "\n",
    "# Uzyskanie listy nazw atrybutów i metod dla obiektu klasy\n",
    "class MyClass:\n",
    "    def __init__(self):\n",
    "        self.attribute = \"value\"\n",
    "    def method(self):\n",
    "        pass\n",
    "\n",
    "obj = MyClass()\n",
    "print(dir(obj))\n",
    "\n",
    "# Uzyskanie listy nazw atrybutów i metod dla modułu\n",
    "import math\n",
    "# print(dir(math))"
   ]
  },
  {
   "cell_type": "markdown",
   "id": "048294c1-c4f0-41fd-af1a-36397ea35f99",
   "metadata": {},
   "source": [
    "### divmod()"
   ]
  },
  {
   "cell_type": "code",
   "execution_count": 82,
   "id": "460cf2bb-fe8b-4a37-a7af-6e559a8f9e4c",
   "metadata": {},
   "outputs": [
    {
     "name": "stdout",
     "output_type": "stream",
     "text": [
      "(2, 1)\n",
      "(3, 2)\n"
     ]
    }
   ],
   "source": [
    "# Funkcja divmod() zwraca wynik dzielenia dwóch liczb, razem z resztą jako krotkę.\n",
    "\n",
    "# Przykład 1:\n",
    "result = divmod(9, 4)\n",
    "print(result)  # Output: (2, 1), bo 9 podzielone przez 4 daje 2 z resztą 1\n",
    "\n",
    "# Przykład 2:\n",
    "result = divmod(11, 3)\n",
    "print(result)  # Output: (3, 2), bo 11 podzielone przez 3 daje 3 z resztą 2"
   ]
  },
  {
   "cell_type": "markdown",
   "id": "b8d391f9-c62c-4651-a584-c945a558047b",
   "metadata": {},
   "source": [
    "### enumerate()"
   ]
  },
  {
   "cell_type": "code",
   "execution_count": 83,
   "id": "600a3a80-e802-4d7d-b469-30174f16d7be",
   "metadata": {},
   "outputs": [
    {
     "name": "stdout",
     "output_type": "stream",
     "text": [
      "0 apple\n",
      "1 banana\n",
      "2 orange\n",
      "1 h\n",
      "2 e\n",
      "3 l\n",
      "4 l\n",
      "5 o\n"
     ]
    }
   ],
   "source": [
    "# Funkcja enumerate() przyjmuje iterowalny obiekt, takie jak sekwencję (np. listę, krotkę, ciąg znaków) i zwraca iterator, \n",
    "# który generuje krotki zawierające indeksy oraz odpowiadające im elementy z danego obiektu.\n",
    "\n",
    "# Przykład 1:\n",
    "my_list = ['apple', 'banana', 'orange']\n",
    "for index, fruit in enumerate(my_list):\n",
    "    print(index, fruit)\n",
    "\n",
    "# Przykład 2:\n",
    "my_string = 'hello'\n",
    "for index, char in enumerate(my_string, start=1):\n",
    "    print(index, char)"
   ]
  },
  {
   "cell_type": "markdown",
   "id": "a7564953-37f0-449e-8945-2b93df88a3b0",
   "metadata": {},
   "source": [
    "### eval()"
   ]
  },
  {
   "cell_type": "code",
   "execution_count": 84,
   "id": "c6c502ba-6661-401b-aba9-bf9078e749ab",
   "metadata": {},
   "outputs": [
    {
     "name": "stdout",
     "output_type": "stream",
     "text": [
      "3\n"
     ]
    }
   ],
   "source": [
    "# Funkcja eval() służy do wykonania ciągu znaków jako wyrażenia Pythona.\n",
    "x = 10\n",
    "y = 20\n",
    "# expression = 'x + y * 2'\n",
    "expression = 'len(my_list)' \n",
    "result = eval(expression)\n",
    "print(result) "
   ]
  },
  {
   "cell_type": "markdown",
   "id": "418ddef8-48da-403f-8b4b-16b302e1a1bb",
   "metadata": {},
   "source": [
    "### exec()"
   ]
  },
  {
   "cell_type": "code",
   "execution_count": 85,
   "id": "c4888bea-5584-4a5d-b9b3-28c47122e741",
   "metadata": {},
   "outputs": [
    {
     "name": "stdout",
     "output_type": "stream",
     "text": [
      "0\n",
      "1\n",
      "2\n",
      "3\n",
      "4\n",
      "30\n"
     ]
    }
   ],
   "source": [
    "# Funkcja exec()służy do wykonania dynamicznie utworzonego kodu Pythona, który jest przekazany jako ciąg znaków lub obiekt kodu.\n",
    "\n",
    "# Przykład 1: Wykonanie ciągu znaków zawierającego kod Pythona\n",
    "code = '''\n",
    "for i in range(5):\n",
    "    print(i)\n",
    "'''\n",
    "exec(code)\n",
    "\n",
    "# Przykład 2: Wykonanie kodu z użyciem globalnych i lokalnych zmiennych\n",
    "globals_dict = {}\n",
    "locals_dict = {'x': 10, 'y': 20}\n",
    "code = '''\n",
    "z = x + y\n",
    "print(z)\n",
    "'''\n",
    "exec(code, globals_dict, locals_dict)"
   ]
  },
  {
   "cell_type": "markdown",
   "id": "3ef9139e-4877-4879-804a-75bc25fa0d40",
   "metadata": {},
   "source": [
    "### filter()"
   ]
  },
  {
   "cell_type": "code",
   "execution_count": 86,
   "id": "32c4c2bd-d2a3-4319-887f-56207619c59d",
   "metadata": {},
   "outputs": [
    {
     "name": "stdout",
     "output_type": "stream",
     "text": [
      "[2, 4, 6, 8, 10]\n",
      "[2, 4, 6, 8, 10]\n"
     ]
    }
   ],
   "source": [
    "# Funkcja filter() służy do filtrowania elementów iterowalnych na podstawie funkcji, która decyduje, \n",
    "# czy dany element powinien być zatrzymany czy odrzucony.\n",
    "# Definicja funkcji, która zwraca True dla liczb parzystych\n",
    "\n",
    "def is_even(num):\n",
    "    return num % 2 == 0\n",
    "numbers = [1, 2, 3, 4, 5, 6, 7, 8, 9, 10]\n",
    "even_numbers = filter(is_even, numbers)\n",
    "even_numbers_list = list(even_numbers)\n",
    "print(even_numbers_list) \n",
    "\n",
    "# z lambdą\n",
    "numbers = [1, 2, 3, 4, 5, 6, 7, 8, 9, 10]\n",
    "even_numbers = filter(lambda x: x % 2 == 0, numbers)\n",
    "even_numbers_list = list(even_numbers)\n",
    "print(even_numbers_list) "
   ]
  },
  {
   "cell_type": "markdown",
   "id": "fa7e3a09-61fb-413b-ad77-c5c79c57ae37",
   "metadata": {},
   "source": [
    "### float()"
   ]
  },
  {
   "cell_type": "code",
   "execution_count": 87,
   "id": "fb64eedc-c91d-4e6f-ba80-46a00a024a86",
   "metadata": {},
   "outputs": [
    {
     "name": "stdout",
     "output_type": "stream",
     "text": [
      "10.0\n",
      "3.14\n",
      "1.0\n",
      "2.71828\n"
     ]
    }
   ],
   "source": [
    "# Funkcja float() służy do konwertowania różnych typów danych na wartości zmiennoprzecinkowe (typu float).\n",
    "\n",
    "# Konwersja liczby całkowitej na wartość zmiennoprzecinkową\n",
    "result = float(10)\n",
    "print(result)  # Output: 10.0\n",
    "\n",
    "# Konwersja łańcucha znaków na wartość zmiennoprzecinkową\n",
    "result = float(\"3.14\")\n",
    "print(result)  # Output: 3.14\n",
    "\n",
    "# Konwersja wartości logicznej na wartość zmiennoprzecinkową\n",
    "result = float(True)\n",
    "print(result)  # Output: 1.0\n",
    "\n",
    "# Konwersja obiektu z metodą __float__() na wartość zmiennoprzecinkową\n",
    "class MyFloat:\n",
    "    def __float__(self):\n",
    "        return 2.71828\n",
    "\n",
    "result = float(MyFloat())\n",
    "print(result)  # Output: 2.71828"
   ]
  },
  {
   "cell_type": "markdown",
   "id": "0ce112c3-11d5-44f4-b34f-da4ae30c8bbc",
   "metadata": {},
   "source": [
    "### format()"
   ]
  },
  {
   "cell_type": "code",
   "execution_count": 88,
   "id": "8a4532b2-83e3-42cc-b1ca-38924cb5ac0d",
   "metadata": {},
   "outputs": [
    {
     "name": "stdout",
     "output_type": "stream",
     "text": [
      "1,234\n",
      "3.14\n",
      "1.234567e+06\n",
      "  Hello   \n",
      "Apple is fruit\n",
      "Apple is fruit\n"
     ]
    }
   ],
   "source": [
    "# Funkcja format() służy do formatowania wartości w określony sposób.\n",
    "\n",
    "# Formatowanie liczby całkowitej\n",
    "formatted_string = format(1234, \",d\")\n",
    "print(formatted_string)  # Output: 1,234\n",
    "# Formatowanie liczby zmiennoprzecinkowej\n",
    "formatted_string = format(3.1415926535, \".2f\")\n",
    "print(formatted_string)  # Output: 3.14\n",
    "# Formatowanie liczby w notacji naukowej\n",
    "formatted_string = format(1234567, \"e\")\n",
    "print(formatted_string)  # Output: 1.234567e+06\n",
    "# Formatowanie łańcucha znaków\n",
    "formatted_string = format(\"Hello\", \"^10\")\n",
    "print(formatted_string)  # Output:   Hello   \n",
    "# Formatowanie z użyciem znaczników pozycji\n",
    "formatted_string = \"{0} is {1}\".format(\"Apple\", \"fruit\")\n",
    "print(formatted_string)  # Output: Apple is fruit\n",
    "# Formatowanie z użyciem nazwanych argumentów\n",
    "formatted_string = \"{name} is {attribute}\".format(name=\"Apple\", attribute=\"fruit\")\n",
    "print(formatted_string)  # Output: Apple is fruit"
   ]
  },
  {
   "cell_type": "markdown",
   "id": "8009c07d-e4fb-48ef-a4c2-f2c43cd286d9",
   "metadata": {},
   "source": [
    "### frozenset()"
   ]
  },
  {
   "cell_type": "code",
   "execution_count": 89,
   "id": "0491afc1-e2db-4370-a1d2-b2c91f3c8fae",
   "metadata": {},
   "outputs": [
    {
     "name": "stdout",
     "output_type": "stream",
     "text": [
      "frozenset({1, 2, 3, 4})\n",
      "frozenset({1, 2, 3, 4})\n",
      "frozenset({1, 2, 3, 4})\n"
     ]
    }
   ],
   "source": [
    "# Funkcja frozenset() służy do tworzenia niemodyfikowalnego zbioru (frozen set). \n",
    "# Zbiór niemodyfikowalny jest strukturą danych, która jest podobna do zbioru, ale nie może być modyfikowana po utworzeniu. \n",
    "\n",
    "# Utworzenie zbioru niemodyfikowalnego z listy\n",
    "my_list = [1, 2, 3, 4, 3, 2, 1]\n",
    "frozen_set = frozenset(my_list)\n",
    "print(frozen_set)  # Output: frozenset({1, 2, 3, 4})\n",
    "\n",
    "# Utworzenie zbioru niemodyfikowalnego z krotki\n",
    "my_tuple = (1, 2, 3, 4, 3, 2, 1)\n",
    "frozen_set = frozenset(my_tuple)\n",
    "print(frozen_set)  # Output: frozenset({1, 2, 3, 4})\n",
    "\n",
    "# Utworzenie zbioru niemodyfikowalnego z innego zbioru\n",
    "my_set = {1, 2, 3, 4}\n",
    "frozen_set = frozenset(my_set)\n",
    "print(frozen_set)  # Output: frozenset({1, 2, 3, 4})"
   ]
  },
  {
   "cell_type": "markdown",
   "id": "6419032e-9d21-4431-a1d0-39c707487163",
   "metadata": {},
   "source": [
    "### getattr()"
   ]
  },
  {
   "cell_type": "code",
   "execution_count": 90,
   "id": "a912df37-79cb-4d4a-8753-b14097f17186",
   "metadata": {},
   "outputs": [
    {
     "name": "stdout",
     "output_type": "stream",
     "text": [
      "John\n",
      "Unknown\n"
     ]
    }
   ],
   "source": [
    "# Funkcja getattr() służy do pobierania wartości atrybutu z danego obiektu na podstawie jego nazwy.\n",
    "\n",
    "# Utworzenie klasy\n",
    "class Person:\n",
    "    name = \"John\"\n",
    "    age = 30\n",
    "\n",
    "# Pobranie wartości atrybutu z obiektu\n",
    "person = Person()\n",
    "name = getattr(person, \"name\")\n",
    "print(name)  # Output: John\n",
    "\n",
    "# Pobranie wartości atrybutu, który nie istnieje, z domyślną wartością\n",
    "city = getattr(person, \"city\", \"Unknown\")\n",
    "print(city)  # Output: Unknown"
   ]
  },
  {
   "cell_type": "markdown",
   "id": "af42c0a5-0885-48bb-9144-ab10e999a44a",
   "metadata": {},
   "source": [
    "### globals()"
   ]
  },
  {
   "cell_type": "code",
   "execution_count": 91,
   "id": "678aa52c-657b-402d-9a90-630cd10e837f",
   "metadata": {},
   "outputs": [],
   "source": [
    "# Funkcja globals() zwraca słownik zawierający wszystkie globalne zmienne dostępne w bieżącym zakresie lub przestrzeni nazw. \n",
    "\n",
    "# Definicja zmiennej globalnej\n",
    "global_variable = 10\n",
    "\n",
    "# Wywołanie funkcji globals()\n",
    "global_variables = globals()\n",
    "\n",
    "# Wyświetlenie zawartości słownika zmiennych globalnych\n",
    "# print(global_variables)  # Output: {'__name__': '__main__', '__doc__': None, '__package__': None, ..., 'global_variable': 10}"
   ]
  },
  {
   "cell_type": "markdown",
   "id": "1e609c26-e2fa-499a-b1a7-2f4c616bd196",
   "metadata": {},
   "source": [
    "### hasattr()"
   ]
  },
  {
   "cell_type": "code",
   "execution_count": 92,
   "id": "9f14d32a-7ac4-4b9c-b282-341e22217e81",
   "metadata": {},
   "outputs": [
    {
     "name": "stdout",
     "output_type": "stream",
     "text": [
      "True\n",
      "False\n"
     ]
    }
   ],
   "source": [
    "# Funkcja hasattr() służy do sprawdzania, czy dany obiekt ma atrybut o podanej nazwie.\n",
    "\n",
    "# Utworzenie klasy\n",
    "class Person:\n",
    "    name = \"John\"\n",
    "    age = 30\n",
    "\n",
    "# Sprawdzenie, czy obiekt ma atrybut o podanej nazwie\n",
    "person = Person()\n",
    "result = hasattr(person, \"name\")\n",
    "print(result)  # Output: True\n",
    "\n",
    "# Sprawdzenie, czy obiekt ma atrybut o podanej nazwie, która nie istnieje\n",
    "result = hasattr(person, \"city\")\n",
    "print(result)  # Output: False"
   ]
  },
  {
   "cell_type": "markdown",
   "id": "6b1895d5-a115-4b3d-aa49-978797b7218c",
   "metadata": {},
   "source": [
    "### hash()"
   ]
  },
  {
   "cell_type": "code",
   "execution_count": 93,
   "id": "489d0596-4135-44e7-8812-20906242aaca",
   "metadata": {},
   "outputs": [
    {
     "name": "stdout",
     "output_type": "stream",
     "text": [
      "42\n",
      "-5541214868471931183\n",
      "529344067295497451\n"
     ]
    }
   ],
   "source": [
    "# Funkcja hash() służy do obliczania hasha danego obiektu.abs\n",
    "\n",
    "# Obliczenie hasha dla liczby całkowitej\n",
    "result = hash(42)\n",
    "print(result)  # Output: 42 (wartość hash jest równa samej liczbie)\n",
    "\n",
    "# Obliczenie hasha dla łańcucha znaków\n",
    "result = hash(\"Hello\")\n",
    "print(result)  # Output: 6421259139035307099 (wartość hash jest unikalna dla danego ciągu znaków)\n",
    "\n",
    "# Obliczenie hasha dla krotki\n",
    "result = hash((1, 2, 3))\n",
    "print(result)  # Output: 2528502973977326415 (wartość hash jest unikalna dla danej krotki)"
   ]
  },
  {
   "cell_type": "markdown",
   "id": "e635e5b4-6196-4bf9-bb82-e7266cc50be4",
   "metadata": {},
   "source": [
    "### help()"
   ]
  },
  {
   "cell_type": "code",
   "execution_count": 94,
   "id": "ffd2a445-2dce-4c20-8426-ce48b8d5ac60",
   "metadata": {},
   "outputs": [],
   "source": [
    "# Funkcja help() służy do uzyskiwania pomocy dotyczącej danego obiektu lub tematu.\n",
    "# Uzyskanie pomocy dotyczącej funkcji wbudowanej round()\n",
    "# help(round)\n",
    "\n",
    "# Uzyskanie pomocy dotyczącej modułu math\n",
    "import math\n",
    "# help(math)\n",
    "\n",
    "# Uzyskanie ogólnej pomocy\n",
    "# help()"
   ]
  },
  {
   "cell_type": "markdown",
   "id": "cb3333f7-9d67-4574-bf5c-0e2671fd5459",
   "metadata": {},
   "source": [
    "### hex()"
   ]
  },
  {
   "cell_type": "code",
   "execution_count": 95,
   "id": "efe42c37-2d49-4bec-8bff-17fde1c625c7",
   "metadata": {},
   "outputs": [
    {
     "name": "stdout",
     "output_type": "stream",
     "text": [
      "0xff\n",
      "-0xa\n"
     ]
    }
   ],
   "source": [
    "# Funkcja hex() służy do konwertowania liczby całkowitej na reprezentację szesnastkową (system liczbowy o podstawie 16).\n",
    "\n",
    "# Konwersja liczby całkowitej na reprezentację szesnastkową\n",
    "result = hex(255)\n",
    "print(result)  # Output: 0xff\n",
    "\n",
    "# Konwersja liczby całkowitej ujemnej na reprezentację szesnastkową\n",
    "result = hex(-10)\n",
    "print(result)  # Output: -0xa"
   ]
  },
  {
   "cell_type": "markdown",
   "id": "49b97f98-d81d-4245-8790-bc98f67672b9",
   "metadata": {},
   "source": [
    "### id()"
   ]
  },
  {
   "cell_type": "code",
   "execution_count": 96,
   "id": "ae150bd8-39f6-40d3-a8c3-4791092c5d11",
   "metadata": {},
   "outputs": [
    {
     "name": "stdout",
     "output_type": "stream",
     "text": [
      "1840425473216\n",
      "140704054101064\n",
      "1840425577264\n"
     ]
    }
   ],
   "source": [
    "# Funkcja id() zwraca identyfikator (ID) obiektu, czyli unikalny numer identyfikujący dany obiekt w trakcie działania programu. \n",
    "\n",
    "# Utworzenie listy i pobranie jej identyfikatora\n",
    "my_list = [1, 2, 3]\n",
    "list_id = id(my_list)\n",
    "print(list_id)  # Output: 140294726515584\n",
    "\n",
    "# Pobranie identyfikatora dla liczby całkowitej\n",
    "number = 10\n",
    "number_id = id(number)\n",
    "print(number_id)  # Output: 140294727308896\n",
    "\n",
    "# Pobranie identyfikatora dla łańcucha znaków\n",
    "text = \"Hello\"\n",
    "text_id = id(text)\n",
    "print(text_id)  # Output: 140294727381520"
   ]
  },
  {
   "cell_type": "markdown",
   "id": "941a594f-f2aa-40f0-b8a6-3836797dcba5",
   "metadata": {},
   "source": [
    "### input()"
   ]
  },
  {
   "cell_type": "code",
   "execution_count": 97,
   "id": "3c518ce3-8db7-49c1-b411-3143a3a428e9",
   "metadata": {},
   "outputs": [],
   "source": [
    "# Funkcja input() służy do pobierania danych od użytkownika z konsoli.\n",
    "\n",
    "# Proste użycie funkcji input()\n",
    "# name = input(\"Enter your name: \")\n",
    "# print(\"Hello,\", name)\n",
    "\n",
    "# Użycie input() bez komunikatu\n",
    "# age = input()\n",
    "# print(\"You entered:\", age)"
   ]
  },
  {
   "cell_type": "markdown",
   "id": "f2ea3047-5aa2-4328-a1e4-3e440e25c36c",
   "metadata": {},
   "source": [
    "### int()"
   ]
  },
  {
   "cell_type": "code",
   "execution_count": 98,
   "id": "1ebc6ecc-126e-4ae9-8651-324bf7b7cfa1",
   "metadata": {},
   "outputs": [
    {
     "name": "stdout",
     "output_type": "stream",
     "text": [
      "10\n",
      "3\n",
      "123\n",
      "26\n"
     ]
    }
   ],
   "source": [
    "# Funkcja int() służy do konwertowania wartości na liczbę całkowitą (integer).\n",
    "\n",
    "# Konwersja liczby całkowitej na liczbę całkowitą\n",
    "result = int(10)\n",
    "print(result)  # Output: 10\n",
    "\n",
    "# Konwersja liczby zmiennoprzecinkowej na liczbę całkowitą\n",
    "result = int(3.14)\n",
    "print(result)  # Output: 3\n",
    "\n",
    "# Konwersja łańcucha znaków na liczbę całkowitą\n",
    "result = int(\"123\")\n",
    "print(result)  # Output: 123\n",
    "\n",
    "# Konwersja łańcucha znaków w systemie szesnastkowym na liczbę całkowitą\n",
    "result = int(\"1a\", base=16)\n",
    "print(result)  # Output: 26"
   ]
  },
  {
   "cell_type": "markdown",
   "id": "70927283-9fcc-492c-9f7f-3180d28a7ea3",
   "metadata": {},
   "source": [
    "### isinstance()"
   ]
  },
  {
   "cell_type": "code",
   "execution_count": 99,
   "id": "b4519c85-586f-43d0-9270-8c1aa7aa1b7c",
   "metadata": {},
   "outputs": [
    {
     "name": "stdout",
     "output_type": "stream",
     "text": [
      "True\n",
      "True\n",
      "True\n"
     ]
    }
   ],
   "source": [
    "# Funkcja isinstance() służy do sprawdzania, czy dany obiekt jest instancją określonego typu lub klasy.\n",
    "\n",
    "# Utworzenie klasy Person\n",
    "class Person:\n",
    "    pass\n",
    "\n",
    "# Utworzenie obiektu klasy Person\n",
    "person = Person()\n",
    "\n",
    "# Sprawdzenie, czy obiekt jest instancją klasy Person\n",
    "result = isinstance(person, Person)\n",
    "print(result)  # Output: True\n",
    "\n",
    "# Sprawdzenie, czy obiekt jest instancją typu str\n",
    "text = \"Hello\"\n",
    "result = isinstance(text, str)\n",
    "print(result)  # Output: True\n",
    "\n",
    "# Sprawdzenie, czy obiekt jest instancją typu int lub float\n",
    "number = 10\n",
    "result = isinstance(number, (int, float))\n",
    "print(result)  # Output: True"
   ]
  },
  {
   "cell_type": "markdown",
   "id": "ef5bfa1d-e3cb-444a-b651-21b0e487094d",
   "metadata": {},
   "source": [
    "### issubclass()"
   ]
  },
  {
   "cell_type": "code",
   "execution_count": 100,
   "id": "5f0248e7-8ac0-4aa6-99de-81ac1351b9e5",
   "metadata": {},
   "outputs": [
    {
     "name": "stdout",
     "output_type": "stream",
     "text": [
      "True\n",
      "False\n"
     ]
    }
   ],
   "source": [
    "# Funkcja issubclass() służy do sprawdzania, czy jedna klasa jest podklasą (potomkiem) innej klasy.\n",
    "\n",
    "# Utworzenie klasy Animal\n",
    "class Animal:\n",
    "    pass\n",
    "\n",
    "# Utworzenie klasy Dog, która dziedziczy po klasie Animal\n",
    "class Dog(Animal):\n",
    "    pass\n",
    "\n",
    "# Sprawdzenie, czy klasa Dog jest podklasą klasy Animal\n",
    "result = issubclass(Dog, Animal)\n",
    "print(result)  # Output: True\n",
    "\n",
    "# Sprawdzenie, czy klasa Animal jest podklasą klasy Dog\n",
    "result = issubclass(Animal, Dog)\n",
    "print(result)  # Output: False"
   ]
  },
  {
   "cell_type": "markdown",
   "id": "571c4632-a3dd-4d8a-83a0-315734117b81",
   "metadata": {},
   "source": [
    "### iter()"
   ]
  },
  {
   "cell_type": "code",
   "execution_count": 101,
   "id": "3174b87f-e31a-4c96-9a20-ba00aaf790f6",
   "metadata": {},
   "outputs": [
    {
     "name": "stdout",
     "output_type": "stream",
     "text": [
      "1\n",
      "2\n",
      "3\n",
      "4\n",
      "0\n",
      "1\n",
      "4\n",
      "9\n",
      "16\n"
     ]
    }
   ],
   "source": [
    "# Funkcja iter() zwraca obiekt iteratora dla danego obiektu.\n",
    "\n",
    "# Utworzenie listy\n",
    "my_list = [1, 2, 3, 4]\n",
    "\n",
    "# Uzyskanie iteratora dla listy\n",
    "my_iterator = iter(my_list)\n",
    "\n",
    "# Wyświetlenie kolejnych elementów za pomocą iteratora\n",
    "print(next(my_iterator))  # Output: 1\n",
    "print(next(my_iterator))  # Output: 2\n",
    "print(next(my_iterator))  # Output: 3\n",
    "print(next(my_iterator))  # Output: 4\n",
    "\n",
    "# Utworzenie iteratora z wyrażenia generatorowego\n",
    "my_iterator = iter(x**2 for x in range(5))\n",
    "\n",
    "# Wyświetlenie kolejnych elementów za pomocą iteratora\n",
    "print(next(my_iterator))  # Output: 0\n",
    "print(next(my_iterator))  # Output: 1\n",
    "print(next(my_iterator))  # Output: 4\n",
    "print(next(my_iterator))  # Output: 9\n",
    "print(next(my_iterator))  # Output: 16"
   ]
  },
  {
   "cell_type": "markdown",
   "id": "e9c9cace-dd79-417f-ad58-4aed7c7ba02c",
   "metadata": {},
   "source": [
    "### len()"
   ]
  },
  {
   "cell_type": "code",
   "execution_count": 102,
   "id": "5644ae7e-36fe-490e-956f-43cc28154d0e",
   "metadata": {},
   "outputs": [
    {
     "name": "stdout",
     "output_type": "stream",
     "text": [
      "5\n",
      "13\n",
      "3\n"
     ]
    }
   ],
   "source": [
    "# Funkcja len() zwraca długość (liczbę elementów) obiektu. \n",
    "\n",
    "# Obliczenie długości listy\n",
    "my_list = [1, 2, 3, 4, 5]\n",
    "length = len(my_list)\n",
    "print(length)  # Output: 5\n",
    "\n",
    "# Obliczenie długości łańcucha znaków\n",
    "my_string = \"Hello, World!\"\n",
    "length = len(my_string)\n",
    "print(length)  # Output: 13\n",
    "\n",
    "# Obliczenie liczby elementów w słowniku\n",
    "my_dict = {'a': 1, 'b': 2, 'c': 3}\n",
    "length = len(my_dict)\n",
    "print(length)  # Output: 3"
   ]
  },
  {
   "cell_type": "markdown",
   "id": "712d214c-ba15-4ed3-8049-d7e21b4031d7",
   "metadata": {},
   "source": [
    "### list()"
   ]
  },
  {
   "cell_type": "code",
   "execution_count": 103,
   "id": "bc50d6b9-e0f7-4fa3-ac19-b181e54f6ce9",
   "metadata": {},
   "outputs": [
    {
     "name": "stdout",
     "output_type": "stream",
     "text": [
      "[1, 2, 3]\n",
      "['h', 'e', 'l', 'l', 'o']\n",
      "[0, 1, 2, 3, 4]\n",
      "['a', 'b', 'c']\n"
     ]
    }
   ],
   "source": [
    "# Funkcja list() tworzy nową listę na podstawie podanej sekwencji lub iterowalnego obiektu. \n",
    "\n",
    "# Konwersja krotki na listę\n",
    "my_tuple = (1, 2, 3)\n",
    "new_list = list(my_tuple)\n",
    "print(new_list)  # Output: [1, 2, 3]\n",
    "\n",
    "# Konwersja łańcucha znaków na listę\n",
    "my_string = \"hello\"\n",
    "new_list = list(my_string)\n",
    "print(new_list)  # Output: ['h', 'e', 'l', 'l', 'o']\n",
    "\n",
    "# Utworzenie listy z zakresu liczb\n",
    "new_list = list(range(5))\n",
    "print(new_list)  # Output: [0, 1, 2, 3, 4]\n",
    "\n",
    "# Konwersja słownika na listę kluczy\n",
    "my_dict = {'a': 1, 'b': 2, 'c': 3}\n",
    "new_list = list(my_dict)\n",
    "print(new_list)  # Output: ['a', 'b', 'c']"
   ]
  },
  {
   "cell_type": "markdown",
   "id": "fb43217e-7dfb-4ce1-9f5e-e7d09ce89b07",
   "metadata": {},
   "source": [
    "### locals()"
   ]
  },
  {
   "cell_type": "code",
   "execution_count": 104,
   "id": "fc7e2cc1-2ca0-48a7-b3c4-59f1bf9d618b",
   "metadata": {},
   "outputs": [
    {
     "name": "stdout",
     "output_type": "stream",
     "text": [
      "{'local_variable': 10}\n"
     ]
    }
   ],
   "source": [
    "# Funkcja locals() zwraca słownik zawierający bieżące zmienne lokalne w bieżącym zakresie.\n",
    "\n",
    "def example_function():\n",
    "    local_variable = 10\n",
    "    print(locals())\n",
    "\n",
    "example_function()"
   ]
  },
  {
   "cell_type": "markdown",
   "id": "17f79d49-91f0-4027-9b0e-a51e01ce345d",
   "metadata": {},
   "source": [
    "### map()"
   ]
  },
  {
   "cell_type": "code",
   "execution_count": 105,
   "id": "4dc0f8f1-7269-4955-8a97-38805665ec1d",
   "metadata": {},
   "outputs": [
    {
     "name": "stdout",
     "output_type": "stream",
     "text": [
      "[2, 4, 6, 8, 10]\n",
      "[5, 7, 9]\n"
     ]
    }
   ],
   "source": [
    "# Funkcja map() służy do przekształcania każdego elementu z jednego lub więcej iterowalnych obiektów za pomocą określonej funkcji.\n",
    "\n",
    "# Definicja funkcji do podwajania liczby\n",
    "def double(x):\n",
    "    return 2 * x\n",
    "\n",
    "# Zastosowanie funkcji do listy\n",
    "my_list = [1, 2, 3, 4, 5]\n",
    "result = map(double, my_list)\n",
    "print(list(result))  # Output: [2, 4, 6, 8, 10]\n",
    "\n",
    "# Zastosowanie funkcji do dwóch list równolegle\n",
    "list1 = [1, 2, 3]\n",
    "list2 = [4, 5, 6]\n",
    "result = map(lambda x, y: x + y, list1, list2)\n",
    "print(list(result))  # Output: [5, 7, 9]"
   ]
  },
  {
   "cell_type": "markdown",
   "id": "e9f62e6e-84da-45a5-83f5-c94973ef17e6",
   "metadata": {},
   "source": [
    "### max()"
   ]
  },
  {
   "cell_type": "code",
   "execution_count": 106,
   "id": "250cf606-3e43-4ad1-9cf8-93173e963f43",
   "metadata": {},
   "outputs": [
    {
     "name": "stdout",
     "output_type": "stream",
     "text": [
      "7\n",
      "banana\n"
     ]
    }
   ],
   "source": [
    "# Funkcja max() zwraca największy element z podanej sekwencji lub największy z przekazanych argumentów.\n",
    "\n",
    "# Znalezienie największej liczby w liście\n",
    "my_list = [1, 5, 3, 7, 2]\n",
    "max_value = max(my_list)\n",
    "print(max_value)  # Output: 7\n",
    "\n",
    "# Znalezienie największego łańcucha znaków\n",
    "my_strings = [\"apple\", \"banana\", \"orange\", \"kiwi\"]\n",
    "max_value = max(my_strings, key=len)\n",
    "print(max_value)  # Output: \"banana\""
   ]
  },
  {
   "cell_type": "markdown",
   "id": "d77fd1fd-323e-48d4-849f-595d1f089142",
   "metadata": {},
   "source": [
    "### memoryview()"
   ]
  },
  {
   "cell_type": "code",
   "execution_count": 107,
   "id": "2ebcf7f3-1915-45f2-b77f-ce7822bf2878",
   "metadata": {},
   "outputs": [
    {
     "name": "stdout",
     "output_type": "stream",
     "text": [
      "1\n",
      "2\n",
      "3\n",
      "4\n",
      "bytearray(b'\\x05\\x02\\x03\\x04')\n"
     ]
    }
   ],
   "source": [
    "# Funkcja memoryview() tworzy obiekt pamięciową reprezentację obiektu w pamięci, co umożliwia dostęp do jego danych za pomocą różnych widoków.\n",
    "\n",
    "# Utworzenie obiektu typu bytes\n",
    "data = bytearray([0x01, 0x02, 0x03, 0x04])\n",
    "\n",
    "# Utworzenie pamięciowego widoku dla obiektu typu bytes\n",
    "mem_view = memoryview(data)\n",
    "\n",
    "# Wyświetlenie wartości z pamięciowego widoku\n",
    "print(mem_view[0])  # Output: 1\n",
    "print(mem_view[1])  # Output: 2\n",
    "print(mem_view[2])  # Output: 3\n",
    "print(mem_view[3])  # Output: 4\n",
    "\n",
    "# Modyfikacja danych za pomocą pamięciowego widoku\n",
    "mem_view[0] = 0x05\n",
    "print(data)  # Output: b'\\x05\\x02\\x03\\x04'"
   ]
  },
  {
   "cell_type": "markdown",
   "id": "81e09c84-375c-4aec-b206-78ab7e98aa87",
   "metadata": {},
   "source": [
    "### min()"
   ]
  },
  {
   "cell_type": "code",
   "execution_count": 108,
   "id": "0ecdfd39-c685-4bb4-9e7d-4cb913099714",
   "metadata": {},
   "outputs": [
    {
     "name": "stdout",
     "output_type": "stream",
     "text": [
      "2\n",
      "kiwi\n"
     ]
    }
   ],
   "source": [
    "# Funkcja min() służy do znajdowania najmniejszego elementu w podanej sekwencji lub wśród przekazanych argumentów.\n",
    "\n",
    "# Znalezienie najmniejszej liczby w liście\n",
    "my_list = [5, 3, 8, 2, 9]\n",
    "min_value = min(my_list)\n",
    "print(min_value)  # Output: 2\n",
    "\n",
    "# Znalezienie najmniejszego łańcucha znaków\n",
    "my_strings = [\"apple\", \"banana\", \"orange\", \"kiwi\"]\n",
    "min_value = min(my_strings, key=len)\n",
    "print(min_value)  # Output: \"kiwi\""
   ]
  },
  {
   "cell_type": "markdown",
   "id": "3c321c41-25e2-4584-bc19-43cce2582ea7",
   "metadata": {},
   "source": [
    "### next()"
   ]
  },
  {
   "cell_type": "code",
   "execution_count": 109,
   "id": "568ba8d1-a836-4f2d-adce-a40f33ecfa99",
   "metadata": {},
   "outputs": [
    {
     "name": "stdout",
     "output_type": "stream",
     "text": [
      "1\n",
      "2\n",
      "3\n"
     ]
    }
   ],
   "source": [
    "# Funkcja next() służy do pobierania następnego elementu z iteratora.\n",
    "\n",
    "# Utworzenie iteratora\n",
    "my_iterator = iter([1, 2, 3, 4, 5])\n",
    "\n",
    "# Pobranie kolejnych elementów z iteratora\n",
    "print(next(my_iterator))  # Output: 1\n",
    "print(next(my_iterator))  # Output: 2\n",
    "print(next(my_iterator))  # Output: 3"
   ]
  },
  {
   "cell_type": "markdown",
   "id": "ec5f7c6f-721c-4b3f-8b27-8abe3e497c14",
   "metadata": {},
   "source": [
    "### object()"
   ]
  },
  {
   "cell_type": "code",
   "execution_count": 110,
   "id": "9b1fd53b-5f5b-45f9-84ae-75692a47355c",
   "metadata": {},
   "outputs": [
    {
     "name": "stdout",
     "output_type": "stream",
     "text": [
      "<class 'object'>\n"
     ]
    }
   ],
   "source": [
    "# Funkcja object() tworzy nowy obiekt bez żadnych właściwości lub zachowań specjalnych. \n",
    "\n",
    "# Utworzenie nowego obiektu typu object\n",
    "new_object = object()\n",
    "# Sprawdzenie typu nowego obiektu\n",
    "print(type(new_object))  # Output: <class 'object'>"
   ]
  },
  {
   "cell_type": "markdown",
   "id": "f1dae323-352a-496c-93f3-3de4657e97a1",
   "metadata": {},
   "source": [
    "### oct()"
   ]
  },
  {
   "cell_type": "code",
   "execution_count": 111,
   "id": "19e378b0-4523-4090-a68b-dfed1dc85f0f",
   "metadata": {},
   "outputs": [
    {
     "name": "stdout",
     "output_type": "stream",
     "text": [
      "0o12\n",
      "-0o12\n"
     ]
    }
   ],
   "source": [
    "# Funkcja oct() służy do konwertowania liczby na jej reprezentację w systemie ósemkowym (oktalnym). \n",
    "\n",
    "# Konwersja liczby na reprezentację ósemkową\n",
    "number = 10\n",
    "octal_representation = oct(number)\n",
    "print(octal_representation)  # Output: '0o12'\n",
    "\n",
    "# Konwersja liczby ujemnej na reprezentację ósemkową\n",
    "negative_number = -10\n",
    "octal_representation = oct(negative_number)\n",
    "print(octal_representation)  # Output: '-0o12'"
   ]
  },
  {
   "cell_type": "markdown",
   "id": "0bf4155c-0233-4993-838a-09f75c833f6b",
   "metadata": {},
   "source": [
    "### open()"
   ]
  },
  {
   "cell_type": "code",
   "execution_count": 112,
   "id": "f409f3ab-d162-463e-b96f-d70fd2185fd8",
   "metadata": {},
   "outputs": [],
   "source": [
    "# Funkcja open() służy do otwierania plików w różnych trybach dostępu. \n",
    "\n",
    "# file_object = open(file, mode, buffering, encoding, errors, newline, closefd, opener)\n",
    "# file: Ścieżka do pliku, który chcesz otworzyć.\n",
    "# mode: (opcjonalny): Tryb dostępu do pliku. Domyślnie jest to 'r' (czytanie).\n",
    "# buffering: (opcjonalny): Określa strategię buforowania. Domyślnie jest to -1, co oznacza użycie domyślnego buforowania.\n",
    "# encoding: (opcjonalny): Określa kodowanie znaków do użycia podczas odczytu lub zapisu pliku tekstowego.\n",
    "# errors: (opcjonalny): Określa sposób obsługi błędów związanych z kodowaniem znaków.\n",
    "# newline: (opcjonalny): Określa, jakie znaki końca linii ('\\n', '\\r', '\\r\\n') należy używać podczas odczytu i zapisu pliku tekstowego.\n",
    "# closefd: (opcjonalny): Określa, czy należy zamknąć deskryptor pliku po zamknięciu obiektu pliku.\n",
    "# opener: (opcjonalny): Funkcja, która zostanie użyta do otwarcia pliku.\n",
    "\n",
    "# Otwarcie pliku do odczytu\n",
    "# with open('example.txt', 'r') as file:\n",
    "#     content = file.read()\n",
    "#     print(content)\n",
    "\n",
    "# Otwarcie pliku do zapisu\n",
    "# with open('example.txt', 'w') as file:\n",
    "#     file.write('Hello, World!')"
   ]
  },
  {
   "cell_type": "markdown",
   "id": "60ba9b5f-9612-44e4-8341-f60ed7e0ba5c",
   "metadata": {},
   "source": [
    "### ord()"
   ]
  },
  {
   "cell_type": "code",
   "execution_count": 113,
   "id": "b8c36acb-c67d-4a87-8d92-840f9723b7a2",
   "metadata": {},
   "outputs": [
    {
     "name": "stdout",
     "output_type": "stream",
     "text": [
      "65\n",
      "322\n"
     ]
    }
   ],
   "source": [
    "# Funkcja ord() służy do pobierania wartości Unicode znaku.\n",
    "\n",
    "# Pobranie wartości Unicode dla znaku 'A'\n",
    "unicode_value = ord('A')\n",
    "print(unicode_value)  # Output: 65\n",
    "\n",
    "# Pobranie wartości Unicode dla znaku 'ł' (z polskiego alfabetu)\n",
    "unicode_value = ord('ł')\n",
    "print(unicode_value)  # Output: 322"
   ]
  },
  {
   "cell_type": "markdown",
   "id": "29f134d2-9d73-49bb-a1cc-2842ca37f21b",
   "metadata": {},
   "source": [
    "### pow()"
   ]
  },
  {
   "cell_type": "code",
   "execution_count": 114,
   "id": "57ccae2a-8c37-409f-a8d8-b75f994792f2",
   "metadata": {},
   "outputs": [
    {
     "name": "stdout",
     "output_type": "stream",
     "text": [
      "8\n",
      "3\n"
     ]
    }
   ],
   "source": [
    "# Funkcja pow() służy do podnoszenia liczby do potęgi.\n",
    "\n",
    "# Obliczenie 2^3\n",
    "result = pow(2, 3)\n",
    "print(result)  # Output: 8\n",
    "\n",
    "# Obliczenie 2^3 modulo 5\n",
    "result = pow(2, 3, 5)\n",
    "print(result)  # Output: 3"
   ]
  },
  {
   "cell_type": "markdown",
   "id": "7afb398c-af13-48ce-ab37-050012775cf0",
   "metadata": {},
   "source": [
    "### print()"
   ]
  },
  {
   "cell_type": "code",
   "execution_count": 115,
   "id": "6f794439-882d-4103-9df7-b7cd81174e66",
   "metadata": {},
   "outputs": [
    {
     "name": "stdout",
     "output_type": "stream",
     "text": [
      "Hello, World!\n",
      "Hello, World\n",
      "Hello World\n"
     ]
    }
   ],
   "source": [
    "# Funkcja print() służy do wyświetlania danych na standardowym wyjściu (zazwyczaj na konsoli lub terminalu). \n",
    "# Wyświetlenie pojedynczego obiektu\n",
    "print(\"Hello, World!\")\n",
    "# Wyświetlenie wielu obiektów, oddzielając je przecinkiem\n",
    "print(\"Hello\", \"World\", sep=\", \")\n",
    "# Wyświetlenie obiektów bez końca linii\n",
    "print(\"Hello\", end=\" \")\n",
    "print(\"World\")\n",
    "# Zapisanie wyniku do pliku\n",
    "with open(\"output.txt\", \"w\") as f:\n",
    "    print(\"Hello, World!\", file=f)"
   ]
  },
  {
   "cell_type": "markdown",
   "id": "baa84ce1-b4f5-40f3-897a-3b01e386c299",
   "metadata": {},
   "source": [
    "### property()"
   ]
  },
  {
   "cell_type": "code",
   "execution_count": 116,
   "id": "c4bba3c6-2627-44d1-80e2-db336bc85ab8",
   "metadata": {},
   "outputs": [
    {
     "name": "stdout",
     "output_type": "stream",
     "text": [
      "John\n",
      "Alice\n"
     ]
    }
   ],
   "source": [
    "# Funkcja property() tworzy i zwraca obiekt właściwości (property). Właściwości są specjalnymi atrybutami, \n",
    "# które pozwalają na kontrolę dostępu do atrybutów klasy lub instancji poprzez wywoływanie getterów, setterów i delecików. \n",
    "\n",
    "class Person:\n",
    "    def __init__(self, name):\n",
    "        self._name = name\n",
    "    \n",
    "    def get_name(self):\n",
    "        return self._name\n",
    "    \n",
    "    def set_name(self, value):\n",
    "        self._name = value\n",
    "    \n",
    "    def del_name(self):\n",
    "        del self._name\n",
    "    \n",
    "    name = property(get_name, set_name, del_name, \"Person's name property\")\n",
    "\n",
    "# Użycie właściwości\n",
    "person = Person(\"John\")\n",
    "print(person.name)  # Output: \"John\"\n",
    "person.name = \"Alice\"\n",
    "print(person.name)  # Output: \"Alice\"\n",
    "del person.name"
   ]
  },
  {
   "cell_type": "markdown",
   "id": "1d359526-6474-4a31-a378-0e8bf2b4af50",
   "metadata": {},
   "source": [
    "### range()"
   ]
  },
  {
   "cell_type": "code",
   "execution_count": 117,
   "id": "8861afd1-3181-45f8-a4d7-3e58e16c4e1c",
   "metadata": {},
   "outputs": [
    {
     "name": "stdout",
     "output_type": "stream",
     "text": [
      "[0, 1, 2, 3, 4, 5, 6, 7, 8, 9]\n",
      "[1, 2, 3, 4, 5, 6, 7, 8, 9, 10]\n",
      "[0, 2, 4, 6, 8, 10]\n"
     ]
    }
   ],
   "source": [
    "# Funkcja range() tworzy sekwencję liczb całkowitych w określonym zakresie.\n",
    "\n",
    "# Utworzenie sekwencji liczb od 0 do 9\n",
    "sequence1 = range(10)\n",
    "print(list(sequence1))  # Output: [0, 1, 2, 3, 4, 5, 6, 7, 8, 9]\n",
    "\n",
    "# Utworzenie sekwencji liczb od 1 do 10\n",
    "sequence2 = range(1, 11)\n",
    "print(list(sequence2))  # Output: [1, 2, 3, 4, 5, 6, 7, 8, 9, 10]\n",
    "\n",
    "# Utworzenie sekwencji liczb parzystych od 0 do 10\n",
    "sequence3 = range(0, 11, 2)\n",
    "print(list(sequence3))  # Output: [0, 2, 4, 6, 8, 10]"
   ]
  },
  {
   "cell_type": "markdown",
   "id": "f9954ca5-d7bc-4ae0-9a4b-9b2b4feff1b7",
   "metadata": {},
   "source": [
    "### repr()"
   ]
  },
  {
   "cell_type": "code",
   "execution_count": 118,
   "id": "835f4525-a84f-410e-bbca-1c1e29fcc0a2",
   "metadata": {},
   "outputs": [
    {
     "name": "stdout",
     "output_type": "stream",
     "text": [
      "42\n",
      "'Hello, World!'\n",
      "[1, 2, 3]\n"
     ]
    }
   ],
   "source": [
    "# Funkcja repr() zwraca reprezentację tekstową obiektu. \n",
    "\n",
    "# Uzyskanie reprezentacji tekstowej dla liczby całkowitej\n",
    "int_representation = repr(42)\n",
    "print(int_representation)  # Output: '42'\n",
    "\n",
    "# Uzyskanie reprezentacji tekstowej dla łańcucha znaków\n",
    "str_representation = repr(\"Hello, World!\")\n",
    "print(str_representation)  # Output: \"'Hello, World!'\"\n",
    "\n",
    "# Uzyskanie reprezentacji tekstowej dla listy\n",
    "list_representation = repr([1, 2, 3])\n",
    "print(list_representation)  # Output: '[1, 2, 3]'"
   ]
  },
  {
   "cell_type": "markdown",
   "id": "835db889-a9f1-4c95-83bc-6452705507a8",
   "metadata": {},
   "source": [
    "### reversed()"
   ]
  },
  {
   "cell_type": "code",
   "execution_count": 119,
   "id": "b6cf202a-af4e-4b97-be28-0588e03a0b2f",
   "metadata": {},
   "outputs": [
    {
     "name": "stdout",
     "output_type": "stream",
     "text": [
      "[5, 4, 3, 2, 1]\n",
      "olleH\n",
      "(5, 4, 3, 2, 1)\n"
     ]
    }
   ],
   "source": [
    "# Funkcja reversed() zwraca odwrócony widok sekwencji lub iteratora. \n",
    "\n",
    "# Odwrócenie listy\n",
    "my_list = [1, 2, 3, 4, 5]\n",
    "reversed_list = reversed(my_list)\n",
    "print(list(reversed_list))  # Output: [5, 4, 3, 2, 1]\n",
    "\n",
    "# Odwrócenie łańcucha znaków\n",
    "my_string = \"Hello\"\n",
    "reversed_string = reversed(my_string)\n",
    "print(''.join(reversed_string))  # Output: \"olleH\"\n",
    "\n",
    "# Odwrócenie krotki\n",
    "my_tuple = (1, 2, 3, 4, 5)\n",
    "reversed_tuple = reversed(my_tuple)\n",
    "print(tuple(reversed_tuple))  # Output: (5, 4, 3, 2, 1)"
   ]
  },
  {
   "cell_type": "markdown",
   "id": "c595853d-1a2a-4175-96d9-d6ec630e6814",
   "metadata": {},
   "source": [
    "### round()"
   ]
  },
  {
   "cell_type": "code",
   "execution_count": 120,
   "id": "25670cc1-ccba-475f-9a10-42e5366ee554",
   "metadata": {},
   "outputs": [
    {
     "name": "stdout",
     "output_type": "stream",
     "text": [
      "4\n",
      "3.14\n"
     ]
    }
   ],
   "source": [
    "# Funkcja round() służy do zaokrąglania liczby do określonej liczby miejsc po przecinku lub do najbliższej liczby całkowitej. \n",
    "\n",
    "# Zaokrąglenie do najbliższej liczby całkowitej\n",
    "result1 = round(3.7)\n",
    "print(result1)  # Output: 4\n",
    "\n",
    "# Zaokrąglenie do dwóch miejsc po przecinku\n",
    "result2 = round(3.14159, 2)\n",
    "print(result2)  # Output: 3.14"
   ]
  },
  {
   "cell_type": "markdown",
   "id": "0a1b419d-c5f2-4dab-943e-d6317ac9a418",
   "metadata": {},
   "source": [
    "### set()"
   ]
  },
  {
   "cell_type": "code",
   "execution_count": 121,
   "id": "9c9bfaff-ac0e-47c8-bf63-38c35c0ca6c0",
   "metadata": {},
   "outputs": [
    {
     "name": "stdout",
     "output_type": "stream",
     "text": [
      "{1, 2, 3, 4}\n",
      "set()\n"
     ]
    }
   ],
   "source": [
    "# Funkcja set() tworzy nowy obiekt zbioru (set) zawierający unikalne elementy. \n",
    "\n",
    "# Utworzenie zbioru z listy\n",
    "my_list = [1, 2, 3, 4, 3, 2, 1]\n",
    "new_set = set(my_list)\n",
    "print(new_set)  # Output: {1, 2, 3, 4}\n",
    "\n",
    "# Utworzenie pustego zbioru\n",
    "empty_set = set()\n",
    "print(empty_set)  # Output: set()"
   ]
  },
  {
   "cell_type": "markdown",
   "id": "dbd2f669-9464-4d1e-94ad-11f769a7383e",
   "metadata": {},
   "source": [
    "### setattr()"
   ]
  },
  {
   "cell_type": "code",
   "execution_count": 122,
   "id": "1d36bbd0-ad6c-48aa-8329-0428028bfe02",
   "metadata": {},
   "outputs": [
    {
     "name": "stdout",
     "output_type": "stream",
     "text": [
      "35\n",
      "New York\n"
     ]
    }
   ],
   "source": [
    "# Funkcja setattr() służy do ustawiania wartości atrybutu obiektu. \n",
    "\n",
    "class Person:\n",
    "    def __init__(self, name, age):\n",
    "        self.name = name\n",
    "        self.age = age\n",
    "\n",
    "# Utworzenie obiektu klasy Person\n",
    "person = Person(\"Alice\", 30)\n",
    "\n",
    "# Ustawienie nowej wartości atrybutu 'age' obiektu 'person'\n",
    "setattr(person, 'age', 35)\n",
    "print(person.age)  # Output: 35\n",
    "\n",
    "# Ustawienie nowej wartości atrybutu 'city' obiektu 'person' (tworzenie nowego atrybutu)\n",
    "setattr(person, 'city', 'New York')\n",
    "print(person.city)  # Output: New York"
   ]
  },
  {
   "cell_type": "markdown",
   "id": "cb48e516-3df5-4b12-ae43-0589974d6143",
   "metadata": {},
   "source": [
    "### slice()"
   ]
  },
  {
   "cell_type": "code",
   "execution_count": 123,
   "id": "4c0dceac-fac0-41b0-8b37-00b430d60e88",
   "metadata": {},
   "outputs": [
    {
     "name": "stdout",
     "output_type": "stream",
     "text": [
      "slice(2, 5, None)\n",
      "[3, 4, 5]\n",
      "slice(1, 7, 2)\n",
      "[2, 4, 6]\n"
     ]
    }
   ],
   "source": [
    "# Funkcja slice() tworzy obiekt wycinka (slice). \n",
    "# Wycinek jest używany do definiowania fragmentu sekwencji (np. listy, krotki, łańcucha znaków) do uzyskania dostępu do jej podzbioru. \n",
    "\n",
    "# Utworzenie wycinka dla indeksów od 2 do 5 (bez 5) z krokiem domyślnym\n",
    "my_slice1 = slice(2, 5)\n",
    "print(my_slice1)  # Output: slice(2, 5, None)\n",
    "\n",
    "# Użycie wycinka do uzyskania dostępu do podzbioru listy\n",
    "my_list = [1, 2, 3, 4, 5, 6, 7, 8, 9]\n",
    "subset = my_list[my_slice1]\n",
    "print(subset)  # Output: [3, 4, 5]\n",
    "\n",
    "# Utworzenie wycinka dla indeksów od 1 do 7 (bez 7) z krokiem 2\n",
    "my_slice2 = slice(1, 7, 2)\n",
    "print(my_slice2)  # Output: slice(1, 7, 2)\n",
    "\n",
    "# Użycie wycinka do uzyskania dostępu do podzbioru listy z krokiem 2\n",
    "subset2 = my_list[my_slice2]\n",
    "print(subset2)  # Output: [2, 4, 6]"
   ]
  },
  {
   "cell_type": "markdown",
   "id": "4267b5e6-90b4-4cae-a7b2-4d0b6b4b0df3",
   "metadata": {},
   "source": [
    "### sorted()"
   ]
  },
  {
   "cell_type": "code",
   "execution_count": 124,
   "id": "2be4c0cf-7372-459f-bcbe-2467ad96b1b4",
   "metadata": {},
   "outputs": [
    {
     "name": "stdout",
     "output_type": "stream",
     "text": [
      "[1, 1, 2, 3, 4, 5, 5, 6, 9]\n",
      "['h', 'n', 'o', 'p', 't', 'y']\n",
      "['apple', 'banana', 'cherry', 'grapefruit']\n"
     ]
    }
   ],
   "source": [
    "# Funkcja sorted() sortuje elementy sekwencji (np. listy, krotki, łańcucha znaków) \n",
    "# lub iterowalnego obiektu i zwraca nową listę zawierającą posortowane elementy. \n",
    "\n",
    "# Sortowanie listy liczb\n",
    "numbers = [3, 1, 4, 1, 5, 9, 2, 6, 5]\n",
    "sorted_numbers = sorted(numbers)\n",
    "print(sorted_numbers)  # Output: [1, 1, 2, 3, 4, 5, 5, 6, 9]\n",
    "\n",
    "# Sortowanie łańcucha znaków\n",
    "text = \"python\"\n",
    "sorted_text = sorted(text)\n",
    "print(sorted_text)  # Output: ['h', 'n', 'o', 'p', 't', 'y']\n",
    "\n",
    "# Sortowanie listy słów według ich długości\n",
    "words = [\"banana\", \"apple\", \"cherry\", \"grapefruit\"]\n",
    "sorted_words = sorted(words, key=len)\n",
    "print(sorted_words)  # Output: ['apple', 'banana', 'cherry', 'grapefruit']"
   ]
  },
  {
   "cell_type": "markdown",
   "id": "48707cab-de14-4d69-9c93-b808649502a4",
   "metadata": {},
   "source": [
    "### staticmethod()"
   ]
  },
  {
   "cell_type": "code",
   "execution_count": 125,
   "id": "675262b8-668c-4961-a67e-35194aa9dd4e",
   "metadata": {},
   "outputs": [
    {
     "name": "stdout",
     "output_type": "stream",
     "text": [
      "8\n"
     ]
    }
   ],
   "source": [
    "# Funkcja staticmethod() służy do dekorowania metody w klasie i przekształcania jej w metodę statyczną. \n",
    "# Metoda statyczna jest metodą, która jest przypisana do klasy, a nie do instancji, co oznacza, \n",
    "# że może być wywoływana bez utworzenia instancji klasy. \n",
    "\n",
    "class MyClass:\n",
    "    @staticmethod\n",
    "    def static_method(x, y):\n",
    "        return x + y\n",
    "\n",
    "# Wywołanie metody statycznej bez tworzenia instancji klasy\n",
    "result = MyClass.static_method(3, 5)\n",
    "print(result)  # Output: 8"
   ]
  },
  {
   "cell_type": "markdown",
   "id": "bb024642-f6b8-4512-b07f-06328e1fb215",
   "metadata": {},
   "source": [
    "### str()"
   ]
  },
  {
   "cell_type": "code",
   "execution_count": 126,
   "id": "a825bb12-68d6-4efe-98f3-f13fd6db55d7",
   "metadata": {},
   "outputs": [
    {
     "name": "stdout",
     "output_type": "stream",
     "text": [
      "42\n",
      "[1, 2, 3]\n",
      "Person: Alice\n"
     ]
    }
   ],
   "source": [
    "# Funkcja str() konwertuje podany obiekt na jego reprezentację jako łańcuch znaków.\n",
    "\n",
    "# Konwersja liczby całkowitej na łańcuch znaków\n",
    "number = 42\n",
    "str_number = str(number)\n",
    "print(str_number)  # Output: '42'\n",
    "\n",
    "# Konwersja listy na łańcuch znaków\n",
    "my_list = [1, 2, 3]\n",
    "str_list = str(my_list)\n",
    "print(str_list)  # Output: '[1, 2, 3]'\n",
    "\n",
    "# Konwersja obiektu do łańcucha znaków (użycie zdefiniowanej metody __str__())\n",
    "class Person:\n",
    "    def __init__(self, name):\n",
    "        self.name = name\n",
    "    \n",
    "    def __str__(self):\n",
    "        return f\"Person: {self.name}\"\n",
    "\n",
    "person = Person(\"Alice\")\n",
    "str_person = str(person)\n",
    "print(str_person)  # Output: 'Person: Alice'"
   ]
  },
  {
   "cell_type": "markdown",
   "id": "bbee8379-d371-4d56-9143-a228ae87366f",
   "metadata": {},
   "source": [
    "### sum()"
   ]
  },
  {
   "cell_type": "code",
   "execution_count": 127,
   "id": "db62941b-8edc-462c-8d96-f67f3d09da85",
   "metadata": {},
   "outputs": [
    {
     "name": "stdout",
     "output_type": "stream",
     "text": [
      "15\n",
      "15\n",
      "15\n",
      "25\n"
     ]
    }
   ],
   "source": [
    "# Funkcja sum() zwraca sumę wszystkich elementów w sekwencji, np. w liście, krotce lub zbiorze.\n",
    "\n",
    "# Sumowanie elementów listy\n",
    "numbers = [1, 2, 3, 4, 5]\n",
    "total = sum(numbers)\n",
    "print(total)  # Output: 15\n",
    "\n",
    "# Sumowanie elementów krotki\n",
    "my_tuple = (1, 2, 3, 4, 5)\n",
    "total = sum(my_tuple)\n",
    "print(total)  # Output: 15\n",
    "\n",
    "# Sumowanie elementów zbioru\n",
    "my_set = {1, 2, 3, 4, 5}\n",
    "total = sum(my_set)\n",
    "print(total)  # Output: 15\n",
    "\n",
    "# Sumowanie elementów z określoną wartością początkową\n",
    "numbers = [1, 2, 3, 4, 5]\n",
    "total = sum(numbers, start=10)\n",
    "print(total)  # Output: 25"
   ]
  },
  {
   "cell_type": "markdown",
   "id": "2083b268-4467-46ec-b724-669e0dda8f74",
   "metadata": {},
   "source": [
    "### super()"
   ]
  },
  {
   "cell_type": "code",
   "execution_count": 128,
   "id": "09e22667-32eb-42ea-ba96-705b405ef38d",
   "metadata": {},
   "outputs": [
    {
     "name": "stdout",
     "output_type": "stream",
     "text": [
      "Alice\n",
      "10\n"
     ]
    }
   ],
   "source": [
    "# Funkcja super() zwraca obiekt proxy, który pozwala na dostęp do atrybutów i metod klasy nadrzędnej (superklasy) \n",
    "# w klasie dziedziczącej (podklasie). \n",
    "\n",
    "class Parent:\n",
    "    def __init__(self, name):\n",
    "        self.name = name\n",
    "\n",
    "class Child(Parent):\n",
    "    def __init__(self, name, age):\n",
    "        super().__init__(name)  # Wywołanie konstruktora klasy nadrzędnej\n",
    "        self.age = age\n",
    "\n",
    "child = Child(\"Alice\", 10)\n",
    "print(child.name)  # Output: Alice\n",
    "print(child.age)   # Output: 10"
   ]
  },
  {
   "cell_type": "markdown",
   "id": "2d72785b-69fc-407d-9278-fd4fac7425a0",
   "metadata": {},
   "source": [
    "### tuple()"
   ]
  },
  {
   "cell_type": "code",
   "execution_count": 129,
   "id": "c161d70c-e5a8-4d93-913f-a6ba3425ec83",
   "metadata": {},
   "outputs": [
    {
     "name": "stdout",
     "output_type": "stream",
     "text": [
      "(1, 2, 3)\n",
      "('h', 'e', 'l', 'l', 'o')\n",
      "()\n"
     ]
    }
   ],
   "source": [
    "# Funkcja tuple() tworzy nowy obiekt tupli (krotki) na podstawie podanej sekwencji lub iterowalnego obiektu. \n",
    "\n",
    "# Utworzenie krotki na podstawie listy\n",
    "my_list = [1, 2, 3]\n",
    "new_tuple = tuple(my_list)\n",
    "print(new_tuple)  # Output: (1, 2, 3)\n",
    "\n",
    "# Utworzenie krotki na podstawie łańcucha znaków\n",
    "my_string = \"hello\"\n",
    "new_tuple = tuple(my_string)\n",
    "print(new_tuple)  # Output: ('h', 'e', 'l', 'l', 'o')\n",
    "\n",
    "# Utworzenie pustej krotki\n",
    "empty_tuple = tuple()\n",
    "print(empty_tuple)  # Output: ()"
   ]
  },
  {
   "cell_type": "markdown",
   "id": "cfd589de-f1d5-48a3-8a89-f8ea94dc4964",
   "metadata": {},
   "source": [
    "### type()"
   ]
  },
  {
   "cell_type": "code",
   "execution_count": 130,
   "id": "90a76181-0641-4c76-ae53-be7de20bd3be",
   "metadata": {},
   "outputs": [
    {
     "name": "stdout",
     "output_type": "stream",
     "text": [
      "<class 'int'>\n",
      "<class 'str'>\n",
      "<class 'list'>\n",
      "<class '__main__.MyClass'>\n"
     ]
    }
   ],
   "source": [
    "# Funkcja type() zwraca typ obiektu. \n",
    "\n",
    "# Sprawdzenie typu liczby całkowitej\n",
    "number = 10\n",
    "print(type(number))  # Output: <class 'int'>\n",
    "\n",
    "# Sprawdzenie typu łańcucha znaków\n",
    "text = \"Hello\"\n",
    "print(type(text))  # Output: <class 'str'>\n",
    "\n",
    "# Sprawdzenie typu listy\n",
    "my_list = [1, 2, 3]\n",
    "print(type(my_list))  # Output: <class 'list'>\n",
    "\n",
    "# Sprawdzenie typu obiektu klasy\n",
    "class MyClass:\n",
    "    pass\n",
    "\n",
    "obj = MyClass()\n",
    "print(type(obj))  # Output: <class '__main__.MyClass'>"
   ]
  },
  {
   "cell_type": "markdown",
   "id": "266eabd7-460b-45cf-8225-6819399fc00a",
   "metadata": {},
   "source": [
    "### vars()"
   ]
  },
  {
   "cell_type": "code",
   "execution_count": 131,
   "id": "dece3d14-9f25-45d2-abb7-5af0b1b861d8",
   "metadata": {},
   "outputs": [
    {
     "name": "stdout",
     "output_type": "stream",
     "text": [
      "{'name': 'Alice', 'age': 30}\n"
     ]
    }
   ],
   "source": [
    "# Funkcja vars() zwraca słownik zawierający atrybuty i ich wartości dla określonego obiektu. \n",
    "\n",
    "# Uzyskanie atrybutów i ich wartości dla obiektu klasy\n",
    "class Person:\n",
    "    def __init__(self, name, age):\n",
    "        self.name = name\n",
    "        self.age = age\n",
    "\n",
    "person = Person(\"Alice\", 30)\n",
    "attributes = vars(person)\n",
    "print(attributes)  # Output: {'name': 'Alice', 'age': 30}\n",
    "\n",
    "# Uzyskanie lokalnych zmiennych w bieżącym zakresie\n",
    "var1 = 10\n",
    "var2 = \"Hello\"\n",
    "local_vars = vars()\n",
    "# print(local_vars)  # Output: {'var1': 10, 'var2': 'Hello'}"
   ]
  },
  {
   "cell_type": "markdown",
   "id": "f26e32f6-552b-48c4-9d39-989184ec55f3",
   "metadata": {},
   "source": [
    "### zip()"
   ]
  },
  {
   "cell_type": "code",
   "execution_count": 132,
   "id": "3ecdb6fb-76f1-401a-b5ab-c34003b4f083",
   "metadata": {},
   "outputs": [
    {
     "name": "stdout",
     "output_type": "stream",
     "text": [
      "[('Anna', 25, 1), ('John', 30, 2), ('Emily', 35, 3)]\n"
     ]
    }
   ],
   "source": [
    "# Funkcja zip() służy do łączenia elementów z różnych iterowalnych obiektów, takich jak listy, krotki czy zbiory,\n",
    "# tworząc krotki z odpowiadającymi sobie elementami\n",
    "# zipped_result = zip(iterable1, iterable2, ...)\n",
    "\n",
    "names = ['Anna', 'John', 'Emily']\n",
    "ages = [25, 30, 35]\n",
    "data = [1, 2, 3]\n",
    "zipped_data = zip(names, ages, data)\n",
    "zipped_data_list = list(zipped_data)\n",
    "print(zipped_data_list) "
   ]
  },
  {
   "cell_type": "markdown",
   "id": "e4d61ab8-b060-4a50-8443-72eb3f904bfb",
   "metadata": {},
   "source": [
    "### __import__()"
   ]
  },
  {
   "cell_type": "code",
   "execution_count": 133,
   "id": "e3333e50-8a1e-4a97-8d42-2750348e746b",
   "metadata": {},
   "outputs": [
    {
     "name": "stdout",
     "output_type": "stream",
     "text": [
      "3.141592653589793\n",
      "4.0\n"
     ]
    }
   ],
   "source": [
    "# Funkcja __import__() służy do dynamicznego importowania modułów. \n",
    "\n",
    "# Importowanie modułu math\n",
    "math_module = __import__('math')\n",
    "print(math_module.pi)  # Output: 3.141592653589793\n",
    "\n",
    "# Importowanie konkretnej funkcji z modułu\n",
    "sqrt_function = __import__('math', fromlist=['sqrt']).sqrt\n",
    "print(sqrt_function(16))  # Output: 4.0"
   ]
  },
  {
   "cell_type": "code",
   "execution_count": null,
   "id": "5286f21c-40b9-4332-93fc-d7afeda7c560",
   "metadata": {},
   "outputs": [],
   "source": []
  }
 ],
 "metadata": {
  "kernelspec": {
   "display_name": "Python 3 (ipykernel)",
   "language": "python",
   "name": "python3"
  },
  "language_info": {
   "codemirror_mode": {
    "name": "ipython",
    "version": 3
   },
   "file_extension": ".py",
   "mimetype": "text/x-python",
   "name": "python",
   "nbconvert_exporter": "python",
   "pygments_lexer": "ipython3",
   "version": "3.11.10"
  },
  "widgets": {
   "application/vnd.jupyter.widget-state+json": {
    "state": {},
    "version_major": 2,
    "version_minor": 0
   }
  }
 },
 "nbformat": 4,
 "nbformat_minor": 5
}
