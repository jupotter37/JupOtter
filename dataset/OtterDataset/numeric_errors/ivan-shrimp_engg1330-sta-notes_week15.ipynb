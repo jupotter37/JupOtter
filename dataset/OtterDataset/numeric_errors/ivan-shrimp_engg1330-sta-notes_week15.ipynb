{
    "metadata": {
        "kernelspec": {
            "name": "python3",
            "display_name": "Python 3 (ipykernel)",
            "language": "python"
        }
    },
    "nbformat": 4,
    "nbformat_minor": 2,
    "cells": [
        {
            "attachments": {},
            "cell_type": "markdown",
            "metadata": {},
            "source": [
                "# Week 15"
            ]
        },
        {
            "cell_type": "code",
            "execution_count": 19,
            "metadata": {},
            "outputs": [],
            "source": [
                "a = 0"
            ]
        },
        {
            "cell_type": "code",
            "execution_count": 20,
            "metadata": {},
            "outputs": [
                {
                    "data": {
                        "text/plain": "1"
                    },
                    "execution_count": 20,
                    "metadata": {},
                    "output_type": "execute_result"
                }
            ],
            "source": [
                "a += 1\n",
                "a"
            ]
        },
        {
            "cell_type": "code",
            "execution_count": 21,
            "metadata": {},
            "outputs": [
                {
                    "name": "stdout",
                    "output_type": "stream",
                    "text": "81\n"
                }
            ],
            "source": [
                "a = 3\n",
                "print(a ** a * a)"
            ]
        },
        {
            "cell_type": "code",
            "execution_count": 22,
            "metadata": {},
            "outputs": [
                {
                    "name": "stdout",
                    "output_type": "stream",
                    "text": "4\n"
                }
            ],
            "source": [
                "a = 3\n",
                "print(a // a + a)"
            ]
        },
        {
            "cell_type": "code",
            "execution_count": 23,
            "metadata": {},
            "outputs": [
                {
                    "name": "stdout",
                    "output_type": "stream",
                    "text": "-1\n"
                }
            ],
            "source": [
                "print(-3 // 4)"
            ]
        },
        {
            "cell_type": "code",
            "execution_count": 24,
            "metadata": {},
            "outputs": [
                {
                    "name": "stdout",
                    "output_type": "stream",
                    "text": "-4\n"
                }
            ],
            "source": [
                "print(-13 // 4)"
            ]
        },
        {
            "cell_type": "code",
            "execution_count": 25,
            "metadata": {},
            "outputs": [
                {
                    "data": {
                        "text/plain": "2.0"
                    },
                    "execution_count": 25,
                    "metadata": {},
                    "output_type": "execute_result"
                }
            ],
            "source": [
                "7 % 2.5"
            ]
        },
        {
            "cell_type": "code",
            "execution_count": 26,
            "metadata": {},
            "outputs": [
                {
                    "data": {
                        "text/plain": "0"
                    },
                    "execution_count": 26,
                    "metadata": {},
                    "output_type": "execute_result"
                }
            ],
            "source": [
                "8 % 1"
            ]
        },
        {
            "cell_type": "code",
            "execution_count": 27,
            "metadata": {},
            "outputs": [
                {
                    "data": {
                        "text/plain": "17.75"
                    },
                    "execution_count": 27,
                    "metadata": {},
                    "output_type": "execute_result"
                }
            ],
            "source": [
                "18 ** 1 - 2 **  -218 ** 1 - 2 ** -218 ** 1 - 2 ** -218 ** 1 - 2 ** -218 ** 1 - 2 ** -218 ** 1 - 2 ** -218 ** 1 - 2 ** -218 ** 1 - 2 ** -218 ** 1 - 2 ** -218 ** 1 - 2 ** -218 ** 1 - 2 ** -218 ** 1 - 2 ** -218 ** 1 - 2 ** -218 ** 1 - 2 ** -218 ** 1 - 2 ** -218 ** 1 - 2 ** -218 ** 1 - 2 ** -218 ** 1 - 2 ** -218 ** 1 - 2 ** -218 ** 1 - 2 ** -218 ** 1 - 2 ** -218 ** 1 - 2 ** -218 ** 1 - 2 ** -218 ** 1 - 2 ** -218 ** 1 - 2 ** -218 ** 1 - 2 ** -218 ** 1 - 2 ** -218 ** 1 - 2 ** -218 ** 1 - 2 ** -218 ** 1 - 2 ** -218 ** 1 - 2 ** -218 ** 1 - 2 ** -218 ** 1 - 2 ** -218 ** 1 - 2 ** -218 ** 1 - 2 ** -218 ** 1 - 2 ** -2"
            ]
        },
        {
            "cell_type": "code",
            "execution_count": 28,
            "metadata": {},
            "outputs": [
                {
                    "data": {
                        "text/plain": "17"
                    },
                    "execution_count": 28,
                    "metadata": {},
                    "output_type": "execute_result"
                }
            ],
            "source": [
                "18 ** 1 - -2 // -218 ** 1 - -2 // -218 ** 1 - -2 // -218 ** 1 - -2 // -218 ** 1 - -2 // -218 ** 1 - -2 // -218 ** 1 - -2 // -218 ** 1 - -2 // -218 ** 1 - -2 // -218 ** 1 - -2 // -218 ** 1 - -2 // -218 ** 1 - -2 // -218 ** 1 - -2 // -218 ** 1 - -2 // -218 ** 1 - -2 // -218 ** 1 - -2 // -218 ** 1 - -2 // -218 ** 1 - -2 // -218 ** 1 - -2 // -218 ** 1 - -2 // -218 ** 1 - -2 // -218 ** 1 - -2 // -218 ** 1 - -2 // -218 ** 1 - -2 // -218 ** 1 - -2 // -218 ** 1 - -2 // -218 ** 1 - -2 // -218 ** 1 - -2 // -218 ** 1 - -2 // -218 ** 1 - -2 // -218 ** 1 - -2 // -218 ** 1 - -2 // -218 ** 1 - -2 // -218 ** 1 - -2 // -218 ** 1 - -2 // -218 ** 1 - -2 // -2"
            ]
        },
        {
            "cell_type": "code",
            "execution_count": 29,
            "metadata": {},
            "outputs": [
                {
                    "name": "stdout",
                    "output_type": "stream",
                    "text": "False\n"
                }
            ],
            "source": [
                "if 3 \u003c 5 \u003e 3:\n",
                "    print(6 \u003c 8 \u003e= 88)"
            ]
        },
        {
            "cell_type": "code",
            "execution_count": 30,
            "metadata": {},
            "outputs": [],
            "source": [
                "if 3 + ((-5) // 2):\n",
                "    print(6)"
            ]
        },
        {
            "cell_type": "code",
            "execution_count": 31,
            "metadata": {},
            "outputs": [
                {
                    "name": "stdout",
                    "output_type": "stream",
                    "text": "15\n19\n"
                }
            ],
            "source": [
                "if print(7 + 8) or 11 + 12:\n",
                "    print(9 + 10)"
            ]
        },
        {
            "cell_type": "code",
            "execution_count": 32,
            "metadata": {},
            "outputs": [
                {
                    "name": "stdout",
                    "output_type": "stream",
                    "text": "3\nNone\n"
                }
            ],
            "source": [
                "a = print(1 + 2)\n",
                "print(a)"
            ]
        },
        {
            "cell_type": "code",
            "execution_count": 33,
            "metadata": {},
            "outputs": [
                {
                    "data": {
                        "text/plain": "'37'"
                    },
                    "execution_count": 33,
                    "metadata": {},
                    "output_type": "execute_result"
                }
            ],
            "source": [
                "str(1+2)+str(3+4)"
            ]
        },
        {
            "cell_type": "code",
            "execution_count": 34,
            "metadata": {},
            "outputs": [
                {
                    "data": {
                        "text/plain": "46"
                    },
                    "execution_count": 34,
                    "metadata": {},
                    "output_type": "execute_result"
                }
            ],
            "source": [
                "int('1'+'2')+int('3''4')"
            ]
        },
        {
            "cell_type": "code",
            "execution_count": 35,
            "metadata": {},
            "outputs": [
                {
                    "data": {
                        "text/plain": "'abefg'"
                    },
                    "execution_count": 35,
                    "metadata": {},
                    "output_type": "execute_result"
                }
            ],
            "source": [
                "'ab' 'efg'"
            ]
        },
        {
            "cell_type": "code",
            "execution_count": 36,
            "metadata": {},
            "outputs": [
                {
                    "ename": "SyntaxError",
                    "evalue": "invalid syntax (2804962361.py, line 2)",
                    "output_type": "error",
                    "traceback": [
                        "\u001b[0;36m  Cell \u001b[0;32mIn[36], line 2\u001b[0;36m\u001b[0m\n\u001b[0;31m    x 'efg'\u001b[0m\n\u001b[0m      ^\u001b[0m\n\u001b[0;31mSyntaxError\u001b[0m\u001b[0;31m:\u001b[0m invalid syntax\n"
                    ]
                }
            ],
            "source": [
                "x = 'ab'\n",
                "x 'efg'"
            ]
        },
        {
            "cell_type": "code",
            "execution_count": 37,
            "metadata": {},
            "outputs": [
                {
                    "data": {
                        "text/plain": "'abefg'"
                    },
                    "execution_count": 37,
                    "metadata": {},
                    "output_type": "execute_result"
                }
            ],
            "source": [
                "x = 'ab'\n",
                "x + 'efg'"
            ]
        },
        {
            "cell_type": "code",
            "execution_count": 38,
            "metadata": {},
            "outputs": [
                {
                    "data": {
                        "text/plain": "1717.0"
                    },
                    "execution_count": 38,
                    "metadata": {},
                    "output_type": "execute_result"
                }
            ],
            "source": [
                "int('34'*2)/2"
            ]
        },
        {
            "cell_type": "code",
            "execution_count": 45,
            "metadata": {},
            "outputs": [],
            "source": [
                "if int('12345') - 12345:\n",
                "    print(123)"
            ]
        },
        {
            "cell_type": "code",
            "execution_count": 42,
            "metadata": {},
            "outputs": [
                {
                    "ename": "TypeError",
                    "evalue": "unsupported operand type(s) for -: 'str' and 'str'",
                    "output_type": "error",
                    "traceback": [
                        "\u001b[0;31m---------------------------------------------------------------------------\u001b[0m",
                        "\u001b[0;31mTypeError\u001b[0m                                 Traceback (most recent call last)",
                        "Cell \u001b[0;32mIn[1], line 1\u001b[0m\n\u001b[0;32m----\u003e 1\u001b[0m \u001b[38;5;28;01mif\u001b[39;00m \u001b[38;5;28;43mstr\u001b[39;49m\u001b[43m(\u001b[49m\u001b[38;5;241;43m12345\u001b[39;49m\u001b[43m)\u001b[49m\u001b[43m \u001b[49m\u001b[38;5;241;43m-\u001b[39;49m\u001b[43m \u001b[49m\u001b[38;5;124;43m'\u001b[39;49m\u001b[38;5;124;43m12345\u001b[39;49m\u001b[38;5;124;43m'\u001b[39;49m:\n\u001b[1;32m      2\u001b[0m     \u001b[38;5;28mprint\u001b[39m(\u001b[38;5;241m234\u001b[39m)\n",
                        "\u001b[0;31mTypeError\u001b[0m: unsupported operand type(s) for -: 'str' and 'str'"
                    ]
                }
            ],
            "source": [
                "if str(12345) - '12345':\n",
                "    print(234)"
            ]
        },
        {
            "cell_type": "code",
            "execution_count": 43,
            "metadata": {},
            "outputs": [
                {
                    "name": "stdout",
                    "output_type": "stream",
                    "text": "234\n"
                }
            ],
            "source": [
                "if str(-12345) + '12345':\n",
                "    print(234)"
            ]
        },
        {
            "cell_type": "code",
            "execution_count": 46,
            "metadata": {},
            "outputs": [
                {
                    "data": {
                        "text/plain": "True"
                    },
                    "execution_count": 46,
                    "metadata": {},
                    "output_type": "execute_result"
                }
            ],
            "source": [
                "bool('123')"
            ]
        },
        {
            "cell_type": "code",
            "execution_count": 47,
            "metadata": {},
            "outputs": [
                {
                    "data": {
                        "text/plain": "True"
                    },
                    "execution_count": 47,
                    "metadata": {},
                    "output_type": "execute_result"
                }
            ],
            "source": [
                "bool([0])"
            ]
        },
        {
            "cell_type": "code",
            "execution_count": 48,
            "metadata": {},
            "outputs": [
                {
                    "data": {
                        "text/plain": "True"
                    },
                    "execution_count": 48,
                    "metadata": {},
                    "output_type": "execute_result"
                }
            ],
            "source": [
                "bool('False')"
            ]
        },
        {
            "cell_type": "code",
            "execution_count": 49,
            "metadata": {},
            "outputs": [
                {
                    "name": "stderr",
                    "output_type": "stream",
                    "text": "\u003c\u003e:1: SyntaxWarning: \"is\" with 'str' literal. Did you mean \"==\"?\n\u003c\u003e:1: SyntaxWarning: \"is\" with 'str' literal. Did you mean \"==\"?\n/tmp/ipykernel_44/3343193943.py:1: SyntaxWarning: \"is\" with 'str' literal. Did you mean \"==\"?\n  bool('False' is False)\n"
                },
                {
                    "data": {
                        "text/plain": "False"
                    },
                    "execution_count": 49,
                    "metadata": {},
                    "output_type": "execute_result"
                }
            ],
            "source": [
                "bool('False' is False)"
            ]
        },
        {
            "cell_type": "code",
            "execution_count": 50,
            "metadata": {},
            "outputs": [
                {
                    "data": {
                        "text/plain": "True"
                    },
                    "execution_count": 50,
                    "metadata": {},
                    "output_type": "execute_result"
                }
            ],
            "source": [
                "bool('True' == str(True))"
            ]
        },
        {
            "cell_type": "code",
            "execution_count": 51,
            "metadata": {},
            "outputs": [
                {
                    "data": {
                        "text/plain": "'2'"
                    },
                    "execution_count": 51,
                    "metadata": {},
                    "output_type": "execute_result"
                }
            ],
            "source": [
                "'234'[0]"
            ]
        },
        {
            "cell_type": "code",
            "execution_count": 52,
            "metadata": {},
            "outputs": [
                {
                    "data": {
                        "text/plain": "'ab'"
                    },
                    "execution_count": 52,
                    "metadata": {},
                    "output_type": "execute_result"
                }
            ],
            "source": [
                "'ab'[:234]"
            ]
        },
        {
            "cell_type": "code",
            "execution_count": 53,
            "metadata": {},
            "outputs": [
                {
                    "data": {
                        "text/plain": "''"
                    },
                    "execution_count": 53,
                    "metadata": {},
                    "output_type": "execute_result"
                }
            ],
            "source": [
                "'ab'[234:]"
            ]
        },
        {
            "cell_type": "code",
            "execution_count": 54,
            "metadata": {},
            "outputs": [
                {
                    "ename": "IndexError",
                    "evalue": "string index out of range",
                    "output_type": "error",
                    "traceback": [
                        "\u001b[0;31m---------------------------------------------------------------------------\u001b[0m",
                        "\u001b[0;31mIndexError\u001b[0m                                Traceback (most recent call last)",
                        "Cell \u001b[0;32mIn[1], line 1\u001b[0m\n\u001b[0;32m----\u003e 1\u001b[0m \u001b[38;5;124;43m'\u001b[39;49m\u001b[38;5;124;43mab\u001b[39;49m\u001b[38;5;124;43m'\u001b[39;49m\u001b[43m[\u001b[49m\u001b[38;5;241;43m234\u001b[39;49m\u001b[43m]\u001b[49m\n",
                        "\u001b[0;31mIndexError\u001b[0m: string index out of range"
                    ]
                }
            ],
            "source": [
                "'ab'[234]"
            ]
        },
        {
            "cell_type": "code",
            "execution_count": 55,
            "metadata": {},
            "outputs": [
                {
                    "name": "stderr",
                    "output_type": "stream",
                    "text": "\u003c\u003e:1: SyntaxWarning: 'int' object is not subscriptable; perhaps you missed a comma?\n\u003c\u003e:1: SyntaxWarning: 'int' object is not subscriptable; perhaps you missed a comma?\n/tmp/ipykernel_44/2248546516.py:1: SyntaxWarning: 'int' object is not subscriptable; perhaps you missed a comma?\n  12[234]\n"
                },
                {
                    "ename": "TypeError",
                    "evalue": "'int' object is not subscriptable",
                    "output_type": "error",
                    "traceback": [
                        "\u001b[0;31m---------------------------------------------------------------------------\u001b[0m",
                        "\u001b[0;31mTypeError\u001b[0m                                 Traceback (most recent call last)",
                        "Cell \u001b[0;32mIn[1], line 1\u001b[0m\n\u001b[0;32m----\u003e 1\u001b[0m \u001b[38;5;241;43m12\u001b[39;49m\u001b[43m[\u001b[49m\u001b[38;5;241;43m234\u001b[39;49m\u001b[43m]\u001b[49m\n",
                        "\u001b[0;31mTypeError\u001b[0m: 'int' object is not subscriptable"
                    ]
                }
            ],
            "source": [
                "12[234]"
            ]
        },
        {
            "cell_type": "code",
            "execution_count": 56,
            "metadata": {},
            "outputs": [
                {
                    "data": {
                        "text/plain": "234"
                    },
                    "execution_count": 56,
                    "metadata": {},
                    "output_type": "execute_result"
                }
            ],
            "source": [
                "[234][0]"
            ]
        },
        {
            "cell_type": "code",
            "execution_count": 57,
            "metadata": {},
            "outputs": [
                {
                    "data": {
                        "text/plain": "7"
                    },
                    "execution_count": 57,
                    "metadata": {},
                    "output_type": "execute_result"
                }
            ],
            "source": [
                "[2, 3, 5, 7][-1]"
            ]
        },
        {
            "cell_type": "code",
            "execution_count": 58,
            "metadata": {},
            "outputs": [
                {
                    "ename": "IndexError",
                    "evalue": "list index out of range",
                    "output_type": "error",
                    "traceback": [
                        "\u001b[0;31m---------------------------------------------------------------------------\u001b[0m",
                        "\u001b[0;31mIndexError\u001b[0m                                Traceback (most recent call last)",
                        "Cell \u001b[0;32mIn[1], line 1\u001b[0m\n\u001b[0;32m----\u003e 1\u001b[0m \u001b[43m[\u001b[49m\u001b[38;5;241;43m2\u001b[39;49m\u001b[43m,\u001b[49m\u001b[43m \u001b[49m\u001b[38;5;241;43m3\u001b[39;49m\u001b[43m,\u001b[49m\u001b[43m \u001b[49m\u001b[38;5;241;43m5\u001b[39;49m\u001b[43m,\u001b[49m\u001b[43m \u001b[49m\u001b[38;5;241;43m7\u001b[39;49m\u001b[43m]\u001b[49m\u001b[43m[\u001b[49m\u001b[38;5;241;43m-\u001b[39;49m\u001b[38;5;241;43m7\u001b[39;49m\u001b[43m]\u001b[49m\n",
                        "\u001b[0;31mIndexError\u001b[0m: list index out of range"
                    ]
                }
            ],
            "source": [
                "[2, 3, 5, 7][-7]"
            ]
        },
        {
            "cell_type": "code",
            "execution_count": 59,
            "metadata": {},
            "outputs": [
                {
                    "data": {
                        "text/plain": "[3, 5]"
                    },
                    "execution_count": 59,
                    "metadata": {},
                    "output_type": "execute_result"
                }
            ],
            "source": [
                "[2, 3, 5, 7][-3:3]"
            ]
        },
        {
            "cell_type": "code",
            "execution_count": 60,
            "metadata": {},
            "outputs": [
                {
                    "data": {
                        "text/plain": "[2, 3, 5]"
                    },
                    "execution_count": 60,
                    "metadata": {},
                    "output_type": "execute_result"
                }
            ],
            "source": [
                "[2, 3, 5, 7][-7:3]"
            ]
        },
        {
            "cell_type": "code",
            "execution_count": 61,
            "metadata": {},
            "outputs": [
                {
                    "data": {
                        "text/plain": "[]"
                    },
                    "execution_count": 61,
                    "metadata": {},
                    "output_type": "execute_result"
                }
            ],
            "source": [
                "[2, 3, 5, 7][-2:1]"
            ]
        },
        {
            "cell_type": "code",
            "execution_count": 63,
            "metadata": {},
            "outputs": [
                {
                    "data": {
                        "text/plain": "'wryip'"
                    },
                    "execution_count": 63,
                    "metadata": {},
                    "output_type": "execute_result"
                }
            ],
            "source": [
                "'qwertyuiop'[1::2]"
            ]
        },
        {
            "cell_type": "code",
            "execution_count": 64,
            "metadata": {},
            "outputs": [
                {
                    "data": {
                        "text/plain": "'piyrw'"
                    },
                    "execution_count": 64,
                    "metadata": {},
                    "output_type": "execute_result"
                }
            ],
            "source": [
                "'qwertyuiop'[-1::-2]"
            ]
        },
        {
            "cell_type": "code",
            "execution_count": 65,
            "metadata": {},
            "outputs": [
                {
                    "data": {
                        "text/plain": "'oy'"
                    },
                    "execution_count": 65,
                    "metadata": {},
                    "output_type": "execute_result"
                }
            ],
            "source": [
                "'qwertyuiop'[8:-8:-3]"
            ]
        },
        {
            "cell_type": "code",
            "execution_count": 66,
            "metadata": {},
            "outputs": [
                {
                    "data": {
                        "text/plain": "range(9, -1, -1)"
                    },
                    "execution_count": 66,
                    "metadata": {},
                    "output_type": "execute_result"
                }
            ],
            "source": [
                "range(10)[::-1]"
            ]
        },
        {
            "cell_type": "code",
            "execution_count": 67,
            "metadata": {},
            "outputs": [
                {
                    "data": {
                        "text/plain": "9"
                    },
                    "execution_count": 67,
                    "metadata": {},
                    "output_type": "execute_result"
                }
            ],
            "source": [
                "x = 3\n",
                "while x \u003c 7:\n",
                "    x += x - 1\n",
                "x"
            ]
        },
        {
            "cell_type": "code",
            "execution_count": 68,
            "metadata": {},
            "outputs": [
                {
                    "data": {
                        "text/plain": "15"
                    },
                    "execution_count": 68,
                    "metadata": {},
                    "output_type": "execute_result"
                }
            ],
            "source": [
                "x = 3\n",
                "while x \u003c 7 + (x // 2):\n",
                "    x += x + 1\n",
                "x"
            ]
        },
        {
            "cell_type": "code",
            "execution_count": 69,
            "metadata": {},
            "outputs": [
                {
                    "data": {
                        "text/plain": "49"
                    },
                    "execution_count": 69,
                    "metadata": {},
                    "output_type": "execute_result"
                }
            ],
            "source": [
                "x = 3\n",
                "for y in range(10):\n",
                "    x += y + 1\n",
                "x - y"
            ]
        },
        {
            "cell_type": "code",
            "execution_count": 70,
            "metadata": {},
            "outputs": [
                {
                    "name": "stdout",
                    "output_type": "stream",
                    "text": "5\n5\n5\n"
                }
            ],
            "source": [
                "x = [1, 3, 5]\n",
                "while x:\n",
                "    print(x[-1])\n",
                "    del x[0]"
            ]
        },
        {
            "cell_type": "code",
            "execution_count": 71,
            "metadata": {},
            "outputs": [
                {
                    "name": "stdout",
                    "output_type": "stream",
                    "text": "5\n"
                },
                {
                    "ename": "TypeError",
                    "evalue": "'tuple' object doesn't support item deletion",
                    "output_type": "error",
                    "traceback": [
                        "\u001b[0;31m---------------------------------------------------------------------------\u001b[0m",
                        "\u001b[0;31mTypeError\u001b[0m                                 Traceback (most recent call last)",
                        "Cell \u001b[0;32mIn[1], line 4\u001b[0m\n\u001b[1;32m      2\u001b[0m \u001b[38;5;28;01mwhile\u001b[39;00m x:\n\u001b[1;32m      3\u001b[0m     \u001b[38;5;28mprint\u001b[39m(x[\u001b[38;5;241m-\u001b[39m\u001b[38;5;241m1\u001b[39m])\n\u001b[0;32m----\u003e 4\u001b[0m     \u001b[38;5;28;01mdel\u001b[39;00m \u001b[43mx\u001b[49m\u001b[43m[\u001b[49m\u001b[38;5;241;43m0\u001b[39;49m\u001b[43m]\u001b[49m\n",
                        "\u001b[0;31mTypeError\u001b[0m: 'tuple' object doesn't support item deletion"
                    ]
                }
            ],
            "source": [
                "x = (1, 3, 5)\n",
                "while x:\n",
                "    print(x[-1])\n",
                "    del x[0]"
            ]
        },
        {
            "cell_type": "code",
            "execution_count": 76,
            "metadata": {},
            "outputs": [
                {
                    "name": "stdout",
                    "output_type": "stream",
                    "text": "156\n"
                }
            ],
            "source": [
                "a, b = range(3, 100, 49)\n",
                "print(a * b)"
            ]
        },
        {
            "cell_type": "code",
            "execution_count": 77,
            "metadata": {},
            "outputs": [
                {
                    "name": "stdout",
                    "output_type": "stream",
                    "text": "52-1-4741-2-59630-3-6"
                }
            ],
            "source": [
                "for i in range(5, 10, 2):\n",
                "    for j in range(i, -i, -3):\n",
                "        print(j, end='')"
            ]
        },
        {
            "cell_type": "code",
            "execution_count": 78,
            "metadata": {},
            "outputs": [
                {
                    "data": {
                        "text/plain": "[3, 8, 15]"
                    },
                    "execution_count": 78,
                    "metadata": {},
                    "output_type": "execute_result"
                }
            ],
            "source": [
                "[x * y for x, y in ((1, 3), (2, 4), (3, 5))]"
            ]
        },
        {
            "cell_type": "code",
            "execution_count": 79,
            "metadata": {},
            "outputs": [
                {
                    "data": {
                        "text/plain": "[(0, 'd'), (1, 'e'), (2, 'f')]"
                    },
                    "execution_count": 79,
                    "metadata": {},
                    "output_type": "execute_result"
                }
            ],
            "source": [
                "list(enumerate('def'))"
            ]
        },
        {
            "cell_type": "code",
            "execution_count": 80,
            "metadata": {},
            "outputs": [
                {
                    "data": {
                        "text/plain": "['', 'e', 'ff']"
                    },
                    "execution_count": 80,
                    "metadata": {},
                    "output_type": "execute_result"
                }
            ],
            "source": [
                "[x * y for x, y in enumerate('def')]"
            ]
        },
        {
            "cell_type": "code",
            "execution_count": 81,
            "metadata": {},
            "outputs": [
                {
                    "data": {
                        "text/plain": "(0, 'g', 1, 'h', 2, 'i')"
                    },
                    "execution_count": 81,
                    "metadata": {},
                    "output_type": "execute_result"
                }
            ],
            "source": [
                "x, y, z = enumerate('ghi')\n",
                "x + y + z"
            ]
        },
        {
            "cell_type": "code",
            "execution_count": 82,
            "metadata": {},
            "outputs": [
                {
                    "data": {
                        "text/plain": "(2, 'i', 1, 'h', 2, 'i')"
                    },
                    "execution_count": 82,
                    "metadata": {},
                    "output_type": "execute_result"
                }
            ],
            "source": [
                "x, y, x = enumerate('ghi')\n",
                "x + y + x"
            ]
        },
        {
            "cell_type": "code",
            "execution_count": 90,
            "metadata": {},
            "outputs": [
                {
                    "data": {
                        "text/plain": "{1, 4, 27}"
                    },
                    "execution_count": 90,
                    "metadata": {},
                    "output_type": "execute_result"
                }
            ],
            "source": [
                "{x ** x for x in range(1, 4)}"
            ]
        },
        {
            "cell_type": "code",
            "execution_count": 89,
            "metadata": {},
            "outputs": [
                {
                    "data": {
                        "text/plain": "{1: 6, 0: 4}"
                    },
                    "execution_count": 89,
                    "metadata": {},
                    "output_type": "execute_result"
                }
            ],
            "source": [
                "{x % 2: x * 2 for x in range(1, 4)}"
            ]
        },
        {
            "cell_type": "code",
            "execution_count": 92,
            "metadata": {},
            "outputs": [
                {
                    "data": {
                        "text/plain": "[3, 4, 5, 6, 7, 8, 9]"
                    },
                    "execution_count": 92,
                    "metadata": {},
                    "output_type": "execute_result"
                }
            ],
            "source": [
                "li = []\n",
                "li.extend(range(3, 10))\n",
                "li"
            ]
        },
        {
            "cell_type": "code",
            "execution_count": 93,
            "metadata": {},
            "outputs": [
                {
                    "data": {
                        "text/plain": "[3, 2, 5, 6]"
                    },
                    "execution_count": 93,
                    "metadata": {},
                    "output_type": "execute_result"
                }
            ],
            "source": [
                "li = [3, 5, 6]\n",
                "li.insert(1, 2)\n",
                "li"
            ]
        },
        {
            "cell_type": "code",
            "execution_count": 94,
            "metadata": {},
            "outputs": [
                {
                    "data": {
                        "text/plain": "[3, 5, 6, 'x', 'y', 'z']"
                    },
                    "execution_count": 94,
                    "metadata": {},
                    "output_type": "execute_result"
                }
            ],
            "source": [
                "li = [3, 5, 6]\n",
                "li += 'xyz'\n",
                "li"
            ]
        },
        {
            "cell_type": "code",
            "execution_count": 95,
            "metadata": {},
            "outputs": [
                {
                    "ename": "TypeError",
                    "evalue": "can only concatenate list (not \"str\") to list",
                    "output_type": "error",
                    "traceback": [
                        "\u001b[0;31m---------------------------------------------------------------------------\u001b[0m",
                        "\u001b[0;31mTypeError\u001b[0m                                 Traceback (most recent call last)",
                        "Cell \u001b[0;32mIn[1], line 2\u001b[0m\n\u001b[1;32m      1\u001b[0m li \u001b[38;5;241m=\u001b[39m [\u001b[38;5;241m3\u001b[39m, \u001b[38;5;241m5\u001b[39m, \u001b[38;5;241m6\u001b[39m]\n\u001b[0;32m----\u003e 2\u001b[0m li \u001b[38;5;241m=\u001b[39m \u001b[43mli\u001b[49m\u001b[43m \u001b[49m\u001b[38;5;241;43m+\u001b[39;49m\u001b[43m \u001b[49m\u001b[38;5;124;43m'\u001b[39;49m\u001b[38;5;124;43mxyz\u001b[39;49m\u001b[38;5;124;43m'\u001b[39;49m\n\u001b[1;32m      3\u001b[0m li\n",
                        "\u001b[0;31mTypeError\u001b[0m: can only concatenate list (not \"str\") to list"
                    ]
                }
            ],
            "source": [
                "li = [3, 5, 6]\n",
                "li = li + 'xyz'\n",
                "li"
            ]
        },
        {
            "cell_type": "code",
            "execution_count": 96,
            "metadata": {},
            "outputs": [
                {
                    "data": {
                        "text/plain": "(3, 5, 6, 7)"
                    },
                    "execution_count": 96,
                    "metadata": {},
                    "output_type": "execute_result"
                }
            ],
            "source": [
                "li = (3, 5, 6)\n",
                "li += 7,\n",
                "li"
            ]
        },
        {
            "cell_type": "code",
            "execution_count": 97,
            "metadata": {},
            "outputs": [
                {
                    "ename": "TypeError",
                    "evalue": "can only concatenate tuple (not \"int\") to tuple",
                    "output_type": "error",
                    "traceback": [
                        "\u001b[0;31m---------------------------------------------------------------------------\u001b[0m",
                        "\u001b[0;31mTypeError\u001b[0m                                 Traceback (most recent call last)",
                        "Cell \u001b[0;32mIn[1], line 2\u001b[0m\n\u001b[1;32m      1\u001b[0m li \u001b[38;5;241m=\u001b[39m (\u001b[38;5;241m3\u001b[39m, \u001b[38;5;241m5\u001b[39m, \u001b[38;5;241m6\u001b[39m)\n\u001b[0;32m----\u003e 2\u001b[0m li \u001b[38;5;241m=\u001b[39m \u001b[43mli\u001b[49m\u001b[43m \u001b[49m\u001b[38;5;241;43m+\u001b[39;49m\u001b[43m \u001b[49m\u001b[38;5;241;43m7\u001b[39;49m,\n\u001b[1;32m      3\u001b[0m li\n",
                        "\u001b[0;31mTypeError\u001b[0m: can only concatenate tuple (not \"int\") to tuple"
                    ]
                }
            ],
            "source": [
                "li = (3, 5, 6)\n",
                "li = li + 7,\n",
                "li"
            ]
        },
        {
            "cell_type": "code",
            "execution_count": 98,
            "metadata": {},
            "outputs": [
                {
                    "data": {
                        "text/plain": "(3, 5, 6, 7)"
                    },
                    "execution_count": 98,
                    "metadata": {},
                    "output_type": "execute_result"
                }
            ],
            "source": [
                "li = (3, 5, 6)\n",
                "li = li + (7,)\n",
                "li"
            ]
        },
        {
            "cell_type": "code",
            "execution_count": 102,
            "metadata": {},
            "outputs": [
                {
                    "ename": "TypeError",
                    "evalue": "can only concatenate tuple (not \"str\") to tuple",
                    "output_type": "error",
                    "traceback": [
                        "\u001b[0;31m---------------------------------------------------------------------------\u001b[0m",
                        "\u001b[0;31mTypeError\u001b[0m                                 Traceback (most recent call last)",
                        "Cell \u001b[0;32mIn[1], line 2\u001b[0m\n\u001b[1;32m      1\u001b[0m li \u001b[38;5;241m=\u001b[39m (\u001b[38;5;241m3\u001b[39m, \u001b[38;5;241m5\u001b[39m, \u001b[38;5;241m6\u001b[39m)\n\u001b[0;32m----\u003e 2\u001b[0m \u001b[43mli\u001b[49m\u001b[43m \u001b[49m\u001b[38;5;241;43m+\u001b[39;49m\u001b[38;5;241;43m=\u001b[39;49m\u001b[43m \u001b[49m\u001b[38;5;124;43m'\u001b[39;49m\u001b[38;5;124;43mxy\u001b[39;49m\u001b[38;5;124;43m'\u001b[39;49m\n\u001b[1;32m      3\u001b[0m li\n",
                        "\u001b[0;31mTypeError\u001b[0m: can only concatenate tuple (not \"str\") to tuple"
                    ]
                }
            ],
            "source": [
                "li = (3, 5, 6)\n",
                "li += 'xy'\n",
                "li"
            ]
        },
        {
            "cell_type": "code",
            "execution_count": 103,
            "metadata": {},
            "outputs": [
                {
                    "data": {
                        "text/plain": "'(3, 5, 3, 5)'"
                    },
                    "execution_count": 103,
                    "metadata": {},
                    "output_type": "execute_result"
                }
            ],
            "source": [
                "li = str((3, 5) * 2)\n",
                "li"
            ]
        },
        {
            "cell_type": "code",
            "execution_count": 104,
            "metadata": {},
            "outputs": [
                {
                    "data": {
                        "text/plain": "'(3, 5)(3, 5)'"
                    },
                    "execution_count": 104,
                    "metadata": {},
                    "output_type": "execute_result"
                }
            ],
            "source": [
                "str((3, 5)) * 2"
            ]
        },
        {
            "cell_type": "code",
            "execution_count": 105,
            "metadata": {},
            "outputs": [
                {
                    "data": {
                        "text/plain": "[4, [3, 6], 5]"
                    },
                    "execution_count": 105,
                    "metadata": {},
                    "output_type": "execute_result"
                }
            ],
            "source": [
                "a = [3]\n",
                "b = [4, a, 5]\n",
                "a.append(6)\n",
                "b"
            ]
        },
        {
            "cell_type": "code",
            "execution_count": 106,
            "metadata": {},
            "outputs": [
                {
                    "data": {
                        "text/plain": "[4, [3], 5]"
                    },
                    "execution_count": 106,
                    "metadata": {},
                    "output_type": "execute_result"
                }
            ],
            "source": [
                "a = [3]\n",
                "b = [4, a, 5]\n",
                "a = [3, 6]\n",
                "b"
            ]
        },
        {
            "cell_type": "code",
            "execution_count": 37,
            "metadata": {},
            "outputs": [
                {
                    "data": {
                        "text/plain": "[4, 3, 5]"
                    },
                    "execution_count": 37,
                    "metadata": {},
                    "output_type": "execute_result"
                }
            ],
            "source": [
                "a = [3]\n",
                "b = [4, *a, 5]\n",
                "a.append(6)\n",
                "b"
            ]
        },
        {
            "cell_type": "code",
            "execution_count": 107,
            "metadata": {},
            "outputs": [
                {
                    "data": {
                        "text/plain": "[4, [3], 5]"
                    },
                    "execution_count": 107,
                    "metadata": {},
                    "output_type": "execute_result"
                }
            ],
            "source": [
                "a = [3]\n",
                "b = [4, a, 5]\n",
                "a = a + [6]\n",
                "b"
            ]
        },
        {
            "cell_type": "code",
            "execution_count": 109,
            "metadata": {},
            "outputs": [
                {
                    "data": {
                        "text/plain": "[3, 6, 6]"
                    },
                    "execution_count": 109,
                    "metadata": {},
                    "output_type": "execute_result"
                }
            ],
            "source": [
                "a = [3, 6]\n",
                "a.append(a) \n",
                "a[2].append(a[1])\n",
                "del a[2]\n",
                "a"
            ]
        },
        {
            "cell_type": "code",
            "execution_count": 110,
            "metadata": {},
            "outputs": [
                {
                    "data": {
                        "text/plain": "[3, 6, [...], 6]"
                    },
                    "execution_count": 110,
                    "metadata": {},
                    "output_type": "execute_result"
                }
            ],
            "source": [
                "a = [3, 6]\n",
                "a.append(a) \n",
                "a[2].append(a[1])\n",
                "a\n",
                "# out-sy"
            ]
        },
        {
            "cell_type": "code",
            "execution_count": 111,
            "metadata": {},
            "outputs": [
                {
                    "data": {
                        "text/plain": "[3, 4, 7]"
                    },
                    "execution_count": 111,
                    "metadata": {},
                    "output_type": "execute_result"
                }
            ],
            "source": [
                "a = [3, 6]\n",
                "b = [4, 7]\n",
                "a[1:] = b\n",
                "a"
            ]
        },
        {
            "cell_type": "code",
            "execution_count": 112,
            "metadata": {},
            "outputs": [
                {
                    "data": {
                        "text/plain": "[3, [4, 7]]"
                    },
                    "execution_count": 112,
                    "metadata": {},
                    "output_type": "execute_result"
                }
            ],
            "source": [
                "a = [3, 6]\n",
                "b = [4, 7]\n",
                "a[1] = b\n",
                "a"
            ]
        },
        {
            "cell_type": "code",
            "execution_count": 113,
            "metadata": {},
            "outputs": [
                {
                    "data": {
                        "text/plain": "[3, 3, 6, 9]"
                    },
                    "execution_count": 113,
                    "metadata": {},
                    "output_type": "execute_result"
                }
            ],
            "source": [
                "a = [3, 6, 9]\n",
                "a[1:] = a\n",
                "a"
            ]
        },
        {
            "cell_type": "code",
            "execution_count": 116,
            "metadata": {},
            "outputs": [
                {
                    "data": {
                        "text/plain": "[3, 4, 9, 12, 7]"
                    },
                    "execution_count": 116,
                    "metadata": {},
                    "output_type": "execute_result"
                }
            ],
            "source": [
                "a = [3, 6, 9, 12, 15]\n",
                "b = [4, 7]\n",
                "a[1::3] = b\n",
                "a"
            ]
        },
        {
            "cell_type": "code",
            "execution_count": 117,
            "metadata": {},
            "outputs": [
                {
                    "data": {
                        "text/plain": "14"
                    },
                    "execution_count": 117,
                    "metadata": {},
                    "output_type": "execute_result"
                }
            ],
            "source": [
                "def d(e, f):\n",
                "    e = f\n",
                "    return e + f\n",
                "\n",
                "d(2, 7)"
            ]
        },
        {
            "cell_type": "code",
            "execution_count": 118,
            "metadata": {},
            "outputs": [
                {
                    "name": "stdout",
                    "output_type": "stream",
                    "text": "3\n"
                }
            ],
            "source": [
                "e = 3\n",
                "\n",
                "def d(e, f):\n",
                "    e = 5\n",
                "    return f\n",
                "\n",
                "d(e, 7)\n",
                "print(e)"
            ]
        },
        {
            "cell_type": "code",
            "execution_count": 121,
            "metadata": {},
            "outputs": [
                {
                    "name": "stdout",
                    "output_type": "stream",
                    "text": "5\n"
                }
            ],
            "source": [
                "e = 3\n",
                "\n",
                "def d(e, f):\n",
                "    e = 5\n",
                "    return e\n",
                "\n",
                "e = d(7, e)\n",
                "print(e)"
            ]
        },
        {
            "cell_type": "code",
            "execution_count": 123,
            "metadata": {},
            "outputs": [
                {
                    "data": {
                        "text/plain": "[2]"
                    },
                    "execution_count": 123,
                    "metadata": {},
                    "output_type": "execute_result"
                }
            ],
            "source": [
                "e = []\n",
                "\n",
                "def d(f, g):\n",
                "    e.append(f)\n",
                "    return g\n",
                "\n",
                "e += d(2, e)\n",
                "e"
            ]
        },
        {
            "cell_type": "code",
            "execution_count": 124,
            "metadata": {},
            "outputs": [
                {
                    "name": "stdout",
                    "output_type": "stream",
                    "text": "Help on class str in module builtins:\n\nclass str(object)\n |  str(object='') -\u003e str\n |  str(bytes_or_buffer[, encoding[, errors]]) -\u003e str\n |\n |  Create a new string object from the given object. If encoding or\n |  errors is specified, then the object must expose a data buffer\n |  that will be decoded using the given encoding and error handler.\n |  Otherwise, returns the result of object.__str__() (if defined)\n |  or repr(object).\n |  encoding defaults to sys.getdefaultencoding().\n |  errors defaults to 'strict'.\n |\n |  Methods defined here:\n |\n |  __add__(self, value, /)\n |      Return self+value.\n |\n |  __contains__(self, key, /)\n |      Return bool(key in self).\n |\n |  __eq__(self, value, /)\n |      Return self==value.\n |\n |  __format__(self, format_spec, /)\n |      Return a formatted version of the string as described by format_spec.\n |\n |  __ge__(self, value, /)\n |      Return self\u003e=value.\n |\n |  __getitem__(self, key, /)\n |      Return self[key].\n |\n |  __getnewargs__(...)\n |\n |  __gt__(self, value, /)\n |      Return self\u003evalue.\n |\n |  __hash__(self, /)\n |      Return hash(self).\n |\n |  __iter__(self, /)\n |      Implement iter(self).\n |\n |  __le__(self, value, /)\n |      Return self\u003c=value.\n |\n |  __len__(self, /)\n |      Return len(self).\n |\n |  __lt__(self, value, /)\n |      Return self\u003cvalue.\n |\n |  __mod__(self, value, /)\n |      Return self%value.\n |\n |  __mul__(self, value, /)\n |      Return self*value.\n |\n |  __ne__(self, value, /)\n |      Return self!=value.\n |\n |  __repr__(self, /)\n |      Return repr(self).\n |\n |  __rmod__(self, value, /)\n |      Return value%self.\n |\n |  __rmul__(self, value, /)\n |      Return value*self.\n |\n |  __sizeof__(self, /)\n |      Return the size of the string in memory, in bytes.\n |\n |  __str__(self, /)\n |      Return str(self).\n |\n |  capitalize(self, /)\n |      Return a capitalized version of the string.\n |\n |      More specifically, make the first character have upper case and the rest lower\n |      case.\n |\n |  casefold(self, /)\n |      Return a version of the string suitable for caseless comparisons.\n |\n |  center(self, width, fillchar=' ', /)\n |      Return a centered string of length width.\n |\n |      Padding is done using the specified fill character (default is a space).\n |\n |  count(...)\n |      S.count(sub[, start[, end]]) -\u003e int\n |\n |      Return the number of non-overlapping occurrences of substring sub in\n |      string S[start:end].  Optional arguments start and end are\n |      interpreted as in slice notation.\n |\n |  encode(self, /, encoding='utf-8', errors='strict')\n |      Encode the string using the codec registered for encoding.\n |\n |      encoding\n |        The encoding in which to encode the string.\n |      errors\n |        The error handling scheme to use for encoding errors.\n |        The default is 'strict' meaning that encoding errors raise a\n |        UnicodeEncodeError.  Other possible values are 'ignore', 'replace' and\n |        'xmlcharrefreplace' as well as any other name registered with\n |        codecs.register_error that can handle UnicodeEncodeErrors.\n |\n |  endswith(...)\n |      S.endswith(suffix[, start[, end]]) -\u003e bool\n |\n |      Return True if S ends with the specified suffix, False otherwise.\n |      With optional start, test S beginning at that position.\n |      With optional end, stop comparing S at that position.\n |      suffix can also be a tuple of strings to try.\n |\n |  expandtabs(self, /, tabsize=8)\n |      Return a copy where all tab characters are expanded using spaces.\n |\n |      If tabsize is not given, a tab size of 8 characters is assumed.\n |\n |  find(...)\n |      S.find(sub[, start[, end]]) -\u003e int\n |\n |      Return the lowest index in S where substring sub is found,\n |      such that sub is contained within S[start:end].  Optional\n |      arguments start and end are interpreted as in slice notation.\n |\n |      Return -1 on failure.\n |\n |  format(...)\n |      S.format(*args, **kwargs) -\u003e str\n |\n |      Return a formatted version of S, using substitutions from args and kwargs.\n |      The substitutions are identified by braces ('{' and '}').\n |\n |  format_map(...)\n |      S.format_map(mapping) -\u003e str\n |\n |      Return a formatted version of S, using substitutions from mapping.\n |      The substitutions are identified by braces ('{' and '}').\n |\n |  index(...)\n |      S.index(sub[, start[, end]]) -\u003e int\n |\n |      Return the lowest index in S where substring sub is found,\n |      such that sub is contained within S[start:end].  Optional\n |      arguments start and end are interpreted as in slice notation.\n |\n |      Raises ValueError when the substring is not found.\n |\n |  isalnum(self, /)\n |      Return True if the string is an alpha-numeric string, False otherwise.\n |\n |      A string is alpha-numeric if all characters in the string are alpha-numeric and\n |      there is at least one character in the string.\n |\n |  isalpha(self, /)\n |      Return True if the string is an alphabetic string, False otherwise.\n |\n |      A string is alphabetic if all characters in the string are alphabetic and there\n |      is at least one character in the string.\n |\n |  isascii(self, /)\n |      Return True if all characters in the string are ASCII, False otherwise.\n |\n |      ASCII characters have code points in the range U+0000-U+007F.\n |      Empty string is ASCII too.\n |\n |  isdecimal(self, /)\n |      Return True if the string is a decimal string, False otherwise.\n |\n |      A string is a decimal string if all characters in the string are decimal and\n |      there is at least one character in the string.\n |\n |  isdigit(self, /)\n |      Return True if the string is a digit string, False otherwise.\n |\n |      A string is a digit string if all characters in the string are digits and there\n |      is at least one character in the string.\n |\n |  isidentifier(self, /)\n |      Return True if the string is a valid Python identifier, False otherwise.\n |\n |      Call keyword.iskeyword(s) to test whether string s is a reserved identifier,\n |      such as \"def\" or \"class\".\n |\n |  islower(self, /)\n |      Return True if the string is a lowercase string, False otherwise.\n |\n |      A string is lowercase if all cased characters in the string are lowercase and\n |      there is at least one cased character in the string.\n |\n |  isnumeric(self, /)\n |      Return True if the string is a numeric string, False otherwise.\n |\n |      A string is numeric if all characters in the string are numeric and there is at\n |      least one character in the string.\n |\n |  isprintable(self, /)\n |      Return True if the string is printable, False otherwise.\n |\n |      A string is printable if all of its characters are considered printable in\n |      repr() or if it is empty.\n |\n |  isspace(self, /)\n |      Return True if the string is a whitespace string, False otherwise.\n |\n |      A string is whitespace if all characters in the string are whitespace and there\n |      is at least one character in the string.\n |\n |  istitle(self, /)\n |      Return True if the string is a title-cased string, False otherwise.\n |\n |      In a title-cased string, upper- and title-case characters may only\n |      follow uncased characters and lowercase characters only cased ones.\n |\n |  isupper(self, /)\n |      Return True if the string is an uppercase string, False otherwise.\n |\n |      A string is uppercase if all cased characters in the string are uppercase and\n |      there is at least one cased character in the string.\n |\n |  join(self, iterable, /)\n |      Concatenate any number of strings.\n |\n |      The string whose method is called is inserted in between each given string.\n |      The result is returned as a new string.\n |\n |      Example: '.'.join(['ab', 'pq', 'rs']) -\u003e 'ab.pq.rs'\n |\n |  ljust(self, width, fillchar=' ', /)\n |      Return a left-justified string of length width.\n |\n |      Padding is done using the specified fill character (default is a space).\n |\n |  lower(self, /)\n |      Return a copy of the string converted to lowercase.\n |\n |  lstrip(self, chars=None, /)\n |      Return a copy of the string with leading whitespace removed.\n |\n |      If chars is given and not None, remove characters in chars instead.\n |\n |  partition(self, sep, /)\n |      Partition the string into three parts using the given separator.\n |\n |      This will search for the separator in the string.  If the separator is found,\n |      returns a 3-tuple containing the part before the separator, the separator\n |      itself, and the part after it.\n |\n |      If the separator is not found, returns a 3-tuple containing the original string\n |      and two empty strings.\n |\n |  removeprefix(self, prefix, /)\n |      Return a str with the given prefix string removed if present.\n |\n |      If the string starts with the prefix string, return string[len(prefix):].\n |      Otherwise, return a copy of the original string.\n |\n |  removesuffix(self, suffix, /)\n |      Return a str with the given suffix string removed if present.\n |\n |      If the string ends with the suffix string and that suffix is not empty,\n |      return string[:-len(suffix)]. Otherwise, return a copy of the original\n |      string.\n |\n |  replace(self, old, new, count=-1, /)\n |      Return a copy with all occurrences of substring old replaced by new.\n |\n |        count\n |          Maximum number of occurrences to replace.\n |          -1 (the default value) means replace all occurrences.\n |\n |      If the optional argument count is given, only the first count occurrences are\n |      replaced.\n |\n |  rfind(...)\n |      S.rfind(sub[, start[, end]]) -\u003e int\n |\n |      Return the highest index in S where substring sub is found,\n |      such that sub is contained within S[start:end].  Optional\n |      arguments start and end are interpreted as in slice notation.\n |\n |      Return -1 on failure.\n |\n |  rindex(...)\n |      S.rindex(sub[, start[, end]]) -\u003e int\n |\n |      Return the highest index in S where substring sub is found,\n |      such that sub is contained within S[start:end].  Optional\n |      arguments start and end are interpreted as in slice notation.\n |\n |      Raises ValueError when the substring is not found.\n |\n |  rjust(self, width, fillchar=' ', /)\n |      Return a right-justified string of length width.\n |\n |      Padding is done using the specified fill character (default is a space).\n |\n |  rpartition(self, sep, /)\n |      Partition the string into three parts using the given separator.\n |\n |      This will search for the separator in the string, starting at the end. If\n |      the separator is found, returns a 3-tuple containing the part before the\n |      separator, the separator itself, and the part after it.\n |\n |      If the separator is not found, returns a 3-tuple containing two empty strings\n |      and the original string.\n |\n |  rsplit(self, /, sep=None, maxsplit=-1)\n |      Return a list of the substrings in the string, using sep as the separator string.\n |\n |        sep\n |          The separator used to split the string.\n |\n |          When set to None (the default value), will split on any whitespace\n |          character (including \\n \\r \\t \\f and spaces) and will discard\n |          empty strings from the result.\n |        maxsplit\n |          Maximum number of splits.\n |          -1 (the default value) means no limit.\n |\n |      Splitting starts at the end of the string and works to the front.\n |\n |  rstrip(self, chars=None, /)\n |      Return a copy of the string with trailing whitespace removed.\n |\n |      If chars is given and not None, remove characters in chars instead.\n |\n |  split(self, /, sep=None, maxsplit=-1)\n |      Return a list of the substrings in the string, using sep as the separator string.\n |\n |        sep\n |          The separator used to split the string.\n |\n |          When set to None (the default value), will split on any whitespace\n |          character (including \\n \\r \\t \\f and spaces) and will discard\n |          empty strings from the result.\n |        maxsplit\n |          Maximum number of splits.\n |          -1 (the default value) means no limit.\n |\n |      Splitting starts at the front of the string and works to the end.\n |\n |      Note, str.split() is mainly useful for data that has been intentionally\n |      delimited.  With natural text that includes punctuation, consider using\n |      the regular expression module.\n |\n |  splitlines(self, /, keepends=False)\n |      Return a list of the lines in the string, breaking at line boundaries.\n |\n |      Line breaks are not included in the resulting list unless keepends is given and\n |      true.\n |\n |  startswith(...)\n |      S.startswith(prefix[, start[, end]]) -\u003e bool\n |\n |      Return True if S starts with the specified prefix, False otherwise.\n |      With optional start, test S beginning at that position.\n |      With optional end, stop comparing S at that position.\n |      prefix can also be a tuple of strings to try.\n |\n |  strip(self, chars=None, /)\n |      Return a copy of the string with leading and trailing whitespace removed.\n |\n |      If chars is given and not None, remove characters in chars instead.\n |\n |  swapcase(self, /)\n |      Convert uppercase characters to lowercase and lowercase characters to uppercase.\n |\n |  title(self, /)\n |      Return a version of the string where each word is titlecased.\n |\n |      More specifically, words start with uppercased characters and all remaining\n |      cased characters have lower case.\n |\n |  translate(self, table, /)\n |      Replace each character in the string using the given translation table.\n |\n |        table\n |          Translation table, which must be a mapping of Unicode ordinals to\n |          Unicode ordinals, strings, or None.\n |\n |      The table must implement lookup/indexing via __getitem__, for instance a\n |      dictionary or list.  If this operation raises LookupError, the character is\n |      left untouched.  Characters mapped to None are deleted.\n |\n |  upper(self, /)\n |      Return a copy of the string converted to uppercase.\n |\n |  zfill(self, width, /)\n |      Pad a numeric string with zeros on the left, to fill a field of the given width.\n |\n |      The string is never truncated.\n |\n |  ----------------------------------------------------------------------\n |  Static methods defined here:\n |\n |  __new__(*args, **kwargs)\n |      Create and return a new object.  See help(type) for accurate signature.\n |\n |  maketrans(...)\n |      Return a translation table usable for str.translate().\n |\n |      If there is only one argument, it must be a dictionary mapping Unicode\n |      ordinals (integers) or characters to Unicode ordinals, strings or None.\n |      Character keys will be then converted to ordinals.\n |      If there are two arguments, they must be strings of equal length, and\n |      in the resulting dictionary, each character in x will be mapped to the\n |      character at the same position in y. If there is a third argument, it\n |      must be a string, whose characters will be mapped to None in the result.\n\n"
                }
            ],
            "source": [
                "help(str)"
            ]
        },
        {
            "cell_type": "code",
            "execution_count": 125,
            "metadata": {},
            "outputs": [
                {
                    "data": {
                        "text/plain": "2"
                    },
                    "execution_count": 125,
                    "metadata": {},
                    "output_type": "execute_result"
                }
            ],
            "source": [
                "'ababab'.count('ba')"
            ]
        },
        {
            "cell_type": "code",
            "execution_count": 126,
            "metadata": {},
            "outputs": [
                {
                    "data": {
                        "text/plain": "1"
                    },
                    "execution_count": 126,
                    "metadata": {},
                    "output_type": "execute_result"
                }
            ],
            "source": [
                "'ababab'.count('abab')"
            ]
        },
        {
            "cell_type": "code",
            "execution_count": 127,
            "metadata": {},
            "outputs": [
                {
                    "data": {
                        "text/plain": "'Ababab dedede'"
                    },
                    "execution_count": 127,
                    "metadata": {},
                    "output_type": "execute_result"
                }
            ],
            "source": [
                "'ababab dedede'.capitalize()"
            ]
        },
        {
            "cell_type": "code",
            "execution_count": 130,
            "metadata": {},
            "outputs": [
                {
                    "data": {
                        "text/plain": "' cadc'"
                    },
                    "execution_count": 130,
                    "metadata": {},
                    "output_type": "execute_result"
                }
            ],
            "source": [
                "'aba cadcbaba'.strip('ab')"
            ]
        },
        {
            "cell_type": "code",
            "execution_count": 132,
            "metadata": {},
            "outputs": [
                {
                    "data": {
                        "text/plain": "7"
                    },
                    "execution_count": 132,
                    "metadata": {},
                    "output_type": "execute_result"
                }
            ],
            "source": [
                "'abcdefaba'.find('ba')"
            ]
        },
        {
            "cell_type": "code",
            "execution_count": 133,
            "metadata": {},
            "outputs": [
                {
                    "data": {
                        "text/plain": "5"
                    },
                    "execution_count": 133,
                    "metadata": {},
                    "output_type": "execute_result"
                }
            ],
            "source": [
                "len('abcccca'.split('c'))"
            ]
        },
        {
            "cell_type": "code",
            "execution_count": 137,
            "metadata": {},
            "outputs": [
                {
                    "data": {
                        "text/plain": "['', 'c']"
                    },
                    "execution_count": 137,
                    "metadata": {},
                    "output_type": "execute_result"
                }
            ],
            "source": [
                "'cccc'.split('ccc')"
            ]
        },
        {
            "cell_type": "code",
            "execution_count": 138,
            "metadata": {},
            "outputs": [
                {
                    "data": {
                        "text/plain": "'0.100'"
                    },
                    "execution_count": 138,
                    "metadata": {},
                    "output_type": "execute_result"
                }
            ],
            "source": [
                "f'{0.1:.3f}'"
            ]
        },
        {
            "cell_type": "code",
            "execution_count": 139,
            "metadata": {},
            "outputs": [
                {
                    "data": {
                        "text/plain": "'0.020'"
                    },
                    "execution_count": 139,
                    "metadata": {},
                    "output_type": "execute_result"
                }
            ],
            "source": [
                "f'{0.02:.3f}'"
            ]
        },
        {
            "cell_type": "code",
            "execution_count": 140,
            "metadata": {},
            "outputs": [
                {
                    "data": {
                        "text/plain": "'aaaaaa0.37'"
                    },
                    "execution_count": 140,
                    "metadata": {},
                    "output_type": "execute_result"
                }
            ],
            "source": [
                "f'{0.37:a\u003e10}'"
            ]
        },
        {
            "cell_type": "code",
            "execution_count": 141,
            "metadata": {},
            "outputs": [
                {
                    "data": {
                        "text/plain": "'2yzyzyz'"
                    },
                    "execution_count": 141,
                    "metadata": {},
                    "output_type": "execute_result"
                }
            ],
            "source": [
                "x = 2\n",
                "y = 'yz'\n",
                "f'{x}{y}{y*x}'"
            ]
        },
        {
            "cell_type": "code",
            "execution_count": 142,
            "metadata": {},
            "outputs": [
                {
                    "name": "stdout",
                    "output_type": "stream",
                    "text": "Help on built-in module builtins:\n\nNAME\n    builtins - Built-in functions, types, exceptions, and other objects.\n\nDESCRIPTION\n    This module provides direct access to all 'built-in'\n    identifiers of Python; for example, builtins.len is\n    the full name for the built-in function len().\n\n    This module is not normally accessed explicitly by most\n    applications, but can be useful in modules that provide\n    objects with the same name as a built-in value, but in\n    which the built-in of that name is also needed.\n\nCLASSES\n    object\n        BaseException\n            BaseExceptionGroup\n                ExceptionGroup(BaseExceptionGroup, Exception)\n            Exception\n                ArithmeticError\n                    FloatingPointError\n                    OverflowError\n                    ZeroDivisionError\n                AssertionError\n                AttributeError\n                BufferError\n                EOFError\n                ImportError\n                    ModuleNotFoundError\n                LookupError\n                    IndexError\n                    KeyError\n                MemoryError\n                NameError\n                    UnboundLocalError\n                OSError\n                    BlockingIOError\n                    ChildProcessError\n                    ConnectionError\n                        BrokenPipeError\n                        ConnectionAbortedError\n                        ConnectionRefusedError\n                        ConnectionResetError\n                    FileExistsError\n                    FileNotFoundError\n                    InterruptedError\n                    IsADirectoryError\n                    NotADirectoryError\n                    PermissionError\n                    ProcessLookupError\n                    TimeoutError\n                ReferenceError\n                RuntimeError\n                    NotImplementedError\n                    RecursionError\n                StopAsyncIteration\n                StopIteration\n                SyntaxError\n                    IndentationError\n                        TabError\n                SystemError\n                TypeError\n                ValueError\n                    UnicodeError\n                        UnicodeDecodeError\n                        UnicodeEncodeError\n                        UnicodeTranslateError\n                Warning\n                    BytesWarning\n                    DeprecationWarning\n                    EncodingWarning\n                    FutureWarning\n                    ImportWarning\n                    PendingDeprecationWarning\n                    ResourceWarning\n                    RuntimeWarning\n                    SyntaxWarning\n                    UnicodeWarning\n                    UserWarning\n            GeneratorExit\n            KeyboardInterrupt\n            SystemExit\n        bytearray\n        bytes\n        classmethod\n        complex\n        dict\n        enumerate\n        filter\n        float\n        frozenset\n        int\n            bool\n        list\n        map\n        memoryview\n        property\n        range\n        reversed\n        set\n        slice\n        staticmethod\n        str\n        super\n        tuple\n        type\n        zip\n\n    class ArithmeticError(Exception)\n     |  Base class for arithmetic errors.\n     |\n     |  Method resolution order:\n     |      ArithmeticError\n     |      Exception\n     |      BaseException\n     |      object\n     |\n     |  Built-in subclasses:\n     |      FloatingPointError\n     |      OverflowError\n     |      ZeroDivisionError\n     |\n     |  Methods defined here:\n     |\n     |  __init__(self, /, *args, **kwargs)\n     |      Initialize self.  See help(type(self)) for accurate signature.\n     |\n     |  ----------------------------------------------------------------------\n     |  Static methods defined here:\n     |\n     |  __new__(*args, **kwargs)\n     |      Create and return a new object.  See help(type) for accurate signature.\n     |\n     |  ----------------------------------------------------------------------\n     |  Methods inherited from BaseException:\n     |\n     |  __getattribute__(self, name, /)\n     |      Return getattr(self, name).\n     |\n     |  __reduce__(...)\n     |      Helper for pickle.\n     |\n     |  __repr__(self, /)\n     |      Return repr(self).\n     |\n     |  __setstate__(...)\n     |\n     |  __str__(self, /)\n     |      Return str(self).\n     |\n     |  add_note(...)\n     |      Exception.add_note(note) --\n     |      add a note to the exception\n     |\n     |  with_traceback(...)\n     |      Exception.with_traceback(tb) --\n     |      set self.__traceback__ to tb and return self.\n     |\n     |  ----------------------------------------------------------------------\n     |  Data descriptors inherited from BaseException:\n     |\n     |  __cause__\n     |      exception cause\n     |\n     |  __context__\n     |      exception context\n     |\n     |  __dict__\n     |\n     |  __suppress_context__\n     |\n     |  __traceback__\n     |\n     |  args\n\n    class AssertionError(Exception)\n     |  Assertion failed.\n     |\n     |  Method resolution order:\n     |      AssertionError\n     |      Exception\n     |      BaseException\n     |      object\n     |\n     |  Methods defined here:\n     |\n     |  __init__(self, /, *args, **kwargs)\n     |      Initialize self.  See help(type(self)) for accurate signature.\n     |\n     |  ----------------------------------------------------------------------\n     |  Static methods defined here:\n     |\n     |  __new__(*args, **kwargs)\n     |      Create and return a new object.  See help(type) for accurate signature.\n     |\n     |  ----------------------------------------------------------------------\n     |  Methods inherited from BaseException:\n     |\n     |  __getattribute__(self, name, /)\n     |      Return getattr(self, name).\n     |\n     |  __reduce__(...)\n     |      Helper for pickle.\n     |\n     |  __repr__(self, /)\n     |      Return repr(self).\n     |\n     |  __setstate__(...)\n     |\n     |  __str__(self, /)\n     |      Return str(self).\n     |\n     |  add_note(...)\n     |      Exception.add_note(note) --\n     |      add a note to the exception\n     |\n     |  with_traceback(...)\n     |      Exception.with_traceback(tb) --\n     |      set self.__traceback__ to tb and return self.\n     |\n     |  ----------------------------------------------------------------------\n     |  Data descriptors inherited from BaseException:\n     |\n     |  __cause__\n     |      exception cause\n     |\n     |  __context__\n     |      exception context\n     |\n     |  __dict__\n     |\n     |  __suppress_context__\n     |\n     |  __traceback__\n     |\n     |  args\n\n    class AttributeError(Exception)\n     |  Attribute not found.\n     |\n     |  Method resolution order:\n     |      AttributeError\n     |      Exception\n     |      BaseException\n     |      object\n     |\n     |  Methods defined here:\n     |\n     |  __getstate__(...)\n     |      Helper for pickle.\n     |\n     |  __init__(self, /, *args, **kwargs)\n     |      Initialize self.  See help(type(self)) for accurate signature.\n     |\n     |  __reduce__(...)\n     |      Helper for pickle.\n     |\n     |  __str__(self, /)\n     |      Return str(self).\n     |\n     |  ----------------------------------------------------------------------\n     |  Data descriptors defined here:\n     |\n     |  name\n     |      attribute name\n     |\n     |  obj\n     |      object\n     |\n     |  ----------------------------------------------------------------------\n     |  Static methods inherited from Exception:\n     |\n     |  __new__(*args, **kwargs) class method of Exception\n     |      Create and return a new object.  See help(type) for accurate signature.\n     |\n     |  ----------------------------------------------------------------------\n     |  Methods inherited from BaseException:\n     |\n     |  __getattribute__(self, name, /)\n     |      Return getattr(self, name).\n     |\n     |  __repr__(self, /)\n     |      Return repr(self).\n     |\n     |  __setstate__(...)\n     |\n     |  add_note(...)\n     |      Exception.add_note(note) --\n     |      add a note to the exception\n     |\n     |  with_traceback(...)\n     |      Exception.with_traceback(tb) --\n     |      set self.__traceback__ to tb and return self.\n     |\n     |  ----------------------------------------------------------------------\n     |  Data descriptors inherited from BaseException:\n     |\n     |  __cause__\n     |      exception cause\n     |\n     |  __context__\n     |      exception context\n     |\n     |  __dict__\n     |\n     |  __suppress_context__\n     |\n     |  __traceback__\n     |\n     |  args\n\n    class BaseException(object)\n     |  Common base class for all exceptions\n     |\n     |  Built-in subclasses:\n     |      BaseExceptionGroup\n     |      Exception\n     |      GeneratorExit\n     |      KeyboardInterrupt\n     |      ... and 1 other subclasses\n     |\n     |  Methods defined here:\n     |\n     |  __getattribute__(self, name, /)\n     |      Return getattr(self, name).\n     |\n     |  __init__(self, /, *args, **kwargs)\n     |      Initialize self.  See help(type(self)) for accurate signature.\n     |\n     |  __reduce__(...)\n     |      Helper for pickle.\n     |\n     |  __repr__(self, /)\n     |      Return repr(self).\n     |\n     |  __setstate__(...)\n     |\n     |  __str__(self, /)\n     |      Return str(self).\n     |\n     |  add_note(...)\n     |      Exception.add_note(note) --\n     |      add a note to the exception\n     |\n     |  with_traceback(...)\n     |      Exception.with_traceback(tb) --\n     |      set self.__traceback__ to tb and return self.\n     |\n     |  ----------------------------------------------------------------------\n     |  Static methods defined here:\n     |\n     |  __new__(*args, **kwargs)\n     |      Create and return a new object.  See help(type) for accurate signature.\n     |\n     |  ----------------------------------------------------------------------\n     |  Data descriptors defined here:\n     |\n     |  __cause__\n     |      exception cause\n     |\n     |  __context__\n     |      exception context\n     |\n     |  __dict__\n     |\n     |  __suppress_context__\n     |\n     |  __traceback__\n     |\n     |  args\n\n    class BaseExceptionGroup(BaseException)\n     |  A combination of multiple unrelated exceptions.\n     |\n     |  Method resolution order:\n     |      BaseExceptionGroup\n     |      BaseException\n     |      object\n     |\n     |  Built-in subclasses:\n     |      ExceptionGroup\n     |\n     |  Methods defined here:\n     |\n     |  __init__(self, /, *args, **kwargs)\n     |      Initialize self.  See help(type(self)) for accurate signature.\n     |\n     |  __str__(self, /)\n     |      Return str(self).\n     |\n     |  derive(...)\n     |\n     |  split(...)\n     |\n     |  subgroup(...)\n     |\n     |  ----------------------------------------------------------------------\n     |  Class methods defined here:\n     |\n     |  __class_getitem__(...)\n     |      See PEP 585\n     |\n     |  ----------------------------------------------------------------------\n     |  Static methods defined here:\n     |\n     |  __new__(*args, **kwargs)\n     |      Create and return a new object.  See help(type) for accurate signature.\n     |\n     |  ----------------------------------------------------------------------\n     |  Data descriptors defined here:\n     |\n     |  exceptions\n     |      nested exceptions\n     |\n     |  message\n     |      exception message\n     |\n     |  ----------------------------------------------------------------------\n     |  Methods inherited from BaseException:\n     |\n     |  __getattribute__(self, name, /)\n     |      Return getattr(self, name).\n     |\n     |  __reduce__(...)\n     |      Helper for pickle.\n     |\n     |  __repr__(self, /)\n     |      Return repr(self).\n     |\n     |  __setstate__(...)\n     |\n     |  add_note(...)\n     |      Exception.add_note(note) --\n     |      add a note to the exception\n     |\n     |  with_traceback(...)\n     |      Exception.with_traceback(tb) --\n     |      set self.__traceback__ to tb and return self.\n     |\n     |  ----------------------------------------------------------------------\n     |  Data descriptors inherited from BaseException:\n     |\n     |  __cause__\n     |      exception cause\n     |\n     |  __context__\n     |      exception context\n     |\n     |  __dict__\n     |\n     |  __suppress_context__\n     |\n     |  __traceback__\n     |\n     |  args\n\n    class BlockingIOError(OSError)\n     |  I/O operation would block.\n     |\n     |  Method resolution order:\n     |      BlockingIOError\n     |      OSError\n     |      Exception\n     |      BaseException\n     |      object\n     |\n     |  Methods defined here:\n     |\n     |  __init__(self, /, *args, **kwargs)\n     |      Initialize self.  See help(type(self)) for accurate signature.\n     |\n     |  ----------------------------------------------------------------------\n     |  Methods inherited from OSError:\n     |\n     |  __reduce__(...)\n     |      Helper for pickle.\n     |\n     |  __str__(self, /)\n     |      Return str(self).\n     |\n     |  ----------------------------------------------------------------------\n     |  Static methods inherited from OSError:\n     |\n     |  __new__(*args, **kwargs) class method of OSError\n     |      Create and return a new object.  See help(type) for accurate signature.\n     |\n     |  ----------------------------------------------------------------------\n     |  Data descriptors inherited from OSError:\n     |\n     |  characters_written\n     |\n     |  errno\n     |      POSIX exception code\n     |\n     |  filename\n     |      exception filename\n     |\n     |  filename2\n     |      second exception filename\n     |\n     |  strerror\n     |      exception strerror\n     |\n     |  ----------------------------------------------------------------------\n     |  Methods inherited from BaseException:\n     |\n     |  __getattribute__(self, name, /)\n     |      Return getattr(self, name).\n     |\n     |  __repr__(self, /)\n     |      Return repr(self).\n     |\n     |  __setstate__(...)\n     |\n     |  add_note(...)\n     |      Exception.add_note(note) --\n     |      add a note to the exception\n     |\n     |  with_traceback(...)\n     |      Exception.with_traceback(tb) --\n     |      set self.__traceback__ to tb and return self.\n     |\n     |  ----------------------------------------------------------------------\n     |  Data descriptors inherited from BaseException:\n     |\n     |  __cause__\n     |      exception cause\n     |\n     |  __context__\n     |      exception context\n     |\n     |  __dict__\n     |\n     |  __suppress_context__\n     |\n     |  __traceback__\n     |\n     |  args\n\n    class BrokenPipeError(ConnectionError)\n     |  Broken pipe.\n     |\n     |  Method resolution order:\n     |      BrokenPipeError\n     |      ConnectionError\n     |      OSError\n     |      Exception\n     |      BaseException\n     |      object\n     |\n     |  Methods defined here:\n     |\n     |  __init__(self, /, *args, **kwargs)\n     |      Initialize self.  See help(type(self)) for accurate signature.\n     |\n     |  ----------------------------------------------------------------------\n     |  Methods inherited from OSError:\n     |\n     |  __reduce__(...)\n     |      Helper for pickle.\n     |\n     |  __str__(self, /)\n     |      Return str(self).\n     |\n     |  ----------------------------------------------------------------------\n     |  Static methods inherited from OSError:\n     |\n     |  __new__(*args, **kwargs) class method of OSError\n     |      Create and return a new object.  See help(type) for accurate signature.\n     |\n     |  ----------------------------------------------------------------------\n     |  Data descriptors inherited from OSError:\n     |\n     |  characters_written\n     |\n     |  errno\n     |      POSIX exception code\n     |\n     |  filename\n     |      exception filename\n     |\n     |  filename2\n     |      second exception filename\n     |\n     |  strerror\n     |      exception strerror\n     |\n     |  ----------------------------------------------------------------------\n     |  Methods inherited from BaseException:\n     |\n     |  __getattribute__(self, name, /)\n     |      Return getattr(self, name).\n     |\n     |  __repr__(self, /)\n     |      Return repr(self).\n     |\n     |  __setstate__(...)\n     |\n     |  add_note(...)\n     |      Exception.add_note(note) --\n     |      add a note to the exception\n     |\n     |  with_traceback(...)\n     |      Exception.with_traceback(tb) --\n     |      set self.__traceback__ to tb and return self.\n     |\n     |  ----------------------------------------------------------------------\n     |  Data descriptors inherited from BaseException:\n     |\n     |  __cause__\n     |      exception cause\n     |\n     |  __context__\n     |      exception context\n     |\n     |  __dict__\n     |\n     |  __suppress_context__\n     |\n     |  __traceback__\n     |\n     |  args\n\n    class BufferError(Exception)\n     |  Buffer error.\n     |\n     |  Method resolution order:\n     |      BufferError\n     |      Exception\n     |      BaseException\n     |      object\n     |\n     |  Methods defined here:\n     |\n     |  __init__(self, /, *args, **kwargs)\n     |      Initialize self.  See help(type(self)) for accurate signature.\n     |\n     |  ----------------------------------------------------------------------\n     |  Static methods defined here:\n     |\n     |  __new__(*args, **kwargs)\n     |      Create and return a new object.  See help(type) for accurate signature.\n     |\n     |  ----------------------------------------------------------------------\n     |  Methods inherited from BaseException:\n     |\n     |  __getattribute__(self, name, /)\n     |      Return getattr(self, name).\n     |\n     |  __reduce__(...)\n     |      Helper for pickle.\n     |\n     |  __repr__(self, /)\n     |      Return repr(self).\n     |\n     |  __setstate__(...)\n     |\n     |  __str__(self, /)\n     |      Return str(self).\n     |\n     |  add_note(...)\n     |      Exception.add_note(note) --\n     |      add a note to the exception\n     |\n     |  with_traceback(...)\n     |      Exception.with_traceback(tb) --\n     |      set self.__traceback__ to tb and return self.\n     |\n     |  ----------------------------------------------------------------------\n     |  Data descriptors inherited from BaseException:\n     |\n     |  __cause__\n     |      exception cause\n     |\n     |  __context__\n     |      exception context\n     |\n     |  __dict__\n     |\n     |  __suppress_context__\n     |\n     |  __traceback__\n     |\n     |  args\n\n    class BytesWarning(Warning)\n     |  Base class for warnings about bytes and buffer related problems, mostly\n     |  related to conversion from str or comparing to str.\n     |\n     |  Method resolution order:\n     |      BytesWarning\n     |      Warning\n     |      Exception\n     |      BaseException\n     |      object\n     |\n     |  Methods defined here:\n     |\n     |  __init__(self, /, *args, **kwargs)\n     |      Initialize self.  See help(type(self)) for accurate signature.\n     |\n     |  ----------------------------------------------------------------------\n     |  Static methods defined here:\n     |\n     |  __new__(*args, **kwargs)\n     |      Create and return a new object.  See help(type) for accurate signature.\n     |\n     |  ----------------------------------------------------------------------\n     |  Methods inherited from BaseException:\n     |\n     |  __getattribute__(self, name, /)\n     |      Return getattr(self, name).\n     |\n     |  __reduce__(...)\n     |      Helper for pickle.\n     |\n     |  __repr__(self, /)\n     |      Return repr(self).\n     |\n     |  __setstate__(...)\n     |\n     |  __str__(self, /)\n     |      Return str(self).\n     |\n     |  add_note(...)\n     |      Exception.add_note(note) --\n     |      add a note to the exception\n     |\n     |  with_traceback(...)\n     |      Exception.with_traceback(tb) --\n     |      set self.__traceback__ to tb and return self.\n     |\n     |  ----------------------------------------------------------------------\n     |  Data descriptors inherited from BaseException:\n     |\n     |  __cause__\n     |      exception cause\n     |\n     |  __context__\n     |      exception context\n     |\n     |  __dict__\n     |\n     |  __suppress_context__\n     |\n     |  __traceback__\n     |\n     |  args\n\n    class ChildProcessError(OSError)\n     |  Child process error.\n     |\n     |  Method resolution order:\n     |      ChildProcessError\n     |      OSError\n     |      Exception\n     |      BaseException\n     |      object\n     |\n     |  Methods defined here:\n     |\n     |  __init__(self, /, *args, **kwargs)\n     |      Initialize self.  See help(type(self)) for accurate signature.\n     |\n     |  ----------------------------------------------------------------------\n     |  Methods inherited from OSError:\n     |\n     |  __reduce__(...)\n     |      Helper for pickle.\n     |\n     |  __str__(self, /)\n     |      Return str(self).\n     |\n     |  ----------------------------------------------------------------------\n     |  Static methods inherited from OSError:\n     |\n     |  __new__(*args, **kwargs) class method of OSError\n     |      Create and return a new object.  See help(type) for accurate signature.\n     |\n     |  ----------------------------------------------------------------------\n     |  Data descriptors inherited from OSError:\n     |\n     |  characters_written\n     |\n     |  errno\n     |      POSIX exception code\n     |\n     |  filename\n     |      exception filename\n     |\n     |  filename2\n     |      second exception filename\n     |\n     |  strerror\n     |      exception strerror\n     |\n     |  ----------------------------------------------------------------------\n     |  Methods inherited from BaseException:\n     |\n     |  __getattribute__(self, name, /)\n     |      Return getattr(self, name).\n     |\n     |  __repr__(self, /)\n     |      Return repr(self).\n     |\n     |  __setstate__(...)\n     |\n     |  add_note(...)\n     |      Exception.add_note(note) --\n     |      add a note to the exception\n     |\n     |  with_traceback(...)\n     |      Exception.with_traceback(tb) --\n     |      set self.__traceback__ to tb and return self.\n     |\n     |  ----------------------------------------------------------------------\n     |  Data descriptors inherited from BaseException:\n     |\n     |  __cause__\n     |      exception cause\n     |\n     |  __context__\n     |      exception context\n     |\n     |  __dict__\n     |\n     |  __suppress_context__\n     |\n     |  __traceback__\n     |\n     |  args\n\n    class ConnectionAbortedError(ConnectionError)\n     |  Connection aborted.\n     |\n     |  Method resolution order:\n     |      ConnectionAbortedError\n     |      ConnectionError\n     |      OSError\n     |      Exception\n     |      BaseException\n     |      object\n     |\n     |  Methods defined here:\n     |\n     |  __init__(self, /, *args, **kwargs)\n     |      Initialize self.  See help(type(self)) for accurate signature.\n     |\n     |  ----------------------------------------------------------------------\n     |  Methods inherited from OSError:\n     |\n     |  __reduce__(...)\n     |      Helper for pickle.\n     |\n     |  __str__(self, /)\n     |      Return str(self).\n     |\n     |  ----------------------------------------------------------------------\n     |  Static methods inherited from OSError:\n     |\n     |  __new__(*args, **kwargs) class method of OSError\n     |      Create and return a new object.  See help(type) for accurate signature.\n     |\n     |  ----------------------------------------------------------------------\n     |  Data descriptors inherited from OSError:\n     |\n     |  characters_written\n     |\n     |  errno\n     |      POSIX exception code\n     |\n     |  filename\n     |      exception filename\n     |\n     |  filename2\n     |      second exception filename\n     |\n     |  strerror\n     |      exception strerror\n     |\n     |  ----------------------------------------------------------------------\n     |  Methods inherited from BaseException:\n     |\n     |  __getattribute__(self, name, /)\n     |      Return getattr(self, name).\n     |\n     |  __repr__(self, /)\n     |      Return repr(self).\n     |\n     |  __setstate__(...)\n     |\n     |  add_note(...)\n     |      Exception.add_note(note) --\n     |      add a note to the exception\n     |\n     |  with_traceback(...)\n     |      Exception.with_traceback(tb) --\n     |      set self.__traceback__ to tb and return self.\n     |\n     |  ----------------------------------------------------------------------\n     |  Data descriptors inherited from BaseException:\n     |\n     |  __cause__\n     |      exception cause\n     |\n     |  __context__\n     |      exception context\n     |\n     |  __dict__\n     |\n     |  __suppress_context__\n     |\n     |  __traceback__\n     |\n     |  args\n\n    class ConnectionError(OSError)\n     |  Connection error.\n     |\n     |  Method resolution order:\n     |      ConnectionError\n     |      OSError\n     |      Exception\n     |      BaseException\n     |      object\n     |\n     |  Built-in subclasses:\n     |      BrokenPipeError\n     |      ConnectionAbortedError\n     |      ConnectionRefusedError\n     |      ConnectionResetError\n     |\n     |  Methods defined here:\n     |\n     |  __init__(self, /, *args, **kwargs)\n     |      Initialize self.  See help(type(self)) for accurate signature.\n     |\n     |  ----------------------------------------------------------------------\n     |  Methods inherited from OSError:\n     |\n     |  __reduce__(...)\n     |      Helper for pickle.\n     |\n     |  __str__(self, /)\n     |      Return str(self).\n     |\n     |  ----------------------------------------------------------------------\n     |  Static methods inherited from OSError:\n     |\n     |  __new__(*args, **kwargs) class method of OSError\n     |      Create and return a new object.  See help(type) for accurate signature.\n     |\n     |  ----------------------------------------------------------------------\n     |  Data descriptors inherited from OSError:\n     |\n     |  characters_written\n     |\n     |  errno\n     |      POSIX exception code\n     |\n     |  filename\n     |      exception filename\n     |\n     |  filename2\n     |      second exception filename\n     |\n     |  strerror\n     |      exception strerror\n     |\n     |  ----------------------------------------------------------------------\n     |  Methods inherited from BaseException:\n     |\n     |  __getattribute__(self, name, /)\n     |      Return getattr(self, name).\n     |\n     |  __repr__(self, /)\n     |      Return repr(self).\n     |\n     |  __setstate__(...)\n     |\n     |  add_note(...)\n     |      Exception.add_note(note) --\n     |      add a note to the exception\n     |\n     |  with_traceback(...)\n     |      Exception.with_traceback(tb) --\n     |      set self.__traceback__ to tb and return self.\n     |\n     |  ----------------------------------------------------------------------\n     |  Data descriptors inherited from BaseException:\n     |\n     |  __cause__\n     |      exception cause\n     |\n     |  __context__\n     |      exception context\n     |\n     |  __dict__\n     |\n     |  __suppress_context__\n     |\n     |  __traceback__\n     |\n     |  args\n\n    class ConnectionRefusedError(ConnectionError)\n     |  Connection refused.\n     |\n     |  Method resolution order:\n     |      ConnectionRefusedError\n     |      ConnectionError\n     |      OSError\n     |      Exception\n     |      BaseException\n     |      object\n     |\n     |  Methods defined here:\n     |\n     |  __init__(self, /, *args, **kwargs)\n     |      Initialize self.  See help(type(self)) for accurate signature.\n     |\n     |  ----------------------------------------------------------------------\n     |  Methods inherited from OSError:\n     |\n     |  __reduce__(...)\n     |      Helper for pickle.\n     |\n     |  __str__(self, /)\n     |      Return str(self).\n     |\n     |  ----------------------------------------------------------------------\n     |  Static methods inherited from OSError:\n     |\n     |  __new__(*args, **kwargs) class method of OSError\n     |      Create and return a new object.  See help(type) for accurate signature.\n     |\n     |  ----------------------------------------------------------------------\n     |  Data descriptors inherited from OSError:\n     |\n     |  characters_written\n     |\n     |  errno\n     |      POSIX exception code\n     |\n     |  filename\n     |      exception filename\n     |\n     |  filename2\n     |      second exception filename\n     |\n     |  strerror\n     |      exception strerror\n     |\n     |  ----------------------------------------------------------------------\n     |  Methods inherited from BaseException:\n     |\n     |  __getattribute__(self, name, /)\n     |      Return getattr(self, name).\n     |\n     |  __repr__(self, /)\n     |      Return repr(self).\n     |\n     |  __setstate__(...)\n     |\n     |  add_note(...)\n     |      Exception.add_note(note) --\n     |      add a note to the exception\n     |\n     |  with_traceback(...)\n     |      Exception.with_traceback(tb) --\n     |      set self.__traceback__ to tb and return self.\n     |\n     |  ----------------------------------------------------------------------\n     |  Data descriptors inherited from BaseException:\n     |\n     |  __cause__\n     |      exception cause\n     |\n     |  __context__\n     |      exception context\n     |\n     |  __dict__\n     |\n     |  __suppress_context__\n     |\n     |  __traceback__\n     |\n     |  args\n\n    class ConnectionResetError(ConnectionError)\n     |  Connection reset.\n     |\n     |  Method resolution order:\n     |      ConnectionResetError\n     |      ConnectionError\n     |      OSError\n     |      Exception\n     |      BaseException\n     |      object\n     |\n     |  Methods defined here:\n     |\n     |  __init__(self, /, *args, **kwargs)\n     |      Initialize self.  See help(type(self)) for accurate signature.\n     |\n     |  ----------------------------------------------------------------------\n     |  Methods inherited from OSError:\n     |\n     |  __reduce__(...)\n     |      Helper for pickle.\n     |\n     |  __str__(self, /)\n     |      Return str(self).\n     |\n     |  ----------------------------------------------------------------------\n     |  Static methods inherited from OSError:\n     |\n     |  __new__(*args, **kwargs) class method of OSError\n     |      Create and return a new object.  See help(type) for accurate signature.\n     |\n     |  ----------------------------------------------------------------------\n     |  Data descriptors inherited from OSError:\n     |\n     |  characters_written\n     |\n     |  errno\n     |      POSIX exception code\n     |\n     |  filename\n     |      exception filename\n     |\n     |  filename2\n     |      second exception filename\n     |\n     |  strerror\n     |      exception strerror\n     |\n     |  ----------------------------------------------------------------------\n     |  Methods inherited from BaseException:\n     |\n     |  __getattribute__(self, name, /)\n     |      Return getattr(self, name).\n     |\n     |  __repr__(self, /)\n     |      Return repr(self).\n     |\n     |  __setstate__(...)\n     |\n     |  add_note(...)\n     |      Exception.add_note(note) --\n     |      add a note to the exception\n     |\n     |  with_traceback(...)\n     |      Exception.with_traceback(tb) --\n     |      set self.__traceback__ to tb and return self.\n     |\n     |  ----------------------------------------------------------------------\n     |  Data descriptors inherited from BaseException:\n     |\n     |  __cause__\n     |      exception cause\n     |\n     |  __context__\n     |      exception context\n     |\n     |  __dict__\n     |\n     |  __suppress_context__\n     |\n     |  __traceback__\n     |\n     |  args\n\n    class DeprecationWarning(Warning)\n     |  Base class for warnings about deprecated features.\n     |\n     |  Method resolution order:\n     |      DeprecationWarning\n     |      Warning\n     |      Exception\n     |      BaseException\n     |      object\n     |\n     |  Methods defined here:\n     |\n     |  __init__(self, /, *args, **kwargs)\n     |      Initialize self.  See help(type(self)) for accurate signature.\n     |\n     |  ----------------------------------------------------------------------\n     |  Static methods defined here:\n     |\n     |  __new__(*args, **kwargs)\n     |      Create and return a new object.  See help(type) for accurate signature.\n     |\n     |  ----------------------------------------------------------------------\n     |  Methods inherited from BaseException:\n     |\n     |  __getattribute__(self, name, /)\n     |      Return getattr(self, name).\n     |\n     |  __reduce__(...)\n     |      Helper for pickle.\n     |\n     |  __repr__(self, /)\n     |      Return repr(self).\n     |\n     |  __setstate__(...)\n     |\n     |  __str__(self, /)\n     |      Return str(self).\n     |\n     |  add_note(...)\n     |      Exception.add_note(note) --\n     |      add a note to the exception\n     |\n     |  with_traceback(...)\n     |      Exception.with_traceback(tb) --\n     |      set self.__traceback__ to tb and return self.\n     |\n     |  ----------------------------------------------------------------------\n     |  Data descriptors inherited from BaseException:\n     |\n     |  __cause__\n     |      exception cause\n     |\n     |  __context__\n     |      exception context\n     |\n     |  __dict__\n     |\n     |  __suppress_context__\n     |\n     |  __traceback__\n     |\n     |  args\n\n    class EOFError(Exception)\n     |  Read beyond end of file.\n     |\n     |  Method resolution order:\n     |      EOFError\n     |      Exception\n     |      BaseException\n     |      object\n     |\n     |  Methods defined here:\n     |\n     |  __init__(self, /, *args, **kwargs)\n     |      Initialize self.  See help(type(self)) for accurate signature.\n     |\n     |  ----------------------------------------------------------------------\n     |  Static methods defined here:\n     |\n     |  __new__(*args, **kwargs)\n     |      Create and return a new object.  See help(type) for accurate signature.\n     |\n     |  ----------------------------------------------------------------------\n     |  Methods inherited from BaseException:\n     |\n     |  __getattribute__(self, name, /)\n     |      Return getattr(self, name).\n     |\n     |  __reduce__(...)\n     |      Helper for pickle.\n     |\n     |  __repr__(self, /)\n     |      Return repr(self).\n     |\n     |  __setstate__(...)\n     |\n     |  __str__(self, /)\n     |      Return str(self).\n     |\n     |  add_note(...)\n     |      Exception.add_note(note) --\n     |      add a note to the exception\n     |\n     |  with_traceback(...)\n     |      Exception.with_traceback(tb) --\n     |      set self.__traceback__ to tb and return self.\n     |\n     |  ----------------------------------------------------------------------\n     |  Data descriptors inherited from BaseException:\n     |\n     |  __cause__\n     |      exception cause\n     |\n     |  __context__\n     |      exception context\n     |\n     |  __dict__\n     |\n     |  __suppress_context__\n     |\n     |  __traceback__\n     |\n     |  args\n\n    class EncodingWarning(Warning)\n     |  Base class for warnings about encodings.\n     |\n     |  Method resolution order:\n     |      EncodingWarning\n     |      Warning\n     |      Exception\n     |      BaseException\n     |      object\n     |\n     |  Methods defined here:\n     |\n     |  __init__(self, /, *args, **kwargs)\n     |      Initialize self.  See help(type(self)) for accurate signature.\n     |\n     |  ----------------------------------------------------------------------\n     |  Static methods defined here:\n     |\n     |  __new__(*args, **kwargs)\n     |      Create and return a new object.  See help(type) for accurate signature.\n     |\n     |  ----------------------------------------------------------------------\n     |  Methods inherited from BaseException:\n     |\n     |  __getattribute__(self, name, /)\n     |      Return getattr(self, name).\n     |\n     |  __reduce__(...)\n     |      Helper for pickle.\n     |\n     |  __repr__(self, /)\n     |      Return repr(self).\n     |\n     |  __setstate__(...)\n     |\n     |  __str__(self, /)\n     |      Return str(self).\n     |\n     |  add_note(...)\n     |      Exception.add_note(note) --\n     |      add a note to the exception\n     |\n     |  with_traceback(...)\n     |      Exception.with_traceback(tb) --\n     |      set self.__traceback__ to tb and return self.\n     |\n     |  ----------------------------------------------------------------------\n     |  Data descriptors inherited from BaseException:\n     |\n     |  __cause__\n     |      exception cause\n     |\n     |  __context__\n     |      exception context\n     |\n     |  __dict__\n     |\n     |  __suppress_context__\n     |\n     |  __traceback__\n     |\n     |  args\n\n    EnvironmentError = class OSError(Exception)\n     |  Base class for I/O related errors.\n     |\n     |  Method resolution order:\n     |      OSError\n     |      Exception\n     |      BaseException\n     |      object\n     |\n     |  Built-in subclasses:\n     |      BlockingIOError\n     |      ChildProcessError\n     |      ConnectionError\n     |      FileExistsError\n     |      ... and 7 other subclasses\n     |\n     |  Methods defined here:\n     |\n     |  __init__(self, /, *args, **kwargs)\n     |      Initialize self.  See help(type(self)) for accurate signature.\n     |\n     |  __reduce__(...)\n     |      Helper for pickle.\n     |\n     |  __str__(self, /)\n     |      Return str(self).\n     |\n     |  ----------------------------------------------------------------------\n     |  Static methods defined here:\n     |\n     |  __new__(*args, **kwargs)\n     |      Create and return a new object.  See help(type) for accurate signature.\n     |\n     |  ----------------------------------------------------------------------\n     |  Data descriptors defined here:\n     |\n     |  characters_written\n     |\n     |  errno\n     |      POSIX exception code\n     |\n     |  filename\n     |      exception filename\n     |\n     |  filename2\n     |      second exception filename\n     |\n     |  strerror\n     |      exception strerror\n     |\n     |  ----------------------------------------------------------------------\n     |  Methods inherited from BaseException:\n     |\n     |  __getattribute__(self, name, /)\n     |      Return getattr(self, name).\n     |\n     |  __repr__(self, /)\n     |      Return repr(self).\n     |\n     |  __setstate__(...)\n     |\n     |  add_note(...)\n     |      Exception.add_note(note) --\n     |      add a note to the exception\n     |\n     |  with_traceback(...)\n     |      Exception.with_traceback(tb) --\n     |      set self.__traceback__ to tb and return self.\n     |\n     |  ----------------------------------------------------------------------\n     |  Data descriptors inherited from BaseException:\n     |\n     |  __cause__\n     |      exception cause\n     |\n     |  __context__\n     |      exception context\n     |\n     |  __dict__\n     |\n     |  __suppress_context__\n     |\n     |  __traceback__\n     |\n     |  args\n\n    class Exception(BaseException)\n     |  Common base class for all non-exit exceptions.\n     |\n     |  Method resolution order:\n     |      Exception\n     |      BaseException\n     |      object\n     |\n     |  Built-in subclasses:\n     |      ArithmeticError\n     |      AssertionError\n     |      AttributeError\n     |      BufferError\n     |      ... and 16 other subclasses\n     |\n     |  Methods defined here:\n     |\n     |  __init__(self, /, *args, **kwargs)\n     |      Initialize self.  See help(type(self)) for accurate signature.\n     |\n     |  ----------------------------------------------------------------------\n     |  Static methods defined here:\n     |\n     |  __new__(*args, **kwargs)\n     |      Create and return a new object.  See help(type) for accurate signature.\n     |\n     |  ----------------------------------------------------------------------\n     |  Methods inherited from BaseException:\n     |\n     |  __getattribute__(self, name, /)\n     |      Return getattr(self, name).\n     |\n     |  __reduce__(...)\n     |      Helper for pickle.\n     |\n     |  __repr__(self, /)\n     |      Return repr(self).\n     |\n     |  __setstate__(...)\n     |\n     |  __str__(self, /)\n     |      Return str(self).\n     |\n     |  add_note(...)\n     |      Exception.add_note(note) --\n     |      add a note to the exception\n     |\n     |  with_traceback(...)\n     |      Exception.with_traceback(tb) --\n     |      set self.__traceback__ to tb and return self.\n     |\n     |  ----------------------------------------------------------------------\n     |  Data descriptors inherited from BaseException:\n     |\n     |  __cause__\n     |      exception cause\n     |\n     |  __context__\n     |      exception context\n     |\n     |  __dict__\n     |\n     |  __suppress_context__\n     |\n     |  __traceback__\n     |\n     |  args\n\n    class ExceptionGroup(BaseExceptionGroup, Exception)\n     |  Method resolution order:\n     |      ExceptionGroup\n     |      BaseExceptionGroup\n     |      Exception\n     |      BaseException\n     |      object\n     |\n     |  Data descriptors defined here:\n     |\n     |  __weakref__\n     |      list of weak references to the object\n     |\n     |  ----------------------------------------------------------------------\n     |  Methods inherited from BaseExceptionGroup:\n     |\n     |  __init__(self, /, *args, **kwargs)\n     |      Initialize self.  See help(type(self)) for accurate signature.\n     |\n     |  __str__(self, /)\n     |      Return str(self).\n     |\n     |  derive(...)\n     |\n     |  split(...)\n     |\n     |  subgroup(...)\n     |\n     |  ----------------------------------------------------------------------\n     |  Class methods inherited from BaseExceptionGroup:\n     |\n     |  __class_getitem__(...)\n     |      See PEP 585\n     |\n     |  ----------------------------------------------------------------------\n     |  Static methods inherited from BaseExceptionGroup:\n     |\n     |  __new__(*args, **kwargs) class method of BaseExceptionGroup\n     |      Create and return a new object.  See help(type) for accurate signature.\n     |\n     |  ----------------------------------------------------------------------\n     |  Data descriptors inherited from BaseExceptionGroup:\n     |\n     |  exceptions\n     |      nested exceptions\n     |\n     |  message\n     |      exception message\n     |\n     |  ----------------------------------------------------------------------\n     |  Methods inherited from BaseException:\n     |\n     |  __getattribute__(self, name, /)\n     |      Return getattr(self, name).\n     |\n     |  __reduce__(...)\n     |      Helper for pickle.\n     |\n     |  __repr__(self, /)\n     |      Return repr(self).\n     |\n     |  __setstate__(...)\n     |\n     |  add_note(...)\n     |      Exception.add_note(note) --\n     |      add a note to the exception\n     |\n     |  with_traceback(...)\n     |      Exception.with_traceback(tb) --\n     |      set self.__traceback__ to tb and return self.\n     |\n     |  ----------------------------------------------------------------------\n     |  Data descriptors inherited from BaseException:\n     |\n     |  __cause__\n     |      exception cause\n     |\n     |  __context__\n     |      exception context\n     |\n     |  __dict__\n     |\n     |  __suppress_context__\n     |\n     |  __traceback__\n     |\n     |  args\n\n    class FileExistsError(OSError)\n     |  File already exists.\n     |\n     |  Method resolution order:\n     |      FileExistsError\n     |      OSError\n     |      Exception\n     |      BaseException\n     |      object\n     |\n     |  Methods defined here:\n     |\n     |  __init__(self, /, *args, **kwargs)\n     |      Initialize self.  See help(type(self)) for accurate signature.\n     |\n     |  ----------------------------------------------------------------------\n     |  Methods inherited from OSError:\n     |\n     |  __reduce__(...)\n     |      Helper for pickle.\n     |\n     |  __str__(self, /)\n     |      Return str(self).\n     |\n     |  ----------------------------------------------------------------------\n     |  Static methods inherited from OSError:\n     |\n     |  __new__(*args, **kwargs) class method of OSError\n     |      Create and return a new object.  See help(type) for accurate signature.\n     |\n     |  ----------------------------------------------------------------------\n     |  Data descriptors inherited from OSError:\n     |\n     |  characters_written\n     |\n     |  errno\n     |      POSIX exception code\n     |\n     |  filename\n     |      exception filename\n     |\n     |  filename2\n     |      second exception filename\n     |\n     |  strerror\n     |      exception strerror\n     |\n     |  ----------------------------------------------------------------------\n     |  Methods inherited from BaseException:\n     |\n     |  __getattribute__(self, name, /)\n     |      Return getattr(self, name).\n     |\n     |  __repr__(self, /)\n     |      Return repr(self).\n     |\n     |  __setstate__(...)\n     |\n     |  add_note(...)\n     |      Exception.add_note(note) --\n     |      add a note to the exception\n     |\n     |  with_traceback(...)\n     |      Exception.with_traceback(tb) --\n     |      set self.__traceback__ to tb and return self.\n     |\n     |  ----------------------------------------------------------------------\n     |  Data descriptors inherited from BaseException:\n     |\n     |  __cause__\n     |      exception cause\n     |\n     |  __context__\n     |      exception context\n     |\n     |  __dict__\n     |\n     |  __suppress_context__\n     |\n     |  __traceback__\n     |\n     |  args\n\n    class FileNotFoundError(OSError)\n     |  File not found.\n     |\n     |  Method resolution order:\n     |      FileNotFoundError\n     |      OSError\n     |      Exception\n     |      BaseException\n     |      object\n     |\n     |  Methods defined here:\n     |\n     |  __init__(self, /, *args, **kwargs)\n     |      Initialize self.  See help(type(self)) for accurate signature.\n     |\n     |  ----------------------------------------------------------------------\n     |  Methods inherited from OSError:\n     |\n     |  __reduce__(...)\n     |      Helper for pickle.\n     |\n     |  __str__(self, /)\n     |      Return str(self).\n     |\n     |  ----------------------------------------------------------------------\n     |  Static methods inherited from OSError:\n     |\n     |  __new__(*args, **kwargs) class method of OSError\n     |      Create and return a new object.  See help(type) for accurate signature.\n     |\n     |  ----------------------------------------------------------------------\n     |  Data descriptors inherited from OSError:\n     |\n     |  characters_written\n     |\n     |  errno\n     |      POSIX exception code\n     |\n     |  filename\n     |      exception filename\n     |\n     |  filename2\n     |      second exception filename\n     |\n     |  strerror\n     |      exception strerror\n     |\n     |  ----------------------------------------------------------------------\n     |  Methods inherited from BaseException:\n     |\n     |  __getattribute__(self, name, /)\n     |      Return getattr(self, name).\n     |\n     |  __repr__(self, /)\n     |      Return repr(self).\n     |\n     |  __setstate__(...)\n     |\n     |  add_note(...)\n     |      Exception.add_note(note) --\n     |      add a note to the exception\n     |\n     |  with_traceback(...)\n     |      Exception.with_traceback(tb) --\n     |      set self.__traceback__ to tb and return self.\n     |\n     |  ----------------------------------------------------------------------\n     |  Data descriptors inherited from BaseException:\n     |\n     |  __cause__\n     |      exception cause\n     |\n     |  __context__\n     |      exception context\n     |\n     |  __dict__\n     |\n     |  __suppress_context__\n     |\n     |  __traceback__\n     |\n     |  args\n\n    class FloatingPointError(ArithmeticError)\n     |  Floating-point operation failed.\n     |\n     |  Method resolution order:\n     |      FloatingPointError\n     |      ArithmeticError\n     |      Exception\n     |      BaseException\n     |      object\n     |\n     |  Methods defined here:\n     |\n     |  __init__(self, /, *args, **kwargs)\n     |      Initialize self.  See help(type(self)) for accurate signature.\n     |\n     |  ----------------------------------------------------------------------\n     |  Static methods defined here:\n     |\n     |  __new__(*args, **kwargs)\n     |      Create and return a new object.  See help(type) for accurate signature.\n     |\n     |  ----------------------------------------------------------------------\n     |  Methods inherited from BaseException:\n     |\n     |  __getattribute__(self, name, /)\n     |      Return getattr(self, name).\n     |\n     |  __reduce__(...)\n     |      Helper for pickle.\n     |\n     |  __repr__(self, /)\n     |      Return repr(self).\n     |\n     |  __setstate__(...)\n     |\n     |  __str__(self, /)\n     |      Return str(self).\n     |\n     |  add_note(...)\n     |      Exception.add_note(note) --\n     |      add a note to the exception\n     |\n     |  with_traceback(...)\n     |      Exception.with_traceback(tb) --\n     |      set self.__traceback__ to tb and return self.\n     |\n     |  ----------------------------------------------------------------------\n     |  Data descriptors inherited from BaseException:\n     |\n     |  __cause__\n     |      exception cause\n     |\n     |  __context__\n     |      exception context\n     |\n     |  __dict__\n     |\n     |  __suppress_context__\n     |\n     |  __traceback__\n     |\n     |  args\n\n    class FutureWarning(Warning)\n     |  Base class for warnings about constructs that will change semantically\n     |  in the future.\n     |\n     |  Method resolution order:\n     |      FutureWarning\n     |      Warning\n     |      Exception\n     |      BaseException\n     |      object\n     |\n     |  Methods defined here:\n     |\n     |  __init__(self, /, *args, **kwargs)\n     |      Initialize self.  See help(type(self)) for accurate signature.\n     |\n     |  ----------------------------------------------------------------------\n     |  Static methods defined here:\n     |\n     |  __new__(*args, **kwargs)\n     |      Create and return a new object.  See help(type) for accurate signature.\n     |\n     |  ----------------------------------------------------------------------\n     |  Methods inherited from BaseException:\n     |\n     |  __getattribute__(self, name, /)\n     |      Return getattr(self, name).\n     |\n     |  __reduce__(...)\n     |      Helper for pickle.\n     |\n     |  __repr__(self, /)\n     |      Return repr(self).\n     |\n     |  __setstate__(...)\n     |\n     |  __str__(self, /)\n     |      Return str(self).\n     |\n     |  add_note(...)\n     |      Exception.add_note(note) --\n     |      add a note to the exception\n     |\n     |  with_traceback(...)\n     |      Exception.with_traceback(tb) --\n     |      set self.__traceback__ to tb and return self.\n     |\n     |  ----------------------------------------------------------------------\n     |  Data descriptors inherited from BaseException:\n     |\n     |  __cause__\n     |      exception cause\n     |\n     |  __context__\n     |      exception context\n     |\n     |  __dict__\n     |\n     |  __suppress_context__\n     |\n     |  __traceback__\n     |\n     |  args\n\n    class GeneratorExit(BaseException)\n     |  Request that a generator exit.\n     |\n     |  Method resolution order:\n     |      GeneratorExit\n     |      BaseException\n     |      object\n     |\n     |  Methods defined here:\n     |\n     |  __init__(self, /, *args, **kwargs)\n     |      Initialize self.  See help(type(self)) for accurate signature.\n     |\n     |  ----------------------------------------------------------------------\n     |  Static methods defined here:\n     |\n     |  __new__(*args, **kwargs)\n     |      Create and return a new object.  See help(type) for accurate signature.\n     |\n     |  ----------------------------------------------------------------------\n     |  Methods inherited from BaseException:\n     |\n     |  __getattribute__(self, name, /)\n     |      Return getattr(self, name).\n     |\n     |  __reduce__(...)\n     |      Helper for pickle.\n     |\n     |  __repr__(self, /)\n     |      Return repr(self).\n     |\n     |  __setstate__(...)\n     |\n     |  __str__(self, /)\n     |      Return str(self).\n     |\n     |  add_note(...)\n     |      Exception.add_note(note) --\n     |      add a note to the exception\n     |\n     |  with_traceback(...)\n     |      Exception.with_traceback(tb) --\n     |      set self.__traceback__ to tb and return self.\n     |\n     |  ----------------------------------------------------------------------\n     |  Data descriptors inherited from BaseException:\n     |\n     |  __cause__\n     |      exception cause\n     |\n     |  __context__\n     |      exception context\n     |\n     |  __dict__\n     |\n     |  __suppress_context__\n     |\n     |  __traceback__\n     |\n     |  args\n\n    IOError = class OSError(Exception)\n     |  Base class for I/O related errors.\n     |\n     |  Method resolution order:\n     |      OSError\n     |      Exception\n     |      BaseException\n     |      object\n     |\n     |  Built-in subclasses:\n     |      BlockingIOError\n     |      ChildProcessError\n     |      ConnectionError\n     |      FileExistsError\n     |      ... and 7 other subclasses\n     |\n     |  Methods defined here:\n     |\n     |  __init__(self, /, *args, **kwargs)\n     |      Initialize self.  See help(type(self)) for accurate signature.\n     |\n     |  __reduce__(...)\n     |      Helper for pickle.\n     |\n     |  __str__(self, /)\n     |      Return str(self).\n     |\n     |  ----------------------------------------------------------------------\n     |  Static methods defined here:\n     |\n     |  __new__(*args, **kwargs)\n     |      Create and return a new object.  See help(type) for accurate signature.\n     |\n     |  ----------------------------------------------------------------------\n     |  Data descriptors defined here:\n     |\n     |  characters_written\n     |\n     |  errno\n     |      POSIX exception code\n     |\n     |  filename\n     |      exception filename\n     |\n     |  filename2\n     |      second exception filename\n     |\n     |  strerror\n     |      exception strerror\n     |\n     |  ----------------------------------------------------------------------\n     |  Methods inherited from BaseException:\n     |\n     |  __getattribute__(self, name, /)\n     |      Return getattr(self, name).\n     |\n     |  __repr__(self, /)\n     |      Return repr(self).\n     |\n     |  __setstate__(...)\n     |\n     |  add_note(...)\n     |      Exception.add_note(note) --\n     |      add a note to the exception\n     |\n     |  with_traceback(...)\n     |      Exception.with_traceback(tb) --\n     |      set self.__traceback__ to tb and return self.\n     |\n     |  ----------------------------------------------------------------------\n     |  Data descriptors inherited from BaseException:\n     |\n     |  __cause__\n     |      exception cause\n     |\n     |  __context__\n     |      exception context\n     |\n     |  __dict__\n     |\n     |  __suppress_context__\n     |\n     |  __traceback__\n     |\n     |  args\n\n    class ImportError(Exception)\n     |  Import can't find module, or can't find name in module.\n     |\n     |  Method resolution order:\n     |      ImportError\n     |      Exception\n     |      BaseException\n     |      object\n     |\n     |  Built-in subclasses:\n     |      ModuleNotFoundError\n     |\n     |  Methods defined here:\n     |\n     |  __init__(self, /, *args, **kwargs)\n     |      Initialize self.  See help(type(self)) for accurate signature.\n     |\n     |  __reduce__(...)\n     |      Helper for pickle.\n     |\n     |  __str__(self, /)\n     |      Return str(self).\n     |\n     |  ----------------------------------------------------------------------\n     |  Data descriptors defined here:\n     |\n     |  msg\n     |      exception message\n     |\n     |  name\n     |      module name\n     |\n     |  name_from\n     |      name imported from module\n     |\n     |  path\n     |      module path\n     |\n     |  ----------------------------------------------------------------------\n     |  Static methods inherited from Exception:\n     |\n     |  __new__(*args, **kwargs) class method of Exception\n     |      Create and return a new object.  See help(type) for accurate signature.\n     |\n     |  ----------------------------------------------------------------------\n     |  Methods inherited from BaseException:\n     |\n     |  __getattribute__(self, name, /)\n     |      Return getattr(self, name).\n     |\n     |  __repr__(self, /)\n     |      Return repr(self).\n     |\n     |  __setstate__(...)\n     |\n     |  add_note(...)\n     |      Exception.add_note(note) --\n     |      add a note to the exception\n     |\n     |  with_traceback(...)\n     |      Exception.with_traceback(tb) --\n     |      set self.__traceback__ to tb and return self.\n     |\n     |  ----------------------------------------------------------------------\n     |  Data descriptors inherited from BaseException:\n     |\n     |  __cause__\n     |      exception cause\n     |\n     |  __context__\n     |      exception context\n     |\n     |  __dict__\n     |\n     |  __suppress_context__\n     |\n     |  __traceback__\n     |\n     |  args\n\n    class ImportWarning(Warning)\n     |  Base class for warnings about probable mistakes in module imports\n     |\n     |  Method resolution order:\n     |      ImportWarning\n     |      Warning\n     |      Exception\n     |      BaseException\n     |      object\n     |\n     |  Methods defined here:\n     |\n     |  __init__(self, /, *args, **kwargs)\n     |      Initialize self.  See help(type(self)) for accurate signature.\n     |\n     |  ----------------------------------------------------------------------\n     |  Static methods defined here:\n     |\n     |  __new__(*args, **kwargs)\n     |      Create and return a new object.  See help(type) for accurate signature.\n     |\n     |  ----------------------------------------------------------------------\n     |  Methods inherited from BaseException:\n     |\n     |  __getattribute__(self, name, /)\n     |      Return getattr(self, name).\n     |\n     |  __reduce__(...)\n     |      Helper for pickle.\n     |\n     |  __repr__(self, /)\n     |      Return repr(self).\n     |\n     |  __setstate__(...)\n     |\n     |  __str__(self, /)\n     |      Return str(self).\n     |\n     |  add_note(...)\n     |      Exception.add_note(note) --\n     |      add a note to the exception\n     |\n     |  with_traceback(...)\n     |      Exception.with_traceback(tb) --\n     |      set self.__traceback__ to tb and return self.\n     |\n     |  ----------------------------------------------------------------------\n     |  Data descriptors inherited from BaseException:\n     |\n     |  __cause__\n     |      exception cause\n     |\n     |  __context__\n     |      exception context\n     |\n     |  __dict__\n     |\n     |  __suppress_context__\n     |\n     |  __traceback__\n     |\n     |  args\n\n    class IndentationError(SyntaxError)\n     |  Improper indentation.\n     |\n     |  Method resolution order:\n     |      IndentationError\n     |      SyntaxError\n     |      Exception\n     |      BaseException\n     |      object\n     |\n     |  Built-in subclasses:\n     |      TabError\n     |\n     |  Methods defined here:\n     |\n     |  __init__(self, /, *args, **kwargs)\n     |      Initialize self.  See help(type(self)) for accurate signature.\n     |\n     |  ----------------------------------------------------------------------\n     |  Methods inherited from SyntaxError:\n     |\n     |  __str__(self, /)\n     |      Return str(self).\n     |\n     |  ----------------------------------------------------------------------\n     |  Data descriptors inherited from SyntaxError:\n     |\n     |  end_lineno\n     |      exception end lineno\n     |\n     |  end_offset\n     |      exception end offset\n     |\n     |  filename\n     |      exception filename\n     |\n     |  lineno\n     |      exception lineno\n     |\n     |  msg\n     |      exception msg\n     |\n     |  offset\n     |      exception offset\n     |\n     |  print_file_and_line\n     |      exception print_file_and_line\n     |\n     |  text\n     |      exception text\n     |\n     |  ----------------------------------------------------------------------\n     |  Static methods inherited from Exception:\n     |\n     |  __new__(*args, **kwargs) class method of Exception\n     |      Create and return a new object.  See help(type) for accurate signature.\n     |\n     |  ----------------------------------------------------------------------\n     |  Methods inherited from BaseException:\n     |\n     |  __getattribute__(self, name, /)\n     |      Return getattr(self, name).\n     |\n     |  __reduce__(...)\n     |      Helper for pickle.\n     |\n     |  __repr__(self, /)\n     |      Return repr(self).\n     |\n     |  __setstate__(...)\n     |\n     |  add_note(...)\n     |      Exception.add_note(note) --\n     |      add a note to the exception\n     |\n     |  with_traceback(...)\n     |      Exception.with_traceback(tb) --\n     |      set self.__traceback__ to tb and return self.\n     |\n     |  ----------------------------------------------------------------------\n     |  Data descriptors inherited from BaseException:\n     |\n     |  __cause__\n     |      exception cause\n     |\n     |  __context__\n     |      exception context\n     |\n     |  __dict__\n     |\n     |  __suppress_context__\n     |\n     |  __traceback__\n     |\n     |  args\n\n    class IndexError(LookupError)\n     |  Sequence index out of range.\n     |\n     |  Method resolution order:\n     |      IndexError\n     |      LookupError\n     |      Exception\n     |      BaseException\n     |      object\n     |\n     |  Methods defined here:\n     |\n     |  __init__(self, /, *args, **kwargs)\n     |      Initialize self.  See help(type(self)) for accurate signature.\n     |\n     |  ----------------------------------------------------------------------\n     |  Static methods defined here:\n     |\n     |  __new__(*args, **kwargs)\n     |      Create and return a new object.  See help(type) for accurate signature.\n     |\n     |  ----------------------------------------------------------------------\n     |  Methods inherited from BaseException:\n     |\n     |  __getattribute__(self, name, /)\n     |      Return getattr(self, name).\n     |\n     |  __reduce__(...)\n     |      Helper for pickle.\n     |\n     |  __repr__(self, /)\n     |      Return repr(self).\n     |\n     |  __setstate__(...)\n     |\n     |  __str__(self, /)\n     |      Return str(self).\n     |\n     |  add_note(...)\n     |      Exception.add_note(note) --\n     |      add a note to the exception\n     |\n     |  with_traceback(...)\n     |      Exception.with_traceback(tb) --\n     |      set self.__traceback__ to tb and return self.\n     |\n     |  ----------------------------------------------------------------------\n     |  Data descriptors inherited from BaseException:\n     |\n     |  __cause__\n     |      exception cause\n     |\n     |  __context__\n     |      exception context\n     |\n     |  __dict__\n     |\n     |  __suppress_context__\n     |\n     |  __traceback__\n     |\n     |  args\n\n    class InterruptedError(OSError)\n     |  Interrupted by signal.\n     |\n     |  Method resolution order:\n     |      InterruptedError\n     |      OSError\n     |      Exception\n     |      BaseException\n     |      object\n     |\n     |  Methods defined here:\n     |\n     |  __init__(self, /, *args, **kwargs)\n     |      Initialize self.  See help(type(self)) for accurate signature.\n     |\n     |  ----------------------------------------------------------------------\n     |  Methods inherited from OSError:\n     |\n     |  __reduce__(...)\n     |      Helper for pickle.\n     |\n     |  __str__(self, /)\n     |      Return str(self).\n     |\n     |  ----------------------------------------------------------------------\n     |  Static methods inherited from OSError:\n     |\n     |  __new__(*args, **kwargs) class method of OSError\n     |      Create and return a new object.  See help(type) for accurate signature.\n     |\n     |  ----------------------------------------------------------------------\n     |  Data descriptors inherited from OSError:\n     |\n     |  characters_written\n     |\n     |  errno\n     |      POSIX exception code\n     |\n     |  filename\n     |      exception filename\n     |\n     |  filename2\n     |      second exception filename\n     |\n     |  strerror\n     |      exception strerror\n     |\n     |  ----------------------------------------------------------------------\n     |  Methods inherited from BaseException:\n     |\n     |  __getattribute__(self, name, /)\n     |      Return getattr(self, name).\n     |\n     |  __repr__(self, /)\n     |      Return repr(self).\n     |\n     |  __setstate__(...)\n     |\n     |  add_note(...)\n     |      Exception.add_note(note) --\n     |      add a note to the exception\n     |\n     |  with_traceback(...)\n     |      Exception.with_traceback(tb) --\n     |      set self.__traceback__ to tb and return self.\n     |\n     |  ----------------------------------------------------------------------\n     |  Data descriptors inherited from BaseException:\n     |\n     |  __cause__\n     |      exception cause\n     |\n     |  __context__\n     |      exception context\n     |\n     |  __dict__\n     |\n     |  __suppress_context__\n     |\n     |  __traceback__\n     |\n     |  args\n\n    class IsADirectoryError(OSError)\n     |  Operation doesn't work on directories.\n     |\n     |  Method resolution order:\n     |      IsADirectoryError\n     |      OSError\n     |      Exception\n     |      BaseException\n     |      object\n     |\n     |  Methods defined here:\n     |\n     |  __init__(self, /, *args, **kwargs)\n     |      Initialize self.  See help(type(self)) for accurate signature.\n     |\n     |  ----------------------------------------------------------------------\n     |  Methods inherited from OSError:\n     |\n     |  __reduce__(...)\n     |      Helper for pickle.\n     |\n     |  __str__(self, /)\n     |      Return str(self).\n     |\n     |  ----------------------------------------------------------------------\n     |  Static methods inherited from OSError:\n     |\n     |  __new__(*args, **kwargs) class method of OSError\n     |      Create and return a new object.  See help(type) for accurate signature.\n     |\n     |  ----------------------------------------------------------------------\n     |  Data descriptors inherited from OSError:\n     |\n     |  characters_written\n     |\n     |  errno\n     |      POSIX exception code\n     |\n     |  filename\n     |      exception filename\n     |\n     |  filename2\n     |      second exception filename\n     |\n     |  strerror\n     |      exception strerror\n     |\n     |  ----------------------------------------------------------------------\n     |  Methods inherited from BaseException:\n     |\n     |  __getattribute__(self, name, /)\n     |      Return getattr(self, name).\n     |\n     |  __repr__(self, /)\n     |      Return repr(self).\n     |\n     |  __setstate__(...)\n     |\n     |  add_note(...)\n     |      Exception.add_note(note) --\n     |      add a note to the exception\n     |\n     |  with_traceback(...)\n     |      Exception.with_traceback(tb) --\n     |      set self.__traceback__ to tb and return self.\n     |\n     |  ----------------------------------------------------------------------\n     |  Data descriptors inherited from BaseException:\n     |\n     |  __cause__\n     |      exception cause\n     |\n     |  __context__\n     |      exception context\n     |\n     |  __dict__\n     |\n     |  __suppress_context__\n     |\n     |  __traceback__\n     |\n     |  args\n\n    class KeyError(LookupError)\n     |  Mapping key not found.\n     |\n     |  Method resolution order:\n     |      KeyError\n     |      LookupError\n     |      Exception\n     |      BaseException\n     |      object\n     |\n     |  Methods defined here:\n     |\n     |  __init__(self, /, *args, **kwargs)\n     |      Initialize self.  See help(type(self)) for accurate signature.\n     |\n     |  __str__(self, /)\n     |      Return str(self).\n     |\n     |  ----------------------------------------------------------------------\n     |  Static methods inherited from LookupError:\n     |\n     |  __new__(*args, **kwargs) class method of LookupError\n     |      Create and return a new object.  See help(type) for accurate signature.\n     |\n     |  ----------------------------------------------------------------------\n     |  Methods inherited from BaseException:\n     |\n     |  __getattribute__(self, name, /)\n     |      Return getattr(self, name).\n     |\n     |  __reduce__(...)\n     |      Helper for pickle.\n     |\n     |  __repr__(self, /)\n     |      Return repr(self).\n     |\n     |  __setstate__(...)\n     |\n     |  add_note(...)\n     |      Exception.add_note(note) --\n     |      add a note to the exception\n     |\n     |  with_traceback(...)\n     |      Exception.with_traceback(tb) --\n     |      set self.__traceback__ to tb and return self.\n     |\n     |  ----------------------------------------------------------------------\n     |  Data descriptors inherited from BaseException:\n     |\n     |  __cause__\n     |      exception cause\n     |\n     |  __context__\n     |      exception context\n     |\n     |  __dict__\n     |\n     |  __suppress_context__\n     |\n     |  __traceback__\n     |\n     |  args\n\n    class KeyboardInterrupt(BaseException)\n     |  Program interrupted by user.\n     |\n     |  Method resolution order:\n     |      KeyboardInterrupt\n     |      BaseException\n     |      object\n     |\n     |  Methods defined here:\n     |\n     |  __init__(self, /, *args, **kwargs)\n     |      Initialize self.  See help(type(self)) for accurate signature.\n     |\n     |  ----------------------------------------------------------------------\n     |  Static methods defined here:\n     |\n     |  __new__(*args, **kwargs)\n     |      Create and return a new object.  See help(type) for accurate signature.\n     |\n     |  ----------------------------------------------------------------------\n     |  Methods inherited from BaseException:\n     |\n     |  __getattribute__(self, name, /)\n     |      Return getattr(self, name).\n     |\n     |  __reduce__(...)\n     |      Helper for pickle.\n     |\n     |  __repr__(self, /)\n     |      Return repr(self).\n     |\n     |  __setstate__(...)\n     |\n     |  __str__(self, /)\n     |      Return str(self).\n     |\n     |  add_note(...)\n     |      Exception.add_note(note) --\n     |      add a note to the exception\n     |\n     |  with_traceback(...)\n     |      Exception.with_traceback(tb) --\n     |      set self.__traceback__ to tb and return self.\n     |\n     |  ----------------------------------------------------------------------\n     |  Data descriptors inherited from BaseException:\n     |\n     |  __cause__\n     |      exception cause\n     |\n     |  __context__\n     |      exception context\n     |\n     |  __dict__\n     |\n     |  __suppress_context__\n     |\n     |  __traceback__\n     |\n     |  args\n\n    class LookupError(Exception)\n     |  Base class for lookup errors.\n     |\n     |  Method resolution order:\n     |      LookupError\n     |      Exception\n     |      BaseException\n     |      object\n     |\n     |  Built-in subclasses:\n     |      IndexError\n     |      KeyError\n     |\n     |  Methods defined here:\n     |\n     |  __init__(self, /, *args, **kwargs)\n     |      Initialize self.  See help(type(self)) for accurate signature.\n     |\n     |  ----------------------------------------------------------------------\n     |  Static methods defined here:\n     |\n     |  __new__(*args, **kwargs)\n     |      Create and return a new object.  See help(type) for accurate signature.\n     |\n     |  ----------------------------------------------------------------------\n     |  Methods inherited from BaseException:\n     |\n     |  __getattribute__(self, name, /)\n     |      Return getattr(self, name).\n     |\n     |  __reduce__(...)\n     |      Helper for pickle.\n     |\n     |  __repr__(self, /)\n     |      Return repr(self).\n     |\n     |  __setstate__(...)\n     |\n     |  __str__(self, /)\n     |      Return str(self).\n     |\n     |  add_note(...)\n     |      Exception.add_note(note) --\n     |      add a note to the exception\n     |\n     |  with_traceback(...)\n     |      Exception.with_traceback(tb) --\n     |      set self.__traceback__ to tb and return self.\n     |\n     |  ----------------------------------------------------------------------\n     |  Data descriptors inherited from BaseException:\n     |\n     |  __cause__\n     |      exception cause\n     |\n     |  __context__\n     |      exception context\n     |\n     |  __dict__\n     |\n     |  __suppress_context__\n     |\n     |  __traceback__\n     |\n     |  args\n\n    class MemoryError(Exception)\n     |  Out of memory.\n     |\n     |  Method resolution order:\n     |      MemoryError\n     |      Exception\n     |      BaseException\n     |      object\n     |\n     |  Methods defined here:\n     |\n     |  __init__(self, /, *args, **kwargs)\n     |      Initialize self.  See help(type(self)) for accurate signature.\n     |\n     |  ----------------------------------------------------------------------\n     |  Static methods defined here:\n     |\n     |  __new__(*args, **kwargs)\n     |      Create and return a new object.  See help(type) for accurate signature.\n     |\n     |  ----------------------------------------------------------------------\n     |  Methods inherited from BaseException:\n     |\n     |  __getattribute__(self, name, /)\n     |      Return getattr(self, name).\n     |\n     |  __reduce__(...)\n     |      Helper for pickle.\n     |\n     |  __repr__(self, /)\n     |      Return repr(self).\n     |\n     |  __setstate__(...)\n     |\n     |  __str__(self, /)\n     |      Return str(self).\n     |\n     |  add_note(...)\n     |      Exception.add_note(note) --\n     |      add a note to the exception\n     |\n     |  with_traceback(...)\n     |      Exception.with_traceback(tb) --\n     |      set self.__traceback__ to tb and return self.\n     |\n     |  ----------------------------------------------------------------------\n     |  Data descriptors inherited from BaseException:\n     |\n     |  __cause__\n     |      exception cause\n     |\n     |  __context__\n     |      exception context\n     |\n     |  __dict__\n     |\n     |  __suppress_context__\n     |\n     |  __traceback__\n     |\n     |  args\n\n    class ModuleNotFoundError(ImportError)\n     |  Module not found.\n     |\n     |  Method resolution order:\n     |      ModuleNotFoundError\n     |      ImportError\n     |      Exception\n     |      BaseException\n     |      object\n     |\n     |  Methods defined here:\n     |\n     |  __init__(self, /, *args, **kwargs)\n     |      Initialize self.  See help(type(self)) for accurate signature.\n     |\n     |  ----------------------------------------------------------------------\n     |  Methods inherited from ImportError:\n     |\n     |  __reduce__(...)\n     |      Helper for pickle.\n     |\n     |  __str__(self, /)\n     |      Return str(self).\n     |\n     |  ----------------------------------------------------------------------\n     |  Data descriptors inherited from ImportError:\n     |\n     |  msg\n     |      exception message\n     |\n     |  name\n     |      module name\n     |\n     |  name_from\n     |      name imported from module\n     |\n     |  path\n     |      module path\n     |\n     |  ----------------------------------------------------------------------\n     |  Static methods inherited from Exception:\n     |\n     |  __new__(*args, **kwargs) class method of Exception\n     |      Create and return a new object.  See help(type) for accurate signature.\n     |\n     |  ----------------------------------------------------------------------\n     |  Methods inherited from BaseException:\n     |\n     |  __getattribute__(self, name, /)\n     |      Return getattr(self, name).\n     |\n     |  __repr__(self, /)\n     |      Return repr(self).\n     |\n     |  __setstate__(...)\n     |\n     |  add_note(...)\n     |      Exception.add_note(note) --\n     |      add a note to the exception\n     |\n     |  with_traceback(...)\n     |      Exception.with_traceback(tb) --\n     |      set self.__traceback__ to tb and return self.\n     |\n     |  ----------------------------------------------------------------------\n     |  Data descriptors inherited from BaseException:\n     |\n     |  __cause__\n     |      exception cause\n     |\n     |  __context__\n     |      exception context\n     |\n     |  __dict__\n     |\n     |  __suppress_context__\n     |\n     |  __traceback__\n     |\n     |  args\n\n    class NameError(Exception)\n     |  Name not found globally.\n     |\n     |  Method resolution order:\n     |      NameError\n     |      Exception\n     |      BaseException\n     |      object\n     |\n     |  Built-in subclasses:\n     |      UnboundLocalError\n     |\n     |  Methods defined here:\n     |\n     |  __init__(self, /, *args, **kwargs)\n     |      Initialize self.  See help(type(self)) for accurate signature.\n     |\n     |  __str__(self, /)\n     |      Return str(self).\n     |\n     |  ----------------------------------------------------------------------\n     |  Data descriptors defined here:\n     |\n     |  name\n     |      name\n     |\n     |  ----------------------------------------------------------------------\n     |  Static methods inherited from Exception:\n     |\n     |  __new__(*args, **kwargs) class method of Exception\n     |      Create and return a new object.  See help(type) for accurate signature.\n     |\n     |  ----------------------------------------------------------------------\n     |  Methods inherited from BaseException:\n     |\n     |  __getattribute__(self, name, /)\n     |      Return getattr(self, name).\n     |\n     |  __reduce__(...)\n     |      Helper for pickle.\n     |\n     |  __repr__(self, /)\n     |      Return repr(self).\n     |\n     |  __setstate__(...)\n     |\n     |  add_note(...)\n     |      Exception.add_note(note) --\n     |      add a note to the exception\n     |\n     |  with_traceback(...)\n     |      Exception.with_traceback(tb) --\n     |      set self.__traceback__ to tb and return self.\n     |\n     |  ----------------------------------------------------------------------\n     |  Data descriptors inherited from BaseException:\n     |\n     |  __cause__\n     |      exception cause\n     |\n     |  __context__\n     |      exception context\n     |\n     |  __dict__\n     |\n     |  __suppress_context__\n     |\n     |  __traceback__\n     |\n     |  args\n\n    class NotADirectoryError(OSError)\n     |  Operation only works on directories.\n     |\n     |  Method resolution order:\n     |      NotADirectoryError\n     |      OSError\n     |      Exception\n     |      BaseException\n     |      object\n     |\n     |  Methods defined here:\n     |\n     |  __init__(self, /, *args, **kwargs)\n     |      Initialize self.  See help(type(self)) for accurate signature.\n     |\n     |  ----------------------------------------------------------------------\n     |  Methods inherited from OSError:\n     |\n     |  __reduce__(...)\n     |      Helper for pickle.\n     |\n     |  __str__(self, /)\n     |      Return str(self).\n     |\n     |  ----------------------------------------------------------------------\n     |  Static methods inherited from OSError:\n     |\n     |  __new__(*args, **kwargs) class method of OSError\n     |      Create and return a new object.  See help(type) for accurate signature.\n     |\n     |  ----------------------------------------------------------------------\n     |  Data descriptors inherited from OSError:\n     |\n     |  characters_written\n     |\n     |  errno\n     |      POSIX exception code\n     |\n     |  filename\n     |      exception filename\n     |\n     |  filename2\n     |      second exception filename\n     |\n     |  strerror\n     |      exception strerror\n     |\n     |  ----------------------------------------------------------------------\n     |  Methods inherited from BaseException:\n     |\n     |  __getattribute__(self, name, /)\n     |      Return getattr(self, name).\n     |\n     |  __repr__(self, /)\n     |      Return repr(self).\n     |\n     |  __setstate__(...)\n     |\n     |  add_note(...)\n     |      Exception.add_note(note) --\n     |      add a note to the exception\n     |\n     |  with_traceback(...)\n     |      Exception.with_traceback(tb) --\n     |      set self.__traceback__ to tb and return self.\n     |\n     |  ----------------------------------------------------------------------\n     |  Data descriptors inherited from BaseException:\n     |\n     |  __cause__\n     |      exception cause\n     |\n     |  __context__\n     |      exception context\n     |\n     |  __dict__\n     |\n     |  __suppress_context__\n     |\n     |  __traceback__\n     |\n     |  args\n\n    class NotImplementedError(RuntimeError)\n     |  Method or function hasn't been implemented yet.\n     |\n     |  Method resolution order:\n     |      NotImplementedError\n     |      RuntimeError\n     |      Exception\n     |      BaseException\n     |      object\n     |\n     |  Methods defined here:\n     |\n     |  __init__(self, /, *args, **kwargs)\n     |      Initialize self.  See help(type(self)) for accurate signature.\n     |\n     |  ----------------------------------------------------------------------\n     |  Static methods defined here:\n     |\n     |  __new__(*args, **kwargs)\n     |      Create and return a new object.  See help(type) for accurate signature.\n     |\n     |  ----------------------------------------------------------------------\n     |  Methods inherited from BaseException:\n     |\n     |  __getattribute__(self, name, /)\n     |      Return getattr(self, name).\n     |\n     |  __reduce__(...)\n     |      Helper for pickle.\n     |\n     |  __repr__(self, /)\n     |      Return repr(self).\n     |\n     |  __setstate__(...)\n     |\n     |  __str__(self, /)\n     |      Return str(self).\n     |\n     |  add_note(...)\n     |      Exception.add_note(note) --\n     |      add a note to the exception\n     |\n     |  with_traceback(...)\n     |      Exception.with_traceback(tb) --\n     |      set self.__traceback__ to tb and return self.\n     |\n     |  ----------------------------------------------------------------------\n     |  Data descriptors inherited from BaseException:\n     |\n     |  __cause__\n     |      exception cause\n     |\n     |  __context__\n     |      exception context\n     |\n     |  __dict__\n     |\n     |  __suppress_context__\n     |\n     |  __traceback__\n     |\n     |  args\n\n    class OSError(Exception)\n     |  Base class for I/O related errors.\n     |\n     |  Method resolution order:\n     |      OSError\n     |      Exception\n     |      BaseException\n     |      object\n     |\n     |  Built-in subclasses:\n     |      BlockingIOError\n     |      ChildProcessError\n     |      ConnectionError\n     |      FileExistsError\n     |      ... and 7 other subclasses\n     |\n     |  Methods defined here:\n     |\n     |  __init__(self, /, *args, **kwargs)\n     |      Initialize self.  See help(type(self)) for accurate signature.\n     |\n     |  __reduce__(...)\n     |      Helper for pickle.\n     |\n     |  __str__(self, /)\n     |      Return str(self).\n     |\n     |  ----------------------------------------------------------------------\n     |  Static methods defined here:\n     |\n     |  __new__(*args, **kwargs)\n     |      Create and return a new object.  See help(type) for accurate signature.\n     |\n     |  ----------------------------------------------------------------------\n     |  Data descriptors defined here:\n     |\n     |  characters_written\n     |\n     |  errno\n     |      POSIX exception code\n     |\n     |  filename\n     |      exception filename\n     |\n     |  filename2\n     |      second exception filename\n     |\n     |  strerror\n     |      exception strerror\n     |\n     |  ----------------------------------------------------------------------\n     |  Methods inherited from BaseException:\n     |\n     |  __getattribute__(self, name, /)\n     |      Return getattr(self, name).\n     |\n     |  __repr__(self, /)\n     |      Return repr(self).\n     |\n     |  __setstate__(...)\n     |\n     |  add_note(...)\n     |      Exception.add_note(note) --\n     |      add a note to the exception\n     |\n     |  with_traceback(...)\n     |      Exception.with_traceback(tb) --\n     |      set self.__traceback__ to tb and return self.\n     |\n     |  ----------------------------------------------------------------------\n     |  Data descriptors inherited from BaseException:\n     |\n     |  __cause__\n     |      exception cause\n     |\n     |  __context__\n     |      exception context\n     |\n     |  __dict__\n     |\n     |  __suppress_context__\n     |\n     |  __traceback__\n     |\n     |  args\n\n    class OverflowError(ArithmeticError)\n     |  Result too large to be represented.\n     |\n     |  Method resolution order:\n     |      OverflowError\n     |      ArithmeticError\n     |      Exception\n     |      BaseException\n     |      object\n     |\n     |  Methods defined here:\n     |\n     |  __init__(self, /, *args, **kwargs)\n     |      Initialize self.  See help(type(self)) for accurate signature.\n     |\n     |  ----------------------------------------------------------------------\n     |  Static methods defined here:\n     |\n     |  __new__(*args, **kwargs)\n     |      Create and return a new object.  See help(type) for accurate signature.\n     |\n     |  ----------------------------------------------------------------------\n     |  Methods inherited from BaseException:\n     |\n     |  __getattribute__(self, name, /)\n     |      Return getattr(self, name).\n     |\n     |  __reduce__(...)\n     |      Helper for pickle.\n     |\n     |  __repr__(self, /)\n     |      Return repr(self).\n     |\n     |  __setstate__(...)\n     |\n     |  __str__(self, /)\n     |      Return str(self).\n     |\n     |  add_note(...)\n     |      Exception.add_note(note) --\n     |      add a note to the exception\n     |\n     |  with_traceback(...)\n     |      Exception.with_traceback(tb) --\n     |      set self.__traceback__ to tb and return self.\n     |\n     |  ----------------------------------------------------------------------\n     |  Data descriptors inherited from BaseException:\n     |\n     |  __cause__\n     |      exception cause\n     |\n     |  __context__\n     |      exception context\n     |\n     |  __dict__\n     |\n     |  __suppress_context__\n     |\n     |  __traceback__\n     |\n     |  args\n\n    class PendingDeprecationWarning(Warning)\n     |  Base class for warnings about features which will be deprecated\n     |  in the future.\n     |\n     |  Method resolution order:\n     |      PendingDeprecationWarning\n     |      Warning\n     |      Exception\n     |      BaseException\n     |      object\n     |\n     |  Methods defined here:\n     |\n     |  __init__(self, /, *args, **kwargs)\n     |      Initialize self.  See help(type(self)) for accurate signature.\n     |\n     |  ----------------------------------------------------------------------\n     |  Static methods defined here:\n     |\n     |  __new__(*args, **kwargs)\n     |      Create and return a new object.  See help(type) for accurate signature.\n     |\n     |  ----------------------------------------------------------------------\n     |  Methods inherited from BaseException:\n     |\n     |  __getattribute__(self, name, /)\n     |      Return getattr(self, name).\n     |\n     |  __reduce__(...)\n     |      Helper for pickle.\n     |\n     |  __repr__(self, /)\n     |      Return repr(self).\n     |\n     |  __setstate__(...)\n     |\n     |  __str__(self, /)\n     |      Return str(self).\n     |\n     |  add_note(...)\n     |      Exception.add_note(note) --\n     |      add a note to the exception\n     |\n     |  with_traceback(...)\n     |      Exception.with_traceback(tb) --\n     |      set self.__traceback__ to tb and return self.\n     |\n     |  ----------------------------------------------------------------------\n     |  Data descriptors inherited from BaseException:\n     |\n     |  __cause__\n     |      exception cause\n     |\n     |  __context__\n     |      exception context\n     |\n     |  __dict__\n     |\n     |  __suppress_context__\n     |\n     |  __traceback__\n     |\n     |  args\n\n    class PermissionError(OSError)\n     |  Not enough permissions.\n     |\n     |  Method resolution order:\n     |      PermissionError\n     |      OSError\n     |      Exception\n     |      BaseException\n     |      object\n     |\n     |  Methods defined here:\n     |\n     |  __init__(self, /, *args, **kwargs)\n     |      Initialize self.  See help(type(self)) for accurate signature.\n     |\n     |  ----------------------------------------------------------------------\n     |  Methods inherited from OSError:\n     |\n     |  __reduce__(...)\n     |      Helper for pickle.\n     |\n     |  __str__(self, /)\n     |      Return str(self).\n     |\n     |  ----------------------------------------------------------------------\n     |  Static methods inherited from OSError:\n     |\n     |  __new__(*args, **kwargs) class method of OSError\n     |      Create and return a new object.  See help(type) for accurate signature.\n     |\n     |  ----------------------------------------------------------------------\n     |  Data descriptors inherited from OSError:\n     |\n     |  characters_written\n     |\n     |  errno\n     |      POSIX exception code\n     |\n     |  filename\n     |      exception filename\n     |\n     |  filename2\n     |      second exception filename\n     |\n     |  strerror\n     |      exception strerror\n     |\n     |  ----------------------------------------------------------------------\n     |  Methods inherited from BaseException:\n     |\n     |  __getattribute__(self, name, /)\n     |      Return getattr(self, name).\n     |\n     |  __repr__(self, /)\n     |      Return repr(self).\n     |\n     |  __setstate__(...)\n     |\n     |  add_note(...)\n     |      Exception.add_note(note) --\n     |      add a note to the exception\n     |\n     |  with_traceback(...)\n     |      Exception.with_traceback(tb) --\n     |      set self.__traceback__ to tb and return self.\n     |\n     |  ----------------------------------------------------------------------\n     |  Data descriptors inherited from BaseException:\n     |\n     |  __cause__\n     |      exception cause\n     |\n     |  __context__\n     |      exception context\n     |\n     |  __dict__\n     |\n     |  __suppress_context__\n     |\n     |  __traceback__\n     |\n     |  args\n\n    class ProcessLookupError(OSError)\n     |  Process not found.\n     |\n     |  Method resolution order:\n     |      ProcessLookupError\n     |      OSError\n     |      Exception\n     |      BaseException\n     |      object\n     |\n     |  Methods defined here:\n     |\n     |  __init__(self, /, *args, **kwargs)\n     |      Initialize self.  See help(type(self)) for accurate signature.\n     |\n     |  ----------------------------------------------------------------------\n     |  Methods inherited from OSError:\n     |\n     |  __reduce__(...)\n     |      Helper for pickle.\n     |\n     |  __str__(self, /)\n     |      Return str(self).\n     |\n     |  ----------------------------------------------------------------------\n     |  Static methods inherited from OSError:\n     |\n     |  __new__(*args, **kwargs) class method of OSError\n     |      Create and return a new object.  See help(type) for accurate signature.\n     |\n     |  ----------------------------------------------------------------------\n     |  Data descriptors inherited from OSError:\n     |\n     |  characters_written\n     |\n     |  errno\n     |      POSIX exception code\n     |\n     |  filename\n     |      exception filename\n     |\n     |  filename2\n     |      second exception filename\n     |\n     |  strerror\n     |      exception strerror\n     |\n     |  ----------------------------------------------------------------------\n     |  Methods inherited from BaseException:\n     |\n     |  __getattribute__(self, name, /)\n     |      Return getattr(self, name).\n     |\n     |  __repr__(self, /)\n     |      Return repr(self).\n     |\n     |  __setstate__(...)\n     |\n     |  add_note(...)\n     |      Exception.add_note(note) --\n     |      add a note to the exception\n     |\n     |  with_traceback(...)\n     |      Exception.with_traceback(tb) --\n     |      set self.__traceback__ to tb and return self.\n     |\n     |  ----------------------------------------------------------------------\n     |  Data descriptors inherited from BaseException:\n     |\n     |  __cause__\n     |      exception cause\n     |\n     |  __context__\n     |      exception context\n     |\n     |  __dict__\n     |\n     |  __suppress_context__\n     |\n     |  __traceback__\n     |\n     |  args\n\n    class RecursionError(RuntimeError)\n     |  Recursion limit exceeded.\n     |\n     |  Method resolution order:\n     |      RecursionError\n     |      RuntimeError\n     |      Exception\n     |      BaseException\n     |      object\n     |\n     |  Methods defined here:\n     |\n     |  __init__(self, /, *args, **kwargs)\n     |      Initialize self.  See help(type(self)) for accurate signature.\n     |\n     |  ----------------------------------------------------------------------\n     |  Static methods defined here:\n     |\n     |  __new__(*args, **kwargs)\n     |      Create and return a new object.  See help(type) for accurate signature.\n     |\n     |  ----------------------------------------------------------------------\n     |  Methods inherited from BaseException:\n     |\n     |  __getattribute__(self, name, /)\n     |      Return getattr(self, name).\n     |\n     |  __reduce__(...)\n     |      Helper for pickle.\n     |\n     |  __repr__(self, /)\n     |      Return repr(self).\n     |\n     |  __setstate__(...)\n     |\n     |  __str__(self, /)\n     |      Return str(self).\n     |\n     |  add_note(...)\n     |      Exception.add_note(note) --\n     |      add a note to the exception\n     |\n     |  with_traceback(...)\n     |      Exception.with_traceback(tb) --\n     |      set self.__traceback__ to tb and return self.\n     |\n     |  ----------------------------------------------------------------------\n     |  Data descriptors inherited from BaseException:\n     |\n     |  __cause__\n     |      exception cause\n     |\n     |  __context__\n     |      exception context\n     |\n     |  __dict__\n     |\n     |  __suppress_context__\n     |\n     |  __traceback__\n     |\n     |  args\n\n    class ReferenceError(Exception)\n     |  Weak ref proxy used after referent went away.\n     |\n     |  Method resolution order:\n     |      ReferenceError\n     |      Exception\n     |      BaseException\n     |      object\n     |\n     |  Methods defined here:\n     |\n     |  __init__(self, /, *args, **kwargs)\n     |      Initialize self.  See help(type(self)) for accurate signature.\n     |\n     |  ----------------------------------------------------------------------\n     |  Static methods defined here:\n     |\n     |  __new__(*args, **kwargs)\n     |      Create and return a new object.  See help(type) for accurate signature.\n     |\n     |  ----------------------------------------------------------------------\n     |  Methods inherited from BaseException:\n     |\n     |  __getattribute__(self, name, /)\n     |      Return getattr(self, name).\n     |\n     |  __reduce__(...)\n     |      Helper for pickle.\n     |\n     |  __repr__(self, /)\n     |      Return repr(self).\n     |\n     |  __setstate__(...)\n     |\n     |  __str__(self, /)\n     |      Return str(self).\n     |\n     |  add_note(...)\n     |      Exception.add_note(note) --\n     |      add a note to the exception\n     |\n     |  with_traceback(...)\n     |      Exception.with_traceback(tb) --\n     |      set self.__traceback__ to tb and return self.\n     |\n     |  ----------------------------------------------------------------------\n     |  Data descriptors inherited from BaseException:\n     |\n     |  __cause__\n     |      exception cause\n     |\n     |  __context__\n     |      exception context\n     |\n     |  __dict__\n     |\n     |  __suppress_context__\n     |\n     |  __traceback__\n     |\n     |  args\n\n    class ResourceWarning(Warning)\n     |  Base class for warnings about resource usage.\n     |\n     |  Method resolution order:\n     |      ResourceWarning\n     |      Warning\n     |      Exception\n     |      BaseException\n     |      object\n     |\n     |  Methods defined here:\n     |\n     |  __init__(self, /, *args, **kwargs)\n     |      Initialize self.  See help(type(self)) for accurate signature.\n     |\n     |  ----------------------------------------------------------------------\n     |  Static methods defined here:\n     |\n     |  __new__(*args, **kwargs)\n     |      Create and return a new object.  See help(type) for accurate signature.\n     |\n     |  ----------------------------------------------------------------------\n     |  Methods inherited from BaseException:\n     |\n     |  __getattribute__(self, name, /)\n     |      Return getattr(self, name).\n     |\n     |  __reduce__(...)\n     |      Helper for pickle.\n     |\n     |  __repr__(self, /)\n     |      Return repr(self).\n     |\n     |  __setstate__(...)\n     |\n     |  __str__(self, /)\n     |      Return str(self).\n     |\n     |  add_note(...)\n     |      Exception.add_note(note) --\n     |      add a note to the exception\n     |\n     |  with_traceback(...)\n     |      Exception.with_traceback(tb) --\n     |      set self.__traceback__ to tb and return self.\n     |\n     |  ----------------------------------------------------------------------\n     |  Data descriptors inherited from BaseException:\n     |\n     |  __cause__\n     |      exception cause\n     |\n     |  __context__\n     |      exception context\n     |\n     |  __dict__\n     |\n     |  __suppress_context__\n     |\n     |  __traceback__\n     |\n     |  args\n\n    class RuntimeError(Exception)\n     |  Unspecified run-time error.\n     |\n     |  Method resolution order:\n     |      RuntimeError\n     |      Exception\n     |      BaseException\n     |      object\n     |\n     |  Built-in subclasses:\n     |      NotImplementedError\n     |      RecursionError\n     |\n     |  Methods defined here:\n     |\n     |  __init__(self, /, *args, **kwargs)\n     |      Initialize self.  See help(type(self)) for accurate signature.\n     |\n     |  ----------------------------------------------------------------------\n     |  Static methods defined here:\n     |\n     |  __new__(*args, **kwargs)\n     |      Create and return a new object.  See help(type) for accurate signature.\n     |\n     |  ----------------------------------------------------------------------\n     |  Methods inherited from BaseException:\n     |\n     |  __getattribute__(self, name, /)\n     |      Return getattr(self, name).\n     |\n     |  __reduce__(...)\n     |      Helper for pickle.\n     |\n     |  __repr__(self, /)\n     |      Return repr(self).\n     |\n     |  __setstate__(...)\n     |\n     |  __str__(self, /)\n     |      Return str(self).\n     |\n     |  add_note(...)\n     |      Exception.add_note(note) --\n     |      add a note to the exception\n     |\n     |  with_traceback(...)\n     |      Exception.with_traceback(tb) --\n     |      set self.__traceback__ to tb and return self.\n     |\n     |  ----------------------------------------------------------------------\n     |  Data descriptors inherited from BaseException:\n     |\n     |  __cause__\n     |      exception cause\n     |\n     |  __context__\n     |      exception context\n     |\n     |  __dict__\n     |\n     |  __suppress_context__\n     |\n     |  __traceback__\n     |\n     |  args\n\n    class RuntimeWarning(Warning)\n     |  Base class for warnings about dubious runtime behavior.\n     |\n     |  Method resolution order:\n     |      RuntimeWarning\n     |      Warning\n     |      Exception\n     |      BaseException\n     |      object\n     |\n     |  Methods defined here:\n     |\n     |  __init__(self, /, *args, **kwargs)\n     |      Initialize self.  See help(type(self)) for accurate signature.\n     |\n     |  --------------------------\n[too much output ...]"
                }
            ],
            "source": [
                "help(__import__('builtins'))"
            ]
        },
        {
            "cell_type": "code",
            "execution_count": 143,
            "metadata": {},
            "outputs": [
                {
                    "data": {
                        "text/plain": "4"
                    },
                    "execution_count": 143,
                    "metadata": {},
                    "output_type": "execute_result"
                }
            ],
            "source": [
                "abs(3-7)"
            ]
        },
        {
            "cell_type": "code",
            "execution_count": 144,
            "metadata": {},
            "outputs": [
                {
                    "data": {
                        "text/plain": "5.0"
                    },
                    "execution_count": 144,
                    "metadata": {},
                    "output_type": "execute_result"
                }
            ],
            "source": [
                "abs(-3+4j)"
            ]
        },
        {
            "cell_type": "code",
            "execution_count": 145,
            "metadata": {},
            "outputs": [
                {
                    "data": {
                        "text/plain": "False"
                    },
                    "execution_count": 145,
                    "metadata": {},
                    "output_type": "execute_result"
                }
            ],
            "source": [
                "any([False, 0, ()])"
            ]
        },
        {
            "cell_type": "code",
            "execution_count": 146,
            "metadata": {},
            "outputs": [
                {
                    "data": {
                        "text/plain": "True"
                    },
                    "execution_count": 146,
                    "metadata": {},
                    "output_type": "execute_result"
                }
            ],
            "source": [
                "a = [n*n-3 for n in range(100)]\n",
                "all(a)"
            ]
        },
        {
            "cell_type": "code",
            "execution_count": 147,
            "metadata": {},
            "outputs": [
                {
                    "data": {
                        "text/plain": "True"
                    },
                    "execution_count": 147,
                    "metadata": {},
                    "output_type": "execute_result"
                }
            ],
            "source": [
                "any([n * n == 100 for n in range(5, -20, -1)])"
            ]
        },
        {
            "cell_type": "code",
            "execution_count": 148,
            "metadata": {},
            "outputs": [
                {
                    "data": {
                        "text/plain": "False"
                    },
                    "execution_count": 148,
                    "metadata": {},
                    "output_type": "execute_result"
                }
            ],
            "source": [
                "all([n * n for n in range(5, -20, -1)])"
            ]
        },
        {
            "cell_type": "code",
            "execution_count": 149,
            "metadata": {},
            "outputs": [
                {
                    "data": {
                        "text/plain": "False"
                    },
                    "execution_count": 149,
                    "metadata": {},
                    "output_type": "execute_result"
                }
            ],
            "source": [
                "any([])"
            ]
        },
        {
            "cell_type": "code",
            "execution_count": 153,
            "metadata": {},
            "outputs": [
                {
                    "data": {
                        "text/plain": "True"
                    },
                    "execution_count": 153,
                    "metadata": {},
                    "output_type": "execute_result"
                }
            ],
            "source": [
                "any([[0]])"
            ]
        },
        {
            "cell_type": "code",
            "execution_count": 154,
            "metadata": {},
            "outputs": [
                {
                    "data": {
                        "text/plain": "{3: 9, 4: 6}"
                    },
                    "execution_count": 154,
                    "metadata": {},
                    "output_type": "execute_result"
                }
            ],
            "source": [
                "a = [(3, 5), (4, 6), (3, 9)]\n",
                "dict(a)"
            ]
        },
        {
            "cell_type": "code",
            "execution_count": 155,
            "metadata": {},
            "outputs": [
                {
                    "ename": "TypeError",
                    "evalue": "cannot convert dictionary update sequence element #0 to a sequence",
                    "output_type": "error",
                    "traceback": [
                        "\u001b[0;31m---------------------------------------------------------------------------\u001b[0m",
                        "\u001b[0;31mTypeError\u001b[0m                                 Traceback (most recent call last)",
                        "Cell \u001b[0;32mIn[1], line 1\u001b[0m\n\u001b[0;32m----\u003e 1\u001b[0m \u001b[38;5;28;43mdict\u001b[39;49m\u001b[43m(\u001b[49m\u001b[43m[\u001b[49m\u001b[38;5;241;43m3\u001b[39;49m\u001b[43m,\u001b[49m\u001b[43m \u001b[49m\u001b[38;5;241;43m5\u001b[39;49m\u001b[43m,\u001b[49m\u001b[43m \u001b[49m\u001b[38;5;241;43m7\u001b[39;49m\u001b[43m]\u001b[49m\u001b[43m)\u001b[49m\n",
                        "\u001b[0;31mTypeError\u001b[0m: cannot convert dictionary update sequence element #0 to a sequence"
                    ]
                }
            ],
            "source": [
                "dict([3, 5, 7])"
            ]
        },
        {
            "cell_type": "code",
            "execution_count": 156,
            "metadata": {},
            "outputs": [
                {
                    "data": {
                        "text/plain": "{0: 'a', 1: 'b', 2: 'c'}"
                    },
                    "execution_count": 156,
                    "metadata": {},
                    "output_type": "execute_result"
                }
            ],
            "source": [
                "dict(enumerate('abc'))"
            ]
        },
        {
            "cell_type": "code",
            "execution_count": 157,
            "metadata": {},
            "outputs": [
                {
                    "data": {
                        "text/plain": "{'a': 'e', 'b': 'f', 'c': 'g'}"
                    },
                    "execution_count": 157,
                    "metadata": {},
                    "output_type": "execute_result"
                }
            ],
            "source": [
                "dict(zip('abcd', 'efg'))"
            ]
        },
        {
            "cell_type": "code",
            "execution_count": 158,
            "metadata": {},
            "outputs": [
                {
                    "data": {
                        "text/plain": "{'a': 'b', 'c': 'd'}"
                    },
                    "execution_count": 158,
                    "metadata": {},
                    "output_type": "execute_result"
                }
            ],
            "source": [
                "dict(['ab', 'cd'])"
            ]
        },
        {
            "cell_type": "code",
            "execution_count": 159,
            "metadata": {},
            "outputs": [
                {
                    "data": {
                        "text/plain": "{(0, 1): 2}"
                    },
                    "execution_count": 159,
                    "metadata": {},
                    "output_type": "execute_result"
                }
            ],
            "source": [
                "d = {}\n",
                "d[0, 1] = 2\n",
                "d"
            ]
        },
        {
            "cell_type": "code",
            "execution_count": 160,
            "metadata": {},
            "outputs": [
                {
                    "data": {
                        "text/plain": "{(0, True): 4}"
                    },
                    "execution_count": 160,
                    "metadata": {},
                    "output_type": "execute_result"
                }
            ],
            "source": [
                "d = {}\n",
                "d[0, True] = 3\n",
                "d[False, 1] = 4\n",
                "d"
            ]
        },
        {
            "cell_type": "code",
            "execution_count": 161,
            "metadata": {},
            "outputs": [
                {
                    "data": {
                        "text/plain": "[1, 2]"
                    },
                    "execution_count": 161,
                    "metadata": {},
                    "output_type": "execute_result"
                }
            ],
            "source": [
                "d = {1: 3, 2: 5}\n",
                "list(d)"
            ]
        },
        {
            "cell_type": "code",
            "execution_count": 162,
            "metadata": {},
            "outputs": [
                {
                    "data": {
                        "text/plain": "[3, 5]"
                    },
                    "execution_count": 162,
                    "metadata": {},
                    "output_type": "execute_result"
                }
            ],
            "source": [
                "d = {1: 3, 2: 5}\n",
                "list(d.values())"
            ]
        },
        {
            "cell_type": "code",
            "execution_count": 163,
            "metadata": {},
            "outputs": [
                {
                    "data": {
                        "text/plain": "[(1, 3), (2, 5)]"
                    },
                    "execution_count": 163,
                    "metadata": {},
                    "output_type": "execute_result"
                }
            ],
            "source": [
                "d = {1: 3, 2: 5}\n",
                "list(d.items())"
            ]
        },
        {
            "cell_type": "code",
            "execution_count": 164,
            "metadata": {},
            "outputs": [
                {
                    "data": {
                        "text/plain": "{1: 4, 2: 6, 0: 8}"
                    },
                    "execution_count": 164,
                    "metadata": {},
                    "output_type": "execute_result"
                }
            ],
            "source": [
                "d = {1: 3, 2: 5, 0: 7}\n",
                "for k in d:\n",
                "    d[k] += 1\n",
                "d"
            ]
        },
        {
            "cell_type": "code",
            "execution_count": 167,
            "metadata": {},
            "outputs": [
                {
                    "data": {
                        "text/plain": "{1: 5, 2: 5, 0: 8}"
                    },
                    "execution_count": 167,
                    "metadata": {},
                    "output_type": "execute_result"
                }
            ],
            "source": [
                "d = {1: 3, 2: 5, 0: 7}\n",
                "for i, k in enumerate(d):\n",
                "    d[i] += k\n",
                "d"
            ]
        },
        {
            "cell_type": "code",
            "execution_count": 168,
            "metadata": {},
            "outputs": [
                {
                    "data": {
                        "text/plain": "3345"
                    },
                    "execution_count": 168,
                    "metadata": {},
                    "output_type": "execute_result"
                }
            ],
            "source": [
                "eval('3'*4 + '+' + '4*3')"
            ]
        },
        {
            "cell_type": "code",
            "execution_count": 169,
            "metadata": {},
            "outputs": [
                {
                    "data": {
                        "text/plain": "float"
                    },
                    "execution_count": 169,
                    "metadata": {},
                    "output_type": "execute_result"
                }
            ],
            "source": [
                "type(1.0)"
            ]
        },
        {
            "cell_type": "code",
            "execution_count": 170,
            "metadata": {},
            "outputs": [
                {
                    "data": {
                        "text/plain": "type"
                    },
                    "execution_count": 170,
                    "metadata": {},
                    "output_type": "execute_result"
                }
            ],
            "source": [
                "type(type(1.0))"
            ]
        },
        {
            "cell_type": "code",
            "execution_count": 171,
            "metadata": {},
            "outputs": [
                {
                    "data": {
                        "text/plain": "type"
                    },
                    "execution_count": 171,
                    "metadata": {},
                    "output_type": "execute_result"
                }
            ],
            "source": [
                "type(type)"
            ]
        },
        {
            "cell_type": "code",
            "execution_count": 172,
            "metadata": {},
            "outputs": [
                {
                    "data": {
                        "text/plain": "True"
                    },
                    "execution_count": 172,
                    "metadata": {},
                    "output_type": "execute_result"
                }
            ],
            "source": [
                "int = type\n",
                "int(3) == int(4)"
            ]
        },
        {
            "cell_type": "code",
            "execution_count": 173,
            "metadata": {},
            "outputs": [
                {
                    "data": {
                        "text/plain": "9"
                    },
                    "execution_count": 173,
                    "metadata": {},
                    "output_type": "execute_result"
                }
            ],
            "source": [
                "x = sum\n",
                "x([1, 3, 5])"
            ]
        },
        {
            "cell_type": "code",
            "execution_count": 174,
            "metadata": {},
            "outputs": [
                {
                    "data": {
                        "text/plain": "int"
                    },
                    "execution_count": 174,
                    "metadata": {},
                    "output_type": "execute_result"
                }
            ],
            "source": [
                "k = int(1)\n",
                "k"
            ]
        },
        {
            "cell_type": "code",
            "execution_count": 175,
            "metadata": {},
            "outputs": [],
            "source": [
                "int = int(1)"
            ]
        },
        {
            "cell_type": "code",
            "execution_count": 176,
            "metadata": {},
            "outputs": [
                {
                    "data": {
                        "text/plain": "{'__name__': '__main__',\n '__doc__': 'Automatically created module for IPython interactive environment',\n '__package__': None,\n '__loader__': None,\n '__spec__': None,\n '__builtin__': \u003cmodule 'builtins' (built-in)\u003e,\n '__builtins__': \u003cmodule 'builtins' (built-in)\u003e,\n '_ih': [''],\n '_oh': {1: int},\n '_dh': [PosixPath('/home')],\n 'In': [''],\n 'Out': {1: int},\n 'get_ipython': \u003cbound method InteractiveShell.get_ipython of \u003cipykernel.zmqshell.ZMQInteractiveShell object at 0x7f7a1eeb95e0\u003e\u003e,\n 'exit': \u003cIPython.core.autocall.ZMQExitAutocall at 0x7f7a343404d0\u003e,\n 'quit': \u003cIPython.core.autocall.ZMQExitAutocall at 0x7f7a343404d0\u003e,\n 'open': \u003cfunction _io.open(file, mode='r', buffering=-1, encoding=None, errors=None, newline=None, closefd=True, opener=None)\u003e,\n '_': int,\n '__': 9,\n '___': True,\n 'a': [(3, 5), (4, 6), (3, 9)],\n '_1': int,\n 'x': \u003cfunction sum(iterable, /, start=0)\u003e,\n 'y': 'yz',\n 'b': [4, 7],\n 'i': 2,\n 'j': -6,\n 'z': (2, 'i'),\n 'li': '(3, 5, 3, 5)',\n 'd': {1: 5, 2: 5, 0: 8},\n 'e': [2],\n 'h': [2],\n 'k': int,\n 'int': int}"
                    },
                    "execution_count": 176,
                    "metadata": {},
                    "output_type": "execute_result"
                }
            ],
            "source": [
                "globals()"
            ]
        },
        {
            "cell_type": "code",
            "execution_count": 177,
            "metadata": {},
            "outputs": [
                {
                    "data": {
                        "text/plain": "False"
                    },
                    "execution_count": 177,
                    "metadata": {},
                    "output_type": "execute_result"
                }
            ],
            "source": [
                "x = []\n",
                "y = x + [4]\n",
                "id(x) == id(y)"
            ]
        },
        {
            "cell_type": "code",
            "execution_count": 178,
            "metadata": {},
            "outputs": [
                {
                    "data": {
                        "text/plain": "False"
                    },
                    "execution_count": 178,
                    "metadata": {},
                    "output_type": "execute_result"
                }
            ],
            "source": [
                "x = []\n",
                "y = x\n",
                "x = y + [4]\n",
                "id(x) == id(y)"
            ]
        },
        {
            "cell_type": "code",
            "execution_count": 179,
            "metadata": {},
            "outputs": [
                {
                    "data": {
                        "text/plain": "False"
                    },
                    "execution_count": 179,
                    "metadata": {},
                    "output_type": "execute_result"
                }
            ],
            "source": [
                "y = (3, 5)\n",
                "x = y + (6,)\n",
                "x is y        # same as id(x) == id(y)"
            ]
        },
        {
            "cell_type": "code",
            "execution_count": 180,
            "metadata": {},
            "outputs": [
                {
                    "data": {
                        "text/plain": "True"
                    },
                    "execution_count": 180,
                    "metadata": {},
                    "output_type": "execute_result"
                }
            ],
            "source": [
                "y = (3, 5)\n",
                "x = () + y\n",
                "x is y"
            ]
        },
        {
            "cell_type": "code",
            "execution_count": 181,
            "metadata": {},
            "outputs": [
                {
                    "data": {
                        "text/plain": "False"
                    },
                    "execution_count": 181,
                    "metadata": {},
                    "output_type": "execute_result"
                }
            ],
            "source": [
                "y = [3, 5]\n",
                "x = [] + y\n",
                "x is y"
            ]
        },
        {
            "cell_type": "code",
            "execution_count": 182,
            "metadata": {},
            "outputs": [
                {
                    "data": {
                        "text/plain": "str"
                    },
                    "execution_count": 182,
                    "metadata": {},
                    "output_type": "execute_result"
                }
            ],
            "source": [
                "type(input())"
            ]
        },
        {
            "cell_type": "code",
            "execution_count": 183,
            "metadata": {},
            "outputs": [
                {
                    "data": {
                        "text/plain": "['0', '1', '2', '3', '4']"
                    },
                    "execution_count": 183,
                    "metadata": {},
                    "output_type": "execute_result"
                }
            ],
            "source": [
                "list(map(str, range(5)))"
            ]
        },
        {
            "cell_type": "code",
            "execution_count": 185,
            "metadata": {},
            "outputs": [
                {
                    "data": {
                        "text/plain": "[range(1, 5), range(2, 6, 2)]"
                    },
                    "execution_count": 185,
                    "metadata": {},
                    "output_type": "execute_result"
                }
            ],
            "source": [
                "x = list(map(range, range(1, 4), range(5, 9), range(1, 3)))"
            ]
        },
        {
            "cell_type": "code",
            "execution_count": 187,
            "metadata": {},
            "outputs": [
                {
                    "data": {
                        "text/plain": "[1, 2, 3, 4, 2, 4]"
                    },
                    "execution_count": 187,
                    "metadata": {},
                    "output_type": "execute_result"
                }
            ],
            "source": [
                "x = list(map(range, range(1, 4), range(5, 9), range(1, 3)))\n",
                "[y for my_range in x for y in my_range]"
            ]
        },
        {
            "cell_type": "code",
            "execution_count": 188,
            "metadata": {},
            "outputs": [
                {
                    "data": {
                        "text/plain": "10.0"
                    },
                    "execution_count": 188,
                    "metadata": {},
                    "output_type": "execute_result"
                }
            ],
            "source": [
                "max([3, 5, 10.0, 2, 10])"
            ]
        },
        {
            "cell_type": "code",
            "execution_count": 189,
            "metadata": {},
            "outputs": [
                {
                    "data": {
                        "text/plain": "97"
                    },
                    "execution_count": 189,
                    "metadata": {},
                    "output_type": "execute_result"
                }
            ],
            "source": [
                "ord('a')"
            ]
        },
        {
            "cell_type": "code",
            "execution_count": 190,
            "metadata": {},
            "outputs": [
                {
                    "data": {
                        "text/plain": "False"
                    },
                    "execution_count": 190,
                    "metadata": {},
                    "output_type": "execute_result"
                }
            ],
            "source": [
                "'a' \u003c 'A'"
            ]
        },
        {
            "cell_type": "code",
            "execution_count": 191,
            "metadata": {},
            "outputs": [
                {
                    "data": {
                        "text/plain": "True"
                    },
                    "execution_count": 191,
                    "metadata": {},
                    "output_type": "execute_result"
                }
            ],
            "source": [
                "'AB' \u003c 'ABA'"
            ]
        },
        {
            "cell_type": "code",
            "execution_count": 192,
            "metadata": {},
            "outputs": [
                {
                    "data": {
                        "text/plain": "False"
                    },
                    "execution_count": 192,
                    "metadata": {},
                    "output_type": "execute_result"
                }
            ],
            "source": [
                "'Ab' \u003c 'ABAbabab'"
            ]
        },
        {
            "cell_type": "code",
            "execution_count": 193,
            "metadata": {},
            "outputs": [
                {
                    "data": {
                        "text/plain": "True"
                    },
                    "execution_count": 193,
                    "metadata": {},
                    "output_type": "execute_result"
                }
            ],
            "source": [
                "'AbAAAAAAA' \u003e 'ABAbabab'"
            ]
        },
        {
            "cell_type": "code",
            "execution_count": 194,
            "metadata": {},
            "outputs": [
                {
                    "data": {
                        "text/plain": "2"
                    },
                    "execution_count": 194,
                    "metadata": {},
                    "output_type": "execute_result"
                }
            ],
            "source": [
                "a = [(-1) ** x for x in range(10)]\n",
                "len(set(a))"
            ]
        },
        {
            "cell_type": "code",
            "execution_count": 195,
            "metadata": {},
            "outputs": [
                {
                    "data": {
                        "text/plain": "120"
                    },
                    "execution_count": 195,
                    "metadata": {},
                    "output_type": "execute_result"
                }
            ],
            "source": [
                "def f(a, g):\n",
                "    if a == 0:\n",
                "        return 1\n",
                "    return a * g(a-1, f)\n",
                "\n",
                "f(5, f)"
            ]
        },
        {
            "cell_type": "code",
            "execution_count": 196,
            "metadata": {},
            "outputs": [
                {
                    "data": {
                        "text/plain": "9"
                    },
                    "execution_count": 196,
                    "metadata": {},
                    "output_type": "execute_result"
                }
            ],
            "source": [
                "def f(a, b):\n",
                "    if a \u003c= 0 \u003e= b:\n",
                "        return 1\n",
                "    return f(a-1, b-2) + f(b-1, a-3)\n",
                "\n",
                "f(4, 4)"
            ]
        },
        {
            "cell_type": "code",
            "execution_count": 197,
            "metadata": {},
            "outputs": [
                {
                    "data": {
                        "text/plain": "15"
                    },
                    "execution_count": 197,
                    "metadata": {},
                    "output_type": "execute_result"
                }
            ],
            "source": [
                "def f(a, b):\n",
                "    if a != 0 != b:\n",
                "        return f(a-1, b) + f(a, b-1)\n",
                "    return 1\n",
                "\n",
                "def g(x):\n",
                "    return f(x+1, x-1)\n",
                "\n",
                "g(3)"
            ]
        },
        {
            "cell_type": "code",
            "execution_count": 0,
            "metadata": {},
            "outputs": [],
            "source": [
                "def iterative(x):\n",
                "    for i in range(x):\n",
                "        # ...\n",
                "\n",
                "def recursive(x, i=0):\n",
                "    if i == x:\n",
                "        return\n",
                "    # ...\n",
                "    re(x, i+1)"
            ]
        },
        {
            "cell_type": "code",
            "execution_count": 0,
            "metadata": {},
            "outputs": [],
            "source": [
                "a = [3, 9, 2, 1, 4]\n",
                "a.sort()"
            ]
        },
        {
            "cell_type": "code",
            "execution_count": 198,
            "metadata": {},
            "outputs": [
                {
                    "data": {
                        "text/plain": "\u003cmap at 0x7f7a1ddf6410\u003e"
                    },
                    "execution_count": 198,
                    "metadata": {},
                    "output_type": "execute_result"
                }
            ],
            "source": [
                "map(int, '12345')"
            ]
        },
        {
            "cell_type": "code",
            "execution_count": 199,
            "metadata": {},
            "outputs": [
                {
                    "name": "stdout",
                    "output_type": "stream",
                    "text": "3\na\n5\na\n7\na\n"
                }
            ],
            "source": [
                "for k in map(print, [3, 5, 7]):\n",
                "    print('a')"
            ]
        },
        {
            "cell_type": "code",
            "execution_count": 200,
            "metadata": {},
            "outputs": [
                {
                    "data": {
                        "text/plain": "\u003cmap at 0x7f7a1ddf76d0\u003e"
                    },
                    "execution_count": 200,
                    "metadata": {},
                    "output_type": "execute_result"
                }
            ],
            "source": [
                "map(print, [3, 5, 7])"
            ]
        },
        {
            "cell_type": "code",
            "execution_count": 201,
            "metadata": {},
            "outputs": [
                {
                    "name": "stdout",
                    "output_type": "stream",
                    "text": "3\n5\n7\n"
                },
                {
                    "data": {
                        "text/plain": "[None, None, None]"
                    },
                    "execution_count": 201,
                    "metadata": {},
                    "output_type": "execute_result"
                }
            ],
            "source": [
                "list(map(print, [3, 5, 7]))"
            ]
        },
        {
            "cell_type": "code",
            "execution_count": 202,
            "metadata": {},
            "outputs": [
                {
                    "data": {
                        "text/plain": "\u003czip at 0x7f7a1d9a9240\u003e"
                    },
                    "execution_count": 202,
                    "metadata": {},
                    "output_type": "execute_result"
                }
            ],
            "source": [
                "zip('122', '34')"
            ]
        },
        {
            "cell_type": "code",
            "execution_count": 204,
            "metadata": {},
            "outputs": [
                {
                    "name": "stdout",
                    "output_type": "stream",
                    "text": "[('1', '4'), ('2', '5')]\n[]\n"
                }
            ],
            "source": [
                "a = zip('123', '45')\n",
                "b = list(a)\n",
                "c = list(a)\n",
                "print(b)\n",
                "print(c)"
            ]
        }
    ]
}
