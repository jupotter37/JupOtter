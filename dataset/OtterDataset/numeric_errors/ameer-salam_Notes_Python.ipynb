{
  "nbformat": 4,
  "nbformat_minor": 0,
  "metadata": {
    "colab": {
      "provenance": [],
      "authorship_tag": "ABX9TyPZC8Hi8e/6Ah0b9jmWj5jn",
      "include_colab_link": true
    },
    "kernelspec": {
      "name": "python3",
      "display_name": "Python 3"
    },
    "language_info": {
      "name": "python"
    }
  },
  "cells": [
    {
      "cell_type": "markdown",
      "metadata": {
        "id": "view-in-github",
        "colab_type": "text"
      },
      "source": [
        "<a href=\"https://colab.research.google.com/github/ameer-salam/Notes/blob/main/Python.ipynb\" target=\"_parent\"><img src=\"https://colab.research.google.com/assets/colab-badge.svg\" alt=\"Open In Colab\"/></a>"
      ]
    },
    {
      "cell_type": "markdown",
      "source": [
        "# **Python Wizardry: A Journey from Novice to Master Programmer** 🐍\n",
        "\n",
        "![](https://imgs.search.brave.com/Lx5jH_YkDeGwOtEgVOPotWy5AUTZFinGAnzSuHGcAYM/rs:fit:860:0:0/g:ce/aHR0cHM6Ly9sb2dv/ZG93bmxvYWQub3Jn/L3dwLWNvbnRlbnQv/dXBsb2Fkcy8yMDE5/LzEwL3B5dGhvbi1s/b2dvLnBuZw)\n",
        "\n",
        "## **About this notebook:** 📓\n",
        "\n",
        "Are you a student just beginning your journey into the world of Python programming? Look no further! This Python Learning Notebook is designed specifically for students who are new to Python or have a basic understanding of the language.\n",
        "\n",
        "Forget about sifting through lengthy and intimidating Python textbooks or sitting through boring video lectures. This notebook acts as your concise and practical guide, bridging the gap between extensive reading and monotonous lectures.\n",
        "\n",
        "With a focus on simplicity and efficiency, this notebook allows you to learn Python concepts quickly and effectively. Explore topics such as Python Fundamentals, Control Flow, to concepts such as OOPs and Exception handling, all while following along with interactive code examples.\n",
        "\n",
        "But that's not all – this notebook is hosted on Google Colab, enabling you to code alongside the lessons. By coding in real-time, you'll reinforce your understanding and accelerate your learning process.\n",
        "\n",
        "Whether you're a student, a self-learner, or an aspiring programmer, this Python Learning Notebook is your ticket to mastering Python in little time. Embrace a hands-on learning experience and unlock the full potential of Python with this indispensable resource. Start your Python journey today!\n",
        "\n",
        "This Python Notebook for Beginners, encompassing fundamental Python concepts including Object-Oriented Programming (OOP), has been authored by Ameer Salam, as of March, 2024.\n",
        "\n",
        "Within this notebook, you will discover a comprehensive explanation of basic Python concepts presented systematically, facilitating easy comprehension through illustrative code examples.\n",
        "\n",
        "Should you find this Notebook engaging, we encourage you to share it within the community, fostering knowledge exchange and collaboration.\n",
        "\n",
        "regards,\n",
        "Ameer Salam\n",
        "(author)\n",
        "\n",
        "## **Author information:** ✍\n",
        "* Author - **Ameer Salam**\n",
        "* Contact links -\n",
        "  * LinkedIn  - https://www.linkedin.com/in/ameersalam/\n",
        "  * Github    - https://github.com/ameer-salam\n",
        "  * Youtube   - https://youtube.com/@ameer_salam?si=dgnpbOz_j7X_qrN9\n",
        "  * instagram - https://www.instagram.com/ameer_salam_353/\n",
        "\n",
        "## **Notetaking platforms:**\n",
        "1. [Google Colab](https://colab.research.google.com/)\n",
        "2. [Github](https://github.com/)     \n",
        "\n",
        "## **Instructions to users:**\n",
        "\n",
        "1. **Understand Theoretical Points Clearly:**\n",
        "   - Read through each theoretical point carefully, ensuring you comprehend the concepts presented.\n",
        "   - Take notes if necessary to reinforce understanding.\n",
        "   - Seek additional resources or explanations if any points are unclear.\n",
        "\n",
        "2. **Code Along with Concepts:**\n",
        "   - As you progress through each theoretical point, simultaneously implement the concepts in code.\n",
        "   - Write code snippets or scripts related to the theory you're learning to solidify understanding.\n",
        "   - Experiment with variations of the code to deepen comprehension.\n",
        "\n",
        "3. **Utilize Coding Platforms Like Google Colab or Jupyter:**\n",
        "   - Use online coding platforms such as Google Colab or Jupyter Notebooks for an interactive coding experience.\n",
        "   - These platforms allow you to write and execute code in a browser environment, providing a seamless learning experience.\n",
        "   - Take advantage of features like code cells, markdown cells, and built-in libraries to enhance your coding practice.\n",
        "\n",
        "4. **Leverage AI Chatbots for Assistance:**\n",
        "   - Integrate AI chatbots into your learning process to receive immediate clarification on concepts.\n",
        "   - Use chatbots to ask questions, seek explanations, and receive feedback on your code.\n",
        "   - Explore chatbots specifically designed for Python learning, such as those providing interactive tutorials or code analysis.\n",
        "\n",
        "5. **Do Not Neglect Any Topics:**\n",
        "   - Ensure comprehensive coverage of all topics listed, as each builds upon the other to form a solid foundation in Python programming.\n",
        "   - Allocate sufficient time and effort to understand and practice each topic thoroughly.\n",
        "   - Review previously covered topics periodically to reinforce retention and understanding.\n",
        "\n",
        "### **Additional Tips:**\n",
        "- **Practice Regularly:** Dedicate regular practice sessions to reinforce learning and improve coding proficiency.\n",
        "- **Engage with Communities:** Join online forums, discussion groups, or programming communities to seek guidance, share insights, and collaborate with fellow learners.\n",
        "- **Seek Feedback:** Share your code and learning progress with peers or mentors to receive constructive feedback and suggestions for improvement.\n",
        "- **Stay Updated:** Stay informed about the latest advancements, updates, and best practices in Python programming to keep your skills relevant and up-to-date.\n",
        "\n",
        "## **License Information:**\n",
        "\n",
        "This notebook, titled \"Python Mastery: A Comprehensive Guide from Beginner to Pro,\" is created by collecting and compiling data from various study materials. It is intended for educational purposes and to facilitate learning and skill development in Python programming.\n",
        "\n",
        "Permission is hereby granted, free of charge, to any person obtaining a copy of this notebook, to utilize it for personal or educational purposes, including but not limited to reading, studying, and modifying the contents for learning and improvement.\n",
        "\n",
        "The creator of this notebook, Ameer Salam, asserts that they have made reasonable efforts to ensure the accuracy and reliability of the information presented herein. However, they make no warranties or guarantees regarding the completeness, accuracy, reliability, or suitability of the contents for any particular purpose. The creator shall not be held liable for any direct or indirect damages or consequences arising from the use of this notebook.\n",
        "\n",
        "Users are encouraged to verify the information presented, exercise caution, and seek additional resources or professional advice as needed. By accessing and using this notebook, users agree to hold harmless the creator, contributors, and licensors from any claims, damages, or liabilities arising from its use.\n",
        "\n",
        "This notebook is released under the Creative Commons Attribution-NonCommercial-ShareAlike 4.0 International License. To view a copy of this license, visit http://creativecommons.org/licenses/by-nc-sa/4.0/ or send a letter to Creative Commons, PO Box 1866, Mountain View, CA 94042, USA.\n",
        "\n",
        "For commercial use or inquiries regarding alternative licensing options, please contact ameersuz3@gmail.com\n",
        "\n",
        "Ameer Salam\n",
        "ameersuz3@gmail.com\n",
        "1st March, 2024\n",
        "\n",
        "## Contents of this Notebook :\n",
        "- [ ] Introduction to Python\n",
        "- [ ] Python Fundamentals\n",
        "  - [ ] Print functions\n",
        "  - [ ] Operators and Expressions\n",
        "  - [ ] Control FLow\n",
        "  - [ ] Loops\n",
        "  - [ ] Strings\n",
        "  - [ ] Lists\n",
        "  - [ ] Tuples\n",
        "  - [ ] Dictionaries\n",
        "  - [ ] Sets\n",
        "  - [ ] Python Functions\n",
        "- [ ] Object Oriented Programmin and File Handling\n",
        "  - [ ] OOPs\n",
        "  - [ ] File Handling\n",
        "  - [ ] Errors & Exception Handling\n"
      ],
      "metadata": {
        "id": "B6mIDVv2_onm"
      }
    },
    {
      "cell_type": "markdown",
      "source": [
        "# Introduction to Python\n",
        "![](https://media3.giphy.com/media/v1.Y2lkPTc5MGI3NjExdXBudjZqd2ZrYW0xbzU1NHdvZzZmYzI3eHJzZXQ1YzE0dG5uMXJqbyZlcD12MV9pbnRlcm5hbF9naWZfYnlfaWQmY3Q9Zw/coxQHKASG60HrHtvkt/giphy.gif)\n",
        "## What is Python\n",
        "* Python is a high level general purpose Programming language developed by Guido van Rossum in 1993. It's Design philosophy emphasisi was simplicity code redability. Due to it simplicity and versatility is widely used in the fileds of Data analysis, Artificial intelligence, Scientific computing, and more.\n",
        "\n",
        "## Advantages of Python over other programming languages\n",
        "1. Easy to learn and implement,\n",
        "2. Simple syntax,\n",
        "3. Vast libraries,\n",
        "4. Career opportunities, and Community and Support.\n",
        "\n",
        "## Fields where Python is being used\n",
        "1. AI and ML,\n",
        "2. Data analytics,\n",
        "3. Programming application,\n",
        "4. web developement,\n",
        "5. Game developement, etc."
      ],
      "metadata": {
        "id": "dGGkJSjPopP1"
      }
    },
    {
      "cell_type": "markdown",
      "source": [
        "# Python Fundamentals\n",
        "\n",
        "\n",
        "\n",
        "\n"
      ],
      "metadata": {
        "id": "nM1lkrDPdeXg"
      }
    },
    {
      "cell_type": "markdown",
      "source": [
        "## Python Interpreter\n",
        "Before learning about the Python Interpreter, let us first understand the basics of how computers understand the code we write.\n",
        "\n",
        "The computer system consists of two main components: the processor and the memory. The processor is responsible for executing the given task, while the computer memory is responsible for storing the instruction set for the computer and the corresponding data necessary for execution.\n",
        "\n",
        "The instruction set taken by the processor in the Fetch and Execute cycle is also known as **Machine code** (machine code - combinations of 0's and 1's directly understood by the computer processor). Based on the instruction set, it performs operations on the given data.\n",
        "\n",
        "**Note** - Computers understand machine code directly, while it is hard for humans to understand the machine code.\n",
        "\n",
        "The code you write on your computer system using a language of your choice, maybe Python - this is called the source code, and it is a text file stored in your computer memory. Source code is written in human understandable languages like English and is easily understandable by users, whereas it cannot be directly understood by the processor.\n",
        "Now, this requires a translator that can translate the *human-readable source code* to *machine code*, which can be understood by the processor.\n",
        "\n",
        "This translator is known as the Interpreter, which is responsible for completing this translation process.\n",
        "\n",
        "The Python Interpreter is divided into two components:\n",
        "  1. Compiler\n",
        "  2. PVM (Python Virtual Machine)\n",
        "\n",
        "**Working of Python Interpreter:**\n",
        "First, when you pass the Python file for execution, the Compiler, like any other compiler, will first compile it into an Intermediate code called **Bytecode**. (Bytecode is also in Binary, and the bytecode file is stored with a **.pyc** extension.)\n",
        "Bytecode is an intermediate code that does not target the processor but targets the PVM instead.\n",
        "Once the Python Virtual machine receives this Bytecode, it then converts this bytecode to Machine code (this machine code is different for different CPU architectures).\n"
      ],
      "metadata": {
        "id": "cSBB5iOv81v-"
      }
    },
    {
      "cell_type": "markdown",
      "source": [
        "## print() function in Python\n",
        "* the print statement is an in-built function in Python which takes in one or more arguments and display the oputput on to the colsole.\n",
        "* Example - we can pass string or variables or combination of both to the print() function."
      ],
      "metadata": {
        "id": "l3g0LQ8ByuXC"
      }
    },
    {
      "cell_type": "code",
      "source": [
        "#print statement\n",
        "#Printing String using print() statement\n",
        "print(\"Hello World!\")"
      ],
      "metadata": {
        "colab": {
          "base_uri": "https://localhost:8080/"
        },
        "id": "y5z6A7srs6sR",
        "outputId": "000d83bc-3d6a-452e-a11b-aa5125f4f489"
      },
      "execution_count": null,
      "outputs": [
        {
          "output_type": "stream",
          "name": "stdout",
          "text": [
            "Hello World!\n"
          ]
        }
      ]
    },
    {
      "cell_type": "code",
      "source": [
        "#Printing a variable using print() statement\n",
        "variable=10\n",
        "print(variable)"
      ],
      "metadata": {
        "colab": {
          "base_uri": "https://localhost:8080/"
        },
        "id": "dBThDUxZ0uUi",
        "outputId": "254d6598-172c-45fb-f42c-1fc78af09d8d"
      },
      "execution_count": null,
      "outputs": [
        {
          "output_type": "stream",
          "name": "stdout",
          "text": [
            "10\n"
          ]
        }
      ]
    },
    {
      "cell_type": "code",
      "source": [
        "# Printing multiple values in the same print statement\n",
        "print(\"Ameer\", \"Salam\", \"Danish\", 21, 23, 20, 99.87, 78.45, 67.65)"
      ],
      "metadata": {
        "colab": {
          "base_uri": "https://localhost:8080/"
        },
        "id": "CIv7lb8BV6RP",
        "outputId": "7a2b851e-d0f3-41cf-bcf1-88bd5f8a38ba"
      },
      "execution_count": null,
      "outputs": [
        {
          "output_type": "stream",
          "name": "stdout",
          "text": [
            "Ameer Salam Danish 21 23 20 99.87 78.45 67.65\n"
          ]
        }
      ]
    },
    {
      "cell_type": "code",
      "source": [
        "#performing basic mathematical calculations innside the print() function\n",
        "print(2+2)\n",
        "print(variable - 2)\n"
      ],
      "metadata": {
        "colab": {
          "base_uri": "https://localhost:8080/"
        },
        "id": "-GlFVWmz04gp",
        "outputId": "3270f063-543f-4368-e5e9-61a69dcd8b61"
      },
      "execution_count": null,
      "outputs": [
        {
          "output_type": "stream",
          "name": "stdout",
          "text": [
            "4\n",
            "8\n"
          ]
        }
      ]
    },
    {
      "cell_type": "code",
      "source": [
        "#printing both string and variable with a sinlge print statement\n",
        "print(\"The value of 4 + 2 = \", 4+2)\n",
        "print(\"The value of Variable minus 3 is = \", variable - 3)"
      ],
      "metadata": {
        "colab": {
          "base_uri": "https://localhost:8080/"
        },
        "id": "TNI73M7K1H4l",
        "outputId": "8f0d8726-95c4-43e1-dab0-e0922a772a73"
      },
      "execution_count": null,
      "outputs": [
        {
          "output_type": "stream",
          "name": "stdout",
          "text": [
            "The value of 4 + 2 =  6\n",
            "The value of Variable minus 3 is =  7\n"
          ]
        }
      ]
    },
    {
      "cell_type": "markdown",
      "source": [
        "### String formating methods in print\n",
        "* String formatting in Python allows you to create formatted output by inserting values into a string in a specified format.\n",
        "* Ways to perfrom string formatting are:\n",
        "  1. String concatination\n",
        "  2. using % operator (**Legace Method**)\n",
        "  3. using `str.format()`\n",
        "  4. using f-strings (Python 3.6 and later)"
      ],
      "metadata": {
        "id": "vkYTx02t1bst"
      }
    },
    {
      "cell_type": "code",
      "source": [
        "#for example lets take two variables - name and age\n",
        "name='Ameer Salam'\n",
        "age=34\n",
        "\n",
        "# 1. String concatination\n",
        "print(\"String concatination:\\n The name is : \"+name+\" and the age is : \"+str(age))\n",
        "#Limintations - here as you can see, String concatination only works on strings\n",
        "#hence you first have to convert the variable 'age' from integer to string type\n",
        "\n",
        "#  2. using modulus operator\n",
        "print(\"Using modulus Operator:\\n The name is %s and the age is : %d\" %(name, age))\n",
        "\n",
        "#  3. using `str.format()`\n",
        "print(\"Using str.format() method:\\n The name is {} and the age is : {}\".format(name, age))\n",
        "\n",
        "#  4. using f-strings (Python 3.6 and later)\n",
        "print(\"Using str.format() method:\\n The name is {} and the age is : {}\".format(name, age))"
      ],
      "metadata": {
        "colab": {
          "base_uri": "https://localhost:8080/"
        },
        "id": "sXeiV2gj2gqf",
        "outputId": "42b27bae-4eed-474e-b64a-9e8ddb521c55"
      },
      "execution_count": null,
      "outputs": [
        {
          "output_type": "stream",
          "name": "stdout",
          "text": [
            "String concatination:\n",
            " The name is : Ameer Salam and the age is : 34\n",
            "Using modulus Operator:\n",
            " The name is Ameer Salam and the age is : 34\n",
            "Using str.format() method:\n",
            " The name is Ameer Salam and the age is : 34\n"
          ]
        }
      ]
    },
    {
      "cell_type": "markdown",
      "source": [
        "### Changing the Seperator and the End string in print() statement\n",
        "\n",
        "* with the print statement you can change:\n",
        "1. Seperator (sep)  - the spacke or sequence between two obects in the print statement,\n",
        "2. End string (end) - you can change the string printed at the end of each printed strinng\n",
        "\n",
        "below are the example of changing the seperator and end String"
      ],
      "metadata": {
        "id": "8fjZwzEA6wpA"
      }
    },
    {
      "cell_type": "code",
      "source": [
        "#changing the seperator\n",
        "year=2024\n",
        "#example statement\n",
        "print(\"Hello World! the year is\",year)\n",
        "\n",
        "#this is how we change the seperator\n",
        "print(\"Hello World! the year is\",year, sep=\"\\t\")\n",
        "print(\"Hello World! the year is\",year, sep='\\n')"
      ],
      "metadata": {
        "colab": {
          "base_uri": "https://localhost:8080/"
        },
        "id": "EJNdGRLh7WfO",
        "outputId": "01fe6232-12bc-4490-a9a6-7549cbea3f81"
      },
      "execution_count": null,
      "outputs": [
        {
          "output_type": "stream",
          "name": "stdout",
          "text": [
            "Hello World! the year is 2024\n",
            "Hello World! the year is\t2024\n",
            "Hello World! the year is\n",
            "2024\n"
          ]
        }
      ]
    },
    {
      "cell_type": "code",
      "source": [
        "#changing the end string\n",
        "print(\"Hello world!\")\n",
        "print(\"I am Python\")\n",
        "#with this statement you get two strings printed on two seperate lines\n",
        "#this is beacuse the end string given as defaul is the '\\n' - new line statemet\n",
        "\n",
        "# we can change it as :\n",
        "print(\"Changing the End String\")\n",
        "print(\"Hello world!\", end='\\t')\n",
        "print(\"I am Python\", end='\\t')\n",
        "print(\"The year is :\", year, sep=\"\", end='\\n\\n\\n')\n",
        "print(\"I am printed after 3 lines\")"
      ],
      "metadata": {
        "colab": {
          "base_uri": "https://localhost:8080/"
        },
        "id": "0MJSSYOW78uS",
        "outputId": "8a0d8309-57db-44c3-9e9c-11696f28446d"
      },
      "execution_count": null,
      "outputs": [
        {
          "output_type": "stream",
          "name": "stdout",
          "text": [
            "Hello world!\n",
            "I am Python\n",
            "Changing the End String\n",
            "Hello world!\tI am Python\tThe year is :2024\n",
            "\n",
            "\n",
            "I am printed after 3 lines\n"
          ]
        }
      ]
    },
    {
      "cell_type": "markdown",
      "source": [
        "## Variables in Python\n",
        "\n",
        "- Variables are names given to memory locations in computer storage which are **utilized to store data on the computer system.**\n",
        "- Data can be considered as raw material, while processed data is referred to as information.\n",
        "\n"
      ],
      "metadata": {
        "id": "akRP1Nx-yySc"
      }
    },
    {
      "cell_type": "markdown",
      "source": [
        "### Rules for naming a variable\n",
        "Conditions to remember while naming a variable are:\n",
        "\n",
        "1. Variable name must start with charater or an underscore (_)\n",
        "2. variable name cannot start with number, and it can only contain alpha-numeric characters\n",
        "3. variables in Python are case sensitive (`age` is completely different from `Age`)\n",
        "4. variables cannot be named with inbuilt Keywords\n",
        "\n",
        "* example of acceptable and not-acceptable variable names in Python\n",
        "\n",
        "| Accepted Variable Names | Rejected Variable Names |\n",
        "|-------------------------|-------------------------|\n",
        "| age                     | 1st_name                |\n",
        "| name                    | user@name               |\n",
        "| user_age                | class                   |\n",
        "| num_students            | print                   |\n",
        "| _count                  |                         |\n",
        "| first_name              |                         |\n",
        "| last_name               |                         |\n",
        "| my_variable             |                         |\n",
        "| totalStudents           |                         |\n",
        "| num_students            |                         |\n",
        "\n",
        "\n",
        "* list of Keywords in python are:"
      ],
      "metadata": {
        "id": "WtR9f4L-HWBK"
      }
    },
    {
      "cell_type": "code",
      "source": [
        "import keyword\n",
        "keywords=keyword.kwlist\n",
        "\n",
        "for keyword in keywords:\n",
        "  print(keyword)"
      ],
      "metadata": {
        "colab": {
          "base_uri": "https://localhost:8080/"
        },
        "id": "qRIjcU0HPKVS",
        "outputId": "7413201c-1c1e-4fa4-f689-1f07c4a66c09"
      },
      "execution_count": null,
      "outputs": [
        {
          "output_type": "stream",
          "name": "stdout",
          "text": [
            "False\n",
            "None\n",
            "True\n",
            "and\n",
            "as\n",
            "assert\n",
            "async\n",
            "await\n",
            "break\n",
            "class\n",
            "continue\n",
            "def\n",
            "del\n",
            "elif\n",
            "else\n",
            "except\n",
            "finally\n",
            "for\n",
            "from\n",
            "global\n",
            "if\n",
            "import\n",
            "in\n",
            "is\n",
            "lambda\n",
            "nonlocal\n",
            "not\n",
            "or\n",
            "pass\n",
            "raise\n",
            "return\n",
            "try\n",
            "while\n",
            "with\n",
            "yield\n"
          ]
        }
      ]
    },
    {
      "cell_type": "markdown",
      "source": [
        "### Data Types of variables in Python\n",
        "In python and other programming languages, data type of a variable can be understood as the nature the data that a variable can store.\n",
        "for example:\n",
        "  * to store an integer we use `int` data type\n",
        "  * to store character or sequence of characters we use `char` or `str`\n",
        "\n",
        "\n",
        "Sure, here's a table listing the common data types in Python, along with their keywords and the range of values they can hold:\n",
        "\n",
        "| Data Type   | Keyword    | Example Values                          | Value Range                   |\n",
        "|-------------|------------|-----------------------------------------|-------------------------------|\n",
        "| int         | int        | `10`, `-5`, `1000`                      | -∞ to +∞                      |\n",
        "| float       | float      | `3.14`, `-0.001`, `2.0`                 | -∞ to +∞                      |\n",
        "| complex     | complex    | `2 + 3j`, `-1 - 5j`, `4j`                | Real and imaginary parts     |\n",
        "| str         | str        | `'hello'`, `\"world\"`, `'Python'`        | Any string                    |\n",
        "| list        | list       | `[1, 2, 3]`, `['apple', 'banana']`      | Any sequence of values       |\n",
        "| tuple       | tuple      | `(1, 2, 3)`, `('a', 'b', 'c')`          | Any sequence of values       |\n",
        "| dict        | dict       | `{'name': 'John', 'age': 30}`           | Any key-value pairs          |\n",
        "| set         | set        | `{1, 2, 3}`, `{'apple', 'banana'}`      | Unique values                 |\n",
        "| bool        | bool       | `True`, `False`                         | `True` or `False`             |\n",
        "| bytes       | bytes      | `b'hello'`, `bytes([65, 66, 67])`       | Immutable sequence of bytes  |\n",
        "| bytearray   | bytearray  | `bytearray(b'hello')`, `bytearray([65, 66, 67])` | Mutable sequence of bytes  |\n",
        "| memoryview  | memoryview | `memoryview(b'hello')`                  | Memory view of bytes         |\n",
        "| NoneType    | None       | `None`                                  | None (represents absence of a value) |\n",
        "\n",
        "**Note** - that the values listed under *Example Values* are just examples, and the actual values can vary. The value range for `int` and `float` variables theoretically extends to positive and negative infinity, but in practice, it's limited by the memory available on the system. Additionally, the `complex` data type consists of real and imaginary parts, which can be any floating-point numbers.\n"
      ],
      "metadata": {
        "id": "rrlbWL4gVeDJ"
      }
    },
    {
      "cell_type": "markdown",
      "source": [
        "### Declaring a variable\n",
        "* variables in python can be declared by providing the variable name, assignment opperator(=), and we can also initialize it with its associated value.\n",
        "* some examples are :\n",
        "  * age = 19\n",
        "  * name = \"Ameer Salam\"\n"
      ],
      "metadata": {
        "id": "43mopw1NLFvS"
      }
    },
    {
      "cell_type": "code",
      "source": [
        "# declaring and initializing variables\n",
        "# varialbel_name =(addignment operator) Value_of_variable\n",
        "x=10\n",
        "print(x)\n",
        "\n",
        "name = \"Ameer Salam\"\n",
        "print(\"My name is : \", name)\n",
        "\n",
        "# to know all the keywords\n",
        "print(\"All the Keywords in Python are : \\n\")\n",
        "help('keywords')"
      ],
      "metadata": {
        "colab": {
          "base_uri": "https://localhost:8080/"
        },
        "id": "F4LqCyAqtMDF",
        "outputId": "abaad124-2aef-4705-be86-7bf4f915e882"
      },
      "execution_count": null,
      "outputs": [
        {
          "output_type": "stream",
          "name": "stdout",
          "text": [
            "10\n",
            "My name is :  Ameer Salam\n",
            "All the Keywords in Python are : \n",
            "\n",
            "\n",
            "Here is a list of the Python keywords.  Enter any keyword to get more help.\n",
            "\n",
            "False               class               from                or\n",
            "None                continue            global              pass\n",
            "True                def                 if                  raise\n",
            "and                 del                 import              return\n",
            "as                  elif                in                  try\n",
            "assert              else                is                  while\n",
            "async               except              lambda              with\n",
            "await               finally             nonlocal            yield\n",
            "break               for                 not                 \n",
            "\n"
          ]
        }
      ]
    },
    {
      "cell_type": "markdown",
      "source": [
        "### Heap vs Stack memory\n",
        "In computer system, the variables are stored in the compter memory and it is very important to store these variables in a well organised manner for easy and quick operations on these variables.\n",
        "The use of heap and stack memory in Python is crucial for managing the allocation and deallocation of memory for variables and other data structures.\n",
        "\n",
        "| Aspect         | Stack Memory                                       | Heap Memory                                       |\n",
        "|----------------|----------------------------------------------------|---------------------------------------------------|\n",
        "| Purpose        | Used for storing local variables, function call     | Used for dynamic memory allocation, including    |\n",
        "|                | frames, and other execution-related data.           | objects that are too large to fit on the stack   |\n",
        "|                |                                                    | or have a longer lifetime than a single function |\n",
        "|                |                                                    | call.                                             |\n",
        "| Allocation     | Memory is allocated and deallocated automatically   | Memory is allocated and deallocated by Python's  |\n",
        "| and Deallocation | by the Python interpreter as function calls are   | memory manager using techniques like reference   |\n",
        "|                 | made and completed.                                | counting and garbage collection.                 |\n",
        "| Data Lifetime  | Limited to the duration of the function call.      | Can have a longer lifetime and can persist      |\n",
        "|                | Once the function returns, local variables         | beyond the duration of a single function call.   |\n",
        "|                | and function call frames are deallocated.          |                                                   |\n",
        "| Data Structure | Typically stores local variables, function call    | Stores objects created using constructors like   |\n",
        "|                | frames, and other execution-related data.          | `list`, `dict`, `set`, or custom classes.       |\n",
        "|                | Operates in a last-in-first-out (LIFO) manner.     |                                                   |\n",
        "| Management     | Managed automatically by the Python interpreter.   | Managed by Python's memory manager using        |\n",
        "|                | No need for manual memory management.              | techniques like reference counting and garbage  |\n",
        "|                |                                                    | collection.                                       |\n",
        "| Risk of Errors | Lower risk of memory-related errors like memory    | Lower risk of memory-related errors like memory |\n",
        "|                | leaks or dangling pointers.                        | leaks or dangling pointers due to automatic     |\n",
        "|                |                                                    | memory management.                                |\n"
      ],
      "metadata": {
        "id": "O4N08W2wvnXX"
      }
    },
    {
      "cell_type": "markdown",
      "source": [
        "## Id Function\n",
        "\n",
        "* it is a builtin function which returns the unique identidfier(memory address) of the vairable of the variable\n",
        "* the identifer is gauranteed to be unique and constant throught the lifetime of the object.\n",
        "* usecase - it is used to compare weather two variables(in Stack memory) refer to the same object in the memory(Heap memory)"
      ],
      "metadata": {
        "id": "WjzZsFPWxA0S"
      }
    },
    {
      "cell_type": "code",
      "source": [
        "# using the id() function\n",
        "x=10\n",
        "\n",
        "print(\"The Variable x is stored at memory address : \", id(x))\n",
        "\n",
        "#let us create a new variable y and assign it to the value of x\n",
        "y=x\n",
        "\n",
        "print(\"To check if the variable Y refers to teh same object in Heap memory\")\n",
        "print(id(y))\n",
        "if(id(x)==id(y)):\n",
        "  print(\"The varaible X and Y refer to the same object in the Heap memory\")"
      ],
      "metadata": {
        "colab": {
          "base_uri": "https://localhost:8080/"
        },
        "id": "IPiElj0IvriP",
        "outputId": "5ae738c0-c4d6-474c-e46c-6d1dbf054260"
      },
      "execution_count": null,
      "outputs": [
        {
          "output_type": "stream",
          "name": "stdout",
          "text": [
            "The Variable x is stored at memory address :  132873907257872\n",
            "To check if the variable Y refers to teh same object in Heap memory\n",
            "132873907257872\n",
            "The varaible X and Y refer to the same object in the Heap memory\n"
          ]
        }
      ]
    },
    {
      "cell_type": "code",
      "source": [
        "#using the type() function to find the datatype of the given variable\n",
        "a=98.99\n",
        "print(a)\n",
        "print(\"The datatype of A is : \", type(a))"
      ],
      "metadata": {
        "colab": {
          "base_uri": "https://localhost:8080/"
        },
        "id": "TFjOuWM036no",
        "outputId": "b012eb8d-4b59-444a-d353-54e58f04e1e9"
      },
      "execution_count": null,
      "outputs": [
        {
          "output_type": "stream",
          "name": "stdout",
          "text": [
            "98.99\n",
            "The datatype of A is :  <class 'float'>\n"
          ]
        }
      ]
    },
    {
      "cell_type": "code",
      "source": [
        "#example of boolean data type\n",
        "bool_type=True\n",
        "# remember True and 'True' are different in Python\n",
        "# 'True'is treated as a string and True is treated as Boolean value\n",
        "print(bool_type)\n",
        "print(type(bool_type))"
      ],
      "metadata": {
        "colab": {
          "base_uri": "https://localhost:8080/"
        },
        "id": "i6dzjRif4k7b",
        "outputId": "327bebfb-dfd6-4d20-c2e2-146f4572b651"
      },
      "execution_count": null,
      "outputs": [
        {
          "output_type": "stream",
          "name": "stdout",
          "text": [
            "True\n",
            "<class 'bool'>\n"
          ]
        }
      ]
    },
    {
      "cell_type": "code",
      "source": [
        "#Strings\n",
        "str1='Ameer Salam'\n",
        "str2=\"Danish\"\n",
        "str3=\"\"\"\n",
        "Hi How are you?\n",
        "I hope you are fine\n",
        "\"\"\""
      ],
      "metadata": {
        "id": "Qks4i5J15b2v"
      },
      "execution_count": null,
      "outputs": []
    },
    {
      "cell_type": "code",
      "source": [
        "print(\"\\n\", str1, \"\\n\", str2,\"\\n\", str3)"
      ],
      "metadata": {
        "colab": {
          "base_uri": "https://localhost:8080/"
        },
        "id": "cPo-ST3g5jfJ",
        "outputId": "91984412-e820-4b36-9981-58124a8be3c5"
      },
      "execution_count": null,
      "outputs": [
        {
          "output_type": "stream",
          "name": "stdout",
          "text": [
            "\n",
            " Ameer Salam \n",
            " Danish \n",
            " \"Hi How are you?\n"
          ]
        }
      ]
    },
    {
      "cell_type": "code",
      "source": [
        "#null\n",
        "a=None\n",
        "print(a)"
      ],
      "metadata": {
        "colab": {
          "base_uri": "https://localhost:8080/"
        },
        "id": "_kcW3aOJ6Ly1",
        "outputId": "1ba983f2-d88b-453d-cc42-1985e8a5fd93"
      },
      "execution_count": null,
      "outputs": [
        {
          "output_type": "stream",
          "name": "stdout",
          "text": [
            "None\n"
          ]
        }
      ]
    },
    {
      "cell_type": "markdown",
      "source": [
        "## input() Function\n",
        "\n",
        "* The input() function facilitates interaction between the program and the user, allowing the program to accept input.\n",
        "* By default, the input() function treats the input as a string. To specify a different data type, explicit casting is required.\n"
      ],
      "metadata": {
        "id": "fVXLtS6s6VnC"
      }
    },
    {
      "cell_type": "code",
      "source": [
        "#input function\n",
        "name=input()\n",
        "print(name)"
      ],
      "metadata": {
        "colab": {
          "base_uri": "https://localhost:8080/"
        },
        "id": "2L7fx0f97ENi",
        "outputId": "8192c0d6-a277-450a-ca71-b04834164391"
      },
      "execution_count": null,
      "outputs": [
        {
          "name": "stdout",
          "output_type": "stream",
          "text": [
            "ameer\n"
          ]
        }
      ]
    },
    {
      "cell_type": "code",
      "source": [
        "a=int(input(\"Enter the number : \")) #example of explicit type conversion to\n",
        "print(\"Square of \", a, \" is : \", a**2)\n"
      ],
      "metadata": {
        "colab": {
          "base_uri": "https://localhost:8080/"
        },
        "id": "tZ-DnXtE7MUa",
        "outputId": "7d47e720-2c99-49cf-c122-512ecd0589e2"
      },
      "execution_count": null,
      "outputs": [
        {
          "output_type": "stream",
          "name": "stdout",
          "text": [
            "Enter the number : 6\n",
            "Square of  6  is :  36\n"
          ]
        }
      ]
    },
    {
      "cell_type": "markdown",
      "source": [
        "## Operators in Python\n",
        "  Operators are special symbols or keywords which are used to perform specific operations on operands(variables) to produce desired results.\n",
        "\n",
        "* **Epression** is a combinition of operator (+/-/*) and operand(a,b,c)\n",
        "\n",
        "* various types of Operators and thier examples:\n",
        "\n",
        "| Operator Type           | Operator | Description                                            | Example           |\n",
        "|-------------------------|----------|--------------------------------------------------------|-------------------|\n",
        "| Arithmetic Operators    | +        | Addition: Adds two operands together                   | x + y             |\n",
        "|                         | -        | Subtraction: Subtracts one operand from another        | x - y             |\n",
        "|                         | *        | Multiplication: Multiplies two operands                | x * y             |\n",
        "|                         | /        | Division: Divides one operand by another               | x / y             |\n",
        "|                         | %        | Modulus: Returns the remainder of the division         | x % y             |\n",
        "|                         | **       | Exponentiation: Raises one operand to the power of another | x ** y          |\n",
        "|                         | //       | Floor Division: Returns the integer part of the division | x // y          |\n",
        "| Comparison Operators    | ==       | Equal to: Compares if two operands are equal           | x == y            |\n",
        "|                         | !=       | Not equal to: Compares if two operands are not equal   | x != y            |\n",
        "|                         | >        | Greater than: Compares if one operand is greater than the other | x > y      |\n",
        "|                         | <        | Less than: Compares if one operand is less than the other | x < y            |\n",
        "|                         | >=       | Greater than or equal to: Compares if one operand is greater than or equal to the other | x >= y |\n",
        "|                         | <=       | Less than or equal to: Compares if one operand is less than or equal to the other | x <= y |\n",
        "| Logical Operators       | and      | Logical AND: Returns True if both operands are True    | x and y           |\n",
        "|                         | or       | Logical OR: Returns True if either operand is True     | x or y            |\n",
        "|                         | not      | Logical NOT: Returns True if the operand is False      | not x             |\n",
        "| Assignment Operators    | =        | Assignment: Assigns a value to a variable              | x = y             |\n",
        "|                         | +=       | Addition Assignment: Adds and assigns the value        | x += y            |\n",
        "|                         | -=       | Subtraction Assignment: Subtracts and assigns the value | x -= y            |\n",
        "|                         | *=       | Multiplication Assignment: Multiplies and assigns the value | x *= y         |\n",
        "|                         | /=       | Division Assignment: Divides and assigns the value     | x /= y            |\n",
        "|                         | %=       | Modulus Assignment: Calculates modulus and assigns the value | x %= y         |\n",
        "|                         | **=      | Exponentiation Assignment: Raises to the power and assigns the value | x **= y     |\n",
        "|                         | //=      | Floor Division Assignment: Calculates floor division and assigns the value | x //= y |\n",
        "| Bitwise Operators       | &        | Bitwise AND: Performs bitwise AND operation            | x & y             |\n",
        "|                         | \\|       | Bitwise OR: Performs bitwise OR operation              | x \\| y            |\n",
        "|                         | ^        | Bitwise XOR: Performs bitwise exclusive OR operation   | x ^ y             |\n",
        "|                         | ~        | Bitwise NOT: Performs bitwise negation                 | ~x                |\n",
        "|                         | <<       | Left Shift: Shifts bits to the left                    | x << y            |\n",
        "|                         | >>       | Right Shift: Shifts bits to the right                  | x >> y            |\n",
        "| Membership Operators    | in       | Membership: Returns True if a value is found in the specified sequence | x in y    |\n",
        "|                         | not in   | Negated Membership: Returns True if a value is not found in the specified sequence | x not in y |\n",
        "| Identity Operators      | is       | Identity: Returns True if both operands are the same object | x is y          |\n",
        "|                         | is not   | Negated Identity: Returns True if both operands are not the same object | x is not y |"
      ],
      "metadata": {
        "id": "3LM8jOoWoKug"
      }
    },
    {
      "cell_type": "code",
      "source": [
        "#example code\n",
        "x = 5\n",
        "y = 3\n",
        "result = x + y * 2\n",
        "print(f\"x + y * 2 = {result}\")\n",
        "print(\"here x, y, and 2 are operands, '+', '*' are operators\")"
      ],
      "metadata": {
        "colab": {
          "base_uri": "https://localhost:8080/"
        },
        "id": "43kye8mfWIZ1",
        "outputId": "22d1769f-3622-462e-83f7-916eb254f19e"
      },
      "execution_count": null,
      "outputs": [
        {
          "output_type": "stream",
          "name": "stdout",
          "text": [
            "x + y * 2 = 11\n",
            "here x, y, and 2 are operands, '+', '*' are operators\n"
          ]
        }
      ]
    },
    {
      "cell_type": "markdown",
      "source": [
        "### Arithematic Operators"
      ],
      "metadata": {
        "id": "4XkY_mQuqzwT"
      }
    },
    {
      "cell_type": "code",
      "source": [
        "#mathematic operators\n",
        "a=5\n",
        "b=3\n",
        "\n",
        "print(\"Addition : \", a+b) #to add values of two variables\n",
        "print(\"Subtraction : \", a-b) #to subtract the value in two variables\n",
        "print(\"Division : \", a/b) #division operator will alwasy yeild float values\n",
        "print(\"Multiplication : \", a*b) #python prints the last value automatically(implicitly)\n",
        "\n",
        "first='Ameer '\n",
        "last='Salam'\n",
        "fullname=first+last #no string multiplication, subtraction and division\n",
        "print(fullname)\n",
        "print(fullname*3)"
      ],
      "metadata": {
        "colab": {
          "base_uri": "https://localhost:8080/"
        },
        "id": "3m6jqH5Eoezd",
        "outputId": "dfd39140-63c6-4ed3-9b58-3a7d30f249bf"
      },
      "execution_count": null,
      "outputs": [
        {
          "output_type": "stream",
          "name": "stdout",
          "text": [
            "Addition :  8\n",
            "Subtraction :  2\n",
            "Division :  1.6666666666666667\n",
            "Multiplication :  15\n",
            "Ameer Salam\n",
            "Ameer SalamAmeer SalamAmeer Salam\n"
          ]
        }
      ]
    },
    {
      "cell_type": "code",
      "source": [
        "#modulo operator\n",
        "#REMEMBER modulo operator yeilds REMINDER\n",
        "\n",
        "a=50\n",
        "b=5\n",
        "print(\"Performing Division Operator : \", a/b)\n",
        "print(\"Performing Modulo Operator : \", a%b)"
      ],
      "metadata": {
        "colab": {
          "base_uri": "https://localhost:8080/"
        },
        "id": "kUTbkJA9paXf",
        "outputId": "ac50c4be-78c1-4908-8426-af5884f0f631"
      },
      "execution_count": null,
      "outputs": [
        {
          "output_type": "stream",
          "name": "stdout",
          "text": [
            "Performing Division Operator :  10.0\n",
            "Performing Modulo Operator :  0\n"
          ]
        }
      ]
    },
    {
      "cell_type": "code",
      "source": [
        "#floor division operator\n",
        "#floor division yeilds neartest integer value\n",
        "#in simple words the floor division operator rounds off the values\n",
        "\n",
        "a=8\n",
        "b=3\n",
        "print(\"Performing Division : \", a/b)\n",
        "print(\"Performing Floor Division // : \", a//b)"
      ],
      "metadata": {
        "colab": {
          "base_uri": "https://localhost:8080/"
        },
        "id": "XTfVMS5op-hP",
        "outputId": "599f19d6-55a4-4cc7-ac4b-2054ecda3f1d"
      },
      "execution_count": null,
      "outputs": [
        {
          "output_type": "stream",
          "name": "stdout",
          "text": [
            "Performing Division :  2.6666666666666665\n",
            "Performing Floor Division // :  2\n"
          ]
        }
      ]
    },
    {
      "cell_type": "code",
      "source": [
        "#power operator\n",
        "a=5\n",
        "b=3\n",
        "\n",
        "print(a, b, sep=\"\\n\")\n",
        "print(\"5 to the power of 3 is : \", a**b, end=\"\\n\")"
      ],
      "metadata": {
        "colab": {
          "base_uri": "https://localhost:8080/"
        },
        "id": "YW3bmsVBqX0P",
        "outputId": "c25a6a7a-4792-4221-9072-7e3a057ed893"
      },
      "execution_count": null,
      "outputs": [
        {
          "output_type": "stream",
          "name": "stdout",
          "text": [
            "5\n",
            "3\n",
            "5 to the power of 3 is :  125\n"
          ]
        }
      ]
    },
    {
      "cell_type": "markdown",
      "source": [
        "### Comparision Operattors\n",
        "* it always return **boolean value**\n",
        "* **Boolean values** are a data type that represent truth values, commonly denoted as either True or False.\n",
        "* some of the Comparission operators are:\n",
        "  * ==\n",
        "  * >=\n",
        "  * <=\n",
        "  * !=\n",
        "  * >\n",
        "  * >"
      ],
      "metadata": {
        "id": "magSPOOzq6fW"
      }
    },
    {
      "cell_type": "markdown",
      "source": [
        "### Assignment operator\n",
        "In python Assignment operators are used to assign or modify value of any given variable.\n",
        "* \"=\"\n",
        "* \"+=\"\n",
        "* \"-=\"\n",
        "* \"/=\"\n",
        "\n",
        "\n"
      ],
      "metadata": {
        "id": "oKkSh5RVxlXu"
      }
    },
    {
      "cell_type": "code",
      "source": [
        "a=3\n",
        "print(a)\n",
        "a+=1\n",
        "print(\"A is incremented by 1 : \", a)\n",
        "a-=2\n",
        "print(\"A is decremented by 2 : \", a)\n",
        "a/=2\n",
        "print(\"A is divided by 2 : \", a)\n",
        "\n",
        "print(\"\\n\\n\\nAnother such example is : \\n\")\n",
        "#a=a+3 can also be written as\n",
        "\n",
        "a=3\n",
        "a+=3\n",
        "print(a)\n",
        "\n",
        "a-=3\n",
        "print(a)\n",
        "\n",
        "a/=3\n",
        "print(a)\n",
        "\n",
        "b=9\n",
        "b*=3\n",
        "print(b)"
      ],
      "metadata": {
        "colab": {
          "base_uri": "https://localhost:8080/"
        },
        "id": "_DR7mhv5xuHV",
        "outputId": "cc18ce31-fd81-43a1-85d5-258b061489fa"
      },
      "execution_count": null,
      "outputs": [
        {
          "output_type": "stream",
          "name": "stdout",
          "text": [
            "3\n",
            "A is incremented by 1 :  4\n",
            "A is decremented by 2 :  2\n",
            "A is divided by 2 :  1.0\n",
            "\n",
            "\n",
            "\n",
            "Another such example is : \n",
            "\n",
            "6\n",
            "3\n",
            "1.0\n",
            "27\n"
          ]
        }
      ]
    },
    {
      "cell_type": "markdown",
      "source": [
        "### Logical Operators\n",
        "* Logical operators are used to perfrom logical operation, takes boolean valeus as input and yeilds boolean values only.\n",
        "\n",
        "* and\n",
        "* or\n",
        "* not\n",
        "\n",
        "\n",
        "1. **AND Truth Table**:\n",
        "\n",
        "| A   | B   | A AND B |\n",
        "| --- | --- | ------- |\n",
        "| False | False | False   |\n",
        "| False | True  | False   |\n",
        "| True  | False | False   |\n",
        "| True  | True  | True    |\n",
        "\n",
        "In the AND operation, the result is true only if both A and B are true.\n",
        "\n",
        "2. **OR Truth Table**:\n",
        "\n",
        "| A   | B   | A OR B  |\n",
        "| --- | --- | ------- |\n",
        "| False | False | False   |\n",
        "| False | True  | True    |\n",
        "| True  | False | True    |\n",
        "| True  | True  | True    |\n",
        "\n",
        "In the OR operation, the result is true if at least one of A or B is true.\n",
        "\n",
        "3. **NOT Truth Table**:\n",
        "\n",
        "| A   | NOT A |\n",
        "| --- | ----- |\n",
        "| False | True  |\n",
        "| True  | False |\n",
        "\n",
        "In the NOT operation, the result is the opposite of the input value.\n"
      ],
      "metadata": {
        "id": "BlyO7orAyj0t"
      }
    },
    {
      "cell_type": "markdown",
      "source": [
        "### Special Operators\n",
        "\n",
        "1. **Identity Operator**\n",
        "  * is\n",
        "  * not is\n",
        "2. **Membership Operator**\n",
        "  * in - finds specified value\n",
        "  * not in\n",
        "3. **Bitwise Operator**\n",
        "  * & - Bitwise AND\n",
        "  * | - Bitwise OR\n",
        "  * ^ - Bitwise XOR\n",
        "  * '' - Bitwise NOT\n",
        "  * << - Left shift\n",
        "  * *>>* - Right shift"
      ],
      "metadata": {
        "id": "RMAIIAro02E6"
      }
    },
    {
      "cell_type": "code",
      "source": [
        "name = \"Ameer Salam\""
      ],
      "metadata": {
        "id": "wPPOD-231v86"
      },
      "execution_count": null,
      "outputs": []
    },
    {
      "cell_type": "code",
      "source": [
        "print(\"z\" in name)\n",
        "print(\"S\" in name)"
      ],
      "metadata": {
        "colab": {
          "base_uri": "https://localhost:8080/"
        },
        "id": "GtSwwhCI15KD",
        "outputId": "0f1889b8-7096-4fc9-9fb2-971d3cea1338"
      },
      "execution_count": null,
      "outputs": [
        {
          "output_type": "stream",
          "name": "stdout",
          "text": [
            "False\n",
            "True\n"
          ]
        }
      ]
    },
    {
      "cell_type": "code",
      "source": [
        "print(\"z\" not in name)\n",
        "print(\"S\" not in name)"
      ],
      "metadata": {
        "colab": {
          "base_uri": "https://localhost:8080/"
        },
        "id": "2cH2gQs52OJi",
        "outputId": "5c055bb9-4020-49d7-d5f2-ec28185a3a7b"
      },
      "execution_count": null,
      "outputs": [
        {
          "output_type": "stream",
          "name": "stdout",
          "text": [
            "True\n",
            "False\n"
          ]
        }
      ]
    },
    {
      "cell_type": "code",
      "source": [
        "print((\"Z\" in name) is False)\n",
        "print((\"A\" in name) is False)"
      ],
      "metadata": {
        "colab": {
          "base_uri": "https://localhost:8080/"
        },
        "id": "GYikNs5W2Xd6",
        "outputId": "e015ebd1-22c9-441b-88a1-1fae290d66a0"
      },
      "execution_count": null,
      "outputs": [
        {
          "output_type": "stream",
          "name": "stdout",
          "text": [
            "True\n",
            "False\n"
          ]
        }
      ]
    },
    {
      "cell_type": "code",
      "source": [
        "a=5\n",
        "b=a\n",
        "c=10\n",
        "aAdd=id(a)\n",
        "bAdd=id(b)\n",
        "cAdd=id(c)\n",
        "\n",
        "print(\"Is A and B refering to same object : \", a is b)\n",
        "print(\"Is A and C refering to same object : \", a is c)"
      ],
      "metadata": {
        "colab": {
          "base_uri": "https://localhost:8080/"
        },
        "id": "1AC93sWK2_Pp",
        "outputId": "96f4acc9-f445-492f-947f-a6be9294fcf2"
      },
      "execution_count": null,
      "outputs": [
        {
          "output_type": "stream",
          "name": "stdout",
          "text": [
            "Is A and B refering to same object :  True\n",
            "Is A and C refering to same object :  False\n"
          ]
        }
      ]
    },
    {
      "cell_type": "markdown",
      "source": [
        "## Control Flow Statements\n",
        "Taking decission based on certain conditions\n",
        "\n",
        "1. **Conditional Statements** - if, if-else, if-elif-else\n",
        "2. **loops** - for, while\n",
        "3. **loop control statements** - break, continue, pass\n",
        "5. **Exception Handline** - try-except, try-except-finally"
      ],
      "metadata": {
        "id": "XrssqOLiUauk"
      }
    },
    {
      "cell_type": "markdown",
      "source": [
        "### if-else\n",
        "\n",
        "* It is a fundamental control flow statement in Python and other programming languages.\n",
        "* It executes different blocks of code based on whether the given condition is `True` or `False`.\n",
        "\n",
        "* The `if` block:\n",
        "  * The `if` block is executed only when the condition passed is `True`.\n",
        "  * Otherwise, the `if` block is neglected, and the compiler jumps to the next block.\n",
        "\n",
        "* The `else` block:\n",
        "  * The `else` block is executed only when the `if` statement is neglected.\n"
      ],
      "metadata": {
        "id": "-x6HcSW_ZWdO"
      }
    },
    {
      "cell_type": "code",
      "source": [
        "#if-else condition\n",
        "\n",
        "age=int(input(\"Enter your age\"))\n",
        "if(age>18):\n",
        "  print(\"You can drive a car!\")\n",
        "else:\n",
        "  print(\"You cannot drive a car\")"
      ],
      "metadata": {
        "colab": {
          "base_uri": "https://localhost:8080/"
        },
        "id": "kSC4HBsrVvXv",
        "outputId": "e0e804f7-f625-479c-8a9b-d21514fdd4f2"
      },
      "execution_count": null,
      "outputs": [
        {
          "output_type": "stream",
          "name": "stdout",
          "text": [
            "Enter your age16\n",
            "You cannot drive a car\n"
          ]
        }
      ]
    },
    {
      "cell_type": "markdown",
      "source": [
        "### if-elif\n",
        "* The elif statement stands for `else if`\n",
        "* It is used to test additional conditions if the preceding if statement(s) have not been met.\n",
        "* Multiple elif statements can be used to test different conditions sequentially.\n",
        "* If an elif condition evaluates to True, the corresponding code block is executed, and subsequent elif and else blocks are skipped.\n"
      ],
      "metadata": {
        "id": "Jl8Nq7DWdwQa"
      }
    },
    {
      "cell_type": "code",
      "source": [
        "#if-elif-else condition\n",
        "\n",
        "age=int(input(\"Enter your age\"))\n",
        "if(age>18):\n",
        "  print(\"You can drive a car!\")\n",
        "elif(age>=16 & age<18):\n",
        "  print(\"You can drive a car. But, with elders only!\")\n",
        "else:\n",
        "  print(\"You cannot drive a car\")"
      ],
      "metadata": {
        "colab": {
          "base_uri": "https://localhost:8080/"
        },
        "id": "ScJ5Kj-IWLDZ",
        "outputId": "70344506-f7c3-49cf-fbee-3395aa9712aa"
      },
      "execution_count": null,
      "outputs": [
        {
          "output_type": "stream",
          "name": "stdout",
          "text": [
            "Enter your age16\n",
            "You can drive a car. But, with elders only!\n"
          ]
        }
      ]
    },
    {
      "cell_type": "code",
      "source": [
        "#nested if-else\n",
        "\n",
        "age=int(input(\"Enter your age : \"))\n",
        "if(age>=18):\n",
        "  #nested if else\n",
        "  if(age>=70):\n",
        "    print(\"It is suggested you dont drive your car!\")\n",
        "  else:\n",
        "    print(\"You can drive a car!\")\n",
        "elif(age>=16 & age<18):\n",
        "  print(\"You can drive a car. But, with elders only!\")\n",
        "else:\n",
        "  print(\"You cannot drive a car. Wait till you are 18\")"
      ],
      "metadata": {
        "colab": {
          "base_uri": "https://localhost:8080/"
        },
        "id": "7BMiPI0aXL4J",
        "outputId": "ff8fc116-12e8-4494-d5cc-5dfcbc5ff9b7"
      },
      "execution_count": null,
      "outputs": [
        {
          "output_type": "stream",
          "name": "stdout",
          "text": [
            "Enter your age : 45\n",
            "You can drive a car!\n"
          ]
        }
      ]
    },
    {
      "cell_type": "markdown",
      "source": [
        "### Problem with if-if-else\n"
      ],
      "metadata": {
        "id": "aor6usZIeMt6"
      }
    },
    {
      "cell_type": "code",
      "source": [
        "#problem with if-if-else\n",
        "\n",
        "n=int(input(\"Enter the number : \"))\n",
        "if n>0:\n",
        "  print(\"Positive\")\n",
        "if n==0:\n",
        "  print(\"Zero number\")\n",
        "else:\n",
        "  print(\"Negative\")\n",
        "\n",
        "  '''\n",
        "  what happens her is :\n",
        "  1. when we declare if-else statement,\n",
        "  2. if the else's corresponding if statement is not executed, then the associated else statement is executed\n",
        "  3. you can see that here, as first if was executed, but then the next if was skippend and automatically else was executed\n",
        "  4. solution - elif  \"\"\""
      ],
      "metadata": {
        "colab": {
          "base_uri": "https://localhost:8080/"
        },
        "id": "hwtqXR1sz3Ps",
        "outputId": "d8637f91-552e-4aa1-90c5-5d437d6ca5cc"
      },
      "execution_count": null,
      "outputs": [
        {
          "output_type": "stream",
          "name": "stdout",
          "text": [
            "Enter the number : 4\n",
            "Positive\n",
            "Negative\n"
          ]
        }
      ]
    },
    {
      "cell_type": "code",
      "source": [
        "# the problem is solved in this code\n",
        "n=int(input(\"Enter the number : \"))\n",
        "if n>0:\n",
        "  print(\"Positive\")\n",
        "elif n==0:\n",
        "  print(\"Zero number\")\n",
        "else:\n",
        "  print(\"Negative\")"
      ],
      "metadata": {
        "colab": {
          "base_uri": "https://localhost:8080/"
        },
        "id": "lVmKQeCY0wCa",
        "outputId": "c1d350ce-869a-4ad2-cb67-8e9b75a3ab55"
      },
      "execution_count": null,
      "outputs": [
        {
          "output_type": "stream",
          "name": "stdout",
          "text": [
            "Enter the number : 4\n",
            "Positive\n"
          ]
        }
      ]
    },
    {
      "cell_type": "code",
      "source": [
        "# Find Maximun and Minumum in a list\n",
        "\n",
        "marks=[96,67,98,45,98]\n",
        "print(\"Maximum marks are : \",max(marks))\n",
        "print(\"Minimum marks are : \",min(marks))"
      ],
      "metadata": {
        "colab": {
          "base_uri": "https://localhost:8080/"
        },
        "id": "tIaLtyTq42zz",
        "outputId": "725241f2-4a98-488e-a08b-3990618c713b"
      },
      "execution_count": null,
      "outputs": [
        {
          "output_type": "stream",
          "name": "stdout",
          "text": [
            "Maximum marks are :  98\n",
            "Minimum marks are :  45\n"
          ]
        }
      ]
    },
    {
      "cell_type": "code",
      "source": [
        "marks = [96, 67, 98, 45, 98]\n",
        "print(marks)\n",
        "for mark in marks:\n",
        "    if mark > 90:\n",
        "        print(\"A grade\")\n",
        "    elif mark >= 80:\n",
        "        print(\"B grade\")\n",
        "    elif mark >= 70:\n",
        "        print(\"C grade\")\n",
        "    elif mark >= 60:\n",
        "        print(\"D grade\")\n",
        "    elif mark >= 40:\n",
        "        print(\"E grade\")\n",
        "    else:\n",
        "        print(\"Fail\")\n"
      ],
      "metadata": {
        "colab": {
          "base_uri": "https://localhost:8080/"
        },
        "id": "Z2dUhR7X5pNg",
        "outputId": "2552c158-fac6-4086-b29d-ceab74db99a6"
      },
      "execution_count": null,
      "outputs": [
        {
          "output_type": "stream",
          "name": "stdout",
          "text": [
            "[96, 67, 98, 45, 98]\n",
            "A grade\n",
            "D grade\n",
            "A grade\n",
            "E grade\n",
            "A grade\n"
          ]
        }
      ]
    },
    {
      "cell_type": "markdown",
      "source": [
        "## Loops in Python\n",
        "\n",
        "* Loops are control flow statements that allow the user to execute the same block of code repeatedly.\n",
        "* Loops usually repeat the execution of the block until the given condition becomes false. (Caution: Infinite loops can occur if the condition never becomes false.)\n",
        "\n",
        "The two types of looping statements in Python are:\n",
        "1. `while` loop,\n",
        "2. `for` loop."
      ],
      "metadata": {
        "id": "ZGuYI5DZdcyT"
      }
    },
    {
      "cell_type": "markdown",
      "source": [
        "### while loop\n",
        "a simple `while` loop will repeatedly execute the block of code as long as the specified condition is `True`.\n",
        "* The condition is evaluated before each iteration of the loop, and if the condition yeilds `False` value the while loop is terminated and the interppreter moves to the next block of program.\n",
        "* if the condition never becomes false, it is executed infinitely.\n",
        "\n",
        "syntax\n",
        "```python\n",
        "while (condition):\n",
        "  #statements\n"
      ],
      "metadata": {
        "id": "xWfcE6M40s1R"
      }
    },
    {
      "cell_type": "code",
      "source": [
        "#simple while loop\n",
        "n=0\n",
        "while n<5:\n",
        "  print(\"The value of n is : \",n)\n",
        "  n+=1 #update"
      ],
      "metadata": {
        "colab": {
          "base_uri": "https://localhost:8080/"
        },
        "id": "KtGVINAwdxOD",
        "outputId": "d946feca-5343-4caa-ef1e-5b57d4861b4b"
      },
      "execution_count": null,
      "outputs": [
        {
          "output_type": "stream",
          "name": "stdout",
          "text": [
            "The value of n is :  0\n",
            "The value of n is :  1\n",
            "The value of n is :  2\n",
            "The value of n is :  3\n",
            "The value of n is :  4\n"
          ]
        }
      ]
    },
    {
      "cell_type": "code",
      "source": [
        "#printing all numbers from 1 to 10\n",
        "i=1\n",
        "while i<=10:\n",
        "  print(i, end=\" \")\n",
        "  i+=1"
      ],
      "metadata": {
        "colab": {
          "base_uri": "https://localhost:8080/"
        },
        "id": "0a-LB2T1e5f2",
        "outputId": "cd338357-35e3-4964-8e65-2f751207aa73"
      },
      "execution_count": null,
      "outputs": [
        {
          "output_type": "stream",
          "name": "stdout",
          "text": [
            "1 2 3 4 5 6 7 8 9 10 "
          ]
        }
      ]
    },
    {
      "cell_type": "code",
      "source": [
        "#printing even number from 0 to 10\n",
        "i=1\n",
        "while i<=10:\n",
        "  if(i%2==0):\n",
        "     print(i, end=\" \")\n",
        "  i+=1"
      ],
      "metadata": {
        "colab": {
          "base_uri": "https://localhost:8080/"
        },
        "id": "6sXR06qQe-7v",
        "outputId": "7ec2fdbc-8708-490d-8638-72425888e8fc"
      },
      "execution_count": null,
      "outputs": [
        {
          "output_type": "stream",
          "name": "stdout",
          "text": [
            "2 4 6 8 10 "
          ]
        }
      ]
    },
    {
      "cell_type": "code",
      "source": [
        "#printing odd numbers from 0 to 10\n",
        "i=1\n",
        "while i<=10:\n",
        "  if(i%2!=0):\n",
        "     print(i, end=\" \")\n",
        "  i+=1"
      ],
      "metadata": {
        "colab": {
          "base_uri": "https://localhost:8080/"
        },
        "id": "R8q3_gUTgjJi",
        "outputId": "24f31a56-625e-4f7e-df44-64ed34814ee4"
      },
      "execution_count": null,
      "outputs": [
        {
          "output_type": "stream",
          "name": "stdout",
          "text": [
            "1 3 5 7 9 "
          ]
        }
      ]
    },
    {
      "cell_type": "code",
      "source": [
        "#print sum of all numbers from 1 to 10\n",
        "i=1\n",
        "sum=0\n",
        "while i<=10:\n",
        "  sum=sum+i\n",
        "  i+=1\n",
        "print(\"The sum of all numbers from 1 to 10 are : \",sum)"
      ],
      "metadata": {
        "colab": {
          "base_uri": "https://localhost:8080/"
        },
        "id": "m1gkwXOqgtAT",
        "outputId": "a7092b60-c793-480c-a1f6-be582c111131"
      },
      "execution_count": null,
      "outputs": [
        {
          "output_type": "stream",
          "name": "stdout",
          "text": [
            "The sum of all numbers from 1 to 10 are :  55\n"
          ]
        }
      ]
    },
    {
      "cell_type": "markdown",
      "source": [
        "### Range Function\n",
        "* range function is used to generate sequence of numebrs. it is commonly used with loops to iterate over a specific range of values.\n",
        "* range function takes one, two or three arguments.\n",
        "syntax - `range(start, stop, jump)`\n",
        "if you give single parameter it is considered as end `range(end)` - here, default start is 0 and default jump is 1\n"
      ],
      "metadata": {
        "id": "v66frZDHh0wY"
      }
    },
    {
      "cell_type": "code",
      "source": [
        "# range function with end point\n",
        "arr=list(range(10))\n",
        "print(arr)\n",
        "\n",
        "# range function with start and end point\n",
        "arr=list(range(10, 21))\n",
        "print(arr)\n",
        "\n",
        "# range function with start point, end point and jump number\n",
        "arr=list(range(20, 101, 5))\n",
        "print(arr)\n",
        "\n",
        "#reverse ranging\n",
        "arr=list(range(100, 19, -5))\n",
        "print(arr)"
      ],
      "metadata": {
        "colab": {
          "base_uri": "https://localhost:8080/"
        },
        "id": "oren-IpLifte",
        "outputId": "ca68b6e9-ccf0-4660-98fd-611254f2a013"
      },
      "execution_count": null,
      "outputs": [
        {
          "output_type": "stream",
          "name": "stdout",
          "text": [
            "[0, 1, 2, 3, 4, 5, 6, 7, 8, 9]\n",
            "[10, 11, 12, 13, 14, 15, 16, 17, 18, 19, 20]\n",
            "[20, 25, 30, 35, 40, 45, 50, 55, 60, 65, 70, 75, 80, 85, 90, 95, 100]\n",
            "[100, 95, 90, 85, 80, 75, 70, 65, 60, 55, 50, 45, 40, 35, 30, 25, 20]\n"
          ]
        }
      ]
    },
    {
      "cell_type": "markdown",
      "source": [
        "### Iterable, Iterator, and Iteration\n",
        "\n",
        "| Concept    | Definition                                                                                                       | Example                                    |\n",
        "|------------|------------------------------------------------------------------------------------------------------------------|--------------------------------------------|\n",
        "| Iterable   | An object that can be iterated over; it can be passed to a `for` loop or functions like `list()`, `tuple()`, etc. | Lists, tuples, dictionaries, strings, sets |\n",
        "| Iterator   | An object used to traverse an iterable; it implements `__iter__()` and `__next__()` methods                       | `iter()` function, custom iterators        |\n",
        "| Iteration  | The process of accessing each element of an iterable using an iterator                                            | `for` loop, manual iteration with `__next__()` method |\n"
      ],
      "metadata": {
        "id": "omGkJtxLm0Rt"
      }
    },
    {
      "cell_type": "code",
      "source": [
        "# using for loop to print number from 1 to 10\n",
        "\n",
        "#i : iterator\n",
        "#range : iterable\n",
        "\n",
        "for i in range(1, 11):\n",
        "  print(i, end=\" \")\n",
        "  i+=1\n"
      ],
      "metadata": {
        "colab": {
          "base_uri": "https://localhost:8080/"
        },
        "id": "mzhMViTYnudz",
        "outputId": "dcd89e1b-da8d-4123-c05b-4e16c23884e8"
      },
      "execution_count": null,
      "outputs": [
        {
          "output_type": "stream",
          "name": "stdout",
          "text": [
            "1 2 3 4 5 6 7 8 9 10 "
          ]
        }
      ]
    },
    {
      "cell_type": "code",
      "source": [
        "#print multiplication table using for loop\n",
        "\n",
        "i=int(input(\"Enter the table number : \"))\n",
        "n=1\n",
        "for n in range(1, 11):\n",
        "  print(i,'x',n,'=',i*n, sep=' ')\n",
        "  n+=1"
      ],
      "metadata": {
        "colab": {
          "base_uri": "https://localhost:8080/"
        },
        "id": "7ih969UvHUAK",
        "outputId": "24ed52dc-477b-4aac-9213-e4ed45f5d525"
      },
      "execution_count": null,
      "outputs": [
        {
          "output_type": "stream",
          "name": "stdout",
          "text": [
            "Enter the table number : 9\n",
            "9 x 1 = 9\n",
            "9 x 2 = 18\n",
            "9 x 3 = 27\n",
            "9 x 4 = 36\n",
            "9 x 5 = 45\n",
            "9 x 6 = 54\n",
            "9 x 7 = 63\n",
            "9 x 8 = 72\n",
            "9 x 9 = 81\n",
            "9 x 10 = 90\n"
          ]
        }
      ]
    },
    {
      "cell_type": "markdown",
      "source": [
        "### Nested for loop\n",
        "in simple words, a loop inside another loop is knows as a nested for loop\n"
      ],
      "metadata": {
        "id": "qGX59pvGJE5v"
      }
    },
    {
      "cell_type": "code",
      "source": [
        "#printing pattern\n",
        "\n",
        "i=int(input(\"Enter the pattern size\"))\n",
        "n=0\n",
        "for n in range(1, i+1):\n",
        "  for m in range(1, i+1):\n",
        "    print(\"#\", end='')\n",
        "  print(\"\\n\")"
      ],
      "metadata": {
        "colab": {
          "base_uri": "https://localhost:8080/"
        },
        "id": "1EoD-xDkIQ-a",
        "outputId": "d0b696c6-23c5-4b96-e2f1-067603f6d50b"
      },
      "execution_count": null,
      "outputs": [
        {
          "output_type": "stream",
          "name": "stdout",
          "text": [
            "Enter the pattern size3\n",
            "###\n",
            "\n",
            "###\n",
            "\n",
            "###\n",
            "\n"
          ]
        }
      ]
    },
    {
      "cell_type": "code",
      "source": [
        "# drawing star pattersn\n",
        "\n",
        "i=int(input(\"Enter the Size to be recorded : \"))\n",
        "for n in range(1, i+1):\n",
        "  for m in range(1, n+1):\n",
        "    print(\"*\", end=\"\")\n",
        "  print(\"\")"
      ],
      "metadata": {
        "colab": {
          "base_uri": "https://localhost:8080/"
        },
        "id": "PYL3MM8_JZqE",
        "outputId": "f4bb1d07-e813-4697-9fc7-c0e6cb9c222e"
      },
      "execution_count": null,
      "outputs": [
        {
          "output_type": "stream",
          "name": "stdout",
          "text": [
            "Enter the Size to be recorded : 4\n",
            "*\n",
            "**\n",
            "***\n",
            "****\n"
          ]
        }
      ]
    },
    {
      "cell_type": "code",
      "source": [
        "#printing the above in reverse\n",
        "i=int(input(\"Enter the Size to be recorded : \"))\n",
        "for n in range(i, 0, -1):\n",
        "  for m in range(n, 0, -1):\n",
        "    print(\"*\", end=\"\")\n",
        "  print(\"\")"
      ],
      "metadata": {
        "colab": {
          "base_uri": "https://localhost:8080/"
        },
        "id": "SMVELLMQJ4Q6",
        "outputId": "f2e3b92d-f4a3-4876-d3e3-88689bca13bc"
      },
      "execution_count": null,
      "outputs": [
        {
          "output_type": "stream",
          "name": "stdout",
          "text": [
            "Enter the Size to be recorded : 4\n",
            "****\n",
            "***\n",
            "**\n",
            "*\n"
          ]
        }
      ]
    },
    {
      "cell_type": "markdown",
      "source": [
        "### Break, Continue, and Pass\n",
        "\n",
        "\n",
        "| Statement  | Description                                                                                                           | Example                                                                 |\n",
        "|------------|-----------------------------------------------------------------------------------------------------------------------|-------------------------------------------------------------------------|\n",
        "| `break`    | Terminates the execution of the nearest enclosing loop statement or `switch` statement.                               | ```python                                                                ```<br>```for i in range(5):```<br>```    if i == 3:```<br>```        break```<br>```    print(i)```<br>```# Output: 0 1 2```     |\n",
        "| `continue` | Skips the rest of the current iteration of the loop and proceeds to the next iteration.                              | ```python                                                                ```<br>```for i in range(5):```<br>```    if i == 2:```<br>```        continue```<br>```    print(i)```<br>```# Output: 0 1 3 4``` |\n",
        "| `pass`     | Placeholder that does nothing when executed; used as a placeholder in situations where a statement is syntactically required but no action is needed. | ```python```<br>```for i in range(5):```<br>```    if i == 2:```<br>```        pass```<br>```    print(i)```<br>```# Output: 0 1 2 3 4```  |\n"
      ],
      "metadata": {
        "id": "29SB_A71K9RO"
      }
    },
    {
      "cell_type": "code",
      "source": [
        "# pass statement\n",
        "'''you cannot leave a function of a loop empty'''\n",
        "'''hence you can use the pass function'''\n",
        "\n",
        "#example\n",
        "for i in range(1, 11):\n",
        "  print(\"Hello world!\")\n",
        "\n",
        "#if you remove the statement in line number 7, then it returns an error.\n",
        "# you cannot keep it empty but you can use the pass function\n",
        "\n",
        "print(\"\\n\\nUsing pass\")\n",
        "for i in range(1, 11):\n",
        "  pass\n",
        "  #print(\"Assalamualikum world!\")"
      ],
      "metadata": {
        "colab": {
          "base_uri": "https://localhost:8080/"
        },
        "id": "fWHgKSoCLlUl",
        "outputId": "cae644b0-40e3-4e49-e39d-7d47a3a1b9b2"
      },
      "execution_count": null,
      "outputs": [
        {
          "output_type": "stream",
          "name": "stdout",
          "text": [
            "Hello world!\n",
            "Hello world!\n",
            "Hello world!\n",
            "Hello world!\n",
            "Hello world!\n",
            "Hello world!\n",
            "Hello world!\n",
            "Hello world!\n",
            "Hello world!\n",
            "Hello world!\n",
            "\n",
            "\n",
            "Using pass\n"
          ]
        }
      ]
    },
    {
      "cell_type": "code",
      "source": [
        "#using Continue statemet\n",
        "#it skips the current iteration and moves to another\n",
        "\n",
        "i=int(input(\"Enter the Number : \"))\n",
        "for n in range(1, 11):\n",
        "  if(n%3==0):\n",
        "    continue\n",
        "  else:\n",
        "    print(i,'x',n,'=', i*n)"
      ],
      "metadata": {
        "colab": {
          "base_uri": "https://localhost:8080/"
        },
        "id": "MjyMDwMQM5CV",
        "outputId": "cbd0c7bc-b5b4-4b1b-91e1-ee05146cfadb"
      },
      "execution_count": null,
      "outputs": [
        {
          "output_type": "stream",
          "name": "stdout",
          "text": [
            "Enter the Number : 7\n",
            "7 x 1 = 7\n",
            "7 x 2 = 14\n",
            "7 x 4 = 28\n",
            "7 x 5 = 35\n",
            "7 x 7 = 49\n",
            "7 x 8 = 56\n",
            "7 x 10 = 70\n"
          ]
        }
      ]
    },
    {
      "cell_type": "code",
      "source": [
        "#break - it is used to exit from the neartest corresponding loop\n",
        "#using COntinue statemet\n",
        "#it skips the current iteration and moves to another\n",
        "\n",
        "i=int(input(\"Enter the Number : \"))\n",
        "for n in range(1, 11):\n",
        "  if(n%7==0):\n",
        "    break\n",
        "  else:\n",
        "    print(i,'x',n,'=', i*n)"
      ],
      "metadata": {
        "colab": {
          "base_uri": "https://localhost:8080/"
        },
        "id": "gGQZMPw6NaW0",
        "outputId": "afc269ce-73e0-4e3f-e8d8-782fd548a40d"
      },
      "execution_count": null,
      "outputs": [
        {
          "output_type": "stream",
          "name": "stdout",
          "text": [
            "Enter the Number : 9\n",
            "9 x 1 = 9\n",
            "9 x 2 = 18\n",
            "9 x 3 = 27\n",
            "9 x 4 = 36\n",
            "9 x 5 = 45\n",
            "9 x 6 = 54\n"
          ]
        }
      ]
    },
    {
      "cell_type": "markdown",
      "source": [
        "## Strings in python\n",
        "\n",
        "1. in Python Strings are Sequence of characters,\n",
        "2. they can be defined using single, double or tripple quotes.\n"
      ],
      "metadata": {
        "id": "L3mKhvwwG_Sj"
      }
    },
    {
      "cell_type": "markdown",
      "source": [
        "### Odr and Chr\n",
        "\n",
        "### Ord and Chr\n",
        "\n",
        "1. **ord() function**:\n",
        "   * Using the ord(\"char\") - we can find the order of a given character in terms of an integer.\n",
        "   * ord() stands for \"ordinal\" and is short for \"ordinal value.\"\n",
        "   * It takes a single character (a string of length 1) as an argument and returns the Unicode code point (integer) representing the Unicode value of that character.\n",
        "   * For example, ord('A') returns 65, ord('B') returns 66, and so on.\n",
        "   * It's important to note that ord() works for ASCII characters as well as Unicode characters.\n",
        "\n",
        "2. **chr() function**:\n",
        "   * Using the chr(int) - we can find the character associated with a given number.\n",
        "   * chr() stands for \"character.\"\n",
        "   * It takes an integer representing a Unicode code point as an argument and returns the corresponding character (a string of length 1).\n",
        "   * For example, chr(65) returns 'A', chr(66) returns 'B', and so on.\n",
        "   * chr() can be used to convert ASCII or Unicode integer values back into their corresponding characters.\n",
        "\n"
      ],
      "metadata": {
        "id": "zepC3VpmH8ca"
      }
    },
    {
      "cell_type": "code",
      "source": [
        "ord('a')"
      ],
      "metadata": {
        "colab": {
          "base_uri": "https://localhost:8080/"
        },
        "id": "UoLEpB5NIclA",
        "outputId": "0abbca21-8092-4391-f888-cbddf4f0e596"
      },
      "execution_count": null,
      "outputs": [
        {
          "output_type": "execute_result",
          "data": {
            "text/plain": [
              "97"
            ]
          },
          "metadata": {},
          "execution_count": 2
        }
      ]
    },
    {
      "cell_type": "code",
      "source": [
        "ord('z')"
      ],
      "metadata": {
        "colab": {
          "base_uri": "https://localhost:8080/"
        },
        "id": "RKUVjRzPIn0W",
        "outputId": "6e32b60f-72e4-4951-9d9c-cceb3e95c7db"
      },
      "execution_count": null,
      "outputs": [
        {
          "output_type": "execute_result",
          "data": {
            "text/plain": [
              "122"
            ]
          },
          "metadata": {},
          "execution_count": 3
        }
      ]
    },
    {
      "cell_type": "code",
      "source": [
        "ord('A')"
      ],
      "metadata": {
        "colab": {
          "base_uri": "https://localhost:8080/"
        },
        "id": "EqTd3qG8Io7W",
        "outputId": "19fa9d3a-9301-4944-8182-71851465d8be"
      },
      "execution_count": null,
      "outputs": [
        {
          "output_type": "execute_result",
          "data": {
            "text/plain": [
              "65"
            ]
          },
          "metadata": {},
          "execution_count": 4
        }
      ]
    },
    {
      "cell_type": "code",
      "source": [
        "ord('Z')"
      ],
      "metadata": {
        "colab": {
          "base_uri": "https://localhost:8080/"
        },
        "id": "7_MFv2asIqXS",
        "outputId": "cfb2409a-1796-47bd-b6ee-98f6d076d589"
      },
      "execution_count": null,
      "outputs": [
        {
          "output_type": "execute_result",
          "data": {
            "text/plain": [
              "90"
            ]
          },
          "metadata": {},
          "execution_count": 5
        }
      ]
    },
    {
      "cell_type": "code",
      "source": [
        "ord('#')"
      ],
      "metadata": {
        "colab": {
          "base_uri": "https://localhost:8080/"
        },
        "id": "bQuxQXgeIsH0",
        "outputId": "4f185c64-2822-439d-e137-3eae5b02c353"
      },
      "execution_count": null,
      "outputs": [
        {
          "output_type": "execute_result",
          "data": {
            "text/plain": [
              "35"
            ]
          },
          "metadata": {},
          "execution_count": 6
        }
      ]
    },
    {
      "cell_type": "code",
      "source": [
        "chr(67)"
      ],
      "metadata": {
        "colab": {
          "base_uri": "https://localhost:8080/",
          "height": 35
        },
        "id": "KxY7Clv6Iv2M",
        "outputId": "861ab7aa-b692-4f3b-af08-f63d34684e22"
      },
      "execution_count": null,
      "outputs": [
        {
          "output_type": "execute_result",
          "data": {
            "text/plain": [
              "'C'"
            ],
            "application/vnd.google.colaboratory.intrinsic+json": {
              "type": "string"
            }
          },
          "metadata": {},
          "execution_count": 12
        }
      ]
    },
    {
      "cell_type": "code",
      "source": [
        "chr(98)"
      ],
      "metadata": {
        "colab": {
          "base_uri": "https://localhost:8080/",
          "height": 35
        },
        "id": "uAhBa0mLI4VK",
        "outputId": "c818bb55-df4b-4206-b9aa-1da33e306746"
      },
      "execution_count": null,
      "outputs": [
        {
          "output_type": "execute_result",
          "data": {
            "text/plain": [
              "'b'"
            ],
            "application/vnd.google.colaboratory.intrinsic+json": {
              "type": "string"
            }
          },
          "metadata": {},
          "execution_count": 13
        }
      ]
    },
    {
      "cell_type": "markdown",
      "source": [
        "### Indexing in a String\n",
        "* starts from 0\n",
        "* Indexing\n",
        "  *  positive indexing - index=n-1\n",
        "  *  negative indexing - index=-n"
      ],
      "metadata": {
        "id": "YCSor5hnJg7t"
      }
    },
    {
      "cell_type": "code",
      "source": [
        "name=\"Ameer Salam\"\n",
        "print(name[-1])"
      ],
      "metadata": {
        "colab": {
          "base_uri": "https://localhost:8080/"
        },
        "id": "eGe0sf6RJtsO",
        "outputId": "87c303fe-abbf-460a-d90e-3dc29f793cb8"
      },
      "execution_count": null,
      "outputs": [
        {
          "output_type": "stream",
          "name": "stdout",
          "text": [
            "m\n"
          ]
        }
      ]
    },
    {
      "cell_type": "markdown",
      "source": [
        "### String slicing\n",
        "* by String slicing, you can extract a substring (a portion of a string)\n",
        "* syntax -\n",
        "```python\n",
        "string[start:stop:step]\n",
        "string_name[Start:end]\n",
        "```\n"
      ],
      "metadata": {
        "id": "a5LwjxwkKoj2"
      }
    },
    {
      "cell_type": "code",
      "source": [
        "name='Ameer Salam'\n",
        "print(name[::2])"
      ],
      "metadata": {
        "id": "1fS55XT2Lkxa",
        "outputId": "483d0eb1-a462-4f05-bb2e-b2576bce8ba0",
        "colab": {
          "base_uri": "https://localhost:8080/"
        }
      },
      "execution_count": null,
      "outputs": [
        {
          "output_type": "stream",
          "name": "stdout",
          "text": [
            "AerSlm\n"
          ]
        }
      ]
    },
    {
      "cell_type": "markdown",
      "source": [
        "### String *Methods*\n",
        "\n",
        "| Method          | Description                                                                                                                                                                      | Example                                                                                                        |\n",
        "|-----------------|----------------------------------------------------------------------------------------------------------------------------------------------------------------------------------|----------------------------------------------------------------------------------------------------------------|\n",
        "| `capitalize()`  | Returns a copy of the string with the first character capitalized and the rest lowercased.                                                                                      | `s = \"hello world\"`<br>`print(s.capitalize())`<br>Output: `Hello world`                                      |\n",
        "| `upper()`       | Returns a copy of the string with all characters converted to uppercase.                                                                                                        | `s = \"hello world\"`<br>`print(s.upper())`<br>Output: `HELLO WORLD`                                            |\n",
        "| `lower()`       | Returns a copy of the string with all characters converted to lowercase.                                                                                                        | `s = \"Hello World\"`<br>`print(s.lower())`<br>Output: `hello world`                                            |\n",
        "| `title()`       | Returns a copy of the string with the first character of each word capitalized and the rest lowercased.                                                                         | `s = \"hello world\"`<br>`print(s.title())`<br>Output: `Hello World`                                            |\n",
        "| `strip()`       | Returns a copy of the string with leading and trailing whitespace removed.                                                                                                       | `s = \"  hello world  \"`<br>`print(s.strip())`<br>Output: `hello world`                                       |\n",
        "| `replace()`     | Returns a copy of the string with all occurrences of a specified substring replaced with another substring.                                                                     | `s = \"hello world\"`<br>`print(s.replace('world', 'python'))`<br>Output: `hello python`                        |\n",
        "| `split()`       | Splits the string into a list of substrings based on a specified delimiter (default is whitespace).                                                                            | `s = \"hello world\"`<br>`print(s.split())`<br>Output: `['hello', 'world']`                                    |\n",
        "| `join()`        | Joins elements of an iterable (such as a list) into a single string with the string acting as a separator between each element.                                                   | `words = ['hello', 'world']`<br>`print(' '.join(words))`<br>Output: `hello world`                              |\n",
        "| `startswith()`  | Returns `True` if the string starts with the specified prefix; otherwise, returns `False`.                                                                                     | `s = \"hello world\"`<br>`print(s.startswith('hello'))`<br>Output: `True`                                      |\n",
        "| `endswith()`    | Returns `True` if the string ends with the specified suffix; otherwise, returns `False`.                                                                                       | `s = \"hello world\"`<br>`print(s.endswith('world'))`<br>Output: `True`                                         |\n",
        "| `find()`        | Returns the lowest index of the substring if it is found in the string; otherwise, returns `-1`.                                                                                | `s = \"hello world\"`<br>`print(s.find('world'))`<br>Output: `6`                                                |\n",
        "| `index()`       | Similar to `find()`, but raises a `ValueError` if the substring is not found in the string.                                                                                    | `s = \"hello world\"`<br>`print(s.index('world'))`<br>Output: `6`                                               |\n",
        "| `count()`       | Returns the number of occurrences of a specified substring in the string.                                                                                                       | `s = \"hello world\"`<br>`print(s.count('l'))`<br>Output: `3`                                                   |\n",
        "| `isalpha()`     | Returns `True` if all characters in the string are alphabetic (letters); otherwise, returns `False`.                                                                           | `s = \"hello\"`<br>`print(s.isalpha())`<br>Output: `True`                                                       |\n",
        "| `isdigit()`     | Returns `True` if all characters in the string are digits; otherwise, returns `False`.                                                                                         | `s = \"123\"`<br>`print(s.isdigit())`<br>Output: `True`                                                         |\n",
        "| `isspace()`     | Returns `True` if all characters in the string are whitespace (spaces, tabs, newline); otherwise, returns `False`.                                                             | `s = \" \"`<br>`print(s.isspace())`<br>Output: `True`                                                          |\n",
        "| `startswith()`  | Returns `True` if the string starts with the specified prefix; otherwise, returns `False`.                                                                                     | `s = \"hello world\"`<br>`print(s.startswith('hello'))`<br>Output: `True`                                      |\n",
        "| `endswith()`    | Returns `True` if the string ends with the specified suffix; otherwise, returns `False`.                                                                                       | `s = \"hello world\"`<br>`print(s.endswith('world'))`<br>Output: `True`                                         |\n",
        "| `partition()`   | Returns a tuple containing three elements: the part before the separator, the separator itself, and the part after the separator.                                               | `s = \"hello world\"`<br>`print(s.partition(' '))`<br>Output: `('hello', ' ', 'world')`                         |\n",
        "| `center()`      | Returns a centered string of specified width with the original string centered and padded with specified fillchar (default is space).                                             | `s = \"hello\"`<br>`print(s.center(10, '*'))`<br>Output: `**\n"
      ],
      "metadata": {
        "id": "Xmh4fdLL0z-h"
      }
    },
    {
      "cell_type": "code",
      "source": [
        "#string methods\n",
        "n='ameer salam'\n",
        "\n",
        "print(n.capitalize())\n",
        "print(n.upper())\n",
        "print(n.lower())\n",
        "n='ameersalam'\n",
        "print(n.isalpha())\n",
        "no='324'\n",
        "print(no.isdigit())\n",
        "n='ameer salam'\n",
        "print(n.find('la'))\n",
        "print(n.count('l'))\n",
        "print(n.replace('l', \"L\"))\n",
        "print(n.split())\n",
        "print(n.isupper())\n",
        "print(n.islower())"
      ],
      "metadata": {
        "colab": {
          "base_uri": "https://localhost:8080/"
        },
        "id": "yIVliYXj2QAa",
        "outputId": "185b2bb0-de4e-4649-d69a-953627d3f83f"
      },
      "execution_count": null,
      "outputs": [
        {
          "output_type": "stream",
          "name": "stdout",
          "text": [
            "Ameer salam\n",
            "AMEER SALAM\n",
            "ameer salam\n",
            "True\n",
            "True\n",
            "8\n",
            "1\n",
            "ameer saLam\n",
            "['ameer', 'salam']\n",
            "False\n",
            "True\n"
          ]
        }
      ]
    },
    {
      "cell_type": "markdown",
      "source": [
        "### String Formatting\n",
        "* the process of creating formatted strings by embedding variables or expressions within a string template."
      ],
      "metadata": {
        "id": "ev_GZwMN49cq"
      }
    },
    {
      "cell_type": "code",
      "source": [
        "name='Ameer Salam'\n",
        "age=21\n",
        "\n",
        "string='My name is {} and my age is {}'\n",
        "\n",
        "print(f'My name is {name} and my age is {age}') #this is available in version 3.6 and above"
      ],
      "metadata": {
        "colab": {
          "base_uri": "https://localhost:8080/"
        },
        "id": "Nj_RFlAA6ly8",
        "outputId": "1acdc255-b4eb-48a0-b1b1-c0d01cd8515c"
      },
      "execution_count": null,
      "outputs": [
        {
          "output_type": "stream",
          "name": "stdout",
          "text": [
            "My name is Ameer Salam and my age is 21\n"
          ]
        }
      ]
    },
    {
      "cell_type": "code",
      "source": [
        "#string concatination\n",
        "\n",
        "name='Ameer Salam'\n",
        "age='21'\n",
        "print(name + age)"
      ],
      "metadata": {
        "colab": {
          "base_uri": "https://localhost:8080/"
        },
        "id": "Qs5zGc-g--zJ",
        "outputId": "927c8572-43a5-4598-c572-9ccc9f9cbabd"
      },
      "execution_count": null,
      "outputs": [
        {
          "output_type": "stream",
          "name": "stdout",
          "text": [
            "Ameer Salam21\n"
          ]
        }
      ]
    },
    {
      "cell_type": "code",
      "source": [
        "### String challenge\n",
        "string='The quick brown forx jumps over the lazy dog'\n",
        "\n",
        "#print only the ovels\n",
        "for s in string:\n",
        "  if((s=='a') or (s=='e') or (s=='i') or (s=='o') or (s=='u')):\n",
        "    print(s)\n",
        "  else:\n",
        "    continue"
      ],
      "metadata": {
        "colab": {
          "base_uri": "https://localhost:8080/"
        },
        "id": "ynb1Kmgl_Z-n",
        "outputId": "3f67f818-2cb3-441a-a1db-e3af1243af7c"
      },
      "execution_count": null,
      "outputs": [
        {
          "output_type": "stream",
          "name": "stdout",
          "text": [
            "e\n",
            "u\n",
            "i\n",
            "o\n",
            "o\n",
            "u\n",
            "o\n",
            "e\n",
            "e\n",
            "a\n",
            "o\n"
          ]
        }
      ]
    },
    {
      "cell_type": "code",
      "source": [
        "#check for palindrome\n",
        "name=str(input(\"Enter the string : \"))\n",
        "name2=name[::-1]\n",
        "\n",
        "print(f\"Original string : {name}\")\n",
        "print(f\"Reversed string : {name2}\")\n",
        "if(name==name2):\n",
        "  print(\"Palindrome String\")\n",
        "else:\n",
        "  print(\"The string is not Palindrome\")"
      ],
      "metadata": {
        "colab": {
          "base_uri": "https://localhost:8080/"
        },
        "id": "9zvZgqwmArU6",
        "outputId": "d124431c-d58b-4b44-d3b3-7e2121da74ae"
      },
      "execution_count": null,
      "outputs": [
        {
          "output_type": "stream",
          "name": "stdout",
          "text": [
            "Enter the string : radar\n",
            "Original string : radar\n",
            "Reversed string : radar\n",
            "Palindrome String\n"
          ]
        }
      ]
    },
    {
      "cell_type": "markdown",
      "source": [
        "## Data Structures\n",
        "* Data structures are used to store the data in commputer memory in a well organised manner\n",
        "* it is easy to retrieve and process the data\n",
        "* types of Data structures with Python :\n",
        "  * lists,\n",
        "  * Dictonaries\n",
        "  * sets\n",
        "  * Tuples\n",
        "\n",
        "  "
      ],
      "metadata": {
        "id": "box_DDwl96Wu"
      }
    },
    {
      "cell_type": "markdown",
      "source": [
        "#### Lists\n",
        "1. ordered collection of data,\n",
        "2. syntax -\n",
        "  1. l=[1,2,3,4]\n",
        "  2. l=list()\n",
        "3. Indexing in List starts from 0\n",
        "4. you can also use negative indexing\n",
        "5. it is a mutable type of Data Structure,\n",
        "6. lists are iterable\n",
        "7. we can also perform slicing on lists"
      ],
      "metadata": {
        "id": "FbqPSEjeBN85"
      }
    },
    {
      "cell_type": "markdown",
      "source": [],
      "metadata": {
        "id": "FvP58EOW_BEH"
      }
    },
    {
      "cell_type": "markdown",
      "source": [
        "### **Mutable v/s Immutable objects**\n",
        "In Python, data structures can be categorized as either mutable or immutable based on whether their contents can be changed after creation. Here's a brief explanation of mutable and immutable data structures:\n",
        "\n",
        "1. **Mutable Data Structures**:\n",
        "   - Mutable data structures are those whose contents can be modified after creation.\n",
        "   - When you modify a mutable object, you are actually changing the object in-place, without creating a new object.\n",
        "   - Examples of mutable data structures in Python include lists, dictionaries, and sets.\n",
        "   - For example, you can add, remove, or modify elements in a list, dictionary, or set after it has been created.\n",
        "\n",
        "2. **Immutable Data Structures**:\n",
        "   - Immutable data structures are those whose contents cannot be modified after creation.\n",
        "   - When you \"modify\" an immutable object, you are actually creating a new object with the modified content, leaving the original object unchanged.\n",
        "   - Examples of immutable data structures in Python include strings, tuples, and frozensets.\n",
        "   - For example, once a string or tuple is created, you cannot change its contents. Instead, you have to create a new string or tuple with the desired modifications.\n",
        "\n",
        "\n",
        "| Property           | Mutable Data Structures                                 | Immutable Data Structures                             |\n",
        "|--------------------|---------------------------------------------------------|--------------------------------------------------------|\n",
        "| Modifiability      | Can be modified after creation                          | Cannot be modified after creation                      |\n",
        "| Examples           | Lists, dictionaries, sets                               | Strings, tuples, frozensets                            |\n",
        "| Memory Efficiency  | Less memory efficient (may need to allocate more memory when modified) | More memory efficient (no need to allocate extra memory for modifications) |\n",
        "| Usage              | Used when you need to modify the contents frequently    | Used when you want to ensure the contents remain constant and unchanged |\n"
      ],
      "metadata": {
        "id": "8MCmRUxcB8AS"
      }
    },
    {
      "cell_type": "code",
      "source": [
        "#demonstrating Mutable and Immutable objects\n",
        "str1='Ameer Salam'\n",
        "n1=list([1,2,3,4])\n",
        "\n",
        "print(\"Before demonstrating the mutable and immutable objects\")\n",
        "print(f\"The string {str1} is at memory location {id(str1)}\")\n",
        "print(f\"The List {n1} is at memory location {id(n1)}\")\n",
        "\n",
        "print(\"After demonstrating the mutable and immutable objects\")\n",
        "str1='Salam Ameer'\n",
        "n1[0]=0\n",
        "print(f\"The string {str1} is at memory location {id(str1)}\")\n",
        "print(f\"The List {n1} is at memory location {id(n1)}\")\n",
        "print(\"You can see the mutable object - List is at same address whereas the address of the String variable has changed\")"
      ],
      "metadata": {
        "colab": {
          "base_uri": "https://localhost:8080/"
        },
        "id": "qox-CfbpCd9q",
        "outputId": "3e16cde7-d881-44e1-ddf9-6211c2b93071"
      },
      "execution_count": null,
      "outputs": [
        {
          "output_type": "stream",
          "name": "stdout",
          "text": [
            "Before demonstrating the mutable and immutable objects\n",
            "The string Ameer Salam is at memory location 132487423875248\n",
            "The List [1, 2, 3, 4] is at memory location 132487423541888\n",
            "After demonstrating the mutable and immutable objects\n",
            "The string Salam Ameer is at memory location 132487423870960\n",
            "The List [0, 2, 3, 4] is at memory location 132487423541888\n",
            "You can see the mutable object - List is at same address whereas the address of the String variable has changed\n"
          ]
        }
      ]
    },
    {
      "cell_type": "code",
      "source": [
        "l=[1,2,3,4]\n",
        "print(l)"
      ],
      "metadata": {
        "colab": {
          "base_uri": "https://localhost:8080/"
        },
        "id": "crWYb6nQBCpD",
        "outputId": "66cf3e48-a58a-4720-ce21-d2c0d7e96417"
      },
      "execution_count": null,
      "outputs": [
        {
          "output_type": "stream",
          "name": "stdout",
          "text": [
            "[1, 2, 3, 4]\n"
          ]
        }
      ]
    },
    {
      "cell_type": "code",
      "source": [
        "#demonstrating iteration with lists\n",
        "l=[1,2,3,4,5,6,7,8,9,0]\n",
        "for i in l:\n",
        "  print(i)"
      ],
      "metadata": {
        "colab": {
          "base_uri": "https://localhost:8080/"
        },
        "id": "8YZymGcIDi5Z",
        "outputId": "ce9c0346-416b-4af2-dee4-35ff7d06be89"
      },
      "execution_count": null,
      "outputs": [
        {
          "output_type": "stream",
          "name": "stdout",
          "text": [
            "1\n",
            "2\n",
            "3\n",
            "4\n",
            "5\n",
            "6\n",
            "7\n",
            "8\n",
            "9\n",
            "0\n"
          ]
        }
      ]
    },
    {
      "cell_type": "markdown",
      "source": [
        "### list slicing"
      ],
      "metadata": {
        "id": "K9QZ5k33ERi7"
      }
    },
    {
      "cell_type": "code",
      "source": [
        "l=[1,2,3,4,5,6,7,8,9,0]\n",
        "print(l)\n",
        "print(f\"list slicing to get even numbers in reverse order : {l[::-2]}\")"
      ],
      "metadata": {
        "colab": {
          "base_uri": "https://localhost:8080/"
        },
        "id": "e6CAJiU6ES7N",
        "outputId": "315a533e-7996-4de4-851b-09719a1ac30c"
      },
      "execution_count": null,
      "outputs": [
        {
          "output_type": "stream",
          "name": "stdout",
          "text": [
            "[1, 2, 3, 4, 5, 6, 7, 8, 9, 0]\n",
            "list slicing to get even numbers in reverse order : [0, 8, 6, 4, 2]\n"
          ]
        }
      ]
    },
    {
      "cell_type": "markdown",
      "source": [
        "### List Operations\n",
        "\n",
        "Various methods on Lists are:\n",
        "1. count\n",
        "2. iindex\n",
        "3. pop\n",
        "4. remove\n",
        "5. sort\n",
        "6. insert\n",
        "7. append\n",
        "8. extend\n",
        "\n",
        "\n"
      ],
      "metadata": {
        "id": "BaEQ60tBEsrU"
      }
    },
    {
      "cell_type": "code",
      "source": [
        "budget_list=[100, 200,300,200,150,100,120,300]\n",
        "print(f\"How many times 100 millison were spent : {budget_list.count(100)}\")\n",
        "print(budget_list.index(300))\n",
        "print(budget_list)\n",
        "budget_list.remove(120)\n",
        "print(budget_list)\n",
        "budget_list.sort()\n",
        "print(f\"sorting the given list : \", budget_list)\n",
        "#inserting new element\n",
        "budget_list.insert(0, 450)\n",
        "print(budget_list)"
      ],
      "metadata": {
        "colab": {
          "base_uri": "https://localhost:8080/"
        },
        "id": "YTuXFg0_Evn2",
        "outputId": "7c752da4-f986-4e74-cd24-8a0bb5718500"
      },
      "execution_count": null,
      "outputs": [
        {
          "output_type": "stream",
          "name": "stdout",
          "text": [
            "How many times 100 millison were spent : 2\n",
            "2\n",
            "[100, 200, 300, 200, 150, 100, 120, 300]\n",
            "[100, 200, 300, 200, 150, 100, 300]\n",
            "sorting the given list :  [100, 100, 150, 200, 200, 300, 300]\n",
            "[450, 100, 100, 150, 200, 200, 300, 300]\n"
          ]
        }
      ]
    },
    {
      "cell_type": "markdown",
      "source": [
        "### Append and Extend\n",
        "1. Append:\n",
        "  * append happens at the last index,\n",
        "  * append can insert data of any datatype to be inserted into the list\n",
        "```python\n",
        "list_name.append(content)\n",
        "```\n",
        "\n",
        "2. Extend:\n",
        "  * with extend fuction, we can add a new item into the reoccuring list and can also provide seperate mmemory adddressing too\n",
        "datatype to be inserted into the list\n",
        "```python\n",
        "list_name.extend(content)\n",
        "```"
      ],
      "metadata": {
        "id": "n-9wLLIHGzDa"
      }
    },
    {
      "cell_type": "code",
      "source": [
        "lst=[3,4,7,8,1,4]\n",
        "print(lst)\n",
        "lst.append(\"END!\")\n",
        "print(lst)"
      ],
      "metadata": {
        "colab": {
          "base_uri": "https://localhost:8080/"
        },
        "id": "WTzSsio9HJN-",
        "outputId": "d52ffea6-2b9d-4886-caa4-21dd15146208"
      },
      "execution_count": null,
      "outputs": [
        {
          "output_type": "stream",
          "name": "stdout",
          "text": [
            "[3, 4, 7, 8, 1, 4]\n",
            "[3, 4, 7, 8, 1, 4, 'END!']\n"
          ]
        }
      ]
    },
    {
      "cell_type": "code",
      "source": [
        "#appending two lists together\n",
        "l1=[1,2,3,4,5,6,7]\n",
        "l2=[3,5,2,7]\n",
        "\n",
        "l1.append(l2)\n",
        "print(l1) #the appended list collectively has only one index when referd to the l1"
      ],
      "metadata": {
        "colab": {
          "base_uri": "https://localhost:8080/"
        },
        "id": "ypGv6oe7HcEc",
        "outputId": "e026ba00-92ee-46fb-86cd-74b69849a8d6"
      },
      "execution_count": null,
      "outputs": [
        {
          "output_type": "stream",
          "name": "stdout",
          "text": [
            "[1, 2, 3, 4, 5, 6, 7, [3, 5, 2, 7]]\n"
          ]
        }
      ]
    },
    {
      "cell_type": "code",
      "source": [
        "#expanding the Extend function\n",
        "#XXXXXXXXXXXXXXXXXXXXXXXppending two lists together\n",
        "l1=[1,2,3,4,5,6,7]\n",
        "l2=[3,5,2,7]\n",
        "\n",
        "l1.extend(l2)\n",
        "print(l1) #the expandedn list collectively has its own index for each of its elements when referd to the l1"
      ],
      "metadata": {
        "colab": {
          "base_uri": "https://localhost:8080/"
        },
        "id": "K0Ejh9mKH989",
        "outputId": "9a77acb0-9cc5-4bec-f433-35e187e4877c"
      },
      "execution_count": null,
      "outputs": [
        {
          "output_type": "stream",
          "name": "stdout",
          "text": [
            "[1, 2, 3, 4, 5, 6, 7, 3, 5, 2, 7]\n"
          ]
        }
      ]
    },
    {
      "cell_type": "markdown",
      "source": [
        "### Heterogenous list\n",
        "\n",
        "Heterogeneous lists, also known as mixed-type lists, are lists in Python that contain elements of different data types."
      ],
      "metadata": {
        "id": "loEA3W30IySA"
      }
    },
    {
      "cell_type": "code",
      "source": [
        "l1=[1,2,3,4,5,6,7]\n",
        "l2=['Hello']\n",
        "l1.append(l2)\n",
        "print(l1)"
      ],
      "metadata": {
        "colab": {
          "base_uri": "https://localhost:8080/"
        },
        "id": "CFAQ6AdtJLfA",
        "outputId": "ca0ca672-340f-457c-aac3-65c149301744"
      },
      "execution_count": null,
      "outputs": [
        {
          "output_type": "stream",
          "name": "stdout",
          "text": [
            "[1, 2, 3, 4, 5, 6, 7, ['Hello']]\n"
          ]
        }
      ]
    },
    {
      "cell_type": "markdown",
      "source": [
        "### 2D list\n",
        "* they are heterogenous lists, with lists inside another lists"
      ],
      "metadata": {
        "id": "jB84TugZTi2y"
      }
    },
    {
      "cell_type": "code",
      "source": [
        "#example of 2-D/multi dimensional list\n",
        "l1=[1,2,3,4]\n",
        "l2=[4,5,6,7]\n",
        "l3=[7,8,9,0]\n",
        "l=[l1, l2, l3]\n",
        "print(l)\n",
        "print(f\"Printing the sencond element of the list: {l[1]}\")\n",
        "print(f\"Printing the sencond element of l2 of the main list: {l[1][1]}\")"
      ],
      "metadata": {
        "colab": {
          "base_uri": "https://localhost:8080/"
        },
        "id": "1oF4WiXsT1NK",
        "outputId": "44e000de-811f-4eed-b721-a30bff901e6c"
      },
      "execution_count": null,
      "outputs": [
        {
          "output_type": "stream",
          "name": "stdout",
          "text": [
            "[[1, 2, 3, 4], [4, 5, 6, 7], [7, 8, 9, 0]]\n",
            "Printing the sencond element of the list: [4, 5, 6, 7]\n",
            "Printing the sencond element of l2 of the main list: 5\n"
          ]
        }
      ]
    },
    {
      "cell_type": "code",
      "source": [
        "#iteration in a 2D list\n",
        "#iteratiing in a single dimensional list\n",
        "\n",
        "l=[1,2,3,4,5]\n",
        "for i in l:\n",
        "  print(i)\n",
        "\n",
        "##multidimensional iteration\n",
        "print(\"Multi dim\")\n",
        "l=[[1,2,3,4], [4,5,6,7], [7,8,9,0]]\n",
        "for i in l:\n",
        "  for j in i:\n",
        "    print(j)"
      ],
      "metadata": {
        "colab": {
          "base_uri": "https://localhost:8080/"
        },
        "id": "xiQ1RkJuUpbK",
        "outputId": "c5bfc04e-7385-4f30-884f-7e674394912b"
      },
      "execution_count": null,
      "outputs": [
        {
          "output_type": "stream",
          "name": "stdout",
          "text": [
            "1\n",
            "2\n",
            "3\n",
            "4\n",
            "5\n",
            "Multi dim\n",
            "1\n",
            "2\n",
            "3\n",
            "4\n",
            "4\n",
            "5\n",
            "6\n",
            "7\n",
            "7\n",
            "8\n",
            "9\n",
            "0\n"
          ]
        }
      ]
    },
    {
      "cell_type": "markdown",
      "source": [
        "### List comprehension\n",
        "List comprehension is a concise and expressive way to create lists in Python.\n",
        "* syntax -\n",
        "```python\n",
        "# 1. expression is the operation or transformation to apply to each item.\n",
        "# 2. item is a variable that represents each element in the iterable.\n",
        "# 3. iterable is the existing sequence of elements.\n",
        "# 4. condition is an optional filter that determines whether an item is included in the new list.\n",
        "[expression for item in iterable if condition]\n",
        "```\n",
        "\n",
        "\n"
      ],
      "metadata": {
        "id": "_qOX-cz3Vmu8"
      }
    },
    {
      "cell_type": "code",
      "source": [
        "l=[]\n",
        "i=0\n",
        "for i in range(0, 101):\n",
        "  l.append(i)\n",
        "\n",
        "print(l)"
      ],
      "metadata": {
        "colab": {
          "base_uri": "https://localhost:8080/"
        },
        "id": "4eb5_kTnVxKG",
        "outputId": "63906164-588e-4e4f-dd74-b5a81d143e3d"
      },
      "execution_count": null,
      "outputs": [
        {
          "output_type": "stream",
          "name": "stdout",
          "text": [
            "[0, 1, 2, 3, 4, 5, 6, 7, 8, 9, 10, 11, 12, 13, 14, 15, 16, 17, 18, 19, 20, 21, 22, 23, 24, 25, 26, 27, 28, 29, 30, 31, 32, 33, 34, 35, 36, 37, 38, 39, 40, 41, 42, 43, 44, 45, 46, 47, 48, 49, 50, 51, 52, 53, 54, 55, 56, 57, 58, 59, 60, 61, 62, 63, 64, 65, 66, 67, 68, 69, 70, 71, 72, 73, 74, 75, 76, 77, 78, 79, 80, 81, 82, 83, 84, 85, 86, 87, 88, 89, 90, 91, 92, 93, 94, 95, 96, 97, 98, 99, 100]\n"
          ]
        }
      ]
    },
    {
      "cell_type": "code",
      "source": [
        "# List comprehension methods\n",
        "\n",
        "l=[i for i in range(0, 11)]\n",
        "print(l)\n",
        "l=[(i**9) for i in range(0, 11)]\n",
        "print(l)"
      ],
      "metadata": {
        "colab": {
          "base_uri": "https://localhost:8080/"
        },
        "id": "3tfN2wWVWVuF",
        "outputId": "ca9fa5c0-62f7-4fa3-ff74-2f906fb1f232"
      },
      "execution_count": null,
      "outputs": [
        {
          "output_type": "stream",
          "name": "stdout",
          "text": [
            "[0, 1, 2, 3, 4, 5, 6, 7, 8, 9, 10]\n",
            "[0, 1, 512, 19683, 262144, 1953125, 10077696, 40353607, 134217728, 387420489, 1000000000]\n"
          ]
        }
      ]
    },
    {
      "cell_type": "markdown",
      "source": [
        "## Tuples\n",
        "* Tuples follow indexing and are ordered collection of data,\n",
        "* they are immutble, also known as frozen data\n",
        "* iterable and can be heretoronous\n",
        "* tuples use () brackets insteas of [] like list"
      ],
      "metadata": {
        "id": "iTQJP54XZCr5"
      }
    },
    {
      "cell_type": "code",
      "source": [
        "t=(1,2,3,4,5)\n",
        "print(t, type(t))\n",
        "# t[3]=4 this statement gives error as tuples are immutable Data Structures\n",
        "tp=('Ameer', 'Salam', 'Suzain', 2,4,True)\n",
        "print(tp) # tuples are heterogenous datastructures which can have multiple type of data\n",
        "\n",
        "t2=tuple(\"Ameer Salam\")\n",
        "print(t2)"
      ],
      "metadata": {
        "colab": {
          "base_uri": "https://localhost:8080/"
        },
        "id": "ua9rO_e-mFBI",
        "outputId": "e39af3e4-49c0-42f8-9cf9-d292e4baa679"
      },
      "execution_count": null,
      "outputs": [
        {
          "output_type": "stream",
          "name": "stdout",
          "text": [
            "(1, 2, 3, 4, 5) <class 'tuple'>\n",
            "('Ameer', 'Salam', 'Suzain', 2, 4, True)\n",
            "('A', 'm', 'e', 'e', 'r', ' ', 'S', 'a', 'l', 'a', 'm')\n"
          ]
        }
      ]
    },
    {
      "cell_type": "markdown",
      "source": [
        "### Important : Explicit declaration of Tuple"
      ],
      "metadata": {
        "id": "zDocOQl0nCIL"
      }
    },
    {
      "cell_type": "code",
      "source": [
        "#the below example of tuple can be considered as a integer by the computer\n",
        "i=(2)\n",
        "print(i, type(i))\n",
        "\n",
        "#since there is single object in the tuple and integer expressions can be expressed with brackets,\n",
        "#example - (i+1), hence tuple thinks its an integer\n",
        "#to avoid this,\n",
        "\n",
        "i=(2,)\n",
        "print(i, type(i))"
      ],
      "metadata": {
        "colab": {
          "base_uri": "https://localhost:8080/"
        },
        "id": "G-MdXtlDnBg9",
        "outputId": "bbaad642-0d81-4dc5-82bf-fd441b5f32bd"
      },
      "execution_count": null,
      "outputs": [
        {
          "output_type": "stream",
          "name": "stdout",
          "text": [
            "2 <class 'int'>\n",
            "(2,) <class 'tuple'>\n"
          ]
        }
      ]
    },
    {
      "cell_type": "markdown",
      "source": [
        "### Mutability in Tuples\n",
        "tuples are not mutable, but their contents can be mutable if they are mutable objects"
      ],
      "metadata": {
        "id": "YEqMEePQn7MV"
      }
    },
    {
      "cell_type": "code",
      "source": [
        "#example of tuple mutability\n",
        "\n",
        "tp=['Ameer Salamm', 2, 4, 'Salam', [1,2,3,4,5], True]\n",
        "print(f\"Befor mutation {tp}\")\n",
        "tp[1]=3\n",
        "print(f\"After 1st mutation {tp}\")\n",
        "tp[4][2]=99999\n",
        "print(f\"After 2nd mutation {tp}\")\n"
      ],
      "metadata": {
        "colab": {
          "base_uri": "https://localhost:8080/"
        },
        "id": "NtOFZMHvptck",
        "outputId": "7eba5987-408e-4340-ab92-dc648bc09814"
      },
      "execution_count": null,
      "outputs": [
        {
          "output_type": "stream",
          "name": "stdout",
          "text": [
            "Befor mutation ['Ameer Salamm', 2, 4, 'Salam', [1, 2, 3, 4, 5], True]\n",
            "After 1st mutation ['Ameer Salamm', 3, 4, 'Salam', [1, 2, 3, 4, 5], True]\n",
            "After 2nd mutation ['Ameer Salamm', 3, 4, 'Salam', [1, 2, 99999, 4, 5], True]\n"
          ]
        }
      ]
    },
    {
      "cell_type": "markdown",
      "source": [
        "### unpacking a tuple\n"
      ],
      "metadata": {
        "id": "_nOtlzfoqTdX"
      }
    },
    {
      "cell_type": "code",
      "source": [
        "a=1\n",
        "b=2\n",
        "c=3\n",
        "d=4\n",
        "print(f\"The individual variable values are : {a,b,c,d}\")\n",
        "print(\"Tuple unpacking : \")\n",
        "t=(6,7,8,9)\n",
        "a,b,c,d=t\n",
        "print(f\"The individual variable values assigned using tuples are : {a,b,c,d}\")"
      ],
      "metadata": {
        "colab": {
          "base_uri": "https://localhost:8080/"
        },
        "id": "J8rPedlvqd2I",
        "outputId": "700ab02e-68c9-442c-8841-0409f26a288e"
      },
      "execution_count": null,
      "outputs": [
        {
          "output_type": "stream",
          "name": "stdout",
          "text": [
            "The individual variable values are : (1, 2, 3, 4)\n",
            "Tuple unpacking : \n",
            "The individual variable values assigned using tuples are : (6, 7, 8, 9)\n"
          ]
        }
      ]
    },
    {
      "cell_type": "markdown",
      "source": [
        "### Tuple operations\n",
        "\n",
        "\n",
        "| Operation             | Description                                                                      | Example                                            |\n",
        "|-----------------------|----------------------------------------------------------------------------------|----------------------------------------------------|\n",
        "| Accessing Elements    | Elements of a tuple can be accessed using indexing or slicing.                  | `my_tuple[0]`<br>`my_tuple[1:3]`                   |\n",
        "| Concatenation         | Tuples can be concatenated using the `+` operator.                              | `tuple1 + tuple2`                                 |\n",
        "| Repetition            | Tuples can be repeated using the `*` operator.                                   | `('hello',) * 3`                                   |\n",
        "| Membership            | You can check if an element exists in a tuple using the `in` operator.           | `2 in my_tuple`                                    |\n",
        "| Length                | You can find the length of a tuple using the `len()` function.                   | `len(my_tuple)`                                    |\n",
        "| Iteration             | You can iterate over the elements of a tuple using a loop.                       | ```python                                         ```<br>```for item in my_tuple:```<br>```    print(item)``` |\n",
        "| Tuple Unpacking       | You can unpack a tuple into individual variables.                                | ```python                                         ```<br>```a, b, c = my_tuple```                     |\n"
      ],
      "metadata": {
        "id": "IWT03sNAq_VF"
      }
    },
    {
      "cell_type": "code",
      "source": [
        "tp=('Ameer Salam', 'Salam', 2,3,[1,2,3,4], True, 3.89, 'C')\n",
        "tp2=('C', 'C++', 'Python', 'Java')\n",
        "\n",
        "#count\n",
        "print(tp.count('C'))\n",
        "\n",
        "\n",
        "#index\n",
        "print(tp.index(\"C\"))\n",
        "\n",
        "\n",
        "#iteration\n",
        "print(\"Printing only Strings : \")\n",
        "for i in tp:\n",
        "  if type(i)==str:\n",
        "    print(i, end=\"\\t\")\n",
        "print(\"\\n\")\n",
        "\n",
        "\n",
        "#concatination using +\n",
        "print(tp+tp2)\n",
        "#multiplying tuple using *\n",
        "print('Printing tuple twice : ',tp*2)"
      ],
      "metadata": {
        "colab": {
          "base_uri": "https://localhost:8080/"
        },
        "id": "4M1ZwgKmsFNZ",
        "outputId": "e8d1a123-01c2-47e2-80c1-77d0eeb69d7b"
      },
      "execution_count": null,
      "outputs": [
        {
          "output_type": "stream",
          "name": "stdout",
          "text": [
            "1\n",
            "7\n",
            "Printing only Strings : \n",
            "Ameer Salam\tSalam\tC\t\n",
            "\n",
            "('Ameer Salam', 'Salam', 2, 3, [1, 2, 3, 4], True, 3.89, 'C', 'C', 'C++', 'Python', 'Java')\n",
            "Printing tuple twice :  ('Ameer Salam', 'Salam', 2, 3, [1, 2, 3, 4], True, 3.89, 'C', 'Ameer Salam', 'Salam', 2, 3, [1, 2, 3, 4], True, 3.89, 'C')\n"
          ]
        }
      ]
    },
    {
      "cell_type": "markdown",
      "source": [
        "## Dictionary\n",
        "\n",
        "* Using dictionaries, we can store data in key-value pairs.\n",
        "* Dictionaries are an unordered data type, although they maintain insertion order in Python 3.7 and above.\n",
        "* Dictionaries do not support indexing like lists; data is accessed using keys.\n",
        "* Each entry in a dictionary consists of a unique key and its corresponding value.\n",
        "* Dictionaries cannot have multiple entries with the same key; keys must be unique.\n",
        "\n"
      ],
      "metadata": {
        "id": "ZodveYUQws8k"
      }
    },
    {
      "cell_type": "markdown",
      "source": [
        "### Creating a dictonary\n"
      ],
      "metadata": {
        "id": "9vF5iRDexpOl"
      }
    },
    {
      "cell_type": "code",
      "source": [
        "dictExp={\n",
        "    'Ameer Salam':3,\n",
        "    'Danish':2\n",
        "    }\n",
        "print(dictExp, type(dictExp))"
      ],
      "metadata": {
        "colab": {
          "base_uri": "https://localhost:8080/"
        },
        "id": "lpfxuI8dxtdY",
        "outputId": "1eecb7f4-75e0-4c54-a6e0-071999012ddb"
      },
      "execution_count": null,
      "outputs": [
        {
          "output_type": "stream",
          "name": "stdout",
          "text": [
            "{'Ameer Salam': 3, 'Danish': 2} <class 'dict'>\n"
          ]
        }
      ]
    },
    {
      "cell_type": "code",
      "source": [
        "price={\n",
        "    'Mango':140,\n",
        "    'Apple':90,\n",
        "    'Banana':50\n",
        "    #keys : values\n",
        "}\n",
        "\n",
        "print(price, type(price))"
      ],
      "metadata": {
        "colab": {
          "base_uri": "https://localhost:8080/"
        },
        "id": "KlYvxH--yOll",
        "outputId": "c2c9f7a4-ac0d-4685-c906-0dc31f0b5959"
      },
      "execution_count": null,
      "outputs": [
        {
          "output_type": "stream",
          "name": "stdout",
          "text": [
            "{'Mango': 140, 'Apple': 90, 'Banana': 50} <class 'dict'>\n"
          ]
        }
      ]
    },
    {
      "cell_type": "markdown",
      "source": [
        "### Zip()\n",
        "* using zip() we can combine elements from multiple iterables into tuples.  "
      ],
      "metadata": {
        "id": "Gsu0V77SylM3"
      }
    },
    {
      "cell_type": "code",
      "source": [
        "fruit=['Mango', 'Apple', 'Banana']\n",
        "price=[200, 150, 100]\n",
        "salePrice=dict(zip(fruit, price))\n",
        "print(f\"The Dictonary creatted is : {salePrice}\")"
      ],
      "metadata": {
        "colab": {
          "base_uri": "https://localhost:8080/"
        },
        "id": "ZFa2qOorytk_",
        "outputId": "790ebbda-4b19-4b90-d8eb-bcb22e1be9dc"
      },
      "execution_count": null,
      "outputs": [
        {
          "output_type": "stream",
          "name": "stdout",
          "text": [
            "The Dictonary creatted is : {'Mango': 200, 'Apple': 150, 'Banana': 100}\n"
          ]
        }
      ]
    },
    {
      "cell_type": "markdown",
      "source": [
        "### Accessing Elements in the Dictonary"
      ],
      "metadata": {
        "id": "fZ1FxHPb8XxU"
      }
    },
    {
      "cell_type": "code",
      "source": [
        "fruit=['Mango', 'Apple', 'Banana']\n",
        "price=[200, 150, 100]\n",
        "salePrice=dict(zip(fruit, price))\n",
        "print(salePrice['Apple'])"
      ],
      "metadata": {
        "colab": {
          "base_uri": "https://localhost:8080/"
        },
        "id": "rnNbpwDs8XFW",
        "outputId": "1eecfba8-6300-49fc-bad6-760d7563606e"
      },
      "execution_count": null,
      "outputs": [
        {
          "output_type": "stream",
          "name": "stdout",
          "text": [
            "150\n"
          ]
        }
      ]
    },
    {
      "cell_type": "markdown",
      "source": [
        "if the key is not present, it returns an error,\n",
        "to fix this we can use the get() function"
      ],
      "metadata": {
        "id": "szhZizch8pCe"
      }
    },
    {
      "cell_type": "code",
      "source": [
        "fruit=['Mango', 'Apple', 'Banana']\n",
        "price=[200, 150, 100]\n",
        "salePrice=dict(zip(fruit, price))\n",
        "print(salePrice.get('Guava'))"
      ],
      "metadata": {
        "colab": {
          "base_uri": "https://localhost:8080/"
        },
        "id": "6pfCOqXO8z-S",
        "outputId": "85bfd8a9-c128-4f92-c06c-658912ae0b63"
      },
      "execution_count": null,
      "outputs": [
        {
          "output_type": "stream",
          "name": "stdout",
          "text": [
            "None\n"
          ]
        }
      ]
    },
    {
      "cell_type": "markdown",
      "source": [
        "### Updating Dictonary\n",
        "we can update a dictonary using:\n",
        "1. key\n",
        "2. using **update** method"
      ],
      "metadata": {
        "id": "10zWMlr99Jkg"
      }
    },
    {
      "cell_type": "code",
      "source": [
        "#updating using keys\n",
        "\n",
        "fruits=['Mango', 'Apple', 'Banana', 'Pineapple']\n",
        "price=[200, 150, 100, 200]\n",
        "salePrice=dict(zip(fruits, price))\n",
        "print(\"The Fruits and thier prices are(unupdated) : \",salePrice)\n",
        "\n",
        "salePrice['Pineapple']={'Large':250, 'Small':200}\n",
        "salePrice['Guava']=90\n",
        "print(salePrice)"
      ],
      "metadata": {
        "colab": {
          "base_uri": "https://localhost:8080/"
        },
        "id": "pIPxVMeg9Zj_",
        "outputId": "1b59e6b9-c7cc-4558-d7cc-14e88d51424b"
      },
      "execution_count": null,
      "outputs": [
        {
          "output_type": "stream",
          "name": "stdout",
          "text": [
            "The Fruits and thier prices are(unupdated) :  {'Mango': 200, 'Apple': 150, 'Banana': 100, 'Pineapple': 200}\n",
            "{'Mango': 200, 'Apple': 150, 'Banana': 100, 'Pineapple': {'Large': 250, 'Small': 200}, 'Guava': 90}\n"
          ]
        }
      ]
    },
    {
      "cell_type": "code",
      "source": [
        "#using update() method\n",
        "new_fruits={'Grapes':50, 'Peaches':300}\n",
        "salePrice.update(new_fruits)\n",
        "print(salePrice)"
      ],
      "metadata": {
        "colab": {
          "base_uri": "https://localhost:8080/"
        },
        "id": "gZ2pCPoY-Sr6",
        "outputId": "3d9d2e3d-58a1-4a51-fc36-a4ac4e00e7ad"
      },
      "execution_count": null,
      "outputs": [
        {
          "output_type": "stream",
          "name": "stdout",
          "text": [
            "{'Mango': 200, 'Apple': 150, 'Banana': 100, 'Pineapple': {'Large': 250, 'Small': 200}, 'Guava': 90, 'Grapes': 50, 'Peaches': 300}\n"
          ]
        }
      ]
    },
    {
      "cell_type": "markdown",
      "source": [
        "### Deleting Data\n",
        "1. pop      - removes the object whose key is specified\n",
        "2. popitem  - removes the last object\n",
        "3. del"
      ],
      "metadata": {
        "id": "ci89SNGF-rM6"
      }
    },
    {
      "cell_type": "code",
      "source": [
        "#citizenship checking\n",
        "\"Apple\" in salePrice"
      ],
      "metadata": {
        "colab": {
          "base_uri": "https://localhost:8080/"
        },
        "id": "Rc8Sw4K8-464",
        "outputId": "f5c93765-75d7-4d22-c374-17eeebeb3a47"
      },
      "execution_count": null,
      "outputs": [
        {
          "output_type": "execute_result",
          "data": {
            "text/plain": [
              "True"
            ]
          },
          "metadata": {},
          "execution_count": 77
        }
      ]
    },
    {
      "cell_type": "code",
      "source": [
        "#citizenship checking\n",
        "\"Coconuts\" in salePrice"
      ],
      "metadata": {
        "colab": {
          "base_uri": "https://localhost:8080/"
        },
        "id": "H2KD6dV-_E6Y",
        "outputId": "f686b4c7-c0da-4ed6-ee3d-40394811fa5b"
      },
      "execution_count": null,
      "outputs": [
        {
          "output_type": "execute_result",
          "data": {
            "text/plain": [
              "False"
            ]
          },
          "metadata": {},
          "execution_count": 78
        }
      ]
    },
    {
      "cell_type": "code",
      "source": [
        "#using pop methos\n",
        "\n",
        "#print(salePrice.pop(\"Apple\"))\n",
        "print(salePrice)"
      ],
      "metadata": {
        "colab": {
          "base_uri": "https://localhost:8080/"
        },
        "id": "0SqYq_Yh_IHI",
        "outputId": "3daf5843-67ae-43cf-beae-ee948a31e3af"
      },
      "execution_count": null,
      "outputs": [
        {
          "output_type": "stream",
          "name": "stdout",
          "text": [
            "{'Mango': 200, 'Banana': 100, 'Pineapple': {'Large': 250, 'Small': 200}, 'Guava': 90, 'Grapes': 50, 'Peaches': 300}\n"
          ]
        }
      ]
    },
    {
      "cell_type": "code",
      "source": [
        "#using popitem() methos\n",
        "print(f\"The dictonary before popitem is : {salePrice}\")\n",
        "print(f\"The dictonary after the popitem is : {salePrice.popitem()}\")"
      ],
      "metadata": {
        "colab": {
          "base_uri": "https://localhost:8080/"
        },
        "id": "C-WNAtpf_lOZ",
        "outputId": "ec82434f-5e5c-4a80-ea8a-e26c28d31012"
      },
      "execution_count": null,
      "outputs": [
        {
          "output_type": "stream",
          "name": "stdout",
          "text": [
            "The dictonary before popitem is : {'Mango': 200, 'Banana': 100, 'Pineapple': {'Large': 250, 'Small': 200}, 'Guava': 90, 'Grapes': 50, 'Peaches': 300}\n",
            "The dictonary after the popitem is : ('Peaches', 300)\n"
          ]
        }
      ]
    },
    {
      "cell_type": "code",
      "source": [
        "#using delete\n",
        "#del salePrice"
      ],
      "metadata": {
        "id": "ZJWOoaNqApIn"
      },
      "execution_count": null,
      "outputs": []
    },
    {
      "cell_type": "markdown",
      "source": [
        "### Iterating in a Dictonary\n"
      ],
      "metadata": {
        "id": "JUymKwmKBPtp"
      }
    },
    {
      "cell_type": "code",
      "source": [
        "fruits=['Mango', 'Apple', 'Banana', 'Pineapple']\n",
        "price=[200, 150, 100, 200]\n",
        "salePrice=dict(zip(fruits, price))\n",
        "print(\"The Fruits and thier prices are : \",salePrice)"
      ],
      "metadata": {
        "colab": {
          "base_uri": "https://localhost:8080/"
        },
        "id": "UQzYJFtzBSDc",
        "outputId": "8fe14904-3923-42c5-c8e1-b582012e56c1"
      },
      "execution_count": null,
      "outputs": [
        {
          "output_type": "stream",
          "name": "stdout",
          "text": [
            "The Fruits and thier prices are :  {'Mango': 200, 'Apple': 150, 'Banana': 100, 'Pineapple': 200}\n"
          ]
        }
      ]
    },
    {
      "cell_type": "code",
      "source": [
        "for i in salePrice:\n",
        "  print(f\"{i} \\t:\\t {salePrice[i]}\")"
      ],
      "metadata": {
        "colab": {
          "base_uri": "https://localhost:8080/"
        },
        "id": "YNl68PxJBctg",
        "outputId": "2e173e27-967f-497c-cfce-b0bf66bf4358"
      },
      "execution_count": null,
      "outputs": [
        {
          "output_type": "stream",
          "name": "stdout",
          "text": [
            "Mango \t:\t 200\n",
            "Apple \t:\t 150\n",
            "Banana \t:\t 100\n",
            "Pineapple \t:\t 200\n"
          ]
        }
      ]
    },
    {
      "cell_type": "markdown",
      "source": [
        "### using dict.items() methods\n"
      ],
      "metadata": {
        "id": "gmsqtig4B9i0"
      }
    },
    {
      "cell_type": "code",
      "source": [
        "for key, values in salePrice.items():\n",
        "  print(key, values)"
      ],
      "metadata": {
        "colab": {
          "base_uri": "https://localhost:8080/"
        },
        "id": "B3YdLWGbCBE6",
        "outputId": "6042d54b-2ae1-4382-bb22-c5687256a50c"
      },
      "execution_count": null,
      "outputs": [
        {
          "output_type": "stream",
          "name": "stdout",
          "text": [
            "Mango 200\n",
            "Apple 150\n",
            "Banana 100\n",
            "Pineapple 200\n"
          ]
        }
      ]
    },
    {
      "cell_type": "markdown",
      "source": [
        "### more dictonary methods\n",
        "1. keys\n",
        "2. values\n",
        "3. items\n"
      ],
      "metadata": {
        "id": "XoORyMyeCO50"
      }
    },
    {
      "cell_type": "code",
      "source": [
        "print(salePrice.keys())   #gives keys only\n",
        "print(salePrice.values()) #gives values only\n",
        "print(salePrice.items())  #gives key and value pairs"
      ],
      "metadata": {
        "colab": {
          "base_uri": "https://localhost:8080/"
        },
        "id": "WXNKsWdsCUoX",
        "outputId": "b2c7368f-ada7-4372-8a19-5d86a38ae120"
      },
      "execution_count": null,
      "outputs": [
        {
          "output_type": "stream",
          "name": "stdout",
          "text": [
            "dict_keys(['Mango', 'Apple', 'Banana', 'Pineapple'])\n",
            "dict_values([200, 150, 100, 200])\n",
            "dict_items([('Mango', 200), ('Apple', 150), ('Banana', 100), ('Pineapple', 200)])\n"
          ]
        }
      ]
    },
    {
      "cell_type": "markdown",
      "source": [
        "### Challenge : Dictonary"
      ],
      "metadata": {
        "id": "XzBMlIW8CmZ5"
      }
    },
    {
      "cell_type": "code",
      "source": [
        "name = input(\"Enter the string : \")\n",
        "freq = {}\n",
        "\n",
        "# Count the frequency of each character\n",
        "for i in name:\n",
        "    freq[i] = freq.get(i, 0) + 1\n",
        "\n",
        "# Print the frequencies of characters\n",
        "print(freq)\n",
        "\n",
        "# Print keys whose value is 1\n",
        "for key, value in freq.items():\n",
        "    if value == 1:\n",
        "        print(key)\n"
      ],
      "metadata": {
        "colab": {
          "base_uri": "https://localhost:8080/"
        },
        "id": "2WjsuErrCrlS",
        "outputId": "f3b53520-fb2a-47e1-aa46-5aa4d6ec7c68"
      },
      "execution_count": null,
      "outputs": [
        {
          "output_type": "stream",
          "name": "stdout",
          "text": [
            "Enter the string : Ameer Salam\n",
            "{'A': 1, 'm': 2, 'e': 2, 'r': 1, ' ': 1, 'S': 1, 'a': 2, 'l': 1}\n",
            "A\n",
            "r\n",
            " \n",
            "S\n",
            "l\n"
          ]
        }
      ]
    },
    {
      "cell_type": "markdown",
      "source": [
        "## Sets\n",
        "\n",
        "A set is a collection of unique and unordered elements. It's a versatile data structure commonly used for tasks where uniqueness of elements is important, such as removing duplicates or testing membership. Here's a breakdown of the key characteristics of sets:\n"
      ],
      "metadata": {
        "id": "UrmqTdTkHseF"
      }
    },
    {
      "cell_type": "markdown",
      "source": [
        "### Creating sets\n"
      ],
      "metadata": {
        "id": "JLrUAZt-gDb7"
      }
    },
    {
      "cell_type": "code",
      "source": [
        "setexp=set() #empty set\n",
        "print(setexp, type(setexp))"
      ],
      "metadata": {
        "colab": {
          "base_uri": "https://localhost:8080/"
        },
        "id": "IWoKCESxgFWc",
        "outputId": "9e4e8cf9-d8b1-48d2-be29-0704e63eb3d0"
      },
      "execution_count": null,
      "outputs": [
        {
          "output_type": "stream",
          "name": "stdout",
          "text": [
            "set() <class 'set'>\n"
          ]
        }
      ]
    },
    {
      "cell_type": "code",
      "source": [
        "# Creatint a non-empty set\n",
        "#different ways set can be declared\n",
        "s={1,2,3}\n",
        "empty_set=set()\n",
        "print(empty_set)\n",
        "\n",
        "set2=set([1,2,3,4])\n",
        "print(s, type(set2))\n",
        "\n",
        "set3={x for x in range(0, 11)}\n",
        "print(set3)\n",
        "\n",
        "#using the add function\n",
        "set3.add(9999)\n",
        "print(set3)\n",
        "\n",
        "set3.update(\"Ameer Salam\")\n",
        "print(set3)"
      ],
      "metadata": {
        "colab": {
          "base_uri": "https://localhost:8080/"
        },
        "id": "Jf2-esfPgSmV",
        "outputId": "ef4f91a0-fea7-4226-d35b-41d8fbc067fa"
      },
      "execution_count": null,
      "outputs": [
        {
          "output_type": "stream",
          "name": "stdout",
          "text": [
            "set()\n",
            "{1, 2, 3} <class 'set'>\n",
            "{0, 1, 2, 3, 4, 5, 6, 7, 8, 9, 10}\n",
            "{0, 1, 2, 3, 4, 5, 6, 7, 8, 9, 10, 9999}\n",
            "{0, 1, 2, 3, 4, 5, 6, 7, 8, 9, 10, 9999, ' ', 'A', 'm', 'r', 'a', 'l', 'S', 'e'}\n"
          ]
        }
      ]
    },
    {
      "cell_type": "markdown",
      "source": [
        "### Deleting elements in a Set\n",
        "1. pop()     - it randomly removes any element from the given set\n",
        "2. remove()   - it specifically removes the given element"
      ],
      "metadata": {
        "id": "V91H_02XGIbv"
      }
    },
    {
      "cell_type": "code",
      "source": [
        "s={1,2,3}\n",
        "empty_set=set()\n",
        "print(empty_set)\n",
        "\n",
        "set2=set([1,2,3,4])\n",
        "print(s, type(set2))\n",
        "\n",
        "set3={x for x in range(0, 11)}\n",
        "print(set3)\n",
        "\n",
        "#using the add function\n",
        "set3.add(9999)\n",
        "print(set3)\n",
        "\n",
        "set3.update(\"Ameer Salam\")\n",
        "print(set3)\n",
        "\n",
        "#using pop\n",
        "print(\"Using Pop function : \")\n",
        "set3.pop()\n",
        "print(set3)\n",
        "\n",
        "#uring remove\n",
        "print(\"Using Remove function : \")\n",
        "set3.remove(\" \")\n",
        "print(set3)"
      ],
      "metadata": {
        "colab": {
          "base_uri": "https://localhost:8080/"
        },
        "id": "t2RtBWC0Ges8",
        "outputId": "67b920a5-a7fb-4923-b288-e8cd126f2142"
      },
      "execution_count": null,
      "outputs": [
        {
          "output_type": "stream",
          "name": "stdout",
          "text": [
            "set()\n",
            "{1, 2, 3} <class 'set'>\n",
            "{0, 1, 2, 3, 4, 5, 6, 7, 8, 9, 10}\n",
            "{0, 1, 2, 3, 4, 5, 6, 7, 8, 9, 10, 9999}\n",
            "{0, 1, 2, 3, 4, 5, 6, 7, 8, 9, 10, 9999, ' ', 'A', 'm', 'r', 'a', 'l', 'S', 'e'}\n",
            "Using Pop function : \n",
            "{1, 2, 3, 4, 5, 6, 7, 8, 9, 10, 9999, ' ', 'A', 'm', 'r', 'a', 'l', 'S', 'e'}\n",
            "Using Remove function : \n",
            "{1, 2, 3, 4, 5, 6, 7, 8, 9, 10, 9999, 'A', 'm', 'r', 'a', 'l', 'S', 'e'}\n"
          ]
        }
      ]
    },
    {
      "cell_type": "markdown",
      "source": [
        "### Set function\n",
        "1. Intersection\n",
        "2. Union\n",
        "3. Difference"
      ],
      "metadata": {
        "id": "0f7hRg-XG9NS"
      }
    },
    {
      "cell_type": "code",
      "source": [
        "#intersecton\n",
        "# Sample Set 1\n",
        "set1 = {\"apple\", \"banana\", \"orange\", \"grape\", \"kiwi\"}\n",
        "\n",
        "# Sample Set 2\n",
        "set2 = {\"orange\", \"grape\", \"watermelon\", \"pineapple\", \"kiwi\"}\n",
        "\n",
        "#to find the intersection\n",
        "print(set1.intersection(set2))"
      ],
      "metadata": {
        "colab": {
          "base_uri": "https://localhost:8080/"
        },
        "id": "Buxnemc2Hf8S",
        "outputId": "50882072-6a75-4e6e-8016-70b5a1989d04"
      },
      "execution_count": null,
      "outputs": [
        {
          "output_type": "stream",
          "name": "stdout",
          "text": [
            "{'kiwi', 'grape', 'orange'}\n"
          ]
        }
      ]
    },
    {
      "cell_type": "code",
      "source": [
        "#union mmethd\n",
        "#to find the union\n",
        "print(set1.union(set2))"
      ],
      "metadata": {
        "colab": {
          "base_uri": "https://localhost:8080/"
        },
        "id": "emgZ3e9YINrT",
        "outputId": "3074c06c-4364-4975-92d7-70ffa044d5af"
      },
      "execution_count": null,
      "outputs": [
        {
          "output_type": "stream",
          "name": "stdout",
          "text": [
            "{'watermelon', 'banana', 'orange', 'kiwi', 'pineapple', 'grape', 'apple'}\n"
          ]
        }
      ]
    },
    {
      "cell_type": "code",
      "source": [
        "#difference\n",
        "#difference mmethd\n",
        "#to find the union\n",
        "print(set1.difference(set2))\n",
        "print(set2.difference(set1))"
      ],
      "metadata": {
        "colab": {
          "base_uri": "https://localhost:8080/"
        },
        "id": "R8bzZuVmIigf",
        "outputId": "aad9f9dc-745f-439b-b910-77900633d3fd"
      },
      "execution_count": null,
      "outputs": [
        {
          "output_type": "stream",
          "name": "stdout",
          "text": [
            "{'banana', 'apple'}\n",
            "{'watermelon', 'pineapple'}\n"
          ]
        }
      ]
    },
    {
      "cell_type": "markdown",
      "source": [
        "### Challenge Unions"
      ],
      "metadata": {
        "id": "hdT0bRHYI3c3"
      }
    },
    {
      "cell_type": "code",
      "source": [
        "#Hey there! How are you? welcome back to my channel. I am Ameer Salam\n",
        "sentence=str(input(\"Enter the String : \"))\n",
        "print(sentence)\n",
        "s={x for x in sentence}\n",
        "print(s)\n",
        "\n",
        "sentence.split()\n",
        "uniq={x for x in sentence.split()}\n",
        "print(f\"Unique words {uniq}\")"
      ],
      "metadata": {
        "colab": {
          "base_uri": "https://localhost:8080/"
        },
        "id": "pRjsyOyrI-T-",
        "outputId": "39f0efed-68c3-4d43-e2ff-ed0ffdafa524"
      },
      "execution_count": null,
      "outputs": [
        {
          "output_type": "stream",
          "name": "stdout",
          "text": [
            "Enter the String : Hey there! How are you? welcome back to my channel. I am Ameer Salam\n",
            "Hey there! How are you? welcome back to my channel. I am Ameer Salam\n",
            "{'u', ' ', '.', 't', 'I', 'H', 'c', 'A', 'm', 'r', 'h', '!', 'a', 'l', 'S', 'n', 'w', '?', 'o', 'k', 'b', 'e', 'y'}\n",
            "Unique words {'welcome', 'back', 'I', 'Ameer', 'Salam', 'you?', 'there!', 'How', 'am', 'are', 'channel.', 'Hey', 'to', 'my'}\n"
          ]
        }
      ]
    },
    {
      "cell_type": "markdown",
      "source": [
        "## Functions in Python\n",
        "\n",
        "* Functions are predefined piece of code\n",
        "* Increases the code reusability\n",
        "* makes code more organised and managable\n",
        "* types of function\n",
        "  * in-built\n",
        "  * user defined\n",
        "* functions work only when you call it\n",
        "* syntax `def name(parameters):`\n",
        "* you can call the function with `name_of_function()'"
      ],
      "metadata": {
        "id": "CsE55_TDMQy4"
      }
    },
    {
      "cell_type": "markdown",
      "source": [
        "### Defining a Function\n"
      ],
      "metadata": {
        "id": "IWSvywWTvBgB"
      }
    },
    {
      "cell_type": "code",
      "source": [
        "def funcExp(x):\n",
        "  if ((x%2)==0):\n",
        "    return 1\n",
        "  else:\n",
        "    return -1\n",
        "\n",
        "x=int(input(\"The the number to check for Odd or Even : \"))\n",
        "if(funcExp(x)==1):\n",
        "  print(\"It is an even number\")\n",
        "elif(funcExp(x)==-1):\n",
        "  print(\"It is an Odd number\")"
      ],
      "metadata": {
        "colab": {
          "base_uri": "https://localhost:8080/"
        },
        "id": "eM_OfTJcvD99",
        "outputId": "eb461a34-bc90-43a2-ed78-6e80ae1e738e"
      },
      "execution_count": null,
      "outputs": [
        {
          "output_type": "stream",
          "name": "stdout",
          "text": [
            "The the number to check for Odd or Even : 34\n",
            "It is an even number\n"
          ]
        }
      ]
    },
    {
      "cell_type": "markdown",
      "source": [
        "### Printing the memory address of the function\n"
      ],
      "metadata": {
        "id": "XexKAAy9wkoG"
      }
    },
    {
      "cell_type": "code",
      "source": [
        "def funcExp(x):\n",
        "  if ((x%2)==0):\n",
        "    return 1\n",
        "  else:\n",
        "    return -1\n",
        "\n",
        "x=int(input(\"The the number to check for Odd or Even : \"))\n",
        "if(funcExp(x)==1):\n",
        "  print(\"It is an even number\")\n",
        "elif(funcExp(x)==-1):\n",
        "  print(\"It is an Odd number\")\n",
        "\n",
        "print(f\"The memory address of the funcExp function is {funcExp}\")"
      ],
      "metadata": {
        "id": "AqdtK3M1wocj",
        "colab": {
          "base_uri": "https://localhost:8080/"
        },
        "outputId": "e8dc7f6f-6b2a-4849-cd3b-596c3c6823c1"
      },
      "execution_count": null,
      "outputs": [
        {
          "output_type": "stream",
          "name": "stdout",
          "text": [
            "The the number to check for Odd or Even : 67\n",
            "It is an Odd number\n",
            "The memory address of the funcExp function is <function funcExp at 0x7ee79de76ef0>\n"
          ]
        }
      ]
    },
    {
      "cell_type": "markdown",
      "source": [
        "### Docstrings\n",
        "* also known as Document strings,\n",
        "* it provides a docoumentation about the given object,\n",
        "* docstrings are enclosed in (**\"\"\" \"\"\"**),"
      ],
      "metadata": {
        "id": "8OWIBUqeyb_h"
      }
    },
    {
      "cell_type": "markdown",
      "source": [
        "### Parameters in Functions\n",
        "* they are placeholders in the function,\n",
        "* when defining them, we call them as parameters\n",
        "* when passing the  actual value we call them as Arguments"
      ],
      "metadata": {
        "id": "MzV2rTn6z4Z4"
      }
    },
    {
      "cell_type": "code",
      "source": [
        "def add(x, y):\n",
        "  return (x+y)\n",
        "\n",
        "x=int(input(\"X = \"))\n",
        "y=int(input(\"y = \"))\n",
        "print(f\"The sum of {x} and {y} s : {add(x,y)}\")"
      ],
      "metadata": {
        "id": "CgIcx7Rx0Snh",
        "colab": {
          "base_uri": "https://localhost:8080/"
        },
        "outputId": "a9810630-2055-43fa-f11c-26f2a63f9e47"
      },
      "execution_count": null,
      "outputs": [
        {
          "output_type": "stream",
          "name": "stdout",
          "text": [
            "X = 7\n",
            "y = 8\n",
            "The sum of 7 and 8 s : 15\n"
          ]
        }
      ]
    },
    {
      "cell_type": "markdown",
      "source": [
        "### Return Statement\n",
        "* it ends the flow of a function\n",
        "* if you dont provide the return statement to the function, it returns the `None` type\n",
        "* it returns the expression back to the function\n",
        "* the code after the return statement is not executed,\n",
        "* if there is no return statement, the returned value is `None`"
      ],
      "metadata": {
        "id": "KZCNGYNy1EBH"
      }
    },
    {
      "cell_type": "markdown",
      "source": [
        "### Returning multiple values\n",
        "def intro(name, age, hobbby)\n",
        "\n"
      ],
      "metadata": {
        "id": "pNJqxKAu3LC2"
      }
    },
    {
      "cell_type": "code",
      "source": [
        "def returnExp():\n",
        "  a=10\n",
        "  b=20\n",
        "  c=30\n",
        "  d=40\n",
        "  return(a,b,c,d)\n",
        "\n",
        "print(f\"The values returned are {returnExp()}\")"
      ],
      "metadata": {
        "colab": {
          "base_uri": "https://localhost:8080/"
        },
        "id": "YUGFfyUZYNKJ",
        "outputId": "66d390c3-3b04-4142-a39d-24321953bd4a"
      },
      "execution_count": null,
      "outputs": [
        {
          "output_type": "stream",
          "name": "stdout",
          "text": [
            "The values returned are (10, 20, 30, 40)\n"
          ]
        }
      ]
    },
    {
      "cell_type": "markdown",
      "source": [
        "### Scope of Variable\n",
        "1. Global Variable\n",
        "2. Local Variable\n"
      ],
      "metadata": {
        "id": "N7ZfZ1C9Y9n5"
      }
    },
    {
      "cell_type": "code",
      "source": [
        "a=5\n",
        "\n",
        "def exp():\n",
        "  b=2\n",
        "  print(f\"exp()\")\n",
        "exp()"
      ],
      "metadata": {
        "colab": {
          "base_uri": "https://localhost:8080/"
        },
        "id": "-tbGqbv_Y9Mh",
        "outputId": "e9a2b2a4-8cc2-46ad-da06-bf9fb740496b"
      },
      "execution_count": null,
      "outputs": [
        {
          "output_type": "stream",
          "name": "stdout",
          "text": [
            "exp()\n"
          ]
        }
      ]
    },
    {
      "cell_type": "code",
      "source": [
        "b=2 #global variable\n",
        "def exp():\n",
        "    a=20 # local variable\n",
        "    print(f\"a={a}, b={b}\")\n",
        "\n",
        "print(f\"a={a}, b={b}\")\n",
        "exp()"
      ],
      "metadata": {
        "colab": {
          "base_uri": "https://localhost:8080/"
        },
        "id": "3FewB46Sa5_Y",
        "outputId": "5e0d6b83-f0b9-4dce-c5d6-a0cc243c440b"
      },
      "execution_count": null,
      "outputs": [
        {
          "output_type": "stream",
          "name": "stdout",
          "text": [
            "a=5, b=2\n",
            "a=20, b=2\n"
          ]
        }
      ]
    },
    {
      "cell_type": "markdown",
      "source": [
        "### Lambda Function\n",
        "1. they are nameless function\n",
        "2. they are used for short interval and short term in the  code\n",
        "3. Lamda function structure - `(lambda parameters:return_values)(arguments)`\n"
      ],
      "metadata": {
        "id": "1cSOjxYWin_1"
      }
    },
    {
      "cell_type": "code",
      "source": [
        "def add(x, y):\n",
        "    return x + y\n",
        "\n",
        "a = 5\n",
        "b = 7\n",
        "print(add(a, b))  # Output: 12\n",
        "\n",
        "# Call the lambda function with arguments a and b\n",
        "print(f\"Using lambda function a + b: {(lambda a, b: a + b)(a, b)}\")  # Output: 12"
      ],
      "metadata": {
        "colab": {
          "base_uri": "https://localhost:8080/"
        },
        "id": "riUEJnLGk9bw",
        "outputId": "83010ce1-6165-4529-a274-21a3d09387eb"
      },
      "execution_count": null,
      "outputs": [
        {
          "output_type": "stream",
          "name": "stdout",
          "text": [
            "12\n",
            "Using lambda function a + b: 12\n"
          ]
        }
      ]
    },
    {
      "cell_type": "code",
      "source": [
        "def large(a,b):\n",
        "  if a>b:\n",
        "    return a\n",
        "  else:\n",
        "    return b\n",
        "\n",
        "a=5\n",
        "b=9\n",
        "print(f\"The large of {a} and {b}  is {large(a, b)}\")\n",
        "print(f\"Using the lambda function, the smallest is : {(lambda a, b: a if a<b else b)(a,b)}\")"
      ],
      "metadata": {
        "colab": {
          "base_uri": "https://localhost:8080/"
        },
        "id": "4kdZ8-QjoA57",
        "outputId": "e6c079da-6d36-4c61-d446-ba84dc035465"
      },
      "execution_count": null,
      "outputs": [
        {
          "output_type": "stream",
          "name": "stdout",
          "text": [
            "The large of 5 and 9  is 9\n",
            "Using the lambda function, the smallest is : 5\n"
          ]
        }
      ]
    },
    {
      "cell_type": "markdown",
      "source": [
        "### Challenge"
      ],
      "metadata": {
        "id": "LY8oj1qBpEAL"
      }
    },
    {
      "cell_type": "code",
      "source": [
        "def eveOdd(l):\n",
        "  for i in l:\n",
        "    if i%2==0:\n",
        "      print(i)\n",
        "l=[1,2,3,4,5,6,7,9,0]\n",
        "eveOdd(l)\n"
      ],
      "metadata": {
        "colab": {
          "base_uri": "https://localhost:8080/"
        },
        "id": "gDFdUxvbpCkA",
        "outputId": "0499d687-cb65-4c1f-ba8b-0a3ac1021b77"
      },
      "execution_count": null,
      "outputs": [
        {
          "output_type": "stream",
          "name": "stdout",
          "text": [
            "2\n",
            "4\n",
            "6\n",
            "0\n"
          ]
        }
      ]
    },
    {
      "cell_type": "code",
      "source": [
        "#challenge\n",
        "#return list with unique elements\n",
        "def unique(l):\n",
        "  new=[]\n",
        "  for i in l:\n",
        "    if i not in new:\n",
        "      new.append(i)\n",
        "  return new\n",
        "\n",
        "l=[1,2,3,5,4,2,7,8,5,6,9,9,5,]\n",
        "print(unique(l))"
      ],
      "metadata": {
        "colab": {
          "base_uri": "https://localhost:8080/"
        },
        "id": "PU5_7OHYy6Wm",
        "outputId": "4ba64425-64f1-4df1-82ca-408f59fd44a1"
      },
      "execution_count": null,
      "outputs": [
        {
          "output_type": "stream",
          "name": "stdout",
          "text": [
            "[1, 2, 3, 5, 4, 7, 8, 6, 9]\n"
          ]
        }
      ]
    },
    {
      "cell_type": "markdown",
      "source": [
        "### Argument vs Parameters\n",
        "1. Arguments - the actual values which you will be passing to a paramenters\n",
        "2. Parameters - those which you pass while defining a function"
      ],
      "metadata": {
        "id": "P2XXRSII2HOl"
      }
    },
    {
      "cell_type": "markdown",
      "source": [
        "### positional Arguments\n",
        "* the values you passe to eh parameters are matched to the arguments according to thier positions (the number and position must be same)\n"
      ],
      "metadata": {
        "id": "G3wxZBSE2m1C"
      }
    },
    {
      "cell_type": "code",
      "source": [
        "def info(name, hobby):\n",
        "  print(f\"Hello My name is {name}\")\n",
        "  print(f\"And my hobby is {hobby}\\n\\n\")\n",
        "\n",
        "n=str(input(\"Enter your name: \"))\n",
        "h=str(input(\"Enter your hobby: \"))\n",
        "\n",
        "print(f\"output obtained by Passing the arguments in right order : {info(n, h)}\")\n",
        "#print(f\"output obtained by Passing the arguments in wrong order : {info(h, n)}\")"
      ],
      "metadata": {
        "colab": {
          "base_uri": "https://localhost:8080/"
        },
        "id": "GmPXBGu03Hjl",
        "outputId": "a143d0ff-cb49-460f-8160-4a4b9d1f6a7a"
      },
      "execution_count": null,
      "outputs": [
        {
          "output_type": "stream",
          "name": "stdout",
          "text": [
            "Enter your name: Ameer\n",
            "Enter your hobby: coding\n",
            "Hello My name is Ameer\n",
            "And my hobby is coding\n",
            "\n",
            "\n",
            "output obtained by Passing the arguments in right order : None\n"
          ]
        }
      ]
    },
    {
      "cell_type": "markdown",
      "source": [
        "### default arguments\n",
        "* giving default values to the Paraments\n",
        "* for there parameters, passing values in arguments is optional\n",
        "* syntax - `def fun_name(parameter1, parameter2='Default value)`\n",
        "\n",
        "**Note :** The default arguments must be followed by the default arguments (non-default arguments must always be placed before the default arguments in the parameters list)"
      ],
      "metadata": {
        "id": "y6j-Gzhi4Vzw"
      }
    },
    {
      "cell_type": "code",
      "source": [
        "def info(name, hobby='Studying'): # default value is given here for the hobby parameter\n",
        "  print(f\"The name is {name}\")\n",
        "  print(f\"The hobby is {hobby}\\n\\n\")\n",
        "\n",
        "#using the default value in parameters\n",
        "info(\"Ameer Salam\")\n",
        "\n",
        "#repplacing the default value in parameters\n",
        "info(\"Danish\", \"Jogging\")"
      ],
      "metadata": {
        "colab": {
          "base_uri": "https://localhost:8080/"
        },
        "id": "8PNwYSRf4_Sn",
        "outputId": "b06d6cee-10ad-441a-fe9d-b8c4a149844b"
      },
      "execution_count": null,
      "outputs": [
        {
          "output_type": "stream",
          "name": "stdout",
          "text": [
            "The name is Ameer Salam\n",
            "The hobby is Studying\n",
            "\n",
            "\n",
            "The name is Danish\n",
            "The hobby is Jogging\n",
            "\n",
            "\n"
          ]
        }
      ]
    },
    {
      "cell_type": "markdown",
      "source": [
        "### Arbitrary Arguments\n",
        "* when the number of values you want to pass is not known\n",
        "* like we pass multiple values in print function\n",
        "* the values are being stored and returned in tuple\n",
        "* `*args` - must be used in the parameters list\n",
        "\n",
        "\n",
        "\n"
      ],
      "metadata": {
        "id": "gJDXnA3Z5gHt"
      }
    },
    {
      "cell_type": "code",
      "source": [
        "#arbitary arguments example\n",
        "def exp(*args):\n",
        "  print(args)\n",
        "  print(type(args))\n",
        "\n",
        "exp(1,2,3,4)"
      ],
      "metadata": {
        "colab": {
          "base_uri": "https://localhost:8080/"
        },
        "id": "IXAcmpcc7KLi",
        "outputId": "0de85672-18c6-47bd-f6ef-4cee2bd90654"
      },
      "execution_count": null,
      "outputs": [
        {
          "output_type": "stream",
          "name": "stdout",
          "text": [
            "(1, 2, 3, 4)\n",
            "<class 'tuple'>\n"
          ]
        }
      ]
    },
    {
      "cell_type": "code",
      "source": [
        "#arbitary arguments example 2\n",
        "def exp(*args):\n",
        "  print(args)\n",
        "  print(type(args))\n",
        "\n",
        "  for i in args:\n",
        "    print(i**2, end='\\t')\n",
        "\n",
        "exp(1,2,3,4)"
      ],
      "metadata": {
        "colab": {
          "base_uri": "https://localhost:8080/"
        },
        "id": "OViv-RCF7V8f",
        "outputId": "cb858b5b-d267-4049-8ae3-280813d9d87c"
      },
      "execution_count": null,
      "outputs": [
        {
          "output_type": "stream",
          "name": "stdout",
          "text": [
            "(1, 2, 3, 4)\n",
            "<class 'tuple'>\n",
            "1\t4\t9\t16\t"
          ]
        }
      ]
    },
    {
      "cell_type": "markdown",
      "source": [
        "### keyword Arguments\n",
        "* they are key and value pair arguments\n",
        "* it must be passed in the parameters lsit with `**`\n",
        "* they return in dictonary datatype\n"
      ],
      "metadata": {
        "id": "BHBXPDzF7imD"
      }
    },
    {
      "cell_type": "code",
      "source": [
        "def example(a,b,c, def_example='999', *args, **kwargs):\n",
        "  print(f\"A: {a}\\nB: {b}\\nC: {c}\")\n",
        "  print(f\"default: {def_example}\")\n",
        "  print(args)\n",
        "  print(kwargs)\n",
        "  print(\"Done with this time\\n\")\n",
        "\n",
        "example(3,4,99)\n",
        "example(3,4,99, 878)\n",
        "example(3,4,99, 878, 89, 99,4,73,87)\n",
        "example(3,4,99, 878, 89, 99,4,73,87, name=\"Ameer Salam\", age=20)\n"
      ],
      "metadata": {
        "colab": {
          "base_uri": "https://localhost:8080/"
        },
        "id": "G2cF6mpU81oE",
        "outputId": "ec760369-93f6-415b-c168-82c035154772"
      },
      "execution_count": null,
      "outputs": [
        {
          "output_type": "stream",
          "name": "stdout",
          "text": [
            "A: 3\n",
            "B: 4\n",
            "C: 99\n",
            "default: 999\n",
            "()\n",
            "{}\n",
            "Done with this time\n",
            "\n",
            "A: 3\n",
            "B: 4\n",
            "C: 99\n",
            "default: 878\n",
            "()\n",
            "{}\n",
            "Done with this time\n",
            "\n",
            "A: 3\n",
            "B: 4\n",
            "C: 99\n",
            "default: 878\n",
            "(89, 99, 4, 73, 87)\n",
            "{}\n",
            "Done with this time\n",
            "\n",
            "A: 3\n",
            "B: 4\n",
            "C: 99\n",
            "default: 878\n",
            "(89, 99, 4, 73, 87)\n",
            "{'name': 'Ameer Salam', 'age': 20}\n",
            "Done with this time\n",
            "\n"
          ]
        }
      ]
    },
    {
      "cell_type": "markdown",
      "source": [
        "## OOPs in Python\n",
        "* OOPs is based on four primary topics:\n",
        "  1. Encapsulation\n",
        "  2. Abstraction\n",
        "  3. Polymorphism\n",
        "  4. Inheritance\n",
        "\n",
        "  **Definitionns** :\n",
        "\n",
        "  1. **Objects** - real world entities, anything whit which we can store and process the data on.\n",
        "  2. **class** - template to create an object which defines the attribbutes and methods which are common to all the objects of that class\n",
        "  3. **Abstraction** - displaying only the essential information while hiding the internal details.\n",
        "  4. **Encapsulation** - Binding the data and its associated methods into one object\n",
        "  5. **Inheritance** - inheriting properties from one class to another\n",
        "  6. **Polymorphism** - same class and method can take many forms and can work differently for different objects\n"
      ],
      "metadata": {
        "id": "Q8O_he2l99Rc"
      }
    },
    {
      "cell_type": "markdown",
      "source": [
        "### Classes\n",
        "* it is a blueprint or template to create objects\n",
        "* class name starts with a capital letter"
      ],
      "metadata": {
        "id": "NR9eHWmEII8E"
      }
    },
    {
      "cell_type": "code",
      "source": [
        "class Car:\n",
        "  pass"
      ],
      "metadata": {
        "id": "Vv0uKX9rIjNM"
      },
      "execution_count": null,
      "outputs": []
    },
    {
      "cell_type": "markdown",
      "source": [
        "### Objects\n",
        "* objects are instances or entities of a class\n",
        "* it has all the properties of a class\n",
        "* object inherits its propertie from its parent class"
      ],
      "metadata": {
        "id": "-ogXi0q8Iuo9"
      }
    },
    {
      "cell_type": "code",
      "source": [
        "Volvo=Car()\n",
        "print(type(Volvo))"
      ],
      "metadata": {
        "colab": {
          "base_uri": "https://localhost:8080/"
        },
        "id": "N6GEn7nIJApD",
        "outputId": "385a2bca-ff55-4c70-9612-3b8a89868e4b"
      },
      "execution_count": null,
      "outputs": [
        {
          "output_type": "stream",
          "name": "stdout",
          "text": [
            "<class '__main__.Car'>\n"
          ]
        }
      ]
    },
    {
      "cell_type": "markdown",
      "source": [
        "### Constructors\n",
        "* they are special methods used to create and initialize an object of a class\n",
        "* this method is defined in a class\n",
        "* the constructors are executed automatically at the time object creation\n",
        "* in python we define a constructor as `def __init__(self, param1, param2):`\n",
        "* the self here in the parameter list maps the object with the name you give to it"
      ],
      "metadata": {
        "id": "5JbN20qoNHny"
      }
    },
    {
      "cell_type": "code",
      "source": [
        "class Human:\n",
        "  #some properties of Human\n",
        "  def __init__(self):\n",
        "    print(\"This is printed\")\n",
        "\n",
        "ameer=Human()\n",
        "salam=Human()"
      ],
      "metadata": {
        "colab": {
          "base_uri": "https://localhost:8080/"
        },
        "id": "KUOWPpYuNkOV",
        "outputId": "d0eef172-d206-44b0-e2aa-2d837f3d06b0"
      },
      "execution_count": null,
      "outputs": [
        {
          "output_type": "stream",
          "name": "stdout",
          "text": [
            "This is printed\n",
            "This is printed\n"
          ]
        }
      ]
    },
    {
      "cell_type": "code",
      "source": [
        "class Human:\n",
        "  #some properties of Human\n",
        "  def __init__(self, name, age, hobby):\n",
        "    self.name=name\n",
        "    self.age=age\n",
        "    self.hobby=hobby\n",
        "    print(f\"The name of the human is : {name}\\nThe age is : {age}\\nThe hobbies are : {hobby}\\n\\n\")\n",
        "\n",
        "ameer=Human('Ameer Salam', 20, 'Coding')\n",
        "danish=Human('Danish', 21, 'Swimming')"
      ],
      "metadata": {
        "colab": {
          "base_uri": "https://localhost:8080/"
        },
        "id": "YBUMZLohOU5p",
        "outputId": "074bbc11-e7ed-4295-88a1-1cd19d602756"
      },
      "execution_count": null,
      "outputs": [
        {
          "output_type": "stream",
          "name": "stdout",
          "text": [
            "The name of the human is : Ameer Salam\n",
            "The age is : 20\n",
            "The hobbies are : Coding\n",
            "\n",
            "\n",
            "The name of the human is : Danish\n",
            "The age is : 21\n",
            "The hobbies are : Swimming\n",
            "\n",
            "\n"
          ]
        }
      ]
    },
    {
      "cell_type": "code",
      "source": [
        "print(ameer.name)\n",
        "print(ameer.age)\n",
        "print(danish.age)"
      ],
      "metadata": {
        "colab": {
          "base_uri": "https://localhost:8080/"
        },
        "id": "JYwydVsCPrnu",
        "outputId": "7e360ea7-e494-4d8f-fe3c-e5b285084932"
      },
      "execution_count": null,
      "outputs": [
        {
          "output_type": "stream",
          "name": "stdout",
          "text": [
            "Ameer Salam\n",
            "20\n",
            "21\n"
          ]
        }
      ]
    },
    {
      "cell_type": "markdown",
      "source": [
        "### Class Methods\n",
        "* unlike the constructor, the methods are regular functions definied within a class to perform a specific operations.\n",
        "* they are used to define the behavious of an object and manipulate the state of object\n",
        "* unlike the constructor which can only be named as `__init__(self)`, methods can have any names example - `object.methods()`\n",
        "* return values - the methods can return values unlike constructors which only look after initialization and not on return values"
      ],
      "metadata": {
        "id": "BnHfn4QbRsJk"
      }
    },
    {
      "cell_type": "code",
      "source": [
        "class Calculator:\n",
        "  def __init__(self, var1, var2):\n",
        "    self.v1=var1\n",
        "    self.v2=var2\n",
        "\n",
        "  def add(self):\n",
        "    return self.v1+self.v2\n",
        "  def sub(self):\n",
        "    return self.v1-self.v2\n",
        "\n",
        "V1=int(input(\"Enter the Variabe 1 value : \"))\n",
        "V2=int(input(\"Enter the Variabe 2 value : \"))\n",
        "sol=Calculator(V1, V2)\n",
        "\n",
        "print(sol.add())\n",
        "print(sol.sub())"
      ],
      "metadata": {
        "colab": {
          "base_uri": "https://localhost:8080/"
        },
        "id": "ETQ_1h6jUTAZ",
        "outputId": "cd291daf-03ad-48fe-b0b5-0cf36c664c0e"
      },
      "execution_count": null,
      "outputs": [
        {
          "output_type": "stream",
          "name": "stdout",
          "text": [
            "Enter the Variabe 1 value : 6\n",
            "Enter the Variabe 2 value : 9\n",
            "15\n",
            "-3\n"
          ]
        }
      ]
    },
    {
      "cell_type": "markdown",
      "source": [
        "### Class Variables\n",
        "* instance variables are unique to each instance of the class. They belong to a specific objects and are used to store specific data related to that object.\n",
        "* whereas, the class variables are the variables that are accessed and used by all the instances of the class.\n",
        "* access - accessed with dot notation - `ClassName.variable_name`"
      ],
      "metadata": {
        "id": "iKYHGyu8X8TD"
      }
    },
    {
      "cell_type": "code",
      "source": [
        "class Class_var_exe:\n",
        "    population = 0\n",
        "\n",
        "    def __init__(self, name, age):\n",
        "        # Class variable\n",
        "        self.name = name\n",
        "        self.age = age\n",
        "        Class_var_exe.population += 1\n",
        "        print(f\"The name is {name}, and the age is {age}\\nThe population is {Class_var_exe.population}\")\n",
        "\n",
        "Human1 = Class_var_exe('Ameer Salam', 20)\n",
        "Human2 = Class_var_exe('Danish', 21)\n"
      ],
      "metadata": {
        "colab": {
          "base_uri": "https://localhost:8080/"
        },
        "id": "vMY5gLf_ZM_L",
        "outputId": "21423335-21c2-476a-9de4-8c452e732bf4"
      },
      "execution_count": null,
      "outputs": [
        {
          "output_type": "stream",
          "name": "stdout",
          "text": [
            "The name is Ameer Salam, and the age is 20\n",
            "The population is 1\n",
            "The name is Danish, and the age is 21\n",
            "The population is 2\n"
          ]
        }
      ]
    },
    {
      "cell_type": "markdown",
      "source": [
        "### Adding more methods in class\n"
      ],
      "metadata": {
        "id": "MRBacIy0bPtZ"
      }
    },
    {
      "cell_type": "code",
      "source": [
        "class Class_var_exe:\n",
        "    population = 0\n",
        "\n",
        "    def __init__(self, name, age):\n",
        "        # Class variable\n",
        "        self.name = name\n",
        "        self.age = age\n",
        "        Class_var_exe.population += 1\n",
        "        print(f\"The name is {name}, and the age is {age}\\nThe population is {Class_var_exe.population}\")\n",
        "\n",
        "    def welcome(self):\n",
        "      print(f\"Welcome {self.name}\\n\")\n",
        "\n",
        "    def death(self):\n",
        "      print(f\"R.I.P : {self.name}\\n\")\n",
        "      Class_var_exe.population-=1\n",
        "      print(f\"New population is : {Class_var_exe.population}\")\n",
        "\n",
        "\n",
        "Human1 = Class_var_exe('person X', 20)\n",
        "Human1.welcome()\n",
        "Human2 = Class_var_exe('person Y', 21)\n",
        "Human2.welcome()\n",
        "Human3 = Class_var_exe('person Z', 98)\n",
        "Human3.welcome()\n",
        "Human3.death()\n",
        "\n"
      ],
      "metadata": {
        "colab": {
          "base_uri": "https://localhost:8080/"
        },
        "id": "R67MlzEtbVCA",
        "outputId": "bbf85e0f-9cfb-40c6-89b4-e4490d2eb930"
      },
      "execution_count": null,
      "outputs": [
        {
          "output_type": "stream",
          "name": "stdout",
          "text": [
            "The name is person X, and the age is 20\n",
            "The population is 1\n",
            "Welcome person X\n",
            "\n",
            "The name is person Y, and the age is 21\n",
            "The population is 2\n",
            "Welcome person Y\n",
            "\n",
            "The name is person Z, and the age is 98\n",
            "The population is 3\n",
            "Welcome person Z\n",
            "\n",
            "R.I.P : person Z\n",
            "\n",
            "New population is : 2\n"
          ]
        }
      ]
    },
    {
      "cell_type": "code",
      "source": [
        "Class_var_exe.population"
      ],
      "metadata": {
        "colab": {
          "base_uri": "https://localhost:8080/"
        },
        "id": "Ot1uzPjBdy4c",
        "outputId": "6dd2a4b8-3b4d-47b9-c9f9-050ba629c034"
      },
      "execution_count": null,
      "outputs": [
        {
          "output_type": "execute_result",
          "data": {
            "text/plain": [
              "2"
            ]
          },
          "metadata": {},
          "execution_count": 29
        }
      ]
    },
    {
      "cell_type": "code",
      "source": [
        "Human2.death()"
      ],
      "metadata": {
        "colab": {
          "base_uri": "https://localhost:8080/"
        },
        "id": "rM_YkbK3d3kS",
        "outputId": "61240064-e055-4dcc-c5c2-9e7a3d1bca7c"
      },
      "execution_count": null,
      "outputs": [
        {
          "output_type": "stream",
          "name": "stdout",
          "text": [
            "R.I.P : person Y\n",
            "\n",
            "New population is : 1\n"
          ]
        }
      ]
    },
    {
      "cell_type": "markdown",
      "source": [
        "### Inheritance\n",
        "* when a class derives every methods and attributes from another class\n",
        "* it gets access to all of its methods and attributes\n",
        "* helps increase the  code resuability\n",
        "* the parent class name is written in the parameters list of the class"
      ],
      "metadata": {
        "id": "ucs9LphUe-Eu"
      }
    },
    {
      "cell_type": "code",
      "source": [
        "class Employee(Class_var_exe):\n",
        "  pass"
      ],
      "metadata": {
        "id": "EWDMAqn1gadE"
      },
      "execution_count": null,
      "outputs": []
    },
    {
      "cell_type": "code",
      "source": [
        "Class_var_exe.population"
      ],
      "metadata": {
        "colab": {
          "base_uri": "https://localhost:8080/"
        },
        "id": "4zqO_uy2hGaP",
        "outputId": "8d7f3c74-60d2-4e1d-ca1a-6dc57f5a320d"
      },
      "execution_count": null,
      "outputs": [
        {
          "output_type": "execute_result",
          "data": {
            "text/plain": [
              "1"
            ]
          },
          "metadata": {},
          "execution_count": 32
        }
      ]
    },
    {
      "cell_type": "code",
      "source": [
        "el1=Employee('Dont know1', 30)\n",
        "el2=Employee('Dont know2', 34)\n",
        "el3=Employee('Dont know3',21)\n",
        "el4=Employee('Dont know4', 76)\n",
        "\n",
        "el2.death()"
      ],
      "metadata": {
        "colab": {
          "base_uri": "https://localhost:8080/"
        },
        "id": "_Ug7qfG2hPZz",
        "outputId": "6542337f-9088-4d12-9be9-0515d2e93801"
      },
      "execution_count": null,
      "outputs": [
        {
          "output_type": "stream",
          "name": "stdout",
          "text": [
            "The name is Dont know1, and the age is 30\n",
            "The population is 8\n",
            "The name is Dont know2, and the age is 34\n",
            "The population is 9\n",
            "The name is Dont know3, and the age is 21\n",
            "The population is 10\n",
            "The name is Dont know4, and the age is 76\n",
            "The population is 11\n",
            "R.I.P : Dont know2\n",
            "\n",
            "New population is : 10\n"
          ]
        }
      ]
    },
    {
      "cell_type": "code",
      "source": [
        "#reinitiate constructor\n",
        "class Employee(Class_var_exe):\n",
        "  def __init__(self,name, age, company, salary):\n",
        "    super().__init__(name, age)    #using super we can inherit all the constructors from super class to the subclass\n",
        "    #attributes for employee class\n",
        "    self.company=company\n",
        "    self.salary=salary\n",
        "    print(f\"{company}, {salary}\")\n",
        "\n",
        "  def hier(self, name):\n",
        "    print(f\"this persone {name} has been hiered in the company\")\n",
        "    #welcome.Employee()\n"
      ],
      "metadata": {
        "id": "smPLK9V4w7P1"
      },
      "execution_count": null,
      "outputs": []
    },
    {
      "cell_type": "code",
      "source": [
        "el1=Employee('Dont know1', 30, 'amazon', 345)\n",
        "el2=Employee('Dont know2', 34, 'Microsogt', 454)\n",
        "el3=Employee('Dont know3',21, 'Google', 545)\n",
        "el4=Employee('Dont know4', 76, 'netflix', 343)"
      ],
      "metadata": {
        "colab": {
          "base_uri": "https://localhost:8080/"
        },
        "id": "nnxqsu0sx1R8",
        "outputId": "371ebeeb-07a2-4f00-f2d3-996486a9e9f1"
      },
      "execution_count": null,
      "outputs": [
        {
          "output_type": "stream",
          "name": "stdout",
          "text": [
            "The name is Dont know1, and the age is 30\n",
            "The population is 8\n",
            "amazon, 345\n",
            "The name is Dont know2, and the age is 34\n",
            "The population is 9\n",
            "Microsogt, 454\n",
            "The name is Dont know3, and the age is 21\n",
            "The population is 10\n",
            "Google, 545\n",
            "The name is Dont know4, and the age is 76\n",
            "The population is 11\n",
            "netflix, 343\n"
          ]
        }
      ]
    },
    {
      "cell_type": "markdown",
      "source": [
        "### Polymorphism\n",
        "* mmeans having many formms\n",
        "* same class methods can work differently for different objects\n",
        "* types of Polymorphism\n",
        "  * operator level polymorphism\n",
        "  * method based polymorhism\n",
        "\n",
        "  "
      ],
      "metadata": {
        "id": "xSiXeCsC03qu"
      }
    },
    {
      "cell_type": "markdown",
      "source": [
        "#### operator level polymorphism\n",
        "example -\n",
        "a=2\n",
        "b=4\n",
        "print(a+b) - the exected uotpu t ar 6\n",
        "print(\"2\" + '4\") - this gives different output\n",
        "the  same operator is performing different operations\n"
      ],
      "metadata": {
        "id": "IzIj_IfF1auS"
      }
    },
    {
      "cell_type": "markdown",
      "source": [
        "#### Function level Polymorphi\n",
        "* here the same function behave differently for differen objects.\n"
      ],
      "metadata": {
        "id": "RcaFG1Dv2Fcg"
      }
    },
    {
      "cell_type": "markdown",
      "source": [
        "## File Handling in Python\n",
        "* file is a contianer in a computer system which stores data\n",
        "* her data is permanantly stored\n",
        "\n",
        "* type of file\n",
        "  * text\n",
        "  * binary\n",
        "\n",
        "* operations of files are:\n",
        "  * read\n",
        "  * write\n",
        "  * append"
      ],
      "metadata": {
        "id": "XTwMZVlm57Lo"
      }
    },
    {
      "cell_type": "markdown",
      "source": [
        "### opening and reading a file\n"
      ],
      "metadata": {
        "id": "omrRe0Ds6pjy"
      }
    },
    {
      "cell_type": "code",
      "source": [
        "f=open(\"/doc.txt\") #be default it opens with a read function"
      ],
      "metadata": {
        "id": "xDKz2F_c6z7p"
      },
      "execution_count": null,
      "outputs": []
    },
    {
      "cell_type": "code",
      "source": [
        "f.close() #to close the file"
      ],
      "metadata": {
        "id": "HbyxR0xK-7dP"
      },
      "execution_count": null,
      "outputs": []
    },
    {
      "cell_type": "code",
      "source": [
        "f.read()"
      ],
      "metadata": {
        "colab": {
          "base_uri": "https://localhost:8080/",
          "height": 35
        },
        "id": "nq9WoWwB-_0w",
        "outputId": "b19ed2d9-c284-421e-96e5-fad6b2539d22"
      },
      "execution_count": null,
      "outputs": [
        {
          "output_type": "execute_result",
          "data": {
            "text/plain": [
              "'Hi\\nHello'"
            ],
            "application/vnd.google.colaboratory.intrinsic+json": {
              "type": "string"
            }
          },
          "metadata": {},
          "execution_count": 66
        }
      ]
    },
    {
      "cell_type": "markdown",
      "source": [
        "### Operations on Files\n",
        "\n",
        "Basic operations are\n",
        "* read - r\n",
        "* write - w\n",
        "* append at the end of the file - a\n",
        "* write text - wt\n",
        "* write binary - wb\n",
        "* read binary - rb\n",
        "* read text - rt\n",
        "\n",
        "\n",
        "\n",
        "| Operation      | Description                                                                                     | Example                                        |\n",
        "|----------------|-------------------------------------------------------------------------------------------------|------------------------------------------------|\n",
        "| Open           | Opens a file for reading, writing, or both.                                                     | `file = open(\"filename.txt\", \"r\")`             |\n",
        "| Close          | Closes the opened file.                                                                         | `file.close()`                                 |\n",
        "| Read           | Reads the contents of the file.                                                                 | `content = file.read()`                        |\n",
        "| Write          | Writes data to the file.                                                                        | `file.write(\"Hello, world!\")`                  |\n",
        "| Append         | Appends data to the end of the file.                                                            | `file.write(\"New content\")`                    |\n",
        "| Readline       | Reads a single line from the file.                                                              | `line = file.readline()`                       |\n",
        "| Readlines      | Reads all lines from the file into a list.                                                       | `lines = file.readlines()`                     |\n",
        "| Seek           | Moves the file pointer to a specified position.                                                  | `file.seek(0)`                                 |\n",
        "| Tell           | Returns the current position of the file pointer.                                                 | `position = file.tell()`                       |\n",
        "| Flush          | Flushes the internal buffer to the file.                                                         | `file.flush()`                                 |\n",
        "| With Statement | Automatically handles opening and closing of files.                                               | `with open(\"filename.txt\", \"r\") as file:`      |\n",
        "| Rename         | Renames a file.                                                                                  | `os.rename(\"old.txt\", \"new.txt\")`              |\n",
        "| Remove         | Deletes a file.                                                                                  | `os.remove(\"filename.txt\")`                    |\n",
        "| Exists         | Checks if a file exists.                                                                         | `os.path.exists(\"filename.txt\")`               |\n",
        "| Isfile         | Checks if a path is a regular file.                                                              | `os.path.isfile(\"filename.txt\")`               |\n",
        "| Isdir          | Checks if a path is a directory.                                                                 | `os.path.isdir(\"dirname\")`                     |\n",
        "| Mkdir          | Creates a new directory.                                                                         | `os.mkdir(\"dirname\")`                          |\n",
        "| Rmdir          | Removes a directory.                                                                             | `os.rmdir(\"dirname\")`                          |\n",
        "| Walk           | Generates the file names in a directory tree by walking the tree either top-down or bottom-up.   | `for dirpath, dirnames, filenames in os.walk(\"dirname\"):` |\n",
        "| Chmod          | Changes the permissions of a file.                                                               | `os.chmod(\"filename.txt\", 0o777)`              |\n",
        "| Chown          | Changes the owner and group id of a file.                                                        | `os.chown(\"filename.txt\", uid, gid)`           |\n",
        "\n"
      ],
      "metadata": {
        "id": "nFU2HLLz_MeR"
      }
    },
    {
      "cell_type": "code",
      "source": [
        "#opening file in write mode\n",
        "f=open(\"doc.txt\", 'w')\n",
        "f.write(\"\\nThis is written now\")\n",
        "f.close()"
      ],
      "metadata": {
        "id": "H1hGcvoyAA8e"
      },
      "execution_count": null,
      "outputs": []
    },
    {
      "cell_type": "code",
      "source": [
        "f=open(\"doc.txt\")\n",
        "content=f.read()\n",
        "print(content)\n",
        "f.close()"
      ],
      "metadata": {
        "colab": {
          "base_uri": "https://localhost:8080/"
        },
        "id": "AnfPwsKLAgzd",
        "outputId": "91b39cba-a754-4adf-e0b7-a090e2b19d53"
      },
      "execution_count": null,
      "outputs": [
        {
          "output_type": "stream",
          "name": "stdout",
          "text": [
            "\n",
            "This is written now\n"
          ]
        }
      ]
    },
    {
      "cell_type": "markdown",
      "source": [
        "#### with open function\n",
        "* mmost common way to perfrom operations on the files\n",
        "* it closes the file after performing the operations\n",
        "* with the `with open1` we dont hav to close the file explicitly"
      ],
      "metadata": {
        "id": "1Qr6LaHHBNDO"
      }
    },
    {
      "cell_type": "code",
      "source": [
        "with open(\"doc.txt\") as f:\n",
        "  print(f.read())"
      ],
      "metadata": {
        "colab": {
          "base_uri": "https://localhost:8080/"
        },
        "id": "9-ec0bRVBYfw",
        "outputId": "f1c0234f-cfdd-42d1-c881-84073fb8d5ee"
      },
      "execution_count": null,
      "outputs": [
        {
          "output_type": "stream",
          "name": "stdout",
          "text": [
            "\n",
            "This is written now\n"
          ]
        }
      ]
    },
    {
      "cell_type": "code",
      "source": [
        "f.closed"
      ],
      "metadata": {
        "colab": {
          "base_uri": "https://localhost:8080/"
        },
        "id": "6wBuZaMjBibc",
        "outputId": "71647cb8-fb60-4546-d2bd-1c3af9d99580"
      },
      "execution_count": null,
      "outputs": [
        {
          "output_type": "execute_result",
          "data": {
            "text/plain": [
              "True"
            ]
          },
          "metadata": {},
          "execution_count": 85
        }
      ]
    },
    {
      "cell_type": "markdown",
      "source": [
        "#### Writing in a file\n",
        "1. creat or open file"
      ],
      "metadata": {
        "id": "TpmvRf-7CD9P"
      }
    },
    {
      "cell_type": "code",
      "source": [
        "with open('doc.txt', 'w') as f:\n",
        "  f.write(\"NEW FILE FOUND\")"
      ],
      "metadata": {
        "id": "a6S8Y_xbCf0P"
      },
      "execution_count": null,
      "outputs": []
    },
    {
      "cell_type": "markdown",
      "source": [
        "#### Reading from a file\n"
      ],
      "metadata": {
        "id": "UGEohkhXWgfb"
      }
    },
    {
      "cell_type": "code",
      "source": [
        "with open(\"doc.txt\", 'r') as f:\n",
        "  data=f.read(3)\n",
        "  print(data)\n",
        "\n",
        "# to read next 4 characters\n",
        "  data=f.read(4)\n",
        "  print(data)\n",
        "\n",
        "# resetting file hanfler using seek()\n",
        "  f.seek(4)\n",
        "  data=f.read()\n",
        "  print(data)\n",
        "\n",
        "  data=f.readlines()\n",
        "  print(data)"
      ],
      "metadata": {
        "colab": {
          "base_uri": "https://localhost:8080/"
        },
        "id": "LWyJN19ZWiy-",
        "outputId": "dedb0ab8-8cd4-4552-8d57-040363ca9419"
      },
      "execution_count": null,
      "outputs": [
        {
          "output_type": "stream",
          "name": "stdout",
          "text": [
            "NEW\n",
            " FIL\n",
            "FILE FOUND\n",
            "[]\n"
          ]
        }
      ]
    },
    {
      "cell_type": "markdown",
      "source": [
        "### Handling Binary files\n"
      ],
      "metadata": {
        "id": "inrJtWhDXrTL"
      }
    },
    {
      "cell_type": "code",
      "source": [
        "#creating new file with first file data\n",
        "#this content is commented as it produces a very large output to be displayed on screen\n",
        "'''\n",
        "with open (\"Anime Wallpaper Phone.jpeg\", 'rb') as f : #rb refers to read binary\n",
        "  data=f.read()\n",
        "  print(data)\n",
        "'''"
      ],
      "metadata": {
        "colab": {
          "base_uri": "https://localhost:8080/",
          "height": 35
        },
        "id": "wwf5UoaDlxdk",
        "outputId": "37657227-f215-4755-acc6-5f85729f0877"
      },
      "execution_count": null,
      "outputs": [
        {
          "output_type": "execute_result",
          "data": {
            "text/plain": [
              "'\\nwith open (\"Anime Wallpaper Phone.jpeg\", \\'rb\\') as f : #rb refers to read binary\\n  data=f.read()\\n  print(data)\\n'"
            ],
            "application/vnd.google.colaboratory.intrinsic+json": {
              "type": "string"
            }
          },
          "metadata": {},
          "execution_count": 30
        }
      ]
    },
    {
      "cell_type": "code",
      "source": [
        "#creating new file with first file data\n",
        "#this content is commented as it produces a very large output to be displayed on screen\n",
        "'''\n",
        "with open (\"Anime Wallpaper Phone.jpeg\", 'rb') as f : #rb refers to read binary\n",
        "data=f.read()\n",
        "with open(\"newImg.jpeg\", 'wb') as d:\n",
        "d.write(data)\n",
        "print(data)\n",
        "'''"
      ],
      "metadata": {
        "colab": {
          "base_uri": "https://localhost:8080/",
          "height": 53
        },
        "id": "7Wg60faLmFCj",
        "outputId": "6b90178f-768c-4d20-c7f1-350ca62a8f6e"
      },
      "execution_count": null,
      "outputs": [
        {
          "output_type": "execute_result",
          "data": {
            "text/plain": [
              "'\\nwith open (\"Anime Wallpaper Phone.jpeg\", \\'rb\\') as f : #rb refers to read binary\\ndata=f.read()\\nwith open(\"newImg.jpeg\", \\'wb\\') as d:\\nd.write(data)\\nprint(data)\\n'"
            ],
            "application/vnd.google.colaboratory.intrinsic+json": {
              "type": "string"
            }
          },
          "metadata": {},
          "execution_count": 4
        }
      ]
    },
    {
      "cell_type": "markdown",
      "source": [
        "## Errors and Exceptions in Python\n",
        "* the execution of the program is terminated if the code is faultty\n",
        "* there are certain places where exceptions can be cauesed\n",
        "* errors are caused by wrong syntax\n",
        "* exceptions are logic based : where syntax is right but the logic isn't, example - divide by zero\n",
        "\n",
        "Examples of errors in Python\n",
        "1. Sytax error - exp: `if:`\n",
        "2. NameError - exp: print(a) #a not defined\n",
        "3. TypeError - exp: \"a\"+2\n",
        "4. File not found - exp:open(\"file.txt\")\n",
        "5. IndentationError\n",
        "6. ZeroDivisionError - 5/0\n"
      ],
      "metadata": {
        "id": "YXL_jgQroW8N"
      }
    },
    {
      "cell_type": "code",
      "source": [
        "print(dir(__builtins__))"
      ],
      "metadata": {
        "colab": {
          "base_uri": "https://localhost:8080/"
        },
        "id": "9ExpcjglpahL",
        "outputId": "3da944b9-5dd8-4971-8471-8e67a3e31fcf"
      },
      "execution_count": null,
      "outputs": [
        {
          "output_type": "stream",
          "name": "stdout",
          "text": [
            "['ArithmeticError', 'AssertionError', 'AttributeError', 'BaseException', 'BlockingIOError', 'BrokenPipeError', 'BufferError', 'BytesWarning', 'ChildProcessError', 'ConnectionAbortedError', 'ConnectionError', 'ConnectionRefusedError', 'ConnectionResetError', 'DeprecationWarning', 'EOFError', 'Ellipsis', 'EncodingWarning', 'EnvironmentError', 'Exception', 'False', 'FileExistsError', 'FileNotFoundError', 'FloatingPointError', 'FutureWarning', 'GeneratorExit', 'IOError', 'ImportError', 'ImportWarning', 'IndentationError', 'IndexError', 'InterruptedError', 'IsADirectoryError', 'KeyError', 'KeyboardInterrupt', 'LookupError', 'MemoryError', 'ModuleNotFoundError', 'NameError', 'None', 'NotADirectoryError', 'NotImplemented', 'NotImplementedError', 'OSError', 'OverflowError', 'PendingDeprecationWarning', 'PermissionError', 'ProcessLookupError', 'RecursionError', 'ReferenceError', 'ResourceWarning', 'RuntimeError', 'RuntimeWarning', 'StopAsyncIteration', 'StopIteration', 'SyntaxError', 'SyntaxWarning', 'SystemError', 'SystemExit', 'TabError', 'TimeoutError', 'True', 'TypeError', 'UnboundLocalError', 'UnicodeDecodeError', 'UnicodeEncodeError', 'UnicodeError', 'UnicodeTranslateError', 'UnicodeWarning', 'UserWarning', 'ValueError', 'Warning', 'ZeroDivisionError', '__IPYTHON__', '__build_class__', '__debug__', '__doc__', '__import__', '__loader__', '__name__', '__package__', '__spec__', 'abs', 'aiter', 'all', 'anext', 'any', 'ascii', 'bin', 'bool', 'breakpoint', 'bytearray', 'bytes', 'callable', 'chr', 'classmethod', 'compile', 'complex', 'copyright', 'credits', 'delattr', 'dict', 'dir', 'display', 'divmod', 'enumerate', 'eval', 'exec', 'execfile', 'filter', 'float', 'format', 'frozenset', 'get_ipython', 'getattr', 'globals', 'hasattr', 'hash', 'help', 'hex', 'id', 'input', 'int', 'isinstance', 'issubclass', 'iter', 'len', 'license', 'list', 'locals', 'map', 'max', 'memoryview', 'min', 'next', 'object', 'oct', 'open', 'ord', 'pow', 'print', 'property', 'range', 'repr', 'reversed', 'round', 'runfile', 'set', 'setattr', 'slice', 'sorted', 'staticmethod', 'str', 'sum', 'super', 'tuple', 'type', 'vars', 'zip']\n"
          ]
        }
      ]
    },
    {
      "cell_type": "markdown",
      "source": [
        "#### Try and Except\n",
        "* try: this block handlles the code which might return error (suspected code)\n",
        "* except: this block gives the output that you want to show if your code is faulty\n"
      ],
      "metadata": {
        "id": "hDreawoipiIM"
      }
    },
    {
      "cell_type": "code",
      "source": [
        "#using the try statement to skip the error statement\n",
        "a=5\n",
        "b=0\n",
        "try:\n",
        "  print(a/b)\n",
        "except:\n",
        "  pass\n",
        "\n",
        "print(\"Anyways! Error neglected\")\n"
      ],
      "metadata": {
        "colab": {
          "base_uri": "https://localhost:8080/"
        },
        "id": "S9T1R4gbqld3",
        "outputId": "eca5389b-d1b7-47d3-af7f-c2d18c3e7c16"
      },
      "execution_count": null,
      "outputs": [
        {
          "output_type": "stream",
          "name": "stdout",
          "text": [
            "Anyways! Error neglected\n"
          ]
        }
      ]
    },
    {
      "cell_type": "code",
      "source": [
        "a=5\n",
        "b=0\n",
        "\n",
        "#placing the suspect code in the try block\n",
        "try:\n",
        "  print(a/b)\n",
        "except:\n",
        "  print(\"Error\")"
      ],
      "metadata": {
        "colab": {
          "base_uri": "https://localhost:8080/"
        },
        "id": "fKX2UZ0_qFhr",
        "outputId": "0bf4f63c-d74d-4545-ed68-759f0198e7b2"
      },
      "execution_count": null,
      "outputs": [
        {
          "output_type": "stream",
          "name": "stdout",
          "text": [
            "Error\n"
          ]
        }
      ]
    },
    {
      "cell_type": "code",
      "source": [
        "a=5\n",
        "b=10\n",
        "\n",
        "#placing the suspect code in the try block\n",
        "try:\n",
        "  print(a/b)\n",
        "except:\n",
        "  print(\"Error\")"
      ],
      "metadata": {
        "colab": {
          "base_uri": "https://localhost:8080/"
        },
        "id": "JhcFDJg3qdvj",
        "outputId": "7a7f9282-beda-43b1-9687-b30db254d878"
      },
      "execution_count": null,
      "outputs": [
        {
          "output_type": "stream",
          "name": "stdout",
          "text": [
            "0.5\n"
          ]
        }
      ]
    },
    {
      "cell_type": "markdown",
      "source": [
        "### Except block\n",
        "* it displays the kind of error using `Exception`\n",
        "* we have to add the statement `except Excception as e`\n"
      ],
      "metadata": {
        "id": "dbkfzOrkq3vD"
      }
    },
    {
      "cell_type": "code",
      "source": [
        "a=5\n",
        "b=0\n",
        "\n",
        "#placing the suspect code in the try block\n",
        "try:\n",
        "  print(a/b)\n",
        "except Exception as e:\n",
        "  print(f\"The error is : {e}\")"
      ],
      "metadata": {
        "colab": {
          "base_uri": "https://localhost:8080/"
        },
        "id": "wUXALcYErAIR",
        "outputId": "b6ab29a9-22b1-4587-ef37-9b661b9c11c9"
      },
      "execution_count": null,
      "outputs": [
        {
          "output_type": "stream",
          "name": "stdout",
          "text": [
            "The error is : division by zero\n"
          ]
        }
      ]
    },
    {
      "cell_type": "markdown",
      "source": [
        "### Finally in Python\n",
        "* this bllock is executed in any case\n",
        "* it is helpful when you want to de-allocate resources\n",
        "* like closing a flie, or db connections"
      ],
      "metadata": {
        "id": "vzGcVZe1rdFv"
      }
    }
  ]
}