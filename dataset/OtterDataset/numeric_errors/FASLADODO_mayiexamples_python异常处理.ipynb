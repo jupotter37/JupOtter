{
 "cells": [
  {
   "cell_type": "markdown",
   "metadata": {},
   "source": [
    "https://www.cnblogs.com/wangshuyang/p/9789789.html"
   ]
  },
  {
   "cell_type": "markdown",
   "metadata": {},
   "source": [
    "# try..except的方式比较if的方式的好处"
   ]
  },
  {
   "cell_type": "code",
   "execution_count": null,
   "metadata": {},
   "outputs": [],
   "source": [
    "try..except这种异常处理机制就是取代if那种方式，让你的程序在不牺牲可读性的前提下增强健壮性和容错性\n",
    "\n",
    "异常处理中为每一个异常定制了异常类型（python中统一了类与类型，类型即类），对于同一种异常，一个except就可以捕捉到，可以同时处理多段代码的异常（无需‘写多个if判断式’）减少了代码，增强了可读性"
   ]
  },
  {
   "cell_type": "markdown",
   "metadata": {},
   "source": [
    "# 异常种类\n",
    "在python中不同的异常可以用不同的类型（python中统一了类与类型，类型即类）去标识，不同的类对象标识不同的异常，一个异常标识一种错误"
   ]
  },
  {
   "cell_type": "markdown",
   "metadata": {},
   "source": [
    "## 常见异常\n",
    "1. AttributeError 试图访问一个对象没有的树形，比如foo.x，但是foo没有属性x\n",
    "1. IOError 输入/输出异常；基本上是无法打开文件\n",
    "1. ImportError 无法引入模块或包；基本上是路径问题或名称错误\n",
    "1. IndentationError 语法错误（的子类） ；代码没有正确对齐\n",
    "1. IndexError 下标索引超出序列边界，比如当x只有三个元素，却试图访问x[5]\n",
    "1. KeyError 试图访问字典里不存在的键\n",
    "1. KeyboardInterrupt Ctrl+C被按下\n",
    "1. NameError 使用一个还未被赋予对象的变量\n",
    "1. SyntaxError Python代码非法，代码不能编译(个人认为这是语法错误，写错了）\n",
    "1. TypeError 传入对象类型与要求的不符合\n",
    "1. UnboundLocalError 试图访问一个还未被设置的局部变量，基本上是由于另有一个同名的全局变量，导致你以为正在访问它\n",
    "1. ValueError 传入一个调用者不期望的值，即使值的类型是正确的"
   ]
  },
  {
   "cell_type": "markdown",
   "metadata": {},
   "source": [
    "## 其它异常"
   ]
  },
  {
   "cell_type": "code",
   "execution_count": null,
   "metadata": {},
   "outputs": [],
   "source": [
    "ArithmeticError\n",
    "AssertionError\n",
    "AttributeError\n",
    "BaseException\n",
    "BufferError\n",
    "BytesWarning\n",
    "DeprecationWarning\n",
    "EnvironmentError\n",
    "EOFError\n",
    "Exception\n",
    "FloatingPointError\n",
    "FutureWarning\n",
    "GeneratorExit\n",
    "ImportError\n",
    "ImportWarning\n",
    "IndentationError\n",
    "IndexError\n",
    "IOError\n",
    "KeyboardInterrupt\n",
    "KeyError\n",
    "LookupError\n",
    "MemoryError\n",
    "NameError\n",
    "NotImplementedError\n",
    "OSError\n",
    "OverflowError\n",
    "PendingDeprecationWarning\n",
    "ReferenceError\n",
    "RuntimeError\n",
    "RuntimeWarning\n",
    "StandardError\n",
    "StopIteration\n",
    "SyntaxError\n",
    "SyntaxWarning\n",
    "SystemError\n",
    "SystemExit\n",
    "TabError\n",
    "TypeError\n",
    "UnboundLocalError\n",
    "UnicodeDecodeError\n",
    "UnicodeEncodeError\n",
    "UnicodeError\n",
    "UnicodeTranslateError\n",
    "UnicodeWarning\n",
    "UserWarning\n",
    "ValueError\n",
    "Warning\n",
    "ZeroDivisionError"
   ]
  },
  {
   "cell_type": "markdown",
   "metadata": {},
   "source": [
    "# 主动抛出异常"
   ]
  },
  {
   "cell_type": "code",
   "execution_count": 2,
   "metadata": {},
   "outputs": [
    {
     "ename": "RuntimeError",
     "evalue": "程序异常中断……",
     "output_type": "error",
     "traceback": [
      "\u001b[0;31m---------------------------------------------------------------------------\u001b[0m",
      "\u001b[0;31mRuntimeError\u001b[0m                              Traceback (most recent call last)",
      "\u001b[0;32m<ipython-input-2-02e4bbb93758>\u001b[0m in \u001b[0;36m<module>\u001b[0;34m\u001b[0m\n\u001b[0;32m----> 1\u001b[0;31m \u001b[0;32mraise\u001b[0m \u001b[0mRuntimeError\u001b[0m\u001b[0;34m(\u001b[0m\u001b[0;34m\"程序异常中断……\"\u001b[0m\u001b[0;34m)\u001b[0m\u001b[0;34m\u001b[0m\u001b[0;34m\u001b[0m\u001b[0m\n\u001b[0m",
      "\u001b[0;31mRuntimeError\u001b[0m: 程序异常中断……"
     ]
    }
   ],
   "source": [
    "raise RuntimeError(\"程序异常中断……\")"
   ]
  },
  {
   "cell_type": "markdown",
   "metadata": {},
   "source": [
    "# 最完整的异常示例"
   ]
  },
  {
   "cell_type": "code",
   "execution_count": null,
   "metadata": {},
   "outputs": [],
   "source": [
    "try:\n",
    "    # 可能发生异常的代码\n",
    "except 异常类型1 as 变量名:\n",
    "    print(变量名) # 变量名存储的是具体的错误信息\n",
    "except 异常类型2 as 变量名:\n",
    "    print(变量名) # 变量名存储的是具体的错误信息\n",
    "except Exception as 变量名:\n",
    "    print(变量名) # 变量名存储的是具体的错误信息\n",
    "else:\n",
    "    print('如果以上代码没有发生异常以及异常处理工作就执行这里的代码')\n",
    "    print('一般情况下else中的代码用来下结论')\n",
    "    # logging模块\n",
    "finally:\n",
    "    print('不管代码是否有异常都会执行,且在函数中遇到return仍然会执行')\n",
    "    print('一般情况下用于这个函数中资源的回收')"
   ]
  },
  {
   "cell_type": "code",
   "execution_count": 50,
   "metadata": {},
   "outputs": [],
   "source": [
    "def test(raise_error=False):\n",
    "    try:\n",
    "        print('normal clause1')  # 正常执行\n",
    "        if raise_error:\n",
    "            if raise_error=='TypeError':\n",
    "                raise TypeError('TypeError info!!!')\n",
    "            if raise_error=='ValueError':\n",
    "                raise ValueError('ValueError info!!!')\n",
    "        print('normal clause2')  # 不会执行\n",
    "    except ValueError as e:\n",
    "        print(e)  # 简洁的异常信息\n",
    "        import traceback\n",
    "        traceback.print_exc()  # 异常信息+堆栈信息, 绘制信息最下方打印\n",
    "        print('ValueError info catched!!!')  # 会被执行\n",
    "        print('Exception  clause1')  # 会被执行\n",
    "    except TypeError as e:\n",
    "        print(e)  # 简洁的异常信息\n",
    "        import traceback\n",
    "        traceback.print_exc()  # 异常信息+堆栈信息, 绘制信息最下方打印\n",
    "        print('TypeError info catched!!!')  # 会被执行\n",
    "        print('Exception  clause2')  # 会被执行\n",
    "    else:\n",
    "        print('else clause!!!')\n",
    "    finally:\n",
    "        print('finally clause')  # 会被执行\n",
    "    print('normal clause3')  # 会被执行"
   ]
  },
  {
   "cell_type": "code",
   "execution_count": 51,
   "metadata": {},
   "outputs": [
    {
     "name": "stdout",
     "output_type": "stream",
     "text": [
      "normal clause1\n",
      "normal clause2\n",
      "else clause!!!\n",
      "finally clause\n",
      "normal clause3\n"
     ]
    }
   ],
   "source": [
    "test(raise_error=False)"
   ]
  },
  {
   "cell_type": "code",
   "execution_count": 52,
   "metadata": {},
   "outputs": [
    {
     "name": "stdout",
     "output_type": "stream",
     "text": [
      "normal clause1\n",
      "ValueError info!!!\n",
      "ValueError info catched!!!\n",
      "Exception  clause1\n",
      "finally clause\n",
      "normal clause3\n"
     ]
    },
    {
     "name": "stderr",
     "output_type": "stream",
     "text": [
      "Traceback (most recent call last):\n",
      "  File \"<ipython-input-50-fe5631e02a06>\", line 8, in test\n",
      "    raise ValueError('ValueError info!!!')\n",
      "ValueError: ValueError info!!!\n"
     ]
    }
   ],
   "source": [
    "test(raise_error='ValueError')"
   ]
  },
  {
   "cell_type": "code",
   "execution_count": 49,
   "metadata": {},
   "outputs": [
    {
     "name": "stdout",
     "output_type": "stream",
     "text": [
      "normal clause1\n",
      "TypeError info!!!\n",
      "TypeError info catched!!!\n",
      "Exception  clause2\n",
      "finally clause\n",
      "normal clause3\n"
     ]
    },
    {
     "name": "stderr",
     "output_type": "stream",
     "text": [
      "Traceback (most recent call last):\n",
      "  File \"<ipython-input-47-9e73fe1ad972>\", line 6, in test\n",
      "    raise TypeError('TypeError info!!!')\n",
      "TypeError: TypeError info!!!\n"
     ]
    }
   ],
   "source": [
    "test(raise_error='TypeError')"
   ]
  },
  {
   "cell_type": "markdown",
   "metadata": {},
   "source": [
    "# 应用"
   ]
  },
  {
   "cell_type": "markdown",
   "metadata": {},
   "source": [
    "# 导入包的时候"
   ]
  },
  {
   "cell_type": "code",
   "execution_count": null,
   "metadata": {},
   "outputs": [],
   "source": [
    "try:\n",
    "    import Queue as queue\n",
    "except ImportError:\n",
    "    import queue"
   ]
  }
 ],
 "metadata": {
  "kernelspec": {
   "display_name": "Python 3",
   "language": "python",
   "name": "python3"
  },
  "language_info": {
   "codemirror_mode": {
    "name": "ipython",
    "version": 3
   },
   "file_extension": ".py",
   "mimetype": "text/x-python",
   "name": "python",
   "nbconvert_exporter": "python",
   "pygments_lexer": "ipython3",
   "version": "3.7.3"
  },
  "toc": {
   "base_numbering": 1,
   "nav_menu": {},
   "number_sections": true,
   "sideBar": true,
   "skip_h1_title": false,
   "title_cell": "Table of Contents",
   "title_sidebar": "Contents",
   "toc_cell": false,
   "toc_position": {},
   "toc_section_display": true,
   "toc_window_display": true
  }
 },
 "nbformat": 4,
 "nbformat_minor": 2
}
