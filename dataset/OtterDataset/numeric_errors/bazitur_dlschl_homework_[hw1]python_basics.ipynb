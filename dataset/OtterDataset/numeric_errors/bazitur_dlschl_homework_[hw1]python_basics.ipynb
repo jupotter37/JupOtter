{
 "cells": [
  {
   "cell_type": "markdown",
   "metadata": {},
   "source": [
    "# Школа глубокого обучения\n",
    "\n",
    "<a href=\"https://mipt.ru/science/labs/laboratoriya-neyronnykh-sistem-i-glubokogo-obucheniya/\"><img align=\"right\" src=\"https://avatars1.githubusercontent.com/u/29918795?v=4&s=200\" alt=\"DeepHackLab\" style=\"position:relative;top:-40px;right:10px;height:100px;\" /></a>\n",
    "\n",
    "\n",
    "\n",
    "### Физтех-Школа Прикладной математики и информатики МФТИ \n",
    "### Лаборатория нейронных сетей и глубокого обучения (DeepHackLab)"
   ]
  },
  {
   "cell_type": "markdown",
   "metadata": {},
   "source": [
    "## Занятие 1. Python и Jupyter Notebook"
   ]
  },
  {
   "cell_type": "markdown",
   "metadata": {},
   "source": [
    "*Захаркин Илья (ФИВТ 3 курс)*"
   ]
  },
  {
   "cell_type": "markdown",
   "metadata": {},
   "source": [
    "<img align=left src=\"https://cdn.fedoramagazine.org/wp-content/uploads/2015/11/Python_logo.png\" style=\"height:160px;\" />\n",
    "\n",
    "<img align=center src=\"https://1.bp.blogspot.com/-16utHnlB3Ao/V4tpG8NBX0I/AAAAAAAAA7M/vDQ1p40JpE8M34eCr-UdriSV04Dn8au7QCLcB/s1600/jupyter-logo.png\" style=\"height:90px;\" />"
   ]
  },
  {
   "cell_type": "markdown",
   "metadata": {},
   "source": [
    "---"
   ]
  },
  {
   "cell_type": "markdown",
   "metadata": {},
   "source": [
    "**Приветствуем Вас в Школе Глубокого Обучения от Физтех-Школы ПМИ МФТИ!**  \n",
    "\n",
    "Перед тем как начать складывать уровни нейросеточек как блинчики, нужно быть хорошо знакомым с библиотеками глубокого обучения и языком, на котором они написаны. \n",
    "В нашем курсе мы будем использовать язык **Python**, так как он является оптимальным сочетанием простоты, силы и количества библиотек глубокого обучения, написанных для него. "
   ]
  },
  {
   "cell_type": "markdown",
   "metadata": {},
   "source": [
    "На этом занятии мы научимся:  \n",
    "\n",
    "- Установить интерактивную среду разработки на Python - Jupyter Notebook и разобраться, как в ней работать\n",
    "- Установить сам Python\n",
    "- Научиться (или освежить память) писать программы на Python, изучив его основы\n",
    "- Научиться писать производительный код с помощью библиотеки NumPy\n",
    "- Научиться строить графики с помощью библиотеки Matplotlib"
   ]
  },
  {
   "cell_type": "markdown",
   "metadata": {},
   "source": [
    "## Установка Jupyter\n",
    "\n",
    "Инструкция по установке Jupyter Notebook: http://jupyter.readthedocs.org/en/latest/install.html\n",
    "\n",
    "После установки запуск осуществляется командой в консоли:  \n",
    "\n",
    "`jupyter notebook`\n",
    "\n",
    "Через несколько секунд должна открыться страница в браузере со списком файлов директории, в котороый была запущена команда (можно не ждать и самим перейти по http://localhost:8888/ - обычно там располагается локальный \"сервер\" Jupyter Notebook`а)."
   ]
  },
  {
   "cell_type": "markdown",
   "metadata": {},
   "source": [
    "## Онлайн Jupyter Notebook\n",
    "\n",
    "Можно ничего не устанавливать и работать с сайтом https://try.jupyter.org/\n",
    "\n",
    "На сайте можно создать новый файл `(New -> Python 2/3)` или загрузить файл с компьютера с помощью `Upload`.\n",
    "\n",
    "Будьте внимательны!\n",
    "<b>Сайт не сохраняет ваши файлы</b> и удаляет их после закрытия страницы.\n",
    "Чтобы загрузить файл себе откройте его нажмите `File -> Download as -> ipynb`.\n",
    "\n",
    "Можно так же пользоваться сайтом https://cloud.sagemath.com/."
   ]
  },
  {
   "cell_type": "markdown",
   "metadata": {},
   "source": [
    "# Работа с Python в Jupyter Notebook\n",
    "\n",
    "Чтобы создать новый файл, кликните New -> Python.\n",
    "\n",
    "Ноутбук состоит из ячеек (cells), которые бывают текстовыми (Markdown) и кодовыми (Code).\n",
    "Выбрать тип ячейки можно на панели управления.\n",
    "\n",
    "Работа с ячейками:\n",
    "<ul>\n",
    "    <li> Выбор ячейки — нажмите на нее мышкой.</li>\n",
    "    <li> Редактирование — нажмите на нее два раза.</li>\n",
    "    <li> Запуск ячейки — `SHIFT+ENTER` или нажмите на кнопку <button class='fa fa-play icon-play btn btn-xs btn-default'></button> на панеле.</li>\n",
    "    <li> Добавление новой ячейки — нажмите на кнопку <button class='fa fa-plus icon-plus btn btn-xs btn-default'></button> на панеле.</li>\n",
    "    <li> Удаление ячейки — нажмите на кнопку <button class='fa fa-cut icon-cut btn btn-xs btn-default'></button> на панеле.</li>\n",
    "    <li> Перемещение ячейки — нажмите на вертикальные стрелки.</li>\n",
    "</ul>"
   ]
  },
  {
   "cell_type": "markdown",
   "metadata": {},
   "source": [
    "Текстовые ячейки содержат в себе обычный текст, который может включать в себя формулы $\\LaTeX$ и `html`-команды:  \n",
    "\n",
    "$$f(x) = \\frac{1}{x}$$  \n",
    "\n",
    "$\\LaTeX$ cheat sheet -  https://wch.github.io/latexsheet/"
   ]
  },
  {
   "cell_type": "markdown",
   "metadata": {},
   "source": [
    "## Основы Python"
   ]
  },
  {
   "cell_type": "markdown",
   "metadata": {},
   "source": [
    "Сейчас существуют две часто используемые версии Питона — **Python 2** и **Python 3**. Эти версии довольно похожи, но есть отличия, из-за которых они **не являются совместимыми** - программы, написанные на одной версии языка, могут не работать в другой.  \n",
    "\n",
    "В нашем курсе мы будем писать на **Python 3**. Точная версия не принципиальна, но она должна быть >= 3.5  \n",
    "\n",
    "Если Вы пользуетесь каким-либо из дистрибутивов Linux, то Python скорее всего уже установлен.\n",
    "Попробуйте в терминале следующие команды для запуска интерактивного режима работы:\n",
    "\n",
    "`python` или `python3` или `python2`\n",
    "\n",
    "Выход: `Ctrl+D`\n",
    "\n",
    "Режим работы, в котором выполнится код из файла main.py\n",
    "\n",
    "`python main.py`\n",
    "\n",
    "Помощь: **`help(X)`**, где `X` — то, по чему нужна помощь.  \n",
    "Выход из помощи: `q`."
   ]
  },
  {
   "cell_type": "markdown",
   "metadata": {},
   "source": [
    "<img align=center src=\"http://images7.memedroid.com/images/UPLOADED973/596e4c96650e5.jpeg\" style=\"height:400px;\"/>"
   ]
  },
  {
   "cell_type": "markdown",
   "metadata": {},
   "source": [
    "## Общая информация о языке\n",
    "\n",
    "**Название** - **«Питон» или «Пайтон»** (в честь комедийных серий BBC «Летающий цирк Монти-Пайтона»)  \n",
    "**Создатель** - **голландец Гвидо ван Россум (Guido van Rossum)** (в 1991 году)  \n",
    "\n",
    "**Особенности**:  \n",
    "- интерпретируемый\n",
    "- объектно-ориентированный\n",
    "- высокоуровневый язык\n",
    "- встроенные высокоуровневые структуры данных\n",
    "- динамическая типизация\n",
    "- синтаксис прост в изучении\n",
    "- поддержка модулей и пакетов (большинство библиотек\n",
    "бесплатны)\n",
    "- универсальный\n",
    "- интеграция с другими языками (C (Cython), C++, Java (JPython))  \n",
    "\n",
    "**Стиль оформления кода** - **PEP8** (если Вы хороший человек).  \n",
    "\n",
    "*Самое главное из PEP8:*  \n",
    "- отступ – 4 пробела\n",
    "- длина строки < 80 символов\n",
    "- переменные: var_recommended\n",
    "- константы: CONST_RECOMMENDED"
   ]
  },
  {
   "cell_type": "code",
   "execution_count": 1,
   "metadata": {},
   "outputs": [
    {
     "name": "stdout",
     "output_type": "stream",
     "text": [
      "The Zen of Python, by Tim Peters\n",
      "\n",
      "Beautiful is better than ugly.\n",
      "Explicit is better than implicit.\n",
      "Simple is better than complex.\n",
      "Complex is better than complicated.\n",
      "Flat is better than nested.\n",
      "Sparse is better than dense.\n",
      "Readability counts.\n",
      "Special cases aren't special enough to break the rules.\n",
      "Although practicality beats purity.\n",
      "Errors should never pass silently.\n",
      "Unless explicitly silenced.\n",
      "In the face of ambiguity, refuse the temptation to guess.\n",
      "There should be one-- and preferably only one --obvious way to do it.\n",
      "Although that way may not be obvious at first unless you're Dutch.\n",
      "Now is better than never.\n",
      "Although never is often better than *right* now.\n",
      "If the implementation is hard to explain, it's a bad idea.\n",
      "If the implementation is easy to explain, it may be a good idea.\n",
      "Namespaces are one honking great idea -- let's do more of those!\n"
     ]
    }
   ],
   "source": [
    "import this"
   ]
  },
  {
   "cell_type": "markdown",
   "metadata": {},
   "source": [
    "## Типы"
   ]
  },
  {
   "cell_type": "markdown",
   "metadata": {},
   "source": [
    "**Все типы данных** в Python относятся к одной из **2-х категорий**: **изменяемые (mutable)** и **неизменяемые (unmutable)**.   \n",
    "\n",
    "*Неизменяемые объекты*:  \n",
    "* числовые данные (int, float), \n",
    "* bool,\n",
    "* None,\n",
    "* символьные строки (class 'str'), \n",
    "* кортежи (tuple).  \n",
    "\n",
    "*Изменяемые объекты*:  \n",
    "* списки (list), \n",
    "* множества (set), \n",
    "* словари (dict).  \n",
    "\n",
    "Вновь определяемые пользователем типы (классы) могут быть определены как неизменяемые или изменяемые. Изменяемость объектов определённого типа является принципиально важной характеристикой, определяющей, может ли объект такого типа **выступать в качестве ключа для словарей (dict)** или нет."
   ]
  },
  {
   "cell_type": "markdown",
   "metadata": {},
   "source": [
    "### int"
   ]
  },
  {
   "cell_type": "code",
   "execution_count": 2,
   "metadata": {},
   "outputs": [
    {
     "name": "stdout",
     "output_type": "stream",
     "text": [
      "5 | <class 'int'>\n"
     ]
    }
   ],
   "source": [
    "x = 5\n",
    "\n",
    "print(x, '|', type(x))"
   ]
  },
  {
   "cell_type": "code",
   "execution_count": 3,
   "metadata": {},
   "outputs": [
    {
     "name": "stdout",
     "output_type": "stream",
     "text": [
      "9 20 1\n"
     ]
    }
   ],
   "source": [
    "a = 4 + 5\n",
    "b = 4 * 5\n",
    "c = 5 // 4\n",
    "\n",
    "print(a, b, c)"
   ]
  },
  {
   "cell_type": "code",
   "execution_count": 4,
   "metadata": {},
   "outputs": [
    {
     "name": "stdout",
     "output_type": "stream",
     "text": [
      "-1\n"
     ]
    }
   ],
   "source": [
    "print( -(5 // 4) )"
   ]
  },
  {
   "cell_type": "code",
   "execution_count": 5,
   "metadata": {},
   "outputs": [
    {
     "name": "stdout",
     "output_type": "stream",
     "text": [
      "-2\n"
     ]
    }
   ],
   "source": [
    "print( -5 // 4 )"
   ]
  },
  {
   "cell_type": "code",
   "execution_count": 6,
   "metadata": {},
   "outputs": [
    {
     "name": "stdout",
     "output_type": "stream",
     "text": [
      "5000000000000000000000000001 | <class 'int'>\n"
     ]
    }
   ],
   "source": [
    "x = 5 * 1000000000 * 1000000000 * 10**9 + 1\n",
    "print(x, '|', type(x))"
   ]
  },
  {
   "cell_type": "markdown",
   "metadata": {},
   "source": [
    "### float"
   ]
  },
  {
   "cell_type": "code",
   "execution_count": 7,
   "metadata": {},
   "outputs": [
    {
     "name": "stdout",
     "output_type": "stream",
     "text": [
      "12.345 <class 'float'>\n"
     ]
    }
   ],
   "source": [
    "y = 12.345\n",
    "\n",
    "print(y, type(y))"
   ]
  },
  {
   "cell_type": "code",
   "execution_count": 8,
   "metadata": {},
   "outputs": [
    {
     "name": "stdout",
     "output_type": "stream",
     "text": [
      "9.3 21.419999999999998 1.25\n"
     ]
    }
   ],
   "source": [
    "a = 4.2 + 5.1\n",
    "b = 4.2 * 5.1\n",
    "c = 5.0 / 4.0\n",
    "\n",
    "print(a, b, c)"
   ]
  },
  {
   "cell_type": "code",
   "execution_count": 9,
   "metadata": {},
   "outputs": [
    {
     "name": "stdout",
     "output_type": "stream",
     "text": [
      "1.25\n"
     ]
    }
   ],
   "source": [
    "a = 5\n",
    "b = 4\n",
    "print(float(a) / float(b))"
   ]
  },
  {
   "cell_type": "code",
   "execution_count": 10,
   "metadata": {},
   "outputs": [
    {
     "name": "stdout",
     "output_type": "stream",
     "text": [
      "1.25\n"
     ]
    }
   ],
   "source": [
    "print(a / b)"
   ]
  },
  {
   "cell_type": "markdown",
   "metadata": {},
   "source": [
    "### bool"
   ]
  },
  {
   "cell_type": "code",
   "execution_count": 11,
   "metadata": {},
   "outputs": [
    {
     "name": "stdout",
     "output_type": "stream",
     "text": [
      "True | <class 'bool'>\n",
      "False | <class 'bool'>\n"
     ]
    }
   ],
   "source": [
    "a = True\n",
    "b = False\n",
    "\n",
    "print(a, '|', type(a))\n",
    "\n",
    "print(b, '|', type(b))"
   ]
  },
  {
   "cell_type": "code",
   "execution_count": 12,
   "metadata": {},
   "outputs": [
    {
     "name": "stdout",
     "output_type": "stream",
     "text": [
      "1\n",
      "2\n",
      "0\n"
     ]
    }
   ],
   "source": [
    "print(a + b)\n",
    "print(a + a)\n",
    "print(b + b)"
   ]
  },
  {
   "cell_type": "code",
   "execution_count": 13,
   "metadata": {},
   "outputs": [
    {
     "name": "stdout",
     "output_type": "stream",
     "text": [
      "1 0\n"
     ]
    }
   ],
   "source": [
    "print(int(a), int(b))"
   ]
  },
  {
   "cell_type": "code",
   "execution_count": 14,
   "metadata": {},
   "outputs": [
    {
     "name": "stdout",
     "output_type": "stream",
     "text": [
      "False \n",
      "\n",
      "True \n",
      "\n",
      "True \n",
      "\n"
     ]
    }
   ],
   "source": [
    "print(True and False, '\\n')\n",
    "\n",
    "print(True or True, '\\n')\n",
    "\n",
    "print(not False, '\\n')"
   ]
  },
  {
   "cell_type": "markdown",
   "metadata": {},
   "source": [
    "### None"
   ]
  },
  {
   "cell_type": "code",
   "execution_count": 15,
   "metadata": {},
   "outputs": [
    {
     "name": "stdout",
     "output_type": "stream",
     "text": [
      "None | <class 'NoneType'>\n"
     ]
    }
   ],
   "source": [
    "z = None\n",
    "print(z, '|', type(z))"
   ]
  },
  {
   "cell_type": "code",
   "execution_count": 16,
   "metadata": {},
   "outputs": [
    {
     "ename": "TypeError",
     "evalue": "int() argument must be a string, a bytes-like object or a number, not 'NoneType'",
     "output_type": "error",
     "traceback": [
      "\u001b[0;31m---------------------------------------------------------------------------\u001b[0m",
      "\u001b[0;31mTypeError\u001b[0m                                 Traceback (most recent call last)",
      "\u001b[0;32m<ipython-input-16-08f106455b6f>\u001b[0m in \u001b[0;36m<module>\u001b[0;34m()\u001b[0m\n\u001b[0;32m----> 1\u001b[0;31m \u001b[0mint\u001b[0m\u001b[0;34m(\u001b[0m\u001b[0mz\u001b[0m\u001b[0;34m)\u001b[0m\u001b[0;34m\u001b[0m\u001b[0m\n\u001b[0m",
      "\u001b[0;31mTypeError\u001b[0m: int() argument must be a string, a bytes-like object or a number, not 'NoneType'"
     ]
    }
   ],
   "source": [
    "int(z)"
   ]
  },
  {
   "cell_type": "code",
   "execution_count": null,
   "metadata": {
    "collapsed": true
   },
   "outputs": [],
   "source": [
    "if z is None:\n",
    "    z = 'I am None!'\n",
    "z"
   ]
  },
  {
   "cell_type": "markdown",
   "metadata": {},
   "source": [
    "### str"
   ]
  },
  {
   "cell_type": "markdown",
   "metadata": {},
   "source": [
    "В *python2.7* есть отдельный тип **unicode**. В *python3.5 (и выше)* (который будем использовать мы) всё это включено в тип **str**."
   ]
  },
  {
   "cell_type": "code",
   "execution_count": 17,
   "metadata": {},
   "outputs": [
    {
     "name": "stdout",
     "output_type": "stream",
     "text": [
      "abc | <class 'str'>\n",
      "xyz | <class 'str'>\n"
     ]
    }
   ],
   "source": [
    "x = \"abc\"\n",
    "y = 'xyz'\n",
    "print(x, '|', type(x))\n",
    "print(y, '|', type(y))"
   ]
  },
  {
   "cell_type": "code",
   "execution_count": 18,
   "metadata": {},
   "outputs": [
    {
     "name": "stdout",
     "output_type": "stream",
     "text": [
      "Андрей Михайлович\n"
     ]
    }
   ],
   "source": [
    "a = 'Андрей'\n",
    "b = \"Михайлович\"\n",
    "s = a + \" \" + b\n",
    "print(s)"
   ]
  },
  {
   "cell_type": "code",
   "execution_count": 19,
   "metadata": {},
   "outputs": [
    {
     "name": "stdout",
     "output_type": "stream",
     "text": [
      "АНДРЕЙ\n",
      "андрей\n"
     ]
    }
   ],
   "source": [
    "print(a.upper())\n",
    "print(a.lower())"
   ]
  },
  {
   "cell_type": "code",
   "execution_count": 20,
   "metadata": {},
   "outputs": [
    {
     "name": "stdout",
     "output_type": "stream",
     "text": [
      "6\n"
     ]
    }
   ],
   "source": [
    "print(len(a))"
   ]
  },
  {
   "cell_type": "code",
   "execution_count": 21,
   "metadata": {},
   "outputs": [
    {
     "name": "stdout",
     "output_type": "stream",
     "text": [
      "True\n",
      "False\n"
     ]
    }
   ],
   "source": [
    "print(bool(a))\n",
    "print(bool(\"\" + ''))"
   ]
  },
  {
   "cell_type": "code",
   "execution_count": 22,
   "metadata": {},
   "outputs": [
    {
     "name": "stdout",
     "output_type": "stream",
     "text": [
      "Андрей\n",
      "А\n",
      "н\n",
      "Анд\n"
     ]
    }
   ],
   "source": [
    "print(a)\n",
    "print(a[0])\n",
    "print(a[1])\n",
    "print(a[0:3])"
   ]
  },
  {
   "cell_type": "code",
   "execution_count": 23,
   "metadata": {},
   "outputs": [
    {
     "name": "stdout",
     "output_type": "stream",
     "text": [
      "Ад\n"
     ]
    }
   ],
   "source": [
    "print(a[0:4:2])"
   ]
  },
  {
   "cell_type": "code",
   "execution_count": 24,
   "metadata": {},
   "outputs": [
    {
     "name": "stdout",
     "output_type": "stream",
     "text": [
      "Роберт Дауни Младший <class 'str'>\n",
      "b'\\xd0\\xa0\\xd0\\xbe\\xd0\\xb1\\xd0\\xb5\\xd1\\x80\\xd1\\x82 \\xd0\\x94\\xd0\\xb0\\xd1\\x83\\xd0\\xbd\\xd0\\xb8 \\xd0\\x9c\\xd0\\xbb\\xd0\\xb0\\xd0\\xb4\\xd1\\x88\\xd0\\xb8\\xd0\\xb9' <class 'bytes'>\n",
      "Роберт Дауни Младший <class 'str'>\n",
      "Р РѕР±РµСЂС‚ Р”Р°СѓРЅРё РњР»Р°РґС€РёР№ <class 'str'>\n"
     ]
    }
   ],
   "source": [
    "x = 'Роберт Дауни Младший'\n",
    "print(x, type(x))\n",
    "y = x.encode('utf-8')\n",
    "print(y, type(y))\n",
    "z = y.decode('utf-8')\n",
    "print(z, type(z))\n",
    "q = y.decode('cp1251')\n",
    "print(q, type(q))"
   ]
  },
  {
   "cell_type": "markdown",
   "metadata": {},
   "source": [
    "### Метод `split()`:"
   ]
  },
  {
   "cell_type": "code",
   "execution_count": 25,
   "metadata": {},
   "outputs": [
    {
     "name": "stdout",
     "output_type": "stream",
     "text": [
      "['Райгородский', 'Андрей', 'Михайлович']\n"
     ]
    }
   ],
   "source": [
    "splitted_line = \"Райгородский Андрей Михайлович\".split(' ')\n",
    "print(splitted_line)"
   ]
  },
  {
   "cell_type": "markdown",
   "metadata": {},
   "source": [
    "### tuple"
   ]
  },
  {
   "cell_type": "code",
   "execution_count": 26,
   "metadata": {},
   "outputs": [
    {
     "data": {
      "text/plain": [
       "('a', 5, 12.345)"
      ]
     },
     "execution_count": 26,
     "metadata": {},
     "output_type": "execute_result"
    }
   ],
   "source": [
    "t = ('a', 5, 12.345)\n",
    "t"
   ]
  },
  {
   "cell_type": "code",
   "execution_count": 27,
   "metadata": {},
   "outputs": [
    {
     "ename": "AttributeError",
     "evalue": "'tuple' object has no attribute 'append'",
     "output_type": "error",
     "traceback": [
      "\u001b[0;31m---------------------------------------------------------------------------\u001b[0m",
      "\u001b[0;31mAttributeError\u001b[0m                            Traceback (most recent call last)",
      "\u001b[0;32m<ipython-input-27-9262fbb92a36>\u001b[0m in \u001b[0;36m<module>\u001b[0;34m()\u001b[0m\n\u001b[0;32m----> 1\u001b[0;31m \u001b[0mt\u001b[0m\u001b[0;34m.\u001b[0m\u001b[0mappend\u001b[0m\u001b[0;34m(\u001b[0m\u001b[0;36m5\u001b[0m\u001b[0;34m)\u001b[0m\u001b[0;34m\u001b[0m\u001b[0m\n\u001b[0m",
      "\u001b[0;31mAttributeError\u001b[0m: 'tuple' object has no attribute 'append'"
     ]
    }
   ],
   "source": [
    "t.append(5)"
   ]
  },
  {
   "cell_type": "code",
   "execution_count": 28,
   "metadata": {},
   "outputs": [
    {
     "data": {
      "text/plain": [
       "['__add__',\n",
       " '__class__',\n",
       " '__contains__',\n",
       " '__delattr__',\n",
       " '__dir__',\n",
       " '__doc__',\n",
       " '__eq__',\n",
       " '__format__',\n",
       " '__ge__',\n",
       " '__getattribute__',\n",
       " '__getitem__',\n",
       " '__getnewargs__',\n",
       " '__gt__',\n",
       " '__hash__',\n",
       " '__init__',\n",
       " '__iter__',\n",
       " '__le__',\n",
       " '__len__',\n",
       " '__lt__',\n",
       " '__mul__',\n",
       " '__ne__',\n",
       " '__new__',\n",
       " '__reduce__',\n",
       " '__reduce_ex__',\n",
       " '__repr__',\n",
       " '__rmul__',\n",
       " '__setattr__',\n",
       " '__sizeof__',\n",
       " '__str__',\n",
       " '__subclasshook__',\n",
       " 'count',\n",
       " 'index']"
      ]
     },
     "execution_count": 28,
     "metadata": {},
     "output_type": "execute_result"
    }
   ],
   "source": [
    "dir(t)"
   ]
  },
  {
   "cell_type": "code",
   "execution_count": 29,
   "metadata": {},
   "outputs": [
    {
     "data": {
      "text/plain": [
       "0"
      ]
     },
     "execution_count": 29,
     "metadata": {},
     "output_type": "execute_result"
    }
   ],
   "source": [
    "t.index('a')"
   ]
  },
  {
   "cell_type": "code",
   "execution_count": 30,
   "metadata": {},
   "outputs": [
    {
     "data": {
      "text/plain": [
       "12.345"
      ]
     },
     "execution_count": 30,
     "metadata": {},
     "output_type": "execute_result"
    }
   ],
   "source": [
    "t[2]"
   ]
  },
  {
   "cell_type": "code",
   "execution_count": 31,
   "metadata": {},
   "outputs": [
    {
     "data": {
      "text/plain": [
       "('a', 5, 12.345, 1, 2, 3)"
      ]
     },
     "execution_count": 31,
     "metadata": {},
     "output_type": "execute_result"
    }
   ],
   "source": [
    "m = (1, 2, 3)\n",
    "\n",
    "t + m"
   ]
  },
  {
   "cell_type": "code",
   "execution_count": 32,
   "metadata": {},
   "outputs": [
    {
     "ename": "TypeError",
     "evalue": "unsupported operand type(s) for -: 'tuple' and 'tuple'",
     "output_type": "error",
     "traceback": [
      "\u001b[0;31m---------------------------------------------------------------------------\u001b[0m",
      "\u001b[0;31mTypeError\u001b[0m                                 Traceback (most recent call last)",
      "\u001b[0;32m<ipython-input-32-19ba77f92292>\u001b[0m in \u001b[0;36m<module>\u001b[0;34m()\u001b[0m\n\u001b[0;32m----> 1\u001b[0;31m \u001b[0mt\u001b[0m \u001b[0;34m-\u001b[0m \u001b[0mm\u001b[0m\u001b[0;34m\u001b[0m\u001b[0m\n\u001b[0m",
      "\u001b[0;31mTypeError\u001b[0m: unsupported operand type(s) for -: 'tuple' and 'tuple'"
     ]
    }
   ],
   "source": [
    "t - m"
   ]
  },
  {
   "cell_type": "code",
   "execution_count": 33,
   "metadata": {},
   "outputs": [
    {
     "data": {
      "text/plain": [
       "3"
      ]
     },
     "execution_count": 33,
     "metadata": {},
     "output_type": "execute_result"
    }
   ],
   "source": [
    "len(m)"
   ]
  },
  {
   "cell_type": "markdown",
   "metadata": {},
   "source": [
    "#### Поменять переменные местами"
   ]
  },
  {
   "cell_type": "code",
   "execution_count": 34,
   "metadata": {},
   "outputs": [
    {
     "name": "stdout",
     "output_type": "stream",
     "text": [
      "a: 100 \n",
      "b: -5\n"
     ]
    }
   ],
   "source": [
    "a = -5\n",
    "b = 100\n",
    "\n",
    "a, b = b, a\n",
    "\n",
    "print('a:', a, '\\nb:', b)"
   ]
  },
  {
   "cell_type": "markdown",
   "metadata": {},
   "source": [
    "### Немного про встроенные функции"
   ]
  },
  {
   "cell_type": "markdown",
   "metadata": {},
   "source": [
    "В Python есть так называем **магические** (или служебные) методы - они начинаются и заканчиваются на двойное нижнее подчёркивание: \\__len\\__, \\__add\\__ ..."
   ]
  },
  {
   "cell_type": "code",
   "execution_count": 35,
   "metadata": {},
   "outputs": [
    {
     "data": {
      "text/plain": [
       "<module 'builtins' (built-in)>"
      ]
     },
     "execution_count": 35,
     "metadata": {},
     "output_type": "execute_result"
    }
   ],
   "source": [
    "__builtin__"
   ]
  },
  {
   "cell_type": "markdown",
   "metadata": {},
   "source": [
    "Также в Python есть **встроенные** функции и методы, которые являются в некотором смысле универсальными.  \n",
    "Функция `dir()` выводит список всех атрибутов (имён - методы, функции, классы..), которые есть у модуля/класса/объекта:"
   ]
  },
  {
   "cell_type": "markdown",
   "metadata": {},
   "source": [
    "Давайте посмотрим на встроенные и служебные имена Python (не все):"
   ]
  },
  {
   "cell_type": "code",
   "execution_count": 36,
   "metadata": {
    "scrolled": true
   },
   "outputs": [
    {
     "data": {
      "text/plain": [
       "['ArithmeticError',\n",
       " 'AssertionError',\n",
       " 'AttributeError',\n",
       " 'BaseException',\n",
       " 'BlockingIOError',\n",
       " 'BrokenPipeError',\n",
       " 'BufferError',\n",
       " 'BytesWarning',\n",
       " 'ChildProcessError',\n",
       " 'ConnectionAbortedError',\n",
       " 'ConnectionError',\n",
       " 'ConnectionRefusedError',\n",
       " 'ConnectionResetError',\n",
       " 'DeprecationWarning',\n",
       " 'EOFError',\n",
       " 'Ellipsis',\n",
       " 'EnvironmentError',\n",
       " 'Exception',\n",
       " 'False',\n",
       " 'FileExistsError',\n",
       " 'FileNotFoundError',\n",
       " 'FloatingPointError',\n",
       " 'FutureWarning',\n",
       " 'GeneratorExit',\n",
       " 'IOError',\n",
       " 'ImportError',\n",
       " 'ImportWarning',\n",
       " 'IndentationError',\n",
       " 'IndexError',\n",
       " 'InterruptedError',\n",
       " 'IsADirectoryError',\n",
       " 'KeyError',\n",
       " 'KeyboardInterrupt',\n",
       " 'LookupError',\n",
       " 'MemoryError',\n",
       " 'NameError',\n",
       " 'None',\n",
       " 'NotADirectoryError',\n",
       " 'NotImplemented',\n",
       " 'NotImplementedError',\n",
       " 'OSError',\n",
       " 'OverflowError',\n",
       " 'PendingDeprecationWarning',\n",
       " 'PermissionError',\n",
       " 'ProcessLookupError',\n",
       " 'RecursionError',\n",
       " 'ReferenceError',\n",
       " 'ResourceWarning',\n",
       " 'RuntimeError',\n",
       " 'RuntimeWarning',\n",
       " 'StopAsyncIteration',\n",
       " 'StopIteration',\n",
       " 'SyntaxError',\n",
       " 'SyntaxWarning',\n",
       " 'SystemError',\n",
       " 'SystemExit',\n",
       " 'TabError',\n",
       " 'TimeoutError',\n",
       " 'True',\n",
       " 'TypeError',\n",
       " 'UnboundLocalError',\n",
       " 'UnicodeDecodeError',\n",
       " 'UnicodeEncodeError',\n",
       " 'UnicodeError',\n",
       " 'UnicodeTranslateError',\n",
       " 'UnicodeWarning',\n",
       " 'UserWarning',\n",
       " 'ValueError',\n",
       " 'Warning',\n",
       " 'ZeroDivisionError',\n",
       " '__IPYTHON__',\n",
       " '__build_class__',\n",
       " '__debug__',\n",
       " '__doc__',\n",
       " '__import__',\n",
       " '__loader__',\n",
       " '__name__',\n",
       " '__package__',\n",
       " '__spec__',\n",
       " 'abs',\n",
       " 'all',\n",
       " 'any',\n",
       " 'ascii',\n",
       " 'bin',\n",
       " 'bool',\n",
       " 'bytearray',\n",
       " 'bytes',\n",
       " 'callable',\n",
       " 'chr',\n",
       " 'classmethod',\n",
       " 'compile',\n",
       " 'complex',\n",
       " 'copyright',\n",
       " 'credits',\n",
       " 'delattr',\n",
       " 'dict',\n",
       " 'dir',\n",
       " 'display',\n",
       " 'divmod',\n",
       " 'enumerate',\n",
       " 'eval',\n",
       " 'exec',\n",
       " 'filter',\n",
       " 'float',\n",
       " 'format',\n",
       " 'frozenset',\n",
       " 'get_ipython',\n",
       " 'getattr',\n",
       " 'globals',\n",
       " 'hasattr',\n",
       " 'hash',\n",
       " 'help',\n",
       " 'hex',\n",
       " 'id',\n",
       " 'input',\n",
       " 'int',\n",
       " 'isinstance',\n",
       " 'issubclass',\n",
       " 'iter',\n",
       " 'len',\n",
       " 'license',\n",
       " 'list',\n",
       " 'locals',\n",
       " 'map',\n",
       " 'max',\n",
       " 'memoryview',\n",
       " 'min',\n",
       " 'next',\n",
       " 'object',\n",
       " 'oct',\n",
       " 'open',\n",
       " 'ord',\n",
       " 'pow',\n",
       " 'print',\n",
       " 'property',\n",
       " 'range',\n",
       " 'repr',\n",
       " 'reversed',\n",
       " 'round',\n",
       " 'set',\n",
       " 'setattr',\n",
       " 'slice',\n",
       " 'sorted',\n",
       " 'staticmethod',\n",
       " 'str',\n",
       " 'sum',\n",
       " 'super',\n",
       " 'tuple',\n",
       " 'type',\n",
       " 'vars',\n",
       " 'zip']"
      ]
     },
     "execution_count": 36,
     "metadata": {},
     "output_type": "execute_result"
    }
   ],
   "source": [
    "dir(__builtin__)"
   ]
  },
  {
   "cell_type": "markdown",
   "metadata": {},
   "source": [
    "---\n",
    "### Задание 1\n",
    "\n",
    "Выведите список атрибутов класса Exception."
   ]
  },
  {
   "cell_type": "code",
   "execution_count": 37,
   "metadata": {},
   "outputs": [
    {
     "data": {
      "text/plain": [
       "['__cause__',\n",
       " '__class__',\n",
       " '__context__',\n",
       " '__delattr__',\n",
       " '__dict__',\n",
       " '__dir__',\n",
       " '__doc__',\n",
       " '__eq__',\n",
       " '__format__',\n",
       " '__ge__',\n",
       " '__getattribute__',\n",
       " '__gt__',\n",
       " '__hash__',\n",
       " '__init__',\n",
       " '__le__',\n",
       " '__lt__',\n",
       " '__ne__',\n",
       " '__new__',\n",
       " '__reduce__',\n",
       " '__reduce_ex__',\n",
       " '__repr__',\n",
       " '__setattr__',\n",
       " '__setstate__',\n",
       " '__sizeof__',\n",
       " '__str__',\n",
       " '__subclasshook__',\n",
       " '__suppress_context__',\n",
       " '__traceback__',\n",
       " 'args',\n",
       " 'with_traceback']"
      ]
     },
     "execution_count": 37,
     "metadata": {},
     "output_type": "execute_result"
    }
   ],
   "source": [
    "# Ваш код здесь\n",
    "dir(Exception)"
   ]
  },
  {
   "cell_type": "markdown",
   "metadata": {},
   "source": [
    "---"
   ]
  },
  {
   "cell_type": "markdown",
   "metadata": {},
   "source": [
    "### Полезно"
   ]
  },
  {
   "cell_type": "markdown",
   "metadata": {},
   "source": [
    "- При вызове метода какого-то класса (или функции какого-то модуля) можно написать его имя и через точку нажать **tab**:  \n",
    "\n",
    "<имя\\_объекта\\_класса(модуля)>**.[tab]**  \n",
    "\n",
    "Тогда всплывёт меню, в котором можно выбрать из всех существующих в этом классе методов (функций модуля)."
   ]
  },
  {
   "cell_type": "code",
   "execution_count": 38,
   "metadata": {},
   "outputs": [
    {
     "ename": "SyntaxError",
     "evalue": "invalid syntax (<ipython-input-38-badf3b9bdb3c>, line 1)",
     "output_type": "error",
     "traceback": [
      "\u001b[0;36m  File \u001b[0;32m\"<ipython-input-38-badf3b9bdb3c>\"\u001b[0;36m, line \u001b[0;32m1\u001b[0m\n\u001b[0;31m    __builtin__.\u001b[0m\n\u001b[0m                ^\u001b[0m\n\u001b[0;31mSyntaxError\u001b[0m\u001b[0;31m:\u001b[0m invalid syntax\n"
     ]
    }
   ],
   "source": [
    "__builtin__."
   ]
  },
  {
   "cell_type": "markdown",
   "metadata": {},
   "source": [
    "- Получение быстрой справки (help()) для любого объекта Python:"
   ]
  },
  {
   "cell_type": "code",
   "execution_count": 39,
   "metadata": {
    "collapsed": true
   },
   "outputs": [],
   "source": [
    "?__builtin__"
   ]
  },
  {
   "cell_type": "markdown",
   "metadata": {},
   "source": [
    "### Структуры данных и встроенные функции"
   ]
  },
  {
   "cell_type": "markdown",
   "metadata": {},
   "source": [
    "### list"
   ]
  },
  {
   "cell_type": "code",
   "execution_count": 40,
   "metadata": {},
   "outputs": [
    {
     "name": "stdout",
     "output_type": "stream",
     "text": [
      "True\n"
     ]
    }
   ],
   "source": [
    "a = list()\n",
    "b = []\n",
    "\n",
    "print(a == b)"
   ]
  },
  {
   "cell_type": "code",
   "execution_count": 41,
   "metadata": {},
   "outputs": [
    {
     "data": {
      "text/plain": [
       "['string', 100, 5.678, None]"
      ]
     },
     "execution_count": 41,
     "metadata": {},
     "output_type": "execute_result"
    }
   ],
   "source": [
    "my_list = ['string', 100, 5.678, None]\n",
    "my_list"
   ]
  },
  {
   "cell_type": "markdown",
   "metadata": {},
   "source": [
    "* `list(range(start, end[, step]))` - получить последовательность (список) целых чисел, начинающуюся со `start`, заканчивающуюся в `end-1` и шагом `step`"
   ]
  },
  {
   "cell_type": "code",
   "execution_count": 42,
   "metadata": {},
   "outputs": [
    {
     "name": "stdout",
     "output_type": "stream",
     "text": [
      "range(1, 10, 2) | <class 'range'>\n"
     ]
    }
   ],
   "source": [
    "array = range(1, 10, 2)\n",
    "print(array, '|', type(array))"
   ]
  },
  {
   "cell_type": "code",
   "execution_count": 43,
   "metadata": {},
   "outputs": [
    {
     "name": "stdout",
     "output_type": "stream",
     "text": [
      "[1, 3, 5, 7, 9] | <class 'list'>\n"
     ]
    }
   ],
   "source": [
    "array = list(array)\n",
    "print(array, '|', type(array))"
   ]
  },
  {
   "cell_type": "code",
   "execution_count": 44,
   "metadata": {},
   "outputs": [
    {
     "data": {
      "text/plain": [
       "3"
      ]
     },
     "execution_count": 44,
     "metadata": {},
     "output_type": "execute_result"
    }
   ],
   "source": [
    "array[1]"
   ]
  },
  {
   "cell_type": "code",
   "execution_count": 45,
   "metadata": {},
   "outputs": [
    {
     "data": {
      "text/plain": [
       "9"
      ]
     },
     "execution_count": 45,
     "metadata": {},
     "output_type": "execute_result"
    }
   ],
   "source": [
    "array[-1]"
   ]
  },
  {
   "cell_type": "code",
   "execution_count": 46,
   "metadata": {},
   "outputs": [
    {
     "name": "stdout",
     "output_type": "stream",
     "text": [
      "0\n",
      "1\n",
      "2\n",
      "3\n",
      "4\n"
     ]
    }
   ],
   "source": [
    "for i in range(5):\n",
    "    print(i)"
   ]
  },
  {
   "cell_type": "markdown",
   "metadata": {},
   "source": [
    "* Перевернуть список:"
   ]
  },
  {
   "cell_type": "code",
   "execution_count": 47,
   "metadata": {},
   "outputs": [
    {
     "data": {
      "text/plain": [
       "[9, 7, 5, 3, 1]"
      ]
     },
     "execution_count": 47,
     "metadata": {},
     "output_type": "execute_result"
    }
   ],
   "source": [
    "array = array[::-1]\n",
    "array"
   ]
  },
  {
   "cell_type": "markdown",
   "metadata": {},
   "source": [
    "* Срезы (`slice`'s) - это объекты языка Python, позволяющие получить какую-то часть итерируемого объекта.  \n",
    "Пример:"
   ]
  },
  {
   "cell_type": "code",
   "execution_count": 48,
   "metadata": {},
   "outputs": [
    {
     "data": {
      "text/plain": [
       "[0, 1, 2, 3, 4, 5, 6, 7, 8, 9]"
      ]
     },
     "execution_count": 48,
     "metadata": {},
     "output_type": "execute_result"
    }
   ],
   "source": [
    "foo = list(range(10))\n",
    "foo"
   ]
  },
  {
   "cell_type": "code",
   "execution_count": 49,
   "metadata": {},
   "outputs": [
    {
     "data": {
      "text/plain": [
       "[0, 1, 2, 3, 4]"
      ]
     },
     "execution_count": 49,
     "metadata": {},
     "output_type": "execute_result"
    }
   ],
   "source": [
    "foo[:5]"
   ]
  },
  {
   "cell_type": "code",
   "execution_count": 50,
   "metadata": {},
   "outputs": [
    {
     "data": {
      "text/plain": [
       "[5, 6, 7, 8, 9]"
      ]
     },
     "execution_count": 50,
     "metadata": {},
     "output_type": "execute_result"
    }
   ],
   "source": [
    "foo[5:]"
   ]
  },
  {
   "cell_type": "code",
   "execution_count": 51,
   "metadata": {},
   "outputs": [
    {
     "data": {
      "text/plain": [
       "[2, 3, 4]"
      ]
     },
     "execution_count": 51,
     "metadata": {},
     "output_type": "execute_result"
    }
   ],
   "source": [
    "foo[2:5]"
   ]
  },
  {
   "cell_type": "code",
   "execution_count": 52,
   "metadata": {},
   "outputs": [
    {
     "name": "stdout",
     "output_type": "stream",
     "text": [
      "slice(2, 5, None) | <class 'slice'>\n"
     ]
    }
   ],
   "source": [
    "slice_2_5 = slice(2, 5)\n",
    "print(slice_2_5, '|', type(slice_2_5))"
   ]
  },
  {
   "cell_type": "code",
   "execution_count": 53,
   "metadata": {},
   "outputs": [
    {
     "data": {
      "text/plain": [
       "[2, 3, 4]"
      ]
     },
     "execution_count": 53,
     "metadata": {},
     "output_type": "execute_result"
    }
   ],
   "source": [
    "foo[slice_2_5]"
   ]
  },
  {
   "cell_type": "markdown",
   "metadata": {},
   "source": [
    "* `S.join(iterable)` - возвращает строку, которая является конкатенацией строк из `iterable`. Разделитель между строками - строка `S`"
   ]
  },
  {
   "cell_type": "code",
   "execution_count": 54,
   "metadata": {
    "collapsed": true
   },
   "outputs": [],
   "source": [
    "str_array = ['a', 'b', 'c', 'd', 'e']"
   ]
  },
  {
   "cell_type": "code",
   "execution_count": 55,
   "metadata": {},
   "outputs": [
    {
     "data": {
      "text/plain": [
       "'a b c d e'"
      ]
     },
     "execution_count": 55,
     "metadata": {},
     "output_type": "execute_result"
    }
   ],
   "source": [
    "' '.join(str_array)"
   ]
  },
  {
   "cell_type": "code",
   "execution_count": 56,
   "metadata": {},
   "outputs": [
    {
     "data": {
      "text/plain": [
       "'a!_and_!b!_and_!c!_and_!d!_and_!e'"
      ]
     },
     "execution_count": 56,
     "metadata": {},
     "output_type": "execute_result"
    }
   ],
   "source": [
    "'!_and_!'.join(str_array)"
   ]
  },
  {
   "cell_type": "markdown",
   "metadata": {},
   "source": [
    "* Списки можно \"склеивать\":"
   ]
  },
  {
   "cell_type": "code",
   "execution_count": 57,
   "metadata": {},
   "outputs": [
    {
     "name": "stdout",
     "output_type": "stream",
     "text": [
      "[1, 2, 3, 4, 5, 6]\n"
     ]
    }
   ],
   "source": [
    "a = [1, 2, 3]\n",
    "b = [4, 5, 6]\n",
    "\n",
    "print(a + b)"
   ]
  },
  {
   "cell_type": "markdown",
   "metadata": {},
   "source": [
    "### Методы класса list"
   ]
  },
  {
   "cell_type": "code",
   "execution_count": 58,
   "metadata": {
    "scrolled": true
   },
   "outputs": [
    {
     "data": {
      "text/plain": [
       "['__add__',\n",
       " '__class__',\n",
       " '__contains__',\n",
       " '__delattr__',\n",
       " '__delitem__',\n",
       " '__dir__',\n",
       " '__doc__',\n",
       " '__eq__',\n",
       " '__format__',\n",
       " '__ge__',\n",
       " '__getattribute__',\n",
       " '__getitem__',\n",
       " '__gt__',\n",
       " '__hash__',\n",
       " '__iadd__',\n",
       " '__imul__',\n",
       " '__init__',\n",
       " '__iter__',\n",
       " '__le__',\n",
       " '__len__',\n",
       " '__lt__',\n",
       " '__mul__',\n",
       " '__ne__',\n",
       " '__new__',\n",
       " '__reduce__',\n",
       " '__reduce_ex__',\n",
       " '__repr__',\n",
       " '__reversed__',\n",
       " '__rmul__',\n",
       " '__setattr__',\n",
       " '__setitem__',\n",
       " '__sizeof__',\n",
       " '__str__',\n",
       " '__subclasshook__',\n",
       " 'append',\n",
       " 'clear',\n",
       " 'copy',\n",
       " 'count',\n",
       " 'extend',\n",
       " 'index',\n",
       " 'insert',\n",
       " 'pop',\n",
       " 'remove',\n",
       " 'reverse',\n",
       " 'sort']"
      ]
     },
     "execution_count": 58,
     "metadata": {},
     "output_type": "execute_result"
    }
   ],
   "source": [
    "dir(list)"
   ]
  },
  {
   "cell_type": "markdown",
   "metadata": {},
   "source": [
    "* `L.append(element)` - добавляет элемент `element` в список `L`"
   ]
  },
  {
   "cell_type": "code",
   "execution_count": 59,
   "metadata": {},
   "outputs": [
    {
     "data": {
      "text/plain": [
       "[4, 5, 1, 3, 2, 'BANG!']"
      ]
     },
     "execution_count": 59,
     "metadata": {},
     "output_type": "execute_result"
    }
   ],
   "source": [
    "l = [4, 5, 1, 3, 2]\n",
    "\n",
    "l.append('BANG!')\n",
    "l"
   ]
  },
  {
   "cell_type": "markdown",
   "metadata": {},
   "source": [
    "* `sorted(iterable, key)` - возвращает объект, являющийся отсортированной в соответствии с компаратором (по ключу) `key` версией объекта `iterable`. **НЕ изменяет начальный объект!**"
   ]
  },
  {
   "cell_type": "code",
   "execution_count": 60,
   "metadata": {},
   "outputs": [
    {
     "ename": "TypeError",
     "evalue": "unorderable types: str() < int()",
     "output_type": "error",
     "traceback": [
      "\u001b[0;31m---------------------------------------------------------------------------\u001b[0m",
      "\u001b[0;31mTypeError\u001b[0m                                 Traceback (most recent call last)",
      "\u001b[0;32m<ipython-input-60-072559ee4998>\u001b[0m in \u001b[0;36m<module>\u001b[0;34m()\u001b[0m\n\u001b[0;32m----> 1\u001b[0;31m \u001b[0mprint\u001b[0m\u001b[0;34m(\u001b[0m\u001b[0msorted\u001b[0m\u001b[0;34m(\u001b[0m\u001b[0ml\u001b[0m\u001b[0;34m)\u001b[0m\u001b[0;34m,\u001b[0m \u001b[0;34m'|'\u001b[0m\u001b[0;34m,\u001b[0m \u001b[0ml\u001b[0m\u001b[0;34m)\u001b[0m\u001b[0;34m\u001b[0m\u001b[0m\n\u001b[0m",
      "\u001b[0;31mTypeError\u001b[0m: unorderable types: str() < int()"
     ]
    }
   ],
   "source": [
    "print(sorted(l), '|', l)"
   ]
  },
  {
   "cell_type": "code",
   "execution_count": 61,
   "metadata": {},
   "outputs": [
    {
     "data": {
      "text/plain": [
       "'BANG!'"
      ]
     },
     "execution_count": 61,
     "metadata": {},
     "output_type": "execute_result"
    }
   ],
   "source": [
    "l.pop()"
   ]
  },
  {
   "cell_type": "code",
   "execution_count": 62,
   "metadata": {},
   "outputs": [
    {
     "name": "stdout",
     "output_type": "stream",
     "text": [
      "[1, 2, 3, 4, 5] | [4, 5, 1, 3, 2]\n"
     ]
    }
   ],
   "source": [
    "print(sorted(l), '|', l)"
   ]
  },
  {
   "cell_type": "code",
   "execution_count": 63,
   "metadata": {
    "collapsed": true
   },
   "outputs": [],
   "source": [
    "def cmp(string):\n",
    "    return len(string)"
   ]
  },
  {
   "cell_type": "code",
   "execution_count": 64,
   "metadata": {},
   "outputs": [
    {
     "data": {
      "text/plain": [
       "['Оля', 'Соня', 'Френк', 'Василий', 'Александр', 'Анастасия']"
      ]
     },
     "execution_count": 64,
     "metadata": {},
     "output_type": "execute_result"
    }
   ],
   "source": [
    "names = ['Александр', 'Василий', 'Анастасия', 'Соня', 'Френк', 'Оля']\n",
    "sorted(names, key=cmp)"
   ]
  },
  {
   "cell_type": "code",
   "execution_count": 65,
   "metadata": {},
   "outputs": [
    {
     "data": {
      "text/plain": [
       "['Оля', 'Соня', 'Френк', 'Василий', 'Александр', 'Анастасия']"
      ]
     },
     "execution_count": 65,
     "metadata": {},
     "output_type": "execute_result"
    }
   ],
   "source": [
    "names = ['Александр', 'Василий', 'Анастасия', 'Соня', 'Френк', 'Оля']\n",
    "sorted(names, key=lambda x: len(x))"
   ]
  },
  {
   "cell_type": "code",
   "execution_count": 66,
   "metadata": {},
   "outputs": [
    {
     "data": {
      "text/plain": [
       "['Александр', 'Василий', 'Анастасия', 'Соня', 'Френк', 'Оля']"
      ]
     },
     "execution_count": 66,
     "metadata": {},
     "output_type": "execute_result"
    }
   ],
   "source": [
    "names"
   ]
  },
  {
   "cell_type": "markdown",
   "metadata": {},
   "source": [
    "* `L.sort(key)` - сортирует лист L в соответствии с компаратором (по ключу) key. **Изменяет начальный объект!**"
   ]
  },
  {
   "cell_type": "code",
   "execution_count": 67,
   "metadata": {},
   "outputs": [
    {
     "ename": "TypeError",
     "evalue": "unorderable types: str() < int()",
     "output_type": "error",
     "traceback": [
      "\u001b[0;31m---------------------------------------------------------------------------\u001b[0m",
      "\u001b[0;31mTypeError\u001b[0m                                 Traceback (most recent call last)",
      "\u001b[0;32m<ipython-input-67-4e5ed5e6c4e6>\u001b[0m in \u001b[0;36m<module>\u001b[0;34m()\u001b[0m\n\u001b[1;32m      4\u001b[0m \u001b[0ml\u001b[0m\u001b[0;34m\u001b[0m\u001b[0m\n\u001b[1;32m      5\u001b[0m \u001b[0;34m\u001b[0m\u001b[0m\n\u001b[0;32m----> 6\u001b[0;31m \u001b[0ml\u001b[0m\u001b[0;34m.\u001b[0m\u001b[0msort\u001b[0m\u001b[0;34m(\u001b[0m\u001b[0;34m)\u001b[0m\u001b[0;34m\u001b[0m\u001b[0m\n\u001b[0m",
      "\u001b[0;31mTypeError\u001b[0m: unorderable types: str() < int()"
     ]
    }
   ],
   "source": [
    "l = [1, 2, 3, 4, 5]\n",
    "\n",
    "l.append('BANG!')\n",
    "l\n",
    "\n",
    "l.sort()"
   ]
  },
  {
   "cell_type": "code",
   "execution_count": 68,
   "metadata": {},
   "outputs": [
    {
     "data": {
      "text/plain": [
       "'BANG!'"
      ]
     },
     "execution_count": 68,
     "metadata": {},
     "output_type": "execute_result"
    }
   ],
   "source": [
    "l.pop()"
   ]
  },
  {
   "cell_type": "code",
   "execution_count": 69,
   "metadata": {},
   "outputs": [
    {
     "data": {
      "text/plain": [
       "[1, 2, 3, 4, 5]"
      ]
     },
     "execution_count": 69,
     "metadata": {},
     "output_type": "execute_result"
    }
   ],
   "source": [
    "l"
   ]
  },
  {
   "cell_type": "code",
   "execution_count": 70,
   "metadata": {},
   "outputs": [
    {
     "data": {
      "text/plain": [
       "[5, 4, 3, 2, 1]"
      ]
     },
     "execution_count": 70,
     "metadata": {},
     "output_type": "execute_result"
    }
   ],
   "source": [
    "l.sort(reverse=True)\n",
    "l"
   ]
  },
  {
   "cell_type": "markdown",
   "metadata": {},
   "source": [
    "* `L.count(element)` - возвращает количество вхождений элемента `element` в список `L`"
   ]
  },
  {
   "cell_type": "code",
   "execution_count": 71,
   "metadata": {},
   "outputs": [
    {
     "data": {
      "text/plain": [
       "1"
      ]
     },
     "execution_count": 71,
     "metadata": {},
     "output_type": "execute_result"
    }
   ],
   "source": [
    "l.count(1)"
   ]
  },
  {
   "cell_type": "code",
   "execution_count": 72,
   "metadata": {},
   "outputs": [
    {
     "data": {
      "text/plain": [
       "0"
      ]
     },
     "execution_count": 72,
     "metadata": {},
     "output_type": "execute_result"
    }
   ],
   "source": [
    "l.count('padabum')"
   ]
  },
  {
   "cell_type": "code",
   "execution_count": 73,
   "metadata": {},
   "outputs": [
    {
     "data": {
      "text/plain": [
       "5"
      ]
     },
     "execution_count": 73,
     "metadata": {},
     "output_type": "execute_result"
    }
   ],
   "source": [
    "len(l)"
   ]
  },
  {
   "cell_type": "markdown",
   "metadata": {},
   "source": [
    "`L.index(element)` - возвращает индекс элемента `element` в списке `L`, если он там присутствует, `None` иначе"
   ]
  },
  {
   "cell_type": "code",
   "execution_count": 74,
   "metadata": {},
   "outputs": [
    {
     "data": {
      "text/plain": [
       "2"
      ]
     },
     "execution_count": 74,
     "metadata": {},
     "output_type": "execute_result"
    }
   ],
   "source": [
    "l.index(3)"
   ]
  },
  {
   "cell_type": "markdown",
   "metadata": {},
   "source": [
    "---"
   ]
  },
  {
   "cell_type": "markdown",
   "metadata": {},
   "source": [
    "### Задание 2\n"
   ]
  },
  {
   "cell_type": "markdown",
   "metadata": {},
   "source": [
    "1. Создайте два списка одинаковых размеров из одинаковых элементов:  \n",
    "`items = [какие-то элементы]`  \n",
    "`shuffled_items = [эти же элементы, но расставленные в другом порядке]`  \n",
    "\n",
    "2. Отсортируйте список `items` в соответствие с ключом так, чтобы получился список `shuffled_items`"
   ]
  },
  {
   "cell_type": "code",
   "execution_count": 75,
   "metadata": {},
   "outputs": [
    {
     "data": {
      "text/plain": [
       "[6, 1, 49, 15, 3, 2]"
      ]
     },
     "execution_count": 75,
     "metadata": {},
     "output_type": "execute_result"
    }
   ],
   "source": [
    "# Ваш код здесь\n",
    "items = [3, 2, 15, 6, 1, 49]\n",
    "shuffled_items = [6, 1, 49, 15, 3, 2]\n",
    "list(sorted(items, key=lambda i: shuffled_items.index(i)))"
   ]
  },
  {
   "cell_type": "markdown",
   "metadata": {},
   "source": [
    "---"
   ]
  },
  {
   "cell_type": "markdown",
   "metadata": {},
   "source": [
    "### Циклы - for и while"
   ]
  },
  {
   "cell_type": "code",
   "execution_count": 76,
   "metadata": {},
   "outputs": [
    {
     "name": "stdout",
     "output_type": "stream",
     "text": [
      "decision tree\n",
      "linear model\n",
      "svm\n",
      "ensemble\n"
     ]
    }
   ],
   "source": [
    "models = ['decision tree', 'linear model', 'svm', 'ensemble']\n",
    "\n",
    "for model in models:\n",
    "    print(model)"
   ]
  },
  {
   "cell_type": "code",
   "execution_count": 77,
   "metadata": {},
   "outputs": [
    {
     "name": "stdout",
     "output_type": "stream",
     "text": [
      "90\n",
      "80\n",
      "70\n",
      "60\n",
      "50\n"
     ]
    }
   ],
   "source": [
    "x = 100\n",
    "\n",
    "while x > 50:\n",
    "    x -= 10\n",
    "    print(x)"
   ]
  },
  {
   "cell_type": "markdown",
   "metadata": {},
   "source": [
    "### enumerate, zip"
   ]
  },
  {
   "cell_type": "code",
   "execution_count": 78,
   "metadata": {},
   "outputs": [
    {
     "data": {
      "text/plain": [
       "<zip at 0x7f97185c4b48>"
      ]
     },
     "execution_count": 78,
     "metadata": {},
     "output_type": "execute_result"
    }
   ],
   "source": [
    "first = 'a b c d e f g'.split(' ')\n",
    "second = '1 2 3 4 5 6 7'.split(' ')\n",
    "\n",
    "zip(first, second)"
   ]
  },
  {
   "cell_type": "code",
   "execution_count": 79,
   "metadata": {},
   "outputs": [
    {
     "data": {
      "text/plain": [
       "[('a', '1'),\n",
       " ('b', '2'),\n",
       " ('c', '3'),\n",
       " ('d', '4'),\n",
       " ('e', '5'),\n",
       " ('f', '6'),\n",
       " ('g', '7')]"
      ]
     },
     "execution_count": 79,
     "metadata": {},
     "output_type": "execute_result"
    }
   ],
   "source": [
    "list(zip(first, second))"
   ]
  },
  {
   "cell_type": "code",
   "execution_count": 80,
   "metadata": {},
   "outputs": [
    {
     "name": "stdout",
     "output_type": "stream",
     "text": [
      "0 ArithmeticError\n",
      "5 BrokenPipeError\n",
      "10 ConnectionError\n",
      "15 Ellipsis\n",
      "20 FileNotFoundError\n",
      "25 ImportError\n",
      "30 IsADirectoryError\n",
      "35 NameError\n",
      "40 OSError\n",
      "45 RecursionError\n",
      "50 StopAsyncIteration\n",
      "55 SystemExit\n",
      "60 UnboundLocalError\n",
      "65 UnicodeWarning\n",
      "70 __IPYTHON__\n",
      "75 __loader__\n",
      "80 all\n",
      "85 bytearray\n",
      "90 compile\n",
      "95 dict\n",
      "100 eval\n",
      "105 frozenset\n",
      "110 hash\n",
      "115 int\n",
      "120 license\n",
      "125 memoryview\n",
      "130 open\n",
      "135 range\n",
      "140 setattr\n",
      "145 sum\n",
      "150 zip\n"
     ]
    }
   ],
   "source": [
    "methods = dir(__builtin__)\n",
    "\n",
    "for num, method in enumerate(methods):\n",
    "    if num % 5 == 0:\n",
    "        print(num, method)"
   ]
  },
  {
   "cell_type": "code",
   "execution_count": 81,
   "metadata": {},
   "outputs": [
    {
     "data": {
      "text/plain": [
       "[(0, 'a'), (1, 'b'), (2, 'c'), (3, 'd'), (4, 'e'), (5, 'f'), (6, 'g')]"
      ]
     },
     "execution_count": 81,
     "metadata": {},
     "output_type": "execute_result"
    }
   ],
   "source": [
    "enum = enumerate(first)\n",
    "list(enum)"
   ]
  },
  {
   "cell_type": "code",
   "execution_count": 82,
   "metadata": {},
   "outputs": [
    {
     "name": "stdout",
     "output_type": "stream",
     "text": [
      "True\n"
     ]
    }
   ],
   "source": [
    "enum = enumerate(first)\n",
    "zip_style = zip(range(0, len(first)), first)\n",
    "\n",
    "print(list(enum) == list(zip_style))"
   ]
  },
  {
   "cell_type": "markdown",
   "metadata": {},
   "source": [
    "---\n",
    "\n",
    "### Задание 3\n",
    "\n",
    "1. Создайте список `a`, состоящий из каких-то элементов.\n",
    "2. Создайте список `b` такого же размера, как `a`, состоящий из каких-то элементов.\n",
    "3. Выведите нумерованный список пар из элементов списков `a` и `b`."
   ]
  },
  {
   "cell_type": "code",
   "execution_count": 83,
   "metadata": {},
   "outputs": [
    {
     "name": "stdout",
     "output_type": "stream",
     "text": [
      "[3, 12, 42, 'we', 'are', 'knights', 'who say', 'ni!'] [0, 2, 4, 6, 8, 10, 1, 3]\n",
      "[(0, (3, 0)), (1, (12, 2)), (2, (42, 4)), (3, ('we', 6)), (4, ('are', 8)), (5, ('knights', 10)), (6, ('who say', 1)), (7, ('ni!', 3))]\n"
     ]
    }
   ],
   "source": [
    "# Ваш код здесь\n",
    "a = [3, 12, 42, \"we\", \"are\", \"knights\", \"who say\", \"ni!\"]\n",
    "b = [hash(i) * 13 % 11 for i in range(len(a))]\n",
    "print(a, b)\n",
    "numerated = list(enumerate(zip(a, b)))\n",
    "print(numerated)"
   ]
  },
  {
   "cell_type": "markdown",
   "metadata": {},
   "source": [
    "---"
   ]
  },
  {
   "cell_type": "markdown",
   "metadata": {},
   "source": [
    "### list comprehensions"
   ]
  },
  {
   "cell_type": "code",
   "execution_count": 84,
   "metadata": {},
   "outputs": [
    {
     "data": {
      "text/plain": [
       "[1, 2, 3, 4, 5]"
      ]
     },
     "execution_count": 84,
     "metadata": {},
     "output_type": "execute_result"
    }
   ],
   "source": [
    "a = [x for x in range(1, 6)]\n",
    "a"
   ]
  },
  {
   "cell_type": "code",
   "execution_count": 85,
   "metadata": {
    "collapsed": true
   },
   "outputs": [],
   "source": [
    "def f(x):\n",
    "    return x ** 2"
   ]
  },
  {
   "cell_type": "code",
   "execution_count": 86,
   "metadata": {
    "scrolled": true
   },
   "outputs": [
    {
     "name": "stdout",
     "output_type": "stream",
     "text": [
      "[1, 4, 9, 16, 25, 36, 49, 64, 81] == [1, 4, 9, 16, 25, 36, 49, 64, 81]\n"
     ]
    }
   ],
   "source": [
    "b = [f(x) for x in range(1, 10)]\n",
    "c = [x ** 2 for x in range(1, 10)]\n",
    "print(b, '==', c)"
   ]
  },
  {
   "cell_type": "code",
   "execution_count": 87,
   "metadata": {},
   "outputs": [
    {
     "data": {
      "text/plain": [
       "['a', '*', '*', '*', 'e']"
      ]
     },
     "execution_count": 87,
     "metadata": {},
     "output_type": "execute_result"
    }
   ],
   "source": [
    "[x if x in 'aeiou' else '*' for x in 'apple']"
   ]
  },
  {
   "cell_type": "code",
   "execution_count": 88,
   "metadata": {},
   "outputs": [
    {
     "data": {
      "text/plain": [
       "['0', '1', '1', '2', '2', '3']"
      ]
     },
     "execution_count": 88,
     "metadata": {},
     "output_type": "execute_result"
    }
   ],
   "source": [
    "def foo(i):\n",
    "    return i, i + 1\n",
    "\n",
    "l = []\n",
    "for i in range(3):\n",
    "    for x in foo(i):\n",
    "        l.append(str(x))\n",
    "        \n",
    "l"
   ]
  },
  {
   "cell_type": "code",
   "execution_count": 89,
   "metadata": {},
   "outputs": [
    {
     "data": {
      "text/plain": [
       "['0', '1', '1', '2', '2', '3']"
      ]
     },
     "execution_count": 89,
     "metadata": {},
     "output_type": "execute_result"
    }
   ],
   "source": [
    "l = [str(x) for i in range(3) for x in foo(i)]\n",
    "l"
   ]
  },
  {
   "cell_type": "markdown",
   "metadata": {},
   "source": [
    "---"
   ]
  },
  {
   "cell_type": "markdown",
   "metadata": {},
   "source": [
    "### Задание 4"
   ]
  },
  {
   "cell_type": "markdown",
   "metadata": {},
   "source": [
    "*Выведите* список из 100 чисел *через запятую*. **Циклами пользоваться нельзя.**"
   ]
  },
  {
   "cell_type": "code",
   "execution_count": 90,
   "metadata": {},
   "outputs": [
    {
     "name": "stdout",
     "output_type": "stream",
     "text": [
      "0, 1, 2, 3, 4, 5, 6, 7, 8, 9, 10, 11, 12, 13, 14, 15, 16, 17, 18, 19, 20, 21, 22, 23, 24, 25, 26, 27, 28, 29, 30, 31, 32, 33, 34, 35, 36, 37, 38, 39, 40, 41, 42, 43, 44, 45, 46, 47, 48, 49, 50, 51, 52, 53, 54, 55, 56, 57, 58, 59, 60, 61, 62, 63, 64, 65, 66, 67, 68, 69, 70, 71, 72, 73, 74, 75, 76, 77, 78, 79, 80, 81, 82, 83, 84, 85, 86, 87, 88, 89, 90, 91, 92, 93, 94, 95, 96, 97, 98, 99\n"
     ]
    }
   ],
   "source": [
    "# Ваш код здесь\n",
    "print(\", \".join(map(str, range(100))))"
   ]
  },
  {
   "cell_type": "markdown",
   "metadata": {},
   "source": [
    "---"
   ]
  },
  {
   "cell_type": "markdown",
   "metadata": {},
   "source": [
    "### functions, lambdas"
   ]
  },
  {
   "cell_type": "markdown",
   "metadata": {},
   "source": [
    "<img align=center src=\"http://stopnonsense.com/wp-content/uploads/Running-is-running.jpg\" style=\"height:300px;\"/>"
   ]
  },
  {
   "cell_type": "code",
   "execution_count": 91,
   "metadata": {
    "collapsed": true
   },
   "outputs": [],
   "source": [
    "def make_coffee(size, sugar_dose=3, **kwargs):\n",
    "    if sugar_dose > 5:\n",
    "        return 'Too much sugar! Be careful! :('\n",
    "    else:\n",
    "        return 'Done: cup of {0} ml size; amount of sugar = {1}'.format(size, sugar_dose)"
   ]
  },
  {
   "cell_type": "code",
   "execution_count": 92,
   "metadata": {},
   "outputs": [
    {
     "data": {
      "text/plain": [
       "'Done: cup of 100 ml size; amount of sugar = 3'"
      ]
     },
     "execution_count": 92,
     "metadata": {},
     "output_type": "execute_result"
    }
   ],
   "source": [
    "make_coffee(100)"
   ]
  },
  {
   "cell_type": "code",
   "execution_count": 93,
   "metadata": {},
   "outputs": [
    {
     "data": {
      "text/plain": [
       "'Done: cup of 200 ml size; amount of sugar = 1'"
      ]
     },
     "execution_count": 93,
     "metadata": {},
     "output_type": "execute_result"
    }
   ],
   "source": [
    "make_coffee(200, 1)"
   ]
  },
  {
   "cell_type": "code",
   "execution_count": 94,
   "metadata": {},
   "outputs": [
    {
     "data": {
      "text/plain": [
       "'Too much sugar! Be careful! :('"
      ]
     },
     "execution_count": 94,
     "metadata": {},
     "output_type": "execute_result"
    }
   ],
   "source": [
    "make_coffee(100, 6)"
   ]
  },
  {
   "cell_type": "code",
   "execution_count": 95,
   "metadata": {},
   "outputs": [
    {
     "data": {
      "text/plain": [
       "'Done: cup of 120 ml size; amount of sugar = 5'"
      ]
     },
     "execution_count": 95,
     "metadata": {},
     "output_type": "execute_result"
    }
   ],
   "source": [
    "make_coffee(120, 5, name='Ilya', gender='male')  # kwargs"
   ]
  },
  {
   "cell_type": "code",
   "execution_count": 96,
   "metadata": {},
   "outputs": [
    {
     "name": "stdout",
     "output_type": "stream",
     "text": [
      "-5\n"
     ]
    }
   ],
   "source": [
    "negation = lambda x: -x\n",
    "a = 5\n",
    "print(negation(a))"
   ]
  },
  {
   "cell_type": "markdown",
   "metadata": {},
   "source": [
    "### map, reduce, filter"
   ]
  },
  {
   "cell_type": "markdown",
   "metadata": {},
   "source": [
    "* `map(func, iterables)` - выполняет преобразование func над элементами iterables и возвращает **новый** `iterable`:"
   ]
  },
  {
   "cell_type": "code",
   "execution_count": 97,
   "metadata": {
    "collapsed": true
   },
   "outputs": [],
   "source": [
    "words = dir(list)"
   ]
  },
  {
   "cell_type": "code",
   "execution_count": 98,
   "metadata": {
    "scrolled": true
   },
   "outputs": [
    {
     "name": "stdout",
     "output_type": "stream",
     "text": [
      "[7, 9, 12, 11, 11, 7, 7, 6, 10, 6, 16, 11, 6, 8, 8, 8, 8, 8, 6, 7, 6, 7, 6, 7, 10, 13, 8, 12, 8, 11, 11, 10, 7, 16, 6, 5, 4, 5, 6, 5, 6, 3, 6, 7, 4]\n",
      "\n",
      "['__add__', '__class__', '__contains__', '__delattr__', '__delitem__', '__dir__', '__doc__', '__eq__', '__format__', '__ge__', '__getattribute__', '__getitem__', '__gt__', '__hash__', '__iadd__', '__imul__', '__init__', '__iter__', '__le__', '__len__', '__lt__', '__mul__', '__ne__', '__new__', '__reduce__', '__reduce_ex__', '__repr__', '__reversed__', '__rmul__', '__setattr__', '__setitem__', '__sizeof__', '__str__', '__subclasshook__', 'append', 'clear', 'copy', 'count', 'extend', 'index', 'insert', 'pop', 'remove', 'reverse', 'sort']\n"
     ]
    }
   ],
   "source": [
    "letter_counts = list(map(lambda x: len(x), words))\n",
    "\n",
    "print(letter_counts)\n",
    "print()\n",
    "print(words)"
   ]
  },
  {
   "cell_type": "code",
   "execution_count": 99,
   "metadata": {},
   "outputs": [
    {
     "name": "stdout",
     "output_type": "stream",
     "text": [
      "[113, 116, 119]\n"
     ]
    }
   ],
   "source": [
    "l1 = [1,2,3,4]\n",
    "l2 = [11, 12, 13, 14, 15]\n",
    "l3 = [101, 102, 103]\n",
    "\n",
    "triple_sum = list(map(lambda x, y, z: x + y + z, l1, l2, l3))\n",
    "print(triple_sum)"
   ]
  },
  {
   "cell_type": "markdown",
   "metadata": {},
   "source": [
    "* `reduce(func, iterables)` - производит вычисление с элементами последовательности, результатом которого является **одно значение**:"
   ]
  },
  {
   "cell_type": "code",
   "execution_count": 100,
   "metadata": {
    "collapsed": true
   },
   "outputs": [],
   "source": [
    "from functools import reduce"
   ]
  },
  {
   "cell_type": "code",
   "execution_count": 101,
   "metadata": {},
   "outputs": [
    {
     "name": "stdout",
     "output_type": "stream",
     "text": [
      "361\n"
     ]
    }
   ],
   "source": [
    "sum_of_counts = reduce(lambda x, y: x + y, letter_counts)\n",
    "print(sum_of_counts)"
   ]
  },
  {
   "cell_type": "markdown",
   "metadata": {},
   "source": [
    "* `filter(predicate, iterable)` - оставляет только те элементы, для которых **верен** предикат (функция, возвращающая bool):"
   ]
  },
  {
   "cell_type": "code",
   "execution_count": 102,
   "metadata": {},
   "outputs": [
    {
     "name": "stdout",
     "output_type": "stream",
     "text": [
      "['мак', 'мак', 'мак', 'мак', 'мак']\n"
     ]
    }
   ],
   "source": [
    "mixed = ['мак', 'просо', 'мак', 'мак', 'просо', 'мак', 'просо', 'просо', 'просо', 'мак']\n",
    "only_mac = list(filter(lambda x: x == 'мак', mixed))\n",
    "print(only_mac)"
   ]
  },
  {
   "cell_type": "markdown",
   "metadata": {},
   "source": [
    "---"
   ]
  },
  {
   "cell_type": "markdown",
   "metadata": {},
   "source": [
    "### Задание 5\n",
    "\n",
    "1. Дан массив строк: `['agfkd.,f', 'Qksdf;sb&..', 'asdoo*', 'bgf...d', 're54()kj[]].'] `\n",
    "2. Создайте список, состоящий из количества точек в каждой строке. Выведите его\n",
    "3. Создайте новый список, в котором будут только строки, в которых более 2-х точек. Выведите его  \n",
    "\n",
    "Циклами пользоваться нельзя."
   ]
  },
  {
   "cell_type": "code",
   "execution_count": 103,
   "metadata": {},
   "outputs": [
    {
     "name": "stdout",
     "output_type": "stream",
     "text": [
      "[1, 2, 0, 3, 1]\n",
      "[3]\n"
     ]
    }
   ],
   "source": [
    "lst = ['agfkd.,f', 'Qksdf;sb&..', 'asdoo*', 'bgf...d', 're54()kj[]].']\n",
    "dots = list(map(lambda x: x.count(\".\"), lst))\n",
    "print(dots)\n",
    "new_list = list(filter(lambda i: i > 2, dots))\n",
    "print(new_list)"
   ]
  },
  {
   "cell_type": "markdown",
   "metadata": {},
   "source": [
    "---"
   ]
  },
  {
   "cell_type": "markdown",
   "metadata": {},
   "source": [
    "### set"
   ]
  },
  {
   "cell_type": "code",
   "execution_count": 104,
   "metadata": {},
   "outputs": [
    {
     "data": {
      "text/plain": [
       "set()"
      ]
     },
     "execution_count": 104,
     "metadata": {},
     "output_type": "execute_result"
    }
   ],
   "source": [
    "s = set()\n",
    "s"
   ]
  },
  {
   "cell_type": "code",
   "execution_count": 105,
   "metadata": {},
   "outputs": [
    {
     "data": {
      "text/plain": [
       "['__and__',\n",
       " '__class__',\n",
       " '__contains__',\n",
       " '__delattr__',\n",
       " '__dir__',\n",
       " '__doc__',\n",
       " '__eq__',\n",
       " '__format__',\n",
       " '__ge__',\n",
       " '__getattribute__',\n",
       " '__gt__',\n",
       " '__hash__',\n",
       " '__iand__',\n",
       " '__init__',\n",
       " '__ior__',\n",
       " '__isub__',\n",
       " '__iter__',\n",
       " '__ixor__',\n",
       " '__le__',\n",
       " '__len__',\n",
       " '__lt__',\n",
       " '__ne__',\n",
       " '__new__',\n",
       " '__or__',\n",
       " '__rand__',\n",
       " '__reduce__',\n",
       " '__reduce_ex__',\n",
       " '__repr__',\n",
       " '__ror__',\n",
       " '__rsub__',\n",
       " '__rxor__',\n",
       " '__setattr__',\n",
       " '__sizeof__',\n",
       " '__str__',\n",
       " '__sub__',\n",
       " '__subclasshook__',\n",
       " '__xor__',\n",
       " 'add',\n",
       " 'clear',\n",
       " 'copy',\n",
       " 'difference',\n",
       " 'difference_update',\n",
       " 'discard',\n",
       " 'intersection',\n",
       " 'intersection_update',\n",
       " 'isdisjoint',\n",
       " 'issubset',\n",
       " 'issuperset',\n",
       " 'pop',\n",
       " 'remove',\n",
       " 'symmetric_difference',\n",
       " 'symmetric_difference_update',\n",
       " 'union',\n",
       " 'update']"
      ]
     },
     "execution_count": 105,
     "metadata": {},
     "output_type": "execute_result"
    }
   ],
   "source": [
    "dir(s)"
   ]
  },
  {
   "cell_type": "code",
   "execution_count": 106,
   "metadata": {},
   "outputs": [
    {
     "name": "stdout",
     "output_type": "stream",
     "text": [
      "{'a', 1, None, 'bullet'}\n"
     ]
    }
   ],
   "source": [
    "s.add(1)\n",
    "s.add('a')\n",
    "s.add(None)\n",
    "s.add('bullet')\n",
    "print(s)"
   ]
  },
  {
   "cell_type": "code",
   "execution_count": 107,
   "metadata": {
    "collapsed": true
   },
   "outputs": [],
   "source": [
    "s1 = set(range(0, 10))\n",
    "s2 = set(range(5, 15))"
   ]
  },
  {
   "cell_type": "code",
   "execution_count": 108,
   "metadata": {},
   "outputs": [
    {
     "name": "stdout",
     "output_type": "stream",
     "text": [
      "{0, 1, 2, 3, 4}\n",
      "\n",
      "{10, 11, 12, 13, 14}\n"
     ]
    }
   ],
   "source": [
    "print(s1.difference(s2))\n",
    "print()\n",
    "print(s2.difference(s1))"
   ]
  },
  {
   "cell_type": "code",
   "execution_count": 109,
   "metadata": {},
   "outputs": [
    {
     "data": {
      "text/plain": [
       "{5, 6, 7, 8, 9}"
      ]
     },
     "execution_count": 109,
     "metadata": {},
     "output_type": "execute_result"
    }
   ],
   "source": [
    "s1.intersection(s2)"
   ]
  },
  {
   "cell_type": "code",
   "execution_count": 110,
   "metadata": {},
   "outputs": [
    {
     "data": {
      "text/plain": [
       "{0, 1, 2, 3, 4, 5, 6, 7, 8, 9, 10, 11, 12, 13, 14}"
      ]
     },
     "execution_count": 110,
     "metadata": {},
     "output_type": "execute_result"
    }
   ],
   "source": [
    "s1.union(s2)"
   ]
  },
  {
   "cell_type": "code",
   "execution_count": 111,
   "metadata": {},
   "outputs": [
    {
     "name": "stdout",
     "output_type": "stream",
     "text": [
      "s1:  {0, 1, 2, 3, 4, 5, 6, 7, 8, 9} \n",
      "s2:  {5, 6, 7, 8, 9, 10, 11, 12, 13, 14}\n"
     ]
    }
   ],
   "source": [
    "print('s1: ', s1, '\\ns2: ', s2)"
   ]
  },
  {
   "cell_type": "markdown",
   "metadata": {},
   "source": [
    "### dict"
   ]
  },
  {
   "cell_type": "code",
   "execution_count": 112,
   "metadata": {},
   "outputs": [
    {
     "name": "stdout",
     "output_type": "stream",
     "text": [
      "True | <class 'dict'>\n"
     ]
    }
   ],
   "source": [
    "d = {}\n",
    "dd = dict()\n",
    "\n",
    "print(d == dd, '|', type(d))"
   ]
  },
  {
   "cell_type": "code",
   "execution_count": 113,
   "metadata": {},
   "outputs": [
    {
     "data": {
      "text/plain": [
       "['__class__',\n",
       " '__contains__',\n",
       " '__delattr__',\n",
       " '__delitem__',\n",
       " '__dir__',\n",
       " '__doc__',\n",
       " '__eq__',\n",
       " '__format__',\n",
       " '__ge__',\n",
       " '__getattribute__',\n",
       " '__getitem__',\n",
       " '__gt__',\n",
       " '__hash__',\n",
       " '__init__',\n",
       " '__iter__',\n",
       " '__le__',\n",
       " '__len__',\n",
       " '__lt__',\n",
       " '__ne__',\n",
       " '__new__',\n",
       " '__reduce__',\n",
       " '__reduce_ex__',\n",
       " '__repr__',\n",
       " '__setattr__',\n",
       " '__setitem__',\n",
       " '__sizeof__',\n",
       " '__str__',\n",
       " '__subclasshook__',\n",
       " 'clear',\n",
       " 'copy',\n",
       " 'fromkeys',\n",
       " 'get',\n",
       " 'items',\n",
       " 'keys',\n",
       " 'pop',\n",
       " 'popitem',\n",
       " 'setdefault',\n",
       " 'update',\n",
       " 'values']"
      ]
     },
     "execution_count": 113,
     "metadata": {},
     "output_type": "execute_result"
    }
   ],
   "source": [
    "dir(dict)"
   ]
  },
  {
   "cell_type": "code",
   "execution_count": 114,
   "metadata": {},
   "outputs": [
    {
     "data": {
      "text/plain": [
       "{'a': 100}"
      ]
     },
     "execution_count": 114,
     "metadata": {},
     "output_type": "execute_result"
    }
   ],
   "source": [
    "d['a'] = 100\n",
    "d"
   ]
  },
  {
   "cell_type": "code",
   "execution_count": 115,
   "metadata": {},
   "outputs": [
    {
     "data": {
      "text/plain": [
       "{'long': 'dictionary', 'short': 'dict'}"
      ]
     },
     "execution_count": 115,
     "metadata": {},
     "output_type": "execute_result"
    }
   ],
   "source": [
    "d = dict(short='dict', long='dictionary')\n",
    "d"
   ]
  },
  {
   "cell_type": "code",
   "execution_count": 116,
   "metadata": {},
   "outputs": [
    {
     "data": {
      "text/plain": [
       "{1: 1, 2: 4}"
      ]
     },
     "execution_count": 116,
     "metadata": {},
     "output_type": "execute_result"
    }
   ],
   "source": [
    "d = dict([(1, 1), (2, 4)])\n",
    "d"
   ]
  },
  {
   "cell_type": "code",
   "execution_count": 117,
   "metadata": {},
   "outputs": [
    {
     "data": {
      "text/plain": [
       "{'a': None, 'b': None}"
      ]
     },
     "execution_count": 117,
     "metadata": {},
     "output_type": "execute_result"
    }
   ],
   "source": [
    "d = dict.fromkeys(['a', 'b'])\n",
    "d"
   ]
  },
  {
   "cell_type": "code",
   "execution_count": 118,
   "metadata": {},
   "outputs": [
    {
     "data": {
      "text/plain": [
       "{'a': 100, 'b': 100}"
      ]
     },
     "execution_count": 118,
     "metadata": {},
     "output_type": "execute_result"
    }
   ],
   "source": [
    "d = dict.fromkeys(['a', 'b'], 100)\n",
    "d"
   ]
  },
  {
   "cell_type": "markdown",
   "metadata": {},
   "source": [
    "**dict comprehensions**"
   ]
  },
  {
   "cell_type": "code",
   "execution_count": 119,
   "metadata": {},
   "outputs": [
    {
     "data": {
      "text/plain": [
       "{0: 0, 1: 1, 2: 4, 3: 9, 4: 16, 5: 25, 6: 36}"
      ]
     },
     "execution_count": 119,
     "metadata": {},
     "output_type": "execute_result"
    }
   ],
   "source": [
    "d = {a: a ** 2 for a in range(7)}\n",
    "d"
   ]
  },
  {
   "cell_type": "markdown",
   "metadata": {},
   "source": [
    "### !"
   ]
  },
  {
   "cell_type": "markdown",
   "metadata": {},
   "source": [
    "Будьте осторожны, если ключа, по которому поступил запрос, нет в словаре, то выбросит исключение:"
   ]
  },
  {
   "cell_type": "code",
   "execution_count": 120,
   "metadata": {},
   "outputs": [
    {
     "ename": "KeyError",
     "evalue": "'a'",
     "output_type": "error",
     "traceback": [
      "\u001b[0;31m---------------------------------------------------------------------------\u001b[0m",
      "\u001b[0;31mKeyError\u001b[0m                                  Traceback (most recent call last)",
      "\u001b[0;32m<ipython-input-120-f720f82c9ca2>\u001b[0m in \u001b[0;36m<module>\u001b[0;34m()\u001b[0m\n\u001b[1;32m      1\u001b[0m \u001b[0md\u001b[0m \u001b[0;34m=\u001b[0m \u001b[0;34m{\u001b[0m\u001b[0;36m1\u001b[0m\u001b[0;34m:\u001b[0m \u001b[0;36m100\u001b[0m\u001b[0;34m,\u001b[0m \u001b[0;36m2\u001b[0m\u001b[0;34m:\u001b[0m \u001b[0;36m200\u001b[0m\u001b[0;34m,\u001b[0m \u001b[0;36m3\u001b[0m\u001b[0;34m:\u001b[0m \u001b[0;36m300\u001b[0m\u001b[0;34m}\u001b[0m\u001b[0;34m\u001b[0m\u001b[0m\n\u001b[0;32m----> 2\u001b[0;31m \u001b[0md\u001b[0m\u001b[0;34m[\u001b[0m\u001b[0;34m'a'\u001b[0m\u001b[0;34m]\u001b[0m\u001b[0;34m\u001b[0m\u001b[0m\n\u001b[0m",
      "\u001b[0;31mKeyError\u001b[0m: 'a'"
     ]
    }
   ],
   "source": [
    "d = {1: 100, 2: 200, 3: 300}\n",
    "d['a']"
   ]
  },
  {
   "cell_type": "markdown",
   "metadata": {},
   "source": [
    "Поэтому безопаснее использовать **get(key)**. Тогда, если нужно, можно проверить на **None**:"
   ]
  },
  {
   "cell_type": "code",
   "execution_count": 121,
   "metadata": {},
   "outputs": [
    {
     "data": {
      "text/plain": [
       "100"
      ]
     },
     "execution_count": 121,
     "metadata": {},
     "output_type": "execute_result"
    }
   ],
   "source": [
    "d.get(1)"
   ]
  },
  {
   "cell_type": "code",
   "execution_count": 122,
   "metadata": {},
   "outputs": [
    {
     "data": {
      "text/plain": [
       "True"
      ]
     },
     "execution_count": 122,
     "metadata": {},
     "output_type": "execute_result"
    }
   ],
   "source": [
    "d.get('a') == None"
   ]
  },
  {
   "cell_type": "markdown",
   "metadata": {},
   "source": [
    "Самое часто используемое - получение ключей, получение значений и получение всего вместе:"
   ]
  },
  {
   "cell_type": "code",
   "execution_count": 123,
   "metadata": {},
   "outputs": [
    {
     "name": "stdout",
     "output_type": "stream",
     "text": [
      "dict_keys([1, 2, 3]) | <class 'dict_keys'>\n",
      "[1, 2, 3]\n"
     ]
    }
   ],
   "source": [
    "print(d.keys(), '|', type(d.keys()))\n",
    "\n",
    "\n",
    "print(list(d.keys()))"
   ]
  },
  {
   "cell_type": "code",
   "execution_count": 124,
   "metadata": {},
   "outputs": [
    {
     "name": "stdout",
     "output_type": "stream",
     "text": [
      "dict_values([100, 200, 300]) | <class 'dict_values'>\n",
      "[100, 200, 300]\n"
     ]
    }
   ],
   "source": [
    "print(d.values(), '|', type(d.values()))\n",
    "\n",
    "\n",
    "print(list(d.values()))"
   ]
  },
  {
   "cell_type": "code",
   "execution_count": 125,
   "metadata": {},
   "outputs": [
    {
     "name": "stdout",
     "output_type": "stream",
     "text": [
      "dict_items([(1, 100), (2, 200), (3, 300)]) | <class 'dict_items'>\n",
      "[(1, 100), (2, 200), (3, 300)]\n"
     ]
    }
   ],
   "source": [
    "print(d.items(), '|', type(d.items()))\n",
    "\n",
    "\n",
    "print(list(d.items()))"
   ]
  },
  {
   "cell_type": "markdown",
   "metadata": {},
   "source": [
    "### modules"
   ]
  },
  {
   "cell_type": "markdown",
   "metadata": {},
   "source": [
    "**Модули** - это \"библиотеки\" Python. То есть это самостоятельные, объединённые технически и логически, именованные части Python кода"
   ]
  },
  {
   "cell_type": "markdown",
   "metadata": {},
   "source": [
    "* О модулях необходимо знать только одно - как их импортировать:"
   ]
  },
  {
   "cell_type": "code",
   "execution_count": 126,
   "metadata": {
    "collapsed": true
   },
   "outputs": [],
   "source": [
    "import collections"
   ]
  },
  {
   "cell_type": "markdown",
   "metadata": {},
   "source": [
    "* Импортировать только какой-то компонент из модуля:"
   ]
  },
  {
   "cell_type": "code",
   "execution_count": 127,
   "metadata": {
    "collapsed": true
   },
   "outputs": [],
   "source": [
    "from collections import Counter"
   ]
  },
  {
   "cell_type": "markdown",
   "metadata": {},
   "source": [
    "* Импортировать с другим именем (чаще всего используется для локаничности кода):"
   ]
  },
  {
   "cell_type": "code",
   "execution_count": 128,
   "metadata": {
    "collapsed": true
   },
   "outputs": [],
   "source": [
    "import collections as cool_lib"
   ]
  },
  {
   "cell_type": "code",
   "execution_count": 129,
   "metadata": {
    "collapsed": true
   },
   "outputs": [],
   "source": [
    "count = cool_lib.Counter()"
   ]
  },
  {
   "cell_type": "markdown",
   "metadata": {},
   "source": [
    "Жизненный пример:"
   ]
  },
  {
   "cell_type": "code",
   "execution_count": 130,
   "metadata": {
    "collapsed": true
   },
   "outputs": [],
   "source": [
    "import numpy as np"
   ]
  },
  {
   "cell_type": "markdown",
   "metadata": {},
   "source": [
    "### files"
   ]
  },
  {
   "cell_type": "code",
   "execution_count": 131,
   "metadata": {
    "collapsed": true
   },
   "outputs": [],
   "source": [
    "path = './20_newsgroups/sci.space/62478'"
   ]
  },
  {
   "cell_type": "code",
   "execution_count": 132,
   "metadata": {},
   "outputs": [
    {
     "name": "stdout",
     "output_type": "stream",
     "text": [
      "Xref: cantaloupe.srv.cs.cmu.edu sci.environment:30750 misc.consumers:69256 misc.invest:42673 sci.astro:36051 talk.environment:12248 talk.politics.space:2872 sci.space:62478 rec.backcountry:32315 misc.rural:6338 misc.headlines:42267 misc.legal:63426\n",
      "\n"
     ]
    }
   ],
   "source": [
    "file = open(path, mode='r')\n",
    "print([line for line in file][0])\n",
    "file.close()"
   ]
  },
  {
   "cell_type": "markdown",
   "metadata": {},
   "source": [
    "| Режим | Обозначение |\n",
    "|-------|-------------|\n",
    "| **'r'**  | Открытие на **чтение** (является значением по умолчанию) |\n",
    "| **'rb'** | Открытие на **чтение**, в предположении, что будут считываться **байты** |\n",
    "| **'w'** | Открытие на **запись**, содержимое файла удаляется. Если файла не существует, создается новый |\n",
    "| **'wb**' | Открытие на **запись байтов**, содержимое файла удаляется. Если файла не существует, создается новый |\n",
    "| **'a'** | Открытие на **дозапись**, информация добавляется **в конец файла** |\n",
    "| **'r+'** | Открыть файл на **чтение И запись**. Если файла нет, **новый НЕ создаётся** |\n",
    "| **'a+'** | Открыть файл на **чтение И запись в конец файла**. Если файла нет, **новый создаётся** |\n",
    "| **'t'** | Открытие файла **как текстового** (по умолчанию) |"
   ]
  },
  {
   "cell_type": "code",
   "execution_count": 133,
   "metadata": {},
   "outputs": [
    {
     "name": "stdout",
     "output_type": "stream",
     "text": [
      "Xref: cantaloupe.srv.cs.cmu.edu sci.environment:30750 misc.consumers:69256 misc.invest:42673 sci.astro:36051 talk.environment:12248 talk.politics.space:2872 sci.space:62478 rec.backcountry:32315 misc.rural:6338 misc.headlines:42267 misc.legal:63426\n",
      "\n",
      "Newsgroups: sci.environment,misc.consumers,misc.invest,sci.astro,talk.environment,talk.politics.space,sci.space,rec.backcountry,misc.rural,misc.headlines,k12.chat.teacher,misc.legal\n",
      "\n",
      "Path: cantaloupe.srv.cs.cmu.edu!rochester!udel!darwin.sura.net!zaphod.mps.ohio-state.edu!news.acns.nwu.edu!schur!len\n",
      "\n",
      "From: len@schur.math.nwu.edu (Len Evens)\n",
      "\n",
      "Subject: Re: Space Marketing would be wonderfull.\n",
      "\n",
      "Message-ID: <1993May17.133444.5922@news.acns.nwu.edu>\n",
      "\n",
      "Sender: usenet@news.acns.nwu.edu (Usenet on news.acns)\n",
      "\n",
      "Nntp-Posting-Host: schur.math.nwu.edu\n",
      "\n",
      "Organization: Dept of Math, Northwestern Univ\n",
      "\n",
      "References: <C75A0p.8DK@news.cso.uiuc.edu> <pgf.737604987@srl03.cacs.usl.edu> <C760Dv.K75@agora.rain.com>\n",
      "\n",
      "Date: Mon, 17 May 1993 13:34:44 GMT\n",
      "\n",
      "Lines: 61\n",
      "\n",
      "\n",
      "\n",
      "In article <C760Dv.K75@agora.rain.com> jhart@agora.rain.com (Jim Hart) writes:\n",
      "\n",
      ">\n",
      "\n",
      ">If anybody has a strong claim to control of the  the night sky, it is \n",
      "\n",
      ">astronomers.  Check out the common law.  In the days when wild lands\n",
      "\n",
      ">weren't scarce, pioneers laid claim to the land by putting it to\n",
      "\n",
      ">use, eg clearing and growing a crop.  Even trespassers can lay claim to \n",
      "\n",
      ">the right of passage if if they've done it for long enough and the\n",
      "\n",
      ">owners have not complained or taken steps to stop them.  Usage\n",
      "\n",
      ">begets property rights.\n",
      "\n",
      ">\n",
      "\n",
      ">Astronomers have been using the night sky for thousands of years --\n",
      "\n",
      ">they own it. \n",
      "\n",
      ">(eg light polluters), they will lose their common-law right of ownership.\n",
      "\n",
      ">\n",
      "\n",
      ">Another consequence of their ownership is that they are free to sell\n",
      "\n",
      ">it.  Now, astronomers need money for their work.  If light\n",
      "\n",
      ">polluting billboards and mirrors go up, they will need even\n",
      "\n",
      ">more money to buy extra image processing equipment, filters,\n",
      "\n",
      ">space telescopes etc. to get around the problem.\n",
      "\n",
      ">\n",
      "\n",
      ">So, as long as we can define who \"astronomers\" are (eg do\n",
      "\n",
      ">\"they\" include amateur astronomers?  Nature lovers?)\n",
      "\n",
      ">we can set up a system of voluntary consensus to solve this\n",
      "\n",
      ">dispute, instead invoking bans, regulations, etc. enforced\n",
      "\n",
      ">by bribed politicians at the point of a gun (why do folks always\n",
      "\n",
      ">think of that sordid solution, \"we ought to pass a law\", to\n",
      "\n",
      ">solve problems first instead of as a last resort when other\n",
      "\n",
      ">methods have failed?)\n",
      "\n",
      ">\n",
      "\n",
      "[Stuff deleted]\n",
      "\n",
      ">  This proposal certainly needs work, but how about working on \n",
      "\n",
      ">these kind of ideas first before writing \"there ought to be a law\" \n",
      "\n",
      ">letters to our Congresscritters: let's give noncoercive consensus, via \n",
      "\n",
      ">the free market, a chance to solve this problem.\n",
      "\n",
      ">\n",
      "\n",
      ">Jim Hart\n",
      "\n",
      ">jhart@agora.rain.com\n",
      "\n",
      "\n",
      "\n",
      "Would Mr. Hart please explain how one could get every nation on\n",
      "\n",
      "earth and every corporation to agree that astronomers own the\n",
      "\n",
      "night sky without `coercion'.   Remember that not every nation\n",
      "\n",
      "follows the English common law.   In most countries, for most of\n",
      "\n",
      "history, it was probably true that the rulers `owned' everything\n",
      "\n",
      "not explicitly owned by individuals.   Even in North America,\n",
      "\n",
      "where by the principle enunciated, the aboriginal inhabitants should\n",
      "\n",
      "have owned everything, when new arrivals wanted to use land\n",
      "\n",
      "and resources, they just took it over.  In case Mr. Hart hasn't noticed,\n",
      "\n",
      "there is currently a brutal war going on in Bosnia about who owns what.\n",
      "\n",
      "Of course, if some friendly super power were to give an international\n",
      "\n",
      "astronomy organization some anti-satelite missiles and also agree\n",
      "\n",
      "to defend it if attacked, such a proposal might work, but it\n",
      "\n",
      "would hardly be non-coercive.\n",
      "\n",
      "\n",
      "\n",
      "Some of us nutty environmentalists think it might make sense first\n",
      "\n",
      "to try to mobilize public opinion against advertising in space\n",
      "\n",
      "and also to use governmental actions (like taxing power, for example)\n",
      "\n",
      "to discourage them.   This of course would be too coercive for\n",
      "\n",
      "Mr. Hart.\n",
      "\n",
      "\n",
      "\n",
      "Leonard Evens      len@math.nwu.edu      708-491-5537\n",
      "\n",
      "Dept. of Mathematics, Northwestern Univ., Evanston, IL 60208\n",
      "\n"
     ]
    }
   ],
   "source": [
    "with open(path, mode='r') as test_file:\n",
    "    for line in test_file:\n",
    "        print(line)"
   ]
  },
  {
   "cell_type": "markdown",
   "metadata": {},
   "source": [
    "### classes"
   ]
  },
  {
   "cell_type": "code",
   "execution_count": 134,
   "metadata": {
    "collapsed": true
   },
   "outputs": [],
   "source": [
    "class Human:\n",
    "    def __init__(self, name='', age=None, deep_learning_specialist=False):\n",
    "        self.name = name\n",
    "        self.age = age\n",
    "        self.deep_learning_specialist = deep_learning_specialist\n",
    "    \n",
    "    def set_age(self, age):\n",
    "        self.age = age\n",
    "    \n",
    "    def get_age(self):\n",
    "        return self.age\n",
    "    \n",
    "    def __str__(self):\n",
    "        return 'Name: {}\\nAge: {} \\\n",
    "                \\nIs deep learning specialist: {}'.format(self.name, self.age, \n",
    "                                                          self.deep_learning_specialist)\n",
    "\n",
    "class DLSchoolStudent(Human):\n",
    "    def __init__(self, name='', age=None, deep_learning_specialist=False):\n",
    "        super().__init__(name, age, deep_learning_specialist)\n",
    "        self.total_grade = None\n",
    "        self.deep_learning_specialist = True\n",
    "    \n",
    "    def __str__(self):\n",
    "        return super().__str__()"
   ]
  },
  {
   "cell_type": "code",
   "execution_count": 135,
   "metadata": {},
   "outputs": [
    {
     "name": "stdout",
     "output_type": "stream",
     "text": [
      "Name: Person\n",
      "Age: 17                 \n",
      "Is deep learning specialist: False\n"
     ]
    }
   ],
   "source": [
    "human = Human('Person', 17)\n",
    "print(human)"
   ]
  },
  {
   "cell_type": "code",
   "execution_count": 136,
   "metadata": {},
   "outputs": [
    {
     "name": "stdout",
     "output_type": "stream",
     "text": [
      "Name: Good Person\n",
      "Age: 18                 \n",
      "Is deep learning specialist: True\n"
     ]
    }
   ],
   "source": [
    "student = DLSchoolStudent('Good Person', 18)\n",
    "print(student)"
   ]
  },
  {
   "cell_type": "markdown",
   "metadata": {},
   "source": [
    "### exceptions"
   ]
  },
  {
   "cell_type": "code",
   "execution_count": 137,
   "metadata": {},
   "outputs": [
    {
     "data": {
      "text/plain": [
       "['ArithmeticError',\n",
       " 'AssertionError',\n",
       " 'AttributeError',\n",
       " 'BaseException',\n",
       " 'BlockingIOError',\n",
       " 'BrokenPipeError',\n",
       " 'BufferError',\n",
       " 'BytesWarning',\n",
       " 'ChildProcessError',\n",
       " 'ConnectionAbortedError',\n",
       " 'ConnectionError',\n",
       " 'ConnectionRefusedError',\n",
       " 'ConnectionResetError',\n",
       " 'DeprecationWarning',\n",
       " 'EOFError',\n",
       " 'Ellipsis',\n",
       " 'EnvironmentError',\n",
       " 'Exception',\n",
       " 'False',\n",
       " 'FileExistsError',\n",
       " 'FileNotFoundError',\n",
       " 'FloatingPointError',\n",
       " 'FutureWarning',\n",
       " 'GeneratorExit',\n",
       " 'IOError',\n",
       " 'ImportError',\n",
       " 'ImportWarning',\n",
       " 'IndentationError',\n",
       " 'IndexError',\n",
       " 'InterruptedError',\n",
       " 'IsADirectoryError',\n",
       " 'KeyError',\n",
       " 'KeyboardInterrupt',\n",
       " 'LookupError',\n",
       " 'MemoryError',\n",
       " 'NameError',\n",
       " 'None',\n",
       " 'NotADirectoryError',\n",
       " 'NotImplemented',\n",
       " 'NotImplementedError',\n",
       " 'OSError',\n",
       " 'OverflowError',\n",
       " 'PendingDeprecationWarning',\n",
       " 'PermissionError',\n",
       " 'ProcessLookupError',\n",
       " 'RecursionError',\n",
       " 'ReferenceError',\n",
       " 'ResourceWarning',\n",
       " 'RuntimeError',\n",
       " 'RuntimeWarning',\n",
       " 'StopAsyncIteration',\n",
       " 'StopIteration',\n",
       " 'SyntaxError',\n",
       " 'SyntaxWarning',\n",
       " 'SystemError',\n",
       " 'SystemExit',\n",
       " 'TabError',\n",
       " 'TimeoutError',\n",
       " 'True',\n",
       " 'TypeError',\n",
       " 'UnboundLocalError',\n",
       " 'UnicodeDecodeError',\n",
       " 'UnicodeEncodeError',\n",
       " 'UnicodeError',\n",
       " 'UnicodeTranslateError',\n",
       " 'UnicodeWarning',\n",
       " 'UserWarning',\n",
       " 'ValueError',\n",
       " 'Warning',\n",
       " 'ZeroDivisionError',\n",
       " '__IPYTHON__',\n",
       " '__build_class__',\n",
       " '__debug__',\n",
       " '__doc__',\n",
       " '__import__',\n",
       " '__loader__',\n",
       " '__name__',\n",
       " '__package__',\n",
       " '__spec__',\n",
       " 'abs',\n",
       " 'all',\n",
       " 'any',\n",
       " 'ascii',\n",
       " 'bin',\n",
       " 'bool',\n",
       " 'bytearray',\n",
       " 'bytes',\n",
       " 'callable',\n",
       " 'chr',\n",
       " 'classmethod',\n",
       " 'compile',\n",
       " 'complex',\n",
       " 'copyright',\n",
       " 'credits',\n",
       " 'delattr',\n",
       " 'dict',\n",
       " 'dir',\n",
       " 'display',\n",
       " 'divmod',\n",
       " 'enumerate',\n",
       " 'eval',\n",
       " 'exec',\n",
       " 'filter',\n",
       " 'float',\n",
       " 'format',\n",
       " 'frozenset',\n",
       " 'get_ipython',\n",
       " 'getattr',\n",
       " 'globals',\n",
       " 'hasattr',\n",
       " 'hash',\n",
       " 'help',\n",
       " 'hex',\n",
       " 'id',\n",
       " 'input',\n",
       " 'int',\n",
       " 'isinstance',\n",
       " 'issubclass',\n",
       " 'iter',\n",
       " 'len',\n",
       " 'license',\n",
       " 'list',\n",
       " 'locals',\n",
       " 'map',\n",
       " 'max',\n",
       " 'memoryview',\n",
       " 'min',\n",
       " 'next',\n",
       " 'object',\n",
       " 'oct',\n",
       " 'open',\n",
       " 'ord',\n",
       " 'pow',\n",
       " 'print',\n",
       " 'property',\n",
       " 'range',\n",
       " 'repr',\n",
       " 'reversed',\n",
       " 'round',\n",
       " 'set',\n",
       " 'setattr',\n",
       " 'slice',\n",
       " 'sorted',\n",
       " 'staticmethod',\n",
       " 'str',\n",
       " 'sum',\n",
       " 'super',\n",
       " 'tuple',\n",
       " 'type',\n",
       " 'vars',\n",
       " 'zip']"
      ]
     },
     "execution_count": 137,
     "metadata": {},
     "output_type": "execute_result"
    }
   ],
   "source": [
    "dir(__builtin__)"
   ]
  },
  {
   "cell_type": "code",
   "execution_count": 138,
   "metadata": {},
   "outputs": [
    {
     "ename": "KeyboardInterrupt",
     "evalue": "",
     "output_type": "error",
     "traceback": [
      "\u001b[0;31m---------------------------------------------------------------------------\u001b[0m",
      "\u001b[0;31mKeyboardInterrupt\u001b[0m                         Traceback (most recent call last)",
      "\u001b[0;32m<ipython-input-138-e6a7eeb453df>\u001b[0m in \u001b[0;36m<module>\u001b[0;34m()\u001b[0m\n\u001b[0;32m----> 1\u001b[0;31m \u001b[0;32mraise\u001b[0m \u001b[0mKeyboardInterrupt\u001b[0m\u001b[0;34m(\u001b[0m\u001b[0;34m)\u001b[0m\u001b[0;34m\u001b[0m\u001b[0m\n\u001b[0m",
      "\u001b[0;31mKeyboardInterrupt\u001b[0m: "
     ]
    }
   ],
   "source": [
    "raise KeyboardInterrupt()"
   ]
  },
  {
   "cell_type": "code",
   "execution_count": 139,
   "metadata": {},
   "outputs": [
    {
     "ename": "KeyError",
     "evalue": "'NEW'",
     "output_type": "error",
     "traceback": [
      "\u001b[0;31m---------------------------------------------------------------------------\u001b[0m",
      "\u001b[0;31mKeyError\u001b[0m                                  Traceback (most recent call last)",
      "\u001b[0;32m<ipython-input-139-783d73523b4f>\u001b[0m in \u001b[0;36m<module>\u001b[0;34m()\u001b[0m\n\u001b[1;32m      1\u001b[0m \u001b[0mmy_dict\u001b[0m \u001b[0;34m=\u001b[0m \u001b[0;34m{\u001b[0m\u001b[0;36m1\u001b[0m\u001b[0;34m:\u001b[0m \u001b[0;36m100\u001b[0m\u001b[0;34m,\u001b[0m \u001b[0;36m2\u001b[0m\u001b[0;34m:\u001b[0m \u001b[0;36m200\u001b[0m\u001b[0;34m}\u001b[0m\u001b[0;34m\u001b[0m\u001b[0m\n\u001b[0;32m----> 2\u001b[0;31m \u001b[0mprint\u001b[0m\u001b[0;34m(\u001b[0m\u001b[0mmy_dict\u001b[0m\u001b[0;34m[\u001b[0m\u001b[0;34m'NEW'\u001b[0m\u001b[0;34m]\u001b[0m\u001b[0;34m)\u001b[0m\u001b[0;34m\u001b[0m\u001b[0m\n\u001b[0m",
      "\u001b[0;31mKeyError\u001b[0m: 'NEW'"
     ]
    }
   ],
   "source": [
    "my_dict = {1: 100, 2: 200}\n",
    "print(my_dict['NEW'])"
   ]
  },
  {
   "cell_type": "code",
   "execution_count": 140,
   "metadata": {},
   "outputs": [
    {
     "name": "stdout",
     "output_type": "stream",
     "text": [
      "Caught KeyError!\n"
     ]
    }
   ],
   "source": [
    "try:\n",
    "    my_dict = {1: 100, 2: 200}\n",
    "    print(my_dict['NEW'])\n",
    "except KeyError:\n",
    "    print('Caught KeyError!')"
   ]
  },
  {
   "cell_type": "markdown",
   "metadata": {},
   "source": [
    "### Полезные библиотеки Python"
   ]
  },
  {
   "cell_type": "markdown",
   "metadata": {},
   "source": [
    "### glob"
   ]
  },
  {
   "cell_type": "code",
   "execution_count": 141,
   "metadata": {
    "collapsed": true
   },
   "outputs": [],
   "source": [
    "import glob"
   ]
  },
  {
   "cell_type": "code",
   "execution_count": 142,
   "metadata": {},
   "outputs": [
    {
     "name": "stdout",
     "output_type": "stream",
     "text": [
      "20_newsgroups  D.jpg   python_basics.ipynb  train_data\r\n",
      "dice.png       dl.jpg  test_data\r\n"
     ]
    }
   ],
   "source": [
    "!dir"
   ]
  },
  {
   "cell_type": "code",
   "execution_count": 143,
   "metadata": {},
   "outputs": [
    {
     "data": {
      "text/plain": [
       "[]"
      ]
     },
     "execution_count": 143,
     "metadata": {},
     "output_type": "execute_result"
    }
   ],
   "source": [
    "glob.glob('./[0-9].*')"
   ]
  },
  {
   "cell_type": "code",
   "execution_count": 144,
   "metadata": {},
   "outputs": [
    {
     "data": {
      "text/plain": [
       "['dice.png']"
      ]
     },
     "execution_count": 144,
     "metadata": {},
     "output_type": "execute_result"
    }
   ],
   "source": [
    "glob.glob('*.png')"
   ]
  },
  {
   "cell_type": "code",
   "execution_count": 145,
   "metadata": {},
   "outputs": [
    {
     "data": {
      "text/plain": [
       "['D.jpg']"
      ]
     },
     "execution_count": 145,
     "metadata": {},
     "output_type": "execute_result"
    }
   ],
   "source": [
    "glob.glob('?.jpg')"
   ]
  },
  {
   "cell_type": "code",
   "execution_count": 146,
   "metadata": {},
   "outputs": [
    {
     "data": {
      "text/plain": [
       "['./',\n",
       " './20_newsgroups/',\n",
       " './20_newsgroups/sci.space/',\n",
       " './test_data/',\n",
       " './train_data/']"
      ]
     },
     "execution_count": 146,
     "metadata": {},
     "output_type": "execute_result"
    }
   ],
   "source": [
    "glob.glob('./**/', recursive=True)"
   ]
  },
  {
   "cell_type": "code",
   "execution_count": 147,
   "metadata": {},
   "outputs": [
    {
     "data": {
      "text/plain": [
       "['train_data/2.txt', 'train_data/1.txt', 'train_data/3.txt']"
      ]
     },
     "execution_count": 147,
     "metadata": {},
     "output_type": "execute_result"
    }
   ],
   "source": [
    "glob.glob('**/*.txt', recursive=True)"
   ]
  },
  {
   "cell_type": "markdown",
   "metadata": {},
   "source": [
    "### tqdm"
   ]
  },
  {
   "cell_type": "markdown",
   "metadata": {},
   "source": [
    "* Устанавливаем виджеты:\n",
    "\n",
    "`pip install ipywidgets`  \n",
    "\n",
    "(или `conda install -c conda-forge ipywidgets`)\n",
    "\n",
    "* Разрешаем их использование в Jupyter Notebook:  \n",
    "\n",
    "`jupyter nbextension enable --py --sys-prefix widgetsnbextension`  \n",
    "\n",
    "* Перезагружаем ядро (Restart Kernel)  \n",
    "\n",
    "\n",
    "* Устанавливаем tqdm:  \n",
    "\n",
    "`pip install tqdm`  \n",
    "\n",
    "(или `conda install -c conda-forge tqdm`)  \n",
    "\n",
    "Больше про tqdm: https://pypi.python.org/pypi/tqdm"
   ]
  },
  {
   "cell_type": "code",
   "execution_count": 148,
   "metadata": {
    "collapsed": true
   },
   "outputs": [],
   "source": [
    "from tqdm import tqdm\n",
    "from tqdm import tnrange, tqdm_notebook\n",
    "from time import sleep"
   ]
  },
  {
   "cell_type": "code",
   "execution_count": 149,
   "metadata": {},
   "outputs": [
    {
     "name": "stderr",
     "output_type": "stream",
     "text": [
      "100%|██████████| 1000/1000 [00:10<00:00, 93.62it/s]\n"
     ]
    }
   ],
   "source": [
    "cnt = 0\n",
    "for i in tqdm(range(1000)):\n",
    "    sleep(0.01)\n",
    "    cnt += 1"
   ]
  },
  {
   "cell_type": "code",
   "execution_count": 150,
   "metadata": {},
   "outputs": [
    {
     "data": {
      "application/vnd.jupyter.widget-view+json": {
       "model_id": "4326c6d1e22045ed88a8f48dd7047d43",
       "version_major": 2,
       "version_minor": 0
      },
      "text/plain": [
       "A Jupyter Widget"
      ]
     },
     "metadata": {},
     "output_type": "display_data"
    },
    {
     "data": {
      "application/vnd.jupyter.widget-view+json": {
       "model_id": "64629db7158a4d3baad1caa6e90dd138",
       "version_major": 2,
       "version_minor": 0
      },
      "text/plain": [
       "A Jupyter Widget"
      ]
     },
     "metadata": {},
     "output_type": "display_data"
    },
    {
     "data": {
      "application/vnd.jupyter.widget-view+json": {
       "model_id": "38bef002844b498c9cf6056d2d2cc653",
       "version_major": 2,
       "version_minor": 0
      },
      "text/plain": [
       "A Jupyter Widget"
      ]
     },
     "metadata": {},
     "output_type": "display_data"
    },
    {
     "data": {
      "application/vnd.jupyter.widget-view+json": {
       "model_id": "8447f0a5b62a455a812870943c70019c",
       "version_major": 2,
       "version_minor": 0
      },
      "text/plain": [
       "A Jupyter Widget"
      ]
     },
     "metadata": {},
     "output_type": "display_data"
    },
    {
     "data": {
      "application/vnd.jupyter.widget-view+json": {
       "model_id": "7d6ca59206334735b734cdfe4b1c70a9",
       "version_major": 2,
       "version_minor": 0
      },
      "text/plain": [
       "A Jupyter Widget"
      ]
     },
     "metadata": {},
     "output_type": "display_data"
    },
    {
     "data": {
      "application/vnd.jupyter.widget-view+json": {
       "model_id": "aaae24d28ccf447187c04249feff7278",
       "version_major": 2,
       "version_minor": 0
      },
      "text/plain": [
       "A Jupyter Widget"
      ]
     },
     "metadata": {},
     "output_type": "display_data"
    },
    {
     "data": {
      "application/vnd.jupyter.widget-view+json": {
       "model_id": "5ae1e247d9ce45dd9c62f38a47729eaa",
       "version_major": 2,
       "version_minor": 0
      },
      "text/plain": [
       "A Jupyter Widget"
      ]
     },
     "metadata": {},
     "output_type": "display_data"
    },
    {
     "data": {
      "application/vnd.jupyter.widget-view+json": {
       "model_id": "a2ccdf568200430db87d6534b4e9796f",
       "version_major": 2,
       "version_minor": 0
      },
      "text/plain": [
       "A Jupyter Widget"
      ]
     },
     "metadata": {},
     "output_type": "display_data"
    },
    {
     "data": {
      "application/vnd.jupyter.widget-view+json": {
       "model_id": "c063023f216c47f4810494c4094e0e33",
       "version_major": 2,
       "version_minor": 0
      },
      "text/plain": [
       "A Jupyter Widget"
      ]
     },
     "metadata": {},
     "output_type": "display_data"
    },
    {
     "data": {
      "application/vnd.jupyter.widget-view+json": {
       "model_id": "4a760cd284d04ecaa6fe521b5dcf3299",
       "version_major": 2,
       "version_minor": 0
      },
      "text/plain": [
       "A Jupyter Widget"
      ]
     },
     "metadata": {},
     "output_type": "display_data"
    },
    {
     "data": {
      "application/vnd.jupyter.widget-view+json": {
       "model_id": "dc627c86aad44fc8adc726f8cc27689d",
       "version_major": 2,
       "version_minor": 0
      },
      "text/plain": [
       "A Jupyter Widget"
      ]
     },
     "metadata": {},
     "output_type": "display_data"
    },
    {
     "name": "stdout",
     "output_type": "stream",
     "text": [
      "\n"
     ]
    }
   ],
   "source": [
    "for i in tnrange(10, desc='1st loop'):\n",
    "    for j in tqdm_notebook(range(100), desc='2nd loop', leave=False):\n",
    "        sleep(0.01)"
   ]
  },
  {
   "cell_type": "markdown",
   "metadata": {},
   "source": [
    "### collections"
   ]
  },
  {
   "cell_type": "markdown",
   "metadata": {},
   "source": [
    "* `defaultdict()` - класс словаря, у которого есть значение по умолчанию - порой очень пригождается:"
   ]
  },
  {
   "cell_type": "code",
   "execution_count": 151,
   "metadata": {
    "collapsed": true
   },
   "outputs": [],
   "source": [
    "from collections import defaultdict"
   ]
  },
  {
   "cell_type": "code",
   "execution_count": 152,
   "metadata": {},
   "outputs": [
    {
     "name": "stdout",
     "output_type": "stream",
     "text": [
      "0\n",
      "5\n"
     ]
    }
   ],
   "source": [
    "d = defaultdict(int)\n",
    "\n",
    "print(d['key'])\n",
    "\n",
    "d['key'] = 5\n",
    "print(d['key'])  # 5"
   ]
  },
  {
   "cell_type": "code",
   "execution_count": 153,
   "metadata": {},
   "outputs": [
    {
     "name": "stdout",
     "output_type": "stream",
     "text": [
      "empty\n",
      "full\n"
     ]
    }
   ],
   "source": [
    "d = defaultdict(lambda: 'empty')\n",
    "print(d['key'])\n",
    "\n",
    "d['key'] = 'full'\n",
    "print(d['key'])"
   ]
  },
  {
   "cell_type": "code",
   "execution_count": 154,
   "metadata": {},
   "outputs": [
    {
     "name": "stdout",
     "output_type": "stream",
     "text": [
      "defaultdict(<class 'list'>, {})\n",
      "defaultdict(<class 'list'>, {'list1': [100, 200]})\n",
      "[100, 200]\n"
     ]
    }
   ],
   "source": [
    "d = defaultdict(list)\n",
    "print(d)\n",
    "\n",
    "d['list1'].append(100)\n",
    "d['list1'].append(200)\n",
    "print(d)\n",
    "print(d['list1'])"
   ]
  },
  {
   "cell_type": "markdown",
   "metadata": {},
   "source": [
    "* `Counter()` - класс словаря, предназначенного для счётчиков. По сути, `== defaultdict(int)`:"
   ]
  },
  {
   "cell_type": "code",
   "execution_count": 155,
   "metadata": {
    "collapsed": true
   },
   "outputs": [],
   "source": [
    "from collections import Counter"
   ]
  },
  {
   "cell_type": "code",
   "execution_count": 156,
   "metadata": {},
   "outputs": [
    {
     "name": "stdout",
     "output_type": "stream",
     "text": [
      "Counter({'r': 221, 'o': 132, 'e': 131, 'n': 97, 't': 97, 'i': 85, 'a': 63, 's': 59, 'E': 56, 'c': 48, 'l': 42, '_': 38, 'p': 38, 'd': 37, 'm': 31, 'u': 27, 'y': 22, 'g': 21, 'b': 16, 'I': 14, 'x': 13, 'h': 12, 'W': 11, 'f': 9, 'v': 8, 'A': 7, 'N': 7, 'F': 7, 'R': 7, 'U': 7, 'S': 7, 'P': 7, 'O': 6, 'T': 6, 'D': 6, 'C': 5, 'k': 5, 'B': 5, 'L': 3, 'w': 3, 'K': 2, 'z': 2, 'H': 1, 'G': 1, 'V': 1, 'Y': 1, 'j': 1, 'M': 1, 'Z': 1})\n"
     ]
    }
   ],
   "source": [
    "counter = Counter()\n",
    "\n",
    "for word in dir(__builtin__):\n",
    "    for letter in word:\n",
    "        counter[letter] += 1  # или .update(value)\n",
    "    \n",
    "print(counter)"
   ]
  },
  {
   "cell_type": "markdown",
   "metadata": {},
   "source": [
    "---"
   ]
  },
  {
   "cell_type": "markdown",
   "metadata": {},
   "source": [
    "### Задание 6\n",
    "\n",
    "1. Создайте словарь счётчиков\n",
    "2. Создайте переменную, в которую сохраните все пути к нужным текстовым файлам *(расположены по адресу `'./20_newsgroups/sci.space/'`)*\n",
    "3. Для каждого текста (текстового файла) посчитайте сколько каждое слово (из этого текста) встретилось в этом тексте (используйте предыдущие пункты)"
   ]
  },
  {
   "cell_type": "code",
   "execution_count": 157,
   "metadata": {
    "collapsed": true
   },
   "outputs": [],
   "source": [
    "# Ваш код здесь\n",
    "cnt_dict = defaultdict(Counter)\n",
    "import os"
   ]
  },
  {
   "cell_type": "code",
   "execution_count": 158,
   "metadata": {},
   "outputs": [
    {
     "name": "stdout",
     "output_type": "stream",
     "text": [
      "['./20_newsgroups/sci.space/62480', './20_newsgroups/sci.space/62614', './20_newsgroups/sci.space/62479', './20_newsgroups/sci.space/62478', './20_newsgroups/sci.space/62615', './20_newsgroups/sci.space/62477', './20_newsgroups/sci.space/62709', './20_newsgroups/sci.space/62708', './20_newsgroups/sci.space/62481', './20_newsgroups/sci.space/62616']\n",
      "./20_newsgroups/sci.space/62616\n",
      "\"the\": 11\", \"of\": 8\", \"would\": 7\", \"I\": 6\", \"and\": 5\", \"it\": 4\", \"strength\": 4\", \"Western\": 3\", \"at\": 3\", \"on\": 3\", \"with\": 3\", \"but\": 3\", \"that\": 3\", \"not\": 2\", \"paving\": 2\", \"to\": 2\", \"ground\": 2\", \"over\": 2\", \"a\": 2\", \"demonstrate\": 2\", \"Space\": 2\", \"so\": 2\", \"Lichtenstein\": 2\", \"\\\": 2\", \"don't\": 2\", \"-------------------------------------------------------------------------\": 2\", \"be\": 2\", \"some\": 2\", \"in\": 2\", \"sez;\": 2\", \"from\": 2\", \"glass\": 2\", \"anyway.\": 1\", \"Mind\": 1\", \"attractive\": 1\", \"billsats.\": 1\", \"you\": 1\", \"[via\": 1\", \"condemn\": 1\", \"Billsats\": 1\", \"Cook\": 1\", \"it,\": 1\", \"something\": 1\", \"fulfillment\": 1\", \"unlike\": 1\", \"capitalism\",\": 1\", \"coming\": 1\", \"invisible\": 1\", \"by\": 1\", \"Tue,\": 1\", \">>are\": 1\", \"1993\": 1\", \"International\": 1\", \"Lines:\": 1\", \"quite\": 1\", \"astronomical\": 1\", \"I'm\": 1\", \"parties?\": 1\", \"enjoyment\": 1\", \"Sender:\": 1\", \"actually\": 1\", \"country\": 1\", \"(potential)\": 1\", \"Distribution:\": 1\", \"their\": 1\", \"mind\": 1\", \"it's\": 1\", \"shrilly\": 1\", \"sci.space\": 1\", \"The\": 1\", \"Lazlo\": 1\", \"denounce\": 1\", \"517-355-2178\": 1\", \"wk\": 1\", \"Tom\": 1\", \"Is\": 1\", \"desires.\": 1\", \"got\": 1\", \"depends\": 1\", \"for\": 1\", \"GMT\": 1\", \"capitalism.\": 1\", \"bboard-news_gateway\": 1\", \":-)\": 1\", \"18\": 1\", \">>vividly\": 1\", \"saying\": 1\", \"significant\": 1\", \"who\": 1\", \"-TimBuk3\": 1\", \"night\": 1\", \"friends\": 1\", \">to?\": 1\", \"this\": 1\", \"someone\": 1\", \">>(it\": 1\", \"out\": 1\", \"needs\": 1\", \"(Tom)\": 1\", \"exposing\": 1\", \"Jeffrey\": 1\", \">>This\": 1\", \"particularly\": 1\", \"glassed-over\": 1\", \"has\": 1\", \"equivalent\": 1\", \"genitals\": 1\", \"And\": 1\", \">>of\": 1\", \"They\": 1\", \"follow\": 1\", \">\"demonstrate\": 1\", \"parties,\": 1\", \">>impact\": 1\", \"Organization:\": 1\", \"had\": 1\", \"sky\": 1\", \"benefit\": 1\", \"336-9591\": 1\", \"communicated\": 1\", \"Digest\": 1\", \"Forwarded\": 1\", \"have\": 1\", \"people\": 1\", \"must\": 1\", \"his\": 1\", \"make\": 1\", \"since\": 1\", \"suspect\": 1\", \"underlying\": 1\", \"cantaloupe.srv.cs.cmu.edu!rochester!cornell!uw-beaver!uhog.mit.edu!enterpoop.mit.edu!deccrl!decwrl!decwrl!concert!news-feed-1.peachnet.edu!gatech!usenet.ins.cwru.edu!magnus.acs.ohio-state.edu!cis.ohio-state.edu!news.sei.cmu.edu!bb3.andrew.cmu.edu!crabapple.srv.cs.cmu.edu!18084TM@msu.edu\": 1\", \"16:40:11\": 1\", \"idea.\": 1\", \"18084TM@msu.edu\": 1\", \"you,\": 1\", \"Approved:\": 1\", \"<C78ECz.AH2.1@cs.cmu.edu>\": 1\", \"Path:\": 1\", \"news+@cs.cmu.edu\": 1\", \"strange\": 1\", \"From:\": 1\", \"thought\": 1\", \"nor\": 1\", \"this,\": 1\", \"about\": 1\", \"-Tommy\": 1\", \"Subject:\": 1\", \"materials\": 1\", \"also\": 1\", \"isu@VACATION.VENARI.CS.CMU.EDU\": 1\", \"Message-ID:\": 1\", \"agenda\": 1\", \"anyone's\": 1\", \"surface\": 1\", \"sci\": 1\", \"*no-one*\": 1\", \"reduced\": 1\", \"what\": 1\", \"part\": 1\", \"quick\": 1\", \"any\": 1\", \"McWilliams\": 1\", \"use\": 1\", \"18084tm@ibm.cl.msu.edu\": 1\", \"L.\": 1\", \"think\": 1\", \"spite\": 1\", \"pacified\": 1\", \"X-Added:\": 1\", \"29\": 1\", \"communists,\": 1\", \"Nibble\": 1\", \"kind\": 1\", \">Buying\": 1\", \"chuckle\": 1\", \"Date:\": 1\", \"night),\": 1\", \"hm\": 1\", \"object\": 1\", \"May\": 1\", \"Newsgroups:\": 1\", \"University]\": 1\", \"Capitalism,\": 1\", \"observations.\": 1\", \"interfere\": 1\", \"doesn't\": 1\", \"Mac\": 1\", \"pay\": 1\", \"guy\": 1\", \"when,\": 1\", \"there\": 1\", \"been\": 1\", \"penis\": 1\", \"Original-Sender:\": 1\", \"wouldn't\": 1\", \"land,\": 1\", \"planetary\": 1\", \">a\": 1\", \"gets\": 1\", \"anyone\": 1\", \"pacifists.\": 1\", \"Actually,\": 1\"\n",
      "./20_newsgroups/sci.space/62615\n",
      "\">\": 9\", \"the\": 9\", \"and\": 7\", \"cost\": 6\", \"to\": 5\", \"of\": 4\", \"a\": 3\", \"would\": 3\", \"be\": 3\", \"an\": 2\", \"just\": 2\", \"Air\": 2\", \"build\": 2\", \"sci.space\": 2\", \"for\": 2\", \"Force\": 2\", \"it\": 2\", \"on\": 2\", \"that\": 2\", \"DC-X\": 2\", \"or\": 2\", \"based\": 1\", \"I\": 1\", \"as\": 1\", \"much.\": 1\", \"how\": 1\", \"Organization:\": 1\", \"SDIO\": 1\", \"told\": 1\", \"doubt\": 1\", \"government\": 1\", \"process\": 1\", \"5\": 1\", \"staffer\": 1\", \"Computing\": 1\", \"<1993May14.200217.3044@iti.org>\": 1\", \"requirement\": 1\", \"6\": 1\", \"course,\": 1\", \"personnel\": 1\", \"bet\": 1\", \"cantaloupe.srv.cs.cmu.edu!das-news.harvard.edu!noc.near.net!howland.reston.ans.net!zaphod.mps.ohio-state.edu!menudo.uh.edu!oac4.hsc.uth.tmc.edu!oac2.hsc.uth.tmc.edu!user\": 1\", \"story\": 1\", \"article\": 1\", \"opinion\": 1\", \"<1993May14.200217.3044@iti.org>,\": 1\", \"majority\": 1\", \"1993\": 1\", \"with\": 1\", \"flying\": 1\", \"Lines:\": 1\", \"accounted\": 1\", \"It\": 1\", \"Interesting\": 1\", \"Message-ID:\": 1\", \"looked\": 1\", \"anecdote\": 1\", \";)\": 1\", \"superfluous\": 1\", \"(now\": 1\", \"BTW)\": 1\", \"Path:\": 1\", \"over\": 1\", \"costs.\": 1\", \"design\": 1\", \"meetings,\": 1\", \"W.\": 1\", \"travel\": 1\", \"Distribution:\": 1\", \"From:\": 1\", \"by\": 1\", \"around\": 1\", \"four\": 1\", \"world\": 1\", \"me\": 1\", \"difference\": 1\", \"about\": 1\", \"fabrication\": 1\", \"Subject:\": 1\", \"materials\": 1\", \"at\": 1\", \"(Chuck\": 1\", \"times\": 1\", \"2167\": 1\", \"estimate\": 1\", \"requirements\": 1\", \"is\": 1\", \"specifying\": 1\", \"hardware.\": 1\", \"(Allen\": 1\", \"huge\": 1\", \"interesting\": 1\", \"very\": 1\", \"different\": 1\", \"aws@iti.org\": 1\", \"SDIO's\": 1\", \"this\": 1\", \"cshotton@oac.hsc.uth.tmc.edu\": 1\", \"watching\": 1\", \"in\": 1\", \"gave\": 1\", \"try\": 1\", \"18\": 1\", \"Shotton)\": 1\", \"An\": 1\", \"GMT\": 1\", \"Of\": 1\", \"A\": 1\", \"it.\": 1\", \"wrote:\": 1\", \"labor\": 1\", \"DC-X1\": 1\", \"Re:\": 1\", \"DC-X.\": 1\", \"USAF:\": 1\", \"$70M\": 1\", \"innovation\": 1\", \"I'd\": 1\", \"documentation.\": 1\", \"Date:\": 1\", \"lack\": 1\", \"from\": 1\", \"References:\": 1\", \"reams\": 1\", \"22\": 1\", \"May\": 1\", \"Academic\": 1\", \"Newsgroups:\": 1\", \"Followup-To:\": 1\", \"actual\": 1\", \"cynical\": 1\", \"<cshotton-180593125810@oac2.hsc.uth.tmc.edu>\": 1\", \"years\": 1\", \"AF's\": 1\", \"costing\": 1\", \"my\": 1\", \"could\": 1\", \"18:01:52\": 1\", \"million\": 1\", \"half\": 1\", \"expenses\": 1\", \"$320\": 1\", \"reviews,\": 1\", \"NNTP-Posting-Host:\": 1\", \"cover\": 1\", \"up\": 1\", \"oac2.hsc.uth.tmc.edu\": 1\", \"team\": 1\", \"documentation,\": 1\", \"much\": 1\", \"In\": 1\", \"called\": 1\", \"Sherzer)\": 1\", \"creativity\": 1\", \"willing\": 1\", \"procurement\": 1\"\n",
      "./20_newsgroups/sci.space/62614\n",
      "\"the\": 14\", \"to\": 9\", \"on\": 6\", \"you\": 5\", \"that\": 4\", \"for\": 3\", \"I\": 3\", \"might\": 2\", \"stand\": 2\", \"make\": 2\", \"may\": 2\", \"have\": 2\", \"be\": 2\", \"some\": 2\", \"from\": 2\", \"of\": 2\", \"A&M\": 2\", \"your\": 2\", \"think\": 2\", \"it\": 2\", \"sure\": 2\", \"is\": 2\", \"Texas\": 2\", \"there\": 2\", \"would\": 2\", \"KC-135\": 2\", \"Path:\": 1\", \"edge\": 1\", \"26\": 1\", \"<17MAY199318160445@zeus.tamu.edu>\": 1\", \"<qHNP4B1w165w@shakala.com>\": 1\", \"forgot\": 1\", \"<18MAY199313024752@zeus.tamu.edu>\": 1\", \"zeus.tamu.edu\": 1\", \"Organization:\": 1\", \"condenstion\": 1\", \"News-Software:\": 1\", \"a\": 1\", \"seemed\": 1\", \"happened\": 1\", \"something\": 1\", \"affect\": 1\", \"covered.\": 1\", \"even\": 1\", \"Computing\": 1\", \"II\": 1\", \"1.41\": 1\", \"writing\": 1\", \"two-phase\": 1\", \"Good\": 1\", \"since\": 1\", \"1993\": 1\", \"Lines:\": 1\", \"mention\": 1\", \"or\": 1\", \">>side\": 1\", \">were\": 1\", \">even\": 1\", \"University\": 1\", \"sick\": 1\", \"Message-ID:\": 1\", \"Make\": 1\", \"too\": 1\", \"VAX/VMS\": 1\", \">>hard\": 1\", \"edge;\": 1\", \"Questions\": 1\", \"installation\": 1\", \"hardware\": 1\", \"d\": 1\", \"(IGOR)\": 1\", \"CDT\": 1\", \"*worse*,\": 1\", \"new\": 1\", \">\": 1\", \"want\": 1\", \"<1t8h49$a2n@aurora.engr.LaTech.edu>\": 1\", \"disk....\": 1\", \"Distribution:\": 1\", \"From:\": 1\", \"Igor\": 1\", \"disk\": 1\", \"dripping\": 1\", \"around\": 1\", \"world\": 1\", \"problem\": 1\", \"roof\": 1\", \"Re:\": 1\", \"sci.space\": 1\", \"Subject:\": 1\", \"References:\": 1\", \":\": 1\", \"veterans\": 1\", \"so\": 1\", \"tell\": 1\", \"force\": 1\", \"sideways\": 1\", \">>if\": 1\", \"13:02\": 1\", \"Older\": 1\", \"Keywords:\": 1\", \"problems\": 1\", \"going\": 1\", \"Academic\": 1\", \"Services\": 1\", \"coming\": 1\", \">force\": 1\", \"us.....\": 1\", \"flow\": 1\", \"spindle\": 1\", \"well\": 1\", \"used\": 1\", \"head.\": 1\", \"research\": 1\", \"drive\": 1\", \"Carron\": 1\", \"drives.\": 1\", \"i0c0256@zeus.tamu.edu\": 1\", \"about.\": 1\", \"you're\": 1\", \"VNEWS\": 1\", \"was\": 1\", \"at\": 1\", \"luck.\": 1\", \"won't\": 1\", \"plane\": 1\", \"talking\": 1\", \"Oh\": 1\", \"yeah\": 1\", \"University,\": 1\", \"Date:\": 1\", \"Gees\": 1\", \"IS\": 1\", \"being\": 1\", \"if\": 1\", \">make\": 1\", \"May\": 1\", \">Hmm.\": 1\", \"Newsgroups:\": 1\", \"Mac\": 1\", \"<1993May18.113849.15908@mksol.dseg.ti.com>\": 1\", \"out\": 1\", \"also\": 1\", \"suppposed\": 1\", \"protected\": 1\", \"work\": 1\", \"due\": 1\", \"water\": 1\", \"reformat\": 1\", \"keyboards\": 1\", \"this\": 1\", \"It\": 1\", \"18\": 1\", \"cantaloupe.srv.cs.cmu.edu!das-news.harvard.edu!noc.near.net!howland.reston.ans.net!zaphod.mps.ohio-state.edu!cs.utexas.edu!tamsun.tamu.edu!zeus.tamu.edu!i0c0256\": 1\", \"are\": 1\", \"around,\": 1\", \"NNTP-Posting-Host:\": 1\", \"side\": 1\", \"up\": 1\", \"much\": 1\", \"3+g,\": 1\", \"unsymmetrical\": 1\", \"not\": 1\", \"tracks\": 1\", \"drives\": 1\", \"experiments\": 1\", \"people.\": 1\", \"though\": 1\"\n"
     ]
    },
    {
     "name": "stdout",
     "output_type": "stream",
     "text": [
      "./20_newsgroups/sci.space/62480\n",
      "\">\": 3\", \"of\": 3\", \"<C760Dv.K75@agora.rain.com>\": 2\", \"the\": 2\", \"they\": 2\", \"17\": 2\", \"Electrical\": 1\", \"(American,\": 1\", \"Canadian,\": 1\", \"as\": 1\", \"loss@husky.bloomu.edu\": 1\", \"Organization:\": 1\", \"scenic\": 1\", \"sky\": 1\", \"something\": 1\", \"Mon,\": 1\", \"talk.politics.space:2873\": 1\", \"sci.astro:36052\": 1\", \"--\": 1\", \"own\": 1\", \"be\": 1\", \"Loss)\": 1\", \"against\": 1\", \"<C76BMs.8x5@fs7.ece.cmu.edu>\": 1\", \"have\": 1\", \"Xref:\": 1\", \"sci.environment,misc.consumers,misc.invest,sci.astro,talk.environment,talk.politics.space,sci.space,rec.backcountry,misc.rural,misc.headlines,k12.chat.teacher,misc.legal\": 1\", \"article\": 1\", \"thousands\": 1\", \"Lines:\": 1\", \"13:47:13\": 1\", \"(Jim\": 1\", \"If\": 1\", \"Engineering,\": 1\", \"isn't\": 1\", \"its\": 1\", \"Message-ID:\": 1\", \"territory\": 1\", \"to\": 1\", \"will\": 1\", \"one\": 1\", \"Sender:\": 1\", \"rec.backcountry:32316\": 1\", \"misc.invest:42674\": 1\", \"Path:\": 1\", \"misc.legal:63427\": 1\", \"News\": 1\", \"complain\": 1\", \"After\": 1\", \"Hart)\": 1\", \"1993\": 1\", \"From:\": 1\", \"misc.rural:6339\": 1\", \"Space\": 1\", \"their\": 1\", \"talking\": 1\", \"about\": 1\", \"Subject:\": 1\", \"news@fs7.ece.cmu.edu\": 1\", \"been\": 1\", \"(USENET\": 1\", \"nature\": 1\", \"years\": 1\", \"Carnegie\": 1\", \"under\": 1\", \"don't\": 1\", \"talk.environment:12249\": 1\", \"very\": 1\", \"Loss\": 1\", \"nation.\": 1\", \"and\": 1\", \"Is\": 1\", \"(Doug\": 1\", \">[...]\": 1\", \"jhart@agora.rain.com\": 1\", \"Doug\": 1\", \"for\": 1\", \"Computer\": 1\", \"limited\": 1\", \"GMT\": 1\", \"all,\": 1\", \"misc.headlines:42268\": 1\", \"polluters),\": 1\", \"it.\": 1\", \"Mellon\": 1\", \">(eg\": 1\", \"Re:\": 1\", \"loss@fs7.ECE.CMU.EDU\": 1\", \"international\": 1\", \"recognized\": 1\", \"English\": 1\", \"ownership.\": 1\", \">they\": 1\", \"night\": 1\", \"now\": 1\", \"wonderfull.\": 1\", \"<C75A0p.8DK@news.cso.uiuc.edu>\": 1\", \"Marketing\": 1\", \"sci.space:62480\": 1\", \"In\": 1\", \"References:\": 1\", \"cantaloupe.srv.cs.cmu.edu\": 1\", \"trespassers\": 1\", \"May\": 1\", \"we're\": 1\", \"Newsgroups:\": 1\", \"lose\": 1\", \"System)\": 1\", \"writes:\": 1\", \"legally\": 1\", \"that\": 1\", \"sci.environment:30751\": 1\", \"light\": 1\", \"common\": 1\", \"law?\": 1\", \"law\": 1\", \"misc.consumers:69257\": 1\", \"would\": 1\", \"Date:\": 1\", \"binding\": 1\", \"common-law\": 1\", \"etc.)\": 1\", \"<pgf.737604987@srl03.cacs.usl.edu>\": 1\", \">Astronomers\": 1\", \"cantaloupe.srv.cs.cmu.edu!das-news.harvard.edu!noc.near.net!howland.reston.ans.net!europa.eng.gtefsd.com!fs7.ece.cmu.edu!fs7.ECE.CMU.EDU!loss\": 1\", \"by\": 1\", \"using\": 1\", \"right\": 1\"\n",
      "./20_newsgroups/sci.space/62479\n",
      "\"the\": 16\", \"in\": 6\", \"of\": 5\", \"was\": 5\", \"and\": 4\", \"to\": 4\", \"The\": 4\", \"I\": 3\", \"action\": 3\", \"a\": 3\", \"be\": 3\", \"sats\": 3\", \"question\": 3\", \"camp\": 2\", \"taken\": 2\", \"CIA\": 2\", \"Patriot\": 2\", \"SAS\": 2\", \"sci.space\": 2\", \"this\": 2\", \"is\": 2\", \"are\": 2\", \"appeared\": 2\", \"by\": 2\", \"Hello\": 1\", \"vehicles.\": 1\", \"Satellite\": 1\", \"Games.\": 1\", \"is,\": 1\", \"VA.\": 1\", \"Organization:\": 1\", \"might\": 1\", \"see\": 1\", \"20\": 1\", \"board\": 1\", \"13:37:43\": 1\", \"team\": 1\", \"x-ray,\": 1\", \"out\": 1\", \"(Mad\": 1\", \"regarding\": 1\", \"watching\": 1\", \"photos\": 1\", \"nature?\": 1\", \"what\": 1\", \"have\": 1\", \"stunning!\": 1\", \"Lines:\": 1\", \"cantaloupe.srv.cs.cmu.edu!das-news.harvard.edu!noc.near.net!howland.reston.ans.net!zaphod.mps.ohio-state.edu!cs.utexas.edu!uunet!nih-csl!NewsWatcher!user\": 1\", \"PS\": 1\", \"know\": 1\", \"back\": 1\", \"its\": 1\", \"I'm\": 1\", \"Who\": 1\", \"Message-ID:\": 1\", \"photography\": 1\", \"Inst\": 1\", \"N\": 1\", \"one\": 1\", \"Sender:\": 1\", \"Capabilities-Patriot\": 1\", \"satellite\": 1\", \"Nat'l\": 1\", \"Path:\": 1\", \"plates\": 1\", \"new\": 1\", \"clear\": 1\", \"camp.\": 1\", \"1993\": 1\", \"From:\": 1\", \"sat.\": 1\", \"Langley,\": 1\", \"IR,\": 1\", \"such\": 1\", \"movie\": 1\", \"specific\": 1\", \"it's\": 1\", \"exist\": 1\", \"Subject:\": 1\", \"Vlad\": 1\", \"while\": 1\", \"at\": 1\", \"i.e.,\": 1\", \"for\": 1\", \"warroom\": 1\", \"x-ray\": 1\", \"within\": 1\", \"utilizes\": 1\", \"Mon,\": 1\", \"capable\": 1\", \"tents/structures\": 1\", \"Vlad)\": 1\", \"seen\": 1\", \"photographing\": 1\", \"And\": 1\", \"Health\": 1\", \"this:\": 1\", \"GMT\": 1\", \"(AMDS\": 1\", \"Mad\": 1\", \"orbitting\": 1\", \"license\": 1\", \"That\": 1\", \"UV,\": 1\", \"technology\": 1\", \"book\": 1\", \"night\": 1\", \"17\": 1\", \"best\": 1\", \"Date:\": 1\", \"movies,\": 1\", \"Games?\": 1\", \"england@helix.nih.gov\": 1\", \"Games\": 1\", \"type.\": 1\", \"May\": 1\", \"Newsgroups:\": 1\", \"Africa.\": 1\", \"Followup-To:\": 1\", \"My\": 1\", \"terrorist\": 1\", \"an\": 1\", \"etc.\": 1\", \"my\": 1\", \"British\": 1\", \"that\": 1\", \"wrote\": 1\", \"place\": 1\", \"SAS.\": 1\", \"could\": 1\", \"action,\": 1\", \"Does\": 1\", \"post.\": 1\", \"thought\": 1\", \"techology\": 1\", \"via\": 1\", \"pinpoint\": 1\", \"Postmaster)\": 1\", \"netters,\": 1\", \"postman@alw.nih.gov\": 1\", \"<england-170593093754@156.40.182.12>\": 1\", \"In\": 1\", \"relayed\": 1\"\n",
      "./20_newsgroups/sci.space/62481\n",
      "\"|>\": 13\", \"the\": 5\", \"would\": 5\", \"is\": 4\", \"and\": 4\", \"not\": 3\", \"money\": 3\", \"it\": 3\", \"children\": 2\", \"<C74rGL.4u7@ucdavis.edu>\": 2\", \"in\": 2\", \"be\": 2\", \"world\": 2\", \"spend\": 2\", \"to\": 2\", \"for\": 2\", \"writes:\": 2\", \"on\": 2\", \"enterprises\": 2\", \"commercial\": 2\", \"In\": 2\", \"article\": 2\", \"noble\": 1\", \"Corporation\": 1\", \"give\": 1\", \"an\": 1\", \">advertising\"\": 1\", \"you\": 1\", \"Organization:\": 1\", \"profitable\": 1\", \"(Usenet\": 1\", \"emotionalism.\": 1\", \"Mon,\": 1\", \"sci.astro:36054\": 1\", \"id)\": 1\", \"rec.backcountry:32317\": 1\", \"news@encore.com\": 1\", \"cantaloupe.srv.cs.cmu.edu\": 1\", \"(Roger\": 1\", \"enterprises,\": 1\", \"Xref:\": 1\", \"where\": 1\", \"whole\": 1\", \">Is\": 1\", \"nip\": 1\", \"don't\": 1\", \"spending\": 1\", \"efficient,\": 1\", \"government\": 1\", \"ez012344@hamlet.ucdavis.edu\": 1\", \"Lines:\": 1\", \"If\": 1\", \"cantaloupe.srv.cs.cmu.edu!rochester!udel!gatech!howland.reston.ans.net!ux1.cso.uiuc.edu!uunet!news.encore.com!ns.encore.com!rcollins\": 1\", \"place\": 1\", \"PR\": 1\", \"Encore\": 1\", \"user\": 1\", \">of\": 1\", \"bud.\": 1\", \"threshold\": 1\", \"23\": 1\", \"Message-ID:\": 1\", \"<C73rp4.3G2@lysator.liu.se>\": 1\", \"amount\": 1\", \"those\": 1\", \"lip-\": 1\", \"other\": 1\", \"minimum\": 1\", \"Herrin)\": 1\", \"Sender:\": 1\", \"somebody\": 1\", \"specious\": 1\", \"Roger\": 1\", \"This\": 1\", \"talk.environment:12250\": 1\", \"Path:\": 1\", \"Just\": 1\", \":)\": 1\", \"geoffm@netcom.com\": 1\", \"Reply-To:\": 1\", \"Perhaps\": 1\", \"Yes!\": 1\", \"\"redistribute.\"\": 1\", \"1993\": 1\", \"sysgem1.encore.com\": 1\", \"Collins\": 1\", \"when\": 1\", \"Space\": 1\", \"help\": 1\", \"more\": 1\", \"some\": 1\", \"rcollins@encore.com\": 1\", \"misc.rural:6340\": 1\", \"Subject:\": 1\", \"at\": 1\", \"also\": 1\", \"<geoffmC7508L.F1K@netcom.com>,\": 1\", \"Let's\": 1\", \"starving\": 1\", \"May\": 1\", \"businesses.\": 1\", \"redistribution\": 1\", \"(Geoff\": 1\", \"excess\": 1\", \"least\": 1\", \"<C76AsH.90B@encore.com>\": 1\", \"starving?\": 1\", \"take\": 1\", \"self-serving\": 1\", \"sci.environment:30752\": 1\", \"were\": 1\", \"advertising\": 1\", \"From:\": 1\", \"Computer\": 1\", \"wealth\": 1\", \"GMT\": 1\", \"rcollins@ns.encore.com\": 1\", \"<geoffmC7508L.F1K@netcom.com>\": 1\", \"of\": 1\", \"sci.environment,misc.consumers,misc.invest,sci.astro,talk.environment,talk.politics/space,sci.space,rec.backcountry,misc.rural,misc.headlines,k12.chat.teacher\": 1\", \"(Dan\": 1\", \"<C73u77.84x@world.std.com>\": 1\", \"trustworthy,\": 1\", \"Re:\": 1\", \"(or\": 1\", \"them\": 1\", \"Nntp-Posting-Host:\": 1\", \"problems)\": 1\", \"Government\": 1\", \"so\": 1\", \"13:29:04\": 1\", \"Commercial\": 1\", \"much\": 1\", \"wonderfull.\": 1\", \"Date:\": 1\", \"Marketing\": 1\", \"service\": 1\", \"from\": 1\", \"sci.space:62481\": 1\", \"References:\": 1\", \"\"abominable,\"\": 1\", \"misc.consumers:69258\": 1\", \"\"space\": 1\", \"abomination\": 1\", \"this\": 1\", \"Precisely\": 1\", \"Newsgroups:\": 1\", \"required\": 1\", \"Miller)\": 1\", \"Collins)\": 1\", \"deemed\": 1\", \"that\": 1\", \"which\": 1\", \"typically\": 1\", \"beyond\": 1\", \"redistributionist\": 1\", \"misc.invest:42675\": 1\", \"...\": 1\", \"are\": 1\", \"whatever\": 1\", \"purposes.\": 1\", \"misc.headlines:42269\": 1\", \"anyway,\": 1\", \"17\": 1\", \"than\": 1\", \"starving.\": 1\", \"ignorance\": 1\", \"readnews\": 1\", \"why?\": 1\"\n",
      "./20_newsgroups/sci.space/62708\n",
      "\">\": 7\", \"to\": 4\", \"the\": 4\", \"he\": 3\", \"would\": 3\", \"you\": 2\", \"a\": 2\", \"--\": 2\", \"what\": 2\", \"small\": 2\", \"that\": 2\", \"advertise,\": 1\", \"an\": 1\", \"I\": 1\", \"Organization:\": 1\", \"person\": 1\", \"approximate\": 1\", \"(12km)\": 1\", \"jumbo\": 1\", \"resolve\": 1\", \"cantaloupe.srv.cs.cmu.edu\": 1\", \"Xref:\": 1\", \"can\": 1\", \"his\": 1\", \"hear?\": 1\", \"visually\": 1\", \"your\": 1\", \"1993\": 1\", \"with\": 1\", \"wanted\": 1\", \"Lines:\": 1\", \"19\": 1\", \"tailor\": 1\", \"Pretty\": 1\", \"comments\": 1\", \"Message-ID:\": 1\", \"good\": 1\", \"too\": 1\", \"hpctdkz.col.hp.com\": 1\", \"will\": 1\", \"feet\": 1\", \"naked\": 1\", \"Path:\": 1\", \"----------\": 1\", \"LIE?\": 1\", \"be\": 1\", \"see\": 1\", \"visual\": 1\", \"From:\": 1\", \"telescope\": 1\", \"Space\": 1\", \"nobody\": 1\", \"it?\": 1\", \"\"billboard\"\": 1\", \"about\": 1\", \"sci.astro:36226\": 1\", \"Subject:\": 1\", \"cantaloupe.srv.cs.cmu.edu!das-news.harvard.edu!noc.near.net!howland.reston.ans.net!zaphod.mps.ohio-state.edu!sdd.hp.com!col.hp.com!cab\": 1\", \"at\": 1\", \"sure\": 1\", \"audience\": 1\", \"Boycott\": 1\", \"didn't\": 1\", \"sci.environment:30892\": 1\", \"<1tdqmvINN3q2@hp-col.col.hp.com>\": 1\", \"and\": 1\", \"to,\": 1\", \"misc.consumers:69409\": 1\", \"Newsgroups:\": 1\", \"billboard\": 1\", \"altitude.\": 1\", \"for\": 1\", \"GMT\": 1\", \"eye\": 1\", \"of\": 1\", \"other\": 1\", \"45k\": 1\", \"sci.environment,misc.consumers,sci.astro,talk.environment,talk.politics.space,sci.space,rec.backcountry\": 1\", \"Re:\": 1\", \"Best)\": 1\", \"it\": 1\", \"(Chris\": 1\", \"so\": 1\", \"words,\": 1\", \"here.\": 1\", \"talked\": 1\", \"rec.backcountry:32439\": 1\", \"Marketing\": 1\", \"service\": 1\", \"References:\": 1\", \"according\": 1\", \"if\": 1\", \"May\": 1\", \"suggested\": 1\", \"impact\": 1\", \"Think\": 1\", \"14\": 1\", \"According\": 1\", \"do\": 1\", \"jet\": 1\", \"proposed\": 1\", \"17:27:59\": 1\", \"Are\": 1\", \"Anyway,\": 1\", \"narrow\": 1\", \"talk.politics.space:2933\": 1\", \"companies?\": 1\", \"Who\": 1\", \"sci.space:62708\": 1\", \"NNTP-Posting-Host:\": 1\", \"Date:\": 1\", \"guessed\": 1\", \"unimportant...\": 1\", \"talk.environment:12372\": 1\", \"cab@col.hp.com\": 1\", \"advertiser\": 1\", \"In\": 1\", \"<24.P022y43JM01@JUTS.ccc.amdahl.com>\": 1\", \"-\": 1\"\n",
      "./20_newsgroups/sci.space/62709\n",
      "\":\": 14\", \"the\": 9\", \"of\": 9\", \"a\": 5\", \"as\": 5\", \"be\": 4\", \"would\": 4\", \"to\": 3\", \"is\": 3\", \"The\": 3\", \"for\": 3\", \"that\": 3\", \"not\": 2\", \"bright\": 2\", \"so\": 2\", \"Science,\": 2\", \"because\": 2\", \"this\": 2\", \"What\": 2\", \"are\": 2\", \"Nonlinear\": 2\", \"astronomy\": 2\", \"orbiting\": 2\", \"already\": 2\", \"have\": 2\", \"field\": 2\", \"good\": 2\", \"far\": 2\", \"but\": 2\", \"light\": 2\", \"every\": 2\", \"case,\": 2\", \"-***\": 2\", \"space\": 1\", \"an\": 1\", \"lyapunov.ucsd.edu,\": 1\", \"I\": 1\", \"doubtfull\": 1\", \"X-Newsreader:\": 1\", \"--\": 1\", \"dying\": 1\", \"misc.headlines:42335\": 1\", \"sci.environment,misc.consumers,misc.invest,sci.astro,talk.environment,talk.politics.space,sci.space,rec.backcountry,misc.rural,misc.headlines,k12.chat.teacher\": 1\", \"programs:\": 1\", \"cantaloupe.srv.cs.cmu.edu!das-news.harvard.edu!noc.near.net!howland.reston.ans.net!ux1.cso.uiuc.edu!uchinews!raistlin!timbuk.cray.com!equalizer!sdcrsi!network.ucsd.edu!lyapunov.ucsd.edu!mbk\": 1\", \"by\": 1\", \"thousands\": 1\", \"Hardly.\": 1\", \"Tin\": 1\", \"Lines:\": 1\", \"If\": 1\", \"it)\": 1\", \"its\": 1\", \"these\": 1\", \"upsets\": 1\", \"full\": 1\", \"Kennel)\": 1\", \"concerned,\": 1\", \"dynamics\": 1\", \"1.1\": 1\", \"known\": 1\", \"Archive\": 1\", \"While\": 1\", \"For\": 1\", \"course\": 1\", \"sky\": 1\", \"cost.\": 1\", \"1993\": 1\", \"deep-sky\": 1\", \"when\": 1\", \"Space\": 1\", \"circles\": 1\", \"four\": 1\", \"driven\": 1\", \"<1t6dd1$11v@network.ucsd.edu>\": 1\", \"&\": 1\", \"PL3\": 1\", \"nearly\": 1\", \"-Matt\": 1\", \"at\": 1\", \"fcrary@ucsu.Colorado.EDU\": 1\", \"(what\": 1\", \"problem,\": 1\", \"CU\": 1\", \"(satelliets\": 1\", \"passing\": 1\", \"they're\": 1\", \"21:57:53\": 1\", \"sci.astro:36227\": 1\", \"billboard\": 1\", \"FTP\": 1\", \"moon\": 1\", \"\"anonymous\".\": 1\", \"scattered\": 1\", \"space-based\": 1\", \"GMT\": 1\", \"mbk@lyapunov.ucsd.edu\": 1\", \"writes:\": 1\", \"Re:\": 1\", \"Frank\": 1\", \"misc.invest:42838\": 1\", \"believe\": 1\", \"90\": 1\", \"wonderfull.\": 1\", \"infrared\": 1\", \"opacity\": 1\", \"upset)\": 1\", \"moon.\": 1\", \"considers\": 1\", \"Diego\": 1\", \"talk.environment:12373\": 1\", \"Boulder\": 1\", \"all\": 1\", \"AD:\": 1\", \"Crary)\": 1\", \"San\": 1\", \"Crary\": 1\", \"Hawaii\": 1\", \"they\": 1\", \"has\": 1\", \"proposed\": 1\", \"first\": 1\", \"minutes?\": 1\", \"ruin\": 1\", \"bright.)\": 1\", \"existing\": 1\", \"field:\": 1\", \"(Matt\": 1\", \"taken\": 1\", \"atmosphere\": 1\", \"Institute\": 1\", \"Organization:\": 1\", \"might\": 1\", \"more\": 1\", \"<1993May16.143120.2248@ucsu.Colorado.EDU>\": 1\", \"OK.\": 1\", \"happens\": 1\", \"cantaloupe.srv.cs.cmu.edu\": 1\", \"out\": 1\", \"Xref:\": 1\", \"mbk@inls1.ucsd.edu\": 1\", \"Hubble\": 1\", \"ground-based,\": 1\", \"his\": 1\", \"California,\": 1\", \"were\": 1\", \"sacrilegious,\": 1\", \"caused\": 1\", \"tiny\": 1\", \"visible\": 1\", \"just\": 1\", \"University\": 1\", \"Message-ID:\": 1\", \"still;\": 1\", \"radio,\": 1\", \"misc.consumers:69410\": 1\", \"will\": 1\", \"FAR\": 1\", \"Path:\": 1\", \"then?\": 1\", \"Keck\": 1\", \"done\": 1\", \"nonlinear\": 1\", \"From:\": 1\", \"UCSD\": 1\", \"This\": 1\", \"I'm\": 1\", \"telescopes.\": 1\", \"looking\": 1\", \"NNTP-Posting-Host:\": 1\", \"junk\": 1\", \"extremely\": 1\", \"Subject:\": 1\", \"seem\": 1\", \"wouldn't\": 1\", \"sure\": 1\", \"username\": 1\", \"eyes,\": 1\", \"weeks\": 1\", \"distortions\": 1\", \"two\": 1\", \"Kennel\": 1\", \"satellites\": 1\", \"misc.rural:6404\": 1\", \"and\": 1\", \"papers\": 1\", \"observation\": 1\", \"in\": 1\", \"(Frank\": 1\", \"itself\": 1\", \"use\": 1\", \"fraction\": 1\", \"any\": 1\", \"talk.politics.space:2934\": 1\", \"credibility\": 1\", \"like\": 1\", \"light.\": 1\", \"sci.environment:30893\": 1\", \"it\": 1\", \"rec.backcountry:32440\": 1\", \"billboards\": 1\", \"Date:\": 1\", \"Marketing\": 1\", \"In\": 1\", \"References:\": 1\", \"through\": 1\", \"May\": 1\", \"Newsgroups:\": 1\", \"time\": 1\", \"point\": 1\", \"observations.\": 1\", \"astronomer.\": 1\", \"doesn't\": 1\", \"brighter\": 1\", \"34\": 1\", \"lyapunov.ucsd.edu\": 1\", \"Modern,\": 1\", \"pictures;\": 1\", \"telescope\": 1\", \"16\": 1\", \"or\": 1\", \"(and\": 1\", \"sci.space:62709\": 1\", \"most\": 1\", \"Sagan\": 1\", \"over\": 1\", \"-Institute\": 1\"\n",
      "./20_newsgroups/sci.space/62478\n",
      "\"to\": 22\", \"of\": 15\", \"the\": 14\", \"a\": 10\", \"it\": 8\", \"and\": 7\", \">\": 7\", \"for\": 6\", \"that\": 5\", \"be\": 4\", \"In\": 4\", \"if\": 4\", \"on\": 4\", \"they\": 4\", \"have\": 4\", \"Mr.\": 3\", \"when\": 3\", \"claim\": 3\", \"first\": 3\", \"not\": 3\", \"by\": 3\", \"is\": 3\", \"night\": 3\", \"their\": 3\", \"as\": 3\", \"Hart\": 3\", \"can\": 3\", \"in\": 3\", \"every\": 3\", \"would\": 3\", \"give\": 2\", \"law.\": 2\", \"about\": 2\", \"who\": 2\", \"get\": 2\", \"work,\": 2\", \"agree\": 2\", \"sky\": 2\", \"own\": 2\", \"will\": 2\", \">the\": 2\", \"land\": 2\", \"instead\": 2\", \"This\": 2\", \"long\": 2\", \"Even\": 2\", \"use\": 2\", \"them.\": 2\", \"nation\": 2\", \"Northwestern\": 2\", \"right\": 2\", \"money\": 2\", \"problem.\": 2\", \"astronomers\": 2\", \"owned\": 2\", \"solve\": 2\", \"common\": 2\", \"this\": 2\", \"ought\": 2\", \"light\": 2\", \"are\": 2\", \"free\": 2\", \"how\": 2\", \"some\": 2\", \"also\": 2\", \"need\": 2\", \"<C760Dv.K75@agora.rain.com>\": 2\", \"but\": 2\", \"proposal\": 2\", \"etc.\": 2\", \"do\": 2\", \"might\": 2\", \"most\": 2\", \"resort\": 1\", \"Re:\": 1\", \"space\": 1\", \"too\": 1\", \"anti-satelite\": 1\", \">we\": 1\", \"misc.headlines:42267\": 1\", \"war\": 1\", \">it.\": 1\", \"Mon,\": 1\", \"even\": 1\", \"amateur\": 1\", \"corporation\": 1\", \"telescopes\": 1\", \"Univ\": 1\", \"sci.environment,misc.consumers,misc.invest,sci.astro,talk.environment,talk.politics.space,sci.space,rec.backcountry,misc.rural,misc.headlines,k12.chat.teacher,misc.legal\": 1\", \"thousands\": 1\", \"our\": 1\", \"Lines:\": 1\", \"stop\": 1\", \"From:\": 1\", \"around\": 1\", \"len@schur.math.nwu.edu\": 1\", \"laid\": 1\", \"Sender:\": 1\", \"polluters),\": 1\", \"Congresscritters:\": 1\", \"new\": 1\", \">think\": 1\", \">methods\": 1\", \"sci.environment:30750\": 1\", \"Space\": 1\", \"solution,\": 1\", \"currently\": 1\", \">letters\": 1\", \">more\": 1\", \"pioneers\": 1\", \"at\": 1\", \"using\": 1\", \"Now,\": 1\", \"make\": 1\", \"done\": 1\", \"jhart@agora.rain.com\": 1\", \"everything\": 1\", \"GMT\": 1\", \"Of\": 1\", \">If\": 1\", \"Math,\": 1\", \">by\": 1\", \"sordid\": 1\", \"always\": 1\", \"Nntp-Posting-Host:\": 1\", \"ownership.\": 1\", \"wonderfull.\": 1\", \"<C75A0p.8DK@news.cso.uiuc.edu>\": 1\", \"explicitly\": 1\", \"talk.politics.space:2872\": 1\", \"years\": 1\", \"course,\": 1\", \"against\": 1\", \"work.\": 1\", \"up\": 1\", \"lands\": 1\", \"explain\": 1\", \"growing\": 1\", \">Another\": 1\", \"folks\": 1\", \"probably\": 1\", \"consensus\": 1\", \"ownership\": 1\", \"regulations,\": 1\", \"law\"\": 1\", \"(Len\": 1\", \">Jim\": 1\", \">solve\": 1\", \"individuals.\": 1\", \"passage\": 1\", \"public\": 1\", \">use,\": 1\", \"<1993May17.133444.5922@news.acns.nwu.edu>\": 1\", \"needs\": 1\", \"Dept\": 1\", \"cantaloupe.srv.cs.cmu.edu\": 1\", \"resources,\": 1\", \"Xref:\": 1\", \"putting\": 1\", \"include\": 1\", \"enough\": 1\", \"organization\": 1\", \"could\": 1\", \">dispute,\": 1\", \"equipment,\": 1\", \"len@math.nwu.edu\": 1\", \"let's\": 1\", \"Message-ID:\": 1\", \">weren't\": 1\", \"image\": 1\", \">astronomers.\": 1\", \"please\": 1\", \"defend\": 1\", \"clearing\": 1\", \">jhart@agora.rain.com\": 1\", \"Hart)\": 1\", \"invoking\": 1\", \">Astronomers\": 1\", \">\"they\"\": 1\", \"consensus,\": 1\", \"should\": 1\", \"missiles\": 1\", \"market,\": 1\", \"America,\": 1\", \"power\": 1\", \"noticed,\": 1\", \"13:34:44\": 1\", \"rights.\": 1\", \"true\": 1\", \"principle\": 1\", \"Some\": 1\", \"over.\": 1\", \">space\": 1\", \"failed?)\": 1\", \"up,\": 1\", \"follows\": 1\", \"708-491-5537\": 1\", \"Mathematics,\": 1\", \"think\": 1\", \"were\": 1\", \"taxing\": 1\", \">begets\": 1\", \"English\": 1\", \"one\": 1\", \"Evanston,\": 1\", \"Date:\": 1\", \"Marketing\": 1\", \"(why\": 1\", \"trespassers\": 1\", \"May\": 1\", \"what.\": 1\", \"bribed\": 1\", \"international\": 1\", \"lose\": 1\", \"schur.math.nwu.edu\": 1\", \"earth\": 1\", \"60208\": 1\", \">(eg\": 1\", \"governmental\": 1\", \"sci.space:62478\": 1\", \"buy\": 1\", \"there\": 1\", \"been\": 1\", \"sky,\": 1\", \"17\": 1\", \"power,\": 1\", \"inhabitants\": 1\", \"aboriginal\": 1\", \"days\": 1\", \"environmentalists\": 1\", \"\"astronomers\"\": 1\", \"an\": 1\", \"super\": 1\", \"`coercion'.\": 1\", \"advertising\": 1\", \"discourage\": 1\", \"hasn't\": 1\", \"scarce,\": 1\", \"taken\": 1\", \"--\": 1\", \"talk.environment:12248\": 1\", \"case\": 1\", \"sense\": 1\", \"billboards\": 1\", \"everything,\": 1\", \"complained\": 1\", \"wild\": 1\", \"history,\": 1\", \"sci.astro:36051\": 1\", \"If\": 1\", \"they've\": 1\", \"(eg\": 1\", \"voluntary\": 1\", \"lay\": 1\", \"news.acns)\": 1\", \"go\": 1\", \"other\": 1\", \"pass\": 1\", \"\"we\": 1\", \"Hart.\": 1\", \"course\": 1\", \"1993\": 1\", \"example)\": 1\", \"misc.invest:42673\": 1\", \"Univ.,\": 1\", \"attacked,\": 1\", \"cantaloupe.srv.cs.cmu.edu!rochester!udel!darwin.sura.net!zaphod.mps.ohio-state.edu!news.acns.nwu.edu!schur!len\": 1\", \"eg\": 1\", \"problems\": 1\", \"going\": 1\", \"usenet@news.acns.nwu.edu\": 1\", \"system\": 1\", \"filters,\": 1\", \"Newsgroups:\": 1\", \"Leonard\": 1\", \"politicians\": 1\", \"consequence\": 1\", \"ideas\": 1\", \"it.\": 1\", \"working\": 1\", \"writes:\": 1\", \"Evens\": 1\", \"misc.rural:6338\": 1\", \"IL\": 1\", \"Evens)\": 1\", \"sell\": 1\", \"hardly\": 1\", \"chance\": 1\", \"gun\": 1\", \"astronomers?\": 1\", \"Usage\": 1\", \"where\": 1\", \"Bosnia\": 1\", \"control\": 1\", \"coercive\": 1\", \"has\": 1\", \"via\": 1\", \"mirrors\": 1\", \"61\": 1\", \">owners\": 1\", \"<pgf.737604987@srl03.cacs.usl.edu>\": 1\", \"article\": 1\", \"crop.\": 1\", \"without\": 1\", \"astronomy\": 1\", \"Would\": 1\", \"last\": 1\", \"Dept.\": 1\", \"wanted\": 1\", \"us\": 1\", \"Organization:\": 1\", \"strong\": 1\", \">So,\": 1\", \"non-coercive.\": 1\", \"set\": 1\", \"out\": 1\", \"writing\": 1\", \"bans,\": 1\", \"opinion\": 1\", \"took\": 1\", \"anybody\": 1\", \"(Jim\": 1\", \"enunciated,\": 1\", \"just\": 1\", \"[Stuff\": 1\", \"property\": 1\", \"actions\": 1\", \"owns\": 1\", \"Path:\": 1\", \"countries,\": 1\", \"arrivals\": 1\", \"such\": 1\", \">polluting\": 1\", \"try\": 1\", \"we\": 1\", \"friendly\": 1\", \"Subject:\": 1\", \"or\": 1\", \"lovers?)\": 1\", \"Check\": 1\", \"enforced\": 1\", \"Remember\": 1\", \"processing\": 1\", \"North\": 1\", \">these\": 1\", \"common-law\": 1\", \"rec.backcountry:32315\": 1\", \"rulers\": 1\", \"\"there\": 1\", \"certainly\": 1\", \"misc.legal:63426\": 1\", \"kind\": 1\", \">they\": 1\", \"`owned'\": 1\", \"deleted]\": 1\", \"References:\": 1\", \"law\",\": 1\", \"nutty\": 1\", \"(Usenet\": 1\", \"(like\": 1\", \"define\": 1\", \"point\": 1\", \"misc.consumers:69256\": 1\", \"Nature\": 1\", \"steps\": 1\", \"extra\": 1\", \"was\": 1\", \"brutal\": 1\", \"before\": 1\", \"noncoercive\": 1\", \"mobilize\": 1\"\n"
     ]
    }
   ],
   "source": [
    "files = [os.path.join('./20_newsgroups/sci.space/', i) for i in os.listdir('./20_newsgroups/sci.space/')]\n",
    "print(files)\n",
    "for f in files:\n",
    "    for word in open(f).read().split():\n",
    "        cnt_dict[f][word] += 1\n",
    "\n",
    "for k, v in cnt_dict.items():\n",
    "    print(k)\n",
    "    print(\", \".join('\"%s\": %d\"' % (s, n) for s, n in sorted(v.items(), reverse=True, key=lambda t: t[1])))"
   ]
  },
  {
   "cell_type": "markdown",
   "metadata": {},
   "source": [
    "---"
   ]
  },
  {
   "cell_type": "markdown",
   "metadata": {},
   "source": [
    "То, что Вы реализовали выше, есть ни что иное, как простая реализация **bag-of-words (мешок слов)** для корпуса из 9 документов."
   ]
  },
  {
   "cell_type": "markdown",
   "metadata": {},
   "source": [
    "## Список материалов для самостоятельного изучения"
   ]
  },
  {
   "cell_type": "markdown",
   "metadata": {},
   "source": [
    "* *Сайт языка Python* - https://www.python.org/"
   ]
  },
  {
   "cell_type": "markdown",
   "metadata": {},
   "source": [
    "* *Курс Python с нуля, можно выполнять задания в интерактивном режиме* - http://pythontutor.ru/"
   ]
  },
  {
   "cell_type": "markdown",
   "metadata": {},
   "source": [
    "* *Новый онлайн-курс по Питону на Coursera от Mail.Ru Group* - https://www.coursera.org/learn/programming-in-python"
   ]
  },
  {
   "cell_type": "markdown",
   "metadata": {},
   "source": [
    "* *Самоучитель Python* - https://pythonworld.ru/samouchitel-python"
   ]
  },
  {
   "cell_type": "markdown",
   "metadata": {},
   "source": [
    "* *Статья про коварности Python* - https://habrahabr.ru/company/mailru/blog/337364/"
   ]
  },
  {
   "cell_type": "markdown",
   "metadata": {},
   "source": [
    "* *Очень полезные трюки в Jupyter Notebook*: https://www.dataquest.io/blog/jupyter-notebook-tips-tricks-shortcuts/"
   ]
  }
 ],
 "metadata": {
  "kernelspec": {
   "display_name": "Python 3",
   "language": "python",
   "name": "python3"
  },
  "language_info": {
   "codemirror_mode": {
    "name": "ipython",
    "version": 3
   },
   "file_extension": ".py",
   "mimetype": "text/x-python",
   "name": "python",
   "nbconvert_exporter": "python",
   "pygments_lexer": "ipython3",
   "version": "3.5.2"
  }
 },
 "nbformat": 4,
 "nbformat_minor": 2
}
