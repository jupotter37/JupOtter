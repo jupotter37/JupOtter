{
  "nbformat": 4,
  "nbformat_minor": 0,
  "metadata": {
    "colab": {
      "provenance": [],
      "collapsed_sections": [
        "KHkk_oVXtzyb",
        "GhnomqzAv39J",
        "-VOt9SdFw3c7",
        "PEMzquqoydm9",
        "eszBSrPN0Am1",
        "uwDuNstyrOEg",
        "f6xSZII90SpR",
        "4zyCMVEdGnaV",
        "5Kgh5Zu1rVzM",
        "1NKM4GI-ratP",
        "lZfzWXwtreHV",
        "-pw6zewDr_gl",
        "BQwTv_sE2HIb",
        "n_EPgR9c2LkW",
        "8amM7jeu2lNc",
        "9KlevkTLo6Ec",
        "9nbbzwhW2u3u"
      ],
      "authorship_tag": "ABX9TyMazXupYzihZ8QVwbXaFGjC"
    },
    "kernelspec": {
      "name": "python3",
      "display_name": "Python 3"
    },
    "language_info": {
      "name": "python"
    }
  },
  "cells": [
    {
      "cell_type": "markdown",
      "source": [
        "# Введение в Python"
      ],
      "metadata": {
        "id": "09LWJSAWwN7W"
      }
    },
    {
      "cell_type": "markdown",
      "source": [
        "## Основы Python"
      ],
      "metadata": {
        "id": "KHkk_oVXtzyb"
      }
    },
    {
      "cell_type": "markdown",
      "source": [
        "### Python как язык программирования\n"
      ],
      "metadata": {
        "id": "6mQjTE7lXEF3"
      }
    },
    {
      "cell_type": "markdown",
      "source": [
        "Python — мультипарадигмальный высокоуровневый язык программирования общего назначения с динамической строгой типизацией и автоматическим управлением памятью"
      ],
      "metadata": {
        "id": "0tcNh-ztXy3U"
      }
    },
    {
      "cell_type": "markdown",
      "source": [
        "### Переменные и данных"
      ],
      "metadata": {
        "id": "A03jWE2bwU3N"
      }
    },
    {
      "cell_type": "markdown",
      "source": [
        "Для того чтобы создать переменную необходимо ее объявить и присвоить значение.  Название переменной в Python должно начинаться с алфавитного символа или со знака подчеркивания и может содержать алфавитно-цифровые символы и знак подчеркивания."
      ],
      "metadata": {
        "id": "BV8ZR7U5qmor"
      }
    },
    {
      "cell_type": "code",
      "source": [
        "name = \"Tom\"\n",
        "\n",
        "userName = \"Tom\" # camel case\n",
        "user_name = \"Tom\" # snake\n",
        "\n",
        "print(name)"
      ],
      "metadata": {
        "colab": {
          "base_uri": "https://localhost:8080/"
        },
        "id": "lXl_mMA1uJv1",
        "outputId": "6c79ad9d-698d-4d6b-8538-34466a038fdd"
      },
      "execution_count": null,
      "outputs": [
        {
          "output_type": "stream",
          "name": "stdout",
          "text": [
            "Tom\n"
          ]
        }
      ]
    },
    {
      "cell_type": "markdown",
      "source": [
        "#### Логические значения (Boolean)\n",
        "\n"
      ],
      "metadata": {
        "id": "5ku0YMierSTq"
      }
    },
    {
      "cell_type": "markdown",
      "source": [
        "Тип bool представляет два логических значения: True (верно, истина) или False (неверно, ложь). Значение True служит для того, чтобы показать, что что-то истинно. Тогда как значение False, наоборот, показывает, что что-то ложно. Пример переменных данного типа:"
      ],
      "metadata": {
        "id": "yOdswm8KwIqi"
      }
    },
    {
      "cell_type": "code",
      "source": [
        "isMarried = False\n",
        "print(isMarried)    # False\n",
        "\n",
        "isAlive = True\n",
        "print(isAlive)      # True"
      ],
      "metadata": {
        "colab": {
          "base_uri": "https://localhost:8080/"
        },
        "id": "uoZIGGBFvWHQ",
        "outputId": "dc2097eb-5b1d-4718-8f19-88359cd2c20b"
      },
      "execution_count": null,
      "outputs": [
        {
          "output_type": "stream",
          "name": "stdout",
          "text": [
            "False\n",
            "True\n"
          ]
        }
      ]
    },
    {
      "cell_type": "markdown",
      "source": [
        "#### Целые числа\n"
      ],
      "metadata": {
        "id": "GhnomqzAv39J"
      }
    },
    {
      "cell_type": "markdown",
      "source": [
        "Тип int представляет целое число, например, 1, 4, 8, 50. Пример\n"
      ],
      "metadata": {
        "id": "5FPcMFFFwNtV"
      }
    },
    {
      "cell_type": "code",
      "source": [
        "age = 21\n",
        "print(\"Возраст:\", age)    # Возраст: 21\n",
        "\n",
        "count = 15\n",
        "print(\"Количество:\", count) # Количество: 15"
      ],
      "metadata": {
        "colab": {
          "base_uri": "https://localhost:8080/"
        },
        "id": "kSyFpCZqv9qq",
        "outputId": "e5878808-90fa-465f-aefb-b07dd3b9924b"
      },
      "execution_count": null,
      "outputs": [
        {
          "output_type": "stream",
          "name": "stdout",
          "text": [
            "Возраст: 21\n",
            "Количество: 15\n"
          ]
        }
      ]
    },
    {
      "cell_type": "markdown",
      "source": [
        "Для указания, что число представлено в двоичной системе, перед числом ставится префикс 0b:"
      ],
      "metadata": {
        "id": "XNkJAX8-wV4i"
      }
    },
    {
      "cell_type": "code",
      "source": [
        "a = 0b11\n",
        "b = 0b1011\n",
        "c = 0b100001\n",
        "print(a)    # 3 в десятичной системе\n",
        "print(b)    # 11 в десятичной системе\n",
        "print(c)    # 33 в десятичной системе"
      ],
      "metadata": {
        "colab": {
          "base_uri": "https://localhost:8080/"
        },
        "id": "2dfpbd-IwZLF",
        "outputId": "8954557b-9e98-4a29-fcdf-2e89a6bc8435"
      },
      "execution_count": null,
      "outputs": [
        {
          "output_type": "stream",
          "name": "stdout",
          "text": [
            "3\n",
            "11\n",
            "33\n"
          ]
        }
      ]
    },
    {
      "cell_type": "markdown",
      "source": [
        "Для указания, что число представлено в  шестнадцатеричной системе, перед числом ставится префикс 0x:"
      ],
      "metadata": {
        "id": "_KaIT76AwnIk"
      }
    },
    {
      "cell_type": "code",
      "source": [
        "a = 0x0A\n",
        "b = 0xFF\n",
        "c = 0xA1\n",
        "print(a)    # 10 в десятичной системе\n",
        "print(b)    # 255 в десятичной системе\n",
        "print(c)    # 161 в десятичной системе"
      ],
      "metadata": {
        "colab": {
          "base_uri": "https://localhost:8080/"
        },
        "id": "4J6zKxhKwum0",
        "outputId": "ba7f7177-7f4c-45fe-b4d6-aab3ae4fbced"
      },
      "execution_count": null,
      "outputs": [
        {
          "output_type": "stream",
          "name": "stdout",
          "text": [
            "10\n",
            "255\n",
            "161\n"
          ]
        }
      ]
    },
    {
      "cell_type": "markdown",
      "source": [
        "#### Числа с плавающей точкой"
      ],
      "metadata": {
        "id": "-VOt9SdFw3c7"
      }
    },
    {
      "cell_type": "markdown",
      "source": [
        "Тип float представляет число с плавающей точкой, например, 1.2 или 34.76. В качесте разделителя целой и дробной частей используется точка."
      ],
      "metadata": {
        "id": "9OaLBeUWw8OU"
      }
    },
    {
      "cell_type": "code",
      "source": [
        "height = 1.68\n",
        "pi = 3.14\n",
        "weight = 68.\n",
        "print(height)   # 1.68\n",
        "print(pi)       # 3.14\n",
        "print(weight)   # 68.0\n",
        "\n",
        "x = 3.9e3\n",
        "print(x)  # 3900.0\n",
        "\n",
        "x = 3.9e-3\n",
        "print(x)  # 0.0039"
      ],
      "metadata": {
        "colab": {
          "base_uri": "https://localhost:8080/"
        },
        "id": "KvkI43maw-oo",
        "outputId": "5d361d86-d0b2-4c65-8be0-4d1dc3418f32"
      },
      "execution_count": null,
      "outputs": [
        {
          "output_type": "stream",
          "name": "stdout",
          "text": [
            "1.68\n",
            "3.14\n",
            "68.0\n",
            "3900.0\n",
            "0.0039\n"
          ]
        }
      ]
    },
    {
      "cell_type": "markdown",
      "source": [
        " #### Комплексные числа"
      ],
      "metadata": {
        "id": "XVgzvhg9yN09"
      }
    },
    {
      "cell_type": "markdown",
      "source": [
        "Тип complex представляет комплексные числа в формате вещественная_часть+мнимая_частьj - после мнимой части указывается суффикс j"
      ],
      "metadata": {
        "id": "nq-Ys0AeySNz"
      }
    },
    {
      "cell_type": "code",
      "source": [
        "complexNumber = 1+2j\n",
        "print(complexNumber)   # (1+2j)"
      ],
      "metadata": {
        "colab": {
          "base_uri": "https://localhost:8080/"
        },
        "id": "ZYNG_RZYyU3o",
        "outputId": "3d3fe61b-13ac-4f5c-8539-9215855961b2"
      },
      "execution_count": null,
      "outputs": [
        {
          "output_type": "stream",
          "name": "stdout",
          "text": [
            "(1+2j)\n"
          ]
        }
      ]
    },
    {
      "cell_type": "markdown",
      "source": [
        "#### Строки"
      ],
      "metadata": {
        "id": "PEMzquqoydm9"
      }
    },
    {
      "cell_type": "markdown",
      "source": [
        "Тип str представляет строки. Строка представляет последовательность символов, заключенную в одинарные или двойные кавычки, например \"hello\" и 'hello'. В Python 3.x строки представляют набор символов в кодировке Unicode"
      ],
      "metadata": {
        "id": "6dCR7bdgyfyP"
      }
    },
    {
      "cell_type": "code",
      "source": [
        "message = \"Hello World!\"\n",
        "print(message)  # Hello World!\n",
        "\n",
        "name = 'Tom'\n",
        "print(name)  # Tom\n",
        "\n",
        "long_string = \"Lorem ipsum dolor sit amet,\\\n",
        "              consectetur adipiscing elit.\\\n",
        "              Suspendisse imperdiet nisi vel \\\n",
        "              mi ultrices cursus. Sed sodales \\\n",
        "              eros vel gravida dapibus.\"\n",
        "\n",
        "\n",
        "long_string = \"\"\"Lorem ipsum dolor sit amet,\n",
        "              consectetur adipiscing elit.\n",
        "              Suspendisse imperdiet nisi vel\n",
        "              mi ultrices cursus. Sed sodales\n",
        "              eros vel gravida dapibus.\"\"\""
      ],
      "metadata": {
        "colab": {
          "base_uri": "https://localhost:8080/"
        },
        "id": "Zm5RmZYByljy",
        "outputId": "1dcb12d9-4aec-41d6-936f-7eef9c9548b5"
      },
      "execution_count": null,
      "outputs": [
        {
          "output_type": "stream",
          "name": "stdout",
          "text": [
            "Hello World!\n",
            "Tom\n"
          ]
        }
      ]
    },
    {
      "cell_type": "markdown",
      "source": [
        "#### Динамическая типизация\n"
      ],
      "metadata": {
        "id": "WpiLS5X9yweq"
      }
    },
    {
      "cell_type": "markdown",
      "source": [
        "Python является языком с динамической типизацией. А это значит, что переменная не привязана жестко к определенному типу.\n",
        "\n",
        "Тип переменной определяется исходя из значения, которое ей присвоено. Так, при присвоении строки в двойных или одинарных кавычках переменная имеет тип str. При присвоении целого числа Python автоматически определяет тип переменной как int. Чтобы определить переменную как объект float, ей присваивается дробное число, в котором разделителем целой и дробной части является точка.\n",
        "\n",
        "При этом в процессе работы программы мы можем изменить тип переменной, присвоив ей значение другого типа:\n",
        "\n"
      ],
      "metadata": {
        "id": "yiex0k8CzAyM"
      }
    },
    {
      "cell_type": "code",
      "source": [
        "userId = \"abc\"  # тип str\n",
        "print(userId)\n",
        "print(type(userId))\n",
        "\n",
        "userId = 234  # тип int\n",
        "print(userId)\n",
        "print(type(userId))"
      ],
      "metadata": {
        "colab": {
          "base_uri": "https://localhost:8080/"
        },
        "id": "4s3EYgBNzDlA",
        "outputId": "8f723d6f-e6d8-492d-df2b-4b6912f9302e"
      },
      "execution_count": null,
      "outputs": [
        {
          "output_type": "stream",
          "name": "stdout",
          "text": [
            "abc\n",
            "<class 'str'>\n",
            "234\n",
            "<class 'int'>\n"
          ]
        }
      ]
    },
    {
      "cell_type": "markdown",
      "source": [
        "### Сложные типы данных"
      ],
      "metadata": {
        "id": "zdMNBMJVqpF5"
      }
    },
    {
      "cell_type": "markdown",
      "source": [
        "#### Список (List)"
      ],
      "metadata": {
        "id": "eszBSrPN0Am1"
      }
    },
    {
      "cell_type": "markdown",
      "source": [
        "Список в Python это:\n",
        "\n",
        "* изменяемый упорядоченный тип данных\n",
        "\n",
        "* последовательность элементов, разделенных между собой запятой и заключенных в квадратные скобки\n",
        "\n"
      ],
      "metadata": {
        "id": "509Wb-D21r4B"
      }
    },
    {
      "cell_type": "markdown",
      "source": [
        "Создание списка с помощью литерала"
      ],
      "metadata": {
        "id": "swsGTMN12qFa"
      }
    },
    {
      "cell_type": "code",
      "source": [
        "list1 = [10,20,30,77]\n",
        "list2 = ['one', 'dog', 'seven']\n",
        "list3 = [1, 20, 4.0, 'word']"
      ],
      "metadata": {
        "id": "35NDvUfm2GLf"
      },
      "execution_count": null,
      "outputs": []
    },
    {
      "cell_type": "markdown",
      "source": [
        "Создание списка с помощью функции list():"
      ],
      "metadata": {
        "id": "a1mWuSOm2QPG"
      }
    },
    {
      "cell_type": "code",
      "source": [
        "list1 = list('router')\n",
        "print(list1)"
      ],
      "metadata": {
        "colab": {
          "base_uri": "https://localhost:8080/"
        },
        "id": "mJCnMcKR2Rpn",
        "outputId": "0ef9a398-2e85-4230-b282-50377c791bf8"
      },
      "execution_count": null,
      "outputs": [
        {
          "output_type": "stream",
          "name": "stdout",
          "text": [
            "['r', 'o', 'u', 't', 'e', 'r']\n"
          ]
        }
      ]
    },
    {
      "cell_type": "markdown",
      "source": [
        "Для обращения к элементам списка надо использовать индексы, которые представляют номер элемента в списка. Индексы начинаются с нуля. То есть первый элемент будет иметь индекс 0, второй элемент - индекс 1 и так далее. Для обращения к элементам с конца можно использовать отрицательные индексы, начиная с -1. То есть у последнего элемента будет индекс -1, у предпоследнего - -2 и так далее."
      ],
      "metadata": {
        "id": "Ng_1kz5Q2dA4"
      }
    },
    {
      "cell_type": "code",
      "source": [
        "people = [\"Tom\", \"Sam\", \"Bob\"]\n",
        "# получение элементов с начала списка\n",
        "print(people[0])   # Tom\n",
        "print(people[1])   # Sam\n",
        "print(people[2])   # Bob\n",
        "\n",
        "# получение элементов с конца списка\n",
        "print(people[-2])   # Sam\n",
        "print(people[-1])   # Bob\n",
        "print(people[-3])   # Tom"
      ],
      "metadata": {
        "colab": {
          "base_uri": "https://localhost:8080/"
        },
        "id": "C9-bFwIK2--1",
        "outputId": "6b00c1e5-c698-4a58-f55c-0b5006d1c9bd"
      },
      "execution_count": null,
      "outputs": [
        {
          "output_type": "stream",
          "name": "stdout",
          "text": [
            "Tom\n",
            "Sam\n",
            "Bob\n",
            "Sam\n",
            "Bob\n",
            "Tom\n"
          ]
        }
      ]
    },
    {
      "cell_type": "markdown",
      "source": [
        "Если необходимо получить какую-то определенную часть списка, то мы можем применять специальный синтаксис, который может принимать следующие формы:\n",
        "\n",
        "list[:end]: через параметр end передается индекс элемента, до которого нужно копировать список\n",
        "\n",
        "list[start:end]: параметр start указывает на индекс элемента, начиная с которого надо скопировать элементы\n",
        "\n",
        "list[start:end:step]: параметр step указывает на шаг, через который будут копироваться элементы из списка. По умолчанию этот параметр равен 1."
      ],
      "metadata": {
        "id": "uR4qbrS73QGd"
      }
    },
    {
      "cell_type": "code",
      "source": [
        "people = [\"Tom\", \"Bob\", \"Alice\", \"Sam\", \"Tim\", \"Bill\"]\n",
        "\n",
        "slice_people1 = people[:3]   # с 0 по 3\n",
        "print(slice_people1)   # [\"Tom\", \"Bob\", \"Alice\"]\n",
        "\n",
        "slice_people2 = people[1:3]   # с 1 по 3\n",
        "print(slice_people2)   # [\"Bob\", \"Alice\"]\n",
        "\n",
        "slice_people3 = people[1:6:2]   # с 1 по 6 с шагом 2\n",
        "print(slice_people3)   # [\"Bob\", \"Sam\", \"Bill\"]"
      ],
      "metadata": {
        "id": "Tk6XLjWA3TjN"
      },
      "execution_count": null,
      "outputs": []
    },
    {
      "cell_type": "markdown",
      "source": [
        "Для добавления элемента применяются методы append(), extend и insert, а для удаления - методы remove(), pop() и clear().\n",
        "\n"
      ],
      "metadata": {
        "id": "b5Q_WRRX3jqC"
      }
    },
    {
      "cell_type": "code",
      "source": [
        "eople = [\"Tom\", \"Bob\"]\n",
        "\n",
        "# добавляем в конец списка\n",
        "people.append(\"Alice\")  # [\"Tom\", \"Bob\", \"Alice\"]\n",
        "# добавляем на вторую позицию\n",
        "people.insert(1, \"Bill\")  # [\"Tom\", \"Bill\", \"Bob\", \"Alice\"]\n",
        "# добавляем набор элементов [\"Mike\", \"Sam\"]\n",
        "people.extend([\"Mike\", \"Sam\"])      # [\"Tom\", \"Bill\", \"Bob\", \"Alice\", \"Mike\", \"Sam\"]\n",
        "# получаем индекс элемента\n",
        "index_of_tom = people.index(\"Tom\")\n",
        "# удаляем по этому индексу\n",
        "removed_item = people.pop(index_of_tom)     # [\"Bill\", \"Bob\", \"Alice\", \"Mike\", \"Sam\"]\n",
        "# удаляем последний элемент\n",
        "last_item = people.pop()     # [\"Bill\", \"Bob\", \"Alice\", \"Mike\"]\n",
        "# удаляем элемент \"Alice\"\n",
        "people.remove(\"Alice\")      # [\"Bill\", \"Bob\", \"Mike\"]\n",
        "print(people)       # [\"Bill\", \"Bob\", \"Mike\"]\n",
        "# удаляем все элементы\n",
        "people.clear()\n",
        "print(people)       # []"
      ],
      "metadata": {
        "colab": {
          "base_uri": "https://localhost:8080/"
        },
        "id": "LpZiztSo3lUi",
        "outputId": "907a2da8-108e-491f-f8d1-10a443289af8"
      },
      "execution_count": null,
      "outputs": [
        {
          "output_type": "stream",
          "name": "stdout",
          "text": [
            "['Bill', 'Sam', 'Bob', 'Mike']\n",
            "[]\n"
          ]
        }
      ]
    },
    {
      "cell_type": "markdown",
      "source": [
        "#### Словарь (Dictionary)"
      ],
      "metadata": {
        "id": "uwDuNstyrOEg"
      }
    },
    {
      "cell_type": "markdown",
      "source": [
        "Словарь (dictionary) в языке Python хранит коллекцию элементов, где каждый элемент имеет уникальный ключ и ассоциированое с ним некоторое значение.\n",
        "В фигурных скобках через запятую определяется последовательность элементов, где для каждого элемента сначала указывается ключ и через двоеточие его значение.\n"
      ],
      "metadata": {
        "id": "Vu8qkMKcEQYl"
      }
    },
    {
      "cell_type": "code",
      "source": [
        "users = {1: \"Tom\", 2: \"Bob\", 3: \"Bill\"}\n",
        "emails = {\"tom@gmail.com\": \"Tom\", \"bob@gmai.com\": \"Bob\", \"sam@gmail.com\": \"Sam\"}\n",
        "\n",
        "\n",
        "users_list = [\n",
        "    [\"+111123455\", \"Tom\"],\n",
        "    [\"+384767557\", \"Bob\"],\n",
        "    [\"+958758767\", \"Alice\"]\n",
        "]\n",
        "users_dict = dict(users_list)\n",
        "print(users_dict)      # {\"+111123455\": \"Tom\", \"+384767557\": \"Bob\", \"+958758767\": \"Alice\"}"
      ],
      "metadata": {
        "colab": {
          "base_uri": "https://localhost:8080/"
        },
        "id": "TwsDmD9QEeZr",
        "outputId": "3a8d868b-27cb-44da-eb1a-7cb569532355"
      },
      "execution_count": null,
      "outputs": [
        {
          "output_type": "stream",
          "name": "stdout",
          "text": [
            "{'+111123455': 'Tom', '+384767557': 'Bob', '+958758767': 'Alice'}\n"
          ]
        }
      ]
    },
    {
      "cell_type": "markdown",
      "source": [
        "Для обращения к элементам словаря после его названия в квадратных скобках указывается ключ элемента"
      ],
      "metadata": {
        "id": "qEfpDthuE5UN"
      }
    },
    {
      "cell_type": "code",
      "source": [
        "users = {\n",
        "    \"+11111111\": \"Tom\",\n",
        "    \"+33333333\": \"Bob\",\n",
        "    \"+55555555\": \"Alice\"\n",
        "}\n",
        "\n",
        "# получаем элемент с ключом \"+11111111\"\n",
        "print(users[\"+11111111\"])      # Tom\n",
        "\n",
        "# установка значения элемента с ключом \"+33333333\"\n",
        "users[\"+33333333\"] = \"Bob Smith\"\n",
        "print(users[\"+33333333\"])   # Bob Smith\n"
      ],
      "metadata": {
        "id": "1C4ShH_oE7H5"
      },
      "execution_count": null,
      "outputs": []
    },
    {
      "cell_type": "markdown",
      "source": [
        "Eсли при установки значения элемента с таким ключом в словаре не окажется, то произойдет его добавление:"
      ],
      "metadata": {
        "id": "OF9JcsRcEWii"
      }
    },
    {
      "cell_type": "code",
      "source": [
        "users[\"+4444444\"] = \"Sam\"\n",
        "print(users)"
      ],
      "metadata": {
        "colab": {
          "base_uri": "https://localhost:8080/"
        },
        "id": "NJRWHsaGFV5w",
        "outputId": "341288d1-b167-483a-8c9c-cc647af33d37"
      },
      "execution_count": null,
      "outputs": [
        {
          "output_type": "stream",
          "name": "stdout",
          "text": [
            "{1: 'Tom', 2: 'Bob', 3: 'Bill', '+4444444': 'Sam'}\n"
          ]
        }
      ]
    },
    {
      "cell_type": "markdown",
      "source": [
        "Для удаления элемента по ключу применяется оператор del"
      ],
      "metadata": {
        "id": "RdM9pEEaFe_a"
      }
    },
    {
      "cell_type": "code",
      "source": [
        "users = {\n",
        "    \"+11111111\": \"Tom\",\n",
        "    \"+33333333\": \"Bob\",\n",
        "    \"+55555555\": \"Alice\"\n",
        "}\n",
        "\n",
        "del users[\"+55555555\"]\n",
        "print(users)    # { \"+11111111\": \"Tom\", \"+33333333\": \"Bob\"}"
      ],
      "metadata": {
        "colab": {
          "base_uri": "https://localhost:8080/"
        },
        "id": "eidbiIUUFh1B",
        "outputId": "00f30efb-227d-49f5-ca81-cb0a52c89b0c"
      },
      "execution_count": null,
      "outputs": [
        {
          "output_type": "stream",
          "name": "stdout",
          "text": [
            "{'+11111111': 'Tom', '+33333333': 'Bob'}\n"
          ]
        }
      ]
    },
    {
      "cell_type": "markdown",
      "source": [
        "#### Кортеж (Tuple)"
      ],
      "metadata": {
        "id": "f6xSZII90SpR"
      }
    },
    {
      "cell_type": "markdown",
      "source": [
        "Кортеж (tuple) представляет последовательность элементов, которая во многом похожа на список за тем исключением, что кортеж является неизменяемым (immutable) типом. Поэтому мы не можем добавлять или удалять элементы в кортеже, изменять его.\n",
        "\n",
        "Для создания кортежа используются круглые скобки, в которые помещаются его значения, разделенные запятыми"
      ],
      "metadata": {
        "id": "j-0-rnzC3kmQ"
      }
    },
    {
      "cell_type": "code",
      "source": [
        "tom = (\"Tom\", 23)\n",
        "print(tom)     # (\"Tom\", 23)"
      ],
      "metadata": {
        "colab": {
          "base_uri": "https://localhost:8080/"
        },
        "id": "xMcIyQghFuIa",
        "outputId": "7c1734c0-0993-460e-f648-9090e3d50009"
      },
      "execution_count": 23,
      "outputs": [
        {
          "output_type": "stream",
          "name": "stdout",
          "text": [
            "('Tom', 23)\n"
          ]
        }
      ]
    },
    {
      "cell_type": "markdown",
      "source": [
        "Для создания кортежа из другого набора элементов, например, из списка, можно передать список в функцию tuple(), которая возвратит кортеж"
      ],
      "metadata": {
        "id": "g-XMdIaWGKXZ"
      }
    },
    {
      "cell_type": "code",
      "source": [
        "data = [\"Tom\", 37, \"Google\"]\n",
        "tom = tuple(data)\n",
        "print(tom)      # (\"Tom\", 37, \"Google\")"
      ],
      "metadata": {
        "id": "F7aKh2J-GK7c",
        "colab": {
          "base_uri": "https://localhost:8080/"
        },
        "outputId": "9d9c0950-247e-4dd1-f277-2847e9addad0"
      },
      "execution_count": 24,
      "outputs": [
        {
          "output_type": "stream",
          "name": "stdout",
          "text": [
            "('Tom', 37, 'Google')\n"
          ]
        }
      ]
    },
    {
      "cell_type": "markdown",
      "source": [
        "Обращение к элементам в кортеже происходит также, как и в списке, по индексу. Индексация начинается также с нуля при получении элементов с начала списка и с -1 при получении элементов с конца списка"
      ],
      "metadata": {
        "id": "CQ5ygUZzGSiv"
      }
    },
    {
      "cell_type": "code",
      "source": [
        "tom = (\"Tom\", 37, \"Google\", \"software developer\")\n",
        "print(tom[0])       # Tom\n",
        "print(tom[1])       # 37\n",
        "print(tom[-1])      # software developer"
      ],
      "metadata": {
        "id": "KFV_5I-BGKBr",
        "colab": {
          "base_uri": "https://localhost:8080/"
        },
        "outputId": "e70f07f7-355e-4281-db0a-32e3b0924cad"
      },
      "execution_count": 25,
      "outputs": [
        {
          "output_type": "stream",
          "name": "stdout",
          "text": [
            "Tom\n",
            "37\n",
            "software developer\n"
          ]
        }
      ]
    },
    {
      "cell_type": "markdown",
      "source": [
        "#### Множество (Set)"
      ],
      "metadata": {
        "id": "4zyCMVEdGnaV"
      }
    },
    {
      "cell_type": "markdown",
      "source": [
        "Множество (set) представляют еще один вид набора, который хранит только уникальные элементы. Для определения множества используются фигурные скобки, в которых перечисляются элементы"
      ],
      "metadata": {
        "id": "sb5Y-BGcGuoV"
      }
    },
    {
      "cell_type": "code",
      "source": [
        "users = {\"Tom\", \"Bob\", \"Alice\", \"Tom\"}\n",
        "print(users)    # {\"Alice\", \"Bob\", \"Tom\"}"
      ],
      "metadata": {
        "id": "BmcnE37zGvem"
      },
      "execution_count": null,
      "outputs": []
    },
    {
      "cell_type": "markdown",
      "source": [
        "Также для определения множества может применяться функция set(), в которую передается список или кортеж элементов"
      ],
      "metadata": {
        "id": "472bi9CpGxrJ"
      }
    },
    {
      "cell_type": "code",
      "source": [
        "people = [\"Mike\", \"Bill\", \"Ted\"]\n",
        "users = set(people)\n",
        "print(users)    # {\"Mike\", \"Bill\", \"Ted\"}"
      ],
      "metadata": {
        "id": "COjFAvIZG0Hm"
      },
      "execution_count": null,
      "outputs": []
    },
    {
      "cell_type": "markdown",
      "source": [
        "Для добавления одиночного элемента вызывается метод add()"
      ],
      "metadata": {
        "id": "XiGdeuJiG5bt"
      }
    },
    {
      "cell_type": "code",
      "source": [
        "users = set()\n",
        "users.add(\"Sam\")\n",
        "print(users)"
      ],
      "metadata": {
        "colab": {
          "base_uri": "https://localhost:8080/"
        },
        "id": "h-Z168EMG6X0",
        "outputId": "8a364e6b-29bb-4187-ceb8-ae3ddb6317cd"
      },
      "execution_count": null,
      "outputs": [
        {
          "output_type": "stream",
          "name": "stdout",
          "text": [
            "{'Sam'}\n"
          ]
        }
      ]
    },
    {
      "cell_type": "markdown",
      "source": [
        "Для удаления одного элемента вызывается метод remove()"
      ],
      "metadata": {
        "id": "petRN4ZsHBG7"
      }
    },
    {
      "cell_type": "code",
      "source": [
        "users = {\"Tom\", \"Bob\", \"Alice\"}\n",
        "\n",
        "user = \"Tom\"\n",
        "if user in users:\n",
        "    users.remove(user)\n",
        "print(users)    # {\"Bob\", \"Alice\"}\n"
      ],
      "metadata": {
        "colab": {
          "base_uri": "https://localhost:8080/"
        },
        "id": "wm6VGmHXHDna",
        "outputId": "ffb6bd8e-a04e-4f73-da13-15a016ec36cb"
      },
      "execution_count": null,
      "outputs": [
        {
          "output_type": "stream",
          "name": "stdout",
          "text": [
            "{'Bob', 'Alice'}\n"
          ]
        }
      ]
    },
    {
      "cell_type": "markdown",
      "source": [
        "Метод union() объединяет два множества и возвращает новое множество.\n",
        "Пересечение множеств позволяет получить только те элементы, которые есть одновременно в обоих множествах. Метод intersection()\n",
        "Еще одна операция - разность множеств возвращает те элементы, которые есть в первом множестве, но отсутствуют во втором. Для получения разности множеств можно использовать метод difference или операцию вычитания"
      ],
      "metadata": {
        "id": "_cd8sOT7HKdf"
      }
    },
    {
      "cell_type": "code",
      "source": [
        "# Объединение\n",
        "users = {\"Tom\", \"Bob\", \"Alice\"}\n",
        "users2 = {\"Sam\", \"Kate\", \"Bob\"}\n",
        "\n",
        "users3 = users.union(users2)\n",
        "print(users3)   # {\"Bob\", \"Alice\", \"Sam\", \"Kate\", \"Tom\"}\n",
        "\n",
        "# Пересечение\n",
        "users = {\"Tom\", \"Bob\", \"Alice\"}\n",
        "users2 = {\"Sam\", \"Kate\", \"Bob\"}\n",
        "\n",
        "users3 = users.intersection(users2)\n",
        "print(users3)   # {\"Bob\"}\n",
        "\n",
        "# Разность\n",
        "users = {\"Tom\", \"Bob\", \"Alice\"}\n",
        "users2 = {\"Sam\", \"Kate\", \"Bob\"}\n",
        "\n",
        "users3 = users.difference(users2)\n",
        "print(users3)           # {\"Tom\", \"Alice\"}\n",
        "print(users - users2)   # {\"Tom\", \"Alice\"}"
      ],
      "metadata": {
        "id": "bDU_v8lcHVLE"
      },
      "execution_count": null,
      "outputs": []
    },
    {
      "cell_type": "markdown",
      "source": [
        "### Операторы ветвления"
      ],
      "metadata": {
        "id": "5Kgh5Zu1rVzM"
      }
    },
    {
      "cell_type": "markdown",
      "source": [
        "Условная инструкция if-elif-else (её ещё иногда называют оператором ветвления) - основной инструмент выбора в Python. Проще говоря, она выбирает, какое действие следует выполнить, в зависимости от значения переменных в момент проверки условия.\n",
        "\n",
        "Сначала записывается часть if с условным выражением, далее могут следовать одна или более необязательных частей elif, и, наконец, необязательная часть else. Общая форма записи условной инструкции if выглядит следующим образом\n",
        "\n",
        "\n",
        "\n",
        "``` python\n",
        "if логическое_выражение:\n",
        "    инструкции\n",
        "[elif логическое выражение:\n",
        "    инструкции]\n",
        "[else:\n",
        "    инструкции]\n",
        "```\n",
        "\n"
      ],
      "metadata": {
        "id": "RHMeJ1m9IP7l"
      }
    },
    {
      "cell_type": "code",
      "source": [
        "language = \"german\"\n",
        "if language == \"english\":\n",
        "    print(\"Hello\")\n",
        "    print(\"World\")\n",
        "elif language == \"german\":\n",
        "    print(\"Hallo\")\n",
        "    print(\"Welt\")\n",
        "else:\n",
        "    print(\"Привет\")\n",
        "    print(\"мир\")"
      ],
      "metadata": {
        "id": "AzAkyn-aJSga"
      },
      "execution_count": null,
      "outputs": []
    },
    {
      "cell_type": "markdown",
      "source": [
        "Конструкция if в свою очередь сама может иметь вложенные конструкции if"
      ],
      "metadata": {
        "id": "zNyNnc9dJWqV"
      }
    },
    {
      "cell_type": "code",
      "source": [
        "language = \"english\"\n",
        "daytime = \"morning\"\n",
        "if language == \"english\":\n",
        "    print(\"English\")\n",
        "    if daytime == \"morning\":\n",
        "        print(\"Good morning\")\n",
        "    else:\n",
        "        print(\"Good evening\")"
      ],
      "metadata": {
        "id": "r9HF82B-JXL3"
      },
      "execution_count": null,
      "outputs": []
    },
    {
      "cell_type": "markdown",
      "source": [
        "### Циклы"
      ],
      "metadata": {
        "id": "1NKM4GI-ratP"
      }
    },
    {
      "cell_type": "markdown",
      "source": [
        "Циклы позволяют выполнять некоторое действие в зависимости от соблюдения некоторого условия. В языке Python есть следующие типы циклов:\n",
        " * while\n",
        " * for"
      ],
      "metadata": {
        "id": "6Pq_UfN2KZZb"
      }
    },
    {
      "cell_type": "markdown",
      "source": [
        "Цикл **while** проверяет истинность некоторого условия, и если условие истинно, то выполняет инструкции цикла. Он имеет следующее формальное определение:\n",
        "\n",
        "``` python\n",
        "while условное_выражение:\n",
        "   инструкции\n",
        "```\n",
        "\n"
      ],
      "metadata": {
        "id": "BVXAqFgpKhqm"
      }
    },
    {
      "cell_type": "code",
      "source": [
        "number = 1\n",
        "\n",
        "while number < 5:\n",
        "    print(f\"number = {number}\")\n",
        "    number += 1\n",
        "print(\"Работа программы завершена\")"
      ],
      "metadata": {
        "colab": {
          "base_uri": "https://localhost:8080/"
        },
        "id": "5mVz3fTiKqcY",
        "outputId": "0a3d39eb-5aa7-4284-98c6-e9ca3ca3785c"
      },
      "execution_count": null,
      "outputs": [
        {
          "output_type": "stream",
          "name": "stdout",
          "text": [
            "number = 1\n",
            "number = 2\n",
            "number = 3\n",
            "number = 4\n",
            "Работа программы завершена\n"
          ]
        }
      ]
    },
    {
      "cell_type": "markdown",
      "source": [
        "Другой тип циклов представляет конструкция for. Этот цикл пробегается по набору значений, помещает каждое значение в переменную, и затем в цикле мы можем с этой переменной производить различные действия. Формальное определение цикла for:\n",
        "\n",
        "``` python\n",
        "for переменная in набор_значений:\n",
        "    инструкции\n",
        "```\n",
        "\n"
      ],
      "metadata": {
        "id": "LnEJGNKeKyP_"
      }
    },
    {
      "cell_type": "code",
      "source": [
        "message = \"Hello\"\n",
        "\n",
        "for c in message:\n",
        "    print(c)"
      ],
      "metadata": {
        "id": "T3KhOuFJK-BD"
      },
      "execution_count": null,
      "outputs": []
    },
    {
      "cell_type": "markdown",
      "source": [
        "Нередко в связке с циклом for применяется встроенная функция range(), которая генерирует числовую последовательность"
      ],
      "metadata": {
        "id": "7Dsl9rQXLFhB"
      }
    },
    {
      "cell_type": "code",
      "source": [
        "for n in range(0, 10, 2):\n",
        "    print(n, end=\" \")"
      ],
      "metadata": {
        "id": "QsEKRBmYK_IB"
      },
      "execution_count": null,
      "outputs": []
    },
    {
      "cell_type": "markdown",
      "source": [
        "Одни циклы внутри себя могут содержать другие циклы."
      ],
      "metadata": {
        "id": "fBIYPJUKLMPv"
      }
    },
    {
      "cell_type": "code",
      "source": [
        "i = 1\n",
        "j = 1\n",
        "while i < 10:\n",
        "    while j < 10:\n",
        "        print(i * j, end=\"\\t\")\n",
        "        j += 1\n",
        "    print(\"\\n\")\n",
        "    j = 1\n",
        "    i += 1"
      ],
      "metadata": {
        "colab": {
          "base_uri": "https://localhost:8080/"
        },
        "id": "7ZIg1toFLOK-",
        "outputId": "764889a6-a313-4b89-9da7-3fc3e2b8b0c8"
      },
      "execution_count": null,
      "outputs": [
        {
          "output_type": "stream",
          "name": "stdout",
          "text": [
            "1\t2\t3\t4\t5\t6\t7\t8\t9\t\n",
            "\n",
            "2\t4\t6\t8\t10\t12\t14\t16\t18\t\n",
            "\n",
            "3\t6\t9\t12\t15\t18\t21\t24\t27\t\n",
            "\n",
            "4\t8\t12\t16\t20\t24\t28\t32\t36\t\n",
            "\n",
            "5\t10\t15\t20\t25\t30\t35\t40\t45\t\n",
            "\n",
            "6\t12\t18\t24\t30\t36\t42\t48\t54\t\n",
            "\n",
            "7\t14\t21\t28\t35\t42\t49\t56\t63\t\n",
            "\n",
            "8\t16\t24\t32\t40\t48\t56\t64\t72\t\n",
            "\n",
            "9\t18\t27\t36\t45\t54\t63\t72\t81\t\n",
            "\n"
          ]
        }
      ]
    },
    {
      "cell_type": "markdown",
      "source": [
        "Для управления циклом мы можем использовать специальные операторы break и continue. Оператор break осуществляет выход из цикла. А оператор continue выполняет переход к следующей итерации цикла."
      ],
      "metadata": {
        "id": "59Ipi7oHLT26"
      }
    },
    {
      "cell_type": "code",
      "source": [
        "number = 0\n",
        "while number < 5:\n",
        "    number += 1\n",
        "    if number == 3 :    # если number = 3, выходим из цикла\n",
        "        break\n",
        "    print(f\"number = {number}\")\n"
      ],
      "metadata": {
        "colab": {
          "base_uri": "https://localhost:8080/"
        },
        "id": "nA-7nVmqLVK7",
        "outputId": "1ff1da4a-e631-4abd-8d03-932afefdfa69"
      },
      "execution_count": null,
      "outputs": [
        {
          "output_type": "stream",
          "name": "stdout",
          "text": [
            "number = 1\n",
            "number = 2\n"
          ]
        }
      ]
    },
    {
      "cell_type": "code",
      "source": [
        "number = 0\n",
        "while number < 5:\n",
        "    number += 1\n",
        "    if number == 3 :    # если number = 3, переходим к новой итерации цикла\n",
        "        continue\n",
        "    print(f\"number = {number}\")"
      ],
      "metadata": {
        "colab": {
          "base_uri": "https://localhost:8080/"
        },
        "id": "_FiUmVgnLZfe",
        "outputId": "4b009ba4-f4c6-419f-c895-e461b94a56b8"
      },
      "execution_count": null,
      "outputs": [
        {
          "output_type": "stream",
          "name": "stdout",
          "text": [
            "number = 1\n",
            "number = 2\n",
            "number = 4\n",
            "number = 5\n"
          ]
        }
      ]
    },
    {
      "cell_type": "markdown",
      "source": [
        "### Функции и лямбда выражения"
      ],
      "metadata": {
        "id": "lZfzWXwtreHV"
      }
    },
    {
      "cell_type": "markdown",
      "source": [
        "**Функция** явлеяется способом группирования набора операторов, позволяющим выполннять их более одного раза в программе - упакованной процедурой, вызываемой по имени. Python имеет множество встроенных функций и позволяет определять свои функции. Формальное определение функции\n",
        "\n",
        "``` python\n",
        "def имя_функции ([параметры]):\n",
        "    инструкции\n",
        "```\n",
        "\n",
        "Определение функции начинается с выражения def, которое состоит из имени функции, набора скобок с параметрами и двоеточия. Параметры в скобках необязательны. А со следующей строки идет блок инструкций, которые выполняет функция. Все инструкции функции имеют отступы от начала строки.\n",
        "\n"
      ],
      "metadata": {
        "id": "HUlRYZJAL89y"
      }
    },
    {
      "cell_type": "code",
      "source": [
        "def say_something(phrase): # определение функции say_something\n",
        "    print(phrase)\n",
        "\n",
        "say_something(\"Hello\")     # вызов функции say_something\n",
        "say_something(\"Hello\")     # повторный вызов функии"
      ],
      "metadata": {
        "colab": {
          "base_uri": "https://localhost:8080/"
        },
        "id": "a1Jm29pDMKl2",
        "outputId": "a4c1ddb2-c679-4516-ac3c-6fcaa4712ffe"
      },
      "execution_count": null,
      "outputs": [
        {
          "output_type": "stream",
          "name": "stdout",
          "text": [
            "Hello\n",
            "Hello\n",
            "Hello\n"
          ]
        }
      ]
    },
    {
      "cell_type": "markdown",
      "source": [
        "Функция может возвращать результат. Для этого в функции используется оператор return, после которого указывается возвращаемое значение\n",
        "\n",
        "``` python\n",
        "def имя_функции ([параметры]):\n",
        "    инструкции\n",
        "    return возвращаемое_значение\n",
        "```\n",
        "\n"
      ],
      "metadata": {
        "id": "vlF84xBKMPum"
      }
    },
    {
      "cell_type": "code",
      "source": [
        "def get_message():\n",
        "    return \"Hello, BSU\"\n",
        "\n",
        "\n",
        "message = get_message()  # получаем результат функции get_message в переменную message\n",
        "print(message)          # Hello, BSU\n",
        "\n",
        "# можно напрямую передать результат функции get_message\n",
        "print(get_message())    # Hello, BSU"
      ],
      "metadata": {
        "colab": {
          "base_uri": "https://localhost:8080/"
        },
        "id": "mGEpv_UhMcY6",
        "outputId": "67ffe9b3-2336-49c7-fdd2-6125896b9832"
      },
      "execution_count": null,
      "outputs": [
        {
          "output_type": "stream",
          "name": "stdout",
          "text": [
            "Hello, BSU\n",
            "Hello, BSU\n"
          ]
        }
      ]
    },
    {
      "cell_type": "markdown",
      "source": [
        "В Python функция  представляет собой объект первого класса. То есть мы можем присвоить переменной какую-нибудь функцию и затем, используя переменную, вызывать данную функцию. Так же мы можем передать ее в качестве параметра в другую функцию"
      ],
      "metadata": {
        "id": "xy7IsBEaM83j"
      }
    },
    {
      "cell_type": "code",
      "source": [
        "def say_hello(): print(\"Hello\")\n",
        "def say_goodbye(): print(\"Good Bye\")\n",
        "\n",
        "message = say_hello\n",
        "message()       # Hello\n",
        "message = say_goodbye\n",
        "message()       # Good Bye"
      ],
      "metadata": {
        "id": "iTJmcrdFNFGE"
      },
      "execution_count": null,
      "outputs": []
    },
    {
      "cell_type": "code",
      "source": [
        "def do_operation(a, b, operation):\n",
        "    result = operation(a, b)\n",
        "    print(f\"result = {result}\")\n",
        "\n",
        "def sum(a, b): return a + b\n",
        "def multiply(a, b): return a * b\n",
        "\n",
        "do_operation(5, 4, sum)         # result = 9\n",
        "do_operation(5, 4, multiply)   # result = 20"
      ],
      "metadata": {
        "id": "TPdnvznDNLOq"
      },
      "execution_count": null,
      "outputs": []
    },
    {
      "cell_type": "markdown",
      "source": [
        "Лямбда-выражения в языке Python представляют небольшие анонимные функции, которые определяются с помощью оператора lambda. Формальное определение лямбда-выражения\n",
        "\n",
        "``` python\n",
        "lambda [параметры] : инструкция\n",
        "```\n",
        "\n"
      ],
      "metadata": {
        "id": "6bJe0Er7NQvh"
      }
    },
    {
      "cell_type": "code",
      "source": [
        "square = lambda n: n * n\n",
        "\n",
        "print(square(4))    # 16\n",
        "print(square(5))    # 25"
      ],
      "metadata": {
        "colab": {
          "base_uri": "https://localhost:8080/"
        },
        "id": "tBot-LAgNarh",
        "outputId": "6443291e-5de3-477d-c875-0ff0f9f45627"
      },
      "execution_count": null,
      "outputs": [
        {
          "output_type": "stream",
          "name": "stdout",
          "text": [
            "16\n",
            "25\n"
          ]
        }
      ]
    },
    {
      "cell_type": "markdown",
      "source": [
        "## Объектно-ориентированное программирование"
      ],
      "metadata": {
        "id": "-pw6zewDr_gl"
      }
    },
    {
      "cell_type": "markdown",
      "source": [
        "### Определение класса"
      ],
      "metadata": {
        "id": "zGM8k3DcT4Bq"
      }
    },
    {
      "cell_type": "markdown",
      "source": [
        "Класс в Python фактически является типом данных. Обратное тоже верно - все типы данных, встроенные в Python, представляют собой классы. Класс определяется командой **class**:\n",
        "```python\n",
        "  class MyClass:\n",
        "    тело\n",
        "```\n",
        "Тело класса представляет собой последовательность команд Python — обычно присваиваний переменных и определений функций. Ни присваивания, ни определения\n",
        "функций не обязательны — тело может состоять из единственной команды pass."
      ],
      "metadata": {
        "id": "clynd4uXT_2y"
      }
    },
    {
      "cell_type": "markdown",
      "source": [
        "После определения класса вы можете\n",
        "создать новый объект типа класса (экземпляр класса), для этого следует вызвать имя класса как функцию:"
      ],
      "metadata": {
        "id": "19SPbnjHUq16"
      }
    },
    {
      "cell_type": "code",
      "source": [
        "class MyClass:\n",
        "  pass\n",
        "\n",
        "instance = MyClass()\n",
        "instance"
      ],
      "metadata": {
        "colab": {
          "base_uri": "https://localhost:8080/"
        },
        "id": "b6Bxa7kOZ8A4",
        "outputId": "d8d477ea-4842-4862-b525-2a1eb7d89d4d"
      },
      "execution_count": 7,
      "outputs": [
        {
          "output_type": "execute_result",
          "data": {
            "text/plain": [
              "<__main__.MyClass at 0x7f931dce1d20>"
            ]
          },
          "metadata": {},
          "execution_count": 7
        }
      ]
    },
    {
      "cell_type": "markdown",
      "source": [
        "Доступ к классу"
      ],
      "metadata": {
        "id": "ZrDoDGiS1Ook"
      }
    },
    {
      "cell_type": "code",
      "source": [
        "instance.__class__"
      ],
      "metadata": {
        "colab": {
          "base_uri": "https://localhost:8080/"
        },
        "id": "grTs8ma11JIM",
        "outputId": "07e7a4f3-b3de-45ef-f8a0-f3e0985aa671"
      },
      "execution_count": 48,
      "outputs": [
        {
          "output_type": "execute_result",
          "data": {
            "text/plain": [
              "__main__.MyClass"
            ]
          },
          "metadata": {},
          "execution_count": 48
        }
      ]
    },
    {
      "cell_type": "markdown",
      "source": [
        "### Переменные экземпляров. Инициализация"
      ],
      "metadata": {
        "id": "cld140nDYNHd"
      }
    },
    {
      "cell_type": "markdown",
      "source": [
        "Экземпляры классов (инстанции класса) python могут содержать поля (атрибуты). В отличие\n",
        "от структур C или классов Java, поля данных экземпляра необязательно объявлять\n",
        "заранее, они могут создаваться «на ходу»."
      ],
      "metadata": {
        "id": "i_5wZQC2UeKp"
      }
    },
    {
      "cell_type": "code",
      "source": [
        "class Circle:\n",
        "  pass\n",
        "\n",
        "my_circle = Circle()\n",
        "my_circle.radius = 5\n",
        "print(2 * 3.14 * my_circle.radius)"
      ],
      "metadata": {
        "colab": {
          "base_uri": "https://localhost:8080/"
        },
        "id": "M2AVcWc0Uf55",
        "outputId": "9bfcde0b-e76a-4984-bf49-05688af1a601"
      },
      "execution_count": 18,
      "outputs": [
        {
          "output_type": "stream",
          "name": "stdout",
          "text": [
            "31.400000000000002\n"
          ]
        }
      ]
    },
    {
      "cell_type": "markdown",
      "source": [
        "В таком способе есть огромный недостаток -  атрибуты нужно добавлять для каждого экземпляра класса."
      ],
      "metadata": {
        "id": "b4I3i5avtFU-"
      }
    },
    {
      "cell_type": "code",
      "source": [
        "my_circle2 = Circle()\n",
        "print(2 * 3.14 * my_circle2.radius)"
      ],
      "metadata": {
        "colab": {
          "base_uri": "https://localhost:8080/",
          "height": 166
        },
        "id": "tn5_ZIXaeyOT",
        "outputId": "dee1c538-9f1c-43c5-d5b8-25317fbe5d62"
      },
      "execution_count": 19,
      "outputs": [
        {
          "output_type": "error",
          "ename": "AttributeError",
          "evalue": "'Circle' object has no attribute 'radius'",
          "traceback": [
            "\u001b[0;31m---------------------------------------------------------------------------\u001b[0m",
            "\u001b[0;31mAttributeError\u001b[0m                            Traceback (most recent call last)",
            "\u001b[0;32m<ipython-input-19-58bc72a5d3e7>\u001b[0m in \u001b[0;36m<cell line: 2>\u001b[0;34m()\u001b[0m\n\u001b[1;32m      1\u001b[0m \u001b[0mmy_circle2\u001b[0m \u001b[0;34m=\u001b[0m \u001b[0mCircle\u001b[0m\u001b[0;34m(\u001b[0m\u001b[0;34m)\u001b[0m\u001b[0;34m\u001b[0m\u001b[0;34m\u001b[0m\u001b[0m\n\u001b[0;32m----> 2\u001b[0;31m \u001b[0mprint\u001b[0m\u001b[0;34m(\u001b[0m\u001b[0;36m2\u001b[0m \u001b[0;34m*\u001b[0m \u001b[0;36m3.14\u001b[0m \u001b[0;34m*\u001b[0m \u001b[0mmy_circle2\u001b[0m\u001b[0;34m.\u001b[0m\u001b[0mradius\u001b[0m\u001b[0;34m)\u001b[0m\u001b[0;34m\u001b[0m\u001b[0;34m\u001b[0m\u001b[0m\n\u001b[0m",
            "\u001b[0;31mAttributeError\u001b[0m: 'Circle' object has no attribute 'radius'"
          ]
        }
      ]
    },
    {
      "cell_type": "markdown",
      "source": [
        "Проблему можно решить функией инициализации."
      ],
      "metadata": {
        "id": "1ndzi6tNtkDK"
      }
    },
    {
      "cell_type": "code",
      "source": [
        "def init_circle(circle, radius):\n",
        "  circle.radius = radius\n",
        "\n",
        "my_circle2 = Circle()\n",
        "init_circle(my_circle2, 5)\n",
        "print(2 * 3.14 * my_circle2.radius)\n"
      ],
      "metadata": {
        "colab": {
          "base_uri": "https://localhost:8080/"
        },
        "id": "Ak73SIm9e1kx",
        "outputId": "df980e21-ae8a-4f39-90f2-045483a85dbb"
      },
      "execution_count": 20,
      "outputs": [
        {
          "output_type": "stream",
          "name": "stdout",
          "text": [
            "31.400000000000002\n"
          ]
        }
      ]
    },
    {
      "cell_type": "markdown",
      "source": [
        "Однако можно забыть про ее вызов и вновь получить ошибку."
      ],
      "metadata": {
        "id": "fEirjN2cv5ej"
      }
    },
    {
      "cell_type": "markdown",
      "source": [
        "Для того, чтобы поля класса инициализировались автоматически, используется метод инициализации **`__init__`**. Эта функция выполняется при каждом создании\n",
        "экземпляра класса; при этом новый экземпляр передается в первом аргументе self. Метод **`__init__`** похож на конструктор в языке Java, но он ничего не конструирует, а только инициализирует поля класса. Кроме того, в отличие от классов Java и C++, классы Python могут иметь только один метод **`__init__`**."
      ],
      "metadata": {
        "id": "-yAyUuvdVFG2"
      }
    },
    {
      "cell_type": "code",
      "source": [
        "class Circle:\n",
        "  def __init__(self):\n",
        "    self.radius = 5\n",
        "\n",
        "my_circle = Circle()\n",
        "print(2 * 3.14 * my_circle.radius)"
      ],
      "metadata": {
        "colab": {
          "base_uri": "https://localhost:8080/"
        },
        "id": "g_FMF1OjVjql",
        "outputId": "8a128038-f977-43dc-87e1-09b00b55703a"
      },
      "execution_count": 3,
      "outputs": [
        {
          "output_type": "stream",
          "name": "stdout",
          "text": [
            "31.400000000000002\n"
          ]
        }
      ]
    },
    {
      "cell_type": "markdown",
      "source": [
        "Начальное значение поля можно передать на вход метода **`__init__`**"
      ],
      "metadata": {
        "id": "hglbk184Y3E9"
      }
    },
    {
      "cell_type": "code",
      "source": [
        "class Circle:\n",
        "  def __init__(self, radius = 5):\n",
        "    self.radius = radius\n",
        "\n",
        "my_circle = Circle(1)\n",
        "print(2 * 3.14 * my_circle.radius)"
      ],
      "metadata": {
        "colab": {
          "base_uri": "https://localhost:8080/"
        },
        "id": "_bekSGLLYpoz",
        "outputId": "b3865704-5168-4619-dd90-f833dbbd0007"
      },
      "execution_count": 5,
      "outputs": [
        {
          "output_type": "stream",
          "name": "stdout",
          "text": [
            "6.28\n"
          ]
        }
      ]
    },
    {
      "cell_type": "markdown",
      "source": [
        "Подытожим, каждый экземпляр класса  содержит собственную копию переменной, а значение, хранящееся в этой копии, может отличаться от значений, хранящихся в переменной других экземпляров. Python позволяет создавать переменные экземпляров по мере\n",
        "необходимости, присваивая значение полю экземпляра класса:\n",
        "instance.variable = value\n",
        "Если переменная еще не существует, она автоматически создается. Именно так\n",
        "в __init__ будет создана переменная экземпляра класса.\n",
        "При любом использовании переменных экземпляров (как для присваивания, так\n",
        "и для обращения) требуется явно указать экземпляр, то есть используется син-\n",
        "таксис\n",
        "``` python\n",
        "экземпляр.переменная\n",
        "```"
      ],
      "metadata": {
        "id": "sgzZ1BhjuzSh"
      }
    },
    {
      "cell_type": "markdown",
      "source": [
        "### Методы"
      ],
      "metadata": {
        "id": "HN1qA3fowplW"
      }
    },
    {
      "cell_type": "markdown",
      "source": [
        "Метод представляет собой функцию, связанную с конкретным классом. Вы уже\n",
        "видели специальный метод **`__init__`**, который вызывается для нового экземпляра\n",
        "при его создании. В следующем примере определяется другой метод area для класса\n",
        "Circle; этот метод вычисляет и возвращает площадь круга для экземпляра Circle.\n",
        "Как и большинство методов, определяемых пользователем, метод area вызывается\n",
        "в синтаксисе вызова методов, напоминающем обращения к переменным экземпляров"
      ],
      "metadata": {
        "id": "kh0KBju1wzvL"
      }
    },
    {
      "cell_type": "code",
      "source": [
        "class Circle:\n",
        "  def __init__(self, radius = 1):\n",
        "    self.radius = radius\n",
        "  def area(self):\n",
        "    return self.radius * self.radius * 3.14159\n",
        "\n",
        "c = Circle(3)\n",
        "print(c.area())\n"
      ],
      "metadata": {
        "colab": {
          "base_uri": "https://localhost:8080/"
        },
        "id": "R_TXjJYoxP2g",
        "outputId": "e2239acb-cdc6-4e9b-c78f-ccb65694c759"
      },
      "execution_count": 22,
      "outputs": [
        {
          "output_type": "stream",
          "name": "stdout",
          "text": [
            "28.27431\n",
            "28.27431\n"
          ]
        }
      ]
    },
    {
      "cell_type": "markdown",
      "source": [
        "В вызове методов в Python нет ничего мистического; можно считать его сокра-\n",
        "щенной записью для обычного вызова функций. Встретив вызов метода instance.\n",
        "method(arg1, arg2, . . .), Python преобразует его в обычный вызов функции по\n",
        "следующим правилам:\n",
        "\n",
        "*   Провести поиск имени метода в пространстве имен экземпляра. Если метод был\n",
        "изменен или добавлен в данный экземпляр, ему отдается предпочтение перед\n",
        "методами класса или суперкласса.\n",
        "*   Если метод не обнаружен в пространстве имен экземпляра, поиск продолжается\n",
        "в типе класса экземпляра. В предыдущих примерах это будет тип Circle — тип\n",
        "экземпляра c.\n",
        "*   Если метод и здесь не будет найден, поиск метода продолжается в суперклас-\n",
        "сах\n",
        "\n",
        "  После того как метод будет найден, он напрямую вызывается как обычная\n",
        "функция Python; при этом экземпляр передается в первом аргументе функции,\n",
        "а все остальные аргументы вызова метода сдвигаются на одну позицию вправо.\n",
        "Таким образом, запись instance.method(arg1, arg2, …) превращается в class.\n",
        "method(instance, arg1, arg2, …)."
      ],
      "metadata": {
        "id": "_v3caSZ1yHlM"
      }
    },
    {
      "cell_type": "code",
      "source": [
        "print(Circle.area(c))"
      ],
      "metadata": {
        "id": "vdpaApUkybT4"
      },
      "execution_count": null,
      "outputs": []
    },
    {
      "cell_type": "markdown",
      "source": [
        "### Переменные класса"
      ],
      "metadata": {
        "id": "kjuC4fYry5Hi"
      }
    },
    {
      "cell_type": "markdown",
      "source": [
        "Переменная класса представляет собой переменную, связанную\n",
        "с классом, а не с его конкретным экземпляром и доступную для всех экземпляров\n",
        "класса. Переменная класса может использоваться для отслеживания информации\n",
        "на уровне класса — например, количества экземпляров класса, созданных в любой\n",
        "момент времени."
      ],
      "metadata": {
        "id": "J9q_rs8fzFi1"
      }
    },
    {
      "cell_type": "code",
      "source": [
        "class Circle:\n",
        "  pi = 3.14159\n",
        "  def __init__(self, radius):\n",
        "    self.radius = radius\n",
        "  def area(self):\n",
        "    return self.radius * self.radius * Circle.pi"
      ],
      "metadata": {
        "id": "y4_lR7Z3zUnY"
      },
      "execution_count": 44,
      "outputs": []
    },
    {
      "cell_type": "code",
      "source": [
        "my_circle = Circle(1)\n",
        "\n",
        "print(Circle.pi)\n",
        "print(my_circle.pi)"
      ],
      "metadata": {
        "colab": {
          "base_uri": "https://localhost:8080/"
        },
        "id": "uUHk7bK7ze4J",
        "outputId": "e8eecd9f-0b30-4a80-c352-1b654159ee1a"
      },
      "execution_count": 45,
      "outputs": [
        {
          "output_type": "stream",
          "name": "stdout",
          "text": [
            "3.14159\n",
            "3.14159\n"
          ]
        }
      ]
    },
    {
      "cell_type": "markdown",
      "source": [
        "Область видимости переменных класса"
      ],
      "metadata": {
        "id": "8zBDK_S-14j7"
      }
    },
    {
      "cell_type": "code",
      "source": [
        "my_circle1 = Circle(1)\n",
        "my_circle2 = Circle(1)\n",
        "\n",
        "print(Circle.pi)\n",
        "print(my_circle1.pi)\n",
        "print(my_circle2.pi)\n"
      ],
      "metadata": {
        "id": "I1r31qfVzwMd"
      },
      "execution_count": null,
      "outputs": []
    },
    {
      "cell_type": "markdown",
      "source": [
        "Изменение pi на уровне класса\n"
      ],
      "metadata": {
        "id": "Q0itt_jm1eEG"
      }
    },
    {
      "cell_type": "code",
      "source": [
        "Circle.pi = 5\n",
        "\n",
        "print(my_circle1.pi)\n",
        "print(my_circle2.pi)\n",
        "\n",
        "print(my_circle1.area())\n",
        "print(my_circle2.area())"
      ],
      "metadata": {
        "id": "w6znyRDz1eyS"
      },
      "execution_count": null,
      "outputs": []
    },
    {
      "cell_type": "markdown",
      "source": [
        "Изменение pi на уровне экземпляра класса"
      ],
      "metadata": {
        "id": "-6gKJiel1jd5"
      }
    },
    {
      "cell_type": "code",
      "source": [
        "my_circle1.pi = 11\n",
        "\n",
        "print(my_circle1.pi)\n",
        "print(my_circle2.pi)\n",
        "\n",
        "print(my_circle1.area())\n",
        "print(my_circle2.area())"
      ],
      "metadata": {
        "id": "oNlFsL0A1mfJ"
      },
      "execution_count": null,
      "outputs": []
    },
    {
      "cell_type": "markdown",
      "source": [
        "Доступ к переменой pi"
      ],
      "metadata": {
        "id": "GP3SV1wT1tU-"
      }
    },
    {
      "cell_type": "code",
      "source": [
        "print(Circle.pi)\n",
        "print(my_circle1.pi)\n",
        "print(my_circle2.pi)\n",
        "print(my_circle1.__class__.pi)"
      ],
      "metadata": {
        "id": "MQCzFbtV1sa8"
      },
      "execution_count": null,
      "outputs": []
    },
    {
      "cell_type": "markdown",
      "source": [
        "Более сложный пример"
      ],
      "metadata": {
        "id": "iuICpuLz4UVz"
      }
    },
    {
      "cell_type": "code",
      "source": [
        "class Circle:\n",
        "  \"\"\"Класс Circle \"\"\"\n",
        "  all_circles = [] #Переменная класса содержит список всех созданных экземпляров Circle\n",
        "  pi = 3.14159\n",
        "\n",
        "  def __init__(self, r=1):\n",
        "    \"\"\"Создать экземпляр Circle с заданным значением radius\"\"\"\n",
        "    self.radius = r\n",
        "    self.__class__.all_circles.append(self)\n",
        "\n",
        "  def area(self):\n",
        "    \"\"\"Вычислить площадь круга для экземпляра Circle\"\"\"\n",
        "    return self.__class__.pi * self.radius * self.radius\n",
        "\n",
        "my_circle1 = Circle(1)\n",
        "my_circle2 = Circle(1)\n",
        "\n",
        "\n",
        "print(my_circle2.all_circles)"
      ],
      "metadata": {
        "colab": {
          "base_uri": "https://localhost:8080/"
        },
        "id": "09IlqnUi3yIo",
        "outputId": "6a6129a6-85e5-484d-dff7-2a31a6607ece"
      },
      "execution_count": 51,
      "outputs": [
        {
          "output_type": "stream",
          "name": "stdout",
          "text": [
            "[<__main__.Circle object at 0x7f9304c7b400>, <__main__.Circle object at 0x7f9304c78820>]\n"
          ]
        }
      ]
    },
    {
      "cell_type": "code",
      "source": [],
      "metadata": {
        "id": "zx4JrHI941b4"
      },
      "execution_count": null,
      "outputs": []
    },
    {
      "cell_type": "markdown",
      "source": [
        "###  Статические методы"
      ],
      "metadata": {
        "id": "BQwTv_sE2HIb"
      }
    },
    {
      "cell_type": "markdown",
      "source": [
        "Как и в Java, в python имеются статические методы,которые можно вызывать даже в том случае, если ни один экземпляр класса не был создан, хотя их также можно вызывать с использовани-\n",
        "ем экземпляра класса. Чтобы создать статический метод, используется декоратор\n",
        "@staticmethod,"
      ],
      "metadata": {
        "id": "lV6bPwXf3bZf"
      }
    },
    {
      "cell_type": "code",
      "source": [
        "class Circle:\n",
        "  \"\"\"Класс Circle \"\"\"\n",
        "  all_circles = [] #Переменная класса содержит список всех созданных экземпляров Circle\n",
        "  pi = 3.14159\n",
        "\n",
        "  def __init__(self, r=1):\n",
        "    \"\"\"Создать экземпляр Circle с заданным значением radius\"\"\"\n",
        "    self.radius = r\n",
        "    self.__class__.all_circles.append(self)\n",
        "\n",
        "  def area(self):\n",
        "    \"\"\"Вычислить площадь круга для экземпляра Circle\"\"\"\n",
        "    return self.__class__.pi * self.radius * self.radius\n",
        "\n",
        "  @staticmethod\n",
        "  def total_area():\n",
        "    total = 0\n",
        "    for c in Circle.all_circles:\n",
        "      total = total + c.area()\n",
        "    return total\n",
        "\n",
        "\n",
        "my_circle1 = Circle(1)\n",
        "my_circle2 = Circle(2)\n",
        "\n",
        "print(Circle.total_area())"
      ],
      "metadata": {
        "colab": {
          "base_uri": "https://localhost:8080/"
        },
        "id": "kSuWLe5p4xPO",
        "outputId": "d23c6ee0-8dae-4650-bb4b-40784871abc9"
      },
      "execution_count": 52,
      "outputs": [
        {
          "output_type": "stream",
          "name": "stdout",
          "text": [
            "15.70795\n"
          ]
        }
      ]
    },
    {
      "cell_type": "markdown",
      "source": [
        "### Методы класса"
      ],
      "metadata": {
        "id": "n_EPgR9c2LkW"
      }
    },
    {
      "cell_type": "markdown",
      "source": [
        "Методы классов похожи на статические методы в том отношении, что они могут\n",
        "вызываться до того, как будет создан объект класса, и они могут использоваться\n",
        "с указанием экземпляра класса. Однако методы класса неявно получают класс,\n",
        "к которому они принадлежат, в первом параметре."
      ],
      "metadata": {
        "id": "m2UnSA-85dlJ"
      }
    },
    {
      "cell_type": "code",
      "source": [
        "class Circle:\n",
        "  \"\"\"Класс Circle \"\"\"\n",
        "  all_circles = [] #Переменная класса содержит список всех созданных экземпляров Circle\n",
        "  pi = 3.14159\n",
        "\n",
        "  def __init__(self, r=1):\n",
        "    \"\"\"Создать экземпляр Circle с заданным значением radius\"\"\"\n",
        "    self.radius = r\n",
        "    self.__class__.all_circles.append(self)\n",
        "\n",
        "  def area(self):\n",
        "    \"\"\"Вычислить площадь круга для экземпляра Circle\"\"\"\n",
        "    return self.__class__.pi * self.radius * self.radius\n",
        "\n",
        "  @classmethod\n",
        "  def total_area(cls):\n",
        "    total = 0\n",
        "    for c in cls.all_circles:\n",
        "      total = total + c.area()\n",
        "    return total\n",
        "\n",
        "my_circle1 = Circle(1)\n",
        "my_circle2 = Circle(2)\n",
        "\n",
        "print(Circle.total_area())"
      ],
      "metadata": {
        "colab": {
          "base_uri": "https://localhost:8080/"
        },
        "id": "T0a4-ETE5l76",
        "outputId": "fae7140d-1a1f-4165-c9ba-9f128bae38b4"
      },
      "execution_count": 53,
      "outputs": [
        {
          "output_type": "stream",
          "name": "stdout",
          "text": [
            "15.70795\n"
          ]
        }
      ]
    },
    {
      "cell_type": "markdown",
      "source": [
        "### Наследование"
      ],
      "metadata": {
        "id": "VSnhkuU02QO0"
      }
    },
    {
      "cell_type": "markdown",
      "source": [
        "Рассмотрим как в python реализуются основные принципы ООП.\n",
        "* Инкапсуляция\n",
        "* Наследование\n",
        "* Полиморфизм\n",
        "\n",
        "Начнем с наследования."
      ],
      "metadata": {
        "id": "cxnAIinX6k-_"
      }
    },
    {
      "cell_type": "code",
      "source": [
        "class Shape:\n",
        "  def __init__(self, x, y):\n",
        "    self.x = x\n",
        "    self.y = y\n",
        "\n",
        "class Square(Shape): #Указывает, что Square наследует от Shape\n",
        "  def __init__(self, side=1, x=0, y=0):\n",
        "    super().__init__(x, y) # Должен вызвать метод __init__ класса Shape\n",
        "    self.side = side\n",
        "\n",
        "class Circle(Shape): #Указывает, что Circle наследует от Shape\n",
        "  def __init__(self, r=1, x=0, y=0):\n",
        "    super().__init__(x, y) # Должен вызвать метод __init__ класса Shape\n",
        "    self.radius = r"
      ],
      "metadata": {
        "id": "ciSrQg8D9j55"
      },
      "execution_count": 3,
      "outputs": []
    },
    {
      "cell_type": "markdown",
      "source": [
        "Чтобы использовать наследование в Python, необходимо выполнить (обычно) два\n",
        "требования.\n",
        "* Определение иерархии наследования.\n",
        "Для этого классы, от которых наследует текущий класс, перечисляются в круглых\n",
        "скобках непосредственно за именем определяемого класса. В приведенном коде\n",
        "оба класса Circle и Square наследуют от Shape.\n",
        "* Необходимость явного вызова метода **`__init__`** классовпредков, python не сделает этого автоматически. Для этого необходимо воспользоваться функцией **super**. Эта задача решается в коде примера вызовом **`super().__init__(x,y)`**. Код вызывает функцию инициализации Shape с инициализируемым экземпляром и правильными\n",
        "аргументами. Без этого в данном примере у экземпляров Circle и Square не будут\n",
        "инициализированы переменные экземпляров x и y."
      ],
      "metadata": {
        "id": "BwIm_C7U9kcl"
      }
    },
    {
      "cell_type": "code",
      "source": [
        "square = Square()\n",
        "circle = Circle()\n",
        "\n",
        "type(square)\n",
        "\n",
        "print(isinstance(square, Square))\n",
        "print(isinstance(square, Shape))\n",
        "print(isinstance(square, Circle))\n",
        "print(isinstance(circle, Circle))\n"
      ],
      "metadata": {
        "colab": {
          "base_uri": "https://localhost:8080/"
        },
        "id": "GoAakir1dizP",
        "outputId": "36a9e454-c751-4833-95c6-de615938aa63"
      },
      "execution_count": 10,
      "outputs": [
        {
          "output_type": "stream",
          "name": "stdout",
          "text": [
            "True\n",
            "True\n",
            "False\n",
            "True\n"
          ]
        }
      ]
    },
    {
      "cell_type": "markdown",
      "source": [
        "### Приватные переменные и приватные методы"
      ],
      "metadata": {
        "id": "LeZaDUzo2WuA"
      }
    },
    {
      "cell_type": "markdown",
      "source": [
        "Во всех классах которые мы рассмативали имееется непосредственный доступ к атрибутам. Для того чтобы обеспечить инкапсуляцию (сокрытия реализации) нам необходимы приватные атибуты и методы.\n",
        "\n",
        "Приватная переменная или приватный метод не видны за пределами методов\n",
        "класса, в котором они определяются.\n",
        "\n",
        "Многие языки, определяющие приватные переменные, используют для этого клю-\n",
        "чевое слово «private» или что-нибудь в этом роде. Синтаксис Python проще, к тому\n",
        "же с ним сразу видно, какие переменные или методы являются приватными, а какие\n",
        "нет. Любой метод или переменная экземпляра, имя которой начинается (именно\n",
        "начинается, а не заканчивается!) с двойного символа подчеркивания (__), являются\n",
        "приватными; все остальное приватным не является."
      ],
      "metadata": {
        "id": "yCMzICuPecr8"
      }
    },
    {
      "cell_type": "code",
      "source": [
        "class Mine:\n",
        "  def __init__(self):\n",
        "    self.x = 2\n",
        "    self.__y = 3\n",
        "\n",
        "  def print_y(self):\n",
        "    print(self.__y)"
      ],
      "metadata": {
        "id": "aOGQkNNPfly5"
      },
      "execution_count": 12,
      "outputs": []
    },
    {
      "cell_type": "code",
      "source": [
        "mine = Mine()\n",
        "\n",
        "print(mine.x)\n",
        "mine.print_y()\n",
        "\n",
        "\n",
        "print(mine.__y)\n"
      ],
      "metadata": {
        "id": "Zr98H_mcfrpj"
      },
      "execution_count": null,
      "outputs": []
    },
    {
      "cell_type": "markdown",
      "source": [
        "В реальности мы всвегда можем получить доступ к приватной переменной."
      ],
      "metadata": {
        "id": "8vi3nyWtgW2V"
      }
    },
    {
      "cell_type": "code",
      "source": [
        "dir(mine)\n",
        "mine._Mine__y"
      ],
      "metadata": {
        "colab": {
          "base_uri": "https://localhost:8080/"
        },
        "id": "Afqy31XBgQFG",
        "outputId": "ad5b73a6-60d2-45ff-db5c-2f1522a77904"
      },
      "execution_count": 19,
      "outputs": [
        {
          "output_type": "execute_result",
          "data": {
            "text/plain": [
              "3"
            ]
          },
          "metadata": {},
          "execution_count": 19
        }
      ]
    },
    {
      "cell_type": "markdown",
      "source": [
        "Перменный типа protected в python не поддерживаются"
      ],
      "metadata": {
        "id": "FyyRrv3EiZnZ"
      }
    },
    {
      "cell_type": "markdown",
      "source": [
        "### Полиморфизм\n",
        "Полиморфизм (polymorphism) — это понятие из объектно-ориентированного программирования, которое позволяет разным сущностям выполнять одни и те же действия. При этом неважно, как эти сущности устроены внутри и чем они различаются.\n",
        "\n",
        "Утиная типизация (англ. Duck typing. Неявная типизация, латентная типизация) в ОО-языках — определение факта реализации определённого интерфейса объектом без явного указания или наследования этого интерфейса, а просто по реализации полного набора его методов."
      ],
      "metadata": {
        "id": "TJS4LnkJgtYV"
      }
    },
    {
      "cell_type": "code",
      "source": [
        "class Cat:\n",
        "    def __init__(self, name, age):\n",
        "        self.name = name\n",
        "        self.age = age\n",
        "\n",
        "    def info(self):\n",
        "        print(f\"I am a cat. My name is {self.name}. I am {self.age} years old.\")\n",
        "\n",
        "    def make_sound(self):\n",
        "        print(\"Meow\")\n",
        "\n",
        "\n",
        "class Dog:\n",
        "    def __init__(self, name, age):\n",
        "        self.name = name\n",
        "        self.age = age\n",
        "\n",
        "    def info(self):\n",
        "        print(f\"I am a dog. My name is {self.name}. I am {self.age} years old.\")\n",
        "\n",
        "    def make_sound(self):\n",
        "        print(\"Bark\")\n",
        "\n",
        "\n",
        "cat1 = Cat(\"Kitty\", 2.5)\n",
        "dog1 = Dog(\"Fluffy\", 4)\n",
        "\n",
        "for animal in (cat1, dog1):\n",
        "    animal.make_sound()\n",
        "    animal.info()\n",
        "    animal.make_sound()"
      ],
      "metadata": {
        "colab": {
          "base_uri": "https://localhost:8080/"
        },
        "id": "L-_1tOrlhR0g",
        "outputId": "21650ab1-d71d-4248-eab8-8f94ddc2711f"
      },
      "execution_count": 20,
      "outputs": [
        {
          "output_type": "stream",
          "name": "stdout",
          "text": [
            "Meow\n",
            "I am a cat. My name is Kitty. I am 2.5 years old.\n",
            "Meow\n",
            "Bark\n",
            "I am a dog. My name is Fluffy. I am 4 years old.\n",
            "Bark\n"
          ]
        }
      ]
    },
    {
      "cell_type": "code",
      "source": [],
      "metadata": {
        "id": "ozd8sWZEinWR"
      },
      "execution_count": null,
      "outputs": []
    },
    {
      "cell_type": "markdown",
      "source": [
        "Более традиционный полиморфизм"
      ],
      "metadata": {
        "id": "LtTeVDdIij6H"
      }
    },
    {
      "cell_type": "code",
      "source": [
        "from math import pi\n",
        "\n",
        "\n",
        "class Shape:\n",
        "    def __init__(self, name):\n",
        "        self.name = name\n",
        "\n",
        "    def area(self):\n",
        "        pass\n",
        "\n",
        "    def fact(self):\n",
        "        return \"I am a two-dimensional shape.\"\n",
        "\n",
        "    def __str__(self):\n",
        "        return self.name\n",
        "\n",
        "\n",
        "class Square(Shape):\n",
        "    def __init__(self, length):\n",
        "        super().__init__(\"Square\")\n",
        "        self.length = length\n",
        "\n",
        "    def area(self):\n",
        "        return self.length**2\n",
        "\n",
        "    def fact(self):\n",
        "        return \"Squares have each angle equal to 90 degrees.\"\n",
        "\n",
        "\n",
        "class Circle(Shape):\n",
        "    def __init__(self, radius):\n",
        "        super().__init__(\"Circle\")\n",
        "        self.radius = radius\n",
        "\n",
        "    def area(self):\n",
        "        return pi*self.radius**2\n",
        "\n",
        "\n",
        "a = Square(4)\n",
        "b = Circle(7)\n",
        "print(b)\n",
        "print(b.fact())\n",
        "print(a.fact())\n",
        "print(b.area())"
      ],
      "metadata": {
        "id": "FyhB5sYnijJR"
      },
      "execution_count": null,
      "outputs": []
    },
    {
      "cell_type": "markdown",
      "source": [
        "## Исключения"
      ],
      "metadata": {
        "id": "8amM7jeu2lNc"
      }
    },
    {
      "cell_type": "markdown",
      "source": [
        "### Выбрасывание исключений"
      ],
      "metadata": {
        "id": "9KlevkTLo6Ec"
      }
    },
    {
      "cell_type": "markdown",
      "source": [
        "Исключения (exceptions) в Python — это механизм обработки ошибок во время выполнения программы. Они позволяют программе продолжить работу после обнаружения ошибки, а не завершаться аварийно. В Python есть встроенные исключения, которые обрабатывают большинство типовых ошибок."
      ],
      "metadata": {
        "id": "919Jb3OGkSPF"
      }
    },
    {
      "cell_type": "markdown",
      "source": [
        "Иключения могут быть выбрашены кодом во время выполненния в случае ошибки"
      ],
      "metadata": {
        "id": "IPLaWRY0k2mL"
      }
    },
    {
      "cell_type": "code",
      "source": [
        "1/0"
      ],
      "metadata": {
        "colab": {
          "base_uri": "https://localhost:8080/",
          "height": 147
        },
        "id": "C3ThniHTlBIj",
        "outputId": "ad277e97-224f-444e-f196-49accedd9d57"
      },
      "execution_count": 23,
      "outputs": [
        {
          "output_type": "error",
          "ename": "ZeroDivisionError",
          "evalue": "division by zero",
          "traceback": [
            "\u001b[0;31m---------------------------------------------------------------------------\u001b[0m",
            "\u001b[0;31mZeroDivisionError\u001b[0m                         Traceback (most recent call last)",
            "\u001b[0;32m<ipython-input-23-9e1622b385b6>\u001b[0m in \u001b[0;36m<cell line: 1>\u001b[0;34m()\u001b[0m\n\u001b[0;32m----> 1\u001b[0;31m \u001b[0;36m1\u001b[0m\u001b[0;34m/\u001b[0m\u001b[0;36m0\u001b[0m\u001b[0;34m\u001b[0m\u001b[0;34m\u001b[0m\u001b[0m\n\u001b[0m",
            "\u001b[0;31mZeroDivisionError\u001b[0m: division by zero"
          ]
        }
      ]
    },
    {
      "cell_type": "code",
      "source": [
        "assert(False)"
      ],
      "metadata": {
        "colab": {
          "base_uri": "https://localhost:8080/",
          "height": 147
        },
        "id": "peO-iql2lDVs",
        "outputId": "1cbc29f4-edb0-47a9-ba41-9cc23c004ec1"
      },
      "execution_count": 24,
      "outputs": [
        {
          "output_type": "error",
          "ename": "AssertionError",
          "evalue": "",
          "traceback": [
            "\u001b[0;31m---------------------------------------------------------------------------\u001b[0m",
            "\u001b[0;31mAssertionError\u001b[0m                            Traceback (most recent call last)",
            "\u001b[0;32m<ipython-input-24-8808c4021c9c>\u001b[0m in \u001b[0;36m<cell line: 1>\u001b[0;34m()\u001b[0m\n\u001b[0;32m----> 1\u001b[0;31m \u001b[0;32massert\u001b[0m\u001b[0;34m(\u001b[0m\u001b[0;32mFalse\u001b[0m\u001b[0;34m)\u001b[0m\u001b[0;34m\u001b[0m\u001b[0;34m\u001b[0m\u001b[0m\n\u001b[0m",
            "\u001b[0;31mAssertionError\u001b[0m: "
          ]
        }
      ]
    },
    {
      "cell_type": "markdown",
      "source": [
        "Исключения также могут инициироваться явно командой raise. Простейшая форма\n",
        "этой команды выглядит так:\n",
        "```python\n",
        "raise exception(args)\n",
        "```"
      ],
      "metadata": {
        "id": "tEzrxSLzkcDb"
      }
    },
    {
      "cell_type": "code",
      "source": [
        "raise Exception('Error')"
      ],
      "metadata": {
        "colab": {
          "base_uri": "https://localhost:8080/",
          "height": 147
        },
        "id": "poDL7gYMlVLl",
        "outputId": "3d042d8c-863a-4f9d-a7b3-3a9ae659b325"
      },
      "execution_count": 25,
      "outputs": [
        {
          "output_type": "error",
          "ename": "Exception",
          "evalue": "Error",
          "traceback": [
            "\u001b[0;31m---------------------------------------------------------------------------\u001b[0m",
            "\u001b[0;31mException\u001b[0m                                 Traceback (most recent call last)",
            "\u001b[0;32m<ipython-input-25-06a48cbd239c>\u001b[0m in \u001b[0;36m<cell line: 1>\u001b[0;34m()\u001b[0m\n\u001b[0;32m----> 1\u001b[0;31m \u001b[0;32mraise\u001b[0m \u001b[0mException\u001b[0m\u001b[0;34m(\u001b[0m\u001b[0;34m'Error'\u001b[0m\u001b[0;34m)\u001b[0m\u001b[0;34m\u001b[0m\u001b[0;34m\u001b[0m\u001b[0m\n\u001b[0m",
            "\u001b[0;31mException\u001b[0m: Error"
          ]
        }
      ]
    },
    {
      "cell_type": "markdown",
      "source": [
        "### Стандартные исключения"
      ],
      "metadata": {
        "id": "v0kx1zvwox7N"
      }
    },
    {
      "cell_type": "markdown",
      "source": [
        "    \n",
        "    \n",
        "    BaseException - базовое исключение, от которого берут начало все остальные.\n",
        "        SystemExit - исключение, порождаемое функцией sys.exit при выходе из программы.\n",
        "        KeyboardInterrupt - порождается при прерывании программы пользователем (обычно сочетанием клавиш Ctrl+C).\n",
        "        GeneratorExit - порождается при вызове метода close объекта generator.\n",
        "        Exception - а вот тут уже заканчиваются полностью системные исключения (которые лучше не трогать) и начинаются обыкновенные, с которыми можно работать.\n",
        "            StopIteration - порождается встроенной функцией next, если в итераторе больше нет элементов.\n",
        "            ArithmeticError - арифметическая ошибка.\n",
        "                FloatingPointError - порождается при неудачном выполнении операции с плавающей запятой. На практике встречается нечасто.\n",
        "                OverflowError - возникает, когда результат арифметической операции слишком велик для представления. Не появляется при обычной работе с целыми числами (так как python поддерживает длинные числа), но может возникать в некоторых других случаях.\n",
        "                ZeroDivisionError - деление на ноль.\n",
        "            AssertionError - выражение в функции assert ложно.\n",
        "            AttributeError - объект не имеет данного атрибута (значения или метода).\n",
        "            BufferError - операция, связанная с буфером, не может быть выполнена.\n",
        "            EOFError - функция наткнулась на конец файла и не смогла прочитать то, что хотела.\n",
        "            ImportError - не удалось импортирование модуля или его атрибута.\n",
        "            LookupError - некорректный индекс или ключ.\n",
        "                IndexError - индекс не входит в диапазон элементов.\n",
        "                KeyError - несуществующий ключ (в словаре, множестве или другом объекте).\n",
        "            MemoryError - недостаточно памяти.\n",
        "            NameError - не найдено переменной с таким именем.\n",
        "                UnboundLocalError - сделана ссылка на локальную переменную в функции, но переменная не определена ранее.\n",
        "            OSError - ошибка, связанная с системой.\n",
        "                BlockingIOError\n",
        "                ChildProcessError - неудача при операции с дочерним процессом.\n",
        "                ConnectionError - базовый класс для исключений, связанных с подключениями.\n",
        "                    BrokenPipeError\n",
        "                    ConnectionAbortedError\n",
        "                    ConnectionRefusedError\n",
        "                    ConnectionResetError\n",
        "                FileExistsError - попытка создания файла или директории, которая уже существует.\n",
        "                FileNotFoundError - файл или директория не существует.\n",
        "                InterruptedError - системный вызов прерван входящим сигналом.\n",
        "                IsADirectoryError - ожидался файл, но это директория.\n",
        "                NotADirectoryError - ожидалась директория, но это файл.\n",
        "                PermissionError - не хватает прав доступа.\n",
        "                ProcessLookupError - указанного процесса не существует.\n",
        "                TimeoutError - закончилось время ожидания.\n",
        "            ReferenceError - попытка доступа к атрибуту со слабой ссылкой.\n",
        "            RuntimeError - возникает, когда исключение не попадает ни под одну из других категорий.\n",
        "            NotImplementedError - возникает, когда абстрактные методы класса требуют переопределения в дочерних классах.\n",
        "            SyntaxError - синтаксическая ошибка.\n",
        "                IndentationError - неправильные отступы.\n",
        "                    TabError - смешивание в отступах табуляции и пробелов.\n",
        "            SystemError - внутренняя ошибка.\n",
        "            TypeError - операция применена к объекту несоответствующего типа.\n",
        "            ValueError - функция получает аргумент правильного типа, но некорректного значения.\n",
        "            UnicodeError - ошибка, связанная с кодированием / раскодированием unicode в строках.\n",
        "                UnicodeEncodeError - исключение, связанное с кодированием unicode.\n",
        "                UnicodeDecodeError - исключение, связанное с декодированием unicode.\n",
        "                UnicodeTranslateError - исключение, связанное с переводом unicode.\n",
        "            Warning - предупреждение."
      ],
      "metadata": {
        "id": "vlw9Deqdjuul"
      }
    },
    {
      "cell_type": "markdown",
      "source": [
        "### Обратобка исключений"
      ],
      "metadata": {
        "id": "fazIvpi7pC8N"
      }
    },
    {
      "cell_type": "markdown",
      "source": [
        "Обработка исключений — это процесс написания кода для перехвата и обработки ошибок или исключений, которые могут возникать при выполнении программы. Это позволяет разработчикам создавать надёжные программы, которые продолжают работать даже при возникновении неожиданных событий или ошибок. Без системы обработки исключений подобное обычно приводит к фатальным сбоям.\n",
        "\n",
        "Когда возникают исключения — Python выполняет поиск подходящего обработчика исключений. После этого, если обработчик будет найден, выполняется его код, в котором предпринимаются уместные действия. Это может быть логирование данных, вывод сообщения, попытка восстановить работу программы после возникновения ошибки. В целом можно сказать, что обработка исключения помогает повысить надёжность Python-приложений, улучшает возможности по их поддержке, облегчает их отладку."
      ],
      "metadata": {
        "id": "A1T10jRHkCT4"
      }
    },
    {
      "cell_type": "code",
      "source": [
        "try:\n",
        "  1/0\n",
        "except ZeroDivisionError as error:\n",
        "  print(error)"
      ],
      "metadata": {
        "colab": {
          "base_uri": "https://localhost:8080/"
        },
        "id": "OiiWZFb_ldwe",
        "outputId": "8a46fe27-ebca-4c64-a701-9b070f8f3bb2"
      },
      "execution_count": 32,
      "outputs": [
        {
          "output_type": "stream",
          "name": "stdout",
          "text": [
            "division by zero\n"
          ]
        }
      ]
    },
    {
      "cell_type": "code",
      "source": [
        "try:\n",
        "  assert(1 == 0)\n",
        "except ZeroDivisionError as error:\n",
        "  pass\n",
        "except Exception as error:\n",
        "  print('Assert false')"
      ],
      "metadata": {
        "colab": {
          "base_uri": "https://localhost:8080/"
        },
        "id": "wCaDkhx1l_wS",
        "outputId": "e84d6abc-2347-4795-8e49-b1a23db66c87"
      },
      "execution_count": 37,
      "outputs": [
        {
          "output_type": "stream",
          "name": "stdout",
          "text": [
            "Assert false\n"
          ]
        }
      ]
    },
    {
      "cell_type": "code",
      "source": [
        "try:\n",
        "  assert(1 == 0)\n",
        "except (ZeroDivisionError,AssertionError) as error:\n",
        "  print('Many error')\n",
        "except Exception as error:\n",
        "  print('Assert false')"
      ],
      "metadata": {
        "colab": {
          "base_uri": "https://localhost:8080/"
        },
        "id": "IoqShQ4_mel2",
        "outputId": "34b3a0c5-c9aa-412d-faef-4c01050dd0c0"
      },
      "execution_count": 39,
      "outputs": [
        {
          "output_type": "stream",
          "name": "stdout",
          "text": [
            "Many error\n"
          ]
        }
      ]
    },
    {
      "cell_type": "markdown",
      "source": [
        "Создание собственных классов икслючений"
      ],
      "metadata": {
        "id": "y3lfei7zmqe1"
      }
    },
    {
      "cell_type": "code",
      "source": [
        "class MyException(BaseException):\n",
        "  def __init__(self, message):\n",
        "    self.__message = message\n",
        "\n",
        "  def __str__(self) -> str:\n",
        "     return self.__message\n",
        "\n",
        "\n",
        "try:\n",
        "  raise MyException(\"Ошибка\")\n",
        "except MyException as error:\n",
        "  print(error)"
      ],
      "metadata": {
        "colab": {
          "base_uri": "https://localhost:8080/"
        },
        "id": "PCf30V_RmvRi",
        "outputId": "e2b5fb14-4cbc-47e0-9a42-7dc628f1964d"
      },
      "execution_count": 41,
      "outputs": [
        {
          "output_type": "stream",
          "name": "stdout",
          "text": [
            "Ошибка\n"
          ]
        }
      ]
    },
    {
      "cell_type": "markdown",
      "source": [
        "Стек трейсы"
      ],
      "metadata": {
        "id": "h-1rGbbboe-f"
      }
    },
    {
      "cell_type": "code",
      "source": [
        "import traceback\n",
        "\n",
        "try:\n",
        "  raise MyException(\"Ошибка\")\n",
        "except MyException as error:\n",
        "  traceback.print_tb(error.__traceback__)"
      ],
      "metadata": {
        "colab": {
          "base_uri": "https://localhost:8080/"
        },
        "id": "gokh5HfEnl4_",
        "outputId": "c2f15ac7-0d39-4449-c0f0-2fa4dfae4ca6"
      },
      "execution_count": 46,
      "outputs": [
        {
          "output_type": "stream",
          "name": "stderr",
          "text": [
            "  File \"<ipython-input-46-5fe5355537c2>\", line 4, in <cell line: 3>\n",
            "    raise MyException(\"Ошибка\")\n"
          ]
        }
      ]
    },
    {
      "cell_type": "markdown",
      "source": [
        "## Стандартная библиотека"
      ],
      "metadata": {
        "id": "9nbbzwhW2u3u"
      }
    },
    {
      "cell_type": "markdown",
      "source": [
        "### Чтение и запись файлов"
      ],
      "metadata": {
        "id": "av75rlQJqMUw"
      }
    },
    {
      "cell_type": "markdown",
      "source": [
        "Запись файла"
      ],
      "metadata": {
        "id": "MAumlWeSw5b6"
      }
    },
    {
      "cell_type": "code",
      "source": [
        "import os\n",
        "file_object = open(\"file.txt\", 'w')\n",
        "file_object.write(\"Hello, World\\n\")\n",
        "file_object.close()\n",
        "\n"
      ],
      "metadata": {
        "colab": {
          "base_uri": "https://localhost:8080/"
        },
        "id": "a2j1POnYqhST",
        "outputId": "0fb8f79a-f7fd-4f35-8354-a0b6a4727977"
      },
      "execution_count": 53,
      "outputs": [
        {
          "output_type": "stream",
          "name": "stdout",
          "text": [
            "['Hello, World\\n']\n"
          ]
        }
      ]
    },
    {
      "cell_type": "markdown",
      "source": [
        "Чтение файла"
      ],
      "metadata": {
        "id": "f642bmJOw9Ju"
      }
    },
    {
      "cell_type": "code",
      "source": [
        "\n",
        "file_object = open(\"file.txt\", 'r')\n",
        "x = file_object.readlines()\n",
        "print(x)\n",
        "file_object.close()\n"
      ],
      "metadata": {
        "id": "WD1gzSTyw_O4"
      },
      "execution_count": null,
      "outputs": []
    },
    {
      "cell_type": "markdown",
      "source": [
        "Чтение файла с использованием менеджера контектса"
      ],
      "metadata": {
        "id": "_qi0Nkk2xBWy"
      }
    },
    {
      "cell_type": "code",
      "source": [
        "with open(\"file.txt\", 'r') as file_object:\n",
        "  line = file_object.readline()"
      ],
      "metadata": {
        "id": "Sdyl8ibXxGG9"
      },
      "execution_count": null,
      "outputs": []
    },
    {
      "cell_type": "markdown",
      "source": [
        "### Json"
      ],
      "metadata": {
        "id": "nQ1C2n04qSEm"
      }
    },
    {
      "cell_type": "markdown",
      "source": [
        "Формирование json"
      ],
      "metadata": {
        "id": "UFKpv94TxYc5"
      }
    },
    {
      "cell_type": "code",
      "source": [
        "import json\n",
        "\n",
        "json_str = json.dumps(['foo', {'bar': ('baz', None, 1.0, 2)}])\n",
        "print(json_str)\n"
      ],
      "metadata": {
        "colab": {
          "base_uri": "https://localhost:8080/"
        },
        "id": "BM4Ew96EqkCq",
        "outputId": "6e29fd1e-4b57-4b50-9fe4-1eeffffd05f8"
      },
      "execution_count": 57,
      "outputs": [
        {
          "output_type": "stream",
          "name": "stdout",
          "text": [
            "[\"foo\", {\"bar\": [\"baz\", null, 1.0, 2]}]\n",
            "['foo', {'bar': ['baz', None, 1.0, 2]}]\n"
          ]
        }
      ]
    },
    {
      "cell_type": "markdown",
      "source": [
        "Парсинг json"
      ],
      "metadata": {
        "id": "7IPvw-7zxjSa"
      }
    },
    {
      "cell_type": "code",
      "source": [
        "json_obj = json.loads('[\"foo\", {\"bar\":[\"baz\", null, 1.0, 2]}]')\n",
        "print(json_obj)"
      ],
      "metadata": {
        "id": "ERft1hYFxlzq"
      },
      "execution_count": null,
      "outputs": []
    },
    {
      "cell_type": "markdown",
      "source": [
        "### CSV"
      ],
      "metadata": {
        "id": "lL_Lw9XRqUkO"
      }
    },
    {
      "cell_type": "markdown",
      "source": [
        "Запись файла CSV"
      ],
      "metadata": {
        "id": "bHffmArpxr4t"
      }
    },
    {
      "cell_type": "code",
      "source": [
        "import csv\n",
        "with open('eggs.csv', 'w', newline='') as csvfile:\n",
        "    spamwriter = csv.writer(csvfile, delimiter=' ',\n",
        "                            quotechar='|', quoting=csv.QUOTE_MINIMAL)\n",
        "    spamwriter.writerow(['Spam'] * 5 + ['Baked Beans'])\n",
        "    spamwriter.writerow(['Spam', 'Lovely Spam', 'Wonderful Spam'])"
      ],
      "metadata": {
        "id": "au7QEhzMsMEj"
      },
      "execution_count": 55,
      "outputs": []
    },
    {
      "cell_type": "markdown",
      "source": [
        "Чтение файла CSV"
      ],
      "metadata": {
        "id": "k_WlgsP6xuE9"
      }
    },
    {
      "cell_type": "code",
      "source": [
        "import csv\n",
        "\n",
        "with open('eggs.csv', newline='') as csvfile:\n",
        "    spamreader = csv.reader(csvfile, delimiter=' ', quotechar='|')\n",
        "    for row in spamreader:\n",
        "        print(', '.join(row))"
      ],
      "metadata": {
        "colab": {
          "base_uri": "https://localhost:8080/"
        },
        "id": "SL12OPpsq8mO",
        "outputId": "8c20e68a-ac24-48eb-c094-aec76c9cfdd4"
      },
      "execution_count": 56,
      "outputs": [
        {
          "output_type": "stream",
          "name": "stdout",
          "text": [
            "Spam, Spam, Spam, Spam, Spam, Baked Beans\n",
            "Spam, Lovely Spam, Wonderful Spam\n"
          ]
        }
      ]
    },
    {
      "cell_type": "markdown",
      "source": [
        "## Список литературы"
      ],
      "metadata": {
        "id": "zResi0h_21FG"
      }
    },
    {
      "cell_type": "markdown",
      "source": [
        "1. Седер Наоми. Python. Экспресс-курс. 3-е изд. — СПб.: Питер, 2019. — 480 с.\n",
        "2. Мартелли, Алекс, Рейвенскрофт, Анна, Холден, Стив Python. Справочник. Полное описание языка, 3-е издание. : Пер. с англ.СПб.: ООО \"Диалектика\", 2019. - 896 с\n",
        "3. Лутц, Марк. Изучаем Python, том 2, 5-е изд. : Пер. с англ. — СПб. : ООО “Диалектика”, 2020.— 720 с. :"
      ],
      "metadata": {
        "id": "VBu8SY2EpKpP"
      }
    }
  ]
}