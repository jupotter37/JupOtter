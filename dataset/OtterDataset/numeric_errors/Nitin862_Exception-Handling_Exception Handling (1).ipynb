{
 "cells": [
  {
   "cell_type": "code",
   "execution_count": 1,
   "id": "ccda04f5-10dc-4a59-8217-1b642d2be340",
   "metadata": {},
   "outputs": [
    {
     "data": {
      "text/plain": [
       "'Q1. Explain why we have to use the Exception class while creating a Custom Exception.'"
      ]
     },
     "execution_count": 1,
     "metadata": {},
     "output_type": "execute_result"
    }
   ],
   "source": [
    "'''Q1. Explain why we have to use the Exception class while creating a Custom Exception.'''"
   ]
  },
  {
   "cell_type": "code",
   "execution_count": 2,
   "id": "706f123b-d731-4e67-a7d2-f5c05b126527",
   "metadata": {},
   "outputs": [
    {
     "data": {
      "text/plain": [
       "\"1. Consistency with Python’s Exception Hierarchy:\\nPython has a well-defined hierarchy of exceptions, with Exception\\nserving as the base class for most exceptions. By inheriting from Exception, your custom exception becomes part of this hierarchy, \\nensuring that it behaves like other exceptions in Python.\\n2. Compatibility with Exception Handling Mechanisms:\\nWhen your custom exception is a subclass of Exception, it can be caught by except blocks that are designed to catch Exception or \\nany of its subclasses. This ensures that your custom exception works seamlessly with Python's error-handling system.\\n3. Access to Built-in Functionality:\\nThe Exception class provides built-in methods and properties (like __str__() and args) that allow your custom exception to integrate\\nsmoothly with Python’s error reporting, such as printing meaningful error messages or logging.\\n4. Standardized Exception Reporting:\\nPython’s exception handling system uses the Exception class to report errors in a consistent way. By inheriting from Exception, \\nyour custom exception will be reported and logged just like standard exceptions, making it easier to diagnose and debug issues.\\n5. Preventing Unintended Behavior:\\nIf you don’t inherit from Exception, your custom exception might not be caught by generic except blocks (e.g., except Exception as e:),\\nleading to unexpected behavior and potentially unhandled exceptions.\""
      ]
     },
     "execution_count": 2,
     "metadata": {},
     "output_type": "execute_result"
    }
   ],
   "source": [
    "'''1. Consistency with Python’s Exception Hierarchy:\n",
    "Python has a well-defined hierarchy of exceptions, with Exception\n",
    "serving as the base class for most exceptions. By inheriting from Exception, your custom exception becomes part of this hierarchy, \n",
    "ensuring that it behaves like other exceptions in Python.\n",
    "2. Compatibility with Exception Handling Mechanisms:\n",
    "When your custom exception is a subclass of Exception, it can be caught by except blocks that are designed to catch Exception or \n",
    "any of its subclasses. This ensures that your custom exception works seamlessly with Python's error-handling system.\n",
    "3. Access to Built-in Functionality:\n",
    "The Exception class provides built-in methods and properties (like __str__() and args) that allow your custom exception to integrate\n",
    "smoothly with Python’s error reporting, such as printing meaningful error messages or logging.\n",
    "4. Standardized Exception Reporting:\n",
    "Python’s exception handling system uses the Exception class to report errors in a consistent way. By inheriting from Exception, \n",
    "your custom exception will be reported and logged just like standard exceptions, making it easier to diagnose and debug issues.\n",
    "5. Preventing Unintended Behavior:\n",
    "If you don’t inherit from Exception, your custom exception might not be caught by generic except blocks (e.g., except Exception as e:),\n",
    "leading to unexpected behavior and potentially unhandled exceptions.'''"
   ]
  },
  {
   "cell_type": "code",
   "execution_count": 3,
   "id": "1a047ae7-5284-46be-85a0-bdb6bcf21f81",
   "metadata": {},
   "outputs": [
    {
     "name": "stdout",
     "output_type": "stream",
     "text": [
      "Caught an exception: This is a custom exception\n"
     ]
    }
   ],
   "source": [
    "class MyCustomException(Exception):\n",
    "    def __init__(self, message):\n",
    "        super().__init__(message)\n",
    "        self.message = message\n",
    "\n",
    "try:\n",
    "    raise MyCustomException(\"This is a custom exception\")\n",
    "except MyCustomException as e:\n",
    "    print(f\"Caught an exception: {e}\")\n"
   ]
  },
  {
   "cell_type": "code",
   "execution_count": 4,
   "id": "307d7de4-900e-4483-b40d-30cc7a9770ed",
   "metadata": {},
   "outputs": [
    {
     "data": {
      "text/plain": [
       "'Q2. Write a python program to print Python Exception Hierarchy.'"
      ]
     },
     "execution_count": 4,
     "metadata": {},
     "output_type": "execute_result"
    }
   ],
   "source": [
    "'''Q2. Write a python program to print Python Exception Hierarchy.'''"
   ]
  },
  {
   "cell_type": "code",
   "execution_count": 5,
   "id": "87d1f276-fd66-4155-8588-d095925b4586",
   "metadata": {},
   "outputs": [
    {
     "name": "stdout",
     "output_type": "stream",
     "text": [
      "Python Exception Hierarchy:\n",
      "BaseException\n",
      "    Exception\n",
      "        TypeError\n",
      "            FloatOperation\n",
      "            MultipartConversionError\n",
      "        StopAsyncIteration\n",
      "        StopIteration\n",
      "        ImportError\n",
      "            ModuleNotFoundError\n",
      "            ZipImportError\n",
      "        OSError\n",
      "            ConnectionError\n",
      "                BrokenPipeError\n",
      "                ConnectionAbortedError\n",
      "                ConnectionRefusedError\n",
      "                ConnectionResetError\n",
      "                    RemoteDisconnected\n",
      "            BlockingIOError\n",
      "            ChildProcessError\n",
      "            FileExistsError\n",
      "            FileNotFoundError\n",
      "            IsADirectoryError\n",
      "            NotADirectoryError\n",
      "            InterruptedError\n",
      "                InterruptedSystemCall\n",
      "            PermissionError\n",
      "            ProcessLookupError\n",
      "            TimeoutError\n",
      "            UnsupportedOperation\n",
      "            itimer_error\n",
      "            herror\n",
      "            gaierror\n",
      "            SSLError\n",
      "                SSLCertVerificationError\n",
      "                SSLZeroReturnError\n",
      "                SSLWantWriteError\n",
      "                SSLWantReadError\n",
      "                SSLSyscallError\n",
      "                SSLEOFError\n",
      "            Error\n",
      "                SameFileError\n",
      "            SpecialFileError\n",
      "            ExecError\n",
      "            ReadError\n",
      "            URLError\n",
      "                HTTPError\n",
      "                ContentTooShortError\n",
      "            BadGzipFile\n",
      "        EOFError\n",
      "            IncompleteReadError\n",
      "        RuntimeError\n",
      "            RecursionError\n",
      "            NotImplementedError\n",
      "                ZMQVersionError\n",
      "                StdinNotImplementedError\n",
      "            _DeadlockError\n",
      "            BrokenBarrierError\n",
      "            BrokenExecutor\n",
      "                BrokenThreadPool\n",
      "            SendfileNotAvailableError\n",
      "            ExtractionError\n",
      "            VariableError\n",
      "        NameError\n",
      "            UnboundLocalError\n",
      "        AttributeError\n",
      "            FrozenInstanceError\n",
      "        SyntaxError\n",
      "            IndentationError\n",
      "                TabError\n",
      "        LookupError\n",
      "            IndexError\n",
      "            KeyError\n",
      "                NoSuchKernel\n",
      "                UnknownBackend\n",
      "            CodecRegistryError\n",
      "        ValueError\n",
      "            UnicodeError\n",
      "                UnicodeEncodeError\n",
      "                UnicodeDecodeError\n",
      "                UnicodeTranslateError\n",
      "            UnsupportedOperation\n",
      "            JSONDecodeError\n",
      "            SSLCertVerificationError\n",
      "            Error\n",
      "            UnsupportedDigestmodError\n",
      "            IllegalMonthError\n",
      "            IllegalWeekdayError\n",
      "            ParserError\n",
      "            ClassNotFound\n",
      "            ClipboardEmpty\n",
      "            MessageDefect\n",
      "                NoBoundaryInMultipartDefect\n",
      "                StartBoundaryNotFoundDefect\n",
      "                CloseBoundaryNotFoundDefect\n",
      "                FirstHeaderLineIsContinuationDefect\n",
      "                MisplacedEnvelopeHeaderDefect\n",
      "                MissingHeaderBodySeparatorDefect\n",
      "                MultipartInvariantViolationDefect\n",
      "                InvalidMultipartContentTransferEncodingDefect\n",
      "                UndecodableBytesDefect\n",
      "                InvalidBase64PaddingDefect\n",
      "                InvalidBase64CharactersDefect\n",
      "                InvalidBase64LengthDefect\n",
      "                HeaderDefect\n",
      "                    InvalidHeaderDefect\n",
      "                    HeaderMissingRequiredValue\n",
      "                    NonPrintableDefect\n",
      "                    ObsoleteHeaderDefect\n",
      "                    NonASCIILocalPartDefect\n",
      "                    InvalidDateDefect\n",
      "            MacroToEdit\n",
      "            InvalidFileException\n",
      "            UnequalIterablesError\n",
      "            InvalidVersion\n",
      "            _InvalidELFFileHeader\n",
      "            InvalidWheelFilename\n",
      "            InvalidSdistFilename\n",
      "            InvalidSpecifier\n",
      "            InvalidMarker\n",
      "            UndefinedComparison\n",
      "            UndefinedEnvironmentName\n",
      "            InvalidRequirement\n",
      "                RequirementParseError\n",
      "            InvalidVersion\n",
      "        AssertionError\n",
      "        ArithmeticError\n",
      "            FloatingPointError\n",
      "            OverflowError\n",
      "            ZeroDivisionError\n",
      "                DivisionByZero\n",
      "                DivisionUndefined\n",
      "            DecimalException\n",
      "                Clamped\n",
      "                Rounded\n",
      "                    Underflow\n",
      "                    Overflow\n",
      "                Inexact\n",
      "                    Underflow\n",
      "                    Overflow\n",
      "                Subnormal\n",
      "                    Underflow\n",
      "                DivisionByZero\n",
      "                FloatOperation\n",
      "                InvalidOperation\n",
      "                    ConversionSyntax\n",
      "                    DivisionImpossible\n",
      "                    DivisionUndefined\n",
      "                    InvalidContext\n",
      "        SystemError\n",
      "            CodecRegistryError\n",
      "        ReferenceError\n",
      "        MemoryError\n",
      "        BufferError\n",
      "        Warning\n",
      "            UserWarning\n",
      "                GetPassWarning\n",
      "                FormatterWarning\n",
      "            EncodingWarning\n",
      "            DeprecationWarning\n",
      "                ProvisionalWarning\n",
      "            PendingDeprecationWarning\n",
      "            SyntaxWarning\n",
      "            RuntimeWarning\n",
      "                ProactorSelectorThreadWarning\n",
      "                UnknownTimezoneWarning\n",
      "                PEP440Warning\n",
      "            FutureWarning\n",
      "                ProvisionalCompleterWarning\n",
      "            ImportWarning\n",
      "            UnicodeWarning\n",
      "            BytesWarning\n",
      "            ResourceWarning\n",
      "            DeprecatedTzFormatWarning\n",
      "            PkgResourcesDeprecationWarning\n",
      "        _OptionError\n",
      "        _Error\n",
      "        error\n",
      "        Verbose\n",
      "        Error\n",
      "        SubprocessError\n",
      "            CalledProcessError\n",
      "            TimeoutExpired\n",
      "        TokenError\n",
      "        StopTokenizing\n",
      "        ClassFoundException\n",
      "        EndOfBlock\n",
      "        TraitError\n",
      "        Error\n",
      "        Error\n",
      "            CancelledError\n",
      "            TimeoutError\n",
      "            InvalidStateError\n",
      "        _GiveupOnSendfile\n",
      "        error\n",
      "        Incomplete\n",
      "        TimeoutError\n",
      "        InvalidStateError\n",
      "        LimitOverrunError\n",
      "        QueueEmpty\n",
      "        QueueFull\n",
      "        Empty\n",
      "        Full\n",
      "        ArgumentError\n",
      "        ZMQBaseError\n",
      "            ZMQError\n",
      "                ContextTerminated\n",
      "                Again\n",
      "                InterruptedSystemCall\n",
      "            ZMQBindError\n",
      "            NotDone\n",
      "        PickleError\n",
      "            PicklingError\n",
      "            UnpicklingError\n",
      "        _Stop\n",
      "        ArgumentError\n",
      "        ArgumentTypeError\n",
      "        ConfigError\n",
      "            ConfigLoaderError\n",
      "                ArgumentError\n",
      "            ConfigFileNotFound\n",
      "        ConfigurableError\n",
      "            MultipleInstanceError\n",
      "        ApplicationError\n",
      "        error\n",
      "        TimeoutError\n",
      "        error\n",
      "        ReturnValueIgnoredError\n",
      "        KeyReuseError\n",
      "        UnknownKeyError\n",
      "        LeakedCallbackError\n",
      "        BadYieldError\n",
      "        ReturnValueIgnoredError\n",
      "        Return\n",
      "        InvalidPortNumber\n",
      "        error\n",
      "        LZMAError\n",
      "        RegistryError\n",
      "        _GiveupOnFastCopy\n",
      "        Error\n",
      "            NoSectionError\n",
      "            DuplicateSectionError\n",
      "            DuplicateOptionError\n",
      "            NoOptionError\n",
      "            InterpolationError\n",
      "                InterpolationMissingOptionError\n",
      "                InterpolationSyntaxError\n",
      "                InterpolationDepthError\n",
      "            ParsingError\n",
      "                MissingSectionHeaderError\n",
      "        NoIPAddresses\n",
      "        BadZipFile\n",
      "        LargeZipFile\n",
      "        BadEntryPoint\n",
      "        NoSuchEntryPoint\n",
      "        DuplicateKernelError\n",
      "        ErrorDuringImport\n",
      "        NotOneValueFound\n",
      "        CannotEval\n",
      "        OptionError\n",
      "        BdbQuit\n",
      "        Restart\n",
      "        ExceptionPexpect\n",
      "            EOF\n",
      "            TIMEOUT\n",
      "        PtyProcessError\n",
      "        FindCmdError\n",
      "        HomeDirError\n",
      "        ProfileDirError\n",
      "        IPythonCoreError\n",
      "            TryNext\n",
      "            UsageError\n",
      "            StdinNotImplementedError\n",
      "        InputRejected\n",
      "        GetoptError\n",
      "        ErrorToken\n",
      "        PrefilterError\n",
      "        AliasError\n",
      "            InvalidAliasError\n",
      "        Error\n",
      "            InterfaceError\n",
      "            DatabaseError\n",
      "                InternalError\n",
      "                OperationalError\n",
      "                ProgrammingError\n",
      "                IntegrityError\n",
      "                DataError\n",
      "                NotSupportedError\n",
      "        Warning\n",
      "        SpaceInInput\n",
      "        DOMException\n",
      "            IndexSizeErr\n",
      "            DomstringSizeErr\n",
      "            HierarchyRequestErr\n",
      "            WrongDocumentErr\n",
      "            InvalidCharacterErr\n",
      "            NoDataAllowedErr\n",
      "            NoModificationAllowedErr\n",
      "            NotFoundErr\n",
      "            NotSupportedErr\n",
      "            InuseAttributeErr\n",
      "            InvalidStateErr\n",
      "            SyntaxErr\n",
      "            InvalidModificationErr\n",
      "            NamespaceErr\n",
      "            InvalidAccessErr\n",
      "            ValidationErr\n",
      "        ValidationError\n",
      "        EditReadOnlyBuffer\n",
      "        _Retry\n",
      "        InvalidLayoutError\n",
      "        HeightIsUnknownError\n",
      "        ParserSyntaxError\n",
      "        InternalParseError\n",
      "        _PositionUpdatingFinished\n",
      "        SimpleGetItemNotFound\n",
      "        UncaughtAttributeError\n",
      "        HasNoContext\n",
      "        ParamIssue\n",
      "        _JediError\n",
      "            InternalError\n",
      "            WrongVersion\n",
      "            RefactoringError\n",
      "        OnErrorLeaf\n",
      "        InvalidPythonEnvironment\n",
      "        MessageError\n",
      "            MessageParseError\n",
      "                HeaderParseError\n",
      "                BoundaryError\n",
      "            MultipartConversionError\n",
      "            CharsetError\n",
      "        Error\n",
      "        HTTPException\n",
      "            NotConnected\n",
      "            InvalidURL\n",
      "            UnknownProtocol\n",
      "            UnknownTransferEncoding\n",
      "            UnimplementedFileMode\n",
      "            IncompleteRead\n",
      "            ImproperConnectionState\n",
      "                CannotSendRequest\n",
      "                CannotSendHeader\n",
      "                ResponseNotReady\n",
      "            BadStatusLine\n",
      "                RemoteDisconnected\n",
      "            LineTooLong\n",
      "        InteractivelyDefined\n",
      "        KillEmbedded\n",
      "        Error\n",
      "            NoSuchProcess\n",
      "                ZombieProcess\n",
      "            AccessDenied\n",
      "            TimeoutExpired\n",
      "        _Ipv6UnsupportedError\n",
      "        QueueEmpty\n",
      "        QueueFull\n",
      "        DebuggerInitializationError\n",
      "        ExpatError\n",
      "        Error\n",
      "            ProtocolError\n",
      "            ResponseError\n",
      "            Fault\n",
      "        ParseBaseException\n",
      "            ParseException\n",
      "            ParseFatalException\n",
      "                ParseSyntaxException\n",
      "        RecursiveGrammarException\n",
      "        ResolutionError\n",
      "            VersionConflict\n",
      "                ContextualVersionConflict\n",
      "            DistributionNotFound\n",
      "            UnknownExtra\n",
      "        _Error\n",
      "        UnableToResolveVariableException\n",
      "        InvalidTypeInArgsException\n",
      "        MyCustomException\n",
      "    GeneratorExit\n",
      "    SystemExit\n",
      "    KeyboardInterrupt\n",
      "    CancelledError\n",
      "    AbortThread\n"
     ]
    }
   ],
   "source": [
    "import inspect\n",
    "\n",
    "def print_exception_hierarchy(cls, indent=0):\n",
    "    print(' ' * indent + cls.__name__)\n",
    "    for subclass in cls.__subclasses__():\n",
    "        print_exception_hierarchy(subclass, indent + 4)\n",
    "\n",
    "# Start with the BaseException class\n",
    "print(\"Python Exception Hierarchy:\")\n",
    "print_exception_hierarchy(BaseException)\n"
   ]
  },
  {
   "cell_type": "code",
   "execution_count": 6,
   "id": "b32cdbb8-55c1-4609-b2fa-97fba5d39c73",
   "metadata": {},
   "outputs": [
    {
     "data": {
      "text/plain": [
       "'Q3. What errors are defined in the ArithmeticError class? Explain any two with an example.'"
      ]
     },
     "execution_count": 6,
     "metadata": {},
     "output_type": "execute_result"
    }
   ],
   "source": [
    "'''Q3. What errors are defined in the ArithmeticError class? Explain any two with an example.'''"
   ]
  },
  {
   "cell_type": "code",
   "execution_count": 7,
   "id": "60ab3910-e974-41a4-b852-71980fb521de",
   "metadata": {},
   "outputs": [
    {
     "data": {
      "text/plain": [
       "'The ArithmeticError class in Python is a built-in exception that serves as a base class for all errors related to numeric\\ncalculations. It doesn’t represent a specific error by itself but is the parent class for more specific arithmetic-related errors.\\nThese include:\\n\\nZeroDivisionError: Raised when a division or modulo operation is performed with a divisor of zero.\\nOverflowError: Raised when a numerical operation exceeds the maximum limit for a numeric type.\\nFloatingPointError: Raised when a floating-point operation fails (though it’s rarely used in practice).'"
      ]
     },
     "execution_count": 7,
     "metadata": {},
     "output_type": "execute_result"
    }
   ],
   "source": [
    "'''The ArithmeticError class in Python is a built-in exception that serves as a base class for all errors related to numeric\n",
    "calculations. It doesn’t represent a specific error by itself but is the parent class for more specific arithmetic-related errors.\n",
    "These include:\n",
    "\n",
    "ZeroDivisionError: Raised when a division or modulo operation is performed with a divisor of zero.\n",
    "OverflowError: Raised when a numerical operation exceeds the maximum limit for a numeric type.\n",
    "FloatingPointError: Raised when a floating-point operation fails (though it’s rarely used in practice).'''"
   ]
  },
  {
   "cell_type": "code",
   "execution_count": 8,
   "id": "b65b4c27-377e-47d5-b004-409607f9727f",
   "metadata": {},
   "outputs": [
    {
     "name": "stdout",
     "output_type": "stream",
     "text": [
      "Error: math range error. The number has grown too large!\n"
     ]
    }
   ],
   "source": [
    "import math\n",
    "\n",
    "def giant_number():\n",
    "    try:\n",
    "        result = math.exp(1000)  # Exponentiation can grow very large, very fast\n",
    "    except OverflowError as e:\n",
    "        print(f\"Error: {e}. The number has grown too large!\")\n",
    "\n",
    "giant_number()\n"
   ]
  },
  {
   "cell_type": "code",
   "execution_count": 9,
   "id": "0d799fba-91d4-448d-8e97-6cfbe5f689a6",
   "metadata": {},
   "outputs": [
    {
     "name": "stdout",
     "output_type": "stream",
     "text": [
      "Error: division by zero. Division by zero is not allowed!\n"
     ]
    }
   ],
   "source": [
    "def forbidden_divide():\n",
    "    try:\n",
    "        result = 10 / 0\n",
    "    except ZeroDivisionError as e:\n",
    "        print(f\"Error: {e}. Division by zero is not allowed!\")\n",
    "\n",
    "forbidden_divide()\n"
   ]
  },
  {
   "cell_type": "code",
   "execution_count": 10,
   "id": "175031d7-cc51-4127-9827-7366e0b0ce28",
   "metadata": {},
   "outputs": [
    {
     "data": {
      "text/plain": [
       "'Q4. Why LookupError class is used? Explain with an example KeyError and IndexError.'"
      ]
     },
     "execution_count": 10,
     "metadata": {},
     "output_type": "execute_result"
    }
   ],
   "source": [
    "'''Q4. Why LookupError class is used? Explain with an example KeyError and IndexError.'''"
   ]
  },
  {
   "cell_type": "code",
   "execution_count": 11,
   "id": "084b48dd-357a-43d8-b64d-e9f84bb0d404",
   "metadata": {},
   "outputs": [
    {
     "data": {
      "text/plain": [
       "'1. KeyError: The Missing Book\\nStoryline: In the Library of Data, every book has a unique title (key). But sometimes, when you ask for a book by its title,\\nthe librarian (Python) might\\nnot find it on the shelf. This triggers a KeyError, indicating that the requested book (key) is missing from the collection (dictionary).\\n2. IndexError: The Out of Bounds Shelf\\nStoryline: The Library of Data also has shelves (lists) with information organized in a specific order. Each shelf has a limited number\\nof slots. Sometimes, if you ask for an item from a slot\\nnumber that doesn’t exist, the librarian will raise an IndexError, indicating that you’ve requested something beyond the available slots.'"
      ]
     },
     "execution_count": 11,
     "metadata": {},
     "output_type": "execute_result"
    }
   ],
   "source": [
    "'''1. KeyError: The Missing Book\n",
    "Storyline: In the Library of Data, every book has a unique title (key). But sometimes, when you ask for a book by its title,\n",
    "the librarian (Python) might\n",
    "not find it on the shelf. This triggers a KeyError, indicating that the requested book (key) is missing from the collection (dictionary).\n",
    "2. IndexError: The Out of Bounds Shelf\n",
    "Storyline: The Library of Data also has shelves (lists) with information organized in a specific order. Each shelf has a limited number\n",
    "of slots. Sometimes, if you ask for an item from a slot\n",
    "number that doesn’t exist, the librarian will raise an IndexError, indicating that you’ve requested something beyond the available slots.'''"
   ]
  },
  {
   "cell_type": "code",
   "execution_count": 12,
   "id": "8f2baffd-05a8-4638-b26c-7c094f7cd668",
   "metadata": {},
   "outputs": [
    {
     "name": "stdout",
     "output_type": "stream",
     "text": [
      "Error: 'The Great Gatsby'. The book title you're looking for is missing from the library!\n"
     ]
    }
   ],
   "source": [
    "def find_book():\n",
    "    library = {\"Moby Dick\": \"Herman Melville\", \"1984\": \"George Orwell\"}\n",
    "    try:\n",
    "        author = library[\"The Great Gatsby\"]  # This book is not in the library\n",
    "    except KeyError as e:\n",
    "        print(f\"Error: {e}. The book title you're looking for is missing from the library!\")\n",
    "\n",
    "find_book()\n"
   ]
  },
  {
   "cell_type": "code",
   "execution_count": 13,
   "id": "9d0aba82-4362-435f-a019-1699a01c43b1",
   "metadata": {},
   "outputs": [
    {
     "name": "stdout",
     "output_type": "stream",
     "text": [
      "Error: list index out of range. You've tried to access a shelf slot that doesn't exist!\n"
     ]
    }
   ],
   "source": [
    "def find_item_on_shelf():\n",
    "    shelf = [\"Book A\", \"Book B\", \"Book C\"]\n",
    "    try:\n",
    "        item = shelf[5]  # There are only 3 items, so index 5 is out of bounds\n",
    "    except IndexError as e:\n",
    "        print(f\"Error: {e}. You've tried to access a shelf slot that doesn't exist!\")\n",
    "\n",
    "find_item_on_shelf()\n"
   ]
  },
  {
   "cell_type": "code",
   "execution_count": 14,
   "id": "55f4e547-7f53-4f2b-bfd7-3627d3eb83e5",
   "metadata": {},
   "outputs": [
    {
     "data": {
      "text/plain": [
       "'Q5. Explain ImportError. What is ModuleNotFoundError?'"
      ]
     },
     "execution_count": 14,
     "metadata": {},
     "output_type": "execute_result"
    }
   ],
   "source": [
    "'''Q5. Explain ImportError. What is ModuleNotFoundError?'''"
   ]
  },
  {
   "cell_type": "code",
   "execution_count": 15,
   "id": "1b1cc216-3cce-448d-9720-ff637f719a19",
   "metadata": {},
   "outputs": [
    {
     "data": {
      "text/plain": [
       "'Imagine you’re building a complex machine, and each part of the machine comes from different specialized factories (Python modules).\\nYou carefully select and assemble these parts to make the machine work. However, \\nsometimes when you go to fetch a part, it’s either missing or can’t be fit into your machine.\\nThis is where ImportError comes into play.\\nLet’s dive deeper into one specific scenario—the module itself is missing. ModuleNotFoundError is a subclass of ImportError,\\nintroduced in Python 3.6, that specifically handles cases where the entire factory (module) you’re trying to source a part from is missing.'"
      ]
     },
     "execution_count": 15,
     "metadata": {},
     "output_type": "execute_result"
    }
   ],
   "source": [
    "'''Imagine you’re building a complex machine, and each part of the machine comes from different specialized factories (Python modules).\n",
    "You carefully select and assemble these parts to make the machine work. However, \n",
    "sometimes when you go to fetch a part, it’s either missing or can’t be fit into your machine.\n",
    "This is where ImportError comes into play.\n",
    "Let’s dive deeper into one specific scenario—the module itself is missing. ModuleNotFoundError is a subclass of ImportError,\n",
    "introduced in Python 3.6, that specifically handles cases where the entire factory (module) you’re trying to source a part from is missing.'''\n",
    "\n"
   ]
  },
  {
   "cell_type": "code",
   "execution_count": 16,
   "id": "aad019f1-1b27-4dfa-97db-fb508d4eebee",
   "metadata": {},
   "outputs": [
    {
     "name": "stdout",
     "output_type": "stream",
     "text": [
      "Error: No module named 'nonexistentmodule'. The module you're trying to import doesn't exist!\n"
     ]
    }
   ],
   "source": [
    "try:\n",
    "    import nonexistentmodule  # This module doesn't exist anywhere in the environment\n",
    "except ModuleNotFoundError as e:\n",
    "    print(f\"Error: {e}. The module you're trying to import doesn't exist!\")\n",
    "\n"
   ]
  },
  {
   "cell_type": "code",
   "execution_count": 17,
   "id": "3f028077-f2bf-48b9-a3a4-04e734b32a0a",
   "metadata": {},
   "outputs": [
    {
     "name": "stdout",
     "output_type": "stream",
     "text": [
      "Error: No module named 'nonexistentmodule'. The module you're trying to import doesn't exist!\n"
     ]
    }
   ],
   "source": [
    "try:\n",
    "    import nonexistentmodule  # This module doesn't exist anywhere in the environment\n",
    "except ModuleNotFoundError as e:\n",
    "    print(f\"Error: {e}. The module you're trying to import doesn't exist!\")\n",
    "\n"
   ]
  },
  {
   "cell_type": "code",
   "execution_count": 18,
   "id": "cfcb5b04-7122-4f58-a42d-2776d3a58dbf",
   "metadata": {},
   "outputs": [
    {
     "data": {
      "text/plain": [
       "'Q6. List down some best practices for exception handling in python.'"
      ]
     },
     "execution_count": 18,
     "metadata": {},
     "output_type": "execute_result"
    }
   ],
   "source": [
    "'''Q6. List down some best practices for exception handling in python.'''"
   ]
  },
  {
   "cell_type": "code",
   "execution_count": 20,
   "id": "e66b19f7-bb66-46d5-b11d-d62b36f41d2f",
   "metadata": {},
   "outputs": [
    {
     "data": {
      "text/plain": [
       "'Catch Specific Exceptions: Avoid using a blanket except clause; catch specific exceptions to handle only the errors you expect.\\nAvoid Silent Failures: Never use an empty except block; always log or handle exceptions to prevent silent errors.\\nUse finally for Cleanup: Ensure cleanup actions like closing files or releasing resources are always performed by using the finally block.\\nUse Custom Exceptions: Create and raise custom exceptions to make error handling more meaningful and specific to your application.\\nUse Logging Instead of Printing: Utilize the logging module for error reporting to provide more control and flexibility over how errors\\nare recorded and reviewed.'"
      ]
     },
     "execution_count": 20,
     "metadata": {},
     "output_type": "execute_result"
    }
   ],
   "source": [
    "'''Catch Specific Exceptions: Avoid using a blanket except clause; catch specific exceptions to handle only the errors you expect.\n",
    "Avoid Silent Failures: Never use an empty except block; always log or handle exceptions to prevent silent errors.\n",
    "Use finally for Cleanup: Ensure cleanup actions like closing files or releasing resources are always performed by using the finally block.\n",
    "Use Custom Exceptions: Create and raise custom exceptions to make error handling more meaningful and specific to your application.\n",
    "Use Logging Instead of Printing: Utilize the logging module for error reporting to provide more control and flexibility over how errors\n",
    "are recorded and reviewed.'''\n",
    "\n",
    "\n",
    "\n",
    "\n",
    "\n",
    "\n"
   ]
  },
  {
   "cell_type": "code",
   "execution_count": null,
   "id": "33513725-a8be-43a7-a757-27483237713a",
   "metadata": {},
   "outputs": [],
   "source": []
  }
 ],
 "metadata": {
  "kernelspec": {
   "display_name": "Python 3 (ipykernel)",
   "language": "python",
   "name": "python3"
  },
  "language_info": {
   "codemirror_mode": {
    "name": "ipython",
    "version": 3
   },
   "file_extension": ".py",
   "mimetype": "text/x-python",
   "name": "python",
   "nbconvert_exporter": "python",
   "pygments_lexer": "ipython3",
   "version": "3.10.8"
  }
 },
 "nbformat": 4,
 "nbformat_minor": 5
}
