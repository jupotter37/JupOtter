{
 "cells": [
  {
   "cell_type": "markdown",
   "id": "0a843bd9-09ca-4420-ba7d-da063643c75e",
   "metadata": {},
   "source": [
    "1)"
   ]
  },
  {
   "cell_type": "markdown",
   "id": "4a9ea539-585e-4225-9d1d-193b9cb8dd13",
   "metadata": {},
   "source": [
    "We use the Exception class as the base class for all custom exceptions because it provides a standardized way of handling errors in Python. The Exception class provides a set of methods and attributes that we can use to customize our exception and make it behave like a built-in exception.\n",
    "\n",
    "When we create a custom exception, we want it to have the same functionality as built-in exceptions, such as the ability to be caught by try-except blocks, to have an error message, and to propagate the error up the call stack. The Exception class already provides all of these functionalities, and so we can inherit from it and customize it to suit our needs.\n",
    "\n",
    "Additionally, using the Exception class as the base class for all custom exceptions ensures consistency and compatibility across different modules and packages. Since all exceptions in Python inherit from the Exception class, we can easily catch and handle any exception that occurs, regardless of where it originated from.\n",
    "\n",
    "Therefore, by using the Exception class as the base class for our custom exceptions, we ensure that our exceptions are standardized and can be easily handled and propagated throughout our code."
   ]
  },
  {
   "cell_type": "markdown",
   "id": "be2d6cdf-428d-4015-89f4-7787e5a3c08b",
   "metadata": {},
   "source": [
    "2)"
   ]
  },
  {
   "cell_type": "markdown",
   "id": "0e4734d8-e408-49d0-b38c-031dd4788904",
   "metadata": {},
   "source": [
    "Here's a Python program that prints the Python Exception Hierarchy:"
   ]
  },
  {
   "cell_type": "code",
   "execution_count": 1,
   "id": "2e852d32-6cf5-47e9-a51c-9d45e677122a",
   "metadata": {},
   "outputs": [
    {
     "name": "stdout",
     "output_type": "stream",
     "text": [
      "BaseException\n",
      " |- Exception\n",
      "    |- TypeError\n",
      "       |- FloatOperation\n",
      "       |- MultipartConversionError\n",
      "    |- StopAsyncIteration\n",
      "    |- StopIteration\n",
      "    |- ImportError\n",
      "       |- ModuleNotFoundError\n",
      "       |- ZipImportError\n",
      "    |- OSError\n",
      "       |- ConnectionError\n",
      "       |- BlockingIOError\n",
      "       |- ChildProcessError\n",
      "       |- FileExistsError\n",
      "       |- FileNotFoundError\n",
      "       |- IsADirectoryError\n",
      "       |- NotADirectoryError\n",
      "       |- InterruptedError\n",
      "       |- PermissionError\n",
      "       |- ProcessLookupError\n",
      "       |- TimeoutError\n",
      "       |- UnsupportedOperation\n",
      "       |- itimer_error\n",
      "       |- herror\n",
      "       |- gaierror\n",
      "       |- SSLError\n",
      "       |- Error\n",
      "       |- SpecialFileError\n",
      "       |- ExecError\n",
      "       |- ReadError\n",
      "       |- URLError\n",
      "       |- BadGzipFile\n",
      "    |- EOFError\n",
      "       |- IncompleteReadError\n",
      "    |- RuntimeError\n",
      "       |- RecursionError\n",
      "       |- NotImplementedError\n",
      "       |- _DeadlockError\n",
      "       |- BrokenBarrierError\n",
      "       |- BrokenExecutor\n",
      "       |- SendfileNotAvailableError\n",
      "       |- ExtractionError\n",
      "       |- VariableError\n",
      "    |- NameError\n",
      "       |- UnboundLocalError\n",
      "    |- AttributeError\n",
      "       |- FrozenInstanceError\n",
      "    |- SyntaxError\n",
      "       |- IndentationError\n",
      "    |- LookupError\n",
      "       |- IndexError\n",
      "       |- KeyError\n",
      "       |- CodecRegistryError\n",
      "    |- ValueError\n",
      "       |- UnicodeError\n",
      "       |- UnsupportedOperation\n",
      "       |- JSONDecodeError\n",
      "       |- SSLCertVerificationError\n",
      "       |- Error\n",
      "       |- UnsupportedDigestmodError\n",
      "       |- IllegalMonthError\n",
      "       |- IllegalWeekdayError\n",
      "       |- ParserError\n",
      "       |- ClassNotFound\n",
      "       |- ClipboardEmpty\n",
      "       |- MessageDefect\n",
      "       |- MacroToEdit\n",
      "       |- InvalidFileException\n",
      "       |- UnequalIterablesError\n",
      "       |- InvalidVersion\n",
      "       |- _InvalidELFFileHeader\n",
      "       |- InvalidWheelFilename\n",
      "       |- InvalidSdistFilename\n",
      "       |- InvalidSpecifier\n",
      "       |- InvalidMarker\n",
      "       |- UndefinedComparison\n",
      "       |- UndefinedEnvironmentName\n",
      "       |- InvalidRequirement\n",
      "       |- InvalidVersion\n",
      "    |- AssertionError\n",
      "    |- ArithmeticError\n",
      "       |- FloatingPointError\n",
      "       |- OverflowError\n",
      "       |- ZeroDivisionError\n",
      "       |- DecimalException\n",
      "    |- SystemError\n",
      "       |- CodecRegistryError\n",
      "    |- ReferenceError\n",
      "    |- MemoryError\n",
      "    |- BufferError\n",
      "    |- Warning\n",
      "       |- UserWarning\n",
      "       |- EncodingWarning\n",
      "       |- DeprecationWarning\n",
      "       |- PendingDeprecationWarning\n",
      "       |- SyntaxWarning\n",
      "       |- RuntimeWarning\n",
      "       |- FutureWarning\n",
      "       |- ImportWarning\n",
      "       |- UnicodeWarning\n",
      "       |- BytesWarning\n",
      "       |- ResourceWarning\n",
      "       |- DeprecatedTzFormatWarning\n",
      "       |- PkgResourcesDeprecationWarning\n",
      "    |- _OptionError\n",
      "    |- _Error\n",
      "    |- error\n",
      "    |- Verbose\n",
      "    |- Error\n",
      "    |- SubprocessError\n",
      "       |- CalledProcessError\n",
      "       |- TimeoutExpired\n",
      "    |- TokenError\n",
      "    |- StopTokenizing\n",
      "    |- ClassFoundException\n",
      "    |- EndOfBlock\n",
      "    |- TraitError\n",
      "    |- Error\n",
      "    |- Error\n",
      "       |- CancelledError\n",
      "       |- TimeoutError\n",
      "       |- InvalidStateError\n",
      "    |- _GiveupOnSendfile\n",
      "    |- error\n",
      "    |- Incomplete\n",
      "    |- TimeoutError\n",
      "    |- InvalidStateError\n",
      "    |- LimitOverrunError\n",
      "    |- QueueEmpty\n",
      "    |- QueueFull\n",
      "    |- Empty\n",
      "    |- Full\n",
      "    |- ArgumentError\n",
      "    |- ZMQBaseError\n",
      "       |- ZMQError\n",
      "       |- ZMQBindError\n",
      "       |- NotDone\n",
      "    |- PickleError\n",
      "       |- PicklingError\n",
      "       |- UnpicklingError\n",
      "    |- _Stop\n",
      "    |- ArgumentError\n",
      "    |- ArgumentTypeError\n",
      "    |- ConfigError\n",
      "       |- ConfigLoaderError\n",
      "       |- ConfigFileNotFound\n",
      "    |- ConfigurableError\n",
      "       |- MultipleInstanceError\n",
      "    |- ApplicationError\n",
      "    |- error\n",
      "    |- TimeoutError\n",
      "    |- error\n",
      "    |- ReturnValueIgnoredError\n",
      "    |- KeyReuseError\n",
      "    |- UnknownKeyError\n",
      "    |- LeakedCallbackError\n",
      "    |- BadYieldError\n",
      "    |- ReturnValueIgnoredError\n",
      "    |- Return\n",
      "    |- InvalidPortNumber\n",
      "    |- error\n",
      "    |- LZMAError\n",
      "    |- RegistryError\n",
      "    |- _GiveupOnFastCopy\n",
      "    |- Error\n",
      "       |- NoSectionError\n",
      "       |- DuplicateSectionError\n",
      "       |- DuplicateOptionError\n",
      "       |- NoOptionError\n",
      "       |- InterpolationError\n",
      "       |- ParsingError\n",
      "    |- NoIPAddresses\n",
      "    |- BadZipFile\n",
      "    |- LargeZipFile\n",
      "    |- BadEntryPoint\n",
      "    |- NoSuchEntryPoint\n",
      "    |- DuplicateKernelError\n",
      "    |- ErrorDuringImport\n",
      "    |- NotOneValueFound\n",
      "    |- CannotEval\n",
      "    |- OptionError\n",
      "    |- BdbQuit\n",
      "    |- Restart\n",
      "    |- ExceptionPexpect\n",
      "       |- EOF\n",
      "       |- TIMEOUT\n",
      "    |- PtyProcessError\n",
      "    |- FindCmdError\n",
      "    |- HomeDirError\n",
      "    |- ProfileDirError\n",
      "    |- IPythonCoreError\n",
      "       |- TryNext\n",
      "       |- UsageError\n",
      "       |- StdinNotImplementedError\n",
      "    |- InputRejected\n",
      "    |- GetoptError\n",
      "    |- ErrorToken\n",
      "    |- PrefilterError\n",
      "    |- AliasError\n",
      "       |- InvalidAliasError\n",
      "    |- Error\n",
      "       |- InterfaceError\n",
      "       |- DatabaseError\n",
      "    |- Warning\n",
      "    |- SpaceInInput\n",
      "    |- DOMException\n",
      "       |- IndexSizeErr\n",
      "       |- DomstringSizeErr\n",
      "       |- HierarchyRequestErr\n",
      "       |- WrongDocumentErr\n",
      "       |- InvalidCharacterErr\n",
      "       |- NoDataAllowedErr\n",
      "       |- NoModificationAllowedErr\n",
      "       |- NotFoundErr\n",
      "       |- NotSupportedErr\n",
      "       |- InuseAttributeErr\n",
      "       |- InvalidStateErr\n",
      "       |- SyntaxErr\n",
      "       |- InvalidModificationErr\n",
      "       |- NamespaceErr\n",
      "       |- InvalidAccessErr\n",
      "       |- ValidationErr\n",
      "    |- ValidationError\n",
      "    |- EditReadOnlyBuffer\n",
      "    |- _Retry\n",
      "    |- InvalidLayoutError\n",
      "    |- HeightIsUnknownError\n",
      "    |- ParserSyntaxError\n",
      "    |- InternalParseError\n",
      "    |- _PositionUpdatingFinished\n",
      "    |- SimpleGetItemNotFound\n",
      "    |- UncaughtAttributeError\n",
      "    |- HasNoContext\n",
      "    |- ParamIssue\n",
      "    |- _JediError\n",
      "       |- InternalError\n",
      "       |- WrongVersion\n",
      "       |- RefactoringError\n",
      "    |- OnErrorLeaf\n",
      "    |- InvalidPythonEnvironment\n",
      "    |- MessageError\n",
      "       |- MessageParseError\n",
      "       |- MultipartConversionError\n",
      "       |- CharsetError\n",
      "    |- Error\n",
      "    |- HTTPException\n",
      "       |- NotConnected\n",
      "       |- InvalidURL\n",
      "       |- UnknownProtocol\n",
      "       |- UnknownTransferEncoding\n",
      "       |- UnimplementedFileMode\n",
      "       |- IncompleteRead\n",
      "       |- ImproperConnectionState\n",
      "       |- BadStatusLine\n",
      "       |- LineTooLong\n",
      "    |- InteractivelyDefined\n",
      "    |- KillEmbedded\n",
      "    |- Error\n",
      "       |- NoSuchProcess\n",
      "       |- AccessDenied\n",
      "       |- TimeoutExpired\n",
      "    |- _Ipv6UnsupportedError\n",
      "    |- QueueEmpty\n",
      "    |- QueueFull\n",
      "    |- DebuggerInitializationError\n",
      "    |- ExpatError\n",
      "    |- Error\n",
      "       |- ProtocolError\n",
      "       |- ResponseError\n",
      "       |- Fault\n",
      "    |- ParseBaseException\n",
      "       |- ParseException\n",
      "       |- ParseFatalException\n",
      "    |- RecursiveGrammarException\n",
      "    |- ResolutionError\n",
      "       |- VersionConflict\n",
      "       |- DistributionNotFound\n",
      "       |- UnknownExtra\n",
      "    |- _Error\n",
      "    |- UnableToResolveVariableException\n",
      "    |- InvalidTypeInArgsException\n",
      " |- GeneratorExit\n",
      " |- SystemExit\n",
      " |- KeyboardInterrupt\n",
      " |- CancelledError\n",
      " |- AbortThread\n"
     ]
    }
   ],
   "source": [
    "# Python Exception Hierarchy\n",
    "\n",
    "# Get the base Exception class\n",
    "base_exception = BaseException\n",
    "\n",
    "# Print the hierarchy\n",
    "print(base_exception.__name__)\n",
    "for cls in base_exception.__subclasses__():\n",
    "    print(' |-', cls.__name__)\n",
    "    for sub_cls in cls.__subclasses__():\n",
    "        print('    |-', sub_cls.__name__)\n",
    "        for sub_sub_cls in sub_cls.__subclasses__():\n",
    "            print('       |-', sub_sub_cls.__name__)\n",
    "            # Add more levels as needed"
   ]
  },
  {
   "cell_type": "markdown",
   "id": "f0cbd198-7567-4a25-8446-903fd52e4e30",
   "metadata": {},
   "source": [
    "This hierarchy shows the relationship between the various built-in exception classes in Python."
   ]
  },
  {
   "cell_type": "markdown",
   "id": "23ce2bfb-826b-4772-adad-a0ddedfe7f36",
   "metadata": {},
   "source": [
    "3)"
   ]
  },
  {
   "cell_type": "markdown",
   "id": "c050a7fd-0200-4474-a82b-31b9fcb48a10",
   "metadata": {},
   "source": [
    "The 'ArithmeticError' class is a built-in exception class in Python that serves as the base class for all errors that occur during arithmetic operations. Here are two examples of errors that are defined in the 'ArithmeticError' class:"
   ]
  },
  {
   "cell_type": "markdown",
   "id": "53f689dc-85d3-4eec-ba69-28f31c82ba28",
   "metadata": {},
   "source": [
    "i) 'ZeroDivisionError': This error occurs when a number is divided by zero. For example:"
   ]
  },
  {
   "cell_type": "code",
   "execution_count": 2,
   "id": "a84fe997-57fb-47dc-adbc-de9da328ed1f",
   "metadata": {},
   "outputs": [
    {
     "ename": "ZeroDivisionError",
     "evalue": "division by zero",
     "output_type": "error",
     "traceback": [
      "\u001b[0;31m---------------------------------------------------------------------------\u001b[0m",
      "\u001b[0;31mZeroDivisionError\u001b[0m                         Traceback (most recent call last)",
      "Cell \u001b[0;32mIn[2], line 1\u001b[0m\n\u001b[0;32m----> 1\u001b[0m \u001b[38;5;241;43m5\u001b[39;49m\u001b[38;5;241;43m/\u001b[39;49m\u001b[38;5;241;43m0\u001b[39;49m\n",
      "\u001b[0;31mZeroDivisionError\u001b[0m: division by zero"
     ]
    }
   ],
   "source": [
    "5/0"
   ]
  },
  {
   "cell_type": "markdown",
   "id": "e387078a-b33f-4710-a1bd-7a487b6f8163",
   "metadata": {},
   "source": [
    "ii)'OverflowError': This error occurs when the result of an arithmetic operation is too large to be represented by the data type being used. For example:"
   ]
  },
  {
   "cell_type": "code",
   "execution_count": 5,
   "id": "5571d8e1-03a9-4116-b4d8-98690d55c514",
   "metadata": {},
   "outputs": [
    {
     "name": "stdout",
     "output_type": "stream",
     "text": [
      "5.0\n",
      "25.0\n",
      "15625.0\n",
      "5.960464477539062e+16\n",
      "7.52316384526264e+83\n"
     ]
    },
    {
     "ename": "OverflowError",
     "evalue": "(34, 'Numerical result out of range')",
     "output_type": "error",
     "traceback": [
      "\u001b[0;31m---------------------------------------------------------------------------\u001b[0m",
      "\u001b[0;31mOverflowError\u001b[0m                             Traceback (most recent call last)",
      "Cell \u001b[0;32mIn[5], line 4\u001b[0m\n\u001b[1;32m      1\u001b[0m j \u001b[38;5;241m=\u001b[39m \u001b[38;5;241m5.0\u001b[39m\n\u001b[1;32m      3\u001b[0m \u001b[38;5;28;01mfor\u001b[39;00m i \u001b[38;5;129;01min\u001b[39;00m \u001b[38;5;28mrange\u001b[39m(\u001b[38;5;241m1\u001b[39m, \u001b[38;5;241m1000\u001b[39m):\n\u001b[0;32m----> 4\u001b[0m     j \u001b[38;5;241m=\u001b[39m \u001b[43mj\u001b[49m\u001b[38;5;241;43m*\u001b[39;49m\u001b[38;5;241;43m*\u001b[39;49m\u001b[43mi\u001b[49m\n\u001b[1;32m      5\u001b[0m     \u001b[38;5;28mprint\u001b[39m(j)\n",
      "\u001b[0;31mOverflowError\u001b[0m: (34, 'Numerical result out of range')"
     ]
    }
   ],
   "source": [
    "j = 5.0\n",
    "\n",
    "for i in range(1, 1000):\n",
    "    j = j**i\n",
    "    print(j)"
   ]
  },
  {
   "cell_type": "markdown",
   "id": "e35502e6-d19c-463e-a58f-39db03dc15fc",
   "metadata": {},
   "source": [
    "Both of these errors are examples of arithmetic errors that can occur in Python. The 'ArithmeticError' class provides a common base class for these and other related errors, which makes it easier to catch and handle these errors in a consistent way."
   ]
  },
  {
   "cell_type": "markdown",
   "id": "6e870598-21c6-4d05-b33b-95f8985f3d16",
   "metadata": {},
   "source": [
    "4)"
   ]
  },
  {
   "cell_type": "markdown",
   "id": "df7e592e-aebf-45f5-9a31-eb36543f08d1",
   "metadata": {},
   "source": [
    "The 'LookupError' class is a built-in exception class in Python that serves as the base class for all errors that occur when a specified key or index is not found in a collection or sequence."
   ]
  },
  {
   "cell_type": "markdown",
   "id": "6facb66a-86b2-43e7-b2f7-57114fe52ee2",
   "metadata": {},
   "source": [
    "Here are two examples of errors that are defined in the 'LookupError' class:"
   ]
  },
  {
   "cell_type": "markdown",
   "id": "ee779194-5624-46e0-ba21-505dff8761bc",
   "metadata": {},
   "source": [
    "i)'KeyError': This error occurs when a specified key is not found in a dictionary. For example:"
   ]
  },
  {
   "cell_type": "code",
   "execution_count": 7,
   "id": "a2b9df60-2773-408b-91d0-826fdcfcb8ff",
   "metadata": {},
   "outputs": [],
   "source": [
    " my_dict = {'a': 1, 'b': 2, 'c': 3}"
   ]
  },
  {
   "cell_type": "code",
   "execution_count": 8,
   "id": "562af853-2f91-4340-9183-57aa4ec82161",
   "metadata": {},
   "outputs": [
    {
     "ename": "KeyError",
     "evalue": "'d'",
     "output_type": "error",
     "traceback": [
      "\u001b[0;31m---------------------------------------------------------------------------\u001b[0m",
      "\u001b[0;31mKeyError\u001b[0m                                  Traceback (most recent call last)",
      "Cell \u001b[0;32mIn[8], line 1\u001b[0m\n\u001b[0;32m----> 1\u001b[0m \u001b[43mmy_dict\u001b[49m\u001b[43m[\u001b[49m\u001b[38;5;124;43m'\u001b[39;49m\u001b[38;5;124;43md\u001b[39;49m\u001b[38;5;124;43m'\u001b[39;49m\u001b[43m]\u001b[49m\n",
      "\u001b[0;31mKeyError\u001b[0m: 'd'"
     ]
    }
   ],
   "source": [
    " my_dict['d']"
   ]
  },
  {
   "cell_type": "markdown",
   "id": "7b9696f5-69fb-4f11-916b-e98efa2ddedc",
   "metadata": {},
   "source": [
    "In this example, we try to access the value associated with the key 'd' in the 'my_dict' dictionary. However, this key does not exist in the dictionary, so a 'KeyError' is raised."
   ]
  },
  {
   "cell_type": "markdown",
   "id": "61dc413a-6bb5-4107-b87b-6afe4db1ea3f",
   "metadata": {},
   "source": [
    "ii)'IndexError': This error occurs when a specified index is not found in a sequence, such as a list or a tuple. For example:"
   ]
  },
  {
   "cell_type": "code",
   "execution_count": 9,
   "id": "7807eeb7-03d3-495c-8d14-f5c3767159da",
   "metadata": {},
   "outputs": [
    {
     "ename": "IndexError",
     "evalue": "list index out of range",
     "output_type": "error",
     "traceback": [
      "\u001b[0;31m---------------------------------------------------------------------------\u001b[0m",
      "\u001b[0;31mIndexError\u001b[0m                                Traceback (most recent call last)",
      "Cell \u001b[0;32mIn[9], line 2\u001b[0m\n\u001b[1;32m      1\u001b[0m my_list \u001b[38;5;241m=\u001b[39m [\u001b[38;5;241m1\u001b[39m, \u001b[38;5;241m2\u001b[39m, \u001b[38;5;241m3\u001b[39m]\n\u001b[0;32m----> 2\u001b[0m \u001b[43mmy_list\u001b[49m\u001b[43m[\u001b[49m\u001b[38;5;241;43m3\u001b[39;49m\u001b[43m]\u001b[49m\n",
      "\u001b[0;31mIndexError\u001b[0m: list index out of range"
     ]
    }
   ],
   "source": [
    " my_list = [1, 2, 3]\n",
    ">>> my_list[3]"
   ]
  },
  {
   "cell_type": "markdown",
   "id": "5486de4f-5816-4f52-b11e-964365b42b3f",
   "metadata": {},
   "source": [
    "In this example, we try to access the element at index 3 in the 'my_list' list. However, this index is out of range for the list, which only has three elements, so an 'IndexError' is raised."
   ]
  },
  {
   "cell_type": "markdown",
   "id": "f992be5a-7ec7-4770-bc25-7e6df1930d7c",
   "metadata": {},
   "source": [
    "Both of these errors are examples of lookup errors that can occur in Python. The 'LookupError' class provides a common base class for these and other related errors, which makes it easier to catch and handle these errors in a consistent way."
   ]
  },
  {
   "cell_type": "markdown",
   "id": "9d0ad661-152f-42ad-867e-f99a234916c0",
   "metadata": {},
   "source": [
    "5)"
   ]
  },
  {
   "cell_type": "markdown",
   "id": "430cbb08-7e1e-4e2c-9f1e-6ec5a4c6a55d",
   "metadata": {},
   "source": [
    "'ImportError' is a built-in exception class in Python that is raised when a module or a name in a module cannot be imported. This error usually occurs when there is an issue with the import statement, such as when the specified module or name does not exist or when there are circular imports.\n",
    "\n",
    "'ModuleNotFoundError' is a subclass of 'ImportError' that is specifically raised when a specified module cannot be found. This error was introduced in Python 3.6 as a more specific version of the 'ImportError' exception. Prior to Python 3.6, the 'ImportError' exception was raised for all import-related errors."
   ]
  },
  {
   "cell_type": "markdown",
   "id": "41d4c11b-d1a0-4ada-acec-430bc08929b0",
   "metadata": {},
   "source": [
    "Here's an example of 'ImportError':"
   ]
  },
  {
   "cell_type": "code",
   "execution_count": 10,
   "id": "45fa39f9-58d0-41e3-9ff5-091fe9bf6d46",
   "metadata": {},
   "outputs": [
    {
     "name": "stdout",
     "output_type": "stream",
     "text": [
      "An ImportError occurred: No module named 'non_existent_module'\n"
     ]
    }
   ],
   "source": [
    "try:\n",
    "    import non_existent_module\n",
    "except ImportError as e:\n",
    "    print(\"An ImportError occurred:\", e)"
   ]
  },
  {
   "cell_type": "markdown",
   "id": "0806b4d9-7df8-4b62-a9f7-67809d17bf4e",
   "metadata": {},
   "source": [
    "In this example, we try to import a module called 'non_existent_module', which does not exist. When we run this code, an 'ImportError' is raised and the message \"An ImportError occurred\" is printed to the console."
   ]
  },
  {
   "cell_type": "markdown",
   "id": "94e09271-fc43-4717-8858-d97a5fab05c2",
   "metadata": {},
   "source": [
    "Here's an example of 'ModuleNotFoundError':"
   ]
  },
  {
   "cell_type": "code",
   "execution_count": 12,
   "id": "b8f52178-1bb0-46e3-8280-3f8af35ac2a7",
   "metadata": {},
   "outputs": [
    {
     "name": "stdout",
     "output_type": "stream",
     "text": [
      "A ModuleNotFoundError occurred: No module named 'non_existent_module'\n"
     ]
    }
   ],
   "source": [
    "try:\n",
    "    import non_existent_module\n",
    "except ModuleNotFoundError as e:\n",
    "    print(\"A ModuleNotFoundError occurred:\", e)"
   ]
  },
  {
   "cell_type": "markdown",
   "id": "0e897956-d334-480b-97b8-ce31800cc206",
   "metadata": {},
   "source": [
    "In this example, we again try to import a module called 'non_existent_module', which does not exist. When we run this code, a 'ModuleNotFoundError' is raised instead of an 'ImportError', and the message \"A ModuleNotFoundError occurred\" is printed to the console."
   ]
  },
  {
   "cell_type": "markdown",
   "id": "d25cc487-bbf7-4ad4-bce2-5dbf330c4c60",
   "metadata": {},
   "source": [
    "6)"
   ]
  },
  {
   "cell_type": "markdown",
   "id": "1fd3a82b-63f8-44b1-bcde-f6350dc13e40",
   "metadata": {},
   "source": [
    "Here are some best practices for exception handling in Python:"
   ]
  },
  {
   "cell_type": "markdown",
   "id": "a2f66326-9489-4a5a-8f91-d137af039f18",
   "metadata": {},
   "source": [
    "i)Use specific exception types: When possible, use specific exception types instead of more general ones. This makes it easier to identify and handle specific errors, and it also makes your code more readable."
   ]
  },
  {
   "cell_type": "markdown",
   "id": "41fa9fab-98f5-4bd2-80b8-6d3dbe63df25",
   "metadata": {},
   "source": [
    "ii)Use try-except blocks: Use try-except blocks to catch exceptions and handle them gracefully. This allows your code to recover from errors and continue running, rather than crashing or producing unexpected results."
   ]
  },
  {
   "cell_type": "markdown",
   "id": "956730f3-8d00-4a14-988b-bcf7df4584ee",
   "metadata": {},
   "source": [
    "iii)Keep exception handling separate from the main code: Exception handling code should be kept separate from the main code to improve readability and maintainability. It should not be mixed with the main code logic."
   ]
  },
  {
   "cell_type": "markdown",
   "id": "191ab8e9-9f1b-4f6d-9a0f-d1d6841d2837",
   "metadata": {},
   "source": [
    "iv)Use finally blocks: Use finally blocks to ensure that certain code is always executed, regardless of whether an exception is raised or not. This can be useful for releasing resources or cleaning up data."
   ]
  },
  {
   "cell_type": "markdown",
   "id": "acda4864-f431-4ee7-a341-3db0bcbeee6d",
   "metadata": {},
   "source": [
    "v)Be specific with exception messages: When raising exceptions or printing error messages, be specific about what went wrong and what caused the error. This helps with debugging and makes it easier to identify the root cause of the problem."
   ]
  },
  {
   "cell_type": "markdown",
   "id": "2a253f6c-eb6a-4b5d-bbf4-8314ff63ebf1",
   "metadata": {},
   "source": [
    "vi)Don't catch all exceptions: Avoid catching all exceptions with a bare except statement. This can mask errors and make debugging more difficult. Instead, only catch the specific exceptions that you expect to occur."
   ]
  },
  {
   "cell_type": "markdown",
   "id": "c0b92a22-5ab3-4c86-bbaa-e51582e2045b",
   "metadata": {},
   "source": [
    "vii)Use context managers: Use context managers, such as the \"with\" statement, to automatically release resources and handle exceptions that may occur during operations. This makes your code more robust and prevents resource leaks."
   ]
  },
  {
   "cell_type": "markdown",
   "id": "76d3a8ac-1fe8-4c60-ba94-cd99a7e6aaa5",
   "metadata": {},
   "source": [
    "viii)Handle exceptions where they occur: Handle exceptions as close to where they occur as possible. This makes it easier to understand what caused the error and can help with debugging."
   ]
  },
  {
   "cell_type": "markdown",
   "id": "e8258e8c-f31d-4b74-a773-eb0effedb842",
   "metadata": {},
   "source": [
    "ix)Use logging: Use logging to record exceptions and other error messages, rather than printing them to the console. This makes it easier to track errors and diagnose problems in production code."
   ]
  },
  {
   "cell_type": "markdown",
   "id": "3ae60cb9-6621-47c5-9266-258f9c1487c0",
   "metadata": {},
   "source": [
    "x)Test your exception handling: Test your code to make sure that it handles exceptions as expected. This can help catch errors and improve the reliability of your code."
   ]
  },
  {
   "cell_type": "code",
   "execution_count": null,
   "id": "ba52954b-04d0-4798-86ae-2cb3a529387a",
   "metadata": {},
   "outputs": [],
   "source": []
  }
 ],
 "metadata": {
  "kernelspec": {
   "display_name": "Python 3 (ipykernel)",
   "language": "python",
   "name": "python3"
  },
  "language_info": {
   "codemirror_mode": {
    "name": "ipython",
    "version": 3
   },
   "file_extension": ".py",
   "mimetype": "text/x-python",
   "name": "python",
   "nbconvert_exporter": "python",
   "pygments_lexer": "ipython3",
   "version": "3.10.8"
  }
 },
 "nbformat": 4,
 "nbformat_minor": 5
}
