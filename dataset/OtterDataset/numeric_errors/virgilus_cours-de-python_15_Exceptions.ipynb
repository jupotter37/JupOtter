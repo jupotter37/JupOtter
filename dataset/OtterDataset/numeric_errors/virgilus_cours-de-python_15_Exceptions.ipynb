{
 "cells": [
  {
   "cell_type": "markdown",
   "id": "6f2722d4-8b51-4f07-9d5a-41eac7b5d226",
   "metadata": {},
   "source": [
    "# Exceptions"
   ]
  },
  {
   "cell_type": "markdown",
   "id": "fd3ee7d2-2568-4192-9e88-955aaadd122f",
   "metadata": {
    "tags": []
   },
   "source": [
    "## Structure de Base\n",
    "\n",
    "1. **Bloc `try`** : Ce bloc contient du code qui pourrait lever une exception.\n",
    "2. **Bloc `except`** : À n'importe quel moment de l'exécution du bloc de code ```try```, si une exception est levée, c'est ce bloc contient le code qui gère l'exception. Vous pouvez avoir plusieurs blocs `except` pour gérer différents types d'exceptions.\n",
    "3. **Bloc `else`** : Ce bloc contient le code qui s'exécute si aucune exception n'a été levée dans le bloc `try`.\n",
    "4. **Bloc `finally`** : Ce bloc contient le code qui s'exécute qu'une exception ait été levée ou non. Il est généralement utilisé pour des actions de nettoyage."
   ]
  },
  {
   "cell_type": "markdown",
   "id": "8c68e3c5-b03c-415e-aa63-224f56407222",
   "metadata": {},
   "source": [
    "### Gestion d'Exception de Base"
   ]
  },
  {
   "cell_type": "code",
   "execution_count": null,
   "id": "766b2699-d671-4dea-a4e6-2dce3005b66f",
   "metadata": {
    "tags": []
   },
   "outputs": [],
   "source": [
    "try:\n",
    "    resultat = 10 / 0\n",
    "except ZeroDivisionError as e:\n",
    "    print(f\"An error occurred : {e}\")"
   ]
  },
  {
   "cell_type": "markdown",
   "id": "e8d97a7e-c7f2-497f-b3ac-25cd7a5e9f0f",
   "metadata": {},
   "source": [
    "On peut trouver une liste des exceptions [sur la doc officielle de Python](https://docs.python.org/3/library/exceptions.html), ou bien en tapant ```except``` puis la touche tabulation."
   ]
  },
  {
   "cell_type": "markdown",
   "id": "a58a4efd-172d-4101-8d75-145acf37b062",
   "metadata": {},
   "source": [
    "### Plusieurs Blocs ```except```\n",
    "\n",
    "Il est possible d'avoir plusieurs blocs ```except``` afin de gérer tous les cas de figure."
   ]
  },
  {
   "cell_type": "code",
   "execution_count": null,
   "id": "c4ff19a4-30fa-4a9a-b70f-5326c1d1d46d",
   "metadata": {
    "tags": []
   },
   "outputs": [],
   "source": [
    "try:\n",
    "    resultat = 10 / 0\n",
    "except ZeroDivisionError as e:\n",
    "    print(f\"ZeroDivisionError : {e}\")\n",
    "except TypeError as e:\n",
    "    print(f\"TypeError : {e}\")\n",
    "except Exception as e:\n",
    "    print(f\"An error occurred : {e}\")"
   ]
  },
  {
   "cell_type": "markdown",
   "id": "2aa4459c-d94b-4d90-8ba1-11775a5d67b2",
   "metadata": {},
   "source": [
    "### Utilisation du Bloc ```else```\n",
    "\n",
    "Il est utilisé afin d'exécuter du code si celui-ci n'a pas levé d'erreur. Le ```else``` est donc \"relié\" au ```except```."
   ]
  },
  {
   "cell_type": "code",
   "execution_count": null,
   "id": "d2b9c5bc-9b8d-47b2-949e-6a0c31f215ac",
   "metadata": {
    "tags": []
   },
   "outputs": [],
   "source": [
    "try:\n",
    "    resultat = 10 / 2\n",
    "except ZeroDivisionError as e:\n",
    "    print(f\"An error occurred : {e}\")\n",
    "else:\n",
    "    print(f\"Results : {resultat}\")"
   ]
  },
  {
   "cell_type": "markdown",
   "id": "7fa5ecf2-907d-41c2-80d9-78138c64c36f",
   "metadata": {},
   "source": [
    "### Le Bloc ```finally```\n",
    "\n",
    "#### Utilisation\n",
    "\n",
    "Le bloc ```finally``` permet d'exécuter du code dans tous les cas de figure, il est souvent utilisé pour des opérations de nettoyage des données."
   ]
  },
  {
   "cell_type": "code",
   "execution_count": null,
   "id": "e5ff9bbe-1c32-4870-bc7e-6f1ed56c7323",
   "metadata": {
    "tags": []
   },
   "outputs": [],
   "source": [
    "try:\n",
    "    resultat = 10 / 0\n",
    "except ZeroDivisionError as e:\n",
    "    print(f\"An error occurred : {e}\")\n",
    "finally:\n",
    "    print(\"This block will be executed no matter what.\")"
   ]
  },
  {
   "cell_type": "markdown",
   "id": "b796bb1a-9c6c-4829-acae-c47f56dd423b",
   "metadata": {},
   "source": [
    "#### Quelle utilité pour ```finally``` ?"
   ]
  },
  {
   "cell_type": "code",
   "execution_count": null,
   "id": "11c7aab5-10ca-4f52-b553-1bac30805486",
   "metadata": {
    "tags": []
   },
   "outputs": [],
   "source": [
    "def compute_smthg():\n",
    "    try:\n",
    "        resultat = 10 / 0\n",
    "        return resultat\n",
    "\n",
    "    except ZeroDivisionError as e:\n",
    "        print(f\"An error occurred : {e}\")\n",
    "        return None\n",
    "    \n",
    "    print(\"This instruction will never be executed because it's not included inside a 'finally' block.\")\n",
    "        \n",
    "# Calling the function\n",
    "compute_smthg()"
   ]
  },
  {
   "cell_type": "code",
   "execution_count": null,
   "id": "24effe6a-0227-4a75-aea2-93d36c144b16",
   "metadata": {
    "tags": []
   },
   "outputs": [],
   "source": [
    "def compute_smthg():\n",
    "    try:\n",
    "        resultat = 10 / 2\n",
    "        return resultat\n",
    "\n",
    "    except ZeroDivisionError as e:\n",
    "        print(f\"An error occurred : {e}\")\n",
    "        return None\n",
    "    \n",
    "    finally:\n",
    "        print(\"This block will be executed before the function returns anything!\")\n",
    "        \n",
    "# Calling the function\n",
    "compute_smthg()"
   ]
  },
  {
   "cell_type": "markdown",
   "id": "266c056f-2c73-4889-a91d-a1d066d77340",
   "metadata": {},
   "source": [
    "## Lever des Exceptions\n",
    "\n",
    "### En utilisant ```raise```\n",
    "\n",
    "Vous pouvez également lever des exceptions manuellement en utilisant l'instruction ```raise```."
   ]
  },
  {
   "cell_type": "code",
   "execution_count": null,
   "id": "f2aba706-677c-4500-a017-5b011dd571ed",
   "metadata": {
    "tags": []
   },
   "outputs": [],
   "source": [
    "def diviser(a, b):\n",
    "    if b == 0:\n",
    "        raise ValueError(\"Impossible de diviser par zéro\")\n",
    "    return a / b\n",
    "\n",
    "try:\n",
    "    resultat = diviser(10, 0)\n",
    "except ValueError as e:\n",
    "    print(f\"Une erreur est survenue : {e}\")"
   ]
  },
  {
   "cell_type": "markdown",
   "id": "a0da69da-0862-4561-bef1-b6792ba443cc",
   "metadata": {},
   "source": [
    "### Exceptions Personnalisées\n",
    "\n",
    "Vous pouvez définir vos propres exceptions en créant une nouvelle classe qui hérite de la classe `Exception` intégrée."
   ]
  },
  {
   "cell_type": "code",
   "execution_count": null,
   "id": "05fead5b-06ca-4707-b8ef-f1b1fb8c47a3",
   "metadata": {},
   "outputs": [],
   "source": [
    "class MonErreurPersonnalisee(Exception):\n",
    "    pass\n",
    "\n",
    "def verifier_valeur(valeur):\n",
    "    if valeur < 0:\n",
    "        raise MonErreurPersonnalisee(\"La valeur doit être non négative\")\n",
    "\n",
    "try:\n",
    "    verifier_valeur(-1)\n",
    "except MonErreurPersonnalisee as e:\n",
    "    print(f\"Une erreur est survenue : {e}\")"
   ]
  },
  {
   "cell_type": "markdown",
   "id": "4e06f3d6-11f9-48db-a9b2-6e544611f5b8",
   "metadata": {},
   "source": [
    "## Hiérarchie des exceptions\n",
    "\n",
    "- La classe ```Exception``` est la classe de base pour toutes les exceptions natives qui n’entraînent pas une sortie du système et pour toutes les exceptions définies par l’utilisateur (nous sommes l’utilisateur dans ce cas) ;\n",
    "\n",
    "- La classe ```ArithmeticError``` est la classe de base pour les exceptions natives qui sont levées pour diverses erreurs arithmétiques et notamment pour les classes ```OverflowError```, ```ZeroDivisionError``` et ```FloatingPointError``` ;\n",
    "\n",
    "- La classe ```BufferError``` est la classe de base pour les exceptions levées lorsqu’une opération liée à un tampon (“buffer”) ne peut pas être exécutée ;\n",
    "\n",
    "- La classe ```LookupError``` est la classe de base pour les exceptions qui sont levées lorsqu’une clé ou un index utilisé sur un tableau de correspondances ou une séquence est invalide.\n",
    "\n",
    "[source](https://www.pierre-giraud.com/python-apprendre-programmer-cours/introduction-gestion-erreur-exception/#:~:text=Les%20classes%20exception,%C3%A9tat%20%E2%80%9Cexceptionnel%E2%80%9D%20du%20script.&text=Ici%2C%20nous%20avons%20trois%20types,ZeroDivisionError%20et%20une%20exception%20TypeError%20.)"
   ]
  }
 ],
 "metadata": {
  "kernelspec": {
   "display_name": "Python 3 (ipykernel)",
   "language": "python",
   "name": "python3"
  },
  "language_info": {
   "codemirror_mode": {
    "name": "ipython",
    "version": 3
   },
   "file_extension": ".py",
   "mimetype": "text/x-python",
   "name": "python",
   "nbconvert_exporter": "python",
   "pygments_lexer": "ipython3",
   "version": "3.11.0"
  }
 },
 "nbformat": 4,
 "nbformat_minor": 5
}
