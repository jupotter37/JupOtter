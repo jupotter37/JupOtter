{
 "cells": [
  {
   "cell_type": "code",
   "execution_count": 1,
   "metadata": {},
   "outputs": [],
   "source": [
    "from sklearn import datasets"
   ]
  },
  {
   "cell_type": "code",
   "execution_count": 2,
   "metadata": {},
   "outputs": [
    {
     "data": {
      "text/plain": [
       "{'__name__': 'sklearn.datasets',\n",
       " '__doc__': '\\nThe :mod:`sklearn.datasets` module includes utilities to load datasets,\\nincluding methods to load and fetch popular reference datasets. It also\\nfeatures some artificial data generators.\\n',\n",
       " '__package__': 'sklearn.datasets',\n",
       " '__loader__': <_frozen_importlib_external.SourceFileLoader at 0x24ae8d19588>,\n",
       " '__spec__': ModuleSpec(name='sklearn.datasets', loader=<_frozen_importlib_external.SourceFileLoader object at 0x0000024AE8D19588>, origin='c:\\\\users\\\\visitor.slsi\\\\appdata\\\\local\\\\programs\\\\python\\\\python37\\\\lib\\\\site-packages\\\\sklearn\\\\datasets\\\\__init__.py', submodule_search_locations=['c:\\\\users\\\\visitor.slsi\\\\appdata\\\\local\\\\programs\\\\python\\\\python37\\\\lib\\\\site-packages\\\\sklearn\\\\datasets']),\n",
       " '__path__': ['c:\\\\users\\\\visitor.slsi\\\\appdata\\\\local\\\\programs\\\\python\\\\python37\\\\lib\\\\site-packages\\\\sklearn\\\\datasets'],\n",
       " '__file__': 'c:\\\\users\\\\visitor.slsi\\\\appdata\\\\local\\\\programs\\\\python\\\\python37\\\\lib\\\\site-packages\\\\sklearn\\\\datasets\\\\__init__.py',\n",
       " '__cached__': 'c:\\\\users\\\\visitor.slsi\\\\appdata\\\\local\\\\programs\\\\python\\\\python37\\\\lib\\\\site-packages\\\\sklearn\\\\datasets\\\\__pycache__\\\\__init__.cpython-37.pyc',\n",
       " '__builtins__': {'__name__': 'builtins',\n",
       "  '__doc__': \"Built-in functions, exceptions, and other objects.\\n\\nNoteworthy: None is the `nil' object; Ellipsis represents `...' in slices.\",\n",
       "  '__package__': '',\n",
       "  '__loader__': _frozen_importlib.BuiltinImporter,\n",
       "  '__spec__': ModuleSpec(name='builtins', loader=<class '_frozen_importlib.BuiltinImporter'>),\n",
       "  '__build_class__': <function __build_class__>,\n",
       "  '__import__': <function __import__>,\n",
       "  'abs': <function abs(x, /)>,\n",
       "  'all': <function all(iterable, /)>,\n",
       "  'any': <function any(iterable, /)>,\n",
       "  'ascii': <function ascii(obj, /)>,\n",
       "  'bin': <function bin(number, /)>,\n",
       "  'breakpoint': <function breakpoint>,\n",
       "  'callable': <function callable(obj, /)>,\n",
       "  'chr': <function chr(i, /)>,\n",
       "  'compile': <function compile(source, filename, mode, flags=0, dont_inherit=False, optimize=-1)>,\n",
       "  'delattr': <function delattr(obj, name, /)>,\n",
       "  'dir': <function dir>,\n",
       "  'divmod': <function divmod(x, y, /)>,\n",
       "  'eval': <function eval(source, globals=None, locals=None, /)>,\n",
       "  'exec': <function exec(source, globals=None, locals=None, /)>,\n",
       "  'format': <function format(value, format_spec='', /)>,\n",
       "  'getattr': <function getattr>,\n",
       "  'globals': <function globals()>,\n",
       "  'hasattr': <function hasattr(obj, name, /)>,\n",
       "  'hash': <function hash(obj, /)>,\n",
       "  'hex': <function hex(number, /)>,\n",
       "  'id': <function id(obj, /)>,\n",
       "  'input': <bound method Kernel.raw_input of <ipykernel.ipkernel.IPythonKernel object at 0x0000024ACAD03588>>,\n",
       "  'isinstance': <function isinstance(obj, class_or_tuple, /)>,\n",
       "  'issubclass': <function issubclass(cls, class_or_tuple, /)>,\n",
       "  'iter': <function iter>,\n",
       "  'len': <function len(obj, /)>,\n",
       "  'locals': <function locals()>,\n",
       "  'max': <function max>,\n",
       "  'min': <function min>,\n",
       "  'next': <function next>,\n",
       "  'oct': <function oct(number, /)>,\n",
       "  'ord': <function ord(c, /)>,\n",
       "  'pow': <function pow(x, y, z=None, /)>,\n",
       "  'print': <function print>,\n",
       "  'repr': <function repr(obj, /)>,\n",
       "  'round': <function round(number, ndigits=None)>,\n",
       "  'setattr': <function setattr(obj, name, value, /)>,\n",
       "  'sorted': <function sorted(iterable, /, *, key=None, reverse=False)>,\n",
       "  'sum': <function sum(iterable, start=0, /)>,\n",
       "  'vars': <function vars>,\n",
       "  'None': None,\n",
       "  'Ellipsis': Ellipsis,\n",
       "  'NotImplemented': NotImplemented,\n",
       "  'False': False,\n",
       "  'True': True,\n",
       "  'bool': bool,\n",
       "  'memoryview': memoryview,\n",
       "  'bytearray': bytearray,\n",
       "  'bytes': bytes,\n",
       "  'classmethod': classmethod,\n",
       "  'complex': complex,\n",
       "  'dict': dict,\n",
       "  'enumerate': enumerate,\n",
       "  'filter': filter,\n",
       "  'float': float,\n",
       "  'frozenset': frozenset,\n",
       "  'property': property,\n",
       "  'int': int,\n",
       "  'list': list,\n",
       "  'map': map,\n",
       "  'object': object,\n",
       "  'range': range,\n",
       "  'reversed': reversed,\n",
       "  'set': set,\n",
       "  'slice': slice,\n",
       "  'staticmethod': staticmethod,\n",
       "  'str': str,\n",
       "  'super': super,\n",
       "  'tuple': tuple,\n",
       "  'type': type,\n",
       "  'zip': zip,\n",
       "  '__debug__': True,\n",
       "  'BaseException': BaseException,\n",
       "  'Exception': Exception,\n",
       "  'TypeError': TypeError,\n",
       "  'StopAsyncIteration': StopAsyncIteration,\n",
       "  'StopIteration': StopIteration,\n",
       "  'GeneratorExit': GeneratorExit,\n",
       "  'SystemExit': SystemExit,\n",
       "  'KeyboardInterrupt': KeyboardInterrupt,\n",
       "  'ImportError': ImportError,\n",
       "  'ModuleNotFoundError': ModuleNotFoundError,\n",
       "  'OSError': OSError,\n",
       "  'EnvironmentError': OSError,\n",
       "  'IOError': OSError,\n",
       "  'WindowsError': OSError,\n",
       "  'EOFError': EOFError,\n",
       "  'RuntimeError': RuntimeError,\n",
       "  'RecursionError': RecursionError,\n",
       "  'NotImplementedError': NotImplementedError,\n",
       "  'NameError': NameError,\n",
       "  'UnboundLocalError': UnboundLocalError,\n",
       "  'AttributeError': AttributeError,\n",
       "  'SyntaxError': SyntaxError,\n",
       "  'IndentationError': IndentationError,\n",
       "  'TabError': TabError,\n",
       "  'LookupError': LookupError,\n",
       "  'IndexError': IndexError,\n",
       "  'KeyError': KeyError,\n",
       "  'ValueError': ValueError,\n",
       "  'UnicodeError': UnicodeError,\n",
       "  'UnicodeEncodeError': UnicodeEncodeError,\n",
       "  'UnicodeDecodeError': UnicodeDecodeError,\n",
       "  'UnicodeTranslateError': UnicodeTranslateError,\n",
       "  'AssertionError': AssertionError,\n",
       "  'ArithmeticError': ArithmeticError,\n",
       "  'FloatingPointError': FloatingPointError,\n",
       "  'OverflowError': OverflowError,\n",
       "  'ZeroDivisionError': ZeroDivisionError,\n",
       "  'SystemError': SystemError,\n",
       "  'ReferenceError': ReferenceError,\n",
       "  'MemoryError': MemoryError,\n",
       "  'BufferError': BufferError,\n",
       "  'Warning': Warning,\n",
       "  'UserWarning': UserWarning,\n",
       "  'DeprecationWarning': DeprecationWarning,\n",
       "  'PendingDeprecationWarning': PendingDeprecationWarning,\n",
       "  'SyntaxWarning': SyntaxWarning,\n",
       "  'RuntimeWarning': RuntimeWarning,\n",
       "  'FutureWarning': FutureWarning,\n",
       "  'ImportWarning': ImportWarning,\n",
       "  'UnicodeWarning': UnicodeWarning,\n",
       "  'BytesWarning': BytesWarning,\n",
       "  'ResourceWarning': ResourceWarning,\n",
       "  'ConnectionError': ConnectionError,\n",
       "  'BlockingIOError': BlockingIOError,\n",
       "  'BrokenPipeError': BrokenPipeError,\n",
       "  'ChildProcessError': ChildProcessError,\n",
       "  'ConnectionAbortedError': ConnectionAbortedError,\n",
       "  'ConnectionRefusedError': ConnectionRefusedError,\n",
       "  'ConnectionResetError': ConnectionResetError,\n",
       "  'FileExistsError': FileExistsError,\n",
       "  'FileNotFoundError': FileNotFoundError,\n",
       "  'IsADirectoryError': IsADirectoryError,\n",
       "  'NotADirectoryError': NotADirectoryError,\n",
       "  'InterruptedError': InterruptedError,\n",
       "  'PermissionError': PermissionError,\n",
       "  'ProcessLookupError': ProcessLookupError,\n",
       "  'TimeoutError': TimeoutError,\n",
       "  'open': <function io.open(file, mode='r', buffering=-1, encoding=None, errors=None, newline=None, closefd=True, opener=None)>,\n",
       "  'copyright': Copyright (c) 2001-2019 Python Software Foundation.\n",
       "  All Rights Reserved.\n",
       "  \n",
       "  Copyright (c) 2000 BeOpen.com.\n",
       "  All Rights Reserved.\n",
       "  \n",
       "  Copyright (c) 1995-2001 Corporation for National Research Initiatives.\n",
       "  All Rights Reserved.\n",
       "  \n",
       "  Copyright (c) 1991-1995 Stichting Mathematisch Centrum, Amsterdam.\n",
       "  All Rights Reserved.,\n",
       "  'credits':     Thanks to CWI, CNRI, BeOpen.com, Zope Corporation and a cast of thousands\n",
       "      for supporting Python development.  See www.python.org for more information.,\n",
       "  'license': Type license() to see the full license text,\n",
       "  'help': Type help() for interactive help, or help(object) for help about object.,\n",
       "  '__IPYTHON__': True,\n",
       "  'display': <function IPython.core.display.display(*objs, include=None, exclude=None, metadata=None, transient=None, display_id=None, **kwargs)>,\n",
       "  'get_ipython': <bound method InteractiveShell.get_ipython of <ipykernel.zmqshell.ZMQInteractiveShell object at 0x0000024ACA1DFC48>>},\n",
       " 'base': <module 'sklearn.datasets.base' from 'c:\\\\users\\\\visitor.slsi\\\\appdata\\\\local\\\\programs\\\\python\\\\python37\\\\lib\\\\site-packages\\\\sklearn\\\\datasets\\\\base.py'>,\n",
       " 'load_breast_cancer': <function sklearn.datasets.base.load_breast_cancer(return_X_y=False)>,\n",
       " 'load_boston': <function sklearn.datasets.base.load_boston(return_X_y=False)>,\n",
       " 'load_diabetes': <function sklearn.datasets.base.load_diabetes(return_X_y=False)>,\n",
       " 'load_digits': <function sklearn.datasets.base.load_digits(n_class=10, return_X_y=False)>,\n",
       " 'load_files': <function sklearn.datasets.base.load_files(container_path, description=None, categories=None, load_content=True, shuffle=True, encoding=None, decode_error='strict', random_state=0)>,\n",
       " 'load_iris': <function sklearn.datasets.base.load_iris(return_X_y=False)>,\n",
       " 'load_linnerud': <function sklearn.datasets.base.load_linnerud(return_X_y=False)>,\n",
       " 'load_sample_images': <function sklearn.datasets.base.load_sample_images()>,\n",
       " 'load_sample_image': <function sklearn.datasets.base.load_sample_image(image_name)>,\n",
       " 'load_wine': <function sklearn.datasets.base.load_wine(return_X_y=False)>,\n",
       " 'get_data_home': <function sklearn.datasets.base.get_data_home(data_home=None)>,\n",
       " 'clear_data_home': <function sklearn.datasets.base.clear_data_home(data_home=None)>,\n",
       " 'covtype': <module 'sklearn.datasets.covtype' from 'c:\\\\users\\\\visitor.slsi\\\\appdata\\\\local\\\\programs\\\\python\\\\python37\\\\lib\\\\site-packages\\\\sklearn\\\\datasets\\\\covtype.py'>,\n",
       " 'fetch_covtype': <function sklearn.datasets.covtype.fetch_covtype(data_home=None, download_if_missing=True, random_state=None, shuffle=False, return_X_y=False)>,\n",
       " 'kddcup99': <module 'sklearn.datasets.kddcup99' from 'c:\\\\users\\\\visitor.slsi\\\\appdata\\\\local\\\\programs\\\\python\\\\python37\\\\lib\\\\site-packages\\\\sklearn\\\\datasets\\\\kddcup99.py'>,\n",
       " 'fetch_kddcup99': <function sklearn.datasets.kddcup99.fetch_kddcup99(subset=None, data_home=None, shuffle=False, random_state=None, percent10=True, download_if_missing=True, return_X_y=False)>,\n",
       " 'lfw': <module 'sklearn.datasets.lfw' from 'c:\\\\users\\\\visitor.slsi\\\\appdata\\\\local\\\\programs\\\\python\\\\python37\\\\lib\\\\site-packages\\\\sklearn\\\\datasets\\\\lfw.py'>,\n",
       " 'fetch_lfw_pairs': <function sklearn.datasets.lfw.fetch_lfw_pairs(subset='train', data_home=None, funneled=True, resize=0.5, color=False, slice_=(slice(70, 195, None), slice(78, 172, None)), download_if_missing=True)>,\n",
       " 'fetch_lfw_people': <function sklearn.datasets.lfw.fetch_lfw_people(data_home=None, funneled=True, resize=0.5, min_faces_per_person=0, color=False, slice_=(slice(70, 195, None), slice(78, 172, None)), download_if_missing=True, return_X_y=False)>,\n",
       " 'twenty_newsgroups': <module 'sklearn.datasets.twenty_newsgroups' from 'c:\\\\users\\\\visitor.slsi\\\\appdata\\\\local\\\\programs\\\\python\\\\python37\\\\lib\\\\site-packages\\\\sklearn\\\\datasets\\\\twenty_newsgroups.py'>,\n",
       " 'fetch_20newsgroups': <function sklearn.datasets.twenty_newsgroups.fetch_20newsgroups(data_home=None, subset='train', categories=None, shuffle=True, random_state=42, remove=(), download_if_missing=True)>,\n",
       " 'fetch_20newsgroups_vectorized': <function sklearn.datasets.twenty_newsgroups.fetch_20newsgroups_vectorized(subset='train', remove=(), data_home=None, download_if_missing=True, return_X_y=False)>,\n",
       " 'mldata': <module 'sklearn.datasets.mldata' from 'c:\\\\users\\\\visitor.slsi\\\\appdata\\\\local\\\\programs\\\\python\\\\python37\\\\lib\\\\site-packages\\\\sklearn\\\\datasets\\\\mldata.py'>,\n",
       " 'fetch_mldata': <function sklearn.datasets.mldata.fetch_mldata(dataname, target_name='label', data_name='data', transpose_data=True, data_home=None)>,\n",
       " 'mldata_filename': <function sklearn.datasets.mldata.mldata_filename(dataname)>,\n",
       " 'openml': <module 'sklearn.datasets.openml' from 'c:\\\\users\\\\visitor.slsi\\\\appdata\\\\local\\\\programs\\\\python\\\\python37\\\\lib\\\\site-packages\\\\sklearn\\\\datasets\\\\openml.py'>,\n",
       " 'fetch_openml': <function sklearn.datasets.openml.fetch_openml(name=None, version='active', data_id=None, data_home=None, target_column='default-target', cache=True, return_X_y=False)>,\n",
       " 'samples_generator': <module 'sklearn.datasets.samples_generator' from 'c:\\\\users\\\\visitor.slsi\\\\appdata\\\\local\\\\programs\\\\python\\\\python37\\\\lib\\\\site-packages\\\\sklearn\\\\datasets\\\\samples_generator.py'>,\n",
       " 'make_classification': <function sklearn.datasets.samples_generator.make_classification(n_samples=100, n_features=20, n_informative=2, n_redundant=2, n_repeated=0, n_classes=2, n_clusters_per_class=2, weights=None, flip_y=0.01, class_sep=1.0, hypercube=True, shift=0.0, scale=1.0, shuffle=True, random_state=None)>,\n",
       " 'make_multilabel_classification': <function sklearn.datasets.samples_generator.make_multilabel_classification(n_samples=100, n_features=20, n_classes=5, n_labels=2, length=50, allow_unlabeled=True, sparse=False, return_indicator='dense', return_distributions=False, random_state=None)>,\n",
       " 'make_hastie_10_2': <function sklearn.datasets.samples_generator.make_hastie_10_2(n_samples=12000, random_state=None)>,\n",
       " 'make_regression': <function sklearn.datasets.samples_generator.make_regression(n_samples=100, n_features=100, n_informative=10, n_targets=1, bias=0.0, effective_rank=None, tail_strength=0.5, noise=0.0, shuffle=True, coef=False, random_state=None)>,\n",
       " 'make_blobs': <function sklearn.datasets.samples_generator.make_blobs(n_samples=100, n_features=2, centers=None, cluster_std=1.0, center_box=(-10.0, 10.0), shuffle=True, random_state=None)>,\n",
       " 'make_moons': <function sklearn.datasets.samples_generator.make_moons(n_samples=100, shuffle=True, noise=None, random_state=None)>,\n",
       " 'make_circles': <function sklearn.datasets.samples_generator.make_circles(n_samples=100, shuffle=True, noise=None, random_state=None, factor=0.8)>,\n",
       " 'make_friedman1': <function sklearn.datasets.samples_generator.make_friedman1(n_samples=100, n_features=10, noise=0.0, random_state=None)>,\n",
       " 'make_friedman2': <function sklearn.datasets.samples_generator.make_friedman2(n_samples=100, noise=0.0, random_state=None)>,\n",
       " 'make_friedman3': <function sklearn.datasets.samples_generator.make_friedman3(n_samples=100, noise=0.0, random_state=None)>,\n",
       " 'make_low_rank_matrix': <function sklearn.datasets.samples_generator.make_low_rank_matrix(n_samples=100, n_features=100, effective_rank=10, tail_strength=0.5, random_state=None)>,\n",
       " 'make_sparse_coded_signal': <function sklearn.datasets.samples_generator.make_sparse_coded_signal(n_samples, n_components, n_features, n_nonzero_coefs, random_state=None)>,\n",
       " 'make_sparse_uncorrelated': <function sklearn.datasets.samples_generator.make_sparse_uncorrelated(n_samples=100, n_features=10, random_state=None)>,\n",
       " 'make_spd_matrix': <function sklearn.datasets.samples_generator.make_spd_matrix(n_dim, random_state=None)>,\n",
       " 'make_swiss_roll': <function sklearn.datasets.samples_generator.make_swiss_roll(n_samples=100, noise=0.0, random_state=None)>,\n",
       " 'make_s_curve': <function sklearn.datasets.samples_generator.make_s_curve(n_samples=100, noise=0.0, random_state=None)>,\n",
       " 'make_sparse_spd_matrix': <function sklearn.datasets.samples_generator.make_sparse_spd_matrix(dim=1, alpha=0.95, norm_diag=False, smallest_coef=0.1, largest_coef=0.9, random_state=None)>,\n",
       " 'make_gaussian_quantiles': <function sklearn.datasets.samples_generator.make_gaussian_quantiles(mean=None, cov=1.0, n_samples=100, n_features=2, n_classes=3, shuffle=True, random_state=None)>,\n",
       " 'make_biclusters': <function sklearn.datasets.samples_generator.make_biclusters(shape, n_clusters, noise=0.0, minval=10, maxval=100, shuffle=True, random_state=None)>,\n",
       " 'make_checkerboard': <function sklearn.datasets.samples_generator.make_checkerboard(shape, n_clusters, noise=0.0, minval=10, maxval=100, shuffle=True, random_state=None)>,\n",
       " '_svmlight_format': <module 'sklearn.datasets._svmlight_format' from 'c:\\\\users\\\\visitor.slsi\\\\appdata\\\\local\\\\programs\\\\python\\\\python37\\\\lib\\\\site-packages\\\\sklearn\\\\datasets\\\\_svmlight_format.cp37-win_amd64.pyd'>,\n",
       " 'svmlight_format': <module 'sklearn.datasets.svmlight_format' from 'c:\\\\users\\\\visitor.slsi\\\\appdata\\\\local\\\\programs\\\\python\\\\python37\\\\lib\\\\site-packages\\\\sklearn\\\\datasets\\\\svmlight_format.py'>,\n",
       " 'load_svmlight_file': <function sklearn.datasets.svmlight_format.load_svmlight_file(f, n_features=None, dtype=<class 'numpy.float64'>, multilabel=False, zero_based='auto', query_id=False, offset=0, length=-1)>,\n",
       " 'load_svmlight_files': <function sklearn.datasets.svmlight_format.load_svmlight_files(files, n_features=None, dtype=<class 'numpy.float64'>, multilabel=False, zero_based='auto', query_id=False, offset=0, length=-1)>,\n",
       " 'dump_svmlight_file': <function sklearn.datasets.svmlight_format.dump_svmlight_file(X, y, f, zero_based=True, comment=None, query_id=None, multilabel=False)>,\n",
       " 'olivetti_faces': <module 'sklearn.datasets.olivetti_faces' from 'c:\\\\users\\\\visitor.slsi\\\\appdata\\\\local\\\\programs\\\\python\\\\python37\\\\lib\\\\site-packages\\\\sklearn\\\\datasets\\\\olivetti_faces.py'>,\n",
       " 'fetch_olivetti_faces': <function sklearn.datasets.olivetti_faces.fetch_olivetti_faces(data_home=None, shuffle=False, random_state=0, download_if_missing=True)>,\n",
       " 'species_distributions': <module 'sklearn.datasets.species_distributions' from 'c:\\\\users\\\\visitor.slsi\\\\appdata\\\\local\\\\programs\\\\python\\\\python37\\\\lib\\\\site-packages\\\\sklearn\\\\datasets\\\\species_distributions.py'>,\n",
       " 'fetch_species_distributions': <function sklearn.datasets.species_distributions.fetch_species_distributions(data_home=None, download_if_missing=True)>,\n",
       " 'california_housing': <module 'sklearn.datasets.california_housing' from 'c:\\\\users\\\\visitor.slsi\\\\appdata\\\\local\\\\programs\\\\python\\\\python37\\\\lib\\\\site-packages\\\\sklearn\\\\datasets\\\\california_housing.py'>,\n",
       " 'fetch_california_housing': <function sklearn.datasets.california_housing.fetch_california_housing(data_home=None, download_if_missing=True, return_X_y=False)>,\n",
       " 'rcv1': <module 'sklearn.datasets.rcv1' from 'c:\\\\users\\\\visitor.slsi\\\\appdata\\\\local\\\\programs\\\\python\\\\python37\\\\lib\\\\site-packages\\\\sklearn\\\\datasets\\\\rcv1.py'>,\n",
       " 'fetch_rcv1': <function sklearn.datasets.rcv1.fetch_rcv1(data_home=None, subset='all', download_if_missing=True, random_state=None, shuffle=False, return_X_y=False)>,\n",
       " '__all__': ['clear_data_home',\n",
       "  'dump_svmlight_file',\n",
       "  'fetch_20newsgroups',\n",
       "  'fetch_20newsgroups_vectorized',\n",
       "  'fetch_lfw_pairs',\n",
       "  'fetch_lfw_people',\n",
       "  'fetch_mldata',\n",
       "  'fetch_olivetti_faces',\n",
       "  'fetch_species_distributions',\n",
       "  'fetch_california_housing',\n",
       "  'fetch_covtype',\n",
       "  'fetch_rcv1',\n",
       "  'fetch_kddcup99',\n",
       "  'fetch_openml',\n",
       "  'get_data_home',\n",
       "  'load_boston',\n",
       "  'load_diabetes',\n",
       "  'load_digits',\n",
       "  'load_files',\n",
       "  'load_iris',\n",
       "  'load_breast_cancer',\n",
       "  'load_linnerud',\n",
       "  'load_sample_image',\n",
       "  'load_sample_images',\n",
       "  'load_svmlight_file',\n",
       "  'load_svmlight_files',\n",
       "  'load_wine',\n",
       "  'make_biclusters',\n",
       "  'make_blobs',\n",
       "  'make_circles',\n",
       "  'make_classification',\n",
       "  'make_checkerboard',\n",
       "  'make_friedman1',\n",
       "  'make_friedman2',\n",
       "  'make_friedman3',\n",
       "  'make_gaussian_quantiles',\n",
       "  'make_hastie_10_2',\n",
       "  'make_low_rank_matrix',\n",
       "  'make_moons',\n",
       "  'make_multilabel_classification',\n",
       "  'make_regression',\n",
       "  'make_s_curve',\n",
       "  'make_sparse_coded_signal',\n",
       "  'make_sparse_spd_matrix',\n",
       "  'make_sparse_uncorrelated',\n",
       "  'make_spd_matrix',\n",
       "  'make_swiss_roll',\n",
       "  'mldata_filename']}"
      ]
     },
     "execution_count": 2,
     "metadata": {},
     "output_type": "execute_result"
    }
   ],
   "source": [
    "datasets.__dict__"
   ]
  },
  {
   "cell_type": "code",
   "execution_count": 4,
   "metadata": {},
   "outputs": [],
   "source": [
    "categories = ['alt.atheism', 'soc.religion.christian', 'comp.graphics', \n",
    "             'sci.med']"
   ]
  },
  {
   "cell_type": "code",
   "execution_count": 5,
   "metadata": {},
   "outputs": [
    {
     "name": "stderr",
     "output_type": "stream",
     "text": [
      "Downloading 20news dataset. This may take a few minutes.\n",
      "Downloading dataset from https://ndownloader.figshare.com/files/5975967 (14 MB)\n"
     ]
    }
   ],
   "source": [
    "twenty_train = datasets.fetch_20newsgroups()"
   ]
  },
  {
   "cell_type": "code",
   "execution_count": 6,
   "metadata": {},
   "outputs": [],
   "source": [
    "twenty_train.categories=categories\n",
    "twenty_train.subset='train'\n",
    "twenty_train.shuffle=True\n",
    "twenty_train.random_state=42"
   ]
  },
  {
   "cell_type": "code",
   "execution_count": 8,
   "metadata": {},
   "outputs": [],
   "source": [
    "twenty_train = datasets.fetch_20newsgroups(subset='train', \n",
    "                                           categories=categories, \n",
    "                                           shuffle=True, random_state=42)"
   ]
  },
  {
   "cell_type": "code",
   "execution_count": 9,
   "metadata": {},
   "outputs": [
    {
     "data": {
      "text/plain": [
       "['alt.atheism', 'comp.graphics', 'sci.med', 'soc.religion.christian']"
      ]
     },
     "execution_count": 9,
     "metadata": {},
     "output_type": "execute_result"
    }
   ],
   "source": [
    "twenty_train.target_names"
   ]
  },
  {
   "cell_type": "code",
   "execution_count": 10,
   "metadata": {},
   "outputs": [
    {
     "data": {
      "text/plain": [
       "2257"
      ]
     },
     "execution_count": 10,
     "metadata": {},
     "output_type": "execute_result"
    }
   ],
   "source": [
    "len(twenty_train.data)"
   ]
  },
  {
   "cell_type": "code",
   "execution_count": 11,
   "metadata": {},
   "outputs": [
    {
     "data": {
      "text/plain": [
       "2257"
      ]
     },
     "execution_count": 11,
     "metadata": {},
     "output_type": "execute_result"
    }
   ],
   "source": [
    "len(twenty_train.filenames)"
   ]
  },
  {
   "cell_type": "code",
   "execution_count": 14,
   "metadata": {},
   "outputs": [
    {
     "name": "stdout",
     "output_type": "stream",
     "text": [
      "From: sd345@city.ac.uk (Michael Collier)\n",
      "Subject: Converting images to HP LaserJet III?\n",
      "Nntp-Posting-Host: hampton\n",
      "Organization: The City University\n",
      "Lines: 14\n",
      "\n",
      "Does anyone know of a good way (standard PC application/PD utility) to\n",
      "convert tif/img/tga files into LaserJet III format.  We would also like to\n",
      "do the same, converting to HPGL (HP plotter) files.\n",
      "\n",
      "Please email any response.\n",
      "\n",
      "Is this the correct group?\n",
      "\n",
      "Thanks in advance.  Michael.\n",
      "-- \n",
      "Michael Collier (Programmer)                 The Computer Unit,\n",
      "Email: M.P.Collier@uk.ac.city                The City University,\n",
      "Tel: 071 477-8000 x3769                      London,\n",
      "Fax: 071 477-8565                            EC1V 0HB.\n",
      "\n"
     ]
    }
   ],
   "source": [
    "print(\"\\n\".join(twenty_train.data[0].split(\"\\n\")))"
   ]
  },
  {
   "cell_type": "code",
   "execution_count": 18,
   "metadata": {
    "scrolled": true
   },
   "outputs": [
    {
     "name": "stdout",
     "output_type": "stream",
     "text": [
      "comp.graphics\n",
      "comp.graphics\n",
      "soc.religion.christian\n",
      "soc.religion.christian\n",
      "soc.religion.christian\n",
      "soc.religion.christian\n",
      "soc.religion.christian\n",
      "sci.med\n",
      "sci.med\n",
      "sci.med\n"
     ]
    }
   ],
   "source": [
    "for t in range(10):\n",
    "    print(twenty_train.target_names[twenty_train.target[t]])"
   ]
  },
  {
   "cell_type": "code",
   "execution_count": 19,
   "metadata": {},
   "outputs": [],
   "source": [
    "twenty_train = datasets.fetch_20newsgroups(subset='train', \n",
    "                                           categories=categories, \n",
    "                                           shuffle=True, random_state=42)"
   ]
  },
  {
   "cell_type": "code",
   "execution_count": 20,
   "metadata": {},
   "outputs": [
    {
     "name": "stdout",
     "output_type": "stream",
     "text": [
      "comp.graphics\n",
      "comp.graphics\n",
      "soc.religion.christian\n",
      "soc.religion.christian\n",
      "soc.religion.christian\n",
      "soc.religion.christian\n",
      "soc.religion.christian\n",
      "sci.med\n",
      "sci.med\n",
      "sci.med\n"
     ]
    }
   ],
   "source": [
    "for t in range(10):\n",
    "    print(twenty_train.target_names[twenty_train.target[t]])"
   ]
  },
  {
   "cell_type": "markdown",
   "metadata": {},
   "source": [
    "---"
   ]
  },
  {
   "cell_type": "code",
   "execution_count": 21,
   "metadata": {},
   "outputs": [],
   "source": [
    "from sklearn import linear_model"
   ]
  },
  {
   "cell_type": "code",
   "execution_count": 22,
   "metadata": {},
   "outputs": [],
   "source": [
    "reg = linear_model.LinearRegression()"
   ]
  },
  {
   "cell_type": "code",
   "execution_count": 25,
   "metadata": {},
   "outputs": [
    {
     "data": {
      "text/plain": [
       "LinearRegression(copy_X=True, fit_intercept=True, n_jobs=None, normalize=False)"
      ]
     },
     "execution_count": 25,
     "metadata": {},
     "output_type": "execute_result"
    }
   ],
   "source": [
    "reg.fit(([0,0], [1,1], [2,2]), [0,1,2])"
   ]
  },
  {
   "cell_type": "code",
   "execution_count": 26,
   "metadata": {},
   "outputs": [
    {
     "data": {
      "text/plain": [
       "array([0.5, 0.5])"
      ]
     },
     "execution_count": 26,
     "metadata": {},
     "output_type": "execute_result"
    }
   ],
   "source": [
    "reg.coef_"
   ]
  },
  {
   "cell_type": "code",
   "execution_count": 29,
   "metadata": {},
   "outputs": [
    {
     "name": "stdout",
     "output_type": "stream",
     "text": [
      "\n",
      "    Ordinary least squares Linear Regression.\n",
      "\n",
      "    Parameters\n",
      "    ----------\n",
      "    fit_intercept : boolean, optional, default True\n",
      "        whether to calculate the intercept for this model. If set\n",
      "        to False, no intercept will be used in calculations\n",
      "        (e.g. data is expected to be already centered).\n",
      "\n",
      "    normalize : boolean, optional, default False\n",
      "        This parameter is ignored when ``fit_intercept`` is set to False.\n",
      "        If True, the regressors X will be normalized before regression by\n",
      "        subtracting the mean and dividing by the l2-norm.\n",
      "        If you wish to standardize, please use\n",
      "        :class:`sklearn.preprocessing.StandardScaler` before calling ``fit`` on\n",
      "        an estimator with ``normalize=False``.\n",
      "\n",
      "    copy_X : boolean, optional, default True\n",
      "        If True, X will be copied; else, it may be overwritten.\n",
      "\n",
      "    n_jobs : int or None, optional (default=None)\n",
      "        The number of jobs to use for the computation. This will only provide\n",
      "        speedup for n_targets > 1 and sufficient large problems.\n",
      "        ``None`` means 1 unless in a :obj:`joblib.parallel_backend` context.\n",
      "        ``-1`` means using all processors. See :term:`Glossary <n_jobs>`\n",
      "        for more details.\n",
      "\n",
      "    Attributes\n",
      "    ----------\n",
      "    coef_ : array, shape (n_features, ) or (n_targets, n_features)\n",
      "        Estimated coefficients for the linear regression problem.\n",
      "        If multiple targets are passed during the fit (y 2D), this\n",
      "        is a 2D array of shape (n_targets, n_features), while if only\n",
      "        one target is passed, this is a 1D array of length n_features.\n",
      "\n",
      "    intercept_ : array\n",
      "        Independent term in the linear model.\n",
      "\n",
      "    Examples\n",
      "    --------\n",
      "    >>> import numpy as np\n",
      "    >>> from sklearn.linear_model import LinearRegression\n",
      "    >>> X = np.array([[1, 1], [1, 2], [2, 2], [2, 3]])\n",
      "    >>> # y = 1 * x_0 + 2 * x_1 + 3\n",
      "    >>> y = np.dot(X, np.array([1, 2])) + 3\n",
      "    >>> reg = LinearRegression().fit(X, y)\n",
      "    >>> reg.score(X, y)\n",
      "    1.0\n",
      "    >>> reg.coef_\n",
      "    array([1., 2.])\n",
      "    >>> reg.intercept_ # doctest: +ELLIPSIS\n",
      "    3.0000...\n",
      "    >>> reg.predict(np.array([[3, 5]]))\n",
      "    array([16.])\n",
      "\n",
      "    Notes\n",
      "    -----\n",
      "    From the implementation point of view, this is just plain Ordinary\n",
      "    Least Squares (scipy.linalg.lstsq) wrapped as a predictor object.\n",
      "\n",
      "    \n"
     ]
    }
   ],
   "source": [
    "print('\\n'.join(reg.__doc__.split('\\n')))"
   ]
  },
  {
   "cell_type": "code",
   "execution_count": 31,
   "metadata": {},
   "outputs": [
    {
     "data": {
      "text/plain": [
       "LinearRegression(copy_X=True, fit_intercept=True, n_jobs=None, normalize=False)"
      ]
     },
     "execution_count": 31,
     "metadata": {},
     "output_type": "execute_result"
    }
   ],
   "source": [
    "reg2 = linear_model.LinearRegression()\n",
    "reg2.fit(([0,0], [1,1], [2,1]),[1,1,1])"
   ]
  }
 ],
 "metadata": {
  "kernelspec": {
   "display_name": "Python 3",
   "language": "python",
   "name": "python3"
  },
  "language_info": {
   "codemirror_mode": {
    "name": "ipython",
    "version": 3
   },
   "file_extension": ".py",
   "mimetype": "text/x-python",
   "name": "python",
   "nbconvert_exporter": "python",
   "pygments_lexer": "ipython3",
   "version": "3.7.5"
  }
 },
 "nbformat": 4,
 "nbformat_minor": 4
}
