{
 "cells": [
  {
   "cell_type": "code",
   "execution_count": 12,
   "id": "baf6ca19",
   "metadata": {},
   "outputs": [
    {
     "name": "stdout",
     "output_type": "stream",
     "text": [
      "Hola nino\n"
     ]
    }
   ],
   "source": [
    "# **Strings - Working with textual data**\n",
    "print('Hola nino')"
   ]
  },
  {
   "cell_type": "code",
   "execution_count": 2,
   "id": "0f935ef9",
   "metadata": {},
   "outputs": [
    {
     "name": "stdout",
     "output_type": "stream",
     "text": [
      "Logan's world\n",
      "Geralt's Cirilla\n",
      "16\n",
      "l\n",
      "Logan'\n",
      "Logan's\n",
      "world\n"
     ]
    }
   ],
   "source": [
    "message = 'Logan\\'s world'\n",
    "print(message)\n",
    "var = \"Geralt's Cirilla\"\n",
    "print(var)\n",
    "print(len(var))\n",
    "print(var[14])\n",
    "\n",
    "## does not inlcude the last index value\n",
    "\n",
    "print(message[0:6])\n",
    "print(message[:7])\n",
    "print(message[8:])"
   ]
  },
  {
   "cell_type": "code",
   "execution_count": 3,
   "id": "c493b883",
   "metadata": {},
   "outputs": [
    {
     "name": "stdout",
     "output_type": "stream",
     "text": [
      "GERALT'S CIRILLA\n",
      "geralt's cirilla\n",
      "3\n",
      "9\n"
     ]
    }
   ],
   "source": [
    "print(var.upper())\n",
    "print(var.lower())\n",
    "print(var.count('l'))\n",
    "print(var.find('Ciri'))"
   ]
  },
  {
   "cell_type": "code",
   "execution_count": 5,
   "id": "0fd2c058",
   "metadata": {},
   "outputs": [
    {
     "name": "stdout",
     "output_type": "stream",
     "text": [
      "Geralt and Zoltan.\n",
      "Geralt and Zoltan.\n",
      "GERALT'S CIRILLA and logan's world.\n",
      "natloZ\n"
     ]
    }
   ],
   "source": [
    "name1 = 'Geralt'\n",
    "name2 = 'Zoltan'\n",
    "text = name1+' and '+name2+ '.'\n",
    "print(text)\n",
    "text2 = '{} and {}.'.format(name1,name2)  # {} is a place holder\n",
    "print(text2)\n",
    "text3 = f'{var.upper()} and {message.lower()}.'\n",
    "print(text3)\n",
    "# reversing a text\n",
    "text4 = name2[::-1]\n",
    "print(text4)"
   ]
  },
  {
   "cell_type": "code",
   "execution_count": 29,
   "id": "336da595",
   "metadata": {
    "scrolled": true
   },
   "outputs": [
    {
     "name": "stdout",
     "output_type": "stream",
     "text": [
      "['__add__', '__class__', '__contains__', '__delattr__', '__dir__', '__doc__', '__eq__', '__format__', '__ge__', '__getattribute__', '__getitem__', '__getnewargs__', '__gt__', '__hash__', '__init__', '__init_subclass__', '__iter__', '__le__', '__len__', '__lt__', '__mod__', '__mul__', '__ne__', '__new__', '__reduce__', '__reduce_ex__', '__repr__', '__rmod__', '__rmul__', '__setattr__', '__sizeof__', '__str__', '__subclasshook__', 'capitalize', 'casefold', 'center', 'count', 'encode', 'endswith', 'expandtabs', 'find', 'format', 'format_map', 'index', 'isalnum', 'isalpha', 'isascii', 'isdecimal', 'isdigit', 'isidentifier', 'islower', 'isnumeric', 'isprintable', 'isspace', 'istitle', 'isupper', 'join', 'ljust', 'lower', 'lstrip', 'maketrans', 'partition', 'removeprefix', 'removesuffix', 'replace', 'rfind', 'rindex', 'rjust', 'rpartition', 'rsplit', 'rstrip', 'split', 'splitlines', 'startswith', 'strip', 'swapcase', 'title', 'translate', 'upper', 'zfill']\n",
      "Help on method_descriptor:\n",
      "\n",
      "lower(self, /)\n",
      "    Return a copy of the string converted to lowercase.\n",
      "\n",
      "None\n"
     ]
    }
   ],
   "source": [
    "# help functions\n",
    "\n",
    "print(dir(text3))\n",
    "print(help(str.lower))"
   ]
  },
  {
   "cell_type": "code",
   "execution_count": 9,
   "id": "4a6fbfeb",
   "metadata": {},
   "outputs": [
    {
     "name": "stdout",
     "output_type": "stream",
     "text": [
      "My name is wolverine and I like to slash people with my claws\n",
      "My name is wolverine and I like to slash people with my claws\n",
      "My name is wolverine and I like to 69\n"
     ]
    }
   ],
   "source": [
    "print(\"My name is {name} and I like to {do}\".format(name=\"wolverine\",do=\"slash people with my claws\"))\n",
    "print(\"My name is {} and I like to {}\".format(\"wolverine\",\"slash people with my claws\"))\n",
    "# both give the same results\n",
    "print(\"My name is %s and I like to %d\" %(\"wolverine\",69))\n"
   ]
  },
  {
   "cell_type": "code",
   "execution_count": 1,
   "id": "d9001e09",
   "metadata": {},
   "outputs": [
    {
     "name": "stdout",
     "output_type": "stream",
     "text": [
      "Whats your name: Wolveirne\n",
      "What do u like to do: Slash people\n",
      "First hobby: Having sex\n",
      "Second hobby: Drinking beer\n",
      "Third hobby: Killing people\n",
      "Whats you team: X men\n",
      "Hey there my name is Wolveirne and I like to Slash people. My Hobbies are Having sex ,Drinking beer and Killing people. I am a part of X men\n"
     ]
    }
   ],
   "source": [
    "name = input(\"Whats your name: \")\n",
    "do = input(\"What do u like to do: \")\n",
    "first = input(\"First hobby: \")\n",
    "second= input(\"Second hobby: \")\n",
    "third= input(\"Third hobby: \")\n",
    "team = input(\"Whats you team: \")\n",
    "print(f'Hey there my name is {name} and I like to {do}. My Hobbies are {first} ,{second} and {third}. I am a part of {team}')"
   ]
  },
  {
   "cell_type": "code",
   "execution_count": 6,
   "id": "7a54ba5d",
   "metadata": {},
   "outputs": [
    {
     "data": {
      "text/plain": [
       "['ArithmeticError',\n",
       " 'AssertionError',\n",
       " 'AttributeError',\n",
       " 'BaseException',\n",
       " 'BlockingIOError',\n",
       " 'BrokenPipeError',\n",
       " 'BufferError',\n",
       " 'BytesWarning',\n",
       " 'ChildProcessError',\n",
       " 'ConnectionAbortedError',\n",
       " 'ConnectionError',\n",
       " 'ConnectionRefusedError',\n",
       " 'ConnectionResetError',\n",
       " 'DeprecationWarning',\n",
       " 'EOFError',\n",
       " 'Ellipsis',\n",
       " 'EnvironmentError',\n",
       " 'Exception',\n",
       " 'False',\n",
       " 'FileExistsError',\n",
       " 'FileNotFoundError',\n",
       " 'FloatingPointError',\n",
       " 'FutureWarning',\n",
       " 'GeneratorExit',\n",
       " 'IOError',\n",
       " 'ImportError',\n",
       " 'ImportWarning',\n",
       " 'IndentationError',\n",
       " 'IndexError',\n",
       " 'InterruptedError',\n",
       " 'IsADirectoryError',\n",
       " 'KeyError',\n",
       " 'KeyboardInterrupt',\n",
       " 'LookupError',\n",
       " 'MemoryError',\n",
       " 'ModuleNotFoundError',\n",
       " 'NameError',\n",
       " 'None',\n",
       " 'NotADirectoryError',\n",
       " 'NotImplemented',\n",
       " 'NotImplementedError',\n",
       " 'OSError',\n",
       " 'OverflowError',\n",
       " 'PendingDeprecationWarning',\n",
       " 'PermissionError',\n",
       " 'ProcessLookupError',\n",
       " 'RecursionError',\n",
       " 'ReferenceError',\n",
       " 'ResourceWarning',\n",
       " 'RuntimeError',\n",
       " 'RuntimeWarning',\n",
       " 'StopAsyncIteration',\n",
       " 'StopIteration',\n",
       " 'SyntaxError',\n",
       " 'SyntaxWarning',\n",
       " 'SystemError',\n",
       " 'SystemExit',\n",
       " 'TabError',\n",
       " 'TimeoutError',\n",
       " 'True',\n",
       " 'TypeError',\n",
       " 'UnboundLocalError',\n",
       " 'UnicodeDecodeError',\n",
       " 'UnicodeEncodeError',\n",
       " 'UnicodeError',\n",
       " 'UnicodeTranslateError',\n",
       " 'UnicodeWarning',\n",
       " 'UserWarning',\n",
       " 'ValueError',\n",
       " 'Warning',\n",
       " 'WindowsError',\n",
       " 'ZeroDivisionError',\n",
       " '__IPYTHON__',\n",
       " '__build_class__',\n",
       " '__debug__',\n",
       " '__doc__',\n",
       " '__import__',\n",
       " '__loader__',\n",
       " '__name__',\n",
       " '__package__',\n",
       " '__spec__',\n",
       " 'abs',\n",
       " 'all',\n",
       " 'any',\n",
       " 'ascii',\n",
       " 'bin',\n",
       " 'bool',\n",
       " 'breakpoint',\n",
       " 'bytearray',\n",
       " 'bytes',\n",
       " 'callable',\n",
       " 'chr',\n",
       " 'classmethod',\n",
       " 'compile',\n",
       " 'complex',\n",
       " 'copyright',\n",
       " 'credits',\n",
       " 'delattr',\n",
       " 'dict',\n",
       " 'dir',\n",
       " 'display',\n",
       " 'divmod',\n",
       " 'enumerate',\n",
       " 'eval',\n",
       " 'exec',\n",
       " 'execfile',\n",
       " 'filter',\n",
       " 'float',\n",
       " 'format',\n",
       " 'frozenset',\n",
       " 'get_ipython',\n",
       " 'getattr',\n",
       " 'globals',\n",
       " 'hasattr',\n",
       " 'hash',\n",
       " 'help',\n",
       " 'hex',\n",
       " 'id',\n",
       " 'input',\n",
       " 'int',\n",
       " 'isinstance',\n",
       " 'issubclass',\n",
       " 'iter',\n",
       " 'len',\n",
       " 'license',\n",
       " 'list',\n",
       " 'locals',\n",
       " 'map',\n",
       " 'max',\n",
       " 'memoryview',\n",
       " 'min',\n",
       " 'next',\n",
       " 'object',\n",
       " 'oct',\n",
       " 'open',\n",
       " 'ord',\n",
       " 'pow',\n",
       " 'print',\n",
       " 'property',\n",
       " 'range',\n",
       " 'repr',\n",
       " 'reversed',\n",
       " 'round',\n",
       " 'runfile',\n",
       " 'set',\n",
       " 'setattr',\n",
       " 'slice',\n",
       " 'sorted',\n",
       " 'staticmethod',\n",
       " 'str',\n",
       " 'sum',\n",
       " 'super',\n",
       " 'tuple',\n",
       " 'type',\n",
       " 'vars',\n",
       " 'zip']"
      ]
     },
     "execution_count": 6,
     "metadata": {},
     "output_type": "execute_result"
    }
   ],
   "source": [
    "dir(__builtins__)"
   ]
  },
  {
   "cell_type": "code",
   "execution_count": 14,
   "id": "903d2bc5",
   "metadata": {},
   "outputs": [
    {
     "data": {
      "text/plain": [
       "374"
      ]
     },
     "execution_count": 14,
     "metadata": {},
     "output_type": "execute_result"
    }
   ],
   "source": [
    "i=(45,242,64) # sum(iterable like list/tuple, start value)\n",
    "sum(i,23)"
   ]
  },
  {
   "cell_type": "code",
   "execution_count": null,
   "id": "672f7fde",
   "metadata": {},
   "outputs": [],
   "source": []
  }
 ],
 "metadata": {
  "kernelspec": {
   "display_name": "Python 3 (ipykernel)",
   "language": "python",
   "name": "python3"
  },
  "language_info": {
   "codemirror_mode": {
    "name": "ipython",
    "version": 3
   },
   "file_extension": ".py",
   "mimetype": "text/x-python",
   "name": "python",
   "nbconvert_exporter": "python",
   "pygments_lexer": "ipython3",
   "version": "3.9.12"
  }
 },
 "nbformat": 4,
 "nbformat_minor": 5
}
