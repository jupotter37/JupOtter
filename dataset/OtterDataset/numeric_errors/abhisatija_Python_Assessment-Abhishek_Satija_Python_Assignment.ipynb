{
 "cells": [
  {
   "cell_type": "markdown",
   "id": "25c74066-1c6b-4342-bf45-08251865a69f",
   "metadata": {},
   "source": [
    "# Assignment"
   ]
  },
  {
   "cell_type": "markdown",
   "id": "41e350d1-00ea-400b-95d0-53d42f02966b",
   "metadata": {},
   "source": [
    "### 1) What are the types of Applications?\n",
    "* Web Development\n",
    "* Machine Learning and Artificial Intelligence\n",
    "* Data Science\n",
    "* Game Development\n",
    "* Software Development\n",
    "* Business Applications"
   ]
  },
  {
   "cell_type": "markdown",
   "id": "8090c8a4-94bc-4533-b203-d234465f510f",
   "metadata": {},
   "source": [
    "### 2) What is programing?\n",
    "* Programming is a sequence of instruction given to any device through a programming language to follow a certain task, it consisit of step by step procedure and algorithm to follow a path."
   ]
  },
  {
   "cell_type": "markdown",
   "id": "67a586ea-36e6-4892-bf86-7f53a1c8846f",
   "metadata": {},
   "source": [
    "### 3) What is Python?\n",
    "* Python is a computer programming language often used to build websites and software, automate tasks, and analyze data."
   ]
  },
  {
   "cell_type": "markdown",
   "id": "abf54a89-be5c-4381-b4c8-d1b9c6ef19b9",
   "metadata": {},
   "source": [
    "### 4) Write a Python program to check if a number is positive, negative or zero."
   ]
  },
  {
   "cell_type": "code",
   "execution_count": null,
   "id": "de8865ea-7fe9-4746-9add-8eff0c169e8c",
   "metadata": {},
   "outputs": [],
   "source": [
    "x=float(input(\"Write a number: \"))\n",
    "\n",
    "if (x>0):\n",
    "    print(\"Positive\")\n",
    "elif (x<0):\n",
    "    print(\"Negative\")\n",
    "elif (x==0):\n",
    "    print(\"Zero\")\n",
    "else:\n",
    "    print(\"Write correct value\")"
   ]
  },
  {
   "cell_type": "markdown",
   "id": "c0c0cc81-50f0-4c8a-b50c-477ac8fcf834",
   "metadata": {},
   "source": [
    "### 5) Write a Python program to get the Factorial number of given numbers."
   ]
  },
  {
   "cell_type": "code",
   "execution_count": null,
   "id": "11ea43c5-90e5-44d7-9a77-63e6d84f72b3",
   "metadata": {},
   "outputs": [],
   "source": [
    "a = int(input(\"Write a number: \"))\n",
    "num = 1\n",
    "\n",
    "for i in range(1, a+1):\n",
    "    num = num*i\n",
    "\n",
    "print(num)"
   ]
  },
  {
   "cell_type": "markdown",
   "id": "55089eaf-73b4-43b3-a654-694a98f3d695",
   "metadata": {},
   "source": [
    "### 6) Write a Python program to get the Fibonacci series of given range."
   ]
  },
  {
   "cell_type": "code",
   "execution_count": 4,
   "id": "04bb0152-a6f7-47b5-8b6e-7756c3e4d35b",
   "metadata": {},
   "outputs": [
    {
     "name": "stdin",
     "output_type": "stream",
     "text": [
      "Write a number for Fibonacci series: 5\n"
     ]
    },
    {
     "name": "stdout",
     "output_type": "stream",
     "text": [
      "0 1 1 2 3 "
     ]
    }
   ],
   "source": [
    "num = int(input(\"Write a number for Fibonacci series:\"))\n",
    "x=0\n",
    "y=1\n",
    "\n",
    "for i in range(num):\n",
    "    print(x, end=' ')\n",
    "    z=x+y\n",
    "    x, y = y, z"
   ]
  },
  {
   "cell_type": "markdown",
   "id": "f3313736-c48e-4111-b20f-db8b01ae93ae",
   "metadata": {},
   "source": [
    "### 7) How memory is managed in Python?\n",
    "* Memory is managed in Python by one of two ways: dynamic allocation or static allocation. Dynamic allocation occurs as the program is running. This means that as the program operates, it can dynamically determine where to allocate memory while reusing and releasing it. Static memory allocation happens before the running of a program, predetermining the amount and distribution of the memory, and without the ability to reuse memory."
   ]
  },
  {
   "cell_type": "markdown",
   "id": "a98ceca6-9ec6-45de-814f-f0f540e8d66e",
   "metadata": {},
   "source": [
    "### 8) What is the purpose continuing statement in python?\n",
    "* The continue keyword is used to end the current iteration in a loop, and continues to the next iteration. It is mainly used for a condition so that we can skip some code for a particular condition."
   ]
  },
  {
   "cell_type": "markdown",
   "id": "c22b1977-1f1d-4e87-ba5f-56859f87073e",
   "metadata": {},
   "source": [
    "### 9) Write python program that swap two number with temp variable and without temp variable."
   ]
  },
  {
   "cell_type": "code",
   "execution_count": 40,
   "id": "d1664c1d-7484-4cc4-94c8-ae7cbfa860f3",
   "metadata": {},
   "outputs": [
    {
     "name": "stdin",
     "output_type": "stream",
     "text": [
      "Enter num x:  3\n",
      "Enter num y:  4\n"
     ]
    },
    {
     "name": "stdout",
     "output_type": "stream",
     "text": [
      "num x is: 4\n",
      "num y is: 3\n"
     ]
    }
   ],
   "source": [
    "## using temp \n",
    "\n",
    "x = int(input(\"Enter num x:\"))\n",
    "y = int(input(\"Enter num y:\"))\n",
    "\n",
    "temp = x\n",
    "x = y\n",
    "y = temp\n",
    "\n",
    "print(\"num x is:\", x)\n",
    "print(\"num y is:\", y)"
   ]
  },
  {
   "cell_type": "code",
   "execution_count": 42,
   "id": "3101abf5-4064-4d40-8dea-4b72338cf25f",
   "metadata": {},
   "outputs": [
    {
     "name": "stdin",
     "output_type": "stream",
     "text": [
      "Enter num x:  3\n",
      "Enter num y:  4\n"
     ]
    },
    {
     "name": "stdout",
     "output_type": "stream",
     "text": [
      "num x is: 4\n",
      "num y is: 3\n"
     ]
    }
   ],
   "source": [
    "## without using temp \n",
    "\n",
    "x = int(input(\"Enter num x:\"))\n",
    "y = int(input(\"Enter num y:\"))\n",
    "\n",
    "x, y = y, x\n",
    "\n",
    "print(\"num x is:\", x)\n",
    "print(\"num y is:\", y)"
   ]
  },
  {
   "cell_type": "markdown",
   "id": "fa7e0b8f-cbd8-48a7-be6e-82d2faa1d4b0",
   "metadata": {},
   "source": [
    "### 10) Write a Python program to find whether a given number is even or odd, print out an appropriate message to the user."
   ]
  },
  {
   "cell_type": "code",
   "execution_count": 51,
   "id": "d5354703-d1a5-41b2-9237-fbd10b80dac1",
   "metadata": {},
   "outputs": [
    {
     "name": "stdin",
     "output_type": "stream",
     "text": [
      "Enter a number: 5\n"
     ]
    },
    {
     "name": "stdout",
     "output_type": "stream",
     "text": [
      "Number is odd\n"
     ]
    }
   ],
   "source": [
    "x = int(input(\"Enter a number:\"))\n",
    "\n",
    "if (x % 2 == 0):\n",
    "    print(\"Number is even\")\n",
    "else:\n",
    "    print(\"Number is odd\")"
   ]
  },
  {
   "cell_type": "markdown",
   "id": "e6b4ee90-37c4-4808-b7af-6d80a2977e55",
   "metadata": {},
   "source": [
    "### 11) Write a Python program to test whether a passed letter is a vowel or not."
   ]
  },
  {
   "cell_type": "code",
   "execution_count": 58,
   "id": "ac6e63f5-c3ca-41fd-9d2d-a585a149fefe",
   "metadata": {},
   "outputs": [
    {
     "name": "stdin",
     "output_type": "stream",
     "text": [
      "Write a letter: a\n"
     ]
    },
    {
     "name": "stdout",
     "output_type": "stream",
     "text": [
      "Letter is a vowel\n"
     ]
    }
   ],
   "source": [
    "x = str(input(\"Write a letter:\"))\n",
    "\n",
    "if (x == \"a\"):\n",
    "    print(\"Letter is a vowel\")\n",
    "elif (x == \"e\"):\n",
    "    print(\"Letter is a vowel\")\n",
    "elif (x == \"i\"):\n",
    "    print(\"Letter is a vowel\")\n",
    "elif (x == \"o\"):\n",
    "    print(\"Letter is a vowel\")\n",
    "elif (x == \"u\"):\n",
    "    print(\"Letter is a vowel\")\n",
    "else:\n",
    "    print(\"Letter is not a vowel\")"
   ]
  },
  {
   "cell_type": "markdown",
   "id": "cabad064-2972-4516-a4e4-a79e93c00064",
   "metadata": {},
   "source": [
    "### 12) Write a Python program to sum of three given integers. However, if two values are equal sum will be zero."
   ]
  },
  {
   "cell_type": "code",
   "execution_count": 71,
   "id": "9cf6efcd-cd06-4fdf-b0f2-5441c3d4f8d7",
   "metadata": {},
   "outputs": [
    {
     "name": "stdin",
     "output_type": "stream",
     "text": [
      "Enter number a: 1\n",
      "Enter number b: 3\n",
      "Enter number c: 4\n"
     ]
    },
    {
     "name": "stdout",
     "output_type": "stream",
     "text": [
      "Sum is: 8\n"
     ]
    }
   ],
   "source": [
    "a = int(input(\"Enter number a:\"))\n",
    "b = int(input(\"Enter number b:\"))\n",
    "c = int(input(\"Enter number c:\"))\n",
    "\n",
    "if (a != b and b != c and c != a):\n",
    "    print(\"Sum is:\", a + b + c)\n",
    "else:\n",
    "    print(\"0\")"
   ]
  },
  {
   "cell_type": "markdown",
   "id": "f3d28b5d-0e47-4954-9cff-255e3b1edc0a",
   "metadata": {},
   "source": [
    "### 13) Write a Python program that will return true if the two given integer values are equal or their sum or difference is 5."
   ]
  },
  {
   "cell_type": "code",
   "execution_count": 80,
   "id": "937690a1-546c-4e7a-897b-df726f527911",
   "metadata": {},
   "outputs": [
    {
     "name": "stdin",
     "output_type": "stream",
     "text": [
      "Enter number x: 4\n",
      "Enter number y: 5\n"
     ]
    },
    {
     "name": "stdout",
     "output_type": "stream",
     "text": [
      "False\n"
     ]
    }
   ],
   "source": [
    "x = int(input(\"Enter number x:\"))\n",
    "y = int(input(\"Enter number y:\"))\n",
    "\n",
    "if (x == y):\n",
    "    print(\"True\")\n",
    "elif (x + y == 5):\n",
    "    print(\"True\")\n",
    "elif (x - y == 5):\n",
    "    print(\"True\")\n",
    "else:\n",
    "    print(\"False\")"
   ]
  },
  {
   "cell_type": "markdown",
   "id": "224750f0-6415-4e73-b65c-60b4e235a5c6",
   "metadata": {},
   "source": [
    "### 14) Write a python program to sum of the first n positive integers."
   ]
  },
  {
   "cell_type": "code",
   "execution_count": 32,
   "id": "b3eb7d0e-21ac-4b61-bd59-136203da5d38",
   "metadata": {},
   "outputs": [
    {
     "name": "stdin",
     "output_type": "stream",
     "text": [
      "Enter a number: 4\n"
     ]
    },
    {
     "name": "stdout",
     "output_type": "stream",
     "text": [
      "Sum is: 10\n"
     ]
    }
   ],
   "source": [
    "n = int(input(\"Enter a number:\"))\n",
    "sum = 0\n",
    "\n",
    "for i in range (1, n+1):\n",
    "    sum = sum+i\n",
    "print(\"Sum is:\", sum)"
   ]
  },
  {
   "cell_type": "markdown",
   "id": "3b0e0abb-a00b-4b92-aa3c-a795e0082c0c",
   "metadata": {},
   "source": [
    "### 15) Write a Python program to calculate the length of a string."
   ]
  },
  {
   "cell_type": "code",
   "execution_count": 35,
   "id": "c4aff5da-4ab0-475c-b238-1160ef9367b4",
   "metadata": {},
   "outputs": [
    {
     "name": "stdin",
     "output_type": "stream",
     "text": [
      "write a string sfjsr\n"
     ]
    },
    {
     "name": "stdout",
     "output_type": "stream",
     "text": [
      "length of the string is: 5\n"
     ]
    }
   ],
   "source": [
    "string = str(input(\"write a string\"))\n",
    "print(\"length of the string is:\", len(string))"
   ]
  },
  {
   "cell_type": "markdown",
   "id": "2c6f7cdd-8004-406f-9696-f1efd0e468f6",
   "metadata": {},
   "source": [
    "### 16) Write a Python program to count the number of characters (character frequency) in a string"
   ]
  },
  {
   "cell_type": "code",
   "execution_count": 2,
   "id": "5ffe6cef-cfda-4611-8f16-fdb5931e999b",
   "metadata": {},
   "outputs": [
    {
     "name": "stdin",
     "output_type": "stream",
     "text": [
      "Enter a word:  Abhishek\n"
     ]
    },
    {
     "name": "stdout",
     "output_type": "stream",
     "text": [
      "A: 1\n",
      "b: 1\n",
      "h: 2\n",
      "i: 1\n",
      "s: 1\n",
      "h: 2\n",
      "e: 1\n",
      "k: 1\n"
     ]
    }
   ],
   "source": [
    "x = str(input(\"Enter a word: \"))\n",
    "\n",
    "for i in x:\n",
    "    freq = x.count(i)\n",
    "    print(f'{i}: {freq}')"
   ]
  },
  {
   "cell_type": "markdown",
   "id": "a4c61248-817c-4993-ae8d-c50e74f16c76",
   "metadata": {},
   "source": [
    "### 17) What are negative indexes and why are they used?"
   ]
  },
  {
   "cell_type": "markdown",
   "id": "7cd6aae2-3b0f-487f-aa66-9cfcfe1ce842",
   "metadata": {},
   "source": [
    "* Negative indexing allows you to access elements of a sequence from the end, using negative numbers as indexes. This can be useful for getting the last few elements of a sequence, reversing a sequence, or performing other operations that require accessing elements from the end."
   ]
  },
  {
   "cell_type": "markdown",
   "id": "3ed4f7b0-c3d4-4cd9-879d-8b9da3c4473f",
   "metadata": {},
   "source": [
    "### 18) Write a Python program to count occurrences of a substring in a string."
   ]
  },
  {
   "cell_type": "code",
   "execution_count": 64,
   "id": "fb8a7ca6-dcec-4e30-a460-b3ec0d5627b0",
   "metadata": {},
   "outputs": [
    {
     "name": "stdin",
     "output_type": "stream",
     "text": [
      "Enter a string abhishek \n",
      "Enter a sub string that you want to count h\n"
     ]
    },
    {
     "name": "stdout",
     "output_type": "stream",
     "text": [
      "The count of substring h in a string is 2:\n"
     ]
    }
   ],
   "source": [
    "string = str(input(\"Enter a string\"))\n",
    "sub_string = str(input(\"Enter a sub string that you want to count\"))\n",
    "\n",
    "count = string.count(sub_string)\n",
    "\n",
    "print(\"The count of substring {} in a string is {}:\".format(sub_string, count))"
   ]
  },
  {
   "cell_type": "markdown",
   "id": "9379e796-bbd8-4eeb-a33d-5a5520136d96",
   "metadata": {},
   "source": [
    "### 19) Write a Python program to count the occurrences of each word in a given sentence"
   ]
  },
  {
   "cell_type": "code",
   "execution_count": 16,
   "id": "bbb09b88-d90f-4241-a199-104f1cfa6981",
   "metadata": {},
   "outputs": [
    {
     "name": "stdin",
     "output_type": "stream",
     "text": [
      "Enter a word:  hello this is hello this\n"
     ]
    },
    {
     "name": "stdout",
     "output_type": "stream",
     "text": [
      "{'hello': 2, 'this': 2, 'is': 1}\n"
     ]
    }
   ],
   "source": [
    "# Get input from the user\n",
    "x = input(\"Enter a word: \")\n",
    "\n",
    "# Create a dictionary to store unique frequencies\n",
    "count = dict()\n",
    "\n",
    "# Split the input into words\n",
    "words = x.split()\n",
    "\n",
    "# Count the frequency of each word\n",
    "for i in words:\n",
    "    if i in count:\n",
    "        count[i] += 1\n",
    "    else:\n",
    "        count[i] = 1\n",
    "\n",
    "# Print the dictionary with word counts\n",
    "print(count)"
   ]
  },
  {
   "cell_type": "markdown",
   "id": "1f63ac8d-8bd9-4be7-96a8-fe4be28b19fe",
   "metadata": {},
   "source": [
    "### 20) Write a Python program to get a single string from two given strings, separated by a space and swap the first two characters of each string."
   ]
  },
  {
   "cell_type": "code",
   "execution_count": 82,
   "id": "358e321f-5c77-414e-8ca0-bde2fd378e3a",
   "metadata": {},
   "outputs": [
    {
     "name": "stdin",
     "output_type": "stream",
     "text": [
      "Enter a string 1: abhishek\n",
      "Enter a string 2: satija\n"
     ]
    },
    {
     "name": "stdout",
     "output_type": "stream",
     "text": [
      "sahishek abtija\n"
     ]
    }
   ],
   "source": [
    "x = str(input(\"Enter a string 1:\"))\n",
    "y = str(input(\"Enter a string 2:\"))\n",
    "\n",
    "print(y[0:2]+x[2:], x[0:2]+y[2:], sep=' ')"
   ]
  },
  {
   "cell_type": "markdown",
   "id": "68c920b9-7ee0-4516-bdcc-ebfb6407e058",
   "metadata": {},
   "source": [
    "### 21) Write a Python program to add 'in' at the end of a given string (length should be at least 3). If the given string already ends with 'ing' then add 'ly' instead if the string length of the given string is less than 3, leave it unchanged."
   ]
  },
  {
   "cell_type": "code",
   "execution_count": 103,
   "id": "204d9480-112f-4702-a6c5-3e6fa4f82a41",
   "metadata": {},
   "outputs": [
    {
     "name": "stdin",
     "output_type": "stream",
     "text": [
      "Write a string saving\n"
     ]
    },
    {
     "name": "stdout",
     "output_type": "stream",
     "text": [
      "Word is: savingly\n"
     ]
    }
   ],
   "source": [
    "w = str(input(\"Write a string\"))\n",
    "\n",
    "if len(w) < 3:\n",
    "    print(w)\n",
    "elif w[-3:] == 'ing':\n",
    "    print(\"Word is:\", w+'ly')\n",
    "else:\n",
    "    print(\"Word is:\", w+'in')"
   ]
  },
  {
   "cell_type": "markdown",
   "id": "899f7516-16be-4ee0-9082-38287857c591",
   "metadata": {},
   "source": [
    "### 22) Write a Python function to reverses a string if its length is a multiple of 4."
   ]
  },
  {
   "cell_type": "code",
   "execution_count": 112,
   "id": "9981fe54-2dd8-4119-b2b6-f572744539d2",
   "metadata": {},
   "outputs": [
    {
     "name": "stdin",
     "output_type": "stream",
     "text": [
      "Write a string: abhishek\n"
     ]
    },
    {
     "name": "stdout",
     "output_type": "stream",
     "text": [
      "kehsihba\n"
     ]
    }
   ],
   "source": [
    "string = str(input(\"Write a string:\"))\n",
    "\n",
    "if len(string) %4 == 0:\n",
    "    print(string[::-1])\n",
    "else:\n",
    "    print(\"Write another string\")"
   ]
  },
  {
   "cell_type": "markdown",
   "id": "18eef315-3fe8-4e1b-86ca-c6c77d4ba8ab",
   "metadata": {},
   "source": [
    "### 23) Write a Python program to get a string made of the first 2 and the last 2 chars from a given a string. If the string length is less than 2, return instead of the empty string."
   ]
  },
  {
   "cell_type": "code",
   "execution_count": 128,
   "id": "b7450c47-8bca-49f2-b489-1e0f5e82868f",
   "metadata": {},
   "outputs": [
    {
     "name": "stdin",
     "output_type": "stream",
     "text": [
      "Write a string: abhi\n"
     ]
    },
    {
     "name": "stdout",
     "output_type": "stream",
     "text": [
      "abhi\n"
     ]
    }
   ],
   "source": [
    "string = str(input(\"Write a string:\"))\n",
    "\n",
    "if len(string) > 1:\n",
    "    print(string[0:2]+string[-2:])\n",
    "else:\n",
    "    print()"
   ]
  },
  {
   "cell_type": "markdown",
   "id": "c141b772-238e-4bd9-b52f-1477f242e3ee",
   "metadata": {},
   "source": [
    "### 24) Write a Python function to insert a string in the middle of a string."
   ]
  },
  {
   "cell_type": "code",
   "execution_count": 139,
   "id": "027fcb2c-7c03-4fc8-b81b-2de2beb3dd3e",
   "metadata": {},
   "outputs": [
    {
     "name": "stdin",
     "output_type": "stream",
     "text": [
      "Write a string: abhishek\n",
      "Write a string to insert: hi\n"
     ]
    },
    {
     "name": "stdout",
     "output_type": "stream",
     "text": [
      "abhihishek\n"
     ]
    }
   ],
   "source": [
    "x = str(input(\"Write a string:\"))\n",
    "y = str(input(\"Write a string to insert:\"))\n",
    "\n",
    "print(x[0:len(x)//2] + y + x[len(x)//2:])"
   ]
  },
  {
   "cell_type": "markdown",
   "id": "3b6a5dee-24bc-4f57-82aa-350090625f62",
   "metadata": {},
   "source": [
    "### 25) What is List? How will you reverse a list?"
   ]
  },
  {
   "cell_type": "markdown",
   "id": "98cbfda8-9b37-4ec6-bba8-a0c2789946f5",
   "metadata": {},
   "source": [
    "* A Python list is defined as an ordered, mutable, and heterogeneous collection of objects. They are defined within square brackets [ ] and each element in the list is separated by a comma.\n",
    "* To reverse a list write \"list[::-1]\"."
   ]
  },
  {
   "cell_type": "markdown",
   "id": "38872a73-c52d-4055-a5fc-90c28e147055",
   "metadata": {},
   "source": [
    "### 26) How will you remove last object from a list?"
   ]
  },
  {
   "cell_type": "markdown",
   "id": "eb289cf2-595c-47b0-a884-f4b77959b383",
   "metadata": {},
   "source": [
    "* To remove the last object from a list in Python, you have a few options. Here are the most common methods:\n",
    "1) Using the pop() method: my_list.pop()\n",
    "2) Using slicing = my_list: my_list[:-1]\n",
    "3) Using del statement: del my_list[-1]"
   ]
  },
  {
   "cell_type": "markdown",
   "id": "7f37d96a-efba-4f68-9c81-8796c6ce085d",
   "metadata": {},
   "source": [
    "### 27) Suppose list1 is [2, 33, 222, 14, and 25], what is list1 [-1]?"
   ]
  },
  {
   "cell_type": "markdown",
   "id": "7204df0d-7658-49fc-b48a-7df8b79c4bc6",
   "metadata": {},
   "source": [
    "* The list [-1] means value of last element: [25]"
   ]
  },
  {
   "cell_type": "markdown",
   "id": "70fb8e10-468c-44bd-a819-800fe4300dda",
   "metadata": {},
   "source": [
    "### 28) Differentiate between append () and extend () methods?"
   ]
  },
  {
   "cell_type": "markdown",
   "id": "d9d339f6-0380-46b8-a593-dedae6c81d80",
   "metadata": {},
   "source": [
    "* append(): Adds its argument as a single element to the end of the list. The argument can be of any type.\n",
    "\n",
    "Example:\n",
    "my_list = [1, 2, 3]\r\n",
    "my_list.append(4)\r\n",
    "print(my_list)  # Output: [1, 2, 3, 4]\r\n",
    "\r\n",
    "my_list.append([5, 6])\r\n",
    "print(my_list)  # Output: [1, 2, 3, 4, [5, 6]]\r\n",
    "\n",
    "* extend(): Iterates over its argument, adding each element to the end of the list. The argument must be an ite\n",
    "\n",
    "Example:\n",
    "my_list = [1, 2, 3]\r\n",
    "my_list.extend([4, 5])\r\n",
    "print(my_list)  # Output: [1, 2, 3, 4, 5]\r\n",
    "\r\n",
    "my_list.extend('abc')\r\n",
    "print(my_list)  # Output: [1, 2, 3, 4, 5, 'a', 'b','c']\r\n",
    "rable."
   ]
  },
  {
   "cell_type": "markdown",
   "id": "5917144a-d435-4cc1-a69d-bf3578cf6207",
   "metadata": {},
   "source": [
    "### 29) Write a Python function to get the largest number, smallest num and sum of all from a list."
   ]
  },
  {
   "cell_type": "code",
   "execution_count": 4,
   "id": "362e275c-024f-4e8d-a50a-0e6be0b70204",
   "metadata": {},
   "outputs": [
    {
     "name": "stdout",
     "output_type": "stream",
     "text": [
      "1\n",
      "9\n",
      "40\n"
     ]
    }
   ],
   "source": [
    "a = [1,3,5,2,7,2,9,5,4,2]\n",
    "\n",
    "print(min(a))\n",
    "print(max(a))\n",
    "print(sum(a))"
   ]
  },
  {
   "cell_type": "markdown",
   "id": "27f078a0-27ef-4de5-a82f-552fa361e8f2",
   "metadata": {},
   "source": [
    "### 30) How will you compare two lists?"
   ]
  },
  {
   "cell_type": "code",
   "execution_count": 3,
   "id": "4d18d8c2-d3be-4940-9b91-1c595def78dd",
   "metadata": {},
   "outputs": [
    {
     "name": "stdout",
     "output_type": "stream",
     "text": [
      "True\n"
     ]
    }
   ],
   "source": [
    "list1 = [1, 2, 3, 4]\n",
    "list2 = [1, 2, 3, 4]\n",
    "\n",
    "equal = list1 == list2\n",
    "print(equal)"
   ]
  },
  {
   "cell_type": "markdown",
   "id": "5988d6a9-6391-474a-a77a-d3da04b112eb",
   "metadata": {},
   "source": [
    "### 31) Write a Python program to count the number of strings where the string length is 2 or more and the first and last character are same from a given list of strings."
   ]
  },
  {
   "cell_type": "code",
   "execution_count": 13,
   "id": "2b41ff4a-352c-4ab7-9b74-131480d38d33",
   "metadata": {},
   "outputs": [
    {
     "name": "stdin",
     "output_type": "stream",
     "text": [
      "Enter a string: fakldf\n"
     ]
    },
    {
     "name": "stdout",
     "output_type": "stream",
     "text": [
      "6\n"
     ]
    }
   ],
   "source": [
    "x = str(input(\"Enter a string:\"))\n",
    "\n",
    "if len(x) >= 2 and x[0] == x[-1]:\n",
    "    print(len(x))\n",
    "else:\n",
    "    print(\"Write another string\")"
   ]
  },
  {
   "cell_type": "markdown",
   "id": "a8f93b10-25eb-430e-8d37-4ad04ac4206e",
   "metadata": {},
   "source": [
    "### 32) Write a Python program to remove duplicates from a list."
   ]
  },
  {
   "cell_type": "code",
   "execution_count": 15,
   "id": "392b8834-58f1-472b-8df2-aaec112cbf61",
   "metadata": {},
   "outputs": [
    {
     "name": "stdout",
     "output_type": "stream",
     "text": [
      "[1, 2, 3, 4, 5, 6, 4, 3, 5, 2, 4]\n",
      "{1, 2, 3, 4, 5, 6}\n"
     ]
    }
   ],
   "source": [
    "x = [1,2,3,4,5,6,4,3,5,2,4]\n",
    "print(x)\n",
    "\n",
    "print(set(x))"
   ]
  },
  {
   "cell_type": "markdown",
   "id": "4ba0a567-c0cc-431c-903c-5531f231870d",
   "metadata": {},
   "source": [
    "### 33) Write a Python program to check a list is empty or not."
   ]
  },
  {
   "cell_type": "code",
   "execution_count": 25,
   "id": "6c253c97-cdcc-456d-9542-1b15b4a81329",
   "metadata": {},
   "outputs": [
    {
     "name": "stdout",
     "output_type": "stream",
     "text": [
      "6\n",
      "List is not empty\n"
     ]
    }
   ],
   "source": [
    "x=[2,3,5,6,54,3]\n",
    "print(len(x))\n",
    "\n",
    "if len(x) == 0:\n",
    "    print(\"List is empty\")\n",
    "else:\n",
    "    print(\"List is not empty\")"
   ]
  },
  {
   "cell_type": "markdown",
   "id": "2b9353f0-57b8-4476-a2a2-72afeaef3fc7",
   "metadata": {},
   "source": [
    "### 34) Write a Python function that takes two lists and returns true if they have at least one common member."
   ]
  },
  {
   "cell_type": "code",
   "execution_count": 35,
   "id": "14e2c429-c03f-4a9e-a5d3-4aaa966f3aff",
   "metadata": {},
   "outputs": [
    {
     "name": "stdout",
     "output_type": "stream",
     "text": [
      "{3, 'abc'}\n",
      "True\n"
     ]
    }
   ],
   "source": [
    "x = [1,4,7,3,2,\"abc\"]\n",
    "y = [8,9,5,3,\"abc\"]\n",
    "\n",
    "print(set(x).intersection(set(y)))\n",
    "\n",
    "if len(set(x).intersection(set(y))) > 0:\n",
    "    print(\"True\")\n",
    "else:\n",
    "    print(\"False\")"
   ]
  },
  {
   "cell_type": "markdown",
   "id": "188e0bd9-81e1-4813-a9a7-09bf9c80e04d",
   "metadata": {},
   "source": [
    "### 35) Write a Python program to generate and print a list of first and last 5 elements where the values are square of numbers between 1 and 30."
   ]
  },
  {
   "cell_type": "code",
   "execution_count": 45,
   "id": "a227dc49-e3eb-4817-b818-fb4424ad9c97",
   "metadata": {},
   "outputs": [
    {
     "name": "stdout",
     "output_type": "stream",
     "text": [
      "[1, 4, 9, 16, 25, 36, 49, 64, 81, 100, 121, 144, 169, 196, 225, 256, 289, 324, 361, 400, 441, 484, 529, 576, 625, 676, 729, 784, 841, 900]\n",
      "[1, 4, 9, 16, 25, 676, 729, 784, 841, 900]\n"
     ]
    }
   ],
   "source": [
    "x = [a**2 for a in range(1,31)]\n",
    "print(x)\n",
    "print(x[0:5] + x[-5:])"
   ]
  },
  {
   "cell_type": "markdown",
   "id": "54147f05-fa58-4ba5-9f08-40455b766694",
   "metadata": {},
   "source": [
    "### 36) Write a Python function that takes a list and returns a new list with unique elements of the first list."
   ]
  },
  {
   "cell_type": "code",
   "execution_count": 47,
   "id": "7112cc68-8710-42cb-a6b2-9f65166b1fad",
   "metadata": {},
   "outputs": [
    {
     "name": "stdout",
     "output_type": "stream",
     "text": [
      "[1, 3, 43, 4, 4, 3, 2, 2, 7, 90, 53, 3]\n",
      "[1, 2, 3, 4, 7, 43, 53, 90]\n"
     ]
    }
   ],
   "source": [
    "x = [1,3,43,4,4,3,2,2,7,90,53,3]\n",
    "print(x)\n",
    "y = set(x)\n",
    "x = list(y)\n",
    "print(x)"
   ]
  },
  {
   "cell_type": "markdown",
   "id": "5b407518-5607-4fca-896a-20d930b4cca1",
   "metadata": {},
   "source": [
    "### 37) Write a Python program to convert a list of characters into a string."
   ]
  },
  {
   "cell_type": "code",
   "execution_count": 59,
   "id": "90a1e0c0-2b97-43f4-a7a9-2b4b4013bd4b",
   "metadata": {},
   "outputs": [
    {
     "name": "stdout",
     "output_type": "stream",
     "text": [
      "adgda4\n"
     ]
    }
   ],
   "source": [
    "# With Join\n",
    "x = ['a','d','g','d','a','4']\n",
    "c = ''.join(x)\n",
    "print(c)"
   ]
  },
  {
   "cell_type": "code",
   "execution_count": 3,
   "id": "2434c4e1-50e7-451f-b9f1-0492af1b4554",
   "metadata": {},
   "outputs": [
    {
     "name": "stdout",
     "output_type": "stream",
     "text": [
      "Hello World\n"
     ]
    }
   ],
   "source": [
    "# With loop\n",
    "char_list = ['H', 'e', 'l', 'l', 'o', ' ', 'W', 'o', 'r', 'l', 'd']\n",
    "result = \"\"\n",
    "\n",
    "for char in char_list:\n",
    "    result = result+char\n",
    "print(result)"
   ]
  },
  {
   "cell_type": "markdown",
   "id": "514ab0ab-92bb-4b84-b460-d16957b0307b",
   "metadata": {},
   "source": [
    "### 38) Write a Python program to select an item randomly from a list."
   ]
  },
  {
   "cell_type": "code",
   "execution_count": 6,
   "id": "a21f78bf-3700-4fb4-ba2f-d194e8263f7d",
   "metadata": {},
   "outputs": [
    {
     "name": "stdin",
     "output_type": "stream",
     "text": [
      "Enter list 3462363srhr\n"
     ]
    },
    {
     "name": "stdout",
     "output_type": "stream",
     "text": [
      "['3', '4', '6', '2', '3', '6', '3', 's', 'r', 'h', 'r']\n",
      "4\n"
     ]
    }
   ],
   "source": [
    "import random\n",
    "a = list(input(\"Enter list\"))\n",
    "print(a)\n",
    "b = random.choice(a)\n",
    "print(b)"
   ]
  },
  {
   "cell_type": "markdown",
   "id": "2928b1fd-fe6c-4f33-b007-45904caba113",
   "metadata": {},
   "source": [
    "### 39) Write a Python program to find the second smallest number in a list."
   ]
  },
  {
   "cell_type": "code",
   "execution_count": 8,
   "id": "7037fa1c-0397-492b-b571-71985958d98f",
   "metadata": {},
   "outputs": [
    {
     "name": "stdout",
     "output_type": "stream",
     "text": [
      "[3]\n"
     ]
    }
   ],
   "source": [
    "list = [1,3,42,34,6,3,3,5,4,7]\n",
    "list.sort()\n",
    "print(list[1:2])"
   ]
  },
  {
   "cell_type": "markdown",
   "id": "c4b536aa-f49d-4ee6-affa-19c34d2c5b04",
   "metadata": {},
   "source": [
    "### 40) Write a Python program to get unique values from a list"
   ]
  },
  {
   "cell_type": "code",
   "execution_count": 13,
   "id": "1a4593bb-675f-4eae-81d0-304a8c13ebd6",
   "metadata": {},
   "outputs": [
    {
     "name": "stdout",
     "output_type": "stream",
     "text": [
      "{1, 34, 3, 4, 5, 6, 7, 42}\n"
     ]
    }
   ],
   "source": [
    "list = [1,3,42,34,6,3,3,5,4,7]\n",
    "a = set(list)\n",
    "print(a)"
   ]
  },
  {
   "cell_type": "markdown",
   "id": "002f9f2d-17f3-449c-9573-c524d6bbdbf5",
   "metadata": {},
   "source": [
    "### 41) Write a Python program to check whether a list contains a sub list"
   ]
  },
  {
   "cell_type": "code",
   "execution_count": 23,
   "id": "41ce4d39-870d-43c7-9ca9-fb378082fe51",
   "metadata": {},
   "outputs": [
    {
     "name": "stdout",
     "output_type": "stream",
     "text": [
      "Contains sub list\n"
     ]
    }
   ],
   "source": [
    "a=[1,2,3,4,5]\n",
    "b=[1,2]\n",
    "for i in b:\n",
    "    if i not in a:\n",
    "        print(\"Does not contain sub list\")\n",
    "        break\n",
    "else:\n",
    "    print(\"Contains sub list\")"
   ]
  },
  {
   "cell_type": "markdown",
   "id": "f8c36d19-77cc-4a6c-bd83-24350a09dcf8",
   "metadata": {},
   "source": [
    "### 42) Write a Python program to split a list into different variables."
   ]
  },
  {
   "cell_type": "code",
   "execution_count": 26,
   "id": "882d50f1-092b-435d-8270-87670b874d89",
   "metadata": {},
   "outputs": [
    {
     "name": "stdout",
     "output_type": "stream",
     "text": [
      "Var 1: 1\n"
     ]
    }
   ],
   "source": [
    "list = [1,2,3,4,5]\n",
    "var1, var2, var3, var4, var5 = list\n",
    "print(\"Var 1:\", var1)"
   ]
  },
  {
   "cell_type": "markdown",
   "id": "216abf60-04b9-4ff5-81cb-501705b0fd40",
   "metadata": {},
   "source": [
    "### 43) What is tuple? Difference between list and tuple."
   ]
  },
  {
   "cell_type": "markdown",
   "id": "7f588087-9e28-472e-a847-f5922f1fe5ec",
   "metadata": {},
   "source": [
    "* A tuple is an immutable sequence type in Python. This means once a tuple is created, its contents cannot be changed. Tuples can store multiple items, which can be of different data types, and they are defined by enclosing the items in parentheses ().\n",
    "\n",
    "### Differnce between list and tuple:\n",
    "* Syntax: List: Defined using square brackets []. Tuple: Defined using parentheses ().\n",
    "* Mutability: List: Mutable (can be modified after creation). Tuple: Immutable (cannot be modified after creation).\n",
    "* Performance: List: Generally slower due to overhead associated with dynamic resizing and additional methods. Tuple: Generally faster due to fixed size and immutability.\n",
    "* Use Cases: List: Used for collections of items that may need to be changed or modified. Tuple: Used for fixed collections of items or when immutability is desired (e.g., as keys in dictionaries)."
   ]
  },
  {
   "cell_type": "markdown",
   "id": "f49d7347-076f-41ab-a0bc-d09852a1c8a0",
   "metadata": {},
   "source": [
    "### 44) Write a Python program to create a tuple with different data types."
   ]
  },
  {
   "cell_type": "code",
   "execution_count": 41,
   "id": "615727e0-ad98-4cb7-b362-0261291c59e8",
   "metadata": {},
   "outputs": [
    {
     "name": "stdout",
     "output_type": "stream",
     "text": [
      "(1, 'a', 4.42, [1, 3], 3)\n"
     ]
    },
    {
     "data": {
      "text/plain": [
       "tuple"
      ]
     },
     "execution_count": 41,
     "metadata": {},
     "output_type": "execute_result"
    }
   ],
   "source": [
    "a = (1, \"a\", 4.42, [1,3], 3)\n",
    "print(a)\n",
    "type(a)"
   ]
  },
  {
   "cell_type": "markdown",
   "id": "f3f7fab5-cf31-4a00-a7b5-bd5ec1ef04b3",
   "metadata": {},
   "source": [
    "### 45) Write a Python program to unzip a list of tuples into individual lists."
   ]
  },
  {
   "cell_type": "code",
   "execution_count": 3,
   "id": "97a1a166-3be9-4dc1-b156-5c7446244c39",
   "metadata": {},
   "outputs": [
    {
     "name": "stdout",
     "output_type": "stream",
     "text": [
      "List 1: [1, 2, 3]\n",
      "List 2: ['a', 'b', 'c']\n",
      "List 3: [3.5, 4.5, 5.5]\n"
     ]
    }
   ],
   "source": [
    "# Define a list of tuples\n",
    "list_of_tuples = [(1, 'a', 3.5), (2, 'b', 4.5), (3, 'c', 5.5)]\n",
    "\n",
    "# Use zip with unpacking to unzip the list of tuples\n",
    "unzipped_lists = list(zip(*list_of_tuples))\n",
    "\n",
    "# Convert each tuple in the unzipped_lists to a list\n",
    "list1, list2, list3 = [list(tup) for tup in unzipped_lists]\n",
    "\n",
    "# Print the individual lists\n",
    "print(\"List 1:\", list1)\n",
    "print(\"List 2:\", list2)\n",
    "print(\"List 3:\",list3)"
   ]
  },
  {
   "cell_type": "markdown",
   "id": "9da524dd-470b-46b9-ab4b-e6bf2944cdf6",
   "metadata": {},
   "source": [
    "### 46) Write a Python program to convert a list of tuples into a dictionary."
   ]
  },
  {
   "cell_type": "code",
   "execution_count": 4,
   "id": "d490d504-ab3a-4448-9e73-9f1109bfe5c5",
   "metadata": {},
   "outputs": [
    {
     "name": "stdout",
     "output_type": "stream",
     "text": [
      "{'a': 1, 'b': 2, 'c': 3, 'd': 4}\n"
     ]
    }
   ],
   "source": [
    "list_of_tuple = [(\"a\", 1),(\"b\", 2),(\"c\", 3),(\"d\", 4)]\n",
    "\n",
    "dict = dict(list_of_tuple)\n",
    "print(dict)"
   ]
  },
  {
   "cell_type": "markdown",
   "id": "222c3875-84ce-4940-8775-fcfbe154f4fe",
   "metadata": {},
   "source": [
    "### 47) How will you create a dictionary using tuples in python?"
   ]
  },
  {
   "cell_type": "markdown",
   "id": "d859533e-6dfd-4a4b-a729-2a3ba309006a",
   "metadata": {},
   "source": [
    "### Explanation:\n",
    "* List of Tuples: Each tuple in the list should have exactly two elements: the first element is the key and the second is the value.\n",
    "* Using dict(): This built-in function takes an iterable of key-value pairs (tuples) and constructs a dictionary.\n",
    "* Using Dictionary Comprehension: This method provides a more flexible way to create a dictionary, which can be useful if you need to apply transformations or filters during dictionary creation."
   ]
  },
  {
   "cell_type": "markdown",
   "id": "f6fd64c8-7a2d-4a66-8e09-3a8f3374a6ff",
   "metadata": {},
   "source": [
    "### 48) Write a Python script to sort (ascending and descending) a dictionary by value."
   ]
  },
  {
   "cell_type": "code",
   "execution_count": 13,
   "id": "5b1179bf-5d79-4749-a975-b24598b29b20",
   "metadata": {},
   "outputs": [
    {
     "name": "stdout",
     "output_type": "stream",
     "text": [
      "Ascending Order: [('banana', 2), ('date', 3), ('apple', 5), ('cherry', 7)]\n",
      "Descending Order: [('cherry', 7), ('apple', 5), ('date', 3), ('banana', 2)]\n"
     ]
    }
   ],
   "source": [
    "# Define a dictionary\n",
    "my_dict = {'apple': 5, 'banana': 2, 'cherry': 7, 'date': 3}\n",
    "\n",
    "# Sort the dictionary by value in ascending order\n",
    "ascending_sorted_dict = (sorted(my_dict.items(), key=lambda item: item[1]))\n",
    "\n",
    "# Sort the dictionary by value in descending order\n",
    "descending_sorted_dict = (sorted(my_dict.items(), key=lambda item: item[1], reverse=True))\n",
    "\n",
    "# Print the sorted dictionaries\n",
    "print(\"Ascending Order:\", ascending_sorted_dict)\n",
    "print(\"Descending Order:\", descending_sorted_dict)"
   ]
  },
  {
   "cell_type": "markdown",
   "id": "b5499ff6-8f99-43ca-9de4-6d85fda878ab",
   "metadata": {},
   "source": [
    "### 49) Write a Python script to concatenate following dictionaries to create a new one."
   ]
  },
  {
   "cell_type": "code",
   "execution_count": 14,
   "id": "c6972c64-ab1a-446f-8160-1d5c6d9eae1d",
   "metadata": {},
   "outputs": [
    {
     "name": "stdout",
     "output_type": "stream",
     "text": [
      "Concatenated Dictionary: {'a': 1, 'b': 2, 'c': 3, 'd': 4, 'e': 5, 'f': 6}\n"
     ]
    }
   ],
   "source": [
    "# Define dictionaries to concatenate\n",
    "dict1 = {'a': 1, 'b': 2}\n",
    "dict2 = {'c': 3, 'd': 4}\n",
    "dict3 = {'e': 5, 'f': 6}\n",
    "\n",
    "# Concatenate dictionaries\n",
    "concatenated_dict = {**dict1, **dict2, **dict3}\n",
    "\n",
    "# Print the resulting dictionary\n",
    "print(\"Concatenated Dictionary:\", concatenated_dict)"
   ]
  },
  {
   "cell_type": "code",
   "execution_count": 15,
   "id": "d89e8c46-d889-4c8a-95f2-ff303281a3c2",
   "metadata": {},
   "outputs": [
    {
     "name": "stdout",
     "output_type": "stream",
     "text": [
      "Concatenated Dictionary: {'a': 1, 'b': 2, 'c': 3, 'd': 4, 'e': 5, 'f': 6}\n"
     ]
    }
   ],
   "source": [
    "# Define dictionaries to concatenate\n",
    "dict1 = {'a': 1, 'b': 2}\n",
    "dict2 = {'c': 3, 'd': 4}\n",
    "dict3 = {'e': 5, 'f': 6}\n",
    "\n",
    "# Create a new dictionary and update it with the other dictionaries\n",
    "concatenated_dict = {}\n",
    "concatenated_dict.update(dict1)\n",
    "concatenated_dict.update(dict2)\n",
    "concatenated_dict.update(dict3)\n",
    "\n",
    "# Print the resulting dictionary\n",
    "print(\"Concatenated Dictionary:\", concatenated_dict)"
   ]
  },
  {
   "cell_type": "markdown",
   "id": "ab355b14-6771-4c76-869d-14b368e71a7d",
   "metadata": {},
   "source": [
    "### 50) Write a Python script to check if a given key already exists in a dictionary."
   ]
  },
  {
   "cell_type": "code",
   "execution_count": 17,
   "id": "8ed667ff-bbae-4a0f-b115-605f3b54bcc1",
   "metadata": {},
   "outputs": [
    {
     "name": "stdout",
     "output_type": "stream",
     "text": [
      "Key 'age' exists in the dictionary.\n"
     ]
    }
   ],
   "source": [
    "# Define a dictionary\n",
    "dic1 = {'name': 'Alice', 'age': 30, 'city': 'New York'}\n",
    "\n",
    "# Define the key to check\n",
    "key = 'age'\n",
    "\n",
    "# Check if the key exists in the dictionary\n",
    "if key in dic1:\n",
    "    print(f\"Key '{key}' exists in the dictionary.\")\n",
    "else:\n",
    "    print(f\"Key '{key}' does not exist in the dictionary.\")"
   ]
  },
  {
   "cell_type": "markdown",
   "id": "5167a2b0-d1be-42a5-ac59-7f0b1a364a5f",
   "metadata": {},
   "source": [
    "### 51) How Do You Traverse Through a Dictionary Object in Python?"
   ]
  },
  {
   "cell_type": "markdown",
   "id": "f69c5971-fe0e-4475-88cd-cdddfd1820cc",
   "metadata": {},
   "source": [
    "There are many ways to transverse through a dictionary.\n",
    "* By using for loop method.\n",
    "* By usinf values().\n",
    "* By using keys().\n",
    "* By using items().\n",
    "* And by using Iterators."
   ]
  },
  {
   "cell_type": "markdown",
   "id": "192e23da-141a-4c26-86be-84f6401379a8",
   "metadata": {},
   "source": [
    "### 52) How Do You Check the Presence of a Key in A Dictionary?"
   ]
  },
  {
   "cell_type": "code",
   "execution_count": 1,
   "id": "6e6d4a81-de31-41fb-9e06-8149ce4999fc",
   "metadata": {},
   "outputs": [
    {
     "name": "stdout",
     "output_type": "stream",
     "text": [
      "Key 'b' is present.\n"
     ]
    }
   ],
   "source": [
    "my_dict = {'a': 1, 'b': 2, 'c': 3}\n",
    "\n",
    "if 'b' in my_dict:\n",
    "    print(\"Key 'b' is present.\")\n",
    "else:\n",
    "    print(\"Key 'b' is not present.\")"
   ]
  },
  {
   "cell_type": "markdown",
   "id": "7fa38b10-2ec6-463a-81cb-4de119ffbe78",
   "metadata": {},
   "source": [
    "### 53) Write a Python script to print a dictionary where the keys are numbers between 1 and 15."
   ]
  },
  {
   "cell_type": "code",
   "execution_count": 2,
   "id": "54f7bd74-f09a-4c84-8c04-53c29617d8bc",
   "metadata": {},
   "outputs": [
    {
     "name": "stdout",
     "output_type": "stream",
     "text": [
      "{1: None, 2: None, 3: None, 4: None, 5: None, 6: None, 7: None, 8: None, 9: None, 10: None, 11: None, 12: None, 13: None, 14: None, 15: None}\n"
     ]
    }
   ],
   "source": [
    "my_dict = {key: None for key in range(1,16)}\n",
    "\n",
    "print(my_dict)"
   ]
  },
  {
   "cell_type": "markdown",
   "id": "840d3bf1-2148-4ab1-a401-dd8a31b0559c",
   "metadata": {},
   "source": [
    "### 54) Write a Python program to check multiple keys exists in a dictionary."
   ]
  },
  {
   "cell_type": "code",
   "execution_count": 5,
   "id": "3c41d000-fb97-4b2e-b11e-09fff1985cbe",
   "metadata": {},
   "outputs": [
    {
     "name": "stdout",
     "output_type": "stream",
     "text": [
      "The key 'b' appears more than once.\n"
     ]
    }
   ],
   "source": [
    "my_dict = {'a': 1, 'b': 2, 'b': 3}\n",
    "\n",
    "def check_multi_key(my_dict, key):\n",
    "    return my_dict.get(key, 0)>1\n",
    "\n",
    "if check_multi_key(my_dict, 'b'):\n",
    "    print(\"The key 'b' appears more than once.\")\n",
    "else:\n",
    "    print(\"The key 'b' does not appear more than once.\")"
   ]
  },
  {
   "cell_type": "markdown",
   "id": "3c159629-9f1e-4c16-aa40-6cc65c2888cb",
   "metadata": {},
   "source": [
    "### 55) Write a Python script to merge two Python dictionaries"
   ]
  },
  {
   "cell_type": "code",
   "execution_count": 6,
   "id": "feae83de-5dcb-40ab-9d07-2e789ccc2bbf",
   "metadata": {},
   "outputs": [
    {
     "name": "stdout",
     "output_type": "stream",
     "text": [
      "Merged dictionary: {'a': 1, 'b': 3, 'c': 4}\n"
     ]
    }
   ],
   "source": [
    "dict1 = {'a': 1, 'b': 2}\n",
    "dict2 = {'b': 3, 'c': 4}\n",
    "\n",
    "merge = dict1.copy()\n",
    "merge.update(dict2)\n",
    "\n",
    "print(\"Merged dictionary:\", merge)"
   ]
  },
  {
   "cell_type": "markdown",
   "id": "4d4c5896-f368-47d0-a884-0dd89158dd2a",
   "metadata": {},
   "source": [
    "### 56) Write a Python program to map two lists into a dictionary\n",
    "* Sample output: Counter ({'a': 400, 'b': 400,’d’: 400, 'c': 300})."
   ]
  },
  {
   "cell_type": "code",
   "execution_count": 7,
   "id": "d2f2c341-434a-4db1-9633-d6a15c668b00",
   "metadata": {},
   "outputs": [
    {
     "name": "stdout",
     "output_type": "stream",
     "text": [
      "Mapped dictionary: {'a': 400, 'b': 400, 'd': 400, 'c': 300}\n"
     ]
    }
   ],
   "source": [
    "keys = ['a', 'b', 'd', 'c']\n",
    "values = [400, 400, 400, 300]\n",
    "\n",
    "# Map the two lists into a dictionary\n",
    "mapped_dict = dict(zip(keys, values))\n",
    "\n",
    "# Print the dictionary and the Counter object\n",
    "print(\"Mapped dictionary:\", mapped_dict)"
   ]
  },
  {
   "cell_type": "markdown",
   "id": "edc69705-68b0-42c9-a876-b0d68f51758e",
   "metadata": {},
   "source": [
    "### 57) Write a Python program to find the highest 3 values in a dictionary"
   ]
  },
  {
   "cell_type": "code",
   "execution_count": 8,
   "id": "b701d682-2bea-466b-bcf1-3324854bc1b2",
   "metadata": {},
   "outputs": [
    {
     "name": "stdout",
     "output_type": "stream",
     "text": [
      "Highest 3 values: [20, 15, 10]\n"
     ]
    }
   ],
   "source": [
    "def find_high_3_values(dictionary):\n",
    "  \"Finds the highest 3 values in a dictionary.\"\n",
    "\n",
    "  sorted_values = sorted(dictionary.values(), reverse=True)\n",
    "  return sorted_values[:3]\n",
    "\n",
    "# Example usage:\n",
    "my_dict = {'a': 10, 'b': 5, 'c': 20, 'd': 15}\n",
    "highest_3 = find_high_3_values(my_dict)\n",
    "print(\"Highest 3 values:\", highest_3)"
   ]
  },
  {
   "cell_type": "markdown",
   "id": "a02a3962-a3ec-48e0-bec7-b69b743a6772",
   "metadata": {},
   "source": [
    "### 58) Write a Python program to combine values in python list of dictionaries. Sample data: [{'item': 'item1', 'amount': 400}, {'item': 'item2', 'amount': 300}, o {'item': 'item1', 'amount': 750}]\n",
    "* Expected Output:\n",
    "* Counter ({'item1': 1150, 'item2': 300})"
   ]
  },
  {
   "cell_type": "code",
   "execution_count": 2,
   "id": "5fca7bf7-9484-477e-8dff-925fdae05031",
   "metadata": {},
   "outputs": [
    {
     "name": "stdout",
     "output_type": "stream",
     "text": [
      "Counter {'item1': 1150, 'item2': 300}\n"
     ]
    }
   ],
   "source": [
    "from collections import Counter\n",
    "\n",
    "# Sample data\n",
    "\n",
    "data = [\n",
    "    {'item': 'item1', 'amount': 400},\n",
    "    {'item': 'item2', 'amount': 300},\n",
    "    {'item': 'item1', 'amount': 750}\n",
    "]\n",
    "\n",
    "counter = Counter()\n",
    "\n",
    "for entry in data:\n",
    "    item = entry['item']\n",
    "    amount = entry['amount']\n",
    "    counter[item] = counter[item] + amount\n",
    "\n",
    "print(\"Counter\", dict(counter))"
   ]
  },
  {
   "cell_type": "markdown",
   "id": "41f18781-3028-4a60-b259-52ce900cfe4b",
   "metadata": {},
   "source": [
    "### 59) Write a Python program to create a dictionary from a string. Note: Track the count of the letters from the string."
   ]
  },
  {
   "cell_type": "code",
   "execution_count": 3,
   "id": "c290c139-750b-497f-9223-37ffc92b7f57",
   "metadata": {},
   "outputs": [
    {
     "name": "stdout",
     "output_type": "stream",
     "text": [
      "Count of letter: Counter({'l': 3, 'o': 2, 'h': 1, 'e': 1, ' ': 1, 'w': 1, 'r': 1, 'd': 1})\n"
     ]
    }
   ],
   "source": [
    "from collections import Counter\n",
    "\n",
    "string = \"hello world\"\n",
    "\n",
    "letter_count = Counter(string)\n",
    "\n",
    "print(\"Count of letter:\", letter_count)"
   ]
  },
  {
   "cell_type": "markdown",
   "id": "db9edab6-a146-4d1d-ab66-1f2c63b36629",
   "metadata": {},
   "source": [
    "### 60) Sample string: 'w3resource'.\n",
    "Expected output: {'3': 1,’s’: 1, 'r': 2, 'u': 1, 'w': 1, 'c': 1, 'e': 2, 'o': 1}"
   ]
  },
  {
   "cell_type": "code",
   "execution_count": 4,
   "id": "716cebf2-4c77-4a95-90a1-2950e3a7b61d",
   "metadata": {},
   "outputs": [
    {
     "name": "stdout",
     "output_type": "stream",
     "text": [
      "Output: Counter({'r': 2, 'e': 2, 'w': 1, '3': 1, 's': 1, 'o': 1, 'u': 1, 'c': 1})\n"
     ]
    }
   ],
   "source": [
    "from collections import Counter\n",
    "# Sample string\n",
    "string = \"w3resource\"\n",
    "\n",
    "letter_count = Counter(string)\n",
    "\n",
    "print(\"Output:\", letter_count)"
   ]
  },
  {
   "cell_type": "markdown",
   "id": "5aeed50d-1781-4bcc-a21a-ab597c5ba425",
   "metadata": {},
   "source": [
    "### 61) Write a Python function to calculate the factorial of a number (a nonnegative integer)"
   ]
  },
  {
   "cell_type": "code",
   "execution_count": 14,
   "id": "95e11baf-2ccd-46bc-bdfc-d5d5294bcc95",
   "metadata": {},
   "outputs": [
    {
     "name": "stdout",
     "output_type": "stream",
     "text": [
      "Enter a number\n"
     ]
    },
    {
     "name": "stdin",
     "output_type": "stream",
     "text": [
      "None 5\n"
     ]
    },
    {
     "name": "stdout",
     "output_type": "stream",
     "text": [
      "The Factorial of 5 is 120\n"
     ]
    }
   ],
   "source": [
    "def factorial(n):\n",
    "    if n < 0:\n",
    "        return None\n",
    "    elif n == 0 or n == 1:\n",
    "        return 1\n",
    "    else:\n",
    "        return n * factorial(n-1)\n",
    "\n",
    "# take number n from user\n",
    "number = int(input(print(\"Enter a number\")))\n",
    "fact_result = factorial(number)\n",
    "print(\"The Factorial of\", number, \"is\", fact_result)"
   ]
  },
  {
   "cell_type": "markdown",
   "id": "05d0221f-8128-44be-b338-4a6c3cea0f8a",
   "metadata": {},
   "source": [
    "### 62) Write a Python function to check whether a number is in a given range"
   ]
  },
  {
   "cell_type": "code",
   "execution_count": 16,
   "id": "832537b9-e2c3-4764-b816-2d7dc044f3a5",
   "metadata": {},
   "outputs": [
    {
     "name": "stdout",
     "output_type": "stream",
     "text": [
      "True\n",
      "False\n"
     ]
    }
   ],
   "source": [
    "def num_in_range(number, lower_limit, upper_limit):\n",
    "    return lower_limit <= number <= upper_limit\n",
    "\n",
    "print(num_in_range(5, 1, 10))\n",
    "print(num_in_range(7, 1, 5))"
   ]
  },
  {
   "cell_type": "markdown",
   "id": "e77cbc1b-12eb-4ee9-8590-8d67b414edb0",
   "metadata": {},
   "source": [
    "### 63) Write a Python function to check whether a number is perfect or not."
   ]
  },
  {
   "cell_type": "code",
   "execution_count": 21,
   "id": "bb6f61eb-ee5e-48d6-a14e-14c819c609e0",
   "metadata": {},
   "outputs": [
    {
     "name": "stdout",
     "output_type": "stream",
     "text": [
      "28 is a perfect number.\n"
     ]
    }
   ],
   "source": [
    "def perfect_number(n):\n",
    "    \"\"\"Checks if the number is perfect or not\"\"\"\n",
    "    if n <= 1:\n",
    "        return False\n",
    "    # Now find the divisor sum\n",
    "    divisor_sum = 0\n",
    "    for i in range (1, (n//2) + 1):\n",
    "        if n % i == 0:\n",
    "            divisor_sum = i + divisor_sum\n",
    "    return divisor_sum == n\n",
    "\n",
    "# write number n to check\n",
    "n = 28\n",
    "if perfect_number(n):\n",
    "  print(n, \"is a perfect number.\")\n",
    "else:\n",
    "  print(n, \"is not a perfect number.\")"
   ]
  },
  {
   "cell_type": "markdown",
   "id": "9c9dda8d-2f1b-4e01-a216-8efdce7c1d5b",
   "metadata": {},
   "source": [
    "### 64) Write a Python function that checks whether a passed string is palindrome or not"
   ]
  },
  {
   "cell_type": "code",
   "execution_count": 22,
   "id": "d2a9b2cd-836e-4e0f-b8f4-baec25048e9a",
   "metadata": {},
   "outputs": [
    {
     "name": "stdout",
     "output_type": "stream",
     "text": [
      "True\n",
      "False\n"
     ]
    }
   ],
   "source": [
    "def is_palindrome(s):\n",
    "    s = s.replace(\" \", \"\").lower()\n",
    "    if s == s[::-1]:\n",
    "        return True\n",
    "    else:\n",
    "        return False\n",
    "\n",
    "string1 = \"race car\"\n",
    "string2 = \"Hello\"\n",
    "\n",
    "print(is_palindrome(string1))\n",
    "print(is_palindrome(string2))"
   ]
  },
  {
   "cell_type": "markdown",
   "id": "4b1e6b9b-81cb-49da-8385-3478ac38fdea",
   "metadata": {},
   "source": [
    "### 65) How Many Basic Types of Functions Are Available in Python?\n",
    "* Built-in Functions: Predefined functions available in Python.\n",
    "* User-Defined Functions: Functions defined by the user using the def keyword.\n",
    "* Lambda Functions: Anonymous functions created using the lambda keyword.\n",
    "* Higher-Order Functions: Functions that accept other functions as arguments or return them.\n",
    "* Recursive Functions: Functions that call themselves.\n",
    "* Generator Functions: Functions that use yield to produce a sequence of values.\n",
    "* Coroutine Functions: Asynchronous functions defined with async def and used with await."
   ]
  },
  {
   "cell_type": "markdown",
   "id": "3b967a6b-41b5-4c37-a2b1-37bf747aeb16",
   "metadata": {},
   "source": [
    "### 66) How can you pick a random item from a list or tuple?"
   ]
  },
  {
   "cell_type": "code",
   "execution_count": 26,
   "id": "272a51c8-b9f1-43de-98d1-0cb77e251f6a",
   "metadata": {},
   "outputs": [
    {
     "name": "stdout",
     "output_type": "stream",
     "text": [
      "Random item from list: 4\n",
      "Random item from tuple: apple\n"
     ]
    }
   ],
   "source": [
    "import random\n",
    "\n",
    "# Example list and tuple\n",
    "my_list = [1, 2, 3, 4, 5]\n",
    "my_tuple = ('apple', 'banana', 'cherry', 'date')\n",
    "\n",
    "# Pick a random item from the list\n",
    "random_item_list = random.choice(my_list)\n",
    "# Pick a random item from the tuple\n",
    "random_item_tuple = random.choice(my_tuple)\n",
    "\n",
    "print(\"Random item from list:\", random_item_list)\n",
    "print(\"Random item from tuple:\", random_item_tuple)"
   ]
  },
  {
   "cell_type": "markdown",
   "id": "bd3427d7-0a1d-45c2-becd-e248fb537441",
   "metadata": {},
   "source": [
    "### 67) How can you pick a random item from a range?"
   ]
  },
  {
   "cell_type": "code",
   "execution_count": 28,
   "id": "42149cbc-869d-4803-8394-ce8faa512b8b",
   "metadata": {},
   "outputs": [
    {
     "name": "stdout",
     "output_type": "stream",
     "text": [
      "Random item from range: 3\n"
     ]
    }
   ],
   "source": [
    "import random\n",
    "\n",
    "range_list = list(range(1, 11))\n",
    "\n",
    "# Pick a random item from the list created from the range\n",
    "print(\"Random item from range:\", random.choice(range_list))"
   ]
  },
  {
   "cell_type": "markdown",
   "id": "2d54e904-0a12-4d9d-ac1b-e368aef87173",
   "metadata": {},
   "source": [
    "### 68) How can you get a random number in python?"
   ]
  },
  {
   "cell_type": "code",
   "execution_count": 29,
   "id": "dc486245-2870-45aa-b42d-efb9394d8256",
   "metadata": {},
   "outputs": [
    {
     "name": "stdout",
     "output_type": "stream",
     "text": [
      "Random integer between 1 and 10: 8\n"
     ]
    }
   ],
   "source": [
    "import random\n",
    "\n",
    "random_int = random.randint(1, 10)\n",
    "print(\"Random integer between 1 and 10:\", random_int)"
   ]
  },
  {
   "cell_type": "markdown",
   "id": "3c73f79e-d6e2-41b2-84c9-4aee8f55750e",
   "metadata": {},
   "source": [
    "### 69) How will you set the starting value in generating random numbers?"
   ]
  },
  {
   "cell_type": "code",
   "execution_count": 35,
   "id": "18ccf64d-586b-4af2-bc58-52786515cefe",
   "metadata": {},
   "outputs": [
    {
     "name": "stdout",
     "output_type": "stream",
     "text": [
      "Random float with seed 42: 0.6394267984578837\n",
      "Random integer with seed 42: 1\n"
     ]
    }
   ],
   "source": [
    "import random\n",
    "\n",
    "# Set the seed for reproducibility\n",
    "random.seed(42)\n",
    "\n",
    "# Generate some random numbers\n",
    "random_float1 = random.random()\n",
    "random_int1 = random.randint(1, 10)\n",
    "\n",
    "print(\"Random float with seed 42:\", random_float1)\n",
    "print(\"Random integer with seed 42:\", random_int1)"
   ]
  },
  {
   "cell_type": "markdown",
   "id": "5c7c25d5-d7c5-4cd7-b728-e039e7421131",
   "metadata": {},
   "source": [
    "### 70) How will you randomize the items of a list in place?"
   ]
  },
  {
   "cell_type": "code",
   "execution_count": 36,
   "id": "7eb6b00e-61c2-4b48-9f46-41ae423a1869",
   "metadata": {},
   "outputs": [
    {
     "name": "stdout",
     "output_type": "stream",
     "text": [
      "[4, 5, 1, 2, 3]\n"
     ]
    }
   ],
   "source": [
    "import random\n",
    "\n",
    "my_list = [1, 2, 3, 4, 5]\n",
    "random.shuffle(my_list)\n",
    "print(my_list)"
   ]
  },
  {
   "cell_type": "markdown",
   "id": "a1b1a824-829c-456d-9f67-95e19cf06e77",
   "metadata": {},
   "source": [
    "### 71) What is File function in python? What are keywords to create and write file.\n",
    "\n",
    "##### In Python, handling files is essential for many applications, such as reading and writing data. Python provides built-in functions and methods to work with files. The file function, which was used in Python 2, has been replaced by the open() function in Python 3. The open() function is used to create, read, write, and manipulate files.\n",
    "* open() Function: The primary function used to open files in Python 3.\n",
    "###### Keywords for File Operations:\n",
    "* 'w': Write mode (creates or truncates a file).\n",
    "* 'a': Append mode (adds to an existing file).\n",
    "* 'x': Exclusive creation mode (raises an error if file exists).\n",
    "* 'r': Read mode (reads from the file)."
   ]
  },
  {
   "cell_type": "markdown",
   "id": "a26032cb-376b-46bc-aaed-a8cec7e2f020",
   "metadata": {},
   "source": [
    "### 72) Write a Python program to read an entire text file."
   ]
  },
  {
   "cell_type": "code",
   "execution_count": 53,
   "id": "b81c2bae-9ac7-4e97-acfc-b11682769aa9",
   "metadata": {},
   "outputs": [
    {
     "name": "stdout",
     "output_type": "stream",
     "text": [
      "example file for pythone.\n"
     ]
    }
   ],
   "source": [
    "with open('example.txt', 'r') as file:\n",
    "    content = file.read()\n",
    "    print(content)"
   ]
  },
  {
   "cell_type": "markdown",
   "id": "cd46575a-9b75-4fa9-9ee9-06f813065561",
   "metadata": {},
   "source": [
    "###  73) Write a Python program to append text to a file and display the text."
   ]
  },
  {
   "cell_type": "code",
   "execution_count": 54,
   "id": "9abe9e3e-d2ef-4782-b323-85203ca78705",
   "metadata": {},
   "outputs": [
    {
     "name": "stdout",
     "output_type": "stream",
     "text": [
      "example file for pythone.\n",
      "This is some new text.\n"
     ]
    }
   ],
   "source": [
    "def append_text_to_file(filename, text):\n",
    "  \"Appends text to a file and displays the entire contents.\"\n",
    "\n",
    "  with open(filename, 'a') as file:\n",
    "    file.write('\\n' + text)\n",
    "\n",
    "  with open(filename, 'r') as file:\n",
    "    content = file.read()\n",
    "    print(content)\n",
    "\n",
    "filename = \"example.txt\"\n",
    "text_to_append = \"This is some new text.\"\n",
    "\n",
    "append_text_to_file(filename, text_to_append)"
   ]
  },
  {
   "cell_type": "markdown",
   "id": "9abd952f-0734-4cf4-aac6-7b8521773671",
   "metadata": {},
   "source": [
    "### 74) Write a Python program to read first n lines of a file."
   ]
  },
  {
   "cell_type": "code",
   "execution_count": 55,
   "id": "9a9c08a2-6f73-47a9-99e7-19a10fc763ab",
   "metadata": {},
   "outputs": [
    {
     "name": "stdout",
     "output_type": "stream",
     "text": [
      "example file for pythone.\n",
      "This is some new text.\n"
     ]
    }
   ],
   "source": [
    "def read_first_n_lines(filename, n):\n",
    "    \"Reads the first n lines of a file.\"\n",
    "\n",
    "    with open(filename, 'r') as file:\n",
    "        lines = file.readlines()\n",
    "        return lines[:n]\n",
    "\n",
    "\n",
    "filename = \"example.txt\"\n",
    "n = 3  # Number of lines to read\n",
    "\n",
    "lines = read_first_n_lines(filename, n)\n",
    "for line in lines:\n",
    "    print(line.strip())"
   ]
  },
  {
   "cell_type": "markdown",
   "id": "035e2348-2135-415f-8238-26a46a654cfd",
   "metadata": {},
   "source": [
    "### 75) Write a Python program to read last n lines of a file."
   ]
  },
  {
   "cell_type": "code",
   "execution_count": 56,
   "id": "9ebe62da-a501-4760-9f64-64df8588f8ed",
   "metadata": {},
   "outputs": [
    {
     "name": "stdout",
     "output_type": "stream",
     "text": [
      "example file for pythone.\n",
      "This is some new text.\n"
     ]
    }
   ],
   "source": [
    "def read_first_n_lines(filename, n):\n",
    "    \"Reads the first n lines of a file.\"\n",
    "\n",
    "    with open(filename, 'r') as file:\n",
    "        lines = file.readlines()\n",
    "        return lines[-n:]\n",
    "\n",
    "\n",
    "filename = \"example.txt\"\n",
    "n = 3  # Number of lines to read\n",
    "\n",
    "lines = read_first_n_lines(filename, n)\n",
    "for line in lines:\n",
    "    print(line.strip())"
   ]
  },
  {
   "cell_type": "markdown",
   "id": "c27eee88-24db-4b89-b364-aedfc21293c4",
   "metadata": {},
   "source": [
    "### 76) Write a Python program to read a file line by line and store it into a list"
   ]
  },
  {
   "cell_type": "code",
   "execution_count": 57,
   "id": "3e1afcf5-fd09-46bb-89f7-1881678f4840",
   "metadata": {},
   "outputs": [
    {
     "name": "stdout",
     "output_type": "stream",
     "text": [
      "['example file for pythone.', 'This is some new text.']\n"
     ]
    }
   ],
   "source": [
    "# Define the filename (update this with your actual file path)\n",
    "filename = 'example.txt'\n",
    "\n",
    "# Initialize an empty list to store lines\n",
    "lines_list = []\n",
    "\n",
    "# Open the file for reading\n",
    "with open(filename, 'r') as file:\n",
    "    # Iterate through each line in the file\n",
    "    for line in file:\n",
    "        # Strip any leading/trailing whitespace (including the newline character) and append to the list\n",
    "        lines_list.append(line.strip())\n",
    "\n",
    "# Print the list to see the result\n",
    "print(lines_list)"
   ]
  },
  {
   "cell_type": "markdown",
   "id": "2f74923e-c013-4e2b-ae70-601a7f3e8b71",
   "metadata": {},
   "source": [
    "### 77) Write a Python program to read a file line by line store it into a variable."
   ]
  },
  {
   "cell_type": "code",
   "execution_count": 58,
   "id": "5942bb49-973e-4dfa-a388-a2afbe8873fd",
   "metadata": {},
   "outputs": [
    {
     "name": "stdout",
     "output_type": "stream",
     "text": [
      "123 example file for pythone.\n",
      "This is some new text.\n"
     ]
    }
   ],
   "source": [
    "# Define the filename (update this with your actual file path)\n",
    "filename = 'example.txt'\n",
    "\n",
    "# Initialize an empty string to store the file content\n",
    "file_content = \"123 \"\n",
    "\n",
    "# Open the file for reading\n",
    "with open(filename, 'r') as file:\n",
    "    # Iterate through each line in the file\n",
    "    for line in file:\n",
    "        # Append each line to the string with a newline character\n",
    "        file_content += line\n",
    "\n",
    "# Print the content to see the result\n",
    "print(file_content)"
   ]
  },
  {
   "cell_type": "markdown",
   "id": "c4c14e1e-cefe-4307-9411-442fbca4773e",
   "metadata": {},
   "source": [
    "### 78) Write a python program to find the longest words."
   ]
  },
  {
   "cell_type": "code",
   "execution_count": 59,
   "id": "f411d88e-8a58-4afa-ae2f-f486cf7cf768",
   "metadata": {},
   "outputs": [
    {
     "name": "stdout",
     "output_type": "stream",
     "text": [
      "Longest words: ['pythone.']\n"
     ]
    }
   ],
   "source": [
    "def find_longest_words(text):\n",
    "    # Split the text into words\n",
    "    words = text.split()\n",
    "    \n",
    "    # Find the length of the longest word\n",
    "    max_length = max(len(word) for word in words)\n",
    "    \n",
    "    # Collect all words with the maximum length\n",
    "    longest_words = [word for word in words if len(word) == max_length]\n",
    "    \n",
    "    return longest_words\n",
    "\n",
    "# Define the filename (update this with your actual file path)\n",
    "filename = 'example.txt'\n",
    "\n",
    "# Read the content of the file\n",
    "with open(filename, 'r') as file:\n",
    "    text = file.read()\n",
    "\n",
    "# Find the longest words in the text\n",
    "longest_words = find_longest_words(text)\n",
    "\n",
    "# Print the longest words\n",
    "print(\"Longest words:\", longest_words)"
   ]
  },
  {
   "cell_type": "markdown",
   "id": "d401e93c-251d-4158-a785-747df62da4fe",
   "metadata": {},
   "source": [
    "### 79) Write a Python program to count the number of lines in a text file."
   ]
  },
  {
   "cell_type": "code",
   "execution_count": 60,
   "id": "660e6f09-9755-43be-b20b-d7909c4b432e",
   "metadata": {},
   "outputs": [
    {
     "name": "stdout",
     "output_type": "stream",
     "text": [
      "Number of lines: 2\n"
     ]
    }
   ],
   "source": [
    "def count_lines_in_file(filename):\n",
    "  \"Counts the number of lines in a text file.\"\n",
    "\n",
    "  with open(filename, 'r') as file:\n",
    "    line_count = 0\n",
    "    for line in file:\n",
    "      line_count += 1\n",
    "  return line_count\n",
    "\n",
    "\n",
    "filename = \"example.txt\"\n",
    "line_count = count_lines_in_file(filename)\n",
    "print(\"Number of lines:\", line_count)"
   ]
  },
  {
   "cell_type": "markdown",
   "id": "168ec221-969f-4770-9e72-d0dcdf800dbb",
   "metadata": {},
   "source": [
    "### 80) Write a Python program to count the frequency of words in a file."
   ]
  },
  {
   "cell_type": "code",
   "execution_count": 61,
   "id": "2b34e1a1-6db5-48b2-ae6b-f335925ce3d5",
   "metadata": {},
   "outputs": [
    {
     "name": "stdout",
     "output_type": "stream",
     "text": [
      "Counter({'example': 1, 'file': 1, 'for': 1, 'pythone.': 1, 'This': 1, 'is': 1, 'some': 1, 'new': 1, 'text.': 1})\n"
     ]
    }
   ],
   "source": [
    "from collections import Counter\n",
    "\n",
    "def count_word_frequency(filename):\n",
    "  \"Counts the frequency of words in a text file.\"\n",
    "\n",
    "  with open(filename, 'r') as file:\n",
    "    words = file.read().split()\n",
    "    word_count = Counter(words)\n",
    "  return word_count\n",
    "\n",
    "\n",
    "filename = \"example.txt\"\n",
    "word_frequency = count_word_frequency(filename)\n",
    "print(word_frequency)"
   ]
  },
  {
   "cell_type": "markdown",
   "id": "ae74c878-2858-4c8b-8f76-5921b84ca08d",
   "metadata": {},
   "source": [
    "### 81) Write a Python program to write a list to a file."
   ]
  },
  {
   "cell_type": "code",
   "execution_count": 62,
   "id": "73636fef-ce06-47af-85d4-972f3065e960",
   "metadata": {},
   "outputs": [
    {
     "name": "stdout",
     "output_type": "stream",
     "text": [
      "List has been written to output.txt\n"
     ]
    }
   ],
   "source": [
    "# Define the list to be written to the file\n",
    "my_list = ['apple', 'banana', 'cherry', 'date', 'elderberry']\n",
    "\n",
    "# Define the filename (update this with your actual file path)\n",
    "filename = 'output.txt'\n",
    "\n",
    "# Open the file for writing\n",
    "with open(filename, 'w') as file:\n",
    "    # Write each item in the list to the file on a new line\n",
    "    for item in my_list:\n",
    "        file.write(item + '\\n')\n",
    "\n",
    "print(f\"List has been written to {filename}\")"
   ]
  },
  {
   "cell_type": "markdown",
   "id": "465535bf-e80a-43ad-9a87-ac0abc3a2aa6",
   "metadata": {},
   "source": [
    "### 82) Write a Python program to copy the contents of a file to another file."
   ]
  },
  {
   "cell_type": "code",
   "execution_count": 64,
   "id": "b85e41b9-785d-4c8e-8fd4-fe5bf0d09229",
   "metadata": {},
   "outputs": [
    {
     "name": "stdout",
     "output_type": "stream",
     "text": [
      "Contents of source.txt have been copied to destination.txt\n"
     ]
    }
   ],
   "source": [
    "# Define the source and destination filenames\n",
    "source_filename = 'source.txt'\n",
    "destination_filename = 'destination.txt'\n",
    "\n",
    "# Open the source file for reading and the destination file for writing\n",
    "with open(source_filename, 'r') as source_file:\n",
    "    with open(destination_filename, 'w') as dest_file:\n",
    "        # Read the entire content of the source file\n",
    "        content = source_file.read()\n",
    "        # Write the content to the destination file\n",
    "        dest_file.write(content)\n",
    "\n",
    "print(f\"Contents of {source_filename} have been copied to {destination_filename}\")"
   ]
  },
  {
   "cell_type": "markdown",
   "id": "3fba8c2c-6d12-482d-a038-fb4fd70c75fe",
   "metadata": {},
   "source": [
    "### 83) Explain Exception handling? What is an Error in Python?\n",
    "\n",
    "#### Exception Handling in Python\n",
    "* Exception handling is a mechanism to handle runtime errors or exceptional conditions that arise during the execution of a program. It allows a program to deal with unexpected situations gracefully without crashing. In Python, this is typically achieved using try, except, else, and finally blocks.\n",
    "\n",
    "##### Basic Structure of Exception Handling\n",
    "* try Block: Contains the code that might raise an exception. If an error occurs, the rest of the code in this block is skipped.\n",
    "* except Block: Contains code that handles the exception if it occurs. You can specify different types of exceptions to handle different error conditions.\n",
    "* else Block: (Optional) Contains code that runs if no exceptions are raised in the try block.\n",
    "* finally Block: (Optional) Contains code that always runs, regardless of whether an exception was raised or not. This is often used for cleanup actions like closing files or releasing resources.\n",
    "\n",
    "#### Errors in Python\n",
    "* Errors in Python refer to issues that occur when the Python interpreter is unable to execute code. Errors can be classified into two main categories:\n",
    "* Syntax Errors: These occur when there is a mistake in the syntax of the code, such as missing punctuation or incorrect indentation. Syntax errors are detected during the parsing of the code before execution.\n",
    "* Exceptions: These are errors that occur during the execution of a program. Exceptions are typically caused by issues such as invalid operations, file not found, or network errors. They can be handled using exception handling techniques.\n",
    "\n",
    "##### Common Python Errors and Exceptions\n",
    "* ZeroDivisionError: Raised when attempting to divide by zero.\n",
    "* FileNotFoundError: Raised when trying to open a file that does not exist.\n",
    "* IndexError: Raised when trying to access an index that is out of range in a list or tuple.\n",
    "* KeyError: Raised when trying to access a dictionary key that does not exist.\n",
    "* TypeError: Raised when an operation or function is applied to an object of inappropriate type"
   ]
  },
  {
   "cell_type": "markdown",
   "id": "db18d3e2-5d30-4b79-92e0-23c09c4daf14",
   "metadata": {},
   "source": [
    "### 84) How many except statements can a try-except block have? Name Some built-in exception classes:\n",
    "* In Python, a try block can have multiple except statements to handle different types of exceptions separately. There is no strict limit to the number of except blocks you can have, but having too many can make your code harder to maintain and read. Each except block can handle a specific exception type or a group of exception types.\n",
    "\n",
    "#### Some Built-in Exception Classes in Python\n",
    "\n",
    "* Exception: The base class for all built-in exceptions.\n",
    "* ArithmeticError: Base class for all arithmetic errors.\n",
    "* ZeroDivisionError: Raised when dividing by zero.\n",
    "* OverflowError: Raised when a calculation exceeds the maximum limit for a numeric type.\n",
    "* FloatingPointError: Raised when a floating-point operation fails.\n",
    "* LookupError: Base class for all lookup errors.\n",
    "* IndexError: Raised when an index is out of range.\n",
    "* KeyError: Raised when a dictionary key is not found.\n",
    "* FileNotFoundError: Raised when a file or directory is requested but cannot be found.\n",
    "* IOError: Raised when an I/O operation fails, such as a file read/write error.\n",
    "* ValueError: Raised when a function receives an argument of the right type but inappropriate value.\n",
    "* TypeError: Raised when an operation or function is applied to an object of inappropriate type.\n",
    "* NameError: Raised when a local or global name is not found.\n",
    "* AttributeError: Raised when an invalid attribute reference is made.\n",
    "* RuntimeError: Raised when an error is detected that doesn’t fall into any of the other categories."
   ]
  },
  {
   "cell_type": "markdown",
   "id": "00e84399-e660-4367-9adf-ff996f6933ff",
   "metadata": {},
   "source": [
    "### 85) When will the else part of try-except-else be executed?\n",
    "* The else block in a try-except-else structure is executed only if no exceptions are raised in the try block. It allows you to specify code that should run when the try block completes successfully without encountering any errors."
   ]
  },
  {
   "cell_type": "markdown",
   "id": "d95592de-a530-484c-94e0-bee00c84b24e",
   "metadata": {},
   "source": [
    "### 86) Can one block of except statements handle multiple exception?\n",
    "* Yes, a single except block in Python can handle multiple exceptions. This is useful when you want to catch and handle several types of exceptions in the same way, without writing separate except blocks for each exception type."
   ]
  },
  {
   "cell_type": "markdown",
   "id": "55387d60-d232-4dad-973a-e99ad92f7597",
   "metadata": {},
   "source": [
    "### 87) When is the finally block executed?\n",
    "* The finally block in a try-except-finally construct is always executed, regardless of whether an exception was raised or not. It is designed to ensure that certain cleanup actions are performed, no matter what happens during the execution of the try block."
   ]
  },
  {
   "cell_type": "markdown",
   "id": "f90fb4ff-693b-4046-a9f1-f9d28f440a24",
   "metadata": {},
   "source": [
    "### 88) What happens when „1‟== 1 is executed?"
   ]
  },
  {
   "cell_type": "code",
   "execution_count": 65,
   "id": "f9b6d2f8-ffa4-460f-9634-59e86127e970",
   "metadata": {},
   "outputs": [
    {
     "data": {
      "text/plain": [
       "False"
      ]
     },
     "execution_count": 65,
     "metadata": {},
     "output_type": "execute_result"
    }
   ],
   "source": [
    "\"1\" == 1"
   ]
  },
  {
   "cell_type": "markdown",
   "id": "5dc65096-47da-4628-98fe-1bc8104d3e32",
   "metadata": {},
   "source": [
    "### 89) How Do You Handle Exceptions with Try/Except/Finally in Python Explain with coding snippets."
   ]
  },
  {
   "cell_type": "code",
   "execution_count": 69,
   "id": "5e8bf7d4-98f7-4544-b7bf-62509a62a378",
   "metadata": {},
   "outputs": [
    {
     "name": "stdin",
     "output_type": "stream",
     "text": [
      "Enter the first number:  4\n",
      "Enter the second number:  0\n"
     ]
    },
    {
     "name": "stdout",
     "output_type": "stream",
     "text": [
      "Error: Cannot divide by zero.\n",
      "Finally block executed.\n"
     ]
    }
   ],
   "source": [
    "try:\n",
    "    num1 = int(input(\"Enter the first number: \"))\n",
    "    num2 = int(input(\"Enter the second number: \"))\n",
    "    result = num1 / num2\n",
    "    print(\"Result:\", result)\n",
    "except ZeroDivisionError:\n",
    "    print(\"Error: Cannot divide by zero.\")\n",
    "except ValueError:\n",
    "    print(\"Error: Please enter valid numbers.\")\n",
    "finally:\n",
    "    print(\"Finally block executed.\")"
   ]
  },
  {
   "cell_type": "markdown",
   "id": "96d5b47e-8131-4ec7-96fa-61c74ceda9f9",
   "metadata": {},
   "source": [
    "### 90) Write python program that user to enter only odd numbers, else will raise an exception."
   ]
  },
  {
   "cell_type": "code",
   "execution_count": 71,
   "id": "80a4a37b-cfbe-4515-81b2-5ff767915d7e",
   "metadata": {},
   "outputs": [
    {
     "name": "stdin",
     "output_type": "stream",
     "text": [
      "Enter an odd number:  4\n"
     ]
    },
    {
     "name": "stdout",
     "output_type": "stream",
     "text": [
      "Invalid input. Please enter an odd number.\n"
     ]
    },
    {
     "name": "stdin",
     "output_type": "stream",
     "text": [
      "Enter an odd number:  5\n"
     ]
    },
    {
     "name": "stdout",
     "output_type": "stream",
     "text": [
      "You entered: 5\n"
     ]
    }
   ],
   "source": [
    "def input_odd_number():\n",
    "  \"Prompts the user to enter an odd number and raises an exception if the input is not odd.\"\n",
    "\n",
    "  while True:\n",
    "    try:\n",
    "      number = int(input(\"Enter an odd number: \"))\n",
    "      if number % 2 == 0:\n",
    "        raise ValueError(\"Please enter an odd number.\")\n",
    "      return number\n",
    "    except ValueError:\n",
    "      print(\"Invalid input. Please enter an odd number.\")\n",
    "\n",
    "try:\n",
    "  odd_number = input_odd_number()\n",
    "  print(\"You entered:\", odd_number)\n",
    "except ValueError:\n",
    "  print(\"Error: You did not enter an odd number.\")"
   ]
  }
 ],
 "metadata": {
  "kernelspec": {
   "display_name": "Python 3 (ipykernel)",
   "language": "python",
   "name": "python3"
  },
  "language_info": {
   "codemirror_mode": {
    "name": "ipython",
    "version": 3
   },
   "file_extension": ".py",
   "mimetype": "text/x-python",
   "name": "python",
   "nbconvert_exporter": "python",
   "pygments_lexer": "ipython3",
   "version": "3.12.4"
  }
 },
 "nbformat": 4,
 "nbformat_minor": 5
}
