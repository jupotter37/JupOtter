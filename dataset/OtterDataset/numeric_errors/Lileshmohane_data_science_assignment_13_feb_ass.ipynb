{
 "cells": [
  {
   "cell_type": "markdown",
   "id": "f570759e-d6f0-4057-99a9-352089903b11",
   "metadata": {},
   "source": [
    "Q1. Explain why we have to use the Exception class while creating a Custom Exception."
   ]
  },
  {
   "cell_type": "markdown",
   "id": "28cc5efc-9fb0-4844-a286-f48d6360f85f",
   "metadata": {},
   "source": [
    "In Python, Exception is a built-in class that serves as the base class for all standard exceptions. When we create a custom exception class that inherits from Exception, our custom exception class inherits all the properties and methods of the Exception class.\n",
    "\n",
    "This allows our custom exception to behave like a standard exception in Python, with the added benefit of being more specific to our program. By using Exception as the base class, our custom exception inherits some common properties and methods like __str__, args, etc. that are used to represent and raise exceptions in Python.\n",
    "\n",
    "In addition, using Exception as the base class also ensures that our custom exception can be caught by the except block that handles all exceptions, as well as any other except blocks that handle specific types of exceptions.\n",
    "\n",
    "Overall, by inheriting from the Exception class, we can create custom exceptions that are more specific to our program, while still ensuring that they behave like standard exceptions in Python and can be caught and handled using standard exception-handling techniques."
   ]
  },
  {
   "cell_type": "markdown",
   "id": "7c10cff4-d49c-43ea-90e0-d696363741a3",
   "metadata": {},
   "source": [
    "Q2. Write a python program to print Python Exception Hierarchy."
   ]
  },
  {
   "cell_type": "code",
   "execution_count": 1,
   "id": "accaa48c-392f-40b4-a2f3-777b47495ef1",
   "metadata": {},
   "outputs": [],
   "source": [
    "import sys\n",
    "\n",
    "for exc in sys.exc_info():\n",
    "    if exc is not None:\n",
    "        print(f\"\\nType: {exc.__class__.__name__}\")\n",
    "        print(f\"Message: {exc}\")\n",
    "        print(f\"Traceback: {exc.__traceback__}\")\n"
   ]
  },
  {
   "cell_type": "markdown",
   "id": "000d12b4-b94c-4318-8ab9-db2b72b23f3d",
   "metadata": {},
   "source": [
    "Q3. What errors are defined in the ArithmeticError class? Explain any two with an example."
   ]
  },
  {
   "cell_type": "markdown",
   "id": "f4c3dfdb-75bf-4ef6-8370-7899a94abc5b",
   "metadata": {},
   "source": [
    "he ArithmeticError class is a built-in class in Python that serves as the base class for all arithmetic-related errors. This class includes several specific types of errors, including ZeroDivisionError, OverflowError, and FloatingPointError."
   ]
  },
  {
   "cell_type": "markdown",
   "id": "c6f2e88f-b596-4173-be59-8491ac745484",
   "metadata": {},
   "source": [
    "ZeroDivisionError: This error occurs when you try to divide a number by zero. "
   ]
  },
  {
   "cell_type": "code",
   "execution_count": 3,
   "id": "512c2f4a-5984-405a-999c-3489cb358fdc",
   "metadata": {},
   "outputs": [
    {
     "ename": "ZeroDivisionError",
     "evalue": "division by zero",
     "output_type": "error",
     "traceback": [
      "\u001b[0;31m---------------------------------------------------------------------------\u001b[0m",
      "\u001b[0;31mZeroDivisionError\u001b[0m                         Traceback (most recent call last)",
      "Cell \u001b[0;32mIn[3], line 3\u001b[0m\n\u001b[1;32m      1\u001b[0m x \u001b[38;5;241m=\u001b[39m \u001b[38;5;241m10\u001b[39m\n\u001b[1;32m      2\u001b[0m y \u001b[38;5;241m=\u001b[39m \u001b[38;5;241m0\u001b[39m\n\u001b[0;32m----> 3\u001b[0m z \u001b[38;5;241m=\u001b[39m \u001b[43mx\u001b[49m\u001b[43m \u001b[49m\u001b[38;5;241;43m/\u001b[39;49m\u001b[43m \u001b[49m\u001b[43my\u001b[49m \n\u001b[1;32m      4\u001b[0m \u001b[38;5;66;03m# Raises ZeroDivisionError\u001b[39;00m\n",
      "\u001b[0;31mZeroDivisionError\u001b[0m: division by zero"
     ]
    }
   ],
   "source": [
    "x = 10\n",
    "y = 0\n",
    "z = x / y \n",
    "# Raises ZeroDivisionError\n"
   ]
  },
  {
   "cell_type": "markdown",
   "id": "24496009-340c-4ad2-876b-8f991dc54aae",
   "metadata": {},
   "source": [
    "OverflowError: This error occurs when you try to perform an arithmetic operation that results in a number that is too large to be represented."
   ]
  },
  {
   "cell_type": "code",
   "execution_count": null,
   "id": "40333bc1-e424-40b7-9bea-88ac0ea83f6c",
   "metadata": {},
   "outputs": [],
   "source": [
    "x = 2 ** 1000\n",
    "y = 2 ** 1000\n",
    "z = x ** y  # Raises OverflowError\n"
   ]
  },
  {
   "cell_type": "markdown",
   "id": "76ec735c-beec-4d4f-a9c3-596e2785eea0",
   "metadata": {},
   "source": [
    "Q4. Why LookupError class is used? Explain with an example KeyError and IndexError."
   ]
  },
  {
   "cell_type": "markdown",
   "id": "c9fd2776-d1f3-4893-9a21-08160b23d342",
   "metadata": {},
   "source": [
    "The LookupError class is a built-in class in Python that serves as the base class for all lookup-related errors. This class includes several specific types of errors, including KeyError and IndexError."
   ]
  },
  {
   "cell_type": "markdown",
   "id": "75ee36c0-0585-40ef-95aa-0b6e1cd2c1ad",
   "metadata": {},
   "source": [
    "KeyError: This error occurs when you try to access a non-existent key in a dictionary. "
   ]
  },
  {
   "cell_type": "code",
   "execution_count": 2,
   "id": "11623f1f-a56f-41f8-84ef-72905b3ad9fc",
   "metadata": {},
   "outputs": [
    {
     "ename": "KeyError",
     "evalue": "'d'",
     "output_type": "error",
     "traceback": [
      "\u001b[0;31m---------------------------------------------------------------------------\u001b[0m",
      "\u001b[0;31mKeyError\u001b[0m                                  Traceback (most recent call last)",
      "Cell \u001b[0;32mIn[2], line 2\u001b[0m\n\u001b[1;32m      1\u001b[0m my_dict \u001b[38;5;241m=\u001b[39m {\u001b[38;5;124m'\u001b[39m\u001b[38;5;124ma\u001b[39m\u001b[38;5;124m'\u001b[39m: \u001b[38;5;241m1\u001b[39m, \u001b[38;5;124m'\u001b[39m\u001b[38;5;124mb\u001b[39m\u001b[38;5;124m'\u001b[39m: \u001b[38;5;241m2\u001b[39m, \u001b[38;5;124m'\u001b[39m\u001b[38;5;124mc\u001b[39m\u001b[38;5;124m'\u001b[39m: \u001b[38;5;241m3\u001b[39m}\n\u001b[0;32m----> 2\u001b[0m value \u001b[38;5;241m=\u001b[39m \u001b[43mmy_dict\u001b[49m\u001b[43m[\u001b[49m\u001b[38;5;124;43m'\u001b[39;49m\u001b[38;5;124;43md\u001b[39;49m\u001b[38;5;124;43m'\u001b[39;49m\u001b[43m]\u001b[49m  \u001b[38;5;66;03m# Raises KeyError\u001b[39;00m\n",
      "\u001b[0;31mKeyError\u001b[0m: 'd'"
     ]
    }
   ],
   "source": [
    "my_dict = {'a': 1, 'b': 2, 'c': 3}\n",
    "value = my_dict['d']  # Raises KeyError\n"
   ]
  },
  {
   "cell_type": "markdown",
   "id": "f5f87460-2509-49de-bbdd-3f5f95d68e63",
   "metadata": {},
   "source": [
    "IndexError: This error occurs when you try to access an index that is out of range in a list or other sequence"
   ]
  },
  {
   "cell_type": "code",
   "execution_count": 3,
   "id": "660120f1-5838-486d-9846-49fca57b07cb",
   "metadata": {},
   "outputs": [
    {
     "ename": "IndexError",
     "evalue": "list index out of range",
     "output_type": "error",
     "traceback": [
      "\u001b[0;31m---------------------------------------------------------------------------\u001b[0m",
      "\u001b[0;31mIndexError\u001b[0m                                Traceback (most recent call last)",
      "Cell \u001b[0;32mIn[3], line 2\u001b[0m\n\u001b[1;32m      1\u001b[0m my_list \u001b[38;5;241m=\u001b[39m [\u001b[38;5;241m1\u001b[39m, \u001b[38;5;241m2\u001b[39m, \u001b[38;5;241m3\u001b[39m]\n\u001b[0;32m----> 2\u001b[0m value \u001b[38;5;241m=\u001b[39m \u001b[43mmy_list\u001b[49m\u001b[43m[\u001b[49m\u001b[38;5;241;43m3\u001b[39;49m\u001b[43m]\u001b[49m  \u001b[38;5;66;03m# Raises IndexError\u001b[39;00m\n",
      "\u001b[0;31mIndexError\u001b[0m: list index out of range"
     ]
    }
   ],
   "source": [
    "my_list = [1, 2, 3]\n",
    "value = my_list[3]  # Raises IndexError\n"
   ]
  },
  {
   "cell_type": "markdown",
   "id": "6d036821-0579-4edd-bb72-5428c75485ab",
   "metadata": {},
   "source": [
    "Q5. Explain ImportError. What is ModuleNotFoundError?"
   ]
  },
  {
   "cell_type": "markdown",
   "id": "7648a13f-0ee4-42d9-87fe-bca6003dbebc",
   "metadata": {},
   "source": [
    "ImportError is a built-in Python exception that is raised when an imported module cannot be found or loaded properly. This can happen for a variety of reasons, such as:\n",
    "\n",
    "The module does not exist in the search path or current directory.\n",
    "The module has an import error or syntax error in its code.\n",
    "The module has dependencies that cannot be found or loaded.\n",
    "ImportError is a general-purpose exception that can be caught in a try-except block, and it has several subtypes that provide more specific information about the error. Some of these subtypes include:"
   ]
  },
  {
   "cell_type": "markdown",
   "id": "0a4d903e-195c-4d80-a13a-63d200bde3f5",
   "metadata": {},
   "source": [
    "ModuleNotFoundError: This is a specific type of ImportError that was introduced in Python 3.6. It is raised when a module cannot be found in the search path or current directory."
   ]
  },
  {
   "cell_type": "code",
   "execution_count": 4,
   "id": "0b892ecb-a0bc-43ae-a5d2-74fb679b518e",
   "metadata": {},
   "outputs": [
    {
     "ename": "SyntaxError",
     "evalue": "invalid syntax. Perhaps you forgot a comma? (969095692.py, line 2)",
     "output_type": "error",
     "traceback": [
      "\u001b[0;36m  Cell \u001b[0;32mIn[4], line 2\u001b[0;36m\u001b[0m\n\u001b[0;31m    Traceback (most recent call last):\u001b[0m\n\u001b[0m               ^\u001b[0m\n\u001b[0;31mSyntaxError\u001b[0m\u001b[0;31m:\u001b[0m invalid syntax. Perhaps you forgot a comma?\n"
     ]
    }
   ],
   "source": [
    ">>> import non_existent_module\n",
    "Traceback (most recent call last):\n",
    "  File \"<stdin>\", line 1, in <module>\n",
    "ImportError: No module named 'non_existent_module'\n",
    "\n",
    ">>> import non_existent_module\n",
    "Traceback (most recent call last):\n",
    "  File \"<stdin>\", line 1, in <module>\n",
    "ModuleNotFoundError: No module named 'non_existent_module'\n"
   ]
  },
  {
   "cell_type": "markdown",
   "id": "de6d71bd-b0f5-419b-8d54-03bb42438e11",
   "metadata": {},
   "source": [
    "ImportError with message: This subtype of ImportError can be raised with a custom error message when there is an issue with importing a module. This can be useful for providing more specific error messages to users"
   ]
  },
  {
   "cell_type": "code",
   "execution_count": 5,
   "id": "bb6e2508-8606-4b83-b604-810cd7c50e2e",
   "metadata": {},
   "outputs": [
    {
     "ename": "ImportError",
     "evalue": "Cannot import module 'some_module', please check your installation.",
     "output_type": "error",
     "traceback": [
      "\u001b[0;31m---------------------------------------------------------------------------\u001b[0m",
      "\u001b[0;31mModuleNotFoundError\u001b[0m                       Traceback (most recent call last)",
      "Cell \u001b[0;32mIn[5], line 2\u001b[0m\n\u001b[1;32m      1\u001b[0m \u001b[38;5;28;01mtry\u001b[39;00m:\n\u001b[0;32m----> 2\u001b[0m     \u001b[38;5;28;01mimport\u001b[39;00m \u001b[38;5;21;01msome_module\u001b[39;00m\n\u001b[1;32m      3\u001b[0m \u001b[38;5;28;01mexcept\u001b[39;00m \u001b[38;5;167;01mImportError\u001b[39;00m:\n",
      "\u001b[0;31mModuleNotFoundError\u001b[0m: No module named 'some_module'",
      "\nDuring handling of the above exception, another exception occurred:\n",
      "\u001b[0;31mImportError\u001b[0m                               Traceback (most recent call last)",
      "Cell \u001b[0;32mIn[5], line 4\u001b[0m\n\u001b[1;32m      2\u001b[0m     \u001b[38;5;28;01mimport\u001b[39;00m \u001b[38;5;21;01msome_module\u001b[39;00m\n\u001b[1;32m      3\u001b[0m \u001b[38;5;28;01mexcept\u001b[39;00m \u001b[38;5;167;01mImportError\u001b[39;00m:\n\u001b[0;32m----> 4\u001b[0m     \u001b[38;5;28;01mraise\u001b[39;00m \u001b[38;5;167;01mImportError\u001b[39;00m(\u001b[38;5;124m\"\u001b[39m\u001b[38;5;124mCannot import module \u001b[39m\u001b[38;5;124m'\u001b[39m\u001b[38;5;124msome_module\u001b[39m\u001b[38;5;124m'\u001b[39m\u001b[38;5;124m, please check your installation.\u001b[39m\u001b[38;5;124m\"\u001b[39m)\n",
      "\u001b[0;31mImportError\u001b[0m: Cannot import module 'some_module', please check your installation."
     ]
    }
   ],
   "source": [
    "try:\n",
    "    import some_module\n",
    "except ImportError:\n",
    "    raise ImportError(\"Cannot import module 'some_module', please check your installation.\")\n"
   ]
  },
  {
   "cell_type": "code",
   "execution_count": null,
   "id": "93c6a95b-3168-430f-886c-5fe4702edc96",
   "metadata": {},
   "outputs": [],
   "source": []
  },
  {
   "cell_type": "markdown",
   "id": "c0084015-8dd1-4bec-a639-5514a9b36bd0",
   "metadata": {},
   "source": [
    "Use specific exception types: When catching exceptions, it's generally better to use specific exception types instead of catching Exception or a generic type. This allows you to handle different types of errors in different ways.\n",
    "\n",
    "Keep try blocks small: Try blocks should be kept as small as possible to limit the amount of code that could potentially raise an exception. This helps to isolate exceptions and make them easier to handle.\n",
    "\n",
    "Use finally for cleanup: The finally block is guaranteed to execute, whether an exception is raised or not. This makes it a good place to put cleanup code, such as closing files or releasing resources.\n",
    "\n",
    "Don't ignore exceptions: It's important to always handle exceptions in some way, even if it's just logging the error. Ignoring exceptions can lead to hard-to-debug issues down the line.\n",
    "\n",
    "Use logging to track exceptions: Logging can be a useful tool for tracking exceptions and other errors in your code. It allows you to easily see when and where errors are occurring, which can be helpful for debugging and improving the quality of your code.\n",
    "\n",
    "Use context managers: Context managers, such as with statements, can be used to automatically handle exceptions and cleanup resources. This can make your code more concise and easier to read."
   ]
  },
  {
   "cell_type": "markdown",
   "id": "7fee11e6-6552-4b14-9951-20544213d1ec",
   "metadata": {},
   "source": [
    "Be careful with bare except statements: Bare except statements should generally be avoided, as they can catch unexpected exceptions and make it harder to debug issues. If you need to catch all exceptions, it's generally better to catch Exception instead.\n",
    "\n",
    "Document exceptions: It's a good practice to document the exceptions that your code can raise, as well as what causes each exception to be raised. This makes it easier for other developers to understand and use your code."
   ]
  },
  {
   "cell_type": "code",
   "execution_count": null,
   "id": "2a577ee1-2c53-47f5-912a-7a2e9e71ea02",
   "metadata": {},
   "outputs": [],
   "source": []
  }
 ],
 "metadata": {
  "kernelspec": {
   "display_name": "Python 3 (ipykernel)",
   "language": "python",
   "name": "python3"
  },
  "language_info": {
   "codemirror_mode": {
    "name": "ipython",
    "version": 3
   },
   "file_extension": ".py",
   "mimetype": "text/x-python",
   "name": "python",
   "nbconvert_exporter": "python",
   "pygments_lexer": "ipython3",
   "version": "3.10.8"
  }
 },
 "nbformat": 4,
 "nbformat_minor": 5
}
