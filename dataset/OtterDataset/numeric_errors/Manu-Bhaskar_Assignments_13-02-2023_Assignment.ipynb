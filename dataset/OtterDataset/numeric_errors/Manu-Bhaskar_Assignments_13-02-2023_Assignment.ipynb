{
 "cells": [
  {
   "cell_type": "markdown",
   "id": "cc62c43d-1f0f-4f0f-80ea-aa04fcdd8a18",
   "metadata": {},
   "source": [
    "**Q1. Explain why we have to use the Exception class while creating a Custom Exception.**  \n",
    "**Note: Here Exception class refers to the base class for all the exceptions.**"
   ]
  },
  {
   "cell_type": "markdown",
   "id": "a845742b-5b1c-44cc-990f-028b6df8bfe0",
   "metadata": {},
   "source": [
    "When we are creating custom exception class, we make the custom class a child class of Exception superclass. We do this to make the cuxtom exception class have same properties and attributes that Exception superclass possesses. This way a custom class can display some message while giving error."
   ]
  },
  {
   "cell_type": "code",
   "execution_count": 3,
   "id": "b6e83d84-573d-4b28-9b1c-e31fc3839b02",
   "metadata": {},
   "outputs": [],
   "source": [
    "class CustomException(Exception):\n",
    "    def __init__(self , msg):\n",
    "        self.msg = msg"
   ]
  },
  {
   "cell_type": "code",
   "execution_count": 4,
   "id": "dda86c51-6aa8-42eb-b118-c9fc2701b164",
   "metadata": {},
   "outputs": [
    {
     "ename": "CustomException",
     "evalue": "This is a custom exception",
     "output_type": "error",
     "traceback": [
      "\u001b[0;31m---------------------------------------------------------------------------\u001b[0m",
      "\u001b[0;31mCustomException\u001b[0m                           Traceback (most recent call last)",
      "Cell \u001b[0;32mIn[4], line 3\u001b[0m\n\u001b[1;32m      1\u001b[0m a \u001b[38;5;241m=\u001b[39m \u001b[38;5;241m10\u001b[39m\n\u001b[1;32m      2\u001b[0m \u001b[38;5;28;01mif\u001b[39;00m a \u001b[38;5;241m%\u001b[39m \u001b[38;5;241m10\u001b[39m \u001b[38;5;241m==\u001b[39m \u001b[38;5;241m0\u001b[39m:\n\u001b[0;32m----> 3\u001b[0m     \u001b[38;5;28;01mraise\u001b[39;00m CustomException(\u001b[38;5;124m'\u001b[39m\u001b[38;5;124mThis is a custom exception\u001b[39m\u001b[38;5;124m'\u001b[39m)\n",
      "\u001b[0;31mCustomException\u001b[0m: This is a custom exception"
     ]
    }
   ],
   "source": [
    "a = 10\n",
    "if a % 10 == 0:\n",
    "    raise CustomException('This is a custom exception')"
   ]
  },
  {
   "cell_type": "markdown",
   "id": "2891be02-0302-4d2a-ab82-76d05eb718e8",
   "metadata": {},
   "source": [
    "**Q2. Write a python program to print Python Exception Hierarchy.**"
   ]
  },
  {
   "cell_type": "code",
   "execution_count": 13,
   "id": "a4d491e2-b56e-4c48-bcfc-78325684ee96",
   "metadata": {},
   "outputs": [
    {
     "name": "stdout",
     "output_type": "stream",
     "text": [
      " BaseException\n",
      "- Exception\n",
      "-- TypeError\n",
      "--- FloatOperation\n",
      "--- MultipartConversionError\n",
      "-- StopAsyncIteration\n",
      "-- StopIteration\n",
      "-- ImportError\n",
      "--- ModuleNotFoundError\n",
      "--- ZipImportError\n",
      "-- OSError\n",
      "--- ConnectionError\n",
      "---- BrokenPipeError\n",
      "---- ConnectionAbortedError\n",
      "---- ConnectionRefusedError\n",
      "---- ConnectionResetError\n",
      "----- RemoteDisconnected\n",
      "--- BlockingIOError\n",
      "--- ChildProcessError\n",
      "--- FileExistsError\n",
      "--- FileNotFoundError\n",
      "--- IsADirectoryError\n",
      "--- NotADirectoryError\n",
      "--- InterruptedError\n",
      "---- InterruptedSystemCall\n",
      "--- PermissionError\n",
      "--- ProcessLookupError\n",
      "--- TimeoutError\n",
      "--- UnsupportedOperation\n",
      "--- itimer_error\n",
      "--- herror\n",
      "--- gaierror\n",
      "--- SSLError\n",
      "---- SSLCertVerificationError\n",
      "---- SSLZeroReturnError\n",
      "---- SSLWantWriteError\n",
      "---- SSLWantReadError\n",
      "---- SSLSyscallError\n",
      "---- SSLEOFError\n",
      "--- Error\n",
      "---- SameFileError\n",
      "--- SpecialFileError\n",
      "--- ExecError\n",
      "--- ReadError\n",
      "--- URLError\n",
      "---- HTTPError\n",
      "---- ContentTooShortError\n",
      "--- BadGzipFile\n",
      "-- EOFError\n",
      "--- IncompleteReadError\n",
      "-- RuntimeError\n",
      "--- RecursionError\n",
      "--- NotImplementedError\n",
      "---- ZMQVersionError\n",
      "---- StdinNotImplementedError\n",
      "--- _DeadlockError\n",
      "--- BrokenBarrierError\n",
      "--- BrokenExecutor\n",
      "---- BrokenThreadPool\n",
      "--- SendfileNotAvailableError\n",
      "--- ExtractionError\n",
      "--- VariableError\n",
      "-- NameError\n",
      "--- UnboundLocalError\n",
      "-- AttributeError\n",
      "--- FrozenInstanceError\n",
      "-- SyntaxError\n",
      "--- IndentationError\n",
      "---- TabError\n",
      "-- LookupError\n",
      "--- IndexError\n",
      "--- KeyError\n",
      "---- NoSuchKernel\n",
      "---- UnknownBackend\n",
      "--- CodecRegistryError\n",
      "-- ValueError\n",
      "--- UnicodeError\n",
      "---- UnicodeEncodeError\n",
      "---- UnicodeDecodeError\n",
      "---- UnicodeTranslateError\n",
      "--- UnsupportedOperation\n",
      "--- JSONDecodeError\n",
      "--- SSLCertVerificationError\n",
      "--- Error\n",
      "--- UnsupportedDigestmodError\n",
      "--- IllegalMonthError\n",
      "--- IllegalWeekdayError\n",
      "--- ParserError\n",
      "--- ClassNotFound\n",
      "--- ClipboardEmpty\n",
      "--- MessageDefect\n",
      "---- NoBoundaryInMultipartDefect\n",
      "---- StartBoundaryNotFoundDefect\n",
      "---- CloseBoundaryNotFoundDefect\n",
      "---- FirstHeaderLineIsContinuationDefect\n",
      "---- MisplacedEnvelopeHeaderDefect\n",
      "---- MissingHeaderBodySeparatorDefect\n",
      "---- MultipartInvariantViolationDefect\n",
      "---- InvalidMultipartContentTransferEncodingDefect\n",
      "---- UndecodableBytesDefect\n",
      "---- InvalidBase64PaddingDefect\n",
      "---- InvalidBase64CharactersDefect\n",
      "---- InvalidBase64LengthDefect\n",
      "---- HeaderDefect\n",
      "----- InvalidHeaderDefect\n",
      "----- HeaderMissingRequiredValue\n",
      "----- NonPrintableDefect\n",
      "----- ObsoleteHeaderDefect\n",
      "----- NonASCIILocalPartDefect\n",
      "----- InvalidDateDefect\n",
      "--- MacroToEdit\n",
      "--- InvalidFileException\n",
      "--- UnequalIterablesError\n",
      "--- InvalidVersion\n",
      "--- _InvalidELFFileHeader\n",
      "--- InvalidWheelFilename\n",
      "--- InvalidSdistFilename\n",
      "--- InvalidSpecifier\n",
      "--- InvalidMarker\n",
      "--- UndefinedComparison\n",
      "--- UndefinedEnvironmentName\n",
      "--- InvalidRequirement\n",
      "---- RequirementParseError\n",
      "--- InvalidVersion\n",
      "-- AssertionError\n",
      "-- ArithmeticError\n",
      "--- FloatingPointError\n",
      "--- OverflowError\n",
      "--- ZeroDivisionError\n",
      "---- DivisionByZero\n",
      "---- DivisionUndefined\n",
      "--- DecimalException\n",
      "---- Clamped\n",
      "---- Rounded\n",
      "----- Underflow\n",
      "----- Overflow\n",
      "---- Inexact\n",
      "----- Underflow\n",
      "----- Overflow\n",
      "---- Subnormal\n",
      "----- Underflow\n",
      "---- DivisionByZero\n",
      "---- FloatOperation\n",
      "---- InvalidOperation\n",
      "----- ConversionSyntax\n",
      "----- DivisionImpossible\n",
      "----- DivisionUndefined\n",
      "----- InvalidContext\n",
      "-- SystemError\n",
      "--- CodecRegistryError\n",
      "-- ReferenceError\n",
      "-- MemoryError\n",
      "-- BufferError\n",
      "-- Warning\n",
      "--- UserWarning\n",
      "---- GetPassWarning\n",
      "---- FormatterWarning\n",
      "--- EncodingWarning\n",
      "--- DeprecationWarning\n",
      "---- ProvisionalWarning\n",
      "--- PendingDeprecationWarning\n",
      "--- SyntaxWarning\n",
      "--- RuntimeWarning\n",
      "---- ProactorSelectorThreadWarning\n",
      "---- UnknownTimezoneWarning\n",
      "---- PEP440Warning\n",
      "--- FutureWarning\n",
      "---- ProvisionalCompleterWarning\n",
      "--- ImportWarning\n",
      "--- UnicodeWarning\n",
      "--- BytesWarning\n",
      "--- ResourceWarning\n",
      "--- DeprecatedTzFormatWarning\n",
      "--- PkgResourcesDeprecationWarning\n",
      "-- _OptionError\n",
      "-- _Error\n",
      "-- error\n",
      "-- Verbose\n",
      "-- Error\n",
      "-- SubprocessError\n",
      "--- CalledProcessError\n",
      "--- TimeoutExpired\n",
      "-- TokenError\n",
      "-- StopTokenizing\n",
      "-- ClassFoundException\n",
      "-- EndOfBlock\n",
      "-- TraitError\n",
      "-- Error\n",
      "-- Error\n",
      "--- CancelledError\n",
      "--- TimeoutError\n",
      "--- InvalidStateError\n",
      "-- _GiveupOnSendfile\n",
      "-- error\n",
      "-- Incomplete\n",
      "-- TimeoutError\n",
      "-- InvalidStateError\n",
      "-- LimitOverrunError\n",
      "-- QueueEmpty\n",
      "-- QueueFull\n",
      "-- Empty\n",
      "-- Full\n",
      "-- ArgumentError\n",
      "-- ZMQBaseError\n",
      "--- ZMQError\n",
      "---- ContextTerminated\n",
      "---- Again\n",
      "---- InterruptedSystemCall\n",
      "--- ZMQBindError\n",
      "--- NotDone\n",
      "-- PickleError\n",
      "--- PicklingError\n",
      "--- UnpicklingError\n",
      "-- _Stop\n",
      "-- ArgumentError\n",
      "-- ArgumentTypeError\n",
      "-- ConfigError\n",
      "--- ConfigLoaderError\n",
      "---- ArgumentError\n",
      "--- ConfigFileNotFound\n",
      "-- ConfigurableError\n",
      "--- MultipleInstanceError\n",
      "-- ApplicationError\n",
      "-- error\n",
      "-- TimeoutError\n",
      "-- error\n",
      "-- ReturnValueIgnoredError\n",
      "-- KeyReuseError\n",
      "-- UnknownKeyError\n",
      "-- LeakedCallbackError\n",
      "-- BadYieldError\n",
      "-- ReturnValueIgnoredError\n",
      "-- Return\n",
      "-- InvalidPortNumber\n",
      "-- error\n",
      "-- LZMAError\n",
      "-- RegistryError\n",
      "-- _GiveupOnFastCopy\n",
      "-- Error\n",
      "--- NoSectionError\n",
      "--- DuplicateSectionError\n",
      "--- DuplicateOptionError\n",
      "--- NoOptionError\n",
      "--- InterpolationError\n",
      "---- InterpolationMissingOptionError\n",
      "---- InterpolationSyntaxError\n",
      "---- InterpolationDepthError\n",
      "--- ParsingError\n",
      "---- MissingSectionHeaderError\n",
      "-- NoIPAddresses\n",
      "-- BadZipFile\n",
      "-- LargeZipFile\n",
      "-- BadEntryPoint\n",
      "-- NoSuchEntryPoint\n",
      "-- DuplicateKernelError\n",
      "-- ErrorDuringImport\n",
      "-- NotOneValueFound\n",
      "-- CannotEval\n",
      "-- OptionError\n",
      "-- BdbQuit\n",
      "-- Restart\n",
      "-- ExceptionPexpect\n",
      "--- EOF\n",
      "--- TIMEOUT\n",
      "-- PtyProcessError\n",
      "-- FindCmdError\n",
      "-- HomeDirError\n",
      "-- ProfileDirError\n",
      "-- IPythonCoreError\n",
      "--- TryNext\n",
      "--- UsageError\n",
      "--- StdinNotImplementedError\n",
      "-- InputRejected\n",
      "-- GetoptError\n",
      "-- ErrorToken\n",
      "-- PrefilterError\n",
      "-- AliasError\n",
      "--- InvalidAliasError\n",
      "-- Error\n",
      "--- InterfaceError\n",
      "--- DatabaseError\n",
      "---- InternalError\n",
      "---- OperationalError\n",
      "---- ProgrammingError\n",
      "---- IntegrityError\n",
      "---- DataError\n",
      "---- NotSupportedError\n",
      "-- Warning\n",
      "-- SpaceInInput\n",
      "-- DOMException\n",
      "--- IndexSizeErr\n",
      "--- DomstringSizeErr\n",
      "--- HierarchyRequestErr\n",
      "--- WrongDocumentErr\n",
      "--- InvalidCharacterErr\n",
      "--- NoDataAllowedErr\n",
      "--- NoModificationAllowedErr\n",
      "--- NotFoundErr\n",
      "--- NotSupportedErr\n",
      "--- InuseAttributeErr\n",
      "--- InvalidStateErr\n",
      "--- SyntaxErr\n",
      "--- InvalidModificationErr\n",
      "--- NamespaceErr\n",
      "--- InvalidAccessErr\n",
      "--- ValidationErr\n",
      "-- ValidationError\n",
      "-- EditReadOnlyBuffer\n",
      "-- _Retry\n",
      "-- InvalidLayoutError\n",
      "-- HeightIsUnknownError\n",
      "-- ParserSyntaxError\n",
      "-- InternalParseError\n",
      "-- _PositionUpdatingFinished\n",
      "-- SimpleGetItemNotFound\n",
      "-- UncaughtAttributeError\n",
      "-- HasNoContext\n",
      "-- ParamIssue\n",
      "-- _JediError\n",
      "--- InternalError\n",
      "--- WrongVersion\n",
      "--- RefactoringError\n",
      "-- OnErrorLeaf\n",
      "-- InvalidPythonEnvironment\n",
      "-- MessageError\n",
      "--- MessageParseError\n",
      "---- HeaderParseError\n",
      "---- BoundaryError\n",
      "--- MultipartConversionError\n",
      "--- CharsetError\n",
      "-- Error\n",
      "-- HTTPException\n",
      "--- NotConnected\n",
      "--- InvalidURL\n",
      "--- UnknownProtocol\n",
      "--- UnknownTransferEncoding\n",
      "--- UnimplementedFileMode\n",
      "--- IncompleteRead\n",
      "--- ImproperConnectionState\n",
      "---- CannotSendRequest\n",
      "---- CannotSendHeader\n",
      "---- ResponseNotReady\n",
      "--- BadStatusLine\n",
      "---- RemoteDisconnected\n",
      "--- LineTooLong\n",
      "-- InteractivelyDefined\n",
      "-- KillEmbedded\n",
      "-- Error\n",
      "--- NoSuchProcess\n",
      "---- ZombieProcess\n",
      "--- AccessDenied\n",
      "--- TimeoutExpired\n",
      "-- _Ipv6UnsupportedError\n",
      "-- QueueEmpty\n",
      "-- QueueFull\n",
      "-- DebuggerInitializationError\n",
      "-- ExpatError\n",
      "-- Error\n",
      "--- ProtocolError\n",
      "--- ResponseError\n",
      "--- Fault\n",
      "-- ParseBaseException\n",
      "--- ParseException\n",
      "--- ParseFatalException\n",
      "---- ParseSyntaxException\n",
      "-- RecursiveGrammarException\n",
      "-- ResolutionError\n",
      "--- VersionConflict\n",
      "---- ContextualVersionConflict\n",
      "--- DistributionNotFound\n",
      "--- UnknownExtra\n",
      "-- _Error\n",
      "-- UnableToResolveVariableException\n",
      "-- InvalidTypeInArgsException\n",
      "-- CustomException\n",
      "- GeneratorExit\n",
      "- SystemExit\n",
      "- KeyboardInterrupt\n",
      "- CancelledError\n",
      "- AbortThread\n"
     ]
    }
   ],
   "source": [
    "def classtree(c , d = 0):\n",
    "    print('-'*d ,c.__name__)\n",
    "    for i in c.__subclasses__():\n",
    "        classtree(i , d+1)\n",
    "classtree(BaseException)"
   ]
  },
  {
   "cell_type": "markdown",
   "id": "cb9754c5-e159-4c02-9fe7-26f0dab4ace6",
   "metadata": {},
   "source": [
    "**Q3. What errors are defined in the ArithmeticError class? Explain any two with an example.**"
   ]
  },
  {
   "cell_type": "code",
   "execution_count": 15,
   "id": "3c10b591-cb7f-4f76-ada1-aea87da5b8c1",
   "metadata": {},
   "outputs": [
    {
     "name": "stdout",
     "output_type": "stream",
     "text": [
      "FloatingPointError\n",
      "OverflowError\n",
      "ZeroDivisionError\n",
      "DecimalException\n"
     ]
    }
   ],
   "source": [
    "for i in ArithmeticError.__subclasses__():\n",
    "    print(i.__name__)"
   ]
  },
  {
   "cell_type": "markdown",
   "id": "5e827db6-2d2c-4170-8be7-a30968852ed2",
   "metadata": {},
   "source": [
    "OverflowError occurs when result of a arthmetic operation is stored in a variable and the value stored is more than the limit of data types like float, int etc."
   ]
  },
  {
   "cell_type": "code",
   "execution_count": 43,
   "id": "9a05e3a4-e6a8-489d-824d-ed9eb5ff9014",
   "metadata": {},
   "outputs": [
    {
     "ename": "OverflowError",
     "evalue": "(34, 'Numerical result out of range')",
     "output_type": "error",
     "traceback": [
      "\u001b[0;31m---------------------------------------------------------------------------\u001b[0m",
      "\u001b[0;31mOverflowError\u001b[0m                             Traceback (most recent call last)",
      "Cell \u001b[0;32mIn[43], line 2\u001b[0m\n\u001b[1;32m      1\u001b[0m \u001b[38;5;28;01mimport\u001b[39;00m \u001b[38;5;21;01mmath\u001b[39;00m\n\u001b[0;32m----> 2\u001b[0m a \u001b[38;5;241m=\u001b[39m \u001b[38;5;241;43m2.0\u001b[39;49m\u001b[43m \u001b[49m\u001b[38;5;241;43m*\u001b[39;49m\u001b[38;5;241;43m*\u001b[39;49m\u001b[43m \u001b[49m\u001b[38;5;241;43m100000\u001b[39;49m\n\u001b[1;32m      3\u001b[0m \u001b[38;5;28mprint\u001b[39m(a)\n",
      "\u001b[0;31mOverflowError\u001b[0m: (34, 'Numerical result out of range')"
     ]
    }
   ],
   "source": [
    "import math\n",
    "a = 2.0 ** 100000\n",
    "print(a)"
   ]
  },
  {
   "cell_type": "markdown",
   "id": "3b3bfe22-482c-419a-af87-bb24d9cfd788",
   "metadata": {},
   "source": [
    "ZeroDivisionError occurs when a number is divided by zero"
   ]
  },
  {
   "cell_type": "code",
   "execution_count": 44,
   "id": "20863b88-f5a0-4b46-bca5-c4ccf5ed76cd",
   "metadata": {},
   "outputs": [
    {
     "ename": "ZeroDivisionError",
     "evalue": "division by zero",
     "output_type": "error",
     "traceback": [
      "\u001b[0;31m---------------------------------------------------------------------------\u001b[0m",
      "\u001b[0;31mZeroDivisionError\u001b[0m                         Traceback (most recent call last)",
      "Cell \u001b[0;32mIn[44], line 1\u001b[0m\n\u001b[0;32m----> 1\u001b[0m \u001b[38;5;241;43m10\u001b[39;49m\u001b[38;5;241;43m/\u001b[39;49m\u001b[38;5;241;43m0\u001b[39;49m\n",
      "\u001b[0;31mZeroDivisionError\u001b[0m: division by zero"
     ]
    }
   ],
   "source": [
    "10/0"
   ]
  },
  {
   "cell_type": "markdown",
   "id": "59ffe0b6-4735-4bcf-9e22-636e3dec54bc",
   "metadata": {},
   "source": [
    "**Q4. Why LookupError class is used? Explain with an example KeyError and IndexError.**"
   ]
  },
  {
   "cell_type": "markdown",
   "id": "46f1cda8-d10b-4318-9223-85044dce691c",
   "metadata": {},
   "source": [
    "LookupError exception is raised when a value being looked up does not exist in a sequence or mapping."
   ]
  },
  {
   "cell_type": "code",
   "execution_count": 45,
   "id": "bf32167d-c669-4429-bc99-183e8c12c014",
   "metadata": {},
   "outputs": [
    {
     "name": "stdout",
     "output_type": "stream",
     "text": [
      "IndexError\n",
      "KeyError\n",
      "CodecRegistryError\n"
     ]
    }
   ],
   "source": [
    "for i in LookupError.__subclasses__():\n",
    "    print(i.__name__)"
   ]
  },
  {
   "cell_type": "markdown",
   "id": "52663d9f-c87d-4de7-ae47-e53bbe423677",
   "metadata": {},
   "source": [
    "KeyError exception is raised when we try to access a dictionary with a nonexistent key."
   ]
  },
  {
   "cell_type": "code",
   "execution_count": 48,
   "id": "9b15b9e0-1def-4955-b3df-cedf43c3c4e6",
   "metadata": {},
   "outputs": [
    {
     "ename": "KeyError",
     "evalue": "10",
     "output_type": "error",
     "traceback": [
      "\u001b[0;31m---------------------------------------------------------------------------\u001b[0m",
      "\u001b[0;31mKeyError\u001b[0m                                  Traceback (most recent call last)",
      "Cell \u001b[0;32mIn[48], line 2\u001b[0m\n\u001b[1;32m      1\u001b[0m d \u001b[38;5;241m=\u001b[39m {\u001b[38;5;241m1\u001b[39m : \u001b[38;5;124m'\u001b[39m\u001b[38;5;124ma\u001b[39m\u001b[38;5;124m'\u001b[39m , \u001b[38;5;241m2\u001b[39m : \u001b[38;5;124m'\u001b[39m\u001b[38;5;124mb\u001b[39m\u001b[38;5;124m'\u001b[39m , \u001b[38;5;241m3\u001b[39m : \u001b[38;5;124m'\u001b[39m\u001b[38;5;124mc\u001b[39m\u001b[38;5;124m'\u001b[39m}\n\u001b[0;32m----> 2\u001b[0m \u001b[43md\u001b[49m\u001b[43m[\u001b[49m\u001b[38;5;241;43m10\u001b[39;49m\u001b[43m]\u001b[49m\n",
      "\u001b[0;31mKeyError\u001b[0m: 10"
     ]
    }
   ],
   "source": [
    "d = {1 : 'a' , 2 : 'b' , 3 : 'c'}\n",
    "d[10]"
   ]
  },
  {
   "cell_type": "markdown",
   "id": "f0517402-c947-4f70-8218-517f29298a73",
   "metadata": {},
   "source": [
    "IndexError is raised when we access elements in a squence which are out of its range of defined index."
   ]
  },
  {
   "cell_type": "code",
   "execution_count": 47,
   "id": "186e6d12-4239-41cc-8187-716fa272c264",
   "metadata": {},
   "outputs": [
    {
     "ename": "IndexError",
     "evalue": "list index out of range",
     "output_type": "error",
     "traceback": [
      "\u001b[0;31m---------------------------------------------------------------------------\u001b[0m",
      "\u001b[0;31mIndexError\u001b[0m                                Traceback (most recent call last)",
      "Cell \u001b[0;32mIn[47], line 2\u001b[0m\n\u001b[1;32m      1\u001b[0m a \u001b[38;5;241m=\u001b[39m [\u001b[38;5;241m1\u001b[39m,\u001b[38;5;241m2\u001b[39m,\u001b[38;5;241m3\u001b[39m,\u001b[38;5;241m4\u001b[39m]\n\u001b[0;32m----> 2\u001b[0m \u001b[43ma\u001b[49m\u001b[43m[\u001b[49m\u001b[38;5;241;43m10\u001b[39;49m\u001b[43m]\u001b[49m\n",
      "\u001b[0;31mIndexError\u001b[0m: list index out of range"
     ]
    }
   ],
   "source": [
    "a = [1,2,3,4]\n",
    "a[10]"
   ]
  },
  {
   "cell_type": "markdown",
   "id": "30410867-6896-431a-ad97-9766e71182c1",
   "metadata": {},
   "source": [
    "**Q5. Explain ImportError. What is ModuleNotFoundError?**"
   ]
  },
  {
   "cell_type": "markdown",
   "id": "c441012b-ef79-49bb-85cf-e3d17e71a93b",
   "metadata": {},
   "source": [
    "ImportError occurs when imported module cannot be found in a given directory or path"
   ]
  },
  {
   "cell_type": "code",
   "execution_count": 6,
   "id": "671c6f51-3747-4f0e-9f68-293495283536",
   "metadata": {},
   "outputs": [
    {
     "ename": "ImportError",
     "evalue": "cannot import name 'pwd' from 'crypt' (/opt/conda/lib/python3.10/crypt.py)",
     "output_type": "error",
     "traceback": [
      "\u001b[0;31m---------------------------------------------------------------------------\u001b[0m",
      "\u001b[0;31mImportError\u001b[0m                               Traceback (most recent call last)",
      "Cell \u001b[0;32mIn[6], line 1\u001b[0m\n\u001b[0;32m----> 1\u001b[0m \u001b[38;5;28;01mfrom\u001b[39;00m \u001b[38;5;21;01mcrypt\u001b[39;00m \u001b[38;5;28;01mimport\u001b[39;00m pwd\n",
      "\u001b[0;31mImportError\u001b[0m: cannot import name 'pwd' from 'crypt' (/opt/conda/lib/python3.10/crypt.py)"
     ]
    }
   ],
   "source": [
    "from crypt import pwd"
   ]
  },
  {
   "cell_type": "markdown",
   "id": "361b2da2-173e-4d0c-a76a-773d01dde5b2",
   "metadata": {},
   "source": [
    "ModuleNotFoundError when module is not found."
   ]
  },
  {
   "cell_type": "code",
   "execution_count": 56,
   "id": "14f636ea-8a0d-487f-8d47-a6ec1f5a278b",
   "metadata": {},
   "outputs": [
    {
     "ename": "ModuleNotFoundError",
     "evalue": "No module named 'm'",
     "output_type": "error",
     "traceback": [
      "\u001b[0;31m---------------------------------------------------------------------------\u001b[0m",
      "\u001b[0;31mModuleNotFoundError\u001b[0m                       Traceback (most recent call last)",
      "Cell \u001b[0;32mIn[56], line 1\u001b[0m\n\u001b[0;32m----> 1\u001b[0m \u001b[38;5;28;01mimport\u001b[39;00m \u001b[38;5;21;01mm\u001b[39;00m\n",
      "\u001b[0;31mModuleNotFoundError\u001b[0m: No module named 'm'"
     ]
    }
   ],
   "source": [
    "import m"
   ]
  },
  {
   "cell_type": "markdown",
   "id": "8dd8dcf7-8bbd-4a78-922b-d905785b5982",
   "metadata": {},
   "source": [
    "**Q6. List down some best practices for exception handling in python.**"
   ]
  },
  {
   "cell_type": "markdown",
   "id": "60db68e6-3d34-44ae-9092-b84072e8f70d",
   "metadata": {},
   "source": [
    "Some best practice for exception handling are\n",
    "* Always try to use specific exception than Exception superclass\n",
    "* Always give a proper message\n",
    "* Alwyas try to log yhe error\n",
    "* Always try to avoid multiple exception blocks\n",
    "* Always document all the errors occured during production\n",
    "* Always cleanup all the resources"
   ]
  }
 ],
 "metadata": {
  "kernelspec": {
   "display_name": "Python 3 (ipykernel)",
   "language": "python",
   "name": "python3"
  },
  "language_info": {
   "codemirror_mode": {
    "name": "ipython",
    "version": 3
   },
   "file_extension": ".py",
   "mimetype": "text/x-python",
   "name": "python",
   "nbconvert_exporter": "python",
   "pygments_lexer": "ipython3",
   "version": "3.10.8"
  }
 },
 "nbformat": 4,
 "nbformat_minor": 5
}
