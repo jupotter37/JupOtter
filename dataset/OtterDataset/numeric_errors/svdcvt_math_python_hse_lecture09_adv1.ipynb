{
 "cells": [
  {
   "cell_type": "markdown",
   "metadata": {
    "slideshow": {
     "slide_type": "slide"
    }
   },
   "source": [
    "#  09. Продвинутые темы 1. <br> Исключения. Тестирование, логирование. <br> Файлы. Модульное оформление. Argparse.  \n",
    "\n",
    "---"
   ]
  },
  {
   "cell_type": "markdown",
   "metadata": {
    "slideshow": {
     "slide_type": "slide"
    }
   },
   "source": [
    "##  Исключения   [DOCS](https://docs.python.org/3/library/exceptions.html)\n",
    "\n",
    "Давайте разберем важный тип объектов в Питоне, без которого крупная (да и не очень) программа не обойдется. \n",
    "\n",
    "Что такое исключения (т.е. исключительные ситуации) или exceptions? Например, к чему приведет попытка чтения несуществующего файла? Или если файл был случайно удален пока программа работала? Когда в программе происходит какая-либо ошибка, будь это просто пропущенная запятая/скобка, деление на ноль или неверные аргументы функции, вызывается **исключение**, которое останавливает ход программы (обычно) и печатает в вывод ошибок ([stderr](https://docs.python.org/3/library/sys.html#sys.stderr)) описание возникшей проблемы. \n",
    "То есть исключения просто сообщают программисту об ошибках, после чего он может либо исправить баг (bug), либо обработать исключение верным образом. \n",
    "\n",
    "Например:"
   ]
  },
  {
   "cell_type": "code",
   "execution_count": 7,
   "metadata": {
    "slideshow": {
     "slide_type": "subslide"
    }
   },
   "outputs": [
    {
     "ename": "SyntaxError",
     "evalue": "invalid syntax (<ipython-input-7-791f33c93b8d>, line 1)",
     "output_type": "error",
     "traceback": [
      "\u001b[0;36m  File \u001b[0;32m\"<ipython-input-7-791f33c93b8d>\"\u001b[0;36m, line \u001b[0;32m1\u001b[0m\n\u001b[0;31m    print(2 1)\u001b[0m\n\u001b[0m            ^\u001b[0m\n\u001b[0;31mSyntaxError\u001b[0m\u001b[0;31m:\u001b[0m invalid syntax\n"
     ]
    }
   ],
   "source": [
    "print(2 1)"
   ]
  },
  {
   "cell_type": "code",
   "execution_count": 113,
   "metadata": {
    "slideshow": {
     "slide_type": "subslide"
    }
   },
   "outputs": [
    {
     "ename": "ZeroDivisionError",
     "evalue": "division by zero",
     "output_type": "error",
     "traceback": [
      "\u001b[0;31m---------------------------------------------------------------------------\u001b[0m",
      "\u001b[0;31mZeroDivisionError\u001b[0m                         Traceback (most recent call last)",
      "\u001b[0;32m<ipython-input-113-580a5669e7f6>\u001b[0m in \u001b[0;36m<module>\u001b[0;34m\u001b[0m\n\u001b[0;32m----> 1\u001b[0;31m \u001b[0;36m0\u001b[0m \u001b[0;34m/\u001b[0m \u001b[0;36m0\u001b[0m\u001b[0;34m\u001b[0m\u001b[0;34m\u001b[0m\u001b[0m\n\u001b[0m",
      "\u001b[0;31mZeroDivisionError\u001b[0m: division by zero"
     ]
    }
   ],
   "source": [
    "0 / 0"
   ]
  },
  {
   "cell_type": "markdown",
   "metadata": {
    "slideshow": {
     "slide_type": "subslide"
    }
   },
   "source": [
    "Исключения имеют несколько классов, часть из них приведена ниже (подробное описание можно почитать в [документации](https://docs.python.org/3/library/exceptions.html#concrete-exceptions) или [тут](https://pythonworld.ru/tipy-dannyx-v-python/isklyucheniya-v-python-konstrukciya-try-except-dlya-obrabotki-isklyuchenij.html)), некоторые вы могли уже не раз встретить.\n",
    "\n",
    "```\n",
    "BaseException\n",
    " +-- SystemExit\n",
    " +-- KeyboardInterrupt\n",
    " +-- Exception\n",
    "      +-- StopIteration\n",
    "      +-- ArithmeticError\n",
    "      |    +-- FloatingPointError\n",
    "      |    +-- OverflowError\n",
    "      |    +-- ZeroDivisionError\n",
    "```"
   ]
  },
  {
   "cell_type": "markdown",
   "metadata": {
    "slideshow": {
     "slide_type": "subslide"
    }
   },
   "source": [
    "```\n",
    "      +-- AssertionError\n",
    "      +-- AttributeError\n",
    "      +-- EOFError\n",
    "      +-- ImportError\n",
    "      |    +-- ModuleNotFoundError\n",
    "      +-- LookupError\n",
    "      |    +-- IndexError\n",
    "      |    +-- KeyError\n",
    "```"
   ]
  },
  {
   "cell_type": "markdown",
   "metadata": {
    "slideshow": {
     "slide_type": "subslide"
    }
   },
   "source": [
    "```\n",
    "      +-- MemoryError\n",
    "      +-- NameError\n",
    "      |    +-- UnboundLocalError\n",
    "      +-- RuntimeError\n",
    "      |    +-- NotImplementedError\n",
    "      |    +-- RecursionError\n",
    "```"
   ]
  },
  {
   "cell_type": "markdown",
   "metadata": {
    "slideshow": {
     "slide_type": "subslide"
    }
   },
   "source": [
    "```\n",
    "      +-- SyntaxError\n",
    "      |    +-- IndentationError\n",
    "      |         +-- TabError\n",
    "      +-- SystemError\n",
    "      +-- TypeError\n",
    "      +-- ValueError\n",
    "      +-- Warning\n",
    "```"
   ]
  },
  {
   "cell_type": "code",
   "execution_count": 54,
   "metadata": {
    "slideshow": {
     "slide_type": "skip"
    }
   },
   "outputs": [],
   "source": [
    "import sys\n",
    "import os\n",
    "import math"
   ]
  },
  {
   "cell_type": "markdown",
   "metadata": {
    "slideshow": {
     "slide_type": "subslide"
    }
   },
   "source": [
    "**Traceback** (трейс) - подсказки и имя ошибки, которые дают нам полную информацию о том, где порождено исключение (указывает номер строки и иногда место в строке), и с чем оно связано (после имени ошибки обычно идет более подробное описание, что не так). \n",
    "\n",
    "Далее попробуйте раскомментировать по очереди каждый из примеров (удобнее это делать с помощью одновременного нажатия Ctrl и /)."
   ]
  },
  {
   "cell_type": "code",
   "execution_count": 59,
   "metadata": {
    "slideshow": {
     "slide_type": "fragment"
    }
   },
   "outputs": [
    {
     "ename": "AssertionError",
     "evalue": "",
     "output_type": "error",
     "traceback": [
      "\u001b[0;31m---------------------------------------------------------------------------\u001b[0m",
      "\u001b[0;31mAssertionError\u001b[0m                            Traceback (most recent call last)",
      "\u001b[0;32m<ipython-input-59-ce204d60f23c>\u001b[0m in \u001b[0;36m<module>\u001b[0;34m\u001b[0m\n\u001b[1;32m      6\u001b[0m \u001b[0;31m# 7 / 0\u001b[0m\u001b[0;34m\u001b[0m\u001b[0;34m\u001b[0m\u001b[0;34m\u001b[0m\u001b[0m\n\u001b[1;32m      7\u001b[0m \u001b[0;31m#---------------------\u001b[0m\u001b[0;34m\u001b[0m\u001b[0;34m\u001b[0m\u001b[0;34m\u001b[0m\u001b[0m\n\u001b[0;32m----> 8\u001b[0;31m \u001b[0;32massert\u001b[0m \u001b[0;36m10\u001b[0m \u001b[0;34m!=\u001b[0m \u001b[0;36m10\u001b[0m\u001b[0;34m\u001b[0m\u001b[0;34m\u001b[0m\u001b[0m\n\u001b[0m\u001b[1;32m      9\u001b[0m \u001b[0;31m#---------------------\u001b[0m\u001b[0;34m\u001b[0m\u001b[0;34m\u001b[0m\u001b[0;34m\u001b[0m\u001b[0m\n",
      "\u001b[0;31mAssertionError\u001b[0m: "
     ]
    }
   ],
   "source": [
    "#---------------------\n",
    "# sys.exit()\n",
    "#---------------------\n",
    "# print(math.exp(709.7828))\n",
    "#---------------------\n",
    "# 7 / 0\n",
    "#---------------------\n",
    "assert 10 != 10\n",
    "#--------------------- "
   ]
  },
  {
   "cell_type": "code",
   "execution_count": 64,
   "metadata": {
    "slideshow": {
     "slide_type": "subslide"
    }
   },
   "outputs": [],
   "source": [
    "#---------------------\n",
    "# math.func()\n",
    "#---------------------\n",
    "# import module\n",
    "#---------------------\n",
    "# a = [1]; a[1]\n",
    "#---------------------\n",
    "# d = {}; d['key']\n",
    "#---------------------"
   ]
  },
  {
   "cell_type": "code",
   "execution_count": 68,
   "metadata": {
    "slideshow": {
     "slide_type": "subslide"
    }
   },
   "outputs": [],
   "source": [
    "#---------------------\n",
    "# b\n",
    "#---------------------\n",
    "# def f(): c += 1 \n",
    "# f()\n",
    "#---------------------\n",
    "# def f(): return f()\n",
    "# f()\n",
    "#---------------------"
   ]
  },
  {
   "cell_type": "code",
   "execution_count": 91,
   "metadata": {
    "slideshow": {
     "slide_type": "subslide"
    }
   },
   "outputs": [
    {
     "name": "stdout",
     "output_type": "stream",
     "text": [
      "1\n"
     ]
    },
    {
     "ename": "SystemExit",
     "evalue": "",
     "output_type": "error",
     "traceback": [
      "An exception has occurred, use %tb to see the full traceback.\n",
      "\u001b[0;31mSystemExit\u001b[0m\n"
     ]
    },
    {
     "name": "stderr",
     "output_type": "stream",
     "text": [
      "/home/svdcvt/.local/lib/python3.6/site-packages/IPython/core/interactiveshell.py:3351: UserWarning: To exit: use 'exit', 'quit', or Ctrl-D.\n",
      "  warn(\"To exit: use 'exit', 'quit', or Ctrl-D.\", stacklevel=1)\n"
     ]
    }
   ],
   "source": [
    "#---------------------\n",
    "# print 1\n",
    "#---------------------\n",
    "# abs(1\n",
    "#---------------------\n",
    "# 1a\n",
    "#---------------------\n",
    "#     1\n",
    "#---------------------\n",
    "# def f():\n",
    "# return 1\n",
    "#---------------------\n",
    "# abs('ten')\n",
    "#---------------------\n",
    "# float('ten')\n",
    "#--------------------- \n",
    "os.sys.exit()"
   ]
  },
  {
   "cell_type": "markdown",
   "metadata": {
    "slideshow": {
     "slide_type": "subslide"
    }
   },
   "source": [
    "###  Вызов исключений - `raise`  \n",
    "\n",
    "Возникают ситуации, когда исключения необходимо \"бросать\", \"вызывать\", \"рейзить\", т.е. написать код, который при исполнении будет инициировать исключительную ситуацию.\n",
    "\n",
    "Например, функция, которая решает квадратное уравнение. Вы условились, что корни только вещественные, тогда в случае комплексных корней стоит бросить исключение. Или в вашей функции необходимо проверить в самом начале, что аргументы нужного типа (TypeError, ValueError), и вы хотите указать комментарий к ошибке как мы видели ранее, чтобы пользователь сделал все как надо. Таких примеров очень много и вы понемногу станете с ними сталкиваться."
   ]
  },
  {
   "cell_type": "markdown",
   "metadata": {
    "slideshow": {
     "slide_type": "subslide"
    }
   },
   "source": [
    "Чтобы бросить исключение необходимо воспользоваться командой `raise`:"
   ]
  },
  {
   "cell_type": "code",
   "execution_count": 102,
   "metadata": {
    "slideshow": {
     "slide_type": "fragment"
    }
   },
   "outputs": [
    {
     "name": "stdout",
     "output_type": "stream",
     "text": [
      "-2\n"
     ]
    },
    {
     "ename": "ValueError",
     "evalue": "Введенное значение должно быть неотрицательным!",
     "output_type": "error",
     "traceback": [
      "\u001b[0;31m---------------------------------------------------------------------------\u001b[0m",
      "\u001b[0;31mValueError\u001b[0m                                Traceback (most recent call last)",
      "\u001b[0;32m<ipython-input-102-179f3dc0f017>\u001b[0m in \u001b[0;36m<module>\u001b[0;34m\u001b[0m\n\u001b[1;32m      1\u001b[0m \u001b[0mx\u001b[0m \u001b[0;34m=\u001b[0m \u001b[0mint\u001b[0m\u001b[0;34m(\u001b[0m\u001b[0minput\u001b[0m\u001b[0;34m(\u001b[0m\u001b[0;34m)\u001b[0m\u001b[0;34m)\u001b[0m\u001b[0;34m\u001b[0m\u001b[0;34m\u001b[0m\u001b[0m\n\u001b[1;32m      2\u001b[0m \u001b[0;32mif\u001b[0m \u001b[0mx\u001b[0m \u001b[0;34m<\u001b[0m \u001b[0;36m0\u001b[0m\u001b[0;34m:\u001b[0m\u001b[0;34m\u001b[0m\u001b[0;34m\u001b[0m\u001b[0m\n\u001b[0;32m----> 3\u001b[0;31m     \u001b[0;32mraise\u001b[0m \u001b[0mValueError\u001b[0m\u001b[0;34m(\u001b[0m\u001b[0;34m'Введенное значение должно быть неотрицательным!'\u001b[0m\u001b[0;34m)\u001b[0m\u001b[0;34m\u001b[0m\u001b[0;34m\u001b[0m\u001b[0m\n\u001b[0m",
      "\u001b[0;31mValueError\u001b[0m: Введенное значение должно быть неотрицательным!"
     ]
    }
   ],
   "source": [
    "x = int(input())\n",
    "if x < 0:\n",
    "    raise ValueError('Введенное значение должно быть неотрицательным!')"
   ]
  },
  {
   "cell_type": "markdown",
   "metadata": {
    "slideshow": {
     "slide_type": "subslide"
    }
   },
   "source": [
    "###  Особенная команда `assert`  \n",
    "\n",
    "Эта команда вызывает ошибку `AssertionError`, если справа от `assert` стоит False-утверждение. По сути это еще один способ вызова исключения в более удобной форме, который можно использовать для каких-то простых проверок на True/False. \n",
    "```python\n",
    "    assert логическое_выражение, \"комментарий\"\n",
    "```"
   ]
  },
  {
   "cell_type": "code",
   "execution_count": 107,
   "metadata": {
    "slideshow": {
     "slide_type": "subslide"
    }
   },
   "outputs": [
    {
     "name": "stdout",
     "output_type": "stream",
     "text": [
      "0\n"
     ]
    },
    {
     "ename": "AssertionError",
     "evalue": "Введенное значение должно быть неотрицательным!",
     "output_type": "error",
     "traceback": [
      "\u001b[0;31m---------------------------------------------------------------------------\u001b[0m",
      "\u001b[0;31mAssertionError\u001b[0m                            Traceback (most recent call last)",
      "\u001b[0;32m<ipython-input-107-7c848bed9fdd>\u001b[0m in \u001b[0;36m<module>\u001b[0;34m\u001b[0m\n\u001b[1;32m      1\u001b[0m \u001b[0mx\u001b[0m \u001b[0;34m=\u001b[0m \u001b[0mint\u001b[0m\u001b[0;34m(\u001b[0m\u001b[0minput\u001b[0m\u001b[0;34m(\u001b[0m\u001b[0;34m)\u001b[0m\u001b[0;34m)\u001b[0m\u001b[0;34m\u001b[0m\u001b[0;34m\u001b[0m\u001b[0m\n\u001b[0;32m----> 2\u001b[0;31m \u001b[0;32massert\u001b[0m \u001b[0mx\u001b[0m \u001b[0;34m>\u001b[0m \u001b[0;36m0\u001b[0m\u001b[0;34m,\u001b[0m \u001b[0;34m'Введенное значение должно быть неотрицательным!'\u001b[0m\u001b[0;34m\u001b[0m\u001b[0;34m\u001b[0m\u001b[0m\n\u001b[0m",
      "\u001b[0;31mAssertionError\u001b[0m: Введенное значение должно быть неотрицательным!"
     ]
    }
   ],
   "source": [
    "x = int(input())\n",
    "assert x > 0, 'Введенное значение должно быть неотрицательным!'"
   ]
  },
  {
   "cell_type": "markdown",
   "metadata": {
    "slideshow": {
     "slide_type": "subslide"
    }
   },
   "source": [
    "###  Как ловить ошибку? `try...except`  \n",
    "\n",
    "Хорошо, мы знаем какие ошибки бывают, как их вызывать самим в своем коде, знаем, что они могут возникнуть \"встроенным\" образом (например, если в коде баг). Теперь изучим как нам использовать исключения, чтобы в зависимости от их появления, мы могли подстроить код, чтобы он все равно успешно выполнился (или завершился понятным нам образом)."
   ]
  },
  {
   "cell_type": "markdown",
   "metadata": {
    "slideshow": {
     "slide_type": "subslide"
    }
   },
   "source": [
    "Полная форма конструкции обработки исключения выглядит таким образом:\n",
    "\n",
    "```python\n",
    "    try:\n",
    "        <блок кода, в котором может возникнуть исключение>\n",
    "    except <название исключения> [as e]:\n",
    "        <блок обработки исключения>\n",
    "    else:\n",
    "        <блок кода, исполненный в случае, когда не возникает исключения>\n",
    "    finally:\n",
    "        <блок кода, гарантированно исполненный последним (т.е. всегда исполняется)>\n",
    "```"
   ]
  },
  {
   "cell_type": "markdown",
   "metadata": {
    "slideshow": {
     "slide_type": "subslide"
    }
   },
   "source": [
    "Однако, чаще достаточно конструкции `try...except`. Не просто так эти две команды указаны вместе - они неразделимы! Нельзя написать только `try` или только `except`. Пример:"
   ]
  },
  {
   "cell_type": "code",
   "execution_count": 110,
   "metadata": {
    "slideshow": {
     "slide_type": "subslide"
    }
   },
   "outputs": [
    {
     "name": "stdout",
     "output_type": "stream",
     "text": [
      "error\n"
     ]
    }
   ],
   "source": [
    "try:\n",
    "    assert False, 'error'\n",
    "except:\n",
    "    pass"
   ]
  },
  {
   "cell_type": "code",
   "execution_count": 116,
   "metadata": {
    "slideshow": {
     "slide_type": "subslide"
    }
   },
   "outputs": [
    {
     "ename": "AssertionError",
     "evalue": "error",
     "output_type": "error",
     "traceback": [
      "\u001b[0;31m---------------------------------------------------------------------------\u001b[0m",
      "\u001b[0;31mAssertionError\u001b[0m                            Traceback (most recent call last)",
      "\u001b[0;32m<ipython-input-116-f066b68aa119>\u001b[0m in \u001b[0;36m<module>\u001b[0;34m\u001b[0m\n\u001b[1;32m      1\u001b[0m \u001b[0;32mtry\u001b[0m\u001b[0;34m:\u001b[0m\u001b[0;34m\u001b[0m\u001b[0;34m\u001b[0m\u001b[0m\n\u001b[0;32m----> 2\u001b[0;31m     \u001b[0;32massert\u001b[0m \u001b[0;32mFalse\u001b[0m\u001b[0;34m,\u001b[0m \u001b[0;34m'error'\u001b[0m\u001b[0;34m\u001b[0m\u001b[0;34m\u001b[0m\u001b[0m\n\u001b[0m\u001b[1;32m      3\u001b[0m \u001b[0;32mexcept\u001b[0m \u001b[0;34m(\u001b[0m\u001b[0mValueError\u001b[0m\u001b[0;34m,\u001b[0m \u001b[0mNameError\u001b[0m\u001b[0;34m)\u001b[0m\u001b[0;34m:\u001b[0m \u001b[0;31m# Exception # AssertionError - попробуйте поменять\u001b[0m\u001b[0;34m\u001b[0m\u001b[0;34m\u001b[0m\u001b[0m\n\u001b[1;32m      4\u001b[0m     \u001b[0mprint\u001b[0m\u001b[0;34m(\u001b[0m\u001b[0;36m1\u001b[0m\u001b[0;34m)\u001b[0m\u001b[0;34m\u001b[0m\u001b[0;34m\u001b[0m\u001b[0m\n\u001b[1;32m      5\u001b[0m     \u001b[0;32mpass\u001b[0m\u001b[0;34m\u001b[0m\u001b[0;34m\u001b[0m\u001b[0m\n",
      "\u001b[0;31mAssertionError\u001b[0m: error"
     ]
    }
   ],
   "source": [
    "try:\n",
    "    assert False, 'error'\n",
    "except (ValueError, NameError): # Exception # AssertionError - попробуйте поменять\n",
    "    print(1)\n",
    "    pass\n",
    "\n",
    "print(0)"
   ]
  },
  {
   "cell_type": "code",
   "execution_count": 117,
   "metadata": {
    "slideshow": {
     "slide_type": "subslide"
    }
   },
   "outputs": [
    {
     "name": "stdout",
     "output_type": "stream",
     "text": [
      "Error occured\n"
     ]
    }
   ],
   "source": [
    "try:\n",
    "    assert False, 'error'\n",
    "except Exception:\n",
    "    print('Error occured')"
   ]
  },
  {
   "cell_type": "code",
   "execution_count": 130,
   "metadata": {
    "slideshow": {
     "slide_type": "subslide"
    }
   },
   "outputs": [
    {
     "name": "stdout",
     "output_type": "stream",
     "text": [
      "error\n"
     ]
    }
   ],
   "source": [
    "try:\n",
    "    assert False, 'error'\n",
    "except Exception as err:\n",
    "    print(err)"
   ]
  },
  {
   "cell_type": "code",
   "execution_count": 104,
   "metadata": {
    "slideshow": {
     "slide_type": "subslide"
    }
   },
   "outputs": [
    {
     "name": "stdout",
     "output_type": "stream",
     "text": [
      "Something went wrong... Traceback:\n"
     ]
    },
    {
     "ename": "AssertionError",
     "evalue": "error",
     "output_type": "error",
     "traceback": [
      "\u001b[0;31m---------------------------------------------------------------------------\u001b[0m",
      "\u001b[0;31mAssertionError\u001b[0m                            Traceback (most recent call last)",
      "\u001b[0;32m<ipython-input-104-e5101fbff1ff>\u001b[0m in \u001b[0;36m<module>\u001b[0;34m\u001b[0m\n\u001b[1;32m      1\u001b[0m \u001b[0;32mtry\u001b[0m\u001b[0;34m:\u001b[0m\u001b[0;34m\u001b[0m\u001b[0;34m\u001b[0m\u001b[0m\n\u001b[0;32m----> 2\u001b[0;31m     \u001b[0;32massert\u001b[0m \u001b[0;32mFalse\u001b[0m\u001b[0;34m,\u001b[0m \u001b[0;34m'error'\u001b[0m\u001b[0;34m\u001b[0m\u001b[0;34m\u001b[0m\u001b[0m\n\u001b[0m\u001b[1;32m      3\u001b[0m \u001b[0;32mexcept\u001b[0m\u001b[0;34m:\u001b[0m\u001b[0;34m\u001b[0m\u001b[0;34m\u001b[0m\u001b[0m\n\u001b[1;32m      4\u001b[0m     \u001b[0mprint\u001b[0m\u001b[0;34m(\u001b[0m\u001b[0;34m'Something went wrong... Traceback:'\u001b[0m\u001b[0;34m)\u001b[0m\u001b[0;34m\u001b[0m\u001b[0;34m\u001b[0m\u001b[0m\n\u001b[1;32m      5\u001b[0m     \u001b[0;32mraise\u001b[0m\u001b[0;34m\u001b[0m\u001b[0;34m\u001b[0m\u001b[0m\n",
      "\u001b[0;31mAssertionError\u001b[0m: error"
     ]
    }
   ],
   "source": [
    "try:\n",
    "    assert False, 'error'\n",
    "except:\n",
    "    print('Something went wrong... Traceback:')\n",
    "    raise"
   ]
  },
  {
   "cell_type": "markdown",
   "metadata": {
    "slideshow": {
     "slide_type": "subslide"
    }
   },
   "source": [
    "**Usage case**"
   ]
  },
  {
   "cell_type": "code",
   "execution_count": 133,
   "metadata": {
    "slideshow": {
     "slide_type": "fragment"
    }
   },
   "outputs": [
    {
     "name": "stdout",
     "output_type": "stream",
     "text": [
      "o\n",
      "Неверное введенное значение для перевода в целое число!\n",
      "i\n",
      "Неверное введенное значение для перевода в целое число!\n",
      "p\n",
      "Неверное введенное значение для перевода в целое число!\n",
      "e\n",
      "Неверное введенное значение для перевода в целое число!\n",
      "d\n",
      "Неверное введенное значение для перевода в целое число!\n",
      "0\n",
      "1\n"
     ]
    },
    {
     "data": {
      "text/plain": [
       "0.0"
      ]
     },
     "execution_count": 133,
     "metadata": {},
     "output_type": "execute_result"
    }
   ],
   "source": [
    "def div():\n",
    "    try:\n",
    "        x = float(input())\n",
    "        y = float(input())\n",
    "        answer = x ** y\n",
    "    except ValueError:\n",
    "        print('Неверное введенное значение для перевода в целое число!')\n",
    "        return div()\n",
    "    except ZeroDivisionError:\n",
    "        print('Возникло деление на ноль!')\n",
    "        answer = 0\n",
    "    except:\n",
    "        print('Ой! Ошибка которую я не ожидал от тебя! Вот она:')\n",
    "        raise\n",
    "    return answer\n",
    "\n",
    "div() # можно заменить на while True: break конструкцию, вместо рекурсивной функции"
   ]
  },
  {
   "cell_type": "markdown",
   "metadata": {
    "slideshow": {
     "slide_type": "subslide"
    }
   },
   "source": [
    "Однако, если мы все же используем `finally`, то надо быть аккуратным в следующем:"
   ]
  },
  {
   "cell_type": "code",
   "execution_count": 134,
   "metadata": {
    "slideshow": {
     "slide_type": "fragment"
    }
   },
   "outputs": [
    {
     "name": "stdout",
     "output_type": "stream",
     "text": [
      "1\n"
     ]
    },
    {
     "data": {
      "text/plain": [
       "0"
      ]
     },
     "execution_count": 134,
     "metadata": {},
     "output_type": "execute_result"
    }
   ],
   "source": [
    "def one_or_zero():\n",
    "    try:\n",
    "        print(1)\n",
    "        return 1\n",
    "    except:\n",
    "        return 10\n",
    "    finally:\n",
    "        return 0\n",
    "    \n",
    "one_or_zero()"
   ]
  },
  {
   "cell_type": "markdown",
   "metadata": {
    "slideshow": {
     "slide_type": "subslide"
    }
   },
   "source": [
    "##   Чтение и сохранение файлов  "
   ]
  },
  {
   "cell_type": "code",
   "execution_count": 137,
   "metadata": {
    "slideshow": {
     "slide_type": "subslide"
    }
   },
   "outputs": [],
   "source": [
    "f = open('input.txt', 'w')\n",
    "f.close()"
   ]
  },
  {
   "cell_type": "code",
   "execution_count": 149,
   "metadata": {
    "slideshow": {
     "slide_type": "subslide"
    }
   },
   "outputs": [],
   "source": [
    "with open('input.txt', 'w') as file:\n",
    "    file.write('hello\\n')\n",
    "    file.write('hey')\n",
    "    file.writelines(('1\\n', '2\\n', '3'))"
   ]
  },
  {
   "cell_type": "code",
   "execution_count": 145,
   "metadata": {
    "slideshow": {
     "slide_type": "subslide"
    }
   },
   "outputs": [
    {
     "name": "stdout",
     "output_type": "stream",
     "text": [
      "input.txt\n",
      "1\n",
      "\n",
      "2\n",
      "\n",
      "1\n",
      "\n"
     ]
    },
    {
     "data": {
      "text/plain": [
       "'1\\n'"
      ]
     },
     "execution_count": 145,
     "metadata": {},
     "output_type": "execute_result"
    }
   ],
   "source": [
    "with open('input.txt', 'r') as file:\n",
    "    print(file.name)\n",
    "#     a = file.read(2)\n",
    "#     b = file.read()\n",
    "#     a = file.readlines()\n",
    "    a = file.readline()\n",
    "    b = file.readline()\n",
    "    print(a)\n",
    "    print(b)\n",
    "    print(a)\n",
    "a"
   ]
  },
  {
   "cell_type": "markdown",
   "metadata": {
    "slideshow": {
     "slide_type": "subslide"
    }
   },
   "source": [
    "##   Модульное оформление  \n",
    "\n",
    "Что такое модули? Простыми словами это папка с файлами, внутри которых написан код. Между собой файлы могут использовать функции, константные переменные. Есть много встроенных библиотек, а остальные можно установить с помощью `pip`."
   ]
  },
  {
   "cell_type": "code",
   "execution_count": 155,
   "metadata": {
    "slideshow": {
     "slide_type": "fragment"
    }
   },
   "outputs": [
    {
     "data": {
      "text/plain": [
       "'mnt/c/svdcvt'"
      ]
     },
     "execution_count": 155,
     "metadata": {},
     "output_type": "execute_result"
    }
   ],
   "source": [
    "import os\n",
    "os.path.join('mnt', 'c', 'svdcvt')"
   ]
  },
  {
   "cell_type": "code",
   "execution_count": null,
   "metadata": {
    "slideshow": {
     "slide_type": "fragment"
    }
   },
   "outputs": [],
   "source": [
    "import time\n",
    "import random\n",
    "s = time.time()\n",
    "random.random()\n",
    "print(time.time() - s)"
   ]
  },
  {
   "cell_type": "code",
   "execution_count": 160,
   "metadata": {
    "slideshow": {
     "slide_type": "fragment"
    }
   },
   "outputs": [
    {
     "name": "stdout",
     "output_type": "stream",
     "text": [
      "390 ns ± 69.9 ns per loop (mean ± std. dev. of 7 runs, 1000000 loops each)\n",
      "4.01 µs ± 829 ns per loop (mean ± std. dev. of 7 runs, 100000 loops each)\n"
     ]
    }
   ],
   "source": [
    "%timeit random.random()\n",
    "%timeit random.randrange(0, 10)"
   ]
  },
  {
   "cell_type": "code",
   "execution_count": 1,
   "metadata": {
    "slideshow": {
     "slide_type": "subslide"
    }
   },
   "outputs": [
    {
     "ename": "NameError",
     "evalue": "name 'math' is not defined",
     "output_type": "error",
     "traceback": [
      "\u001b[0;31m---------------------------------------------------------------------------\u001b[0m",
      "\u001b[0;31mNameError\u001b[0m                                 Traceback (most recent call last)",
      "\u001b[0;32m<ipython-input-1-ac8801d1d4bd>\u001b[0m in \u001b[0;36m<module>\u001b[0;34m\u001b[0m\n\u001b[1;32m      1\u001b[0m \u001b[0;32mimport\u001b[0m \u001b[0mmath\u001b[0m \u001b[0;32mas\u001b[0m \u001b[0mm\u001b[0m\u001b[0;34m\u001b[0m\u001b[0;34m\u001b[0m\u001b[0m\n\u001b[0;32m----> 2\u001b[0;31m \u001b[0mm\u001b[0m\u001b[0;34m.\u001b[0m\u001b[0me\u001b[0m\u001b[0;34m,\u001b[0m \u001b[0mmath\u001b[0m\u001b[0;34m.\u001b[0m\u001b[0me\u001b[0m\u001b[0;34m\u001b[0m\u001b[0;34m\u001b[0m\u001b[0m\n\u001b[0m",
      "\u001b[0;31mNameError\u001b[0m: name 'math' is not defined"
     ]
    }
   ],
   "source": [
    "import math as m\n",
    "m.e"
   ]
  },
  {
   "cell_type": "code",
   "execution_count": 3,
   "metadata": {
    "slideshow": {
     "slide_type": "fragment"
    }
   },
   "outputs": [
    {
     "data": {
      "text/plain": [
       "2.718281828459045"
      ]
     },
     "execution_count": 3,
     "metadata": {},
     "output_type": "execute_result"
    }
   ],
   "source": [
    "from math import e as exponent, pi as pinumber\n",
    "exponent, pinumber"
   ]
  },
  {
   "cell_type": "code",
   "execution_count": null,
   "metadata": {},
   "outputs": [],
   "source": []
  },
  {
   "cell_type": "markdown",
   "metadata": {
    "slideshow": {
     "slide_type": "subslide"
    }
   },
   "source": [
    "Мы можем написать модуль сами. Пусть в папке `mymodule` лежит два файла - `utils.py` `run.py`, и эта папка находится там же, где сейчас лежит этот ноутбук (или там же где мы находимся в командной строке)."
   ]
  },
  {
   "cell_type": "code",
   "execution_count": 4,
   "metadata": {
    "slideshow": {
     "slide_type": "subslide"
    }
   },
   "outputs": [
    {
     "name": "stdout",
     "output_type": "stream",
     "text": [
      "Hello world!!!\n"
     ]
    },
    {
     "data": {
      "text/plain": [
       "10042"
      ]
     },
     "execution_count": 4,
     "metadata": {},
     "output_type": "execute_result"
    }
   ],
   "source": [
    "from mymodule import utils \n",
    "\n",
    "utils.hello()\n",
    "utils.constant "
   ]
  },
  {
   "cell_type": "code",
   "execution_count": 1,
   "metadata": {
    "slideshow": {
     "slide_type": "fragment"
    }
   },
   "outputs": [
    {
     "name": "stdout",
     "output_type": "stream",
     "text": [
      "Hello world!!!\r\n",
      "10042\r\n",
      "3\r\n"
     ]
    }
   ],
   "source": [
    "!python3 mymodule/run.py"
   ]
  },
  {
   "cell_type": "markdown",
   "metadata": {
    "slideshow": {
     "slide_type": "slide"
    }
   },
   "source": [
    "##   Тестирование  "
   ]
  },
  {
   "cell_type": "markdown",
   "metadata": {
    "slideshow": {
     "slide_type": "subslide"
    }
   },
   "source": [
    "###   Вступление  \n",
    "\n",
    "Вы закончили курс по Питону и решили сделать крутой стартап - сервис по решению уравнений. Сначала вы набросали версию с минимальным функционалом, т.е. сервис умеет решать только линейные уравнения:\n",
    "\n",
    "\n",
    "```python\n",
    "def solve(a=1, b=0, c=0):\n",
    "    '''\n",
    "    ax + b = c\n",
    "    '''\n",
    "    return (c - b) / a\n",
    "\n",
    "```\n",
    "\n",
    "Как только код был написан, вы решили убедиться что ваша программа работает\n",
    "\n",
    "\n",
    "```python\n",
    "print(solve(a=2, b=1))\n",
    "print(solve(b=2, c=3))\n",
    "```\n",
    "\n",
    "    >>>-0.5 \n",
    "    >>>1.0"
   ]
  },
  {
   "cell_type": "markdown",
   "metadata": {
    "slideshow": {
     "slide_type": "subslide"
    }
   },
   "source": [
    "Отлично! Похоже что всё хорошо и можно релизить сервис на людей, что вы и делаете. Всё идет отлично, люди пользуются сервисом и вполне счастливы, только вот многие хотят, чтобы вы стали решать еще и квадратные уравнения. Вы делаете правку в своем коде:\n",
    "\n",
    "\n",
    "```python\n",
    "def solve_2(a=1, b=0, c=0, d=0):\n",
    "    '''\n",
    "    ax^2 + bx + c = d \n",
    "    '''\n",
    "    D = b ** 2 - 4 * a * (c - d)  \n",
    "    Ds = abs(D) ** 0.5\n",
    "    return (-b + Ds)/(2 * a), (-b - Ds)/(2 * a)\n",
    "```\n",
    "\n",
    "Как и в прошлый раз вы тестируете новую функциональность:\n",
    "\n",
    "\n",
    "```python\n",
    "print(solve_2(a=1, b=2, c=1))\n",
    "```\n",
    "\n",
    "    >>> (-1.0, -1.0) "
   ]
  },
  {
   "cell_type": "markdown",
   "metadata": {
    "slideshow": {
     "slide_type": "subslide"
    }
   },
   "source": [
    "Ура, работает! Вы выкатываете новую версию сервиса и ждете восторженных отзывов. Вместо этого число пользователей начинает стремительно падать. Вы начинаете искать причину и выясняете, что после обновления ваш сервис перестал решать линейные уравнения. Вы проверяете в консоли:\n",
    "\n",
    "\n",
    "```python\n",
    "print(solve_2(b=2, c=1))\n",
    "```\n",
    "    >>> (-1.0, -1.0)\n",
    "    \n",
    "Действительно не работает! Вы внимательно смотрите на свой код и обнаруживаете баг. "
   ]
  },
  {
   "cell_type": "markdown",
   "metadata": {
    "slideshow": {
     "slide_type": "subslide"
    }
   },
   "source": [
    "Сделав правки, вы проверяете работоспособность:\n",
    "\n",
    "\n",
    "```python\n",
    "def solve_3(a=0, b=0, c=0, d=0):\n",
    "    '''\n",
    "    ax^2 + bx + c = d \n",
    "    '''\n",
    "    if a != 0:\n",
    "        D = b ** 2 - 4 * a * (c - d)  \n",
    "        Ds = abs(D) ** 0.5 \n",
    "        return (-b + Ds) / (2 * a), (-b - Ds) / (2 * a)\n",
    "    elif b != 0:\n",
    "        return (d - c) / b\n",
    "    else:\n",
    "        raise ValueError('Invalid equation')\n",
    "\n",
    "print(solve_3(a=1, b=2, c=1))\n",
    "print(solve_3(a=0, b=2, c=1))\n",
    "```\n",
    "\n",
    "    >>>(-1.0, -1.0) \n",
    "    >>>-0.5 \n",
    "\n",
    "\n",
    "Всё работает! Чтобы такое не повторялось, вы записываете, что после правок проверять надо как линейные, так и нелинейные уравнения. Вы выкатываете новый релиз сервиса, но пользователи уже ушли к конкуренту."
   ]
  },
  {
   "cell_type": "markdown",
   "metadata": {
    "slideshow": {
     "slide_type": "subslide"
    }
   },
   "source": [
    "###   Автоматизируем тестирование  \n",
    "\n",
    "Вместо того, чтобы кажды раз проверять в консоли работает код или нет, можно написать функцию вида:\n",
    "\n",
    "\n",
    "```python\n",
    "def check_solve(solve_fn):\n",
    "    assert solve_fn(a=1, b=2, c=3) == 1.0\n",
    "    assert solve_fn(a=2, b=1) == -0.5\n",
    "    print('Всё работает!')\n",
    "```\n",
    "\n",
    "История нашего сервиса была бы немного другой. Проверяем первую итерацию:\n",
    "\n",
    "\n",
    "```python\n",
    "check_solution(solve)\n",
    "```\n",
    "\n",
    "    Всё работает!"
   ]
  },
  {
   "cell_type": "markdown",
   "metadata": {
    "slideshow": {
     "slide_type": "subslide"
    }
   },
   "source": [
    "Катим, видим что пользователи хотят решения квадратных уравнений, делаем правки, обновляем наш тест:\n",
    "\n",
    "\n",
    "```python\n",
    "def check_solve(solve_fn):\n",
    "    assert solve_fn(a=0, b=1, c=2, d=3) == 1.0\n",
    "    assert solve_fn(a=0, b=2, c=1) == -0.5\n",
    "    \n",
    "    assert solve_fn(a=1, b=2, c=1) == (-1.0, -1.0)\n",
    "    print('Всё работает!')\n",
    "```\n",
    "\n",
    "```python\n",
    "check_solve(solve_2)\n",
    "```\n",
    "    ---------------------------------------------------------------------------\n",
    "    AssertionError                            Traceback (most recent call last)\n",
    "    <ipython-input-123-969194e3e673> in <module>\n",
    "    ----> 1 check_solve(solve_2)\n",
    "\n",
    "    <ipython-input-123-969194e3e673> in check_solve(solve_fn)\n",
    "          1 def check_solve(solve_fn):\n",
    "    ----> 2     assert solve_fn(a=0, b=1, c=2, d=3) == 1.0\n",
    "          3     assert solve_fn(a=0, b=2, c=1) == -0.5\n",
    "          4 \n",
    "\n",
    "    AssertionError: "
   ]
  },
  {
   "cell_type": "markdown",
   "metadata": {
    "slideshow": {
     "slide_type": "subslide"
    }
   },
   "source": [
    "Ага, что-то не так! Разбираемся, находим баг, правим:\n",
    "\n",
    "\n",
    "```python\n",
    "check_solve(solve_3)\n",
    "```\n",
    "\n",
    "    Всё работает!\n",
    "\n",
    "\n",
    "Выкатываем, пользователи счастливы."
   ]
  },
  {
   "cell_type": "markdown",
   "metadata": {
    "slideshow": {
     "slide_type": "subslide"
    }
   },
   "source": [
    "Такой подход называется **автоматизированным тестированием**. Для автоматизированного тестирования написана куча фреймворков на разных языках. Короткий список для python:\n",
    "\n",
    "* [unittest](https://docs.python.org/3/library/unittest.html)\n",
    "* [nose2](https://docs.nose2.io/en/latest/)\n",
    "* [pytest](https://docs.pytest.org/en/latest/)\n",
    "\n",
    "В рамках лекции мы остановимся на `pytest`, т.к. он найболее прост, лаконичен и поддерживается лучше других фреймворков."
   ]
  },
  {
   "cell_type": "markdown",
   "metadata": {
    "slideshow": {
     "slide_type": "subslide"
    }
   },
   "source": [
    "###  Pytest   [ipytest](https://github.com/chmp/ipytest)"
   ]
  },
  {
   "cell_type": "code",
   "execution_count": null,
   "metadata": {
    "slideshow": {
     "slide_type": "skip"
    }
   },
   "outputs": [],
   "source": [
    "!pip3 install pytest ipytest logging"
   ]
  },
  {
   "cell_type": "code",
   "execution_count": 4,
   "metadata": {
    "slideshow": {
     "slide_type": "skip"
    }
   },
   "outputs": [],
   "source": [
    "# Настраиваем ноутбук\n",
    "import pytest\n",
    "import ipytest\n",
    "ipytest.config(rewrite_asserts=True, magics=True)\n",
    "__file__ = 'lecture09_adv1_slides.ipynb'"
   ]
  },
  {
   "cell_type": "code",
   "execution_count": 7,
   "metadata": {
    "slideshow": {
     "slide_type": "skip"
    }
   },
   "outputs": [],
   "source": [
    "def solve(a=1, b=0, c=0):\n",
    "    '''\n",
    "    ax + b = c\n",
    "    '''\n",
    "    return (c - b) / a\n",
    "\n",
    "def solve_2(a=1, b=0, c=0, d=0):\n",
    "    '''\n",
    "    ax^2 + bx + c = d \n",
    "    '''\n",
    "    D = b ** 2 - 4 * a * (c - d)  \n",
    "    Ds = abs(D) ** 0.5\n",
    "    return (-b + Ds)/(2 * a), (-b - Ds)/(2 * a)\n",
    "\n",
    "def solve_3(a=0, b=0, c=0, d=0):\n",
    "    '''\n",
    "    ax^2 + bx + c = d \n",
    "    '''\n",
    "    if a != 0:\n",
    "        D = b ** 2 - 4 * a * (c - d)  \n",
    "        Ds = abs(D) ** 0.5 \n",
    "        return (-b + Ds) / (2 * a), (-b - Ds) / (2 * a)\n",
    "    elif b != 0:\n",
    "        return (d - c) / b\n",
    "    else:\n",
    "        raise ValueError('Invalid equation')"
   ]
  },
  {
   "cell_type": "markdown",
   "metadata": {
    "slideshow": {
     "slide_type": "subslide"
    }
   },
   "source": [
    "###  Основы   \n",
    "\n",
    "Тесты для pytest выглядят как функции, вызывающие `assert` внутри. Чтобы фреймворк подхватил функцию, её имя должно начинаться на `test`. Напишем один из тестов для нашего сервиса по решение уравнений:"
   ]
  },
  {
   "cell_type": "code",
   "execution_count": 11,
   "metadata": {
    "slideshow": {
     "slide_type": "subslide"
    }
   },
   "outputs": [
    {
     "name": "stdout",
     "output_type": "stream",
     "text": [
      ".                                                                                                                [100%]\n",
      "1 passed in 0.01s\n"
     ]
    }
   ],
   "source": [
    "%%run_pytest[clean] -q\n",
    "\n",
    "def test_linear_equation():\n",
    "    assert solve(2, 1) == -0.5"
   ]
  },
  {
   "cell_type": "markdown",
   "metadata": {
    "slideshow": {
     "slide_type": "subslide"
    }
   },
   "source": [
    "`Pytest` перехватывает вызов оператора `assert` и собирает подробную информацию о причине падения. Запустим наш тест на падающей версии сервиса:"
   ]
  },
  {
   "cell_type": "code",
   "execution_count": 13,
   "metadata": {
    "slideshow": {
     "slide_type": "subslide"
    }
   },
   "outputs": [
    {
     "name": "stdout",
     "output_type": "stream",
     "text": [
      "F                                                                                                                [100%]\n",
      "======================================================= FAILURES =======================================================\n",
      "_____________________________________________ test_positive_smile_removed ______________________________________________\n",
      "\n",
      "    def test_positive_smile_removed():\n",
      ">       assert solve_2(b=2, c=1) == -0.5, 'Функция должна решать линейные уравнения'\n",
      "E       AssertionError: Функция должна решать линейные уравнения\n",
      "E       assert (-1.0, -1.0) == -0.5\n",
      "E        +  where (-1.0, -1.0) = solve_2(b=2, c=1)\n",
      "\n",
      "<ipython-input-13-9b0523c6bc7e>:2: AssertionError\n",
      "=============================================== short test summary info ================================================\n",
      "FAILED lecture09_adv1_slides.py::test_positive_smile_removed - AssertionError: Функция должна решать линейные уравнения\n",
      "1 failed in 0.02s\n"
     ]
    }
   ],
   "source": [
    "%%run_pytest[clean] -q\n",
    "\n",
    "def test_positive_smile_removed():\n",
    "    assert solve_2(b=2, c=1) == -0.5, 'Функция должна решать линейные уравнения'"
   ]
  },
  {
   "cell_type": "markdown",
   "metadata": {
    "slideshow": {
     "slide_type": "subslide"
    }
   },
   "source": [
    "Видим, какой тест падает, а так же разницу между ожидаемым результатом и реальной работой нашего кода.\n",
    "\n",
    "`Pytest` поддерживает работу со встроенными типами данных. Несколько примеров:"
   ]
  },
  {
   "cell_type": "code",
   "execution_count": 14,
   "metadata": {
    "slideshow": {
     "slide_type": "subslide"
    }
   },
   "outputs": [
    {
     "name": "stdout",
     "output_type": "stream",
     "text": [
      "FFF                                                                                                              [100%]\n",
      "======================================================= FAILURES =======================================================\n",
      "______________________________________________________ test_list _______________________________________________________\n",
      "\n",
      "    def test_list():\n",
      ">       assert [1, 2, 3] == [2, 3]\n",
      "E       assert [1, 2, 3] == [2, 3]\n",
      "E         At index 0 diff: 1 != 2\n",
      "E         Left contains one more item: 3\n",
      "E         Full diff:\n",
      "E         - [2, 3]\n",
      "E         + [1, 2, 3]\n",
      "E         ?  +++\n",
      "\n",
      "<ipython-input-14-7e37b465bc2b>:2: AssertionError\n",
      "_______________________________________________________ test_set _______________________________________________________\n",
      "\n",
      "    def test_set():\n",
      ">       assert {1, 2, 3} == {2, 3}\n",
      "E       assert {1, 2, 3} == {2, 3}\n",
      "E         Extra items in the left set:\n",
      "E         1\n",
      "E         Full diff:\n",
      "E         - {2, 3}\n",
      "E         + {1, 2, 3}\n",
      "E         ?  +++\n",
      "\n",
      "<ipython-input-14-7e37b465bc2b>:5: AssertionError\n",
      "______________________________________________________ test_dict _______________________________________________________\n",
      "\n",
      "    def test_dict():\n",
      ">       assert {\"a\": 1} == {\"a\": 1, \"b\": 2}\n",
      "E       AssertionError: assert {'a': 1} == {'a': 1, 'b': 2}\n",
      "E         Omitting 1 identical items, use -vv to show\n",
      "E         Right contains 1 more item:\n",
      "E         {'b': 2}\n",
      "E         Full diff:\n",
      "E         - {'a': 1, 'b': 2}\n",
      "E         + {'a': 1}\n",
      "\n",
      "<ipython-input-14-7e37b465bc2b>:8: AssertionError\n",
      "=============================================== short test summary info ================================================\n",
      "FAILED lecture09_adv1_slides.py::test_list - assert [1, 2, 3] == [2, 3]\n",
      "FAILED lecture09_adv1_slides.py::test_set - assert {1, 2, 3} == {2, 3}\n",
      "FAILED lecture09_adv1_slides.py::test_dict - AssertionError: assert {'a': 1} == {'a': 1, 'b': 2}\n",
      "3 failed in 0.05s\n"
     ]
    }
   ],
   "source": [
    "%%run_pytest[clean] -q\n",
    "\n",
    "def test_list():\n",
    "    assert [1, 2, 3] == [2, 3]\n",
    "\n",
    "def test_set():\n",
    "    assert {1, 2, 3} == {2, 3}\n",
    "    \n",
    "def test_dict():\n",
    "    assert {\"a\": 1} == {\"a\": 1, \"b\": 2}"
   ]
  },
  {
   "cell_type": "markdown",
   "metadata": {
    "slideshow": {
     "slide_type": "subslide"
    }
   },
   "source": [
    "###   Тестирование исключений   \n",
    "\n",
    "Вспомним как у нас функция валидирует входные коэффициенты на валидность уравнения:\n",
    "\n",
    "Тест может выглядеть так:"
   ]
  },
  {
   "cell_type": "code",
   "execution_count": 15,
   "metadata": {
    "slideshow": {
     "slide_type": "subslide"
    }
   },
   "outputs": [
    {
     "name": "stdout",
     "output_type": "stream",
     "text": [
      ".                                                                                                                [100%]\n",
      "1 passed in 0.02s\n"
     ]
    }
   ],
   "source": [
    "%%run_pytest[clean] -q\n",
    "\n",
    "def test_error_on_invalid_equation():\n",
    "    with pytest.raises(ValueError):\n",
    "        solve_3(0, 0, 0, 0)"
   ]
  },
  {
   "cell_type": "markdown",
   "metadata": {
    "slideshow": {
     "slide_type": "subslide"
    }
   },
   "source": [
    "###   Сравнение вещественных чисел  \n",
    "\n",
    "Из-за ошибок округления `float` трудно сравнивать через `==`"
   ]
  },
  {
   "cell_type": "code",
   "execution_count": 20,
   "metadata": {
    "slideshow": {
     "slide_type": "subslide"
    }
   },
   "outputs": [
    {
     "name": "stdout",
     "output_type": "stream",
     "text": [
      "F                                                                                                                [100%]\n",
      "======================================================= FAILURES =======================================================\n",
      "______________________________________________________ test_float ______________________________________________________\n",
      "\n",
      "    def test_float():\n",
      ">       assert 0.1 + 0.2 == 0.3\n",
      "E       assert (0.1 + 0.2) == 0.3\n",
      "\n",
      "<ipython-input-20-d4fdc5effe72>:2: AssertionError\n",
      "=============================================== short test summary info ================================================\n",
      "FAILED lecture09_adv1_slides.py::test_float - assert (0.1 + 0.2) == 0.3\n",
      "1 failed in 0.01s\n"
     ]
    }
   ],
   "source": [
    "%%run_pytest[clean] -q\n",
    "\n",
    "def test_float():\n",
    "    assert 0.1 + 0.2 == 0.3"
   ]
  },
  {
   "cell_type": "markdown",
   "metadata": {
    "slideshow": {
     "slide_type": "subslide"
    }
   },
   "source": [
    "Исправить ситуацию поможет `pytest.approx`"
   ]
  },
  {
   "cell_type": "code",
   "execution_count": 17,
   "metadata": {
    "slideshow": {
     "slide_type": "subslide"
    }
   },
   "outputs": [
    {
     "name": "stdout",
     "output_type": "stream",
     "text": [
      ".                                                                                                                [100%]\n",
      "1 passed in 0.01s\n"
     ]
    }
   ],
   "source": [
    "%%run_pytest[clean] -q\n",
    "\n",
    "def test_float():\n",
    "    assert 0.1 + 0.2 == pytest.approx(0.3)"
   ]
  },
  {
   "cell_type": "markdown",
   "metadata": {
    "slideshow": {
     "slide_type": "subslide"
    }
   },
   "source": [
    "`pytest.approx` так же работает и с множественными значениями:"
   ]
  },
  {
   "cell_type": "code",
   "execution_count": 21,
   "metadata": {
    "slideshow": {
     "slide_type": "subslide"
    }
   },
   "outputs": [
    {
     "name": "stdout",
     "output_type": "stream",
     "text": [
      ".                                                                                                                [100%]\n",
      "1 passed in 0.01s\n"
     ]
    }
   ],
   "source": [
    "%%run_pytest[clean] -q\n",
    "\n",
    "def test_float():\n",
    "    assert [0.1 + 0.2, 0.5] == pytest.approx([0.3, 0.5])"
   ]
  },
  {
   "cell_type": "markdown",
   "metadata": {
    "slideshow": {
     "slide_type": "subslide"
    }
   },
   "source": [
    "###   Параметризованные тесты   \n",
    "\n",
    "Вспомним тест для нашего сервиса:"
   ]
  },
  {
   "cell_type": "code",
   "execution_count": 25,
   "metadata": {
    "slideshow": {
     "slide_type": "subslide"
    }
   },
   "outputs": [
    {
     "name": "stdout",
     "output_type": "stream",
     "text": [
      ".                                                                                                                [100%]\n",
      "1 passed in 0.01s\n"
     ]
    }
   ],
   "source": [
    "%%run_pytest[clean] -q\n",
    "\n",
    "def test_equation():\n",
    "    assert solve_3(a=0, b=1, c=2, d=3) == 1.0\n",
    "    assert solve_3(a=0, b=2, c=1) == -0.5\n",
    "    assert solve_3(a=1, b=2, c=1) == (-1.0, -1.0)"
   ]
  },
  {
   "cell_type": "markdown",
   "metadata": {
    "slideshow": {
     "slide_type": "subslide"
    }
   },
   "source": [
    "Хочется добавить еще кейсов. Сделать это можно так:"
   ]
  },
  {
   "cell_type": "code",
   "execution_count": 26,
   "metadata": {
    "slideshow": {
     "slide_type": "subslide"
    }
   },
   "outputs": [
    {
     "name": "stdout",
     "output_type": "stream",
     "text": [
      ".                                                                                                                [100%]\n",
      "1 passed in 0.01s\n"
     ]
    }
   ],
   "source": [
    "%%run_pytest[clean] -q\n",
    "\n",
    "def test_equation():\n",
    "    assert solve_3(a=0, b=1, c=2, d=3) == 1.0\n",
    "    assert solve_3(a=0, b=2, c=1) == -0.5\n",
    "    assert solve_3(a=0, b=-2, c=1) == 0.5\n",
    "    assert solve_3(a=1, b=2, c=1) == (-1.0, -1.0)\n",
    "    assert solve_3(a=1, b=-2, c=1) == (1.0, 1.0)"
   ]
  },
  {
   "cell_type": "markdown",
   "metadata": {
    "slideshow": {
     "slide_type": "subslide"
    }
   },
   "source": [
    "У такого подхода есть как минимум два недостатка:\n",
    "1. Нужно каждый раз писать один и тот же код для вызова функции (boilerplate)\n",
    "2. Тест упадет на первом плохом assert'e, и мы не узнаем какие у нас еще есть баги пока не починим первый\n",
    "\n",
    "К счастью, `pytest` предоставляет нам удобный инструментарий для параметризации тестов:"
   ]
  },
  {
   "cell_type": "code",
   "execution_count": 51,
   "metadata": {
    "slideshow": {
     "slide_type": "subslide"
    }
   },
   "outputs": [
    {
     "name": "stdout",
     "output_type": "stream",
     "text": [
      ".....                                                                                                            [100%]\n",
      "5 passed in 0.03s\n"
     ]
    }
   ],
   "source": [
    "%%run_pytest[clean] -q\n",
    "\n",
    "test_cases = [((0, 1, 2, 3), 1.0), \n",
    "              ((0, 2, 1), -0.5), \n",
    "              ((0, -2, 1), 0.5),\n",
    "              ((1, 2, 1), (-1.0, -1.0)),\n",
    "              ((1, -2, 1), (1.0, 1.0))\n",
    "             ]\n",
    "test_names = ['test_lin_a', 'test_lin_b', 'test_lin_c', 'test_quad_a', 'test_quad_b'] # опционально\n",
    "\n",
    "@pytest.mark.parametrize(\"input_message, expected_message\", test_cases, ids=test_names)\n",
    "def test_equation(input_message, expected_message):\n",
    "    assert solve_3(*input_message) == expected_message # не забудьте про звездочку"
   ]
  },
  {
   "cell_type": "markdown",
   "metadata": {
    "slideshow": {
     "slide_type": "subslide"
    }
   },
   "source": [
    "###   Test discovery  \n",
    "\n",
    "Для запуска тестов нужно вызвать `pytest` на папку проекта. Тогда `pytest`:\n",
    "1. Рекурсивно обойдет все подпапки\n",
    "2. Найдет все файлы, с именами вида `test_*.py` или `*_test.py`\n",
    "3. В этих файлах запустит как тест все функции, начинающиеся с `test`.\n",
    "\n",
    "Соответственно, здесь мы воспользуемся модульным оформлением нашего кода, функции которого мы будем импортировать в файлах тестов.\n",
    "    \n",
    "Куда лучше сложить тесты в вашем проекте можно почитать [здесь](https://blog.ionelmc.ro/2014/05/25/python-packaging/#the-structure). Таким же похожим образом можно делать тесты для проекта в гитхабе."
   ]
  },
  {
   "cell_type": "markdown",
   "metadata": {
    "slideshow": {
     "slide_type": "subslide"
    }
   },
   "source": [
    "###   Best practices   \n",
    "\n",
    "**1: Проверяйте, что фейлится так как вы ожидаете**\n",
    "\n",
    "Вы решили написать новый тест, и чтобы тест проверял побольше, вы решили написать генератор тесткейсов. НО! Если в самом тесте есть баг (например, генерируем пустое множество тесткейсов и на самом деле вообще ничего не проверяем), то тесты будут проходиться и всё будет казаться будто бы хорошо. \n",
    "\n",
    "Поэтому:\n",
    "1. Если вы пишете тест на существующий код, внесите в него правки, из-за которых тест упадет ожидаемым образом. После чего исправьте код так, чтобы тест проходил.\n",
    "2. Если вы нашли баг в коде, напишите падающий тест до исправления этого бага.\n",
    "3. Если пишите новый код, напишите тесты заранее."
   ]
  },
  {
   "cell_type": "markdown",
   "metadata": {
    "slideshow": {
     "slide_type": "subslide"
    }
   },
   "source": [
    "**2: Старайтесь покрыть тестами все ветви исполнения вашего кода**\n",
    "\n",
    "Отношение покрытых тестами строчек к общему числу строчек кода называется **code coverage**.\n",
    "Есть куча инструментов для ее измерения, например [coverage.py](https://coverage.readthedocs.io/en/v4.5.x/). Многие opensoruce проекты вешают плашку с текущим coverage у себя в git. Рекомендуется поддерживать сoverage близким к 100%."
   ]
  },
  {
   "cell_type": "markdown",
   "metadata": {
    "slideshow": {
     "slide_type": "subslide"
    }
   },
   "source": [
    "**3: Среднее число логических assert в тестах должно стремиться к 1**\n",
    "\n",
    "Если у вас падает какой-то тест, то вы должны иметь возможность как можно быстрее понять какая именно часть вашего кода не работает. Если в тесте много assert'ов, вам скорее придется найти код теста и разбираться что именно проверялось в каждом из них. Вместо такого:"
   ]
  },
  {
   "cell_type": "code",
   "execution_count": 57,
   "metadata": {
    "slideshow": {
     "slide_type": "subslide"
    }
   },
   "outputs": [
    {
     "name": "stdout",
     "output_type": "stream",
     "text": [
      ".                                                                                                                [100%]\n",
      "1 passed in 0.01s\n"
     ]
    }
   ],
   "source": [
    "%%run_pytest[clean] -q\n",
    "\n",
    "def test_equation():\n",
    "    assert solve_3(a=0, b=1, c=2, d=3) == 1.0\n",
    "    assert solve_3(a=0, b=2, c=1) == -0.5\n",
    "    assert solve_3(a=1, b=2, c=1) == (-1.0, -1.0)"
   ]
  },
  {
   "cell_type": "markdown",
   "metadata": {
    "slideshow": {
     "slide_type": "subslide"
    }
   },
   "source": [
    "Лучше сделать так:"
   ]
  },
  {
   "cell_type": "code",
   "execution_count": 58,
   "metadata": {
    "slideshow": {
     "slide_type": "subslide"
    }
   },
   "outputs": [
    {
     "name": "stdout",
     "output_type": "stream",
     "text": [
      "...                                                                                                              [100%]\n",
      "3 passed in 0.02s\n"
     ]
    }
   ],
   "source": [
    "%%run_pytest[clean] -q\n",
    "\n",
    "def test_linear():\n",
    "    assert solve_3(a=0, b=1, c=2, d=3) == 1.0\n",
    "    assert solve_3(a=0, b=2, c=1) == -0.5\n",
    "def test_quadr_same():\n",
    "    assert solve_3(a=1, b=2, c=1) == (-1.0, -1.0)\n",
    "def test_qadr_different():\n",
    "    assert solve_3(1, 2, 3) == pytest.approx((0.414, -2.414), rel=1e-3)"
   ]
  },
  {
   "cell_type": "markdown",
   "metadata": {
    "slideshow": {
     "slide_type": "subslide"
    }
   },
   "source": [
    "**4: именуйте тесты понятно**\n",
    "\n",
    "Вы не будете вызывать ваши функции с тестами где-то в коде, значит экономить на длинне названия бессмысленно. С другой стороны хочется понимать из названия теста как что подается на вход и как должен работать при этом код.\n",
    "\n",
    "**5: Проверяйте граничные условия и диапазоны**\n"
   ]
  },
  {
   "cell_type": "markdown",
   "metadata": {
    "slideshow": {
     "slide_type": "subslide"
    }
   },
   "source": [
    "###   Профиты  \n",
    "\n",
    "1. Не забываем про то, какую функциональность имеет наш код\n",
    "2. Можем вносить правки в код не боясь что-то упустить\n",
    "3. Можем понять, как работать с нашим кодом исходя из тестов"
   ]
  },
  {
   "cell_type": "markdown",
   "metadata": {
    "slideshow": {
     "slide_type": "skip"
    }
   },
   "source": [
    "**Книги**\n",
    "1. [Test Driven Development: By Example 1st Edition](https://www.eecs.yorku.ca/course_archive/2003-04/W/3311/sectionM/case_studies/money/KentBeck_TDD_byexample.pdf)\n",
    "2. [On Growing Object Oriented Software, Guided by Tests](https://www.amazon.com/Growing-Object-Oriented-Software-Guided-Tests/dp/0321503627)\n",
    "3. [The art of unit testing](http://artofunittesting.com/definition-of-a-unit-test)\n",
    "\n",
    "**Статьи**\n",
    "1. Про то, куда сложить тесты - [Packaging a python library](https://blog.ionelmc.ro/2014/05/25/python-packaging/#the-structure)\n",
    "2. Про именование тестов - [Youre naming tests wrong](https://enterprisecraftsmanship.com/posts/you-naming-tests-wrong/)"
   ]
  },
  {
   "cell_type": "markdown",
   "metadata": {
    "slideshow": {
     "slide_type": "subslide"
    }
   },
   "source": [
    "##   Логирование  "
   ]
  },
  {
   "cell_type": "code",
   "execution_count": 12,
   "metadata": {},
   "outputs": [],
   "source": [
    "import sys\n",
    "import logging\n",
    "\n",
    "logger = logging.getLogger('my_logger') # Создаем объект \"логер\", он записывает логи\n",
    "\n",
    "stdout_handler = logging.StreamHandler(stream=sys.stdout) # Говорим куда логировать (хэндлер), он хранит логи\n",
    "stdout_handler.setLevel(logging.INFO) # Выставляем уровень логирования \n",
    "logger.addHandler(stdout_handler) # Добавляем к логеру \"хэндлер\""
   ]
  },
  {
   "cell_type": "code",
   "execution_count": 3,
   "metadata": {},
   "outputs": [
    {
     "name": "stdout",
     "output_type": "stream",
     "text": [
      "Watch out!\n"
     ]
    }
   ],
   "source": [
    "logger.warning('Watch out!') # пишем лог"
   ]
  },
  {
   "cell_type": "markdown",
   "metadata": {},
   "source": [
    "###   Логгирование и его уровни    \n",
    "\n",
    "Логгировать можно при помощи следующих методов:\n",
    "1. `logger.debug()`\n",
    "2. `logger.info()`\n",
    "3. `logger.warning()`\n",
    "4. `logger.error()`\n",
    "5. `logger.critical()`\n",
    "6. `logger.exception()`"
   ]
  },
  {
   "cell_type": "markdown",
   "metadata": {},
   "source": [
    "С самого маленького до самого большого\n",
    "\n",
    "|Уровень | Когда используется|\n",
    "|:------ |:------------------|\n",
    "|`DEBUG`|Для диагностической информации|\n",
    "|`INFO`|Для подтверждения того, что всё работает как запланировано|\n",
    "|`WARNING`|Когда нужно предупредить что вскоре возможна поломка или программа используется не совсем так как нужно|\n",
    "|`ERROR`|Для логгирования сепъезных ошибок, из-за которых программа теряет часть функциональности|\n",
    "|`CRITICAL`|Для логгирования ошибок, после которых программа не может продолжать работу|\n",
    "\n",
    "Стандартный уровень логгирования - `WARNING`"
   ]
  },
  {
   "cell_type": "code",
   "execution_count": 4,
   "metadata": {},
   "outputs": [
    {
     "name": "stdout",
     "output_type": "stream",
     "text": [
      "Will be printed\n"
     ]
    }
   ],
   "source": [
    "logger.info('Will not be printed')\n",
    "logger.warning('Will be printed')"
   ]
  },
  {
   "cell_type": "markdown",
   "metadata": {},
   "source": [
    "Поменяем уровень логгирования:"
   ]
  },
  {
   "cell_type": "code",
   "execution_count": 5,
   "metadata": {},
   "outputs": [
    {
     "name": "stdout",
     "output_type": "stream",
     "text": [
      "Will not be printed\n",
      "Will be printed\n",
      "Will be printed\n"
     ]
    }
   ],
   "source": [
    "logger.setLevel(logging.INFO)\n",
    "logger.info('Will not be printed')\n",
    "logger.warning('Will be printed')\n",
    "logger.setLevel(logging.WARNING)\n",
    "logger.log(logging.WARNING, 'Will be printed')"
   ]
  },
  {
   "cell_type": "markdown",
   "metadata": {},
   "source": [
    "`logging.exception` немножко особенный - он добавляет информацию о последнем исключении и traceback"
   ]
  },
  {
   "cell_type": "code",
   "execution_count": 6,
   "metadata": {},
   "outputs": [
    {
     "name": "stdout",
     "output_type": "stream",
     "text": [
      "Cought error:\n",
      "Traceback (most recent call last):\n",
      "  File \"<ipython-input-6-7090cd0566ef>\", line 2, in <module>\n",
      "    1 / 0\n",
      "ZeroDivisionError: division by zero\n"
     ]
    }
   ],
   "source": [
    "try:\n",
    "    1 / 0\n",
    "except:\n",
    "    logger.exception(\"Cought error:\")"
   ]
  },
  {
   "cell_type": "markdown",
   "metadata": {},
   "source": [
    "###   Логгирование в файл и хэндлеры   \n",
    "\n",
    "Научимся логгировать в файл"
   ]
  },
  {
   "cell_type": "code",
   "execution_count": 7,
   "metadata": {},
   "outputs": [],
   "source": [
    "file = logging.FileHandler('debug.log') # Создаем файл, где будут храниться логи\n",
    "file.setLevel(logging.DEBUG)  # Выставляем уровень сообщений, которые будут логгироваться в файл.\n",
    "logger.addHandler(file) # Сообщаем логгеру куда можно писать логи"
   ]
  },
  {
   "cell_type": "code",
   "execution_count": 8,
   "metadata": {},
   "outputs": [],
   "source": [
    "logger.setLevel(logging.DEBUG) # Выставляем уровень логирования\n",
    "logger.debug(\"Debug message\")  # Не попадет в stdout, зато попадет в файл\n",
    "logger.debug(\"HI!\")\n",
    "logger.debug(\"Debug message!\")\n",
    "\n",
    "# теперь откройте ваш файл и посмотрите что там"
   ]
  },
  {
   "cell_type": "markdown",
   "metadata": {},
   "source": [
    "Другие полезные хендлеры из библиотеки `logging`:\n",
    "\n",
    "* `StreamHandler` - используется для логгирования в `stderr` и `stdout`\n",
    "* `RotatingFileHandler` - Работает вкак файл хендлер, но при этом если файл, в который пишет логгер, достигнет определенного размера, начнет писать в новый файл. Старый файл либо удалит, либо оставит как бекап. Число бэкапов настраивается. \n",
    "* `TimedRotatingFileHandler` - Работает как логгер выше, но файлы делятся не по размеру, а по времени записей\n",
    "* `NullHandler` - Используется чтобы заглушить какой-нибудь логгер"
   ]
  },
  {
   "cell_type": "markdown",
   "metadata": {},
   "source": [
    "###   Фильтрация    \n",
    "\n",
    "На логгеры и хендлеры можно вешать дополнительные фильтры"
   ]
  },
  {
   "cell_type": "code",
   "execution_count": 9,
   "metadata": {},
   "outputs": [
    {
     "name": "stdout",
     "output_type": "stream",
     "text": [
      "Not important warning\n"
     ]
    }
   ],
   "source": [
    "logger.warning(\"Not important warning\")\n",
    "\n",
    "class OnlyImportantFilter(logging.Filter):\n",
    "    def filter(self, record):\n",
    "        return not record.getMessage().startswith('Not important')\n",
    "\n",
    "logger.addFilter(OnlyImportantFilter())\n",
    "logger.warning(\"Not important warning\")"
   ]
  },
  {
   "cell_type": "markdown",
   "metadata": {},
   "source": [
    "###   Форматирование   \n",
    "\n",
    "Для хендлера можно выставить формат при помощи метода `setFormatter`"
   ]
  },
  {
   "cell_type": "code",
   "execution_count": 10,
   "metadata": {},
   "outputs": [],
   "source": [
    "format_example_logger = logging.getLogger('format_example')\n",
    "format_example_logger.setLevel(logging.DEBUG)\n",
    "\n",
    "ch = logging.StreamHandler()\n",
    "ch.setLevel(logging.DEBUG)\n",
    "\n",
    "formatter = logging.Formatter('%(asctime)s - %(name)s - %(levelname)s - %(message)s', '%m-%d %H:%M')\n",
    "\n",
    "ch.setFormatter(formatter)\n",
    "format_example_logger.addHandler(ch)"
   ]
  },
  {
   "cell_type": "code",
   "execution_count": 11,
   "metadata": {},
   "outputs": [
    {
     "name": "stderr",
     "output_type": "stream",
     "text": [
      "11-16 17:22 - format_example - DEBUG - debug message\n",
      "11-16 17:22 - format_example - INFO - info message\n",
      "11-16 17:22 - format_example - WARNING - warn message\n",
      "11-16 17:22 - format_example - ERROR - error message\n",
      "11-16 17:22 - format_example - CRITICAL - critical message\n"
     ]
    }
   ],
   "source": [
    "format_example_logger.debug('debug message')\n",
    "format_example_logger.info('info message')\n",
    "format_example_logger.warning('warn message')\n",
    "format_example_logger.error('error message')\n",
    "format_example_logger.critical('critical message')"
   ]
  },
  {
   "cell_type": "markdown",
   "metadata": {},
   "source": [
    "`Formatter` принимает три аргумента: `fmt`, `datefmt`, `style`.\n",
    "\n",
    "`fmt` - это шаблон записи. Если в `style` стоит %, форматирование произойдет при помощи %. Если `style` равен {, форматирование будет произведено через `.format()`. В `fmt` можно добавить любые атрибуты класса [LogRecord](https://docs.python.org/3/library/logging.html#logrecord-attributes)\n",
    "\n",
    "`datefmt` - шаблон для форматирования дат, по дефолту `%Y-%m-%d %H:%M:%S`"
   ]
  },
  {
   "cell_type": "markdown",
   "metadata": {
    "slideshow": {
     "slide_type": "slide"
    }
   },
   "source": [
    "##   Argparse  "
   ]
  },
  {
   "cell_type": "markdown",
   "metadata": {
    "slideshow": {
     "slide_type": "subslide"
    }
   },
   "source": [
    "Представим, что мы запускаем программу из командной строки, т.е. используем command-line interface (CLI). Супер подробно можно почитать [тут](https://docs.python.org/3/howto/argparse.html) и [тут](https://docs.python.org/3/library/argparse.html#module-argparse). Библиотека `argparse` позволяет нам получать аргументы из командной строки. Например, `example.py`:\n",
    "\n",
    "```python\n",
    "    import argparse\n",
    "    parser = argparse.ArgumentParser()\n",
    "    parser.add_argument(\"square\", type=int,\n",
    "                        help=\"display a square of a given number\")\n",
    "    parser.add_argument(\"-v\", \"--verbose\", action=\"store_true\",\n",
    "                        help=\"increase output verbosity\")\n",
    "    args = parser.parse_args()\n",
    "    answer = args.square ** 2\n",
    "    if args.verbose:\n",
    "        print(\"the square of {} equals {}\".format(args.square, answer))\n",
    "    else:\n",
    "        print(answer)\n",
    "```"
   ]
  },
  {
   "cell_type": "code",
   "execution_count": 65,
   "metadata": {
    "slideshow": {
     "slide_type": "subslide"
    }
   },
   "outputs": [
    {
     "name": "stdout",
     "output_type": "stream",
     "text": [
      "usage: example.py [-h] [-v] square\r\n",
      "example.py: error: the following arguments are required: square\r\n"
     ]
    }
   ],
   "source": [
    "!python3 example.py "
   ]
  },
  {
   "cell_type": "code",
   "execution_count": 33,
   "metadata": {},
   "outputs": [
    {
     "name": "stdout",
     "output_type": "stream",
     "text": [
      "10 to the power 2 equals 100\r\n"
     ]
    }
   ],
   "source": [
    "!python3 example2.py 10 2 -vv"
   ]
  },
  {
   "cell_type": "code",
   "execution_count": 45,
   "metadata": {},
   "outputs": [
    {
     "name": "stdout",
     "output_type": "stream",
     "text": [
      "The equation: (10.0)x^2 + (0)x + (3.0) = 0\r\n"
     ]
    }
   ],
   "source": [
    "!python3 example3.py x -a 10 -c 3 -vv"
   ]
  },
  {
   "cell_type": "code",
   "execution_count": 62,
   "metadata": {},
   "outputs": [
    {
     "name": "stdout",
     "output_type": "stream",
     "text": [
      "Namespace(char='x', coef=[1, 2, 3, 4], verbosity=2)\r\n",
      "The equation: (1)x^2 + (2)x + (3) = 4\r\n"
     ]
    }
   ],
   "source": [
    "!python3 example4.py -c 1 2 3 4 x -vv"
   ]
  }
 ],
 "metadata": {
  "celltoolbar": "Slideshow",
  "kernelspec": {
   "display_name": "Python 3",
   "language": "python",
   "name": "python3"
  },
  "language_info": {
   "codemirror_mode": {
    "name": "ipython",
    "version": 3
   },
   "file_extension": ".py",
   "mimetype": "text/x-python",
   "name": "python",
   "nbconvert_exporter": "python",
   "pygments_lexer": "ipython3",
   "version": "3.6.9"
  }
 },
 "nbformat": 4,
 "nbformat_minor": 4
}
