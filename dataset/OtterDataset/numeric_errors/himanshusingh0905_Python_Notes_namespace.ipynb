{
 "cells": [
  {
   "cell_type": "markdown",
   "metadata": {},
   "source": [
    "# Namespace and Decorators"
   ]
  },
  {
   "cell_type": "markdown",
   "metadata": {},
   "source": [
    "## Namespace : \n",
    "* `myName = \"david\"` :\n",
    "      *  Here, *myName* is simply a ***identifier*** and it's *value* = *\"david*\n",
    "\n",
    "* Now, Namespace is basically a dictionary in which `keys = Object names or identifiers` and `values = object itself`\n",
    "\n",
    "* There are four types of namespaces:\n",
    "1. Built-In\n",
    "2. Global\n",
    "3. Enclosing\n",
    "4. Local"
   ]
  },
  {
   "cell_type": "markdown",
   "metadata": {},
   "source": [
    "### The Built-In Namespace\n",
    "* The built-in namespace contains the names of all of Python’s built-in objects. \n",
    "* These are available at **all times** when Python is running."
   ]
  },
  {
   "cell_type": "code",
   "execution_count": 13,
   "metadata": {},
   "outputs": [
    {
     "name": "stdout",
     "output_type": "stream",
     "text": [
      "The built-in namespace contains the names of all of Python’s built-in objects : \n",
      "\n",
      "ArithmeticError, AssertionError, AttributeError, BaseException, BaseExceptionGroup, BlockingIOError, BrokenPipeError, BufferError, \n",
      "BytesWarning, ChildProcessError, ConnectionAbortedError, ConnectionError, ConnectionRefusedError, ConnectionResetError, DeprecationWarning, EOFError, \n",
      "Ellipsis, EncodingWarning, EnvironmentError, Exception, ExceptionGroup, False, FileExistsError, FileNotFoundError, \n",
      "FloatingPointError, FutureWarning, GeneratorExit, IOError, ImportError, ImportWarning, IndentationError, IndexError, \n",
      "InterruptedError, IsADirectoryError, KeyError, KeyboardInterrupt, LookupError, MemoryError, ModuleNotFoundError, NameError, \n",
      "None, NotADirectoryError, NotImplemented, NotImplementedError, OSError, OverflowError, PendingDeprecationWarning, PermissionError, \n",
      "ProcessLookupError, RecursionError, ReferenceError, ResourceWarning, RuntimeError, RuntimeWarning, StopAsyncIteration, StopIteration, \n",
      "SyntaxError, SyntaxWarning, SystemError, SystemExit, TabError, TimeoutError, True, TypeError, \n",
      "UnboundLocalError, UnicodeDecodeError, UnicodeEncodeError, UnicodeError, UnicodeTranslateError, UnicodeWarning, UserWarning, ValueError, \n",
      "Warning, WindowsError, ZeroDivisionError, __IPYTHON__, __build_class__, __debug__, __doc__, __import__, \n",
      "__loader__, __name__, __package__, __spec__, abs, aiter, all, anext, \n",
      "any, ascii, bin, bool, breakpoint, bytearray, bytes, callable, \n",
      "chr, classmethod, compile, complex, copyright, credits, delattr, dict, \n",
      "dir, display, divmod, enumerate, eval, exec, execfile, filter, \n",
      "float, format, frozenset, get_ipython, getattr, globals, hasattr, hash, \n",
      "help, hex, id, input, int, isinstance, issubclass, iter, \n",
      "len, license, list, locals, map, max, memoryview, min, \n",
      "next, object, oct, open, ord, pow, print, property, \n",
      "range, repr, reversed, round, runfile, set, setattr, slice, \n",
      "zip\n"
     ]
    }
   ],
   "source": [
    "# Let's print all builtins:\n",
    "builtinNamespaces =  dir(__builtins__)\n",
    "\n",
    "print(\"The built-in namespace contains the names of all of Python’s built-in objects : \\n\")\n",
    "\n",
    "for r in range(8,160,8):\n",
    "    for c in range(r-8,r):\n",
    "        print(f\"{builtinNamespaces[c]},\",end=\" \")\n",
    "    print()\n",
    "print(builtinNamespaces[160])       "
   ]
  },
  {
   "cell_type": "markdown",
   "metadata": {},
   "source": [
    "<img src=\"images\\green-divider.png\"/>"
   ]
  },
  {
   "cell_type": "markdown",
   "metadata": {},
   "source": [
    "## Global namespaces\n",
    "* It contains any *names or identifiers* defined at the level of the main program. \n",
    "* It remains in existence until the interpreter terminates.\n",
    "\n",
    "## Local namespaces:\n",
    "* Identifiers inside a functions are in local namespace.\n",
    "\n",
    "## Enclosing namespaces\n",
    "* The difference between **Local** and **Enclosing** Namespace is that, Enclosing namespace is the namespace of function inside a function.\n",
    "\n",
    "*Let's see all with an example:*\n"
   ]
  },
  {
   "cell_type": "code",
   "execution_count": 15,
   "metadata": {},
   "outputs": [
    {
     "name": "stdout",
     "output_type": "stream",
     "text": [
      "11\n",
      "30\n"
     ]
    }
   ],
   "source": [
    "# Global \n",
    "myName = \"Mike Ross\"\n",
    "\n",
    "def fun(a,b):\n",
    "    # Enclosing : a, b\n",
    "    print(a + b)\n",
    "\n",
    "    def NestedFun(x,y):\n",
    "        # Local : x, y\n",
    "        print( x*y )\n",
    "\n",
    "    NestedFun(a,b)\n",
    "\n",
    "p = 5\n",
    "q = 6\n",
    "\n",
    "fun(p,q)\n"
   ]
  },
  {
   "cell_type": "markdown",
   "metadata": {},
   "source": [
    "<img src=\"images\\namespaces.png\">"
   ]
  },
  {
   "cell_type": "markdown",
   "metadata": {},
   "source": [
    "#### From above image it is clear that, Here there are 3 namesapces:\n",
    "* Global Namespace contains 4 identifiers :\n",
    "  *  myName\n",
    "  *  fun\n",
    "  *  p\n",
    "  *  q\n",
    "* Now as **fun()** is enclosing the **Nestedfun()**, so **fun()** will have ***Enclosing Namespace*** and **NestedFun()** will have ***local namespace***\n",
    "\n",
    "*  Enclosing Namespace contains 3 identifiers:\n",
    "   * a\n",
    "   * b\n",
    "   * NestedFun\n",
    "\n",
    "* Similarly, Local namesapce contains 2 identifiers:\n",
    "   * x\n",
    "   * y"
   ]
  },
  {
   "cell_type": "markdown",
   "metadata": {},
   "source": [
    "<img src=\"images\\purple-divider.png\"/>"
   ]
  },
  {
   "cell_type": "code",
   "execution_count": null,
   "metadata": {},
   "outputs": [],
   "source": [
    "x = 45\n",
    "def fun():\n",
    "    x = 30\n",
    "fun()"
   ]
  },
  {
   "cell_type": "markdown",
   "metadata": {},
   "source": [
    "\n",
    "* In above program, 'x' exists in several namespaces: \n",
    "* Now when you refer to the name x in your code, **How does Python know which one you mean?**\n",
    "\n",
    "There comes role of **scopes.**\n",
    "\n",
    "## Scopes:\n",
    "* Scope refers to the region of a program where a 'particular variable' or function is accessible.\n",
    "* The scope of a identifier is the region of a program in which that identifier has meaning.\n",
    "\n",
    "* Types of **Scopes**:\n",
    "  1. Local\n",
    "  2. Enclosing\n",
    "  3. Global\n",
    "  4. Builtin\n",
    "\n",
    "### LEGB Rule: \n",
    "* If your code refering to the name x, then Python searches for x in the above namespaceo order.\n",
    "* Order :  Local -> Enclosing -> global -> Builtin\n",
    "\n"
   ]
  },
  {
   "cell_type": "markdown",
   "metadata": {},
   "source": [
    "<img src=\"images\\purple-divider.png\"/>"
   ]
  },
  {
   "cell_type": "markdown",
   "metadata": {},
   "source": [
    "# Python Namespace Dictionaries\n",
    "* Earlier we said that, You can think of namepaces as a dictionary. \n",
    "* Infact, Global and local namepaces works like above but *builtin* doesn't.\n",
    "* The built-in namespace doesn’t behave like a dictionary. Python implements it as a **module**.\n",
    "* Using **globals()** and **locals()** we can access global and local namespace dictionaries.\n",
    "\n",
    "*For demonstration look at namespace.py file :* "
   ]
  },
  {
   "cell_type": "markdown",
   "metadata": {},
   "source": [
    "# global and local keyword:\n",
    "* How do we modify global variable inside a local scope?\n",
    "* How do we modify local variable inside enclosing scope?"
   ]
  },
  {
   "cell_type": "markdown",
   "metadata": {},
   "source": []
  },
  {
   "cell_type": "code",
   "execution_count": null,
   "metadata": {},
   "outputs": [],
   "source": [
    "\n"
   ]
  },
  {
   "cell_type": "markdown",
   "metadata": {},
   "source": [
    "# Decorators:\n",
    "* It's a function which takes another function as input, add some functionality (or Decorations ) to it. then returns it.\n",
    "\n",
    "\n",
    "#### Python treats functions as *first-class objects*: \n",
    "* This means that functions can be passed around and used as arguments, just like any other object like str, int, float, list, and so on. \n",
    "* And this is the reason that decorators are possible in python.\n",
    "\n",
    "**This is an important distinction that’s crucial for how functions work as first-class objects.**\n",
    "* A function name without parentheses is a reference to a function, \n",
    "* while a function name with trailing parentheses calls the function and refers to its return value."
   ]
  },
  {
   "cell_type": "code",
   "execution_count": 20,
   "metadata": {},
   "outputs": [
    {
     "name": "stdout",
     "output_type": "stream",
     "text": [
      "0.5\n",
      "2.0\n"
     ]
    }
   ],
   "source": [
    "# Example: Here, In addition to division I want to get answer > 1 always. \n",
    "def div(a,b):\n",
    "    print( a / b) \n",
    "\n",
    "div(2,4)\n",
    "div(4,2)"
   ]
  },
  {
   "cell_type": "markdown",
   "metadata": {},
   "source": [
    "* Here, In div() I want to get answer > 1 always. So how can I add such behaviour in above function: \n",
    "  1. One way I have is to add `if-else` conditions in above code."
   ]
  },
  {
   "cell_type": "code",
   "execution_count": 21,
   "metadata": {},
   "outputs": [
    {
     "name": "stdout",
     "output_type": "stream",
     "text": [
      "2.0\n"
     ]
    }
   ],
   "source": [
    "def div(a,b):\n",
    "    if a < b:\n",
    "        a,b = b,a   \n",
    "    print(a/b)\n",
    "\n",
    "div(2,4)"
   ]
  },
  {
   "cell_type": "markdown",
   "metadata": {},
   "source": [
    "**Now If I ask you to do the same without accessing the div() function (As here you're accessing div() first, then making changes inside it ).**\n",
    "* How can you achieve the same without actually making changes inside div() function.\n",
    "\n",
    "*There comes role of **Decorators**:*\n"
   ]
  },
  {
   "cell_type": "code",
   "execution_count": 12,
   "metadata": {},
   "outputs": [
    {
     "name": "stdout",
     "output_type": "stream",
     "text": [
      "2.0\n"
     ]
    }
   ],
   "source": [
    "def myDecorator(func):\n",
    "    def wrapper(*args):\n",
    "        a,b = args\n",
    "        if a < b:\n",
    "            a,b = b,a  \n",
    "        func(a,b)\n",
    "    return wrapper\n",
    "    print(a)\n",
    "\n",
    "@myDecorator \n",
    "# div = myDecorator(div)         <-  myDecorator() returns wrapper\n",
    "def div(a,b):\n",
    "    print(a/b)\n",
    "\n",
    "div(2,4)\n",
    "\n",
    "\n"
   ]
  },
  {
   "cell_type": "markdown",
   "metadata": {},
   "source": []
  },
  {
   "cell_type": "code",
   "execution_count": null,
   "metadata": {},
   "outputs": [],
   "source": [
    "def repeat(num_times):\n",
    "    def decorator_repeat(func):\n",
    "        def wrapper(*args, **kwargs):\n",
    "            for _ in range(num_times):\n",
    "                func(*args, **kwargs)\n",
    "        return wrapper\n",
    "    return decorator_repeat\n",
    "\n",
    "@repeat(num_times=3)\n",
    "def greet(name):\n",
    "    print(f\"Hello {name}\")\n",
    "\n",
    "greet(\"Alice\")\n"
   ]
  },
  {
   "cell_type": "markdown",
   "metadata": {},
   "source": []
  }
 ],
 "metadata": {
  "kernelspec": {
   "display_name": "Python 3",
   "language": "python",
   "name": "python3"
  },
  "language_info": {
   "codemirror_mode": {
    "name": "ipython",
    "version": 3
   },
   "file_extension": ".py",
   "mimetype": "text/x-python",
   "name": "python",
   "nbconvert_exporter": "python",
   "pygments_lexer": "ipython3",
   "version": "3.10.12"
  }
 },
 "nbformat": 4,
 "nbformat_minor": 2
}
