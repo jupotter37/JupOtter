{
  "cells": [
    {
      "cell_type": "code",
      "execution_count": null,
      "metadata": {
        "colab": {
          "base_uri": "https://localhost:8080/"
        },
        "id": "DR3UTB-wvwPf",
        "outputId": "d11ae12a-12c9-4e30-a78f-8e7cf1c70dee"
      },
      "outputs": [
        {
          "name": "stdout",
          "output_type": "stream",
          "text": [
            "enter the 1st number10\n",
            "enter the 2nd number5\n",
            "division is: 2.0\n",
            "addition : 15\n"
          ]
        }
      ],
      "source": [
        "a=int(input(\"enter the 1st number\"))\n",
        "b=int(input(\"enter the 2nd number\"))\n",
        "c=a/b\n",
        "print(\"division is:\",c)\n",
        "d=a+b\n",
        "print(\"addition :\",d)"
      ]
    },
    {
      "cell_type": "code",
      "execution_count": null,
      "metadata": {
        "colab": {
          "base_uri": "https://localhost:8080/",
          "height": 245
        },
        "id": "9rY51AgnyHgs",
        "outputId": "6222dcd4-bf98-44c0-c2b7-1ac3f92d15c0"
      },
      "outputs": [
        {
          "name": "stdout",
          "output_type": "stream",
          "text": [
            "enter the 1st number10\n",
            "enter the 2nd number0\n"
          ]
        },
        {
          "ename": "ZeroDivisionError",
          "evalue": "division by zero",
          "output_type": "error",
          "traceback": [
            "\u001b[0;31m---------------------------------------------------------------------------\u001b[0m",
            "\u001b[0;31mZeroDivisionError\u001b[0m                         Traceback (most recent call last)",
            "\u001b[0;32m<ipython-input-2-6b826efd13dc>\u001b[0m in \u001b[0;36m<cell line: 3>\u001b[0;34m()\u001b[0m\n\u001b[1;32m      1\u001b[0m \u001b[0ma\u001b[0m\u001b[0;34m=\u001b[0m\u001b[0mint\u001b[0m\u001b[0;34m(\u001b[0m\u001b[0minput\u001b[0m\u001b[0;34m(\u001b[0m\u001b[0;34m\"enter the 1st number\"\u001b[0m\u001b[0;34m)\u001b[0m\u001b[0;34m)\u001b[0m\u001b[0;34m\u001b[0m\u001b[0;34m\u001b[0m\u001b[0m\n\u001b[1;32m      2\u001b[0m \u001b[0mb\u001b[0m\u001b[0;34m=\u001b[0m\u001b[0mint\u001b[0m\u001b[0;34m(\u001b[0m\u001b[0minput\u001b[0m\u001b[0;34m(\u001b[0m\u001b[0;34m\"enter the 2nd number\"\u001b[0m\u001b[0;34m)\u001b[0m\u001b[0;34m)\u001b[0m\u001b[0;34m\u001b[0m\u001b[0;34m\u001b[0m\u001b[0m\n\u001b[0;32m----> 3\u001b[0;31m \u001b[0mc\u001b[0m\u001b[0;34m=\u001b[0m\u001b[0ma\u001b[0m\u001b[0;34m/\u001b[0m\u001b[0mb\u001b[0m\u001b[0;34m\u001b[0m\u001b[0;34m\u001b[0m\u001b[0m\n\u001b[0m\u001b[1;32m      4\u001b[0m \u001b[0mprint\u001b[0m\u001b[0;34m(\u001b[0m\u001b[0;34m\"division is:\"\u001b[0m\u001b[0;34m,\u001b[0m\u001b[0mc\u001b[0m\u001b[0;34m)\u001b[0m\u001b[0;34m\u001b[0m\u001b[0;34m\u001b[0m\u001b[0m\n\u001b[1;32m      5\u001b[0m \u001b[0md\u001b[0m\u001b[0;34m=\u001b[0m\u001b[0ma\u001b[0m\u001b[0;34m+\u001b[0m\u001b[0mb\u001b[0m\u001b[0;34m\u001b[0m\u001b[0;34m\u001b[0m\u001b[0m\n",
            "\u001b[0;31mZeroDivisionError\u001b[0m: division by zero"
          ]
        }
      ],
      "source": [
        "#runtime error\n",
        "a=int(input(\"enter the 1st number\"))\n",
        "b=int(input(\"enter the 2nd number\"))\n",
        "c=a/b\n",
        "print(\"division is:\",c)\n",
        "d=a+b\n",
        "print(\"addition :\",d)"
      ]
    },
    {
      "cell_type": "code",
      "execution_count": null,
      "metadata": {
        "colab": {
          "base_uri": "https://localhost:8080/",
          "height": 245
        },
        "id": "TqFDSAyyy8YX",
        "outputId": "f79ba886-0350-44ca-b920-a6f6ed45333b"
      },
      "outputs": [
        {
          "name": "stdout",
          "output_type": "stream",
          "text": [
            "enter the 1st number10\n",
            "enter the 2nd number2a\n"
          ]
        },
        {
          "ename": "ValueError",
          "evalue": "invalid literal for int() with base 10: '2a'",
          "output_type": "error",
          "traceback": [
            "\u001b[0;31m---------------------------------------------------------------------------\u001b[0m",
            "\u001b[0;31mValueError\u001b[0m                                Traceback (most recent call last)",
            "\u001b[0;32m<ipython-input-3-6b826efd13dc>\u001b[0m in \u001b[0;36m<cell line: 2>\u001b[0;34m()\u001b[0m\n\u001b[1;32m      1\u001b[0m \u001b[0ma\u001b[0m\u001b[0;34m=\u001b[0m\u001b[0mint\u001b[0m\u001b[0;34m(\u001b[0m\u001b[0minput\u001b[0m\u001b[0;34m(\u001b[0m\u001b[0;34m\"enter the 1st number\"\u001b[0m\u001b[0;34m)\u001b[0m\u001b[0;34m)\u001b[0m\u001b[0;34m\u001b[0m\u001b[0;34m\u001b[0m\u001b[0m\n\u001b[0;32m----> 2\u001b[0;31m \u001b[0mb\u001b[0m\u001b[0;34m=\u001b[0m\u001b[0mint\u001b[0m\u001b[0;34m(\u001b[0m\u001b[0minput\u001b[0m\u001b[0;34m(\u001b[0m\u001b[0;34m\"enter the 2nd number\"\u001b[0m\u001b[0;34m)\u001b[0m\u001b[0;34m)\u001b[0m\u001b[0;34m\u001b[0m\u001b[0;34m\u001b[0m\u001b[0m\n\u001b[0m\u001b[1;32m      3\u001b[0m \u001b[0mc\u001b[0m\u001b[0;34m=\u001b[0m\u001b[0ma\u001b[0m\u001b[0;34m/\u001b[0m\u001b[0mb\u001b[0m\u001b[0;34m\u001b[0m\u001b[0;34m\u001b[0m\u001b[0m\n\u001b[1;32m      4\u001b[0m \u001b[0mprint\u001b[0m\u001b[0;34m(\u001b[0m\u001b[0;34m\"division is:\"\u001b[0m\u001b[0;34m,\u001b[0m\u001b[0mc\u001b[0m\u001b[0;34m)\u001b[0m\u001b[0;34m\u001b[0m\u001b[0;34m\u001b[0m\u001b[0m\n\u001b[1;32m      5\u001b[0m \u001b[0md\u001b[0m\u001b[0;34m=\u001b[0m\u001b[0ma\u001b[0m\u001b[0;34m+\u001b[0m\u001b[0mb\u001b[0m\u001b[0;34m\u001b[0m\u001b[0;34m\u001b[0m\u001b[0m\n",
            "\u001b[0;31mValueError\u001b[0m: invalid literal for int() with base 10: '2a'"
          ]
        }
      ],
      "source": [
        "a=int(input(\"enter the 1st number\"))\n",
        "b=int(input(\"enter the 2nd number\"))\n",
        "c=a/b\n",
        "print(\"division is:\",c)\n",
        "d=a+b\n",
        "print(\"addition :\",d)"
      ]
    },
    {
      "cell_type": "code",
      "execution_count": null,
      "metadata": {
        "colab": {
          "base_uri": "https://localhost:8080/"
        },
        "id": "bZdWvw0dzGMC",
        "outputId": "c485d80f-a509-4bdf-fb35-14efd92e35df"
      },
      "outputs": [
        {
          "name": "stdout",
          "output_type": "stream",
          "text": [
            "enter the 1st number10\n",
            "enter the 2nd number0\n",
            "b is should not zero\n"
          ]
        }
      ],
      "source": [
        "try:\n",
        "\n",
        "    a=int(input(\"enter the 1st number\"))\n",
        "    b=int(input(\"enter the 2nd number\"))\n",
        "    c=a/b\n",
        "    print(\"division is:\",c)\n",
        "    d=a+b\n",
        "    print(\"addition :\",d)\n",
        "except:\n",
        "    print(\"b is should not zero\")\n"
      ]
    },
    {
      "cell_type": "code",
      "execution_count": null,
      "metadata": {
        "colab": {
          "base_uri": "https://localhost:8080/"
        },
        "id": "fSU00LW92iZU",
        "outputId": "c7697f76-b9bf-4576-a158-09a9c40765e3"
      },
      "outputs": [
        {
          "name": "stdout",
          "output_type": "stream",
          "text": [
            "enter the 1st number10\n",
            "enter the 2nd number0\n",
            "b is should not zero\n",
            "addition : 10\n"
          ]
        }
      ],
      "source": [
        "try:\n",
        "\n",
        "    a=int(input(\"enter the 1st number\"))\n",
        "    b=int(input(\"enter the 2nd number\"))\n",
        "    c=a/b\n",
        "    print(\"division is:\",c)\n",
        "\n",
        "except:\n",
        "    print(\"b is should not zero\")\n",
        "d=a+b\n",
        "print(\"addition :\",d)"
      ]
    },
    {
      "cell_type": "code",
      "execution_count": null,
      "metadata": {
        "colab": {
          "base_uri": "https://localhost:8080/"
        },
        "id": "arqxeosO3BSu",
        "outputId": "10769650-a08f-4251-8abb-c7c9668a7a55"
      },
      "outputs": [
        {
          "name": "stdout",
          "output_type": "stream",
          "text": [
            "enter the 1st number20\n",
            "enter the 2nd number0\n",
            "b is should not zero\n",
            "addition : 20\n"
          ]
        }
      ],
      "source": [
        "try:\n",
        "\n",
        "    a=int(input(\"enter the 1st number\"))\n",
        "    b=int(input(\"enter the 2nd number\"))\n",
        "    c=a/b\n",
        "    print(\"division is:\",c)\n",
        "\n",
        "except ZeroDivisionError:\n",
        "    print(\"b is should not zero\")\n",
        "d=a+b\n",
        "print(\"addition :\",d)"
      ]
    },
    {
      "cell_type": "code",
      "execution_count": null,
      "metadata": {
        "colab": {
          "base_uri": "https://localhost:8080/",
          "height": 245
        },
        "id": "EYa0IbGe5mro",
        "outputId": "7e0e485c-0bf4-45d0-c661-16da50e44ff7"
      },
      "outputs": [
        {
          "name": "stdout",
          "output_type": "stream",
          "text": [
            "enter the 1st number10\n",
            "enter the 2nd number2a\n"
          ]
        },
        {
          "ename": "ValueError",
          "evalue": "invalid literal for int() with base 10: '2a'",
          "output_type": "error",
          "traceback": [
            "\u001b[0;31m---------------------------------------------------------------------------\u001b[0m",
            "\u001b[0;31mValueError\u001b[0m                                Traceback (most recent call last)",
            "\u001b[0;32m<ipython-input-11-4e35ca60a0c8>\u001b[0m in \u001b[0;36m<cell line: 1>\u001b[0;34m()\u001b[0m\n\u001b[1;32m      2\u001b[0m \u001b[0;34m\u001b[0m\u001b[0m\n\u001b[1;32m      3\u001b[0m     \u001b[0ma\u001b[0m\u001b[0;34m=\u001b[0m\u001b[0mint\u001b[0m\u001b[0;34m(\u001b[0m\u001b[0minput\u001b[0m\u001b[0;34m(\u001b[0m\u001b[0;34m\"enter the 1st number\"\u001b[0m\u001b[0;34m)\u001b[0m\u001b[0;34m)\u001b[0m\u001b[0;34m\u001b[0m\u001b[0;34m\u001b[0m\u001b[0m\n\u001b[0;32m----> 4\u001b[0;31m     \u001b[0mb\u001b[0m\u001b[0;34m=\u001b[0m\u001b[0mint\u001b[0m\u001b[0;34m(\u001b[0m\u001b[0minput\u001b[0m\u001b[0;34m(\u001b[0m\u001b[0;34m\"enter the 2nd number\"\u001b[0m\u001b[0;34m)\u001b[0m\u001b[0;34m)\u001b[0m\u001b[0;34m\u001b[0m\u001b[0;34m\u001b[0m\u001b[0m\n\u001b[0m\u001b[1;32m      5\u001b[0m     \u001b[0mc\u001b[0m\u001b[0;34m=\u001b[0m\u001b[0ma\u001b[0m\u001b[0;34m/\u001b[0m\u001b[0mb\u001b[0m\u001b[0;34m\u001b[0m\u001b[0;34m\u001b[0m\u001b[0m\n\u001b[1;32m      6\u001b[0m     \u001b[0mprint\u001b[0m\u001b[0;34m(\u001b[0m\u001b[0;34m\"division is:\"\u001b[0m\u001b[0;34m,\u001b[0m\u001b[0mc\u001b[0m\u001b[0;34m)\u001b[0m\u001b[0;34m\u001b[0m\u001b[0;34m\u001b[0m\u001b[0m\n",
            "\u001b[0;31mValueError\u001b[0m: invalid literal for int() with base 10: '2a'"
          ]
        }
      ],
      "source": [
        "try:\n",
        "\n",
        "    a=int(input(\"enter the 1st number\"))\n",
        "    b=int(input(\"enter the 2nd number\"))\n",
        "    c=a/b\n",
        "    print(\"division is:\",c)\n",
        "\n",
        "except ZeroDivisionError:\n",
        "    print(\"b is should not zero\")\n",
        "d=a+b\n",
        "print(\"addition :\",d)"
      ]
    },
    {
      "cell_type": "code",
      "execution_count": null,
      "metadata": {
        "colab": {
          "base_uri": "https://localhost:8080/"
        },
        "id": "FkC24tpU6Vm_",
        "outputId": "cfb3c397-73e5-4993-8ca2-1e345de48d9d"
      },
      "outputs": [
        {
          "name": "stdout",
          "output_type": "stream",
          "text": [
            "enter the 1st number10\n",
            "enter the 2nd number2a\n",
            "b is should be integer\n",
            "addition : 10\n"
          ]
        }
      ],
      "source": [
        "try:\n",
        "\n",
        "    a=int(input(\"enter the 1st number\"))\n",
        "    b=int(input(\"enter the 2nd number\"))\n",
        "    c=a/b\n",
        "    print(\"division is:\",c)\n",
        "\n",
        "except ValueError:\n",
        "    print(\"b is should be integer\")\n",
        "d=a+b\n",
        "print(\"addition :\",d)"
      ]
    },
    {
      "cell_type": "code",
      "execution_count": null,
      "metadata": {
        "colab": {
          "base_uri": "https://localhost:8080/"
        },
        "id": "elb5kXDN6kYH",
        "outputId": "4cf0ca27-b29f-473d-e9a4-942134cbeb3c"
      },
      "outputs": [
        {
          "name": "stdout",
          "output_type": "stream",
          "text": [
            "enter the 1st number10\n",
            "enter the 2nd number2a\n",
            "b  should be integer\n",
            "addition : 10\n"
          ]
        }
      ],
      "source": [
        "try:\n",
        "\n",
        "    a=int(input(\"enter the 1st number\"))\n",
        "    b=int(input(\"enter the 2nd number\"))\n",
        "    c=a/b\n",
        "    print(\"division is:\",c)\n",
        "except ZeroDivisionError:\n",
        "    print(\"b should not be zero\")\n",
        "\n",
        "except ValueError:\n",
        "    print(\"b  should be integer\")\n",
        "d=a+b\n",
        "print(\"addition :\",d)"
      ]
    },
    {
      "cell_type": "code",
      "execution_count": null,
      "metadata": {
        "colab": {
          "base_uri": "https://localhost:8080/",
          "height": 158
        },
        "id": "uqhAr-u97XH0",
        "outputId": "157eb267-6e92-4efe-90c6-fa8a519392ea"
      },
      "outputs": [
        {
          "ename": "OverflowError",
          "evalue": "math range error",
          "output_type": "error",
          "traceback": [
            "\u001b[0;31m---------------------------------------------------------------------------\u001b[0m",
            "\u001b[0;31mOverflowError\u001b[0m                             Traceback (most recent call last)",
            "\u001b[0;32m<ipython-input-16-53bcde2263bc>\u001b[0m in \u001b[0;36m<cell line: 2>\u001b[0;34m()\u001b[0m\n\u001b[1;32m      1\u001b[0m \u001b[0;32mimport\u001b[0m \u001b[0mmath\u001b[0m\u001b[0;34m\u001b[0m\u001b[0;34m\u001b[0m\u001b[0m\n\u001b[0;32m----> 2\u001b[0;31m \u001b[0mmath\u001b[0m\u001b[0;34m.\u001b[0m\u001b[0mexp\u001b[0m\u001b[0;34m(\u001b[0m\u001b[0;36m2000\u001b[0m\u001b[0;34m)\u001b[0m\u001b[0;34m\u001b[0m\u001b[0;34m\u001b[0m\u001b[0m\n\u001b[0m",
            "\u001b[0;31mOverflowError\u001b[0m: math range error"
          ]
        }
      ],
      "source": [
        "import math\n",
        "math.exp(2000)"
      ]
    },
    {
      "cell_type": "code",
      "execution_count": null,
      "metadata": {
        "colab": {
          "base_uri": "https://localhost:8080/"
        },
        "id": "x5Vic2mV-NTg",
        "outputId": "01b496e7-9e41-44a0-e8df-6d00853bfc51"
      },
      "outputs": [
        {
          "name": "stdout",
          "output_type": "stream",
          "text": [
            "zero division error occured\n"
          ]
        }
      ],
      "source": [
        "import math\n",
        "try:\n",
        "  x=10/0\n",
        "  print(x)\n",
        "  ans=math.exp(2000)\n",
        "  print(ans)\n",
        "except ZeroDivisionError:\n",
        "  print(\"zero division error occured\")\n",
        "except ArithmeticError:\n",
        "  print(\"arithmetic error occured\")\n"
      ]
    },
    {
      "cell_type": "code",
      "execution_count": null,
      "metadata": {
        "colab": {
          "base_uri": "https://localhost:8080/"
        },
        "id": "UdHQ6e1r-9ad",
        "outputId": "85969d20-dbcc-4200-d2db-ca0e6756ba0b"
      },
      "outputs": [
        {
          "name": "stdout",
          "output_type": "stream",
          "text": [
            "arithmetic error occured\n"
          ]
        }
      ],
      "source": [
        "import math\n",
        "try:\n",
        "  x=10/0\n",
        "  print(x)\n",
        "  ans=math.exp(2000)\n",
        "  print(ans)\n",
        "\n",
        "except ArithmeticError:\n",
        "  print(\"arithmetic error occured\")\n",
        "except ZeroDivisionError:\n",
        "  print(\"zero division error occured\")\n"
      ]
    },
    {
      "cell_type": "code",
      "execution_count": null,
      "metadata": {
        "colab": {
          "base_uri": "https://localhost:8080/"
        },
        "id": "vfDHi2Cq_J1o",
        "outputId": "6da240d1-ff11-4c87-9de8-cefe7f4ac514"
      },
      "outputs": [
        {
          "name": "stdout",
          "output_type": "stream",
          "text": [
            "2.0\n",
            "arithmetic error occured\n"
          ]
        }
      ],
      "source": [
        "import math\n",
        "try:\n",
        "  x=10/5\n",
        "  print(x)\n",
        "  ans=math.exp(2000)\n",
        "  print(ans)\n",
        "\n",
        "except ArithmeticError:\n",
        "  print(\"arithmetic error occured\")\n",
        "except ZeroDivisionError:\n",
        "  print(\"zero division error occured\")\n"
      ]
    },
    {
      "cell_type": "code",
      "execution_count": null,
      "metadata": {
        "colab": {
          "base_uri": "https://localhost:8080/"
        },
        "id": "BoFC2MXA_r_O",
        "outputId": "248296da-4029-497b-e3aa-7d204a598b57"
      },
      "outputs": [
        {
          "name": "stdout",
          "output_type": "stream",
          "text": [
            "enter the number10\n",
            "enter the numbera\n",
            "b should be integer \n",
            "enter the number10\n",
            "enter the number20\n",
            "division= 0.5\n"
          ]
        }
      ],
      "source": [
        "while True:\n",
        "  try:\n",
        "    a=int(input(\"enter the number\"))\n",
        "    b=int(input(\"enter the number\"))\n",
        "    c=a/b\n",
        "    print(\"division=\",c)\n",
        "    break\n",
        "  except ValueError:\n",
        "    print(\"b should be integer \")\n",
        "  except ZeroDivisionError:\n",
        "    print(\"b should not be zero\")"
      ]
    },
    {
      "cell_type": "code",
      "execution_count": null,
      "metadata": {
        "colab": {
          "base_uri": "https://localhost:8080/"
        },
        "id": "Bp5mDIROD7QG",
        "outputId": "f04878f0-03d5-4a41-9042-0320509a7583"
      },
      "outputs": [
        {
          "output_type": "stream",
          "name": "stdout",
          "text": [
            "enter the number10\n",
            "enter the number2\n",
            "division= 5.0\n"
          ]
        }
      ],
      "source": [
        "while True:\n",
        "  try:\n",
        "    a=int(input(\"enter the number\"))\n",
        "    b=int(input(\"enter the number\"))\n",
        "    c=a/b\n",
        "    print(\"division=\",c)\n",
        "    break\n",
        "  except (ValueError,ZeroDivisionError) as e:\n",
        "    print(e)\n"
      ]
    },
    {
      "cell_type": "code",
      "execution_count": null,
      "metadata": {
        "id": "FQK7DOIoHTiO",
        "colab": {
          "base_uri": "https://localhost:8080/"
        },
        "outputId": "fcd12f1e-10e7-4609-f374-1dd1e3b34e70"
      },
      "outputs": [
        {
          "output_type": "stream",
          "name": "stdout",
          "text": [
            "enter the number10\n",
            "enter the number2a\n",
            "b value should not zero or string\n",
            "enter the number10\n",
            "enter the number20\n",
            "division= 0.5\n"
          ]
        }
      ],
      "source": [
        "while True:\n",
        "  try:\n",
        "    a=int(input(\"enter the number\"))\n",
        "    b=int(input(\"enter the number\"))\n",
        "    c=a/b\n",
        "    print(\"division=\",c)\n",
        "    break\n",
        "  except (ValueError,ZeroDivisionError) as e:\n",
        "    print(\"b value should not zero or string\")\n"
      ]
    },
    {
      "cell_type": "code",
      "source": [
        "import sys"
      ],
      "metadata": {
        "id": "yxu45LbBIawS"
      },
      "execution_count": null,
      "outputs": []
    },
    {
      "cell_type": "code",
      "source": [
        "dir(sys)"
      ],
      "metadata": {
        "colab": {
          "base_uri": "https://localhost:8080/"
        },
        "id": "nDcy9jX7I6mJ",
        "outputId": "88f4b8e0-4ca4-42f3-d355-8904a2bd58b6"
      },
      "execution_count": null,
      "outputs": [
        {
          "output_type": "execute_result",
          "data": {
            "text/plain": [
              "['__breakpointhook__',\n",
              " '__displayhook__',\n",
              " '__doc__',\n",
              " '__excepthook__',\n",
              " '__interactivehook__',\n",
              " '__loader__',\n",
              " '__name__',\n",
              " '__package__',\n",
              " '__spec__',\n",
              " '__stderr__',\n",
              " '__stdin__',\n",
              " '__stdout__',\n",
              " '__unraisablehook__',\n",
              " '_base_executable',\n",
              " '_clear_type_cache',\n",
              " '_current_exceptions',\n",
              " '_current_frames',\n",
              " '_deactivate_opcache',\n",
              " '_debugmallocstats',\n",
              " '_framework',\n",
              " '_getframe',\n",
              " '_git',\n",
              " '_home',\n",
              " '_xoptions',\n",
              " 'abiflags',\n",
              " 'addaudithook',\n",
              " 'api_version',\n",
              " 'argv',\n",
              " 'audit',\n",
              " 'base_exec_prefix',\n",
              " 'base_prefix',\n",
              " 'breakpointhook',\n",
              " 'builtin_module_names',\n",
              " 'byteorder',\n",
              " 'call_tracing',\n",
              " 'copyright',\n",
              " 'displayhook',\n",
              " 'dont_write_bytecode',\n",
              " 'exc_info',\n",
              " 'excepthook',\n",
              " 'exec_prefix',\n",
              " 'executable',\n",
              " 'exit',\n",
              " 'flags',\n",
              " 'float_info',\n",
              " 'float_repr_style',\n",
              " 'get_asyncgen_hooks',\n",
              " 'get_coroutine_origin_tracking_depth',\n",
              " 'get_int_max_str_digits',\n",
              " 'getallocatedblocks',\n",
              " 'getdefaultencoding',\n",
              " 'getdlopenflags',\n",
              " 'getfilesystemencodeerrors',\n",
              " 'getfilesystemencoding',\n",
              " 'getprofile',\n",
              " 'getrecursionlimit',\n",
              " 'getrefcount',\n",
              " 'getsizeof',\n",
              " 'getswitchinterval',\n",
              " 'gettrace',\n",
              " 'hash_info',\n",
              " 'hexversion',\n",
              " 'implementation',\n",
              " 'int_info',\n",
              " 'intern',\n",
              " 'is_finalizing',\n",
              " 'last_traceback',\n",
              " 'last_type',\n",
              " 'last_value',\n",
              " 'maxsize',\n",
              " 'maxunicode',\n",
              " 'meta_path',\n",
              " 'modules',\n",
              " 'orig_argv',\n",
              " 'path',\n",
              " 'path_hooks',\n",
              " 'path_importer_cache',\n",
              " 'platform',\n",
              " 'platlibdir',\n",
              " 'prefix',\n",
              " 'ps1',\n",
              " 'ps2',\n",
              " 'ps3',\n",
              " 'pycache_prefix',\n",
              " 'set_asyncgen_hooks',\n",
              " 'set_coroutine_origin_tracking_depth',\n",
              " 'set_int_max_str_digits',\n",
              " 'setdlopenflags',\n",
              " 'setprofile',\n",
              " 'setrecursionlimit',\n",
              " 'setswitchinterval',\n",
              " 'settrace',\n",
              " 'stderr',\n",
              " 'stdin',\n",
              " 'stdlib_module_names',\n",
              " 'stdout',\n",
              " 'thread_info',\n",
              " 'unraisablehook',\n",
              " 'version',\n",
              " 'version_info',\n",
              " 'warnoptions']"
            ]
          },
          "metadata": {},
          "execution_count": 30
        }
      ]
    },
    {
      "cell_type": "code",
      "source": [
        "while True:\n",
        "  try:\n",
        "    a=int(input(\"enter the number\"))\n",
        "    b=int(input(\"enter the number\"))\n",
        "    c=a/b\n",
        "    print(\"division=\",c)\n",
        "    break\n",
        "  except:\n",
        "    a=sys.exc_info()\n",
        "    print(a)"
      ],
      "metadata": {
        "colab": {
          "base_uri": "https://localhost:8080/"
        },
        "id": "3lO4XzlmJBfq",
        "outputId": "d08e9e72-d078-4919-ed75-b4a4e1e23605"
      },
      "execution_count": null,
      "outputs": [
        {
          "output_type": "stream",
          "name": "stdout",
          "text": [
            "enter the number10\n",
            "enter the numbera\n",
            "(<class 'ValueError'>, ValueError(\"invalid literal for int() with base 10: 'a'\"), <traceback object at 0x7ac767e1d080>)\n",
            "enter the number10\n",
            "enter the number0\n",
            "(<class 'ZeroDivisionError'>, ZeroDivisionError('division by zero'), <traceback object at 0x7ac78888fa00>)\n",
            "enter the number10\n",
            "enter the number20\n",
            "division= 0.5\n"
          ]
        }
      ]
    },
    {
      "cell_type": "code",
      "source": [
        "while True:\n",
        "  try:\n",
        "    a=int(input(\"enter the number\"))\n",
        "    b=int(input(\"enter the number\"))\n",
        "    c=a/b\n",
        "    print(\"division=\",c)\n",
        "    break\n",
        "  except:\n",
        "    a,b,c=sys.exc_info()\n",
        "    print(\"exception class=\",a)\n",
        "    print(\"exception message=\",b)\n",
        "    print(\"exception line number=\",c.tb_lineno)"
      ],
      "metadata": {
        "colab": {
          "base_uri": "https://localhost:8080/"
        },
        "id": "9zqKI1-TML0Q",
        "outputId": "ccf3c923-4119-4c25-bb08-b2c6d0d440aa"
      },
      "execution_count": null,
      "outputs": [
        {
          "output_type": "stream",
          "name": "stdout",
          "text": [
            "enter the number10\n",
            "enter the numbera\n",
            "exception class= <class 'ValueError'>\n",
            "exception message= invalid literal for int() with base 10: 'a'\n",
            "exception line number= 4\n",
            "enter the number20\n",
            "enter the number10\n",
            "division= 2.0\n"
          ]
        }
      ]
    },
    {
      "cell_type": "markdown",
      "source": [
        "# Finally"
      ],
      "metadata": {
        "id": "fjgW_CF6Nqh6"
      }
    },
    {
      "cell_type": "code",
      "source": [
        "try:\n",
        "    a=int(input(\"enter the number\"))\n",
        "    b=int(input(\"enter the number\"))\n",
        "    c=a/b\n",
        "    print(\"division=\",c)\n",
        "except:\n",
        "  print(\"b should be not zero\")\n",
        "finally:\n",
        "  print(\"it will be always running\")"
      ],
      "metadata": {
        "colab": {
          "base_uri": "https://localhost:8080/"
        },
        "id": "bOPxzb4vM1mp",
        "outputId": "eb4f9e83-ad25-4d8f-88cb-6038ee0b755d"
      },
      "execution_count": null,
      "outputs": [
        {
          "output_type": "stream",
          "name": "stdout",
          "text": [
            "enter the number10\n",
            "enter the number2\n",
            "division= 5.0\n",
            "it will be always running\n"
          ]
        }
      ]
    },
    {
      "cell_type": "markdown",
      "source": [
        "# Raise"
      ],
      "metadata": {
        "id": "mquMOcW7RCkn"
      }
    },
    {
      "cell_type": "code",
      "source": [
        "while True:\n",
        "  try:\n",
        "    a=int(input(\"enter the number\"))\n",
        "    b=int(input(\"enter the number\"))\n",
        "    if a<0 or b<0:\n",
        "      raise Exception(\"negative number not allowed,Try again!!\")\n",
        "    c=a/b\n",
        "    print(\"division=\",c)\n",
        "    break\n",
        "  except ValueError:\n",
        "    print(\"b should be integer \")\n",
        "  except ZeroDivisionError:\n",
        "    print(\"b should not be zero\")\n",
        "  except Exception as e:\n",
        "    print(e)\n"
      ],
      "metadata": {
        "colab": {
          "base_uri": "https://localhost:8080/"
        },
        "id": "L04QjvrtOJqt",
        "outputId": "7fa8e413-28df-4a0f-f654-68257c72a7a8"
      },
      "execution_count": null,
      "outputs": [
        {
          "output_type": "stream",
          "name": "stdout",
          "text": [
            "enter the number-3\n",
            "enter the number-2\n",
            "negative number not allowed,Try again!!\n",
            "enter the number10\n",
            "enter the number20\n",
            "division= 0.5\n"
          ]
        }
      ]
    },
    {
      "cell_type": "code",
      "source": [
        "while True:\n",
        "  try:\n",
        "    a=int(input(\"enter the number\"))\n",
        "    b=int(input(\"enter the number\"))\n",
        "    if a<0 or b<0:\n",
        "      raise Exception(\"negative number not allowed,Try again!!\")\n",
        "    c=a/b\n",
        "    print(\"division=\",c)\n",
        "    break\n",
        "\n",
        "  except Exception:\n",
        "    print(\"something is wrong\")\n",
        "\n"
      ],
      "metadata": {
        "colab": {
          "base_uri": "https://localhost:8080/"
        },
        "id": "Rj7kUZwARozH",
        "outputId": "4ab14b53-106d-4f9a-e65a-e2d3cee8263c"
      },
      "execution_count": null,
      "outputs": [
        {
          "output_type": "stream",
          "name": "stdout",
          "text": [
            "enter the number10\n",
            "enter the number0\n",
            "something is wrong\n",
            "enter the number10\n",
            "enter the number20\n",
            "division= 0.5\n"
          ]
        }
      ]
    },
    {
      "cell_type": "code",
      "source": [
        "while True:\n",
        "  try:\n",
        "    a=int(input(\"enter the number\"))\n",
        "    b=int(input(\"enter the number\"))\n",
        "    if a<0 or b<0:\n",
        "      raise Exception(\"negative number not allowed,Try again!!\")\n",
        "    c=a/b\n",
        "    print(\"division=\",c)\n",
        "    break\n",
        "\n",
        "  except Exception as e:\n",
        "    print(e)"
      ],
      "metadata": {
        "colab": {
          "base_uri": "https://localhost:8080/"
        },
        "id": "GMHzPgcxS3S7",
        "outputId": "92ad6df2-355d-454c-eff5-55c6878091f5"
      },
      "execution_count": null,
      "outputs": [
        {
          "output_type": "stream",
          "name": "stdout",
          "text": [
            "enter the number10\n",
            "enter the number0\n",
            "division by zero\n",
            "enter the number10\n",
            "enter the number20\n",
            "division= 0.5\n"
          ]
        }
      ]
    },
    {
      "cell_type": "code",
      "source": [
        "class NegativeNumberException(Exception):\n",
        "  pass\n",
        "while True:\n",
        "  try:\n",
        "    a=int(input(\"enter the number\"))\n",
        "    b=int(input(\"enter the number\"))\n",
        "    if a<0 or b<0:\n",
        "      raise Exception(\"negative number not allowed,Try again!!\")\n",
        "    c=a/b\n",
        "    print(\"division=\",c)\n",
        "    break\n",
        "  except ValueError:\n",
        "    print(\"b should be integer \")\n",
        "  except ZeroDivisionError:\n",
        "    print(\"b should not be zero\")\n",
        "  except NegativeNumberException as e:\n",
        "    print(e)\n",
        "\n",
        ""
      ],
      "metadata": {
        "id": "UWU0udbVTDSn",
        "colab": {
          "base_uri": "https://localhost:8080/",
          "height": 245
        },
        "outputId": "0eb7b424-d82c-4438-acb8-bf9c50baf8d8"
      },
      "execution_count": 1,
      "outputs": [
        {
          "name": "stdout",
          "output_type": "stream",
          "text": [
            "enter the number10\n",
            "enter the number-2\n"
          ]
        },
        {
          "output_type": "error",
          "ename": "Exception",
          "evalue": "negative number not allowed,Try again!!",
          "traceback": [
            "\u001b[0;31m---------------------------------------------------------------------------\u001b[0m",
            "\u001b[0;31mException\u001b[0m                                 Traceback (most recent call last)",
            "\u001b[0;32m<ipython-input-1-12fdc1ba68aa>\u001b[0m in \u001b[0;36m<cell line: 3>\u001b[0;34m()\u001b[0m\n\u001b[1;32m      6\u001b[0m     \u001b[0mb\u001b[0m\u001b[0;34m=\u001b[0m\u001b[0mint\u001b[0m\u001b[0;34m(\u001b[0m\u001b[0minput\u001b[0m\u001b[0;34m(\u001b[0m\u001b[0;34m\"enter the number\"\u001b[0m\u001b[0;34m)\u001b[0m\u001b[0;34m)\u001b[0m\u001b[0;34m\u001b[0m\u001b[0;34m\u001b[0m\u001b[0m\n\u001b[1;32m      7\u001b[0m     \u001b[0;32mif\u001b[0m \u001b[0ma\u001b[0m\u001b[0;34m<\u001b[0m\u001b[0;36m0\u001b[0m \u001b[0;32mor\u001b[0m \u001b[0mb\u001b[0m\u001b[0;34m<\u001b[0m\u001b[0;36m0\u001b[0m\u001b[0;34m:\u001b[0m\u001b[0;34m\u001b[0m\u001b[0;34m\u001b[0m\u001b[0m\n\u001b[0;32m----> 8\u001b[0;31m       \u001b[0;32mraise\u001b[0m \u001b[0mException\u001b[0m\u001b[0;34m(\u001b[0m\u001b[0;34m\"negative number not allowed,Try again!!\"\u001b[0m\u001b[0;34m)\u001b[0m\u001b[0;34m\u001b[0m\u001b[0;34m\u001b[0m\u001b[0m\n\u001b[0m\u001b[1;32m      9\u001b[0m     \u001b[0mc\u001b[0m\u001b[0;34m=\u001b[0m\u001b[0ma\u001b[0m\u001b[0;34m/\u001b[0m\u001b[0mb\u001b[0m\u001b[0;34m\u001b[0m\u001b[0;34m\u001b[0m\u001b[0m\n\u001b[1;32m     10\u001b[0m     \u001b[0mprint\u001b[0m\u001b[0;34m(\u001b[0m\u001b[0;34m\"division=\"\u001b[0m\u001b[0;34m,\u001b[0m\u001b[0mc\u001b[0m\u001b[0;34m)\u001b[0m\u001b[0;34m\u001b[0m\u001b[0;34m\u001b[0m\u001b[0m\n",
            "\u001b[0;31mException\u001b[0m: negative number not allowed,Try again!!"
          ]
        }
      ]
    },
    {
      "cell_type": "code",
      "source": [],
      "metadata": {
        "id": "9qottEQe56fG"
      },
      "execution_count": null,
      "outputs": []
    }
  ],
  "metadata": {
    "colab": {
      "provenance": []
    },
    "kernelspec": {
      "display_name": "Python 3",
      "name": "python3"
    },
    "language_info": {
      "name": "python"
    }
  },
  "nbformat": 4,
  "nbformat_minor": 0
}