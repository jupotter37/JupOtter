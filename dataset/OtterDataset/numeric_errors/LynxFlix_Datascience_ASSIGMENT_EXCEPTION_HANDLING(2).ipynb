{
 "cells": [
  {
   "cell_type": "markdown",
   "id": "426bf1e1-3071-4a8c-8e75-68f75604ef06",
   "metadata": {},
   "source": [
    "Q1. Explain why we have to use the Exception class while creating a Custom Exception."
   ]
  },
  {
   "cell_type": "markdown",
   "id": "a3d11756-85a2-4dc0-9c29-91fc66261bd0",
   "metadata": {},
   "source": [
    "ANS_1:-\n",
    "\n",
    "When creating custom exceptions in Python, it's essential to inherit from the built-in Exception class (or one of its subclasses) because it ensures that the custom exception behaves like a standard exception. Here are the key reasons why this is important:\n",
    "\n",
    "1. Consistency with Standard Exception Handling\n",
    "    By inheriting from the Exception class, your custom exception integrates seamlessly with Python's built-in exception handling mechanism. This means it can be used with try, except, else, and finally blocks just like any other built-in exception.\n",
    "\n",
    "2. Access to Exception Handling Features\n",
    "    The Exception class provides various attributes and methods that are useful for exception handling, such as args, which stores the arguments passed to the exception, and methods like __str__ and __repr__ for representing the exception as a string. By inheriting from Exception, your custom exception class automatically inherits these features.\n",
    "\n",
    "3. Hierarchical Structure\n",
    "    Python's exception handling is based on a hierarchy of exception classes. By inheriting from the Exception class, your custom exceptions fit into this hierarchy, allowing for more flexible and granular exception handling. For example, you can catch specific exceptions or more general ones higher up in the hierarchy.\n",
    "\n",
    "4. Interoperability with Libraries and Frameworks\n",
    "    Many Python libraries and frameworks expect exceptions to be derived from the Exception class. By following this convention, your custom exceptions will be compatible with these libraries and frameworks, ensuring that they can handle your exceptions appropriately.\n",
    "\n"
   ]
  },
  {
   "cell_type": "markdown",
   "id": "25ceea05-989d-4614-a845-3547d770921c",
   "metadata": {},
   "source": [
    "Q2. Write a python program to print Python Exception Hierarchy."
   ]
  },
  {
   "cell_type": "code",
   "execution_count": null,
   "id": "9c3711c1-2d10-4562-897e-ca369b755907",
   "metadata": {},
   "outputs": [],
   "source": [
    "# CODE:-\n",
    "def print_exception_hierarchy(cls, indent=0):\n",
    "    print(' ' * indent + cls.__name__)\n",
    "    for subclass in cls.__subclasses__():\n",
    "        print_exception_hierarchy(subclass, indent + 4)\n",
    "\n",
    "if __name__ == \"__main__\":\n",
    "    print(\"Python Exception Hierarchy:\")\n",
    "    print_exception_hierarchy(BaseException)\n",
    "\n"
   ]
  },
  {
   "cell_type": "markdown",
   "id": "e315aed3-6868-496d-979f-b5bba2537122",
   "metadata": {},
   "source": [
    "Q3. What errors are defined in the ArithmeticError class? Explain any two with an example."
   ]
  },
  {
   "cell_type": "markdown",
   "id": "bb675582-c8a9-49d3-b952-3d0532cdf1d4",
   "metadata": {},
   "source": [
    "ANS_3:-\n",
    "\n",
    "The ArithmeticError class in Python is a built-in exception class that serves as the base class for all arithmetic-related errors. This class itself is rarely used directly; instead, its subclasses are more commonly encountered. The main subclasses of ArithmeticError are:\n",
    "\n",
    "1. ZeroDivisionError: Raised when an attempt is made to divide by zero."
   ]
  },
  {
   "cell_type": "code",
   "execution_count": 11,
   "id": "617b6224-8818-4f10-8a43-169da884d3ed",
   "metadata": {},
   "outputs": [
    {
     "name": "stdout",
     "output_type": "stream",
     "text": [
      "Error: division by zero\n",
      "Error: integer division or modulo by zero\n"
     ]
    }
   ],
   "source": [
    "# CODE:-\n",
    "try:\n",
    "    result = 10 / 0\n",
    "except ZeroDivisionError as e:\n",
    "    print(f\"Error: {e}\")\n",
    "\n",
    "try:\n",
    "    result = 10 // 0\n",
    "except ZeroDivisionError as e:\n",
    "    print(f\"Error: {e}\")\n"
   ]
  },
  {
   "cell_type": "markdown",
   "id": "642b661f-f90d-467d-b59e-21b82d639e65",
   "metadata": {},
   "source": [
    "2. OverflowError:- \n",
    "    Description: This error occurs when the result of an arithmetic operation exceeds the maximum limit for a numerical type. In Python, this is usually seen when using large integers with certain functions or performing operations that exceed the maximum value of a float."
   ]
  },
  {
   "cell_type": "code",
   "execution_count": 12,
   "id": "6a08188c-7c1e-4a43-a8af-8e7c72f57708",
   "metadata": {},
   "outputs": [
    {
     "name": "stdout",
     "output_type": "stream",
     "text": [
      "Error: math range error\n",
      "Error: (34, 'Numerical result out of range')\n"
     ]
    }
   ],
   "source": [
    "# CODE:-\n",
    "import math\n",
    "\n",
    "try:\n",
    "    result = math.exp(1000)  \n",
    "except OverflowError as e:\n",
    "    print(f\"Error: {e}\")\n",
    "\n",
    "try:\n",
    "    result = 2.0 ** 10000\n",
    "except OverflowError as e:\n",
    "    print(f\"Error: {e}\")\n"
   ]
  },
  {
   "cell_type": "markdown",
   "id": "bf3320b6-972c-46b5-b94c-c475b3a3d56d",
   "metadata": {},
   "source": [
    "Q4. Why LookupError class is used? Explain with an example KeyError and IndexError."
   ]
  },
  {
   "cell_type": "markdown",
   "id": "d80d63b2-7c95-4c7d-82dd-9c744285eaa3",
   "metadata": {},
   "source": [
    "ANS_4:- \n",
    "\n",
    "The LookupError class in Python is a built-in exception that serves as the base class for exceptions that occur when a key or index used to access a collection is not found. It provides a way to handle errors related to lookups in a consistent manner. The main subclasses of LookupError are KeyError and IndexError.'\n",
    "\n",
    "1. KeyError\n",
    "    Description: This error is raised when a dictionary is accessed with a key that does not exist in the dictionary."
   ]
  },
  {
   "cell_type": "code",
   "execution_count": 13,
   "id": "f2ea2011-2307-4196-899f-7b0de45c67c2",
   "metadata": {},
   "outputs": [
    {
     "name": "stdout",
     "output_type": "stream",
     "text": [
      "KeyError: 'd'\n",
      "KeyError: 'd'\n"
     ]
    }
   ],
   "source": [
    "# CODE:\n",
    "my_dict = {'a': 1, 'b': 2, 'c': 3}\n",
    "\n",
    "try:\n",
    "    value = my_dict['d']\n",
    "except KeyError as e:\n",
    "    print(f\"KeyError: {e}\")\n",
    "\n",
    "try:\n",
    "    value = my_dict.get('d')\n",
    "    if value is None:\n",
    "        raise KeyError('d')\n",
    "except KeyError as e:\n",
    "    print(f\"KeyError: {e}\")\n"
   ]
  },
  {
   "cell_type": "markdown",
   "id": "ee39a692-70cc-42e2-9d7e-65fca1b37104",
   "metadata": {},
   "source": [
    "2. IndexError:- \n",
    "    Description: This error is raised when trying to access an element from a list, tuple, or other sequence using an index that is out of the valid range."
   ]
  },
  {
   "cell_type": "code",
   "execution_count": 14,
   "id": "cca4c99d-0a6f-4585-9dd1-7af5a9772ca8",
   "metadata": {},
   "outputs": [
    {
     "name": "stdout",
     "output_type": "stream",
     "text": [
      "IndexError: list index out of range\n",
      "IndexError: pop index out of range\n"
     ]
    }
   ],
   "source": [
    "# CODE:-\n",
    "my_list = [1, 2, 3]\n",
    "\n",
    "try:\n",
    "    value = my_list[5]\n",
    "except IndexError as e:\n",
    "    print(f\"IndexError: {e}\")\n",
    "\n",
    "try:\n",
    "    value = my_list.pop(5)\n",
    "except IndexError as e:\n",
    "    print(f\"IndexError: {e}\")\n"
   ]
  },
  {
   "cell_type": "markdown",
   "id": "26855315-f926-41f0-9d45-06b43332f5a7",
   "metadata": {},
   "source": [
    "Q5. Explain ImportError. What is ModuleNotFoundError?"
   ]
  },
  {
   "cell_type": "markdown",
   "id": "5e1a76a1-23fd-4000-9038-5f44179b4994",
   "metadata": {},
   "source": [
    "ANS_5:-\n",
    "\n",
    "ImportError is a built-in exception in Python that is raised when an import statement fails to import a module. This can happen for several reasons, such as:\n",
    "\n",
    "->The module does not exist.\n",
    "->There is a problem with the module's code that prevents it from being imported.\n",
    "->A name is not found in the module during a from ... import ... statement.\n",
    "\n",
    "ModuleNotFoundError is a subclass of ImportError that is specifically raised when a module cannot be found. It was introduced in Python 3.6 to provide a more specific error for the case when a module is not found.\n",
    "\n",
    "ModuleNotFoundError is a subclass of ImportError, which means that all ModuleNotFoundError exceptions are also ImportError exceptions, but not all ImportError exceptions are ModuleNotFoundError exceptions."
   ]
  },
  {
   "cell_type": "markdown",
   "id": "a3e36425-d171-4e1f-8b2d-8e548d14209d",
   "metadata": {},
   "source": [
    "Q6. List down some best practices for exception handling in python."
   ]
  },
  {
   "cell_type": "markdown",
   "id": "a18c9672-0f95-48ee-8249-2848b0f505cb",
   "metadata": {},
   "source": [
    "ANS_6:-\n",
    "\n",
    "Here are some best practices for exception handling in Python:\n",
    "\n",
    "1. Use Specific Exceptions:-\n",
    "    Catch specific exceptions instead of a general Exception or BaseException. This makes your code more predictable and easier to debug.\n",
    "2. Avoid Swallowing Exceptions:-\n",
    "    Do not catch exceptions without handling them. Always handle exceptions or log them appropriately.\n",
    "3. Use Finally Block:-\n",
    "    Use the finally block to release resources or perform clean-up actions, ensuring that they are executed regardless of whether an exception occurs.\n",
    "4. Use Else Block:-\n",
    "    Use the else block for code that should run only if no exception was raised. This helps separate normal code from exception-handling code.\n",
    "5. Avoid Catching Multiple Exceptions in One Block:-\n",
    "    Avoid catching multiple exceptions in one block unless you need to handle them in the same way. If necessary, use parentheses to group exceptions."
   ]
  },
  {
   "cell_type": "code",
   "execution_count": null,
   "id": "71d7f2b5-0084-4e4b-a83a-5e31c3dc18ab",
   "metadata": {},
   "outputs": [],
   "source": []
  }
 ],
 "metadata": {
  "kernelspec": {
   "display_name": "Python 3 (ipykernel)",
   "language": "python",
   "name": "python3"
  },
  "language_info": {
   "codemirror_mode": {
    "name": "ipython",
    "version": 3
   },
   "file_extension": ".py",
   "mimetype": "text/x-python",
   "name": "python",
   "nbconvert_exporter": "python",
   "pygments_lexer": "ipython3",
   "version": "3.10.8"
  }
 },
 "nbformat": 4,
 "nbformat_minor": 5
}
