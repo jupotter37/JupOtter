{
 "cells": [
  {
   "cell_type": "markdown",
   "metadata": {
    "button": false,
    "deletable": true,
    "new_sheet": false,
    "run_control": {
     "read_only": false
    }
   },
   "source": [
    "<div style=\"float:right\"><i>Peter Norvig<br>5 January 2016</i></div>\n",
    "\n",
    "# Countdown to 2016\n",
    "\n",
    "Alex Bellos [posed](http://www.theguardian.com/science/2016/jan/04/can-you-solve-it-complete-the-equation-10-9-8-7-6-5-4-3-2-1-2016) this New Year's puzzle:\n",
    "\n",
    "\n",
    "> Fill in the blanks so that this equation makes arithmetical sense:\n",
    "\n",
    "> 10 &square; 9 &square; 8 &square; 7 &square; 6 &square; 5 &square; 4 &square; 3 &square; 2 &square; 1 = 2016\n",
    "\n",
    "> You are allowed to use *only* the four basic arithmetical operations: +, -, &times;, Ã·. But brackets (parentheses) can be used wherever needed. So, for example, the solution could begin\n",
    "\n",
    "> (10 - 9) &times; (8 ...\n",
    "\n",
    "> or\n",
    "\n",
    "> 10 + (9 &times; 8) ...\n",
    "\n",
    "Let's see if we can solve this puzzle, and some of the related ones from Alex's [first](http://www.theguardian.com/science/2016/jan/04/can-you-solve-it-complete-the-equation-10-9-8-7-6-5-4-3-2-1-2016) and [second](http://www.theguardian.com/science/2016/jan/04/did-you-solve-it-complete-the-equation-10-9-8-7-6-5-4-3-2-1-2016) post.  We'll start with a  simpler version of the puzzle."
   ]
  },
  {
   "cell_type": "markdown",
   "metadata": {
    "button": false,
    "deletable": true,
    "new_sheet": false,
    "run_control": {
     "read_only": false
    }
   },
   "source": [
    "# Four Operators, No Brackets\n",
    "\n",
    "Suppose for the moment we are not allowed to use brackets.  Then there are nine blanks,  each of which can be filled by one of four operators, so the total number of possible expressions is:"
   ]
  },
  {
   "cell_type": "code",
   "execution_count": 1,
   "metadata": {
    "button": false,
    "collapsed": false,
    "deletable": true,
    "new_sheet": false,
    "run_control": {
     "read_only": false
    }
   },
   "outputs": [
    {
     "data": {
      "text/plain": [
       "262144"
      ]
     },
     "execution_count": 1,
     "metadata": {},
     "output_type": "execute_result"
    }
   ],
   "source": [
    "4 ** 9"
   ]
  },
  {
   "cell_type": "markdown",
   "metadata": {
    "button": false,
    "deletable": true,
    "new_sheet": false,
    "run_control": {
     "read_only": false
    }
   },
   "source": [
    "That's small enough that we can just enumerate all the expressions and see if any evaluates to 2016.\n",
    "We will generate each expression as a string and then evaluate it with `eval`. But we need to catch errors such as dividing by zero, so we'll define a wrapper function, `evaluate`:"
   ]
  },
  {
   "cell_type": "code",
   "execution_count": 2,
   "metadata": {
    "button": false,
    "collapsed": true,
    "deletable": true,
    "new_sheet": false,
    "run_control": {
     "read_only": false
    }
   },
   "outputs": [],
   "source": [
    "from __future__ import division\n",
    "\n",
    "def evaluate(exp):\n",
    "    \"eval exp, or return None if there is an arithmetic error.\"\n",
    "    try:\n",
    "        return eval(exp)\n",
    "    except ArithmeticError:\n",
    "        return None"
   ]
  },
  {
   "cell_type": "markdown",
   "metadata": {
    "button": false,
    "deletable": true,
    "new_sheet": false,
    "run_control": {
     "read_only": false
    }
   },
   "source": [
    "We'll try each of the four operators in each of the nine blanks, evaluate each resulting expression, and collect the ones that evaluate to 2016:"
   ]
  },
  {
   "cell_type": "code",
   "execution_count": 3,
   "metadata": {
    "button": false,
    "collapsed": false,
    "deletable": true,
    "new_sheet": false,
    "run_control": {
     "read_only": false
    }
   },
   "outputs": [],
   "source": [
    "def solve_no_brackets(ops=('+', '-', '*', '/')):\n",
    "    \"All solutions to the countdown puzzle (with no brackets).\"\n",
    "    exps = ('10'+a+'9'+b+'8'+c+'7'+d+'6'+e+'5'+f+'4'+g+'3'+h+'2'+i+'1'\n",
    "            for a in ops    for b in ops    for c in ops \n",
    "            for d in ops    for e in ops    for f in ops \n",
    "            for g in ops    for h in ops    for i in ops)\n",
    "    return [exp for exp in exps if evaluate(exp) == 2016]"
   ]
  },
  {
   "cell_type": "code",
   "execution_count": 4,
   "metadata": {
    "button": false,
    "collapsed": false,
    "deletable": true,
    "new_sheet": false,
    "run_control": {
     "read_only": false
    }
   },
   "outputs": [
    {
     "data": {
      "text/plain": [
       "[]"
      ]
     },
     "execution_count": 4,
     "metadata": {},
     "output_type": "execute_result"
    }
   ],
   "source": [
    "solve_no_brackets()"
   ]
  },
  {
   "cell_type": "markdown",
   "metadata": {
    "button": false,
    "deletable": true,
    "new_sheet": false,
    "run_control": {
     "read_only": false
    }
   },
   "source": [
    "Too bad; we did all that work and didn't find a solution. What years *can* we find solutions for? Let's modify `solve_no_brackets` to take a collection of target years, and return a dict of the form `{year: \"expression\"}` for each expression that evaluates to one of the target years:"
   ]
  },
  {
   "cell_type": "code",
   "execution_count": 5,
   "metadata": {
    "button": false,
    "collapsed": true,
    "deletable": true,
    "new_sheet": false,
    "run_control": {
     "read_only": false
    }
   },
   "outputs": [],
   "source": [
    "def solve_no_brackets(targets, ops=('+', '-', '*', '/')):\n",
    "    \"Solutions to the no-bracket countdown puzzle matching one of targets.\"\n",
    "    exps = ('10'+a+'9'+b+'8'+c+'7'+d+'6'+e+'5'+f+'4'+g+'3'+h+'2'+i+'1'\n",
    "            for a in ops    for b in ops    for c in ops \n",
    "            for d in ops    for e in ops    for f in ops \n",
    "            for g in ops    for h in ops    for i in ops)\n",
    "    return {int(evaluate(exp)): exp\n",
    "            for exp in exps if evaluate(exp) in targets}"
   ]
  },
  {
   "cell_type": "markdown",
   "metadata": {
    "button": false,
    "deletable": true,
    "new_sheet": false,
    "run_control": {
     "read_only": false
    }
   },
   "source": [
    "Let's try it:"
   ]
  },
  {
   "cell_type": "code",
   "execution_count": 6,
   "metadata": {
    "button": false,
    "collapsed": false,
    "deletable": true,
    "new_sheet": false,
    "run_control": {
     "read_only": false
    }
   },
   "outputs": [
    {
     "name": "stdout",
     "output_type": "stream",
     "text": [
      "CPU times: user 14 s, sys: 9.32 s, total: 23.3 s\n",
      "Wall time: 23.7 s\n"
     ]
    },
    {
     "data": {
      "text/plain": [
       "{1979: '10*9*8+7*6*5*4*3/2-1',\n",
       " 1980: '10*9*8+7*6*5*4*3/2/1',\n",
       " 1981: '10*9*8+7*6*5*4*3/2+1',\n",
       " 2013: '10*9*8*7/6/5*4*3-2-1',\n",
       " 2014: '10*9*8*7/6/5*4*3-2/1',\n",
       " 2015: '10*9*8*7/6/5*4*3-2+1',\n",
       " 2017: '10*9*8*7/6/5*4*3+2-1',\n",
       " 2018: '10*9*8*7/6/5*4*3+2/1',\n",
       " 2019: '10*9*8*7/6/5*4*3+2+1'}"
      ]
     },
     "execution_count": 6,
     "metadata": {},
     "output_type": "execute_result"
    }
   ],
   "source": [
    "%time solve_no_brackets(range(1900, 2100))"
   ]
  },
  {
   "cell_type": "markdown",
   "metadata": {
    "button": false,
    "deletable": true,
    "new_sheet": false,
    "run_control": {
     "read_only": false
    }
   },
   "source": [
    "Interesting: in the 20th and 21st centuries, there are only two \"golden eras\" where the countdown equation works: the three year period centered on 1980, and the seven year period that is centered on 2016, but omits 2016. Note it takes about half a minute to do the computation."
   ]
  },
  {
   "cell_type": "markdown",
   "metadata": {
    "button": false,
    "deletable": true,
    "new_sheet": false,
    "run_control": {
     "read_only": false
    }
   },
   "source": [
    "# Four Operators, With Brackets\n",
    "\n",
    "Now let's return to the original puzzle, with the brackets. How many ways are there of bracketing an expression with 9 binary operators? I happen to remember that this is given by the [Catalan numbers](https://en.wikipedia.org/wiki/Catalan_number), and we can [look it up](http://www.wolframalpha.com/input/?i=9th+catalan+number) to find that there are 4862 diffferent bracketing. If we enumerated and evaluated all of them, 4862 times half a minute is [40 hours](https://www.google.com/webhp?sourceid=chrome-instant&ion=1&espv=2&ie=UTF-8#q=4862+*+1%2F2+minute+in+hours). I'm impatient, so I'd like a faster approach. One possibility would be to switch to a faster compiled language like C++ or Go. But I'll concentrate on a better algorithm and stick with Python.\n",
    "\n",
    "I'll use the idea of [dynamic programming](https://en.wikipedia.org/wiki/Dynamic_programming): break the problem down into simpler subparts, and compute an answer for each subpart, and store intermediate results in a table so we don't need to re-compute them when we need them again.\n",
    "\n",
    "How do we break the problem into parts? In general, any expression must consist of an operator with two operands (which might in turn be complex subexpressions). For example, a complete countdown expression might be of the form\n",
    "\n",
    "    (10 ... 8) + (7 ... 1)\n",
    "    \n",
    "where `(10 ... 8)` means some expression that starts with 10 and ends with 8.  Of course we need not use `'+'` as the operator, and we need not split after the 8; we could use any of the four operators and split anywhere.  Let's start by defining `c10` as the tuple of integers forming the countdown from 10 to 1,  and the function `splits` to split a tuple in all ways: "
   ]
  },
  {
   "cell_type": "code",
   "execution_count": 7,
   "metadata": {
    "button": false,
    "collapsed": true,
    "deletable": true,
    "new_sheet": false,
    "run_control": {
     "read_only": false
    }
   },
   "outputs": [],
   "source": [
    "c10 = (10, 9, 8, 7, 6, 5, 4, 3, 2, 1)\n",
    "\n",
    "def splits(items):\n",
    "    \"Split sequence of items into two non-empty parts, in all ways.\"\n",
    "    return [(items[:i], items[i:]) \n",
    "            for i in range(1, len(items))]"
   ]
  },
  {
   "cell_type": "code",
   "execution_count": 8,
   "metadata": {
    "button": false,
    "collapsed": false,
    "deletable": true,
    "new_sheet": false,
    "run_control": {
     "read_only": false
    }
   },
   "outputs": [
    {
     "data": {
      "text/plain": [
       "[((10,), (9, 8, 7, 6, 5, 4, 3, 2, 1)),\n",
       " ((10, 9), (8, 7, 6, 5, 4, 3, 2, 1)),\n",
       " ((10, 9, 8), (7, 6, 5, 4, 3, 2, 1)),\n",
       " ((10, 9, 8, 7), (6, 5, 4, 3, 2, 1)),\n",
       " ((10, 9, 8, 7, 6), (5, 4, 3, 2, 1)),\n",
       " ((10, 9, 8, 7, 6, 5), (4, 3, 2, 1)),\n",
       " ((10, 9, 8, 7, 6, 5, 4), (3, 2, 1)),\n",
       " ((10, 9, 8, 7, 6, 5, 4, 3), (2, 1)),\n",
       " ((10, 9, 8, 7, 6, 5, 4, 3, 2), (1,))]"
      ]
     },
     "execution_count": 8,
     "metadata": {},
     "output_type": "execute_result"
    }
   ],
   "source": [
    "splits(c10)"
   ]
  },
  {
   "cell_type": "markdown",
   "metadata": {
    "button": false,
    "deletable": true,
    "new_sheet": false,
    "run_control": {
     "read_only": false
    }
   },
   "source": [
    "Now what I would like to do is build up a table that says, for every subsequence of the numbers,  what are the expressions we can make with those numbers, and what do they evaluate to? We'll call the table `EXPS`. For example, with the subsequence `(10, 9, 8)`, we would have:\n",
    "\n",
    "    EXPS[(10, 9, 8)] = {\n",
    "      27: '((10+9)+8)',\n",
    "      8:  '((10-9)*8)', \n",
    "      -7: '(10-(9+8))', \n",
    "      ...}\n",
    "     \n",
    "We'll do the same for every other subsequence, for example:\n",
    "\n",
    "    EXPS[(7, 6, 5, 4, 3, 2, 1)] = {\n",
    "      1:   '((((7/((6/5)-4))+3)*2)*1)',\n",
    "      2:   '((((7/((6/5)-4))+3)*2)+1)',\n",
    "      3.5: '((((7/((6/5)-4))+3)+2)+1)',\n",
    "      4:   '((7-((6/5)*((4/3)+2)))+1)',\n",
    "      ...}\n",
    "     \n",
    "Once we have the tables for these two subsequences, we can put them together to get the table for the complete  `countdown(10)` by considering all ways of taking a value from the first table, then one of the four operators, then a value from the second table.  For example, taking the first entry from each table, and the operator `'+'`, we would have:\n",
    "\n",
    "    EXPS[(10, 9, 8, 7, 6, 5, 4, 3, 2, 1)] = { \n",
    "      28: '(((10+9)+8)+((((7/((6/5)-4))+3)*2)*1))',\n",
    "      ...}\n",
    "\n",
    "\n",
    "I can implement `EXPS` as a defaultdict of dicts, and define `expressions(numbers)` to fill in `EXPS` entries for `numbers` and all sub-sequences of `numbers`.  Within `fill_tables`, note that `Lnums` and `Rnums` are sequences of numbers, such as `(10, 9, 8)` and `(7, 6)`. `L` and `R` are values, such as `27` and `1`. And `Lexp` and `Rexp` are strings, such as `\"((10+9)+8)\"` and `\"(7-6)\"`. Rather than catching division-by-zero errors, we just avoid the division when the denominator is 0."
   ]
  },
  {
   "cell_type": "code",
   "execution_count": 9,
   "metadata": {
    "button": false,
    "collapsed": false,
    "deletable": true,
    "new_sheet": false,
    "run_control": {
     "read_only": false
    }
   },
   "outputs": [],
   "source": [
    "from collections import defaultdict, Counter\n",
    "import itertools\n",
    "\n",
    "EXPS = defaultdict(dict) # e.g., EXPS[(10, 9, 8)][27] == '((10+9)+8)'\n",
    "\n",
    "def expressions(numbers):\n",
    "    \"Fill EXPS table for numbers, and all sub-sequences of numbers. Return EXPS[numbers]\"\n",
    "    if numbers in EXPS: # Already did the work\n",
    "        pass\n",
    "    elif len(numbers) == 1: # Only one way to make an expression out of a single number\n",
    "        expr(numbers, numbers[0], str(numbers[0]))\n",
    "    else: # Split in all ways; fill tables for left and right; combine tables in all ways\n",
    "        for (Lnums, Rnums) in splits(numbers):\n",
    "            for (L, R) in itertools.product(expressions(Lnums), expressions(Rnums)):\n",
    "                Lexp, Rexp = '(' + EXPS[Lnums][L], EXPS[Rnums][R] + ')'\n",
    "                if R != 0: \n",
    "                    expr(numbers, L / R, Lexp + '/' + Rexp)\n",
    "                expr(numbers, L * R, Lexp + '*' + Rexp)\n",
    "                expr(numbers, L - R, Lexp + '-' + Rexp)\n",
    "                expr(numbers, L + R, Lexp + '+' + Rexp)\n",
    "    return EXPS[numbers]\n",
    "\n",
    "def expr(numbers, value, exp): \n",
    "    \"Record exp as an expression with the given value, covering the sequence of numbers.\"\n",
    "    EXPS[numbers][value] = exp"
   ]
  },
  {
   "cell_type": "markdown",
   "metadata": {
    "button": false,
    "deletable": true,
    "new_sheet": false,
    "run_control": {
     "read_only": false
    }
   },
   "source": [
    "Let's give it a try:"
   ]
  },
  {
   "cell_type": "code",
   "execution_count": 10,
   "metadata": {
    "button": false,
    "collapsed": false,
    "deletable": true,
    "new_sheet": false,
    "run_control": {
     "read_only": false
    }
   },
   "outputs": [
    {
     "data": {
      "text/plain": [
       "{-62: '(10-(9*8))',\n",
       " -7: '((10-9)-8)',\n",
       " -6.888888888888889: '((10/9)-8)',\n",
       " 0.125: '((10-9)/8)',\n",
       " 0.1388888888888889: '((10/9)/8)',\n",
       " 0.5882352941176471: '(10/(9+8))',\n",
       " 2.375: '((10+9)/8)',\n",
       " 8: '((10-9)*8)',\n",
       " 8.875: '(10-(9/8))',\n",
       " 8.88888888888889: '((10/9)*8)',\n",
       " 9: '((10-9)+8)',\n",
       " 9.11111111111111: '((10/9)+8)',\n",
       " 10.0: '(10*(9-8))',\n",
       " 11: '((10+9)-8)',\n",
       " 11.125: '(10+(9/8))',\n",
       " 11.25: '((10*9)/8)',\n",
       " 27: '((10+9)+8)',\n",
       " 82: '((10*9)-8)',\n",
       " 98: '((10*9)+8)',\n",
       " 152: '((10+9)*8)',\n",
       " 170: '(10*(9+8))',\n",
       " 720: '((10*9)*8)'}"
      ]
     },
     "execution_count": 10,
     "metadata": {},
     "output_type": "execute_result"
    }
   ],
   "source": [
    "expressions((10, 9, 8))"
   ]
  },
  {
   "cell_type": "code",
   "execution_count": 11,
   "metadata": {
    "button": false,
    "collapsed": false,
    "deletable": true,
    "new_sheet": false,
    "run_control": {
     "read_only": false
    }
   },
   "outputs": [
    {
     "data": {
      "text/plain": [
       "'((10+9)+8)'"
      ]
     },
     "execution_count": 11,
     "metadata": {},
     "output_type": "execute_result"
    }
   ],
   "source": [
    "EXPS[(10, 9, 8)][27]"
   ]
  },
  {
   "cell_type": "markdown",
   "metadata": {
    "button": false,
    "deletable": true,
    "new_sheet": false,
    "run_control": {
     "read_only": false
    }
   },
   "source": [
    "That looks reasonable. Let's solve the whole puzzle.\n",
    "\n",
    "# Countdown to 2016: A Solution"
   ]
  },
  {
   "cell_type": "code",
   "execution_count": 12,
   "metadata": {
    "button": false,
    "collapsed": false,
    "deletable": true,
    "new_sheet": false,
    "run_control": {
     "read_only": false
    }
   },
   "outputs": [
    {
     "name": "stdout",
     "output_type": "stream",
     "text": [
      "CPU times: user 40.9 s, sys: 14.6 s, total: 55.5 s\n",
      "Wall time: 55.6 s\n"
     ]
    },
    {
     "data": {
      "text/plain": [
       "'(((((((10+((9*8)*7))-6)-5)*4)+3)+2)-1)'"
      ]
     },
     "execution_count": 12,
     "metadata": {},
     "output_type": "execute_result"
    }
   ],
   "source": [
    "%time expressions(c10)[2016]"
   ]
  },
  {
   "cell_type": "markdown",
   "metadata": {
    "button": false,
    "deletable": true,
    "new_sheet": false,
    "run_control": {
     "read_only": false
    }
   },
   "source": [
    "We have an answer! And in a lot less than 40 hours, thanks to dynamic programming! \n",
    "\n",
    "Removing unnecessry brackets, this equation is equivalent to:"
   ]
  },
  {
   "cell_type": "code",
   "execution_count": 13,
   "metadata": {
    "button": false,
    "collapsed": false,
    "deletable": true,
    "new_sheet": false,
    "run_control": {
     "read_only": false
    }
   },
   "outputs": [
    {
     "data": {
      "text/plain": [
       "2016"
      ]
     },
     "execution_count": 13,
     "metadata": {},
     "output_type": "execute_result"
    }
   ],
   "source": [
    "(10 + 9 * 8 * 7 - 6 - 5) * 4 + 3 + 2 - 1"
   ]
  },
  {
   "cell_type": "markdown",
   "metadata": {
    "button": false,
    "deletable": true,
    "new_sheet": false,
    "run_control": {
     "read_only": false
    }
   },
   "source": [
    "# Counting Solutions\n",
    "\n",
    "Alex Bellos had another challenge:  \n",
    "\n",
    "> I was half hoping a computer scientist would let me know exactly how many solutions there are with only the four basic operations. Maybe someone will. \n",
    "\n",
    "As it stands, my program can't answer that question, because I only keep one expression for each value. \n",
    "\n",
    "Also, I'm not sure what it means to be a distinct solution. For example, are `((10+9)+8)` and `(10+(9+8))` different, or are they same, because they both are equivalent to `(10+9+8)`? Similarly, are `((3-2)-1)` and `(3-(2+1)` different, or the same because they both are equivalent to `(3 + -2 + -1)`? I think the notion of \"distinct solution\" is just inherently ambiguous, and each of these questions could reasonably be answered either way. My choice is to count each of these as distinct: every expression has exactly ten numbers, nine operators, and nine pairs of brackets, and if an expression differs in any character, it is different. But I won't argue with anyone who has a different definition of \"distinct solution.\"\n",
    "\n",
    "So how can I count expressions? One approach would be to go back to enumerating every equation (all 4862 &times; 4<sup>9</sup> = 1.2 bilion of them) and checking which ones equal 2016. That would take about 40 hours with my Python program, but I could get it under 40 minutes in a more efficient language.\n",
    "\n",
    "Another approach is to count subexpressions as the table is filled in. We won't enumerate all the expressions, just count them. I'll introduce a second table, `COUNTS`, such that\n",
    "\n",
    "    COUNTS[(10, 9, 8)][27] == 2\n",
    "    \n",
    "because there are 2 ways to make 27 with the numbers `(10, 9, 8)`, namely, `((10+9)+8)` and `(10+(9+8))`.\n",
    "How do we compute the counts? By looking at every split and operator choice that can make the value, and summing up (over all of these) the product of the counts for the two sides.  For example, there are 2 ways to make 27 with `(10 ... 8)`, and it turns out there are 3526 ways to make 1 with `(7 ... 1)`. So there are 2 &times; 3526 = 7052 ways to make 28 with this split by adding 27 and 1. \n",
    "\n",
    "I'll make `expr` handle `COUNTS` as well as `EXPS`. And I'll define  `clear` to clear out the cache of `COUNTS` and `EXPS`, so that we can fill the tables with our new, improved entries."
   ]
  },
  {
   "cell_type": "code",
   "execution_count": 14,
   "metadata": {
    "button": false,
    "collapsed": false,
    "deletable": true,
    "new_sheet": false,
    "run_control": {
     "read_only": false
    }
   },
   "outputs": [],
   "source": [
    "COUNTS = defaultdict(Counter) # e.g., COUNTS[(10, 9, 8)][27] == 2\n",
    "\n",
    "def expressions(numbers):\n",
    "    \"Fill EXPS table for numbers, and all sub-sequences of numbers. Return EXPS[numbers]\"\n",
    "    if numbers in EXPS: # Already did the work\n",
    "        pass\n",
    "    elif len(numbers) == 1: # Only one way to make an expression out of a single number\n",
    "        expr(numbers, numbers[0], str(numbers[0]), 1)\n",
    "    else: # Split in all ways; fill tables for left and right; combine tables in all ways\n",
    "        for (Lnums, Rnums) in splits(numbers):\n",
    "            for (L, R) in itertools.product(expressions(Lnums), expressions(Rnums)):\n",
    "                Lexp, Rexp = '(' + EXPS[Lnums][L], EXPS[Rnums][R] + ')'\n",
    "                count = COUNTS[Lnums][L] * COUNTS[Rnums][R]\n",
    "                if R != 0: \n",
    "                    expr(numbers, L / R, Lexp + '/' + Rexp, count)\n",
    "                expr(numbers, L * R, Lexp + '*' + Rexp, count)\n",
    "                expr(numbers, L - R, Lexp + '-' + Rexp, count)\n",
    "                expr(numbers, L + R, Lexp + '+' + Rexp, count)\n",
    "    return EXPS[numbers]\n",
    "\n",
    "def expr(numbers, val, exp, count):\n",
    "    \"Fill EXPS[numbers][val] with exp, and increment COUNTS.\"\n",
    "    EXPS[numbers][val] = exp\n",
    "    COUNTS[numbers][val] += count\n",
    "    \n",
    "def clear(): EXPS.clear(); COUNTS.clear()"
   ]
  },
  {
   "cell_type": "code",
   "execution_count": 15,
   "metadata": {
    "button": false,
    "collapsed": false,
    "deletable": true,
    "new_sheet": false,
    "run_control": {
     "read_only": false
    }
   },
   "outputs": [
    {
     "data": {
      "text/plain": [
       "{-62: '(10-(9*8))',\n",
       " -7: '((10-9)-8)',\n",
       " -6.888888888888889: '((10/9)-8)',\n",
       " 0.125: '((10-9)/8)',\n",
       " 0.1388888888888889: '((10/9)/8)',\n",
       " 0.5882352941176471: '(10/(9+8))',\n",
       " 2.375: '((10+9)/8)',\n",
       " 8: '((10-9)*8)',\n",
       " 8.875: '(10-(9/8))',\n",
       " 8.88888888888889: '((10/9)*8)',\n",
       " 9: '((10-9)+8)',\n",
       " 9.11111111111111: '((10/9)+8)',\n",
       " 10.0: '(10*(9-8))',\n",
       " 11: '((10+9)-8)',\n",
       " 11.125: '(10+(9/8))',\n",
       " 11.25: '((10*9)/8)',\n",
       " 27: '((10+9)+8)',\n",
       " 82: '((10*9)-8)',\n",
       " 98: '((10*9)+8)',\n",
       " 152: '((10+9)*8)',\n",
       " 170: '(10*(9+8))',\n",
       " 720: '((10*9)*8)'}"
      ]
     },
     "execution_count": 15,
     "metadata": {},
     "output_type": "execute_result"
    }
   ],
   "source": [
    "clear()\n",
    "expressions((10, 9, 8))"
   ]
  },
  {
   "cell_type": "code",
   "execution_count": 16,
   "metadata": {
    "button": false,
    "collapsed": false,
    "deletable": true,
    "new_sheet": false,
    "run_control": {
     "read_only": false
    }
   },
   "outputs": [
    {
     "data": {
      "text/plain": [
       "Counter({-62: 1,\n",
       "         -7: 2,\n",
       "         -6.888888888888889: 1,\n",
       "         0.125: 1,\n",
       "         0.1388888888888889: 2,\n",
       "         0.5882352941176471: 1,\n",
       "         2.375: 1,\n",
       "         8: 1,\n",
       "         8.875: 1,\n",
       "         8.88888888888889: 2,\n",
       "         9: 2,\n",
       "         9.11111111111111: 1,\n",
       "         10.0: 2,\n",
       "         11: 2,\n",
       "         11.125: 1,\n",
       "         11.25: 2,\n",
       "         27: 2,\n",
       "         82: 2,\n",
       "         98: 1,\n",
       "         152: 1,\n",
       "         170: 1,\n",
       "         720: 2})"
      ]
     },
     "execution_count": 16,
     "metadata": {},
     "output_type": "execute_result"
    }
   ],
   "source": [
    "COUNTS[(10, 9, 8)]"
   ]
  },
  {
   "cell_type": "code",
   "execution_count": 17,
   "metadata": {
    "button": false,
    "collapsed": false,
    "deletable": true,
    "new_sheet": false,
    "run_control": {
     "read_only": false
    }
   },
   "outputs": [
    {
     "data": {
      "text/plain": [
       "2"
      ]
     },
     "execution_count": 17,
     "metadata": {},
     "output_type": "execute_result"
    }
   ],
   "source": [
    "COUNTS[(10, 9, 8)][27]"
   ]
  },
  {
   "cell_type": "markdown",
   "metadata": {
    "button": false,
    "deletable": true,
    "new_sheet": false,
    "run_control": {
     "read_only": false
    }
   },
   "source": [
    "Looks good to me. Now let's repeat the computation, this time keeping track of `COUNTS`:"
   ]
  },
  {
   "cell_type": "code",
   "execution_count": 18,
   "metadata": {
    "button": false,
    "collapsed": false,
    "deletable": true,
    "new_sheet": false,
    "run_control": {
     "read_only": false
    }
   },
   "outputs": [
    {
     "name": "stdout",
     "output_type": "stream",
     "text": [
      "CPU times: user 1min 21s, sys: 26.4 s, total: 1min 48s\n",
      "Wall time: 1min 48s\n"
     ]
    },
    {
     "data": {
      "text/plain": [
       "'(((((((10+((9*8)*7))-6)-5)*4)+3)+2)-1)'"
      ]
     },
     "execution_count": 18,
     "metadata": {},
     "output_type": "execute_result"
    }
   ],
   "source": [
    "clear()\n",
    "\n",
    "%time expressions(c10)[2016]"
   ]
  },
  {
   "cell_type": "markdown",
   "metadata": {
    "button": false,
    "deletable": true,
    "new_sheet": false,
    "run_control": {
     "read_only": false
    }
   },
   "source": [
    "# The Answer (?)\n",
    "\n",
    "Now we can read off the answer:"
   ]
  },
  {
   "cell_type": "code",
   "execution_count": 19,
   "metadata": {
    "button": false,
    "collapsed": false,
    "deletable": true,
    "new_sheet": false,
    "run_control": {
     "read_only": false
    }
   },
   "outputs": [
    {
     "data": {
      "text/plain": [
       "30066"
      ]
     },
     "execution_count": 19,
     "metadata": {},
     "output_type": "execute_result"
    }
   ],
   "source": [
    "COUNTS[c10][2016]"
   ]
  },
  {
   "cell_type": "markdown",
   "metadata": {
    "button": false,
    "deletable": true,
    "new_sheet": false,
    "run_control": {
     "read_only": false
    }
   },
   "source": [
    "This says there are 30,066 distinct expressions for 2016. \n",
    "\n",
    "**But I don't believe it.**\n",
    "\n",
    "We'll see why in a bit, but first some trivia questions to answer:\n",
    "\n",
    "- How many distinct values can be made?"
   ]
  },
  {
   "cell_type": "code",
   "execution_count": 20,
   "metadata": {
    "button": false,
    "collapsed": false,
    "deletable": true,
    "new_sheet": false,
    "run_control": {
     "read_only": false
    }
   },
   "outputs": [
    {
     "data": {
      "text/plain": [
       "5789961"
      ]
     },
     "execution_count": 20,
     "metadata": {},
     "output_type": "execute_result"
    }
   ],
   "source": [
    "len(expressions(c10))"
   ]
  },
  {
   "cell_type": "markdown",
   "metadata": {
    "button": false,
    "deletable": true,
    "new_sheet": false,
    "run_control": {
     "read_only": false
    }
   },
   "source": [
    "- What's the smallest positive integer than cannot be made?"
   ]
  },
  {
   "cell_type": "code",
   "execution_count": 21,
   "metadata": {
    "button": false,
    "collapsed": false,
    "deletable": true,
    "new_sheet": false,
    "run_control": {
     "read_only": false
    }
   },
   "outputs": [
    {
     "data": {
      "text/plain": [
       "10843"
      ]
     },
     "execution_count": 21,
     "metadata": {},
     "output_type": "execute_result"
    }
   ],
   "source": [
    "import itertools \n",
    "\n",
    "def unmakeable(numbers):\n",
    "    \"Smallest positive integer than can't be made by numbers.\"\n",
    "    return next(i for i in itertools.count(0) if i not in expressions(numbers))\n",
    "\n",
    "unmakeable(c10)"
   ]
  },
  {
   "cell_type": "markdown",
   "metadata": {
    "button": false,
    "deletable": true,
    "new_sheet": false,
    "run_control": {
     "read_only": false
    }
   },
   "source": [
    "- What is the expected theoretical number of expressions? It is [Catalan(9)](http://www.wolframalpha.com/input/?i=9th+catalan+number) &times; 4<sup>9</sup>:"
   ]
  },
  {
   "cell_type": "code",
   "execution_count": 22,
   "metadata": {
    "button": false,
    "collapsed": false,
    "deletable": true,
    "new_sheet": false,
    "run_control": {
     "read_only": false
    }
   },
   "outputs": [
    {
     "data": {
      "text/plain": [
       "1274544128"
      ]
     },
     "execution_count": 22,
     "metadata": {},
     "output_type": "execute_result"
    }
   ],
   "source": [
    "4862 * 4 ** 9"
   ]
  },
  {
   "cell_type": "markdown",
   "metadata": {
    "button": false,
    "deletable": true,
    "new_sheet": false,
    "run_control": {
     "read_only": false
    }
   },
   "source": [
    "- How many expressions were actually entered in the `COUNTS` table?"
   ]
  },
  {
   "cell_type": "code",
   "execution_count": 23,
   "metadata": {
    "button": false,
    "collapsed": false,
    "deletable": true,
    "new_sheet": false,
    "run_control": {
     "read_only": false
    }
   },
   "outputs": [
    {
     "data": {
      "text/plain": [
       "1264876734"
      ]
     },
     "execution_count": 23,
     "metadata": {},
     "output_type": "execute_result"
    }
   ],
   "source": [
    "sum(COUNTS[c10].values())"
   ]
  },
  {
   "cell_type": "markdown",
   "metadata": {
    "button": false,
    "deletable": true,
    "new_sheet": false,
    "run_control": {
     "read_only": false
    }
   },
   "source": [
    "So, about 1% of the 1.27 billion theoretically possible expressions do not appear in `COUNTS`; these are the `ZeroDivisionErrors`.\n",
    "\n",
    "# Dealing with Round-off Errors\n",
    "\n",
    "Why don't I believe the answer of  30,066 expressions? Because floating point division can have round-off errors.  For example:"
   ]
  },
  {
   "cell_type": "code",
   "execution_count": 24,
   "metadata": {
    "button": false,
    "collapsed": false,
    "deletable": true,
    "new_sheet": false,
    "run_control": {
     "read_only": false
    }
   },
   "outputs": [
    {
     "data": {
      "text/plain": [
       "2015.9999999999998"
      ]
     },
     "execution_count": 24,
     "metadata": {},
     "output_type": "execute_result"
    }
   ],
   "source": [
    "2015 + 1/3 + 1/3 + 1/3"
   ]
  },
  {
   "cell_type": "code",
   "execution_count": 25,
   "metadata": {
    "button": false,
    "collapsed": false,
    "deletable": true,
    "new_sheet": false,
    "run_control": {
     "read_only": false
    }
   },
   "outputs": [
    {
     "data": {
      "text/plain": [
       "False"
      ]
     },
     "execution_count": 25,
     "metadata": {},
     "output_type": "execute_result"
    }
   ],
   "source": [
    "2015 + 1/3 + 1/3 + 1/3 == 2016"
   ]
  },
  {
   "cell_type": "markdown",
   "metadata": {
    "button": false,
    "deletable": true,
    "new_sheet": false,
    "run_control": {
     "read_only": false
    }
   },
   "source": [
    "So there might be perfectly good solutions that are hiding in the `EXPS` table under 2015.9999999999998 (or some similar number) when they should be exactly 2016. Let's find all the values that are very near to 2016:"
   ]
  },
  {
   "cell_type": "code",
   "execution_count": 26,
   "metadata": {
    "button": false,
    "collapsed": false,
    "deletable": true,
    "new_sheet": false,
    "run_control": {
     "read_only": false
    }
   },
   "outputs": [
    {
     "data": {
      "text/plain": [
       "{2015.999999999997,\n",
       " 2015.999999999999,\n",
       " 2015.9999999999993,\n",
       " 2015.9999999999995,\n",
       " 2015.9999999999998,\n",
       " 2016.0,\n",
       " 2016.0000000000002,\n",
       " 2016.0000000000005,\n",
       " 2016.0000000000018,\n",
       " 2016.000000000002,\n",
       " 2016.0000000000023}"
      ]
     },
     "execution_count": 26,
     "metadata": {},
     "output_type": "execute_result"
    }
   ],
   "source": [
    "{val for val in expressions(c10)\n",
    " if abs(val - 2016) < 0.0001}"
   ]
  },
  {
   "cell_type": "markdown",
   "metadata": {
    "button": false,
    "deletable": true,
    "new_sheet": false,
    "run_control": {
     "read_only": false
    }
   },
   "source": [
    "I suspect that all of these actually should be exactly 2016. \n",
    "\n",
    "To find out for sure, let's re-do all the calculations using exact rational arithmetic, as provided by the `fractions.Fraction` data type. From experience I know that this will be an order of magnitude slower, so we're looking at maybe a 20 minute computation.\n",
    "\n",
    "I'll replace the computation `L / R` with `divide(L, R)`, which calls `Fraction`. To mitigate the expense of this computation, I make two optimizations. First, `divide` replaces a whole fraction, such as `Fraction(6, 2)`, with an `int`, such as `3`. Second, I modify `expr` to *not* fill in the `EXPS[c10]` table, except for `EXPS[c10][2016]`. The rationale is that we don't need the other entries, and by not storing them, we save a lot of memory, and thus save garbage collection time."
   ]
  },
  {
   "cell_type": "code",
   "execution_count": 27,
   "metadata": {
    "button": false,
    "collapsed": true,
    "deletable": true,
    "new_sheet": false,
    "run_control": {
     "read_only": false
    }
   },
   "outputs": [],
   "source": [
    "from fractions import Fraction\n",
    "\n",
    "def expressions(numbers):\n",
    "    \"Fill EXPS table for numbers, and all sub-sequences of numbers. Return EXPS[numbers]\"\n",
    "    if numbers in EXPS: # Already did the work\n",
    "        pass\n",
    "    elif len(numbers) == 1: # Only one way to make an expression out of a single number\n",
    "        expr(numbers, numbers[0], str(numbers[0]), 1)\n",
    "    else: # Split in all ways; fill tables for left and right; combine tables in all ways\n",
    "        for (Lnums, Rnums) in splits(numbers):\n",
    "            for (L, R) in itertools.product(expressions(Lnums), expressions(Rnums)):\n",
    "                Lexp, Rexp = '(' + EXPS[Lnums][L], EXPS[Rnums][R] + ')'\n",
    "                count = COUNTS[Lnums][L] * COUNTS[Rnums][R]\n",
    "                if R != 0: \n",
    "                    expr(numbers, divide(L, R), Lexp + '/' + Rexp, count)\n",
    "                expr(numbers, L * R, Lexp + '*' + Rexp, count)\n",
    "                expr(numbers, L - R, Lexp + '-' + Rexp, count)\n",
    "                expr(numbers, L + R, Lexp + '+' + Rexp, count)\n",
    "    return EXPS[numbers]\n",
    "\n",
    "def divide(L, R):\n",
    "    \"Exact rational division of L/R.\"\n",
    "    f = Fraction(L, R)\n",
    "    return f.numerator if f.denominator == 1 else f\n",
    "\n",
    "def expr(numbers, value, exp, count):\n",
    "    \"Fill EXPS[numbers][val] with exp, and increment COUNTS.\"\n",
    "    if numbers == c10 and value != 2016: \n",
    "        return\n",
    "    EXPS[numbers][value] = exp\n",
    "    COUNTS[numbers][value] += count"
   ]
  },
  {
   "cell_type": "markdown",
   "metadata": {
    "button": false,
    "deletable": true,
    "new_sheet": false,
    "run_control": {
     "read_only": false
    }
   },
   "source": [
    "# The Answer (!)"
   ]
  },
  {
   "cell_type": "code",
   "execution_count": 28,
   "metadata": {
    "button": false,
    "collapsed": false,
    "deletable": true,
    "new_sheet": false,
    "run_control": {
     "read_only": false
    }
   },
   "outputs": [
    {
     "name": "stdout",
     "output_type": "stream",
     "text": [
      "CPU times: user 11min 57s, sys: 704 ms, total: 11min 58s\n",
      "Wall time: 11min 59s\n"
     ]
    },
    {
     "data": {
      "text/plain": [
       "'(((((((10+((9*8)*7))-6)-5)*4)+3)+2)-1)'"
      ]
     },
     "execution_count": 28,
     "metadata": {},
     "output_type": "execute_result"
    }
   ],
   "source": [
    "clear()\n",
    "\n",
    "%time expressions(c10)[2016]"
   ]
  },
  {
   "cell_type": "code",
   "execution_count": 29,
   "metadata": {
    "button": false,
    "collapsed": false,
    "deletable": true,
    "new_sheet": false,
    "run_control": {
     "read_only": false
    }
   },
   "outputs": [
    {
     "data": {
      "text/plain": [
       "44499"
      ]
     },
     "execution_count": 29,
     "metadata": {},
     "output_type": "execute_result"
    }
   ],
   "source": [
    "COUNTS[c10][2016]"
   ]
  },
  {
   "cell_type": "markdown",
   "metadata": {
    "button": false,
    "deletable": true,
    "new_sheet": false,
    "run_control": {
     "read_only": false
    }
   },
   "source": [
    "That did indeed take about ten times longer, but we now have an answer that I have more confidence in (but I wouldn't accept it as definitive until it was independently verified or I had an extensive tst suite). And of course, if you have a different definition of \"distinct solution,\" you will get a different answer."
   ]
  },
  {
   "cell_type": "markdown",
   "metadata": {
    "button": false,
    "deletable": true,
    "new_sheet": false,
    "run_control": {
     "read_only": false
    }
   },
   "source": [
    "# Dealing with the Exponentiation Operator\n",
    "\n",
    "Now let's turn to another of Alex's puzzles: making 2016 and other target values from a string of four or five `4`s,  with exponentiation allowed. Exponentiation is tricky for five reasons:\n",
    "\n",
    "- **Division by zero**: `(0 ** -1)` is the same as `(1 / 0)`, and gives a `ZeroDivisionError`.\n",
    "- **Irrationals**: `(2 ** (1 / 2))` is an irrational number; so we can't do exact rational arithmetic.\n",
    "- **Imaginaries**: `(-1 ** (1 / 2))` is an imaginary number, but Python gives a `ValueError`.\n",
    "- **Overflow**: `(10. ** (9. ** 8.))`, as a `float`, gives a `OverflowError`.\n",
    "- **Finite memory**: [`(10 ** (9 ** (8 * 7)))`](http://www.wolframalpha.com/input/?i=10+%5E+9+%5E+56), as an `int`, gives an `OutOfMemoryError` (even if your memory was expanded to use every atom in the universe).\n",
    "\n",
    "How do we deal with this? We can't do exact rational arithmetic. We could try to do exact *algebra*, perhaps using [SymPy](http://www.sympy.org/en/index.html), but that seems difficult\n",
    "and computationally expensive, so instead I will abandon the goal of exact computation, and do everything in the domain of floats (reluctantly accepting that there will be some round-off errors). We'll coerce numbers to floats when we first put them in the table, and all subsequent operations will be with floats. I define a new function, `expr2`,  to call `expr`, catching arithmetic errors. Since we are making some rather arbitrary decisions about what expressions are allowed (e.g. imaginary numbers are not), I'll give up on trying to maintain `COUNTS`."
   ]
  },
  {
   "cell_type": "code",
   "execution_count": 30,
   "metadata": {
    "button": false,
    "collapsed": false,
    "deletable": true,
    "new_sheet": false,
    "run_control": {
     "read_only": false
    }
   },
   "outputs": [],
   "source": [
    "from operator import add, sub, mul, truediv\n",
    "\n",
    "def expressions(numbers):\n",
    "    \"Fill EXPS table for numbers, and all sub-sequences of numbers. Return EXPS[numbers]\"\n",
    "    if numbers in EXPS: # Already did the work\n",
    "        pass\n",
    "    elif len(numbers) == 1: # Only one way to make an expression out of a single number\n",
    "        expr(numbers, float(numbers[0]), str(numbers[0]))\n",
    "    else: # Split in all ways; fill tables for left and right; combine tables in all ways\n",
    "        for (Lnums, Rnums) in splits(numbers):\n",
    "            for (L, R) in itertools.product(expressions(Lnums), expressions(Rnums)):\n",
    "                Lexp, Rexp = '(' + EXPS[Lnums][L], EXPS[Rnums][R] + ')'\n",
    "                expr2(numbers, L, pow,     R, Lexp + '**' + Rexp)\n",
    "                expr2(numbers, L, truediv, R, Lexp + '/'  + Rexp)\n",
    "                expr2(numbers, L, mul,     R, Lexp + '*'  + Rexp)\n",
    "                expr2(numbers, L, add,     R, Lexp + '+'  + Rexp)\n",
    "                expr2(numbers, L, sub,     R, Lexp + '-'  + Rexp)\n",
    "    return EXPS[numbers]\n",
    "\n",
    "def expr2(numbers, L, op, R, exp): \n",
    "    \"Fill table entries for op(L, R), catching errors.\"\n",
    "    try:\n",
    "        expr(numbers, op(L, R), exp)\n",
    "    except (ArithmeticError, ValueError):\n",
    "        pass\n",
    "    \n",
    "def expr(numbers, value, exp): EXPS[numbers][value] = exp"
   ]
  },
  {
   "cell_type": "markdown",
   "metadata": {
    "button": false,
    "deletable": true,
    "new_sheet": false,
    "run_control": {
     "read_only": false
    }
   },
   "source": [
    "Now we can solve the \"2016 with five fours\" puzzle:"
   ]
  },
  {
   "cell_type": "code",
   "execution_count": 31,
   "metadata": {
    "button": false,
    "collapsed": false,
    "deletable": true,
    "new_sheet": false,
    "run_control": {
     "read_only": false
    }
   },
   "outputs": [
    {
     "data": {
      "text/plain": [
       "'(((4**4)-4)*(4+4))'"
      ]
     },
     "execution_count": 31,
     "metadata": {},
     "output_type": "execute_result"
    }
   ],
   "source": [
    "clear()\n",
    "\n",
    "expressions((4, 4, 4, 4, 4))[2016]"
   ]
  },
  {
   "cell_type": "markdown",
   "metadata": {
    "button": false,
    "deletable": true,
    "new_sheet": false,
    "run_control": {
     "read_only": false
    }
   },
   "source": [
    "I'll define a function to create a table of makeable integers:"
   ]
  },
  {
   "cell_type": "code",
   "execution_count": 32,
   "metadata": {
    "button": false,
    "collapsed": false,
    "deletable": true,
    "new_sheet": false,
    "run_control": {
     "read_only": false
    }
   },
   "outputs": [],
   "source": [
    "def makeable(numbers):\n",
    "    \"A table of {i: expression} for all integers i from 0 up to first unmakeable.\"\n",
    "    targets = range(unmakeable(numbers))\n",
    "    return {i: expressions(numbers)[i]\n",
    "            for i in targets}"
   ]
  },
  {
   "cell_type": "markdown",
   "metadata": {
    "button": false,
    "deletable": true,
    "new_sheet": false,
    "run_control": {
     "read_only": false
    }
   },
   "source": [
    "We'll use this to see if we can solve the \"0 to 9 with four fours\" puzzle:"
   ]
  },
  {
   "cell_type": "code",
   "execution_count": 33,
   "metadata": {
    "button": false,
    "collapsed": false,
    "deletable": true,
    "new_sheet": false,
    "run_control": {
     "read_only": false
    }
   },
   "outputs": [
    {
     "data": {
      "text/plain": [
       "{0: '(((4+4)-4)-4)',\n",
       " 1: '(((4+4)-4)/4)',\n",
       " 2: '((4/(4+4))*4)',\n",
       " 3: '(((4+4)+4)/4)',\n",
       " 4: '(((4-4)*4)+4)',\n",
       " 5: '(((4*4)+4)/4)',\n",
       " 6: '(((4+4)/4)+4)',\n",
       " 7: '((4-(4/4))+4)',\n",
       " 8: '(((4+4)-4)+4)',\n",
       " 9: '(((4/4)+4)+4)'}"
      ]
     },
     "execution_count": 33,
     "metadata": {},
     "output_type": "execute_result"
    }
   ],
   "source": [
    "makeable((4, 4, 4, 4))"
   ]
  },
  {
   "cell_type": "markdown",
   "metadata": {
    "button": false,
    "deletable": true,
    "new_sheet": false,
    "run_control": {
     "read_only": false
    }
   },
   "source": [
    "Yes: we can get 0 to 9 (but not 10).\n",
    "\n",
    "Now I'll see what integers we can make with five fives. Legend has it that you can get all the way up to 55:"
   ]
  },
  {
   "cell_type": "code",
   "execution_count": 34,
   "metadata": {
    "button": false,
    "collapsed": false,
    "deletable": true,
    "new_sheet": false,
    "run_control": {
     "read_only": false
    }
   },
   "outputs": [
    {
     "data": {
      "text/plain": [
       "{0: '((((5-5)*5)-5)+5)',\n",
       " 1: '(((5-(5*5))/5)+5)',\n",
       " 2: '((((5+5)/5)-5)+5)',\n",
       " 3: '((((5*5)-5)-5)/5)',\n",
       " 4: '((((5-5)-5)/5)+5)',\n",
       " 5: '((5/((5**5)**5))+5)',\n",
       " 6: '((((5/5)+5)*5)/5)',\n",
       " 7: '(((5/5)+(5/5))+5)',\n",
       " 8: '((((5+5)+5)/5)+5)',\n",
       " 9: '((((5+5)*5)-5)/5)',\n",
       " 10: '((((5*5)-5)-5)-5)',\n",
       " 11: '((((5+5)*5)+5)/5)',\n",
       " 12: '((((5+5)/5)+5)+5)'}"
      ]
     },
     "execution_count": 34,
     "metadata": {},
     "output_type": "execute_result"
    }
   ],
   "source": [
    "ff = (5, 5, 5, 5, 5)\n",
    "\n",
    "makeable(ff)"
   ]
  },
  {
   "cell_type": "markdown",
   "metadata": {
    "button": false,
    "deletable": true,
    "new_sheet": false,
    "run_control": {
     "read_only": false
    }
   },
   "source": [
    "We didn't get there. \n",
    "\n",
    "# More Operations\n",
    "\n",
    "With some research, I [see](http://www.infobarrel.com/Five_Fives_Problem_Recreational_Mathematics) that others who got up to 55 with five 5s used these three concepts:\n",
    "\n",
    "- **digit concatenation**: `55`\n",
    "- **decimal point**: `.5`\n",
    "- **unary operations**: \n",
    "  - **factorial**: `5! = 120` \n",
    "  - **square root**:  &radic; `5`\n",
    "\n",
    "\n",
    "We'll refactor `expressions` to call these three new subfunctions:\n",
    "\n",
    "- `digit_expressions`: For every subsequence of numbers, we'll smush the digits together, and then make a table entry for those resulting digits as an integer, and with a decimal point in each possible position.\n",
    "- `binary_expressions`: The code that previously was the main body of `expressions`.\n",
    "- `unary_expressions`: Apply the unary operators to every entry in the table. (Because it applies to entries already in the table, make sure to call `unary_expressions` last.)\n",
    "\n",
    "We'll still do all computation in the domain of floats."
   ]
  },
  {
   "cell_type": "code",
   "execution_count": 35,
   "metadata": {
    "button": false,
    "collapsed": false,
    "deletable": true,
    "new_sheet": false,
    "run_control": {
     "read_only": false
    }
   },
   "outputs": [],
   "source": [
    "from math import sqrt, factorial\n",
    "\n",
    "def expressions(numbers):\n",
    "    \"Fill EXPS table for numbers, and all sub-sequences of numbers. Return EXPS[numbers]\"\n",
    "    if numbers not in EXPS: \n",
    "        digit_expressions(numbers)\n",
    "        binary_expressions(numbers)\n",
    "        unary_expressions(numbers)\n",
    "    return EXPS[numbers]\n",
    "\n",
    "def digit_expressions(numbers):\n",
    "    \"Fill tables with expressions made from the digits of numbers, and a decimal point.\"\n",
    "    exp = ''.join(str(n) for n in numbers)\n",
    "    expr(numbers, float(exp), exp)\n",
    "    for d in range(len(exp)):\n",
    "        decimal = exp[:d] + '.' + exp[d:]\n",
    "        expr(numbers, float(decimal), decimal)\n",
    "            \n",
    "def binary_expressions(numbers):\n",
    "    \"Fill tables with all expressions formed by splitting numbers and combining with an op.\"\n",
    "    for (Lnums, Rnums) in splits(numbers):\n",
    "        for (L, R) in itertools.product(expressions(Lnums), expressions(Rnums)):\n",
    "            Lexp, Rexp = '(' + EXPS[Lnums][L], EXPS[Rnums][R] + ')'\n",
    "            if 1 <= R <= 10 and (L > 0 or int(R) == R):\n",
    "                expr2(numbers, L, pow, R, Lexp + '**' + Rexp)\n",
    "            expr2(numbers, L, truediv, R, Lexp + '/'  + Rexp)\n",
    "            expr2(numbers, L, mul,     R, Lexp + '*'  + Rexp)\n",
    "            expr2(numbers, L, add,     R, Lexp + '+'  + Rexp)\n",
    "            expr2(numbers, L, sub,     R, Lexp + '-'  + Rexp)\n",
    "            \n",
    "def unary_expressions(numbers):\n",
    "    for v in list(EXPS[numbers]):\n",
    "        exp = EXPS[numbers][v]\n",
    "        if v > 0: \n",
    "            expr(numbers, sqrt(v), 'â' + exp)\n",
    "        if 2 <= v <= 6 and v == int(v):\n",
    "            expr(numbers, factorial(v), exp + '!')"
   ]
  },
  {
   "cell_type": "markdown",
   "metadata": {
    "button": false,
    "deletable": true,
    "new_sheet": false,
    "run_control": {
     "read_only": false
    }
   },
   "source": [
    "Now that we have more variety in the types of expressions formed, I want to choose a \"good\" expression to represent each value. I'll modify `expr` so that when there are multiple expressions for a value, it chooses the one with the least \"weight,\" where I define `weight` as the length of the string, plus a penalty of 1 for every square root sign (just because square root feels \"heavier\" than the other operations):"
   ]
  },
  {
   "cell_type": "code",
   "execution_count": 36,
   "metadata": {
    "button": false,
    "collapsed": true,
    "deletable": true,
    "new_sheet": false,
    "run_control": {
     "read_only": false
    }
   },
   "outputs": [],
   "source": [
    "def expr(numbers, value, exp): \n",
    "    if value not in EXPS[numbers] or weight(exp) < weight(EXPS[numbers][value]):\n",
    "        EXPS[numbers][value] = exp\n",
    "        \n",
    "def weight(exp): return len(exp) + exp.count('â')"
   ]
  },
  {
   "cell_type": "markdown",
   "metadata": {
    "button": false,
    "deletable": true,
    "new_sheet": false,
    "run_control": {
     "read_only": false
    }
   },
   "source": [
    "We'll try again:"
   ]
  },
  {
   "cell_type": "code",
   "execution_count": 37,
   "metadata": {
    "button": false,
    "collapsed": false,
    "deletable": true,
    "new_sheet": false,
    "run_control": {
     "read_only": false
    }
   },
   "outputs": [
    {
     "name": "stdout",
     "output_type": "stream",
     "text": [
      "CPU times: user 57.4 s, sys: 19.2 s, total: 1min 16s\n",
      "Wall time: 1min 17s\n"
     ]
    },
    {
     "data": {
      "text/plain": [
       "{0: '(5*(55-55))',\n",
       " 1: '((55/55)**5)',\n",
       " 2: '(55/(.5*55))',\n",
       " 3: 'â(5!-(555/5))',\n",
       " 4: '(5-(55/55))',\n",
       " 5: '(5.55-.55)',\n",
       " 6: '(5+(55/55))',\n",
       " 7: '(((5+55)/5)-5)',\n",
       " 8: '(.5*(5+(55/5)))',\n",
       " 9: '(5!-(555/5))',\n",
       " 10: '(5!-(55+55))',\n",
       " 11: '(5.5/(5.5-5))',\n",
       " 12: '(5!/(55/5.5))',\n",
       " 13: '((5+(5+55))/5)',\n",
       " 14: '((5*5)-(55/5))',\n",
       " 15: '(5+(55/5.5))',\n",
       " 16: '(5+(5.5+5.5))',\n",
       " 17: '(5+((5+55)/5))',\n",
       " 18: '(5+((5!-55)/5))',\n",
       " 19: '((5*5)-(.5+5.5))',\n",
       " 20: '(55/(5*.55))',\n",
       " 21: '(5+(5+(55/5)))',\n",
       " 22: '((55+55)/5)',\n",
       " 23: '((5+(55/.5))/5)',\n",
       " 24: '(5-(55/55))!',\n",
       " 25: '(55-(5+(5*5)))',\n",
       " 26: '(55-(5+(5!/5)))',\n",
       " 27: '(.5*(55-(5/5)))',\n",
       " 28: '(.5*(.5+55.5))',\n",
       " 29: '(5+(5!/(5.5-.5)))',\n",
       " 30: '(5*((55/5)-5))',\n",
       " 31: '(55-(5-(5/5))!)',\n",
       " 32: '(55-((5!-5)/5))',\n",
       " 33: '(.55*(5+55))',\n",
       " 34: '((5!+(55-5))/5)',\n",
       " 35: '(5+(55-(5*5)))',\n",
       " 36: '((5*5)+(55/5))',\n",
       " 37: '((5!+(5!-55))/5)',\n",
       " 38: '(5+(.5*(5!*.55)))',\n",
       " 39: '(((5*5)-5.5)/.5)',\n",
       " 40: '(55-(5+(5+5)))',\n",
       " 41: '(5!-((5!/5)+55))',\n",
       " 42: '((5+5.5)/(.5*.5))',\n",
       " 43: '(55-(5!/(5+5)))',\n",
       " 44: '(55-(55/5))',\n",
       " 45: '((5*5!)-555)',\n",
       " 46: '(55-((5-.5)/.5))',\n",
       " 47: '((5!/5)+((5!-5)/5))',\n",
       " 48: '(5!/(5*(5.5-5)))',\n",
       " 49: '(55-(.5+5.5))',\n",
       " 50: '(55.5-5.5)',\n",
       " 51: '(.5+(55.5-5))',\n",
       " 52: '(55-(.5+(.5*5)))',\n",
       " 53: '(55.5-(.5*5))',\n",
       " 54: '(((5*55)-5)/5)',\n",
       " 55: '(.5*(55+55))',\n",
       " 56: '((5+(5*55))/5)',\n",
       " 57: '(55+((5+5)/5))',\n",
       " 58: '((.5*5)+55.5)',\n",
       " 59: '(5+(55-(5/5)))',\n",
       " 60: '(5+(55.5-.5))',\n",
       " 61: '(5.5+55.5)',\n",
       " 62: '((55-(5!/5))/.5)',\n",
       " 63: '(5.5+(.5*(5!-5)))',\n",
       " 64: '(5!-(.5+55.5))',\n",
       " 65: '(.5+(5!-55.5))',\n",
       " 66: '(55+(55/5))',\n",
       " 67: '(55+(5!/(5+5)))',\n",
       " 68: '(5.5+(.5*(5+5!)))',\n",
       " 69: '(5!-((.5+(5*5))/.5))',\n",
       " 70: '(5+(5+(5+55)))',\n",
       " 71: '((.5*5!)+(55/5))',\n",
       " 72: '((.5+5.5)!/(5+5))',\n",
       " 73: '((5*5)+(5!/(.5*5)))',\n",
       " 74: '((5!/5)+(55-5))',\n",
       " 75: '((5*5)+(55-5))',\n",
       " 76: '(5+(5+(5!*.55)))',\n",
       " 77: '(5+(.5*(5!+(5!/5))))',\n",
       " 78: '(55+((5!-5)/5))',\n",
       " 79: '(55+(5-(5/5))!)',\n",
       " 80: '(5*(5+(55/5)))',\n",
       " 81: '((â.5+(5!/â(5-.5)))/â.5)',\n",
       " 82: '(5!-(((5!/5)-5)/.5))',\n",
       " 83: '((.5*5!)+((5!-5)/5))',\n",
       " 84: '(5+((5!/5)+55))',\n",
       " 85: '(5+((5*5)+55))',\n",
       " 86: '((55/.5)-(5!/5))',\n",
       " 87: '((555-5!)/5)',\n",
       " 88: '(.5+(.5*(5!+55)))',\n",
       " 89: '(5!-(55-(5!/5)))',\n",
       " 90: '(5!-(55-(5*5)))',\n",
       " 91: '((5*5)+(5!*.55))',\n",
       " 92: '(5!-(.5+(.5*55)))',\n",
       " 93: '(.5+(5!-(.5*55)))',\n",
       " 94: '(5!-((5/5)+(5*5)))',\n",
       " 95: '(((55-5)/.5)-5)',\n",
       " 96: '(5!-(5!/(5.5-.5)))',\n",
       " 97: '(5!-((5!/5)-(5/5)))',\n",
       " 98: '(5!-(55/(.5*5)))',\n",
       " 99: '((55-5.5)/.5)',\n",
       " 100: '((55/.5)-(5+5))',\n",
       " 101: '((55.5-5)/.5)',\n",
       " 102: '(5+(5!-((5!-5)/5)))',\n",
       " 103: '(55+(5!/(.5*5)))',\n",
       " 104: '(5!-(5+(55/5)))',\n",
       " 105: '(55+(55-5))',\n",
       " 106: '((555/5)-5)',\n",
       " 107: '(5!-((5!-55)/5))',\n",
       " 108: '(5!-((5+55)/5))',\n",
       " 109: '(5!-(5.5+5.5))',\n",
       " 110: '((555-5)/5)',\n",
       " 111: '(555/â(5*5))',\n",
       " 112: '((5+555)/5)',\n",
       " 113: '(5!-(5+((5+5)/5)))',\n",
       " 114: '(5+(5!-(55/5)))',\n",
       " 115: '(5+(55+55))',\n",
       " 116: '(5+(555/5))',\n",
       " 117: '(5!-(5.5-(.5*5)))',\n",
       " 118: '(5!-(5!/(5+55)))',\n",
       " 119: '(5!-(55/55))',\n",
       " 120: '(5.55-.55)!',\n",
       " 121: '(5!+(55/55))',\n",
       " 122: '(5!+(5!/(5+55)))',\n",
       " 123: '(5!+(5.5-(.5*5)))',\n",
       " 124: '(5!+â(5+(55/5)))',\n",
       " 125: '(.5*(5*(55-5)))',\n",
       " 126: '(5!+((55/5)-5))',\n",
       " 127: '((5!/(5/5.5))-5)',\n",
       " 128: '(5!+(5.5+(.5*5)))',\n",
       " 129: '((5!-55.5)/.5)',\n",
       " 130: '(5!+(55/5.5))',\n",
       " 131: '(5!+(5.5+5.5))',\n",
       " 132: '(5!*(.55+.55))',\n",
       " 133: '(5!+((5!-55)/5))',\n",
       " 134: '((5!/5)+(55/.5))',\n",
       " 135: '((5!+555)/5)',\n",
       " 136: '(5+(5!+(55/5)))',\n",
       " 137: '(5+(5!/(5/5.5)))',\n",
       " 138: '(.5+(.5*(5*55)))',\n",
       " 139: '(((.5+5.5)!/5)-5)',\n",
       " 140: '(.5*(5+(5*55)))',\n",
       " 141: '(5!+((5+5.5)/.5))',\n",
       " 142: '(5!+(55/(.5*5)))',\n",
       " 143: '(((.5+5.5)!-5)/5)',\n",
       " 144: '(((55/5)-5)!/5)',\n",
       " 145: '(5!+(.5*(55-5)))',\n",
       " 146: '(5!+((5/5)+(5*5)))',\n",
       " 147: '(5!+((.5*55)-.5))',\n",
       " 148: '(.5+(5!+(.5*55)))',\n",
       " 149: '(5+((.5+5.5)!/5))',\n",
       " 150: '(5*(55-(5*5)))',\n",
       " 151: '(5!+(55-(5!/5)))',\n",
       " 152: '(5!+(((5+5)/5)**5))',\n",
       " 153: '(5!+(.5*(5!*.55)))',\n",
       " 154: '(5+(5+(5!+(5!/5))))',\n",
       " 155: '(5*(55-(5!/5)))',\n",
       " 156: '((5!+(5!*5.5))/5)'}"
      ]
     },
     "execution_count": 37,
     "metadata": {},
     "output_type": "execute_result"
    }
   ],
   "source": [
    "clear()\n",
    "\n",
    "%time makeable(ff)"
   ]
  },
  {
   "cell_type": "markdown",
   "metadata": {
    "button": false,
    "deletable": true,
    "new_sheet": false,
    "run_control": {
     "read_only": false
    }
   },
   "source": [
    "Wow! We almost tripled the 55 goal! I have to say, I would never have come up with the solution for 81 on my own. It works because (â(5 - .5) \\* â0.5) = â(4.5 \\* 0.5) = (â2.25) = 1.5."
   ]
  },
  {
   "cell_type": "markdown",
   "metadata": {
    "button": false,
    "deletable": true,
    "new_sheet": false,
    "run_control": {
     "read_only": false
    }
   },
   "source": [
    "# Even More Operations \n",
    "\n",
    "At the risk of making the computation take even longer, I'm going to add two more operations:\n",
    "\n",
    "- **Floor**: &lfloor;*x*&rfloor; is the largest integer less than or equal to *x* (in other words, rounding down).\n",
    "- **Ceiling**: &lceil;*x*&rceil; is the smallest integer greater than or equal to *x* (in other words, rounding up).\n",
    "\n",
    "These operations are useful because they produce integers, and our targets are the integers (from 0 up to whatever). \n",
    "\n",
    "In addition, I'll allow two consecutive applications of unary operators, thus allowing expressions such as\n",
    "\n",
    "- ââ5â = 2\n",
    "- â5.5â! = 720\n",
    "\n",
    "But still not allowing three consecutive applications, such as\n",
    "\n",
    "- ââ5â! = 6\n",
    "\n",
    "To compensate for these new expressions, I'll be pickier about when I allow the square root function to apply."
   ]
  },
  {
   "cell_type": "code",
   "execution_count": 38,
   "metadata": {
    "button": false,
    "collapsed": true,
    "deletable": true,
    "new_sheet": false,
    "run_control": {
     "read_only": false
    }
   },
   "outputs": [],
   "source": [
    "from math import floor, ceil\n",
    "\n",
    "def unary_expressions(numbers):\n",
    "    for i in range(2):\n",
    "        for v in list(EXPS[numbers]):\n",
    "            exp = EXPS[numbers][v]\n",
    "            if 0 < v <= 100 and 4*v == round(4*v):\n",
    "                expr(numbers, sqrt(v), 'â' + exp)\n",
    "            if 2 <= v <= 6 and v == round(v):\n",
    "                expr(numbers, factorial(v), exp + '!')\n",
    "            if v != round(v):\n",
    "                uexp = unbracket(exp)\n",
    "                expr(numbers, floor(v), 'â' + uexp + 'â')\n",
    "                expr(numbers, ceil(v),  'â' + uexp + 'â')\n",
    "            \n",
    "def unbracket(exp):\n",
    "    \"Remove outer brackets from exp if they are there.\"\n",
    "    if exp.startswith('(') and exp.endswith(')'):\n",
    "        return exp[1:-1]\n",
    "    else:\n",
    "        return exp"
   ]
  },
  {
   "cell_type": "markdown",
   "metadata": {
    "button": false,
    "deletable": true,
    "new_sheet": false,
    "run_control": {
     "read_only": false
    }
   },
   "source": [
    "Let's try:"
   ]
  },
  {
   "cell_type": "code",
   "execution_count": 39,
   "metadata": {
    "button": false,
    "collapsed": false,
    "deletable": true,
    "new_sheet": false,
    "run_control": {
     "read_only": false
    }
   },
   "outputs": [
    {
     "name": "stdout",
     "output_type": "stream",
     "text": [
      "CPU times: user 3min 16s, sys: 1min 6s, total: 4min 23s\n",
      "Wall time: 4min 23s\n"
     ]
    },
    {
     "data": {
      "text/plain": [
       "{0: 'â.55555â',\n",
       " 1: 'â.55555â',\n",
       " 2: 'â5*.5555â',\n",
       " 3: 'â5*.5555â',\n",
       " 4: 'â5-.5555â',\n",
       " 5: 'â5.5555â',\n",
       " 6: 'â5.5555â',\n",
       " 7: 'â.5+5.555â',\n",
       " 8: 'ââ55+.555â',\n",
       " 9: 'â55/5.55â',\n",
       " 10: 'â555/55â',\n",
       " 11: 'â555/55â',\n",
       " 12: 'â55.55/5â',\n",
       " 13: 'ââ5*5.555â',\n",
       " 14: 'ââ55/.555â',\n",
       " 15: '(5+(55/5.5))',\n",
       " 16: '(5+â55.5/5â)',\n",
       " 17: '(5+â55.5/5â)',\n",
       " 18: 'â55/â5*.55ââ',\n",
       " 19: 'â55/â5*.55ââ',\n",
       " 20: '(5*â5-.555â)',\n",
       " 21: 'â5!/5.555â',\n",
       " 22: 'â5!/5.555â',\n",
       " 23: 'â555/(5*5)â',\n",
       " 24: 'â5-.5555â!',\n",
       " 25: '(5*â5.555â)',\n",
       " 26: '(â.55*55â-5)',\n",
       " 27: 'â5*5.555â',\n",
       " 28: 'â5*5.555â',\n",
       " 29: '(5+â5-.555â!)',\n",
       " 30: 'â55*.555â',\n",
       " 31: 'â55*.555â',\n",
       " 32: '(5+â5*5.55â)',\n",
       " 33: '(5+â5*5.55â)',\n",
       " 34: 'ââ5.5â*5.55â',\n",
       " 35: '(5+â.55*55â)',\n",
       " 36: '(5+â.55*55â)',\n",
       " 37: 'â5*(55/â55)â',\n",
       " 38: 'âââ55â*5.55â',\n",
       " 39: 'ââ.5*55.55â',\n",
       " 40: 'â5.5*â55.5â',\n",
       " 41: 'ââ55*5.55â',\n",
       " 42: 'ââ55*5.55â',\n",
       " 43: '(55-â5+â55â)',\n",
       " 44: '(55-(55/5))',\n",
       " 45: '(5*â5/.555â)',\n",
       " 46: 'â5555/5!â',\n",
       " 47: 'â5555/5!â',\n",
       " 48: 'â55-â55.5â',\n",
       " 49: 'â55-5.55â',\n",
       " 50: 'â55.55-5â',\n",
       " 51: 'â55.55-5â',\n",
       " 52: '(55-â5*.55â)',\n",
       " 53: 'â55.55-â5â',\n",
       " 54: 'â55-.555â',\n",
       " 55: 'â55.555â',\n",
       " 56: 'â55.555â',\n",
       " 57: 'â.5+55.55â',\n",
       " 58: 'ââ5+55.55â',\n",
       " 59: '(5+â55-.55â)',\n",
       " 60: 'â5+55.55â',\n",
       " 61: 'â5+55.55â',\n",
       " 62: 'ââ55+55.5â',\n",
       " 63: 'ââ55+55.5â',\n",
       " 64: 'â5!-55.55â',\n",
       " 65: 'â5!-55.55â',\n",
       " 66: 'â5!*.5555â',\n",
       " 67: 'â5!*.5555â',\n",
       " 68: '(5+â55+â55â)',\n",
       " 69: 'â555/ââ55ââ',\n",
       " 70: 'â555/ââ55ââ',\n",
       " 71: '(5+â5!*.555â)',\n",
       " 72: '(5+â5!*.555â)',\n",
       " 73: '(5!-â55-â55â)',\n",
       " 74: 'â555/â55â',\n",
       " 75: 'â555/â55â',\n",
       " 76: '(55+â5!/5.5â)',\n",
       " 77: '(55+â5!/5.5â)',\n",
       " 78: 'â55.55/â.5â',\n",
       " 79: 'â555/ââ55ââ',\n",
       " 80: 'â(5*5)+55.5â',\n",
       " 81: 'â(5*5)+55.5â',\n",
       " 82: '(55+â.5*55â)',\n",
       " 83: '(55+â.5*55â)',\n",
       " 84: '(5+((5!/5)+55))',\n",
       " 85: '(5+(55+(5*5)))',\n",
       " 86: 'ââ5+55.5â/â.5â',\n",
       " 87: '((555-5!)/5)',\n",
       " 88: 'ââ5**5.555â',\n",
       " 89: '(5!-â.55*55â)',\n",
       " 90: 'â(55-5)/.55â',\n",
       " 91: 'â(55-5)/.55â',\n",
       " 92: 'â555/â5.5ââ',\n",
       " 93: 'â555/â5.5ââ',\n",
       " 94: '(â55/.55â-5)',\n",
       " 95: '(â55/.55â-5)',\n",
       " 96: 'â.55*(5!+55)â',\n",
       " 97: 'â.55*(5!+55)â',\n",
       " 98: '(â55-5.5â/.5)',\n",
       " 99: 'â55/.555â',\n",
       " 100: 'â555/5.5â',\n",
       " 101: 'â555/5.5â',\n",
       " 102: 'ââ55.5â/.55â',\n",
       " 103: 'âââ5+55â/.55â',\n",
       " 104: '(5+â55/.55â)',\n",
       " 105: '(55+(55-5))',\n",
       " 106: '((555/5)-5)',\n",
       " 107: '(55+â55-â5â)',\n",
       " 108: '(5!-â55.5/5â)',\n",
       " 109: '(55+â55-.5â)',\n",
       " 110: 'â55+55.5â',\n",
       " 111: 'â55+55.5â',\n",
       " 112: 'â555.5/5â',\n",
       " 113: '(55+ââ5+55â)',\n",
       " 114: 'â5!-5.555â',\n",
       " 115: 'â5!-5.555â',\n",
       " 116: '(5+(555/5))',\n",
       " 117: '(5!-â5*.555â)',\n",
       " 118: '(5!-â5.55/5â)',\n",
       " 119: 'â5!-.5555â',\n",
       " 120: 'â5.5555â!',\n",
       " 121: 'â5!+.5555â',\n",
       " 122: '(5!+â5.55/5â)',\n",
       " 123: 'â555/(5-.5)â',\n",
       " 124: 'ââ5*55.55â',\n",
       " 125: 'â5!+5.555â',\n",
       " 126: 'â5!+5.555â',\n",
       " 127: 'ââ5**5.5â/55â',\n",
       " 128: 'ââ5**5.5â/55â',\n",
       " 129: '(5!+â5/.555â)',\n",
       " 130: 'ââ5.5*55.5â',\n",
       " 131: 'ââ5.5*55.5â',\n",
       " 132: '(5!+â55.5/5â)',\n",
       " 133: 'â55*(â55-5)â',\n",
       " 134: 'â55*ââ5.55ââ',\n",
       " 135: '(5*â5*5.55â)',\n",
       " 136: 'âââ5.5â*55.5â',\n",
       " 137: 'â5.5*â55/â5ââ',\n",
       " 138: 'â5*(5*5.55)â',\n",
       " 139: 'â5*(5*5.55)â',\n",
       " 140: '(5*â5*5.55â)',\n",
       " 141: '(5!+â5!/5.55â)',\n",
       " 142: '(5!+â5!/5.55â)',\n",
       " 143: '(5+â.5*(5*55)â)',\n",
       " 144: '(â5.555â!/5)',\n",
       " 145: '(5+(5*â.5*55â))',\n",
       " 146: 'â55*(5-â5.5)â',\n",
       " 147: '(5!+â5*5.55â)',\n",
       " 148: '(5!+â5*5.55â)',\n",
       " 149: 'â5.5*â.5*55ââ',\n",
       " 150: '(5*â.55*55â)',\n",
       " 151: 'â.55*(5*55)â',\n",
       " 152: 'â.55*(5*55)â',\n",
       " 153: 'â55*(â5+.55)â',\n",
       " 154: '(5.5*â.5*55â)',\n",
       " 155: '(5*â.55*55â)',\n",
       " 156: 'â(55+55)/â.5â',\n",
       " 157: '(â.5*555â-5!)',\n",
       " 158: '(â.5*555â-5!)',\n",
       " 159: '(5!+ââ.5*55.5â)',\n",
       " 160: '(5*(5+â.5*55â))',\n",
       " 161: 'â(.5*5)**5.55â',\n",
       " 162: 'â(.5*5)**5.55â',\n",
       " 163: '(â5!/.55â-55)',\n",
       " 164: '(â5!/.55â-55)',\n",
       " 165: '(55*â5*.55â)',\n",
       " 166: 'ââ.5*5â*55.5â',\n",
       " 167: 'ââ.5*5â*55.5â',\n",
       " 168: '(5!+â55-â55â)',\n",
       " 169: '(5!+â55-5.5â)',\n",
       " 170: '(5!+â55.5-5â)',\n",
       " 171: '(5!+â55.5-5â)',\n",
       " 172: 'â5.555**ââ5ââ',\n",
       " 173: 'â55*ââ5+5.5ââ',\n",
       " 174: '(5!+â55-.55â)',\n",
       " 175: 'â5!+55.55â',\n",
       " 176: 'â5!+55.55â',\n",
       " 177: '(55+ââ5*55â)',\n",
       " 178: '(55+ââ5*55â)',\n",
       " 179: 'â55*(5.5-â5)â',\n",
       " 180: '(5+â5!+55.5â)',\n",
       " 181: '(5+â5!+55.5â)',\n",
       " 182: '(â5.5*55â-5!)',\n",
       " 183: '(â5.5*55â-5!)',\n",
       " 184: '(5!+â5!-55.5â)',\n",
       " 185: '(555/â.5*5â)',\n",
       " 186: 'â555.5/ââ5ââ',\n",
       " 187: '(5!+â5!*.555â)',\n",
       " 188: '((â.5*5â**5)-55)',\n",
       " 189: '(ââ55â*â.5*55â)',\n",
       " 190: '(5*â5*â55.5â)',\n",
       " 191: 'â55*ââ5+â55ââ',\n",
       " 192: '(â5.55â/(.5**5))',\n",
       " 193: 'â5!**(.55+.55)â',\n",
       " 194: 'â(555-5!)/â5â',\n",
       " 195: 'â(555-5!)/â5â',\n",
       " 196: '(.5*ââ.5*555â)',\n",
       " 197: 'â.5*ââ.5*555ââ',\n",
       " 198: '(â55/.55â/.5)',\n",
       " 199: 'â55/(.5*.55)â',\n",
       " 200: '(â55/.55â/.5)',\n",
       " 201: 'â555/(5-â5)â',\n",
       " 202: 'â555/(.5+â5)â',\n",
       " 203: 'â.5*â55*â55ââ',\n",
       " 204: '(.5*â55*â55â)',\n",
       " 205: '(5*â5.5*â55â)',\n",
       " 206: 'ââ5!-â55â/.55â',\n",
       " 207: 'â(5!-5)/.555â',\n",
       " 208: 'â(5!-5)/.555â',\n",
       " 209: '(5.5*â5*â55â)',\n",
       " 210: 'ââ5!-5.5â/.55â',\n",
       " 211: '(â5!/.555â-5)',\n",
       " 212: '(â5!/.555â-5)',\n",
       " 213: 'ââ5!/.55â-5.5â',\n",
       " 214: 'ââ5!/.55â-5.5â',\n",
       " 215: 'ââ5!/.555â-.5â',\n",
       " 216: 'â5!/.5555â',\n",
       " 217: 'â5!/.5555â',\n",
       " 218: 'â.5*(555-5!)â',\n",
       " 219: '(5!+â55/.55â)',\n",
       " 220: '((5*55)-55)',\n",
       " 221: '(5+â5!/.555â)',\n",
       " 222: '(555/(.5*5))',\n",
       " 223: 'â5.5+â5!/.55ââ',\n",
       " 224: 'â5.5+â5!/.55ââ',\n",
       " 225: 'â(5+5!)/.555â',\n",
       " 226: 'â(5+5!)/.555â',\n",
       " 227: 'â555/ââ5.5ââ',\n",
       " 228: '(â5!-5.55â/.5)',\n",
       " 229: 'â(5!-5.55)/.5â',\n",
       " 230: '(5!+(55+55))',\n",
       " 231: '(5!+(555/5))',\n",
       " 232: 'â(5!+â55)/.55â',\n",
       " 233: 'ââ5!+â55â/.55â',\n",
       " 234: '(5!+â5!-5.55â)',\n",
       " 235: '(5*â55-â55â)',\n",
       " 236: 'â555/â5.5â',\n",
       " 237: 'â555/â5.5â',\n",
       " 238: 'â5*(55-â55)â',\n",
       " 239: '(5!+â5!-.555â)',\n",
       " 240: '(5*â55-â55â)',\n",
       " 241: '(5!+â5!+.555â)',\n",
       " 242: '(â5!+.555â/.5)',\n",
       " 243: '(â5*.555â**5)',\n",
       " 244: 'â55*(5-.55)â',\n",
       " 245: '(5*â55-5.5â)',\n",
       " 246: 'â(555-5)/â5â',\n",
       " 247: 'â5*(55-5.5)â',\n",
       " 248: 'â555.5/â5â',\n",
       " 249: 'â555.5/â5â',\n",
       " 250: '(5*â55.5-5â)',\n",
       " 251: 'â(5+555)/â5â',\n",
       " 252: 'â5*(55.5-5)â',\n",
       " 253: 'â5*(55.5-5)â',\n",
       " 254: '(5+â555/â5â)',\n",
       " 255: '(5*â55.5-5â)',\n",
       " 256: '(â55*â5.5â/.5)',\n",
       " 257: 'â55/(.5/â5.5)â',\n",
       " 258: '(â55*â5.5â/.5)',\n",
       " 259: 'â5!/(55.5/5!)â',\n",
       " 260: '(5*â55-â5.5â)',\n",
       " 261: 'â(5*.55)**5.5â',\n",
       " 262: 'â555/â(5-.5)â',\n",
       " 263: 'â5*(55-â5.5)â',\n",
       " 264: 'â5*(55-â5.5)â',\n",
       " 265: '(5*â55-â5.5â)',\n",
       " 266: 'â5*(55.5-â5)â',\n",
       " 267: 'â(5*55)-â55â',\n",
       " 268: 'â(5*55)-â55â',\n",
       " 269: 'â(5*55)-5.5â',\n",
       " 270: '(5*â55-.55â)',\n",
       " 271: '(â.5-5â+(5*55))',\n",
       " 272: '(â.5*555â-5)',\n",
       " 273: '(â.5*555â-5)',\n",
       " 274: 'â(5*55)-.55â',\n",
       " 275: '(5*â55.55â)',\n",
       " 276: 'â.55+(5*55)â',\n",
       " 277: 'â5*55.55â',\n",
       " 278: 'â5*55.55â',\n",
       " 279: 'â.5+â.5*555ââ',\n",
       " 280: '(5*â55.55â)',\n",
       " 281: 'â5.5+(5*55)â',\n",
       " 282: '(5+â.5*555â)',\n",
       " 283: '(5+â.5*555â)',\n",
       " 284: 'â5*((5**5)/55)â',\n",
       " 285: '(5*ââ5+55.5â)',\n",
       " 286: '(5.5*â55-â5â)',\n",
       " 287: '(555-ââ5*5!â)',\n",
       " 288: '(â55*â55â-5!)',\n",
       " 289: 'â55*â(.5*55)â',\n",
       " 290: '(5*ââ5+55.5â)',\n",
       " 291: 'â5.5*â55-â5ââ',\n",
       " 292: 'â5.5*â55-â5ââ',\n",
       " 293: 'â5!*ââ5.555ââ',\n",
       " 294: 'â5!*ââ5.555ââ',\n",
       " 295: '(5!+â5!+55.5â)',\n",
       " 296: '(5!+â5!+55.5â)',\n",
       " 297: '(â5.5*55â-5)',\n",
       " 298: '(â5.5*55â-5)',\n",
       " 299: 'â5.5*(55-.5)â',\n",
       " 300: '(5*â5+55.5â)',\n",
       " 301: 'ââ5.5*55â-.5â',\n",
       " 302: 'â5*(5+55.5)â',\n",
       " 303: 'â5*(5+55.5)â',\n",
       " 304: 'â.5+â5.5*55ââ',\n",
       " 305: 'â.55*555â',\n",
       " 306: 'â.55*555â',\n",
       " 307: '(5+â5.5*55â)',\n",
       " 308: '(5+â5.5*55â)',\n",
       " 309: '(â(â.5+5)*55â-5)',\n",
       " 310: '(5*â55+â55â)',\n",
       " 311: 'â(â5**5)*5.55â',\n",
       " 312: 'â5*(55+â55)â',\n",
       " 313: 'â5*(55+â55)â',\n",
       " 314: 'â5.5*ââ5+55ââ',\n",
       " 315: '(5*â55+â55â)',\n",
       " 316: 'ââ(55/5.5)**5â',\n",
       " 317: 'ââ(55/5.5)**5â',\n",
       " 318: 'â(5!+55)/.55â',\n",
       " 319: 'â(5!+55)/.55â',\n",
       " 320: '(5*â5!-55.5â)',\n",
       " 321: 'ââ5.555â!/â5â',\n",
       " 322: 'â5*(5!-55.5)â',\n",
       " 323: 'â5*(5!-55.5)â',\n",
       " 324: '(â5.5â*â55-.5â)',\n",
       " 325: '(5*â5!-55.5â)',\n",
       " 326: 'â(5!/55)**â55â',\n",
       " 327: '(â5.5â*(55-.5))',\n",
       " 328: 'â.5*(55+(5*5!))â',\n",
       " 329: 'â(55*â5.5â)-.5â',\n",
       " 330: '(55*â5.55â)',\n",
       " 331: 'â.5+(55*â5.5â)â',\n",
       " 332: 'â.55*(5+(5*5!))â',\n",
       " 333: '(â5.5â*55.5)',\n",
       " 334: 'â5*(5!*.555)â',\n",
       " 335: '(5*â5!*.555â)',\n",
       " 336: '(5!+â5!/.555â)',\n",
       " 337: 'â.5*(5!+555)â',\n",
       " 338: 'â.5*(5!+555)â',\n",
       " 339: 'â55*ââ5*â55ââ',\n",
       " 340: 'â55*ââ5*â55ââ',\n",
       " 341: 'â55*(â.5+5.5)â',\n",
       " 342: 'â55*(â.5+5.5)â',\n",
       " 343: 'â5*(.55*(5+5!))â',\n",
       " 344: 'â5*(.55*(5+5!))â',\n",
       " 345: '(5*â.55*(5+5!)â)',\n",
       " 346: '(â55*â(5+5)â/.5)',\n",
       " 347: 'â5!*(.55+â5.5)â',\n",
       " 348: '(â5.5â*ââ5+55â)',\n",
       " 349: '(â(5-.55)**5â/5)',\n",
       " 350: '(â5!+55.5â/.5)',\n",
       " 351: '((5!+55.5)/.5)',\n",
       " 352: '(â5!+55.5â/.5)',\n",
       " 353: 'ââ555/â5â/â.5â',\n",
       " 354: 'â(.5*â5.5â!)-5.5â',\n",
       " 355: '(5*(5+(5!*.55)))',\n",
       " 356: 'â(55/5)**ââ5.5ââ',\n",
       " 357: 'â5.5*(5!-55)â',\n",
       " 358: 'â5.5*(5!-55)â',\n",
       " 359: 'â.5*ââ5.55â!-.5ââ',\n",
       " 360: '(.5*â5.555â!)',\n",
       " 361: 'â(â5+5)*(55-5)â',\n",
       " 362: 'â.5*(5+â5.55â!)â',\n",
       " 363: '(5.5*(5!*.55))',\n",
       " 364: 'â5!*(.55*5.5)â',\n",
       " 365: '(5+(.5*â5.55â!))',\n",
       " 366: '(5!*(.55+(.5*5)))',\n",
       " 367: '(5!+â55*(5-.5)â)',\n",
       " 368: '(5!+â555/â5â)',\n",
       " 369: '(5!+â555/â5â)',\n",
       " 370: 'ââ55*(55-5)â',\n",
       " 371: 'ââ55*(55-5)â',\n",
       " 372: '(55+ââ(5+5)**5â)',\n",
       " 373: 'â55*ââ5.5**â5ââ',\n",
       " 374: 'â55*ââ5.5**â5ââ',\n",
       " 375: '(5*â(5+5)*â55â)',\n",
       " 376: '(55+ââ5.5â!/â5â)',\n",
       " 377: '(55+ââ5.5â!/â5â)',\n",
       " 378: '(ââ55â*â55-.5â)',\n",
       " 379: 'â5!*â(55/5.5)â',\n",
       " 380: 'â55*(â55-.5)â',\n",
       " 381: 'â55*(â55-.5)â',\n",
       " 382: 'â55**(â55/5)â',\n",
       " 383: '(5!+â5*(55-â5)â)',\n",
       " 384: 'â(55*ââ55â)-.5â',\n",
       " 385: '(55*ââ55.5â)',\n",
       " 386: '(555-â5!/â.5â)',\n",
       " 387: '(ââ.5*555â-5)',\n",
       " 388: 'âââ55â*55.5â',\n",
       " 389: 'âââ55â*55.5â',\n",
       " 390: '(5*â55.5/â.5â)',\n",
       " 391: 'âââ.5*555â-.5â',\n",
       " 392: 'ââ.5*555.5â',\n",
       " 393: 'ââ.5*555.5â',\n",
       " 394: 'ââ.5*â555.5ââ',\n",
       " 395: 'ââ.5*(5+555)â',\n",
       " 396: 'â.55*â5.55â!â',\n",
       " 397: '(5!+â.5*555â)',\n",
       " 398: '(5!+â.5*555â)',\n",
       " 399: 'ââ5.5â!*.555â',\n",
       " 400: 'ââ5.5â!*.555â',\n",
       " 401: 'â(â5+5)*55.5â',\n",
       " 402: '(â55*â55â-5)',\n",
       " 403: '(â55*â55â-5)',\n",
       " 404: 'ââ55*(55-.5)â',\n",
       " 405: 'ââ55*(55-.5)â',\n",
       " 406: 'ââ55*â55â-.5â',\n",
       " 407: 'â55*ââ55.5ââ',\n",
       " 408: 'â55*ââ55.5ââ',\n",
       " 409: 'â55*â55.5â',\n",
       " 410: 'â55*â55.5â',\n",
       " 411: 'ââ55*55.5â',\n",
       " 412: 'ââ55*55.5â',\n",
       " 413: '(5+â55*â55â)',\n",
       " 414: 'ââ55.5**â.5*5ââ',\n",
       " 415: 'ââ55*â55.5ââ',\n",
       " 416: 'ââ55*â55.5ââ',\n",
       " 417: 'â5*(5**(5*.55))â',\n",
       " 418: 'â55*âââ5+55ââ',\n",
       " 419: 'â(5**5)/â55.5â',\n",
       " 420: 'ââ5*.55â**5.5â',\n",
       " 421: 'ââ5*.55â**5.5â',\n",
       " 422: '(5!+â5.5*55â)',\n",
       " 423: '(5!+â5.5*55â)',\n",
       " 424: 'â5.5*â55/â.5ââ',\n",
       " 425: 'â55*(â5+5.5)â',\n",
       " 426: 'â55*â(5+55)â',\n",
       " 427: 'â55*â(5+55)â',\n",
       " 428: 'ââ5.5*55â/â.5â',\n",
       " 429: '(5.5*â55/â.5â)',\n",
       " 430: '(555-(5+5!))',\n",
       " 431: 'ââ55*ââ5+55ââ',\n",
       " 432: '(555-ââ5+5!â)',\n",
       " 433: '(555-ââ5+5!â)',\n",
       " 434: '(555-â.5+5!â)',\n",
       " 435: 'â555.5-5!â',\n",
       " 436: 'â555.5-5!â',\n",
       " 437: '(ââ5-5!â+555)',\n",
       " 438: '(ââ5-5!â+555)',\n",
       " 439: 'â(ââ55â*55)-.5â',\n",
       " 440: '(5+(555-5!))',\n",
       " 441: 'â.5+(ââ55â*55)â',\n",
       " 442: '(5+â5!/(.5*.55)â)',\n",
       " 443: 'â55*â(5!-55)â',\n",
       " 444: '(ââ55â*55.5)',\n",
       " 445: 'ââ55*(5+55)â',\n",
       " 446: 'â55*â(5!*.55)â',\n",
       " 447: 'âââ5â**5.555â',\n",
       " 448: 'âââ5â**5.555â',\n",
       " 449: 'â55*(5+â(5+5))â',\n",
       " 450: '(5!+(55*â5.5â))',\n",
       " 451: 'â5!*(â5.55â-â5)â',\n",
       " 452: 'â55*(â5+â5.5â)â',\n",
       " 453: 'â55*(â5+â5.5â)â',\n",
       " 454: '(â(5+5!)/.55â/.5)',\n",
       " 455: '(ââ55â*(5!-55))',\n",
       " 456: 'â5.5*ââ5**5.5ââ',\n",
       " 457: 'â5.5*ââ5**5.5ââ',\n",
       " 458: '(â5-.5â*(5!-5.5))',\n",
       " 459: 'â555/(.5+â.5)â',\n",
       " 460: 'â555/(.5+â.5)â',\n",
       " 461: 'â55*âââ5.5**5ââ',\n",
       " 462: '(5.5*ââ5**5.5â)',\n",
       " 463: 'â5*(5!-(.5*55))â',\n",
       " 464: '(ââ55â*ââ5+55â)',\n",
       " 465: '(5*(5!-â.5*55â))',\n",
       " 466: 'âââ.5*5!â*5.55â',\n",
       " 467: 'â55*(.5+ââ55â)â',\n",
       " 468: '(5!*(5-(5.5/5)))',\n",
       " 469: 'â55*(5+(â.5*5))â',\n",
       " 470: '(555-ââ.5*5!â)',\n",
       " 471: '(555-ââ.5*5!â)',\n",
       " 472: 'âââ.5*5!â*5.55â',\n",
       " 473: '(5.5*â5**(5-â5)â)',\n",
       " 474: '(5!*(5-(.5+.55)))',\n",
       " 475: '((5!*â5-.55â)-5)',\n",
       " 476: '(55+âââ5â**5.5â)',\n",
       " 477: 'ââ.5*(5!+555)â',\n",
       " 478: 'ââ.5*(5!+555)â',\n",
       " 479: '((5*5!)-â5!+.55â)',\n",
       " 480: '(5!*â5-.555â)',\n",
       " 481: '((5*5!)-â5!-.55â)',\n",
       " 482: 'ââ55*(5!-55)â',\n",
       " 483: 'ââ55*(5!-55)â',\n",
       " 484: 'â(â5*5!)/.555â',\n",
       " 485: 'ââ5*â5!/.555ââ',\n",
       " 486: 'ââ5*â5!/.555ââ',\n",
       " 487: 'â5!/(.55**â5.5)â',\n",
       " 488: 'â.55*â5!*â55ââ',\n",
       " 489: 'â.55*â5!*â55ââ',\n",
       " 490: 'â.55*â5!*â55ââ',\n",
       " 491: 'â5!*((5/.55)-5)â',\n",
       " 492: '(â5-.5â*ââ5*55â)',\n",
       " 493: 'â(â5/.55â**5)/5!â',\n",
       " 494: '(â55*(5-.5)â/.5)',\n",
       " 495: '(5*â55/.55â)',\n",
       " 496: '(â555/â5â/.5)',\n",
       " 497: 'â555/(.5*â5)â',\n",
       " 498: '(â555/â5â/.5)',\n",
       " 499: 'â5*(55/.55)â',\n",
       " 500: '(555-55)',\n",
       " 501: '(555-â5!/â5â)',\n",
       " 502: '(555-â5!/â5â)',\n",
       " 503: 'ââ5.5**5â/(5+5)â',\n",
       " 504: 'ââ5.5**5â/(5+5)â',\n",
       " 505: '(5!+(55*ââ55â))',\n",
       " 506: 'â(5-.5)*(5!-â55)â',\n",
       " 507: '(â5*(5!+5.5)â-5!)',\n",
       " 508: '(â5*(5!+5.5)â-5!)',\n",
       " 509: 'ââ.5*â5.555â!â',\n",
       " 510: 'ââ.5*â5.555â!â',\n",
       " 511: 'ââ5!*â5.5â/.55â',\n",
       " 512: '(5!+ââ.5*555â)',\n",
       " 513: '(5!+ââ.5*555â)',\n",
       " 514: 'ââ5.5*â5!/.55ââ',\n",
       " 515: '(5!+(5!+(5*55)))',\n",
       " 516: '(5!+â.55*â5.5â!â)',\n",
       " 517: '(5!+â.55*â5.5â!â)',\n",
       " 518: '(555-â5**â5â)',\n",
       " 519: '(555-â5**â5â)',\n",
       " 520: '((5*(5!-5))-55)',\n",
       " 521: 'â(5**5)/â5.55ââ',\n",
       " 522: 'â55*(5+(5-.5))â',\n",
       " 523: 'â55*(5+(5-.5))â',\n",
       " 524: '(â5!*(5!/55)â/.5)',\n",
       " 525: '(5*((55/.5)-5))',\n",
       " 526: '(â5*(55-â5)â/.5)',\n",
       " 527: '(5!+â55*â55â)',\n",
       " 528: '(5!+â55*â55â)',\n",
       " 529: '((5!*(5-.55))-5)',\n",
       " 530: '(555-(5*5))',\n",
       " 531: '(555-(5!/5))',\n",
       " 532: 'â5**(5-(5.5/5))â',\n",
       " 533: 'â5!*(5-.555)â',\n",
       " 534: 'â5!*(5-.555)â',\n",
       " 535: '(55+(5!*â5-.5â))',\n",
       " 536: 'â(5-.5)*â5!-.55ââ',\n",
       " 537: 'â5.5*((.5*5)**5)â',\n",
       " 538: 'â5.5*((.5*5)**5)â',\n",
       " 539: '(5+(5!*(5-.55)))',\n",
       " 540: '((5+5)*â55-.5â)',\n",
       " 541: 'â.55+(5!*(5-.5))â',\n",
       " 542: '(â5*(5!-.5)â-55)',\n",
       " 543: '(555-ââ5*5â)',\n",
       " 544: '(555-ââ5*5â)',\n",
       " 545: '(555-(5+5))',\n",
       " 546: '((5!*5.55)-5!)',\n",
       " 547: 'â555-â55â',\n",
       " 548: 'â555-â55â',\n",
       " 549: 'â555-5.5â',\n",
       " 550: 'â555-5.5â',\n",
       " 551: 'â555.5-5â',\n",
       " 552: 'â555-â5.5â',\n",
       " 553: 'â555.5-â5â',\n",
       " 554: 'â555-.55â',\n",
       " 555: 'â555.55â',\n",
       " 556: 'â555.55â',\n",
       " 557: 'ââ5+555.5â',\n",
       " 558: 'ââ5+555.5â',\n",
       " 559: '(5+â555-.5â)',\n",
       " 560: 'â5+555.5â',\n",
       " 561: 'â5+555.5â',\n",
       " 562: 'ââ55+555â',\n",
       " 563: 'ââ55+555â',\n",
       " 564: 'â(5**5)/5.55â',\n",
       " 565: '(5+(5+555))',\n",
       " 566: '(ââ5*5â+555)',\n",
       " 567: '(ââ5*5â+555)',\n",
       " 568: '(â5*(5!-5.5)â-5)',\n",
       " 569: 'â(5*(5!-5))-5.5â',\n",
       " 570: '(5*â5!-5.55â)',\n",
       " 571: 'ââ55*â55/â.5ââ',\n",
       " 572: 'â5*(5!-5.55)â',\n",
       " 573: 'â5*(5!-5.55)â',\n",
       " 574: '(5+â(5**5)/5.5â)',\n",
       " 575: '(5*â5!-5.55â)',\n",
       " 576: 'â.55+(5*(5!-5))â',\n",
       " 577: 'â55*(5+5.5)â',\n",
       " 578: 'â55*(5+5.5)â',\n",
       " 579: '((5!/5)+555)',\n",
       " 580: '((5*5)+555)',\n",
       " 581: 'â5.5+(5*(5!-5))â',\n",
       " 582: 'â5!*(5.55-â.5)â',\n",
       " 583: '(55/(5/â5!/â5â))',\n",
       " 584: 'â5*(5!-â(55/5))â',\n",
       " 585: '(5*(5!-â5*.55â))',\n",
       " 586: 'â5*(5!-(5*.55))â',\n",
       " 587: '((ââ5â**5)+555)',\n",
       " 588: 'â5!*ââ5-.555â!â',\n",
       " 589: '((5*5!)-(55/5))',\n",
       " 590: 'â5!*(5-(5/55))â',\n",
       " 591: '(â5**â5â+555)',\n",
       " 592: '(â5**â5â+555)',\n",
       " 593: 'â(5*5!)-â55.5â',\n",
       " 594: 'â(5*5!)-5.55â',\n",
       " 595: '(5*â5!-.555â)',\n",
       " 596: 'ââ(5+5)**5.55â',\n",
       " 597: 'â5*(5!-.555)â',\n",
       " 598: 'â5*(5!-.555)â',\n",
       " 599: 'â(5*5!)-.555â',\n",
       " 600: '(5*â5.555â!)',\n",
       " 601: 'â(5*5!)+.555â',\n",
       " 602: 'â5*(5!+.555)â',\n",
       " 603: 'â5*(5!+.555)â',\n",
       " 604: '(â5.5*55â/.5)',\n",
       " 605: '(55*(55/5))',\n",
       " 606: '(â5.5*55â/.5)',\n",
       " 607: 'â(5*5!)+â55.5â',\n",
       " 608: '(â5!/â5â+555)',\n",
       " 609: '(â5!/â5â+555)',\n",
       " 610: '(55+555)',\n",
       " 611: '(ââ5**5â+555)',\n",
       " 612: '(5+â(5*5!)+â55â)',\n",
       " 613: 'â5*(5!+(5*.55))â',\n",
       " 614: '(((5**5)-55)/5)',\n",
       " 615: '((.5*5!)+555)',\n",
       " 616: '(5.5*â5!-â55â)',\n",
       " 617: 'â5*(.5+ââ5*55â)â',\n",
       " 618: 'â5*(.5+ââ5*55â)â',\n",
       " 619: 'ââ5*â.5*555ââ',\n",
       " 620: '(5*ââ5*55.5â)',\n",
       " 621: '(.5*ââ5*555â)',\n",
       " 622: 'ââ5*â.5*555ââ',\n",
       " 623: 'â5!*ââ5*5.55ââ',\n",
       " 624: 'â5!*ââ5*5.55ââ',\n",
       " 625: '(5**â5-.555â)',\n",
       " 626: '(â5.5+(5**5)â/5)',\n",
       " 627: 'â5*(5!+5.55)â',\n",
       " 628: 'â5*(5!+5.55)â',\n",
       " 629: 'â5.5*(5!-5.5)â',\n",
       " 630: '(5*â5!+5.55â)',\n",
       " 631: 'â5.5+(5*(5+5!))â',\n",
       " 632: 'â5.5*â5!-5.5ââ',\n",
       " 633: 'â5.5*â5!-5.5ââ',\n",
       " 634: 'â5!*ââ5*5.55ââ',\n",
       " 635: '(5*â5!+â55.5â)',\n",
       " 636: '(((5**5)+55)/5)',\n",
       " 637: 'â5*(5!+â55.5)â',\n",
       " 638: 'â(5!-5)*5.55â',\n",
       " 639: 'â(5!-5)*5.55â',\n",
       " 640: '(5*â55*â5.5â)',\n",
       " 641: 'â.5+(5*â5!+â55â)â',\n",
       " 642: '(5+â5*(5!+â55)â)',\n",
       " 643: 'â5.5*â5!-â5.5ââ',\n",
       " 644: 'â5*(55*â5.5)â',\n",
       " 645: '(5*â55*â5.5â)',\n",
       " 646: 'â5*(5!+(5/.55))â',\n",
       " 647: 'â5.5*(5!-â5.5)â',\n",
       " 648: '(5!*(â.5*55â/5))',\n",
       " 649: 'ââ5!-â5â*5.55â',\n",
       " 650: '((5+5)*(5!-55))',\n",
       " 651: '(ââ5â*â5!/.555â)',\n",
       " 652: 'â(5!*5.5)-â55â',\n",
       " 653: 'â(5!-â5)*5.55â',\n",
       " 654: 'â5.5*â5!-.55ââ',\n",
       " 655: 'â(5*5!)+55.5â',\n",
       " 656: 'â(5*5!)+55.5â',\n",
       " 657: 'â5.5*(5!-.55)â',\n",
       " 658: 'â5!*ââ.55*55ââ',\n",
       " 659: 'â(5!*5.5)-.55â',\n",
       " 660: '(5.5*â5.55â!)',\n",
       " 661: '((5!*5.55)-5)',\n",
       " 662: 'â(5!-â.5)*5.55â',\n",
       " 663: 'â5.5*(5!+.55)â',\n",
       " 664: 'ââ5.5â!-55.5â',\n",
       " 665: '(â5.55â!-55)',\n",
       " 666: 'â5!*5.555â',\n",
       " 667: 'â5!*5.555â',\n",
       " 668: 'â(.5+5!)*5.55â',\n",
       " 669: 'â(.5+5!)*5.55â',\n",
       " 670: '(5!+(555-5))',\n",
       " 671: '(5+(5!*5.55))',\n",
       " 672: '(5!+â555-â5â)',\n",
       " 673: '(5!+â555-â5â)',\n",
       " 674: '(5!+â555-.5â)',\n",
       " 675: 'â5!+555.5â',\n",
       " 676: 'â5!+555.5â',\n",
       " 677: '(5!+ââ5+555â)',\n",
       " 678: '(5!+ââ5+555â)',\n",
       " 679: 'â(5.5**5)/â55â',\n",
       " 680: '(5+(5!+555))',\n",
       " 681: 'â5!*(5+(5/â55))â',\n",
       " 682: 'â55*(5+â55)â',\n",
       " 683: 'â55*(5+â55)â',\n",
       " 684: '(â5.5â*â5!-5.5â)',\n",
       " 685: '(5*â.5*(5*55)â)',\n",
       " 686: 'â(â5-â.5â)*555â',\n",
       " 687: 'â5.5*â5!+5.5ââ',\n",
       " 688: 'â5.5*â5!+5.5ââ',\n",
       " 689: '(5!+â(5**5)/5.5â)',\n",
       " 690: 'â5.5*(5!+5.5)â',\n",
       " 691: 'â5.5*(5!+5.5)â',\n",
       " 692: '(5+â5.5*(5+5!)â)',\n",
       " 693: 'â(5+5!)*5.55â',\n",
       " 694: 'â(5+5!)*5.55â',\n",
       " 695: '(â5.55â!-(5*5))',\n",
       " 696: '(â5.55â!-(5!/5))',\n",
       " 697: '(â(.5*â55)**5â-5)',\n",
       " 698: 'â5.5*â5!+â55ââ',\n",
       " 699: 'â5.5*â5!+â55ââ',\n",
       " 700: '(5*(5*â.5*55â))',\n",
       " 701: 'â5.5*(5!+â55)â',\n",
       " 702: 'â(5**5)/(5-.55)â',\n",
       " 703: 'â(5**5)/(5-.55)â',\n",
       " 704: '(5.5*â5!+â55â)',\n",
       " 705: '(5*(5!+â5!/5.5â))',\n",
       " 706: 'â(5!-â5)*â5.55ââ',\n",
       " 707: '(â5.5â!-â5+â55â)',\n",
       " 708: '(â5!-â5â*â5.55â)',\n",
       " 709: '(â5.5â!-(55/5))',\n",
       " 710: '(â5.55â!-(5+5))',\n",
       " 711: '(â5.5â!-â5/.55â)',\n",
       " 712: 'ââ5.55â!-â55â',\n",
       " 713: 'ââ5.55â!-â55â',\n",
       " 714: 'ââ5.55â!-5.5â',\n",
       " 715: '(â5.555â!-5)',\n",
       " 716: '(â5.5â!-â5-.55â)',\n",
       " 717: 'ââ5.555â!-â5â',\n",
       " 718: 'ââ5.555â!-â5â',\n",
       " 719: 'ââ5.555â!-.5â',\n",
       " 720: 'â5.5555â!',\n",
       " 721: 'â.5+â5.555â!â',\n",
       " 722: 'ââ5+â5.555â!â',\n",
       " 723: 'ââ5+â5.555â!â',\n",
       " 724: '(â5!/â.5â+555)',\n",
       " 725: '(5+â5.555â!)',\n",
       " 726: 'â5.5+â5.55â!â',\n",
       " 727: 'ââ55+â5.55â!â',\n",
       " 728: 'ââ55+â5.55â!â',\n",
       " 729: '(ââ5â**â5.555â)',\n",
       " 730: '(5+(5+â5.55â!))',\n",
       " 731: '(â5.5â!+(55/5))',\n",
       " 732: '(5!*(5+(5.5/5)))',\n",
       " 733: '(5+ââ5.5â!+â55â)',\n",
       " 734: '(5!+ââ5*(5*55)â)',\n",
       " 735: '(5*(5!+â.5*55â))',\n",
       " 736: 'ââ5.5**â(5+55)â',\n",
       " 737: 'â5*(5!+(.5*55))â',\n",
       " 738: '(â5.5â*ââ5*55â)',\n",
       " 739: 'â5!*ââ5*â55.5ââ',\n",
       " 740: '(5*(5!+â.5*55â))',\n",
       " 741: '(â5.5â!+â5!/5.5â)',\n",
       " 742: '(â5.5â!+â5!/5.5â)',\n",
       " 743: 'ââ5!**â5â/(5+55)â',\n",
       " 744: '((5!/5)+â5.55â!)',\n",
       " 745: '((5*5)+â5.55â!)',\n",
       " 746: '(5!+((5+(5**5))/5))',\n",
       " 747: '(â5.5â!+â.5*55â)',\n",
       " 748: '(â5.5â!+â.5*55â)',\n",
       " 749: 'â5!*(â5+â5-.55â)â',\n",
       " 750: '((5+5!)*â5.55â)',\n",
       " 751: 'â5!*(â.5+5.55)â',\n",
       " 752: '(5!+â5.5*(5!-5)â)',\n",
       " 753: '(â5.5â*(5!+5.5))',\n",
       " 754: '(5!+â5!*ââ.5*55ââ)',\n",
       " 755: '((5*(5!+55))-5!)',\n",
       " 756: '(â5.5â*â5!+5.5â)',\n",
       " 757: '(â5.5â!+â5*â55â)',\n",
       " 758: '(â5.5â!+â5*â55â)',\n",
       " 759: 'â5!*ââ5.5*â55ââ',\n",
       " 760: '(5*â55*(5-â5)â)',\n",
       " 761: 'â5*(55*(5-â5))â',\n",
       " 762: '(â5.5â*â5!+â55â)',\n",
       " 763: 'â5*(5!**(.5+.55))â',\n",
       " 764: 'ââ5.5â*(5!+â55)â',\n",
       " 765: '(5*â55*(5-â5)â)',\n",
       " 766: 'â(ââ5â**5.5)/.55â',\n",
       " 767: 'â((5*5)-5.5)**â5â',\n",
       " 768: 'âââ5.55â**â55â',\n",
       " 769: 'â55**â(5*.55)â',\n",
       " 770: '(55*ââ55/.5â)',\n",
       " 771: 'â(5*5.55)**ââ5ââ',\n",
       " 772: '(55+ââ5.5â!-â5â)',\n",
       " 773: '(â5!*â55.5â-5!)',\n",
       " 774: '(55+ââ5.5â!-.5â)',\n",
       " 775: '(55+â5.55â!)',\n",
       " 776: 'ââ5.5â!+55.5â',\n",
       " 777: 'â(555-5)/â.5â',\n",
       " 778: 'â(555-5)/â.5â',\n",
       " 779: '(â555/â.5â-5)',\n",
       " 780: '(â555/â.5â-5)',\n",
       " 781: 'â(5**5)/â5-.55ââ',\n",
       " 782: 'â(5**5)/â5-.55ââ',\n",
       " 783: 'ââ555/â.5â-.5â',\n",
       " 784: 'âââ.5*5â*555â',\n",
       " 785: 'â555.5/â.5â',\n",
       " 786: 'â555.5/â.5â',\n",
       " 787: 'ââ555.5â/â.5â',\n",
       " 788: 'â(5-.5)*(5!+55)â',\n",
       " 789: '(5+â555/â.5â)',\n",
       " 790: '(5+â555/â.5â)',\n",
       " 791: 'â(5+555)/â.5â',\n",
       " 792: 'â(5+555)/â.5â',\n",
       " 793: 'ââ5.5â!*(5.5/5)â',\n",
       " 794: '(â.55*â5.5â!â/.5)',\n",
       " 795: '(5!+(5!+555))',\n",
       " 796: 'â55**(5/â.5*5â)â',\n",
       " 797: 'â5.5*(5!+(5*5))â',\n",
       " 798: '((ââ5â**5)+555)',\n",
       " 799: 'â5!*(5+â(5*.55))â',\n",
       " 800: '(5*((ââ5â*55)-5))',\n",
       " 801: 'âââ55â*(5!-5.5)â',\n",
       " 802: 'âââ55â*(5!-5.5)â',\n",
       " 803: 'ââ5!**â5â/55.5â',\n",
       " 804: 'ââ5!**â5â/55.5â',\n",
       " 805: '((5!-5)*ââ55.5â)',\n",
       " 806: 'â(5-.5)**(5-.55)â',\n",
       " 807: '(5!+â5.5*(5+5!)â)',\n",
       " 808: '(5!+â5.5*(5+5!)â)',\n",
       " 809: '(â5!*â(5+55)â-5!)',\n",
       " 810: '(ââ5â*((5*55)-5))',\n",
       " 811: 'â(5+(5!**â5))/55â',\n",
       " 812: 'â(5*â5-.55â)**â5â',\n",
       " 813: '(â5!*(â5+5)â-55)',\n",
       " 814: '(â55*â55â/.5)',\n",
       " 815: 'â55/(.5/â55)â',\n",
       " 816: '(â55*â55â/.5)',\n",
       " 817: 'â5**(5/(â5.5â/5))â',\n",
       " 818: '((5*5!)+â5!/.55â)',\n",
       " 819: '((5*5!)+â5!/.55â)',\n",
       " 820: '((ââ5â*(5*55))-5)',\n",
       " 821: 'â5!/(â.5**5.55)â',\n",
       " 822: 'â5!*ââ55-â55ââ',\n",
       " 823: '(ââ5*5!â+555)',\n",
       " 824: '(ââ5*5!â+555)',\n",
       " 825: '(55*(5+(5+5)))',\n",
       " 826: 'â(5*5!)**(.5+.55)â',\n",
       " 827: 'â(5-.55)**(5-.5)â',\n",
       " 828: 'â(5-.55)**(5-.5)â',\n",
       " 829: 'â(â5+5)*(5!-5.5)â',\n",
       " 830: '(5*âââ5â*55.5â)',\n",
       " 831: '(ââ5â*â.5*555â)',\n",
       " 832: 'â(.5+â.5â)*555â',\n",
       " 833: 'â(.5+â.5â)*555â',\n",
       " 834: '(â5!*â55â-55)',\n",
       " 835: '(â5!*â55â-55)',\n",
       " 836: 'âââ55â*(5!-.55)â',\n",
       " 837: 'âââ55â*(5!-.55)â',\n",
       " 838: 'â(5.5**5)/â5.5ââ',\n",
       " 839: 'â(5.5**5)/â5.5ââ',\n",
       " 840: '(5!+â5.555â!)',\n",
       " 841: '(5!+â.5+â5.55â!â)',\n",
       " 842: '(â5.5â!+ââ5*55â)',\n",
       " 843: '(â5.5â!+ââ5*55â)',\n",
       " 844: 'â5!*â(55-5.5)â',\n",
       " 845: 'ââ55*â5!-5.5ââ',\n",
       " 846: 'ââ55*â5!-5.5ââ',\n",
       " 847: '(ââ55â*â5!+.55â)',\n",
       " 848: 'â5!*ââ55.5-5ââ',\n",
       " 849: 'ââ55*(5!-5.5)â',\n",
       " 850: '(5*(5!+(55-5)))',\n",
       " 851: 'ââ(5!-5)*â55â-.5â',\n",
       " 852: 'â5!*â(55.5-5)â',\n",
       " 853: 'â5!*â(55.5-5)â',\n",
       " 854: '(5+â5!*â(55-5)â)',\n",
       " 855: '(5*â5.55**ââ5ââ)',\n",
       " 856: 'â(5!-5)*â55.5â',\n",
       " 857: 'â(5!-5)*â55.5â',\n",
       " 858: '(5+â(5!-5)*â55â)',\n",
       " 859: 'â55**(â5-.55)â',\n",
       " 860: 'â55**(â5-.55)â',\n",
       " 861: 'â5!*(5+(5!/55))â',\n",
       " 862: 'â5!*(5+(5!/55))â',\n",
       " 863: 'â5**(â5!/5.5â/5)â',\n",
       " 864: '(â.5*55â/(.5**5))',\n",
       " 865: '(5*â55*â(5+5)â)',\n",
       " 866: 'â5!*ââ55-â5.5ââ',\n",
       " 867: 'ââ55*â5!-â5.5ââ',\n",
       " 868: 'ââ55*â5!-â5.5ââ',\n",
       " 869: 'â5*(55*â(5+5))â',\n",
       " 870: '((555-5!)/.5)',\n",
       " 871: 'â5!**ââ5.55/5ââ',\n",
       " 872: 'â5*(5!+(55-.5))â',\n",
       " 873: 'â5*(5!+(55-.5))â',\n",
       " 874: 'â(5*(5!+55))-.5â',\n",
       " 875: '(5*â5!+55.5â)',\n",
       " 876: 'â.5+(5*(5!+55))â',\n",
       " 877: 'â5*(5!+55.5)â',\n",
       " 878: 'â5*(5!+55.5)â',\n",
       " 879: 'ââ5*ââ.5*555ââ',\n",
       " 880: '(5*â5!+55.5â)',\n",
       " 881: 'â5!*ââ55-.55ââ',\n",
       " 882: 'ââ55*â5!-.55ââ',\n",
       " 883: 'ââ5!*â55â-5.5â',\n",
       " 884: 'ââ5!*â55â-5.5â',\n",
       " 885: 'ââ5!*â55â-5.5â',\n",
       " 886: 'ââ55*(5!-.55)â',\n",
       " 887: 'ââ5!-.5â*â55.5â',\n",
       " 888: '(â5!*â55.5â-5)',\n",
       " 889: 'â5!*(55/â55)â',\n",
       " 890: 'â5!*(55/â55)â',\n",
       " 891: 'â.55+(5!*â55)â',\n",
       " 892: 'ââ5!*â55.5â-.5â',\n",
       " 893: 'ââ5.5â!*â55.5â',\n",
       " 894: 'â5.5+â5!*â55ââ',\n",
       " 895: 'â5.5+â5!*â55ââ',\n",
       " 896: 'â5.5+â5!*â55ââ',\n",
       " 897: 'â5!*ââ55.55ââ',\n",
       " 898: 'â5!*ââ55.55ââ',\n",
       " 899: '(5+â5!*â55.5â)',\n",
       " 900: '(5*(5+(5!+55)))',\n",
       " 901: 'ââ.5+5!â*â55.5â',\n",
       " 902: 'â(5-(5.5/5))**5â',\n",
       " 903: 'â(5-(5.5/5))**5â',\n",
       " 904: '(5!+â555/â.5â)',\n",
       " 905: '(5!+â555/â.5â)',\n",
       " 906: '(ââ5â*â5.5*55â)',\n",
       " 907: 'âââ5â*(5.5*55)â',\n",
       " 908: 'âââ5â*(5.5*55)â',\n",
       " 909: '(ââ5â*â5.5*55â)',\n",
       " 910: 'ââ5*â55*â55ââ',\n",
       " 911: 'ââ5*â55*â55ââ',\n",
       " 912: 'ââ5*â55*â55ââ',\n",
       " 913: 'ââ5*â55*â55ââ',\n",
       " 914: 'ââ5.5**5â/5.5â',\n",
       " 915: 'â5.5**â5-.55ââ',\n",
       " 916: 'â5.5**â5-.55ââ',\n",
       " 917: 'âââ5+5!â*â55.5â',\n",
       " 918: 'â5.5*â5.5**ââ5âââ',\n",
       " 919: 'â5.5*â5.5**ââ5âââ',\n",
       " 920: '(5+â5.5**â5-.5ââ)',\n",
       " 921: 'â(.5*5)**â55.5â',\n",
       " 922: 'â(.5*5)**â55.5â',\n",
       " 923: '(55+â5!*(â5+5)â)',\n",
       " 924: '(55+â5!*(â5+5)â)',\n",
       " 925: '(5*(555/ââ5â))',\n",
       " 926: 'ââ(5+5!)*â55â-.5â',\n",
       " 927: 'ââ55*â5!+5.5ââ',\n",
       " 928: 'ââ55*â5!+5.5ââ',\n",
       " 929: 'â5!*ââ5+55.5ââ',\n",
       " 930: 'â5!*ââ5+55.5ââ',\n",
       " 931: 'â(5+5!)*â55.5â',\n",
       " 932: 'â(5+5!)*â55.5â',\n",
       " 933: 'â5!*â(5+55.5)â',\n",
       " 934: 'â5!*â(5+55.5)â',\n",
       " 935: '(55*â5!/â55â)',\n",
       " 936: 'â(5+5!)*ââ55.5ââ',\n",
       " 937: 'â5!*ââ5+55.5ââ',\n",
       " 938: 'â5!*ââ5+55.5ââ',\n",
       " 939: 'â5.5/(.5**â55)â',\n",
       " 940: 'â5.5/(.5**â55)â',\n",
       " 941: 'ââ55*â5!+â55ââ',\n",
       " 942: 'ââ5**5.5â/â55â',\n",
       " 943: 'ââ5**5.5â/â55â',\n",
       " 944: '(55+â5!*â55â)',\n",
       " 945: '(55+â5!*â55â)',\n",
       " 946: '(5.5*â(5+5)**â5â)',\n",
       " 947: 'â(â.5+â.5â)*555â',\n",
       " 948: 'â5.55**â5-.5ââ',\n",
       " 949: 'â5.55**â5-.5ââ',\n",
       " 950: '(5*(5*â5*â55â))',\n",
       " 951: 'â5.5*â(5+5)**â5ââ',\n",
       " 952: 'â5!*ââ55+â55ââ',\n",
       " 953: 'â5!*ââ55+â55ââ',\n",
       " 954: 'â(5!+555)/â.5â',\n",
       " 955: 'â5!*(.55+â55)â',\n",
       " 956: 'â5!*(.55+â55)â',\n",
       " 957: 'â5!*(.5+ââ55.5â)â',\n",
       " 958: 'â5!*(.5+ââ55.5â)â',\n",
       " 959: 'â(5!*ââ55â)-.55â',\n",
       " 960: '(5!*â55/â55â)',\n",
       " 961: 'âââ.5*5â*555â',\n",
       " 962: 'â5.5*(5!+55)â',\n",
       " 963: 'â5.5*(5!+55)â',\n",
       " 964: 'â(â5-.5)*555â',\n",
       " 965: 'â(5!/5.55)**â5â',\n",
       " 966: 'â(5!/5.55)**â5â',\n",
       " 967: 'â5!*ââ5!-55.5ââ',\n",
       " 968: 'â5!*ââ5!-55.5ââ',\n",
       " 969: '((â5-.5â**5)-55)',\n",
       " 970: '(5*â5!**(5.5/5)â)',\n",
       " 971: '(â5*(5!/.55)â-5!)',\n",
       " 972: 'ââ5*(555-5!)â',\n",
       " 973: 'ââ5*(555-5!)â',\n",
       " 974: 'â5!*ââ5!*.555ââ',\n",
       " 975: 'â5!*ââ5!*.555ââ',\n",
       " 976: '(ââ55â*ââ5*55â)',\n",
       " 977: 'â(5+5)*((.5*5)**5)â',\n",
       " 978: 'â5!*(â.5+â55.5)â',\n",
       " 979: 'â5!*(5+ââ5+5.5â)â',\n",
       " 980: 'â5!*(5+ââ5+5.5â)â',\n",
       " 981: '((5-.5)*â5!/.55â)',\n",
       " 982: 'â5!*ââ5!*.555ââ',\n",
       " 983: 'â5!*ââ5!*.555ââ',\n",
       " 984: '(ââ55â*ââ5*55â)',\n",
       " 985: 'â(5-.5)*â5!/.55ââ',\n",
       " 986: 'â(5-.5)*â5!/.55ââ',\n",
       " 987: 'ââââ5*5â**5.55â',\n",
       " 988: 'â5!*(â5+â5.55â)â',\n",
       " 989: 'â5!*(â5+â5.55â)â',\n",
       " 990: '((555/.5)-5!)',\n",
       " 991: 'â5!*(5-(â5-5.5))â',\n",
       " 992: 'â5!*(5-(â5-5.5))â',\n",
       " 993: 'ââ5*âââ5â**5.55ââ',\n",
       " 994: 'â5!*(5*â(5*.55))â',\n",
       " 995: '(â5.5â!+(5*55))',\n",
       " 996: 'ââ5**(5-â.5)â-5.5â',\n",
       " 997: 'â5!*(5+â(55/5))â',\n",
       " 998: 'ââ5**5.5â/ââ55ââ',\n",
       " 999: 'ââ5**5.5â/ââ55ââ',\n",
       " ...}"
      ]
     },
     "execution_count": 39,
     "metadata": {},
     "output_type": "execute_result"
    }
   ],
   "source": [
    "clear()\n",
    "\n",
    "%time makeable(ff)"
   ]
  },
  {
   "cell_type": "markdown",
   "metadata": {
    "button": false,
    "deletable": true,
    "new_sheet": false,
    "run_control": {
     "read_only": false
    }
   },
   "source": [
    "The output got truncated by Jupyter Notebook after 1000 entries. Let's see what the first unmakeable integer actually is:"
   ]
  },
  {
   "cell_type": "code",
   "execution_count": 40,
   "metadata": {
    "button": false,
    "collapsed": false,
    "deletable": true,
    "new_sheet": false,
    "run_control": {
     "read_only": false
    }
   },
   "outputs": [
    {
     "data": {
      "text/plain": [
       "23308"
      ]
     },
     "execution_count": 40,
     "metadata": {},
     "output_type": "execute_result"
    }
   ],
   "source": [
    "unmakeable(ff)"
   ]
  },
  {
   "cell_type": "markdown",
   "metadata": {
    "button": false,
    "deletable": true,
    "new_sheet": false,
    "run_control": {
     "read_only": false
    }
   },
   "source": [
    "I think we've conquered the five 5s problem.\n",
    "\n",
    "# Conclusion\n",
    "\n",
    "We were able to solve the puzzles, and we now have some tools to explore new puzzles. What can you discover?"
   ]
  }
 ],
 "metadata": {
  "kernelspec": {
   "display_name": "Python 3",
   "language": "python",
   "name": "python3"
  },
  "language_info": {
   "codemirror_mode": {
    "name": "ipython",
    "version": 3
   },
   "file_extension": ".py",
   "mimetype": "text/x-python",
   "name": "python",
   "nbconvert_exporter": "python",
   "pygments_lexer": "ipython3",
   "version": "3.5.0"
  }
 },
 "nbformat": 4,
 "nbformat_minor": 0
}
