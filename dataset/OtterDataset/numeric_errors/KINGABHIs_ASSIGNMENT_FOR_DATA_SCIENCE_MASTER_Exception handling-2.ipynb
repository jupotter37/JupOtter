{
 "cells": [
  {
   "cell_type": "markdown",
   "id": "4dd6f988-8ff4-44fa-8e99-a776c5f98706",
   "metadata": {},
   "source": [
    "Q1. Explain why we have to use the Exception class while creating a Custom Exception.\n",
    "Note: Here Exception class refers to the base class for all the exceptions.\n"
   ]
  },
  {
   "cell_type": "markdown",
   "id": "31d95db3-5c30-4b25-a46b-fae8cf4799b5",
   "metadata": {},
   "source": [
    "The Exception class is the base class for all exceptions in Python. When creating a custom exception, inheriting from the Exception class ensures that your custom exception behaves like any built-in exception. This allows it to be caught and handled in the same way as other exceptions.\n",
    "\n",
    "Advantages of Inheriting from Exception: \n",
    "* Consistency: By inheriting from Exception, your custom exception follows the standard exception-handling process in Python.\n",
    "* Catchable: Your custom exception can be caught using try-except blocks, just like built-in exceptions.\n",
    "* Extendable: You can add custom messages, methods, or properties to your custom exception while still benefiting from the built-in exception structure."
   ]
  },
  {
   "cell_type": "code",
   "execution_count": 3,
   "id": "5c772671-62b8-4ab1-99db-8807f285ce0a",
   "metadata": {},
   "outputs": [
    {
     "name": "stdin",
     "output_type": "stream",
     "text": [
      "Enter a number:  11\n"
     ]
    },
    {
     "name": "stdout",
     "output_type": "stream",
     "text": [
      "Number is positive.\n"
     ]
    }
   ],
   "source": [
    "# Custom Exception inheriting from Exception\n",
    "class NegativeNumberError(Exception):\n",
    "    def __init__(self, message=\"Negative numbers are not allowed!\"):\n",
    "        self.message = message\n",
    "        super().__init__(self.message)\n",
    "\n",
    "# Function to check if number is negative\n",
    "def check_number(num):\n",
    "    if num < 0:\n",
    "        raise NegativeNumberError(\"Negative number entered!\")\n",
    "    else:\n",
    "        print(\"Number is positive.\")\n",
    "\n",
    "# Using the custom exception\n",
    "try:\n",
    "    num = int(input(\"Enter a number: \"))\n",
    "    check_number(num)\n",
    "except NegativeNumberError as e:\n",
    "    print(f\"Error: {e}\")\n"
   ]
  },
  {
   "cell_type": "markdown",
   "id": "10258eb4-11e3-4c73-bf86-0ce07ab01e03",
   "metadata": {},
   "source": [
    "Q2. Write a python program to print Python Exception Hierarchy.\n",
    "\n",
    "You can print the Python Exception Hierarchy using the inspect module, which helps you explore the class hierarchy of exceptions."
   ]
  },
  {
   "cell_type": "code",
   "execution_count": null,
   "id": "4dce0e54-9816-4dc8-a071-9a3d645c346b",
   "metadata": {},
   "outputs": [],
   "source": [
    "import inspect\n",
    "\n",
    "# Function to print exception hierarchy\n",
    "def print_exception_hierarchy(cls, level=0):\n",
    "    print(\"  \" * level + cls.__name__)\n",
    "    for subclass in cls.__subclasses__():\n",
    "        print_exception_hierarchy(subclass, level + 1)\n",
    "\n",
    "# Print the hierarchy starting from the base Exception class\n",
    "print(\"Python Exception Hierarchy:\")\n",
    "print_exception_hierarchy(BaseException)"
   ]
  },
  {
   "cell_type": "markdown",
   "id": "94919558-6851-4d54-ad5d-8505175e5f09",
   "metadata": {},
   "source": [
    "Q3. What errors are defined in the ArithmeticError class? Explain any two with an example.\n",
    "\n",
    "\n",
    "The ArithmeticError class is a base class for errors related to arithmetic operations. It has several subclasses, including:\n",
    "\n",
    "ZeroDivisionError: Raised when dividing by zero.\n",
    "OverflowError: Raised when a numeric operation exceeds the maximum limit for a numeric type.\n",
    "FloatingPointError: Raised for errors in floating-point calculations (rarely used)."
   ]
  },
  {
   "cell_type": "code",
   "execution_count": 6,
   "id": "e78913b8-947d-462f-9fb7-ac1c38a2d221",
   "metadata": {},
   "outputs": [
    {
     "name": "stdout",
     "output_type": "stream",
     "text": [
      "Error: division by zero\n"
     ]
    }
   ],
   "source": [
    "try:\n",
    "    result = 10 / 0\n",
    "except ZeroDivisionError as e:\n",
    "    print(f\"Error: {e}\")"
   ]
  },
  {
   "cell_type": "code",
   "execution_count": 8,
   "id": "26366b01-0cec-4d77-a528-8387da669db8",
   "metadata": {},
   "outputs": [
    {
     "name": "stdout",
     "output_type": "stream",
     "text": [
      "Error: math range error\n"
     ]
    }
   ],
   "source": [
    "import math\n",
    "\n",
    "try:\n",
    "    result = math.exp(1000)  # Exponential operation exceeding limit\n",
    "except OverflowError as e:\n",
    "    print(f\"Error: {e}\")\n"
   ]
  },
  {
   "cell_type": "code",
   "execution_count": null,
   "id": "20024951-b2c8-449d-8778-1c26f6ead505",
   "metadata": {},
   "outputs": [],
   "source": []
  },
  {
   "cell_type": "markdown",
   "id": "4cb5cf4f-be33-4a1c-b1e4-5f66fe40b7d7",
   "metadata": {},
   "source": [
    "Q4. Why LookupError class is used? Explain with an example KeyError and IndexError.\n",
    "\n",
    "Why LookupError Class is Used?\n",
    "The LookupError class is a base class for exceptions raised when a lookup operation fails, such as accessing invalid keys in a dictionary or invalid indexes in a list.\n",
    "\n",
    "Subclasses of LookupError include:\n",
    "\n",
    "* KeyError: Raised when a key is not found in a dictionary.\n",
    "* IndexError: Raised when an index is out of range in a sequence (e.g., list, tuple)."
   ]
  },
  {
   "cell_type": "code",
   "execution_count": null,
   "id": "8ce08b3d-0857-4743-8b26-a60439e9b83b",
   "metadata": {},
   "outputs": [],
   "source": [
    "# KeyError Example\n",
    "try:\n",
    "    my_dict = {\"name\": \"Alice\"}\n",
    "    print(my_dict[\"age\"])  # Key does not exist\n",
    "except KeyError as e:\n",
    "    print(f\"KeyError: {e}\")\n"
   ]
  },
  {
   "cell_type": "code",
   "execution_count": null,
   "id": "101dcf8a-ee66-41b2-818f-ebd44fa332f3",
   "metadata": {},
   "outputs": [],
   "source": [
    "# IndexError Example\n",
    "try:\n",
    "    my_list = [1, 2, 3]\n",
    "    print(my_list[5])  # Index out of range\n",
    "except IndexError as e:\n",
    "    print(f\"IndexError: {e}\")"
   ]
  },
  {
   "cell_type": "code",
   "execution_count": null,
   "id": "020d5a9a-867c-4b09-85f5-dcd3976ca994",
   "metadata": {},
   "outputs": [],
   "source": []
  },
  {
   "cell_type": "code",
   "execution_count": null,
   "id": "c15c4323-b52f-4837-b8bf-80bfd7d12dbe",
   "metadata": {},
   "outputs": [],
   "source": [
    "Q5. Explain ImportError. What is ModuleNotFoundError?"
   ]
  },
  {
   "cell_type": "code",
   "execution_count": null,
   "id": "e6a3fa9a-aba3-4229-911c-86576e5e5f5c",
   "metadata": {},
   "outputs": [],
   "source": [
    "1. ImportError:\n",
    "ImportError is raised when:\n",
    "\n",
    "A module or its attributes cannot be imported.\n",
    "The module is not available or there is an error within the module itself.\n",
    "\n",
    "2. ModuleNotFoundError\n",
    "ModuleNotFoundError is a subclass of ImportError introduced in Python 3.6.\n",
    "It is specifically raised when a module cannot be found."
   ]
  },
  {
   "cell_type": "code",
   "execution_count": 10,
   "id": "4f7a5d1e-b93e-4fb0-b2ee-60e080be3a92",
   "metadata": {},
   "outputs": [
    {
     "name": "stdout",
     "output_type": "stream",
     "text": [
      "ImportError: No module named 'nonexistent_module'\n"
     ]
    }
   ],
   "source": [
    "try:\n",
    "    import nonexistent_module  # Module does not exist\n",
    "except ImportError as e:\n",
    "    print(f\"ImportError: {e}\")\n"
   ]
  },
  {
   "cell_type": "code",
   "execution_count": 12,
   "id": "3cd07f02-c144-4d49-9111-0d4f395d6273",
   "metadata": {},
   "outputs": [
    {
     "name": "stdout",
     "output_type": "stream",
     "text": [
      "ModuleNotFoundError: No module named 'nonexistent_module'\n"
     ]
    }
   ],
   "source": [
    "try:\n",
    "    import nonexistent_module  # Module does not exist\n",
    "except ModuleNotFoundError as e:\n",
    "    print(f\"ModuleNotFoundError: {e}\")\n"
   ]
  },
  {
   "cell_type": "markdown",
   "id": "01fc6e53-61fd-44da-a7ef-87877ff93fc6",
   "metadata": {},
   "source": [
    "Q6. List down some best practices for exception handling in python."
   ]
  },
  {
   "cell_type": "markdown",
   "id": "30f7741f-08b4-4ef7-b2d1-d6dbb38322f0",
   "metadata": {},
   "source": [
    "\n",
    "Best Practices for Exception Handling in Python\n",
    "1. Use Specific Exceptions : Catch specific exceptions instead of a generic Exception to make the code easier to debug.\n",
    "2. Avoid Bare Except Blocks : Always specify the exception to avoid unintentionally catching unexpected errors.\n",
    "3. Use finally for Cleanup : Use the finally block to release resources, like closing files or database connections.\n",
    "4. Use else for Code That Should Run If No Exception Occurs : Place code that runs only when no exception occurs in the else block.\n",
    "5. Avoid Silent Failures : Do not suppress exceptions without handling them properly or logging the error\n",
    "6. Raise Exceptions with Meaningful Messages: Provide clear error messages when raising exceptions.\n",
    "7. Log Exceptions : Use a logging library to log exceptions for debugging and monitoring.\n",
    "8. Avoid Using Exceptions for Flow Control : Do not use exceptions to control the flow of your program as it reduces code readability.\n",
    "9. Group Related Exceptions : Use a tuple to handle multiple exceptions in a single block.\n",
    "10. Create Custom Exceptions When Necessary : Define custom exceptions for specific use cases to make error handling more meaningful."
   ]
  },
  {
   "cell_type": "code",
   "execution_count": null,
   "id": "169d0ec6-22c5-4f0d-9dff-521f6c960d06",
   "metadata": {},
   "outputs": [],
   "source": []
  },
  {
   "cell_type": "code",
   "execution_count": null,
   "id": "ac205ae4-f718-499d-9e1a-6775d809c1b7",
   "metadata": {},
   "outputs": [],
   "source": []
  }
 ],
 "metadata": {
  "kernelspec": {
   "display_name": "Python 3 (ipykernel)",
   "language": "python",
   "name": "python3"
  },
  "language_info": {
   "codemirror_mode": {
    "name": "ipython",
    "version": 3
   },
   "file_extension": ".py",
   "mimetype": "text/x-python",
   "name": "python",
   "nbconvert_exporter": "python",
   "pygments_lexer": "ipython3",
   "version": "3.12.4"
  }
 },
 "nbformat": 4,
 "nbformat_minor": 5
}
