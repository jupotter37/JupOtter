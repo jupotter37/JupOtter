{
 "cells": [
  {
   "cell_type": "markdown",
   "metadata": {},
   "source": [
    "Q1. Explain why we have to use the Exception class while creating a Custom Exception.\n",
    "Note: Here Exception class refers to the base class for all the exceptions."
   ]
  },
  {
   "cell_type": "markdown",
   "metadata": {},
   "source": [
    "A1. Inheriting from Exception ensures that the custom exception follows the same interface and behavior as built-in exceptions. The custom exception is automatically caught by general exception handlers, such as try-except blocks that catch Exception. By inheriting, custom exception class also inherits useful methods like __str__, __repr__, and args, which can be used to provide additional information about the exception."
   ]
  },
  {
   "cell_type": "markdown",
   "metadata": {},
   "source": [
    "Q2. Write a python program to print Python Exception Hierarchy."
   ]
  },
  {
   "cell_type": "code",
   "execution_count": 2,
   "metadata": {},
   "outputs": [
    {
     "name": "stdout",
     "output_type": "stream",
     "text": [
      "Caught an exception: Value cannot be negative\n"
     ]
    }
   ],
   "source": [
    "#A2.\n",
    "class CustomError(Exception):\n",
    "    def __init__(self, message):\n",
    "        super().__init__(message)\n",
    "        self.message = message\n",
    "\n",
    "def check_value(value):\n",
    "    if value < 0:\n",
    "        raise CustomError(\"Value cannot be negative\")\n",
    "\n",
    "try:\n",
    "    check_value(-1)\n",
    "except CustomError as e:\n",
    "    print(f\"Caught an exception: {e.message}\")\n"
   ]
  },
  {
   "cell_type": "markdown",
   "metadata": {},
   "source": [
    "Q3. What errors are defined in the ArithmeticError class? Explain any two with an example."
   ]
  },
  {
   "cell_type": "markdown",
   "metadata": {},
   "source": [
    "A3. The ArithmeticError class in Python is a base class for exceptions that occur during arithmetic operations. Two of the most common errors defined in this class are:\n",
    "\n",
    "1. ZeroDivisionError\n",
    "This error occurs when we try to divide a number by zero.\n",
    "\n",
    "2. OverflowError\n",
    "This error occurs when an arithmetic operation exceeds the maximum limit of the data type."
   ]
  },
  {
   "cell_type": "code",
   "execution_count": 15,
   "metadata": {},
   "outputs": [
    {
     "name": "stdout",
     "output_type": "stream",
     "text": [
      "Error: division by zero\n"
     ]
    }
   ],
   "source": [
    "#Example1\n",
    "try:\n",
    "    x = 10 / 0\n",
    "except ZeroDivisionError as e:\n",
    "    print(\"Error:\", e)\n"
   ]
  },
  {
   "cell_type": "code",
   "execution_count": 16,
   "metadata": {},
   "outputs": [
    {
     "name": "stdout",
     "output_type": "stream",
     "text": [
      "Error: math range error\n"
     ]
    }
   ],
   "source": [
    "#Example2\n",
    "import math\n",
    "try:\n",
    "    result = math.exp(1000)\n",
    "except OverflowError as e:\n",
    "    print(\"Error:\", e)"
   ]
  },
  {
   "cell_type": "markdown",
   "metadata": {},
   "source": [
    "Q4. Why LookupError class is used? Explain with an example KeyError and IndexError."
   ]
  },
  {
   "cell_type": "markdown",
   "metadata": {},
   "source": [
    "A4. The LookupError class in Python is a base class for exceptions that occur when a key or index used to access a collection is invalid. This class provides a way to catch exceptions related to looking up elements in sequences or mappings. Two common exceptions that inherit from LookupError are KeyError and IndexError.\n",
    "\n",
    "1. KeyError\n",
    "This error is raised when a dictionary is accessed with a key that doesn't exist in the dictionary.\n",
    "\n",
    "2. IndexError\n",
    "An IndexError is raised when a sequence (like a list or a tuple) is accessed with an index that is out of range."
   ]
  },
  {
   "cell_type": "code",
   "execution_count": 19,
   "metadata": {},
   "outputs": [
    {
     "name": "stdout",
     "output_type": "stream",
     "text": [
      "LookupError: 'address'\n"
     ]
    }
   ],
   "source": [
    "try:\n",
    "    my_dict = {'name': 'Raj', 'age': 27}\n",
    "    print(my_dict['address'])  # KeyError example\n",
    "except LookupError as e:\n",
    "    print(\"LookupError:\", e)\n"
   ]
  },
  {
   "cell_type": "code",
   "execution_count": 20,
   "metadata": {},
   "outputs": [
    {
     "name": "stdout",
     "output_type": "stream",
     "text": [
      "LookupError: list index out of range\n"
     ]
    }
   ],
   "source": [
    "try:\n",
    "    my_list = [1, 2, 3]\n",
    "    print(my_list[5])  # IndexError example\n",
    "except LookupError as e:\n",
    "    print(\"LookupError:\", e)\n"
   ]
  },
  {
   "cell_type": "markdown",
   "metadata": {},
   "source": [
    "Q5. Explain ImportError. What is ModuleNotFoundError?"
   ]
  },
  {
   "cell_type": "markdown",
   "metadata": {},
   "source": [
    "A5. ImportError is raised when a module or a component of a module cannot be imported. This typically happens when:\n",
    "\n",
    "1. The module does not exist.\n",
    "2. The module exists but cannot be accessed (e.g., due to file permission issues).\n",
    "3. The module cannot be loaded due to missing dependencies or errors within the module itself.\n",
    "\n",
    "ModuleNotFoundError is similar to ImportError, but it provides more specific information about the missing module or package. The error message includes the name of the missing module or package"
   ]
  },
  {
   "cell_type": "code",
   "execution_count": 21,
   "metadata": {},
   "outputs": [
    {
     "name": "stdout",
     "output_type": "stream",
     "text": [
      "ImportError: No module named 'ritik_module'\n"
     ]
    }
   ],
   "source": [
    "try:\n",
    "    import ritik_module\n",
    "except ImportError as e:\n",
    "    print(\"ImportError:\", e)\n"
   ]
  },
  {
   "cell_type": "code",
   "execution_count": 22,
   "metadata": {},
   "outputs": [
    {
     "name": "stdout",
     "output_type": "stream",
     "text": [
      "ModuleNotFoundError: No module named 'raj_module'\n"
     ]
    }
   ],
   "source": [
    "try:\n",
    "    import raj_module\n",
    "except ModuleNotFoundError as e:\n",
    "    print(\"ModuleNotFoundError:\", e)\n"
   ]
  },
  {
   "cell_type": "markdown",
   "metadata": {},
   "source": [
    "Q6. List down some best practices for exception handling in python."
   ]
  },
  {
   "cell_type": "markdown",
   "metadata": {},
   "source": [
    "A6. Some of the important points are:\n",
    "\n",
    "1. Use specific exception instead of using the 'Exception' superclass\n",
    "2. A valid message in exception, so that any one can understand.\n",
    "3. Always try to log the exception, for code improvement.\n",
    "4. Prepare proper documentation.\n",
    "5. Close file, connectivity in the finally block to clear resource efficiently."
   ]
  }
 ],
 "metadata": {
  "kernelspec": {
   "display_name": "Python 3",
   "language": "python",
   "name": "python3"
  },
  "language_info": {
   "codemirror_mode": {
    "name": "ipython",
    "version": 3
   },
   "file_extension": ".py",
   "mimetype": "text/x-python",
   "name": "python",
   "nbconvert_exporter": "python",
   "pygments_lexer": "ipython3",
   "version": "3.12.4"
  }
 },
 "nbformat": 4,
 "nbformat_minor": 2
}
