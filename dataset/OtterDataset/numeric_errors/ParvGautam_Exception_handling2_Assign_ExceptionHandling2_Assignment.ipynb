{
 "cells": [
  {
   "cell_type": "code",
   "execution_count": 1,
   "id": "a6c3937c-7c8e-4f77-80ab-9624703e6291",
   "metadata": {},
   "outputs": [],
   "source": [
    "#Answer 1\n",
    "\"\"\"Custom exceptions provide you the flexibility to add attributes and methods that are not part of a standard \n",
    "Python exception. These can store additional information, like an application-specific error code, or provide \n",
    "utility methods that can be used to handle or present the exception to a user.\"\"\""
   ]
  },
  {
   "cell_type": "code",
   "execution_count": 2,
   "id": "0f8e3d8d-c910-4baf-93c3-71c55787bac6",
   "metadata": {},
   "outputs": [],
   "source": [
    "#Answer 2\n",
    "import logging\n",
    "logging.basicConfig(filename=\"error.log\" , level =logging.ERROR)\n",
    "try:\n",
    "    10/0\n",
    "except FileNotFoundError as e:\n",
    "    logging.error(\"I am trying to handle file not found error {}\".format(e))\n",
    "except AttributeError as e:\n",
    "    logging.error(\"I am trying to handle Attribute error {}\".format(e))\n",
    "except ZeroDivisionError as e:\n",
    "    logging.error(\"I am trying to handle a zero division error {}\".format(e))"
   ]
  },
  {
   "cell_type": "code",
   "execution_count": null,
   "id": "e96492f0-0647-4b1e-bb81-03bc2f6e01d1",
   "metadata": {},
   "outputs": [],
   "source": [
    "#Answer 3\n",
    "#ArithmeticError types in Python include:\n",
    "\n",
    "# 1. OverFlowError\n",
    "# 2. ZeroDivisionError\n",
    "# 3. FloatingPointError\n",
    "try:\n",
    "    10/0\n",
    "except ZeroDivisionError as e:\n",
    "    logging.error(\"I am trying to handle a zero division error {}\".format(e))\n"
   ]
  },
  {
   "cell_type": "code",
   "execution_count": 3,
   "id": "75792cee-674b-4763-a375-0472c715d200",
   "metadata": {},
   "outputs": [
    {
     "name": "stdout",
     "output_type": "stream",
     "text": [
      "5.0\n",
      "25.0\n",
      "15625.0\n",
      "5.960464477539062e+16\n",
      "7.52316384526264e+83\n"
     ]
    }
   ],
   "source": [
    "j = 5.0\n",
    "\n",
    "try:\n",
    "    for i in range(1, 1000):\n",
    "        j = j**i\n",
    "        print(j)\n",
    "except OverflowError as e:\n",
    "      logging.error(\"I am trying to handle a overflow error {}\".format(e))"
   ]
  },
  {
   "cell_type": "code",
   "execution_count": null,
   "id": "c801b5ea-617c-4179-9c6d-f9cd52c9ef0a",
   "metadata": {},
   "outputs": [],
   "source": [
    "#Answer 4\n",
    "\"\"\"The LookupError exception in Python forms the base class for all exceptions that are raised when an index or\n",
    "a key is not found for a sequence or dictionary respectively. You can use LookupError exception class to handle\n",
    "both IndexError and KeyError exception classes\"\"\""
   ]
  },
  {
   "cell_type": "code",
   "execution_count": 4,
   "id": "c9f6230e-e638-4cc2-9446-ebf2729b16d7",
   "metadata": {},
   "outputs": [],
   "source": [
    "try:\n",
    "    d={\"key\": \"sudh\", 1: [1,2,3,4]}\n",
    "    print(d[\"key2\"])\n",
    "except KeyError as e:\n",
    "    logging.error(\"I am trying to handle a key error {}\".format(e))"
   ]
  },
  {
   "cell_type": "code",
   "execution_count": 5,
   "id": "d05fffaf-4bd5-4c7b-a667-f2879acec457",
   "metadata": {},
   "outputs": [],
   "source": [
    "try:\n",
    "    l=[4,5,6,7]\n",
    "    print(l[5])\n",
    "except IndexError as e:\n",
    "      logging.error(\"I am trying to handle a Index error {}\".format(e))"
   ]
  },
  {
   "cell_type": "code",
   "execution_count": null,
   "id": "21905de1-885c-4618-bfaf-2cf5f28e3b71",
   "metadata": {},
   "outputs": [],
   "source": [
    "#Answer 5\n",
    "#ImportError\n",
    "\"\"\"In Python, ImportError occurs when the Python program tries to import module which does not exist in the\n",
    "private table\"\"\"\n",
    "\n",
    "#ModuleNotFoundError\n",
    "\"\"\"The 'module not found' error is a syntax error that appears when the static import statement cannot \n",
    "find the file at the declared path. This common syntax error is caused by letter-casing inconsistencies \n",
    "that are present in your filename(s) between your repository and local machine, or both.\"\"\""
   ]
  },
  {
   "cell_type": "code",
   "execution_count": null,
   "id": "a35ae25b-f9c7-49f5-9306-3bdc4bf7edcd",
   "metadata": {},
   "outputs": [],
   "source": [
    "#Asnwer 6\n",
    "# 1. Use always specific exception\n",
    "# 2. Print always a proper message\n",
    "# 3.Always try to logs your error\n",
    "# 4. Always avoid  to write a multiple exception handling\n",
    "# Document All Error\n",
    "#CleanUp all the resources"
   ]
  }
 ],
 "metadata": {
  "kernelspec": {
   "display_name": "Python 3 (ipykernel)",
   "language": "python",
   "name": "python3"
  },
  "language_info": {
   "codemirror_mode": {
    "name": "ipython",
    "version": 3
   },
   "file_extension": ".py",
   "mimetype": "text/x-python",
   "name": "python",
   "nbconvert_exporter": "python",
   "pygments_lexer": "ipython3",
   "version": "3.10.8"
  }
 },
 "nbformat": 4,
 "nbformat_minor": 5
}
