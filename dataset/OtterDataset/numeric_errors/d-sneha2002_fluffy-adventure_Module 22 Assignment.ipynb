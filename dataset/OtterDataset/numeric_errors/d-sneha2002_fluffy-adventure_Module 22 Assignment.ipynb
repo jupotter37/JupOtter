{
 "cells": [
  {
   "cell_type": "markdown",
   "metadata": {},
   "source": [
    "**Q1. Explain why we have to use the Exception class while creating a Custom Exception.**"
   ]
  },
  {
   "cell_type": "markdown",
   "metadata": {},
   "source": [
    "In Python, the try and else blocks are combined to treat the possible exceptions encountered during Python code execution. The try block contains the code that may raise an exception, and the else block has the code that will be executed if no exception occurs within the try block.\n",
    "\n",
    "Creating custom exceptions from the built-in exception Class is the way to do it in Python. This is one of the very points to be observed:\n",
    "\n",
    "Consistency: These custom exceptions get defined through the hierarchy of Exception to make sure that they behave similarly to the other built-in errors and, thus, they become a part of Python's exception handling mechanism without a conscious inclusion.\n",
    "Type Hierarchy: By inheriting from Exception, custom exceptions become part of the exception hierarchy, allowing for more specific exception handling and easier debugging.\n",
    "Compatibility: It is guaranteed that the derived class is compatible with exception handling tools and libraries of the standard library"
   ]
  },
  {
   "cell_type": "markdown",
   "metadata": {
    "vscode": {
     "languageId": "plaintext"
    }
   },
   "source": [
    "**Q2. Write a python program to print Python Exception Hierarchy.**"
   ]
  },
  {
   "cell_type": "code",
   "execution_count": 1,
   "metadata": {},
   "outputs": [
    {
     "name": "stdout",
     "output_type": "stream",
     "text": [
      "BaseException\n",
      "  Exception\n",
      "    TypeError\n",
      "      FloatOperation\n",
      "      MultipartConversionError\n",
      "    StopAsyncIteration\n",
      "    StopIteration\n",
      "    ImportError\n",
      "      ModuleNotFoundError\n",
      "        PackageNotFoundError\n",
      "      ZipImportError\n",
      "    OSError\n",
      "      ConnectionError\n",
      "        BrokenPipeError\n",
      "        ConnectionAbortedError\n",
      "        ConnectionRefusedError\n",
      "        ConnectionResetError\n",
      "          RemoteDisconnected\n",
      "      BlockingIOError\n",
      "      ChildProcessError\n",
      "      FileExistsError\n",
      "      FileNotFoundError\n",
      "      IsADirectoryError\n",
      "      NotADirectoryError\n",
      "      InterruptedError\n",
      "        InterruptedSystemCall\n",
      "      PermissionError\n",
      "      ProcessLookupError\n",
      "      TimeoutError\n",
      "      UnsupportedOperation\n",
      "      itimer_error\n",
      "      herror\n",
      "      gaierror\n",
      "      SSLError\n",
      "        SSLCertVerificationError\n",
      "        SSLZeroReturnError\n",
      "        SSLWantWriteError\n",
      "        SSLWantReadError\n",
      "        SSLSyscallError\n",
      "        SSLEOFError\n",
      "      Error\n",
      "        SameFileError\n",
      "      SpecialFileError\n",
      "      ExecError\n",
      "      ReadError\n",
      "      URLError\n",
      "        HTTPError\n",
      "        ContentTooShortError\n",
      "      BadGzipFile\n",
      "    EOFError\n",
      "      IncompleteReadError\n",
      "    RuntimeError\n",
      "      RecursionError\n",
      "      NotImplementedError\n",
      "        ZMQVersionError\n",
      "        StdinNotImplementedError\n",
      "      _DeadlockError\n",
      "      BrokenBarrierError\n",
      "      BrokenExecutor\n",
      "        BrokenThreadPool\n",
      "      SendfileNotAvailableError\n",
      "      VariableError\n",
      "    NameError\n",
      "      UnboundLocalError\n",
      "    AttributeError\n",
      "      FrozenInstanceError\n",
      "    SyntaxError\n",
      "      IndentationError\n",
      "        TabError\n",
      "    LookupError\n",
      "      IndexError\n",
      "      KeyError\n",
      "        NoSuchKernel\n",
      "        UnknownBackend\n",
      "      CodecRegistryError\n",
      "    ValueError\n",
      "      UnicodeError\n",
      "        UnicodeEncodeError\n",
      "        UnicodeDecodeError\n",
      "        UnicodeTranslateError\n",
      "      UnsupportedOperation\n",
      "      JSONDecodeError\n",
      "      SSLCertVerificationError\n",
      "      Error\n",
      "      UnsupportedDigestmodError\n",
      "      IllegalMonthError\n",
      "      IllegalWeekdayError\n",
      "      ParserError\n",
      "      MessageDefect\n",
      "        NoBoundaryInMultipartDefect\n",
      "        StartBoundaryNotFoundDefect\n",
      "        CloseBoundaryNotFoundDefect\n",
      "        FirstHeaderLineIsContinuationDefect\n",
      "        MisplacedEnvelopeHeaderDefect\n",
      "        MissingHeaderBodySeparatorDefect\n",
      "        MultipartInvariantViolationDefect\n",
      "        InvalidMultipartContentTransferEncodingDefect\n",
      "        UndecodableBytesDefect\n",
      "        InvalidBase64PaddingDefect\n",
      "        InvalidBase64CharactersDefect\n",
      "        InvalidBase64LengthDefect\n",
      "        HeaderDefect\n",
      "          InvalidHeaderDefect\n",
      "          HeaderMissingRequiredValue\n",
      "          NonPrintableDefect\n",
      "          ObsoleteHeaderDefect\n",
      "          NonASCIILocalPartDefect\n",
      "          InvalidDateDefect\n",
      "      ClassNotFound\n",
      "      ClipboardEmpty\n",
      "      MacroToEdit\n",
      "      InvalidVersion\n",
      "    AssertionError\n",
      "    ArithmeticError\n",
      "      FloatingPointError\n",
      "      OverflowError\n",
      "      ZeroDivisionError\n",
      "        DivisionByZero\n",
      "        DivisionUndefined\n",
      "      DecimalException\n",
      "        Clamped\n",
      "        Rounded\n",
      "          Underflow\n",
      "          Overflow\n",
      "        Inexact\n",
      "          Underflow\n",
      "          Overflow\n",
      "        Subnormal\n",
      "          Underflow\n",
      "        DivisionByZero\n",
      "        FloatOperation\n",
      "        InvalidOperation\n",
      "          ConversionSyntax\n",
      "          DivisionImpossible\n",
      "          DivisionUndefined\n",
      "          InvalidContext\n",
      "    SystemError\n",
      "      CodecRegistryError\n",
      "    ReferenceError\n",
      "    MemoryError\n",
      "    BufferError\n",
      "    Warning\n",
      "      UserWarning\n",
      "        GetPassWarning\n",
      "        FormatterWarning\n",
      "      EncodingWarning\n",
      "      DeprecationWarning\n",
      "        ProvisionalWarning\n",
      "      PendingDeprecationWarning\n",
      "      SyntaxWarning\n",
      "      RuntimeWarning\n",
      "        ProactorSelectorThreadWarning\n",
      "        UnknownTimezoneWarning\n",
      "      FutureWarning\n",
      "        ProvisionalCompleterWarning\n",
      "      ImportWarning\n",
      "      UnicodeWarning\n",
      "      BytesWarning\n",
      "      ResourceWarning\n",
      "      DeprecatedTzFormatWarning\n",
      "    _OptionError\n",
      "    _Error\n",
      "    error\n",
      "    Verbose\n",
      "    Error\n",
      "    SubprocessError\n",
      "      CalledProcessError\n",
      "      TimeoutExpired\n",
      "    ZMQBaseError\n",
      "      ZMQError\n",
      "        ContextTerminated\n",
      "        Again\n",
      "        InterruptedSystemCall\n",
      "      ZMQBindError\n",
      "      NotDone\n",
      "    error\n",
      "    PickleError\n",
      "      PicklingError\n",
      "      UnpicklingError\n",
      "    _Stop\n",
      "    TokenError\n",
      "    StopTokenizing\n",
      "    Error\n",
      "      CancelledError\n",
      "      TimeoutError\n",
      "      InvalidStateError\n",
      "    _GiveupOnSendfile\n",
      "    Incomplete\n",
      "    ClassFoundException\n",
      "    EndOfBlock\n",
      "    TimeoutError\n",
      "    InvalidStateError\n",
      "    LimitOverrunError\n",
      "    QueueEmpty\n",
      "    QueueFull\n",
      "    TraitError\n",
      "    Error\n",
      "    Empty\n",
      "    Full\n",
      "    error\n",
      "    error\n",
      "    ReturnValueIgnoredError\n",
      "    ArgumentError\n",
      "    ArgumentTypeError\n",
      "    ConfigError\n",
      "      ConfigLoaderError\n",
      "        ArgumentError\n",
      "      ConfigFileNotFound\n",
      "    ConfigurableError\n",
      "      MultipleInstanceError\n",
      "    ApplicationError\n",
      "    InvalidPortNumber\n",
      "    error\n",
      "    LZMAError\n",
      "    RegistryError\n",
      "    _GiveupOnFastCopy\n",
      "    Error\n",
      "      NoSectionError\n",
      "      DuplicateSectionError\n",
      "      DuplicateOptionError\n",
      "      NoOptionError\n",
      "      InterpolationError\n",
      "        InterpolationMissingOptionError\n",
      "        InterpolationSyntaxError\n",
      "        InterpolationDepthError\n",
      "      ParsingError\n",
      "        MissingSectionHeaderError\n",
      "    NoIPAddresses\n",
      "    Error\n",
      "    BadZipFile\n",
      "    LargeZipFile\n",
      "    Error\n",
      "    MessageError\n",
      "      MessageParseError\n",
      "        HeaderParseError\n",
      "        BoundaryError\n",
      "      MultipartConversionError\n",
      "      CharsetError\n",
      "    DuplicateKernelError\n",
      "    ErrorDuringImport\n",
      "    NotOneValueFound\n",
      "    CannotEval\n",
      "    OptionError\n",
      "    BdbQuit\n",
      "    Restart\n",
      "    FindCmdError\n",
      "    HomeDirError\n",
      "    ProfileDirError\n",
      "    IPythonCoreError\n",
      "      TryNext\n",
      "      UsageError\n",
      "      StdinNotImplementedError\n",
      "    InputRejected\n",
      "    GetoptError\n",
      "    ErrorToken\n",
      "    PrefilterError\n",
      "    AliasError\n",
      "      InvalidAliasError\n",
      "    Error\n",
      "      InterfaceError\n",
      "      DatabaseError\n",
      "        InternalError\n",
      "        OperationalError\n",
      "        ProgrammingError\n",
      "        IntegrityError\n",
      "        DataError\n",
      "        NotSupportedError\n",
      "    Warning\n",
      "    ExceptionGroup\n",
      "    SpaceInInput\n",
      "    DOMException\n",
      "      IndexSizeErr\n",
      "      DomstringSizeErr\n",
      "      HierarchyRequestErr\n",
      "      WrongDocumentErr\n",
      "      InvalidCharacterErr\n",
      "      NoDataAllowedErr\n",
      "      NoModificationAllowedErr\n",
      "      NotFoundErr\n",
      "      NotSupportedErr\n",
      "      InuseAttributeErr\n",
      "      InvalidStateErr\n",
      "      SyntaxErr\n",
      "      InvalidModificationErr\n",
      "      NamespaceErr\n",
      "      InvalidAccessErr\n",
      "      ValidationErr\n",
      "    ValidationError\n",
      "    EditReadOnlyBuffer\n",
      "    _Retry\n",
      "    InvalidLayoutError\n",
      "    HeightIsUnknownError\n",
      "    ExpatError\n",
      "    ParseEscape\n",
      "    GuardRejection\n",
      "    ParserSyntaxError\n",
      "    InternalParseError\n",
      "    _PositionUpdatingFinished\n",
      "    SimpleGetItemNotFound\n",
      "    UncaughtAttributeError\n",
      "    HasNoContext\n",
      "    ParamIssue\n",
      "    _JediError\n",
      "      InternalError\n",
      "      WrongVersion\n",
      "      RefactoringError\n",
      "    OnErrorLeaf\n",
      "    InvalidPythonEnvironment\n",
      "    HTTPException\n",
      "      NotConnected\n",
      "      InvalidURL\n",
      "      UnknownProtocol\n",
      "      UnknownTransferEncoding\n",
      "      UnimplementedFileMode\n",
      "      IncompleteRead\n",
      "      ImproperConnectionState\n",
      "        CannotSendRequest\n",
      "        CannotSendHeader\n",
      "        ResponseNotReady\n",
      "      BadStatusLine\n",
      "        RemoteDisconnected\n",
      "      LineTooLong\n",
      "    InteractivelyDefined\n",
      "    KillEmbedded\n",
      "    Error\n",
      "      NoSuchProcess\n",
      "        ZombieProcess\n",
      "      AccessDenied\n",
      "      TimeoutExpired\n",
      "    _Ipv6UnsupportedError\n",
      "    KeyReuseError\n",
      "    UnknownKeyError\n",
      "    LeakedCallbackError\n",
      "    BadYieldError\n",
      "    ReturnValueIgnoredError\n",
      "    Return\n",
      "    QueueEmpty\n",
      "    QueueFull\n",
      "    ArgumentError\n",
      "    DebuggerInitializationError\n",
      "    Error\n",
      "      ProtocolError\n",
      "      ResponseError\n",
      "      Fault\n",
      "    _Error\n",
      "    UnableToResolveVariableException\n",
      "    InvalidTypeInArgsException\n",
      "  GeneratorExit\n",
      "  SystemExit\n",
      "  KeyboardInterrupt\n",
      "  CancelledError\n",
      "  BaseExceptionGroup\n",
      "    ExceptionGroup\n"
     ]
    }
   ],
   "source": [
    "import inspect\n",
    "\n",
    "def print_exception_hierarchy(cls, level=0):\n",
    "    print('  ' * level + cls.__name__)\n",
    "    for subclass in cls.__subclasses__():\n",
    "        print_exception_hierarchy(subclass, level + 1)\n",
    "\n",
    "print_exception_hierarchy(BaseException)\n",
    "\n",
    "## This code defines a recursive function print_exception_hierarchy that takes an exception class and a level for indentation.\n",
    "## It prints the class name and then recursively calls itself for each subclass, creating a visual representation of the exception hierarchy."
   ]
  },
  {
   "cell_type": "markdown",
   "metadata": {},
   "source": [
    "**Q3. What errors are defined in the ArithmeticError class? Explain any two with an example.**"
   ]
  },
  {
   "cell_type": "markdown",
   "metadata": {},
   "source": [
    "The ArithmeticError class is the base class for arithmetic-related exceptions in Python. \n",
    "Some common subclasses include:\n",
    "    a. ZeroDivisionError: Raised when division or modulo operation by zero occurs.\n",
    "    b. OverflowError: Raised when an arithmetic operation results in a number too large to be represented.\n"
   ]
  },
  {
   "cell_type": "code",
   "execution_count": 2,
   "metadata": {},
   "outputs": [
    {
     "name": "stdout",
     "output_type": "stream",
     "text": [
      "Error: division by zero\n"
     ]
    }
   ],
   "source": [
    "try:\n",
    "    result = 10 / 0\n",
    "except ZeroDivisionError as e:\n",
    "    print(\"Error:\", e)\n"
   ]
  },
  {
   "cell_type": "code",
   "execution_count": 3,
   "metadata": {},
   "outputs": [
    {
     "name": "stdout",
     "output_type": "stream",
     "text": [
      "Error: math range error\n"
     ]
    }
   ],
   "source": [
    "import math\n",
    "try:\n",
    "    result = math.exp(1000)  # Large number might cause overflow\n",
    "except OverflowError as e:\n",
    "    print(\"Error:\", e)\n"
   ]
  },
  {
   "cell_type": "markdown",
   "metadata": {},
   "source": [
    "**Q4. Why LookupError class is used? Explain with an example KeyError and IndexError.**"
   ]
  },
  {
   "cell_type": "markdown",
   "metadata": {},
   "source": [
    "The LookupError class is the base class for exceptions that occur when a sequence or mapping subscript is out of range. Two common subclasses are: a. KeyError: Raised when a dictionary key is not found. b. IndexErro: Raised when a sequence index is out of range."
   ]
  },
  {
   "cell_type": "code",
   "execution_count": 4,
   "metadata": {},
   "outputs": [
    {
     "name": "stdout",
     "output_type": "stream",
     "text": [
      "Error: 'c'\n"
     ]
    }
   ],
   "source": [
    "my_dict = {'a': 1, 'b': 2}\n",
    "try:\n",
    "    value = my_dict['c']  # KeyError\n",
    "except KeyError as e:\n",
    "    print(\"Error:\", e)\n"
   ]
  },
  {
   "cell_type": "code",
   "execution_count": 5,
   "metadata": {},
   "outputs": [
    {
     "name": "stdout",
     "output_type": "stream",
     "text": [
      "Error: list index out of range\n"
     ]
    }
   ],
   "source": [
    "my_list = [1, 2, 3]\n",
    "try:\n",
    "    value = my_list[3]  # IndexError\n",
    "except IndexError as e:\n",
    "    print(\"Error:\", e)\n"
   ]
  },
  {
   "cell_type": "markdown",
   "metadata": {},
   "source": [
    "**Q5. Explain ImportError. What is ModuleNotFoundError?**"
   ]
  },
  {
   "cell_type": "markdown",
   "metadata": {},
   "source": [
    "ImportError: It is a base class for module-related import errors raised when there's an issue importing a module.\n",
    "ModuleNotFoundError: This is a subclass of ImportError, specifically raised when a module or package cannot be found."
   ]
  },
  {
   "cell_type": "code",
   "execution_count": 8,
   "metadata": {},
   "outputs": [
    {
     "name": "stdout",
     "output_type": "stream",
     "text": [
      "Error: No module named 'non_existent_module'\n"
     ]
    }
   ],
   "source": [
    "try:\n",
    "    import non_existent_module\n",
    "except ImportError as e:\n",
    "    print(\"Error:\", e)\n"
   ]
  },
  {
   "cell_type": "markdown",
   "metadata": {},
   "source": [
    "**Q6. List down some best practices for exception handling in python.**"
   ]
  },
  {
   "cell_type": "markdown",
   "metadata": {},
   "source": [
    "- Use specific exception types in except blocks to handle different error conditions.\n",
    "- Provide informative error messages to aid in debugging.\n",
    "- Avoid bare except blocks, as they can catch unexpected exceptions.\n",
    "- Use try-except-else-finally for comprehensive error handling and cleanup.\n",
    "- Raise custom exceptions when appropriate to provide more specific error information.\n",
    "- Consider using context managers (with statements) for resource management.\n",
    "- Test your exception handling code thoroughly.\n"
   ]
  }
 ],
 "metadata": {
  "kernelspec": {
   "display_name": ".venv",
   "language": "python",
   "name": "python3"
  },
  "language_info": {
   "codemirror_mode": {
    "name": "ipython",
    "version": 3
   },
   "file_extension": ".py",
   "mimetype": "text/x-python",
   "name": "python",
   "nbconvert_exporter": "python",
   "pygments_lexer": "ipython3",
   "version": "3.10.13"
  }
 },
 "nbformat": 4,
 "nbformat_minor": 2
}
