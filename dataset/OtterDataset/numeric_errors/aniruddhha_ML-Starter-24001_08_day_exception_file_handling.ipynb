{
  "nbformat": 4,
  "nbformat_minor": 0,
  "metadata": {
    "colab": {
      "provenance": []
    },
    "kernelspec": {
      "name": "python3",
      "display_name": "Python 3"
    },
    "language_info": {
      "name": "python"
    }
  },
  "cells": [
    {
      "cell_type": "code",
      "source": [
        "v1 = 10\n",
        "v2 = 5\n",
        "\n",
        "v1/v2"
      ],
      "metadata": {
        "colab": {
          "base_uri": "https://localhost:8080/"
        },
        "id": "u_iHrxQaOE3S",
        "outputId": "4037b803-8c68-4fa7-c7f6-b96d41dc285a"
      },
      "execution_count": null,
      "outputs": [
        {
          "output_type": "execute_result",
          "data": {
            "text/plain": [
              "2.0"
            ]
          },
          "metadata": {},
          "execution_count": 2
        }
      ]
    },
    {
      "cell_type": "code",
      "source": [
        "# Zero Division Error Demo\n",
        "\n",
        "v1 = 10\n",
        "v2 = 0\n",
        "\n",
        "# here is the possibility of getting an error\n",
        "v1/v2 # this line is real trouble maker"
      ],
      "metadata": {
        "colab": {
          "base_uri": "https://localhost:8080/",
          "height": 180
        },
        "id": "PzqCmWiyOlBG",
        "outputId": "df05b609-3c98-4b32-8492-344afd5ae0b2"
      },
      "execution_count": null,
      "outputs": [
        {
          "output_type": "error",
          "ename": "ZeroDivisionError",
          "evalue": "division by zero",
          "traceback": [
            "\u001b[0;31m---------------------------------------------------------------------------\u001b[0m",
            "\u001b[0;31mZeroDivisionError\u001b[0m                         Traceback (most recent call last)",
            "\u001b[0;32m<ipython-input-3-4b381a48efdf>\u001b[0m in \u001b[0;36m<cell line: 6>\u001b[0;34m()\u001b[0m\n\u001b[1;32m      4\u001b[0m \u001b[0mv2\u001b[0m \u001b[0;34m=\u001b[0m \u001b[0;36m0\u001b[0m\u001b[0;34m\u001b[0m\u001b[0;34m\u001b[0m\u001b[0m\n\u001b[1;32m      5\u001b[0m \u001b[0;34m\u001b[0m\u001b[0m\n\u001b[0;32m----> 6\u001b[0;31m \u001b[0mv1\u001b[0m\u001b[0;34m/\u001b[0m\u001b[0mv2\u001b[0m\u001b[0;34m\u001b[0m\u001b[0;34m\u001b[0m\u001b[0m\n\u001b[0m",
            "\u001b[0;31mZeroDivisionError\u001b[0m: division by zero"
          ]
        }
      ]
    },
    {
      "cell_type": "code",
      "source": [
        "# wrap it in try,except block\n",
        "\n",
        "try:\n",
        "    div = v1/v2\n",
        "except:\n",
        "    print(\"Zero Division Error\")\n",
        "    div = 0\n",
        "\n",
        "print(div)"
      ],
      "metadata": {
        "colab": {
          "base_uri": "https://localhost:8080/"
        },
        "id": "e-Nryk83O797",
        "outputId": "a4cb9676-6448-40ca-9b90-b76183670a41"
      },
      "execution_count": null,
      "outputs": [
        {
          "output_type": "stream",
          "name": "stdout",
          "text": [
            "Zero Division Error\n",
            "0\n"
          ]
        }
      ]
    },
    {
      "cell_type": "code",
      "source": [
        "try:\n",
        "  open('abc.txt') # FileNotFound\n",
        "  v1/v2 # ZeroDivisionError\n",
        "except FileNotFoundError as e1:\n",
        "  print('File not found')\n",
        "except ZeroDivisionError as e2:\n",
        "  print('Zero Division Error')"
      ],
      "metadata": {
        "colab": {
          "base_uri": "https://localhost:8080/"
        },
        "id": "Eg7ZELAWQAYw",
        "outputId": "80e97391-ce9e-4e55-89f4-e7487441cd68"
      },
      "execution_count": null,
      "outputs": [
        {
          "output_type": "stream",
          "name": "stdout",
          "text": [
            "File not found\n"
          ]
        }
      ]
    },
    {
      "cell_type": "code",
      "source": [
        "# open file\n",
        "\n",
        "try:\n",
        "  f = open('abc.txt')\n",
        "except FileNotFoundError as e1:\n",
        "  print('File not found')"
      ],
      "metadata": {
        "id": "FWe03WKtQ62G"
      },
      "execution_count": null,
      "outputs": []
    },
    {
      "cell_type": "code",
      "source": [
        "# read whole file\n",
        "\n",
        "try:\n",
        "  f = open('abc.txt')\n",
        "  print(f.read())\n",
        "except FileNotFoundError as e1:\n",
        "  print('File not found')\n"
      ],
      "metadata": {
        "colab": {
          "base_uri": "https://localhost:8080/"
        },
        "id": "xsG9hAKCR3v3",
        "outputId": "bb418ad3-94e5-412c-8efd-4efe350d5cdc"
      },
      "execution_count": null,
      "outputs": [
        {
          "output_type": "stream",
          "name": "stdout",
          "text": [
            "This is a sample text file.\n",
            "It contains multiple lines of text.\n",
            "You can read this file using Python's file I/O operations.\n",
            "Let's see how it works!\n"
          ]
        }
      ]
    },
    {
      "cell_type": "code",
      "source": [
        "# read file line by line\n",
        "\n",
        "try:\n",
        "  f = open('abc.txt')\n",
        "  print(f.readline())\n",
        "  print(f.readline())\n",
        "except FileNotFoundError as e1:\n",
        "  print('File not found')"
      ],
      "metadata": {
        "colab": {
          "base_uri": "https://localhost:8080/"
        },
        "id": "wyT9kOzUSEft",
        "outputId": "39b2c61e-9627-4dce-b9db-1b2a61e39fb0"
      },
      "execution_count": null,
      "outputs": [
        {
          "output_type": "stream",
          "name": "stdout",
          "text": [
            "This is a sample text file.\n",
            "\n",
            "It contains multiple lines of text.\n",
            "\n"
          ]
        }
      ]
    },
    {
      "cell_type": "code",
      "source": [
        "# read file complete file\n",
        "\n",
        "try:\n",
        "  f = open('abc.txt')\n",
        "  line = f.readline()\n",
        "  while line:\n",
        "    print(line.strip())\n",
        "    line = f.readline()\n",
        "except FileNotFoundError as e1:\n",
        "  print('File not found')\n",
        "finally:\n",
        "  f.close()\n",
        "\n"
      ],
      "metadata": {
        "colab": {
          "base_uri": "https://localhost:8080/"
        },
        "id": "dqrzIzcgSRxF",
        "outputId": "d90ce4aa-4f56-41aa-8d72-ce4e5b43e87b"
      },
      "execution_count": null,
      "outputs": [
        {
          "output_type": "stream",
          "name": "stdout",
          "text": [
            "This is a sample text file.\n",
            "It contains multiple lines of text.\n",
            "You can read this file using Python's file I/O operations.\n",
            "Let's see how it works!\n"
          ]
        }
      ]
    },
    {
      "cell_type": "code",
      "source": [
        "# with\n",
        "\n",
        "with open('abc.txt') as f:\n",
        "  line = f.readline()\n",
        "  while line:\n",
        "    print(line.strip())\n",
        "    line = f.readline()"
      ],
      "metadata": {
        "id": "2pup_XajS3TW"
      },
      "execution_count": null,
      "outputs": []
    },
    {
      "cell_type": "code",
      "source": [
        "# using with and try, except\n",
        "\n",
        "try:\n",
        "  with open('abc.txt') as f:\n",
        "    line = f.readline()\n",
        "    while line:\n",
        "      print(line.strip())\n",
        "      line = f.readline()\n",
        "except FileNotFoundError as e1:\n",
        "  print('File not found')\n"
      ],
      "metadata": {
        "id": "COWMmjM0T8KZ"
      },
      "execution_count": null,
      "outputs": []
    },
    {
      "cell_type": "code",
      "source": [
        "nm = input('Enter Your Name: \\n')\n",
        "\n",
        "if(len(nm) == 0):\n",
        "  print('Name is required')\n",
        "\n",
        "  if len(nm) < 5:\n",
        "    raise Exception('Name must be at least 5 characters')\n",
        "else:\n",
        "  print('Hello', nm)"
      ],
      "metadata": {
        "colab": {
          "base_uri": "https://localhost:8080/"
        },
        "id": "hpwxxk9oVFtm",
        "outputId": "fb0302d5-e62c-416c-ecab-1cb9452e66a4"
      },
      "execution_count": null,
      "outputs": [
        {
          "output_type": "stream",
          "name": "stdout",
          "text": [
            "Enter Your Name: \n",
            "\n",
            "Name is required\n"
          ]
        }
      ]
    },
    {
      "cell_type": "code",
      "source": [
        "def enter_user_name():\n",
        "  nm = input('Enter Your Name: \\n')\n",
        "  if len(nm) == 0:\n",
        "    raise Exception('🔴 Name is required')\n",
        "  if len(nm) < 5:\n",
        "    raise Exception('🔴 Name must be at least 5 characters')\n",
        "  return nm"
      ],
      "metadata": {
        "id": "OL6iiFguVc8n"
      },
      "execution_count": null,
      "outputs": []
    },
    {
      "cell_type": "code",
      "source": [
        "enter_user_name()"
      ],
      "metadata": {
        "colab": {
          "base_uri": "https://localhost:8080/",
          "height": 287
        },
        "id": "2JHeP_mfVoJy",
        "outputId": "c060e4ef-f60d-441a-f7c9-a08ff2a21ad0"
      },
      "execution_count": null,
      "outputs": [
        {
          "name": "stdout",
          "output_type": "stream",
          "text": [
            "Enter Your Name: \n",
            "aa\n"
          ]
        },
        {
          "output_type": "error",
          "ename": "Exception",
          "evalue": "🔴 Name must be at least 5 characters",
          "traceback": [
            "\u001b[0;31m---------------------------------------------------------------------------\u001b[0m",
            "\u001b[0;31mException\u001b[0m                                 Traceback (most recent call last)",
            "\u001b[0;32m<ipython-input-18-cdf3ee542dcb>\u001b[0m in \u001b[0;36m<cell line: 1>\u001b[0;34m()\u001b[0m\n\u001b[0;32m----> 1\u001b[0;31m \u001b[0menter_user_name\u001b[0m\u001b[0;34m(\u001b[0m\u001b[0;34m)\u001b[0m\u001b[0;34m\u001b[0m\u001b[0;34m\u001b[0m\u001b[0m\n\u001b[0m",
            "\u001b[0;32m<ipython-input-17-611cc8875e13>\u001b[0m in \u001b[0;36menter_user_name\u001b[0;34m()\u001b[0m\n\u001b[1;32m      4\u001b[0m     \u001b[0;32mraise\u001b[0m \u001b[0mException\u001b[0m\u001b[0;34m(\u001b[0m\u001b[0;34m'🔴 Name is required'\u001b[0m\u001b[0;34m)\u001b[0m\u001b[0;34m\u001b[0m\u001b[0;34m\u001b[0m\u001b[0m\n\u001b[1;32m      5\u001b[0m   \u001b[0;32mif\u001b[0m \u001b[0mlen\u001b[0m\u001b[0;34m(\u001b[0m\u001b[0mnm\u001b[0m\u001b[0;34m)\u001b[0m \u001b[0;34m<\u001b[0m \u001b[0;36m5\u001b[0m\u001b[0;34m:\u001b[0m\u001b[0;34m\u001b[0m\u001b[0;34m\u001b[0m\u001b[0m\n\u001b[0;32m----> 6\u001b[0;31m     \u001b[0;32mraise\u001b[0m \u001b[0mException\u001b[0m\u001b[0;34m(\u001b[0m\u001b[0;34m'🔴 Name must be at least 5 characters'\u001b[0m\u001b[0;34m)\u001b[0m\u001b[0;34m\u001b[0m\u001b[0;34m\u001b[0m\u001b[0m\n\u001b[0m\u001b[1;32m      7\u001b[0m   \u001b[0;32mreturn\u001b[0m \u001b[0mnm\u001b[0m\u001b[0;34m\u001b[0m\u001b[0;34m\u001b[0m\u001b[0m\n",
            "\u001b[0;31mException\u001b[0m: 🔴 Name must be at least 5 characters"
          ]
        }
      ]
    },
    {
      "cell_type": "code",
      "source": [
        "# handle enter_user_name() properly\n",
        "\n",
        "try:\n",
        "  nm = enter_user_name()\n",
        "  print(f'You Entered {nm}')\n",
        "except Exception as e:\n",
        "  print(e)\n"
      ],
      "metadata": {
        "colab": {
          "base_uri": "https://localhost:8080/"
        },
        "id": "4RD747jwVv3r",
        "outputId": "109c59ef-9026-4281-9a6f-9c5b127a11b3"
      },
      "execution_count": null,
      "outputs": [
        {
          "output_type": "stream",
          "name": "stdout",
          "text": [
            "Enter Your Name: \n",
            "sadfsag\n",
            "You Entered sadfsag\n"
          ]
        }
      ]
    },
    {
      "cell_type": "code",
      "source": [
        "class UserNameRequired(Exception):\n",
        "  pass\n",
        "\n",
        "class UserNameLengthException(Exception):\n",
        "  pass"
      ],
      "metadata": {
        "id": "78b4oAGrWNcQ"
      },
      "execution_count": null,
      "outputs": []
    },
    {
      "cell_type": "code",
      "source": [
        "# now rewrite the code with custom exception\n",
        "\n",
        "\n",
        "def enter_user_name_v2():\n",
        "  nm = input('Enter Your Name: \\n')\n",
        "  if len(nm) == 0:\n",
        "    raise UserNameRequired('🔴 Name is required')\n",
        "  if len(nm) < 5:\n",
        "    raise UserNameLengthException('🔴 Name must be at least 5 characters')\n",
        "  return nm"
      ],
      "metadata": {
        "id": "ahO99vS6WXgT"
      },
      "execution_count": null,
      "outputs": []
    },
    {
      "cell_type": "code",
      "source": [
        "with open('pwr.txt', 'a') as f:\n",
        " f.write('Hello \\n')\n",
        " f.write('World \\n')"
      ],
      "metadata": {
        "id": "eWgpTqBdYQpp"
      },
      "execution_count": null,
      "outputs": []
    },
    {
      "cell_type": "code",
      "source": [
        "with open('eee.txt', 'a') as f:\n",
        "  f.writelines(['Hello akjdfjkasdfg \\n', 'World kladfhkjahfkjadsfh \\n'])"
      ],
      "metadata": {
        "id": "7d1phqj5ZLXd"
      },
      "execution_count": null,
      "outputs": []
    },
    {
      "cell_type": "code",
      "source": [
        "import builtins\n",
        "print(dir(builtins))"
      ],
      "metadata": {
        "colab": {
          "base_uri": "https://localhost:8080/"
        },
        "id": "1iasEsgbSo4h",
        "outputId": "ebba4e60-0a4e-4e3d-c599-e7a26232cd45"
      },
      "execution_count": 1,
      "outputs": [
        {
          "output_type": "stream",
          "name": "stdout",
          "text": [
            "['ArithmeticError', 'AssertionError', 'AttributeError', 'BaseException', 'BlockingIOError', 'BrokenPipeError', 'BufferError', 'BytesWarning', 'ChildProcessError', 'ConnectionAbortedError', 'ConnectionError', 'ConnectionRefusedError', 'ConnectionResetError', 'DeprecationWarning', 'EOFError', 'Ellipsis', 'EncodingWarning', 'EnvironmentError', 'Exception', 'False', 'FileExistsError', 'FileNotFoundError', 'FloatingPointError', 'FutureWarning', 'GeneratorExit', 'IOError', 'ImportError', 'ImportWarning', 'IndentationError', 'IndexError', 'InterruptedError', 'IsADirectoryError', 'KeyError', 'KeyboardInterrupt', 'LookupError', 'MemoryError', 'ModuleNotFoundError', 'NameError', 'None', 'NotADirectoryError', 'NotImplemented', 'NotImplementedError', 'OSError', 'OverflowError', 'PendingDeprecationWarning', 'PermissionError', 'ProcessLookupError', 'RecursionError', 'ReferenceError', 'ResourceWarning', 'RuntimeError', 'RuntimeWarning', 'StopAsyncIteration', 'StopIteration', 'SyntaxError', 'SyntaxWarning', 'SystemError', 'SystemExit', 'TabError', 'TimeoutError', 'True', 'TypeError', 'UnboundLocalError', 'UnicodeDecodeError', 'UnicodeEncodeError', 'UnicodeError', 'UnicodeTranslateError', 'UnicodeWarning', 'UserWarning', 'ValueError', 'Warning', 'ZeroDivisionError', '__IPYTHON__', '__build_class__', '__debug__', '__doc__', '__import__', '__loader__', '__name__', '__package__', '__spec__', 'abs', 'aiter', 'all', 'anext', 'any', 'ascii', 'bin', 'bool', 'breakpoint', 'bytearray', 'bytes', 'callable', 'chr', 'classmethod', 'compile', 'complex', 'copyright', 'credits', 'delattr', 'dict', 'dir', 'display', 'divmod', 'enumerate', 'eval', 'exec', 'execfile', 'filter', 'float', 'format', 'frozenset', 'get_ipython', 'getattr', 'globals', 'hasattr', 'hash', 'help', 'hex', 'id', 'input', 'int', 'isinstance', 'issubclass', 'iter', 'len', 'license', 'list', 'locals', 'map', 'max', 'memoryview', 'min', 'next', 'object', 'oct', 'open', 'ord', 'pow', 'print', 'property', 'range', 'repr', 'reversed', 'round', 'runfile', 'set', 'setattr', 'slice', 'sorted', 'staticmethod', 'str', 'sum', 'super', 'tuple', 'type', 'vars', 'zip']\n"
          ]
        }
      ]
    },
    {
      "cell_type": "code",
      "source": [
        "!pip freeze > requirements.txt"
      ],
      "metadata": {
        "id": "bKOO-qFyTG19"
      },
      "execution_count": 4,
      "outputs": []
    }
  ]
}