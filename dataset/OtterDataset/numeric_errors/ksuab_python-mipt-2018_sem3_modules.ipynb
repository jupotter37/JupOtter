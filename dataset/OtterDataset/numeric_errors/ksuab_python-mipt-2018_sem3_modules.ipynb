{
 "cells": [
  {
   "cell_type": "markdown",
   "metadata": {
    "slideshow": {
     "slide_type": "slide"
    }
   },
   "source": [
    "# Семинар №3\n",
    "str/import/raise"
   ]
  },
  {
   "cell_type": "markdown",
   "metadata": {
    "slideshow": {
     "slide_type": "slide"
    }
   },
   "source": [
    "# На этом семинаре\n",
    "* Строки, стандартные строковые функции\n",
    "* Импорт (функций из другого файла)\n",
    "* collections\n",
    "* Работа с файлами и директориями \n",
    "* Обработка исключения\n",
    "* Функции: продвинутый синтаксис (args, kwargs, значения по умолчанию)\n",
    "* copy, deepcopy\n",
    "* pickle "
   ]
  },
  {
   "cell_type": "markdown",
   "metadata": {
    "slideshow": {
     "slide_type": "slide"
    }
   },
   "source": [
    "##  Строки"
   ]
  },
  {
   "cell_type": "code",
   "execution_count": null,
   "metadata": {
    "collapsed": false
   },
   "outputs": [],
   "source": [
    "print('Hello')\n",
    "print(\"World\")\n",
    "print('''Hello\n",
    "\n",
    "\n",
    "World!!!\n",
    "''')"
   ]
  },
  {
   "cell_type": "code",
   "execution_count": null,
   "metadata": {
    "collapsed": false
   },
   "outputs": [],
   "source": [
    "s = 'abcd'\n",
    "print(s)\n",
    "print(s[2])\n",
    "print(s[-1])\n",
    "print(s[2:-1])"
   ]
  },
  {
   "cell_type": "markdown",
   "metadata": {
    "slideshow": {
     "slide_type": "slide"
    }
   },
   "source": [
    "### Как изменить символ в строке?"
   ]
  },
  {
   "cell_type": "code",
   "execution_count": null,
   "metadata": {
    "collapsed": false,
    "scrolled": true
   },
   "outputs": [],
   "source": [
    "s[1] = 'q'"
   ]
  },
  {
   "cell_type": "code",
   "execution_count": null,
   "metadata": {
    "collapsed": false
   },
   "outputs": [],
   "source": [
    "s = s[:1] + 'q' + s[2:]\n",
    "s"
   ]
  },
  {
   "cell_type": "markdown",
   "metadata": {
    "slideshow": {
     "slide_type": "slide"
    }
   },
   "source": [
    "### Есть ли char в python?"
   ]
  },
  {
   "cell_type": "code",
   "execution_count": null,
   "metadata": {
    "collapsed": false
   },
   "outputs": [],
   "source": [
    "ord('q')"
   ]
  },
  {
   "cell_type": "code",
   "execution_count": null,
   "metadata": {
    "collapsed": false
   },
   "outputs": [],
   "source": [
    "chr(113)"
   ]
  },
  {
   "cell_type": "code",
   "execution_count": null,
   "metadata": {
    "collapsed": false
   },
   "outputs": [],
   "source": [
    "ord('qwe')"
   ]
  },
  {
   "cell_type": "code",
   "execution_count": null,
   "metadata": {
    "collapsed": false
   },
   "outputs": [],
   "source": [
    "chr('qwe')"
   ]
  },
  {
   "cell_type": "markdown",
   "metadata": {
    "slideshow": {
     "slide_type": "slide"
    }
   },
   "source": [
    "### Методы строк"
   ]
  },
  {
   "cell_type": "code",
   "execution_count": null,
   "metadata": {
    "collapsed": false
   },
   "outputs": [],
   "source": [
    "s = ' абра wer   asd \\t\\t q  '\n",
    "print(len(s))"
   ]
  },
  {
   "cell_type": "code",
   "execution_count": null,
   "metadata": {
    "collapsed": false
   },
   "outputs": [],
   "source": [
    "s.split()"
   ]
  },
  {
   "cell_type": "code",
   "execution_count": null,
   "metadata": {
    "collapsed": false
   },
   "outputs": [],
   "source": [
    "s.split(' ')"
   ]
  },
  {
   "cell_type": "code",
   "execution_count": null,
   "metadata": {
    "collapsed": false
   },
   "outputs": [],
   "source": [
    "s.split(maxsplit=1)"
   ]
  },
  {
   "cell_type": "code",
   "execution_count": null,
   "metadata": {
    "collapsed": false
   },
   "outputs": [],
   "source": [
    "s.strip()"
   ]
  },
  {
   "cell_type": "code",
   "execution_count": null,
   "metadata": {
    "collapsed": false
   },
   "outputs": [],
   "source": [
    "','.join(['a', 'b', 'c'])"
   ]
  },
  {
   "cell_type": "markdown",
   "metadata": {
    "slideshow": {
     "slide_type": "slide"
    }
   },
   "source": [
    "### Форматирование строк "
   ]
  },
  {
   "cell_type": "code",
   "execution_count": null,
   "metadata": {
    "collapsed": false
   },
   "outputs": [],
   "source": [
    "s = 'HeLlO WoRlD!!!'\n",
    "s.lower(), s.upper(), s.capitalize(), s.swapcase()"
   ]
  },
  {
   "cell_type": "code",
   "execution_count": null,
   "metadata": {
    "collapsed": false
   },
   "outputs": [],
   "source": [
    "s = 'ПРИВЕТ мир!'  # а в python2 не работает\n",
    "s.lower(), s.upper(), s.capitalize(), s.swapcase()"
   ]
  },
  {
   "cell_type": "code",
   "execution_count": null,
   "metadata": {
    "collapsed": false
   },
   "outputs": [],
   "source": [
    "'a'.isalpha(), '1'.isdigit(), ' \\t'.isspace(), 'qwe'.islower(), 'Q'.isupper()"
   ]
  },
  {
   "cell_type": "code",
   "execution_count": null,
   "metadata": {
    "collapsed": false
   },
   "outputs": [],
   "source": [
    "'a'.center(10)"
   ]
  },
  {
   "cell_type": "code",
   "execution_count": null,
   "metadata": {
    "collapsed": false
   },
   "outputs": [],
   "source": [
    "'Hello {}'.format('John')"
   ]
  },
  {
   "cell_type": "code",
   "execution_count": null,
   "metadata": {
    "collapsed": false
   },
   "outputs": [],
   "source": [
    "'A: {}, b: {}'.format(1, 2)"
   ]
  },
  {
   "cell_type": "code",
   "execution_count": null,
   "metadata": {
    "collapsed": false
   },
   "outputs": [],
   "source": [
    "'A: {1}, b: {0}'.format(1, 2)"
   ]
  },
  {
   "cell_type": "code",
   "execution_count": null,
   "metadata": {
    "collapsed": false
   },
   "outputs": [],
   "source": [
    "'A: {a}, b: {b}, A: {a}'.format(b=3, a=1)"
   ]
  },
  {
   "cell_type": "code",
   "execution_count": null,
   "metadata": {
    "collapsed": false
   },
   "outputs": [],
   "source": [
    "'A: %d B: %s' % (12, '23')"
   ]
  },
  {
   "cell_type": "markdown",
   "metadata": {},
   "source": [
    "## Задача 1\n",
    "На вход подается строка с латинскими буквами, пробелами и знаками препинания. Необходимо вывести все буквы и их коды. Пример:<br/>\n",
    "**Input**: I'm number 1!\n",
    "\n",
    "**Output**:<br/>\n",
    "Letter I - code 73<br/>\n",
    "Letter m - code 109<br/>\n",
    "Letter n - code 110<br/>\n",
    "Letter u - code 117<br/>\n",
    "Letter m - code 109<br/>\n",
    "Letter b - code 98<br/>\n",
    "Letter e - code 101<br/>\n",
    "Letter r - code 114<br/>"
   ]
  },
  {
   "cell_type": "code",
   "execution_count": null,
   "metadata": {
    "collapsed": false
   },
   "outputs": [],
   "source": [
    "s = input()\n",
    "# не больше 3-х строк\n",
    "pass"
   ]
  },
  {
   "cell_type": "markdown",
   "metadata": {
    "slideshow": {
     "slide_type": "slide"
    }
   },
   "source": [
    "# Collections"
   ]
  },
  {
   "cell_type": "code",
   "execution_count": null,
   "metadata": {
    "collapsed": true
   },
   "outputs": [],
   "source": [
    "import collections"
   ]
  },
  {
   "cell_type": "code",
   "execution_count": null,
   "metadata": {
    "collapsed": false
   },
   "outputs": [],
   "source": [
    "deque = collections.deque([0])\n",
    "deque"
   ]
  },
  {
   "cell_type": "code",
   "execution_count": null,
   "metadata": {
    "collapsed": false
   },
   "outputs": [],
   "source": [
    "deque.append(123)\n",
    "deque"
   ]
  },
  {
   "cell_type": "code",
   "execution_count": null,
   "metadata": {
    "collapsed": false
   },
   "outputs": [],
   "source": [
    "deque.appendleft(234)\n",
    "deque"
   ]
  },
  {
   "cell_type": "code",
   "execution_count": null,
   "metadata": {
    "collapsed": false,
    "scrolled": true
   },
   "outputs": [],
   "source": [
    "deque.popleft(), deque.pop()"
   ]
  },
  {
   "cell_type": "code",
   "execution_count": null,
   "metadata": {
    "collapsed": true,
    "slideshow": {
     "slide_type": "slide"
    }
   },
   "outputs": [],
   "source": [
    "ordered = collections.OrderedDict()\n",
    "dct = {}"
   ]
  },
  {
   "cell_type": "code",
   "execution_count": null,
   "metadata": {
    "collapsed": false
   },
   "outputs": [],
   "source": [
    "dct[1] = ordered[1] = 123\n",
    "dct['qwe'] = ordered['qwe'] = 234\n",
    "dct['abs'] = ordered['abs'] = 2\n",
    "ordered"
   ]
  },
  {
   "cell_type": "code",
   "execution_count": null,
   "metadata": {
    "collapsed": false
   },
   "outputs": [],
   "source": [
    "def print_all(d):\n",
    "    for key in d:\n",
    "        print(key, d[key])\n",
    "\n",
    "print('Ordered:')\n",
    "print_all(ordered)\n",
    "\n",
    "print('\\nPython dict:')\n",
    "print_all(dct)"
   ]
  },
  {
   "cell_type": "code",
   "execution_count": null,
   "metadata": {
    "collapsed": false
   },
   "outputs": [],
   "source": [
    "collections.Counter(['a', 'b', 'a', 'a', 'a', 'bc', 'bc', 'd', 'b'])"
   ]
  },
  {
   "cell_type": "markdown",
   "metadata": {
    "slideshow": {
     "slide_type": "slide"
    }
   },
   "source": [
    "# Работа с файлами"
   ]
  },
  {
   "cell_type": "code",
   "execution_count": null,
   "metadata": {
    "collapsed": true,
    "slideshow": {
     "slide_type": "-"
    }
   },
   "outputs": [],
   "source": [
    "import os"
   ]
  },
  {
   "cell_type": "code",
   "execution_count": null,
   "metadata": {
    "collapsed": false
   },
   "outputs": [],
   "source": [
    "os.listdir('.')"
   ]
  },
  {
   "cell_type": "code",
   "execution_count": null,
   "metadata": {
    "collapsed": false
   },
   "outputs": [],
   "source": [
    "f = open('pythonfile.py', 'r')\n",
    "print(f.read())\n",
    "f.close()"
   ]
  },
  {
   "cell_type": "code",
   "execution_count": null,
   "metadata": {
    "collapsed": false
   },
   "outputs": [],
   "source": [
    "with open('pythonfile.py', 'r') as f:\n",
    "    print(f.readlines())"
   ]
  },
  {
   "cell_type": "code",
   "execution_count": null,
   "metadata": {
    "collapsed": true
   },
   "outputs": [],
   "source": [
    "with open('file.txt', 'w') as f:\n",
    "    f.write('qweqwe\\n')\n",
    "    f.write('asdasd\\n')"
   ]
  },
  {
   "cell_type": "code",
   "execution_count": null,
   "metadata": {
    "collapsed": false
   },
   "outputs": [],
   "source": [
    "f.readline()"
   ]
  },
  {
   "cell_type": "code",
   "execution_count": null,
   "metadata": {
    "collapsed": false
   },
   "outputs": [],
   "source": [
    "os.path.join('.', './qwe')"
   ]
  },
  {
   "cell_type": "markdown",
   "metadata": {
    "slideshow": {
     "slide_type": "slide"
    }
   },
   "source": [
    "# Import"
   ]
  },
  {
   "cell_type": "code",
   "execution_count": null,
   "metadata": {
    "collapsed": true,
    "slideshow": {
     "slide_type": "-"
    }
   },
   "outputs": [],
   "source": [
    "import pythonfile"
   ]
  },
  {
   "cell_type": "code",
   "execution_count": null,
   "metadata": {
    "collapsed": false
   },
   "outputs": [],
   "source": [
    "pythonfile.f(12)"
   ]
  },
  {
   "cell_type": "code",
   "execution_count": null,
   "metadata": {
    "collapsed": true
   },
   "outputs": [],
   "source": [
    "from pythonfile import f"
   ]
  },
  {
   "cell_type": "code",
   "execution_count": null,
   "metadata": {
    "collapsed": false
   },
   "outputs": [],
   "source": [
    "f(12)"
   ]
  },
  {
   "cell_type": "code",
   "execution_count": null,
   "metadata": {
    "collapsed": true
   },
   "outputs": [],
   "source": [
    "from pythonfile import *  # Never do this"
   ]
  },
  {
   "cell_type": "code",
   "execution_count": null,
   "metadata": {
    "collapsed": true
   },
   "outputs": [],
   "source": [
    "# Look at module\n",
    "import module"
   ]
  },
  {
   "cell_type": "markdown",
   "metadata": {
    "slideshow": {
     "slide_type": "slide"
    }
   },
   "source": [
    "# Exceptions"
   ]
  },
  {
   "cell_type": "code",
   "execution_count": null,
   "metadata": {
    "collapsed": false,
    "scrolled": true,
    "slideshow": {
     "slide_type": "-"
    }
   },
   "outputs": [],
   "source": [
    "1 / 0"
   ]
  },
  {
   "cell_type": "code",
   "execution_count": null,
   "metadata": {
    "collapsed": false
   },
   "outputs": [],
   "source": [
    "from time import sleep\n",
    "\n",
    "try:\n",
    "    sleep(100000)\n",
    "except:  # осторожно, такие конструкции ловят и остановку процесса\n",
    "    print('Exception')"
   ]
  },
  {
   "cell_type": "code",
   "execution_count": null,
   "metadata": {
    "collapsed": false
   },
   "outputs": [],
   "source": [
    "try:\n",
    "    1 / 0\n",
    "except ZeroDivisionError as e:\n",
    "    print('/ 0 Exception')"
   ]
  },
  {
   "cell_type": "code",
   "execution_count": null,
   "metadata": {
    "collapsed": false
   },
   "outputs": [],
   "source": [
    "try:\n",
    "    d = {}\n",
    "    d['qwe']\n",
    "except Exception as e:\n",
    "    print(e)"
   ]
  },
  {
   "cell_type": "code",
   "execution_count": null,
   "metadata": {
    "collapsed": false,
    "slideshow": {
     "slide_type": "slide"
    }
   },
   "outputs": [],
   "source": [
    "import random\n",
    "try:\n",
    "    if random.randint(0, 1):\n",
    "        1 / 0\n",
    "    else:\n",
    "        {}['qwe']\n",
    "except ZeroDivisionError as e:\n",
    "    print('/ 0')\n",
    "except KeyError as e:\n",
    "    print('key error')\n",
    "except Exception as e:\n",
    "    raise Exception"
   ]
  },
  {
   "cell_type": "markdown",
   "metadata": {
    "slideshow": {
     "slide_type": "slide"
    }
   },
   "source": [
    "BaseException\n",
    "\n",
    " +-- SystemExit\n",
    "\n",
    " +-- KeyboardInterrupt\n",
    "\n",
    " +-- GeneratorExit\n",
    "\n",
    " +-- Exception\n",
    "\n",
    "      +-- StopIteration\n",
    "\n",
    "      +-- StopAsyncIteration\n",
    "\n",
    "      +-- ArithmeticError\n",
    "\n",
    "      |    +-- FloatingPointError\n",
    "\n",
    "      |    +-- OverflowError\n",
    "\n",
    "      |    +-- ZeroDivisionError\n",
    "\n",
    "      +-- AssertionError\n",
    "\n",
    "      +-- AttributeError\n",
    "\n",
    "      +-- BufferError\n",
    "\n",
    "      +-- EOFError\n",
    "\n",
    "      +-- ImportError\n",
    "\n",
    "      |    +-- ModuleNotFoundError\n",
    "\n",
    "      +-- LookupError\n",
    "\n",
    "      |    +-- IndexError\n",
    "\n",
    "      |    +-- KeyError\n",
    "\n",
    "      +-- MemoryError\n",
    "\n",
    "      +-- NameError\n",
    "\n",
    "      |    +-- UnboundLocalError\n",
    "\n",
    "      +-- OSError\n",
    "\n",
    "      |    +-- BlockingIOError\n",
    "\n",
    "      |    +-- ChildProcessError\n",
    "\n",
    "      |    +-- ConnectionError\n",
    "\n",
    "      |    |    +-- BrokenPipeError\n",
    "\n",
    "      |    |    +-- ConnectionAbortedError\n",
    "\n",
    "      |    |    +-- ConnectionRefusedError\n",
    "\n",
    "      |    |    +-- ConnectionResetError\n",
    "\n",
    "      |    +-- FileExistsError\n",
    "\n",
    "      |    +-- FileNotFoundError\n",
    "\n",
    "      |    +-- InterruptedError\n",
    "\n",
    "      |    +-- IsADirectoryError\n",
    "\n",
    "      |    +-- NotADirectoryError\n",
    "\n",
    "      |    +-- PermissionError\n",
    "\n",
    "      |    +-- ProcessLookupError\n",
    "\n",
    "      |    +-- TimeoutError\n",
    "\n",
    "      +-- ReferenceError\n",
    "\n",
    "      +-- RuntimeError\n",
    "\n",
    "      |    +-- NotImplementedError\n",
    "\n",
    "      |    +-- RecursionError\n",
    "\n",
    "      +-- SyntaxError\n",
    "\n",
    "      |    +-- IndentationError\n",
    "\n",
    "      |         +-- TabError\n",
    "\n",
    "      +-- SystemError\n",
    "\n",
    "      +-- TypeError\n",
    "\n",
    "      +-- ValueError\n",
    "\n",
    "      |    +-- UnicodeError\n",
    "\n",
    "      |         +-- UnicodeDecodeError\n",
    "\n",
    "      |         +-- UnicodeEncodeError\n",
    "\n",
    "      |         +-- UnicodeTranslateError\n",
    "\n",
    "      +-- Warning\n",
    "\n",
    "           +-- DeprecationWarning\n",
    "\n",
    "           +-- PendingDeprecationWarning\n",
    "\n",
    "           +-- RuntimeWarning\n",
    "\n",
    "           +-- SyntaxWarning\n",
    "\n",
    "           +-- UserWarning\n",
    "\n",
    "           +-- FutureWarning\n",
    "\n",
    "           +-- ImportWarning\n",
    "\n",
    "           +-- UnicodeWarning\n",
    "\n",
    "           +-- BytesWarning\n",
    "\n",
    "           +-- ResourceWarning"
   ]
  },
  {
   "cell_type": "markdown",
   "metadata": {},
   "source": [
    "## Задача 2\n",
    "Напишите функцию, вычисляющую расстояние между двумя точками в N-мерном пространстве, N не известно заранее. Если на вход подаются вектора разных размерностей, необходимо сгенерировать исключение ValueError."
   ]
  },
  {
   "cell_type": "markdown",
   "metadata": {
    "slideshow": {
     "slide_type": "slide"
    }
   },
   "source": [
    "# Функции"
   ]
  },
  {
   "cell_type": "code",
   "execution_count": null,
   "metadata": {
    "collapsed": false
   },
   "outputs": [],
   "source": [
    "def f(arg1, arg2, kwarg1=1, kwarg2=2):\n",
    "    print('f: {} {} {} {}'.format(arg1, arg2, kwarg1, kwarg2))\n",
    "\n",
    "f(1, 2, kwarg2=3)"
   ]
  },
  {
   "cell_type": "code",
   "execution_count": null,
   "metadata": {
    "collapsed": false
   },
   "outputs": [],
   "source": [
    "args = [1, 2, 3, 4]\n",
    "f(*args)"
   ]
  },
  {
   "cell_type": "code",
   "execution_count": null,
   "metadata": {
    "collapsed": false
   },
   "outputs": [],
   "source": [
    "args = [1, 2]\n",
    "kwargs = {'kwarg1': 3, 'kwarg2': 4}\n",
    "f(*args, **kwargs)"
   ]
  },
  {
   "cell_type": "code",
   "execution_count": null,
   "metadata": {
    "collapsed": true
   },
   "outputs": [],
   "source": [
    "def f(*args, **kwargs):\n",
    "    print(args, kwargs)"
   ]
  },
  {
   "cell_type": "code",
   "execution_count": null,
   "metadata": {
    "collapsed": false,
    "scrolled": true
   },
   "outputs": [],
   "source": [
    "f(1, 2, 3, qwe='qwe', wer=2)"
   ]
  },
  {
   "cell_type": "code",
   "execution_count": null,
   "metadata": {
    "collapsed": false
   },
   "outputs": [],
   "source": [
    "f(*[1, 2, 3], **{})"
   ]
  },
  {
   "cell_type": "code",
   "execution_count": null,
   "metadata": {
    "collapsed": false,
    "slideshow": {
     "slide_type": "slide"
    }
   },
   "outputs": [],
   "source": [
    "def f(arg1, arg2, *args, kwarg1='qwe', **kwargs):  # порядок перечисления аргументов\n",
    "    print(arg1, arg2, args, kwarg1, kwargs)\n",
    "\n",
    "f(*[1, 2, 3, 4, 5, 6])"
   ]
  },
  {
   "cell_type": "markdown",
   "metadata": {
    "slideshow": {
     "slide_type": "slide"
    }
   },
   "source": [
    "# Copy, deepcopy"
   ]
  },
  {
   "cell_type": "code",
   "execution_count": null,
   "metadata": {
    "collapsed": false
   },
   "outputs": [],
   "source": [
    "import copy\n",
    "\n",
    "a = [1, 2, 3, 4, 5]\n",
    "b = copy.copy(a)\n",
    "b[1] = 123\n",
    "a, b"
   ]
  },
  {
   "cell_type": "code",
   "execution_count": null,
   "metadata": {
    "collapsed": false
   },
   "outputs": [],
   "source": [
    "a = [[1, 2, 3], 2, 3, 4, 5]\n",
    "b = copy.copy(a)\n",
    "b[0][1] = 123\n",
    "a, b"
   ]
  },
  {
   "cell_type": "code",
   "execution_count": null,
   "metadata": {
    "collapsed": false
   },
   "outputs": [],
   "source": [
    "a = [[1, 2, 3], 2, 3, 4, 5]\n",
    "b = copy.deepcopy(a)\n",
    "b[0][1] = 123\n",
    "a, b"
   ]
  },
  {
   "cell_type": "code",
   "execution_count": null,
   "metadata": {
    "collapsed": true
   },
   "outputs": [],
   "source": [
    "def distance():\n",
    "    pass"
   ]
  },
  {
   "cell_type": "markdown",
   "metadata": {},
   "source": [
    "## Задача 3\n",
    "Дана последовательность целых чисел, заканчивающаяся числом 0. Выведите эту последовательность в обратном порядке.\n",
    "При решении этой задачи нельзя пользоваться массивами и прочими динамическими структурами данных. Рекурсия вам поможет.<br/>\n",
    "**Input:**<br/>\n",
    "1<br/>\n",
    "2<br/>\n",
    "3<br/>\n",
    "0<br/>\n",
    "\n",
    "**Output:**<br/>\n",
    "0<br/>\n",
    "3<br/>\n",
    "2<br/>\n",
    "1<br/>"
   ]
  },
  {
   "cell_type": "code",
   "execution_count": null,
   "metadata": {
    "collapsed": false
   },
   "outputs": [],
   "source": [
    "def reverse_print(**kwargs):\n",
    "    pass"
   ]
  },
  {
   "cell_type": "markdown",
   "metadata": {
    "slideshow": {
     "slide_type": "slide"
    }
   },
   "source": [
    "# Pickle"
   ]
  },
  {
   "cell_type": "code",
   "execution_count": null,
   "metadata": {
    "collapsed": true
   },
   "outputs": [],
   "source": [
    "import pickle"
   ]
  },
  {
   "cell_type": "code",
   "execution_count": null,
   "metadata": {
    "collapsed": true
   },
   "outputs": [],
   "source": [
    "s = pickle.dumps([1, 2, 3])"
   ]
  },
  {
   "cell_type": "code",
   "execution_count": null,
   "metadata": {
    "collapsed": false
   },
   "outputs": [],
   "source": [
    "s"
   ]
  },
  {
   "cell_type": "code",
   "execution_count": null,
   "metadata": {
    "collapsed": false
   },
   "outputs": [],
   "source": [
    "pickle.loads(s)"
   ]
  },
  {
   "cell_type": "code",
   "execution_count": null,
   "metadata": {
    "collapsed": true
   },
   "outputs": [],
   "source": [
    "with open('pickle.pkl', 'wb') as f:\n",
    "    pickle.dump([{1, 2}, 3, 4], f)"
   ]
  },
  {
   "cell_type": "code",
   "execution_count": null,
   "metadata": {
    "collapsed": false
   },
   "outputs": [],
   "source": [
    "with open('pickle.pkl', 'rb') as f:\n",
    "    print(pickle.load(f))"
   ]
  }
 ],
 "metadata": {
  "celltoolbar": "Slideshow",
  "kernelspec": {
   "display_name": "Python 3",
   "language": "python",
   "name": "python3"
  },
  "language_info": {
   "codemirror_mode": {
    "name": "ipython",
    "version": 3
   },
   "file_extension": ".py",
   "mimetype": "text/x-python",
   "name": "python",
   "nbconvert_exporter": "python",
   "pygments_lexer": "ipython3",
   "version": "3.4.5"
  }
 },
 "nbformat": 4,
 "nbformat_minor": 2
}
