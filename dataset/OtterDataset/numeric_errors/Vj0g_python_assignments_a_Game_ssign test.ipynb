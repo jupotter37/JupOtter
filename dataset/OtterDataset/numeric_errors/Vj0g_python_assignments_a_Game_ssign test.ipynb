{
 "cells": [
  {
   "cell_type": "code",
   "execution_count": 1,
   "id": "fb291778",
   "metadata": {},
   "outputs": [
    {
     "name": "stdout",
     "output_type": "stream",
     "text": [
      "el\n"
     ]
    }
   ],
   "source": [
    "my_string='hello'\n",
    "print(my_string[1:3])"
   ]
  },
  {
   "cell_type": "code",
   "execution_count": 1,
   "id": "ec70682d",
   "metadata": {
    "collapsed": true
   },
   "outputs": [
    {
     "ename": "SyntaxError",
     "evalue": "invalid syntax (1353591240.py, line 1)",
     "output_type": "error",
     "traceback": [
      "\u001b[1;36m  Cell \u001b[1;32mIn[1], line 1\u001b[1;36m\u001b[0m\n\u001b[1;33m    Q.9. Write a code to create the given structure using only for loop.\u001b[0m\n\u001b[1;37m     ^\u001b[0m\n\u001b[1;31mSyntaxError\u001b[0m\u001b[1;31m:\u001b[0m invalid syntax\n"
     ]
    }
   ],
   "source": [
    "Q.9. Write a code to create the given structure using only for loop.\n",
    "*\n",
    "***\n",
    "*****\n",
    "*******\n",
    "*********"
   ]
  },
  {
   "cell_type": "code",
   "execution_count": 34,
   "id": "63266175",
   "metadata": {
    "collapsed": true
   },
   "outputs": [
    {
     "name": "stdout",
     "output_type": "stream",
     "text": [
      "* \n",
      "\n",
      "* * \n",
      "\n",
      "* * * \n",
      "\n",
      "* * * * \n",
      "\n",
      "* * * * * \n",
      "\n"
     ]
    }
   ],
   "source": [
    "a = '*'\n",
    "for i in range(5):\n",
    "    for j in range(0,i+1):\n",
    "        print(a,end =\" \")\n",
    "    print('\\n')"
   ]
  },
  {
   "cell_type": "code",
   "execution_count": 51,
   "id": "ceccf3b8",
   "metadata": {
    "collapsed": true
   },
   "outputs": [
    {
     "name": "stdout",
     "output_type": "stream",
     "text": [
      "* \n",
      "\n",
      "* * \n",
      "\n",
      "* * * \n",
      "\n",
      "* * * * \n",
      "\n",
      "* * * * * \n",
      "\n"
     ]
    }
   ],
   "source": [
    "a = '*'\n",
    "for i in range(5):\n",
    "    for j in range(0,i+1):\n",
    "        print(a,end =\" \")\n",
    "    print('\\n')"
   ]
  },
  {
   "cell_type": "code",
   "execution_count": 51,
   "id": "04394b1b",
   "metadata": {},
   "outputs": [
    {
     "name": "stdout",
     "output_type": "stream",
     "text": [
      "\n",
      "\n",
      "* \n",
      "\n",
      "* * \n",
      "\n",
      "* * * \n",
      "\n",
      "* * * * \n",
      "\n"
     ]
    }
   ],
   "source": [
    "for i in range(5):\n",
    "    n=5\n",
    "\n",
    "    \n",
    "    for j in range(i):\n",
    "        \n",
    "        print('*',end=' ')\n",
    "    print('\\n')\n"
   ]
  },
  {
   "cell_type": "code",
   "execution_count": 355,
   "id": "001ef850",
   "metadata": {},
   "outputs": [
    {
     "name": "stdout",
     "output_type": "stream",
     "text": [
      "      f\n",
      "\n",
      "     *ff\n",
      "\n",
      "    **fff\n",
      "\n",
      "   ***ffff\n",
      "\n",
      "  ****fffff\n",
      "\n"
     ]
    }
   ],
   "source": [
    "range(5)\n",
    "for a in range(5):\n",
    "    \n",
    "     \n",
    "    print(' '*(5-a),'*'*(a),end='')\n",
    "    for j in range(0,a+1):\n",
    "        \n",
    "        print('f', end='')\n",
    "        \n",
    "    print('\\n')"
   ]
  },
  {
   "cell_type": "code",
   "execution_count": 279,
   "id": "dc90fad8",
   "metadata": {},
   "outputs": [
    {
     "name": "stdout",
     "output_type": "stream",
     "text": [
      "     *\n",
      "\n",
      "    ***\n",
      "\n",
      "   ******\n",
      "\n",
      "  **********\n",
      "\n",
      " ***************\n",
      "\n"
     ]
    }
   ],
   "source": [
    "n=5\n",
    "for i in range(n):\n",
    "    print(' '*(n-i),end='')\n",
    "    for j in range(0,i+1):\n",
    "        \n",
    "        print('*'*(j+1),end='')\n",
    "        \n",
    "    print('\\n')\n",
    "\n",
    "    "
   ]
  },
  {
   "cell_type": "code",
   "execution_count": 11,
   "id": "ca3f4ceb",
   "metadata": {},
   "outputs": [
    {
     "name": "stdout",
     "output_type": "stream",
     "text": [
      "     *\n",
      "\n",
      "    ***\n",
      "\n",
      "   ******\n",
      "\n",
      "  **********\n",
      "\n",
      " ***************\n",
      "\n"
     ]
    }
   ],
   "source": [
    "#Answer-9\n",
    "n=5\n",
    "for i in range(n):\n",
    "    print(' '*(n-i),end='')\n",
    "    for j in range(0,i+1):\n",
    "        \n",
    "        print('*'*(j+1),end='')\n",
    "        \n",
    "    print('\\n')"
   ]
  },
  {
   "cell_type": "code",
   "execution_count": 108,
   "id": "63fe41d5",
   "metadata": {},
   "outputs": [
    {
     "name": "stdout",
     "output_type": "stream",
     "text": [
      "  **** *****\n",
      "\n",
      "   *** ****\n",
      "\n",
      "    ** ***\n",
      "\n",
      "     * **\n",
      "\n",
      "       *\n",
      "\n"
     ]
    }
   ],
   "source": [
    "a=0\n",
    "while a in range(5):\n",
    "    a=a+1\n",
    "     \n",
    "    print(' '*(a),'*'*(5-a),end=' ')\n",
    "    print('*'*(6-a),end='')\n",
    "        \n",
    "    print('\\n')"
   ]
  },
  {
   "cell_type": "code",
   "execution_count": 79,
   "id": "1ea1b34a",
   "metadata": {},
   "outputs": [
    {
     "name": "stdout",
     "output_type": "stream",
     "text": [
      " |||||||||\n",
      "\n",
      "  |||||||\n",
      "\n",
      "   |||||\n",
      "\n",
      "    |||\n",
      "\n",
      "     |\n",
      "\n"
     ]
    }
   ],
   "source": [
    "a=0\n",
    "while a in range(5):\n",
    "    a=a+1\n",
    "     \n",
    "    print(' '*(a-1),end=' '),print('|'*(5-a),end='')\n",
    "    print('|'*(6-a),end='')\n",
    "    print('\\n')\n",
    "       \n",
    "        \n",
    "    "
   ]
  },
  {
   "cell_type": "code",
   "execution_count": 110,
   "id": "0ae5d6b6",
   "metadata": {},
   "outputs": [
    {
     "ename": "SyntaxError",
     "evalue": "incomplete input (4148684855.py, line 1)",
     "output_type": "error",
     "traceback": [
      "\u001b[1;36m  Cell \u001b[1;32mIn[110], line 1\u001b[1;36m\u001b[0m\n\u001b[1;33m    '''Q.1. Create two int type variables, apply addition, subtraction, division and multiplications\u001b[0m\n\u001b[1;37m    ^\u001b[0m\n\u001b[1;31mSyntaxError\u001b[0m\u001b[1;31m:\u001b[0m incomplete input\n"
     ]
    }
   ],
   "source": [
    "'''Q.1. Create two int type variables, apply addition, subtraction, division and multiplications\n",
    "and store the results in variables. Then print the data in the following format by calling the\n",
    "variables:\n",
    "First variable is __ & second variable is __.\n",
    "Addition: __ + __ = __\n",
    "Subtraction: __ - __ = __\n",
    "Multiplication: __ * __ = __\n",
    "Division: __ / __ = __"
   ]
  },
  {
   "cell_type": "code",
   "execution_count": 12,
   "id": "89021dbe",
   "metadata": {},
   "outputs": [
    {
     "name": "stdout",
     "output_type": "stream",
     "text": [
      "First variable = 4\n",
      "Second variable = 0\n",
      "Addition: 4 + 0 = 4\n",
      "Substraction: 4 - 0 = 4\n",
      "Multiplication: 4 * 0 = 0\n",
      "Division: 4 / 0 = denominator should not be zero\n"
     ]
    }
   ],
   "source": [
    "a= int(input(\"First variable = \"))\n",
    "b= int(input('Second variable = '))\n",
    "addition = a + b\n",
    "print(f'Addition: {a} + {b} =', addition)\n",
    "\n",
    "#if a>b:\n",
    "substraction = a-b\n",
    "print(f'Substraction: {a} - {b} =', substraction)\n",
    "#else:\n",
    " #   subtraction = b-a\n",
    "  #  print(f'Substraction: {b} - {a} =', substraction)\n",
    "multiplication = a*b\n",
    "print(f'Multiplication: {a} * {b} =', multiplication)\n",
    "\n",
    "if b>0:\n",
    "    division = a/b\n",
    "    print(f'Division: {a} / {b} =', division)\n",
    "\n",
    "else:\n",
    "    print(f'Division: {a} / {b} =','denominator should not be zero')\n"
   ]
  },
  {
   "cell_type": "code",
   "execution_count": 1,
   "id": "0c7f33e2",
   "metadata": {},
   "outputs": [
    {
     "name": "stdout",
     "output_type": "stream",
     "text": [
      "2 raised to the power of 0 is 1\n",
      "2 raised to the power of 1 is 2\n",
      "2 raised to the power of 2 is 4\n",
      "2 raised to the power of 3 is 8\n",
      "2 raised to the power of 4 is 16\n"
     ]
    }
   ],
   "source": [
    "for i in range(0, 5):\n",
    "    power_of_two = 1 << i\n",
    "    print(\"2 raised to the power of\", i, \"is\", power_of_two)"
   ]
  },
  {
   "cell_type": "code",
   "execution_count": 13,
   "id": "1de14369",
   "metadata": {},
   "outputs": [
    {
     "data": {
      "text/plain": [
       "0"
      ]
     },
     "execution_count": 13,
     "metadata": {},
     "output_type": "execute_result"
    }
   ],
   "source": [
    "v = 54 >> 98\n",
    "v "
   ]
  },
  {
   "cell_type": "code",
   "execution_count": 1,
   "id": "fc67aa4d",
   "metadata": {},
   "outputs": [],
   "source": [
    "import numpy as np"
   ]
  },
  {
   "cell_type": "code",
   "execution_count": 2,
   "id": "d11cce9d",
   "metadata": {},
   "outputs": [],
   "source": [
    "lst=[1,2,3,4]"
   ]
  },
  {
   "cell_type": "code",
   "execution_count": 4,
   "id": "f4ffc0d6",
   "metadata": {},
   "outputs": [
    {
     "data": {
      "text/plain": [
       "array([1, 2, 3, 4])"
      ]
     },
     "execution_count": 4,
     "metadata": {},
     "output_type": "execute_result"
    }
   ],
   "source": [
    "np.array(lst)"
   ]
  },
  {
   "cell_type": "code",
   "execution_count": 32,
   "id": "b435bb35",
   "metadata": {},
   "outputs": [],
   "source": [
    "lst1=[[1,2,3,4],[1,2,3,0]]"
   ]
  },
  {
   "cell_type": "code",
   "execution_count": 33,
   "id": "c780ccfd",
   "metadata": {},
   "outputs": [],
   "source": [
    "arr2=np.array(lst1)"
   ]
  },
  {
   "cell_type": "code",
   "execution_count": 34,
   "id": "985985d8",
   "metadata": {},
   "outputs": [
    {
     "data": {
      "text/plain": [
       "array([[1, 2, 3, 4],\n",
       "       [1, 2, 3, 0]])"
      ]
     },
     "execution_count": 34,
     "metadata": {},
     "output_type": "execute_result"
    }
   ],
   "source": [
    "arr2"
   ]
  },
  {
   "cell_type": "code",
   "execution_count": 35,
   "id": "4ed2f0ce",
   "metadata": {},
   "outputs": [
    {
     "data": {
      "text/plain": [
       "(2, 4)"
      ]
     },
     "execution_count": 35,
     "metadata": {},
     "output_type": "execute_result"
    }
   ],
   "source": [
    "arr2.shape"
   ]
  },
  {
   "cell_type": "code",
   "execution_count": 36,
   "id": "563d6a89",
   "metadata": {},
   "outputs": [
    {
     "data": {
      "text/plain": [
       "array([[1],\n",
       "       [2],\n",
       "       [3],\n",
       "       [4],\n",
       "       [1],\n",
       "       [2],\n",
       "       [3],\n",
       "       [0]])"
      ]
     },
     "execution_count": 36,
     "metadata": {},
     "output_type": "execute_result"
    }
   ],
   "source": [
    "arr2.reshape(8,1)"
   ]
  },
  {
   "cell_type": "code",
   "execution_count": 37,
   "id": "16cb6cc3",
   "metadata": {},
   "outputs": [
    {
     "data": {
      "text/plain": [
       "numpy.ndarray"
      ]
     },
     "execution_count": 37,
     "metadata": {},
     "output_type": "execute_result"
    }
   ],
   "source": [
    "type(arr2)"
   ]
  },
  {
   "cell_type": "markdown",
   "id": "18a582d8",
   "metadata": {},
   "source": [
    "# GAME"
   ]
  },
  {
   "cell_type": "code",
   "execution_count": null,
   "id": "424ff3f9",
   "metadata": {},
   "outputs": [],
   "source": []
  },
  {
   "cell_type": "code",
   "execution_count": null,
   "id": "c8bc7ead",
   "metadata": {},
   "outputs": [],
   "source": [
    "a = 'apple1 mango lemon guava watermelon'\n"
   ]
  },
  {
   "cell_type": "code",
   "execution_count": null,
   "id": "cb89eb89",
   "metadata": {},
   "outputs": [],
   "source": []
  },
  {
   "cell_type": "code",
   "execution_count": 2,
   "id": "22363f66",
   "metadata": {},
   "outputs": [
    {
     "name": "stdout",
     "output_type": "stream",
     "text": [
      "_ _ _ _ _ \n"
     ]
    }
   ],
   "source": [
    "import random\n",
    "import collections\n",
    "\n",
    "a = 'apple mango lemon guava watermelon'\n",
    "a= a.split(' ')\n",
    "b= random.choice(a)\n",
    "\n",
    "for i in b: \n",
    "         # For printing the empty spaces for letters of the word \n",
    "    print('_', end=' ') \n",
    "print() "
   ]
  },
  {
   "cell_type": "code",
   "execution_count": null,
   "id": "a7320162",
   "metadata": {},
   "outputs": [],
   "source": []
  },
  {
   "cell_type": "code",
   "execution_count": null,
   "id": "eb29ecb8",
   "metadata": {},
   "outputs": [],
   "source": []
  },
  {
   "cell_type": "code",
   "execution_count": 10,
   "id": "81725a0a",
   "metadata": {},
   "outputs": [
    {
     "name": "stdout",
     "output_type": "stream",
     "text": [
      "Your choices are rock, paper, scissor = 5\n",
      "You chose 5, computer chose scissor\n",
      "Pick one of the choices\n"
     ]
    }
   ],
   "source": [
    "import random\n",
    "user = input('Your choices are rock, paper, scissor = ').lower()\n",
    "actions = ('rock', 'paper', 'scissor')\n",
    "computer = random.choice(actions)\n",
    "print(f'You chose {user.lower()}, computer chose {computer}')\n",
    "if user in actions:\n",
    "   \n",
    "    \n",
    "    \n",
    "    if user == computer:\n",
    "        print('You both chose same, its a tie')\n",
    "    elif user == 'rock':\n",
    "        if computer == 'scissor':\n",
    "            print(\"Rock smashes scissor, you win\")\n",
    "        else:\n",
    "            print(\"paper covers rock, computer win\")\n",
    "    elif user== 'scissor':\n",
    "        if computer=='rock':\n",
    "            print(\"Rock smashes scissor, computer win\")\n",
    "        else:\n",
    "            print(\"scissor cuts paper, you win\")\n",
    "    elif user=='paper':\n",
    "        if computer== 'scissor':\n",
    "            print(\"scissor cuts paper, computer win\")\n",
    "        else:\n",
    "            print(\"paper covers rock, you win\")\n",
    "\n",
    "else:\n",
    "    print(\"Pick one of the choices\")\n",
    "\n",
    "    \n",
    "      "
   ]
  },
  {
   "cell_type": "code",
   "execution_count": null,
   "id": "d5d8a4ec",
   "metadata": {},
   "outputs": [],
   "source": []
  },
  {
   "cell_type": "code",
   "execution_count": null,
   "id": "daa75c02",
   "metadata": {},
   "outputs": [],
   "source": []
  },
  {
   "cell_type": "code",
   "execution_count": null,
   "id": "267671bb",
   "metadata": {},
   "outputs": [],
   "source": []
  },
  {
   "cell_type": "code",
   "execution_count": null,
   "id": "18c0ff58",
   "metadata": {},
   "outputs": [],
   "source": [
    "if user == computer:\n",
    "    print('You both chose same, its a tie')\n",
    "elif user == 'rock':\n",
    "    if computer == 'scissor':\n",
    "        print(\"Rock smashes scissor, you win\")\n",
    "    else:\n",
    "        print(\"paper covers rock, computer win\")\n",
    "elif user== 'scissor':\n",
    "    if computer=='rock':\n",
    "        print(\"Rock smashes scissor, computer win\")\n",
    "    else:\n",
    "        print(\"scissor cuts paper, you win\")\n",
    "elif user=='paper':\n",
    "    if computer== 'scissor':\n",
    "        print(\"scissor cuts paper, computer win\")\n",
    "    else:\n",
    "        print(\"paper covers rock, you win\")"
   ]
  },
  {
   "cell_type": "code",
   "execution_count": null,
   "id": "dce57d28",
   "metadata": {},
   "outputs": [],
   "source": []
  },
  {
   "cell_type": "code",
   "execution_count": 1,
   "id": "a8174252",
   "metadata": {},
   "outputs": [
    {
     "data": {
      "text/plain": [
       "['ArithmeticError',\n",
       " 'AssertionError',\n",
       " 'AttributeError',\n",
       " 'BaseException',\n",
       " 'BlockingIOError',\n",
       " 'BrokenPipeError',\n",
       " 'BufferError',\n",
       " 'BytesWarning',\n",
       " 'ChildProcessError',\n",
       " 'ConnectionAbortedError',\n",
       " 'ConnectionError',\n",
       " 'ConnectionRefusedError',\n",
       " 'ConnectionResetError',\n",
       " 'DeprecationWarning',\n",
       " 'EOFError',\n",
       " 'Ellipsis',\n",
       " 'EncodingWarning',\n",
       " 'EnvironmentError',\n",
       " 'Exception',\n",
       " 'False',\n",
       " 'FileExistsError',\n",
       " 'FileNotFoundError',\n",
       " 'FloatingPointError',\n",
       " 'FutureWarning',\n",
       " 'GeneratorExit',\n",
       " 'IOError',\n",
       " 'ImportError',\n",
       " 'ImportWarning',\n",
       " 'IndentationError',\n",
       " 'IndexError',\n",
       " 'InterruptedError',\n",
       " 'IsADirectoryError',\n",
       " 'KeyError',\n",
       " 'KeyboardInterrupt',\n",
       " 'LookupError',\n",
       " 'MemoryError',\n",
       " 'ModuleNotFoundError',\n",
       " 'NameError',\n",
       " 'None',\n",
       " 'NotADirectoryError',\n",
       " 'NotImplemented',\n",
       " 'NotImplementedError',\n",
       " 'OSError',\n",
       " 'OverflowError',\n",
       " 'PendingDeprecationWarning',\n",
       " 'PermissionError',\n",
       " 'ProcessLookupError',\n",
       " 'RecursionError',\n",
       " 'ReferenceError',\n",
       " 'ResourceWarning',\n",
       " 'RuntimeError',\n",
       " 'RuntimeWarning',\n",
       " 'StopAsyncIteration',\n",
       " 'StopIteration',\n",
       " 'SyntaxError',\n",
       " 'SyntaxWarning',\n",
       " 'SystemError',\n",
       " 'SystemExit',\n",
       " 'TabError',\n",
       " 'TimeoutError',\n",
       " 'True',\n",
       " 'TypeError',\n",
       " 'UnboundLocalError',\n",
       " 'UnicodeDecodeError',\n",
       " 'UnicodeEncodeError',\n",
       " 'UnicodeError',\n",
       " 'UnicodeTranslateError',\n",
       " 'UnicodeWarning',\n",
       " 'UserWarning',\n",
       " 'ValueError',\n",
       " 'Warning',\n",
       " 'WindowsError',\n",
       " 'ZeroDivisionError',\n",
       " '__IPYTHON__',\n",
       " '__build_class__',\n",
       " '__debug__',\n",
       " '__doc__',\n",
       " '__import__',\n",
       " '__loader__',\n",
       " '__name__',\n",
       " '__package__',\n",
       " '__spec__',\n",
       " 'abs',\n",
       " 'aiter',\n",
       " 'all',\n",
       " 'anext',\n",
       " 'any',\n",
       " 'ascii',\n",
       " 'bin',\n",
       " 'bool',\n",
       " 'breakpoint',\n",
       " 'bytearray',\n",
       " 'bytes',\n",
       " 'callable',\n",
       " 'chr',\n",
       " 'classmethod',\n",
       " 'compile',\n",
       " 'complex',\n",
       " 'copyright',\n",
       " 'credits',\n",
       " 'delattr',\n",
       " 'dict',\n",
       " 'dir',\n",
       " 'display',\n",
       " 'divmod',\n",
       " 'enumerate',\n",
       " 'eval',\n",
       " 'exec',\n",
       " 'execfile',\n",
       " 'filter',\n",
       " 'float',\n",
       " 'format',\n",
       " 'frozenset',\n",
       " 'get_ipython',\n",
       " 'getattr',\n",
       " 'globals',\n",
       " 'hasattr',\n",
       " 'hash',\n",
       " 'help',\n",
       " 'hex',\n",
       " 'id',\n",
       " 'input',\n",
       " 'int',\n",
       " 'isinstance',\n",
       " 'issubclass',\n",
       " 'iter',\n",
       " 'len',\n",
       " 'license',\n",
       " 'list',\n",
       " 'locals',\n",
       " 'map',\n",
       " 'max',\n",
       " 'memoryview',\n",
       " 'min',\n",
       " 'next',\n",
       " 'object',\n",
       " 'oct',\n",
       " 'open',\n",
       " 'ord',\n",
       " 'pow',\n",
       " 'print',\n",
       " 'property',\n",
       " 'range',\n",
       " 'repr',\n",
       " 'reversed',\n",
       " 'round',\n",
       " 'runfile',\n",
       " 'set',\n",
       " 'setattr',\n",
       " 'slice',\n",
       " 'sorted',\n",
       " 'staticmethod',\n",
       " 'str',\n",
       " 'sum',\n",
       " 'super',\n",
       " 'tuple',\n",
       " 'type',\n",
       " 'vars',\n",
       " 'zip']"
      ]
     },
     "execution_count": 1,
     "metadata": {},
     "output_type": "execute_result"
    }
   ],
   "source": [
    "(dir(locals()['__builtins__']))"
   ]
  },
  {
   "cell_type": "code",
   "execution_count": 19,
   "id": "e5f35473",
   "metadata": {},
   "outputs": [
    {
     "ename": "IndentationError",
     "evalue": "unexpected indent (1254530857.py, line 4)",
     "output_type": "error",
     "traceback": [
      "\u001b[1;36m  Cell \u001b[1;32mIn[19], line 4\u001b[1;36m\u001b[0m\n\u001b[1;33m    c=a+b\u001b[0m\n\u001b[1;37m    ^\u001b[0m\n\u001b[1;31mIndentationError\u001b[0m\u001b[1;31m:\u001b[0m unexpected indent\n"
     ]
    }
   ],
   "source": [
    "try:\n",
    "    a=2\n",
    "    b=3\n",
    "        c=a+b\n",
    "    print(c)\n",
    "except IndentationError as ie:\n",
    "    print(ie)"
   ]
  },
  {
   "cell_type": "code",
   "execution_count": 103,
   "id": "6c318b88",
   "metadata": {},
   "outputs": [
    {
     "name": "stdout",
     "output_type": "stream",
     "text": [
      "[[10, 1]]\n"
     ]
    }
   ],
   "source": [
    "def asd(i):\n",
    "    \n",
    "    l[0]=[10,1]\n",
    "l=[2]\n",
    "asd(8)\n",
    "print(l)"
   ]
  },
  {
   "cell_type": "code",
   "execution_count": 3,
   "id": "43489e20",
   "metadata": {},
   "outputs": [
    {
     "data": {
      "text/plain": [
       "range(2, 0, 2)"
      ]
     },
     "execution_count": 3,
     "metadata": {},
     "output_type": "execute_result"
    }
   ],
   "source": [
    "a= int()\n",
    "range(2,a,2)"
   ]
  },
  {
   "cell_type": "code",
   "execution_count": 11,
   "id": "2f0a59af",
   "metadata": {},
   "outputs": [
    {
     "name": "stdout",
     "output_type": "stream",
     "text": [
      "this is input = 5\n",
      "0\n",
      "2\n",
      "4\n"
     ]
    }
   ],
   "source": [
    "a=int(input('this is input = '))\n",
    "for i in range(0,a,2):\n",
    "    print(i)"
   ]
  },
  {
   "cell_type": "code",
   "execution_count": 37,
   "id": "56ebd988",
   "metadata": {},
   "outputs": [
    {
     "data": {
      "text/plain": [
       "3"
      ]
     },
     "execution_count": 37,
     "metadata": {},
     "output_type": "execute_result"
    }
   ],
   "source": [
    "list.index(a,4,-2)"
   ]
  },
  {
   "cell_type": "code",
   "execution_count": 33,
   "id": "509dc105",
   "metadata": {},
   "outputs": [],
   "source": [
    "a=[2,3,3,4,45]"
   ]
  },
  {
   "cell_type": "code",
   "execution_count": null,
   "id": "7aa53bb9",
   "metadata": {},
   "outputs": [],
   "source": []
  },
  {
   "cell_type": "code",
   "execution_count": null,
   "id": "631615dc",
   "metadata": {},
   "outputs": [],
   "source": []
  },
  {
   "cell_type": "code",
   "execution_count": null,
   "id": "9fdb7de0",
   "metadata": {},
   "outputs": [],
   "source": []
  }
 ],
 "metadata": {
  "kernelspec": {
   "display_name": "Python 3 (ipykernel)",
   "language": "python",
   "name": "python3"
  },
  "language_info": {
   "codemirror_mode": {
    "name": "ipython",
    "version": 3
   },
   "file_extension": ".py",
   "mimetype": "text/x-python",
   "name": "python",
   "nbconvert_exporter": "python",
   "pygments_lexer": "ipython3",
   "version": "3.10.9"
  }
 },
 "nbformat": 4,
 "nbformat_minor": 5
}
