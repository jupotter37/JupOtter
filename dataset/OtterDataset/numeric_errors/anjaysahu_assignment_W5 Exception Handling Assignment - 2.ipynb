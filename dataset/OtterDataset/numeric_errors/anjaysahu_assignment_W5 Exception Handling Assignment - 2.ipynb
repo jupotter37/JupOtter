{
 "cells": [
  {
   "cell_type": "markdown",
   "id": "f5f5dd33-9a8f-48ce-9fca-5b6cf79bcf7e",
   "metadata": {},
   "source": [
    "Q1. Explain why we have to use the Exception class while creating a Custom Exception.\n",
    "Note: Here Exception class refers to the base class for all the exceptions."
   ]
  },
  {
   "cell_type": "markdown",
   "id": "9060ff3a-9927-4d29-8656-39c77d12d344",
   "metadata": {},
   "source": [
    "#### Answer - "
   ]
  },
  {
   "cell_type": "markdown",
   "id": "357b32de-1cf9-4581-b224-2053224c6001",
   "metadata": {},
   "source": [
    "When we are creating a Custom Exception we use the Exception class to inherit their properties in Custom Exception so that our Custom Exception exactly behaves like the Exception class."
   ]
  },
  {
   "cell_type": "markdown",
   "id": "f4e5e874-cf32-4a02-b831-2da2a22075af",
   "metadata": {},
   "source": [
    "      "
   ]
  },
  {
   "cell_type": "markdown",
   "id": "337c7a8a-6629-4772-8ba8-fdbc7337d273",
   "metadata": {},
   "source": [
    "Q2. Write a python program to print Python Exception Hierarchy."
   ]
  },
  {
   "cell_type": "markdown",
   "id": "eb347e5b-6233-47f3-99e1-b8f4d9f0bb9e",
   "metadata": {},
   "source": [
    "#### Answer - "
   ]
  },
  {
   "cell_type": "markdown",
   "id": "e23bafbc-afa1-4ac5-8cbd-6b61c5694ae2",
   "metadata": {},
   "source": [
    "I am not able to answer this question because I have not done this kind of study yet so please email me the solution and explain it."
   ]
  },
  {
   "cell_type": "markdown",
   "id": "577264d9-6085-4f0f-bb94-e91c1dd6c189",
   "metadata": {},
   "source": [
    "      "
   ]
  },
  {
   "cell_type": "markdown",
   "id": "54cbdf7a-faf0-4f8a-9e07-aca58c65466e",
   "metadata": {},
   "source": [
    "Q3. What errors are defined in the ArithmeticError class? Explain any two with an example."
   ]
  },
  {
   "cell_type": "markdown",
   "id": "7f6f560e-e9d6-495c-9241-3845a6b4c296",
   "metadata": {},
   "source": [
    "#### Answer - "
   ]
  },
  {
   "cell_type": "markdown",
   "id": "81b3fca2-4bf1-417f-9a2e-cc9146c98b64",
   "metadata": {},
   "source": [
    "ArithmeticError class is used when an error occurs while performing mathematical operations."
   ]
  },
  {
   "cell_type": "markdown",
   "id": "93eb301f-7068-4c07-81ba-b15ab189b4b2",
   "metadata": {},
   "source": [
    "     "
   ]
  },
  {
   "cell_type": "markdown",
   "id": "776c12f1-9eb0-4d47-acb0-458530d5bb2f",
   "metadata": {},
   "source": [
    "##### ZeroDivisionError -\n",
    "ZeroDivisionError occurs when you try to divide a number by zero. "
   ]
  },
  {
   "cell_type": "code",
   "execution_count": 1,
   "id": "53382124-b1e6-4432-b006-b58327b454be",
   "metadata": {},
   "outputs": [
    {
     "name": "stdout",
     "output_type": "stream",
     "text": [
      "I am trying to handle division by zero error : division by zero\n"
     ]
    }
   ],
   "source": [
    "try:\n",
    "    a = 2/0\n",
    "except ZeroDivisionError as e:\n",
    "    print(\"I am trying to handle division by zero error :\", e)"
   ]
  },
  {
   "cell_type": "markdown",
   "id": "cc7f10a4-740c-4a3a-9282-30101c8cfcd1",
   "metadata": {},
   "source": [
    "    "
   ]
  },
  {
   "cell_type": "markdown",
   "id": "194c0ac2-055a-4462-80a5-e319e5713ef6",
   "metadata": {},
   "source": [
    "##### OverflowError - \n",
    "OverflowError Raised when the result of an arithmetic operation is too large to be represented.     "
   ]
  },
  {
   "cell_type": "code",
   "execution_count": 2,
   "id": "8f25431e-9c4f-4113-8da3-781586c0a234",
   "metadata": {},
   "outputs": [],
   "source": [
    "try:\n",
    "    a = 65**1000\n",
    "except OverflowError as e:\n",
    "    print(\"I am trying to handle the 'too large data storage' error \", e)"
   ]
  },
  {
   "cell_type": "markdown",
   "id": "d55e672e-7409-487a-9d19-f681a550d2a1",
   "metadata": {},
   "source": [
    "      "
   ]
  },
  {
   "cell_type": "markdown",
   "id": "59704117-fd17-4791-bf9f-e1472a90fd15",
   "metadata": {},
   "source": [
    "Q4. Why LookupError class is used? Explain with an example KeyError and IndexError."
   ]
  },
  {
   "cell_type": "markdown",
   "id": "5ccbc3ae-be5e-4f74-a9e3-1fcf1b0c5ee8",
   "metadata": {},
   "source": [
    "#### Answer - "
   ]
  },
  {
   "cell_type": "markdown",
   "id": "7c67a00d-818a-43b4-b450-fca59b993198",
   "metadata": {},
   "source": [
    "LookupError is used as a base class for exceptions raised when a sequence or dictionary type doesn't contain a given index or key."
   ]
  },
  {
   "cell_type": "markdown",
   "id": "fbfee62c-e970-4476-8b01-227f3ef37db5",
   "metadata": {},
   "source": [
    "      "
   ]
  },
  {
   "cell_type": "markdown",
   "id": "48608cbd-7b58-4b65-a806-d3b48ccc6258",
   "metadata": {},
   "source": [
    "##### KeyError -"
   ]
  },
  {
   "cell_type": "code",
   "execution_count": 3,
   "id": "3b30509c-8e52-4f35-9284-2b195eb8ec11",
   "metadata": {},
   "outputs": [
    {
     "name": "stdout",
     "output_type": "stream",
     "text": [
      "I am trying to handle key error : 'nam'\n"
     ]
    }
   ],
   "source": [
    "try:\n",
    "    d = {\"name\" : \"anjay\", \"num\" : [1,2,3]}\n",
    "    d[\"nam\"]\n",
    "except KeyError as e:\n",
    "    print(\"I am trying to handle key error :\", e)"
   ]
  },
  {
   "cell_type": "markdown",
   "id": "4f30ab47-9e0b-4961-9d00-a4ba301b306b",
   "metadata": {},
   "source": [
    "      "
   ]
  },
  {
   "cell_type": "markdown",
   "id": "43079ecb-dbcb-437b-9be9-0f279a341a42",
   "metadata": {},
   "source": [
    "##### IndexError-"
   ]
  },
  {
   "cell_type": "code",
   "execution_count": 4,
   "id": "476289f0-556d-49b1-ba4d-52aa186ea9e6",
   "metadata": {},
   "outputs": [
    {
     "name": "stdout",
     "output_type": "stream",
     "text": [
      "I am trying to handle index error : string index out of range\n"
     ]
    }
   ],
   "source": [
    "try:\n",
    "    s = \"anjay\"\n",
    "    s[6]\n",
    "except IndexError as e:\n",
    "    print(\"I am trying to handle index error :\" , e)"
   ]
  },
  {
   "cell_type": "markdown",
   "id": "b9eea3ff-56e1-4e5b-8fc0-4c08328f6867",
   "metadata": {},
   "source": [
    "      "
   ]
  },
  {
   "cell_type": "markdown",
   "id": "40290b99-23d3-48ba-9183-ab795394fcb4",
   "metadata": {},
   "source": [
    "Q5. Explain ImportError. What is ModuleNotFoundError?"
   ]
  },
  {
   "cell_type": "markdown",
   "id": "cf7c9e2c-6c2b-430e-b460-1188dc2e42bd",
   "metadata": {},
   "source": [
    "#### Answer - "
   ]
  },
  {
   "cell_type": "markdown",
   "id": "89cd1c8e-0919-44d2-9be0-d7e56b3d2f7c",
   "metadata": {},
   "source": [
    "when we try to import any module or package that time we use ImportError to handle Exception if an Exception raised. ModuleNotFoundError comes when we try to import any module but python is not found that module."
   ]
  },
  {
   "cell_type": "markdown",
   "id": "04b822ff-83f9-4136-b6a0-a9d5a2b91724",
   "metadata": {},
   "source": [
    "      "
   ]
  },
  {
   "cell_type": "markdown",
   "id": "b6aa4048-7975-4da9-9e96-a88d0fb30fa2",
   "metadata": {},
   "source": [
    "Q6. List down some best practices for exception handling in python."
   ]
  },
  {
   "cell_type": "markdown",
   "id": "1fa79c4a-03ba-4b5a-9e3d-bc38bffc1f93",
   "metadata": {},
   "source": [
    "#### Answer - "
   ]
  },
  {
   "cell_type": "markdown",
   "id": "3e2fc481-7b9d-4af5-a69c-6d82fdd60bf2",
   "metadata": {},
   "source": [
    "1. Always use specific Exception\n",
    "2. Avoid to use multiple Exception\n",
    "3. Print always a proper message to what are you trying to handle \n",
    "4. Always try to log error\n",
    "5. Document all errors as to why are you using that Exception class\n",
    "6. Close all resources that you start"
   ]
  },
  {
   "cell_type": "code",
   "execution_count": null,
   "id": "ad20014f-e7e4-46d8-80ee-00ea3fa6616d",
   "metadata": {},
   "outputs": [],
   "source": []
  }
 ],
 "metadata": {
  "kernelspec": {
   "display_name": "Python 3 (ipykernel)",
   "language": "python",
   "name": "python3"
  },
  "language_info": {
   "codemirror_mode": {
    "name": "ipython",
    "version": 3
   },
   "file_extension": ".py",
   "mimetype": "text/x-python",
   "name": "python",
   "nbconvert_exporter": "python",
   "pygments_lexer": "ipython3",
   "version": "3.10.8"
  }
 },
 "nbformat": 4,
 "nbformat_minor": 5
}
