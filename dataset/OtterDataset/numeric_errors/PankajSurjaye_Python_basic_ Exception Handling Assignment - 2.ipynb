{
 "cells": [
  {
   "cell_type": "markdown",
   "id": "01adedc0",
   "metadata": {},
   "source": [
    "# Exception Handling Assignment - 2"
   ]
  },
  {
   "cell_type": "code",
   "execution_count": 1,
   "id": "c9733d5b",
   "metadata": {},
   "outputs": [],
   "source": [
    "# Q1. Explain why we have to use the Exception class while creating a Custom Exception.\n",
    "# Note: Here Exception class refers to the base class for all the exceptions."
   ]
  },
  {
   "cell_type": "code",
   "execution_count": 2,
   "id": "44c66cf7",
   "metadata": {},
   "outputs": [],
   "source": [
    "# When creating a custom exception in Python, it's a best practice to inherit from the built-in Exception class or \n",
    "# one of its subclasses. The primary reason for this is to ensure that your custom exception follows the standard exception\n",
    "# hierarchy and behaves consistently with other exceptions in Python. Here's why you should use the Exception class as the\n",
    "# base for your custom exception:\n",
    "\n",
    "# Consistency: Inheriting from the Exception class ensures that your custom exception behaves like other exceptions\n",
    "#     in Python. It provides a consistent interface, including attributes and methods that are commonly used with exceptions,\n",
    "#     such as str() for converting the exception to a string and args for accessing any arguments passed when the exception\n",
    "#     is raised.\n",
    "\n",
    "# Interoperability: By following the standard exception hierarchy, your custom exception can be caught and handled along with \n",
    "#     other exceptions in a consistent manner. This allows you to use the same try and except blocks to handle both built-in \n",
    "#     and custom exceptions.\n",
    "\n",
    "# Clarity: When someone reads your code, using Exception as the base class clearly indicates that your class represents\n",
    "#     an exception. This makes your code more readable and understandable to other developers.\n",
    "\n",
    "# Best Practices: It's considered a best practice in Python to inherit from the Exception class when creating custom exceptions. \n",
    "#     This practice is followed by Python's standard library and most third-party libraries, ensuring a common and expected\n",
    "#     way of defining exceptions in the Python ecosystem.\n",
    "\n",
    "# Here's an example of creating a custom exception by inheriting from the Exception class:"
   ]
  },
  {
   "cell_type": "code",
   "execution_count": 3,
   "id": "9bfa5bab",
   "metadata": {},
   "outputs": [
    {
     "name": "stdout",
     "output_type": "stream",
     "text": [
      "Custom Exception: This is a custom exception example.\n"
     ]
    }
   ],
   "source": [
    "class CustomException(Exception):\n",
    "    def __init__(self, message=\"A custom exception occurred\"):\n",
    "        self.message = message\n",
    "        super().__init__(self.message)\n",
    "\n",
    "try:\n",
    "    raise CustomException(\"This is a custom exception example.\")\n",
    "except CustomException as ce:\n",
    "    print(f\"Custom Exception: {ce}\")\n"
   ]
  },
  {
   "cell_type": "code",
   "execution_count": 4,
   "id": "dd93469b",
   "metadata": {},
   "outputs": [],
   "source": [
    "# In this example, CustomException inherits from Exception, and when it's raised and caught, it behaves just like \n",
    "# other exceptions, making it easier to work with and understand within the context of Python exception handling."
   ]
  },
  {
   "cell_type": "code",
   "execution_count": 5,
   "id": "d2bd414b",
   "metadata": {},
   "outputs": [],
   "source": [
    "# Q2. Write a python program to print Python Exception Hierarchy."
   ]
  },
  {
   "cell_type": "code",
   "execution_count": 6,
   "id": "25d28593",
   "metadata": {},
   "outputs": [],
   "source": [
    "# You can print the Python exception hierarchy using the exception_hierarchy function below. This function\n",
    "# recursively traverses the exception classes and their base classes to create a hierarchical structure."
   ]
  },
  {
   "cell_type": "code",
   "execution_count": 7,
   "id": "871957d1",
   "metadata": {},
   "outputs": [
    {
     "name": "stdout",
     "output_type": "stream",
     "text": [
      "Exception (Base Exception)\n",
      "  |\n",
      "  └── BaseException\n",
      "    |\n",
      "    └── object\n"
     ]
    }
   ],
   "source": [
    "def exception_hierarchy(exception_class, level=0):\n",
    "    if level == 0:\n",
    "        print(f\"{exception_class.__name__} (Base Exception)\")\n",
    "    else:\n",
    "        print(\"  \" * level + \"|\")\n",
    "        print(\"  \" * level + \"└── \" + exception_class.__name__)\n",
    "    level += 1\n",
    "    for base_exception in exception_class.__bases__:\n",
    "        exception_hierarchy(base_exception, level)\n",
    "\n",
    "# Print the Python exception hierarchy starting from the base Exception class.\n",
    "exception_hierarchy(Exception)\n"
   ]
  },
  {
   "cell_type": "code",
   "execution_count": 8,
   "id": "778381d0",
   "metadata": {},
   "outputs": [],
   "source": [
    "# When you run this program, it will print the Python exception hierarchy starting from the base Exception class,\n",
    "# showing the inheritance relationships between exception classes. This hierarchy will include both built-in exceptions \n",
    "# and any custom exceptions you've defined."
   ]
  },
  {
   "cell_type": "code",
   "execution_count": 9,
   "id": "462f71b5",
   "metadata": {},
   "outputs": [],
   "source": [
    "# Q3. What errors are defined in the ArithmeticError class? Explain any two with an example."
   ]
  },
  {
   "cell_type": "code",
   "execution_count": 10,
   "id": "4b66d0e7",
   "metadata": {},
   "outputs": [],
   "source": [
    "# The ArithmeticError class is a base class for exceptions that occur during arithmetic operations in Python. \n",
    "# It's a part of the Python exception hierarchy and is used to handle a variety of arithmetic-related errors. \n",
    "# Two common errors defined in the ArithmeticError class are:\n",
    "\n",
    "# ZeroDivisionError:\n",
    "\n",
    "# This exception is raised when you attempt to divide a number by zero, which is mathematically undefined.\n",
    "# Example:"
   ]
  },
  {
   "cell_type": "code",
   "execution_count": 11,
   "id": "ac24ef79",
   "metadata": {},
   "outputs": [
    {
     "name": "stdout",
     "output_type": "stream",
     "text": [
      "Error: division by zero\n"
     ]
    }
   ],
   "source": [
    "dividend = 10\n",
    "divisor = 0\n",
    "try:\n",
    "    result = dividend / divisor  # This will raise a ZeroDivisionError.\n",
    "except ZeroDivisionError as zde:\n",
    "    print(f\"Error: {zde}\")\n"
   ]
  },
  {
   "cell_type": "code",
   "execution_count": 12,
   "id": "e3498128",
   "metadata": {},
   "outputs": [],
   "source": [
    "# In this example, attempting to divide 10 by 0 raises a ZeroDivisionError."
   ]
  },
  {
   "cell_type": "code",
   "execution_count": 13,
   "id": "db821f27",
   "metadata": {},
   "outputs": [],
   "source": [
    "# OverflowError:\n",
    "\n",
    "# This exception is raised when a numerical calculation exceeds the maximum representable value for a numeric type.\n",
    "# Example:"
   ]
  },
  {
   "cell_type": "code",
   "execution_count": 14,
   "id": "34a75887",
   "metadata": {},
   "outputs": [],
   "source": [
    "import sys\n",
    "\n",
    "# On most systems, this will raise an OverflowError.\n",
    "large_number = sys.maxsize + 1\n",
    "\n",
    "try:\n",
    "    result = large_number ** 2  # This may raise an OverflowError.\n",
    "except OverflowError as oe:\n",
    "    print(f\"Error: {oe}\")\n"
   ]
  },
  {
   "cell_type": "code",
   "execution_count": 15,
   "id": "eac0b255",
   "metadata": {},
   "outputs": [],
   "source": [
    "# In this example, we attempt to calculate the square of a number that exceeds the maximum value representable \n",
    "# by the system, leading to an OverflowError.\n",
    "\n",
    "# These exceptions are derived from the ArithmeticError class and are designed to provide more specific information about \n",
    "# the nature of the arithmetic error that occurred, allowing you to handle them in a more precise manner."
   ]
  },
  {
   "cell_type": "code",
   "execution_count": 16,
   "id": "906f022b",
   "metadata": {},
   "outputs": [],
   "source": [
    "# Q4. Why LookupError class is used? Explain with an example KeyError and IndexError."
   ]
  },
  {
   "cell_type": "code",
   "execution_count": 17,
   "id": "4c34a0dc",
   "metadata": {},
   "outputs": [],
   "source": [
    "# The LookupError class is a base class for exceptions related to looking up values in collections such as dictionaries,\n",
    "# lists, tuples, and sets. It provides a common base for exceptions that involve searching for or accessing elements within\n",
    "# data structures. Two common exceptions derived from LookupError are KeyError and IndexError.\n",
    "\n",
    "# KeyError:\n",
    "\n",
    "# KeyError is raised when you try to access a dictionary with a key that doesn't exist in the dictionary.\n",
    "# Example:"
   ]
  },
  {
   "cell_type": "code",
   "execution_count": 18,
   "id": "1907b380",
   "metadata": {},
   "outputs": [
    {
     "name": "stdout",
     "output_type": "stream",
     "text": [
      "Error: 'grape'\n"
     ]
    }
   ],
   "source": [
    "my_dict = {\"apple\": 1, \"banana\": 2, \"cherry\": 3}\n",
    "\n",
    "try:\n",
    "    value = my_dict[\"grape\"]  # This will raise a KeyError.\n",
    "except KeyError as ke:\n",
    "    print(f\"Error: {ke}\")\n"
   ]
  },
  {
   "cell_type": "code",
   "execution_count": 19,
   "id": "e130d357",
   "metadata": {},
   "outputs": [],
   "source": [
    "# In this example, we try to access the value associated with the key \"grape\" in the dictionary my_dict, but this key does \n",
    "# not exist in the dictionary, resulting in a KeyError."
   ]
  },
  {
   "cell_type": "code",
   "execution_count": 20,
   "id": "69c84881",
   "metadata": {},
   "outputs": [],
   "source": [
    "# IndexError:\n",
    "\n",
    "# IndexError is raised when you try to access an index that is out of range in a sequence type, such as a list or a tuple.\n",
    "# Example:"
   ]
  },
  {
   "cell_type": "code",
   "execution_count": 21,
   "id": "96686ead",
   "metadata": {},
   "outputs": [
    {
     "name": "stdout",
     "output_type": "stream",
     "text": [
      "Error: list index out of range\n"
     ]
    }
   ],
   "source": [
    "my_list = [10, 20, 30, 40, 50]\n",
    "\n",
    "try:\n",
    "    value = my_list[10]  # This will raise an IndexError.\n",
    "except IndexError as ie:\n",
    "    print(f\"Error: {ie}\")\n"
   ]
  },
  {
   "cell_type": "code",
   "execution_count": 22,
   "id": "5ba0ccab",
   "metadata": {},
   "outputs": [],
   "source": [
    "# In this example, we attempt to access the element at index 10 in the list my_list, but the list contains only\n",
    "# five elements (indices 0 to 4), leading to an IndexError.\n",
    "\n",
    "# LookupError serves as a common base class for these exceptions because they share the common theme of looking up\n",
    "# or accessing elements within data structures. Using this base class allows you to catch these specific exceptions\n",
    "# and handle them in a uniform manner. It's also useful when you want to handle lookup errors in a broader sense, such\n",
    "# as when you want to handle both KeyError and IndexError with a single except block."
   ]
  },
  {
   "cell_type": "code",
   "execution_count": 23,
   "id": "088b6967",
   "metadata": {},
   "outputs": [],
   "source": [
    "# Q5. Explain ImportError. What is ModuleNotFoundError?"
   ]
  },
  {
   "cell_type": "code",
   "execution_count": 24,
   "id": "a221eb19",
   "metadata": {},
   "outputs": [],
   "source": [
    "# ImportError and ModuleNotFoundError are both exceptions in Python that occur when there are issues related to \n",
    "# importing modules. However, they serve slightly different purposes and have differences in their behavior.\n",
    "\n",
    "# ImportError:\n",
    "\n",
    "# ImportError is a base class for exceptions that occur when there is a problem importing a module. It can be raised for\n",
    "# various reasons, such as a module not being found, an issue with the module's content, or issues with the module's dependencies.\n",
    "\n",
    "# You can use ImportError to catch and handle general import errors.\n",
    "# Example:"
   ]
  },
  {
   "cell_type": "code",
   "execution_count": 25,
   "id": "8b706876",
   "metadata": {},
   "outputs": [
    {
     "name": "stdout",
     "output_type": "stream",
     "text": [
      "Import Error: No module named 'non_existent_module'\n"
     ]
    }
   ],
   "source": [
    "try:\n",
    "    import non_existent_module  # This will raise an ImportError.\n",
    "except ImportError as ie:\n",
    "    print(f\"Import Error: {ie}\")\n"
   ]
  },
  {
   "cell_type": "code",
   "execution_count": 26,
   "id": "ea75e795",
   "metadata": {},
   "outputs": [],
   "source": [
    "# ModuleNotFoundError:\n",
    "\n",
    "# ModuleNotFoundError is a more specific exception that is raised when a module cannot be found during the import process.\n",
    "# It was introduced in Python 3.6 to provide a more precise and clear error message when a module is not found.\n",
    "# ModuleNotFoundError is derived from ImportError and provides more information about the missing module, including its name.\n",
    "# Example:"
   ]
  },
  {
   "cell_type": "code",
   "execution_count": 27,
   "id": "a833b6dc",
   "metadata": {},
   "outputs": [
    {
     "name": "stdout",
     "output_type": "stream",
     "text": [
      "Module Not Found Error: No module named 'non_existent_module'\n"
     ]
    }
   ],
   "source": [
    "try:\n",
    "    import non_existent_module  # This will raise a ModuleNotFoundError in Python 3.6 and later.\n",
    "except ModuleNotFoundError as mne:\n",
    "    print(f\"Module Not Found Error: {mne}\")\n"
   ]
  },
  {
   "cell_type": "code",
   "execution_count": 28,
   "id": "3aef01b0",
   "metadata": {},
   "outputs": [],
   "source": [
    "# In this example, attempting to import a non-existent module raises a ModuleNotFoundError, which specifies the \n",
    "# name of the missing module."
   ]
  },
  {
   "cell_type": "code",
   "execution_count": 29,
   "id": "89a63fe4",
   "metadata": {},
   "outputs": [],
   "source": [
    "# Q6. List down some best practices for exception handling in python."
   ]
  },
  {
   "cell_type": "code",
   "execution_count": 30,
   "id": "b911de3f",
   "metadata": {},
   "outputs": [],
   "source": [
    "# Exception handling is an important aspect of writing robust and maintainable Python code. Here are some best \n",
    "# practices for exception handling in Python:\n",
    "\n",
    "# Use Specific Exception Types: Catch specific exceptions rather than broad ones when possible. This allows you\n",
    "#     to handle different errors in distinct ways. For example, catch FileNotFoundError instead of the more general IOError.\n",
    "\n",
    "# Avoid Empty except Blocks: Avoid using empty except blocks (i.e., except: with no specific exception type). It \n",
    "#     makes it difficult to identify and debug issues. Only catch exceptions you are prepared to handle.\n",
    "\n",
    "# Use try-except Blocks Selectively: Only use try-except blocks around code that you expect might raise an exception. \n",
    "#     Don't wrap large sections of code in a single try block.\n",
    "\n",
    "# Clean Up with finally: Use a finally block to ensure that cleanup code (e.g., closing files or network connections) \n",
    "#     is executed, even if an exception is raised.\n",
    "\n",
    "# Handle Exceptions Gracefully: When catching exceptions, handle them gracefully. Provide informative error messages,\n",
    "#     and avoid crashing the program. Consider logging the error for future analysis.\n",
    "\n",
    "# Don't Suppress Exceptions: Avoid suppressing exceptions by catching them and doing nothing. If you catch an exception,\n",
    "#     provide a meaningful response, whether that's logging the error or taking corrective action.\n",
    "\n",
    "# Use Multiple except Blocks: When handling different exceptions differently, use multiple except blocks. This makes your \n",
    "#     code more readable and maintainable.\n",
    "\n",
    "# Reraise Exceptions with raise: If you catch an exception but cannot handle it, consider re-raising it with raise to allow\n",
    "#     higher-level error handling or debugging.\n",
    "\n",
    "# Avoid Deep Nesting: Avoid deep nesting of try-except blocks. It can make your code hard to read and maintain. Use \n",
    "#     functions and classes to organize and encapsulate error handling.\n",
    "\n",
    "# Use Custom Exceptions: Create custom exceptions when needed to represent specific error conditions in your code.\n",
    "#     This improves code clarity and allows for more precise error handling.\n",
    "\n",
    "# Keep Error Messages Clear and Informative: Write clear and informative error messages that help in diagnosing and \n",
    "#     debugging issues. Include relevant context in the error message.\n",
    "\n",
    "# Consider Context Managers: When working with resources like files or database connections, use context managers\n",
    "#     (e.g., with statements) to automatically handle resource cleanup and exception handling.\n",
    "\n",
    "# Document Exception Handling: Document how your code handles exceptions, especially when creating custom exceptions. \n",
    "#     Describe what each exception means and how it should be handled.\n",
    "\n",
    "# Test Exception Handling: Write unit tests that specifically target exception handling scenarios. Ensure your exception\n",
    "#     handling code works as expected.\n",
    "\n",
    "# Follow PEP 8 Guidelines: Adhere to Python's PEP 8 style guide, which provides recommendations on formatting and styling, \n",
    "#     including how to format exception handling code for readability."
   ]
  },
  {
   "cell_type": "code",
   "execution_count": null,
   "id": "57b9a94f",
   "metadata": {},
   "outputs": [],
   "source": []
  }
 ],
 "metadata": {
  "kernelspec": {
   "display_name": "Python 3 (ipykernel)",
   "language": "python",
   "name": "python3"
  },
  "language_info": {
   "codemirror_mode": {
    "name": "ipython",
    "version": 3
   },
   "file_extension": ".py",
   "mimetype": "text/x-python",
   "name": "python",
   "nbconvert_exporter": "python",
   "pygments_lexer": "ipython3",
   "version": "3.9.12"
  }
 },
 "nbformat": 4,
 "nbformat_minor": 5
}
