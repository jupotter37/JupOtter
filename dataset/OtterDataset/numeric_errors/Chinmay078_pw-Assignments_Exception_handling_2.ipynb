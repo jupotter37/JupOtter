{
  "nbformat": 4,
  "nbformat_minor": 0,
  "metadata": {
    "colab": {
      "provenance": []
    },
    "kernelspec": {
      "name": "python3",
      "display_name": "Python 3"
    },
    "language_info": {
      "name": "python"
    }
  },
  "cells": [
    {
      "cell_type": "markdown",
      "source": [
        "Q1. Explain why we have to use the Exception class while creating a Custom Exception.\n"
      ],
      "metadata": {
        "id": "4qk6AJB-lDWe"
      }
    },
    {
      "cell_type": "markdown",
      "source": [
        "The Exception class in Python serves as the base class for all built-in exceptions. When creating custom exceptions, we inherit from the Exception class to ensure that our custom exception behaves like a standard Python exception. This makes it compatible with the existing exception-handling mechanisms (try-except blocks) and allows features like traceback reporting and message passing.\n",
        "\n",
        "Benefits:\n",
        "Consistency: Custom exceptions follow the same behavior as built-in exceptions.\n",
        "Traceability: They integrate with Python's traceback system.\n",
        "Interoperability: They can be caught using general exception types (Exception) or specific ones (e.g., CustomError)."
      ],
      "metadata": {
        "id": "X8gIQqgzlDQd"
      }
    },
    {
      "cell_type": "code",
      "source": [
        "class CustomError(Exception):\n",
        "    \"\"\"A user-defined exception class.\"\"\"\n",
        "    pass\n",
        "\n",
        "try:\n",
        "    raise CustomError(\"This is a custom exception.\")\n",
        "except CustomError as e:\n",
        "    print(e)\n"
      ],
      "metadata": {
        "colab": {
          "base_uri": "https://localhost:8080/"
        },
        "id": "Hwx0OcWPlO5W",
        "outputId": "9d77ccc4-315d-49cb-cb26-e46681032e7f"
      },
      "execution_count": 1,
      "outputs": [
        {
          "output_type": "stream",
          "name": "stdout",
          "text": [
            "This is a custom exception.\n"
          ]
        }
      ]
    },
    {
      "cell_type": "markdown",
      "source": [
        "Q2. Write a Python program to print Python Exception Hierarchy."
      ],
      "metadata": {
        "id": "hGrQJSQllCcs"
      }
    },
    {
      "cell_type": "code",
      "execution_count": 2,
      "metadata": {
        "colab": {
          "base_uri": "https://localhost:8080/"
        },
        "id": "vRnZ4SUYlBcr",
        "outputId": "01b3bb0f-226c-43b4-ae27-5cac26d4c6bc"
      },
      "outputs": [
        {
          "output_type": "stream",
          "name": "stdout",
          "text": [
            "BaseException\n",
            "  Exception\n",
            "    TypeError\n",
            "      MultipartConversionError\n",
            "      FloatOperation\n",
            "      DTypePromotionError\n",
            "      UFuncTypeError\n",
            "        UFuncTypeError\n",
            "          UFuncTypeError\n",
            "        UFuncTypeError\n",
            "          UFuncTypeError\n",
            "          UFuncTypeError\n",
            "      ConversionError\n",
            "    StopAsyncIteration\n",
            "    StopIteration\n",
            "    ImportError\n",
            "      ModuleNotFoundError\n",
            "        PackageNotFoundError\n",
            "        PackageNotFoundError\n",
            "      ZipImportError\n",
            "    OSError\n",
            "      ConnectionError\n",
            "        BrokenPipeError\n",
            "        ConnectionAbortedError\n",
            "        ConnectionRefusedError\n",
            "        ConnectionResetError\n",
            "          RemoteDisconnected\n",
            "      BlockingIOError\n",
            "      ChildProcessError\n",
            "      FileExistsError\n",
            "      FileNotFoundError\n",
            "        ExecutableNotFoundError\n",
            "      IsADirectoryError\n",
            "      NotADirectoryError\n",
            "      InterruptedError\n",
            "        InterruptedSystemCall\n",
            "      PermissionError\n",
            "      ProcessLookupError\n",
            "      TimeoutError\n",
            "      UnsupportedOperation\n",
            "      itimer_error\n",
            "      Error\n",
            "        SameFileError\n",
            "      SpecialFileError\n",
            "      ExecError\n",
            "      ReadError\n",
            "      herror\n",
            "      gaierror\n",
            "      SSLError\n",
            "        SSLCertVerificationError\n",
            "        SSLZeroReturnError\n",
            "        SSLWantWriteError\n",
            "        SSLWantReadError\n",
            "        SSLSyscallError\n",
            "        SSLEOFError\n",
            "      URLError\n",
            "        HTTPError\n",
            "        ContentTooShortError\n",
            "      UnidentifiedImageError\n",
            "      BadGzipFile\n",
            "      ProxyError\n",
            "        GeneralProxyError\n",
            "        ProxyConnectionError\n",
            "        SOCKS5AuthError\n",
            "        SOCKS5Error\n",
            "        SOCKS4Error\n",
            "        HTTPError\n",
            "    EOFError\n",
            "      IncompleteReadError\n",
            "    RuntimeError\n",
            "      RecursionError\n",
            "      NotImplementedError\n",
            "        StdinNotImplementedError\n",
            "        ZMQVersionError\n",
            "      _DeadlockError\n",
            "      BrokenBarrierError\n",
            "      BrokenExecutor\n",
            "        BrokenThreadPool\n",
            "      SendfileNotAvailableError\n",
            "      RemovedCommandError\n",
            "      PackageDiscoveryError\n",
            "      TooHardError\n",
            "      VariableError\n",
            "    NameError\n",
            "      UnboundLocalError\n",
            "    AttributeError\n",
            "      FrozenInstanceError\n",
            "    SyntaxError\n",
            "      IndentationError\n",
            "        TabError\n",
            "      ParseError\n",
            "    LookupError\n",
            "      IndexError\n",
            "        AxisError\n",
            "        OutOfBounds\n",
            "      KeyError\n",
            "        UnknownBackend\n",
            "        NoSuchKernel\n",
            "      CodecRegistryError\n",
            "    ValueError\n",
            "      UnicodeError\n",
            "        UnicodeEncodeError\n",
            "        UnicodeDecodeError\n",
            "        UnicodeTranslateError\n",
            "      UnsupportedOperation\n",
            "      JSONDecodeError\n",
            "      UnsupportedDigestmodError\n",
            "      Error\n",
            "      IllegalMonthError\n",
            "      IllegalWeekdayError\n",
            "      MessageDefect\n",
            "        NoBoundaryInMultipartDefect\n",
            "        StartBoundaryNotFoundDefect\n",
            "        CloseBoundaryNotFoundDefect\n",
            "        FirstHeaderLineIsContinuationDefect\n",
            "        MisplacedEnvelopeHeaderDefect\n",
            "        MissingHeaderBodySeparatorDefect\n",
            "        MultipartInvariantViolationDefect\n",
            "        InvalidMultipartContentTransferEncodingDefect\n",
            "        UndecodableBytesDefect\n",
            "        InvalidBase64PaddingDefect\n",
            "        InvalidBase64CharactersDefect\n",
            "        InvalidBase64LengthDefect\n",
            "        HeaderDefect\n",
            "          InvalidHeaderDefect\n",
            "          HeaderMissingRequiredValue\n",
            "          NonPrintableDefect\n",
            "          ObsoleteHeaderDefect\n",
            "          NonASCIILocalPartDefect\n",
            "          InvalidDateDefect\n",
            "      ClassNotFound\n",
            "      SSLCertVerificationError\n",
            "      ClipboardEmpty\n",
            "      MacroToEdit\n",
            "      ParserError\n",
            "      UnequalIterablesError\n",
            "      UnequalIterablesError\n",
            "      ELFInvalid\n",
            "      InvalidVersion\n",
            "      InvalidName\n",
            "      InvalidWheelFilename\n",
            "      InvalidSdistFilename\n",
            "      InvalidSpecifier\n",
            "      InvalidMarker\n",
            "      UndefinedComparison\n",
            "      UndefinedEnvironmentName\n",
            "      InvalidRequirement\n",
            "      DisabledFunctionError\n",
            "      AxisError\n",
            "      LinAlgError\n",
            "      DefusedXmlException\n",
            "        DTDForbidden\n",
            "        EntitiesForbidden\n",
            "        ExternalReferenceForbidden\n",
            "        NotSupportedError\n",
            "      NonIntersectingPathException\n",
            "    AssertionError\n",
            "    ArithmeticError\n",
            "      FloatingPointError\n",
            "      OverflowError\n",
            "      ZeroDivisionError\n",
            "        DivisionByZero\n",
            "        DivisionUndefined\n",
            "      DecimalException\n",
            "        Clamped\n",
            "        Rounded\n",
            "          Underflow\n",
            "          Overflow\n",
            "        Inexact\n",
            "          Underflow\n",
            "          Overflow\n",
            "        Subnormal\n",
            "          Underflow\n",
            "        DivisionByZero\n",
            "        FloatOperation\n",
            "        InvalidOperation\n",
            "          ConversionSyntax\n",
            "          DivisionImpossible\n",
            "          DivisionUndefined\n",
            "          InvalidContext\n",
            "    SystemError\n",
            "      CodecRegistryError\n",
            "    ReferenceError\n",
            "    MemoryError\n",
            "      MemoryError\n",
            "    BufferError\n",
            "    Warning\n",
            "      UserWarning\n",
            "        GetPassWarning\n",
            "        FormatterWarning\n",
            "        SetuptoolsWarning\n",
            "          InformationOnly\n",
            "          SetuptoolsDeprecationWarning\n",
            "            _AmbiguousMarker\n",
            "            _DeprecatedConfig\n",
            "            DistDeprecationWarning\n",
            "          _MissingDynamic\n",
            "          _ExperimentalConfiguration\n",
            "          _ToolsTypoInMetadata\n",
            "        VisibleDeprecationWarning\n",
            "        RankWarning\n",
            "        ConversionWarning\n",
            "        RankWarning\n",
            "      EncodingWarning\n",
            "      DeprecationWarning\n",
            "        ProvisionalWarning\n",
            "        ModuleDeprecationWarning\n",
            "        MatplotlibDeprecationWarning\n",
            "      PendingDeprecationWarning\n",
            "      SyntaxWarning\n",
            "      RuntimeWarning\n",
            "        ProactorSelectorThreadWarning\n",
            "        UnknownTimezoneWarning\n",
            "        ComplexWarning\n",
            "        DecompressionBombWarning\n",
            "      FutureWarning\n",
            "        ProvisionalCompleterWarning\n",
            "        MaskedArrayFutureWarning\n",
            "      ImportWarning\n",
            "      UnicodeWarning\n",
            "      BytesWarning\n",
            "      ResourceWarning\n",
            "      DeprecatedTzFormatWarning\n",
            "    _OptionError\n",
            "    error\n",
            "    Verbose\n",
            "    Error\n",
            "    _Error\n",
            "    SubprocessError\n",
            "      CalledProcessError\n",
            "      TimeoutExpired\n",
            "    Error\n",
            "    TokenError\n",
            "    StopTokenizing\n",
            "    error\n",
            "    LZMAError\n",
            "    RegistryError\n",
            "    _GiveupOnFastCopy\n",
            "    ClassFoundException\n",
            "    EndOfBlock\n",
            "    TraitError\n",
            "    _GiveupOnSendfile\n",
            "    error\n",
            "    PickleError\n",
            "      PicklingError\n",
            "      UnpicklingError\n",
            "    _Stop\n",
            "    Empty\n",
            "    Full\n",
            "    ArgumentError\n",
            "    ArgumentTypeError\n",
            "    ConfigError\n",
            "      ConfigLoaderError\n",
            "        ArgumentError\n",
            "      ConfigFileNotFound\n",
            "    ConfigurableError\n",
            "      MultipleInstanceError\n",
            "    ApplicationError\n",
            "    ErrorDuringImport\n",
            "    BdbQuit\n",
            "    Restart\n",
            "    ExceptionPexpect\n",
            "      EOF\n",
            "      TIMEOUT\n",
            "    error\n",
            "    PtyProcessError\n",
            "    FindCmdError\n",
            "    HomeDirError\n",
            "    ProfileDirError\n",
            "    IPythonCoreError\n",
            "      TryNext\n",
            "      UsageError\n",
            "      StdinNotImplementedError\n",
            "    InputRejected\n",
            "    GetoptError\n",
            "    Incomplete\n",
            "    Error\n",
            "    BadZipFile\n",
            "    LargeZipFile\n",
            "    Error\n",
            "    MessageError\n",
            "      MessageParseError\n",
            "        HeaderParseError\n",
            "          _InvalidEwError\n",
            "        BoundaryError\n",
            "      MultipartConversionError\n",
            "      CharsetError\n",
            "      HeaderWriteError\n",
            "    OptionError\n",
            "    ErrorToken\n",
            "    PrefilterError\n",
            "    AliasError\n",
            "      InvalidAliasError\n",
            "    Error\n",
            "      InterfaceError\n",
            "      DatabaseError\n",
            "        InternalError\n",
            "        OperationalError\n",
            "        ProgrammingError\n",
            "        IntegrityError\n",
            "        DataError\n",
            "        NotSupportedError\n",
            "    Warning\n",
            "    Error\n",
            "      CancelledError\n",
            "      TimeoutError\n",
            "      InvalidStateError\n",
            "    TimeoutError\n",
            "    InvalidStateError\n",
            "    LimitOverrunError\n",
            "    QueueEmpty\n",
            "    QueueFull\n",
            "    SpaceInInput\n",
            "    DOMException\n",
            "      IndexSizeErr\n",
            "      DomstringSizeErr\n",
            "      HierarchyRequestErr\n",
            "      WrongDocumentErr\n",
            "      InvalidCharacterErr\n",
            "      NoDataAllowedErr\n",
            "      NoModificationAllowedErr\n",
            "      NotFoundErr\n",
            "      NotSupportedErr\n",
            "      InuseAttributeErr\n",
            "      InvalidStateErr\n",
            "      SyntaxErr\n",
            "      InvalidModificationErr\n",
            "      NamespaceErr\n",
            "      InvalidAccessErr\n",
            "      ValidationErr\n",
            "    ValidationError\n",
            "    EditReadOnlyBuffer\n",
            "    _Retry\n",
            "    InvalidLayoutError\n",
            "    HeightIsUnknownError\n",
            "    ExpatError\n",
            "    ParseEscape\n",
            "    HTTPException\n",
            "      NotConnected\n",
            "      InvalidURL\n",
            "      UnknownProtocol\n",
            "      UnknownTransferEncoding\n",
            "      UnimplementedFileMode\n",
            "      IncompleteRead\n",
            "      ImproperConnectionState\n",
            "        CannotSendRequest\n",
            "        CannotSendHeader\n",
            "        ResponseNotReady\n",
            "      BadStatusLine\n",
            "        RemoteDisconnected\n",
            "      LineTooLong\n",
            "    InteractivelyDefined\n",
            "    KillEmbedded\n",
            "    ArgumentError\n",
            "    ZMQBaseError\n",
            "      ZMQError\n",
            "        ContextTerminated\n",
            "        Again\n",
            "        InterruptedSystemCall\n",
            "      ZMQBindError\n",
            "      NotDone\n",
            "    NoIPAddresses\n",
            "    Error\n",
            "      NoSectionError\n",
            "      DuplicateSectionError\n",
            "      DuplicateOptionError\n",
            "      NoOptionError\n",
            "      InterpolationError\n",
            "        InterpolationMissingOptionError\n",
            "        InterpolationSyntaxError\n",
            "        InterpolationDepthError\n",
            "      ParsingError\n",
            "        MissingSectionHeaderError\n",
            "    InvalidPortNumber\n",
            "    DuplicateKernelError\n",
            "    error\n",
            "    ReturnValueIgnoredError\n",
            "    KeyReuseError\n",
            "    UnknownKeyError\n",
            "    LeakedCallbackError\n",
            "    BadYieldError\n",
            "    ReturnValueIgnoredError\n",
            "    Return\n",
            "    QueueEmpty\n",
            "    QueueFull\n",
            "    IPythonError\n",
            "      KernelError\n",
            "        EngineError\n",
            "        NoEnginesRegistered\n",
            "        TaskAborted\n",
            "        TaskTimeout\n",
            "        UnmetDependency\n",
            "          ImpossibleDependency\n",
            "            DependencyTimeout\n",
            "            InvalidDependency\n",
            "        RemoteError\n",
            "          CompositeError\n",
            "          AlreadyDisplayedError\n",
            "        TaskRejectError\n",
            "    ProcessError\n",
            "      BufferTooShort\n",
            "      TimeoutError\n",
            "      AuthenticationError\n",
            "    BadEntryPoint\n",
            "    NoSuchEntryPoint\n",
            "    Error\n",
            "      NoSuchProcess\n",
            "        ZombieProcess\n",
            "      AccessDenied\n",
            "      TimeoutExpired\n",
            "    _Ipv6UnsupportedError\n",
            "    LauncherError\n",
            "      ProcessStateError\n",
            "      UnknownStatus\n",
            "      NotRunning\n",
            "    DistutilsError\n",
            "      DistutilsModuleError\n",
            "      DistutilsClassError\n",
            "      DistutilsGetoptError\n",
            "      DistutilsArgError\n",
            "      DistutilsFileError\n",
            "      DistutilsOptionError\n",
            "        InvalidConfigError\n",
            "        RemovedConfigError\n",
            "      DistutilsSetupError\n",
            "      DistutilsPlatformError\n",
            "      DistutilsExecError\n",
            "      DistutilsInternalError\n",
            "      DistutilsTemplateError\n",
            "      DistutilsByteCompileError\n",
            "      RemovedCommandError\n",
            "      PackageDiscoveryError\n",
            "    CCompilerError\n",
            "      PreprocessError\n",
            "      CompileError\n",
            "      LibError\n",
            "      LinkError\n",
            "      UnknownFileError\n",
            "    TarError\n",
            "      ExtractError\n",
            "      ReadError\n",
            "      CompressionError\n",
            "      StreamError\n",
            "      HeaderError\n",
            "        EmptyHeaderError\n",
            "        TruncatedHeaderError\n",
            "        EOFHeaderError\n",
            "        InvalidHeaderError\n",
            "        SubsequentHeaderError\n",
            "      FilterError\n",
            "        AbsolutePathError\n",
            "        OutsideDestinationError\n",
            "        SpecialFileError\n",
            "        AbsoluteLinkError\n",
            "        LinkOutsideDestinationError\n",
            "    ParserSyntaxError\n",
            "    Error\n",
            "      AuthorizationError\n",
            "      RuntimeManagementError\n",
            "      MessageError\n",
            "    WidgetException\n",
            "    JsException\n",
            "    ConverterError\n",
            "      ConverterLockError\n",
            "    MAError\n",
            "      MaskError\n",
            "    FormattedTracebackError\n",
            "    ParseBaseException\n",
            "      ParseException\n",
            "      ParseFatalException\n",
            "        ParseSyntaxException\n",
            "    RecursiveGrammarException\n",
            "    _ParseActionIndexError\n",
            "    HttpLib2Error\n",
            "      HttpLib2ErrorWithResponse\n",
            "        RedirectMissingLocation\n",
            "        RedirectLimit\n",
            "        FailedToDecompressContent\n",
            "        UnimplementedDigestAuthOptionError\n",
            "        UnimplementedHmacDigestAuthOptionError\n",
            "      MalformedHeader\n",
            "      RelativeURIError\n",
            "      ServerNotFoundError\n",
            "      ProxiesUnavailableError\n",
            "    DecompressionBombError\n",
            "    BadRequiredStrength\n",
            "    DuplicateConstraint\n",
            "    DuplicateEditVariable\n",
            "    UnknownConstraint\n",
            "    UnknownEditVariable\n",
            "    UnsatisfiableConstraint\n",
            "    NonGuiException\n",
            "    InvalidIndexError\n",
            "    TerminateTrajectory\n",
            "    NoFreePortFoundError\n",
            "    DebuggerInitializationError\n",
            "    Error\n",
            "      ProtocolError\n",
            "      ResponseError\n",
            "      Fault\n",
            "    _Error\n",
            "    UnableToResolveVariableException\n",
            "    InvalidTypeInArgsException\n",
            "    CustomError\n",
            "  GeneratorExit\n",
            "  SystemExit\n",
            "  KeyboardInterrupt\n",
            "  CancelledError\n",
            "  AbortThread\n"
          ]
        }
      ],
      "source": [
        "import inspect\n",
        "\n",
        "def print_exception_hierarchy(cls, level=0):\n",
        "    print(\"  \" * level + cls.__name__)\n",
        "    for subclass in cls.__subclasses__():\n",
        "        print_exception_hierarchy(subclass, level + 1)\n",
        "\n",
        "print_exception_hierarchy(BaseException)\n"
      ]
    },
    {
      "cell_type": "markdown",
      "source": [
        "Q3. What errors are defined in the ArithmeticError class? Explain any two with an example."
      ],
      "metadata": {
        "id": "AMGL3E25lewb"
      }
    },
    {
      "cell_type": "markdown",
      "source": [
        "\n",
        "The ArithmeticError class is a base class for all errors that occur during arithmetic operations. Subclasses include:\n",
        "\n",
        "ZeroDivisionError: Raised when dividing by zero.\n",
        "OverflowError: Raised when a mathematical operation exceeds the limit of the data type.\n",
        "FloatingPointError: Raised for floating-point operations (rarely used).\n",
        "Examples:\n",
        "1. ZeroDivisionError:"
      ],
      "metadata": {
        "id": "GnPzG-M_lckc"
      }
    },
    {
      "cell_type": "code",
      "source": [
        "try:\n",
        "    result = 10 / 0\n",
        "except ZeroDivisionError as e:\n",
        "    print(\"Error:\", e)\n"
      ],
      "metadata": {
        "colab": {
          "base_uri": "https://localhost:8080/"
        },
        "id": "_iWZYyPYlWEt",
        "outputId": "f05900bb-7d18-4ea7-8fb9-c6a5aefacd5e"
      },
      "execution_count": 3,
      "outputs": [
        {
          "output_type": "stream",
          "name": "stdout",
          "text": [
            "Error: division by zero\n"
          ]
        }
      ]
    },
    {
      "cell_type": "markdown",
      "source": [
        "2. OverflowError:"
      ],
      "metadata": {
        "id": "sUYOFt94lkg1"
      }
    },
    {
      "cell_type": "code",
      "source": [
        "try:\n",
        "    result = 2.0 ** 1000\n",
        "except OverflowError as e:\n",
        "    print(\"Error:\", e)\n"
      ],
      "metadata": {
        "id": "cJFt9pz1lh-x"
      },
      "execution_count": 4,
      "outputs": []
    },
    {
      "cell_type": "markdown",
      "source": [
        "Q4. Why LookupError class is used? Explain with an example for KeyError and IndexError."
      ],
      "metadata": {
        "id": "JqRHHVGIlppo"
      }
    },
    {
      "cell_type": "markdown",
      "source": [
        "\n",
        "The LookupError class is a base class for exceptions that occur when a lookup operation (e.g., accessing an index or key) fails. Subclasses include:\n",
        "\n",
        "IndexError: Raised when trying to access an invalid index in a sequence.\n",
        "KeyError: Raised when trying to access a non-existent key in a dictionary.\n",
        "\n",
        "Examples:\n",
        "\n",
        "KeyError:"
      ],
      "metadata": {
        "id": "RNf6eH4_lpgR"
      }
    },
    {
      "cell_type": "code",
      "source": [
        "try:\n",
        "    my_dict = {\"name\": \"Alice\"}\n",
        "    print(my_dict[\"age\"])\n",
        "except KeyError as e:\n",
        "    print(\"Error:\", e)\n"
      ],
      "metadata": {
        "colab": {
          "base_uri": "https://localhost:8080/"
        },
        "id": "yqpITqo0lmxr",
        "outputId": "a69691c7-ea82-4195-f1e3-9511fa031e38"
      },
      "execution_count": 5,
      "outputs": [
        {
          "output_type": "stream",
          "name": "stdout",
          "text": [
            "Error: 'age'\n"
          ]
        }
      ]
    },
    {
      "cell_type": "markdown",
      "source": [
        "IndexError:"
      ],
      "metadata": {
        "id": "EbRO0ai_l0WK"
      }
    },
    {
      "cell_type": "code",
      "source": [
        "try:\n",
        "    my_list = [1, 2, 3]\n",
        "    print(my_list[5])\n",
        "except IndexError as e:\n",
        "    print(\"Error:\", e)\n"
      ],
      "metadata": {
        "colab": {
          "base_uri": "https://localhost:8080/"
        },
        "id": "nHhMs2mflxg3",
        "outputId": "8ac248b8-497d-4095-da80-337996e1e6db"
      },
      "execution_count": 6,
      "outputs": [
        {
          "output_type": "stream",
          "name": "stdout",
          "text": [
            "Error: list index out of range\n"
          ]
        }
      ]
    },
    {
      "cell_type": "markdown",
      "source": [
        "Q5. Explain ImportError. What is ModuleNotFoundError?"
      ],
      "metadata": {
        "id": "PpqarBuUl5ec"
      }
    },
    {
      "cell_type": "markdown",
      "source": [
        "\n",
        "ImportError: Raised when Python fails to import a module or cannot find a specific attribute in the module.\n",
        "\n",
        "ModuleNotFoundError: A subclass of ImportError, specifically raised when Python cannot find a module.\n",
        "\n",
        "Example for ImportError:"
      ],
      "metadata": {
        "id": "FYRuXrO7l5WW"
      }
    },
    {
      "cell_type": "code",
      "source": [
        "try:\n",
        "    from math import square_root  # Incorrect attribute\n",
        "except ImportError as e:\n",
        "    print(\"Error:\", e)\n"
      ],
      "metadata": {
        "colab": {
          "base_uri": "https://localhost:8080/"
        },
        "id": "Lt_fUpEQl2uu",
        "outputId": "47c84ed2-b7a9-404a-a910-a9a85133529d"
      },
      "execution_count": 7,
      "outputs": [
        {
          "output_type": "stream",
          "name": "stdout",
          "text": [
            "Error: cannot import name 'square_root' from 'math' (unknown location)\n"
          ]
        }
      ]
    },
    {
      "cell_type": "markdown",
      "source": [
        "Example for ModuleNotFoundError:"
      ],
      "metadata": {
        "id": "C7FvImTwmCfM"
      }
    },
    {
      "cell_type": "code",
      "source": [
        "try:\n",
        "    import non_existent_module  # Non-existent module\n",
        "except ModuleNotFoundError as e:\n",
        "    print(\"Error:\", e)\n"
      ],
      "metadata": {
        "colab": {
          "base_uri": "https://localhost:8080/"
        },
        "id": "GApbhMf4l_kY",
        "outputId": "c0ac8248-293d-4394-ee9e-71c8b0e6ca09"
      },
      "execution_count": 8,
      "outputs": [
        {
          "output_type": "stream",
          "name": "stdout",
          "text": [
            "Error: No module named 'non_existent_module'\n"
          ]
        }
      ]
    },
    {
      "cell_type": "markdown",
      "source": [
        "Q6. List down some best practices for exception handling in Python."
      ],
      "metadata": {
        "id": "gyHhKy9FmH2q"
      }
    },
    {
      "cell_type": "markdown",
      "source": [
        "Use Specific Exceptions:\n",
        "\n",
        "Catch specific exceptions rather than using a general except Exception block."
      ],
      "metadata": {
        "id": "PukS7dM6mLqq"
      }
    },
    {
      "cell_type": "code",
      "source": [
        "try:\n",
        "    value = int(input(\"Enter a number: \"))\n",
        "except ValueError:\n",
        "    print(\"Please enter a valid integer.\")\n"
      ],
      "metadata": {
        "colab": {
          "base_uri": "https://localhost:8080/"
        },
        "id": "gP4Mzu5mmElh",
        "outputId": "148a22cd-2f5f-492d-ed16-88666f84c960"
      },
      "execution_count": 9,
      "outputs": [
        {
          "output_type": "stream",
          "name": "stdout",
          "text": [
            "Enter a number: a\n",
            "Please enter a valid integer.\n"
          ]
        }
      ]
    },
    {
      "cell_type": "markdown",
      "source": [
        "Use finally for Cleanup:\n",
        "\n",
        "Ensure resources like files or database connections are properly closed."
      ],
      "metadata": {
        "id": "yTeUbu3ymX3X"
      }
    },
    {
      "cell_type": "code",
      "source": [
        "try:\n",
        "    file = open(\"example.txt\", \"r\")\n",
        "finally:\n",
        "    file.close()\n"
      ],
      "metadata": {
        "id": "fZcbWZIamaYX"
      },
      "execution_count": null,
      "outputs": []
    },
    {
      "cell_type": "markdown",
      "source": [
        "Re-raise Exceptions When Necessary:\n",
        "\n",
        "Allow exceptions to propagate when appropriate, rather than suppressing them."
      ],
      "metadata": {
        "id": "3hETYeKVmy2l"
      }
    },
    {
      "cell_type": "code",
      "source": [],
      "metadata": {
        "id": "8A8PNxanmzps"
      },
      "execution_count": null,
      "outputs": []
    }
  ]
}