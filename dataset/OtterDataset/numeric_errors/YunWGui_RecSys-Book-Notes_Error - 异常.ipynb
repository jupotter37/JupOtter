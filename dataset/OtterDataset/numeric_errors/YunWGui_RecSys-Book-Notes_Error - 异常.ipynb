{
 "cells": [
  {
   "cell_type": "markdown",
   "metadata": {},
   "source": [
    "## [Python 异常处理](https://www.runoob.com/python/python-exceptions.html)"
   ]
  },
  {
   "cell_type": "markdown",
   "metadata": {},
   "source": [
    "python 提供了两个非常重要的功能来处理 python 程序在运行中出现的异常和错误：\n",
    "- 异常处理\n",
    "- 断言(Assentions)"
   ]
  },
  {
   "cell_type": "markdown",
   "metadata": {},
   "source": [
    "### Python 标准异常"
   ]
  },
  {
   "cell_type": "markdown",
   "metadata": {},
   "source": [
    "异常名称|描述\n",
    ":-:|:-:\n",
    "BaseException|所有异常的基类\n",
    "SystemExit|解释器请求退出\n",
    "KeyboardInterrupt|用户中断执行(通常是输入^C)\n",
    "Exception|常规错误的基类\n",
    "StopIteration|迭代器没有更多的值\n",
    "GeneratorExit|生成器(generator)发生异常来通知退出\n",
    "StandardError|所有的内建标准异常的基类\n",
    "ArithmeticError|所有数值计算错误的基类\n",
    "FloatingPointError|浮点计算错误\n",
    "OverflowError|数值运算超出最大限制\n",
    "ZeroDivisionError|除(或取模)零 (所有数据类型)\n",
    "AssertionError|断言语句失败\n",
    "AttributeError|对象没有这个属性\n",
    "EOFError|没有内建输入，到达EOF 标记\n",
    "EnvironmentError|操作系统错误的基类\n",
    "IOError|输入/输出操作失败\n",
    "OSError|操作系统错误\n",
    "WindowsError|系统调用失败\n",
    "ImportError|导入模块/对象失败\n",
    "LookupError|无效数据查询的基类\n",
    "IndexError|序列中没有此索引(index)\n",
    "KeyError|映射中没有这个键\n",
    "MemoryError|内存溢出错误(对于Python 解释器不是致命的)\n",
    "NameError|未声明/初始化对象 (没有属性)\n",
    "UnboundLocalError|访问未初始化的本地变量\n",
    "ReferenceError|弱引用(Weak reference)试图访问已经垃圾回收了的对象\n",
    "RuntimeError|一般的运行时错误\n",
    "NotImplementedError|尚未实现的方法\n",
    "SyntaxError|Python 语法错误\n",
    "IndentationError|缩进错误\n",
    "TabError|Tab 和空格混用\n",
    "SystemError|一般的解释器系统错误\n",
    "TypeError|对类型无效的操作\n",
    "ValueError|传入无效的参数\n",
    "UnicodeError|Unicode 相关的错误\n",
    "UnicodeDecodeError|Unicode 解码时的错误\n",
    "UnicodeEncodeError|Unicode 编码时错误\n",
    "UnicodeTranslateError|Unicode 转换时错误\n",
    "Warning|警告的基类\n",
    "DeprecationWarning|关于被弃用的特征的警告\n",
    "FutureWarning|关于构造将来语义会有改变的警告\n",
    "OverflowWarning|旧的关于自动提升为长整型(long)的警告\n",
    "PendingDeprecationWarning|关于特性将会被废弃的警告\n",
    "RuntimeWarning|可疑的运行时行为(runtime behavior)的警告\n",
    "SyntaxWarning|可疑的语法的警告\n",
    "UserWarning|用户代码生成的警告"
   ]
  },
  {
   "cell_type": "markdown",
   "metadata": {},
   "source": [
    "### 异常处理"
   ]
  },
  {
   "cell_type": "code",
   "execution_count": 9,
   "metadata": {},
   "outputs": [
    {
     "name": "stdout",
     "output_type": "stream",
     "text": [
      "内容写入文件成功\n"
     ]
    }
   ],
   "source": [
    "# try / except / else\n",
    "\n",
    "try:\n",
    "    fh = open(\"testfile\", \"w\")\n",
    "    fh.write(\"这是一个测试文件，用于测试异常!!\")\n",
    "except IOError:\n",
    "    print (\"Error: 没有找到文件或读取文件失败\")\n",
    "else:\n",
    "    print (\"内容写入文件成功\")\n",
    "    fh.close()"
   ]
  },
  {
   "cell_type": "code",
   "execution_count": 10,
   "metadata": {},
   "outputs": [
    {
     "name": "stdout",
     "output_type": "stream",
     "text": [
      "Error: 没有找到文件或读取文件失败\n"
     ]
    }
   ],
   "source": [
    "try:\n",
    "    fh = open(\"testfile\")\n",
    "    fh.write(\"这是一个测试文件，用于测试异常!!\")\n",
    "except IOError:\n",
    "    print (\"Error: 没有找到文件或读取文件失败\")\n",
    "else:\n",
    "    print (\"内容写入文件成功\")\n",
    "    fh.close()"
   ]
  },
  {
   "cell_type": "code",
   "execution_count": 12,
   "metadata": {},
   "outputs": [
    {
     "name": "stdout",
     "output_type": "stream",
     "text": [
      "Error: 没有找到文件或读取文件失败\n"
     ]
    }
   ],
   "source": [
    "# 使用except而不带任何异常类型，但这不是一个很好的方式，我们不能通过该程序识别出具体的异常信息。\n",
    "# 因为它捕获所有的异常。\n",
    "\n",
    "# try / except / finally\n",
    "\n",
    "try:\n",
    "    fh = open(\"testfile\", \"w\")\n",
    "    fh.write(\"这是一个测试文件，用于测试异常!!\")\n",
    "finally:  # 无论是否发生异常，都将执行 finally 的代码\n",
    "    print (\"Error: 没有找到文件或读取文件失败\")"
   ]
  },
  {
   "cell_type": "code",
   "execution_count": 14,
   "metadata": {},
   "outputs": [
    {
     "name": "stdout",
     "output_type": "stream",
     "text": [
      "关闭文件\n",
      "Error: 没有找到文件或读取文件失败\n"
     ]
    }
   ],
   "source": [
    "try:\n",
    "    fh = open(\"testfile\")\n",
    "    try:\n",
    "        fh.write(\"这是一个测试文件，用于测试异常!!\")\n",
    "    finally:\n",
    "        print (\"关闭文件\")\n",
    "        fh.close()\n",
    "except IOError:\n",
    "    print (\"Error: 没有找到文件或读取文件失败\")\n",
    "    \n",
    "# 当在try块中抛出一个异常，立即执行finally块代码。\n",
    "# finally块中的所有语句执行后，异常被再次触发，并执行except块代码。"
   ]
  },
  {
   "cell_type": "markdown",
   "metadata": {},
   "source": [
    "### 异常的参数"
   ]
  },
  {
   "cell_type": "markdown",
   "metadata": {},
   "source": [
    "一个异常可以带上参数，可作为输出的异常信息参数。  \n",
    "可以通过except语句来捕获异常的参数，如下所示："
   ]
  },
  {
   "cell_type": "code",
   "execution_count": 15,
   "metadata": {},
   "outputs": [
    {
     "ename": "SyntaxError",
     "evalue": "invalid syntax (<ipython-input-15-ae8ef032c8bc>, line 5)",
     "output_type": "error",
     "traceback": [
      "\u001b[1;36m  File \u001b[1;32m\"<ipython-input-15-ae8ef032c8bc>\"\u001b[1;36m, line \u001b[1;32m5\u001b[0m\n\u001b[1;33m    except ValueError, Argument:\u001b[0m\n\u001b[1;37m                     ^\u001b[0m\n\u001b[1;31mSyntaxError\u001b[0m\u001b[1;31m:\u001b[0m invalid syntax\n"
     ]
    }
   ],
   "source": [
    "# 定义函数\n",
    "def temp_convert(var):\n",
    "    try:\n",
    "        return int(var)\n",
    "    except ValueError, Argument:\n",
    "        print (\"参数没有包含数字\\n\", Argument)\n",
    "\n",
    "# 调用函数\n",
    "temp_convert(\"xyz\");"
   ]
  },
  {
   "cell_type": "code",
   "execution_count": null,
   "metadata": {},
   "outputs": [],
   "source": []
  },
  {
   "cell_type": "markdown",
   "metadata": {},
   "source": [
    "[Python 异常和错误](https://www.runoob.com/python3/python3-errors-execptions.html)"
   ]
  },
  {
   "cell_type": "markdown",
   "metadata": {},
   "source": [
    "### 异常处理"
   ]
  },
  {
   "cell_type": "code",
   "execution_count": 16,
   "metadata": {},
   "outputs": [
    {
     "name": "stdout",
     "output_type": "stream",
     "text": [
      "Please enter a number: d\n",
      "Oops! That was no valid number. Try again\n",
      "Please enter a number: 3\n"
     ]
    }
   ],
   "source": [
    "while True:\n",
    "    try:\n",
    "        x = int(input(\"Please enter a number: \"))\n",
    "        break\n",
    "    except ValueError:\n",
    "        print(\"Oops! That was no valid number. Try again\")"
   ]
  },
  {
   "cell_type": "code",
   "execution_count": 20,
   "metadata": {},
   "outputs": [
    {
     "name": "stdout",
     "output_type": "stream",
     "text": [
      "OS error\n",
      "OS error: [Errno 2] No such file or directory: 'myfile.txt'\n"
     ]
    }
   ],
   "source": [
    "# 一个 except 子句可以同时处理多个异常，这些异常将被放在一个括号里成为一个元组，例如:\n",
    "# except (RuntimeError, TypeError, NameError):\n",
    "#         pass\n",
    "\n",
    "# 最后一个except子句可以忽略异常的名称，它将被当作通配符使用。你可以使用这种方法打印一个错误信息，然后再次把异常抛出。\n",
    "\n",
    "import sys\n",
    " \n",
    "try:\n",
    "    f = open('myfile.txt')\n",
    "    s = f.readline()\n",
    "    i = int(s.strip())\n",
    "except OSError as err:\n",
    "    print(\"OS error\")\n",
    "    print(\"OS error: {0}\".format(err))\n",
    "except ValueError:\n",
    "    print(\"Could not convert data to an integer.\")\n",
    "except:\n",
    "    print(\"Unexpected error:\", sys.exc_info()[0])\n",
    "    raise"
   ]
  },
  {
   "cell_type": "markdown",
   "metadata": {},
   "source": [
    "### 抛出异常"
   ]
  },
  {
   "cell_type": "markdown",
   "metadata": {},
   "source": [
    "Python 使用 raise 语句抛出一个指定的异常。"
   ]
  },
  {
   "cell_type": "code",
   "execution_count": 22,
   "metadata": {},
   "outputs": [
    {
     "ename": "NameError",
     "evalue": "HiThere",
     "output_type": "error",
     "traceback": [
      "\u001b[1;31m---------------------------------------------------------------------------\u001b[0m",
      "\u001b[1;31mNameError\u001b[0m                                 Traceback (most recent call last)",
      "\u001b[1;32m<ipython-input-22-4e872b7ffd0c>\u001b[0m in \u001b[0;36m<module>\u001b[1;34m\u001b[0m\n\u001b[1;32m----> 1\u001b[1;33m \u001b[1;32mraise\u001b[0m \u001b[0mNameError\u001b[0m\u001b[1;33m(\u001b[0m\u001b[1;34m\"HiThere\"\u001b[0m\u001b[1;33m)\u001b[0m\u001b[1;33m\u001b[0m\u001b[1;33m\u001b[0m\u001b[0m\n\u001b[0m",
      "\u001b[1;31mNameError\u001b[0m: HiThere"
     ]
    }
   ],
   "source": [
    "raise NameError(\"HiThere\")"
   ]
  },
  {
   "cell_type": "markdown",
   "metadata": {},
   "source": [
    "### 处理带参数的异常"
   ]
  },
  {
   "cell_type": "code",
   "execution_count": 28,
   "metadata": {},
   "outputs": [
    {
     "name": "stdout",
     "output_type": "stream",
     "text": [
      "参数没有包含数字\n",
      " invalid literal for int() with base 10: 'xyz'\n"
     ]
    }
   ],
   "source": [
    "# 定义函数\n",
    "def temp_convert(var):\n",
    "    try:\n",
    "        return int(var)\n",
    "    except ValueError as err:\n",
    "        print (\"参数没有包含数字\\n\", err)\n",
    "\n",
    "# 调用函数\n",
    "temp_convert(\"xyz\");"
   ]
  },
  {
   "cell_type": "code",
   "execution_count": 29,
   "metadata": {},
   "outputs": [
    {
     "name": "stdout",
     "output_type": "stream",
     "text": [
      "参数没有包含数字\n",
      " invalid literal for int() with base 10: 'xyz'\n"
     ]
    }
   ],
   "source": [
    "# 定义函数\n",
    "def temp_convert(var):\n",
    "    try:\n",
    "        return int(var)\n",
    "    except ValueError as err:\n",
    "        print (\"参数没有包含数字\\n\", err)\n",
    "\n",
    "# 调用函数\n",
    "temp_convert(\"xyz\");"
   ]
  },
  {
   "cell_type": "markdown",
   "metadata": {},
   "source": [
    "Python3 内置异常类型的结构"
   ]
  },
  {
   "cell_type": "code",
   "execution_count": null,
   "metadata": {},
   "outputs": [],
   "source": [
    "# BaseException\n",
    "#  +-- SystemExit\n",
    "#  +-- KeyboardInterrupt\n",
    "#  +-- GeneratorExit\n",
    "#  +-- Exception\n",
    "#       +-- StopIteration\n",
    "#       +-- StopAsyncIteration\n",
    "#       +-- ArithmeticError\n",
    "#       |    +-- FloatingPointError\n",
    "#       |    +-- OverflowError\n",
    "#       |    +-- ZeroDivisionError\n",
    "#       +-- AssertionError\n",
    "#       +-- AttributeError\n",
    "#       +-- BufferError\n",
    "#       +-- EOFError\n",
    "#       +-- ImportError\n",
    "#       |    +-- ModuleNotFoundError\n",
    "#       +-- LookupError\n",
    "#       |    +-- IndexError\n",
    "#       |    +-- KeyError\n",
    "#       +-- MemoryError\n",
    "#       +-- NameError\n",
    "#       |    +-- UnboundLocalError\n",
    "#       +-- OSError\n",
    "#       |    +-- BlockingIOError\n",
    "#       |    +-- ChildProcessError\n",
    "#       |    +-- ConnectionError\n",
    "#       |    |    +-- BrokenPipeError\n",
    "#       |    |    +-- ConnectionAbortedError\n",
    "#       |    |    +-- ConnectionRefusedError\n",
    "#       |    |    +-- ConnectionResetError\n",
    "#       |    +-- FileExistsError\n",
    "#       |    +-- FileNotFoundError\n",
    "#       |    +-- InterruptedError\n",
    "#       |    +-- IsADirectoryError\n",
    "#       |    +-- NotADirectoryError\n",
    "#       |    +-- PermissionError\n",
    "#       |    +-- ProcessLookupError\n",
    "#       |    +-- TimeoutError\n",
    "#       +-- ReferenceError\n",
    "#       +-- RuntimeError\n",
    "#       |    +-- NotImplementedError\n",
    "#       |    +-- RecursionError\n",
    "#       +-- SyntaxError\n",
    "#       |    +-- IndentationError\n",
    "#       |         +-- TabError\n",
    "#       +-- SystemError\n",
    "#       +-- TypeError\n",
    "#       +-- ValueError\n",
    "#       |    +-- UnicodeError\n",
    "#       |         +-- UnicodeDecodeError\n",
    "#       |         +-- UnicodeEncodeError\n",
    "#       |         +-- UnicodeTranslateError\n",
    "#       +-- Warning\n",
    "#            +-- DeprecationWarning\n",
    "#            +-- PendingDeprecationWarning\n",
    "#            +-- RuntimeWarning\n",
    "#            +-- SyntaxWarning\n",
    "#            +-- UserWarning\n",
    "#            +-- FutureWarning\n",
    "#            +-- ImportWarning\n",
    "#            +-- UnicodeWarning\n",
    "#            +-- BytesWarning\n",
    "#            +-- ResourceWarning"
   ]
  }
 ],
 "metadata": {
  "kernelspec": {
   "display_name": "Python 3",
   "language": "python",
   "name": "python3"
  },
  "language_info": {
   "codemirror_mode": {
    "name": "ipython",
    "version": 3
   },
   "file_extension": ".py",
   "mimetype": "text/x-python",
   "name": "python",
   "nbconvert_exporter": "python",
   "pygments_lexer": "ipython3",
   "version": "3.7.6"
  }
 },
 "nbformat": 4,
 "nbformat_minor": 4
}
