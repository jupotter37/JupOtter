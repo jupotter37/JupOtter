{
 "cells": [
  {
   "cell_type": "raw",
   "id": "20ecdce8-74aa-4edb-98b9-ecc0962182f2",
   "metadata": {},
   "source": [
    "Q1. Explain why we have to use the Exception class while creating a Custom Exception."
   ]
  },
  {
   "cell_type": "markdown",
   "id": "8c00e3ce-823f-4f68-9198-8adb194eb94a",
   "metadata": {},
   "source": [
    "Creating custom exceptions can help improve the clarity and manageability of your code by providing more specific information about the errors that occur within your program. Using the built-in Exception class as a base for your custom exceptions offers several benefits:\n",
    "\n",
    "Better Understanding: When you create a custom exception by inheriting from the Exception class, you can give your exception a meaningful name that reflects the specific error scenario. This makes it easier for other developers (and even yourself) to understand what went wrong without digging deep into the code.\n",
    "\n",
    "Hierarchy and Organization: By using the Exception class as the base, you can create a hierarchy of custom exceptions. For example, you might have a base custom exception for a certain category of errors, and then more specific exceptions that inherit from it. This hierarchy can help you categorize and handle different types of errors more effectively.\n",
    "\n",
    "Consistency: When you extend the Exception class, you inherit its behavior and methods. This ensures that your custom exceptions will work consistently with the rest of the exception handling mechanisms in your programming language.\n",
    "\n",
    "Compatibility: Since many programming languages and libraries are designed to work with the base Exception class, using it as a foundation for your custom exceptions makes it easier to integrate your code with existing error handling mechanisms.\n",
    "\n",
    "Error Context: The Exception class often includes features that allow you to provide additional context or information about the error, such as an error message or error code. This information can be crucial for diagnosing and fixing issues.\n",
    "\n",
    "Standardization: Using the Exception class as a base ensures that your custom exceptions adhere to common programming practices and conventions. This makes your code more readable and understandable for other developers.\n",
    "\n",
    "Here's a simple example in Python:"
   ]
  },
  {
   "cell_type": "code",
   "execution_count": 1,
   "id": "49d1e764-b08e-4856-901f-d7f7b46b84f2",
   "metadata": {},
   "outputs": [
    {
     "name": "stdout",
     "output_type": "stream",
     "text": [
      "Custom error occurred: This is a custom error message.\n"
     ]
    }
   ],
   "source": [
    "class CustomError(Exception):\n",
    "    def __init__(self, message):\n",
    "        self.message = message\n",
    "        super().__init__(self.message)\n",
    "\n",
    "try:\n",
    "    # Something that might raise an exception\n",
    "    raise CustomError(\"This is a custom error message.\")\n",
    "except CustomError as ce:\n",
    "    print(\"Custom error occurred:\", ce)\n"
   ]
  },
  {
   "cell_type": "markdown",
   "id": "e15e74e1-fca5-4d68-9f7f-91f0ecc45a77",
   "metadata": {},
   "source": [
    "In this example, CustomError is a custom exception that inherits from the Exception class. By using the Exception class as the base, we are able to define and handle custom exceptions in a consistent and standardized way.\n",
    "\n",
    "In summary, using the Exception class as the base for your custom exceptions provides a foundation that ensures your custom exceptions are well-structured, consistent, and integrate seamlessly with existing exception handling mechanisms."
   ]
  },
  {
   "cell_type": "raw",
   "id": "862a7e02-a404-40d0-84ed-b5f203cbf352",
   "metadata": {},
   "source": [
    "Q2. Write a python program to print Python Exception Hierarchy."
   ]
  },
  {
   "cell_type": "code",
   "execution_count": 2,
   "id": "ac7ef310-c316-4716-9cbd-0be162cb86fd",
   "metadata": {},
   "outputs": [
    {
     "name": "stdout",
     "output_type": "stream",
     "text": [
      "<class 'BaseException'>\n",
      "    <class 'Exception'>\n",
      "        <class 'TypeError'>\n",
      "            <class 'decimal.FloatOperation'>\n",
      "            <class 'email.errors.MultipartConversionError'>\n",
      "        <class 'StopAsyncIteration'>\n",
      "        <class 'StopIteration'>\n",
      "        <class 'ImportError'>\n",
      "            <class 'ModuleNotFoundError'>\n",
      "            <class 'zipimport.ZipImportError'>\n",
      "        <class 'OSError'>\n",
      "            <class 'ConnectionError'>\n",
      "                <class 'BrokenPipeError'>\n",
      "                <class 'ConnectionAbortedError'>\n",
      "                <class 'ConnectionRefusedError'>\n",
      "                <class 'ConnectionResetError'>\n",
      "                    <class 'http.client.RemoteDisconnected'>\n",
      "            <class 'BlockingIOError'>\n",
      "            <class 'ChildProcessError'>\n",
      "            <class 'FileExistsError'>\n",
      "            <class 'FileNotFoundError'>\n",
      "            <class 'IsADirectoryError'>\n",
      "            <class 'NotADirectoryError'>\n",
      "            <class 'InterruptedError'>\n",
      "                <class 'zmq.error.InterruptedSystemCall'>\n",
      "            <class 'PermissionError'>\n",
      "            <class 'ProcessLookupError'>\n",
      "            <class 'TimeoutError'>\n",
      "            <class 'io.UnsupportedOperation'>\n",
      "            <class 'signal.itimer_error'>\n",
      "            <class 'socket.herror'>\n",
      "            <class 'socket.gaierror'>\n",
      "            <class 'ssl.SSLError'>\n",
      "                <class 'ssl.SSLCertVerificationError'>\n",
      "                <class 'ssl.SSLZeroReturnError'>\n",
      "                <class 'ssl.SSLWantWriteError'>\n",
      "                <class 'ssl.SSLWantReadError'>\n",
      "                <class 'ssl.SSLSyscallError'>\n",
      "                <class 'ssl.SSLEOFError'>\n",
      "            <class 'shutil.Error'>\n",
      "                <class 'shutil.SameFileError'>\n",
      "            <class 'shutil.SpecialFileError'>\n",
      "            <class 'shutil.ExecError'>\n",
      "            <class 'shutil.ReadError'>\n",
      "            <class 'urllib.error.URLError'>\n",
      "                <class 'urllib.error.HTTPError'>\n",
      "                <class 'urllib.error.ContentTooShortError'>\n",
      "            <class 'gzip.BadGzipFile'>\n",
      "        <class 'EOFError'>\n",
      "            <class 'asyncio.exceptions.IncompleteReadError'>\n",
      "        <class 'RuntimeError'>\n",
      "            <class 'RecursionError'>\n",
      "            <class 'NotImplementedError'>\n",
      "                <class 'zmq.error.ZMQVersionError'>\n",
      "                <class 'IPython.core.error.StdinNotImplementedError'>\n",
      "            <class '_frozen_importlib._DeadlockError'>\n",
      "            <class 'threading.BrokenBarrierError'>\n",
      "            <class 'concurrent.futures._base.BrokenExecutor'>\n",
      "                <class 'concurrent.futures.thread.BrokenThreadPool'>\n",
      "            <class 'asyncio.exceptions.SendfileNotAvailableError'>\n",
      "            <class 'pkg_resources.ExtractionError'>\n",
      "            <class '_pydevd_bundle.pydevd_vars.VariableError'>\n",
      "        <class 'NameError'>\n",
      "            <class 'UnboundLocalError'>\n",
      "        <class 'AttributeError'>\n",
      "            <class 'dataclasses.FrozenInstanceError'>\n",
      "        <class 'SyntaxError'>\n",
      "            <class 'IndentationError'>\n",
      "                <class 'TabError'>\n",
      "        <class 'LookupError'>\n",
      "            <class 'IndexError'>\n",
      "            <class 'KeyError'>\n",
      "                <class 'jupyter_client.kernelspec.NoSuchKernel'>\n",
      "                <class 'IPython.terminal.pt_inputhooks.UnknownBackend'>\n",
      "            <class 'encodings.CodecRegistryError'>\n",
      "        <class 'ValueError'>\n",
      "            <class 'UnicodeError'>\n",
      "                <class 'UnicodeEncodeError'>\n",
      "                <class 'UnicodeDecodeError'>\n",
      "                <class 'UnicodeTranslateError'>\n",
      "            <class 'io.UnsupportedOperation'>\n",
      "            <class 'json.decoder.JSONDecodeError'>\n",
      "            <class 'ssl.SSLCertVerificationError'>\n",
      "            <class 'binascii.Error'>\n",
      "            <class '_hashlib.UnsupportedDigestmodError'>\n",
      "            <class 'calendar.IllegalMonthError'>\n",
      "            <class 'calendar.IllegalWeekdayError'>\n",
      "            <class 'dateutil.parser._parser.ParserError'>\n",
      "            <class 'pygments.util.ClassNotFound'>\n",
      "            <class 'IPython.lib.clipboard.ClipboardEmpty'>\n",
      "            <class 'email.errors.MessageDefect'>\n",
      "                <class 'email.errors.NoBoundaryInMultipartDefect'>\n",
      "                <class 'email.errors.StartBoundaryNotFoundDefect'>\n",
      "                <class 'email.errors.CloseBoundaryNotFoundDefect'>\n",
      "                <class 'email.errors.FirstHeaderLineIsContinuationDefect'>\n",
      "                <class 'email.errors.MisplacedEnvelopeHeaderDefect'>\n",
      "                <class 'email.errors.MissingHeaderBodySeparatorDefect'>\n",
      "                <class 'email.errors.MultipartInvariantViolationDefect'>\n",
      "                <class 'email.errors.InvalidMultipartContentTransferEncodingDefect'>\n",
      "                <class 'email.errors.UndecodableBytesDefect'>\n",
      "                <class 'email.errors.InvalidBase64PaddingDefect'>\n",
      "                <class 'email.errors.InvalidBase64CharactersDefect'>\n",
      "                <class 'email.errors.InvalidBase64LengthDefect'>\n",
      "                <class 'email.errors.HeaderDefect'>\n",
      "                    <class 'email.errors.InvalidHeaderDefect'>\n",
      "                    <class 'email.errors.HeaderMissingRequiredValue'>\n",
      "                    <class 'email.errors.NonPrintableDefect'>\n",
      "                    <class 'email.errors.ObsoleteHeaderDefect'>\n",
      "                    <class 'email.errors.NonASCIILocalPartDefect'>\n",
      "                    <class 'email.errors.InvalidDateDefect'>\n",
      "            <class 'IPython.core.magics.code.MacroToEdit'>\n",
      "            <class 'plistlib.InvalidFileException'>\n",
      "            <class 'pkg_resources._vendor.more_itertools.more.UnequalIterablesError'>\n",
      "            <class 'pkg_resources.extern.packaging.version.InvalidVersion'>\n",
      "            <class 'pkg_resources._vendor.packaging._manylinux._ELFFileHeader._InvalidELFFileHeader'>\n",
      "            <class 'pkg_resources.extern.packaging.utils.InvalidWheelFilename'>\n",
      "            <class 'pkg_resources.extern.packaging.utils.InvalidSdistFilename'>\n",
      "            <class 'pkg_resources.extern.packaging.specifiers.InvalidSpecifier'>\n",
      "            <class 'pkg_resources.extern.packaging.markers.InvalidMarker'>\n",
      "            <class 'pkg_resources.extern.packaging.markers.UndefinedComparison'>\n",
      "            <class 'pkg_resources.extern.packaging.markers.UndefinedEnvironmentName'>\n",
      "            <class 'pkg_resources.extern.packaging.requirements.InvalidRequirement'>\n",
      "                <class 'pkg_resources.RequirementParseError'>\n",
      "            <class 'packaging.version.InvalidVersion'>\n",
      "        <class 'AssertionError'>\n",
      "        <class 'ArithmeticError'>\n",
      "            <class 'FloatingPointError'>\n",
      "            <class 'OverflowError'>\n",
      "            <class 'ZeroDivisionError'>\n",
      "                <class 'decimal.DivisionByZero'>\n",
      "                <class 'decimal.DivisionUndefined'>\n",
      "            <class 'decimal.DecimalException'>\n",
      "                <class 'decimal.Clamped'>\n",
      "                <class 'decimal.Rounded'>\n",
      "                    <class 'decimal.Underflow'>\n",
      "                    <class 'decimal.Overflow'>\n",
      "                <class 'decimal.Inexact'>\n",
      "                    <class 'decimal.Underflow'>\n",
      "                    <class 'decimal.Overflow'>\n",
      "                <class 'decimal.Subnormal'>\n",
      "                    <class 'decimal.Underflow'>\n",
      "                <class 'decimal.DivisionByZero'>\n",
      "                <class 'decimal.FloatOperation'>\n",
      "                <class 'decimal.InvalidOperation'>\n",
      "                    <class 'decimal.ConversionSyntax'>\n",
      "                    <class 'decimal.DivisionImpossible'>\n",
      "                    <class 'decimal.DivisionUndefined'>\n",
      "                    <class 'decimal.InvalidContext'>\n",
      "        <class 'SystemError'>\n",
      "            <class 'encodings.CodecRegistryError'>\n",
      "        <class 'ReferenceError'>\n",
      "        <class 'MemoryError'>\n",
      "        <class 'BufferError'>\n",
      "        <class 'Warning'>\n",
      "            <class 'UserWarning'>\n",
      "                <class 'getpass.GetPassWarning'>\n",
      "                <class 'IPython.core.formatters.FormatterWarning'>\n",
      "            <class 'EncodingWarning'>\n",
      "            <class 'DeprecationWarning'>\n",
      "                <class 'IPython.core.interactiveshell.ProvisionalWarning'>\n",
      "            <class 'PendingDeprecationWarning'>\n",
      "            <class 'SyntaxWarning'>\n",
      "            <class 'RuntimeWarning'>\n",
      "                <class 'zmq.asyncio.ProactorSelectorThreadWarning'>\n",
      "                <class 'dateutil.parser._parser.UnknownTimezoneWarning'>\n",
      "                <class 'pkg_resources.PEP440Warning'>\n",
      "            <class 'FutureWarning'>\n",
      "                <class 'IPython.core.completer.ProvisionalCompleterWarning'>\n",
      "            <class 'ImportWarning'>\n",
      "            <class 'UnicodeWarning'>\n",
      "            <class 'BytesWarning'>\n",
      "            <class 'ResourceWarning'>\n",
      "            <class 'dateutil.tz.DeprecatedTzFormatWarning'>\n",
      "            <class 'pkg_resources.PkgResourcesDeprecationWarning'>\n",
      "        <class 'warnings._OptionError'>\n",
      "        <class 'runpy._Error'>\n",
      "        <class 're.error'>\n",
      "        <class 'sre_parse.Verbose'>\n",
      "        <class 'locale.Error'>\n",
      "        <class 'subprocess.SubprocessError'>\n",
      "            <class 'subprocess.CalledProcessError'>\n",
      "            <class 'subprocess.TimeoutExpired'>\n",
      "        <class 'tokenize.TokenError'>\n",
      "        <class 'tokenize.StopTokenizing'>\n",
      "        <class 'inspect.ClassFoundException'>\n",
      "        <class 'inspect.EndOfBlock'>\n",
      "        <class 'traitlets.traitlets.TraitError'>\n",
      "        <class 'copy.Error'>\n",
      "        <class 'concurrent.futures._base.Error'>\n",
      "            <class 'concurrent.futures._base.CancelledError'>\n",
      "            <class 'concurrent.futures._base.TimeoutError'>\n",
      "            <class 'concurrent.futures._base.InvalidStateError'>\n",
      "        <class 'socket._GiveupOnSendfile'>\n",
      "        <class 'struct.error'>\n",
      "        <class 'binascii.Incomplete'>\n",
      "        <class 'asyncio.exceptions.TimeoutError'>\n",
      "        <class 'asyncio.exceptions.InvalidStateError'>\n",
      "        <class 'asyncio.exceptions.LimitOverrunError'>\n",
      "        <class 'asyncio.queues.QueueEmpty'>\n",
      "        <class 'asyncio.queues.QueueFull'>\n",
      "        <class '_queue.Empty'>\n",
      "        <class 'queue.Full'>\n",
      "        <class 'ctypes.ArgumentError'>\n",
      "        <class 'zmq.error.ZMQBaseError'>\n",
      "            <class 'zmq.error.ZMQError'>\n",
      "                <class 'zmq.error.ContextTerminated'>\n",
      "                <class 'zmq.error.Again'>\n",
      "                <class 'zmq.error.InterruptedSystemCall'>\n",
      "            <class 'zmq.error.ZMQBindError'>\n",
      "            <class 'zmq.error.NotDone'>\n",
      "        <class '_pickle.PickleError'>\n",
      "            <class '_pickle.PicklingError'>\n",
      "            <class '_pickle.UnpicklingError'>\n",
      "        <class 'pickle._Stop'>\n",
      "        <class 'argparse.ArgumentError'>\n",
      "        <class 'argparse.ArgumentTypeError'>\n",
      "        <class 'traitlets.config.loader.ConfigError'>\n",
      "            <class 'traitlets.config.loader.ConfigLoaderError'>\n",
      "                <class 'traitlets.config.loader.ArgumentError'>\n",
      "            <class 'traitlets.config.loader.ConfigFileNotFound'>\n",
      "        <class 'traitlets.config.configurable.ConfigurableError'>\n",
      "            <class 'traitlets.config.configurable.MultipleInstanceError'>\n",
      "        <class 'traitlets.config.application.ApplicationError'>\n",
      "        <class 'zlib.error'>\n",
      "        <class 'tornado.util.TimeoutError'>\n",
      "        <class '_curses.error'>\n",
      "        <class 'tornado.concurrent.ReturnValueIgnoredError'>\n",
      "        <class 'tornado.gen.KeyReuseError'>\n",
      "        <class 'tornado.gen.UnknownKeyError'>\n",
      "        <class 'tornado.gen.LeakedCallbackError'>\n",
      "        <class 'tornado.gen.BadYieldError'>\n",
      "        <class 'tornado.gen.ReturnValueIgnoredError'>\n",
      "        <class 'tornado.gen.Return'>\n",
      "        <class 'jupyter_client.channels.InvalidPortNumber'>\n",
      "        <class 'termios.error'>\n",
      "        <class '_lzma.LZMAError'>\n",
      "        <class 'shutil.RegistryError'>\n",
      "        <class 'shutil._GiveupOnFastCopy'>\n",
      "        <class 'configparser.Error'>\n",
      "            <class 'configparser.NoSectionError'>\n",
      "            <class 'configparser.DuplicateSectionError'>\n",
      "            <class 'configparser.DuplicateOptionError'>\n",
      "            <class 'configparser.NoOptionError'>\n",
      "            <class 'configparser.InterpolationError'>\n",
      "                <class 'configparser.InterpolationMissingOptionError'>\n",
      "                <class 'configparser.InterpolationSyntaxError'>\n",
      "                <class 'configparser.InterpolationDepthError'>\n",
      "            <class 'configparser.ParsingError'>\n",
      "                <class 'configparser.MissingSectionHeaderError'>\n",
      "        <class 'jupyter_client.localinterfaces.NoIPAddresses'>\n",
      "        <class 'zipfile.BadZipFile'>\n",
      "        <class 'zipfile.LargeZipFile'>\n",
      "        <class 'entrypoints.BadEntryPoint'>\n",
      "        <class 'entrypoints.NoSuchEntryPoint'>\n",
      "        <class 'jupyter_client.multikernelmanager.DuplicateKernelError'>\n",
      "        <class 'pydoc.ErrorDuringImport'>\n",
      "        <class 'executing.executing.NotOneValueFound'>\n",
      "        <class 'pure_eval.utils.CannotEval'>\n",
      "        <class 'pygments.util.OptionError'>\n",
      "        <class 'bdb.BdbQuit'>\n",
      "        <class 'pdb.Restart'>\n",
      "        <class 'pexpect.exceptions.ExceptionPexpect'>\n",
      "            <class 'pexpect.exceptions.EOF'>\n",
      "            <class 'pexpect.exceptions.TIMEOUT'>\n",
      "        <class 'ptyprocess.util.PtyProcessError'>\n",
      "        <class 'IPython.utils.process.FindCmdError'>\n",
      "        <class 'IPython.utils.path.HomeDirError'>\n",
      "        <class 'IPython.core.profiledir.ProfileDirError'>\n",
      "        <class 'IPython.core.error.IPythonCoreError'>\n",
      "            <class 'IPython.core.error.TryNext'>\n",
      "            <class 'IPython.core.error.UsageError'>\n",
      "            <class 'IPython.core.error.StdinNotImplementedError'>\n",
      "        <class 'IPython.core.error.InputRejected'>\n",
      "        <class 'getopt.GetoptError'>\n",
      "        <class 'pygments.filters.ErrorToken'>\n",
      "        <class 'IPython.core.prefilter.PrefilterError'>\n",
      "        <class 'IPython.core.alias.AliasError'>\n",
      "            <class 'IPython.core.alias.InvalidAliasError'>\n",
      "        <class 'sqlite3.Error'>\n",
      "            <class 'sqlite3.InterfaceError'>\n",
      "            <class 'sqlite3.DatabaseError'>\n",
      "                <class 'sqlite3.InternalError'>\n",
      "                <class 'sqlite3.OperationalError'>\n",
      "                <class 'sqlite3.ProgrammingError'>\n",
      "                <class 'sqlite3.IntegrityError'>\n",
      "                <class 'sqlite3.DataError'>\n",
      "                <class 'sqlite3.NotSupportedError'>\n",
      "        <class 'sqlite3.Warning'>\n",
      "        <class 'IPython.core.interactiveshell.SpaceInInput'>\n",
      "        <class 'xml.dom.DOMException'>\n",
      "            <class 'xml.dom.IndexSizeErr'>\n",
      "            <class 'xml.dom.DomstringSizeErr'>\n",
      "            <class 'xml.dom.HierarchyRequestErr'>\n",
      "            <class 'xml.dom.WrongDocumentErr'>\n",
      "            <class 'xml.dom.InvalidCharacterErr'>\n",
      "            <class 'xml.dom.NoDataAllowedErr'>\n",
      "            <class 'xml.dom.NoModificationAllowedErr'>\n",
      "            <class 'xml.dom.NotFoundErr'>\n",
      "            <class 'xml.dom.NotSupportedErr'>\n",
      "            <class 'xml.dom.InuseAttributeErr'>\n",
      "            <class 'xml.dom.InvalidStateErr'>\n",
      "            <class 'xml.dom.SyntaxErr'>\n",
      "            <class 'xml.dom.InvalidModificationErr'>\n",
      "            <class 'xml.dom.NamespaceErr'>\n",
      "            <class 'xml.dom.InvalidAccessErr'>\n",
      "            <class 'xml.dom.ValidationErr'>\n",
      "        <class 'prompt_toolkit.validation.ValidationError'>\n",
      "        <class 'prompt_toolkit.buffer.EditReadOnlyBuffer'>\n",
      "        <class 'prompt_toolkit.buffer._Retry'>\n",
      "        <class 'prompt_toolkit.layout.layout.InvalidLayoutError'>\n",
      "        <class 'prompt_toolkit.renderer.HeightIsUnknownError'>\n",
      "        <class 'parso.parser.ParserSyntaxError'>\n",
      "        <class 'parso.parser.InternalParseError'>\n",
      "        <class 'parso.python.diff._PositionUpdatingFinished'>\n",
      "        <class 'jedi.inference.helpers.SimpleGetItemNotFound'>\n",
      "        <class 'jedi.inference.utils.UncaughtAttributeError'>\n",
      "        <class 'jedi.inference.base_value.HasNoContext'>\n",
      "        <class 'jedi.inference.arguments.ParamIssue'>\n",
      "        <class 'jedi.api.exceptions._JediError'>\n",
      "            <class 'jedi.api.exceptions.InternalError'>\n",
      "            <class 'jedi.api.exceptions.WrongVersion'>\n",
      "            <class 'jedi.api.exceptions.RefactoringError'>\n",
      "        <class 'jedi.api.helpers.OnErrorLeaf'>\n",
      "        <class 'jedi.api.environment.InvalidPythonEnvironment'>\n",
      "        <class 'email.errors.MessageError'>\n",
      "            <class 'email.errors.MessageParseError'>\n",
      "                <class 'email.errors.HeaderParseError'>\n",
      "                <class 'email.errors.BoundaryError'>\n",
      "            <class 'email.errors.MultipartConversionError'>\n",
      "            <class 'email.errors.CharsetError'>\n",
      "        <class 'uu.Error'>\n",
      "        <class 'http.client.HTTPException'>\n",
      "            <class 'http.client.NotConnected'>\n",
      "            <class 'http.client.InvalidURL'>\n",
      "            <class 'http.client.UnknownProtocol'>\n",
      "            <class 'http.client.UnknownTransferEncoding'>\n",
      "            <class 'http.client.UnimplementedFileMode'>\n",
      "            <class 'http.client.IncompleteRead'>\n",
      "            <class 'http.client.ImproperConnectionState'>\n",
      "                <class 'http.client.CannotSendRequest'>\n",
      "                <class 'http.client.CannotSendHeader'>\n",
      "                <class 'http.client.ResponseNotReady'>\n",
      "            <class 'http.client.BadStatusLine'>\n",
      "                <class 'http.client.RemoteDisconnected'>\n",
      "            <class 'http.client.LineTooLong'>\n",
      "        <class 'IPython.core.magics.code.InteractivelyDefined'>\n",
      "        <class 'IPython.terminal.embed.KillEmbedded'>\n",
      "        <class 'psutil.Error'>\n",
      "            <class 'psutil.NoSuchProcess'>\n",
      "                <class 'psutil.ZombieProcess'>\n",
      "            <class 'psutil.AccessDenied'>\n",
      "            <class 'psutil.TimeoutExpired'>\n",
      "        <class 'psutil._pslinux._Ipv6UnsupportedError'>\n",
      "        <class 'tornado.queues.QueueEmpty'>\n",
      "        <class 'tornado.queues.QueueFull'>\n",
      "        <class '_pydev_bundle._pydev_saved_modules.DebuggerInitializationError'>\n",
      "        <class 'xml.parsers.expat.ExpatError'>\n",
      "        <class 'xmlrpc.client.Error'>\n",
      "            <class 'xmlrpc.client.ProtocolError'>\n",
      "            <class 'xmlrpc.client.ResponseError'>\n",
      "            <class 'xmlrpc.client.Fault'>\n",
      "        <class 'pkg_resources._vendor.pyparsing.exceptions.ParseBaseException'>\n",
      "            <class 'pkg_resources._vendor.pyparsing.exceptions.ParseException'>\n",
      "            <class 'pkg_resources._vendor.pyparsing.exceptions.ParseFatalException'>\n",
      "                <class 'pkg_resources._vendor.pyparsing.exceptions.ParseSyntaxException'>\n",
      "        <class 'pkg_resources._vendor.pyparsing.exceptions.RecursiveGrammarException'>\n",
      "        <class 'pkg_resources.ResolutionError'>\n",
      "            <class 'pkg_resources.VersionConflict'>\n",
      "                <class 'pkg_resources.ContextualVersionConflict'>\n",
      "            <class 'pkg_resources.DistributionNotFound'>\n",
      "            <class 'pkg_resources.UnknownExtra'>\n",
      "        <class '_pydevd_bundle.pydevd_runpy._Error'>\n",
      "        <class '_pydevd_bundle.pydevd_resolver.UnableToResolveVariableException'>\n",
      "        <class '_pydev_bundle.pydev_monkey.InvalidTypeInArgsException'>\n",
      "        <class '__main__.CustomError'>\n",
      "    <class 'GeneratorExit'>\n",
      "    <class 'SystemExit'>\n",
      "    <class 'KeyboardInterrupt'>\n",
      "    <class 'asyncio.exceptions.CancelledError'>\n",
      "    <class 'pkg_resources._vendor.more_itertools.more.AbortThread'>\n"
     ]
    }
   ],
   "source": [
    "def print_exception_hierarchy(exception_class, indent=0):\n",
    "    print(\" \" * indent + str(exception_class))\n",
    "    for subclass in exception_class.__subclasses__():\n",
    "        print_exception_hierarchy(subclass, indent + 4)\n",
    "\n",
    "print_exception_hierarchy(BaseException)\n"
   ]
  },
  {
   "cell_type": "raw",
   "id": "37233783-0a99-49ad-b92b-96e57d712915",
   "metadata": {},
   "source": [
    "Q3. What errors are defined in the ArithmeticError class? Explain any two with an example."
   ]
  },
  {
   "cell_type": "markdown",
   "id": "0a59cf3d-4212-4190-a468-bfddd0437035",
   "metadata": {},
   "source": [
    "The ArithmeticError class in Python is a base class for exceptions that are raised for various arithmetic errors. It serves as a superclass for more specific arithmetic-related exceptions. Here are two commonly used exceptions derived from the ArithmeticError class, along with examples:\n",
    "\n",
    "ZeroDivisionError:\n",
    "This exception is raised when you try to divide a number by zero. Division by zero is mathematically undefined, and attempting to perform such an operation results in this error."
   ]
  },
  {
   "cell_type": "code",
   "execution_count": 3,
   "id": "51d23075-ae25-4d0b-a917-630455cc26fe",
   "metadata": {},
   "outputs": [
    {
     "name": "stdout",
     "output_type": "stream",
     "text": [
      "Error: division by zero\n"
     ]
    }
   ],
   "source": [
    "try:\n",
    "    result = 10 / 0\n",
    "except ZeroDivisionError as e:\n",
    "    print(\"Error:\", e)\n"
   ]
  },
  {
   "cell_type": "markdown",
   "id": "9eef4a1c-5729-447f-ab29-e8f093fb31fe",
   "metadata": {},
   "source": [
    " ValueError exception, which can occur in various situations, including during arithmetic operations when trying to convert an invalid string to a numeric type"
   ]
  },
  {
   "cell_type": "code",
   "execution_count": 10,
   "id": "8011dbfd-9dc4-4eb6-aa70-6f1bb60280ec",
   "metadata": {},
   "outputs": [
    {
     "name": "stdout",
     "output_type": "stream",
     "text": [
      "Error: invalid literal for int() with base 10: 'hello'\n"
     ]
    }
   ],
   "source": [
    "try:\n",
    "    value = int(\"hello\")\n",
    "except ValueError as e:\n",
    "    print(\"Error:\", e)\n"
   ]
  },
  {
   "cell_type": "raw",
   "id": "73c404d5-1285-4753-8176-2d9eb2678bd5",
   "metadata": {},
   "source": [
    "Q4. Why LookupError class is used? Explain with an example KeyError and IndexError."
   ]
  },
  {
   "cell_type": "markdown",
   "id": "c8febf75-8611-402f-b4bc-b62e33fda39c",
   "metadata": {},
   "source": [
    "The LookupError class in Python is a base class for exceptions that are raised when a lookup operation fails to find a specified key or index. It serves as a superclass for more specific lookup-related exceptions. LookupError is useful when you want to catch errors related to searching for a particular item in a collection, such as dictionaries or lists.KeyError:\n",
    "This exception is raised when a dictionary key is not found during a lookup operation."
   ]
  },
  {
   "cell_type": "code",
   "execution_count": 11,
   "id": "4617575d-e23e-48a3-94ac-27af4d3b2a38",
   "metadata": {},
   "outputs": [
    {
     "name": "stdout",
     "output_type": "stream",
     "text": [
      "Error: 'd'\n"
     ]
    }
   ],
   "source": [
    "my_dict = {\"a\": 1, \"b\": 2, \"c\": 3}\n",
    "try:\n",
    "    value = my_dict[\"d\"]\n",
    "except KeyError as e:\n",
    "    print(\"Error:\", e)\n"
   ]
  },
  {
   "cell_type": "markdown",
   "id": "e54683cc-6ef4-473c-a65e-19b121fc3feb",
   "metadata": {},
   "source": [
    "IndexError:\n",
    "This exception is raised when an index is out of range in a sequence, such as a list or a string."
   ]
  },
  {
   "cell_type": "code",
   "execution_count": 12,
   "id": "2056696f-ffc5-4b47-853f-862899a7da64",
   "metadata": {},
   "outputs": [
    {
     "name": "stdout",
     "output_type": "stream",
     "text": [
      "Error: list index out of range\n"
     ]
    }
   ],
   "source": [
    "my_list = [1, 2, 3]\n",
    "try:\n",
    "    value = my_list[4]\n",
    "except IndexError as e:\n",
    "    print(\"Error:\", e)\n"
   ]
  },
  {
   "cell_type": "markdown",
   "id": "a7292c93-2b97-438e-acaa-5cf76b69fa94",
   "metadata": {},
   "source": [
    "Q5. Explain ImportError. What is ModuleNotFoundError?"
   ]
  },
  {
   "cell_type": "raw",
   "id": "a5f57e63-5a03-41ae-affe-4fae83f68f87",
   "metadata": {},
   "source": [
    "\n",
    "In Python, ImportError is an exception that is raised when an import statement fails to locate and load the specified module or when there is an issue with the imported module. This can occur due to various reasons such as the module not being installed, the module not being in the search path, or the module having errors."
   ]
  },
  {
   "cell_type": "code",
   "execution_count": 13,
   "id": "772aabc5-6647-471f-8ceb-79f878680d66",
   "metadata": {},
   "outputs": [
    {
     "name": "stdout",
     "output_type": "stream",
     "text": [
      "Error: No module named 'incorrect_module_name'\n"
     ]
    }
   ],
   "source": [
    "try:\n",
    "    import incorrect_module_name\n",
    "except ImportError as e:\n",
    "    print(\"Error:\", e)\n"
   ]
  },
  {
   "cell_type": "markdown",
   "id": "80508de1-6a4e-41d2-919d-f49ce72d3742",
   "metadata": {},
   "source": [
    "ModuleNotFoundError:\n",
    "ModuleNotFoundError is a subclass of ImportError introduced in Python 3.6. It specifically indicates that the module you're trying to import cannot be found. While it's essentially an ImportError with a more precise message, it helps to clearly differentiate between cases where the issue is specifically related to module not found situations."
   ]
  },
  {
   "cell_type": "code",
   "execution_count": 14,
   "id": "5673ce9a-66e9-4c41-838a-5cd75de883eb",
   "metadata": {},
   "outputs": [
    {
     "name": "stdout",
     "output_type": "stream",
     "text": [
      "Error: No module named 'incorrect_module_name'\n"
     ]
    }
   ],
   "source": [
    "try:\n",
    "    import incorrect_module_name\n",
    "except ModuleNotFoundError as e:\n",
    "    print(\"Error:\", e)\n"
   ]
  },
  {
   "cell_type": "code",
   "execution_count": null,
   "id": "b610662a-cad8-49e0-b278-c98adf856c30",
   "metadata": {},
   "outputs": [],
   "source": []
  },
  {
   "cell_type": "markdown",
   "id": "920a3563-bd5c-4158-883d-81ab59799e6f",
   "metadata": {},
   "source": [
    "Be Specific with Exception Handling:\n",
    "Catch only the exceptions that you expect and can handle. Avoid using a blanket except clause that catches all exceptions, as it can make debugging difficult and hide unexpected issues.\n",
    "\n",
    "Always avoid to use Multiple except Blocks:\n",
    "Use separate except blocks for different types of exceptions. This allows you to handle different exceptions differently and provide specific error messages.\n",
    "\n",
    "Use finally for Cleanup:\n",
    "Use the finally block to ensure that cleanup code (e.g., closing files, releasing resources) is executed regardless of whether an exception is raised. This helps prevent resource leaks.\n",
    "\n",
    "Avoid Bare except:\n",
    "Avoid using bare except clauses without specifying the exception type. If you need to catch multiple exceptions, list them explicitly. This helps in understanding and debugging.\n",
    "\n",
    "Use Custom Exceptions:\n",
    "Create custom exception classes by subclassing built-in exceptions or creating your own. This helps in categorizing and identifying specific errors in your code.\n",
    "\n",
    "Avoid Overly Broad Exception Handling:\n",
    "Avoid catching exceptions that you can't handle effectively. It's better to let the exception propagate up the call stack to a higher level that can handle it appropriately.\n",
    "\n",
    "Provide Clear Error Messages:\n",
    "Include clear and informative error messages in exception handling blocks. This helps users and developers understand what went wrong.\n",
    "\n",
    "Log Exceptions:\n",
    "Consider logging exceptions using a logging framework like logging. This helps in debugging issues in production and gathering information for future improvements"
   ]
  }
 ],
 "metadata": {
  "kernelspec": {
   "display_name": "Python 3 (ipykernel)",
   "language": "python",
   "name": "python3"
  },
  "language_info": {
   "codemirror_mode": {
    "name": "ipython",
    "version": 3
   },
   "file_extension": ".py",
   "mimetype": "text/x-python",
   "name": "python",
   "nbconvert_exporter": "python",
   "pygments_lexer": "ipython3",
   "version": "3.10.8"
  }
 },
 "nbformat": 4,
 "nbformat_minor": 5
}
