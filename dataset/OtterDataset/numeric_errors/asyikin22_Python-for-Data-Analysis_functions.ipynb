{
 "cells": [
  {
   "cell_type": "markdown",
   "metadata": {},
   "source": [
    "# Data Structures\n",
    "\n",
    "1) Lists - bracket [...] - mutable\n",
    "\n",
    "2) Tuples - parentheses (...) - immutable\n",
    "\n",
    "3) Sets - unique values - curly braces {...} - mutable \n",
    "\n",
    "4) Dictionaries - key-value pairs - mutable "
   ]
  },
  {
   "cell_type": "markdown",
   "metadata": {},
   "source": [
    "# FUNCTION\n",
    "\n",
    "- Declared with the 'def' keyword\n",
    "\n",
    "- it containes a block of code with an OPTIONAL use of the 'return' keyword\n",
    "\n",
    "- each function can have 'positional'  or 'keyword' arguments\n",
    "    1) Positional = they're assigned to the paramters in the order they're provided\n",
    "    2) Keyword = they're passed to a function by explicitly naming each parameter and providing a value\n",
    "\n"
   ]
  },
  {
   "cell_type": "code",
   "execution_count": 3,
   "metadata": {},
   "outputs": [
    {
     "name": "stdout",
     "output_type": "stream",
     "text": [
      "100\n"
     ]
    }
   ],
   "source": [
    "def my_function(x, y):\n",
    "    return x + y\n",
    "\n",
    "print(my_function(99, 1))"
   ]
  },
  {
   "cell_type": "code",
   "execution_count": 4,
   "metadata": {},
   "outputs": [
    {
     "name": "stdout",
     "output_type": "stream",
     "text": [
      "177391\n",
      "80091305\n"
     ]
    }
   ],
   "source": [
    "# positional arguments\n",
    "def operasi(x, y, z):\n",
    "    return( x * y - z)\n",
    "\n",
    "result1 = operasi(765, 232, 89)\n",
    "result2 = operasi(232, 345465, 56575)\n",
    "\n",
    "print(result1)\n",
    "print(result2)"
   ]
  },
  {
   "cell_type": "code",
   "execution_count": 12,
   "metadata": {},
   "outputs": [
    {
     "name": "stdout",
     "output_type": "stream",
     "text": [
      "35\n",
      "14.188922999999999\n",
      "14\n",
      "14.189\n",
      "66.0\n"
     ]
    }
   ],
   "source": [
    "# keyword arguments\n",
    "# if no argument supplied for c, default value 2.2 will be used\n",
    "\n",
    "def operasi_keyword(a, b, c = 2.2):\n",
    "    if c > 1:\n",
    "        return c * (a + b)\n",
    "    else:\n",
    "        return c / (a + b)\n",
    "    \n",
    "arg1 = operasi_keyword(2, 3, c=7)\n",
    "arg2 = operasi_keyword(4, 5, c=1.576547)\n",
    "arg3 = operasi_keyword(10, 20)\n",
    "\n",
    "print(arg1)\n",
    "print(arg2)\n",
    "print(round(arg2))\n",
    "print(round(arg2, 3))\n",
    "print(arg3)"
   ]
  },
  {
   "cell_type": "markdown",
   "metadata": {},
   "source": [
    "# Namespaces, Scope, Local Functions\n",
    "\n",
    "**Namespace**\n",
    "- Any variables that are assigned within a function by default are assigned to the local namespace\n",
    "- it's created when the fucntion is called\n",
    "- it will be immediately populated by the funciton's arguments\n",
    "- after the function is finished, the local namespace is destroyed\n",
    "\n",
    "**Global namespace**\n",
    "- it's defined in the global namespace\n",
    "- accesible throughout the entire script\n",
    "\n",
    "**Local namespace**\n",
    "- it's defined in the local namespace\n",
    "- it's only accessible within the function"
   ]
  },
  {
   "cell_type": "code",
   "execution_count": 14,
   "metadata": {},
   "outputs": [
    {
     "name": "stdout",
     "output_type": "stream",
     "text": [
      "Global a: 22\n",
      "Result of my my_function: 32\n"
     ]
    }
   ],
   "source": [
    "# global namespace\n",
    "a = 22\n",
    "\n",
    "def my_function():\n",
    "    #local nampespace\n",
    "    b = 10\n",
    "    return a + b\n",
    "\n",
    "# accessing the global namespace\n",
    "print(\"Global a:\", a)\n",
    "\n",
    "# accessing the local namespace insinde the funciton\n",
    "result = my_function()\n",
    "print(\"Result of my_function:\", result)\n"
   ]
  },
  {
   "cell_type": "code",
   "execution_count": 22,
   "metadata": {},
   "outputs": [
    {
     "name": "stdout",
     "output_type": "stream",
     "text": [
      "[0]\n",
      "[0, 1]\n",
      "[0, 1, 2]\n",
      "[0, 1, 2, 3]\n",
      "[0, 1, 2, 3, 4]\n",
      "[0, 1, 2, 3, 4, 5]\n",
      "[0, 1, 2, 3, 4, 5, 6]\n",
      "[0, 1, 2, 3, 4, 5, 6, 7]\n",
      "[0, 1, 2, 3, 4, 5, 6, 7, 8]\n",
      "[0, 1, 2, 3, 4, 5, 6, 7, 8, 9]\n"
     ]
    }
   ],
   "source": [
    "# namespace\n",
    "def funct():\n",
    "    k = []\n",
    "    for i in range(10):\n",
    "        k.append(i)\n",
    "        print(k)\n",
    "\n",
    "funct()\n",
    "\n"
   ]
  },
  {
   "cell_type": "markdown",
   "metadata": {},
   "source": [
    "**Returning Multiple Values**"
   ]
  },
  {
   "cell_type": "code",
   "execution_count": 24,
   "metadata": {},
   "outputs": [
    {
     "name": "stdout",
     "output_type": "stream",
     "text": [
      "(9, 8, 7)\n"
     ]
    }
   ],
   "source": [
    "def f():\n",
    "    x = 9\n",
    "    y = 8\n",
    "    z = 7\n",
    "    return x, y, z\n",
    "\n",
    "#unpacking the returned tuple into variables x, y, z\n",
    "x, y, z = f()\n",
    "\n",
    "print(f())"
   ]
  },
  {
   "cell_type": "markdown",
   "metadata": {},
   "source": [
    "**Functions are object**\n"
   ]
  },
  {
   "cell_type": "code",
   "execution_count": 34,
   "metadata": {},
   "outputs": [
    {
     "data": {
      "text/plain": [
       "['Perlis',\n",
       " 'Kelantan',\n",
       " 'Johor',\n",
       " 'Selangor',\n",
       " 'Pahang',\n",
       " 'Terengganu',\n",
       " 'Penan G',\n",
       " 'Sabah',\n",
       " 'Sarawa K',\n",
       " 'Malacca',\n",
       " 'Kedah',\n",
       " 'Perak',\n",
       " 'Negeri Sembilan']"
      ]
     },
     "execution_count": 34,
     "metadata": {},
     "output_type": "execute_result"
    }
   ],
   "source": [
    "\n",
    "negeri = [\n",
    "    \"** peRlis$**\", \"%keLANTAN\", \"JOh?or\", \"** SElaNgOR@\",\n",
    "    \"PahANG#\", \"%TERENGGANu\", \"PEnAN G$\", \"sABah\", \"sarawa k\",\n",
    "    \"  MALAcCa\", \"keDAh ?\", \"PERAK\", \"nEGErI SEmbILAN  **\"\n",
    "]\n",
    "\n",
    "import re\n",
    "\n",
    "def clean_strings(strings):\n",
    "    result = []\n",
    "    for value in strings:\n",
    "        value = re.sub(\"[!#?*@$%]\", \"\", value)    # remove unwanted symbols\n",
    "        value = value.title()                     # Converts strings to title calse\n",
    "        value = value.strip()                     # Removes leading and trailing whitespace from strings\n",
    "        result.append(value)    \n",
    "    return result\n",
    "\n",
    "clean_strings(negeri)\n"
   ]
  },
  {
   "cell_type": "markdown",
   "metadata": {},
   "source": [
    "**Anonymus Functions (Lambda)**\n",
    "- it's a way of writing functions consisting of a single statement\n",
    "\n",
    "- the result of which is the return value\n",
    "\n",
    "- they're defined wiht the lambda keyword\n",
    "\n",
    "- it has no meaning other than 'we're declaring an anon function\n",
    "\n",
    "- it's used for short, throwaway functions that are not needed elsewhere in the code\n",
    "\n",
    "- Syntax: **lambda** arguments: expression\n",
    "\n",
    "**Types of lambda functions**\n",
    "1) Basic\n",
    "2) No arguments\n",
    "3) Inside lsit comprehension\n",
    "4) with sorting\n",
    "5) in filtering"
   ]
  },
  {
   "cell_type": "code",
   "execution_count": 35,
   "metadata": {},
   "outputs": [
    {
     "name": "stdout",
     "output_type": "stream",
     "text": [
      "198\n"
     ]
    }
   ],
   "source": [
    "# basic \n",
    "tambah = lambda m, n: m + n\n",
    "output = tambah(99, 99)\n",
    "print(output)"
   ]
  },
  {
   "cell_type": "code",
   "execution_count": 36,
   "metadata": {},
   "outputs": [
    {
     "name": "stdout",
     "output_type": "stream",
     "text": [
      "3.14159\n"
     ]
    }
   ],
   "source": [
    "# no argument\n",
    "get_pi = lambda: 3.14159\n",
    "pi_value = get_pi()\n",
    "print(pi_value)"
   ]
  },
  {
   "cell_type": "code",
   "execution_count": 39,
   "metadata": {},
   "outputs": [
    {
     "name": "stdout",
     "output_type": "stream",
     "text": [
      "[18, 16, 14, 12, 10, 8, 6, 4, 2]\n"
     ]
    }
   ],
   "source": [
    "# list comprehension\n",
    "\n",
    "nombor = [9, 8, 7, 6, 5, 4, 3, 2, 1]\n",
    "dua_kali_ganda = list(map(lambda x: x*2, nombor))\n",
    "\n",
    "print(dua_kali_ganda)"
   ]
  },
  {
   "cell_type": "code",
   "execution_count": 40,
   "metadata": {},
   "outputs": [
    {
     "name": "stdout",
     "output_type": "stream",
     "text": [
      "[(2, 'dua'), (1, 'satu'), (3, 'tiga')]\n"
     ]
    }
   ],
   "source": [
    "# sorting\n",
    "\n",
    "pasangan = [(1, 'satu'), (2, 'dua'), (3, 'tiga')]\n",
    "sorted_pasangan = sorted(pasangan, key=lambda pair: pair[1])\n",
    "print(sorted_pasangan)"
   ]
  },
  {
   "cell_type": "code",
   "execution_count": 41,
   "metadata": {},
   "outputs": [
    {
     "name": "stdout",
     "output_type": "stream",
     "text": [
      "[8, 6, 4, 2]\n"
     ]
    }
   ],
   "source": [
    "# filtering\n",
    "\n",
    "nombor1 = [9, 8, 7, 6, 5, 4, 3, 2, 1]\n",
    "genap = list(filter(lambda x: x % 2 == 0, nombor))\n",
    "print(genap)\n"
   ]
  },
  {
   "cell_type": "markdown",
   "metadata": {},
   "source": [
    "**GENERATOR**\n",
    "\n",
    "- it's a way to create iterators in a more concise and readable way compared to using classes\n",
    "\n",
    "- types:\n",
    "    1) Simple funciton\n",
    "    2) Generator with range\n",
    "    3) Generator expression\n",
    "    4) Infinite generator\n",
    "    5) Generator with state\n",
    "\n",
    "**ITERTOOLS MODULE**\n",
    "- a library that containes collection of generators for many common data algorithms\n",
    "\n",
    "- types \n",
    "    1) chain\n",
    "    2) combinations\n",
    "    3) permutations\n",
    "    4) groupby\n",
    "    5) product"
   ]
  },
  {
   "cell_type": "markdown",
   "metadata": {},
   "source": [
    "# ERRORS & EXCEPTION HANDLING\n",
    "\n",
    "- Runtime rror handling is done using:\n",
    "    1) try\n",
    "    2) except\n",
    "    3) else\n",
    "    4) finally\n",
    "\n",
    "- Type of error and exceptions in Python:\n",
    "    1) Basic handling\n",
    "    2) Multiple exceptions\n",
    "    3) else block\n",
    "    4) finally block\n",
    "    5) raising exceptions\n",
    "    6) custom exceptions\n",
    "\n",
    "- Type of errors:\n",
    "    1) Syntax\n",
    "        * code is not valid Python syntax\n",
    "        * missing colons, mismatched parentheses, incorrect indentation\n",
    "    \n",
    "    2) Exceptions \n",
    "        * It's a runtime error that occur while the program is runing\n",
    "        * it's predefined exceptions provided by Python\n",
    "\n",
    "- Built-In Exceptions:\n",
    "    1) ArithmeticError\n",
    "        * ZeroDivisionError\n",
    "        * OverflowError\n",
    "    \n",
    "    2) IndexError\n",
    "    3) KeyError\n",
    "    4) NameError\n",
    "    5) TypeError\n",
    "    6) ValueError\n",
    "    7) FileNotFoundError\n",
    "    8) IOError\n",
    "    9) AttributeError\n",
    "    10) ImportError\n",
    "\n",
    "\n"
   ]
  },
  {
   "cell_type": "code",
   "execution_count": 43,
   "metadata": {},
   "outputs": [],
   "source": [
    "# basic syntax \n",
    "\n",
    "try:\n",
    "    # Code that might raise an exception\n",
    "    ...\n",
    "except:\n",
    "    # Code that runs if an exception occurs\n",
    "    ...\n",
    "else:\n",
    "    # Code that runs if no exception occurs\n",
    "    ...\n",
    "finally:\n",
    "    # Code that always runs, regardless of whether an exception occurred\n",
    "    ...\n"
   ]
  },
  {
   "cell_type": "code",
   "execution_count": 44,
   "metadata": {},
   "outputs": [
    {
     "name": "stdout",
     "output_type": "stream",
     "text": [
      "Error: division by zero\n"
     ]
    }
   ],
   "source": [
    "# basic exception handling \n",
    "try: \n",
    "    result = 10/0\n",
    "except ZeroDivisionError as e:\n",
    "    print(f'Error: {e}')"
   ]
  },
  {
   "cell_type": "code",
   "execution_count": 51,
   "metadata": {},
   "outputs": [
    {
     "name": "stdout",
     "output_type": "stream",
     "text": [
      "Error: could not convert string to float: 'Asyikin'\n",
      "3.14159\n",
      "Error: float() argument must be a string or a real number, not 'tuple'\n"
     ]
    }
   ],
   "source": [
    "# Multiple types of exceptions\n",
    "\n",
    "def try_float(a):\n",
    "    try:\n",
    "        return float(a)\n",
    "    except (ValueError, TypeError) as e:\n",
    "        return f'Error: {e}'\n",
    "\n",
    "result1 = try_float(\"Asyikin\")\n",
    "result2 = try_float(3.14159)\n",
    "result3 = try_float((5, 6))\n",
    "\n",
    "print(result1)\n",
    "print(result2)\n",
    "print(result3)"
   ]
  },
  {
   "cell_type": "code",
   "execution_count": 55,
   "metadata": {},
   "outputs": [
    {
     "name": "stdout",
     "output_type": "stream",
     "text": [
      "Result: 1.25\n"
     ]
    }
   ],
   "source": [
    "# else block\n",
    "try: \n",
    "    result = 10/8\n",
    "except ZeroDivisionError as e:\n",
    "    print(f'Error: {e}')\n",
    "else: \n",
    "    print(f'Result: {result}')"
   ]
  },
  {
   "cell_type": "code",
   "execution_count": 56,
   "metadata": {},
   "outputs": [
    {
     "name": "stdout",
     "output_type": "stream",
     "text": [
      "Error: [Errno 2] No such file or directory: 'example.txt'\n"
     ]
    },
    {
     "ename": "NameError",
     "evalue": "name 'file' is not defined",
     "output_type": "error",
     "traceback": [
      "\u001b[1;31m---------------------------------------------------------------------------\u001b[0m",
      "\u001b[1;31mNameError\u001b[0m                                 Traceback (most recent call last)",
      "Cell \u001b[1;32mIn[56], line 8\u001b[0m\n\u001b[0;32m      6\u001b[0m     \u001b[38;5;28mprint\u001b[39m(\u001b[38;5;124mf\u001b[39m\u001b[38;5;124m'\u001b[39m\u001b[38;5;124mError: \u001b[39m\u001b[38;5;132;01m{\u001b[39;00me\u001b[38;5;132;01m}\u001b[39;00m\u001b[38;5;124m'\u001b[39m)\n\u001b[0;32m      7\u001b[0m \u001b[38;5;28;01mfinally\u001b[39;00m:\n\u001b[1;32m----> 8\u001b[0m     file\u001b[38;5;241m.\u001b[39mclose()\n",
      "\u001b[1;31mNameError\u001b[0m: name 'file' is not defined"
     ]
    }
   ],
   "source": [
    "# finally block\n",
    "try:\n",
    "    file = open(\"example.txt\", \"r\")\n",
    "    content = file.read()\n",
    "except FileNotFoundError as e:\n",
    "    print(f'Error: {e}')\n",
    "finally:\n",
    "    file.close()"
   ]
  },
  {
   "cell_type": "code",
   "execution_count": 60,
   "metadata": {},
   "outputs": [
    {
     "name": "stdout",
     "output_type": "stream",
     "text": [
      "Error: Age cannot be negative\n"
     ]
    }
   ],
   "source": [
    "#raising exceptions\n",
    "\n",
    "def check_umur(umur):\n",
    "    if umur < 0:\n",
    "        raise ValueError(\"Age cannot be negative\")\n",
    "    print(umur)\n",
    "\n",
    "try: \n",
    "    umur = check_umur(-10)\n",
    "except ValueError as e:\n",
    "    print(f'Error: {e}')"
   ]
  },
  {
   "cell_type": "code",
   "execution_count": 62,
   "metadata": {},
   "outputs": [
    {
     "name": "stdout",
     "output_type": "stream",
     "text": [
      "Error: This is a custom error\n"
     ]
    }
   ],
   "source": [
    "# custom exceptions\n",
    "class CustomError(Exception):\n",
    "    pass\n",
    "\n",
    "def raise_custom_error():\n",
    "    raise CustomError(\"This is a custom error\")\n",
    "\n",
    "try:\n",
    "    raise_custom_error()\n",
    "except CustomError as e:\n",
    "    print(f'Error: {e}')"
   ]
  },
  {
   "cell_type": "code",
   "execution_count": null,
   "metadata": {},
   "outputs": [],
   "source": []
  }
 ],
 "metadata": {
  "kernelspec": {
   "display_name": "base",
   "language": "python",
   "name": "python3"
  },
  "language_info": {
   "codemirror_mode": {
    "name": "ipython",
    "version": 3
   },
   "file_extension": ".py",
   "mimetype": "text/x-python",
   "name": "python",
   "nbconvert_exporter": "python",
   "pygments_lexer": "ipython3",
   "version": "3.12.4"
  }
 },
 "nbformat": 4,
 "nbformat_minor": 2
}
