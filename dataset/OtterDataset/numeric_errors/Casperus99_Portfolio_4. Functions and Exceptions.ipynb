{
 "cells": [
  {
   "cell_type": "markdown",
   "metadata": {},
   "source": [
    "# **Section 4**: Functions and Exceptions  (28%)"
   ]
  },
  {
   "cell_type": "markdown",
   "metadata": {},
   "source": [
    "## 4.1 – Decompose the code using functions"
   ]
  },
  {
   "cell_type": "markdown",
   "metadata": {},
   "source": [
    "- **defining and invoking user-defined functions and generators**"
   ]
  },
  {
   "cell_type": "code",
   "execution_count": 1,
   "metadata": {},
   "outputs": [
    {
     "name": "stdout",
     "output_type": "stream",
     "text": [
      "hello!\n"
     ]
    }
   ],
   "source": [
    "# This is how you define and invoke functions\n",
    "\n",
    "def my_function():\n",
    "    print(\"hello!\")\n",
    "\n",
    "my_function()"
   ]
  },
  {
   "cell_type": "code",
   "execution_count": 2,
   "metadata": {},
   "outputs": [
    {
     "name": "stdout",
     "output_type": "stream",
     "text": [
      "10\n",
      "51.4\n"
     ]
    }
   ],
   "source": [
    "# They can be defined that they require an argument\n",
    "\n",
    "def my_function(argument_1):\n",
    "    print(argument_1*2)\n",
    "\n",
    "my_function(5)\n",
    "my_function(25.7)"
   ]
  },
  {
   "cell_type": "markdown",
   "metadata": {},
   "source": [
    "I will come back to generators after describing functions, because they are not used very often."
   ]
  },
  {
   "cell_type": "markdown",
   "metadata": {},
   "source": [
    "- **the return keyword, returning results**"
   ]
  },
  {
   "cell_type": "code",
   "execution_count": 5,
   "metadata": {},
   "outputs": [
    {
     "data": {
      "text/plain": [
       "10"
      ]
     },
     "execution_count": 5,
     "metadata": {},
     "output_type": "execute_result"
    }
   ],
   "source": [
    "# We've already met with situation where method returned some value (most string methods)\n",
    "# We can add this feature in user-defined functions like this:\n",
    "\n",
    "def my_function(argument_1):\n",
    "    return_value = argument_1*2\n",
    "    return return_value\n",
    "    txt = \"This will never happen\"\n",
    "\n",
    "my_function(5)"
   ]
  },
  {
   "cell_type": "markdown",
   "metadata": {},
   "source": [
    "After _return_ keyword function stops and returns following value."
   ]
  },
  {
   "cell_type": "markdown",
   "metadata": {},
   "source": [
    "- **the None keyword**"
   ]
  },
  {
   "cell_type": "code",
   "execution_count": 8,
   "metadata": {},
   "outputs": [
    {
     "name": "stdout",
     "output_type": "stream",
     "text": [
      "8\n",
      "16\n",
      "None\n"
     ]
    }
   ],
   "source": [
    "# Sometimes we want to stop function processing with return keyword, but without actually returning any value\n",
    "# We can use keyword None\n",
    "\n",
    "def my_function(argument_1):\n",
    "    print(argument_1*2)\n",
    "    return None\n",
    "\n",
    "my_function(4)\n",
    "print(my_function(8))"
   ]
  },
  {
   "cell_type": "markdown",
   "metadata": {},
   "source": [
    "In this case 16 is printed in second function invocation. Then function returns None and it's printed."
   ]
  },
  {
   "cell_type": "code",
   "execution_count": 9,
   "metadata": {},
   "outputs": [
    {
     "data": {
      "text/plain": [
       "NoneType"
      ]
     },
     "execution_count": 9,
     "metadata": {},
     "output_type": "execute_result"
    }
   ],
   "source": [
    "# NoneType is another type of object that represents no information and can consist from only one value - None (which is not a string)\n",
    "\n",
    "test = None\n",
    "type(test)"
   ]
  },
  {
   "cell_type": "code",
   "execution_count": 10,
   "metadata": {},
   "outputs": [],
   "source": [
    "# If we know that we need a function, but don't want to build it just yet - then this syntax won't cause an error\n",
    "\n",
    "def my_function():\n",
    "    pass"
   ]
  },
  {
   "cell_type": "markdown",
   "metadata": {},
   "source": [
    "- **recursion**"
   ]
  },
  {
   "cell_type": "code",
   "execution_count": 11,
   "metadata": {},
   "outputs": [
    {
     "name": "stdout",
     "output_type": "stream",
     "text": [
      "5\n",
      "4\n",
      "3\n",
      "2\n",
      "1\n",
      "0\n"
     ]
    }
   ],
   "source": [
    "# Recursion is using a function within this function definition\n",
    "\n",
    "def counting_down(start_value):\n",
    "    print(start_value)\n",
    "    if start_value > 0:\n",
    "        counting_down(start_value-1)\n",
    "\n",
    "counting_down(5)"
   ]
  },
  {
   "cell_type": "markdown",
   "metadata": {},
   "source": [
    "## 4.2 – Organize interaction between the function and its environment"
   ]
  },
  {
   "cell_type": "markdown",
   "metadata": {},
   "source": [
    "- **parameters vs. arguments**"
   ]
  },
  {
   "cell_type": "code",
   "execution_count": null,
   "metadata": {},
   "outputs": [],
   "source": [
    "'''\n",
    "The terms parameter and argument can be used for the same thing: information that are passed into a function.\n",
    "\n",
    "From a function's perspective:\n",
    "A parameter is the variable listed inside the parentheses in the function definition.\n",
    "An argument is the value that are sent to the function when it is called.\n",
    "'''\n",
    "\n",
    "def counting_down(start_value): # start_value is a parameter of function counting_down. Function counting_down has 1 parameter.\n",
    "    print(start_value)\n",
    "    if start_value > 0:\n",
    "        counting_down(start_value-1)\n",
    "\n",
    "counting_down(5) # 5 is an argument sent to function. One argument has beent sent to function."
   ]
  },
  {
   "cell_type": "markdown",
   "metadata": {},
   "source": [
    "- **positional, keyword, and mixed argument passing**"
   ]
  },
  {
   "cell_type": "code",
   "execution_count": 15,
   "metadata": {},
   "outputs": [
    {
     "name": "stdout",
     "output_type": "stream",
     "text": [
      "Hi! My name is kacper\n",
      "I am 25 years old\n",
      "-------------\n",
      "Hi! My name is 25\n",
      "I am kacper years old\n"
     ]
    }
   ],
   "source": [
    "# Let's assume we have a function with two parameters\n",
    "\n",
    "def presentation(name, age):\n",
    "    print(\"Hi! My name is\", name)\n",
    "    print(\"I am\", age, \"years old\")\n",
    "\n",
    "# We can pass specific arguments only using pre-defined positions (positional argument passing)\n",
    "presentation('kacper', 25)\n",
    "\n",
    "print(\"-------------\")\n",
    "# But then we can make a mistake such as this\n",
    "presentation(25, 'kacper')"
   ]
  },
  {
   "cell_type": "code",
   "execution_count": 17,
   "metadata": {},
   "outputs": [
    {
     "name": "stdout",
     "output_type": "stream",
     "text": [
      "Hi! My name is kacper\n",
      "I am 25 years old\n",
      "---------------\n",
      "Hi! My name is kacper\n",
      "I am 25 years old\n"
     ]
    }
   ],
   "source": [
    "# Another way of passing arguments is keyword argument passing:\n",
    "\n",
    "def presentation(name, age):\n",
    "    print(\"Hi! My name is\", name)\n",
    "    print(\"I am\", age, \"years old\")\n",
    "\n",
    "presentation(name='kacper', age=25)\n",
    "\n",
    "print('---------------')\n",
    "# This way different positioning has no effect\n",
    "presentation(age=25, name='kacper')"
   ]
  },
  {
   "cell_type": "code",
   "execution_count": 20,
   "metadata": {},
   "outputs": [
    {
     "name": "stdout",
     "output_type": "stream",
     "text": [
      "Hi! My name is kacper\n",
      "I am 25 years old\n",
      "I come from city named Warsaw\n"
     ]
    }
   ],
   "source": [
    "# But we can pass arguments in yet another way using both of those options (mixed passing)...\n",
    "\n",
    "def presentation(name, age, city):\n",
    "    print(\"Hi! My name is\", name)\n",
    "    print(\"I am\", age, \"years old\")\n",
    "    print(\"I come from city named\", city)\n",
    "\n",
    "presentation('kacper', 25, city='Warsaw')"
   ]
  },
  {
   "cell_type": "code",
   "execution_count": 21,
   "metadata": {},
   "outputs": [
    {
     "ename": "SyntaxError",
     "evalue": "positional argument follows keyword argument (3795155719.py, line 2)",
     "output_type": "error",
     "traceback": [
      "\u001b[1;36m  Cell \u001b[1;32mIn[21], line 2\u001b[1;36m\u001b[0m\n\u001b[1;33m    presentation(name='kacper', 25, city='Warsaw')\u001b[0m\n\u001b[1;37m                                                 ^\u001b[0m\n\u001b[1;31mSyntaxError\u001b[0m\u001b[1;31m:\u001b[0m positional argument follows keyword argument\n"
     ]
    }
   ],
   "source": [
    "# But it has its limits. Keyword arguments must come after the positional ones\n",
    "presentation(name='kacper', 25, city='Warsaw')"
   ]
  },
  {
   "cell_type": "markdown",
   "metadata": {},
   "source": [
    "- **default parameter values**"
   ]
  },
  {
   "cell_type": "code",
   "execution_count": 22,
   "metadata": {},
   "outputs": [
    {
     "name": "stdout",
     "output_type": "stream",
     "text": [
      "Hi! My name is kacper\n",
      "I am 100 years old\n"
     ]
    }
   ],
   "source": [
    "# We can add default values to our parameters. Then if function won't get such argument, the default value will be taken\n",
    "\n",
    "def presentation(name, age=100):\n",
    "    print(\"Hi! My name is\", name)\n",
    "    print(\"I am\", age, \"years old\")\n",
    "\n",
    "presentation(\"kacper\")"
   ]
  },
  {
   "cell_type": "code",
   "execution_count": 23,
   "metadata": {},
   "outputs": [
    {
     "ename": "SyntaxError",
     "evalue": "non-default argument follows default argument (3558478618.py, line 3)",
     "output_type": "error",
     "traceback": [
      "\u001b[1;36m  Cell \u001b[1;32mIn[23], line 3\u001b[1;36m\u001b[0m\n\u001b[1;33m    def presentation(name, age=100, city):\u001b[0m\n\u001b[1;37m                                    ^\u001b[0m\n\u001b[1;31mSyntaxError\u001b[0m\u001b[1;31m:\u001b[0m non-default argument follows default argument\n"
     ]
    }
   ],
   "source": [
    "# Defaults can be specified only after parameters without defaults\n",
    "\n",
    "def presentation(name, age=100, city):\n",
    "    print(\"Hi! My name is\", name)\n",
    "    print(\"I am\", age, \"years old\")\n",
    "    print(\"I come from city named\", city)"
   ]
  },
  {
   "cell_type": "markdown",
   "metadata": {},
   "source": [
    "- **name scopes, name hiding (shadowing), and the global  keyword**"
   ]
  },
  {
   "cell_type": "code",
   "execution_count": 29,
   "metadata": {},
   "outputs": [
    {
     "data": {
      "text/plain": [
       "6"
      ]
     },
     "execution_count": 29,
     "metadata": {},
     "output_type": "execute_result"
    }
   ],
   "source": [
    "# When a function is called Python creates local namespace that is valid until respective function terminates.\n",
    "\n",
    "var_1 = 10\n",
    "\n",
    "def multiply_by_2(var_1):\n",
    "    return(var_1*2)\n",
    "\n",
    "multiply_by_2(3)"
   ]
  },
  {
   "cell_type": "markdown",
   "metadata": {},
   "source": [
    "Even though var_1 variable already exists and has other value than the argument it's still omitted, because function creates local namespace where local var_1 overrites the global one. (name shadowing)"
   ]
  },
  {
   "cell_type": "code",
   "execution_count": 8,
   "metadata": {},
   "outputs": [
    {
     "data": {
      "text/plain": [
       "30"
      ]
     },
     "execution_count": 8,
     "metadata": {},
     "output_type": "execute_result"
    }
   ],
   "source": [
    "# In this case in function definition we point to the both local and global variables\n",
    "\n",
    "var_1 = 10\n",
    "def multiply_by_var_1(var):\n",
    "    return var*var_1\n",
    "\n",
    "multiply_by_var_1(3)"
   ]
  },
  {
   "cell_type": "code",
   "execution_count": 11,
   "metadata": {},
   "outputs": [
    {
     "name": "stdout",
     "output_type": "stream",
     "text": [
      "10\n"
     ]
    }
   ],
   "source": [
    "# Here is an example of unintended name shadowing. We want a function that changes specific global value, but now it changes only local variable\n",
    "\n",
    "a = 10\n",
    "def change_a_to_zero():\n",
    "    a = 0\n",
    "\n",
    "change_a_to_zero()\n",
    "print(a)"
   ]
  },
  {
   "cell_type": "code",
   "execution_count": 34,
   "metadata": {},
   "outputs": [
    {
     "name": "stdout",
     "output_type": "stream",
     "text": [
      "0\n"
     ]
    }
   ],
   "source": [
    "# We have to add global keyword. Then the function 'binds' with the global variable and is able to change it\n",
    "\n",
    "a = 10\n",
    "def change_a_to_zero():\n",
    "    global a\n",
    "    a = 0\n",
    "\n",
    "change_a_to_zero()\n",
    "print(a)"
   ]
  },
  {
   "cell_type": "code",
   "execution_count": 12,
   "metadata": {},
   "outputs": [
    {
     "name": "stdout",
     "output_type": "stream",
     "text": [
      "10\n"
     ]
    }
   ],
   "source": [
    "# This is the only way to change immutable object within function. Option below will change only local copy\n",
    "\n",
    "a = 10\n",
    "def change_a_to_zero(a):\n",
    "    a = 0\n",
    "\n",
    "change_a_to_zero(a)\n",
    "print(a)"
   ]
  },
  {
   "cell_type": "markdown",
   "metadata": {},
   "source": [
    "- **generators**"
   ]
  },
  {
   "cell_type": "code",
   "execution_count": 20,
   "metadata": {},
   "outputs": [
    {
     "name": "stdout",
     "output_type": "stream",
     "text": [
      "1\n",
      "2\n",
      "3\n",
      "4\n"
     ]
    }
   ],
   "source": [
    "'''\n",
    "Generators work similar to functions, but based on my not-so-short experience they are not used almost at all.\n",
    "In generators we use yield keyword instead of return.\n",
    "\n",
    "'''\n",
    "\n",
    "def first_generator():\n",
    "    yield 1\n",
    "    yield 2\n",
    "    yield 3\n",
    "    yield 4\n",
    "\n",
    "for value in first_generator():\n",
    "    print(value)"
   ]
  },
  {
   "cell_type": "code",
   "execution_count": 23,
   "metadata": {},
   "outputs": [
    {
     "name": "stdout",
     "output_type": "stream",
     "text": [
      "<class 'generator'>\n",
      "1\n",
      "1\n",
      "2\n",
      "3\n",
      "5\n",
      "8\n",
      "13\n",
      "21\n",
      "34\n",
      "55\n",
      "89\n",
      "144\n"
     ]
    }
   ],
   "source": [
    "# They don't return one value, but rather an iterator.\n",
    "# While functions stop when they get to the return keyword and reset themselves\n",
    "# Generators stop at the yield keyword and start from it in the next iteration\n",
    "\n",
    "def fib(limit):\n",
    "    a, b = 0, 1\n",
    "    while b < limit:\n",
    "        yield b\n",
    "        a, b = b, a + b\n",
    "\n",
    "# Create a generator object\n",
    "x = fib(150)\n",
    "print(type(x))\n",
    "# Iterate over the generator object and print each value\n",
    "for i in x:\n",
    "    print(i)"
   ]
  },
  {
   "cell_type": "markdown",
   "metadata": {},
   "source": [
    "## 4.3 – Python Built-In Exceptions Hierarchy"
   ]
  },
  {
   "cell_type": "markdown",
   "metadata": {},
   "source": [
    "- **BaseException**"
   ]
  },
  {
   "cell_type": "markdown",
   "metadata": {},
   "source": [
    "When interpreter runs into a problem it throws an exception object."
   ]
  },
  {
   "cell_type": "markdown",
   "metadata": {},
   "source": [
    "This is the base class for all built-in exceptions. It is not meant to be directly inherited by user-defined classes. For, user-defined classes, Exception is used. This class is responsible for creating a string representation of the exception using str() using the arguments passed. An empty string is returned if there are no arguments."
   ]
  },
  {
   "cell_type": "markdown",
   "metadata": {},
   "source": [
    "- **Exception**"
   ]
  },
  {
   "cell_type": "markdown",
   "metadata": {},
   "source": [
    "This is the base class for all built-in non-system-exiting exceptions. All user-defined exceptions should also be derived from this class."
   ]
  },
  {
   "cell_type": "markdown",
   "metadata": {},
   "source": [
    "- **SystemExit**"
   ]
  },
  {
   "cell_type": "code",
   "execution_count": 26,
   "metadata": {},
   "outputs": [
    {
     "ename": "SystemExit",
     "evalue": "",
     "output_type": "error",
     "traceback": [
      "An exception has occurred, use %tb to see the full traceback.\n",
      "\u001b[1;31mSystemExit\u001b[0m\n"
     ]
    },
    {
     "name": "stderr",
     "output_type": "stream",
     "text": [
      "C:\\Users\\caspe\\AppData\\Roaming\\Python\\Python311\\site-packages\\IPython\\core\\interactiveshell.py:3534: UserWarning: To exit: use 'exit', 'quit', or Ctrl-D.\n",
      "  warn(\"To exit: use 'exit', 'quit', or Ctrl-D.\", stacklevel=1)\n"
     ]
    }
   ],
   "source": [
    "'''\n",
    "A SystemExit exception is triggered when the sys.exit() method is used to terminate the Python interpreter.\n",
    "Before the application ends, an exception may be detected and handled to carry out certain tasks.\n",
    "'''\n",
    "\n",
    "import sys\n",
    "sys.exit()"
   ]
  },
  {
   "cell_type": "markdown",
   "metadata": {},
   "source": [
    "- **KeyboardInterrupt**"
   ]
  },
  {
   "cell_type": "code",
   "execution_count": 49,
   "metadata": {},
   "outputs": [
    {
     "ename": "KeyboardInterrupt",
     "evalue": "",
     "output_type": "error",
     "traceback": [
      "\u001b[1;31m---------------------------------------------------------------------------\u001b[0m",
      "\u001b[1;31mKeyboardInterrupt\u001b[0m                         Traceback (most recent call last)",
      "Cell \u001b[1;32mIn[49], line 7\u001b[0m\n\u001b[0;32m      5\u001b[0m \u001b[38;5;28;01mfor\u001b[39;00m i \u001b[38;5;129;01min\u001b[39;00m \u001b[38;5;28mrange\u001b[39m(\u001b[38;5;241m999999\u001b[39m):\n\u001b[0;32m      6\u001b[0m     \u001b[38;5;28;01mfor\u001b[39;00m j \u001b[38;5;129;01min\u001b[39;00m \u001b[38;5;28mrange\u001b[39m(\u001b[38;5;241m999999\u001b[39m):\n\u001b[1;32m----> 7\u001b[0m         a_list\u001b[38;5;241m.\u001b[39mappend(\u001b[38;5;124m\"\u001b[39m\u001b[38;5;124mVery loooooooooooooooooooong string\u001b[39m\u001b[38;5;124m\"\u001b[39m)\n",
      "\u001b[1;31mKeyboardInterrupt\u001b[0m: "
     ]
    }
   ],
   "source": [
    "'''\n",
    "In Python, KeyboardInterrupt is a built-in exception that occurs when the user interrupts the execution of a program using a keyboard action, typically by pressing Ctrl+C\n",
    "'''\n",
    "a_list=[]\n",
    "for i in range(999999):\n",
    "    for j in range(999999):\n",
    "        a_list.append(\"Very loooooooooooooooooooong string\")"
   ]
  },
  {
   "cell_type": "markdown",
   "metadata": {},
   "source": [
    "- **abstract exceptions**"
   ]
  },
  {
   "cell_type": "markdown",
   "metadata": {},
   "source": [
    "I don't really get what they mean by that. Abstraction is a subject for class definitions and creating your own exceptions not for understanding different exception classes. I would say that you should know that some exceptions exist only for other exceptions to inherit from them (like BaseEsception or Exception)"
   ]
  },
  {
   "cell_type": "markdown",
   "metadata": {},
   "source": [
    "- **ArithmeticError**"
   ]
  },
  {
   "cell_type": "code",
   "execution_count": 1,
   "metadata": {},
   "outputs": [
    {
     "ename": "ZeroDivisionError",
     "evalue": "division by zero",
     "output_type": "error",
     "traceback": [
      "\u001b[1;31m---------------------------------------------------------------------------\u001b[0m",
      "\u001b[1;31mZeroDivisionError\u001b[0m                         Traceback (most recent call last)",
      "Cell \u001b[1;32mIn[1], line 8\u001b[0m\n\u001b[0;32m      1\u001b[0m \u001b[38;5;124;03m\"\"\"\u001b[39;00m\n\u001b[0;32m      2\u001b[0m \u001b[38;5;124;03mThis class is the base class for those built-in exceptions that are raised for various arithmetic errors such as:\u001b[39;00m\n\u001b[0;32m      3\u001b[0m \u001b[38;5;124;03m- OverflowError\u001b[39;00m\n\u001b[0;32m      4\u001b[0m \u001b[38;5;124;03m- ZeroDivisionError\u001b[39;00m\n\u001b[0;32m      5\u001b[0m \u001b[38;5;124;03m- FloatingPointError\u001b[39;00m\n\u001b[0;32m      6\u001b[0m \u001b[38;5;124;03m\"\"\"\u001b[39;00m\n\u001b[1;32m----> 8\u001b[0m a \u001b[38;5;241m=\u001b[39m \u001b[38;5;241;43m10\u001b[39;49m\u001b[38;5;241;43m/\u001b[39;49m\u001b[38;5;241;43m0\u001b[39;49m\n",
      "\u001b[1;31mZeroDivisionError\u001b[0m: division by zero"
     ]
    }
   ],
   "source": [
    "\"\"\"\n",
    "This class is the base class for those built-in exceptions that are raised for various arithmetic errors such as:\n",
    "- OverflowError\n",
    "- ZeroDivisionError\n",
    "- FloatingPointError\n",
    "\"\"\"\n",
    "\n",
    "a = 10/0"
   ]
  },
  {
   "cell_type": "markdown",
   "metadata": {},
   "source": [
    "- **LookupError**"
   ]
  },
  {
   "cell_type": "markdown",
   "metadata": {},
   "source": [
    "The base class for the exceptions that are raised when a key or index used on a mapping or sequence is invalid: IndexError, KeyError."
   ]
  },
  {
   "cell_type": "markdown",
   "metadata": {},
   "source": [
    "- **IndexError**"
   ]
  },
  {
   "cell_type": "code",
   "execution_count": 5,
   "metadata": {},
   "outputs": [
    {
     "ename": "IndexError",
     "evalue": "list index out of range",
     "output_type": "error",
     "traceback": [
      "\u001b[1;31m---------------------------------------------------------------------------\u001b[0m",
      "\u001b[1;31mIndexError\u001b[0m                                Traceback (most recent call last)",
      "Cell \u001b[1;32mIn[5], line 6\u001b[0m\n\u001b[0;32m      1\u001b[0m \u001b[38;5;124;03m'''\u001b[39;00m\n\u001b[0;32m      2\u001b[0m \u001b[38;5;124;03mRaised when a sequence subscript is out of range. (Slice indices are silently truncated to fall in the allowed range; if an index is not an integer, TypeError is raised.)\u001b[39;00m\n\u001b[0;32m      3\u001b[0m \u001b[38;5;124;03m'''\u001b[39;00m\n\u001b[0;32m      5\u001b[0m a_list\u001b[38;5;241m=\u001b[39m[\u001b[38;5;241m1\u001b[39m,\u001b[38;5;241m2\u001b[39m,\u001b[38;5;241m3\u001b[39m]\n\u001b[1;32m----> 6\u001b[0m \u001b[43ma_list\u001b[49m\u001b[43m[\u001b[49m\u001b[38;5;241;43m5\u001b[39;49m\u001b[43m]\u001b[49m\n",
      "\u001b[1;31mIndexError\u001b[0m: list index out of range"
     ]
    }
   ],
   "source": [
    "'''\n",
    "Raised when a sequence subscript is out of range. (Slice indices are silently truncated to fall in the allowed range; if an index is not an integer, TypeError is raised.)\n",
    "'''\n",
    "\n",
    "a_list=[1,2,3]\n",
    "a_list[5]"
   ]
  },
  {
   "cell_type": "markdown",
   "metadata": {},
   "source": [
    "- **KeyError**"
   ]
  },
  {
   "cell_type": "code",
   "execution_count": 6,
   "metadata": {},
   "outputs": [
    {
     "ename": "KeyError",
     "evalue": "'Anna'",
     "output_type": "error",
     "traceback": [
      "\u001b[1;31m---------------------------------------------------------------------------\u001b[0m",
      "\u001b[1;31mKeyError\u001b[0m                                  Traceback (most recent call last)",
      "Cell \u001b[1;32mIn[6], line 6\u001b[0m\n\u001b[0;32m      1\u001b[0m \u001b[38;5;124;03m'''\u001b[39;00m\n\u001b[0;32m      2\u001b[0m \u001b[38;5;124;03mRaised when a mapping (dictionary) key is not found in the set of existing keys\u001b[39;00m\n\u001b[0;32m      3\u001b[0m \u001b[38;5;124;03m'''\u001b[39;00m\n\u001b[0;32m      5\u001b[0m a_dict\u001b[38;5;241m=\u001b[39m{\u001b[38;5;124m\"\u001b[39m\u001b[38;5;124mmichael\u001b[39m\u001b[38;5;124m\"\u001b[39m: \u001b[38;5;241m23\u001b[39m}\n\u001b[1;32m----> 6\u001b[0m \u001b[43ma_dict\u001b[49m\u001b[43m[\u001b[49m\u001b[38;5;124;43m'\u001b[39;49m\u001b[38;5;124;43mAnna\u001b[39;49m\u001b[38;5;124;43m'\u001b[39;49m\u001b[43m]\u001b[49m\n",
      "\u001b[1;31mKeyError\u001b[0m: 'Anna'"
     ]
    }
   ],
   "source": [
    "'''\n",
    "Raised when a mapping (dictionary) key is not found in the set of existing keys\n",
    "'''\n",
    "\n",
    "a_dict={\"michael\": 23}\n",
    "a_dict['Anna']"
   ]
  },
  {
   "cell_type": "markdown",
   "metadata": {},
   "source": [
    "- **TypeError**"
   ]
  },
  {
   "cell_type": "code",
   "execution_count": 9,
   "metadata": {},
   "outputs": [
    {
     "ename": "TypeError",
     "evalue": "must be str, not int",
     "output_type": "error",
     "traceback": [
      "\u001b[1;31m---------------------------------------------------------------------------\u001b[0m",
      "\u001b[1;31mTypeError\u001b[0m                                 Traceback (most recent call last)",
      "Cell \u001b[1;32mIn[9], line 10\u001b[0m\n\u001b[0;32m      1\u001b[0m \u001b[38;5;124;03m'''\u001b[39;00m\n\u001b[0;32m      2\u001b[0m \u001b[38;5;124;03mRaised when an operation or function is applied to an object of inappropriate type.\u001b[39;00m\n\u001b[0;32m      3\u001b[0m \u001b[38;5;124;03mThe associated value is a string giving details about the type mismatch.\u001b[39;00m\n\u001b[1;32m   (...)\u001b[0m\n\u001b[0;32m      6\u001b[0m \u001b[38;5;124;03mbut passing arguments with the wrong value (e.g. a number outside expected boundaries) should result in a ValueError.\u001b[39;00m\n\u001b[0;32m      7\u001b[0m \u001b[38;5;124;03m'''\u001b[39;00m\n\u001b[0;32m      9\u001b[0m txt \u001b[38;5;241m=\u001b[39m \u001b[38;5;124m\"\u001b[39m\u001b[38;5;124mstring\u001b[39m\u001b[38;5;124m\"\u001b[39m\n\u001b[1;32m---> 10\u001b[0m \u001b[43mtxt\u001b[49m\u001b[38;5;241;43m.\u001b[39;49m\u001b[43mfind\u001b[49m\u001b[43m(\u001b[49m\u001b[38;5;241;43m23\u001b[39;49m\u001b[43m)\u001b[49m\n",
      "\u001b[1;31mTypeError\u001b[0m: must be str, not int"
     ]
    }
   ],
   "source": [
    "'''\n",
    "Raised when an operation or function is applied to an object of inappropriate type.\n",
    "The associated value is a string giving details about the type mismatch.\n",
    "\n",
    "Passing arguments of the wrong type (e.g. passing a list when an int is expected) should result in a TypeError,\n",
    "but passing arguments with the wrong value (e.g. a number outside expected boundaries) should result in a ValueError.\n",
    "'''\n",
    "\n",
    "txt = \"string\"\n",
    "txt.find(23)"
   ]
  },
  {
   "cell_type": "markdown",
   "metadata": {},
   "source": [
    "- **ValueError**"
   ]
  },
  {
   "cell_type": "code",
   "execution_count": 12,
   "metadata": {},
   "outputs": [
    {
     "ename": "ValueError",
     "evalue": "math domain error",
     "output_type": "error",
     "traceback": [
      "\u001b[1;31m---------------------------------------------------------------------------\u001b[0m",
      "\u001b[1;31mValueError\u001b[0m                                Traceback (most recent call last)",
      "Cell \u001b[1;32mIn[12], line 8\u001b[0m\n\u001b[0;32m      6\u001b[0m \u001b[38;5;28;01mimport\u001b[39;00m \u001b[38;5;21;01mmath\u001b[39;00m\n\u001b[0;32m      7\u001b[0m \u001b[38;5;66;03m# sqrt means square root\u001b[39;00m\n\u001b[1;32m----> 8\u001b[0m \u001b[43mmath\u001b[49m\u001b[38;5;241;43m.\u001b[39;49m\u001b[43msqrt\u001b[49m\u001b[43m(\u001b[49m\u001b[38;5;241;43m-\u001b[39;49m\u001b[38;5;241;43m10\u001b[39;49m\u001b[43m)\u001b[49m\n",
      "\u001b[1;31mValueError\u001b[0m: math domain error"
     ]
    }
   ],
   "source": [
    "\"\"\"\n",
    "Raised when an operation or function receives an argument that has the right type but an inappropriate value,\n",
    "and the situation is not described by a more precise exception such as IndexError.\n",
    "\"\"\"\n",
    "\n",
    "import math\n",
    "# sqrt means square root\n",
    "math.sqrt(-10)"
   ]
  },
  {
   "cell_type": "markdown",
   "metadata": {},
   "source": [
    "## 4.4 – Basics of Python Exception Handling"
   ]
  },
  {
   "cell_type": "markdown",
   "metadata": {},
   "source": [
    "- **try-except / the try-except Exception**"
   ]
  },
  {
   "cell_type": "code",
   "execution_count": 15,
   "metadata": {},
   "outputs": [
    {
     "name": "stdout",
     "output_type": "stream",
     "text": [
      "Some error found\n",
      "string\n"
     ]
    }
   ],
   "source": [
    "'''\n",
    "When an error occurs, or exception as we call it, Python will normally stop and generate an error message.\n",
    "\n",
    "These exceptions can be handled using the try-except statement.\n",
    "'''\n",
    "\n",
    "txt = \"string\"\n",
    "try:\n",
    "    txt.find(23)\n",
    "except:\n",
    "    print(\"Some error found\")\n",
    "\n",
    "print(txt)"
   ]
  },
  {
   "cell_type": "markdown",
   "metadata": {},
   "source": [
    "- **ordering the except branches**"
   ]
  },
  {
   "cell_type": "code",
   "execution_count": 20,
   "metadata": {},
   "outputs": [
    {
     "name": "stdout",
     "output_type": "stream",
     "text": [
      "We found a TypeError\n",
      "string\n"
     ]
    }
   ],
   "source": [
    "# If we want to additionaly catch an error of specific class we can add exception class after except keyword:\n",
    "\n",
    "txt = \"string\"\n",
    "try:\n",
    "    txt.find(23)\n",
    "except TypeError:\n",
    "    print(\"We found a TypeError\")\n",
    "except:\n",
    "    print(\"Some error found\")\n",
    "\n",
    "print(txt)"
   ]
  },
  {
   "cell_type": "code",
   "execution_count": 23,
   "metadata": {},
   "outputs": [
    {
     "name": "stdout",
     "output_type": "stream",
     "text": [
      "We found an error of Lookup type\n",
      "string\n"
     ]
    }
   ],
   "source": [
    "# Ordering the except branches will affect which branch will be chosen\n",
    "# In this scenario the second branch will never be chosen, because IndexError derives from LookupError which means\n",
    "# that whenever IndexError is caught, LookupError branch will take over the flow\n",
    "\n",
    "try:\n",
    "    a_list=[1,2,3]\n",
    "    b = a_list[5]\n",
    "except LookupError:\n",
    "    print(\"We found an error of Lookup type\")\n",
    "except IndexError:\n",
    "    print(\"We found a IndexError\")\n",
    "except:\n",
    "    print(\"Some error found\")\n",
    "\n",
    "print(txt)"
   ]
  },
  {
   "cell_type": "markdown",
   "metadata": {},
   "source": [
    "- **propagating exceptions through function boundaries**"
   ]
  },
  {
   "cell_type": "markdown",
   "metadata": {},
   "source": [
    "- An exception caught in a function does not propagate to the caller.\n",
    "- An uncaught exception in a function will propagate to the function that called it. If it's not caught there, it will continue propagating throught the call chain/stack to the top level.\n",
    "- Uncaught exceptions terminate the program if they propagate to the top level.\n",
    "- The calling function can catch an exception raised in the called function. When the exception is handled, and the program continues."
   ]
  },
  {
   "cell_type": "code",
   "execution_count": 26,
   "metadata": {},
   "outputs": [
    {
     "name": "stdout",
     "output_type": "stream",
     "text": [
      "in h, before g()\n",
      "in g, before f()\n",
      "in f, before 1/0\n",
      "ZD exception caught\n",
      "function h ends\n"
     ]
    }
   ],
   "source": [
    "def f():\n",
    "    print(\"in f, before 1/0\")\n",
    "    1/0                           # raises a ZeroDivisionError exception\n",
    "    print(\"in f, after 1/0\")\n",
    "\n",
    "def g():\n",
    "    print(\"in g, before f()\")\n",
    "    f()\n",
    "    print(\"in g, after f()\")\n",
    "\n",
    "def h():\n",
    "    print(\"in h, before g()\")\n",
    "    try:\n",
    "        g()\n",
    "        print(\"in h, after g()\")\n",
    "    except ZeroDivisionError:\n",
    "        print(\"ZD exception caught\")\n",
    "    print(\"function h ends\")\n",
    "\n",
    "h()"
   ]
  },
  {
   "cell_type": "markdown",
   "metadata": {},
   "source": [
    "- **delegating responsibility for handling exceptions**"
   ]
  },
  {
   "cell_type": "markdown",
   "metadata": {},
   "source": [
    "- Delegating responsibility for handling exceptions means allowing exceptions to propagate to other functions or parts of the program where they can be handled, rather than catching them in the function where they occur.\n",
    "\n",
    "Examples of delegating responsibility for handling exceptions:\n",
    "- Raising an exception in a function and catching it in the calling function.\n",
    "- Re-raising an exception in a function so that it can be caught by a higher-level handler.\n",
    "- Allowing the exception to propagate to a global handler."
   ]
  },
  {
   "cell_type": "code",
   "execution_count": 30,
   "metadata": {},
   "outputs": [
    {
     "name": "stdout",
     "output_type": "stream",
     "text": [
      "Invalid value provided!\n",
      "Message: Argument is below zero\n"
     ]
    }
   ],
   "source": [
    "# Example of delegating responsibility for handling exception to the calling function\n",
    "\n",
    "def not_below_one(x):\n",
    "    if x < 0:\n",
    "        raise ValueError(\"Argument is below zero\")\n",
    "    else:\n",
    "        print(x)\n",
    "\n",
    "try:\n",
    "    not_below_one(-2)\n",
    "except Exception as e:\n",
    "    print(f\"Invalid value provided!\\nMessage: {str(e)}\")"
   ]
  }
 ],
 "metadata": {
  "kernelspec": {
   "display_name": "Python 3",
   "language": "python",
   "name": "python3"
  },
  "language_info": {
   "codemirror_mode": {
    "name": "ipython",
    "version": 3
   },
   "file_extension": ".py",
   "mimetype": "text/x-python",
   "name": "python",
   "nbconvert_exporter": "python",
   "pygments_lexer": "ipython3",
   "version": "3.11.5"
  }
 },
 "nbformat": 4,
 "nbformat_minor": 2
}
