{
 "cells": [
  {
   "cell_type": "markdown",
   "metadata": {},
   "source": [
    "Q1) When creating a custom exception in Python, it's essential to inherit from the base Exception class or one of its subclasses to integrate seamlessly with the Python exception handling system. This inheritance ensures that custom exceptions behave like standard exceptions, allowing them to be caught and handled using try-except blocks. It provides the necessary functionality and attributes expected of an exception, such as storing an error message and supporting stack trace generation. By adhering to this structure, custom exceptions maintain consistency with Python's error handling paradigm, ensuring that they can be used and understood in the same way as built-in exceptions."
   ]
  },
  {
   "cell_type": "code",
   "execution_count": 1,
   "metadata": {},
   "outputs": [
    {
     "name": "stdout",
     "output_type": "stream",
     "text": [
      "Caught an arithmetic error\n",
      "Caught a general exception\n"
     ]
    }
   ],
   "source": [
    "# Q2\n",
    "try:\n",
    "    result = 1 / 0\n",
    "\n",
    "except ArithmeticError:\n",
    "    print(\"Caught an arithmetic error\")\n",
    "\n",
    "except Exception:\n",
    "    # This block will catch any other Exception\n",
    "    print(\"Caught a general exception\")\n",
    "\n",
    "# Another example to show the hierarchy\n",
    "try:\n",
    "    # This will cause a ZeroDivisionError\n",
    "    result = 1 / 0\n",
    "except Exception:\n",
    "   \n",
    "    print(\"Caught a general exception\")# This block will NOT be reached, as the general Exception block catches it first\n",
    "    print(\"Caught an arithmetic error\")\n"
   ]
  },
  {
   "cell_type": "markdown",
   "metadata": {},
   "source": [
    "ans 3\n",
    "ArithmeticError in Python is a built-in exception class that serves as the base class for various arithmetic-related errors \n",
    "ZeroDivisionError: Raised when a division or modulo operation is performed with zero as the divisor.\n",
    "\n",
    "OverflowError: Raised when a numerical operation results in a value that's too large to be represented.\n",
    "\n",
    "FloatingPointError\n"
   ]
  },
  {
   "cell_type": "code",
   "execution_count": 2,
   "metadata": {},
   "outputs": [
    {
     "name": "stdout",
     "output_type": "stream",
     "text": [
      "You cannot divide by zero!\n"
     ]
    }
   ],
   "source": [
    "try:\n",
    "    result = 10 / 0\n",
    "except ZeroDivisionError:\n",
    "    print(\"You cannot divide by zero!\")\n"
   ]
  },
  {
   "cell_type": "code",
   "execution_count": 3,
   "metadata": {},
   "outputs": [
    {
     "name": "stdout",
     "output_type": "stream",
     "text": [
      "The result is too large to handle!\n"
     ]
    }
   ],
   "source": [
    "import math\n",
    "try:\n",
    "    # This will raise OverflowError for a large exponential operation\n",
    "    result = math.exp(1000)\n",
    "except OverflowError:\n",
    "    print(\"The result is too large to handle!\")\n"
   ]
  },
  {
   "cell_type": "code",
   "execution_count": 6,
   "metadata": {},
   "outputs": [
    {
     "name": "stdout",
     "output_type": "stream",
     "text": [
      "Key not found in dictionary.\n",
      "Index out of range.\n"
     ]
    }
   ],
   "source": [
    "# ans 4 LookupError in Python is an exception class that serves as the base class for exceptions that occur when a lookup on a collection fails. It's mainly used for handling errors related to accessing elements in data structures, such as lists and dictionaries.\n",
    "# KeyError\n",
    "try:\n",
    "    dict = {\"a\": 1, \"b\": 2}\n",
    "    value = dict[\"c\"]\n",
    "except KeyError:\n",
    "    print(\"Key not found in dictionary.\")\n",
    "\n",
    "# index error\n",
    "try:\n",
    "    list = [1, 2, 3]\n",
    "    value = list[5]\n",
    "except IndexError:\n",
    "    print(\"Index out of range.\")\n"
   ]
  },
  {
   "cell_type": "code",
   "execution_count": null,
   "metadata": {},
   "outputs": [],
   "source": [
    "# ans 5 :- ImportError in Python is raised when an import statement fails to find the module definition or cannot load the module. A subclass of ImportError is ModuleNotFoundError, which is more specific and is raised when a module cannot be found. It indicates the absence of the specified module in the Python path."
   ]
  },
  {
   "cell_type": "markdown",
   "metadata": {},
   "source": [
    "Q6) Catch Specific Exceptions: Always catch specific exceptions rather than using a bare except: clause to avoid masking other unexpected errors.\n",
    "\n",
    "Use Meaningful Error Messages: Provide clear, concise error messages that can help diagnose the issue.\n",
    "\n",
    "Limit the try Block Scope: Keep the code inside try blocks minimal to avoid catching exceptions that weren't anticipated.\n",
    "\n",
    "Clean Up Resources in finally: Ensure resource cleanup (like closing files or network connections) in finally blocks.\n",
    "\n",
    "Avoid Raising Generic Exceptions: Raise specific exceptions instead of generic ones to provide more context about the error."
   ]
  }
 ],
 "metadata": {
  "kernelspec": {
   "display_name": "Python 3",
   "language": "python",
   "name": "python3"
  },
  "language_info": {
   "codemirror_mode": {
    "name": "ipython",
    "version": 3
   },
   "file_extension": ".py",
   "mimetype": "text/x-python",
   "name": "python",
   "nbconvert_exporter": "python",
   "pygments_lexer": "ipython3",
   "version": "3.9.12"
  }
 },
 "nbformat": 4,
 "nbformat_minor": 2
}
