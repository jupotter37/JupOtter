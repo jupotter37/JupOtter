{
 "cells": [
  {
   "cell_type": "markdown",
   "metadata": {},
   "source": [
    "# Hata Ayıklama ve Yakalama\n",
    "* try-except\n",
    "* try-except-finally\n",
    "* raise"
   ]
  },
  {
   "cell_type": "code",
   "execution_count": 8,
   "metadata": {},
   "outputs": [
    {
     "ename": "ZeroDivisionError",
     "evalue": "division by zero",
     "output_type": "error",
     "traceback": [
      "\u001b[0;31m---------------------------------------------------------------------------\u001b[0m",
      "\u001b[0;31mZeroDivisionError\u001b[0m                         Traceback (most recent call last)",
      "Cell \u001b[0;32mIn[8], line 3\u001b[0m\n\u001b[1;32m      1\u001b[0m a \u001b[38;5;241m=\u001b[39m \u001b[38;5;28mint\u001b[39m(\u001b[38;5;28minput\u001b[39m(\u001b[38;5;124m\"\u001b[39m\u001b[38;5;124m1. Sayıyı Giriniz:\u001b[39m\u001b[38;5;124m\"\u001b[39m)) \u001b[38;5;66;03m# ValueError,ZeroDivisionError\u001b[39;00m\n\u001b[1;32m      2\u001b[0m b \u001b[38;5;241m=\u001b[39m \u001b[38;5;28mint\u001b[39m(\u001b[38;5;28minput\u001b[39m(\u001b[38;5;124m\"\u001b[39m\u001b[38;5;124m2. Sayıyı Giriniz:\u001b[39m\u001b[38;5;124m\"\u001b[39m))\n\u001b[0;32m----> 3\u001b[0m \u001b[43ma\u001b[49m\u001b[38;5;241;43m/\u001b[39;49m\u001b[43mb\u001b[49m\n\u001b[1;32m      4\u001b[0m \u001b[38;5;28mprint\u001b[39m(\u001b[38;5;124m\"\u001b[39m\u001b[38;5;124mProgram Çalışmaya Devam Ediyor\u001b[39m\u001b[38;5;124m\"\u001b[39m)\n",
      "\u001b[0;31mZeroDivisionError\u001b[0m: division by zero"
     ]
    }
   ],
   "source": [
    "a = int(input(\"1. Sayıyı Giriniz:\")) # ValueError,ZeroDivisionError\n",
    "b = int(input(\"2. Sayıyı Giriniz:\"))\n",
    "a/b\n",
    "print(\"Program Çalışmaya Devam Ediyor\")"
   ]
  },
  {
   "cell_type": "markdown",
   "metadata": {},
   "source": [
    "## try-except"
   ]
  },
  {
   "cell_type": "code",
   "execution_count": 9,
   "metadata": {},
   "outputs": [
    {
     "name": "stdout",
     "output_type": "stream",
     "text": [
      "Program Çalışmaya Devam Ediyor\n"
     ]
    }
   ],
   "source": [
    "try:\n",
    "    a = int(input(\"1. Sayıyı Giriniz:\")) # ValueError,ZeroDivisionError\n",
    "    b = int(input(\"2. Sayıyı Giriniz:\"))\n",
    "    a/b\n",
    "except:\n",
    "    pass\n",
    "print(\"Program Çalışmaya Devam Ediyor\")"
   ]
  },
  {
   "cell_type": "code",
   "execution_count": 12,
   "metadata": {},
   "outputs": [
    {
     "name": "stdout",
     "output_type": "stream",
     "text": [
      "Hata Verdi! Hata Mesajı: division by zero\n",
      "Program Çalışmaya Devam Ediyor\n"
     ]
    }
   ],
   "source": [
    "try:\n",
    "    a = int(input(\"1. Sayıyı Giriniz:\")) # ValueError,ZeroDivisionError\n",
    "    b = int(input(\"2. Sayıyı Giriniz:\"))\n",
    "    a/b\n",
    "except Exception as hata:\n",
    "    print(\"Hata Verdi! Hata Mesajı:\",hata)\n",
    "print(\"Program Çalışmaya Devam Ediyor\")"
   ]
  },
  {
   "cell_type": "code",
   "execution_count": 15,
   "metadata": {},
   "outputs": [
    {
     "name": "stdout",
     "output_type": "stream",
     "text": [
      "Sayı Girmeni İstemiştik\n",
      "Program Çalışmaya Devam Ediyor\n"
     ]
    }
   ],
   "source": [
    "try:\n",
    "    a = int(input(\"1. Sayıyı Giriniz:\")) # ValueError,ZeroDivisionError\n",
    "    b = int(input(\"2. Sayıyı Giriniz:\"))\n",
    "    a/b\n",
    "except ZeroDivisionError:\n",
    "    print(\"Sıfıra Bölme Hatası\")\n",
    "except ValueError:\n",
    "    print(\"Sayı Girmeni İstemiştik\")\n",
    "except Exception:\n",
    "    print(\"Genel Hata\")\n",
    "print(\"Program Çalışmaya Devam Ediyor\")"
   ]
  },
  {
   "cell_type": "markdown",
   "metadata": {},
   "source": [
    "--------------------------------------------\n",
    "# Exception Hierarchy\n",
    "\n",
    "\n",
    "<pre class=\"oi oj ok ol om on nd oo bo op ba bj\"><span id=\"7c2e\" class=\"oq nf ft nd b bf or os l ot ou\" data-selectable-paragraph=\"\">BaseException<br> ├── BaseExceptionGroup<br> ├── GeneratorExit<br> ├── KeyboardInterrupt<br> ├── SystemExit<br> └── Exception<br>      ├── ArithmeticError<br>      │    ├── FloatingPointError<br>      │    ├── OverflowError<br>      │    └── ZeroDivisionError<br>      ├── AssertionError<br>      ├── AttributeError<br>      ├── BufferError<br>      ├── EOFError<br>      ├── ExceptionGroup [BaseExceptionGroup]<br>      ├── ImportError<br>      │    └── ModuleNotFoundError<br>      ├── LookupError<br>      │    ├── IndexError<br>      │    └── KeyError<br>      ├── MemoryError<br>      ├── NameError<br>      │    └── UnboundLocalError<br>      ├── OSError<br>      │    ├── BlockingIOError<br>      │    ├── ChildProcessError<br>      │    ├── ConnectionError<br>      │    │    ├── BrokenPipeError<br>      │    │    ├── ConnectionAbortedError<br>      │    │    ├── ConnectionRefusedError<br>      │    │    └── ConnectionResetError<br>      │    ├── FileExistsError<br>      │    ├── FileNotFoundError<br>      │    ├── InterruptedError<br>      │    ├── IsADirectoryError<br>      │    ├── NotADirectoryError<br>      │    ├── PermissionError<br>      │    ├── ProcessLookupError<br>      │    └── TimeoutError<br>      ├── ReferenceError<br>      ├── RuntimeError<br>      │    ├── NotImplementedError<br>      │    └── RecursionError<br>      ├── StopAsyncIteration<br>      ├── StopIteration<br>      ├── SyntaxError<br>      │    └── IndentationError<br>      │         └── TabError<br>      ├── SystemError<br>      ├── TypeError<br>      ├── ValueError<br>      │    └── UnicodeError<br>      │         ├── UnicodeDecodeError<br>      │         ├── UnicodeEncodeError<br>      │         └── UnicodeTranslateError<br>      └── Warning<br>           ├── BytesWarning<br>           ├── DeprecationWarning<br>           ├── EncodingWarning<br>           ├── FutureWarning<br>           ├── ImportWarning<br>           ├── PendingDeprecationWarning<br>           ├── ResourceWarning<br>           ├── RuntimeWarning<br>           ├── SyntaxWarning<br>           ├── UnicodeWarning<br>           └── UserWarning</span></pre>\n",
    "\n",
    "\n",
    "---------------------"
   ]
  },
  {
   "cell_type": "code",
   "execution_count": 16,
   "metadata": {},
   "outputs": [
    {
     "name": "stdout",
     "output_type": "stream",
     "text": [
      "Genel Hata\n",
      "Program Çalışmaya Devam Ediyor\n"
     ]
    }
   ],
   "source": [
    "try:\n",
    "    a = int(input(\"1. Sayıyı Giriniz:\")) # ValueError,ZeroDivisionError\n",
    "    b = int(input(\"2. Sayıyı Giriniz:\"))\n",
    "    a/b\n",
    "except Exception:\n",
    "    print(\"Genel Hata\")\n",
    "except ZeroDivisionError:\n",
    "    print(\"Sıfıra Bölme Hatası\")\n",
    "except ValueError:\n",
    "    print(\"Sayı Girmeni İstemiştik\")\n",
    "\n",
    "print(\"Program Çalışmaya Devam Ediyor\")"
   ]
  },
  {
   "cell_type": "code",
   "execution_count": 20,
   "metadata": {},
   "outputs": [
    {
     "name": "stdout",
     "output_type": "stream",
     "text": [
      "17.0\n",
      "Program Çalışmaya Devam Ediyor\n"
     ]
    }
   ],
   "source": [
    "try:\n",
    "    a = int(input(\"1. Sayıyı Giriniz:\")) # ValueError,ZeroDivisionError\n",
    "    b = int(input(\"2. Sayıyı Giriniz:\"))\n",
    "    print(a/b)\n",
    "except (ZeroDivisionError,ValueError) :\n",
    "    print(\"Sıfıra Bölme Hatası\")\n",
    "\n",
    "print(\"Program Çalışmaya Devam Ediyor\")"
   ]
  },
  {
   "cell_type": "markdown",
   "metadata": {},
   "source": [
    "## finally"
   ]
  },
  {
   "cell_type": "code",
   "execution_count": 22,
   "metadata": {},
   "outputs": [
    {
     "name": "stdout",
     "output_type": "stream",
     "text": [
      "Sıfıra Bölme Hatası\n",
      "Sonunda ÇALIŞIR\n",
      "Program Çalışmaya Devam Ediyor\n"
     ]
    }
   ],
   "source": [
    "try:\n",
    "    a = int(input(\"1. Sayıyı Giriniz:\")) # ValueError,ZeroDivisionError\n",
    "    b = int(input(\"2. Sayıyı Giriniz:\"))\n",
    "    print(a/b)\n",
    "except ZeroDivisionError:\n",
    "    print(\"Sıfıra Bölme Hatası\")\n",
    "except ValueError:\n",
    "    print(\"Sayı Girmeni İstemiştik\")\n",
    "except Exception:\n",
    "    print(\"Genel Hata\")\n",
    "finally:\n",
    "    print(\"Sonunda ÇALIŞIR\")\n",
    "print(\"Program Çalışmaya Devam Ediyor\")"
   ]
  },
  {
   "cell_type": "code",
   "execution_count": 24,
   "metadata": {},
   "outputs": [
    {
     "name": "stdout",
     "output_type": "stream",
     "text": [
      "Program Çalışmaya Devam Ediyor\n"
     ]
    }
   ],
   "source": [
    "def fonk():\n",
    "    try:\n",
    "        a = int(input(\"1. Sayıyı Giriniz:\")) # ValueError,ZeroDivisionError\n",
    "        b = int(input(\"2. Sayıyı Giriniz:\"))\n",
    "        return a/b\n",
    "    except ZeroDivisionError:\n",
    "        print(\"Sıfıra Bölme Hatası\")\n",
    "    except ValueError:\n",
    "        print(\"Sayı Girmeni İstemiştik\")\n",
    "    except Exception:\n",
    "        print(\"Genel Hata\")\n",
    "    finally:\n",
    "        print(\"Sonunda ÇALIŞIR\")\n",
    "print(\"Program Çalışmaya Devam Ediyor\")"
   ]
  },
  {
   "cell_type": "code",
   "execution_count": 25,
   "metadata": {},
   "outputs": [
    {
     "name": "stdout",
     "output_type": "stream",
     "text": [
      "Sonunda ÇALIŞIR\n"
     ]
    },
    {
     "data": {
      "text/plain": [
       "2.5"
      ]
     },
     "execution_count": 25,
     "metadata": {},
     "output_type": "execute_result"
    }
   ],
   "source": [
    "fonk()"
   ]
  },
  {
   "cell_type": "markdown",
   "metadata": {},
   "source": [
    "## raise"
   ]
  },
  {
   "cell_type": "code",
   "execution_count": 30,
   "metadata": {},
   "outputs": [
    {
     "name": "stdout",
     "output_type": "stream",
     "text": [
      "Sıfıra Bölme Hatası Sıfırı Sayıya Bölmeye Çalıştın\n",
      "Sonunda ÇALIŞIR\n"
     ]
    }
   ],
   "source": [
    "try:\n",
    "    a = int(input(\"1. Sayıyı Giriniz:\"))\n",
    "    b = int(input(\"2. Sayıyı Giriniz:\"))\n",
    "    if a == 0:\n",
    "        raise ZeroDivisionError(\"Sıfırı Sayıya Bölmeye Çalıştın\")\n",
    "    print(a/b)\n",
    "except ZeroDivisionError as hata:\n",
    "    print(\"Sıfıra Bölme Hatası\",hata)\n",
    "except ValueError:\n",
    "    print(\"Sayı Girmeni İstemiştik\")\n",
    "except Exception:\n",
    "    print(\"Genel Hata\")\n",
    "finally:\n",
    "    print(\"Sonunda ÇALIŞIR\")"
   ]
  },
  {
   "cell_type": "code",
   "execution_count": 32,
   "metadata": {},
   "outputs": [
    {
     "name": "stdout",
     "output_type": "stream",
     "text": [
      "Sıfıra Bölme Hatası\n"
     ]
    }
   ],
   "source": [
    "def fonk(a,b):\n",
    "    if a == 0 or b == 0:\n",
    "        raise ZeroDivisionError(\"Sıfıra Bölme Hatası\") \n",
    "    return a/b\n",
    "try:\n",
    "    a = int(input(\"1. Sayıyı Giriniz:\"))\n",
    "    b = int(input(\"2. Sayıyı Giriniz:\"))\n",
    "    print(fonk(a,b))\n",
    "except Exception as hata:\n",
    "    print(hata)\n",
    " \n"
   ]
  },
  {
   "cell_type": "code",
   "execution_count": null,
   "metadata": {},
   "outputs": [],
   "source": []
  }
 ],
 "metadata": {
  "kernelspec": {
   "display_name": "Python 3",
   "language": "python",
   "name": "python3"
  },
  "language_info": {
   "codemirror_mode": {
    "name": "ipython",
    "version": 3
   },
   "file_extension": ".py",
   "mimetype": "text/x-python",
   "name": "python",
   "nbconvert_exporter": "python",
   "pygments_lexer": "ipython3",
   "version": "3.12.4"
  }
 },
 "nbformat": 4,
 "nbformat_minor": 2
}
