{
 "cells": [
  {
   "cell_type": "markdown",
   "id": "2db4bfb6-3046-4767-bfcc-8669b7188d48",
   "metadata": {},
   "source": [
    "Q1. Explain why we have to use the Exception class while creating a Custom Exception.\n",
    "Note: Here Exception class refers to the base class for all the exceptions."
   ]
  },
  {
   "cell_type": "markdown",
   "id": "1429e588-aafb-4b72-b393-c8379b32a4fd",
   "metadata": {},
   "source": [
    "Answer:-\n",
    "In Python, all built-in exceptions are subclasses of the Exception class. When we create a custom exception, we typically want it to be a subclass of one of the existing exceptions, or of the Exception class itself.\n",
    "\n",
    "There are several reasons for using the Exception class as the base class for a custom exception:\n",
    "\n",
    "Inheritance: By inheriting from the Exception class, our custom exception will inherit all the behavior and attributes of the Exception class, including the ability to raise and catch the exception, and the ability to customize the error message.\n",
    "\n",
    "Compatibility: By inheriting from the Exception class, our custom exception will be compatible with all the built-in exception handling mechanisms in Python, such as the try-except statement and the raise statement.\n",
    "\n",
    "Consistency: By using the Exception class as the base class for all our custom exceptions, we ensure that they have a consistent interface and behavior, which makes it easier to write code that handles multiple types of exceptions.\n",
    "\n",
    "Overall, using the Exception class as the base class for a custom exception is a best practice in Python, as it ensures that the custom exception behaves like a standard Python exception and is easy to integrate with existing code\n"
   ]
  },
  {
   "cell_type": "code",
   "execution_count": 9,
   "id": "86468c3f-7aef-450d-bc27-3c690650b297",
   "metadata": {},
   "outputs": [],
   "source": [
    "class validateage(Exception):\n",
    "    def __init__(self,msg):\n",
    "        self.msg=msg\n"
   ]
  },
  {
   "cell_type": "code",
   "execution_count": 12,
   "id": "67459ff9-2274-4958-8b82-41e4235d294c",
   "metadata": {},
   "outputs": [],
   "source": [
    "    def validate_age(age):\n",
    "        if age <0 :\n",
    "            raise validateage(\"age cannot be negative\")\n",
    "        \n",
    "        elif age>100:\n",
    "            raise validateage(\"age is out of range\")\n",
    "        \n",
    "        else :\n",
    "            raise validateage(\"age is valid\")"
   ]
  },
  {
   "cell_type": "code",
   "execution_count": 13,
   "id": "9424735f-dd5f-4ccf-adb6-c2dd7662223e",
   "metadata": {},
   "outputs": [
    {
     "name": "stdin",
     "output_type": "stream",
     "text": [
      "enter age 101\n"
     ]
    },
    {
     "name": "stdout",
     "output_type": "stream",
     "text": [
      "age is out of range\n"
     ]
    }
   ],
   "source": [
    "try :\n",
    "    age=int(input(\"enter age\"))\n",
    "    validate_age(age)\n",
    "    \n",
    "except validateage as e :\n",
    "    print(e)"
   ]
  },
  {
   "cell_type": "markdown",
   "id": "b373e198-88a6-4cd6-bca5-66d272a6bf22",
   "metadata": {},
   "source": [
    "Q2. Write a python program to print Python Exception Hierarchy."
   ]
  },
  {
   "cell_type": "markdown",
   "id": "1fb921c2-676e-45f7-b392-589e24c443ee",
   "metadata": {},
   "source": [
    "Answer:-\n",
    "This program defines a function print_exception_hierarchy that takes an exception class and a level as arguments. It prints the name of the exception class with indentation based on the level and recursively iterates through its subclasses.\n",
    "\n",
    "To print the Python Exception Hierarchy, it starts with the BaseException class, which is the root of the exception hierarchy. You can run this program to see the hierarchy printed in the console."
   ]
  },
  {
   "cell_type": "code",
   "execution_count": 15,
   "id": "f18aa4c4-5cdd-49f2-ad70-6df73ae36a87",
   "metadata": {},
   "outputs": [
    {
     "name": "stdout",
     "output_type": "stream",
     "text": [
      "Exception\n",
      " TypeError\n",
      "  FloatOperation\n",
      "  MultipartConversionError\n",
      " StopAsyncIteration\n",
      " StopIteration\n",
      " ImportError\n",
      "  ModuleNotFoundError\n",
      "  ZipImportError\n",
      " OSError\n",
      "  ConnectionError\n",
      "   BrokenPipeError\n",
      "   ConnectionAbortedError\n",
      "   ConnectionRefusedError\n",
      "   ConnectionResetError\n",
      "    RemoteDisconnected\n",
      "  BlockingIOError\n",
      "  ChildProcessError\n",
      "  FileExistsError\n",
      "  FileNotFoundError\n",
      "  IsADirectoryError\n",
      "  NotADirectoryError\n",
      "  InterruptedError\n",
      "   InterruptedSystemCall\n",
      "  PermissionError\n",
      "  ProcessLookupError\n",
      "  TimeoutError\n",
      "  UnsupportedOperation\n",
      "  itimer_error\n",
      "  herror\n",
      "  gaierror\n",
      "  SSLError\n",
      "   SSLCertVerificationError\n",
      "   SSLZeroReturnError\n",
      "   SSLWantWriteError\n",
      "   SSLWantReadError\n",
      "   SSLSyscallError\n",
      "   SSLEOFError\n",
      "  Error\n",
      "   SameFileError\n",
      "  SpecialFileError\n",
      "  ExecError\n",
      "  ReadError\n",
      "  URLError\n",
      "   HTTPError\n",
      "   ContentTooShortError\n",
      "  BadGzipFile\n",
      " EOFError\n",
      "  IncompleteReadError\n",
      " RuntimeError\n",
      "  RecursionError\n",
      "  NotImplementedError\n",
      "   ZMQVersionError\n",
      "   StdinNotImplementedError\n",
      "  _DeadlockError\n",
      "  BrokenBarrierError\n",
      "  BrokenExecutor\n",
      "   BrokenThreadPool\n",
      "  SendfileNotAvailableError\n",
      "  ExtractionError\n",
      "  VariableError\n",
      " NameError\n",
      "  UnboundLocalError\n",
      " AttributeError\n",
      "  FrozenInstanceError\n",
      " SyntaxError\n",
      "  IndentationError\n",
      "   TabError\n",
      " LookupError\n",
      "  IndexError\n",
      "  KeyError\n",
      "   NoSuchKernel\n",
      "   UnknownBackend\n",
      "  CodecRegistryError\n",
      " ValueError\n",
      "  UnicodeError\n",
      "   UnicodeEncodeError\n",
      "   UnicodeDecodeError\n",
      "   UnicodeTranslateError\n",
      "  UnsupportedOperation\n",
      "  JSONDecodeError\n",
      "  SSLCertVerificationError\n",
      "  Error\n",
      "  UnsupportedDigestmodError\n",
      "  IllegalMonthError\n",
      "  IllegalWeekdayError\n",
      "  ParserError\n",
      "  ClassNotFound\n",
      "  ClipboardEmpty\n",
      "  MessageDefect\n",
      "   NoBoundaryInMultipartDefect\n",
      "   StartBoundaryNotFoundDefect\n",
      "   CloseBoundaryNotFoundDefect\n",
      "   FirstHeaderLineIsContinuationDefect\n",
      "   MisplacedEnvelopeHeaderDefect\n",
      "   MissingHeaderBodySeparatorDefect\n",
      "   MultipartInvariantViolationDefect\n",
      "   InvalidMultipartContentTransferEncodingDefect\n",
      "   UndecodableBytesDefect\n",
      "   InvalidBase64PaddingDefect\n",
      "   InvalidBase64CharactersDefect\n",
      "   InvalidBase64LengthDefect\n",
      "   HeaderDefect\n",
      "    InvalidHeaderDefect\n",
      "    HeaderMissingRequiredValue\n",
      "    NonPrintableDefect\n",
      "    ObsoleteHeaderDefect\n",
      "    NonASCIILocalPartDefect\n",
      "    InvalidDateDefect\n",
      "  MacroToEdit\n",
      "  InvalidFileException\n",
      "  UnequalIterablesError\n",
      "  InvalidVersion\n",
      "  _InvalidELFFileHeader\n",
      "  InvalidWheelFilename\n",
      "  InvalidSdistFilename\n",
      "  InvalidSpecifier\n",
      "  InvalidMarker\n",
      "  UndefinedComparison\n",
      "  UndefinedEnvironmentName\n",
      "  InvalidRequirement\n",
      "   RequirementParseError\n",
      "  InvalidVersion\n",
      " AssertionError\n",
      " ArithmeticError\n",
      "  FloatingPointError\n",
      "  OverflowError\n",
      "  ZeroDivisionError\n",
      "   DivisionByZero\n",
      "   DivisionUndefined\n",
      "  DecimalException\n",
      "   Clamped\n",
      "   Rounded\n",
      "    Underflow\n",
      "    Overflow\n",
      "   Inexact\n",
      "    Underflow\n",
      "    Overflow\n",
      "   Subnormal\n",
      "    Underflow\n",
      "   DivisionByZero\n",
      "   FloatOperation\n",
      "   InvalidOperation\n",
      "    ConversionSyntax\n",
      "    DivisionImpossible\n",
      "    DivisionUndefined\n",
      "    InvalidContext\n",
      " SystemError\n",
      "  CodecRegistryError\n",
      " ReferenceError\n",
      " MemoryError\n",
      " BufferError\n",
      " Warning\n",
      "  UserWarning\n",
      "   GetPassWarning\n",
      "   FormatterWarning\n",
      "  EncodingWarning\n",
      "  DeprecationWarning\n",
      "   ProvisionalWarning\n",
      "  PendingDeprecationWarning\n",
      "  SyntaxWarning\n",
      "  RuntimeWarning\n",
      "   ProactorSelectorThreadWarning\n",
      "   UnknownTimezoneWarning\n",
      "   PEP440Warning\n",
      "  FutureWarning\n",
      "   ProvisionalCompleterWarning\n",
      "  ImportWarning\n",
      "  UnicodeWarning\n",
      "  BytesWarning\n",
      "  ResourceWarning\n",
      "  DeprecatedTzFormatWarning\n",
      "  PkgResourcesDeprecationWarning\n",
      " _OptionError\n",
      " _Error\n",
      " error\n",
      " Verbose\n",
      " Error\n",
      " SubprocessError\n",
      "  CalledProcessError\n",
      "  TimeoutExpired\n",
      " TokenError\n",
      " StopTokenizing\n",
      " ClassFoundException\n",
      " EndOfBlock\n",
      " TraitError\n",
      " Error\n",
      " Error\n",
      "  CancelledError\n",
      "  TimeoutError\n",
      "  InvalidStateError\n",
      " _GiveupOnSendfile\n",
      " error\n",
      " Incomplete\n",
      " TimeoutError\n",
      " InvalidStateError\n",
      " LimitOverrunError\n",
      " QueueEmpty\n",
      " QueueFull\n",
      " Empty\n",
      " Full\n",
      " ArgumentError\n",
      " ZMQBaseError\n",
      "  ZMQError\n",
      "   ContextTerminated\n",
      "   Again\n",
      "   InterruptedSystemCall\n",
      "  ZMQBindError\n",
      "  NotDone\n",
      " PickleError\n",
      "  PicklingError\n",
      "  UnpicklingError\n",
      " _Stop\n",
      " ArgumentError\n",
      " ArgumentTypeError\n",
      " ConfigError\n",
      "  ConfigLoaderError\n",
      "   ArgumentError\n",
      "  ConfigFileNotFound\n",
      " ConfigurableError\n",
      "  MultipleInstanceError\n",
      " ApplicationError\n",
      " error\n",
      " TimeoutError\n",
      " error\n",
      " ReturnValueIgnoredError\n",
      " KeyReuseError\n",
      " UnknownKeyError\n",
      " LeakedCallbackError\n",
      " BadYieldError\n",
      " ReturnValueIgnoredError\n",
      " Return\n",
      " InvalidPortNumber\n",
      " error\n",
      " LZMAError\n",
      " RegistryError\n",
      " _GiveupOnFastCopy\n",
      " Error\n",
      "  NoSectionError\n",
      "  DuplicateSectionError\n",
      "  DuplicateOptionError\n",
      "  NoOptionError\n",
      "  InterpolationError\n",
      "   InterpolationMissingOptionError\n",
      "   InterpolationSyntaxError\n",
      "   InterpolationDepthError\n",
      "  ParsingError\n",
      "   MissingSectionHeaderError\n",
      " NoIPAddresses\n",
      " BadZipFile\n",
      " LargeZipFile\n",
      " BadEntryPoint\n",
      " NoSuchEntryPoint\n",
      " DuplicateKernelError\n",
      " ErrorDuringImport\n",
      " NotOneValueFound\n",
      " CannotEval\n",
      " OptionError\n",
      " BdbQuit\n",
      " Restart\n",
      " ExceptionPexpect\n",
      "  EOF\n",
      "  TIMEOUT\n",
      " PtyProcessError\n",
      " FindCmdError\n",
      " HomeDirError\n",
      " ProfileDirError\n",
      " IPythonCoreError\n",
      "  TryNext\n",
      "  UsageError\n",
      "  StdinNotImplementedError\n",
      " InputRejected\n",
      " GetoptError\n",
      " ErrorToken\n",
      " PrefilterError\n",
      " AliasError\n",
      "  InvalidAliasError\n",
      " Error\n",
      "  InterfaceError\n",
      "  DatabaseError\n",
      "   InternalError\n",
      "   OperationalError\n",
      "   ProgrammingError\n",
      "   IntegrityError\n",
      "   DataError\n",
      "   NotSupportedError\n",
      " Warning\n",
      " SpaceInInput\n",
      " DOMException\n",
      "  IndexSizeErr\n",
      "  DomstringSizeErr\n",
      "  HierarchyRequestErr\n",
      "  WrongDocumentErr\n",
      "  InvalidCharacterErr\n",
      "  NoDataAllowedErr\n",
      "  NoModificationAllowedErr\n",
      "  NotFoundErr\n",
      "  NotSupportedErr\n",
      "  InuseAttributeErr\n",
      "  InvalidStateErr\n",
      "  SyntaxErr\n",
      "  InvalidModificationErr\n",
      "  NamespaceErr\n",
      "  InvalidAccessErr\n",
      "  ValidationErr\n",
      " ValidationError\n",
      " EditReadOnlyBuffer\n",
      " _Retry\n",
      " InvalidLayoutError\n",
      " HeightIsUnknownError\n",
      " ParserSyntaxError\n",
      " InternalParseError\n",
      " _PositionUpdatingFinished\n",
      " SimpleGetItemNotFound\n",
      " UncaughtAttributeError\n",
      " HasNoContext\n",
      " ParamIssue\n",
      " _JediError\n",
      "  InternalError\n",
      "  WrongVersion\n",
      "  RefactoringError\n",
      " OnErrorLeaf\n",
      " InvalidPythonEnvironment\n",
      " MessageError\n",
      "  MessageParseError\n",
      "   HeaderParseError\n",
      "   BoundaryError\n",
      "  MultipartConversionError\n",
      "  CharsetError\n",
      " Error\n",
      " HTTPException\n",
      "  NotConnected\n",
      "  InvalidURL\n",
      "  UnknownProtocol\n",
      "  UnknownTransferEncoding\n",
      "  UnimplementedFileMode\n",
      "  IncompleteRead\n",
      "  ImproperConnectionState\n",
      "   CannotSendRequest\n",
      "   CannotSendHeader\n",
      "   ResponseNotReady\n",
      "  BadStatusLine\n",
      "   RemoteDisconnected\n",
      "  LineTooLong\n",
      " InteractivelyDefined\n",
      " KillEmbedded\n",
      " Error\n",
      "  NoSuchProcess\n",
      "   ZombieProcess\n",
      "  AccessDenied\n",
      "  TimeoutExpired\n",
      " _Ipv6UnsupportedError\n",
      " QueueEmpty\n",
      " QueueFull\n",
      " DebuggerInitializationError\n",
      " ExpatError\n",
      " Error\n",
      "  ProtocolError\n",
      "  ResponseError\n",
      "  Fault\n",
      " ParseBaseException\n",
      "  ParseException\n",
      "  ParseFatalException\n",
      "   ParseSyntaxException\n",
      " RecursiveGrammarException\n",
      " ResolutionError\n",
      "  VersionConflict\n",
      "   ContextualVersionConflict\n",
      "  DistributionNotFound\n",
      "  UnknownExtra\n",
      " _Error\n",
      " UnableToResolveVariableException\n",
      " InvalidTypeInArgsException\n",
      " validateage\n",
      " validateage\n"
     ]
    }
   ],
   "source": [
    "import logging \n",
    "\n",
    "def print_exception_hierarchy(exception,level=0):\n",
    "    print(\" \"*level+exception.__name__)\n",
    "    logging.info(\" \"*level+exception.__name__)\n",
    "    for subclass in exception.__subclasses__():\n",
    "        print_exception_hierarchy(subclass,level+1)\n",
    "        logging.info(f\"Subclass:{subclass},level:{level}\")\n",
    "        \n",
    "print_exception_hierarchy(Exception)\n"
   ]
  },
  {
   "cell_type": "markdown",
   "id": "ee28c8ae-9de9-4f27-8947-109190f47244",
   "metadata": {},
   "source": [
    "Question 3: What errors are defined in the ArithmeticError class? Explain any two with an example."
   ]
  },
  {
   "cell_type": "markdown",
   "id": "c01e35b6-c183-4aaf-a93b-0ac29741280b",
   "metadata": {},
   "source": [
    "The ArithmeticError class is a built-in exception class in Python that is raised when an arithmetic operation fails. It is the base class for all errors that occur for numeric calculations.\n",
    "Examples of Arithmetic Error\n",
    "\n",
    "1.ZeroDivisionError: This error is raised when a number is divided by zero.\n",
    "\n",
    "\n",
    "2.OverflowError: This error is raised when the result of an arithmetic operation is too large to be represented by the numeric type."
   ]
  },
  {
   "cell_type": "markdown",
   "id": "290aa3eb-70a7-4f66-81e4-14fd1d9337f3",
   "metadata": {},
   "source": [
    "\n",
    "The ZeroDivisionError in Python is a built-in exception that occurs when you attempt to divide a number by zero. Division by zero is mathematically undefined, and Python raises this exception to indicate that such an operation cannot be performed. Here's a brief explanation of ZeroDivisionError:\n",
    "\n",
    "Cause: It occurs when you have a division operation (/ or //) with a denominator (the number you're dividing by) that is zero.\n",
    "This code will catch the ZeroDivisionError and print a custom error message or perform some other action to handle the exceptional case gracefully.\n",
    "\n",
    "It's important to be cautious when performing division operations and ensure that the denominator is never zero unless you have a specific use case that requires handling such situations differently. Division by zero can lead to unexpected program behavior or crashes, so it's a good practice to include proper error handling to avoid these issues."
   ]
  },
  {
   "cell_type": "code",
   "execution_count": 16,
   "id": "b749f741-bf89-461c-8d33-0fc946541a08",
   "metadata": {},
   "outputs": [
    {
     "name": "stdout",
     "output_type": "stream",
     "text": [
      "Error: division by zero\n"
     ]
    }
   ],
   "source": [
    "#Example1\n",
    "try:\n",
    "    result = 5 / 0 \n",
    "except ZeroDivisionError as e:\n",
    "    print(\"Error:\", e)\n"
   ]
  },
  {
   "cell_type": "markdown",
   "id": "58d7d167-832c-4a1f-bbc4-d3a3302689ae",
   "metadata": {},
   "source": [
    "\n",
    "An OverflowError in Python is a built-in exception that occurs when an arithmetic operation exceeds the limits of the data type being used. This exception typically arises when the result of an operation, such as addition, multiplication, or exponentiation, becomes too large to be represented within the available memory or data type. Here's a brief explanation of OverflowError:\n",
    "\n",
    "Cause: OverflowError is raised when an arithmetic operation results in a value that exceeds the maximum or minimum representable value for the data type being used.\n",
    "\n",
    "This code will catch the OverflowError and allow you to handle it gracefully, such as by providing a custom error message or implementing alternative logic when an overflow occurs."
   ]
  },
  {
   "cell_type": "code",
   "execution_count": 20,
   "id": "c8a67738-a157-4246-b153-078b704064e8",
   "metadata": {},
   "outputs": [
    {
     "name": "stdout",
     "output_type": "stream",
     "text": [
      "inf\n"
     ]
    }
   ],
   "source": [
    "import sys\n",
    "\n",
    "try:\n",
    "    x=sys.float_info.max\n",
    "    y=x*2\n",
    "    print(y)# Multiplying a number that exceeds the limit\n",
    "except OverflowError as e:\n",
    "    print(\"Error:\", e)\n",
    "\n"
   ]
  },
  {
   "cell_type": "markdown",
   "id": "14109b5b-fec0-496b-be69-21f21cb6ed56",
   "metadata": {},
   "source": [
    "In this example, we are trying to multiply the maximum float value by 2, which results in a value that exceeds the maximum representable value for a float. This causes the result to be represented as infinity (inf) instead of a numeric value, indicating that an overflow has occurred"
   ]
  },
  {
   "cell_type": "markdown",
   "id": "10b396eb-6d56-4512-8107-c7ff4df33239",
   "metadata": {},
   "source": [
    "Question 4: Why LookupError class is used? Explain with an example KeyError and IndexError."
   ]
  },
  {
   "cell_type": "markdown",
   "id": "93beab07-d8da-451d-bc37-9899c729196b",
   "metadata": {},
   "source": [
    "ANSWER:-\n",
    "\n",
    "In Python, a \"LookupError\" is a built-in exception that occurs when you try to access or look up a value in a collection or mapping (e.g., a list, dictionary, or set) and the requested key, index, or element does not exist. This exception is raised when there's a problem with the lookup or retrieval of an item. Here's a brief explanation of why a \"LookupError\" can occur\n",
    "\n",
    "LookupError is the Base class for errors raised when something can't be found.\n",
    "1.KeyError: This exception is raised when we try to access a dictionary key that does not exist.\n"
   ]
  },
  {
   "cell_type": "code",
   "execution_count": 21,
   "id": "17271c15-f794-4579-b53b-2418f4896736",
   "metadata": {},
   "outputs": [
    {
     "ename": "KeyError",
     "evalue": "'key4'",
     "output_type": "error",
     "traceback": [
      "\u001b[0;31m---------------------------------------------------------------------------\u001b[0m",
      "\u001b[0;31mKeyError\u001b[0m                                  Traceback (most recent call last)",
      "Cell \u001b[0;32mIn[21], line 2\u001b[0m\n\u001b[1;32m      1\u001b[0m d\u001b[38;5;241m=\u001b[39m{\u001b[38;5;124m\"\u001b[39m\u001b[38;5;124mkey1\u001b[39m\u001b[38;5;124m\"\u001b[39m:\u001b[38;5;124m\"\u001b[39m\u001b[38;5;124mvalue1\u001b[39m\u001b[38;5;124m\"\u001b[39m,\u001b[38;5;124m\"\u001b[39m\u001b[38;5;124mkey2\u001b[39m\u001b[38;5;124m\"\u001b[39m:\u001b[38;5;124m\"\u001b[39m\u001b[38;5;124mvalue2\u001b[39m\u001b[38;5;124m\"\u001b[39m,\u001b[38;5;124m\"\u001b[39m\u001b[38;5;124mkey3\u001b[39m\u001b[38;5;124m\"\u001b[39m:\u001b[38;5;124m\"\u001b[39m\u001b[38;5;124mvalue3\u001b[39m\u001b[38;5;124m\"\u001b[39m}\n\u001b[0;32m----> 2\u001b[0m \u001b[43md\u001b[49m\u001b[43m[\u001b[49m\u001b[38;5;124;43m\"\u001b[39;49m\u001b[38;5;124;43mkey4\u001b[39;49m\u001b[38;5;124;43m\"\u001b[39;49m\u001b[43m]\u001b[49m\n",
      "\u001b[0;31mKeyError\u001b[0m: 'key4'"
     ]
    }
   ],
   "source": [
    "d={\"key1\":\"value1\",\"key2\":\"value2\",\"key3\":\"value3\"}\n",
    "d[\"key4\"]"
   ]
  },
  {
   "cell_type": "markdown",
   "id": "affdaf05-c504-450f-abb0-28fb618f2a24",
   "metadata": {},
   "source": [
    "2.IndexError: This exception is raised when we try to access a list index that is out of range."
   ]
  },
  {
   "cell_type": "code",
   "execution_count": 22,
   "id": "f48b6bd0-7147-4397-a614-e0652f8cd5f0",
   "metadata": {},
   "outputs": [
    {
     "ename": "IndexError",
     "evalue": "list index out of range",
     "output_type": "error",
     "traceback": [
      "\u001b[0;31m---------------------------------------------------------------------------\u001b[0m",
      "\u001b[0;31mIndexError\u001b[0m                                Traceback (most recent call last)",
      "Cell \u001b[0;32mIn[22], line 2\u001b[0m\n\u001b[1;32m      1\u001b[0m l\u001b[38;5;241m=\u001b[39m[\u001b[38;5;241m1\u001b[39m,\u001b[38;5;241m2\u001b[39m,\u001b[38;5;241m3\u001b[39m,\u001b[38;5;241m4\u001b[39m,\u001b[38;5;241m5\u001b[39m,\u001b[38;5;241m6\u001b[39m,\u001b[38;5;241m7\u001b[39m,\u001b[38;5;241m8\u001b[39m,\u001b[38;5;241m9\u001b[39m,\u001b[38;5;241m10\u001b[39m]\n\u001b[0;32m----> 2\u001b[0m \u001b[43ml\u001b[49m\u001b[43m[\u001b[49m\u001b[38;5;241;43m15\u001b[39;49m\u001b[43m]\u001b[49m\n",
      "\u001b[0;31mIndexError\u001b[0m: list index out of range"
     ]
    }
   ],
   "source": [
    "l=[1,2,3,4,5,6,7,8,9,10]\n",
    "l[15]"
   ]
  },
  {
   "cell_type": "markdown",
   "id": "a84359fb-1739-4665-8e18-4795a302228a",
   "metadata": {},
   "source": [
    "Question 5 : Explain ImportError. What is ModuleNotFoundError?"
   ]
  },
  {
   "cell_type": "markdown",
   "id": "8dc5cd0d-9e38-4881-8993-7500bccf4f49",
   "metadata": {},
   "source": [
    "ANSWER:-\n",
    "ImportError and ModuleNotFoundError are both exceptions in Python that occur when there is an issue with importing modules, but they serve slightly different purposes:\n",
    "\n",
    "ImportError:\n",
    "ImportError is a general exception that is raised when there is a problem with importing a module, but it doesn't provide specific information about what went wrong.\n",
    "It can occur for various reasons, such as when a module or package name is misspelled, when a required module is not installed, or when there's an issue with circular imports.\n",
    "ImportError is a more general exception, and you may need to inspect the error message or traceback to determine the exact cause of the import problem."
   ]
  },
  {
   "cell_type": "code",
   "execution_count": 24,
   "id": "03a5db0b-a8d0-4890-8aae-1d0f25ac371d",
   "metadata": {},
   "outputs": [
    {
     "name": "stdout",
     "output_type": "stream",
     "text": [
      "ImportError: No module named 'non_existent_module'\n"
     ]
    }
   ],
   "source": [
    "try:\n",
    "    import non_existent_module  # Trying to import a non-existent module\n",
    "except ImportError as e:\n",
    "    print(\"ImportError:\", e)\n",
    "\n"
   ]
  },
  {
   "cell_type": "markdown",
   "id": "74af7fe8-11b9-4839-adcf-dd1afff69f19",
   "metadata": {},
   "source": [
    "2.ModuleNotFoundError:\n",
    "\n",
    "ModuleNotFoundError is a more specific exception introduced in Python 3.6 (PEP 0491) to address the issue of not being able to easily identify the missing module.\n",
    "It is raised when Python cannot find the module you are trying to import. This can occur if the module name is misspelled or if the module simply doesn't exist.\n",
    "ModuleNotFoundError provides a clear error message indicating the name of the missing module, making it easier to diagnose and fix the issue.try:\n",
    "    import non_existent_module  # Trying to import a non-existent module\n",
    "except ModuleNotFoundError as e:\n",
    "    print(\"ModuleNotFoundError:\", e)\n"
   ]
  },
  {
   "cell_type": "code",
   "execution_count": 25,
   "id": "8a48fb24-517c-4549-a920-278f27b0cf93",
   "metadata": {},
   "outputs": [
    {
     "name": "stdout",
     "output_type": "stream",
     "text": [
      "ModuleNotFoundError: No module named 'non_existent_module'\n"
     ]
    }
   ],
   "source": [
    "try:\n",
    "    import non_existent_module  # Trying to import a non-existent module\n",
    "except ModuleNotFoundError as e:\n",
    "    print(\"ModuleNotFoundError:\", e)\n"
   ]
  },
  {
   "cell_type": "markdown",
   "id": "463b1f35-a18e-4405-8a76-0f79e29cf607",
   "metadata": {},
   "source": [
    "In summary, ImportError is a more general exception that can occur when there's a problem with importing a module, while ModuleNotFoundError is a more specific exception introduced in Python 3.6 to specifically handle cases where a module cannot be found. When dealing with missing module imports, it's generally better to catch ModuleNotFoundError to get clear information about the missing module."
   ]
  },
  {
   "cell_type": "markdown",
   "id": "8aa186d4-7bc9-4292-a77d-b9a67bc36021",
   "metadata": {},
   "source": [
    "Question 6 : List down some best practices for exception handling in python."
   ]
  },
  {
   "cell_type": "markdown",
   "id": "136fdee6-d4e5-4a68-9299-2fd88f0fd6b8",
   "metadata": {},
   "source": [
    "ANSWER:-\n",
    "Here are some best practices for exception handling in Python:\n",
    "\n",
    "1.Catch only the specific exceptions that you are expecting and handle them accordingly. This helps in making your code more robust and maintainable.\n",
    "\n",
    "2.Use the try-except-else-finally block for handling exceptions. The try block contains the code that might raise an exception, the except block handles the exception, the else block executes if no exception is raised, and the finally block executes regardless of whether an exception is raised or not.\n",
    "\n",
    "3.Provide informative error messages that help in diagnosing and fixing the issue. Avoid generic error messages that do not provide any useful information to the user.\n",
    "\n",
    "4.Use logging to record errors and exceptions instead of printing them to the console. This helps in debugging and maintaining the code.\n",
    "\n",
    "5.Use multiple except blocks to handle different exceptions. This allows you to handle different exceptions in different ways, instead of having a single catch-all except block that handles all exceptions in the same way.\n",
    "\n",
    "6.Use context managers like with statements to ensure that resources like files and sockets are properly closed and cleaned up after use, even if an exception is raised.\n",
    "\n",
    "7.Avoid catching and silently ignoring exceptions, as this can lead to hard-to-diagnose bugs later on. Instead, log the exception and/or re-raise it with additional context.\n",
    "\n",
    "8.Do not use exceptions for control flow. Exceptions should only be used to handle exceptional or unexpected conditions, not to control the flow of the program.\n",
    "\n",
    "9.Always clean up after an exception. This includes closing files, freeing resources, and restoring the program state to its previous state."
   ]
  },
  {
   "cell_type": "code",
   "execution_count": null,
   "id": "0e1f4f20-d21d-4860-928b-809baae8ba51",
   "metadata": {},
   "outputs": [],
   "source": []
  }
 ],
 "metadata": {
  "kernelspec": {
   "display_name": "Python 3 (ipykernel)",
   "language": "python",
   "name": "python3"
  },
  "language_info": {
   "codemirror_mode": {
    "name": "ipython",
    "version": 3
   },
   "file_extension": ".py",
   "mimetype": "text/x-python",
   "name": "python",
   "nbconvert_exporter": "python",
   "pygments_lexer": "ipython3",
   "version": "3.10.8"
  }
 },
 "nbformat": 4,
 "nbformat_minor": 5
}
