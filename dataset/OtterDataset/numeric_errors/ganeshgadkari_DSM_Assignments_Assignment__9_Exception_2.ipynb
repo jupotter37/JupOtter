{
  "nbformat": 4,
  "nbformat_minor": 0,
  "metadata": {
    "colab": {
      "provenance": []
    },
    "kernelspec": {
      "name": "python3",
      "display_name": "Python 3"
    },
    "language_info": {
      "name": "python"
    }
  },
  "cells": [
    {
      "cell_type": "markdown",
      "source": [
        "Q1. Explain why we have to use the Exception class while creating a Custom Exception.\n",
        "\n",
        "Note: Here Exception class refers to the base class for all the exceptions."
      ],
      "metadata": {
        "id": "qHwlYs6y0lU1"
      }
    },
    {
      "cell_type": "markdown",
      "source": [
        "Ans:- 1)When creating a custom exception, it is recommended to extend this class. This is because the Exception class provides several methods that are useful for handling exceptions.\n",
        "\n",
        "2)creating a custom exception class can improve the readability of your code and enhance reusability of features. It also allows you to provide custom messages/instructions to users for specific use cases and carry information about the error that’s caused the exception"
      ],
      "metadata": {
        "id": "xp0tRwMF0qHp"
      }
    },
    {
      "cell_type": "markdown",
      "source": [
        "Q2. Write a python program to print Python Exception Hierarchy.\n",
        "\n",
        "Ans:"
      ],
      "metadata": {
        "id": "Fs-KdWA72D7g"
      }
    },
    {
      "cell_type": "code",
      "source": [
        "class MyException(Exception):\n",
        "    pass\n",
        "\n",
        "exceptions = [ValueError, TypeError, FileNotFoundError, IndexError, MyException]\n",
        "\n",
        "for exception_cls in exceptions:\n",
        "    print(f\"Exception: {exception_cls.__name__}\\nBase Exception: {exception_cls.__base__.__name__}\\n\")\n"
      ],
      "metadata": {
        "colab": {
          "base_uri": "https://localhost:8080/"
        },
        "id": "wTgOdNzM3Hps",
        "outputId": "5bba2641-e558-4fc8-8944-0679e483036a"
      },
      "execution_count": 5,
      "outputs": [
        {
          "output_type": "stream",
          "name": "stdout",
          "text": [
            "Exception: ValueError\n",
            "Base Exception: Exception\n",
            "\n",
            "Exception: TypeError\n",
            "Base Exception: Exception\n",
            "\n",
            "Exception: FileNotFoundError\n",
            "Base Exception: OSError\n",
            "\n",
            "Exception: IndexError\n",
            "Base Exception: LookupError\n",
            "\n",
            "Exception: MyException\n",
            "Base Exception: Exception\n",
            "\n"
          ]
        }
      ]
    },
    {
      "cell_type": "markdown",
      "source": [
        "Q3. What errors are defined in the ArithmeticError class? Explain any two with an example."
      ],
      "metadata": {
        "id": "CVcI7-Z86fRF"
      }
    },
    {
      "cell_type": "code",
      "source": [
        "#print always a proper message\n",
        "try :\n",
        "    10/0\n",
        "except ZeroDivisionError as e :\n",
        "    print(\"this zerodivision error\"  , e)\n"
      ],
      "metadata": {
        "colab": {
          "base_uri": "https://localhost:8080/"
        },
        "id": "ukH5JP_S4sxm",
        "outputId": "b8585daa-ba04-48b8-a866-65fdce1f30ea"
      },
      "execution_count": 7,
      "outputs": [
        {
          "output_type": "stream",
          "name": "stdout",
          "text": [
            "this zerodivision error division by zero\n"
          ]
        }
      ]
    },
    {
      "cell_type": "code",
      "source": [
        "import logging\n",
        "\n",
        "def multiply_numbers(a, b):\n",
        "    try:\n",
        "        result = a * b\n",
        "        print(f\"The result of {a} multiplied by {b} is: {result}\")\n",
        "    except OverflowError as e:\n",
        "        logging.error(\"Arithmetic operation resulted in an overflow: %s\", e)\n",
        "\n",
        "multiply_numbers(2**2, 2**2)\n"
      ],
      "metadata": {
        "colab": {
          "base_uri": "https://localhost:8080/"
        },
        "id": "UHveNcxC69uJ",
        "outputId": "d6acefab-d50c-4cf7-c6c5-98db0cbe52a8"
      },
      "execution_count": 22,
      "outputs": [
        {
          "output_type": "stream",
          "name": "stdout",
          "text": [
            "The result of 4 multiplied by 4 is: 16\n"
          ]
        }
      ]
    },
    {
      "cell_type": "markdown",
      "source": [
        "Q4. Why LookupError class is used? Explain with an example KeyError and IndexError."
      ],
      "metadata": {
        "id": "nriLiCxg9T-D"
      }
    },
    {
      "cell_type": "markdown",
      "source": [
        "The LookupError class is used as a base class for exceptions that occur when a lookup or indexing operation fails. It provides a common superclass for exceptions such as KeyError and IndexError, which represent specific cases of lookup or indexing failures."
      ],
      "metadata": {
        "id": "t8rUX9_2-qoZ"
      }
    },
    {
      "cell_type": "code",
      "source": [
        "my_dict = {\"name\": \"John\", \"age\": 25}\n",
        "\n",
        "try:\n",
        "    value = my_dict[\"city\"]\n",
        "    print(f\"The value is: {value}\")\n",
        "except KeyError:\n",
        "    print(\"Error: Key not found in the dictionary.\")\n"
      ],
      "metadata": {
        "colab": {
          "base_uri": "https://localhost:8080/"
        },
        "id": "Y-3B1Nod-zbT",
        "outputId": "4d200f0e-a8c1-4ff0-ac71-7d4b5f3ee70b"
      },
      "execution_count": 24,
      "outputs": [
        {
          "output_type": "stream",
          "name": "stdout",
          "text": [
            "Error: Key not found in the dictionary.\n"
          ]
        }
      ]
    },
    {
      "cell_type": "markdown",
      "source": [
        "IndexError: This exception is raised when an index used to access a sequence (such as a list or string) is out of range."
      ],
      "metadata": {
        "id": "bldR82Ct-997"
      }
    },
    {
      "cell_type": "code",
      "source": [
        "my_list = [1, 2, 3]\n",
        "\n",
        "try:\n",
        "    value = my_list[3]\n",
        "    print(f\"The value is: {value}\")\n",
        "except IndexError:\n",
        "    print(\"Error: Index is out of range.\")"
      ],
      "metadata": {
        "colab": {
          "base_uri": "https://localhost:8080/"
        },
        "id": "He1jMR8R7Qno",
        "outputId": "0003afb5-f738-469f-f3fb-bda1ff99eb2d"
      },
      "execution_count": 23,
      "outputs": [
        {
          "output_type": "stream",
          "name": "stdout",
          "text": [
            "Error: Index is out of range.\n"
          ]
        }
      ]
    },
    {
      "cell_type": "markdown",
      "source": [
        "Q5. Explain ImportError. What is ModuleNotFoundError?"
      ],
      "metadata": {
        "id": "n2zgRiH__wzT"
      }
    },
    {
      "cell_type": "markdown",
      "source": [
        "-ImportError is an exception that is raised when there is an error importing a module or a specific object from a module. It is a base class for more specific import-related exceptions.\n",
        "\n",
        "\n",
        "-ModuleNotFoundError is a subclass of ImportError and is raised when a module is not found or cannot be located by the Python interpreter."
      ],
      "metadata": {
        "id": "vH7fL1--AEN7"
      }
    },
    {
      "cell_type": "code",
      "source": [
        "try :\n",
        "    import rutik\n",
        "except ImportError as e :\n",
        "    print(e)\n",
        "\n",
        "10/4"
      ],
      "metadata": {
        "colab": {
          "base_uri": "https://localhost:8080/"
        },
        "id": "PW8sYlFe-pkH",
        "outputId": "ff6b7f08-9614-4af2-e1cd-3c397f0eed40"
      },
      "execution_count": 25,
      "outputs": [
        {
          "output_type": "stream",
          "name": "stdout",
          "text": [
            "No module named 'rutik'\n"
          ]
        },
        {
          "output_type": "execute_result",
          "data": {
            "text/plain": [
              "2.5"
            ]
          },
          "metadata": {},
          "execution_count": 25
        }
      ]
    },
    {
      "cell_type": "markdown",
      "source": [
        "Q6. List down some best practices for exception handling in python.\n",
        "\n",
        "\n",
        "1)ZeroDivisionError\n",
        "\n",
        "2)ImportError\n",
        "\n",
        "3)KeyError\n",
        "\n",
        "4)IndexError\n",
        "\n",
        "5)TypeError\n",
        "\n",
        "6)FileNotFoundError\n",
        "\n",
        "7)AttributeError\n",
        "\n",
        "8)OverflowError"
      ],
      "metadata": {
        "id": "ktwnf5tpAQkj"
      }
    },
    {
      "cell_type": "code",
      "source": [],
      "metadata": {
        "id": "40Xx2AbNBO5W"
      },
      "execution_count": null,
      "outputs": []
    }
  ]
}