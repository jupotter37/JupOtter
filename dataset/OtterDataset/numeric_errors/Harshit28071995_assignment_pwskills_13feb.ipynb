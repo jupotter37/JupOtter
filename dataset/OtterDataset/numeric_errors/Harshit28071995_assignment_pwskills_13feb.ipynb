{
 "cells": [
  {
   "cell_type": "code",
   "execution_count": null,
   "id": "017e936a-3890-4e3d-b686-dc199c0f079c",
   "metadata": {},
   "outputs": [],
   "source": [
    "Q1. Explain why we have to use the Exception class while creating a Custom Exception.\n",
    "Note: Here Exception class refers to the base class for all the exceptions.\n"
   ]
  },
  {
   "cell_type": "markdown",
   "id": "19318f69-7a9b-4075-99ed-39def025998c",
   "metadata": {},
   "source": [
    "The Exception class is the base class for all built-in exceptions in Python. By inheriting from the Exception class (or one of its derived classes), you ensure that your custom exception integrates properly with Python's exception handling system. This allows your custom exception to be caught by except blocks and to work with other exception handling mechanisms.\n",
    "\n",
    "Benefits:\n",
    "\n",
    "Consistency: Ensures that your custom exception behaves like other built-in exceptions.\n",
    "Interoperability: Allows your exception to be caught in generic except blocks that catch Exception.\n",
    "Custom Behavior: Allows you to extend the functionality of exceptions by adding custom attributes or methods if needed."
   ]
  },
  {
   "cell_type": "code",
   "execution_count": 1,
   "id": "1ac14436-158d-4d72-8b60-24cc72acae63",
   "metadata": {},
   "outputs": [
    {
     "name": "stdout",
     "output_type": "stream",
     "text": [
      "Caught an exception: Something went wrong\n"
     ]
    }
   ],
   "source": [
    "class CustomError(Exception):\n",
    "    def __init__(self, message):\n",
    "        self.message = message\n",
    "        super().__init__(self.message)\n",
    "\n",
    "try:\n",
    "    raise CustomError(\"Something went wrong\")\n",
    "except CustomError as e:\n",
    "    print(\"Caught an exception:\", e)\n"
   ]
  },
  {
   "cell_type": "code",
   "execution_count": null,
   "id": "6215d757-903f-48ba-b3b3-b4ae3d59438c",
   "metadata": {},
   "outputs": [],
   "source": [
    "Q2. Write a python program to print Python Exception Hierarchy.\n"
   ]
  },
  {
   "cell_type": "code",
   "execution_count": 2,
   "id": "22607918-dca7-4e4c-a289-68bb0a8240fa",
   "metadata": {},
   "outputs": [
    {
     "name": "stdout",
     "output_type": "stream",
     "text": [
      "Exception\n",
      "  TypeError\n",
      "    FloatOperation\n",
      "    MultipartConversionError\n",
      "  StopAsyncIteration\n",
      "  StopIteration\n",
      "  ImportError\n",
      "    ModuleNotFoundError\n",
      "    ZipImportError\n",
      "  OSError\n",
      "    ConnectionError\n",
      "      BrokenPipeError\n",
      "      ConnectionAbortedError\n",
      "      ConnectionRefusedError\n",
      "      ConnectionResetError\n",
      "        RemoteDisconnected\n",
      "    BlockingIOError\n",
      "    ChildProcessError\n",
      "    FileExistsError\n",
      "    FileNotFoundError\n",
      "    IsADirectoryError\n",
      "    NotADirectoryError\n",
      "    InterruptedError\n",
      "      InterruptedSystemCall\n",
      "    PermissionError\n",
      "    ProcessLookupError\n",
      "    TimeoutError\n",
      "    UnsupportedOperation\n",
      "    itimer_error\n",
      "    herror\n",
      "    gaierror\n",
      "    SSLError\n",
      "      SSLCertVerificationError\n",
      "      SSLZeroReturnError\n",
      "      SSLWantWriteError\n",
      "      SSLWantReadError\n",
      "      SSLSyscallError\n",
      "      SSLEOFError\n",
      "    Error\n",
      "      SameFileError\n",
      "    SpecialFileError\n",
      "    ExecError\n",
      "    ReadError\n",
      "    URLError\n",
      "      HTTPError\n",
      "      ContentTooShortError\n",
      "    BadGzipFile\n",
      "  EOFError\n",
      "    IncompleteReadError\n",
      "  RuntimeError\n",
      "    RecursionError\n",
      "    NotImplementedError\n",
      "      ZMQVersionError\n",
      "      StdinNotImplementedError\n",
      "    _DeadlockError\n",
      "    BrokenBarrierError\n",
      "    BrokenExecutor\n",
      "      BrokenThreadPool\n",
      "    SendfileNotAvailableError\n",
      "    ExtractionError\n",
      "    VariableError\n",
      "  NameError\n",
      "    UnboundLocalError\n",
      "  AttributeError\n",
      "    FrozenInstanceError\n",
      "  SyntaxError\n",
      "    IndentationError\n",
      "      TabError\n",
      "  LookupError\n",
      "    IndexError\n",
      "    KeyError\n",
      "      NoSuchKernel\n",
      "      UnknownBackend\n",
      "    CodecRegistryError\n",
      "  ValueError\n",
      "    UnicodeError\n",
      "      UnicodeEncodeError\n",
      "      UnicodeDecodeError\n",
      "      UnicodeTranslateError\n",
      "    UnsupportedOperation\n",
      "    JSONDecodeError\n",
      "    SSLCertVerificationError\n",
      "    Error\n",
      "    UnsupportedDigestmodError\n",
      "    IllegalMonthError\n",
      "    IllegalWeekdayError\n",
      "    ParserError\n",
      "    ClassNotFound\n",
      "    ClipboardEmpty\n",
      "    MessageDefect\n",
      "      NoBoundaryInMultipartDefect\n",
      "      StartBoundaryNotFoundDefect\n",
      "      CloseBoundaryNotFoundDefect\n",
      "      FirstHeaderLineIsContinuationDefect\n",
      "      MisplacedEnvelopeHeaderDefect\n",
      "      MissingHeaderBodySeparatorDefect\n",
      "      MultipartInvariantViolationDefect\n",
      "      InvalidMultipartContentTransferEncodingDefect\n",
      "      UndecodableBytesDefect\n",
      "      InvalidBase64PaddingDefect\n",
      "      InvalidBase64CharactersDefect\n",
      "      InvalidBase64LengthDefect\n",
      "      HeaderDefect\n",
      "        InvalidHeaderDefect\n",
      "        HeaderMissingRequiredValue\n",
      "        NonPrintableDefect\n",
      "        ObsoleteHeaderDefect\n",
      "        NonASCIILocalPartDefect\n",
      "        InvalidDateDefect\n",
      "    MacroToEdit\n",
      "    InvalidFileException\n",
      "    UnequalIterablesError\n",
      "    InvalidVersion\n",
      "    _InvalidELFFileHeader\n",
      "    InvalidWheelFilename\n",
      "    InvalidSdistFilename\n",
      "    InvalidSpecifier\n",
      "    InvalidMarker\n",
      "    UndefinedComparison\n",
      "    UndefinedEnvironmentName\n",
      "    InvalidRequirement\n",
      "      RequirementParseError\n",
      "    InvalidVersion\n",
      "  AssertionError\n",
      "  ArithmeticError\n",
      "    FloatingPointError\n",
      "    OverflowError\n",
      "    ZeroDivisionError\n",
      "      DivisionByZero\n",
      "      DivisionUndefined\n",
      "    DecimalException\n",
      "      Clamped\n",
      "      Rounded\n",
      "        Underflow\n",
      "        Overflow\n",
      "      Inexact\n",
      "        Underflow\n",
      "        Overflow\n",
      "      Subnormal\n",
      "        Underflow\n",
      "      DivisionByZero\n",
      "      FloatOperation\n",
      "      InvalidOperation\n",
      "        ConversionSyntax\n",
      "        DivisionImpossible\n",
      "        DivisionUndefined\n",
      "        InvalidContext\n",
      "  SystemError\n",
      "    CodecRegistryError\n",
      "  ReferenceError\n",
      "  MemoryError\n",
      "  BufferError\n",
      "  Warning\n",
      "    UserWarning\n",
      "      GetPassWarning\n",
      "      FormatterWarning\n",
      "    EncodingWarning\n",
      "    DeprecationWarning\n",
      "      ProvisionalWarning\n",
      "    PendingDeprecationWarning\n",
      "    SyntaxWarning\n",
      "    RuntimeWarning\n",
      "      ProactorSelectorThreadWarning\n",
      "      UnknownTimezoneWarning\n",
      "      PEP440Warning\n",
      "    FutureWarning\n",
      "      ProvisionalCompleterWarning\n",
      "    ImportWarning\n",
      "    UnicodeWarning\n",
      "    BytesWarning\n",
      "    ResourceWarning\n",
      "    DeprecatedTzFormatWarning\n",
      "    PkgResourcesDeprecationWarning\n",
      "  _OptionError\n",
      "  _Error\n",
      "  error\n",
      "  Verbose\n",
      "  Error\n",
      "  SubprocessError\n",
      "    CalledProcessError\n",
      "    TimeoutExpired\n",
      "  TokenError\n",
      "  StopTokenizing\n",
      "  ClassFoundException\n",
      "  EndOfBlock\n",
      "  TraitError\n",
      "  Error\n",
      "  Error\n",
      "    CancelledError\n",
      "    TimeoutError\n",
      "    InvalidStateError\n",
      "  _GiveupOnSendfile\n",
      "  error\n",
      "  Incomplete\n",
      "  TimeoutError\n",
      "  InvalidStateError\n",
      "  LimitOverrunError\n",
      "  QueueEmpty\n",
      "  QueueFull\n",
      "  Empty\n",
      "  Full\n",
      "  ArgumentError\n",
      "  ZMQBaseError\n",
      "    ZMQError\n",
      "      ContextTerminated\n",
      "      Again\n",
      "      InterruptedSystemCall\n",
      "    ZMQBindError\n",
      "    NotDone\n",
      "  PickleError\n",
      "    PicklingError\n",
      "    UnpicklingError\n",
      "  _Stop\n",
      "  ArgumentError\n",
      "  ArgumentTypeError\n",
      "  ConfigError\n",
      "    ConfigLoaderError\n",
      "      ArgumentError\n",
      "    ConfigFileNotFound\n",
      "  ConfigurableError\n",
      "    MultipleInstanceError\n",
      "  ApplicationError\n",
      "  error\n",
      "  TimeoutError\n",
      "  error\n",
      "  ReturnValueIgnoredError\n",
      "  KeyReuseError\n",
      "  UnknownKeyError\n",
      "  LeakedCallbackError\n",
      "  BadYieldError\n",
      "  ReturnValueIgnoredError\n",
      "  Return\n",
      "  InvalidPortNumber\n",
      "  error\n",
      "  LZMAError\n",
      "  RegistryError\n",
      "  _GiveupOnFastCopy\n",
      "  Error\n",
      "    NoSectionError\n",
      "    DuplicateSectionError\n",
      "    DuplicateOptionError\n",
      "    NoOptionError\n",
      "    InterpolationError\n",
      "      InterpolationMissingOptionError\n",
      "      InterpolationSyntaxError\n",
      "      InterpolationDepthError\n",
      "    ParsingError\n",
      "      MissingSectionHeaderError\n",
      "  NoIPAddresses\n",
      "  BadZipFile\n",
      "  LargeZipFile\n",
      "  BadEntryPoint\n",
      "  NoSuchEntryPoint\n",
      "  DuplicateKernelError\n",
      "  ErrorDuringImport\n",
      "  NotOneValueFound\n",
      "  CannotEval\n",
      "  OptionError\n",
      "  BdbQuit\n",
      "  Restart\n",
      "  ExceptionPexpect\n",
      "    EOF\n",
      "    TIMEOUT\n",
      "  PtyProcessError\n",
      "  FindCmdError\n",
      "  HomeDirError\n",
      "  ProfileDirError\n",
      "  IPythonCoreError\n",
      "    TryNext\n",
      "    UsageError\n",
      "    StdinNotImplementedError\n",
      "  InputRejected\n",
      "  GetoptError\n",
      "  ErrorToken\n",
      "  PrefilterError\n",
      "  AliasError\n",
      "    InvalidAliasError\n",
      "  Error\n",
      "    InterfaceError\n",
      "    DatabaseError\n",
      "      InternalError\n",
      "      OperationalError\n",
      "      ProgrammingError\n",
      "      IntegrityError\n",
      "      DataError\n",
      "      NotSupportedError\n",
      "  Warning\n",
      "  SpaceInInput\n",
      "  DOMException\n",
      "    IndexSizeErr\n",
      "    DomstringSizeErr\n",
      "    HierarchyRequestErr\n",
      "    WrongDocumentErr\n",
      "    InvalidCharacterErr\n",
      "    NoDataAllowedErr\n",
      "    NoModificationAllowedErr\n",
      "    NotFoundErr\n",
      "    NotSupportedErr\n",
      "    InuseAttributeErr\n",
      "    InvalidStateErr\n",
      "    SyntaxErr\n",
      "    InvalidModificationErr\n",
      "    NamespaceErr\n",
      "    InvalidAccessErr\n",
      "    ValidationErr\n",
      "  ValidationError\n",
      "  EditReadOnlyBuffer\n",
      "  _Retry\n",
      "  InvalidLayoutError\n",
      "  HeightIsUnknownError\n",
      "  ParserSyntaxError\n",
      "  InternalParseError\n",
      "  _PositionUpdatingFinished\n",
      "  SimpleGetItemNotFound\n",
      "  UncaughtAttributeError\n",
      "  HasNoContext\n",
      "  ParamIssue\n",
      "  _JediError\n",
      "    InternalError\n",
      "    WrongVersion\n",
      "    RefactoringError\n",
      "  OnErrorLeaf\n",
      "  InvalidPythonEnvironment\n",
      "  MessageError\n",
      "    MessageParseError\n",
      "      HeaderParseError\n",
      "      BoundaryError\n",
      "    MultipartConversionError\n",
      "    CharsetError\n",
      "  Error\n",
      "  HTTPException\n",
      "    NotConnected\n",
      "    InvalidURL\n",
      "    UnknownProtocol\n",
      "    UnknownTransferEncoding\n",
      "    UnimplementedFileMode\n",
      "    IncompleteRead\n",
      "    ImproperConnectionState\n",
      "      CannotSendRequest\n",
      "      CannotSendHeader\n",
      "      ResponseNotReady\n",
      "    BadStatusLine\n",
      "      RemoteDisconnected\n",
      "    LineTooLong\n",
      "  InteractivelyDefined\n",
      "  KillEmbedded\n",
      "  Error\n",
      "    NoSuchProcess\n",
      "      ZombieProcess\n",
      "    AccessDenied\n",
      "    TimeoutExpired\n",
      "  _Ipv6UnsupportedError\n",
      "  QueueEmpty\n",
      "  QueueFull\n",
      "  DebuggerInitializationError\n",
      "  ExpatError\n",
      "  Error\n",
      "    ProtocolError\n",
      "    ResponseError\n",
      "    Fault\n",
      "  ParseBaseException\n",
      "    ParseException\n",
      "    ParseFatalException\n",
      "      ParseSyntaxException\n",
      "  RecursiveGrammarException\n",
      "  ResolutionError\n",
      "    VersionConflict\n",
      "      ContextualVersionConflict\n",
      "    DistributionNotFound\n",
      "    UnknownExtra\n",
      "  _Error\n",
      "  UnableToResolveVariableException\n",
      "  InvalidTypeInArgsException\n",
      "  CustomError\n"
     ]
    }
   ],
   "source": [
    "import inspect\n",
    "import traceback\n",
    "\n",
    "def print_exception_hierarchy(exception_class, indent=0):\n",
    "    print(' ' * indent + exception_class.__name__)\n",
    "    for subclass in exception_class.__subclasses__():\n",
    "        print_exception_hierarchy(subclass, indent + 2)\n",
    "\n",
    "print_exception_hierarchy(Exception)\n"
   ]
  },
  {
   "cell_type": "markdown",
   "id": "3610a25a-5891-46e6-a454-61907108f996",
   "metadata": {},
   "source": [
    "Q3. What errors are defined in the ArithmeticError class? Explain any two with an example.\n"
   ]
  },
  {
   "cell_type": "markdown",
   "id": "43ac5ced-1d81-43a9-b486-40913c4fc760",
   "metadata": {},
   "source": [
    "ArithmeticError is the base class for errors related to numeric calculations. The primary subclasses are:\n",
    "\n",
    "ZeroDivisionError: Raised when a division by zero is attempted.\n",
    "OverflowError: Raised when a calculation exceeds the maximum limit of a number type.\n",
    "FloatingPointError: Raised for floating-point calculation errors.\n",
    "Examples:\n",
    "\n",
    "ZeroDivisionError:"
   ]
  },
  {
   "cell_type": "code",
   "execution_count": null,
   "id": "7ecc07aa-c8d5-4ebe-aac0-12eff6110abe",
   "metadata": {},
   "outputs": [
    {
     "name": "stdout",
     "output_type": "stream",
     "text": [
      "Cannot divide by zero\n"
     ]
    }
   ],
   "source": [
    "try:\n",
    "    result = 10 / 0\n",
    "except ZeroDivisionError:\n",
    "    print(\"Cannot divide by zero\")\n"
   ]
  },
  {
   "cell_type": "markdown",
   "id": "eef6222c-d430-4175-9bd7-380000f21b17",
   "metadata": {},
   "source": [
    "OverflowError:"
   ]
  },
  {
   "cell_type": "code",
   "execution_count": 5,
   "id": "9d46d773-b023-4121-a89f-c70f77395b67",
   "metadata": {},
   "outputs": [
    {
     "name": "stdout",
     "output_type": "stream",
     "text": [
      "Value too large to handle\n"
     ]
    }
   ],
   "source": [
    "import math\n",
    "try:\n",
    "    result = math.exp(1000)\n",
    "except OverflowError:\n",
    "    print(\"Value too large to handle\")\n"
   ]
  },
  {
   "cell_type": "code",
   "execution_count": null,
   "id": "cb2651bf-a4ad-49eb-807d-fa479285d35b",
   "metadata": {},
   "outputs": [],
   "source": [
    "Q4. Why LookupError class is used? Explain with an example KeyError and IndexError.\n"
   ]
  },
  {
   "cell_type": "markdown",
   "id": "6adfcff1-db11-41e2-a6b9-248590f6b956",
   "metadata": {},
   "source": [
    "The LookupError class is a base class for errors related to indexing or key lookup operations.\n",
    "\n",
    "KeyError: Raised when a dictionary key is not found.\n",
    "IndexError: Raised when a sequence index is out of range."
   ]
  },
  {
   "cell_type": "code",
   "execution_count": null,
   "id": "af491af2-1bb8-49a5-b179-3287c9299fa4",
   "metadata": {},
   "outputs": [],
   "source": [
    "KeyError:"
   ]
  },
  {
   "cell_type": "code",
   "execution_count": 6,
   "id": "f1418ed8-cc28-407e-8879-642c2de01347",
   "metadata": {},
   "outputs": [
    {
     "name": "stdout",
     "output_type": "stream",
     "text": [
      "Key not found in dictionary\n"
     ]
    }
   ],
   "source": [
    "my_dict = {'a': 1, 'b': 2}\n",
    "try:\n",
    "    value = my_dict['c']\n",
    "except KeyError:\n",
    "    print(\"Key not found in dictionary\")\n"
   ]
  },
  {
   "cell_type": "code",
   "execution_count": 8,
   "id": "a3c28c6a-a2c4-4d36-bd1e-c627d5a29fda",
   "metadata": {},
   "outputs": [
    {
     "name": "stdout",
     "output_type": "stream",
     "text": [
      "Index out of range\n"
     ]
    }
   ],
   "source": [
    "#INDEX ERROR\n",
    "my_list = [1, 2, 3]\n",
    "try:\n",
    "    value = my_list[5]\n",
    "except IndexError:\n",
    "    print(\"Index out of range\")\n"
   ]
  },
  {
   "cell_type": "code",
   "execution_count": null,
   "id": "fbd54b6b-ba67-4105-b1b6-e2c54b67f3be",
   "metadata": {},
   "outputs": [],
   "source": [
    "Q5. Explain ImportError. What is ModuleNotFoundError?"
   ]
  },
  {
   "cell_type": "markdown",
   "id": "2b1ae7e5-be08-4e16-b028-9cbf837e9972",
   "metadata": {},
   "source": [
    "ImportError: Raised when an import statement fails to find a module or when importing a module fails due to an issue within the module."
   ]
  },
  {
   "cell_type": "code",
   "execution_count": 9,
   "id": "6d8a46b8-7dfe-4ff2-afb8-f610744f93a1",
   "metadata": {},
   "outputs": [
    {
     "name": "stdout",
     "output_type": "stream",
     "text": [
      "Module not found\n"
     ]
    }
   ],
   "source": [
    "try:\n",
    "    import non_existent_module\n",
    "except ImportError:\n",
    "    print(\"Module not found\")\n"
   ]
  },
  {
   "cell_type": "markdown",
   "id": "d6261e52-d221-4d0d-ae86-c864399c19b6",
   "metadata": {},
   "source": [
    "ModuleNotFoundError: A subclass of ImportError that specifically indicates that a module could not be found. This exception is introduced in Python 3.6."
   ]
  },
  {
   "cell_type": "code",
   "execution_count": 10,
   "id": "c3695a0a-e82e-437a-9c60-772fd0cfa159",
   "metadata": {},
   "outputs": [
    {
     "name": "stdout",
     "output_type": "stream",
     "text": [
      "Module not found\n"
     ]
    }
   ],
   "source": [
    "try:\n",
    "    import non_existent_module\n",
    "except ModuleNotFoundError:\n",
    "    print(\"Module not found\")\n"
   ]
  },
  {
   "cell_type": "code",
   "execution_count": null,
   "id": "a3467769-4f27-4a4a-9098-07566057111a",
   "metadata": {},
   "outputs": [],
   "source": [
    "Q6. List down some best practices for exception handling in python."
   ]
  },
  {
   "cell_type": "markdown",
   "id": "f155b25b-91e0-4b9f-95e6-0652cb99ca60",
   "metadata": {},
   "source": [
    "Be Specific: Catch specific exceptions rather than using a generic except block. This helps in identifying and handling different types of errors accurately.\n",
    "\n",
    "Avoid Bare except Clauses: Avoid using except: without specifying an exception. This can catch unexpected exceptions and make debugging harder.\n",
    "\n",
    "Use finally for Cleanup: Use the finally block to ensure that resources are cleaned up properly, regardless of whether an exception occurred.\n",
    "\n",
    "Log Exceptions: Use logging to record exceptions and their context, which helps in debugging and maintaining the code.\n",
    "\n",
    "Reraise Exceptions When Needed: If you catch an exception but cannot handle it, re-raise it to allow higher levels of the program to deal with it.\n",
    "\n",
    "Use Custom Exceptions: For complex applications, define custom exceptions to provide clearer and more specific error reporting.\n"
   ]
  },
  {
   "cell_type": "code",
   "execution_count": null,
   "id": "80ab0f97-692b-4b64-ad68-95d28c9966f9",
   "metadata": {},
   "outputs": [],
   "source": []
  }
 ],
 "metadata": {
  "kernelspec": {
   "display_name": "Python 3 (ipykernel)",
   "language": "python",
   "name": "python3"
  },
  "language_info": {
   "codemirror_mode": {
    "name": "ipython",
    "version": 3
   },
   "file_extension": ".py",
   "mimetype": "text/x-python",
   "name": "python",
   "nbconvert_exporter": "python",
   "pygments_lexer": "ipython3",
   "version": "3.10.8"
  }
 },
 "nbformat": 4,
 "nbformat_minor": 5
}
