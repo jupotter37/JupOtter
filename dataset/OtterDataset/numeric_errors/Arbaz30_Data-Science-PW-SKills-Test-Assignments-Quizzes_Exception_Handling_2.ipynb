{
  "nbformat": 4,
  "nbformat_minor": 0,
  "metadata": {
    "colab": {
      "provenance": []
    },
    "kernelspec": {
      "name": "python3",
      "display_name": "Python 3"
    },
    "language_info": {
      "name": "python"
    }
  },
  "cells": [
    {
      "cell_type": "markdown",
      "source": [
        "# Q1. Explain why we have to use the Exception class while creating a Custom Exception.\n",
        "# Note: Here Exception class refers to the base class for all the exceptions."
      ],
      "metadata": {
        "id": "cW01F-Pkl3uB"
      }
    },
    {
      "cell_type": "markdown",
      "source": [
        "In Python, the `Exception` class is the base class for all exceptions. When creating a custom exception, it's important to inherit from the `Exception` class (or one of its subclasses, such as `BaseException`) for several reasons:\n",
        "\n",
        "1. **Consistency**: Inheriting from `Exception` ensures that your custom exception follows the same structure and behavior as other built-in exceptions. This consistency makes your custom exception familiar and predictable for anyone using or handling it.\n",
        "\n",
        "2. **Compatibility**: When you inherit from `Exception`, your custom exception can be caught and handled along with other standard exceptions. This makes it easier to integrate your custom exception into existing error-handling mechanisms.\n",
        "\n",
        "3. **Pythonic**: Following established conventions is a fundamental principle in Python. By inheriting from `Exception`, you adhere to the language's design patterns and best practices. This makes your code more readable and maintainable for other developers.\n",
        "\n",
        "4. **Interoperability**: Libraries and frameworks often expect exceptions to be derived from the `Exception` class. If you create a custom exception that doesn't inherit from `Exception`, it might not work seamlessly with other Python code and libraries.\n",
        "\n",
        "5. **Documentation**: Inheriting from `Exception` helps document your intent clearly. When another developer reads your code and sees that your custom exception is derived from `Exception`, they immediately understand that it's an exception meant for error handling.\n",
        "\n",
        "In summary, using the `Exception` class as the base for your custom exception is a recommended practice in Python to ensure consistency, compatibility, and adherence to Python's conventions and best practices. It makes your custom exception behave like standard exceptions and integrate well into Python's exception handling framework."
      ],
      "metadata": {
        "id": "curoQFP5l7A_"
      }
    },
    {
      "cell_type": "markdown",
      "source": [
        "Q2. Write a python program to print Python Exception Hierarchy."
      ],
      "metadata": {
        "id": "v-YuG-SNmGIb"
      }
    },
    {
      "cell_type": "code",
      "source": [
        "def print_exception_hierarchy(exception_class, indent=0):\n",
        "    print(\"  \" * indent + exception_class.__name__)\n",
        "    for sub_exception in exception_class.__subclasses__():\n",
        "        print_exception_hierarchy(sub_exception, indent + 1)\n",
        "\n",
        "print(\"Python Exception Hierarchy:\")\n",
        "print_exception_hierarchy(BaseException)"
      ],
      "metadata": {
        "id": "dBXf9Es7mG72"
      },
      "execution_count": null,
      "outputs": []
    },
    {
      "cell_type": "markdown",
      "source": [
        "# Q3. What errors are defined in the ArithmeticError class? Explain any two with an example."
      ],
      "metadata": {
        "id": "t1GGnHADmKTS"
      }
    },
    {
      "cell_type": "markdown",
      "source": [
        "The ArithmeticError class is a base class for exceptions related to arithmetic operations in Python. Two common exceptions that are derived from the ArithmeticError class are:\n",
        "\n",
        "ZeroDivisionError: This exception is raised when you try to divide a number by zero, which is mathematically undefined.\n",
        "\n",
        "Example:"
      ],
      "metadata": {
        "id": "eRjrd9_TnSKb"
      }
    },
    {
      "cell_type": "code",
      "source": [
        "try:\n",
        "    result = 5 / 0  # Attempting to divide by zero\n",
        "except ZeroDivisionError as e:\n",
        "    print(f\"ZeroDivisionError: {e}\")\n"
      ],
      "metadata": {
        "id": "q1N0Oa8dnTks"
      },
      "execution_count": null,
      "outputs": []
    },
    {
      "cell_type": "markdown",
      "source": [
        "OverflowError: This exception is raised when an arithmetic operation exceeds the maximum limit that can be represented by a numeric type, such as an integer or float.\n",
        "\n",
        "Example:"
      ],
      "metadata": {
        "id": "U_VYb9z8nYg2"
      }
    },
    {
      "cell_type": "code",
      "source": [
        "try:\n",
        "    result = 2 ** 1000  # Attempting to calculate 2 raised to the power of 1000\n",
        "except OverflowError as e:\n",
        "    print(f\"OverflowError: {e}\")\n"
      ],
      "metadata": {
        "id": "qFvBMP91na0p"
      },
      "execution_count": null,
      "outputs": []
    },
    {
      "cell_type": "markdown",
      "source": [
        "# Q4. Why LookupError class is used? Explain with an example KeyError and IndexError."
      ],
      "metadata": {
        "id": "eL125hd1nfET"
      }
    },
    {
      "cell_type": "markdown",
      "source": [
        "\n",
        "The LookupError class is used in Python to handle exceptions related to looking up or accessing items in sequences or mappings. It serves as a base class for several specific lookup-related exceptions, including KeyError and IndexError. Here's an explanation of both with examples:\n",
        "\n",
        "KeyError: KeyError is raised when you try to access a dictionary using a key that doesn't exist in the dictionary.\n",
        "\n",
        "Example:"
      ],
      "metadata": {
        "id": "yv7AG2jNnhAn"
      }
    },
    {
      "cell_type": "code",
      "source": [
        "my_dict = {'apple': 3, 'banana': 2, 'cherry': 5}\n",
        "try:\n",
        "    count = my_dict['grape']  # Attempting to access a key that doesn't exist\n",
        "except KeyError as e:\n",
        "    print(f\"KeyError: {e}\")\n"
      ],
      "metadata": {
        "id": "U-dDOUWgnk8y"
      },
      "execution_count": null,
      "outputs": []
    },
    {
      "cell_type": "markdown",
      "source": [
        "IndexError: IndexError is raised when you try to access an index that is out of range in a sequence, such as a list or a string.\n",
        "\n",
        "Example:"
      ],
      "metadata": {
        "id": "aiYFDW9pnm20"
      }
    },
    {
      "cell_type": "code",
      "source": [
        "my_list = [1, 2, 3, 4, 5]\n",
        "try:\n",
        "    value = my_list[10]  # Attempting to access an index that is out of range\n",
        "except IndexError as e:\n",
        "    print(f\"IndexError: {e}\")\n"
      ],
      "metadata": {
        "id": "nHMwqb1wnpB2"
      },
      "execution_count": null,
      "outputs": []
    },
    {
      "cell_type": "markdown",
      "source": [
        "# Q5. Explain ImportError. What is ModuleNotFoundError?"
      ],
      "metadata": {
        "id": "2nBS9NYOnq2s"
      }
    },
    {
      "cell_type": "markdown",
      "source": [
        "ImportError:\n",
        "\n",
        "ImportError is a base class for exceptions related to importing modules. It is raised when there is an issue with importing a module, but the specific reason for the failure is not identified.\n",
        "Common causes of ImportError include issues like a module being misspelled or not installed on the system.\n",
        "When handling ImportError, you can catch any import-related issue in a single except block."
      ],
      "metadata": {
        "id": "B9w1xUf9nuD3"
      }
    },
    {
      "cell_type": "markdown",
      "source": [
        "ModuleNotFoundError:\n",
        "\n",
        "ModuleNotFoundError is a more specific exception introduced in Python 3.6. It is raised when a module is not found during the import process. This is a more informative exception that explicitly indicates that the module you are trying to import could not be located.\n",
        "ModuleNotFoundError helps you quickly identify that the issue is related to the module's absence."
      ],
      "metadata": {
        "id": "8-bhGNann0P7"
      }
    },
    {
      "cell_type": "markdown",
      "source": [
        "# Q6. List down some best practices for exception handling in python."
      ],
      "metadata": {
        "id": "f5Vwo947n9JS"
      }
    },
    {
      "cell_type": "markdown",
      "source": [
        "Exception handling is a crucial aspect of writing robust and maintainable Python code. Here are some best practices for effective exception handling in Python:\n",
        "\n",
        "1. **Be Specific with Exception Types**:\n",
        "   - Catch specific exceptions rather than using a generic `except` block whenever possible. This makes your code more robust and easier to debug.\n",
        "\n",
        "2. **Use Multiple Except Blocks**:\n",
        "   - Use multiple `except` blocks to handle different types of exceptions individually. This allows you to provide custom error messages and actions for each type of exception.\n",
        "\n",
        "3. **Avoid Bare Excepts**:\n",
        "   - Avoid using a bare `except` (i.e., without specifying an exception type). It can catch unexpected exceptions and make debugging difficult. Instead, be explicit about which exceptions you expect to handle.\n",
        "\n",
        "4. **Handle Exceptions Close to the Source**:\n",
        "   - Handle exceptions as close to the source of the error as possible. This localizes error handling and makes it easier to identify the cause of the issue.\n",
        "\n",
        "5. **Use `else` for Error-Free Code**:\n",
        "   - Use the `else` block in `try...except` to specify code that should execute when no exceptions are raised. This can make your code more structured and readable.\n",
        "\n",
        "6. **Use `finally` for Cleanup**:\n",
        "   - Use the `finally` block to include code that should always execute, whether an exception is raised or not. It's useful for cleanup tasks (e.g., closing files or network connections).\n",
        "\n",
        "7. **Reraise Exceptions Sparingly**:\n",
        "   - If you catch an exception but cannot handle it, re-raising it is a good practice. However, do this sparingly to avoid losing important information about the original error.\n",
        "\n",
        "8. **Handle Exception Messages Carefully**:\n",
        "   - When handling exceptions, consider what information to include in the error message. Be mindful of not exposing sensitive data but provide enough details for debugging.\n",
        "\n",
        "9. **Custom Exceptions**:\n",
        "   - Create custom exceptions when your code has unique error conditions. This makes your error handling more descriptive and informative.\n",
        "\n",
        "10. **Use Context Managers**:\n",
        "    - Utilize context managers (e.g., `with` statements) for resource management, as they automatically handle exceptions and ensure proper cleanup.\n",
        "\n",
        "11. **Logging**:\n",
        "    - Use logging to record exception details, including timestamps and contextual information. This helps in debugging and monitoring.\n",
        "\n",
        "12. **Document Exceptions**:\n",
        "    - Document the exceptions that your functions and methods can raise. This helps other developers understand how to use your code effectively.\n",
        "\n",
        "13. **Testing**:\n",
        "    - Write unit tests to cover both expected and unexpected exceptions. This ensures that your code handles exceptions correctly and gracefully.\n",
        "\n",
        "14. **Graceful Degradation**:\n",
        "    - When appropriate, implement graceful degradation, which allows your program to continue running despite non-fatal exceptions.\n",
        "\n",
        "15. **Keep Exception Handling Simple**:\n",
        "    - Don't overcomplicate exception handling. Keep it as simple and straightforward as possible while still meeting your error-handling requirements.\n",
        "\n",
        "Remember that good exception handling is about balancing robustness and readability. It helps make your code more reliable and user-friendly, allowing you to anticipate and address errors effectively."
      ],
      "metadata": {
        "id": "djZbEE9Fn_-u"
      }
    }
  ]
}