{
 "cells": [
  {
   "cell_type": "markdown",
   "id": "735a19f6-5052-4ca3-97a9-b6958965a2b1",
   "metadata": {},
   "source": [
    "## Q1. Explain why we have to use the Exception class while creating a Custom Exception. Note: Here Exception class refers to the base class for all the exceptions."
   ]
  },
  {
   "cell_type": "markdown",
   "id": "aa653971-dc95-427e-8980-8351cbc04941",
   "metadata": {},
   "source": [
    "In Python, you use the Exception class when creating a custom exception to inherit the standard exception handling behavior and methods like __str__() and args, allowing you to raise and manage errors consistently. This ensures your custom exceptions can be caught and processed in a similar way to built-in exceptions."
   ]
  },
  {
   "cell_type": "markdown",
   "id": "0cf6f679-b03f-4db1-a3da-235faf450449",
   "metadata": {},
   "source": [
    "## Q2. Write a python program to print Python Exception Hierarchy."
   ]
  },
  {
   "cell_type": "code",
   "execution_count": 1,
   "id": "83b70a4f-6596-4c45-8c36-be579c1d4ba5",
   "metadata": {},
   "outputs": [],
   "source": [
    "l = ['Notset','Debug','Info','Warrraning','Error','Critical']"
   ]
  },
  {
   "cell_type": "code",
   "execution_count": 5,
   "id": "a0b82104-5802-4595-8081-5d130604e8ea",
   "metadata": {},
   "outputs": [
    {
     "name": "stdout",
     "output_type": "stream",
     "text": [
      "1 Notset\n",
      "2 Debug\n",
      "3 Info\n",
      "4 Warrraning\n",
      "5 Error\n",
      "6 Critical\n"
     ]
    }
   ],
   "source": [
    "for i in range(len(l)):\n",
    "    print(i+1,l[i])"
   ]
  },
  {
   "cell_type": "markdown",
   "id": "2d6b4d1b-0e28-4520-af1d-72ad05503199",
   "metadata": {},
   "source": [
    "## Q3. What errors are defined in the ArithmeticError class? Explain any two with an example."
   ]
  },
  {
   "cell_type": "markdown",
   "id": "a70dfdd2-a2cc-4014-95b4-7bf351a5f9ec",
   "metadata": {},
   "source": [
    "The ArithmeticError class in Python includes errors like ZeroDivisionError and OverflowError. For example, ZeroDivisionError occurs when dividing by zero (10 / 0), and OverflowError happens when a calculation exceeds the maximum limit for a numeric type (math.exp(1000))."
   ]
  },
  {
   "cell_type": "markdown",
   "id": "8a592272-76f6-4610-a087-364e3762ff9f",
   "metadata": {},
   "source": [
    "## Q4. Why LookupError class is used? Explain with an example KeyError and IndexError."
   ]
  },
  {
   "cell_type": "markdown",
   "id": "77dcc428-eb58-45ad-83d1-19e8ddfba483",
   "metadata": {},
   "source": [
    "The LookupError class in Python is a base class for exceptions raised when a key or index is not found in a collection. For example, KeyError occurs when trying to access a nonexistent key in a dictionary (my_dict['invalid_key']), and IndexError happens when accessing an out-of-range index in a list (my_list[10])."
   ]
  },
  {
   "cell_type": "markdown",
   "id": "fa9fcd34-07fa-45e1-8834-c43a3195e666",
   "metadata": {},
   "source": [
    "## Q5. Explain ImportError. What is ModuleNotFoundError?"
   ]
  },
  {
   "cell_type": "markdown",
   "id": "4aba7925-7d5c-421b-a54e-cae263af4220",
   "metadata": {},
   "source": [
    "`ImportError` in Python occurs when a module cannot be imported, either due to its absence or issues in the module. `ModuleNotFoundError` is a subclass of `ImportError`, specifically raised when a module cannot be found during an import attempt (`import nonexistent_module`)."
   ]
  },
  {
   "cell_type": "markdown",
   "id": "2188fe6a-7d45-4912-8366-206a0a360953",
   "metadata": {},
   "source": [
    "## Q6. List down some best practices for exception handling in python. \n"
   ]
  },
  {
   "cell_type": "markdown",
   "id": "945078b1-0107-4f86-b5e3-789d3efe8517",
   "metadata": {},
   "source": [
    "1] Use always a specific exception.\n",
    "2] Always try to log your error.\n",
    "3] A;ways try to avoid to write a multiplt exception handling. \n",
    "4] Document all the error handling.\n",
    "5] Cleanup all the resources. "
   ]
  }
 ],
 "metadata": {
  "kernelspec": {
   "display_name": "Python 3 (ipykernel)",
   "language": "python",
   "name": "python3"
  },
  "language_info": {
   "codemirror_mode": {
    "name": "ipython",
    "version": 3
   },
   "file_extension": ".py",
   "mimetype": "text/x-python",
   "name": "python",
   "nbconvert_exporter": "python",
   "pygments_lexer": "ipython3",
   "version": "3.12.4"
  }
 },
 "nbformat": 4,
 "nbformat_minor": 5
}
