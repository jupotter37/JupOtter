{
  "nbformat": 4,
  "nbformat_minor": 0,
  "metadata": {
    "colab": {
      "provenance": []
    },
    "kernelspec": {
      "name": "python3",
      "display_name": "Python 3"
    },
    "language_info": {
      "name": "python"
    }
  },
  "cells": [
    {
      "cell_type": "code",
      "source": [
        "#1.OOP\n",
        "#2.Class & Object\n",
        "#3.Constructor\n",
        "#4.dunder method/magic method\n",
        "#5.closure\n",
        "#6.Decorator\n",
        "#7.Inheritance\n",
        "#8.Polymorphism\n",
        "#9.FileHandling\n",
        "#10.Expection Handling\n",
        "#11.Regular Expression"
      ],
      "metadata": {
        "id": "PTeLyCB6ZM3j"
      },
      "execution_count": null,
      "outputs": []
    },
    {
      "cell_type": "code",
      "source": [
        "#What Proceduce Oriented Programming?"
      ],
      "metadata": {
        "id": "3LqT1SrUUhDe"
      },
      "execution_count": null,
      "outputs": []
    },
    {
      "cell_type": "code",
      "source": [
        "                #Constructed only using function/Procedure\n",
        "                #Example:C,COBOL\n",
        "                #Why?\n",
        "                        #Data security\n",
        "                        #Computer (Monitor,Parts(RAM,Bus,HHD,..etc)) #work\n",
        "                        #Data's are kept Global"
      ],
      "metadata": {
        "id": "GoiKwLxSUhF5"
      },
      "execution_count": null,
      "outputs": []
    },
    {
      "cell_type": "code",
      "source": [
        "#What Object Oriented Programming?"
      ],
      "metadata": {
        "id": "1DQXYcO4UhIi"
      },
      "execution_count": null,
      "outputs": []
    },
    {
      "cell_type": "code",
      "source": [
        "                #Constructed using class & Object\n",
        "                #Example:Python,C++,Java..etc\n",
        "                #OOP concept\n",
        "                #Why?\n",
        "                        #Data security\n",
        "                        #Computer (Monitor,CPU) #work\n",
        "                        #Data's are not Global\n",
        "                #When?\n",
        "                        #\"Alan kay\"-1960\n"
      ],
      "metadata": {
        "id": "BYXOtos0UhKi"
      },
      "execution_count": null,
      "outputs": []
    },
    {
      "cell_type": "code",
      "source": [
        "#Both(Billingual Language-POP,OOP)\n",
        "            #Python\n",
        "            #C++"
      ],
      "metadata": {
        "id": "y-3PmVSwUhN9"
      },
      "execution_count": null,
      "outputs": []
    },
    {
      "cell_type": "code",
      "source": [
        "#4 Pillars OOP\n",
        "        #1.Abstraction\n",
        "                #Providing only necessary information\n",
        "                #Ex:ATM,CPU-on/off\n",
        "\n",
        "        #2.Encapulation\n",
        "                #Combing/binding information to a single unit\n",
        "                #Ex:Capsule,class\n",
        "\n",
        "        #3.Inheritance\n",
        "                #One class acquires the property of another class\n",
        "                #gives  =>base,super\n",
        "                #gets   =>derived,sub\n",
        "                #Example:\n",
        "                    #Relationship   \"Is-a\"\n",
        "                            #Employee   => Person\n",
        "                            #Doctor        =>  Surgeon\n",
        "\n",
        "    #Association:\n",
        "                    #Composition (Fully dependent)\n",
        "                    #Aggregation(Partially dependent)\n",
        "\n",
        "                    #Relationship   \"Has-a\"\n",
        "                            #College       => Student\n",
        "                            #Bank            => Customer\n",
        "                            #Person       =>  DOB\n",
        "                #parent class-child class\n",
        "\n",
        "        #4.polymorphism\n",
        "                    #One entity existing in different forms\n",
        "                    #Run time             : Function/Method Overriding\n",
        "                                                    #same function with same in function parameter /Signature\n",
        "\n",
        "\n",
        "        #Compile time     :Function Overloading\n",
        "        #Python does not has Function Overloading\n",
        "        #Overloading:\n",
        "                            #same function with difference in function parameter /Signature\n",
        "                            #def add(no1,no2):\n",
        "                            #def add(no1,no2,no3):"
      ],
      "metadata": {
        "id": "K-NWH0yjYf0b"
      },
      "execution_count": null,
      "outputs": []
    },
    {
      "cell_type": "code",
      "source": [
        "#2 Bases\n",
        "        #1.class:\n",
        "                        #its a blue print /template\n",
        "                        #Collection of attribute and method (common behaviour and functionality)\n",
        "                        #memory allocation:\n",
        "                        #no memory is allocated\n",
        "                        #Ex:Employee,Student,laptop,pen\n",
        "\n",
        "\n",
        "        #2.Object\n",
        "                        #part of /instance of class\n",
        "                        #memory allocation: yes\n",
        "                        #Ex:class laptop\n",
        "                                #object:HP,DELL,....etc"
      ],
      "metadata": {
        "id": "fAkqQg2Nc17S"
      },
      "execution_count": null,
      "outputs": []
    },
    {
      "cell_type": "code",
      "source": [
        "#syntax:\n",
        "class className:\n",
        "    #Class member\n",
        "        #attribute (variable)\n",
        "        #method   (Function)\n",
        "\n",
        "\n",
        "#Syntax:\n",
        " obj=className()"
      ],
      "metadata": {
        "id": "ob2RkGeZd-ex"
      },
      "execution_count": null,
      "outputs": []
    },
    {
      "cell_type": "code",
      "source": [
        "class Sample:\n",
        "    pass               #Does nothing\n",
        "\n",
        "obj=Sample ()\n",
        "print(obj)"
      ],
      "metadata": {
        "colab": {
          "base_uri": "https://localhost:8080/"
        },
        "id": "N8dTtzUEearh",
        "outputId": "9c21ec36-44cf-455d-ab2b-59b34b13b3af"
      },
      "execution_count": null,
      "outputs": [
        {
          "output_type": "stream",
          "name": "stdout",
          "text": [
            "<__main__.Sample object at 0x78e85447b910>\n"
          ]
        }
      ]
    },
    {
      "cell_type": "code",
      "source": [
        "#Method:\n",
        "        #class method\n",
        "        #Instance method\n",
        "\n",
        "\n",
        "def mymethod():\n",
        "    #statement-1\n",
        "    #statement-2"
      ],
      "metadata": {
        "id": "Q0E2pFMWeubP"
      },
      "execution_count": null,
      "outputs": []
    },
    {
      "cell_type": "code",
      "source": [
        "# class method\n",
        "class Sample:\n",
        "    var=\"Sample attribute\"           #class Attribute\n",
        "    def mymethod():                      #class method\n",
        "        print(\"Happy Learning.....!\")\n",
        "        print(\"All is Well...................!\")\n",
        "\n",
        "Sample.mymethod()\n",
        "print(Sample.var)"
      ],
      "metadata": {
        "colab": {
          "base_uri": "https://localhost:8080/"
        },
        "id": "NRmr6gTZfhto",
        "outputId": "51235039-3eba-4223-8c86-97623964484b"
      },
      "execution_count": null,
      "outputs": [
        {
          "output_type": "stream",
          "name": "stdout",
          "text": [
            "Happy Learning.....!\n",
            "All is Well...................!\n",
            "Sample attribute\n"
          ]
        }
      ]
    },
    {
      "cell_type": "code",
      "source": [
        "#Instance method\n",
        "class Sample:\n",
        "    def mymethod(abc):                      # method\n",
        "    #def mymethod(self):\n",
        "        print(\"Happy Learning.....!\")\n",
        "        print(\"All is Well...................!\")\n",
        "\n",
        "obj=Sample()\n",
        "obj.mymethod()                                 #mymethod(obj)"
      ],
      "metadata": {
        "colab": {
          "base_uri": "https://localhost:8080/"
        },
        "id": "XkJaZCZtf6EL",
        "outputId": "e4f40393-97e3-4363-aa3c-fda7d8d4d91b"
      },
      "execution_count": null,
      "outputs": [
        {
          "output_type": "stream",
          "name": "stdout",
          "text": [
            "Happy Learning.....!\n",
            "All is Well...................!\n"
          ]
        }
      ]
    },
    {
      "cell_type": "code",
      "source": [
        "def myfun(var):\n",
        "    print(\"C the Change...!\")\n",
        "\n",
        "myfun(\"Python\")"
      ],
      "metadata": {
        "colab": {
          "base_uri": "https://localhost:8080/"
        },
        "id": "LJQjdPdCghV_",
        "outputId": "473a0f56-904f-457e-d2f1-d13abf4b526d"
      },
      "execution_count": null,
      "outputs": [
        {
          "output_type": "stream",
          "name": "stdout",
          "text": [
            "C the Change...!\n"
          ]
        }
      ]
    },
    {
      "cell_type": "code",
      "source": [
        "#self:\n",
        "            #its a variable who recives the current calling object\n",
        "\n",
        "#C++/Java:\n",
        "        #\"this\" keyword\n",
        "        #its a variable who receives the current calling object"
      ],
      "metadata": {
        "id": "_y4THd8shTnm"
      },
      "execution_count": null,
      "outputs": []
    },
    {
      "cell_type": "code",
      "source": [
        "#Instance method\n",
        "class Sample:\n",
        "    def mymethod(self):                      # Instance method\n",
        "    #def mymethod(self):\n",
        "        print(\"Happy Learning.....!\")\n",
        "        print(\"All is Well...................!\")\n",
        "\n",
        "obj=Sample()\n",
        "obj.mymethod()                                 #mymethod(obj)"
      ],
      "metadata": {
        "colab": {
          "base_uri": "https://localhost:8080/"
        },
        "id": "1OSiJ1Y_g35L",
        "outputId": "ff118742-24ae-46ab-a838-da90ec15863b"
      },
      "execution_count": null,
      "outputs": [
        {
          "output_type": "stream",
          "name": "stdout",
          "text": [
            "Happy Learning.....!\n",
            "All is Well...................!\n"
          ]
        }
      ]
    },
    {
      "cell_type": "code",
      "source": [
        "#Addition\n",
        "class Addition:\n",
        "    def mySum(self,no1,no2):\n",
        "        sum=no1+no2\n",
        "        print(\"Sum: \",sum)\n",
        "\n",
        "add=Addition()\n",
        "add.mySum(10,20)       #mySum(add,10,20)\n"
      ],
      "metadata": {
        "colab": {
          "base_uri": "https://localhost:8080/"
        },
        "id": "9OrqPQiIhUGw",
        "outputId": "aa5d8c40-9c29-4abe-c5f8-f4ee824c7068"
      },
      "execution_count": null,
      "outputs": [
        {
          "output_type": "stream",
          "name": "stdout",
          "text": [
            "Sum:  30\n"
          ]
        }
      ]
    },
    {
      "cell_type": "code",
      "source": [
        "#Attribute:\n",
        "            #1.Class Attribute\n",
        "            #2.Static Attribute\n",
        "            #3.Instance Attribute\n",
        "            #4.Local Attribute\n",
        "            #5.Global Attribute"
      ],
      "metadata": {
        "id": "uHRgaQQfiThC"
      },
      "execution_count": null,
      "outputs": []
    },
    {
      "cell_type": "code",
      "source": [
        "#Class Attribute:\n",
        "        #Where: Declared inside the class\n",
        "        #Acess : Class name\n",
        "        #Scope :class Scope\n",
        "        #Memory :shared accross all the instance of class"
      ],
      "metadata": {
        "id": "O1xT3knbiojm"
      },
      "execution_count": null,
      "outputs": []
    },
    {
      "cell_type": "code",
      "source": [
        "class Student:\n",
        "    studName=\"Sam\"              # Class Attribute\n",
        "    studID=987654\n",
        "    def get(self):\n",
        "        print(\"Name-get:\",Student.studName)\n",
        "        print(\"ID-get:\",Student.studID)\n",
        "\n",
        "    def put(self):\n",
        "        print(\"Name-put:\",Student.studName)\n",
        "        print(\"ID-put:\",Student.studID)\n",
        "\n",
        "Stud1=Student()\n",
        "Stud1.get()\n",
        "Stud1.put()\n",
        "print(\"Student Information:\")\n",
        "print(\"Name-put:\",Student.studName)\n",
        "print(\"ID-put:\",Student.studID)"
      ],
      "metadata": {
        "colab": {
          "base_uri": "https://localhost:8080/"
        },
        "id": "lSEtHDgli84t",
        "outputId": "15b3db99-2c52-4cbd-f81d-fb53756d31d1"
      },
      "execution_count": null,
      "outputs": [
        {
          "output_type": "stream",
          "name": "stdout",
          "text": [
            "Name-get: Sam\n",
            "ID-get: 987654\n",
            "Name-put: Sam\n",
            "ID-put: 987654\n",
            "Student Information:\n",
            "Name-put: Sam\n",
            "ID-put: 987654\n"
          ]
        }
      ]
    },
    {
      "cell_type": "code",
      "source": [
        "class Student:\n",
        "    studName=\"Sam\"              # Class Attribute    @2000\n",
        "    studID=9870                                                           #add=>2020         studID=9870\n",
        "\n",
        "    def idGenerate(self):\n",
        "        Student.studID+=5                                             #add=>2020         studID=9875 ,9880...etc\n",
        "\n",
        "    def display(self):\n",
        "        print(\"Student-ID:\",Student.studID)\n",
        "\n",
        "\n",
        "s1=Student()\n",
        "s1.idGenerate()\n",
        "s1.display()                       #S1=9875\n",
        "\n",
        "s2=Student()\n",
        "s2.idGenerate()\n",
        "s2.display()                        #S2=9880\n",
        "\n",
        "s3=Student()\n",
        "s3.idGenerate()\n",
        "s3.display()                         #S3=9885\n",
        "\n",
        "print(Student.studID)\n"
      ],
      "metadata": {
        "colab": {
          "base_uri": "https://localhost:8080/"
        },
        "id": "BOKX5OQ9jtMW",
        "outputId": "30ad92d3-1307-4aa7-a1c4-83f26a47d867"
      },
      "execution_count": null,
      "outputs": [
        {
          "output_type": "stream",
          "name": "stdout",
          "text": [
            "Student-ID: 9875\n",
            "Student-ID: 9880\n",
            "Student-ID: 9885\n",
            "9885\n"
          ]
        }
      ]
    },
    {
      "cell_type": "code",
      "source": [
        "#Instance Attribute\n",
        "         #Where: Declared inside the method\n",
        "        #Acess : Instance name\n",
        "        #Scope :Instance Scope\n",
        "        #Memory :Unique memory is maintained for each instance"
      ],
      "metadata": {
        "id": "6EalKe6Zl9Jc"
      },
      "execution_count": null,
      "outputs": []
    },
    {
      "cell_type": "code",
      "source": [
        "class Student:\n",
        "    def get(self):                           #self--->instance\n",
        "        self.studName=\"Sam\"              # Instance Attribute\n",
        "        self.studID=987654\n",
        "        print(\"Name-get:\",self.studName)\n",
        "        print(\"ID-get:\",self.studID)\n",
        "\n",
        "    def put(self):\n",
        "        print(\"Name-put:\",self.studName)\n",
        "        print(\"ID-put:\",self.studID)\n",
        "\n",
        "Stud1=Student()\n",
        "Stud1.get()\n",
        "Stud1.put()\n",
        "print(\"Student Information\")\n",
        "print(\"Name:\",Stud1.studName)\n",
        "print(\"ID:\",Stud1.studID)"
      ],
      "metadata": {
        "colab": {
          "base_uri": "https://localhost:8080/"
        },
        "id": "jOwP69p9nhcl",
        "outputId": "b1a9d430-21de-4236-e78a-f0c4065d1e83"
      },
      "execution_count": null,
      "outputs": [
        {
          "output_type": "stream",
          "name": "stdout",
          "text": [
            "Name-get: Sam\n",
            "ID-get: 987654\n",
            "Name-put: Sam\n",
            "ID-put: 987654\n",
            "Student Information\n",
            "Name: Sam\n",
            "ID: 987654\n"
          ]
        }
      ]
    },
    {
      "cell_type": "code",
      "source": [
        "class Student:\n",
        "    studName=\"Sam\"              # Class Attribute    @2000\n",
        "                                                    #add=>2020         studID=9870\n",
        "\n",
        "    def idGenerate(self):\n",
        "         self.studID=9870\n",
        "         self.studID+=5                                             #add=>2020         studID=9875\n",
        "\n",
        "    def display(self):\n",
        "        print(\"Student-ID:\",self.studID)\n",
        "\n",
        "\n",
        "s1=Student()\n",
        "s1.idGenerate()\n",
        "s1.display()                       #S1=9875\n",
        "\n",
        "s2=Student()\n",
        "s2.idGenerate()\n",
        "s2.display()                        #S2=9880\n",
        "\n",
        "s3=Student()\n",
        "s3.idGenerate()\n",
        "s3.display()                         #S3=9885\n",
        "\n",
        "print(\"Id's :\")\n",
        "print(s1.studID)\n",
        "print(s2.studID)\n",
        "print(s3.studID)"
      ],
      "metadata": {
        "colab": {
          "base_uri": "https://localhost:8080/"
        },
        "id": "4sNb3VWvn9Bh",
        "outputId": "c2c03bf3-6717-46aa-ff2c-0c4e1888d943"
      },
      "execution_count": null,
      "outputs": [
        {
          "output_type": "stream",
          "name": "stdout",
          "text": [
            "Student-ID: 9875\n",
            "Student-ID: 9875\n",
            "Student-ID: 9875\n",
            "Id's :\n",
            "9875\n",
            "9875\n",
            "9875\n"
          ]
        }
      ]
    },
    {
      "cell_type": "code",
      "source": [
        "#Local Attribute:\n",
        "        #Where: Declared inside the method/block\n",
        "        #Acess : name\n",
        "        #Scope :method Scope/block\n",
        "        #Memory :block/instance"
      ],
      "metadata": {
        "id": "DnCViUktoiBn"
      },
      "execution_count": null,
      "outputs": []
    },
    {
      "cell_type": "code",
      "source": [
        "class Student:\n",
        "    def get(self):                           #self--->instance\n",
        "        studName=\"Sam\"              # Local Attribute\n",
        "        studID=987654\n",
        "        print(\"Name-get:\",studName)\n",
        "        print(\"ID-get:\",studID)\n",
        "\n",
        "    def put(self):\n",
        "        print(\"Name-put:\",studName)\n",
        "        print(\"ID-put:\",studID)\n",
        "\n",
        "Stud1=Student()\n",
        "Stud1.get()\n",
        "Stud1.put()\n",
        "print(\"Student Information\")\n",
        "print(\"Name:\",studName)\n",
        "print(\"ID:\",studID)\n",
        "\n",
        "#stude1.put() stack frame=>\n",
        "#stud1.get ()  stack frame=>  @ 2000  @2040"
      ],
      "metadata": {
        "colab": {
          "base_uri": "https://localhost:8080/",
          "height": 367
        },
        "id": "C5gXlpKTpNKy",
        "outputId": "3934016f-11ef-4dac-cf48-807d88591a1a"
      },
      "execution_count": null,
      "outputs": [
        {
          "output_type": "stream",
          "name": "stdout",
          "text": [
            "Name-get: Sam\n",
            "ID-get: 987654\n"
          ]
        },
        {
          "output_type": "error",
          "ename": "NameError",
          "evalue": "name 'studName' is not defined",
          "traceback": [
            "\u001b[0;31m---------------------------------------------------------------------------\u001b[0m",
            "\u001b[0;31mNameError\u001b[0m                                 Traceback (most recent call last)",
            "\u001b[0;32m<ipython-input-24-b3cf2c2e231f>\u001b[0m in \u001b[0;36m<cell line: 14>\u001b[0;34m()\u001b[0m\n\u001b[1;32m     12\u001b[0m \u001b[0mStud1\u001b[0m\u001b[0;34m=\u001b[0m\u001b[0mStudent\u001b[0m\u001b[0;34m(\u001b[0m\u001b[0;34m)\u001b[0m\u001b[0;34m\u001b[0m\u001b[0;34m\u001b[0m\u001b[0m\n\u001b[1;32m     13\u001b[0m \u001b[0mStud1\u001b[0m\u001b[0;34m.\u001b[0m\u001b[0mget\u001b[0m\u001b[0;34m(\u001b[0m\u001b[0;34m)\u001b[0m\u001b[0;34m\u001b[0m\u001b[0;34m\u001b[0m\u001b[0m\n\u001b[0;32m---> 14\u001b[0;31m \u001b[0mStud1\u001b[0m\u001b[0;34m.\u001b[0m\u001b[0mput\u001b[0m\u001b[0;34m(\u001b[0m\u001b[0;34m)\u001b[0m\u001b[0;34m\u001b[0m\u001b[0;34m\u001b[0m\u001b[0m\n\u001b[0m\u001b[1;32m     15\u001b[0m \u001b[0mprint\u001b[0m\u001b[0;34m(\u001b[0m\u001b[0;34m\"Student Information\"\u001b[0m\u001b[0;34m)\u001b[0m\u001b[0;34m\u001b[0m\u001b[0;34m\u001b[0m\u001b[0m\n\u001b[1;32m     16\u001b[0m \u001b[0mprint\u001b[0m\u001b[0;34m(\u001b[0m\u001b[0;34m\"Name:\"\u001b[0m\u001b[0;34m,\u001b[0m\u001b[0mstudName\u001b[0m\u001b[0;34m)\u001b[0m\u001b[0;34m\u001b[0m\u001b[0;34m\u001b[0m\u001b[0m\n",
            "\u001b[0;32m<ipython-input-24-b3cf2c2e231f>\u001b[0m in \u001b[0;36mput\u001b[0;34m(self)\u001b[0m\n\u001b[1;32m      7\u001b[0m \u001b[0;34m\u001b[0m\u001b[0m\n\u001b[1;32m      8\u001b[0m     \u001b[0;32mdef\u001b[0m \u001b[0mput\u001b[0m\u001b[0;34m(\u001b[0m\u001b[0mself\u001b[0m\u001b[0;34m)\u001b[0m\u001b[0;34m:\u001b[0m\u001b[0;34m\u001b[0m\u001b[0;34m\u001b[0m\u001b[0m\n\u001b[0;32m----> 9\u001b[0;31m         \u001b[0mprint\u001b[0m\u001b[0;34m(\u001b[0m\u001b[0;34m\"Name-put:\"\u001b[0m\u001b[0;34m,\u001b[0m\u001b[0mstudName\u001b[0m\u001b[0;34m)\u001b[0m\u001b[0;34m\u001b[0m\u001b[0;34m\u001b[0m\u001b[0m\n\u001b[0m\u001b[1;32m     10\u001b[0m         \u001b[0mprint\u001b[0m\u001b[0;34m(\u001b[0m\u001b[0;34m\"ID-put:\"\u001b[0m\u001b[0;34m,\u001b[0m\u001b[0mstudID\u001b[0m\u001b[0;34m)\u001b[0m\u001b[0;34m\u001b[0m\u001b[0;34m\u001b[0m\u001b[0m\n\u001b[1;32m     11\u001b[0m \u001b[0;34m\u001b[0m\u001b[0m\n",
            "\u001b[0;31mNameError\u001b[0m: name 'studName' is not defined"
          ]
        }
      ]
    },
    {
      "cell_type": "code",
      "source": [
        "for (int i=0;i<n;i++){\n",
        "\n",
        "}"
      ],
      "metadata": {
        "id": "YQpPcyNTpZar"
      },
      "execution_count": null,
      "outputs": []
    },
    {
      "cell_type": "code",
      "source": [
        "### Day-2"
      ],
      "metadata": {
        "id": "tvtAviYaa1wx"
      },
      "execution_count": null,
      "outputs": []
    },
    {
      "cell_type": "code",
      "source": [
        "#Recap:\n",
        "        #OOP vs POP\n",
        "        #4pillars & 2Bases\n",
        "        #class & attribute\n",
        "        #method -2 type(Instance,class)\n",
        "        #Attribute- 5 types"
      ],
      "metadata": {
        "id": "v4dZVD3cdbPG"
      },
      "execution_count": null,
      "outputs": []
    },
    {
      "cell_type": "code",
      "source": [
        "#Global attribute:\n",
        "        #Where: Declared outside the class\n",
        "        #Acess : name\n",
        "        #Scope :global Scope\n",
        "        #Memory :shared memory"
      ],
      "metadata": {
        "id": "M4qefSTmdbRR"
      },
      "execution_count": null,
      "outputs": []
    },
    {
      "cell_type": "code",
      "source": [
        "var=\"Student Information\"    #global\n",
        "class Student:\n",
        "\n",
        "    def get(self):                           #self--->instance\n",
        "        studName=\"Sam\"              # Local Attribute\n",
        "        studID=987654\n",
        "        var= \"student report\"\n",
        "        print(\"Name-get:\",studName)\n",
        "        print(\"ID-get:\",studID)\n",
        "        print(\"Var-global-get\",var)           #student report\n",
        "\n",
        "    def put(self):\n",
        "        print(\"Var-global-put\",var)          #stud Info\n",
        "\n",
        "Stud1=Student()\n",
        "Stud1.get()\n",
        "Stud1.put()\n",
        "\n",
        "print(\"Var-global\",var)                      #stud Info"
      ],
      "metadata": {
        "colab": {
          "base_uri": "https://localhost:8080/"
        },
        "id": "ukkoDZ3CdbU0",
        "outputId": "459a7910-7684-42c5-b88f-50b290af92fa"
      },
      "execution_count": null,
      "outputs": [
        {
          "output_type": "stream",
          "name": "stdout",
          "text": [
            "Name-get: Sam\n",
            "ID-get: 987654\n",
            "Var-global-get student report\n",
            "Var-global-put Student Information\n",
            "Var-global Student Information\n"
          ]
        }
      ]
    },
    {
      "cell_type": "code",
      "source": [
        "class-classname.attribute\n",
        "Instance-self.attribute\n",
        "Local-attribute"
      ],
      "metadata": {
        "id": "EYODK8Dqdbaz"
      },
      "execution_count": null,
      "outputs": []
    },
    {
      "cell_type": "code",
      "source": [
        "var=\"Student Information\"    #global\n",
        "class Student:\n",
        "\n",
        "    def get(self):                           #self--->instance\n",
        "        studName=\"Sam\"              # Local Attribute\n",
        "        studID=987654\n",
        "        global var\n",
        "        var= \"student report\"       #\n",
        "        print(\"Name-get:\",studName)\n",
        "        print(\"ID-get:\",studID)\n",
        "        print(\"Var-global-get\",var)           #student report\n",
        "\n",
        "    def put(self):\n",
        "        print(\"Var-global-put\",var)          #stud Info\n",
        "\n",
        "Stud1=Student()\n",
        "Stud1.get()\n",
        "Stud1.put()\n",
        "\n",
        "print(\"Var-global\",var)                      #stud Info"
      ],
      "metadata": {
        "colab": {
          "base_uri": "https://localhost:8080/"
        },
        "id": "PxIH68rOdbdW",
        "outputId": "eb4a61f5-562b-4f98-e98d-e4a1ad27a1a5"
      },
      "execution_count": null,
      "outputs": [
        {
          "output_type": "stream",
          "name": "stdout",
          "text": [
            "Name-get: Sam\n",
            "ID-get: 987654\n",
            "Var-global-get student report\n",
            "Var-global-put student report\n",
            "Var-global student report\n"
          ]
        }
      ]
    },
    {
      "cell_type": "code",
      "source": [
        "#Magic method /Dunder method\n",
        "#Constructor:\n",
        "        #it is a special method\n",
        "        #invoked automatically once object is created\n",
        "        # __init__()\n",
        "        #why?:\n",
        "                    #set the initial state of the object by assigning values to the attributes\n",
        "        #Overloading:no\n"
      ],
      "metadata": {
        "id": "AOfxp4hudbgN"
      },
      "execution_count": null,
      "outputs": []
    },
    {
      "cell_type": "code",
      "source": [
        "class Sample:\n",
        "    def __init__(self):\n",
        "        print(\"I'm Init of Sample......!\")\n",
        "\n",
        "    def display(self):\n",
        "        print(\"Happy Learning.....!\")\n",
        "\n",
        "obj=Sample()\n",
        "obj.display()"
      ],
      "metadata": {
        "colab": {
          "base_uri": "https://localhost:8080/"
        },
        "id": "DawFb99LdbjK",
        "outputId": "f2e001c5-698a-4bd9-d372-cb22a8170e0b"
      },
      "execution_count": null,
      "outputs": [
        {
          "output_type": "stream",
          "name": "stdout",
          "text": [
            "I'm Init of Sample......!\n",
            "Happy Learning.....!\n"
          ]
        }
      ]
    },
    {
      "cell_type": "code",
      "source": [
        "class Sample:\n",
        "    def __init__(self):\n",
        "        print(\"I'm Init of Sample......!\")\n",
        "\n",
        "    def __init__(self,var):\n",
        "        print(\"I'm Init of Sample......!\")\n",
        "        print(var)\n",
        "\n",
        "    def display(self):\n",
        "        print(\"Happy Learning.....!\")\n",
        "\n",
        "obj=Sample(\"C the change\")\n",
        "obj.display()"
      ],
      "metadata": {
        "colab": {
          "base_uri": "https://localhost:8080/"
        },
        "id": "wx0pYr5NhipF",
        "outputId": "e9cf82a3-c177-4457-e7bb-cf1f73470fec"
      },
      "execution_count": null,
      "outputs": [
        {
          "output_type": "stream",
          "name": "stdout",
          "text": [
            "I'm Init of Sample......!\n",
            "C the change\n",
            "Happy Learning.....!\n"
          ]
        }
      ]
    },
    {
      "cell_type": "code",
      "source": [
        "class Student:\n",
        "    def __init__(self,name,age,grade):\n",
        "    #def get(self,name,age,grade):  #name,age,grade=Local\n",
        "        self.name=name                      #self.name= Instance\n",
        "        self.age=age\n",
        "        self.grade=grade\n",
        "\n",
        "    def put(self):\n",
        "        print(f\"Student Name:{self.name}\")\n",
        "        print(f\"Age:{self.age}\")\n",
        "        print(f\"Grade:{self.grade}\")\n",
        "\n",
        "\n",
        "s1=Student(\"Robin sharma\",16,\"10th Grade\")\n",
        "#s1.get(\"Robin sharma\",16,\"10th Grade\")\n",
        "s1.put()\n",
        "\n"
      ],
      "metadata": {
        "colab": {
          "base_uri": "https://localhost:8080/"
        },
        "id": "f5mKyVlXiBus",
        "outputId": "ad4e76a4-93c2-4ba3-863d-24397db1343e"
      },
      "execution_count": null,
      "outputs": [
        {
          "output_type": "stream",
          "name": "stdout",
          "text": [
            "Student Name:Robin sharma\n",
            "Age:16\n",
            "Grade:10th Grade\n"
          ]
        }
      ]
    },
    {
      "cell_type": "code",
      "source": [
        "#deletion of object\n",
        "# __del__()"
      ],
      "metadata": {
        "id": "aYSXWDuJjAWt"
      },
      "execution_count": null,
      "outputs": []
    },
    {
      "cell_type": "code",
      "source": [
        "class Student:\n",
        "    def __init__(self,name,age,grade):\n",
        "    #def get(self,name,age,grade):  #name,age,grade=Local\n",
        "        self.name=name                      #self.name= Instance\n",
        "        self.age=age\n",
        "        self.grade=grade\n",
        "\n",
        "    def put(self):\n",
        "        print(f\"Student Name:{self.name}\")\n",
        "        print(f\"Age:{self.age}\")\n",
        "        print(f\"Grade:{self.grade}\")\n",
        "\n",
        "    def __del__(self):\n",
        "        print(f\"Deleted object of: {type(self)}\")\n",
        "\n",
        "\n",
        "s1=Student(\"Robin sharma\",16,\"10th Grade\")\n",
        "#s1.get(\"Robin sharma\",16,\"10th Grade\")\n",
        "s1.put()\n",
        "del s1\n"
      ],
      "metadata": {
        "colab": {
          "base_uri": "https://localhost:8080/"
        },
        "id": "Srr2pgpkkfZl",
        "outputId": "5dd8753b-6559-4da5-bf6c-3720f84d9817"
      },
      "execution_count": null,
      "outputs": [
        {
          "output_type": "stream",
          "name": "stdout",
          "text": [
            "Student Name:Robin sharma\n",
            "Age:16\n",
            "Grade:10th Grade\n",
            "Deleted object of: <class '__main__.Student'>\n",
            "Deleted object of: <class '__main__.Student'>\n"
          ]
        }
      ]
    },
    {
      "cell_type": "code",
      "source": [
        "lst=[1,2,3]\n",
        "del lst\n",
        "lst"
      ],
      "metadata": {
        "colab": {
          "base_uri": "https://localhost:8080/",
          "height": 176
        },
        "id": "AMFWl6HEkhRr",
        "outputId": "1feab970-c44f-4be9-ce22-f4dd6d923940"
      },
      "execution_count": null,
      "outputs": [
        {
          "output_type": "error",
          "ename": "NameError",
          "evalue": "name 'lst' is not defined",
          "traceback": [
            "\u001b[0;31m---------------------------------------------------------------------------\u001b[0m",
            "\u001b[0;31mNameError\u001b[0m                                 Traceback (most recent call last)",
            "\u001b[0;32m<ipython-input-19-d97a8056e083>\u001b[0m in \u001b[0;36m<cell line: 3>\u001b[0;34m()\u001b[0m\n\u001b[1;32m      1\u001b[0m \u001b[0mlst\u001b[0m\u001b[0;34m=\u001b[0m\u001b[0;34m[\u001b[0m\u001b[0;36m1\u001b[0m\u001b[0;34m,\u001b[0m\u001b[0;36m2\u001b[0m\u001b[0;34m,\u001b[0m\u001b[0;36m3\u001b[0m\u001b[0;34m]\u001b[0m\u001b[0;34m\u001b[0m\u001b[0;34m\u001b[0m\u001b[0m\n\u001b[1;32m      2\u001b[0m \u001b[0;32mdel\u001b[0m \u001b[0mlst\u001b[0m\u001b[0;34m\u001b[0m\u001b[0;34m\u001b[0m\u001b[0m\n\u001b[0;32m----> 3\u001b[0;31m \u001b[0mlst\u001b[0m\u001b[0;34m\u001b[0m\u001b[0;34m\u001b[0m\u001b[0m\n\u001b[0m",
            "\u001b[0;31mNameError\u001b[0m: name 'lst' is not defined"
          ]
        }
      ]
    },
    {
      "cell_type": "code",
      "source": [
        "# __str__()"
      ],
      "metadata": {
        "id": "wPuClLc0ksCN"
      },
      "execution_count": null,
      "outputs": []
    },
    {
      "cell_type": "code",
      "source": [
        "no=100\n",
        "print(type(no))\n",
        "\n",
        "no=str(100)\n",
        "print(type(no))\n",
        "\n",
        "\n",
        "no=100\n",
        "var=int.__str__(no)\n",
        "print(type(var))"
      ],
      "metadata": {
        "colab": {
          "base_uri": "https://localhost:8080/"
        },
        "id": "zdNSpth9lUxf",
        "outputId": "401c945a-0359-4053-870d-64d5c5b6de9a"
      },
      "execution_count": null,
      "outputs": [
        {
          "output_type": "stream",
          "name": "stdout",
          "text": [
            "<class 'int'>\n",
            "<class 'str'>\n",
            "<class 'str'>\n"
          ]
        }
      ]
    },
    {
      "cell_type": "code",
      "source": [
        "class Student:\n",
        "    def __init__(self,name,age,grade):\n",
        "    #def get(self,name,age,grade):  #name,age,grade=Local\n",
        "        self.name=name                      #self.name= Instance\n",
        "        self.age=age\n",
        "        self.grade=grade\n",
        "\n",
        "    def put(self):\n",
        "        print(f\"Student Name:{self.name}\")\n",
        "        print(f\"Age:{self.age}\")\n",
        "        print(f\"Grade:{self.grade}\")\n",
        "\n",
        "    def __str__(self):  #return type-string\n",
        "        return f\"STR-Display  information of {self.name} \"\n",
        "\n",
        "    def __repr__(self): #return type-string\n",
        "        return f\"REPR-Display  information of {self.name} \"\n",
        "\n",
        "    def __del__(self):\n",
        "        print(f\"Deleted object of: {type(self)}\")\n",
        "\n",
        "\n",
        "\n",
        "\n",
        "s1=Student(\"Robin sharma\",16,\"10th Grade\")\n",
        "#s1.get(\"Robin sharma\",16,\"10th Grade\")\n",
        "s1.put()\n",
        "print(s1)\n",
        "print(repr(s1))\n",
        "print(s1.__dict__)   #__dict__\n",
        "del s1"
      ],
      "metadata": {
        "colab": {
          "base_uri": "https://localhost:8080/"
        },
        "id": "RlgEjaJflard",
        "outputId": "a23a1fa9-79c6-499a-f0f1-13b8fef44969"
      },
      "execution_count": null,
      "outputs": [
        {
          "output_type": "stream",
          "name": "stdout",
          "text": [
            "Student Name:Robin sharma\n",
            "Age:16\n",
            "Grade:10th Grade\n",
            "STR-Display  information of Robin sharma \n",
            "REPR-Display  information of Robin sharma \n",
            "{'name': 'Robin sharma', 'age': 16, 'grade': '10th Grade'}\n",
            "Deleted object of: <class '__main__.Student'>\n"
          ]
        }
      ]
    },
    {
      "cell_type": "code",
      "source": [
        "#str=>return string (human -readable)\n",
        "        #=>used friendly\n",
        "#repr =>return string (umambiguous string)\n",
        "        #=>debugging & development\n",
        "         #   =>complete info of object"
      ],
      "metadata": {
        "colab": {
          "base_uri": "https://localhost:8080/"
        },
        "id": "C_iULO7AmFCR",
        "outputId": "30724259-ad1b-4c25-b837-136b6b07f964"
      },
      "execution_count": null,
      "outputs": [
        {
          "output_type": "execute_result",
          "data": {
            "text/plain": [
              "139806749608960"
            ]
          },
          "metadata": {},
          "execution_count": 26
        }
      ]
    },
    {
      "cell_type": "code",
      "source": [
        "import datetime\n",
        "tday=datetime.datetime.now()\n",
        "\n",
        "print(str(tday))\n",
        "\n",
        "print(repr(tday))"
      ],
      "metadata": {
        "colab": {
          "base_uri": "https://localhost:8080/"
        },
        "id": "l92A-7GomIEv",
        "outputId": "fe793386-6b8e-4b37-fe43-026eb29dcccb"
      },
      "execution_count": null,
      "outputs": [
        {
          "output_type": "stream",
          "name": "stdout",
          "text": [
            "2024-10-23 04:26:56.790069\n",
            "datetime.datetime(2024, 10, 23, 4, 26, 56, 790069)\n"
          ]
        }
      ]
    },
    {
      "cell_type": "code",
      "source": [
        "print(str(\"hello\"))\n",
        "print(repr(\"hello\"))"
      ],
      "metadata": {
        "colab": {
          "base_uri": "https://localhost:8080/"
        },
        "id": "wNntx1l0oLaT",
        "outputId": "8860e682-f5a0-470f-945d-30779df24e53"
      },
      "execution_count": null,
      "outputs": [
        {
          "output_type": "stream",
          "name": "stdout",
          "text": [
            "hello\n",
            "'hello'\n"
          ]
        }
      ]
    },
    {
      "cell_type": "code",
      "source": [
        "#Dunder attribute\n",
        "#__dict__     : Display object information\n",
        "#__name__  : return name of current executing module\n",
        "#__doc__      :Document our code\n",
        "                    #:Declare:  quotes: \"\"\"   \"\"\"\n",
        "                    #Access  :   classname.methodName.__doc__)\n",
        "                    #method: what method does ,what method returns"
      ],
      "metadata": {
        "id": "N7_lr0QFoX4c"
      },
      "execution_count": null,
      "outputs": []
    },
    {
      "cell_type": "code",
      "source": [
        "class Student:\n",
        "    \"\"\" This is in an Example of using docstring\"\"\"\n",
        "\n",
        "    def __init__(self,name,age,grade):\n",
        "        \"\"\"\n",
        "        Initalizes a new student instance\n",
        "        :para name: name  of student(str)\n",
        "        :para age   :age of student(int)\n",
        "        :para grade : Grade of student(str)\n",
        "        \"\"\"\n",
        "        self.name=name\n",
        "        self.age=age\n",
        "        self.grade=grade\n",
        "\n",
        "    def put(self):\n",
        "        \"\"\"\n",
        "        Print the student's infomation in formatted msg\"\n",
        "\n",
        "        :return :None\n",
        "        \"\"\"\n",
        "\n",
        "        print(f\"Student Name:{self.name}\")\n",
        "        print(f\"Age:{self.age}\")\n",
        "        print(f\"Grade:{self.grade}\")\n",
        "\n",
        "\n",
        "s1=Student(\"Robin sharma\",16,\"10th Grade\")\n",
        "s1.put()\n",
        "\n",
        "print(s1.__doc__)\n",
        "print(Student.__init__.__doc__)\n",
        "print(Student.put.__doc__)"
      ],
      "metadata": {
        "colab": {
          "base_uri": "https://localhost:8080/"
        },
        "id": "X1zlfFb-p2fB",
        "outputId": "c9b2b693-4b5a-4ebb-9e02-ac6425ceaea4"
      },
      "execution_count": null,
      "outputs": [
        {
          "output_type": "stream",
          "name": "stdout",
          "text": [
            "Student Name:Robin sharma\n",
            "Age:16\n",
            "Grade:10th Grade\n",
            " This is in an Example of using docstring\n",
            "\n",
            "        Initalizes a new student instance\n",
            "        :para name: name  of student(str)\n",
            "        :para age   :age of student(int)\n",
            "        :para grade : Grade of student(str)\n",
            "        \n",
            "\n",
            "        Print the student's infomation in formatted msg\"\n",
            "\n",
            "        :return :None\n",
            "        \n"
          ]
        }
      ]
    },
    {
      "cell_type": "code",
      "source": [
        "#First class Function:\n",
        "            #function(val,object,function)\n",
        "            #Passing functioni as parameter for another function\n",
        "            #pass a function/return function"
      ],
      "metadata": {
        "id": "OCZ1HxgWp4fF"
      },
      "execution_count": null,
      "outputs": []
    },
    {
      "cell_type": "code",
      "source": [
        "#Perform Add & prod of 2 no and perform exponent\n",
        "\n",
        "def expo(myfun):                           #2   myfun=add\n",
        "    return myfun(2,3)**2               #3     myfun--->add(2,3)           #6     5**2 =25\n",
        "\n",
        "def add(no1,no2):                         #4     add(2,3)\n",
        "    return no1+no2                         #5     return 5\n",
        "\n",
        "def prod(no1,no2):\n",
        "    return no1*no2\n",
        "\n",
        "\n",
        "print(\"Pow of Sum:\",expo(add))    #expo(add)  1                              #7=>25\n",
        "print(\"Pow of prod:\",expo(prod))"
      ],
      "metadata": {
        "colab": {
          "base_uri": "https://localhost:8080/"
        },
        "id": "B9xvN99DsksM",
        "outputId": "bd24d26f-5372-45f2-ad41-35eea853a26c"
      },
      "execution_count": null,
      "outputs": [
        {
          "output_type": "stream",
          "name": "stdout",
          "text": [
            "Pow of Sum: 25\n",
            "Pow of prod: 36\n"
          ]
        }
      ]
    },
    {
      "cell_type": "code",
      "source": [
        "def expo(myfun):                           #2   myfun=add\n",
        "    no1=int(input(\"Enter no1:\"))\n",
        "    no2=int(input(\"Enter no2:\"))\n",
        "    return myfun(no1,no2)**2               #3     myfun--->add(2,3)           #6     5**2 =25\n",
        "\n",
        "def add(no1,no2):                         #4     add(2,3)\n",
        "    return no1+no2                         #5     return 5\n",
        "\n",
        "def prod(no1,no2):\n",
        "    return no1*no2\n",
        "\n",
        "\n",
        "print(\"Pow of Sum:\",expo(add))    #expo(add)  1                              #7=>25\n",
        "print(\"Pow of prod:\",expo(prod))"
      ],
      "metadata": {
        "colab": {
          "base_uri": "https://localhost:8080/"
        },
        "id": "Irm1ZjG8tYxG",
        "outputId": "174628d5-5642-4dc4-8f2f-ab7473448a6d"
      },
      "execution_count": null,
      "outputs": [
        {
          "output_type": "stream",
          "name": "stdout",
          "text": [
            "Enter no1:2\n",
            "Enter no2:5\n",
            "Pow of Sum: 49\n",
            "Enter no1:2\n",
            "Enter no2:4\n",
            "Pow of prod: 64\n"
          ]
        }
      ]
    },
    {
      "cell_type": "code",
      "source": [
        "var=10\n",
        "var=\"Yasmin\"\n",
        "var=object\n",
        "\n",
        "#Single line function -lambda function\n",
        "#lambda argument:expression"
      ],
      "metadata": {
        "id": "R1ax-lo_uX77"
      },
      "execution_count": null,
      "outputs": []
    },
    {
      "cell_type": "code",
      "source": [
        "def expo(myfun):                           #2   myfun=add\n",
        "    return myfun(2,3)**2\n",
        "\n",
        "print(\"Pow of Sum:\",expo(lambda n1,n2: n1+n2))    #expo(add)  1                              #7=>25\n",
        "print(\"Pow of prod:\",expo(lambda n1,n2: n1*n2))"
      ],
      "metadata": {
        "colab": {
          "base_uri": "https://localhost:8080/"
        },
        "id": "VsQKMFhfurH3",
        "outputId": "d9226604-4b6f-47a5-ea1f-15f13d5855b7"
      },
      "execution_count": null,
      "outputs": [
        {
          "output_type": "stream",
          "name": "stdout",
          "text": [
            "Pow of Sum: 25\n",
            "Pow of prod: 36\n"
          ]
        }
      ]
    },
    {
      "cell_type": "code",
      "source": [
        "#Closure:\n",
        "        #How: Nested function\n",
        "        #Technique where  outer function holds the values even after going of scope"
      ],
      "metadata": {
        "id": "hWIidiQEvLGh"
      },
      "execution_count": null,
      "outputs": []
    },
    {
      "cell_type": "code",
      "source": [
        "#1.Declare an outer function\n",
        "#2.Outer function must take only one argument\n",
        "#3.Declare the inner function  (write logic)\n",
        "#4.Inner function should return value,manipulated result\n",
        "#5.Outer function must return inner function"
      ],
      "metadata": {
        "id": "_dbrtpGIwXNz"
      },
      "execution_count": null,
      "outputs": []
    },
    {
      "cell_type": "code",
      "source": [
        "def expo(myfun):                               #4 expo(myfun--->add)\n",
        "    def   innerfun(x,y):                          #8\n",
        "         return myfun(x,y)**2               #9          #12--->return value**2\n",
        "    return innerfun                              #5   out of scope\n",
        "\n",
        "def add(no1,no2):                              #10 add(no1,no2)\n",
        "    return no1+no2                                #11 return value\n",
        "\n",
        "def prod(no1,no2):\n",
        "    return no1*no2\n",
        "\n",
        "\n",
        "\n",
        "no1=int(input(\"Enter No1:\"))             #1   2\n",
        "no2=int(input(\"Enter No2:\"))             #2   3\n",
        "closFun1=expo(add)                               #3           #6   closFun1=innerFun\n",
        "print(\"Pow of Sum:\",closFun1(no1,no2))      #7  #13\n",
        "closFun2=expo(prod)\n",
        "print(\"Pow of prod:\",closFun2(no1,no2))"
      ],
      "metadata": {
        "colab": {
          "base_uri": "https://localhost:8080/"
        },
        "id": "na78nhdPwXtd",
        "outputId": "e4d42a58-f179-47fd-9f32-d27915429270"
      },
      "execution_count": null,
      "outputs": [
        {
          "output_type": "stream",
          "name": "stdout",
          "text": [
            "Enter No1:2\n",
            "Enter No2:3\n",
            "Pow of Sum: 25\n",
            "Pow of prod: 36\n"
          ]
        }
      ]
    },
    {
      "cell_type": "code",
      "source": [
        "def Greeting(name1,name2):\n",
        "    return f\"Heartly welcoming you ...! {name1} and {name2} \"\n",
        "\n",
        "Greeting(\"Rob\",\"Bob\")"
      ],
      "metadata": {
        "colab": {
          "base_uri": "https://localhost:8080/",
          "height": 35
        },
        "id": "BEjqjGx-zO56",
        "outputId": "1a6bf55a-c0cb-41e6-ff34-8f118c900656"
      },
      "execution_count": null,
      "outputs": [
        {
          "output_type": "execute_result",
          "data": {
            "text/plain": [
              "'Heartly welcoming you ...! Rob and Bob '"
            ],
            "application/vnd.google.colaboratory.intrinsic+json": {
              "type": "string"
            }
          },
          "metadata": {},
          "execution_count": 49
        }
      ]
    },
    {
      "cell_type": "code",
      "source": [
        "\"HEARTLY WELCOMING YOU  ...! ROB and BOB \"\n",
        "\n",
        "#first class function\n",
        "#closure"
      ],
      "metadata": {
        "id": "iI_Duikq1Nd9"
      },
      "execution_count": null,
      "outputs": []
    },
    {
      "cell_type": "code",
      "source": [
        "### Day-3"
      ],
      "metadata": {
        "id": "bXJpELq_nyA3"
      },
      "execution_count": null,
      "outputs": []
    },
    {
      "cell_type": "code",
      "source": [
        "#Recap:\n",
        "        #1.Attribute-Global\n",
        "        #2.dunder method (init,del,str,repr)\n",
        "        #3.dunder attribute(doc,dict,name)\n",
        "        #4.First class function\n",
        "        #5.Closure"
      ],
      "metadata": {
        "id": "3vMVE-psnyDT"
      },
      "execution_count": null,
      "outputs": []
    },
    {
      "cell_type": "code",
      "source": [
        "#Task:\n",
        "def Greeting(name1,name2):\n",
        "    return (\"Heartly welcoming you ...!\", name1, \"and\", name2)\n",
        "\n",
        "a = Greeting(\"Rob\",\"Bob\")\n",
        "print(str(a).upper())\n",
        "\n"
      ],
      "metadata": {
        "id": "Ymv-a5xFnyGK"
      },
      "execution_count": null,
      "outputs": []
    },
    {
      "cell_type": "code",
      "source": [
        "def Greeting(name1,name2):\n",
        "    return f\"Heartly welcoming you ...! {name1} and {name2} \"\n",
        "\n",
        "def myfun(fun):   #fun=>Greeting\n",
        "    def innerfun(name1,name2):\n",
        "        return fun(name1,name2).upper()    #\"Heartly welcoming you ...! Rob and Bob\".upper()\n",
        "    return innerfun\n",
        "\n",
        "uppr=myfun(Greeting)    #uppr=>innerfun\n",
        "print(uppr(\"rob\",\"bob\"))\n"
      ],
      "metadata": {
        "colab": {
          "base_uri": "https://localhost:8080/"
        },
        "id": "gO3yzXXFnyJu",
        "outputId": "89d9c7a4-5fa5-4cf3-9ac9-28ac6ee12d3a"
      },
      "execution_count": null,
      "outputs": [
        {
          "output_type": "stream",
          "name": "stdout",
          "text": [
            "HEARTLY WELCOMING YOU ...! ROB AND BOB \n"
          ]
        }
      ]
    },
    {
      "cell_type": "code",
      "source": [
        "#Decorator:\n",
        "            #Modify the behaviour of a function or method with changing the actual code\n",
        "            #additional /Modify functionality"
      ],
      "metadata": {
        "id": "Ymg5T7lopdo2"
      },
      "execution_count": null,
      "outputs": []
    },
    {
      "cell_type": "code",
      "source": [
        "#1.Declare an outer function that is called decorator\n",
        "#2.Outer function must take only one argument\n",
        "#3.Declare the inner function  (write logic)\n",
        "#4.Inner function should return value,manipulated result\n",
        "#5.Outer function must return inner function"
      ],
      "metadata": {
        "id": "hnQqE-TQnyL4"
      },
      "execution_count": null,
      "outputs": []
    },
    {
      "cell_type": "code",
      "source": [
        "def expo(myfun):                               #4 expo(myfun--->add)\n",
        "    def   innerfun(x,y):                          #8\n",
        "         return myfun(x,y)**2               #9          #12--->return value**2\n",
        "    return innerfun                              #5   out of scope\n",
        "\n",
        "def add(no1,no2):                              #10 add(no1,no2)\n",
        "    return no1+no2                                #11 return value\n",
        "\n",
        "def prod(no1,no2):\n",
        "    return no1*no2\n",
        "\n",
        "\n",
        "\n",
        "no1=int(input(\"Enter No1:\"))             #1   2\n",
        "no2=int(input(\"Enter No2:\"))             #2   3\n",
        "closFun1=expo(add)                               #3           #6   closFun1=innerFun\n",
        "print(\"Pow of Sum:\",closFun1(no1,no2))      #7  #13\n",
        "closFun2=expo(prod)\n",
        "print(\"Pow of prod:\",closFun2(no1,no2))"
      ],
      "metadata": {
        "id": "6cIkIavjnyOr"
      },
      "execution_count": null,
      "outputs": []
    },
    {
      "cell_type": "code",
      "source": [
        "#Static  Decorator:\n",
        "        #modify functions  without changing source code"
      ],
      "metadata": {
        "id": "hDHvMSMJsMve"
      },
      "execution_count": null,
      "outputs": []
    },
    {
      "cell_type": "code",
      "source": [
        "def expo(myfun):\n",
        "    def   innerfun(x,y):\n",
        "         return myfun(x,y)**2\n",
        "    return innerfun\n",
        "\n",
        "@expo\n",
        "def add(no1,no2):\n",
        "    return no1+no2\n",
        "\n",
        "@expo\n",
        "def prod(no1,no2):\n",
        "    return no1*no2\n",
        "\n",
        "no1=int(input(\"Enter No1:\"))\n",
        "no2=int(input(\"Enter No2:\"))\n",
        "print(\"Sum:\",add(no1,no2))\n",
        "print(\"Prod:\",prod(no1,no2))"
      ],
      "metadata": {
        "colab": {
          "base_uri": "https://localhost:8080/"
        },
        "id": "r0t_ZD_pnyRp",
        "outputId": "2bf19183-5a20-4c86-a6af-3a49988d583e"
      },
      "execution_count": null,
      "outputs": [
        {
          "output_type": "stream",
          "name": "stdout",
          "text": [
            "Enter No1:2\n",
            "Enter No2:3\n",
            "Sum: 25\n",
            "Prod: 36\n"
          ]
        }
      ]
    },
    {
      "cell_type": "code",
      "source": [
        "#Static method(@static method)\n",
        "            #They can access only class attribute\n",
        "            #similar to normal method-call explict\n",
        "            #not bounded to object"
      ],
      "metadata": {
        "id": "qqQA8iv8nyVM"
      },
      "execution_count": null,
      "outputs": []
    },
    {
      "cell_type": "code",
      "source": [
        "class  Employee:\n",
        "    empid=100      #class Attribute\n",
        "\n",
        "    def get(self):\n",
        "        self.empname=\"Ram\"   #Instance Attribute\n",
        "        print(\"EmpId :\",Employee.empid)\n",
        "        print(\"EmpName:\",self.empname)\n",
        "\n",
        "    @staticmethod\n",
        "    def mystatic():\n",
        "        print(\"EmpId :\",Employee.empid)\n",
        "        #print(\"EmpName:\",self.empname)\n",
        "\n",
        "emp=Employee()\n",
        "emp.get()\n",
        "Employee.mystatic()\n",
        "emp.mystatic()    #static methods called with object\n"
      ],
      "metadata": {
        "colab": {
          "base_uri": "https://localhost:8080/"
        },
        "id": "3bSrL4G2tFcO",
        "outputId": "154ee619-c821-4559-c0c0-2d1458fe0c9f"
      },
      "execution_count": null,
      "outputs": [
        {
          "output_type": "stream",
          "name": "stdout",
          "text": [
            "EmpId : 100\n",
            "EmpName: Ram\n",
            "EmpId : 100\n",
            "EmpId : 100\n"
          ]
        }
      ]
    },
    {
      "cell_type": "code",
      "source": [
        "#class decorator:\n",
        "       # modify class   without changing source code\n",
        "       #can alter class structure / behaviour\n"
      ],
      "metadata": {
        "id": "rosvUuo_t11K"
      },
      "execution_count": null,
      "outputs": []
    },
    {
      "cell_type": "code",
      "source": [
        "def add_method(cls):\n",
        "    def new_method(self):\n",
        "        return  f\"{self.name} say hello..!\"\n",
        "    cls.new_method=new_method\n",
        "    return cls\n",
        "\n",
        "@add_method\n",
        "class Employee:\n",
        "    def __init__(self,name):\n",
        "        self.name=name\n",
        "\n",
        "emp=Employee(\"Alice\")\n",
        "print(emp.new_method())"
      ],
      "metadata": {
        "colab": {
          "base_uri": "https://localhost:8080/"
        },
        "id": "zPn2TAF-vsKi",
        "outputId": "5d38c6aa-922f-4e86-fc58-467e5532f0f2"
      },
      "execution_count": null,
      "outputs": [
        {
          "output_type": "stream",
          "name": "stdout",
          "text": [
            "Alice say hello..!\n"
          ]
        }
      ]
    },
    {
      "cell_type": "code",
      "source": [
        "#classmethod\n",
        "            #They can access only class attribute\n",
        "            #similar to normal method-call explict\n",
        "            #bounded to object"
      ],
      "metadata": {
        "id": "auiTupuNxk8r"
      },
      "execution_count": null,
      "outputs": []
    },
    {
      "cell_type": "code",
      "source": [
        "class  Employee:\n",
        "    empid=100      #class Attribute\n",
        "\n",
        "    def get(self):\n",
        "        self.empname=\"Ram\"   #Instance Attribute\n",
        "        print(\"EmpId :\",Employee.empid)\n",
        "        print(\"EmpName:\",self.empname)\n",
        "\n",
        "    @classmethod\n",
        "    def myclassmethod(self):\n",
        "        print(\"EmpId :\",Employee.empid)\n",
        "       # print(\"EmpName:\",self.empname)\n",
        "\n",
        "\n",
        "    @staticmethod\n",
        "    def mystatic():\n",
        "        print(\"EmpId :\",Employee.empid)\n",
        "        #print(\"EmpName:\",self.empname)\n",
        "\n",
        "emp=Employee()\n",
        "emp.get()\n",
        "emp.myclassmethod()\n",
        "Employee.mystatic()\n",
        "emp.mystatic()    #static methods called with object"
      ],
      "metadata": {
        "colab": {
          "base_uri": "https://localhost:8080/",
          "height": 384
        },
        "id": "eI5HcNSRv4ZQ",
        "outputId": "ea830cc0-9d75-4cb3-e27e-ee03fcd1b240"
      },
      "execution_count": null,
      "outputs": [
        {
          "output_type": "stream",
          "name": "stdout",
          "text": [
            "EmpId : 100\n",
            "EmpName: Ram\n",
            "EmpId : 100\n"
          ]
        },
        {
          "output_type": "error",
          "ename": "AttributeError",
          "evalue": "type object 'Employee' has no attribute 'empname'",
          "traceback": [
            "\u001b[0;31m---------------------------------------------------------------------------\u001b[0m",
            "\u001b[0;31mAttributeError\u001b[0m                            Traceback (most recent call last)",
            "\u001b[0;32m<ipython-input-10-973e01e6c5b3>\u001b[0m in \u001b[0;36m<cell line: 22>\u001b[0;34m()\u001b[0m\n\u001b[1;32m     20\u001b[0m \u001b[0memp\u001b[0m\u001b[0;34m=\u001b[0m\u001b[0mEmployee\u001b[0m\u001b[0;34m(\u001b[0m\u001b[0;34m)\u001b[0m\u001b[0;34m\u001b[0m\u001b[0;34m\u001b[0m\u001b[0m\n\u001b[1;32m     21\u001b[0m \u001b[0memp\u001b[0m\u001b[0;34m.\u001b[0m\u001b[0mget\u001b[0m\u001b[0;34m(\u001b[0m\u001b[0;34m)\u001b[0m\u001b[0;34m\u001b[0m\u001b[0;34m\u001b[0m\u001b[0m\n\u001b[0;32m---> 22\u001b[0;31m \u001b[0memp\u001b[0m\u001b[0;34m.\u001b[0m\u001b[0mmyclassmethod\u001b[0m\u001b[0;34m(\u001b[0m\u001b[0;34m)\u001b[0m\u001b[0;34m\u001b[0m\u001b[0;34m\u001b[0m\u001b[0m\n\u001b[0m\u001b[1;32m     23\u001b[0m \u001b[0mEmployee\u001b[0m\u001b[0;34m.\u001b[0m\u001b[0mmystatic\u001b[0m\u001b[0;34m(\u001b[0m\u001b[0;34m)\u001b[0m\u001b[0;34m\u001b[0m\u001b[0;34m\u001b[0m\u001b[0m\n\u001b[1;32m     24\u001b[0m \u001b[0memp\u001b[0m\u001b[0;34m.\u001b[0m\u001b[0mmystatic\u001b[0m\u001b[0;34m(\u001b[0m\u001b[0;34m)\u001b[0m    \u001b[0;31m#static methods called with object\u001b[0m\u001b[0;34m\u001b[0m\u001b[0;34m\u001b[0m\u001b[0m\n",
            "\u001b[0;32m<ipython-input-10-973e01e6c5b3>\u001b[0m in \u001b[0;36mmyclassmethod\u001b[0;34m(self)\u001b[0m\n\u001b[1;32m     10\u001b[0m     \u001b[0;32mdef\u001b[0m \u001b[0mmyclassmethod\u001b[0m\u001b[0;34m(\u001b[0m\u001b[0mself\u001b[0m\u001b[0;34m)\u001b[0m\u001b[0;34m:\u001b[0m\u001b[0;34m\u001b[0m\u001b[0;34m\u001b[0m\u001b[0m\n\u001b[1;32m     11\u001b[0m         \u001b[0mprint\u001b[0m\u001b[0;34m(\u001b[0m\u001b[0;34m\"EmpId :\"\u001b[0m\u001b[0;34m,\u001b[0m\u001b[0mEmployee\u001b[0m\u001b[0;34m.\u001b[0m\u001b[0mempid\u001b[0m\u001b[0;34m)\u001b[0m\u001b[0;34m\u001b[0m\u001b[0;34m\u001b[0m\u001b[0m\n\u001b[0;32m---> 12\u001b[0;31m         \u001b[0mprint\u001b[0m\u001b[0;34m(\u001b[0m\u001b[0;34m\"EmpName:\"\u001b[0m\u001b[0;34m,\u001b[0m\u001b[0mself\u001b[0m\u001b[0;34m.\u001b[0m\u001b[0mempname\u001b[0m\u001b[0;34m)\u001b[0m\u001b[0;34m\u001b[0m\u001b[0;34m\u001b[0m\u001b[0m\n\u001b[0m\u001b[1;32m     13\u001b[0m \u001b[0;34m\u001b[0m\u001b[0m\n\u001b[1;32m     14\u001b[0m \u001b[0;34m\u001b[0m\u001b[0m\n",
            "\u001b[0;31mAttributeError\u001b[0m: type object 'Employee' has no attribute 'empname'"
          ]
        }
      ]
    },
    {
      "cell_type": "code",
      "source": [
        "#Use Cases\n",
        "#static Decorator: (add function)\n",
        "        #1.Logging Function call\n",
        "        #2.Input validation\n",
        "        #3.caching result\n",
        "#Class Decorator (add method)\n",
        "        #1.add method\n",
        "        #2.Singleton Pattern\n",
        "        #3.class-level validation"
      ],
      "metadata": {
        "id": "NiAEj2uFxyBD"
      },
      "execution_count": null,
      "outputs": []
    },
    {
      "cell_type": "code",
      "source": [
        "#static Decorator:\n",
        "#Logging: You can create a static decorator to log function calls, arguments, and return values.\n",
        "def log_decorator(func):\n",
        "    def wrapper(*args, **kwargs):\n",
        "        print(f\"Calling {func.__name__} with {args} and {kwargs}\")\n",
        "        result = func(*args, **kwargs)\n",
        "        print(f\"{func.__name__} returned {result}\")\n",
        "        return result\n",
        "    return wrapper\n",
        "\n",
        "@log_decorator\n",
        "def add(x, y):\n",
        "    return x + y\n",
        "\n",
        "#Memoization: A decorator can cache results of expensive function calls to improve performance\n",
        "def memoize(func):\n",
        "    cache = {}\n",
        "    def wrapper(*args):\n",
        "        if args in cache:\n",
        "            return cache[args]\n",
        "        result = func(*args)\n",
        "        cache[args] = result\n",
        "        return result\n",
        "    return wrapper\n",
        "\n",
        "@memoize\n",
        "def fibonacci(n):\n",
        "    if n < 2:\n",
        "        return n\n",
        "    return fibonacci(n-1) + fibonacci(n-2)\n",
        "\n"
      ],
      "metadata": {
        "id": "2DMxVy0VvIPf"
      },
      "execution_count": null,
      "outputs": []
    },
    {
      "cell_type": "code",
      "source": [
        "#Class Decorator (add method)"
      ],
      "metadata": {
        "id": "2gM_YvAqvIaM"
      },
      "execution_count": null,
      "outputs": []
    },
    {
      "cell_type": "code",
      "source": [
        "#Singleton Pattern: A class decorator can ensure that a class has only one instance.\n",
        "def singleton(cls):\n",
        "    instances = {}\n",
        "    def get_instance(*args, **kwargs):\n",
        "        if cls not in instances:\n",
        "            instances[cls] = cls(*args, **kwargs)\n",
        "        return instances[cls]\n",
        "    return get_instance\n",
        "\n",
        "@singleton\n",
        "class Database:\n",
        "    def __init__(self):\n",
        "        self.connection = \"Database Connection\"\n",
        "\n",
        "#Validation: You can create a class decorator to enforce certain conditions on class attributes.\n",
        "def validate_fields(cls):\n",
        "    original_init = cls.__init__\n",
        "    def new_init(self, *args, **kwargs):\n",
        "        for key, value in kwargs.items():\n",
        "            if not isinstance(value, str):  # Example validation\n",
        "                raise ValueError(f\"{key} must be a string\")\n",
        "        original_init(self, *args, **kwargs)\n",
        "    cls.__init__ = new_init\n",
        "    return cls\n",
        "\n",
        "@validate_fields\n",
        "class Person:\n",
        "    def __init__(self, name, age):\n",
        "        self.name = name\n",
        "        self.age = age\n"
      ],
      "metadata": {
        "id": "88vOzuA8v78P"
      },
      "execution_count": null,
      "outputs": []
    },
    {
      "cell_type": "code",
      "source": [
        "#Property decorator:\n",
        "        #1.getter\n",
        "        #2.setter\n",
        "        #3.deleter"
      ],
      "metadata": {
        "id": "JsUpGTg1z_8X"
      },
      "execution_count": null,
      "outputs": []
    },
    {
      "cell_type": "code",
      "source": [
        "#Access Specifier:\n",
        "            #Defines the scope & visiblity of class member(attribute & method)\n",
        "            #Types:\n",
        "                            #Public           :global scope\n",
        "                            #Protected     : No\n",
        "                            #Private          : within class\n",
        "            #Default :Public"
      ],
      "metadata": {
        "id": "E6SBt-3H0GmI"
      },
      "execution_count": null,
      "outputs": []
    },
    {
      "cell_type": "code",
      "source": [
        "#Public: Global Scope\n",
        "class Student:\n",
        "    var=\"Student Infomatiom\"                   #class Attribute(public)\n",
        "    def __init__(self,name,age,grade):\n",
        "        self.name=name                                   #Instance (public)\n",
        "        self.age=age\n",
        "        self.grade=grade\n",
        "\n",
        "    def put(self):                                           #method(public)\n",
        "        print(f\"{Student.var}\")\n",
        "        print(f\"Student Name:{self.name}\")\n",
        "        print(f\"Age:{self.age}\")\n",
        "        print(f\"Grade:{self.grade}\")\n",
        "\n",
        "\n",
        "\n",
        "s1=Student(\"Robin sharma\",16,\"10th Grade\")\n",
        "s1.put()\n",
        "print(\"Class Attribute:\",Student.var)"
      ],
      "metadata": {
        "colab": {
          "base_uri": "https://localhost:8080/"
        },
        "id": "akhzj8DR0ft8",
        "outputId": "543fb796-4e96-4fa0-c1ef-2a0e74a4998b"
      },
      "execution_count": null,
      "outputs": [
        {
          "output_type": "stream",
          "name": "stdout",
          "text": [
            "Student Infomatiom\n",
            "Student Name:Robin sharma\n",
            "Age:16\n",
            "Grade:10th Grade\n",
            "Class Attribute: Student Infomatiom\n"
          ]
        }
      ]
    },
    {
      "cell_type": "code",
      "source": [
        " #Private   : within class\n",
        " #___\n",
        "class Student:\n",
        "    __var=\"Student Infomatiom\"                   #class Attribute (Private)\n",
        "    def __init__(self,name,age,grade):\n",
        "        self.__name=name                                      #Instance Attribute (private)\n",
        "        self.__age=age\n",
        "        self.__grade=grade\n",
        "\n",
        "    def put(self):\n",
        "        print(f\"{Student.__var}\")\n",
        "        print(f\"Student Name:{self.__name}\")\n",
        "        print(f\"Age:{self.__age}\")\n",
        "        print(f\"Grade:{self.__grade}\")\n",
        "\n",
        "\n",
        "\n",
        "s1=Student(\"Robin sharma\",16,\"10th Grade\")\n",
        "s1.put()\n",
        "#print(\"Class Attribute:\",Student.__var)\n",
        "#print(\"Name:\",s1.__name)"
      ],
      "metadata": {
        "colab": {
          "base_uri": "https://localhost:8080/"
        },
        "id": "J0jhjfJ-1R1j",
        "outputId": "b51515df-e2b9-4f20-ffe0-cec21c0aa27b"
      },
      "execution_count": null,
      "outputs": [
        {
          "output_type": "stream",
          "name": "stdout",
          "text": [
            "Student Infomatiom\n",
            "Student Name:Robin sharma\n",
            "Age:16\n",
            "Grade:10th Grade\n"
          ]
        }
      ]
    },
    {
      "cell_type": "code",
      "source": [
        "class Student:\n",
        "    _var=\"Student Infomatiom\"                   #class Attribute (Private)\n",
        "    def __init__(self,name,age,grade):\n",
        "        self.__name=name                                      #Instance Attribute (private)\n",
        "        self.__age=age\n",
        "        self.__grade=grade\n",
        "\n",
        "    def put(self):\n",
        "        print(f\"{Student._var}\")\n",
        "        print(f\"Student Name:{self.__name}\")\n",
        "        print(f\"Age:{self.__age}\")\n",
        "        print(f\"Grade:{self.__grade}\")\n",
        "\n",
        "\n",
        "\n",
        "s1=Student(\"Robin sharma\",16,\"10th Grade\")\n",
        "s1.put()\n",
        "print(\"Class Attribute:\",Student._var)\n",
        "#print(\"Name:\",s1.__name)"
      ],
      "metadata": {
        "colab": {
          "base_uri": "https://localhost:8080/"
        },
        "id": "_rE35kpq1p6c",
        "outputId": "59405868-8f7e-48a6-e1e2-1eb6d9eddc5d"
      },
      "execution_count": null,
      "outputs": [
        {
          "output_type": "stream",
          "name": "stdout",
          "text": [
            "Student Infomatiom\n",
            "Student Name:Robin sharma\n",
            "Age:16\n",
            "Grade:10th Grade\n",
            "Class Attribute: Student Infomatiom\n"
          ]
        }
      ]
    },
    {
      "cell_type": "code",
      "source": [
        "#Property decorator:\n",
        "        #1.getter       => we can access the private element beyond the class boundary\n",
        "        #2.setter       =>set or update values for private element\n"
      ],
      "metadata": {
        "id": "veEDur5c3XWi"
      },
      "execution_count": null,
      "outputs": []
    },
    {
      "cell_type": "code",
      "source": [
        "class Student:\n",
        "    _var=\"Student Infomatiom\"                   #class Attribute (Private)\n",
        "    def __init__(self,fname,lname,age,grade):\n",
        "        self.fname=fname                                      #Instance Attribute (private)\n",
        "        self.lname=lname\n",
        "        self.__age=age\n",
        "        self.__grade=grade\n",
        "\n",
        "    def put(self):\n",
        "        print(f\"{Student._var}\")\n",
        "        print(f\"Student Name:{self.__name}\")\n",
        "        print(f\"Age:{self.__age}\")\n",
        "        print(f\"Grade:{self.__grade}\")\n",
        "\n",
        "\n",
        "\n",
        "\n",
        "\n",
        "s1=Student(\"Robin\",\"sharma\",16,\"10th Grade\")\n",
        "#s1.put()\n",
        "print(s1.fname+\" \"+s1.lname)\n",
        "#s.fullname()"
      ],
      "metadata": {
        "colab": {
          "base_uri": "https://localhost:8080/"
        },
        "id": "Rg-CgNIO47xu",
        "outputId": "afa48c0c-09a5-4c03-80e3-c058a23a0ffa"
      },
      "execution_count": null,
      "outputs": [
        {
          "output_type": "stream",
          "name": "stdout",
          "text": [
            "Robin sharma\n"
          ]
        }
      ]
    },
    {
      "cell_type": "code",
      "source": [
        "class Student:\n",
        "    _var=\"Student Infomatiom\"                   #class Attribute (Private)\n",
        "    def __init__(self,fname,lname,age,grade):\n",
        "        self.__fname=fname                                      #Instance Attribute (private)\n",
        "        self.__lname=lname\n",
        "        self.__age=age\n",
        "        self.__grade=grade\n",
        "\n",
        "    def  __put(self):\n",
        "        print(f\"{Student._var}\")\n",
        "        print(f\"Student Name:{self.__fname}\")\n",
        "        print(f\"Age:{self.__age}\")\n",
        "        print(f\"Grade:{self.__grade}\")\n",
        "\n",
        "    def display(self):\n",
        "        self.__put()\n",
        "\n",
        "    def fullname(self):                                                     #getter  (return value)\n",
        "        return self.__fname+\" \"+self.__lname\n",
        "\n",
        "    def changeName(self,name):                                 #setter  (must parameter)\n",
        "        self.__fname=name\n",
        "\n",
        "\n",
        "s1=Student(\"Robin\",\"sharma\",16,\"10th Grade\")\n",
        "#s1.put()\n",
        "#print(s1.fname+\" \"+s1.lname)\n",
        "s1.changeName(\"Ravi\")\n",
        "print(\"FullName :\" , s1.fullname())\n",
        "s1.display()"
      ],
      "metadata": {
        "colab": {
          "base_uri": "https://localhost:8080/"
        },
        "id": "m90q8bbF5ZVg",
        "outputId": "1c959df3-80c6-434b-a681-79cec468025a"
      },
      "execution_count": null,
      "outputs": [
        {
          "output_type": "stream",
          "name": "stdout",
          "text": [
            "FullName : Ravi sharma\n",
            "Student Infomatiom\n",
            "Student Name:Ravi\n",
            "Age:16\n",
            "Grade:10th Grade\n"
          ]
        }
      ]
    },
    {
      "cell_type": "code",
      "source": [
        "class Student:\n",
        "    def __init__(self,fname,lname,age):\n",
        "        self.__fname=fname\n",
        "        self.__lname=lname\n",
        "        self.__age=age\n",
        "\n",
        "    def fullname(self):\n",
        "        return self.__fname+\" \"+self.__lname\n",
        "\n",
        "    def email(self):\n",
        "        return self.__fname+\".\"+self.__lname+\"@mail.com\"\n",
        "\n",
        "fname=\"Robin\"\n",
        "lname=\"Sharma\"\n",
        "age=25\n",
        "s=Student(fname,lname,age)\n",
        "print(s.fullname())\n",
        "print(s.email())\n",
        "\n"
      ],
      "metadata": {
        "colab": {
          "base_uri": "https://localhost:8080/"
        },
        "id": "3I5fSM3A5fu5",
        "outputId": "4a7d3caa-6b2d-4e57-cc69-45f0620b3c7c"
      },
      "execution_count": null,
      "outputs": [
        {
          "output_type": "stream",
          "name": "stdout",
          "text": [
            "Robin Sharma\n",
            "Robin.Sharma@mail.com\n"
          ]
        }
      ]
    },
    {
      "cell_type": "code",
      "source": [
        "class Student:\n",
        "    def __init__(self,fname,lname,age):\n",
        "        self.fname=fname\n",
        "        self.lname=lname\n",
        "        self.age=age\n",
        "\n",
        "    @property\n",
        "    def fullname(self):\n",
        "        return self.fname+\" \"+self.lname\n",
        "\n",
        "    @fullname.setter\n",
        "    def fullname(self,name):\n",
        "        self.fname,self.lname=name.split()\n",
        "\n",
        "    @property\n",
        "    def email(self):\n",
        "        return self.fname+\".\"+self.lname+\"@mail.com\"\n",
        "\n",
        "fname=\"Robin\"\n",
        "lname=\"Sharma\"\n",
        "age=25\n",
        "s=Student(fname,lname,age)\n",
        "print(s.fullname)\n",
        "print(s.email)\n",
        "\n",
        "#Ravi Sharma\n",
        "#s.fname=\"Ravi\"\n",
        "s.fullname=\"Ravi kumar\"    #method is treated like a attribute\n",
        "print(s.fullname)                   #\n",
        "print(s.email)\n"
      ],
      "metadata": {
        "colab": {
          "base_uri": "https://localhost:8080/"
        },
        "id": "7sN06LZi8Cl6",
        "outputId": "9d92b858-a04b-4d62-f161-b9dd9a32be1e"
      },
      "execution_count": null,
      "outputs": [
        {
          "output_type": "stream",
          "name": "stdout",
          "text": [
            "Robin Sharma\n",
            "Robin.Sharma@mail.com\n",
            "Ravi kumar\n",
            "Ravi.kumar@mail.com\n"
          ]
        }
      ]
    },
    {
      "cell_type": "code",
      "source": [
        "#Ravi Sharma\n",
        "s1=Student(\"Ravi\",lname,age)\n",
        "print(s1.fullname())\n",
        "print(s1.email())\n"
      ],
      "metadata": {
        "id": "UXsKUzRb8rHM"
      },
      "execution_count": null,
      "outputs": []
    },
    {
      "cell_type": "code",
      "source": [
        "fname,lname=\"Ravi kumar\".split()\n",
        "print(fname,lname)"
      ],
      "metadata": {
        "colab": {
          "base_uri": "https://localhost:8080/"
        },
        "id": "XI_g6nCE9ppj",
        "outputId": "5b1b9ef8-867c-4ac3-8bf8-69572acce6dc"
      },
      "execution_count": null,
      "outputs": [
        {
          "output_type": "stream",
          "name": "stdout",
          "text": [
            "Ravi kumar\n"
          ]
        }
      ]
    },
    {
      "cell_type": "code",
      "source": [
        "#Day-4:\n",
        "#Recap:\n",
        "        #Decorator\n",
        "        #static method\n",
        "        #class method\n",
        "        #getter,setter\n",
        "        #Acess specifier(public,private)"
      ],
      "metadata": {
        "id": "4M7S-ibL90bG"
      },
      "execution_count": null,
      "outputs": []
    },
    {
      "cell_type": "code",
      "source": [
        "#Inheritance:\n",
        "        #Once class acquires property of another class\n",
        "        #super,base => sub,derived\n",
        "        #Relationship \"IS-a\"\n",
        "        #Object of derived class can access elements of Base class\n",
        "\n",
        "class Base(object):\n",
        "    pass\n",
        "\n",
        "class Derived(Base):\n",
        "    pass\n",
        "\n",
        "#Types:\n",
        "            #1.Single\n",
        "            #2.Multiple\n",
        "            #3.Multilevel\n",
        "            #4.Hierarchical\n",
        "            #5.Hybrid"
      ],
      "metadata": {
        "id": "NAxBAHPIx9Rn"
      },
      "execution_count": null,
      "outputs": []
    },
    {
      "cell_type": "code",
      "source": [
        "#Single Inheritance\n",
        "#Base-1\n",
        "#Derived-1\n",
        "\n",
        "class Employee:\n",
        "        def __init__(self):\n",
        "            print(\"Employee's  init..........!\")\n",
        "            self.__fname=input(\"Enter Fname:\")\n",
        "            self.__lname=input(\"Enter Lname:\")\n",
        "            self.__email=self.__fname+\".\"+self.__fname+\"@mail.com\"\n",
        "\n",
        "\n",
        "class Developer( Employee):\n",
        "   def __init__(self):\n",
        "   #def get(self):\n",
        "        print(\"Developer init......!\")\n",
        "        super().__init__()                                                                                  #super-immediate base class\n",
        "        #Employee.__init__(self)\n",
        "        self.__Domain=input(\"Enter your Domain:\")\n",
        "\n",
        "Dev=Developer()                 #ctor               Derived"
      ],
      "metadata": {
        "colab": {
          "base_uri": "https://localhost:8080/"
        },
        "id": "8WI6OX_RzHm0",
        "outputId": "6a8a9197-3bf9-48ff-8fb9-dbe45c0c1569"
      },
      "execution_count": null,
      "outputs": [
        {
          "name": "stdout",
          "output_type": "stream",
          "text": [
            "Developer init......!\n",
            "Employee's  init..........!\n",
            "Enter Fname:Robin\n",
            "Enter Lname:Sharma\n",
            "Enter your Domain:Python\n"
          ]
        }
      ]
    },
    {
      "cell_type": "code",
      "source": [
        "\n",
        "class Employee:\n",
        "        def __init__(self):\n",
        "            print(\"Employee's  init..........!\")\n",
        "            self.__fname=input(\"Enter Fname:\")\n",
        "            self.__lname=input(\"Enter Lname:\")\n",
        "            self.__email=self.__fname+\".\"+self.__fname+\"@mail.com\"\n",
        "\n",
        "        def fullname(self):\n",
        "            return self.__fname+\" \"+self.__lname\n",
        "\n",
        "        def email(self):\n",
        "            return self.__email\n",
        "\n",
        "class Developer( Employee):\n",
        "    def __init__(self):\n",
        "   #def get(self):\n",
        "        print(\"Developer init......!\")\n",
        "        super().__init__()                                                                                  #super-immediate base class\n",
        "        #Employee.__init__(self)\n",
        "        self.__Domain=input(\"Enter your Domain:\")\n",
        "\n",
        "    def display(self):\n",
        "        print(\"FullName:\",self.fullname())\n",
        "        print(\"Email Id:\", self.email())\n",
        "        print(\"Domain:\",self.__Domain)\n",
        "\n",
        "Dev=Developer()      #One developer\n",
        "\n",
        "# Taking input for multiple developers\n",
        "n = int(input(\"Enter the number of developers: \"))\n",
        "developers = []   #dev[0],dev[1].....,dev[n-1]\n",
        "\n",
        "count = 0\n",
        "while count < n:\n",
        "    print(f\"\\nEntering details for Developer {count + 1}:\")\n",
        "    dev = Developer()\n",
        "    developers.append(dev)\n",
        "    count += 1\n",
        "\n",
        "# Display details of all developers\n",
        "count = 1\n",
        "for dev in developers:\n",
        "    print(f\"\\nDeveloper {count} Details:\")\n",
        "    dev.display()\n",
        "    count += 1\n",
        "    Dev.display()"
      ],
      "metadata": {
        "colab": {
          "base_uri": "https://localhost:8080/"
        },
        "id": "MZk4W5Kb0Ger",
        "outputId": "cae1f854-e3f5-47e1-9668-093bcb043119"
      },
      "execution_count": null,
      "outputs": [
        {
          "output_type": "stream",
          "name": "stdout",
          "text": [
            "Developer init......!\n",
            "Employee's  init..........!\n",
            "Enter Fname:Ravi\n",
            "Enter Lname:Kumar\n",
            "Enter your Domain:Python\n",
            "FullName: Ravi Kumar\n",
            "Email Id: Ravi.Ravi@mail.com\n",
            "Domain: Python\n"
          ]
        }
      ]
    },
    {
      "cell_type": "code",
      "source": [
        "n = int(input(\"Enter the number of developers: \"))\n",
        "dev=[]\n",
        "\n",
        "for i in  range(n):\n",
        "    dev.append(Developer())\n",
        "\n",
        "for i in range(n):\n",
        "    dev[i].display()"
      ],
      "metadata": {
        "id": "oPoVoCwD3IIM"
      },
      "execution_count": null,
      "outputs": []
    },
    {
      "cell_type": "code",
      "source": [
        "#Multiple Inheritance:\n",
        "#Base          - more than one\n",
        "#Derived    -1"
      ],
      "metadata": {
        "id": "Y-W0JWym7Ybn"
      },
      "execution_count": null,
      "outputs": []
    },
    {
      "cell_type": "code",
      "source": [
        "\n",
        "class Base1(object):\n",
        "    pass\n",
        "\n",
        "class Base2(object):\n",
        "    pass\n",
        "\n",
        "class Derived(Base1,Base2):\n",
        "    pass"
      ],
      "metadata": {
        "id": "IkUaCa507rEr"
      },
      "execution_count": null,
      "outputs": []
    },
    {
      "cell_type": "code",
      "source": [
        "class Publisher():\n",
        "    def __init__(self):\n",
        "        print(\"Publisher........!\")\n",
        "        self.pname=\"Xyz publication\"\n",
        "        self.pplace=\"Noida\"\n",
        "    def display(self):\n",
        "        print(\"Publisher Name:\",self.pname)\n",
        "        print(\"Publisher Place:\",self.pplace)\n",
        "\n",
        "class Author():\n",
        "    def __init__(self):\n",
        "        print(\"Author........!\")\n",
        "        self.aname=\"Robin Sharma\"\n",
        "        self.aplace=\"Chennai\"\n",
        "    def display(self):\n",
        "        print(\"Author Name:\",self.aname)\n",
        "        print(\"Author Place:\",self.aplace)\n",
        "\n",
        "class Book(Publisher,Author):\n",
        "    def __init__(self):\n",
        "        print(\"Book......!\")\n",
        "        super().__init__()                                #immediate base class\n",
        "        Author.__init__(self)\n",
        "        self.bname=\"The Secret\"\n",
        "        self.bprice=500\n",
        "    def display(self):\n",
        "        super().display()\n",
        "        Author.display(self)\n",
        "        print(\"Book Name:\",self.bname)\n",
        "        print(\"Book Price:\",self.bprice)\n",
        "\n",
        "book=Book()\n",
        "book.display()"
      ],
      "metadata": {
        "colab": {
          "base_uri": "https://localhost:8080/"
        },
        "id": "QWcwiiwK71r4",
        "outputId": "31597a9c-554c-46b4-bed6-910638f3c9df"
      },
      "execution_count": null,
      "outputs": [
        {
          "output_type": "stream",
          "name": "stdout",
          "text": [
            "Book......!\n",
            "Publisher........!\n",
            "Author........!\n",
            "Publisher Name: Xyz publication\n",
            "Publisher Place: Noida\n",
            "Author Name: Robin Sharma\n",
            "Author Place: Chennai\n",
            "Book Name: The Secret\n",
            "Book Price: 500\n"
          ]
        }
      ]
    },
    {
      "cell_type": "code",
      "source": [
        "MRO\n",
        "#Method resolution order\n",
        "#__mro__\n",
        "#className.mro()"
      ],
      "metadata": {
        "id": "tNXtDbSo9JrL"
      },
      "execution_count": null,
      "outputs": []
    },
    {
      "cell_type": "code",
      "source": [
        "print(\"MRO-Book:\",Book.mro())\n",
        "print(\"MRO-Author:\",Author.mro())\n",
        "print(\"MRO-Publisher:\",Publisher.mro())"
      ],
      "metadata": {
        "colab": {
          "base_uri": "https://localhost:8080/"
        },
        "id": "5b0xag5h-okE",
        "outputId": "e23a6e4c-a316-41db-f340-658b13d6f416"
      },
      "execution_count": null,
      "outputs": [
        {
          "output_type": "stream",
          "name": "stdout",
          "text": [
            "MRO-Book: [<class '__main__.Book'>, <class '__main__.Publisher'>, <class '__main__.Author'>, <class 'object'>]\n",
            "MRO-Author: [<class '__main__.Author'>, <class 'object'>]\n",
            "MRO-Publisher: [<class '__main__.Publisher'>, <class 'object'>]\n"
          ]
        }
      ]
    },
    {
      "cell_type": "code",
      "source": [
        "class Publisher():\n",
        "    def __init__(self):\n",
        "        print(\"Publisher........!\")\n",
        "        self.pname=\"Xyz publication\"\n",
        "        self.pplace=\"Noida\"\n",
        "        super().__init__()    #\n",
        "    def display(self):\n",
        "        print(\"Publisher Name:\",self.pname)\n",
        "        print(\"Publisher Place:\",self.pplace)\n",
        "\n",
        "class Author():\n",
        "    def __init__(self):\n",
        "        print(\"Author........!\")\n",
        "        self.aname=\"Robin Sharma\"\n",
        "        self.aplace=\"Chennai\"\n",
        "    def display(self):\n",
        "        print(\"Author Name:\",self.aname)\n",
        "        print(\"Author Place:\",self.aplace)\n",
        "\n",
        "class Book(Publisher,Author):\n",
        "    def __init__(self):\n",
        "        print(\"Book......!\")\n",
        "        super().__init__()                                #immediate base class\n",
        "        #Author.__init__(self)\n",
        "        self.bname=\"The Secret\"\n",
        "        self.bprice=500\n",
        "    def display(self):\n",
        "        super().display()\n",
        "        Author.display(self)\n",
        "        print(\"Book Name:\",self.bname)\n",
        "        print(\"Book Price:\",self.bprice)\n",
        "\n",
        "book=Book()\n",
        "book.display()"
      ],
      "metadata": {
        "colab": {
          "base_uri": "https://localhost:8080/"
        },
        "id": "NIW-0IlD-siy",
        "outputId": "07129e78-66be-4010-ec2f-ab99ebd6e516"
      },
      "execution_count": null,
      "outputs": [
        {
          "output_type": "stream",
          "name": "stdout",
          "text": [
            "Book......!\n",
            "Publisher........!\n",
            "Author........!\n",
            "Publisher Name: Xyz publication\n",
            "Publisher Place: Noida\n",
            "Author Name: Robin Sharma\n",
            "Author Place: Chennai\n",
            "Book Name: The Secret\n",
            "Book Price: 500\n"
          ]
        }
      ]
    },
    {
      "cell_type": "code",
      "source": [
        "#Multi-level"
      ],
      "metadata": {
        "id": "IzhZQhWa_hYb"
      },
      "execution_count": null,
      "outputs": []
    },
    {
      "cell_type": "code",
      "source": [
        "class Base1:\n",
        "    pass\n",
        "\n",
        "class Base2(Base1):\n",
        "    pass\n",
        "\n",
        "class Derived(Base2):\n",
        "    pass\n",
        "\n"
      ],
      "metadata": {
        "id": "PA0AH-PHAAb1"
      },
      "execution_count": null,
      "outputs": []
    },
    {
      "cell_type": "code",
      "source": [
        "#Hierarchical\n",
        "    #Base-1\n",
        "    #Derived-more than one\n",
        "class Base:\n",
        "    pass\n",
        "\n",
        "class Derived1(Base1):\n",
        "    pass\n",
        "\n",
        "class Derived2(Base1):\n",
        "    pass\n",
        "\n",
        "#Hybrid\n",
        "    #combination of 2 or more inheritance\n",
        "    #                         Base1\n",
        "                    derived-1      derived-2\n",
        "                                derived-3\n",
        "\n"
      ],
      "metadata": {
        "id": "6YgXM6kEAW9-"
      },
      "execution_count": null,
      "outputs": []
    },
    {
      "cell_type": "code",
      "source": [
        "#Abstract class & Abtsract method:\n",
        "\n",
        "#Abstract class:\n",
        "                #import abc\n",
        "                #Inheritance: ABC\n",
        "                #Instance: no object\n",
        "                #method : Instance or abstract\n",
        "\n",
        "\n",
        "#Abtsract method:\n",
        "            #Decorator(@)abstractmethod\n",
        "            #abstract method are only declaration\n",
        "            #abstract method must be redefine in all it derived class\n",
        "\n"
      ],
      "metadata": {
        "id": "kOycb7UHBhcj"
      },
      "execution_count": null,
      "outputs": []
    },
    {
      "cell_type": "code",
      "source": [
        "from abc import ABC,abstractmethod\n",
        "class Shape(ABC):       #template\n",
        "    def  get(self):\n",
        "        print(\"Shape's get-method\")\n",
        "\n",
        "    @abstractmethod\n",
        "    def area ():\n",
        "            pass\n",
        "\n",
        "    @abstractmethod\n",
        "    def perimeter():\n",
        "            pass\n",
        "\n",
        "class Rectangle(Shape):\n",
        "    def __init__(self,wid,he):\n",
        "        self.width=wid\n",
        "        self.height=he\n",
        "\n",
        "    def area (self):\n",
        "         return self.width*self.height\n",
        "\n",
        "    def perimeter(self):\n",
        "        return  2*(self.width+self.height)\n",
        "\n",
        "class Circle(Shape):\n",
        "    def __init__(self,rad):\n",
        "        self.radius=rad\n",
        "\n",
        "    def area (self):\n",
        "         return  3.14*self.radius**2\n",
        "\n",
        "    def perimeter(self):\n",
        "        return  2*3.14*self.radius\n",
        "\n",
        "rect=Rectangle(10,5)\n",
        "rect.get()\n",
        "print(\"Area of Rectangle:\",rect.area())\n",
        "print(\"Perimter of Rectangle:\",rect.perimeter())\n",
        "\n",
        "Cir=Circle(2)\n",
        "print(\"Area of Circle:\",Cir.area())\n",
        "print(\"Perimter of Circle:\",Cir.perimeter())\n",
        "#obj=Shape()"
      ],
      "metadata": {
        "colab": {
          "base_uri": "https://localhost:8080/"
        },
        "id": "h4va5XqNDwlc",
        "outputId": "df535991-01f8-4a40-f27c-696ddd2193c0"
      },
      "execution_count": null,
      "outputs": [
        {
          "output_type": "stream",
          "name": "stdout",
          "text": [
            "Shape's get-method\n",
            "Area of Rectangle: 50\n",
            "Perimter of Rectangle: 30\n",
            "Area of Circle: 12.56\n",
            "Perimter of Circle: 12.56\n"
          ]
        }
      ]
    },
    {
      "cell_type": "code",
      "source": [
        "class Account(ABC):\n",
        "     #Name,Mob,Add\n",
        "     #Name,Branch,IFSC,add\n",
        "     #bal\n",
        "\n",
        "     @abstractmethod\n",
        "    def withdraw(self):\n",
        "        pass\n",
        "\n",
        "    def deposit(self):\n",
        "        pass\n",
        "\n",
        "    def balEnqu(self):\n",
        "        pass\n",
        "\n",
        "\n",
        "class SavingAccount(Account):\n",
        "     minbal=5000\n",
        "     def withdraw(self):\n",
        "        pass\n",
        "\n",
        "class  CurrentAccount(Account):\n",
        "     odlimit=500000\n",
        "     def withdraw(self):\n",
        "        pass\n"
      ],
      "metadata": {
        "id": "lCjEcAX3Egpv"
      },
      "execution_count": null,
      "outputs": []
    },
    {
      "cell_type": "code",
      "source": [
        "#Day-5:\n",
        "        #Recap:\n",
        "                #Inheritance-5 type\n",
        "                #single,multiple\n",
        "                #Abstraction(abstract method,abstract class)"
      ],
      "metadata": {
        "id": "fhFOk-1RNSXz"
      },
      "execution_count": null,
      "outputs": []
    },
    {
      "cell_type": "code",
      "source": [
        "#Operator Overloading\n",
        "            # redefine the behavior of standard operators\n",
        "            #magic\n",
        "            #Arthimetic:\n",
        "                        +     __add__(self,other)\n",
        "                        -     __sub__(self,other)\n",
        "                        *  __mul__(self,other)\n",
        "                     ...etc\n",
        "        #comparison:\n",
        "                    <        __lt__(self,other)\n",
        "                    >       __gt__(self,other)\n",
        "                    <=    __le__(self,other)\n",
        "                    >=   __ge__(self,other)\n",
        "                    ==   __eq__(self,other)\n",
        "                    !=    __nq__(self,other)"
      ],
      "metadata": {
        "id": "PXOmnflZNSaD"
      },
      "execution_count": null,
      "outputs": []
    },
    {
      "cell_type": "code",
      "source": [
        "class  Arith:\n",
        "    def __init__(self,no1,no2):\n",
        "        self.no1=no1\n",
        "        self.no2=no2\n",
        "\n",
        "    def __add__(self,other):   #self=obj1      other=obj2\n",
        "        return Arith(self.no1+other.no1,self.no2+other.no2)           #return 6,8 -tuple\n",
        "\n",
        "    def __mul__(self,scalar):   #self=self     scalar=2\n",
        "        return Arith(self.no1*scalar,self.no2*scalar)\n",
        "\n",
        "    def __str__(self):\n",
        "        return f'{self.no1} {self.no2}'\n",
        "\n",
        "    def display(self):\n",
        "        pass\n",
        "\n",
        "\n",
        "obj1=Arith(4,5)      #no1,no2\n",
        "obj2=Arith(2,3)\n",
        "\n",
        "#print(obj1)         4+2\n",
        "\n",
        "obj1.display()               # calling object= obj1   method=display   parameter=no\n",
        "\n",
        "obj3=obj1+obj2           #calling object= obj1   method=+(__add__)   parameter=obj2\n",
        "                                         #obj1.+(obj2)\n",
        "\n",
        "print(type(obj3))\n",
        "print(obj3)\n",
        "#obj3.no1,obj3.no2)\n",
        "\n",
        "\n",
        "obj4=obj1*2                   #4*2        5*2\n",
        "                                            # calling object= obj1   method=* (__mul__)   parameter=2\n",
        "print(obj4)\n",
        "\n"
      ],
      "metadata": {
        "colab": {
          "base_uri": "https://localhost:8080/"
        },
        "id": "EWITIRmNNSc6",
        "outputId": "9114b9d2-6215-4b23-f799-b0c2848c6963"
      },
      "execution_count": null,
      "outputs": [
        {
          "output_type": "stream",
          "name": "stdout",
          "text": [
            "<class '__main__.Arith'>\n",
            "6 8\n",
            "8 10\n"
          ]
        }
      ]
    },
    {
      "cell_type": "code",
      "source": [
        " class complexNum:\n",
        "    def __init__(self, real,imag):\n",
        "        self.real=real\n",
        "        self.imag=imag\n",
        "\n",
        "\n",
        "\n",
        "comp1=complexNum(2,3)\n",
        "comp2=complexNum(4,5)\n",
        "\n",
        "print(comp3 )           #6+8i"
      ],
      "metadata": {
        "id": "Lc7A8g2bNSgY"
      },
      "execution_count": null,
      "outputs": []
    },
    {
      "cell_type": "code",
      "source": [
        "#Comprasion:\n",
        "class Employee:\n",
        "    def __init__(self,name,expr):\n",
        "        self.name=name\n",
        "        self.expr=expr\n",
        "\n",
        "    def __gt__(self,other):                       #self=emp1            other=emp2\n",
        "        return self.expr>other.expr        # boolean\n",
        "\n",
        "    def __lt__(self,other):                       #self=emp1            other=emp2\n",
        "        return self.expr<other.expr        # boolean\n",
        "\n",
        "\n",
        "emp1=Employee(\"Rob\",10)\n",
        "emp2=Employee(\"bob\",20)\n",
        "\n",
        "#emp1>emp2        #calling object=emp        method= __gt__            para=emp2\n",
        "print(\"Emp1 has higher expr\") if emp1>emp2  else print(\"Emp2 has higher expr\")\n",
        "print(\"Emp1 has less expr\") if emp1<emp2  else print(\"Emp2 has less expr\")\n",
        "\n"
      ],
      "metadata": {
        "colab": {
          "base_uri": "https://localhost:8080/"
        },
        "id": "cH2BWXm8NSzO",
        "outputId": "601da56f-e4a0-4366-80b9-3bab777331bf"
      },
      "execution_count": null,
      "outputs": [
        {
          "output_type": "stream",
          "name": "stdout",
          "text": [
            "Emp2 has higher expr\n",
            "Emp1 has less expr\n"
          ]
        }
      ]
    },
    {
      "cell_type": "code",
      "source": [
        "dir(int)"
      ],
      "metadata": {
        "colab": {
          "base_uri": "https://localhost:8080/"
        },
        "id": "I5q5D4VxNS2m",
        "outputId": "cfe775dd-cca0-492e-950d-19bcfabcd4b7"
      },
      "execution_count": null,
      "outputs": [
        {
          "output_type": "execute_result",
          "data": {
            "text/plain": [
              "['__abs__',\n",
              " '__add__',\n",
              " '__and__',\n",
              " '__bool__',\n",
              " '__ceil__',\n",
              " '__class__',\n",
              " '__delattr__',\n",
              " '__dir__',\n",
              " '__divmod__',\n",
              " '__doc__',\n",
              " '__eq__',\n",
              " '__float__',\n",
              " '__floor__',\n",
              " '__floordiv__',\n",
              " '__format__',\n",
              " '__ge__',\n",
              " '__getattribute__',\n",
              " '__getnewargs__',\n",
              " '__gt__',\n",
              " '__hash__',\n",
              " '__index__',\n",
              " '__init__',\n",
              " '__init_subclass__',\n",
              " '__int__',\n",
              " '__invert__',\n",
              " '__le__',\n",
              " '__lshift__',\n",
              " '__lt__',\n",
              " '__mod__',\n",
              " '__mul__',\n",
              " '__ne__',\n",
              " '__neg__',\n",
              " '__new__',\n",
              " '__or__',\n",
              " '__pos__',\n",
              " '__pow__',\n",
              " '__radd__',\n",
              " '__rand__',\n",
              " '__rdivmod__',\n",
              " '__reduce__',\n",
              " '__reduce_ex__',\n",
              " '__repr__',\n",
              " '__rfloordiv__',\n",
              " '__rlshift__',\n",
              " '__rmod__',\n",
              " '__rmul__',\n",
              " '__ror__',\n",
              " '__round__',\n",
              " '__rpow__',\n",
              " '__rrshift__',\n",
              " '__rshift__',\n",
              " '__rsub__',\n",
              " '__rtruediv__',\n",
              " '__rxor__',\n",
              " '__setattr__',\n",
              " '__sizeof__',\n",
              " '__str__',\n",
              " '__sub__',\n",
              " '__subclasshook__',\n",
              " '__truediv__',\n",
              " '__trunc__',\n",
              " '__xor__',\n",
              " 'as_integer_ratio',\n",
              " 'bit_count',\n",
              " 'bit_length',\n",
              " 'conjugate',\n",
              " 'denominator',\n",
              " 'from_bytes',\n",
              " 'imag',\n",
              " 'numerator',\n",
              " 'real',\n",
              " 'to_bytes']"
            ]
          },
          "metadata": {},
          "execution_count": 12
        }
      ]
    },
    {
      "cell_type": "code",
      "source": [
        "#Exception Handling\n",
        "            #Exception:Errors\n",
        "                            #1.syntax\n",
        "                            #2.Logical\n",
        "                    #Error handled during execution of our programm\n"
      ],
      "metadata": {
        "id": "ajiUzybWNTEQ"
      },
      "execution_count": null,
      "outputs": []
    },
    {
      "cell_type": "code",
      "source": [
        "print(10/0)"
      ],
      "metadata": {
        "colab": {
          "base_uri": "https://localhost:8080/",
          "height": 141
        },
        "id": "3RTlNCvcNTHB",
        "outputId": "66eab3b3-0721-4db4-afe6-ff3707ce033e"
      },
      "execution_count": null,
      "outputs": [
        {
          "output_type": "error",
          "ename": "ZeroDivisionError",
          "evalue": "division by zero",
          "traceback": [
            "\u001b[0;31m---------------------------------------------------------------------------\u001b[0m",
            "\u001b[0;31mZeroDivisionError\u001b[0m                         Traceback (most recent call last)",
            "\u001b[0;32m<ipython-input-13-fe01563e1bc6>\u001b[0m in \u001b[0;36m<cell line: 1>\u001b[0;34m()\u001b[0m\n\u001b[0;32m----> 1\u001b[0;31m \u001b[0mprint\u001b[0m\u001b[0;34m(\u001b[0m\u001b[0;36m10\u001b[0m\u001b[0;34m/\u001b[0m\u001b[0;36m0\u001b[0m\u001b[0;34m)\u001b[0m\u001b[0;34m\u001b[0m\u001b[0;34m\u001b[0m\u001b[0m\n\u001b[0m",
            "\u001b[0;31mZeroDivisionError\u001b[0m: division by zero"
          ]
        }
      ]
    },
    {
      "cell_type": "code",
      "source": [
        "var=int(input())"
      ],
      "metadata": {
        "colab": {
          "base_uri": "https://localhost:8080/",
          "height": 158
        },
        "id": "TvKoWeliNTKZ",
        "outputId": "4de8f6be-bb18-4fbc-f934-c5167bfb3820"
      },
      "execution_count": null,
      "outputs": [
        {
          "name": "stdout",
          "output_type": "stream",
          "text": [
            "Python\n"
          ]
        },
        {
          "output_type": "error",
          "ename": "ValueError",
          "evalue": "invalid literal for int() with base 10: 'Python'",
          "traceback": [
            "\u001b[0;31m---------------------------------------------------------------------------\u001b[0m",
            "\u001b[0;31mValueError\u001b[0m                                Traceback (most recent call last)",
            "\u001b[0;32m<ipython-input-14-6e2ea1dfd0cd>\u001b[0m in \u001b[0;36m<cell line: 1>\u001b[0;34m()\u001b[0m\n\u001b[0;32m----> 1\u001b[0;31m \u001b[0mvar\u001b[0m\u001b[0;34m=\u001b[0m\u001b[0mint\u001b[0m\u001b[0;34m(\u001b[0m\u001b[0minput\u001b[0m\u001b[0;34m(\u001b[0m\u001b[0;34m)\u001b[0m\u001b[0;34m)\u001b[0m\u001b[0;34m\u001b[0m\u001b[0;34m\u001b[0m\u001b[0m\n\u001b[0m",
            "\u001b[0;31mValueError\u001b[0m: invalid literal for int() with base 10: 'Python'"
          ]
        }
      ]
    },
    {
      "cell_type": "code",
      "source": [
        "if True:\n",
        "print(\"Hi\")"
      ],
      "metadata": {
        "colab": {
          "base_uri": "https://localhost:8080/",
          "height": 106
        },
        "id": "_MQh6trIYRLm",
        "outputId": "92840e3a-10ad-4489-a0eb-b01d0edd00a9"
      },
      "execution_count": null,
      "outputs": [
        {
          "output_type": "error",
          "ename": "IndentationError",
          "evalue": "expected an indented block after 'if' statement on line 1 (<ipython-input-15-fd52359b12e1>, line 2)",
          "traceback": [
            "\u001b[0;36m  File \u001b[0;32m\"<ipython-input-15-fd52359b12e1>\"\u001b[0;36m, line \u001b[0;32m2\u001b[0m\n\u001b[0;31m    print(\"Hi\")\u001b[0m\n\u001b[0m    ^\u001b[0m\n\u001b[0;31mIndentationError\u001b[0m\u001b[0;31m:\u001b[0m expected an indented block after 'if' statement on line 1\n"
          ]
        }
      ]
    },
    {
      "cell_type": "code",
      "source": [
        "dir(locals()['__builtins__'])"
      ],
      "metadata": {
        "colab": {
          "base_uri": "https://localhost:8080/"
        },
        "id": "Y1kPzLi1YVro",
        "outputId": "cc48aabd-15e8-4c3f-9579-1bac9e9e4ac1"
      },
      "execution_count": null,
      "outputs": [
        {
          "output_type": "execute_result",
          "data": {
            "text/plain": [
              "['ArithmeticError',\n",
              " 'AssertionError',\n",
              " 'AttributeError',\n",
              " 'BaseException',\n",
              " 'BlockingIOError',\n",
              " 'BrokenPipeError',\n",
              " 'BufferError',\n",
              " 'BytesWarning',\n",
              " 'ChildProcessError',\n",
              " 'ConnectionAbortedError',\n",
              " 'ConnectionError',\n",
              " 'ConnectionRefusedError',\n",
              " 'ConnectionResetError',\n",
              " 'DeprecationWarning',\n",
              " 'EOFError',\n",
              " 'Ellipsis',\n",
              " 'EncodingWarning',\n",
              " 'EnvironmentError',\n",
              " 'Exception',\n",
              " 'False',\n",
              " 'FileExistsError',\n",
              " 'FileNotFoundError',\n",
              " 'FloatingPointError',\n",
              " 'FutureWarning',\n",
              " 'GeneratorExit',\n",
              " 'IOError',\n",
              " 'ImportError',\n",
              " 'ImportWarning',\n",
              " 'IndentationError',\n",
              " 'IndexError',\n",
              " 'InterruptedError',\n",
              " 'IsADirectoryError',\n",
              " 'KeyError',\n",
              " 'KeyboardInterrupt',\n",
              " 'LookupError',\n",
              " 'MemoryError',\n",
              " 'ModuleNotFoundError',\n",
              " 'NameError',\n",
              " 'None',\n",
              " 'NotADirectoryError',\n",
              " 'NotImplemented',\n",
              " 'NotImplementedError',\n",
              " 'OSError',\n",
              " 'OverflowError',\n",
              " 'PendingDeprecationWarning',\n",
              " 'PermissionError',\n",
              " 'ProcessLookupError',\n",
              " 'RecursionError',\n",
              " 'ReferenceError',\n",
              " 'ResourceWarning',\n",
              " 'RuntimeError',\n",
              " 'RuntimeWarning',\n",
              " 'StopAsyncIteration',\n",
              " 'StopIteration',\n",
              " 'SyntaxError',\n",
              " 'SyntaxWarning',\n",
              " 'SystemError',\n",
              " 'SystemExit',\n",
              " 'TabError',\n",
              " 'TimeoutError',\n",
              " 'True',\n",
              " 'TypeError',\n",
              " 'UnboundLocalError',\n",
              " 'UnicodeDecodeError',\n",
              " 'UnicodeEncodeError',\n",
              " 'UnicodeError',\n",
              " 'UnicodeTranslateError',\n",
              " 'UnicodeWarning',\n",
              " 'UserWarning',\n",
              " 'ValueError',\n",
              " 'Warning',\n",
              " 'ZeroDivisionError',\n",
              " '__IPYTHON__',\n",
              " '__build_class__',\n",
              " '__debug__',\n",
              " '__doc__',\n",
              " '__import__',\n",
              " '__loader__',\n",
              " '__name__',\n",
              " '__package__',\n",
              " '__spec__',\n",
              " 'abs',\n",
              " 'aiter',\n",
              " 'all',\n",
              " 'anext',\n",
              " 'any',\n",
              " 'ascii',\n",
              " 'bin',\n",
              " 'bool',\n",
              " 'breakpoint',\n",
              " 'bytearray',\n",
              " 'bytes',\n",
              " 'callable',\n",
              " 'chr',\n",
              " 'classmethod',\n",
              " 'compile',\n",
              " 'complex',\n",
              " 'copyright',\n",
              " 'credits',\n",
              " 'delattr',\n",
              " 'dict',\n",
              " 'dir',\n",
              " 'display',\n",
              " 'divmod',\n",
              " 'enumerate',\n",
              " 'eval',\n",
              " 'exec',\n",
              " 'execfile',\n",
              " 'filter',\n",
              " 'float',\n",
              " 'format',\n",
              " 'frozenset',\n",
              " 'get_ipython',\n",
              " 'getattr',\n",
              " 'globals',\n",
              " 'hasattr',\n",
              " 'hash',\n",
              " 'help',\n",
              " 'hex',\n",
              " 'id',\n",
              " 'input',\n",
              " 'int',\n",
              " 'isinstance',\n",
              " 'issubclass',\n",
              " 'iter',\n",
              " 'len',\n",
              " 'license',\n",
              " 'list',\n",
              " 'locals',\n",
              " 'map',\n",
              " 'max',\n",
              " 'memoryview',\n",
              " 'min',\n",
              " 'next',\n",
              " 'object',\n",
              " 'oct',\n",
              " 'open',\n",
              " 'ord',\n",
              " 'pow',\n",
              " 'print',\n",
              " 'property',\n",
              " 'range',\n",
              " 'repr',\n",
              " 'reversed',\n",
              " 'round',\n",
              " 'runfile',\n",
              " 'set',\n",
              " 'setattr',\n",
              " 'slice',\n",
              " 'sorted',\n",
              " 'staticmethod',\n",
              " 'str',\n",
              " 'sum',\n",
              " 'super',\n",
              " 'tuple',\n",
              " 'type',\n",
              " 'vars',\n",
              " 'zip']"
            ]
          },
          "metadata": {},
          "execution_count": 17
        }
      ]
    },
    {
      "cell_type": "code",
      "source": [
        "try:\n",
        "    #gaurd session\n",
        "except:\n",
        "    #error handler\n",
        "else:\n",
        "    #executed  only when there is no exepcetion\n",
        "finally:\n",
        "    #irrespective of error or not"
      ],
      "metadata": {
        "id": "XanPUau-YelA"
      },
      "execution_count": null,
      "outputs": []
    },
    {
      "cell_type": "code",
      "source": [
        "no1=int(input(\"Enter No1:\"))\n",
        "no2=int(input(\"Enter No2:\"))\n",
        "\n",
        "try:\n",
        "    res=no1/no2\n",
        "    print(\"Division: \",res)\n",
        "\n",
        "except ZeroDivisionError  as err:\n",
        "    print(err)\n",
        "    print(\"Denominator can't be Zero......!\")"
      ],
      "metadata": {
        "colab": {
          "base_uri": "https://localhost:8080/"
        },
        "id": "mWYUmP2BZnvQ",
        "outputId": "cf49f2f0-2a38-4f5f-b86d-60316347806c"
      },
      "execution_count": null,
      "outputs": [
        {
          "output_type": "stream",
          "name": "stdout",
          "text": [
            "Enter No1:10\n",
            "Enter No2:0\n",
            "division by zero\n",
            "Denominator can't be Zero......!\n"
          ]
        }
      ]
    },
    {
      "cell_type": "code",
      "source": [
        "from inspect import trace\n",
        "import traceback\n",
        "no1=int(input(\"Enter No1:\"))\n",
        "no2=int(input(\"Enter No2:\"))\n",
        "mylst=[1,2,3,4,5]\n",
        "\n",
        "try:\n",
        "    #var=int(input(\"Enter val:\"))\n",
        "    print(mylst[4])\n",
        "    res=no1/no2\n",
        "\n",
        "\n",
        "except ZeroDivisionError  as err:\n",
        "    print(err)\n",
        "    print(\"Denominator can't be Zero......!\")   #2 0\n",
        "    trace.print__exc()\n",
        "\n",
        "except  IndexError as err:\n",
        "    print(\"Index out of range...!\\n\",err)\n",
        "    trace.print__exc()\n",
        "\n",
        "except:    #generic\n",
        "    print(\"Error Occurred......!\")\n",
        "    trace.print__exc()\n",
        "\n",
        "else:\n",
        "    print(\"Division: \",res)\n",
        "\n",
        "finally:\n",
        "    print(\"Application closed.......!\")\n"
      ],
      "metadata": {
        "colab": {
          "base_uri": "https://localhost:8080/",
          "height": 488
        },
        "id": "JQ8D_A6oaEgu",
        "outputId": "97c4a0df-7c66-4fa9-915e-f01bbdd4f554"
      },
      "execution_count": null,
      "outputs": [
        {
          "output_type": "stream",
          "name": "stdout",
          "text": [
            "Enter No1:20\n",
            "Enter No2:0\n",
            "5\n",
            "division by zero\n",
            "Denominator can't be Zero......!\n",
            "Application closed.......!\n"
          ]
        },
        {
          "output_type": "error",
          "ename": "AttributeError",
          "evalue": "'function' object has no attribute 'print__exc'",
          "traceback": [
            "\u001b[0;31m---------------------------------------------------------------------------\u001b[0m",
            "\u001b[0;31mZeroDivisionError\u001b[0m                         Traceback (most recent call last)",
            "\u001b[0;32m<ipython-input-27-1c83ac3e1c0d>\u001b[0m in \u001b[0;36m<cell line: 7>\u001b[0;34m()\u001b[0m\n\u001b[1;32m      9\u001b[0m     \u001b[0mprint\u001b[0m\u001b[0;34m(\u001b[0m\u001b[0mmylst\u001b[0m\u001b[0;34m[\u001b[0m\u001b[0;36m4\u001b[0m\u001b[0;34m]\u001b[0m\u001b[0;34m)\u001b[0m\u001b[0;34m\u001b[0m\u001b[0;34m\u001b[0m\u001b[0m\n\u001b[0;32m---> 10\u001b[0;31m     \u001b[0mres\u001b[0m\u001b[0;34m=\u001b[0m\u001b[0mno1\u001b[0m\u001b[0;34m/\u001b[0m\u001b[0mno2\u001b[0m\u001b[0;34m\u001b[0m\u001b[0;34m\u001b[0m\u001b[0m\n\u001b[0m\u001b[1;32m     11\u001b[0m \u001b[0;34m\u001b[0m\u001b[0m\n",
            "\u001b[0;31mZeroDivisionError\u001b[0m: division by zero",
            "\nDuring handling of the above exception, another exception occurred:\n",
            "\u001b[0;31mAttributeError\u001b[0m                            Traceback (most recent call last)",
            "\u001b[0;32m<ipython-input-27-1c83ac3e1c0d>\u001b[0m in \u001b[0;36m<cell line: 7>\u001b[0;34m()\u001b[0m\n\u001b[1;32m     14\u001b[0m     \u001b[0mprint\u001b[0m\u001b[0;34m(\u001b[0m\u001b[0merr\u001b[0m\u001b[0;34m)\u001b[0m\u001b[0;34m\u001b[0m\u001b[0;34m\u001b[0m\u001b[0m\n\u001b[1;32m     15\u001b[0m     \u001b[0mprint\u001b[0m\u001b[0;34m(\u001b[0m\u001b[0;34m\"Denominator can't be Zero......!\"\u001b[0m\u001b[0;34m)\u001b[0m   \u001b[0;31m#2 0\u001b[0m\u001b[0;34m\u001b[0m\u001b[0;34m\u001b[0m\u001b[0m\n\u001b[0;32m---> 16\u001b[0;31m     \u001b[0mtrace\u001b[0m\u001b[0;34m.\u001b[0m\u001b[0mprint__exc\u001b[0m\u001b[0;34m(\u001b[0m\u001b[0;34m)\u001b[0m\u001b[0;34m\u001b[0m\u001b[0;34m\u001b[0m\u001b[0m\n\u001b[0m\u001b[1;32m     17\u001b[0m \u001b[0;34m\u001b[0m\u001b[0m\n\u001b[1;32m     18\u001b[0m \u001b[0;32mexcept\u001b[0m  \u001b[0mIndexError\u001b[0m \u001b[0;32mas\u001b[0m \u001b[0merr\u001b[0m\u001b[0;34m:\u001b[0m\u001b[0;34m\u001b[0m\u001b[0;34m\u001b[0m\u001b[0m\n",
            "\u001b[0;31mAttributeError\u001b[0m: 'function' object has no attribute 'print__exc'"
          ]
        }
      ]
    },
    {
      "cell_type": "code",
      "source": [
        "no=int(input(\"Enter val:\"))   #\"ValueError\"   ===>   less 18"
      ],
      "metadata": {
        "colab": {
          "base_uri": "https://localhost:8080/"
        },
        "id": "zLd0j84VapQl",
        "outputId": "b2238dc7-97c2-487d-a736-bbb29c69a4af"
      },
      "execution_count": null,
      "outputs": [
        {
          "name": "stdout",
          "output_type": "stream",
          "text": [
            "Enter val:12\n"
          ]
        }
      ]
    },
    {
      "cell_type": "code",
      "source": [
        "#Raise the Exception\n",
        "#raise"
      ],
      "metadata": {
        "id": "xfVVK8t-dKQM"
      },
      "execution_count": null,
      "outputs": []
    },
    {
      "cell_type": "code",
      "source": [
        "try:\n",
        "    age=int(input(\"Enter Age:\"))\n",
        "    if age  < 18:\n",
        "        raise ValueError\n",
        "\n",
        "except ValueError:\n",
        "    print(\"Age below 18 is too young to vote.....!\")\n",
        "\n",
        "else:\n",
        "    print(\"Voting...!\")"
      ],
      "metadata": {
        "colab": {
          "base_uri": "https://localhost:8080/"
        },
        "id": "cBkLJHEtdkNR",
        "outputId": "26540167-a3d5-4b92-9b55-dce3142ab8c5"
      },
      "execution_count": null,
      "outputs": [
        {
          "output_type": "stream",
          "name": "stdout",
          "text": [
            "Enter Age:11\n",
            "Age below 18 is too young to vote.....!\n"
          ]
        }
      ]
    },
    {
      "cell_type": "code",
      "source": [
        "#Custom Exception"
      ],
      "metadata": {
        "id": "IYteYQh_eBY9"
      },
      "execution_count": null,
      "outputs": []
    },
    {
      "cell_type": "code",
      "source": [
        "class customError(Exception):\n",
        "    pass\n",
        "\n",
        "try:\n",
        "     #Code to be handled\n",
        "except customError:\n",
        "    #error"
      ],
      "metadata": {
        "id": "TXdIlNG6eSpn"
      },
      "execution_count": null,
      "outputs": []
    },
    {
      "cell_type": "code",
      "source": [
        "18-75     : \"eligible to vote\"\n",
        "<18         : \"Age below 18 is too young to vote.....!\"\n",
        ">=76         :  \"Please stay home safe\""
      ],
      "metadata": {
        "id": "vxMi85i5ehTZ"
      },
      "execution_count": null,
      "outputs": []
    },
    {
      "cell_type": "code",
      "source": [
        "class TooYoungException(Exception):\n",
        "    def __init__(self,msg):\n",
        "        self.msg=msg\n",
        "\n",
        "class TooOldException(Exception):\n",
        "    def __init__(self,msg):\n",
        "        self.msg=msg\n",
        "\n",
        "try:\n",
        "    age=int(input(\"Enter Age:\"))\n",
        "    if age  < 18:\n",
        "        raise TooYoungException(\"Age below 18 is too young to vote.....!\")\n",
        "\n",
        "    elif age >75:\n",
        "        raise TooOldException (\"Please stay home safe\")\n",
        "    else:\n",
        "            print(\"Happy voting....!\")\n",
        "\n",
        "except TooYoungException as err:\n",
        "    print(err)\n",
        "\n",
        "except TooOldException as err:\n",
        "    print(err)\n"
      ],
      "metadata": {
        "colab": {
          "base_uri": "https://localhost:8080/"
        },
        "id": "SpPYtTxre2Lo",
        "outputId": "a52f1fff-6236-455e-cb69-863d8649523d"
      },
      "execution_count": null,
      "outputs": [
        {
          "output_type": "stream",
          "name": "stdout",
          "text": [
            "Enter Age:78\n",
            "Please stay home safe\n"
          ]
        }
      ]
    },
    {
      "cell_type": "code",
      "source": [
        "print(Exception.mro())\n",
        "print(ValueError.mro())"
      ],
      "metadata": {
        "colab": {
          "base_uri": "https://localhost:8080/"
        },
        "id": "e9T_rnByf-ki",
        "outputId": "fc420b30-11d1-48b4-df3d-fa8ebded1c36"
      },
      "execution_count": null,
      "outputs": [
        {
          "output_type": "stream",
          "name": "stdout",
          "text": [
            "[<class 'Exception'>, <class 'BaseException'>, <class 'object'>]\n",
            "[<class 'ValueError'>, <class 'Exception'>, <class 'BaseException'>, <class 'object'>]\n"
          ]
        }
      ]
    },
    {
      "cell_type": "code",
      "source": [
        "### File Handling"
      ],
      "metadata": {
        "id": "Lshp-uusgX8x"
      },
      "execution_count": null,
      "outputs": []
    },
    {
      "cell_type": "code",
      "source": [
        "#Why files?\n",
        "            #Pernament storage\n",
        "            # Basic  operation:\n",
        "                        #1.open\n",
        "                        #2.read/write\n",
        "                        #3.close\n",
        "\n",
        "                        #4.update/delete\n",
        "            #Function:\n",
        "                        #open()\n",
        "                        #close()\n",
        "                        #read(),readline(),readlines()\n",
        "                        #write()....etc\n",
        "\n",
        "                        #Navigation\n",
        "                                #seek()    =>move cursor\n",
        "                                #tell()        =>display cursor position"
      ],
      "metadata": {
        "id": "ht4i7ocTg5Jp"
      },
      "execution_count": null,
      "outputs": []
    },
    {
      "cell_type": "code",
      "source": [
        "#Open File"
      ],
      "metadata": {
        "id": "kf-puwf0h4aJ"
      },
      "execution_count": null,
      "outputs": []
    },
    {
      "cell_type": "code",
      "source": [
        "\n",
        "#file descriptor = open(\"file path\", \"Acces Mode\")t\n",
        "#File path:\n",
        "                #Absolute path: Given form the root\n",
        "                                        #   :open(\"C:\\Users\\Sugan\\Python\\demo.py\")\n",
        "\n",
        "                #Relative path: open in current working directory\n",
        "                                        #open(\"demo.py\")\n",
        "\n",
        "                #default Acces mode: read(r)\n",
        "\n",
        "#Acces Mode:\n",
        "                #r        => open file only for read\n",
        "                #w      => open file only for write\n",
        "                      #    => if file already existing  :the truncate the file(overwrite)\n",
        "                      #    => if file not existing          : wil create a new file\n",
        "                      #    =>cursor position will start from begining always\n",
        "                #x      => Exclusive creation\n",
        "                     #    => if file not existing          :  create\n",
        "                      #    => if file already existing  : operation fails\n",
        "                #a         => append to existing file\n",
        "                     #      =>start writting from the end of file\n",
        "\n",
        "                #b      =>open file in binary(audio,..etc)\n",
        "                #t       =>open filr in text type\n",
        "\n",
        "    # +\n",
        "            r+         =>open file in read /write\n",
        "            w+       =>open file in write/read\n",
        "            a+        => open file write /read\n",
        "            rb+\n",
        "            wb+\n",
        "            ab+\n",
        "\n",
        "\n",
        "#close()\n",
        "            FileDescriptor.close()"
      ],
      "metadata": {
        "id": "otShEwszh6Ve"
      },
      "execution_count": null,
      "outputs": []
    },
    {
      "cell_type": "code",
      "source": [
        "#Day-6:\n",
        "    #Recap:\n",
        "        #Operator Overloading (Arith,comparison)\n",
        "        #Exception Handling (try,except,else,finally)\n",
        "                #Raise Exception\n",
        "                #custom/user-defined Exception\n",
        "        #File Handling\n"
      ],
      "metadata": {
        "id": "6zusECTlTHRV"
      },
      "execution_count": null,
      "outputs": []
    },
    {
      "cell_type": "code",
      "source": [
        "#Create a file (performing Write)"
      ],
      "metadata": {
        "id": "OLUmVrk5THUB"
      },
      "execution_count": null,
      "outputs": []
    },
    {
      "cell_type": "code",
      "source": [
        "fd=open(\"myfile.txt\",\"w\")\n",
        "fd.write(\"All is Well\")\n",
        "fd.write(\"\\nC The Change\")\n",
        "fd.close()"
      ],
      "metadata": {
        "id": "1Wn-lGM2THWy"
      },
      "execution_count": 3,
      "outputs": []
    },
    {
      "cell_type": "code",
      "source": [
        "fd=open(\"test.txt\",\"x\")\n",
        "fd.write(\"All is Well\")\n",
        "fd.write(\"\\nC The Change\")\n",
        "fd.close()"
      ],
      "metadata": {
        "id": "xjZixds_Y_7C"
      },
      "execution_count": 8,
      "outputs": []
    },
    {
      "cell_type": "code",
      "source": [
        "#reading test.txt\n",
        "fd=open(\"test.txt\",\"r\")\n",
        "print(fd.read())\n",
        "fd.close()"
      ],
      "metadata": {
        "colab": {
          "base_uri": "https://localhost:8080/"
        },
        "id": "8rOXz8KWZOOM",
        "outputId": "b7642aaf-a223-4b6a-b631-52e0ac6c94b0"
      },
      "execution_count": 9,
      "outputs": [
        {
          "output_type": "stream",
          "name": "stdout",
          "text": [
            "All is Well\n",
            "C The Change\n"
          ]
        }
      ]
    },
    {
      "cell_type": "code",
      "source": [
        "fd=open(\"myfile.txt\",\"w\")   #x\n",
        "for i in range(int(input(\"Enter No:\"))):\n",
        "    line=input()\n",
        "    fd.write(line)\n",
        "    fd.write(\"\\n\")\n",
        "\n",
        "fd.close()"
      ],
      "metadata": {
        "colab": {
          "base_uri": "https://localhost:8080/"
        },
        "id": "onkd4H11YbAy",
        "outputId": "a11d8ae7-9b3d-4b61-cdaf-2cdcd96f7399"
      },
      "execution_count": 31,
      "outputs": [
        {
          "name": "stdout",
          "output_type": "stream",
          "text": [
            "Enter No:5\n",
            "Hi,How are you?\n",
            "I am fine\n",
            "who are you?\n",
            "Its me\n",
            "I hope you forgot\n"
          ]
        }
      ]
    },
    {
      "cell_type": "code",
      "source": [
        "#read()\n",
        "#reads the entire file\n",
        "\n",
        "fd=open(\"myfile.txt\",\"r\")\n",
        "print(fd.read())\n",
        "fd.close()"
      ],
      "metadata": {
        "colab": {
          "base_uri": "https://localhost:8080/"
        },
        "id": "4dpxQ2vuTHZv",
        "outputId": "8387eac0-3a39-4158-8063-2015df17e270"
      },
      "execution_count": 29,
      "outputs": [
        {
          "output_type": "stream",
          "name": "stdout",
          "text": [
            "Hi, How are you?\n",
            "I' am fine\n",
            "Who are you?\n",
            "Its me\n",
            "I hope you forgot.\n",
            "ChangesChangesChangesChangesChangesChangesChanges\n"
          ]
        }
      ]
    },
    {
      "cell_type": "code",
      "source": [
        "#Readline =>read one line at a time\n",
        "fd=open(\"myfile.txt\",\"r\")\n",
        "print(fd.readline())\n",
        "fd.close()"
      ],
      "metadata": {
        "colab": {
          "base_uri": "https://localhost:8080/"
        },
        "id": "2SXhqt2aTHcd",
        "outputId": "58602f88-177c-41b1-84e1-a967857d769e"
      },
      "execution_count": 10,
      "outputs": [
        {
          "output_type": "stream",
          "name": "stdout",
          "text": [
            "Hi, How are you?\n",
            "\n"
          ]
        }
      ]
    },
    {
      "cell_type": "code",
      "source": [
        "#Readlines=>read entire file and return list of line\n",
        "fd=open(\"myfile.txt\",\"r\")\n",
        "print(fd.readlines())\n",
        "fd.close()"
      ],
      "metadata": {
        "colab": {
          "base_uri": "https://localhost:8080/"
        },
        "id": "dnzYcO47THe9",
        "outputId": "dd63a4e7-36bb-46d9-f2e7-f5bfcfbb52f3"
      },
      "execution_count": 11,
      "outputs": [
        {
          "output_type": "stream",
          "name": "stdout",
          "text": [
            "['Hi, How are you?\\n', \"I' am fine\\n\", 'Who are you?\\n', 'Its me\\n', 'I hope you forgot.\\n']\n"
          ]
        }
      ]
    },
    {
      "cell_type": "code",
      "source": [
        "#Readline =>read one line at a time\n",
        "#read entire file\n",
        "fd=open(\"myfile.txt\",\"r\")\n",
        "while True:\n",
        "    line=fd.readline()\n",
        "    print(line)\n",
        "    if line == \"\":\n",
        "        print(\"Reading completed...........!\")\n",
        "        break\n",
        "fd.close()"
      ],
      "metadata": {
        "colab": {
          "base_uri": "https://localhost:8080/"
        },
        "id": "MVRwewZwTHhm",
        "outputId": "0b2d1a05-8a5b-4ca5-e891-6700ed1340ee"
      },
      "execution_count": 12,
      "outputs": [
        {
          "output_type": "stream",
          "name": "stdout",
          "text": [
            "Hi, How are you?\n",
            "\n",
            "I' am fine\n",
            "\n",
            "Who are you?\n",
            "\n",
            "Its me\n",
            "\n",
            "I hope you forgot.\n",
            "\n",
            "\n",
            "Reading completed...........!\n"
          ]
        }
      ]
    },
    {
      "cell_type": "code",
      "source": [
        "#Navigation"
      ],
      "metadata": {
        "id": "lNucVPUSTHkQ"
      },
      "execution_count": null,
      "outputs": []
    },
    {
      "cell_type": "code",
      "source": [
        "fd=open(\"myfile.txt\",\"r\")\n",
        "print(fd.read())\n",
        "fd.close()"
      ],
      "metadata": {
        "colab": {
          "base_uri": "https://localhost:8080/"
        },
        "id": "oDL8VF2qTHm0",
        "outputId": "17b55d92-c96c-4aa9-ed51-bad481569d80"
      },
      "execution_count": 15,
      "outputs": [
        {
          "output_type": "stream",
          "name": "stdout",
          "text": [
            "Hi, How are you?\n",
            "I' am fine\n",
            "Who are you?\n",
            "Its me\n",
            "I hope you forgot.\n",
            "\n"
          ]
        }
      ]
    },
    {
      "cell_type": "code",
      "source": [
        "fd=open(\"myfile.txt\",\"r\")\n",
        "print(fd.readline())\n",
        "print(fd.tell())\n",
        "fd.close()"
      ],
      "metadata": {
        "colab": {
          "base_uri": "https://localhost:8080/"
        },
        "id": "ZvC-7XzOTHpa",
        "outputId": "da403a70-e548-4b28-9265-a5e7d1c8bef5"
      },
      "execution_count": 16,
      "outputs": [
        {
          "output_type": "stream",
          "name": "stdout",
          "text": [
            "Hi, How are you?\n",
            "\n",
            "17\n"
          ]
        }
      ]
    },
    {
      "cell_type": "code",
      "source": [
        "fd=open(\"myfile.txt\",\"r+\")\n",
        "print(fd.readline())\n",
        "print(fd.tell())  #17\n",
        "print(fd.readline())\n",
        "print(fd.tell())  #17\n",
        "print(fd.readline())\n",
        "print(fd.tell())  #17\n",
        "print(fd.readline())\n",
        "print(fd.tell())  #17\n",
        "print(fd.readline())\n",
        "\n",
        "\n",
        "fd.write(\"Changes\")  #\n",
        "print(fd.tell())  # 71\n",
        "\n",
        "print(fd.readline())\n",
        "print(fd.tell())\n",
        "fd.close()"
      ],
      "metadata": {
        "colab": {
          "base_uri": "https://localhost:8080/"
        },
        "id": "SZ8rvGgHTHru",
        "outputId": "faa4649b-36eb-4895-d87d-a0984b28a982"
      },
      "execution_count": 32,
      "outputs": [
        {
          "output_type": "stream",
          "name": "stdout",
          "text": [
            "Hi,How are you?\n",
            "\n",
            "16\n",
            "I am fine\n",
            "\n",
            "26\n",
            "who are you?\n",
            "\n",
            "39\n",
            "Its me\n",
            "\n",
            "46\n",
            "I hope you forgot\n",
            "\n",
            "71\n",
            "\n",
            "71\n"
          ]
        }
      ]
    },
    {
      "cell_type": "code",
      "source": [
        "fd=open(\"myfile.txt\",\"r\")\n",
        "print(fd.read())\n",
        "print(fd.tell())\n",
        "fd.close()"
      ],
      "metadata": {
        "colab": {
          "base_uri": "https://localhost:8080/"
        },
        "id": "Fv2O4WNNTHul",
        "outputId": "a4fd8d83-a804-4aca-c73e-110601407b01"
      },
      "execution_count": 33,
      "outputs": [
        {
          "output_type": "stream",
          "name": "stdout",
          "text": [
            "Hi,How are you?\n",
            "I am fine\n",
            "who are you?\n",
            "Its me\n",
            "I hope you forgot\n",
            "Changes\n",
            "71\n"
          ]
        }
      ]
    },
    {
      "cell_type": "code",
      "source": [
        "#seek\n",
        "seek(offset,whence)\n",
        "offset-no of byte\n",
        "Whence -> Begin-0    current-1"
      ],
      "metadata": {
        "id": "RcM65d3qTHxE"
      },
      "execution_count": null,
      "outputs": []
    },
    {
      "cell_type": "code",
      "source": [
        "fd=open(\"myfile.txt\",\"r+\")\n",
        "print(fd.readline())\n",
        "print(fd.tell())\n",
        "fd.seek(16,0)\n",
        "fd.write(\"Changes\")\n",
        "print(fd.tell())\n",
        "#fd.seek(0,0)\n",
        "print(fd.read())\n",
        "fd.close()"
      ],
      "metadata": {
        "colab": {
          "base_uri": "https://localhost:8080/"
        },
        "id": "Zc1Qjey0THzs",
        "outputId": "fd14a900-e323-48e3-a3c2-ebc03c197c0d"
      },
      "execution_count": 35,
      "outputs": [
        {
          "output_type": "stream",
          "name": "stdout",
          "text": [
            "Hi,How are you?\n",
            "\n",
            "16\n",
            "23\n",
            "ne\n",
            "who are you?\n",
            "Its me\n",
            "I hope you forgot\n",
            "Changes\n"
          ]
        }
      ]
    },
    {
      "cell_type": "code",
      "source": [
        "fd=open(\"myfile.txt\",\"r\")\n",
        "print(fd.read())\n",
        "fd.close()"
      ],
      "metadata": {
        "colab": {
          "base_uri": "https://localhost:8080/"
        },
        "id": "o4WoPRy4TH2R",
        "outputId": "a5593b6e-6ac9-4d8b-ede0-f32d6a0a920f"
      },
      "execution_count": 36,
      "outputs": [
        {
          "output_type": "stream",
          "name": "stdout",
          "text": [
            "Hi,How are you?\n",
            "Changesne\n",
            "who are you?\n",
            "Its me\n",
            "I hope you forgot\n",
            "Changes\n"
          ]
        }
      ]
    },
    {
      "cell_type": "code",
      "source": [
        "#File Attributes:\n",
        "        #fd.closed      =>return True\n",
        "        #fd.mode       => access mode (r,w,.w+...etx)\n",
        "        #fd.name       =>return filename"
      ],
      "metadata": {
        "id": "0lIICxa_TH43"
      },
      "execution_count": null,
      "outputs": []
    },
    {
      "cell_type": "code",
      "source": [
        "fd=open(\"myfile.txt\",\"r+\")\n",
        "print(\"File Name:\",fd.name)\n",
        "print(\"File status:\",fd.closed)\n",
        "print(\"File Mode:\",fd.mode)\n",
        "fd.close()\n",
        "print(\"File status:\",fd.closed)\n"
      ],
      "metadata": {
        "colab": {
          "base_uri": "https://localhost:8080/"
        },
        "id": "7pB4e_LNdqxM",
        "outputId": "45b7b1fb-71c9-4c4a-9321-8312421c2b7c"
      },
      "execution_count": 37,
      "outputs": [
        {
          "output_type": "stream",
          "name": "stdout",
          "text": [
            "File Name: myfile.txt\n",
            "File status: False\n",
            "File Mode: r+\n",
            "File status: True\n"
          ]
        }
      ]
    },
    {
      "cell_type": "code",
      "source": [
        "#Files with Excpetion handling:\n",
        "try:\n",
        "    fd=open(\"myfile1.txt\",\"r+\")\n",
        "except FileNotFoundError as err:\n",
        "    print(\"You are trying to opne the file that doesn't exist\")\n",
        "    print(err)\n",
        "else:\n",
        "    print(fd.read())\n",
        "    print(\"File Reading  is done.....!\")\n",
        "finally:\n",
        "    print(\"File closed\")\n",
        "    fd.close()"
      ],
      "metadata": {
        "colab": {
          "base_uri": "https://localhost:8080/"
        },
        "id": "BTdzShAgdqz5",
        "outputId": "b609613d-f847-42c9-925b-ddce6b4226c5"
      },
      "execution_count": 40,
      "outputs": [
        {
          "output_type": "stream",
          "name": "stdout",
          "text": [
            "You are trying to opne the file that doesn't exist\n",
            "[Errno 2] No such file or directory: 'myfile1.txt'\n",
            "File closed\n"
          ]
        }
      ]
    },
    {
      "cell_type": "code",
      "source": [
        "#with open\n",
        "\n",
        "with open (\"FileName\",\"Mode\")  as fd:\n",
        "    #statement"
      ],
      "metadata": {
        "id": "57kGJzufdq3s"
      },
      "execution_count": null,
      "outputs": []
    },
    {
      "cell_type": "code",
      "source": [
        "with open(\"myfile.txt\",\"r+\") as fd:\n",
        "    print(fd.read())\n",
        "    print(\"File status:\",fd.closed)\n",
        "\n",
        "print(\"File status:\",fd.closed)"
      ],
      "metadata": {
        "colab": {
          "base_uri": "https://localhost:8080/"
        },
        "id": "GedkXBInfO6v",
        "outputId": "32d6e847-e7ac-4891-d75c-cf04e28b5fad"
      },
      "execution_count": 42,
      "outputs": [
        {
          "output_type": "stream",
          "name": "stdout",
          "text": [
            "Hi,How are you?\n",
            "Changesne\n",
            "who are you?\n",
            "Its me\n",
            "I hope you forgot\n",
            "Changes\n",
            "File status: False\n",
            "File status: True\n"
          ]
        }
      ]
    },
    {
      "cell_type": "code",
      "source": [
        "import csv"
      ],
      "metadata": {
        "id": "uL00vfk4fO9V"
      },
      "execution_count": null,
      "outputs": []
    },
    {
      "cell_type": "code",
      "source": [
        "#read and write in CSV file"
      ],
      "metadata": {
        "id": "dbIPYvjafPAZ"
      },
      "execution_count": null,
      "outputs": []
    },
    {
      "cell_type": "code",
      "source": [
        "fd=open(\"data.csv\",\"w\")\n",
        "line1=\"123, Ram, 9876543210,chn\"\n",
        "line2=\"124, Sam, 9876543211,chn\"\n",
        "line3=\"125, Sai, 9876543212,chn\"\n",
        "fd.write(line1)\n",
        "fd.write(\"\\n\")\n",
        "fd.write(line2)\n",
        "fd.write(\"\\n\")\n",
        "fd.write(line3)\n",
        "fd.write(\"\\n\")\n",
        "fd.close()\n"
      ],
      "metadata": {
        "id": "mcalqB29fPJK"
      },
      "execution_count": 46,
      "outputs": []
    },
    {
      "cell_type": "code",
      "source": [
        "with open(\"data.csv\",\"r\") as fd:\n",
        "    print(fd.read())"
      ],
      "metadata": {
        "colab": {
          "base_uri": "https://localhost:8080/"
        },
        "id": "s39Obvijf4sQ",
        "outputId": "d9d4cb0c-6278-4b02-e79f-90bf9fbd6b6b"
      },
      "execution_count": 47,
      "outputs": [
        {
          "output_type": "stream",
          "name": "stdout",
          "text": [
            "123, Ram, 9876543210,chn\n",
            "124, Sam, 9876543211,chn\n",
            "125, Sai, 9876543212,chn\n",
            "\n"
          ]
        }
      ]
    },
    {
      "cell_type": "code",
      "source": [
        "fd=open(\"data.xlsx\",\"w\")\n",
        "line1=\"123, Ram, 9876543210,chn\"\n",
        "line2=\"124, Sam, 9876543211,chn\"\n",
        "line3=\"125, Sai, 9876543212,chn\"\n",
        "fd.write(line1)\n",
        "fd.write(\"\\n\")\n",
        "fd.write(line2)\n",
        "fd.write(\"\\n\")\n",
        "fd.write(line3)\n",
        "fd.write(\"\\n\")\n",
        "fd.close()"
      ],
      "metadata": {
        "id": "cGYtwqx-f4vI"
      },
      "execution_count": 48,
      "outputs": []
    },
    {
      "cell_type": "code",
      "source": [
        "with open(\"data.xlsx\",\"r\") as fd:\n",
        "    print(fd.read())"
      ],
      "metadata": {
        "colab": {
          "base_uri": "https://localhost:8080/"
        },
        "id": "Bh_aRyXLf4yT",
        "outputId": "8f7771f3-b891-4ebc-891e-cfd37749028c"
      },
      "execution_count": 49,
      "outputs": [
        {
          "output_type": "stream",
          "name": "stdout",
          "text": [
            "123, Ram, 9876543210,chn\n",
            "124, Sam, 9876543211,chn\n",
            "125, Sai, 9876543212,chn\n",
            "\n"
          ]
        }
      ]
    },
    {
      "cell_type": "markdown",
      "source": [
        "### Regular Expression"
      ],
      "metadata": {
        "id": "7x8mrv2kTL7r"
      }
    },
    {
      "cell_type": "code",
      "source": [
        "#partten matching\n",
        "        #Eg: IP address,emailID,password,PAN card,postcode ,mobile no...etc"
      ],
      "metadata": {
        "id": "jizXgbYfg7Fe"
      },
      "execution_count": null,
      "outputs": []
    },
    {
      "cell_type": "code",
      "source": [
        "#Metacharacter"
      ],
      "metadata": {
        "id": "gndJ0VELg7JP"
      },
      "execution_count": null,
      "outputs": []
    },
    {
      "cell_type": "code",
      "source": [
        "#print(\\n)   #newline\n",
        "#print(\\\\n) #\\n\n",
        "\n",
        "#var=[mat,pat,cat,sat,bat,rat]\n",
        "#[mpsr]at    =>mat,pat,sat,rat\n",
        "#[^mpsr]at   =>cat,bat\n",
        "\n",
        "?   => zero or 1\n",
        "*   => o or more\n",
        "+  =>>one or more\n",
        "\n",
        "Sam\n",
        "Samuel\n",
        "Sams\n",
        "\n",
        "Sam?   =>Sam,Sams\n",
        "Sam*  =>Sam,Samuel,Sams\n",
        "Sam+  =>Sams,Samuel\n"
      ],
      "metadata": {
        "id": "M_MQASC4heHg"
      },
      "execution_count": null,
      "outputs": []
    },
    {
      "cell_type": "code",
      "source": [
        "\n",
        "\\   Used to drop the special meaning of character following it\n",
        "\n",
        "[]  Matches the characters given within the []\n",
        "\n",
        "[^] Matches the characters except which is given within the []\n",
        "\n",
        "^   Matches the beginning of string\n",
        "\n",
        "$   Matches the end of string\n",
        "\n",
        ".   Matches any character except newline\n",
        "\n",
        "?   Matches zero or one occurrence.\n",
        "\n",
        "|   Means OR (Matches with any of the characters separated by it)\n",
        "\n",
        "*   Any number of occurrences (0 or more occurrences)\n",
        "\n",
        "+   One or more occurrences\n",
        "\n",
        "{}  Indicate number of occurrences of a preceding RE to match.\n",
        "{n} exact n number\n",
        "{n,m} n-min m-max\n",
        "\n",
        "()  Enclose a group of REs\n",
        "\n",
        "Note: To search any of these characters we must use '\\' before it"
      ],
      "metadata": {
        "id": "a208zYkfTOX5"
      },
      "execution_count": null,
      "outputs": []
    },
    {
      "cell_type": "code",
      "source": [
        "\n",
        "\\d   Matches any decimal digit, this is equivalent to the set class [0-9].\n",
        "\n",
        "\\D   Matches any non-digit character.\n",
        "\n",
        "\\s   Matches any whitespace character.\n",
        "\n",
        "\\S   Matches any non-whitespace character\n",
        "\n",
        "\\w   Matches any alphanumeric character, this is equivalent to the class [a-zA-Z0-9_].\n",
        "\n",
        "\\W   Matches any non-alphanumeric character.\n",
        "\n",
        "\\b   Matches any word with boundary (space before or its the starting)\n",
        "\n",
        "\\B   Matches any word without boundary"
      ],
      "metadata": {
        "id": "I0coUsexTSzC"
      },
      "execution_count": null,
      "outputs": []
    },
    {
      "cell_type": "code",
      "source": [
        "\n",
        "[0-9] Matches any number\n",
        "\n",
        "[^0-9] Matches anything other than number between 0 and 9\n",
        "\n",
        "[a-z] Matches any lowercase alphabet\n",
        "\n",
        "[^a-z] Matches anything other than lowercase alphabet\n",
        "\n",
        "[A-Z] Matches any uppercase alphabet\n",
        "\n",
        "[^A-Z] Matches anything other than uppercase alphab"
      ],
      "metadata": {
        "id": "XKMmTmXCTOmk"
      },
      "execution_count": null,
      "outputs": []
    },
    {
      "cell_type": "code",
      "source": [
        "import re"
      ],
      "metadata": {
        "id": "eqdAw2-XTbnq"
      },
      "execution_count": 50,
      "outputs": []
    },
    {
      "cell_type": "markdown",
      "source": [
        "### Match Function  -only for word"
      ],
      "metadata": {
        "id": "Gv9q9zC-TeS5"
      }
    },
    {
      "cell_type": "code",
      "source": [
        "#compile()\n",
        "#match()"
      ],
      "metadata": {
        "id": "OHHHZjcUTbsY"
      },
      "execution_count": null,
      "outputs": []
    },
    {
      "cell_type": "code",
      "source": [
        "mystr=\"Python\"\n",
        "pat=re.compile('P\\w*')    #0 or more\n",
        "\n",
        "res=pat.match(mystr)\n",
        "print(res)\n",
        "print(res.group())"
      ],
      "metadata": {
        "colab": {
          "base_uri": "https://localhost:8080/"
        },
        "id": "Ye6Aln3cTbvC",
        "outputId": "f898ae7a-5c0d-4b13-bbbf-8ab298e138ce"
      },
      "execution_count": 52,
      "outputs": [
        {
          "output_type": "stream",
          "name": "stdout",
          "text": [
            "<re.Match object; span=(0, 6), match='Python'>\n",
            "Python\n"
          ]
        }
      ]
    },
    {
      "cell_type": "code",
      "source": [
        "mystr=\"Python\"\n",
        "#pat=re.compile('P\\w*')    #0 or more\n",
        "\n",
        "res=re.match('P....n',mystr)\n",
        "print(res)\n",
        "print(res.group())"
      ],
      "metadata": {
        "colab": {
          "base_uri": "https://localhost:8080/"
        },
        "id": "DkAMB9OCTbxy",
        "outputId": "b08c4421-1005-4a7f-dc0f-42fd39c0b600"
      },
      "execution_count": 53,
      "outputs": [
        {
          "output_type": "stream",
          "name": "stdout",
          "text": [
            "<re.Match object; span=(0, 6), match='Python'>\n",
            "Python\n"
          ]
        }
      ]
    },
    {
      "cell_type": "code",
      "source": [
        "mystr=\"I love Python\"\n",
        "#pat=re.compile('P\\w*')    #0 or more\n",
        "\n",
        "res=re.match('P....n',mystr)\n",
        "print(res)\n",
        "#print(res.group())"
      ],
      "metadata": {
        "colab": {
          "base_uri": "https://localhost:8080/"
        },
        "id": "dvaH7Jj1kPex",
        "outputId": "18528a0f-8393-4e9a-8292-3c13f561f273"
      },
      "execution_count": 54,
      "outputs": [
        {
          "output_type": "stream",
          "name": "stdout",
          "text": [
            "None\n"
          ]
        }
      ]
    },
    {
      "cell_type": "markdown",
      "source": [
        "## Split Function"
      ],
      "metadata": {
        "id": "dzzXvJlPUxxW"
      }
    },
    {
      "cell_type": "code",
      "source": [
        "mystr=\"This is our session  on  Regular expression\"\n",
        "print(re.split(\"\\s\",mystr))   #return type-list"
      ],
      "metadata": {
        "colab": {
          "base_uri": "https://localhost:8080/"
        },
        "id": "KHz1uqcITb1f",
        "outputId": "8c24ae2e-d1e2-4581-c9d9-4902ee782e66"
      },
      "execution_count": 56,
      "outputs": [
        {
          "output_type": "stream",
          "name": "stdout",
          "text": [
            "['This', 'is', 'our', 'session', '', 'on', '', 'Regular', 'expression']\n"
          ]
        }
      ]
    },
    {
      "cell_type": "markdown",
      "source": [
        "### Findall Function"
      ],
      "metadata": {
        "id": "E0k-SsAtU2dH"
      }
    },
    {
      "cell_type": "code",
      "source": [
        "mystr=\"This is our session  on  Regular expression.Our session cover OOP. In the Session we had extensive hand-on.\"\n",
        "print(re.findall(\"session\",mystr))"
      ],
      "metadata": {
        "colab": {
          "base_uri": "https://localhost:8080/"
        },
        "id": "UA_bAOdoU4HI",
        "outputId": "cbb9da12-be7e-4225-9689-29c5b53a6ded"
      },
      "execution_count": 57,
      "outputs": [
        {
          "output_type": "stream",
          "name": "stdout",
          "text": [
            "['session', 'session']\n"
          ]
        }
      ]
    },
    {
      "cell_type": "code",
      "source": [
        "print(re.findall(\"session\",mystr,re.I))"
      ],
      "metadata": {
        "colab": {
          "base_uri": "https://localhost:8080/"
        },
        "id": "O3xXgj13U4S_",
        "outputId": "940aad21-4890-4f2a-b0a6-959170cf5c30"
      },
      "execution_count": 58,
      "outputs": [
        {
          "output_type": "stream",
          "name": "stdout",
          "text": [
            "['session', 'session', 'Session']\n"
          ]
        }
      ]
    },
    {
      "cell_type": "code",
      "source": [
        "mystr=\"training@123#$Python\"    #fetch all the alpha numeric character"
      ],
      "metadata": {
        "id": "mkxzZ9bJlQZ2"
      },
      "execution_count": null,
      "outputs": []
    },
    {
      "cell_type": "code",
      "source": [
        "import re\n",
        "\n",
        "mystr = \"training@123#$python\"\n",
        "alphanumeric_characters = re.findall(r'\\w', mystr)\n",
        "result = ''.join(alphanumeric_characters)\n",
        "\n",
        "print(result)\n",
        ""
      ],
      "metadata": {
        "colab": {
          "base_uri": "https://localhost:8080/"
        },
        "id": "-xwIzYmalQf1",
        "outputId": "ff2cfcd5-965a-4ede-e5f2-7ff37b9c281f"
      },
      "execution_count": 62,
      "outputs": [
        {
          "output_type": "stream",
          "name": "stdout",
          "text": [
            "training123python\n"
          ]
        }
      ]
    },
    {
      "cell_type": "code",
      "source": [
        "result = re.findall('\\w*',mystr)    #\\w\n",
        "print(result)"
      ],
      "metadata": {
        "colab": {
          "base_uri": "https://localhost:8080/"
        },
        "id": "7z4u2HZKlRO1",
        "outputId": "f8f3398c-7359-4a00-fe3f-95fc9cafdeca"
      },
      "execution_count": 65,
      "outputs": [
        {
          "output_type": "stream",
          "name": "stdout",
          "text": [
            "['training', '', '123', '', '', 'python', '']\n"
          ]
        }
      ]
    },
    {
      "cell_type": "code",
      "source": [
        "### Search Function"
      ],
      "metadata": {
        "id": "YArww3x5U60K"
      },
      "execution_count": null,
      "outputs": []
    },
    {
      "cell_type": "code",
      "source": [
        "mystr=\"This is our session  on  Regular expression.Our session is covering OOP. In the Session we had extensive hand-on.\"\n",
        "res=re.search(\"our\",mystr,re.I)\n",
        "print(res.start())\n"
      ],
      "metadata": {
        "colab": {
          "base_uri": "https://localhost:8080/"
        },
        "id": "ASL8Jw6mU63l",
        "outputId": "a8711247-9050-47a2-a215-0a1a942b5587"
      },
      "execution_count": 68,
      "outputs": [
        {
          "output_type": "stream",
          "name": "stdout",
          "text": [
            "8\n"
          ]
        }
      ]
    },
    {
      "cell_type": "code",
      "source": [
        "#mailID\n",
        "mystr=\"Please reach out at techi@sugan.com\"    #word@word.word\n",
        "res=re.search( \"\\w+@\\w+\\.\\w+\"    ,mystr)\n",
        "print(res.group())"
      ],
      "metadata": {
        "colab": {
          "base_uri": "https://localhost:8080/"
        },
        "id": "oqV5KWbdU8Kd",
        "outputId": "22f8414d-7ce7-4354-bb8f-49de50374e93"
      },
      "execution_count": 69,
      "outputs": [
        {
          "output_type": "stream",
          "name": "stdout",
          "text": [
            "techi@sugan.com\n"
          ]
        }
      ]
    },
    {
      "cell_type": "code",
      "source": [
        "#userName:\n",
        "#Domain:\n",
        "#ext:"
      ],
      "metadata": {
        "id": "VQ_DGIGvU8OB"
      },
      "execution_count": null,
      "outputs": []
    },
    {
      "cell_type": "code",
      "source": [
        "mystr=\"Please reach out at techi@sugan.com\"    #word@word.word\n",
        "res=re.search( \"(\\w+)@(\\w+)\\.(\\w+)\"    ,mystr)\n",
        "print(res.group())\n",
        "print(\"UserName:\",res.group(1))\n",
        "print(\"Domain:\",res.group(2))\n",
        "print(\"Extension:\",res.group(3))"
      ],
      "metadata": {
        "colab": {
          "base_uri": "https://localhost:8080/"
        },
        "id": "MO_Uk0_Xolev",
        "outputId": "3b08b2b5-ada7-4858-f17f-0979a1b6e421"
      },
      "execution_count": 70,
      "outputs": [
        {
          "output_type": "stream",
          "name": "stdout",
          "text": [
            "techi@sugan.com\n",
            "UserName: techi\n",
            "Domain: sugan\n",
            "Extension: com\n"
          ]
        }
      ]
    },
    {
      "cell_type": "code",
      "source": [
        "#Finditr Function"
      ],
      "metadata": {
        "id": "VTjHTUXao0O9"
      },
      "execution_count": null,
      "outputs": []
    },
    {
      "cell_type": "code",
      "source": [
        "%%writefile testfile.txt\n",
        "cat\n",
        "bat\n",
        "sat\n",
        "pat\n",
        "mat\n",
        "rat"
      ],
      "metadata": {
        "colab": {
          "base_uri": "https://localhost:8080/"
        },
        "id": "Kr2I63uOo_4Z",
        "outputId": "8a697418-7524-4b5d-edda-1fac8db0509f"
      },
      "execution_count": 71,
      "outputs": [
        {
          "output_type": "stream",
          "name": "stdout",
          "text": [
            "Writing testfile.txt\n"
          ]
        }
      ]
    },
    {
      "cell_type": "code",
      "source": [
        "#all the word that ends wit at except bat"
      ],
      "metadata": {
        "id": "pJbVCG40pJ71"
      },
      "execution_count": null,
      "outputs": []
    },
    {
      "cell_type": "code",
      "source": [
        "pat=re.compile('[^b]at')\n",
        "\n",
        "with open('testfile.txt','r') as fd:\n",
        "    contents=fd.read()\n",
        "\n",
        "mymatch=pat.finditer(contents)\n",
        "print(mymatch)\n",
        "\n",
        "for i in mymatch:\n",
        "    print(i,\"======>\",i.group())"
      ],
      "metadata": {
        "colab": {
          "base_uri": "https://localhost:8080/"
        },
        "id": "GZE1SMmlpUmS",
        "outputId": "b6574a05-c73d-4500-a892-94bf626c387a"
      },
      "execution_count": 73,
      "outputs": [
        {
          "output_type": "stream",
          "name": "stdout",
          "text": [
            "<callable_iterator object at 0x7b3c70e380a0>\n",
            "<re.Match object; span=(0, 3), match='cat'> ======> cat\n",
            "<re.Match object; span=(8, 11), match='sat'> ======> sat\n",
            "<re.Match object; span=(12, 15), match='pat'> ======> pat\n",
            "<re.Match object; span=(17, 20), match='mat'> ======> mat\n",
            "<re.Match object; span=(21, 24), match='rat'> ======> rat\n"
          ]
        }
      ]
    },
    {
      "cell_type": "code",
      "source": [
        "%%writefile mydata.txt\n",
        "Hello, this is a quick file.\n",
        "so, I am writting something here is my mobile number 77.505.3333.1  and 99-404-4444-2"
      ],
      "metadata": {
        "colab": {
          "base_uri": "https://localhost:8080/"
        },
        "id": "v5hF6Kp_pyeM",
        "outputId": "8204f3bb-67be-4d5b-8463-6966e40b5571"
      },
      "execution_count": 74,
      "outputs": [
        {
          "output_type": "stream",
          "name": "stdout",
          "text": [
            "Writing mydata.txt\n"
          ]
        }
      ]
    },
    {
      "cell_type": "code",
      "source": [
        "#1.fetch the mobile number where we have . or - as a seperator\n",
        "#2.fetch the mobile number where we have  frist digit must be between range of (7 to 9). or - as a seperator\n",
        "#3.fetch the mobile number where we have . or - as a seperator by applying condition first 2digit /3digit/4type/1digit"
      ],
      "metadata": {
        "id": "ROyIeeQCqZEX"
      },
      "execution_count": null,
      "outputs": []
    },
    {
      "cell_type": "code",
      "source": [
        "#pat=re.compile('\\d+[.-]\\d+[.-]\\d+[.-]\\d')\n",
        "#pat=re.compile('\\d{2}[.-]\\d{3}[.-]\\d{4}[.-]\\d')\n",
        "pat=re.compile('[7-9]\\d[.-]\\d{3}[.-]\\d{4}[.-]\\d')  #^\n",
        "\n",
        "with open('mydata.txt','r') as fd:\n",
        "    contents=fd.read()\n",
        "\n",
        "mymatch=pat.finditer(contents)\n",
        "print(mymatch)\n",
        "\n",
        "for i in mymatch:\n",
        "    print(i,\"======>\",i.group())"
      ],
      "metadata": {
        "colab": {
          "base_uri": "https://localhost:8080/"
        },
        "id": "aNCddTnHurGs",
        "outputId": "a2f45388-7f6a-48f7-a7db-aac1b6fa3cdc"
      },
      "execution_count": 77,
      "outputs": [
        {
          "output_type": "stream",
          "name": "stdout",
          "text": [
            "<callable_iterator object at 0x7b3c7106c4c0>\n",
            "<re.Match object; span=(82, 95), match='77.505.3333.1'> ======> 77.505.3333.1\n",
            "<re.Match object; span=(101, 114), match='99-404-4444-2'> ======> 99-404-4444-2\n"
          ]
        }
      ]
    },
    {
      "cell_type": "code",
      "source": [
        "#1.PAN\n",
        "#2.Mobile\n",
        "#3.Website"
      ],
      "metadata": {
        "id": "tsN-R7n7u-4n"
      },
      "execution_count": null,
      "outputs": []
    }
  ]
}