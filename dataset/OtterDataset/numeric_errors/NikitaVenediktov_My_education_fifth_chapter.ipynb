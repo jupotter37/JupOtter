{
 "cells": [
  {
   "attachments": {},
   "cell_type": "markdown",
   "metadata": {},
   "source": [
    "# 5.1. Объектная модель Python. Классы, поля и методы\n",
    "<!-- dsfg -->"
   ]
  },
  {
   "attachments": {},
   "cell_type": "markdown",
   "metadata": {},
   "source": [
    "## в питоне все явлется обхектами, а каждый объект относится в какому-то классу поеэтому можно любой объект проверить на класс\n"
   ]
  },
  {
   "cell_type": "code",
   "execution_count": 7,
   "metadata": {},
   "outputs": [
    {
     "name": "stdout",
     "output_type": "stream",
     "text": [
      "<class 'int'>\n",
      "<class 'float'>\n",
      "<class 'function'>\n"
     ]
    }
   ],
   "source": [
    "print(type(1))\n",
    "print(type(.1))\n",
    "print(type(lambda x: (x in range(5))))"
   ]
  },
  {
   "attachments": {},
   "cell_type": "markdown",
   "metadata": {},
   "source": [
    "class <ИмяКласса>:\n",
    "    <описание класса>"
   ]
  },
  {
   "cell_type": "code",
   "execution_count": null,
   "metadata": {},
   "outputs": [],
   "source": [
    "class Car:\n",
    "    pass # заглушка"
   ]
  },
  {
   "attachments": {},
   "cell_type": "markdown",
   "metadata": {},
   "source": [
    "Свойства объектов называются атрибутами. По сути атрибуты — переменные, в значениях которых хранятся свойства объекта. Для создания или изменения значения атрибута необходимо использовать следующий синтаксис:\n",
    "```\n",
    "<имя_объекта>.<имя_атрибута> = <значение>\n",
    "```\n",
    "Действия объектов называются методами. Методы очень похожи на функции, в них можно передавать аргументы и возвращать значения с помощью оператора return, но вызываются методы после указания конкретного объекта. Для создания метода используется следующий синтаксис:\n",
    "```\n",
    "def <имя_метода>(self, <аргументы>):\n",
    "    <тело метода>\n",
    "```"
   ]
  },
  {
   "attachments": {},
   "cell_type": "markdown",
   "metadata": {},
   "source": [
    "В методах первым аргументом всегда идёт объект self. Он является объектом, для которого вызван метод. self позволяет использовать внутри описания класса атрибуты объекта в методах и вызывать сами методы.\n",
    "\n",
    "Во всех классах Python есть специальный метод __init()__, который вызывается при создании объекта. В этом методе происходит инициализация всех атрибутов класса. В методы можно передавать аргументы. Вернёмся к нашему примеру и создадим в классе метод __init()__, который будет при создании автомобиля принимать его свойства как аргументы:\n"
   ]
  },
  {
   "cell_type": "code",
   "execution_count": null,
   "metadata": {},
   "outputs": [],
   "source": [
    "class Car:\n",
    "\n",
    "    def __init__(self, color, consumption, tank_volume, mileage=0):\n",
    "        self.color = color\n",
    "        self.consumption = consumption\n",
    "        self.tank_volume = tank_volume\n",
    "        self.reserve = tank_volume\n",
    "        self.mileage = mileage\n",
    "        self.engine_on = False"
   ]
  },
  {
   "attachments": {},
   "cell_type": "markdown",
   "metadata": {},
   "source": [
    "Итак, мы создали класс автомобилей и описали метод __init__() для инициализации его объектов. Для создания объекта класса нужно использовать следующий синтаксис:\n",
    "\n",
    "```<имя_объекта> = <ИмяКласса>(<аргументы метода __init__>)```\n",
    "\n",
    "Создадим в программе автомобиль класса Car. Для этого добавим следующую строку в основной код программы после описания класса, отделив от класса согласно PEP8 двумя пустыми строками:\n",
    "\n",
    "```car_1 = Car(color=\"black\", consumption=10, tank_volume=55)```"
   ]
  },
  {
   "cell_type": "code",
   "execution_count": 8,
   "metadata": {},
   "outputs": [
    {
     "name": "stdout",
     "output_type": "stream",
     "text": [
      "Двигатель запущен.\n",
      "Проехали 100 км. Остаток топлива: 45.0 л.\n",
      "Проехали 100 км. Остаток топлива: 35.0 л.\n",
      "Проехали 100 км. Остаток топлива: 25.0 л.\n",
      "Малый запас топлива.\n",
      "Пробег 300 км.\n",
      "Запас топлива 25.0 л.\n",
      "Двигатель остановлен.\n",
      "Двигатель не запущен.\n"
     ]
    }
   ],
   "source": [
    "class Car:\n",
    "\n",
    "    def __init__(self, color, consumption, tank_volume, mileage=0):\n",
    "        self.color = color\n",
    "        self.consumption = consumption\n",
    "        self.tank_volume = tank_volume\n",
    "        self.reserve = tank_volume\n",
    "        self.mileage = mileage\n",
    "        self.engine_on = False\n",
    "\n",
    "    def start_engine(self):\n",
    "        if not self.engine_on and self.reserve > 0:\n",
    "            self.engine_on = True\n",
    "            return \"Двигатель запущен.\"\n",
    "        return \"Двигатель уже был запущен.\"\n",
    "\n",
    "    def stop_engine(self):\n",
    "        if self.engine_on:\n",
    "            self.engine_on = False\n",
    "            return \"Двигатель остановлен.\"\n",
    "        return \"Двигатель уже был остановлен.\"\n",
    "\n",
    "    def drive(self, distance):\n",
    "        if not self.engine_on:\n",
    "            return \"Двигатель не запущен.\"\n",
    "        if self.reserve / self.consumption * 100 < distance:\n",
    "            return \"Малый запас топлива.\"\n",
    "        self.mileage += distance\n",
    "        self.reserve -= distance / 100 * self.consumption\n",
    "        return f\"Проехали {distance} км. Остаток топлива: {self.reserve} л.\"\n",
    "\n",
    "    def refuel(self):\n",
    "        self.reserve = self.tank_volume\n",
    "\n",
    "    def get_mileage(self):\n",
    "        return self.mileage\n",
    "\n",
    "    def get_reserve(self):\n",
    "        return self.reserve\n",
    "\n",
    "\n",
    "car_1 = Car(color=\"black\", consumption=10, tank_volume=55)\n",
    "print(car_1.start_engine())\n",
    "print(car_1.drive(100))\n",
    "print(car_1.drive(100))\n",
    "print(car_1.drive(100))\n",
    "print(car_1.drive(300))\n",
    "print(f\"Пробег {car_1.get_mileage()} км.\")\n",
    "print(f\"Запас топлива {car_1.get_reserve()} л.\")\n",
    "print(car_1.stop_engine())\n",
    "print(car_1.drive(100))"
   ]
  },
  {
   "attachments": {},
   "cell_type": "markdown",
   "metadata": {},
   "source": [
    "Обратите внимание: взаимодействие с объектом класса вне описания класса осуществляется только с помощью методов и прямого доступа к атрибутам не происходит. Этот принцип ООП называется инкапсуляцией.\n",
    "\n",
    "`Инкапсуляция` заключается в сокрытии внутреннего устройства класса за интерфейсом, состоящим из методов класса. Это необходимо, чтобы не нарушать логику работы методов внутри класса. Если не следовать принципу инкапсуляции и попытаться взаимодействовать с атрибутами напрямую, то могут происходить изменения, которые приведут к ошибкам. Например, если в нашем примере попытаться изменить пробег напрямую, а не с помощью метода drive(), то автомобиль проедет указанный путь даже с пустым баком и без расхода топлива:"
   ]
  },
  {
   "cell_type": "code",
   "execution_count": 9,
   "metadata": {},
   "outputs": [
    {
     "name": "stdout",
     "output_type": "stream",
     "text": [
      "Пробег 1000 км.\n",
      "Запас топлива 55 л.\n"
     ]
    }
   ],
   "source": [
    "car_1 = Car(color=\"black\", consumption=10, tank_volume=55)\n",
    "car_1.mileage = 1000\n",
    "print(f\"Пробег {car_1.get_mileage()} км.\")\n",
    "print(f\"Запас топлива {car_1.get_reserve()} л.\")"
   ]
  },
  {
   "cell_type": "code",
   "execution_count": 10,
   "metadata": {},
   "outputs": [],
   "source": [
    "class ElectricCar:\n",
    "\n",
    "    def __init__(self, color, consumption, bat_capacity, mileage=0):\n",
    "        self.color = color\n",
    "        self.consumption = consumption\n",
    "        self.bat_capacity = bat_capacity\n",
    "        self.reserve = bat_capacity\n",
    "        self.mileage = mileage\n",
    "        self.engine_on = False\n",
    "\n",
    "    def start_engine(self):\n",
    "        if not self.engine_on and self.reserve > 0:\n",
    "            self.engine_on = True\n",
    "            return \"Двигатель запущен.\"\n",
    "        return \"Двигатель уже был запущен.\"\n",
    "\n",
    "    def stop_engine(self):\n",
    "        if self.engine_on:\n",
    "            self.engine_on = False\n",
    "            return \"Двигатель остановлен.\"\n",
    "        return \"Двигатель уже был остановлен.\"\n",
    "\n",
    "    def drive(self, distance):\n",
    "        if not self.engine_on:\n",
    "            return \"Двигатель не запущен.\"\n",
    "        if self.reserve / self.consumption * 100 < distance:\n",
    "            return \"Малый заряд батареи.\"\n",
    "        self.mileage += distance\n",
    "        self.reserve -= distance / 100 * self.consumption\n",
    "        return f\"Проехали {distance} км. Остаток заряда: {self.reserve} кВт*ч.\"\n",
    "\n",
    "    def recharge(self):\n",
    "        self.reserve = self.bat_capacity\n",
    "\n",
    "    def get_mileage(self):\n",
    "        return self.mileage\n",
    "\n",
    "    def get_reserve(self):\n",
    "        return self.reserve"
   ]
  },
  {
   "attachments": {},
   "cell_type": "markdown",
   "metadata": {},
   "source": [
    "Напишем функцию range_reserve(), которая будет определять для автомобилей классов Car и ElectricCar запас хода в километрах. Функции, которые могут работать с объектами разных классов, называются полиморфными. А сам принцип ООП называется `полиморфизмом`.\n",
    "\n",
    "Чтобы функция работала для объектов обоих классов, необходимо предусмотреть одинаковый интерфейс в классах. Это означает, что методы классов, используемые в функции, должны называться одинаково, принимать одинаковые аргументы и возвращать значения одного типа данных."
   ]
  },
  {
   "cell_type": "code",
   "execution_count": 11,
   "metadata": {},
   "outputs": [
    {
     "name": "stdout",
     "output_type": "stream",
     "text": [
      "Запас хода: 550.0 км.\n",
      "Запас хода: 600.0 км.\n"
     ]
    }
   ],
   "source": [
    "class Car:\n",
    "\n",
    "    def __init__(self, color, consumption, tank_volume, mileage=0):\n",
    "        self.color = color\n",
    "        self.consumption = consumption\n",
    "        self.tank_volume = tank_volume\n",
    "        self.reserve = tank_volume\n",
    "        self.mileage = mileage\n",
    "        self.engine_on = False\n",
    "\n",
    "    def start_engine(self):\n",
    "        if not self.engine_on and self.reserve > 0:\n",
    "            self.engine_on = True\n",
    "            return \"Двигатель запущен.\"\n",
    "        return \"Двигатель уже был запущен.\"\n",
    "\n",
    "    def stop_engine(self):\n",
    "        if self.engine_on:\n",
    "            self.engine_on = False\n",
    "            return \"Двигатель остановлен.\"\n",
    "        return \"Двигатель уже был остановлен.\"\n",
    "\n",
    "    def drive(self, distance):\n",
    "        if not self.engine_on:\n",
    "            return \"Двигатель не запущен.\"\n",
    "        if self.reserve / self.consumption * 100 < distance:\n",
    "            return \"Малый запас топлива.\"\n",
    "        self.mileage += distance\n",
    "        self.reserve -= distance / 100 * self.consumption\n",
    "        return f\"Проехали {distance} км. Остаток топлива: {self.reserve} л.\"\n",
    "\n",
    "    def refuel(self):\n",
    "        self.reserve = self.tank_volume\n",
    "\n",
    "    def get_mileage(self):\n",
    "        return self.mileage\n",
    "\n",
    "    def get_reserve(self):\n",
    "        return self.reserve\n",
    "\n",
    "    def get_consumption(self):\n",
    "        return self.consumption\n",
    "\n",
    "\n",
    "class ElectricCar:\n",
    "\n",
    "    def __init__(self, color, consumption, bat_capacity, mileage=0):\n",
    "        self.color = color\n",
    "        self.consumption = consumption\n",
    "        self.bat_capacity = bat_capacity\n",
    "        self.reserve = bat_capacity\n",
    "        self.mileage = mileage\n",
    "        self.engine_on = False\n",
    "\n",
    "    def start_engine(self):\n",
    "        if not self.engine_on and self.reserve > 0:\n",
    "            self.engine_on = True\n",
    "            return \"Двигатель запущен.\"\n",
    "        return \"Двигатель уже был запущен.\"\n",
    "\n",
    "    def stop_engine(self):\n",
    "        if self.engine_on:\n",
    "            self.engine_on = False\n",
    "            return \"Двигатель остановлен.\"\n",
    "        return \"Двигатель уже был остановлен.\"\n",
    "\n",
    "    def drive(self, distance):\n",
    "        if not self.engine_on:\n",
    "            return \"Двигатель не запущен.\"\n",
    "        if self.reserve / self.consumption * 100 < distance:\n",
    "            return \"Малый заряд батареи.\"\n",
    "        self.mileage += distance\n",
    "        self.reserve -= distance / 100 * self.consumption\n",
    "        return f\"Проехали {distance} км. Остаток заряда: {self.reserve} кВт*ч.\"\n",
    "\n",
    "    def recharge(self):\n",
    "        self.reserve = self.bat_capacity\n",
    "\n",
    "    def get_mileage(self):\n",
    "        return self.mileage\n",
    "\n",
    "    def get_reserve(self):\n",
    "        return self.reserve\n",
    "\n",
    "    def get_consumption(self):\n",
    "        return self.consumption\n",
    "\n",
    "\n",
    "def range_reserve(car):\n",
    "    return car.get_reserve() / car.get_consumption() * 100\n",
    "\n",
    "\n",
    "car_1 = Car(color=\"black\", consumption=10, tank_volume=55)\n",
    "car_2 = ElectricCar(color=\"white\", consumption=15, bat_capacity=90)\n",
    "print(f\"Запас хода: {range_reserve(car_1)} км.\")\n",
    "print(f\"Запас хода: {range_reserve(car_2)} км.\")"
   ]
  },
  {
   "attachments": {},
   "cell_type": "markdown",
   "metadata": {},
   "source": [
    "# 5.2. Волшебные методы, переопределение методов. Наследование"
   ]
  },
  {
   "attachments": {},
   "cell_type": "markdown",
   "metadata": {},
   "source": [
    "В ООП для создания новых классов на основе других применяется принцип `наследования`.\n",
    "\n",
    "Наследование позволяет при создании нового класса указать для него `базовый класс`. От базового класса `наследуется вся его структура – атрибуты и методы`. Созданный класс-наследник называется `производным классом`\n",
    "\n",
    "Покажем принцип наследования на примере. Напишем класс \"карандаш\"\" Pencil, который в качестве атрибута хранит цвет карандаша. Карандашом можно нарисовать рисунок. Также напишем класс \"ручка\" Pen, который также хранит цвет, но кроме создания рисунка может ещё и подписать документ, если цвет ручки синий, чёрный или фиолетовый."
   ]
  },
  {
   "cell_type": "code",
   "execution_count": 1,
   "metadata": {},
   "outputs": [
    {
     "name": "stdout",
     "output_type": "stream",
     "text": [
      "Нарисован рисунок цветом 'синий'.\n",
      "Подписан документ.\n",
      "Нарисован рисунок цветом 'красный'.\n",
      "Ручкой цвета 'красный' нельзя подписать документ.\n"
     ]
    }
   ],
   "source": [
    "class Pencil:\n",
    "\n",
    "    def __init__(self, color=\"серый\"):\n",
    "        self.color = color\n",
    "\n",
    "    def draw_picture(self):\n",
    "        return f\"Нарисован рисунок цветом '{self.color}'.\"\n",
    "\n",
    "\n",
    "class Pen(Pencil):\n",
    "\n",
    "    def sign_document(self):\n",
    "        if self.color not in (\"синий\", \"чёрный\", \"фиолетовый\"):\n",
    "            return f\"Ручкой цвета '{self.color}' нельзя подписать документ.\"\n",
    "        return f\"Подписан документ.\"\n",
    "\n",
    "\n",
    "blue_pen = Pen(color=\"синий\")\n",
    "print(blue_pen.draw_picture())\n",
    "print(blue_pen.sign_document())\n",
    "red_pen = Pen(color=\"красный\")\n",
    "print(red_pen.draw_picture())\n",
    "print(red_pen.sign_document())"
   ]
  },
  {
   "attachments": {},
   "cell_type": "markdown",
   "metadata": {},
   "source": [
    "Добавим в классе \"ручка\" возможность указать тип ручки: шариковая, гелевая, перьевая и так далее. И пусть подписать документ можно любой ручкой кроме гелевой. Для получения типа ручки нам нужно модифицировать метод __init__, добавив в него аргумент pen_type и сохранив его значение в атрибуте. Таким образом, нам нужно дополнить метод базового класса. `Такая операция при наследовании называется расширением метода.`\n",
    "\n",
    "При расширении методов необходимо вначале вызвать метод базового класса с помощью функции `super()`. Если этого не сделать, то не будут созданы атрибуты базового класса в производном классе, и это приведет к ошибке отсутствия атрибутов.\n",
    "\n",
    "Модифицируем нашу программу:"
   ]
  },
  {
   "cell_type": "code",
   "execution_count": 2,
   "metadata": {},
   "outputs": [
    {
     "name": "stdout",
     "output_type": "stream",
     "text": [
      "Нарисован рисунок цветом 'синий'.\n",
      "Подписан документ.\n",
      "Нарисован рисунок цветом 'синий'.\n",
      "Ручкой типа 'гелевая' нельзя подписать документ.\n"
     ]
    }
   ],
   "source": [
    "class Pencil:\n",
    "\n",
    "    def __init__(self, color=\"серый\"):\n",
    "        self.color = color\n",
    "\n",
    "    def draw_picture(self):\n",
    "        return f\"Нарисован рисунок цветом '{self.color}'.\"\n",
    "\n",
    "\n",
    "class Pen(Pencil):\n",
    "\n",
    "    def __init__(self, color, pen_type):\n",
    "        super().__init__(color=color)\n",
    "        self.pen_type = pen_type\n",
    "\n",
    "    def sign_document(self):\n",
    "        if self.color not in (\"синий\", \"чёрный\", \"фиолетовый\"):\n",
    "            return f\"Ручкой цвета '{self.color}' нельзя подписать документ.\"\n",
    "        elif self.pen_type == \"гелевая\":\n",
    "            return f\"Ручкой типа '{self.pen_type}' нельзя подписать документ.\"\n",
    "        return f\"Подписан документ.\"\n",
    "\n",
    "\n",
    "blue_ball_pen = Pen(color=\"синий\", pen_type=\"шариковая\")\n",
    "print(blue_ball_pen.draw_picture())\n",
    "print(blue_ball_pen.sign_document())\n",
    "blue_gel_pen = Pen(color=\"синий\", pen_type=\"гелевая\")\n",
    "print(blue_gel_pen.draw_picture())\n",
    "print(blue_gel_pen.sign_document())"
   ]
  },
  {
   "attachments": {},
   "cell_type": "markdown",
   "metadata": {},
   "source": [
    "Наследование может производиться сразу от нескольких классов. В таком случае базовые классы перечисляются через запятую. Производный класс унаследует атрибуты и методы обоих базовых классов."
   ]
  },
  {
   "cell_type": "code",
   "execution_count": 3,
   "metadata": {},
   "outputs": [
    {
     "name": "stdout",
     "output_type": "stream",
     "text": [
      "Добрый день, Пользователь!\n",
      "Привет, Пользователь!\n"
     ]
    }
   ],
   "source": [
    "class GreetingFormal:\n",
    "\n",
    "    def __init__(self):\n",
    "        self.formal_greeting = \"Добрый день,\"\n",
    "\n",
    "    def greet_formal(self, name):\n",
    "        return f\"{self.formal_greeting} {name}!\"\n",
    "\n",
    "\n",
    "class GreetingInformal:\n",
    "\n",
    "    def __init__(self):\n",
    "        self.informal_greeting = \"Привет,\"\n",
    "\n",
    "    def greet_informal(self, name):\n",
    "        return f\"{self.informal_greeting} {name}!\"\n",
    "\n",
    "\n",
    "class GreetingMix(GreetingFormal, GreetingInformal):\n",
    "\n",
    "    def __init__(self):\n",
    "        GreetingFormal.__init__(self)\n",
    "        GreetingInformal.__init__(self)\n",
    "\n",
    "\n",
    "mixed_greeting = GreetingMix()\n",
    "print(mixed_greeting.greet_formal(\"Пользователь\"))\n",
    "print(mixed_greeting.greet_informal(\"Пользователь\"))"
   ]
  },
  {
   "attachments": {},
   "cell_type": "markdown",
   "metadata": {},
   "source": [
    "На основе операции наследования перепишем пример про автомобили из прошлых глав. Пусть класс ElectricCar наследуется от класса Car. Методы init и drive будут расширены. Метод recharge создан в производном классе. А остальные методы и атрибуты наследуются без изменений."
   ]
  },
  {
   "cell_type": "code",
   "execution_count": 5,
   "metadata": {},
   "outputs": [
    {
     "name": "stdout",
     "output_type": "stream",
     "text": [
      "Двигатель запущен.\n",
      "Проехали 100 км. Остаток заряда: 75.0 кВт*ч.\n"
     ]
    }
   ],
   "source": [
    "class Car:\n",
    "\n",
    "    def __init__(self, color, consumption, tank_volume, mileage=0):\n",
    "        self.color = color\n",
    "        self.consumption = consumption\n",
    "        self.tank_volume = tank_volume\n",
    "        self.reserve = tank_volume\n",
    "        self.mileage = mileage\n",
    "        self.engine_on = False\n",
    "\n",
    "    def start_engine(self):\n",
    "        if not self.engine_on and self.reserve > 0:\n",
    "            self.engine_on = True\n",
    "            return \"Двигатель запущен.\"\n",
    "        return \"Двигатель уже был запущен.\"\n",
    "\n",
    "    def stop_engine(self):\n",
    "        if self.engine_on:\n",
    "            self.engine_on = False\n",
    "            return \"Двигатель остановлен.\"\n",
    "        return \"Двигатель уже был остановлен.\"\n",
    "\n",
    "    def drive(self, distance):\n",
    "        if not self.engine_on:\n",
    "            return \"Двигатель не запущен.\"\n",
    "        if self.reserve / self.consumption * 100 < distance:\n",
    "            return \"Малый запас топлива.\"\n",
    "        self.mileage += distance\n",
    "        self.reserve -= distance / 100 * self.consumption\n",
    "        return f\"Проехали {distance} км. Остаток топлива: {self.reserve} л.\"\n",
    "\n",
    "    def refuel(self):\n",
    "        self.reserve = self.tank_volume\n",
    "\n",
    "    def get_mileage(self):\n",
    "        return self.mileage\n",
    "\n",
    "    def get_reserve(self):\n",
    "        return self.reserve\n",
    "\n",
    "    def get_consumption(self):\n",
    "        return self.consumption\n",
    "\n",
    "\n",
    "class ElectricCar(Car):\n",
    "\n",
    "    def __init__(self, color, consumption, bat_capacity, mileage=0):\n",
    "        super().__init__(color, consumption, bat_capacity, mileage)\n",
    "        self.bat_capacity = bat_capacity\n",
    "\n",
    "    def __str__(self):\n",
    "        return f\"Электромобиль. \" \\\n",
    "                f\"Цвет: {self.color}. \" \\\n",
    "                f\"Пробег: {self.mileage} км. \" \\\n",
    "                f\"Остаток заряда: {self.reserve} кВт*ч.\"\n",
    "\n",
    "    def drive(self, distance):\n",
    "        super().drive(100)\n",
    "        return f\"Проехали {distance} км. Остаток заряда: {self.reserve} кВт*ч.\"\n",
    "\n",
    "    def recharge(self):\n",
    "        self.reserve = self.bat_capacity\n",
    "\n",
    "\n",
    "electric_car = ElectricCar(color=\"white\", consumption=15, bat_capacity=90)\n",
    "print(electric_car.start_engine())\n",
    "print(electric_car.drive(100))"
   ]
  },
  {
   "cell_type": "code",
   "execution_count": 8,
   "metadata": {},
   "outputs": [
    {
     "name": "stdout",
     "output_type": "stream",
     "text": [
      "Двигатель запущен.\n",
      "Проехали 100 км. Остаток заряда: 75.0 кВт*ч.\n",
      "Электромобиль. Цвет: белый. Пробег: 100 км. Остаток заряда: 75.0 кВт*ч.\n"
     ]
    }
   ],
   "source": [
    "electric_car = ElectricCar(color=\"белый\", consumption=15, bat_capacity=90)\n",
    "print(electric_car.start_engine())\n",
    "print(electric_car.drive(100))\n",
    "print(electric_car) # за счет прописи спецметода метода __str__"
   ]
  },
  {
   "attachments": {},
   "cell_type": "markdown",
   "metadata": {},
   "source": [
    "Специальных методов в Python довольно много. Они нужны для описания взаимодействия с объектами при помощи стандартных операций и встроенных функций. Описание специальных методов называется перегрузкой операторов (operator overloading).\n",
    "\n",
    "Имена специальных методов выделены слева и справа двумя символами подчёркивания. Как можно заметить, метод __init__ также является специальным.\n",
    "\n",
    "Рассмотрим назначение некоторых специальных методов.\n",
    "\n",
    "Метод __repr__ вызывается стандартной функцией repr и возвращает строку, которая является представлением объекта в формате инициализации. Этот метод может быть также полезен, если необходимо вывести информацию об объектах, когда они являются элементами коллекции.\n",
    "Методы для операций сравнения:\n",
    "\n",
    "__lt__(self, other) – <;\n",
    "\n",
    "__le__(self, other) – <=;\n",
    "\n",
    "__eq__(self, other) – ==;\n",
    "\n",
    "__ne__(self, other) – !=;\n",
    "\n",
    "__gt__(self, other) – >;\n",
    "\n",
    "__ge__(self, other) – >=.\n",
    "\n",
    "Метод __call__(arg1, arg2, ...) вызывается, когда сам объект вызывается как функция с аргументами.\n",
    "\n",
    "Методы для работы с объектом как с коллекцией:\n",
    "\n",
    "__getitem__(self, key) используется для получения элемента коллекции по ключу self[key];\n",
    "\n",
    "__setitem__(self, key, value) используется для записи значения по ключу self[key] = value;\n",
    "\n",
    "__delitem__(self, key) используется для удаления ключа и соответствующего ему значения;\n",
    "\n",
    "__len__(self) вызывается стандартной функцией len\n",
    "\n",
    "__contains__(self, item) вызывается при проверке принадлежности значения item объекту-коллекции self с помощью оператора in.\n",
    "Математические операции:\n",
    "\n",
    "__add__(self, other) – self + other;\n",
    "\n",
    "__sub__(self, other) – self - other;\n",
    "\n",
    "__mul__(self, other) – self * other;\n",
    "\n",
    "__matmul__(self, other) – self @ other;\n",
    "\n",
    "__truediv__(self, other) – self / other;\n",
    "\n",
    "__floordiv__(self, other) – self // other;\n",
    "\n",
    "__mod__(self, other) – self % other;\n",
    "\n",
    "__divmod__(self, other) – divmod(self, other);\n",
    "\n",
    "__pow__(self, other) – self ** other;\n",
    "\n",
    "__lshift__(self, other) – self << other;\n",
    "\n",
    "__rshift__(self, other) – self >> other;\n",
    "\n",
    "__and__(self, other) – self & other;\n",
    "\n",
    "__xor__(self, other) – self ^ other;\n",
    "\n",
    "__or__(self, other) – self | other;\n",
    "\n",
    "__radd__(self, other) – other + self;\n",
    "\n",
    "__rsub__(self, other) – other - self;\n",
    "\n",
    "__rmul__(self, other) – other * self;\n",
    "\n",
    "__rmatmul__(self, other) – other @ self;\n",
    "\n",
    "__rtruediv__(self, other) – other / self;\n",
    "\n",
    "__rfloordiv__(self, other) – other // self;\n",
    "\n",
    "__rmod__(self, other) – other % self;\n",
    "\n",
    "__rdivmod__(self, other) – divmod(other, self);\n",
    "\n",
    "__rpow__(self, other) – other ** self;\n",
    "\n",
    "__rlshift__(self, other) – other << self;\n",
    "\n",
    "__rrshift__(self, other) – other >> self;\n",
    "\n",
    "__rand__(self, other) – other & self;\n",
    "\n",
    "__rxor__(self, other) – other ^ self;\n",
    "\n",
    "__ror__(self, other) – other | self;\n",
    "\n",
    "__iadd__(self, other) – self += other;\n",
    "\n",
    "__isub__(self, other) – self -= other;\n",
    "\n",
    "__imul__(self, other) – self *= other;\n",
    "\n",
    "__imatmul__(self, other) – self @= other;\n",
    "\n",
    "__itruediv__(self, other) – self /= other;\n",
    "\n",
    "__ifloordiv__(self, other) – self //= other;\n",
    "\n",
    "__imod__(self, other) – self %= other;\n",
    "\n",
    "__ipow__(self, other) – self **= other;\n",
    "\n",
    "__ilshift__(self, other) – self <<= other;\n",
    "\n",
    "__irshift__(self, other) – self >>= other;\n",
    "\n",
    "__iand__(self, other) – self &= other;\n",
    "\n",
    "__ixor__(self, other) – self ^= other;\n",
    "\n",
    "__ior__(self, other) – self |= other."
   ]
  },
  {
   "cell_type": "code",
   "execution_count": 9,
   "metadata": {},
   "outputs": [
    {
     "name": "stdout",
     "output_type": "stream",
     "text": [
      "Выполняется метод __add__.\n",
      "Выполняется метод __radd__.\n",
      "value: 11.\n"
     ]
    }
   ],
   "source": [
    "class A:\n",
    "\n",
    "    def __init__(self):\n",
    "        self.value = 10\n",
    "\n",
    "    def __add__(self, other):\n",
    "        return \"Выполняется метод __add__.\"\n",
    "\n",
    "    def __radd__(self, other):\n",
    "        return \"Выполняется метод __radd__.\"\n",
    "\n",
    "    def __iadd__(self, other):\n",
    "        self.value += other\n",
    "        return self\n",
    "\n",
    "    def __str__(self):\n",
    "        return f\"value: {self.value}.\"\n",
    "\n",
    "        \n",
    "a = A()\n",
    "print(a + 1)\n",
    "print(1 + a)\n",
    "a += 1\n",
    "print(a)"
   ]
  },
  {
   "attachments": {},
   "cell_type": "markdown",
   "metadata": {},
   "source": [
    "Для операции a + 1 был использован метод __add__. Для операции 1 + a был использован метод __radd__. А для операции += использован __iadd__. Обратите внимание: при выполнении методов, начинающихся с буквы i недостаточно только изменить атрибуты объекта, нужно ещё вернуть объект из метода, иначе в объект запишется None."
   ]
  },
  {
   "attachments": {},
   "cell_type": "markdown",
   "metadata": {},
   "source": [
    "--------\n"
   ]
  },
  {
   "attachments": {},
   "cell_type": "markdown",
   "metadata": {},
   "source": [
    "# 5.3. Модель исключений Python. Try, except, else, finally. Модули"
   ]
  },
  {
   "cell_type": "code",
   "execution_count": 3,
   "metadata": {},
   "outputs": [
    {
     "ename": "ZeroDivisionError",
     "evalue": "division by zero",
     "output_type": "error",
     "traceback": [
      "\u001b[0;31m---------------------------------------------------------------------------\u001b[0m",
      "\u001b[0;31mZeroDivisionError\u001b[0m                         Traceback (most recent call last)",
      "Cell \u001b[0;32mIn[3], line 1\u001b[0m\n\u001b[0;32m----> 1\u001b[0m \u001b[39mprint\u001b[39m(\u001b[39m\"\u001b[39;49m\u001b[39m;\u001b[39;49m\u001b[39m\"\u001b[39;49m\u001b[39m.\u001b[39;49mjoin(\u001b[39mstr\u001b[39;49m(\u001b[39m1\u001b[39;49m \u001b[39m/\u001b[39;49m x) \u001b[39mfor\u001b[39;49;00m x \u001b[39min\u001b[39;49;00m \u001b[39mrange\u001b[39;49m(\u001b[39mint\u001b[39;49m(\u001b[39minput\u001b[39;49m()), \u001b[39mint\u001b[39;49m(\u001b[39minput\u001b[39;49m()) \u001b[39m+\u001b[39;49m \u001b[39m1\u001b[39;49m)))\n",
      "Cell \u001b[0;32mIn[3], line 1\u001b[0m, in \u001b[0;36m<genexpr>\u001b[0;34m(.0)\u001b[0m\n\u001b[0;32m----> 1\u001b[0m \u001b[39mprint\u001b[39m(\u001b[39m\"\u001b[39m\u001b[39m;\u001b[39m\u001b[39m\"\u001b[39m\u001b[39m.\u001b[39mjoin(\u001b[39mstr\u001b[39m(\u001b[39m1\u001b[39;49m \u001b[39m/\u001b[39;49m x) \u001b[39mfor\u001b[39;00m x \u001b[39min\u001b[39;00m \u001b[39mrange\u001b[39m(\u001b[39mint\u001b[39m(\u001b[39minput\u001b[39m()), \u001b[39mint\u001b[39m(\u001b[39minput\u001b[39m()) \u001b[39m+\u001b[39m \u001b[39m1\u001b[39m)))\n",
      "\u001b[0;31mZeroDivisionError\u001b[0m: division by zero"
     ]
    }
   ],
   "source": [
    "print(\";\".join(str(1 / x) for x in range(int(input()), int(input()) + 1)))"
   ]
  },
  {
   "attachments": {},
   "cell_type": "markdown",
   "metadata": {},
   "source": [
    "В программе произошла ошибка \"деление на ноль\". Такая ошибка, возникающая при выполнении программы и останавливающая её работу, называется исключением."
   ]
  },
  {
   "attachments": {},
   "cell_type": "markdown",
   "metadata": {},
   "source": [
    "Подход, который был нами применён для предотвращения ошибок, называется \"Look Before You Leap\" (LBYL), или \"посмотри перед прыжком\". В программе, реализующей такой подход, проверяются возможные условия возникновения ошибок до исполнения основного кода.\n",
    "\n",
    "Подход LBYL имеет недостатки. Программу из примера стало сложнее читать из-за вложенного условного оператора. Проверка условия, что строка может быть преобразована в число, выглядит даже сложнее, чем списочное выражение. Вложенный условный оператор не решает поставленную задачу, а только лишь проверяет входные данные на корректность. Легко заметить, что решение основной задачи заняло меньше времени, чем составление условий проверки корректности входных данных.\n",
    "\n",
    "Существует другой подход для работы с ошибками: \"Easier to Ask Forgiveness than Permission\" (EAFP) или \"проще извиниться, чем спрашивать разрешение\". В этом подходе сначала исполняется код, а в случае возникновения ошибок происходит их обработка. Подход EAFP реализован в Python в виде обработки исключений.\n",
    "\n",
    "Исключения в Python являются классами ошибок. В Python есть много стандартных исключений. Они имеют определённую иерархию за счёт механизма наследования классов. В документации Python версии 3.10.8 приводится следующее дерево иерархии стандартных исключений:\n",
    "\n"
   ]
  },
  {
   "cell_type": "code",
   "execution_count": null,
   "metadata": {},
   "outputs": [],
   "source": [
    "BaseException\n",
    " +-- SystemExit\n",
    " +-- KeyboardInterrupt\n",
    " +-- GeneratorExit\n",
    " +-- Exception\n",
    "      +-- StopIteration\n",
    "      +-- StopAsyncIteration\n",
    "      +-- ArithmeticError\n",
    "      |    +-- FloatingPointError\n",
    "      |    +-- OverflowError\n",
    "      |    +-- ZeroDivisionError\n",
    "      +-- AssertionError\n",
    "      +-- AttributeError\n",
    "      +-- BufferError\n",
    "      +-- EOFError\n",
    "      +-- ImportError\n",
    "      |    +-- ModuleNotFoundError\n",
    "      +-- LookupError\n",
    "      |    +-- IndexError\n",
    "      |    +-- KeyError\n",
    "      +-- MemoryError\n",
    "      +-- NameError\n",
    "      |    +-- UnboundLocalError\n",
    "      +-- OSError\n",
    "      |    +-- BlockingIOError\n",
    "      |    +-- ChildProcessError\n",
    "      |    +-- ConnectionError\n",
    "      |    |    +-- BrokenPipeError\n",
    "      |    |    +-- ConnectionAbortedError\n",
    "      |    |    +-- ConnectionRefusedError\n",
    "      |    |    +-- ConnectionResetError\n",
    "      |    +-- FileExistsError\n",
    "      |    +-- FileNotFoundError\n",
    "      |    +-- InterruptedError\n",
    "      |    +-- IsADirectoryError\n",
    "      |    +-- NotADirectoryError\n",
    "      |    +-- PermissionError\n",
    "      |    +-- ProcessLookupError\n",
    "      |    +-- TimeoutError\n",
    "      +-- ReferenceError\n",
    "      +-- RuntimeError\n",
    "      |    +-- NotImplementedError\n",
    "      |    +-- RecursionError\n",
    "      +-- SyntaxError\n",
    "      |    +-- IndentationError\n",
    "      |         +-- TabError\n",
    "      +-- SystemError\n",
    "      +-- TypeError\n",
    "      +-- ValueError\n",
    "      |    +-- UnicodeError\n",
    "      |         +-- UnicodeDecodeError\n",
    "      |         +-- UnicodeEncodeError\n",
    "      |         +-- UnicodeTranslateError\n",
    "      +-- Warning\n",
    "           +-- DeprecationWarning\n",
    "           +-- PendingDeprecationWarning\n",
    "           +-- RuntimeWarning\n",
    "           +-- SyntaxWarning\n",
    "           +-- UserWarning\n",
    "           +-- FutureWarning\n",
    "           +-- ImportWarning\n",
    "           +-- UnicodeWarning\n",
    "           +-- BytesWarning\n",
    "           +-- EncodingWarning\n",
    "           +-- ResourceWarning"
   ]
  },
  {
   "attachments": {},
   "cell_type": "markdown",
   "metadata": {},
   "source": [
    "Для обработки исключения в Python используется следующий синтаксис:\n",
    "```\n",
    "try:\n",
    "    <код , который может вызвать исключения при выполнении>\n",
    "except <классисключения_1>:\n",
    "    <код обработки исключения>\n",
    "except <классисключения_2>:\n",
    "    <код обработки исключения>\n",
    "...\n",
    "else:\n",
    "    <код выполняется, если не вызвано исключение в блоке try>\n",
    "finally:\n",
    "    <код , который выполняется всегда>\n",
    "```\n",
    "Блок try содержит код, в котором нужно обработать исключения, если они возникнут. При возникновении исключения интерпретатор последовательно проверяет в каком из блоков except обрабатывается это исключение. Исключение обрабатывается в первом блоке except, обрабатывающем класс этого исключения или базовый класс возникшего исключения. Необходимо учитывать иерархию исключений для определения порядка их обработки в блоках except. Начинать обработку исключений следует с более узких классов исключений. Если начать с более широкого класса исключения, например, Exception, то всегда при возникновении исключения будет срабатывать первый блок except. Сравните два следующих примера. В первом порядок обработки исключений указан от производных классов к базовым, а во втором – наоборот."
   ]
  },
  {
   "cell_type": "code",
   "execution_count": 7,
   "metadata": {},
   "outputs": [
    {
     "name": "stdout",
     "output_type": "stream",
     "text": [
      "Невозможно преобразовать строку в число.\n"
     ]
    }
   ],
   "source": [
    "try:\n",
    "    print(1 / int(input()))\n",
    "except ZeroDivisionError:\n",
    "    print(\"Ошибка деления на ноль.\")\n",
    "except ValueError:\n",
    "    print(\"Невозможно преобразовать строку в число.\")\n",
    "except Exception:\n",
    "    print(\"Неизвестная ошибка.\")"
   ]
  },
  {
   "cell_type": "code",
   "execution_count": 8,
   "metadata": {},
   "outputs": [
    {
     "name": "stdout",
     "output_type": "stream",
     "text": [
      "Ошибка деления на ноль.\n",
      "Программа завершена.\n"
     ]
    }
   ],
   "source": [
    "try:\n",
    "    print(1 / int(input()))\n",
    "except ZeroDivisionError:\n",
    "    print(\"Ошибка деления на ноль.\")\n",
    "except ValueError:\n",
    "    print(\"Невозможно преобразовать строку в число.\")\n",
    "except Exception:\n",
    "    print(\"Неизвестная ошибка.\")\n",
    "else:\n",
    "    print(\"Операция выполнена успешно.\")\n",
    "finally:\n",
    "    print(\"Программа завершена.\")"
   ]
  },
  {
   "cell_type": "code",
   "execution_count": null,
   "metadata": {},
   "outputs": [],
   "source": [
    "# Перепишем код, созданный с применением подхода LBYL, для первого примера из этой главы \n",
    "# с использованием обработки исключений:\n",
    "\n",
    "try:\n",
    "    print(\";\".join(str(1 / x) for x in range(int(input()), int(input()) + 1)))\n",
    "except ZeroDivisionError:\n",
    "    print(\"Диапазон чисел содержит 0.\")\n",
    "except ValueError:\n",
    "    print(\"Необходимо ввести два числа.\")"
   ]
  },
  {
   "cell_type": "code",
   "execution_count": null,
   "metadata": {},
   "outputs": [],
   "source": [
    "# Исключения можно принудительно вызывать с помощью оператора raise. Этот оператор имеет следующий синтаксис:\n",
    "\n",
    "raise <класс исключения>(параметры)\n",
    "\n",
    "# В качестве параметра можно, например, передать строку с сообщением об ошибке."
   ]
  },
  {
   "cell_type": "code",
   "execution_count": 9,
   "metadata": {},
   "outputs": [
    {
     "name": "stdout",
     "output_type": "stream",
     "text": [
      "Введите числа в одну строку через пробел:\n",
      "Произошла ошибка: В списке не должно быть чётных чисел.\n"
     ]
    }
   ],
   "source": [
    "class NumbersError(Exception):\n",
    "    pass\n",
    "\n",
    "\n",
    "class EvenError(NumbersError):\n",
    "    pass\n",
    "\n",
    "\n",
    "class NegativeError(NumbersError):\n",
    "    pass\n",
    "\n",
    "\n",
    "def no_even(numbers):\n",
    "    if all(x % 2 != 0 for x in numbers):\n",
    "        return True\n",
    "    raise EvenError(\"В списке не должно быть чётных чисел\")\n",
    "\n",
    "\n",
    "def no_negative(numbers):\n",
    "    if all(x >= 0 for x in numbers):\n",
    "        return True\n",
    "    raise NegativeError(\"В списке не должно быть отрицательных чисел\")\n",
    "\n",
    "\n",
    "def main():\n",
    "    print(\"Введите числа в одну строку через пробел:\")\n",
    "    try:\n",
    "        numbers = [int(x) for x in input().split()]\n",
    "        if no_negative(numbers) and no_even(numbers):\n",
    "            print(f\"Сумма чисел равна: {sum(numbers)}.\")\n",
    "    except NumbersError as e:  # обращение к исключению как к объекту\n",
    "        print(f\"Произошла ошибка: {e}.\")\n",
    "    except Exception as e:\n",
    "        print(f\"Произошла непредвиденная ошибка: {e}.\")\n",
    "\n",
    "        \n",
    "if __name__ == \"__main__\":\n",
    "    main()"
   ]
  },
  {
   "attachments": {},
   "cell_type": "markdown",
   "metadata": {},
   "source": [
    "Обратите внимание: в программе основной код выделен в функцию main. А код вне функций содержит только условный оператор и вызов функции main при выполнении условия __name__ == \"__main__\". Это условие проверяет, запущен ли файл как самостоятельная программа или импортирован как модуль.\n",
    "\n",
    "\n",
    "Любая программа, написанная на языке программирования Python может быть импортирована как модуль в другую программу. В идеологии Python импортировать модуль – значит полностью его выполнить. `Если основной код модуля содержит вызовы функций, ввод или вывод данных без использования указанного условия __name__ == \"__main__\"`, то произойдёт полноценный запуск программы. А это не всегда удобно, если из модуля нужна только отдельная функция или какой-либо класс.\n",
    "\n",
    "\n",
    "При изучении модуля itertools, мы говорили о том, как импортировать модуль в программу. Покажем ещё раз два способа импорта на примере собственного модуля.\n",
    "\n",
    "\n",
    "Для импорта модуля из файла, например example_module.py, нужно указать его имя, если он находится в той же папке, что и импортирующая его программа:"
   ]
  }
 ],
 "metadata": {
  "kernelspec": {
   "display_name": "Python 3",
   "language": "python",
   "name": "python3"
  },
  "language_info": {
   "codemirror_mode": {
    "name": "ipython",
    "version": 3
   },
   "file_extension": ".py",
   "mimetype": "text/x-python",
   "name": "python",
   "nbconvert_exporter": "python",
   "pygments_lexer": "ipython3",
   "version": "3.9.16"
  },
  "orig_nbformat": 4,
  "vscode": {
   "interpreter": {
    "hash": "e80bfe3c6697afa5886fed20a41aad3c2f3e04aa92f9236622e9d73caeff43b9"
   }
  }
 },
 "nbformat": 4,
 "nbformat_minor": 2
}
