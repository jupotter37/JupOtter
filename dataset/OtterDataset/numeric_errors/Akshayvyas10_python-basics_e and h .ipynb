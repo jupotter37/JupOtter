{
 "cells": [
  {
   "cell_type": "code",
   "execution_count": null,
   "id": "f8cf20d0-d567-4ae5-8b6c-c29923f3c23a",
   "metadata": {},
   "outputs": [],
   "source": [
    "#Q1. Explain why we have to use the Exception class while creating a Custom Exception."
   ]
  },
  {
   "cell_type": "code",
   "execution_count": null,
   "id": "244f2e94-ff4a-4dd1-86db-81072cb8b625",
   "metadata": {},
   "outputs": [],
   "source": [
    "'''Why Inherit from the Exception Class for Custom Exceptions\n",
    "Inheriting from the Exception class is essential for creating custom exceptions in Python for several reasons:\n",
    "\n",
    "Consistency and Compatibility:\n",
    "\n",
    "Uniformity: By inheriting from Exception, custom exceptions adhere to a standardized structure and behavior. This ensures consistency in exception handling mechanisms throughout your codebase and the Python ecosystem.\n",
    "Compatibility: The Exception class provides a common interface and methods that are expected by built-in exception handling mechanisms. This makes custom exceptions seamlessly integrate with Python's exception handling framework.\n",
    "Hierarchy and Polymorphism:\n",
    "\n",
    "Organization: Inheriting from Exception allows you to create hierarchies of custom exceptions, reflecting the relationships between different error conditions. This improves code organization and maintainability.\n",
    "Polymorphism: By treating custom exceptions as instances of the Exception class, you can write generic exception handling code that can catch and handle various exception types, including custom ones.\n",
    "Built-in Functionality:\n",
    "\n",
    "Attributes and Methods: The Exception class provides attributes like args and message that can be used to store additional information about the exception. It also offers methods like __str__ for customizing the string representation.\n",
    "Error Handling Mechanisms: Custom exceptions can be caught and handled using the standard try-except blocks, providing a familiar and robust error handling mechanism.\n",
    "Clarity and Readability:\n",
    "\n",
    "Intent: Explicitly inheriting from Exception clearly conveys the intent of your custom class as an exception. This improves code readability and maintainability.\n",
    "Documentation: By inheriting from Exception, you can leverage the existing documentation and examples for exception handling, making it easier for other developers to understand and use your custom exceptions.\n",
    "In summary, inheriting from the Exception class is fundamental for creating effective and compatible custom exceptions in Python. It ensures consistency, enables hierarchical organization, provides essential functionality, and enhances code clarity.'''"
   ]
  },
  {
   "cell_type": "code",
   "execution_count": null,
   "id": "d6836acf-35b0-4bb5-83be-8b643ff6b744",
   "metadata": {},
   "outputs": [],
   "source": [
    "#Q2. Write a python program to print Python Exception Hierarchy."
   ]
  },
  {
   "cell_type": "code",
   "execution_count": null,
   "id": "342a7c2b-ecc6-4e71-b54c-0ccf61c46402",
   "metadata": {},
   "outputs": [],
   "source": [
    "'''Python :\n",
    "\n",
    "import inspect\n",
    "\n",
    "def print_exception_hierarchy(cls, indent=0):\n",
    "    \"\"\"Prints the exception hierarchy in a tree-like structure.\"\"\"\n",
    "    print('-' * indent, cls.__name__)\n",
    "    for subclass in cls.__subclasses__():\n",
    "        print_exception_hierarchy(subclass, indent + 4)\n",
    "\n",
    "print(\"Python Exception Hierarchy:\")\n",
    "print_exception_hierarchy(BaseException)'''"
   ]
  },
  {
   "cell_type": "code",
   "execution_count": 1,
   "id": "0b6af193-94f1-43b5-aaeb-5bde6c5cbb7d",
   "metadata": {},
   "outputs": [],
   "source": [
    "#Q3. What errors are defined in the ArithmeticError class? Explain any two with an example."
   ]
  },
  {
   "cell_type": "code",
   "execution_count": null,
   "id": "dbaf6c23-894f-487c-bb82-21480bc7299f",
   "metadata": {},
   "outputs": [],
   "source": [
    "'''ArithmeticError in Python :\n",
    "\n",
    "ArithmeticError is the base class for exceptions that occur during numeric calculations. Some common subclasses include:\n",
    "\n",
    "1. ZeroDivisionError\n",
    "This exception is raised when a number is divided by zero.\n",
    "\n",
    "Python\n",
    "def divide(x, y):\n",
    "  try:\n",
    "    result = x / y\n",
    "    print(\"Result:\", result)\n",
    "  except ZeroDivisionError:\n",
    "    print(\"Error: Division by zero\")\n",
    "\n",
    "num1 = 10\n",
    "num2 = 0\n",
    "\n",
    "divide(num1, num2)\n",
    "\n",
    "2. OverflowError\n",
    "This exception is raised when the result of an arithmetic operation is too large to be represented. It's less common in Python due to its automatic handling of large numbers.\n",
    "\n",
    "Python\n",
    "import sys\n",
    "\n",
    "def factorial(n):\n",
    "  if n == 0:\n",
    "    return 1\n",
    "  else:\n",
    "    try:\n",
    "      return n * factorial(n - 1)\n",
    "    except OverflowError:\n",
    "      print(\"Factorial too large\")'''"
   ]
  },
  {
   "cell_type": "code",
   "execution_count": null,
   "id": "31e0545a-fb99-4940-979d-b0e211f6b652",
   "metadata": {},
   "outputs": [],
   "source": [
    "#Q4. Why LookupError class is used? Explain with an example KeyError and IndexError."
   ]
  },
  {
   "cell_type": "code",
   "execution_count": null,
   "id": "c73ea21d-341a-4f34-98f7-1358230d0327",
   "metadata": {},
   "outputs": [],
   "source": [
    "'''\n",
    "LookupError: A Base Class for Lookup-Related Errors :-\n",
    "\n",
    "LookupError is a base class in Python used to encapsulate exceptions that arise when a lookup operation fails.\n",
    "It provides a common ancestor for exceptions related to accessing elements in sequences or mappings. \n",
    "This helps in creating a more organized and maintainable exception hierarchy.\n",
    "\n",
    "KeyError :-\n",
    "\n",
    "A KeyError is a specific type of LookupError that occurs when you try to access a dictionary using a key that doesn't exist.\n",
    "\n",
    "Python :-\n",
    "\n",
    "my_dict = {'a': 1, 'b': 2}\n",
    "\n",
    "try:\n",
    "  value = my_dict['c']\n",
    "except KeyError:\n",
    "  print(\"Key not found in the dictionary\")\n",
    "  \n",
    "IndexError :-\n",
    "\n",
    "An IndexError is another type of LookupError that occurs when you try to access a sequence (like a list or tuple) using an index that is out of range.\n",
    "\n",
    "Python :-\n",
    "\n",
    "my_list = [1, 2, 3]\n",
    "\n",
    "try:\n",
    "  element = my_list[3]\n",
    "except IndexError:\n",
    "  print(\"Index out of range\")'''"
   ]
  },
  {
   "cell_type": "code",
   "execution_count": null,
   "id": "5416bd41-00b7-464f-a2de-59094994bf69",
   "metadata": {},
   "outputs": [],
   "source": [
    "#Q5. Explain ImportError. What is ModuleNotFoundError?"
   ]
  },
  {
   "cell_type": "code",
   "execution_count": null,
   "id": "19f5daf7-9645-417c-acbf-5b417f3cf05f",
   "metadata": {},
   "outputs": [],
   "source": [
    "'''ImportError\n",
    "ImportError is a base class for exceptions that occur during the import process. \n",
    "It indicates a problem with importing a module, package, or object. This broad category encompasses various specific error conditions.\n",
    "\n",
    "ModuleNotFoundError\n",
    "ModuleNotFoundError is a subclass of ImportError that specifically arises when a module or package cannot be found. \n",
    "This error typically occurs due to:\n",
    "\n",
    "Incorrect module name: The name of the module doesn't match the actual module file.\n",
    "Missing module: The module is not installed in the Python environment.\n",
    "Incorrect module path: The Python interpreter cannot locate the module in its search path.\n",
    "\n",
    "Example:\n",
    "\n",
    "import non_existent_module\n",
    "\n",
    "# This will raise a ModuleNotFoundError because the module doesn't exist'''"
   ]
  },
  {
   "cell_type": "code",
   "execution_count": null,
   "id": "ac9dd2a1-d09c-453b-a354-df929392f2d2",
   "metadata": {},
   "outputs": [],
   "source": [
    "#Q6. List down some best practices for exception handling in python."
   ]
  },
  {
   "cell_type": "code",
   "execution_count": null,
   "id": "cb957912-b20f-4b51-9c67-3947fb5f0ebb",
   "metadata": {},
   "outputs": [],
   "source": [
    "'''\n",
    "Best Practices for Exception Handling in Python\n",
    "\n",
    "#General Guidelines\n",
    "\n",
    "Catch Specific Exceptions: Instead of using a generic except block, catch specific exception types to handle errors precisely.\n",
    "Use try-except-else: Employ the else block for code that should run only when no exceptions occur.\n",
    "Leverage finally: Use finally for cleanup actions that must be executed regardless of exceptions.\n",
    "Raise Clear Exceptions: When creating custom exceptions, provide informative error messages.\n",
    "Log Exceptions: Use a logging module to record exceptions for later analysis.\n",
    "Don't Swallow Exceptions: Avoid suppressing exceptions without proper logging or handling.\n",
    "Test Exception Handling: Write unit tests to verify exception handling behavior.\n",
    "\n",
    "#Code Structure and Readability\n",
    "Keep try Blocks Small: Limit the code within try blocks to minimize the risk of unexpected exceptions.\n",
    "Use Meaningful Exception Names: Create custom exception names that accurately reflect the error condition.\n",
    "Provide Clear Error Messages: Include relevant details in exception messages.\n",
    "Document Exception Handling: Explain the purpose of exception handling in code comments.\n",
    "\n",
    "Example:-\n",
    "\n",
    "import logging\n",
    "\n",
    "def divide(x, y):\n",
    "    try:\n",
    "        result = x / y\n",
    "    except ZeroDivisionError as e:\n",
    "        logging.error(\"Division by zero: %s\", e)\n",
    "        raise ValueError(\"Cannot divide by zero\")\n",
    "    else:\n",
    "        return result\n",
    "    finally:\n",
    "        print(\"Division operation complete\")'''"
   ]
  },
  {
   "cell_type": "code",
   "execution_count": null,
   "id": "dd4fcdd2-b4c3-498f-93a9-a9cc3cead6be",
   "metadata": {},
   "outputs": [],
   "source": []
  }
 ],
 "metadata": {
  "kernelspec": {
   "display_name": "Python 3 (ipykernel)",
   "language": "python",
   "name": "python3"
  },
  "language_info": {
   "codemirror_mode": {
    "name": "ipython",
    "version": 3
   },
   "file_extension": ".py",
   "mimetype": "text/x-python",
   "name": "python",
   "nbconvert_exporter": "python",
   "pygments_lexer": "ipython3",
   "version": "3.10.8"
  }
 },
 "nbformat": 4,
 "nbformat_minor": 5
}
