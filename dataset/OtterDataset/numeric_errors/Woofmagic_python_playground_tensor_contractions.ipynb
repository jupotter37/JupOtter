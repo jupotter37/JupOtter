{
 "cells": [
  {
   "cell_type": "code",
   "execution_count": 1,
   "metadata": {},
   "outputs": [],
   "source": [
    "import sympy as sp"
   ]
  },
  {
   "cell_type": "code",
   "execution_count": 3,
   "metadata": {},
   "outputs": [
    {
     "data": {
      "text/plain": [
       "{'__name__': 'sympy.tensor',\n",
       " '__doc__': 'A module to manipulate symbolic objects with indices including tensors\\n\\n',\n",
       " '__package__': 'sympy.tensor',\n",
       " '__loader__': <_frozen_importlib_external.SourceFileLoader at 0x73136f553fa0>,\n",
       " '__spec__': ModuleSpec(name='sympy.tensor', loader=<_frozen_importlib_external.SourceFileLoader object at 0x73136f553fa0>, origin='/usr/lib/python3/dist-packages/sympy/tensor/__init__.py', submodule_search_locations=['/usr/lib/python3/dist-packages/sympy/tensor']),\n",
       " '__path__': ['/usr/lib/python3/dist-packages/sympy/tensor'],\n",
       " '__file__': '/usr/lib/python3/dist-packages/sympy/tensor/__init__.py',\n",
       " '__cached__': '/usr/lib/python3/dist-packages/sympy/tensor/__pycache__/__init__.cpython-310.pyc',\n",
       " '__builtins__': {'__name__': 'builtins',\n",
       "  '__doc__': \"Built-in functions, exceptions, and other objects.\\n\\nNoteworthy: None is the `nil' object; Ellipsis represents `...' in slices.\",\n",
       "  '__package__': '',\n",
       "  '__loader__': _frozen_importlib.BuiltinImporter,\n",
       "  '__spec__': ModuleSpec(name='builtins', loader=<class '_frozen_importlib.BuiltinImporter'>, origin='built-in'),\n",
       "  '__build_class__': <function __build_class__>,\n",
       "  '__import__': <function __import__>,\n",
       "  'abs': <function abs(x, /)>,\n",
       "  'all': <function all(iterable, /)>,\n",
       "  'any': <function any(iterable, /)>,\n",
       "  'ascii': <function ascii(obj, /)>,\n",
       "  'bin': <function bin(number, /)>,\n",
       "  'breakpoint': <function breakpoint>,\n",
       "  'callable': <function callable(obj, /)>,\n",
       "  'chr': <function chr(i, /)>,\n",
       "  'compile': <function compile(source, filename, mode, flags=0, dont_inherit=False, optimize=-1, *, _feature_version=-1)>,\n",
       "  'delattr': <function delattr(obj, name, /)>,\n",
       "  'dir': <function dir>,\n",
       "  'divmod': <function divmod(x, y, /)>,\n",
       "  'eval': <function eval(source, globals=None, locals=None, /)>,\n",
       "  'exec': <function exec(source, globals=None, locals=None, /)>,\n",
       "  'format': <function format(value, format_spec='', /)>,\n",
       "  'getattr': <function getattr>,\n",
       "  'globals': <function globals()>,\n",
       "  'hasattr': <function hasattr(obj, name, /)>,\n",
       "  'hash': <function hash(obj, /)>,\n",
       "  'hex': <function hex(number, /)>,\n",
       "  'id': <function id(obj, /)>,\n",
       "  'input': <bound method Kernel.raw_input of <ipykernel.ipkernel.IPythonKernel object at 0x73137dabafb0>>,\n",
       "  'isinstance': <function isinstance(obj, class_or_tuple, /)>,\n",
       "  'issubclass': <function issubclass(cls, class_or_tuple, /)>,\n",
       "  'iter': <function iter>,\n",
       "  'aiter': <function aiter(async_iterable, /)>,\n",
       "  'len': <function len(obj, /)>,\n",
       "  'locals': <function locals()>,\n",
       "  'max': <function max>,\n",
       "  'min': <function min>,\n",
       "  'next': <function next>,\n",
       "  'anext': <function anext>,\n",
       "  'oct': <function oct(number, /)>,\n",
       "  'ord': <function ord(c, /)>,\n",
       "  'pow': <function pow(base, exp, mod=None)>,\n",
       "  'print': <function print>,\n",
       "  'repr': <function repr(obj, /)>,\n",
       "  'round': <function round(number, ndigits=None)>,\n",
       "  'setattr': <function setattr(obj, name, value, /)>,\n",
       "  'sorted': <function sorted(iterable, /, *, key=None, reverse=False)>,\n",
       "  'sum': <function sum(iterable, /, start=0)>,\n",
       "  'vars': <function vars>,\n",
       "  'None': None,\n",
       "  'Ellipsis': Ellipsis,\n",
       "  'NotImplemented': NotImplemented,\n",
       "  'False': False,\n",
       "  'True': True,\n",
       "  'bool': bool,\n",
       "  'memoryview': memoryview,\n",
       "  'bytearray': bytearray,\n",
       "  'bytes': bytes,\n",
       "  'classmethod': classmethod,\n",
       "  'complex': complex,\n",
       "  'dict': dict,\n",
       "  'enumerate': enumerate,\n",
       "  'filter': filter,\n",
       "  'float': float,\n",
       "  'frozenset': frozenset,\n",
       "  'property': property,\n",
       "  'int': int,\n",
       "  'list': list,\n",
       "  'map': map,\n",
       "  'object': object,\n",
       "  'range': range,\n",
       "  'reversed': reversed,\n",
       "  'set': set,\n",
       "  'slice': slice,\n",
       "  'staticmethod': staticmethod,\n",
       "  'str': str,\n",
       "  'super': super,\n",
       "  'tuple': tuple,\n",
       "  'type': type,\n",
       "  'zip': zip,\n",
       "  '__debug__': True,\n",
       "  'BaseException': BaseException,\n",
       "  'Exception': Exception,\n",
       "  'TypeError': TypeError,\n",
       "  'StopAsyncIteration': StopAsyncIteration,\n",
       "  'StopIteration': StopIteration,\n",
       "  'GeneratorExit': GeneratorExit,\n",
       "  'SystemExit': SystemExit,\n",
       "  'KeyboardInterrupt': KeyboardInterrupt,\n",
       "  'ImportError': ImportError,\n",
       "  'ModuleNotFoundError': ModuleNotFoundError,\n",
       "  'OSError': OSError,\n",
       "  'EnvironmentError': OSError,\n",
       "  'IOError': OSError,\n",
       "  'EOFError': EOFError,\n",
       "  'RuntimeError': RuntimeError,\n",
       "  'RecursionError': RecursionError,\n",
       "  'NotImplementedError': NotImplementedError,\n",
       "  'NameError': NameError,\n",
       "  'UnboundLocalError': UnboundLocalError,\n",
       "  'AttributeError': AttributeError,\n",
       "  'SyntaxError': SyntaxError,\n",
       "  'IndentationError': IndentationError,\n",
       "  'TabError': TabError,\n",
       "  'LookupError': LookupError,\n",
       "  'IndexError': IndexError,\n",
       "  'KeyError': KeyError,\n",
       "  'ValueError': ValueError,\n",
       "  'UnicodeError': UnicodeError,\n",
       "  'UnicodeEncodeError': UnicodeEncodeError,\n",
       "  'UnicodeDecodeError': UnicodeDecodeError,\n",
       "  'UnicodeTranslateError': UnicodeTranslateError,\n",
       "  'AssertionError': AssertionError,\n",
       "  'ArithmeticError': ArithmeticError,\n",
       "  'FloatingPointError': FloatingPointError,\n",
       "  'OverflowError': OverflowError,\n",
       "  'ZeroDivisionError': ZeroDivisionError,\n",
       "  'SystemError': SystemError,\n",
       "  'ReferenceError': ReferenceError,\n",
       "  'MemoryError': MemoryError,\n",
       "  'BufferError': BufferError,\n",
       "  'Warning': Warning,\n",
       "  'UserWarning': UserWarning,\n",
       "  'EncodingWarning': EncodingWarning,\n",
       "  'DeprecationWarning': DeprecationWarning,\n",
       "  'PendingDeprecationWarning': PendingDeprecationWarning,\n",
       "  'SyntaxWarning': SyntaxWarning,\n",
       "  'RuntimeWarning': RuntimeWarning,\n",
       "  'FutureWarning': FutureWarning,\n",
       "  'ImportWarning': ImportWarning,\n",
       "  'UnicodeWarning': UnicodeWarning,\n",
       "  'BytesWarning': BytesWarning,\n",
       "  'ResourceWarning': ResourceWarning,\n",
       "  'ConnectionError': ConnectionError,\n",
       "  'BlockingIOError': BlockingIOError,\n",
       "  'BrokenPipeError': BrokenPipeError,\n",
       "  'ChildProcessError': ChildProcessError,\n",
       "  'ConnectionAbortedError': ConnectionAbortedError,\n",
       "  'ConnectionRefusedError': ConnectionRefusedError,\n",
       "  'ConnectionResetError': ConnectionResetError,\n",
       "  'FileExistsError': FileExistsError,\n",
       "  'FileNotFoundError': FileNotFoundError,\n",
       "  'IsADirectoryError': IsADirectoryError,\n",
       "  'NotADirectoryError': NotADirectoryError,\n",
       "  'InterruptedError': InterruptedError,\n",
       "  'PermissionError': PermissionError,\n",
       "  'ProcessLookupError': ProcessLookupError,\n",
       "  'TimeoutError': TimeoutError,\n",
       "  'open': <function io.open(file, mode='r', buffering=-1, encoding=None, errors=None, newline=None, closefd=True, opener=None)>,\n",
       "  'copyright': Copyright (c) 2001-2023 Python Software Foundation.\n",
       "  All Rights Reserved.\n",
       "  \n",
       "  Copyright (c) 2000 BeOpen.com.\n",
       "  All Rights Reserved.\n",
       "  \n",
       "  Copyright (c) 1995-2001 Corporation for National Research Initiatives.\n",
       "  All Rights Reserved.\n",
       "  \n",
       "  Copyright (c) 1991-1995 Stichting Mathematisch Centrum, Amsterdam.\n",
       "  All Rights Reserved.,\n",
       "  'credits':     Thanks to CWI, CNRI, BeOpen.com, Zope Corporation and a cast of thousands\n",
       "      for supporting Python development.  See www.python.org for more information.,\n",
       "  'license': Type license() to see the full license text,\n",
       "  'help': Type help() for interactive help, or help(object) for help about object.,\n",
       "  '__IPYTHON__': True,\n",
       "  'display': <function IPython.core.display.display(*objs, include=None, exclude=None, metadata=None, transient=None, display_id=None, **kwargs)>,\n",
       "  'get_ipython': <bound method InteractiveShell.get_ipython of <ipykernel.zmqshell.ZMQInteractiveShell object at 0x73137dabb790>>},\n",
       " 'indexed': <module 'sympy.tensor.indexed' from '/usr/lib/python3/dist-packages/sympy/tensor/indexed.py'>,\n",
       " 'IndexedBase': sympy.tensor.indexed.IndexedBase,\n",
       " 'Idx': sympy.tensor.indexed.Idx,\n",
       " 'Indexed': sympy.tensor.indexed.Indexed,\n",
       " 'index_methods': <module 'sympy.tensor.index_methods' from '/usr/lib/python3/dist-packages/sympy/tensor/index_methods.py'>,\n",
       " 'get_contraction_structure': <function sympy.tensor.index_methods.get_contraction_structure(expr)>,\n",
       " 'get_indices': <function sympy.tensor.index_methods.get_indices(expr)>,\n",
       " 'functions': <module 'sympy.tensor.functions' from '/usr/lib/python3/dist-packages/sympy/tensor/functions.py'>,\n",
       " 'shape': <function sympy.tensor.functions.shape(expr)>,\n",
       " 'array': <module 'sympy.tensor.array' from '/usr/lib/python3/dist-packages/sympy/tensor/array/__init__.py'>,\n",
       " 'MutableDenseNDimArray': sympy.tensor.array.dense_ndim_array.MutableDenseNDimArray,\n",
       " 'ImmutableDenseNDimArray': sympy.tensor.array.dense_ndim_array.ImmutableDenseNDimArray,\n",
       " 'MutableSparseNDimArray': sympy.tensor.array.sparse_ndim_array.MutableSparseNDimArray,\n",
       " 'ImmutableSparseNDimArray': sympy.tensor.array.sparse_ndim_array.ImmutableSparseNDimArray,\n",
       " 'NDimArray': sympy.tensor.array.ndim_array.NDimArray,\n",
       " 'tensorproduct': <function sympy.tensor.array.arrayop.tensorproduct(*args)>,\n",
       " 'tensorcontraction': <function sympy.tensor.array.arrayop.tensorcontraction(array, *contraction_axes)>,\n",
       " 'tensordiagonal': <function sympy.tensor.array.arrayop.tensordiagonal(array, *diagonal_axes)>,\n",
       " 'derive_by_array': <function sympy.tensor.array.arrayop.derive_by_array(expr, dx)>,\n",
       " 'permutedims': <function sympy.tensor.array.arrayop.permutedims(expr, perm=None, index_order_old=None, index_order_new=None)>,\n",
       " 'Array': sympy.tensor.array.dense_ndim_array.ImmutableDenseNDimArray,\n",
       " 'DenseNDimArray': sympy.tensor.array.dense_ndim_array.DenseNDimArray,\n",
       " 'SparseNDimArray': sympy.tensor.array.sparse_ndim_array.SparseNDimArray,\n",
       " '__all__': ['IndexedBase',\n",
       "  'Idx',\n",
       "  'Indexed',\n",
       "  'get_contraction_structure',\n",
       "  'get_indices',\n",
       "  'shape',\n",
       "  'MutableDenseNDimArray',\n",
       "  'ImmutableDenseNDimArray',\n",
       "  'MutableSparseNDimArray',\n",
       "  'ImmutableSparseNDimArray',\n",
       "  'NDimArray',\n",
       "  'tensorproduct',\n",
       "  'tensorcontraction',\n",
       "  'tensordiagonal',\n",
       "  'derive_by_array',\n",
       "  'permutedims',\n",
       "  'Array',\n",
       "  'DenseNDimArray',\n",
       "  'SparseNDimArray']}"
      ]
     },
     "execution_count": 3,
     "metadata": {},
     "output_type": "execute_result"
    }
   ],
   "source": [
    "sp.tensor.__dict__"
   ]
  },
  {
   "cell_type": "code",
   "execution_count": 6,
   "metadata": {},
   "outputs": [
    {
     "ename": "TypeError",
     "evalue": "tensorcontraction() missing 1 required positional argument: 'array'",
     "output_type": "error",
     "traceback": [
      "\u001b[0;31m---------------------------------------------------------------------------\u001b[0m",
      "\u001b[0;31mTypeError\u001b[0m                                 Traceback (most recent call last)",
      "\u001b[0;32m/tmp/ipykernel_74430/1531297611.py\u001b[0m in \u001b[0;36m<module>\u001b[0;34m\u001b[0m\n\u001b[0;32m----> 1\u001b[0;31m \u001b[0msp\u001b[0m\u001b[0;34m.\u001b[0m\u001b[0mtensor\u001b[0m\u001b[0;34m.\u001b[0m\u001b[0mtensorcontraction\u001b[0m\u001b[0;34m(\u001b[0m\u001b[0;34m)\u001b[0m\u001b[0;34m\u001b[0m\u001b[0;34m\u001b[0m\u001b[0m\n\u001b[0m",
      "\u001b[0;31mTypeError\u001b[0m: tensorcontraction() missing 1 required positional argument: 'array'"
     ]
    }
   ],
   "source": [
    "sp.tensor.tensorcontraction()"
   ]
  },
  {
   "cell_type": "code",
   "execution_count": 36,
   "metadata": {},
   "outputs": [],
   "source": [
    "from sympy.tensor.tensor import TensorIndexType, TensorIndex, TensorHead, TensorSymmetry, tensor_indices"
   ]
  },
  {
   "cell_type": "code",
   "execution_count": 26,
   "metadata": {},
   "outputs": [
    {
     "data": {
      "text/latex": [
       "$\\displaystyle \\operatorname{TensorIndexType}\\left(Lorentz, L, dim_{L}, dim_{L}, 1, metric\\right)$"
      ],
      "text/plain": [
       "Lorentz"
      ]
     },
     "execution_count": 26,
     "metadata": {},
     "output_type": "execute_result"
    }
   ],
   "source": [
    "Lorentz = TensorIndexType('Lorentz', dummy_name='L')\n",
    "Lorentz"
   ]
  },
  {
   "cell_type": "markdown",
   "metadata": {},
   "source": [
    "What on earth is going on here?"
   ]
  },
  {
   "cell_type": "code",
   "execution_count": 30,
   "metadata": {},
   "outputs": [
    {
     "data": {
      "text/latex": [
       "$\\displaystyle \\operatorname{TensorHead}\\left(metric, \\left( \\operatorname{TensorIndexType}\\left(Lorentz, L, dim_{L}, dim_{L}, 1, metric\\right), \\  \\operatorname{TensorIndexType}\\left(Lorentz, L, dim_{L}, dim_{L}, 1, metric\\right)\\right), \\operatorname{TensorSymmetry}\\left(\\left( 0,\\right), \\left( \\left( 0\\; 1\\right)\\left( 3\\right),\\right)\\right)\\right)$"
      ],
      "text/plain": [
       "metric(Lorentz,Lorentz)"
      ]
     },
     "execution_count": 30,
     "metadata": {},
     "output_type": "execute_result"
    }
   ],
   "source": [
    "Lorentz.metric"
   ]
  },
  {
   "cell_type": "markdown",
   "metadata": {},
   "source": [
    "That's also exceptionally confusing."
   ]
  },
  {
   "cell_type": "code",
   "execution_count": 19,
   "metadata": {},
   "outputs": [],
   "source": [
    "mu = TensorIndex('mu', Lorentz, is_up = True)\n",
    "nu = TensorIndex('nu', Lorentz, is_up = True)"
   ]
  },
  {
   "cell_type": "code",
   "execution_count": 31,
   "metadata": {},
   "outputs": [
    {
     "data": {
      "text/latex": [
       "$\\displaystyle {}^{\\mu}$"
      ],
      "text/plain": [
       "mu"
      ]
     },
     "execution_count": 31,
     "metadata": {},
     "output_type": "execute_result"
    }
   ],
   "source": [
    "mu"
   ]
  },
  {
   "cell_type": "code",
   "execution_count": 23,
   "metadata": {},
   "outputs": [
    {
     "data": {
      "text/latex": [
       "$\\displaystyle \\operatorname{TensorHead}\\left(A, \\left( \\operatorname{TensorIndexType}\\left(Lorentz, L, dim_{L}, dim_{L}, 1, metric\\right), \\  \\operatorname{TensorIndexType}\\left(Lorentz, L, dim_{L}, dim_{L}, 1, metric\\right)\\right), \\operatorname{TensorSymmetry}\\left(\\left( \\right), \\left( \\left( 3\\right),\\right)\\right)\\right)$"
      ],
      "text/plain": [
       "A(Lorentz,Lorentz)"
      ]
     },
     "execution_count": 23,
     "metadata": {},
     "output_type": "execute_result"
    }
   ],
   "source": [
    "A = TensorHead('A', [Lorentz, Lorentz])\n",
    "A"
   ]
  },
  {
   "cell_type": "code",
   "execution_count": 24,
   "metadata": {},
   "outputs": [
    {
     "data": {
      "text/latex": [
       "$\\displaystyle A{}^{\\mu\\nu}$"
      ],
      "text/plain": [
       "A(mu, nu)"
      ]
     },
     "execution_count": 24,
     "metadata": {},
     "output_type": "execute_result"
    }
   ],
   "source": [
    "A(mu, nu)"
   ]
  },
  {
   "cell_type": "code",
   "execution_count": 34,
   "metadata": {},
   "outputs": [],
   "source": [
    "electric_field_x_component = sp.Symbol(\"E_x\")\n",
    "electric_field_y_component = sp.Symbol(\"E_y\")\n",
    "electric_field_z_component = sp.Symbol(\"E_z\")\n",
    "magnetic_field_x_component = sp.Symbol(\"B_x\")\n",
    "magnetic_field_y_component = sp.Symbol(\"B_y\")\n",
    "magnetic_field_z_component = sp.Symbol(\"B_z\")"
   ]
  },
  {
   "cell_type": "code",
   "execution_count": 38,
   "metadata": {},
   "outputs": [
    {
     "data": {
      "text/latex": [
       "$\\displaystyle \\operatorname{TensorHead}\\left(F, \\left( \\operatorname{TensorIndexType}\\left(Lorentz, L, dim_{L}, dim_{L}, 1, metric\\right), \\  \\operatorname{TensorIndexType}\\left(Lorentz, L, dim_{L}, dim_{L}, 1, metric\\right)\\right), \\operatorname{TensorSymmetry}\\left(\\left( 0,\\right), \\left( \\left( 0\\; 1\\right)\\left( 2\\; 3\\right),\\right)\\right)\\right)$"
      ],
      "text/plain": [
       "F(Lorentz,Lorentz)"
      ]
     },
     "execution_count": 38,
     "metadata": {},
     "output_type": "execute_result"
    }
   ],
   "source": [
    "electromagnetic_field_strength_F_symbol = sp.Symbol(\"F\")\n",
    "electromagnetic_field_strength_total_antisymmetry = TensorSymmetry.fully_symmetric(rank = -2)\n",
    "electromagnetic_field_strength_tensor = TensorHead(\n",
    "    electromagnetic_field_strength_F_symbol,\n",
    "    [Lorentz, Lorentz],\n",
    "    electromagnetic_field_strength_total_antisymmetry)\n",
    "electromagnetic_field_strength_tensor\n"
   ]
  },
  {
   "cell_type": "code",
   "execution_count": 40,
   "metadata": {},
   "outputs": [
    {
     "data": {
      "text/latex": [
       "$\\displaystyle \\operatorname{TensorHead}\\left(p, \\left( \\operatorname{TensorIndexType}\\left(Lorentz, L, dim_{L}, dim_{L}, 1, metric\\right),\\right), \\operatorname{TensorSymmetry}\\left(\\left( \\right), \\left( \\left( 2\\right),\\right)\\right)\\right)$"
      ],
      "text/plain": [
       "p(Lorentz)"
      ]
     },
     "execution_count": 40,
     "metadata": {},
     "output_type": "execute_result"
    }
   ],
   "source": [
    "particle_four_momentum = TensorHead(\n",
    "    'p', \n",
    "    [Lorentz], \n",
    "    TensorSymmetry.no_symmetry(1))\n",
    "particle_four_momentum"
   ]
  },
  {
   "cell_type": "code",
   "execution_count": 41,
   "metadata": {},
   "outputs": [],
   "source": [
    "Lorentz = TensorIndexType('Lorentz', dummy_name='L')\n",
    "a, b, c, d = tensor_indices('a,b,c,d', Lorentz)"
   ]
  },
  {
   "cell_type": "code",
   "execution_count": 49,
   "metadata": {},
   "outputs": [],
   "source": [
    "i0, i1 = tensor_indices('i0:2', Lorentz)"
   ]
  },
  {
   "cell_type": "code",
   "execution_count": 51,
   "metadata": {},
   "outputs": [
    {
     "data": {
      "text/plain": [
       "{Lorentz: Matrix([\n",
       " [1,  0,  0,  0],\n",
       " [0, -1,  0,  0],\n",
       " [0,  0, -1,  0],\n",
       " [0,  0,  0, -1]])}"
      ]
     },
     "execution_count": 51,
     "metadata": {},
     "output_type": "execute_result"
    }
   ],
   "source": [
    "replacements = {Lorentz: sp.diag(1, -1, -1, -1)}\n",
    "replacements"
   ]
  },
  {
   "cell_type": "code",
   "execution_count": null,
   "metadata": {},
   "outputs": [],
   "source": [
    "replacements.update()"
   ]
  }
 ],
 "metadata": {
  "kernelspec": {
   "display_name": "Python 3",
   "language": "python",
   "name": "python3"
  },
  "language_info": {
   "codemirror_mode": {
    "name": "ipython",
    "version": 3
   },
   "file_extension": ".py",
   "mimetype": "text/x-python",
   "name": "python",
   "nbconvert_exporter": "python",
   "pygments_lexer": "ipython3",
   "version": "3.10.12"
  }
 },
 "nbformat": 4,
 "nbformat_minor": 2
}
