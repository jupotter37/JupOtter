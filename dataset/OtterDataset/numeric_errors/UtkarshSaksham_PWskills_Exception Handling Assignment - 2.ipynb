{
 "cells": [
  {
   "cell_type": "markdown",
   "id": "0c31382e-897d-4aa3-9f32-641752bb5545",
   "metadata": {},
   "source": [
    "Question 1"
   ]
  },
  {
   "cell_type": "markdown",
   "id": "2a2f1560-f3c4-46ba-88ed-c0cbc5730111",
   "metadata": {},
   "source": [
    "We use exception class while creating the custom class in order to inherit the properties of exception class so that custom class become a member of exception class and shows a error while encountering particular condition."
   ]
  },
  {
   "cell_type": "markdown",
   "id": "26db392a-cf5e-4a26-ba16-2f59ab3a5588",
   "metadata": {},
   "source": [
    "Question 2"
   ]
  },
  {
   "cell_type": "code",
   "execution_count": 12,
   "id": "da487316-3ccf-452b-bcc6-cfd84e5c5915",
   "metadata": {},
   "outputs": [
    {
     "name": "stdout",
     "output_type": "stream",
     "text": [
      "Hierarchy for Built-in exceptions is : \n",
      " BaseException\n",
      "--- Exception\n",
      "------ TypeError\n",
      "--------- FloatOperation\n",
      "--------- MultipartConversionError\n",
      "------ StopAsyncIteration\n",
      "------ StopIteration\n",
      "------ ImportError\n",
      "--------- ModuleNotFoundError\n",
      "--------- ZipImportError\n",
      "------ OSError\n",
      "--------- ConnectionError\n",
      "------------ BrokenPipeError\n",
      "------------ ConnectionAbortedError\n",
      "------------ ConnectionRefusedError\n",
      "------------ ConnectionResetError\n",
      "--------------- RemoteDisconnected\n",
      "--------- BlockingIOError\n",
      "--------- ChildProcessError\n",
      "--------- FileExistsError\n",
      "--------- FileNotFoundError\n",
      "--------- IsADirectoryError\n",
      "--------- NotADirectoryError\n",
      "--------- InterruptedError\n",
      "------------ InterruptedSystemCall\n",
      "--------- PermissionError\n",
      "--------- ProcessLookupError\n",
      "--------- TimeoutError\n",
      "--------- UnsupportedOperation\n",
      "--------- itimer_error\n",
      "--------- herror\n",
      "--------- gaierror\n",
      "--------- SSLError\n",
      "------------ SSLCertVerificationError\n",
      "------------ SSLZeroReturnError\n",
      "------------ SSLWantWriteError\n",
      "------------ SSLWantReadError\n",
      "------------ SSLSyscallError\n",
      "------------ SSLEOFError\n",
      "--------- Error\n",
      "------------ SameFileError\n",
      "--------- SpecialFileError\n",
      "--------- ExecError\n",
      "--------- ReadError\n",
      "--------- URLError\n",
      "------------ HTTPError\n",
      "------------ ContentTooShortError\n",
      "--------- BadGzipFile\n",
      "------ EOFError\n",
      "--------- IncompleteReadError\n",
      "------ RuntimeError\n",
      "--------- RecursionError\n",
      "--------- NotImplementedError\n",
      "------------ ZMQVersionError\n",
      "------------ StdinNotImplementedError\n",
      "--------- _DeadlockError\n",
      "--------- BrokenBarrierError\n",
      "--------- BrokenExecutor\n",
      "------------ BrokenThreadPool\n",
      "--------- SendfileNotAvailableError\n",
      "--------- ExtractionError\n",
      "--------- VariableError\n",
      "------ NameError\n",
      "--------- UnboundLocalError\n",
      "------ AttributeError\n",
      "--------- FrozenInstanceError\n",
      "------ SyntaxError\n",
      "--------- IndentationError\n",
      "------------ TabError\n",
      "------ LookupError\n",
      "--------- IndexError\n",
      "--------- KeyError\n",
      "------------ NoSuchKernel\n",
      "------------ UnknownBackend\n",
      "--------- CodecRegistryError\n",
      "------ ValueError\n",
      "--------- UnicodeError\n",
      "------------ UnicodeEncodeError\n",
      "------------ UnicodeDecodeError\n",
      "------------ UnicodeTranslateError\n",
      "--------- UnsupportedOperation\n",
      "--------- JSONDecodeError\n",
      "--------- SSLCertVerificationError\n",
      "--------- Error\n",
      "--------- UnsupportedDigestmodError\n",
      "--------- IllegalMonthError\n",
      "--------- IllegalWeekdayError\n",
      "--------- ParserError\n",
      "--------- ClassNotFound\n",
      "--------- ClipboardEmpty\n",
      "--------- MessageDefect\n",
      "------------ NoBoundaryInMultipartDefect\n",
      "------------ StartBoundaryNotFoundDefect\n",
      "------------ CloseBoundaryNotFoundDefect\n",
      "------------ FirstHeaderLineIsContinuationDefect\n",
      "------------ MisplacedEnvelopeHeaderDefect\n",
      "------------ MissingHeaderBodySeparatorDefect\n",
      "------------ MultipartInvariantViolationDefect\n",
      "------------ InvalidMultipartContentTransferEncodingDefect\n",
      "------------ UndecodableBytesDefect\n",
      "------------ InvalidBase64PaddingDefect\n",
      "------------ InvalidBase64CharactersDefect\n",
      "------------ InvalidBase64LengthDefect\n",
      "------------ HeaderDefect\n",
      "--------------- InvalidHeaderDefect\n",
      "--------------- HeaderMissingRequiredValue\n",
      "--------------- NonPrintableDefect\n",
      "--------------- ObsoleteHeaderDefect\n",
      "--------------- NonASCIILocalPartDefect\n",
      "--------------- InvalidDateDefect\n",
      "--------- MacroToEdit\n",
      "--------- InvalidFileException\n",
      "--------- UnequalIterablesError\n",
      "--------- InvalidVersion\n",
      "--------- _InvalidELFFileHeader\n",
      "--------- InvalidWheelFilename\n",
      "--------- InvalidSdistFilename\n",
      "--------- InvalidSpecifier\n",
      "--------- InvalidMarker\n",
      "--------- UndefinedComparison\n",
      "--------- UndefinedEnvironmentName\n",
      "--------- InvalidRequirement\n",
      "------------ RequirementParseError\n",
      "--------- InvalidVersion\n",
      "------ AssertionError\n",
      "------ ArithmeticError\n",
      "--------- FloatingPointError\n",
      "--------- OverflowError\n",
      "--------- ZeroDivisionError\n",
      "------------ DivisionByZero\n",
      "------------ DivisionUndefined\n",
      "--------- DecimalException\n",
      "------------ Clamped\n",
      "------------ Rounded\n",
      "--------------- Underflow\n",
      "--------------- Overflow\n",
      "------------ Inexact\n",
      "--------------- Underflow\n",
      "--------------- Overflow\n",
      "------------ Subnormal\n",
      "--------------- Underflow\n",
      "------------ DivisionByZero\n",
      "------------ FloatOperation\n",
      "------------ InvalidOperation\n",
      "--------------- ConversionSyntax\n",
      "--------------- DivisionImpossible\n",
      "--------------- DivisionUndefined\n",
      "--------------- InvalidContext\n",
      "------ SystemError\n",
      "--------- CodecRegistryError\n",
      "------ ReferenceError\n",
      "------ MemoryError\n",
      "------ BufferError\n",
      "------ Warning\n",
      "--------- UserWarning\n",
      "------------ GetPassWarning\n",
      "------------ FormatterWarning\n",
      "--------- EncodingWarning\n",
      "--------- DeprecationWarning\n",
      "------------ ProvisionalWarning\n",
      "--------- PendingDeprecationWarning\n",
      "--------- SyntaxWarning\n",
      "--------- RuntimeWarning\n",
      "------------ ProactorSelectorThreadWarning\n",
      "------------ UnknownTimezoneWarning\n",
      "------------ PEP440Warning\n",
      "--------- FutureWarning\n",
      "------------ ProvisionalCompleterWarning\n",
      "--------- ImportWarning\n",
      "--------- UnicodeWarning\n",
      "--------- BytesWarning\n",
      "--------- ResourceWarning\n",
      "--------- DeprecatedTzFormatWarning\n",
      "--------- PkgResourcesDeprecationWarning\n",
      "------ _OptionError\n",
      "------ _Error\n",
      "------ error\n",
      "------ Verbose\n",
      "------ Error\n",
      "------ SubprocessError\n",
      "--------- CalledProcessError\n",
      "--------- TimeoutExpired\n",
      "------ TokenError\n",
      "------ StopTokenizing\n",
      "------ ClassFoundException\n",
      "------ EndOfBlock\n",
      "------ TraitError\n",
      "------ Error\n",
      "------ Error\n",
      "--------- CancelledError\n",
      "--------- TimeoutError\n",
      "--------- InvalidStateError\n",
      "------ _GiveupOnSendfile\n",
      "------ error\n",
      "------ Incomplete\n",
      "------ TimeoutError\n",
      "------ InvalidStateError\n",
      "------ LimitOverrunError\n",
      "------ QueueEmpty\n",
      "------ QueueFull\n",
      "------ Empty\n",
      "------ Full\n",
      "------ ArgumentError\n",
      "------ ZMQBaseError\n",
      "--------- ZMQError\n",
      "------------ ContextTerminated\n",
      "------------ Again\n",
      "------------ InterruptedSystemCall\n",
      "--------- ZMQBindError\n",
      "--------- NotDone\n",
      "------ PickleError\n",
      "--------- PicklingError\n",
      "--------- UnpicklingError\n",
      "------ _Stop\n",
      "------ ArgumentError\n",
      "------ ArgumentTypeError\n",
      "------ ConfigError\n",
      "--------- ConfigLoaderError\n",
      "------------ ArgumentError\n",
      "--------- ConfigFileNotFound\n",
      "------ ConfigurableError\n",
      "--------- MultipleInstanceError\n",
      "------ ApplicationError\n",
      "------ error\n",
      "------ TimeoutError\n",
      "------ error\n",
      "------ ReturnValueIgnoredError\n",
      "------ KeyReuseError\n",
      "------ UnknownKeyError\n",
      "------ LeakedCallbackError\n",
      "------ BadYieldError\n",
      "------ ReturnValueIgnoredError\n",
      "------ Return\n",
      "------ InvalidPortNumber\n",
      "------ error\n",
      "------ LZMAError\n",
      "------ RegistryError\n",
      "------ _GiveupOnFastCopy\n",
      "------ Error\n",
      "--------- NoSectionError\n",
      "--------- DuplicateSectionError\n",
      "--------- DuplicateOptionError\n",
      "--------- NoOptionError\n",
      "--------- InterpolationError\n",
      "------------ InterpolationMissingOptionError\n",
      "------------ InterpolationSyntaxError\n",
      "------------ InterpolationDepthError\n",
      "--------- ParsingError\n",
      "------------ MissingSectionHeaderError\n",
      "------ NoIPAddresses\n",
      "------ BadZipFile\n",
      "------ LargeZipFile\n",
      "------ BadEntryPoint\n",
      "------ NoSuchEntryPoint\n",
      "------ DuplicateKernelError\n",
      "------ ErrorDuringImport\n",
      "------ NotOneValueFound\n",
      "------ CannotEval\n",
      "------ OptionError\n",
      "------ BdbQuit\n",
      "------ Restart\n",
      "------ ExceptionPexpect\n",
      "--------- EOF\n",
      "--------- TIMEOUT\n",
      "------ PtyProcessError\n",
      "------ FindCmdError\n",
      "------ HomeDirError\n",
      "------ ProfileDirError\n",
      "------ IPythonCoreError\n",
      "--------- TryNext\n",
      "--------- UsageError\n",
      "--------- StdinNotImplementedError\n",
      "------ InputRejected\n",
      "------ GetoptError\n",
      "------ ErrorToken\n",
      "------ PrefilterError\n",
      "------ AliasError\n",
      "--------- InvalidAliasError\n",
      "------ Error\n",
      "--------- InterfaceError\n",
      "--------- DatabaseError\n",
      "------------ InternalError\n",
      "------------ OperationalError\n",
      "------------ ProgrammingError\n",
      "------------ IntegrityError\n",
      "------------ DataError\n",
      "------------ NotSupportedError\n",
      "------ Warning\n",
      "------ SpaceInInput\n",
      "------ DOMException\n",
      "--------- IndexSizeErr\n",
      "--------- DomstringSizeErr\n",
      "--------- HierarchyRequestErr\n",
      "--------- WrongDocumentErr\n",
      "--------- InvalidCharacterErr\n",
      "--------- NoDataAllowedErr\n",
      "--------- NoModificationAllowedErr\n",
      "--------- NotFoundErr\n",
      "--------- NotSupportedErr\n",
      "--------- InuseAttributeErr\n",
      "--------- InvalidStateErr\n",
      "--------- SyntaxErr\n",
      "--------- InvalidModificationErr\n",
      "--------- NamespaceErr\n",
      "--------- InvalidAccessErr\n",
      "--------- ValidationErr\n",
      "------ ValidationError\n",
      "------ EditReadOnlyBuffer\n",
      "------ _Retry\n",
      "------ InvalidLayoutError\n",
      "------ HeightIsUnknownError\n",
      "------ ParserSyntaxError\n",
      "------ InternalParseError\n",
      "------ _PositionUpdatingFinished\n",
      "------ SimpleGetItemNotFound\n",
      "------ UncaughtAttributeError\n",
      "------ HasNoContext\n",
      "------ ParamIssue\n",
      "------ _JediError\n",
      "--------- InternalError\n",
      "--------- WrongVersion\n",
      "--------- RefactoringError\n",
      "------ OnErrorLeaf\n",
      "------ InvalidPythonEnvironment\n",
      "------ MessageError\n",
      "--------- MessageParseError\n",
      "------------ HeaderParseError\n",
      "------------ BoundaryError\n",
      "--------- MultipartConversionError\n",
      "--------- CharsetError\n",
      "------ Error\n",
      "------ HTTPException\n",
      "--------- NotConnected\n",
      "--------- InvalidURL\n",
      "--------- UnknownProtocol\n",
      "--------- UnknownTransferEncoding\n",
      "--------- UnimplementedFileMode\n",
      "--------- IncompleteRead\n",
      "--------- ImproperConnectionState\n",
      "------------ CannotSendRequest\n",
      "------------ CannotSendHeader\n",
      "------------ ResponseNotReady\n",
      "--------- BadStatusLine\n",
      "------------ RemoteDisconnected\n",
      "--------- LineTooLong\n",
      "------ InteractivelyDefined\n",
      "------ KillEmbedded\n",
      "------ Error\n",
      "--------- NoSuchProcess\n",
      "------------ ZombieProcess\n",
      "--------- AccessDenied\n",
      "--------- TimeoutExpired\n",
      "------ _Ipv6UnsupportedError\n",
      "------ QueueEmpty\n",
      "------ QueueFull\n",
      "------ DebuggerInitializationError\n",
      "------ ExpatError\n",
      "------ Error\n",
      "--------- ProtocolError\n",
      "--------- ResponseError\n",
      "--------- Fault\n",
      "------ ParseBaseException\n",
      "--------- ParseException\n",
      "--------- ParseFatalException\n",
      "------------ ParseSyntaxException\n",
      "------ RecursiveGrammarException\n",
      "------ ResolutionError\n",
      "--------- VersionConflict\n",
      "------------ ContextualVersionConflict\n",
      "--------- DistributionNotFound\n",
      "--------- UnknownExtra\n",
      "------ _Error\n",
      "------ UnableToResolveVariableException\n",
      "------ InvalidTypeInArgsException\n",
      "--- GeneratorExit\n",
      "--- SystemExit\n",
      "--- KeyboardInterrupt\n",
      "--- CancelledError\n",
      "--- AbortThread\n"
     ]
    }
   ],
   "source": [
    "# Python Exception Hierarchy\n",
    "# import inspect module \n",
    "import inspect \n",
    "\n",
    "# our treeClass function \n",
    "def treeClass(cls, ind = 0): \n",
    "\t\n",
    "\t# print name of the class \n",
    "\tprint ('-' * ind, cls.__name__) \n",
    "\t\n",
    "\t# iterating through subclasses \n",
    "\tfor i in cls.__subclasses__(): \n",
    "\t\ttreeClass(i, ind + 3) \n",
    "\n",
    "print(\"Hierarchy for Built-in exceptions is : \") \n",
    "\n",
    "# inspect.getmro() Return a tuple \n",
    "# of class cls’s base classes. \n",
    "\n",
    "# building a tree hierarchy \n",
    "inspect.getclasstree(inspect.getmro(BaseException)) \n",
    "\n",
    "# function call \n",
    "treeClass(BaseException) \n"
   ]
  },
  {
   "cell_type": "markdown",
   "id": "96b5b1f9-a133-4c07-a016-b55dfad65aaa",
   "metadata": {},
   "source": [
    "Question 3"
   ]
  },
  {
   "cell_type": "markdown",
   "id": "fc4051f2-efe2-4099-8b6a-1fd9e8dc1761",
   "metadata": {},
   "source": [
    "Arithmetic Error :- It contains three types of errors that are OverflowError,                                   ZeroDivisionError and FloatingPointError."
   ]
  },
  {
   "cell_type": "markdown",
   "id": "8e6fd4d5-e59c-4f37-9f21-f2efa798dd87",
   "metadata": {},
   "source": [
    "1. ZeroDivisionError :- This type of error occur when second argument of division or modulo operation is zero."
   ]
  },
  {
   "cell_type": "code",
   "execution_count": 1,
   "id": "adb16b86-68bc-413e-9ec7-38cce88dd627",
   "metadata": {},
   "outputs": [
    {
     "ename": "ZeroDivisionError",
     "evalue": "integer division or modulo by zero",
     "output_type": "error",
     "traceback": [
      "\u001b[0;31m---------------------------------------------------------------------------\u001b[0m",
      "\u001b[0;31mZeroDivisionError\u001b[0m                         Traceback (most recent call last)",
      "Cell \u001b[0;32mIn[1], line 2\u001b[0m\n\u001b[1;32m      1\u001b[0m a \u001b[38;5;241m=\u001b[39m \u001b[38;5;241m10\u001b[39m\n\u001b[0;32m----> 2\u001b[0m d \u001b[38;5;241m=\u001b[39m \u001b[43ma\u001b[49m\u001b[38;5;241;43m%\u001b[39;49m\u001b[38;5;241;43m0\u001b[39;49m\n",
      "\u001b[0;31mZeroDivisionError\u001b[0m: integer division or modulo by zero"
     ]
    }
   ],
   "source": [
    "a = 10\n",
    "d = a%0"
   ]
  },
  {
   "cell_type": "markdown",
   "id": "9948c53c-b08f-4edc-8bfb-ef30b661f392",
   "metadata": {},
   "source": [
    "In the above error we can see that when we are doing modulo operation with zero therefore we are getting ZeroDivisionError."
   ]
  },
  {
   "cell_type": "markdown",
   "id": "81b3a20d-f1b2-46da-bff4-95f257c726d1",
   "metadata": {},
   "source": [
    "2. OverflowError :- This type of error occurs when result of arithmetic operation is too large to represent."
   ]
  },
  {
   "cell_type": "code",
   "execution_count": 4,
   "id": "fb08dedb-9beb-498d-9583-5275b65a121b",
   "metadata": {},
   "outputs": [
    {
     "ename": "OverflowError",
     "evalue": "int too large to convert to float",
     "output_type": "error",
     "traceback": [
      "\u001b[0;31m---------------------------------------------------------------------------\u001b[0m",
      "\u001b[0;31mOverflowError\u001b[0m                             Traceback (most recent call last)",
      "Cell \u001b[0;32mIn[4], line 2\u001b[0m\n\u001b[1;32m      1\u001b[0m large_no \u001b[38;5;241m=\u001b[39m \u001b[38;5;241m15\u001b[39m\u001b[38;5;241m*\u001b[39m\u001b[38;5;241m*\u001b[39m\u001b[38;5;241m1000000\u001b[39m\n\u001b[0;32m----> 2\u001b[0m result \u001b[38;5;241m=\u001b[39m \u001b[38;5;28;43mfloat\u001b[39;49m\u001b[43m(\u001b[49m\u001b[43mlarge_no\u001b[49m\u001b[43m)\u001b[49m\n\u001b[1;32m      3\u001b[0m \u001b[38;5;28mprint\u001b[39m(result)\n",
      "\u001b[0;31mOverflowError\u001b[0m: int too large to convert to float"
     ]
    }
   ],
   "source": [
    "large_no = 15**1000000\n",
    "result = float(large_no)\n",
    "print(result)"
   ]
  },
  {
   "cell_type": "markdown",
   "id": "1fc68809-c0c4-4966-866b-800d9eb69f55",
   "metadata": {},
   "source": [
    "Here, we can easily see that the integer no that is large_no was exceeding the limits of python interpreter for float representation."
   ]
  },
  {
   "cell_type": "markdown",
   "id": "9d8139a7-db6c-4ea9-b7dd-c9b9ec09b4b6",
   "metadata": {},
   "source": [
    "Question 4"
   ]
  },
  {
   "cell_type": "markdown",
   "id": "a40cc105-4c16-4d9e-a6a9-2520b2de5531",
   "metadata": {},
   "source": [
    "LookupError :- It is the base class for the exceptions that are raised when a particular index or key is invalid."
   ]
  },
  {
   "cell_type": "markdown",
   "id": "5d782d9f-5c00-45c9-91dc-659c42e29129",
   "metadata": {},
   "source": [
    "KeyError :- It is raised when particular key is not found in dictionary."
   ]
  },
  {
   "cell_type": "code",
   "execution_count": 5,
   "id": "fd0d07bb-7ad5-40e4-8c9f-2117f3a6ec7a",
   "metadata": {},
   "outputs": [],
   "source": [
    "dict = {\"Mohan\":\"Gorakhpur\", \"Abhishek\":\"Jhansi\", \"Utkarsh\":\"Lucknow\"}"
   ]
  },
  {
   "cell_type": "code",
   "execution_count": 6,
   "id": "fc0ac939-fadb-4ea3-ad60-9605ce76355f",
   "metadata": {},
   "outputs": [
    {
     "data": {
      "text/plain": [
       "'Gorakhpur'"
      ]
     },
     "execution_count": 6,
     "metadata": {},
     "output_type": "execute_result"
    }
   ],
   "source": [
    "dict[\"Mohan\"]"
   ]
  },
  {
   "cell_type": "code",
   "execution_count": 7,
   "id": "5ed33e19-c1aa-45ec-be4a-ea80d7340bb2",
   "metadata": {},
   "outputs": [
    {
     "ename": "KeyError",
     "evalue": "'Aniruddha'",
     "output_type": "error",
     "traceback": [
      "\u001b[0;31m---------------------------------------------------------------------------\u001b[0m",
      "\u001b[0;31mKeyError\u001b[0m                                  Traceback (most recent call last)",
      "Cell \u001b[0;32mIn[7], line 1\u001b[0m\n\u001b[0;32m----> 1\u001b[0m \u001b[38;5;28;43mdict\u001b[39;49m\u001b[43m[\u001b[49m\u001b[38;5;124;43m\"\u001b[39;49m\u001b[38;5;124;43mAniruddha\u001b[39;49m\u001b[38;5;124;43m\"\u001b[39;49m\u001b[43m]\u001b[49m\n",
      "\u001b[0;31mKeyError\u001b[0m: 'Aniruddha'"
     ]
    }
   ],
   "source": [
    "dict[\"Aniruddha\"]"
   ]
  },
  {
   "cell_type": "code",
   "execution_count": null,
   "id": "cdc39f1d-6314-43f2-97da-e1373de56ac7",
   "metadata": {},
   "outputs": [],
   "source": [
    "# As we can see in the above cell key error has been raised because the particular key is not found in the dict key value pairs."
   ]
  },
  {
   "cell_type": "markdown",
   "id": "f5a42daf-a64a-4b91-a197-6f6cfe720a36",
   "metadata": {},
   "source": [
    "IndexError :- It is raised when a particular index value is out of range."
   ]
  },
  {
   "cell_type": "code",
   "execution_count": 8,
   "id": "aafd7f96-9489-4934-8d20-7c6b11371db1",
   "metadata": {},
   "outputs": [],
   "source": [
    "a = \"Anamika\""
   ]
  },
  {
   "cell_type": "code",
   "execution_count": 9,
   "id": "59001e73-d32a-4065-abd8-f717bd0e670e",
   "metadata": {},
   "outputs": [
    {
     "data": {
      "text/plain": [
       "'a'"
      ]
     },
     "execution_count": 9,
     "metadata": {},
     "output_type": "execute_result"
    }
   ],
   "source": [
    "a[6]"
   ]
  },
  {
   "cell_type": "code",
   "execution_count": 10,
   "id": "f7602dad-805a-4085-a50c-a27e4c27ed87",
   "metadata": {},
   "outputs": [
    {
     "ename": "IndexError",
     "evalue": "string index out of range",
     "output_type": "error",
     "traceback": [
      "\u001b[0;31m---------------------------------------------------------------------------\u001b[0m",
      "\u001b[0;31mIndexError\u001b[0m                                Traceback (most recent call last)",
      "Cell \u001b[0;32mIn[10], line 1\u001b[0m\n\u001b[0;32m----> 1\u001b[0m \u001b[43ma\u001b[49m\u001b[43m[\u001b[49m\u001b[38;5;241;43m80\u001b[39;49m\u001b[43m]\u001b[49m\n",
      "\u001b[0;31mIndexError\u001b[0m: string index out of range"
     ]
    }
   ],
   "source": [
    "a[80]"
   ]
  },
  {
   "cell_type": "code",
   "execution_count": 14,
   "id": "93c0c71b-f6ef-4d8c-b6fb-705d1622bc91",
   "metadata": {},
   "outputs": [],
   "source": [
    "# In the above cell we can see that while retrieving the particular index that is out of range, it is showing a out of range error(IndexError)."
   ]
  },
  {
   "cell_type": "markdown",
   "id": "112f9bfe-3a81-42ed-82d9-d4be460cc044",
   "metadata": {},
   "source": [
    "Question 5"
   ]
  },
  {
   "cell_type": "markdown",
   "id": "577844a0-50fa-47ad-8e26-b4e6223ee0b8",
   "metadata": {},
   "source": [
    "Import Error :- It occurs due to interdependency of two or more modules with each other due to which interpreter confuses in which order the execution should be done."
   ]
  },
  {
   "cell_type": "markdown",
   "id": "29f35399-4ccf-435b-b481-f5f9490fa5df",
   "metadata": {},
   "source": [
    "ModuleNotFoundError :- This error occurs when a particular module that is importing is not                        found."
   ]
  },
  {
   "cell_type": "code",
   "execution_count": 2,
   "id": "f2b70d4a-9fb1-4e32-b3cc-79983b100efb",
   "metadata": {},
   "outputs": [
    {
     "ename": "ModuleNotFoundError",
     "evalue": "No module named 'scific'",
     "output_type": "error",
     "traceback": [
      "\u001b[0;31m---------------------------------------------------------------------------\u001b[0m",
      "\u001b[0;31mModuleNotFoundError\u001b[0m                       Traceback (most recent call last)",
      "Cell \u001b[0;32mIn[2], line 1\u001b[0m\n\u001b[0;32m----> 1\u001b[0m \u001b[38;5;28;01mimport\u001b[39;00m \u001b[38;5;21;01mscific\u001b[39;00m\n\u001b[1;32m      2\u001b[0m \u001b[38;5;28;01mdef\u001b[39;00m \u001b[38;5;21mfunc_1\u001b[39m():\n\u001b[1;32m      3\u001b[0m     \u001b[38;5;28mprint\u001b[39m(\u001b[38;5;124m\"\u001b[39m\u001b[38;5;124mThis is function_1\u001b[39m\u001b[38;5;124m\"\u001b[39m)\n",
      "\u001b[0;31mModuleNotFoundError\u001b[0m: No module named 'scific'"
     ]
    }
   ],
   "source": [
    "import scific\n",
    "def func_1():\n",
    "    print(\"This is function_1\")"
   ]
  },
  {
   "cell_type": "markdown",
   "id": "66bee9e6-2bed-4929-b829-9474e57eca8a",
   "metadata": {},
   "source": [
    "Question 6"
   ]
  },
  {
   "cell_type": "markdown",
   "id": "a4463f18-2124-4889-9e50-a6dac62934e6",
   "metadata": {},
   "source": [
    "1. Use always a specific exception"
   ]
  },
  {
   "cell_type": "code",
   "execution_count": 1,
   "id": "04edb7b8-452d-4c3e-ac3f-6783aca87dfd",
   "metadata": {},
   "outputs": [
    {
     "name": "stdout",
     "output_type": "stream",
     "text": [
      "division by zero\n"
     ]
    }
   ],
   "source": [
    "try :\n",
    "    10/0\n",
    "except ZeroDivisionError as e:\n",
    "    print(e)"
   ]
  },
  {
   "cell_type": "markdown",
   "id": "2654234c-7e75-4e18-b2fe-0465f0ab3028",
   "metadata": {},
   "source": [
    "As in the above program instead of writing a exception in place of ZeroDivisionError. I have written a specific exception that will be shown."
   ]
  },
  {
   "cell_type": "markdown",
   "id": "d3b37ee7-7346-4e0f-9297-81071c11eeec",
   "metadata": {},
   "source": [
    "2. Print always a proper message"
   ]
  },
  {
   "cell_type": "code",
   "execution_count": 1,
   "id": "7589667c-6794-4f21-89d7-324913dd12e7",
   "metadata": {},
   "outputs": [
    {
     "name": "stdout",
     "output_type": "stream",
     "text": [
      "I am trying to handle a zerodivisionerror division by zero\n"
     ]
    }
   ],
   "source": [
    "try :\n",
    "    10/0\n",
    "except ZeroDivisionError as e:\n",
    "    print(\"I am trying to handle a zerodivisionerror\",e)"
   ]
  },
  {
   "cell_type": "markdown",
   "id": "aa2eb303-1c7e-4330-811d-bb2d37c060da",
   "metadata": {},
   "source": [
    "3. Always try to log your error"
   ]
  },
  {
   "cell_type": "code",
   "execution_count": 4,
   "id": "360d05af-3928-4b21-b59c-d0d51a95194b",
   "metadata": {},
   "outputs": [],
   "source": [
    "import logging\n",
    "logging.basicConfig(filename = \"error.log\", level = logging.ERROR)\n",
    "try :\n",
    "    10/0\n",
    "except ZeroDivisionError as e:\n",
    "    logging.error(\"I am trying to handle a zerodivisionerror {}\". format(e))"
   ]
  },
  {
   "cell_type": "markdown",
   "id": "b3b7ba74-7561-4afe-8434-a4c89b4d0fa3",
   "metadata": {},
   "source": [
    "4. Always avoid to write a multiple exception handling"
   ]
  },
  {
   "cell_type": "code",
   "execution_count": 2,
   "id": "ad7f0cea-adaf-4f13-9442-cfaef216cd9b",
   "metadata": {},
   "outputs": [],
   "source": [
    "import logging\n",
    "logging.basicConfig(filename = \"error.log\", level = logging.ERROR)\n",
    "try:\n",
    "    10/0\n",
    "except FileNotFoundError as e :\n",
    "    logging.error(\"I am handling file not found {}\". format(e))\n",
    "except AttributeError as e :\n",
    "    logging.error(\"I am handling Attribute error {}\". format(e))\n",
    "except ZeroDivisionError as e :\n",
    "    logging.error(\"I am trying to handle a zerodivisionerror {}\". format(e))"
   ]
  },
  {
   "cell_type": "markdown",
   "id": "ec40014a-a626-4679-bea6-21a64f6b5b5d",
   "metadata": {},
   "source": [
    "5. Cleanup all the resources"
   ]
  },
  {
   "cell_type": "code",
   "execution_count": 3,
   "id": "a31d667a-e858-40de-b3ae-72d3e1ba4ad8",
   "metadata": {},
   "outputs": [],
   "source": [
    "try :\n",
    "    with open(\"test1112.txt\", \"w\") as f :\n",
    "        f.write(\"this is my data to file\")\n",
    "except FileNotFoundError as e:\n",
    "    logging.error(\"I am handling file not found error {}\". format(e))\n",
    "finally:\n",
    "    f.close()"
   ]
  },
  {
   "cell_type": "code",
   "execution_count": null,
   "id": "71307f4f-07bd-4e8e-bf60-4e3b24af4768",
   "metadata": {},
   "outputs": [],
   "source": []
  }
 ],
 "metadata": {
  "kernelspec": {
   "display_name": "Python 3 (ipykernel)",
   "language": "python",
   "name": "python3"
  },
  "language_info": {
   "codemirror_mode": {
    "name": "ipython",
    "version": 3
   },
   "file_extension": ".py",
   "mimetype": "text/x-python",
   "name": "python",
   "nbconvert_exporter": "python",
   "pygments_lexer": "ipython3",
   "version": "3.10.8"
  }
 },
 "nbformat": 4,
 "nbformat_minor": 5
}
