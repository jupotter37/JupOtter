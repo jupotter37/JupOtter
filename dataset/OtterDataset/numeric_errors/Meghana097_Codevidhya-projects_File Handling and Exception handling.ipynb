{
 "cells": [
  {
   "cell_type": "code",
   "execution_count": 9,
   "id": "d02ffac2",
   "metadata": {},
   "outputs": [
    {
     "ename": "FileNotFoundError",
     "evalue": "[Errno 2] No such file or directory: 'test.txt'",
     "output_type": "error",
     "traceback": [
      "\u001b[0;31m---------------------------------------------------------------------------\u001b[0m",
      "\u001b[0;31mFileNotFoundError\u001b[0m                         Traceback (most recent call last)",
      "Input \u001b[0;32mIn [9]\u001b[0m, in \u001b[0;36m<cell line: 4>\u001b[0;34m()\u001b[0m\n\u001b[1;32m      1\u001b[0m \u001b[38;5;28;01mimport\u001b[39;00m \u001b[38;5;21;01mos\u001b[39;00m\n\u001b[1;32m      2\u001b[0m \u001b[38;5;28;01mimport\u001b[39;00m \u001b[38;5;21;01mshutil\u001b[39;00m\n\u001b[0;32m----> 4\u001b[0m function \u001b[38;5;241m=\u001b[39m \u001b[38;5;28;43mopen\u001b[39;49m\u001b[43m(\u001b[49m\u001b[38;5;124;43m'\u001b[39;49m\u001b[38;5;124;43mtest.txt\u001b[39;49m\u001b[38;5;124;43m'\u001b[39;49m\u001b[43m,\u001b[49m\u001b[43m \u001b[49m\u001b[38;5;124;43m'\u001b[39;49m\u001b[38;5;124;43mr\u001b[39;49m\u001b[38;5;124;43m'\u001b[39;49m\u001b[43m)\u001b[49m\n\u001b[1;32m      5\u001b[0m \u001b[38;5;28mprint\u001b[39m(function\u001b[38;5;241m.\u001b[39mread())\n",
      "\u001b[0;31mFileNotFoundError\u001b[0m: [Errno 2] No such file or directory: 'test.txt'"
     ]
    }
   ],
   "source": [
    "import os\n",
    "import shutil\n",
    "\n",
    "function = open('test.txt', 'r')\n",
    "print(function.read())"
   ]
  },
  {
   "cell_type": "code",
   "execution_count": 10,
   "id": "bae461f9",
   "metadata": {},
   "outputs": [],
   "source": [
    "writ = open('test.txt', 'w+')\n",
    "writ.write('that has been edited')\n",
    "writ.close()"
   ]
  },
  {
   "cell_type": "code",
   "execution_count": 11,
   "id": "6599f46e",
   "metadata": {},
   "outputs": [
    {
     "data": {
      "text/plain": [
       "26"
      ]
     },
     "execution_count": 11,
     "metadata": {},
     "output_type": "execute_result"
    }
   ],
   "source": [
    "ape = open('test.txt', 'a')\n",
    "ape.write('this has been edited again')"
   ]
  },
  {
   "cell_type": "code",
   "execution_count": 12,
   "id": "cd031eac",
   "metadata": {},
   "outputs": [
    {
     "name": "stdout",
     "output_type": "stream",
     "text": [
      "untitled.txt\n"
     ]
    }
   ],
   "source": [
    "source = \"test.txt\"\n",
    "destination = \"untitled.txt\"\n",
    "var1 = shutil.copy(source, destination)\n",
    "print(var1)"
   ]
  },
  {
   "cell_type": "code",
   "execution_count": 13,
   "id": "06ed9f37",
   "metadata": {},
   "outputs": [
    {
     "name": "stdout",
     "output_type": "stream",
     "text": [
      "untitled.txt\n"
     ]
    }
   ],
   "source": [
    "source = \"test.txt\"\n",
    "destination = \"untitled.txt\"\n",
    "var1 = shutil.move(source, destination)\n",
    "print(var1)"
   ]
  },
  {
   "cell_type": "code",
   "execution_count": 14,
   "id": "c7e9877d",
   "metadata": {},
   "outputs": [],
   "source": [
    "os.remove(\"untitled.txt\")"
   ]
  },
  {
   "cell_type": "code",
   "execution_count": 16,
   "id": "16026b87",
   "metadata": {},
   "outputs": [
    {
     "name": "stdout",
     "output_type": "stream",
     "text": [
      "Please enter a dividend.3\n",
      "Please enter a divisor.0\n",
      "The quotient is an invalid number.\n"
     ]
    }
   ],
   "source": [
    "input1 = input(\"Please enter a dividend.\")\n",
    "input2 = input(\"Please enter a divisor.\")\n",
    "try:\n",
    "    result = input1/input2\n",
    "    print(result)\n",
    "\n",
    "except:\n",
    "    print(\"The quotient is an invalid number.\")"
   ]
  },
  {
   "cell_type": "code",
   "execution_count": null,
   "id": "a6a5af6e",
   "metadata": {},
   "outputs": [],
   "source": [
    "ArithmeticError\tRaised when an error occurs in numeric calculations\n",
    "AssertionError\tRaised when an assert statement fails\n",
    "AttributeError\tRaised when attribute reference or assignment fails\n",
    "Exception\tBase class for all exceptions\n",
    "EOFError\tRaised when the input() method hits an \"end of file\" condition (EOF)\n",
    "FloatingPointError\tRaised when a floating point calculation fails\n",
    "GeneratorExit\tRaised when a generator is closed (with the close() method)\n",
    "ImportError\tRaised when an imported module does not exist\n",
    "IndentationError\tRaised when indentation is not correct\n",
    "IndexError\tRaised when an index of a sequence does not exist\n",
    "KeyError\tRaised when a key does not exist in a dictionary\n",
    "KeyboardInterrupt\tRaised when the user presses Ctrl+c, Ctrl+z or Delete\n",
    "LookupError\tRaised when errors raised cant be found\n",
    "MemoryError\tRaised when a program runs out of memory\n",
    "NameError\tRaised when a variable does not exist\n",
    "NotImplementedError\tRaised when an abstract method requires an inherited class to override the method\n",
    "OSError\tRaised when a system related operation causes an error\n",
    "OverflowError\tRaised when the result of a numeric calculation is too large\n",
    "ReferenceError\tRaised when a weak reference object does not exist\n",
    "RuntimeError\tRaised when an error occurs that do not belong to any specific exceptions\n",
    "StopIteration\tRaised when the next() method of an iterator has no further values\n",
    "SyntaxError\tRaised when a syntax error occurs\n",
    "TabError\tRaised when indentation consists of tabs or spaces\n",
    "SystemError\tRaised when a system error occurs\n",
    "SystemExit\tRaised when the sys.exit() function is called\n",
    "TypeError\tRaised when two different types are combined\n",
    "UnboundLocalError\tRaised when a local variable is referenced before assignment\n",
    "UnicodeError\tRaised when a unicode problem occurs\n",
    "UnicodeEncodeError\tRaised when a unicode encoding problem occurs\n",
    "UnicodeDecodeError\tRaised when a unicode decoding problem occurs\n",
    "UnicodeTranslateError\tRaised when a unicode translation problem occurs\n",
    "ValueError\tRaised when there is a wrong value in a specified data type\n",
    "ZeroDivisionError\tRaised when the second operator in a division is zero"
   ]
  }
 ],
 "metadata": {
  "kernelspec": {
   "display_name": "Python 3 (ipykernel)",
   "language": "python",
   "name": "python3"
  },
  "language_info": {
   "codemirror_mode": {
    "name": "ipython",
    "version": 3
   },
   "file_extension": ".py",
   "mimetype": "text/x-python",
   "name": "python",
   "nbconvert_exporter": "python",
   "pygments_lexer": "ipython3",
   "version": "3.9.12"
  }
 },
 "nbformat": 4,
 "nbformat_minor": 5
}
