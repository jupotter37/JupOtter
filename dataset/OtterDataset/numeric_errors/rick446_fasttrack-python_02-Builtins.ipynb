{
 "metadata": {
  "name": "",
  "signature": "sha256:758b867f8cff58664b8a5ebae4de7cb4c891e7bad1908505fc3ac8ef8e58152c"
 },
 "nbformat": 3,
 "nbformat_minor": 0,
 "worksheets": [
  {
   "cells": [
    {
     "cell_type": "markdown",
     "metadata": {},
     "source": [
      "# Useful Builtins\n",
      "\n",
      "## `zip`"
     ]
    },
    {
     "cell_type": "code",
     "collapsed": false,
     "input": [
      "zip([1,2,3], ['a', 'b', 'c', 'd'])"
     ],
     "language": "python",
     "metadata": {},
     "outputs": [
      {
       "metadata": {},
       "output_type": "pyout",
       "prompt_number": 1,
       "text": [
        "[(1, 'a'), (2, 'b'), (3, 'c')]"
       ]
      }
     ],
     "prompt_number": 1
    },
    {
     "cell_type": "code",
     "collapsed": true,
     "input": [
      "x = [[ 1, 2, 3 ],\n",
      "     [ 4, 5, 6 ],\n",
      "     [ 7, 8, 9 ] ]"
     ],
     "language": "python",
     "metadata": {},
     "outputs": [],
     "prompt_number": 2
    },
    {
     "cell_type": "code",
     "collapsed": false,
     "input": [
      "zip(x[0], x[1], x[2])"
     ],
     "language": "python",
     "metadata": {},
     "outputs": [
      {
       "metadata": {},
       "output_type": "pyout",
       "prompt_number": 3,
       "text": [
        "[(1, 4, 7), (2, 5, 8), (3, 6, 9)]"
       ]
      }
     ],
     "prompt_number": 3
    },
    {
     "cell_type": "code",
     "collapsed": false,
     "input": [
      "zip(*x)"
     ],
     "language": "python",
     "metadata": {},
     "outputs": [
      {
       "metadata": {},
       "output_type": "pyout",
       "prompt_number": 4,
       "text": [
        "[(1, 4, 7), (2, 5, 8), (3, 6, 9)]"
       ]
      }
     ],
     "prompt_number": 4
    },
    {
     "cell_type": "markdown",
     "metadata": {},
     "source": [
      "## `enumerate`"
     ]
    },
    {
     "cell_type": "code",
     "collapsed": true,
     "input": [
      "lst = [ 'foo', 'bar', 'baz' ]"
     ],
     "language": "python",
     "metadata": {},
     "outputs": [],
     "prompt_number": 5
    },
    {
     "cell_type": "code",
     "collapsed": false,
     "input": [
      "# Don't do this:\n",
      "for x in range(len(lst)):\n",
      "    print x, lst[x]"
     ],
     "language": "python",
     "metadata": {},
     "outputs": [
      {
       "output_type": "stream",
       "stream": "stdout",
       "text": [
        "0 foo\n",
        "1 bar\n",
        "2 baz\n"
       ]
      }
     ],
     "prompt_number": 6
    },
    {
     "cell_type": "code",
     "collapsed": false,
     "input": [
      "# Do this instead:\n",
      "for index, x in enumerate(lst):\n",
      "    print index, x"
     ],
     "language": "python",
     "metadata": {},
     "outputs": [
      {
       "output_type": "stream",
       "stream": "stdout",
       "text": [
        "0 foo\n",
        "1 bar\n",
        "2 baz\n"
       ]
      }
     ],
     "prompt_number": 7
    },
    {
     "cell_type": "markdown",
     "metadata": {},
     "source": [
      "## `eval`"
     ]
    },
    {
     "cell_type": "code",
     "collapsed": false,
     "input": [
      "eval('5+5')"
     ],
     "language": "python",
     "metadata": {},
     "outputs": [
      {
       "metadata": {},
       "output_type": "pyout",
       "prompt_number": 8,
       "text": [
        "10"
       ]
      }
     ],
     "prompt_number": 8
    },
    {
     "cell_type": "code",
     "collapsed": false,
     "input": [
      "x = [1,2,3]\n",
      "r_x = repr(x)\n",
      "print 'r_x = ', r_x\n",
      "eval(r_x)"
     ],
     "language": "python",
     "metadata": {},
     "outputs": [
      {
       "output_type": "stream",
       "stream": "stdout",
       "text": [
        "r_x =  [1, 2, 3]\n"
       ]
      },
      {
       "metadata": {},
       "output_type": "pyout",
       "prompt_number": 9,
       "text": [
        "[1, 2, 3]"
       ]
      }
     ],
     "prompt_number": 9
    },
    {
     "cell_type": "markdown",
     "metadata": {},
     "source": [
      "## `dir`"
     ]
    },
    {
     "cell_type": "code",
     "collapsed": false,
     "input": [
      "x = 5\n",
      "dir(x)"
     ],
     "language": "python",
     "metadata": {},
     "outputs": [
      {
       "metadata": {},
       "output_type": "pyout",
       "prompt_number": 10,
       "text": [
        "['__abs__',\n",
        " '__add__',\n",
        " '__and__',\n",
        " '__class__',\n",
        " '__cmp__',\n",
        " '__coerce__',\n",
        " '__delattr__',\n",
        " '__div__',\n",
        " '__divmod__',\n",
        " '__doc__',\n",
        " '__float__',\n",
        " '__floordiv__',\n",
        " '__format__',\n",
        " '__getattribute__',\n",
        " '__getnewargs__',\n",
        " '__hash__',\n",
        " '__hex__',\n",
        " '__index__',\n",
        " '__init__',\n",
        " '__int__',\n",
        " '__invert__',\n",
        " '__long__',\n",
        " '__lshift__',\n",
        " '__mod__',\n",
        " '__mul__',\n",
        " '__neg__',\n",
        " '__new__',\n",
        " '__nonzero__',\n",
        " '__oct__',\n",
        " '__or__',\n",
        " '__pos__',\n",
        " '__pow__',\n",
        " '__radd__',\n",
        " '__rand__',\n",
        " '__rdiv__',\n",
        " '__rdivmod__',\n",
        " '__reduce__',\n",
        " '__reduce_ex__',\n",
        " '__repr__',\n",
        " '__rfloordiv__',\n",
        " '__rlshift__',\n",
        " '__rmod__',\n",
        " '__rmul__',\n",
        " '__ror__',\n",
        " '__rpow__',\n",
        " '__rrshift__',\n",
        " '__rshift__',\n",
        " '__rsub__',\n",
        " '__rtruediv__',\n",
        " '__rxor__',\n",
        " '__setattr__',\n",
        " '__sizeof__',\n",
        " '__str__',\n",
        " '__sub__',\n",
        " '__subclasshook__',\n",
        " '__truediv__',\n",
        " '__trunc__',\n",
        " '__xor__',\n",
        " 'bit_length',\n",
        " 'conjugate',\n",
        " 'denominator',\n",
        " 'imag',\n",
        " 'numerator',\n",
        " 'real']"
       ]
      }
     ],
     "prompt_number": 10
    },
    {
     "cell_type": "code",
     "collapsed": false,
     "input": [
      "x.bit_length()"
     ],
     "language": "python",
     "metadata": {},
     "outputs": [
      {
       "metadata": {},
       "output_type": "pyout",
       "prompt_number": 11,
       "text": [
        "3"
       ]
      }
     ],
     "prompt_number": 11
    },
    {
     "cell_type": "code",
     "collapsed": false,
     "input": [
      "x = 'Foo'\n",
      "dir(x)"
     ],
     "language": "python",
     "metadata": {},
     "outputs": [
      {
       "metadata": {},
       "output_type": "pyout",
       "prompt_number": 12,
       "text": [
        "['__add__',\n",
        " '__class__',\n",
        " '__contains__',\n",
        " '__delattr__',\n",
        " '__doc__',\n",
        " '__eq__',\n",
        " '__format__',\n",
        " '__ge__',\n",
        " '__getattribute__',\n",
        " '__getitem__',\n",
        " '__getnewargs__',\n",
        " '__getslice__',\n",
        " '__gt__',\n",
        " '__hash__',\n",
        " '__init__',\n",
        " '__le__',\n",
        " '__len__',\n",
        " '__lt__',\n",
        " '__mod__',\n",
        " '__mul__',\n",
        " '__ne__',\n",
        " '__new__',\n",
        " '__reduce__',\n",
        " '__reduce_ex__',\n",
        " '__repr__',\n",
        " '__rmod__',\n",
        " '__rmul__',\n",
        " '__setattr__',\n",
        " '__sizeof__',\n",
        " '__str__',\n",
        " '__subclasshook__',\n",
        " '_formatter_field_name_split',\n",
        " '_formatter_parser',\n",
        " 'capitalize',\n",
        " 'center',\n",
        " 'count',\n",
        " 'decode',\n",
        " 'encode',\n",
        " 'endswith',\n",
        " 'expandtabs',\n",
        " 'find',\n",
        " 'format',\n",
        " 'index',\n",
        " 'isalnum',\n",
        " 'isalpha',\n",
        " 'isdigit',\n",
        " 'islower',\n",
        " 'isspace',\n",
        " 'istitle',\n",
        " 'isupper',\n",
        " 'join',\n",
        " 'ljust',\n",
        " 'lower',\n",
        " 'lstrip',\n",
        " 'partition',\n",
        " 'replace',\n",
        " 'rfind',\n",
        " 'rindex',\n",
        " 'rjust',\n",
        " 'rpartition',\n",
        " 'rsplit',\n",
        " 'rstrip',\n",
        " 'split',\n",
        " 'splitlines',\n",
        " 'startswith',\n",
        " 'strip',\n",
        " 'swapcase',\n",
        " 'title',\n",
        " 'translate',\n",
        " 'upper',\n",
        " 'zfill']"
       ]
      }
     ],
     "prompt_number": 12
    },
    {
     "cell_type": "code",
     "collapsed": false,
     "input": [
      "help(x.partition)"
     ],
     "language": "python",
     "metadata": {},
     "outputs": [
      {
       "output_type": "stream",
       "stream": "stdout",
       "text": [
        "Help on built-in function partition:\n",
        "\n",
        "partition(...)\n",
        "    S.partition(sep) -> (head, sep, tail)\n",
        "    \n",
        "    Search for the separator sep in S, and return the part before it,\n",
        "    the separator itself, and the part after it.  If the separator is not\n",
        "    found, return S and two empty strings.\n",
        "\n"
       ]
      }
     ],
     "prompt_number": 13
    },
    {
     "cell_type": "code",
     "collapsed": true,
     "input": [
      "def hello(name):\n",
      "    'hello(name) => print \"Hello, \" + name'\n",
      "    print \"Hello, \" + name\n",
      "    "
     ],
     "language": "python",
     "metadata": {},
     "outputs": [],
     "prompt_number": 14
    },
    {
     "cell_type": "code",
     "collapsed": false,
     "input": [
      "help(hello)"
     ],
     "language": "python",
     "metadata": {},
     "outputs": [
      {
       "output_type": "stream",
       "stream": "stdout",
       "text": [
        "Help on function hello in module __main__:\n",
        "\n",
        "hello(name)\n",
        "    hello(name) => print \"Hello, \" + name\n",
        "\n"
       ]
      }
     ],
     "prompt_number": 15
    },
    {
     "cell_type": "markdown",
     "metadata": {},
     "source": [
      "## `ord` and `chr`"
     ]
    },
    {
     "cell_type": "code",
     "collapsed": false,
     "input": [
      "ord('a')"
     ],
     "language": "python",
     "metadata": {},
     "outputs": [
      {
       "metadata": {},
       "output_type": "pyout",
       "prompt_number": 16,
       "text": [
        "97"
       ]
      }
     ],
     "prompt_number": 16
    },
    {
     "cell_type": "code",
     "collapsed": false,
     "input": [
      "chr(97)"
     ],
     "language": "python",
     "metadata": {},
     "outputs": [
      {
       "metadata": {},
       "output_type": "pyout",
       "prompt_number": 17,
       "text": [
        "'a'"
       ]
      }
     ],
     "prompt_number": 17
    },
    {
     "cell_type": "markdown",
     "metadata": {},
     "source": [
      "## `map` and `filter`"
     ]
    },
    {
     "cell_type": "code",
     "collapsed": false,
     "input": [
      "x = map(ord, 'Foo')\n",
      "x"
     ],
     "language": "python",
     "metadata": {},
     "outputs": [
      {
       "metadata": {},
       "output_type": "pyout",
       "prompt_number": 18,
       "text": [
        "[70, 111, 111]"
       ]
      }
     ],
     "prompt_number": 18
    },
    {
     "cell_type": "code",
     "collapsed": false,
     "input": [
      "map(chr, x)"
     ],
     "language": "python",
     "metadata": {},
     "outputs": [
      {
       "metadata": {},
       "output_type": "pyout",
       "prompt_number": 19,
       "text": [
        "['F', 'o', 'o']"
       ]
      }
     ],
     "prompt_number": 19
    },
    {
     "cell_type": "code",
     "collapsed": false,
     "input": [
      "def is_even(num):\n",
      "    return num % 2 == 0\n",
      "filter(is_even, range(10))"
     ],
     "language": "python",
     "metadata": {},
     "outputs": [
      {
       "metadata": {},
       "output_type": "pyout",
       "prompt_number": 20,
       "text": [
        "[0, 2, 4, 6, 8]"
       ]
      }
     ],
     "prompt_number": 20
    },
    {
     "cell_type": "markdown",
     "metadata": {},
     "source": [
      "## `sum`, `max`, `min`, and `len` "
     ]
    },
    {
     "cell_type": "code",
     "collapsed": false,
     "input": [
      "sum(range(10))"
     ],
     "language": "python",
     "metadata": {},
     "outputs": [
      {
       "metadata": {},
       "output_type": "pyout",
       "prompt_number": 21,
       "text": [
        "45"
       ]
      }
     ],
     "prompt_number": 21
    },
    {
     "cell_type": "code",
     "collapsed": false,
     "input": [
      "max(range(10))"
     ],
     "language": "python",
     "metadata": {},
     "outputs": [
      {
       "metadata": {},
       "output_type": "pyout",
       "prompt_number": 22,
       "text": [
        "9"
       ]
      }
     ],
     "prompt_number": 22
    },
    {
     "cell_type": "code",
     "collapsed": false,
     "input": [
      "min(range(10))"
     ],
     "language": "python",
     "metadata": {},
     "outputs": [
      {
       "metadata": {},
       "output_type": "pyout",
       "prompt_number": 23,
       "text": [
        "0"
       ]
      }
     ],
     "prompt_number": 23
    },
    {
     "cell_type": "code",
     "collapsed": false,
     "input": [
      "len(range(10))"
     ],
     "language": "python",
     "metadata": {},
     "outputs": [
      {
       "metadata": {},
       "output_type": "pyout",
       "prompt_number": 24,
       "text": [
        "10"
       ]
      }
     ],
     "prompt_number": 24
    },
    {
     "cell_type": "markdown",
     "metadata": {},
     "source": [
      "## `repr`"
     ]
    },
    {
     "cell_type": "code",
     "collapsed": false,
     "input": [
      "repr(1)"
     ],
     "language": "python",
     "metadata": {},
     "outputs": [
      {
       "metadata": {},
       "output_type": "pyout",
       "prompt_number": 25,
       "text": [
        "'1'"
       ]
      }
     ],
     "prompt_number": 25
    },
    {
     "cell_type": "code",
     "collapsed": false,
     "input": [
      "repr('foo')"
     ],
     "language": "python",
     "metadata": {},
     "outputs": [
      {
       "metadata": {},
       "output_type": "pyout",
       "prompt_number": 26,
       "text": [
        "\"'foo'\""
       ]
      }
     ],
     "prompt_number": 26
    },
    {
     "cell_type": "code",
     "collapsed": false,
     "input": [
      "repr([1,2,4])"
     ],
     "language": "python",
     "metadata": {},
     "outputs": [
      {
       "metadata": {},
       "output_type": "pyout",
       "prompt_number": 27,
       "text": [
        "'[1, 2, 4]'"
       ]
      }
     ],
     "prompt_number": 27
    },
    {
     "cell_type": "markdown",
     "metadata": {},
     "source": [
      "## Basic types"
     ]
    },
    {
     "cell_type": "code",
     "collapsed": false,
     "input": [
      "int('5')"
     ],
     "language": "python",
     "metadata": {},
     "outputs": [
      {
       "metadata": {},
       "output_type": "pyout",
       "prompt_number": 28,
       "text": [
        "5"
       ]
      }
     ],
     "prompt_number": 28
    },
    {
     "cell_type": "code",
     "collapsed": false,
     "input": [
      "int('ff', base=16)"
     ],
     "language": "python",
     "metadata": {},
     "outputs": [
      {
       "metadata": {},
       "output_type": "pyout",
       "prompt_number": 29,
       "text": [
        "255"
       ]
      }
     ],
     "prompt_number": 29
    },
    {
     "cell_type": "code",
     "collapsed": false,
     "input": [
      "float('5')"
     ],
     "language": "python",
     "metadata": {},
     "outputs": [
      {
       "metadata": {},
       "output_type": "pyout",
       "prompt_number": 30,
       "text": [
        "5.0"
       ]
      }
     ],
     "prompt_number": 30
    },
    {
     "cell_type": "code",
     "collapsed": false,
     "input": [
      "float(5)"
     ],
     "language": "python",
     "metadata": {},
     "outputs": [
      {
       "metadata": {},
       "output_type": "pyout",
       "prompt_number": 31,
       "text": [
        "5.0"
       ]
      }
     ],
     "prompt_number": 31
    },
    {
     "cell_type": "code",
     "collapsed": false,
     "input": [
      "list(), list([1,2,3])"
     ],
     "language": "python",
     "metadata": {},
     "outputs": [
      {
       "metadata": {},
       "output_type": "pyout",
       "prompt_number": 32,
       "text": [
        "([], [1, 2, 3])"
       ]
      }
     ],
     "prompt_number": 32
    },
    {
     "cell_type": "code",
     "collapsed": false,
     "input": [
      "tuple([1,2,3])"
     ],
     "language": "python",
     "metadata": {},
     "outputs": [
      {
       "metadata": {},
       "output_type": "pyout",
       "prompt_number": 33,
       "text": [
        "(1, 2, 3)"
       ]
      }
     ],
     "prompt_number": 33
    },
    {
     "cell_type": "code",
     "collapsed": false,
     "input": [
      "items = [ (0, 'a'), (1, 'b'), (2, 'c') ]\n",
      "dict(items)"
     ],
     "language": "python",
     "metadata": {},
     "outputs": [
      {
       "metadata": {},
       "output_type": "pyout",
       "prompt_number": 34,
       "text": [
        "{0: 'a', 1: 'b', 2: 'c'}"
       ]
      }
     ],
     "prompt_number": 34
    },
    {
     "cell_type": "code",
     "collapsed": false,
     "input": [
      "keys = range(4)\n",
      "values = ['a', 'b', 'c', 'd']\n",
      "dct = dict(zip(keys, values))\n",
      "dct"
     ],
     "language": "python",
     "metadata": {},
     "outputs": [
      {
       "metadata": {},
       "output_type": "pyout",
       "prompt_number": 35,
       "text": [
        "{0: 'a', 1: 'b', 2: 'c', 3: 'd'}"
       ]
      }
     ],
     "prompt_number": 35
    },
    {
     "cell_type": "code",
     "collapsed": false,
     "input": [
      "dict(foo=1, bar=2, baz=3)"
     ],
     "language": "python",
     "metadata": {},
     "outputs": [
      {
       "metadata": {},
       "output_type": "pyout",
       "prompt_number": 36,
       "text": [
        "{'bar': 2, 'baz': 3, 'foo': 1}"
       ]
      }
     ],
     "prompt_number": 36
    },
    {
     "cell_type": "code",
     "collapsed": false,
     "input": [
      "unicode('abcd')"
     ],
     "language": "python",
     "metadata": {},
     "outputs": [
      {
       "metadata": {},
       "output_type": "pyout",
       "prompt_number": 37,
       "text": [
        "u'abcd'"
       ]
      }
     ],
     "prompt_number": 37
    },
    {
     "cell_type": "code",
     "collapsed": false,
     "input": [
      "dir(__builtins__)"
     ],
     "language": "python",
     "metadata": {},
     "outputs": [
      {
       "metadata": {},
       "output_type": "pyout",
       "prompt_number": 39,
       "text": [
        "['ArithmeticError',\n",
        " 'AssertionError',\n",
        " 'AttributeError',\n",
        " 'BaseException',\n",
        " 'BufferError',\n",
        " 'BytesWarning',\n",
        " 'DeprecationWarning',\n",
        " 'EOFError',\n",
        " 'Ellipsis',\n",
        " 'EnvironmentError',\n",
        " 'Exception',\n",
        " 'False',\n",
        " 'FloatingPointError',\n",
        " 'FutureWarning',\n",
        " 'GeneratorExit',\n",
        " 'IOError',\n",
        " 'ImportError',\n",
        " 'ImportWarning',\n",
        " 'IndentationError',\n",
        " 'IndexError',\n",
        " 'KeyError',\n",
        " 'KeyboardInterrupt',\n",
        " 'LookupError',\n",
        " 'MemoryError',\n",
        " 'NameError',\n",
        " 'None',\n",
        " 'NotImplemented',\n",
        " 'NotImplementedError',\n",
        " 'OSError',\n",
        " 'OverflowError',\n",
        " 'PendingDeprecationWarning',\n",
        " 'ReferenceError',\n",
        " 'RuntimeError',\n",
        " 'RuntimeWarning',\n",
        " 'StandardError',\n",
        " 'StopIteration',\n",
        " 'SyntaxError',\n",
        " 'SyntaxWarning',\n",
        " 'SystemError',\n",
        " 'SystemExit',\n",
        " 'TabError',\n",
        " 'True',\n",
        " 'TypeError',\n",
        " 'UnboundLocalError',\n",
        " 'UnicodeDecodeError',\n",
        " 'UnicodeEncodeError',\n",
        " 'UnicodeError',\n",
        " 'UnicodeTranslateError',\n",
        " 'UnicodeWarning',\n",
        " 'UserWarning',\n",
        " 'ValueError',\n",
        " 'Warning',\n",
        " 'ZeroDivisionError',\n",
        " '__IPYTHON__',\n",
        " '__IPYTHON__active',\n",
        " '__debug__',\n",
        " '__doc__',\n",
        " '__import__',\n",
        " '__name__',\n",
        " '__package__',\n",
        " 'abs',\n",
        " 'all',\n",
        " 'any',\n",
        " 'apply',\n",
        " 'basestring',\n",
        " 'bin',\n",
        " 'bool',\n",
        " 'buffer',\n",
        " 'bytearray',\n",
        " 'bytes',\n",
        " 'callable',\n",
        " 'chr',\n",
        " 'classmethod',\n",
        " 'cmp',\n",
        " 'coerce',\n",
        " 'compile',\n",
        " 'complex',\n",
        " 'copyright',\n",
        " 'credits',\n",
        " 'delattr',\n",
        " 'dict',\n",
        " 'dir',\n",
        " 'divmod',\n",
        " 'dreload',\n",
        " 'enumerate',\n",
        " 'eval',\n",
        " 'execfile',\n",
        " 'file',\n",
        " 'filter',\n",
        " 'float',\n",
        " 'format',\n",
        " 'frozenset',\n",
        " 'get_ipython',\n",
        " 'getattr',\n",
        " 'globals',\n",
        " 'hasattr',\n",
        " 'hash',\n",
        " 'help',\n",
        " 'hex',\n",
        " 'id',\n",
        " 'input',\n",
        " 'int',\n",
        " 'intern',\n",
        " 'isinstance',\n",
        " 'issubclass',\n",
        " 'iter',\n",
        " 'len',\n",
        " 'license',\n",
        " 'list',\n",
        " 'locals',\n",
        " 'long',\n",
        " 'map',\n",
        " 'max',\n",
        " 'memoryview',\n",
        " 'min',\n",
        " 'next',\n",
        " 'object',\n",
        " 'oct',\n",
        " 'open',\n",
        " 'ord',\n",
        " 'pow',\n",
        " 'print',\n",
        " 'property',\n",
        " 'range',\n",
        " 'raw_input',\n",
        " 'reduce',\n",
        " 'reload',\n",
        " 'repr',\n",
        " 'reversed',\n",
        " 'round',\n",
        " 'set',\n",
        " 'setattr',\n",
        " 'slice',\n",
        " 'sorted',\n",
        " 'staticmethod',\n",
        " 'str',\n",
        " 'sum',\n",
        " 'super',\n",
        " 'tuple',\n",
        " 'type',\n",
        " 'unichr',\n",
        " 'unicode',\n",
        " 'vars',\n",
        " 'xrange',\n",
        " 'zip']"
       ]
      }
     ],
     "prompt_number": 39
    },
    {
     "cell_type": "markdown",
     "metadata": {},
     "source": [
      "### Exercises\n",
      "\n",
      "- Given that you have a list of keys and a list of values, how \n",
      "  would you create a `dict` containing the key/value pairs\n",
      "- Write a function that converts a list of ASCII values to a \n",
      "  string. Test it on the following strings\n",
      "  - `[80, 121, 116, 104, 111, 110, 32, 82, 117, 108, 101, 122]`\n",
      "  - `[82, 117, 98, 121, 32, 68, 114, 111, 111, 108, 122]`\n"
     ]
    }
   ],
   "metadata": {}
  }
 ]
}