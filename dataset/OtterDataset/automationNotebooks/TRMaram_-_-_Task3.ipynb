{
  "nbformat": 4,
  "nbformat_minor": 0,
  "metadata": {
    "colab": {
      "provenance": []
    },
    "kernelspec": {
      "name": "python3",
      "display_name": "Python 3"
    },
    "language_info": {
      "name": "python"
    }
  },
  "cells": [
    {
      "cell_type": "markdown",
      "source": [
        "# Task Automation with Python Scripts\n",
        "\n",
        "We Identified a repetitive task in our workflow that is file organization.\n",
        "\n",
        "\n",
        "---\n",
        "\n",
        "\n",
        "*  Problem with file organization:\n",
        "You may have a folder cluttered with files of different types (images, PDFs, videos, etc.), and manually organizing them is time-consuming. Thus we\n",
        " decided to create a  Python scripts to **automate** it.\n",
        "\n",
        "*   The script will automatically organize the files by moving them into corresponding folders based on their file extensions.\n",
        "\n"
      ],
      "metadata": {
        "id": "_iqLKZSAtqqk"
      }
    },
    {
      "cell_type": "code",
      "source": [
        "!kaggle datasets download -d tapakah68/selfies-and-video-dataset-4-000-people"
      ],
      "metadata": {
        "colab": {
          "base_uri": "https://localhost:8080/"
        },
        "id": "kYMGFUfxyXCA",
        "outputId": "db3c07f0-ae73-4976-a291-de41c5c69937"
      },
      "execution_count": null,
      "outputs": [
        {
          "output_type": "stream",
          "name": "stdout",
          "text": [
            "Dataset URL: https://www.kaggle.com/datasets/tapakah68/selfies-and-video-dataset-4-000-people\n",
            "License(s): Attribution-NonCommercial-NoDerivatives 4.0 International (CC BY-NC-ND 4.0)\n",
            "Downloading selfies-and-video-dataset-4-000-people.zip to /content\n",
            " 99% 657M/666M [00:10<00:00, 93.2MB/s]\n",
            "100% 666M/666M [00:10<00:00, 69.4MB/s]\n"
          ]
        }
      ]
    },
    {
      "cell_type": "code",
      "source": [
        "# Define the folder paths (for our env the Colab file system starts with '/content')\n",
        "DOWNLOADS_FOLDER = '/content/downloads'\n",
        "ORGANIZED_FOLDER = '/content/organized'\n"
      ],
      "metadata": {
        "id": "1IsZp0at1onf"
      },
      "execution_count": null,
      "outputs": []
    },
    {
      "cell_type": "code",
      "source": [
        "!unzip selfies-and-video-dataset-4-000-people.zip -d /content/downloads\n"
      ],
      "metadata": {
        "colab": {
          "base_uri": "https://localhost:8080/"
        },
        "id": "fIcj2eGn1cQZ",
        "outputId": "224e0235-6365-49fa-d1c3-2b73bf190bc6"
      },
      "execution_count": null,
      "outputs": [
        {
          "output_type": "stream",
          "name": "stdout",
          "text": [
            "Archive:  selfies-and-video-dataset-4-000-people.zip\n",
            "  inflating: /content/downloads/files/1/1.jpg  \n",
            "  inflating: /content/downloads/files/1/2.jpg  \n",
            "  inflating: /content/downloads/files/1/3.mp4  \n",
            "  inflating: /content/downloads/files/1/4.mp4  \n",
            "  inflating: /content/downloads/files/1/5.jpg  \n",
            "  inflating: /content/downloads/files/1/6.jpg  \n",
            "  inflating: /content/downloads/files/1/7.mp4  \n",
            "  inflating: /content/downloads/files/1/8.mp4  \n",
            "  inflating: /content/downloads/files/10/1.jpg  \n",
            "  inflating: /content/downloads/files/10/2.jpg  \n",
            "  inflating: /content/downloads/files/10/3.mp4  \n",
            "  inflating: /content/downloads/files/10/4.mp4  \n",
            "  inflating: /content/downloads/files/10/5.jpg  \n",
            "  inflating: /content/downloads/files/10/6.jpg  \n",
            "  inflating: /content/downloads/files/10/7.mp4  \n",
            "  inflating: /content/downloads/files/10/8.mp4  \n",
            "  inflating: /content/downloads/files/2/1.jpg  \n",
            "  inflating: /content/downloads/files/2/2.jpg  \n",
            "  inflating: /content/downloads/files/2/3.mp4  \n",
            "  inflating: /content/downloads/files/2/4.mp4  \n",
            "  inflating: /content/downloads/files/2/5.jpg  \n",
            "  inflating: /content/downloads/files/2/6.jpg  \n",
            "  inflating: /content/downloads/files/2/7.mp4  \n",
            "  inflating: /content/downloads/files/2/8.mp4  \n",
            "  inflating: /content/downloads/files/3/1.jpg  \n",
            "  inflating: /content/downloads/files/3/2.jpg  \n",
            "  inflating: /content/downloads/files/3/3.mp4  \n",
            "  inflating: /content/downloads/files/3/4.mp4  \n",
            "  inflating: /content/downloads/files/3/5.jpg  \n",
            "  inflating: /content/downloads/files/3/6.jpg  \n",
            "  inflating: /content/downloads/files/3/7.mp4  \n",
            "  inflating: /content/downloads/files/3/8.mp4  \n",
            "  inflating: /content/downloads/files/4/1.jpg  \n",
            "  inflating: /content/downloads/files/4/2.jpg  \n",
            "  inflating: /content/downloads/files/4/3.mp4  \n",
            "  inflating: /content/downloads/files/4/4.mp4  \n",
            "  inflating: /content/downloads/files/4/5.jpg  \n",
            "  inflating: /content/downloads/files/4/6.jpg  \n",
            "  inflating: /content/downloads/files/4/7.mp4  \n",
            "  inflating: /content/downloads/files/4/8.mp4  \n",
            "  inflating: /content/downloads/files/5/1.jpg  \n",
            "  inflating: /content/downloads/files/5/2.jpg  \n",
            "  inflating: /content/downloads/files/5/3.mp4  \n",
            "  inflating: /content/downloads/files/5/4.mp4  \n",
            "  inflating: /content/downloads/files/5/5.jpg  \n",
            "  inflating: /content/downloads/files/5/6.jpg  \n",
            "  inflating: /content/downloads/files/5/7.mp4  \n",
            "  inflating: /content/downloads/files/5/8.mp4  \n",
            "  inflating: /content/downloads/files/6/1.jpg  \n",
            "  inflating: /content/downloads/files/6/2.jpg  \n",
            "  inflating: /content/downloads/files/6/3.mp4  \n",
            "  inflating: /content/downloads/files/6/4.mp4  \n",
            "  inflating: /content/downloads/files/6/5.jpg  \n",
            "  inflating: /content/downloads/files/6/6.jpg  \n",
            "  inflating: /content/downloads/files/6/7.mp4  \n",
            "  inflating: /content/downloads/files/6/8.mp4  \n",
            "  inflating: /content/downloads/files/7/1.jpg  \n",
            "  inflating: /content/downloads/files/7/2.jpg  \n",
            "  inflating: /content/downloads/files/7/3.mp4  \n",
            "  inflating: /content/downloads/files/7/4.mp4  \n",
            "  inflating: /content/downloads/files/7/5.jpg  \n",
            "  inflating: /content/downloads/files/7/6.jpg  \n",
            "  inflating: /content/downloads/files/7/7.mp4  \n",
            "  inflating: /content/downloads/files/7/8.mp4  \n",
            "  inflating: /content/downloads/files/8/1.jpg  \n",
            "  inflating: /content/downloads/files/8/2.jpg  \n",
            "  inflating: /content/downloads/files/8/3.mp4  \n",
            "  inflating: /content/downloads/files/8/4.mp4  \n",
            "  inflating: /content/downloads/files/8/5.jpg  \n",
            "  inflating: /content/downloads/files/8/6.jpg  \n",
            "  inflating: /content/downloads/files/8/7.mp4  \n",
            "  inflating: /content/downloads/files/8/8.mp4  \n",
            "  inflating: /content/downloads/files/9/1.jpg  \n",
            "  inflating: /content/downloads/files/9/2.jpg  \n",
            "  inflating: /content/downloads/files/9/3.mp4  \n",
            "  inflating: /content/downloads/files/9/4.mp4  \n",
            "  inflating: /content/downloads/files/9/5.jpg  \n",
            "  inflating: /content/downloads/files/9/6.jpg  \n",
            "  inflating: /content/downloads/files/9/7.mp4  \n",
            "  inflating: /content/downloads/files/9/8.mp4  \n",
            "  inflating: /content/downloads/selfie_and_video.csv  \n"
          ]
        }
      ]
    },
    {
      "cell_type": "code",
      "source": [
        "import shutil\n",
        "import os\n",
        "\n",
        "def consolidate_folders_recursive(source_folders, destination_folder):\n",
        "    \"\"\"Recursively consolidate files from multiple source folders into one destination folder.\"\"\"\n",
        "    if not os.path.exists(destination_folder):\n",
        "        os.makedirs(destination_folder)\n",
        "\n",
        "    for source_folder in source_folders:\n",
        "        for root, dirs, files in os.walk(source_folder):\n",
        "            for file in files:\n",
        "                source_file = os.path.join(root, file)\n",
        "                destination_file = os.path.join(destination_folder, file)\n",
        "                shutil.move(source_file, destination_file)\n",
        "                print(f\"Moved {file} to {destination_folder}\")\n",
        "\n",
        "source_folders = ['/content/downloads/files/1', '/content/downloads/files/2','/content/sample_data']\n",
        "destination_folder = '/content/downloads'\n",
        "\n",
        "consolidate_folders_recursive(source_folders, destination_folder)\n"
      ],
      "metadata": {
        "id": "lXv98zOu23L6"
      },
      "execution_count": null,
      "outputs": []
    },
    {
      "cell_type": "code",
      "source": [
        "# Define file type categories and extensions\n",
        "FILE_CATEGORIES = {\n",
        "    'Images': ['jpg', 'jpeg', 'png', 'gif', 'bmp', 'svg'],\n",
        "    'Documents': ['pdf', 'docx', 'txt', 'xlsx', 'pptx','json','csv','md'],\n",
        "    'Executables': ['exe', 'msi'],\n",
        "    'Videos': ['mp4', 'mkv', 'flv', 'avi', 'mov'],\n",
        "    'Music': ['mp3', 'wav', 'flac', 'aac'],\n",
        "    'Archives': ['zip', 'rar', '7z', 'tar'],\n",
        "    'Scripts': ['py', 'js', 'html', 'css'],\n",
        "}"
      ],
      "metadata": {
        "id": "4JVTX1RnwPKT"
      },
      "execution_count": null,
      "outputs": []
    },
    {
      "cell_type": "code",
      "execution_count": null,
      "metadata": {
        "id": "y7_1LvuptOv_",
        "colab": {
          "base_uri": "https://localhost:8080/"
        },
        "outputId": "74f2adb4-c435-4131-aa9b-a6dd6e34511c"
      },
      "outputs": [
        {
          "output_type": "stream",
          "name": "stdout",
          "text": [
            "Moved 6.jpg to Images\n",
            "Moved 7.mp4 to Videos\n",
            "Moved 5.jpg to Images\n",
            "Moved 4.mp4 to Videos\n",
            "Moved 8.mp4 to Videos\n",
            "Moved 3.mp4 to Videos\n",
            "Moved 1.jpg to Images\n",
            "Moved 2.jpg to Images\n"
          ]
        }
      ],
      "source": [
        "import os\n",
        "import shutil\n",
        "\n",
        "def create_directories():\n",
        "    \"\"\"Create main directories for downloads and organized files.\"\"\"\n",
        "    # Create main directories if they don't exist\n",
        "    if not os.path.exists(DOWNLOADS_FOLDER):\n",
        "        os.makedirs(DOWNLOADS_FOLDER)\n",
        "    if not os.path.exists(ORGANIZED_FOLDER):\n",
        "        os.makedirs(ORGANIZED_FOLDER)\n",
        "\n",
        "    # Create subdirectories for file categories\n",
        "    for category in FILE_CATEGORIES.keys():\n",
        "        category_folder = os.path.join(ORGANIZED_FOLDER, category)\n",
        "        if not os.path.exists(category_folder):\n",
        "            os.makedirs(category_folder)\n",
        "\n",
        "    # Create an 'Others' folder for unrecognized files\n",
        "    others_folder = os.path.join(ORGANIZED_FOLDER, 'Others')\n",
        "    if not os.path.exists(others_folder):\n",
        "        os.makedirs(others_folder)\n",
        "\n",
        "def organize_files():\n",
        "    \"\"\"Organizes files in the download folder by moving them to categorized folders.\"\"\"\n",
        "    create_directories()  # Make sure directories exist\n",
        "\n",
        "    # Loop through files in the download folder\n",
        "    for filename in os.listdir(DOWNLOADS_FOLDER):\n",
        "        file_path = os.path.join(DOWNLOADS_FOLDER, filename)\n",
        "\n",
        "        # Skip directories\n",
        "        if os.path.isdir(file_path):\n",
        "            continue\n",
        "\n",
        "        # Get file extension\n",
        "        file_extension = filename.split('.')[-1].lower()\n",
        "\n",
        "        # Check which category the file belongs to\n",
        "        moved = False\n",
        "        for category, extensions in FILE_CATEGORIES.items():\n",
        "            if file_extension in extensions:\n",
        "                # Move the file to the appropriate category folder\n",
        "                shutil.move(file_path, os.path.join(ORGANIZED_FOLDER, category, filename))\n",
        "                print(f\"Moved {filename} to {category}\")\n",
        "                moved = True\n",
        "                break\n",
        "\n",
        "        # If file extension is not recognized, move to 'Others'\n",
        "        if not moved:\n",
        "            others_folder = os.path.join(ORGANIZED_FOLDER, 'Others')\n",
        "            shutil.move(file_path, os.path.join(others_folder, filename))\n",
        "            print(f\"Moved {filename} to Others\")\n",
        "\n",
        "if __name__ == \"__main__\":\n",
        "    organize_files()\n"
      ]
    }
  ]
}