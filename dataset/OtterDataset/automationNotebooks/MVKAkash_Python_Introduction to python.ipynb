{
  "nbformat": 4,
  "nbformat_minor": 0,
  "metadata": {
    "colab": {
      "provenance": []
    },
    "kernelspec": {
      "name": "python3",
      "display_name": "Python 3"
    },
    "language_info": {
      "name": "python"
    }
  },
  "cells": [
    {
      "cell_type": "markdown",
      "source": [
        "# **Introduction to Python**"
      ],
      "metadata": {
        "id": "c734UatUVODy"
      }
    },
    {
      "cell_type": "markdown",
      "source": [
        "# What is Python"
      ],
      "metadata": {
        "id": "3-4P1Qy2W5PH"
      }
    },
    {
      "cell_type": "markdown",
      "source": [
        "\n",
        "\n",
        "\n",
        "*   Python is a high-level, interpreted programming language known for its simplicity and readability.\n",
        "*   It's widely used for web development, data analysis, and more.\n",
        "*   Python's extensive libraries and community support make it versatile and powerful for various applications.\n",
        "\n",
        "\n",
        "\n"
      ],
      "metadata": {
        "id": "AwAD7LiOXfYQ"
      }
    },
    {
      "cell_type": "markdown",
      "source": [
        "## History of Python"
      ],
      "metadata": {
        "id": "JidqMrUfYNWU"
      }
    },
    {
      "cell_type": "markdown",
      "source": [
        "It was initially designed by Guido van Rossum in 1991 and developed by Python Software Foundation. It was mainly developed to emphasize code readability, and its syntax allows programmers to express concepts in fewer lines of code.Designed for simplicity and readability, it quickly gained popularity for its versatility. Python 2.0 was released in 2000, introducing features like list comprehensions and a garbage collection system capable of collecting reference cycles. However, Python 2 had limitations, leading to the development of Python 3, which was released in 2008. Python 3 aimed to rectify design flaws in the language, making it more consistent and powerful."
      ],
      "metadata": {
        "id": "zZkRILupYfF7"
      }
    },
    {
      "cell_type": "markdown",
      "source": [
        "# Features of Python"
      ],
      "metadata": {
        "id": "k0gL_7V-gD-Q"
      }
    },
    {
      "cell_type": "markdown",
      "source": [
        "Python is known for several key features that make it a popular programming language:\n",
        "\n",
        "1. **Readability and Simplicity**: Python's syntax is clean and easy to understand, making it accessible for beginners and efficient for experienced programmers.\n",
        "\n",
        "2. **Interpreted Language**: Python is an interpreted language, meaning code is executed line by line, which makes debugging easier.\n",
        "\n",
        "3. **Dynamically Typed**: Variables in Python do not need explicit declarations of type; their type is inferred at runtime.\n",
        "\n",
        "4. **Extensive Standard Library**: Python comes with a vast standard library that provides tools and modules for a wide range of tasks, from file handling to internet protocols.\n",
        "\n",
        "5. **Cross-Platform Compatibility**: Python can run on various operating systems like Windows, macOS, and Linux without requiring modifications to the code.\n",
        "\n",
        "6. **Object-Oriented and Procedural Programming**: Python supports multiple programming paradigms, including object-oriented, procedural, and functional programming.\n",
        "\n",
        "7. **Strong Community Support**: Python has a large, active community that contributes to its extensive ecosystem of third-party libraries and frameworks, such as Django for web development and NumPy for scientific computing.\n",
        "\n",
        "8. **Scalability and Flexibility**: Python is used in a wide range of applications, from small scripts to large-scale web applications, due to its scalability and ability to integrate with other languages and technologies."
      ],
      "metadata": {
        "id": "oxJAngizglzZ"
      }
    },
    {
      "cell_type": "markdown",
      "source": [
        "## Applications of Python"
      ],
      "metadata": {
        "id": "b-QU7u_Phh-H"
      }
    },
    {
      "cell_type": "markdown",
      "source": [
        "Here are some important applications of Python:\n",
        "\n",
        "1. **Web Development**: Frameworks like Django and Flask are used to build dynamic websites, APIs, and web applications. For example, Instagram and Pinterest are partially built using Django.\n",
        "\n",
        "2. **Data Science and Analytics**: Python is a leading language in data science, with libraries like Pandas, NumPy, and Matplotlib being essential tools for data analysis, visualization, and statistical modeling.\n",
        "\n",
        "3. **Machine Learning and Artificial Intelligence**: Python's libraries like TensorFlow, PyTorch, and Scikit-learn are widely used for developing machine learning models, neural networks, and AI-driven applications.\n",
        "\n",
        "4. **Automation and Scripting**: Python is popular for automating tasks such as web scraping , file handling, and task automation in IT operations.\n",
        "\n",
        "5. **Scientific Computing**: Python is heavily used in scientific research for numerical computations, simulations, and data processing, with libraries like SciPy and SymPy.\n",
        "\n",
        "6. **Game Development**: Python is used in game development with libraries like Pygame, which allows for the creation of simple 2D games.\n",
        "\n",
        "7. **Network Programming and Cybersecurity**: Python is used to develop network-related tools, perform security testing, and automate cybersecurity tasks, often using libraries like Scapy and Paramiko.\n",
        "\n",
        "8. **Finance and Trading**: Python is used in the finance industry for developing trading algorithms, performing financial analysis, and risk management, leveraging libraries such as QuantLib and Zipline."
      ],
      "metadata": {
        "id": "hL6laBKzhWYb"
      }
    },
    {
      "cell_type": "markdown",
      "source": [
        "## Advantages of Python"
      ],
      "metadata": {
        "id": "9qv-xnhRhwbf"
      }
    },
    {
      "cell_type": "markdown",
      "source": [
        "1. **Readability and Ease of Use**: Python's simple and clean syntax makes it easy to learn and use, allowing developers to write and maintain code more efficiently. This readability enhances productivity and reduces the learning curve, especially for beginners.\n",
        "\n",
        "2. **Versatility and Flexibility**: Python supports multiple programming paradigms, including object-oriented, procedural, and functional programming. Its extensive standard library and a vast ecosystem of third-party libraries make Python suitable for a wide range of applications, from web development to data science and automation.\n",
        "\n",
        "3. **Strong Community Support**: Python has a large and active community that continuously contributes to its development, offering extensive resources, tutorials, and third-party tools. This strong community support ensures that Python stays up-to-date with the latest trends and technologies, making it a reliable choice for developers."
      ],
      "metadata": {
        "id": "7goEO9WEh5zu"
      }
    },
    {
      "cell_type": "markdown",
      "source": [
        "## Disadvantages of Python"
      ],
      "metadata": {
        "id": "2hT83HMmirTl"
      }
    },
    {
      "cell_type": "markdown",
      "source": [
        "1. **Slower Performance**: Python is generally slower than compiled languages like C++ or Java due to its interpreted nature. This can be a significant drawback in performance-critical applications, such as high-frequency trading or large-scale scientific computations.\n",
        "\n",
        "2. **High Memory Usage**: Python's dynamic typing and flexibility often result in higher memory consumption compared to statically typed languages. This can be a limitation in memory-constrained environments or when processing large amounts of data.\n",
        "\n",
        "3. **Global Interpreter Lock (GIL)**: The Global Interpreter Lock (GIL) in Python limits the execution of multiple threads, making it less efficient for CPU-bound multi-threaded applications. This can hinder performance in scenarios where parallel processing is required."
      ],
      "metadata": {
        "id": "sIuLKxski-Uy"
      }
    },
    {
      "cell_type": "markdown",
      "source": [
        "## Python First Program"
      ],
      "metadata": {
        "id": "-TutDxiKjptV"
      }
    },
    {
      "cell_type": "markdown",
      "source": [
        "The following program displays [Hello, World!] on the screen."
      ],
      "metadata": {
        "id": "yxpACDYRj0c6"
      }
    },
    {
      "cell_type": "code",
      "source": [
        "print(\"Hello, World!\")"
      ],
      "metadata": {
        "colab": {
          "base_uri": "https://localhost:8080/"
        },
        "id": "BrI84ep2VhSt",
        "outputId": "b96874e4-3621-4431-8560-f71816dfae93"
      },
      "execution_count": 1,
      "outputs": [
        {
          "output_type": "stream",
          "name": "stdout",
          "text": [
            "Hello, World!\n"
          ]
        }
      ]
    },
    {
      "cell_type": "markdown",
      "source": [
        "## Comments in Python"
      ],
      "metadata": {
        "id": "zyrp2OIQkhnp"
      }
    },
    {
      "cell_type": "markdown",
      "source": [
        "Comments in Python is the inclusion of short descriptions along with the code to increase its readability. A developer uses them to write his or her thought process while writing the code. It explains the basic logic behind why a particular line of code was written.\n",
        "Comments starts with a \"#\", and Python will ignore them."
      ],
      "metadata": {
        "id": "_R_z6yC_kKcC"
      }
    },
    {
      "cell_type": "markdown",
      "source": [
        "Example 1"
      ],
      "metadata": {
        "id": "kUGbx7rClH-F"
      }
    },
    {
      "cell_type": "code",
      "source": [
        "#This is a comment\n",
        "print(\"Hello, World!\")"
      ],
      "metadata": {
        "colab": {
          "base_uri": "https://localhost:8080/"
        },
        "id": "3awUgf7RkHps",
        "outputId": "8239a78d-ede2-4c96-ed00-21018713176b"
      },
      "execution_count": 2,
      "outputs": [
        {
          "output_type": "stream",
          "name": "stdout",
          "text": [
            "Hello, World!\n"
          ]
        }
      ]
    },
    {
      "cell_type": "markdown",
      "source": [
        "Example 2"
      ],
      "metadata": {
        "id": "V7QtGlYWlZCv"
      }
    },
    {
      "cell_type": "code",
      "source": [
        "print(\"Hello, World!\") #This is a comment"
      ],
      "metadata": {
        "colab": {
          "base_uri": "https://localhost:8080/"
        },
        "id": "gLyX9BJAlFwv",
        "outputId": "c13b982c-fb49-41a0-9496-f2ff94b5a3d7"
      },
      "execution_count": 3,
      "outputs": [
        {
          "output_type": "stream",
          "name": "stdout",
          "text": [
            "Hello, World!\n"
          ]
        }
      ]
    },
    {
      "cell_type": "markdown",
      "source": [
        "## Keywords in Python"
      ],
      "metadata": {
        "id": "4QIw-f5Amlvl"
      }
    },
    {
      "cell_type": "markdown",
      "source": [
        "In programming languages like Python, keywords are reserved words that have special meaning and cannot be used for any purpose other than their intended one. They form the syntax and structure of the language. Each keyword represents a specific function or command and helps define the programming constructs."
      ],
      "metadata": {
        "id": "gnN9SkcWmrS9"
      }
    },
    {
      "cell_type": "markdown",
      "source": [
        "### **Key Points About Keywords:**\n",
        "\n",
        "- **Reserved Words**: Keywords have special meanings and cannot be used as identifiers. Examples in Python include `if`, `else`, and `while`.\n",
        "\n",
        "- **Syntax and Structure**: They define core programming constructs like conditional statements, loops, and function definitions. For instance, `def` is used to define functions.\n",
        "\n",
        "- **Language-Specific**: Keywords vary by language and are essential to its syntax. For example, `import` is a Python keyword for including modules but is not used in all languages."
      ],
      "metadata": {
        "id": "Gs9C2qzXnJIB"
      }
    },
    {
      "cell_type": "markdown",
      "source": [
        "There are total of 35 keywords in Python"
      ],
      "metadata": {
        "id": "GtO67D24oYfQ"
      }
    },
    {
      "cell_type": "code",
      "source": [
        "import keyword\n",
        "\n",
        "# List of all Keywords\n",
        "print(keyword.kwlist)\n",
        "\n",
        "# Print the total number of keywords\n",
        "print(\"Total number of keywords:\", len(keyword.kwlist))\n"
      ],
      "metadata": {
        "colab": {
          "base_uri": "https://localhost:8080/"
        },
        "id": "NrXevloKo0Ac",
        "outputId": "ecd39188-0ff9-46ad-df7b-b655c905da25"
      },
      "execution_count": 13,
      "outputs": [
        {
          "output_type": "stream",
          "name": "stdout",
          "text": [
            "['False', 'None', 'True', 'and', 'as', 'assert', 'async', 'await', 'break', 'class', 'continue', 'def', 'del', 'elif', 'else', 'except', 'finally', 'for', 'from', 'global', 'if', 'import', 'in', 'is', 'lambda', 'nonlocal', 'not', 'or', 'pass', 'raise', 'return', 'try', 'while', 'with', 'yield']\n",
            "Total number of keywords: 35\n"
          ]
        }
      ]
    }
  ]
}