{
 "cells": [
  {
   "cell_type": "markdown",
   "metadata": {},
   "source": [
    "# Outline\n",
    "\n",
    "- Background and motivation\n",
    "- Watch the first 5 minutes of Joel Grus’ talk\n",
    "- Review good changes to notebooks since Joel's talk in 2018\n",
    "- Review bad stuff about notebooks that is still the same\n",
    "- Conduct an analysis of a dataset that we choose together\n",
    "\n",
    "🚨 Note: I may refer to “IDE’s” sometimes, which stand for [integrated development environment](https://en.wikipedia.org/wiki/Integrated_development_environment). VSCode is an IDE. So whenever you hear “IDE” just think “VSCode or some equivalent app.”"
   ]
  },
  {
   "cell_type": "markdown",
   "metadata": {},
   "source": [
    "# Background\n",
    "\n",
    "## Motivation\n",
    "\n",
    "Goal: to encourage you to move away from writing code in one-off notebooks and towards re-usable modules. But even more importantly, to encourage you to learn good coding practices that will make you a better collaborator. [Meme](img/dalle_meme_of_me.png)\n",
    "\n",
    "💡 Key idea: you are already so close to being a good programmer, you just need to make the jump!\n",
    "\n",
    "- Whenever we write code, we care about it ***actually working as expected for ourselves and for others***.\n",
    "    - From that simple premise, I believe that notebooks are bad.\n",
    "- Notebooks encourage bad habits (bad project structure, low re-usability, no testing) and are worse for refactoring code and reproducibility. [Artistic rendition of refactoring](img/code_refactor.png)\n",
    "- Yet there is a *notebook mafia* out there that has been lobbying for the use of notebooks in data science courses both online and on university campuses for years. [DALL-E wouldn't make me a notebook mafia meme](img/chatgpt_reject.png)\n",
    "    - This is producing more and more data scientists and machine learning practitioners that don't write good code.\n",
    "    - This causes a division in many organizations: there are the notebook users and the software engineers. The notebook users (typically with titles like “data scientist” or “machine learning scientist”) do scrappy work and then toss it over the fence to “the real engineers” once they have a finding. The real engineers are then tasked with migrating their notebooks to robust modules and scripts. In practice, this requires the engineers to re-write and re-test all of this code and often the code will not work as the notebook user expected!\n",
    "    - We already know that tossing things over the fence doesn’t work well!\n",
    "\n",
    "I chose to highlight the most widely applicable and immediately valuable features for you right now. There are many others.\n",
    "\n",
    "## Who am I to comment on this?\n",
    "- I went through the notebook mafia education system! I took university courses and online classes that do all their assignments in the form of notebooks.\n",
    "- I have been a teaching assistant for classes that use notebooks and I've had to correct and grade hundreds of student submissions in the form of notebooks.\n",
    "\n",
    "You can view me as a survivor or someone who has made it to the other side and escaped the notebook mafia. So I’m here to tell you what it looks like from the outside. 😇\n",
    "\n",
    "## Joel's talk at JupyterCon 2018\n",
    "Joel Grus (from the Allen Institute for Artificial Intelligence) gave a (now-famous) [1-hour talk](https://youtu.be/7jiPeIFXb6U) with this title at the Jupyter Convention in New York 5 years ago.\n",
    "\n",
    "- It is very funny and enlightening, you should watch the whole thing! Courtesy to Andrew Beam who originally shared it with me a few years \n",
    "ago.\n",
    "- This talk resonated strongly with me when I first watched it. General sentiment in the YouTube comments: [1](img/yt_comment1.png), [2](img/yt_comment2.png), [3](img/yt_comment3.png)."
   ]
  },
  {
   "cell_type": "markdown",
   "metadata": {},
   "source": [
    "# Good changes to notebooks since 2018\n",
    "- Notebooks work in VSCode (late 2020)\n",
    "- Copilot ❤️\n",
    "\n",
    "- `pip install ipykernel` gives you:\n",
    "    - Debugger (introduced in 2021)\n",
    "    - Symbol renaming across files \n",
    "\n",
    "A good example of a notebook from Generate last month: https://colab.research.google.com/github/generatebio/chroma/blob/main/notebooks/ChromaDemo.ipynb\n",
    "- Think: Notion page but with executable code in it."
   ]
  },
  {
   "cell_type": "markdown",
   "metadata": {},
   "source": [
    "# Bad stuff that is still the same\n",
    "\n",
    "* Reasoning about state is just as hard today, e.g. fast.ai codebase\n",
    "* Conflate beginner-ism with bad habits:\n",
    "    * Import sorting & dependency management\n",
    "    * Less modular code → worse project directory structure.\n",
    "    * Not using 'jump to definition' or parameter hints.\n",
    "    * Generally poor code quality, e.g. W&B experiments.\n",
    "* Version control is a mess because of cell outputs and metadata\n",
    "* No integrated testing frameworks\n",
    "* No task automation: auto-pass in command-line arguments\n",
    "* And more..."
   ]
  },
  {
   "cell_type": "markdown",
   "metadata": {},
   "source": [
    "# Feature demo – an exploratory data analysis (EDA)\n",
    "Note: How can you learn this type of stuff? Work on code with someone who knows it! Also, YouTube \"tip\" videos are very high yield.\n",
    "\n",
    "In this demo I hope to demonstrate these features:\n",
    "- Refactoring tools: renaming symbols\n",
    "- The interactive debugger\n",
    "- Scripts vs. modules and making re-usable code (functions, classes, and more)\n",
    "\n",
    "Let's pick a dataset together! https://archive.ics.uci.edu/"
   ]
  }
 ],
 "metadata": {
  "kernelspec": {
   "display_name": "Python 3",
   "language": "python",
   "name": "python3"
  },
  "language_info": {
   "codemirror_mode": {
    "name": "ipython",
    "version": 3
   },
   "file_extension": ".py",
   "mimetype": "text/x-python",
   "name": "python",
   "nbconvert_exporter": "python",
   "pygments_lexer": "ipython3",
   "version": "3.11.6"
  }
 },
 "nbformat": 4,
 "nbformat_minor": 2
}
