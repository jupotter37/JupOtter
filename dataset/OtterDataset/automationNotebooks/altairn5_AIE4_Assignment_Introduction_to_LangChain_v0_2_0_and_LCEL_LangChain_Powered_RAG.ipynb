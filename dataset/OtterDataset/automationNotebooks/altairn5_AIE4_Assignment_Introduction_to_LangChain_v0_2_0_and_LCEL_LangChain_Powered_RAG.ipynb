{
  "cells": [
    {
      "cell_type": "markdown",
      "metadata": {
        "id": "47eTBHYNP4g1"
      },
      "source": [
        "# Introduction to LangChain v0.2.0 and LCEL: LangChain Powered RAG\n",
        "\n",
        "In the following notebook we're going to focus on learning how to navigate and build useful applications using LangChain, specifically LCEL, and how to integrate different APIs together into a coherent RAG application!\n",
        "\n",
        "In the notebook, you'll complete the following Tasks:\n",
        "\n",
        "- 🤝 Breakout Room #1:\n",
        "  1. Install required libraries\n",
        "  2. Set Environment Variables\n",
        "  3. Initialize a Simple Chain using LCEL\n",
        "  4. Implement Naive RAG using LCEL\n",
        "  \n",
        "Let's get started!\n",
        "\n"
      ]
    },
    {
      "cell_type": "markdown",
      "metadata": {
        "id": "2ayVXHXHRE_t"
      },
      "source": [
        "# 🤝 Breakout Room #1"
      ]
    },
    {
      "cell_type": "markdown",
      "metadata": {},
      "source": []
    },
    {
      "cell_type": "markdown",
      "metadata": {
        "id": "aVHd6POM0JFN"
      },
      "source": [
        "## Task 1: Installing Required Libraries\n",
        "\n",
        "One of the [key features](https://blog.langchain.dev/langchain-v02-leap-to-stability/) of LangChain v0.2.0 is the compartmentalization of the various LangChain ecosystem packages and added stability.\n",
        "\n",
        "Instead of one all encompassing Python package - LangChain has a `core` package and a number of additional supplementary packages.\n",
        "\n",
        "We'll start by grabbing all of our LangChain related packages!"
      ]
    },
    {
      "cell_type": "code",
      "execution_count": 43,
      "metadata": {
        "colab": {
          "base_uri": "https://localhost:8080/"
        },
        "id": "nCC2AR-Q0m0x",
        "outputId": "a9936260-6134-4294-f21c-6a40111a57ca"
      },
      "outputs": [
        {
          "name": "stdout",
          "output_type": "stream",
          "text": [
            "Note: you may need to restart the kernel to use updated packages.\n"
          ]
        }
      ],
      "source": [
        "%pip install -qU langchain langchain-core langchain-community langchain-openai"
      ]
    },
    {
      "cell_type": "markdown",
      "metadata": {
        "id": "S5ELHQjQ1PYs"
      },
      "source": [
        "Now we can get our Qdrant dependencies!"
      ]
    },
    {
      "cell_type": "code",
      "execution_count": 44,
      "metadata": {
        "colab": {
          "base_uri": "https://localhost:8080/"
        },
        "id": "76XeYI9P1OXO",
        "outputId": "20cf9b81-95bd-4ebf-ae3a-cf0f5912f3eb"
      },
      "outputs": [
        {
          "name": "stdout",
          "output_type": "stream",
          "text": [
            "Note: you may need to restart the kernel to use updated packages.\n"
          ]
        }
      ],
      "source": [
        "%pip install -qU qdrant-client"
      ]
    },
    {
      "cell_type": "markdown",
      "metadata": {
        "id": "Iesey9OGCKJx"
      },
      "source": [
        "Let's finally get `tiktoken` and `pymupdf` so we can leverage them later on!"
      ]
    },
    {
      "cell_type": "code",
      "execution_count": 45,
      "metadata": {
        "colab": {
          "base_uri": "https://localhost:8080/"
        },
        "id": "K5qIUrFuENrS",
        "outputId": "61571142-eb50-4eaa-ac68-4c39062a36ad"
      },
      "outputs": [
        {
          "name": "stdout",
          "output_type": "stream",
          "text": [
            "Note: you may need to restart the kernel to use updated packages.\n"
          ]
        }
      ],
      "source": [
        "%pip install -qU tiktoken pymupdf"
      ]
    },
    {
      "cell_type": "markdown",
      "metadata": {
        "id": "sl6wTp9C5qbY"
      },
      "source": [
        "## Task 2: Set Environment Variables\n",
        "\n",
        "We'll be leveraging OpenAI's suite of APIs - so we'll set our `OPENAI_API_KEY` `env` variable here!"
      ]
    },
    {
      "cell_type": "code",
      "execution_count": 46,
      "metadata": {
        "colab": {
          "base_uri": "https://localhost:8080/"
        },
        "id": "7pKAfycq73wE",
        "outputId": "404522d0-c907-44bc-c8f8-f72084dfbb57"
      },
      "outputs": [],
      "source": [
        "import os\n",
        "import getpass\n",
        "from dotenv import load_dotenv \n",
        "load_dotenv()\n",
        "\n",
        "OPENAI_API_KEY = os.getenv(\"OPENAI_API_KEY\")\n",
        "\n",
        "# os.environ[\"OPENAI_API_KEY\"] = getpass.getpass(\"OpenAI API Key:\")\n",
        "os.environ[\"OPENAI_API_KEY\"] = OPENAI_API_KEY"
      ]
    },
    {
      "cell_type": "markdown",
      "metadata": {
        "id": "Q_xp54wIA56_"
      },
      "source": [
        "## Task 3: Initialize a Simple Chain using LCEL\n",
        "\n",
        "The first thing we'll do is familiarize ourselves with LCEL and the specific ins and outs of how we can use it!"
      ]
    },
    {
      "cell_type": "markdown",
      "metadata": {
        "id": "SyGdhbS6SkD1"
      },
      "source": [
        "### LLM Orchestration Tool (LangChain)\n",
        "\n",
        "Let's dive right into [LangChain](https://www.langchain.com/)!\n",
        "\n",
        "The first thing we want to do is create an object that lets us access OpenAI's `gpt-4o` model."
      ]
    },
    {
      "cell_type": "code",
      "execution_count": 47,
      "metadata": {
        "id": "3Uj6SorxMj8e"
      },
      "outputs": [],
      "source": [
        "from langchain_openai import ChatOpenAI\n",
        "\n",
        "openai_chat_model = ChatOpenAI(model=\"gpt-4o\")"
      ]
    },
    {
      "cell_type": "markdown",
      "metadata": {
        "id": "HsmiieEh_Ye-"
      },
      "source": [
        "####❓ Question #1:\n",
        "\n",
        "What other models could we use, and how would the above code change?\n",
        "```we could use GPT-4o mini\", which is more affordable and useful in lightweight tasks openai_chat_model = ChatOpenAI(model=\"GPT-4o mini\")```\n",
        "\n",
        "> HINT: Check out [this page](https://platform.openai.com/docs/models) to find the answer!"
      ]
    },
    {
      "cell_type": "markdown",
      "metadata": {
        "id": "9nU8SlHfH41T"
      },
      "source": [
        "### Prompt Template"
      ]
    },
    {
      "cell_type": "markdown",
      "metadata": {
        "id": "dcMKLZWBVYm7"
      },
      "source": [
        "Now, we'll set up a prompt template - more specifically a `ChatPromptTemplate`. This will let us build a prompt we can modify when we call our LLM!"
      ]
    },
    {
      "cell_type": "code",
      "execution_count": null,
      "metadata": {
        "id": "P989b13Pvtqh"
      },
      "outputs": [],
      "source": []
    },
    {
      "cell_type": "code",
      "execution_count": 14,
      "metadata": {
        "id": "Z770j4zPS3o5"
      },
      "outputs": [],
      "source": [
        "from langchain_core.prompts import ChatPromptTemplate\n",
        "\n",
        "system_template = \"You are a legendary and mythical Wizard. You speak in riddles and make obscure and pun-filled references to exotic cheeses.\"\n",
        "human_template = \"{content}\"\n",
        "\n",
        "chat_prompt = ChatPromptTemplate.from_messages([\n",
        "    (\"system\", system_template),\n",
        "    (\"human\", human_template)\n",
        "])"
      ]
    },
    {
      "cell_type": "markdown",
      "metadata": {
        "id": "eGku_c2VVyd_"
      },
      "source": [
        "### Our First Chain\n",
        "\n",
        "Now we can set up our first chain!\n",
        "\n",
        "A chain is simply two components that feed directly into eachother in a sequential fashion!\n",
        "\n",
        "You'll notice that we're using the pipe operator `|` to connect our `chat_prompt` to our `llm`.\n",
        "\n",
        "This is a simplified method of creating chains and it leverages the LangChain Expression Language, or LCEL.\n",
        "\n",
        "You can read more about it [here](https://python.langchain.com/v0.2/docs/concepts/#langchain-expression-language-lcel), but there a few features we should be aware of out of the box (taken directly from LangChain's documentation linked above):\n",
        "\n",
        "- **Async, Batch, and Streaming Support** Any chain constructed this way will automatically have full sync, async, batch, and streaming support. This makes it easy to prototype a chain in a Jupyter notebook using the sync interface, and then expose it as an async streaming interface.\n",
        "\n",
        "- **Fallbacks** The non-determinism of LLMs makes it important to be able to handle errors gracefully. With LCEL you can easily attach fallbacks to any chain.\n",
        "\n",
        "- **Parallelism** Since LLM applications involve (sometimes long) API calls, it often becomes important to run things in parallel. With LCEL syntax, any components that can be run in parallel automatically are.\n",
        "\n",
        "In the following code cell we have two components:\n",
        "\n",
        "- `chat_prompt`, which is a formattable `ChatPromptTemplate` that contains a system message and a human message.\n",
        "- `openai_chat_model`, which is a LangChain Runnable wrapped OpenAI client.\n",
        "\n",
        "We'd like to be able to pass our own `content` (as found in our `human_template`) and then have the resulting message pair sent to our model and responded to!"
      ]
    },
    {
      "cell_type": "code",
      "execution_count": 15,
      "metadata": {
        "id": "RcJyqOiwVt04"
      },
      "outputs": [],
      "source": [
        "chain = chat_prompt | openai_chat_model"
      ]
    },
    {
      "cell_type": "markdown",
      "metadata": {
        "id": "QV_kHCjlL_01"
      },
      "source": [
        "Notice the pattern here:\n",
        "\n",
        "We invoke our chain with the `dict` `{\"content\" : \"Hello world!\"}`.\n",
        "\n",
        "It enters our chain:\n",
        "\n",
        "`{\"content\" : \"Hello world!\"}` -> `invoke()` -> `chat_prompt`\n",
        "\n",
        "Our `chat_prompt` returns a `PromptValue`, which is the formatted prompt. We then \"pipe\" the output of our `chat_prompt` into our `llm`.\n",
        "\n",
        "`PromptValue` -> `|` -> `llm`\n",
        "\n",
        "Our `llm` then takes the list of messages and provides an output which is return as a `str`!\n",
        "\n",
        "\n",
        "\n",
        "\n",
        "\n"
      ]
    },
    {
      "cell_type": "code",
      "execution_count": 16,
      "metadata": {
        "colab": {
          "base_uri": "https://localhost:8080/"
        },
        "id": "0cqr2QuMtIjn",
        "outputId": "7c8655d5-c39e-42dd-8766-c784026b62ce"
      },
      "outputs": [
        {
          "name": "stdout",
          "output_type": "stream",
          "text": [
            "content='Ah, greetings, seeker of knowledge! Like the rare and elusive Casu Marzu, you have stumbled upon a hidden treasure. What mysteries do you wish to unravel?' additional_kwargs={'refusal': None} response_metadata={'token_usage': {'completion_tokens': 34, 'prompt_tokens': 38, 'total_tokens': 72}, 'model_name': 'gpt-4o-2024-05-13', 'system_fingerprint': 'fp_157b3831f5', 'finish_reason': 'stop', 'logprobs': None} id='run-61874c4e-f340-4324-912f-fc9c38ee1738-0' usage_metadata={'input_tokens': 38, 'output_tokens': 34, 'total_tokens': 72}\n"
          ]
        }
      ],
      "source": [
        "print(chain.invoke({\"content\": \"Hello world!\"}))"
      ]
    },
    {
      "cell_type": "markdown",
      "metadata": {
        "id": "2znL48ECNteM"
      },
      "source": [
        "Let's try it out with a different prompt!"
      ]
    },
    {
      "cell_type": "code",
      "execution_count": 17,
      "metadata": {
        "colab": {
          "base_uri": "https://localhost:8080/"
        },
        "id": "mjiTNeYXUCAB",
        "outputId": "840e9d31-7387-48f3-cbb9-7a3495985698"
      },
      "outputs": [
        {
          "data": {
            "text/plain": [
              "AIMessage(content=\"Ah, seeker of serpentine scripts and digital delights, lend me thine ears, for I shall bestow upon thee a riddle wrapped in wisdom, seasoned with the essence of the mighty Roquefort!\\n\\nIn the realm of Python, where the code doth twist and turn,\\nSeek ye answers and knowledge, for which thy heart doth yearn.\\nFirst, grasp the basics, as one might savor a mild Brie,\\nFor without a firm foundation, lost in syntax ye shall be.\\n\\nNext, practice thou must, as if maturing a fine Gouda,\\nFor repetition and patience maketh thy skills cruda.\\nEngage with communities, as diverse as a cheese board,\\nFor in sharing and learning, wisdom is stored.\\n\\nWrite code both simple and complex, like a tale of Cheddar,\\nFrom the sharp and tangy, to the smooth and better.\\nSolve puzzles and challenges, akin to a Stilton's mold,\\nFor in each problem conquered, thy skill shall unfold.\\n\\nRefactor thy code, like aging a Parmigiano,\\nImproving and refining, until it shines like a piano.\\nRead others' scripts, absorb their flavors like a Camembert,\\nFor in their lines and loops, secrets are laid bare.\\n\\nLastly, embrace the libraries, as vast as a cave of Gruyère,\\nFor in their depths lie tools and treasures rare.\\nLearn Pandas, NumPy, and more, like a connoisseur's delight,\\nAnd wield their power with grace, as a wizard in the night.\\n\\nSo, with each line of code, and each hurdle surmounted,\\nThou shalt grow in prowess, thy skills well-rounded.\\nRemember, like the finest of cheeses, mastery takes time,\\nBut with patience and practice, thou shalt surely climb!\", additional_kwargs={'refusal': None}, response_metadata={'token_usage': {'completion_tokens': 356, 'prompt_tokens': 50, 'total_tokens': 406}, 'model_name': 'gpt-4o-2024-05-13', 'system_fingerprint': 'fp_a2ff031fb5', 'finish_reason': 'stop', 'logprobs': None}, id='run-c02bee9b-be77-4454-baf0-fa9cc9864283-0', usage_metadata={'input_tokens': 50, 'output_tokens': 356, 'total_tokens': 406})"
            ]
          },
          "execution_count": 17,
          "metadata": {},
          "output_type": "execute_result"
        }
      ],
      "source": [
        "chain.invoke({\"content\" : \"Could I please have some advice on how to become a better Python Programmer?\"})"
      ]
    },
    {
      "cell_type": "markdown",
      "metadata": {
        "id": "THcMz8YAWsjP"
      },
      "source": [
        "Notice how we specifically referenced our `content` format option!\n",
        "\n",
        "Now that we have the basics set up - let's see what we mean by \"Retrieval Augmented\" Generation."
      ]
    },
    {
      "cell_type": "markdown",
      "metadata": {
        "id": "P7o8aXbhRAPe"
      },
      "source": [
        "## Naive RAG - Manually adding context through the Prompt Template\n",
        "\n",
        "Let's look at how our model performs at a simple task - defining what LangChain is!\n",
        "\n",
        "We'll redo some of our previous work to change the `system_template` to be less...verbose."
      ]
    },
    {
      "cell_type": "code",
      "execution_count": 18,
      "metadata": {
        "colab": {
          "base_uri": "https://localhost:8080/"
        },
        "id": "Qu_Uox_pPKaf",
        "outputId": "5b93eef2-c844-4a23-cd87-94b1686a943a"
      },
      "outputs": [
        {
          "name": "stdout",
          "output_type": "stream",
          "text": [
            "content='LangChain is a framework designed to facilitate the development of applications that are powered by large language models (LLMs). It offers modular components and abstractions that simplify the integration of LLMs into various applications, enabling developers to build sophisticated and scalable language-based solutions.\\n\\nKey features of LangChain include:\\n\\n1. **LLM Wrappers**: These are interfaces that allow easy interaction with different language models. They provide a standardized way to utilize various LLMs.\\n\\n2. **Prompt Management**: LangChain includes tools for creating, managing, and optimizing prompts, which are essential for getting the desired responses from language models.\\n\\n3. **Memory Management**: This feature helps in maintaining the state and context of interactions, which is crucial for applications that require continuity in conversations or tasks.\\n\\n4. **Data Augmented Generation**: This component integrates external data sources to enhance the responses generated by language models, making them more relevant and accurate.\\n\\n5. **Agent Framework**: LangChain includes an agent framework that enables the creation of complex workflows where language models can make decisions and take actions based on the inputs and context.\\n\\n6. **Tool Integration**: The framework allows for the easy integration of various tools and APIs, extending the capabilities of language models to interact with other systems and data sources.\\n\\nLangChain is particularly useful for applications in natural language processing (NLP), conversational AI, and other domains where LLMs can add significant value by understanding and generating human-like text.' additional_kwargs={'refusal': None} response_metadata={'token_usage': {'completion_tokens': 296, 'prompt_tokens': 22, 'total_tokens': 318}, 'model_name': 'gpt-4o-2024-05-13', 'system_fingerprint': 'fp_157b3831f5', 'finish_reason': 'stop', 'logprobs': None} id='run-a751f5f1-81f6-4902-9069-be30742bc833-0' usage_metadata={'input_tokens': 22, 'output_tokens': 296, 'total_tokens': 318}\n"
          ]
        }
      ],
      "source": [
        "system_template = \"You are a helpful assistant.\"\n",
        "human_template = \"{content}\"\n",
        "\n",
        "chat_prompt = ChatPromptTemplate.from_messages([\n",
        "    (\"system\", system_template),\n",
        "    (\"human\", human_template)\n",
        "])\n",
        "\n",
        "chat_chain = chat_prompt | openai_chat_model\n",
        "\n",
        "print(chat_chain.invoke({\"content\" : \"Please define LangChain.\"}))"
      ]
    },
    {
      "cell_type": "markdown",
      "metadata": {
        "id": "18KXqGI4XbMb"
      },
      "source": [
        "Well, that's not very good - is it!\n",
        "\n",
        "The issue at play here is that our model was not trained on the idea of \"LangChain\", and so it's left with nothing but a guess - definitely not what we want the answer to be!\n",
        "\n",
        "Let's ask another simple LangChain question!"
      ]
    },
    {
      "cell_type": "code",
      "execution_count": 19,
      "metadata": {
        "colab": {
          "base_uri": "https://localhost:8080/"
        },
        "id": "pRG5LwYoXnsr",
        "outputId": "58769a17-aba2-45f8-e9d4-23e96314de54"
      },
      "outputs": [
        {
          "name": "stdout",
          "output_type": "stream",
          "text": [
            "content='LangChain Expression Language (LECL) is a domain-specific language designed for use within the LangChain framework, which is a library for building applications with large language models (LLMs). LECL allows users to define and manipulate the behavior of language models in a more structured and programmable way. It offers a syntax and set of operations tailored to the needs of working with LLMs, enabling more precise control over tasks such as text generation, data extraction, and workflow automation.\\n\\nKey features of LECL may include:\\n\\n1. **Structured Syntax**: Similar to other programming languages, LECL provides a structured way to write expressions and commands that the LangChain framework can interpret and execute.\\n\\n2. **Task Automation**: Users can script and automate repetitive tasks that involve language models, such as data preprocessing, text analysis, and report generation.\\n\\n3. **Integration with LangChain**: LECL is designed to work seamlessly within the LangChain ecosystem, leveraging its tools and capabilities to enhance the functionality of LLMs.\\n\\n4. **Customizable Workflows**: Developers can create complex workflows that involve multiple steps and conditional logic, allowing for sophisticated use cases and interactions with language models.\\n\\n5. **Enhanced Control**: By providing a programmable interface, LECL gives users more granular control over the behavior of language models, enabling fine-tuning and optimization for specific applications.\\n\\nTypically, LECL would be used by developers and data scientists who need to integrate LLMs into their applications and require a higher level of control and customization than what is possible with standard API calls.' additional_kwargs={'refusal': None} response_metadata={'token_usage': {'completion_tokens': 314, 'prompt_tokens': 27, 'total_tokens': 341}, 'model_name': 'gpt-4o-2024-05-13', 'system_fingerprint': 'fp_157b3831f5', 'finish_reason': 'stop', 'logprobs': None} id='run-c2c4016b-ebed-41b6-9a09-999d8c8c542b-0' usage_metadata={'input_tokens': 27, 'output_tokens': 314, 'total_tokens': 341}\n"
          ]
        }
      ],
      "source": [
        "print(chat_chain.invoke({\"content\" : \"What is LangChain Expression Language (LECL)?\"}))"
      ]
    },
    {
      "cell_type": "markdown",
      "metadata": {
        "id": "63pr0fgYXxC3"
      },
      "source": [
        "While it provides a confident response, that response is entirely ficticious! Not a great look, OpenAI!\n",
        "\n",
        "However, let's see what happens when we rework our prompts - and we add the content from the docs to our prompt as context."
      ]
    },
    {
      "cell_type": "code",
      "execution_count": 48,
      "metadata": {
        "colab": {
          "base_uri": "https://localhost:8080/"
        },
        "id": "Fgr25HjgYHwh",
        "outputId": "7d590389-8a46-4105-fbe7-c08495dced25"
      },
      "outputs": [
        {
          "name": "stdout",
          "output_type": "stream",
          "text": [
            "content='LangChain Expression Language or LCEL is a declarative way to easily compose chains together. It offers several benefits, including full sync, async, batch, and streaming support, easy handling of fallbacks, automatic parallelism for components that can be run simultaneously, and seamless integration with LangSmith for detailed tracing and debugging.' additional_kwargs={'refusal': None} response_metadata={'token_usage': {'completion_tokens': 64, 'prompt_tokens': 276, 'total_tokens': 340}, 'model_name': 'gpt-4o-2024-05-13', 'system_fingerprint': 'fp_157b3831f5', 'finish_reason': 'stop', 'logprobs': None} id='run-50b24159-56dd-4f0f-83f3-f69ecc7e90d4-0' usage_metadata={'input_tokens': 276, 'output_tokens': 64, 'total_tokens': 340}\n"
          ]
        }
      ],
      "source": [
        "HUMAN_TEMPLATE = \"\"\"\n",
        "#CONTEXT:\n",
        "{context}\n",
        "\n",
        "QUERY:\n",
        "{query}\n",
        "\n",
        "Use the provide context to answer the provided user query. Only use the provided context to answer the query. If you do not know the answer, response with \"No idea brah!\".\n",
        "\"\"\"\n",
        "\n",
        "CONTEXT = \"\"\"\n",
        "LangChain Expression Language or LCEL is a declarative way to easily compose chains together. There are several benefits to writing chains in this manner (as opposed to writing normal code):\n",
        "\n",
        "Async, Batch, and Streaming Support Any chain constructed this way will automatically have full sync, async, batch, and streaming support. This makes it easy to prototype a chain in a Jupyter notebook using the sync interface, and then expose it as an async streaming interface.\n",
        "\n",
        "Fallbacks The non-determinism of LLMs makes it important to be able to handle errors gracefully. With LCEL you can easily attach fallbacks to any chain.\n",
        "\n",
        "Parallelism Since LLM applications involve (sometimes long) API calls, it often becomes important to run things in parallel. With LCEL syntax, any components that can be run in parallel automatically are.\n",
        "\n",
        "Seamless LangSmith Tracing Integration As your chains get more and more complex, it becomes increasingly important to understand what exactly is happening at every step. With LCEL, all steps are automatically logged to LangSmith for maximal observability and debuggability.\n",
        "\"\"\"\n",
        "\n",
        "chat_prompt = ChatPromptTemplate.from_messages([\n",
        "    (\"human\", HUMAN_TEMPLATE)\n",
        "])\n",
        "\n",
        "chat_chain = chat_prompt | openai_chat_model\n",
        "\n",
        "print(chat_chain.invoke({\"query\" : \"What is LangChain Expression Language?\", \"context\" : CONTEXT}))"
      ]
    },
    {
      "cell_type": "markdown",
      "metadata": {
        "id": "ppQdtCedY7C4"
      },
      "source": [
        "You'll notice that the response is much better this time. Not only does it answer the question well - but there's no trace of confabulation (hallucination) at all!\n",
        "\n",
        "> NOTE: While RAG is an effective strategy to *help* ground LLMs, it is not nearly 100% effective. You will still need to ensure your responses are factual through some other processes\n",
        "\n",
        "That, in essence, is the idea of RAG. We provide the model with context to answer our queries - and rely on it to translate the potentially lengthy and difficult to parse context into a natural language answer!\n",
        "\n",
        "However, manually providing context is not scalable - and doesn't really offer any benefit.\n",
        "\n",
        "Enter: Retrieval Pipelines."
      ]
    },
    {
      "cell_type": "markdown",
      "metadata": {
        "id": "DFmdARsVBJUq"
      },
      "source": [
        "## Task #4: Implement Naive RAG using LCEL\n",
        "\n",
        "Now we can make a naive RAG application that will help us bridge the gap between our Pythonic implementation and a fully LangChain powered solution!"
      ]
    },
    {
      "cell_type": "markdown",
      "metadata": {
        "id": "n4AozVoEZveK"
      },
      "source": [
        "## Putting the R in RAG: Retrieval 101\n",
        "\n",
        "In order to make our RAG system useful, we need a way to provide context that is most likely to answer our user's query to the LLM as additional context.\n",
        "\n",
        "Let's tackle an immediate problem first: The Context Window.\n",
        "\n",
        "All (most) LLMs have a limited context window which is typically measured in tokens. This window is an upper bound of how much stuff we can stuff in the model's input at a time.\n",
        "\n",
        "Let's say we want to work off of a relatively large piece of source data - like the Ultimate Hitchhiker's Guide to the Galaxy. All 898 pages of it!\n",
        "\n",
        "> NOTE: It is recommended you do not run the following cells, they are purely for demonstrative purposes."
      ]
    },
    {
      "cell_type": "code",
      "execution_count": 21,
      "metadata": {
        "id": "PbXBxffibeyp"
      },
      "outputs": [],
      "source": [
        "context = \"\"\"\n",
        "EVERY HITCHHIKER'S GUIDE BOOK\n",
        "\"\"\""
      ]
    },
    {
      "cell_type": "markdown",
      "metadata": {
        "id": "EZvgFuaXcHFT"
      },
      "source": [
        "We can leverage our tokenizer to count the number of tokens for us!"
      ]
    },
    {
      "cell_type": "code",
      "execution_count": 49,
      "metadata": {
        "id": "HaKPOdSjbifn"
      },
      "outputs": [],
      "source": [
        "import tiktoken\n",
        "\n",
        "enc = tiktoken.encoding_for_model(\"gpt-4o\")"
      ]
    },
    {
      "cell_type": "code",
      "execution_count": 23,
      "metadata": {
        "colab": {
          "base_uri": "https://localhost:8080/"
        },
        "id": "NtDiSMxpE4Xi",
        "outputId": "886fd517-9128-45ca-9fbd-5152ae7f146b"
      },
      "outputs": [
        {
          "data": {
            "text/plain": [
              "12"
            ]
          },
          "execution_count": 23,
          "metadata": {},
          "output_type": "execute_result"
        }
      ],
      "source": [
        "len(enc.encode(context))"
      ]
    },
    {
      "cell_type": "markdown",
      "metadata": {
        "id": "5oUuZpAicLdm"
      },
      "source": [
        "The full set comes in at a whopping *636,144* tokens.\n",
        "\n",
        "So, we have too much context. What can we do?\n",
        "\n",
        "Well, the first thing that might enter your mind is: \"Use a model with more context window\", and we could definitely do that! However, even `gpt-4-128k` wouldn't be able to fit that whole text in the context window at once.\n",
        "\n",
        "So, we can try splitting our document up into little pieces - that way, we can avoid providing too much context.\n",
        "\n",
        "We have another problem now.\n",
        "\n",
        "If we split our document up into little pieces, and we can't put all of them in the prompt. How do we decide which to include in the prompt?!\n",
        "\n",
        "> NOTE: Content splitting/chunking strategies are an active area of research and iterative developement. There is no \"one size fits all\" approach to chunking/splitting at this moment. Use your best judgement to determine chunking strategies!\n",
        "\n",
        "In order to conceptualize the following processes - let's create a toy context set!"
      ]
    },
    {
      "cell_type": "markdown",
      "metadata": {
        "id": "UPCiOPwUfbqn"
      },
      "source": [
        "### TextSplitting aka Chunking\n",
        "\n",
        "We'll use the `RecursiveCharacterTextSplitter` to create our toy example.\n",
        "\n",
        "It will split based on the following rules:\n",
        "\n",
        "- Each chunk has a maximum size of 100 tokens\n",
        "- It will try and split first on the `\\n\\n` character, then on the `\\n`, then on the `<SPACE>` character, and finally it will split on individual tokens.\n",
        "\n",
        "Let's implement it and see the results!"
      ]
    },
    {
      "cell_type": "code",
      "execution_count": 24,
      "metadata": {
        "id": "nLW9AfDKfVHn"
      },
      "outputs": [],
      "source": [
        "import tiktoken\n",
        "from langchain.text_splitter import RecursiveCharacterTextSplitter\n",
        "\n",
        "def tiktoken_len(text):\n",
        "    tokens = tiktoken.encoding_for_model(\"gpt-4o\").encode(\n",
        "        text,\n",
        "    )\n",
        "    return len(tokens)\n",
        "\n",
        "text_splitter = RecursiveCharacterTextSplitter(\n",
        "    chunk_size = 100,\n",
        "    chunk_overlap = 0,\n",
        "    length_function = tiktoken_len,\n",
        ")"
      ]
    },
    {
      "cell_type": "code",
      "execution_count": 50,
      "metadata": {
        "id": "nPYPBe2ngT9N"
      },
      "outputs": [],
      "source": [
        "chunks = text_splitter.split_text(CONTEXT)"
      ]
    },
    {
      "cell_type": "code",
      "execution_count": 51,
      "metadata": {
        "colab": {
          "base_uri": "https://localhost:8080/"
        },
        "id": "n_RGVlTihaQX",
        "outputId": "d1b260d2-8559-4ccc-d333-9e66543d9ed2"
      },
      "outputs": [
        {
          "data": {
            "text/plain": [
              "3"
            ]
          },
          "execution_count": 51,
          "metadata": {},
          "output_type": "execute_result"
        }
      ],
      "source": [
        "len(chunks)"
      ]
    },
    {
      "cell_type": "code",
      "execution_count": 52,
      "metadata": {
        "colab": {
          "base_uri": "https://localhost:8080/"
        },
        "id": "rTYny2xchS_Z",
        "outputId": "35a390f4-2e17-46f6-b4d2-7c9c86773507"
      },
      "outputs": [
        {
          "name": "stdout",
          "output_type": "stream",
          "text": [
            "LangChain Expression Language or LCEL is a declarative way to easily compose chains together. There are several benefits to writing chains in this manner (as opposed to writing normal code):\n",
            "\n",
            "Async, Batch, and Streaming Support Any chain constructed this way will automatically have full sync, async, batch, and streaming support. This makes it easy to prototype a chain in a Jupyter notebook using the sync interface, and then expose it as an async streaming interface.\n",
            "----\n",
            "Fallbacks The non-determinism of LLMs makes it important to be able to handle errors gracefully. With LCEL you can easily attach fallbacks to any chain.\n",
            "\n",
            "Parallelism Since LLM applications involve (sometimes long) API calls, it often becomes important to run things in parallel. With LCEL syntax, any components that can be run in parallel automatically are.\n",
            "----\n",
            "Seamless LangSmith Tracing Integration As your chains get more and more complex, it becomes increasingly important to understand what exactly is happening at every step. With LCEL, all steps are automatically logged to LangSmith for maximal observability and debuggability.\n",
            "----\n"
          ]
        }
      ],
      "source": [
        "for chunk in chunks:\n",
        "  print(chunk)\n",
        "  print(\"----\")"
      ]
    },
    {
      "cell_type": "markdown",
      "metadata": {},
      "source": [
        "🏗️ Activity #1:\n",
        "While there's nothing specifically wrong with the chunking method used above - it is a naive approach that is not sensitive to specific data formats.\n",
        "\n",
        "Brainstorm some ideas that would split large single documents into smaller documents.\n",
        "\n",
        "- `Semantic Chunking:using paragraph instead of lines, or sentences. Each paragraph can be treated as a coherent thought or idea, making it a natural unit for embedding. `\n",
        "- ` Dynamic Contextual Chunking: Like we used before having chunk overlaps slightly with the previous one.Basically a sliding window approach where each ensuring that the context is preserved across chunks.`\n",
        "- `Machine Learning: ML Algorithms that try solving the chunkins task in an effective manner`"
      ]
    },
    {
      "cell_type": "markdown",
      "metadata": {
        "id": "98hOgu5Yhefv"
      },
      "source": [
        "As is shown in our result, we've split each section into 100 token chunks - cleanly separated by `\\n\\n` characters!"
      ]
    },
    {
      "cell_type": "markdown",
      "metadata": {
        "id": "rj18Rjafhp7d"
      },
      "source": [
        "## Embeddings and Dense Vector Search\n",
        "\n",
        "Now that we have our individual chunks, we need a system to correctly select the relevant pieces of information to answer our query.\n",
        "\n",
        "This sounds like a perfect job for embeddings!\n",
        "\n",
        "We'll be using OpenAI's `text-embedding-3` model as our embedding model today!\n",
        "\n",
        "Let's load it up through LangChain."
      ]
    },
    {
      "cell_type": "code",
      "execution_count": 28,
      "metadata": {
        "id": "quNjOLWspOVN"
      },
      "outputs": [],
      "source": [
        "from langchain_openai.embeddings import OpenAIEmbeddings\n",
        "\n",
        "embedding_model = OpenAIEmbeddings(model=\"text-embedding-3-small\")"
      ]
    },
    {
      "cell_type": "markdown",
      "metadata": {
        "id": "dsGZ92hm9IeX"
      },
      "source": [
        "####❓ Question #2:\n",
        "\n",
        "What is the embedding dimension, given that we're using `text-embedding-3-small`?\n",
        "```1536 is the embedding for the text-embedding-3-small. The embedding dimension is the length of the vector used to represent each item in the embedding space. so in the case of text-embedding-3-small each word or sentence will be represented by a vector with 1536 elements (or features)```\n",
        "\n",
        "> HINT: Check out the [docs](https://platform.openai.com/docs/guides/embeddings) to help you answer this question."
      ]
    },
    {
      "cell_type": "markdown",
      "metadata": {
        "id": "ByK-zb0FsnqR"
      },
      "source": [
        "### Finding the Embeddings for Our Chunks\n",
        "\n",
        "First, let's find all our embeddings for each chunk and store them in a convenient format for later."
      ]
    },
    {
      "cell_type": "code",
      "execution_count": 29,
      "metadata": {
        "id": "ZHl-u6Fxske9"
      },
      "outputs": [],
      "source": [
        "embeddings_dict = {}\n",
        "\n",
        "for chunk in chunks:\n",
        "  embeddings_dict[chunk] = embedding_model.embed_query(chunk)"
      ]
    },
    {
      "cell_type": "code",
      "execution_count": 42,
      "metadata": {
        "colab": {
          "base_uri": "https://localhost:8080/"
        },
        "id": "RhJ9wY2etK7y",
        "outputId": "bc3554eb-9075-4a7f-c028-7dae06e7256c"
      },
      "outputs": [
        {
          "name": "stdout",
          "output_type": "stream",
          "text": [
            "Chunk - LangChain Expression Language or LCEL is a declarative way to easily compose chains together. There are several benefits to writing chains in this manner (as opposed to writing normal code):\n",
            "\n",
            "Async, Batch, and Streaming Support Any chain constructed this way will automatically have full sync, async, batch, and streaming support. This makes it easy to prototype a chain in a Jupyter notebook using the sync interface, and then expose it as an async streaming interface.\n",
            "---\n",
            "numerical vector: [0.0005607009516097605, -0.0366472490131855, 0.023857517167925835, -0.008668888360261917, 0.050974905490875244, 0.03672611713409424, -0.006112256553024054, -0.01965123414993286, -0.023528901860117912, 0.011560709215700626, 0.021951545029878616, -0.02379179559648037, -0.0034833289682865143, -0.012507122941315174, -0.019927270710468292, -0.0064178695902228355, 0.022503620013594627, -0.024002108722925186, 0.01618104986846447, 0.025395439937710762, -0.004620340187102556, -0.013052625581622124, 0.02114972285926342, 0.05720546469092369, -0.0008979431004263461, -0.030758453533053398, 0.01037111971527338, 0.05510232225060463, -0.04913465678691864, -0.02794549986720085, 0.019716957584023476, -0.03125794976949692, 0.02224072813987732, -0.012684575282037258, -0.04229944571852684, 0.014498535543680191, 0.014814007095992565, 0.00476164510473609, 0.024580473080277443, 0.024357013404369354, 0.025145692750811577, -0.019861547276377678, 0.013013191521167755, 0.015234635211527348, 0.008248260244727135, 0.010160804726183414, 0.013972749933600426, 0.01438023429363966, 0.04053806513547897, 0.08359989523887634, -0.011041495949029922, 0.024948522448539734, -0.001219986705109477, 0.025263994932174683, -0.056364208459854126, -0.03796171396970749, -0.03504360467195511, 0.01062086783349514, 0.002497481182217598, -0.02101827599108219, 0.0028080232441425323, -0.04429743066430092, -0.049975913017988205, 0.03683127462863922, -0.021636074408888817, -0.010896904394030571, -0.04808308556675911, 0.006861500907689333, -0.018901988863945007, 0.012349387630820274, -0.017929285764694214, -0.003808658802881837, 0.002954257419332862, -0.01627306267619133, -0.05825703591108322, -0.021176012232899666, -0.02220129407942295, -0.01027910690754652, 0.028497574850916862, 0.006559174507856369, 0.009450994431972504, -0.00028692279011011124, -0.02488279901444912, -0.028103236109018326, 0.040906112641096115, -0.007242695428431034, -0.015786709263920784, 0.04143190011382103, -0.014616837725043297, -0.015510672703385353, -0.0008889061282388866, 0.003936819266527891, -0.040774665772914886, 0.015352937392890453, 0.03685756400227547, 0.08906807005405426, 0.001539565739221871, -0.01900714635848999, -0.007919644005596638, 0.017245765775442123, -0.004689349792897701, -0.04311441257596016, 0.014077907428145409, -0.07029752433300018, 0.02975946106016636, 0.023187141865491867, -0.006210841238498688, -0.036068886518478394, -0.04987075552344322, -0.03669982776045799, -0.03062700666487217, 0.019086014479398727, -0.02429129183292389, -0.0020883544348180294, 0.05983439087867737, -0.041090138256549835, 0.017626959830522537, -0.0027685894165188074, -0.018494505435228348, 0.03454411029815674, -0.002801450900733471, 0.007965650409460068, 0.027735186740756035, -0.055628105998039246, -0.04087982326745987, -0.026539023965597153, 0.010265962220728397, -0.021583495661616325, 0.01237567700445652, -0.030732164159417152, 0.018468216061592102, 0.0004239145782776177, 0.02807694673538208, -0.01791614107787609, -0.033755429089069366, -0.009332693181931973, -0.040406618267297745, -0.035990018397569656, -0.013486398383975029, 0.007301846519112587, 0.01978268101811409, -0.02589493617415428, 0.04945012927055359, 0.02720940113067627, -0.03759366273880005, 0.021530916914343834, -0.03646322712302208, -0.006424441933631897, -0.03049555979669094, 0.0051001193933188915, -0.029338831081986427, 0.00028240433312021196, -0.06740570068359375, 0.051211509853601456, -0.037619952112436295, -0.023436889052391052, -0.058730240911245346, 0.015970734879374504, 0.03062700666487217, -0.033255934715270996, 0.03856636956334114, 0.06267363578081131, 0.030390402302145958, 0.04061692953109741, 0.02155720628798008, 0.011718444526195526, -0.01453796960413456, 0.0363580696284771, -0.03909215331077576, 0.014564258977770805, -0.040275171399116516, -0.034202348440885544, -0.04763616621494293, -0.029864616692066193, 0.0042457180097699165, -0.04726811870932579, -0.02812952548265457, -0.0036476370878517628, -0.02789292111992836, -0.020492490381002426, 0.009266969747841358, 0.062095269560813904, -0.01169215515255928, -0.024764498695731163, -0.05851992964744568, 0.02820839360356331, -0.021622929722070694, 0.028103236109018326, 0.026262987405061722, -0.0011624789331108332, -0.07234808802604675, 0.10142402350902557, 0.0322832316160202, 0.00564233586192131, 0.03346624970436096, 0.022030413150787354, 0.07150682806968689, 0.012349387630820274, 0.022897958755493164, -0.034465242177248, 0.04498095065355301, 0.05573326349258423, 0.009851906448602676, -0.01887569949030876, 0.025395439937710762, 0.036436937749385834, -0.02561889961361885, -0.012776588089764118, -0.0017958862008526921, -0.04229944571852684, 0.014551114290952682, -0.01223765779286623, -0.03546423465013504, 0.008944925852119923, -0.008241687901318073, -0.03386058658361435, 0.02442273683845997, -0.04981817677617073, -0.0013391099637374282, -0.028681600466370583, 0.0011312604183331132, -0.005234851967543364, 0.04561189189553261, 0.016286205500364304, -0.056311629712581635, -0.012973757460713387, 0.004879946820437908, -0.015983879566192627, 0.03995969891548157, -0.012717436999082565, -0.00037297909148037434, -0.029102228581905365, -0.02452789433300495, -0.025737201794981956, 0.005878939293324947, 0.021636074408888817, -0.03627920150756836, -0.004005828406661749, 0.03144197538495064, -0.016838280484080315, -0.014169919304549694, -0.010844326578080654, -0.016719980165362358, 0.02124173566699028, 0.03117908164858818, 0.02351575717329979, -0.06603866070508957, -0.02142575941979885, 0.027630029246211052, 0.03062700666487217, 0.0178635623306036, 0.03346624970436096, -0.012710864655673504, -0.03596372902393341, -0.004909522365778685, -0.024357013404369354, 0.015300358645617962, -0.007847349159419537, 0.01913859322667122, 0.0024991242680698633, 0.030022352933883667, 0.02415984496474266, -0.018941422924399376, 0.010239672847092152, 0.005086974706500769, -0.014406522735953331, -0.03141568601131439, -0.01198790967464447, -0.04534900188446045, 0.03467555344104767, 0.04435000941157341, -0.012119356542825699, 0.002964115934446454, -0.028050657361745834, -0.03533278778195381, -0.05147440358996391, 0.010272534564137459, 0.022727079689502716, -0.0025089827831834555, 0.06740570068359375, -0.09979408979415894, -0.017153752967715263, -0.037619952112436295, -0.010850898921489716, -0.0023939672391861677, 0.03333480283617973, 0.010752313770353794, -0.020124441012740135, -0.0006017779815010726, -0.04511239752173424, 0.01618104986846447, 0.023988964036107063, 0.01900714635848999, -0.026105251163244247, -0.008465146645903587, 0.0546816922724247, 0.039907120168209076, 0.0005381086375564337, 0.0262498427182436, 0.010331685654819012, -0.00902379397302866, 0.011508130468428135, -0.016522809863090515, -0.05515490099787712, -0.024922233074903488, 0.04926610365509987, -0.050659433007240295, -0.04771503433585167, 0.021320601925253868, 0.031073924154043198, 0.029864616692066193, 0.02083425037562847, 0.033203355967998505, -0.0057540652342140675, -0.03393945470452309, -0.01932261697947979, -0.017245765775442123, -0.003871095832437277, 0.012678002938628197, -0.06356746703386307, 0.03832976520061493, -0.00827454961836338, 0.028339838609099388, -0.04006485641002655, -0.013046053238213062, 0.044875793159008026, 0.030732164159417152, -0.020426766946911812, -0.02571091242134571, -0.007656751666218042, 0.042509760707616806, -0.008504580706357956, 0.015602685511112213, -0.017442934215068817, 0.036936432123184204, -0.04650573059916496, 0.012020771391689777, 0.0009078015573322773, 0.036436937749385834, 0.06819438189268112, -0.05552295222878456, 0.011817029677331448, -0.010344830341637135, 0.04513868689537048, 0.013775580562651157, 0.03977567330002785, -0.004357447382062674, 0.025789780542254448, -0.008721467107534409, 0.008419140242040157, -0.026631036773324013, -0.023502612486481667, -0.038303475826978683, -0.04316699132323265, 0.01887569949030876, -0.01394646055996418, -0.04908207803964615, -0.06446130573749542, -0.0057770684361457825, 0.022989971563220024, -0.026552168652415276, 0.010016214102506638, 0.009707314893603325, 0.05228937044739723, -0.030364112928509712, 0.012382249347865582, -0.009174956940114498, 0.018665386363863945, -0.011179514229297638, -0.018428782001137733, 0.0634097307920456, 0.011376684531569481, 0.03049555979669094, 0.020531924441456795, -0.0071835448034107685, 0.05620647221803665, 0.007840776816010475, 0.019243750721216202, -0.0058230748400092125, 0.039539072662591934, -0.028734179213643074, -0.01462998241186142, -0.029917195439338684, -0.027446003630757332, 0.011501558125019073, 0.06572318822145462, -0.0381983183324337, 0.01828419230878353, -0.01093633845448494, 0.02465934120118618, 0.04179994761943817, -0.03646322712302208, -0.0012791375629603863, 0.008425712585449219, 0.04185252636671066, 0.009161812253296375, 0.03659467026591301, 0.023187141865491867, 0.02105771005153656, 0.008997504599392414, 0.02931254170835018, 0.0008186644990928471, 0.0007266520406119525, -0.0419313944876194, -0.013762435875833035, -0.02734084613621235, 0.008590021170675755, 0.02220129407942295, -0.026788773015141487, 0.041905105113983154, 0.02210928127169609, 0.0322832316160202, 0.018165890127420425, -0.006276564672589302, 0.0021425760351121426, -0.07418833673000336, -0.0288919135928154, 0.004101126920431852, 0.0428515188395977, 0.07171714305877686, 0.016838280484080315, -0.06430356949567795, 0.009076372720301151, -0.05058056861162186, 0.020308464765548706, 0.004991676192730665, 0.01978268101811409, -0.023765506222844124, -0.015366082079708576, -0.05081716924905777, -0.024738209322094917, 0.02957543544471264, 0.07550279796123505, -0.02178066596388817, 0.019532931968569756, -0.01057486142963171, 0.033019330352544785, 0.05815187841653824, -0.04739956557750702, -0.034465242177248, 0.014866585843265057, 0.04611138999462128, -0.0019716958049684763, 0.004209570121020079, -0.0472155399620533, -0.00035490523441694677, -0.05862508341670036, -0.04219428822398186, -0.034070901572704315, 0.014708849601447582, -0.0023315302096307278, 0.0019848402589559555, 0.04056435450911522, 0.0326249897480011, -0.010745741426944733, -0.020545069128274918, 0.04561189189553261, -0.011935330927371979, 0.015168911777436733, 0.043456174433231354, -0.002533629070967436, 0.016075892373919487, -0.0381983183324337, 0.005027824081480503, 0.023003116250038147, 0.043824221938848495, -0.023173997178673744, -0.004817510023713112, -0.002255948493257165, 0.001181374303996563, -0.013854448683559895, 0.00669062091037631, 0.03412348031997681, 0.01465627085417509, 0.005507603287696838, 0.05163213610649109, 0.05147440358996391, -0.03930246829986572, -0.042641203850507736, -0.025960659608244896, -0.00413727480918169, 0.012388821691274643, -0.018796831369400024, -0.026920218020677567, -0.0020604219753295183, 0.06404067575931549, 0.019808968529105186, -0.039407625794410706, -0.021478338167071342, 0.006795777939260006, 0.03938133642077446, -0.007078387308865786, 0.038671523332595825, -0.014222498051822186, 0.02907593920826912, -0.031468264758586884, -0.1062086746096611, -0.0313631072640419, 0.011665865778923035, -0.03131052851676941, -0.009299831464886665, 0.004469176754355431, -0.010975772514939308, -0.005648908205330372, -0.03081103228032589, 0.00852429773658514, 0.020453056320548058, -0.009976780042052269, 0.021990979090332985, -0.01307891495525837, 0.022451041266322136, -0.04201026260852814, 0.05368269979953766, -0.01581299863755703, -0.04185252636671066, -0.031152792274951935, -0.04850371554493904, 0.01152784749865532, -0.010568289086222649, -0.04272007197141647, 0.010292251594364643, -0.0007245981832966208, -0.007696185726672411, -0.02114972285926342, 0.005586470942944288, 0.012171934358775616, -0.0005849364097230136, -0.03533278778195381, 0.012789732776582241, -0.01319064386188984, 0.010338257998228073, 0.0006091718096286058, 0.0005734348087571561, 0.019795823842287064, -0.047057803720235825, 0.012862028554081917, -0.003227008506655693, -0.022503620013594627, -0.010949483141303062, -0.026920218020677567, -0.024541039019823074, 0.046006232500076294, 0.03740964084863663, 0.018744254484772682, -0.010910049080848694, 0.002959186676889658, 0.011659293435513973, 0.012553129345178604, 0.025395439937710762, 0.04390309005975723, 0.023213431239128113, -0.04994962364435196, -0.020939407870173454, -0.030600717291235924, -0.013026336207985878, 0.021570350974798203, 0.003470184514299035, -0.012178506702184677, 0.012040488421916962, 0.01640450768172741, -0.005132981110364199, 0.015195201151072979, 0.023226575925946236, 0.010923193767666817, -0.00480765150859952, -0.023463178426027298, -0.00024666733224876225, 0.02794549986720085, -0.032020337879657745, 0.010509137995541096, -0.022635066881775856, -0.029785750433802605, 0.011652721092104912, -0.005418877117335796, 0.006404724903404713, -0.0019125448307022452, -0.042141709476709366, 0.03559567779302597, -0.04153705760836601, 0.005658766720443964, 0.0034176057670265436, -0.03633178025484085, -0.033886875957250595, -0.015168911777436733, -0.03993340954184532, 0.02024274319410324, -0.013203788548707962, -0.012296808883547783, 1.8381953850621358e-05, 0.006907507311552763, 0.00836656242609024, -0.0067892055958509445, -0.04093240201473236, 0.02452789433300495, -0.04048548638820648, -0.008852913975715637, 0.0016397936269640923, -0.026315564289689064, -0.014051618054509163, -0.025461163371801376, -0.0032023624517023563, 0.04371906444430351, -0.0132826566696167, 0.0029706882778555155, -0.023003116250038147, 0.0034931874834001064, -0.0008683676715008914, 0.012934323400259018, 0.017193187028169632, -0.014551114290952682, -0.036174044013023376, 0.001718661398626864, -0.00701923668384552, -0.06051791459321976, -0.0002620712330099195, 0.010857471264898777, -0.0002854851190932095, -0.000633407267741859, 0.01963808946311474, -0.03528020903468132, 0.012717436999082565, -0.0036377785727381706, 0.015576396137475967, -0.006457303185015917, 0.02812952548265457, -0.008340273052453995, -0.008452001959085464, -0.03691014274954796, -0.028313549235463142, 0.039723094552755356, 0.014235642738640308, 0.03144197538495064, 0.0020653512328863144, -0.03627920150756836, 0.005550323519855738, 0.01991412602365017, 0.0014549471670761704, -0.01654909923672676, -7.789224764565006e-05, -0.0012931037927046418, 0.011600143276154995, -0.0031662145629525185, -0.019585510715842247, -0.0282609723508358, 0.01453796960413456, -0.024357013404369354, 0.019677523523569107, -0.007479298859834671, 0.03633178025484085, 0.023739216849207878, -0.0006288887816481292, 0.002136003691703081, 0.058046720921993256, -0.010535427369177341, -0.003673926228657365, -0.027630029246211052, -0.023752361536026, -0.008057663217186928, 0.049528997391462326, 0.01062086783349514, 0.03212549537420273, -0.010988917201757431, -0.0001340136950602755, 0.022543054074048996, -0.02292424812912941, 0.006592035759240389, 0.024541039019823074, 0.020334754139184952, -0.005455024540424347, -0.024080976843833923, -0.007334707770496607, 0.07555537670850754, -0.01740350015461445, 0.005750779062509537, -0.013400958850979805, -0.01677255891263485, -0.04789905995130539, 0.006010385695844889, -0.031100213527679443, -0.010469703935086727, -0.0007155612111091614, 0.044323720037937164, -0.009845334105193615, -0.01419620867818594, 0.01378872524946928, -0.029785750433802605, 0.013295801356434822, 0.021162867546081543, 0.021031420677900314, 0.03620033338665962, 0.009457566775381565, -0.025237705558538437, -0.0064835925586521626, -0.004916094709187746, 0.014419667422771454, -0.031783733516931534, 0.04839855805039406, 0.006782633252441883, 0.023896951228380203, 0.01564211957156658, 0.009253825061023235, -0.0397493839263916, 0.0011723374482244253, -0.014209353365004063, -0.010923193767666817, -0.031336817890405655, -0.008103669621050358, -0.015550106763839722, 0.020492490381002426, -0.0009225892717950046, -0.035805992782115936, 0.002154077636078, -0.011731589213013649, 0.0121916513890028, -0.034386374056339264, 0.01469570491462946, -0.02274022437632084, -0.05281515419483185, 0.007341280113905668, -0.030784742906689644, -0.03683127462863922, 0.022582488134503365, -0.06982431560754776, -0.02292424812912941, 0.009766465984284878, -0.013387814164161682, 0.0034438951406627893, 0.06193753331899643, -0.02279280312359333, 0.023003116250038147, -0.01032511331140995, 0.00922753568738699, 0.0060465335845947266, -0.0059118010103702545, -0.024501604959368706, -0.018152745440602303, -0.020860539749264717, 0.00943784974515438, -0.03162599727511406, -0.023857517167925835, 0.014222498051822186, -0.026000093668699265, -0.0018057445995509624, 0.028313549235463142, 0.023226575925946236, -0.007683041039854288, 0.028655311092734337, 0.0366472490131855, 0.014275076799094677, -0.038487501442432404, -0.045322712510824203, 0.011054640635848045, 0.008714894764125347, 0.026907073333859444, 0.0005750778946094215, -0.04603252187371254, -0.01764010451734066, -0.04306183382868767, -0.0110283512622118, -0.04584849625825882, -0.0254743080586195, 0.002193511463701725, -0.026368143036961555, 0.034386374056339264, 0.02078167349100113, 0.024554183706641197, -0.006102398037910461, -0.018586518242955208, 0.03094247728586197, -0.020032428205013275, 0.012756871059536934, 0.034070901572704315, 0.027919210493564606, 0.00918152928352356, 0.03890812769532204, -0.006289709359407425, -0.011659293435513973, 0.02050563506782055, 0.002972331363707781, -0.005132981110364199, -0.0243833027780056, -0.006887790281325579, -0.000421860720962286, -0.01082460954785347, -0.023778650909662247, 0.0010031001875177026, 0.0058000716380774975, -0.019388340413570404, -0.015931300818920135, -0.031967759132385254, -0.038224607706069946, 0.026512734591960907, 0.018441926687955856, -0.008747756481170654, 0.009326120838522911, 0.0045283278450369835, -0.012717436999082565, -0.07219035178422928, -0.02471191994845867, -0.03672611713409424, 0.012296808883547783, -0.0419313944876194, -0.013578411191701889, -0.006808922626078129, 0.06661702692508698, 0.009602158330380917, -0.03246725723147392, 0.004166850354522467, 0.0037100741174072027, 0.015418659895658493, 0.00952986255288124, -0.015510672703385353, -0.023489467799663544, 0.04374535381793976, -0.000913552357815206, 0.01982211321592331, 0.004380450583994389, 0.00697323027998209, 0.024449026212096214, -0.003795514116063714, 0.015182056464254856, -0.005507603287696838, -0.01891513355076313, -0.01777155138552189, 0.02925996482372284, -0.020584503188729286, 0.026644181460142136, -0.0006477842107415199, -0.027104243636131287, 0.002385751809924841, -0.02839241735637188, 0.003021623706445098, 0.007998512126505375, 0.03769882023334503, -0.008576876483857632, -0.009293259121477604, -0.013683567754924297, 0.006670903880149126, -0.02433072403073311, -0.002780091017484665, 0.03404461219906807, -0.009194673970341682, 0.0005413947510533035, -0.05809929966926575, 0.0608859620988369, 0.001188768190331757, -0.025237705558538437, 0.00681549496948719, 0.008721467107534409, 0.02383122779428959, -0.00028897664742544293, 0.026788773015141487, 0.02493537776172161, -0.007650179322808981, -0.005520747974514961, 0.02251676470041275, 0.011514702811837196, 0.006526312790811062, 0.03299304097890854, -0.004176708869636059, -0.0075976005755364895, 0.025316571816802025, -0.011159797199070454, -0.030337823554873466, 0.024764498695731163, -0.04179994761943817, 0.01827104762196541, 0.02999606356024742, -0.001183838932774961, 0.008550587110221386, 0.024357013404369354, 0.04137932136654854, 0.011810457333922386, 0.010666873306035995, 0.044639188796281815, -0.0014664486516267061, 0.0053170062601566315, -0.007453009486198425, 0.006624897476285696, 0.024028398096561432, 0.017745262011885643, 0.007906499318778515, 0.019835257902741432, -0.012165362015366554, -0.025224560871720314, -0.049476418644189835, 0.02802436798810959, 0.0144459567964077, -0.004071551375091076, 0.006651186849921942, 0.017232621088624, 0.02894449234008789, 0.02789292111992836, 0.02471191994845867, -0.009312976151704788, -0.00614183209836483, -0.032887883484363556, 0.058730240911245346, 0.017153752967715263, -0.005701486486941576, -0.026039527729153633, -0.0002858958614524454, 0.008248260244727135, 0.014353944920003414, 0.03909215331077576, -0.010042503476142883, 0.010489420965313911, 0.029785750433802605, 0.004462604410946369, -0.015221490524709225, 0.02638128772377968, -0.019835257902741432, -0.011061212979257107, 0.03993340954184532, 0.021346891298890114, 0.009667880833148956, 0.0040879822336137295, 0.009161812253296375, -0.008537442423403263, -0.0020571358036249876, 0.011034923605620861, 0.0038480928633362055, -0.010660300962626934, 0.03788284584879875, 0.009004076942801476, -0.041274163872003555, -0.007288701832294464, -0.026013238355517387, -0.018481360748410225, 0.005727775860577822, 0.011836746707558632, 0.008195681497454643, -0.05205276608467102, 0.004498752299696207, 0.00701923668384552, -0.006020244210958481, 0.021596640348434448, 0.029733171686530113, -3.812458453467116e-05, 0.03067958541214466, -0.04024888202548027, 0.03236209973692894, 0.01474828366190195, -0.011948475614190102, 0.029286254197359085, -0.05515490099787712, 0.0410112701356411, -0.021675508469343185, 0.0037396494299173355, -0.010193666443228722, 0.05815187841653824, -0.039407625794410706, -0.008051090873777866, 0.026788773015141487, -0.038040582090616226, -0.005372870713472366, -0.02561889961361885, 0.015563251450657845, 0.01604960300028324, 0.031336817890405655, 0.023778650909662247, -0.024225568398833275, 0.0030199806205928326, -0.038224607706069946, 0.01668054610490799, -0.0161416158080101, -0.023029405623674393, -0.00369692943058908, -0.03622662276029587, 0.008491436019539833, -0.0020423480309545994, -0.02419927902519703, -0.03162599727511406, 0.04237831383943558, 0.03254612535238266, -0.0011542635038495064, 0.006822067312896252, -0.04235202446579933, 0.05573326349258423, 0.010588006116449833, 0.03044298104941845, -0.010594578459858894, 0.008760901167988777, 0.010193666443228722, -0.006358718499541283, -0.002909894334152341, -0.0034537536557763815, 0.0028901773039251566, 0.04240460321307182, 0.007255840115249157, -0.01278316043317318, 0.019611800089478493, -0.01963808946311474, -0.008583448827266693, 9.206381218973547e-05, -0.008103669621050358, 0.02598694898188114, 0.022175004705786705, 0.03651580587029457, 0.031967759132385254, -0.008392850868403912, 0.0251588374376297, 0.02665732614696026, -0.03286159411072731, -0.026105251163244247, 0.016075892373919487, 0.028918202966451645, -0.0020209881477057934, -0.04279894009232521, -0.004866802133619785, 0.05349867790937424, -0.016023313626646996, -0.024172989651560783, -0.007262412458658218, -0.004084696061909199, 0.001933904830366373, -0.019624944776296616, 0.020400477573275566, -0.003151427023112774, 0.0007315812399610877, -0.02214871533215046, -0.02674933895468712, 0.0017531660851091146, 0.01273715402930975, 0.01062086783349514, -0.018297335132956505, 0.018717965111136436, -0.00956929661333561, 0.009562724269926548, 0.03207291662693024, -0.017889851704239845, -0.04116900637745857, -0.03725190460681915, 0.0015691411681473255, -0.04321957007050514, 0.032835304737091064, -0.0007044704398140311, 0.0011460480745881796, -0.000471153121907264, 0.01194190327078104, -0.0035161906853318214, -0.04203655198216438, 0.006118828896433115, -0.010449986904859543, 0.018310479819774628, -0.0018369631143286824, -0.00782105978578329, -0.0023068839218467474, 0.027971789240837097, 0.01248740591108799, -0.016877714544534683, 0.03154713287949562, -0.008307411335408688, 0.029365120455622673, 0.04521755501627922, 0.037488508969545364, 0.012244230136275291, 0.030837319791316986, 0.028655311092734337, 0.030285246670246124, 0.012139073573052883, -0.03304561972618103, 0.01438023429363966, -0.02296368218958378, 0.02425185777246952, 0.01750865764915943, 0.005027824081480503, -0.008688605390489101, 0.026828205212950706, 0.03194146975874901, 0.014077907428145409, 0.004367305897176266, 0.040406618267297745, -0.019086014479398727, -0.01741664484143257, 0.006197697017341852, -0.014643127098679543, 0.006782633252441883, -0.020400477573275566, -0.02894449234008789, 0.0014319439651444554, -0.0007964828982949257, -0.005244710482656956, 0.010752313770353794, 0.008452001959085464, 0.030521849170327187, -0.03746221959590912, -0.027288269251585007, 0.010680017992854118, -0.0027603739872574806, -0.0023890379816293716, -0.00684835622087121, -0.0144459567964077, -0.010489420965313911, -0.01462998241186142, -0.018809976056218147, -0.0034274642821401358, 0.02247733063995838, 0.04403453692793846, -0.004419884644448757, -0.01618104986846447, -0.006431014277040958, -0.01012137159705162, -0.02862902171909809, -0.020715950056910515, 0.009766465984284878, -0.03328222408890724, -0.030285246670246124, 0.04116900637745857, -0.009089517407119274, 0.008156247437000275, 0.02989090606570244, 0.007551594637334347, 0.0007718367269262671, -0.016627967357635498, 0.010469703935086727, 0.01232967060059309, -0.030889898538589478, -0.010160804726183414, -0.013499543070793152, 0.023634059354662895, -0.023528901860117912, 0.0006728411535732448, 0.019204316660761833, -0.02111028879880905, -0.009589013643562794, -0.0013957961928099394, 0.022543054074048996, 0.01324322260916233, 0.005727775860577822, 0.006496737245470285, 0.011251810006797314, 0.005836219061166048, -0.036252912133932114, -0.00818253681063652, -0.010226528160274029, -0.003414319595322013, 0.0164570864289999, -0.016982872039079666, 0.02092626318335533, -0.0030906330794095993, 0.007282129488885403, 0.012776588089764118, -0.019992994144558907, -0.010693162679672241, 0.02242475189268589, 0.024633051827549934, 0.04826711118221283, -0.007637034635990858, -0.00911580678075552, -0.0027110816445201635, 0.02962801419198513, 0.025737201794981956, -0.024186134338378906, 0.003215507138520479, -0.01900714635848999, -0.0070915319956839085, -0.015576396137475967, 0.027367135509848595, 0.023765506222844124, -0.005711345002055168, 0.02484336495399475, -0.019217461347579956, 0.014406522735953331, 0.02338431030511856, 0.02598694898188114, -0.011153224855661392, 0.0003848914348054677, 0.027183111757040024, -0.012093067169189453, -0.0011690512765198946, -0.029785750433802605, -0.015260924585163593, -0.0046170540153980255, 0.014932308346033096, -0.04853000491857529, 0.026788773015141487, -0.009924201294779778, -0.007124393712729216, -0.009096089750528336, -0.0074858712032437325, -0.013552121818065643, -0.017245765775442123, -0.012007626704871655, -0.014932308346033096, -0.016443941742181778, 0.019204316660761833, -0.01572098769247532, 0.0010523925302550197, -0.03112650290131569, -0.01564211957156658, -0.006467161700129509, -0.011416117660701275, 0.0012503836769610643, 0.04137932136654854, 0.00015640065248589963, -0.007032381370663643, -0.05076459050178528, -0.038356054574251175, 0.04398195818066597, -0.00421614246442914, -0.010916621424257755, 0.006509881932288408, 0.01791614107787609, 0.010752313770353794, 0.002242803806439042, -0.011455551721155643, -0.04579591751098633, 0.019243750721216202, -0.028734179213643074, 0.010016214102506638, -0.012217940762639046, -0.027156822383403778, 0.019125448539853096, 0.007045526057481766, -0.042273156344890594, 0.03191518038511276, 0.03322964534163475, 0.010798320174217224, -0.01941462978720665, 0.03451782092452049, -0.006253561470657587, 0.010949483141303062, 0.008984359912574291, -0.02296368218958378, -0.025079969316720963, 0.002412040950730443, -0.019033435732126236, 0.006263419985771179, -0.0015617472818121314, 0.018165890127420425, -0.004574333783239126, 0.045638181269168854, -0.004962100647389889, 0.02820839360356331, 0.019335761666297913, 0.019532931968569756, -0.006424441933631897, 0.0189545676112175, 0.031836312264204025, -0.003161285538226366, 0.007538449950516224, -0.024054687470197678, -0.022529909387230873, -0.0008133244700729847, 0.006490164902061224, 0.0035753415431827307, 0.017009161412715912, -0.0033584549091756344, -0.0021113574039191008, 0.0027242260985076427, 0.00187968323007226, 0.0063061402179300785, -0.014932308346033096, 0.008649171330034733, -0.011718444526195526, 0.029680592939257622, -0.014353944920003414, 0.004472462926059961, 0.03322964534163475, -0.012638569809496403, 0.007577883545309305, -0.021977834403514862, -0.0075976005755364895, -0.03031153418123722, -0.02994348481297493, 0.002131074434146285, 0.026420721784234047, 0.019835257902741432, 0.013959605246782303, 0.006828639190644026, -0.007893354631960392, -0.018586518242955208, 0.02734084613621235, 0.016627967357635498, 0.005701486486941576, -0.01162643264979124, -0.01950664259493351, -0.025789780542254448, 0.014248787425458431, 0.018994001671671867, 0.007893354631960392, -0.021793808788061142, -0.008754328824579716, -0.026184119284152985, 0.024803930893540382, 0.04858258366584778, -0.014143630862236023, 0.01718004234135151, -0.008879203349351883, 0.01558954082429409, 0.04048548638820648, 0.05830961465835571, -0.012132501229643822, -0.013828159309923649, -0.013670423068106174, 0.004962100647389889, -0.0006256026099435985, -0.009266969747841358, 0.01549752801656723, -0.011869608424603939, 0.0006736626964993775, 0.0060958256945014, 0.005780354607850313, -0.009674453176558018, 0.003148140851408243, -0.027156822383403778, -0.006477020215243101, 0.006273278500884771, -0.032204363495111465, -0.04613767936825752, 0.028602732345461845, 0.03223065286874771, -0.029286254197359085, 0.011606715619564056, -0.012263947166502476, 0.006795777939260006, -0.020071862265467644, -0.019151737913489342, 0.0209656972438097, -0.01982211321592331, 0.030837319791316986, -0.04017001390457153, -0.005599615629762411, -0.01823161356151104, 0.009950490668416023, -0.007656751666218042, 0.0015206702519208193, 0.002157363807782531, 0.04017001390457153, 0.015405516140162945, -0.03162599727511406, -0.0069666579365730286, 0.01832362450659275, -0.030889898538589478, 0.015878722071647644, 0.03044298104941845, 0.008958070538938046, 0.0020932836923748255, -0.03614775463938713, -0.00726898480206728, -0.01388073805719614, -0.009661308489739895, -0.013269511982798576, 0.01836305856704712, 0.059045713394880295, 0.0034537536557763815, -0.014459101483225822, 0.0016751198563724756, -0.010252817533910275, 0.01932261697947979, 0.006618325132876635, -0.021228590980172157, 0.01618104986846447, -0.001804101513698697, -0.002941112732514739, -0.026644181460142136, 0.022280162200331688, 0.018888844177126884, -0.026683615520596504, 0.01982211321592331, 0.031021345406770706, -0.014143630862236023, -0.012934323400259018, 0.020111296325922012, -0.0005130516365170479, -0.044323720037937164, 0.010752313770353794, 0.011869608424603939, 0.015221490524709225, 0.016194194555282593, 0.014761428348720074, 0.04766245558857918, -0.017995009198784828, -0.007525305263698101, -0.005780354607850313, -0.007807915098965168, -0.037619952112436295, -0.0067431991919875145, 0.009404988028109074, 0.021346891298890114, 0.008898919448256493, -0.019795823842287064, -0.010883760638535023, -0.005313720088452101, 0.013308946043252945, -0.004672918934375048, 0.0231477078050375, 0.003733077086508274, 0.020545069128274918, -0.001611861283890903, 0.009036938659846783, 0.01562897488474846, -0.000747601268813014, -0.0016397936269640923, -0.004462604410946369, -0.0003563429054338485, -0.01572098769247532, 0.033702850341796875, -0.004659774247556925, -0.020571358501911163, 0.005320292431861162, -0.018560228869318962, -0.0007689613266848028, 0.017153752967715263, 0.0070915319956839085, 0.02670990489423275, 0.005205276422202587, 0.028234682977199554, -0.04064321890473366, -0.01909915916621685, -0.008208826184272766, 0.010673445649445057, -0.0002893874188885093, 0.008044518530368805, 0.006385007873177528, 0.0540507510304451, -0.010929766111075878, 0.006716909818351269, -0.030863609164953232, -0.007176972460001707, 0.012500550597906113, -0.008951498195528984, -0.0353853665292263, -0.02684134989976883, 0.026078961789608, -0.043508753180503845, 0.00836656242609024, 0.00025015888968482614, 0.013854448683559895, -0.0022805947810411453, 0.003857951145619154, 0.008504580706357956, 0.006559174507856369, -0.015550106763839722, 0.02784034237265587, 0.018560228869318962, -0.0028129525016993284, -0.005675197578966618, -0.009372127242386341, -0.008405995555222034, -0.01654909923672676, -0.003195790108293295, 0.0036903570871800184, 0.013723001815378666, 0.03485957905650139, 0.007715902291238308, -0.0132826566696167, -0.006979802623391151, -0.003867809660732746, 0.023134563118219376, 0.036121465265750885, 0.015142623335123062, 0.012802877463400364, 0.02233273908495903, -0.007426720578223467, -0.0018254616297781467, 0.008714894764125347, -0.03725190460681915, -0.012796305119991302, -0.03007493168115616, 0.0178635623306036, -0.00731499120593071, -0.01378872524946928, 0.0017203044844791293, 0.0031070637051016092, -0.011849891394376755, -0.0041339886374771595, -0.01718004234135151, -0.019388340413570404, -0.02183324284851551, 0.05318320542573929, 0.007407003547996283, 0.015510672703385353, -0.009503573179244995, 0.004308155272156, 0.01764010451734066, -0.022437896579504013, 0.0017712399130687118, 0.01996670477092266, 0.0013851162511855364, -0.008813479915261269, 0.004666346590965986, 0.0029476850759238005, -0.0015387441962957382, 0.046558309346437454, -0.02580292336642742, -0.005869080778211355, -0.0020702804904431105, -0.03294046223163605, 0.012848883867263794, -0.0031990762799978256, -0.0021918683778494596, 0.002287166891619563, 0.0017318060854449868, 0.004633484873920679, -0.006532885134220123, 0.016259917989373207, 0.023752361536026, 0.013184071518480778, -0.018796831369400024, -0.009924201294779778, 0.0016323997406288981, -0.003268085652962327, -0.025408584624528885, -0.01315120980143547, -0.003608203027397394, 0.0036147753708064556, 0.023410599678754807, 0.04116900637745857, 0.02118915691971779, -0.04224686697125435, -0.029023360460996628, -0.006227272097021341, 0.009056655690073967, 0.023173997178673744, 0.017810983583331108, 0.010929766111075878, 0.01037111971527338, 0.010298823937773705, 0.004301582928746939, 0.03128423914313316, 0.04017001390457153, -0.02588179148733616, 0.007807915098965168, -0.032204363495111465, -0.010035931132733822, 0.010469703935086727, -0.04923981428146362, 0.02543487399816513, -0.011291244067251682, 0.016522809863090515, 0.019072869792580605, -0.05231565982103348, -0.009089517407119274, 0.019086014479398727]\n",
            "---\n",
            "Embedding - Vector of Size: 1536\n",
            "\n",
            "\n",
            "\n",
            "Chunk - Fallbacks The non-determinism of LLMs makes it important to be able to handle errors gracefully. With LCEL you can easily attach fallbacks to any chain.\n",
            "\n",
            "Parallelism Since LLM applications involve (sometimes long) API calls, it often becomes important to run things in parallel. With LCEL syntax, any components that can be run in parallel automatically are.\n",
            "---\n",
            "numerical vector: [0.018455594778060913, 0.016934065148234367, 0.054577842354774475, 0.0037228174041956663, 0.05849437043070793, 0.014623592607676983, -0.017779359593987465, 0.008023252710700035, 0.015849269926548004, 0.02554197981953621, 0.0016395188868045807, -0.0689760223031044, -0.011714371852576733, 0.0004417983873281628, -0.029021773487329483, -0.03648854047060013, 0.002627456793561578, -0.011115620844066143, 0.009523650631308556, 0.060354020446538925, 0.006399583071470261, -0.01877962425351143, 0.0144193135201931, 0.008424767293035984, -0.017525769770145416, -0.043194543570280075, 0.0169058870524168, 0.0577617846429348, -0.00133221922442317, -0.04085589572787285, 0.0582689605653286, -0.034206245094537735, -0.03426260128617287, 0.005008369218558073, -0.026964891701936722, 0.051365721970796585, 0.030261538922786713, 0.034516189247369766, 0.013017533347010612, 0.03522060066461563, -0.01579291746020317, -0.05336625128984451, -0.03902442380785942, 0.0016826641513034701, -0.016314182430505753, 0.06165013834834099, 0.03834819048643112, 0.018286535516381264, 0.00634323013946414, 0.04305366054177284, -0.009241885505616665, -0.031163185834884644, -0.0028475855942815542, 0.03282560035586357, -0.04894254729151726, -0.014750387519598007, -0.015046239830553532, 0.00687858322635293, 0.011242415755987167, -0.03293830528855324, 0.001838515279814601, -0.004131376277655363, -0.00652637705206871, 0.003435769584029913, -0.03702389448881149, 0.02109009586274624, -0.028641391545534134, 0.013285210356116295, -0.009756105951964855, 0.039390720427036285, -0.013919181190431118, -0.016440976411104202, 0.02952895127236843, -0.0051386854611337185, -0.029162656515836716, 0.005054156295955181, 0.017215829342603683, 0.012221547774970531, 0.038320012390613556, 0.01429251953959465, 0.012827342376112938, 0.009882899932563305, 0.012263813056051731, -0.02673947997391224, 0.05066131055355072, -0.017314447090029716, -0.018962770700454712, 0.024626243859529495, -0.031135009601712227, -0.0467166043817997, 0.005145729519426823, -0.0017037965590134263, -0.019314976409077644, 0.06029766798019409, 0.0342344231903553, 0.01579291746020317, 0.04234924912452698, -0.037418365478515625, -0.00889672338962555, 0.02199174277484417, 0.0036699865013360977, -0.008741753175854683, 0.009199620224535465, -0.08627638220787048, 0.0808665007352829, 0.007811929099261761, -0.025781478732824326, -0.014067107811570168, -0.05536678433418274, -0.008164134807884693, -0.0793449655175209, -0.013102062977850437, -0.05756454914808273, -0.00836137030273676, 0.06238272786140442, -0.04804089665412903, -0.016877710819244385, 0.0567474290728569, 0.014370004646480083, -0.009319370612502098, -0.033530011773109436, -0.011967959813773632, 0.022428477182984352, -0.026725390926003456, 0.003418159205466509, -0.02109009586274624, 0.0664401426911354, 0.007924634963274002, 0.006346751935780048, -0.02528838999569416, 0.0036277216859161854, 0.00229462212882936, 0.034938834607601166, 0.018131565302610397, -0.02511933259665966, 0.0037369057536125183, -0.07365331798791885, -0.033051010221242905, 0.0034111151471734047, -0.0028317361138761044, 0.02447127364575863, -0.010700018145143986, 0.06841249018907547, 0.019963035359978676, -0.00702650984749198, 0.05545131117105484, -0.04953425005078316, -0.009192576631903648, -0.01551115233451128, 0.0166945643723011, -0.01608877070248127, -0.019540388137102127, -0.06041037291288376, 0.022752506658434868, -0.03950342535972595, -0.01591971144080162, -0.06891966611146927, 0.006920848041772842, 0.0348261296749115, -0.013165459968149662, -0.020089829340577126, 0.056155722588300705, 0.013045710511505604, 0.032318420708179474, -0.010298503562808037, -0.014820828102529049, -0.04668842628598213, 0.030571481212973595, -0.051450252532958984, 0.015074416995048523, -0.03586865961551666, -0.01305275410413742, -0.050379544496536255, -0.015637947246432304, 0.014764475636184216, -0.03068418614566326, -0.011143798008561134, -0.029895246028900146, 0.003779170336201787, -0.034516189247369766, -0.002366824308410287, 0.026542244479060173, -0.005899450276046991, -0.0036418100353330374, -0.06322801858186722, 0.003965839743614197, 0.00742450263351202, 0.051281195133924484, -0.004677295684814453, -0.004222949966788292, -0.07156825810670853, 0.06119931489229202, 0.044434309005737305, -0.00836841482669115, 0.011496003717184067, 0.013813518919050694, 0.047308310866355896, 0.015243475325405598, 0.039475247263908386, -0.004494148306548595, 0.004747736733406782, 0.037249308079481125, 0.04677295684814453, -0.023245595395565033, 0.03696754202246666, 0.04482877999544144, -0.03970066085457802, 0.00037553964648395777, -0.009192576631903648, -0.0565783716738224, -0.00034868394141085446, -0.018850065767765045, 0.014905357733368874, 0.0006234046304598451, -0.019061388447880745, -0.011383297853171825, -0.002264684531837702, 0.0027507287450134754, -0.026373185217380524, 0.03927801176905632, 0.0039024425204843283, 0.0009095720015466213, 0.03327642381191254, 0.00017478222434874624, -0.02678174339234829, 0.0018649307312443852, 0.01651141792535782, -0.046744778752326965, 0.0286273043602705, 0.017525769770145416, 0.016765005886554718, -0.018117476254701614, -0.01806112378835678, -0.013510622084140778, -0.013017533347010612, -0.01239060703665018, 0.017258094623684883, -0.015313916839659214, 0.021104183048009872, -0.01745533011853695, 0.03640401363372803, -0.017906153574585915, -0.0012494507245719433, -0.018159741535782814, 0.006589774042367935, 0.016849534586071968, -0.03175489231944084, 0.013679681345820427, 0.0463784858584404, 0.016948152333498, -0.007995076477527618, 0.013869872316718102, 0.003860177705064416, 0.00470547191798687, -0.028613215312361717, 0.010108312591910362, 0.040292367339134216, -0.01900503598153591, 0.022259419783949852, -0.0009271822636947036, -0.026626773178577423, 0.03045877441763878, 0.005621207877993584, 0.017863888293504715, -0.008650179021060467, -0.008981253020465374, -0.04091224819421768, 0.0052091265097260475, -0.03251565620303154, -0.014820828102529049, 0.0336427167057991, 0.0024337435606867075, -0.027359362691640854, -0.018892329186201096, -0.011911606416106224, -0.06446778774261475, 0.001405301969498396, 0.05015413463115692, 0.02379503659904003, 0.08734709024429321, -0.06153743341565132, -0.00943207647651434, 0.008382502943277359, -0.009932208806276321, 0.02018844708800316, 0.011369209736585617, -0.012601930648088455, -0.04102495312690735, 0.014778563752770424, -0.024274038150906563, -0.02006165310740471, 0.022259419783949852, 0.03631948307156563, -0.032149363309144974, 0.022949742153286934, 0.056803781539201736, 0.015891535207629204, -0.0051668621599674225, 0.0011120904237031937, 0.05223919451236725, 0.026218215003609657, 0.020554741844534874, -0.052351899445056915, -0.048294488340616226, 0.025344744324684143, 0.004497670568525791, -0.020132094621658325, -0.028599126264452934, -0.028782274574041367, 0.02302018366754055, -0.015398446470499039, -0.009403900243341923, -0.005247869528830051, -0.010953606106340885, -0.05032319203019142, -0.060861196368932724, -0.028937244787812233, -0.02425994910299778, 0.03443165868520737, -0.053507134318351746, 0.0453641340136528, -0.034375306218862534, 0.03860177844762802, -0.032318420708179474, -0.013158416375517845, 0.03961613029241562, -0.01793432980775833, -0.036263130605220795, -0.020427947863936424, 0.002726074540987611, 0.026514068245887756, 0.0012582559138536453, 0.007741488050669432, 0.006315053440630436, 0.005994546227157116, -0.009756105951964855, -0.020892860367894173, 0.03471342474222183, 0.07675272971391678, 0.015482976101338863, -0.036432188004255295, 0.01921635866165161, -0.018554212525486946, 0.04082771763205528, 0.04051777720451355, 0.03361453860998154, -0.02896542102098465, 0.0027084641624242067, 0.04341995716094971, 0.031304068863391876, -0.05756454914808273, -0.019582653418183327, -0.013961445540189743, -0.005378185771405697, -0.011503048241138458, -0.009192576631903648, -0.0027630559634417295, -0.10306956619024277, 0.00825570896267891, 0.018328800797462463, -0.024837566539645195, 0.00821344368159771, -0.0028616737108677626, 0.04133489727973938, 0.0012027834309265018, 0.034290775656700134, -0.0011939783580601215, -0.019103653728961945, 0.004853398539125919, 0.0166945643723011, 0.039813365787267685, 0.029838891699910164, 0.04339177906513214, 0.042292896658182144, -0.0036418100353330374, 0.03496701270341873, -0.027528420090675354, -0.010777503252029419, -4.9941711040446535e-05, 0.003354762215167284, 0.0006542226183228195, 0.000795105064753443, -0.016835447400808334, -0.02006165310740471, 0.026373185217380524, 0.058043546974658966, -0.02961347997188568, -0.005906494800001383, -0.006417193450033665, 0.012341298162937164, 0.004349743947386742, -0.02820465713739395, -0.01240469515323639, 0.014215034432709217, 0.0166945643723011, -0.0031187841668725014, 0.0087910620495677, 0.017427152022719383, 0.01668047532439232, -0.017427152022719383, 0.0030236884485930204, -0.009622267447412014, -0.020047565922141075, 0.006079075392335653, 0.00954478234052658, -0.012158150784671307, 0.061762843281030655, 0.039306189864873886, 0.030402421951293945, 0.03812277689576149, 0.03941889479756355, 0.02896542102098465, 0.04223654419183731, -0.05669107660651207, 0.02182268351316452, -0.062100961804389954, 0.01839924044907093, 0.002030467614531517, 0.028035597875714302, 0.024499449878931046, 0.019779888913035393, -0.056155722588300705, -0.024499449878931046, -0.03871448338031769, 0.01202431321144104, -0.010692974552512169, 0.013658548705279827, -0.026218215003609657, 0.01062957663089037, -0.07246990501880646, -0.005297178402543068, -0.008283885195851326, 0.05023866519331932, 0.05584578216075897, -0.007882370613515377, -0.02952895127236843, 0.015736563131213188, 0.03598136454820633, -0.012066577561199665, -0.04437795653939247, 0.015539328567683697, 0.0348261296749115, -0.007146259769797325, 0.029895246028900146, -0.041222188621759415, -0.0004772391403093934, -0.0716809630393982, -0.046293955296278, -0.018300624564290047, 0.002539405133575201, 0.0014440446393564343, -0.009403900243341923, 0.03093777410686016, 0.005948759149760008, 0.0010037870379164815, -0.021935390308499336, 0.058945197612047195, -0.03705207258462906, 0.034685246646404266, 0.000528308970388025, 0.016708653420209885, 0.008861502632498741, -0.025513801723718643, -0.030543304979801178, 0.02001938968896866, 0.03801007196307182, 0.016398711130023003, 0.009079870767891407, 0.014539063908159733, 0.03316371515393257, 0.006121340207755566, 0.0005340323550626636, 0.05347895994782448, -0.026049155741930008, 0.009347546845674515, 0.03826365992426872, 0.026753567159175873, -0.025020714849233627, 0.009889944456517696, -0.004328611772507429, -0.009742017835378647, 0.007558340672403574, 0.05595849081873894, -0.0355023629963398, -0.01959674246609211, 0.08537473529577255, 0.025640597566962242, 0.012890739366412163, -0.01844150573015213, 0.014792651869356632, 0.02961347997188568, -0.025147508829832077, 0.06875061243772507, -0.016779093071818352, 0.002902177395299077, -0.03654489293694496, -0.06131201982498169, -0.04488513246178627, 0.02896542102098465, -0.018624654039740562, -0.0031892252154648304, -0.027415715157985687, -0.028528686612844467, -0.0007885011727921665, 0.035361483693122864, 0.014553152024745941, 0.016145123168826103, -0.015497064217925072, 0.015313916839659214, -0.020399771630764008, 0.04322272166609764, -0.0141657255589962, 0.025260213762521744, -0.004927361849695444, -0.0166945643723011, -0.01108040101826191, -0.06074849143624306, 0.004215905908495188, -0.0067412229254841805, -0.02434447780251503, 0.016271917149424553, 0.0016782615566626191, -0.025443362072110176, -0.006427759304642677, 0.01229903381317854, -0.00634323013946414, -0.017821623012423515, -0.05201378092169762, 0.013087974861264229, 0.0023439310025423765, 0.030346069484949112, -0.0007501987856812775, 0.0031346334144473076, -0.011066312901675701, 0.003249100409448147, 0.05139390006661415, 0.0036523761227726936, -0.03761560097336769, -0.014193901792168617, -0.06987766921520233, -0.008889679796993732, 0.017469417303800583, 0.04077136516571045, -0.0071779582649469376, -0.02806377410888672, -0.003159287851303816, 0.014679946005344391, -0.01322181336581707, 0.005283089820295572, 0.013151371851563454, 0.01621556468307972, -0.01861056499183178, 0.012841430492699146, -0.03302283585071564, 0.0021801551338285208, 0.01480673998594284, 0.002199526410549879, -0.0143981808796525, -0.025767391547560692, 0.01617329940199852, 0.006994811352342367, 0.027711568400263786, 0.04381442442536354, 0.021104183048009872, -0.014764475636184216, -0.003620677627623081, 0.007125127129256725, 0.04403983801603317, -0.019033212214708328, 0.0023456919007003307, -0.04573042690753937, -0.0004420185287017375, -0.012827342376112938, 0.0348261296749115, 0.013792387209832668, -0.015440710820257664, -0.0003764201537705958, 0.01120719499886036, -0.022315772250294685, -0.012193371541798115, -0.011200150474905968, -0.030064303427934647, -0.04358901455998421, -0.00955887045711279, -0.053676195442676544, 0.010016738437116146, -0.017737094312906265, 0.00034648264409042895, -0.041475776582956314, 0.015623858198523521, 0.017187653109431267, -0.01241173967719078, -0.02751433290541172, 0.032064832746982574, -0.007586517371237278, 0.03299465775489807, 0.003493883414193988, -0.01551115233451128, -0.03657307103276253, -0.03257201239466667, 0.00035088523873127997, 0.01425025425851345, 0.026683125644922256, 0.004145464394241571, 0.003078280482441187, 0.0050682444125413895, -0.01534209307283163, 0.011157886125147343, 0.009079870767891407, -0.015990152955055237, -0.041222188621759415, 0.014919445849955082, -0.0010099506471306086, -0.07044120132923126, -0.023175153881311417, 0.006455936003476381, -0.008297973312437534, 0.006072031334042549, -0.0011966198217123747, -0.029669832438230515, 0.004240560345351696, 0.01908956468105316, -0.0010856749722734094, -0.024245860055088997, 0.005638818256556988, -0.040320541709661484, 0.02113235928118229, 0.0019970079883933067, -0.026669038459658623, -0.0006753550260327756, 0.0030307325068861246, 0.025302479043602943, 0.02144230157136917, -0.014074151404201984, 0.02041385881602764, 0.025513801723718643, -0.024104978889226913, -0.03110683336853981, 0.000396231742342934, -0.018835976719856262, -0.005483847577124834, 0.0046209427528083324, -0.033783599734306335, -0.03265653923153877, 0.003434008453041315, -0.030317893251776695, -0.001045171287842095, 0.039982423186302185, 0.04215201362967491, -0.0037650822196155787, -0.00545567087829113, -0.028683656826615334, 0.057226430624723434, 0.010678885504603386, 0.004923840053379536, -0.030148833990097046, 0.014405225403606892, -0.0004776793939527124, 0.02054065465927124, 0.0020568829495459795, -0.031980305910110474, -0.021639537066221237, -0.0023316037841141224, 0.017060859128832817, 0.021540919318795204, 0.020512476563453674, 0.036347657442092896, 0.03586865961551666, 0.011024047620594501, -0.023738684132695198, -0.026598596945405006, 0.03606589511036873, 0.0074104140512645245, 0.007248399313539267, 0.0008219607407227159, -0.009925165213644505, -0.03702389448881149, -0.015863358974456787, -0.04110948368906975, -0.0062129138968884945, -0.021245066076517105, 0.03927801176905632, -0.04449066147208214, -0.04635030776262283, 0.007811929099261761, -0.018751448020339012, -0.002808842808008194, 0.020780153572559357, 0.018934594467282295, 0.021709978580474854, -0.0043884869664907455, -0.03257201239466667, 0.0345725417137146, -0.02921900898218155, 0.02272433042526245, -0.027317097410559654, 0.013503577560186386, 0.01266532763838768, -0.006653171498328447, 0.03209301084280014, 0.006227002013474703, -0.002736640628427267, 0.03245930373668671, -0.009685665369033813, -0.002197765512391925, -0.05035137012600899, -0.0006793173379264772, 0.011749591678380966, 0.010319636203348637, -0.012806209735572338, -0.026964891701936722, -0.008586782030761242, -0.037418365478515625, 0.004518802743405104, -0.052351899445056915, 0.012045444920659065, -0.01942768320441246, -0.058888841420412064, -0.004184207413345575, -0.0348261296749115, -0.019230447709560394, 0.03896807134151459, -0.07489308714866638, -0.0170326828956604, -0.01661003567278385, 0.03662942349910736, 0.01917409524321556, 0.06666555255651474, -0.0025922360364347696, -0.0063537959940731525, -0.007269531954079866, 0.009227797389030457, 0.001493353396654129, 0.008290928788483143, -0.015370269306004047, -0.028796361759305, -0.014236166141927242, -0.011291724629700184, -0.030656009912490845, -0.034121718257665634, 0.014200945384800434, -0.02549971453845501, -0.004444839898496866, 0.027021244168281555, 0.024161331355571747, 0.007671046536415815, 0.01861056499183178, 0.02058291807770729, 0.018765535205602646, 0.01789206452667713, -0.03012065775692463, 0.013510622084140778, 0.01522938720881939, 0.005564854945987463, 0.0013824085472151637, -0.03248748183250427, -0.010157620534300804, -0.00688914954662323, -0.031811244785785675, -0.005846619606018066, -0.028444156050682068, -0.008135958574712276, -0.009171443991363049, 0.013933269307017326, 0.02066744863986969, -0.0035713687539100647, -0.021456388756632805, -0.04770278185606003, 0.05232372134923935, -0.003286082064732909, 0.02764112688601017, 0.0020551220513880253, 0.004314523655921221, 0.0010117117781192064, 0.027105772867798805, 0.00652637705206871, -0.003965839743614197, -0.036009542644023895, -0.016877710819244385, 0.0037509938701987267, -0.002467202953994274, -0.014609504491090775, 0.030346069484949112, -0.032628364861011505, -0.02478121407330036, 0.031050480902194977, -0.004680817946791649, -0.019920771941542625, -0.01583518087863922, -0.04975966364145279, -0.040292367339134216, -0.03319189324975014, -0.005638818256556988, -0.01345426868647337, -0.0023351258132606745, 0.028909068554639816, 0.021935390308499336, -0.10543638467788696, -0.025866009294986725, -0.006959590595215559, 0.006473546382039785, -0.002810603938996792, -0.003333629807457328, 0.02490800805389881, 0.026556331664323807, -0.0035643246956169605, -0.025344744324684143, 0.030007950961589813, -0.006959590595215559, 0.007748532108962536, 0.012531489133834839, 0.021160535514354706, -0.025781478732824326, 0.009516606107354164, 0.0056705167517066, 0.023161066696047783, -0.025739213451743126, -0.0031909863464534283, -0.001046932302415371, 0.006466502323746681, -0.00028572711744345725, -0.006230524275451899, -0.0004838430031668395, -0.01946994848549366, 0.0031945083755999804, -0.028740009292960167, 0.05294360592961311, 0.014285475015640259, -0.04063048213720322, 0.014524975791573524, -0.0177934467792511, 0.02738753892481327, 0.005607119295746088, 0.010573224164545536, -0.03823548182845116, -0.04398348554968834, -0.02404862642288208, 0.0047195605002343655, -0.01317954808473587, 0.016116946935653687, 0.042208366096019745, 0.011918650940060616, 0.005050634033977985, -0.031304068863391876, 0.05404248833656311, 0.007368149701505899, -0.03547418862581253, -0.02058291807770729, -0.01596197672188282, 0.019948948174715042, 0.0020639272406697273, -0.00722022308036685, 0.011756636202335358, -0.0033706114627420902, 0.022090360522270203, 0.02024480141699314, 0.013799430802464485, -0.002632739720866084, 0.014750387519598007, -0.04223654419183731, -0.0226398017257452, 0.024104978889226913, 0.008023252710700035, -0.00022277029347606003, 0.017821623012423515, -0.008058473467826843, 0.013186592608690262, 0.016849534586071968, 0.014017798937857151, -0.003775648307055235, 0.026683125644922256, 0.02978253923356533, 0.0169904176145792, 0.0073470170609653, 0.024104978889226913, -0.018469681963324547, 0.002697897842153907, 0.018371064215898514, 0.0006022722809575498, -0.019371330738067627, -0.0018772579496726394, 0.013672636821866035, -0.011545312590897083, 0.004363832529634237, -0.032797422260046005, -0.010460518300533295, -0.012778033502399921, 0.013010489754378796, -0.00471603823825717, 0.0034023099578917027, 0.006568641867488623, 0.027204390615224838, -0.0009597613243386149, 0.023851390928030014, 0.0053359209559857845, -0.019314976409077644, -0.03786918893456459, 0.05815625563263893, 0.03555871918797493, -0.022442566230893135, -0.030317893251776695, 0.003962317481637001, 0.009192576631903648, 0.023132890462875366, 0.03336095064878464, 0.0031082178466022015, 0.015003975480794907, 0.0061142961494624615, -0.013623327948153019, -0.01801885850727558, 0.07895049452781677, 0.0028722400311380625, 0.007769664283841848, 0.04108130931854248, -0.00633266381919384, 0.011503048241138458, 0.013968490064144135, -0.004754780791699886, 0.011552357114851475, -0.03603771701455116, -0.0022752508521080017, -0.01388396043330431, -0.017906153574585915, 0.028430068865418434, 0.01985033042728901, -0.014229122549295425, -0.00791759043931961, -0.03245930373668671, 0.022907478734850883, -0.018089300021529198, 0.039644308388233185, 0.00020593043882399797, -0.03344548121094704, -0.014834916219115257, 0.03076871670782566, -0.013130239211022854, 0.047392837703228, 0.01646915264427662, 0.01831471174955368, 0.030796892940998077, -0.03471342474222183, 0.034685246646404266, 0.015722475945949554, -0.01142556220293045, 0.032064832746982574, -0.015976063907146454, -0.009227797389030457, 0.018976859748363495, 0.012693503871560097, -0.020723801106214523, 0.03615042194724083, -0.04643483832478523, 0.006737700663506985, 0.026964891701936722, -0.031473126262426376, 0.01793432980775833, -0.015173034742474556, 0.009023517370223999, 0.03538965806365013, -0.017258094623684883, 0.006769399158656597, 0.0007805765490047634, -0.014961711131036282, -0.036347657442092896, 0.0015144858043640852, -0.0087699294090271, -0.03183942288160324, 0.014355916529893875, -0.08283884823322296, 0.012799166142940521, 0.004663207568228245, 0.01146782748401165, 0.02054065465927124, 0.03291012719273567, 0.03479795157909393, 0.004825222305953503, 0.015482976101338863, -0.014961711131036282, 0.03710842505097389, -0.01510259322822094, 0.08836144208908081, 0.019751712679862976, 0.020343419164419174, 0.03209301084280014, -0.009396855719387531, -0.006917325779795647, 0.01427138689905405, 0.05855072662234306, 0.04685748741030693, -0.004684339743107557, 0.016934065148234367, 0.008396591059863567, -0.015849269926548004, -0.020597007125616074, 0.033699069172143936, 0.0146940341219306, -0.02819056808948517, -0.02478121407330036, 0.03941889479756355, 0.009756105951964855, -0.012728724628686905, 0.013700813055038452, 0.01741306483745575, -0.014158681035041809, -0.022090360522270203, 0.0026450669392943382, 0.05238007754087448, 0.02764112688601017, -0.0035608026664704084, -0.0017504638526588678, 0.037080246955156326, 0.008417723700404167, -0.015863358974456787, -0.03383995220065117, -0.031388599425554276, -0.013404960744082928, 0.0033723723609000444, 0.019399506971240044, 0.013299298472702503, 0.02827509678900242, -0.002109713852405548, 0.0067306566052138805, -0.006096685770899057, -0.03127589449286461, -0.011376253329217434, -0.017877977341413498, 0.006300965324044228, -0.01022806204855442, -0.0028563905507326126, 0.024922097101807594, -0.0017962505808100104, -0.032881952822208405, -0.052520956844091415, 0.004631509073078632, -0.05040772259235382, -0.012573754414916039, -0.003715773345902562, -0.012616018764674664, -0.029331715777516365, -0.013785342685878277, 0.013102062977850437, 0.00010632218618411571, 0.008114825934171677, 0.005899450276046991, 0.02109009586274624, -0.01538435835391283, 0.0170326828956604, -0.006825752090662718, 0.009777238592505455, 0.011996136046946049, -0.006276310887187719, 0.012545577250421047, -0.0009003265877254307, 0.007473811507225037, 0.034459833055734634, 0.021893125027418137, 0.004575156141072512, -0.003962317481637001, -4.0696300857234746e-05, 0.029585303738713264, 0.014348872005939484, -0.051281195133924484, 0.02480939030647278, -0.03970066085457802, 0.011714371852576733, 0.0034921225160360336, -0.028824537992477417, -0.035192422568798065, 0.026471802964806557, 0.00470547191798687, 0.023780949413776398, -0.04001060128211975, 0.018286535516381264, -0.008720620535314083, -0.01119310688227415, 0.003909486811608076, -0.027457980439066887, -0.005212648771703243, -0.011108577251434326, -0.015173034742474556, -0.0038320012390613556, -0.001058379071764648, -0.00719909043982625, -0.007664002478122711, 0.020949212834239006, 0.006850406527519226, -0.03572777658700943, -0.0033987879287451506, 0.034375306218862534, 0.005674038548022509, -0.021371860057115555, -0.0021766331046819687, -0.028740009292960167, -0.008445899933576584, 0.002984945895150304, -0.0011754875304177403, -0.01583518087863922, 0.004416663199663162, 0.028232833370566368, 0.0023897176142781973, -0.023992272093892097, -0.014151637442409992, -0.00479352381080389, -0.003958795219659805, -0.016539594158530235, -0.0032948870211839676, -0.04237742722034454, -0.024710772559046745, 0.06181919574737549, -0.014299563132226467, -0.020949212834239006, 0.04564589634537697, -0.0021819162648171186, -0.009277106262743473, -0.027190303429961205, 0.015623858198523521, 0.010678885504603386, -0.007234311196953058, 0.024978449568152428, -0.007762620225548744, -0.011524179950356483, 0.004758303053677082, -0.024062713608145714, -0.00070617301389575, -0.013686724938452244, -0.005723347421735525, -0.002447831677272916, 0.038742661476135254, -0.0019476991146802902, 0.011827077716588974, 0.024443095549941063, -0.014905357733368874, 0.010530958883464336, -0.023118801414966583, -0.00022023881319910288, 0.015821093693375587, 0.002373868366703391, 0.03739018738269806, 0.020850595086812973, 0.037333834916353226, 0.011291724629700184, -0.022921565920114517, 0.021104183048009872, -0.004846354480832815, -0.046406663954257965, -0.01037598866969347, -0.0007708908524364233, 0.06018495932221413, -0.021146448329091072, -0.012193371541798115, -0.00131813099142164, 0.02583783119916916, 0.024541713297367096, -0.010221018455922604, -0.017821623012423515, -0.012707591988146305, -0.009699753485620022, -0.010404164902865887, 0.049787841737270355, 0.013489489443600178, -0.03358636423945427, 0.005751524120569229, -0.01198204793035984, 0.005184472072869539, 0.016539594158530235, 0.00834023766219616, 0.019667182117700577, 0.03426260128617287, 0.024668507277965546, 0.007868281565606594, -0.004156030714511871, -0.011270591989159584, -0.02588009648025036, -0.024119066074490547, -0.0016298332484439015, -0.050125956535339355, 0.03020518645644188, -0.031473126262426376, 0.001223915838636458, -0.03905260190367699, -0.002541166264563799, -0.010573224164545536, -0.003958795219659805, 0.019610829651355743, -0.011045180261135101, 0.00246544205583632, -0.0010284414747729897, -0.04389895498752594, -0.011925695464015007, -0.03341730684041977, -0.03136042132973671, -0.028049685060977936, -0.014778563752770424, -0.017990682274103165, 0.006938457954674959, 0.011636885814368725, 0.02356962487101555, -0.01493353396654129, -0.01913182996213436, 0.022273506969213486, 0.010390076786279678, -0.016934065148234367, -0.011658018454909325, 0.00864313542842865, 0.026330919936299324, -0.0022541184443980455, -0.02781018614768982, -0.06018495932221413, 0.0113199008628726, -0.03950342535972595, -0.02644362673163414, 0.0017275704303756356, -0.0026186516042798758, 0.01651141792535782, 0.005600075237452984, -0.02507706731557846, 0.032290246337652206, -0.023132890462875366, -0.013933269307017326, -0.0028317361138761044, 0.023456919938325882, -0.009657488204538822, 0.006649649236351252, 0.010023782961070538, -0.0023227985948324203, 0.0034657069481909275, -0.018032947555184364, -0.007868281565606594, 0.0334736593067646, 0.0006498200818896294, 0.008889679796993732, 0.0021484566386789083, 0.03144495189189911, -0.015018063597381115, -0.0084529435262084, 0.0005705737276002765, 0.0056141638197004795, 0.013376783579587936, 0.042123835533857346, 0.018455594778060913, 0.00021792745974380523, -0.010474606417119503, -0.023541448637843132, 0.0031099789775907993, 0.018878242000937462, 0.012756900861859322, 0.007065252400934696, 0.00913622323423624, 0.005952281411737204, -0.0034745121374726295, 0.024203596636652946, -0.0070793405175209045, -0.004895663354545832, -0.021146448329091072, 0.013045710511505604, -0.020639272406697273, 0.0021431734785437584, -0.03665760159492493, -0.029838891699910164, 0.022428477182984352, -0.014116416685283184, 0.013087974861264229, 0.005149251781404018, 0.009361635893583298, -0.010692974552512169, -0.005452149081975222, 0.012200416065752506, 0.018948683515191078, 0.013700813055038452, 0.031163185834884644, -0.003927096724510193, -0.009255973622202873, -0.013404960744082928, 0.00981950294226408, 0.03220571577548981, -0.01172141544520855, -0.01617329940199852, -0.02255527302622795, -0.03772830590605736, 0.014412268996238708, -0.001849081483669579, -0.008776973932981491, -0.025640597566962242, 0.020033476874232292, -0.01814565248787403, -0.006036811042577028, 0.010939517989754677, -0.0006551031838171184, 0.0050682444125413895, 0.00046403141459450126, 0.030796892940998077, -0.0167368296533823, 0.048153605312108994, -0.004849876742810011, -0.03274106979370117, -0.005638818256556988, 0.028218744322657585, -0.02117462456226349, -0.0003356963279657066, 0.02635909616947174, -0.005649384111166, 0.008319105952978134, 0.013186592608690262, 0.014215034432709217, -0.014524975791573524, -0.00457867793738842, -0.022104447707533836, -0.0034111151471734047, -0.0010178753873333335, -0.01814565248787403, 0.028796361759305, 0.009460252709686756, 0.005043589975684881, -0.011587576940655708, 0.006501722615212202, -0.010319636203348637, -0.030092479661107063, 0.017483506351709366, -0.047082897275686264, -0.007431546691805124, -0.028261009603738785, -0.007995076477527618, -0.0348261296749115, -0.033558186143636703, 0.004480060189962387, 0.012573754414916039, -0.0348261296749115, -0.03150130435824394, -0.012545577250421047, 0.0460403673350811, -0.01835697703063488, -0.021076006814837456, -0.012531489133834839, -0.005998068023473024, -0.019413594156503677, 0.015849269926548004, 0.010862032882869244, -0.005906494800001383, 0.023414654657244682, -0.021146448329091072, -0.019314976409077644, -0.013982578180730343, -0.034854304045438766, -0.017765270546078682, 0.012235636822879314, 0.04660389944911003, 0.005357053130865097, 0.016483239829540253, 0.0026573941577225924, -0.018117476254701614, 0.007811929099261761, -0.016849534586071968, 0.010714106261730194, 0.015412534587085247, 0.020611094310879707, -0.00139825779478997, -0.021921301260590553, 0.02478121407330036, 0.003361806273460388, -0.006089641712605953, 0.0116157541051507, 0.03152948245406151, 0.0344034805893898, 0.006068509537726641, 0.008474076166749, -0.005064722150564194, -0.01827244646847248, -0.010178753174841404, 0.023076536133885384, 0.008931944146752357, 0.006579208187758923, -0.0013005206128582358, 0.008438855409622192, 0.0023051882162690163, -0.013433136977255344, -0.014539063908159733, 0.017427152022719383, -0.01630009338259697, -0.012348342686891556, -0.02361189015209675, 0.028387803584337234, 0.0457022488117218, -0.06204460933804512, -0.020653359591960907, 0.009706797078251839, -0.02400636114180088, 0.003444574773311615, -0.0070828627794981, 0.0018913461826741695, 0.026626773178577423, 0.024288125336170197, -0.0007281859288923442, 0.03260018676519394, 0.018582388758659363, -0.0008862383547239006, -0.017962506040930748, 0.007125127129256725, -0.01911774091422558, 0.003055386943742633, 0.014651769772171974, -0.006156560964882374, 0.023161066696047783, -0.04626578092575073, 0.0020727321971207857, 0.020597007125616074, 0.001057498506270349, 0.016962241381406784, 0.013827607035636902, 0.004134898539632559, -0.02228759601712227, 0.000526547955814749, -0.009770194068551064, 0.047730956226587296, 0.031895775347948074, 0.014215034432709217, 0.019202271476387978, 0.01587744615972042, -0.010488694533705711, 0.013228856958448887, -0.026584507897496223, -0.0001167783048003912, -0.013320431113243103, -0.008889679796993732, -0.027007155120372772, -0.018131565302610397, 0.02961347997188568, -0.029162656515836716, -0.01484900526702404, 0.026077331975102425, -0.00011842927051475272, 0.020554741844534874, -0.0021255630999803543, 0.0033001701813191175, 0.0019107175758108497, -0.006244612392038107, -0.009826547466218472, 0.016032416373491287, 0.011221283115446568, -0.004025714471936226, -0.0013005206128582358, 0.0004512639425229281, -0.011129709891974926, -0.007783752400428057, -0.008720620535314083, 0.017962506040930748, 0.015722475945949554, 0.03561507165431976, -0.033530011773109436, 0.01146782748401165, -2.9799928597640246e-05, 0.047900017350912094, -0.00470547191798687, 0.010411209426820278, -0.01770891807973385, 0.01294709276407957, -0.041701190173625946, -0.0025041846092790365, 0.022963831201195717, -0.012052489444613457, 0.006255178712308407, 0.015863358974456787, 0.01534209307283163, -0.01534209307283163, -0.0018772579496726394, 0.0007171794422902167, -0.009417988359928131, 0.029500775039196014, -0.021385949105024338, -0.03299465775489807, -0.01659594662487507, -0.007255443371832371, 0.03761560097336769, 0.023330125957727432, 0.018342887982726097, -0.014362961053848267, 0.004205339588224888, 0.013426092453300953, -0.01089020911604166, -0.001843798439949751, 0.015187122859060764, 0.012961180880665779, 0.007276576012372971, 0.02541518397629261, 0.005258435383439064, -0.012397651560604572, 0.034459833055734634, -0.030627833679318428, -0.00860087014734745, -0.00954478234052658, -0.04156030714511871, 0.011045180261135101, -0.011820033192634583, 0.009946297854185104, -0.003324824618175626, 0.012228592298924923, -0.010946562513709068, 0.005850141402333975, 0.017131300643086433, 0.018342887982726097, -0.00773444352671504, -0.023682331666350365, -0.032290246337652206, -0.02387956716120243, 0.010897253639996052, -0.016229651868343353, -0.016412800177931786, 0.008023252710700035, -0.012827342376112938, 0.006050899159163237, 0.038658130913972855, 0.04172936826944351, -0.013623327948153019, -0.0044413176365196705, -0.00945320911705494, -0.018427418544888496, 0.015539328567683697, 0.00722022308036685, -0.0017434196779504418, 0.003955273423343897, 0.011066312901675701, -0.008861502632498741, 0.020864684134721756, 0.01655368134379387, -0.008798105642199516, -0.001763671520166099, -0.01583518087863922, -0.020146183669567108, -0.0010935995960608125, -0.027415715157985687, 0.05849437043070793, -0.03801007196307182, -0.018807800486683846, 0.023090625181794167, -0.033952657133340836, -0.03367089480161667, 0.02207627147436142]\n",
            "---\n",
            "Embedding - Vector of Size: 1536\n",
            "\n",
            "\n",
            "\n",
            "Chunk - Seamless LangSmith Tracing Integration As your chains get more and more complex, it becomes increasingly important to understand what exactly is happening at every step. With LCEL, all steps are automatically logged to LangSmith for maximal observability and debuggability.\n",
            "---\n",
            "numerical vector: [0.020229892805218697, 0.019186517223715782, 0.02401212975382805, -0.028562407940626144, 0.020896494388580322, 0.04286534711718559, 0.03370682895183563, -0.024026621133089066, -0.0035141468979418278, -0.018998131155967712, 0.03680797293782234, -0.040981475263834, -0.00596680399030447, -0.013585619628429413, 0.044981081038713455, 0.01135395560413599, 0.016346218064427376, -0.0030703500378876925, -0.01846195198595524, 0.060283925384283066, 0.05480620265007019, -0.008441198617219925, 0.025403298437595367, 0.025403298437595367, 0.0034942214842885733, -0.0339386910200119, -0.008738270960748196, 0.03689492121338844, -0.03019992634654045, -0.016346218064427376, 0.04196688532829285, -0.025780072435736656, -0.017563490197062492, -0.003179035149514675, -0.012136487290263176, 0.035503752529621124, 0.05231369286775589, 0.012332119978964329, 0.012339365668594837, 0.042024850845336914, 0.02835952863097191, 0.03390970826148987, -0.005184272304177284, 0.004216976463794708, 0.047154780477285385, -0.002280572662129998, -0.007260155398398638, 0.004390872549265623, -0.0031482409685850143, 0.06723976135253906, 0.0015750261954963207, 0.030489753931760788, -0.02492508292198181, 0.01873728632926941, -0.05263250321149826, -0.04228569567203522, -0.013955148868262768, 0.028649354353547096, 0.006423281040042639, 0.0024906969629228115, -0.022867314517498016, -0.015592669136822224, -0.06109543889760971, 0.009571521542966366, -0.03709780052304268, -0.005611766595393419, -0.06532690674066544, 0.0433000884950161, -0.010651125572621822, 0.0022081159986555576, 0.025562701746821404, -0.028779776766896248, 0.01431743148714304, -0.03141719847917557, -0.04161909222602844, -0.01660706102848053, -0.02654811181128025, -0.0011031522881239653, 0.05347299948334694, 0.024432377889752388, 0.01313638873398304, -0.017128748819231987, -0.014042096212506294, -0.03298226371407509, 0.009861348196864128, -0.02205580100417137, -0.04915458336472511, 0.02275138534605503, 0.012484278529882431, -0.03338801860809326, 0.0030667271930724382, 0.002086751163005829, -0.005042982287704945, 0.0009772588964551687, 0.013752270489931107, 0.017838824540376663, 0.003691665828227997, -0.011180059053003788, -0.02589600346982479, 0.01428844965994358, 0.012730631045997143, -0.03019992634654045, 0.012042293325066566, -0.06179102137684822, 0.03654712811112404, 0.018708303570747375, -0.0031373724341392517, -0.02562066726386547, -0.03724271059036255, -0.01202780194580555, -0.06729772686958313, -0.008760008029639721, -0.03089551068842411, 0.021621061488986015, 0.077499620616436, 0.0003890015941578895, -0.022548506036400795, 0.006430526729673147, 0.022765876725316048, 0.017085274681448936, -0.007832562550902367, 0.005731320008635521, 0.04185095429420471, -0.031214319169521332, -0.010832267813384533, -0.003742385422810912, -0.019954558461904526, -0.0433870367705822, -0.008404970169067383, -0.01454929355531931, -0.0027750893495976925, -0.012737876735627651, 0.029243499040603638, 0.0026174960657954216, -0.00018770797760225832, -0.014484082348644733, -0.04309720918536186, -0.01628825254738331, -0.028605880215764046, 0.013114651665091515, 0.002342160791158676, 0.006934100296348333, 0.04150316119194031, 0.00846293568611145, -0.018490934744477272, 0.03756152093410492, -0.05231369286775589, 0.04608242213726044, -0.019766170531511307, 0.004401740618050098, -0.042575519531965256, -0.005129930097609758, -0.06457335501909256, 0.028939181938767433, 0.002421863144263625, 0.006263876333832741, -0.025403298437595367, -0.004836480598896742, 0.005919707473367453, 0.017056291922926903, 0.014447853900492191, 0.048082225024700165, 0.022649945691227913, 0.03944539278745651, -0.028547916561365128, -0.021983344107866287, 0.016722992062568665, 0.01840398646891117, -0.03802524507045746, -0.008289039134979248, -0.03196787089109421, -0.03390970826148987, -0.03741660714149475, -0.0336778461933136, 0.0036681173369288445, -0.05845801532268524, -0.016070881858468056, -0.038459982722997665, -0.006937723141163588, 0.00412640580907464, -0.029823152348399162, 0.028895707800984383, -0.009614995680749416, -0.04031487554311752, -0.04634326696395874, 0.028287071734666824, -0.0008821595693007112, 0.045705646276474, 0.04732867702841759, 0.010578669607639313, -0.05384977534413338, 0.06654417514801025, 0.039938099682331085, -0.03188092261552811, 0.0632401555776596, -0.010187403298914433, 0.04434346407651901, 0.024997539818286896, -0.01789679005742073, -7.69285688875243e-05, 0.03921353444457054, 0.04266246780753136, 0.02224418893456459, 0.008694796822965145, -0.068051278591156, 0.03538782149553299, 0.010723582468926907, 0.005829136818647385, 0.004064817447215319, 0.002907322719693184, 0.027446575462818146, 0.009919313713908195, -0.010354054160416126, 0.01665053516626358, -0.023852726444602013, 0.02493957430124283, 0.012121995911002159, -0.030866527929902077, 0.005289334803819656, 0.002059580059722066, 0.02325858175754547, -0.016665026545524597, 0.09233874082565308, 0.013629093766212463, -0.012585718184709549, 0.04422753304243088, 0.05912461876869202, -0.012317628599703312, 0.03666305914521217, 0.0015252121957018971, 0.012107504531741142, 0.03112737275660038, 0.009890330955386162, -0.039329465478658676, -0.0006489397492259741, -0.0013775818515568972, -0.031707026064395905, 0.004390872549265623, 0.026808956637978554, -0.049415428191423416, -0.04353194683790207, -0.02456280030310154, 0.005550178699195385, 0.025403298437595367, 0.010825022123754025, 0.0019345922628417611, -0.05089354142546654, -0.04112638905644417, 0.01191187184303999, 0.0553278885781765, -0.020751580595970154, 0.0410684235394001, 0.032257694751024246, -0.01105688326060772, 0.007796334568411112, 0.01846195198595524, -0.016983836889266968, -0.023461459204554558, 0.011600308120250702, -0.022490540519356728, 0.027040816843509674, -0.06973227113485336, -0.02766394428908825, -0.0038075963966548443, -0.008723779581487179, -0.05999409779906273, -0.013592865318059921, 0.0057240743190050125, -0.002997893374413252, -0.001435547135770321, 0.03463427349925041, -0.013774006627500057, -0.013955148868262768, -0.013752270489931107, -0.06938447803258896, -0.06103747338056564, 0.00558640668168664, 0.007803579792380333, 0.020432772114872932, 0.06202288344502449, -0.06515301018953323, -0.0072384183295071125, -0.014788400381803513, 0.027866823598742485, -0.015143437311053276, 0.000345980457495898, -0.010419264435768127, 0.006086357869207859, 0.019027113914489746, -0.005394396837800741, -0.02257748879492283, 0.03495308384299278, -0.0013567506102845073, 0.00023027625866234303, -0.01951981894671917, 0.00565524073317647, 0.01105688326060772, 0.0031373724341392517, -0.004053948912769556, -0.037532538175582886, -0.0096005043014884, 0.004191616550087929, -0.013817480765283108, -0.058950722217559814, 0.01846195198595524, 0.03712678328156471, -0.013636339455842972, -0.02183843031525612, 0.020099472254514694, -0.010897478088736534, -0.030286874622106552, -0.0002884679997805506, 0.004840103443711996, -0.019128553569316864, -0.011035146191716194, -0.044198550283908844, 0.024272974580526352, 0.008013703860342503, 0.025055505335330963, -0.06068968027830124, 0.023055702447891235, 0.003035933244973421, 0.0014201501617208123, -0.056081440299749374, -0.013592865318059921, 0.034025639295578, -0.015114454552531242, -0.02498304843902588, 0.01360011100769043, 0.021751483902335167, 0.029055112972855568, -0.016404183581471443, 0.03222871199250221, -0.026895904913544655, 0.022562997415661812, -0.007934002205729485, 0.005912461783736944, -0.007962984964251518, 0.015578177757561207, 0.06602249294519424, -0.08491918444633484, -0.009607749991118908, -0.014955050311982632, 0.004901691805571318, 0.04402465373277664, 0.03677899017930031, -0.04538683965802193, -0.012020556256175041, 0.008078915067017078, -0.033735811710357666, -0.014484082348644733, -0.03828608617186546, -0.0007825316861271858, -0.01601291634142399, -0.016722992062568665, 0.019403887912631035, -0.0457925945520401, -0.050951506942510605, 0.0277943667024374, 0.0012353856582194567, -0.010013507679104805, 0.015839021652936935, -0.0017724705394357443, 0.02266443707048893, -0.03254752233624458, 0.05845801532268524, -0.013621848076581955, 0.021157339215278625, -0.0337647944688797, 0.0032732286490499973, 0.06068968027830124, 0.02996806614100933, 0.03764846920967102, 0.031475163996219635, -0.03988013416528702, 0.04237264394760132, 0.004195239394903183, -0.0037351397331804037, -0.0034634273033589125, 0.07118140161037445, 0.015273859724402428, -0.027823349460959435, 0.0071297334507107735, -0.008984623476862907, 0.02114284783601761, 0.05124133452773094, -0.046227335929870605, 0.04564768075942993, -0.004180748015642166, 0.001846738625317812, 0.01036129891872406, -0.018766269087791443, 0.02622930333018303, -0.0037097798194736242, -0.01105688326060772, -0.0020668255165219307, 0.05993613228201866, 0.0362573005259037, 0.039532341063022614, -0.012607455253601074, 0.015665125101804733, 0.0039706239476799965, -0.012991474941372871, -0.0555887334048748, 0.013918920420110226, -0.009883085265755653, -0.0532701201736927, 0.033561915159225464, 0.009245467372238636, 0.020519720390439034, 0.05784938111901283, 0.020476246252655983, 0.029663747176527977, -0.049328479915857315, 0.07094953954219818, -0.08347004652023315, -0.015114454552531242, -0.0008395913173444569, 0.028562407940626144, 0.04092350974678993, 0.013339267112314701, -0.043589912354946136, 0.01846195198595524, -0.027185730636119843, 0.00923097599297762, -0.01475217193365097, 0.003581169294193387, -0.026214811950922012, -0.0038945444393903017, -0.07245663553476334, -0.0138971833512187, 0.023287564516067505, 0.051270317286252975, 0.008013703860342503, -0.027229204773902893, -0.029997048899531364, 0.0265046376734972, 0.025127962231636047, -0.00582551397383213, -0.046922918409109116, 0.02131674252450466, 0.006698616314679384, -0.001656539854593575, -0.01517242006957531, -0.008723779581487179, -0.02724369615316391, -0.05271945148706436, -0.033503949642181396, -0.01933143101632595, -0.014998524449765682, 0.01010770071297884, -0.040981475263834, -0.011890134774148464, 0.048487983644008636, 0.0019164781551808119, -0.0408945269882679, 0.010252614505589008, -0.01891118288040161, -0.010259860195219517, 0.03159109503030777, -0.006075489334762096, 0.05184997245669365, -0.029591292142868042, -0.009252713061869144, 0.01915753446519375, 0.05480620265007019, -0.023417985066771507, -0.018346020951867104, 0.06277643144130707, 0.044198550283908844, 0.019447362050414085, -0.0506906658411026, -0.0035594324581325054, -0.045068029314279556, 0.008020949549973011, 0.056458212435245514, 0.01007871888577938, -0.03895268961787224, -0.012245171703398228, -0.04915458336472511, -0.010832267813384533, -0.022490540519356728, 0.014781154692173004, 0.00028258090605959296, 0.009535294026136398, 0.06642824411392212, -0.04663309454917908, -0.004850971978157759, -0.04515497758984566, -0.01525936834514141, -0.007499262224882841, -0.04666207730770111, 0.07036988437175751, -0.017925772815942764, 0.02262096293270588, -0.05295131355524063, -0.020708108320832253, -0.03246057406067848, 0.024809153750538826, -0.03321412205696106, 0.02108488231897354, -0.019737187772989273, -0.003552186768501997, -0.017795350402593613, 0.015795547515153885, 0.003880053060129285, 0.012708894908428192, 0.012150978669524193, 0.05828411877155304, 0.013317530043423176, 0.02002701535820961, -0.0037967278622090816, 0.011035146191716194, 0.0096874525770545, -0.03593849390745163, -0.011745220981538296, -0.03521392494440079, -0.0008377798949368298, -0.006231270730495453, -0.0673556923866272, 0.021026916801929474, -0.034895118325948715, 0.014578275382518768, -0.02025887556374073, 0.037213731557130814, -0.023432476446032524, -0.0114264115691185, -0.050951506942510605, -0.024128060787916183, -0.008752762340009212, 0.0216935183852911, -0.021447164937853813, 0.0043473984114825726, 0.01059316098690033, -0.06480521708726883, 0.035735614597797394, -0.007035539485514164, -0.03361988067626953, -0.03205481544137001, -0.011252515949308872, -0.04011199623346329, 0.02859138883650303, 0.006872512400150299, 0.0004508161509875208, -0.027026325464248657, -0.00644139526411891, 0.03167804330587387, 0.00820933748036623, 0.03098245896399021, 0.04674902185797691, 0.01556368637830019, -0.02988111786544323, 0.0009079722804017365, -0.037677451968193054, 0.006676879245787859, 0.007343480363488197, -0.01702731102705002, -0.0180417038500309, -0.01914304308593273, 0.010643879882991314, -0.014940558932721615, -0.013020457699894905, 0.033185139298439026, -0.011578571051359177, 0.01075256522744894, 0.03472122177481651, 0.012694403529167175, -0.020461754873394966, -0.005916084628552198, 0.020432772114872932, -0.0205776859074831, -0.0027533522807061672, -0.006285613402724266, -0.030866527929902077, 0.031098389998078346, 0.0019092324655503035, -0.03104042448103428, 0.012506015598773956, -0.021997835487127304, -0.0039706239476799965, 0.012194451875984669, -0.005753057077527046, 0.020099472254514694, -0.0005239520687609911, -0.05892173945903778, 0.002501565497368574, -0.02340349368751049, 0.005926953162997961, -0.01139742974191904, -0.0020342201460152864, 0.026200320571660995, 0.0009736361098475754, -0.01753450743854046, 0.009071570821106434, 0.0037641224917024374, -0.02211376652121544, 0.0073797088116407394, -0.011064128950238228, -0.004072063136845827, 0.006122585851699114, 0.01288279052823782, 0.04518396034836769, -0.007636929862201214, -0.011868397705256939, -0.011361201293766499, 0.007571718655526638, -0.016940362751483917, 0.025287367403507233, 0.024664239957928658, 0.013129143044352531, -0.014100061729550362, 0.007002934347838163, 0.009716435335576534, -0.05254555493593216, -0.011187304742634296, 0.01794026419520378, -0.008890429511666298, -0.0009084251360036433, 0.03588052839040756, -0.014042096212506294, 0.020418280735611916, -0.011824923567473888, 0.022809350863099098, -0.013114651665091515, 0.019041605293750763, 0.017085274681448936, 0.0008101558196358383, -0.01743306778371334, -0.0337647944688797, 0.003128315322101116, -0.027504540979862213, 0.02270791120827198, 0.018418477848172188, -0.020968951284885406, 0.01385370921343565, 0.01673748344182968, 0.027171239256858826, -0.010759810917079449, 0.003883675904944539, -0.024707714095711708, 0.029533326625823975, -0.030402805656194687, -0.0005076493253000081, -0.031475163996219635, 0.036054424941539764, -0.012259663082659245, 0.02215724065899849, 0.05263250321149826, -0.013476935215294361, -0.004785760771483183, -0.010477229952812195, -0.006303727626800537, 0.05179200693964958, 0.004702435806393623, -0.0043292841874063015, -0.005647995043545961, -0.0030105733312666416, -0.005445116199553013, 0.03663407638669014, -0.022461557760834694, 0.008912166580557823, 0.030692631378769875, 0.006365315522998571, 0.03260548785328865, -0.01567961648106575, 0.005311071407049894, 0.012737876735627651, 0.02973620407283306, -0.009933805093169212, -0.028388511389493942, 0.00918025616556406, 0.10555483400821686, 0.022968754172325134, 0.040401820093393326, 0.026664042845368385, 0.0020831283181905746, -0.026069898158311844, -0.016983836889266968, -0.0314461812376976, -0.014607258141040802, 0.012107504531741142, 0.02747555822134018, -0.015230385586619377, -0.02401212975382805, -0.01665053516626358, -0.000919293612241745, 0.04028589278459549, 0.005325562786310911, 0.011317727155983448, 0.03547476977109909, -0.0014962295535951853, -0.01915753446519375, 0.021171830594539642, -0.019172025844454765, 0.028881216421723366, -0.060052063316106796, 0.0028529800474643707, 0.013955148868262768, -0.0009781646076589823, 0.008173109032213688, 0.01905609667301178, -0.0507776141166687, 0.002934493822976947, -0.047995276749134064, -0.0204037893563509, -0.044430412352085114, -0.008658568374812603, -0.04069164767861366, 0.04222773015499115, -0.0014310185797512531, -0.01808517798781395, 0.031069407239556313, -0.026982853189110756, 0.00584000488743186, -0.020795054733753204, 0.006224025506526232, -0.05040083825588226, -0.043445002287626266, -0.0029018884524703026, -0.016346218064427376, -0.04483616724610329, 0.013636339455842972, -0.07547083497047424, -0.0338517427444458, 0.0030214418657124043, 0.0168389230966568, 0.04048876836895943, 0.03802524507045746, 0.01924448274075985, 0.017230188474059105, -0.01656358689069748, 0.009238221682608128, 0.00044334406265988946, -0.013085668906569481, 0.01850542612373829, -0.02062116004526615, -0.02437441423535347, -0.0039054127410054207, -0.017520016059279442, -0.0388367585837841, -0.004296678584069014, 0.012513261288404465, -0.017012819647789, 0.030141962692141533, 0.04011199623346329, -0.028939181938767433, 0.0058834790252149105, 0.03564866632223129, 0.019345922395586967, -0.040169961750507355, -0.02747555822134018, 0.013976885937154293, 0.013745024800300598, 0.00552844163030386, 0.011636536568403244, -0.05402366816997528, -0.0180417038500309, -0.0066116685047745705, 0.03779338300228119, -0.007883282378315926, -0.005100947339087725, 0.013839217834174633, -0.001517060911282897, 0.03370682895183563, -0.001666502677835524, 0.019186517223715782, -0.027359627187252045, -0.004604619462043047, 0.010839513503015041, 0.008064423687756062, -0.006890626158565283, 0.01428844965994358, 0.012129241600632668, 0.01441162545233965, 0.037851348519325256, 0.011339464224874973, -0.03477918729186058, 0.029431886970996857, 0.017012819647789, 0.0022896297741681337, 0.013984131626784801, -0.018389495089650154, 0.002907322719693184, -0.008354250341653824, -0.014397134073078632, 0.02553371898829937, -0.020737089216709137, -0.014310185797512531, -0.00994105078279972, -0.010629388503730297, -0.01734611950814724, -0.005553801544010639, 0.0003400933346711099, -0.03257650509476662, -0.003646380268037319, 0.01688239723443985, 0.008499164134263992, -0.09396176785230637, -0.026533620432019234, -0.015230385586619377, -0.004256827756762505, -0.006984820123761892, -0.002766032237559557, 0.008404970169067383, 0.043734826147556305, -0.0002323140943190083, -0.021534113213419914, 0.004427100531756878, 0.002686329884454608, -0.026939379051327705, 4.0332309936275124e-07, 0.03912658616900444, -0.025098979473114014, 0.0290840957313776, 0.023055702447891235, 0.014368151314556599, -0.004351021256297827, -0.005119061563163996, 0.007111619226634502, 0.012520506978034973, 0.018998131155967712, -8.703287676326e-06, 0.01688239723443985, -0.01915753446519375, 0.013542145490646362, 0.0010506212711334229, 0.009455591440200806, -0.0011593062663450837, -0.028968164697289467, 0.022852823138237, 0.0021157339215278625, -0.00851365551352501, -0.0301129799336195, 0.013976885937154293, -0.028982656076550484, -0.02927248179912567, -0.00927445013076067, -0.027316153049468994, 0.010303334333002567, -0.008528145961463451, 0.022867314517498016, 0.0030848414171487093, -0.014339168556034565, -0.077499620616436, 0.018143141642212868, -0.01669400930404663, -0.02886672504246235, -0.022997736930847168, 0.01028884295374155, 0.04469125345349312, 0.010143929161131382, 0.02127326838672161, -0.0004976865602657199, 0.0022262302227318287, 0.022852823138237, 0.022997736930847168, -0.019925575703382492, -0.02091098576784134, -0.014686960726976395, -0.005604520905762911, -0.012600209563970566, -0.004430723376572132, -0.01008596457540989, -0.05254555493593216, 0.016244778409600258, 0.0018621355993673205, 0.0032714172266423702, 0.011766958050429821, 3.6511351936496794e-05, -0.01641867496073246, 0.03190990537405014, 0.058950722217559814, 0.032489556819200516, -0.007434051018208265, -0.009028097614645958, -0.0065790629014372826, 0.003222509054467082, -0.010513458400964737, 0.03889472410082817, 0.040952492505311966, 0.035822562873363495, 0.01850542612373829, -0.037358641624450684, -0.006655142176896334, 0.013491426594555378, -0.01015117485076189, 0.029533326625823975, 0.01859237439930439, -0.014143535867333412, -0.01223792601376772, 0.04321314021945, 0.03689492121338844, 0.0023783892393112183, 0.01100616343319416, -0.020012523978948593, 0.014310185797512531, -0.02664955146610737, 0.051502179354429245, 0.010513458400964737, 0.0047060586512088776, -0.007883282378315926, -0.022505031898617744, -0.000440174073446542, 0.007673157844692469, 0.03880777582526207, -0.0003631889121606946, -0.021679027006030083, -0.00206320290453732, 0.027359627187252045, 0.010433755815029144, 0.02521491050720215, -0.01846195198595524, 0.0053146942518651485, 0.016041899099946022, -0.01836051233112812, 0.013752270489931107, -0.00722754979506135, 0.009745418094098568, -0.00596680399030447, -0.04367686063051224, -0.0050067538395524025, -0.019635749980807304, -0.03283734992146492, 0.024113569408655167, 0.017491033300757408, -0.030460771173238754, -0.0020360315684229136, -0.014230484142899513, 0.015114454552531242, 0.002372954972088337, -0.023157142102718353, -0.028562407940626144, -0.05280639976263046, 0.003124692477285862, 0.05440044403076172, -0.025635158643126488, 0.012469787150621414, 0.012049539014697075, 0.014433362521231174, 0.050661683082580566, -0.0027207466773688793, 0.009571521542966366, 0.0034978443291038275, -0.023939672857522964, 0.010991672053933144, -0.04043080285191536, -0.00036205677315592766, 0.019679222255945206, 0.01354939118027687, -0.008448444306850433, 0.01780984178185463, 0.0038691845256835222, -0.0031717894598841667, -0.012201697565615177, -0.047705452889204025, -0.02863486297428608, 0.006430526729673147, 0.027069799602031708, 0.04092350974678993, -0.03964827209711075, 0.06596452742815018, -0.006908740382641554, 0.018302546814084053, -0.052284710109233856, 0.006727599073201418, -0.026722008362412453, -0.012150978669524193, 0.02937392145395279, -0.05634228140115738, 0.0042387135326862335, -0.024171534925699234, -0.009933805093169212, 0.013679813593626022, 0.03672102466225624, 0.044517360627651215, -0.0042205993086099625, 0.012158224359154701, 0.0016864283243194222, 0.0482851043343544, 0.0036047177854925394, 0.03927149996161461, 0.04144519567489624, -0.014940558932721615, 0.005575538147240877, -0.003952509723603725, -0.018519917502999306, 0.024026621133089066, 0.01582453027367592, 0.022316643968224525, 0.0016221230616793036, 0.011969836428761482, 0.018099667504429817, -0.023229598999023438, 0.002276949817314744, 0.02447585202753544, -0.014310185797512531, -0.011049637570977211, -0.0023802006617188454, 0.0460534393787384, 0.03089551068842411, -0.005340054165571928, 0.031011441722512245, 0.02376577816903591, -0.014346414245665073, -0.01725917123258114, 0.0016492942813783884, -0.0070790136232972145, 0.03672102466225624, 0.009201993234455585, -0.018766269087791443, 0.04703884944319725, -0.02308468520641327, -0.030170943588018417, -0.02988111786544323, 0.006887003313750029, 0.00943385437130928, 0.001949083642102778, 0.013056686148047447, -0.003613774897530675, 0.02372230403125286, 0.007636929862201214, -0.04741562530398369, 0.01079603936523199, -0.03304022550582886, -0.033967673778533936, -0.050024062395095825, 0.019693713635206223, 0.006003032438457012, -0.03051873669028282, 0.043126191943883896, -0.021490639075636864, -0.01348418090492487, -0.013665322214365005, 0.032083798199892044, -0.02063565142452717, 0.011882889084517956, 0.001539703574962914, -0.030866527929902077, -0.024852627888321877, -0.020012523978948593, 0.006477623712271452, -0.017085274681448936, -0.002354840748012066, 0.016128847375512123, 0.01896914839744568, -0.023896198719739914, 0.003470672992989421, 0.015404281206429005, 0.039706237614154816, -0.008129634894430637, -0.01007871888577938, 0.0023168011102825403, -0.015592669136822224, -0.012020556256175041, 0.012636438012123108, 0.018954657018184662, 0.01313638873398304, -0.00144550995901227, -0.005129930097609758, 0.03712678328156471, -0.0022063045762479305, -0.02378026954829693, -0.016809940338134766, -0.006039260886609554, 0.0264611653983593, 0.0029435509350150824, 0.006716730538755655, -0.014607258141040802, 0.010513458400964737, 0.025142453610897064, 0.01785331591963768, -0.013976885937154293, 0.02336001954972744, 0.008180354721844196, -0.019070588052272797, 0.010020753368735313, -0.03051873669028282, -0.024301957339048386, -0.002809506142511964, -0.017592471092939377, -0.005195140838623047, 0.008477427065372467, 0.0009038965799845755, -0.015027507208287716, 0.014078324660658836, 0.019229991361498833, -0.03802524507045746, 0.020896494388580322, 0.0018213787116110325, -0.008868692442774773, 0.0073978230357170105, -0.010223631747066975, -0.0084194615483284, 0.0042785643599927425, 0.013969640247523785, -0.004640847910195589, 0.01956329308450222, 0.003952509723603725, 0.02872181124985218, -0.03361988067626953, -0.031707026064395905, -0.0011683632619678974, -0.011832169257104397, -0.009035343304276466, -0.01725917123258114, 0.013310284353792667, -0.03104042448103428, 0.0010868496028706431, 0.05683498829603195, 0.007839808240532875, 0.004235090687870979, 0.009332414716482162, 0.005379905458539724, 0.014839119277894497, -0.005999409593641758, 0.017317136749625206, 0.024171534925699234, -0.014520310796797276, 0.005644372198730707, 0.002564965048804879, -0.00276422081515193, -0.013303038664162159, 0.003311268286779523, -0.027142256498336792, -0.03344598412513733, -0.0005212349351495504, -0.0018503614701330662, 0.04953135922551155, -0.012774105183780193, -0.0008436670177616179, 0.01614333875477314, 0.008875938132405281, 0.040865544229745865, -0.013621848076581955, -0.02247604914009571, -0.013324775733053684, -0.022997736930847168, 0.03738762438297272, 0.004821989219635725, -1.2411030184011906e-05, -0.00973817240446806, -0.0046879444271326065, -0.0005909744650125504, -0.017563490197062492, -0.026577094569802284, 0.024765679612755775, 0.01873728632926941, 0.08068771660327911, -0.014607258141040802, -0.009173010475933552, -0.0037460082676261663, 0.011745220981538296, 0.005013999529182911, -0.01599842496216297, -0.022809350863099098, -0.023939672857522964, 0.014056587591767311, 0.0018983639311045408, 0.03266345337033272, 0.012897281907498837, -0.004466951824724674, 0.012484278529882431, -0.006894249003380537, -0.0016049145488068461, 0.013324775733053684, 0.025055505335330963, -0.023983146995306015, -0.0016755597898736596, 0.01036129891872406, 0.002086751163005829, -0.008020949549973011, -0.035358838737010956, -0.020273366943001747, -0.016244778409600258, 0.009339660406112671, -0.05153116211295128, 0.05132828280329704, 1.934535612235777e-05, -0.002514245454221964, -0.014368151314556599, -0.012353857047855854, 0.0014717754675075412, -0.03561968356370926, -0.00020650142687372863, 0.006459509488195181, -0.019766170531511307, -0.02150513045489788, -0.004485066048800945, -0.0017108824104070663, 0.005575538147240877, -0.020650142803788185, -0.022447066381573677, -0.0044379690662026405, -0.01707078330218792, 0.03501104936003685, -0.005811022594571114, -0.018418477848172188, -0.0700220987200737, -0.026011932641267776, 0.013237828388810158, -0.012665420770645142, 0.0028203746769577265, -0.03246057406067848, 0.018070686608552933, 0.007470279466360807, 0.01859237439930439, -0.003555809613317251, -0.024954065680503845, 0.005021245218813419, 0.00380397355183959, -0.023432476446032524, 0.009912068024277687, -0.026562603190541267, -0.016998328268527985, 0.020664634183049202, -0.023925181478261948, 0.02127326838672161, 0.01905609667301178, 0.017491033300757408, 0.0032949657179415226, 0.05573364719748497, -0.0060356380417943, 0.03338801860809326, -0.0003077142755500972, -0.028011737391352654, -0.020099472254514694, -0.01599842496216297, -0.019853118807077408, 0.017867807298898697, 0.003948886878788471, -0.022229697555303574, -0.004245959222316742, 0.010310580022633076, -0.004905314650386572, 0.008049932308495045, 0.03167804330587387, -0.0061841742135584354, -0.013382741250097752, 0.005075587425380945, 0.02464974857866764, 0.02034582383930683, -0.012469787150621414, -0.03959030658006668, 0.013310284353792667, -0.00571320578455925, 0.030750596895813942, -0.012201697565615177, 0.023229598999023438, -0.003162732347846031, 0.016549095511436462, -0.018577883020043373, -0.014259466901421547, 0.006883380468934774, -0.006992065813392401, 0.005278466269373894, -0.027026325464248657, -0.007002934347838163, -0.0003742838161997497, -0.02224418893456459, -0.019041605293750763, -0.02595396898686886, 0.003441690234467387, -0.018838725984096527, -0.014513065107166767, -0.01943287067115307, -0.009064325131475925, -0.013752270489931107, 0.028374020010232925, 0.004325661342591047, -0.011404675431549549, -0.00871653389185667, -0.0029670994263142347, -0.03283734992146492, 0.02382374368607998, 0.008093406446278095, -0.00178967893589288, -0.001871192711405456, 0.007006557192653418, -0.04283636435866356, 2.176529415010009e-05, 0.003093898529186845, -0.003412707708775997, -0.017375102266669273, 0.02062116004526615, -0.03338801860809326, 0.004492311738431454, 0.02488161064684391, -0.012411822564899921, -0.011665519326925278, -0.03196787089109421, -0.00433652987703681, 0.03298226371407509, 0.08138329535722733, -0.005064718890935183, -0.02937392145395279, -0.00562988081946969, 0.004466951824724674, -0.003771367948502302, -0.006687747780233622, 0.015462246723473072, -0.04043080285191536, 0.021708009764552116, -0.018925674259662628, -0.03051873669028282, 0.014882593415677547, 0.04999507963657379, 0.0040285889990627766, -0.01364358514547348, -0.015230385586619377, -0.028968164697289467, -0.006285613402724266, 0.05897970497608185, 0.01567961648106575, -0.023475950583815575, -0.021794956177473068, 0.014237729832530022, 0.01863584667444229, -0.004854594822973013, -0.00888318382203579, 0.00471692718565464, -0.01015117485076189, 0.01812865026295185, -0.0339386910200119, -0.01480289176106453, 0.0024580915924161673, 0.01288279052823782, -0.00314461812376976, -0.008564374409615993, -0.01994006708264351, 0.023157142102718353, -0.0030667271930724382, -0.00628923624753952, 0.011027900502085686, -0.029113076627254486, -0.022534014657139778, -0.003742385422810912, 0.002670027082785964, 0.015650633722543716, -0.01045549288392067, -0.02521491050720215, -0.007752860430628061, 0.004495934583246708, -0.014998524449765682, -0.007991967722773552, 0.013208845630288124, 0.00978164654225111, 0.044575322419404984, -0.0011393806198611856, -0.015143437311053276, -0.0038728073704987764, 0.01105688326060772, -0.018302546814084053, 0.01160755380988121, -0.009281695820391178, -0.02627277746796608, 0.004887200426310301, -0.034982066601514816, -0.0032279433216899633, 0.009107799269258976, 0.005771171301603317, -0.0021139224991202354, 0.03988013416528702, -0.00964397843927145, -0.023229598999023438, 0.027852332219481468, 0.015447755344212055, -0.042343661189079285, -0.005532064475119114, -0.008781745098531246, 0.008129634894430637, -0.006615291349589825, -0.014136290177702904, 0.0554148368537426, -0.006571817211806774, -0.01517242006957531, -0.0036101520527154207, -0.024765679612755775, -0.013817480765283108, -0.011187304742634296, -0.02044726349413395, 0.005427002441138029, 0.028518933802843094, -0.0077383690513670444, -0.019461853429675102, -0.010506212711334229, -0.016708500683307648, -0.006934100296348333, -0.0046698302030563354, -0.01951981894671917, 0.025794563814997673, 0.00461548799648881, 0.03451834246516228, 0.026707516983151436, -0.007883282378315926, 0.030083997175097466, 0.00022767233895137906, -0.024041112512350082, -0.010071473196148872, 0.029069604352116585, 0.01191187184303999, -0.018346020951867104, -0.0144550995901227, -0.020563194528222084, 0.015013015829026699, 0.004376381170004606, -0.0020378429908305407, 0.0059921639040112495, 0.008644076995551586, 0.02520041912794113, 0.018070686608552933, -0.01823008991777897, 0.0008635925478301942, 0.008796235546469688, 0.04260450229048729, 0.008658568374812603, -0.008216583169996738, 0.04982118308544159, -0.03805422782897949, -0.05883479118347168, -0.021577587351202965, -0.009419362992048264, 0.01933143101632595, 0.014998524449765682, -0.04982118308544159, 0.0077383690513670444, 0.01702731102705002, -0.0277074184268713, 0.05355994775891304, -0.008549883030354977, 0.016070881858468056, -0.023838235065340996, -0.007394200190901756, -0.004952411167323589, 0.008694796822965145, 0.008426707237958908, 0.035590700805187225, 0.0336778461933136, 0.020490737631917, 2.4638087779749185e-05, 0.012404576875269413, -0.013534899801015854, -0.004945165477693081, -0.018534408882260323, -0.00512268440797925, 0.026330742985010147, 0.0037315168883651495, -0.0027787121944129467, 0.0024780170060694218, 0.0029018884524703026, 0.004245959222316742, 0.007847053930163383, -0.006336333230137825, 0.015244876965880394, 0.021606570109725, 0.001586800441145897, -0.020229892805218697, -0.009238221682608128, 0.01552021224051714, -0.015853513032197952, -0.014592766761779785, -0.010433755815029144, 0.03709780052304268, -0.030634667724370956, 0.036199335008859634, -0.002121168188750744, 0.014418871141970158, 0.03530087321996689, 0.02247604914009571, -0.01614333875477314, -0.013158125802874565, -0.01045549288392067, -0.003376479260623455, 0.03680797293782234, 0.023012228310108185, -0.008187600411474705, 0.013998623006045818, 0.0312722846865654, -0.027576996013522148, 0.006271122023463249, 0.02988111786544323, -0.026750991120934486, -0.013592865318059921, 0.01998354122042656, 0.022649945691227913, -0.017215697094798088, 0.04411160200834274, -0.023099176585674286, -0.019389396533370018, -0.0003781330888159573, -0.011614799499511719, -0.01975167915225029, -0.037677451968193054, -0.01909957081079483, -0.016896888613700867, 0.018259072676301003, -0.006647896487265825, 0.0078615453094244, 0.028663845732808113, 0.023055702447891235, -0.01020189467817545, -0.004981393925845623, 0.0037931050173938274, -0.004764024168252945, 0.0032587372697889805, -0.0017081652767956257, -0.021983344107866287, -0.01466522365808487, -0.011129340156912804, 0.013418969698250294, 0.025287367403507233, 0.01734611950814724, -0.023244090378284454, -0.005282089114189148, -0.007709386292845011, -0.003938018344342709, 0.006723976228386164, 0.016940362751483917, 0.011288744397461414, 0.006604422815144062, -0.030083997175097466, -0.033561915159225464, -0.014331922866404057, 0.003390970639884472, 0.01512894593179226, 0.009115044958889484, -0.017563490197062492, -0.004086554516106844, -0.019114062190055847, -0.024171534925699234, 0.042720433324575424, -0.02802622877061367, -0.02378026954829693, -0.00497052539139986, -0.05396570637822151, -0.031938888132572174, 0.012991474941372871]\n",
            "---\n",
            "Embedding - Vector of Size: 1536\n",
            "\n",
            "\n",
            "\n"
          ]
        }
      ],
      "source": [
        "for k,v in embeddings_dict.items():\n",
        "  print(f\"Chunk - {k}\")\n",
        "  print(\"---\")\n",
        "  print(f\"numerical vectors: {v}\") \n",
        "  print(\"---\")\n",
        "  print(f\"Embedding - Vector of Size: {len(v)}\")\n",
        "  print(\"\\n\\n\")"
      ]
    },
    {
      "cell_type": "markdown",
      "metadata": {
        "id": "SOxYybdNtkWv"
      },
      "source": [
        "Okay, great. Let's create a query - and then embed it!"
      ]
    },
    {
      "cell_type": "code",
      "execution_count": 31,
      "metadata": {
        "colab": {
          "base_uri": "https://localhost:8080/"
        },
        "id": "FQD5Zwl1tLrZ",
        "outputId": "d42d7488-edca-458b-dca4-1b11f3536cb2"
      },
      "outputs": [
        {
          "name": "stdout",
          "output_type": "stream",
          "text": [
            "Vector of Size: 1536\n"
          ]
        }
      ],
      "source": [
        "query = \"Can LCEL help take code from the notebook to production?\"\n",
        "\n",
        "query_vector = embedding_model.embed_query(query)\n",
        "print(f\"Vector of Size: {len(query_vector)}\")"
      ]
    },
    {
      "cell_type": "markdown",
      "metadata": {
        "id": "kkJhyvgEt5Vt"
      },
      "source": [
        "Now, let's compare it against each existing chunk's embedding by using cosine similarity."
      ]
    },
    {
      "cell_type": "code",
      "execution_count": 32,
      "metadata": {
        "id": "vfyDZlpmfWYa"
      },
      "outputs": [],
      "source": [
        "import numpy as np\n",
        "from numpy.linalg import norm\n",
        "\n",
        "def cosine_similarity(vec_1, vec_2):\n",
        "  return np.dot(vec_1, vec_2) / (norm(vec_1) * norm(vec_2))"
      ]
    },
    {
      "cell_type": "code",
      "execution_count": 33,
      "metadata": {
        "colab": {
          "base_uri": "https://localhost:8080/"
        },
        "id": "MwnJ0uYQt-G_",
        "outputId": "5ed2d13c-564c-4e2d-b06a-9f4e2e75d9d0"
      },
      "outputs": [
        {
          "name": "stdout",
          "output_type": "stream",
          "text": [
            "LangChain Expression Language or LCEL is a declarative way to easily compose chains together. There are several benefits to writing chains in this manner (as opposed to writing normal code):\n",
            "\n",
            "Async, Batch, and Streaming Support Any chain constructed this way will automatically have full sync, async, batch, and streaming support. This makes it easy to prototype a chain in a Jupyter notebook using the sync interface, and then expose it as an async streaming interface.\n",
            "0.5372984870519116\n"
          ]
        }
      ],
      "source": [
        "max_similarity = -float('inf')\n",
        "closest_chunk = \"\"\n",
        "\n",
        "for chunk, chunk_vector in embeddings_dict.items():\n",
        "  cosine_similarity_score = cosine_similarity(chunk_vector, query_vector)\n",
        "\n",
        "  if cosine_similarity_score > max_similarity:\n",
        "    closest_chunk = chunk\n",
        "    max_similarity = cosine_similarity_score\n",
        "\n",
        "print(closest_chunk)\n",
        "print(max_similarity)"
      ]
    },
    {
      "cell_type": "markdown",
      "metadata": {
        "id": "JDC7HS7iumN-"
      },
      "source": [
        "And we get the expected result, which is the passage that specifically mentions prototyping in a Jupyter Notebook!"
      ]
    },
    {
      "cell_type": "markdown",
      "metadata": {
        "id": "UPJexL1kuw45"
      },
      "source": [
        "### Creating a Retriever\n",
        "\n",
        "Now that we have an idea of how we're getting our most relevant information - let's see how we could create a pipeline that would automatically extract the closest chunk to our query and use it as context for our prompt!\n",
        "\n",
        "First, we'll wrap the above in a helper function!"
      ]
    },
    {
      "cell_type": "code",
      "execution_count": 34,
      "metadata": {
        "id": "tnLpo26pu8-1"
      },
      "outputs": [],
      "source": [
        "def retrieve_context(query, embeddings_dict, embedding_model):\n",
        "  query_vector = embedding_model.embed_query(query)\n",
        "  max_similarity = -float('inf')\n",
        "  closest_chunk = \"\"\n",
        "\n",
        "  for chunk, chunk_vector in embeddings_dict.items():\n",
        "    cosine_similarity_score = cosine_similarity(chunk_vector, query_vector)\n",
        "\n",
        "    if cosine_similarity_score > max_similarity:\n",
        "      closest_chunk = chunk\n",
        "      max_similarity = cosine_similarity_score\n",
        "\n",
        "  return closest_chunk"
      ]
    },
    {
      "cell_type": "markdown",
      "metadata": {
        "id": "ytrINkVrvL1Q"
      },
      "source": [
        "Now, let's add it to our pipeline!"
      ]
    },
    {
      "cell_type": "code",
      "execution_count": 35,
      "metadata": {
        "id": "Q26pl1osvNmL"
      },
      "outputs": [],
      "source": [
        "def simple_rag(query, embeddings_dict, embedding_model, chat_chain):\n",
        "  context = retrieve_context(query, embeddings_dict, embedding_model)\n",
        "\n",
        "  response = chat_chain.invoke({\"query\" : query, \"context\" : context})\n",
        "\n",
        "  return_package = {\n",
        "      \"query\" : query,\n",
        "      \"response\" : response,\n",
        "      \"retriever_context\" : context\n",
        "  }\n",
        "\n",
        "  return return_package"
      ]
    },
    {
      "cell_type": "code",
      "execution_count": 36,
      "metadata": {
        "colab": {
          "base_uri": "https://localhost:8080/"
        },
        "id": "UHjbWxTAvtLS",
        "outputId": "86e4baf5-a3e4-44c7-ba85-19f7a1d852ba"
      },
      "outputs": [
        {
          "data": {
            "text/plain": [
              "{'query': 'Can LCEL help take code from the notebook to production?',\n",
              " 'response': AIMessage(content='Yes, LCEL can help take code from the notebook to production. It allows for easy composition of chains with full support for sync, async, batch, and streaming interfaces. This means you can prototype a chain in a Jupyter notebook using the sync interface and then seamlessly expose it as an async streaming interface for production.', additional_kwargs={'refusal': None}, response_metadata={'token_usage': {'completion_tokens': 64, 'prompt_tokens': 152, 'total_tokens': 216}, 'model_name': 'gpt-4o-2024-05-13', 'system_fingerprint': 'fp_157b3831f5', 'finish_reason': 'stop', 'logprobs': None}, id='run-8dd622f6-6656-4c22-ad50-ba75d08873c1-0', usage_metadata={'input_tokens': 152, 'output_tokens': 64, 'total_tokens': 216}),\n",
              " 'retriever_context': 'LangChain Expression Language or LCEL is a declarative way to easily compose chains together. There are several benefits to writing chains in this manner (as opposed to writing normal code):\\n\\nAsync, Batch, and Streaming Support Any chain constructed this way will automatically have full sync, async, batch, and streaming support. This makes it easy to prototype a chain in a Jupyter notebook using the sync interface, and then expose it as an async streaming interface.'}"
            ]
          },
          "execution_count": 36,
          "metadata": {},
          "output_type": "execute_result"
        }
      ],
      "source": [
        "simple_rag(\"Can LCEL help take code from the notebook to production?\", embeddings_dict, embedding_model, chat_chain)"
      ]
    },
    {
      "cell_type": "markdown",
      "metadata": {
        "id": "cD2URVX3O3XJ"
      },
      "source": [
        "####❓ Question #3:\n",
        "\n",
        "What does LCEL do that makes it more reliable at scale?\n",
        "```The ability to do Chain Composition which provide the abiliy to create intricate worklofws that involve multiple steps and decision points. Additionally asynchronous execution and parallel processing can execugte multiple parts of a chain asynchronously allowing for a reliable processing at scale```\n",
        "\n",
        "> HINT: Use your newly created `simple_rag` to help you answer this question!"
      ]
    }
  ],
  "metadata": {
    "accelerator": "GPU",
    "colab": {
      "gpuType": "T4",
      "machine_shape": "hm",
      "provenance": []
    },
    "kernelspec": {
      "display_name": "Python 3",
      "name": "python3"
    },
    "language_info": {
      "name": "python"
    }
  },
  "nbformat": 4,
  "nbformat_minor": 0
}
