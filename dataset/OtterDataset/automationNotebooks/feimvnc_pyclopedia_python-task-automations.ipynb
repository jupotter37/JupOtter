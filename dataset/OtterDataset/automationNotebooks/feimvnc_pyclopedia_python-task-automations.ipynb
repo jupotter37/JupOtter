{
 "cells": [
  {
   "cell_type": "markdown",
   "id": "b3140324",
   "metadata": {},
   "source": [
    "source: https://blog.learnhub.africa/2023/06/06/13-powerful-python-snippets-to-automate-tasks/"
   ]
  },
  {
   "cell_type": "code",
   "execution_count": 10,
   "id": "d9559b81",
   "metadata": {
    "scrolled": true
   },
   "outputs": [
    {
     "name": "stdout",
     "output_type": "stream",
     "text": [
      "https://zapier.com/blog/python-automation/\n",
      "https://www.simplilearn.com/tutorials/python-tutorial/python-automation-projects\n",
      "https://www.freecodecamp.org/news/python-automation-scripts/\n",
      "https://automatetheboringstuff.com/\n",
      "SearchResult(url=https://zapier.com/blog/python-automation/, title=Python automation: 9 scripts to automate critical workflows, description=21 Dec 2022 — 9 useful Python automation script examples · 1. Pull live traffic data · 2. Compile data from a webpage · 3. Convert PDF to audio file · 4. Convert ...)\n",
      "SearchResult(url=https://www.simplilearn.com/tutorials/python-tutorial/python-automation-projects, title=Top 20 Python Automation Projects Ideas For Beginners, description=27 Jul 2023 — Top 20 Python Automation Projects Ideas For Beginners · Web Scraping · Share Market / Cryptocurrency Tracker · File Management · Data Mining · Send ...)\n",
      "SearchResult(url=https://www.freecodecamp.org/news/python-automation-scripts/, title=Python Automation Scripts You Should Know, description=3 Feb 2023 — In this article, we will talk about some Python automation scripts that you can easily use to perform automation tasks.)\n",
      "SearchResult(url=https://automatetheboringstuff.com/, title=Automate the Boring Stuff with Python, description=In Automate the Boring Stuff with Python, you'll learn how to use Python to write programs that do in minutes what would take you hours to do by hand - no ...)\n",
      "SearchResult(url=https://testguild.com/python-automation-testing/, title=Top 23 Python Automation Tools for Testing, description=19 Mar 2023 — Best Python Automation Tools for Testing in 2023 · It has a gentle learning curve. It works on Windows, Linux, and MAC. · FTP; MongoDB · Browser ...)\n",
      "SearchResult(url=https://www.monterail.com/blog/python-task-automation-examples, title=6 Python Task Automation Ideas - Guide with Examples, description=27 Jan 2022 — 6 Python Task Automation Ideas - Guide with Examples · Reading (and writing) files · Sending emails · Web scraping · Interacting with an API.)\n",
      "SearchResult(url=https://www.coursera.org/professional-certificates/google-it-automation, title=Google IT Automation with Python Professional Certificate, description=Offered by Google. Learn in-demand skills like Python, Git, and IT automation to advance your career Enroll for free.)\n",
      "SearchResult(url=https://www.learnenough.com/blog/automating-with-python, title=Automating With Python: A Developer's Guide For 2023, description=14 Jun 2023 — Using libraries like \"sched\" and tools such as Celery, Python can automate tasks and manage complex workflows. This automation profoundly ...)\n",
      "SearchResult(url=https://towardsdatascience.com/5-python-projects-to-automate-your-life-from-beginner-to-advanced-90fe29a7d664, title=5 Python Projects to Automate Your Life: From Beginner ..., description=13 Oct 2022 — Recently, I've been automating tasks more than often due to my lack… ... If you're learning Python, you should try to automate your everyday ...)\n",
      "SearchResult(url=https://learn.microsoft.com/en-us/windows/python/scripting, title=Using Python for scripting and automation - Windows, description=25 May 2021 — This article will cover setting up your environment to use some of the helpful libraries in Python that can automate tasks across platforms, ...)\n"
     ]
    }
   ],
   "source": [
    "#1 Automate google search results\n",
    "\n",
    "# !pip install googlesearch-python\n",
    "\n",
    "from googlesearch import search \n",
    "\n",
    "query = \"python automation\"\n",
    "for result in search(query, sleep_interval=5, num_results=3):\n",
    "    print(result)\n",
    "    \n",
    "for result in search(query, advanced=True):\n",
    "    print(result+\"\\n\")\n",
    "\n"
   ]
  },
  {
   "cell_type": "code",
   "execution_count": 13,
   "id": "b88803ca",
   "metadata": {},
   "outputs": [
    {
     "name": "stdout",
     "output_type": "stream",
     "text": [
      "Collecting fitz\n",
      "  Downloading fitz-0.0.1.dev2-py2.py3-none-any.whl (20 kB)\n",
      "Collecting configobj (from fitz)\n",
      "  Downloading configobj-5.0.8-py2.py3-none-any.whl (36 kB)\n",
      "Collecting configparser (from fitz)\n",
      "  Downloading configparser-6.0.0-py3-none-any.whl (19 kB)\n",
      "Requirement already satisfied: httplib2 in /Users/user/opt/anaconda3/envs/gpt-local/lib/python3.11/site-packages (from fitz) (0.22.0)\n",
      "Collecting nibabel (from fitz)\n",
      "  Downloading nibabel-5.1.0-py3-none-any.whl (3.3 MB)\n",
      "\u001b[2K     \u001b[90m━━━━━━━━━━━━━━━━━━━━━━━━━━━━━━━━━━━━━━━━\u001b[0m \u001b[32m3.3/3.3 MB\u001b[0m \u001b[31m6.1 MB/s\u001b[0m eta \u001b[36m0:00:00\u001b[0m00:01\u001b[0m00:01\u001b[0m\n",
      "\u001b[?25hCollecting nipype (from fitz)\n",
      "  Downloading nipype-1.8.6-py3-none-any.whl (3.2 MB)\n",
      "\u001b[2K     \u001b[90m━━━━━━━━━━━━━━━━━━━━━━━━━━━━━━━━━━━━━━━━\u001b[0m \u001b[32m3.2/3.2 MB\u001b[0m \u001b[31m6.1 MB/s\u001b[0m eta \u001b[36m0:00:00\u001b[0m00:01\u001b[0m00:01\u001b[0m\n",
      "\u001b[?25hRequirement already satisfied: numpy in /Users/user/opt/anaconda3/envs/gpt-local/lib/python3.11/site-packages (from fitz) (1.24.0)\n",
      "Requirement already satisfied: pandas in /Users/user/opt/anaconda3/envs/gpt-local/lib/python3.11/site-packages (from fitz) (2.0.3)\n",
      "Collecting pyxnat (from fitz)\n",
      "  Downloading pyxnat-1.6-py3-none-any.whl (95 kB)\n",
      "\u001b[2K     \u001b[90m━━━━━━━━━━━━━━━━━━━━━━━━━━━━━━━━━━━━━━━━\u001b[0m \u001b[32m95.3/95.3 kB\u001b[0m \u001b[31m3.1 MB/s\u001b[0m eta \u001b[36m0:00:00\u001b[0m\n",
      "\u001b[?25hRequirement already satisfied: scipy in /Users/user/opt/anaconda3/envs/gpt-local/lib/python3.11/site-packages (from fitz) (1.9.3)\n",
      "Requirement already satisfied: six in /Users/user/opt/anaconda3/envs/gpt-local/lib/python3.11/site-packages (from configobj->fitz) (1.16.0)\n",
      "Requirement already satisfied: pyparsing!=3.0.0,!=3.0.1,!=3.0.2,!=3.0.3,<4,>=2.4.2 in /Users/user/opt/anaconda3/envs/gpt-local/lib/python3.11/site-packages (from httplib2->fitz) (2.4.7)\n",
      "Requirement already satisfied: packaging>=17 in /Users/user/opt/anaconda3/envs/gpt-local/lib/python3.11/site-packages (from nibabel->fitz) (23.1)\n",
      "Requirement already satisfied: click>=6.6.0 in /Users/user/opt/anaconda3/envs/gpt-local/lib/python3.11/site-packages (from nipype->fitz) (8.1.3)\n",
      "Requirement already satisfied: networkx>=2.0 in /Users/user/opt/anaconda3/envs/gpt-local/lib/python3.11/site-packages (from nipype->fitz) (3.1)\n",
      "Collecting prov>=1.5.2 (from nipype->fitz)\n",
      "  Downloading prov-2.0.0-py3-none-any.whl (421 kB)\n",
      "\u001b[2K     \u001b[90m━━━━━━━━━━━━━━━━━━━━━━━━━━━━━━━━━━━━━━━\u001b[0m \u001b[32m421.5/421.5 kB\u001b[0m \u001b[31m4.9 MB/s\u001b[0m eta \u001b[36m0:00:00\u001b[0m00:01\u001b[0m00:01\u001b[0m\n",
      "\u001b[?25hCollecting pydot>=1.2.3 (from nipype->fitz)\n",
      "  Downloading pydot-1.4.2-py2.py3-none-any.whl (21 kB)\n",
      "Requirement already satisfied: python-dateutil>=2.2 in /Users/user/opt/anaconda3/envs/gpt-local/lib/python3.11/site-packages (from nipype->fitz) (2.8.2)\n",
      "Collecting rdflib>=5.0.0 (from nipype->fitz)\n",
      "  Downloading rdflib-7.0.0-py3-none-any.whl (531 kB)\n",
      "\u001b[2K     \u001b[90m━━━━━━━━━━━━━━━━━━━━━━━━━━━━━━━━━━━━━━━\u001b[0m \u001b[32m531.9/531.9 kB\u001b[0m \u001b[31m5.7 MB/s\u001b[0m eta \u001b[36m0:00:00\u001b[0m00:01\u001b[0m00:01\u001b[0m\n",
      "\u001b[?25hCollecting simplejson>=3.8.0 (from nipype->fitz)\n",
      "  Downloading simplejson-3.19.1-cp311-cp311-macosx_10_9_x86_64.whl (75 kB)\n",
      "\u001b[2K     \u001b[90m━━━━━━━━━━━━━━━━━━━━━━━━━━━━━━━━━━━━━━━━\u001b[0m \u001b[32m75.5/75.5 kB\u001b[0m \u001b[31m2.2 MB/s\u001b[0m eta \u001b[36m0:00:00\u001b[0m\n",
      "\u001b[?25hCollecting traits!=5.0,<6.4,>=4.6 (from nipype->fitz)\n",
      "  Downloading traits-6.3.2.tar.gz (9.5 MB)\n",
      "\u001b[2K     \u001b[90m━━━━━━━━━━━━━━━━━━━━━━━━━━━━━━━━━━━━━━━━\u001b[0m \u001b[32m9.5/9.5 MB\u001b[0m \u001b[31m2.3 MB/s\u001b[0m eta \u001b[36m0:00:00\u001b[0m00:01\u001b[0m00:01\u001b[0m\n",
      "\u001b[?25h  Preparing metadata (setup.py) ... \u001b[?25ldone\n",
      "\u001b[?25hRequirement already satisfied: filelock>=3.0.0 in /Users/user/opt/anaconda3/envs/gpt-local/lib/python3.11/site-packages (from nipype->fitz) (3.12.2)\n",
      "Collecting etelemetry>=0.2.0 (from nipype->fitz)\n",
      "  Downloading etelemetry-0.3.0-py3-none-any.whl (6.3 kB)\n",
      "Collecting looseversion (from nipype->fitz)\n",
      "  Downloading looseversion-1.3.0-py2.py3-none-any.whl (8.2 kB)\n",
      "Requirement already satisfied: pytz>=2020.1 in /Users/user/opt/anaconda3/envs/gpt-local/lib/python3.11/site-packages (from pandas->fitz) (2023.3)\n",
      "Collecting tzdata>=2022.1 (from pandas->fitz)\n",
      "  Using cached tzdata-2023.3-py2.py3-none-any.whl (341 kB)\n",
      "Collecting future>=0.16 (from pyxnat->fitz)\n",
      "  Downloading future-0.18.3.tar.gz (840 kB)\n",
      "\u001b[2K     \u001b[90m━━━━━━━━━━━━━━━━━━━━━━━━━━━━━━━━━━━━━━━\u001b[0m \u001b[32m840.9/840.9 kB\u001b[0m \u001b[31m5.3 MB/s\u001b[0m eta \u001b[36m0:00:00\u001b[0m00:01\u001b[0m00:01\u001b[0m\n",
      "\u001b[?25h  Preparing metadata (setup.py) ... \u001b[?25ldone\n",
      "\u001b[?25hRequirement already satisfied: lxml>=4.3 in /Users/user/opt/anaconda3/envs/gpt-local/lib/python3.11/site-packages (from pyxnat->fitz) (4.9.2)\n",
      "Collecting pathlib>=1.0 (from pyxnat->fitz)\n",
      "  Downloading pathlib-1.0.1-py3-none-any.whl (14 kB)\n",
      "Requirement already satisfied: requests>=2.20 in /Users/user/opt/anaconda3/envs/gpt-local/lib/python3.11/site-packages (from pyxnat->fitz) (2.31.0)\n",
      "Collecting ci-info>=0.2 (from etelemetry>=0.2.0->nipype->fitz)\n",
      "  Downloading ci_info-0.3.0-py3-none-any.whl (7.8 kB)\n",
      "Collecting isodate<0.7.0,>=0.6.0 (from rdflib>=5.0.0->nipype->fitz)\n",
      "  Downloading isodate-0.6.1-py2.py3-none-any.whl (41 kB)\n",
      "\u001b[2K     \u001b[90m━━━━━━━━━━━━━━━━━━━━━━━━━━━━━━━━━━━━━━━━\u001b[0m \u001b[32m41.7/41.7 kB\u001b[0m \u001b[31m1.3 MB/s\u001b[0m eta \u001b[36m0:00:00\u001b[0m\n",
      "\u001b[?25hRequirement already satisfied: charset-normalizer<4,>=2 in /Users/user/opt/anaconda3/envs/gpt-local/lib/python3.11/site-packages (from requests>=2.20->pyxnat->fitz) (3.2.0)\n",
      "Requirement already satisfied: idna<4,>=2.5 in /Users/user/opt/anaconda3/envs/gpt-local/lib/python3.11/site-packages (from requests>=2.20->pyxnat->fitz) (3.4)\n",
      "Requirement already satisfied: urllib3<3,>=1.21.1 in /Users/user/opt/anaconda3/envs/gpt-local/lib/python3.11/site-packages (from requests>=2.20->pyxnat->fitz) (2.0.4)\n",
      "Requirement already satisfied: certifi>=2017.4.17 in /Users/user/opt/anaconda3/envs/gpt-local/lib/python3.11/site-packages (from requests>=2.20->pyxnat->fitz) (2023.7.22)\n",
      "Building wheels for collected packages: future, traits\n",
      "  Building wheel for future (setup.py) ... \u001b[?25ldone\n",
      "\u001b[?25h  Created wheel for future: filename=future-0.18.3-py3-none-any.whl size=492022 sha256=abef5694c8fac65bdfa842675fd60b6074d58fe37667799402e608d041111ed3\n",
      "  Stored in directory: /Users/user/Library/Caches/pip/wheels/da/19/ca/9d8c44cd311a955509d7e13da3f0bea42400c469ef825b580b\n",
      "  Building wheel for traits (setup.py) ... \u001b[?25ldone\n",
      "\u001b[?25h  Created wheel for traits: filename=traits-6.3.2-cp311-cp311-macosx_10_9_x86_64.whl size=4999379 sha256=ce82123d1288239b1a494dda9089db6bef102831aa0aa1743c83546d11d8c4bb\n",
      "  Stored in directory: /Users/user/Library/Caches/pip/wheels/eb/95/6e/3d5c21d6b340b7b64a86b7926293decf7f6991f67f914819ae\n",
      "Successfully built future traits\n",
      "Installing collected packages: pathlib, looseversion, tzdata, traits, simplejson, pydot, nibabel, isodate, future, configparser, configobj, ci-info, rdflib, pyxnat, etelemetry, prov, nipype, fitz\n",
      "\u001b[31mERROR: pip's dependency resolver does not currently take into account all the packages that are installed. This behaviour is the source of the following dependency conflicts.\n",
      "seaborn 0.12.2 requires numpy!=1.24.0,>=1.17, but you have numpy 1.24.0 which is incompatible.\u001b[0m\u001b[31m\n",
      "\u001b[0mSuccessfully installed ci-info-0.3.0 configobj-5.0.8 configparser-6.0.0 etelemetry-0.3.0 fitz-0.0.1.dev2 future-0.18.3 isodate-0.6.1 looseversion-1.3.0 nibabel-5.1.0 nipype-1.8.6 pathlib-1.0.1 prov-2.0.0 pydot-1.4.2 pyxnat-1.6 rdflib-7.0.0 simplejson-3.19.1 traits-6.3.2 tzdata-2023.3\n"
     ]
    }
   ],
   "source": [
    "!pip install fitz"
   ]
  },
  {
   "cell_type": "code",
   "execution_count": 16,
   "id": "8f52ba19",
   "metadata": {},
   "outputs": [
    {
     "name": "stdout",
     "output_type": "stream",
     "text": [
      "page-0.png\r\n"
     ]
    }
   ],
   "source": [
    "#2 convert pdf to image \n",
    "import fitz\n",
    "\n",
    "filename = \"hello.pdf\"\n",
    "pdf = fitz.open(filename)\n",
    "for page in pdf:\n",
    "    img = page.get_pixmap(alpha=False)\n",
    "    img.save(\"page-%i.png\" % page.number)\n",
    "\n",
    "# !ls *.png\n",
    "# !open page-0.png "
   ]
  },
  {
   "cell_type": "code",
   "execution_count": 19,
   "id": "24002f9b",
   "metadata": {},
   "outputs": [
    {
     "name": "stdout",
     "output_type": "stream",
     "text": [
      "Collecting art\n",
      "  Downloading art-6.0-py3-none-any.whl (599 kB)\n",
      "\u001b[2K     \u001b[90m━━━━━━━━━━━━━━━━━━━━━━━━━━━━━━━━━━━━━\u001b[0m \u001b[32m599.4/599.4 kB\u001b[0m \u001b[31m138.6 kB/s\u001b[0m eta \u001b[36m0:00:00\u001b[0m00:01\u001b[0m00:01\u001b[0m\n",
      "\u001b[?25hInstalling collected packages: art\n",
      "Successfully installed art-6.0\n"
     ]
    }
   ],
   "source": [
    "!pip install art"
   ]
  },
  {
   "cell_type": "code",
   "execution_count": 27,
   "id": "2c24f494",
   "metadata": {},
   "outputs": [
    {
     "name": "stdout",
     "output_type": "stream",
     "text": [
      " _            _  _                                 _      _ \n",
      "| |__    ___ | || |  ___   __      __  ___   _ __ | |  __| |\n",
      "| '_ \\  / _ \\| || | / _ \\  \\ \\ /\\ / / / _ \\ | '__|| | / _` |\n",
      "| | | ||  __/| || || (_) |  \\ V  V / | (_) || |   | || (_| |\n",
      "|_| |_| \\___||_||_| \\___/    \\_/\\_/   \\___/ |_|   |_| \\__,_|\n",
      "                                                            \n",
      "\n",
      "\n",
      " .----------------.  .----------------.  .----------------.  .----------------.  .-----------------. .----------------. \n",
      "| .--------------. || .--------------. || .--------------. || .--------------. || .--------------. || .--------------. |\n",
      "| |   _____      | || |  _________   | || |      __      | || |  _______     | || | ____  _____  | || |              | |\n",
      "| |  |_   _|     | || | |_   ___  |  | || |     /  \\     | || | |_   __ \\    | || ||_   \\|_   _| | || |              | |\n",
      "| |    | |       | || |   | |_  \\_|  | || |    / /\\ \\    | || |   | |__) |   | || |  |   \\ | |   | || |              | |\n",
      "| |    | |   _   | || |   |  _|  _   | || |   / ____ \\   | || |   |  __ /    | || |  | |\\ \\| |   | || |              | |\n",
      "| |   _| |__/ |  | || |  _| |___/ |  | || | _/ /    \\ \\_ | || |  _| |  \\ \\_  | || | _| |_\\   |_  | || |      _       | |\n",
      "| |  |________|  | || | |_________|  | || ||____|  |____|| || | |____| |___| | || ||_____|\\____| | || |     (_)      | |\n",
      "| |              | || |              | || |              | || |              | || |              | || |              | |\n",
      "| '--------------' || '--------------' || '--------------' || '--------------' || '--------------' || '--------------' |\n",
      " '----------------'  '----------------'  '----------------'  '----------------'  '----------------'  '----------------' \n",
      "\n",
      "       __         __  \n",
      "  ___ | _|       |_ | \n",
      " / __|| |         | | \n",
      "| (__ | |         | | \n",
      " \\___|| |  _____  | | \n",
      "      |__||_____||__| \n",
      "\n",
      "\n",
      " .----------------.  .----------------.  .----------------.  .----------------. \n",
      "| .--------------. || .--------------. || .--------------. || .--------------. |\n",
      "| |  _________   | || |  _________   | || |    _______   | || |  _________   | |\n",
      "| | |  _   _  |  | || | |_   ___  |  | || |   /  ___  |  | || | |  _   _  |  | |\n",
      "| | |_/ | | \\_|  | || |   | |_  \\_|  | || |  |  (__ \\_|  | || | |_/ | | \\_|  | |\n",
      "| |     | |      | || |   |  _|  _   | || |   '.___`-.   | || |     | |      | |\n",
      "| |    _| |_     | || |  _| |___/ |  | || |  |`\\____) |  | || |    _| |_     | |\n",
      "| |   |_____|    | || | |_________|  | || |  |_______.'  | || |   |_____|    | |\n",
      "| |              | || |              | || |              | || |              | |\n",
      "| '--------------' || '--------------' || '--------------' || '--------------' |\n",
      " '----------------'  '----------------'  '----------------'  '----------------' \n",
      "\n"
     ]
    }
   ],
   "source": [
    "#3 transforming text into art\n",
    "from art import text2art, tprint, art\n",
    "\n",
    "print(text2art(\"hello world\"))\n",
    "tprint(\"learn.\", font=\"block\", chr_ignore=True)\n",
    "tprint(art(\"coffee\"))\n",
    "art=text2art(\"test\",font=\"black\")\n",
    "print(art)"
   ]
  },
  {
   "cell_type": "code",
   "execution_count": 30,
   "id": "c9abbc67",
   "metadata": {},
   "outputs": [
    {
     "name": "stdout",
     "output_type": "stream",
     "text": [
      "14747 bytes\n",
      "-rw-r--r--@ 1 user  staff  14747 14 Aug 08:42 hello.pdf\r\n"
     ]
    }
   ],
   "source": [
    "#4 Retrieve file size\n",
    "\n",
    "import os \n",
    "\n",
    "file_path = \"hello.pdf\"\n",
    "size = os.stat(file_path)\n",
    "filesize = size.st_size \n",
    "print(filesize, \"bytes\")\n",
    "\n",
    "!ls -l hello.pdf"
   ]
  },
  {
   "cell_type": "code",
   "execution_count": 8,
   "id": "1e6cb90d",
   "metadata": {},
   "outputs": [
    {
     "name": "stdout",
     "output_type": "stream",
     "text": [
      "/Users/user/Documents/repo/pyclopedia/py-tips\r\n"
     ]
    }
   ],
   "source": [
    "!pwd"
   ]
  },
  {
   "cell_type": "code",
   "execution_count": 6,
   "id": "125725d6",
   "metadata": {},
   "outputs": [
    {
     "data": {
      "text/plain": [
       "True"
      ]
     },
     "execution_count": 6,
     "metadata": {},
     "output_type": "execute_result"
    }
   ],
   "source": [
    "#5 website screenshot\n",
    "\n",
    "# download chromedriver \n",
    "# https://chromedriver.storage.googleapis.com/index.html?path=114.0.5735.90/\n",
    "# unzip\n",
    "# cp chromedriver /usr/local/bin\n",
    "# make sure chromedriver and Chrome installed match closely\n",
    "\n",
    "\n",
    "from selenium import webdriver \n",
    "import time \n",
    "\n",
    "\n",
    "driver = webdriver.Chrome()\n",
    "driver.maximize_window()\n",
    "driver.get(\"http://bbc.co.uk\")\n",
    "time.sleep(3)\n",
    "driver.save_screenshot(\"shot.png\")"
   ]
  },
  {
   "cell_type": "code",
   "execution_count": 9,
   "id": "69d06646",
   "metadata": {},
   "outputs": [],
   "source": [
    "#6  unzip files\n",
    "import zipfile \n",
    "unzip = zipfile.ZipFile(\"hello.zip\")\n",
    "unzip.extractall()"
   ]
  },
  {
   "cell_type": "code",
   "execution_count": 11,
   "id": "07691541",
   "metadata": {},
   "outputs": [
    {
     "name": "stdout",
     "output_type": "stream",
     "text": [
      "Requirement already satisfied: pillow in /Users/user/opt/anaconda3/envs/gpt-local/lib/python3.11/site-packages (9.5.0)\r\n"
     ]
    }
   ],
   "source": [
    "!pip install pillow"
   ]
  },
  {
   "cell_type": "code",
   "execution_count": 17,
   "id": "fe3c004c",
   "metadata": {},
   "outputs": [
    {
     "name": "stdout",
     "output_type": "stream",
     "text": [
      "65\n",
      "{}\n"
     ]
    }
   ],
   "source": [
    "#7 extract data from image \n",
    "import PIL.Image\n",
    "import PIL.ExifTags\n",
    "\n",
    "img = PIL.Image.open(\"./ca.png\")\n",
    "print(img.height)\n",
    "exif = {\n",
    "    PIL.ExifTags.TAGS[key]: value\n",
    "    for key, value in img.getexif().items()\n",
    "    if key in PIL.ExifTags.TAGS\n",
    "}\n",
    "print(exif)\n"
   ]
  },
  {
   "cell_type": "code",
   "execution_count": null,
   "id": "c46080a7",
   "metadata": {},
   "outputs": [],
   "source": []
  }
 ],
 "metadata": {
  "kernelspec": {
   "display_name": "Python 3 (ipykernel)",
   "language": "python",
   "name": "python3"
  },
  "language_info": {
   "codemirror_mode": {
    "name": "ipython",
    "version": 3
   },
   "file_extension": ".py",
   "mimetype": "text/x-python",
   "name": "python",
   "nbconvert_exporter": "python",
   "pygments_lexer": "ipython3",
   "version": "3.11.4"
  }
 },
 "nbformat": 4,
 "nbformat_minor": 5
}
