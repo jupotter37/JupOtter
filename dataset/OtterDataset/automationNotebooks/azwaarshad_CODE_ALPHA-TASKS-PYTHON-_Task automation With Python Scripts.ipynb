{
 "cells": [
  {
   "cell_type": "markdown",
   "id": "1fabfa5f",
   "metadata": {},
   "source": [
    "# TASK AUTOMATION WITH PYTHON SCRIPTS"
   ]
  },
  {
   "cell_type": "code",
   "execution_count": 1,
   "id": "704d615c",
   "metadata": {},
   "outputs": [
    {
     "name": "stderr",
     "output_type": "stream",
     "text": [
      "[nltk_data] Downloading package punkt to\n",
      "[nltk_data]     C:\\Users\\HT\\AppData\\Roaming\\nltk_data...\n",
      "[nltk_data]   Package punkt is already up-to-date!\n",
      "[nltk_data] Downloading package stopwords to\n",
      "[nltk_data]     C:\\Users\\HT\\AppData\\Roaming\\nltk_data...\n",
      "[nltk_data]   Package stopwords is already up-to-date!\n",
      "[nltk_data] Downloading package wordnet to\n",
      "[nltk_data]     C:\\Users\\HT\\AppData\\Roaming\\nltk_data...\n",
      "[nltk_data]   Package wordnet is already up-to-date!\n"
     ]
    },
    {
     "name": "stdout",
     "output_type": "stream",
     "text": [
      "Enter the text you want to clean: i am azwwa\n",
      "Cleaned Text: azwwa\n"
     ]
    }
   ],
   "source": [
    "import nltk\n",
    "from nltk.corpus import stopwords\n",
    "from nltk.tokenize import word_tokenize\n",
    "from nltk.stem import WordNetLemmatizer\n",
    "import string\n",
    "\n",
    "nltk.download('punkt')\n",
    "nltk.download('stopwords')\n",
    "nltk.download('wordnet')\n",
    "\n",
    "lemmatizer = WordNetLemmatizer()\n",
    "stop_words = set(stopwords.words('english'))\n",
    "\n",
    "def clean_text(text):\n",
    "    # Tokenize text\n",
    "    words = word_tokenize(text.lower())  \n",
    "\n",
    "    words = [word for word in words if word not in stop_words and word not in string.punctuation]\n",
    "\n",
    "    lemmatized_words = [lemmatizer.lemmatize(word) for word in words]\n",
    "    \n",
    "    clean_text = ' '.join(lemmatized_words)\n",
    "    \n",
    "    return clean_text\n",
    "\n",
    "def main():\n",
    "    user_input = input(\"Enter the text you want to clean: \")\n",
    "    cleaned_text = clean_text(user_input)\n",
    "    print(f\"Cleaned Text: {cleaned_text}\")\n",
    "\n",
    "if __name__ == \"__main__\":\n",
    "    main()"
   ]
  },
  {
   "cell_type": "code",
   "execution_count": null,
   "id": "07832ae1",
   "metadata": {},
   "outputs": [],
   "source": []
  }
 ],
 "metadata": {
  "kernelspec": {
   "display_name": "Python 3 (ipykernel)",
   "language": "python",
   "name": "python3"
  },
  "language_info": {
   "codemirror_mode": {
    "name": "ipython",
    "version": 3
   },
   "file_extension": ".py",
   "mimetype": "text/x-python",
   "name": "python",
   "nbconvert_exporter": "python",
   "pygments_lexer": "ipython3",
   "version": "3.9.7"
  }
 },
 "nbformat": 4,
 "nbformat_minor": 5
}
