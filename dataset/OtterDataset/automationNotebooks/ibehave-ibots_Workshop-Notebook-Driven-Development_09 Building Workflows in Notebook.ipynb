{
 "cells": [
  {
   "cell_type": "code",
   "execution_count": 1,
   "metadata": {},
   "outputs": [],
   "source": [
    "# !pip install doit papermill pandas hvplot matplotlib"
   ]
  },
  {
   "cell_type": "code",
   "execution_count": null,
   "metadata": {},
   "outputs": [],
   "source": [
    "from doit import load_ipython_extension\n",
    "load_ipython_extension()\n",
    "import pandas as pd\n",
    "import hvplot.pandas"
   ]
  },
  {
   "cell_type": "code",
   "execution_count": null,
   "metadata": {},
   "outputs": [],
   "source": [
    "import sys\n",
    "sys.path.append('src')\n",
    "import sciebo\n",
    "\n",
    "sciebo.download_file('https://uni-bonn.sciebo.de/s/N8t6uo4mn6itdtG', 'data/steinmetz_all.csv')"
   ]
  },
  {
   "cell_type": "markdown",
   "metadata": {},
   "source": [
    "# Building Workflows in Notebook\n",
    "\n",
    "Pydoit is a task management and automation tool designed to execute commands and scripts in a structured, reproducible way.\n",
    "In this notebook, we will understand the structure of `doit` workflows by writing doit tasks and execute them."
   ]
  },
  {
   "cell_type": "markdown",
   "metadata": {},
   "source": [
    "## Functions\n",
    "\n",
    "Functions are reusable blocks of code that perform a specific task. \n",
    "They help organize code, make it more readable, and allow you to avoid repetition by encapsulating logic that can be called multiple times throughout a program.\n",
    "\n",
    "A function is defined using the def keyword followed by the function name and parentheses `()`. \n",
    "The code that performs the task is placed inside the function body, indented under the function definition\n",
    "\n",
    "```python\n",
    "def function_name(param1, param2, ...):  \n",
    "    # use param1, param2, ...\n",
    "    return value  # return (optional)\n",
    "```"
   ]
  },
  {
   "cell_type": "markdown",
   "metadata": {},
   "source": [
    "**Example** Make a function called `active_trials` the replaces the below code\n",
    "\n",
    "```python\n",
    "input_csv = 'data/steinmetz_all.csv'\n",
    "output_csv = 'data/active_trials.csv'\n",
    "df = pd.read_csv(input_csv)\n",
    "df_active = df[df['active_trials'] == True]\n",
    "df_active.to_csv(output_csv, index=False)\n",
    "```"
   ]
  },
  {
   "cell_type": "code",
   "execution_count": 4,
   "metadata": {},
   "outputs": [],
   "source": [
    "def active_trials():\n",
    "    input_csv = 'data/steinmetz_all.csv'\n",
    "    output_csv = 'data/active_trials.csv'\n",
    "    df = pd.read_csv(input_csv)\n",
    "    df_active = df[df['active_trials'] == True]\n",
    "    df_active.to_csv(output_csv, index=False)    \n",
    "\n",
    "active_trials()"
   ]
  },
  {
   "cell_type": "markdown",
   "metadata": {},
   "source": [
    "Make a function called `descriptive_stats` that replaces the below code\n",
    "\n",
    "```python\n",
    "active_trials_csv = 'data/active_trials.csv'\n",
    "stats_csv = 'data/stats.csv'\n",
    "df = pd.read_csv(active_trials_csv)\n",
    "df_stats = df.describe().reset_index()\n",
    "df_stats.to_csv(stats_csv, index=False)\n",
    "```"
   ]
  },
  {
   "cell_type": "code",
   "execution_count": null,
   "metadata": {},
   "outputs": [],
   "source": []
  },
  {
   "cell_type": "markdown",
   "metadata": {},
   "source": [
    "Make a function called `histogram_plot` that replaces the code below\n",
    "\n",
    "```python\n",
    "import matplotlib.pyplot as plt\n",
    "active_trials_csv = 'data/active_trials.csv'\n",
    "hist_col_name = 'response_time'\n",
    "df = pd.read_csv(active_trials_csv)\n",
    "df[hist_col_name].plot.hist()\n",
    "plt.savefig(f'{hist_col_name}_histogram.png')\n",
    "```"
   ]
  },
  {
   "cell_type": "code",
   "execution_count": null,
   "metadata": {},
   "outputs": [],
   "source": []
  },
  {
   "cell_type": "markdown",
   "metadata": {},
   "source": [
    "**Example** Make `input_csv` as a parameter for `active_trials`"
   ]
  },
  {
   "cell_type": "code",
   "execution_count": 7,
   "metadata": {},
   "outputs": [],
   "source": [
    "def active_trials(input_csv):\n",
    "    output_csv = 'data/active_trials.csv'\n",
    "    df = pd.read_csv(input_csv)\n",
    "    df_active = df[df['active_trials'] == True]\n",
    "    df_active.to_csv(output_csv, index=False)    \n",
    "\n",
    "active_trials('data/steinmetz_all.csv')"
   ]
  },
  {
   "cell_type": "markdown",
   "metadata": {},
   "source": [
    "Make `active_trials_csv` as a parameter of `descriptive_stats`"
   ]
  },
  {
   "cell_type": "code",
   "execution_count": null,
   "metadata": {},
   "outputs": [],
   "source": []
  },
  {
   "cell_type": "markdown",
   "metadata": {},
   "source": [
    "Make `active_trials_csv` as a parameter of `histogram_plot`"
   ]
  },
  {
   "cell_type": "code",
   "execution_count": null,
   "metadata": {},
   "outputs": [],
   "source": []
  },
  {
   "cell_type": "markdown",
   "metadata": {},
   "source": [
    "**Example** Make `input_csv` and `output_csv` as parameters for `active_trials`"
   ]
  },
  {
   "cell_type": "code",
   "execution_count": 10,
   "metadata": {},
   "outputs": [],
   "source": [
    "def active_trials(input_csv, output_csv):\n",
    "    df = pd.read_csv(input_csv)\n",
    "    df_active = df[df['active_trials'] == True]\n",
    "    df_active.to_csv(output_csv, index=False)    \n",
    "\n",
    "active_trials('data/steinmetz_all.csv', 'data/active_trials.csv')"
   ]
  },
  {
   "cell_type": "markdown",
   "metadata": {},
   "source": [
    "Make `active_trials_csv` and `stats_csv` as parameters of `descriptive_stats`"
   ]
  },
  {
   "cell_type": "code",
   "execution_count": null,
   "metadata": {},
   "outputs": [],
   "source": []
  },
  {
   "cell_type": "markdown",
   "metadata": {},
   "source": [
    "Make `active_trials_csv` and `stats_csv` as parameters of `histogram_plot`"
   ]
  },
  {
   "cell_type": "code",
   "execution_count": null,
   "metadata": {},
   "outputs": [],
   "source": []
  },
  {
   "cell_type": "markdown",
   "metadata": {},
   "source": [
    "## Building doit Workflows\n",
    "\n",
    "`doit` is a task automation tool that helps manage dependencies and execute tasks. `doit` workflows are made up of units called `tasks` which are python functions. \n",
    "\n",
    "Basic syntax of doit task:\n",
    "\n",
    "```python\n",
    "def task_name():\n",
    "    return {\n",
    "        'actions': ['command to execute'],\n",
    "    }\n",
    "```\n",
    "\n",
    "`task_name` is name of the task (must start with `task_`)\n",
    "\n",
    "`actions` is a list of commands, Python functions, etc.\n",
    "\n",
    "Let's get some practice building `doit` tasks."
   ]
  },
  {
   "cell_type": "markdown",
   "metadata": {},
   "source": [
    "**Example** Add a doit task called `process` that implements the below code:\n",
    "\n",
    "```python\n",
    "def active_trials():\n",
    "    input_csv = 'data/steinmetz_all.csv'\n",
    "    output_csv = 'data/active_trials.csv'\n",
    "    df = pd.read_csv(input_csv)\n",
    "    df_active = df[df['active_trials'] == True]\n",
    "    df_active.to_csv(output_csv, index=False)   \n",
    "```"
   ]
  },
  {
   "cell_type": "code",
   "execution_count": 13,
   "metadata": {},
   "outputs": [],
   "source": [
    "def task_process():\n",
    "    def active_trials():\n",
    "        input_csv = 'data/steinmetz_all.csv'\n",
    "        output_csv = 'data/active_trials.csv'\n",
    "        df = pd.read_csv(input_csv)\n",
    "        df_active = df[df['active_trials'] == True]\n",
    "        df_active.to_csv(output_csv, index=False)       \n",
    "\n",
    "    return {\n",
    "        'actions': [active_trials]\n",
    "    }"
   ]
  },
  {
   "cell_type": "code",
   "execution_count": null,
   "metadata": {},
   "outputs": [],
   "source": [
    "%doit list"
   ]
  },
  {
   "cell_type": "markdown",
   "metadata": {},
   "source": [
    "Add a doit task called `stats` for the below code"
   ]
  },
  {
   "cell_type": "code",
   "execution_count": 15,
   "metadata": {},
   "outputs": [],
   "source": []
  },
  {
   "cell_type": "code",
   "execution_count": null,
   "metadata": {},
   "outputs": [],
   "source": []
  },
  {
   "cell_type": "markdown",
   "metadata": {},
   "source": [
    "Add a doit task called `plot` for the below code\n",
    "\n",
    "```python\n",
    "def histogram_plot():\n",
    "    import matplotlib.pyplot as plt\n",
    "    active_trials_csv = 'data/active_trials.csv'\n",
    "    hist_col_name = 'response_time'\n",
    "    df = pd.read_csv(active_trials_csv)\n",
    "    df[hist_col_name].plot.hist()\n",
    "    plt.savefig(f'{hist_col_name}_histogram.png')\n",
    "```"
   ]
  },
  {
   "cell_type": "code",
   "execution_count": 17,
   "metadata": {},
   "outputs": [],
   "source": []
  },
  {
   "cell_type": "code",
   "execution_count": null,
   "metadata": {},
   "outputs": [],
   "source": []
  },
  {
   "cell_type": "markdown",
   "metadata": {},
   "source": [
    "We can also run notebooks as a `doit` task. Run the below cell to download notebooks.\n",
    "\n",
    "`nb_active_trials`: Same as `active_trials` function </br>\n",
    "`nb_stats`: Same as `descriptive_stats` function </br>\n",
    "`nb_plots`: Same as `histogram_plot` function"
   ]
  },
  {
   "cell_type": "code",
   "execution_count": null,
   "metadata": {},
   "outputs": [],
   "source": [
    "import sys\n",
    "sys.path.append('src')\n",
    "import sciebo\n",
    "\n",
    "sciebo.download_file('https://uni-bonn.sciebo.de/s/5ke7GSFfMErS20y', 'nb_active_trials.ipynb')\n",
    "sciebo.download_file('https://uni-bonn.sciebo.de/s/UQKaks9opGYu211', 'nb_stats.ipynb')\n",
    "sciebo.download_file('https://uni-bonn.sciebo.de/s/dFomib4RDkGL39A', 'nb_plots.ipynb')"
   ]
  },
  {
   "cell_type": "markdown",
   "metadata": {},
   "source": [
    "\n",
    "**Example** Run `nb_active_trials` notebook inside process task."
   ]
  },
  {
   "cell_type": "code",
   "execution_count": 20,
   "metadata": {},
   "outputs": [],
   "source": [
    "def task_process():\n",
    "    return {\n",
    "        'actions': ['papermill nb_active_trials.ipynb process.ipynb']\n",
    "    }"
   ]
  },
  {
   "cell_type": "markdown",
   "metadata": {},
   "source": [
    "Run `nb_stats` notebook inside stats task."
   ]
  },
  {
   "cell_type": "code",
   "execution_count": 21,
   "metadata": {},
   "outputs": [],
   "source": []
  },
  {
   "cell_type": "markdown",
   "metadata": {},
   "source": [
    "Run `nb_plots` notebook inside `plot` task"
   ]
  },
  {
   "cell_type": "code",
   "execution_count": 22,
   "metadata": {},
   "outputs": [],
   "source": []
  },
  {
   "cell_type": "markdown",
   "metadata": {},
   "source": [
    "## Running `doit` tasks\n",
    "\n",
    "Now that we know how to make doit tasks, let see how to run them.\n",
    "\n",
    "**Delete `data` directory and run the below cell to get only `steinmetz_all.csv`**"
   ]
  },
  {
   "cell_type": "code",
   "execution_count": null,
   "metadata": {},
   "outputs": [],
   "source": [
    "import sys\n",
    "sys.path.append('src')\n",
    "import sciebo\n",
    "\n",
    "sciebo.download_file('https://uni-bonn.sciebo.de/s/N8t6uo4mn6itdtG', 'data/steinmetz_all.csv')"
   ]
  },
  {
   "cell_type": "markdown",
   "metadata": {},
   "source": [
    "**Example** Run `process` task"
   ]
  },
  {
   "cell_type": "code",
   "execution_count": null,
   "metadata": {},
   "outputs": [],
   "source": [
    "%doit process"
   ]
  },
  {
   "cell_type": "markdown",
   "metadata": {},
   "source": [
    "Run `stats` task"
   ]
  },
  {
   "cell_type": "code",
   "execution_count": null,
   "metadata": {},
   "outputs": [],
   "source": []
  },
  {
   "cell_type": "markdown",
   "metadata": {},
   "source": [
    "Run `plot` task"
   ]
  },
  {
   "cell_type": "code",
   "execution_count": null,
   "metadata": {},
   "outputs": [],
   "source": []
  },
  {
   "cell_type": "markdown",
   "metadata": {},
   "source": [
    "`doit` does not enforce a specific order of task execution unless task dependencies are explicitly defined. By default, tasks are executed in parallel or in whatever order doit chooses, which might not match the logical order you expect.\n",
    "\n",
    "**Delete `data` directory and run the below cell to get only `steinmetz_all.csv`**"
   ]
  },
  {
   "cell_type": "code",
   "execution_count": null,
   "metadata": {},
   "outputs": [],
   "source": [
    "import sys\n",
    "sys.path.append('src')\n",
    "import sciebo\n",
    "\n",
    "sciebo.download_file('https://uni-bonn.sciebo.de/s/N8t6uo4mn6itdtG', 'data/steinmetz_all.csv')"
   ]
  },
  {
   "cell_type": "markdown",
   "metadata": {},
   "source": [
    "\n",
    "\n",
    "**Example** Run everything (Can you?)"
   ]
  },
  {
   "cell_type": "code",
   "execution_count": null,
   "metadata": {},
   "outputs": [],
   "source": [
    "%doit"
   ]
  },
  {
   "cell_type": "markdown",
   "metadata": {},
   "source": [
    "**Example** Specify that `plot` task depends on `process` task"
   ]
  },
  {
   "cell_type": "code",
   "execution_count": 29,
   "metadata": {},
   "outputs": [],
   "source": [
    "def task_plot():  \n",
    "    return {\n",
    "        'actions': ['papermill nb_plots.ipynb plots.ipynb'],\n",
    "        'task_dep': ['process']\n",
    "\n",
    "    }"
   ]
  },
  {
   "cell_type": "code",
   "execution_count": null,
   "metadata": {},
   "outputs": [],
   "source": [
    "%doit"
   ]
  },
  {
   "cell_type": "markdown",
   "metadata": {},
   "source": [
    "Specify that `stats` task depends on `process` task"
   ]
  },
  {
   "cell_type": "code",
   "execution_count": 31,
   "metadata": {},
   "outputs": [],
   "source": []
  },
  {
   "cell_type": "code",
   "execution_count": null,
   "metadata": {},
   "outputs": [],
   "source": []
  }
 ],
 "metadata": {
  "kernelspec": {
   "display_name": "ndd",
   "language": "python",
   "name": "python3"
  },
  "language_info": {
   "codemirror_mode": {
    "name": "ipython",
    "version": 3
   },
   "file_extension": ".py",
   "mimetype": "text/x-python",
   "name": "python",
   "nbconvert_exporter": "python",
   "pygments_lexer": "ipython3",
   "version": "3.12.7"
  }
 },
 "nbformat": 4,
 "nbformat_minor": 2
}
