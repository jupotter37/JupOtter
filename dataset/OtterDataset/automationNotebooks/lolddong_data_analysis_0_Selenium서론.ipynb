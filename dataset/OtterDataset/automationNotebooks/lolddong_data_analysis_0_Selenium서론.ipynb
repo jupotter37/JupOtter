{
 "cells": [
  {
   "cell_type": "markdown",
   "metadata": {},
   "source": [
    "## Selenium 서론\n",
    "\n",
    "### 0. 패키지 설치\n",
    "- 파이썬 스스로 chromedriver를 내려받도록 하기 위해 `chromedriver_autoinstaller` 패키지가 필요함\n",
    "```\n",
    "$ pip3 install --upgrade chromedriver_autoinstaller\n",
    "$ pip3 install --upgrade selenium\n",
    "```\n",
    "### 1. 개요\n",
    "\n",
    "- selenium: 웹 브라우저를 제어할 수 있는 파이썬 패키지\n",
    "- chromedriver: selenium과 Google Chrome 브라우저를 연결하는 프로그램\n",
    "\n",
    "### 2. 용도\n",
    "#### 1) Requests가 못하는 page 접속\n",
    "#### 2) 사용자의 키보드, 마우스 조작이 필요한 경우\n",
    "#### 3) 사용자의 개입이 필요한 경우\n",
    "\n",
    "### 3. PyAutoGUI\n",
    "- Selenium 외에 Automation Testing Tools 중 하나\n",
    "- 마우스와 키보드를 프로그래밍으로 제어할 수 있는 파이썬 모듈\n",
    "- Windows, macOS, Linux에서 사용 가능, Python 2, Python 3에서 지원\n",
    "- 자동화 스크립트(automation scripts)에 많이 사용됨\n",
    "- features:\n",
    "    - Moving the mouse and clicking in the windows of other applications. \n",
    "    - Sending keystrokes to applications (for example, to fill out forms). \n",
    "    - Take screenshots, and given an image (for example, of a button or checkbox), and find it on the screen.\n",
    "    - Locate an application’s window, and move, resize, maximize, minimize, or close it (Windows-only, currently). \n",
    "    - Display alert and message boxes.\n",
    "- Selenium vs PyAutoGUI\n",
    "    - **Installation and Setup**: PyAutoGUI is a Python module that can be easily installed using pip, whereas Selenium requires additional drivers and configurations to work with different web browsers. This means that setting up Selenium for web automation may require more steps and dependencies compared to PyAutoGUI.\n",
    "    - **GUI vs. Web Automation**: PyAutoGUI primarily focuses on `GUI automation,` allowing users to control the `mouse and keyboard` to interact with desktop applications. Selenium is specifically designed for `web automation` and allows users to interact with web elements, perform actions like `clicking buttons`, `filling forms`, and `scraping web data`.\n",
    "    - **Cross-platform Compatibility**: PyAutoGUI provides cross-platform compatibility, meaning it can be used on different operating systems like `Windows, macOS, and Linux`. Selenium, on the other hand, requires specific driver executables for different web browsers and operating systems, which can make it less flexible for cross-platform projects.\n",
    "    - **Testing vs. Task Automation**: Selenium is widely used for `web testing` purposes, allowing users to automate browser tasks, perform functional testing, and run test scripts. PyAutoGUI is more suitable for general-purpose task automation, allowing users to automate repetitive tasks `outside the web browser`, such as GUI-based software testing, data entry, or image recognition.\n",
    "    - **Web Browser Control**: Selenium provides advanced features for `controlling web browsers`, including navigating through web pages, handling JavaScript alerts, capturing screenshots, and managing cookies. PyAutoGUI does not offer these browser-specific features and is more focused on general desktop automation tasks.\n",
    "- pyautogui 패키지 설치 필요\n",
    "\n",
    "```python\n",
    "# windows\n",
    "pip install pyautogui\n",
    "\n",
    "# Mac os\n",
    "pip3 install pyobjc-core\n",
    "pip3 install pyobjc\n",
    "pip3 install pyautogui\n",
    "```"
   ]
  },
  {
   "cell_type": "markdown",
   "metadata": {},
   "source": []
  }
 ],
 "metadata": {
  "language_info": {
   "name": "python"
  }
 },
 "nbformat": 4,
 "nbformat_minor": 2
}
