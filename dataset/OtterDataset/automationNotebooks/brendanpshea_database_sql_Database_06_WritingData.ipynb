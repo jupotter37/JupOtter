{
  "nbformat": 4,
  "nbformat_minor": 0,
  "metadata": {
    "colab": {
      "provenance": [],
      "authorship_tag": "ABX9TyOOnRUVSFMLCaqEUCBZ7Ewv",
      "include_colab_link": true
    },
    "kernelspec": {
      "name": "python3",
      "display_name": "Python 3"
    },
    "language_info": {
      "name": "python"
    },
    "widgets": {
      "application/vnd.jupyter.widget-state+json": {
        "0d9d60a8b80245a7a8f60aae2ede2d7f": {
          "model_module": "@jupyter-widgets/controls",
          "model_name": "TabModel",
          "model_module_version": "1.5.0",
          "state": {
            "_dom_classes": [],
            "_model_module": "@jupyter-widgets/controls",
            "_model_module_version": "1.5.0",
            "_model_name": "TabModel",
            "_titles": {
              "0": "Quiz",
              "1": "View Tables"
            },
            "_view_count": null,
            "_view_module": "@jupyter-widgets/controls",
            "_view_module_version": "1.5.0",
            "_view_name": "TabView",
            "box_style": "",
            "children": [
              "IPY_MODEL_41bf1888220741b2b178b96d2c55aa96",
              "IPY_MODEL_858bfe4a6a3c4547a26f7a9dac67f06c"
            ],
            "layout": "IPY_MODEL_ab767b8d84b642049fdcb0f0cfc0995e",
            "selected_index": 0
          }
        },
        "41bf1888220741b2b178b96d2c55aa96": {
          "model_module": "@jupyter-widgets/controls",
          "model_name": "VBoxModel",
          "model_module_version": "1.5.0",
          "state": {
            "_dom_classes": [],
            "_model_module": "@jupyter-widgets/controls",
            "_model_module_version": "1.5.0",
            "_model_name": "VBoxModel",
            "_view_count": null,
            "_view_module": "@jupyter-widgets/controls",
            "_view_module_version": "1.5.0",
            "_view_name": "VBoxView",
            "box_style": "",
            "children": [
              "IPY_MODEL_207909f0aec146e89fb31cf5e4981565",
              "IPY_MODEL_468cfa251d444d238641bed9eb019d18",
              "IPY_MODEL_4e0b9005f003448684cb6318bccb406a",
              "IPY_MODEL_6d022099da34476e8501ad22d44e9687",
              "IPY_MODEL_ab8c587f1c4141c28fe216fefda382f0",
              "IPY_MODEL_d89edf02a91746efbdcac691f5cc402a",
              "IPY_MODEL_45fb4e3484a84ec39f9994cb2a73fb30"
            ],
            "layout": "IPY_MODEL_08d21417f63142f68c2d704c6d73701b"
          }
        },
        "858bfe4a6a3c4547a26f7a9dac67f06c": {
          "model_module": "@jupyter-widgets/controls",
          "model_name": "VBoxModel",
          "model_module_version": "1.5.0",
          "state": {
            "_dom_classes": [],
            "_model_module": "@jupyter-widgets/controls",
            "_model_module_version": "1.5.0",
            "_model_name": "VBoxModel",
            "_view_count": null,
            "_view_module": "@jupyter-widgets/controls",
            "_view_module_version": "1.5.0",
            "_view_name": "VBoxView",
            "box_style": "",
            "children": [
              "IPY_MODEL_2b8d97512baa46b48bf55dc115c71210",
              "IPY_MODEL_497ed449d67f4b1593f9c15fb300b736"
            ],
            "layout": "IPY_MODEL_72259ebb3a744ce3b0c7fa336e980b3a"
          }
        },
        "ab767b8d84b642049fdcb0f0cfc0995e": {
          "model_module": "@jupyter-widgets/base",
          "model_name": "LayoutModel",
          "model_module_version": "1.2.0",
          "state": {
            "_model_module": "@jupyter-widgets/base",
            "_model_module_version": "1.2.0",
            "_model_name": "LayoutModel",
            "_view_count": null,
            "_view_module": "@jupyter-widgets/base",
            "_view_module_version": "1.2.0",
            "_view_name": "LayoutView",
            "align_content": null,
            "align_items": null,
            "align_self": null,
            "border": null,
            "bottom": null,
            "display": null,
            "flex": null,
            "flex_flow": null,
            "grid_area": null,
            "grid_auto_columns": null,
            "grid_auto_flow": null,
            "grid_auto_rows": null,
            "grid_column": null,
            "grid_gap": null,
            "grid_row": null,
            "grid_template_areas": null,
            "grid_template_columns": null,
            "grid_template_rows": null,
            "height": null,
            "justify_content": null,
            "justify_items": null,
            "left": null,
            "margin": null,
            "max_height": null,
            "max_width": null,
            "min_height": null,
            "min_width": null,
            "object_fit": null,
            "object_position": null,
            "order": null,
            "overflow": null,
            "overflow_x": null,
            "overflow_y": null,
            "padding": null,
            "right": null,
            "top": null,
            "visibility": null,
            "width": null
          }
        },
        "207909f0aec146e89fb31cf5e4981565": {
          "model_module": "@jupyter-widgets/controls",
          "model_name": "IntProgressModel",
          "model_module_version": "1.5.0",
          "state": {
            "_dom_classes": [],
            "_model_module": "@jupyter-widgets/controls",
            "_model_module_version": "1.5.0",
            "_model_name": "IntProgressModel",
            "_view_count": null,
            "_view_module": "@jupyter-widgets/controls",
            "_view_module_version": "1.5.0",
            "_view_name": "ProgressView",
            "bar_style": "info",
            "description": "Progress:",
            "description_tooltip": null,
            "layout": "IPY_MODEL_145d47caac114e23bf170990d7c8c555",
            "max": 100,
            "min": 0,
            "orientation": "horizontal",
            "style": "IPY_MODEL_6fdc26356c9040779168bcce74f010c7",
            "value": 0
          }
        },
        "468cfa251d444d238641bed9eb019d18": {
          "model_module": "@jupyter-widgets/controls",
          "model_name": "HTMLModel",
          "model_module_version": "1.5.0",
          "state": {
            "_dom_classes": [],
            "_model_module": "@jupyter-widgets/controls",
            "_model_module_version": "1.5.0",
            "_model_name": "HTMLModel",
            "_view_count": null,
            "_view_module": "@jupyter-widgets/controls",
            "_view_module_version": "1.5.0",
            "_view_name": "HTMLView",
            "description": "",
            "description_tooltip": null,
            "layout": "IPY_MODEL_ca3dde7059d2403f866fac5bbbf1275a",
            "placeholder": "​",
            "style": "IPY_MODEL_2b897cce2f6f418f9074e95842334bbd",
            "value": "<h3>Table Schema:</h3><b>artists:</b><br><ul><li>artist_id (INTEGER)  PRIMARY KEY</li><li>name (TEXT)  </li></ul>"
          }
        },
        "4e0b9005f003448684cb6318bccb406a": {
          "model_module": "@jupyter-widgets/controls",
          "model_name": "HTMLModel",
          "model_module_version": "1.5.0",
          "state": {
            "_dom_classes": [],
            "_model_module": "@jupyter-widgets/controls",
            "_model_module_version": "1.5.0",
            "_model_name": "HTMLModel",
            "_view_count": null,
            "_view_module": "@jupyter-widgets/controls",
            "_view_module_version": "1.5.0",
            "_view_name": "HTMLView",
            "description": "",
            "description_tooltip": null,
            "layout": "IPY_MODEL_8c1ce0797b344b64a4a7cfb938617ee0",
            "placeholder": "​",
            "style": "IPY_MODEL_1f614060f5974a01b6e419bbce807b3e",
            "value": "<h2>Question 1 of 33:</h2><p>Insert a new artist named 'Prince' with artist_id 1 into the \"artists\" table.</p>"
          }
        },
        "6d022099da34476e8501ad22d44e9687": {
          "model_module": "@jupyter-widgets/controls",
          "model_name": "TextareaModel",
          "model_module_version": "1.5.0",
          "state": {
            "_dom_classes": [],
            "_model_module": "@jupyter-widgets/controls",
            "_model_module_version": "1.5.0",
            "_model_name": "TextareaModel",
            "_view_count": null,
            "_view_module": "@jupyter-widgets/controls",
            "_view_module_version": "1.5.0",
            "_view_name": "TextareaView",
            "continuous_update": true,
            "description": "Your SQL:",
            "description_tooltip": null,
            "disabled": false,
            "layout": "IPY_MODEL_e4429f7d1dfb497eafbe1fb1d3b66c5e",
            "placeholder": "-- Write your SQL query here",
            "rows": null,
            "style": "IPY_MODEL_2d6efeb97a9d4bfc8cb3d0e705e7968f",
            "value": ""
          }
        },
        "ab8c587f1c4141c28fe216fefda382f0": {
          "model_module": "@jupyter-widgets/controls",
          "model_name": "HBoxModel",
          "model_module_version": "1.5.0",
          "state": {
            "_dom_classes": [],
            "_model_module": "@jupyter-widgets/controls",
            "_model_module_version": "1.5.0",
            "_model_name": "HBoxModel",
            "_view_count": null,
            "_view_module": "@jupyter-widgets/controls",
            "_view_module_version": "1.5.0",
            "_view_name": "HBoxView",
            "box_style": "",
            "children": [
              "IPY_MODEL_c97998e1ce7e47fd97a92527f186c5eb",
              "IPY_MODEL_945e8b9326324ebcac364612d19aed04",
              "IPY_MODEL_3de3382024ee41bbad9eff3f8a11debb"
            ],
            "layout": "IPY_MODEL_44294491715d40a3ac31e2ac99dd4858"
          }
        },
        "d89edf02a91746efbdcac691f5cc402a": {
          "model_module": "@jupyter-widgets/output",
          "model_name": "OutputModel",
          "model_module_version": "1.0.0",
          "state": {
            "_dom_classes": [],
            "_model_module": "@jupyter-widgets/output",
            "_model_module_version": "1.0.0",
            "_model_name": "OutputModel",
            "_view_count": null,
            "_view_module": "@jupyter-widgets/output",
            "_view_module_version": "1.0.0",
            "_view_name": "OutputView",
            "layout": "IPY_MODEL_42eccfab2db942d7bb42ce6839f2bfb2",
            "msg_id": "",
            "outputs": []
          }
        },
        "45fb4e3484a84ec39f9994cb2a73fb30": {
          "model_module": "@jupyter-widgets/output",
          "model_name": "OutputModel",
          "model_module_version": "1.0.0",
          "state": {
            "_dom_classes": [],
            "_model_module": "@jupyter-widgets/output",
            "_model_module_version": "1.0.0",
            "_model_name": "OutputModel",
            "_view_count": null,
            "_view_module": "@jupyter-widgets/output",
            "_view_module_version": "1.0.0",
            "_view_name": "OutputView",
            "layout": "IPY_MODEL_72aa70d4ceef404d8f2a972df4533867",
            "msg_id": "",
            "outputs": []
          }
        },
        "08d21417f63142f68c2d704c6d73701b": {
          "model_module": "@jupyter-widgets/base",
          "model_name": "LayoutModel",
          "model_module_version": "1.2.0",
          "state": {
            "_model_module": "@jupyter-widgets/base",
            "_model_module_version": "1.2.0",
            "_model_name": "LayoutModel",
            "_view_count": null,
            "_view_module": "@jupyter-widgets/base",
            "_view_module_version": "1.2.0",
            "_view_name": "LayoutView",
            "align_content": null,
            "align_items": null,
            "align_self": null,
            "border": "solid 1px #ddd",
            "bottom": null,
            "display": null,
            "flex": null,
            "flex_flow": null,
            "grid_area": null,
            "grid_auto_columns": null,
            "grid_auto_flow": null,
            "grid_auto_rows": null,
            "grid_column": null,
            "grid_gap": null,
            "grid_row": null,
            "grid_template_areas": null,
            "grid_template_columns": null,
            "grid_template_rows": null,
            "height": null,
            "justify_content": null,
            "justify_items": null,
            "left": null,
            "margin": null,
            "max_height": null,
            "max_width": null,
            "min_height": null,
            "min_width": null,
            "object_fit": null,
            "object_position": null,
            "order": null,
            "overflow": null,
            "overflow_x": null,
            "overflow_y": null,
            "padding": "20px",
            "right": null,
            "top": null,
            "visibility": null,
            "width": "800px"
          }
        },
        "2b8d97512baa46b48bf55dc115c71210": {
          "model_module": "@jupyter-widgets/controls",
          "model_name": "HTMLModel",
          "model_module_version": "1.5.0",
          "state": {
            "_dom_classes": [],
            "_model_module": "@jupyter-widgets/controls",
            "_model_module_version": "1.5.0",
            "_model_name": "HTMLModel",
            "_view_count": null,
            "_view_module": "@jupyter-widgets/controls",
            "_view_module_version": "1.5.0",
            "_view_name": "HTMLView",
            "description": "",
            "description_tooltip": null,
            "layout": "IPY_MODEL_f6a1e06b7be048ea883f02d1fe62f0eb",
            "placeholder": "​",
            "style": "IPY_MODEL_d32428a802db4a8cb44db897b8921e3e",
            "value": "<h2>Current Tables Content</h2>"
          }
        },
        "497ed449d67f4b1593f9c15fb300b736": {
          "model_module": "@jupyter-widgets/output",
          "model_name": "OutputModel",
          "model_module_version": "1.0.0",
          "state": {
            "_dom_classes": [],
            "_model_module": "@jupyter-widgets/output",
            "_model_module_version": "1.0.0",
            "_model_name": "OutputModel",
            "_view_count": null,
            "_view_module": "@jupyter-widgets/output",
            "_view_module_version": "1.0.0",
            "_view_name": "OutputView",
            "layout": "IPY_MODEL_9325899f463f4765aa2131b7b2a8ba18",
            "msg_id": "",
            "outputs": [
              {
                "output_type": "display_data",
                "data": {
                  "text/plain": "HTML(value='<h3>artists (Empty)</h3>')",
                  "application/vnd.jupyter.widget-view+json": {
                    "version_major": 2,
                    "version_minor": 0,
                    "model_id": "cb851617f8da4cfd9ee628bd1ce7fe3f"
                  }
                },
                "metadata": {}
              }
            ]
          }
        },
        "72259ebb3a744ce3b0c7fa336e980b3a": {
          "model_module": "@jupyter-widgets/base",
          "model_name": "LayoutModel",
          "model_module_version": "1.2.0",
          "state": {
            "_model_module": "@jupyter-widgets/base",
            "_model_module_version": "1.2.0",
            "_model_name": "LayoutModel",
            "_view_count": null,
            "_view_module": "@jupyter-widgets/base",
            "_view_module_version": "1.2.0",
            "_view_name": "LayoutView",
            "align_content": null,
            "align_items": null,
            "align_self": null,
            "border": "solid 1px #ddd",
            "bottom": null,
            "display": null,
            "flex": null,
            "flex_flow": null,
            "grid_area": null,
            "grid_auto_columns": null,
            "grid_auto_flow": null,
            "grid_auto_rows": null,
            "grid_column": null,
            "grid_gap": null,
            "grid_row": null,
            "grid_template_areas": null,
            "grid_template_columns": null,
            "grid_template_rows": null,
            "height": null,
            "justify_content": null,
            "justify_items": null,
            "left": null,
            "margin": null,
            "max_height": null,
            "max_width": null,
            "min_height": null,
            "min_width": null,
            "object_fit": null,
            "object_position": null,
            "order": null,
            "overflow": null,
            "overflow_x": null,
            "overflow_y": null,
            "padding": "20px",
            "right": null,
            "top": null,
            "visibility": null,
            "width": "800px"
          }
        },
        "145d47caac114e23bf170990d7c8c555": {
          "model_module": "@jupyter-widgets/base",
          "model_name": "LayoutModel",
          "model_module_version": "1.2.0",
          "state": {
            "_model_module": "@jupyter-widgets/base",
            "_model_module_version": "1.2.0",
            "_model_name": "LayoutModel",
            "_view_count": null,
            "_view_module": "@jupyter-widgets/base",
            "_view_module_version": "1.2.0",
            "_view_name": "LayoutView",
            "align_content": null,
            "align_items": null,
            "align_self": null,
            "border": null,
            "bottom": null,
            "display": null,
            "flex": null,
            "flex_flow": null,
            "grid_area": null,
            "grid_auto_columns": null,
            "grid_auto_flow": null,
            "grid_auto_rows": null,
            "grid_column": null,
            "grid_gap": null,
            "grid_row": null,
            "grid_template_areas": null,
            "grid_template_columns": null,
            "grid_template_rows": null,
            "height": null,
            "justify_content": null,
            "justify_items": null,
            "left": null,
            "margin": null,
            "max_height": null,
            "max_width": null,
            "min_height": null,
            "min_width": null,
            "object_fit": null,
            "object_position": null,
            "order": null,
            "overflow": null,
            "overflow_x": null,
            "overflow_y": null,
            "padding": null,
            "right": null,
            "top": null,
            "visibility": null,
            "width": "100%"
          }
        },
        "6fdc26356c9040779168bcce74f010c7": {
          "model_module": "@jupyter-widgets/controls",
          "model_name": "ProgressStyleModel",
          "model_module_version": "1.5.0",
          "state": {
            "_model_module": "@jupyter-widgets/controls",
            "_model_module_version": "1.5.0",
            "_model_name": "ProgressStyleModel",
            "_view_count": null,
            "_view_module": "@jupyter-widgets/base",
            "_view_module_version": "1.2.0",
            "_view_name": "StyleView",
            "bar_color": null,
            "description_width": "initial"
          }
        },
        "ca3dde7059d2403f866fac5bbbf1275a": {
          "model_module": "@jupyter-widgets/base",
          "model_name": "LayoutModel",
          "model_module_version": "1.2.0",
          "state": {
            "_model_module": "@jupyter-widgets/base",
            "_model_module_version": "1.2.0",
            "_model_name": "LayoutModel",
            "_view_count": null,
            "_view_module": "@jupyter-widgets/base",
            "_view_module_version": "1.2.0",
            "_view_name": "LayoutView",
            "align_content": null,
            "align_items": null,
            "align_self": null,
            "border": null,
            "bottom": null,
            "display": null,
            "flex": null,
            "flex_flow": null,
            "grid_area": null,
            "grid_auto_columns": null,
            "grid_auto_flow": null,
            "grid_auto_rows": null,
            "grid_column": null,
            "grid_gap": null,
            "grid_row": null,
            "grid_template_areas": null,
            "grid_template_columns": null,
            "grid_template_rows": null,
            "height": null,
            "justify_content": null,
            "justify_items": null,
            "left": null,
            "margin": null,
            "max_height": null,
            "max_width": null,
            "min_height": null,
            "min_width": null,
            "object_fit": null,
            "object_position": null,
            "order": null,
            "overflow": null,
            "overflow_x": null,
            "overflow_y": null,
            "padding": null,
            "right": null,
            "top": null,
            "visibility": null,
            "width": null
          }
        },
        "2b897cce2f6f418f9074e95842334bbd": {
          "model_module": "@jupyter-widgets/controls",
          "model_name": "DescriptionStyleModel",
          "model_module_version": "1.5.0",
          "state": {
            "_model_module": "@jupyter-widgets/controls",
            "_model_module_version": "1.5.0",
            "_model_name": "DescriptionStyleModel",
            "_view_count": null,
            "_view_module": "@jupyter-widgets/base",
            "_view_module_version": "1.2.0",
            "_view_name": "StyleView",
            "description_width": ""
          }
        },
        "8c1ce0797b344b64a4a7cfb938617ee0": {
          "model_module": "@jupyter-widgets/base",
          "model_name": "LayoutModel",
          "model_module_version": "1.2.0",
          "state": {
            "_model_module": "@jupyter-widgets/base",
            "_model_module_version": "1.2.0",
            "_model_name": "LayoutModel",
            "_view_count": null,
            "_view_module": "@jupyter-widgets/base",
            "_view_module_version": "1.2.0",
            "_view_name": "LayoutView",
            "align_content": null,
            "align_items": null,
            "align_self": null,
            "border": null,
            "bottom": null,
            "display": null,
            "flex": null,
            "flex_flow": null,
            "grid_area": null,
            "grid_auto_columns": null,
            "grid_auto_flow": null,
            "grid_auto_rows": null,
            "grid_column": null,
            "grid_gap": null,
            "grid_row": null,
            "grid_template_areas": null,
            "grid_template_columns": null,
            "grid_template_rows": null,
            "height": null,
            "justify_content": null,
            "justify_items": null,
            "left": null,
            "margin": null,
            "max_height": null,
            "max_width": null,
            "min_height": null,
            "min_width": null,
            "object_fit": null,
            "object_position": null,
            "order": null,
            "overflow": null,
            "overflow_x": null,
            "overflow_y": null,
            "padding": null,
            "right": null,
            "top": null,
            "visibility": null,
            "width": null
          }
        },
        "1f614060f5974a01b6e419bbce807b3e": {
          "model_module": "@jupyter-widgets/controls",
          "model_name": "DescriptionStyleModel",
          "model_module_version": "1.5.0",
          "state": {
            "_model_module": "@jupyter-widgets/controls",
            "_model_module_version": "1.5.0",
            "_model_name": "DescriptionStyleModel",
            "_view_count": null,
            "_view_module": "@jupyter-widgets/base",
            "_view_module_version": "1.2.0",
            "_view_name": "StyleView",
            "description_width": ""
          }
        },
        "e4429f7d1dfb497eafbe1fb1d3b66c5e": {
          "model_module": "@jupyter-widgets/base",
          "model_name": "LayoutModel",
          "model_module_version": "1.2.0",
          "state": {
            "_model_module": "@jupyter-widgets/base",
            "_model_module_version": "1.2.0",
            "_model_name": "LayoutModel",
            "_view_count": null,
            "_view_module": "@jupyter-widgets/base",
            "_view_module_version": "1.2.0",
            "_view_name": "LayoutView",
            "align_content": null,
            "align_items": null,
            "align_self": null,
            "border": null,
            "bottom": null,
            "display": null,
            "flex": null,
            "flex_flow": null,
            "grid_area": null,
            "grid_auto_columns": null,
            "grid_auto_flow": null,
            "grid_auto_rows": null,
            "grid_column": null,
            "grid_gap": null,
            "grid_row": null,
            "grid_template_areas": null,
            "grid_template_columns": null,
            "grid_template_rows": null,
            "height": "120px",
            "justify_content": null,
            "justify_items": null,
            "left": null,
            "margin": null,
            "max_height": null,
            "max_width": null,
            "min_height": null,
            "min_width": null,
            "object_fit": null,
            "object_position": null,
            "order": null,
            "overflow": null,
            "overflow_x": null,
            "overflow_y": null,
            "padding": null,
            "right": null,
            "top": null,
            "visibility": null,
            "width": "100%"
          }
        },
        "2d6efeb97a9d4bfc8cb3d0e705e7968f": {
          "model_module": "@jupyter-widgets/controls",
          "model_name": "DescriptionStyleModel",
          "model_module_version": "1.5.0",
          "state": {
            "_model_module": "@jupyter-widgets/controls",
            "_model_module_version": "1.5.0",
            "_model_name": "DescriptionStyleModel",
            "_view_count": null,
            "_view_module": "@jupyter-widgets/base",
            "_view_module_version": "1.2.0",
            "_view_name": "StyleView",
            "description_width": ""
          }
        },
        "c97998e1ce7e47fd97a92527f186c5eb": {
          "model_module": "@jupyter-widgets/controls",
          "model_name": "ButtonModel",
          "model_module_version": "1.5.0",
          "state": {
            "_dom_classes": [],
            "_model_module": "@jupyter-widgets/controls",
            "_model_module_version": "1.5.0",
            "_model_name": "ButtonModel",
            "_view_count": null,
            "_view_module": "@jupyter-widgets/controls",
            "_view_module_version": "1.5.0",
            "_view_name": "ButtonView",
            "button_style": "primary",
            "description": "Submit",
            "disabled": false,
            "icon": "",
            "layout": "IPY_MODEL_ecc3653f32854bf8b0abbacee35f9f07",
            "style": "IPY_MODEL_ea3d5bb7826e44a48dae573e2cf5e3ca",
            "tooltip": ""
          }
        },
        "945e8b9326324ebcac364612d19aed04": {
          "model_module": "@jupyter-widgets/controls",
          "model_name": "ButtonModel",
          "model_module_version": "1.5.0",
          "state": {
            "_dom_classes": [],
            "_model_module": "@jupyter-widgets/controls",
            "_model_module_version": "1.5.0",
            "_model_name": "ButtonModel",
            "_view_count": null,
            "_view_module": "@jupyter-widgets/controls",
            "_view_module_version": "1.5.0",
            "_view_name": "ButtonView",
            "button_style": "warning",
            "description": "Retry",
            "disabled": false,
            "icon": "",
            "layout": "IPY_MODEL_9625441d91a04c8f96d8f6b317956622",
            "style": "IPY_MODEL_fef9d6d2e61a4155ab93b67b37895d31",
            "tooltip": ""
          }
        },
        "3de3382024ee41bbad9eff3f8a11debb": {
          "model_module": "@jupyter-widgets/controls",
          "model_name": "ButtonModel",
          "model_module_version": "1.5.0",
          "state": {
            "_dom_classes": [],
            "_model_module": "@jupyter-widgets/controls",
            "_model_module_version": "1.5.0",
            "_model_name": "ButtonModel",
            "_view_count": null,
            "_view_module": "@jupyter-widgets/controls",
            "_view_module_version": "1.5.0",
            "_view_name": "ButtonView",
            "button_style": "success",
            "description": "Next",
            "disabled": false,
            "icon": "",
            "layout": "IPY_MODEL_658804efe5de498ca0538165de33a844",
            "style": "IPY_MODEL_40e31efdb2324e7088b3c2c3489932fc",
            "tooltip": ""
          }
        },
        "44294491715d40a3ac31e2ac99dd4858": {
          "model_module": "@jupyter-widgets/base",
          "model_name": "LayoutModel",
          "model_module_version": "1.2.0",
          "state": {
            "_model_module": "@jupyter-widgets/base",
            "_model_module_version": "1.2.0",
            "_model_name": "LayoutModel",
            "_view_count": null,
            "_view_module": "@jupyter-widgets/base",
            "_view_module_version": "1.2.0",
            "_view_name": "LayoutView",
            "align_content": null,
            "align_items": null,
            "align_self": null,
            "border": null,
            "bottom": null,
            "display": null,
            "flex": null,
            "flex_flow": null,
            "grid_area": null,
            "grid_auto_columns": null,
            "grid_auto_flow": null,
            "grid_auto_rows": null,
            "grid_column": null,
            "grid_gap": null,
            "grid_row": null,
            "grid_template_areas": null,
            "grid_template_columns": null,
            "grid_template_rows": null,
            "height": null,
            "justify_content": "center",
            "justify_items": null,
            "left": null,
            "margin": null,
            "max_height": null,
            "max_width": null,
            "min_height": null,
            "min_width": null,
            "object_fit": null,
            "object_position": null,
            "order": null,
            "overflow": null,
            "overflow_x": null,
            "overflow_y": null,
            "padding": null,
            "right": null,
            "top": null,
            "visibility": null,
            "width": null
          }
        },
        "f6a1e06b7be048ea883f02d1fe62f0eb": {
          "model_module": "@jupyter-widgets/base",
          "model_name": "LayoutModel",
          "model_module_version": "1.2.0",
          "state": {
            "_model_module": "@jupyter-widgets/base",
            "_model_module_version": "1.2.0",
            "_model_name": "LayoutModel",
            "_view_count": null,
            "_view_module": "@jupyter-widgets/base",
            "_view_module_version": "1.2.0",
            "_view_name": "LayoutView",
            "align_content": null,
            "align_items": null,
            "align_self": null,
            "border": null,
            "bottom": null,
            "display": null,
            "flex": null,
            "flex_flow": null,
            "grid_area": null,
            "grid_auto_columns": null,
            "grid_auto_flow": null,
            "grid_auto_rows": null,
            "grid_column": null,
            "grid_gap": null,
            "grid_row": null,
            "grid_template_areas": null,
            "grid_template_columns": null,
            "grid_template_rows": null,
            "height": null,
            "justify_content": null,
            "justify_items": null,
            "left": null,
            "margin": null,
            "max_height": null,
            "max_width": null,
            "min_height": null,
            "min_width": null,
            "object_fit": null,
            "object_position": null,
            "order": null,
            "overflow": null,
            "overflow_x": null,
            "overflow_y": null,
            "padding": null,
            "right": null,
            "top": null,
            "visibility": null,
            "width": null
          }
        },
        "d32428a802db4a8cb44db897b8921e3e": {
          "model_module": "@jupyter-widgets/controls",
          "model_name": "DescriptionStyleModel",
          "model_module_version": "1.5.0",
          "state": {
            "_model_module": "@jupyter-widgets/controls",
            "_model_module_version": "1.5.0",
            "_model_name": "DescriptionStyleModel",
            "_view_count": null,
            "_view_module": "@jupyter-widgets/base",
            "_view_module_version": "1.2.0",
            "_view_name": "StyleView",
            "description_width": ""
          }
        },
        "ecc3653f32854bf8b0abbacee35f9f07": {
          "model_module": "@jupyter-widgets/base",
          "model_name": "LayoutModel",
          "model_module_version": "1.2.0",
          "state": {
            "_model_module": "@jupyter-widgets/base",
            "_model_module_version": "1.2.0",
            "_model_name": "LayoutModel",
            "_view_count": null,
            "_view_module": "@jupyter-widgets/base",
            "_view_module_version": "1.2.0",
            "_view_name": "LayoutView",
            "align_content": null,
            "align_items": null,
            "align_self": null,
            "border": null,
            "bottom": null,
            "display": "inline-block",
            "flex": null,
            "flex_flow": null,
            "grid_area": null,
            "grid_auto_columns": null,
            "grid_auto_flow": null,
            "grid_auto_rows": null,
            "grid_column": null,
            "grid_gap": null,
            "grid_row": null,
            "grid_template_areas": null,
            "grid_template_columns": null,
            "grid_template_rows": null,
            "height": null,
            "justify_content": null,
            "justify_items": null,
            "left": null,
            "margin": null,
            "max_height": null,
            "max_width": null,
            "min_height": null,
            "min_width": null,
            "object_fit": null,
            "object_position": null,
            "order": null,
            "overflow": null,
            "overflow_x": null,
            "overflow_y": null,
            "padding": null,
            "right": null,
            "top": null,
            "visibility": null,
            "width": "100px"
          }
        },
        "ea3d5bb7826e44a48dae573e2cf5e3ca": {
          "model_module": "@jupyter-widgets/controls",
          "model_name": "ButtonStyleModel",
          "model_module_version": "1.5.0",
          "state": {
            "_model_module": "@jupyter-widgets/controls",
            "_model_module_version": "1.5.0",
            "_model_name": "ButtonStyleModel",
            "_view_count": null,
            "_view_module": "@jupyter-widgets/base",
            "_view_module_version": "1.2.0",
            "_view_name": "StyleView",
            "button_color": null,
            "font_weight": ""
          }
        },
        "9625441d91a04c8f96d8f6b317956622": {
          "model_module": "@jupyter-widgets/base",
          "model_name": "LayoutModel",
          "model_module_version": "1.2.0",
          "state": {
            "_model_module": "@jupyter-widgets/base",
            "_model_module_version": "1.2.0",
            "_model_name": "LayoutModel",
            "_view_count": null,
            "_view_module": "@jupyter-widgets/base",
            "_view_module_version": "1.2.0",
            "_view_name": "LayoutView",
            "align_content": null,
            "align_items": null,
            "align_self": null,
            "border": null,
            "bottom": null,
            "display": "none",
            "flex": null,
            "flex_flow": null,
            "grid_area": null,
            "grid_auto_columns": null,
            "grid_auto_flow": null,
            "grid_auto_rows": null,
            "grid_column": null,
            "grid_gap": null,
            "grid_row": null,
            "grid_template_areas": null,
            "grid_template_columns": null,
            "grid_template_rows": null,
            "height": null,
            "justify_content": null,
            "justify_items": null,
            "left": null,
            "margin": null,
            "max_height": null,
            "max_width": null,
            "min_height": null,
            "min_width": null,
            "object_fit": null,
            "object_position": null,
            "order": null,
            "overflow": null,
            "overflow_x": null,
            "overflow_y": null,
            "padding": null,
            "right": null,
            "top": null,
            "visibility": null,
            "width": "100px"
          }
        },
        "fef9d6d2e61a4155ab93b67b37895d31": {
          "model_module": "@jupyter-widgets/controls",
          "model_name": "ButtonStyleModel",
          "model_module_version": "1.5.0",
          "state": {
            "_model_module": "@jupyter-widgets/controls",
            "_model_module_version": "1.5.0",
            "_model_name": "ButtonStyleModel",
            "_view_count": null,
            "_view_module": "@jupyter-widgets/base",
            "_view_module_version": "1.2.0",
            "_view_name": "StyleView",
            "button_color": null,
            "font_weight": ""
          }
        },
        "658804efe5de498ca0538165de33a844": {
          "model_module": "@jupyter-widgets/base",
          "model_name": "LayoutModel",
          "model_module_version": "1.2.0",
          "state": {
            "_model_module": "@jupyter-widgets/base",
            "_model_module_version": "1.2.0",
            "_model_name": "LayoutModel",
            "_view_count": null,
            "_view_module": "@jupyter-widgets/base",
            "_view_module_version": "1.2.0",
            "_view_name": "LayoutView",
            "align_content": null,
            "align_items": null,
            "align_self": null,
            "border": null,
            "bottom": null,
            "display": "none",
            "flex": null,
            "flex_flow": null,
            "grid_area": null,
            "grid_auto_columns": null,
            "grid_auto_flow": null,
            "grid_auto_rows": null,
            "grid_column": null,
            "grid_gap": null,
            "grid_row": null,
            "grid_template_areas": null,
            "grid_template_columns": null,
            "grid_template_rows": null,
            "height": null,
            "justify_content": null,
            "justify_items": null,
            "left": null,
            "margin": null,
            "max_height": null,
            "max_width": null,
            "min_height": null,
            "min_width": null,
            "object_fit": null,
            "object_position": null,
            "order": null,
            "overflow": null,
            "overflow_x": null,
            "overflow_y": null,
            "padding": null,
            "right": null,
            "top": null,
            "visibility": null,
            "width": "100px"
          }
        },
        "40e31efdb2324e7088b3c2c3489932fc": {
          "model_module": "@jupyter-widgets/controls",
          "model_name": "ButtonStyleModel",
          "model_module_version": "1.5.0",
          "state": {
            "_model_module": "@jupyter-widgets/controls",
            "_model_module_version": "1.5.0",
            "_model_name": "ButtonStyleModel",
            "_view_count": null,
            "_view_module": "@jupyter-widgets/base",
            "_view_module_version": "1.2.0",
            "_view_name": "StyleView",
            "button_color": null,
            "font_weight": ""
          }
        },
        "42eccfab2db942d7bb42ce6839f2bfb2": {
          "model_module": "@jupyter-widgets/base",
          "model_name": "LayoutModel",
          "model_module_version": "1.2.0",
          "state": {
            "_model_module": "@jupyter-widgets/base",
            "_model_module_version": "1.2.0",
            "_model_name": "LayoutModel",
            "_view_count": null,
            "_view_module": "@jupyter-widgets/base",
            "_view_module_version": "1.2.0",
            "_view_name": "LayoutView",
            "align_content": null,
            "align_items": null,
            "align_self": null,
            "border": null,
            "bottom": null,
            "display": null,
            "flex": null,
            "flex_flow": null,
            "grid_area": null,
            "grid_auto_columns": null,
            "grid_auto_flow": null,
            "grid_auto_rows": null,
            "grid_column": null,
            "grid_gap": null,
            "grid_row": null,
            "grid_template_areas": null,
            "grid_template_columns": null,
            "grid_template_rows": null,
            "height": null,
            "justify_content": null,
            "justify_items": null,
            "left": null,
            "margin": null,
            "max_height": null,
            "max_width": null,
            "min_height": null,
            "min_width": null,
            "object_fit": null,
            "object_position": null,
            "order": null,
            "overflow": null,
            "overflow_x": null,
            "overflow_y": null,
            "padding": null,
            "right": null,
            "top": null,
            "visibility": null,
            "width": null
          }
        },
        "72aa70d4ceef404d8f2a972df4533867": {
          "model_module": "@jupyter-widgets/base",
          "model_name": "LayoutModel",
          "model_module_version": "1.2.0",
          "state": {
            "_model_module": "@jupyter-widgets/base",
            "_model_module_version": "1.2.0",
            "_model_name": "LayoutModel",
            "_view_count": null,
            "_view_module": "@jupyter-widgets/base",
            "_view_module_version": "1.2.0",
            "_view_name": "LayoutView",
            "align_content": null,
            "align_items": null,
            "align_self": null,
            "border": null,
            "bottom": null,
            "display": null,
            "flex": null,
            "flex_flow": null,
            "grid_area": null,
            "grid_auto_columns": null,
            "grid_auto_flow": null,
            "grid_auto_rows": null,
            "grid_column": null,
            "grid_gap": null,
            "grid_row": null,
            "grid_template_areas": null,
            "grid_template_columns": null,
            "grid_template_rows": null,
            "height": null,
            "justify_content": null,
            "justify_items": null,
            "left": null,
            "margin": null,
            "max_height": null,
            "max_width": null,
            "min_height": null,
            "min_width": null,
            "object_fit": null,
            "object_position": null,
            "order": null,
            "overflow": null,
            "overflow_x": null,
            "overflow_y": null,
            "padding": null,
            "right": null,
            "top": null,
            "visibility": null,
            "width": null
          }
        },
        "9325899f463f4765aa2131b7b2a8ba18": {
          "model_module": "@jupyter-widgets/base",
          "model_name": "LayoutModel",
          "model_module_version": "1.2.0",
          "state": {
            "_model_module": "@jupyter-widgets/base",
            "_model_module_version": "1.2.0",
            "_model_name": "LayoutModel",
            "_view_count": null,
            "_view_module": "@jupyter-widgets/base",
            "_view_module_version": "1.2.0",
            "_view_name": "LayoutView",
            "align_content": null,
            "align_items": null,
            "align_self": null,
            "border": null,
            "bottom": null,
            "display": null,
            "flex": null,
            "flex_flow": null,
            "grid_area": null,
            "grid_auto_columns": null,
            "grid_auto_flow": null,
            "grid_auto_rows": null,
            "grid_column": null,
            "grid_gap": null,
            "grid_row": null,
            "grid_template_areas": null,
            "grid_template_columns": null,
            "grid_template_rows": null,
            "height": null,
            "justify_content": null,
            "justify_items": null,
            "left": null,
            "margin": null,
            "max_height": null,
            "max_width": null,
            "min_height": null,
            "min_width": null,
            "object_fit": null,
            "object_position": null,
            "order": null,
            "overflow": null,
            "overflow_x": null,
            "overflow_y": null,
            "padding": null,
            "right": null,
            "top": null,
            "visibility": null,
            "width": null
          }
        },
        "cb851617f8da4cfd9ee628bd1ce7fe3f": {
          "model_module": "@jupyter-widgets/controls",
          "model_name": "HTMLModel",
          "model_module_version": "1.5.0",
          "state": {
            "_dom_classes": [],
            "_model_module": "@jupyter-widgets/controls",
            "_model_module_version": "1.5.0",
            "_model_name": "HTMLModel",
            "_view_count": null,
            "_view_module": "@jupyter-widgets/controls",
            "_view_module_version": "1.5.0",
            "_view_name": "HTMLView",
            "description": "",
            "description_tooltip": null,
            "layout": "IPY_MODEL_135ded21847b4636b06067600b26689d",
            "placeholder": "​",
            "style": "IPY_MODEL_e636c2979efe4ecdac0e1ef7edee43cb",
            "value": "<h3>artists (Empty)</h3>"
          }
        },
        "135ded21847b4636b06067600b26689d": {
          "model_module": "@jupyter-widgets/base",
          "model_name": "LayoutModel",
          "model_module_version": "1.2.0",
          "state": {
            "_model_module": "@jupyter-widgets/base",
            "_model_module_version": "1.2.0",
            "_model_name": "LayoutModel",
            "_view_count": null,
            "_view_module": "@jupyter-widgets/base",
            "_view_module_version": "1.2.0",
            "_view_name": "LayoutView",
            "align_content": null,
            "align_items": null,
            "align_self": null,
            "border": null,
            "bottom": null,
            "display": null,
            "flex": null,
            "flex_flow": null,
            "grid_area": null,
            "grid_auto_columns": null,
            "grid_auto_flow": null,
            "grid_auto_rows": null,
            "grid_column": null,
            "grid_gap": null,
            "grid_row": null,
            "grid_template_areas": null,
            "grid_template_columns": null,
            "grid_template_rows": null,
            "height": null,
            "justify_content": null,
            "justify_items": null,
            "left": null,
            "margin": null,
            "max_height": null,
            "max_width": null,
            "min_height": null,
            "min_width": null,
            "object_fit": null,
            "object_position": null,
            "order": null,
            "overflow": null,
            "overflow_x": null,
            "overflow_y": null,
            "padding": null,
            "right": null,
            "top": null,
            "visibility": null,
            "width": null
          }
        },
        "e636c2979efe4ecdac0e1ef7edee43cb": {
          "model_module": "@jupyter-widgets/controls",
          "model_name": "DescriptionStyleModel",
          "model_module_version": "1.5.0",
          "state": {
            "_model_module": "@jupyter-widgets/controls",
            "_model_module_version": "1.5.0",
            "_model_name": "DescriptionStyleModel",
            "_view_count": null,
            "_view_module": "@jupyter-widgets/base",
            "_view_module_version": "1.2.0",
            "_view_name": "StyleView",
            "description_width": ""
          }
        }
      }
    }
  },
  "cells": [
    {
      "cell_type": "markdown",
      "metadata": {
        "id": "view-in-github",
        "colab_type": "text"
      },
      "source": [
        "<a href=\"https://colab.research.google.com/github/brendanpshea/database_sql/blob/main/Database_06_WritingData.ipynb\" target=\"_parent\"><img src=\"https://colab.research.google.com/assets/colab-badge.svg\" alt=\"Open In Colab\"/></a>"
      ]
    },
    {
      "cell_type": "markdown",
      "source": [
        "# Writing Data With Rollingstone's Greatest Albums\n",
        "### Databases Through Pop Culture | Brendan Shea, PhD\n",
        "\n",
        "In this chapter, we dive into the task of writing data to SQL tables, a fundamental operation in database management. We explore the use of the INSERT INTO statement to add new rows of data to tables, both for single-row and multiple-row insertions. By working with a sample database based on Rolling Stone's Greatest Albums of All Time, we illustrate the process of creating tables, defining constraints, and populating them with data.\n",
        "\n",
        "The chapter also covers important topics related to data manipulation, such as handling constraint violations, auto-incrementing primary keys, and using subqueries in INSERT statements. We discuss the differences between deleting data using the DELETE statement and dropping entire tables with DROP TABLE.\n",
        "\n",
        "Moreover, we introduce the concepts of \"soft delete\" and the UPDATE statement for modifying existing data. We explore the use of triggers to automatically execute specific actions in response to database events and demonstrate how to implement logging mechanisms using triggers.\n",
        "\n",
        "Finally, we go beyond SQL and explore database scripting using Linux scripts and various programming languages. We discuss the benefits of automating database tasks and leveraging the power of scripting for data insertion, manipulation, and maintenance.\n",
        "\n",
        "By the end of this chapter, readers will have a solid understanding of writing data to SQL tables, handling constraints, and utilizing advanced techniques for data manipulation and automation.\n",
        "\n",
        "Learning Outcomes:\n",
        "\n",
        "1.  Understand the process of creating tables and defining constraints in SQL.\n",
        "2.  Learn how to insert single and multiple rows of data into tables using the INSERT INTO statement.\n",
        "3.  Recognize and handle constraint violations during data insertion.\n",
        "4.  Utilize auto-incrementing primary keys for efficient data insertion.\n",
        "5.  Employ subqueries in INSERT statements for dynamic data insertion.\n",
        "6.  Differentiate between deleting data with DELETE and dropping tables with DROP TABLE.\n",
        "7.  Implement \"soft delete\" functionality to retain historical data.\n",
        "8.  Modify existing data using the UPDATE statement.\n",
        "9.  Create triggers to automate actions based on database events.\n",
        "10. Implement logging mechanisms using triggers for auditing and monitoring purposes.\n",
        "11. Explore database scripting using Linux scripts and various programming languages.\n",
        "12. Understand the use of Object-Relational Modeling (ORM) tools to interact with databases.\n",
        "\n",
        "Keywords: SQL, INSERT INTO, constraints, DELETE, DROP TABLE, soft delete, UPDATE, triggers, logging, database scripting"
      ],
      "metadata": {
        "id": "xXEKyIB9Gr0I"
      }
    },
    {
      "cell_type": "markdown",
      "source": [
        "## Brendan's Lecture"
      ],
      "metadata": {
        "id": "ViE-g6gc0wUl"
      }
    },
    {
      "cell_type": "code",
      "source": [
        "##Click here to launch my lecture\n",
        "from IPython.display import YouTubeVideo\n",
        "YouTubeVideo('YEPE46ASWcE', width=800, height=500)"
      ],
      "metadata": {
        "id": "BST3MBug0vxA"
      },
      "execution_count": null,
      "outputs": []
    },
    {
      "cell_type": "markdown",
      "source": [
        "### BrendyBot is Here to Answer Your Questions\n",
        "![image.png](https://github.com/brendanpshea/colab-utilities/raw/main/brendy_bot_pic.png)\n",
        "\n",
        "If you have questions about the content of this chapter, you can try out \"BrendyBot\", an AI chat bot I've trained on the lecture notes for this class (note that BrendyBot is stil experimental, and can definitley make mistakes!).\n",
        "\n",
        "https://poe.com/BrendyBot"
      ],
      "metadata": {
        "id": "zPll6SbSsnEq"
      }
    },
    {
      "cell_type": "markdown",
      "source": [
        "## Creating Tables for Rolling Stone's Greatest Albums of All Time\n",
        "For this chapter, we'll be creating and populating a database based on a small subset of the 2023 version of Rollingstone Magazine's \"500 greatest albums of all time\".\n",
        "\n",
        "Before we can start inserting data into our database, we need to create the necessary tables. In this case, we'll create two tables: Artist and Album. Let's define the structure of these tables and include some constraints to ensure data integrity."
      ],
      "metadata": {
        "id": "LR5P5_rtGuBH"
      }
    },
    {
      "cell_type": "code",
      "source": [
        "!pip install prettytable==0.7.2 --force-reinstall -q\n",
        "%reload_ext sql\n",
        "%sql sqlite:///greatest.db"
      ],
      "metadata": {
        "id": "M7SnjbRdGxln"
      },
      "execution_count": null,
      "outputs": []
    },
    {
      "cell_type": "code",
      "source": [
        "%%sql\n",
        "DROP TABLE IF EXISTS Artist;\n",
        "DROP TABLE IF EXISTS Album;\n",
        "CREATE TABLE Artist (\n",
        "    ArtistID INTEGER PRIMARY KEY AUTOINCREMENT,\n",
        "    Name VARCHAR(100) NOT NULL,\n",
        "    Country VARCHAR(50),\n",
        "    Founded INT\n",
        "    CHECK (Founded >= 1900 AND Founded <= 2023)\n",
        ");\n",
        "\n",
        "CREATE TABLE Album (\n",
        "    AlbumID INTEGER PRIMARY KEY AUTOINCREMENT,\n",
        "    Title VARCHAR(100) NOT NULL,\n",
        "    ArtistID INT,\n",
        "    ReleaseYear INT,\n",
        "    Genre VARCHAR(50),\n",
        "    Ranking,\n",
        "    FOREIGN KEY (ArtistID) REFERENCES Artist(ArtistID),\n",
        "    CHECK (ReleaseYear >= 1900 AND ReleaseYear <= 2023),\n",
        "    CHECK (Ranking >= 1 AND Ranking <= 500)\n",
        ");\n",
        "\n",
        "--enable foreign key contraints\n",
        "PRAGMA foreign_keys = ON;"
      ],
      "metadata": {
        "colab": {
          "base_uri": "https://localhost:8080/"
        },
        "id": "syndhaJIGv8_",
        "outputId": "2fc6e90e-e7ac-414e-d925-d28ce38da7f3"
      },
      "execution_count": null,
      "outputs": [
        {
          "output_type": "stream",
          "name": "stdout",
          "text": [
            " * sqlite:///greatest.db\n",
            "Done.\n",
            "Done.\n",
            "Done.\n",
            "Done.\n",
            "Done.\n"
          ]
        },
        {
          "output_type": "execute_result",
          "data": {
            "text/plain": [
              "[]"
            ]
          },
          "metadata": {},
          "execution_count": 2
        }
      ]
    },
    {
      "cell_type": "markdown",
      "source": [
        "Let's break down the key aspects of these table definitions:\n",
        "\n",
        "-   The `Artist` table has an `ArtistID` column as the **primary key**, which uniquely identifies each artist. The `Name` column is marked as `NOT NULL`, ensuring that every artist has a name. We also have `Country` and `Founded` columns to store additional information about the artists.\n",
        "-   The `Album` table has an `AlbumID` column as the primary key. The `Title` column is marked as `NOT NULL` to ensure that every album has a title. We have a foreign key `ArtistID` that references the `ArtistID` column in the `Artist` table, establishing a relationship between albums and artists. The `ReleaseYear` and `Genre` columns provide additional details about each album.\n",
        "-  We have specified that the primary keys (`ArtistID` and `AlbumID`) are both `NOT NULL` and `AUTOINCREMENT`. This means they cannot be left blank and that, if they are left blank, SQL will assign the next available integer to them.\n",
        "-   We include **check constraints** in both tables to enforce certain conditions. In the `Artist` table, we ensure that the `Founded` year is between 1900 and 2023. Similarly, in the `Album` table, we check that the `ReleaseYear` is within the same range.\n",
        "- Finally, we enable **foreign key constraints**, which means that SQLite will ensure that attempts to update, delete, or insert data that causes problems for this will fail.\n",
        "\n",
        "By creating these tables with appropriate constraints, we set up a solid foundation for our database. The constraints help maintain data integrity by preventing invalid or inconsistent data from being inserted into the tables.\n",
        "\n",
        "Now that we have our tables ready, we can start inserting data into them using the `INSERT INTO` statement, which we'll explore in the next section."
      ],
      "metadata": {
        "id": "6Lkm3s-0G5lf"
      }
    },
    {
      "cell_type": "markdown",
      "source": [
        "## Using INSERT INTO (Single Row)\n",
        "\n",
        "\n",
        "Now that we have our `Artist` and `Album` tables created, let's explore how to insert a single row of data into each table using the `INSERT INTO` statement.\n",
        "\n",
        "The basic syntax for inserting a single row is as follows:\n",
        "\n",
        "```sql\n",
        "INSERT INTO table_name (column1, column2, ...)\n",
        "VALUES (value1, value2, ...);\n",
        "```\n",
        "\n",
        "Let's insert a single artist into the `Artist` table:"
      ],
      "metadata": {
        "id": "5LobT9FQG-in"
      }
    },
    {
      "cell_type": "code",
      "source": [
        "%%sql\n",
        "--Insert Marvin Gaye\n",
        "INSERT INTO Artist (ArtistID, Name, Country, Founded)\n",
        "VALUES (1, 'Marvin Gaye', 'United States', 1939);"
      ],
      "metadata": {
        "colab": {
          "base_uri": "https://localhost:8080/"
        },
        "id": "UhJnB4bnHIZ_",
        "outputId": "9a266c54-3e2d-4f03-d1e0-7ea838f01a1f"
      },
      "execution_count": null,
      "outputs": [
        {
          "output_type": "stream",
          "name": "stdout",
          "text": [
            " * sqlite:///greatest.db\n",
            "1 rows affected.\n"
          ]
        },
        {
          "output_type": "execute_result",
          "data": {
            "text/plain": [
              "[]"
            ]
          },
          "metadata": {},
          "execution_count": 3
        }
      ]
    },
    {
      "cell_type": "markdown",
      "source": [
        "In this example, we specify the table name `Artist` and list the columns we want to insert data into (`ArtistID`, `Name`, `Country`, `Founded`). We then provide the corresponding values for each column using the `VALUES` clause. The values are listed in the same order as the columns specified.\n",
        "\n",
        "Now, let's insert a single album into the `Album` table:"
      ],
      "metadata": {
        "id": "xFudKmc0HK8A"
      }
    },
    {
      "cell_type": "code",
      "source": [
        "%%sql\n",
        "-- Insert What's Going On\n",
        "INSERT INTO Album (AlbumID, Title, ArtistID, ReleaseYear,Genre, Ranking)\n",
        "VALUES (1, 'What''s Going On', 1, 1971, 'Soul', 1);"
      ],
      "metadata": {
        "colab": {
          "base_uri": "https://localhost:8080/"
        },
        "id": "HkPiZmSqHN2X",
        "outputId": "613c9bc9-e21e-4bd5-9818-4344f255e7f5"
      },
      "execution_count": null,
      "outputs": [
        {
          "output_type": "stream",
          "name": "stdout",
          "text": [
            " * sqlite:///greatest.db\n",
            "1 rows affected.\n"
          ]
        },
        {
          "output_type": "execute_result",
          "data": {
            "text/plain": [
              "[]"
            ]
          },
          "metadata": {},
          "execution_count": 4
        }
      ]
    },
    {
      "cell_type": "code",
      "source": [
        "%sql SELECT * FROM Album;"
      ],
      "metadata": {
        "colab": {
          "base_uri": "https://localhost:8080/",
          "height": 98
        },
        "id": "mrlM8pH2IRgX",
        "outputId": "09ef967d-1a10-4952-eaf2-49be13d877ff"
      },
      "execution_count": null,
      "outputs": [
        {
          "output_type": "stream",
          "name": "stdout",
          "text": [
            " * sqlite:///greatest.db\n",
            "Done.\n"
          ]
        },
        {
          "output_type": "execute_result",
          "data": {
            "text/plain": [
              "[(1, \"What's Going On\", 1, 1971, 'Soul', 1)]"
            ],
            "text/html": [
              "<table>\n",
              "    <thead>\n",
              "        <tr>\n",
              "            <th>AlbumID</th>\n",
              "            <th>Title</th>\n",
              "            <th>ArtistID</th>\n",
              "            <th>ReleaseYear</th>\n",
              "            <th>Genre</th>\n",
              "            <th>Ranking</th>\n",
              "        </tr>\n",
              "    </thead>\n",
              "    <tbody>\n",
              "        <tr>\n",
              "            <td>1</td>\n",
              "            <td>What&#x27;s Going On</td>\n",
              "            <td>1</td>\n",
              "            <td>1971</td>\n",
              "            <td>Soul</td>\n",
              "            <td>1</td>\n",
              "        </tr>\n",
              "    </tbody>\n",
              "</table>"
            ]
          },
          "metadata": {},
          "execution_count": 5
        }
      ]
    },
    {
      "cell_type": "markdown",
      "source": [
        "Similarly, we specify the `Album` table and list the columns we want to insert data into. We provide the corresponding values in the `VALUES` clause, ensuring that the `ArtistID` matches the `ArtistID` of the artist we inserted earlier.\n",
        "\n",
        "It's important to note that when inserting data, we need to provide values for all columns that are marked as `NOT NULL` or do not have a default value defined. If we omit a column that allows `NULL` values or has a default value, the database will automatically assign the appropriate value.\n",
        "\n",
        "By using the `INSERT INTO` statement, we can easily add single rows of data to our tables. This is particularly useful when we have specific values for each column and want to insert them one at a time.\n",
        "\n",
        "In the next section, we'll explore how to insert multiple rows of data in a single statement, which is more efficient when dealing with larger datasets."
      ],
      "metadata": {
        "id": "QGxNtd8vHYHX"
      }
    },
    {
      "cell_type": "markdown",
      "source": [
        "## Using INSERT INTO (Multiple Rows)\n",
        "\n",
        "Inserting data one row at a time can be inefficient when you have a large number of records to insert. Fortunately, SQL allows you to insert multiple rows of data in a single `INSERT INTO` statement. This is achieved by specifying multiple sets of values in the `VALUES` clause.\n",
        "\n",
        "Let's insert the top 10 albums from Rolling Stone's Greatest Albums of All Time list into our database. First, we'll insert the artists:"
      ],
      "metadata": {
        "id": "_N1wFsOKHfvm"
      }
    },
    {
      "cell_type": "code",
      "source": [
        "%%sql\n",
        "INSERT INTO Artist (ArtistID, Name, Country, Founded)\n",
        "VALUES\n",
        "(2, 'The Beach Boys', 'United States', 1961),\n",
        "(3, 'Joni Mitchell', 'Canada', 1964),\n",
        "(4, 'Stevie Wonder', 'United States', 1961),\n",
        "(5, 'Nirvana', 'United States', 1987),\n",
        "(6, 'Fleetwood Mac', 'United Kingdom', 1967),\n",
        "(7, 'Prince', 'United States', 1975),\n",
        "(8, 'Bob Dylan', 'United States', 1961),\n",
        "(9, 'Lauryn Hill', 'United States', 1988),\n",
        "(10, 'The Beatles', 'United Kingdom', 1960),\n",
        "(11, 'Radiohead', 'United Kingdom', 1985),\n",
        "(12, 'Kendrick Lamar', 'United States', 2003),\n",
        "(13, 'Public Enemy', 'United States', 1985),\n",
        "(14, 'The Rolling Stones', 'United Kingdom', 1962),\n",
        "(15, 'Aretha Franklin', 'United States', 1956),\n",
        "(16, 'Michael Jackson', 'United States', 1964),\n",
        "(17, 'Kanye West', 'United States', 1996),\n",
        "(19, 'The Clash', 'United Kingdom', 1976);"
      ],
      "metadata": {
        "colab": {
          "base_uri": "https://localhost:8080/"
        },
        "id": "EaTiP8VVHXFe",
        "outputId": "e59645bf-f6ac-4d2c-b2cb-234c3fcb35d0"
      },
      "execution_count": null,
      "outputs": [
        {
          "output_type": "stream",
          "name": "stdout",
          "text": [
            " * sqlite:///greatest.db\n",
            "17 rows affected.\n"
          ]
        },
        {
          "output_type": "execute_result",
          "data": {
            "text/plain": [
              "[]"
            ]
          },
          "metadata": {},
          "execution_count": 6
        }
      ]
    },
    {
      "cell_type": "markdown",
      "source": [
        "Now, let's insert the corresponding albums:"
      ],
      "metadata": {
        "id": "p3H5sHL5Hnmm"
      }
    },
    {
      "cell_type": "code",
      "source": [
        "%%sql\n",
        "INSERT INTO Album (AlbumID, Title, ArtistID, ReleaseYear, Genre, Ranking)\n",
        "VALUES\n",
        "(2, 'Pet Sounds', 2, 1966, 'Rock',2),\n",
        "(3, 'Blue', 3, 1971, 'Folk',3),\n",
        "(4, 'Songs in the Key of Life', 4, 1976, 'Soul',4),\n",
        "(5, 'Nevermind', 5, 1991, 'Grunge',5),\n",
        "(6, 'Rumours', 6, 1977, 'Soft Rock',6),\n",
        "(7, 'Purple Rain', 7, 1984, 'Pop',7),\n",
        "(8, 'Blood on the Tracks', 8, 1975, 'Folk Rock',8),\n",
        "(9, 'The Miseducation of Lauryn Hill', 9, 1998, 'Hip Hop',9),\n",
        "(10, 'Abbey Road', 10, 1969, 'Rock',10),\n",
        "(11, 'Revolver', 10, 1966, 'Rock',11),\n",
        "(12, 'Thriller', 16, 1982, 'Pop',12),\n",
        "(13, 'I Never Loved a Man the Way I Love You', 15, 1967, 'Soul',13),\n",
        "(14, 'Exile on Main Street', 14, 1972, 'Rock',14),\n",
        "(15, 'It Takes a Nation of Millions to Hold Us Back', 13, 1988, 'Hip Hop',15),\n",
        "(16, 'London Calling', 19, 1979, 'Punk',16),\n",
        "(17, 'My Beautiful Dark Twisted Fantasy', 17, 2010, 'Hip Hop',17),\n",
        "(18, 'Highway 61 Revisited', 8, 1965, 'Folk Rock',18),\n",
        "(19, 'To Pimp a Butterfly', 12, 2015, 'Hip Hop',19),\n",
        "(20, 'Kid A', 11, 2000, 'Electronic',20);"
      ],
      "metadata": {
        "colab": {
          "base_uri": "https://localhost:8080/"
        },
        "id": "dUYpMoLiHqgW",
        "outputId": "aee1d895-95b4-4f8a-aa71-4fd62352ca8c"
      },
      "execution_count": null,
      "outputs": [
        {
          "output_type": "stream",
          "name": "stdout",
          "text": [
            " * sqlite:///greatest.db\n",
            "19 rows affected.\n"
          ]
        },
        {
          "output_type": "execute_result",
          "data": {
            "text/plain": [
              "[]"
            ]
          },
          "metadata": {},
          "execution_count": 7
        }
      ]
    },
    {
      "cell_type": "markdown",
      "source": [
        "In these examples, we use a single `INSERT INTO` statement for each table, but we provide multiple sets of values separated by commas. Each set of values represents a new row to be inserted into the table.\n",
        "\n",
        "By inserting multiple rows at once, we can significantly reduce the number of statements required and improve the efficiency of our data insertion process.\n",
        "\n",
        "It's important to ensure that the number of values matches the number of columns specified and that the values adhere to any constraints defined on the table. If there are any violations, such as trying to insert a duplicate primary key value or violating a check constraint, the entire `INSERT INTO` statement will fail, and no rows will be inserted.\n",
        "\n",
        "In the next section, we'll explore what happens when constraints are violated and how to handle such situations."
      ],
      "metadata": {
        "id": "wgvVNp3THp6P"
      }
    },
    {
      "cell_type": "markdown",
      "source": [
        "## What Happens When Constraints Are Violated?\n",
        "\n",
        "Constraints are essential for maintaining data integrity in a database. They enforce rules and restrictions on the data that can be inserted into tables. When attempting to insert data that violates these constraints, SQL will raise an error and prevent the insertion from occurring. Let's explore some common constraint violations and their consequences.\n",
        "\n",
        "### Problems with Primary Keys\n",
        "\n",
        "A primary key uniquely identifies each row in a table. It ensures that no two rows have the same primary key value. If we attempt to insert a row with a primary key value that already exists in the table, SQL will raise a primary key constraint violation error.\n",
        "\n",
        "For example, let's try to insert an artist with an existing `ArtistID`:"
      ],
      "metadata": {
        "id": "uX9PiD8BHRJG"
      }
    },
    {
      "cell_type": "code",
      "source": [
        "%%sql\n",
        "INSERT INTO Artist (ArtistID, Name, Country, Founded)\n",
        "VALUES (1, 'Pink Floyd', 'United Kingdom', 1962);"
      ],
      "metadata": {
        "colab": {
          "base_uri": "https://localhost:8080/"
        },
        "id": "S6u9Ja_LayMu",
        "outputId": "ee32c946-cbda-4c08-b692-3f6e28989f64"
      },
      "execution_count": null,
      "outputs": [
        {
          "output_type": "stream",
          "name": "stdout",
          "text": [
            " * sqlite:///greatest.db\n",
            "(sqlite3.IntegrityError) UNIQUE constraint failed: Artist.ArtistID\n",
            "[SQL: INSERT INTO Artist (ArtistID, Name, Country, Founded)\n",
            "VALUES (1, 'Pink Floyd', 'United Kingdom', 1962);]\n",
            "(Background on this error at: https://sqlalche.me/e/20/gkpj)\n"
          ]
        }
      ]
    },
    {
      "cell_type": "markdown",
      "source": [
        "Since we already have an artist with an `artist_id` of 1 this fails with an error message. This is because primary keys must be UNIQUE."
      ],
      "metadata": {
        "id": "qFDywMJQa-A9"
      }
    },
    {
      "cell_type": "markdown",
      "source": [
        "### Violating CHECK Constraints\n",
        "\n",
        "CHECK constraints allow us to specify conditions that the data must satisfy before it can be inserted into a table. If we attempt to insert data that violates a CHECK constraint, SQL will raise a constraint violation error.\n",
        "\n",
        "For example, let's try to insert an album with an invalid `ReleaseYear`:"
      ],
      "metadata": {
        "id": "Fi8TAOpWbRnZ"
      }
    },
    {
      "cell_type": "code",
      "source": [
        "%%sql\n",
        "INSERT INTO Album (AlbumID, Title, ArtistID, ReleaseYear, Genre)\n",
        "VALUES (11, 'Future Album', 1, 2028, 'Rock');"
      ],
      "metadata": {
        "colab": {
          "base_uri": "https://localhost:8080/"
        },
        "id": "JcIo6t3vbSZs",
        "outputId": "060450f1-e142-4683-997a-ad583d043090"
      },
      "execution_count": null,
      "outputs": [
        {
          "output_type": "stream",
          "name": "stdout",
          "text": [
            " * sqlite:///greatest.db\n",
            "(sqlite3.IntegrityError) CHECK constraint failed: ReleaseYear >= 1900 AND ReleaseYear <= 2023\n",
            "[SQL: INSERT INTO Album (AlbumID, Title, ArtistID, ReleaseYear, Genre)\n",
            "VALUES (11, 'Future Album', 1, 2028, 'Rock');]\n",
            "(Background on this error at: https://sqlalche.me/e/20/gkpj)\n"
          ]
        }
      ]
    },
    {
      "cell_type": "markdown",
      "source": [
        "In our Album table, we have a CHECK constraint that ensures the ReleaseYear is between 1900 and 2023. Since 2028 violates this constraint, the insertion will fail with an error message indicating a CHECK constraint violation."
      ],
      "metadata": {
        "id": "u_8rs2XWbej0"
      }
    },
    {
      "cell_type": "markdown",
      "source": [
        "### Violating NOT NULL Constraints\n",
        "\n",
        "NOT NULL constraints ensure that a column cannot contain a NULL value. If we attempt to insert a row with a NULL value for a column that has a NOT NULL constraint, SQL will raise a constraint violation error.\n",
        "\n",
        "For example, let's try to insert an artist without specifying a `Name`:"
      ],
      "metadata": {
        "id": "SnDlLNZQbk8E"
      }
    },
    {
      "cell_type": "code",
      "source": [
        "%%sql\n",
        "INSERT INTO Artist (ArtistID, Country, Founded)\n",
        "VALUES (21, 'United States', 1980);"
      ],
      "metadata": {
        "colab": {
          "base_uri": "https://localhost:8080/"
        },
        "id": "Rx70dHsXblo9",
        "outputId": "2487dae2-c4bc-4acb-dc7a-bdd7ecf916b5"
      },
      "execution_count": null,
      "outputs": [
        {
          "output_type": "stream",
          "name": "stdout",
          "text": [
            " * sqlite:///greatest.db\n",
            "(sqlite3.IntegrityError) NOT NULL constraint failed: Artist.Name\n",
            "[SQL: INSERT INTO Artist (ArtistID, Country, Founded)\n",
            "VALUES (21, 'United States', 1980);]\n",
            "(Background on this error at: https://sqlalche.me/e/20/gkpj)\n"
          ]
        }
      ]
    },
    {
      "cell_type": "markdown",
      "source": [
        "Since the `Name` column in the `Artist` table has a NOT NULL constraint, this insertion will fail with an error message indicating a NOT NULL constraint violation.\n",
        "\n",
        "When constraint violations occur, the entire `INSERT INTO` statement is rolled back, and no data is inserted into the table. This ensures that the database remains in a consistent state and maintains data integrity.\n",
        "\n",
        "To handle constraint violations, you can:\n",
        "\n",
        "-   Modify the data being inserted to satisfy the constraints.\n",
        "-   Update the table structure or constraints to accommodate the data.\n",
        "-   Catch and handle the specific error messages in your application code.\n",
        "\n",
        "By understanding and properly handling constraint violations, you can ensure that only valid and consistent data is inserted into your database tables."
      ],
      "metadata": {
        "id": "cApd9i-hbeyN"
      }
    },
    {
      "cell_type": "markdown",
      "source": [
        "### Auto-incrementing Primary Keys\n",
        "As we just saw, SQL will generally produce an error if you fail to provide values for a `NOT NULL` column. One exception to this is for integer primary keys with an `AUTOINCREMENT` option (such as `ArtistId` and `AlbumId`). If you leave this out of an insert statement, SQL will assign the *next available integer as a primary key.\n",
        "\n",
        "Here's an example:\n"
      ],
      "metadata": {
        "id": "_FYoAUhbb6ig"
      }
    },
    {
      "cell_type": "code",
      "source": [
        "%%sql\n",
        "--Inserting without specifying primary key\n",
        "INSERT INTO Artist (Name, Country, Founded)\n",
        "VALUES ('Pink Floyd', 'United Kingdom', 1962);"
      ],
      "metadata": {
        "colab": {
          "base_uri": "https://localhost:8080/"
        },
        "id": "NB2H05ctctdq",
        "outputId": "77a9af8c-2320-4ea2-e65f-8d8be4d94903"
      },
      "execution_count": null,
      "outputs": [
        {
          "output_type": "stream",
          "name": "stdout",
          "text": [
            " * sqlite:///greatest.db\n",
            "1 rows affected.\n"
          ]
        },
        {
          "output_type": "execute_result",
          "data": {
            "text/plain": [
              "[]"
            ]
          },
          "metadata": {},
          "execution_count": 11
        }
      ]
    },
    {
      "cell_type": "code",
      "source": [
        "%%sql\n",
        "SELECT *\n",
        "FROM Artist\n",
        "WHERE Name = \"Pink Floyd\";"
      ],
      "metadata": {
        "colab": {
          "base_uri": "https://localhost:8080/",
          "height": 98
        },
        "id": "cl7gO-racyEe",
        "outputId": "40b2680c-405a-40d6-f48c-f3f7b1f295bd"
      },
      "execution_count": null,
      "outputs": [
        {
          "output_type": "stream",
          "name": "stdout",
          "text": [
            " * sqlite:///greatest.db\n",
            "Done.\n"
          ]
        },
        {
          "output_type": "execute_result",
          "data": {
            "text/plain": [
              "[(20, 'Pink Floyd', 'United Kingdom', 1962)]"
            ],
            "text/html": [
              "<table>\n",
              "    <thead>\n",
              "        <tr>\n",
              "            <th>ArtistID</th>\n",
              "            <th>Name</th>\n",
              "            <th>Country</th>\n",
              "            <th>Founded</th>\n",
              "        </tr>\n",
              "    </thead>\n",
              "    <tbody>\n",
              "        <tr>\n",
              "            <td>20</td>\n",
              "            <td>Pink Floyd</td>\n",
              "            <td>United Kingdom</td>\n",
              "            <td>1962</td>\n",
              "        </tr>\n",
              "    </tbody>\n",
              "</table>"
            ]
          },
          "metadata": {},
          "execution_count": 12
        }
      ]
    },
    {
      "cell_type": "markdown",
      "source": [
        "## Deleting Data\n",
        "\n",
        "When working with databases, there may be situations where you need to remove data from tables. In SQL, the `DELETE` statement is used to delete rows from a table based on specified conditions. It's important to understand how to use the `DELETE` statement effectively and handle the deletion of related data to maintain data integrity.\n",
        "\n",
        "Let's start by inserting some sample data into our `Artist` and `Album` tables. We'll insert a fake artist named \"The Terrible Trio\" and a few terrible albums associated with this artist.\n",
        "\n",
        "First, let's insert the fake artist into the `Artist` table:"
      ],
      "metadata": {
        "id": "8E9Ip94fbDRo"
      }
    },
    {
      "cell_type": "code",
      "source": [
        "%%sql\n",
        "INSERT INTO Artist (Name, Country, Founded)\n",
        "VALUES ('The Terrible Trio', 'Nowhere', 2020);"
      ],
      "metadata": {
        "colab": {
          "base_uri": "https://localhost:8080/"
        },
        "id": "bioevH3yhuFI",
        "outputId": "b04aa0cd-7b8d-465c-d585-830d882349e6"
      },
      "execution_count": null,
      "outputs": [
        {
          "output_type": "stream",
          "name": "stdout",
          "text": [
            " * sqlite:///greatest.db\n",
            "1 rows affected.\n"
          ]
        },
        {
          "output_type": "execute_result",
          "data": {
            "text/plain": [
              "[]"
            ]
          },
          "metadata": {},
          "execution_count": 13
        }
      ]
    },
    {
      "cell_type": "markdown",
      "source": [
        "Now, let's insert some terrible albums. We'll use a subquery to find the ArtistID for the \"Terrible Trio.\""
      ],
      "metadata": {
        "id": "JLGAvYRahySI"
      }
    },
    {
      "cell_type": "code",
      "source": [
        "%%sql\n",
        "-- Inserting albums\n",
        "INSERT INTO Album (Title, ArtistID, ReleaseYear, Genre)\n",
        "VALUES\n",
        "    ('Awful Anthems', (SELECT ArtistID FROM Artist WHERE Name = 'The Terrible Trio'), 2005, 'Noise'),\n",
        "    ('Cringeworthy Chronicles', (SELECT ArtistID FROM Artist WHERE Name = 'The Terrible Trio'), 2010, 'Cacophony'),\n",
        "    ('Disastrous Ditties', (SELECT ArtistID FROM Artist WHERE Name = 'The Terrible Trio'), 2015, 'Racket');"
      ],
      "metadata": {
        "colab": {
          "base_uri": "https://localhost:8080/"
        },
        "id": "rTQQiJ9Ph1S1",
        "outputId": "1c4f9eda-a39e-4da5-c4e9-791775e98420"
      },
      "execution_count": null,
      "outputs": [
        {
          "output_type": "stream",
          "name": "stdout",
          "text": [
            " * sqlite:///greatest.db\n",
            "3 rows affected.\n"
          ]
        },
        {
          "output_type": "execute_result",
          "data": {
            "text/plain": [
              "[]"
            ]
          },
          "metadata": {},
          "execution_count": 14
        }
      ]
    },
    {
      "cell_type": "markdown",
      "source": [
        "Let's assure ourselves that these albums have been added."
      ],
      "metadata": {
        "id": "L65hMNJ9h67t"
      }
    },
    {
      "cell_type": "code",
      "source": [
        "%%sql\n",
        "SELECT\n",
        "  al.Title,\n",
        "  al.AlbumID,\n",
        "  ar.Name AS Artist,\n",
        "  ar.ArtistID\n",
        "FROM\n",
        "  Album al\n",
        "  JOIN Artist ar ON al.ArtistID = ar.ArtistID\n",
        "WHERE ar.Name = 'The Terrible Trio';"
      ],
      "metadata": {
        "colab": {
          "base_uri": "https://localhost:8080/",
          "height": 140
        },
        "id": "0ZGVkt1jh_TA",
        "outputId": "6f292a7f-da66-4f9a-d38b-e2dce9580d6f"
      },
      "execution_count": null,
      "outputs": [
        {
          "output_type": "stream",
          "name": "stdout",
          "text": [
            " * sqlite:///greatest.db\n",
            "Done.\n"
          ]
        },
        {
          "output_type": "execute_result",
          "data": {
            "text/plain": [
              "[('Awful Anthems', 21, 'The Terrible Trio', 21),\n",
              " ('Cringeworthy Chronicles', 22, 'The Terrible Trio', 21),\n",
              " ('Disastrous Ditties', 23, 'The Terrible Trio', 21)]"
            ],
            "text/html": [
              "<table>\n",
              "    <thead>\n",
              "        <tr>\n",
              "            <th>Title</th>\n",
              "            <th>AlbumID</th>\n",
              "            <th>Artist</th>\n",
              "            <th>ArtistID</th>\n",
              "        </tr>\n",
              "    </thead>\n",
              "    <tbody>\n",
              "        <tr>\n",
              "            <td>Awful Anthems</td>\n",
              "            <td>21</td>\n",
              "            <td>The Terrible Trio</td>\n",
              "            <td>21</td>\n",
              "        </tr>\n",
              "        <tr>\n",
              "            <td>Cringeworthy Chronicles</td>\n",
              "            <td>22</td>\n",
              "            <td>The Terrible Trio</td>\n",
              "            <td>21</td>\n",
              "        </tr>\n",
              "        <tr>\n",
              "            <td>Disastrous Ditties</td>\n",
              "            <td>23</td>\n",
              "            <td>The Terrible Trio</td>\n",
              "            <td>21</td>\n",
              "        </tr>\n",
              "    </tbody>\n",
              "</table>"
            ]
          },
          "metadata": {},
          "execution_count": 15
        }
      ]
    },
    {
      "cell_type": "markdown",
      "source": [
        "### Basic DELETE Statement\n",
        "\n",
        "The basic syntax of the `DELETE` statement is as follows:\n",
        "\n",
        "```sql\n",
        "DELETE FROM table_name\n",
        "WHERE condition;\n",
        "```\n",
        "\n",
        "-   `table_name`: The name of the table from which you want to delete rows.\n",
        "-   `condition`: Specifies the condition that determines which rows will be deleted. If omitted, all rows in the table will be deleted.\n",
        "\n",
        "For example, to delete the album \"Awful Anthems\" from the `Album` table, you can use the following statement:"
      ],
      "metadata": {
        "id": "fAOoS0GEiuGf"
      }
    },
    {
      "cell_type": "code",
      "source": [
        "%%sql\n",
        "DELETE FROM Album\n",
        "WHERE Title = 'Awful Anthems';"
      ],
      "metadata": {
        "colab": {
          "base_uri": "https://localhost:8080/"
        },
        "id": "XjK7Plgyi9s0",
        "outputId": "8dd44d71-fa8d-441e-a0fb-0be372b4b5d4"
      },
      "execution_count": null,
      "outputs": [
        {
          "output_type": "stream",
          "name": "stdout",
          "text": [
            " * sqlite:///greatest.db\n",
            "1 rows affected.\n"
          ]
        },
        {
          "output_type": "execute_result",
          "data": {
            "text/plain": [
              "[]"
            ]
          },
          "metadata": {},
          "execution_count": 16
        }
      ]
    },
    {
      "cell_type": "code",
      "source": [
        "%%sql\n",
        "--Check that album is deleted\n",
        "SELECT * FROM Album WHERE Title = 'Awful Anthems';"
      ],
      "metadata": {
        "colab": {
          "base_uri": "https://localhost:8080/",
          "height": 76
        },
        "id": "vgfV8GgwjC-5",
        "outputId": "4cb7536a-037b-45fe-b108-c129d583ec9b"
      },
      "execution_count": null,
      "outputs": [
        {
          "output_type": "stream",
          "name": "stdout",
          "text": [
            " * sqlite:///greatest.db\n",
            "Done.\n"
          ]
        },
        {
          "output_type": "execute_result",
          "data": {
            "text/plain": [
              "[]"
            ],
            "text/html": [
              "<table>\n",
              "    <thead>\n",
              "        <tr>\n",
              "            <th>AlbumID</th>\n",
              "            <th>Title</th>\n",
              "            <th>ArtistID</th>\n",
              "            <th>ReleaseYear</th>\n",
              "            <th>Genre</th>\n",
              "            <th>Ranking</th>\n",
              "        </tr>\n",
              "    </thead>\n",
              "    <tbody>\n",
              "    </tbody>\n",
              "</table>"
            ]
          },
          "metadata": {},
          "execution_count": 17
        }
      ]
    },
    {
      "cell_type": "markdown",
      "source": [
        "### Deleting Related Data\n",
        "\n",
        "When deleting data from a table that has related data in other tables, you need to consider the foreign key constraints and how to handle the deletion of related records.\n",
        "\n",
        "In our example, the `Album` table has a foreign key constraint on the `ArtistID` column that references the `ArtistID` column in the `Artist` table. This means that each album is associated with an artist."
      ],
      "metadata": {
        "id": "2x8npKrkjTJC"
      }
    },
    {
      "cell_type": "code",
      "source": [
        "%%sql\n",
        "-- This will fail\n",
        "DELETE FROM Artist\n",
        "WHERE Name = \"The Terrible Trio\";"
      ],
      "metadata": {
        "colab": {
          "base_uri": "https://localhost:8080/"
        },
        "id": "rtIJ45ZpjUHx",
        "outputId": "aa000a5a-47de-4378-8d6d-883f21f4702b"
      },
      "execution_count": null,
      "outputs": [
        {
          "output_type": "stream",
          "name": "stdout",
          "text": [
            " * sqlite:///greatest.db\n",
            "(sqlite3.IntegrityError) FOREIGN KEY constraint failed\n",
            "[SQL: -- This will fail\n",
            "DELETE FROM Artist\n",
            "WHERE Name = \"The Terrible Trio\";]\n",
            "(Background on this error at: https://sqlalche.me/e/20/gkpj)\n"
          ]
        }
      ]
    },
    {
      "cell_type": "markdown",
      "source": [
        "In order to deal with with this problem, you have a few different options.\n",
        "\n"
      ],
      "metadata": {
        "id": "7sl-__RWmCMZ"
      }
    },
    {
      "cell_type": "markdown",
      "source": [
        "### Manual Deletion\n",
        "The most straightforward to way to do this deletion is to:\n",
        "1. Delete the related albums from the Album table first.\n",
        "2. Second, delete the artist from the Artist table.\n",
        "\n",
        "```sql\n",
        "--Delete albums\n",
        "DELETE FROM Album WHERE ArtistID = (SELECT ArtistID FROM Artist WHERE Name = 'The Terrible Trio');\n",
        "\n",
        "--Delete artist\n",
        "DELETE FROM Artist WHERE Name = 'The Terrible Trio';\n",
        "```\n",
        "\n",
        "### ON DELETE CASCADE\n",
        "\n",
        "The `ON DELETE CASCADE` option is used to automatically delete related records from a child table when a record in the parent table is deleted. It ensures data consistency and maintains referential integrity by cascading the delete operation to the associated records.\n",
        "\n",
        "When you define a foreign key constraint with `ON DELETE CASCADE`, deleting a record from the parent table will automatically delete all the related records in the child table that reference the deleted parent record.\n",
        "\n",
        "To set up `ON DELETE CASCADE`, you include it in the foreign key constraint definition when creating the child table:\n",
        "\n",
        "```sql\n",
        "CREATE TABLE Artist(\n",
        "  -- define all your columms\n",
        "  ...\n",
        "  FOREIGN KEY (ArtistID) REFERENCES Artist(ArtistID) ON DELETE CASCADE\n",
        ")\n",
        "```\n",
        "\n",
        "By adding this line to the foreign key constraint, you instruct the database to cascade the delete operation from the parent table (`Artist`) to the child table (`Album`) when an artist is deleted.\n",
        "\n",
        "With this option set, you can delete an artist and its related albums using a single DELETE statement:\n",
        "\n",
        "```sql\n",
        "DELETE FROM Artist WHERE Name = 'The Terrible Trio';\n",
        "```\n",
        "\n",
        "### ON DELETE SET NULL\n",
        "\n",
        "The `ON DELETE SET NULL` option is used to automatically set the foreign key values in the child table to `NULL` when a record in the parent table is deleted. It allows you to maintain the child records even if the associated parent record is removed.\n",
        "\n",
        "When you define a foreign key constraint with `ON DELETE SET NULL`, deleting a record from the parent table will set the foreign key values in the child table to `NULL` for the related records.\n",
        "\n",
        "To set up `ON DELETE SET NULL`, you include it in the foreign key constraint definition when creating the child table:\n",
        "\n",
        "```sql\n",
        "CREATE TABLE Artist(\n",
        "  -- define all your columms\n",
        "  ...\n",
        "  FOREIGN KEY (ArtistID) REFERENCES Artist(ArtistID) ON DELETE SET NULL\n",
        ")\n",
        "\n",
        "```\n",
        "By adding this line to the foreign key constraint, you instruct the database to set the `ArtistID` values in the `Album` table to `NULL` when an artist is deleted from the `Artist` table.\n",
        "\n",
        "### Choosing Between ON DELETE CASCADE, ON DELETE SET NULL, and no action\n",
        "\n",
        "The choice between `ON DELETE CASCADE` and `ON DELETE SET NULL` depends on your application's requirements and data integrity rules.\n",
        "\n",
        "-   Use `ON DELETE CASCADE` when you want to ensure that related records in the child table are automatically deleted when a parent record is deleted. This option maintains strict referential integrity and removes all associated data.\n",
        "-   Use `ON DELETE SET NULL` when you want to keep the related records in the child table even if the parent record is deleted. This option allows you to maintain the child records but sets the foreign key values to `NULL`, indicating that they are no longer associated with a valid parent record.\n",
        "\n",
        "It's important to consider the implications of each option. `ON DELETE CASCADE` permanently deletes related data, which may not be desirable in all scenarios. `ON DELETE SET NULL` keeps the related records but with a `NULL` foreign key value, which may require additional handling in your application.\n",
        "\n",
        "If you don't specify either `ON DELETE CASCADE` or `ON DELETE SET NULL`, the default behavior is to restrict the deletion of a parent record if there are related records in the child table. In this case, you would need to manually delete the related records from the child table before deleting the parent record."
      ],
      "metadata": {
        "id": "oP6POS5jmz8b"
      }
    },
    {
      "cell_type": "markdown",
      "source": [
        "### Deleting All Data versus Dropping a Table\n",
        "\n",
        "As we've seen, the **`DELETE FROM`** command is used to remove rows from a table. This operation can be selective or comprehensive. For example, if you only want to delete rows that meet certain criteria, you use a **`WHERE`** clause with your **`DELETE`** statement. Without a **`WHERE`** clause, **`DELETE`** will remove all rows in the table, but importantly, the table's structure remains untouched.  So, If you decide to remove all albums from the **`albums`** table, you simply omit the **`WHERE`** clause:\n",
        "\n",
        "```sql\n",
        "DELETE FROM Albums;\n",
        "```\n",
        "\n",
        "This action clears all data from the **`albums`** table but keeps its structure intact for future use. You can still add new albums to it or modify its structure later.\n",
        "\n",
        "One significant aspect of **`DELETE`** operations is that they are logged row by row in the database's transaction log. This means each row deletion is recorded, allowing for the possibility to undo the deletions if the operation is part of a transaction. However, this logging can make **`DELETE`** operations slower when dealing with a large number of rows.\n",
        "\n",
        "The **`DROP TABLE`** command, in contrast, is much more drastic. When you execute a **`DROP TABLE`** statement, you remove the entire table from the database. This includes not just the data but the table's structure, its columns, indexes, and any constraints defined on it.\n",
        "\n",
        "For instance, if you decide that the **`artists`** table is no longer needed and you want to erase it entirely from the database, you would use:\n",
        "\n",
        "```sql\n",
        "DROP TABLE Artists;\n",
        "```\n",
        "\n",
        "Executing this command means the **`artists`** table is deleted. The table, along with all its data and structure, is permanently removed from the database. Unlike **`DELETE`**, **`DROP TABLE`** does not log individual row deletions because it doesn't process each row; it removes the table as a whole. This makes **`DROP TABLE`** a fast operation but with the significant caveat that it is typically irreversible through standard SQL commands. Once a table is dropped, you cannot simply undo the action unless you have backups or specific database recovery tools in place."
      ],
      "metadata": {
        "id": "fRfYvstVqJb3"
      }
    },
    {
      "cell_type": "markdown",
      "source": [
        "## UPDATE\n",
        "\n",
        "The `UPDATE` statement in SQL is used to modify existing data in a table. It allows you to change the values of one or more columns in one or more rows based on specified conditions. The basic syntax of the `UPDATE` statement is as follows:\n",
        "\n",
        "```sql\n",
        "UPDATE table_name\n",
        "SET column1 = value1, column2 = value2, ...\n",
        "WHERE condition;\n",
        "```\n",
        "\n",
        "-   `table_name`: The name of the table you want to update.\n",
        "-   `column1, column2, ...`: The columns you want to modify and their new values.\n",
        "-   `condition`: Optional. Specifies the condition that determines which rows will be updated. If omitted, all rows in the table will be updated.\n",
        "\n",
        "Let's look at a concrete example using our `Artist` and `Album` tables.\n",
        "\n",
        "Suppose we want to update the name of the artist \"Bob Dylan\" to \"Robert Zimmerman\"."
      ],
      "metadata": {
        "id": "i58RJSZH9ved"
      }
    },
    {
      "cell_type": "code",
      "source": [
        "%%sql\n",
        "UPDATE Artist\n",
        "SET Name = 'Robert Zimmerman'\n",
        "WHERE Name = 'Bob Dylan';"
      ],
      "metadata": {
        "id": "Td3deAk19aTn",
        "outputId": "05e81bc4-c31c-4c45-dea2-5c414a33aab0",
        "colab": {
          "base_uri": "https://localhost:8080/"
        }
      },
      "execution_count": null,
      "outputs": [
        {
          "output_type": "stream",
          "name": "stdout",
          "text": [
            " * sqlite:///greatest.db\n",
            "1 rows affected.\n"
          ]
        },
        {
          "output_type": "execute_result",
          "data": {
            "text/plain": [
              "[]"
            ]
          },
          "metadata": {},
          "execution_count": 19
        }
      ]
    },
    {
      "cell_type": "code",
      "source": [
        "%%sql\n",
        "-- Confirm our change\n",
        "SELECT * FROM Artist WHERE Name = 'Robert Zimmerman'"
      ],
      "metadata": {
        "colab": {
          "base_uri": "https://localhost:8080/",
          "height": 98
        },
        "id": "tBNTReRcqE_m",
        "outputId": "bce66010-d861-47c3-871b-bb7163701e10"
      },
      "execution_count": null,
      "outputs": [
        {
          "output_type": "stream",
          "name": "stdout",
          "text": [
            " * sqlite:///greatest.db\n",
            "Done.\n"
          ]
        },
        {
          "output_type": "execute_result",
          "data": {
            "text/plain": [
              "[(8, 'Robert Zimmerman', 'United States', 1961)]"
            ],
            "text/html": [
              "<table>\n",
              "    <thead>\n",
              "        <tr>\n",
              "            <th>ArtistID</th>\n",
              "            <th>Name</th>\n",
              "            <th>Country</th>\n",
              "            <th>Founded</th>\n",
              "        </tr>\n",
              "    </thead>\n",
              "    <tbody>\n",
              "        <tr>\n",
              "            <td>8</td>\n",
              "            <td>Robert Zimmerman</td>\n",
              "            <td>United States</td>\n",
              "            <td>1961</td>\n",
              "        </tr>\n",
              "    </tbody>\n",
              "</table>"
            ]
          },
          "metadata": {},
          "execution_count": 20
        }
      ]
    },
    {
      "cell_type": "markdown",
      "source": [
        "You can also update multiple columns in a single UPDATE statement by separating the column-value pairs with commas. For example, let's update the Prince's name to \"?\" and his County to \"Minnesota, United States.\""
      ],
      "metadata": {
        "id": "JD2teyYa-Alu"
      }
    },
    {
      "cell_type": "code",
      "source": [
        "%%sql\n",
        "UPDATE Artist\n",
        "SET Name = '?', Country = 'Minnesota, United States'\n",
        "WHERE Name = 'Prince';"
      ],
      "metadata": {
        "id": "FjhYCXLq-sSE",
        "outputId": "4887f104-c223-4ca6-a7de-a9949a63612a",
        "colab": {
          "base_uri": "https://localhost:8080/"
        }
      },
      "execution_count": null,
      "outputs": [
        {
          "output_type": "stream",
          "name": "stdout",
          "text": [
            " * sqlite:///greatest.db\n",
            "1 rows affected.\n"
          ]
        },
        {
          "output_type": "execute_result",
          "data": {
            "text/plain": [
              "[]"
            ]
          },
          "metadata": {},
          "execution_count": 21
        }
      ]
    },
    {
      "cell_type": "code",
      "source": [
        "%%sql\n",
        "-- Confirm our change\n",
        "SELECT * FROM Artist WHERE Name = '?'"
      ],
      "metadata": {
        "id": "fgLD2jQ4-vke",
        "outputId": "669a1932-c8a2-42ac-a4e9-5d0bad2e3843",
        "colab": {
          "base_uri": "https://localhost:8080/",
          "height": 98
        }
      },
      "execution_count": null,
      "outputs": [
        {
          "output_type": "stream",
          "name": "stdout",
          "text": [
            " * sqlite:///greatest.db\n",
            "Done.\n"
          ]
        },
        {
          "output_type": "execute_result",
          "data": {
            "text/plain": [
              "[(7, '?', 'Minnesota, United States', 1975)]"
            ],
            "text/html": [
              "<table>\n",
              "    <thead>\n",
              "        <tr>\n",
              "            <th>ArtistID</th>\n",
              "            <th>Name</th>\n",
              "            <th>Country</th>\n",
              "            <th>Founded</th>\n",
              "        </tr>\n",
              "    </thead>\n",
              "    <tbody>\n",
              "        <tr>\n",
              "            <td>7</td>\n",
              "            <td>?</td>\n",
              "            <td>Minnesota, United States</td>\n",
              "            <td>1975</td>\n",
              "        </tr>\n",
              "    </tbody>\n",
              "</table>"
            ]
          },
          "metadata": {},
          "execution_count": 22
        }
      ]
    },
    {
      "cell_type": "markdown",
      "source": [
        "It's important to be cautious when using the `UPDATE` statement, especially if you omit the `WHERE` clause. Without a `WHERE` clause, the update will be applied to all rows in the table, which may lead to unintended changes.\n",
        "\n",
        "To update multiple rows based on a condition, you can use a more complex `WHERE` clause:"
      ],
      "metadata": {
        "id": "_SgyleYP-0xZ"
      }
    },
    {
      "cell_type": "code",
      "source": [
        "%%sql\n",
        "UPDATE Album\n",
        "SET ReleaseYear = ReleaseYear + 1\n",
        "WHERE ArtistID = 21;"
      ],
      "metadata": {
        "id": "v5CJFAjg-6wM",
        "outputId": "b6e25a24-f0ad-493d-f86c-266c6447be4f",
        "colab": {
          "base_uri": "https://localhost:8080/"
        }
      },
      "execution_count": null,
      "outputs": [
        {
          "output_type": "stream",
          "name": "stdout",
          "text": [
            " * sqlite:///greatest.db\n",
            "2 rows affected.\n"
          ]
        },
        {
          "output_type": "execute_result",
          "data": {
            "text/plain": [
              "[]"
            ]
          },
          "metadata": {},
          "execution_count": 23
        }
      ]
    },
    {
      "cell_type": "code",
      "source": [
        "%%sql\n",
        "-- Confirm our change\n",
        "SELECT * FROM Album WHERE ArtistID = 21;"
      ],
      "metadata": {
        "id": "vjzJQjXY_-nP",
        "outputId": "5afdaf28-c5b9-4d9e-bf7f-a2d0116a4835",
        "colab": {
          "base_uri": "https://localhost:8080/",
          "height": 119
        }
      },
      "execution_count": null,
      "outputs": [
        {
          "output_type": "stream",
          "name": "stdout",
          "text": [
            " * sqlite:///greatest.db\n",
            "Done.\n"
          ]
        },
        {
          "output_type": "execute_result",
          "data": {
            "text/plain": [
              "[(22, 'Cringeworthy Chronicles', 21, 2011, 'Cacophony', None),\n",
              " (23, 'Disastrous Ditties', 21, 2016, 'Racket', None)]"
            ],
            "text/html": [
              "<table>\n",
              "    <thead>\n",
              "        <tr>\n",
              "            <th>AlbumID</th>\n",
              "            <th>Title</th>\n",
              "            <th>ArtistID</th>\n",
              "            <th>ReleaseYear</th>\n",
              "            <th>Genre</th>\n",
              "            <th>Ranking</th>\n",
              "        </tr>\n",
              "    </thead>\n",
              "    <tbody>\n",
              "        <tr>\n",
              "            <td>22</td>\n",
              "            <td>Cringeworthy Chronicles</td>\n",
              "            <td>21</td>\n",
              "            <td>2011</td>\n",
              "            <td>Cacophony</td>\n",
              "            <td>None</td>\n",
              "        </tr>\n",
              "        <tr>\n",
              "            <td>23</td>\n",
              "            <td>Disastrous Ditties</td>\n",
              "            <td>21</td>\n",
              "            <td>2016</td>\n",
              "            <td>Racket</td>\n",
              "            <td>None</td>\n",
              "        </tr>\n",
              "    </tbody>\n",
              "</table>"
            ]
          },
          "metadata": {},
          "execution_count": 24
        }
      ]
    },
    {
      "cell_type": "markdown",
      "source": [
        "This statement increments the `ReleaseYear` by 1 for all albums associated with the artist having `ArtistID` 21.\n",
        "\n",
        "Remember to always double-check your `UPDATE` statements and include appropriate `WHERE` conditions to ensure that you are modifying only the intended rows.\n",
        "\n",
        "The `UPDATE` statement is a powerful tool for modifying existing data in your database tables. It allows you to keep your data up to date and make necessary changes based on specific conditions."
      ],
      "metadata": {
        "id": "ZpAayc6X_YS0"
      }
    },
    {
      "cell_type": "markdown",
      "source": [
        "## Introduction to Soft Delete\n",
        "\n",
        "In database management, there are situations where you may want to keep records even after they are marked as deleted. Instead of permanently removing data from the database, you can implement a \"soft delete\" approach. Soft delete involves adding a column to the table that indicates whether a record is active or deleted, allowing you to retain historical data while still being able to filter out deleted records when querying the table.\n",
        "\n",
        "Let's explore the concept of soft delete using our example of the terrible trio artist and their albums.\n",
        "\n",
        "### Adding a Soft Delete Column\n",
        "\n",
        "To implement soft delete, we need to add a column to the `Artist` and `Album` tables that represents the deleted status of each record. We'll call this column `IsDeleted` and set its default value to `0` (indicating an active record)"
      ],
      "metadata": {
        "id": "lqoBoqYeobHU"
      }
    },
    {
      "cell_type": "code",
      "source": [
        "%%sql\n",
        "ALTER TABLE Artist ADD COLUMN IsDeleted INTEGER DEFAULT 0;\n",
        "ALTER TABLE Album ADD COLUMN IsDeleted INTEGER DEFAULT 0;"
      ],
      "metadata": {
        "colab": {
          "base_uri": "https://localhost:8080/"
        },
        "id": "9dWIa2MMob-B",
        "outputId": "33765af4-544b-41ba-80fe-85b48441b762"
      },
      "execution_count": null,
      "outputs": [
        {
          "output_type": "stream",
          "name": "stdout",
          "text": [
            " * sqlite:///greatest.db\n",
            "Done.\n",
            "Done.\n"
          ]
        },
        {
          "output_type": "execute_result",
          "data": {
            "text/plain": [
              "[]"
            ]
          },
          "metadata": {},
          "execution_count": 25
        }
      ]
    },
    {
      "cell_type": "markdown",
      "source": [
        "These statements add the `IsDeleted` column to the `Artist` and `Album` tables, respectively.\n",
        "\n",
        "### Soft Deleting Records\n",
        "\n",
        "Now, let's say we want to soft delete the artist \"The Terrible Trio\" and their albums. Instead of using the `DELETE` statement, we'll update the `IsDeleted` column to mark the records as deleted."
      ],
      "metadata": {
        "id": "39laxDnDoj7A"
      }
    },
    {
      "cell_type": "code",
      "source": [
        "%%sql\n",
        "UPDATE Artist SET IsDeleted = 1 WHERE Name = 'The Terrible Trio';\n",
        "UPDATE Album SET IsDeleted = 1 WHERE ArtistID = (SELECT ArtistID FROM Artist WHERE Name = 'The Terrible Trio');"
      ],
      "metadata": {
        "colab": {
          "base_uri": "https://localhost:8080/"
        },
        "id": "yudTI_vzjBFD",
        "outputId": "420df85b-44b3-4f0e-b764-ef22132e5ba6"
      },
      "execution_count": null,
      "outputs": [
        {
          "output_type": "stream",
          "name": "stdout",
          "text": [
            " * sqlite:///greatest.db\n",
            "1 rows affected.\n",
            "2 rows affected.\n"
          ]
        },
        {
          "output_type": "execute_result",
          "data": {
            "text/plain": [
              "[]"
            ]
          },
          "metadata": {},
          "execution_count": 26
        }
      ]
    },
    {
      "cell_type": "markdown",
      "source": [
        "The first statement marks the artist \"The Terrible Trio\" as deleted by setting the `IsDeleted` column to `1`. The second statement marks all the albums associated with \"The Terrible Trio\" as deleted by setting their `IsDeleted` column to `1`.\n",
        "\n",
        "### Querying Soft Deleted Records\n",
        "\n",
        "When querying the `Artist` and `Album` tables, you can filter out the soft deleted records by adding a condition to check the `IsDeleted` column."
      ],
      "metadata": {
        "id": "tlLS-E8ioykW"
      }
    },
    {
      "cell_type": "code",
      "source": [
        "%%sql\n",
        "SELECT * FROM Artist WHERE IsDeleted = 0;"
      ],
      "metadata": {
        "colab": {
          "base_uri": "https://localhost:8080/",
          "height": 478
        },
        "id": "8eA4IVl-o57D",
        "outputId": "1c1719e7-8424-41e2-a6e4-50a44f631575"
      },
      "execution_count": null,
      "outputs": [
        {
          "output_type": "stream",
          "name": "stdout",
          "text": [
            " * sqlite:///greatest.db\n",
            "Done.\n"
          ]
        },
        {
          "output_type": "execute_result",
          "data": {
            "text/plain": [
              "[(1, 'Marvin Gaye', 'United States', 1939, 0),\n",
              " (2, 'The Beach Boys', 'United States', 1961, 0),\n",
              " (3, 'Joni Mitchell', 'Canada', 1964, 0),\n",
              " (4, 'Stevie Wonder', 'United States', 1961, 0),\n",
              " (5, 'Nirvana', 'United States', 1987, 0),\n",
              " (6, 'Fleetwood Mac', 'United Kingdom', 1967, 0),\n",
              " (7, '?', 'Minnesota, United States', 1975, 0),\n",
              " (8, 'Robert Zimmerman', 'United States', 1961, 0),\n",
              " (9, 'Lauryn Hill', 'United States', 1988, 0),\n",
              " (10, 'The Beatles', 'United Kingdom', 1960, 0),\n",
              " (11, 'Radiohead', 'United Kingdom', 1985, 0),\n",
              " (12, 'Kendrick Lamar', 'United States', 2003, 0),\n",
              " (13, 'Public Enemy', 'United States', 1985, 0),\n",
              " (14, 'The Rolling Stones', 'United Kingdom', 1962, 0),\n",
              " (15, 'Aretha Franklin', 'United States', 1956, 0),\n",
              " (16, 'Michael Jackson', 'United States', 1964, 0),\n",
              " (17, 'Kanye West', 'United States', 1996, 0),\n",
              " (19, 'The Clash', 'United Kingdom', 1976, 0),\n",
              " (20, 'Pink Floyd', 'United Kingdom', 1962, 0)]"
            ],
            "text/html": [
              "<table>\n",
              "    <thead>\n",
              "        <tr>\n",
              "            <th>ArtistID</th>\n",
              "            <th>Name</th>\n",
              "            <th>Country</th>\n",
              "            <th>Founded</th>\n",
              "            <th>IsDeleted</th>\n",
              "        </tr>\n",
              "    </thead>\n",
              "    <tbody>\n",
              "        <tr>\n",
              "            <td>1</td>\n",
              "            <td>Marvin Gaye</td>\n",
              "            <td>United States</td>\n",
              "            <td>1939</td>\n",
              "            <td>0</td>\n",
              "        </tr>\n",
              "        <tr>\n",
              "            <td>2</td>\n",
              "            <td>The Beach Boys</td>\n",
              "            <td>United States</td>\n",
              "            <td>1961</td>\n",
              "            <td>0</td>\n",
              "        </tr>\n",
              "        <tr>\n",
              "            <td>3</td>\n",
              "            <td>Joni Mitchell</td>\n",
              "            <td>Canada</td>\n",
              "            <td>1964</td>\n",
              "            <td>0</td>\n",
              "        </tr>\n",
              "        <tr>\n",
              "            <td>4</td>\n",
              "            <td>Stevie Wonder</td>\n",
              "            <td>United States</td>\n",
              "            <td>1961</td>\n",
              "            <td>0</td>\n",
              "        </tr>\n",
              "        <tr>\n",
              "            <td>5</td>\n",
              "            <td>Nirvana</td>\n",
              "            <td>United States</td>\n",
              "            <td>1987</td>\n",
              "            <td>0</td>\n",
              "        </tr>\n",
              "        <tr>\n",
              "            <td>6</td>\n",
              "            <td>Fleetwood Mac</td>\n",
              "            <td>United Kingdom</td>\n",
              "            <td>1967</td>\n",
              "            <td>0</td>\n",
              "        </tr>\n",
              "        <tr>\n",
              "            <td>7</td>\n",
              "            <td>?</td>\n",
              "            <td>Minnesota, United States</td>\n",
              "            <td>1975</td>\n",
              "            <td>0</td>\n",
              "        </tr>\n",
              "        <tr>\n",
              "            <td>8</td>\n",
              "            <td>Robert Zimmerman</td>\n",
              "            <td>United States</td>\n",
              "            <td>1961</td>\n",
              "            <td>0</td>\n",
              "        </tr>\n",
              "        <tr>\n",
              "            <td>9</td>\n",
              "            <td>Lauryn Hill</td>\n",
              "            <td>United States</td>\n",
              "            <td>1988</td>\n",
              "            <td>0</td>\n",
              "        </tr>\n",
              "        <tr>\n",
              "            <td>10</td>\n",
              "            <td>The Beatles</td>\n",
              "            <td>United Kingdom</td>\n",
              "            <td>1960</td>\n",
              "            <td>0</td>\n",
              "        </tr>\n",
              "        <tr>\n",
              "            <td>11</td>\n",
              "            <td>Radiohead</td>\n",
              "            <td>United Kingdom</td>\n",
              "            <td>1985</td>\n",
              "            <td>0</td>\n",
              "        </tr>\n",
              "        <tr>\n",
              "            <td>12</td>\n",
              "            <td>Kendrick Lamar</td>\n",
              "            <td>United States</td>\n",
              "            <td>2003</td>\n",
              "            <td>0</td>\n",
              "        </tr>\n",
              "        <tr>\n",
              "            <td>13</td>\n",
              "            <td>Public Enemy</td>\n",
              "            <td>United States</td>\n",
              "            <td>1985</td>\n",
              "            <td>0</td>\n",
              "        </tr>\n",
              "        <tr>\n",
              "            <td>14</td>\n",
              "            <td>The Rolling Stones</td>\n",
              "            <td>United Kingdom</td>\n",
              "            <td>1962</td>\n",
              "            <td>0</td>\n",
              "        </tr>\n",
              "        <tr>\n",
              "            <td>15</td>\n",
              "            <td>Aretha Franklin</td>\n",
              "            <td>United States</td>\n",
              "            <td>1956</td>\n",
              "            <td>0</td>\n",
              "        </tr>\n",
              "        <tr>\n",
              "            <td>16</td>\n",
              "            <td>Michael Jackson</td>\n",
              "            <td>United States</td>\n",
              "            <td>1964</td>\n",
              "            <td>0</td>\n",
              "        </tr>\n",
              "        <tr>\n",
              "            <td>17</td>\n",
              "            <td>Kanye West</td>\n",
              "            <td>United States</td>\n",
              "            <td>1996</td>\n",
              "            <td>0</td>\n",
              "        </tr>\n",
              "        <tr>\n",
              "            <td>19</td>\n",
              "            <td>The Clash</td>\n",
              "            <td>United Kingdom</td>\n",
              "            <td>1976</td>\n",
              "            <td>0</td>\n",
              "        </tr>\n",
              "        <tr>\n",
              "            <td>20</td>\n",
              "            <td>Pink Floyd</td>\n",
              "            <td>United Kingdom</td>\n",
              "            <td>1962</td>\n",
              "            <td>0</td>\n",
              "        </tr>\n",
              "    </tbody>\n",
              "</table>"
            ]
          },
          "metadata": {},
          "execution_count": 27
        }
      ]
    },
    {
      "cell_type": "markdown",
      "source": [
        "### Restoring Soft Deleted Records\n",
        "One of the advantages of soft delete is the ability to restore deleted records if needed. To restore a soft deleted record, you can update the IsDeleted column back to 0."
      ],
      "metadata": {
        "id": "CPsry-7ioytG"
      }
    },
    {
      "cell_type": "code",
      "source": [
        "%%sql\n",
        "UPDATE Artist SET IsDeleted = 0 WHERE Name = 'The Terrible Trio';\n",
        "UPDATE Album SET IsDeleted = 0 WHERE ArtistID = (SELECT ArtistID FROM Artist WHERE Name = 'The Terrible Trio');"
      ],
      "metadata": {
        "colab": {
          "base_uri": "https://localhost:8080/"
        },
        "id": "AHJpdxIFp8R1",
        "outputId": "697265e9-85d7-4307-df39-5479fd589d1a"
      },
      "execution_count": null,
      "outputs": [
        {
          "output_type": "stream",
          "name": "stdout",
          "text": [
            " * sqlite:///greatest.db\n",
            "1 rows affected.\n",
            "2 rows affected.\n"
          ]
        },
        {
          "output_type": "execute_result",
          "data": {
            "text/plain": [
              "[]"
            ]
          },
          "metadata": {},
          "execution_count": 28
        }
      ]
    },
    {
      "cell_type": "markdown",
      "source": [
        "These statements restore the artist \"The Terrible Trio\" and their associated albums by setting the `IsDeleted` column back to `0`.\n",
        "\n",
        "### Considerations\n",
        "\n",
        "When implementing soft delete, keep in mind the following considerations:\n",
        "\n",
        "-   Soft delete adds an overhead to your queries, as you need to include the `IsDeleted` condition in your `WHERE` clauses to filter out deleted records.\n",
        "-   Soft deleted records still occupy space in the database, so you need to have a strategy for eventually purging them if necessary.\n",
        "-   If you have foreign key constraints, you may need to handle soft deletion carefully to maintain data integrity. You can consider using `ON DELETE SET NULL` or `ON UPDATE CASCADE` to manage the relationships between soft deleted records.\n",
        "\n",
        "Soft delete provides a flexible approach to data deletion, allowing you to retain historical data while still being able to manage deleted records effectivel"
      ],
      "metadata": {
        "id": "Y1TV3KWkqENe"
      }
    },
    {
      "cell_type": "code",
      "source": [
        "%%sql\n",
        "-- Let's get rid of our soft delete column\n",
        "ALTER TABLE Artist DROP COLUMN IsDeleted;\n",
        "ALTER TABLE Album DROP COLUMN IsDeleted;"
      ],
      "metadata": {
        "id": "rpBcHuGvK9nZ",
        "outputId": "f2518fa4-d7bc-42d1-dae7-f3578c8e8c30",
        "colab": {
          "base_uri": "https://localhost:8080/"
        }
      },
      "execution_count": null,
      "outputs": [
        {
          "output_type": "stream",
          "name": "stdout",
          "text": [
            " * sqlite:///greatest.db\n",
            "Done.\n",
            "Done.\n"
          ]
        },
        {
          "output_type": "execute_result",
          "data": {
            "text/plain": [
              "[]"
            ]
          },
          "metadata": {},
          "execution_count": 29
        }
      ]
    },
    {
      "cell_type": "markdown",
      "source": [
        "## Triggers\n",
        "\n",
        "Triggers are special types of stored procedures in SQL that are automatically executed in response to specific events or actions on a table, such as `INSERT`, `UPDATE`, or `DELETE` operations. Triggers allow you to enforce business rules, maintain data integrity, and perform additional actions before or after the triggering event occurs.\n",
        "\n",
        "In SQLite, you can create triggers using the `CREATE TRIGGER` statement. The basic syntax for creating a trigger is as follows:\n",
        "\n",
        "```sql\n",
        "CREATE TRIGGER (IF NOT EXISTS) trigger_name\n",
        "BEFORE|AFTER INSERT|UPDATE|DELETE ON table_name\n",
        "BEGIN\n",
        "  -- Trigger actions\n",
        "END;\n",
        "```\n",
        "\n",
        "-   `trigger_name`: The name you assign to the trigger.\n",
        "-   `BEFORE|AFTER`: Specifies whether the trigger should be executed before or after the triggering event.\n",
        "-   `INSERT|UPDATE|DELETE`: Specifies the event that activates the trigger.\n",
        "-   `table_name`: The name of the table on which the trigger is defined.\n",
        "-   `BEGIN ... END`: The block of SQL statements that define the trigger actions.\n",
        "\n",
        "Let's create a concrete example using our `Artist` and `Album` tables.\n",
        "\n",
        "Suppose, for example, we'd like to keep track of the date each albums was updated to our database.\n",
        "\n",
        "First, let's add a column to accomodate this:"
      ],
      "metadata": {
        "id": "OEeZcenKAKRm"
      }
    },
    {
      "cell_type": "code",
      "source": [
        "%%sql\n",
        "ALTER TABLE Album ADD COLUMN LastUpdated DATETIME;"
      ],
      "metadata": {
        "id": "TbrYp_LPCTV3",
        "outputId": "222d9d00-8a11-4fd8-8c39-d0f2362c58b2",
        "colab": {
          "base_uri": "https://localhost:8080/"
        }
      },
      "execution_count": null,
      "outputs": [
        {
          "output_type": "stream",
          "name": "stdout",
          "text": [
            " * sqlite:///greatest.db\n",
            "Done.\n"
          ]
        },
        {
          "output_type": "execute_result",
          "data": {
            "text/plain": [
              "[]"
            ]
          },
          "metadata": {},
          "execution_count": 30
        }
      ]
    },
    {
      "cell_type": "markdown",
      "source": [
        "Now, let's create trigger."
      ],
      "metadata": {
        "id": "kCUA8Y9WCXah"
      }
    },
    {
      "cell_type": "code",
      "source": [
        "%%sql\n",
        "CREATE TRIGGER IF NOT EXISTS update_album_date\n",
        "AFTER UPDATE ON Album\n",
        "BEGIN\n",
        "  UPDATE Album\n",
        "  SET LastUpdated = DATETIME('now')\n",
        "  WHERE AlbumID = NEW.AlbumID;\n",
        "END;"
      ],
      "metadata": {
        "id": "vfR9TnHYByLX",
        "outputId": "7b23de5b-01d0-4c9f-e74f-221824c49961",
        "colab": {
          "base_uri": "https://localhost:8080/"
        }
      },
      "execution_count": null,
      "outputs": [
        {
          "output_type": "stream",
          "name": "stdout",
          "text": [
            " * sqlite:///greatest.db\n",
            "Done.\n"
          ]
        },
        {
          "output_type": "execute_result",
          "data": {
            "text/plain": [
              "[]"
            ]
          },
          "metadata": {},
          "execution_count": 31
        }
      ]
    },
    {
      "cell_type": "markdown",
      "source": [
        "Finally, let's try it out:"
      ],
      "metadata": {
        "id": "ULzzA97MAR67"
      }
    },
    {
      "cell_type": "code",
      "source": [
        "%%sql\n",
        "UPDATE Album\n",
        "SET ReleaseYear = ReleaseYear - 1\n",
        "WHERE AlbumID > 20;"
      ],
      "metadata": {
        "id": "P66wn31iCfJ1",
        "outputId": "10fec013-639b-4c74-87fc-b09665b791b0",
        "colab": {
          "base_uri": "https://localhost:8080/"
        }
      },
      "execution_count": null,
      "outputs": [
        {
          "output_type": "stream",
          "name": "stdout",
          "text": [
            " * sqlite:///greatest.db\n",
            "2 rows affected.\n"
          ]
        },
        {
          "output_type": "execute_result",
          "data": {
            "text/plain": [
              "[]"
            ]
          },
          "metadata": {},
          "execution_count": 32
        }
      ]
    },
    {
      "cell_type": "markdown",
      "source": [
        "And finally, we can see the results."
      ],
      "metadata": {
        "id": "BvcxVesJCqCd"
      }
    },
    {
      "cell_type": "code",
      "source": [
        "%%sql\n",
        "SELECT * FROM Album WHERE AlbumID > 20;"
      ],
      "metadata": {
        "id": "E0LT6fDlCsVG",
        "outputId": "df1fc721-9ff6-4a4d-ef39-5295e5a2fdf2",
        "colab": {
          "base_uri": "https://localhost:8080/",
          "height": 119
        }
      },
      "execution_count": null,
      "outputs": [
        {
          "output_type": "stream",
          "name": "stdout",
          "text": [
            " * sqlite:///greatest.db\n",
            "Done.\n"
          ]
        },
        {
          "output_type": "execute_result",
          "data": {
            "text/plain": [
              "[(22, 'Cringeworthy Chronicles', 21, 2010, 'Cacophony', None, '2024-06-26 21:27:28'),\n",
              " (23, 'Disastrous Ditties', 21, 2015, 'Racket', None, '2024-06-26 21:27:28')]"
            ],
            "text/html": [
              "<table>\n",
              "    <thead>\n",
              "        <tr>\n",
              "            <th>AlbumID</th>\n",
              "            <th>Title</th>\n",
              "            <th>ArtistID</th>\n",
              "            <th>ReleaseYear</th>\n",
              "            <th>Genre</th>\n",
              "            <th>Ranking</th>\n",
              "            <th>LastUpdated</th>\n",
              "        </tr>\n",
              "    </thead>\n",
              "    <tbody>\n",
              "        <tr>\n",
              "            <td>22</td>\n",
              "            <td>Cringeworthy Chronicles</td>\n",
              "            <td>21</td>\n",
              "            <td>2010</td>\n",
              "            <td>Cacophony</td>\n",
              "            <td>None</td>\n",
              "            <td>2024-06-26 21:27:28</td>\n",
              "        </tr>\n",
              "        <tr>\n",
              "            <td>23</td>\n",
              "            <td>Disastrous Ditties</td>\n",
              "            <td>21</td>\n",
              "            <td>2015</td>\n",
              "            <td>Racket</td>\n",
              "            <td>None</td>\n",
              "            <td>2024-06-26 21:27:28</td>\n",
              "        </tr>\n",
              "    </tbody>\n",
              "</table>"
            ]
          },
          "metadata": {},
          "execution_count": 33
        }
      ]
    },
    {
      "cell_type": "markdown",
      "source": [
        "## Logging in Databases\n",
        "\n",
        "Logging is the process of recording specific events, changes, or actions that occur within a database. Logs serve as an audit trail, allowing database administrators and developers to track and monitor the activities happening in the database. They provide valuable information for debugging, troubleshooting, performance analysis, and security auditing.\n",
        "\n",
        "Logs can capture various types of information, such as:\n",
        "\n",
        "-   Data modifications (inserts, updates, deletes)\n",
        "-   User authentication and access attempts\n",
        "-   System errors and exceptions\n",
        "-   Timestamps of when events occurred\n",
        "-   User or application responsible for the actions\n",
        "\n",
        "By maintaining logs, you can gain insights into the historical changes in your database, detect suspicious activities, and facilitate data recovery in case of failures or accidental modifications.\n",
        "\n",
        "Now, let's see how we can use a trigger to implement logging in our database.\n",
        "\n",
        "### Logging Trigger Example\n",
        "\n",
        "Suppose we want to create a log table that captures the changes made to the `Artist` table. Whenever an artist's information is updated, we want to record the old and new values, along with the timestamp and the user who made the change.\n",
        "\n",
        "First, let's create the log table:"
      ],
      "metadata": {
        "id": "CaA6XGZhDOX6"
      }
    },
    {
      "cell_type": "code",
      "source": [
        "%%sql\n",
        "DROP TABLE IF EXISTS ArtistLog;\n",
        "CREATE TABLE ArtistLog (\n",
        "  LogID INTEGER PRIMARY KEY AUTOINCREMENT,\n",
        "  ArtistID INTEGER,\n",
        "  OldName VARCHAR(100),\n",
        "  NewName VARCHAR(100),\n",
        "  UpdatedAt TIMESTAMP DEFAULT CURRENT_TIMESTAMP,\n",
        "  UpdatedBy VARCHAR(100)\n",
        ");"
      ],
      "metadata": {
        "id": "Pec0KOAzDZcz",
        "outputId": "7db49510-830f-4419-8a0c-f30e1427dda0",
        "colab": {
          "base_uri": "https://localhost:8080/"
        }
      },
      "execution_count": null,
      "outputs": [
        {
          "output_type": "stream",
          "name": "stdout",
          "text": [
            " * sqlite:///greatest.db\n",
            "Done.\n",
            "Done.\n"
          ]
        },
        {
          "output_type": "execute_result",
          "data": {
            "text/plain": [
              "[]"
            ]
          },
          "metadata": {},
          "execution_count": 34
        }
      ]
    },
    {
      "cell_type": "markdown",
      "source": [
        "The `ArtistLog` table has columns to store the `ArtistID`, the old and new values of the `Name` column, the timestamp of the update, and the user who made the change.\n",
        "\n",
        "Next, let's create the trigger that will populate the log table whenever an update occurs on the `Artist` table:"
      ],
      "metadata": {
        "id": "-HQ438aiDjMM"
      }
    },
    {
      "cell_type": "code",
      "source": [
        "%%sql\n",
        "CREATE TRIGGER IF NOT EXISTS ArtistUpdateTrigger\n",
        "AFTER UPDATE ON Artist\n",
        "FOR EACH ROW\n",
        "BEGIN\n",
        "  INSERT INTO ArtistLog (ArtistID, OldName, NewName, UpdatedBy)\n",
        "  VALUES (OLD.ArtistID, OLD.Name, NEW.Name, 'Brendan Shea');\n",
        "END;"
      ],
      "metadata": {
        "id": "NPbo7bcrDlS5",
        "outputId": "3c7ac16c-2f28-4b0d-b1b8-8f892c6ec59c",
        "colab": {
          "base_uri": "https://localhost:8080/"
        }
      },
      "execution_count": null,
      "outputs": [
        {
          "output_type": "stream",
          "name": "stdout",
          "text": [
            " * sqlite:///greatest.db\n",
            "Done.\n"
          ]
        },
        {
          "output_type": "execute_result",
          "data": {
            "text/plain": [
              "[]"
            ]
          },
          "metadata": {},
          "execution_count": 35
        }
      ]
    },
    {
      "cell_type": "markdown",
      "source": [
        "Let's break down the trigger:\n",
        "\n",
        "-   The trigger is named `ArtistUpdateTrigger`.\n",
        "-   It is defined as an `AFTER UPDATE` trigger on the `Artist` table, meaning it will be executed after an update operation on the `Artist` table.\n",
        "-   The `FOR EACH ROW` clause specifies that the trigger will be executed for each row affected by the update.\n",
        "-   Inside the trigger, we have an `INSERT` statement that inserts a new row into the `ArtistLog` table.\n",
        "-   The `VALUES` clause captures the `ArtistID`, the old and new values of the `Name` column using the special `OLD` and `NEW` keywords, and the user who made the changes. Here, I've hardcoded this as 'Brendan Shea', but in more complext applications, we could capture the details for each user.\n",
        "\n",
        "Now, let's test the trigger by updating some artists' names (undoing our previous updates):"
      ],
      "metadata": {
        "id": "7rlz4UCBDuat"
      }
    },
    {
      "cell_type": "code",
      "source": [
        "%%sql\n",
        "UPDATE Artist\n",
        "SET Name = 'Bob Dylan'\n",
        "WHERE Name = 'Robert Zimmerman';\n",
        "\n",
        "UPDATE Artist\n",
        "SET Name = 'Prince'\n",
        "WHERE Name = '?';"
      ],
      "metadata": {
        "id": "PE0ivvFbDyjK",
        "outputId": "e681e4bb-88d8-4701-940a-ad6a10fa509c",
        "colab": {
          "base_uri": "https://localhost:8080/"
        }
      },
      "execution_count": null,
      "outputs": [
        {
          "output_type": "stream",
          "name": "stdout",
          "text": [
            " * sqlite:///greatest.db\n",
            "1 rows affected.\n",
            "1 rows affected.\n"
          ]
        },
        {
          "output_type": "execute_result",
          "data": {
            "text/plain": [
              "[]"
            ]
          },
          "metadata": {},
          "execution_count": 36
        }
      ]
    },
    {
      "cell_type": "markdown",
      "source": [
        "Now, let's see what our log table looks like:"
      ],
      "metadata": {
        "id": "e3bWo3eiFJNz"
      }
    },
    {
      "cell_type": "code",
      "source": [
        "%%sql\n",
        "SELECT * FROM ArtistLog;"
      ],
      "metadata": {
        "id": "7T9P3EwKFNe_",
        "outputId": "a4893618-9922-4035-94ad-7f2df5c6d79a",
        "colab": {
          "base_uri": "https://localhost:8080/",
          "height": 119
        }
      },
      "execution_count": null,
      "outputs": [
        {
          "output_type": "stream",
          "name": "stdout",
          "text": [
            " * sqlite:///greatest.db\n",
            "Done.\n"
          ]
        },
        {
          "output_type": "execute_result",
          "data": {
            "text/plain": [
              "[(1, 8, 'Robert Zimmerman', 'Bob Dylan', '2024-06-26 21:27:28', 'Brendan Shea'),\n",
              " (2, 7, '?', 'Prince', '2024-06-26 21:27:28', 'Brendan Shea')]"
            ],
            "text/html": [
              "<table>\n",
              "    <thead>\n",
              "        <tr>\n",
              "            <th>LogID</th>\n",
              "            <th>ArtistID</th>\n",
              "            <th>OldName</th>\n",
              "            <th>NewName</th>\n",
              "            <th>UpdatedAt</th>\n",
              "            <th>UpdatedBy</th>\n",
              "        </tr>\n",
              "    </thead>\n",
              "    <tbody>\n",
              "        <tr>\n",
              "            <td>1</td>\n",
              "            <td>8</td>\n",
              "            <td>Robert Zimmerman</td>\n",
              "            <td>Bob Dylan</td>\n",
              "            <td>2024-06-26 21:27:28</td>\n",
              "            <td>Brendan Shea</td>\n",
              "        </tr>\n",
              "        <tr>\n",
              "            <td>2</td>\n",
              "            <td>7</td>\n",
              "            <td>?</td>\n",
              "            <td>Prince</td>\n",
              "            <td>2024-06-26 21:27:28</td>\n",
              "            <td>Brendan Shea</td>\n",
              "        </tr>\n",
              "    </tbody>\n",
              "</table>"
            ]
          },
          "metadata": {},
          "execution_count": 37
        }
      ]
    },
    {
      "cell_type": "markdown",
      "source": [
        "The result will show the logged entry with the `ArtistID`, the old and new values of the `Name` column, the timestamp of the update, and the user who made the change.\n",
        "\n",
        "By using triggers for logging, you can automatically capture and store the changes made to your database tables, providing a valuable audit trail for monitoring, debugging, and historical analysis."
      ],
      "metadata": {
        "id": "ADZKMuTkGK4U"
      }
    },
    {
      "cell_type": "markdown",
      "source": [
        "## Case Study: Scripting Languages for Advanced Database Management\n",
        "\n",
        "In the world of database management, while SQL (Structured Query Language) is the primary language for interacting with databases, there are many tasks that require more than just SQL. This is where scripting languages come in. Scripting languages are programming languages that automate the execution of tasks that could alternatively be performed one-by-one by a human operator. When it comes to database management, these languages can help automate repetitive tasks, process data, and even provide new ways of interacting with databases.\n",
        "\n",
        "This case study introduces several scripting languages and environments used in database management, focusing on operations beyond simple SQL queries. We'll use a music database (`greatest.db`) containing Artist and Album tables as our context. The goal is to understand what these languages can do that SQL alone cannot.\n",
        "\n",
        "### Command-Line Interfaces: Linux Terminal and Windows Command Prompt\n",
        "\n",
        "Command-line interfaces (CLIs) are text-based interfaces used to interact with a computer's operating system. The two most common CLIs are the Linux Terminal and the Windows Command Prompt.\n",
        "\n",
        "The **Linux Terminal** is the standard command-line interface for Unix-based operating systems like Linux and macOS. It provides a way to navigate the file system, run programs, and execute system commands using text inputs.\n",
        "\n",
        "The **Windows Command Prompt**, also known as cmd.exe, is the Microsoft Windows counterpart to the Linux Terminal. While traditionally less powerful than the Linux Terminal, modern versions of Windows have significantly improved its capabilities.\n",
        "\n",
        "Both the Linux Terminal and Windows Command Prompt provide powerful tools for database management beyond just running queries, allowing direct interaction with the operating system. Here are some key capabilities:\n",
        "\n",
        "1. Start, stop, or restart database services.\n",
        "2. Create scripts to perform regular backups or maintenance.\n",
        "3. Run commands to check system resources used by the database.\n",
        "4. Combine database commands with other system operations.\n",
        "5. Use system schedulers to run database tasks at specific times.\n",
        "\n",
        "\n",
        "Here are some common commands that might be run using the Windows Command Line or Linux Terminal:\n",
        "\n",
        "| Command | Description |\n",
        "|---------|-------------|\n",
        "| `sqlite3 greatest.db` | Open the SQLite shell for greatest.db |\n",
        "| `sqlite3 greatest.db \".tables\"` | List all tables in greatest.db |\n",
        "| `sqlite3 greatest.db \".schema Album\"` | Show the CREATE statement for the Album table |\n",
        "| `sqlite3 greatest.db \".dump Album\"` | Output the contents of the Album table in SQL format |\n",
        "| `sqlite3 greatest.db \".mode csv .output albums.csv SELECT * FROM Album;\"` | Export Album table to CSV file |\n",
        "| `sqlite3 greatest.db \".read queries.sql\"` | Execute SQL statements from queries.sql file |\n",
        "| `sqlite3 greatest.db \".backup 'greatest_backup.db'\"` | Backup the database to a file |\n",
        "| `sqlite3 greatest.db \".restore 'greatest_backup.db'\"` | Restore the database from a backup file |\n",
        "| `sqlite3 greatest.db \".indices Album\"` | Show indexes for the Album table |\n"
      ],
      "metadata": {
        "id": "riE5VwKFZWb6"
      }
    },
    {
      "cell_type": "code",
      "source": [
        "# Install sqlite and try it out!\n",
        "!apt install sqlite3 > /dev/null 2>&1\n",
        "!sqlite3 greatest.db \".tables\""
      ],
      "metadata": {
        "colab": {
          "base_uri": "https://localhost:8080/"
        },
        "id": "gP94xfORco2i",
        "outputId": "217b2b2e-2e5e-48af-a7d0-856fc5d44cd5"
      },
      "execution_count": null,
      "outputs": [
        {
          "output_type": "stream",
          "name": "stdout",
          "text": [
            "Album      Artist     ArtistLog\n"
          ]
        }
      ]
    },
    {
      "cell_type": "code",
      "source": [
        "# export to a csv file\n",
        "%%bash\n",
        "sqlite3 greatest.db <<EOF\n",
        ".headers on\n",
        ".mode csv\n",
        ".output albums.csv\n",
        "SELECT * FROM Album;\n",
        "EOF"
      ],
      "metadata": {
        "id": "0rKFM5LEdDvw"
      },
      "execution_count": null,
      "outputs": []
    },
    {
      "cell_type": "code",
      "source": [
        "# View CSV file\n",
        "!head -n 5 albums.csv"
      ],
      "metadata": {
        "colab": {
          "base_uri": "https://localhost:8080/"
        },
        "id": "9Iughnjzd8nu",
        "outputId": "69730f0f-16ce-45b1-891c-55a8d34aff51"
      },
      "execution_count": null,
      "outputs": [
        {
          "output_type": "stream",
          "name": "stdout",
          "text": [
            "AlbumID,Title,ArtistID,ReleaseYear,Genre,Ranking,LastUpdated\r\n",
            "1,\"What's Going On\",1,1971,Soul,1,\r\n",
            "2,\"Pet Sounds\",2,1966,Rock,2,\r\n",
            "3,Blue,3,1971,Folk,3,\r\n",
            "4,\"Songs in the Key of Life\",4,1976,Soul,4,\r\n"
          ]
        }
      ]
    },
    {
      "cell_type": "markdown",
      "source": [
        "### Shell Scripting: Bash and PowerShell\n",
        "Shell scripting takes command-line interfaces a step further by allowing you to write scripts - essentially, programs - that can be executed in the command-line environment.\n",
        "\n",
        "**Bash** (Bourne Again SHell) is the default command language for most Unix-based systems, including Linux and macOS. It's a powerful scripting language that can be used for a wide variety of tasks, from simple file management to complex system administration.\n",
        "\n",
        "**PowerShell**, developed by Microsoft, is both a command-line shell and a scripting language for Windows. It's designed to automate system administration tasks and create management tools for common processes.\n",
        "\n",
        "Both Bash and PowerShell excel at combining system operations with database tasks, offering advanced automation capabilities. Here are some key features:\n",
        "\n",
        "1. Create scripts that perform multiple steps, including database operations and system tasks.\n",
        "2. Manipulate data before inserting it into a database or after retrieving it.\n",
        "3. Perform system checks or modifications as part of database management.\n",
        "4.  Build scripts that provide user-friendly interfaces for database operations.\n",
        "\n",
        "Here's an example of importing artist data from a CSV file using Bash:\n",
        "\n",
        "```bash\n",
        "#!/bin/bash\n",
        "input_file=\"new_artists.csv\"\n",
        "while IFS=',' read -r name country founded\n",
        "do\n",
        "    sqlite3 greatest.db \"INSERT INTO Artist (Name, Country, Founded) VALUES ('$name', '$country', $founded);\"\n",
        "done < \"$input_file\"\n",
        "```\n",
        "\n",
        "This script reads a CSV file line by line, splitting each line into variables, and then uses these variables to insert new records into the Artist table. This kind of data import with preprocessing isn't possible with SQL alone.\n",
        "plied to automate repetitive tasks, create user-friendly interfaces for database operations, or perform complex data analysis on your music database.\n"
      ],
      "metadata": {
        "id": "Ty6tnFI0YzgV"
      }
    },
    {
      "cell_type": "markdown",
      "source": [
        "## Python and Object-Relational Mapping (ORM)\n",
        "\n",
        "Python is a high-level, interpreted programming language known for its simplicity and readability. It has become increasingly popular in recent years for a wide range of applications, including web development, scientific computing, artificial intelligence, and data analysis. In the context of database management, Python offers powerful libraries and frameworks that make it easier to work with databases.\n",
        "\n",
        "One of the most powerful features Python offers for database interaction is **Object-Relational Mapping (ORM)**. An Object-Relational Mapping (ORM) is a programming technique that converts data between incompatible type systems in object-oriented programming languages. In simpler terms, it's a way to interact with a database using the object-oriented paradigm of your programming language, rather than writing SQL queries directly.\n",
        "\n",
        "Key concepts of ORMs include:\n",
        "\n",
        "1. **Object-Relational Mapping.** This is the core concept, where database tables are represented as classes, and rows in these tables are represented as instances of these classes.\n",
        "2. **Data Abstraction.** ORMs allow developers to work with objects in their code, abstracting away the details of the underlying database structure.\n",
        "3. **Database Independence.** Many ORMs support multiple database systems, allowing you to switch between different databases with minimal code changes.\n",
        "\n",
        "Here's an example of how we might use SQLAlchemy, a popular Python ORM, with our music database:"
      ],
      "metadata": {
        "id": "OhvZnmt6eI7e"
      }
    },
    {
      "cell_type": "code",
      "source": [
        "# Import necessary components from SQLAlchemy\n",
        "from sqlalchemy import create_engine, Column, Integer, String, ForeignKey\n",
        "from sqlalchemy.orm import relationship, sessionmaker, declarative_base\n",
        "\n",
        "# Define a base class for our classes to inherit from\n",
        "Base = declarative_base()\n",
        "\n",
        "# Define the Artist class which maps to the 'Artist' table in the database\n",
        "class Artist(Base):\n",
        "    __tablename__ = 'Artist'  # Name of the table in the database\n",
        "    ArtistID = Column(Integer, primary_key=True)  # Primary key column\n",
        "    Name = Column(String)  # Column for artist's name\n",
        "    Country = Column(String)  # Column for artist's country\n",
        "    Founded = Column(Integer)  # Column for the year the artist was founded\n",
        "    albums = relationship(\"Album\", back_populates=\"artist\")  # Relationship to Album\n",
        "\n",
        "# Define the Album class which maps to the 'Album' table in the database\n",
        "class Album(Base):\n",
        "    __tablename__ = 'Album'  # Name of the table in the database\n",
        "    AlbumID = Column(Integer, primary_key=True)  # Primary key column\n",
        "    Title = Column(String)  # Column for album title\n",
        "    ArtistID = Column(Integer, ForeignKey('Artist.ArtistID'))  # Foreign key referencing Artist\n",
        "    ReleaseYear = Column(Integer)  # Column for the year the album was released\n",
        "    Genre = Column(String)  # Column for album genre\n",
        "    Ranking = Column(Integer)  # Column for album ranking\n",
        "    artist = relationship(\"Artist\", back_populates=\"albums\")  # Relationship to Artist\n",
        "\n",
        "# Create an SQLite database engine\n",
        "engine = create_engine('sqlite:///greatest.db')\n",
        "\n",
        "# Create a configured \"Session\" class\n",
        "Session = sessionmaker(bind=engine)\n",
        "\n",
        "# Create a Session instance\n",
        "session = Session()\n",
        "\n",
        "# Example query using ORM: Select artists whose albums are ranked in the top 10\n",
        "top_artists = session.query(Artist).join(Album).filter(Album.Ranking <= 10).all()\n",
        "\n",
        "# Print the names of the top artists and their top 10 albums\n",
        "for artist in top_artists:\n",
        "    print(f\"{artist.Name}: {[album.Title for album in artist.albums if album.Ranking <= 10]}\")\n"
      ],
      "metadata": {
        "colab": {
          "base_uri": "https://localhost:8080/"
        },
        "id": "YCEg5LnUeQ4D",
        "outputId": "8e8e7829-5607-4d2c-abc6-8a50068c4551"
      },
      "execution_count": null,
      "outputs": [
        {
          "output_type": "stream",
          "name": "stdout",
          "text": [
            "Marvin Gaye: [\"What's Going On\"]\n",
            "The Beach Boys: ['Pet Sounds']\n",
            "Joni Mitchell: ['Blue']\n",
            "Stevie Wonder: ['Songs in the Key of Life']\n",
            "Nirvana: ['Nevermind']\n",
            "Fleetwood Mac: ['Rumours']\n",
            "Prince: ['Purple Rain']\n",
            "Bob Dylan: ['Blood on the Tracks']\n",
            "Lauryn Hill: ['The Miseducation of Lauryn Hill']\n",
            "The Beatles: ['Abbey Road']\n"
          ]
        }
      ]
    },
    {
      "cell_type": "markdown",
      "source": [
        "\n",
        "This script demonstrates several key advantages of using an ORM:\n",
        "\n",
        "1. The query is written in Python, not SQL. This can be easier to read and write, especially for developers more comfortable with Python than SQL.\n",
        "2. OWe can easily navigate from artists to their albums using the `albums` relationship defined in the `Artist` class.\n",
        "3. We can use Python list comprehensions and other features to process the data after querying.\n",
        "\n",
        "ORMs like SQLAlchemy shine in complex applications where you need to work with data as objects throughout your code, not just when querying the database. They provide a level of abstraction that can make database interactions more intuitive and less error-prone, especially for developers who are more comfortable with object-oriented programming than with SQL.\n",
        "\n",
        "Besides SQLAlchemy (for the Python programming language), other important and widely used ORMs include:\n",
        "\n",
        "1. **Hibernate (Java).** One of the most popular ORMs for Java, providing a powerful and flexible ORM solution. It's widely used in enterprise applications and offers excellent integration with other Java frameworks.\n",
        "2. **Entity Framework (C#/.NET).** Microsoft's official ORM for .NET applications, offering both code-first and database-first approaches. It's deeply integrated with the .NET ecosystem and provides robust features for database operations.\n",
        "3. **Sequelize (JavaScript/Node.js).** A promise-based ORM for Node.js, supporting multiple databases including PostgreSQL, MySQL, and SQLite. It's particularly popular in the JavaScript ecosystem for both web and backend development.\n",
        "\n",
        "These ORMs represent some of the most widely used solutions across different programming languages and frameworks. The choice of ORM often depends on the specific needs of a project, the programming language being used, and the developer's familiarity with the tool."
      ],
      "metadata": {
        "id": "Mlft3o_uepTQ"
      }
    },
    {
      "cell_type": "markdown",
      "source": [
        "### Conclusion: Scripting for Databases\n",
        "\n",
        "Each of these scripting approaches offers capabilities that extend beyond what's possible with SQL alone:\n",
        "\n",
        "- Command-line interfaces (Linux Terminal and Windows Command Prompt) enable system-level integration and automation of database tasks.\n",
        "- Shell scripting (Bash and PowerShell) excels at creating complex workflows that combine system operations with database management.\n",
        "- Python with ORM provides a high-level, object-oriented approach to database interaction, particularly useful for complex applications and data analysis.\n",
        "\n",
        "By leveraging these tools, database administrators and developers can create more efficient, automated, and powerful database management solutions. As you explore these languages, consider how they might be ap"
      ],
      "metadata": {
        "id": "1ehCiEqleKwN"
      }
    },
    {
      "cell_type": "markdown",
      "source": [
        "## Key Points\n",
        "-   The INSERT INTO statement is used to add new rows of data to SQL tables, supporting both single-row and multiple-row insertions.\n",
        "-   Constraints, such as primary keys, foreign keys, and CHECK constraints, ensure data integrity and consistency.\n",
        "-   Constraint violations during data insertion can be handled by modifying the data or updating the table structure.\n",
        "-   Auto-incrementing primary keys simplify data insertion by automatically assigning unique identifiers to new rows.\n",
        "-   Subqueries can be used in INSERT statements to dynamically insert data based on existing records.-   The DELETE statement removes rows from a table based on specified conditions, while DROP TABLE removes the entire table structure.\n",
        "-   \"Soft delete\" involves marking records as deleted instead of permanently removing them, allowing for data retention and historical tracking.\n",
        "-   The UPDATE statement modifies existing data in a table based on specified conditions.\n",
        "-   Triggers automatically execute specific actions before or after database events, such as INSERT, UPDATE, or DELETE operations.\n",
        "-   Logging mechanisms can be implemented using triggers to capture and store changes made to database tables for auditing and monitoring purposes.\n",
        "-   Database scripting using Linux scripts and programming languages like Bash, Python, and PowerShell enables automation and flexibility in database tasks.\n",
        "-   Automating database tasks through scripting improves efficiency, reduces manual errors, and enhances productivity in database management."
      ],
      "metadata": {
        "id": "hlzBf7jAP2-a"
      }
    },
    {
      "cell_type": "markdown",
      "source": [
        "## Lab: Practice Your SQL"
      ],
      "metadata": {
        "id": "j_iB-JxerJ61"
      }
    },
    {
      "cell_type": "code",
      "source": [
        "!wget https://github.com/brendanpshea/database_sql/raw/main/sql_ddl_quiz/sql_ddl_quiz.py -q -nc\n",
        "from sql_ddl_quiz import *\n",
        "\n",
        "quiz_url = 'https://github.com/brendanpshea/database_sql/raw/main/sql_ddl_quiz/music_dml_quiz.json'\n",
        "sql_quiz = SQLDDLQuiz(quiz_url)"
      ],
      "metadata": {
        "id": "qauGOj6hrQc3",
        "outputId": "e5d15713-7628-4bf3-e8b1-526dc811c91c",
        "colab": {
          "base_uri": "https://localhost:8080/",
          "height": 560,
          "referenced_widgets": [
            "0d9d60a8b80245a7a8f60aae2ede2d7f",
            "41bf1888220741b2b178b96d2c55aa96",
            "858bfe4a6a3c4547a26f7a9dac67f06c",
            "ab767b8d84b642049fdcb0f0cfc0995e",
            "207909f0aec146e89fb31cf5e4981565",
            "468cfa251d444d238641bed9eb019d18",
            "4e0b9005f003448684cb6318bccb406a",
            "6d022099da34476e8501ad22d44e9687",
            "ab8c587f1c4141c28fe216fefda382f0",
            "d89edf02a91746efbdcac691f5cc402a",
            "45fb4e3484a84ec39f9994cb2a73fb30",
            "08d21417f63142f68c2d704c6d73701b",
            "2b8d97512baa46b48bf55dc115c71210",
            "497ed449d67f4b1593f9c15fb300b736",
            "72259ebb3a744ce3b0c7fa336e980b3a",
            "145d47caac114e23bf170990d7c8c555",
            "6fdc26356c9040779168bcce74f010c7",
            "ca3dde7059d2403f866fac5bbbf1275a",
            "2b897cce2f6f418f9074e95842334bbd",
            "8c1ce0797b344b64a4a7cfb938617ee0",
            "1f614060f5974a01b6e419bbce807b3e",
            "e4429f7d1dfb497eafbe1fb1d3b66c5e",
            "2d6efeb97a9d4bfc8cb3d0e705e7968f",
            "c97998e1ce7e47fd97a92527f186c5eb",
            "945e8b9326324ebcac364612d19aed04",
            "3de3382024ee41bbad9eff3f8a11debb",
            "44294491715d40a3ac31e2ac99dd4858",
            "f6a1e06b7be048ea883f02d1fe62f0eb",
            "d32428a802db4a8cb44db897b8921e3e",
            "ecc3653f32854bf8b0abbacee35f9f07",
            "ea3d5bb7826e44a48dae573e2cf5e3ca",
            "9625441d91a04c8f96d8f6b317956622",
            "fef9d6d2e61a4155ab93b67b37895d31",
            "658804efe5de498ca0538165de33a844",
            "40e31efdb2324e7088b3c2c3489932fc",
            "42eccfab2db942d7bb42ce6839f2bfb2",
            "72aa70d4ceef404d8f2a972df4533867",
            "9325899f463f4765aa2131b7b2a8ba18",
            "cb851617f8da4cfd9ee628bd1ce7fe3f",
            "135ded21847b4636b06067600b26689d",
            "e636c2979efe4ecdac0e1ef7edee43cb"
          ]
        }
      },
      "execution_count": null,
      "outputs": [
        {
          "output_type": "display_data",
          "data": {
            "text/plain": [
              "Tab(children=(VBox(children=(IntProgress(value=0, bar_style='info', description='Progress:', layout=Layout(wid…"
            ],
            "application/vnd.jupyter.widget-view+json": {
              "version_major": 2,
              "version_minor": 0,
              "model_id": "0d9d60a8b80245a7a8f60aae2ede2d7f"
            }
          },
          "metadata": {}
        }
      ]
    },
    {
      "cell_type": "markdown",
      "source": [
        "## Review With Quizlet"
      ],
      "metadata": {
        "id": "e9eBSLBFqt6G"
      }
    },
    {
      "cell_type": "code",
      "source": [
        "%%html\n",
        "<iframe src=\"https://quizlet.com/930225475/learn/embed?i=psvlh&x=1jj1\" height=\"500\" width=\"100%\" style=\"border:0\"></iframe>"
      ],
      "metadata": {
        "id": "5ahsbHR_qwUf"
      },
      "execution_count": null,
      "outputs": []
    },
    {
      "cell_type": "markdown",
      "source": [
        "## Glossary\n",
        "\n",
        "| Term | Definition |\n",
        "|------|------------|\n",
        "| AFTER | SQL keyword specifying that a trigger should execute after the triggering event occurs. |\n",
        "| AUTOINCREMENT | Property for columns that automatically generates a unique integer for each new row inserted. |\n",
        "| Bash | Unix shell and command language interpreter, providing a command-line interface for Unix-like operating systems. |\n",
        "| BEFORE | SQL keyword indicating that a trigger should execute before the triggering event occurs. |\n",
        "| Client-side script | Program that runs on the user's web browser, typically written in JavaScript, to enhance interactivity and user experience. |\n",
        "| Database log | Record of all transactions and changes made to a database, useful for recovery and auditing purposes. |\n",
        "| DELETE | SQL command used to remove one or more records from a table in a database. |\n",
        "| END | Keyword marking the conclusion of a code block or SQL statement in various programming languages and database systems. |\n",
        "| Entity Framework | Microsoft's open-source ORM framework for .NET applications, simplifying database operations and data access. |\n",
        "| Hibernate | Popular Java-based ORM tool that simplifies database operations by mapping Java classes to database tables. |\n",
        "| INSERT INTO | SQL command used to add new records into a table in a database. |\n",
        "| Linux Terminal | Command-line interface in Linux operating systems for executing text-based commands and managing the system. |\n",
        "| Object | Instance of a class in object-oriented programming, representing a specific entity with properties and methods. |\n",
        "| Object-relational Mapping (ORM) | Programming technique for converting data between incompatible type systems in object-oriented programming languages and relational databases. |\n",
        "| ON DELETE CASCADE | Referential action specifying that when a referenced row is deleted, all related rows in the child table should also be automatically deleted. |\n",
        "| ON DELETE SET NULL | Referential action indicating that when a referenced row is deleted, the foreign key column(s) in the related rows of the child table should be set to NULL. |\n",
        "| PowerShell | Task automation and configuration management framework from Microsoft, consisting of a command-line shell and associated scripting language. |\n",
        "| Python | High-level, interpreted programming language known for its readability and versatility, often used in web development, data analysis, and artificial intelligence. |\n",
        "| Sequelize | Promise-based ORM for Node.js, supporting multiple databases and providing easy data modeling and querying. |\n",
        "| Server-side script | Program that runs on the web server, processing requests, interacting with databases, and generating dynamic content before sending it to the client. |\n",
        "| SET | SQL command used in UPDATE statements to specify which columns should be modified and their new values. |\n",
        "| Soft delete | Technique where records are marked as deleted in the database without actually removing them, typically by setting a flag or timestamp. |\n",
        "| SQLAlchemy | Open-source SQL toolkit and ORM for Python, providing a full suite of well-known enterprise-level persistence patterns. |\n",
        "| TRIGGER | Database object that automatically executes in response to certain events on a particular table or view. |\n",
        "| UPDATE | SQL command used to modify existing records in a table. |\n",
        "| VALUES | Keyword used in INSERT statements to specify the data being added to the table. |\n",
        "| Windows command prompt | Text-based command-line interpreter in Windows operating systems for executing commands and batch files. |"
      ],
      "metadata": {
        "id": "VI8Vc0s1o4VO"
      }
    },
    {
      "cell_type": "markdown",
      "source": [
        "## SQL Code\n",
        "\n",
        "| SQL Template | Explanation |\n",
        "|--------------|-------------|\n",
        "| `INSERT INTO t (c1, c2, c3) VALUES (v1, v2, v3)` | SQL code to insert a new row into table t with specified column values. |\n",
        "| `INSERT INTO t SELECT c1, c2, c3 FROM t2 WHERE c` | SQL code to insert rows into table t by selecting data from another table t2. |\n",
        "| `DELETE FROM t WHERE c` | SQL code to delete rows from table t that satisfy condition c. |\n",
        "| `DELETE FROM t1 WHERE c1 IN (SELECT c2 FROM t2)` | SQL code to delete rows from table t1 based on a subquery result from table t2. |\n",
        "| `UPDATE t SET c1 = v1, c2 = v2 WHERE c` | SQL code to update specific columns in table t for rows that satisfy condition c. |\n",
        "| `UPDATE t1 SET c1 = (SELECT c2 FROM t2 WHERE t1.id = t2.id)` | SQL code to update table t1 using values from table t2 based on a correlated subquery. |\n",
        "| `CREATE TRIGGER tr_name BEFORE INSERT ON t FOR EACH ROW` | SQL code to create a trigger that executes before each row is inserted into table t. |\n",
        "| `CREATE TRIGGER tr_name AFTER UPDATE ON t FOR EACH ROW` | SQL code to create a trigger that executes after each row is updated in table t. |\n",
        "| `CREATE TRIGGER tr_name INSTEAD OF DELETE ON v FOR EACH ROW` | SQL code to create an instead-of trigger on view v, executed when a delete operation is attempted. |"
      ],
      "metadata": {
        "id": "GZPWHkNSSxC4"
      }
    },
    {
      "cell_type": "code",
      "source": [],
      "metadata": {
        "id": "dSoy6_Hno89Q"
      },
      "execution_count": null,
      "outputs": []
    }
  ]
}