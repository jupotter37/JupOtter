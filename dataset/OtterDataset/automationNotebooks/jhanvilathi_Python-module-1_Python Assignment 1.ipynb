{
 "cells": [
  {
   "cell_type": "markdown",
   "id": "6d4cad18-e69c-4fdc-bc71-e954519e69ad",
   "metadata": {},
   "source": [
    "Que1. Explain the key features of Python that make it a popular choice for programming.\n",
    "\n",
    "Ans1. Python is a popular programming language for several reasons, due to its unique features and capabilities.there are lots of points which makes it popular choice for programming.Python is commonly used for developing websites and software, task automation, data analysis, and data visualisation.\n",
    "\n",
    "Uses of Python-\n",
    "\n",
    "It is widely used in the industry.\n",
    "Also used in Data Industry\n",
    "There is soo many libraries in python. More than 137000 libraries.\n",
    "We can perform Frontend,backend and Data Analysis etc.\n",
    "Useful in Automation.\n",
    "Can perform Image Processing.\n",
    "Useful in Data Bases.\n",
    "\n",
    "Why Python? Python is an interpreted, object-oriented, high-level programming language with dynamic semantics. Its high-level built in data structures, combined with dynamic typing and dynamic binding, make it very attractive for Rapid Application Development, as well as for use as a scripting or glue language to connect existing components together. Python's simple, easy to learn syntax emphasizes readability and therefore reduces the cost of program maintenance. Python supports modules and packages, which encourages program modularity and code reuse. The Python interpreter and the extensive standard library are available in source or binary form without charge for all major platforms, and can be freely distributed.\n",
    "\n",
    "Strong Support for Data Science and Machine Learning\n",
    "Data Science and ML Libraries: Python has become the go-to language for data science and machine learning due to its robust libraries like pandas, NumPy, SciPy, scikit-learn, TensorFlow, and PyTorch, which simplify complex mathematical and statistical operations.\n",
    "1.Integration Capabilities\n",
    "Easy Integration: Python can easily integrate with other languages like C, C++, and Java, as well as with various APIs and tools, making it a good choice for building complex applications and integrating with other systems.\n",
    "2.Scalability and Performance\n",
    "Scalable: Python’s simple syntax and powerful libraries make it easy to scale up from small scripts to large-scale applications.\n",
    "Performance Optimization Tools: While Python is not the fastest language in terms of raw performance, it offers optimization tools like Cython, PyPy, and Just-In-Time (JIT) compilers to enhance performance when needed.\n",
    "3.Dynamic Typing\n",
    "Dynamically Typed: Python determines variable types at runtime, which allows for more flexibility in writing code without needing explicit type declarations.\n",
    "4.Versatility and Flexibility\n",
    "Multi-Paradigm Support: Python supports multiple programming paradigms, including procedural, object-oriented, and functional programming, allowing developers to choose the style that best fits their problem.\n",
    "Cross-Platform Compatibility: Python is compatible with various operating systems (Windows, macOS, Linux), making it a versatile choice for development across different environments.\n",
    "5.Comprehensive Standard Library and Extensive Ecosystem*\n",
    "Rich Standard Library: Python comes with a large standard library that provides modules and functions for a wide range of tasks, from file handling and web development to mathematics and data manipulation.\n",
    "6.Extensive Third-Party Libraries and Frameworks: There is a vast ecosystem of third-party libraries and frameworks (like NumPy, pandas, Django, Flask, TensorFlow) that extend Python's capabilities, making it suitable for a variety of applications such as web development, data science, machine learning, and automation.\n",
    "7.Ease of Learning and Use*\n",
    "Readable and Simple Syntax: Python's syntax is clear and straightforward, resembling plain English, which makes it easier for beginners to learn and for developers to write and read code.\n",
    "Minimalistic: Python requires fewer lines of code to perform tasks compared to many other languages, reducing development time and effort.\n",
    "8.Strong Community Support\n",
    "9.Large Community: Python has a massive global community of developers who contribute to its development, provide support, and create tutorials, making it easier for newcomers to find help and resources.\n",
    "10.Regular Updates and Improvements: Python is actively maintained and regularly updated to improve performance, security, and functionality.\n",
    "Conclusion In conclusion, Python is a popular programming language. It's used for many things like web development, data science and scientific computing. It's easy to learn and has many resources available. Taking a Python course can help you learn to program or get a job that uses Python. There are many options to choose from, depending on your goals and learning style."
   ]
  },
  {
   "cell_type": "markdown",
   "id": "f83a27e9-adc3-4705-bf3e-3990cbb748ba",
   "metadata": {},
   "source": [
    "Que2-Describe the role of predefinedkeywords in Python and provide examples of how they are used in a program.\r\n",
    "Ans2.\r\n",
    "Predefined keywords in Python, also known as reserved words, are the words that are reserved by the Python language itself. These keywords have special meanings and serve specific purposes in the language syntax. They are used to define the structure and flow of the code and cannot be used as identifiers (such as variable names, function names, etc.) because they are reserved for Python's own use.\r\n",
    "\r\n",
    "There are thirty-five keywords in Python-\r\n",
    "\r\n",
    "False,await,else,import,pass,None,break,except,in,raise,True,class,finally,is,return,and,continue,for,lambda,try,as,def,from,nonlocal,while,assert,del,global,not,with,async,elif,if,or,yield\r\n",
    "\r\n",
    "Role of Predefined Keywords in Python-\r\n",
    "\r\n",
    "Defining Variable Scope: Keywords like global, nonlocal, and del are used to manage variable scope and memory.\r\n",
    "\r\n",
    "Working with Data Types and Values: Keywords like True, False, None, and, or, not, is, and in are used to work with Boolean logic and manipulate data.\r\n",
    "\r\n",
    "Managing Imports and Modules: Keywords like import, from, as, and global are used to include external modules and manage namespaces within Python programs.\r\n",
    "\r\n",
    "Handling Exceptions: Keywords like try, except, finally, raise, and assert are used for exception handling, which allows the program to handle errors gracefully.\r\n",
    "\r\n",
    "Defining Functions and Classes: Keywords such as def, return, lambda, class, self, init, etc., are used to define functions and classes and manage their behavior.\r\n",
    "\r\n",
    "Defining Control Flow: Keywords like if, else, elif, while, for, break, continue, and pass are used to control the flow of execution in a program.\r\n",
    "\r\n",
    "Examples of How Keywords are Used in a Program-\r\n",
    "\r\n",
    "Example 1: Control Flow with if, elif, and else"
   ]
  },
  {
   "cell_type": "code",
   "execution_count": 4,
   "id": "06092322-a133-4136-8a66-a3922c594dfa",
   "metadata": {},
   "outputs": [
    {
     "name": "stdout",
     "output_type": "stream",
     "text": [
      "you will be served alcohol\n"
     ]
    }
   ],
   "source": [
    "age = 24\n",
    "if age >= 18:\n",
    "    print (\"you will be served alcohol\")\n",
    "else:\n",
    "    print (\"get out of the bar\")"
   ]
  },
  {
   "cell_type": "code",
   "execution_count": 6,
   "id": "64c4f6ab-4f41-4e29-bc5d-3a14ca1d14cd",
   "metadata": {},
   "outputs": [],
   "source": [
    "#if else >> two conditions\n",
    "#in real life you can have multiple conditions\n",
    "#syntax\n",
    "#if some condition\n",
    "#elif again some conditon \n",
    "#else"
   ]
  },
  {
   "cell_type": "code",
   "execution_count": 8,
   "id": "ca842290-bfd1-44de-bed0-4e2a67818b5a",
   "metadata": {},
   "outputs": [
    {
     "name": "stdout",
     "output_type": "stream",
     "text": [
      "tis block will not be executed\n"
     ]
    }
   ],
   "source": [
    "a = 10\n",
    "if a > 100:\n",
    "    print(\"this block will be executed\")\n",
    "elif a < 100:\n",
    "    print (\"tis block will not be executed\")\n",
    "else:\n",
    "    print (\"the number is equal to 100\")"
   ]
  },
  {
   "cell_type": "code",
   "execution_count": 10,
   "id": "4492ad7a-c197-4400-8d48-303bd600a357",
   "metadata": {},
   "outputs": [
    {
     "name": "stdout",
     "output_type": "stream",
     "text": [
      "grade B\n"
     ]
    }
   ],
   "source": [
    "score = 80\n",
    "if score>= 90:\n",
    "    print (\"grade A\")\n",
    "elif (80<=score<90):\n",
    "    print (\"grade B\")\n",
    "elif (60<=score<80):\n",
    "    print(\"grade C\")\n",
    "else:\n",
    "    print(\"grade D\")"
   ]
  },
  {
   "cell_type": "markdown",
   "id": "cbc82360-7428-4290-8816-bcc6ab0ed744",
   "metadata": {},
   "source": [
    "Example 2: Loop Control with for and break"
   ]
  },
  {
   "cell_type": "code",
   "execution_count": 13,
   "id": "b53ea748-9786-4f12-ba9e-2a393f9eb000",
   "metadata": {},
   "outputs": [
    {
     "name": "stdout",
     "output_type": "stream",
     "text": [
      "0\n",
      "1\n"
     ]
    }
   ],
   "source": [
    "for i in range(7):\n",
    "    if i == 2:\n",
    "        break\n",
    "    print(i)"
   ]
  },
  {
   "cell_type": "markdown",
   "id": "9060bff1-ce77-46d4-9a60-68833a5ff994",
   "metadata": {},
   "source": [
    "n this example:\n",
    "\n",
    "for is used to create a loop that iterates over a range of numbers.\n",
    "break is used to exit the loop prematurely when i equals 2.\n",
    "Example 3: Defining a Function with def and return"
   ]
  },
  {
   "cell_type": "code",
   "execution_count": 16,
   "id": "ef325d68-b8a1-4910-8091-31645265cfd8",
   "metadata": {},
   "outputs": [
    {
     "name": "stdout",
     "output_type": "stream",
     "text": [
      "Output of adding(16, 25) function is 41\n"
     ]
    }
   ],
   "source": [
    "def adding(x, y):  \n",
    "    i = x + y  \n",
    "    return i  \n",
    "result = adding(16, 25)  \n",
    "print(f'Output of adding(16, 25) function is {result}') "
   ]
  },
  {
   "cell_type": "markdown",
   "id": "d888e8f1-fa14-4416-b089-f73a507e09bd",
   "metadata": {},
   "source": [
    "Example 4: Exception Handling with try, except, and finally"
   ]
  },
  {
   "cell_type": "code",
   "execution_count": 19,
   "id": "465a2cd8-3f5a-4dbe-9598-e83de909113b",
   "metadata": {},
   "outputs": [
    {
     "name": "stdout",
     "output_type": "stream",
     "text": [
      "3.0\n"
     ]
    }
   ],
   "source": [
    "numerator = 9\n",
    "denominator = 3\n",
    "result = 0\n",
    "try:\n",
    "    result = numerator/denominator\n",
    "except ZeroDivisionError:\n",
    "    print('Can\\'t divide by zero!')\n",
    "else:\n",
    "    print(result)"
   ]
  },
  {
   "cell_type": "markdown",
   "id": "acc3ab16-6c86-4d4e-a4b6-0a54b6e162f3",
   "metadata": {},
   "source": [
    "Example 5: Using global to Modify a Global Variable"
   ]
  },
  {
   "cell_type": "code",
   "execution_count": 22,
   "id": "12ac94f5-a318-4a70-a377-faaad84b1b5d",
   "metadata": {},
   "outputs": [
    {
     "name": "stdout",
     "output_type": "stream",
     "text": [
      "1\n"
     ]
    }
   ],
   "source": [
    "count = 0\n",
    "\n",
    "def increment():\n",
    "    global count\n",
    "    count += 1\n",
    "\n",
    "increment()\n",
    "print(count)"
   ]
  },
  {
   "cell_type": "markdown",
   "id": "d4f59bb9-ba43-4e9e-a790-b3b91f85b07e",
   "metadata": {},
   "source": [
    "Conclusion-\n",
    "\n",
    "Predefined keywords are fundamental to Python programming, as they define the syntax and control structures that allow you to write organized, efficient, and readable code. Understanding how to use these keywords effectively is crucial for writing functional and maintainable Python programs"
   ]
  },
  {
   "cell_type": "markdown",
   "id": "7990ca5d-62fb-43ae-808b-239ef9939a36",
   "metadata": {},
   "source": [
    "Que3- Compare and contrast mutable and immutable objects in python with examples.\n",
    "\n",
    "Ans3.In Python, objects are classified into two categories: mutable and immutable. This distinction is crucial as it determines how objects behave when modified.\n",
    "\n",
    "Immutable Objects- Immutable objects are objects whose state or content cannot be changed after they are created. Any attempt to modify an immutable object results in the creation of a new object.\n",
    "\n",
    "Examples of Immutable Objects:*\n",
    "\n",
    "Integers: Like (1,2,3,4,5)\n",
    "Floats: the value which will be in point Like (1.2,2.4,3.4,4.2,5.4)\n",
    "Strings: string means word which will made by alphabets like (Ram,Shyam,road,train,number)\n",
    "boolean: true or false\n",
    "Examples:"
   ]
  },
  {
   "cell_type": "code",
   "execution_count": 27,
   "id": "57c339d5-a3e7-4e24-a046-5713c9a6fb4e",
   "metadata": {},
   "outputs": [
    {
     "data": {
      "text/plain": [
       "int"
      ]
     },
     "execution_count": 27,
     "metadata": {},
     "output_type": "execute_result"
    }
   ],
   "source": [
    "a = 20\n",
    "type(a)"
   ]
  },
  {
   "cell_type": "code",
   "execution_count": 29,
   "id": "d531091e-1e22-4b79-9fe0-c2ad089b3f6c",
   "metadata": {},
   "outputs": [
    {
     "data": {
      "text/plain": [
       "str"
      ]
     },
     "execution_count": 29,
     "metadata": {},
     "output_type": "execute_result"
    }
   ],
   "source": [
    "a = \"Jhanvi\"\n",
    "type(a)"
   ]
  },
  {
   "cell_type": "code",
   "execution_count": 31,
   "id": "30a4377f-cd60-47d1-ae33-98d6eba6c213",
   "metadata": {},
   "outputs": [
    {
     "data": {
      "text/plain": [
       "True"
      ]
     },
     "execution_count": 31,
     "metadata": {},
     "output_type": "execute_result"
    }
   ],
   "source": [
    "a = \"Jhanvi\"\n",
    "a <=\"Jhanvi\""
   ]
  },
  {
   "cell_type": "markdown",
   "id": "ca6c135e-e361-437b-a383-1d051d5fd6a4",
   "metadata": {},
   "source": [
    "Mutable Objects - Mutable objects are objects whose state or content can be changed after they are created.\n",
    "\n",
    "Lists: You can modify, add, or remove elements after creating a list.\n",
    "Dictionaries: You can change the values associated with keys, add new key-value pairs, or remove existing pairs.\n",
    "Sets: You can add or remove elements from a set."
   ]
  },
  {
   "cell_type": "markdown",
   "id": "efa19bde-2810-4d35-adb5-4cba49048f28",
   "metadata": {},
   "source": [
    "Example:"
   ]
  },
  {
   "cell_type": "code",
   "execution_count": 36,
   "id": "d3df9aab-72ed-4086-8091-40488d0c2931",
   "metadata": {},
   "outputs": [
    {
     "data": {
      "text/plain": [
       "(1, 2, 3, 4, 5)"
      ]
     },
     "execution_count": 36,
     "metadata": {},
     "output_type": "execute_result"
    }
   ],
   "source": [
    "a = (1,2,3,4,5)\n",
    "a"
   ]
  },
  {
   "cell_type": "code",
   "execution_count": 38,
   "id": "8c8fb84d-d81d-4ece-8f43-6eded452e5af",
   "metadata": {},
   "outputs": [
    {
     "data": {
      "text/plain": [
       "('a', 'b', '3', '4', '5')"
      ]
     },
     "execution_count": 38,
     "metadata": {},
     "output_type": "execute_result"
    }
   ],
   "source": [
    "b = (\"a\",\"b\",\"3\",\"4\",\"5\")\n",
    "b"
   ]
  },
  {
   "cell_type": "markdown",
   "id": "7b89f229-5ecc-4202-b9fc-ef2cdeccc4d6",
   "metadata": {},
   "source": [
    "Que4 - Discuss the different types of operators in Python and provide examples of how they are used.\n",
    "\n",
    "Ans4- Python operators are special symbols used to perform operations on variables and values. Python supports several types of operators, each serving a different purpose. Below are the primary categories of operators in Python along with examples of how they are used:\n",
    "\n",
    "Arithmetic Operators: Arithmetic operators are used to perform mathematical operations such as addition, subtraction, multiplication, etc.\n"
   ]
  },
  {
   "cell_type": "code",
   "execution_count": 42,
   "id": "44084fec-4bb2-487a-b3b3-793ac769d035",
   "metadata": {},
   "outputs": [
    {
     "data": {
      "text/plain": [
       "16"
      ]
     },
     "execution_count": 42,
     "metadata": {},
     "output_type": "execute_result"
    }
   ],
   "source": [
    "#Addition (+):\n",
    "x = 9\n",
    "y = 7\n",
    "x + y"
   ]
  },
  {
   "cell_type": "code",
   "execution_count": 44,
   "id": "8647f777-78e9-4081-bd71-a133438e421d",
   "metadata": {},
   "outputs": [
    {
     "data": {
      "text/plain": [
       "5"
      ]
     },
     "execution_count": 44,
     "metadata": {},
     "output_type": "execute_result"
    }
   ],
   "source": [
    "#Subtraction (-):\n",
    "x = 7\n",
    "y = 2\n",
    "x - y"
   ]
  },
  {
   "cell_type": "code",
   "execution_count": 46,
   "id": "660191f1-c832-4231-86fb-6d19e1baf1dc",
   "metadata": {},
   "outputs": [
    {
     "data": {
      "text/plain": [
       "63"
      ]
     },
     "execution_count": 46,
     "metadata": {},
     "output_type": "execute_result"
    }
   ],
   "source": [
    "#Multiplication (*):\n",
    "x = 9\n",
    "y = 7\n",
    "x * y"
   ]
  },
  {
   "cell_type": "code",
   "execution_count": 48,
   "id": "e86206d5-6ae5-4e91-b6d3-3c40a4000b35",
   "metadata": {},
   "outputs": [
    {
     "data": {
      "text/plain": [
       "3.0"
      ]
     },
     "execution_count": 48,
     "metadata": {},
     "output_type": "execute_result"
    }
   ],
   "source": [
    "#Division (/):\n",
    "x = 9\n",
    "y = 3\n",
    "x/y"
   ]
  },
  {
   "cell_type": "code",
   "execution_count": 50,
   "id": "e3a3b534-5c60-4fc5-a96c-aa8f0a9b75e5",
   "metadata": {},
   "outputs": [
    {
     "data": {
      "text/plain": [
       "4.5"
      ]
     },
     "execution_count": 50,
     "metadata": {},
     "output_type": "execute_result"
    }
   ],
   "source": [
    "#Floor Division (//):\n",
    "x = 9\n",
    "y = 2\n",
    "x/y"
   ]
  },
  {
   "cell_type": "code",
   "execution_count": 52,
   "id": "fa43fbd5-61aa-407d-8132-ecbfad38afc2",
   "metadata": {},
   "outputs": [
    {
     "data": {
      "text/plain": [
       "4"
      ]
     },
     "execution_count": 52,
     "metadata": {},
     "output_type": "execute_result"
    }
   ],
   "source": [
    "# to change it into an integer we will use floor division (//)\n",
    "x//y"
   ]
  },
  {
   "cell_type": "code",
   "execution_count": 54,
   "id": "3abf5c89-3282-48cf-bfac-2dd10d362073",
   "metadata": {},
   "outputs": [
    {
     "data": {
      "text/plain": [
       "3.0"
      ]
     },
     "execution_count": 54,
     "metadata": {},
     "output_type": "execute_result"
    }
   ],
   "source": [
    "#Modulus (%): to get the reminder\n",
    "x = 18\n",
    "y = 6\n",
    "x/y"
   ]
  },
  {
   "cell_type": "code",
   "execution_count": 56,
   "id": "2b4f153d-7f64-4f3c-a68b-49315fe963ec",
   "metadata": {},
   "outputs": [
    {
     "data": {
      "text/plain": [
       "0"
      ]
     },
     "execution_count": 56,
     "metadata": {},
     "output_type": "execute_result"
    }
   ],
   "source": [
    "x%y"
   ]
  },
  {
   "cell_type": "code",
   "execution_count": 58,
   "id": "7449148c-4e1a-48d1-af7d-398e6c8a1444",
   "metadata": {},
   "outputs": [
    {
     "data": {
      "text/plain": [
       "531441"
      ]
     },
     "execution_count": 58,
     "metadata": {},
     "output_type": "execute_result"
    }
   ],
   "source": [
    "#Exponentiation (**)\n",
    "x = 9\n",
    "y = 6\n",
    "x**y"
   ]
  },
  {
   "cell_type": "markdown",
   "id": "aa12f7fd-25f2-4c50-8907-ccf9ded835cb",
   "metadata": {},
   "source": [
    "2. Comparison Operators:\n",
    "Comparison operators are used to compare two values. They return a Boolean result (True or False)."
   ]
  },
  {
   "cell_type": "code",
   "execution_count": 61,
   "id": "733d2675-c05f-46d2-8f8b-501a9d9cfb2b",
   "metadata": {},
   "outputs": [
    {
     "data": {
      "text/plain": [
       "False"
      ]
     },
     "execution_count": 61,
     "metadata": {},
     "output_type": "execute_result"
    }
   ],
   "source": [
    "#Equal (==):\n",
    "x = 9\n",
    "y = 4\n",
    "x==y"
   ]
  },
  {
   "cell_type": "code",
   "execution_count": 63,
   "id": "4c6c7769-a78f-4938-8659-78a76f818bf8",
   "metadata": {},
   "outputs": [
    {
     "data": {
      "text/plain": [
       "True"
      ]
     },
     "execution_count": 63,
     "metadata": {},
     "output_type": "execute_result"
    }
   ],
   "source": [
    "x = 4\n",
    "y = 4\n",
    "x==y"
   ]
  },
  {
   "cell_type": "code",
   "execution_count": 65,
   "id": "d8fe6c45-815a-4eb1-9610-b4645032f4dc",
   "metadata": {},
   "outputs": [
    {
     "data": {
      "text/plain": [
       "True"
      ]
     },
     "execution_count": 65,
     "metadata": {},
     "output_type": "execute_result"
    }
   ],
   "source": [
    "#Not equal (!=):\n",
    "x = 9\n",
    "y = 4\n",
    "x!=y"
   ]
  },
  {
   "cell_type": "code",
   "execution_count": 67,
   "id": "35c982f0-a005-4f64-8568-9dabe6d8bc90",
   "metadata": {},
   "outputs": [
    {
     "data": {
      "text/plain": [
       "False"
      ]
     },
     "execution_count": 67,
     "metadata": {},
     "output_type": "execute_result"
    }
   ],
   "source": [
    "x = 4\n",
    "y = 4\n",
    "x!=y"
   ]
  },
  {
   "cell_type": "code",
   "execution_count": 69,
   "id": "1d798281-5464-4566-9cf2-5c7ced476582",
   "metadata": {},
   "outputs": [
    {
     "data": {
      "text/plain": [
       "True"
      ]
     },
     "execution_count": 69,
     "metadata": {},
     "output_type": "execute_result"
    }
   ],
   "source": [
    "#Greater than (>):\n",
    "x = 9\n",
    "y = 6\n",
    "x>y"
   ]
  },
  {
   "cell_type": "code",
   "execution_count": 71,
   "id": "55c1ab5d-d9be-40b9-ad75-f3311fb6582c",
   "metadata": {},
   "outputs": [
    {
     "data": {
      "text/plain": [
       "True"
      ]
     },
     "execution_count": 71,
     "metadata": {},
     "output_type": "execute_result"
    }
   ],
   "source": [
    "#Less than (<):\n",
    "x = 3\n",
    "y = 4\n",
    "x<4"
   ]
  },
  {
   "cell_type": "code",
   "execution_count": 73,
   "id": "69bb3922-926f-478e-9f5e-3f78a631a19c",
   "metadata": {},
   "outputs": [
    {
     "data": {
      "text/plain": [
       "False"
      ]
     },
     "execution_count": 73,
     "metadata": {},
     "output_type": "execute_result"
    }
   ],
   "source": [
    "#Greater than or equal to (>=)\n",
    "x = 3\n",
    "y = 4\n",
    "x>=y"
   ]
  },
  {
   "cell_type": "code",
   "execution_count": 75,
   "id": "de935726-1aa2-4449-bb2b-dcef803a6dc5",
   "metadata": {},
   "outputs": [
    {
     "data": {
      "text/plain": [
       "True"
      ]
     },
     "execution_count": 75,
     "metadata": {},
     "output_type": "execute_result"
    }
   ],
   "source": [
    "x = 4\n",
    "y = 4\n",
    "x>=y"
   ]
  },
  {
   "cell_type": "code",
   "execution_count": 77,
   "id": "5e4089e0-d06d-4aea-b70f-1a298f3e37ee",
   "metadata": {},
   "outputs": [
    {
     "data": {
      "text/plain": [
       "False"
      ]
     },
     "execution_count": 77,
     "metadata": {},
     "output_type": "execute_result"
    }
   ],
   "source": [
    "#Less than or equal to (<=):\n",
    "x = 9\n",
    "y = 4\n",
    "x<=y"
   ]
  },
  {
   "cell_type": "markdown",
   "id": "b2c8127a-ddbb-46cd-add5-010aa7a0f97e",
   "metadata": {},
   "source": [
    "3. Assignment Operators\n",
    "Assignment operators are used to assign values to variables."
   ]
  },
  {
   "cell_type": "code",
   "execution_count": 80,
   "id": "b22876c1-c2b1-48da-bc9d-f4376eec4c81",
   "metadata": {},
   "outputs": [
    {
     "data": {
      "text/plain": [
       "9"
      ]
     },
     "execution_count": 80,
     "metadata": {},
     "output_type": "execute_result"
    }
   ],
   "source": [
    "#Assignment (=):\n",
    "x = 9\n",
    "x"
   ]
  },
  {
   "cell_type": "code",
   "execution_count": 82,
   "id": "de8b2dac-b607-44c8-97cb-2919522b2ba2",
   "metadata": {},
   "outputs": [
    {
     "data": {
      "text/plain": [
       "18"
      ]
     },
     "execution_count": 82,
     "metadata": {},
     "output_type": "execute_result"
    }
   ],
   "source": [
    "#Add and assign (+=):\n",
    "x = 9\n",
    "x+=9\n",
    "x"
   ]
  },
  {
   "cell_type": "code",
   "execution_count": 84,
   "id": "06f5f648-8693-4c30-9f2d-e6f266cc9c85",
   "metadata": {},
   "outputs": [
    {
     "data": {
      "text/plain": [
       "10"
      ]
     },
     "execution_count": 84,
     "metadata": {},
     "output_type": "execute_result"
    }
   ],
   "source": [
    "#Multiply and assign (*=):\n",
    "x = 5\n",
    "x*=2\n",
    "x"
   ]
  },
  {
   "cell_type": "code",
   "execution_count": 86,
   "id": "ed65e64b-0a12-4395-93e4-5242bf9f57dd",
   "metadata": {},
   "outputs": [
    {
     "data": {
      "text/plain": [
       "4.0"
      ]
     },
     "execution_count": 86,
     "metadata": {},
     "output_type": "execute_result"
    }
   ],
   "source": [
    "#Divide and assign (/=):\n",
    "x = 8\n",
    "x/=2\n",
    "x"
   ]
  },
  {
   "cell_type": "code",
   "execution_count": 88,
   "id": "7e3711a6-792c-4da4-bdab-4ac7a0238b4d",
   "metadata": {},
   "outputs": [
    {
     "data": {
      "text/plain": [
       "7"
      ]
     },
     "execution_count": 88,
     "metadata": {},
     "output_type": "execute_result"
    }
   ],
   "source": [
    "#Modulus and assign (%=):\n",
    "x = 15\n",
    "x%= 8\n",
    "x"
   ]
  },
  {
   "cell_type": "code",
   "execution_count": 90,
   "id": "53ab373c-81c2-4989-a56d-296e6f4cc3bb",
   "metadata": {},
   "outputs": [
    {
     "data": {
      "text/plain": [
       "64"
      ]
     },
     "execution_count": 90,
     "metadata": {},
     "output_type": "execute_result"
    }
   ],
   "source": [
    "#Exponent and assign (**=):\n",
    "x = 8\n",
    "x**=2\n",
    "x"
   ]
  },
  {
   "cell_type": "code",
   "execution_count": 92,
   "id": "41893c0f-32f7-40aa-bf92-7aa289a5b4c1",
   "metadata": {},
   "outputs": [
    {
     "data": {
      "text/plain": [
       "3"
      ]
     },
     "execution_count": 92,
     "metadata": {},
     "output_type": "execute_result"
    }
   ],
   "source": [
    "#Floor divide and assign (//=):\n",
    "x = 7\n",
    "x //= 2\n",
    "x"
   ]
  },
  {
   "cell_type": "markdown",
   "id": "272f714e-c997-4547-a87d-ef7ecd731f32",
   "metadata": {},
   "source": [
    "4. Logical Operators:\n",
    "Logical operators are used to combine conditional statements and return a Boolean result."
   ]
  },
  {
   "cell_type": "code",
   "execution_count": 95,
   "id": "0f4ff103-fba7-4821-a9cd-4824493e942a",
   "metadata": {},
   "outputs": [
    {
     "data": {
      "text/plain": [
       "False"
      ]
     },
     "execution_count": 95,
     "metadata": {},
     "output_type": "execute_result"
    }
   ],
   "source": [
    "#AND (and):\n",
    "result = (x > 9) and (y < 5)\n",
    "result"
   ]
  },
  {
   "cell_type": "code",
   "execution_count": 97,
   "id": "23f0de19-5a8a-4d8c-9006-a89c420336d9",
   "metadata": {},
   "outputs": [
    {
     "data": {
      "text/plain": [
       "True"
      ]
     },
     "execution_count": 97,
     "metadata": {},
     "output_type": "execute_result"
    }
   ],
   "source": [
    "#OR (or):\n",
    "result = (x > 4) or (y < 5)\n",
    "result"
   ]
  },
  {
   "cell_type": "code",
   "execution_count": 99,
   "id": "38daeafc-ea9c-4252-a381-e59e4da66854",
   "metadata": {},
   "outputs": [
    {
     "data": {
      "text/plain": [
       "True"
      ]
     },
     "execution_count": 99,
     "metadata": {},
     "output_type": "execute_result"
    }
   ],
   "source": [
    "#NOT (not):\n",
    "x = 2\n",
    "result = not(x > 5) \n",
    "result"
   ]
  },
  {
   "cell_type": "markdown",
   "id": "ae59309e-781d-4851-ab0a-308fde2a7357",
   "metadata": {},
   "source": [
    "5. Bitwise Operators\n",
    "Bitwise operators operate on bits and perform bit-by-bit operations."
   ]
  },
  {
   "cell_type": "code",
   "execution_count": 104,
   "id": "4c8d9e91-61a8-4cf9-a156-c95785bf0a24",
   "metadata": {},
   "outputs": [
    {
     "data": {
      "text/plain": [
       "32"
      ]
     },
     "execution_count": 104,
     "metadata": {},
     "output_type": "execute_result"
    }
   ],
   "source": [
    "#AND (&):\n",
    "x = 98\n",
    "y = 32\n",
    "x & y"
   ]
  },
  {
   "cell_type": "code",
   "execution_count": 106,
   "id": "b449eea7-1f13-4896-8e75-31f5d34543a7",
   "metadata": {},
   "outputs": [
    {
     "data": {
      "text/plain": [
       "'0b1100010'"
      ]
     },
     "execution_count": 106,
     "metadata": {},
     "output_type": "execute_result"
    }
   ],
   "source": [
    "bin(98)"
   ]
  },
  {
   "cell_type": "code",
   "execution_count": 108,
   "id": "e1a4090c-49ef-4543-8352-7ff76797ae24",
   "metadata": {},
   "outputs": [
    {
     "data": {
      "text/plain": [
       "'0b100000'"
      ]
     },
     "execution_count": 108,
     "metadata": {},
     "output_type": "execute_result"
    }
   ],
   "source": [
    "bin(32)"
   ]
  },
  {
   "cell_type": "code",
   "execution_count": 110,
   "id": "2953a364-7109-4c01-b88c-86ae36e362d0",
   "metadata": {},
   "outputs": [
    {
     "data": {
      "text/plain": [
       "13"
      ]
     },
     "execution_count": 110,
     "metadata": {},
     "output_type": "execute_result"
    }
   ],
   "source": [
    "#OR (|):\n",
    "x = 8\n",
    "y = 5\n",
    "x | y"
   ]
  },
  {
   "cell_type": "code",
   "execution_count": 112,
   "id": "d1844ca4-6682-4e24-a3b7-012b38f93495",
   "metadata": {},
   "outputs": [
    {
     "data": {
      "text/plain": [
       "'0b1000'"
      ]
     },
     "execution_count": 112,
     "metadata": {},
     "output_type": "execute_result"
    }
   ],
   "source": [
    "bin(8)"
   ]
  },
  {
   "cell_type": "code",
   "execution_count": 114,
   "id": "198c4a91-25a7-4f3f-b51c-375e09071138",
   "metadata": {},
   "outputs": [
    {
     "data": {
      "text/plain": [
       "'0b101'"
      ]
     },
     "execution_count": 114,
     "metadata": {},
     "output_type": "execute_result"
    }
   ],
   "source": [
    "bin(5)"
   ]
  },
  {
   "cell_type": "code",
   "execution_count": 116,
   "id": "d83f1c69-6870-4303-85e6-2e67b5ac8658",
   "metadata": {},
   "outputs": [
    {
     "data": {
      "text/plain": [
       "'0b1101'"
      ]
     },
     "execution_count": 116,
     "metadata": {},
     "output_type": "execute_result"
    }
   ],
   "source": [
    "bin(13)"
   ]
  },
  {
   "cell_type": "code",
   "execution_count": 118,
   "id": "50336698-52bc-436c-9729-9e0cf868aea3",
   "metadata": {},
   "outputs": [
    {
     "data": {
      "text/plain": [
       "12"
      ]
     },
     "execution_count": 118,
     "metadata": {},
     "output_type": "execute_result"
    }
   ],
   "source": [
    "#XOR (^):\n",
    "x = 8\n",
    "y = 4\n",
    "x ^ y"
   ]
  },
  {
   "cell_type": "code",
   "execution_count": 120,
   "id": "63f2d313-0a19-4ecd-af01-d5ad983b2266",
   "metadata": {},
   "outputs": [
    {
     "data": {
      "text/plain": [
       "'0b1000'"
      ]
     },
     "execution_count": 120,
     "metadata": {},
     "output_type": "execute_result"
    }
   ],
   "source": [
    "bin(8)"
   ]
  },
  {
   "cell_type": "code",
   "execution_count": 122,
   "id": "0a61eda7-939e-404f-94a1-ebda03fa7efe",
   "metadata": {},
   "outputs": [
    {
     "data": {
      "text/plain": [
       "'0b100'"
      ]
     },
     "execution_count": 122,
     "metadata": {},
     "output_type": "execute_result"
    }
   ],
   "source": [
    "bin(4)"
   ]
  },
  {
   "cell_type": "code",
   "execution_count": 124,
   "id": "94d3822b-9c1e-48e5-9702-7fc3a9eeec7a",
   "metadata": {},
   "outputs": [
    {
     "data": {
      "text/plain": [
       "'0b1100'"
      ]
     },
     "execution_count": 124,
     "metadata": {},
     "output_type": "execute_result"
    }
   ],
   "source": [
    "bin(12)"
   ]
  },
  {
   "cell_type": "code",
   "execution_count": 126,
   "id": "8b77d0b0-ad6d-4559-8b62-0b480c575b1f",
   "metadata": {},
   "outputs": [
    {
     "data": {
      "text/plain": [
       "-101"
      ]
     },
     "execution_count": 126,
     "metadata": {},
     "output_type": "execute_result"
    }
   ],
   "source": [
    "#NOT (~):\n",
    "~100"
   ]
  },
  {
   "cell_type": "code",
   "execution_count": 128,
   "id": "81007b4e-caec-4a74-a5a5-0cfe977d3738",
   "metadata": {},
   "outputs": [
    {
     "data": {
      "text/plain": [
       "280"
      ]
     },
     "execution_count": 128,
     "metadata": {},
     "output_type": "execute_result"
    }
   ],
   "source": [
    "#Left shift (<<):\n",
    "35<<3"
   ]
  },
  {
   "cell_type": "code",
   "execution_count": 130,
   "id": "437e8898-5283-4f9a-bc5b-02409b312fe3",
   "metadata": {},
   "outputs": [
    {
     "data": {
      "text/plain": [
       "'0b100011'"
      ]
     },
     "execution_count": 130,
     "metadata": {},
     "output_type": "execute_result"
    }
   ],
   "source": [
    "bin(35)"
   ]
  },
  {
   "cell_type": "code",
   "execution_count": 132,
   "id": "fabc450e-40fe-4b81-8d0b-d2be9d24657f",
   "metadata": {},
   "outputs": [
    {
     "data": {
      "text/plain": [
       "'0b11'"
      ]
     },
     "execution_count": 132,
     "metadata": {},
     "output_type": "execute_result"
    }
   ],
   "source": [
    "bin(3)"
   ]
  },
  {
   "cell_type": "code",
   "execution_count": 134,
   "id": "ef30ed65-19f6-4e85-b90f-c1c423f1db32",
   "metadata": {},
   "outputs": [
    {
     "data": {
      "text/plain": [
       "'0b100011000'"
      ]
     },
     "execution_count": 134,
     "metadata": {},
     "output_type": "execute_result"
    }
   ],
   "source": [
    "bin(280)"
   ]
  },
  {
   "cell_type": "code",
   "execution_count": 136,
   "id": "a3b97199-2fdf-4028-a59b-295bdb58cd15",
   "metadata": {},
   "outputs": [
    {
     "data": {
      "text/plain": [
       "35"
      ]
     },
     "execution_count": 136,
     "metadata": {},
     "output_type": "execute_result"
    }
   ],
   "source": [
    "#Right shift (>>):\n",
    "280>>3"
   ]
  },
  {
   "cell_type": "code",
   "execution_count": 138,
   "id": "b0f1c598-68c7-461c-803d-e2ab7cdeafe3",
   "metadata": {},
   "outputs": [
    {
     "data": {
      "text/plain": [
       "'0b100011000'"
      ]
     },
     "execution_count": 138,
     "metadata": {},
     "output_type": "execute_result"
    }
   ],
   "source": [
    "bin(280)"
   ]
  },
  {
   "cell_type": "markdown",
   "id": "4a30e5a6-7db1-4e4a-aecf-67c7d7cdc6c2",
   "metadata": {},
   "source": [
    "6. Membership Operators\n",
    "Membership operators are used to test if a sequence (such as a list, tuple, or string) contains a specified element."
   ]
  },
  {
   "cell_type": "code",
   "execution_count": 144,
   "id": "cc10813a-552d-4d3c-a0e9-3d18e68432c7",
   "metadata": {},
   "outputs": [
    {
     "data": {
      "text/plain": [
       "True"
      ]
     },
     "execution_count": 144,
     "metadata": {},
     "output_type": "execute_result"
    }
   ],
   "source": [
    "#In (in):\n",
    "x = \"Jhnavi\"\n",
    "\"Jh\" in x"
   ]
  },
  {
   "cell_type": "code",
   "execution_count": 146,
   "id": "d4439bc8-a223-42a2-9a02-9b01b2bbc738",
   "metadata": {},
   "outputs": [
    {
     "data": {
      "text/plain": [
       "False"
      ]
     },
     "execution_count": 146,
     "metadata": {},
     "output_type": "execute_result"
    }
   ],
   "source": [
    "#Not in (not in):\n",
    "x = [\"Ram\",\"Shayam\",\"Karan\"]\n",
    "\"Ram\" not in x"
   ]
  },
  {
   "cell_type": "code",
   "execution_count": 148,
   "id": "0014bb1b-6a91-453f-af89-9968704cb12e",
   "metadata": {},
   "outputs": [
    {
     "data": {
      "text/plain": [
       "True"
      ]
     },
     "execution_count": 148,
     "metadata": {},
     "output_type": "execute_result"
    }
   ],
   "source": [
    "x = [\"Riya\",\"Soumya\",\"Kiran\"]\n",
    "\"Jhanvi\" not in x"
   ]
  },
  {
   "cell_type": "markdown",
   "id": "8937dc77-b885-4190-887c-a1b4024c0a77",
   "metadata": {},
   "source": [
    "7. Identity Operators\n",
    "Identity operators are used to compare the memory locations of two objects."
   ]
  },
  {
   "cell_type": "code",
   "execution_count": 151,
   "id": "62e28320-abb0-4ff0-b997-f560110df9e9",
   "metadata": {},
   "outputs": [
    {
     "data": {
      "text/plain": [
       "True"
      ]
     },
     "execution_count": 151,
     "metadata": {},
     "output_type": "execute_result"
    }
   ],
   "source": [
    "#Is (is):\n",
    "a = [1,2,3,4]\n",
    "b = a\n",
    "a is b"
   ]
  },
  {
   "cell_type": "code",
   "execution_count": 153,
   "id": "b7a78713-4c5e-40b2-b0a2-17f2d3a8b727",
   "metadata": {},
   "outputs": [
    {
     "data": {
      "text/plain": [
       "True"
      ]
     },
     "execution_count": 153,
     "metadata": {},
     "output_type": "execute_result"
    }
   ],
   "source": [
    "#Is not (is not):\n",
    "a = [1,2,3,4]\n",
    "c = a\n",
    "a is not b"
   ]
  },
  {
   "cell_type": "markdown",
   "id": "2b887788-98e2-4208-9748-f1d2e2c8747a",
   "metadata": {},
   "source": [
    "8. Special Operators\n",
    "Python also includes some special operators that provide specific functionality, such as the following:"
   ]
  },
  {
   "cell_type": "code",
   "execution_count": 156,
   "id": "e3249555-92ed-4e14-a120-6c9194844b88",
   "metadata": {},
   "outputs": [
    {
     "name": "stdout",
     "output_type": "stream",
     "text": [
      "I'll play cricket\n"
     ]
    }
   ],
   "source": [
    "#Ternary Operator\n",
    "weather = \"Sunny\"\n",
    "if weather ==\"Sunny\":\n",
    "    print(\"I'll play cricket\")\n",
    "else:\n",
    "    print(\"I'll watch TV\")"
   ]
  },
  {
   "cell_type": "markdown",
   "id": "3e8bfd49-1080-4804-8100-cf7790fe7bad",
   "metadata": {},
   "source": [
    "Each operator type is essential for performing different types of operations, from simple arithmetic to complex logical and bitwise operations."
   ]
  },
  {
   "cell_type": "markdown",
   "id": "40c2a5bc-75a3-4b73-b9cb-ae709d11b02d",
   "metadata": {},
   "source": [
    "Que 5- Explain the concept of type casting in Python with examples.\n",
    "\n",
    "Ans 5-Type casting: in Python refers to the process of converting a value from one data type to another. This is also known as type conversion. Python provides several built-in functions to convert data types explicitly. The most common types are integers (int), floating-point numbers (float), strings (str), and more.\n",
    "\n",
    "Types of Type Casting\n",
    "\n",
    "There are two types of type casting in Python:\n",
    "\n",
    "Implicit Type Casting: The Python interpreter automatically converts one data type to another without any user intervention. This usually happens when combining different data types, such as an integer and a float."
   ]
  },
  {
   "cell_type": "code",
   "execution_count": 160,
   "id": "a5f8a1b0-9fb0-4245-a3d6-94fb6a845964",
   "metadata": {},
   "outputs": [],
   "source": [
    "# Example of implicit type casting\n",
    "x = 12   # Integer\n",
    "y = 4.5  # Float"
   ]
  },
  {
   "cell_type": "code",
   "execution_count": 162,
   "id": "364f45e3-3651-4e88-ba76-bc7d64ee14a5",
   "metadata": {},
   "outputs": [
    {
     "data": {
      "text/plain": [
       "16.5"
      ]
     },
     "execution_count": 162,
     "metadata": {},
     "output_type": "execute_result"
    }
   ],
   "source": [
    "# Adding an integer and a float results in a float\n",
    "x = 12\n",
    "y = 4.5\n",
    "x + y"
   ]
  },
  {
   "cell_type": "markdown",
   "id": "5ac68fba-a728-4f13-9ce5-8a9678ff3b58",
   "metadata": {},
   "source": [
    "Explicit Type Casting: The conversion is explicitly defined by the user using Python's built-in functions. This type of conversion is necessary when you want to convert one data type to another deliberately."
   ]
  },
  {
   "cell_type": "code",
   "execution_count": 165,
   "id": "c9b89db8-17d2-4371-9b09-36cfa51f2be8",
   "metadata": {},
   "outputs": [
    {
     "name": "stdout",
     "output_type": "stream",
     "text": [
      "<class 'str'>\n"
     ]
    }
   ],
   "source": [
    "#Example of Explicit Type Casting\n",
    "a = \"6\"\n",
    "print(type(a))"
   ]
  },
  {
   "cell_type": "code",
   "execution_count": 167,
   "id": "2561a498-a3f4-4272-8882-41a2a669c7d9",
   "metadata": {},
   "outputs": [
    {
     "name": "stdout",
     "output_type": "stream",
     "text": [
      "<class 'int'>\n"
     ]
    }
   ],
   "source": [
    "print(type(int(a)))"
   ]
  },
  {
   "cell_type": "markdown",
   "id": "a204265f-83fa-4af8-91c9-5f5cdc7757a8",
   "metadata": {},
   "source": [
    "Common Functions for Explicit Type Casting:\n",
    "\n",
    "int(x): Converts x to an integer.\n",
    "float(x): Converts x to a float.\n",
    "str(x): Converts x to a string.\n",
    "list(x): Converts x to a list.\n",
    "tuple(x): Converts x to a tuple."
   ]
  },
  {
   "cell_type": "code",
   "execution_count": 170,
   "id": "4d44c997-6eb1-47ab-ae23-8753a8adadda",
   "metadata": {},
   "outputs": [
    {
     "data": {
      "text/plain": [
       "4"
      ]
     },
     "execution_count": 170,
     "metadata": {},
     "output_type": "execute_result"
    }
   ],
   "source": [
    "# Convert float to integer\n",
    "a = 4.5\n",
    "int(a)"
   ]
  },
  {
   "cell_type": "code",
   "execution_count": 172,
   "id": "a291f024-cb67-40f0-8a64-8302f71ba4a2",
   "metadata": {},
   "outputs": [
    {
     "name": "stdout",
     "output_type": "stream",
     "text": [
      "8.5\n"
     ]
    }
   ],
   "source": [
    "# Convert string to float\n",
    "c = \"8.5\"\n",
    "d = float(c)"
   ]
  },
  {
   "cell_type": "code",
   "execution_count": 174,
   "id": "16b61262-2a05-4867-8bf2-c0b92e8842c0",
   "metadata": {},
   "outputs": [
    {
     "data": {
      "text/plain": [
       "float"
      ]
     },
     "execution_count": 174,
     "metadata": {},
     "output_type": "execute_result"
    }
   ],
   "source": [
    "type(d)"
   ]
  },
  {
   "cell_type": "code",
   "execution_count": 176,
   "id": "23a6ecf8-1718-4e77-907b-a5d3f5e3f323",
   "metadata": {},
   "outputs": [
    {
     "name": "stdout",
     "output_type": "stream",
     "text": [
      "15\n"
     ]
    }
   ],
   "source": [
    "# Convert integer to string\n",
    "e = 15\n",
    "f = str(e)\n",
    "print(f)"
   ]
  },
  {
   "cell_type": "code",
   "execution_count": 178,
   "id": "54df80fd-dc01-4515-beff-e47487f4b956",
   "metadata": {},
   "outputs": [
    {
     "data": {
      "text/plain": [
       "str"
      ]
     },
     "execution_count": 178,
     "metadata": {},
     "output_type": "execute_result"
    }
   ],
   "source": [
    "type(f)"
   ]
  },
  {
   "cell_type": "code",
   "execution_count": 180,
   "id": "72bbd028-ad43-462b-b65d-b68b2c87a73f",
   "metadata": {},
   "outputs": [
    {
     "name": "stdout",
     "output_type": "stream",
     "text": [
      "(1, 2, 3)\n"
     ]
    }
   ],
   "source": [
    "# Convert list to tuple\n",
    "g = [1, 2, 3]\n",
    "h = tuple(g)\n",
    "print(h)"
   ]
  },
  {
   "cell_type": "code",
   "execution_count": 182,
   "id": "58077b51-e54a-4454-b818-a4cf3f1d3f01",
   "metadata": {},
   "outputs": [
    {
     "data": {
      "text/plain": [
       "tuple"
      ]
     },
     "execution_count": 182,
     "metadata": {},
     "output_type": "execute_result"
    }
   ],
   "source": [
    "type(h)"
   ]
  },
  {
   "cell_type": "markdown",
   "id": "ac68c207-64fa-413a-9db7-880e1b0b194b",
   "metadata": {},
   "source": [
    "tuple\n",
    "In these examples:\n",
    "\n",
    "int(a) converts the float 5.7 to the integer 5 by truncating the decimal part.\n",
    "float(c) converts the string \"3.14\" to the float 3.14.\n",
    "str(e) converts the integer 10 to the string '10'.\n",
    "tuple(g) converts the list [1, 2, 3] to a tuple (1, 2, 3).\n",
    "Why Use Type Casting?\n",
    "\n",
    "Data Compatibility: Type casting ensures that operations involving different data types are compatible.\n",
    "Avoiding Errors: Certain operations in Python require specific data types. Casting can prevent errors.\n",
    "Data Manipulation: Casting helps in manipulating data in various formats, such as converting strings to numbers for mathematical calculations.\n",
    "Conclusion:\n",
    "\n",
    "Type casting is a fundamental concept in Python that allows you to convert data from one type to another, either implicitly or explicitly. Understanding how to use type casting effectively can help you avoid errors and work more efficiently with different data types."
   ]
  },
  {
   "cell_type": "markdown",
   "id": "ca2ccf46-c3cb-408a-9725-e65f301122a3",
   "metadata": {},
   "source": [
    "Que 6-How do conditional statements work in Python? Illustrate with examples.\n",
    "\n",
    "Ans 6-Conditional statements in Python allow you to execute different blocks of code based on whether a condition (or a set of conditions) is True or False. The most common conditional statements in Python are if, elif, and else."
   ]
  },
  {
   "cell_type": "code",
   "execution_count": 186,
   "id": "00d7debd-ded2-4685-afbf-42cda7f3c1a9",
   "metadata": {},
   "outputs": [],
   "source": [
    "#if Statement: \n",
    "#syntax\n",
    "#if condition true:\n",
    "#block of code willbe executed"
   ]
  },
  {
   "cell_type": "code",
   "execution_count": 188,
   "id": "6fc2724e-c14a-449a-8663-18d5c7d52eef",
   "metadata": {},
   "outputs": [
    {
     "data": {
      "text/plain": [
       "True"
      ]
     },
     "execution_count": 188,
     "metadata": {},
     "output_type": "execute_result"
    }
   ],
   "source": [
    "9>4 "
   ]
  },
  {
   "cell_type": "code",
   "execution_count": 190,
   "id": "85ee2354-5ee7-4064-a043-be450df7dc11",
   "metadata": {},
   "outputs": [
    {
     "data": {
      "text/plain": [
       "False"
      ]
     },
     "execution_count": 190,
     "metadata": {},
     "output_type": "execute_result"
    }
   ],
   "source": [
    "10<2"
   ]
  },
  {
   "cell_type": "code",
   "execution_count": 192,
   "id": "4ab73650-28ea-445f-b5a4-15ace1fddfb6",
   "metadata": {},
   "outputs": [
    {
     "name": "stdout",
     "output_type": "stream",
     "text": [
      "I'll not play cricket\n"
     ]
    }
   ],
   "source": [
    "weather = \"rainy\"\n",
    "if weather == \"rainy\":\n",
    "    print(\"I'll not play cricket\")"
   ]
  },
  {
   "cell_type": "code",
   "execution_count": 194,
   "id": "4e92b76b-6c61-4e78-bc49-40af153118ea",
   "metadata": {},
   "outputs": [],
   "source": [
    "#If the statement will be true the next block will start after 4 space"
   ]
  },
  {
   "cell_type": "markdown",
   "id": "acdab282-2caf-4b95-9bae-3aab2675020e",
   "metadata": {},
   "source": [
    "elif (Else If) Statement:"
   ]
  },
  {
   "cell_type": "code",
   "execution_count": 197,
   "id": "4b7fe5bd-1290-4541-987b-4204069958d5",
   "metadata": {},
   "outputs": [
    {
     "name": "stdout",
     "output_type": "stream",
     "text": [
      "I'll play cricket\n"
     ]
    }
   ],
   "source": [
    "#if else >> execute the if blocvk when th condition is true else execute else block\n",
    "weather = \"sunny\"\n",
    "if weather == \"sunny\": #conditon is true execute if block\n",
    "    print(\"I'll play cricket\")\n",
    "else: #condition is not true execute else block\n",
    "    print(\"I'll watch T.V\")"
   ]
  },
  {
   "cell_type": "code",
   "execution_count": 199,
   "id": "726b774b-3e61-4b1d-9a79-65ad091bf248",
   "metadata": {},
   "outputs": [
    {
     "name": "stdout",
     "output_type": "stream",
     "text": [
      "tis block will not be executed\n"
     ]
    }
   ],
   "source": [
    "#else statement:\n",
    "a = 10\n",
    "if a > 100:\n",
    "    print(\"this block will be executed\")\n",
    "elif a < 100:\n",
    "    print (\"tis block will not be executed\")\n",
    "else:\n",
    "    print (\"the number is equal to 100\")"
   ]
  },
  {
   "cell_type": "markdown",
   "id": "183c5566-3aeb-4c52-8b33-87e02905d197",
   "metadata": {},
   "source": [
    "Combining if, elif, and else"
   ]
  },
  {
   "cell_type": "code",
   "execution_count": 202,
   "id": "d13fc1f8-a695-45e2-bf3f-163cd82fd574",
   "metadata": {},
   "outputs": [
    {
     "name": "stdout",
     "output_type": "stream",
     "text": [
      "this block will bw executed if a > 100\n"
     ]
    }
   ],
   "source": [
    "a = 100000\n",
    "if a > 100:\n",
    "    print (\"this block will bw executed if a > 100\")\n",
    "elif a > 2000:\n",
    "    print(\"the number is huge\")\n",
    "elif a < 100:\n",
    "    print(\"this block will be executed if a < 100\")\n",
    "else:\n",
    "    print(\"the number is equal to 100\")"
   ]
  },
  {
   "cell_type": "code",
   "execution_count": 204,
   "id": "14327050-0798-4e0f-8592-8f51a447868d",
   "metadata": {},
   "outputs": [
    {
     "name": "stdout",
     "output_type": "stream",
     "text": [
      "x is not greater then 5\n"
     ]
    }
   ],
   "source": [
    "#Nested conditions:\n",
    "#nested if else>> you can have multiple if else\n",
    "x = 1\n",
    "y = 6\n",
    "if x > 5:\n",
    "    if y > 5:\n",
    "        print(\"both x and y is greater then 5\")\n",
    "    else:\n",
    "        print(\"x is greater then 5 but y is not\")\n",
    "else: \n",
    "    print(\"x is not greater then 5\")"
   ]
  },
  {
   "cell_type": "markdown",
   "id": "385a539d-48ec-47ae-82a6-1b3b081ca615",
   "metadata": {},
   "source": [
    "Summary\n",
    "\n",
    "if: Executes a block of code if the condition is True.\n",
    "elif: Checks another condition if the previous conditions were False.\n",
    "else: Executes a block of code if all previous conditions are False."
   ]
  },
  {
   "cell_type": "markdown",
   "id": "b7ec7dd9-22e1-4aec-8f6e-e3f90befa78f",
   "metadata": {},
   "source": [
    "Que 7-Describe the different types of loops in Python and their use cases with examples.\n",
    "\n",
    "Ans 7-In Python, loops are used to repeatedly execute a block of code as long as a specified condition is met or until a sequence is exhausted. The two primary types of loops in Python are the for loop and the while loop. Each has its own use cases and advantages.\n",
    "\n",
    "for Loop\n",
    "The for loop is used to iterate over a sequence (like a list, tuple, string, or range) or other iterable objects (like dictionaries or sets). It's commonly used when you want to execute a block of code a specific number of times or iterate over each item in a collection.\n",
    "\n",
    "Syntax:\n",
    "\n",
    "python for item in iterable: # Code to execute\n",
    "\n",
    "Use Cases:\n",
    "\n",
    "Iterating through items in a list, tuple, or dictionary.\n",
    "Executing a block of code a certain number of times using range().\n",
    "Processing strings character by character."
   ]
  },
  {
   "cell_type": "code",
   "execution_count": 208,
   "id": "b06b0150-f1ef-441f-8124-8503c65a20cd",
   "metadata": {},
   "outputs": [
    {
     "name": "stdout",
     "output_type": "stream",
     "text": [
      "['apple', 'banana', 'cherry']\n"
     ]
    }
   ],
   "source": [
    "#Examples\n",
    "#Iterating through a list:\n",
    "fruits = [\"apple\", \"banana\", \"cherry\"]\n",
    "print(fruits)"
   ]
  },
  {
   "cell_type": "code",
   "execution_count": 210,
   "id": "487d38a8-92f8-476e-912d-e1374878d1d9",
   "metadata": {},
   "outputs": [
    {
     "name": "stdout",
     "output_type": "stream",
     "text": [
      "0\n",
      "1\n",
      "2\n",
      "3\n",
      "4\n"
     ]
    }
   ],
   "source": [
    "#Using range() to loop a specific number of times:\n",
    "for i in range(5):\n",
    "    print(i)"
   ]
  },
  {
   "cell_type": "code",
   "execution_count": 213,
   "id": "96dcac4b-c1a0-4260-b41c-2d6f7c5ad263",
   "metadata": {},
   "outputs": [
    {
     "name": "stdout",
     "output_type": "stream",
     "text": [
      "Alice scored 90\n",
      "Bob scored 85\n",
      "Charlie scored 92\n"
     ]
    }
   ],
   "source": [
    "#Iterating through a dictionary:\n",
    "student_scores = {\"Alice\": 90, \"Bob\": 85, \"Charlie\": 92}\n",
    "for student, score in student_scores.items():\n",
    "    print(f\"{student} scored {score}\")"
   ]
  },
  {
   "cell_type": "markdown",
   "id": "66f76c15-022b-4b2c-8a71-c20891913cf4",
   "metadata": {},
   "source": [
    "while Loop\n",
    "The while loop is used to repeatedly execute a block of code as long as a specified condition is True. It is particularly useful when the number of iterations is not known beforehand, and the loop should continue running until a specific condition changes.\n",
    "\n",
    "\n",
    "\n",
    "\n",
    "\n",
    "\n",
    "\n",
    "\n",
    "Syntax:\n",
    "\n",
    "python\n",
    "while condition:\n",
    "    # Code to execute\n"
   ]
  },
  {
   "cell_type": "code",
   "execution_count": 216,
   "id": "e68488f6-d99c-4094-a657-5e5a4e61e60a",
   "metadata": {},
   "outputs": [],
   "source": [
    "#Examples:\n",
    "#Basic while loop:"
   ]
  },
  {
   "cell_type": "code",
   "execution_count": 218,
   "id": "34df6f73-b32f-4083-ba39-b2ec22edd8ef",
   "metadata": {},
   "outputs": [
    {
     "name": "stdout",
     "output_type": "stream",
     "text": [
      "1\n",
      "2\n",
      "3\n",
      "4\n",
      "5\n",
      "6\n"
     ]
    }
   ],
   "source": [
    "n = 7\n",
    "i = 1\n",
    "while i<n:\n",
    "    print(i)\n",
    "    i = i+1"
   ]
  },
  {
   "cell_type": "code",
   "execution_count": 220,
   "id": "ae939921-300a-42d8-92cd-5341d7939903",
   "metadata": {},
   "outputs": [],
   "source": [
    "# Loop until a condition is met:"
   ]
  },
  {
   "cell_type": "code",
   "execution_count": 222,
   "id": "779af64d-2448-43b1-bd1d-590e77be50e0",
   "metadata": {},
   "outputs": [
    {
     "name": "stdin",
     "output_type": "stream",
     "text": [
      "Enter the password:  Jhanvi\n"
     ]
    },
    {
     "name": "stdout",
     "output_type": "stream",
     "text": [
      "Access granted!\n"
     ]
    }
   ],
   "source": [
    "password = \"\"\n",
    "while password != \"Jhanvi\":\n",
    "    password = input(\"Enter the password: \")\n",
    "print(\"Access granted!\")"
   ]
  },
  {
   "cell_type": "markdown",
   "id": "4cf789ac-99a4-4c48-9b5e-5d7ed754ea1d",
   "metadata": {},
   "source": [
    "3. break and continue Statements"
   ]
  },
  {
   "cell_type": "markdown",
   "id": "b5fdc60d-d2f9-4b9c-8c09-02759a3f38ab",
   "metadata": {},
   "source": [
    "Break: Terminates the loop prematurely. This is useful when you want to exit a loop based on a specific condition, even if the loop's main condition hasn't been met yet."
   ]
  },
  {
   "cell_type": "code",
   "execution_count": 228,
   "id": "ff4936b3-dc50-4cb9-9d70-a4d44ac12b89",
   "metadata": {},
   "outputs": [
    {
     "name": "stdout",
     "output_type": "stream",
     "text": [
      "0\n",
      "1\n",
      "2\n",
      "3\n",
      "4\n"
     ]
    }
   ],
   "source": [
    "#Example:\n",
    "for i in range(10):\n",
    "    if i == 5:\n",
    "        break\n",
    "    print(i)"
   ]
  },
  {
   "cell_type": "markdown",
   "id": "5f646f02-b337-4f45-9c85-72d0e24055c9",
   "metadata": {},
   "source": [
    "continue: Skips the current iteration and moves to the next iteration of the loop. This is useful when you want to skip certain iterations based on a condition but continue with the loop."
   ]
  },
  {
   "cell_type": "code",
   "execution_count": 231,
   "id": "68c0f254-22e3-48a7-9283-3f9fd57a3458",
   "metadata": {},
   "outputs": [
    {
     "name": "stdout",
     "output_type": "stream",
     "text": [
      "0\n",
      "1\n",
      "3\n",
      "4\n"
     ]
    }
   ],
   "source": [
    "#Example:\n",
    "for i in range(5):\n",
    "    if i == 2:\n",
    "        continue\n",
    "    print(i)"
   ]
  },
  {
   "cell_type": "markdown",
   "id": "eca5b5d3-08b7-4719-b41d-433b53478999",
   "metadata": {},
   "source": [
    "4. else Clause with Loops"
   ]
  },
  {
   "cell_type": "markdown",
   "id": "9e21cc04-81a9-42eb-a206-ac8e55f12281",
   "metadata": {},
   "source": [
    "Python allows an else clause with loops, which is executed when the loop completes normally (i.e., not terminated by a break statement)."
   ]
  },
  {
   "cell_type": "code",
   "execution_count": 235,
   "id": "d2bedbb3-be4e-457b-b7fa-db4731ec5aca",
   "metadata": {},
   "outputs": [
    {
     "name": "stdout",
     "output_type": "stream",
     "text": [
      "0\n",
      "1\n",
      "2\n"
     ]
    }
   ],
   "source": [
    "#Example with break:\n",
    "for i in range(5):\n",
    "    if i == 3:\n",
    "        break\n",
    "    print(i)\n",
    "else:\n",
    "    print(\"Loop completed normally.\")"
   ]
  }
 ],
 "metadata": {
  "kernelspec": {
   "display_name": "Python 3 (ipykernel)",
   "language": "python",
   "name": "python3"
  },
  "language_info": {
   "codemirror_mode": {
    "name": "ipython",
    "version": 3
   },
   "file_extension": ".py",
   "mimetype": "text/x-python",
   "name": "python",
   "nbconvert_exporter": "python",
   "pygments_lexer": "ipython3",
   "version": "3.12.4"
  }
 },
 "nbformat": 4,
 "nbformat_minor": 5
}
