{
 "cells": [
  {
   "cell_type": "markdown",
   "metadata": {
    "toc": true
   },
   "source": [
    "<h1>Table of Contents<span class=\"tocSkip\"></span></h1>\n",
    "<div class=\"toc\"><ul class=\"toc-item\"><li><span><a href=\"#What-do-errors-do?\" data-toc-modified-id=\"What-do-errors-do?-1\"><span class=\"toc-item-num\">1&nbsp;&nbsp;</span>What do errors <code>do</code>?</a></span></li><li><span><a href=\"#But-what-are-errors?\" data-toc-modified-id=\"But-what-are-errors?-2\"><span class=\"toc-item-num\">2&nbsp;&nbsp;</span>But what <code>are</code> errors?</a></span><ul class=\"toc-item\"><li><span><a href=\"#Different-types-of-Python-errors\" data-toc-modified-id=\"Different-types-of-Python-errors-2.1\"><span class=\"toc-item-num\">2.1&nbsp;&nbsp;</span>Different types of Python errors</a></span></li><li><span><a href=\"#Creating-a-custom-error-type.\" data-toc-modified-id=\"Creating-a-custom-error-type.-2.2\"><span class=\"toc-item-num\">2.2&nbsp;&nbsp;</span>Creating a custom error type.</a></span></li></ul></li><li><span><a href=\"#try...except\" data-toc-modified-id=\"try...except-3\"><span class=\"toc-item-num\">3&nbsp;&nbsp;</span><code>try...except</code></a></span><ul class=\"toc-item\"><li><span><a href=\"#The-blocks-in-action\" data-toc-modified-id=\"The-blocks-in-action-3.1\"><span class=\"toc-item-num\">3.1&nbsp;&nbsp;</span>The blocks in action</a></span><ul class=\"toc-item\"><li><span><a href=\"#No-error\" data-toc-modified-id=\"No-error-3.1.1\"><span class=\"toc-item-num\">3.1.1&nbsp;&nbsp;</span>No error</a></span></li><li><span><a href=\"#Error!\" data-toc-modified-id=\"Error!-3.1.2\"><span class=\"toc-item-num\">3.1.2&nbsp;&nbsp;</span>Error!</a></span></li></ul></li><li><span><a href=\"#A-practical-example\" data-toc-modified-id=\"A-practical-example-3.2\"><span class=\"toc-item-num\">3.2&nbsp;&nbsp;</span>A practical example</a></span></li></ul></li><li><span><a href=\"#Capturing-exceptions\" data-toc-modified-id=\"Capturing-exceptions-4\"><span class=\"toc-item-num\">4&nbsp;&nbsp;</span>Capturing exceptions</a></span><ul class=\"toc-item\"><li><span><a href=\"#Multiple-except\" data-toc-modified-id=\"Multiple-except-4.1\"><span class=\"toc-item-num\">4.1&nbsp;&nbsp;</span>Multiple <code>except</code></a></span></li></ul></li><li><span><a href=\"#Defensive-programming\" data-toc-modified-id=\"Defensive-programming-5\"><span class=\"toc-item-num\">5&nbsp;&nbsp;</span>Defensive programming</a></span><ul class=\"toc-item\"><li><span><a href=\"#Logging-errors\" data-toc-modified-id=\"Logging-errors-5.1\"><span class=\"toc-item-num\">5.1&nbsp;&nbsp;</span>Logging errors</a></span></li><li><span><a href=\"#Using-try...except-in-our-favor\" data-toc-modified-id=\"Using-try...except-in-our-favor-5.2\"><span class=\"toc-item-num\">5.2&nbsp;&nbsp;</span>Using try...except in our favor</a></span></li></ul></li><li><span><a href=\"#Type-Hinting\" data-toc-modified-id=\"Type-Hinting-6\"><span class=\"toc-item-num\">6&nbsp;&nbsp;</span>Type Hinting</a></span><ul class=\"toc-item\"><li><span><a href=\"#Different-posibilities-of-hinting\" data-toc-modified-id=\"Different-posibilities-of-hinting-6.1\"><span class=\"toc-item-num\">6.1&nbsp;&nbsp;</span>Different posibilities of hinting</a></span></li></ul></li><li><span><a href=\"#Extra\" data-toc-modified-id=\"Extra-7\"><span class=\"toc-item-num\">7&nbsp;&nbsp;</span>Extra</a></span><ul class=\"toc-item\"><li><span><a href=\"#finally\" data-toc-modified-id=\"finally-7.1\"><span class=\"toc-item-num\">7.1&nbsp;&nbsp;</span><code>finally</code></a></span></li><li><span><a href=\"#else\" data-toc-modified-id=\"else-7.2\"><span class=\"toc-item-num\">7.2&nbsp;&nbsp;</span><code>else</code></a></span></li></ul></li></ul></div>"
   ]
  },
  {
   "cell_type": "markdown",
   "metadata": {},
   "source": [
    "# Error Handling"
   ]
  },
  {
   "cell_type": "markdown",
   "metadata": {},
   "source": [
    "## What do errors `do`? \n",
    "Exceptions (errors) will stop the program execution"
   ]
  },
  {
   "cell_type": "code",
   "execution_count": 3,
   "metadata": {},
   "outputs": [
    {
     "name": "stdout",
     "output_type": "stream",
     "text": [
      "-0.1\n",
      "-0.1111111111111111\n",
      "-0.125\n",
      "-0.14285714285714285\n",
      "-0.16666666666666666\n",
      "-0.2\n",
      "-0.25\n",
      "-0.3333333333333333\n",
      "-0.5\n",
      "-1.0\n"
     ]
    },
    {
     "ename": "ZeroDivisionError",
     "evalue": "division by zero",
     "output_type": "error",
     "traceback": [
      "\u001b[0;31m---------------------------------------------------------------------------\u001b[0m",
      "\u001b[0;31mZeroDivisionError\u001b[0m                         Traceback (most recent call last)",
      "\u001b[0;32m<ipython-input-3-d191843c3b6d>\u001b[0m in \u001b[0;36m<module>\u001b[0;34m\u001b[0m\n\u001b[1;32m      1\u001b[0m \u001b[0;32mfor\u001b[0m \u001b[0mi\u001b[0m \u001b[0;32min\u001b[0m \u001b[0mrange\u001b[0m\u001b[0;34m(\u001b[0m\u001b[0;34m-\u001b[0m\u001b[0;36m10\u001b[0m\u001b[0;34m,\u001b[0m\u001b[0;36m11\u001b[0m\u001b[0;34m)\u001b[0m\u001b[0;34m:\u001b[0m\u001b[0;34m\u001b[0m\u001b[0;34m\u001b[0m\u001b[0m\n\u001b[0;32m----> 2\u001b[0;31m     \u001b[0mprint\u001b[0m\u001b[0;34m(\u001b[0m\u001b[0;36m1\u001b[0m\u001b[0;34m/\u001b[0m\u001b[0mi\u001b[0m\u001b[0;34m)\u001b[0m\u001b[0;34m\u001b[0m\u001b[0;34m\u001b[0m\u001b[0m\n\u001b[0m\u001b[1;32m      3\u001b[0m \u001b[0mprint\u001b[0m\u001b[0;34m(\u001b[0m\u001b[0;34m\"For loop ended\"\u001b[0m\u001b[0;34m)\u001b[0m\u001b[0;34m\u001b[0m\u001b[0;34m\u001b[0m\u001b[0m\n",
      "\u001b[0;31mZeroDivisionError\u001b[0m: division by zero"
     ]
    }
   ],
   "source": [
    "for i in range(-10,11):\n",
    "    print(1/i)\n",
    "print(\"For loop ended\")"
   ]
  },
  {
   "cell_type": "markdown",
   "metadata": {},
   "source": [
    "> ```\n",
    "> Nothing after the raising of the error in Python will be executed...\n",
    "> ```\n",
    "> - _Henry the VIII_\n",
    "\n",
    "---\n",
    "\n",
    ">```\n",
    "An error is raised because no matter how deep you are into the program structure, it will climb it's way to the top layer as a bubble.\n",
    ">```\n",
    ">- _Jacques Cousteau_ "
   ]
  },
  {
   "cell_type": "markdown",
   "metadata": {},
   "source": [
    "## But what `are` errors?\n",
    "\n",
    "- Errors are a specific type of object in python.\n",
    "- Errors are thrown (raised) with the `raise` keyword.\n",
    "\n",
    "```  \n",
    "Throwing an error (with raise) is to break(stop) a program no matter what.\n",
    "```\n",
    "\n",
    "Errors usually have a message attached to them.\n",
    "> This message is what will help users in identifying the problem and looking for solutions. When we google some error, this is the part we use to find it. Remember, if you were to write a library, having more specific messages will make users more thankful."
   ]
  },
  {
   "cell_type": "code",
   "execution_count": 4,
   "metadata": {},
   "outputs": [
    {
     "ename": "ValueError",
     "evalue": "Oooops. Laheliao.",
     "output_type": "error",
     "traceback": [
      "\u001b[0;31m---------------------------------------------------------------------------\u001b[0m",
      "\u001b[0;31mValueError\u001b[0m                                Traceback (most recent call last)",
      "\u001b[0;32m<ipython-input-4-3a6b0796ab89>\u001b[0m in \u001b[0;36m<module>\u001b[0;34m\u001b[0m\n\u001b[0;32m----> 1\u001b[0;31m \u001b[0;32mraise\u001b[0m \u001b[0mValueError\u001b[0m\u001b[0;34m(\u001b[0m\u001b[0;34m\"Oooops. Laheliao.\"\u001b[0m\u001b[0;34m)\u001b[0m\u001b[0;34m\u001b[0m\u001b[0;34m\u001b[0m\u001b[0m\n\u001b[0m",
      "\u001b[0;31mValueError\u001b[0m: Oooops. Laheliao."
     ]
    }
   ],
   "source": [
    "raise ValueError(\"Oooops. Laheliao.\")"
   ]
  },
  {
   "cell_type": "markdown",
   "metadata": {},
   "source": [
    "### Different types of Python errors\n",
    "There are many error types built-in to python. \n",
    "```python\n",
    "AttributeError\n",
    "ImportError\n",
    "ModuleNotFoundError\n",
    "IndexError\n",
    "KeyError\n",
    "KeyboardInterrupt\n",
    "NameError\n",
    "SyntaxError\n",
    "TypeError\n",
    "ValueError\n",
    "ZeroDivisionError\n",
    "```\n",
    "These are only a few, you can check more in the docs:\n",
    "- [Built-in Exceptions](https://docs.python.org/3/library/exceptions.html)"
   ]
  },
  {
   "cell_type": "markdown",
   "metadata": {},
   "source": [
    "### Creating a custom error type.\n",
    "\n",
    "If we want to create a new error type, we must remember that all exceptions inherit from `Exception` class. But, if you wish, you can inherit from any type of error.\n",
    "\n",
    "You would do this in case you want to handle this kind of exception separetly from others."
   ]
  },
  {
   "cell_type": "code",
   "execution_count": 5,
   "metadata": {},
   "outputs": [],
   "source": [
    "class BadNameError(Exception):\n",
    "    pass"
   ]
  },
  {
   "cell_type": "markdown",
   "metadata": {},
   "source": [
    "> In this case we do nothing more than putting a `pass` on the new error class, because we only care about it having a different name for error handling, but you can use anything we learned about OOP here. You can create different methods, change the methods, use `super()`, `__dunder__` methods, etc."
   ]
  },
  {
   "cell_type": "code",
   "execution_count": 6,
   "metadata": {},
   "outputs": [
    {
     "name": "stdout",
     "output_type": "stream",
     "text": [
      "Tell me your full name:\n",
      "Pepe\n"
     ]
    },
    {
     "ename": "BadNameError",
     "evalue": "Please type full name. At least 2 words.",
     "output_type": "error",
     "traceback": [
      "\u001b[0;31m---------------------------------------------------------------------------\u001b[0m",
      "\u001b[0;31mBadNameError\u001b[0m                              Traceback (most recent call last)",
      "\u001b[0;32m<ipython-input-6-7f96ea2eec03>\u001b[0m in \u001b[0;36m<module>\u001b[0;34m\u001b[0m\n\u001b[1;32m      1\u001b[0m \u001b[0mname\u001b[0m \u001b[0;34m=\u001b[0m \u001b[0minput\u001b[0m\u001b[0;34m(\u001b[0m\u001b[0;34m\"Tell me your full name:\\n\"\u001b[0m\u001b[0;34m)\u001b[0m\u001b[0;34m\u001b[0m\u001b[0;34m\u001b[0m\u001b[0m\n\u001b[1;32m      2\u001b[0m \u001b[0;32mif\u001b[0m \u001b[0mlen\u001b[0m\u001b[0;34m(\u001b[0m\u001b[0mname\u001b[0m\u001b[0;34m.\u001b[0m\u001b[0msplit\u001b[0m\u001b[0;34m(\u001b[0m\u001b[0;34m\" \"\u001b[0m\u001b[0;34m)\u001b[0m\u001b[0;34m)\u001b[0m \u001b[0;34m<\u001b[0m \u001b[0;36m2\u001b[0m\u001b[0;34m:\u001b[0m\u001b[0;34m\u001b[0m\u001b[0;34m\u001b[0m\u001b[0m\n\u001b[0;32m----> 3\u001b[0;31m     \u001b[0;32mraise\u001b[0m \u001b[0mBadNameError\u001b[0m\u001b[0;34m(\u001b[0m\u001b[0;34m\"Please type full name. At least 2 words.\"\u001b[0m\u001b[0;34m)\u001b[0m\u001b[0;34m\u001b[0m\u001b[0;34m\u001b[0m\u001b[0m\n\u001b[0m",
      "\u001b[0;31mBadNameError\u001b[0m: Please type full name. At least 2 words."
     ]
    }
   ],
   "source": [
    "name = input(\"Tell me your full name:\\n\")\n",
    "if len(name.split(\" \")) < 2:\n",
    "    raise BadNameError(\"Please type full name. At least 2 words.\")"
   ]
  },
  {
   "cell_type": "markdown",
   "metadata": {},
   "source": [
    "## `try...except`\n",
    "\n",
    "Now that we know what errors are and what they do, how can we control them a little? \n",
    "\n",
    "This is where a new Python syntax tool comes handy. It is the `try...except` block.\n",
    "\n",
    "The way it works is pretty straight forward.\n",
    "\n",
    "> - `try` block will be executed first.\n",
    "> > - if there is no `Exception` in `try` block, it will finish and skip the `except` completely\n",
    "> > - if there is any `Exception` on the `try` block, it will stop this block and start executing the code on the `except` block.\n",
    "\n",
    "- A `try` block must always be followed by an `except` block\n",
    "- `NOTE:` An exception may ocurr on the execution on the `except` block. In this case, the traceback will contain the following message:\n",
    "````\n",
    "During handling of the above exception, another exception occurred:\n",
    "````\n"
   ]
  },
  {
   "cell_type": "code",
   "execution_count": 268,
   "metadata": {},
   "outputs": [
    {
     "ename": "ValueError",
     "evalue": "",
     "output_type": "error",
     "traceback": [
      "\u001b[0;31m---------------------------------------------------------------------------\u001b[0m",
      "\u001b[0;31mValueError\u001b[0m                                Traceback (most recent call last)",
      "\u001b[0;32m<ipython-input-268-674b7cca0248>\u001b[0m in \u001b[0;36m<module>\u001b[0;34m\u001b[0m\n\u001b[1;32m      1\u001b[0m \u001b[0;32mtry\u001b[0m\u001b[0;34m:\u001b[0m\u001b[0;34m\u001b[0m\u001b[0;34m\u001b[0m\u001b[0m\n\u001b[0;32m----> 2\u001b[0;31m     \u001b[0;32mraise\u001b[0m \u001b[0mValueError\u001b[0m\u001b[0;34m(\u001b[0m\u001b[0;34m)\u001b[0m\u001b[0;34m\u001b[0m\u001b[0;34m\u001b[0m\u001b[0m\n\u001b[0m\u001b[1;32m      3\u001b[0m \u001b[0;32mexcept\u001b[0m\u001b[0;34m:\u001b[0m\u001b[0;34m\u001b[0m\u001b[0;34m\u001b[0m\u001b[0m\n",
      "\u001b[0;31mValueError\u001b[0m: ",
      "\nDuring handling of the above exception, another exception occurred:\n",
      "\u001b[0;31mValueError\u001b[0m                                Traceback (most recent call last)",
      "\u001b[0;32m<ipython-input-268-674b7cca0248>\u001b[0m in \u001b[0;36m<module>\u001b[0;34m\u001b[0m\n\u001b[1;32m      2\u001b[0m     \u001b[0;32mraise\u001b[0m \u001b[0mValueError\u001b[0m\u001b[0;34m(\u001b[0m\u001b[0;34m)\u001b[0m\u001b[0;34m\u001b[0m\u001b[0;34m\u001b[0m\u001b[0m\n\u001b[1;32m      3\u001b[0m \u001b[0;32mexcept\u001b[0m\u001b[0;34m:\u001b[0m\u001b[0;34m\u001b[0m\u001b[0;34m\u001b[0m\u001b[0m\n\u001b[0;32m----> 4\u001b[0;31m     \u001b[0;32mraise\u001b[0m \u001b[0mValueError\u001b[0m\u001b[0;34m(\u001b[0m\u001b[0;34m)\u001b[0m\u001b[0;34m\u001b[0m\u001b[0;34m\u001b[0m\u001b[0m\n\u001b[0m",
      "\u001b[0;31mValueError\u001b[0m: "
     ]
    }
   ],
   "source": [
    "try:\n",
    "    raise ValueError()\n",
    "except:\n",
    "    raise ValueError()"
   ]
  },
  {
   "cell_type": "markdown",
   "metadata": {},
   "source": [
    "### The blocks in action"
   ]
  },
  {
   "cell_type": "code",
   "execution_count": 7,
   "metadata": {},
   "outputs": [],
   "source": [
    "def get_name():\n",
    "    try:\n",
    "        name = input(\"Tell me your full name:\\n\")\n",
    "        if len(name.split(\" \")) < 2:\n",
    "            raise BadNameError(\"Please type full name. At least 2 words.\")\n",
    "            print(\"After Exception\")\n",
    "        print(\"Name is ok!\")\n",
    "    except: # Plan B\n",
    "        print(\"Except block...\")\n",
    "        print(\"Name not ok, but error was catched.\")"
   ]
  },
  {
   "cell_type": "markdown",
   "metadata": {},
   "source": [
    "#### No error"
   ]
  },
  {
   "cell_type": "code",
   "execution_count": 8,
   "metadata": {},
   "outputs": [
    {
     "name": "stdout",
     "output_type": "stream",
     "text": [
      "Tell me your full name:\n",
      "Pepe Lopez\n",
      "Name is ok!\n"
     ]
    }
   ],
   "source": [
    "get_name()"
   ]
  },
  {
   "cell_type": "markdown",
   "metadata": {},
   "source": [
    "#### Error!"
   ]
  },
  {
   "cell_type": "code",
   "execution_count": 9,
   "metadata": {},
   "outputs": [
    {
     "name": "stdout",
     "output_type": "stream",
     "text": [
      "Tell me your full name:\n",
      "Pepito\n",
      "Except block...\n",
      "Name not ok, but error was catched.\n"
     ]
    }
   ],
   "source": [
    "get_name()"
   ]
  },
  {
   "cell_type": "markdown",
   "metadata": {},
   "source": [
    "### A practical example\n",
    "\n",
    "More than being a paradigm of programming, we must try to handle the errors the best we can. That is, if we can predict and avoid errors (with things such as `if`, type casting, fixing values), that is definitely preferred. \n",
    "\n",
    "`try...except` blocks are more useful when we don't know what error may ocurr and we need our program to keep going on. For example, when we depend on outside services, APIs, programs, etc., things that are out of our control."
   ]
  },
  {
   "cell_type": "code",
   "execution_count": 10,
   "metadata": {},
   "outputs": [],
   "source": [
    "import requests\n",
    "import pandas as pd"
   ]
  },
  {
   "cell_type": "code",
   "execution_count": 11,
   "metadata": {},
   "outputs": [],
   "source": [
    "pokemons = [\"bulbasaur\", \"charmander\", \"pepe\", \"mew\", \"dragonite\"]"
   ]
  },
  {
   "cell_type": "code",
   "execution_count": 12,
   "metadata": {},
   "outputs": [
    {
     "name": "stdout",
     "output_type": "stream",
     "text": [
      "Looking for sprite for bulbasaur\n",
      "Looking for sprite for charmander\n",
      "Looking for sprite for pepe\n"
     ]
    },
    {
     "ename": "JSONDecodeError",
     "evalue": "Expecting value: line 1 column 1 (char 0)",
     "output_type": "error",
     "traceback": [
      "\u001b[0;31m---------------------------------------------------------------------------\u001b[0m",
      "\u001b[0;31mJSONDecodeError\u001b[0m                           Traceback (most recent call last)",
      "\u001b[0;32m<ipython-input-12-6c1f39c70dd8>\u001b[0m in \u001b[0;36m<module>\u001b[0;34m\u001b[0m\n\u001b[1;32m      4\u001b[0m     \u001b[0mprint\u001b[0m\u001b[0;34m(\u001b[0m\u001b[0;34mf\"Looking for sprite for {poke}\"\u001b[0m\u001b[0;34m)\u001b[0m\u001b[0;34m\u001b[0m\u001b[0;34m\u001b[0m\u001b[0m\n\u001b[1;32m      5\u001b[0m     \u001b[0;31m# url.format(poke)\u001b[0m\u001b[0;34m\u001b[0m\u001b[0;34m\u001b[0m\u001b[0;34m\u001b[0m\u001b[0m\n\u001b[0;32m----> 6\u001b[0;31m     \u001b[0mdata\u001b[0m \u001b[0;34m=\u001b[0m \u001b[0mrequests\u001b[0m\u001b[0;34m.\u001b[0m\u001b[0mget\u001b[0m\u001b[0;34m(\u001b[0m\u001b[0murl\u001b[0m\u001b[0;34m.\u001b[0m\u001b[0mformat\u001b[0m\u001b[0;34m(\u001b[0m\u001b[0mpoke\u001b[0m\u001b[0;34m)\u001b[0m\u001b[0;34m)\u001b[0m\u001b[0;34m.\u001b[0m\u001b[0mjson\u001b[0m\u001b[0;34m(\u001b[0m\u001b[0;34m)\u001b[0m\u001b[0;34m\u001b[0m\u001b[0;34m\u001b[0m\u001b[0m\n\u001b[0m\u001b[1;32m      7\u001b[0m     \u001b[0msprites\u001b[0m\u001b[0;34m.\u001b[0m\u001b[0mappend\u001b[0m\u001b[0;34m(\u001b[0m\u001b[0mdata\u001b[0m\u001b[0;34m[\u001b[0m\u001b[0;34m\"sprites\"\u001b[0m\u001b[0;34m]\u001b[0m\u001b[0;34m[\u001b[0m\u001b[0;34m\"front_shiny\"\u001b[0m\u001b[0;34m]\u001b[0m\u001b[0;34m)\u001b[0m\u001b[0;34m\u001b[0m\u001b[0;34m\u001b[0m\u001b[0m\n",
      "\u001b[0;32m~/miniforge3/envs/ironhack/lib/python3.8/site-packages/requests/models.py\u001b[0m in \u001b[0;36mjson\u001b[0;34m(self, **kwargs)\u001b[0m\n\u001b[1;32m    898\u001b[0m                     \u001b[0;31m# used.\u001b[0m\u001b[0;34m\u001b[0m\u001b[0;34m\u001b[0m\u001b[0;34m\u001b[0m\u001b[0m\n\u001b[1;32m    899\u001b[0m                     \u001b[0;32mpass\u001b[0m\u001b[0;34m\u001b[0m\u001b[0;34m\u001b[0m\u001b[0m\n\u001b[0;32m--> 900\u001b[0;31m         \u001b[0;32mreturn\u001b[0m \u001b[0mcomplexjson\u001b[0m\u001b[0;34m.\u001b[0m\u001b[0mloads\u001b[0m\u001b[0;34m(\u001b[0m\u001b[0mself\u001b[0m\u001b[0;34m.\u001b[0m\u001b[0mtext\u001b[0m\u001b[0;34m,\u001b[0m \u001b[0;34m**\u001b[0m\u001b[0mkwargs\u001b[0m\u001b[0;34m)\u001b[0m\u001b[0;34m\u001b[0m\u001b[0;34m\u001b[0m\u001b[0m\n\u001b[0m\u001b[1;32m    901\u001b[0m \u001b[0;34m\u001b[0m\u001b[0m\n\u001b[1;32m    902\u001b[0m     \u001b[0;34m@\u001b[0m\u001b[0mproperty\u001b[0m\u001b[0;34m\u001b[0m\u001b[0;34m\u001b[0m\u001b[0m\n",
      "\u001b[0;32m~/miniforge3/envs/ironhack/lib/python3.8/json/__init__.py\u001b[0m in \u001b[0;36mloads\u001b[0;34m(s, cls, object_hook, parse_float, parse_int, parse_constant, object_pairs_hook, **kw)\u001b[0m\n\u001b[1;32m    355\u001b[0m             \u001b[0mparse_int\u001b[0m \u001b[0;32mis\u001b[0m \u001b[0;32mNone\u001b[0m \u001b[0;32mand\u001b[0m \u001b[0mparse_float\u001b[0m \u001b[0;32mis\u001b[0m \u001b[0;32mNone\u001b[0m \u001b[0;32mand\u001b[0m\u001b[0;34m\u001b[0m\u001b[0;34m\u001b[0m\u001b[0m\n\u001b[1;32m    356\u001b[0m             parse_constant is None and object_pairs_hook is None and not kw):\n\u001b[0;32m--> 357\u001b[0;31m         \u001b[0;32mreturn\u001b[0m \u001b[0m_default_decoder\u001b[0m\u001b[0;34m.\u001b[0m\u001b[0mdecode\u001b[0m\u001b[0;34m(\u001b[0m\u001b[0ms\u001b[0m\u001b[0;34m)\u001b[0m\u001b[0;34m\u001b[0m\u001b[0;34m\u001b[0m\u001b[0m\n\u001b[0m\u001b[1;32m    358\u001b[0m     \u001b[0;32mif\u001b[0m \u001b[0mcls\u001b[0m \u001b[0;32mis\u001b[0m \u001b[0;32mNone\u001b[0m\u001b[0;34m:\u001b[0m\u001b[0;34m\u001b[0m\u001b[0;34m\u001b[0m\u001b[0m\n\u001b[1;32m    359\u001b[0m         \u001b[0mcls\u001b[0m \u001b[0;34m=\u001b[0m \u001b[0mJSONDecoder\u001b[0m\u001b[0;34m\u001b[0m\u001b[0;34m\u001b[0m\u001b[0m\n",
      "\u001b[0;32m~/miniforge3/envs/ironhack/lib/python3.8/json/decoder.py\u001b[0m in \u001b[0;36mdecode\u001b[0;34m(self, s, _w)\u001b[0m\n\u001b[1;32m    335\u001b[0m \u001b[0;34m\u001b[0m\u001b[0m\n\u001b[1;32m    336\u001b[0m         \"\"\"\n\u001b[0;32m--> 337\u001b[0;31m         \u001b[0mobj\u001b[0m\u001b[0;34m,\u001b[0m \u001b[0mend\u001b[0m \u001b[0;34m=\u001b[0m \u001b[0mself\u001b[0m\u001b[0;34m.\u001b[0m\u001b[0mraw_decode\u001b[0m\u001b[0;34m(\u001b[0m\u001b[0ms\u001b[0m\u001b[0;34m,\u001b[0m \u001b[0midx\u001b[0m\u001b[0;34m=\u001b[0m\u001b[0m_w\u001b[0m\u001b[0;34m(\u001b[0m\u001b[0ms\u001b[0m\u001b[0;34m,\u001b[0m \u001b[0;36m0\u001b[0m\u001b[0;34m)\u001b[0m\u001b[0;34m.\u001b[0m\u001b[0mend\u001b[0m\u001b[0;34m(\u001b[0m\u001b[0;34m)\u001b[0m\u001b[0;34m)\u001b[0m\u001b[0;34m\u001b[0m\u001b[0;34m\u001b[0m\u001b[0m\n\u001b[0m\u001b[1;32m    338\u001b[0m         \u001b[0mend\u001b[0m \u001b[0;34m=\u001b[0m \u001b[0m_w\u001b[0m\u001b[0;34m(\u001b[0m\u001b[0ms\u001b[0m\u001b[0;34m,\u001b[0m \u001b[0mend\u001b[0m\u001b[0;34m)\u001b[0m\u001b[0;34m.\u001b[0m\u001b[0mend\u001b[0m\u001b[0;34m(\u001b[0m\u001b[0;34m)\u001b[0m\u001b[0;34m\u001b[0m\u001b[0;34m\u001b[0m\u001b[0m\n\u001b[1;32m    339\u001b[0m         \u001b[0;32mif\u001b[0m \u001b[0mend\u001b[0m \u001b[0;34m!=\u001b[0m \u001b[0mlen\u001b[0m\u001b[0;34m(\u001b[0m\u001b[0ms\u001b[0m\u001b[0;34m)\u001b[0m\u001b[0;34m:\u001b[0m\u001b[0;34m\u001b[0m\u001b[0;34m\u001b[0m\u001b[0m\n",
      "\u001b[0;32m~/miniforge3/envs/ironhack/lib/python3.8/json/decoder.py\u001b[0m in \u001b[0;36mraw_decode\u001b[0;34m(self, s, idx)\u001b[0m\n\u001b[1;32m    353\u001b[0m             \u001b[0mobj\u001b[0m\u001b[0;34m,\u001b[0m \u001b[0mend\u001b[0m \u001b[0;34m=\u001b[0m \u001b[0mself\u001b[0m\u001b[0;34m.\u001b[0m\u001b[0mscan_once\u001b[0m\u001b[0;34m(\u001b[0m\u001b[0ms\u001b[0m\u001b[0;34m,\u001b[0m \u001b[0midx\u001b[0m\u001b[0;34m)\u001b[0m\u001b[0;34m\u001b[0m\u001b[0;34m\u001b[0m\u001b[0m\n\u001b[1;32m    354\u001b[0m         \u001b[0;32mexcept\u001b[0m \u001b[0mStopIteration\u001b[0m \u001b[0;32mas\u001b[0m \u001b[0merr\u001b[0m\u001b[0;34m:\u001b[0m\u001b[0;34m\u001b[0m\u001b[0;34m\u001b[0m\u001b[0m\n\u001b[0;32m--> 355\u001b[0;31m             \u001b[0;32mraise\u001b[0m \u001b[0mJSONDecodeError\u001b[0m\u001b[0;34m(\u001b[0m\u001b[0;34m\"Expecting value\"\u001b[0m\u001b[0;34m,\u001b[0m \u001b[0ms\u001b[0m\u001b[0;34m,\u001b[0m \u001b[0merr\u001b[0m\u001b[0;34m.\u001b[0m\u001b[0mvalue\u001b[0m\u001b[0;34m)\u001b[0m \u001b[0;32mfrom\u001b[0m \u001b[0;32mNone\u001b[0m\u001b[0;34m\u001b[0m\u001b[0;34m\u001b[0m\u001b[0m\n\u001b[0m\u001b[1;32m    356\u001b[0m         \u001b[0;32mreturn\u001b[0m \u001b[0mobj\u001b[0m\u001b[0;34m,\u001b[0m \u001b[0mend\u001b[0m\u001b[0;34m\u001b[0m\u001b[0;34m\u001b[0m\u001b[0m\n",
      "\u001b[0;31mJSONDecodeError\u001b[0m: Expecting value: line 1 column 1 (char 0)"
     ]
    }
   ],
   "source": [
    "url = \"https://pokeapi.co/api/v2/pokemon/{}\"\n",
    "sprites = []\n",
    "for poke in pokemons: \n",
    "    print(f\"Looking for sprite for {poke}\")\n",
    "    # url.format(poke)\n",
    "    data = requests.get(url.format(poke)).json()\n",
    "    sprites.append(data[\"sprites\"][\"front_shiny\"])"
   ]
  },
  {
   "cell_type": "code",
   "execution_count": 13,
   "metadata": {},
   "outputs": [
    {
     "data": {
      "text/plain": [
       "['https://raw.githubusercontent.com/PokeAPI/sprites/master/sprites/pokemon/shiny/1.png',\n",
       " 'https://raw.githubusercontent.com/PokeAPI/sprites/master/sprites/pokemon/shiny/4.png']"
      ]
     },
     "execution_count": 13,
     "metadata": {},
     "output_type": "execute_result"
    }
   ],
   "source": [
    "sprites"
   ]
  },
  {
   "cell_type": "markdown",
   "metadata": {},
   "source": [
    "> We know requesting on an API for data has it's cost, both in time and also money in a lot of cases. Those are not resources we can waste.\n",
    "\n",
    "> On the previous example, we only got 2 of the requests, because our 3rd one failed. Imagine that instead of a few elements on a list, we had a dataframe with thousands of rows. We gladly go to bed one night expecting to find a lot of new data by morning and wake up with this unpleasant surprise.\n",
    "\n",
    "> Things get even worst if we were `applying` a function to a Series or DataFrame, a fail in the middle (or even on the last one) would result in absolutely NO result."
   ]
  },
  {
   "cell_type": "code",
   "execution_count": 14,
   "metadata": {},
   "outputs": [
    {
     "data": {
      "text/html": [
       "<div>\n",
       "<style scoped>\n",
       "    .dataframe tbody tr th:only-of-type {\n",
       "        vertical-align: middle;\n",
       "    }\n",
       "\n",
       "    .dataframe tbody tr th {\n",
       "        vertical-align: top;\n",
       "    }\n",
       "\n",
       "    .dataframe thead th {\n",
       "        text-align: right;\n",
       "    }\n",
       "</style>\n",
       "<table border=\"1\" class=\"dataframe\">\n",
       "  <thead>\n",
       "    <tr style=\"text-align: right;\">\n",
       "      <th></th>\n",
       "      <th>name</th>\n",
       "    </tr>\n",
       "  </thead>\n",
       "  <tbody>\n",
       "    <tr>\n",
       "      <th>0</th>\n",
       "      <td>bulbasaur</td>\n",
       "    </tr>\n",
       "    <tr>\n",
       "      <th>1</th>\n",
       "      <td>charmander</td>\n",
       "    </tr>\n",
       "    <tr>\n",
       "      <th>2</th>\n",
       "      <td>pepe</td>\n",
       "    </tr>\n",
       "    <tr>\n",
       "      <th>3</th>\n",
       "      <td>mew</td>\n",
       "    </tr>\n",
       "    <tr>\n",
       "      <th>4</th>\n",
       "      <td>dragonite</td>\n",
       "    </tr>\n",
       "  </tbody>\n",
       "</table>\n",
       "</div>"
      ],
      "text/plain": [
       "         name\n",
       "0   bulbasaur\n",
       "1  charmander\n",
       "2        pepe\n",
       "3         mew\n",
       "4   dragonite"
      ]
     },
     "execution_count": 14,
     "metadata": {},
     "output_type": "execute_result"
    }
   ],
   "source": [
    "df = pd.DataFrame(pokemons, columns=[\"name\"])\n",
    "df"
   ]
  },
  {
   "cell_type": "markdown",
   "metadata": {},
   "source": [
    "To avoid this problem, we make sure to include the requests on a try and in case it fails, we return a different value (in this case a string \"Sprite not found\")."
   ]
  },
  {
   "cell_type": "code",
   "execution_count": 15,
   "metadata": {},
   "outputs": [],
   "source": [
    "def get_sprite(poke):\n",
    "    # url.format(poke)\n",
    "    try: \n",
    "        data = requests.get(url.format(poke)).json()\n",
    "        return data[\"sprites\"][\"front_shiny\"]\n",
    "    except:\n",
    "        return \"Sprite not found\""
   ]
  },
  {
   "cell_type": "code",
   "execution_count": 16,
   "metadata": {},
   "outputs": [
    {
     "data": {
      "text/plain": [
       "'Sprite not found'"
      ]
     },
     "execution_count": 16,
     "metadata": {},
     "output_type": "execute_result"
    }
   ],
   "source": [
    "get_sprite(\"pepe\")"
   ]
  },
  {
   "cell_type": "code",
   "execution_count": 17,
   "metadata": {},
   "outputs": [],
   "source": [
    "df[\"sprites\"] = df[\"name\"].apply(get_sprite)"
   ]
  },
  {
   "cell_type": "code",
   "execution_count": 18,
   "metadata": {},
   "outputs": [
    {
     "data": {
      "text/html": [
       "<div>\n",
       "<style scoped>\n",
       "    .dataframe tbody tr th:only-of-type {\n",
       "        vertical-align: middle;\n",
       "    }\n",
       "\n",
       "    .dataframe tbody tr th {\n",
       "        vertical-align: top;\n",
       "    }\n",
       "\n",
       "    .dataframe thead th {\n",
       "        text-align: right;\n",
       "    }\n",
       "</style>\n",
       "<table border=\"1\" class=\"dataframe\">\n",
       "  <thead>\n",
       "    <tr style=\"text-align: right;\">\n",
       "      <th></th>\n",
       "      <th>name</th>\n",
       "      <th>sprites</th>\n",
       "    </tr>\n",
       "  </thead>\n",
       "  <tbody>\n",
       "    <tr>\n",
       "      <th>0</th>\n",
       "      <td>bulbasaur</td>\n",
       "      <td>https://raw.githubusercontent.com/PokeAPI/spri...</td>\n",
       "    </tr>\n",
       "    <tr>\n",
       "      <th>1</th>\n",
       "      <td>charmander</td>\n",
       "      <td>https://raw.githubusercontent.com/PokeAPI/spri...</td>\n",
       "    </tr>\n",
       "    <tr>\n",
       "      <th>2</th>\n",
       "      <td>pepe</td>\n",
       "      <td>Sprite not found</td>\n",
       "    </tr>\n",
       "    <tr>\n",
       "      <th>3</th>\n",
       "      <td>mew</td>\n",
       "      <td>https://raw.githubusercontent.com/PokeAPI/spri...</td>\n",
       "    </tr>\n",
       "    <tr>\n",
       "      <th>4</th>\n",
       "      <td>dragonite</td>\n",
       "      <td>https://raw.githubusercontent.com/PokeAPI/spri...</td>\n",
       "    </tr>\n",
       "  </tbody>\n",
       "</table>\n",
       "</div>"
      ],
      "text/plain": [
       "         name                                            sprites\n",
       "0   bulbasaur  https://raw.githubusercontent.com/PokeAPI/spri...\n",
       "1  charmander  https://raw.githubusercontent.com/PokeAPI/spri...\n",
       "2        pepe                                   Sprite not found\n",
       "3         mew  https://raw.githubusercontent.com/PokeAPI/spri...\n",
       "4   dragonite  https://raw.githubusercontent.com/PokeAPI/spri..."
      ]
     },
     "execution_count": 18,
     "metadata": {},
     "output_type": "execute_result"
    }
   ],
   "source": [
    "df"
   ]
  },
  {
   "cell_type": "markdown",
   "metadata": {},
   "source": [
    "## Capturing exceptions\n",
    "\n",
    "If we asign an `alias` to `Exception` we can capture it, and use it in different ways, such as printing, checking the type, even creating error logs."
   ]
  },
  {
   "cell_type": "code",
   "execution_count": 19,
   "metadata": {},
   "outputs": [
    {
     "name": "stdout",
     "output_type": "stream",
     "text": [
      "Error\n",
      "<class 'TypeError'>\n",
      "unsupported operand type(s) for /: 'int' and 'str'\n"
     ]
    }
   ],
   "source": [
    "try:\n",
    "    a = 7\n",
    "    b = \"3\"\n",
    "    print(a/b)\n",
    "except Exception as e:\n",
    "    print(\"Error\")\n",
    "    print(type(e))\n",
    "    print(e)"
   ]
  },
  {
   "cell_type": "markdown",
   "metadata": {},
   "source": [
    "### Multiple `except`\n",
    "\n",
    "If we choose to do so, we can have multiple `except` blocks to handle different kinds of errors separately. This is where creating custom errors may be very useful.\n",
    "\n",
    "- `NOTE:` Only one of the except blocks will be executed in case of an error raising"
   ]
  },
  {
   "cell_type": "code",
   "execution_count": 20,
   "metadata": {},
   "outputs": [
    {
     "name": "stdout",
     "output_type": "stream",
     "text": [
      "Dividing by Zero? Are you mad????\n"
     ]
    }
   ],
   "source": [
    "try:\n",
    "    a = 7\n",
    "    b = 0\n",
    "    print(a/b)\n",
    "except TypeError as e:\n",
    "    print(\"TypeError\")\n",
    "    a = float(a)\n",
    "    b = float(b)\n",
    "    print(a/b)    \n",
    "except ZeroDivisionError:\n",
    "    print(\"Dividing by Zero? Are you mad????\")"
   ]
  },
  {
   "cell_type": "code",
   "execution_count": 21,
   "metadata": {},
   "outputs": [],
   "source": [
    "students = {k:0 for k in [\"Pepe\", \"Lola\", \"Aitor\"]}"
   ]
  },
  {
   "cell_type": "markdown",
   "metadata": {},
   "source": [
    "## Defensive programming\n",
    "Choosing to prevent errors ourselves.\n",
    "\n",
    ">  Check the example bellow. By chosing to replace commas for dots, we can avoid the error of a user typing a `,` instead of a `.` for a decimal separator. In this case, there is at least one error we know we will avoid for sure. 😉"
   ]
  },
  {
   "cell_type": "code",
   "execution_count": 22,
   "metadata": {},
   "outputs": [
    {
     "name": "stdout",
     "output_type": "stream",
     "text": [
      "Grade for Pepe: 6\n",
      "Grade for Lola: 6.7\n",
      "Grade for Aitor: 8,8\n"
     ]
    }
   ],
   "source": [
    "for k in students.keys():\n",
    "    grade = input(f\"Grade for {k}: \")\n",
    "    if \",\" in grade:\n",
    "        grade = grade.replace(\",\",\".\")\n",
    "    try:\n",
    "        students[k] = float(grade)\n",
    "    except:\n",
    "        print(\"No ha sido posible\")"
   ]
  },
  {
   "cell_type": "code",
   "execution_count": 23,
   "metadata": {},
   "outputs": [
    {
     "data": {
      "text/plain": [
       "{'Pepe': 6.0, 'Lola': 6.7, 'Aitor': 8.8}"
      ]
     },
     "execution_count": 23,
     "metadata": {},
     "output_type": "execute_result"
    }
   ],
   "source": [
    "students"
   ]
  },
  {
   "cell_type": "markdown",
   "metadata": {},
   "source": [
    "### Logging errors\n",
    "\n",
    "Sometimes it may not be possible to avoid every error. And as programmers, we may want to handle them if the program can continue, but also have a record so we can check latter and practice more defensive programming. Remember that code is dynamic and we improve and update it continuously.\n",
    "\n",
    "Let's see an example on how to generate a simple error logging for a program."
   ]
  },
  {
   "cell_type": "code",
   "execution_count": 24,
   "metadata": {},
   "outputs": [
    {
     "name": "stdout",
     "output_type": "stream",
     "text": [
      "Grade for Pepe: 9\n",
      "Grade for Lola: ocho\n",
      "Grade not valid\n",
      "Grade for Aitor: 9.8.8\n",
      "Grade not valid\n"
     ]
    }
   ],
   "source": [
    "import datetime\n",
    "import traceback as tb\n",
    "\n",
    "# We begin the problem as it is. Our only concern are the exceptions.\n",
    "for k in students.keys():\n",
    "    grade = input(f\"Grade for {k}: \")\n",
    "    if \",\" in grade:\n",
    "        grade = grade.replace(\",\",\".\")\n",
    "    try:\n",
    "        students[k] = float(grade)\n",
    "    except Exception as e:\n",
    "        # In case of an Exception, we may want to give some visual output for our user\n",
    "        print(\"Grade not valid\")\n",
    "        \n",
    "        # We then open a file, that will record all the errors that ocurr\n",
    "        # Note that we open it in append mode ('a+'), so that it is a cummulative\n",
    "        # file and not overwriten by each new error\n",
    "        with open(\"log.txt\",\"a+\") as file:\n",
    "            # We want to know WHEN a given error occurred\n",
    "            date = datetime.datetime.now()\n",
    "            # We write this date to our log file.\n",
    "            # With the `file` parameter, we can use print to write to a file \n",
    "            # instead of the `stdout`\n",
    "            print(date,file=file)\n",
    "            # We print the error itself\n",
    "            print(e, file=file)\n",
    "            # We also print the traceback, which needs to be printed with a special\n",
    "            # function from the traceback module.\n",
    "            tb.print_tb(e.__traceback__, file=file)\n",
    "            # Finally, we print a separator to make things nicer for our eyes.\n",
    "            print(\"-\"*50,file=file)"
   ]
  },
  {
   "cell_type": "markdown",
   "metadata": {},
   "source": [
    "### Using try...except in our favor\n",
    "\n",
    "Let's see the following example.\n",
    "\n",
    "> We want to create a calculator thet takes inputs a, oper, b, all strings.\n",
    "> These inputs must be converted to the appropriate type: int, float or function.\n",
    "> We want the program not to ask for the following inputs if one of the inputs is wrong."
   ]
  },
  {
   "cell_type": "code",
   "execution_count": 25,
   "metadata": {},
   "outputs": [],
   "source": [
    "def calc():\n",
    "    print(\"We are going to calculate oper(a,b)!\")\n",
    "    try:\n",
    "        # List comprehension to do the input 3 times and get the 3 values\n",
    "        # Pass each input to cast_value function to convert it to appropriate type: int, float, function\n",
    "        # Pass the inputs with corrected type to see if this input is valid for this position\n",
    "        # Use enumerate to check the position\n",
    "        # We use unpacking to convert this list into 3 separate variables: a, oper, and b\n",
    "        a,oper,b = [check_position(cast_value(input(f\"Tell me [{e}]: \")), pos) \n",
    "                    for pos,e in enumerate([\"a\",\"oper\",\"b\"])]\n",
    "        # The equivalent in long form:\n",
    "        \"\"\"\n",
    "        args = []\n",
    "        for pos, e in enumerate([\"a\",\"oper\",\"b\"]):\n",
    "            inp = input(f\"Tell me [{e}]: \")\n",
    "            inp_correct_type = cast_value(inp)\n",
    "            arg = check_position(inp_correct_type,pos)\n",
    "            args.append(arg)\n",
    "        a,oper,b = args\n",
    "        \"\"\"\n",
    "    except:\n",
    "        print(\"Check your values!!!!\")\n",
    "        # In case there is an error, we call the function again recursively to ask the user\n",
    "        # for new inputs until all 3 inputs are correct.\n",
    "        return calc()\n",
    "    return oper(a,b)"
   ]
  },
  {
   "cell_type": "code",
   "execution_count": 26,
   "metadata": {},
   "outputs": [],
   "source": [
    "def cast_value(x):\n",
    "    if x in [\"+\",\"-\",\"/\",\"*\"]:\n",
    "        \"\"\"\n",
    "        Check if input is one of 4 valid operations\n",
    "        and return appropriate function\n",
    "        \"\"\"\n",
    "        operations = {\n",
    "            \"+\": lambda a,b: a+b,\n",
    "            \"-\": lambda a,b: a-b,\n",
    "            \"/\": lambda a,b: a/b,\n",
    "            \"*\": lambda a,b: a*b\n",
    "        }\n",
    "        return operations[x]\n",
    "    if x.isnumeric():\n",
    "        \"\"\"\n",
    "        Check if input is a string of an integer and \n",
    "        return it casted to int\n",
    "        \"\"\"\n",
    "        return int(x)\n",
    "    if \".\" in x:\n",
    "        \"\"\"\n",
    "        Check if input contains a \".\"\n",
    "        \"\"\"\n",
    "        if len(x.split(\".\")) <=2:\n",
    "            \"\"\"\n",
    "            Check if input contains a single \".\"\n",
    "            \"\"\"\n",
    "            if all([e.isnumeric() for e in x.split(\".\")]):\n",
    "                \"\"\"\n",
    "                Check if all the characters separated by the \".\"\n",
    "                are numbers and return the whole number castes\n",
    "                as a float\n",
    "                \"\"\"\n",
    "                return float(x)\n",
    "    \"\"\"\n",
    "    In case none of the conditions are met, an error is raised\n",
    "    (to be captured latter)\n",
    "    \"\"\"\n",
    "    raise ValueError(\"This is not an accepted value.\")\n",
    "\n",
    "def check_position(x,pos):\n",
    "    if pos in [0,2]:\n",
    "        \"\"\"\n",
    "        Check if elements on positions 0 and 2 are not numbers\n",
    "        \"\"\"\n",
    "        if not (isinstance(x,int) or isinstance(x,float)):\n",
    "            raise TypeError(\"Value not accepted in this position.\")\n",
    "    else: \n",
    "        \"\"\"\n",
    "        Check if other (element 1) is not a callable (function)\n",
    "        \"\"\"\n",
    "        if not (callable(x)):\n",
    "            raise TypeError(\"Value not accepted in this position.\")\n",
    "    \"\"\"\n",
    "    In case one of the conditions is failed, the function will raise an error.\n",
    "    And if met, it will simply return the value of x, since it is correct.\n",
    "    \"\"\"\n",
    "    return x"
   ]
  },
  {
   "cell_type": "code",
   "execution_count": 27,
   "metadata": {},
   "outputs": [
    {
     "name": "stdout",
     "output_type": "stream",
     "text": [
      "We are going to calculate oper(a,b)!\n",
      "Tell me [a]: 3\n",
      "Tell me [oper]: 4\n",
      "Check your values!!!!\n",
      "We are going to calculate oper(a,b)!\n",
      "Tell me [a]: 2\n",
      "Tell me [oper]: +\n",
      "Tell me [b]: +\n",
      "Check your values!!!!\n",
      "We are going to calculate oper(a,b)!\n",
      "Tell me [a]: 5\n",
      "Tell me [oper]: *\n",
      "Tell me [b]: 5\n"
     ]
    },
    {
     "data": {
      "text/plain": [
       "25"
      ]
     },
     "execution_count": 27,
     "metadata": {},
     "output_type": "execute_result"
    }
   ],
   "source": [
    "calc()"
   ]
  },
  {
   "cell_type": "markdown",
   "metadata": {},
   "source": [
    "## Type Hinting\n",
    "- `Indicative` syntax for variable types\n",
    "- Used for `documentation` reasons."
   ]
  },
  {
   "cell_type": "code",
   "execution_count": 28,
   "metadata": {},
   "outputs": [],
   "source": [
    "def add_integer(a: int, b: int) -> int:\n",
    "    return a + b"
   ]
  },
  {
   "cell_type": "code",
   "execution_count": 29,
   "metadata": {},
   "outputs": [
    {
     "data": {
      "text/plain": [
       "'HelloWorld'"
      ]
     },
     "execution_count": 29,
     "metadata": {},
     "output_type": "execute_result"
    }
   ],
   "source": [
    "# Type hinting is only INDICATIVE\n",
    "add_integer(\"Hello\", \"World\")"
   ]
  },
  {
   "cell_type": "markdown",
   "metadata": {},
   "source": [
    "### Different posibilities of hinting\n",
    "- Single type\n",
    "```python\n",
    "def func(arg: str):\n",
    "    pass\n",
    "```\n",
    "- Single type or None\n",
    "```python\n",
    "from typing import Optional\n",
    "def func(arg: Optional[float]) -> Optional[float]:\n",
    "    pass\n",
    "```\n",
    "- Multiple types\n",
    "```python\n",
    "from typing import Union\n",
    "def func(arg: Union[int,float,str]) -> Union[int,float]:\n",
    "    pass\n",
    "```"
   ]
  },
  {
   "cell_type": "markdown",
   "metadata": {},
   "source": [
    "## Extra\n",
    "### `finally`\n",
    "\n",
    "> The try and except blocks are the basic blocks in error handling, but there can be a third (and fourth) blocks.\n",
    "The finally block is the code that is executed after either the try or the except blocks are executed. It will execute even if there is a `return` on the except."
   ]
  },
  {
   "cell_type": "code",
   "execution_count": 36,
   "metadata": {},
   "outputs": [],
   "source": [
    "def final():\n",
    "    try:\n",
    "        raise ValueError\n",
    "    except:\n",
    "        print(\"Exception\")\n",
    "        return 'Return'\n",
    "    finally:\n",
    "        print(\"Finally\")"
   ]
  },
  {
   "cell_type": "code",
   "execution_count": 37,
   "metadata": {},
   "outputs": [
    {
     "name": "stdout",
     "output_type": "stream",
     "text": [
      "Exception\n",
      "Finally\n"
     ]
    },
    {
     "data": {
      "text/plain": [
       "'Return'"
      ]
     },
     "execution_count": 37,
     "metadata": {},
     "output_type": "execute_result"
    }
   ],
   "source": [
    "final()"
   ]
  },
  {
   "cell_type": "markdown",
   "metadata": {},
   "source": [
    "### `else`\n",
    "\n",
    "> The else can be used as an alternative to the except block, in which case it will be executed instead of the except, but befor the `finally`."
   ]
  },
  {
   "cell_type": "code",
   "execution_count": 39,
   "metadata": {},
   "outputs": [
    {
     "name": "stdout",
     "output_type": "stream",
     "text": [
      "Try\n",
      "Else\n",
      "Finally\n"
     ]
    }
   ],
   "source": [
    "try:\n",
    "    print(\"Try\")\n",
    "    #raise Exception\n",
    "except:\n",
    "    print(\"Except\")\n",
    "else:\n",
    "    print(\"Else\")\n",
    "finally:\n",
    "    print(\"Finally\")\n"
   ]
  }
 ],
 "metadata": {
  "kernelspec": {
   "display_name": "Python 3",
   "language": "python",
   "name": "python3"
  },
  "language_info": {
   "codemirror_mode": {
    "name": "ipython",
    "version": 3
   },
   "file_extension": ".py",
   "mimetype": "text/x-python",
   "name": "python",
   "nbconvert_exporter": "python",
   "pygments_lexer": "ipython3",
   "version": "3.8.6"
  },
  "toc": {
   "base_numbering": 1,
   "nav_menu": {},
   "number_sections": true,
   "sideBar": true,
   "skip_h1_title": true,
   "title_cell": "Table of Contents",
   "title_sidebar": "Contents",
   "toc_cell": true,
   "toc_position": {
    "height": "calc(100% - 180px)",
    "left": "10px",
    "top": "150px",
    "width": "232.797px"
   },
   "toc_section_display": true,
   "toc_window_display": true
  }
 },
 "nbformat": 4,
 "nbformat_minor": 4
}
