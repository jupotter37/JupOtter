{
  "cells": [
    {
      "cell_type": "markdown",
      "metadata": {
        "id": "NVOkK4hCU7RK"
      },
      "source": [
        "# Run this cell first"
      ]
    },
    {
      "cell_type": "code",
      "execution_count": 40,
      "metadata": {
        "id": "QCMw-lybOsz-"
      },
      "outputs": [],
      "source": [
        "# this code enables the automated feedback. If you remove this, you won't get any feedback\n",
        "# so don't delete this cell!\n",
        "try:\n",
        "  import AutoFeedback\n",
        "except (ModuleNotFoundError, ImportError):\n",
        "  %pip install AutoFeedback\n",
        "  import AutoFeedback\n",
        "\n",
        "try:\n",
        "  from testsrc import test_main\n",
        "except (ModuleNotFoundError, ImportError):\n",
        "  %pip install \"git+https://github.com/autofeedback-exercises/exercises.git#subdirectory=MTH2031/crashcourse/dsolve\"\n",
        "  from testsrc import test_main\n",
        "\n",
        "def runtest():\n",
        "  import unittest\n",
        "  from contextlib import redirect_stderr\n",
        "  from os import devnull\n",
        "  with redirect_stderr(open(devnull, 'w')):\n",
        "    unittest.main(argv=[''], module=test_main, exit=False)\n"
      ]
    },
    {
      "cell_type": "markdown",
      "metadata": {},
      "source": [
        "# Solving ODES symbollically \n",
        "\n",
        "We have already seen the basic tool for solving differential equations in `sympy`: `dsolve`\n",
        "\n"
      ]
    },
    {
      "cell_type": "code",
      "execution_count": 41,
      "metadata": {},
      "outputs": [
        {
          "name": "stdout",
          "output_type": "stream",
          "text": [
            "           x\n",
            "f(x) = C₁⋅ℯ \n"
          ]
        }
      ],
      "source": [
        "import sympy as sy\n",
        "x = sy.Symbol('x')\n",
        "f = sy.Function('f')(x)\n",
        "diffeq = sy.Eq(f.diff(x), f)\n",
        "solution = sy.dsolve(diffeq)\n",
        "sy.pprint(solution)"
      ]
    },
    {
      "cell_type": "markdown",
      "metadata": {},
      "source": [
        "In order to set up and solve equations of motion with `sympy` we need to go a little further in order to solve for the unknown constant(s) in the solutions provided by `dsolve`.\n",
        "\n",
        "---\n",
        "\n",
        "Let's consider the simple harmonic motion equation: \n",
        "\n",
        "$$\\dfrac{d^2x}{dt^2} = -\\omega^2 x,$$\n",
        "\n",
        "where $\\omega$ is a given constant. This equation describes, for instance, the oscillatory motion of a mass attached to a spring. The set-up for the problem is exactly as above: define the symbols, build the differential equation and use `dsolve` to solve."
      ]
    },
    {
      "cell_type": "code",
      "execution_count": 42,
      "metadata": {},
      "outputs": [
        {
          "name": "stdout",
          "output_type": "stream",
          "text": [
            "           -ⅈ⋅ω⋅t       ⅈ⋅ω⋅t\n",
            "x(t) = C₁⋅ℯ       + C₂⋅ℯ     \n"
          ]
        }
      ],
      "source": [
        "t, w = sy.symbols('t, omega')\n",
        "x = sy.Function('x')(t)\n",
        "diffeq = sy.Eq(x.diff(t, 2), -w**2 * x)\n",
        "solution = sy.dsolve(diffeq)\n",
        "sy.pprint(solution)\n"
      ]
    },
    {
      "cell_type": "markdown",
      "metadata": {},
      "source": [
        "Let's think for a second about how we would find the values of the constants $c_1$  and $c_2$ were we solving this 'by hand'. We would take whatever initial conditions we had been given, and substitute the known information into the solution, before solving the resulting equations to determine $c_1$  and $c_2$. The procedure in sympy is exactly the same, but the syntax may be harder to remember.\n",
        "\n",
        "Let's take as our example the initial conditions \n",
        "\n",
        "$$x(t=0) = x_0, \\quad \\text{ and } \\quad \\left[\\dfrac{dx}{dt}\\right]_{t=0} = 0,$$\n",
        "\n",
        "which corresponds to releasing the mass from rest from a distance $x_0$ from the equilibrium position. We wish to substitute $t=0$ into the right hand side of our solution, and substitute the corresponding values for $x$  and $\\frac{dx}{dt}$ into the left hand side. Thankfully `sympy` provides a nice way to take the right (or left) hand side from an equation."
      ]
    },
    {
      "cell_type": "code",
      "execution_count": 43,
      "metadata": {},
      "outputs": [
        {
          "name": "stdout",
          "output_type": "stream",
          "text": [
            "C₁ + C₂ = x₀\n",
            "-ⅈ⋅C₁⋅ω + ⅈ⋅C₂⋅ω = 0\n"
          ]
        }
      ],
      "source": [
        "RHS = solution.rhs\n",
        "\n",
        "C1, C2, x0 = sy.symbols('C1, C2, x0')\n",
        "\n",
        "ic1 = sy.Eq(RHS.subs(t, 0), x0)        # sub t=0 into RHS, set equal to x0\n",
        "ic2 = sy.Eq(RHS.diff(t).subs(t, 0), 0) # differentiate RHS, sub in t=0 and set equal to 0\n",
        "sy.pprint(ic1)\n",
        "sy.pprint(ic2)"
      ]
    },
    {
      "cell_type": "markdown",
      "metadata": {},
      "source": [
        "At this point the variables (equations) `ic1`, and `ic2` form a system of equations (two equations, two unknowns) which we must solve to determine the values of the constants, `C1` and `C2`. Once again, we have previously seen how to do this with with `sy.solve()`"
      ]
    },
    {
      "cell_type": "code",
      "execution_count": 44,
      "metadata": {},
      "outputs": [
        {
          "name": "stdout",
          "output_type": "stream",
          "text": [
            "⎧    x₀      x₀⎫\n",
            "⎨C₁: ──, C₂: ──⎬\n",
            "⎩    2       2 ⎭\n"
          ]
        }
      ],
      "source": [
        "\n",
        "solution_ics = sy.solve([ic1, ic2], (C1, C2))\n",
        "sy.pprint(solution_ics)"
      ]
    },
    {
      "cell_type": "markdown",
      "metadata": {},
      "source": [
        "Note the tricky brackets here in the call to `sy.solve`: the equations `ic1` and `ic2` are contained in square brackets, and the target variables, `C1` and `C2` are contained in round brackets.\n",
        "\n",
        "Now that we have values for `C1` and `C2`, we simply substitute them back into the RHS of our equation for $x(t)$:"
      ]
    },
    {
      "cell_type": "code",
      "execution_count": 45,
      "metadata": {},
      "outputs": [
        {
          "name": "stdout",
          "output_type": "stream",
          "text": [
            "    ⅈ⋅ω⋅t       -ⅈ⋅ω⋅t\n",
            "x₀⋅ℯ        x₀⋅ℯ      \n",
            "───────── + ──────────\n",
            "    2           2     \n"
          ]
        }
      ],
      "source": [
        "particular = RHS.subs(solution_ics)\n",
        "sy.pprint(particular)"
      ]
    },
    {
      "cell_type": "markdown",
      "metadata": {},
      "source": [
        "Those of you thinking that this doesn't look like the solution of the SHM equation that you were expecting will be pleased to know that `sympy` can tidy that expression up for you:"
      ]
    },
    {
      "cell_type": "code",
      "execution_count": 46,
      "metadata": {},
      "outputs": [
        {
          "name": "stdout",
          "output_type": "stream",
          "text": [
            "x₀⋅cos(ω⋅t)\n"
          ]
        }
      ],
      "source": [
        "particular = sy.simplify(particular)\n",
        "sy.pprint(particular)"
      ]
    },
    {
      "cell_type": "markdown",
      "metadata": {},
      "source": [
        "If we want to plot this we can use the skills we learned in previous exercises to create a numerical function for the particular solution as follows. Note that the function requires values for the $\\omega$ and $x_0$, which we set as $\\omega = 2$ and $x_0 = 1$, for the sake of example. "
      ]
    },
    {
      "cell_type": "code",
      "execution_count": 52,
      "metadata": {},
      "outputs": [
        {
          "data": {
            "text/plain": [
              "Text(0, 0.5, 'x(t) (cm)')"
            ]
          },
          "execution_count": 52,
          "metadata": {},
          "output_type": "execute_result"
        },
        {
          "data": {
            "image/png": "[encoded data removed]",
            "text/plain": [
              "<Figure size 640x480 with 1 Axes>"
            ]
          },
          "metadata": {},
          "output_type": "display_data"
        }
      ],
      "source": [
        "import numpy as np\n",
        "import matplotlib.pyplot as plt\n",
        "\n",
        "ny_func = sy.lambdify([t, w, x0], particular)\n",
        "\n",
        "nt = np.linspace(-10, 10, 1000)\n",
        "ny = ny_func(nt, 2, 1)\n",
        "plt.plot(nt, ny)\n",
        "plt.xlabel('time (s)')\n",
        "plt.ylabel('x(t) (cm)')"
      ]
    },
    {
      "cell_type": "markdown",
      "metadata": {
        "id": "lCMqVKUZ1gEu"
      },
      "source": [
        "--- \n",
        "\n",
        "# TASKS\n",
        "\n",
        "Consider the second order, inhomogeneous differential equation,\n",
        "\n",
        "$$\\dfrac{d^2y}{dt^2} + 2\\dfrac{dy}{dt} + 5y = 5t^2 + 12$$\n",
        "\n",
        "with the initial conditions \n",
        "\n",
        "$$ y(0) = 0 \\quad \\text{ and } \\quad \\left[ \\dfrac{dy}{dt}\\right]_{t=0} = 0$$\n",
        "\n",
        "Use `sympy.dsolve` and sympy variable substitutions to determine the particular\n",
        "solution of this diferential system.\n",
        "\n",
        "1. Store the differential equation in the variable `diffeq`\n",
        "2. Store the solution of `diffeq` in the variable `solution`\n",
        "3. Store the initial conditions in `ic1` and `ic2` respectively\n",
        "4. Store the particular solution in the variable `particular`\n",
        "---\n",
        "5. Use lambdify to define a numerical function for particular, call it `particular_func`\n",
        "6. Define a variable `nt` as 100 equally spaced values between -1 and 1\n",
        "7. Use `particular_func` to compute the solution for the values in `nt`, store the solution in `ny`\n",
        "8. Plot the solution (`ny` as a function of `nt`) and label the axes `'t`' and `'y(t)'` as appropriate\n",
        "\n"
      ]
    },
    {
      "cell_type": "code",
      "execution_count": null,
      "metadata": {
        "id": "is0e2oMSCSf0"
      },
      "outputs": [
        {
          "data": {
            "image/png": "[encoded data removed]",
            "text/plain": [
              "<Figure size 640x480 with 1 Axes>"
            ]
          },
          "metadata": {},
          "output_type": "display_data"
        }
      ],
      "source": [
        "# your code goes here\n",
        "\n",
        "\n",
        "# This code is required for the autofeedback- don't delete it!\n",
        "fighand = plt.gca()"
      ]
    },
    {
      "cell_type": "code",
      "execution_count": null,
      "metadata": {
        "id": "REisrVbs4VNM"
      },
      "outputs": [
        {
          "name": "stdout",
          "output_type": "stream",
          "text": [
            "\u001b[91mThe variable diffeq has the wrong value(s)\n",
            "\n",
            "        We expected the output:\n",
            "        Eq(5*y(t) + 2*Derivative(y(t), t) + Derivative(y(t), (t, 2)), 5*t**2 + 12)\n",
            "        but instead we got:\n",
            "        Eq(Derivative(x(t), (t, 2)), -omega**2*x(t))\n",
            "        Try using print(diffeq) to check the values look as you expect them\n",
            "        to and ensure the expression used to calculate the variable\n",
            "        is correct.\n",
            "        \u001b[0m\n",
            "\u001b[93m==============================\n",
            "\u001b[0m\n",
            "\u001b[91mThe variable solution has the wrong value(s)\n",
            "\n",
            "        We expected the output:\n",
            "        Eq(y(t), t**2 - 4*t/5 + (C1*sin(2*t) + C2*cos(2*t))*exp(-t) + 58/25)\n",
            "        but instead we got:\n",
            "        Eq(x(t), C1*exp(-I*omega*t) + C2*exp(I*omega*t))\n",
            "        Try using print(solution) to check the values look as you expect them\n",
            "        to and ensure the expression used to calculate the variable\n",
            "        is correct.\n",
            "        \u001b[0m\n",
            "\u001b[93m==============================\n",
            "\u001b[0m\n",
            "\u001b[91mThe variable ic1 has the wrong value(s)\n",
            "\n",
            "        We expected the output:\n",
            "        Eq(C2 + 58/25, 0)\n",
            "        but instead we got:\n",
            "        Eq(C1 + C2, x0)\n",
            "        Try using print(ic1) to check the values look as you expect them\n",
            "        to and ensure the expression used to calculate the variable\n",
            "        is correct.\n",
            "        \u001b[0m\n",
            "\u001b[93m==============================\n",
            "\u001b[0m\n",
            "\u001b[91mThe variable ic2 has the wrong value(s)\n",
            "\n",
            "        We expected the output:\n",
            "        Eq(2*C1 - C2 - 4/5, 0)\n",
            "        but instead we got:\n",
            "        Eq(-I*C1*omega + I*C2*omega, 0)\n",
            "        Try using print(ic2) to check the values look as you expect them\n",
            "        to and ensure the expression used to calculate the variable\n",
            "        is correct.\n",
            "        \u001b[0m\n",
            "\u001b[93m==============================\n",
            "\u001b[0m\n",
            "\u001b[91mThe variable particular has the wrong value(s)\n",
            "\n",
            "        We expected the output:\n",
            "        t**2 - 4*t/5 + (-19*sin(2*t)/25 - 58*cos(2*t)/25)*exp(-t) + 58/25\n",
            "        but instead we got:\n",
            "        cos(2*t)\n",
            "        Try using print(particular) to check the values look as you expect them\n",
            "        to and ensure the expression used to calculate the variable\n",
            "        is correct.\n",
            "        \u001b[0m\n",
            "\u001b[93m==============================\n",
            "\u001b[0m\n"
          ]
        }
      ],
      "source": [
        "runtest()\n"
      ]
    }
  ],
  "metadata": {
    "colab": {
      "cell_execution_strategy": "setup",
      "collapsed_sections": [
        "NVOkK4hCU7RK"
      ],
      "private_outputs": true,
      "provenance": []
    },
    "kernelspec": {
      "display_name": "Python 3 (ipykernel)",
      "language": "python",
      "name": "python3"
    },
    "language_info": {
      "codemirror_mode": {
        "name": "ipython",
        "version": 3
      },
      "file_extension": ".py",
      "mimetype": "text/x-python",
      "name": "python",
      "nbconvert_exporter": "python",
      "pygments_lexer": "ipython3",
      "version": "3.9.13"
    }
  },
  "nbformat": 4,
  "nbformat_minor": 0
}
