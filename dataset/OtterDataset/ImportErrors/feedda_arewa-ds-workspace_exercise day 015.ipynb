{
 "cells": [
  {
   "cell_type": "markdown",
   "metadata": {},
   "source": [
    "## Exercise day 15"
   ]
  },
  {
   "cell_type": "code",
   "execution_count": 1,
   "metadata": {},
   "outputs": [
    {
     "name": "stdout",
     "output_type": "stream",
     "text": [
      " After running all the examples in day 15 in the python shell, I realised\n",
      "      that the following were the errors \n",
      "\n",
      "1) SyntaxError\n",
      "2) NameError\n",
      "3) IndexError\n",
      "4) ModuleNotFoundError\n",
      "5) AttributeError\n",
      "6) KeyError\n",
      "7) TypeError\n",
      "8) ImportError\n",
      "9) ValueError\n",
      "10) ZeroDivisionError\n",
      "\n",
      "Even though some of the errors were corrected by the python as suggestion, \n",
      "i have learnt alot in tackling errors whenever I identify any\n",
      "\n",
      " \n",
      "\n"
     ]
    }
   ],
   "source": [
    "print(''' After running all the examples in day 15 in the python shell, I realised\n",
    "      that the following were the errors \n",
    "\n",
    "1) SyntaxError\n",
    "2) NameError\n",
    "3) IndexError\n",
    "4) ModuleNotFoundError\n",
    "5) AttributeError\n",
    "6) KeyError\n",
    "7) TypeError\n",
    "8) ImportError\n",
    "9) ValueError\n",
    "10) ZeroDivisionError\n",
    "\n",
    "Even though some of the errors were corrected by the python as suggestion, \n",
    "i have learnt alot in tackling errors whenever I identify any\n",
    "\n",
    " \n",
    "''')\n"
   ]
  }
 ],
 "metadata": {
  "kernelspec": {
   "display_name": "Python 2",
   "language": "python",
   "name": "python2"
  },
  "language_info": {
   "codemirror_mode": {
    "name": "ipython",
    "version": 2
   },
   "file_extension": ".py",
   "mimetype": "text/x-python",
   "name": "python",
   "nbconvert_exporter": "python",
   "pygments_lexer": "ipython2",
   "version": "2.7.16"
  }
 },
 "nbformat": 4,
 "nbformat_minor": 2
}
