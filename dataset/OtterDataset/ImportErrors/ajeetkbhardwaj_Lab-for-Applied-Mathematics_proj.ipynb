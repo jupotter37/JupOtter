{
 "cells": [
  {
   "cell_type": "markdown",
   "metadata": {},
   "source": [
    "# Least Square Regression Methods\n"
   ]
  },
  {
   "cell_type": "code",
   "execution_count": 1,
   "metadata": {},
   "outputs": [
    {
     "ename": "ModuleNotFoundError",
     "evalue": "No module named 'cvxopt'",
     "output_type": "error",
     "traceback": [
      "\u001b[1;31m---------------------------------------------------------------------------\u001b[0m",
      "\u001b[1;31mModuleNotFoundError\u001b[0m                       Traceback (most recent call last)",
      "Cell \u001b[1;32mIn[1], line 3\u001b[0m\n\u001b[0;32m      1\u001b[0m \u001b[38;5;66;03m# Least-squares fit of a convex function.\u001b[39;00m\n\u001b[1;32m----> 3\u001b[0m \u001b[38;5;28;01mfrom\u001b[39;00m \u001b[38;5;21;01mcvxopt\u001b[39;00m \u001b[38;5;28;01mimport\u001b[39;00m solvers, matrix, spmatrix, mul\n\u001b[0;32m      4\u001b[0m \u001b[38;5;28;01mfrom\u001b[39;00m \u001b[38;5;21;01mpickle\u001b[39;00m \u001b[38;5;28;01mimport\u001b[39;00m load\n\u001b[0;32m      5\u001b[0m solvers\u001b[38;5;241m.\u001b[39moptions[\u001b[38;5;124m'\u001b[39m\u001b[38;5;124mshow_progress\u001b[39m\u001b[38;5;124m'\u001b[39m] \u001b[38;5;241m=\u001b[39m \u001b[38;5;241m0\u001b[39m\n",
      "\u001b[1;31mModuleNotFoundError\u001b[0m: No module named 'cvxopt'"
     ]
    }
   ],
   "source": [
    "# Least-squares fit of a convex function.\n",
    "\n",
    "from cvxopt import solvers, matrix, spmatrix, mul\n",
    "from pickle import load\n",
    "solvers.options['show_progress'] = 0\n",
    "\n",
    "data = load(open('cvxfit.bin','rb'))\n",
    "u, y = data['u'], data['y']\n",
    "m = len(u)\n",
    "\n",
    "# minimize    (1/2) * || yhat - y ||_2^2\n",
    "# subject to  yhat[j] >= yhat[i] + g[i]' * (u[j] - u[i]), j, i = 0,...,m-1\n",
    "#\n",
    "# Variables  yhat (m), g (m).\n",
    "\n",
    "nvars = 2*m\n",
    "P = spmatrix(1.0, range(m), range(m), (nvars, nvars))\n",
    "q = matrix(0.0, (nvars,1))\n",
    "q[:m] = -y\n",
    "\n",
    "# m blocks (i = 0,...,m-1) of linear inequalities\n",
    "#\n",
    "#     yhat[i] + g[i]' * (u[j] - u[i]) <= yhat[j], j = 0,...,m-1.\n",
    "\n",
    "G = spmatrix([],[],[], (m**2, nvars))\n",
    "I = spmatrix(1.0, range(m), range(m))\n",
    "for i in range(m):\n",
    "    # coefficients of yhat[i]\n",
    "    G[list(range(i*m, (i+1)*m)), i] = 1.0\n",
    "\n",
    "    # coefficients of g[i]\n",
    "    G[list(range(i*m, (i+1)*m)), m+i] = u - u[i]\n",
    "\n",
    "    # coefficients of yhat[j]\n",
    "    G[list(range(i*m, (i+1)*m)), list(range(m))] -= I\n",
    "\n",
    "h = matrix(0.0, (m**2,1))\n",
    "\n",
    "sol = solvers.qp(P, q, G, h)\n",
    "yhat = sol['x'][:m]\n",
    "g = sol['x'][m:]\n",
    "\n",
    "nopts = 1000\n",
    "ts = [ 2.2/nopts * t for t in range(1000) ]\n",
    "f = [ max(yhat + mul(g, t-u)) for t in ts ]\n",
    "\n",
    "try: import pylab\n",
    "except ImportError: pass\n",
    "else:\n",
    "    pylab.figure(1, facecolor='w')\n",
    "    pylab.plot(u, y, 'wo', markeredgecolor='b')\n",
    "    pylab.plot(ts, f, '-g')\n",
    "    pylab.axis([-0.1, 2.3, -1.1, 7.2])\n",
    "    pylab.axis('off')\n",
    "    pylab.title('Least-squares fit of convex function (fig. 6.24)')\n",
    "    pylab.show()"
   ]
  },
  {
   "cell_type": "code",
   "execution_count": null,
   "metadata": {},
   "outputs": [],
   "source": []
  }
 ],
 "metadata": {
  "kernelspec": {
   "display_name": "mne",
   "language": "python",
   "name": "python3"
  },
  "language_info": {
   "codemirror_mode": {
    "name": "ipython",
    "version": 3
   },
   "file_extension": ".py",
   "mimetype": "text/x-python",
   "name": "python",
   "nbconvert_exporter": "python",
   "pygments_lexer": "ipython3",
   "version": "3.12.2"
  }
 },
 "nbformat": 4,
 "nbformat_minor": 2
}
