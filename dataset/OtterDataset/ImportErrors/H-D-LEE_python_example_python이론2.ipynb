{
 "cells": [
  {
   "cell_type": "code",
   "execution_count": 3,
   "id": "bb5a2188-3958-435d-b44e-90f42140a1f9",
   "metadata": {},
   "outputs": [
    {
     "name": "stdout",
     "output_type": "stream",
     "text": [
      "원소 =  [3, 6, 9, 12, 15, 18, 21, 24, 27, 30, 33, 36, 39, 42, 45, 48, 51, 54, 57, 60, 63, 66, 69, 72, 75, 78, 81, 84, 87, 90, 93, 96, 99]\n",
      "3의 배수 합 =  1683\n"
     ]
    }
   ],
   "source": [
    "# 1 ~ 100까지 3의 배수 합과 원소 추출하기\n",
    "sum = cnt = 0\n",
    "dataset = []\n",
    "while cnt <= 100:\n",
    "    cnt += 1\n",
    "    if cnt % 3 == 0 :\n",
    "        dataset.append(cnt)\n",
    "        sum += cnt\n",
    "print('원소 = ', dataset)\n",
    "print('3의 배수 합 = ', sum)"
   ]
  },
  {
   "cell_type": "code",
   "execution_count": 11,
   "id": "40f6b183-1880-41be-89ce-545b53d8e9f6",
   "metadata": {},
   "outputs": [
    {
     "name": "stdin",
     "output_type": "stream",
     "text": [
      " 4165\n",
      " 6516\n",
      " 516\n",
      " 156\n",
      " 4968\n",
      " 146521\n",
      " 565\n",
      " 484\n",
      " 56\n",
      " 213\n"
     ]
    },
    {
     "name": "stdout",
     "output_type": "stream",
     "text": [
      "[4165, 6516, 516, 156, 4968, 146521, 565, 484, 56, 213]\n"
     ]
    }
   ],
   "source": [
    "numdate = []\n",
    "\n",
    "while True :\n",
    "    num = int(input())\n",
    "    numdate.append(num)\n",
    "    if len(numdate) == 10 :\n",
    "        break;\n",
    "print(numdate)"
   ]
  },
  {
   "cell_type": "code",
   "execution_count": 13,
   "id": "a6ac36c6-5028-4741-9881-5beadec3757f",
   "metadata": {},
   "outputs": [
    {
     "name": "stdout",
     "output_type": "stream",
     "text": [
      "홍\n",
      "길\n",
      "동\n"
     ]
    }
   ],
   "source": [
    "string = \"홍길동\"\n",
    "len(string)\n",
    "for s in string :\n",
    "    print(s)"
   ]
  },
  {
   "cell_type": "code",
   "execution_count": 17,
   "id": "69cb963f-b0a2-43c8-bd79-92770b2125f0",
   "metadata": {},
   "outputs": [
    {
     "name": "stdout",
     "output_type": "stream",
     "text": [
      "[0, 1, 2, 3, 4, 5, 6, 7, 8, 9]\n",
      "[3, 6, 9, 12, 15, 18, 21, 24, 27, 30, 33, 36, 39, 42, 45, 48, 51, 54, 57, 60, 63, 66, 69, 72, 75, 78, 81, 84, 87, 90, 93, 96, 99]\n"
     ]
    }
   ],
   "source": [
    "num = list(range(10))\n",
    "print(num)\n",
    "num1 = list(range(1, 101))\n",
    "lst = []\n",
    "for e in num1 :\n",
    "    if e % 3 == 0 :\n",
    "        lst.append(e)\n",
    "print(lst)"
   ]
  },
  {
   "cell_type": "code",
   "execution_count": 21,
   "id": "c2c0541f-27c5-4309-aeec-219c784da97c",
   "metadata": {},
   "outputs": [
    {
     "name": "stdout",
     "output_type": "stream",
     "text": [
      "1 X 1 = 1\n",
      "1 X 2 = 2\n",
      "1 X 3 = 3\n",
      "1 X 4 = 4\n",
      "1 X 5 = 5\n",
      "1 X 6 = 6\n",
      "1 X 7 = 7\n",
      "1 X 8 = 8\n",
      "1 X 9 = 9\n",
      "2 X 1 = 2\n",
      "2 X 2 = 4\n",
      "2 X 3 = 6\n",
      "2 X 4 = 8\n",
      "2 X 5 = 10\n",
      "2 X 6 = 12\n",
      "2 X 7 = 14\n",
      "2 X 8 = 16\n",
      "2 X 9 = 18\n",
      "3 X 1 = 3\n",
      "3 X 2 = 6\n",
      "3 X 3 = 9\n",
      "3 X 4 = 12\n",
      "3 X 5 = 15\n",
      "3 X 6 = 18\n",
      "3 X 7 = 21\n",
      "3 X 8 = 24\n",
      "3 X 9 = 27\n",
      "4 X 1 = 4\n",
      "4 X 2 = 8\n",
      "4 X 3 = 12\n",
      "4 X 4 = 16\n",
      "4 X 5 = 20\n",
      "4 X 6 = 24\n",
      "4 X 7 = 28\n",
      "4 X 8 = 32\n",
      "4 X 9 = 36\n",
      "5 X 1 = 5\n",
      "5 X 2 = 10\n",
      "5 X 3 = 15\n",
      "5 X 4 = 20\n",
      "5 X 5 = 25\n",
      "5 X 6 = 30\n",
      "5 X 7 = 35\n",
      "5 X 8 = 40\n",
      "5 X 9 = 45\n",
      "6 X 1 = 6\n",
      "6 X 2 = 12\n",
      "6 X 3 = 18\n",
      "6 X 4 = 24\n",
      "6 X 5 = 30\n",
      "6 X 6 = 36\n",
      "6 X 7 = 42\n",
      "6 X 8 = 48\n",
      "6 X 9 = 54\n",
      "7 X 1 = 7\n",
      "7 X 2 = 14\n",
      "7 X 3 = 21\n",
      "7 X 4 = 28\n",
      "7 X 5 = 35\n",
      "7 X 6 = 42\n",
      "7 X 7 = 49\n",
      "7 X 8 = 56\n",
      "7 X 9 = 63\n",
      "8 X 1 = 8\n",
      "8 X 2 = 16\n",
      "8 X 3 = 24\n",
      "8 X 4 = 32\n",
      "8 X 5 = 40\n",
      "8 X 6 = 48\n",
      "8 X 7 = 56\n",
      "8 X 8 = 64\n",
      "8 X 9 = 72\n",
      "9 X 1 = 9\n",
      "9 X 2 = 18\n",
      "9 X 3 = 27\n",
      "9 X 4 = 36\n",
      "9 X 5 = 45\n",
      "9 X 6 = 54\n",
      "9 X 7 = 63\n",
      "9 X 8 = 72\n",
      "9 X 9 = 81\n"
     ]
    }
   ],
   "source": [
    "gugudan = 0\n",
    "for i in range(1, 10) :\n",
    "    for j in range(1, 10) :\n",
    "        gugudan = i * j\n",
    "        print(f'{i} X {j} = {gugudan}')"
   ]
  },
  {
   "cell_type": "code",
   "execution_count": 25,
   "id": "dc6d0b35-c15a-4302-9632-6adf7837c25a",
   "metadata": {},
   "outputs": [
    {
     "name": "stdout",
     "output_type": "stream",
     "text": [
      "sents = [] ['나는 홍길동 입니다.', '주소는 서울시 입니다.', '나이는 35세 입니다.']\n",
      "words = [] ['나는', '홍길동', '입니다.', '주소는', '서울시', '입니다.', '나이는', '35세', '입니다.']\n"
     ]
    }
   ],
   "source": [
    "string = \"\"\"나는 홍길동 입니다.\n",
    "주소는 서울시 입니다.\n",
    "나이는 35세 입니다.\"\"\"\n",
    "\n",
    "sents = []\n",
    "words = []\n",
    "\n",
    "for sen in  string.split(sep = '\\n'):\n",
    "    sents.append(sen)\n",
    "    for word in sen.split(' ') :\n",
    "        words.append(word)\n",
    "\n",
    "print('sents = []', sents)\n",
    "print('words = []', words)"
   ]
  },
  {
   "cell_type": "code",
   "execution_count": null,
   "id": "06f33d59-409e-4a41-aeb6-0fa6f0928092",
   "metadata": {},
   "outputs": [],
   "source": [
    "# 함수\n",
    "1. 내장 함수 (Bulit-in function)\n",
    "2. 사용자 정의 함수 (User difine function)\n",
    "3. 중첩 함수 (Inner function)\n",
    "4. 특수 함수 (Special function : Lambda)\n",
    "5. 재귀 함수 (Reculsive function)\n",
    "# 1. 내장 함수\n",
    "# 파이썬 제공 함수 또는 라이브러리 제공 함수(이미 만들어져 있는 함수)\n",
    "upper(), lower(), split(), range(), len(), join(), print(), id(), replace(), input() ..."
   ]
  },
  {
   "cell_type": "code",
   "execution_count": 1,
   "id": "c40d04b8-a39c-4315-9223-57104b1bf816",
   "metadata": {},
   "outputs": [
    {
     "data": {
      "text/plain": [
       "['ArithmeticError',\n",
       " 'AssertionError',\n",
       " 'AttributeError',\n",
       " 'BaseException',\n",
       " 'BaseExceptionGroup',\n",
       " 'BlockingIOError',\n",
       " 'BrokenPipeError',\n",
       " 'BufferError',\n",
       " 'BytesWarning',\n",
       " 'ChildProcessError',\n",
       " 'ConnectionAbortedError',\n",
       " 'ConnectionError',\n",
       " 'ConnectionRefusedError',\n",
       " 'ConnectionResetError',\n",
       " 'DeprecationWarning',\n",
       " 'EOFError',\n",
       " 'Ellipsis',\n",
       " 'EncodingWarning',\n",
       " 'EnvironmentError',\n",
       " 'Exception',\n",
       " 'ExceptionGroup',\n",
       " 'False',\n",
       " 'FileExistsError',\n",
       " 'FileNotFoundError',\n",
       " 'FloatingPointError',\n",
       " 'FutureWarning',\n",
       " 'GeneratorExit',\n",
       " 'IOError',\n",
       " 'ImportError',\n",
       " 'ImportWarning',\n",
       " 'IndentationError',\n",
       " 'IndexError',\n",
       " 'InterruptedError',\n",
       " 'IsADirectoryError',\n",
       " 'KeyError',\n",
       " 'KeyboardInterrupt',\n",
       " 'LookupError',\n",
       " 'MemoryError',\n",
       " 'ModuleNotFoundError',\n",
       " 'NameError',\n",
       " 'None',\n",
       " 'NotADirectoryError',\n",
       " 'NotImplemented',\n",
       " 'NotImplementedError',\n",
       " 'OSError',\n",
       " 'OverflowError',\n",
       " 'PendingDeprecationWarning',\n",
       " 'PermissionError',\n",
       " 'ProcessLookupError',\n",
       " 'RecursionError',\n",
       " 'ReferenceError',\n",
       " 'ResourceWarning',\n",
       " 'RuntimeError',\n",
       " 'RuntimeWarning',\n",
       " 'StopAsyncIteration',\n",
       " 'StopIteration',\n",
       " 'SyntaxError',\n",
       " 'SyntaxWarning',\n",
       " 'SystemError',\n",
       " 'SystemExit',\n",
       " 'TabError',\n",
       " 'TimeoutError',\n",
       " 'True',\n",
       " 'TypeError',\n",
       " 'UnboundLocalError',\n",
       " 'UnicodeDecodeError',\n",
       " 'UnicodeEncodeError',\n",
       " 'UnicodeError',\n",
       " 'UnicodeTranslateError',\n",
       " 'UnicodeWarning',\n",
       " 'UserWarning',\n",
       " 'ValueError',\n",
       " 'Warning',\n",
       " 'WindowsError',\n",
       " 'ZeroDivisionError',\n",
       " '__IPYTHON__',\n",
       " '__build_class__',\n",
       " '__debug__',\n",
       " '__doc__',\n",
       " '__import__',\n",
       " '__loader__',\n",
       " '__name__',\n",
       " '__package__',\n",
       " '__spec__',\n",
       " 'abs',\n",
       " 'aiter',\n",
       " 'all',\n",
       " 'anext',\n",
       " 'any',\n",
       " 'ascii',\n",
       " 'bin',\n",
       " 'bool',\n",
       " 'breakpoint',\n",
       " 'bytearray',\n",
       " 'bytes',\n",
       " 'callable',\n",
       " 'chr',\n",
       " 'classmethod',\n",
       " 'compile',\n",
       " 'complex',\n",
       " 'copyright',\n",
       " 'credits',\n",
       " 'delattr',\n",
       " 'dict',\n",
       " 'dir',\n",
       " 'display',\n",
       " 'divmod',\n",
       " 'enumerate',\n",
       " 'eval',\n",
       " 'exec',\n",
       " 'execfile',\n",
       " 'filter',\n",
       " 'float',\n",
       " 'format',\n",
       " 'frozenset',\n",
       " 'get_ipython',\n",
       " 'getattr',\n",
       " 'globals',\n",
       " 'hasattr',\n",
       " 'hash',\n",
       " 'help',\n",
       " 'hex',\n",
       " 'id',\n",
       " 'input',\n",
       " 'int',\n",
       " 'isinstance',\n",
       " 'issubclass',\n",
       " 'iter',\n",
       " 'len',\n",
       " 'license',\n",
       " 'list',\n",
       " 'locals',\n",
       " 'map',\n",
       " 'max',\n",
       " 'memoryview',\n",
       " 'min',\n",
       " 'next',\n",
       " 'object',\n",
       " 'oct',\n",
       " 'open',\n",
       " 'ord',\n",
       " 'pow',\n",
       " 'print',\n",
       " 'property',\n",
       " 'range',\n",
       " 'repr',\n",
       " 'reversed',\n",
       " 'round',\n",
       " 'runfile',\n",
       " 'set',\n",
       " 'setattr',\n",
       " 'slice',\n",
       " 'sorted',\n",
       " 'staticmethod',\n",
       " 'str',\n",
       " 'sum',\n",
       " 'super',\n",
       " 'tuple',\n",
       " 'type',\n",
       " 'vars',\n",
       " 'zip']"
      ]
     },
     "execution_count": 1,
     "metadata": {},
     "output_type": "execute_result"
    }
   ],
   "source": [
    "import builtins\n",
    "\n",
    "dir(builtins)"
   ]
  },
  {
   "cell_type": "code",
   "execution_count": 3,
   "id": "32d80357-bec0-4d09-b34a-9b3215f3dd94",
   "metadata": {},
   "outputs": [
    {
     "name": "stdout",
     "output_type": "stream",
     "text": [
      "Help on class str in module builtins:\n",
      "\n",
      "class str(object)\n",
      " |  str(object='') -> str\n",
      " |  str(bytes_or_buffer[, encoding[, errors]]) -> str\n",
      " |\n",
      " |  Create a new string object from the given object. If encoding or\n",
      " |  errors is specified, then the object must expose a data buffer\n",
      " |  that will be decoded using the given encoding and error handler.\n",
      " |  Otherwise, returns the result of object.__str__() (if defined)\n",
      " |  or repr(object).\n",
      " |  encoding defaults to sys.getdefaultencoding().\n",
      " |  errors defaults to 'strict'.\n",
      " |\n",
      " |  Methods defined here:\n",
      " |\n",
      " |  __add__(self, value, /)\n",
      " |      Return self+value.\n",
      " |\n",
      " |  __contains__(self, key, /)\n",
      " |      Return bool(key in self).\n",
      " |\n",
      " |  __eq__(self, value, /)\n",
      " |      Return self==value.\n",
      " |\n",
      " |  __format__(self, format_spec, /)\n",
      " |      Return a formatted version of the string as described by format_spec.\n",
      " |\n",
      " |  __ge__(self, value, /)\n",
      " |      Return self>=value.\n",
      " |\n",
      " |  __getattribute__(self, name, /)\n",
      " |      Return getattr(self, name).\n",
      " |\n",
      " |  __getitem__(self, key, /)\n",
      " |      Return self[key].\n",
      " |\n",
      " |  __getnewargs__(...)\n",
      " |\n",
      " |  __gt__(self, value, /)\n",
      " |      Return self>value.\n",
      " |\n",
      " |  __hash__(self, /)\n",
      " |      Return hash(self).\n",
      " |\n",
      " |  __iter__(self, /)\n",
      " |      Implement iter(self).\n",
      " |\n",
      " |  __le__(self, value, /)\n",
      " |      Return self<=value.\n",
      " |\n",
      " |  __len__(self, /)\n",
      " |      Return len(self).\n",
      " |\n",
      " |  __lt__(self, value, /)\n",
      " |      Return self<value.\n",
      " |\n",
      " |  __mod__(self, value, /)\n",
      " |      Return self%value.\n",
      " |\n",
      " |  __mul__(self, value, /)\n",
      " |      Return self*value.\n",
      " |\n",
      " |  __ne__(self, value, /)\n",
      " |      Return self!=value.\n",
      " |\n",
      " |  __repr__(self, /)\n",
      " |      Return repr(self).\n",
      " |\n",
      " |  __rmod__(self, value, /)\n",
      " |      Return value%self.\n",
      " |\n",
      " |  __rmul__(self, value, /)\n",
      " |      Return value*self.\n",
      " |\n",
      " |  __sizeof__(self, /)\n",
      " |      Return the size of the string in memory, in bytes.\n",
      " |\n",
      " |  __str__(self, /)\n",
      " |      Return str(self).\n",
      " |\n",
      " |  capitalize(self, /)\n",
      " |      Return a capitalized version of the string.\n",
      " |\n",
      " |      More specifically, make the first character have upper case and the rest lower\n",
      " |      case.\n",
      " |\n",
      " |  casefold(self, /)\n",
      " |      Return a version of the string suitable for caseless comparisons.\n",
      " |\n",
      " |  center(self, width, fillchar=' ', /)\n",
      " |      Return a centered string of length width.\n",
      " |\n",
      " |      Padding is done using the specified fill character (default is a space).\n",
      " |\n",
      " |  count(...)\n",
      " |      S.count(sub[, start[, end]]) -> int\n",
      " |\n",
      " |      Return the number of non-overlapping occurrences of substring sub in\n",
      " |      string S[start:end].  Optional arguments start and end are\n",
      " |      interpreted as in slice notation.\n",
      " |\n",
      " |  encode(self, /, encoding='utf-8', errors='strict')\n",
      " |      Encode the string using the codec registered for encoding.\n",
      " |\n",
      " |      encoding\n",
      " |        The encoding in which to encode the string.\n",
      " |      errors\n",
      " |        The error handling scheme to use for encoding errors.\n",
      " |        The default is 'strict' meaning that encoding errors raise a\n",
      " |        UnicodeEncodeError.  Other possible values are 'ignore', 'replace' and\n",
      " |        'xmlcharrefreplace' as well as any other name registered with\n",
      " |        codecs.register_error that can handle UnicodeEncodeErrors.\n",
      " |\n",
      " |  endswith(...)\n",
      " |      S.endswith(suffix[, start[, end]]) -> bool\n",
      " |\n",
      " |      Return True if S ends with the specified suffix, False otherwise.\n",
      " |      With optional start, test S beginning at that position.\n",
      " |      With optional end, stop comparing S at that position.\n",
      " |      suffix can also be a tuple of strings to try.\n",
      " |\n",
      " |  expandtabs(self, /, tabsize=8)\n",
      " |      Return a copy where all tab characters are expanded using spaces.\n",
      " |\n",
      " |      If tabsize is not given, a tab size of 8 characters is assumed.\n",
      " |\n",
      " |  find(...)\n",
      " |      S.find(sub[, start[, end]]) -> int\n",
      " |\n",
      " |      Return the lowest index in S where substring sub is found,\n",
      " |      such that sub is contained within S[start:end].  Optional\n",
      " |      arguments start and end are interpreted as in slice notation.\n",
      " |\n",
      " |      Return -1 on failure.\n",
      " |\n",
      " |  format(...)\n",
      " |      S.format(*args, **kwargs) -> str\n",
      " |\n",
      " |      Return a formatted version of S, using substitutions from args and kwargs.\n",
      " |      The substitutions are identified by braces ('{' and '}').\n",
      " |\n",
      " |  format_map(...)\n",
      " |      S.format_map(mapping) -> str\n",
      " |\n",
      " |      Return a formatted version of S, using substitutions from mapping.\n",
      " |      The substitutions are identified by braces ('{' and '}').\n",
      " |\n",
      " |  index(...)\n",
      " |      S.index(sub[, start[, end]]) -> int\n",
      " |\n",
      " |      Return the lowest index in S where substring sub is found,\n",
      " |      such that sub is contained within S[start:end].  Optional\n",
      " |      arguments start and end are interpreted as in slice notation.\n",
      " |\n",
      " |      Raises ValueError when the substring is not found.\n",
      " |\n",
      " |  isalnum(self, /)\n",
      " |      Return True if the string is an alpha-numeric string, False otherwise.\n",
      " |\n",
      " |      A string is alpha-numeric if all characters in the string are alpha-numeric and\n",
      " |      there is at least one character in the string.\n",
      " |\n",
      " |  isalpha(self, /)\n",
      " |      Return True if the string is an alphabetic string, False otherwise.\n",
      " |\n",
      " |      A string is alphabetic if all characters in the string are alphabetic and there\n",
      " |      is at least one character in the string.\n",
      " |\n",
      " |  isascii(self, /)\n",
      " |      Return True if all characters in the string are ASCII, False otherwise.\n",
      " |\n",
      " |      ASCII characters have code points in the range U+0000-U+007F.\n",
      " |      Empty string is ASCII too.\n",
      " |\n",
      " |  isdecimal(self, /)\n",
      " |      Return True if the string is a decimal string, False otherwise.\n",
      " |\n",
      " |      A string is a decimal string if all characters in the string are decimal and\n",
      " |      there is at least one character in the string.\n",
      " |\n",
      " |  isdigit(self, /)\n",
      " |      Return True if the string is a digit string, False otherwise.\n",
      " |\n",
      " |      A string is a digit string if all characters in the string are digits and there\n",
      " |      is at least one character in the string.\n",
      " |\n",
      " |  isidentifier(self, /)\n",
      " |      Return True if the string is a valid Python identifier, False otherwise.\n",
      " |\n",
      " |      Call keyword.iskeyword(s) to test whether string s is a reserved identifier,\n",
      " |      such as \"def\" or \"class\".\n",
      " |\n",
      " |  islower(self, /)\n",
      " |      Return True if the string is a lowercase string, False otherwise.\n",
      " |\n",
      " |      A string is lowercase if all cased characters in the string are lowercase and\n",
      " |      there is at least one cased character in the string.\n",
      " |\n",
      " |  isnumeric(self, /)\n",
      " |      Return True if the string is a numeric string, False otherwise.\n",
      " |\n",
      " |      A string is numeric if all characters in the string are numeric and there is at\n",
      " |      least one character in the string.\n",
      " |\n",
      " |  isprintable(self, /)\n",
      " |      Return True if the string is printable, False otherwise.\n",
      " |\n",
      " |      A string is printable if all of its characters are considered printable in\n",
      " |      repr() or if it is empty.\n",
      " |\n",
      " |  isspace(self, /)\n",
      " |      Return True if the string is a whitespace string, False otherwise.\n",
      " |\n",
      " |      A string is whitespace if all characters in the string are whitespace and there\n",
      " |      is at least one character in the string.\n",
      " |\n",
      " |  istitle(self, /)\n",
      " |      Return True if the string is a title-cased string, False otherwise.\n",
      " |\n",
      " |      In a title-cased string, upper- and title-case characters may only\n",
      " |      follow uncased characters and lowercase characters only cased ones.\n",
      " |\n",
      " |  isupper(self, /)\n",
      " |      Return True if the string is an uppercase string, False otherwise.\n",
      " |\n",
      " |      A string is uppercase if all cased characters in the string are uppercase and\n",
      " |      there is at least one cased character in the string.\n",
      " |\n",
      " |  join(self, iterable, /)\n",
      " |      Concatenate any number of strings.\n",
      " |\n",
      " |      The string whose method is called is inserted in between each given string.\n",
      " |      The result is returned as a new string.\n",
      " |\n",
      " |      Example: '.'.join(['ab', 'pq', 'rs']) -> 'ab.pq.rs'\n",
      " |\n",
      " |  ljust(self, width, fillchar=' ', /)\n",
      " |      Return a left-justified string of length width.\n",
      " |\n",
      " |      Padding is done using the specified fill character (default is a space).\n",
      " |\n",
      " |  lower(self, /)\n",
      " |      Return a copy of the string converted to lowercase.\n",
      " |\n",
      " |  lstrip(self, chars=None, /)\n",
      " |      Return a copy of the string with leading whitespace removed.\n",
      " |\n",
      " |      If chars is given and not None, remove characters in chars instead.\n",
      " |\n",
      " |  partition(self, sep, /)\n",
      " |      Partition the string into three parts using the given separator.\n",
      " |\n",
      " |      This will search for the separator in the string.  If the separator is found,\n",
      " |      returns a 3-tuple containing the part before the separator, the separator\n",
      " |      itself, and the part after it.\n",
      " |\n",
      " |      If the separator is not found, returns a 3-tuple containing the original string\n",
      " |      and two empty strings.\n",
      " |\n",
      " |  removeprefix(self, prefix, /)\n",
      " |      Return a str with the given prefix string removed if present.\n",
      " |\n",
      " |      If the string starts with the prefix string, return string[len(prefix):].\n",
      " |      Otherwise, return a copy of the original string.\n",
      " |\n",
      " |  removesuffix(self, suffix, /)\n",
      " |      Return a str with the given suffix string removed if present.\n",
      " |\n",
      " |      If the string ends with the suffix string and that suffix is not empty,\n",
      " |      return string[:-len(suffix)]. Otherwise, return a copy of the original\n",
      " |      string.\n",
      " |\n",
      " |  replace(self, old, new, count=-1, /)\n",
      " |      Return a copy with all occurrences of substring old replaced by new.\n",
      " |\n",
      " |        count\n",
      " |          Maximum number of occurrences to replace.\n",
      " |          -1 (the default value) means replace all occurrences.\n",
      " |\n",
      " |      If the optional argument count is given, only the first count occurrences are\n",
      " |      replaced.\n",
      " |\n",
      " |  rfind(...)\n",
      " |      S.rfind(sub[, start[, end]]) -> int\n",
      " |\n",
      " |      Return the highest index in S where substring sub is found,\n",
      " |      such that sub is contained within S[start:end].  Optional\n",
      " |      arguments start and end are interpreted as in slice notation.\n",
      " |\n",
      " |      Return -1 on failure.\n",
      " |\n",
      " |  rindex(...)\n",
      " |      S.rindex(sub[, start[, end]]) -> int\n",
      " |\n",
      " |      Return the highest index in S where substring sub is found,\n",
      " |      such that sub is contained within S[start:end].  Optional\n",
      " |      arguments start and end are interpreted as in slice notation.\n",
      " |\n",
      " |      Raises ValueError when the substring is not found.\n",
      " |\n",
      " |  rjust(self, width, fillchar=' ', /)\n",
      " |      Return a right-justified string of length width.\n",
      " |\n",
      " |      Padding is done using the specified fill character (default is a space).\n",
      " |\n",
      " |  rpartition(self, sep, /)\n",
      " |      Partition the string into three parts using the given separator.\n",
      " |\n",
      " |      This will search for the separator in the string, starting at the end. If\n",
      " |      the separator is found, returns a 3-tuple containing the part before the\n",
      " |      separator, the separator itself, and the part after it.\n",
      " |\n",
      " |      If the separator is not found, returns a 3-tuple containing two empty strings\n",
      " |      and the original string.\n",
      " |\n",
      " |  rsplit(self, /, sep=None, maxsplit=-1)\n",
      " |      Return a list of the substrings in the string, using sep as the separator string.\n",
      " |\n",
      " |        sep\n",
      " |          The separator used to split the string.\n",
      " |\n",
      " |          When set to None (the default value), will split on any whitespace\n",
      " |          character (including \\n \\r \\t \\f and spaces) and will discard\n",
      " |          empty strings from the result.\n",
      " |        maxsplit\n",
      " |          Maximum number of splits.\n",
      " |          -1 (the default value) means no limit.\n",
      " |\n",
      " |      Splitting starts at the end of the string and works to the front.\n",
      " |\n",
      " |  rstrip(self, chars=None, /)\n",
      " |      Return a copy of the string with trailing whitespace removed.\n",
      " |\n",
      " |      If chars is given and not None, remove characters in chars instead.\n",
      " |\n",
      " |  split(self, /, sep=None, maxsplit=-1)\n",
      " |      Return a list of the substrings in the string, using sep as the separator string.\n",
      " |\n",
      " |        sep\n",
      " |          The separator used to split the string.\n",
      " |\n",
      " |          When set to None (the default value), will split on any whitespace\n",
      " |          character (including \\n \\r \\t \\f and spaces) and will discard\n",
      " |          empty strings from the result.\n",
      " |        maxsplit\n",
      " |          Maximum number of splits.\n",
      " |          -1 (the default value) means no limit.\n",
      " |\n",
      " |      Splitting starts at the front of the string and works to the end.\n",
      " |\n",
      " |      Note, str.split() is mainly useful for data that has been intentionally\n",
      " |      delimited.  With natural text that includes punctuation, consider using\n",
      " |      the regular expression module.\n",
      " |\n",
      " |  splitlines(self, /, keepends=False)\n",
      " |      Return a list of the lines in the string, breaking at line boundaries.\n",
      " |\n",
      " |      Line breaks are not included in the resulting list unless keepends is given and\n",
      " |      true.\n",
      " |\n",
      " |  startswith(...)\n",
      " |      S.startswith(prefix[, start[, end]]) -> bool\n",
      " |\n",
      " |      Return True if S starts with the specified prefix, False otherwise.\n",
      " |      With optional start, test S beginning at that position.\n",
      " |      With optional end, stop comparing S at that position.\n",
      " |      prefix can also be a tuple of strings to try.\n",
      " |\n",
      " |  strip(self, chars=None, /)\n",
      " |      Return a copy of the string with leading and trailing whitespace removed.\n",
      " |\n",
      " |      If chars is given and not None, remove characters in chars instead.\n",
      " |\n",
      " |  swapcase(self, /)\n",
      " |      Convert uppercase characters to lowercase and lowercase characters to uppercase.\n",
      " |\n",
      " |  title(self, /)\n",
      " |      Return a version of the string where each word is titlecased.\n",
      " |\n",
      " |      More specifically, words start with uppercased characters and all remaining\n",
      " |      cased characters have lower case.\n",
      " |\n",
      " |  translate(self, table, /)\n",
      " |      Replace each character in the string using the given translation table.\n",
      " |\n",
      " |        table\n",
      " |          Translation table, which must be a mapping of Unicode ordinals to\n",
      " |          Unicode ordinals, strings, or None.\n",
      " |\n",
      " |      The table must implement lookup/indexing via __getitem__, for instance a\n",
      " |      dictionary or list.  If this operation raises LookupError, the character is\n",
      " |      left untouched.  Characters mapped to None are deleted.\n",
      " |\n",
      " |  upper(self, /)\n",
      " |      Return a copy of the string converted to uppercase.\n",
      " |\n",
      " |  zfill(self, width, /)\n",
      " |      Pad a numeric string with zeros on the left, to fill a field of the given width.\n",
      " |\n",
      " |      The string is never truncated.\n",
      " |\n",
      " |  ----------------------------------------------------------------------\n",
      " |  Static methods defined here:\n",
      " |\n",
      " |  __new__(*args, **kwargs)\n",
      " |      Create and return a new object.  See help(type) for accurate signature.\n",
      " |\n",
      " |  maketrans(...)\n",
      " |      Return a translation table usable for str.translate().\n",
      " |\n",
      " |      If there is only one argument, it must be a dictionary mapping Unicode\n",
      " |      ordinals (integers) or characters to Unicode ordinals, strings or None.\n",
      " |      Character keys will be then converted to ordinals.\n",
      " |      If there are two arguments, they must be strings of equal length, and\n",
      " |      in the resulting dictionary, each character in x will be mapped to the\n",
      " |      character at the same position in y. If there is a third argument, it\n",
      " |      must be a string, whose characters will be mapped to None in the result.\n",
      "\n"
     ]
    }
   ],
   "source": [
    "help(str)"
   ]
  },
  {
   "cell_type": "code",
   "execution_count": 7,
   "id": "ad0475ab-08a9-4f1b-b007-ba0e9df078e6",
   "metadata": {},
   "outputs": [
    {
     "name": "stdout",
     "output_type": "stream",
     "text": [
      "[1, 2, 3, 4, 5, 6, 7, 8, 9]\n",
      "(1, 2, 3, 4, 5, 6, 7, 8, 9)\n",
      "{1, 2, 3, 4, 5, 6, 7, 8, 9}\n"
     ]
    }
   ],
   "source": [
    "dataset = list(range(1,10))\n",
    "print(dataset)\n",
    "dataset = tuple(range(1,10))\n",
    "print(dataset)\n",
    "dataset = set(range(1,10))\n",
    "print(dataset)"
   ]
  },
  {
   "cell_type": "code",
   "execution_count": 9,
   "id": "af1ae5df-7787-4c78-9c3e-f665891858b6",
   "metadata": {},
   "outputs": [
    {
     "data": {
      "text/plain": [
       "9"
      ]
     },
     "execution_count": 9,
     "metadata": {},
     "output_type": "execute_result"
    }
   ],
   "source": [
    "len(dataset)"
   ]
  },
  {
   "cell_type": "code",
   "execution_count": 13,
   "id": "cd6f08d3-fe36-4cd0-866b-76ff58ec68f3",
   "metadata": {},
   "outputs": [
    {
     "data": {
      "text/plain": [
       "['Counter',\n",
       " 'Decimal',\n",
       " 'Fraction',\n",
       " 'LinearRegression',\n",
       " 'NormalDist',\n",
       " 'StatisticsError',\n",
       " '_SQRT2',\n",
       " '__all__',\n",
       " '__annotations__',\n",
       " '__builtins__',\n",
       " '__cached__',\n",
       " '__doc__',\n",
       " '__file__',\n",
       " '__loader__',\n",
       " '__name__',\n",
       " '__package__',\n",
       " '__spec__',\n",
       " '_coerce',\n",
       " '_convert',\n",
       " '_decimal_sqrt_of_frac',\n",
       " '_exact_ratio',\n",
       " '_fail_neg',\n",
       " '_float_sqrt_of_frac',\n",
       " '_integer_sqrt_of_frac_rto',\n",
       " '_isfinite',\n",
       " '_mean_stdev',\n",
       " '_normal_dist_inv_cdf',\n",
       " '_rank',\n",
       " '_sqrt_bit_width',\n",
       " '_ss',\n",
       " '_sum',\n",
       " 'bisect_left',\n",
       " 'bisect_right',\n",
       " 'correlation',\n",
       " 'count',\n",
       " 'covariance',\n",
       " 'defaultdict',\n",
       " 'erf',\n",
       " 'exp',\n",
       " 'fabs',\n",
       " 'fmean',\n",
       " 'fsum',\n",
       " 'geometric_mean',\n",
       " 'groupby',\n",
       " 'harmonic_mean',\n",
       " 'hypot',\n",
       " 'itemgetter',\n",
       " 'linear_regression',\n",
       " 'log',\n",
       " 'math',\n",
       " 'mean',\n",
       " 'median',\n",
       " 'median_grouped',\n",
       " 'median_high',\n",
       " 'median_low',\n",
       " 'mode',\n",
       " 'multimode',\n",
       " 'namedtuple',\n",
       " 'numbers',\n",
       " 'pstdev',\n",
       " 'pvariance',\n",
       " 'quantiles',\n",
       " 'random',\n",
       " 'reduce',\n",
       " 'repeat',\n",
       " 'sqrt',\n",
       " 'stdev',\n",
       " 'sumprod',\n",
       " 'sys',\n",
       " 'tau',\n",
       " 'variance']"
      ]
     },
     "execution_count": 13,
     "metadata": {},
     "output_type": "execute_result"
    }
   ],
   "source": [
    "import statistics\n",
    "\n",
    "dir(statistics)"
   ]
  },
  {
   "cell_type": "code",
   "execution_count": 15,
   "id": "458147c8-0c22-47a2-80bf-58d825cb3d3e",
   "metadata": {},
   "outputs": [
    {
     "data": {
      "text/plain": [
       "1"
      ]
     },
     "execution_count": 15,
     "metadata": {},
     "output_type": "execute_result"
    }
   ],
   "source": [
    "statistics.mode(dataset)"
   ]
  },
  {
   "cell_type": "code",
   "execution_count": 21,
   "id": "4adc847e-90c4-488c-bd6b-bf33bbba3119",
   "metadata": {},
   "outputs": [
    {
     "data": {
      "text/plain": [
       "2.7386127875258306"
      ]
     },
     "execution_count": 21,
     "metadata": {},
     "output_type": "execute_result"
    }
   ],
   "source": [
    "statistics.stdev(dataset)"
   ]
  },
  {
   "cell_type": "code",
   "execution_count": 23,
   "id": "d953c88c-7586-459b-865a-a912bb8ecb67",
   "metadata": {},
   "outputs": [
    {
     "data": {
      "text/plain": [
       "[2.5, 5.0, 7.5]"
      ]
     },
     "execution_count": 23,
     "metadata": {},
     "output_type": "execute_result"
    }
   ],
   "source": [
    "statistics.quantiles(dataset)"
   ]
  },
  {
   "cell_type": "code",
   "execution_count": 27,
   "id": "5ea0cb10-3f23-463d-8287-0045b6bd7621",
   "metadata": {},
   "outputs": [
    {
     "name": "stdout",
     "output_type": "stream",
     "text": [
      "평균 =  5\n",
      "중위수 =  5\n",
      "최빈값 =  1\n",
      "표본 분산 =  7.5\n",
      "표본 표준편차 =  2.7386127875258306\n",
      "사분위수 =  [2.5, 5.0, 7.5]\n"
     ]
    }
   ],
   "source": [
    "print('평균 = ', statistics.mean(dataset))\n",
    "print('중위수 = ', statistics.median(dataset))\n",
    "print('최빈값 = ', statistics.mode(dataset))\n",
    "print('표본 분산 = ', statistics.variance(dataset))\n",
    "print('표본 표준편차 = ', statistics.stdev(dataset))\n",
    "print('사분위수 = ', statistics.quantiles(dataset))"
   ]
  },
  {
   "cell_type": "code",
   "execution_count": 29,
   "id": "72e5328f-8b34-4352-9ba8-269fb6807e9a",
   "metadata": {},
   "outputs": [
    {
     "name": "stdout",
     "output_type": "stream",
     "text": [
      "함수로 출력\n"
     ]
    }
   ],
   "source": [
    "# 사용자 지정 함수\n",
    "def pratice_func() :\n",
    "    print('함수로 출력')\n",
    "pratice_func()"
   ]
  },
  {
   "cell_type": "code",
   "execution_count": 31,
   "id": "b5d667a3-7cd9-46d1-ad60-2af84bda5f6a",
   "metadata": {},
   "outputs": [
    {
     "name": "stdout",
     "output_type": "stream",
     "text": [
      "정말 힘들다\n"
     ]
    }
   ],
   "source": [
    "def pratice_func(x, y) :\n",
    "    print(x, y)\n",
    "\n",
    "x = '정말'\n",
    "y = '힘들다'\n",
    "pratice_func(x, y)"
   ]
  },
  {
   "cell_type": "code",
   "execution_count": 35,
   "id": "2b41a1ce-ff2f-40c2-9879-c2639beef025",
   "metadata": {},
   "outputs": [
    {
     "name": "stdout",
     "output_type": "stream",
     "text": [
      "30 -10 200 0.5\n"
     ]
    }
   ],
   "source": [
    "def operation(x, y) :\n",
    "    sum = x + y\n",
    "    min = x - y\n",
    "    mul = x * y\n",
    "    div = x / y\n",
    "    return sum, min, mul, div\n",
    "\n",
    "x = 10 \n",
    "y = 20\n",
    "\n",
    "a, b, c, d = operation(x, y)\n",
    "\n",
    "print(a, b, c, d)"
   ]
  },
  {
   "cell_type": "code",
   "execution_count": null,
   "id": "ae7ca387-9623-4b97-a50f-6b4c79fe68cc",
   "metadata": {},
   "outputs": [],
   "source": [
    "# 텍스트 전처리\n",
    "import re # sub()"
   ]
  },
  {
   "cell_type": "code",
   "execution_count": null,
   "id": "0647f90a-2950-4636-b910-4327dab15761",
   "metadata": {},
   "outputs": [],
   "source": [
    "클래스\n",
    "- 속성(변수) + 메소드(함수)\n",
    "클래스 구성(생성자 + 소멸자)\n",
    "종류 : 인스턴스 클래스, 클라스\n",
    "특징 \n",
    "1. 암호화\n",
    "2. 상속\n",
    "3. 재정의\n",
    "4. 다형성"
   ]
  },
  {
   "cell_type": "code",
   "execution_count": null,
   "id": "9ea1aeb7-d08c-4ad1-9f73-d66eccd18250",
   "metadata": {},
   "outputs": [],
   "source": [
    "함수 vs 클래스 비교"
   ]
  },
  {
   "cell_type": "code",
   "execution_count": 7,
   "id": "dde6fedf-8771-433e-832f-85b2c28a81ab",
   "metadata": {},
   "outputs": [
    {
     "name": "stdout",
     "output_type": "stream",
     "text": [
      "30 -10 200 0.5\n"
     ]
    }
   ],
   "source": [
    "def calc_func(a, b) :\n",
    "    x = a\n",
    "    y = b\n",
    "\n",
    "    def plus() :\n",
    "        p = x + y\n",
    "        return p\n",
    "\n",
    "    def minus() :\n",
    "        m = x - y\n",
    "        return m\n",
    "\n",
    "    def multiplex() :\n",
    "        mp = x * y\n",
    "        return mp\n",
    "\n",
    "    def div() :\n",
    "        d = x / y\n",
    "        return d\n",
    "\n",
    "    return plus, minus, multiplex, div\n",
    "\n",
    "add, sub, mul, div = calc_func(10, 20)\n",
    "print(add(), sub(), mul(), div())"
   ]
  },
  {
   "cell_type": "code",
   "execution_count": 13,
   "id": "1e31959e-ef95-42b9-9af9-572aff2d6011",
   "metadata": {},
   "outputs": [
    {
     "name": "stdout",
     "output_type": "stream",
     "text": [
      "<__main__.calc_class object at 0x00000133B38FBD10>\n",
      "30\n",
      "-10\n"
     ]
    }
   ],
   "source": [
    "class calc_class :\n",
    "    x = y = 0\n",
    "    def __init__(self, a, b) :\n",
    "        self.x = a\n",
    "        self.y = b\n",
    "    def plus(self) :\n",
    "        p = self.x + self.y\n",
    "        return p\n",
    "    def minus(self) :\n",
    "        m = self.x - self.y\n",
    "        return m\n",
    "    def __del__(self) :\n",
    "        del self.x\n",
    "        del self.y\n",
    "\n",
    "objc = calc_class(10, 20)\n",
    "print(objc)\n",
    "print(objc.plus())\n",
    "print(objc.minus())"
   ]
  },
  {
   "cell_type": "code",
   "execution_count": 23,
   "id": "ec39a881-59bc-4994-b30d-8d132284cc42",
   "metadata": {},
   "outputs": [
    {
     "name": "stdout",
     "output_type": "stream",
     "text": [
      "자동차는 2000이고 문짝은 4개 타입은 승용차 이다.\n",
      "자동차는 3000이고 문짝은 5개 타입은 SUV 이다.\n"
     ]
    }
   ],
   "source": [
    "class Car :\n",
    "    cc = 0\n",
    "    door = 0\n",
    "    carType = None\n",
    "\n",
    "    def __init__(self, cc, door, carType) :\n",
    "        self.cc = cc\n",
    "        self.door = door\n",
    "        self.carType = carType\n",
    "\n",
    "    def display(self) :\n",
    "        print(\"자동차는 %d이고 문짝은 %d개 타입은 %s 이다.\" %(self.cc, self.door, self.carType))\n",
    "\n",
    "car1 = Car(2000, 4, \"승용차\")\n",
    "car2 = Car(3000, 5, \"SUV\")\n",
    "car1.display()\n",
    "car2.display()"
   ]
  },
  {
   "cell_type": "code",
   "execution_count": 29,
   "id": "1bf6f92a-6cd2-486b-8de2-7cf80a3468ac",
   "metadata": {},
   "outputs": [
    {
     "name": "stdout",
     "output_type": "stream",
     "text": [
      "<__main__.multiply object at 0x00000133B24D4B00>\n"
     ]
    },
    {
     "data": {
      "text/plain": [
       "299"
      ]
     },
     "execution_count": 29,
     "metadata": {},
     "output_type": "execute_result"
    }
   ],
   "source": [
    "class multiply :\n",
    "    x = y = 0\n",
    "    \n",
    "    def data(self, a, b) :\n",
    "        self.x = a\n",
    "        self.y = b\n",
    "        \n",
    "    def mul(self) :\n",
    "        return self.x * self.y\n",
    "\n",
    "objc = multiply()\n",
    "print(objc)\n",
    "objc.data(13, 23)\n",
    "objc.mul()"
   ]
  },
  {
   "cell_type": "code",
   "execution_count": null,
   "id": "62283744-a024-488d-acdf-c7d6e7ddcb1a",
   "metadata": {},
   "outputs": [],
   "source": [
    "모듈(함수와 클래스로 구성된 .py > 패키지(폴더)\n",
    "import re\n",
    "from re import sub\n",
    "\n",
    "패키지명.모듈.함수\n",
    "패키지명.모듈.클래스\n"
   ]
  },
  {
   "cell_type": "code",
   "execution_count": 1,
   "id": "677f899d-2d58-4257-a918-6423acff0f5b",
   "metadata": {},
   "outputs": [
    {
     "data": {
      "text/plain": [
       "'C:\\\\Users\\\\user\\\\Documents\\\\python'"
      ]
     },
     "execution_count": 1,
     "metadata": {},
     "output_type": "execute_result"
    }
   ],
   "source": [
    "import os\n",
    "os.getcwd()"
   ]
  },
  {
   "cell_type": "code",
   "execution_count": 3,
   "id": "9909a952-f52c-4f92-b94b-29703fd4f80b",
   "metadata": {},
   "outputs": [],
   "source": [
    "os.chdir(\"C:/\")"
   ]
  },
  {
   "cell_type": "code",
   "execution_count": 5,
   "id": "e2575521-60aa-4299-a486-cbfa97df1b71",
   "metadata": {},
   "outputs": [
    {
     "data": {
      "text/plain": [
       "'C:\\\\'"
      ]
     },
     "execution_count": 5,
     "metadata": {},
     "output_type": "execute_result"
    }
   ],
   "source": [
    "os.getcwd()"
   ]
  },
  {
   "cell_type": "code",
   "execution_count": 7,
   "id": "944218b9-8666-4112-a6c8-1965d4e301d1",
   "metadata": {},
   "outputs": [],
   "source": [
    "import sys\n",
    "sys.stdout.flush()"
   ]
  },
  {
   "cell_type": "code",
   "execution_count": 11,
   "id": "a6cb3d9b-e1b2-4856-a785-54730d438682",
   "metadata": {},
   "outputs": [
    {
     "data": {
      "text/plain": [
       "1.95"
      ]
     },
     "execution_count": 11,
     "metadata": {},
     "output_type": "execute_result"
    }
   ],
   "source": [
    "from scattering import Avg, var_sd\n",
    "dataset = [1, 3, 1.5, 2, 1, 3.2]\n",
    "\n",
    "Avg(dataset)"
   ]
  },
  {
   "cell_type": "code",
   "execution_count": 13,
   "id": "4c131e8b-36ab-41fe-9e98-b8bd53222220",
   "metadata": {},
   "outputs": [
    {
     "data": {
      "text/plain": [
       "(0.9350000000000002, 0.9669539802906859)"
      ]
     },
     "execution_count": 13,
     "metadata": {},
     "output_type": "execute_result"
    }
   ],
   "source": [
    "var_sd(dataset)"
   ]
  },
  {
   "cell_type": "code",
   "execution_count": 17,
   "id": "3f4d898a-d233-430f-8ffd-a5bd0138608d",
   "metadata": {},
   "outputs": [
    {
     "name": "stdout",
     "output_type": "stream",
     "text": [
      "i =  0 c =  1\n",
      "i =  1 c =  3\n",
      "i =  2 c =  5\n"
     ]
    }
   ],
   "source": [
    "lst = [1, 3, 5]\n",
    "\n",
    "for i, c in enumerate(lst) :\n",
    "    print('i = ', i, 'c = ', c)"
   ]
  },
  {
   "cell_type": "code",
   "execution_count": 21,
   "id": "0a7fa842-6cb4-4252-9ad2-b8bcb19390dd",
   "metadata": {},
   "outputs": [
    {
     "name": "stdout",
     "output_type": "stream",
     "text": [
      "i =  name j =  홍길동\n",
      "i =  job j =  회사원\n",
      "i =  addr j =  서울시\n"
     ]
    }
   ],
   "source": [
    "dit = {'name' : '홍길동', 'job' : '회사원', 'addr' : '서울시'}\n",
    "\n",
    "for i, j in dit.items() :\n",
    "    print('i = ', i, 'j = ', j)"
   ]
  },
  {
   "cell_type": "code",
   "execution_count": 27,
   "id": "e106d488-0ddd-4c27-a162-73cec1d10b2e",
   "metadata": {},
   "outputs": [
    {
     "name": "stdout",
     "output_type": "stream",
     "text": [
      "i =  0 j =  name\n",
      "i =  1 j =  job\n",
      "i =  2 j =  addr\n"
     ]
    }
   ],
   "source": [
    "for i, j in enumerate(dit) :\n",
    "    print('i = ', i, 'j = ', j)"
   ]
  },
  {
   "cell_type": "code",
   "execution_count": 29,
   "id": "c3ea74e3-d7fe-4899-bf79-c24fafd94d22",
   "metadata": {},
   "outputs": [],
   "source": [
    "import datetime"
   ]
  },
  {
   "cell_type": "code",
   "execution_count": 31,
   "id": "6a102bd7-4d56-4918-8fc5-c9510d8779f7",
   "metadata": {},
   "outputs": [
    {
     "data": {
      "text/plain": [
       "datetime.datetime(2024, 7, 22, 11, 20, 9, 889625)"
      ]
     },
     "execution_count": 31,
     "metadata": {},
     "output_type": "execute_result"
    }
   ],
   "source": [
    "datetime.datetime.now()"
   ]
  },
  {
   "cell_type": "code",
   "execution_count": 33,
   "id": "e73411de-4106-4309-8920-afe4b4bbadc3",
   "metadata": {},
   "outputs": [],
   "source": [
    "from datetime import datetime, timedelta"
   ]
  },
  {
   "cell_type": "code",
   "execution_count": 35,
   "id": "44bff742-1db4-41dc-b2f6-8d8f4824687a",
   "metadata": {},
   "outputs": [
    {
     "name": "stdout",
     "output_type": "stream",
     "text": [
      "dt =  2024-07-22 11:20:53.830024\n"
     ]
    }
   ],
   "source": [
    "dt = datetime.now()\n",
    "print(\"dt = \", dt)"
   ]
  },
  {
   "cell_type": "code",
   "execution_count": 37,
   "id": "45f28380-08b1-4bba-abb4-49dfe6df2f67",
   "metadata": {},
   "outputs": [
    {
     "data": {
      "text/plain": [
       "830024"
      ]
     },
     "execution_count": 37,
     "metadata": {},
     "output_type": "execute_result"
    }
   ],
   "source": [
    "dt.microsecond"
   ]
  },
  {
   "cell_type": "code",
   "execution_count": 39,
   "id": "1ee1268b-6e83-4982-9182-462579cff12e",
   "metadata": {},
   "outputs": [
    {
     "data": {
      "text/plain": [
       "[2024, 7, 22, 11, 20, 53, 830024]"
      ]
     },
     "execution_count": 39,
     "metadata": {},
     "output_type": "execute_result"
    }
   ],
   "source": [
    "[dt.year, dt.month, dt.day, dt.hour, dt.minute, dt.second, dt.microsecond]"
   ]
  },
  {
   "cell_type": "code",
   "execution_count": 41,
   "id": "6b59bfb3-857f-4d29-bbdd-2c6af4dd396e",
   "metadata": {},
   "outputs": [
    {
     "data": {
      "text/plain": [
       "0"
      ]
     },
     "execution_count": 41,
     "metadata": {},
     "output_type": "execute_result"
    }
   ],
   "source": [
    "dt.weekday()"
   ]
  },
  {
   "cell_type": "code",
   "execution_count": 45,
   "id": "3079d148-d68f-4378-b3e7-362e2327419f",
   "metadata": {},
   "outputs": [
    {
     "data": {
      "text/plain": [
       "'2024-07-22 11:20:53, Monday, July'"
      ]
     },
     "execution_count": 45,
     "metadata": {},
     "output_type": "execute_result"
    }
   ],
   "source": [
    "dt.strftime(\"%Y-%m-%d %H:%M:%S, %A, %B\")"
   ]
  },
  {
   "cell_type": "code",
   "execution_count": null,
   "id": "d7edca86-093e-48e7-8fbc-740e84e5c48d",
   "metadata": {},
   "outputs": [],
   "source": [
    "정규 표현식 - 메타 문자 : 일정한 의미(기능)을 가지고 있는 문자\n",
    "            - 이스케이프 문자 : \\n, \\t"
   ]
  },
  {
   "cell_type": "code",
   "execution_count": 49,
   "id": "d82352e7-c271-4ec6-a91e-fab3f4ef9045",
   "metadata": {},
   "outputs": [],
   "source": [
    "import re\n",
    "from re import findall, match, sub # 텍스트 전처리(문장부호/특수문자/영문자(대소문자)/숫자 제거) 문장(공백 제거) split() > 단어 > 병합 (join)"
   ]
  },
  {
   "cell_type": "code",
   "execution_count": 51,
   "id": "53e3d539-166b-479c-af47-ffb156cba6bd",
   "metadata": {},
   "outputs": [],
   "source": [
    "st1 = '1234 abc홍길동 ABC_555_6 이사도시'"
   ]
  },
  {
   "cell_type": "code",
   "execution_count": 53,
   "id": "476d5a35-713c-4ca8-bd15-812e632b88dd",
   "metadata": {},
   "outputs": [
    {
     "data": {
      "text/plain": [
       "['1234']"
      ]
     },
     "execution_count": 53,
     "metadata": {},
     "output_type": "execute_result"
    }
   ],
   "source": [
    "findall('1234', st1)"
   ]
  },
  {
   "cell_type": "code",
   "execution_count": 55,
   "id": "36ef52d3-ffa5-4dfc-a29f-7dfa1786c55e",
   "metadata": {},
   "outputs": [
    {
     "data": {
      "text/plain": [
       "['123', '555']"
      ]
     },
     "execution_count": 55,
     "metadata": {},
     "output_type": "execute_result"
    }
   ],
   "source": [
    "findall('[0-9]{3}', st1)"
   ]
  },
  {
   "cell_type": "code",
   "execution_count": 61,
   "id": "fc5557dd-7fd7-4ba6-b2e7-a4581a688c5b",
   "metadata": {},
   "outputs": [
    {
     "data": {
      "text/plain": [
       "['홍길동', '이사도시']"
      ]
     },
     "execution_count": 61,
     "metadata": {},
     "output_type": "execute_result"
    }
   ],
   "source": [
    "findall('[가-힣]{3,}', st1)"
   ]
  },
  {
   "cell_type": "code",
   "execution_count": 65,
   "id": "7bb81257-0a4b-4de6-8f50-4aee82a8870f",
   "metadata": {},
   "outputs": [
    {
     "data": {
      "text/plain": [
       "['abc']"
      ]
     },
     "execution_count": 65,
     "metadata": {},
     "output_type": "execute_result"
    }
   ],
   "source": [
    "findall('[a-z]{3,}', st1)"
   ]
  },
  {
   "cell_type": "code",
   "execution_count": 67,
   "id": "47cfe9af-cf5c-4805-b375-73757b4e41c2",
   "metadata": {},
   "outputs": [
    {
     "data": {
      "text/plain": [
       "['ABC']"
      ]
     },
     "execution_count": 67,
     "metadata": {},
     "output_type": "execute_result"
    }
   ],
   "source": [
    "findall('[A-Z]{3}', st1)"
   ]
  },
  {
   "cell_type": "code",
   "execution_count": 71,
   "id": "2008f2ac-c0b2-42d2-a1e5-b4a2f83f9a60",
   "metadata": {},
   "outputs": [
    {
     "data": {
      "text/plain": [
       "['a', 'b', 'c', 'A', 'B', 'C']"
      ]
     },
     "execution_count": 71,
     "metadata": {},
     "output_type": "execute_result"
    }
   ],
   "source": [
    "findall('[a-z|A-Z]', st1)"
   ]
  },
  {
   "cell_type": "code",
   "execution_count": 93,
   "id": "a656a918-c33f-4100-ac18-68fbf0b79a66",
   "metadata": {},
   "outputs": [],
   "source": [
    "#st_list = ['1234', 'abc', '홍길동', 'ABC_555_6', '이사도시']"
   ]
  },
  {
   "cell_type": "code",
   "execution_count": 99,
   "id": "0c3ee0bd-09db-4f1c-9797-00dc31da9e29",
   "metadata": {},
   "outputs": [
    {
     "name": "stdout",
     "output_type": "stream",
     "text": [
      "[]\n",
      "[]\n",
      "['홍길동']\n",
      "[]\n",
      "['이사도시']\n",
      "[['홍길동'], ['이사도시']]\n"
     ]
    }
   ],
   "source": [
    "names = []\n",
    "for st in st_list :\n",
    "    name = findall('[가-힣]{3,}', st)\n",
    "    print(name)\n",
    "    if name :\n",
    "        names.append(name)\n",
    "print(names)"
   ]
  },
  {
   "cell_type": "code",
   "execution_count": 103,
   "id": "985b942b-1b4f-4e3a-a0d7-9c5a08de118b",
   "metadata": {},
   "outputs": [
    {
     "name": "stdout",
     "output_type": "stream",
     "text": [
      "['test']\n"
     ]
    }
   ],
   "source": [
    "st2 = 'test1abcABC 123mbc 45test'\n",
    "print(findall('^test', st2))"
   ]
  },
  {
   "cell_type": "code",
   "execution_count": 107,
   "id": "8b4532d2-97e3-426e-803d-932be1603d50",
   "metadata": {},
   "outputs": [
    {
     "name": "stdout",
     "output_type": "stream",
     "text": [
      "['st']\n"
     ]
    }
   ],
   "source": [
    "print(findall('st$', st2))"
   ]
  },
  {
   "cell_type": "code",
   "execution_count": 109,
   "id": "2e7e7cac-7582-461d-83a5-47f941e39750",
   "metadata": {},
   "outputs": [
    {
     "name": "stdout",
     "output_type": "stream",
     "text": [
      "['abc', 'mbc']\n"
     ]
    }
   ],
   "source": [
    "print(findall('.bc', st2))"
   ]
  },
  {
   "cell_type": "code",
   "execution_count": 111,
   "id": "376d70e6-7aa9-4e49-aa54-5294d1aba31c",
   "metadata": {},
   "outputs": [
    {
     "name": "stdout",
     "output_type": "stream",
     "text": [
      "['te', 't1', 'te']\n"
     ]
    }
   ],
   "source": [
    "print(findall('t.', st2))"
   ]
  },
  {
   "cell_type": "code",
   "execution_count": null,
   "id": "7a96f128-ea64-4f39-974a-a5e8807217d7",
   "metadata": {},
   "outputs": [],
   "source": []
  },
  {
   "cell_type": "code",
   "execution_count": null,
   "id": "96652910-1527-452e-9172-6ade89b8d0b7",
   "metadata": {},
   "outputs": [],
   "source": []
  },
  {
   "cell_type": "code",
   "execution_count": 127,
   "id": "234e2aed-7dff-4635-8608-1e45a9e4cc18",
   "metadata": {},
   "outputs": [],
   "source": [
    "from re import match\n",
    "jumin = '123456-2234567'\n",
    "result = match('[0-9]{6}-[1-4][0-9]{6}', jumin)"
   ]
  },
  {
   "cell_type": "code",
   "execution_count": 129,
   "id": "3732d972-4a3c-4703-9284-5a990e8ab8c2",
   "metadata": {},
   "outputs": [
    {
     "name": "stdout",
     "output_type": "stream",
     "text": [
      "<re.Match object; span=(0, 14), match='123456-2234567'>\n"
     ]
    }
   ],
   "source": [
    "print(result)"
   ]
  },
  {
   "cell_type": "code",
   "execution_count": 131,
   "id": "912123b9-e217-408a-8bf4-df754c6fa399",
   "metadata": {},
   "outputs": [
    {
     "name": "stdout",
     "output_type": "stream",
     "text": [
      "주민번호 일치\n"
     ]
    }
   ],
   "source": [
    "if result :\n",
    "    print('주민번호 일치')\n",
    "else :\n",
    "    print('주민번호 불일치')"
   ]
  },
  {
   "cell_type": "code",
   "execution_count": 133,
   "id": "cb7a967f-081c-4d6e-b133-4df7564ae17c",
   "metadata": {},
   "outputs": [],
   "source": [
    "from re import split, match, compile\n",
    "\n",
    "\n",
    "multi_line = \"\"\"http://www.naver.com\n",
    "http://www.daum.net\n",
    "http://hongkildong.com\"\"\""
   ]
  },
  {
   "cell_type": "code",
   "execution_count": 137,
   "id": "ced9c935-9558-4fef-ba63-4fa33a3046e8",
   "metadata": {},
   "outputs": [
    {
     "data": {
      "text/plain": [
       "['http://www.naver.com', 'http://www.daum.net', 'http://hongkildong.com']"
      ]
     },
     "execution_count": 137,
     "metadata": {},
     "output_type": "execute_result"
    }
   ],
   "source": [
    "web_site = split(\"\\n\", multi_line)\n",
    "web_site"
   ]
  },
  {
   "cell_type": "code",
   "execution_count": 139,
   "id": "0984adf6-bab7-49f8-b270-633ee9417238",
   "metadata": {},
   "outputs": [
    {
     "name": "stdout",
     "output_type": "stream",
     "text": [
      "re.compile('http://')\n"
     ]
    }
   ],
   "source": [
    "pat = compile(\"http://\")\n",
    "print(pat)"
   ]
  },
  {
   "cell_type": "code",
   "execution_count": 141,
   "id": "e6101967-a372-4513-9502-a2fd72eb5f63",
   "metadata": {},
   "outputs": [
    {
     "data": {
      "text/plain": [
       "['http://www.naver.com', 'http://www.daum.net', 'http://hongkildong.com']"
      ]
     },
     "execution_count": 141,
     "metadata": {},
     "output_type": "execute_result"
    }
   ],
   "source": [
    "[site for site in web_site if match(pat, site)]"
   ]
  },
  {
   "cell_type": "code",
   "execution_count": null,
   "id": "f8841f47-1068-441e-b642-42983211a77d",
   "metadata": {},
   "outputs": [],
   "source": [
    "from re import findall, sub\n",
    "\n",
    "texts = ['우리나라      대한민국, 우리나라%S 만세', '비마닝%라 600GAM 성력 최고!', ' "
   ]
  },
  {
   "cell_type": "code",
   "execution_count": null,
   "id": "fb2bc4cc-7211-4a60-a425-017e8bcdab9b",
   "metadata": {},
   "outputs": [],
   "source": [
    "texts_re7 = [' '.join(text)"
   ]
  },
  {
   "cell_type": "code",
   "execution_count": 147,
   "id": "85ef6b38-831c-4920-b65b-a4c27413617f",
   "metadata": {},
   "outputs": [
    {
     "name": "stdout",
     "output_type": "stream",
     "text": [
      "y =  100\n",
      "끝\n",
      "y =  900\n",
      "끝\n",
      "y =  635.04\n",
      "끝\n",
      "숫자가 아니다\n",
      "끝\n",
      "y =  196\n",
      "끝\n",
      "y =  2601\n",
      "끝\n",
      "프로그램 종료\n"
     ]
    }
   ],
   "source": [
    "# 파일 처리\n",
    "# 에러 처리\n",
    "# try :\n",
    "#     실행문1\n",
    "# except :\n",
    "#     실행문2\n",
    "# finally :\n",
    "#     실행문3\n",
    "\n",
    "x = [10, 30, 25.2, 'num', 14, 51]\n",
    "for i in x :\n",
    "    try :\n",
    "        y = i ** 2\n",
    "        print('y = ', y)\n",
    "    except :\n",
    "        print('숫자가 아니다')\n",
    "    finally :\n",
    "        print('끝')\n",
    "\n",
    "print('프로그램 종료')"
   ]
  },
  {
   "cell_type": "code",
   "execution_count": 161,
   "id": "897e5f26-f117-4370-a215-5e0f982bdb1e",
   "metadata": {},
   "outputs": [],
   "source": [
    "# 파일 읽고 쓰기\n",
    "# open(\"파일 경로/파일 이름\", mode = 'r'/'w'/'a', encodig = 'utf-8')"
   ]
  },
  {
   "cell_type": "code",
   "execution_count": 163,
   "id": "a7262967-e716-4b11-a01c-cea66f847475",
   "metadata": {},
   "outputs": [
    {
     "data": {
      "text/plain": [
       "'C:\\\\'"
      ]
     },
     "execution_count": 163,
     "metadata": {},
     "output_type": "execute_result"
    }
   ],
   "source": [
    "import os\n",
    "\n",
    "os.getcwd()"
   ]
  },
  {
   "cell_type": "code",
   "execution_count": null,
   "id": "847e4c8f-3479-4e50-8d6f-c27e309fa11a",
   "metadata": {},
   "outputs": [],
   "source": []
  }
 ],
 "metadata": {
  "kernelspec": {
   "display_name": "Python 3 (ipykernel)",
   "language": "python",
   "name": "python3"
  },
  "language_info": {
   "codemirror_mode": {
    "name": "ipython",
    "version": 3
   },
   "file_extension": ".py",
   "mimetype": "text/x-python",
   "name": "python",
   "nbconvert_exporter": "python",
   "pygments_lexer": "ipython3",
   "version": "3.12.4"
  }
 },
 "nbformat": 4,
 "nbformat_minor": 5
}
