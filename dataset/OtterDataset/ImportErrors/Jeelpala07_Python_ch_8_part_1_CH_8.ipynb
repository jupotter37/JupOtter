{
 "cells": [
  {
   "cell_type": "markdown",
   "metadata": {},
   "source": [
    "# Ch_8   OOP and Exception Handling"
   ]
  },
  {
   "cell_type": "code",
   "execution_count": 3,
   "metadata": {},
   "outputs": [
    {
     "name": "stdout",
     "output_type": "stream",
     "text": [
      "Jeel  Object Destroyed\n",
      "Hello ! I am Jeel\n",
      "20\n",
      "Homo sepians\n",
      "Hii  Object Destroyed\n",
      "Jeel\n"
     ]
    }
   ],
   "source": [
    "class Human:\n",
    "    species='Homo sepians'\n",
    "    def __init__(l,name,age,gen):\n",
    "        l.name=name\n",
    "        l.age=age\n",
    "        l.gen=gen\n",
    "    def speak(l):\n",
    "        return f\"Hello ! I am {l.name}\"\n",
    "    def __del__(self):\n",
    "        print(self.name +'  Object Destroyed')\n",
    "        \n",
    "h1=Human('Jeel',20,'Female')\n",
    "h2=Human('Hii',29,'Male')\n",
    "print(h1.speak())\n",
    "print(h1.age)\n",
    "print(h2.species)\n",
    "del h2\n",
    "print(h1.name)"
   ]
  },
  {
   "cell_type": "code",
   "execution_count": 13,
   "metadata": {},
   "outputs": [],
   "source": [
    "## Instance[name ,age ,gen ] vs class variables[species]: "
   ]
  },
  {
   "cell_type": "markdown",
   "metadata": {},
   "source": [
    "## Encapsulation "
   ]
  },
  {
   "cell_type": "code",
   "execution_count": 5,
   "metadata": {},
   "outputs": [],
   "source": [
    "# getters and setters"
   ]
  },
  {
   "cell_type": "code",
   "execution_count": 8,
   "metadata": {},
   "outputs": [
    {
     "data": {
      "text/plain": [
       "'Name of the Book : SECRETE SEVEN'"
      ]
     },
     "execution_count": 8,
     "metadata": {},
     "output_type": "execute_result"
    }
   ],
   "source": [
    "class Lib:\n",
    "    def __init__(self,id,name):\n",
    "        self.bookid=id\n",
    "        self.name=name\n",
    "    def setBookname(self,new_name):\n",
    "        self.name=new_name\n",
    "    def getBookname(self):\n",
    "        return f\"Name of the Book : {self.name}\"\n",
    "b1=Lib(101,'HATE')\n",
    "b1.getBookname()\n",
    "b1.setBookname(\"SECRETE SEVEN\")\n",
    "b1.getBookname()"
   ]
  },
  {
   "cell_type": "markdown",
   "metadata": {},
   "source": [
    "## Iterators and Genrators"
   ]
  },
  {
   "cell_type": "code",
   "execution_count": 9,
   "metadata": {},
   "outputs": [
    {
     "name": "stdout",
     "output_type": "stream",
     "text": [
      "10\n",
      "20\n",
      "30\n"
     ]
    }
   ],
   "source": [
    "def gen_func():\n",
    "    yield 10\n",
    "    yield 20\n",
    "    yield 30\n",
    "for i in gen_func():\n",
    "    print(i)"
   ]
  },
  {
   "cell_type": "code",
   "execution_count": 2,
   "metadata": {},
   "outputs": [
    {
     "name": "stdout",
     "output_type": "stream",
     "text": [
      "Enter SuBPS\n",
      "Enter marks of sub :PS20\n",
      "Enter SuBDE\n",
      "Enter marks of sub :DE12\n",
      "Jeel\n",
      "20\n",
      "{'PS': 20, 'DE': 12}\n",
      "Jeel\n",
      "20\n",
      "{'PS': 25, 'DE': 12}\n"
     ]
    }
   ],
   "source": [
    "# Accepts :name ,roll,2 sub-marks\n",
    "# Display\n",
    "# search using roll\n",
    "# dele using roll\n",
    "# update roll\n",
    "\n",
    "class Stu:\n",
    "    def __init__(self,name,roll):\n",
    "        self.name=name\n",
    "        self.roll=roll\n",
    "        self.marks={}\n",
    "        for i in range(2):\n",
    "            sub=input(\"Enter SuB\")\n",
    "            a=int(input(f\"Enter marks of sub :{sub}\"))\n",
    "            self.marks[sub]=a\n",
    "    def display(self):\n",
    "        print(self.name)\n",
    "        print(self.roll)\n",
    "        print(self.marks)\n",
    "    def update_marks(self,sub,mark_new):\n",
    "        self.marks[sub]=mark_new\n",
    "s1=Stu('Jeel',20)\n",
    "s1.display()\n",
    "s1.update_marks('PS',25)\n",
    "s1.display()\n",
    "\n",
    "\n",
    "                \n",
    "        \n",
    "        "
   ]
  },
  {
   "cell_type": "code",
   "execution_count": 12,
   "metadata": {},
   "outputs": [
    {
     "name": "stdout",
     "output_type": "stream",
     "text": [
      "Orignal name :  Name : A\n"
     ]
    },
    {
     "data": {
      "text/plain": [
       "'Name : B'"
      ]
     },
     "execution_count": 12,
     "metadata": {},
     "output_type": "execute_result"
    }
   ],
   "source": [
    "# WAP to create a class name student with 2 attribute Stu_name and marks \n",
    "# 577 - Write a Python class named Student with two attributes student_name, marks. Modify the attribute values of the said class \n",
    "# and print the original and modified values of the said attributes.\n",
    "\n",
    "class Student:\n",
    "    def __init__(self,name,marks):\n",
    "        self.name=name\n",
    "        self.marks=marks\n",
    "    def update(self,new_name):\n",
    "        self.name=new_name\n",
    "    def get_name(self):\n",
    "        return f\"Name : {self.name}\"\n",
    "s1=Student('A','100')\n",
    "s=s1.get_name()\n",
    "print(\"Orignal name : \",s)\n",
    "s1.update('B')\n",
    "s1.get_name()\n"
   ]
  },
  {
   "cell_type": "code",
   "execution_count": 31,
   "metadata": {},
   "outputs": [
    {
     "name": "stderr",
     "output_type": "stream",
     "text": [
      "IOPub data rate exceeded.\n",
      "The notebook server will temporarily stop sending output\n",
      "to the client in order to avoid crashing it.\n",
      "To change this limit, set the config variable\n",
      "`--NotebookApp.iopub_data_rate_limit`.\n",
      "\n",
      "Current values:\n",
      "NotebookApp.iopub_data_rate_limit=1000000.0 (bytes/sec)\n",
      "NotebookApp.rate_limit_window=3.0 (secs)\n",
      "\n"
     ]
    }
   ],
   "source": [
    "import numpy \n",
    "help(numpy)"
   ]
  },
  {
   "cell_type": "code",
   "execution_count": 10,
   "metadata": {},
   "outputs": [
    {
     "name": "stdout",
     "output_type": "stream",
     "text": [
      "Select 1 for small , 2 for medium , 3 for large\n",
      " : 1\n",
      "['corns', 'tomato', 'onion', 'capsicum', 'mushroom', 'olive', 'broccoli']\n"
     ]
    },
    {
     "ename": "UnboundLocalError",
     "evalue": "local variable 'priceT' referenced before assignment",
     "output_type": "error",
     "traceback": [
      "\u001b[1;31m---------------------------------------------------------------------------\u001b[0m",
      "\u001b[1;31mUnboundLocalError\u001b[0m                         Traceback (most recent call last)",
      "\u001b[1;32m<ipython-input-10-0ca3d8420d39>\u001b[0m in \u001b[0;36m<module>\u001b[1;34m\u001b[0m\n\u001b[0;32m     46\u001b[0m                     \u001b[0mpriceT\u001b[0m\u001b[1;33m+=\u001b[0m\u001b[1;36m20\u001b[0m\u001b[1;33m\u001b[0m\u001b[1;33m\u001b[0m\u001b[0m\n\u001b[0;32m     47\u001b[0m \u001b[1;33m\u001b[0m\u001b[0m\n\u001b[1;32m---> 48\u001b[1;33m \u001b[0mp1\u001b[0m\u001b[1;33m=\u001b[0m\u001b[0mPizza\u001b[0m\u001b[1;33m(\u001b[0m\u001b[1;33m)\u001b[0m\u001b[1;33m\u001b[0m\u001b[1;33m\u001b[0m\u001b[0m\n\u001b[0m\u001b[0;32m     49\u001b[0m \u001b[0mprint\u001b[0m\u001b[1;33m(\u001b[0m\u001b[0mself\u001b[0m\u001b[1;33m.\u001b[0m\u001b[0mpriceT\u001b[0m\u001b[1;33m)\u001b[0m\u001b[1;33m\u001b[0m\u001b[1;33m\u001b[0m\u001b[0m\n\u001b[0;32m     50\u001b[0m \u001b[1;33m\u001b[0m\u001b[0m\n",
      "\u001b[1;32m<ipython-input-10-0ca3d8420d39>\u001b[0m in \u001b[0;36m__init__\u001b[1;34m(self)\u001b[0m\n\u001b[0;32m     29\u001b[0m         \u001b[0mprint\u001b[0m\u001b[1;33m(\u001b[0m\u001b[0mtoppings\u001b[0m\u001b[1;33m)\u001b[0m\u001b[1;33m\u001b[0m\u001b[1;33m\u001b[0m\u001b[0m\n\u001b[0;32m     30\u001b[0m         \u001b[1;32mif\u001b[0m \u001b[0msizze\u001b[0m\u001b[1;33m==\u001b[0m\u001b[1;36m1\u001b[0m\u001b[1;33m:\u001b[0m\u001b[1;33m\u001b[0m\u001b[1;33m\u001b[0m\u001b[0m\n\u001b[1;32m---> 31\u001b[1;33m             \u001b[0mpriceT\u001b[0m\u001b[1;33m+=\u001b[0m\u001b[1;36m50\u001b[0m\u001b[1;33m\u001b[0m\u001b[1;33m\u001b[0m\u001b[0m\n\u001b[0m\u001b[0;32m     32\u001b[0m         \u001b[1;32melif\u001b[0m \u001b[0msizze\u001b[0m\u001b[1;33m==\u001b[0m\u001b[1;36m2\u001b[0m\u001b[1;33m:\u001b[0m\u001b[1;33m\u001b[0m\u001b[1;33m\u001b[0m\u001b[0m\n\u001b[0;32m     33\u001b[0m             \u001b[0mpriceT\u001b[0m\u001b[1;33m+=\u001b[0m\u001b[1;36m100\u001b[0m\u001b[1;33m\u001b[0m\u001b[1;33m\u001b[0m\u001b[0m\n",
      "\u001b[1;31mUnboundLocalError\u001b[0m: local variable 'priceT' referenced before assignment"
     ]
    }
   ],
   "source": [
    "# You own a pizzeria named Olly’s Pizzas and want to create a Python program to handle the customers and revenue. Create \n",
    "# the following classes with the following methods:\n",
    "# Class Pizza containing\n",
    "# 1.\tinit method: to initialize the size (small, medium, large), toppings (corn, tomato, onion, capsicum, mushroom, olives, \n",
    "# broccoli), cheese (mozzarella, feta, cheddar). Note: One pizza can have only one size but many toppings and cheese. (1.5 \n",
    "# marks)\n",
    "# Throw custom exceptions if the selects toppings or cheese not available in lists given above. (1 mark)\n",
    "# 2.\tprice method: to calculate the prize of the pizza in the following way:\n",
    "# small = 50, medium = 100, large = 200\n",
    "# Each topping costs 20 rupees extra, except broccoli, olives and mushroom, which are exotic and so cost 50 rupees each.\n",
    "# Each type of cheese costs an extra 50 rupees. (1.5 marks)\n",
    "#  Class Order containing\n",
    "# 1.\tinit method: to initialize the name, customerid of the customer who placed the order (0.5 marks)\n",
    "# 2.\torder method: to allow the customer to select pizzas with choice of toppings and cheese (1 mark)\n",
    "# 3.\tbill method: to generate details about each pizza ordered by the customer and the total cost of the order. (2 marks)\n",
    "# *Note: A customer can get multiple pizzas in one order.\n",
    "\n",
    "\n",
    "class Pizza:\n",
    "    \n",
    "    def __init__(self):\n",
    "        countT=0\n",
    "        self.priceT=0\n",
    "        size=['small','medium','large']\n",
    "        toppings=['corns','tomato','onion','capsicum','mushroom','olive','broccoli']\n",
    "        cheese=['mozzarella','feta','cheddar']\n",
    "        print(f\"Select 1 for {size[0]} , 2 for {size[1]} , 3 for {size[2]}\")\n",
    "        sizze=int(input(\" : \"))\n",
    "        print(toppings)\n",
    "        if sizze==1:\n",
    "            priceT+=50\n",
    "        elif sizze==2:\n",
    "            priceT+=100\n",
    "        else:\n",
    "            priceT+=200\n",
    "        i=\"\"\n",
    "        while i!=\"Exit\":\n",
    "            i=input(\"Enter Topiings Names or 'Exit' to be back:\")\n",
    "            if i==\"Exit\":\n",
    "                break\n",
    "            else:\n",
    "                countT+=1\n",
    "                if i==\"broccoli\" or i==\"mushroom\" or i==\"olive\":\n",
    "                    priceT+=50\n",
    "                else:\n",
    "                    priceT+=20\n",
    "            \n",
    "p1=Pizza()\n",
    "print(self.priceT)\n",
    "        \n",
    "        "
   ]
  },
  {
   "cell_type": "code",
   "execution_count": null,
   "metadata": {},
   "outputs": [],
   "source": [
    "class Pizza:\n",
    "    def __init__(self):\n",
    "        self.price=0\n",
    "        self.pricetopping=0\n",
    "        self.pricechesse=0\n",
    "        self.pricebase=0\n",
    "        self.size=input(\"Enter size: small medium large : \")\n",
    "        \n",
    "        if self.size=='small':\n",
    "            self.pricebase+=50\n",
    "            self.price+=50\n",
    "        elif self.size=='medium':\n",
    "            self.pricebase+=100\n",
    "            self.price+=100\n",
    "        else:\n",
    "            self.pricebase+=200\n",
    "            self.price+=200\n",
    "        toppings=['corns','tomato','onion','capsicum','mushroom','olive','broccoli']\n",
    "        print(toppings)\n",
    "        self.toppings=[]\n",
    "        while True:\n",
    "            t=input(\"Select a toppings\")\n",
    "            if t==\"broccoli\" or t==\"mushroom\" or t==\"olive\":\n",
    "                self.price+=50\n",
    "                self.pricetopping+=50\n",
    "            elif t=='tomato' or t=='onion' or t=='capsicum' or t=='corns':\n",
    "                self.price+=20\n",
    "                self.pricetopping+=20\n",
    "            if t=='done':\n",
    "                break\n",
    "            self.toppings.append(t)\n",
    "        self.cheese=[]\n",
    "        print(\"Price of top :\",self.pricetopping)\n",
    "        while True:\n",
    "            print(\"Select Cheese : ['mozzarella','feta','cheddar'] \")\n",
    "            c=input(\"Enter cheese\")\n",
    "            if c=='done':\n",
    "                break\n",
    "            else:\n",
    "                self.pricechesse+=50\n",
    "                self.price+=50\n",
    "                self.cheese.append(c)\n",
    "        \n",
    "    def priceMe(self,cheese,toppings,size):\n",
    "        self.price=0\n",
    "        self.pricetopping=0\n",
    "        self.pricechesse=0\n",
    "        self.pricebase=0\n",
    "        for i in cheese:\n",
    "            print(cheese)\n",
    "        for t in toppings:\n",
    "            if t==\"broccoli\" or t==\"mushroom\" or t==\"olive\":\n",
    "                self.price+=50\n",
    "                self.pricetopping+=50\n",
    "            elif t=='tomato' or t=='onion' or t=='capsicum' or t=='corns':\n",
    "                self.price+=20\n",
    "                self.pricetopping+=20\n",
    "            if t=='done':\n",
    "                break\n",
    "        if self.size=='small':\n",
    "            self.pricebase+=50\n",
    "            self.price+=50\n",
    "        elif self.size=='medium':\n",
    "            self.pricebase+=100\n",
    "            self.price+=100\n",
    "        else:\n",
    "            self.pricebase+=200\n",
    "            self.price+=200\n",
    "        return self.price\n",
    "      \n",
    "       \n",
    "            \n",
    "p1=Pizza()\n",
    "print(p1.cheese)\n",
    "print(p1.toppings)\n",
    "print(p1.size)\n",
    "print(p1.priceMe(p1.cheese,p1.toppings,p1.size))\n"
   ]
  },
  {
   "cell_type": "markdown",
   "metadata": {},
   "source": [
    "# Exception/Errors "
   ]
  },
  {
   "cell_type": "code",
   "execution_count": null,
   "metadata": {},
   "outputs": [],
   "source": [
    "# 1] ArithmaticError \n",
    "#     (i).OverflowError:2**10000\n",
    "#     (ii).ZerodivisonError:10/0\n",
    "#     (iii).FloatingpointError\n",
    "print(2**100000000) # It snot giving any op\n"
   ]
  },
  {
   "cell_type": "code",
   "execution_count": 1,
   "metadata": {},
   "outputs": [
    {
     "ename": "ZeroDivisionError",
     "evalue": "division by zero",
     "output_type": "error",
     "traceback": [
      "\u001b[1;31m---------------------------------------------------------------------------\u001b[0m",
      "\u001b[1;31mZeroDivisionError\u001b[0m                         Traceback (most recent call last)",
      "\u001b[1;32m<ipython-input-1-fe01563e1bc6>\u001b[0m in \u001b[0;36m<module>\u001b[1;34m\u001b[0m\n\u001b[1;32m----> 1\u001b[1;33m \u001b[0mprint\u001b[0m\u001b[1;33m(\u001b[0m\u001b[1;36m10\u001b[0m\u001b[1;33m/\u001b[0m\u001b[1;36m0\u001b[0m\u001b[1;33m)\u001b[0m\u001b[1;33m\u001b[0m\u001b[1;33m\u001b[0m\u001b[0m\n\u001b[0m",
      "\u001b[1;31mZeroDivisionError\u001b[0m: division by zero"
     ]
    }
   ],
   "source": [
    "print(10/0) #division by zero"
   ]
  },
  {
   "cell_type": "code",
   "execution_count": 2,
   "metadata": {},
   "outputs": [
    {
     "ename": "AttributeError",
     "evalue": "'list' object has no attribute 'move'",
     "output_type": "error",
     "traceback": [
      "\u001b[1;31m---------------------------------------------------------------------------\u001b[0m",
      "\u001b[1;31mAttributeError\u001b[0m                            Traceback (most recent call last)",
      "\u001b[1;32m<ipython-input-2-998280afa5d9>\u001b[0m in \u001b[0;36m<module>\u001b[1;34m\u001b[0m\n\u001b[0;32m      1\u001b[0m \u001b[1;31m# 2] Attribute Error\u001b[0m\u001b[1;33m\u001b[0m\u001b[1;33m\u001b[0m\u001b[1;33m\u001b[0m\u001b[0m\n\u001b[0;32m      2\u001b[0m \u001b[0ml\u001b[0m\u001b[1;33m=\u001b[0m\u001b[1;33m[\u001b[0m\u001b[1;36m1\u001b[0m\u001b[1;33m,\u001b[0m\u001b[1;36m2\u001b[0m\u001b[1;33m,\u001b[0m\u001b[1;36m3\u001b[0m\u001b[1;33m]\u001b[0m\u001b[1;33m\u001b[0m\u001b[1;33m\u001b[0m\u001b[0m\n\u001b[1;32m----> 3\u001b[1;33m \u001b[0ml\u001b[0m\u001b[1;33m.\u001b[0m\u001b[0mmove\u001b[0m\u001b[1;33m(\u001b[0m\u001b[1;36m20\u001b[0m\u001b[1;33m)\u001b[0m\u001b[1;31m# Function present na hoi e\u001b[0m\u001b[1;33m\u001b[0m\u001b[1;33m\u001b[0m\u001b[0m\n\u001b[0m",
      "\u001b[1;31mAttributeError\u001b[0m: 'list' object has no attribute 'move'"
     ]
    }
   ],
   "source": [
    "# 2] Attribute Error\n",
    "l=[1,2,3]\n",
    "l.move(20)# Function present na hoi e\n",
    "# AttributeError: 'list' object has no attribute 'move'"
   ]
  },
  {
   "cell_type": "code",
   "execution_count": null,
   "metadata": {},
   "outputs": [],
   "source": [
    "# 3].EOFError\n",
    "x=input()\n",
    "# a=input()\n",
    "# Traceback (most recent call last):\n",
    "#   File \"<pyshell#2>\", line 1, in <module>\n",
    "#     a=input()\n",
    "# EOFError: EOF when reading a line"
   ]
  },
  {
   "cell_type": "code",
   "execution_count": 3,
   "metadata": {},
   "outputs": [
    {
     "ename": "ModuleNotFoundError",
     "evalue": "No module named 'xyz'",
     "output_type": "error",
     "traceback": [
      "\u001b[1;31m---------------------------------------------------------------------------\u001b[0m",
      "\u001b[1;31mModuleNotFoundError\u001b[0m                       Traceback (most recent call last)",
      "\u001b[1;32m<ipython-input-3-12dd9dfdfcf1>\u001b[0m in \u001b[0;36m<module>\u001b[1;34m\u001b[0m\n\u001b[0;32m      3\u001b[0m \u001b[1;31m#     2.AttributeNotFound\u001b[0m\u001b[1;33m\u001b[0m\u001b[1;33m\u001b[0m\u001b[1;33m\u001b[0m\u001b[0m\n\u001b[0;32m      4\u001b[0m \u001b[1;33m\u001b[0m\u001b[0m\n\u001b[1;32m----> 5\u001b[1;33m \u001b[1;32mimport\u001b[0m \u001b[0mxyz\u001b[0m \u001b[1;32mas\u001b[0m \u001b[0ma\u001b[0m\u001b[1;33m\u001b[0m\u001b[1;33m\u001b[0m\u001b[0m\n\u001b[0m\u001b[0;32m      6\u001b[0m \u001b[0mprint\u001b[0m\u001b[1;33m(\u001b[0m\u001b[0ma\u001b[0m\u001b[1;33m.\u001b[0m\u001b[0mname\u001b[0m\u001b[1;33m)\u001b[0m\u001b[1;31m# ModuleNotFoundError: No module named 'xyz'\u001b[0m\u001b[1;33m\u001b[0m\u001b[1;33m\u001b[0m\u001b[0m\n\u001b[0;32m      7\u001b[0m \u001b[1;32mfrom\u001b[0m \u001b[0mxyz\u001b[0m \u001b[1;32mimport\u001b[0m \u001b[0madd\u001b[0m\u001b[1;33m\u001b[0m\u001b[1;33m\u001b[0m\u001b[0m\n",
      "\u001b[1;31mModuleNotFoundError\u001b[0m: No module named 'xyz'"
     ]
    }
   ],
   "source": [
    "# 4] ImportError\n",
    "#     1.ModuleNotFoundError\n",
    "#     2.AttributeNotFound\n",
    "\n",
    "import xyz as a\n",
    "print(a.name)# ModuleNotFoundError: No module named 'xyz'\n",
    "from xyz import add           "
   ]
  },
  {
   "cell_type": "code",
   "execution_count": null,
   "metadata": {},
   "outputs": [],
   "source": [
    "5] IndentationError"
   ]
  },
  {
   "cell_type": "code",
   "execution_count": 4,
   "metadata": {},
   "outputs": [
    {
     "ename": "IndexError",
     "evalue": "list index out of range",
     "output_type": "error",
     "traceback": [
      "\u001b[1;31m---------------------------------------------------------------------------\u001b[0m",
      "\u001b[1;31mIndexError\u001b[0m                                Traceback (most recent call last)",
      "\u001b[1;32m<ipython-input-4-8bc80177a660>\u001b[0m in \u001b[0;36m<module>\u001b[1;34m\u001b[0m\n\u001b[0;32m      1\u001b[0m \u001b[1;31m# 6] IndexError\u001b[0m\u001b[1;33m\u001b[0m\u001b[1;33m\u001b[0m\u001b[1;33m\u001b[0m\u001b[0m\n\u001b[0;32m      2\u001b[0m \u001b[0ml\u001b[0m\u001b[1;33m=\u001b[0m\u001b[1;33m[\u001b[0m\u001b[1;36m1\u001b[0m\u001b[1;33m,\u001b[0m\u001b[1;36m2\u001b[0m\u001b[1;33m,\u001b[0m\u001b[1;36m3\u001b[0m\u001b[1;33m,\u001b[0m\u001b[1;36m4\u001b[0m\u001b[1;33m]\u001b[0m\u001b[1;33m\u001b[0m\u001b[1;33m\u001b[0m\u001b[0m\n\u001b[1;32m----> 3\u001b[1;33m \u001b[0mprint\u001b[0m\u001b[1;33m(\u001b[0m\u001b[0ml\u001b[0m\u001b[1;33m[\u001b[0m\u001b[1;36m10\u001b[0m\u001b[1;33m]\u001b[0m\u001b[1;33m)\u001b[0m\u001b[1;33m\u001b[0m\u001b[1;33m\u001b[0m\u001b[0m\n\u001b[0m",
      "\u001b[1;31mIndexError\u001b[0m: list index out of range"
     ]
    }
   ],
   "source": [
    "# 6] IndexError\n",
    "l=[1,2,3,4]\n",
    "print(l[10])#IndexError: list index out of range"
   ]
  },
  {
   "cell_type": "code",
   "execution_count": 6,
   "metadata": {},
   "outputs": [
    {
     "ename": "KeyError",
     "evalue": "'a'",
     "output_type": "error",
     "traceback": [
      "\u001b[1;31m---------------------------------------------------------------------------\u001b[0m",
      "\u001b[1;31mKeyError\u001b[0m                                  Traceback (most recent call last)",
      "\u001b[1;32m<ipython-input-6-0afa6612d44e>\u001b[0m in \u001b[0;36m<module>\u001b[1;34m\u001b[0m\n\u001b[0;32m      1\u001b[0m \u001b[1;31m# 7] KeyError\u001b[0m\u001b[1;33m\u001b[0m\u001b[1;33m\u001b[0m\u001b[1;33m\u001b[0m\u001b[0m\n\u001b[0;32m      2\u001b[0m \u001b[0mD\u001b[0m\u001b[1;33m=\u001b[0m\u001b[1;33m{\u001b[0m\u001b[1;33m}\u001b[0m\u001b[1;33m\u001b[0m\u001b[1;33m\u001b[0m\u001b[0m\n\u001b[1;32m----> 3\u001b[1;33m \u001b[0mD\u001b[0m\u001b[1;33m[\u001b[0m\u001b[1;34m'a'\u001b[0m\u001b[1;33m]\u001b[0m\u001b[1;33m\u001b[0m\u001b[1;33m\u001b[0m\u001b[0m\n\u001b[0m",
      "\u001b[1;31mKeyError\u001b[0m: 'a'"
     ]
    }
   ],
   "source": [
    "# 7] KeyError\n",
    "D={}\n",
    "D['a'] #KeyError: 'a'"
   ]
  },
  {
   "cell_type": "code",
   "execution_count": 7,
   "metadata": {},
   "outputs": [
    {
     "ename": "NameError",
     "evalue": "name 'xyz' is not defined",
     "output_type": "error",
     "traceback": [
      "\u001b[1;31m---------------------------------------------------------------------------\u001b[0m",
      "\u001b[1;31mNameError\u001b[0m                                 Traceback (most recent call last)",
      "\u001b[1;32m<ipython-input-7-4aa6d18a750b>\u001b[0m in \u001b[0;36m<module>\u001b[1;34m\u001b[0m\n\u001b[0;32m      1\u001b[0m \u001b[1;31m# 8]Name Error :\u001b[0m\u001b[1;33m\u001b[0m\u001b[1;33m\u001b[0m\u001b[1;33m\u001b[0m\u001b[0m\n\u001b[1;32m----> 2\u001b[1;33m \u001b[0mprint\u001b[0m\u001b[1;33m(\u001b[0m\u001b[0mxyz\u001b[0m\u001b[1;33m)\u001b[0m\u001b[1;33m\u001b[0m\u001b[1;33m\u001b[0m\u001b[0m\n\u001b[0m",
      "\u001b[1;31mNameError\u001b[0m: name 'xyz' is not defined"
     ]
    }
   ],
   "source": [
    "# 8]Name Error :\n",
    "print(xyz) #NameError: name 'xyz' is not defined"
   ]
  },
  {
   "cell_type": "code",
   "execution_count": 9,
   "metadata": {},
   "outputs": [
    {
     "ename": "SyntaxError",
     "evalue": "unexpected EOF while parsing (<ipython-input-9-ade2d115848d>, line 2)",
     "output_type": "error",
     "traceback": [
      "\u001b[1;36m  File \u001b[1;32m\"<ipython-input-9-ade2d115848d>\"\u001b[1;36m, line \u001b[1;32m2\u001b[0m\n\u001b[1;33m    print(\u001b[0m\n\u001b[1;37m          ^\u001b[0m\n\u001b[1;31mSyntaxError\u001b[0m\u001b[1;31m:\u001b[0m unexpected EOF while parsing\n"
     ]
    }
   ],
   "source": [
    "# 9] Syntax Error\n",
    "print( #SyntaxError: unexpected EOF while parsing\n"
   ]
  },
  {
   "cell_type": "code",
   "execution_count": 10,
   "metadata": {},
   "outputs": [
    {
     "ename": "TypeError",
     "evalue": "can only concatenate str (not \"int\") to str",
     "output_type": "error",
     "traceback": [
      "\u001b[1;31m---------------------------------------------------------------------------\u001b[0m",
      "\u001b[1;31mTypeError\u001b[0m                                 Traceback (most recent call last)",
      "\u001b[1;32m<ipython-input-10-1e18f47fd33c>\u001b[0m in \u001b[0;36m<module>\u001b[1;34m\u001b[0m\n\u001b[0;32m      1\u001b[0m \u001b[1;31m# 10]TypeError\u001b[0m\u001b[1;33m\u001b[0m\u001b[1;33m\u001b[0m\u001b[1;33m\u001b[0m\u001b[0m\n\u001b[1;32m----> 2\u001b[1;33m \u001b[0ms\u001b[0m\u001b[1;33m=\u001b[0m\u001b[1;34m'abc'\u001b[0m\u001b[1;33m+\u001b[0m\u001b[1;36m20\u001b[0m\u001b[1;33m\u001b[0m\u001b[1;33m\u001b[0m\u001b[0m\n\u001b[0m\u001b[0;32m      3\u001b[0m \u001b[0mprint\u001b[0m\u001b[1;33m(\u001b[0m\u001b[0ms\u001b[0m\u001b[1;33m)\u001b[0m\u001b[1;33m\u001b[0m\u001b[1;33m\u001b[0m\u001b[0m\n",
      "\u001b[1;31mTypeError\u001b[0m: can only concatenate str (not \"int\") to str"
     ]
    }
   ],
   "source": [
    "# 10]TypeError \n",
    "s='abc'+20\n",
    "print(s) #TypeError: can only concatenate str (not \"int\") to str"
   ]
  },
  {
   "cell_type": "code",
   "execution_count": 11,
   "metadata": {},
   "outputs": [
    {
     "ename": "ValueError",
     "evalue": "invalid literal for int() with base 10: 'h'",
     "output_type": "error",
     "traceback": [
      "\u001b[1;31m---------------------------------------------------------------------------\u001b[0m",
      "\u001b[1;31mValueError\u001b[0m                                Traceback (most recent call last)",
      "\u001b[1;32m<ipython-input-11-cb96073e4a09>\u001b[0m in \u001b[0;36m<module>\u001b[1;34m\u001b[0m\n\u001b[0;32m      1\u001b[0m \u001b[1;31m# 11]ValueError\u001b[0m\u001b[1;33m\u001b[0m\u001b[1;33m\u001b[0m\u001b[1;33m\u001b[0m\u001b[0m\n\u001b[1;32m----> 2\u001b[1;33m \u001b[0mint\u001b[0m\u001b[1;33m(\u001b[0m\u001b[1;34m'h'\u001b[0m\u001b[1;33m)\u001b[0m\u001b[1;33m\u001b[0m\u001b[1;33m\u001b[0m\u001b[0m\n\u001b[0m",
      "\u001b[1;31mValueError\u001b[0m: invalid literal for int() with base 10: 'h'"
     ]
    }
   ],
   "source": [
    "# 11]ValueError\n",
    "int('h')\n",
    "#ValueError: invalid literal for int() with base 10: 'h'"
   ]
  },
  {
   "cell_type": "code",
   "execution_count": 12,
   "metadata": {},
   "outputs": [
    {
     "name": "stdout",
     "output_type": "stream",
     "text": [
      "Error\n"
     ]
    }
   ],
   "source": [
    "try:\n",
    "    x=10/0\n",
    "except:\n",
    "    print('Error')\n"
   ]
  },
  {
   "cell_type": "code",
   "execution_count": 13,
   "metadata": {},
   "outputs": [
    {
     "name": "stdout",
     "output_type": "stream",
     "text": [
      "Error division by zero\n"
     ]
    }
   ],
   "source": [
    "try:\n",
    "    x=10/0\n",
    "except Exception as e:\n",
    "    print('Error',e)\n"
   ]
  },
  {
   "cell_type": "code",
   "execution_count": 14,
   "metadata": {},
   "outputs": [
    {
     "name": "stdout",
     "output_type": "stream",
     "text": [
      "division by zero\n"
     ]
    }
   ],
   "source": [
    "try:\n",
    "    x=10/0\n",
    "except ValueError as e:\n",
    "    print(e)\n",
    "except ZeroDivisionError as e:\n",
    "    print(e)\n"
   ]
  },
  {
   "cell_type": "code",
   "execution_count": 15,
   "metadata": {},
   "outputs": [
    {
     "name": "stdout",
     "output_type": "stream",
     "text": [
      "NO Exceptiomn\n"
     ]
    }
   ],
   "source": [
    "try:\n",
    "    x=10/5\n",
    "except:\n",
    "    print(\"Error\")\n",
    "else:\n",
    "    print(\"NO Exceptiomn\")"
   ]
  },
  {
   "cell_type": "code",
   "execution_count": 16,
   "metadata": {},
   "outputs": [
    {
     "name": "stdout",
     "output_type": "stream",
     "text": [
      "division by zero\n",
      "Yeah\n"
     ]
    }
   ],
   "source": [
    "try:\n",
    "    x=10/0\n",
    "except ZeroDivisionError as e:\n",
    "    print(e)\n",
    "else:\n",
    "    print(\"No \")\n",
    "finally:\n",
    "    print(\"Yeah\")\n"
   ]
  },
  {
   "cell_type": "code",
   "execution_count": 19,
   "metadata": {},
   "outputs": [
    {
     "name": "stdout",
     "output_type": "stream",
     "text": [
      "A Cannot B null \n"
     ]
    }
   ],
   "source": [
    "def isStringEmpty(a):\n",
    "    if type(a)!=str:\n",
    "        raise TypeError('A has to be string')\n",
    "    if not a:\n",
    "         raise ValueError(\"A Cannot B null \")\n",
    "    \n",
    "try:\n",
    "    isStringEmpty(\"\")\n",
    "except Exception as e:\n",
    "    print(e)"
   ]
  },
  {
   "cell_type": "code",
   "execution_count": 22,
   "metadata": {},
   "outputs": [
    {
     "name": "stdout",
     "output_type": "stream",
     "text": [
      "A has to be string\n"
     ]
    }
   ],
   "source": [
    "class MyException(Exception):\n",
    "    def __init__(self,args):\n",
    "        self.msg=args\n",
    "def isStringEmpty(a):\n",
    "    if type(a)!=str:\n",
    "        raise MyException('A has to be string')\n",
    "    if not a:\n",
    "         raise ValueError(\"A Cannot B null \")\n",
    "    \n",
    "try:\n",
    "    isStringEmpty(7)\n",
    "except Exception as e:\n",
    "    print(e)"
   ]
  },
  {
   "cell_type": "code",
   "execution_count": null,
   "metadata": {},
   "outputs": [],
   "source": []
  },
  {
   "cell_type": "code",
   "execution_count": null,
   "metadata": {},
   "outputs": [],
   "source": []
  }
 ],
 "metadata": {
  "kernelspec": {
   "display_name": "Python 3",
   "language": "python",
   "name": "python3"
  },
  "language_info": {
   "codemirror_mode": {
    "name": "ipython",
    "version": 3
   },
   "file_extension": ".py",
   "mimetype": "text/x-python",
   "name": "python",
   "nbconvert_exporter": "python",
   "pygments_lexer": "ipython3",
   "version": "3.8.5"
  }
 },
 "nbformat": 4,
 "nbformat_minor": 4
}
