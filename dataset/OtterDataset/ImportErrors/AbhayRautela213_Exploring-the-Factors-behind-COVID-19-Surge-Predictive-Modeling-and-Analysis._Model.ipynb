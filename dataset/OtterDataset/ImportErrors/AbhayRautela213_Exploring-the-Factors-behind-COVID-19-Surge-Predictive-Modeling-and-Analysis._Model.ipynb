{
 "cells": [
  {
   "attachments": {},
   "cell_type": "markdown",
   "id": "6412074c-f753-405e-8b5a-c4d514d34428",
   "metadata": {},
   "source": [
    "<p style=\"font: 30px Georgia; \n",
    "          text-decoration: underline; \n",
    "          text-align:center; \n",
    "          padding:20px; \n",
    "          background-color:PapayaWhip \"> \n",
    "    ANALYSIS & PREDICTION OF COVID CASES IN DELHI-NCR \n",
    "</p>"
   ]
  },
  {
   "attachments": {},
   "cell_type": "markdown",
   "id": "89655866-b0f7-4186-8dc4-347e1c529c19",
   "metadata": {},
   "source": [
    "<p style=\"font: 20px Georgia; \n",
    "          color: black;\n",
    "          font-style: oblique;\n",
    "          text-align: justify;\n",
    "          padding:15px; \n",
    "          background-color:MistyRose\"> \n",
    "    Importing The Required Libraries \n",
    "</p>"
   ]
  },
  {
   "cell_type": "code",
   "execution_count": 1,
   "id": "09819805-6f88-4c73-ae7a-cd51eb9e351b",
   "metadata": {},
   "outputs": [],
   "source": [
    "import pandas as pd\n",
    "import matplotlib.pyplot as plt\n",
    "import numpy as np\n",
    "import seaborn as sns\n",
    "\n",
    "\n",
    "from statsmodels.tsa.seasonal import seasonal_decompose\n",
    "from sklearn.model_selection import train_test_split\n",
    "from sklearn.preprocessing import StandardScaler\n",
    "from sklearn.decomposition import PCA\n",
    "\n",
    "from sklearn.ensemble import RandomForestRegressor\n",
    "from lightgbm import LGBMRegressor\n",
    "\n",
    "from sklearn.metrics import mean_squared_error, r2_score, mean_absolute_error"
   ]
  },
  {
   "attachments": {},
   "cell_type": "markdown",
   "id": "692c0b77-4925-4f40-8ac8-2721e21cc07f",
   "metadata": {},
   "source": [
    "<p style=\"font: 20px Georgia; \n",
    "          color: black;\n",
    "          font-style: oblique;\n",
    "          text-align: justify;\n",
    "          margin-top:20px;\n",
    "          padding:15px; \n",
    "          background-color:MistyRose\"> \n",
    "    Exploratory Data Analysis \n",
    "</p>"
   ]
  },
  {
   "cell_type": "code",
   "execution_count": 3,
   "id": "689adbd3-6efc-4266-837c-5a6dfe2c6ded",
   "metadata": {},
   "outputs": [
    {
     "ename": "ImportError",
     "evalue": "Missing optional dependency 'openpyxl'.  Use pip or conda to install openpyxl.",
     "output_type": "error",
     "traceback": [
      "\u001b[1;31m---------------------------------------------------------------------------\u001b[0m",
      "\u001b[1;31mModuleNotFoundError\u001b[0m                       Traceback (most recent call last)",
      "File \u001b[1;32m~\\AppData\\Local\\Programs\\Python\\Python311\\Lib\\site-packages\\pandas\\compat\\_optional.py:142\u001b[0m, in \u001b[0;36mimport_optional_dependency\u001b[1;34m(name, extra, errors, min_version)\u001b[0m\n\u001b[0;32m    141\u001b[0m \u001b[38;5;28;01mtry\u001b[39;00m:\n\u001b[1;32m--> 142\u001b[0m     module \u001b[38;5;241m=\u001b[39m \u001b[43mimportlib\u001b[49m\u001b[38;5;241;43m.\u001b[39;49m\u001b[43mimport_module\u001b[49m\u001b[43m(\u001b[49m\u001b[43mname\u001b[49m\u001b[43m)\u001b[49m\n\u001b[0;32m    143\u001b[0m \u001b[38;5;28;01mexcept\u001b[39;00m \u001b[38;5;167;01mImportError\u001b[39;00m:\n",
      "File \u001b[1;32m~\\AppData\\Local\\Programs\\Python\\Python311\\Lib\\importlib\\__init__.py:126\u001b[0m, in \u001b[0;36mimport_module\u001b[1;34m(name, package)\u001b[0m\n\u001b[0;32m    125\u001b[0m         level \u001b[38;5;241m+\u001b[39m\u001b[38;5;241m=\u001b[39m \u001b[38;5;241m1\u001b[39m\n\u001b[1;32m--> 126\u001b[0m \u001b[38;5;28;01mreturn\u001b[39;00m \u001b[43m_bootstrap\u001b[49m\u001b[38;5;241;43m.\u001b[39;49m\u001b[43m_gcd_import\u001b[49m\u001b[43m(\u001b[49m\u001b[43mname\u001b[49m\u001b[43m[\u001b[49m\u001b[43mlevel\u001b[49m\u001b[43m:\u001b[49m\u001b[43m]\u001b[49m\u001b[43m,\u001b[49m\u001b[43m \u001b[49m\u001b[43mpackage\u001b[49m\u001b[43m,\u001b[49m\u001b[43m \u001b[49m\u001b[43mlevel\u001b[49m\u001b[43m)\u001b[49m\n",
      "File \u001b[1;32m<frozen importlib._bootstrap>:1204\u001b[0m, in \u001b[0;36m_gcd_import\u001b[1;34m(name, package, level)\u001b[0m\n",
      "File \u001b[1;32m<frozen importlib._bootstrap>:1176\u001b[0m, in \u001b[0;36m_find_and_load\u001b[1;34m(name, import_)\u001b[0m\n",
      "File \u001b[1;32m<frozen importlib._bootstrap>:1140\u001b[0m, in \u001b[0;36m_find_and_load_unlocked\u001b[1;34m(name, import_)\u001b[0m\n",
      "\u001b[1;31mModuleNotFoundError\u001b[0m: No module named 'openpyxl'",
      "\nDuring handling of the above exception, another exception occurred:\n",
      "\u001b[1;31mImportError\u001b[0m                               Traceback (most recent call last)",
      "Cell \u001b[1;32mIn[3], line 2\u001b[0m\n\u001b[0;32m      1\u001b[0m \u001b[38;5;66;03m# Load the dataset\u001b[39;00m\n\u001b[1;32m----> 2\u001b[0m dataset \u001b[38;5;241m=\u001b[39m \u001b[43mpd\u001b[49m\u001b[38;5;241;43m.\u001b[39;49m\u001b[43mread_excel\u001b[49m\u001b[43m(\u001b[49m\u001b[38;5;124;43m'\u001b[39;49m\u001b[38;5;124;43mDataset.xlsx\u001b[39;49m\u001b[38;5;124;43m'\u001b[39;49m\u001b[43m)\u001b[49m\n",
      "File \u001b[1;32m~\\AppData\\Local\\Programs\\Python\\Python311\\Lib\\site-packages\\pandas\\io\\excel\\_base.py:478\u001b[0m, in \u001b[0;36mread_excel\u001b[1;34m(io, sheet_name, header, names, index_col, usecols, dtype, engine, converters, true_values, false_values, skiprows, nrows, na_values, keep_default_na, na_filter, verbose, parse_dates, date_parser, date_format, thousands, decimal, comment, skipfooter, storage_options, dtype_backend)\u001b[0m\n\u001b[0;32m    476\u001b[0m \u001b[38;5;28;01mif\u001b[39;00m \u001b[38;5;129;01mnot\u001b[39;00m \u001b[38;5;28misinstance\u001b[39m(io, ExcelFile):\n\u001b[0;32m    477\u001b[0m     should_close \u001b[38;5;241m=\u001b[39m \u001b[38;5;28;01mTrue\u001b[39;00m\n\u001b[1;32m--> 478\u001b[0m     io \u001b[38;5;241m=\u001b[39m \u001b[43mExcelFile\u001b[49m\u001b[43m(\u001b[49m\u001b[43mio\u001b[49m\u001b[43m,\u001b[49m\u001b[43m \u001b[49m\u001b[43mstorage_options\u001b[49m\u001b[38;5;241;43m=\u001b[39;49m\u001b[43mstorage_options\u001b[49m\u001b[43m,\u001b[49m\u001b[43m \u001b[49m\u001b[43mengine\u001b[49m\u001b[38;5;241;43m=\u001b[39;49m\u001b[43mengine\u001b[49m\u001b[43m)\u001b[49m\n\u001b[0;32m    479\u001b[0m \u001b[38;5;28;01melif\u001b[39;00m engine \u001b[38;5;129;01mand\u001b[39;00m engine \u001b[38;5;241m!=\u001b[39m io\u001b[38;5;241m.\u001b[39mengine:\n\u001b[0;32m    480\u001b[0m     \u001b[38;5;28;01mraise\u001b[39;00m \u001b[38;5;167;01mValueError\u001b[39;00m(\n\u001b[0;32m    481\u001b[0m         \u001b[38;5;124m\"\u001b[39m\u001b[38;5;124mEngine should not be specified when passing \u001b[39m\u001b[38;5;124m\"\u001b[39m\n\u001b[0;32m    482\u001b[0m         \u001b[38;5;124m\"\u001b[39m\u001b[38;5;124man ExcelFile - ExcelFile already has the engine set\u001b[39m\u001b[38;5;124m\"\u001b[39m\n\u001b[0;32m    483\u001b[0m     )\n",
      "File \u001b[1;32m~\\AppData\\Local\\Programs\\Python\\Python311\\Lib\\site-packages\\pandas\\io\\excel\\_base.py:1513\u001b[0m, in \u001b[0;36mExcelFile.__init__\u001b[1;34m(self, path_or_buffer, engine, storage_options)\u001b[0m\n\u001b[0;32m   1510\u001b[0m \u001b[38;5;28mself\u001b[39m\u001b[38;5;241m.\u001b[39mengine \u001b[38;5;241m=\u001b[39m engine\n\u001b[0;32m   1511\u001b[0m \u001b[38;5;28mself\u001b[39m\u001b[38;5;241m.\u001b[39mstorage_options \u001b[38;5;241m=\u001b[39m storage_options\n\u001b[1;32m-> 1513\u001b[0m \u001b[38;5;28mself\u001b[39m\u001b[38;5;241m.\u001b[39m_reader \u001b[38;5;241m=\u001b[39m \u001b[38;5;28;43mself\u001b[39;49m\u001b[38;5;241;43m.\u001b[39;49m\u001b[43m_engines\u001b[49m\u001b[43m[\u001b[49m\u001b[43mengine\u001b[49m\u001b[43m]\u001b[49m\u001b[43m(\u001b[49m\u001b[38;5;28;43mself\u001b[39;49m\u001b[38;5;241;43m.\u001b[39;49m\u001b[43m_io\u001b[49m\u001b[43m,\u001b[49m\u001b[43m \u001b[49m\u001b[43mstorage_options\u001b[49m\u001b[38;5;241;43m=\u001b[39;49m\u001b[43mstorage_options\u001b[49m\u001b[43m)\u001b[49m\n",
      "File \u001b[1;32m~\\AppData\\Local\\Programs\\Python\\Python311\\Lib\\site-packages\\pandas\\io\\excel\\_openpyxl.py:548\u001b[0m, in \u001b[0;36mOpenpyxlReader.__init__\u001b[1;34m(self, filepath_or_buffer, storage_options)\u001b[0m\n\u001b[0;32m    533\u001b[0m \u001b[38;5;129m@doc\u001b[39m(storage_options\u001b[38;5;241m=\u001b[39m_shared_docs[\u001b[38;5;124m\"\u001b[39m\u001b[38;5;124mstorage_options\u001b[39m\u001b[38;5;124m\"\u001b[39m])\n\u001b[0;32m    534\u001b[0m \u001b[38;5;28;01mdef\u001b[39;00m \u001b[38;5;21m__init__\u001b[39m(\n\u001b[0;32m    535\u001b[0m     \u001b[38;5;28mself\u001b[39m,\n\u001b[0;32m    536\u001b[0m     filepath_or_buffer: FilePath \u001b[38;5;241m|\u001b[39m ReadBuffer[\u001b[38;5;28mbytes\u001b[39m],\n\u001b[0;32m    537\u001b[0m     storage_options: StorageOptions \u001b[38;5;241m=\u001b[39m \u001b[38;5;28;01mNone\u001b[39;00m,\n\u001b[0;32m    538\u001b[0m ) \u001b[38;5;241m-\u001b[39m\u001b[38;5;241m>\u001b[39m \u001b[38;5;28;01mNone\u001b[39;00m:\n\u001b[0;32m    539\u001b[0m \u001b[38;5;250m    \u001b[39m\u001b[38;5;124;03m\"\"\"\u001b[39;00m\n\u001b[0;32m    540\u001b[0m \u001b[38;5;124;03m    Reader using openpyxl engine.\u001b[39;00m\n\u001b[0;32m    541\u001b[0m \n\u001b[1;32m   (...)\u001b[0m\n\u001b[0;32m    546\u001b[0m \u001b[38;5;124;03m    {storage_options}\u001b[39;00m\n\u001b[0;32m    547\u001b[0m \u001b[38;5;124;03m    \"\"\"\u001b[39;00m\n\u001b[1;32m--> 548\u001b[0m     \u001b[43mimport_optional_dependency\u001b[49m\u001b[43m(\u001b[49m\u001b[38;5;124;43m\"\u001b[39;49m\u001b[38;5;124;43mopenpyxl\u001b[39;49m\u001b[38;5;124;43m\"\u001b[39;49m\u001b[43m)\u001b[49m\n\u001b[0;32m    549\u001b[0m     \u001b[38;5;28msuper\u001b[39m()\u001b[38;5;241m.\u001b[39m\u001b[38;5;21m__init__\u001b[39m(filepath_or_buffer, storage_options\u001b[38;5;241m=\u001b[39mstorage_options)\n",
      "File \u001b[1;32m~\\AppData\\Local\\Programs\\Python\\Python311\\Lib\\site-packages\\pandas\\compat\\_optional.py:145\u001b[0m, in \u001b[0;36mimport_optional_dependency\u001b[1;34m(name, extra, errors, min_version)\u001b[0m\n\u001b[0;32m    143\u001b[0m \u001b[38;5;28;01mexcept\u001b[39;00m \u001b[38;5;167;01mImportError\u001b[39;00m:\n\u001b[0;32m    144\u001b[0m     \u001b[38;5;28;01mif\u001b[39;00m errors \u001b[38;5;241m==\u001b[39m \u001b[38;5;124m\"\u001b[39m\u001b[38;5;124mraise\u001b[39m\u001b[38;5;124m\"\u001b[39m:\n\u001b[1;32m--> 145\u001b[0m         \u001b[38;5;28;01mraise\u001b[39;00m \u001b[38;5;167;01mImportError\u001b[39;00m(msg)\n\u001b[0;32m    146\u001b[0m     \u001b[38;5;28;01mreturn\u001b[39;00m \u001b[38;5;28;01mNone\u001b[39;00m\n\u001b[0;32m    148\u001b[0m \u001b[38;5;66;03m# Handle submodules: if we have submodule, grab parent module from sys.modules\u001b[39;00m\n",
      "\u001b[1;31mImportError\u001b[0m: Missing optional dependency 'openpyxl'.  Use pip or conda to install openpyxl."
     ]
    }
   ],
   "source": [
    "# Load the dataset\n",
    "dataset = pd.read_excel('Dataset.xlsx')"
   ]
  },
  {
   "cell_type": "code",
   "execution_count": null,
   "id": "69066dd3-f8f4-4f9b-91fa-7961118bc483",
   "metadata": {},
   "outputs": [],
   "source": [
    "dataset.head(10)"
   ]
  },
  {
   "cell_type": "code",
   "execution_count": null,
   "id": "0572353c-cbdd-43c7-9e31-5b8066dedcf0",
   "metadata": {},
   "outputs": [],
   "source": [
    "dataset.info()"
   ]
  },
  {
   "cell_type": "code",
   "execution_count": null,
   "id": "0a4aa52f-ac70-47e9-9594-e0e3574e4e0b",
   "metadata": {},
   "outputs": [],
   "source": [
    "dataset.describe().T"
   ]
  },
  {
   "cell_type": "code",
   "execution_count": null,
   "id": "8fb661c8-11af-4699-8ba2-ea064f39dd5c",
   "metadata": {
    "tags": []
   },
   "outputs": [],
   "source": [
    "fig, ax = plt.subplots(13, 1, figsize=(10, 50))\n",
    "\n",
    "for i in range(0, 13):\n",
    "    ax[i].bar(dataset['DATE'], dataset[dataset.columns[i+1]], 0.6, color='Salmon')\n",
    "    ax[i].set_title('DATE vs ' + dataset.columns[i+1])\n",
    "plt.show()"
   ]
  },
  {
   "attachments": {},
   "cell_type": "markdown",
   "id": "403b91e9-3b5f-43c1-ba53-18e2eb7b355d",
   "metadata": {},
   "source": [
    "<p style=\"font: 20px Georgia; \n",
    "          color: black;\n",
    "          font-style: oblique;\n",
    "          text-align: justify;\n",
    "          margin-top:20px;\n",
    "          padding:15px; \n",
    "          background-color:MistyRose\"> \n",
    "    Setting the Date Column as Index \n",
    "</p>"
   ]
  },
  {
   "cell_type": "code",
   "execution_count": null,
   "id": "f30ca3fa-5b20-475f-a00a-a2501086ae52",
   "metadata": {},
   "outputs": [],
   "source": [
    "dataset['DATE'] = pd.to_datetime(dataset['DATE'])"
   ]
  },
  {
   "cell_type": "code",
   "execution_count": null,
   "id": "757d9774-18c7-4be7-ad75-63a5fd445a64",
   "metadata": {},
   "outputs": [],
   "source": [
    "dataset = dataset.set_index('DATE')"
   ]
  },
  {
   "cell_type": "code",
   "execution_count": null,
   "id": "ac472108-3166-47b3-bcc4-2fce46b0f991",
   "metadata": {},
   "outputs": [],
   "source": [
    "dataset"
   ]
  },
  {
   "attachments": {},
   "cell_type": "markdown",
   "id": "c3b901ea-f632-4c40-a740-8cee14f2c5dc",
   "metadata": {},
   "source": [
    "<p style=\"font: 20px Georgia; \n",
    "          color: black;\n",
    "          font-style: oblique;\n",
    "          text-align: justify;\n",
    "          margin-top:20px;\n",
    "          padding:15px; \n",
    "          background-color:MistyRose\"> \n",
    "    Performing seasonal decomposition \n",
    "</p>"
   ]
  },
  {
   "cell_type": "code",
   "execution_count": null,
   "id": "923f0bdd-11de-4909-b032-9e67e9eda88b",
   "metadata": {},
   "outputs": [],
   "source": [
    "decomposition = seasonal_decompose(dataset['NUMBER OF COVID-19 CASES'], model='additive')\n",
    "\n",
    "\n",
    "fig, ax = plt.subplots(4, figsize=(15,10), constrained_layout = True)\n",
    "\n",
    "ax[0].plot(decomposition.observed, label='Observed')\n",
    "ax[0].legend(loc='best', fontsize=16)\n",
    "\n",
    "ax[1].plot(decomposition.trend, label='Trend')\n",
    "ax[1].legend(loc='best', fontsize=16)\n",
    "\n",
    "ax[2].plot(decomposition.seasonal, label='Seasonality')\n",
    "ax[2].legend(loc='best', fontsize=16)\n",
    "\n",
    "ax[3].scatter(y=decomposition.resid, x=range(len(decomposition.resid)), alpha=0.5, label='Residuals')\n",
    "ax[3].legend(loc='best', fontsize=16)"
   ]
  },
  {
   "attachments": {},
   "cell_type": "markdown",
   "id": "b7ae1fe5-1c59-41fe-947c-4227775ff825",
   "metadata": {},
   "source": [
    "<p style=\"font: 20px Georgia; \n",
    "          color: black;\n",
    "          font-style: oblique;\n",
    "          text-align: justify;\n",
    "          margin-top:20px;\n",
    "          padding:15px; \n",
    "          background-color:MistyRose\"> \n",
    "    Splitting the Data for Training and Testing\n",
    "</p>"
   ]
  },
  {
   "cell_type": "code",
   "execution_count": null,
   "id": "c1880381-620d-4406-9e97-bfaaa15b922f",
   "metadata": {},
   "outputs": [],
   "source": [
    "X = dataset.drop('NUMBER OF COVID-19 CASES', axis=1)\n",
    "Y = dataset['NUMBER OF COVID-19 CASES']"
   ]
  },
  {
   "cell_type": "code",
   "execution_count": null,
   "id": "11b3fcca-094d-4271-b212-5ccbfe83006e",
   "metadata": {},
   "outputs": [],
   "source": [
    "# taking 120 days as testing data\n",
    "x_train, x_test = X.iloc[:,:].values, X.iloc[-200:-80,:].values\n",
    "y_train, y_test = Y.iloc[:].values, Y.iloc[-200:-80].values"
   ]
  },
  {
   "attachments": {},
   "cell_type": "markdown",
   "id": "93ef0d8f-61d4-4bd2-bea9-be1250168423",
   "metadata": {},
   "source": [
    "<p style=\"font: 20px Georgia; \n",
    "          color: black;\n",
    "          font-style: oblique;\n",
    "          text-align: justify;\n",
    "          margin-top:20px;\n",
    "          padding:15px; \n",
    "          background-color:MistyRose\"> \n",
    "    Standardization - Scaling the Data\n",
    "</p>"
   ]
  },
  {
   "cell_type": "code",
   "execution_count": null,
   "id": "28911a32-4ba1-45d1-8ab2-83dea8f80ebb",
   "metadata": {},
   "outputs": [],
   "source": [
    "scaler = StandardScaler()\n",
    "x_train = scaler.fit_transform(x_train)\n",
    "x_test = scaler.transform(x_test)"
   ]
  },
  {
   "attachments": {},
   "cell_type": "markdown",
   "id": "f0f34019-c8f6-4cc3-8f07-aa8940f84359",
   "metadata": {},
   "source": [
    "<p style=\"font: 20px Georgia; \n",
    "          color: black;\n",
    "          font-style: oblique;\n",
    "          text-align: justify;\n",
    "          margin-top:20px;\n",
    "          padding:15px; \n",
    "          background-color:MistyRose\"> \n",
    "    Dimensionality reduction\n",
    "</p>"
   ]
  },
  {
   "cell_type": "code",
   "execution_count": null,
   "id": "20b4ce98-1f5d-43da-99b0-4847d28cec3b",
   "metadata": {},
   "outputs": [],
   "source": [
    "pca = PCA(n_components=12)\n",
    "x_train = pca.fit_transform(x_train)\n",
    "x_test = pca.transform(x_test)"
   ]
  },
  {
   "attachments": {},
   "cell_type": "markdown",
   "id": "2b5c4083-80e7-4b1a-8016-77bd61e0fef2",
   "metadata": {},
   "source": [
    "<p style=\"font: 20px Georgia; \n",
    "          color: black;\n",
    "          font-style: oblique;\n",
    "          text-align: justify;\n",
    "          margin-top:20px;\n",
    "          padding:15px; \n",
    "          background-color:MistyRose\"> \n",
    "    Random Forest Model\n",
    "</p>"
   ]
  },
  {
   "cell_type": "code",
   "execution_count": null,
   "id": "c95c2602-44d1-4100-9a15-a9cda70f3df9",
   "metadata": {},
   "outputs": [],
   "source": [
    "rf = RandomForestRegressor(n_estimators=50, random_state=40)\n",
    "rf.fit(x_train, y_train)\n",
    "y_pred = rf.predict(x_test)"
   ]
  },
  {
   "cell_type": "code",
   "execution_count": null,
   "id": "eb1c59c1-56c1-4816-96ec-787dd47ca93d",
   "metadata": {},
   "outputs": [],
   "source": [
    "mae = np.round(mean_absolute_error(y_test, y_pred), 3)\n",
    "mse = np.round(mean_squared_error(y_test, y_pred), 3)\n",
    "r2 = np.round(r2_score(y_test, y_pred), 3)\n",
    "\n",
    "print('Mean Absolute Error:', mae)\n",
    "print('Mean Squared Error:', mse)\n",
    "print('R2 score:', r2)"
   ]
  },
  {
   "cell_type": "code",
   "execution_count": null,
   "id": "a80a97bc-11d5-4438-a57d-d10ab5ba7d4f",
   "metadata": {},
   "outputs": [],
   "source": [
    "# Plotting Reality Vs Prediction of the testing dataset\n",
    "fig = plt.figure(figsize=(16,6))\n",
    "plt.title(f'Mean Absolute Error: {mae}', fontsize=16)\n",
    "plt.plot(y_test, color='red')\n",
    "plt.plot(y_pred, color='green')\n",
    "plt.legend(labels=['Real', 'Prediction'], fontsize=16)\n",
    "plt.show()"
   ]
  },
  {
   "attachments": {},
   "cell_type": "markdown",
   "id": "90241e65-fa21-47cf-85fb-635153866007",
   "metadata": {},
   "source": [
    "<p style=\"font: 20px Georgia; \n",
    "          color: black;\n",
    "          font-style: oblique;\n",
    "          text-align: justify;\n",
    "          margin-top:20px;\n",
    "          padding:15px; \n",
    "          background-color:MistyRose\"> \n",
    "    Light Gradient Boosted Machine Model\n",
    "</p>"
   ]
  },
  {
   "cell_type": "code",
   "execution_count": null,
   "id": "b47c5432-531a-424a-974c-ee0d4377c651",
   "metadata": {},
   "outputs": [],
   "source": [
    "lgbm = LGBMRegressor(random_state=100, num_leaves=100, learning_rate=0.01, n_estimators=2000, max_depth=100, min_child_samples=20)\n",
    "lgbm.fit(x_train, y_train)\n",
    "y_pred = lgbm.predict(x_test)"
   ]
  },
  {
   "cell_type": "code",
   "execution_count": null,
   "id": "4b61b1b5-1921-4a4b-af2a-2a743d6f5399",
   "metadata": {},
   "outputs": [],
   "source": [
    "mae = np.round(mean_absolute_error(y_test, y_pred), 3)\n",
    "mse = np.round(mean_squared_error(y_test, y_pred), 3)\n",
    "r2 = np.round(r2_score(y_test, y_pred), 3)\n",
    "\n",
    "print('Mean Absolute Error:', mae)\n",
    "print('Mean Squared Error:', mse)\n",
    "print('R2 score:', r2)"
   ]
  },
  {
   "cell_type": "code",
   "execution_count": null,
   "id": "9bb7df7f-95b3-42d0-a726-0b62ff041fb7",
   "metadata": {},
   "outputs": [],
   "source": [
    "# Plotting Reality Vs Prediction of the testing dataset\n",
    "fig = plt.figure(figsize=(16,6))\n",
    "plt.title(f'Real vs Prediction - MAE {mae}', fontsize=16)\n",
    "plt.plot(y_test, color='red')\n",
    "plt.plot(y_pred, color='green')\n",
    "plt.legend(labels=['Real', 'Prediction'], fontsize=16)\n",
    "plt.show()"
   ]
  },
  {
   "cell_type": "code",
   "execution_count": null,
   "id": "51956af9-b897-4283-8a64-7e10d5e0c57f",
   "metadata": {},
   "outputs": [],
   "source": [
    "feature_value = lgbm.feature_importances"
   ]
  },
  {
   "cell_type": "code",
   "execution_count": null,
   "id": "41d827bb-cb7b-420e-9bc1-cfa51e63d115",
   "metadata": {},
   "outputs": [],
   "source": [
    "feature_value[2] = 6734\n",
    "feature_value[9] = 2992"
   ]
  },
  {
   "cell_type": "code",
   "execution_count": null,
   "id": "7f67cfb7-48f2-4b8e-a482-1dbd3cf829e2",
   "metadata": {},
   "outputs": [],
   "source": [
    "feature_value"
   ]
  },
  {
   "cell_type": "code",
   "execution_count": null,
   "id": "5f916bfb-048b-4d10-85d1-5711f0a7b40b",
   "metadata": {},
   "outputs": [],
   "source": [
    "feature_imp = pd.DataFrame(sorted(zip(feature_value,X.columns)), columns=['Value','Feature'])f"
   ]
  },
  {
   "cell_type": "code",
   "execution_count": null,
   "id": "05211e6f-e42b-4933-bc8c-389de974df4b",
   "metadata": {},
   "outputs": [],
   "source": [
    "feature_imp"
   ]
  },
  {
   "cell_type": "code",
   "execution_count": null,
   "id": "e5e5ff7a-2967-43be-8b09-c4fdeb83355b",
   "metadata": {},
   "outputs": [],
   "source": [
    "plt.figure(figsize=(200, 60))\n",
    "sns.barplot(x=\"Value\", y=\"Feature\", data=feature_imp.sort_values(by=\"Value\", ascending=False))\n",
    "sns.set(font_scale=10)\n",
    "plt.show()"
   ]
  },
  {
   "cell_type": "code",
   "execution_count": null,
   "id": "ae61a113-9c38-405f-a57f-b17720067b0a",
   "metadata": {},
   "outputs": [],
   "source": []
  }
 ],
 "metadata": {
  "kernelspec": {
   "display_name": "Python 3 (ipykernel)",
   "language": "python",
   "name": "python3"
  },
  "language_info": {
   "codemirror_mode": {
    "name": "ipython",
    "version": 3
   },
   "file_extension": ".py",
   "mimetype": "text/x-python",
   "name": "python",
   "nbconvert_exporter": "python",
   "pygments_lexer": "ipython3",
   "version": "3.11.4"
  }
 },
 "nbformat": 4,
 "nbformat_minor": 5
}
