{
 "cells": [
  {
   "cell_type": "code",
   "execution_count": 1,
   "id": "3ce6695f-af6d-4c9d-9f18-35e1240056c9",
   "metadata": {},
   "outputs": [],
   "source": [
    "# Q1. Explain why we have to use the Exception class while creating a Custom Exception."
   ]
  },
  {
   "cell_type": "code",
   "execution_count": 2,
   "id": "2ecdc756-66ab-4d66-a197-344b7be8c9b1",
   "metadata": {},
   "outputs": [],
   "source": [
    "# Ans 2 = Exception is useing for super class and this class useing any to handle this class and the custom exception\n",
    "# are the made by user this is for the paricular code and he can many ways to use it and this is user built in exception."
   ]
  },
  {
   "cell_type": "code",
   "execution_count": 3,
   "id": "76d2f910-e22a-46cc-9925-a2d144306d08",
   "metadata": {},
   "outputs": [],
   "source": [
    "# Q2. Write a python program to print Python Exception Hierarchy."
   ]
  },
  {
   "cell_type": "code",
   "execution_count": 4,
   "id": "9904bbe2-6fd9-4794-bbb5-ada676854548",
   "metadata": {},
   "outputs": [],
   "source": [
    "# Ans 2=Python has a built-in exception hierarchy, which defines a set of exception classes that are used to handle different\n",
    "# types of errors that can occur during program execution.\n",
    "# The hierarchy is organized such that more specific exceptions are derived from more general exceptions. \n",
    "# For example, the built-in ValueError exception is derived from the more general Exception class, which itself is derived \n",
    "# from the even more general BaseException class.\n",
    "# To print the Python exception hierarchy, you can use the issubclass() function, which returns True if a given class is a \n",
    "# subclass of another class. You can use this function to traverse the exception hierarchy, starting from the most general \n",
    "# BaseException class, \n",
    "# and print out the names of all the exception classes in the hierarchy.\n",
    "# Here's an example Python program that does this:\n",
    "# In this program, class_hierarchy is a list of all the built-in exception classes in the hierarchy,\n",
    "# in order from the most general BaseException class to the most specific exceptions. The for loop iterates \n",
    "# over each class in the hierarchy and prints out its name and the name of its base class using the __name__ and __base__ attributes,\n",
    "# respectively.\n",
    "# When you run this program, it will print out the names of all the exception classes in the hierarchy, along with their base classes, like this:"
   ]
  },
  {
   "cell_type": "code",
   "execution_count": null,
   "id": "d358406d-7675-41ab-bfd8-cd3f90690d3c",
   "metadata": {},
   "outputs": [],
   "source": []
  },
  {
   "cell_type": "code",
   "execution_count": 10,
   "id": "eedc756d-7daf-4747-8272-99d3bd34c3b7",
   "metadata": {},
   "outputs": [
    {
     "name": "stdout",
     "output_type": "stream",
     "text": [
      "here we divide zero so here is  division by zero\n",
      "Error: Cannot add integer and string\n"
     ]
    }
   ],
   "source": [
    "# Ans 3 The ArithmeticError class in Python is a built-in exception class that is raised when an error occurs during arithmetic operations.\n",
    "# It is a subclass of the Exception class and serves as a base class for other arithmetic-related exceptions.\n",
    "# Example 1.\n",
    "a = 5\n",
    "b = 0\n",
    "try :\n",
    "    c = a / b\n",
    "except ZeroDivisionError as e:\n",
    "    print(\"here we divide zero so here is \",e)\n",
    "# example 2 \n",
    "a = 5\n",
    "b = \"hello\"\n",
    "\n",
    "try:\n",
    "    c = a + b\n",
    "except TypeError:\n",
    "    print(\"Error: Cannot add integer and string\")\n",
    "else:\n",
    "    print(\"Result:\", c)\n"
   ]
  },
  {
   "cell_type": "code",
   "execution_count": 11,
   "id": "0bc82d0e-350b-461f-bba5-8f4b170e56c2",
   "metadata": {},
   "outputs": [],
   "source": [
    "# Q4. Why LookupError class is used? Explain with an example KeyError and IndexError.\n"
   ]
  },
  {
   "cell_type": "code",
   "execution_count": 14,
   "id": "bb591d62-794d-4258-ada8-401564593e71",
   "metadata": {},
   "outputs": [
    {
     "name": "stdout",
     "output_type": "stream",
     "text": [
      "Error: 'd'\n",
      "Error: list index out of range\n"
     ]
    }
   ],
   "source": [
    "# ans4 The LookupError class is a base class for exceptions that are raised when a lookup operation fails to find a specified key or index.\n",
    "my_dict = {'a': 1, 'b': 2, 'c': 3}\n",
    "try:\n",
    "    value = my_dict['d']\n",
    "except KeyError as e:\n",
    "    print(\"Error:\", e)\n",
    "else:\n",
    "    print(\"Value:\", value)\n",
    "\n",
    "    \n",
    "    \n",
    "my_list = [1, 2, 3]\n",
    "try:\n",
    "    value = my_list[3]\n",
    "except IndexError as e:\n",
    "    print(\"Error:\", e)\n",
    "else:\n",
    "    print(\"Value:\", value)\n"
   ]
  },
  {
   "cell_type": "code",
   "execution_count": 15,
   "id": "d1b6b6bb-d468-4e91-b0ea-6cb12d286e2b",
   "metadata": {},
   "outputs": [],
   "source": [
    "#Q5. Explain ImportError. What is ModuleNotFoundError?"
   ]
  },
  {
   "cell_type": "code",
   "execution_count": 3,
   "id": "5af35fb0-506b-4e44-8373-c88de9135385",
   "metadata": {},
   "outputs": [
    {
     "name": "stdout",
     "output_type": "stream",
     "text": [
      "Error: No module named 'non_existent_module'\n",
      "Error: No module named 'non_existent_module'\n"
     ]
    }
   ],
   "source": [
    "# Ans 5 = ImportError and ModuleNotFoundError are both Python exceptions that are raised when a\n",
    "# module cannot be imported. However, there are some differences between the two.\n",
    "# ImportError: This exception is raised when a module cannot be imported for reasons other than the module not being found. \n",
    "# is can happen, for example, if the module has syntax errors or if the module requires dependencies that are not installed.\n",
    "try:\n",
    "    import non_existent_module\n",
    "except ImportError as e:\n",
    "    print(\"Error:\", e)\n",
    "else:\n",
    "    print(\"Module imported successfully\")\n",
    "# ModuleNotFoundError: This exception is raised when a module cannot be found during the import process. It is a subclass of \n",
    "# ImportError and was introduced in Python 3.6\n",
    "try:\n",
    "    import non_existent_module\n",
    "except ModuleNotFoundError as e:\n",
    "    print(\"Error:\", e)\n",
    "else:\n",
    "    print(\"Module imported successfully\")\n"
   ]
  },
  {
   "cell_type": "code",
   "execution_count": null,
   "id": "955f68f4-ee50-4ce3-8ed1-afe0cb372000",
   "metadata": {},
   "outputs": [],
   "source": [
    "# Q6. List down some best practices for exception handling in python."
   ]
  },
  {
   "cell_type": "code",
   "execution_count": null,
   "id": "631dc85f-c972-4794-aa99-3a12cabc7cac",
   "metadata": {},
   "outputs": [],
   "source": [
    "#Ans 5 Use try-except-else-finally blocks: In Python, you can use a try-except-else-finally block to handle exceptions. The try \n",
    "# block contains the code that might raise an exception. The except block contains the code that handles the exception. The else \n",
    "# block contains code that runs if the try block doesn't raise an exception, and the finally block contains code that \n",
    "# runs regardless of whether an exception was raised or not."
   ]
  }
 ],
 "metadata": {
  "kernelspec": {
   "display_name": "Python 3 (ipykernel)",
   "language": "python",
   "name": "python3"
  },
  "language_info": {
   "codemirror_mode": {
    "name": "ipython",
    "version": 3
   },
   "file_extension": ".py",
   "mimetype": "text/x-python",
   "name": "python",
   "nbconvert_exporter": "python",
   "pygments_lexer": "ipython3",
   "version": "3.10.6"
  }
 },
 "nbformat": 4,
 "nbformat_minor": 5
}
