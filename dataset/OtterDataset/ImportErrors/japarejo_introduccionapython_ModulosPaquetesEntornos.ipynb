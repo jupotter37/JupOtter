{
 "cells": [
  {
   "cell_type": "markdown",
   "id": "dd569824-5559-4e1f-a0f3-ea1c5afc4468",
   "metadata": {
    "tags": []
   },
   "source": [
    "# Módulos, paquetes y entornos\n",
    "\n",
    "La programación modular es el proceso de dividir una tarea de programación grande y difícil de realizarar en subtareas o módulos separados, más pequeños y manejables. \n",
    "Los módulos individuales pueden unirse como bloques de construcción para crear una aplicación más grande.\n",
    "Además si los diseñamos bien, los módulos pueden ser reutilizados, de manera que podamos aprovechar el trabajo ya realizado por otros programadores (o por nosotros mismos).\n",
    "\n",
    "Python viene ya por defecto con una enorme librería estándar de código reutilizable que incorpora muchos módulos. Os invitamos a echar un vistazo a la funcionalidad que nos proporciona accediendo a la documentación oficial de la misma:\n",
    "\n",
    "[https://docs.python.org/3/library/](https://docs.python.org/3/library/)\n",
    "\n",
    "## Definiciones básicas\n",
    "\n",
    "### Script \n",
    "Es un archivo de Python para a ser ejecutado directamente. Suele estar orientado a una tarea, no suele ser reutilizable, ni invocarse desde otros scripts de ninguna forma.\n",
    "\n",
    "### Módulo\n",
    "Es un archivo de Python destinado a ser importado en scripts u otros módulos. Define clases, funciones y variables destinadas a ser utilizadas en otros archivos que lo importan. \n",
    "\n",
    "### Paquete\n",
    "Es una colección de módulos relacionados que trabajan juntos, y están almacenados en una misma carpeta. Esta carpeta suele contener un archivo especial \\__init\\__ que indica que se trata de un paquete, que puede contener más módulos anidados en subcarpetas\n"
   ]
  },
  {
   "cell_type": "markdown",
   "id": "015b5bf9-0787-480e-9610-c2e81ab7ee3b",
   "metadata": {},
   "source": [
    "## Uso de módulos \n",
    "\n",
    "La manera estándar de usar un módulo definido por otros programadores en nuestro código es mediante la instrucción *import*.\n",
    "Este instrucción toma muchas formas, pero la mas sencilla la hemos visto ya a lo largo de este curso, *import <nombre-de-modulo>*.\n",
    "Tenga en cuenta que esto no hace que el contenido del módulo sea directamente accesible para quien lo llama. \n",
    "Cada módulo tiene su propia tabla de símbolos privada (es decir, sus propias clases, métodos y variables con sus nombres concret), que sirve como tabla de símbolos global para todos los objetos definidos en el módulo. Por lo tanto, un módulo crea un espacio de nombres separado. Por ejemplo, al importar el módulo de manejo de fechas, debemos volver a poner el nombre del paquete delante del nombre de la clase para crear un objeto de tipo fecha:\n",
    "    \n",
    "\n",
    "\n"
   ]
  },
  {
   "cell_type": "code",
   "execution_count": 1,
   "id": "3c734e27-1c8e-4f02-9199-c9b208acd192",
   "metadata": {},
   "outputs": [
    {
     "name": "stdout",
     "output_type": "stream",
     "text": [
      "2022-06-19 19:20:35.295406\n"
     ]
    }
   ],
   "source": [
    "import datetime\n",
    "\n",
    "ahora = datetime.datetime.now()\n",
    "print(ahora)"
   ]
  },
  {
   "cell_type": "markdown",
   "id": "87f0dda5-860a-4324-ab19-76055af2d1a0",
   "metadata": {},
   "source": [
    "En el código que crear la fecha, el primer *datetime* especifica el módulo, el segundo *datetime* especifica la clase concreta de este módulo, y el *now()* especifica el método de clase concreto a invocar.\n",
    "\n",
    "Existe una manera alternativa de importar clases o métodos individuales de manera directa en nuestro espacio de nombres, que toma la siguiente forma: *from <nombre_de_modulo> import <nombre(s)_de_clase(s)_o_funcion(es)>*. Veamos un ejemplo:"
   ]
  },
  {
   "cell_type": "code",
   "execution_count": 2,
   "id": "6efa1ee0-2a4c-491a-9285-9688782b4381",
   "metadata": {},
   "outputs": [
    {
     "name": "stdout",
     "output_type": "stream",
     "text": [
      "2022-06-19 19:26:17.670873\n"
     ]
    }
   ],
   "source": [
    "from datetime import datetime\n",
    "\n",
    "ahora = datetime.now()\n",
    "print(ahora)"
   ]
  },
  {
   "cell_type": "markdown",
   "id": "bcb6fd50-7e8d-407e-a36a-f19f48ec0432",
   "metadata": {},
   "source": [
    "En la celda anterior hemos importado concretamente la clase datetime en nuestro espacio de nombres directamente, por lo que ya no es necesario poner el prefijo del módulo al que pertenece para usarla.\n",
    "\n",
    "Incluso es posible importar todos los elementos importados en el paquete con la siguiente instrucción: _from \\<nombre_paquete\\> import *_. Sin embargo esta es una práctica que está desaconsejada en general.\n",
    "\n",
    "También es posible importar objetos individuales pero ponerlos en la tabla de símbolos local con nombres alternativos o aliases utilizando la siguiente sintaxis: *from \\<nombre_paquete\\> import \\<nombre_de_clase_o_funcion\\> as \\<alias\\>*"
   ]
  },
  {
   "cell_type": "code",
   "execution_count": 3,
   "id": "358cdc2d-b1ab-424e-aab8-648cc3e5aca8",
   "metadata": {},
   "outputs": [
    {
     "name": "stdout",
     "output_type": "stream",
     "text": [
      "2022-06-19 19:48:39.809356\n"
     ]
    }
   ],
   "source": [
    "from datetime import datetime as dt\n",
    "\n",
    "ahora = dt.now()\n",
    "print(ahora)"
   ]
  },
  {
   "cell_type": "markdown",
   "id": "9263e031-ca65-42ac-86d1-9a9bfd030a73",
   "metadata": {},
   "source": [
    "Finalmente, podemos importar el módulo completo con un nombre alternativo:"
   ]
  },
  {
   "cell_type": "code",
   "execution_count": 4,
   "id": "b816b52f-61af-4970-be84-af7e1c4a1a6e",
   "metadata": {},
   "outputs": [
    {
     "name": "stdout",
     "output_type": "stream",
     "text": [
      "2022-06-19 19:49:57.822640\n"
     ]
    }
   ],
   "source": [
    "import datetime as d\n",
    "\n",
    "ahora = d.datetime.now()\n",
    "print(ahora)"
   ]
  },
  {
   "cell_type": "markdown",
   "id": "d524dcfd-7807-431b-a109-8041857c798b",
   "metadata": {},
   "source": [
    "Hay que tener cuidado, porque para poder importar un módulo ese módulo debe estar instalado en el sistema:"
   ]
  },
  {
   "cell_type": "code",
   "execution_count": 5,
   "id": "8e8d147e-a8a5-4357-b598-044bfb0db0f0",
   "metadata": {},
   "outputs": [
    {
     "ename": "ModuleNotFoundError",
     "evalue": "No module named 'estemodulonoexiste'",
     "output_type": "error",
     "traceback": [
      "\u001b[1;31m---------------------------------------------------------------------------\u001b[0m",
      "\u001b[1;31mModuleNotFoundError\u001b[0m                       Traceback (most recent call last)",
      "\u001b[1;32m~\\AppData\\Local\\Temp/ipykernel_14164/1591445585.py\u001b[0m in \u001b[0;36m<module>\u001b[1;34m\u001b[0m\n\u001b[1;32m----> 1\u001b[1;33m \u001b[1;32mimport\u001b[0m \u001b[0mestemodulonoexiste\u001b[0m\u001b[1;33m\u001b[0m\u001b[1;33m\u001b[0m\u001b[0m\n\u001b[0m",
      "\u001b[1;31mModuleNotFoundError\u001b[0m: No module named 'estemodulonoexiste'"
     ]
    }
   ],
   "source": [
    "import estemodulonoexiste"
   ]
  },
  {
   "cell_type": "markdown",
   "id": "4d8310be-140b-480b-980a-72cbe729805e",
   "metadata": {},
   "source": [
    "Para evitar estos problemas, podemos utilizar una sentencia try con un except ImportError para protegernos de los intentos fallidos de importación:"
   ]
  },
  {
   "cell_type": "code",
   "execution_count": 6,
   "id": "4dced3b2-e36c-4c5b-92c9-ad2e689be7d5",
   "metadata": {},
   "outputs": [
    {
     "name": "stdout",
     "output_type": "stream",
     "text": [
      "Module not found\n"
     ]
    }
   ],
   "source": [
    "try:\n",
    "    # Non-existent module\n",
    "    import foo\n",
    "except ImportError:\n",
    "    print('Module not found')"
   ]
  },
  {
   "cell_type": "markdown",
   "id": "0ffd5c28-49eb-4af8-9a31-d4ed26b57ed8",
   "metadata": {},
   "source": [
    "La función *dir* proporciona una lista de los elementos definidos en espacio de nombres (normalmente se usa para ver lo que hay en un módulo):"
   ]
  },
  {
   "cell_type": "code",
   "execution_count": 7,
   "id": "4f108448-4c41-40f6-9a06-e9623bc14f7a",
   "metadata": {},
   "outputs": [
    {
     "data": {
      "text/plain": [
       "['__add__',\n",
       " '__class__',\n",
       " '__delattr__',\n",
       " '__dir__',\n",
       " '__doc__',\n",
       " '__eq__',\n",
       " '__format__',\n",
       " '__ge__',\n",
       " '__getattribute__',\n",
       " '__gt__',\n",
       " '__hash__',\n",
       " '__init__',\n",
       " '__init_subclass__',\n",
       " '__le__',\n",
       " '__lt__',\n",
       " '__ne__',\n",
       " '__new__',\n",
       " '__radd__',\n",
       " '__reduce__',\n",
       " '__reduce_ex__',\n",
       " '__repr__',\n",
       " '__rsub__',\n",
       " '__setattr__',\n",
       " '__sizeof__',\n",
       " '__str__',\n",
       " '__sub__',\n",
       " '__subclasshook__',\n",
       " 'astimezone',\n",
       " 'combine',\n",
       " 'ctime',\n",
       " 'date',\n",
       " 'day',\n",
       " 'dst',\n",
       " 'fold',\n",
       " 'fromisocalendar',\n",
       " 'fromisoformat',\n",
       " 'fromordinal',\n",
       " 'fromtimestamp',\n",
       " 'hour',\n",
       " 'isocalendar',\n",
       " 'isoformat',\n",
       " 'isoweekday',\n",
       " 'max',\n",
       " 'microsecond',\n",
       " 'min',\n",
       " 'minute',\n",
       " 'month',\n",
       " 'now',\n",
       " 'replace',\n",
       " 'resolution',\n",
       " 'second',\n",
       " 'strftime',\n",
       " 'strptime',\n",
       " 'time',\n",
       " 'timestamp',\n",
       " 'timetuple',\n",
       " 'timetz',\n",
       " 'today',\n",
       " 'toordinal',\n",
       " 'tzinfo',\n",
       " 'tzname',\n",
       " 'utcfromtimestamp',\n",
       " 'utcnow',\n",
       " 'utcoffset',\n",
       " 'utctimetuple',\n",
       " 'weekday',\n",
       " 'year']"
      ]
     },
     "execution_count": 7,
     "metadata": {},
     "output_type": "execute_result"
    }
   ],
   "source": [
    "dir(datetime)"
   ]
  },
  {
   "cell_type": "markdown",
   "id": "ca54258b-aaa5-491c-93c5-8b8a7b8de200",
   "metadata": {},
   "source": [
    "Esta función puede usarse para obtener el conjunto de variables y funciones definidos en el espacio de nombres general:"
   ]
  },
  {
   "cell_type": "code",
   "execution_count": 8,
   "id": "14bd30b0-0e96-4ba7-b717-fd9e4b6ecfbd",
   "metadata": {},
   "outputs": [
    {
     "data": {
      "text/plain": [
       "['In',\n",
       " 'Out',\n",
       " '_',\n",
       " '_7',\n",
       " '__',\n",
       " '___',\n",
       " '__builtin__',\n",
       " '__builtins__',\n",
       " '__doc__',\n",
       " '__loader__',\n",
       " '__name__',\n",
       " '__package__',\n",
       " '__spec__',\n",
       " '_dh',\n",
       " '_i',\n",
       " '_i1',\n",
       " '_i2',\n",
       " '_i3',\n",
       " '_i4',\n",
       " '_i5',\n",
       " '_i6',\n",
       " '_i7',\n",
       " '_i8',\n",
       " '_ih',\n",
       " '_ii',\n",
       " '_iii',\n",
       " '_oh',\n",
       " 'ahora',\n",
       " 'd',\n",
       " 'datetime',\n",
       " 'dt',\n",
       " 'exit',\n",
       " 'get_ipython',\n",
       " 'quit']"
      ]
     },
     "execution_count": 8,
     "metadata": {},
     "output_type": "execute_result"
    }
   ],
   "source": [
    "dir()"
   ]
  },
  {
   "cell_type": "markdown",
   "id": "a46a500f-925d-4cc7-a8c4-0ee77ff377fe",
   "metadata": {},
   "source": [
    "## Paquetes y gestores de paquetes\n",
    "\n",
    "Los paquetes permiten una estructuración jerárquica del espacio de nombres de los módulos utilizando la notación de puntos. De la misma manera que los módulos ayudan a evitar colisiones entre nombres de variables globales, los paquetes ayudan a evitar colisiones entre nombres de módulos.\n",
    "\n",
    "La creación de un paquete es bastante sencilla, ya que hace uso de la estructura jerárquica de archivos inherente al sistema operativo mediante carpetas.\n",
    "\n",
    "<img src=\"https://files.realpython.com/media/pkg1.9af1c7aea48f.png\">\n",
    "\n",
    "Para instalar paquetes en nuestra instalación de python debemos usar un gestor de paquetes."
   ]
  },
  {
   "cell_type": "markdown",
   "id": "00e40422-ce8e-407b-92c7-4ac30d6f1720",
   "metadata": {},
   "source": [
    "### Pip\n",
    "\n",
    "El gestor de paquetes en línea de comandos más popular de python es pip. Pip permite listar, instalar, actualizar y desinstalar paquetes.\n",
    "\n",
    "Por ejemplo, podemos visualizar la versión de pip actualmente instalada con el comando: *pip --version*\n",
    "\n",
    "Instalar paquetes con pip es muy sencillo, por ejemplo, para instalar un paquete llamado camelcase pondríamos: *pip install camelcase*\n",
    "\n",
    "Una vez instalado el paquete ya podemos importarlo y hacer uso de su funcionalidad\n"
   ]
  },
  {
   "cell_type": "code",
   "execution_count": 11,
   "id": "45ba126b-0ad7-469c-94a9-ed4172b290ba",
   "metadata": {},
   "outputs": [
    {
     "ename": "ModuleNotFoundError",
     "evalue": "No module named 'camelcase'",
     "output_type": "error",
     "traceback": [
      "\u001b[1;31m---------------------------------------------------------------------------\u001b[0m",
      "\u001b[1;31mModuleNotFoundError\u001b[0m                       Traceback (most recent call last)",
      "\u001b[1;32m~\\AppData\\Local\\Temp/ipykernel_14164/1250584956.py\u001b[0m in \u001b[0;36m<module>\u001b[1;34m\u001b[0m\n\u001b[1;32m----> 1\u001b[1;33m \u001b[1;32mimport\u001b[0m \u001b[0mcamelcase\u001b[0m\u001b[1;33m\u001b[0m\u001b[1;33m\u001b[0m\u001b[0m\n\u001b[0m\u001b[0;32m      2\u001b[0m \u001b[1;33m\u001b[0m\u001b[0m\n\u001b[0;32m      3\u001b[0m \u001b[0mc\u001b[0m \u001b[1;33m=\u001b[0m \u001b[0mcamelcase\u001b[0m\u001b[1;33m.\u001b[0m\u001b[0mCamelCase\u001b[0m\u001b[1;33m(\u001b[0m\u001b[1;33m)\u001b[0m\u001b[1;33m\u001b[0m\u001b[1;33m\u001b[0m\u001b[0m\n\u001b[0;32m      4\u001b[0m \u001b[1;33m\u001b[0m\u001b[0m\n\u001b[0;32m      5\u001b[0m \u001b[0mtxt\u001b[0m \u001b[1;33m=\u001b[0m \u001b[1;34m\"hello world\"\u001b[0m\u001b[1;33m\u001b[0m\u001b[1;33m\u001b[0m\u001b[0m\n",
      "\u001b[1;31mModuleNotFoundError\u001b[0m: No module named 'camelcase'"
     ]
    }
   ],
   "source": [
    "import camelcase\n",
    "\n",
    "c = camelcase.CamelCase()\n",
    "\n",
    "txt = \"hello world\"\n",
    "\n",
    "print(c.hump(txt)) "
   ]
  },
  {
   "cell_type": "markdown",
   "id": "515e9aa9-67b9-4e8e-8a81-75b24ed49b85",
   "metadata": {},
   "source": [
    "Podemos incluso listar el conjunto de paquetes instalados actualmente en el sistema con: *pip list*\n",
    "\n",
    "### Anaconda\n",
    "\n",
    "Anaconda por el contrario incorpora una interfaz de usuario enormemente cómoda y funcional para visualizar, buscar, instalar, actualizar y desinstalar paquetes."
   ]
  },
  {
   "cell_type": "markdown",
   "id": "8fb28dea-cb72-4520-8cd3-774409d3349e",
   "metadata": {},
   "source": [
    "### Algunos paquetes de interés\n",
    "\n",
    "Hoy en día existen miles de librerías útiles que se distribuyen como paquetes en Python. Daré sólo algunos ejemplos:\n",
    "\n",
    "La biblioteca <b>Matplotlib</b> es una biblioteca estándar para generar visualizaciones de datos en Python. Admite la construcción de gráficos bidimensionales básicos, así como visualizaciones animadas e interactivas más complejas.\n",
    "\n",
    "<b>PyTorch</b> es una biblioteca de aprendizaje profundo de código abierto creada por el laboratorio de investigación de IA de Facebook para implementar redes neuronales avanzadas e ideas de investigación de vanguardia en la industria y el mundo académico.\n",
    "\n",
    "<b>Pygame</b> proporciona a los desarrolladores toneladas de características y herramientas convenientes para hacer del desarrollo de juegos una tarea más intuitiva."
   ]
  },
  {
   "cell_type": "markdown",
   "id": "f7a0ece4-4129-4a27-a295-8c3bc7b22c75",
   "metadata": {},
   "source": [
    "## Entornos virtuales\n",
    "\n",
    "Los paquetes que instalamos en nuestra máquina tienen siempre un número de versión asociado que va cambiando conforme los desarrolladores del paquete van resolviendo errores y añadiendo/modificando la funcionalidad definida en el paquete.\n",
    "\n",
    "Desgraciadamente, los cambios en la funcionalidad ofrecida por el paquete pueden conllevar que el código que funcionaba en una versión concreta no lo haga en otra. Por ello, para asegurarnos de que nuestro código funciona los paquetes de python debe tener una versión concreta y determinada, pero... *¿Qué pasa si en otro proyecto/artículo necesito hacer uso de una funcionalidad que solamente está disponible en otra versión distinta de la que tengo instalada?* Si actualizo, el resto del código puede dejar de funcionar, pero si no lo hago no podré usar la funcionalidad que necesido en el nuevo proyecto/artículo. La respuesta a toda esta problemática son los entornos virtuales.\n",
    "\n",
    "Cada entorno puede utilizar diferentes versiones de dependencias de paquetes e incluso de Python. Una vez que hayas aprendido a trabajar con entornos virtuales, sabrás cómo ayudar a otros programadores a reproducir tu configuración de desarrollo, y te asegurarás de que tus proyectos nunca causen conflictos de dependencias entre sí.\n",
    "\n",
    "Existen dos maneras distintas de trabajar con entornos virtuales: mediante el paquete venv y sus funciones asociadas, o mediante la configuración de entornos de Anaconda.\n",
    "\n",
    "En nuestro caso usaremos la configuración de entornos de Anaconda.\n"
   ]
  }
 ],
 "metadata": {
  "kernelspec": {
   "display_name": "Python 3 (ipykernel)",
   "language": "python",
   "name": "python3"
  },
  "language_info": {
   "codemirror_mode": {
    "name": "ipython",
    "version": 3
   },
   "file_extension": ".py",
   "mimetype": "text/x-python",
   "name": "python",
   "nbconvert_exporter": "python",
   "pygments_lexer": "ipython3",
   "version": "3.9.7"
  }
 },
 "nbformat": 4,
 "nbformat_minor": 5
}
