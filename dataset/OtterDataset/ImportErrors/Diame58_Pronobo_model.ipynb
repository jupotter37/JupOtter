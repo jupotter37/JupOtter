{
 "cells": [
  {
   "metadata": {
    "ExecuteTime": {
     "end_time": "2024-07-04T15:55:55.904285Z",
     "start_time": "2024-07-04T15:55:55.898639Z"
    }
   },
   "cell_type": "code",
   "source": [
    "import os\n",
    "\n",
    "import numpy as np\n",
    "import pandas as pd\n",
    "import seaborn as sns\n",
    "import tensorflow as tf\n",
    "from tensorflow import keras\n",
    "import librosa\n",
    "import librosa.display\n",
    "\n",
    "import plotly.express as px\n",
    "import IPython.display as ipd\n",
    "import matplotlib.pyplot as plt\n",
    "import plotly.graph_objects as go\n",
    "\n",
    "from tqdm import tqdm, trange\n",
    "from librosa import feature, amplitude_to_db, load\n",
    "\n",
    "from tqdm.auto import tqdm\n",
    "from plotly.subplots import make_subplots\n",
    "\n",
    "from sklearn.metrics import classification_report\n",
    "from sklearn.preprocessing import MinMaxScaler, LabelEncoder\n",
    "from sklearn.model_selection import train_test_split, GridSearchCV\n",
    "\n",
    "from tensorflow.keras.utils import to_categorical\n",
    "from tensorflow.keras.models import Sequential\n",
    "from tensorflow.keras.layers import Dense , Activation , Dropout\n",
    "\n",
    "pd.plotting.register_matplotlib_converters()\n",
    "\n",
    "%matplotlib inline"
   ],
   "id": "cc2cce82ee0c1ba2",
   "outputs": [],
   "execution_count": 6
  },
  {
   "metadata": {
    "ExecuteTime": {
     "end_time": "2024-07-04T15:56:00.131678Z",
     "start_time": "2024-07-04T15:56:00.117048Z"
    }
   },
   "cell_type": "code",
   "source": [
    "data_path = 'C:\\\\Users\\\\sojou\\\\archive\\\\UrbanSound8K.csv'\n",
    "df = pd.read_csv(data_path)\n",
    "df.head()"
   ],
   "id": "32ad615b46278adf",
   "outputs": [
    {
     "data": {
      "text/plain": [
       "      slice_file_name    fsID  start        end  salience  fold  classID  \\\n",
       "0    100032-3-0-0.wav  100032    0.0   0.317551         1     5        3   \n",
       "1  100263-2-0-117.wav  100263   58.5  62.500000         1     5        2   \n",
       "2  100263-2-0-121.wav  100263   60.5  64.500000         1     5        2   \n",
       "3  100263-2-0-126.wav  100263   63.0  67.000000         1     5        2   \n",
       "4  100263-2-0-137.wav  100263   68.5  72.500000         1     5        2   \n",
       "\n",
       "              class  \n",
       "0          dog_bark  \n",
       "1  children_playing  \n",
       "2  children_playing  \n",
       "3  children_playing  \n",
       "4  children_playing  "
      ],
      "text/html": [
       "<div>\n",
       "<style scoped>\n",
       "    .dataframe tbody tr th:only-of-type {\n",
       "        vertical-align: middle;\n",
       "    }\n",
       "\n",
       "    .dataframe tbody tr th {\n",
       "        vertical-align: top;\n",
       "    }\n",
       "\n",
       "    .dataframe thead th {\n",
       "        text-align: right;\n",
       "    }\n",
       "</style>\n",
       "<table border=\"1\" class=\"dataframe\">\n",
       "  <thead>\n",
       "    <tr style=\"text-align: right;\">\n",
       "      <th></th>\n",
       "      <th>slice_file_name</th>\n",
       "      <th>fsID</th>\n",
       "      <th>start</th>\n",
       "      <th>end</th>\n",
       "      <th>salience</th>\n",
       "      <th>fold</th>\n",
       "      <th>classID</th>\n",
       "      <th>class</th>\n",
       "    </tr>\n",
       "  </thead>\n",
       "  <tbody>\n",
       "    <tr>\n",
       "      <th>0</th>\n",
       "      <td>100032-3-0-0.wav</td>\n",
       "      <td>100032</td>\n",
       "      <td>0.0</td>\n",
       "      <td>0.317551</td>\n",
       "      <td>1</td>\n",
       "      <td>5</td>\n",
       "      <td>3</td>\n",
       "      <td>dog_bark</td>\n",
       "    </tr>\n",
       "    <tr>\n",
       "      <th>1</th>\n",
       "      <td>100263-2-0-117.wav</td>\n",
       "      <td>100263</td>\n",
       "      <td>58.5</td>\n",
       "      <td>62.500000</td>\n",
       "      <td>1</td>\n",
       "      <td>5</td>\n",
       "      <td>2</td>\n",
       "      <td>children_playing</td>\n",
       "    </tr>\n",
       "    <tr>\n",
       "      <th>2</th>\n",
       "      <td>100263-2-0-121.wav</td>\n",
       "      <td>100263</td>\n",
       "      <td>60.5</td>\n",
       "      <td>64.500000</td>\n",
       "      <td>1</td>\n",
       "      <td>5</td>\n",
       "      <td>2</td>\n",
       "      <td>children_playing</td>\n",
       "    </tr>\n",
       "    <tr>\n",
       "      <th>3</th>\n",
       "      <td>100263-2-0-126.wav</td>\n",
       "      <td>100263</td>\n",
       "      <td>63.0</td>\n",
       "      <td>67.000000</td>\n",
       "      <td>1</td>\n",
       "      <td>5</td>\n",
       "      <td>2</td>\n",
       "      <td>children_playing</td>\n",
       "    </tr>\n",
       "    <tr>\n",
       "      <th>4</th>\n",
       "      <td>100263-2-0-137.wav</td>\n",
       "      <td>100263</td>\n",
       "      <td>68.5</td>\n",
       "      <td>72.500000</td>\n",
       "      <td>1</td>\n",
       "      <td>5</td>\n",
       "      <td>2</td>\n",
       "      <td>children_playing</td>\n",
       "    </tr>\n",
       "  </tbody>\n",
       "</table>\n",
       "</div>"
      ]
     },
     "execution_count": 7,
     "metadata": {},
     "output_type": "execute_result"
    }
   ],
   "execution_count": 7
  },
  {
   "metadata": {
    "ExecuteTime": {
     "end_time": "2024-07-04T15:56:01.127266Z",
     "start_time": "2024-07-04T15:56:00.966679Z"
    }
   },
   "cell_type": "code",
   "source": [
    "sample_path = []\n",
    "path = 'C:\\\\Users\\\\sojou\\\\archive\\\\'\n",
    "\n",
    "for index_num,row in tqdm(df.iterrows()):\n",
    "    file_name = os.path.join(os.path.abspath(path),'fold'+str(row[\"fold\"])+'/',str(row['slice_file_name']))    \n",
    "    sample_path.append(file_name)\n",
    "df['path'] = sample_path"
   ],
   "id": "2d035208080dde53",
   "outputs": [
    {
     "data": {
      "text/plain": [
       "0it [00:00, ?it/s]"
      ],
      "application/vnd.jupyter.widget-view+json": {
       "version_major": 2,
       "version_minor": 0,
       "model_id": "52f109f9baaf472d840cd27cb4d9f36d"
      }
     },
     "metadata": {},
     "output_type": "display_data"
    }
   ],
   "execution_count": 8
  },
  {
   "metadata": {
    "ExecuteTime": {
     "end_time": "2024-07-04T15:56:01.515708Z",
     "start_time": "2024-07-04T15:56:01.511353Z"
    }
   },
   "cell_type": "code",
   "source": [
    "count1 = (df['class'] == \"car_horn\").sum()\n",
    "count3 = (df['class'] == \"dog_bark\").sum()\n",
    "count8 = (df['class'] == \"siren\").sum()\n",
    "print(count1,count3,count8)\n",
    "#클래스1,3,8인 경우의 데이터 개수"
   ],
   "id": "c98b6dfc434163e",
   "outputs": [
    {
     "name": "stdout",
     "output_type": "stream",
     "text": [
      "429 1000 929\n"
     ]
    }
   ],
   "execution_count": 9
  },
  {
   "metadata": {
    "ExecuteTime": {
     "end_time": "2024-07-04T15:56:01.839224Z",
     "start_time": "2024-07-04T15:56:01.827863Z"
    }
   },
   "cell_type": "code",
   "source": [
    "target_count = count1\n",
    "\n",
    "car_horn_data = df[df['class'] == \"car_horn\"]\n",
    "dog_bark_data = df[df['class'] == \"dog_bark\"]\n",
    "siren_data = df[df['class'] == \"siren\"]\n",
    "\n",
    "car_horn_sampled = car_horn_data.sample(n=target_count, random_state=42)\n",
    "dog_bark_sampled = dog_bark_data.sample(n=target_count, random_state=42)\n",
    "siren_sampled = siren_data.sample(n=target_count, random_state=42)\n",
    "\n",
    "# 클래스 1의 데이터와 샘플링한 클래스 3과 8의 데이터를 합치기\n",
    "df1 = pd.concat([car_horn_sampled, dog_bark_sampled, siren_sampled])\n",
    "df1"
   ],
   "id": "762de67f139439b4",
   "outputs": [
    {
     "data": {
      "text/plain": [
       "       slice_file_name    fsID      start        end  salience  fold  classID  \\\n",
       "8724   99812-1-0-1.wav   99812  38.676254  42.676254         2     7        1   \n",
       "3440   17074-1-0-0.wav   17074   3.540527   4.403714         2    10        1   \n",
       "5149  199769-1-0-6.wav  199769   3.848273   7.848273         1     3        1   \n",
       "1311  132073-1-4-0.wav  132073   8.310243   9.094228         2     2        1   \n",
       "7602   72567-1-4-7.wav   72567  58.180670  62.180670         2     2        1   \n",
       "...                ...     ...        ...        ...       ...   ...      ...   \n",
       "5773  24347-8-0-27.wav   24347  17.620371  21.620371         2     4        8   \n",
       "6409   42117-8-0-0.wav   42117  88.660252  92.660252         2     3        8   \n",
       "5780  24347-8-0-33.wav   24347  20.620371  24.620371         2     4        8   \n",
       "2675  159745-8-1-3.wav  159745   3.199906   7.199906         2     9        8   \n",
       "2475  157866-8-0-6.wav  157866   3.000000   7.000000         1     9        8   \n",
       "\n",
       "         class                                           path  \n",
       "8724  car_horn   C:\\Users\\sojou\\archive\\fold7/99812-1-0-1.wav  \n",
       "3440  car_horn  C:\\Users\\sojou\\archive\\fold10/17074-1-0-0.wav  \n",
       "5149  car_horn  C:\\Users\\sojou\\archive\\fold3/199769-1-0-6.wav  \n",
       "1311  car_horn  C:\\Users\\sojou\\archive\\fold2/132073-1-4-0.wav  \n",
       "7602  car_horn   C:\\Users\\sojou\\archive\\fold2/72567-1-4-7.wav  \n",
       "...        ...                                            ...  \n",
       "5773     siren  C:\\Users\\sojou\\archive\\fold4/24347-8-0-27.wav  \n",
       "6409     siren   C:\\Users\\sojou\\archive\\fold3/42117-8-0-0.wav  \n",
       "5780     siren  C:\\Users\\sojou\\archive\\fold4/24347-8-0-33.wav  \n",
       "2675     siren  C:\\Users\\sojou\\archive\\fold9/159745-8-1-3.wav  \n",
       "2475     siren  C:\\Users\\sojou\\archive\\fold9/157866-8-0-6.wav  \n",
       "\n",
       "[1287 rows x 9 columns]"
      ],
      "text/html": [
       "<div>\n",
       "<style scoped>\n",
       "    .dataframe tbody tr th:only-of-type {\n",
       "        vertical-align: middle;\n",
       "    }\n",
       "\n",
       "    .dataframe tbody tr th {\n",
       "        vertical-align: top;\n",
       "    }\n",
       "\n",
       "    .dataframe thead th {\n",
       "        text-align: right;\n",
       "    }\n",
       "</style>\n",
       "<table border=\"1\" class=\"dataframe\">\n",
       "  <thead>\n",
       "    <tr style=\"text-align: right;\">\n",
       "      <th></th>\n",
       "      <th>slice_file_name</th>\n",
       "      <th>fsID</th>\n",
       "      <th>start</th>\n",
       "      <th>end</th>\n",
       "      <th>salience</th>\n",
       "      <th>fold</th>\n",
       "      <th>classID</th>\n",
       "      <th>class</th>\n",
       "      <th>path</th>\n",
       "    </tr>\n",
       "  </thead>\n",
       "  <tbody>\n",
       "    <tr>\n",
       "      <th>8724</th>\n",
       "      <td>99812-1-0-1.wav</td>\n",
       "      <td>99812</td>\n",
       "      <td>38.676254</td>\n",
       "      <td>42.676254</td>\n",
       "      <td>2</td>\n",
       "      <td>7</td>\n",
       "      <td>1</td>\n",
       "      <td>car_horn</td>\n",
       "      <td>C:\\Users\\sojou\\archive\\fold7/99812-1-0-1.wav</td>\n",
       "    </tr>\n",
       "    <tr>\n",
       "      <th>3440</th>\n",
       "      <td>17074-1-0-0.wav</td>\n",
       "      <td>17074</td>\n",
       "      <td>3.540527</td>\n",
       "      <td>4.403714</td>\n",
       "      <td>2</td>\n",
       "      <td>10</td>\n",
       "      <td>1</td>\n",
       "      <td>car_horn</td>\n",
       "      <td>C:\\Users\\sojou\\archive\\fold10/17074-1-0-0.wav</td>\n",
       "    </tr>\n",
       "    <tr>\n",
       "      <th>5149</th>\n",
       "      <td>199769-1-0-6.wav</td>\n",
       "      <td>199769</td>\n",
       "      <td>3.848273</td>\n",
       "      <td>7.848273</td>\n",
       "      <td>1</td>\n",
       "      <td>3</td>\n",
       "      <td>1</td>\n",
       "      <td>car_horn</td>\n",
       "      <td>C:\\Users\\sojou\\archive\\fold3/199769-1-0-6.wav</td>\n",
       "    </tr>\n",
       "    <tr>\n",
       "      <th>1311</th>\n",
       "      <td>132073-1-4-0.wav</td>\n",
       "      <td>132073</td>\n",
       "      <td>8.310243</td>\n",
       "      <td>9.094228</td>\n",
       "      <td>2</td>\n",
       "      <td>2</td>\n",
       "      <td>1</td>\n",
       "      <td>car_horn</td>\n",
       "      <td>C:\\Users\\sojou\\archive\\fold2/132073-1-4-0.wav</td>\n",
       "    </tr>\n",
       "    <tr>\n",
       "      <th>7602</th>\n",
       "      <td>72567-1-4-7.wav</td>\n",
       "      <td>72567</td>\n",
       "      <td>58.180670</td>\n",
       "      <td>62.180670</td>\n",
       "      <td>2</td>\n",
       "      <td>2</td>\n",
       "      <td>1</td>\n",
       "      <td>car_horn</td>\n",
       "      <td>C:\\Users\\sojou\\archive\\fold2/72567-1-4-7.wav</td>\n",
       "    </tr>\n",
       "    <tr>\n",
       "      <th>...</th>\n",
       "      <td>...</td>\n",
       "      <td>...</td>\n",
       "      <td>...</td>\n",
       "      <td>...</td>\n",
       "      <td>...</td>\n",
       "      <td>...</td>\n",
       "      <td>...</td>\n",
       "      <td>...</td>\n",
       "      <td>...</td>\n",
       "    </tr>\n",
       "    <tr>\n",
       "      <th>5773</th>\n",
       "      <td>24347-8-0-27.wav</td>\n",
       "      <td>24347</td>\n",
       "      <td>17.620371</td>\n",
       "      <td>21.620371</td>\n",
       "      <td>2</td>\n",
       "      <td>4</td>\n",
       "      <td>8</td>\n",
       "      <td>siren</td>\n",
       "      <td>C:\\Users\\sojou\\archive\\fold4/24347-8-0-27.wav</td>\n",
       "    </tr>\n",
       "    <tr>\n",
       "      <th>6409</th>\n",
       "      <td>42117-8-0-0.wav</td>\n",
       "      <td>42117</td>\n",
       "      <td>88.660252</td>\n",
       "      <td>92.660252</td>\n",
       "      <td>2</td>\n",
       "      <td>3</td>\n",
       "      <td>8</td>\n",
       "      <td>siren</td>\n",
       "      <td>C:\\Users\\sojou\\archive\\fold3/42117-8-0-0.wav</td>\n",
       "    </tr>\n",
       "    <tr>\n",
       "      <th>5780</th>\n",
       "      <td>24347-8-0-33.wav</td>\n",
       "      <td>24347</td>\n",
       "      <td>20.620371</td>\n",
       "      <td>24.620371</td>\n",
       "      <td>2</td>\n",
       "      <td>4</td>\n",
       "      <td>8</td>\n",
       "      <td>siren</td>\n",
       "      <td>C:\\Users\\sojou\\archive\\fold4/24347-8-0-33.wav</td>\n",
       "    </tr>\n",
       "    <tr>\n",
       "      <th>2675</th>\n",
       "      <td>159745-8-1-3.wav</td>\n",
       "      <td>159745</td>\n",
       "      <td>3.199906</td>\n",
       "      <td>7.199906</td>\n",
       "      <td>2</td>\n",
       "      <td>9</td>\n",
       "      <td>8</td>\n",
       "      <td>siren</td>\n",
       "      <td>C:\\Users\\sojou\\archive\\fold9/159745-8-1-3.wav</td>\n",
       "    </tr>\n",
       "    <tr>\n",
       "      <th>2475</th>\n",
       "      <td>157866-8-0-6.wav</td>\n",
       "      <td>157866</td>\n",
       "      <td>3.000000</td>\n",
       "      <td>7.000000</td>\n",
       "      <td>1</td>\n",
       "      <td>9</td>\n",
       "      <td>8</td>\n",
       "      <td>siren</td>\n",
       "      <td>C:\\Users\\sojou\\archive\\fold9/157866-8-0-6.wav</td>\n",
       "    </tr>\n",
       "  </tbody>\n",
       "</table>\n",
       "<p>1287 rows × 9 columns</p>\n",
       "</div>"
      ]
     },
     "execution_count": 10,
     "metadata": {},
     "output_type": "execute_result"
    }
   ],
   "execution_count": 10
  },
  {
   "metadata": {
    "ExecuteTime": {
     "end_time": "2024-07-04T15:56:02.931440Z",
     "start_time": "2024-07-04T15:56:02.307801Z"
    }
   },
   "cell_type": "code",
   "source": [
    "def features_extract(file):\n",
    "    sample,sample_rate = librosa.load(file_name,res_type='kaiser_fast')\n",
    "    feature = librosa.feature.mfcc(y=sample,sr=sample_rate,n_mfcc=50)\n",
    "    scaled_feature = np.mean(feature.T,axis=0)\n",
    "    return scaled_feature\n",
    "\n",
    "extracted = []\n",
    "path = 'C:\\\\Users\\\\sojou\\\\archive'\n",
    "\n",
    "for index_num,row in tqdm(df.iterrows()):\n",
    "    file_name = os.path.join(os.path.abspath(path),'fold'+str(row[\"fold\"])+'/',str(row['slice_file_name'])) \n",
    "    final_class_labels = row['class']   \n",
    "    data= features_extract(file_name)    \n",
    "    extracted.append([data,final_class_labels])"
   ],
   "id": "4fc7818e55ca1d22",
   "outputs": [
    {
     "data": {
      "text/plain": [
       "0it [00:00, ?it/s]"
      ],
      "application/vnd.jupyter.widget-view+json": {
       "version_major": 2,
       "version_minor": 0,
       "model_id": "08a171455cc44b0f9f74dc8608d7a1a7"
      }
     },
     "metadata": {},
     "output_type": "display_data"
    },
    {
     "ename": "ModuleNotFoundError",
     "evalue": "No module named 'resampy'\n\nThis error is lazily reported, having originally occured in\n  File C:\\Users\\sojou\\PycharmProjects\\Pronobo\\.venv\\Lib\\site-packages\\librosa\\core\\audio.py, line 33, in <module>\n\n----> resampy = lazy.load(\"resampy\")",
     "output_type": "error",
     "traceback": [
      "\u001B[1;31m---------------------------------------------------------------------------\u001B[0m",
      "\u001B[1;31mModuleNotFoundError\u001B[0m                       Traceback (most recent call last)",
      "Cell \u001B[1;32mIn[11], line 13\u001B[0m\n\u001B[0;32m     11\u001B[0m file_name \u001B[38;5;241m=\u001B[39m os\u001B[38;5;241m.\u001B[39mpath\u001B[38;5;241m.\u001B[39mjoin(os\u001B[38;5;241m.\u001B[39mpath\u001B[38;5;241m.\u001B[39mabspath(path),\u001B[38;5;124m'\u001B[39m\u001B[38;5;124mfold\u001B[39m\u001B[38;5;124m'\u001B[39m\u001B[38;5;241m+\u001B[39m\u001B[38;5;28mstr\u001B[39m(row[\u001B[38;5;124m\"\u001B[39m\u001B[38;5;124mfold\u001B[39m\u001B[38;5;124m\"\u001B[39m])\u001B[38;5;241m+\u001B[39m\u001B[38;5;124m'\u001B[39m\u001B[38;5;124m/\u001B[39m\u001B[38;5;124m'\u001B[39m,\u001B[38;5;28mstr\u001B[39m(row[\u001B[38;5;124m'\u001B[39m\u001B[38;5;124mslice_file_name\u001B[39m\u001B[38;5;124m'\u001B[39m])) \n\u001B[0;32m     12\u001B[0m final_class_labels \u001B[38;5;241m=\u001B[39m row[\u001B[38;5;124m'\u001B[39m\u001B[38;5;124mclass\u001B[39m\u001B[38;5;124m'\u001B[39m]   \n\u001B[1;32m---> 13\u001B[0m data\u001B[38;5;241m=\u001B[39m \u001B[43mfeatures_extract\u001B[49m\u001B[43m(\u001B[49m\u001B[43mfile_name\u001B[49m\u001B[43m)\u001B[49m    \n\u001B[0;32m     14\u001B[0m extracted\u001B[38;5;241m.\u001B[39mappend([data,final_class_labels])\n",
      "Cell \u001B[1;32mIn[11], line 2\u001B[0m, in \u001B[0;36mfeatures_extract\u001B[1;34m(file)\u001B[0m\n\u001B[0;32m      1\u001B[0m \u001B[38;5;28;01mdef\u001B[39;00m \u001B[38;5;21mfeatures_extract\u001B[39m(file):\n\u001B[1;32m----> 2\u001B[0m     sample,sample_rate \u001B[38;5;241m=\u001B[39m \u001B[43mlibrosa\u001B[49m\u001B[38;5;241;43m.\u001B[39;49m\u001B[43mload\u001B[49m\u001B[43m(\u001B[49m\u001B[43mfile_name\u001B[49m\u001B[43m,\u001B[49m\u001B[43mres_type\u001B[49m\u001B[38;5;241;43m=\u001B[39;49m\u001B[38;5;124;43m'\u001B[39;49m\u001B[38;5;124;43mkaiser_fast\u001B[39;49m\u001B[38;5;124;43m'\u001B[39;49m\u001B[43m)\u001B[49m\n\u001B[0;32m      3\u001B[0m     feature \u001B[38;5;241m=\u001B[39m librosa\u001B[38;5;241m.\u001B[39mfeature\u001B[38;5;241m.\u001B[39mmfcc(y\u001B[38;5;241m=\u001B[39msample,sr\u001B[38;5;241m=\u001B[39msample_rate,n_mfcc\u001B[38;5;241m=\u001B[39m\u001B[38;5;241m50\u001B[39m)\n\u001B[0;32m      4\u001B[0m     scaled_feature \u001B[38;5;241m=\u001B[39m np\u001B[38;5;241m.\u001B[39mmean(feature\u001B[38;5;241m.\u001B[39mT,axis\u001B[38;5;241m=\u001B[39m\u001B[38;5;241m0\u001B[39m)\n",
      "File \u001B[1;32m~\\PycharmProjects\\Pronobo\\.venv\\Lib\\site-packages\\librosa\\core\\audio.py:193\u001B[0m, in \u001B[0;36mload\u001B[1;34m(path, sr, mono, offset, duration, dtype, res_type)\u001B[0m\n\u001B[0;32m    190\u001B[0m     y \u001B[38;5;241m=\u001B[39m to_mono(y)\n\u001B[0;32m    192\u001B[0m \u001B[38;5;28;01mif\u001B[39;00m sr \u001B[38;5;129;01mis\u001B[39;00m \u001B[38;5;129;01mnot\u001B[39;00m \u001B[38;5;28;01mNone\u001B[39;00m:\n\u001B[1;32m--> 193\u001B[0m     y \u001B[38;5;241m=\u001B[39m \u001B[43mresample\u001B[49m\u001B[43m(\u001B[49m\u001B[43my\u001B[49m\u001B[43m,\u001B[49m\u001B[43m \u001B[49m\u001B[43morig_sr\u001B[49m\u001B[38;5;241;43m=\u001B[39;49m\u001B[43msr_native\u001B[49m\u001B[43m,\u001B[49m\u001B[43m \u001B[49m\u001B[43mtarget_sr\u001B[49m\u001B[38;5;241;43m=\u001B[39;49m\u001B[43msr\u001B[49m\u001B[43m,\u001B[49m\u001B[43m \u001B[49m\u001B[43mres_type\u001B[49m\u001B[38;5;241;43m=\u001B[39;49m\u001B[43mres_type\u001B[49m\u001B[43m)\u001B[49m\n\u001B[0;32m    195\u001B[0m \u001B[38;5;28;01melse\u001B[39;00m:\n\u001B[0;32m    196\u001B[0m     sr \u001B[38;5;241m=\u001B[39m sr_native\n",
      "File \u001B[1;32m~\\PycharmProjects\\Pronobo\\.venv\\Lib\\site-packages\\librosa\\core\\audio.py:678\u001B[0m, in \u001B[0;36mresample\u001B[1;34m(y, orig_sr, target_sr, res_type, fix, scale, axis, **kwargs)\u001B[0m\n\u001B[0;32m    669\u001B[0m     y_hat \u001B[38;5;241m=\u001B[39m np\u001B[38;5;241m.\u001B[39mapply_along_axis(\n\u001B[0;32m    670\u001B[0m         soxr\u001B[38;5;241m.\u001B[39mresample,\n\u001B[0;32m    671\u001B[0m         axis\u001B[38;5;241m=\u001B[39maxis,\n\u001B[1;32m   (...)\u001B[0m\n\u001B[0;32m    675\u001B[0m         quality\u001B[38;5;241m=\u001B[39mres_type,\n\u001B[0;32m    676\u001B[0m     )\n\u001B[0;32m    677\u001B[0m \u001B[38;5;28;01melse\u001B[39;00m:\n\u001B[1;32m--> 678\u001B[0m     y_hat \u001B[38;5;241m=\u001B[39m \u001B[43mresampy\u001B[49m\u001B[38;5;241;43m.\u001B[39;49m\u001B[43mresample\u001B[49m(y, orig_sr, target_sr, \u001B[38;5;28mfilter\u001B[39m\u001B[38;5;241m=\u001B[39mres_type, axis\u001B[38;5;241m=\u001B[39maxis)\n\u001B[0;32m    680\u001B[0m \u001B[38;5;28;01mif\u001B[39;00m fix:\n\u001B[0;32m    681\u001B[0m     y_hat \u001B[38;5;241m=\u001B[39m util\u001B[38;5;241m.\u001B[39mfix_length(y_hat, size\u001B[38;5;241m=\u001B[39mn_samples, axis\u001B[38;5;241m=\u001B[39maxis, \u001B[38;5;241m*\u001B[39m\u001B[38;5;241m*\u001B[39mkwargs)\n",
      "File \u001B[1;32m~\\PycharmProjects\\Pronobo\\.venv\\Lib\\site-packages\\lazy_loader\\__init__.py:117\u001B[0m, in \u001B[0;36mDelayedImportErrorModule.__getattr__\u001B[1;34m(self, x)\u001B[0m\n\u001B[0;32m    115\u001B[0m \u001B[38;5;28;01melse\u001B[39;00m:\n\u001B[0;32m    116\u001B[0m     fd \u001B[38;5;241m=\u001B[39m \u001B[38;5;28mself\u001B[39m\u001B[38;5;241m.\u001B[39m__frame_data\n\u001B[1;32m--> 117\u001B[0m     \u001B[38;5;28;01mraise\u001B[39;00m \u001B[38;5;167;01mModuleNotFoundError\u001B[39;00m(\n\u001B[0;32m    118\u001B[0m         \u001B[38;5;124mf\u001B[39m\u001B[38;5;124m\"\u001B[39m\u001B[38;5;132;01m{\u001B[39;00m\u001B[38;5;28mself\u001B[39m\u001B[38;5;241m.\u001B[39m__message\u001B[38;5;132;01m}\u001B[39;00m\u001B[38;5;130;01m\\n\u001B[39;00m\u001B[38;5;130;01m\\n\u001B[39;00m\u001B[38;5;124m\"\u001B[39m\n\u001B[0;32m    119\u001B[0m         \u001B[38;5;124m\"\u001B[39m\u001B[38;5;124mThis error is lazily reported, having originally occured in\u001B[39m\u001B[38;5;130;01m\\n\u001B[39;00m\u001B[38;5;124m\"\u001B[39m\n\u001B[0;32m    120\u001B[0m         \u001B[38;5;124mf\u001B[39m\u001B[38;5;124m'\u001B[39m\u001B[38;5;124m  File \u001B[39m\u001B[38;5;132;01m{\u001B[39;00mfd[\u001B[38;5;124m\"\u001B[39m\u001B[38;5;124mfilename\u001B[39m\u001B[38;5;124m\"\u001B[39m]\u001B[38;5;132;01m}\u001B[39;00m\u001B[38;5;124m, line \u001B[39m\u001B[38;5;132;01m{\u001B[39;00mfd[\u001B[38;5;124m\"\u001B[39m\u001B[38;5;124mlineno\u001B[39m\u001B[38;5;124m\"\u001B[39m]\u001B[38;5;132;01m}\u001B[39;00m\u001B[38;5;124m, in \u001B[39m\u001B[38;5;132;01m{\u001B[39;00mfd[\u001B[38;5;124m\"\u001B[39m\u001B[38;5;124mfunction\u001B[39m\u001B[38;5;124m\"\u001B[39m]\u001B[38;5;132;01m}\u001B[39;00m\u001B[38;5;130;01m\\n\u001B[39;00m\u001B[38;5;130;01m\\n\u001B[39;00m\u001B[38;5;124m'\u001B[39m\n\u001B[0;32m    121\u001B[0m         \u001B[38;5;124mf\u001B[39m\u001B[38;5;124m'\u001B[39m\u001B[38;5;124m----> \u001B[39m\u001B[38;5;132;01m{\u001B[39;00m\u001B[38;5;124m\"\u001B[39m\u001B[38;5;124m\"\u001B[39m\u001B[38;5;241m.\u001B[39mjoin(fd[\u001B[38;5;124m\"\u001B[39m\u001B[38;5;124mcode_context\u001B[39m\u001B[38;5;124m\"\u001B[39m]\u001B[38;5;250m \u001B[39m\u001B[38;5;129;01mor\u001B[39;00m\u001B[38;5;250m \u001B[39m\u001B[38;5;124m\"\u001B[39m\u001B[38;5;124m\"\u001B[39m)\u001B[38;5;241m.\u001B[39mstrip()\u001B[38;5;132;01m}\u001B[39;00m\u001B[38;5;124m'\u001B[39m\n\u001B[0;32m    122\u001B[0m     )\n",
      "\u001B[1;31mModuleNotFoundError\u001B[0m: No module named 'resampy'\n\nThis error is lazily reported, having originally occured in\n  File C:\\Users\\sojou\\PycharmProjects\\Pronobo\\.venv\\Lib\\site-packages\\librosa\\core\\audio.py, line 33, in <module>\n\n----> resampy = lazy.load(\"resampy\")"
     ]
    }
   ],
   "execution_count": 11
  },
  {
   "metadata": {},
   "cell_type": "code",
   "source": [
    "ext_df = pd.DataFrame(extracted,columns=['feature','class'])\n",
    "ext_df1=ext_df[ext_df['class'].isin([\"car_horn\",\"dog_bark\",\"siren\"])]\n",
    "ext_df1"
   ],
   "id": "9ca0a6205b74604f",
   "outputs": [],
   "execution_count": null
  },
  {
   "metadata": {
    "ExecuteTime": {
     "end_time": "2024-07-04T15:35:16.065759Z",
     "start_time": "2024-07-04T15:35:16.062324Z"
    }
   },
   "cell_type": "code",
   "source": [
    "x = np.array(ext_df1['feature'].tolist())\n",
    "y = np.array(ext_df1['class'].tolist())"
   ],
   "id": "dd0ffffbef30d13f",
   "outputs": [],
   "execution_count": 17
  },
  {
   "metadata": {
    "ExecuteTime": {
     "end_time": "2024-07-04T15:35:22.468756Z",
     "start_time": "2024-07-04T15:35:22.403393Z"
    }
   },
   "cell_type": "code",
   "source": [
    "le = LabelEncoder()\n",
    "y = to_categorical(le.fit_transform(y))"
   ],
   "id": "c6ff546b41d9dd75",
   "outputs": [
    {
     "ename": "ValueError",
     "evalue": "zero-size array to reduction operation maximum which has no identity",
     "output_type": "error",
     "traceback": [
      "\u001B[1;31m---------------------------------------------------------------------------\u001B[0m",
      "\u001B[1;31mValueError\u001B[0m                                Traceback (most recent call last)",
      "Cell \u001B[1;32mIn[18], line 2\u001B[0m\n\u001B[0;32m      1\u001B[0m le \u001B[38;5;241m=\u001B[39m LabelEncoder()\n\u001B[1;32m----> 2\u001B[0m y \u001B[38;5;241m=\u001B[39m \u001B[43mto_categorical\u001B[49m\u001B[43m(\u001B[49m\u001B[43mle\u001B[49m\u001B[38;5;241;43m.\u001B[39;49m\u001B[43mfit_transform\u001B[49m\u001B[43m(\u001B[49m\u001B[43my\u001B[49m\u001B[43m)\u001B[49m\u001B[43m)\u001B[49m\n",
      "File \u001B[1;32m~\\PycharmProjects\\Pronobo\\.venv\\Lib\\site-packages\\keras\\src\\utils\\numerical_utils.py:95\u001B[0m, in \u001B[0;36mto_categorical\u001B[1;34m(x, num_classes)\u001B[0m\n\u001B[0;32m     93\u001B[0m x \u001B[38;5;241m=\u001B[39m x\u001B[38;5;241m.\u001B[39mreshape(\u001B[38;5;241m-\u001B[39m\u001B[38;5;241m1\u001B[39m)\n\u001B[0;32m     94\u001B[0m \u001B[38;5;28;01mif\u001B[39;00m \u001B[38;5;129;01mnot\u001B[39;00m num_classes:\n\u001B[1;32m---> 95\u001B[0m     num_classes \u001B[38;5;241m=\u001B[39m \u001B[43mnp\u001B[49m\u001B[38;5;241;43m.\u001B[39;49m\u001B[43mmax\u001B[49m\u001B[43m(\u001B[49m\u001B[43mx\u001B[49m\u001B[43m)\u001B[49m \u001B[38;5;241m+\u001B[39m \u001B[38;5;241m1\u001B[39m\n\u001B[0;32m     96\u001B[0m batch_size \u001B[38;5;241m=\u001B[39m x\u001B[38;5;241m.\u001B[39mshape[\u001B[38;5;241m0\u001B[39m]\n\u001B[0;32m     97\u001B[0m categorical \u001B[38;5;241m=\u001B[39m np\u001B[38;5;241m.\u001B[39mzeros((batch_size, num_classes))\n",
      "File \u001B[1;32m~\\PycharmProjects\\Pronobo\\.venv\\Lib\\site-packages\\numpy\\core\\fromnumeric.py:2810\u001B[0m, in \u001B[0;36mmax\u001B[1;34m(a, axis, out, keepdims, initial, where)\u001B[0m\n\u001B[0;32m   2692\u001B[0m \u001B[38;5;129m@array_function_dispatch\u001B[39m(_max_dispatcher)\n\u001B[0;32m   2693\u001B[0m \u001B[38;5;129m@set_module\u001B[39m(\u001B[38;5;124m'\u001B[39m\u001B[38;5;124mnumpy\u001B[39m\u001B[38;5;124m'\u001B[39m)\n\u001B[0;32m   2694\u001B[0m \u001B[38;5;28;01mdef\u001B[39;00m \u001B[38;5;21mmax\u001B[39m(a, axis\u001B[38;5;241m=\u001B[39m\u001B[38;5;28;01mNone\u001B[39;00m, out\u001B[38;5;241m=\u001B[39m\u001B[38;5;28;01mNone\u001B[39;00m, keepdims\u001B[38;5;241m=\u001B[39mnp\u001B[38;5;241m.\u001B[39m_NoValue, initial\u001B[38;5;241m=\u001B[39mnp\u001B[38;5;241m.\u001B[39m_NoValue,\n\u001B[0;32m   2695\u001B[0m          where\u001B[38;5;241m=\u001B[39mnp\u001B[38;5;241m.\u001B[39m_NoValue):\n\u001B[0;32m   2696\u001B[0m \u001B[38;5;250m    \u001B[39m\u001B[38;5;124;03m\"\"\"\u001B[39;00m\n\u001B[0;32m   2697\u001B[0m \u001B[38;5;124;03m    Return the maximum of an array or maximum along an axis.\u001B[39;00m\n\u001B[0;32m   2698\u001B[0m \n\u001B[1;32m   (...)\u001B[0m\n\u001B[0;32m   2808\u001B[0m \u001B[38;5;124;03m    5\u001B[39;00m\n\u001B[0;32m   2809\u001B[0m \u001B[38;5;124;03m    \"\"\"\u001B[39;00m\n\u001B[1;32m-> 2810\u001B[0m     \u001B[38;5;28;01mreturn\u001B[39;00m \u001B[43m_wrapreduction\u001B[49m\u001B[43m(\u001B[49m\u001B[43ma\u001B[49m\u001B[43m,\u001B[49m\u001B[43m \u001B[49m\u001B[43mnp\u001B[49m\u001B[38;5;241;43m.\u001B[39;49m\u001B[43mmaximum\u001B[49m\u001B[43m,\u001B[49m\u001B[43m \u001B[49m\u001B[38;5;124;43m'\u001B[39;49m\u001B[38;5;124;43mmax\u001B[39;49m\u001B[38;5;124;43m'\u001B[39;49m\u001B[43m,\u001B[49m\u001B[43m \u001B[49m\u001B[43maxis\u001B[49m\u001B[43m,\u001B[49m\u001B[43m \u001B[49m\u001B[38;5;28;43;01mNone\u001B[39;49;00m\u001B[43m,\u001B[49m\u001B[43m \u001B[49m\u001B[43mout\u001B[49m\u001B[43m,\u001B[49m\n\u001B[0;32m   2811\u001B[0m \u001B[43m                          \u001B[49m\u001B[43mkeepdims\u001B[49m\u001B[38;5;241;43m=\u001B[39;49m\u001B[43mkeepdims\u001B[49m\u001B[43m,\u001B[49m\u001B[43m \u001B[49m\u001B[43minitial\u001B[49m\u001B[38;5;241;43m=\u001B[39;49m\u001B[43minitial\u001B[49m\u001B[43m,\u001B[49m\u001B[43m \u001B[49m\u001B[43mwhere\u001B[49m\u001B[38;5;241;43m=\u001B[39;49m\u001B[43mwhere\u001B[49m\u001B[43m)\u001B[49m\n",
      "File \u001B[1;32m~\\PycharmProjects\\Pronobo\\.venv\\Lib\\site-packages\\numpy\\core\\fromnumeric.py:88\u001B[0m, in \u001B[0;36m_wrapreduction\u001B[1;34m(obj, ufunc, method, axis, dtype, out, **kwargs)\u001B[0m\n\u001B[0;32m     85\u001B[0m         \u001B[38;5;28;01melse\u001B[39;00m:\n\u001B[0;32m     86\u001B[0m             \u001B[38;5;28;01mreturn\u001B[39;00m reduction(axis\u001B[38;5;241m=\u001B[39maxis, out\u001B[38;5;241m=\u001B[39mout, \u001B[38;5;241m*\u001B[39m\u001B[38;5;241m*\u001B[39mpasskwargs)\n\u001B[1;32m---> 88\u001B[0m \u001B[38;5;28;01mreturn\u001B[39;00m \u001B[43mufunc\u001B[49m\u001B[38;5;241;43m.\u001B[39;49m\u001B[43mreduce\u001B[49m\u001B[43m(\u001B[49m\u001B[43mobj\u001B[49m\u001B[43m,\u001B[49m\u001B[43m \u001B[49m\u001B[43maxis\u001B[49m\u001B[43m,\u001B[49m\u001B[43m \u001B[49m\u001B[43mdtype\u001B[49m\u001B[43m,\u001B[49m\u001B[43m \u001B[49m\u001B[43mout\u001B[49m\u001B[43m,\u001B[49m\u001B[43m \u001B[49m\u001B[38;5;241;43m*\u001B[39;49m\u001B[38;5;241;43m*\u001B[39;49m\u001B[43mpasskwargs\u001B[49m\u001B[43m)\u001B[49m\n",
      "\u001B[1;31mValueError\u001B[0m: zero-size array to reduction operation maximum which has no identity"
     ]
    }
   ],
   "execution_count": 18
  },
  {
   "metadata": {},
   "cell_type": "code",
   "outputs": [],
   "execution_count": null,
   "source": "",
   "id": "9a156f91ee961044"
  }
 ],
 "metadata": {
  "kernelspec": {
   "display_name": "Python 3",
   "language": "python",
   "name": "python3"
  },
  "language_info": {
   "codemirror_mode": {
    "name": "ipython",
    "version": 2
   },
   "file_extension": ".py",
   "mimetype": "text/x-python",
   "name": "python",
   "nbconvert_exporter": "python",
   "pygments_lexer": "ipython2",
   "version": "2.7.6"
  }
 },
 "nbformat": 4,
 "nbformat_minor": 5
}
