{
 "cells": [
  {
   "cell_type": "code",
   "execution_count": 1,
   "metadata": {},
   "outputs": [],
   "source": [
    "import pandas as pd\n",
    "\n",
    "stops_df = pd.read_csv('google_transit/stops.txt')  # Contains all stops\n",
    "routes_df = pd.read_csv('google_transit/routes.txt')  # Contains route information\n",
    "trips_df = pd.read_csv('google_transit/trips.txt')  # Contains trips and associated routes\n",
    "stop_times_df = pd.read_csv('google_transit/stop_times.txt')  # Contains stop times for trips\n"
   ]
  },
  {
   "cell_type": "code",
   "execution_count": 6,
   "metadata": {},
   "outputs": [
    {
     "name": "stdout",
     "output_type": "stream",
     "text": [
      "2.1.2\n",
      "2.31.0\n",
      "3.20.3\n"
     ]
    }
   ],
   "source": [
    "import pandas as pd\n",
    "import requests\n",
    "import google.protobuf  # To check if protobuf is correctly installed\n",
    "\n",
    "print(pd.__version__)\n",
    "print(requests.__version__)\n",
    "print(google.protobuf.__version__)"
   ]
  },
  {
   "cell_type": "code",
   "execution_count": 8,
   "metadata": {},
   "outputs": [
    {
     "name": "stdout",
     "output_type": "stream",
     "text": [
      "No delays at the moment.\n"
     ]
    }
   ],
   "source": [
    "import requests\n",
    "import gtfs_realtime_pb2  # Import the generated file for GTFS-Realtime parsing\n",
    "\n",
    "# Initialize FeedMessage object from gtfs_realtime_pb2\n",
    "feed = gtfs_realtime_pb2.FeedMessage()\n",
    "\n",
    "# URL for MTA's GTFS-Realtime data for A, C, E lines\n",
    "feed_url = 'https://api-endpoint.mta.info/Dataservice/mtagtfsfeeds/nyct%2Fgtfs-ace'\n",
    "\n",
    "# Fetch GTFS-Realtime data\n",
    "response = requests.get(feed_url)\n",
    "feed.ParseFromString(response.content)  # Parse the Protocol Buffer data\n",
    "\n",
    "# Extract and display delay alerts\n",
    "delays = []\n",
    "for entity in feed.entity:\n",
    "    if entity.HasField('alert'):\n",
    "        alert = entity.alert\n",
    "        # Check if the alert text contains \"delay\"\n",
    "        if \"delay\" in alert.header_text.translation[0].text.lower():\n",
    "            delays.append(alert.header_text.translation[0].text)\n",
    "\n",
    "# Print delay alerts\n",
    "if delays:\n",
    "    print(\"Delay Alerts:\")\n",
    "    for delay in delays:\n",
    "        print(\"-\", delay)\n",
    "else:\n",
    "    print(\"No delays at the moment.\")\n"
   ]
  },
  {
   "cell_type": "code",
   "execution_count": 9,
   "metadata": {},
   "outputs": [],
   "source": [
    "import pandas as pd\n",
    "import requests\n",
    "import gtfs_realtime_pb2  # Assuming you have generated this file\n"
   ]
  },
  {
   "cell_type": "code",
   "execution_count": 4,
   "metadata": {},
   "outputs": [
    {
     "name": "stdout",
     "output_type": "stream",
     "text": [
      "Requirement already satisfied: protobuf in /Users/carlamandiola/.pyenv/versions/3.11.6/lib/python3.11/site-packages (3.20.3)\n",
      "\n",
      "\u001b[1m[\u001b[0m\u001b[34;49mnotice\u001b[0m\u001b[1;39;49m]\u001b[0m\u001b[39;49m A new release of pip is available: \u001b[0m\u001b[31;49m24.2\u001b[0m\u001b[39;49m -> \u001b[0m\u001b[32;49m24.3.1\u001b[0m\n",
      "\u001b[1m[\u001b[0m\u001b[34;49mnotice\u001b[0m\u001b[1;39;49m]\u001b[0m\u001b[39;49m To update, run: \u001b[0m\u001b[32;49mpip install --upgrade pip\u001b[0m\n",
      "Note: you may need to restart the kernel to use updated packages.\n"
     ]
    }
   ],
   "source": [
    "pip install protobuf\n"
   ]
  },
  {
   "cell_type": "code",
   "execution_count": 10,
   "metadata": {},
   "outputs": [
    {
     "ename": "ModuleNotFoundError",
     "evalue": "No module named 'google.transit'",
     "output_type": "error",
     "traceback": [
      "\u001b[0;31m---------------------------------------------------------------------------\u001b[0m",
      "\u001b[0;31mModuleNotFoundError\u001b[0m                       Traceback (most recent call last)",
      "Cell \u001b[0;32mIn[10], line 2\u001b[0m\n\u001b[1;32m      1\u001b[0m \u001b[38;5;28;01mimport\u001b[39;00m \u001b[38;5;21;01mrequests\u001b[39;00m\n\u001b[0;32m----> 2\u001b[0m \u001b[38;5;28;01mfrom\u001b[39;00m \u001b[38;5;21;01mgoogle\u001b[39;00m\u001b[38;5;21;01m.\u001b[39;00m\u001b[38;5;21;01mtransit\u001b[39;00m \u001b[38;5;28;01mimport\u001b[39;00m gtfs_realtime_pb2\n\u001b[1;32m      4\u001b[0m \u001b[38;5;66;03m# Initialize FeedMessage object\u001b[39;00m\n\u001b[1;32m      5\u001b[0m feed \u001b[38;5;241m=\u001b[39m gtfs_realtime_pb2\u001b[38;5;241m.\u001b[39mFeedMessage()\n",
      "\u001b[0;31mModuleNotFoundError\u001b[0m: No module named 'google.transit'"
     ]
    }
   ],
   "source": [
    "import requests\n",
    "from google.transit import gtfs_realtime_pb2\n",
    "\n",
    "# Initialize FeedMessage object\n",
    "feed = gtfs_realtime_pb2.FeedMessage()\n",
    "\n",
    "# Request GTFS-Realtime feed data without an API key\n",
    "response = requests.get('https://api-endpoint.mta.info/Dataservice/mtagtfsfeeds/nyct%2Fgtfs-ace')\n",
    "\n",
    "# Parse the feed content\n",
    "feed.ParseFromString(response.content)\n",
    "\n",
    "# Extract delays and alerts\n",
    "delays = []\n",
    "for entity in feed.entity:\n",
    "    if entity.HasField('alert'):\n",
    "        alert = entity.alert\n",
    "        # Check if alert header text mentions a delay\n",
    "        if \"delay\" in alert.header_text.translation[0].text.lower():\n",
    "            delays.append(alert.header_text.translation[0].text)\n",
    "\n",
    "# Print out delays\n",
    "for delay in delays:\n",
    "    print(\"Delay Alert:\", delay)\n"
   ]
  },
  {
   "cell_type": "code",
   "execution_count": 19,
   "metadata": {},
   "outputs": [
    {
     "ename": "ImportError",
     "evalue": "cannot import name 'runtime_version' from 'google.protobuf' (/Users/carlamandiola/.pyenv/versions/3.11.6/lib/python3.11/site-packages/google/protobuf/__init__.py)",
     "output_type": "error",
     "traceback": [
      "\u001b[0;31m---------------------------------------------------------------------------\u001b[0m",
      "\u001b[0;31mImportError\u001b[0m                               Traceback (most recent call last)",
      "Cell \u001b[0;32mIn[19], line 2\u001b[0m\n\u001b[1;32m      1\u001b[0m \u001b[38;5;28;01mimport\u001b[39;00m \u001b[38;5;21;01mrequests\u001b[39;00m\n\u001b[0;32m----> 2\u001b[0m \u001b[38;5;28;01mimport\u001b[39;00m \u001b[38;5;21;01mgtfs_realtime_pb2\u001b[39;00m  \u001b[38;5;66;03m# Import the generated file for GTFS-Realtime parsing\u001b[39;00m\n\u001b[1;32m      4\u001b[0m \u001b[38;5;66;03m# Initialize FeedMessage object from gtfs_realtime_pb2\u001b[39;00m\n\u001b[1;32m      5\u001b[0m feed \u001b[38;5;241m=\u001b[39m gtfs_realtime_pb2\u001b[38;5;241m.\u001b[39mFeedMessage()\n",
      "File \u001b[0;32m~/Desktop/MTA/gtfs_realtime_pb2.py:9\u001b[0m\n\u001b[1;32m      7\u001b[0m \u001b[38;5;28;01mfrom\u001b[39;00m \u001b[38;5;21;01mgoogle\u001b[39;00m\u001b[38;5;21;01m.\u001b[39;00m\u001b[38;5;21;01mprotobuf\u001b[39;00m \u001b[38;5;28;01mimport\u001b[39;00m descriptor \u001b[38;5;28;01mas\u001b[39;00m _descriptor\n\u001b[1;32m      8\u001b[0m \u001b[38;5;28;01mfrom\u001b[39;00m \u001b[38;5;21;01mgoogle\u001b[39;00m\u001b[38;5;21;01m.\u001b[39;00m\u001b[38;5;21;01mprotobuf\u001b[39;00m \u001b[38;5;28;01mimport\u001b[39;00m descriptor_pool \u001b[38;5;28;01mas\u001b[39;00m _descriptor_pool\n\u001b[0;32m----> 9\u001b[0m \u001b[38;5;28;01mfrom\u001b[39;00m \u001b[38;5;21;01mgoogle\u001b[39;00m\u001b[38;5;21;01m.\u001b[39;00m\u001b[38;5;21;01mprotobuf\u001b[39;00m \u001b[38;5;28;01mimport\u001b[39;00m runtime_version \u001b[38;5;28;01mas\u001b[39;00m _runtime_version\n\u001b[1;32m     10\u001b[0m \u001b[38;5;28;01mfrom\u001b[39;00m \u001b[38;5;21;01mgoogle\u001b[39;00m\u001b[38;5;21;01m.\u001b[39;00m\u001b[38;5;21;01mprotobuf\u001b[39;00m \u001b[38;5;28;01mimport\u001b[39;00m symbol_database \u001b[38;5;28;01mas\u001b[39;00m _symbol_database\n\u001b[1;32m     11\u001b[0m \u001b[38;5;28;01mfrom\u001b[39;00m \u001b[38;5;21;01mgoogle\u001b[39;00m\u001b[38;5;21;01m.\u001b[39;00m\u001b[38;5;21;01mprotobuf\u001b[39;00m\u001b[38;5;21;01m.\u001b[39;00m\u001b[38;5;21;01minternal\u001b[39;00m \u001b[38;5;28;01mimport\u001b[39;00m builder \u001b[38;5;28;01mas\u001b[39;00m _builder\n",
      "\u001b[0;31mImportError\u001b[0m: cannot import name 'runtime_version' from 'google.protobuf' (/Users/carlamandiola/.pyenv/versions/3.11.6/lib/python3.11/site-packages/google/protobuf/__init__.py)"
     ]
    }
   ],
   "source": [
    "import requests\n",
    "import gtfs_realtime_pb2  # Import the generated file for GTFS-Realtime parsing\n",
    "\n",
    "# Initialize FeedMessage object from gtfs_realtime_pb2\n",
    "feed = gtfs_realtime_pb2.FeedMessage()\n",
    "\n",
    "# URL for MTA's GTFS-Realtime data for A, C, E lines\n",
    "feed_url = 'https://api-endpoint.mta.info/Dataservice/mtagtfsfeeds/nyct%2Fgtfs-ace'\n",
    "\n",
    "# Fetch GTFS-Realtime data\n",
    "response = requests.get(feed_url)\n",
    "feed.ParseFromString(response.content)  # Parse the Protocol Buffer data\n",
    "\n",
    "# Extract and display delay alerts\n",
    "delays = []\n",
    "for entity in feed.entity:\n",
    "    if entity.HasField('alert'):\n",
    "        alert = entity.alert\n",
    "        # Check if the alert text contains \"delay\"\n",
    "        if \"delay\" in alert.header_text.translation[0].text.lower():\n",
    "            delays.append(alert.header_text.translation[0].text)\n",
    "\n",
    "# Print delay alerts\n",
    "if delays:\n",
    "    print(\"Delay Alerts:\")\n",
    "    for delay in delays:\n",
    "        print(\"-\", delay)\n",
    "else:\n",
    "    print(\"No delays at the moment.\")\n"
   ]
  },
  {
   "cell_type": "code",
   "execution_count": 21,
   "metadata": {},
   "outputs": [
    {
     "name": "stdout",
     "output_type": "stream",
     "text": [
      "4.25.3\n"
     ]
    }
   ],
   "source": [
    "import google.protobuf\n",
    "print(google.protobuf.__version__)"
   ]
  },
  {
   "cell_type": "code",
   "execution_count": 22,
   "metadata": {},
   "outputs": [
    {
     "name": "stdout",
     "output_type": "stream",
     "text": [
      "4.25.3\n"
     ]
    }
   ],
   "source": [
    "import google.protobuf\n",
    "print(google.protobuf.__version__)  # Should output 3.20.3\n"
   ]
  },
  {
   "cell_type": "code",
   "execution_count": 1,
   "metadata": {},
   "outputs": [
    {
     "ename": "ModuleNotFoundError",
     "evalue": "No module named 'google'",
     "output_type": "error",
     "traceback": [
      "\u001b[0;31m---------------------------------------------------------------------------\u001b[0m",
      "\u001b[0;31mModuleNotFoundError\u001b[0m                       Traceback (most recent call last)",
      "Cell \u001b[0;32mIn[1], line 1\u001b[0m\n\u001b[0;32m----> 1\u001b[0m \u001b[38;5;28;01mimport\u001b[39;00m \u001b[38;5;21;01mgtfs_realtime_pb2\u001b[39;00m\n",
      "File \u001b[0;32m~/Desktop/MTA/gtfs_realtime_pb2.py:7\u001b[0m\n\u001b[1;32m      1\u001b[0m \u001b[38;5;66;03m# -*- coding: utf-8 -*-\u001b[39;00m\n\u001b[1;32m      2\u001b[0m \u001b[38;5;66;03m# Generated by the protocol buffer compiler.  DO NOT EDIT!\u001b[39;00m\n\u001b[1;32m      3\u001b[0m \u001b[38;5;66;03m# NO CHECKED-IN PROTOBUF GENCODE\u001b[39;00m\n\u001b[1;32m      4\u001b[0m \u001b[38;5;66;03m# source: gtfs-realtime.proto\u001b[39;00m\n\u001b[1;32m      5\u001b[0m \u001b[38;5;66;03m# Protobuf Python Version: 5.28.3\u001b[39;00m\n\u001b[1;32m      6\u001b[0m \u001b[38;5;124;03m\"\"\"Generated protocol buffer code.\"\"\"\u001b[39;00m\n\u001b[0;32m----> 7\u001b[0m \u001b[38;5;28;01mfrom\u001b[39;00m \u001b[38;5;21;01mgoogle\u001b[39;00m\u001b[38;5;21;01m.\u001b[39;00m\u001b[38;5;21;01mprotobuf\u001b[39;00m \u001b[38;5;28;01mimport\u001b[39;00m descriptor \u001b[38;5;28;01mas\u001b[39;00m _descriptor\n\u001b[1;32m      8\u001b[0m \u001b[38;5;28;01mfrom\u001b[39;00m \u001b[38;5;21;01mgoogle\u001b[39;00m\u001b[38;5;21;01m.\u001b[39;00m\u001b[38;5;21;01mprotobuf\u001b[39;00m \u001b[38;5;28;01mimport\u001b[39;00m descriptor_pool \u001b[38;5;28;01mas\u001b[39;00m _descriptor_pool\n\u001b[1;32m      9\u001b[0m \u001b[38;5;28;01mfrom\u001b[39;00m \u001b[38;5;21;01mgoogle\u001b[39;00m\u001b[38;5;21;01m.\u001b[39;00m\u001b[38;5;21;01mprotobuf\u001b[39;00m \u001b[38;5;28;01mimport\u001b[39;00m runtime_version \u001b[38;5;28;01mas\u001b[39;00m _runtime_version\n",
      "\u001b[0;31mModuleNotFoundError\u001b[0m: No module named 'google'"
     ]
    }
   ],
   "source": [
    "import gtfs_realtime_pb2\n"
   ]
  },
  {
   "cell_type": "code",
   "execution_count": 13,
   "metadata": {},
   "outputs": [],
   "source": [
    "import requests\n",
    "import gtfs_realtime_pb2  # Import the generated file for GTFS-Realtime parsing\n",
    "\n",
    "# Initialize FeedMessage object\n",
    "feed = gtfs_realtime_pb2.FeedMessage()\n",
    "\n",
    "# URL for MTA's GTFS-Realtime data for A, C, E lines\n",
    "feed_url = 'https://api-endpoint.mta.info/Dataservice/mtagtfsfeeds/nyct%2Fgtfs-ace'\n",
    "\n",
    "# Fetch GTFS-Realtime data\n",
    "response = requests.get(feed_url)\n",
    "feed.ParseFromString(response.content)  # Parse the Protocol Buffer data\n",
    "\n",
    "# Extract delay alerts\n",
    "delays = []\n",
    "for entity in feed.entity:\n",
    "    if entity.HasField('alert'):\n",
    "        alert = entity.alert\n",
    "        print(\"Alert:\", alert.header_text.translation[0].text)\n",
    "\n",
    "\n",
    "\n"
   ]
  },
  {
   "cell_type": "code",
   "execution_count": 1,
   "metadata": {},
   "outputs": [
    {
     "name": "stdout",
     "output_type": "stream",
     "text": [
      "No route changes or delays detected.\n"
     ]
    }
   ],
   "source": [
    "import requests\n",
    "import gtfs_realtime_pb2  # Ensure you have this file generated\n",
    "\n",
    "# URL for MTA's GTFS-Realtime data\n",
    "MTA_FEED_URL = 'https://api-endpoint.mta.info/Dataservice/mtagtfsfeeds/nyct%2Fgtfs-ace'\n",
    "\n",
    "def fetch_mta_alerts():\n",
    "    # Initialize the GTFS-Realtime FeedMessage\n",
    "    feed = gtfs_realtime_pb2.FeedMessage()\n",
    "    \n",
    "    try:\n",
    "        # Fetch GTFS-Realtime data from the MTA\n",
    "        response = requests.get(MTA_FEED_URL)\n",
    "        response.raise_for_status()\n",
    "        feed.ParseFromString(response.content)\n",
    "    except requests.RequestException as e:\n",
    "        print(\"Failed to fetch MTA data:\", e)\n",
    "        return\n",
    "\n",
    "    # Extract service alerts related to route changes or delays\n",
    "    alerts = []\n",
    "    for entity in feed.entity:\n",
    "        if entity.HasField('alert'):\n",
    "            alert_text = entity.alert.header_text.translation[0].text\n",
    "            if \"delay\" in alert_text.lower() or \"reroute\" in alert_text.lower():\n",
    "                alerts.append(alert_text)\n",
    "    \n",
    "    # Display the alerts\n",
    "    if alerts:\n",
    "        print(\"Service Alerts:\")\n",
    "        for alert in alerts:\n",
    "            print(\"-\", alert)\n",
    "    else:\n",
    "        print(\"No route changes or delays detected.\")\n",
    "\n",
    "# Run the function to fetch and display alerts\n",
    "if __name__ == \"__main__\":\n",
    "    fetch_mta_alerts()\n"
   ]
  }
 ],
 "metadata": {
  "kernelspec": {
   "display_name": "Python 3",
   "language": "python",
   "name": "python3"
  },
  "language_info": {
   "codemirror_mode": {
    "name": "ipython",
    "version": 3
   },
   "file_extension": ".py",
   "mimetype": "text/x-python",
   "name": "python",
   "nbconvert_exporter": "python",
   "pygments_lexer": "ipython3",
   "version": "3.11.6"
  }
 },
 "nbformat": 4,
 "nbformat_minor": 2
}
