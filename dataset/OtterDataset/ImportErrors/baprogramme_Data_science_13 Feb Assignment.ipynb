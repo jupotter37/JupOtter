{
 "cells": [
  {
   "cell_type": "markdown",
   "id": "159d2a3b-dffb-4f89-90ce-72dc6748c573",
   "metadata": {},
   "source": [
    "Question 1: Explain why we have to use the Exception class while creating a Custom \n",
    "\n",
    "Exception.\n",
    "Note: Here Exception class refers to the base class for all the exceptions"
   ]
  },
  {
   "cell_type": "markdown",
   "id": "04929775-d4d8-44ff-9a31-5dcf751b1a67",
   "metadata": {},
   "source": [
    "In Python, all built-in exceptions are subclasses of the Exception class. When we create a custom exception, we typically want it to be a subclass of one of the existing exceptions, or of the Exception class itself.\n",
    "\n",
    "There are several reasons for using the Exception class as the base class for a custom exception:\n",
    "\n",
    "Inheritance: By inheriting from the Exception class, our custom exception will inherit all the behavior and attributes of the Exception class, including the ability to raise and catch the exception, and the ability to customize the error message.\n",
    "\n",
    "Compatibility: By inheriting from the Exception class, our custom exception will be compatible with all the built-in exception handling mechanisms in Python, such as the try-except statement and the raise statement.\n",
    "\n",
    "Consistency: By using the Exception class as the base class for all our custom exceptions, we ensure that they have a consistent interface and behavior, which makes it easier to write code that handles multiple types of exceptions.\n",
    "\n",
    "Overall, using the Exception class as the base class for a custom exception is a best practice in Python, as it ensures that the custom exception behaves like a standard Python exception and is easy to integrate with existing code.\n",
    "\n",
    "here's a simple example of creating a custom exception that inherits from the Exception class:"
   ]
  },
  {
   "cell_type": "code",
   "execution_count": 1,
   "id": "0fe6bca7-6fbf-441a-9293-7ccef551269e",
   "metadata": {},
   "outputs": [],
   "source": [
    "class validateage(Exception):\n",
    "    def __init__(self,msg):\n",
    "        self.msg=msg\n",
    "    "
   ]
  },
  {
   "cell_type": "code",
   "execution_count": 2,
   "id": "46e08935-7f9d-4b4e-8f7f-d4973faa2203",
   "metadata": {},
   "outputs": [],
   "source": [
    "def validate_age(age):\n",
    "    if age <0 :\n",
    "        raise validateage(\"age cannot be negative\")\n",
    "        \n",
    "    elif age>120:\n",
    "        raise validateage(\"age is out of range\")\n",
    "        \n",
    "    else :\n",
    "        raise validateage(\"age is valid\")"
   ]
  },
  {
   "cell_type": "code",
   "execution_count": 3,
   "id": "a10b1b61-9eb3-4b5e-b741-a30447c3311e",
   "metadata": {},
   "outputs": [
    {
     "name": "stdin",
     "output_type": "stream",
     "text": [
      "enter age 12\n"
     ]
    },
    {
     "name": "stdout",
     "output_type": "stream",
     "text": [
      "age is valid\n"
     ]
    }
   ],
   "source": [
    "try :\n",
    "    age=int(input(\"enter age\"))\n",
    "    validate_age(age)\n",
    "    \n",
    "except validateage as e :\n",
    "    print(e)"
   ]
  },
  {
   "cell_type": "markdown",
   "id": "5c854c7e-c66e-411e-844c-3adc238f7178",
   "metadata": {},
   "source": [
    "Question 2: Write a python program to print Python Exception Hierarchy."
   ]
  },
  {
   "cell_type": "code",
   "execution_count": 4,
   "id": "f2a9a566-1536-4e30-a6e0-bada6f67d36e",
   "metadata": {},
   "outputs": [
    {
     "name": "stdout",
     "output_type": "stream",
     "text": [
      "Exception\n",
      " TypeError\n",
      "  FloatOperation\n",
      "  MultipartConversionError\n",
      " StopAsyncIteration\n",
      " StopIteration\n",
      " ImportError\n",
      "  ModuleNotFoundError\n",
      "  ZipImportError\n",
      " OSError\n",
      "  ConnectionError\n",
      "   BrokenPipeError\n",
      "   ConnectionAbortedError\n",
      "   ConnectionRefusedError\n",
      "   ConnectionResetError\n",
      "    RemoteDisconnected\n",
      "  BlockingIOError\n",
      "  ChildProcessError\n",
      "  FileExistsError\n",
      "  FileNotFoundError\n",
      "  IsADirectoryError\n",
      "  NotADirectoryError\n",
      "  InterruptedError\n",
      "   InterruptedSystemCall\n",
      "  PermissionError\n",
      "  ProcessLookupError\n",
      "  TimeoutError\n",
      "  UnsupportedOperation\n",
      "  itimer_error\n",
      "  herror\n",
      "  gaierror\n",
      "  SSLError\n",
      "   SSLCertVerificationError\n",
      "   SSLZeroReturnError\n",
      "   SSLWantWriteError\n",
      "   SSLWantReadError\n",
      "   SSLSyscallError\n",
      "   SSLEOFError\n",
      "  Error\n",
      "   SameFileError\n",
      "  SpecialFileError\n",
      "  ExecError\n",
      "  ReadError\n",
      "  URLError\n",
      "   HTTPError\n",
      "   ContentTooShortError\n",
      "  BadGzipFile\n",
      " EOFError\n",
      "  IncompleteReadError\n",
      " RuntimeError\n",
      "  RecursionError\n",
      "  NotImplementedError\n",
      "   ZMQVersionError\n",
      "   StdinNotImplementedError\n",
      "  _DeadlockError\n",
      "  BrokenBarrierError\n",
      "  BrokenExecutor\n",
      "   BrokenThreadPool\n",
      "  SendfileNotAvailableError\n",
      "  ExtractionError\n",
      "  VariableError\n",
      " NameError\n",
      "  UnboundLocalError\n",
      " AttributeError\n",
      "  FrozenInstanceError\n",
      " SyntaxError\n",
      "  IndentationError\n",
      "   TabError\n",
      " LookupError\n",
      "  IndexError\n",
      "  KeyError\n",
      "   NoSuchKernel\n",
      "   UnknownBackend\n",
      "  CodecRegistryError\n",
      " ValueError\n",
      "  UnicodeError\n",
      "   UnicodeEncodeError\n",
      "   UnicodeDecodeError\n",
      "   UnicodeTranslateError\n",
      "  UnsupportedOperation\n",
      "  JSONDecodeError\n",
      "  SSLCertVerificationError\n",
      "  Error\n",
      "  UnsupportedDigestmodError\n",
      "  IllegalMonthError\n",
      "  IllegalWeekdayError\n",
      "  ParserError\n",
      "  ClassNotFound\n",
      "  ClipboardEmpty\n",
      "  MessageDefect\n",
      "   NoBoundaryInMultipartDefect\n",
      "   StartBoundaryNotFoundDefect\n",
      "   CloseBoundaryNotFoundDefect\n",
      "   FirstHeaderLineIsContinuationDefect\n",
      "   MisplacedEnvelopeHeaderDefect\n",
      "   MissingHeaderBodySeparatorDefect\n",
      "   MultipartInvariantViolationDefect\n",
      "   InvalidMultipartContentTransferEncodingDefect\n",
      "   UndecodableBytesDefect\n",
      "   InvalidBase64PaddingDefect\n",
      "   InvalidBase64CharactersDefect\n",
      "   InvalidBase64LengthDefect\n",
      "   HeaderDefect\n",
      "    InvalidHeaderDefect\n",
      "    HeaderMissingRequiredValue\n",
      "    NonPrintableDefect\n",
      "    ObsoleteHeaderDefect\n",
      "    NonASCIILocalPartDefect\n",
      "    InvalidDateDefect\n",
      "  MacroToEdit\n",
      "  InvalidFileException\n",
      "  UnequalIterablesError\n",
      "  InvalidVersion\n",
      "  _InvalidELFFileHeader\n",
      "  InvalidWheelFilename\n",
      "  InvalidSdistFilename\n",
      "  InvalidSpecifier\n",
      "  InvalidMarker\n",
      "  UndefinedComparison\n",
      "  UndefinedEnvironmentName\n",
      "  InvalidRequirement\n",
      "   RequirementParseError\n",
      "  InvalidVersion\n",
      " AssertionError\n",
      " ArithmeticError\n",
      "  FloatingPointError\n",
      "  OverflowError\n",
      "  ZeroDivisionError\n",
      "   DivisionByZero\n",
      "   DivisionUndefined\n",
      "  DecimalException\n",
      "   Clamped\n",
      "   Rounded\n",
      "    Underflow\n",
      "    Overflow\n",
      "   Inexact\n",
      "    Underflow\n",
      "    Overflow\n",
      "   Subnormal\n",
      "    Underflow\n",
      "   DivisionByZero\n",
      "   FloatOperation\n",
      "   InvalidOperation\n",
      "    ConversionSyntax\n",
      "    DivisionImpossible\n",
      "    DivisionUndefined\n",
      "    InvalidContext\n",
      " SystemError\n",
      "  CodecRegistryError\n",
      " ReferenceError\n",
      " MemoryError\n",
      " BufferError\n",
      " Warning\n",
      "  UserWarning\n",
      "   GetPassWarning\n",
      "   FormatterWarning\n",
      "  EncodingWarning\n",
      "  DeprecationWarning\n",
      "   ProvisionalWarning\n",
      "  PendingDeprecationWarning\n",
      "  SyntaxWarning\n",
      "  RuntimeWarning\n",
      "   ProactorSelectorThreadWarning\n",
      "   UnknownTimezoneWarning\n",
      "   PEP440Warning\n",
      "  FutureWarning\n",
      "   ProvisionalCompleterWarning\n",
      "  ImportWarning\n",
      "  UnicodeWarning\n",
      "  BytesWarning\n",
      "  ResourceWarning\n",
      "  DeprecatedTzFormatWarning\n",
      "  PkgResourcesDeprecationWarning\n",
      " _OptionError\n",
      " _Error\n",
      " error\n",
      " Verbose\n",
      " Error\n",
      " SubprocessError\n",
      "  CalledProcessError\n",
      "  TimeoutExpired\n",
      " TokenError\n",
      " StopTokenizing\n",
      " ClassFoundException\n",
      " EndOfBlock\n",
      " TraitError\n",
      " Error\n",
      " Error\n",
      "  CancelledError\n",
      "  TimeoutError\n",
      "  InvalidStateError\n",
      " _GiveupOnSendfile\n",
      " error\n",
      " Incomplete\n",
      " TimeoutError\n",
      " InvalidStateError\n",
      " LimitOverrunError\n",
      " QueueEmpty\n",
      " QueueFull\n",
      " Empty\n",
      " Full\n",
      " ArgumentError\n",
      " ZMQBaseError\n",
      "  ZMQError\n",
      "   ContextTerminated\n",
      "   Again\n",
      "   InterruptedSystemCall\n",
      "  ZMQBindError\n",
      "  NotDone\n",
      " PickleError\n",
      "  PicklingError\n",
      "  UnpicklingError\n",
      " _Stop\n",
      " ArgumentError\n",
      " ArgumentTypeError\n",
      " ConfigError\n",
      "  ConfigLoaderError\n",
      "   ArgumentError\n",
      "  ConfigFileNotFound\n",
      " ConfigurableError\n",
      "  MultipleInstanceError\n",
      " ApplicationError\n",
      " error\n",
      " TimeoutError\n",
      " error\n",
      " ReturnValueIgnoredError\n",
      " KeyReuseError\n",
      " UnknownKeyError\n",
      " LeakedCallbackError\n",
      " BadYieldError\n",
      " ReturnValueIgnoredError\n",
      " Return\n",
      " InvalidPortNumber\n",
      " error\n",
      " LZMAError\n",
      " RegistryError\n",
      " _GiveupOnFastCopy\n",
      " Error\n",
      "  NoSectionError\n",
      "  DuplicateSectionError\n",
      "  DuplicateOptionError\n",
      "  NoOptionError\n",
      "  InterpolationError\n",
      "   InterpolationMissingOptionError\n",
      "   InterpolationSyntaxError\n",
      "   InterpolationDepthError\n",
      "  ParsingError\n",
      "   MissingSectionHeaderError\n",
      " NoIPAddresses\n",
      " BadZipFile\n",
      " LargeZipFile\n",
      " BadEntryPoint\n",
      " NoSuchEntryPoint\n",
      " DuplicateKernelError\n",
      " ErrorDuringImport\n",
      " NotOneValueFound\n",
      " CannotEval\n",
      " OptionError\n",
      " BdbQuit\n",
      " Restart\n",
      " ExceptionPexpect\n",
      "  EOF\n",
      "  TIMEOUT\n",
      " PtyProcessError\n",
      " FindCmdError\n",
      " HomeDirError\n",
      " ProfileDirError\n",
      " IPythonCoreError\n",
      "  TryNext\n",
      "  UsageError\n",
      "  StdinNotImplementedError\n",
      " InputRejected\n",
      " GetoptError\n",
      " ErrorToken\n",
      " PrefilterError\n",
      " AliasError\n",
      "  InvalidAliasError\n",
      " Error\n",
      "  InterfaceError\n",
      "  DatabaseError\n",
      "   InternalError\n",
      "   OperationalError\n",
      "   ProgrammingError\n",
      "   IntegrityError\n",
      "   DataError\n",
      "   NotSupportedError\n",
      " Warning\n",
      " SpaceInInput\n",
      " DOMException\n",
      "  IndexSizeErr\n",
      "  DomstringSizeErr\n",
      "  HierarchyRequestErr\n",
      "  WrongDocumentErr\n",
      "  InvalidCharacterErr\n",
      "  NoDataAllowedErr\n",
      "  NoModificationAllowedErr\n",
      "  NotFoundErr\n",
      "  NotSupportedErr\n",
      "  InuseAttributeErr\n",
      "  InvalidStateErr\n",
      "  SyntaxErr\n",
      "  InvalidModificationErr\n",
      "  NamespaceErr\n",
      "  InvalidAccessErr\n",
      "  ValidationErr\n",
      " ValidationError\n",
      " EditReadOnlyBuffer\n",
      " _Retry\n",
      " InvalidLayoutError\n",
      " HeightIsUnknownError\n",
      " ParserSyntaxError\n",
      " InternalParseError\n",
      " _PositionUpdatingFinished\n",
      " SimpleGetItemNotFound\n",
      " UncaughtAttributeError\n",
      " HasNoContext\n",
      " ParamIssue\n",
      " _JediError\n",
      "  InternalError\n",
      "  WrongVersion\n",
      "  RefactoringError\n",
      " OnErrorLeaf\n",
      " InvalidPythonEnvironment\n",
      " MessageError\n",
      "  MessageParseError\n",
      "   HeaderParseError\n",
      "   BoundaryError\n",
      "  MultipartConversionError\n",
      "  CharsetError\n",
      " Error\n",
      " HTTPException\n",
      "  NotConnected\n",
      "  InvalidURL\n",
      "  UnknownProtocol\n",
      "  UnknownTransferEncoding\n",
      "  UnimplementedFileMode\n",
      "  IncompleteRead\n",
      "  ImproperConnectionState\n",
      "   CannotSendRequest\n",
      "   CannotSendHeader\n",
      "   ResponseNotReady\n",
      "  BadStatusLine\n",
      "   RemoteDisconnected\n",
      "  LineTooLong\n",
      " InteractivelyDefined\n",
      " KillEmbedded\n",
      " Error\n",
      "  NoSuchProcess\n",
      "   ZombieProcess\n",
      "  AccessDenied\n",
      "  TimeoutExpired\n",
      " _Ipv6UnsupportedError\n",
      " QueueEmpty\n",
      " QueueFull\n",
      " DebuggerInitializationError\n",
      " ExpatError\n",
      " Error\n",
      "  ProtocolError\n",
      "  ResponseError\n",
      "  Fault\n",
      " ParseBaseException\n",
      "  ParseException\n",
      "  ParseFatalException\n",
      "   ParseSyntaxException\n",
      " RecursiveGrammarException\n",
      " ResolutionError\n",
      "  VersionConflict\n",
      "   ContextualVersionConflict\n",
      "  DistributionNotFound\n",
      "  UnknownExtra\n",
      " _Error\n",
      " UnableToResolveVariableException\n",
      " InvalidTypeInArgsException\n",
      " validateage\n"
     ]
    }
   ],
   "source": [
    "import logging \n",
    "\n",
    "def print_exception_hierarchy(exception,level=0):\n",
    "    print(\" \"*level+exception.__name__)\n",
    "    logging.info(\" \"*level+exception.__name__)\n",
    "    for subclass in exception.__subclasses__():\n",
    "        print_exception_hierarchy(subclass,level+1)\n",
    "        logging.info(f\"Subclass:{subclass},level:{level}\")\n",
    "        \n",
    "print_exception_hierarchy(Exception)"
   ]
  },
  {
   "cell_type": "markdown",
   "id": "58e7712d-31b9-4fc9-a21c-07332912ebe2",
   "metadata": {},
   "source": [
    "Question 3: What errors are defined in the ArithmeticError class? Explain any two with an example."
   ]
  },
  {
   "cell_type": "markdown",
   "id": "961958ab-5b22-4edb-b8ef-72916a75d85d",
   "metadata": {},
   "source": [
    "The ArithmeticError class is a built-in exception class in Python that is raised when an arithmetic operation fails. It is the base class for all errors that occur for numeric calculations.\n",
    "\n",
    "Here are two examples of errors defined in the ArithmeticError class:\n",
    "\n",
    "ZeroDivisionError: This error is raised when a number is divided by zero. For example, the following code will raise a ZeroDivisionError:"
   ]
  },
  {
   "cell_type": "code",
   "execution_count": 5,
   "id": "f66376cb-1d21-41bc-abbc-0b5572a21932",
   "metadata": {},
   "outputs": [
    {
     "ename": "ZeroDivisionError",
     "evalue": "division by zero",
     "output_type": "error",
     "traceback": [
      "\u001b[0;31m---------------------------------------------------------------------------\u001b[0m",
      "\u001b[0;31mZeroDivisionError\u001b[0m                         Traceback (most recent call last)",
      "Cell \u001b[0;32mIn[5], line 1\u001b[0m\n\u001b[0;32m----> 1\u001b[0m \u001b[38;5;241;43m2\u001b[39;49m\u001b[38;5;241;43m/\u001b[39;49m\u001b[38;5;241;43m0\u001b[39;49m\n",
      "\u001b[0;31mZeroDivisionError\u001b[0m: division by zero"
     ]
    }
   ],
   "source": [
    "2/0"
   ]
  },
  {
   "cell_type": "markdown",
   "id": "77b31949-1c22-412a-a4a4-d45f5c2fea31",
   "metadata": {},
   "source": [
    "2. OverflowError: This error is raised when the result of an arithmetic operation is too large to be represented by the numeric type. For example, the following code will raise an OverflowError:"
   ]
  },
  {
   "cell_type": "code",
   "execution_count": 6,
   "id": "04fb62eb-0f43-4884-9ab8-e764aeb8f2b2",
   "metadata": {},
   "outputs": [
    {
     "name": "stdout",
     "output_type": "stream",
     "text": [
      "inf\n"
     ]
    }
   ],
   "source": [
    "import sys \n",
    "\n",
    "x=sys.float_info.max\n",
    "y=x*2\n",
    "print(y)"
   ]
  },
  {
   "cell_type": "markdown",
   "id": "2b4ab4bb-e29e-4512-95e4-28d2fdaa76ee",
   "metadata": {},
   "source": [
    "In this example, we are trying to multiply the maximum float value by 2, which results in a value that exceeds the maximum representable value for a float. This causes the result to be represented as infinity (inf) instead of a numeric value, indicating that an overflow has occurred"
   ]
  },
  {
   "cell_type": "markdown",
   "id": "8e9408f2-5e37-408c-8272-24ed75008d7a",
   "metadata": {},
   "source": [
    "Question 4: Why LookupError class is used? Explain with an example KeyError and IndexError."
   ]
  },
  {
   "cell_type": "markdown",
   "id": "402dfec4-0e3c-4334-91f7-a75fcf9b0c7b",
   "metadata": {},
   "source": [
    "LookupError is the Base class for errors raised when something can't be found.\n",
    "\n",
    "1. KeyError: This exception is raised when we try to access a dictionary key that does not exist."
   ]
  },
  {
   "cell_type": "code",
   "execution_count": 7,
   "id": "fb962015-57a6-4624-a427-d05377340daf",
   "metadata": {},
   "outputs": [
    {
     "ename": "KeyError",
     "evalue": "'key4'",
     "output_type": "error",
     "traceback": [
      "\u001b[0;31m---------------------------------------------------------------------------\u001b[0m",
      "\u001b[0;31mKeyError\u001b[0m                                  Traceback (most recent call last)",
      "Cell \u001b[0;32mIn[7], line 2\u001b[0m\n\u001b[1;32m      1\u001b[0m d\u001b[38;5;241m=\u001b[39m{\u001b[38;5;124m\"\u001b[39m\u001b[38;5;124mkey1\u001b[39m\u001b[38;5;124m\"\u001b[39m:\u001b[38;5;124m\"\u001b[39m\u001b[38;5;124mvalue1\u001b[39m\u001b[38;5;124m\"\u001b[39m,\u001b[38;5;124m\"\u001b[39m\u001b[38;5;124mkey2\u001b[39m\u001b[38;5;124m\"\u001b[39m:\u001b[38;5;124m\"\u001b[39m\u001b[38;5;124mvalue2\u001b[39m\u001b[38;5;124m\"\u001b[39m,\u001b[38;5;124m\"\u001b[39m\u001b[38;5;124mkey3\u001b[39m\u001b[38;5;124m\"\u001b[39m:\u001b[38;5;124m\"\u001b[39m\u001b[38;5;124mvalue3\u001b[39m\u001b[38;5;124m\"\u001b[39m}\n\u001b[0;32m----> 2\u001b[0m \u001b[43md\u001b[49m\u001b[43m[\u001b[49m\u001b[38;5;124;43m\"\u001b[39;49m\u001b[38;5;124;43mkey4\u001b[39;49m\u001b[38;5;124;43m\"\u001b[39;49m\u001b[43m]\u001b[49m\n",
      "\u001b[0;31mKeyError\u001b[0m: 'key4'"
     ]
    }
   ],
   "source": [
    "d={\"key1\":\"value1\",\"key2\":\"value2\",\"key3\":\"value3\"}\n",
    "d[\"key4\"]"
   ]
  },
  {
   "cell_type": "markdown",
   "id": "26f20190-d80f-4372-b23c-5a379eb4788c",
   "metadata": {},
   "source": [
    "2. IndexError: This exception is raised when we try to access a list index that is out of range"
   ]
  },
  {
   "cell_type": "code",
   "execution_count": 8,
   "id": "cc907675-8706-458d-bf41-a6a9b26ef25e",
   "metadata": {},
   "outputs": [
    {
     "ename": "IndexError",
     "evalue": "list index out of range",
     "output_type": "error",
     "traceback": [
      "\u001b[0;31m---------------------------------------------------------------------------\u001b[0m",
      "\u001b[0;31mIndexError\u001b[0m                                Traceback (most recent call last)",
      "Cell \u001b[0;32mIn[8], line 2\u001b[0m\n\u001b[1;32m      1\u001b[0m l\u001b[38;5;241m=\u001b[39m[\u001b[38;5;241m1\u001b[39m,\u001b[38;5;241m2\u001b[39m,\u001b[38;5;241m3\u001b[39m,\u001b[38;5;241m4\u001b[39m,\u001b[38;5;241m5\u001b[39m,\u001b[38;5;241m6\u001b[39m,\u001b[38;5;241m7\u001b[39m,\u001b[38;5;241m8\u001b[39m,\u001b[38;5;241m9\u001b[39m,\u001b[38;5;241m10\u001b[39m]\n\u001b[0;32m----> 2\u001b[0m \u001b[43ml\u001b[49m\u001b[43m[\u001b[49m\u001b[38;5;241;43m11\u001b[39;49m\u001b[43m]\u001b[49m\n",
      "\u001b[0;31mIndexError\u001b[0m: list index out of range"
     ]
    }
   ],
   "source": [
    "l=[1,2,3,4,5,6,7,8,9,10]\n",
    "l[11]"
   ]
  },
  {
   "cell_type": "markdown",
   "id": "088fbafd-c6a7-4fb6-bf8b-f6449ae297c0",
   "metadata": {},
   "source": [
    "Question 5 : Explain ImportError. What is ModuleNotFoundError?"
   ]
  },
  {
   "cell_type": "markdown",
   "id": "10e98745-584a-4986-a39d-37a33a4b1cab",
   "metadata": {},
   "source": [
    "In Python, ImportError is a built-in exception class that is raised when an imported module, package, or name cannot be found or loaded. This error can occur for several reasons, such as a typo in the module or package name, the module or package not being installed, or the module or package being in a different directory than expected.\n",
    "\n",
    "For example, suppose you have a Python script that imports a module called maths using the import statement. If the maths module is not installed or is not available in the Python path, Python will raise an ImportError."
   ]
  },
  {
   "cell_type": "code",
   "execution_count": 9,
   "id": "e6902b07-58fe-425d-9baa-68a6d3ce7477",
   "metadata": {},
   "outputs": [
    {
     "ename": "ModuleNotFoundError",
     "evalue": "No module named 'maths'",
     "output_type": "error",
     "traceback": [
      "\u001b[0;31m---------------------------------------------------------------------------\u001b[0m",
      "\u001b[0;31mModuleNotFoundError\u001b[0m                       Traceback (most recent call last)",
      "Cell \u001b[0;32mIn[9], line 1\u001b[0m\n\u001b[0;32m----> 1\u001b[0m \u001b[38;5;28;01mimport\u001b[39;00m \u001b[38;5;21;01mmaths\u001b[39;00m \n",
      "\u001b[0;31mModuleNotFoundError\u001b[0m: No module named 'maths'"
     ]
    }
   ],
   "source": [
    "import maths "
   ]
  },
  {
   "cell_type": "markdown",
   "id": "4b7c8764-5f1f-4f9c-9089-930b35871716",
   "metadata": {},
   "source": [
    "Python 3.6 introduced a new subclass of ImportError called ModuleNotFoundError, which is raised when a module or package is not found during an import statement. ModuleNotFoundError provides a more specific error message, making it easier to diagnose and fix import errors.\n",
    "\n",
    "In Python 3.6 and later versions, if you try to import a non-existent module or package, Python will raise ModuleNotFoundError instead of the more general ImportError. This makes it easier to determine the cause of the error and fix it quickly."
   ]
  },
  {
   "cell_type": "markdown",
   "id": "0e6dda1d-c6bf-46b6-a149-9c2219adea2b",
   "metadata": {},
   "source": [
    "Question 6 : List down some best practices for exception handling in python."
   ]
  },
  {
   "cell_type": "markdown",
   "id": "3062ab62-b1af-4afa-b123-921112a525af",
   "metadata": {},
   "source": [
    "Here are some best practices for exception handling in Python:\n",
    "\n",
    "Catch only the specific exceptions that you are expecting and handle them accordingly. This helps in making your code more robust and maintainable.\n",
    "Use the try-except-else-finally block for handling exceptions. The try block contains the code that might raise an exception, the except block handles the exception, the else block executes if no exception is raised, and the finally block executes regardless of whether an exception is raised or not.\n",
    "Provide informative error messages that help in diagnosing and fixing the issue. Avoid generic error messages that do not provide any useful information to the user.\n",
    "Use logging to record errors and exceptions instead of printing them to the console. This helps in debugging and maintaining the code.\n",
    "Use multiple except blocks to handle different exceptions. This allows you to handle different exceptions in different ways, instead of having a single catch-all except block that handles all exceptions in the same way.\n",
    "Use context managers like with statements to ensure that resources like files and sockets are properly closed and cleaned up after use, even if an exception is raised.\n",
    "Avoid catching and silently ignoring exceptions, as this can lead to hard-to-diagnose bugs later on. Instead, log the exception and/or re-raise it with additional context.\n",
    "Do not use exceptions for control flow. Exceptions should only be used to handle exceptional or unexpected conditions, not to control the flow of the program.\n",
    "Always clean up after an exception. This includes closing files, freeing resources, and restoring the program state to its previous state."
   ]
  },
  {
   "cell_type": "code",
   "execution_count": null,
   "id": "14544af8-adec-408b-addf-31aaca681a05",
   "metadata": {},
   "outputs": [],
   "source": []
  }
 ],
 "metadata": {
  "kernelspec": {
   "display_name": "Python 3 (ipykernel)",
   "language": "python",
   "name": "python3"
  },
  "language_info": {
   "codemirror_mode": {
    "name": "ipython",
    "version": 3
   },
   "file_extension": ".py",
   "mimetype": "text/x-python",
   "name": "python",
   "nbconvert_exporter": "python",
   "pygments_lexer": "ipython3",
   "version": "3.10.8"
  }
 },
 "nbformat": 4,
 "nbformat_minor": 5
}
