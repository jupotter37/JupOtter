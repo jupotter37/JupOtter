{
 "cells": [
  {
   "cell_type": "code",
   "execution_count": 6,
   "metadata": {},
   "outputs": [
    {
     "data": {
      "text/plain": [
       "'/mnt/98e3e018-b3d0-4600-bbcb-cd8fb4f805a9/spectral_analysis/sdss_spectra'"
      ]
     },
     "execution_count": 6,
     "metadata": {},
     "output_type": "execute_result"
    }
   ],
   "source": [
    "pwd"
   ]
  },
  {
   "cell_type": "code",
   "execution_count": 7,
   "metadata": {},
   "outputs": [
    {
     "ename": "ImportError",
     "evalue": "cannot import name 'QSOFit'",
     "output_type": "error",
     "traceback": [
      "\u001b[0;31m-------------------------------------------------------------------------\u001b[0m",
      "\u001b[0;31mImportError\u001b[0m                             Traceback (most recent call last)",
      "\u001b[0;32m<ipython-input-7-074066cd5819>\u001b[0m in \u001b[0;36m<module>\u001b[0;34m\u001b[0m\n\u001b[1;32m      2\u001b[0m \u001b[0;32mimport\u001b[0m \u001b[0mmatplotlib\u001b[0m\u001b[0;34m\u001b[0m\u001b[0;34m\u001b[0m\u001b[0m\n\u001b[1;32m      3\u001b[0m \u001b[0;32mimport\u001b[0m \u001b[0mnumpy\u001b[0m \u001b[0;32mas\u001b[0m \u001b[0mnp\u001b[0m\u001b[0;34m\u001b[0m\u001b[0;34m\u001b[0m\u001b[0m\n\u001b[0;32m----> 4\u001b[0;31m \u001b[0;32mfrom\u001b[0m \u001b[0mPyQSOFit\u001b[0m \u001b[0;32mimport\u001b[0m \u001b[0mQSOFit\u001b[0m\u001b[0;34m\u001b[0m\u001b[0;34m\u001b[0m\u001b[0m\n\u001b[0m\u001b[1;32m      5\u001b[0m \u001b[0;32mfrom\u001b[0m \u001b[0mastropy\u001b[0m\u001b[0;34m.\u001b[0m\u001b[0mio\u001b[0m \u001b[0;32mimport\u001b[0m \u001b[0mfits\u001b[0m\u001b[0;34m\u001b[0m\u001b[0;34m\u001b[0m\u001b[0m\n\u001b[1;32m      6\u001b[0m \u001b[0;32mimport\u001b[0m \u001b[0mmatplotlib\u001b[0m\u001b[0;34m.\u001b[0m\u001b[0mpyplot\u001b[0m \u001b[0;32mas\u001b[0m \u001b[0mplt\u001b[0m\u001b[0;34m\u001b[0m\u001b[0;34m\u001b[0m\u001b[0m\n",
      "\u001b[0;31mImportError\u001b[0m: cannot import name 'QSOFit'"
     ]
    }
   ],
   "source": [
    "import glob, os,sys,timeit,glob\n",
    "import matplotlib\n",
    "import numpy as np\n",
    "from PyQSOFit import QSOFit\n",
    "from astropy.io import fits\n",
    "import matplotlib.pyplot as plt\n",
    "import warnings"
   ]
  },
  {
   "cell_type": "code",
   "execution_count": 8,
   "metadata": {},
   "outputs": [
    {
     "name": "stdout",
     "output_type": "stream",
     "text": [
      "\u001b[0m\u001b[01;34masym\u001b[0m/\r\n",
      "\u001b[01;34mbc03\u001b[0m/\r\n",
      "download_url.txt\r\n",
      "extract_ra.py\r\n",
      "\u001b[01;34mextra_spec\u001b[0m/\r\n",
      "fe_optical.txt\r\n",
      "fe_uv.txt\r\n",
      "filter_spectra.py\r\n",
      "find_spectra.py\r\n",
      "fitted_model.png.eps\r\n",
      "fit_the_spectrum.py\r\n",
      "fitting_result_spec-2025-53431-637.fits\r\n",
      "fitting_result_spec-2533-54585-612.fits\r\n",
      "fitting_result_spec_299_51671_549.fits\r\n",
      "fitting_result_spec-299-51671-549.fits\r\n",
      "fitting_result_spec-303-51615-146.fits\r\n",
      "fitting_result_spec-311-51665-560.fits\r\n",
      "fitting_result_spec-312-51689-588.fits\r\n",
      "fitting_result_spec-340-51990-329.fits\r\n",
      "fitting_result_spec-353-51703-460.fits\r\n",
      "fitting_result_spec-355-51788-408.fits\r\n",
      "fitting_result_spec-398-51789-142.fits\r\n",
      "fitting_result_spec-401-51788-31.fits\r\n",
      "fitting_result_spec-411-51873-513.fits\r\n",
      "fitting_result_spec-412-52258-400.fits\r\n",
      "fitting_result_spec-422-51811-224.fits\r\n",
      "fitting_result_spec-441-51868-278.fits\r\n",
      "fitting_result_spec-456-51910-77.fits\r\n",
      "fitting_result_spec-462-51909-457.fits\r\n",
      "fitting_result_spec-491-51942-1.fits\r\n",
      "fitting_result_spec-497-51989-14.fits\r\n",
      "fitting_result_spec-498-51984-350.fits\r\n",
      "fitting_result_spec-524-52027-165.fits\r\n",
      "fitting_result_spec-570-52266-263.fits\r\n",
      "fitting_result_spec-604-52079-90.fits\r\n",
      "fitting_result_spec-796-52401-417.fits\r\n",
      "fitting_result_spec-958-52410-606.fits\r\n",
      "fwhm_rakshit2.csv\r\n",
      "fwhm_rakshit.csv\r\n",
      "generate_qsopar.py\r\n",
      "list.txt\r\n",
      "\u001b[01;34mmain_spectra\u001b[0m/\r\n",
      "master_nlsy1_table_xmm_rosat_soft_hard_nsnr_data.txt\r\n",
      "new_ra.txt\r\n",
      "new.txt\r\n",
      "nohup.out\r\n",
      "optical_search_352367.csv\r\n",
      "\u001b[01;34mpca\u001b[0m/\r\n",
      "\u001b[01;34m__pycache__\u001b[0m/\r\n",
      "PyQSOFit.py\r\n",
      "PyQSOFit.pyc\r\n",
      "qsopar.fits\r\n",
      "ra_dec_of_big_paper.txt\r\n",
      "ra_dec_plate_mjd_fibre.txt\r\n",
      "rakshit_catalog_2017_data.txt\r\n",
      "res.txt\r\n",
      "show_spectra.py\r\n",
      "source_ra_dec_narrow.csv\r\n",
      "spec-1750-53358-0514.fits\r\n",
      "spec-1750-53358-0514.fits_fitted_model.png.eps\r\n",
      "spectra.txt\r\n",
      "spectrum.txt\r\n",
      "test_fwhm_all.txt\r\n",
      "test.txt\r\n"
     ]
    }
   ],
   "source": [
    "ls\n"
   ]
  },
  {
   "cell_type": "code",
   "execution_count": 11,
   "metadata": {},
   "outputs": [
    {
     "name": "stdout",
     "output_type": "stream",
     "text": [
      "\u001b[0m\u001b[01;34masym\u001b[0m/\r\n",
      "\u001b[01;34mbc03\u001b[0m/\r\n",
      "download_url.txt\r\n",
      "extract_ra.py\r\n",
      "\u001b[01;34mextra_spec\u001b[0m/\r\n",
      "fe_optical.txt\r\n",
      "fe_uv.txt\r\n",
      "filter_spectra.py\r\n",
      "find_spectra.py\r\n",
      "fitted_model.png.eps\r\n",
      "fit_the_spectrum.py\r\n",
      "fitting_result_spec-2025-53431-637.fits\r\n",
      "fitting_result_spec-2533-54585-612.fits\r\n",
      "fitting_result_spec_299_51671_549.fits\r\n",
      "fitting_result_spec-299-51671-549.fits\r\n",
      "fitting_result_spec-303-51615-146.fits\r\n",
      "fitting_result_spec-311-51665-560.fits\r\n",
      "fitting_result_spec-312-51689-588.fits\r\n",
      "fitting_result_spec-340-51990-329.fits\r\n",
      "fitting_result_spec-353-51703-460.fits\r\n",
      "fitting_result_spec-355-51788-408.fits\r\n",
      "fitting_result_spec-398-51789-142.fits\r\n",
      "fitting_result_spec-401-51788-31.fits\r\n",
      "fitting_result_spec-411-51873-513.fits\r\n",
      "fitting_result_spec-412-52258-400.fits\r\n",
      "fitting_result_spec-422-51811-224.fits\r\n",
      "fitting_result_spec-441-51868-278.fits\r\n",
      "fitting_result_spec-456-51910-77.fits\r\n",
      "fitting_result_spec-462-51909-457.fits\r\n",
      "fitting_result_spec-491-51942-1.fits\r\n",
      "fitting_result_spec-497-51989-14.fits\r\n",
      "fitting_result_spec-498-51984-350.fits\r\n",
      "fitting_result_spec-524-52027-165.fits\r\n",
      "fitting_result_spec-570-52266-263.fits\r\n",
      "fitting_result_spec-604-52079-90.fits\r\n",
      "fitting_result_spec-796-52401-417.fits\r\n",
      "fitting_result_spec-958-52410-606.fits\r\n",
      "fwhm_rakshit2.csv\r\n",
      "fwhm_rakshit.csv\r\n",
      "generate_qsopar.py\r\n",
      "list.txt\r\n",
      "\u001b[01;34mmain_spectra\u001b[0m/\r\n",
      "master_nlsy1_table_xmm_rosat_soft_hard_nsnr_data.txt\r\n",
      "new_ra.txt\r\n",
      "new.txt\r\n",
      "nohup.out\r\n",
      "optical_search_352367.csv\r\n",
      "\u001b[01;34mpca\u001b[0m/\r\n",
      "\u001b[01;34m__pycache__\u001b[0m/\r\n",
      "PyQSOFit.py\r\n",
      "PyQSOFit.pyc\r\n",
      "qsopar.fits\r\n",
      "ra_dec_of_big_paper.txt\r\n",
      "ra_dec_plate_mjd_fibre.txt\r\n",
      "rakshit_catalog_2017_data.txt\r\n",
      "res.txt\r\n",
      "show_spectra.py\r\n",
      "source_ra_dec_narrow.csv\r\n",
      "spec-1750-53358-0514.fits\r\n",
      "spec-1750-53358-0514.fits_fitted_model.png.eps\r\n",
      "spectra.txt\r\n",
      "spectrum.txt\r\n",
      "test_fwhm_all.txt\r\n",
      "test.txt\r\n"
     ]
    }
   ],
   "source": [
    "ls\n"
   ]
  },
  {
   "cell_type": "code",
   "execution_count": 12,
   "metadata": {},
   "outputs": [
    {
     "ename": "ModuleNotFoundError",
     "evalue": "No module named 'PyQSOFit.py'",
     "output_type": "error",
     "traceback": [
      "\u001b[0;31m-------------------------------------------------------------------------\u001b[0m",
      "\u001b[0;31mModuleNotFoundError\u001b[0m                     Traceback (most recent call last)",
      "\u001b[0;32m<ipython-input-12-24eec1338f59>\u001b[0m in \u001b[0;36m<module>\u001b[0;34m\u001b[0m\n\u001b[0;32m----> 1\u001b[0;31m \u001b[0;32mimport\u001b[0m \u001b[0mPyQSOFit\u001b[0m\u001b[0;34m.\u001b[0m\u001b[0mpy\u001b[0m\u001b[0;34m\u001b[0m\u001b[0;34m\u001b[0m\u001b[0m\n\u001b[0m",
      "\u001b[0;31mModuleNotFoundError\u001b[0m: No module named 'PyQSOFit.py'"
     ]
    }
   ],
   "source": [
    "import PyQSOFit.py"
   ]
  },
  {
   "cell_type": "code",
   "execution_count": 13,
   "metadata": {},
   "outputs": [
    {
     "name": "stdout",
     "output_type": "stream",
     "text": [
      "total 4132\r\n",
      "-rw-rw-r-- 1 vivek vivek   33580 Dec  3 15:45 master_nlsy1_table_xmm_rosat_soft_hard_nsnr_data.txt\r\n",
      "-rw-rw-r-- 1 vivek vivek    3455 Dec  9 22:41 source_ra_dec_narrow.csv\r\n",
      "-rw-rw-r-- 1 vivek vivek   26212 Dec 10 14:41 download_url.txt\r\n",
      "-rw-rw-r-- 1 vivek vivek   31848 Dec 10 14:46 optical_search_352367.csv\r\n",
      "-rw-rw-r-- 1 vivek vivek   54081 Dec 10 18:39 fe_optical.txt\r\n",
      "-rw-rw-r-- 1 vivek vivek   56110 Dec 10 18:39 spectrum.txt\r\n",
      "-rw-r--r-- 1 vivek vivek   49284 Dec 10 18:39 spectra.txt\r\n",
      "-rw-rw-r-- 1 vivek vivek   89340 Dec 10 18:39 fe_uv.txt\r\n",
      "-rw-rw-r-- 1 vivek vivek    9730 Dec 12 15:28 ra_dec_plate_mjd_fibre.txt\r\n",
      "-rw-rw-r-- 1 vivek vivek    5625 Dec 12 16:08 new_ra.txt\r\n",
      "-rw-rw-r-- 1 vivek vivek    1009 Dec 12 16:34 filter_spectra.py\r\n",
      "-rw-rw-r-- 1 vivek vivek    1191 Dec 13 16:58 find_spectra.py\r\n",
      "-rw-rw-r-- 1 vivek vivek    1700 Dec 13 17:25 new.txt\r\n",
      "-rw-rw-r-- 1 vivek vivek  319360 Dec 18 16:46 ra_dec_of_big_paper.txt\r\n",
      "-rw-rw-r-- 1 vivek vivek     323 Dec 18 19:29 extract_ra.py\r\n",
      "drwxr-xr-x 3 vivek vivek    4096 Dec 26 17:32 \u001b[0m\u001b[01;34mbc03\u001b[0m/\r\n",
      "drwxrwxr-x 3 vivek vivek    4096 Dec 26 17:32 \u001b[01;34mextra_spec\u001b[0m/\r\n",
      "drwxrwxr-x 3 vivek vivek    4096 Dec 26 17:32 \u001b[01;34mpca\u001b[0m/\r\n",
      "-rw-rw-r-- 1 vivek vivek 1365423 Dec 26 23:53 rakshit_catalog_2017_data.txt\r\n",
      "-rw-rw-r-- 1 vivek vivek  265264 Dec 27 00:37 fwhm_rakshit.csv\r\n",
      "-rw------- 1 vivek vivek       0 Dec 29 17:06 nohup.out\r\n",
      "-rw-rw-r-- 1 vivek vivek    8232 Dec 29 19:45 test_fwhm_all.txt\r\n",
      "-rw-rw-r-- 1 vivek vivek  217022 Dec 30 19:24 fwhm_rakshit2.csv\r\n",
      "-rw-rw-r-- 1 vivek vivek  172800 Jan  6 14:53 spec-1750-53358-0514.fits\r\n",
      "-rw-rw-r-- 1 vivek vivek  183877 Jan  6 15:01 spec-1750-53358-0514.fits_fitted_model.png.eps\r\n",
      "-rw-rw-r-- 1 vivek vivek      85 Jan  6 16:02 list.txt\r\n",
      "-rw-rw-r-- 1 vivek vivek   58876 Jan 14 11:22 PyQSOFit.pyc\r\n",
      "-rw-rw-r-- 1 vivek vivek     340 Jan 14 11:40 test.txt\r\n",
      "-rw-rw-r-- 1 vivek vivek  491857 Jan 16 16:42 fitted_model.png.eps\r\n",
      "-rw-rw-r-- 1 vivek vivek   69841 Jan 16 19:44 PyQSOFit.py\r\n",
      "-rw-rw-r-- 1 vivek vivek   20160 Jan 16 19:49 fitting_result_spec_299_51671_549.fits\r\n",
      "drwxrwxr-x 5 vivek vivek   32768 Jan 16 22:02 \u001b[01;34mmain_spectra\u001b[0m/\r\n",
      "drwxrwxr-x 2 vivek vivek    4096 Jan 27 11:55 \u001b[01;34m__pycache__\u001b[0m/\r\n",
      "-rw-rw-r-- 1 vivek vivek   20160 Jan 27 12:39 fitting_result_spec-340-51990-329.fits\r\n",
      "-rw-rw-r-- 1 vivek vivek   20160 Jan 27 12:40 fitting_result_spec-353-51703-460.fits\r\n",
      "-rw-rw-r-- 1 vivek vivek   20160 Jan 27 12:40 fitting_result_spec-355-51788-408.fits\r\n",
      "-rw-rw-r-- 1 vivek vivek   20160 Jan 27 12:40 fitting_result_spec-398-51789-142.fits\r\n",
      "-rw-rw-r-- 1 vivek vivek   20160 Jan 27 12:40 fitting_result_spec-401-51788-31.fits\r\n",
      "-rw-rw-r-- 1 vivek vivek   20160 Jan 27 12:40 fitting_result_spec-411-51873-513.fits\r\n",
      "-rw-rw-r-- 1 vivek vivek   20160 Jan 27 12:40 fitting_result_spec-412-52258-400.fits\r\n",
      "-rw-rw-r-- 1 vivek vivek   20160 Jan 27 12:40 fitting_result_spec-422-51811-224.fits\r\n",
      "-rw-rw-r-- 1 vivek vivek   20160 Jan 27 12:41 fitting_result_spec-441-51868-278.fits\r\n",
      "-rw-rw-r-- 1 vivek vivek   20160 Jan 27 12:42 fitting_result_spec-456-51910-77.fits\r\n",
      "-rw-rw-r-- 1 vivek vivek   20160 Jan 27 12:42 fitting_result_spec-462-51909-457.fits\r\n",
      "-rw-rw-r-- 1 vivek vivek   20160 Jan 27 12:42 fitting_result_spec-491-51942-1.fits\r\n",
      "-rw-rw-r-- 1 vivek vivek   20160 Jan 27 12:43 fitting_result_spec-497-51989-14.fits\r\n",
      "-rw-rw-r-- 1 vivek vivek   20160 Jan 27 12:43 fitting_result_spec-498-51984-350.fits\r\n",
      "-rw-rw-r-- 1 vivek vivek   23040 Jan 27 14:59 fitting_result_spec-312-51689-588.fits\r\n",
      "-rw-rw-r-- 1 vivek vivek   20160 Jan 27 15:00 fitting_result_spec-299-51671-549.fits\r\n",
      "-rw-rw-r-- 1 vivek vivek   20160 Jan 27 15:00 fitting_result_spec-303-51615-146.fits\r\n",
      "-rw-rw-r-- 1 vivek vivek   20160 Jan 27 15:00 fitting_result_spec-311-51665-560.fits\r\n",
      "-rw-rw-r-- 1 vivek vivek   20160 Feb  3 20:20 fitting_result_spec-570-52266-263.fits\r\n",
      "-rw-rw-r-- 1 vivek vivek    1838 Feb  5 16:16 show_spectra.py\r\n",
      "-rw-rw-r-- 1 vivek vivek    6069 Feb  5 16:53 generate_qsopar.py\r\n",
      "-rw-rw-r-- 1 vivek vivek   11520 Feb  5 16:53 qsopar.fits\r\n",
      "-rw-rw-r-- 1 vivek vivek   23040 Feb  6 19:16 fitting_result_spec-524-52027-165.fits\r\n",
      "-rw-rw-r-- 1 vivek vivek   23040 Feb  6 19:16 fitting_result_spec-604-52079-90.fits\r\n",
      "-rw-rw-r-- 1 vivek vivek   23040 Feb  6 19:16 fitting_result_spec-796-52401-417.fits\r\n",
      "-rw-rw-r-- 1 vivek vivek   23040 Feb  6 19:16 fitting_result_spec-958-52410-606.fits\r\n",
      "-rw-rw-r-- 1 vivek vivek   23040 Feb  6 19:16 fitting_result_spec-2025-53431-637.fits\r\n",
      "-rw-rw-r-- 1 vivek vivek   23040 Feb  6 19:16 fitting_result_spec-2533-54585-612.fits\r\n",
      "-rw-rw-r-- 1 vivek vivek    1304 Feb  6 19:16 res.txt\r\n",
      "drwxrwxr-x 3 vivek vivek    4096 Feb  6 19:26 \u001b[01;34masym\u001b[0m/\r\n",
      "-rw-rw-r-- 1 vivek vivek    6940 Feb  6 19:40 fit_the_spectrum.py\r\n"
     ]
    }
   ],
   "source": [
    "ls -ltr"
   ]
  },
  {
   "cell_type": "code",
   "execution_count": 14,
   "metadata": {},
   "outputs": [],
   "source": [
    "from astropy.io import fits"
   ]
  },
  {
   "cell_type": "code",
   "execution_count": 15,
   "metadata": {},
   "outputs": [
    {
     "data": {
      "text/plain": [
       "'/mnt/98e3e018-b3d0-4600-bbcb-cd8fb4f805a9/spectral_analysis/sdss_spectra'"
      ]
     },
     "execution_count": 15,
     "metadata": {},
     "output_type": "execute_result"
    }
   ],
   "source": [
    "pwd\n"
   ]
  },
  {
   "cell_type": "code",
   "execution_count": 16,
   "metadata": {},
   "outputs": [
    {
     "name": "stdout",
     "output_type": "stream",
     "text": [
      "/mnt/98e3e018-b3d0-4600-bbcb-cd8fb4f805a9/spectral_analysis/sdss_spectra/asym\n"
     ]
    }
   ],
   "source": [
    "cd asym/"
   ]
  },
  {
   "cell_type": "code",
   "execution_count": 17,
   "metadata": {},
   "outputs": [
    {
     "ename": "FileNotFoundError",
     "evalue": "[Errno 2] No such file or directory: 'fitting_result_spec-398-51789-142.fits'",
     "output_type": "error",
     "traceback": [
      "\u001b[0;31m-------------------------------------------------------------------------\u001b[0m",
      "\u001b[0;31mFileNotFoundError\u001b[0m                       Traceback (most recent call last)",
      "\u001b[0;32m<ipython-input-17-cd958f4d3684>\u001b[0m in \u001b[0;36m<module>\u001b[0;34m\u001b[0m\n\u001b[0;32m----> 1\u001b[0;31m \u001b[0mdata\u001b[0m\u001b[0;34m,\u001b[0m\u001b[0mheader\u001b[0m\u001b[0;34m=\u001b[0m\u001b[0mfits\u001b[0m\u001b[0;34m.\u001b[0m\u001b[0mgetdata\u001b[0m\u001b[0;34m(\u001b[0m\u001b[0;34m'fitting_result_spec-398-51789-142.fits'\u001b[0m\u001b[0;34m,\u001b[0m\u001b[0mheader\u001b[0m\u001b[0;34m=\u001b[0m\u001b[0;32mTrue\u001b[0m\u001b[0;34m)\u001b[0m\u001b[0;34m\u001b[0m\u001b[0;34m\u001b[0m\u001b[0m\n\u001b[0m",
      "\u001b[0;32m~/anaconda3/lib/python3.6/site-packages/astropy/io/fits/convenience.py\u001b[0m in \u001b[0;36mgetdata\u001b[0;34m(filename, header, lower, upper, view, *args, **kwargs)\u001b[0m\n\u001b[1;32m    187\u001b[0m     \u001b[0mmode\u001b[0m\u001b[0;34m,\u001b[0m \u001b[0mclosed\u001b[0m \u001b[0;34m=\u001b[0m \u001b[0m_get_file_mode\u001b[0m\u001b[0;34m(\u001b[0m\u001b[0mfilename\u001b[0m\u001b[0;34m)\u001b[0m\u001b[0;34m\u001b[0m\u001b[0;34m\u001b[0m\u001b[0m\n\u001b[1;32m    188\u001b[0m \u001b[0;34m\u001b[0m\u001b[0m\n\u001b[0;32m--> 189\u001b[0;31m     \u001b[0mhdulist\u001b[0m\u001b[0;34m,\u001b[0m \u001b[0mextidx\u001b[0m \u001b[0;34m=\u001b[0m \u001b[0m_getext\u001b[0m\u001b[0;34m(\u001b[0m\u001b[0mfilename\u001b[0m\u001b[0;34m,\u001b[0m \u001b[0mmode\u001b[0m\u001b[0;34m,\u001b[0m \u001b[0;34m*\u001b[0m\u001b[0margs\u001b[0m\u001b[0;34m,\u001b[0m \u001b[0;34m**\u001b[0m\u001b[0mkwargs\u001b[0m\u001b[0;34m)\u001b[0m\u001b[0;34m\u001b[0m\u001b[0;34m\u001b[0m\u001b[0m\n\u001b[0m\u001b[1;32m    190\u001b[0m     \u001b[0;32mtry\u001b[0m\u001b[0;34m:\u001b[0m\u001b[0;34m\u001b[0m\u001b[0;34m\u001b[0m\u001b[0m\n\u001b[1;32m    191\u001b[0m         \u001b[0mhdu\u001b[0m \u001b[0;34m=\u001b[0m \u001b[0mhdulist\u001b[0m\u001b[0;34m[\u001b[0m\u001b[0mextidx\u001b[0m\u001b[0;34m]\u001b[0m\u001b[0;34m\u001b[0m\u001b[0;34m\u001b[0m\u001b[0m\n",
      "\u001b[0;32m~/anaconda3/lib/python3.6/site-packages/astropy/io/fits/convenience.py\u001b[0m in \u001b[0;36m_getext\u001b[0;34m(filename, mode, ext, extname, extver, *args, **kwargs)\u001b[0m\n\u001b[1;32m   1022\u001b[0m         \u001b[0;32mraise\u001b[0m \u001b[0mTypeError\u001b[0m\u001b[0;34m(\u001b[0m\u001b[0;34m'extver alone cannot specify an extension.'\u001b[0m\u001b[0;34m)\u001b[0m\u001b[0;34m\u001b[0m\u001b[0;34m\u001b[0m\u001b[0m\n\u001b[1;32m   1023\u001b[0m \u001b[0;34m\u001b[0m\u001b[0m\n\u001b[0;32m-> 1024\u001b[0;31m     \u001b[0mhdulist\u001b[0m \u001b[0;34m=\u001b[0m \u001b[0mfitsopen\u001b[0m\u001b[0;34m(\u001b[0m\u001b[0mfilename\u001b[0m\u001b[0;34m,\u001b[0m \u001b[0mmode\u001b[0m\u001b[0;34m=\u001b[0m\u001b[0mmode\u001b[0m\u001b[0;34m,\u001b[0m \u001b[0;34m**\u001b[0m\u001b[0mkwargs\u001b[0m\u001b[0;34m)\u001b[0m\u001b[0;34m\u001b[0m\u001b[0;34m\u001b[0m\u001b[0m\n\u001b[0m\u001b[1;32m   1025\u001b[0m \u001b[0;34m\u001b[0m\u001b[0m\n\u001b[1;32m   1026\u001b[0m     \u001b[0;32mreturn\u001b[0m \u001b[0mhdulist\u001b[0m\u001b[0;34m,\u001b[0m \u001b[0mext\u001b[0m\u001b[0;34m\u001b[0m\u001b[0;34m\u001b[0m\u001b[0m\n",
      "\u001b[0;32m~/anaconda3/lib/python3.6/site-packages/astropy/io/fits/hdu/hdulist.py\u001b[0m in \u001b[0;36mfitsopen\u001b[0;34m(name, mode, memmap, save_backup, cache, lazy_load_hdus, **kwargs)\u001b[0m\n\u001b[1;32m    149\u001b[0m \u001b[0;34m\u001b[0m\u001b[0m\n\u001b[1;32m    150\u001b[0m     return HDUList.fromfile(name, mode, memmap, save_backup, cache,\n\u001b[0;32m--> 151\u001b[0;31m                             lazy_load_hdus, **kwargs)\n\u001b[0m\u001b[1;32m    152\u001b[0m \u001b[0;34m\u001b[0m\u001b[0m\n\u001b[1;32m    153\u001b[0m \u001b[0;34m\u001b[0m\u001b[0m\n",
      "\u001b[0;32m~/anaconda3/lib/python3.6/site-packages/astropy/io/fits/hdu/hdulist.py\u001b[0m in \u001b[0;36mfromfile\u001b[0;34m(cls, fileobj, mode, memmap, save_backup, cache, lazy_load_hdus, **kwargs)\u001b[0m\n\u001b[1;32m    388\u001b[0m         return cls._readfrom(fileobj=fileobj, mode=mode, memmap=memmap,\n\u001b[1;32m    389\u001b[0m                              \u001b[0msave_backup\u001b[0m\u001b[0;34m=\u001b[0m\u001b[0msave_backup\u001b[0m\u001b[0;34m,\u001b[0m \u001b[0mcache\u001b[0m\u001b[0;34m=\u001b[0m\u001b[0mcache\u001b[0m\u001b[0;34m,\u001b[0m\u001b[0;34m\u001b[0m\u001b[0;34m\u001b[0m\u001b[0m\n\u001b[0;32m--> 390\u001b[0;31m                              lazy_load_hdus=lazy_load_hdus, **kwargs)\n\u001b[0m\u001b[1;32m    391\u001b[0m \u001b[0;34m\u001b[0m\u001b[0m\n\u001b[1;32m    392\u001b[0m     \u001b[0;34m@\u001b[0m\u001b[0mclassmethod\u001b[0m\u001b[0;34m\u001b[0m\u001b[0;34m\u001b[0m\u001b[0m\n",
      "\u001b[0;32m~/anaconda3/lib/python3.6/site-packages/astropy/io/fits/hdu/hdulist.py\u001b[0m in \u001b[0;36m_readfrom\u001b[0;34m(cls, fileobj, data, mode, memmap, save_backup, cache, lazy_load_hdus, **kwargs)\u001b[0m\n\u001b[1;32m   1037\u001b[0m             \u001b[0;32mif\u001b[0m \u001b[0;32mnot\u001b[0m \u001b[0misinstance\u001b[0m\u001b[0;34m(\u001b[0m\u001b[0mfileobj\u001b[0m\u001b[0;34m,\u001b[0m \u001b[0m_File\u001b[0m\u001b[0;34m)\u001b[0m\u001b[0;34m:\u001b[0m\u001b[0;34m\u001b[0m\u001b[0;34m\u001b[0m\u001b[0m\n\u001b[1;32m   1038\u001b[0m                 \u001b[0;31m# instantiate a FITS file object (ffo)\u001b[0m\u001b[0;34m\u001b[0m\u001b[0;34m\u001b[0m\u001b[0;34m\u001b[0m\u001b[0m\n\u001b[0;32m-> 1039\u001b[0;31m                 \u001b[0mfileobj\u001b[0m \u001b[0;34m=\u001b[0m \u001b[0m_File\u001b[0m\u001b[0;34m(\u001b[0m\u001b[0mfileobj\u001b[0m\u001b[0;34m,\u001b[0m \u001b[0mmode\u001b[0m\u001b[0;34m=\u001b[0m\u001b[0mmode\u001b[0m\u001b[0;34m,\u001b[0m \u001b[0mmemmap\u001b[0m\u001b[0;34m=\u001b[0m\u001b[0mmemmap\u001b[0m\u001b[0;34m,\u001b[0m \u001b[0mcache\u001b[0m\u001b[0;34m=\u001b[0m\u001b[0mcache\u001b[0m\u001b[0;34m)\u001b[0m\u001b[0;34m\u001b[0m\u001b[0;34m\u001b[0m\u001b[0m\n\u001b[0m\u001b[1;32m   1040\u001b[0m             \u001b[0;31m# The Astropy mode is determined by the _File initializer if the\u001b[0m\u001b[0;34m\u001b[0m\u001b[0;34m\u001b[0m\u001b[0;34m\u001b[0m\u001b[0m\n\u001b[1;32m   1041\u001b[0m             \u001b[0;31m# supplied mode was None\u001b[0m\u001b[0;34m\u001b[0m\u001b[0;34m\u001b[0m\u001b[0;34m\u001b[0m\u001b[0m\n",
      "\u001b[0;32m~/anaconda3/lib/python3.6/site-packages/astropy/utils/decorators.py\u001b[0m in \u001b[0;36mwrapper\u001b[0;34m(*args, **kwargs)\u001b[0m\n\u001b[1;32m    519\u001b[0m                             \u001b[0mkwargs\u001b[0m\u001b[0;34m[\u001b[0m\u001b[0mnew_name\u001b[0m\u001b[0;34m[\u001b[0m\u001b[0mi\u001b[0m\u001b[0;34m]\u001b[0m\u001b[0;34m]\u001b[0m \u001b[0;34m=\u001b[0m \u001b[0mvalue\u001b[0m\u001b[0;34m\u001b[0m\u001b[0;34m\u001b[0m\u001b[0m\n\u001b[1;32m    520\u001b[0m \u001b[0;34m\u001b[0m\u001b[0m\n\u001b[0;32m--> 521\u001b[0;31m             \u001b[0;32mreturn\u001b[0m \u001b[0mfunction\u001b[0m\u001b[0;34m(\u001b[0m\u001b[0;34m*\u001b[0m\u001b[0margs\u001b[0m\u001b[0;34m,\u001b[0m \u001b[0;34m**\u001b[0m\u001b[0mkwargs\u001b[0m\u001b[0;34m)\u001b[0m\u001b[0;34m\u001b[0m\u001b[0;34m\u001b[0m\u001b[0m\n\u001b[0m\u001b[1;32m    522\u001b[0m \u001b[0;34m\u001b[0m\u001b[0m\n\u001b[1;32m    523\u001b[0m         \u001b[0;32mreturn\u001b[0m \u001b[0mwrapper\u001b[0m\u001b[0;34m\u001b[0m\u001b[0;34m\u001b[0m\u001b[0m\n",
      "\u001b[0;32m~/anaconda3/lib/python3.6/site-packages/astropy/io/fits/file.py\u001b[0m in \u001b[0;36m__init__\u001b[0;34m(self, fileobj, mode, memmap, overwrite, cache)\u001b[0m\n\u001b[1;32m    176\u001b[0m             \u001b[0mself\u001b[0m\u001b[0;34m.\u001b[0m\u001b[0m_open_fileobj\u001b[0m\u001b[0;34m(\u001b[0m\u001b[0mfileobj\u001b[0m\u001b[0;34m,\u001b[0m \u001b[0mmode\u001b[0m\u001b[0;34m,\u001b[0m \u001b[0moverwrite\u001b[0m\u001b[0;34m)\u001b[0m\u001b[0;34m\u001b[0m\u001b[0;34m\u001b[0m\u001b[0m\n\u001b[1;32m    177\u001b[0m         \u001b[0;32melif\u001b[0m \u001b[0misinstance\u001b[0m\u001b[0;34m(\u001b[0m\u001b[0mfileobj\u001b[0m\u001b[0;34m,\u001b[0m \u001b[0mstr\u001b[0m\u001b[0;34m)\u001b[0m\u001b[0;34m:\u001b[0m\u001b[0;34m\u001b[0m\u001b[0;34m\u001b[0m\u001b[0m\n\u001b[0;32m--> 178\u001b[0;31m             \u001b[0mself\u001b[0m\u001b[0;34m.\u001b[0m\u001b[0m_open_filename\u001b[0m\u001b[0;34m(\u001b[0m\u001b[0mfileobj\u001b[0m\u001b[0;34m,\u001b[0m \u001b[0mmode\u001b[0m\u001b[0;34m,\u001b[0m \u001b[0moverwrite\u001b[0m\u001b[0;34m)\u001b[0m\u001b[0;34m\u001b[0m\u001b[0;34m\u001b[0m\u001b[0m\n\u001b[0m\u001b[1;32m    179\u001b[0m         \u001b[0;32melse\u001b[0m\u001b[0;34m:\u001b[0m\u001b[0;34m\u001b[0m\u001b[0;34m\u001b[0m\u001b[0m\n\u001b[1;32m    180\u001b[0m             \u001b[0mself\u001b[0m\u001b[0;34m.\u001b[0m\u001b[0m_open_filelike\u001b[0m\u001b[0;34m(\u001b[0m\u001b[0mfileobj\u001b[0m\u001b[0;34m,\u001b[0m \u001b[0mmode\u001b[0m\u001b[0;34m,\u001b[0m \u001b[0moverwrite\u001b[0m\u001b[0;34m)\u001b[0m\u001b[0;34m\u001b[0m\u001b[0;34m\u001b[0m\u001b[0m\n",
      "\u001b[0;32m~/anaconda3/lib/python3.6/site-packages/astropy/io/fits/file.py\u001b[0m in \u001b[0;36m_open_filename\u001b[0;34m(self, filename, mode, overwrite)\u001b[0m\n\u001b[1;32m    553\u001b[0m \u001b[0;34m\u001b[0m\u001b[0m\n\u001b[1;32m    554\u001b[0m         \u001b[0;32mif\u001b[0m \u001b[0;32mnot\u001b[0m \u001b[0mself\u001b[0m\u001b[0;34m.\u001b[0m\u001b[0m_try_read_compressed\u001b[0m\u001b[0;34m(\u001b[0m\u001b[0mself\u001b[0m\u001b[0;34m.\u001b[0m\u001b[0mname\u001b[0m\u001b[0;34m,\u001b[0m \u001b[0mmagic\u001b[0m\u001b[0;34m,\u001b[0m \u001b[0mmode\u001b[0m\u001b[0;34m,\u001b[0m \u001b[0mext\u001b[0m\u001b[0;34m=\u001b[0m\u001b[0mext\u001b[0m\u001b[0;34m)\u001b[0m\u001b[0;34m:\u001b[0m\u001b[0;34m\u001b[0m\u001b[0;34m\u001b[0m\u001b[0m\n\u001b[0;32m--> 555\u001b[0;31m             \u001b[0mself\u001b[0m\u001b[0;34m.\u001b[0m\u001b[0m_file\u001b[0m \u001b[0;34m=\u001b[0m \u001b[0mfileobj_open\u001b[0m\u001b[0;34m(\u001b[0m\u001b[0mself\u001b[0m\u001b[0;34m.\u001b[0m\u001b[0mname\u001b[0m\u001b[0;34m,\u001b[0m \u001b[0mIO_FITS_MODES\u001b[0m\u001b[0;34m[\u001b[0m\u001b[0mmode\u001b[0m\u001b[0;34m]\u001b[0m\u001b[0;34m)\u001b[0m\u001b[0;34m\u001b[0m\u001b[0;34m\u001b[0m\u001b[0m\n\u001b[0m\u001b[1;32m    556\u001b[0m             \u001b[0mself\u001b[0m\u001b[0;34m.\u001b[0m\u001b[0mclose_on_error\u001b[0m \u001b[0;34m=\u001b[0m \u001b[0;32mTrue\u001b[0m\u001b[0;34m\u001b[0m\u001b[0;34m\u001b[0m\u001b[0m\n\u001b[1;32m    557\u001b[0m \u001b[0;34m\u001b[0m\u001b[0m\n",
      "\u001b[0;32m~/anaconda3/lib/python3.6/site-packages/astropy/io/fits/util.py\u001b[0m in \u001b[0;36mfileobj_open\u001b[0;34m(filename, mode)\u001b[0m\n\u001b[1;32m    386\u001b[0m     \"\"\"\n\u001b[1;32m    387\u001b[0m \u001b[0;34m\u001b[0m\u001b[0m\n\u001b[0;32m--> 388\u001b[0;31m     \u001b[0;32mreturn\u001b[0m \u001b[0mopen\u001b[0m\u001b[0;34m(\u001b[0m\u001b[0mfilename\u001b[0m\u001b[0;34m,\u001b[0m \u001b[0mmode\u001b[0m\u001b[0;34m,\u001b[0m \u001b[0mbuffering\u001b[0m\u001b[0;34m=\u001b[0m\u001b[0;36m0\u001b[0m\u001b[0;34m)\u001b[0m\u001b[0;34m\u001b[0m\u001b[0;34m\u001b[0m\u001b[0m\n\u001b[0m\u001b[1;32m    389\u001b[0m \u001b[0;34m\u001b[0m\u001b[0m\n\u001b[1;32m    390\u001b[0m \u001b[0;34m\u001b[0m\u001b[0m\n",
      "\u001b[0;31mFileNotFoundError\u001b[0m: [Errno 2] No such file or directory: 'fitting_result_spec-398-51789-142.fits'"
     ]
    }
   ],
   "source": [
    "data,header=fits.getdata('fitting_result_spec-398-51789-142.fits',header=True)"
   ]
  },
  {
   "cell_type": "code",
   "execution_count": null,
   "metadata": {},
   "outputs": [],
   "source": []
  }
 ],
 "metadata": {
  "kernelspec": {
   "display_name": "Python 3",
   "language": "python",
   "name": "python3"
  },
  "language_info": {
   "codemirror_mode": {
    "name": "ipython",
    "version": 3
   },
   "file_extension": ".py",
   "mimetype": "text/x-python",
   "name": "python",
   "nbconvert_exporter": "python",
   "pygments_lexer": "ipython3",
   "version": "3.6.8"
  }
 },
 "nbformat": 4,
 "nbformat_minor": 2
}
