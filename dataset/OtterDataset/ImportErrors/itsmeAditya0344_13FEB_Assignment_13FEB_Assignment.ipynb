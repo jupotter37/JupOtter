{
 "cells": [
  {
   "cell_type": "code",
   "execution_count": 1,
   "id": "c658f9da-f99a-49af-85f5-facbb5c6e367",
   "metadata": {},
   "outputs": [],
   "source": [
    "\"\"\"\n",
    "Q1. Explain why we have to use the Exception class while creating a Custom Exception.\n",
    "Note: Here Exception class refers to the base class for all the exceptions.\n",
    "ANS:----->\n",
    "In Python, the built-in Exception class is the base class for all exceptions.\n",
    "When we create a custom exception in Python, we typically inherit from the Exception\n",
    "class to define our new exception.\n",
    "\n",
    "There are a few reasons why we should inherit from the Exception class while creating a custom exception:\n",
    "1.Inheriting from Exception ensures that our custom exception\n",
    "is a subclass of the base Exception class, which is important because most\n",
    "code that handles exceptions is designed to handle subclasses of Exception.\n",
    "2.By inheriting from Exception, we can take advantage of the existing exception \n",
    "handling mechanisms in Python. This means that we can use the try, except, and finally\n",
    "statements to catch and handle our custom exceptions just like we would with any built-in exception.\n",
    "3.Inheriting from Exception allows us to customize the behavior of our custom exception.\n",
    "We can define additional methods or properties in our custom exception class to provide \n",
    "more specific information about the exception or to modify its behavior in other ways.\n",
    "\n",
    "\"\"\"\n",
    "class CustomException(Exception):\n",
    "    def __init__(self, message):\n",
    "        self.message = message\n",
    "        super().__init__(self.message)\n",
    "\n",
    "\n",
    "\n"
   ]
  },
  {
   "cell_type": "code",
   "execution_count": 2,
   "id": "e729285c-2d9e-4778-a0cc-dfa49e001737",
   "metadata": {},
   "outputs": [
    {
     "name": "stdout",
     "output_type": "stream",
     "text": [
      "Python exception hierarchy written to file.\n"
     ]
    }
   ],
   "source": [
    "# Q2. Write a python program to print Python Exception Hierarchy.\n",
    "# ANS:-\n",
    "with open('ABC.txt', 'w') as f:\n",
    "    class_list = []\n",
    "    for name in dir(__builtins__):\n",
    "        class_list.append(eval(name).__class__)\n",
    "\n",
    "    # Get the unique classes in the list\n",
    "    class_list = list(set(class_list))\n",
    "\n",
    "    # Print the class hierarchy for each class\n",
    "    for c in class_list:\n",
    "        if issubclass(c, BaseException):\n",
    "            f.write(c.__name__ + '\\n')\n",
    "            for subc in c.__subclasses__():\n",
    "                f.write('    ' + subc.__name__ + '\\n')\n",
    "\n",
    "print('Python exception hierarchy written to file.')\n"
   ]
  },
  {
   "cell_type": "code",
   "execution_count": 3,
   "id": "54fa02ae-c833-4da0-9401-43558223cc52",
   "metadata": {},
   "outputs": [
    {
     "ename": "ZeroDivisionError",
     "evalue": "division by zero",
     "output_type": "error",
     "traceback": [
      "\u001b[0;31m---------------------------------------------------------------------------\u001b[0m",
      "\u001b[0;31mZeroDivisionError\u001b[0m                         Traceback (most recent call last)",
      "Cell \u001b[0;32mIn[3], line 13\u001b[0m\n\u001b[1;32m      1\u001b[0m \u001b[38;5;124;03m\"\"\"\u001b[39;00m\n\u001b[1;32m      2\u001b[0m \u001b[38;5;124;03mQ3. What errors are defined in the ArithmeticError class? Explain any two with an example.\u001b[39;00m\n\u001b[1;32m      3\u001b[0m \u001b[38;5;124;03mANS:---->\u001b[39;00m\n\u001b[0;32m   (...)\u001b[0m\n\u001b[1;32m     10\u001b[0m \u001b[38;5;124;03mZeroDivisionError: This exception is raised when you try to divide a number by zero.\u001b[39;00m\n\u001b[1;32m     11\u001b[0m \u001b[38;5;124;03m\"\"\"\u001b[39;00m\n\u001b[1;32m     12\u001b[0m \u001b[38;5;66;03m#example\u001b[39;00m\n\u001b[0;32m---> 13\u001b[0m x \u001b[38;5;241m=\u001b[39m \u001b[38;5;241;43m1\u001b[39;49m\u001b[43m \u001b[49m\u001b[38;5;241;43m/\u001b[39;49m\u001b[43m \u001b[49m\u001b[38;5;241;43m0\u001b[39;49m\n",
      "\u001b[0;31mZeroDivisionError\u001b[0m: division by zero"
     ]
    }
   ],
   "source": [
    "\"\"\"\n",
    "Q3. What errors are defined in the ArithmeticError class? Explain any two with an example.\n",
    "ANS:---->\n",
    "The ArithmeticError class is a subclass of the Exception class in Python, \n",
    "and it is used to represent errors that occur during arithmetic operations. \n",
    "It is the parent class for several other exception classes that are related to arithmetic errors.\n",
    "\n",
    "Two exceptions that are defined in the ArithmeticError class and that we can discuss are:\n",
    "\n",
    "ZeroDivisionError: This exception is raised when you try to divide a number by zero.\n",
    "\"\"\"\n",
    "#example\n",
    "x = 1 / 0\n"
   ]
  },
  {
   "cell_type": "code",
   "execution_count": 4,
   "id": "b0cff51a-d1b3-4505-b3d3-5557f0b43acf",
   "metadata": {},
   "outputs": [],
   "source": [
    "\"\"\"\n",
    "OverflowError: This exception is raised when a calculation exceeds the maximum\n",
    "representable value for a numeric type.\n",
    "\"\"\"\n",
    "x = 2 ** 1000\n",
    "\n",
    "\n",
    "\"\"\"\n",
    "In both of these cases, the exception is raised because the arithmetic\n",
    "operation is not allowed or cannot be performed due to the limitations of the\n",
    "data type or the rules of arithmetic. These exceptions allow us to handle these \n",
    "errors and provide more informative error messages to the user. For example, we could\n",
    "catch the ZeroDivisionError and provide a message to the user that explains why the division \n",
    "operation failed and how to avoid the error in the future.\n",
    "\"\"\""
   ]
  },
  {
   "cell_type": "code",
   "execution_count": null,
   "id": "c8c3dcb3-6c38-4738-a949-6c2da798443f",
   "metadata": {},
   "outputs": [],
   "source": [
    "\"\"\"\n",
    "Q4. Why LookupError class is used? Explain with an example KeyError and IndexError.\n",
    "ANS:---->\n",
    "The LookupError class is a base class for exceptions that occur when a key or\n",
    "index is not found during a lookup operation. It is a subclass of the Exception \n",
    "class in Python and is used to represent errors that occur during indexing or key lookup operations.\n",
    "\n",
    "Two common exceptions that are defined in the LookupError class are:\n",
    "\n",
    "1.KeyError: This exception is raised when a dictionary key is not found in the dictionary.\n",
    "\n",
    "\"\"\"\n",
    "my_dict = {'apple': 1, 'banana': 2, 'orange': 3}\n",
    "x = my_dict['pear']\n",
    "\n",
    "#2.IndexError: This exception is raised when a list index is out of range or when a \n",
    "#string index is out of range.\n",
    "\n",
    "my_list = [1, 2, 3]\n",
    "x = my_list[3]"
   ]
  },
  {
   "cell_type": "code",
   "execution_count": 8,
   "id": "96a70e1e-563d-43dc-97f5-19d9db47124b",
   "metadata": {},
   "outputs": [
    {
     "name": "stdout",
     "output_type": "stream",
     "text": [
      "Could not import my_module\n"
     ]
    }
   ],
   "source": [
    "\"\"\"\n",
    "Q5. Explain ImportError. What is ModuleNotFoundError?\n",
    "\n",
    "ANS:---->\n",
    "In Python, ImportError is a built-in exception that is raised when a module, package,\n",
    "or object could not be imported. This exception can be raised for a variety of reasons,\n",
    "such as a missing module, a syntax error in the module, or a circular import that causes an import loop.\n",
    "\n",
    "The ImportError exception can occur in different scenarios, such as:\n",
    "\n",
    "1.A module or package could not be found in the search path.\n",
    "2.A module or package exists in the search path, but it has syntax errors that prevent it from being imported.\n",
    "3.A module or package depends on other modules or packages that could not be imported.\n",
    "\n",
    "In Python 3.6 and later versions, ModuleNotFoundError is a subclass of ImportError that is\n",
    "raised when a module or package could not be found in the search path. The ModuleNotFoundError\n",
    "exception is more specific than ImportError and provides a clearer error message to the user. \n",
    "This exception is raised when the interpreter can't find a module with the specified name in any \n",
    "of the locations in sys.path. This exception is raised when the specified module is not found, but\n",
    "all of the following are true:\n",
    "\n",
    "1.The module is not built-in to Python.\n",
    "2.The module is not a top-level package.\n",
    "3.The module has not been imported before the error occurred.\n",
    "\n",
    "\"\"\"\n",
    "try:\n",
    "    import my_module\n",
    "except ImportError:\n",
    "    print(\"Could not import my_module\")\n"
   ]
  },
  {
   "cell_type": "code",
   "execution_count": null,
   "id": "1292aba0-4541-4f80-87c6-5635b7e53818",
   "metadata": {},
   "outputs": [],
   "source": [
    "\"\"\"\n",
    "Q6. List down some best practices for exception handling in python.\n",
    "ANS:---->\n",
    "1.Exception handling is an important part of writing robust and reliable Python code. \n",
    "Here are some best practices for exception handling in Python:\n",
    "\n",
    "2.Be specific about the exceptions you catch: Avoid catching broad exceptions like Exception \n",
    "or BaseException. Instead, be specific and catch only the exceptions that you are expecting.\n",
    "This can help avoid unintended consequences and make it easier to debug issues.\n",
    "\n",
    "3.Use try-except blocks for critical sections of code: Wrap the critical sections of your\n",
    "code in try-except blocks to catch any potential exceptions that might occur. \n",
    "This can help prevent your program from crashing and allow it to recover from errors gracefully.\n",
    "\n",
    "4.Handle exceptions at the appropriate level: When handling exceptions,\n",
    "try to catch the exceptions at the appropriate level of the code. For example, if an \n",
    "exception occurs in a function, catch the exception in that function and handle it accordingly.\n",
    "\n",
    "5.Use finally to perform cleanup operations: Use the finally block to perform cleanup operations, \n",
    "such as closing files, releasing resources, or logging information. The code in the finally block\n",
    "is executed whether an exception is raised or not.\n",
    "\n",
    "6.Provide meaningful error messages: When raising or catching exceptions, provide meaningful\n",
    "error messages that explain what went wrong and how to fix it. This can help users understand \n",
    "what went wrong and how to avoid similar issues in the future.\n",
    "\n",
    "7.Avoid using exceptions for control flow: Exceptions should be used for error handling, \n",
    "not control flow. Avoid using exceptions to control the flow of your program, as this can \n",
    "make your code harder to understand and maintain.\n",
    "\n",
    "8.Use context managers to manage resources: Use context managers, such as the with statement,\n",
    "to manage resources, such as files or network connections. Context managers ensure that resources\n",
    "are properly released, even if an exception occurs.\n",
    "\n",
    "9.Don't ignore exceptions: Avoid ignoring exceptions or catching them and doing nothing. \n",
    "Ignoring exceptions can lead to hard-to-debug issues and can make your code less reliable.\n",
    "\n",
    "By following these best practices, you can write more robust, reliable, and maintainable\n",
    "Python code that handles exceptions effectively.\n",
    "\"\"\""
   ]
  }
 ],
 "metadata": {
  "kernelspec": {
   "display_name": "Python 3 (ipykernel)",
   "language": "python",
   "name": "python3"
  },
  "language_info": {
   "codemirror_mode": {
    "name": "ipython",
    "version": 3
   },
   "file_extension": ".py",
   "mimetype": "text/x-python",
   "name": "python",
   "nbconvert_exporter": "python",
   "pygments_lexer": "ipython3",
   "version": "3.10.8"
  }
 },
 "nbformat": 4,
 "nbformat_minor": 5
}
