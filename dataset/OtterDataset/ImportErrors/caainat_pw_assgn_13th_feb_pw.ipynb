{
 "cells": [
  {
   "cell_type": "code",
   "execution_count": 1,
   "metadata": {},
   "outputs": [
    {
     "data": {
      "text/plain": [
       "'the reasons why we use the Exception class while creating a custom exception:\\n\\nInheritance: The Exception class provides a solid foundation for custom exceptions by allowing them to inherit its properties and methods.\\n\\nConsistency: By extending the Exception class, custom exceptions adhere to the same interface and behavior as built-in exceptions, ensuring consistency in error handling across codebases.\\n\\nError Handling: Utilizing the Exception class facilitates proper error handling mechanisms, such as try-except blocks, making it easier to catch and manage custom exceptions alongside standard ones.\\n\\nDocumentation: Extending the Exception class helps in maintaining clear documentation and understanding of custom exceptions, as developers can refer to the standard Exception class for guidance on usage and behavior.\\n\\nInteroperability: Custom exceptions derived from the Exception class can seamlessly integrate with existing exception-handling frameworks and libraries, enhancing interoperability and code compatibility.\\n'"
      ]
     },
     "execution_count": 1,
     "metadata": {},
     "output_type": "execute_result"
    }
   ],
   "source": [
    "    \"\"\"the reasons why we use the Exception class while creating a custom exception:\n",
    "\n",
    "Inheritance: The Exception class provides a solid foundation for custom exceptions by allowing them to inherit its properties and methods.\n",
    "\n",
    "Consistency: By extending the Exception class, custom exceptions adhere to the same interface and behavior as built-in exceptions, ensuring consistency in error handling across codebases.\n",
    "\n",
    "Error Handling: Utilizing the Exception class facilitates proper error handling mechanisms, such as try-except blocks, making it easier to catch and manage custom exceptions alongside standard ones.\n",
    "\n",
    "Documentation: Extending the Exception class helps in maintaining clear documentation and understanding of custom exceptions, as developers can refer to the standard Exception class for guidance on usage and behavior.\n",
    "\n",
    "Interoperability: Custom exceptions derived from the Exception class can seamlessly integrate with existing exception-handling frameworks and libraries, enhancing interoperability and code compatibility.\n",
    "    \"\"\""
   ]
  },
  {
   "cell_type": "code",
   "execution_count": 2,
   "metadata": {},
   "outputs": [
    {
     "name": "stdout",
     "output_type": "stream",
     "text": [
      "Python Exception Hierarchy:\n",
      "<class 'BaseException'>\n",
      "    <class 'BaseExceptionGroup'>\n",
      "        <class 'ExceptionGroup'>\n",
      "    <class 'Exception'>\n",
      "        <class 'ArithmeticError'>\n",
      "            <class 'FloatingPointError'>\n",
      "            <class 'OverflowError'>\n",
      "            <class 'ZeroDivisionError'>\n",
      "                <class 'decimal.DivisionByZero'>\n",
      "                <class 'decimal.DivisionUndefined'>\n",
      "            <class 'decimal.DecimalException'>\n",
      "                <class 'decimal.Clamped'>\n",
      "                <class 'decimal.Rounded'>\n",
      "                    <class 'decimal.Underflow'>\n",
      "                    <class 'decimal.Overflow'>\n",
      "                <class 'decimal.Inexact'>\n",
      "                    <class 'decimal.Underflow'>\n",
      "                    <class 'decimal.Overflow'>\n",
      "                <class 'decimal.Subnormal'>\n",
      "                    <class 'decimal.Underflow'>\n",
      "                <class 'decimal.DivisionByZero'>\n",
      "                <class 'decimal.FloatOperation'>\n",
      "                <class 'decimal.InvalidOperation'>\n",
      "                    <class 'decimal.ConversionSyntax'>\n",
      "                    <class 'decimal.DivisionImpossible'>\n",
      "                    <class 'decimal.DivisionUndefined'>\n",
      "                    <class 'decimal.InvalidContext'>\n",
      "        <class 'AssertionError'>\n",
      "        <class 'AttributeError'>\n",
      "            <class 'dataclasses.FrozenInstanceError'>\n",
      "        <class 'BufferError'>\n",
      "        <class 'EOFError'>\n",
      "            <class 'asyncio.exceptions.IncompleteReadError'>\n",
      "        <class 'ImportError'>\n",
      "            <class 'ModuleNotFoundError'>\n",
      "                <class 'importlib.metadata.PackageNotFoundError'>\n",
      "            <class 'zipimport.ZipImportError'>\n",
      "        <class 'LookupError'>\n",
      "            <class 'IndexError'>\n",
      "            <class 'KeyError'>\n",
      "                <class 'jupyter_client.kernelspec.NoSuchKernel'>\n",
      "                <class 'IPython.terminal.pt_inputhooks.UnknownBackend'>\n",
      "            <class 'encodings.CodecRegistryError'>\n",
      "        <class 'MemoryError'>\n",
      "        <class 'NameError'>\n",
      "            <class 'UnboundLocalError'>\n",
      "        <class 'OSError'>\n",
      "            <class 'BlockingIOError'>\n",
      "            <class 'ChildProcessError'>\n",
      "            <class 'ConnectionError'>\n",
      "                <class 'BrokenPipeError'>\n",
      "                <class 'ConnectionAbortedError'>\n",
      "                <class 'ConnectionRefusedError'>\n",
      "                <class 'ConnectionResetError'>\n",
      "                    <class 'http.client.RemoteDisconnected'>\n",
      "            <class 'FileExistsError'>\n",
      "            <class 'FileNotFoundError'>\n",
      "            <class 'InterruptedError'>\n",
      "                <class 'zmq.error.InterruptedSystemCall'>\n",
      "            <class 'IsADirectoryError'>\n",
      "            <class 'NotADirectoryError'>\n",
      "            <class 'PermissionError'>\n",
      "            <class 'ProcessLookupError'>\n",
      "            <class 'TimeoutError'>\n",
      "            <class 'io.UnsupportedOperation'>\n",
      "            <class 'socket.herror'>\n",
      "            <class 'socket.gaierror'>\n",
      "            <class 'ssl.SSLError'>\n",
      "                <class 'ssl.SSLCertVerificationError'>\n",
      "                <class 'ssl.SSLZeroReturnError'>\n",
      "                <class 'ssl.SSLWantWriteError'>\n",
      "                <class 'ssl.SSLWantReadError'>\n",
      "                <class 'ssl.SSLSyscallError'>\n",
      "                <class 'ssl.SSLEOFError'>\n",
      "            <class 'shutil.Error'>\n",
      "                <class 'shutil.SameFileError'>\n",
      "            <class 'shutil.SpecialFileError'>\n",
      "            <class 'shutil.ExecError'>\n",
      "            <class 'shutil.ReadError'>\n",
      "            <class 'urllib.error.URLError'>\n",
      "                <class 'urllib.error.HTTPError'>\n",
      "                <class 'urllib.error.ContentTooShortError'>\n",
      "            <class 'gzip.BadGzipFile'>\n",
      "        <class 'ReferenceError'>\n",
      "        <class 'RuntimeError'>\n",
      "            <class 'NotImplementedError'>\n",
      "                <class 'zmq.error.ZMQVersionError'>\n",
      "                <class 'IPython.core.error.StdinNotImplementedError'>\n",
      "            <class 'RecursionError'>\n",
      "            <class '_frozen_importlib._DeadlockError'>\n",
      "            <class 'threading.BrokenBarrierError'>\n",
      "            <class 'concurrent.futures._base.BrokenExecutor'>\n",
      "                <class 'concurrent.futures.thread.BrokenThreadPool'>\n",
      "            <class 'asyncio.exceptions.SendfileNotAvailableError'>\n",
      "            <class 'asyncio.exceptions.BrokenBarrierError'>\n",
      "            <class '_pydevd_bundle.pydevd_vars.VariableError'>\n",
      "        <class 'StopAsyncIteration'>\n",
      "        <class 'StopIteration'>\n",
      "        <class 'SyntaxError'>\n",
      "            <class 'IndentationError'>\n",
      "                <class 'TabError'>\n",
      "        <class 'SystemError'>\n",
      "            <class 'encodings.CodecRegistryError'>\n",
      "        <class 'TypeError'>\n",
      "            <class 'decimal.FloatOperation'>\n",
      "            <class 'email.errors.MultipartConversionError'>\n",
      "        <class 'ValueError'>\n",
      "            <class 'UnicodeError'>\n",
      "                <class 'UnicodeDecodeError'>\n",
      "                <class 'UnicodeEncodeError'>\n",
      "                <class 'UnicodeTranslateError'>\n",
      "            <class 'io.UnsupportedOperation'>\n",
      "            <class 'json.decoder.JSONDecodeError'>\n",
      "            <class 'ssl.SSLCertVerificationError'>\n",
      "            <class 'binascii.Error'>\n",
      "            <class '_hashlib.UnsupportedDigestmodError'>\n",
      "            <class 'calendar.IllegalMonthError'>\n",
      "            <class 'calendar.IllegalWeekdayError'>\n",
      "            <class 'dateutil.parser._parser.ParserError'>\n",
      "            <class 'email.errors.MessageDefect'>\n",
      "                <class 'email.errors.NoBoundaryInMultipartDefect'>\n",
      "                <class 'email.errors.StartBoundaryNotFoundDefect'>\n",
      "                <class 'email.errors.CloseBoundaryNotFoundDefect'>\n",
      "                <class 'email.errors.FirstHeaderLineIsContinuationDefect'>\n",
      "                <class 'email.errors.MisplacedEnvelopeHeaderDefect'>\n",
      "                <class 'email.errors.MissingHeaderBodySeparatorDefect'>\n",
      "                <class 'email.errors.MultipartInvariantViolationDefect'>\n",
      "                <class 'email.errors.InvalidMultipartContentTransferEncodingDefect'>\n",
      "                <class 'email.errors.UndecodableBytesDefect'>\n",
      "                <class 'email.errors.InvalidBase64PaddingDefect'>\n",
      "                <class 'email.errors.InvalidBase64CharactersDefect'>\n",
      "                <class 'email.errors.InvalidBase64LengthDefect'>\n",
      "                <class 'email.errors.HeaderDefect'>\n",
      "                    <class 'email.errors.InvalidHeaderDefect'>\n",
      "                    <class 'email.errors.HeaderMissingRequiredValue'>\n",
      "                    <class 'email.errors.NonPrintableDefect'>\n",
      "                    <class 'email.errors.ObsoleteHeaderDefect'>\n",
      "                    <class 'email.errors.NonASCIILocalPartDefect'>\n",
      "                    <class 'email.errors.InvalidDateDefect'>\n",
      "            <class 'pygments.util.ClassNotFound'>\n",
      "            <class 'IPython.lib.clipboard.ClipboardEmpty'>\n",
      "            <class 'IPython.core.magics.code.MacroToEdit'>\n",
      "            <class 'packaging.version.InvalidVersion'>\n",
      "        <class 'Warning'>\n",
      "            <class 'BytesWarning'>\n",
      "            <class 'DeprecationWarning'>\n",
      "                <class 'IPython.core.interactiveshell.ProvisionalWarning'>\n",
      "            <class 'EncodingWarning'>\n",
      "            <class 'FutureWarning'>\n",
      "                <class 'IPython.core.completer.ProvisionalCompleterWarning'>\n",
      "            <class 'ImportWarning'>\n",
      "            <class 'PendingDeprecationWarning'>\n",
      "            <class 'ResourceWarning'>\n",
      "            <class 'RuntimeWarning'>\n",
      "                <class 'zmq.asyncio.ProactorSelectorThreadWarning'>\n",
      "                <class 'dateutil.parser._parser.UnknownTimezoneWarning'>\n",
      "            <class 'SyntaxWarning'>\n",
      "            <class 'UnicodeWarning'>\n",
      "            <class 'UserWarning'>\n",
      "                <class 'getpass.GetPassWarning'>\n",
      "                <class 'IPython.core.formatters.FormatterWarning'>\n",
      "            <class 'dateutil.tz.DeprecatedTzFormatWarning'>\n",
      "        <class 'ExceptionGroup'>\n",
      "        <class 'warnings._OptionError'>\n",
      "        <class 'runpy._Error'>\n",
      "        <class 're.error'>\n",
      "        <class 'locale.Error'>\n",
      "        <class 'subprocess.SubprocessError'>\n",
      "            <class 'subprocess.CalledProcessError'>\n",
      "            <class 'subprocess.TimeoutExpired'>\n",
      "        <class 'zmq.error.ZMQBaseError'>\n",
      "            <class 'zmq.error.ZMQError'>\n",
      "                <class 'zmq.error.ContextTerminated'>\n",
      "                <class 'zmq.error.Again'>\n",
      "                <class 'zmq.error.InterruptedSystemCall'>\n",
      "            <class 'zmq.error.ZMQBindError'>\n",
      "            <class 'zmq.error.NotDone'>\n",
      "        <class 'copy.Error'>\n",
      "        <class 'struct.error'>\n",
      "        <class '_pickle.PickleError'>\n",
      "            <class '_pickle.PicklingError'>\n",
      "            <class '_pickle.UnpicklingError'>\n",
      "        <class 'pickle._Stop'>\n",
      "        <class 'tokenize.TokenError'>\n",
      "        <class 'tokenize.StopTokenizing'>\n",
      "        <class 'concurrent.futures._base.Error'>\n",
      "            <class 'concurrent.futures._base.CancelledError'>\n",
      "            <class 'concurrent.futures._base.InvalidStateError'>\n",
      "        <class 'socket._GiveupOnSendfile'>\n",
      "        <class 'binascii.Incomplete'>\n",
      "        <class 'inspect.ClassFoundException'>\n",
      "        <class 'inspect.EndOfBlock'>\n",
      "        <class 'asyncio.exceptions.InvalidStateError'>\n",
      "        <class 'asyncio.exceptions.LimitOverrunError'>\n",
      "        <class 'asyncio.queues.QueueEmpty'>\n",
      "        <class 'asyncio.queues.QueueFull'>\n",
      "        <class 'zlib.error'>\n",
      "        <class '_lzma.LZMAError'>\n",
      "        <class 'shutil.RegistryError'>\n",
      "        <class 'shutil._GiveupOnFastCopy'>\n",
      "        <class 'traitlets.traitlets.TraitError'>\n",
      "        <class '_queue.Empty'>\n",
      "        <class 'queue.Full'>\n",
      "        <class 'ctypes.ArgumentError'>\n",
      "        <class '_ctypes.COMError'>\n",
      "        <class 'tornado.concurrent.ReturnValueIgnoredError'>\n",
      "        <class 'argparse.ArgumentError'>\n",
      "        <class 'argparse.ArgumentTypeError'>\n",
      "        <class 'traitlets.config.loader.ConfigError'>\n",
      "            <class 'traitlets.config.loader.ConfigLoaderError'>\n",
      "                <class 'traitlets.config.loader.ArgumentError'>\n",
      "            <class 'traitlets.config.loader.ConfigFileNotFound'>\n",
      "        <class 'traitlets.config.configurable.ConfigurableError'>\n",
      "            <class 'traitlets.config.configurable.MultipleInstanceError'>\n",
      "        <class 'traitlets.config.application.ApplicationError'>\n",
      "        <class 'jupyter_client.channels.InvalidPortNumber'>\n",
      "        <class 'jupyter_client.localinterfaces.NoIPAddresses'>\n",
      "        <class '_csv.Error'>\n",
      "        <class 'zipfile.BadZipFile'>\n",
      "        <class 'zipfile.LargeZipFile'>\n",
      "        <class 'email.errors.MessageError'>\n",
      "            <class 'email.errors.MessageParseError'>\n",
      "                <class 'email.errors.HeaderParseError'>\n",
      "                <class 'email.errors.BoundaryError'>\n",
      "            <class 'email.errors.MultipartConversionError'>\n",
      "            <class 'email.errors.CharsetError'>\n",
      "        <class 'jupyter_client.multikernelmanager.DuplicateKernelError'>\n",
      "        <class 'pydoc.ErrorDuringImport'>\n",
      "        <class 'executing.executing.NotOneValueFound'>\n",
      "        <class 'executing._exceptions.KnownIssue'>\n",
      "        <class 'executing._exceptions.VerifierFailure'>\n",
      "        <class 'pure_eval.utils.CannotEval'>\n",
      "        <class 'pygments.util.OptionError'>\n",
      "        <class 'bdb.BdbQuit'>\n",
      "        <class 'pdb.Restart'>\n",
      "        <class 'IPython.utils.process.FindCmdError'>\n",
      "        <class 'IPython.utils.path.HomeDirError'>\n",
      "        <class 'IPython.core.profiledir.ProfileDirError'>\n",
      "        <class 'IPython.core.error.IPythonCoreError'>\n",
      "            <class 'IPython.core.error.TryNext'>\n",
      "            <class 'IPython.core.error.UsageError'>\n",
      "            <class 'IPython.core.error.StdinNotImplementedError'>\n",
      "        <class 'IPython.core.error.InputRejected'>\n",
      "        <class 'getopt.GetoptError'>\n",
      "        <class 'pygments.filters.ErrorToken'>\n",
      "        <class 'IPython.core.prefilter.PrefilterError'>\n",
      "        <class 'IPython.core.alias.AliasError'>\n",
      "            <class 'IPython.core.alias.InvalidAliasError'>\n",
      "        <class 'sqlite3.Error'>\n",
      "            <class 'sqlite3.InterfaceError'>\n",
      "            <class 'sqlite3.DatabaseError'>\n",
      "                <class 'sqlite3.InternalError'>\n",
      "                <class 'sqlite3.OperationalError'>\n",
      "                <class 'sqlite3.ProgrammingError'>\n",
      "                <class 'sqlite3.IntegrityError'>\n",
      "                <class 'sqlite3.DataError'>\n",
      "                <class 'sqlite3.NotSupportedError'>\n",
      "        <class 'sqlite3.Warning'>\n",
      "        <class 'IPython.core.interactiveshell.SpaceInInput'>\n",
      "        <class 'xml.dom.DOMException'>\n",
      "            <class 'xml.dom.IndexSizeErr'>\n",
      "            <class 'xml.dom.DomstringSizeErr'>\n",
      "            <class 'xml.dom.HierarchyRequestErr'>\n",
      "            <class 'xml.dom.WrongDocumentErr'>\n",
      "            <class 'xml.dom.InvalidCharacterErr'>\n",
      "            <class 'xml.dom.NoDataAllowedErr'>\n",
      "            <class 'xml.dom.NoModificationAllowedErr'>\n",
      "            <class 'xml.dom.NotFoundErr'>\n",
      "            <class 'xml.dom.NotSupportedErr'>\n",
      "            <class 'xml.dom.InuseAttributeErr'>\n",
      "            <class 'xml.dom.InvalidStateErr'>\n",
      "            <class 'xml.dom.SyntaxErr'>\n",
      "            <class 'xml.dom.InvalidModificationErr'>\n",
      "            <class 'xml.dom.NamespaceErr'>\n",
      "            <class 'xml.dom.InvalidAccessErr'>\n",
      "            <class 'xml.dom.ValidationErr'>\n",
      "        <class 'prompt_toolkit.validation.ValidationError'>\n",
      "        <class 'prompt_toolkit.buffer.EditReadOnlyBuffer'>\n",
      "        <class 'prompt_toolkit.buffer._Retry'>\n",
      "        <class 'prompt_toolkit.layout.layout.InvalidLayoutError'>\n",
      "        <class 'prompt_toolkit.renderer.HeightIsUnknownError'>\n",
      "        <class 'IPython.core.guarded_eval.GuardRejection'>\n",
      "        <class 'parso.parser.ParserSyntaxError'>\n",
      "        <class 'parso.parser.InternalParseError'>\n",
      "        <class 'parso.python.diff._PositionUpdatingFinished'>\n",
      "        <class 'jedi.inference.helpers.SimpleGetItemNotFound'>\n",
      "        <class 'jedi.inference.utils.UncaughtAttributeError'>\n",
      "        <class 'jedi.inference.base_value.HasNoContext'>\n",
      "        <class 'jedi.inference.arguments.ParamIssue'>\n",
      "        <class 'jedi.api.exceptions._JediError'>\n",
      "            <class 'jedi.api.exceptions.InternalError'>\n",
      "            <class 'jedi.api.exceptions.WrongVersion'>\n",
      "            <class 'jedi.api.exceptions.RefactoringError'>\n",
      "        <class 'jedi.api.helpers.OnErrorLeaf'>\n",
      "        <class 'jedi.api.environment.InvalidPythonEnvironment'>\n",
      "        <class 'http.client.HTTPException'>\n",
      "            <class 'http.client.NotConnected'>\n",
      "            <class 'http.client.InvalidURL'>\n",
      "            <class 'http.client.UnknownProtocol'>\n",
      "            <class 'http.client.UnknownTransferEncoding'>\n",
      "            <class 'http.client.UnimplementedFileMode'>\n",
      "            <class 'http.client.IncompleteRead'>\n",
      "            <class 'http.client.ImproperConnectionState'>\n",
      "                <class 'http.client.CannotSendRequest'>\n",
      "                <class 'http.client.CannotSendHeader'>\n",
      "                <class 'http.client.ResponseNotReady'>\n",
      "            <class 'http.client.BadStatusLine'>\n",
      "                <class 'http.client.RemoteDisconnected'>\n",
      "            <class 'http.client.LineTooLong'>\n",
      "        <class 'IPython.core.magics.code.InteractivelyDefined'>\n",
      "        <class 'IPython.terminal.embed.KillEmbedded'>\n",
      "        <class 'psutil.Error'>\n",
      "            <class 'psutil.NoSuchProcess'>\n",
      "                <class 'psutil.ZombieProcess'>\n",
      "            <class 'psutil.AccessDenied'>\n",
      "            <class 'psutil.TimeoutExpired'>\n",
      "        <class '_psutil_windows.Error'>\n",
      "        <class '_psutil_windows.TimeoutExpired'>\n",
      "        <class '_psutil_windows.TimeoutAbandoned'>\n",
      "        <class 'tornado.gen.KeyReuseError'>\n",
      "        <class 'tornado.gen.UnknownKeyError'>\n",
      "        <class 'tornado.gen.LeakedCallbackError'>\n",
      "        <class 'tornado.gen.BadYieldError'>\n",
      "        <class 'tornado.gen.ReturnValueIgnoredError'>\n",
      "        <class 'tornado.gen.Return'>\n",
      "        <class 'tornado.queues.QueueEmpty'>\n",
      "        <class 'tornado.queues.QueueFull'>\n",
      "        <class '_pydev_bundle._pydev_saved_modules.DebuggerInitializationError'>\n",
      "        <class 'xml.parsers.expat.ExpatError'>\n",
      "        <class 'xmlrpc.client.Error'>\n",
      "            <class 'xmlrpc.client.ProtocolError'>\n",
      "            <class 'xmlrpc.client.ResponseError'>\n",
      "            <class 'xmlrpc.client.Fault'>\n",
      "        <class '_pydevd_bundle.pydevd_runpy._Error'>\n",
      "        <class '_pydevd_bundle.pydevd_resolver.UnableToResolveVariableException'>\n",
      "        <class '_pydev_bundle.pydev_monkey.InvalidTypeInArgsException'>\n",
      "    <class 'GeneratorExit'>\n",
      "    <class 'KeyboardInterrupt'>\n",
      "    <class 'SystemExit'>\n",
      "    <class 'asyncio.exceptions.CancelledError'>\n"
     ]
    }
   ],
   "source": [
    "def print_exception_hierarchy(exception_class, indent=0):\n",
    "    print(' ' * indent + str(exception_class))\n",
    "    for subclass in exception_class.__subclasses__():\n",
    "        print_exception_hierarchy(subclass, indent + 4)\n",
    "\n",
    "print(\"Python Exception Hierarchy:\")\n",
    "print_exception_hierarchy(BaseException)\n"
   ]
  },
  {
   "cell_type": "code",
   "execution_count": 3,
   "metadata": {},
   "outputs": [
    {
     "data": {
      "text/plain": [
       "'The ArithmeticError class in Python is a base class for arithmetic-related exceptions. It serves as the parent class for various specific arithmetic error classes. Two common errors defined within the ArithmeticError class are:\\n\\nZeroDivisionError: Raised when attempting to divide a number by zero.\\nOverflowError: Raised when a calculation exceeds the limit of the data type.\\n'"
      ]
     },
     "execution_count": 3,
     "metadata": {},
     "output_type": "execute_result"
    }
   ],
   "source": [
    "    \"\"\"The ArithmeticError class in Python is a base class for arithmetic-related exceptions. It serves as the parent class for various specific arithmetic error classes. Two common errors defined within the ArithmeticError class are:\n",
    "\n",
    "ZeroDivisionError: Raised when attempting to divide a number by zero.\n",
    "OverflowError: Raised when a calculation exceeds the limit of the data type.\n",
    "    \"\"\""
   ]
  },
  {
   "cell_type": "code",
   "execution_count": 5,
   "metadata": {},
   "outputs": [
    {
     "name": "stdout",
     "output_type": "stream",
     "text": [
      "error division by zero\n"
     ]
    }
   ],
   "source": [
    "try:\n",
    "    x= 5/0\n",
    "except ZeroDivisionError as e :\n",
    "    print(\"error\",e)"
   ]
  },
  {
   "cell_type": "code",
   "execution_count": 13,
   "metadata": {},
   "outputs": [],
   "source": [
    "import sys\n",
    "\n",
    "try:\n",
    "    large_number = sys.maxsize + 1  # Attempt to exceed the maximum size\n",
    "except OverflowError:\n",
    "    print(\"Overflow occurred: Result exceeds maximum size for the data type.\")\n"
   ]
  },
  {
   "cell_type": "code",
   "execution_count": 14,
   "metadata": {},
   "outputs": [
    {
     "data": {
      "text/plain": [
       "' \\nThe LookupError class in Python is used to handle errors related to lookup operations, such as accessing elements from a dictionary,\\nlist, or other collections. It serves as a base class for more specific lookup-related errors like KeyError and IndexError.\\nKeyError: This error occurs when you try to access a key that does not exist in a dictionary.\\n'"
      ]
     },
     "execution_count": 14,
     "metadata": {},
     "output_type": "execute_result"
    }
   ],
   "source": [
    "    \"\"\" \n",
    "    The LookupError class in Python is used to handle errors related to lookup operations, such as accessing elements from a dictionary,\n",
    "    list, or other collections. It serves as a base class for more specific lookup-related errors like KeyError and IndexError.\n",
    "    KeyError: This error occurs when you try to access a key that does not exist in a dictionary.\n",
    "    \"\"\""
   ]
  },
  {
   "cell_type": "code",
   "execution_count": 15,
   "metadata": {},
   "outputs": [
    {
     "name": "stdout",
     "output_type": "stream",
     "text": [
      "Key 'd' does not exist in the dictionary.\n"
     ]
    }
   ],
   "source": [
    "my_dict = {'a': 1, 'b': 2, 'c': 3}\n",
    "try:\n",
    "    value = my_dict['d']\n",
    "except KeyError:\n",
    "    print(\"Key 'd' does not exist in the dictionary.\")\n"
   ]
  },
  {
   "cell_type": "code",
   "execution_count": 16,
   "metadata": {},
   "outputs": [
    {
     "name": "stdout",
     "output_type": "stream",
     "text": [
      "Index is out of range.\n"
     ]
    }
   ],
   "source": [
    "#IndexError: This error occurs when you try to access an index that is out of range in a list or other sequence types.\n",
    "my_list = [1, 2, 3]\n",
    "try:\n",
    "    value = my_list[4]\n",
    "except IndexError:\n",
    "    print(\"Index is out of range.\")\n"
   ]
  },
  {
   "cell_type": "code",
   "execution_count": 17,
   "metadata": {},
   "outputs": [
    {
     "data": {
      "text/plain": [
       "\"\\nImportError in Python is raised when an import statement fails to find the module definition or when a\\nfrom ... import statement fails to find a name that should be imported.\\nIt's a generic exception that indicates a problem with importing modules or names.\\n\\nModuleNotFoundError: This is a subclass of ImportError and is raised when a module could not be found.\\n\""
      ]
     },
     "execution_count": 17,
     "metadata": {},
     "output_type": "execute_result"
    }
   ],
   "source": [
    "    \"\"\"\n",
    "    ImportError in Python is raised when an import statement fails to find the module definition or when a\n",
    "    from ... import statement fails to find a name that should be imported.\n",
    "    It's a generic exception that indicates a problem with importing modules or names.\n",
    "\n",
    "ModuleNotFoundError: This is a subclass of ImportError and is raised when a module could not be found.\n",
    "    \"\"\""
   ]
  },
  {
   "cell_type": "code",
   "execution_count": 18,
   "metadata": {},
   "outputs": [
    {
     "name": "stdout",
     "output_type": "stream",
     "text": [
      "Module does not exist.\n"
     ]
    }
   ],
   "source": [
    "try:\n",
    "    import ABCD\n",
    "except ModuleNotFoundError:\n",
    "    print(\"Module does not exist.\")\n"
   ]
  },
  {
   "cell_type": "code",
   "execution_count": 20,
   "metadata": {},
   "outputs": [
    {
     "data": {
      "text/plain": [
       "'\\nBest practices for exception handling in Python include:\\nSpecific Exception Handling: Catch specific exceptions rather than using a generic except block. This helps in accurately identifying and handling different types of errors.\\n\\nUse of try-except-else Blocks: Utilize the else block to place code that should only run if no exceptions were raised within the try block. This improves code readability and reduces nesting.\\n\\nAvoid Bare Excepts: Avoid using bare except statements without specifying the exception type. Bare excepts can catch unexpected errors, hiding potential bugs in the code.\\n\\nCleanup with finally: Use the finally block to execute cleanup code, ensuring that resources are properly released regardless of whether an exception occurred.\\n\\nLogging Exceptions: Use logging to record exception details, including the stack trace. This aids in debugging and diagnosing issues.\\n\\nKeep Exception Handling Local: Place exception handling code close to where the exception occurs, rather than handling it at a distant part of the code.\\n\\nHandle Exceptions Explicitly: Handle exceptions explicitly rather than allowing them to propagate to higher levels of the program without being addressed.\\n\\nDocument Exception Behavior: Document the expected exceptions that functions or methods may raise to guide users of the code in handling errors effectively.\\n'"
      ]
     },
     "execution_count": 20,
     "metadata": {},
     "output_type": "execute_result"
    }
   ],
   "source": [
    "    \"\"\"\n",
    "    Best practices for exception handling in Python include:\n",
    "    Specific Exception Handling: Catch specific exceptions rather than using a generic except block. This helps in accurately identifying and handling different types of errors.\n",
    "\n",
    "Use of try-except-else Blocks: Utilize the else block to place code that should only run if no exceptions were raised within the try block. This improves code readability and reduces nesting.\n",
    "\n",
    "Avoid Bare Excepts: Avoid using bare except statements without specifying the exception type. Bare excepts can catch unexpected errors, hiding potential bugs in the code.\n",
    "\n",
    "Cleanup with finally: Use the finally block to execute cleanup code, ensuring that resources are properly released regardless of whether an exception occurred.\n",
    "\n",
    "Logging Exceptions: Use logging to record exception details, including the stack trace. This aids in debugging and diagnosing issues.\n",
    "\n",
    "Keep Exception Handling Local: Place exception handling code close to where the exception occurs, rather than handling it at a distant part of the code.\n",
    "\n",
    "Handle Exceptions Explicitly: Handle exceptions explicitly rather than allowing them to propagate to higher levels of the program without being addressed.\n",
    "\n",
    "Document Exception Behavior: Document the expected exceptions that functions or methods may raise to guide users of the code in handling errors effectively.\n",
    "    \"\"\""
   ]
  },
  {
   "cell_type": "code",
   "execution_count": null,
   "metadata": {},
   "outputs": [],
   "source": []
  },
  {
   "cell_type": "code",
   "execution_count": null,
   "metadata": {},
   "outputs": [],
   "source": []
  }
 ],
 "metadata": {
  "kernelspec": {
   "display_name": "Python 3",
   "language": "python",
   "name": "python3"
  },
  "language_info": {
   "codemirror_mode": {
    "name": "ipython",
    "version": 3
   },
   "file_extension": ".py",
   "mimetype": "text/x-python",
   "name": "python",
   "nbconvert_exporter": "python",
   "pygments_lexer": "ipython3",
   "version": "3.11.0"
  }
 },
 "nbformat": 4,
 "nbformat_minor": 2
}
