{
 "cells": [
  {
   "cell_type": "markdown",
   "id": "c142f8ca",
   "metadata": {},
   "source": [
    "# 0. Replicating Red List of Insect Taxonomists methodolgy\n",
    "\n",
    "! run `src/data/replicate_rlit.py` before running this notebook !`\n",
    "\n",
    "The European Red List of Insect Taxonomists is an important predecessor to our methodology (https://cloud.pensoft.net/s/mGpyQYUPQOMPs8C). They used Web of Science (WoS) to find articles related to specific insect orders, specifically by searching WoS with the following query (https://www.webofscience.com/wos/woscc/summary/5f6f7d2a-89dd-4709-bf49-494b6f2522bc-73383729/relevance/1):\n",
    "\n",
    "`\n",
    "ALL=(Plecoptera  AND  (taxonom*  OR  “new  species”  OR  \n",
    "“novel species” OR “checklist” OR “new genus” OR “new genera”))\n",
    "`\n",
    "\n",
    "To see if OpenAlex can find the same or even more articles, we replicate their methodology here.\n",
    "\n",
    "Some differences between the two methodologies exist: OpenAlex, for copyright reasons, only records the abstract in the form of an inverted index - listing every word in it and its place(s) in the abstract as a key-value pair, respectively. For this reason, word groups can't be searched exactly: \"new species\" is searched as \"new\" and \"species\", not necessarily adjacent. Furthermore, OpenAlex doesn't record author keywords nor does it feature WoS' \"keywords plus\" which are based on the references, but it does associate \"concepts\" with every article. We searched these concepts instead.\n",
    "\n",
    "Title and abstract were searched concurrently and explicitly since the simpler \"search\" function of the OpenAlex API searches the full text as well as title and abstract."
   ]
  },
  {
   "cell_type": "code",
   "execution_count": 1,
   "id": "bab06620",
   "metadata": {},
   "outputs": [],
   "source": [
    "import pandas as pd\n",
    "import pickle"
   ]
  },
  {
   "cell_type": "code",
   "execution_count": 2,
   "id": "ca95a401",
   "metadata": {},
   "outputs": [
    {
     "ename": "FileNotFoundError",
     "evalue": "[Errno 2] No such file or directory: '../data/rlit/openalex_EU27_articles.pkl'",
     "output_type": "error",
     "traceback": [
      "\u001b[1;31m---------------------------------------------------------------------------\u001b[0m",
      "\u001b[1;31mFileNotFoundError\u001b[0m                         Traceback (most recent call last)",
      "Cell \u001b[1;32mIn[2], line 1\u001b[0m\n\u001b[1;32m----> 1\u001b[0m insect_eu_articles \u001b[38;5;241m=\u001b[39m \u001b[43mpd\u001b[49m\u001b[38;5;241;43m.\u001b[39;49m\u001b[43mread_pickle\u001b[49m\u001b[43m(\u001b[49m\u001b[38;5;124;43m\"\u001b[39;49m\u001b[38;5;124;43m../data/rlit/openalex_EU27_articles.pkl\u001b[39;49m\u001b[38;5;124;43m\"\u001b[39;49m\u001b[43m)\u001b[49m\n",
      "File \u001b[1;32m~\\anaconda3\\lib\\site-packages\\pandas\\io\\pickle.py:189\u001b[0m, in \u001b[0;36mread_pickle\u001b[1;34m(filepath_or_buffer, compression, storage_options)\u001b[0m\n\u001b[0;32m    125\u001b[0m \u001b[38;5;250m\u001b[39m\u001b[38;5;124;03m\"\"\"\u001b[39;00m\n\u001b[0;32m    126\u001b[0m \u001b[38;5;124;03mLoad pickled pandas object (or any object) from file.\u001b[39;00m\n\u001b[0;32m    127\u001b[0m \n\u001b[1;32m   (...)\u001b[0m\n\u001b[0;32m    186\u001b[0m \u001b[38;5;124;03m4    4    9\u001b[39;00m\n\u001b[0;32m    187\u001b[0m \u001b[38;5;124;03m\"\"\"\u001b[39;00m\n\u001b[0;32m    188\u001b[0m excs_to_catch \u001b[38;5;241m=\u001b[39m (\u001b[38;5;167;01mAttributeError\u001b[39;00m, \u001b[38;5;167;01mImportError\u001b[39;00m, \u001b[38;5;167;01mModuleNotFoundError\u001b[39;00m, \u001b[38;5;167;01mTypeError\u001b[39;00m)\n\u001b[1;32m--> 189\u001b[0m \u001b[38;5;28;01mwith\u001b[39;00m \u001b[43mget_handle\u001b[49m\u001b[43m(\u001b[49m\n\u001b[0;32m    190\u001b[0m \u001b[43m    \u001b[49m\u001b[43mfilepath_or_buffer\u001b[49m\u001b[43m,\u001b[49m\n\u001b[0;32m    191\u001b[0m \u001b[43m    \u001b[49m\u001b[38;5;124;43m\"\u001b[39;49m\u001b[38;5;124;43mrb\u001b[39;49m\u001b[38;5;124;43m\"\u001b[39;49m\u001b[43m,\u001b[49m\n\u001b[0;32m    192\u001b[0m \u001b[43m    \u001b[49m\u001b[43mcompression\u001b[49m\u001b[38;5;241;43m=\u001b[39;49m\u001b[43mcompression\u001b[49m\u001b[43m,\u001b[49m\n\u001b[0;32m    193\u001b[0m \u001b[43m    \u001b[49m\u001b[43mis_text\u001b[49m\u001b[38;5;241;43m=\u001b[39;49m\u001b[38;5;28;43;01mFalse\u001b[39;49;00m\u001b[43m,\u001b[49m\n\u001b[0;32m    194\u001b[0m \u001b[43m    \u001b[49m\u001b[43mstorage_options\u001b[49m\u001b[38;5;241;43m=\u001b[39;49m\u001b[43mstorage_options\u001b[49m\u001b[43m,\u001b[49m\n\u001b[0;32m    195\u001b[0m \u001b[43m\u001b[49m\u001b[43m)\u001b[49m \u001b[38;5;28;01mas\u001b[39;00m handles:\n\u001b[0;32m    196\u001b[0m     \u001b[38;5;66;03m# 1) try standard library Pickle\u001b[39;00m\n\u001b[0;32m    197\u001b[0m     \u001b[38;5;66;03m# 2) try pickle_compat (older pandas version) to handle subclass changes\u001b[39;00m\n\u001b[0;32m    198\u001b[0m     \u001b[38;5;66;03m# 3) try pickle_compat with latin-1 encoding upon a UnicodeDecodeError\u001b[39;00m\n\u001b[0;32m    200\u001b[0m     \u001b[38;5;28;01mtry\u001b[39;00m:\n\u001b[0;32m    201\u001b[0m         \u001b[38;5;66;03m# TypeError for Cython complaints about object.__new__ vs Tick.__new__\u001b[39;00m\n\u001b[0;32m    202\u001b[0m         \u001b[38;5;28;01mtry\u001b[39;00m:\n",
      "File \u001b[1;32m~\\anaconda3\\lib\\site-packages\\pandas\\io\\common.py:872\u001b[0m, in \u001b[0;36mget_handle\u001b[1;34m(path_or_buf, mode, encoding, compression, memory_map, is_text, errors, storage_options)\u001b[0m\n\u001b[0;32m    863\u001b[0m         handle \u001b[38;5;241m=\u001b[39m \u001b[38;5;28mopen\u001b[39m(\n\u001b[0;32m    864\u001b[0m             handle,\n\u001b[0;32m    865\u001b[0m             ioargs\u001b[38;5;241m.\u001b[39mmode,\n\u001b[1;32m   (...)\u001b[0m\n\u001b[0;32m    868\u001b[0m             newline\u001b[38;5;241m=\u001b[39m\u001b[38;5;124m\"\u001b[39m\u001b[38;5;124m\"\u001b[39m,\n\u001b[0;32m    869\u001b[0m         )\n\u001b[0;32m    870\u001b[0m     \u001b[38;5;28;01melse\u001b[39;00m:\n\u001b[0;32m    871\u001b[0m         \u001b[38;5;66;03m# Binary mode\u001b[39;00m\n\u001b[1;32m--> 872\u001b[0m         handle \u001b[38;5;241m=\u001b[39m \u001b[38;5;28;43mopen\u001b[39;49m\u001b[43m(\u001b[49m\u001b[43mhandle\u001b[49m\u001b[43m,\u001b[49m\u001b[43m \u001b[49m\u001b[43mioargs\u001b[49m\u001b[38;5;241;43m.\u001b[39;49m\u001b[43mmode\u001b[49m\u001b[43m)\u001b[49m\n\u001b[0;32m    873\u001b[0m     handles\u001b[38;5;241m.\u001b[39mappend(handle)\n\u001b[0;32m    875\u001b[0m \u001b[38;5;66;03m# Convert BytesIO or file objects passed with an encoding\u001b[39;00m\n",
      "\u001b[1;31mFileNotFoundError\u001b[0m: [Errno 2] No such file or directory: '../data/rlit/openalex_EU27_articles.pkl'"
     ]
    }
   ],
   "source": [
    "insect_eu_articles = pd.read_pickle(\"../data/rlit/openalex_EU27_articles.pkl\")"
   ]
  },
  {
   "cell_type": "code",
   "execution_count": null,
   "id": "34218e18",
   "metadata": {},
   "outputs": [],
   "source": [
    "# how many articles per order?\n",
    "insect_orders = [\"Coleoptera\", \"Hemiptera\", \"Diptera\", \"Lepidoptera\", \"Orthoptera\", \n",
    "                 \"Odonata\", \"Blattodea\", \"Ephemeroptera\", \"Psocodea\", \"Grylloblattodea\", \n",
    "                 \"Neuroptera\", \"Mecoptera\", \"Trichoptera\", \"Plecoptera\", \"Dermaptera\", \n",
    "                 \"Mantodea\", \"Siphonaptera\", \"Strepsiptera\", \"Embioptera\", \"Hymenoptera\",\n",
    "                 \"Phasmida\", \"Raphidioptera\", \"Isoptera\", \"Megaloptera\", \"Thysanoptera\",\n",
    "                 \"Zygentoma\", \"Mantophasmatodea\", \"Archaeognatha\", \"Zoraptera\"]\n",
    "\n",
    "for order in insect_orders:\n",
    "    print(order + \": \" \n",
    "          + str(len(insect_eu_articles[insect_eu_articles[\"order\"]==order].index)) \n",
    "          + \" articles\")"
   ]
  },
  {
   "cell_type": "code",
   "execution_count": null,
   "id": "28c474f9",
   "metadata": {},
   "outputs": [],
   "source": [
    "# Web of Science results for ALL=(Strepsiptera  AND  (taxonom*  OR  “new  species” \n",
    "# OR “novel species” OR “checklist” OR “new genus” OR “new genera”))\n",
    "wos_strepsiptera = pd.read_csv(\"Strepsiptera_WoS_ALL_EU27_2011-2020.tsv\", sep=\"\\t\")\n",
    "wos_strepsiptera"
   ]
  },
  {
   "cell_type": "code",
   "execution_count": null,
   "id": "c1b9eab0",
   "metadata": {},
   "outputs": [],
   "source": [
    "# OpenAlex results for similar query\n",
    "oa_strepsiptera = insect_eu_articles[insect_eu_articles[\"order\"]==\"Strepsiptera\"].reset_index(drop=True)\n",
    "oa_strepsiptera"
   ]
  },
  {
   "cell_type": "code",
   "execution_count": null,
   "id": "62fac985",
   "metadata": {},
   "outputs": [],
   "source": [
    "# in common\n",
    "set(oa_strepsiptera[\"display_name\"]).intersection(wos_strepsiptera[\"TI\"])"
   ]
  },
  {
   "cell_type": "code",
   "execution_count": null,
   "id": "517cd0ae",
   "metadata": {},
   "outputs": [],
   "source": [
    "# in oa but not in wos\n",
    "list(set(oa_strepsiptera[\"display_name\"]) - set(wos_strepsiptera[\"TI\"]))"
   ]
  },
  {
   "cell_type": "markdown",
   "id": "dda60175",
   "metadata": {},
   "source": [
    "Why does OpenAlex find these articles where Web of Science does not?\n",
    "\n",
    "\n",
    "- Traumatic insemination and female counter-adaptation in Strepsiptera (Insecta) -> \"novel\" and \"species\" apart\n",
    "\n",
    "- Superparasitism ofEoxenos laboulbeneiDe Peyerimhoff (Strepsiptera: Mengenillidae) byIdiomacromerus gregarius(Silvestri) (Hymenoptera: Chalcidoidea) in southern Spain -> \"new\" and \"species\" apart\n",
    "\n",
    "- A needle in a haystack: Mesozoic origin of parasitism in Strepsiptera revealed by first definite Cretaceous primary larva (Insecta) -> on WoS but not found bcs no taxonomy keyword\n",
    "\n",
    "- Is †Skleroptera (†Stephanastus) an order in the stemgroup of Coleopterida (Insecta)? -> on WoS but not found bcs no taxonomy keyword\n",
    "\n",
    "- Distinguishing Felsenstein Zone from Farris Zone Using Neural Networks -> on WoS but not found bcs no taxonomy keyword\n",
    "\n",
    "- Morphological and molecular evidence converge upon a robust phylogeny of the megadiverse Holometabola -> on WoS but not found bcs no taxonomy keyword (evolution, systematic position,... are included)\n",
    "\n",
    "Often \"phylogeny\" *is* included as a keyword"
   ]
  },
  {
   "cell_type": "code",
   "execution_count": 3,
   "id": "822246ab",
   "metadata": {},
   "outputs": [
    {
     "ename": "NameError",
     "evalue": "name 'wos_strepsiptera' is not defined",
     "output_type": "error",
     "traceback": [
      "\u001b[1;31m---------------------------------------------------------------------------\u001b[0m",
      "\u001b[1;31mNameError\u001b[0m                                 Traceback (most recent call last)",
      "Cell \u001b[1;32mIn[3], line 2\u001b[0m\n\u001b[0;32m      1\u001b[0m \u001b[38;5;66;03m# in wos but not in oa\u001b[39;00m\n\u001b[1;32m----> 2\u001b[0m \u001b[38;5;28mlist\u001b[39m(\u001b[38;5;28mset\u001b[39m(\u001b[43mwos_strepsiptera\u001b[49m[\u001b[38;5;124m\"\u001b[39m\u001b[38;5;124mTI\u001b[39m\u001b[38;5;124m\"\u001b[39m]) \u001b[38;5;241m-\u001b[39m \u001b[38;5;28mset\u001b[39m(oa_strepsiptera[\u001b[38;5;124m\"\u001b[39m\u001b[38;5;124mtitle\u001b[39m\u001b[38;5;124m\"\u001b[39m]))\n",
      "\u001b[1;31mNameError\u001b[0m: name 'wos_strepsiptera' is not defined"
     ]
    }
   ],
   "source": [
    "# in wos but not in oa\n",
    "list(set(wos_strepsiptera[\"TI\"]) - set(oa_strepsiptera[\"title\"]))"
   ]
  },
  {
   "cell_type": "markdown",
   "id": "96020a37",
   "metadata": {},
   "source": [
    "Why does WoS find these and not OpenAlex?\n",
    "\n",
    "- 'Diversity of Eocene Ripiphoridae with descriptions of the first species of Pelecotominae and larva of Ripidiinae (Coleoptera)', -> open access but no N-grams https://api.openalex.org/works/https://doi.org/10.1093/zoolinnean/zlz062 \n",
    "\n",
    "- 'New ripiphorid beetles in mid-Cretaceous amber from Myanmar (Coleoptera: Ripiphoridae): First Pelecotominae and possible Mesozoic aggregative behaviour in male Ripidiinae', -> closed access, no N-grams http://api.openalex.org/works/https://doi.org/10.1016/j.cretres.2016.08.002 \n",
    "\n",
    "- 'A remarkable diversity of parasitoid beetles (Ripiphoridae) in Cretaceous amber, with a summary of the Mesozoic record of Tenebrionoidea' -> “new species” in abstract; closed access; n-grams available but limited http://api.openalex.org/works/https://doi.org/10.1016/j.cretres.2018.04.019  \n",
    "\n",
    "- 'Host specialization and species diversity in the genus Stylops (Strepsiptera: Stylopidae), revealed by molecular phylogenetic analysis' -> authors’ institution information is incomplete\n",
    "\n",
    "- 'A miniaturized beetle larva in Cretaceous Burmese amber: reinterpretation of a fossil \"strepsipteran triungulin\"' -> no search terms in title or abstract, WoS found it via a funder \"National Science Fund for Fostering Talents in Basic Research (Special Subjects in Animal Taxonomy)\"\n",
    "\n",
    "- 'The First Complete 3D Reconstruction of a Spanish Fly Primary Larva (Lytta vesicatoria, Meloidae, Coleoptera)' -> idem\n",
    "\n",
    "- 'First Sex Pheromone of the Order Strepsiptera: (3R,5R,9R)-3,5,9-Trimethyldodecanal in Stylops melittae Kirby, 1802' -> \"taxonomy\" in author keywords, not on OpenAlex"
   ]
  }
 ],
 "metadata": {
  "kernelspec": {
   "display_name": "Python 3 (ipykernel)",
   "language": "python",
   "name": "python3"
  },
  "language_info": {
   "codemirror_mode": {
    "name": "ipython",
    "version": 3
   },
   "file_extension": ".py",
   "mimetype": "text/x-python",
   "name": "python",
   "nbconvert_exporter": "python",
   "pygments_lexer": "ipython3",
   "version": "3.9.18"
  }
 },
 "nbformat": 4,
 "nbformat_minor": 5
}
