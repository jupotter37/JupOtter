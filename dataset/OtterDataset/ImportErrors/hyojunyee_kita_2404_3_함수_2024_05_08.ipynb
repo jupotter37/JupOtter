{
  "nbformat": 4,
  "nbformat_minor": 0,
  "metadata": {
    "colab": {
      "provenance": []
    },
    "kernelspec": {
      "name": "python3",
      "display_name": "Python 3"
    },
    "language_info": {
      "name": "python"
    }
  },
  "cells": [
    {
      "cell_type": "markdown",
      "source": [
        "파이썬에서 함수는 크게 내장 함수(Built-in Functions)와 외장 함수(External Functions)로 나뉩니다.\n",
        "\n",
        "파이썬 표준 라이브러리\n",
        "https://docs.python.org/ko/3.10/library/index.html\n",
        "1. 내장 함수 (Built-in Functions):\n",
        "- 내장 함수는 파이썬 인터프리터에 포함되어 있어, 별도의 모듈을 임포트(import)하지 않고도 사용 예를 들어, print(), len(), type(), range(), zip() 등이 내장 함수입니다.\n",
        "- 이러한 함수들은 기본적인 작업을 수행하며, 파이썬 프로그래밍의 기본적인 빌딩 블록(building blocks)으로 작동\n",
        "\n",
        "2. 외장 함수 (External Functions):\n",
        "- 표준 라이브러리에 포함된 모듈과 함수를 가리키는 것으로 모듈을 임포트하여 사용\n",
        "- 파이썬 표준 라이브러리의 os, sys, math, random, datetime 등의 모듈에는 다양한 외장 함수가 포함\n",
        "\n",
        "3. 외부 라이브러리나 패키지\n",
        "- 표준 라이브러리에 포함되지 않아 기본 설치에는 포함되지 않는다.\n",
        "- 이를 사용하려면 먼저 해당 라이브러리나 패키지를 설치\n",
        "- 외부 라이브러리는 통상적으로 파이썬의 패키지 관리자인 pip를 사용하여 설치\n",
        "- 설치 후에는 외장 함수와 마찬가지로 필요한 모듈을 임포트하여 사용\n",
        "- 예: numpy, pandas, requests 등의 외부 라이브러리에 포함된 함수들.\n",
        "\n",
        "3. 사용자 정의 함수(User-Defined Functions):\n",
        "- 사용자가 직접 정의하여 사용하는 함수\n",
        "- def 키워드를 사용하여 함수를 정의하며, 필요에 따라 매개변수와 반환 값을 지정\n",
        "\n",
        "4. 람다 함수(Lambda Functions):\n",
        "- 이름 없는 간단한 함수를 정의할 때 사용하는 익명 함수\n",
        "- lambda 키워드를 사용하여 한 줄로 함수를 정의하며, 주로 간단한 연산이 필요할 때 사용"
      ],
      "metadata": {
        "id": "HgZCmXmmD_63"
      }
    },
    {
      "cell_type": "code",
      "execution_count": null,
      "metadata": {
        "colab": {
          "base_uri": "https://localhost:8080/"
        },
        "id": "jItkHrfwDvsQ",
        "outputId": "de4e2293-3908-4991-914c-c07d158f9029"
      },
      "outputs": [
        {
          "output_type": "stream",
          "name": "stdout",
          "text": [
            "Hell, World!\n",
            "4\n",
            "<class 'int'>\n"
          ]
        }
      ],
      "source": [
        "# 내장 함수 예제\n",
        "print(\"Hell, World!\")       # 출력 함수\n",
        "print(len([1, 2, 3, 4,]))   # 길이 계산 함수\n",
        "print(type(10))             # 타입 확인 함수"
      ]
    },
    {
      "cell_type": "code",
      "source": [
        "# Q. 내장함수 다음을 수행하세요.\n",
        "a = [1, 2, 3, 4 ,5]\n",
        "print(sum(a))\n",
        "print(max(a))\n",
        "print(min(a))\n",
        "print(sorted(a))\n",
        "print(list(reversed(a)))"
      ],
      "metadata": {
        "colab": {
          "base_uri": "https://localhost:8080/"
        },
        "id": "D5zyDxX6G4PD",
        "outputId": "ab92217d-dd6d-4776-d3b2-b0ce04fec2eb"
      },
      "execution_count": null,
      "outputs": [
        {
          "output_type": "stream",
          "name": "stdout",
          "text": [
            "15\n",
            "5\n",
            "1\n",
            "[1, 2, 3, 4, 5]\n",
            "[5, 4, 3, 2, 1]\n"
          ]
        }
      ]
    },
    {
      "cell_type": "code",
      "source": [
        "print(type(42))\n",
        "print(abs(-5))            # 절대값\n",
        "print(round(3.14159, 2))  # 반올림\n",
        "print(pow(2,3))           # 2의 3승"
      ],
      "metadata": {
        "id": "vVd1aWjQHlGb"
      },
      "execution_count": null,
      "outputs": []
    },
    {
      "cell_type": "code",
      "source": [
        "# 외장 함수 예제\n",
        "import math           # 수학 모듈 임포트\n",
        "print(math.sqrt(16))  # 제곱근 계산 함수\n",
        "\n",
        "import random                   # 랜덤 모듈 임포트\n",
        "print(random.randint(1, 10))    # 랜덤 정수 생성 함수, 양끝 포함\n",
        "\n",
        "import datetime               # 날짜와 시간 모듈 임포트\n",
        "print(datetime.datetime.now())  # 현재 날짜와 시간 출력 함수"
      ],
      "metadata": {
        "colab": {
          "base_uri": "https://localhost:8080/"
        },
        "id": "LnjIy9H1Gg6Y",
        "outputId": "f48b67a9-3eea-4e92-b973-c943d0e0ab3a"
      },
      "execution_count": null,
      "outputs": [
        {
          "output_type": "stream",
          "name": "stdout",
          "text": [
            "4.0\n",
            "9\n",
            "2024-05-03 06:27:04.550927\n"
          ]
        }
      ]
    },
    {
      "cell_type": "code",
      "source": [
        "# Q. datetime.datetime.now()에서 연도, 월, 일, 시, 분, 초, 마이크로초를 각각 출력하세요\n",
        "import datetime\n",
        "now = datetime.datetime.now()\n",
        "print(now.year)\n",
        "print(now.month)\n",
        "print(now.day)\n",
        "print(now.hour)\n",
        "print(now.minute)\n",
        "print(now.second)\n",
        "print(now.microsecond)\n"
      ],
      "metadata": {
        "colab": {
          "base_uri": "https://localhost:8080/"
        },
        "id": "KjVowSqcIqi7",
        "outputId": "295a7998-872e-4269-f53f-ea903f4aba6a"
      },
      "execution_count": null,
      "outputs": [
        {
          "output_type": "stream",
          "name": "stdout",
          "text": [
            "2024\n",
            "5\n",
            "3\n",
            "6\n",
            "30\n",
            "8\n",
            "181164\n"
          ]
        }
      ]
    },
    {
      "cell_type": "code",
      "source": [
        "import os\n",
        "print(os.getcwd())\n",
        "print(os.listdir())"
      ],
      "metadata": {
        "colab": {
          "base_uri": "https://localhost:8080/"
        },
        "id": "hoj7AdmaKZ1w",
        "outputId": "bb20189c-dad7-4660-d51a-8336b2c2010f"
      },
      "execution_count": null,
      "outputs": [
        {
          "output_type": "stream",
          "name": "stdout",
          "text": [
            "/content\n",
            "['.config', 'new_folder', 'sample_data']\n"
          ]
        }
      ]
    },
    {
      "cell_type": "code",
      "source": [
        "os.mkdir('new_folder')        # 새폴더를 만듬"
      ],
      "metadata": {
        "id": "YBw8sjJhK66W"
      },
      "execution_count": null,
      "outputs": []
    },
    {
      "cell_type": "code",
      "source": [
        "os.removedirs('new_folder')   # 폴더를 지움"
      ],
      "metadata": {
        "id": "YmI8a2hZLjM-"
      },
      "execution_count": null,
      "outputs": []
    },
    {
      "cell_type": "code",
      "source": [
        "!ls"
      ],
      "metadata": {
        "colab": {
          "base_uri": "https://localhost:8080/"
        },
        "id": "6vkecCALLSya",
        "outputId": "c85e8787-ac19-4a37-ac08-341992610884"
      },
      "execution_count": null,
      "outputs": [
        {
          "output_type": "stream",
          "name": "stdout",
          "text": [
            "new_folder  sample_data\n"
          ]
        }
      ]
    },
    {
      "cell_type": "code",
      "source": [
        "# 외부 라이브러리 예제\n",
        "# 먼저 pip 사용하여 라이브러리를 설치합니다.\n",
        "# !pip install pandas   # 로컬에서는 느낌표가 필요 없다.\n",
        "# 콜랩에는 웬만한 것들이 다 설치가 되어있음.\n",
        "\n",
        "import pandas as pd\n",
        "\n",
        "# pandas의 DataFrame 객체 생성\n",
        "data = {'Name': ['Alice', 'Bob', 'Charlie'], 'Age': [25, 30, 35]}\n",
        "df = pd.DataFrame(data) # df로 pd.DataFrame에 있는 자료들을 쓸 수 있게 된다.\n",
        "\n",
        "# pandas의 head() 함수 사용하여 DataFrame의 처음 5행 출력(여기서는 3행만 존재)\n",
        "print(df.head())"
      ],
      "metadata": {
        "colab": {
          "base_uri": "https://localhost:8080/"
        },
        "id": "8vV_VOSCL7nl",
        "outputId": "5d8b9947-49e5-4298-d2f6-6acca93ff868"
      },
      "execution_count": null,
      "outputs": [
        {
          "output_type": "stream",
          "name": "stdout",
          "text": [
            "      Name  Age\n",
            "0    Alice   25\n",
            "1      Bob   30\n",
            "2  Charlie   35\n"
          ]
        }
      ]
    },
    {
      "cell_type": "code",
      "source": [
        "import numpy as np\n",
        "data = [1, 2, 3, 4]\n",
        "arr = np.array(data)\n",
        "print(arr)"
      ],
      "metadata": {
        "colab": {
          "base_uri": "https://localhost:8080/"
        },
        "id": "PCjCbt6QQ3p7",
        "outputId": "e215a272-e61c-45ce-b1bf-3b43423313aa"
      },
      "execution_count": null,
      "outputs": [
        {
          "output_type": "stream",
          "name": "stdout",
          "text": [
            "[1 2 3 4]\n"
          ]
        }
      ]
    },
    {
      "cell_type": "code",
      "source": [
        "# 사용자 정의 함수 예제\n",
        "def greet(name):\n",
        "  return f\"hello {name}!\"\n",
        "\n",
        "print(greet(\"홍길동\"))"
      ],
      "metadata": {
        "colab": {
          "base_uri": "https://localhost:8080/"
        },
        "id": "QgNUFh9qGiOp",
        "outputId": "04b42037-b8c2-4e6a-fee6-fffec04dcd9c"
      },
      "execution_count": null,
      "outputs": [
        {
          "output_type": "stream",
          "name": "stdout",
          "text": [
            "hello 홍길동!\n"
          ]
        }
      ]
    },
    {
      "cell_type": "markdown",
      "source": [
        "#### 람다함수"
      ],
      "metadata": {
        "id": "RwBfnAuwSgRV"
      }
    },
    {
      "cell_type": "code",
      "source": [
        "# 람다 함수는 간단한 한 줄의 함수를 작성할때 유용\n",
        "multiply = lambda x, y: x * y\n",
        "print(multiply(3,4))"
      ],
      "metadata": {
        "colab": {
          "base_uri": "https://localhost:8080/"
        },
        "id": "kctqcDAIGibZ",
        "outputId": "5c11e004-d37d-4902-e82b-3c4cfa6b1899"
      },
      "execution_count": null,
      "outputs": [
        {
          "output_type": "stream",
          "name": "stdout",
          "text": [
            "12\n"
          ]
        }
      ]
    },
    {
      "cell_type": "code",
      "source": [
        "# 조건 사용:\n",
        "is_even = lambda x: True if x % 2 == 0 else False\n",
        "print(is_even(4))\n",
        "print(is_even(5))"
      ],
      "metadata": {
        "colab": {
          "base_uri": "https://localhost:8080/"
        },
        "id": "BuMzTcoBTHa-",
        "outputId": "7d87421e-62d5-4511-cc04-9881fd8abb94"
      },
      "execution_count": null,
      "outputs": [
        {
          "output_type": "stream",
          "name": "stdout",
          "text": [
            "True\n",
            "False\n"
          ]
        }
      ]
    },
    {
      "cell_type": "markdown",
      "source": [
        "Task2_0503. 내장함수 5개를 활용해서 사용자 함수로 간단한 프로그램을 만드세요.\n",
        "\n",
        "[예시] 문서관리 프로그램\n",
        "\n",
        "len() - 문자열의 길이를 계산합니다.\\\n",
        "input() - 사용자로부터 입력을 받습니다.\\\n",
        "print() - 결과를 출력합니다.\\\n",
        "sum() - 주어진 조건에 따라 특정 개수를 계산합니다.\\\n",
        "Counter (from collections) - 문자의 빈도수를 계산합니다."
      ],
      "metadata": {
        "id": "zuqbAnDzTmz2"
      }
    },
    {
      "cell_type": "code",
      "source": [
        "# 내장함수\n",
        "print(dir(__builtins__))\n",
        "print(len(dir(__builtins__)))"
      ],
      "metadata": {
        "colab": {
          "base_uri": "https://localhost:8080/"
        },
        "id": "UGUaPGNl_7MK",
        "outputId": "ce057f5b-b3cb-417d-ab06-0ad07f582d1e"
      },
      "execution_count": null,
      "outputs": [
        {
          "output_type": "stream",
          "name": "stdout",
          "text": [
            "['ArithmeticError', 'AssertionError', 'AttributeError', 'BaseException', 'BlockingIOError', 'BrokenPipeError', 'BufferError', 'BytesWarning', 'ChildProcessError', 'ConnectionAbortedError', 'ConnectionError', 'ConnectionRefusedError', 'ConnectionResetError', 'DeprecationWarning', 'EOFError', 'Ellipsis', 'EncodingWarning', 'EnvironmentError', 'Exception', 'False', 'FileExistsError', 'FileNotFoundError', 'FloatingPointError', 'FutureWarning', 'GeneratorExit', 'IOError', 'ImportError', 'ImportWarning', 'IndentationError', 'IndexError', 'InterruptedError', 'IsADirectoryError', 'KeyError', 'KeyboardInterrupt', 'LookupError', 'MemoryError', 'ModuleNotFoundError', 'NameError', 'None', 'NotADirectoryError', 'NotImplemented', 'NotImplementedError', 'OSError', 'OverflowError', 'PendingDeprecationWarning', 'PermissionError', 'ProcessLookupError', 'RecursionError', 'ReferenceError', 'ResourceWarning', 'RuntimeError', 'RuntimeWarning', 'StopAsyncIteration', 'StopIteration', 'SyntaxError', 'SyntaxWarning', 'SystemError', 'SystemExit', 'TabError', 'TimeoutError', 'True', 'TypeError', 'UnboundLocalError', 'UnicodeDecodeError', 'UnicodeEncodeError', 'UnicodeError', 'UnicodeTranslateError', 'UnicodeWarning', 'UserWarning', 'ValueError', 'Warning', 'ZeroDivisionError', '__IPYTHON__', '__build_class__', '__debug__', '__doc__', '__import__', '__loader__', '__name__', '__package__', '__spec__', 'abs', 'aiter', 'all', 'anext', 'any', 'ascii', 'bin', 'bool', 'breakpoint', 'bytearray', 'bytes', 'callable', 'chr', 'classmethod', 'compile', 'complex', 'copyright', 'credits', 'delattr', 'dict', 'dir', 'display', 'divmod', 'enumerate', 'eval', 'exec', 'execfile', 'filter', 'float', 'format', 'frozenset', 'get_ipython', 'getattr', 'globals', 'hasattr', 'hash', 'help', 'hex', 'id', 'input', 'int', 'isinstance', 'issubclass', 'iter', 'len', 'license', 'list', 'locals', 'map', 'max', 'memoryview', 'min', 'next', 'object', 'oct', 'open', 'ord', 'pow', 'print', 'property', 'range', 'repr', 'reversed', 'round', 'runfile', 'set', 'setattr', 'slice', 'sorted', 'staticmethod', 'str', 'sum', 'super', 'tuple', 'type', 'vars', 'zip']\n",
            "158\n"
          ]
        }
      ]
    },
    {
      "cell_type": "code",
      "source": [
        "def string_statistics(user_input):\n",
        "    # 문자열 길이 반환\n",
        "    length = len(user_input)\n",
        "    # 가장 자주 등장하는 문자 찾기(공백이 제일 많아서 공백이 출력됨)\n",
        "    from collections import Counter\n",
        "    frequency = Counter(user_input)\n",
        "    most_common = frequency.most_common(1)[0][0]\n",
        "    # 숫자 개수 세기\n",
        "    num_count = sum(c.isdigit() for c in user_input)\n",
        "    # 대문자 개수 세기\n",
        "    uppercase_count = sum(c.isupper() for c in user_input)\n",
        "    # 대문자 개수 세기\n",
        "    lowercase_count = sum(c.islower() for c in user_input)\n",
        "    # 결과 출력\n",
        "    print(f'입력된 문자열의 길이: {length}')\n",
        "    print(f'가장 자주 등장하는 문자: {most_common}')\n",
        "    print(f'숫자의 개수: {num_count}')\n",
        "    print(f'대문자의 개수: {uppercase_count}')\n",
        "    print(f'소문자의 개수: {lowercase_count}')\n",
        "\n",
        "# 사용자로부터 문자열 입력 받기\n",
        "user_input = input(\"문자열을 입력하세요 \")\n",
        "# 문자열 통계 함수 출력\n",
        "string_statistics(user_input)"
      ],
      "metadata": {
        "colab": {
          "base_uri": "https://localhost:8080/"
        },
        "id": "6rm5OWRtAZNV",
        "outputId": "f9cc386c-931b-4091-c42e-7cf796915843"
      },
      "execution_count": null,
      "outputs": [
        {
          "output_type": "stream",
          "name": "stdout",
          "text": [
            "문자열을 입력하세요 Hamas’s abrupt acceptance of the cease-fire deal came hours after Israel ordered an evacuation of some 100,000 Palestinians from eastern neighborhoods of Rafah, signaling an invasion was imminent.\n",
            "입력된 문자열의 길이: 196\n",
            "가장 자주 등장하는 문자:  \n",
            "숫자의 개수: 6\n",
            "대문자의 개수: 4\n",
            "소문자의 개수: 154\n"
          ]
        }
      ]
    },
    {
      "cell_type": "markdown",
      "source": [
        "Task3_0503. 외장함수 3개이상을 활용해서 간단한 프로그램을 만드세요."
      ],
      "metadata": {
        "id": "9dzrHZ6xUsGm"
      }
    },
    {
      "cell_type": "code",
      "source": [
        "import os         #\n",
        "import datetime   # 날짜\n",
        "import shutil     # 복사\n",
        "\n",
        "def daily_scheduler():\n",
        "    # 현재 날짜와 시간을 가져옵니다.\n",
        "    today = datetime.datetime.now()\n",
        "    date_string = today.strftime(\"%Y-%m-%d %H:%M:%S\")\n",
        "    print(f\"오늘의 날짜와 시간 : {date_string}\")\n",
        "    # 작업 파일의 이름을 정합니다.\n",
        "    filename = f\"task_{today.strftime('%Y%m%d')}.txt\"\n",
        "    # 파일이 이미 존재하는지 확인합니다.\n",
        "    if os.path.exists(filename):\n",
        "        print(f\"'{filename}' 파일이 이미 존재합니다. 백업을 생성합니다.\")\n",
        "        # 백업 파일 생성\n",
        "        shutil.copy(filename, filename + \".bak\")\n",
        "    else:\n",
        "        print(f\"'{filename}' 파일이 존재하지 않습니다. 새로운 파일을 생성합니다.\")\n",
        "    # 사용자로부터 오늘의 주요 작업을 입력받습니다.\n",
        "    task = input(\"오늘의 주요 작업을 입력하세요 : \")\n",
        "    # 작업 내용을 파일에 저장합니다.\n",
        "    with open(filename, 'a') as file:\n",
        "        file.write(f\"{date_string}: {task}\\n\")\n",
        "    print(f\"'{filename}' 파일에 작업이 저장되었습니다.\")\n",
        "if __name__ == \"__main__\":\n",
        "    daily_scheduler()"
      ],
      "metadata": {
        "id": "DC_3heeLWVTj",
        "colab": {
          "base_uri": "https://localhost:8080/"
        },
        "outputId": "c742446f-284d-4147-bae8-c2bfb5317359"
      },
      "execution_count": null,
      "outputs": [
        {
          "output_type": "stream",
          "name": "stdout",
          "text": [
            "오늘의 날짜와 시간 : 2024-05-07 03:33:30\n",
            "'task_20240507.txt' 파일이 존재하지 않습니다. 새로운 파일을 생성합니다.\n",
            "오늘의 주요 작업을 입력하세요 : 파이썬_함수\n",
            "'task_20240507.txt' 파일에 작업이 저장되었습니다.\n"
          ]
        }
      ]
    },
    {
      "cell_type": "markdown",
      "source": [
        "Task4_0503. 리스트를 작성하고 람다 함수를 이용해서 한번에 함수를 적용하여 결과값을 출력하세요."
      ],
      "metadata": {
        "id": "pS-ruRIAWAEX"
      }
    },
    {
      "cell_type": "code",
      "source": [
        "numbers = [1, 2, 3, 4, 5]\n",
        "squared_numbers = map(lambda x: x*x, numbers)\n",
        "print(list(squared_numbers))"
      ],
      "metadata": {
        "colab": {
          "base_uri": "https://localhost:8080/"
        },
        "id": "rnGI9jaIWVo1",
        "outputId": "cef58d00-a67f-433b-9e46-e47b7180f0c1"
      },
      "execution_count": null,
      "outputs": [
        {
          "output_type": "stream",
          "name": "stdout",
          "text": [
            "[1, 4, 9, 16, 25]\n"
          ]
        }
      ]
    },
    {
      "cell_type": "code",
      "source": [
        "# 짝수\n",
        "numbers = [1, 2, 3, 4, 5]\n",
        "filtered_number = filter(lambda x: x % 2 == 0, numbers)\n",
        "print(list(filtered_number))"
      ],
      "metadata": {
        "colab": {
          "base_uri": "https://localhost:8080/"
        },
        "id": "fDPYgXLIJQAh",
        "outputId": "20bc38b3-91fd-4073-b1fd-443ede74939e"
      },
      "execution_count": null,
      "outputs": [
        {
          "output_type": "stream",
          "name": "stdout",
          "text": [
            "[2, 4]\n"
          ]
        }
      ]
    },
    {
      "cell_type": "markdown",
      "source": [
        "Task5_0503. 외부 라이브러리를 임포트해서 간단한 프로그램을 만드세요."
      ],
      "metadata": {
        "id": "NJmWnHv_WAjq"
      }
    },
    {
      "cell_type": "code",
      "source": [
        "# 예시\n",
        "# from bs4 import BeautifulSoup\n",
        "# html_doc = \"<html><head><title>Hello World</title></head></html>\"\n",
        "# soup = BeautifulSoup(html_doc, 'html.parser')\n",
        "# print(soup.title.text)"
      ],
      "metadata": {
        "id": "LGjQvf-0TmGg"
      },
      "execution_count": null,
      "outputs": []
    },
    {
      "cell_type": "code",
      "source": [
        "!pip install requests -q # -q는 외부 라이브러리를 설치할때 뜨는글자를 좀 간략하게 보여줌"
      ],
      "metadata": {
        "id": "vB1fqN-2Kdvs"
      },
      "execution_count": null,
      "outputs": []
    },
    {
      "cell_type": "code",
      "source": [
        "import requests\n",
        "from bs4 import BeautifulSoup\n",
        "\n",
        "def fetch_website_content(url):\n",
        "    # URL에서 데이터를 가져옵니다.\n",
        "    response = requests.get(url)\n",
        "    if response.status_code == 200:\n",
        "      # HTML 내용을 BeautifulSoup 객체로 파싱합니다.\n",
        "      soup = BeautifulSoup(response.text, 'html.parser')\n",
        "\n",
        "      # 예제: 페이지 타이틀을 출력합니다.\n",
        "      print(\"Page Title:\", soup.title.string if soup. title else \"No title found\")\n",
        "    else:\n",
        "      print(\"Failed to retrieve th webpage\")\n",
        "      print(\"Status code:\", response.statuse_code)\n",
        "\n",
        "url = input(\"주소를 입력해주세요:\")\n",
        "if __name__ == \"__main__\":\n",
        "    fetch_website_content(url)"
      ],
      "metadata": {
        "colab": {
          "base_uri": "https://localhost:8080/"
        },
        "id": "pCZZLfK2Kp-w",
        "outputId": "ad3fc4f9-2ca7-432e-aeb3-20b132edd9f2"
      },
      "execution_count": null,
      "outputs": [
        {
          "output_type": "stream",
          "name": "stdout",
          "text": [
            "주소를 입력해주세요:https://www.naver.com/\n",
            "Page Title: NAVER\n"
          ]
        }
      ]
    },
    {
      "cell_type": "markdown",
      "source": [
        "#### 파이썬 패키지,  모듈, 함수, 클래스\n",
        "- 코드 작성 시 이미 만들어져 있는 함수들을 활용하면 보다 효율적이고 빠르게 개발 가능\n",
        "- 이미 만들어져 있고 안정성이 검증된 함수들을 성격에 맞게 하나의 파이썬 파일에 묶어 만들어 놓을 것을 모듈이라 함\n",
        "- 외부 모듈에 있는 함수들을 활용하려면 이 모듈을 먼저 가져와서 사용해야 하는데 이것을 모듈을 임포트한다고 한다.\n",
        "- 파이썬 모듈이 하나의 파이썬 파일이라면 패키지는 디렉토리로 볼 수 있다.\n",
        "\n",
        "패키지\n",
        "1. 라이브러리라고도 부름\n",
        "2. 특정 기능과 관련된 여러 모듈을 한 그룹으로 묶은 것\n",
        "3. 패키지 안에 서브패키지가 있을 수도 있다.\n",
        "4. import 패키지/모듈, from 패키지/모듈 import 서브패키지/모듈\n",
        "  \n",
        "   \n",
        "모듈\n",
        "1. 여러 기능들이 뭉쳐진 하나의. py파일\n",
        "2. 함수, 클래스, 변수 등 포함\n",
        "3. import 모듈\n",
        "\n",
        "함수\n",
        "1. 하나의 기능을 가진 코드의 집합\n",
        "2. 함수를 사용한다 = 함수를 호출한다\n",
        "3. 함수 사용 형태: 함수( )\n",
        "   - 필요한 경우 () 안에 매개변수 또는 옵션\n",
        "4. 종류\n",
        "   - 내장 함수(built in function)\n",
        "   - 외장 함수: import 해주어야 함\n",
        "   \n",
        "클래스   \n",
        "- 파이썬은 객체 지향 언어로클래스를 기반으로 객체를 만들어 사용한다.\n",
        "- 한 파이썬 파일(. py) 내에서 \"class class명():\"을 통해 클래스 선언"
      ],
      "metadata": {
        "id": "OlDE2aSCdvAS"
      }
    },
    {
      "cell_type": "markdown",
      "source": [
        "#### 함수 vs 메소드\n",
        "- 함수 (Function)\n",
        "    - 함수는 특정 작업을 수행하거나 값을 계산하기 위해 정의된 코드의 블록\n",
        "    - 함수는 def 키워드를 사용하여 정의\n",
        "    - 함수는 전역적으로 호출할 수 있거나 다른 함수 내부에서 호출할 수 있다.    \n",
        "- 메소드 (Method)\n",
        "    - 메소드는 객체에 속한 함수, 메소드는 특정 객체의 기능으로 정의\n",
        "    - 메소드는 객체와 연결되어 있으며, . (점) 표기법을 사용하여 해당 객체에 대한 메소드를 호출\n",
        "    - 메소드는 첫 번째 매개변수로 self를 사용하여 객체 자체를 참조 (클래스 내부에서 메소드를 정의할 때)\n",
        "- 주요 차이점\n",
        "    - 정의: 함수는 독립적으로 정의되지만, 메소드는 클래스 내부에서 정의\n",
        "    - 호출: 함수는 이름만으로 호출될 수 있지만, 메소드는 객체를 통해 호출\n",
        "    - 참조: 메소드는 첫 번째 매개변수로 객체 자신을 참조(self), 반면 함수는 이런 자체 참조 매개변수를 갖지 않는다."
      ],
      "metadata": {
        "id": "A5LOhGVcdyfO"
      }
    },
    {
      "cell_type": "markdown",
      "source": [
        "- 함수의 종류 및 예제\n",
        "- 패키지, 모듈, 함수, 클래스\n",
        "- 함수 vs 메소드 (함수는 독립적으로 사용가능, 메소드는 클레스를 통해 사용)\n",
        "- 내장함수 연습\n",
        "- 외장함수 연습 : 날짜 함수, os\n",
        "- 외부 라이브러리 연습\n",
        "- 람다함수 연습\n",
        "- 사용자 함수 연습\n",
        "- 함수 유형 : 입력 인자와 리턴값에 따른 4가지 형태\n",
        "- 지역변수와 전역변수\n",
        "- 프로그램 작성"
      ],
      "metadata": {
        "id": "IVEANgx_i2JL"
      }
    },
    {
      "cell_type": "code",
      "source": [
        "# 함수 호출\n",
        "def my_function():\n",
        "    print(\"Hello from a function\")\n",
        "\n",
        "my_function()"
      ],
      "metadata": {
        "colab": {
          "base_uri": "https://localhost:8080/"
        },
        "id": "YrAzg0XadzL9",
        "outputId": "04dee8fd-5f45-4c55-d4c7-8255ca3382b5"
      },
      "execution_count": null,
      "outputs": [
        {
          "output_type": "stream",
          "name": "stdout",
          "text": [
            "Hello from a function\n"
          ]
        }
      ]
    },
    {
      "cell_type": "code",
      "source": [
        "# 메소드 호출\n",
        "class MyClass:\n",
        "    def my_method(self):\n",
        "        print(\"Hello from a method\")\n",
        "    def sumn(self):\n",
        "\n",
        "\n",
        "obj = MyClass()\n",
        "obj.my_method()"
      ],
      "metadata": {
        "colab": {
          "base_uri": "https://localhost:8080/"
        },
        "id": "-EK5pJUjg1JY",
        "outputId": "2412c5dc-3967-4043-eb5d-c21b4e900ae8"
      },
      "execution_count": null,
      "outputs": [
        {
          "output_type": "stream",
          "name": "stdout",
          "text": [
            "Hello from a method\n"
          ]
        }
      ]
    },
    {
      "cell_type": "markdown",
      "source": [
        "####내장함수연습"
      ],
      "metadata": {
        "id": "xtq4uvWoiUSc"
      }
    },
    {
      "cell_type": "code",
      "source": [
        "print(abs(-3))\n",
        "print(all([1,2,3,0])) # x가 모두 참이면 True, 거짓이 하나라도 있으면 False\n",
        "print(any([1,2,3,0])) # x가 하나라도 참이면 True, 모두 거짓이면 False\n",
        "print(chr(65))        # 아스키  코드\n",
        "print(float(3))\n",
        "print(int(3.9))\n",
        "print(max(1,10))\n",
        "print(min(1,10))\n",
        "print(pow(10,2))      # 거듭제곱\n",
        "print(round(2.675,2))"
      ],
      "metadata": {
        "colab": {
          "base_uri": "https://localhost:8080/"
        },
        "id": "ONhCSc5hiT28",
        "outputId": "29c5a648-8318-4957-ba16-bbd49f858f8a"
      },
      "execution_count": null,
      "outputs": [
        {
          "output_type": "stream",
          "name": "stdout",
          "text": [
            "3\n",
            "False\n",
            "True\n",
            "A\n",
            "3.0\n",
            "3\n",
            "10\n",
            "1\n",
            "100\n",
            "2.67\n"
          ]
        }
      ]
    },
    {
      "cell_type": "code",
      "source": [
        "# 클래스 정의\n",
        "class Car:\n",
        "    def __init__(self, brand, model):\n",
        "        self.brand = brand\n",
        "        self.model = model\n",
        "\n",
        "# 인스턴스 생성\n",
        "car1 = Car(\"Toyota\", \"Corolla\")\n",
        "car2 = Car(\"Hyundai\", \"Sonata\")\n",
        "\n",
        "print(car1.brand, car1.model)\n",
        "print(car2.brand, car2.model)"
      ],
      "metadata": {
        "colab": {
          "base_uri": "https://localhost:8080/"
        },
        "id": "2RqV81VZjyLS",
        "outputId": "e8d76818-5a7f-432b-a453-c2127da4555d"
      },
      "execution_count": null,
      "outputs": [
        {
          "output_type": "stream",
          "name": "stdout",
          "text": [
            "Toyota Corolla\n",
            "Hyundai Sonata\n"
          ]
        }
      ]
    },
    {
      "cell_type": "code",
      "source": [
        "# 함수가 다른 객체와 마찬가지로 변수에 할당되거나, 다른 함수로 전달되거나, 다른 함수로부터 반환될 수 있음.\n",
        "# pow를 다른 변수에 할당\n",
        "my_pow = pow\n",
        "result = my_pow(2,3)\n",
        "print(result)\n",
        "# 함수를 인자로 전달 # 내장 함수를 사용자 함수의 변수 값으로 사용한 경우\n",
        "def apply_func(func, x, y):\n",
        "    return func(x, y)\n",
        "result = apply_func(pow, 3, 4) # pow(3,4)\n",
        "print(result)"
      ],
      "metadata": {
        "colab": {
          "base_uri": "https://localhost:8080/"
        },
        "id": "aQS1Y-P2kQNK",
        "outputId": "c1d391a7-0755-4a87-f7c9-301cc71f987a"
      },
      "execution_count": null,
      "outputs": [
        {
          "output_type": "stream",
          "name": "stdout",
          "text": [
            "8\n",
            "81\n"
          ]
        }
      ]
    },
    {
      "cell_type": "code",
      "source": [
        "age = 30\n",
        "print(\"I am \" + str(age) + \" years old.\")"
      ],
      "metadata": {
        "colab": {
          "base_uri": "https://localhost:8080/"
        },
        "id": "QPQD8MvilO9j",
        "outputId": "0eb91190-f09f-488b-94fe-de652412c0f2"
      },
      "execution_count": null,
      "outputs": [
        {
          "output_type": "stream",
          "name": "stdout",
          "text": [
            "I am 30 years old.\n"
          ]
        }
      ]
    },
    {
      "cell_type": "markdown",
      "source": [
        "#### sort, sorted 모두 key, reverse 매개변수를 갖고 있따.\n",
        "\n",
        "- revers : 기본값은 reverse=False(오름차순), reverse=True를 매개변수로 입력하면 내림차순으로 정렬\n",
        "- key : 정렬을 목적으로 하는 함수를 값으로 넣는다. lambda를 이용할 수 있고 key 값을 기준으로 정렬되고 기본값은 오름차순"
      ],
      "metadata": {
        "id": "ATIIAFI6lxkR"
      }
    },
    {
      "cell_type": "code",
      "source": [
        "my_list = [3, 1, 4, 2]\n",
        "print(sorted(my_list))\n",
        "print(my_list)"
      ],
      "metadata": {
        "colab": {
          "base_uri": "https://localhost:8080/"
        },
        "id": "FdY3un70lw88",
        "outputId": "aa2ba083-4354-4905-ee90-294f9704bf90"
      },
      "execution_count": null,
      "outputs": [
        {
          "output_type": "stream",
          "name": "stdout",
          "text": [
            "[1, 2, 3, 4]\n",
            "[3, 1, 4, 2]\n"
          ]
        }
      ]
    },
    {
      "cell_type": "code",
      "source": [
        "# Q. 점수를 기준으로 리스트를 정렬하세요\n",
        "# sorted() 함수와 함께 사용:\n",
        "students = [('Alice',90),('Bob',85),('Charlie',88)]\n",
        "# sorted_student = sorted(students, key=lambda x: x[1]) # key는 sort 기준\n",
        "sorted_student = sorted(students, key=lambda x: x[1], reverse=True) #내림차순\n",
        "print(sorted_student)"
      ],
      "metadata": {
        "colab": {
          "base_uri": "https://localhost:8080/"
        },
        "id": "8gI9TR3EmabY",
        "outputId": "50e4949d-3d16-4d96-c704-4090ae35feb3"
      },
      "execution_count": null,
      "outputs": [
        {
          "output_type": "stream",
          "name": "stdout",
          "text": [
            "[('Alice', 90), ('Charlie', 88), ('Bob', 85)]\n"
          ]
        }
      ]
    },
    {
      "cell_type": "markdown",
      "source": [
        "Task1_0507. 튜플 형태인 strings를 다양한 문자가 포함된 순서로 정렬하세요.\n",
        "\n",
        "strings = ('a', 'ca', 'bar', 'aaaa', 'ababa')"
      ],
      "metadata": {
        "id": "JUkoiOFGqTKP"
      }
    },
    {
      "cell_type": "code",
      "source": [
        "strings = ('a','ca','bar','aaaa','ababa')\n",
        "sorted_strings = sorted(strings, key=lambda x: len(set(x)), reverse=True)\n",
        "print(sorted_strings)"
      ],
      "metadata": {
        "id": "dqVXAQ3AqWS1",
        "colab": {
          "base_uri": "https://localhost:8080/"
        },
        "outputId": "2eb0eea7-4b91-4db2-ad46-a24ba613d2ab"
      },
      "execution_count": null,
      "outputs": [
        {
          "output_type": "stream",
          "name": "stdout",
          "text": [
            "['bar', 'ca', 'ababa', 'a', 'aaaa']\n"
          ]
        }
      ]
    },
    {
      "cell_type": "code",
      "source": [
        "# list 사용방법\n",
        "strings = ('a','ca','bar','aaaa','ababa')\n",
        "strings = list(strings)\n",
        "strings.sort(key=lambda x: len(set(x)), reverse=True)\n",
        "print(strings)"
      ],
      "metadata": {
        "colab": {
          "base_uri": "https://localhost:8080/"
        },
        "id": "TZjMM4gAmboa",
        "outputId": "2bf0ffec-ba54-4664-9e71-06da37ebb80b"
      },
      "execution_count": null,
      "outputs": [
        {
          "output_type": "stream",
          "name": "stdout",
          "text": [
            "['bar', 'ca', 'ababa', 'a', 'aaaa']\n"
          ]
        }
      ]
    },
    {
      "cell_type": "code",
      "source": [
        "my_string = 'Python'\n",
        "print(type(my_string))"
      ],
      "metadata": {
        "colab": {
          "base_uri": "https://localhost:8080/"
        },
        "id": "I0R7KlAAtMqj",
        "outputId": "1e95f6b3-50bc-42c9-c80e-92dd4dd5d4e6"
      },
      "execution_count": null,
      "outputs": [
        {
          "output_type": "stream",
          "name": "stdout",
          "text": [
            "<class 'str'>\n"
          ]
        }
      ]
    },
    {
      "cell_type": "code",
      "source": [
        "print(list(range(5)))\n",
        "print(list(range(1,6)))\n",
        "print(list(range(1,10,2)))\n",
        "print(list(range(0,-10,-1)))"
      ],
      "metadata": {
        "colab": {
          "base_uri": "https://localhost:8080/"
        },
        "id": "ayBhZsKTtXkh",
        "outputId": "4f3d8f7d-bac2-4348-f104-5f77b37150c6"
      },
      "execution_count": null,
      "outputs": [
        {
          "output_type": "stream",
          "name": "stdout",
          "text": [
            "[0, 1, 2, 3, 4]\n",
            "[1, 2, 3, 4, 5]\n",
            "[1, 3, 5, 7, 9]\n",
            "[0, -1, -2, -3, -4, -5, -6, -7, -8, -9]\n"
          ]
        }
      ]
    },
    {
      "cell_type": "code",
      "source": [
        "# Q. 실행 가능한 숫자를 문자열('5+5') 입력으로 받아 문자열을 숫자 연산으로 실행한 결과값을 출력하세요.\n",
        "# eval 함수 -> 문자열 값도 숫자값으로 계산하게 해줌.\n",
        "print(eval(input( '연산을 입력하세요. >  ')))"
      ],
      "metadata": {
        "colab": {
          "base_uri": "https://localhost:8080/"
        },
        "id": "zU2OZ-b8uO5W",
        "outputId": "4d0c6530-c256-4ce0-909d-9aa99936668e"
      },
      "execution_count": null,
      "outputs": [
        {
          "output_type": "stream",
          "name": "stdout",
          "text": [
            "연산을 입력하세요. >  5+6*5\n",
            "35\n"
          ]
        }
      ]
    },
    {
      "cell_type": "code",
      "source": [
        "expression = input(\"계산할 수식을 입력하세요: \")\n",
        "result = eval(expression)\n",
        "print(f'계산결과: {result}')"
      ],
      "metadata": {
        "colab": {
          "base_uri": "https://localhost:8080/"
        },
        "id": "vx-2brghuwR9",
        "outputId": "7d714e19-9b83-4165-ac98-94ba94eff51d"
      },
      "execution_count": null,
      "outputs": [
        {
          "output_type": "stream",
          "name": "stdout",
          "text": [
            "계산할 수식을 입력하세요: 3*3\n",
            "계산결과: 9\n"
          ]
        }
      ]
    },
    {
      "cell_type": "code",
      "source": [
        "data = [1, 2, 3, 4, 5]\n",
        "operation = input(\"실행할 리스트 연산을 입력하세요 (예: 'data.append(6), 'data.pop()): .> \")\n",
        "eval(operation)\n",
        "print(f'수정된 데이터: {data}')"
      ],
      "metadata": {
        "colab": {
          "base_uri": "https://localhost:8080/"
        },
        "id": "WMSTJGKFvJ9V",
        "outputId": "e5d70daf-197e-45ad-c901-ef3bfeb40fe3"
      },
      "execution_count": null,
      "outputs": [
        {
          "output_type": "stream",
          "name": "stdout",
          "text": [
            "실행할 리스트 연산을 입력하세요 (예: 'data.append(6), 'data.pop()): .> data.append(6)\n",
            "수정된 데이터: [1, 2, 3, 4, 5, 6]\n"
          ]
        }
      ]
    },
    {
      "cell_type": "markdown",
      "source": [
        "Task2_0507. a,b 변수와 연산자를 입력하면 사칙연산을 수행하는 코드를 작성하세요.(eval 사용하는 경우와 안하는 경우)"
      ],
      "metadata": {
        "id": "Ak3rWc4owh9-"
      }
    },
    {
      "cell_type": "code",
      "source": [
        "num = input('사칙 연산을 입력해주세요 ex)1+2 >> ')\n",
        "print(type(num))\n",
        "result = eval(num)\n",
        "print(result)"
      ],
      "metadata": {
        "colab": {
          "base_uri": "https://localhost:8080/"
        },
        "id": "DUw7RyeIplM5",
        "outputId": "7c46b6f3-6a03-42cf-d73a-8c7d6febbda1"
      },
      "execution_count": null,
      "outputs": [
        {
          "output_type": "stream",
          "name": "stdout",
          "text": [
            "사칙 연산을 입력해주세요 ex) 1+2 : 3+4\n",
            "<class 'str'>\n",
            "7\n"
          ]
        }
      ]
    },
    {
      "cell_type": "code",
      "source": [
        "num = input('사칙 연산을 입력해주세요 ex)1+2 >> ')\n",
        "maths = ['+','-','/','*']\n",
        "math = {'+':lambda a,b:a+b,'-':lambda a,b:a-b,'/':lambda a,b:a/b,'*':lambda a,b:a*b}\n",
        "\n",
        "num_list = list(num)\n",
        "for i in num_list:\n",
        "    if i in math:\n",
        "        num = num.split(i)                        # 문자를 나눈 다음 i를 대입하고\n",
        "        print(math[i](int(num[0]),int(num[1])))   # 3*3을 입력시 *:lambda 3, 3 : 3x3"
      ],
      "metadata": {
        "id": "7pIJ0eW_wkE1",
        "colab": {
          "base_uri": "https://localhost:8080/"
        },
        "outputId": "077c38a9-9412-4b06-ef34-cfc40262bdfa"
      },
      "execution_count": null,
      "outputs": [
        {
          "output_type": "stream",
          "name": "stdout",
          "text": [
            "사칙 연산을 입력해주세요 ex) 5+5 : 3+2\n",
            "5\n"
          ]
        }
      ]
    },
    {
      "cell_type": "code",
      "source": [
        "for idx, element in enumerate(['ele1','ele2','ele3']):\n",
        "  print(idx+1,element)"
      ],
      "metadata": {
        "colab": {
          "base_uri": "https://localhost:8080/"
        },
        "id": "4lXryYiRwz9j",
        "outputId": "f54801b7-f6b3-4249-ae9e-29fa4a6aa572"
      },
      "execution_count": null,
      "outputs": [
        {
          "output_type": "stream",
          "name": "stdout",
          "text": [
            "1 ele1\n",
            "2 ele2\n",
            "3 ele3\n"
          ]
        }
      ]
    },
    {
      "cell_type": "code",
      "source": [
        "# Q. enumerate와 f-string을 사용해서 특정 리스트에서 원하는 형태로 출력을 하세요.(인덱스와 내용을 믹스하여)\n",
        "list02 = ['사과', '키위', '딸기', '참외', '수박']\n",
        "\n",
        "print(\"과일의 종류\")\n",
        "for idx, fruit in enumerate(list02):\n",
        "    print(f'{idx}. {fruit}')"
      ],
      "metadata": {
        "colab": {
          "base_uri": "https://localhost:8080/"
        },
        "id": "HK76iJwtxRBK",
        "outputId": "aaae731f-4889-4354-aa68-c77cd02cc96f"
      },
      "execution_count": null,
      "outputs": [
        {
          "output_type": "stream",
          "name": "stdout",
          "text": [
            "과일의 종류\n",
            "0. 사과\n",
            "1. 키위\n",
            "2. 딸기\n",
            "3. 참외\n",
            "4. 수박\n"
          ]
        }
      ]
    },
    {
      "cell_type": "markdown",
      "source": [
        "Task3_0507. list1에 대해서 아래와 같이 출력하는 코드를 작성하세요.\n",
        "\n",
        "인사평가 1번째 해당자는 김부장입니다. 회의실A로 오시기 바랍니다.\\\n",
        "인사평가 2번째 해당자는 이차장입니다. 회의실A로 오시기 바랍니다.\\\n",
        "인사평가 3번째 해당자는 김과장입니다. 회의실A로 오시기 바랍니다.\\\n",
        "인사평가 4번째 해당자는 이대리입니다. 회의실A로 오시기 바랍니다.\\\n",
        "인사평가 5번째 해당자는 오사원입니다. 회의실A로 오시기 바랍니다.\\\n",
        "인사평가 6번째 해당자는 김인턴입니다. 회의실A로 오시기 바랍니다."
      ],
      "metadata": {
        "id": "hQ86neG2zYsj"
      }
    },
    {
      "cell_type": "code",
      "source": [
        "list1 = ['김부장','이차장','김과장','이대리','오사원','김인턴']\n",
        "\n",
        "for idx, emp in enumerate(list1):\n",
        "  print(f'인사평가 {idx+1}번째 해당자는 {emp}입니다. 회의실 A로 오시기 바랍니다')"
      ],
      "metadata": {
        "colab": {
          "base_uri": "https://localhost:8080/"
        },
        "id": "9OaQ0HWdzZUv",
        "outputId": "45c5bbf2-8413-406d-95e6-1dc0f5a1bdd1"
      },
      "execution_count": null,
      "outputs": [
        {
          "output_type": "stream",
          "name": "stdout",
          "text": [
            "인사평가 1번째 해당자는 김부장입니다. 회의실 A로 오시기 바랍니다\n",
            "인사평가 2번째 해당자는 이차장입니다. 회의실 A로 오시기 바랍니다\n",
            "인사평가 3번째 해당자는 김과장입니다. 회의실 A로 오시기 바랍니다\n",
            "인사평가 4번째 해당자는 이대리입니다. 회의실 A로 오시기 바랍니다\n",
            "인사평가 5번째 해당자는 오사원입니다. 회의실 A로 오시기 바랍니다\n",
            "인사평가 6번째 해당자는 김인턴입니다. 회의실 A로 오시기 바랍니다\n"
          ]
        }
      ]
    },
    {
      "cell_type": "markdown",
      "source": [
        "Task4_0507. 주어진 문자열 리스트의 요소들을 대문자로 변환하세요."
      ],
      "metadata": {
        "id": "5IjWt-0UzvPL"
      }
    },
    {
      "cell_type": "code",
      "source": [
        "# 요소를 이용\n",
        "words = [\"hello\", \"world\", \"python\", \"map\"]\n",
        "upper_words = []\n",
        "for i in words:\n",
        "    upper_words.append(i.upper())\n",
        "print(upper_words)"
      ],
      "metadata": {
        "colab": {
          "base_uri": "https://localhost:8080/"
        },
        "id": "iV6VqH1HzwfI",
        "outputId": "d3112bb1-c187-4b2b-b935-6e8a28b2e3da"
      },
      "execution_count": null,
      "outputs": [
        {
          "output_type": "stream",
          "name": "stdout",
          "text": [
            "['HELLO', 'WORLD', 'PYTHON', 'MAP']\n"
          ]
        }
      ]
    },
    {
      "cell_type": "code",
      "source": [
        "# 인덱스를 이용\n",
        "words = [\"hello\", \"world\", \"python\", \"map\"]\n",
        "for i in range(len(words)):\n",
        "    words[i] = words[i].upper()\n",
        "print(words)"
      ],
      "metadata": {
        "colab": {
          "base_uri": "https://localhost:8080/"
        },
        "id": "LN2XBaMBrUT6",
        "outputId": "899db72a-cf5d-4b3c-b94d-d495e41c7a5e"
      },
      "execution_count": null,
      "outputs": [
        {
          "output_type": "stream",
          "name": "stdout",
          "text": [
            "['HELLO', 'WORLD', 'PYTHON', 'MAP']\n"
          ]
        }
      ]
    },
    {
      "cell_type": "code",
      "source": [
        "# str.upper는 문자열의 모든 문자를 대문자로 변환하는 메서드\n",
        "words = [\"hello\", \"world\", \"python\", \"map\"]\n",
        "upper_words = list(map(str.upper, words))\n",
        "print(upper_words)"
      ],
      "metadata": {
        "colab": {
          "base_uri": "https://localhost:8080/"
        },
        "id": "Mmfc564yvb9g",
        "outputId": "ee225629-5e99-4dc0-e169-062121ebd253"
      },
      "execution_count": null,
      "outputs": [
        {
          "output_type": "stream",
          "name": "stdout",
          "text": [
            "['HELLO', 'WORLD', 'PYTHON', 'MAP']\n"
          ]
        }
      ]
    },
    {
      "cell_type": "code",
      "source": [
        "print(type(str))  # class가 type으로 나온다는 말은 객체가 class라는 뜻"
      ],
      "metadata": {
        "colab": {
          "base_uri": "https://localhost:8080/"
        },
        "id": "YXAO5TcJwBW7",
        "outputId": "b8f37b5b-1f86-4562-e72f-44347e87f062"
      },
      "execution_count": null,
      "outputs": [
        {
          "output_type": "stream",
          "name": "stdout",
          "text": [
            "<class 'type'>\n"
          ]
        }
      ]
    },
    {
      "cell_type": "code",
      "source": [
        "# 겁나 간단하게 하는법!\n",
        "words = [\"hello\", \"world\", \"python\", \"map\"]\n",
        "print([i.upper() for i in words])"
      ],
      "metadata": {
        "colab": {
          "base_uri": "https://localhost:8080/"
        },
        "id": "vSLwDnSwqxfr",
        "outputId": "0f286ff5-edf0-44a9-cb18-f240e12dd891"
      },
      "execution_count": null,
      "outputs": [
        {
          "output_type": "stream",
          "name": "stdout",
          "text": [
            "['HELLO', 'WORLD', 'PYTHON', 'MAP']\n"
          ]
        }
      ]
    },
    {
      "cell_type": "markdown",
      "source": [
        "Task5_0507. 주어진 리스트에서 'p'로 시작하는 단어만 필터링하세요."
      ],
      "metadata": {
        "id": "PZ8pcBfnz81P"
      }
    },
    {
      "cell_type": "code",
      "source": [
        "# 필터링\n",
        "words = [\"python\", \"is\", \"powerful\", \"programming\", \"language\", \"pandas\"]\n",
        "for alph in words:\n",
        "    if alph[0] == 'p':\n",
        "        print(alph)"
      ],
      "metadata": {
        "colab": {
          "base_uri": "https://localhost:8080/"
        },
        "id": "Pnj_Ni-88IWG",
        "outputId": "3e2938c3-6e8b-42b6-f017-288908bf2cf9"
      },
      "execution_count": null,
      "outputs": [
        {
          "output_type": "stream",
          "name": "stdout",
          "text": [
            "python\n",
            "powerful\n",
            "programming\n",
            "pandas\n"
          ]
        }
      ]
    },
    {
      "cell_type": "code",
      "source": [
        "# 필터링 후 리스트 만들기\n",
        "words = [\"python\", \"is\", \"powerful\", \"programming\", \"language\", \"pandas\"]\n",
        "pwords_list = []\n",
        "for alph in words:\n",
        "    if alph[0] == 'p':\n",
        "        pwords_list.append(alph)\n",
        "\n",
        "print(pwords_list)"
      ],
      "metadata": {
        "colab": {
          "base_uri": "https://localhost:8080/"
        },
        "id": "2IZdpodiz972",
        "outputId": "0dd9a870-ed25-433b-8cb0-4b312b1e8f93"
      },
      "execution_count": null,
      "outputs": [
        {
          "output_type": "stream",
          "name": "stdout",
          "text": [
            "['python', 'powerful', 'programming', 'pandas']\n"
          ]
        }
      ]
    },
    {
      "cell_type": "code",
      "source": [
        "words = [\"python\", \"is\", \"powerful\", \"programming\", \"language\", \"pandas\"]\n",
        "print([w for w in words if w.startswith('p')])"
      ],
      "metadata": {
        "colab": {
          "base_uri": "https://localhost:8080/"
        },
        "id": "mwQ7aZkLwxzL",
        "outputId": "0c8bb4c7-e1db-4db8-fc00-7dc9d03cb44d"
      },
      "execution_count": null,
      "outputs": [
        {
          "output_type": "stream",
          "name": "stdout",
          "text": [
            "['python', 'powerful', 'programming', 'pandas']\n"
          ]
        }
      ]
    },
    {
      "cell_type": "code",
      "source": [
        "words = [\"python\", \"is\", \"powerful\", \"programming\", \"language\", \"pandas\"]\n",
        "p_words = list(filter(lambda x: x.startswith('p'), words))\n",
        "print(p_words)"
      ],
      "metadata": {
        "colab": {
          "base_uri": "https://localhost:8080/"
        },
        "id": "6qdUi8RAxZYG",
        "outputId": "ffc829c6-5652-4d7a-d7ea-c5aa2db0bff6"
      },
      "execution_count": null,
      "outputs": [
        {
          "output_type": "stream",
          "name": "stdout",
          "text": [
            "['python', 'powerful', 'programming', 'pandas']\n"
          ]
        }
      ]
    },
    {
      "cell_type": "markdown",
      "source": [
        "Task6_0507. 내장함수를 이용해서 list = [0,1,2,3,4,5,6]에서 2를 삭제 후 출력하세요.(2가지 방법)"
      ],
      "metadata": {
        "id": "PHEskJuq0KFy"
      }
    },
    {
      "cell_type": "code",
      "source": [
        "# 방법 1 remove에는 값을 넣어주는 것!\n",
        "list1 = [0,1,2,3,4,5,6]\n",
        "list1.remove(2)\n",
        "print(list1)"
      ],
      "metadata": {
        "colab": {
          "base_uri": "https://localhost:8080/"
        },
        "id": "0UL0TmJe0Lnx",
        "outputId": "169bfb3a-22ee-45e2-b96c-cd27ffb5d422"
      },
      "execution_count": null,
      "outputs": [
        {
          "output_type": "stream",
          "name": "stdout",
          "text": [
            "[0, 1, 3, 4, 5, 6]\n"
          ]
        }
      ]
    },
    {
      "cell_type": "code",
      "source": [
        "# 방법 2 pop은 인덱스 값을 넣어주는 것!\n",
        "list1 = [0,1,2,3,4,5,6]\n",
        "list1.pop(2)\n",
        "print(list1)"
      ],
      "metadata": {
        "colab": {
          "base_uri": "https://localhost:8080/"
        },
        "id": "M8LUaWqI9niw",
        "outputId": "904f5c37-ea74-492f-af45-a3a2f8897e27"
      },
      "execution_count": null,
      "outputs": [
        {
          "output_type": "stream",
          "name": "stdout",
          "text": [
            "[0, 1, 3, 4, 5, 6]\n"
          ]
        }
      ]
    },
    {
      "cell_type": "code",
      "source": [
        "# 리스트 컴프리헨션을 사용\n",
        "list1 = [0, 1, 2, 3, 4, 5, 6]\n",
        "list1 = [x for x in list1 if x != 2]\n",
        "print(list1)"
      ],
      "metadata": {
        "id": "y-7qalib-OZA"
      },
      "execution_count": null,
      "outputs": []
    },
    {
      "cell_type": "code",
      "source": [
        "# del은 키워드 이다.\n",
        "list1 = [0,1,2,3,4,5,6]\n",
        "del list1[2]\n",
        "print(list1)"
      ],
      "metadata": {
        "colab": {
          "base_uri": "https://localhost:8080/"
        },
        "id": "N5wSeCHf9Xwh",
        "outputId": "3aa507d6-9e12-4b20-9485-6612d6e9c563"
      },
      "execution_count": null,
      "outputs": [
        {
          "output_type": "stream",
          "name": "stdout",
          "text": [
            "[0, 1, 3, 4, 5, 6]\n"
          ]
        }
      ]
    },
    {
      "cell_type": "markdown",
      "source": [
        "Task7_0507. 내장함수를 이용하여 동일한 개수로 이루어진 자료형을 화살표 좌측에서 우측으로 변환하세요.\n",
        "\n",
        "[1,2,3],[4,5,6] -> [(1,4),(2,5),(3,6)]\\\n",
        "[1,2,3],[4,5,6],[7,8,9] -> [(1,4,7),(2,5,8),(3,6,9)]\\\n",
        "('abc','def') -> [('a','d'),('b','e'),('c','f')]"
      ],
      "metadata": {
        "id": "AYvC2WT90lVr"
      }
    },
    {
      "cell_type": "code",
      "source": [
        "# 1. 각 리스트의 첫번째 항목은 첫번째에 두번째 항목은 두번째... 이런식으로 가는 튜플 리스트를 만들어야 된다.\n",
        "# 2. 이 튜플들의 값을 공통적으로 추출 할 수  있는 방법을 찾아야된다."
      ],
      "metadata": {
        "id": "lonU-ahSE54a"
      },
      "execution_count": null,
      "outputs": []
    },
    {
      "cell_type": "code",
      "source": [
        "list1 = [1,2,3],[4,5,6]\n",
        "# list2 = [1,2,3],[4,5,6],[7,8,9]\n",
        "# tp1 = ('abc','def')\n",
        "\n",
        "def i in make_list()"
      ],
      "metadata": {
        "id": "R4xt5BdD0mzY"
      },
      "execution_count": null,
      "outputs": []
    },
    {
      "cell_type": "code",
      "source": [
        "list1 = [1,2,3]\n",
        "list2 = [4,5,6]\n",
        "list3 = [7,8,9]\n",
        "tp1 = ('abc','def')\n",
        "print([i for i in zip(list1, list2)])\n",
        "print([i for i in zip(list1, list2, list3)])\n",
        "print([i for i in zip(tp1[0], tp1[1])])"
      ],
      "metadata": {
        "colab": {
          "base_uri": "https://localhost:8080/"
        },
        "id": "EnJTGVIcBZy6",
        "outputId": "f7e5c18b-1c9d-4f00-e333-7a2b6390d840"
      },
      "execution_count": null,
      "outputs": [
        {
          "output_type": "stream",
          "name": "stdout",
          "text": [
            "[(1, 4), (2, 5), (3, 6)]\n",
            "[(1, 4, 7), (2, 5, 8), (3, 6, 9)]\n",
            "[('a', 'd'), ('b', 'e'), ('c', 'f')]\n"
          ]
        }
      ]
    },
    {
      "cell_type": "markdown",
      "source": [
        "Task8_0507. url에서 호스트 도메인(news.naver.com)을 추출하여 출력하세요."
      ],
      "metadata": {
        "id": "PpYNkW532Rer"
      }
    },
    {
      "cell_type": "code",
      "source": [
        "url = 'http://news.naver.com/main/read.nhn?mode=LSD&mid=shm&sid1=105&oid=028&aid=0002334601'\n",
        "print(url.split('/')[2])"
      ],
      "metadata": {
        "id": "iM-lVf6T2RGr",
        "colab": {
          "base_uri": "https://localhost:8080/"
        },
        "outputId": "8e9879ee-bb81-4b2e-f87c-0e702bfa3318"
      },
      "execution_count": null,
      "outputs": [
        {
          "output_type": "stream",
          "name": "stdout",
          "text": [
            "news.naver.com\n"
          ]
        }
      ]
    },
    {
      "cell_type": "code",
      "source": [
        "# 출력값과 출력 형태 확인해보기\n",
        "print(range(10),type(range(10)))\n",
        "print([i for i in range(10)])\n",
        "print(type([i for i in range(10)]))"
      ],
      "metadata": {
        "colab": {
          "base_uri": "https://localhost:8080/"
        },
        "id": "ywC-tO2a1Ts3",
        "outputId": "c221eeb0-5ca7-4d31-a7d9-985c5fee5130"
      },
      "execution_count": null,
      "outputs": [
        {
          "output_type": "stream",
          "name": "stdout",
          "text": [
            "range(0, 10) <class 'range'>\n",
            "[0, 1, 2, 3, 4, 5, 6, 7, 8, 9]\n",
            "<class 'list'>\n"
          ]
        }
      ]
    },
    {
      "cell_type": "code",
      "source": [
        "print(list(range(10)))\n",
        "print(type((list(range(10)))))"
      ],
      "metadata": {
        "colab": {
          "base_uri": "https://localhost:8080/"
        },
        "id": "jSMugtXs1-xj",
        "outputId": "9956c598-dadf-4a8b-b188-86397f9928cd"
      },
      "execution_count": null,
      "outputs": [
        {
          "output_type": "stream",
          "name": "stdout",
          "text": [
            "[0, 1, 2, 3, 4, 5, 6, 7, 8, 9]\n",
            "<class 'list'>\n"
          ]
        }
      ]
    },
    {
      "cell_type": "code",
      "source": [
        "# 몫과 나머지\n",
        "print(divmod(7,3))"
      ],
      "metadata": {
        "colab": {
          "base_uri": "https://localhost:8080/"
        },
        "id": "_H-dzaDo14Kh",
        "outputId": "28d93e52-930d-4c66-bbfd-98552095832c"
      },
      "execution_count": null,
      "outputs": [
        {
          "output_type": "stream",
          "name": "stdout",
          "text": [
            "(2, 1)\n"
          ]
        }
      ]
    },
    {
      "cell_type": "code",
      "source": [
        "# Q. 150분을 시간과 분으로 변환해서 출력하세요\n",
        "h_m = divmod(150,60)\n",
        "print(f'{h_m[0]}시간 {h_m[1]}분')"
      ],
      "metadata": {
        "colab": {
          "base_uri": "https://localhost:8080/"
        },
        "id": "NGoB6Ent28kP",
        "outputId": "96d03e83-97da-47dc-ea74-42a90d6dadca"
      },
      "execution_count": null,
      "outputs": [
        {
          "output_type": "stream",
          "name": "stdout",
          "text": [
            "2시간 30분\n"
          ]
        }
      ]
    },
    {
      "cell_type": "code",
      "source": [
        "def covert_time(minutes):\n",
        "    hours, minutes = divmod(minutes, 60)\n",
        "    return hours, minutes\n",
        "\n",
        "# minutes = 150\n",
        "input_minutes = int(input(\"시간으로 변환시키고 싶은 분을 입력하세요: \"))\n",
        "hours, minutes = covert_time(input_minutes)\n",
        "print(f'{input_minutes}분은 {hours}시간 {minutes}분 입니다')"
      ],
      "metadata": {
        "colab": {
          "base_uri": "https://localhost:8080/"
        },
        "id": "Sed6Muun3fkQ",
        "outputId": "866befc3-a3c0-4640-9805-c5e3cf59f4aa"
      },
      "execution_count": null,
      "outputs": [
        {
          "output_type": "stream",
          "name": "stdout",
          "text": [
            "시간으로 변환시키고 싶은 분을 입력하세요: 150\n",
            "150분은 2시간 30분 입니다\n"
          ]
        }
      ]
    },
    {
      "cell_type": "code",
      "source": [
        "# Q. url에서 쿼리문을 추출하여 출력하세요\n",
        "# url에서 '?'뒤 표시되는 문자열을 쿼리 문자열이라고 하며, 변수=값 사이 &로 구분이 되어 나열된다.\n",
        "url = 'http://news.naver.com/main/read.nhn?mode=LSD&mid=shm&sid1=105&oid=028&aid=0002334601'\n",
        "\n",
        "tmp1 = url.split('/') # /로 나눈다\n",
        "tmp2 = tmp1[-1].split('?') # /로 나눈것 중에 젤 뒤에값\n",
        "result = tmp2[-1].split('&') # &로 변수 값으로 나눔\n",
        "\n",
        "print(result)\n",
        "print(\"\")\n",
        "\n",
        "for i in result:\n",
        "    print(i)"
      ],
      "metadata": {
        "colab": {
          "base_uri": "https://localhost:8080/"
        },
        "id": "LO0r8Pro5Pkw",
        "outputId": "788fc61e-127c-4cac-abbe-cf55610283b1"
      },
      "execution_count": null,
      "outputs": [
        {
          "output_type": "stream",
          "name": "stdout",
          "text": [
            "['mode=LSD', 'mid=shm', 'sid1=105', 'oid=028', 'aid=0002334601']\n",
            "mode=LSD\n",
            "mid=shm\n",
            "sid1=105\n",
            "oid=028\n",
            "aid=0002334601\n"
          ]
        }
      ]
    },
    {
      "cell_type": "code",
      "source": [
        "# Q List안의 단어가 있으면 해당 제목을 출력\n",
        "x = input('제목을 입력해 주세요: ')\n",
        "tlist = ['Hello Word!', 'Nice Day', 'HappyBin', 'enDing_story']\n",
        "n_tlist = []\n",
        "\n",
        "x = x.lower()\n",
        "for i in range(len(tlist)):\n",
        "    n_tlist.append(tlist[i].lower())  # 새로운리스트에다가 원래 리스트의 인덱스 값을 넣어줌.\n",
        "    if x in n_tlist[i]:               # x가 인덱스 값에 입력된 n_tlist에 in 해 있는가?를 물어봄 = 을 쓰게되면 단어 전체를 입력해줘서 같은 값을 찾게 됨.\n",
        "        print(tlist[i])\n"
      ],
      "metadata": {
        "colab": {
          "base_uri": "https://localhost:8080/"
        },
        "id": "MAyzzOW78rLq",
        "outputId": "55f02c2e-78d9-4689-9cbd-14d38cfc0a90"
      },
      "execution_count": null,
      "outputs": [
        {
          "output_type": "stream",
          "name": "stdout",
          "text": [
            "제목을 입력해 주세요: d\n",
            "Hello Word!\n",
            "Nice Day\n",
            "enDing_story\n"
          ]
        }
      ]
    },
    {
      "cell_type": "code",
      "source": [
        "# Q. 영어 이름을 적으면 앞에 글자를 대문자로 바꾸어 주는 프로그램\n",
        "# (단, 중간에 한칸씩 띄어주어야 함 ex)hong gil dong)\n",
        "wiyname = input('이름을 영어로 입력하세요 : ')\n",
        "txt = wiyname.title()\n",
        "print(f\"당신의 영어 이름의 첫글자를 대문자로 바꾸면 {txt} 입니다.\")"
      ],
      "metadata": {
        "colab": {
          "base_uri": "https://localhost:8080/"
        },
        "id": "LR4tE4fhCKgP",
        "outputId": "3f8061aa-476d-4dd0-d41e-e23f02e18079"
      },
      "execution_count": null,
      "outputs": [
        {
          "output_type": "stream",
          "name": "stdout",
          "text": [
            "이름을 영어로 입력하세요 : yoon hyo jun\n",
            "당신의 영어 이름의 첫글자를 대문자로 바꾸면 Yoon Hyo Jun 입니다.\n"
          ]
        }
      ]
    },
    {
      "cell_type": "markdown",
      "source": [
        "Task1_0508. title() 함수를 사용하지 않고 동일한 결과를 출력하세요."
      ],
      "metadata": {
        "id": "7dEi29clC1Xu"
      }
    },
    {
      "cell_type": "code",
      "source": [
        "wiyname = input('이름을 영어로 입력하세요 : ')\n",
        "title_name = []\n",
        "for i in wiyname.split():\n",
        "    i = i[0].upper() + i[1:]\n",
        "    title_name.append(i)\n",
        "\n",
        "print(f\"당신의 영어 이름의 첫글자를 대문자로 바꾸면 {' '.join(title_name)} 입니다\")"
      ],
      "metadata": {
        "colab": {
          "base_uri": "https://localhost:8080/"
        },
        "id": "R_ndCuaODsy5",
        "outputId": "ac509225-2492-474f-e29d-9047ba6900ba"
      },
      "execution_count": null,
      "outputs": [
        {
          "output_type": "stream",
          "name": "stdout",
          "text": [
            "이름을 영어로 입력하세요 : shi hdy skg\n",
            "당신의 영어 이름의 첫글자를 대문자로 바꾸면 Shi Hdy Skg 입니다\n"
          ]
        }
      ]
    },
    {
      "cell_type": "code",
      "source": [
        "# 리스트 컴프리핸션 연습\n",
        "wiyname = input('이름을 영어로 입력하세요 : ')\n",
        "title_name = [i[0].upper() + i[1:] for i in wiyname.split()]\n",
        "print(f\"당신의 영어 이름의 첫 글자를 대문자로 바꾸면 {' '.join(title_name)}입니다.\")"
      ],
      "metadata": {
        "id": "UPGvSbq8ni3U"
      },
      "execution_count": null,
      "outputs": []
    },
    {
      "cell_type": "code",
      "source": [
        "name = 'shi hdy skg'\n",
        "print(name.split())"
      ],
      "metadata": {
        "colab": {
          "base_uri": "https://localhost:8080/"
        },
        "id": "zcEpzqk9JK_v",
        "outputId": "90482fc9-b2aa-4873-b6d1-72d06435b106"
      },
      "execution_count": null,
      "outputs": [
        {
          "output_type": "stream",
          "name": "stdout",
          "text": [
            "['shi', 'hdy', 'skg']\n"
          ]
        }
      ]
    },
    {
      "cell_type": "code",
      "source": [
        "# 문자열에서 좌우 공백 제거\n",
        "txt = '   양쪽에 공백이 있는 문자열 입니다.   '\n",
        "ret1 = txt.lstrip()\n",
        "ret2 = txt.rstrip()\n",
        "ret3 = txt.strip()\n",
        "print('<'+ret1+'>')\n",
        "print('<'+ret2+'>')\n",
        "print('<'+ret3+'>')"
      ],
      "metadata": {
        "colab": {
          "base_uri": "https://localhost:8080/"
        },
        "id": "KoQdg6kgDMHs",
        "outputId": "acd4e050-9bf9-407a-d813-737625858109"
      },
      "execution_count": null,
      "outputs": [
        {
          "output_type": "stream",
          "name": "stdout",
          "text": [
            "<양쪽에 공백이 있는 문자열 입니다.   >\n",
            "<   양쪽에 공백이 있는 문자열 입니다.>\n",
            "<양쪽에 공백이 있는 문자열 입니다.>\n"
          ]
        }
      ]
    },
    {
      "cell_type": "code",
      "source": [
        "# t = lstrip('     aaa    ')\n",
        "# print(t)"
      ],
      "metadata": {
        "id": "OGNRkCbUD9oX"
      },
      "execution_count": null,
      "outputs": []
    },
    {
      "cell_type": "code",
      "source": [
        "# join : 특정 문자로 결합\n",
        "loglist = ['2016/08/26 10:12:11', '200', 'OK', '이 또한 지나가리라']\n",
        "bond = ';'\n",
        "log = bond.join(loglist)\n",
        "# log = ';'.join(loglist) # 꼭 변수 지정하지 않아도 됨.\n",
        "print(log)"
      ],
      "metadata": {
        "colab": {
          "base_uri": "https://localhost:8080/"
        },
        "id": "PggIVixSELg8",
        "outputId": "2d63e28c-ba0c-42b6-e996-27005f865a3a"
      },
      "execution_count": null,
      "outputs": [
        {
          "output_type": "stream",
          "name": "stdout",
          "text": [
            "2016/08/26 10:12:11;200;OK;이 또한 지나가리라\n"
          ]
        }
      ]
    },
    {
      "cell_type": "code",
      "source": [
        "# replace : 특정 문자열을 다른 문자(열)로 바꾸기\n",
        "txt = 'my password is 1234'\n",
        "ret1 = txt.replace('1', '0')\n",
        "ret2 = txt.replace('1', 'python')\n",
        "print(ret1)\n",
        "print(ret2)\n",
        "\n",
        "txt = '매일 많은 일들이 일어납니다.'\n",
        "ret3 = txt.replace(\"많은 일들이\", \"아침 일찍\")\n",
        "print(ret3)"
      ],
      "metadata": {
        "colab": {
          "base_uri": "https://localhost:8080/"
        },
        "id": "mz2O2na5FE4l",
        "outputId": "02b499e9-31a1-4787-d738-c8cb60fc4f52"
      },
      "execution_count": null,
      "outputs": [
        {
          "output_type": "stream",
          "name": "stdout",
          "text": [
            "my password is 0234\n",
            "my password is python234\n",
            "매일 아침 일찍 일어납니다.\n"
          ]
        }
      ]
    },
    {
      "cell_type": "code",
      "source": [
        "# Q. 입력된 문장에서 'bad'를 'good으로 교체해서 출력하세요. (입력예시 : This is a bad example)\n",
        "\n",
        "setence = input(\"문장을 입력하세요: \")\n",
        "print(setence.replace('bad', 'good'))"
      ],
      "metadata": {
        "colab": {
          "base_uri": "https://localhost:8080/"
        },
        "id": "CLU9YvLWGTpu",
        "outputId": "35494516-85f4-4ef1-cdbe-69621ad53d22"
      },
      "execution_count": null,
      "outputs": [
        {
          "output_type": "stream",
          "name": "stdout",
          "text": [
            "문장을 입력하세요: This is a bad example\n",
            "This is a good example\n"
          ]
        }
      ]
    },
    {
      "cell_type": "markdown",
      "source": [
        "Task2_0507. join 함수를 이용해서 ['a','b','c']을 아래와 같이 출력하세요.\n",
        "\n",
        "a::b::c"
      ],
      "metadata": {
        "id": "_TBddXcRJ1wT"
      }
    },
    {
      "cell_type": "code",
      "source": [
        "li1 =  ['a','b','c']\n",
        "print(\"::\".join(li1))"
      ],
      "metadata": {
        "colab": {
          "base_uri": "https://localhost:8080/"
        },
        "id": "9pvX_kVLAwrr",
        "outputId": "bb5411b6-0388-4786-feb1-833f6c96db46"
      },
      "execution_count": null,
      "outputs": [
        {
          "output_type": "stream",
          "name": "stdout",
          "text": [
            "a::b::c\n"
          ]
        }
      ]
    },
    {
      "cell_type": "code",
      "source": [
        "# 코드값에 대응하는 문자 얻기\n",
        "val = int(input('문자 코드값을 입력하세요: '))\n",
        "ch = chr(val)\n",
        "print('코드값: %d 문자: %s' %(val,ch))"
      ],
      "metadata": {
        "colab": {
          "base_uri": "https://localhost:8080/"
        },
        "id": "piSqi8tuJzyp",
        "outputId": "fa626938-11bd-424b-8079-955494e54ba3"
      },
      "execution_count": null,
      "outputs": [
        {
          "output_type": "stream",
          "name": "stdout",
          "text": [
            "문자 코드값을 입력하세요: 5\n",
            "코드값: 5 문자: \u0005\n"
          ]
        }
      ]
    },
    {
      "cell_type": "code",
      "source": [
        "while True:\n",
        "    val = int(input('문자 코드값을 입력하세요(0을 입력하면 종료됩니다.): '))\n",
        "    ch = chr(val)\n",
        "    if val == 0:\n",
        "        print('프로그램을 종료합니다.')\n",
        "        break\n",
        "    print('코드값: %d 문자: %s' %(val,ch))\n",
        "\n",
        "    # val2 = chr(val)\n",
        "    # print(f'코드값: {val}, 문자: {val2}')"
      ],
      "metadata": {
        "colab": {
          "base_uri": "https://localhost:8080/"
        },
        "id": "hbL49hFQKZaH",
        "outputId": "f048c85f-100a-4bc6-9ea2-517a53acea7e"
      },
      "execution_count": null,
      "outputs": [
        {
          "output_type": "stream",
          "name": "stdout",
          "text": [
            "문자 코드값을 입력하세요(0을 입력하면 종료됩니다.): 65\n",
            "코드값: 65 문자: A\n",
            "문자 코드값을 입력하세요(0을 입력하면 종료됩니다.): 0\n",
            "프로그램을 종료합니다.\n"
          ]
        }
      ]
    },
    {
      "cell_type": "code",
      "source": [
        "# isalpha() : 문자열이 문자인지 검사\n",
        "txt1 = 'A'\n",
        "txt2 = '안녕'\n",
        "txt3 = 'Warcraft Three'\n",
        "txt4 = '3PO'\n",
        "ret1 = txt1.isalpha()  # True\n",
        "ret2 = txt2.isalpha()  # True\n",
        "ret3 = txt3.isalpha()  # 중간에 공백이 발생\n",
        "ret4 = txt4.isalpha()  # 숫자가 있음\n",
        "print(ret1)\n",
        "print(ret2)\n",
        "print(ret3)\n",
        "print(ret4)"
      ],
      "metadata": {
        "colab": {
          "base_uri": "https://localhost:8080/"
        },
        "id": "ZdbHfN4ZLqop",
        "outputId": "24232334-65f3-46f5-8ccf-9ab44ebae1c9"
      },
      "execution_count": null,
      "outputs": [
        {
          "output_type": "stream",
          "name": "stdout",
          "text": [
            "True\n",
            "True\n",
            "False\n",
            "False\n"
          ]
        }
      ]
    },
    {
      "cell_type": "code",
      "source": [
        "# isdigit() : 문자열이 숫자인지 검사\n",
        "txt1 = '010-1234-5678'\n",
        "txt2 = 'R2D2'\n",
        "txt3 = '1212'\n",
        "ret1 = txt1.isdigit()  # 특수문자\n",
        "ret2 = txt2.isdigit()  # 문자가 있음\n",
        "ret3 = txt3.isdigit()  # True\n",
        "print(ret1)\n",
        "print(ret2)\n",
        "print(ret3)"
      ],
      "metadata": {
        "colab": {
          "base_uri": "https://localhost:8080/"
        },
        "id": "-9hVi6oSMxI6",
        "outputId": "55eb3164-7ea8-4280-d8ce-4d4c89560447"
      },
      "execution_count": null,
      "outputs": [
        {
          "output_type": "stream",
          "name": "stdout",
          "text": [
            "False\n",
            "False\n",
            "True\n"
          ]
        }
      ]
    },
    {
      "cell_type": "markdown",
      "source": [
        "Task3_0508. 다음을 수행하세요.\n",
        "- 사용자로부터 문자열을 입력받습니다.\n",
        "- 입력받은 문자열이 숫자로만 이루어져 있는지 확인합니다.\n",
        "- 만약 숫자로만 이루어져 있다면, 그 숫자를 정수로 변환하여 100을 더한 결과를 출력합니다.\n",
        "- 숫자가 아닌 문자가 포함되어 있다면, 사용자에게 숫자만 입력하라는 메시지를 출력합니다.\n",
        "- 연산이 수행이 완료될 때까지 반복하고 수행이 완료되면 break 합니다."
      ],
      "metadata": {
        "id": "ZHf3HorrOoy6"
      }
    },
    {
      "cell_type": "code",
      "source": [
        "while True:\n",
        "    txt = input(\"숫자로 이루어진 문자열을 입력해 주세요: \")\n",
        "    if txt.isdigit() == True:\n",
        "        i = int(txt) + 100\n",
        "        print(i)\n",
        "        break\n",
        "    else:\n",
        "        print(\"숫자만 입력해 주세요\")"
      ],
      "metadata": {
        "colab": {
          "base_uri": "https://localhost:8080/"
        },
        "id": "jfoqGe8BUm1B",
        "outputId": "eed32b7b-fac4-4a61-f445-795be41b0e33"
      },
      "execution_count": null,
      "outputs": [
        {
          "output_type": "stream",
          "name": "stdout",
          "text": [
            "숫자로 이루어진 문자열을 입력해 주세요: a123\n",
            "숫자만 입력해 주세요\n",
            "숫자로 이루어진 문자열을 입력해 주세요: 112\n",
            "212\n"
          ]
        }
      ]
    },
    {
      "cell_type": "code",
      "source": [
        "def sumh_int():\n",
        "    if txt.isdigit() == True:\n",
        "        i = int(txt) + 100\n",
        "        print(i)\n",
        "    else:\n",
        "        print(\"숫자만 입력해 주세요\")\n",
        "\n",
        "txt = input(\"숫자로 이루어진 문자열을 입력해 주세요: \")\n",
        "sumh_int()"
      ],
      "metadata": {
        "colab": {
          "base_uri": "https://localhost:8080/"
        },
        "id": "t9BKXWKrA2xZ",
        "outputId": "25c05ac4-647a-4689-c2bd-f2dd0c0714b7"
      },
      "execution_count": null,
      "outputs": [
        {
          "output_type": "stream",
          "name": "stdout",
          "text": [
            "숫자로 이루어진 문자열을 입력해 주세요: 12a\n",
            "숫자만 입력해 주세요\n"
          ]
        }
      ]
    },
    {
      "cell_type": "code",
      "source": [
        "# isalnum() : 문자열이 문자 또는 숫자인지 검사 : 문자열이 영어, 한글 혹은 숫자로 되어있으면 True, 아니면 False return\n",
        "txt1 = '안녕하세요?'\n",
        "txt2 = '1. Title-제목을 넣으세요'\n",
        "txt3 = '3피오R2D2'\n",
        "ret1 = txt1.isalnum()   # 특수문자 포함\n",
        "ret2 = txt2.isalnum()   # 공백 및 특수문자 포함\n",
        "ret3 = txt3.isalnum()   # True\n",
        "print(ret1)\n",
        "print(ret2)\n",
        "print(ret3)"
      ],
      "metadata": {
        "colab": {
          "base_uri": "https://localhost:8080/"
        },
        "id": "W-nvFGlZO01H",
        "outputId": "3afe7124-a53d-4f2f-80fe-87c12a47a570"
      },
      "execution_count": null,
      "outputs": [
        {
          "output_type": "stream",
          "name": "stdout",
          "text": [
            "False\n",
            "False\n",
            "False\n"
          ]
        }
      ]
    },
    {
      "cell_type": "markdown",
      "source": [
        "Task4_0508. 문자와 숫자로만 구성된 아이디만 유효한 규칙을 만들려고 한다. 아래 사항을 참조하여 프로그램을 작성하세요.\n",
        "- 사용자로부터 문자열을 입력받습니다.\n",
        "- 입력받은 문자열이 알파벳과 숫자로만 이루어져 있는지 확인합니다.\n",
        "- 만약 조건을 만족한다면 \"유효한 아이디입니다\"라고 출력합니다.\n",
        "- 그렇지 않다면, \"아이디는 알파벳과 숫자만 포함할 수 있습니다\"라고 메시지를 출력합니다."
      ],
      "metadata": {
        "id": "waS7k6EFQBOs"
      }
    },
    {
      "cell_type": "code",
      "source": [
        "def make_id(ident):\n",
        "    if ident.isalnum():\n",
        "        print(\"유효한 아이디입니다.\")\n",
        "    else:\n",
        "        print(\"아이디는 알파벳과 숫자만 포함할 수 있습니다.\")\n",
        "\n",
        "user_input = input(\"아이디를 입력하세요: \")\n",
        "make_id(user_input)"
      ],
      "metadata": {
        "id": "uUM5gRQ_A3gz",
        "colab": {
          "base_uri": "https://localhost:8080/"
        },
        "outputId": "d0dfcf66-c6b9-4ff5-c02c-850d8b6292bd"
      },
      "execution_count": null,
      "outputs": [
        {
          "output_type": "stream",
          "name": "stdout",
          "text": [
            "아이디를 입력하세요: @@123\n",
            "아이디는 알파벳과 숫자만 포함할 수 있습니다.\n"
          ]
        }
      ]
    },
    {
      "cell_type": "code",
      "source": [
        "txt = 'A lot of Things occur each day'\n",
        "ret1 = txt.upper()\n",
        "ret2 = txt.lower()\n",
        "ret3 = txt.title()        # 각 단어의 첫글자를 대문자로 변환\n",
        "ret4 = txt.capitalize()   # 문자열에 첫번째 문자를 대문자, 나머지는 소문자로 변환\n",
        "print(ret1)\n",
        "print(ret2)\n",
        "print(ret3)\n",
        "print(ret4)"
      ],
      "metadata": {
        "colab": {
          "base_uri": "https://localhost:8080/"
        },
        "id": "T2Dw5_DEQCV2",
        "outputId": "8bdd193a-534c-46b5-b72d-693b57748291"
      },
      "execution_count": null,
      "outputs": [
        {
          "output_type": "stream",
          "name": "stdout",
          "text": [
            "A LOT OF THINGS OCCUR EACH DAY\n",
            "a lot of things occur each day\n",
            "A Lot Of Things Occur Each Day\n",
            "A lot of things occur each day\n"
          ]
        }
      ]
    },
    {
      "cell_type": "code",
      "source": [
        "# Q. numbers 내부에 들어 있는 숫자가 몇 번 등장하는지를 출력하는 코드를 작성하세요\n",
        "\n",
        "numbers = [3,6,3,5,8,2,9,7,4,3,6,3,5,8,2,9,7,4]\n",
        "\n",
        "count = {}\n",
        "for k in numbers:\n",
        "    if k in count:\n",
        "        count[k] += 1\n",
        "    else:\n",
        "        count[k] = 1\n",
        "\n",
        "print(count)"
      ],
      "metadata": {
        "colab": {
          "base_uri": "https://localhost:8080/"
        },
        "id": "QC4Y6BVdRFhk",
        "outputId": "4b13c87f-66ca-482e-c3bf-d4dc6ea5760c"
      },
      "execution_count": null,
      "outputs": [
        {
          "output_type": "stream",
          "name": "stdout",
          "text": [
            "{3: 4, 6: 2, 5: 2, 8: 2, 2: 2, 9: 2, 7: 2, 4: 2}\n"
          ]
        }
      ]
    },
    {
      "cell_type": "code",
      "source": [
        "# 비슷한 예제\n",
        "letters = ['a', 'b', 'c', 'a', 'b', 'c', 'a', 'b', 'c', 'd', 'e', 'f', 'g', 'h', 'i', 'j', 'k', 'l', 'm', 'n']\n",
        "\n",
        "count = {}\n",
        "for i in letters:\n",
        "    if i in count:\n",
        "        count[i] += 1\n",
        "    else:\n",
        "        count[i] = 1\n",
        "\n",
        "print(count)"
      ],
      "metadata": {
        "colab": {
          "base_uri": "https://localhost:8080/"
        },
        "id": "oGjaf59KTPZ9",
        "outputId": "4dff1528-fec5-4c8a-92b8-1fc7f9f1847a"
      },
      "execution_count": null,
      "outputs": [
        {
          "output_type": "stream",
          "name": "stdout",
          "text": [
            "{'a': 3, 'b': 3, 'c': 3, 'd': 1, 'e': 1, 'f': 1, 'g': 1, 'h': 1, 'i': 1, 'j': 1, 'k': 1, 'l': 1, 'm': 1, 'n': 1}\n"
          ]
        }
      ]
    },
    {
      "cell_type": "markdown",
      "source": [
        "Task5_0508. 코딩을 한줄로 작성해서 동일한 결과를 출력하세요."
      ],
      "metadata": {
        "id": "IzAN_flASnNV"
      }
    },
    {
      "cell_type": "code",
      "source": [
        "list = []\n",
        "for i in range(0,20,2):\n",
        "    list.append(i*i)\n",
        "print(list)\n",
        "\n",
        "n_list = [i*i for i in range(0,20,2)]\n",
        "print(n_list)"
      ],
      "metadata": {
        "colab": {
          "base_uri": "https://localhost:8080/"
        },
        "id": "7T8WA8dKSpf0",
        "outputId": "69520b92-d8be-4fb1-ed32-88c39b83f7db"
      },
      "execution_count": null,
      "outputs": [
        {
          "output_type": "stream",
          "name": "stdout",
          "text": [
            "[0, 4, 16, 36, 64, 100, 144, 196, 256, 324]\n",
            "[0, 4, 16, 36, 64, 100, 144, 196, 256, 324]\n"
          ]
        }
      ]
    },
    {
      "cell_type": "code",
      "source": [
        "# list a의 모든 원소를 실수형으로 바꾸어 출력하세요\n",
        "# map(원하는 형태의 값, list or tuple) 이런식으로 사용가능\n",
        "a = [1,2,3,4,5]\n",
        "a_float = list(map(float,a))\n",
        "\n",
        "print(a_float)"
      ],
      "metadata": {
        "colab": {
          "base_uri": "https://localhost:8080/"
        },
        "id": "rtwZV-zOlpz3",
        "outputId": "9385ca00-73c7-4866-8750-5525aef18aa8"
      },
      "execution_count": null,
      "outputs": [
        {
          "output_type": "stream",
          "name": "stdout",
          "text": [
            "[1.0, 2.0, 3.0, 4.0, 5.0]\n"
          ]
        }
      ]
    },
    {
      "cell_type": "code",
      "source": [
        "# Q. 데이터를 입력하지 않으면 종료되는 코딩을 수행하세요. 단 반복적으로 작업을 수행할 수 있음.\n",
        "\n",
        "while 1:\n",
        "    a = input(\"데이터 입력 : \")\n",
        "    if a == ' ':\n",
        "        break\n",
        "    else:\n",
        "      print(a)"
      ],
      "metadata": {
        "colab": {
          "base_uri": "https://localhost:8080/"
        },
        "id": "pvBgg0tPmZzs",
        "outputId": "3757df48-2f12-417b-ad1f-a19373a2198d"
      },
      "execution_count": null,
      "outputs": [
        {
          "name": "stdout",
          "output_type": "stream",
          "text": [
            "데이터 입력 : 1\n",
            "1\n",
            "데이터 입력 : 0\n",
            "0\n",
            "데이터 입력 :  \n"
          ]
        }
      ]
    },
    {
      "cell_type": "code",
      "source": [
        "# 뭔가 오류가 있다.\n",
        "while 1:\n",
        "    data = input()\n",
        "    if not data: break\n",
        "    print(data)"
      ],
      "metadata": {
        "id": "OjCSkErfnGZl"
      },
      "execution_count": null,
      "outputs": []
    },
    {
      "cell_type": "markdown",
      "source": [
        "[ 날짜 함수 ]\n",
        "\n",
        "날짜와 시간을 처리하기 위한 주요 라이브러리는 datetime입니다. 이 라이브러리는 날짜, 시간, 시간대와 관련된 다양한 클래스와 함수를 제공하며, 날짜와 시간 연산에 매우 유용\n",
        "- datetime.date: 날짜(연, 월, 일)를 표현하는 클래스\n",
        "    - today(): 오늘의 날짜를 반환\n",
        "- datetime.time: 시간(시, 분, 초, 마이크로초)을 표현하는 클래스\n",
        "- datetime.datetime: 날짜와 시간을 모두 포함하는 클래스\n",
        "    - now(): 현재의 날짜와 시간을 반환\n",
        "- datetime.timedelta: 두 날짜/시간 간의 차이를 표현하는 클래스\n",
        "- datetime.tzinfo: 시간대 정보를 위한 기본 클래스\n",
        "\n",
        "datetime 모듈의 날짜와 시간 객체들을 문자열 형식으로 포맷팅하거나 문자열로부터 날짜와 시간 객체를 생성하기 위해 사용하는 주요 메서드는 strftime()와 strptime()\n",
        "- strftime() (String Format Time)\n",
        "    - 날짜와 시간 객체를 문자열로 변환하는 데 사용\n",
        "    - 사용자가 지정한 형식 문자열을 기반으로 날짜와 시간 정보를 문자열로 표현\n",
        "- strptime() (String Parse Time)\n",
        "    - 문자열을 날짜와 시간 객체로 변환하는 데 사용\n",
        "    - 주어진 형식 문자열을 기반으로 문자열에서 날짜와 시간 정보를 파싱"
      ],
      "metadata": {
        "id": "jfex-pF8niSr"
      }
    },
    {
      "cell_type": "code",
      "source": [
        "import datetime\n",
        "\n",
        "# 현재 날짜와 시간 가져오기\n",
        "now = datetime.datetime.now()\n",
        "print(now)    # ex) 2024-05-08 05:22:03.566057\n",
        "# 오늘의 날짜만 가져오기\n",
        "today = datetime.date.today()\n",
        "print(today)  # ex) 2024-05-08\n",
        "# 특정 날짜와 시간을 직접 지정\n",
        "d = datetime.datetime(2023, 11, 2, 14, 29, 45)\n",
        "print(d)\n",
        "# 날짜 간의 차이 계산\n",
        "delta = datetime.timedelta(days=7)    # 7일의 기간\n",
        "new_date = today + delta\n",
        "print(new_date)                       # 오늘부터 7일 후의 날짜\n",
        "# 두 날짜간의 차이 계산.\n",
        "date1 = datetime.date(2023, 1, 1)\n",
        "date2 = datetime.date(2023, 12, 31)\n",
        "diff = date2 - date1\n",
        "print(diff.days) # 출력 : 364"
      ],
      "metadata": {
        "colab": {
          "base_uri": "https://localhost:8080/"
        },
        "id": "5UOGjsLVoLDl",
        "outputId": "0d1143ad-88ca-4fe8-d18c-271e384457e8"
      },
      "execution_count": null,
      "outputs": [
        {
          "output_type": "stream",
          "name": "stdout",
          "text": [
            "2024-05-08 06:19:09.163858\n",
            "2024-05-08\n",
            "2023-11-02 14:29:45\n",
            "2024-05-15\n",
            "364\n"
          ]
        }
      ]
    },
    {
      "cell_type": "markdown",
      "source": [
        "포맷 코드 표<BR>\n",
        "포맷코드   설명   예<BR>\n",
        "%a   요일 줄임말   Sun, Mon, ... Sat<BR>\n",
        "%A   요일   Sunday, Monday, ..., Saturday<BR>\n",
        "%w   요일을 숫자로 표시, 월요일일요일, 06   0, 1, ..., 6<BR>\n",
        "%d   일   01, 02, ..., 31<BR>\n",
        "%b   월 줄임말   Jan, Feb, ..., Dec<BR>\n",
        "%B   월   January, February, …, December<BR>\n",
        "%m   숫자 월   01, 02, ..., 12<BR>\n",
        "%y   두 자릿수 연도   01, 02, ..., 99<BR>\n",
        "%Y   네 자릿수 연도   0001, 0002, ..., 2017, 2018, 9999<BR>\n",
        "%H   시간(24시간)   00, 01, ..., 23<BR>\n",
        "%I   시간(12시간)   01, 02, ..., 12<BR>\n",
        "%p   AM, PM   AM, PM<BR>\n",
        "%M   분   00, 01, ..., 59<BR>\n",
        "%S   초   00, 01, ..., 59<BR>\n",
        "%Z   시간대   대한민국 표준시<BR>\n",
        "%j   1월 1일부터 경과한 일수   001, 002, ..., 366<BR>\n",
        "%U   1년중 주차, 월요일이 한 주의 시작으로   00, 01, ..., 53<BR>\n",
        "%W   1년중 주차, 월요일이 한 주의 시작으로   00, 01, ..., 53<BR>\n",
        "%c   날짜, 요일, 시간을 출력, 현재 시간대 기준   Sat May 19 11:14:27 2018<BR>\n",
        "%x   날짜를 출력, 현재 시간대 기준   05/19/18<BR>\n",
        "%X   시간을 출력, 현재 시간대 기준   '11:44:22'"
      ],
      "metadata": {
        "id": "ykGo8_EosKez"
      }
    },
    {
      "cell_type": "code",
      "source": [
        "import datetime\n",
        "\n",
        "now = datetime.datetime.now()\n",
        "print(now,type(now))\n",
        "formatted = now.strftime(\"%Y-%m-%d %H:%M:%S\")\n",
        "print(formatted,type(formatted))"
      ],
      "metadata": {
        "colab": {
          "base_uri": "https://localhost:8080/"
        },
        "id": "aiFbTurLrlBd",
        "outputId": "d14eeb18-c05a-4842-93df-27cfc88d1c32"
      },
      "execution_count": null,
      "outputs": [
        {
          "output_type": "stream",
          "name": "stdout",
          "text": [
            "2024-05-08 05:36:49.202012 <class 'datetime.datetime'>\n",
            "2024-05-08 05:36:49 <class 'str'>\n"
          ]
        }
      ]
    },
    {
      "cell_type": "code",
      "source": [
        "import datetime\n",
        "\n",
        "date_string = \"2023-11-02 14:45:30\"\n",
        "print(date_string,type(date_string))\n",
        "dt = datetime.datetime.strptime(date_string, \"%Y-%m-%d %H:%M:%S\")\n",
        "print(dt, type(dt))"
      ],
      "metadata": {
        "colab": {
          "base_uri": "https://localhost:8080/"
        },
        "id": "lJO3p_uytOpF",
        "outputId": "1d295d42-54b7-48bc-c4d4-b6b4f5f834dd"
      },
      "execution_count": null,
      "outputs": [
        {
          "output_type": "stream",
          "name": "stdout",
          "text": [
            "2023-11-02 14:45:30 <class 'str'>\n",
            "2023-11-02 14:45:30 <class 'datetime.datetime'>\n"
          ]
        }
      ]
    },
    {
      "cell_type": "markdown",
      "source": [
        "time 모듈\n",
        "- 시스템 시간에 접근하거나 간단한 타이머 기능을 구현\n",
        "- 함수와 같이 프로그램을 일정 시간 동안 중지시키는 데 사용\n",
        "- 시간을 연도, 월, 일, 시, 분, 초 등의 구성 요소로 변환하고 다룰 수 있는 struct_time 객체를 제공\n",
        "- time 모듈은 날짜와 시간을 처리하는 다양한 프로그래밍 요구에 대응할 수 있는 기본적인 기능을 제공하지만, 더 복잡한 날짜 시간 처리나 시간대 변환 등은 datetime 모듈 또는 외부 라이브러리를 사용"
      ],
      "metadata": {
        "id": "tCd7jGsBuPnN"
      }
    },
    {
      "cell_type": "code",
      "source": [
        "# localtime() 함수는 파이썬의 time 모듈에 포함되어 있으며, 이 함수는 초로 표시되는 시간을 구조화된 시간 튜플 형태\n",
        "import time\n",
        "local_time = time.localtime()\n",
        "print(local_time)"
      ],
      "metadata": {
        "colab": {
          "base_uri": "https://localhost:8080/"
        },
        "id": "-WZpIuVbuQKl",
        "outputId": "42856a48-e500-4b43-ac6b-bd6929ed6bf0"
      },
      "execution_count": null,
      "outputs": [
        {
          "output_type": "stream",
          "name": "stdout",
          "text": [
            "time.struct_time(tm_year=2024, tm_mon=5, tm_mday=8, tm_hour=5, tm_min=44, tm_sec=52, tm_wday=2, tm_yday=129, tm_isdst=0)\n"
          ]
        }
      ]
    },
    {
      "cell_type": "code",
      "source": [
        "# 현재 시간을 1970년 1월 1일 0시 0분 0초 (유닉스 시간의 시작)부터 현재까지의 초(second)로 표현한 값을 반환\n",
        "import time\n",
        "time.time()"
      ],
      "metadata": {
        "colab": {
          "base_uri": "https://localhost:8080/"
        },
        "id": "r0M-GhIsvXew",
        "outputId": "f25a8ad3-9813-47f3-f4fd-16b415a87c6c"
      },
      "execution_count": null,
      "outputs": [
        {
          "output_type": "execute_result",
          "data": {
            "text/plain": [
              "1715147272.8408165"
            ]
          },
          "metadata": {},
          "execution_count": 32
        }
      ]
    },
    {
      "cell_type": "code",
      "source": [
        "# 초로 표현된 시간을 구조화된 시간 튜플 형태로 변환\n",
        "t = time.time()\n",
        "time.localtime(t)"
      ],
      "metadata": {
        "colab": {
          "base_uri": "https://localhost:8080/"
        },
        "id": "uxa4wcp5v5zx",
        "outputId": "243cfdc1-c99a-496c-d19d-f19260c08b33"
      },
      "execution_count": null,
      "outputs": [
        {
          "output_type": "execute_result",
          "data": {
            "text/plain": [
              "time.struct_time(tm_year=2024, tm_mon=5, tm_mday=8, tm_hour=6, tm_min=2, tm_sec=48, tm_wday=2, tm_yday=129, tm_isdst=0)"
            ]
          },
          "metadata": {},
          "execution_count": 35
        }
      ]
    },
    {
      "cell_type": "code",
      "source": [
        "# strftime 함수는 시간에 관계된 것을 세밀하게 표현할 수 있는 여러 가지 포멧 코드 제공\n",
        "# time.localtime() 함수는 초로 표현된 시간을 구조화된 시간 튜플 형태로 변환\n",
        "import time\n",
        "d = time.strftime('%d', time.localtime(time.time()))\n",
        "m = time.strftime('%m', time.localtime(time.time()))\n",
        "y = time.strftime('%Y', time.localtime(time.time()))\n",
        "a = time.strftime('%A', time.localtime(time.time())) # 요일\n",
        "print(d)\n",
        "print(m)\n",
        "print(y)\n",
        "print(a)"
      ],
      "metadata": {
        "colab": {
          "base_uri": "https://localhost:8080/"
        },
        "id": "oy7sAXjgyxSZ",
        "outputId": "3a6d8e2d-cb90-47db-9601-59ed20084b6b"
      },
      "execution_count": null,
      "outputs": [
        {
          "output_type": "stream",
          "name": "stdout",
          "text": [
            "08\n",
            "05\n",
            "2024\n",
            "Wednesday\n"
          ]
        }
      ]
    },
    {
      "cell_type": "code",
      "source": [
        "# Q. 1609160537.371015을 \"Sat Jun 26 08:35:03 2201\" 포멧으로 출력하세요\n",
        "import time\n",
        "\n",
        "t = time.localtime(1609160537.371015)\n",
        "print(t)\n",
        "local_time = time.strftime(\"%a %b %d %H:%M:%S %Y\", t)\n",
        "print(local_time)"
      ],
      "metadata": {
        "colab": {
          "base_uri": "https://localhost:8080/"
        },
        "id": "M7PVjuw70Am5",
        "outputId": "1060f404-158b-4481-8725-9257b3ec440a"
      },
      "execution_count": null,
      "outputs": [
        {
          "output_type": "stream",
          "name": "stdout",
          "text": [
            "time.struct_time(tm_year=2020, tm_mon=12, tm_mday=28, tm_hour=13, tm_min=2, tm_sec=17, tm_wday=0, tm_yday=363, tm_isdst=0)\n",
            "Mon Dec 28 13:02:17 2020\n"
          ]
        }
      ]
    },
    {
      "cell_type": "code",
      "source": [
        "# \"%a %b %d %H:%M:%S %Y -> asctime 형태이다.\n",
        "import time\n",
        "current_time = time.localtime(1609160537.371015)\n",
        "print(current_time)\n",
        "# struct_time 객체를 인간이 읽을 수 있는 형태로 변환합니다.\n",
        "readable_time = time.asctime(current_time)\n",
        "print(readable_time)"
      ],
      "metadata": {
        "colab": {
          "base_uri": "https://localhost:8080/"
        },
        "id": "Xb0OgLug1eFn",
        "outputId": "ed6eaa10-c554-4312-8141-d0808757a9cc"
      },
      "execution_count": null,
      "outputs": [
        {
          "output_type": "stream",
          "name": "stdout",
          "text": [
            "time.struct_time(tm_year=2020, tm_mon=12, tm_mday=28, tm_hour=13, tm_min=2, tm_sec=17, tm_wday=0, tm_yday=363, tm_isdst=0)\n",
            "Mon Dec 28 13:02:17 2020\n"
          ]
        }
      ]
    },
    {
      "cell_type": "code",
      "source": [
        "# timestamp -> str\n",
        "import time\n",
        "t = time.time()\n",
        "print(t, type(t))\n",
        "s = str(t)\n",
        "print(s, type(s))"
      ],
      "metadata": {
        "colab": {
          "base_uri": "https://localhost:8080/"
        },
        "id": "4lYhYCTs21qL",
        "outputId": "393a45f8-a016-4214-a12c-7cdcbd54c8f8"
      },
      "execution_count": null,
      "outputs": [
        {
          "output_type": "stream",
          "name": "stdout",
          "text": [
            "1715149233.0728078 <class 'float'>\n",
            "1715149233.0728078 <class 'str'>\n"
          ]
        }
      ]
    },
    {
      "cell_type": "code",
      "source": [
        "# timestamp -> datetime\n",
        "from datetime import datetime\n",
        "t = time.time()   # -> timestamp\n",
        "print(t,type(t))\n",
        "d = datetime.fromtimestamp(t)\n",
        "print(d,type(d))"
      ],
      "metadata": {
        "colab": {
          "base_uri": "https://localhost:8080/"
        },
        "id": "lOgwFr3j3lcw",
        "outputId": "451cc307-55f2-4faa-a574-bcdbc7169f55"
      },
      "execution_count": null,
      "outputs": [
        {
          "output_type": "stream",
          "name": "stdout",
          "text": [
            "1715149474.7501628 <class 'float'>\n",
            "2024-05-08 06:24:34.750163 <class 'datetime.datetime'>\n"
          ]
        }
      ]
    },
    {
      "cell_type": "markdown",
      "source": [
        "Task6_0508. 유닉스 타임스탬프를 받아서 해당 시간을 datetime.datetime 객체로 변환하고, 그 결과를 출력하는 사용자 함수를 작성하여 임의의 타임스탬프를 입력하여 결과를 출력하세요."
      ],
      "metadata": {
        "id": "tTpbgt8q485F"
      }
    },
    {
      "cell_type": "code",
      "source": [],
      "metadata": {
        "id": "M3f-W-s649Yj",
        "colab": {
          "base_uri": "https://localhost:8080/"
        },
        "outputId": "a53bb43d-edc3-4d00-a46e-ad403ed07fa8"
      },
      "execution_count": null,
      "outputs": [
        {
          "output_type": "stream",
          "name": "stdout",
          "text": [
            "유닉스 타임스탬프를 입력하세요: 123456790\n",
            "변환된 시간: 1973-11-29 21:33:10\n"
          ]
        }
      ]
    },
    {
      "cell_type": "code",
      "source": [
        "# datetime -> str\n",
        "from datetime import datetime\n",
        "\n",
        "s = datetime.now()\n",
        "print(s,type(s))\n",
        "\n",
        "s1 = s.strftime('%Y-%m-%d %H:%M:%S')\n",
        "print(s1,type(s1))"
      ],
      "metadata": {
        "colab": {
          "base_uri": "https://localhost:8080/"
        },
        "id": "n9iTp6y65NXQ",
        "outputId": "67df8fbf-e476-492e-9c9d-eee90ac2fed4"
      },
      "execution_count": null,
      "outputs": [
        {
          "output_type": "stream",
          "name": "stdout",
          "text": [
            "2024-05-08 06:32:19.325142 <class 'datetime.datetime'>\n",
            "2024-05-08 06:32:19 <class 'str'>\n"
          ]
        }
      ]
    },
    {
      "cell_type": "markdown",
      "source": [
        "Task7_0508. datetime 객체를 문자열로 변환하는 사용자 함수를 작성하여 datetime 객체를 \"YYYY-MM-DD HH:MM:SS\" 형식의 문자열로 변환하고 출력하세요."
      ],
      "metadata": {
        "id": "gV3RAwXc6DIH"
      }
    },
    {
      "cell_type": "code",
      "source": [
        "import datetime\n",
        "\n",
        "def datetime_to_string(dt_obj):\n",
        "    try:\n",
        "        # datetime 객체를 문자열로 변환\n",
        "        str_format = \"%Y-%m-%d %H:%M:%S\"\n",
        "        dt_string = dt_obj.strftime(str_format)\n",
        "        return dt_string\n",
        "    except Exception as e:\n",
        "        print(\"올바른 datetime 객체를 입력하세요.\")\n",
        "        return None\n",
        "\n",
        "# 현재 날짜와 시간을 나타내는 datetime 객체 생성\n",
        "current_datetime = datetime.datetime.now()\n",
        "\n",
        "# 함수를 사용하여 datetime 객체를 문자열로 변환\n",
        "result_string = datetime_to_string(current_datetime)\n",
        "\n",
        "# 결과 출력\n",
        "if result_string:\n",
        "    print(\"변환된 문자열:\", result_string)"
      ],
      "metadata": {
        "id": "-h8RiRmFBCrH"
      },
      "execution_count": null,
      "outputs": []
    },
    {
      "cell_type": "code",
      "source": [
        "# timestamp -> datetime -> str\n",
        "# Q. 현재시간을 년-월-일 시:분:초로 출력하세요\n",
        "import time\n",
        "from datetime import datetime\n",
        "t = time.time()\n",
        "d = datetime.fromtimestamp(t)   # timestamp -> datetime\n",
        "s = d.strftime('%Y-%m-%d %X')   # datetime -> str %X 시간을 출력, 현재 시간대 기준 '15:38:45'\n",
        "print(s)"
      ],
      "metadata": {
        "colab": {
          "base_uri": "https://localhost:8080/"
        },
        "id": "N8Wz6e7h6DMa",
        "outputId": "854bbffc-b7b4-4bac-bd3d-1204fcab6bdf"
      },
      "execution_count": null,
      "outputs": [
        {
          "output_type": "stream",
          "name": "stdout",
          "text": [
            "2024-05-08 06:36:38\n"
          ]
        }
      ]
    },
    {
      "cell_type": "code",
      "source": [
        "# str -> datetime\n",
        "from datetime import datetime\n",
        "s = '2024-05-08 15:40:38'\n",
        "print(s,type(s))\n",
        "d = datetime.strptime(s, '%Y-%m-%d %X')\n",
        "print(d,type(d))"
      ],
      "metadata": {
        "colab": {
          "base_uri": "https://localhost:8080/"
        },
        "id": "Ku-gdnPj7YPV",
        "outputId": "9a870bd2-d2db-4f2b-8785-1531c22838e8"
      },
      "execution_count": null,
      "outputs": [
        {
          "output_type": "stream",
          "name": "stdout",
          "text": [
            "2024-05-08 15:40:38 <class 'str'>\n",
            "2024-05-08 15:40:38 <class 'datetime.datetime'>\n"
          ]
        }
      ]
    },
    {
      "cell_type": "code",
      "source": [
        "# datetime -> timestamp\n",
        "d = datetime.today()\n",
        "print(d,type(d))\n",
        "timestamp = time.mktime(d.timetuple())   # mktime에 timetuple을 적용해서 넣어준다.\n",
        "# print(d.timetuple())\n",
        "print(timestamp,type(timestamp))\n"
      ],
      "metadata": {
        "colab": {
          "base_uri": "https://localhost:8080/"
        },
        "id": "4C2_Sb3076VE",
        "outputId": "ad03eee8-0a54-4078-a26c-000904b3280f"
      },
      "execution_count": null,
      "outputs": [
        {
          "output_type": "stream",
          "name": "stdout",
          "text": [
            "2024-05-08 06:45:15.414456 <class 'datetime.datetime'>\n",
            "time.struct_time(tm_year=2024, tm_mon=5, tm_mday=8, tm_hour=6, tm_min=45, tm_sec=15, tm_wday=2, tm_yday=129, tm_isdst=-1)\n"
          ]
        }
      ]
    },
    {
      "cell_type": "code",
      "source": [
        "# str -> datetime -> timestamp\n",
        "s = '2024-05-08 15:40:38'\n",
        "timestamp = time.mktime(datetime.strptime(s,'%Y-%m-%d %X').timetuple())\n",
        "print(timestamp,type(timestamp))"
      ],
      "metadata": {
        "colab": {
          "base_uri": "https://localhost:8080/"
        },
        "id": "0D3EOW2287eq",
        "outputId": "9749ce3b-d26d-4453-cd7b-5134204d61df"
      },
      "execution_count": null,
      "outputs": [
        {
          "output_type": "stream",
          "name": "stdout",
          "text": [
            "1715182838.0 <class 'float'>\n"
          ]
        }
      ]
    },
    {
      "cell_type": "markdown",
      "source": [
        "Task8_0508. 올해 경과된 날짜수 계산하세요."
      ],
      "metadata": {
        "id": "xwFRT1JD9i-F"
      }
    },
    {
      "cell_type": "code",
      "source": [
        "# %j 1월 1일부터 경과한 일수 001, 002, ..., 366\n",
        "import datetime\n",
        "\n",
        "now = datetime.datetime.now()\n",
        "gone_days = int(now.strftime('%j'))\n",
        "print(f'올해 경과된 날짜 수: {gone_days}일')"
      ],
      "metadata": {
        "id": "G3i1DKc_9gh2",
        "colab": {
          "base_uri": "https://localhost:8080/"
        },
        "outputId": "672a7f55-2a04-4183-b81c-e5cfcea0a451"
      },
      "execution_count": null,
      "outputs": [
        {
          "output_type": "stream",
          "name": "stdout",
          "text": [
            "올해 경과된 날짜 수: 129일\n"
          ]
        }
      ]
    },
    {
      "cell_type": "markdown",
      "source": [
        "Task9_0508. 현재 요일을 \"2021-6-26 오늘은 토요일입니다.\"와 같은 형식으로 출력하세요."
      ],
      "metadata": {
        "id": "RClhxmD79kkE"
      }
    },
    {
      "cell_type": "code",
      "source": [
        "import datetime\n",
        "weekend_dick = {\n",
        "    0 : '월요일',\n",
        "    1 : '화요일',\n",
        "    2 : '수요일',\n",
        "    3 : '목요일',\n",
        "    4 : '금요일',\n",
        "    5 : '토요일',\n",
        "    6 : '일요일'\n",
        "}\n",
        "\n",
        "now_datetime = datetime.datetime.now()\n",
        "today = now_datetime.strftime('%Y-%m-%d')\n",
        "week_number = now_datetime.weekday()\n",
        "week_day = weekend_dick[week_number]\n",
        "print(f'{today} 오늘은 {week_day}입니다.')"
      ],
      "metadata": {
        "colab": {
          "base_uri": "https://localhost:8080/"
        },
        "id": "0J1Jyhsv9o_H",
        "outputId": "1060fbfc-65ad-4729-c97d-0ce10739378f"
      },
      "execution_count": null,
      "outputs": [
        {
          "output_type": "stream",
          "name": "stdout",
          "text": [
            "2024-05-08 오늘은 수요일입니다.\n"
          ]
        }
      ]
    },
    {
      "cell_type": "code",
      "source": [
        "import datetime\n",
        "\n",
        "weekday_names = ['월요일', '화요일', '수요일', '목요일', '금요일', '토요일', '일요일']\n",
        "\n",
        "now = datetime.datetime.now()\n",
        "today = now.strftime('%Y-%m-%d')\n",
        "weekday_number = now.weekday()\n",
        "\n",
        "print(f'{today} 오늘은 {weekday_names[weekday_number]}입니다.')"
      ],
      "metadata": {
        "colab": {
          "base_uri": "https://localhost:8080/"
        },
        "id": "JGmEaYV_iing",
        "outputId": "b6870425-4548-45a3-8406-e0a8c7768b1d"
      },
      "execution_count": null,
      "outputs": [
        {
          "output_type": "stream",
          "name": "stdout",
          "text": [
            "2024-05-08 오늘은 수요일입니다.\n"
          ]
        }
      ]
    },
    {
      "cell_type": "markdown",
      "source": [
        "Task10_0508. 1에서 백만까지 더하는데 걸리는 프로그램 실행 시간을 밀리초(ms) 단위로 구하세요.(1ms=0.001초)"
      ],
      "metadata": {
        "id": "GTIg91669okU"
      }
    },
    {
      "cell_type": "code",
      "source": [
        "import time\n",
        "st_time = time.time()\n",
        "\n",
        "\n",
        "\n",
        "print(f\"1 부터 100만까지 덧셈에 걸린 시간은 : {(time.time() - st_time)*1000}ms\")"
      ],
      "metadata": {
        "id": "jfMoBzq59pvT",
        "colab": {
          "base_uri": "https://localhost:8080/"
        },
        "outputId": "423d3c53-9df7-4f36-8f34-13fb8283413f"
      },
      "execution_count": 10,
      "outputs": [
        {
          "output_type": "stream",
          "name": "stdout",
          "text": [
            "1 부터 100만까지 덧셈에 걸린 시간은 : 0.10228157043457031ms\n"
          ]
        }
      ]
    },
    {
      "cell_type": "code",
      "source": [
        "time.time()"
      ],
      "metadata": {
        "colab": {
          "base_uri": "https://localhost:8080/"
        },
        "id": "tZXNG6zppuXD",
        "outputId": "727928be-0089-43d9-dc31-7b6628df8102"
      },
      "execution_count": 11,
      "outputs": [
        {
          "output_type": "execute_result",
          "data": {
            "text/plain": [
              "1715212848.7406392"
            ]
          },
          "metadata": {},
          "execution_count": 11
        }
      ]
    }
  ]
}