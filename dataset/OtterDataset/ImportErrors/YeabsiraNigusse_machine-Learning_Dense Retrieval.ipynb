{
 "cells": [
  {
   "cell_type": "markdown",
   "id": "94f84986",
   "metadata": {},
   "source": [
    "# Dense Retrieval"
   ]
  },
  {
   "cell_type": "markdown",
   "id": "33b48704",
   "metadata": {},
   "source": [
    "## Setup\n",
    "\n",
    "Load needed API keys and relevant Python libaries."
   ]
  },
  {
   "cell_type": "code",
   "execution_count": 1,
   "id": "473d8a8f",
   "metadata": {},
   "outputs": [
    {
     "name": "stdout",
     "output_type": "stream",
     "text": [
      "Requirement already satisfied: cohere in c:\\users\\nigus\\anaconda3\\lib\\site-packages (4.21)\n",
      "Requirement already satisfied: requests<3.0.0,>=2.25.0 in c:\\users\\nigus\\anaconda3\\lib\\site-packages (from cohere) (2.31.0)\n",
      "Requirement already satisfied: backoff<3.0,>=2.0 in c:\\users\\nigus\\anaconda3\\lib\\site-packages (from cohere) (2.2.1)\n",
      "Requirement already satisfied: aiohttp<4.0,>=3.0 in c:\\users\\nigus\\anaconda3\\lib\\site-packages (from cohere) (3.8.1)\n",
      "Requirement already satisfied: fastavro==1.8.2 in c:\\users\\nigus\\anaconda3\\lib\\site-packages (from cohere) (1.8.2)\n",
      "Requirement already satisfied: urllib3<3,>=1.26 in c:\\users\\nigus\\anaconda3\\lib\\site-packages (from cohere) (1.26.9)\n",
      "Requirement already satisfied: importlib_metadata<7.0,>=6.0 in c:\\users\\nigus\\anaconda3\\lib\\site-packages (from cohere) (6.8.0)\n",
      "Requirement already satisfied: async-timeout<5.0,>=4.0.0a3 in c:\\users\\nigus\\anaconda3\\lib\\site-packages (from aiohttp<4.0,>=3.0->cohere) (4.0.1)\n",
      "Requirement already satisfied: yarl<2.0,>=1.0 in c:\\users\\nigus\\anaconda3\\lib\\site-packages (from aiohttp<4.0,>=3.0->cohere) (1.6.3)\n",
      "Requirement already satisfied: attrs>=17.3.0 in c:\\users\\nigus\\anaconda3\\lib\\site-packages (from aiohttp<4.0,>=3.0->cohere) (21.4.0)\n",
      "Requirement already satisfied: multidict<7.0,>=4.5 in c:\\users\\nigus\\anaconda3\\lib\\site-packages (from aiohttp<4.0,>=3.0->cohere) (5.1.0)\n",
      "Requirement already satisfied: frozenlist>=1.1.1 in c:\\users\\nigus\\anaconda3\\lib\\site-packages (from aiohttp<4.0,>=3.0->cohere) (1.2.0)\n",
      "Requirement already satisfied: aiosignal>=1.1.2 in c:\\users\\nigus\\anaconda3\\lib\\site-packages (from aiohttp<4.0,>=3.0->cohere) (1.2.0)\n",
      "Requirement already satisfied: charset-normalizer<3.0,>=2.0 in c:\\users\\nigus\\anaconda3\\lib\\site-packages (from aiohttp<4.0,>=3.0->cohere) (2.0.4)\n",
      "Requirement already satisfied: typing-extensions>=3.6.5 in c:\\users\\nigus\\anaconda3\\lib\\site-packages (from async-timeout<5.0,>=4.0.0a3->aiohttp<4.0,>=3.0->cohere) (4.1.1)\n",
      "Requirement already satisfied: zipp>=0.5 in c:\\users\\nigus\\anaconda3\\lib\\site-packages (from importlib_metadata<7.0,>=6.0->cohere) (3.7.0)\n",
      "Requirement already satisfied: idna<4,>=2.5 in c:\\users\\nigus\\anaconda3\\lib\\site-packages (from requests<3.0.0,>=2.25.0->cohere) (3.3)\n",
      "Requirement already satisfied: certifi>=2017.4.17 in c:\\users\\nigus\\anaconda3\\lib\\site-packages (from requests<3.0.0,>=2.25.0->cohere) (2021.10.8)\n",
      "Requirement already satisfied: weaviate-client in c:\\users\\nigus\\anaconda3\\lib\\site-packages (3.23.0)\n",
      "Collecting Annoy\n",
      "  Downloading annoy-1.17.3.tar.gz (647 kB)\n",
      "Requirement already satisfied: authlib>=1.1.0 in c:\\users\\nigus\\anaconda3\\lib\\site-packages (from weaviate-client) (1.2.1)\n",
      "Requirement already satisfied: validators<=0.21.0,>=0.18.2 in c:\\users\\nigus\\anaconda3\\lib\\site-packages (from weaviate-client) (0.21.0)\n",
      "Requirement already satisfied: requests<=2.31.0,>=2.28.0 in c:\\users\\nigus\\anaconda3\\lib\\site-packages (from weaviate-client) (2.31.0)\n",
      "Requirement already satisfied: tqdm<5.0.0,>=4.59.0 in c:\\users\\nigus\\anaconda3\\lib\\site-packages (from weaviate-client) (4.64.0)\n",
      "Requirement already satisfied: cryptography>=3.2 in c:\\users\\nigus\\anaconda3\\lib\\site-packages (from authlib>=1.1.0->weaviate-client) (3.4.8)\n",
      "Requirement already satisfied: cffi>=1.12 in c:\\users\\nigus\\anaconda3\\lib\\site-packages (from cryptography>=3.2->authlib>=1.1.0->weaviate-client) (1.15.0)\n",
      "Requirement already satisfied: pycparser in c:\\users\\nigus\\anaconda3\\lib\\site-packages (from cffi>=1.12->cryptography>=3.2->authlib>=1.1.0->weaviate-client) (2.21)\n",
      "Requirement already satisfied: charset-normalizer<4,>=2 in c:\\users\\nigus\\anaconda3\\lib\\site-packages (from requests<=2.31.0,>=2.28.0->weaviate-client) (2.0.4)\n",
      "Requirement already satisfied: idna<4,>=2.5 in c:\\users\\nigus\\anaconda3\\lib\\site-packages (from requests<=2.31.0,>=2.28.0->weaviate-client) (3.3)\n",
      "Requirement already satisfied: urllib3<3,>=1.21.1 in c:\\users\\nigus\\anaconda3\\lib\\site-packages (from requests<=2.31.0,>=2.28.0->weaviate-client) (1.26.9)\n",
      "Requirement already satisfied: certifi>=2017.4.17 in c:\\users\\nigus\\anaconda3\\lib\\site-packages (from requests<=2.31.0,>=2.28.0->weaviate-client) (2021.10.8)\n",
      "Requirement already satisfied: colorama in c:\\users\\nigus\\anaconda3\\lib\\site-packages (from tqdm<5.0.0,>=4.59.0->weaviate-client) (0.4.4)\n",
      "Building wheels for collected packages: Annoy\n",
      "  Building wheel for Annoy (setup.py): started\n",
      "  Building wheel for Annoy (setup.py): finished with status 'error'\n",
      "  Running setup.py clean for Annoy\n",
      "Failed to build Annoy\n",
      "Installing collected packages: Annoy\n",
      "    Running setup.py install for Annoy: started\n",
      "    Running setup.py install for Annoy: finished with status 'error'\n"
     ]
    },
    {
     "name": "stderr",
     "output_type": "stream",
     "text": [
      "  ERROR: Command errored out with exit status 1:\n",
      "   command: 'C:\\Users\\nigus\\anaconda3\\python.exe' -u -c 'import io, os, sys, setuptools, tokenize; sys.argv[0] = '\"'\"'C:\\\\Users\\\\nigus\\\\AppData\\\\Local\\\\Temp\\\\pip-install-7qvumyog\\\\annoy_bea17530ca9046cf85a911ad66547c51\\\\setup.py'\"'\"'; __file__='\"'\"'C:\\\\Users\\\\nigus\\\\AppData\\\\Local\\\\Temp\\\\pip-install-7qvumyog\\\\annoy_bea17530ca9046cf85a911ad66547c51\\\\setup.py'\"'\"';f = getattr(tokenize, '\"'\"'open'\"'\"', open)(__file__) if os.path.exists(__file__) else io.StringIO('\"'\"'from setuptools import setup; setup()'\"'\"');code = f.read().replace('\"'\"'\\r\\n'\"'\"', '\"'\"'\\n'\"'\"');f.close();exec(compile(code, __file__, '\"'\"'exec'\"'\"'))' bdist_wheel -d 'C:\\Users\\nigus\\AppData\\Local\\Temp\\pip-wheel-z7pt7al0'\n",
      "       cwd: C:\\Users\\nigus\\AppData\\Local\\Temp\\pip-install-7qvumyog\\annoy_bea17530ca9046cf85a911ad66547c51\\\n",
      "  Complete output (12 lines):\n",
      "  running bdist_wheel\n",
      "  running build\n",
      "  running build_py\n",
      "  creating build\n",
      "  creating build\\lib.win-amd64-3.9\n",
      "  creating build\\lib.win-amd64-3.9\\annoy\n",
      "  copying annoy\\__init__.py -> build\\lib.win-amd64-3.9\\annoy\n",
      "  copying annoy\\__init__.pyi -> build\\lib.win-amd64-3.9\\annoy\n",
      "  copying annoy\\py.typed -> build\\lib.win-amd64-3.9\\annoy\n",
      "  running build_ext\n",
      "  building 'annoy.annoylib' extension\n",
      "  error: Microsoft Visual C++ 14.0 or greater is required. Get it with \"Microsoft C++ Build Tools\": https://visualstudio.microsoft.com/visual-cpp-build-tools/\n",
      "  ----------------------------------------\n",
      "  ERROR: Failed building wheel for Annoy\n",
      "    ERROR: Command errored out with exit status 1:\n",
      "     command: 'C:\\Users\\nigus\\anaconda3\\python.exe' -u -c 'import io, os, sys, setuptools, tokenize; sys.argv[0] = '\"'\"'C:\\\\Users\\\\nigus\\\\AppData\\\\Local\\\\Temp\\\\pip-install-7qvumyog\\\\annoy_bea17530ca9046cf85a911ad66547c51\\\\setup.py'\"'\"'; __file__='\"'\"'C:\\\\Users\\\\nigus\\\\AppData\\\\Local\\\\Temp\\\\pip-install-7qvumyog\\\\annoy_bea17530ca9046cf85a911ad66547c51\\\\setup.py'\"'\"';f = getattr(tokenize, '\"'\"'open'\"'\"', open)(__file__) if os.path.exists(__file__) else io.StringIO('\"'\"'from setuptools import setup; setup()'\"'\"');code = f.read().replace('\"'\"'\\r\\n'\"'\"', '\"'\"'\\n'\"'\"');f.close();exec(compile(code, __file__, '\"'\"'exec'\"'\"'))' install --record 'C:\\Users\\nigus\\AppData\\Local\\Temp\\pip-record-bo5vde0t\\install-record.txt' --single-version-externally-managed --compile --install-headers 'C:\\Users\\nigus\\anaconda3\\Include\\Annoy'\n",
      "         cwd: C:\\Users\\nigus\\AppData\\Local\\Temp\\pip-install-7qvumyog\\annoy_bea17530ca9046cf85a911ad66547c51\\\n",
      "    Complete output (14 lines):\n",
      "    running install\n",
      "    C:\\Users\\nigus\\anaconda3\\lib\\site-packages\\setuptools\\command\\install.py:34: SetuptoolsDeprecationWarning: setup.py install is deprecated. Use build and pip and other standards-based tools.\n",
      "      warnings.warn(\n",
      "    running build\n",
      "    running build_py\n",
      "    creating build\n",
      "    creating build\\lib.win-amd64-3.9\n",
      "    creating build\\lib.win-amd64-3.9\\annoy\n",
      "    copying annoy\\__init__.py -> build\\lib.win-amd64-3.9\\annoy\n",
      "    copying annoy\\__init__.pyi -> build\\lib.win-amd64-3.9\\annoy\n",
      "    copying annoy\\py.typed -> build\\lib.win-amd64-3.9\\annoy\n",
      "    running build_ext\n",
      "    building 'annoy.annoylib' extension\n",
      "    error: Microsoft Visual C++ 14.0 or greater is required. Get it with \"Microsoft C++ Build Tools\": https://visualstudio.microsoft.com/visual-cpp-build-tools/\n",
      "    ----------------------------------------\n",
      "ERROR: Command errored out with exit status 1: 'C:\\Users\\nigus\\anaconda3\\python.exe' -u -c 'import io, os, sys, setuptools, tokenize; sys.argv[0] = '\"'\"'C:\\\\Users\\\\nigus\\\\AppData\\\\Local\\\\Temp\\\\pip-install-7qvumyog\\\\annoy_bea17530ca9046cf85a911ad66547c51\\\\setup.py'\"'\"'; __file__='\"'\"'C:\\\\Users\\\\nigus\\\\AppData\\\\Local\\\\Temp\\\\pip-install-7qvumyog\\\\annoy_bea17530ca9046cf85a911ad66547c51\\\\setup.py'\"'\"';f = getattr(tokenize, '\"'\"'open'\"'\"', open)(__file__) if os.path.exists(__file__) else io.StringIO('\"'\"'from setuptools import setup; setup()'\"'\"');code = f.read().replace('\"'\"'\\r\\n'\"'\"', '\"'\"'\\n'\"'\"');f.close();exec(compile(code, __file__, '\"'\"'exec'\"'\"'))' install --record 'C:\\Users\\nigus\\AppData\\Local\\Temp\\pip-record-bo5vde0t\\install-record.txt' --single-version-externally-managed --compile --install-headers 'C:\\Users\\nigus\\anaconda3\\Include\\Annoy' Check the logs for full command output.\n"
     ]
    }
   ],
   "source": [
    " !pip install cohere \n",
    " !pip install weaviate-client Annoy"
   ]
  },
  {
   "cell_type": "code",
   "execution_count": 4,
   "id": "0f712460",
   "metadata": {},
   "outputs": [],
   "source": [
    "import cohere\n",
    "co = cohere.Client('eXeH0uBrIn6lzRbrG7JyjHheoFVxQAGtLI7J1HnT')"
   ]
  },
  {
   "cell_type": "code",
   "execution_count": 5,
   "id": "0f008958",
   "metadata": {},
   "outputs": [],
   "source": [
    "import weaviate\n",
    "auth_config = weaviate.auth.AuthApiKey(\n",
    "    api_key='ugFJXG6voNWkQ35qwSi13dwk5ba8kSxgfUZ2UEoI')"
   ]
  },
  {
   "cell_type": "code",
   "execution_count": 6,
   "id": "6286abdb",
   "metadata": {},
   "outputs": [
    {
     "ename": "UnexpectedStatusCodeException",
     "evalue": "Meta endpoint! Unexpected status code: 401, with response body: {'code': 401, 'message': 'invalid api key, please provide a valid api key'}.",
     "output_type": "error",
     "traceback": [
      "\u001b[1;31m---------------------------------------------------------------------------\u001b[0m",
      "\u001b[1;31mUnexpectedStatusCodeException\u001b[0m             Traceback (most recent call last)",
      "Input \u001b[1;32mIn [6]\u001b[0m, in \u001b[0;36m<cell line: 1>\u001b[1;34m()\u001b[0m\n\u001b[1;32m----> 1\u001b[0m client \u001b[38;5;241m=\u001b[39m \u001b[43mweaviate\u001b[49m\u001b[38;5;241;43m.\u001b[39;49m\u001b[43mClient\u001b[49m\u001b[43m(\u001b[49m\n\u001b[0;32m      2\u001b[0m \u001b[43m    \u001b[49m\u001b[43murl\u001b[49m\u001b[38;5;241;43m=\u001b[39;49m\u001b[38;5;124;43m'\u001b[39;49m\u001b[38;5;124;43mhttps://cohere-demo.weaviate.network/\u001b[39;49m\u001b[38;5;124;43m'\u001b[39;49m\u001b[43m,\u001b[49m\n\u001b[0;32m      3\u001b[0m \u001b[43m    \u001b[49m\u001b[43mauth_client_secret\u001b[49m\u001b[38;5;241;43m=\u001b[39;49m\u001b[43mauth_config\u001b[49m\u001b[43m,\u001b[49m\n\u001b[0;32m      4\u001b[0m \u001b[43m    \u001b[49m\u001b[43madditional_headers\u001b[49m\u001b[38;5;241;43m=\u001b[39;49m\u001b[43m{\u001b[49m\n\u001b[0;32m      5\u001b[0m \u001b[43m        \u001b[49m\u001b[38;5;124;43m\"\u001b[39;49m\u001b[38;5;124;43mX-Cohere-Api-Key\u001b[39;49m\u001b[38;5;124;43m\"\u001b[39;49m\u001b[43m:\u001b[49m\u001b[43m \u001b[49m\u001b[38;5;124;43m'\u001b[39;49m\u001b[38;5;124;43meXeH0uBrIn6lzRbrG7JyjHheoFVxQAGtLI7J1HnT\u001b[39;49m\u001b[38;5;124;43m'\u001b[39;49m\u001b[43m,\u001b[49m\n\u001b[0;32m      6\u001b[0m \u001b[43m    \u001b[49m\u001b[43m}\u001b[49m\n\u001b[0;32m      7\u001b[0m \u001b[43m)\u001b[49m\n\u001b[0;32m      8\u001b[0m client\u001b[38;5;241m.\u001b[39mis_ready()\n",
      "File \u001b[1;32m~\\anaconda3\\lib\\site-packages\\weaviate\\client.py:150\u001b[0m, in \u001b[0;36mClient.__init__\u001b[1;34m(self, url, auth_client_secret, timeout_config, proxies, trust_env, additional_headers, startup_period, embedded_options, additional_config)\u001b[0m\n\u001b[0;32m    147\u001b[0m url, embedded_db \u001b[38;5;241m=\u001b[39m \u001b[38;5;28mself\u001b[39m\u001b[38;5;241m.\u001b[39m__parse_url_and_embedded_db(url, embedded_options)\n\u001b[0;32m    148\u001b[0m config \u001b[38;5;241m=\u001b[39m Config() \u001b[38;5;28;01mif\u001b[39;00m additional_config \u001b[38;5;129;01mis\u001b[39;00m \u001b[38;5;28;01mNone\u001b[39;00m \u001b[38;5;28;01melse\u001b[39;00m additional_config\n\u001b[1;32m--> 150\u001b[0m \u001b[38;5;28mself\u001b[39m\u001b[38;5;241m.\u001b[39m_connection \u001b[38;5;241m=\u001b[39m \u001b[43mConnection\u001b[49m\u001b[43m(\u001b[49m\n\u001b[0;32m    151\u001b[0m \u001b[43m    \u001b[49m\u001b[43murl\u001b[49m\u001b[38;5;241;43m=\u001b[39;49m\u001b[43murl\u001b[49m\u001b[43m,\u001b[49m\n\u001b[0;32m    152\u001b[0m \u001b[43m    \u001b[49m\u001b[43mauth_client_secret\u001b[49m\u001b[38;5;241;43m=\u001b[39;49m\u001b[43mauth_client_secret\u001b[49m\u001b[43m,\u001b[49m\n\u001b[0;32m    153\u001b[0m \u001b[43m    \u001b[49m\u001b[43mtimeout_config\u001b[49m\u001b[38;5;241;43m=\u001b[39;49m\u001b[43m_get_valid_timeout_config\u001b[49m\u001b[43m(\u001b[49m\u001b[43mtimeout_config\u001b[49m\u001b[43m)\u001b[49m\u001b[43m,\u001b[49m\n\u001b[0;32m    154\u001b[0m \u001b[43m    \u001b[49m\u001b[43mproxies\u001b[49m\u001b[38;5;241;43m=\u001b[39;49m\u001b[43mproxies\u001b[49m\u001b[43m,\u001b[49m\n\u001b[0;32m    155\u001b[0m \u001b[43m    \u001b[49m\u001b[43mtrust_env\u001b[49m\u001b[38;5;241;43m=\u001b[39;49m\u001b[43mtrust_env\u001b[49m\u001b[43m,\u001b[49m\n\u001b[0;32m    156\u001b[0m \u001b[43m    \u001b[49m\u001b[43madditional_headers\u001b[49m\u001b[38;5;241;43m=\u001b[39;49m\u001b[43madditional_headers\u001b[49m\u001b[43m,\u001b[49m\n\u001b[0;32m    157\u001b[0m \u001b[43m    \u001b[49m\u001b[43mstartup_period\u001b[49m\u001b[38;5;241;43m=\u001b[39;49m\u001b[43mstartup_period\u001b[49m\u001b[43m,\u001b[49m\n\u001b[0;32m    158\u001b[0m \u001b[43m    \u001b[49m\u001b[43membedded_db\u001b[49m\u001b[38;5;241;43m=\u001b[39;49m\u001b[43membedded_db\u001b[49m\u001b[43m,\u001b[49m\n\u001b[0;32m    159\u001b[0m \u001b[43m    \u001b[49m\u001b[43mgrcp_port\u001b[49m\u001b[38;5;241;43m=\u001b[39;49m\u001b[43mconfig\u001b[49m\u001b[38;5;241;43m.\u001b[39;49m\u001b[43mgrpc_port_experimental\u001b[49m\u001b[43m,\u001b[49m\n\u001b[0;32m    160\u001b[0m \u001b[43m    \u001b[49m\u001b[43mconnection_config\u001b[49m\u001b[38;5;241;43m=\u001b[39;49m\u001b[43mconfig\u001b[49m\u001b[38;5;241;43m.\u001b[39;49m\u001b[43mconnection_config\u001b[49m\u001b[43m,\u001b[49m\n\u001b[0;32m    161\u001b[0m \u001b[43m\u001b[49m\u001b[43m)\u001b[49m\n\u001b[0;32m    162\u001b[0m \u001b[38;5;28mself\u001b[39m\u001b[38;5;241m.\u001b[39mclassification \u001b[38;5;241m=\u001b[39m Classification(\u001b[38;5;28mself\u001b[39m\u001b[38;5;241m.\u001b[39m_connection)\n\u001b[0;32m    163\u001b[0m \u001b[38;5;28mself\u001b[39m\u001b[38;5;241m.\u001b[39mschema \u001b[38;5;241m=\u001b[39m Schema(\u001b[38;5;28mself\u001b[39m\u001b[38;5;241m.\u001b[39m_connection)\n",
      "File \u001b[1;32m~\\anaconda3\\lib\\site-packages\\weaviate\\connect\\connection.py:662\u001b[0m, in \u001b[0;36mConnection.__init__\u001b[1;34m(self, url, auth_client_secret, timeout_config, proxies, trust_env, additional_headers, startup_period, connection_config, embedded_db, grcp_port)\u001b[0m\n\u001b[0;32m    637\u001b[0m \u001b[38;5;28;01mdef\u001b[39;00m \u001b[38;5;21m__init__\u001b[39m(\n\u001b[0;32m    638\u001b[0m     \u001b[38;5;28mself\u001b[39m,\n\u001b[0;32m    639\u001b[0m     url: \u001b[38;5;28mstr\u001b[39m,\n\u001b[1;32m   (...)\u001b[0m\n\u001b[0;32m    648\u001b[0m     grcp_port: Optional[\u001b[38;5;28mint\u001b[39m] \u001b[38;5;241m=\u001b[39m \u001b[38;5;28;01mNone\u001b[39;00m,\n\u001b[0;32m    649\u001b[0m ):\n\u001b[0;32m    650\u001b[0m     \u001b[38;5;28msuper\u001b[39m()\u001b[38;5;241m.\u001b[39m\u001b[38;5;21m__init__\u001b[39m(\n\u001b[0;32m    651\u001b[0m         url,\n\u001b[0;32m    652\u001b[0m         auth_client_secret,\n\u001b[1;32m   (...)\u001b[0m\n\u001b[0;32m    660\u001b[0m         grcp_port,\n\u001b[0;32m    661\u001b[0m     )\n\u001b[1;32m--> 662\u001b[0m     \u001b[38;5;28mself\u001b[39m\u001b[38;5;241m.\u001b[39m_server_version \u001b[38;5;241m=\u001b[39m \u001b[38;5;28;43mself\u001b[39;49m\u001b[38;5;241;43m.\u001b[39;49m\u001b[43mget_meta\u001b[49m\u001b[43m(\u001b[49m\u001b[43m)\u001b[49m[\u001b[38;5;124m\"\u001b[39m\u001b[38;5;124mversion\u001b[39m\u001b[38;5;124m\"\u001b[39m]\n\u001b[0;32m    663\u001b[0m     \u001b[38;5;28;01mif\u001b[39;00m \u001b[38;5;28mself\u001b[39m\u001b[38;5;241m.\u001b[39m_server_version \u001b[38;5;241m<\u001b[39m \u001b[38;5;124m\"\u001b[39m\u001b[38;5;124m1.14\u001b[39m\u001b[38;5;124m\"\u001b[39m:\n\u001b[0;32m    664\u001b[0m         _Warnings\u001b[38;5;241m.\u001b[39mweaviate_server_older_than_1_14(\u001b[38;5;28mself\u001b[39m\u001b[38;5;241m.\u001b[39m_server_version)\n",
      "File \u001b[1;32m~\\anaconda3\\lib\\site-packages\\weaviate\\connect\\connection.py:695\u001b[0m, in \u001b[0;36mConnection.get_meta\u001b[1;34m(self)\u001b[0m\n\u001b[0;32m    693\u001b[0m \u001b[38;5;28;01mif\u001b[39;00m response\u001b[38;5;241m.\u001b[39mstatus_code \u001b[38;5;241m==\u001b[39m \u001b[38;5;241m200\u001b[39m:\n\u001b[0;32m    694\u001b[0m     \u001b[38;5;28;01mreturn\u001b[39;00m response\u001b[38;5;241m.\u001b[39mjson()\n\u001b[1;32m--> 695\u001b[0m \u001b[38;5;28;01mraise\u001b[39;00m UnexpectedStatusCodeException(\u001b[38;5;124m\"\u001b[39m\u001b[38;5;124mMeta endpoint\u001b[39m\u001b[38;5;124m\"\u001b[39m, response)\n",
      "\u001b[1;31mUnexpectedStatusCodeException\u001b[0m: Meta endpoint! Unexpected status code: 401, with response body: {'code': 401, 'message': 'invalid api key, please provide a valid api key'}."
     ]
    }
   ],
   "source": [
    "client = weaviate.Client(\n",
    "    url='https://cohere-demo.weaviate.network/',\n",
    "    auth_client_secret=auth_config,\n",
    "    additional_headers={\n",
    "        \"X-Cohere-Api-Key\": 'eXeH0uBrIn6lzRbrG7JyjHheoFVxQAGtLI7J1HnT',\n",
    "    }\n",
    ")\n",
    "client.is_ready() #check if True"
   ]
  },
  {
   "cell_type": "markdown",
   "id": "5c11440b",
   "metadata": {},
   "source": [
    "## Part 1: Vector Database for semantic Search"
   ]
  },
  {
   "cell_type": "code",
   "execution_count": 7,
   "id": "b07f013a",
   "metadata": {},
   "outputs": [],
   "source": [
    "def dense_retrieval(query, \n",
    "                    results_lang='en', \n",
    "                    properties = [\"text\", \"title\", \"url\", \"views\", \"lang\", \"_additional {distance}\"],\n",
    "                    num_results=5):\n",
    "\n",
    "    nearText = {\"concepts\": [query]}\n",
    "    \n",
    "    # To filter by language\n",
    "    where_filter = {\n",
    "    \"path\": [\"lang\"],\n",
    "    \"operator\": \"Equal\",\n",
    "    \"valueString\": results_lang\n",
    "    }\n",
    "    response = (\n",
    "        client.query\n",
    "        .get(\"Articles\", properties)\n",
    "        .with_near_text(nearText) # here is the difference. instead of using bm25 for searching most common words\n",
    "        .with_where(where_filter) # we use vector search which means finding the nearest data to the query\n",
    "        .with_limit(num_results)\n",
    "        .do()\n",
    "    )\n",
    "\n",
    "    result = response['data']['Get']['Articles']\n",
    "\n",
    "    return result"
   ]
  },
  {
   "cell_type": "code",
   "execution_count": 8,
   "id": "c034f40c",
   "metadata": {},
   "outputs": [
    {
     "ename": "ImportError",
     "evalue": "cannot import name 'print_result' from 'utils' (C:\\Users\\nigus\\anaconda3\\lib\\site-packages\\utils\\__init__.py)",
     "output_type": "error",
     "traceback": [
      "\u001b[1;31m---------------------------------------------------------------------------\u001b[0m",
      "\u001b[1;31mImportError\u001b[0m                               Traceback (most recent call last)",
      "Input \u001b[1;32mIn [8]\u001b[0m, in \u001b[0;36m<cell line: 1>\u001b[1;34m()\u001b[0m\n\u001b[1;32m----> 1\u001b[0m \u001b[38;5;28;01mfrom\u001b[39;00m \u001b[38;5;21;01mutils\u001b[39;00m \u001b[38;5;28;01mimport\u001b[39;00m print_result\n",
      "\u001b[1;31mImportError\u001b[0m: cannot import name 'print_result' from 'utils' (C:\\Users\\nigus\\anaconda3\\lib\\site-packages\\utils\\__init__.py)"
     ]
    }
   ],
   "source": [
    "from utils import print_result"
   ]
  },
  {
   "cell_type": "code",
   "execution_count": 9,
   "id": "887f70ef",
   "metadata": {},
   "outputs": [
    {
     "ename": "NameError",
     "evalue": "name 'client' is not defined",
     "output_type": "error",
     "traceback": [
      "\u001b[1;31m---------------------------------------------------------------------------\u001b[0m",
      "\u001b[1;31mNameError\u001b[0m                                 Traceback (most recent call last)",
      "Input \u001b[1;32mIn [9]\u001b[0m, in \u001b[0;36m<cell line: 2>\u001b[1;34m()\u001b[0m\n\u001b[0;32m      1\u001b[0m query \u001b[38;5;241m=\u001b[39m \u001b[38;5;124m\"\u001b[39m\u001b[38;5;124mWho wrote Hamlet?\u001b[39m\u001b[38;5;124m\"\u001b[39m\n\u001b[1;32m----> 2\u001b[0m dense_retrieval_results \u001b[38;5;241m=\u001b[39m \u001b[43mdense_retrieval\u001b[49m\u001b[43m(\u001b[49m\u001b[43mquery\u001b[49m\u001b[43m)\u001b[49m\n\u001b[0;32m      3\u001b[0m print_result(dense_retrieval_results)\n",
      "Input \u001b[1;32mIn [7]\u001b[0m, in \u001b[0;36mdense_retrieval\u001b[1;34m(query, results_lang, properties, num_results)\u001b[0m\n\u001b[0;32m      8\u001b[0m \u001b[38;5;66;03m# To filter by language\u001b[39;00m\n\u001b[0;32m      9\u001b[0m where_filter \u001b[38;5;241m=\u001b[39m {\n\u001b[0;32m     10\u001b[0m \u001b[38;5;124m\"\u001b[39m\u001b[38;5;124mpath\u001b[39m\u001b[38;5;124m\"\u001b[39m: [\u001b[38;5;124m\"\u001b[39m\u001b[38;5;124mlang\u001b[39m\u001b[38;5;124m\"\u001b[39m],\n\u001b[0;32m     11\u001b[0m \u001b[38;5;124m\"\u001b[39m\u001b[38;5;124moperator\u001b[39m\u001b[38;5;124m\"\u001b[39m: \u001b[38;5;124m\"\u001b[39m\u001b[38;5;124mEqual\u001b[39m\u001b[38;5;124m\"\u001b[39m,\n\u001b[0;32m     12\u001b[0m \u001b[38;5;124m\"\u001b[39m\u001b[38;5;124mvalueString\u001b[39m\u001b[38;5;124m\"\u001b[39m: results_lang\n\u001b[0;32m     13\u001b[0m }\n\u001b[0;32m     14\u001b[0m response \u001b[38;5;241m=\u001b[39m (\n\u001b[1;32m---> 15\u001b[0m     \u001b[43mclient\u001b[49m\u001b[38;5;241m.\u001b[39mquery\n\u001b[0;32m     16\u001b[0m     \u001b[38;5;241m.\u001b[39mget(\u001b[38;5;124m\"\u001b[39m\u001b[38;5;124mArticles\u001b[39m\u001b[38;5;124m\"\u001b[39m, properties)\n\u001b[0;32m     17\u001b[0m     \u001b[38;5;241m.\u001b[39mwith_near_text(nearText)\n\u001b[0;32m     18\u001b[0m     \u001b[38;5;241m.\u001b[39mwith_where(where_filter)\n\u001b[0;32m     19\u001b[0m     \u001b[38;5;241m.\u001b[39mwith_limit(num_results)\n\u001b[0;32m     20\u001b[0m     \u001b[38;5;241m.\u001b[39mdo()\n\u001b[0;32m     21\u001b[0m )\n\u001b[0;32m     23\u001b[0m result \u001b[38;5;241m=\u001b[39m response[\u001b[38;5;124m'\u001b[39m\u001b[38;5;124mdata\u001b[39m\u001b[38;5;124m'\u001b[39m][\u001b[38;5;124m'\u001b[39m\u001b[38;5;124mGet\u001b[39m\u001b[38;5;124m'\u001b[39m][\u001b[38;5;124m'\u001b[39m\u001b[38;5;124mArticles\u001b[39m\u001b[38;5;124m'\u001b[39m]\n\u001b[0;32m     25\u001b[0m \u001b[38;5;28;01mreturn\u001b[39;00m result\n",
      "\u001b[1;31mNameError\u001b[0m: name 'client' is not defined"
     ]
    }
   ],
   "source": [
    "query = \"Who wrote Hamlet?\"\n",
    "dense_retrieval_results = dense_retrieval(query)\n",
    "print_result(dense_retrieval_results)"
   ]
  },
  {
   "cell_type": "code",
   "execution_count": null,
   "id": "1185be87",
   "metadata": {},
   "outputs": [],
   "source": [
    "query = \"What is the capital of Canada?\"\n",
    "dense_retrieval_results = dense_retrieval(query)\n",
    "print_result(dense_retrieval_results)"
   ]
  },
  {
   "cell_type": "code",
   "execution_count": null,
   "id": "05f769a3",
   "metadata": {},
   "outputs": [],
   "source": [
    "from utils import keyword_search\n",
    "\n",
    "query = \"What is the capital of Canada?\"\n",
    "keyword_search_results = keyword_search(query, client)\n",
    "print_result(keyword_search_results)"
   ]
  },
  {
   "cell_type": "markdown",
   "id": "c08adf57",
   "metadata": {},
   "source": [
    "### Complicated Query"
   ]
  },
  {
   "cell_type": "code",
   "execution_count": null,
   "id": "e7bea49a",
   "metadata": {},
   "outputs": [],
   "source": [
    "from utils import keyword_search\n",
    "\n",
    "query = \"Tallest person in history?\"\n",
    "keyword_search_results = keyword_search(query, client)\n",
    "print_result(keyword_search_results)"
   ]
  },
  {
   "cell_type": "code",
   "execution_count": null,
   "id": "f8a0686e",
   "metadata": {},
   "outputs": [],
   "source": [
    "query = \"Tallest person in history\"\n",
    "dense_retrieval_results = dense_retrieval(query)\n",
    "print_result(dense_retrieval_results)"
   ]
  },
  {
   "cell_type": "code",
   "execution_count": null,
   "id": "f36151d9",
   "metadata": {},
   "outputs": [],
   "source": [
    "query = \"أطول رجل في التاريخ\"\n",
    "dense_retrieval_results = dense_retrieval(query)\n",
    "print_result(dense_retrieval_results)"
   ]
  },
  {
   "cell_type": "code",
   "execution_count": null,
   "id": "ebe733fe",
   "metadata": {},
   "outputs": [],
   "source": [
    "query = \"film about a time travel paradox\"\n",
    "dense_retrieval_results = dense_retrieval(query)\n",
    "print_result(dense_retrieval_results)"
   ]
  },
  {
   "cell_type": "markdown",
   "id": "69e0ae9a",
   "metadata": {},
   "source": [
    "## Part 2: Building Semantic Search from Scratch\n",
    "\n",
    "### Get the text archive:"
   ]
  },
  {
   "cell_type": "code",
   "execution_count": 10,
   "id": "ba11b440",
   "metadata": {},
   "outputs": [
    {
     "ename": "ModuleNotFoundError",
     "evalue": "No module named 'annoy'",
     "output_type": "error",
     "traceback": [
      "\u001b[1;31m---------------------------------------------------------------------------\u001b[0m",
      "\u001b[1;31mModuleNotFoundError\u001b[0m                       Traceback (most recent call last)",
      "Input \u001b[1;32mIn [10]\u001b[0m, in \u001b[0;36m<cell line: 1>\u001b[1;34m()\u001b[0m\n\u001b[1;32m----> 1\u001b[0m \u001b[38;5;28;01mfrom\u001b[39;00m \u001b[38;5;21;01mannoy\u001b[39;00m \u001b[38;5;28;01mimport\u001b[39;00m AnnoyIndex\n\u001b[0;32m      2\u001b[0m \u001b[38;5;28;01mimport\u001b[39;00m \u001b[38;5;21;01mnumpy\u001b[39;00m \u001b[38;5;28;01mas\u001b[39;00m \u001b[38;5;21;01mnp\u001b[39;00m\n\u001b[0;32m      3\u001b[0m \u001b[38;5;28;01mimport\u001b[39;00m \u001b[38;5;21;01mpandas\u001b[39;00m \u001b[38;5;28;01mas\u001b[39;00m \u001b[38;5;21;01mpd\u001b[39;00m\n",
      "\u001b[1;31mModuleNotFoundError\u001b[0m: No module named 'annoy'"
     ]
    }
   ],
   "source": [
    "from annoy import AnnoyIndex\n",
    "import numpy as np\n",
    "import pandas as pd\n",
    "import re"
   ]
  },
  {
   "cell_type": "code",
   "execution_count": 14,
   "id": "d442fe68",
   "metadata": {},
   "outputs": [],
   "source": [
    "text = \"\"\"\"\"\n",
    "\"Interstellar is a 2014 epic science fiction film co-written, directed, and produced by Christopher Nolan.\n",
    "It stars Matthew McConaughey, Anne Hathaway, Jessica Chastain, Bill Irwin, Ellen Burstyn, Matt Damon, and Michael Caine.\n",
    "Set in a dystopian future where humanity is struggling to survive, the film follows a group of astronauts who travel through a wormhole near Saturn in search of a new home for mankind.\n",
    "\n",
    "Brothers Christopher and Jonathan Nolan wrote the screenplay, which had its origins in a script Jonathan developed in 2007.\n",
    "Caltech theoretical physicist and 2017 Nobel laureate in Physics[4] Kip Thorne was an executive producer, acted as a scientific consultant, and wrote a tie-in book, The Science of Interstellar.\n",
    "Cinematographer Hoyte van Hoytema shot it on 35 mm movie film in the Panavision anamorphic format and IMAX 70 mm.\n",
    "Principal photography began in late 2013 and took place in Alberta, Iceland, and Los Angeles.\n",
    "Interstellar uses extensive practical and miniature effects and the company Double Negative created additional digital effects.\n",
    "\n",
    "Interstellar premiered on October 26, 2014, in Los Angeles.\n",
    "In the United States, it was first released on film stock, expanding to venues using digital projectors.\n",
    "The film had a worldwide gross over $677 million (and $773 million with subsequent re-releases), making it the tenth-highest grossing film of 2014.\n",
    "It received acclaim for its performances, direction, screenplay, musical score, visual effects, ambition, themes, and emotional weight.\n",
    "It has also received praise from many astronomers for its scientific accuracy and portrayal of theoretical astrophysics. Since its premiere, Interstellar gained a cult following,[5] and now is regarded by many sci-fi experts as one of the best science-fiction films of all time.\n",
    "Interstellar was nominated for five awards at the 87th Academy Awards, winning Best Visual Effects, and received numerous other accolades\"\"\""
   ]
  },
  {
   "cell_type": "markdown",
   "id": "12006107",
   "metadata": {},
   "source": [
    "### Chunking: "
   ]
  },
  {
   "cell_type": "code",
   "execution_count": 11,
   "id": "272c2c0e",
   "metadata": {},
   "outputs": [
    {
     "ename": "NameError",
     "evalue": "name 'text' is not defined",
     "output_type": "error",
     "traceback": [
      "\u001b[1;31m---------------------------------------------------------------------------\u001b[0m",
      "\u001b[1;31mNameError\u001b[0m                                 Traceback (most recent call last)",
      "Input \u001b[1;32mIn [11]\u001b[0m, in \u001b[0;36m<cell line: 2>\u001b[1;34m()\u001b[0m\n\u001b[0;32m      1\u001b[0m \u001b[38;5;66;03m# Split into a list of sentences\u001b[39;00m\n\u001b[1;32m----> 2\u001b[0m texts \u001b[38;5;241m=\u001b[39m \u001b[43mtext\u001b[49m\u001b[38;5;241m.\u001b[39msplit(\u001b[38;5;124m'\u001b[39m\u001b[38;5;124m.\u001b[39m\u001b[38;5;124m'\u001b[39m)\n\u001b[0;32m      4\u001b[0m \u001b[38;5;66;03m# Clean up to remove empty spaces and new lines\u001b[39;00m\n\u001b[0;32m      5\u001b[0m texts \u001b[38;5;241m=\u001b[39m np\u001b[38;5;241m.\u001b[39marray([t\u001b[38;5;241m.\u001b[39mstrip(\u001b[38;5;124m'\u001b[39m\u001b[38;5;124m \u001b[39m\u001b[38;5;130;01m\\n\u001b[39;00m\u001b[38;5;124m'\u001b[39m) \u001b[38;5;28;01mfor\u001b[39;00m t \u001b[38;5;129;01min\u001b[39;00m texts])\n",
      "\u001b[1;31mNameError\u001b[0m: name 'text' is not defined"
     ]
    }
   ],
   "source": [
    "# Split into a list of sentences\n",
    "texts = text.split('.')\n",
    "\n",
    "# Clean up to remove empty spaces and new lines\n",
    "texts = np.array([t.strip(' \\n') for t in texts])"
   ]
  },
  {
   "cell_type": "code",
   "execution_count": null,
   "id": "d39f4672",
   "metadata": {},
   "outputs": [],
   "source": [
    "texts"
   ]
  },
  {
   "cell_type": "code",
   "execution_count": null,
   "id": "e74f14f4",
   "metadata": {},
   "outputs": [],
   "source": [
    "# Split into a list of paragraphs\n",
    "texts = text.split('\\n\\n')\n",
    "\n",
    "# Clean up to remove empty spaces and new lines\n",
    "texts = np.array([t.strip(' \\n') for t in texts])"
   ]
  },
  {
   "cell_type": "code",
   "execution_count": null,
   "id": "89623049",
   "metadata": {},
   "outputs": [],
   "source": [
    "title = 'Interstellar (film)'\n",
    "\n",
    "texts = np.array([f\"{title} {t}\" for t in texts])"
   ]
  },
  {
   "cell_type": "markdown",
   "id": "936511dc",
   "metadata": {},
   "source": [
    "### Get the embeddings:"
   ]
  },
  {
   "cell_type": "code",
   "execution_count": null,
   "id": "27f0b838",
   "metadata": {},
   "outputs": [],
   "source": [
    "response = co.embed(\n",
    "    texts=texts.tolist()\n",
    ").embeddings"
   ]
  },
  {
   "cell_type": "code",
   "execution_count": null,
   "id": "e1eaea23",
   "metadata": {},
   "outputs": [],
   "source": [
    "embeds = np.array(response)\n",
    "embeds.shape"
   ]
  },
  {
   "cell_type": "markdown",
   "id": "c41b1fec",
   "metadata": {},
   "source": [
    "### Create the search index:\n",
    "\n",
    "we create a kind of database for our query to store using annoyIndex function. it takes the number of the paragraph and idk the other and we will enter each embedings in the search index the build them finally save to `test.nn` file. then by embadding our query we can use `search_index.get_nns_by_vector` kind function to get the nearest results for our query"
   ]
  },
  {
   "cell_type": "code",
   "execution_count": null,
   "id": "3daa65e9",
   "metadata": {},
   "outputs": [],
   "source": [
    "search_index = AnnoyIndex(embeds.shape[1], 'angular')\n",
    "# Add all the vectors to the search index\n",
    "for i in range(len(embeds)):\n",
    "    search_index.add_item(i, embeds[i])\n",
    "\n",
    "search_index.build(10) # 10 trees\n",
    "search_index.save('test.ann')"
   ]
  },
  {
   "cell_type": "code",
   "execution_count": null,
   "id": "5c12229a",
   "metadata": {},
   "outputs": [],
   "source": [
    "pd.set_option('display.max_colwidth', None)\n",
    "\n",
    "def search(query):\n",
    "\n",
    "  # Get the query's embedding\n",
    "  query_embed = co.embed(texts=[query]).embeddings\n",
    "\n",
    "  # Retrieve the nearest neighbors\n",
    "  similar_item_ids = search_index.get_nns_by_vector(query_embed[0],\n",
    "                                                    3,\n",
    "                                                  include_distances=True)\n",
    "  # Format the results\n",
    "  results = pd.DataFrame(data={'texts': texts[similar_item_ids[0]],\n",
    "                              'distance': similar_item_ids[1]})\n",
    "\n",
    "  print(texts[similar_item_ids[0]])\n",
    "    \n",
    "  return results"
   ]
  },
  {
   "cell_type": "code",
   "execution_count": null,
   "id": "50d4fec5",
   "metadata": {},
   "outputs": [],
   "source": [
    "query = \"How much did the film make?\"\n",
    "search(query)"
   ]
  },
  {
   "cell_type": "markdown",
   "id": "3524ec70",
   "metadata": {},
   "source": [
    "# ANN vector search vs vector database"
   ]
  },
  {
   "cell_type": "markdown",
   "id": "af634b09",
   "metadata": {},
   "source": [
    "Aproximate nearest naighbor vector search libereries like annoy are easy to setup and they only store vectors"
   ]
  },
  {
   "cell_type": "markdown",
   "id": "997b1eba",
   "metadata": {},
   "source": [
    "vector database search like weaviate store both text and vectors and they are easy to handle data update unlike ANN vector which we should recreate our dataindex again."
   ]
  },
  {
   "cell_type": "code",
   "execution_count": null,
   "id": "43b39168",
   "metadata": {},
   "outputs": [],
   "source": []
  }
 ],
 "metadata": {
  "kernelspec": {
   "display_name": "Python 3 (ipykernel)",
   "language": "python",
   "name": "python3"
  },
  "language_info": {
   "codemirror_mode": {
    "name": "ipython",
    "version": 3
   },
   "file_extension": ".py",
   "mimetype": "text/x-python",
   "name": "python",
   "nbconvert_exporter": "python",
   "pygments_lexer": "ipython3",
   "version": "3.9.12"
  }
 },
 "nbformat": 4,
 "nbformat_minor": 5
}
