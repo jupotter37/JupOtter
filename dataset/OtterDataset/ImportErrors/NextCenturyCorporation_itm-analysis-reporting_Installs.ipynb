{
 "cells": [
  {
   "cell_type": "code",
   "execution_count": 3,
   "metadata": {
    "editable": true,
    "slideshow": {
     "slide_type": ""
    },
    "tags": []
   },
   "outputs": [
    {
     "name": "stdout",
     "output_type": "stream",
     "text": [
      "Pretty printing has been turned OFF\n",
      "/home/dbabbitt/anaconda3/envs/itm_analysis_reporting/bin/python -m pip install roman --upgrade\n",
      "Requirement already satisfied: roman in /home/dbabbitt/anaconda3/envs/itm_analysis_reporting/lib/python3.7/site-packages (4.2)\n"
     ]
    },
    {
     "data": {
      "text/plain": [
       "['InvalidRomanNumeralError', 'NotIntegerError', 'OutOfRangeError', 'RomanError', '__author__', '__builtins__', '__cached__', '__copyright__', '__date__', '__doc__', '__file__', '__loader__', '__name__', '__package__', '__spec__', '__version__', 'argparse', 'fromRoman', 'main', 'parse_args', 're', 'romanNumeralMap', 'romanNumeralPattern', 'sys', 'toRoman']"
      ]
     },
     "execution_count": 3,
     "metadata": {},
     "output_type": "execute_result"
    }
   ],
   "source": [
    "\n",
    "%pprint\n",
    "import os.path as osp\n",
    "import sys\n",
    "\n",
    "anaconda_path = osp.dirname(sys.executable)\n",
    "scripts_path = osp.join(anaconda_path, 'Scripts')\n",
    "command_str = f'{sys.executable} -m pip install roman --upgrade'\n",
    "print(command_str)\n",
    "!{command_str}\n",
    "import roman\n",
    "dir(roman)"
   ]
  },
  {
   "cell_type": "code",
   "execution_count": 4,
   "metadata": {
    "editable": true,
    "slideshow": {
     "slide_type": ""
    },
    "tags": []
   },
   "outputs": [
    {
     "name": "stdout",
     "output_type": "stream",
     "text": [
      "/home/dbabbitt/anaconda3/envs/itm_analysis_reporting/bin/python -m pip install wordcloud==1.8.0\n",
      "Collecting wordcloud==1.8.0\n",
      "  Downloading wordcloud-1.8.0-cp37-cp37m-manylinux1_x86_64.whl.metadata (4.3 kB)\n",
      "Requirement already satisfied: numpy>=1.6.1 in /home/dbabbitt/anaconda3/envs/itm_analysis_reporting/lib/python3.7/site-packages (from wordcloud==1.8.0) (1.21.6)\n",
      "Requirement already satisfied: pillow in /home/dbabbitt/anaconda3/envs/itm_analysis_reporting/lib/python3.7/site-packages (from wordcloud==1.8.0) (8.3.1)\n",
      "Requirement already satisfied: matplotlib in /home/dbabbitt/anaconda3/envs/itm_analysis_reporting/lib/python3.7/site-packages (from wordcloud==1.8.0) (3.5.3)\n",
      "Requirement already satisfied: cycler>=0.10 in /home/dbabbitt/anaconda3/envs/itm_analysis_reporting/lib/python3.7/site-packages (from matplotlib->wordcloud==1.8.0) (0.11.0)\n",
      "Requirement already satisfied: fonttools>=4.22.0 in /home/dbabbitt/anaconda3/envs/itm_analysis_reporting/lib/python3.7/site-packages (from matplotlib->wordcloud==1.8.0) (4.38.0)\n",
      "Requirement already satisfied: kiwisolver>=1.0.1 in /home/dbabbitt/anaconda3/envs/itm_analysis_reporting/lib/python3.7/site-packages (from matplotlib->wordcloud==1.8.0) (1.4.4)\n",
      "Requirement already satisfied: packaging>=20.0 in /home/dbabbitt/anaconda3/envs/itm_analysis_reporting/lib/python3.7/site-packages (from matplotlib->wordcloud==1.8.0) (23.2)\n",
      "Requirement already satisfied: pyparsing>=2.2.1 in /home/dbabbitt/anaconda3/envs/itm_analysis_reporting/lib/python3.7/site-packages (from matplotlib->wordcloud==1.8.0) (3.1.2)\n",
      "Requirement already satisfied: python-dateutil>=2.7 in /home/dbabbitt/anaconda3/envs/itm_analysis_reporting/lib/python3.7/site-packages (from matplotlib->wordcloud==1.8.0) (2.9.0)\n",
      "Requirement already satisfied: typing-extensions in /home/dbabbitt/anaconda3/envs/itm_analysis_reporting/lib/python3.7/site-packages (from kiwisolver>=1.0.1->matplotlib->wordcloud==1.8.0) (4.4.0)\n",
      "Requirement already satisfied: six>=1.5 in /home/dbabbitt/anaconda3/envs/itm_analysis_reporting/lib/python3.7/site-packages (from python-dateutil>=2.7->matplotlib->wordcloud==1.8.0) (1.16.0)\n",
      "Downloading wordcloud-1.8.0-cp37-cp37m-manylinux1_x86_64.whl (365 kB)\n",
      "\u001b[2K   \u001b[90m━━━━━━━━━━━━━━━━━━━━━━━━━━━━━━━━━━━━━━━━\u001b[0m \u001b[32m365.1/365.1 kB\u001b[0m \u001b[31m3.4 MB/s\u001b[0m eta \u001b[36m0:00:00\u001b[0ma \u001b[36m0:00:01\u001b[0m\n",
      "\u001b[?25hInstalling collected packages: wordcloud\n",
      "  Attempting uninstall: wordcloud\n",
      "    Found existing installation: wordcloud 1.9.3\n",
      "    Uninstalling wordcloud-1.9.3:\n",
      "      Successfully uninstalled wordcloud-1.9.3\n",
      "Successfully installed wordcloud-1.8.0\n"
     ]
    },
    {
     "data": {
      "text/plain": [
       "['__array__', '__class__', '__delattr__', '__dict__', '__dir__', '__doc__', '__eq__', '__format__', '__ge__', '__getattribute__', '__gt__', '__hash__', '__init__', '__init_subclass__', '__le__', '__lt__', '__module__', '__ne__', '__new__', '__reduce__', '__reduce_ex__', '__repr__', '__setattr__', '__sizeof__', '__str__', '__subclasshook__', '__weakref__', '_check_generated', '_draw_contour', '_get_bolean_mask', 'fit_words', 'generate', 'generate_from_frequencies', 'generate_from_text', 'process_text', 'recolor', 'to_array', 'to_file', 'to_image', 'to_svg']"
      ]
     },
     "execution_count": 4,
     "metadata": {},
     "output_type": "execute_result"
    }
   ],
   "source": [
    "\n",
    "command_str = f'{sys.executable} -m pip install wordcloud==1.8.0'\n",
    "print(command_str)\n",
    "!{command_str}\n",
    "from wordcloud import WordCloud\n",
    "dir(WordCloud)"
   ]
  },
  {
   "cell_type": "code",
   "execution_count": 3,
   "metadata": {
    "editable": true,
    "slideshow": {
     "slide_type": ""
    },
    "tags": []
   },
   "outputs": [
    {
     "name": "stdout",
     "output_type": "stream",
     "text": [
      "/home/dbabbitt/anaconda3/envs/itm_analysis_reporting/bin/python -m PIL | grep -i type\n",
      "--- FREETYPE2 support ok, loaded 2.12.1\n"
     ]
    }
   ],
   "source": [
    "\n",
    "command_str = f'{sys.executable} -m PIL | grep -i type'\n",
    "print(command_str)\n",
    "!{command_str}"
   ]
  },
  {
   "cell_type": "code",
   "execution_count": 4,
   "metadata": {
    "editable": true,
    "slideshow": {
     "slide_type": ""
    },
    "tags": []
   },
   "outputs": [
    {
     "name": "stdout",
     "output_type": "stream",
     "text": [
      "/home/dbabbitt/anaconda3/envs/itm_analysis_reporting/bin/python -m unittest /mnt/c/Users/DaveBabbitt/Documents/GitHub/itm-analysis-reporting/tests/test_color_functions.py\n",
      "E\n",
      "======================================================================\n",
      "ERROR: /mnt/c/Users/DaveBabbitt/Documents/GitHub/itm-analysis-reporting/tests/test_color_functions (unittest.loader._FailedTest)\n",
      "----------------------------------------------------------------------\n",
      "ImportError: Failed to import test module: /mnt/c/Users/DaveBabbitt/Documents/GitHub/itm-analysis-reporting/tests/test_color_functions\n",
      "Traceback (most recent call last):\n",
      "  File \"/home/dbabbitt/anaconda3/envs/itm_analysis_reporting/lib/python3.7/unittest/loader.py\", line 154, in loadTestsFromName\n",
      "    module = __import__(module_name)\n",
      "ModuleNotFoundError: No module named '/mnt/c/Users/DaveBabbitt/Documents/GitHub/itm-analysis-reporting/tests/test_color_functions'\n",
      "\n",
      "\n",
      "----------------------------------------------------------------------\n",
      "Ran 1 test in 0.000s\n",
      "\n",
      "FAILED (errors=1)\n"
     ]
    }
   ],
   "source": [
    "\n",
    "file_path = osp.abspath('../tests/test_color_functions.py')\n",
    "command_str = f'{sys.executable} -m unittest {file_path}'\n",
    "# python -m unittest /mnt/c/Users/DaveBabbitt/Documents/GitHub/itm-analysis-reporting/tests/test_color_distance_from.py\n",
    "print(command_str)\n",
    "!{command_str}"
   ]
  },
  {
   "cell_type": "code",
   "execution_count": 3,
   "metadata": {},
   "outputs": [
    {
     "name": "stdout",
     "output_type": "stream",
     "text": [
      "1.7.3\n"
     ]
    },
    {
     "data": {
      "text/plain": [
       "'/home/dbabbitt/anaconda3/envs/itm_analysis_reporting/lib/python3.7/site-packages/scipy/__init__.py'"
      ]
     },
     "metadata": {},
     "output_type": "display_data"
    }
   ],
   "source": [
    "\n",
    "import scipy\n",
    "\n",
    "print(scipy.__version__)\n",
    "display(scipy.__file__)"
   ]
  },
  {
   "cell_type": "code",
   "execution_count": 3,
   "metadata": {},
   "outputs": [
    {
     "name": "stdout",
     "output_type": "stream",
     "text": [
      "from unittest.mock import MagicMock, Mock, NonCallableMagicMock, NonCallableMock, PropertyMock, mock_open, patch\n"
     ]
    }
   ],
   "source": [
    "\n",
    "from unittest import mock\n",
    "\n",
    "print('from unittest.mock import ' + ', '.join([fn for fn in dir(mock) if (not fn.startswith('_')) and any(map(lambda x: x in fn.lower(), ['patch', 'mock']))]))"
   ]
  },
  {
   "cell_type": "code",
   "execution_count": 8,
   "metadata": {},
   "outputs": [
    {
     "data": {
      "text/plain": [
       "'C:\\\\Users\\\\DaveBabbitt\\\\anaconda3\\\\envs\\\\llama_index\\\\Scripts'"
      ]
     },
     "execution_count": 8,
     "metadata": {},
     "output_type": "execute_result"
    }
   ],
   "source": [
    "\n",
    "scripts_path"
   ]
  },
  {
   "cell_type": "code",
   "execution_count": null,
   "metadata": {},
   "outputs": [],
   "source": []
  }
 ],
 "metadata": {
  "kernelspec": {
   "display_name": "ITM Analysis Reporting (Python 3.11.7)",
   "language": "python",
   "name": "itm_analysis_reporting"
  },
  "language_info": {
   "codemirror_mode": {
    "name": "ipython",
    "version": 3
   },
   "file_extension": ".py",
   "mimetype": "text/x-python",
   "name": "python",
   "nbconvert_exporter": "python",
   "pygments_lexer": "ipython3",
   "version": "3.7.12"
  }
 },
 "nbformat": 4,
 "nbformat_minor": 4
}
