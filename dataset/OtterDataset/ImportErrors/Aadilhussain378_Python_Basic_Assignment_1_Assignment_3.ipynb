{
 "cells": [
  {
   "cell_type": "markdown",
   "id": "885c4aa6",
   "metadata": {},
   "source": [
    "- Assignment No.-----3 \n",
    "- Submitted By Aadil Hussain Teeli"
   ]
  },
  {
   "cell_type": "markdown",
   "id": "e6cbff07",
   "metadata": {},
   "source": [
    "# 1. Why are functions advantageous to have in your programs?"
   ]
  },
  {
   "cell_type": "markdown",
   "id": "877f58c6",
   "metadata": {},
   "source": [
    "Ans:\n",
    "\n",
    "Functions make coding easier because they let you reuse pieces of code without writing them again. They help keep things organized by breaking tasks into smaller parts. Plus, if you need to change something, you only have to do it in one place.   "
   ]
  },
  {
   "cell_type": "markdown",
   "id": "40739037",
   "metadata": {},
   "source": [
    "#  2.When does the code in a function run: when it's specified or when it's called?"
   ]
  },
  {
   "cell_type": "markdown",
   "id": "13f8530c",
   "metadata": {},
   "source": [
    "Ans:\n",
    "\n",
    "The code in a function runs when the function is called, not when it's specified. Calling a function executes the set of instructions or code within that function at the point where the function is invoked in the program.  "
   ]
  },
  {
   "cell_type": "code",
   "execution_count": 2,
   "id": "9dfb93e1",
   "metadata": {},
   "outputs": [],
   "source": [
    "# For example \n",
    "def greet():\n",
    "    print(\"Thanks to INeuron team\")\n",
    "\n",
    "# This is where the function is specified or defined"
   ]
  },
  {
   "cell_type": "code",
   "execution_count": 3,
   "id": "8ad9bf27",
   "metadata": {},
   "outputs": [
    {
     "name": "stdout",
     "output_type": "stream",
     "text": [
      "Thanks to INeuron team\n"
     ]
    }
   ],
   "source": [
    "greet()"
   ]
  },
  {
   "cell_type": "markdown",
   "id": "257e66e1",
   "metadata": {},
   "source": [
    "# 3. What statement creates a function?"
   ]
  },
  {
   "cell_type": "markdown",
   "id": "b82d7dce",
   "metadata": {},
   "source": [
    "Ans:\n",
    "    \n",
    "In Python, the def statement is used to create or define a function. For example you can clearly see in the above example I have created the greet() function using def keyword"
   ]
  },
  {
   "cell_type": "markdown",
   "id": "7b80ed4a",
   "metadata": {},
   "source": [
    "# 4. What is the difference between a function and a function call?"
   ]
  },
  {
   "cell_type": "markdown",
   "id": "b723b00b",
   "metadata": {},
   "source": [
    "Ans:\n",
    "   A function is a block of reusable code that performs a specific task when invoked. It contains a set of instructions defined using the def keyword in Python.\n",
    "\n",
    "On the other hand, a function call is the act of invoking or executing that function in your code by using its name followed by parentheses. When you make a function call, the code inside the function gets executed, and you can pass arguments to the function if required. "
   ]
  },
  {
   "cell_type": "code",
   "execution_count": 4,
   "id": "bea7424b",
   "metadata": {},
   "outputs": [],
   "source": [
    "# Here we created a function\n",
    "def greet():\n",
    "    print(\"Hello, World!\")"
   ]
  },
  {
   "cell_type": "code",
   "execution_count": 5,
   "id": "87f8c3b4",
   "metadata": {},
   "outputs": [
    {
     "name": "stdout",
     "output_type": "stream",
     "text": [
      "Hello, World!\n"
     ]
    }
   ],
   "source": [
    "# This is where we call the function to execute its code\n",
    "greet()"
   ]
  },
  {
   "cell_type": "markdown",
   "id": "b98f49c4",
   "metadata": {},
   "source": [
    "# 5. How many global scopes are there in a Python program? How many local scopes?"
   ]
  },
  {
   "cell_type": "markdown",
   "id": "640f7c43",
   "metadata": {},
   "source": [
    "Ans:\n",
    "    In a Python program, there is typically one global scope, which is the area where variables and functions that are not inside any function are defined.\n",
    "\n",
    "For local scopes, each function call creates its own local scope. This means that the number of local scopes depends on how many functions are called during the execution of the program. Every time a function is called, a new local scope is created for that function, and variables defined within that function are local to it."
   ]
  },
  {
   "cell_type": "code",
   "execution_count": 7,
   "id": "f0711777",
   "metadata": {},
   "outputs": [
    {
     "name": "stdout",
     "output_type": "stream",
     "text": [
      "I am a local variable\n",
      "I am a global variable\n"
     ]
    }
   ],
   "source": [
    "# Example\n",
    "\n",
    "\n",
    "# Global variable\n",
    "global_var = \"I am a global variable\"\n",
    "\n",
    "def function_with_local_scope():\n",
    "    # Local variable inside the function\n",
    "    local_var = \"I am a local variable\"\n",
    "    print(local_var)  # This will print the local variable\n",
    "\n",
    "\n",
    "function_with_local_scope()\n",
    "\n",
    "# Accessing the global variable outside the function\n",
    "print(global_var)  # This will print the global variable"
   ]
  },
  {
   "cell_type": "markdown",
   "id": "1ed0302a",
   "metadata": {},
   "source": [
    "# 6. What happens to variables in a local scope when the function call returns?"
   ]
  },
  {
   "cell_type": "markdown",
   "id": "ef7f1269",
   "metadata": {},
   "source": [
    "Ans:\n",
    "    \n",
    "When a function call returns in Python, local variables within that function's scope are destroyed and no longer accessible."
   ]
  },
  {
   "cell_type": "markdown",
   "id": "f3643fa2",
   "metadata": {},
   "source": [
    "# 7. What is the concept of a return value? Is it possible to have a return value in an expression?"
   ]
  },
  {
   "cell_type": "markdown",
   "id": "35cc81cf",
   "metadata": {},
   "source": [
    "Ans:\n",
    "    The concept of a return value refers to the value that a function sends back to the caller after its execution. It allows functions to produce output that can be used elsewhere in the program.\n",
    "\n",
    "Yes, it's possible to have a return value in an expression. You can assign the return value of a function directly to a variable or use it within an expression to perform further computations."
   ]
  },
  {
   "cell_type": "code",
   "execution_count": 9,
   "id": "12dcb111",
   "metadata": {},
   "outputs": [
    {
     "name": "stdout",
     "output_type": "stream",
     "text": [
      "Result: 8\n",
      "Final Result: 16\n"
     ]
    }
   ],
   "source": [
    "def sum(a, b):\n",
    "    return a + b\n",
    "\n",
    "# Calling the function and storing its return value in a variable\n",
    "result = sum(5, 3)\n",
    "\n",
    "# Using the return value in an expression\n",
    "final_result = result * 2\n",
    "\n",
    "print(\"Result:\", result)\n",
    "print(\"Final Result:\", final_result)"
   ]
  },
  {
   "cell_type": "markdown",
   "id": "68812c00",
   "metadata": {},
   "source": [
    "# 8.If a function does not have a return statement, what is the return value of a call to that function?"
   ]
  },
  {
   "cell_type": "markdown",
   "id": "4c47f3f2",
   "metadata": {},
   "source": [
    "Ans:\n",
    "    If a function does not have a return statement, the function call will return None by default in Python. This means that if you don't explicitly return a value from the function, it implicitly returns None."
   ]
  },
  {
   "cell_type": "code",
   "execution_count": 10,
   "id": "71daebb4",
   "metadata": {},
   "outputs": [
    {
     "name": "stdout",
     "output_type": "stream",
     "text": [
      "This function does not have a return statement.\n",
      "Return Value: None\n"
     ]
    }
   ],
   "source": [
    "#Example\n",
    "\n",
    "def func():\n",
    "    print(\"This function does not have a return statement.\")\n",
    "\n",
    "# Call the function and assign its return value to a variable\n",
    "result = func()\n",
    "\n",
    "print(\"Return Value:\", result)  # Output will be: Return Value: None"
   ]
  },
  {
   "cell_type": "markdown",
   "id": "772ae1e2",
   "metadata": {},
   "source": [
    "# 9. How do you make a function variable refer to the global variable?"
   ]
  },
  {
   "cell_type": "markdown",
   "id": "eda44df6",
   "metadata": {},
   "source": [
    "Ans:\n",
    "    To make a function variable refer to a global variable in Python, you can use the global keyword inside the function. This allows you to modify the value of a global variable from within a function."
   ]
  },
  {
   "cell_type": "code",
   "execution_count": 11,
   "id": "1843e7fd",
   "metadata": {},
   "outputs": [
    {
     "name": "stdout",
     "output_type": "stream",
     "text": [
      "Initial name: Krish\n",
      "Updated name: Krish Naik\n"
     ]
    }
   ],
   "source": [
    "# Global variable\n",
    "name = \"Krish\"\n",
    "\n",
    "def change_name(new_name):\n",
    "    global name  # Declare name as a global variable inside the function\n",
    "    name = new_name  # Assign a new value to the global variable name\n",
    "\n",
    "print(\"Initial name:\", name)  \n",
    "\n",
    "change_name(\"Krish Naik\")\n",
    "\n",
    "# Display the updated value of name\n",
    "print(\"Updated name:\", name)  "
   ]
  },
  {
   "cell_type": "markdown",
   "id": "db854927",
   "metadata": {},
   "source": [
    "# 10. What is the data type of None?"
   ]
  },
  {
   "cell_type": "markdown",
   "id": "3e228da7",
   "metadata": {},
   "source": [
    "Ans:\n",
    "    The data type of None in Python is NoneType"
   ]
  },
  {
   "cell_type": "code",
   "execution_count": 16,
   "id": "a1a1c928",
   "metadata": {},
   "outputs": [
    {
     "name": "stdout",
     "output_type": "stream",
     "text": [
      "<class 'NoneType'>\n"
     ]
    }
   ],
   "source": [
    "print(type(None))"
   ]
  },
  {
   "cell_type": "markdown",
   "id": "0a68c941",
   "metadata": {},
   "source": [
    "# 11. What does the sentence import areallyourpetsnamederic do?"
   ]
  },
  {
   "cell_type": "markdown",
   "id": "87acf9dd",
   "metadata": {},
   "source": [
    "Ans:\n",
    "     The statement \"import areallyourpetsnamederic\" does not correspond to any standard Python module or package. If executed, it would result in an ImportError since Python cannot find a module with that name."
   ]
  },
  {
   "cell_type": "code",
   "execution_count": 17,
   "id": "82a083fa",
   "metadata": {},
   "outputs": [
    {
     "ename": "ModuleNotFoundError",
     "evalue": "No module named 'areallyourpetsnamederic'",
     "output_type": "error",
     "traceback": [
      "\u001b[1;31m---------------------------------------------------------------------------\u001b[0m",
      "\u001b[1;31mModuleNotFoundError\u001b[0m                       Traceback (most recent call last)",
      "Input \u001b[1;32mIn [17]\u001b[0m, in \u001b[0;36m<cell line: 1>\u001b[1;34m()\u001b[0m\n\u001b[1;32m----> 1\u001b[0m \u001b[38;5;28;01mimport\u001b[39;00m \u001b[38;5;21;01mareallyourpetsnamederic\u001b[39;00m\n",
      "\u001b[1;31mModuleNotFoundError\u001b[0m: No module named 'areallyourpetsnamederic'"
     ]
    }
   ],
   "source": [
    "import areallyourpetsnamederic"
   ]
  },
  {
   "cell_type": "markdown",
   "id": "1a0c4e1d",
   "metadata": {},
   "source": [
    "# 12. If you had a bacon() feature in a spam module, what would you call it after importing spam?"
   ]
  },
  {
   "cell_type": "markdown",
   "id": "34e699b2",
   "metadata": {},
   "source": [
    "Ans:\n",
    "    \n",
    "If you have a bacon() function in a module named spam, after importing the spam module, you would call the bacon() function using the dot notation as follows:"
   ]
  },
  {
   "cell_type": "markdown",
   "id": "5fe0e47a",
   "metadata": {},
   "source": [
    "import spam\n",
    "\n",
    "spam.bacon()"
   ]
  },
  {
   "cell_type": "markdown",
   "id": "41bd26a9",
   "metadata": {},
   "source": [
    "Here, spam is the name of the module, and bacon() is the function within that module. Using the dot notation allows you to access and call functions or variables defined within the imported module."
   ]
  },
  {
   "cell_type": "markdown",
   "id": "bd126297",
   "metadata": {},
   "source": [
    "# 13. What can you do to save a programme from crashing if it encounters an error?"
   ]
  },
  {
   "cell_type": "markdown",
   "id": "0defbc6a",
   "metadata": {},
   "source": [
    "Ans:\n",
    "    \n",
    "To prevent a program from crashing when encountering an error, you can use error handling mechanisms in Python, such as try-except blocks. Here is an example:"
   ]
  },
  {
   "cell_type": "code",
   "execution_count": 20,
   "id": "b653ebd6",
   "metadata": {},
   "outputs": [
    {
     "name": "stdout",
     "output_type": "stream",
     "text": [
      "Cannot divide by zero!\n"
     ]
    }
   ],
   "source": [
    "try:\n",
    "    \n",
    "    result = 10 / 0  # This will raise a ZeroDivisionError\n",
    "except ZeroDivisionError:\n",
    "    print(\"Cannot divide by zero!\")\n",
    "except Exception as e:\n",
    "    print(f\"An error occurred: {e}\")"
   ]
  },
  {
   "cell_type": "markdown",
   "id": "4344d073",
   "metadata": {},
   "source": [
    "# 14. What is the purpose of the try clause? What is the purpose of the except clause?"
   ]
  },
  {
   "cell_type": "markdown",
   "id": "d2845e5c",
   "metadata": {},
   "source": [
    "Ans:\n",
    "    \n",
    "The try clause in Python is used to enclose the code that might raise an exception or error during its execution. The primary purpose of the try clause is to test a block of code for errors or exceptions.\n",
    "\n",
    "On the other hand, the except clause follows the try block and is used to handle specific exceptions or errors that might occur within the try block. If an exception occurs in the try block, the corresponding except block is executed, allowing you to handle and manage exceptions gracefully, preventing the program from crashing."
   ]
  },
  {
   "cell_type": "code",
   "execution_count": 21,
   "id": "a3cada80",
   "metadata": {},
   "outputs": [
    {
     "name": "stdout",
     "output_type": "stream",
     "text": [
      "Cannot divide by zero!\n"
     ]
    }
   ],
   "source": [
    "try:\n",
    "    \n",
    "    result = 10 / 0  # This will raise a ZeroDivisionError\n",
    "except ZeroDivisionError:\n",
    "    print(\"Cannot divide by zero!\")\n",
    "except Exception as e:\n",
    "    print(f\"An error occurred: {e}\")"
   ]
  },
  {
   "cell_type": "code",
   "execution_count": null,
   "id": "622e8229",
   "metadata": {},
   "outputs": [],
   "source": []
  }
 ],
 "metadata": {
  "kernelspec": {
   "display_name": "Python 3 (ipykernel)",
   "language": "python",
   "name": "python3"
  },
  "language_info": {
   "codemirror_mode": {
    "name": "ipython",
    "version": 3
   },
   "file_extension": ".py",
   "mimetype": "text/x-python",
   "name": "python",
   "nbconvert_exporter": "python",
   "pygments_lexer": "ipython3",
   "version": "3.9.12"
  }
 },
 "nbformat": 4,
 "nbformat_minor": 5
}
