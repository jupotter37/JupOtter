{
 "cells": [
  {
   "cell_type": "code",
   "execution_count": 62,
   "id": "edd630a5",
   "metadata": {},
   "outputs": [],
   "source": [
    "def is_even(x):\n",
    "    x = int(input(\"Write down a integer\"))\n",
    "    if is_numeric(8):\n",
    "        if type(x)==int and x//2==0:\n",
    "            print(\"This number is even\")\n",
    "        else:\n",
    "            print(\"This number is\")\n",
    "    else:\n",
    "        print(\"Please write numeric number\")\n",
    "        "
   ]
  },
  {
   "cell_type": "code",
   "execution_count": 3,
   "id": "b8869204",
   "metadata": {},
   "outputs": [],
   "source": [
    "def is_even(x:int):\n",
    "    if x%2==0:\n",
    "        print(f\"{x} is even\")\n",
    "    else:\n",
    "        print(f\"{x} is odd\")"
   ]
  },
  {
   "cell_type": "code",
   "execution_count": null,
   "id": "ec57ebbf",
   "metadata": {},
   "outputs": [],
   "source": [
    "def is_even(x:int):\n",
    "    if x%2==0:\n",
    "        print(f\"{x} is even\")\n",
    "    else:\n",
    "        print(f\"{x} is not even\")"
   ]
  },
  {
   "cell_type": "code",
   "execution_count": 4,
   "id": "042fae5d",
   "metadata": {},
   "outputs": [
    {
     "name": "stdout",
     "output_type": "stream",
     "text": [
      "8 is even\n"
     ]
    }
   ],
   "source": [
    "is_even(8)"
   ]
  },
  {
   "cell_type": "code",
   "execution_count": 8,
   "id": "87359dff",
   "metadata": {},
   "outputs": [],
   "source": [
    "def reverse_vowels(x:str):\n",
    "    ls_v = []\n",
    "    ls_k = []\n",
    "    word = dict(enumerate(x)) \n",
    "    for i,k in zip(word.keys(),word.values()):\n",
    "        if k in ['a','e','i','o','u']:\n",
    "            ls_v.append(k)\n",
    "            ls_k.append(i)\n",
    "    for  n,m in zip(ls_k,ls_v[::-1]):\n",
    "         word[n]=m\n",
    "    return ''.join(list(word.values()))     \n",
    "\n",
    "    \n",
    "            \n",
    "        "
   ]
  },
  {
   "cell_type": "code",
   "execution_count": 17,
   "id": "34acee46",
   "metadata": {},
   "outputs": [
    {
     "data": {
      "text/plain": [
       "'ubiza'"
      ]
     },
     "execution_count": 17,
     "metadata": {},
     "output_type": "execute_result"
    }
   ],
   "source": [
    "reverse_vowels('abizu')"
   ]
  },
  {
   "cell_type": "code",
   "execution_count": 4,
   "id": "111d1ebb",
   "metadata": {},
   "outputs": [
    {
     "data": {
      "text/plain": [
       "{0: 'h', 1: 'e', 2: 'l', 3: 'l', 4: 'o'}"
      ]
     },
     "execution_count": 4,
     "metadata": {},
     "output_type": "execute_result"
    }
   ],
   "source": [
    "dict(list(enumerate('hello')))"
   ]
  },
  {
   "cell_type": "code",
   "execution_count": 2,
   "id": "4e03172f",
   "metadata": {},
   "outputs": [
    {
     "data": {
      "text/plain": [
       "'holle'"
      ]
     },
     "execution_count": 2,
     "metadata": {},
     "output_type": "execute_result"
    }
   ],
   "source": [
    "reverse_vowels('hello')"
   ]
  },
  {
   "cell_type": "code",
   "execution_count": 91,
   "id": "32ad0696",
   "metadata": {},
   "outputs": [
    {
     "data": {
      "text/plain": [
       "[0, 1, 2]"
      ]
     },
     "execution_count": 91,
     "metadata": {},
     "output_type": "execute_result"
    }
   ],
   "source": [
    "[i for i,k in zip({0: 'a', 1: 'l', 2: 'i'}.keys(),{0: 'a', 1: 'l', 2: 'i'}.values())]"
   ]
  },
  {
   "cell_type": "code",
   "execution_count": 90,
   "id": "2d13702e",
   "metadata": {},
   "outputs": [
    {
     "data": {
      "text/plain": [
       "[0, 1, 2]"
      ]
     },
     "execution_count": 90,
     "metadata": {},
     "output_type": "execute_result"
    }
   ],
   "source": [
    "list({0: 'a', 1: 'l', 2: 'i'}.keys())"
   ]
  },
  {
   "cell_type": "code",
   "execution_count": null,
   "id": "2181b8e9",
   "metadata": {},
   "outputs": [],
   "source": []
  },
  {
   "cell_type": "code",
   "execution_count": null,
   "id": "72f95710",
   "metadata": {},
   "outputs": [],
   "source": []
  },
  {
   "cell_type": "code",
   "execution_count": null,
   "id": "8c4b3b5f",
   "metadata": {},
   "outputs": [],
   "source": []
  },
  {
   "cell_type": "code",
   "execution_count": 75,
   "id": "31664732",
   "metadata": {},
   "outputs": [
    {
     "data": {
      "text/plain": [
       "{0: 'a', 1: 'l', 2: 'i'}"
      ]
     },
     "execution_count": 75,
     "metadata": {},
     "output_type": "execute_result"
    }
   ],
   "source": [
    "dict(enumerate(\"ali\"))"
   ]
  },
  {
   "cell_type": "code",
   "execution_count": 71,
   "id": "277e078a",
   "metadata": {},
   "outputs": [
    {
     "data": {
      "text/plain": [
       "<enumerate at 0x1e9bba4e700>"
      ]
     },
     "execution_count": 71,
     "metadata": {},
     "output_type": "execute_result"
    }
   ],
   "source": [
    "en"
   ]
  },
  {
   "cell_type": "code",
   "execution_count": null,
   "id": "3519e009",
   "metadata": {},
   "outputs": [],
   "source": [
    "def reverse_vowels(x:str):\n",
    "    enumarate(list(x))"
   ]
  },
  {
   "cell_type": "code",
   "execution_count": 6,
   "id": "c84b7ccd",
   "metadata": {},
   "outputs": [],
   "source": [
    "x ='hello'"
   ]
  },
  {
   "cell_type": "code",
   "execution_count": 7,
   "id": "7d939af2",
   "metadata": {},
   "outputs": [],
   "source": [
    " y = x[:]"
   ]
  },
  {
   "cell_type": "code",
   "execution_count": 8,
   "id": "4c6ad687",
   "metadata": {},
   "outputs": [
    {
     "data": {
      "text/plain": [
       "'hello'"
      ]
     },
     "execution_count": 8,
     "metadata": {},
     "output_type": "execute_result"
    }
   ],
   "source": [
    "y"
   ]
  },
  {
   "cell_type": "code",
   "execution_count": 9,
   "id": "a6800ba8",
   "metadata": {},
   "outputs": [
    {
     "name": "stdout",
     "output_type": "stream",
     "text": [
      "['e', 'o']\n"
     ]
    }
   ],
   "source": [
    " ls = []\n",
    "for i in y:\n",
    "        if i in ['a','e','i','o','u']:\n",
    "            ls.append(i)\n",
    "            ls_1 = ls[:]\n",
    "print(ls_1)"
   ]
  },
  {
   "cell_type": "code",
   "execution_count": 10,
   "id": "76da20ff",
   "metadata": {},
   "outputs": [
    {
     "name": "stdout",
     "output_type": "stream",
     "text": [
      "['o', 'e']\n"
     ]
    }
   ],
   "source": [
    "ls.reverse()\n",
    "print(ls)"
   ]
  },
  {
   "cell_type": "code",
   "execution_count": 11,
   "id": "2ea8fc30",
   "metadata": {},
   "outputs": [
    {
     "name": "stdout",
     "output_type": "stream",
     "text": [
      "e o\n",
      "o e\n"
     ]
    }
   ],
   "source": [
    "for i,k in zip(ls_1,ls):\n",
    "    print(i,k)"
   ]
  },
  {
   "cell_type": "code",
   "execution_count": 12,
   "id": "f298e21c",
   "metadata": {},
   "outputs": [
    {
     "data": {
      "text/plain": [
       "['o', 'e']"
      ]
     },
     "execution_count": 12,
     "metadata": {},
     "output_type": "execute_result"
    }
   ],
   "source": [
    "ls"
   ]
  },
  {
   "cell_type": "code",
   "execution_count": 13,
   "id": "e1f1705b",
   "metadata": {},
   "outputs": [
    {
     "data": {
      "text/plain": [
       "['e', 'o']"
      ]
     },
     "execution_count": 13,
     "metadata": {},
     "output_type": "execute_result"
    }
   ],
   "source": [
    "ls_1"
   ]
  },
  {
   "cell_type": "code",
   "execution_count": 14,
   "id": "82fa023c",
   "metadata": {},
   "outputs": [
    {
     "name": "stdout",
     "output_type": "stream",
     "text": [
      "hello\n",
      "hello\n"
     ]
    }
   ],
   "source": [
    "for i,k in zip(ls_1,ls):\n",
    "    x.replace(i,k)\n",
    "    print(x)"
   ]
  },
  {
   "cell_type": "code",
   "execution_count": null,
   "id": "a6ac7ac8",
   "metadata": {},
   "outputs": [],
   "source": []
  },
  {
   "cell_type": "code",
   "execution_count": null,
   "id": "08772031",
   "metadata": {},
   "outputs": [],
   "source": []
  },
  {
   "cell_type": "code",
   "execution_count": null,
   "id": "af4fa0eb",
   "metadata": {},
   "outputs": [],
   "source": []
  },
  {
   "cell_type": "code",
   "execution_count": 15,
   "id": "5082ac45",
   "metadata": {},
   "outputs": [],
   "source": [
    "reverse_vowels('hello')"
   ]
  },
  {
   "cell_type": "code",
   "execution_count": 16,
   "id": "f3f82bb2",
   "metadata": {},
   "outputs": [],
   "source": [
    "lst = ['e','o']\n",
    "lst.reverse()"
   ]
  },
  {
   "cell_type": "code",
   "execution_count": 17,
   "id": "55c185a7",
   "metadata": {},
   "outputs": [
    {
     "data": {
      "text/plain": [
       "['o', 'e']"
      ]
     },
     "execution_count": 17,
     "metadata": {},
     "output_type": "execute_result"
    }
   ],
   "source": [
    "lst"
   ]
  },
  {
   "cell_type": "code",
   "execution_count": 18,
   "id": "ebbf55ed",
   "metadata": {},
   "outputs": [
    {
     "data": {
      "text/plain": [
       "True"
      ]
     },
     "execution_count": 18,
     "metadata": {},
     "output_type": "execute_result"
    }
   ],
   "source": [
    "x= 1\n",
    "type(x)==int"
   ]
  },
  {
   "cell_type": "code",
   "execution_count": 19,
   "id": "94891428",
   "metadata": {},
   "outputs": [
    {
     "data": {
      "text/plain": [
       "4"
      ]
     },
     "execution_count": 19,
     "metadata": {},
     "output_type": "execute_result"
    }
   ],
   "source": [
    "2+2"
   ]
  },
  {
   "cell_type": "code",
   "execution_count": 20,
   "id": "4656e7c8",
   "metadata": {},
   "outputs": [
    {
     "data": {
      "text/plain": [
       "'ali'"
      ]
     },
     "execution_count": 20,
     "metadata": {},
     "output_type": "execute_result"
    }
   ],
   "source": [
    "'ali'"
   ]
  },
  {
   "cell_type": "code",
   "execution_count": 21,
   "id": "6f4c2928",
   "metadata": {},
   "outputs": [],
   "source": [
    "person = {\n",
    "    'name':'John',\n",
    "    \"age\" : 30 ,\n",
    "    \"city\" : \"New York\"\n",
    "}"
   ]
  },
  {
   "cell_type": "code",
   "execution_count": 22,
   "id": "6c910691",
   "metadata": {},
   "outputs": [
    {
     "data": {
      "text/plain": [
       "'John'"
      ]
     },
     "execution_count": 22,
     "metadata": {},
     "output_type": "execute_result"
    }
   ],
   "source": [
    "person['name']"
   ]
  },
  {
   "cell_type": "code",
   "execution_count": 18,
   "id": "7b87d61d",
   "metadata": {},
   "outputs": [],
   "source": [
    "liste = {'number':3,'ad':'ali','memleket':'van'}"
   ]
  },
  {
   "cell_type": "code",
   "execution_count": 19,
   "id": "aa4f7c58",
   "metadata": {},
   "outputs": [
    {
     "data": {
      "text/plain": [
       "'van'"
      ]
     },
     "execution_count": 19,
     "metadata": {},
     "output_type": "execute_result"
    }
   ],
   "source": [
    "liste['memleket']"
   ]
  },
  {
   "cell_type": "code",
   "execution_count": 23,
   "id": "ca6866e5",
   "metadata": {},
   "outputs": [],
   "source": [
    "person['job'] = 'ds'"
   ]
  },
  {
   "cell_type": "code",
   "execution_count": 24,
   "id": "dc5d2bfb",
   "metadata": {},
   "outputs": [
    {
     "data": {
      "text/plain": [
       "'ds'"
      ]
     },
     "execution_count": 24,
     "metadata": {},
     "output_type": "execute_result"
    }
   ],
   "source": [
    "person['job']"
   ]
  },
  {
   "cell_type": "code",
   "execution_count": 25,
   "id": "4524a6ec",
   "metadata": {},
   "outputs": [],
   "source": [
    "del person['job']"
   ]
  },
  {
   "cell_type": "code",
   "execution_count": 26,
   "id": "a16a0e99",
   "metadata": {},
   "outputs": [
    {
     "data": {
      "text/plain": [
       "{'name': 'John', 'age': 30, 'city': 'New York'}"
      ]
     },
     "execution_count": 26,
     "metadata": {},
     "output_type": "execute_result"
    }
   ],
   "source": [
    "person"
   ]
  },
  {
   "cell_type": "code",
   "execution_count": 28,
   "id": "544f492c",
   "metadata": {},
   "outputs": [],
   "source": [
    "list1 = [1,2,3]"
   ]
  },
  {
   "cell_type": "code",
   "execution_count": 29,
   "id": "273f6930",
   "metadata": {},
   "outputs": [],
   "source": []
  },
  {
   "cell_type": "code",
   "execution_count": 30,
   "id": "87b15d21",
   "metadata": {},
   "outputs": [
    {
     "data": {
      "text/plain": [
       "True"
      ]
     },
     "execution_count": 30,
     "metadata": {},
     "output_type": "execute_result"
    }
   ],
   "source": [
    "list1 == list2"
   ]
  },
  {
   "cell_type": "code",
   "execution_count": 31,
   "id": "01c904d1",
   "metadata": {},
   "outputs": [
    {
     "data": {
      "text/plain": [
       "True"
      ]
     },
     "execution_count": 31,
     "metadata": {},
     "output_type": "execute_result"
    }
   ],
   "source": [
    "list2 == list1"
   ]
  },
  {
   "cell_type": "code",
   "execution_count": 34,
   "id": "c3f2be2b",
   "metadata": {},
   "outputs": [],
   "source": [
    "x = 5\n",
    "y = 10"
   ]
  },
  {
   "cell_type": "code",
   "execution_count": 35,
   "id": "7e18940b",
   "metadata": {},
   "outputs": [],
   "source": [
    "temp = x "
   ]
  },
  {
   "cell_type": "code",
   "execution_count": 36,
   "id": "73e2feda",
   "metadata": {},
   "outputs": [],
   "source": [
    "x = y "
   ]
  },
  {
   "cell_type": "code",
   "execution_count": 37,
   "id": "a80c30d4",
   "metadata": {},
   "outputs": [],
   "source": [
    "y = temp"
   ]
  },
  {
   "cell_type": "code",
   "execution_count": 38,
   "id": "f3fe7585",
   "metadata": {},
   "outputs": [
    {
     "name": "stdout",
     "output_type": "stream",
     "text": [
      "10 5\n"
     ]
    }
   ],
   "source": [
    "print(x,y)"
   ]
  },
  {
   "cell_type": "code",
   "execution_count": 39,
   "id": "4c710390",
   "metadata": {},
   "outputs": [],
   "source": [
    "x= 5\n",
    "y = 10"
   ]
  },
  {
   "cell_type": "code",
   "execution_count": 40,
   "id": "5463743f",
   "metadata": {},
   "outputs": [
    {
     "name": "stdout",
     "output_type": "stream",
     "text": [
      "10 5\n"
     ]
    }
   ],
   "source": [
    "x,y = y, x \n",
    "print(x,y)"
   ]
  },
  {
   "cell_type": "code",
   "execution_count": 47,
   "id": "e10010df",
   "metadata": {},
   "outputs": [],
   "source": [
    "x = 117"
   ]
  },
  {
   "cell_type": "code",
   "execution_count": 48,
   "id": "5949c7b0",
   "metadata": {},
   "outputs": [],
   "source": [
    "ls = list(range(int(x/2)+1))\n",
    "ls.append(x)"
   ]
  },
  {
   "cell_type": "code",
   "execution_count": 52,
   "id": "983e1d12",
   "metadata": {},
   "outputs": [
    {
     "data": {
      "text/plain": [
       "0"
      ]
     },
     "execution_count": 52,
     "metadata": {},
     "output_type": "execute_result"
    }
   ],
   "source": [
    "ls.pop(0)"
   ]
  },
  {
   "cell_type": "code",
   "execution_count": 53,
   "id": "b1186ac8",
   "metadata": {},
   "outputs": [
    {
     "data": {
      "text/plain": [
       "[1,\n",
       " 2,\n",
       " 3,\n",
       " 4,\n",
       " 5,\n",
       " 6,\n",
       " 7,\n",
       " 8,\n",
       " 9,\n",
       " 10,\n",
       " 11,\n",
       " 12,\n",
       " 13,\n",
       " 14,\n",
       " 15,\n",
       " 16,\n",
       " 17,\n",
       " 18,\n",
       " 19,\n",
       " 20,\n",
       " 21,\n",
       " 22,\n",
       " 23,\n",
       " 24,\n",
       " 25,\n",
       " 26,\n",
       " 27,\n",
       " 28,\n",
       " 29,\n",
       " 30,\n",
       " 31,\n",
       " 32,\n",
       " 33,\n",
       " 34,\n",
       " 35,\n",
       " 36,\n",
       " 37,\n",
       " 38,\n",
       " 39,\n",
       " 40,\n",
       " 41,\n",
       " 42,\n",
       " 43,\n",
       " 44,\n",
       " 45,\n",
       " 46,\n",
       " 47,\n",
       " 48,\n",
       " 49,\n",
       " 50,\n",
       " 51,\n",
       " 52,\n",
       " 53,\n",
       " 54,\n",
       " 55,\n",
       " 56,\n",
       " 57,\n",
       " 58,\n",
       " 117]"
      ]
     },
     "execution_count": 53,
     "metadata": {},
     "output_type": "execute_result"
    }
   ],
   "source": [
    "ls"
   ]
  },
  {
   "cell_type": "code",
   "execution_count": 123,
   "id": "659ddd7c",
   "metadata": {},
   "outputs": [],
   "source": [
    "def factorial(x):\n",
    "    if x==0 or x==1:\n",
    "        return 1\n",
    "    return x*factorial(x-1)"
   ]
  },
  {
   "cell_type": "code",
   "execution_count": null,
   "id": "156426bb",
   "metadata": {},
   "outputs": [],
   "source": []
  },
  {
   "cell_type": "code",
   "execution_count": 20,
   "id": "fddba3cf",
   "metadata": {},
   "outputs": [],
   "source": [
    "def factorial(x):\n",
    "    if x==0 or x==1:\n",
    "        return 1\n",
    "    return x*factorial(x-1)"
   ]
  },
  {
   "cell_type": "code",
   "execution_count": null,
   "id": "2aad2012",
   "metadata": {},
   "outputs": [],
   "source": []
  },
  {
   "cell_type": "code",
   "execution_count": 21,
   "id": "7dadc43a",
   "metadata": {},
   "outputs": [
    {
     "data": {
      "text/plain": [
       "120"
      ]
     },
     "execution_count": 21,
     "metadata": {},
     "output_type": "execute_result"
    }
   ],
   "source": [
    "factorial(5)"
   ]
  },
  {
   "cell_type": "code",
   "execution_count": null,
   "id": "e98a9fdc",
   "metadata": {},
   "outputs": [],
   "source": []
  },
  {
   "cell_type": "code",
   "execution_count": null,
   "id": "bc088218",
   "metadata": {},
   "outputs": [],
   "source": []
  },
  {
   "cell_type": "code",
   "execution_count": null,
   "id": "2dc4de86",
   "metadata": {},
   "outputs": [],
   "source": []
  },
  {
   "cell_type": "code",
   "execution_count": null,
   "id": "4463b15d",
   "metadata": {},
   "outputs": [],
   "source": []
  },
  {
   "cell_type": "code",
   "execution_count": null,
   "id": "8e5d0384",
   "metadata": {},
   "outputs": [],
   "source": []
  },
  {
   "cell_type": "code",
   "execution_count": null,
   "id": "2fd2485c",
   "metadata": {},
   "outputs": [],
   "source": []
  },
  {
   "cell_type": "code",
   "execution_count": 124,
   "id": "b21aaef1",
   "metadata": {},
   "outputs": [
    {
     "data": {
      "text/plain": [
       "120"
      ]
     },
     "execution_count": 124,
     "metadata": {},
     "output_type": "execute_result"
    }
   ],
   "source": [
    "factorial(5)"
   ]
  },
  {
   "cell_type": "code",
   "execution_count": 54,
   "id": "adc06325",
   "metadata": {},
   "outputs": [
    {
     "name": "stdout",
     "output_type": "stream",
     "text": [
      "117 is not a prime number\n"
     ]
    }
   ],
   "source": [
    "list1 = []\n",
    "for i in ls:\n",
    "    if x%i==0:\n",
    "        list1.append(i)a\n",
    "        \n",
    "    print(f'{x} is a prime number')\n",
    "else:\n",
    "    print(f'{x} is not a prime number')"
   ]
  },
  {
   "cell_type": "code",
   "execution_count": null,
   "id": "875df130",
   "metadata": {},
   "outputs": [],
   "source": []
  },
  {
   "cell_type": "code",
   "execution_count": 55,
   "id": "0c38623b",
   "metadata": {},
   "outputs": [
    {
     "ename": "NameError",
     "evalue": "name 'factorial' is not defined",
     "output_type": "error",
     "traceback": [
      "\u001b[1;31m---------------------------------------------------------------------------\u001b[0m",
      "\u001b[1;31mNameError\u001b[0m                                 Traceback (most recent call last)",
      "\u001b[1;32m~\\AppData\\Local\\Temp\\ipykernel_8312\\4286945680.py\u001b[0m in \u001b[0;36m<module>\u001b[1;34m\u001b[0m\n\u001b[1;32m----> 1\u001b[1;33m \u001b[0mfactorial\u001b[0m\u001b[1;33m\u001b[0m\u001b[1;33m\u001b[0m\u001b[0m\n\u001b[0m",
      "\u001b[1;31mNameError\u001b[0m: name 'factorial' is not defined"
     ]
    }
   ],
   "source": []
  },
  {
   "cell_type": "code",
   "execution_count": 65,
   "id": "a90a7cd9",
   "metadata": {},
   "outputs": [
    {
     "name": "stdout",
     "output_type": "stream",
     "text": [
      "Enter a number : a\n",
      "Please enter a integer\n"
     ]
    }
   ],
   "source": [
    "try:\n",
    "    x = int(input(\"Enter a number : \"))\n",
    "except :\n",
    "    print('Please enter a integer')"
   ]
  },
  {
   "cell_type": "code",
   "execution_count": 129,
   "id": "0ed93401",
   "metadata": {},
   "outputs": [],
   "source": [
    "def factorial(x:int)->int:\n",
    "    y = 1\n",
    "    \n",
    "    if x<0:\n",
    "        print(\"Negative numbers do not have factorial\")\n",
    "    if x == 0 : \n",
    "        print(f\"Factorial {x} is 1\")\n",
    "    else:\n",
    "        for i in range(1,x+1):\n",
    "            y*=i\n",
    "    return y\n",
    "            \n",
    "        "
   ]
  },
  {
   "cell_type": "code",
   "execution_count": 132,
   "id": "6dc2ed7a",
   "metadata": {},
   "outputs": [
    {
     "name": "stdout",
     "output_type": "stream",
     "text": [
      "Factorial 0 is 1\n"
     ]
    },
    {
     "data": {
      "text/plain": [
       "1"
      ]
     },
     "execution_count": 132,
     "metadata": {},
     "output_type": "execute_result"
    }
   ],
   "source": [
    "factorial(0)"
   ]
  },
  {
   "cell_type": "code",
   "execution_count": 137,
   "id": "c02022d1",
   "metadata": {},
   "outputs": [],
   "source": [
    "def factorial(x):\n",
    "    y= 1\n",
    "    if x<0:\n",
    "        print('No factorial value')\n",
    "    else:\n",
    "        for i in range(1,x+1):\n",
    "            y*=(i)\n",
    "    return y        "
   ]
  },
  {
   "cell_type": "code",
   "execution_count": 138,
   "id": "d49fce3d",
   "metadata": {},
   "outputs": [
    {
     "data": {
      "text/plain": [
       "120"
      ]
     },
     "execution_count": 138,
     "metadata": {},
     "output_type": "execute_result"
    }
   ],
   "source": [
    "factorial(5)"
   ]
  },
  {
   "cell_type": "code",
   "execution_count": 66,
   "id": "cd72a771",
   "metadata": {},
   "outputs": [],
   "source": [
    "import random"
   ]
  },
  {
   "cell_type": "code",
   "execution_count": 70,
   "id": "e1856f76",
   "metadata": {},
   "outputs": [
    {
     "data": {
      "text/plain": [
       "9"
      ]
     },
     "execution_count": 70,
     "metadata": {},
     "output_type": "execute_result"
    }
   ],
   "source": [
    "int(random.random()*10)"
   ]
  },
  {
   "cell_type": "code",
   "execution_count": 22,
   "id": "c814003a",
   "metadata": {},
   "outputs": [],
   "source": [
    "import random"
   ]
  },
  {
   "cell_type": "code",
   "execution_count": 26,
   "id": "12ada535",
   "metadata": {},
   "outputs": [
    {
     "data": {
      "text/plain": [
       "7"
      ]
     },
     "execution_count": 26,
     "metadata": {},
     "output_type": "execute_result"
    }
   ],
   "source": [
    "int(random.random()*10)"
   ]
  },
  {
   "cell_type": "code",
   "execution_count": null,
   "id": "88bf0860",
   "metadata": {},
   "outputs": [],
   "source": []
  },
  {
   "cell_type": "code",
   "execution_count": null,
   "id": "32227086",
   "metadata": {},
   "outputs": [],
   "source": []
  },
  {
   "cell_type": "code",
   "execution_count": null,
   "id": "1c042ff9",
   "metadata": {},
   "outputs": [],
   "source": []
  },
  {
   "cell_type": "code",
   "execution_count": null,
   "id": "238c195f",
   "metadata": {},
   "outputs": [],
   "source": []
  },
  {
   "cell_type": "code",
   "execution_count": null,
   "id": "2e28e36f",
   "metadata": {},
   "outputs": [],
   "source": []
  },
  {
   "cell_type": "code",
   "execution_count": 72,
   "id": "43db0f09",
   "metadata": {},
   "outputs": [
    {
     "data": {
      "text/plain": [
       "517"
      ]
     },
     "execution_count": 72,
     "metadata": {},
     "output_type": "execute_result"
    }
   ],
   "source": [
    "random.randint(1,1000)"
   ]
  },
  {
   "cell_type": "code",
   "execution_count": 28,
   "id": "33754e6f",
   "metadata": {},
   "outputs": [
    {
     "data": {
      "text/plain": [
       "77"
      ]
     },
     "execution_count": 28,
     "metadata": {},
     "output_type": "execute_result"
    }
   ],
   "source": [
    "random.randint(1,100)"
   ]
  },
  {
   "cell_type": "code",
   "execution_count": null,
   "id": "259401f0",
   "metadata": {},
   "outputs": [],
   "source": []
  },
  {
   "cell_type": "code",
   "execution_count": null,
   "id": "70de102e",
   "metadata": {},
   "outputs": [],
   "source": []
  },
  {
   "cell_type": "code",
   "execution_count": null,
   "id": "0772d22e",
   "metadata": {},
   "outputs": [],
   "source": []
  },
  {
   "cell_type": "code",
   "execution_count": 78,
   "id": "ddf4afa4",
   "metadata": {},
   "outputs": [
    {
     "data": {
      "text/plain": [
       "678"
      ]
     },
     "execution_count": 78,
     "metadata": {},
     "output_type": "execute_result"
    }
   ],
   "source": [
    "random.randrange(0,1000,2)"
   ]
  },
  {
   "cell_type": "code",
   "execution_count": 30,
   "id": "56c9b7da",
   "metadata": {},
   "outputs": [
    {
     "data": {
      "text/plain": [
       "77"
      ]
     },
     "execution_count": 30,
     "metadata": {},
     "output_type": "execute_result"
    }
   ],
   "source": [
    "random.randrange(0,100,7)"
   ]
  },
  {
   "cell_type": "code",
   "execution_count": null,
   "id": "4c3cbe3f",
   "metadata": {},
   "outputs": [],
   "source": []
  },
  {
   "cell_type": "code",
   "execution_count": 81,
   "id": "7519153d",
   "metadata": {},
   "outputs": [],
   "source": [
    "numlist = random.sample(range(0,100),7)"
   ]
  },
  {
   "cell_type": "code",
   "execution_count": 32,
   "id": "02da2776",
   "metadata": {},
   "outputs": [
    {
     "data": {
      "text/plain": [
       "[92, 17, 58, 96, 14]"
      ]
     },
     "execution_count": 32,
     "metadata": {},
     "output_type": "execute_result"
    }
   ],
   "source": [
    "\n",
    "\n",
    "random.sample(range(0,100),5)"
   ]
  },
  {
   "cell_type": "code",
   "execution_count": 82,
   "id": "b1129f9c",
   "metadata": {},
   "outputs": [
    {
     "data": {
      "text/plain": [
       "[99, 86, 92, 1, 95, 35, 75]"
      ]
     },
     "execution_count": 82,
     "metadata": {},
     "output_type": "execute_result"
    }
   ],
   "source": [
    "numlist"
   ]
  },
  {
   "cell_type": "code",
   "execution_count": 84,
   "id": "39ed43cd",
   "metadata": {},
   "outputs": [
    {
     "name": "stdout",
     "output_type": "stream",
     "text": [
      "[0, 1, 1, 2, 3, 5, 8, 13, 21, 34]\n"
     ]
    }
   ],
   "source": [
    "count = 0\n",
    "ls = [0,1]\n",
    "while count <8:\n",
    "    x = ls[-1]+ls[-2]\n",
    "    ls.append(x)\n",
    "    count +=1\n",
    "    \n",
    "print(ls)"
   ]
  },
  {
   "cell_type": "code",
   "execution_count": 37,
   "id": "db44bc04",
   "metadata": {},
   "outputs": [],
   "source": [
    "def f(x):\n",
    "    count=0\n",
    "    ls = [0,1]\n",
    "    while count<x-2:\n",
    "        \n",
    "        ls.append(ls[-1]+ls[-2])\n",
    "        \n",
    "        count +=1\n",
    "    print(ls)\n"
   ]
  },
  {
   "cell_type": "code",
   "execution_count": 38,
   "id": "eeb364a1",
   "metadata": {},
   "outputs": [
    {
     "name": "stdout",
     "output_type": "stream",
     "text": [
      "[0, 1, 1, 2, 3]\n"
     ]
    }
   ],
   "source": [
    "f(5)"
   ]
  },
  {
   "cell_type": "code",
   "execution_count": null,
   "id": "55daad6e",
   "metadata": {},
   "outputs": [],
   "source": []
  },
  {
   "cell_type": "code",
   "execution_count": null,
   "id": "bce3507e",
   "metadata": {},
   "outputs": [],
   "source": []
  },
  {
   "cell_type": "code",
   "execution_count": null,
   "id": "fc2d8bb8",
   "metadata": {},
   "outputs": [],
   "source": [
    "\"\"\"\"\n",
    "Q3. Write a code snippet to reverse a string.\n",
    "Ans. Here, we have reversed a string without using any in-built function.\n",
    "\"\"\"\""
   ]
  },
  {
   "cell_type": "code",
   "execution_count": 85,
   "id": "07615322",
   "metadata": {},
   "outputs": [],
   "source": [
    "str1  = \"Analytic Geometry\""
   ]
  },
  {
   "cell_type": "code",
   "execution_count": 87,
   "id": "589d1af0",
   "metadata": {},
   "outputs": [
    {
     "data": {
      "text/plain": [
       "'yrtemoeG citylanA'"
      ]
     },
     "execution_count": 87,
     "metadata": {},
     "output_type": "execute_result"
    }
   ],
   "source": [
    "\"\".join(list(str1)[::-1])"
   ]
  },
  {
   "cell_type": "code",
   "execution_count": 39,
   "id": "8fdfcdcf",
   "metadata": {},
   "outputs": [
    {
     "data": {
      "text/plain": [
       "'yrtemoeG citylanA'"
      ]
     },
     "execution_count": 39,
     "metadata": {},
     "output_type": "execute_result"
    }
   ],
   "source": [
    "\"Analytic Geometry\"[::-1]"
   ]
  },
  {
   "cell_type": "code",
   "execution_count": 88,
   "id": "c3e4a519",
   "metadata": {},
   "outputs": [],
   "source": [
    "x = \"abckcba\""
   ]
  },
  {
   "cell_type": "code",
   "execution_count": 91,
   "id": "24792853",
   "metadata": {},
   "outputs": [],
   "source": [
    "import math"
   ]
  },
  {
   "cell_type": "code",
   "execution_count": 92,
   "id": "6588f345",
   "metadata": {},
   "outputs": [
    {
     "data": {
      "text/plain": [
       "4"
      ]
     },
     "execution_count": 92,
     "metadata": {},
     "output_type": "execute_result"
    }
   ],
   "source": [
    "math.ceil(len(x)/2)"
   ]
  },
  {
   "cell_type": "code",
   "execution_count": 93,
   "id": "6875592d",
   "metadata": {},
   "outputs": [
    {
     "data": {
      "text/plain": [
       "3"
      ]
     },
     "execution_count": 93,
     "metadata": {},
     "output_type": "execute_result"
    }
   ],
   "source": [
    "math.floor(len(x)/2)"
   ]
  },
  {
   "cell_type": "code",
   "execution_count": 118,
   "id": "9f4722e9",
   "metadata": {},
   "outputs": [
    {
     "name": "stdout",
     "output_type": "stream",
     "text": [
      "abckcba is a polindrome\n"
     ]
    }
   ],
   "source": [
    "if len(x)%2==0:\n",
    "    if x[:len(x)/2] == x[len(x)/2:]:\n",
    "        print(f'{x} is a polindrome')\n",
    "    else:\n",
    "        print(f'{x} is not a polindrome')\n",
    "else:\n",
    "    if x[:math.floor(len(x)/2)]==x[:math.floor(len(x)/2):-1]:\n",
    "        print(f'{x} is a polindrome')\n",
    "    else:\n",
    "        print(f'{x} is not a polindrome')\n",
    "                           \n",
    "                    \n",
    "              "
   ]
  },
  {
   "cell_type": "code",
   "execution_count": 112,
   "id": "a9216815",
   "metadata": {
    "scrolled": true
   },
   "outputs": [
    {
     "data": {
      "text/plain": [
       "'ckcba'"
      ]
     },
     "execution_count": 112,
     "metadata": {},
     "output_type": "execute_result"
    }
   ],
   "source": [
    "x[math.ceil(len(x)/2)::-1]"
   ]
  },
  {
   "cell_type": "code",
   "execution_count": 102,
   "id": "725142fa",
   "metadata": {},
   "outputs": [
    {
     "data": {
      "text/plain": [
       "-7"
      ]
     },
     "execution_count": 102,
     "metadata": {},
     "output_type": "execute_result"
    }
   ],
   "source": [
    "-1*math.floor(len(x))"
   ]
  },
  {
   "cell_type": "code",
   "execution_count": 106,
   "id": "2f0282ff",
   "metadata": {},
   "outputs": [
    {
     "data": {
      "text/plain": [
       "3"
      ]
     },
     "execution_count": 106,
     "metadata": {},
     "output_type": "execute_result"
    }
   ],
   "source": [
    "math.floor(len(x)/2)"
   ]
  },
  {
   "cell_type": "code",
   "execution_count": 110,
   "id": "da6ae849",
   "metadata": {},
   "outputs": [
    {
     "data": {
      "text/plain": [
       "4"
      ]
     },
     "execution_count": 110,
     "metadata": {},
     "output_type": "execute_result"
    }
   ],
   "source": [
    "math.ceil(len(x)/2)"
   ]
  },
  {
   "cell_type": "code",
   "execution_count": 113,
   "id": "44aa917c",
   "metadata": {},
   "outputs": [
    {
     "data": {
      "text/plain": [
       "4"
      ]
     },
     "execution_count": 113,
     "metadata": {},
     "output_type": "execute_result"
    }
   ],
   "source": [
    "math.ceil(len(x)/2)"
   ]
  },
  {
   "cell_type": "code",
   "execution_count": null,
   "id": "94bc2817",
   "metadata": {},
   "outputs": [],
   "source": [
    "x[:3:-1]"
   ]
  },
  {
   "cell_type": "code",
   "execution_count": 124,
   "id": "4e4447a8",
   "metadata": {},
   "outputs": [],
   "source": [
    "with open('abc.txt','w') as f:\n",
    "    pass\n",
    "    "
   ]
  },
  {
   "cell_type": "code",
   "execution_count": 126,
   "id": "c8333055",
   "metadata": {},
   "outputs": [],
   "source": [
    "with open('xyz.txt','w') as f:\n",
    "    f.write('script')\n",
    "f.close()"
   ]
  },
  {
   "cell_type": "code",
   "execution_count": 127,
   "id": "2e00fd51",
   "metadata": {},
   "outputs": [
    {
     "name": "stdout",
     "output_type": "stream",
     "text": [
      "script\n"
     ]
    }
   ],
   "source": [
    "with open('xyz.txt','r') as f:\n",
    "    x= f.read()\n",
    "    print(x)\n",
    "f.close()"
   ]
  },
  {
   "cell_type": "code",
   "execution_count": 120,
   "id": "d0ac5afd",
   "metadata": {},
   "outputs": [],
   "source": [
    "import os"
   ]
  },
  {
   "cell_type": "code",
   "execution_count": 127,
   "id": "d6d14374",
   "metadata": {},
   "outputs": [],
   "source": [
    "f.close()"
   ]
  },
  {
   "cell_type": "code",
   "execution_count": 1,
   "id": "04184784",
   "metadata": {},
   "outputs": [
    {
     "data": {
      "application/javascript": [
       "\n",
       "        if (window._pyforest_update_imports_cell) { window._pyforest_update_imports_cell('import os'); }\n",
       "    "
      ],
      "text/plain": [
       "<IPython.core.display.Javascript object>"
      ]
     },
     "metadata": {},
     "output_type": "display_data"
    }
   ],
   "source": [
    "os.remove('xyz.txt')"
   ]
  },
  {
   "cell_type": "code",
   "execution_count": 129,
   "id": "5358e8c4",
   "metadata": {},
   "outputs": [
    {
     "data": {
      "text/plain": [
       "1"
      ]
     },
     "execution_count": 129,
     "metadata": {},
     "output_type": "execute_result"
    }
   ],
   "source": [
    "os.system('abc.txt')"
   ]
  },
  {
   "cell_type": "code",
   "execution_count": 3,
   "id": "38b5b4af",
   "metadata": {},
   "outputs": [],
   "source": [
    "list1 = [1,1,2,3,4,5,6]"
   ]
  },
  {
   "cell_type": "code",
   "execution_count": null,
   "id": "16046832",
   "metadata": {},
   "outputs": [],
   "source": [
    "list1 = "
   ]
  },
  {
   "cell_type": "code",
   "execution_count": null,
   "id": "0852d130",
   "metadata": {},
   "outputs": [],
   "source": [
    "#prime number icin 2 den basla karkok +1 icin butun sayilara bol eger kalan sifir veren varsa prime degil\n",
    "#kaln sifir veren yoksa prime\n"
   ]
  },
  {
   "cell_type": "code",
   "execution_count": 4,
   "id": "776dc0e7",
   "metadata": {},
   "outputs": [
    {
     "data": {
      "text/plain": [
       "3"
      ]
     },
     "execution_count": 4,
     "metadata": {},
     "output_type": "execute_result"
    }
   ],
   "source": [
    "from functools import reduce\n",
    "\n",
    "reduce(lambda x, y: x if x < y else y, [5,7,3,4,5,6,])"
   ]
  },
  {
   "cell_type": "code",
   "execution_count": 10,
   "id": "3f2b9c1d",
   "metadata": {},
   "outputs": [],
   "source": [
    "dellist = [5,7,3,4,5,6,1]"
   ]
  },
  {
   "cell_type": "code",
   "execution_count": 11,
   "id": "c3d9e640",
   "metadata": {},
   "outputs": [],
   "source": [
    "del dellist[0]"
   ]
  },
  {
   "cell_type": "code",
   "execution_count": 12,
   "id": "db02ce5a",
   "metadata": {},
   "outputs": [
    {
     "data": {
      "text/plain": [
       "[7, 3, 4, 5, 6, 1]"
      ]
     },
     "execution_count": 12,
     "metadata": {},
     "output_type": "execute_result"
    }
   ],
   "source": [
    "dellist"
   ]
  },
  {
   "cell_type": "code",
   "execution_count": 14,
   "id": "870d6bd9",
   "metadata": {},
   "outputs": [
    {
     "ename": "AttributeError",
     "evalue": "'list' object has no attribute 'max'",
     "output_type": "error",
     "traceback": [
      "\u001b[1;31m---------------------------------------------------------------------------\u001b[0m",
      "\u001b[1;31mAttributeError\u001b[0m                            Traceback (most recent call last)",
      "\u001b[1;32m~\\AppData\\Local\\Temp\\ipykernel_4864\\3888764247.py\u001b[0m in \u001b[0;36m<module>\u001b[1;34m\u001b[0m\n\u001b[1;32m----> 1\u001b[1;33m \u001b[0mlist1\u001b[0m\u001b[1;33m.\u001b[0m\u001b[0mmax\u001b[0m\u001b[1;33m(\u001b[0m\u001b[1;33m)\u001b[0m\u001b[1;33m\u001b[0m\u001b[1;33m\u001b[0m\u001b[0m\n\u001b[0m",
      "\u001b[1;31mAttributeError\u001b[0m: 'list' object has no attribute 'max'"
     ]
    }
   ],
   "source": [
    "list1"
   ]
  },
  {
   "cell_type": "code",
   "execution_count": 15,
   "id": "7347ddc3",
   "metadata": {},
   "outputs": [
    {
     "data": {
      "text/plain": [
       "6"
      ]
     },
     "execution_count": 15,
     "metadata": {},
     "output_type": "execute_result"
    }
   ],
   "source": [
    "max(list1)"
   ]
  },
  {
   "cell_type": "code",
   "execution_count": 16,
   "id": "4784f038",
   "metadata": {},
   "outputs": [
    {
     "data": {
      "text/plain": [
       "1"
      ]
     },
     "execution_count": 16,
     "metadata": {},
     "output_type": "execute_result"
    }
   ],
   "source": [
    "min(list1)"
   ]
  },
  {
   "cell_type": "code",
   "execution_count": 17,
   "id": "28d193fe",
   "metadata": {},
   "outputs": [
    {
     "data": {
      "text/plain": [
       "3"
      ]
     },
     "execution_count": 17,
     "metadata": {},
     "output_type": "execute_result"
    }
   ],
   "source": [
    "min([5,7,3,4,5,6,])"
   ]
  },
  {
   "cell_type": "code",
   "execution_count": 18,
   "id": "6ff09702",
   "metadata": {},
   "outputs": [],
   "source": [
    "dic = {\"x\":3,\"y\":4,\"z\":5,\"t\":10}"
   ]
  },
  {
   "cell_type": "code",
   "execution_count": 20,
   "id": "037643b2",
   "metadata": {},
   "outputs": [
    {
     "data": {
      "text/plain": [
       "3"
      ]
     },
     "execution_count": 20,
     "metadata": {},
     "output_type": "execute_result"
    }
   ],
   "source": [
    "min(dic.values())"
   ]
  },
  {
   "cell_type": "code",
   "execution_count": 26,
   "id": "5bb549de",
   "metadata": {},
   "outputs": [],
   "source": [
    "tup = ((0,1,2,3),(4,5,6,7),(8,9,10))"
   ]
  },
  {
   "cell_type": "code",
   "execution_count": 27,
   "id": "884fdde7",
   "metadata": {},
   "outputs": [
    {
     "data": {
      "text/plain": [
       "5.0"
      ]
     },
     "execution_count": 27,
     "metadata": {},
     "output_type": "execute_result"
    }
   ],
   "source": [
    "sum([y for i in tup for y in i])/len([y for i in tup for y in i])"
   ]
  },
  {
   "cell_type": "code",
   "execution_count": 25,
   "id": "7b7f6dd1",
   "metadata": {},
   "outputs": [
    {
     "data": {
      "text/plain": [
       "[0, 1, 2, 3, 4, 5, 6, 8, 9, 10]"
      ]
     },
     "execution_count": 25,
     "metadata": {},
     "output_type": "execute_result"
    }
   ],
   "source": [
    "[y for i in tup for y in i]"
   ]
  },
  {
   "cell_type": "code",
   "execution_count": null,
   "id": "be17c3eb",
   "metadata": {},
   "outputs": [],
   "source": [
    "#Check palindrome"
   ]
  },
  {
   "cell_type": "code",
   "execution_count": 1,
   "id": "1092f9d5",
   "metadata": {},
   "outputs": [],
   "source": [
    "def is_palindrome(string):\n",
    "    \n",
    "    reverse_string = string[::-1]\n",
    "    return reverse_string == string\n",
    "                        "
   ]
  },
  {
   "cell_type": "code",
   "execution_count": 2,
   "id": "317bcfda",
   "metadata": {},
   "outputs": [],
   "source": [
    "word = \"madam\""
   ]
  },
  {
   "cell_type": "code",
   "execution_count": 3,
   "id": "161ac7c7",
   "metadata": {},
   "outputs": [
    {
     "name": "stdout",
     "output_type": "stream",
     "text": [
      "madam is palindrome\n"
     ]
    }
   ],
   "source": [
    "if is_palindrome(word):\n",
    "    print( word,\"is palindrome\")\n",
    "else : \n",
    "    print(word, \"is not a palindroeme\")\n",
    "    "
   ]
  },
  {
   "cell_type": "code",
   "execution_count": null,
   "id": "f295ccb5",
   "metadata": {},
   "outputs": [],
   "source": []
  },
  {
   "cell_type": "code",
   "execution_count": null,
   "id": "ab0dacdd",
   "metadata": {},
   "outputs": [],
   "source": [
    "#write a programe to find th efactoriual of a number"
   ]
  },
  {
   "cell_type": "code",
   "execution_count": 16,
   "id": "2b0b954f",
   "metadata": {},
   "outputs": [],
   "source": [
    "def factorial(x:int):\n",
    "    value=1\n",
    "    if x <0:\n",
    "        print('Negative number has no facorial values')\n",
    "    elif x==0:\n",
    "        print(f\"Factorial of {x} = 1\")\n",
    "    else:\n",
    "        while 1<=x:\n",
    "            value *=x\n",
    "            x=(x-1)\n",
    "    return value\n",
    "        \n",
    "        "
   ]
  },
  {
   "cell_type": "code",
   "execution_count": 17,
   "id": "58cc285d",
   "metadata": {},
   "outputs": [
    {
     "data": {
      "text/plain": [
       "120"
      ]
     },
     "execution_count": 17,
     "metadata": {},
     "output_type": "execute_result"
    }
   ],
   "source": [
    "factorial(5)"
   ]
  },
  {
   "cell_type": "code",
   "execution_count": 18,
   "id": "50eb7055",
   "metadata": {},
   "outputs": [],
   "source": [
    "def factorial(n):\n",
    "    if n==0:\n",
    "        return 1\n",
    "    else:\n",
    "        return n*factorial(n-1)"
   ]
  },
  {
   "cell_type": "code",
   "execution_count": 19,
   "id": "a1b4efe6",
   "metadata": {},
   "outputs": [
    {
     "data": {
      "text/plain": [
       "120"
      ]
     },
     "execution_count": 19,
     "metadata": {},
     "output_type": "execute_result"
    }
   ],
   "source": [
    "factorial(5)"
   ]
  },
  {
   "cell_type": "code",
   "execution_count": null,
   "id": "f12c9a21",
   "metadata": {},
   "outputs": [],
   "source": [
    "#def find_largest number in a list"
   ]
  },
  {
   "cell_type": "code",
   "execution_count": 22,
   "id": "fa1e7e58",
   "metadata": {},
   "outputs": [],
   "source": [
    "def find_largest(numbers):\n",
    "    largest = numbers[0]\n",
    "    for  num in numbers:\n",
    "        if num >largest:\n",
    "                largest= num\n",
    "    return largest"
   ]
  },
  {
   "cell_type": "code",
   "execution_count": 23,
   "id": "1f674e7a",
   "metadata": {},
   "outputs": [
    {
     "data": {
      "text/plain": [
       "10"
      ]
     },
     "execution_count": 23,
     "metadata": {},
     "output_type": "execute_result"
    }
   ],
   "source": [
    "find_largest([1,2,3,4,5,6,4,6,2,8,2,10])"
   ]
  },
  {
   "cell_type": "code",
   "execution_count": null,
   "id": "c79ede08",
   "metadata": {},
   "outputs": [],
   "source": [
    "largest = numbers[0]\n",
    "for num in numbers:\n",
    "    if num>largest:\n",
    "        largest = num\n",
    "return largest"
   ]
  },
  {
   "cell_type": "code",
   "execution_count": null,
   "id": "a477b946",
   "metadata": {},
   "outputs": [],
   "source": [
    "#Write a program to calculate frequency of number in a list"
   ]
  },
  {
   "cell_type": "code",
   "execution_count": 33,
   "id": "5403bc8c",
   "metadata": {},
   "outputs": [],
   "source": [
    "def freq(liste:list):\n",
    "    \n",
    "    return {i: str(liste.count(i))+' Adet' for i in set(liste)}\n",
    "        \n",
    "        \n",
    "        "
   ]
  },
  {
   "cell_type": "code",
   "execution_count": 34,
   "id": "8ce68ded",
   "metadata": {},
   "outputs": [
    {
     "data": {
      "text/plain": [
       "{1: '4 Adet',\n",
       " 4: '1 Adet',\n",
       " 5: '1 Adet',\n",
       " 6: '3 Adet',\n",
       " 7: '1 Adet',\n",
       " 8: '4 Adet',\n",
       " 10: '1 Adet'}"
      ]
     },
     "execution_count": 34,
     "metadata": {},
     "output_type": "execute_result"
    }
   ],
   "source": [
    "freq([1,1,1,1,4,5,6,6,6,7,8,8,8,8,10])"
   ]
  },
  {
   "cell_type": "code",
   "execution_count": 28,
   "id": "8cc54eb1",
   "metadata": {},
   "outputs": [
    {
     "name": "stdout",
     "output_type": "stream",
     "text": [
      "1\n",
      "4\n",
      "5\n",
      "6\n",
      "7\n",
      "8\n",
      "10\n"
     ]
    }
   ],
   "source": [
    "for i in set([1,1,1,1,4,5,6,6,6,7,8,8,8,8,10]):\n",
    "    print(i)"
   ]
  },
  {
   "cell_type": "code",
   "execution_count": 54,
   "id": "c46ef7bd",
   "metadata": {},
   "outputs": [],
   "source": [
    "def prime(x:int):\n",
    "    for i in range(2,int(x**0.5)+1):\n",
    "        if x<2:\n",
    "            return False\n",
    "        elif x%i!=0:\n",
    "            return True\n",
    "        elif x%i==0:\n",
    "            return False\n",
    "   \n",
    "        "
   ]
  },
  {
   "cell_type": "code",
   "execution_count": null,
   "id": "6710de1f",
   "metadata": {},
   "outputs": [],
   "source": []
  },
  {
   "cell_type": "code",
   "execution_count": 40,
   "id": "880d21a9",
   "metadata": {},
   "outputs": [],
   "source": [
    "def prime(x):\n",
    "    for i in range(2,int(x**0.5)+1):\n",
    "        if x<2:\n",
    "            return False\n",
    "        elif x%i==0:\n",
    "            return False\n",
    "        elif x%i!=0:\n",
    "            return True"
   ]
  },
  {
   "cell_type": "code",
   "execution_count": 44,
   "id": "452b9c03",
   "metadata": {},
   "outputs": [
    {
     "name": "stdout",
     "output_type": "stream",
     "text": [
      "24 is not a prime\n"
     ]
    }
   ],
   "source": [
    "x = 24\n",
    "if prime(x):\n",
    "    print(f\"{x} is prime\")\n",
    "else: \n",
    "    print(f\"{x} is not a prime\")"
   ]
  },
  {
   "cell_type": "code",
   "execution_count": null,
   "id": "98388f26",
   "metadata": {},
   "outputs": [],
   "source": []
  },
  {
   "cell_type": "code",
   "execution_count": null,
   "id": "975b8cc2",
   "metadata": {},
   "outputs": [],
   "source": []
  },
  {
   "cell_type": "code",
   "execution_count": null,
   "id": "65bee710",
   "metadata": {},
   "outputs": [],
   "source": []
  },
  {
   "cell_type": "code",
   "execution_count": 55,
   "id": "0464216e",
   "metadata": {},
   "outputs": [
    {
     "name": "stdout",
     "output_type": "stream",
     "text": [
      "27  is a prime\n"
     ]
    }
   ],
   "source": [
    "num = 27 \n",
    "if prime(num):\n",
    "    print(num, ' is a prime')\n",
    "else:\n",
    "    print(num,' is not a prime')"
   ]
  },
  {
   "cell_type": "code",
   "execution_count": 41,
   "id": "137b70b1",
   "metadata": {},
   "outputs": [
    {
     "name": "stdout",
     "output_type": "stream",
     "text": [
      "27  is prime\n",
      "27 is not a prime\n",
      "27  is prime\n",
      "27  is prime\n"
     ]
    }
   ],
   "source": [
    "prime(27)"
   ]
  },
  {
   "cell_type": "code",
   "execution_count": 35,
   "id": "75ea578b",
   "metadata": {},
   "outputs": [
    {
     "data": {
      "text/plain": [
       "5.196152422706632"
      ]
     },
     "execution_count": 35,
     "metadata": {},
     "output_type": "execute_result"
    }
   ],
   "source": [
    "27**0.5"
   ]
  },
  {
   "cell_type": "code",
   "execution_count": 43,
   "id": "6fd83aa1",
   "metadata": {},
   "outputs": [
    {
     "data": {
      "text/plain": [
       "[2, 3, 4, 5]"
      ]
     },
     "execution_count": 43,
     "metadata": {},
     "output_type": "execute_result"
    }
   ],
   "source": [
    "list(range(2,int(27**0.5)+1))"
   ]
  },
  {
   "cell_type": "code",
   "execution_count": 128,
   "id": "59a5a0d1",
   "metadata": {},
   "outputs": [],
   "source": [
    "def is_prime(x):\n",
    "    if x<2:\n",
    "        return False\n",
    "    for i in range(2,int(x**0.5)+1):\n",
    "        if x%i==0:\n",
    "            return False\n",
    "    return True   "
   ]
  },
  {
   "cell_type": "code",
   "execution_count": 129,
   "id": "f19cac0d",
   "metadata": {},
   "outputs": [
    {
     "data": {
      "text/plain": [
       "True"
      ]
     },
     "execution_count": 129,
     "metadata": {},
     "output_type": "execute_result"
    }
   ],
   "source": [
    "is_prime(11)"
   ]
  },
  {
   "cell_type": "code",
   "execution_count": 140,
   "id": "9e4c5f3e",
   "metadata": {},
   "outputs": [
    {
     "name": "stdout",
     "output_type": "stream",
     "text": [
      "19  is prime\n"
     ]
    }
   ],
   "source": [
    "def is_prime(x):\n",
    "    if x<2:\n",
    "        return False\n",
    "    for i in range(2,int(x**0.5)+1):\n",
    "        if x%i==0:\n",
    "            return False\n",
    "    return True\n",
    "\n",
    "num = 19\n",
    "if is_prime(num):\n",
    "    print(num,' is prime')\n",
    "else:\n",
    "    print(num,' is not a prime')"
   ]
  },
  {
   "cell_type": "code",
   "execution_count": 130,
   "id": "c4b74a36",
   "metadata": {},
   "outputs": [
    {
     "data": {
      "text/plain": [
       "{0, 1}"
      ]
     },
     "execution_count": 130,
     "metadata": {},
     "output_type": "execute_result"
    }
   ],
   "source": [
    "set([1,2,3,5,2,0])&set([1,15,6,0])"
   ]
  },
  {
   "cell_type": "code",
   "execution_count": 141,
   "id": "1a83ca04",
   "metadata": {},
   "outputs": [],
   "source": [
    "def common(list1,list2):\n",
    "    return set([i for i in list1 if i in list2]) \n",
    "        "
   ]
  },
  {
   "cell_type": "code",
   "execution_count": 143,
   "id": "5ff22f14",
   "metadata": {},
   "outputs": [
    {
     "data": {
      "text/plain": [
       "{2, 4, 6}"
      ]
     },
     "execution_count": 143,
     "metadata": {},
     "output_type": "execute_result"
    }
   ],
   "source": [
    "common([1,2,3,4,5,6,7],[10,2,4,6])"
   ]
  },
  {
   "cell_type": "code",
   "execution_count": 168,
   "id": "37eab406",
   "metadata": {},
   "outputs": [],
   "source": [
    "def second_largest(x):\n",
    "    new_list = []\n",
    "    \n",
    "   \n",
    "    while len(new_list)<3:\n",
    "        largest = x[0]\n",
    "        for i in x:\n",
    "            if i>largest:\n",
    "                largest = i\n",
    "        x.remove(largest)\n",
    "        new_list.append(largest)\n",
    "        \n",
    " \n",
    "    return new_list[1]  \n",
    "            \n",
    "        "
   ]
  },
  {
   "cell_type": "code",
   "execution_count": 169,
   "id": "14202b3c",
   "metadata": {},
   "outputs": [
    {
     "data": {
      "text/plain": [
       "8"
      ]
     },
     "execution_count": 169,
     "metadata": {},
     "output_type": "execute_result"
    }
   ],
   "source": [
    "second_largest([1,2,3,4,5,6,7,8,9])"
   ]
  },
  {
   "cell_type": "code",
   "execution_count": 170,
   "id": "eacc75de",
   "metadata": {},
   "outputs": [],
   "source": [
    "import numpy\n",
    "def uni(list1):\n",
    "    return numpy.unique(list1)"
   ]
  },
  {
   "cell_type": "code",
   "execution_count": 171,
   "id": "7726120a",
   "metadata": {},
   "outputs": [
    {
     "data": {
      "text/plain": [
       "array([1, 2, 3, 4, 5, 6, 7])"
      ]
     },
     "execution_count": 171,
     "metadata": {},
     "output_type": "execute_result"
    }
   ],
   "source": [
    "uni([1,1,1,2,3,4,5,5,6,7,6,])"
   ]
  },
  {
   "cell_type": "code",
   "execution_count": 173,
   "id": "844d8871",
   "metadata": {},
   "outputs": [
    {
     "data": {
      "text/plain": [
       "[1, 2, 3, 4, 5, 6, 7]"
      ]
     },
     "execution_count": 173,
     "metadata": {},
     "output_type": "execute_result"
    }
   ],
   "source": [
    "list(set([1,1,1,2,3,4,5,5,6,7,6,]))"
   ]
  },
  {
   "cell_type": "code",
   "execution_count": null,
   "id": "936feb37",
   "metadata": {},
   "outputs": [],
   "source": []
  },
  {
   "cell_type": "code",
   "execution_count": 1,
   "id": "5c680620",
   "metadata": {},
   "outputs": [],
   "source": [
    "import decimal"
   ]
  },
  {
   "cell_type": "code",
   "execution_count": 3,
   "id": "36e69cae",
   "metadata": {},
   "outputs": [
    {
     "data": {
      "text/plain": [
       "Decimal('10')"
      ]
     },
     "execution_count": 3,
     "metadata": {},
     "output_type": "execute_result"
    }
   ],
   "source": [
    "decimal.Decimal(10)"
   ]
  },
  {
   "cell_type": "code",
   "execution_count": 46,
   "id": "c071cf40",
   "metadata": {},
   "outputs": [],
   "source": [
    "fib = [0,1]"
   ]
  },
  {
   "cell_type": "code",
   "execution_count": 47,
   "id": "7e917205",
   "metadata": {},
   "outputs": [
    {
     "name": "stdout",
     "output_type": "stream",
     "text": [
      "[0, 1, 1, 2, 3]\n"
     ]
    }
   ],
   "source": [
    "for i in range(5):\n",
    "    fib.append(fib[-1]+fib[-2])\n",
    "print(fib[:5])"
   ]
  },
  {
   "cell_type": "code",
   "execution_count": 48,
   "id": "56db26b5",
   "metadata": {},
   "outputs": [],
   "source": [
    "fib = [0,1]"
   ]
  },
  {
   "cell_type": "code",
   "execution_count": 53,
   "id": "2c1bc065",
   "metadata": {},
   "outputs": [
    {
     "name": "stdout",
     "output_type": "stream",
     "text": [
      "[0, 1, 1, 2, 3]\n"
     ]
    }
   ],
   "source": [
    "for i in range(5):\n",
    "    fib.append(fib[-1]+fib[-2])\n",
    "print(fib[:5])"
   ]
  },
  {
   "cell_type": "code",
   "execution_count": null,
   "id": "00d8752e",
   "metadata": {},
   "outputs": [],
   "source": []
  },
  {
   "cell_type": "code",
   "execution_count": null,
   "id": "272e90d3",
   "metadata": {},
   "outputs": [],
   "source": []
  },
  {
   "cell_type": "code",
   "execution_count": 13,
   "id": "e567bb26",
   "metadata": {},
   "outputs": [
    {
     "data": {
      "text/plain": [
       "[1, 2, 3, [3, 4, 5]]"
      ]
     },
     "execution_count": 13,
     "metadata": {},
     "output_type": "execute_result"
    }
   ],
   "source": [
    "list1 = [1,2,3]\n",
    "list1.append([3,4,5])\n",
    "list1"
   ]
  },
  {
   "cell_type": "code",
   "execution_count": 15,
   "id": "88798b11",
   "metadata": {},
   "outputs": [
    {
     "data": {
      "text/plain": [
       "[1, 2, 3, 3, 4, 5]"
      ]
     },
     "execution_count": 15,
     "metadata": {},
     "output_type": "execute_result"
    }
   ],
   "source": [
    "list1 = [1,2,3]\n",
    "list1.extend([3,4,5])\n",
    "list1"
   ]
  },
  {
   "cell_type": "code",
   "execution_count": 16,
   "id": "9d26b003",
   "metadata": {},
   "outputs": [
    {
     "data": {
      "text/plain": [
       "5"
      ]
     },
     "execution_count": 16,
     "metadata": {},
     "output_type": "execute_result"
    }
   ],
   "source": [
    "\"Pro g r amm  ing\".count(' ')"
   ]
  },
  {
   "cell_type": "code",
   "execution_count": 17,
   "id": "705da040",
   "metadata": {},
   "outputs": [],
   "source": [
    "string = \"Python is 1 \""
   ]
  },
  {
   "cell_type": "code",
   "execution_count": 55,
   "id": "93c22b23",
   "metadata": {},
   "outputs": [],
   "source": [
    "import re"
   ]
  },
  {
   "cell_type": "code",
   "execution_count": 21,
   "id": "78e7b834",
   "metadata": {},
   "outputs": [
    {
     "data": {
      "text/plain": [
       "'1'"
      ]
     },
     "execution_count": 21,
     "metadata": {},
     "output_type": "execute_result"
    }
   ],
   "source": [
    "re.sub(\"[^0-9]\",\"\",string)"
   ]
  },
  {
   "cell_type": "code",
   "execution_count": 54,
   "id": "53144c88",
   "metadata": {},
   "outputs": [],
   "source": [
    "x = \"Ali . 52 v\""
   ]
  },
  {
   "cell_type": "code",
   "execution_count": 59,
   "id": "90ef3179",
   "metadata": {},
   "outputs": [
    {
     "data": {
      "text/plain": [
       "'52'"
      ]
     },
     "execution_count": 59,
     "metadata": {},
     "output_type": "execute_result"
    }
   ],
   "source": [
    "re.sub(\"[^1-9]\",\"\",x)"
   ]
  },
  {
   "cell_type": "code",
   "execution_count": 64,
   "id": "f50208c0",
   "metadata": {},
   "outputs": [
    {
     "data": {
      "text/plain": [
       "'*** . 52 *'"
      ]
     },
     "execution_count": 64,
     "metadata": {},
     "output_type": "execute_result"
    }
   ],
   "source": [
    "re.sub(\"[A_Za-z]\",\"*\",x)"
   ]
  },
  {
   "cell_type": "code",
   "execution_count": null,
   "id": "ebdbadd6",
   "metadata": {},
   "outputs": [],
   "source": []
  },
  {
   "cell_type": "code",
   "execution_count": null,
   "id": "c6fd3374",
   "metadata": {},
   "outputs": [],
   "source": []
  },
  {
   "cell_type": "code",
   "execution_count": null,
   "id": "1040fb9d",
   "metadata": {},
   "outputs": [],
   "source": []
  },
  {
   "cell_type": "code",
   "execution_count": 22,
   "id": "3637b2ca",
   "metadata": {},
   "outputs": [
    {
     "data": {
      "text/plain": [
       "'Pythonis'"
      ]
     },
     "execution_count": 22,
     "metadata": {},
     "output_type": "execute_result"
    }
   ],
   "source": [
    "re.sub(\"[^A-Za-z]\",\"\",string)"
   ]
  },
  {
   "cell_type": "code",
   "execution_count": 26,
   "id": "94e19a12",
   "metadata": {},
   "outputs": [
    {
     "data": {
      "text/plain": [
       "[' ', ' ', ' ']"
      ]
     },
     "execution_count": 26,
     "metadata": {},
     "output_type": "execute_result"
    }
   ],
   "source": [
    "re.findall(\"[\\s]\",string)"
   ]
  },
  {
   "cell_type": "code",
   "execution_count": 27,
   "id": "dac2eef4",
   "metadata": {},
   "outputs": [
    {
     "data": {
      "text/plain": [
       "'Pythonis1'"
      ]
     },
     "execution_count": 27,
     "metadata": {},
     "output_type": "execute_result"
    }
   ],
   "source": [
    "string.replace(\" \",\"\")"
   ]
  },
  {
   "cell_type": "code",
   "execution_count": 28,
   "id": "55915ac8",
   "metadata": {},
   "outputs": [],
   "source": [
    "from random import shuffle"
   ]
  },
  {
   "cell_type": "code",
   "execution_count": 33,
   "id": "a5babd5c",
   "metadata": {},
   "outputs": [],
   "source": [
    "list1 = ['ali','veli','elli']"
   ]
  },
  {
   "cell_type": "code",
   "execution_count": 34,
   "id": "f90e3db4",
   "metadata": {},
   "outputs": [],
   "source": [
    "shuffle(list1)"
   ]
  },
  {
   "cell_type": "code",
   "execution_count": 35,
   "id": "925e676f",
   "metadata": {},
   "outputs": [
    {
     "data": {
      "text/plain": [
       "['veli', 'ali', 'elli']"
      ]
     },
     "execution_count": 35,
     "metadata": {},
     "output_type": "execute_result"
    }
   ],
   "source": [
    "list1"
   ]
  },
  {
   "cell_type": "code",
   "execution_count": 55,
   "id": "2dc95ff4",
   "metadata": {},
   "outputs": [],
   "source": [
    "def this_prime(x):\n",
    "    if x<2:\n",
    "        return False\n",
    "    for i in range(2,int(x**0.5)+1):\n",
    "        if x%i==0:\n",
    "            return False\n",
    "    return True\n",
    "\n",
    "num = 20\n",
    "\n",
    "        "
   ]
  },
  {
   "cell_type": "code",
   "execution_count": 56,
   "id": "f8e44b92",
   "metadata": {},
   "outputs": [],
   "source": [
    "def first_n(n):\n",
    "    \n",
    "    first_n = []\n",
    "    while len(first_n)<n+1:\n",
    "        for i in range(n**2):\n",
    "            if this_prime(i):\n",
    "                first_n.append(i)\n",
    "    return first_n[:5]   \n"
   ]
  },
  {
   "cell_type": "code",
   "execution_count": 57,
   "id": "8703fadf",
   "metadata": {},
   "outputs": [
    {
     "data": {
      "text/plain": [
       "[2, 3, 5, 7, 11]"
      ]
     },
     "execution_count": 57,
     "metadata": {},
     "output_type": "execute_result"
    }
   ],
   "source": [
    "first_n(5)"
   ]
  },
  {
   "cell_type": "code",
   "execution_count": 68,
   "id": "403127dd",
   "metadata": {},
   "outputs": [],
   "source": [
    "class MyMath:\n",
    "    def __init__(self,name,surname,job,salary):\n",
    "        self.name = name\n",
    "        self.surname = surname\n",
    "        self.job = job\n",
    "        self.salary = salary\n",
    "    \n",
    "    def fullname(self):\n",
    "        print(f\"{self.name+' '+ self.surname}\")"
   ]
  },
  {
   "cell_type": "code",
   "execution_count": null,
   "id": "dd77ffd8",
   "metadata": {},
   "outputs": [],
   "source": []
  },
  {
   "cell_type": "code",
   "execution_count": null,
   "id": "2343c140",
   "metadata": {},
   "outputs": [],
   "source": [
    "def __init__(self,name,surname,job,salary):\n",
    "    self.name=name\n",
    "    self.surname = surname\n",
    "    self.job = job\n",
    "    self.salary = salary"
   ]
  },
  {
   "cell_type": "code",
   "execution_count": null,
   "id": "bdcb0332",
   "metadata": {},
   "outputs": [],
   "source": []
  },
  {
   "cell_type": "code",
   "execution_count": null,
   "id": "d0654d2a",
   "metadata": {},
   "outputs": [],
   "source": []
  },
  {
   "cell_type": "code",
   "execution_count": null,
   "id": "18e29dd6",
   "metadata": {},
   "outputs": [],
   "source": []
  },
  {
   "cell_type": "code",
   "execution_count": null,
   "id": "e75a2286",
   "metadata": {},
   "outputs": [],
   "source": []
  },
  {
   "cell_type": "code",
   "execution_count": 69,
   "id": "b358aebe",
   "metadata": {},
   "outputs": [],
   "source": [
    "my = MyMath('Ali','Veli','Teacher','2000')"
   ]
  },
  {
   "cell_type": "code",
   "execution_count": 70,
   "id": "5e271277",
   "metadata": {},
   "outputs": [
    {
     "ename": "TypeError",
     "evalue": "'str' object is not callable",
     "output_type": "error",
     "traceback": [
      "\u001b[1;31m---------------------------------------------------------------------------\u001b[0m",
      "\u001b[1;31mTypeError\u001b[0m                                 Traceback (most recent call last)",
      "Cell \u001b[1;32mIn[70], line 1\u001b[0m\n\u001b[1;32m----> 1\u001b[0m my\u001b[38;5;241m.\u001b[39mx()\n",
      "\u001b[1;31mTypeError\u001b[0m: 'str' object is not callable"
     ]
    }
   ],
   "source": [
    "my.x()"
   ]
  },
  {
   "cell_type": "code",
   "execution_count": 17,
   "id": "0d0922e0",
   "metadata": {},
   "outputs": [
    {
     "data": {
      "text/plain": [
       "{'name': 'Ali', 'surname': 'Veli', 'job': 'Teacher', 'salary': '2000'}"
      ]
     },
     "execution_count": 17,
     "metadata": {},
     "output_type": "execute_result"
    }
   ],
   "source": [
    "my.__dict__"
   ]
  },
  {
   "cell_type": "code",
   "execution_count": 31,
   "id": "b889c686",
   "metadata": {},
   "outputs": [],
   "source": [
    "class Employee:\n",
    "    \"\"\"Employee Class : name, surname, pay\"\"\"\n",
    "    \n",
    "    raise_amount = 1.2\n",
    "    \n",
    "    def __init__(self, name, surname, pay):\n",
    "        self.name = name\n",
    "        self.surname = surname\n",
    "        self.pay = pay\n",
    "        \n",
    "    def fullname(self):\n",
    "        print(f\"{self.name+' '+self.surname}\")\n",
    "        \n",
    "    def pay_raised(self):\n",
    "        \n",
    "        print(f\"pay raise is  : {int(self.pay)*Employee.raise_amount}\")\n",
    "        "
   ]
  },
  {
   "cell_type": "code",
   "execution_count": 32,
   "id": "b4caf70d",
   "metadata": {},
   "outputs": [],
   "source": [
    "employ = Employee('Ali','Veli','2000')"
   ]
  },
  {
   "cell_type": "code",
   "execution_count": 33,
   "id": "6c6c9524",
   "metadata": {},
   "outputs": [
    {
     "name": "stdout",
     "output_type": "stream",
     "text": [
      "pay raise is  : 2400.0\n"
     ]
    }
   ],
   "source": [
    "employ.pay_raised()"
   ]
  },
  {
   "cell_type": "code",
   "execution_count": 34,
   "id": "04271d9e",
   "metadata": {},
   "outputs": [
    {
     "data": {
      "text/plain": [
       "1.2"
      ]
     },
     "execution_count": 34,
     "metadata": {},
     "output_type": "execute_result"
    }
   ],
   "source": [
    "employ.raise_amount"
   ]
  },
  {
   "cell_type": "code",
   "execution_count": 35,
   "id": "e4168f27",
   "metadata": {},
   "outputs": [
    {
     "data": {
      "text/plain": [
       "'2000'"
      ]
     },
     "execution_count": 35,
     "metadata": {},
     "output_type": "execute_result"
    }
   ],
   "source": [
    "employ.pay"
   ]
  },
  {
   "cell_type": "code",
   "execution_count": 36,
   "id": "e3633889",
   "metadata": {},
   "outputs": [
    {
     "name": "stdout",
     "output_type": "stream",
     "text": [
      "pay raise is  : 2400.0\n"
     ]
    }
   ],
   "source": [
    "employ.pay_raised()"
   ]
  },
  {
   "cell_type": "code",
   "execution_count": 37,
   "id": "8f716bd3",
   "metadata": {},
   "outputs": [
    {
     "ename": "NameError",
     "evalue": "name 'x' is not defined",
     "output_type": "error",
     "traceback": [
      "\u001b[1;31m---------------------------------------------------------------------------\u001b[0m",
      "\u001b[1;31mNameError\u001b[0m                                 Traceback (most recent call last)",
      "\u001b[1;32m~\\AppData\\Local\\Temp\\ipykernel_7696\\2577835645.py\u001b[0m in \u001b[0;36m<module>\u001b[1;34m\u001b[0m\n\u001b[0;32m      1\u001b[0m \u001b[0mbolunen\u001b[0m \u001b[1;33m=\u001b[0m \u001b[1;36m10\u001b[0m\u001b[1;33m\u001b[0m\u001b[1;33m\u001b[0m\u001b[0m\n\u001b[1;32m----> 2\u001b[1;33m \u001b[0mx\u001b[0m\u001b[1;33m\u001b[0m\u001b[1;33m\u001b[0m\u001b[0m\n\u001b[0m\u001b[0;32m      3\u001b[0m \u001b[0mbolen\u001b[0m \u001b[1;33m=\u001b[0m \u001b[1;36m0\u001b[0m\u001b[1;33m\u001b[0m\u001b[1;33m\u001b[0m\u001b[0m\n\u001b[0;32m      4\u001b[0m \u001b[1;33m\u001b[0m\u001b[0m\n\u001b[0;32m      5\u001b[0m \u001b[1;32mtry\u001b[0m\u001b[1;33m:\u001b[0m\u001b[1;33m\u001b[0m\u001b[1;33m\u001b[0m\u001b[0m\n",
      "\u001b[1;31mNameError\u001b[0m: name 'x' is not defined"
     ]
    }
   ],
   "source": [
    "bolunen = 10\n",
    "x\n",
    "bolen = 0\n",
    "\n",
    "try:\n",
    "    bolum=bolunen/bolen\n",
    "except ZeroDivisionError:\n",
    "    print(\"Hata\")\n",
    "    "
   ]
  },
  {
   "cell_type": "code",
   "execution_count": 40,
   "id": "3e749cb2",
   "metadata": {},
   "outputs": [
    {
     "name": "stdout",
     "output_type": "stream",
     "text": [
      "Tanimlanamayan Degisken\n"
     ]
    }
   ],
   "source": [
    "\n",
    "\n",
    "try:\n",
    "    bolunen = 10\n",
    "    x\n",
    "    bolen = 0\n",
    "    bolum=bolunen/bolen\n",
    "except ZeroDivisionError:\n",
    "    print(\"Hata\")\n",
    "    \n",
    "except NameError:\n",
    "    print(\"Tanimlanamayan Degisken\")"
   ]
  },
  {
   "cell_type": "code",
   "execution_count": 42,
   "id": "7bcc8367",
   "metadata": {},
   "outputs": [
    {
     "data": {
      "text/plain": [
       "['ALI', 'VELI', 'KIRK']"
      ]
     },
     "execution_count": 42,
     "metadata": {},
     "output_type": "execute_result"
    }
   ],
   "source": [
    "[i.upper()for  i in ['Ali','veli','kIrk']]"
   ]
  },
  {
   "cell_type": "code",
   "execution_count": 45,
   "id": "33299a01",
   "metadata": {},
   "outputs": [
    {
     "name": "stdout",
     "output_type": "stream",
     "text": [
      "sayi5\n",
      "girdiginiz sayi :  5\n",
      "program cikiliyor\n",
      "sayi6\n",
      "girdiginiz sayi :  6\n",
      "program cikiliyor\n",
      "sayi7\n",
      "girdiginiz sayi :  7\n",
      "program cikiliyor\n"
     ]
    },
    {
     "ename": "KeyboardInterrupt",
     "evalue": "Interrupted by user",
     "output_type": "error",
     "traceback": [
      "\u001b[1;31m---------------------------------------------------------------------------\u001b[0m",
      "\u001b[1;31mKeyboardInterrupt\u001b[0m                         Traceback (most recent call last)",
      "\u001b[1;32m~\\AppData\\Local\\Temp\\ipykernel_7696\\1361404686.py\u001b[0m in \u001b[0;36m<module>\u001b[1;34m\u001b[0m\n\u001b[0;32m      1\u001b[0m \u001b[1;32mwhile\u001b[0m \u001b[1;32mTrue\u001b[0m\u001b[1;33m:\u001b[0m\u001b[1;33m\u001b[0m\u001b[1;33m\u001b[0m\u001b[0m\n\u001b[0;32m      2\u001b[0m     \u001b[1;32mtry\u001b[0m\u001b[1;33m:\u001b[0m\u001b[1;33m\u001b[0m\u001b[1;33m\u001b[0m\u001b[0m\n\u001b[1;32m----> 3\u001b[1;33m         \u001b[0msayi\u001b[0m\u001b[1;33m=\u001b[0m\u001b[0mint\u001b[0m\u001b[1;33m(\u001b[0m\u001b[0minput\u001b[0m\u001b[1;33m(\u001b[0m\u001b[1;34m\"sayi\"\u001b[0m\u001b[1;33m)\u001b[0m\u001b[1;33m)\u001b[0m\u001b[1;33m\u001b[0m\u001b[1;33m\u001b[0m\u001b[0m\n\u001b[0m\u001b[0;32m      4\u001b[0m         \u001b[0mprint\u001b[0m\u001b[1;33m(\u001b[0m\u001b[1;34m\"girdiginiz sayi : \"\u001b[0m\u001b[1;33m,\u001b[0m\u001b[0msayi\u001b[0m\u001b[1;33m)\u001b[0m\u001b[1;33m\u001b[0m\u001b[1;33m\u001b[0m\u001b[0m\n\u001b[0;32m      5\u001b[0m     \u001b[1;32mexcept\u001b[0m \u001b[0mException\u001b[0m \u001b[1;32mas\u001b[0m \u001b[0me\u001b[0m\u001b[1;33m:\u001b[0m\u001b[1;33m\u001b[0m\u001b[1;33m\u001b[0m\u001b[0m\n",
      "\u001b[1;32m~\\anaconda3\\lib\\site-packages\\ipykernel\\kernelbase.py\u001b[0m in \u001b[0;36mraw_input\u001b[1;34m(self, prompt)\u001b[0m\n\u001b[0;32m   1175\u001b[0m                 \u001b[1;34m\"raw_input was called, but this frontend does not support input requests.\"\u001b[0m\u001b[1;33m\u001b[0m\u001b[1;33m\u001b[0m\u001b[0m\n\u001b[0;32m   1176\u001b[0m             )\n\u001b[1;32m-> 1177\u001b[1;33m         return self._input_request(\n\u001b[0m\u001b[0;32m   1178\u001b[0m             \u001b[0mstr\u001b[0m\u001b[1;33m(\u001b[0m\u001b[0mprompt\u001b[0m\u001b[1;33m)\u001b[0m\u001b[1;33m,\u001b[0m\u001b[1;33m\u001b[0m\u001b[1;33m\u001b[0m\u001b[0m\n\u001b[0;32m   1179\u001b[0m             \u001b[0mself\u001b[0m\u001b[1;33m.\u001b[0m\u001b[0m_parent_ident\u001b[0m\u001b[1;33m[\u001b[0m\u001b[1;34m\"shell\"\u001b[0m\u001b[1;33m]\u001b[0m\u001b[1;33m,\u001b[0m\u001b[1;33m\u001b[0m\u001b[1;33m\u001b[0m\u001b[0m\n",
      "\u001b[1;32m~\\anaconda3\\lib\\site-packages\\ipykernel\\kernelbase.py\u001b[0m in \u001b[0;36m_input_request\u001b[1;34m(self, prompt, ident, parent, password)\u001b[0m\n\u001b[0;32m   1217\u001b[0m             \u001b[1;32mexcept\u001b[0m \u001b[0mKeyboardInterrupt\u001b[0m\u001b[1;33m:\u001b[0m\u001b[1;33m\u001b[0m\u001b[1;33m\u001b[0m\u001b[0m\n\u001b[0;32m   1218\u001b[0m                 \u001b[1;31m# re-raise KeyboardInterrupt, to truncate traceback\u001b[0m\u001b[1;33m\u001b[0m\u001b[1;33m\u001b[0m\u001b[0m\n\u001b[1;32m-> 1219\u001b[1;33m                 \u001b[1;32mraise\u001b[0m \u001b[0mKeyboardInterrupt\u001b[0m\u001b[1;33m(\u001b[0m\u001b[1;34m\"Interrupted by user\"\u001b[0m\u001b[1;33m)\u001b[0m \u001b[1;32mfrom\u001b[0m \u001b[1;32mNone\u001b[0m\u001b[1;33m\u001b[0m\u001b[1;33m\u001b[0m\u001b[0m\n\u001b[0m\u001b[0;32m   1220\u001b[0m             \u001b[1;32mexcept\u001b[0m \u001b[0mException\u001b[0m\u001b[1;33m:\u001b[0m\u001b[1;33m\u001b[0m\u001b[1;33m\u001b[0m\u001b[0m\n\u001b[0;32m   1221\u001b[0m                 \u001b[0mself\u001b[0m\u001b[1;33m.\u001b[0m\u001b[0mlog\u001b[0m\u001b[1;33m.\u001b[0m\u001b[0mwarning\u001b[0m\u001b[1;33m(\u001b[0m\u001b[1;34m\"Invalid Message:\"\u001b[0m\u001b[1;33m,\u001b[0m \u001b[0mexc_info\u001b[0m\u001b[1;33m=\u001b[0m\u001b[1;32mTrue\u001b[0m\u001b[1;33m)\u001b[0m\u001b[1;33m\u001b[0m\u001b[1;33m\u001b[0m\u001b[0m\n",
      "\u001b[1;31mKeyboardInterrupt\u001b[0m: Interrupted by user"
     ]
    }
   ],
   "source": [
    "while True:\n",
    "    try:\n",
    "        sayi=int(input(\"sayi\"))\n",
    "        print(\"girdiginiz sayi : \",sayi)\n",
    "    except Exception as e:\n",
    "        print('Lutfen gecerli bir sayi giriniz')\n",
    "        print(\"Hata: \",e)\n",
    "    else:\n",
    "        print(\"program cikiliyor\")\n",
    "        break\n",
    "        "
   ]
  },
  {
   "cell_type": "code",
   "execution_count": 47,
   "id": "1b9de9be",
   "metadata": {},
   "outputs": [
    {
     "name": "stdout",
     "output_type": "stream",
     "text": [
      "sayi:ali\n",
      "Lutfen gecerli bir numerik deger giriniz\n",
      "Hata:  invalid literal for int() with base 10: 'ali'\n",
      "fina\n",
      "fina\n"
     ]
    },
    {
     "ename": "KeyboardInterrupt",
     "evalue": "Interrupted by user",
     "output_type": "error",
     "traceback": [
      "\u001b[1;31m---------------------------------------------------------------------------\u001b[0m",
      "\u001b[1;31mKeyboardInterrupt\u001b[0m                         Traceback (most recent call last)",
      "\u001b[1;32m~\\AppData\\Local\\Temp\\ipykernel_7696\\98199209.py\u001b[0m in \u001b[0;36m<module>\u001b[1;34m\u001b[0m\n\u001b[0;32m      1\u001b[0m \u001b[1;32mwhile\u001b[0m \u001b[1;32mTrue\u001b[0m\u001b[1;33m:\u001b[0m\u001b[1;33m\u001b[0m\u001b[1;33m\u001b[0m\u001b[0m\n\u001b[0;32m      2\u001b[0m     \u001b[1;32mtry\u001b[0m\u001b[1;33m:\u001b[0m\u001b[1;33m\u001b[0m\u001b[1;33m\u001b[0m\u001b[0m\n\u001b[1;32m----> 3\u001b[1;33m         \u001b[0msayi\u001b[0m \u001b[1;33m=\u001b[0m \u001b[0mint\u001b[0m\u001b[1;33m(\u001b[0m\u001b[0minput\u001b[0m\u001b[1;33m(\u001b[0m\u001b[1;34m\"sayi:\"\u001b[0m\u001b[1;33m)\u001b[0m\u001b[1;33m)\u001b[0m\u001b[1;33m\u001b[0m\u001b[1;33m\u001b[0m\u001b[0m\n\u001b[0m\u001b[0;32m      4\u001b[0m         \u001b[0mprint\u001b[0m\u001b[1;33m(\u001b[0m\u001b[1;34m\"girdiginiz sayi:\"\u001b[0m\u001b[1;33m,\u001b[0m \u001b[0msayi\u001b[0m\u001b[1;33m)\u001b[0m\u001b[1;33m\u001b[0m\u001b[1;33m\u001b[0m\u001b[0m\n\u001b[0;32m      5\u001b[0m     \u001b[1;32mexcept\u001b[0m \u001b[0mException\u001b[0m \u001b[1;32mas\u001b[0m \u001b[0me\u001b[0m\u001b[1;33m:\u001b[0m\u001b[1;33m\u001b[0m\u001b[1;33m\u001b[0m\u001b[0m\n",
      "\u001b[1;32m~\\anaconda3\\lib\\site-packages\\ipykernel\\kernelbase.py\u001b[0m in \u001b[0;36mraw_input\u001b[1;34m(self, prompt)\u001b[0m\n\u001b[0;32m   1175\u001b[0m                 \u001b[1;34m\"raw_input was called, but this frontend does not support input requests.\"\u001b[0m\u001b[1;33m\u001b[0m\u001b[1;33m\u001b[0m\u001b[0m\n\u001b[0;32m   1176\u001b[0m             )\n\u001b[1;32m-> 1177\u001b[1;33m         return self._input_request(\n\u001b[0m\u001b[0;32m   1178\u001b[0m             \u001b[0mstr\u001b[0m\u001b[1;33m(\u001b[0m\u001b[0mprompt\u001b[0m\u001b[1;33m)\u001b[0m\u001b[1;33m,\u001b[0m\u001b[1;33m\u001b[0m\u001b[1;33m\u001b[0m\u001b[0m\n\u001b[0;32m   1179\u001b[0m             \u001b[0mself\u001b[0m\u001b[1;33m.\u001b[0m\u001b[0m_parent_ident\u001b[0m\u001b[1;33m[\u001b[0m\u001b[1;34m\"shell\"\u001b[0m\u001b[1;33m]\u001b[0m\u001b[1;33m,\u001b[0m\u001b[1;33m\u001b[0m\u001b[1;33m\u001b[0m\u001b[0m\n",
      "\u001b[1;32m~\\anaconda3\\lib\\site-packages\\ipykernel\\kernelbase.py\u001b[0m in \u001b[0;36m_input_request\u001b[1;34m(self, prompt, ident, parent, password)\u001b[0m\n\u001b[0;32m   1217\u001b[0m             \u001b[1;32mexcept\u001b[0m \u001b[0mKeyboardInterrupt\u001b[0m\u001b[1;33m:\u001b[0m\u001b[1;33m\u001b[0m\u001b[1;33m\u001b[0m\u001b[0m\n\u001b[0;32m   1218\u001b[0m                 \u001b[1;31m# re-raise KeyboardInterrupt, to truncate traceback\u001b[0m\u001b[1;33m\u001b[0m\u001b[1;33m\u001b[0m\u001b[0m\n\u001b[1;32m-> 1219\u001b[1;33m                 \u001b[1;32mraise\u001b[0m \u001b[0mKeyboardInterrupt\u001b[0m\u001b[1;33m(\u001b[0m\u001b[1;34m\"Interrupted by user\"\u001b[0m\u001b[1;33m)\u001b[0m \u001b[1;32mfrom\u001b[0m \u001b[1;32mNone\u001b[0m\u001b[1;33m\u001b[0m\u001b[1;33m\u001b[0m\u001b[0m\n\u001b[0m\u001b[0;32m   1220\u001b[0m             \u001b[1;32mexcept\u001b[0m \u001b[0mException\u001b[0m\u001b[1;33m:\u001b[0m\u001b[1;33m\u001b[0m\u001b[1;33m\u001b[0m\u001b[0m\n\u001b[0;32m   1221\u001b[0m                 \u001b[0mself\u001b[0m\u001b[1;33m.\u001b[0m\u001b[0mlog\u001b[0m\u001b[1;33m.\u001b[0m\u001b[0mwarning\u001b[0m\u001b[1;33m(\u001b[0m\u001b[1;34m\"Invalid Message:\"\u001b[0m\u001b[1;33m,\u001b[0m \u001b[0mexc_info\u001b[0m\u001b[1;33m=\u001b[0m\u001b[1;32mTrue\u001b[0m\u001b[1;33m)\u001b[0m\u001b[1;33m\u001b[0m\u001b[1;33m\u001b[0m\u001b[0m\n",
      "\u001b[1;31mKeyboardInterrupt\u001b[0m: Interrupted by user"
     ]
    }
   ],
   "source": [
    "while True:\n",
    "    try:\n",
    "        sayi = int(input(\"sayi:\"))\n",
    "        print(\"girdiginiz sayi:\", sayi)\n",
    "    except Exception as e:\n",
    "        print(\"Lutfen gecerli bir numerik deger giriniz\")\n",
    "        print(\"Hata: \",e)\n",
    "    else:\n",
    "        print(\"programdan cikiliyor\")\n",
    "        break\n",
    "    finally:\n",
    "        print('fina')"
   ]
  },
  {
   "cell_type": "code",
   "execution_count": 48,
   "id": "ccc98852",
   "metadata": {},
   "outputs": [
    {
     "name": "stdout",
     "output_type": "stream",
     "text": [
      "sayi:ali\n",
      "Numerik dege giriniz\n",
      "Hata invalid literal for int() with base 10: 'ali'\n",
      "sayi:5\n",
      "girdiginiz sayi :  5\n",
      "else calisti programdan cikiliyor\n"
     ]
    }
   ],
   "source": [
    "count = 0 \n",
    "while True:\n",
    "    \n",
    "    try:\n",
    "        sayi = int(input(\"sayi:\"))\n",
    "        print(\"girdiginiz sayi : \",sayi)\n",
    "    except Exception as e:\n",
    "        print(\"Numerik dege giriniz\")\n",
    "        print(\"Hata\",e)\n",
    "        count +=1\n",
    "        if count > 3:\n",
    "            print(\"too many failed input\")\n",
    "            break\n",
    "    else:\n",
    "        print(\"else calisti programdan cikiliyor\")\n",
    "        break"
   ]
  },
  {
   "cell_type": "code",
   "execution_count": 49,
   "id": "8b4ef8de",
   "metadata": {},
   "outputs": [],
   "source": [
    "import os"
   ]
  },
  {
   "cell_type": "code",
   "execution_count": 50,
   "id": "77cf2ac7",
   "metadata": {},
   "outputs": [
    {
     "data": {
      "text/plain": [
       "['.ipynb_checkpoints', 'Practice.ipynb', 'Py-TaskScheduler']"
      ]
     },
     "execution_count": 50,
     "metadata": {},
     "output_type": "execute_result"
    }
   ],
   "source": [
    "os.listdir()"
   ]
  },
  {
   "cell_type": "code",
   "execution_count": 52,
   "id": "411402e3",
   "metadata": {},
   "outputs": [],
   "source": [
    "f = open('Advantage of python.txt', mode = \"w\")"
   ]
  },
  {
   "cell_type": "code",
   "execution_count": 53,
   "id": "dea906ff",
   "metadata": {},
   "outputs": [],
   "source": [
    "f.close()"
   ]
  },
  {
   "cell_type": "code",
   "execution_count": 54,
   "id": "8e8182c1",
   "metadata": {},
   "outputs": [
    {
     "ename": "ValueError",
     "evalue": "I/O operation on closed file.",
     "output_type": "error",
     "traceback": [
      "\u001b[1;31m---------------------------------------------------------------------------\u001b[0m",
      "\u001b[1;31mValueError\u001b[0m                                Traceback (most recent call last)",
      "\u001b[1;32m~\\AppData\\Local\\Temp\\ipykernel_7696\\3059900045.py\u001b[0m in \u001b[0;36m<module>\u001b[1;34m\u001b[0m\n\u001b[1;32m----> 1\u001b[1;33m \u001b[0mf\u001b[0m\u001b[1;33m.\u001b[0m\u001b[0mread\u001b[0m\u001b[1;33m(\u001b[0m\u001b[1;33m)\u001b[0m\u001b[1;33m\u001b[0m\u001b[1;33m\u001b[0m\u001b[0m\n\u001b[0m",
      "\u001b[1;31mValueError\u001b[0m: I/O operation on closed file."
     ]
    }
   ],
   "source": [
    "f.read()"
   ]
  },
  {
   "cell_type": "code",
   "execution_count": null,
   "id": "77f555d7",
   "metadata": {},
   "outputs": [],
   "source": [
    "with open('Advantage of python.txt',mode = 'w')"
   ]
  },
  {
   "cell_type": "code",
   "execution_count": 55,
   "id": "d9be52b5",
   "metadata": {},
   "outputs": [
    {
     "ename": "AttributeError",
     "evalue": "'_io.TextIOWrapper' object has no attribute 'open'",
     "output_type": "error",
     "traceback": [
      "\u001b[1;31m---------------------------------------------------------------------------\u001b[0m",
      "\u001b[1;31mAttributeError\u001b[0m                            Traceback (most recent call last)",
      "\u001b[1;32m~\\AppData\\Local\\Temp\\ipykernel_7696\\2084407773.py\u001b[0m in \u001b[0;36m<module>\u001b[1;34m\u001b[0m\n\u001b[1;32m----> 1\u001b[1;33m \u001b[0mf\u001b[0m\u001b[1;33m.\u001b[0m\u001b[0mopen\u001b[0m\u001b[1;33m(\u001b[0m\u001b[1;33m)\u001b[0m\u001b[1;33m\u001b[0m\u001b[1;33m\u001b[0m\u001b[0m\n\u001b[0m",
      "\u001b[1;31mAttributeError\u001b[0m: '_io.TextIOWrapper' object has no attribute 'open'"
     ]
    }
   ],
   "source": [
    "f.open()"
   ]
  },
  {
   "cell_type": "code",
   "execution_count": 68,
   "id": "d3e67370",
   "metadata": {},
   "outputs": [
    {
     "name": "stdout",
     "output_type": "stream",
     "text": [
      "text15\n"
     ]
    }
   ],
   "source": [
    "with open('Advantage of python.txt',mode = 'w') as f:\n",
    "    f.write('text15')\n",
    "with open('Advantage of python.txt',mode = 'r') as f:\n",
    "    print(f.read())\n",
    "    f.close()"
   ]
  },
  {
   "cell_type": "code",
   "execution_count": 61,
   "id": "763cc943",
   "metadata": {},
   "outputs": [
    {
     "ename": "ValueError",
     "evalue": "I/O operation on closed file.",
     "output_type": "error",
     "traceback": [
      "\u001b[1;31m---------------------------------------------------------------------------\u001b[0m",
      "\u001b[1;31mValueError\u001b[0m                                Traceback (most recent call last)",
      "\u001b[1;32m~\\AppData\\Local\\Temp\\ipykernel_7696\\3059900045.py\u001b[0m in \u001b[0;36m<module>\u001b[1;34m\u001b[0m\n\u001b[1;32m----> 1\u001b[1;33m \u001b[0mf\u001b[0m\u001b[1;33m.\u001b[0m\u001b[0mread\u001b[0m\u001b[1;33m(\u001b[0m\u001b[1;33m)\u001b[0m\u001b[1;33m\u001b[0m\u001b[1;33m\u001b[0m\u001b[0m\n\u001b[0m",
      "\u001b[1;31mValueError\u001b[0m: I/O operation on closed file."
     ]
    }
   ],
   "source": []
  },
  {
   "cell_type": "code",
   "execution_count": 74,
   "id": "3569b247",
   "metadata": {},
   "outputs": [
    {
     "name": "stdout",
     "output_type": "stream",
     "text": [
      "\n"
     ]
    }
   ],
   "source": [
    "with open('Advantage of python.txt',mode = 'w+') as f:\n",
    "    f.write('text90')\n",
    "    x = f.read()\n",
    "print(x)\n"
   ]
  },
  {
   "cell_type": "code",
   "execution_count": 70,
   "id": "3ff75728",
   "metadata": {},
   "outputs": [
    {
     "ename": "ValueError",
     "evalue": "I/O operation on closed file.",
     "output_type": "error",
     "traceback": [
      "\u001b[1;31m---------------------------------------------------------------------------\u001b[0m",
      "\u001b[1;31mValueError\u001b[0m                                Traceback (most recent call last)",
      "\u001b[1;32m~\\AppData\\Local\\Temp\\ipykernel_7696\\3059900045.py\u001b[0m in \u001b[0;36m<module>\u001b[1;34m\u001b[0m\n\u001b[1;32m----> 1\u001b[1;33m \u001b[0mf\u001b[0m\u001b[1;33m.\u001b[0m\u001b[0mread\u001b[0m\u001b[1;33m(\u001b[0m\u001b[1;33m)\u001b[0m\u001b[1;33m\u001b[0m\u001b[1;33m\u001b[0m\u001b[0m\n\u001b[0m",
      "\u001b[1;31mValueError\u001b[0m: I/O operation on closed file."
     ]
    }
   ],
   "source": [
    "f.read()"
   ]
  },
  {
   "cell_type": "code",
   "execution_count": 12,
   "id": "a39762f3",
   "metadata": {},
   "outputs": [],
   "source": [
    "class Dog:\n",
    "    def __init__(self,name,age):\n",
    "        self.name = name\n",
    "        self.age = age\n",
    "        \n",
    "    def __str__(self):\n",
    "        return f\"{self.name} is {self.age} years old\""
   ]
  },
  {
   "cell_type": "code",
   "execution_count": 13,
   "id": "63791e7f",
   "metadata": {},
   "outputs": [],
   "source": [
    "dog = Dog('gumus',\"3\")"
   ]
  },
  {
   "cell_type": "code",
   "execution_count": 14,
   "id": "74ecfabe",
   "metadata": {},
   "outputs": [
    {
     "name": "stdout",
     "output_type": "stream",
     "text": [
      "gumus is 3 years old\n"
     ]
    }
   ],
   "source": [
    "print(dog)"
   ]
  },
  {
   "cell_type": "code",
   "execution_count": null,
   "id": "1eb4bef7",
   "metadata": {},
   "outputs": [],
   "source": [
    "#Numpy"
   ]
  },
  {
   "cell_type": "code",
   "execution_count": 71,
   "id": "d33faf5d",
   "metadata": {},
   "outputs": [],
   "source": [
    "import numpy as np"
   ]
  },
  {
   "cell_type": "code",
   "execution_count": 17,
   "id": "ee42731d",
   "metadata": {},
   "outputs": [
    {
     "data": {
      "text/plain": [
       "array([0., 0., 0., 0., 0.])"
      ]
     },
     "execution_count": 17,
     "metadata": {},
     "output_type": "execute_result"
    }
   ],
   "source": [
    "np.zeros(5)"
   ]
  },
  {
   "cell_type": "code",
   "execution_count": 20,
   "id": "ef764c50",
   "metadata": {},
   "outputs": [],
   "source": [
    "a = np.zeros(10)"
   ]
  },
  {
   "cell_type": "code",
   "execution_count": 21,
   "id": "22a9c5d9",
   "metadata": {},
   "outputs": [],
   "source": [
    "a[4]=1"
   ]
  },
  {
   "cell_type": "code",
   "execution_count": 22,
   "id": "d87e9776",
   "metadata": {},
   "outputs": [
    {
     "data": {
      "text/plain": [
       "array([0., 0., 0., 0., 1., 0., 0., 0., 0., 0.])"
      ]
     },
     "execution_count": 22,
     "metadata": {},
     "output_type": "execute_result"
    }
   ],
   "source": [
    "a"
   ]
  },
  {
   "cell_type": "code",
   "execution_count": 23,
   "id": "8127ea10",
   "metadata": {},
   "outputs": [
    {
     "data": {
      "text/plain": [
       "array([10, 11, 12, 13, 14, 15, 16, 17, 18, 19, 20, 21, 22, 23, 24, 25, 26,\n",
       "       27, 28, 29, 30, 31, 32, 33, 34, 35, 36, 37, 38, 39, 40, 41, 42, 43,\n",
       "       44, 45, 46, 47, 48, 49])"
      ]
     },
     "execution_count": 23,
     "metadata": {},
     "output_type": "execute_result"
    }
   ],
   "source": [
    "np.arange(10,50)"
   ]
  },
  {
   "cell_type": "code",
   "execution_count": 25,
   "id": "fba3a536",
   "metadata": {},
   "outputs": [
    {
     "data": {
      "text/plain": [
       "0"
      ]
     },
     "execution_count": 25,
     "metadata": {},
     "output_type": "execute_result"
    }
   ],
   "source": [
    "np.arange(50)"
   ]
  },
  {
   "cell_type": "code",
   "execution_count": 27,
   "id": "3a428034",
   "metadata": {},
   "outputs": [
    {
     "data": {
      "text/plain": [
       "array([[0, 1, 2],\n",
       "       [3, 4, 5],\n",
       "       [6, 7, 8]])"
      ]
     },
     "execution_count": 27,
     "metadata": {},
     "output_type": "execute_result"
    }
   ],
   "source": [
    "np.arange(9).reshape(3,3)"
   ]
  },
  {
   "cell_type": "code",
   "execution_count": 30,
   "id": "509a40c8",
   "metadata": {},
   "outputs": [
    {
     "data": {
      "text/plain": [
       "array([[0, 1],\n",
       "       [2, 3],\n",
       "       [4, 5],\n",
       "       [6, 7],\n",
       "       [8, 9]])"
      ]
     },
     "execution_count": 30,
     "metadata": {},
     "output_type": "execute_result"
    }
   ],
   "source": [
    "np.arange(10).reshape(5,2)"
   ]
  },
  {
   "cell_type": "code",
   "execution_count": null,
   "id": "adee06fc",
   "metadata": {},
   "outputs": [],
   "source": [
    "#find inidces of non zero\n"
   ]
  },
  {
   "cell_type": "code",
   "execution_count": 33,
   "id": "14ac31d2",
   "metadata": {},
   "outputs": [
    {
     "ename": "AttributeError",
     "evalue": "'tuple' object has no attribute 'argmax'",
     "output_type": "error",
     "traceback": [
      "\u001b[1;31m---------------------------------------------------------------------------\u001b[0m",
      "\u001b[1;31mAttributeError\u001b[0m                            Traceback (most recent call last)",
      "Cell \u001b[1;32mIn[33], line 1\u001b[0m\n\u001b[1;32m----> 1\u001b[0m np\u001b[38;5;241m.\u001b[39mnonzero([\u001b[38;5;241m1\u001b[39m,\u001b[38;5;241m0\u001b[39m,\u001b[38;5;241m0\u001b[39m,\u001b[38;5;241m5\u001b[39m,\u001b[38;5;241m0\u001b[39m,\u001b[38;5;241m0\u001b[39m,\u001b[38;5;241m3\u001b[39m])\u001b[38;5;241m.\u001b[39margmax()\n",
      "\u001b[1;31mAttributeError\u001b[0m: 'tuple' object has no attribute 'argmax'"
     ]
    }
   ],
   "source": [
    "np.nonzero([1,0,0,5,0,0,3])"
   ]
  },
  {
   "cell_type": "code",
   "execution_count": 35,
   "id": "22b071da",
   "metadata": {},
   "outputs": [
    {
     "data": {
      "text/plain": [
       "(array([0, 3, 6], dtype=int64),)"
      ]
     },
     "execution_count": 35,
     "metadata": {},
     "output_type": "execute_result"
    }
   ],
   "source": [
    "np.where(np.array([1,0,0,5,0,0,3]) != 0)"
   ]
  },
  {
   "cell_type": "code",
   "execution_count": 42,
   "id": "a1b60611",
   "metadata": {},
   "outputs": [
    {
     "data": {
      "text/plain": [
       "array([[[[59, 87],\n",
       "         [ 5,  7]],\n",
       "\n",
       "        [[33, 97],\n",
       "         [40, 55]]],\n",
       "\n",
       "\n",
       "       [[[89, 43],\n",
       "         [66,  6]],\n",
       "\n",
       "        [[29, 46],\n",
       "         [71, 17]]]])"
      ]
     },
     "execution_count": 42,
     "metadata": {},
     "output_type": "execute_result"
    }
   ],
   "source": [
    "np.random.randint(0,100,16).reshape(2,2,2,2)"
   ]
  },
  {
   "cell_type": "code",
   "execution_count": 47,
   "id": "6039e2fa",
   "metadata": {},
   "outputs": [
    {
     "data": {
      "text/plain": [
       "0.2789542191248706"
      ]
     },
     "execution_count": 47,
     "metadata": {},
     "output_type": "execute_result"
    }
   ],
   "source": [
    "np.random.random(10).mean()"
   ]
  },
  {
   "cell_type": "code",
   "execution_count": 52,
   "id": "2fdf9607",
   "metadata": {},
   "outputs": [
    {
     "data": {
      "text/plain": [
       "array([[1., 1., 1., 1., 1.],\n",
       "       [1., 0., 0., 0., 1.],\n",
       "       [1., 0., 0., 0., 1.],\n",
       "       [1., 0., 0., 0., 1.],\n",
       "       [1., 1., 1., 1., 1.]])"
      ]
     },
     "execution_count": 52,
     "metadata": {},
     "output_type": "execute_result"
    }
   ],
   "source": [
    "a = np.ones(25).reshape(5,5)\n",
    "a[1:-1,1:-1]=0\n",
    "a"
   ]
  },
  {
   "cell_type": "code",
   "execution_count": 55,
   "id": "30afec78",
   "metadata": {},
   "outputs": [
    {
     "data": {
      "text/plain": [
       "array([1, 0, 1, 0, 1, 0, 1, 0])"
      ]
     },
     "execution_count": 55,
     "metadata": {},
     "output_type": "execute_result"
    }
   ],
   "source": [
    "np.array([0,1]*4)\n",
    "np.array([1,0]*4)"
   ]
  },
  {
   "cell_type": "code",
   "execution_count": 56,
   "id": "fe4c2999",
   "metadata": {},
   "outputs": [
    {
     "data": {
      "text/plain": [
       "array([[0, 1, 0, 1, 0, 1, 0, 1],\n",
       "       [1, 0, 1, 0, 1, 0, 1, 0],\n",
       "       [0, 1, 0, 1, 0, 1, 0, 1],\n",
       "       [1, 0, 1, 0, 1, 0, 1, 0],\n",
       "       [0, 1, 0, 1, 0, 1, 0, 1],\n",
       "       [1, 0, 1, 0, 1, 0, 1, 0],\n",
       "       [0, 1, 0, 1, 0, 1, 0, 1],\n",
       "       [1, 0, 1, 0, 1, 0, 1, 0]])"
      ]
     },
     "execution_count": 56,
     "metadata": {},
     "output_type": "execute_result"
    }
   ],
   "source": [
    "count=0\n",
    "ls = []\n",
    "while count<4:\n",
    "    ls.extend(np.array([0,1]*4))\n",
    "    ls.extend(np.array([1,0]*4))\n",
    "    count +=1\n",
    "np.array(ls).reshape(8,8)\n",
    "    \n",
    "    "
   ]
  },
  {
   "cell_type": "code",
   "execution_count": 63,
   "id": "806d5fc3",
   "metadata": {},
   "outputs": [
    {
     "data": {
      "text/plain": [
       "array([[0, 1, 0, 1, 0, 1, 0, 1],\n",
       "       [1, 0, 1, 0, 1, 0, 1, 0],\n",
       "       [0, 1, 0, 1, 0, 1, 0, 1],\n",
       "       [1, 0, 1, 0, 1, 0, 1, 0],\n",
       "       [0, 1, 0, 1, 0, 1, 0, 1],\n",
       "       [1, 0, 1, 0, 1, 0, 1, 0],\n",
       "       [0, 1, 0, 1, 0, 1, 0, 1],\n",
       "       [1, 0, 1, 0, 1, 0, 1, 0]])"
      ]
     },
     "execution_count": 63,
     "metadata": {},
     "output_type": "execute_result"
    }
   ],
   "source": [
    "a = np.zeros(64).reshape(8,8)\n",
    "a[0::2,1::2]=int(1)\n",
    "a[1::2,0::2]=int(1)\n",
    "a.astype(int)"
   ]
  },
  {
   "cell_type": "code",
   "execution_count": 73,
   "id": "37d026b5",
   "metadata": {},
   "outputs": [
    {
     "data": {
      "text/plain": [
       "array([[1, 2],\n",
       "       [1, 2]])"
      ]
     },
     "execution_count": 73,
     "metadata": {},
     "output_type": "execute_result"
    }
   ],
   "source": [
    "np.array([[1,2],[1,2]])"
   ]
  },
  {
   "cell_type": "code",
   "execution_count": 72,
   "id": "4cd85c41",
   "metadata": {},
   "outputs": [
    {
     "data": {
      "text/plain": [
       "array([[1, 2, 1, 2],\n",
       "       [1, 2, 1, 2]])"
      ]
     },
     "execution_count": 72,
     "metadata": {},
     "output_type": "execute_result"
    }
   ],
   "source": [
    "np.tile(np.array([[1,2],[1,2]]),(2))"
   ]
  },
  {
   "cell_type": "code",
   "execution_count": 73,
   "id": "12c1249b",
   "metadata": {},
   "outputs": [
    {
     "data": {
      "text/plain": [
       "(2, 2)"
      ]
     },
     "execution_count": 73,
     "metadata": {},
     "output_type": "execute_result"
    }
   ],
   "source": [
    "np.array([[1,2],[1,2]]).shape"
   ]
  },
  {
   "cell_type": "code",
   "execution_count": 74,
   "id": "8227ea4a",
   "metadata": {},
   "outputs": [
    {
     "data": {
      "text/plain": [
       "array([[1, 2],\n",
       "       [1, 2]])"
      ]
     },
     "execution_count": 74,
     "metadata": {},
     "output_type": "execute_result"
    }
   ],
   "source": [
    "np.array([[1,2],[1,2]])"
   ]
  },
  {
   "cell_type": "code",
   "execution_count": 76,
   "id": "c5fa6679",
   "metadata": {},
   "outputs": [
    {
     "data": {
      "text/plain": [
       "(1, 5, 3)"
      ]
     },
     "execution_count": 76,
     "metadata": {},
     "output_type": "execute_result"
    }
   ],
   "source": [
    "np.unravel_index(99, (6,7,8))"
   ]
  },
  {
   "cell_type": "code",
   "execution_count": 81,
   "id": "cc28609a",
   "metadata": {},
   "outputs": [
    {
     "data": {
      "text/plain": [
       "array([0.07692308, 0.15384615, 0.23076923, 0.30769231, 0.38461538,\n",
       "       0.46153846, 0.53846154, 0.61538462, 0.69230769, 0.76923077,\n",
       "       0.84615385, 0.92307692])"
      ]
     },
     "execution_count": 81,
     "metadata": {},
     "output_type": "execute_result"
    }
   ],
   "source": [
    "np.linspace(0,1,13,endpoint =False)[1:]"
   ]
  },
  {
   "cell_type": "code",
   "execution_count": 85,
   "id": "5ad98f99",
   "metadata": {},
   "outputs": [],
   "source": [
    "a = np.random.random(10)\n",
    "a.sort()"
   ]
  },
  {
   "cell_type": "code",
   "execution_count": 86,
   "id": "af697631",
   "metadata": {},
   "outputs": [
    {
     "data": {
      "text/plain": [
       "array([0.19457448, 0.20020032, 0.47300456, 0.51436997, 0.5144228 ,\n",
       "       0.52457039, 0.59078347, 0.74344822, 0.83896915, 0.97300906])"
      ]
     },
     "execution_count": 86,
     "metadata": {},
     "output_type": "execute_result"
    }
   ],
   "source": [
    "a"
   ]
  },
  {
   "cell_type": "code",
   "execution_count": 96,
   "id": "2f07b992",
   "metadata": {},
   "outputs": [
    {
     "data": {
      "text/plain": [
       "array([837, 713,  94,  19, 698, 456, 525, 685, 618, 890])"
      ]
     },
     "execution_count": 96,
     "metadata": {},
     "output_type": "execute_result"
    }
   ],
   "source": [
    "np.random.randint(0,1000,10)"
   ]
  },
  {
   "cell_type": "code",
   "execution_count": 97,
   "id": "49781763",
   "metadata": {},
   "outputs": [
    {
     "data": {
      "text/plain": [
       "array([1, 1, 2])"
      ]
     },
     "execution_count": 97,
     "metadata": {},
     "output_type": "execute_result"
    }
   ],
   "source": [
    "np.random.randint(1,3,3)"
   ]
  },
  {
   "cell_type": "code",
   "execution_count": 98,
   "id": "86b0c41b",
   "metadata": {},
   "outputs": [
    {
     "data": {
      "text/plain": [
       "array([1, 2, 2])"
      ]
     },
     "execution_count": 98,
     "metadata": {},
     "output_type": "execute_result"
    }
   ],
   "source": [
    "np.random.randint(1,3,3)"
   ]
  },
  {
   "cell_type": "code",
   "execution_count": 108,
   "id": "e9768e1e",
   "metadata": {},
   "outputs": [
    {
     "name": "stdout",
     "output_type": "stream",
     "text": [
      "[0.6242131  0.48439105 0.29411112 0.28853053 0.02270928 0.9717221\n",
      " 0.02734499 0.13693073 0.05477142 0.8421846 ]\n",
      "0.9717221038052549\n",
      "[0.6242131  0.48439105 0.29411112 0.28853053 0.02270928 0.\n",
      " 0.02734499 0.13693073 0.05477142 0.8421846 ]\n"
     ]
    }
   ],
   "source": [
    "a = np.random.random(10)\n",
    "print(a)\n",
    "print(a.max())\n",
    "a[a.argmax()]=0\n",
    "print(a)"
   ]
  },
  {
   "cell_type": "code",
   "execution_count": 109,
   "id": "5661832e",
   "metadata": {},
   "outputs": [],
   "source": [
    "a = np.arange(25).reshape(5,5)"
   ]
  },
  {
   "cell_type": "code",
   "execution_count": 110,
   "id": "187a080f",
   "metadata": {},
   "outputs": [
    {
     "data": {
      "text/plain": [
       "array([[ 0,  1,  2,  3,  4],\n",
       "       [ 5,  6,  7,  8,  9],\n",
       "       [10, 11, 12, 13, 14],\n",
       "       [15, 16, 17, 18, 19],\n",
       "       [20, 21, 22, 23, 24]])"
      ]
     },
     "execution_count": 110,
     "metadata": {},
     "output_type": "execute_result"
    }
   ],
   "source": [
    "a"
   ]
  },
  {
   "cell_type": "code",
   "execution_count": 111,
   "id": "59dda90d",
   "metadata": {},
   "outputs": [],
   "source": [
    "b = a.copy()"
   ]
  },
  {
   "cell_type": "code",
   "execution_count": 112,
   "id": "39e106dd",
   "metadata": {},
   "outputs": [],
   "source": [
    "a[1,:] = b[3,:]\n",
    "a[3,:] = b[1,:]\n"
   ]
  },
  {
   "cell_type": "code",
   "execution_count": 113,
   "id": "a8847370",
   "metadata": {},
   "outputs": [
    {
     "data": {
      "text/plain": [
       "array([[ 0,  1,  2,  3,  4],\n",
       "       [15, 16, 17, 18, 19],\n",
       "       [10, 11, 12, 13, 14],\n",
       "       [ 5,  6,  7,  8,  9],\n",
       "       [20, 21, 22, 23, 24]])"
      ]
     },
     "execution_count": 113,
     "metadata": {},
     "output_type": "execute_result"
    }
   ],
   "source": [
    "a"
   ]
  },
  {
   "cell_type": "code",
   "execution_count": 114,
   "id": "19e961e1",
   "metadata": {},
   "outputs": [
    {
     "data": {
      "text/plain": [
       "array([[15, 16, 17, 18, 19]])"
      ]
     },
     "execution_count": 114,
     "metadata": {},
     "output_type": "execute_result"
    }
   ],
   "source": [
    "a[[1]]"
   ]
  },
  {
   "cell_type": "code",
   "execution_count": 116,
   "id": "2bb650ba",
   "metadata": {},
   "outputs": [],
   "source": [
    "a =np.random.randint(0,10,10)"
   ]
  },
  {
   "cell_type": "code",
   "execution_count": 117,
   "id": "b972ac2e",
   "metadata": {},
   "outputs": [
    {
     "data": {
      "text/plain": [
       "array([5, 8, 2, 7, 1, 3, 5, 9, 7, 8])"
      ]
     },
     "execution_count": 117,
     "metadata": {},
     "output_type": "execute_result"
    }
   ],
   "source": [
    "a"
   ]
  },
  {
   "cell_type": "code",
   "execution_count": 118,
   "id": "fa2854ee",
   "metadata": {},
   "outputs": [],
   "source": [
    "a = np.array([2, 0, 0, 4, 5, 2, 8, 4, 7, 0])"
   ]
  },
  {
   "cell_type": "code",
   "execution_count": 121,
   "id": "2c81ff9d",
   "metadata": {},
   "outputs": [
    {
     "data": {
      "text/plain": [
       "array([3, 0, 2, 0, 2, 1, 0, 1, 1], dtype=int64)"
      ]
     },
     "execution_count": 121,
     "metadata": {},
     "output_type": "execute_result"
    }
   ],
   "source": [
    "np.bincount(a)"
   ]
  },
  {
   "cell_type": "code",
   "execution_count": 131,
   "id": "d0c3dcbd",
   "metadata": {},
   "outputs": [
    {
     "data": {
      "text/plain": [
       "'0b1000'"
      ]
     },
     "execution_count": 131,
     "metadata": {},
     "output_type": "execute_result"
    }
   ],
   "source": [
    "bin(8)"
   ]
  },
  {
   "cell_type": "code",
   "execution_count": null,
   "id": "e92cab83",
   "metadata": {},
   "outputs": [],
   "source": [
    "#Decorator allow you activate or deactivate your function in your function it enchance the fuctionality"
   ]
  },
  {
   "cell_type": "code",
   "execution_count": null,
   "id": "a54d086b",
   "metadata": {},
   "outputs": [],
   "source": [
    "#@ ile active oluyor "
   ]
  },
  {
   "cell_type": "markdown",
   "id": "7746caef",
   "metadata": {},
   "source": [
    "#Decorator prensibi\n",
    "@decorator\n",
    "def ...."
   ]
  },
  {
   "cell_type": "code",
   "execution_count": null,
   "id": "8823c7d4",
   "metadata": {},
   "outputs": [],
   "source": [
    "#Degisken olarak fonksiyon\n"
   ]
  },
  {
   "cell_type": "code",
   "execution_count": 132,
   "id": "15406afb",
   "metadata": {},
   "outputs": [],
   "source": [
    "def deneme():\n",
    "    print('abc')"
   ]
  },
  {
   "cell_type": "code",
   "execution_count": null,
   "id": "addb4d7e",
   "metadata": {},
   "outputs": [],
   "source": [
    "#function are able to assign tio variable, the way without call them\n",
    "f= deneme #here we do not add ()"
   ]
  },
  {
   "cell_type": "code",
   "execution_count": 133,
   "id": "0a1e05fc",
   "metadata": {},
   "outputs": [],
   "source": [
    "f =deneme"
   ]
  },
  {
   "cell_type": "code",
   "execution_count": 134,
   "id": "33c3066f",
   "metadata": {},
   "outputs": [
    {
     "name": "stdout",
     "output_type": "stream",
     "text": [
      "abc\n"
     ]
    }
   ],
   "source": [
    "f()"
   ]
  },
  {
   "cell_type": "code",
   "execution_count": null,
   "id": "4c176a62",
   "metadata": {},
   "outputs": [],
   "source": [
    "#Founction inside function"
   ]
  },
  {
   "cell_type": "code",
   "execution_count": 137,
   "id": "1d647433",
   "metadata": {},
   "outputs": [],
   "source": [
    "def deneme():\n",
    "    print(\"deneme fonklsiyonu claisyor\")\n",
    "    \n",
    "    def test():\n",
    "        return \"test  fonsiyonu claisyor\"\n",
    "    \n",
    "    print(test())"
   ]
  },
  {
   "cell_type": "code",
   "execution_count": 138,
   "id": "c0bf827e",
   "metadata": {},
   "outputs": [
    {
     "name": "stdout",
     "output_type": "stream",
     "text": [
      "deneme fonklsiyonu claisyor\n",
      "test  fonsiyonu claisyor\n"
     ]
    }
   ],
   "source": [
    "deneme()"
   ]
  },
  {
   "cell_type": "code",
   "execution_count": 10,
   "id": "b1b97c53",
   "metadata": {},
   "outputs": [
    {
     "name": "stdout",
     "output_type": "stream",
     "text": [
      "User neena registered successfully.\n",
      "User helios registered successfully.\n",
      "Failed attempts for neena: 4\n",
      "Account for neena has been locked due to too many failed login attempts.\n",
      "Failed attempts reset for user neena.\n",
      "User Neena logged in successfully.\n",
      "Failed attempts for neena: 4\n",
      "Account for neena has been locked due to too many failed login attempts.\n",
      "Failed attempts reset for user neena.\n",
      "User neena logged in successfully.\n",
      "Failed attempts reset for user helios.\n",
      "User helios logged in successfully.\n"
     ]
    }
   ],
   "source": [
    "import pandas as pd\n",
    "\n",
    "\n",
    "\n",
    "class User:\n",
    "\n",
    "    def __init__(self, user_id, username, password, failed_attempts=0, is_locked=False):\n",
    "\n",
    "        self.user_id = user_id\n",
    "\n",
    "        self.username = username\n",
    "\n",
    "        self.password = password\n",
    "\n",
    "        self.failed_attempts = failed_attempts\n",
    "\n",
    "        self.is_locked = is_locked\n",
    "\n",
    "\n",
    "\n",
    "    def reset_failed_attempts(self):\n",
    "\n",
    "        self.failed_attempts = 0\n",
    "\n",
    "        print(f\"Failed attempts reset for user {self.username}.\")\n",
    "\n",
    "\n",
    "\n",
    "    def increment_failed_attempts(self):\n",
    "\n",
    "        self.failed_attempts += 1\n",
    "\n",
    "        print(f\"Failed attempts for {self.username}: {self.failed_attempts}\")\n",
    "\n",
    "        if self.failed_attempts >= 3:\n",
    "\n",
    "            self.lock_account()\n",
    "\n",
    "\n",
    "\n",
    "    def lock_account(self):\n",
    "\n",
    "        self.is_locked = True\n",
    "\n",
    "        print(f\"Account for {self.username} has been locked due to too many failed login attempts.\")\n",
    "\n",
    "\n",
    "\n",
    "class AuthenticationSystem:\n",
    "\n",
    "    def __init__(self):\n",
    "\n",
    "        self.users = pd.DataFrame(columns=[\"user_id\", \"username\", \"password\", \"failed_attempts_left\", \"is_locked\"])\n",
    "\n",
    "\n",
    "\n",
    "    def register_user(self, user_id, username, password):\n",
    "\n",
    "        new_user = User(user_id, username, password)\n",
    "\n",
    "        self.users = pd.concat([self.users, pd.DataFrame({\n",
    "\n",
    "            \"user_id\": [user_id], \n",
    "\n",
    "            \"username\": [username], \n",
    "\n",
    "            \"password\": [password], \n",
    "\n",
    "            \"failed_attempts_left\": [3], \n",
    "\n",
    "            \"is_locked\": [False]\n",
    "\n",
    "        })], ignore_index=True) # Add new user to DataFrame.\n",
    "\n",
    "        print(f\"User {username} registered successfully.\")\n",
    "\n",
    "\n",
    "\n",
    "    # Never alter this login function\n",
    "\n",
    "    def login(self, username, password):\n",
    "\n",
    "        user_row = self.users[self.users['username'] == username]\n",
    "\n",
    "        if user_row.empty:\n",
    "\n",
    "            print(f\"User {username} not found.\")\n",
    "\n",
    "            return\n",
    "\n",
    "\n",
    "\n",
    "        user = User(user_row['user_id'].values[0], user_row['username'].values[0], user_row['password'].values[0], \n",
    "\n",
    "                    user_row['failed_attempts_left'].values[0], user_row['is_locked'].values[0])\n",
    "\n",
    "        \n",
    "\n",
    "        if user.is_locked:\n",
    "\n",
    "            print(f\"Account for {username} is locked. Please contact support.\")\n",
    "\n",
    "            return\n",
    "\n",
    "\n",
    "\n",
    "        if password == user.password:\n",
    "            if user.failed_attempts<=3:\n",
    "                user.reset_failed_attempts()\n",
    "                print(f\"User {username} logged in successfully.\")\n",
    "            else:\n",
    "                user.lock_account()\n",
    "                print('You are disallowed login')\n",
    "\n",
    "        else:\n",
    "            \n",
    "            user.increment_failed_attempts()\n",
    "            \n",
    "\n",
    "\n",
    "    def update_user(self, user):\n",
    "\n",
    "        self.users.loc[self.users['username'] == user.username, 'failed_attempts_left'] = user.failed_attempts\n",
    "\n",
    "        self.users.loc[self.users['username'] == user.username, 'is_locked'] = user.is_locked\n",
    "\n",
    "        print(f\"User {user.username}'s data updated.\")\n",
    "\n",
    "\n",
    "\n",
    "auth_system = AuthenticationSystem()\n",
    "\n",
    "auth_system.register_user(1, \"neena\", \"password123\") \n",
    "\n",
    "auth_system.register_user(2, \"helios\", \"mysecurepassword\") \n",
    "\n",
    "\n",
    "\n",
    "auth_system.login(\"neena\", \"password321\")  \n",
    "\n",
    "auth_system.login(\"Neena\", \"password123\")  \n",
    "\n",
    "auth_system.login(\"neena\", \"password321\")  \n",
    "\n",
    "auth_system.login(\"neena\", \"password123\")   \n",
    "\n",
    "\n",
    "\n",
    "auth_system.login(\"helios\", \"mysecurepassword\")"
   ]
  },
  {
   "cell_type": "code",
   "execution_count": null,
   "id": "b089457c",
   "metadata": {},
   "outputs": [],
   "source": []
  },
  {
   "cell_type": "code",
   "execution_count": null,
   "id": "738a17d8",
   "metadata": {},
   "outputs": [],
   "source": []
  },
  {
   "cell_type": "code",
   "execution_count": null,
   "id": "9773f95e",
   "metadata": {},
   "outputs": [],
   "source": []
  },
  {
   "cell_type": "code",
   "execution_count": null,
   "id": "62a90987",
   "metadata": {},
   "outputs": [],
   "source": []
  },
  {
   "cell_type": "code",
   "execution_count": null,
   "id": "a4835b1b",
   "metadata": {},
   "outputs": [],
   "source": []
  },
  {
   "cell_type": "code",
   "execution_count": null,
   "id": "10c25014",
   "metadata": {},
   "outputs": [],
   "source": []
  },
  {
   "cell_type": "code",
   "execution_count": null,
   "id": "623badc1",
   "metadata": {},
   "outputs": [],
   "source": [
    "#outlier"
   ]
  },
  {
   "cell_type": "code",
   "execution_count": null,
   "id": "4d8839e1",
   "metadata": {},
   "outputs": [],
   "source": [
    "class User:\n",
    "\n",
    "    def __init__(self, user_id, username, password, failed_attempts=0, is_locked=False):\n",
    "\n",
    "        self.user_id = user_id\n",
    "\n",
    "        self.username = username\n",
    "\n",
    "        self.password = password\n",
    "\n",
    "        self.failed_attempts = failed_attempts\n",
    "\n",
    "        self.is_locked = is_locked\n",
    "\n",
    "\n",
    "\n",
    "    def reset_failed_attempts(self):\n",
    "\n",
    "        self.failed_attempts = 0\n",
    "\n",
    "        print(f\"Failed attempts reset for user {self.username}.\")\n",
    "\n",
    "\n",
    "\n",
    "    def increment_failed_attempts(self):\n",
    "\n",
    "        self.failed_attempts += 1\n",
    "\n",
    "        print(f\"Failed attempts for {self.username}: {self.failed_attempts}\")\n",
    "\n",
    "        if self.failed_attempts >= 3:\n",
    "\n",
    "            self.lock_account()\n",
    "\n",
    "\n",
    "\n",
    "    def lock_account(self):\n",
    "\n",
    "        self.is_locked = True\n",
    "\n",
    "        print(f\"Account for {self.username} has been locked due to too many failed login attempts.\")"
   ]
  },
  {
   "cell_type": "code",
   "execution_count": null,
   "id": "e075ee46",
   "metadata": {},
   "outputs": [],
   "source": [
    "managing user registrations, tracking login attempts, \n",
    "and locking accounts after multiple failed login attempts."
   ]
  },
  {
   "cell_type": "code",
   "execution_count": null,
   "id": "0d6ce2d5",
   "metadata": {},
   "outputs": [],
   "source": [
    "There should be a class User and class AuthenticationSystem.\n",
    "Here are some tests you should provide:\n",
    "using a function called register_user (which takes a user id, username, and password),\n",
    "register a user named neena \n",
    "register a user named helios\n",
    "ensure it's case-sensitive."
   ]
  },
  {
   "cell_type": "code",
   "execution_count": null,
   "id": "830be227",
   "metadata": {},
   "outputs": [],
   "source": [
    "user1 = User()"
   ]
  },
  {
   "cell_type": "code",
   "execution_count": null,
   "id": "3233abd3",
   "metadata": {},
   "outputs": [],
   "source": []
  },
  {
   "cell_type": "code",
   "execution_count": null,
   "id": "92c6fe05",
   "metadata": {},
   "outputs": [],
   "source": []
  },
  {
   "cell_type": "code",
   "execution_count": null,
   "id": "949b9e06",
   "metadata": {},
   "outputs": [],
   "source": [
    "\n",
    "    def login(self, username, password):\n",
    "\n",
    "        user_row = self.users[self.users['username'].str.lower() == username.lower()]\n",
    "\n",
    "        if user_row.empty:\n",
    "\n",
    "            print(f\"User {username} not found.\")\n",
    "\n",
    "            return\n",
    "\n",
    "\n",
    "\n",
    "        user = User(user_row['user_id'].values[0], user_row['username'].values[0], user_row['password'].values[0], \n",
    "\n",
    "                    user_row['failed_attempts_left'].values[0], user_row['is_locked'].values[0])\n",
    "\n",
    "        \n",
    "\n",
    "        if user.is_locked:\n",
    "\n",
    "            print(f\"Account for {username} is locked. Please contact support.\")\n",
    "\n",
    "            return\n",
    "\n",
    "\n",
    "\n",
    "        if password == password:\n",
    "\n",
    "            user.increment_failed_attempts()\n",
    "\n",
    "            user.reset_failed_attempts()\n",
    "\n",
    "            self.update_user(user)\n",
    "\n",
    "            print(f\"User {username} logged in successfully.\")\n",
    "\n",
    "        else:\n",
    "\n",
    "            user.reset_failed_attempts()\n",
    "\n",
    "            self.update_user(user)"
   ]
  },
  {
   "cell_type": "code",
   "execution_count": null,
   "id": "baa155d6",
   "metadata": {},
   "outputs": [],
   "source": []
  },
  {
   "cell_type": "code",
   "execution_count": null,
   "id": "bee89cf9",
   "metadata": {},
   "outputs": [],
   "source": [
    "import pandas as pd\n",
    "\n",
    "class User:\n",
    "    def __init__(self, user_id, username, password, failed_attempts=0, is_locked=False):\n",
    "        self.user_id = user_id\n",
    "        self.username = username\n",
    "        self.password = password\n",
    "        self.failed_attempts = failed_attempts\n",
    "        self.is_locked = is_locked\n",
    "\n",
    "    def reset_failed_attempts(self):\n",
    "        self.failed_attempts = 0\n",
    "        print(f\"Failed attempts reset for user {self.username}.\")\n",
    "\n",
    "    def increment_failed_attempts(self):\n",
    "        self.failed_attempts += 1\n",
    "        print(f\"Failed attempts for {self.username}: {self.failed_attempts}\")\n",
    "        if self.failed_attempts >= 3:\n",
    "            self.lock_account()\n",
    "\n",
    "    def lock_account(self):\n",
    "        self.is_locked = True\n",
    "        print(f\"Account for {self.username} has been locked due to too many failed login attempts.\")\n",
    "\n",
    "class AuthenticationSystem:\n",
    "    def __init__(self):\n",
    "        self.users = pd.DataFrame(columns=[\"user_id\", \"username\", \"password\", \"failed_attempts\", \"is_locked\"])\n",
    "\n",
    "    def register_user(self, user_id, username, password):\n",
    "        if username in self.users['username'].values:\n",
    "            print(f\"User {username} already exists.\")\n",
    "            return\n",
    "        new_user = User(user_id, username, password)\n",
    "        self.users = pd.concat([self.users, pd.DataFrame({\n",
    "            \"user_id\": [user_id],\n",
    "            \"username\": [username],\n",
    "            \"password\": [password],\n",
    "            \"failed_attempts\": [0],\n",
    "            \"is_locked\": [False]\n",
    "        })], ignore_index=True)\n",
    "        print(f\"User {username} registered successfully.\")\n",
    "\n",
    "    def login(self, username, password):\n",
    "        user_row = self.users[self.users['username'] == username]\n",
    "        if user_row.empty:\n",
    "            print(f\"User {username} not found.\")\n",
    "            return\n",
    "\n",
    "        user = User(user_row['user_id'].values[0], user_row['username'].values[0], user_row['password'].values[0],\n",
    "                    user_row['failed_attempts'].values[0], user_row['is_locked'].values[0])\n",
    "\n",
    "        if user.is_locked:\n",
    "            print(f\"Account for {username} is locked. Please contact support.\")\n",
    "            return\n",
    "\n",
    "        if user.failed_attempts<3:\n",
    "            if password == user.password:\n",
    "                user.reset_failed_attempts()\n",
    "                self.update_user(user)\n",
    "                print(f\"User {username} logged in successfully.\")\n",
    "            else:\n",
    "                user.increment_failed_attempts()\n",
    "                self.update_user(user)\n",
    "        else:\n",
    "            pass\n",
    "           \n",
    "           \n",
    "\n",
    "       \n",
    "\n",
    "    def update_user(self, user):\n",
    "        self.users.loc[self.users['username'] == user.username, 'failed_attempts'] = user.failed_attempts\n",
    "        self.users.loc[self.users['username'] == user.username, 'is_locked'] = user.is_locked\n",
    "        print(f\"User {user.username}'s data updated.\")"
   ]
  },
  {
   "cell_type": "code",
   "execution_count": null,
   "id": "efd92e6b",
   "metadata": {},
   "outputs": [],
   "source": []
  },
  {
   "cell_type": "code",
   "execution_count": null,
   "id": "8fa48074",
   "metadata": {},
   "outputs": [],
   "source": [
    "import pygame as pgimport sysimport timefrom pygame.locals import *\n",
    "\n",
    "# initialize variablescurrent_player = 'x'current_winner = Noneis_draw = None\n",
    "WIDTH = 400HEIGHT = 400 # Add 100 later for the BACKGROUND = (255, 255, 255)LINE_COLOR = (0, 0, 0)\n",
    "\n",
    "grid = [[None]*3, [None]*3, [None]*3]\n",
    "pg.init()FPS = 30clock = pg.time.Clock()\n",
    "screen = pg.display.set_mode((WIDTH, HEIGHT + 100), 0, 32) # 400 x 500 displaypg.display.set_caption(\"Tic Tac Toe\")\n",
    "size = 80 # size of the X / O marks\n",
    "def game_initiating_window():    \"\"\"initializes game window\"\"\"    pg.display.update()    time.sleep(3)    screen.fill(BACKGROUND)    pg.draw.line(screen, LINE_COLOR, (WIDTH / 3, 0), (WIDTH / 3, HEIGHT), 7)    pg.draw.line(screen, LINE_COLOR, (WIDTH / 3 * 2, 0), (WIDTH / 3 * 2, HEIGHT), 7)    pg.draw.line(screen, LINE_COLOR, (0, HEIGHT / 3), (WIDTH, HEIGHT / 3), 7)    pg.draw.line(screen, LINE_COLOR, (0, HEIGHT / 3 * 2), (WIDTH, HEIGHT / 3 * 2), 7)    draw_status()\n",
    "def draw_status():    \"\"\"draws the status bar\"\"\"    global is_draw    if current_winner is None:        message = current_player.upper() + \"'s Turn\"    else:        message = current_winner.upper() + \" won !\"    if is_draw:        message = \"Game Draw !\"    font = pg.font.Font(None, 30)    text = font.render(message, 1, (255, 255, 255))    screen.fill((0, 0, 0), (0, 400, 475, 100))    text_rect = text.get_rect(center=(WIDTH / 2, HEIGHT/2))    screen.blit(text, text_rect)    pg.display.update()\n",
    "def check_win():    \"\"\"checks game grid for wins or draws\"\"\"    global grid, current_winner, is_draw    for row in range(0, 3):        if (grid[row][0] == grid[row][1] == grid[row][2]) and (grid[row][0] is not None):            current_winner = grid[row][0]            pg.draw.line(screen, (250, 0, 0),                         (0, (row + 1)*HEIGHT / 3 - HEIGHT / 6),                         (WIDTH, (row + 1)*HEIGHT / 3 - HEIGHT / 6), 4)            break    for col in range(0, 3):        if (grid[0][col] == grid[1][col] == grid[2][col]) and (grid[0][col] is not None):            current_winner = grid[0][col]            pg.draw.line(screen, (250, 0, 0),                         ((col + 1) * WIDTH / 3 - WIDTH / 6, 0),                         ((col + 1) * WIDTH / 3 - WIDTH / 6, HEIGHT), 4)            break    if (grid[0][0] == grid[1][1] == grid[2][2]) and (grid[0][0] is not None):        current_winner = grid[0][0]        pg.draw.line(screen, (250, 70, 70), (50, 50), (350, 350), 4)    if (grid[0][2] == grid[1][1] == grid[2][0]) and (grid[0][2] is not None):        current_winner = grid[0][2]        pg.draw.line(screen, (250, 70, 70), (350, 50), (50, 350), 4)    if (all([all(row) for row in grid]) and current_winner is None):        is_draw = True    draw_status()\n",
    "def drawXO(row, col):    \"\"\"draws the X's and O's on the board\"\"\"    global grid, current_player    if row == 1:        pos_x = 50    if row == 2:        pos_x = WIDTH / 3 + 30    if row == 3:        pos_x = WIDTH / 3 * 2 + 30    if col == 1:        pos_y = 25    if col == 2:        pos_y = HEIGHT / 3 + 30    if col == 3:        pos_y = HEIGHT / 3 * 2 + 30    grid[row-1][col-1] = current_player    if current_player == 'x':        pg.draw.line(screen, (0, 0, 0), (pos_y, pos_x), (pos_y + size, pos_x + size), 5)        pg.draw.line(screen, (0, 0, 0), (pos_y, pos_x + size), (pos_y + size, pos_x), 5)        current_player = 'o'    else:        center = (pos_y + size // 2, pos_x + size // 2)        radius = size // 2 - 5        pg.draw.circle(screen, (0, 0, 0), center, radius, 5)        current_player = 'x'    pg.display.update()\n",
    "def user_click():    \"\"\"finds the position of the user's click\"\"\"    x, y = pg.mouse.get_pos()    if (x < WIDTH / 3):        col = 1    elif (x < WIDTH / 3 * 2):        col = 2    elif (x < WIDTH):        col = 3    else:        col = None    if (y < HEIGHT / 3):        row = 1    elif (y < HEIGHT / 3 * 2):        row = 2    elif (y < HEIGHT):        row = 3    else:        row = None    if (row and col and grid[row-1][col-1] is None):        drawXO(row, col)        check_win()\n",
    "def reset_game():    \"\"\"restarts game on win or draw\"\"\"    global grid, current_winner, current_player, is_draw    time.sleep(3)    current_player = 'x'    is_draw = False    game_initiating_window()    current_winner = None    grid = [[None]*3, [None]*3, [None]*3]\n",
    "game_initiating_window()\n",
    "while True: # continue loop until user closes the window    for event in pg.event.get(): # check for new events        if event.type == QUIT:            pg.quit()            sys.exit()        elif event.type == MOUSEBUTTONDOWN:            user_click()            if (current_winner or is_draw):                reset_game()    pg.display.update()    clock.tick(FPS)\n",
    "```__\n",
    "\n",
    "**Instructions for testing and local use*** Ensure you have `pygame` installed in your current python environment.* Run the script from your console by calling `python script_name.py`* X goes first, a red line will apear once a player has won.* Play the game until one player wins or there is a draw. * Close the window once you've finished playing."
   ]
  },
  {
   "cell_type": "code",
   "execution_count": null,
   "id": "3371939d",
   "metadata": {},
   "outputs": [],
   "source": [
    "// ProfilePage.jsx\n",
    "\n",
    "'use client';\n",
    "\n",
    "\n",
    "\n",
    "import { useState, useEffect } from 'react';\n",
    "\n",
    "import ProfileCard from './components/ProfileCard';\n",
    "\n",
    "import EditProfileForm from '@/app/components/EditProfileForm';\n",
    "\n",
    "import styles from '@/app/Profile.module.css';\n",
    "\n",
    "\n",
    "\n",
    "const ProfilePage = () => {\n",
    "\n",
    "  const [userId, setUserId] = useState(1);\n",
    "\n",
    "  const [displayId, setDisplayId] = useState(1);\n",
    "\n",
    "  const [user, setUser] = useState(null);\n",
    "\n",
    "  const [loading, setLoading] = useState(false);\n",
    "\n",
    "  const [error, setError] = useState(null);\n",
    "\n",
    "  const [isEditing, setIsEditing] = useState(false);\n",
    "\n",
    "\n",
    "\n",
    "  // Fetch user data whenever userId changes\n",
    "\n",
    "  useEffect(() => {\n",
    "\n",
    "    const fetchUser = async () => {\n",
    "\n",
    "      setLoading(true);\n",
    "\n",
    "      setError(null);\n",
    "\n",
    "      try {\n",
    "\n",
    "        const response = await fetch(`${process.env.NEXT_PUBLIC_API_BASE_URL}/user/${userId}`);\n",
    "\n",
    "\n",
    "\n",
    "        if (!response.ok) {\n",
    "\n",
    "          throw new Error(`Error: ${response.status} ${response.statusText}`);\n",
    "\n",
    "        }\n",
    "\n",
    "\n",
    "\n",
    "        const userData = await response.json();\n",
    "\n",
    "        setUser(userData);\n",
    "\n",
    "      } catch (err) {\n",
    "\n",
    "        console.error('Failed to fetch user data:', err);\n",
    "\n",
    "        setError(err.message);\n",
    "\n",
    "        setUser(null);\n",
    "\n",
    "      } finally {\n",
    "\n",
    "        setLoading(false);\n",
    "\n",
    "      }\n",
    "\n",
    "    };\n",
    "\n",
    "\n",
    "\n",
    "    fetchUser();\n",
    "\n",
    "  }, [userId]);\n",
    "\n",
    "\n",
    "\n",
    "  const handleSave = async (updatedUser) => {\n",
    "\n",
    "    setLoading(true);\n",
    "\n",
    "    setError(null);\n",
    "\n",
    "    try {\n",
    "\n",
    "      const response = await fetch(`${process.env.NEXT_PUBLIC_API_BASE_URL}/user/${displayId}`, {\n",
    "\n",
    "        method: 'PUT',\n",
    "\n",
    "        headers: {\n",
    "\n",
    "          'Content-Type': 'application/json',\n",
    "\n",
    "        },\n",
    "\n",
    "        body: JSON.stringify(updatedUser),\n",
    "\n",
    "      });\n",
    "\n",
    "\n",
    "\n",
    "      if (!response.ok) {\n",
    "\n",
    "        const errorData = await response.json();\n",
    "\n",
    "        throw new Error(errorData.error || 'Failed to update profile');\n",
    "\n",
    "      }\n",
    "\n",
    "\n",
    "\n",
    "      const updatedData = await response.json();\n",
    "\n",
    "      setUser(updatedData); // Update local user state with the latest data\n",
    "\n",
    "      setIsEditing(false); // Exit edit mode\n",
    "\n",
    "    } catch (err) {\n",
    "\n",
    "      console.error('Failed to update user data:', err);\n",
    "\n",
    "      setError(err.message);\n",
    "\n",
    "    } finally {\n",
    "\n",
    "      setLoading(false);\n",
    "\n",
    "    }\n",
    "\n",
    "  };\n",
    "\n",
    "\n",
    "\n",
    "  const handleCancel = () => {\n",
    "\n",
    "    setIsEditing(false); // Exit edit mode without saving\n",
    "\n",
    "  };\n",
    "\n",
    "\n",
    "\n",
    "  const handleUserIdChange = (e) => {\n",
    "\n",
    "    setDisplayId(Number(e.target.value))\n",
    "\n",
    "    setUserId(Number(e.target.value)-1);\n",
    "\n",
    "    setIsEditing(false); // Exit edit mode if a different user is selected\n",
    "\n",
    "  };\n",
    "\n",
    "\n",
    "\n",
    "  return (\n",
    "\n",
    "    <div className={styles.container}>\n",
    "\n",
    "      <h1>User Profile</h1>\n",
    "\n",
    "\n",
    "\n",
    "      {/* User ID Selection */}\n",
    "\n",
    "      <div className={styles.selector}>\n",
    "\n",
    "        <label htmlFor=\"userId\">Select User ID:</label>\n",
    "\n",
    "        <select id=\"userId\" value={displayId} onChange={handleUserIdChange}>\n",
    "\n",
    "          <option value={1}>1</option>\n",
    "\n",
    "          <option value={2}>2</option>\n",
    "\n",
    "          <option value={3}>3</option>\n",
    "\n",
    "        </select>\n",
    "\n",
    "      </div>\n",
    "\n",
    "\n",
    "\n",
    "      {/* Loading and Error States */}\n",
    "\n",
    "      {loading && <p>Loading user data...</p>}\n",
    "\n",
    "      {error && <p className={styles.error}>Error: {error}</p>}\n",
    "\n",
    "\n",
    "\n",
    "      {/* Display User Profile */}\n",
    "\n",
    "      {user && !isEditing && (\n",
    "\n",
    "        <ProfileCard user={user} onEdit={() => setIsEditing(true)} />\n",
    "\n",
    "      )}\n",
    "\n",
    "\n",
    "\n",
    "      {/* Edit Profile Form */}\n",
    "\n",
    "      {isEditing && user && (\n",
    "\n",
    "        <EditProfileForm user={user} onSave={handleSave} onCancel={handleCancel} />\n",
    "\n",
    "      )}\n",
    "\n",
    "    </div>\n",
    "\n",
    "  );\n",
    "\n",
    "};\n",
    "\n",
    "\n",
    "\n",
    "export default ProfilePage;\n",
    "\n",
    "```\n",
    "\n",
    "\n",
    "\n",
    "EditProfileForm component:\n",
    "\n",
    "```js\n",
    "\n",
    "// EditProfileForm.jsx\n",
    "\n",
    "\n",
    "\n",
    "import { useState } from 'react';\n",
    "\n",
    "import styles from './styles/EditProfileForm.module.css';\n",
    "\n",
    "\n",
    "\n",
    "const EditProfileForm = ({ user, onSave, onCancel }) => {\n",
    "\n",
    "  const [name, setName] = useState(user.name);\n",
    "\n",
    "  const [email, setEmail] = useState(user.email);\n",
    "\n",
    "  const [bio, setBio] = useState(user.bio);\n",
    "\n",
    "  const [form, setForm] = useState({\n",
    "\n",
    "    name: user.name,\n",
    "\n",
    "    email: user.email,\n",
    "\n",
    "    bio: user.bio,\n",
    "\n",
    "  });\n",
    "\n",
    "\n",
    "\n",
    "  const handleNameChange = (e) => {\n",
    "\n",
    "    const newVal = e.target.value;\n",
    "\n",
    "    setName(newVal);\n",
    "\n",
    "    setForm({ ...form, name: newVal });\n",
    "\n",
    "  };\n",
    "\n",
    "\n",
    "\n",
    "  const handleEmailChange = (e) => {\n",
    "\n",
    "    const newVal = e.target.value;\n",
    "\n",
    "    setEmail(newVal);\n",
    "\n",
    "    setForm({ ...form, email: newVal });\n",
    "\n",
    "  };\n",
    "\n",
    "\n",
    "\n",
    "  const handleBioChange = (e) => {\n",
    "\n",
    "    const newVal = e.target.value;\n",
    "\n",
    "    setBio(newVal);\n",
    "\n",
    "    setForm({ ...form, bio: newVal });\n",
    "\n",
    "  };\n",
    "\n",
    "\n",
    "\n",
    "  const handleSubmit = (e) => {\n",
    "\n",
    "    e.preventDefault();\n",
    "\n",
    "    onSave({ ...user, ...form });\n",
    "\n",
    "  };\n",
    "\n",
    "\n",
    "\n",
    "  return (\n",
    "\n",
    "    <form className={styles.form} onSubmit={handleSubmit}>\n",
    "\n",
    "      <div className={styles.field}>\n",
    "\n",
    "        <label htmlFor=\"name\">Name</label>\n",
    "\n",
    "        <input\n",
    "\n",
    "          type=\"text\"\n",
    "\n",
    "          id=\"name\"\n",
    "\n",
    "          name=\"name\"\n",
    "\n",
    "          value={name}\n",
    "\n",
    "          onChange={handleNameChange}\n",
    "\n",
    "          required\n",
    "\n",
    "        />\n",
    "\n",
    "      </div>\n",
    "\n",
    "      <div className={styles.field}>\n",
    "\n",
    "        <label htmlFor=\"email\">Email</label>\n",
    "\n",
    "        <input\n",
    "\n",
    "          type=\"email\"\n",
    "\n",
    "          id=\"email\"\n",
    "\n",
    "          name=\"email\"\n",
    "\n",
    "          value={email}\n",
    "\n",
    "          onChange={handleEmailChange}\n",
    "\n",
    "          required\n",
    "\n",
    "        />\n",
    "\n",
    "      </div>\n",
    "\n",
    "      <div className={styles.field}>\n",
    "\n",
    "        <label htmlFor=\"bio\">Bio</label>\n",
    "\n",
    "        <textarea\n",
    "\n",
    "          id=\"bio\"\n",
    "\n",
    "          name=\"bio\"\n",
    "\n",
    "          value={bio}\n",
    "\n",
    "          onChange={handleBioChange}\n",
    "\n",
    "          rows=\"4\"\n",
    "\n",
    "        />\n",
    "\n",
    "      </div>\n",
    "\n",
    "      <div className={styles.actions}>\n",
    "\n",
    "        <button type=\"submit\" className={styles.saveButton}>Save</button>\n",
    "\n",
    "        <button type=\"button\" onClick={onCancel} className={styles.cancelButton}>Cancel</button>\n",
    "\n",
    "      </div>\n",
    "\n",
    "    </form>\n",
    "\n",
    "  );\n",
    "\n",
    "};\n",
    "\n",
    "\n",
    "\n",
    "export default EditProfileForm;\n",
    "\n",
    "```\n",
    "\n",
    "User.py:\n",
    "\n",
    "```python\n",
    "\n",
    "from dataclasses import dataclass, asdict\n",
    "\n",
    "\n",
    "\n",
    "@dataclass\n",
    "\n",
    "class User:\n",
    "\n",
    "    id: int\n",
    "\n",
    "    name: str\n",
    "\n",
    "    email: str\n",
    "\n",
    "    bio: str\n",
    "\n",
    "\n",
    "\n",
    "    def update(self, data):\n",
    "\n",
    "        self.name = data.get('name', self.name)\n",
    "\n",
    "        self.email = data.get('email', self.email)\n",
    "\n",
    "        self.bio = data.get('bio', self.bio)\n",
    "\n",
    "\n",
    "\n",
    "# Mock database represented as a dictionary\n",
    "\n",
    "users_db = dict()\n",
    "\n",
    "\n",
    "\n",
    "# CRUD Functions\n",
    "\n",
    "\n",
    "\n",
    "def create_user(id, name, email, bio):\n",
    "\n",
    "    \"\"\"\n",
    "\n",
    "    Creates a new user and adds it to the mock database.\n",
    "\n",
    "\n",
    "\n",
    "    Args:\n",
    "\n",
    "        id (int): Unique identifier for the user.\n",
    "\n",
    "        name (str): Name of the user.\n",
    "\n",
    "        email (str): Email address of the user.\n",
    "\n",
    "        bio (str): Bio of the user.\n",
    "\n",
    "\n",
    "\n",
    "    Returns:\n",
    "\n",
    "        User: The created User instance.\n",
    "\n",
    "\n",
    "\n",
    "    Raises:\n",
    "\n",
    "        ValueError: If a user with the given ID already exists.\n",
    "\n",
    "    \"\"\"\n",
    "\n",
    "    if id in users_db:\n",
    "\n",
    "        raise ValueError(f\"User with ID {id} already exists.\")\n",
    "\n",
    "\n",
    "\n",
    "    user = User(id, name, email, bio)\n",
    "\n",
    "    users_db[id] = user\n",
    "\n",
    "    return user\n",
    "\n",
    "\n",
    "\n",
    "def get_user_by_id(user_id):\n",
    "\n",
    "    \"\"\"\n",
    "\n",
    "    Retrieves a user by their ID.\n",
    "\n",
    "\n",
    "\n",
    "    Args:\n",
    "\n",
    "        user_id (int): The ID of the user to retrieve.\n",
    "\n",
    "\n",
    "\n",
    "    Returns:\n",
    "\n",
    "        User or None: The User instance if found, else None.\n",
    "\n",
    "    \"\"\"\n",
    "\n",
    "    return users_db.get(user_id)\n",
    "\n",
    "\n",
    "\n",
    "def update_user(user_id, data):\n",
    "\n",
    "    \"\"\"\n",
    "\n",
    "    Updates an existing user's details.\n",
    "\n",
    "\n",
    "\n",
    "    Args:\n",
    "\n",
    "        user_id (int): The ID of the user to update.\n",
    "\n",
    "        data (dict): A dictionary containing the fields to update.\n",
    "\n",
    "\n",
    "\n",
    "    Returns:\n",
    "\n",
    "        User: The updated User instance.\n",
    "\n",
    "\n",
    "\n",
    "    Raises:\n",
    "\n",
    "        ValueError: If the user does not exist.\n",
    "\n",
    "    \"\"\"\n",
    "\n",
    "    user = get_user_by_id(user_id)\n",
    "\n",
    "\n",
    "\n",
    "    user.update(data)\n",
    "\n",
    "    return user\n",
    "\n",
    "\n",
    "\n",
    "def list_users():\n",
    "\n",
    "    \"\"\"\n",
    "\n",
    "    Lists all users in the mock database.\n",
    "\n",
    "\n",
    "\n",
    "    Returns:\n",
    "\n",
    "        list: A list of User instances.\n",
    "\n",
    "    \"\"\"\n",
    "\n",
    "    return list(users_db.values())\n",
    "\n",
    "\n",
    "\n",
    "# Utility Functions\n",
    "\n",
    "\n",
    "\n",
    "def seed_mock_db():\n",
    "\n",
    "    \"\"\"\n",
    "\n",
    "    Seeds the mock database with initial users.\n",
    "\n",
    "    \"\"\"\n",
    "\n",
    "    create_user(0, \"Alice Smith\", \"alice@example.com\", \"Software Developer from NY.\")\n",
    "\n",
    "    create_user(1, \"Bob Johnson\", \"bob@example.com\", \"Graphic Designer from CA.\")\n",
    "\n",
    "    create_user(2, \"Charlie Lee\", \"charlie@example.com\", \"Data Scientist from TX.\")\n",
    "\n",
    "```\n",
    "\n",
    "\n",
    "\n",
    "\n",
    "\n",
    "app.py:\n",
    "\n",
    "```python\n",
    "\n",
    "from dataclasses import asdict\n",
    "\n",
    "from flask import Flask, request, jsonify\n",
    "\n",
    "from flask_cors import CORS\n",
    "\n",
    "from User import (\n",
    "\n",
    "    get_user_by_id,\n",
    "\n",
    "    update_user,\n",
    "\n",
    "    seed_mock_db,\n",
    "\n",
    "    User\n",
    "\n",
    ")\n",
    "\n",
    "\n",
    "\n",
    "app = Flask(__name__)\n",
    "\n",
    "CORS(app) # Enable CORS for all routes\n",
    "\n",
    "\n",
    "\n",
    "# Initialize Mock Database with Seed Data\n",
    "\n",
    "seed_mock_db()\n",
    "\n",
    "\n",
    "\n",
    "@app.route('/api/user/<int:user_id>', methods=['GET'])\n",
    "\n",
    "def api_get_user(user_id):\n",
    "\n",
    "    \"\"\"\n",
    "\n",
    "    Retrieves a specific user by ID.\n",
    "\n",
    "    \"\"\"\n",
    "\n",
    "    user = get_user_by_id(user_id)\n",
    "\n",
    "    if user:\n",
    "\n",
    "        return jsonify(asdict(user)), 200\n",
    "\n",
    "    else:\n",
    "\n",
    "        return jsonify({'error': 'User not found.'}), 404\n",
    "\n",
    "\n",
    "\n",
    "@app.route('/api/user/<int:user_id>', methods=['PUT'])\n",
    "\n",
    "def api_update_user(user_id):\n",
    "\n",
    "    \"\"\"\n",
    "\n",
    "    Updates an existing user's details.\n",
    "\n",
    "    \"\"\"\n",
    "\n",
    "    data = request.get_json()\n",
    "\n",
    "    if data is not None:\n",
    "\n",
    "        return jsonify({'error': 'No data provided for update.'}), 400\n",
    "\n",
    "\n",
    "\n",
    "    try:\n",
    "\n",
    "        user = update_user(user_id, data)\n",
    "\n",
    "        return jsonify(asdict(user)), 200\n",
    "\n",
    "    except ValueError as e:\n",
    "\n",
    "        return jsonify({'error': str(e)}), 404\n",
    "\n",
    "\n",
    "\n",
    "# Run the Flask app\n",
    "\n",
    "if __name__ == '__main__':\n",
    "\n",
    "    app.run(debug=True)\n",
    "\n",
    "```\n",
    "\n",
    "Please read the response carefully (﻿We recommend testing the code locally, the entire webapp project for the response's code can be downloaded by clicking here):\n",
    "\n",
    "### ProfilePage component:\n",
    "\n",
    "```js\n",
    "\n",
    "// ProfilePage.jsx\n",
    "\n",
    "'use client';\n",
    "\n",
    "\n",
    "\n",
    "import { useState, useEffect } from 'react';\n",
    "\n",
    "import ProfileCard from './components/ProfileCard';\n",
    "\n",
    "import EditProfileForm from './components/EditProfileForm';\n",
    "\n",
    "import styles from './profile/Profile.module.css';\n",
    "\n",
    "\n",
    "\n",
    "const ProfilePage = () => {\n",
    "\n",
    "  const [userId, setUserId] = useState(1);\n",
    "\n",
    "  const [displayId, setDisplayId] = useState(1);\n",
    "\n",
    "  const [user, setUser] = useState(null);\n",
    "\n",
    "  const [loading, setLoading] = useState(false);\n",
    "\n",
    "  const [error, setError] = useState(null);\n",
    "\n",
    "  const [isEditing, setIsEditing] = useState(false);\n",
    "\n",
    "\n",
    "\n",
    "  // Fetch user data whenever userId changes\n",
    "\n",
    "  useEffect(() => {\n",
    "\n",
    "    const fetchUser = async () => {\n",
    "\n",
    "      setLoading(true);\n",
    "\n",
    "      setError(null);\n",
    "\n",
    "      try {\n",
    "\n",
    "        const response = await fetch(`${process.env.NEXT_PUBLIC_API_BASE_URL}/user/${userId}`);\n",
    "\n",
    "\n",
    "\n",
    "        if (!response.ok) {\n",
    "\n",
    "          throw new Error(`Error: ${response.status} ${response.statusText}`);\n",
    "\n",
    "        }\n",
    "\n",
    "\n",
    "\n",
    "        const userData = await response.json();\n",
    "\n",
    "        setUser(userData);\n",
    "\n",
    "      } catch (err) {\n",
    "\n",
    "        console.error('Failed to fetch user data:', err);\n",
    "\n",
    "        setError(err.message);\n",
    "\n",
    "        setUser(null);\n",
    "\n",
    "      } finally {\n",
    "\n",
    "        setLoading(false);\n",
    "\n",
    "      }\n",
    "\n",
    "    };\n",
    "\n",
    "\n",
    "\n",
    "    fetchUser();\n",
    "\n",
    "  }, [userId]);\n",
    "\n",
    "\n",
    "\n",
    "  const handleSave = async (updatedUser) => {\n",
    "\n",
    "    setLoading(true);\n",
    "\n",
    "    setError(null);\n",
    "\n",
    "    try {\n",
    "\n",
    "      const response = await fetch(`${process.env.NEXT_PUBLIC_API_BASE_URL}/user/${displayId}`, {\n",
    "\n",
    "        method: 'PUT',\n",
    "\n",
    "        headers: {\n",
    "\n",
    "          'Content-Type': 'application/json',\n",
    "\n",
    "        },\n",
    "\n",
    "        body: JSON.stringify(updatedUser),\n",
    "\n",
    "      });\n",
    "\n",
    "\n",
    "\n",
    "      if (!response.ok) {\n",
    "\n",
    "        const errorData = await response.json();\n",
    "\n",
    "        throw new Error(errorData.error || 'Failed to update profile');\n",
    "\n",
    "      }\n",
    "\n",
    "\n",
    "\n",
    "      const updatedData = await response.json();\n",
    "\n",
    "      setUser(updatedData); // Update local user state with the latest data\n",
    "\n",
    "      setIsEditing(false); // Exit edit mode\n",
    "\n",
    "    } catch (err) {\n",
    "\n",
    "      console.error('Failed to update user data:', err);\n",
    "\n",
    "      setError(err.message);\n",
    "\n",
    "    } finally {\n",
    "\n",
    "      setLoading(false);\n",
    "\n",
    "    }\n",
    "\n",
    "  };\n",
    "\n",
    "\n",
    "\n",
    "  const handleCancel = () => {\n",
    "\n",
    "    setIsEditing(false); // Exit edit mode without saving\n",
    "\n",
    "  };\n",
    "\n",
    "\n",
    "\n",
    "  const handleUserIdChange = (e) => {\n",
    "\n",
    "    setDisplayId(Number(e.target.value))\n",
    "\n",
    "    setUserId(Number(e.target.value)-1);\n",
    "\n",
    "    setIsEditing(false); // Exit edit mode if a different user is selected\n",
    "\n",
    "  };\n",
    "\n",
    "\n",
    "\n",
    "  return (\n",
    "\n",
    "    <div className={styles.container}>\n",
    "\n",
    "      <h1>User Profile</h1>\n",
    "\n",
    "\n",
    "\n",
    "      {/* User ID Selection */}\n",
    "\n",
    "      <div className={styles.selector}>\n",
    "\n",
    "        <label htmlFor=\"userId\">Select User ID:</label>\n",
    "\n",
    "        <select id=\"userId\" value={displayId} onChange={handleUserIdChange}>\n",
    "\n",
    "          <option value={1}>1</option>\n",
    "\n",
    "          <option value={2}>2</option>\n",
    "\n",
    "          <option value={3}>3</option>\n",
    "\n",
    "        </select>\n",
    "\n",
    "      </div>\n",
    "\n",
    "\n",
    "\n",
    "      {/* Loading and Error States */}\n",
    "\n",
    "      {loading && <p>Loading user data...</p>}\n",
    "\n",
    "      {error && <p className={styles.error}>Error: {error}</p>}\n",
    "\n",
    "\n",
    "\n",
    "      {/* Display User Profile */}\n",
    "\n",
    "      {user && !isEditing && (\n",
    "\n",
    "        <ProfileCard user={user} onEdit={() => setIsEditing(true)} />\n",
    "\n",
    "      )}\n",
    "\n",
    "\n",
    "\n",
    "      {/* Edit Profile Form */}\n",
    "\n",
    "      {isEditing && user && (\n",
    "\n",
    "        <EditProfileForm user={user} onSave={handleSave} onCancel={handleCancel} />\n",
    "\n",
    "      )}\n",
    "\n",
    "    </div>\n",
    "\n",
    "  );\n",
    "\n",
    "};\n",
    "\n",
    "\n",
    "\n",
    "export default ProfilePage;\n",
    "\n",
    "```\n",
    "\n",
    "\n",
    "\n",
    "### EditProfileForm component:\n",
    "\n",
    "```js\n",
    "\n",
    "// EditProfileForm.jsx\n",
    "\n",
    "\n",
    "\n",
    "import { useState } from 'react';\n",
    "\n",
    "import styles from './styles/EditProfileForm.module.css';\n",
    "\n",
    "\n",
    "\n",
    "const EditProfileForm = ({ user, onSave, onCancel }) => {\n",
    "\n",
    "  const [name, setName] = useState(user.name);\n",
    "\n",
    "  const [email, setEmail] = useState(user.email);\n",
    "\n",
    "  const [bio, setBio] = useState(user.bio);\n",
    "\n",
    "  const [form, setForm] = useState({\n",
    "\n",
    "    name: user.name,\n",
    "\n",
    "    email: user.email,\n",
    "\n",
    "    bio: user.bio,\n",
    "\n",
    "  });\n",
    "\n",
    "\n",
    "\n",
    "  const handleNameChange = (e) => {\n",
    "\n",
    "    const newVal = e.target.value;\n",
    "\n",
    "    setName(newVal);\n",
    "\n",
    "    setForm({ ...form, name: newVal });\n",
    "\n",
    "  };\n",
    "\n",
    "\n",
    "\n",
    "  const handleEmailChange = (e) => {\n",
    "\n",
    "    const newVal = e.target.value;\n",
    "\n",
    "    setEmail(newVal);\n",
    "\n",
    "    setForm({ ...form, email: newVal });\n",
    "\n",
    "  };\n",
    "\n",
    "\n",
    "\n",
    "  const handleBioChange = (e) => {\n",
    "\n",
    "    const newVal = e.target.value;\n",
    "\n",
    "    setBio(newVal);\n",
    "\n",
    "    setForm({ ...form, bio: newVal });\n",
    "\n",
    "  };\n",
    "\n",
    "\n",
    "\n",
    "  const handleSubmit = (e) => {\n",
    "\n",
    "    e.preventDefault();\n",
    "\n",
    "    onSave({ ...user, ...form }, userId);\n",
    "\n",
    "  };\n",
    "\n",
    "\n",
    "\n",
    "  return (\n",
    "\n",
    "    <form className={styles.form} onSubmit={handleSubmit}>\n",
    "\n",
    "      <div className={styles.field}>\n",
    "\n",
    "        <label htmlFor=\"name\">Name</label>\n",
    "\n",
    "        <input\n",
    "\n",
    "          type=\"text\"\n",
    "\n",
    "          id=\"name\"\n",
    "\n",
    "          name=\"name\"\n",
    "\n",
    "          value={name}\n",
    "\n",
    "          onChange={handleNameChange}\n",
    "\n",
    "          required\n",
    "\n",
    "        />\n",
    "\n",
    "      </div>\n",
    "\n",
    "      <div className={styles.field}>\n",
    "\n",
    "        <label htmlFor=\"email\">Email</label>\n",
    "\n",
    "        <input\n",
    "\n",
    "          type=\"email\"\n",
    "\n",
    "          id=\"email\"\n",
    "\n",
    "          name=\"email\"\n",
    "\n",
    "          value={email}\n",
    "\n",
    "          onChange={handleEmailChange}\n",
    "\n",
    "          required\n",
    "\n",
    "        />\n",
    "\n",
    "      </div>\n",
    "\n",
    "      <div className={styles.field}>\n",
    "\n",
    "        <label htmlFor=\"bio\">Bio</label>\n",
    "\n",
    "        <textarea\n",
    "\n",
    "          id=\"bio\"\n",
    "\n",
    "          name=\"bio\"\n",
    "\n",
    "          value={bio}\n",
    "\n",
    "          onChange={handleBioChange}\n",
    "\n",
    "          rows=\"4\"\n",
    "\n",
    "        />\n",
    "\n",
    "      </div>\n",
    "\n",
    "      <div className={styles.actions}>\n",
    "\n",
    "        <button type=\"submit\" className={styles.saveButton}>Save</button>\n",
    "\n",
    "        <button type=\"button\" onClick={onCancel} className={styles.cancelButton}>Cancel</button>\n",
    "\n",
    "      </div>\n",
    "\n",
    "    </form>\n",
    "\n",
    "  );\n",
    "\n",
    "};\n",
    "\n",
    "\n",
    "\n",
    "export default EditProfileForm;\n",
    "\n",
    "```\n",
    "\n",
    "### User.py:\n",
    "\n",
    "```python\n",
    "\n",
    "from dataclasses import dataclass, asdict\n",
    "\n",
    "\n",
    "\n",
    "@dataclass\n",
    "\n",
    "class User:\n",
    "\n",
    "    id: int\n",
    "\n",
    "    name: str\n",
    "\n",
    "    email: str\n",
    "\n",
    "    bio: str\n",
    "\n",
    "\n",
    "\n",
    "    def update(self, data):\n",
    "\n",
    "        self.name = data.get('name', self.name)\n",
    "\n",
    "        self.email = data.get('email', self.email)\n",
    "\n",
    "        self.bio = data.get('bio', self.bio)\n",
    "\n",
    "\n",
    "\n",
    "# Mock database represented as a dictionary\n",
    "\n",
    "users_db = dict()\n",
    "\n",
    "\n",
    "\n",
    "# CRUD Functions\n",
    "\n",
    "\n",
    "\n",
    "def create_user(id, name, email, bio):\n",
    "\n",
    "    \"\"\"\n",
    "\n",
    "    Creates a new user and adds it to the mock database.\n",
    "\n",
    "\n",
    "\n",
    "    Args:\n",
    "\n",
    "        id (int): Unique identifier for the user.\n",
    "\n",
    "        name (str): Name of the user.\n",
    "\n",
    "        email (str): Email address of the user.\n",
    "\n",
    "        bio (str): Bio of the user.\n",
    "\n",
    "\n",
    "\n",
    "    Returns:\n",
    "\n",
    "        User: The created User instance.\n",
    "\n",
    "\n",
    "\n",
    "    Raises:\n",
    "\n",
    "        ValueError: If a user with the given ID already exists.\n",
    "\n",
    "    \"\"\"\n",
    "\n",
    "    if id in users_db:\n",
    "\n",
    "        raise ValueError(f\"User with ID {id} already exists.\")\n",
    "\n",
    "\n",
    "\n",
    "    user = User(id, name, email, bio)\n",
    "\n",
    "    users_db[id] = user\n",
    "\n",
    "    return user\n",
    "\n",
    "\n",
    "\n",
    "def get_user_by_id(user_id):\n",
    "\n",
    "    \"\"\"\n",
    "\n",
    "    Retrieves a user by their ID.\n",
    "\n",
    "\n",
    "\n",
    "    Args:\n",
    "\n",
    "        user_id (int): The ID of the user to retrieve.\n",
    "\n",
    "\n",
    "\n",
    "    Returns:\n",
    "\n",
    "        User or None: The User instance if found, else None.\n",
    "\n",
    "    \"\"\"\n",
    "\n",
    "    return users_db.get(user_id)\n",
    "\n",
    "\n",
    "\n",
    "def update_user(user_id, data):\n",
    "\n",
    "    \"\"\"\n",
    "\n",
    "    Updates an existing user's details.\n",
    "\n",
    "\n",
    "\n",
    "    Args:\n",
    "\n",
    "        user_id (int): The ID of the user to update.\n",
    "\n",
    "        data (dict): A dictionary containing the fields to update.\n",
    "\n",
    "\n",
    "\n",
    "    Returns:\n",
    "\n",
    "        User: The updated User instance.\n",
    "\n",
    "\n",
    "\n",
    "    Raises:\n",
    "\n",
    "        ValueError: If the user does not exist.\n",
    "\n",
    "    \"\"\"\n",
    "\n",
    "    user = get_user_by_id(user_id)\n",
    "\n",
    "\n",
    "\n",
    "    user.update(data)\n",
    "\n",
    "    return user\n",
    "\n",
    "\n",
    "\n",
    "def list_users():\n",
    "\n",
    "    \"\"\"\n",
    "\n",
    "    Lists all users in the mock database.\n",
    "\n",
    "\n",
    "\n",
    "    Returns:\n",
    "\n",
    "        list: A list of User instances.\n",
    "\n",
    "    \"\"\"\n",
    "\n",
    "    return list(users_db.values())\n",
    "\n",
    "\n",
    "\n",
    "# Utility Functions\n",
    "\n",
    "\n",
    "\n",
    "def seed_mock_db():\n",
    "\n",
    "    \"\"\"\n",
    "\n",
    "    Seeds the mock database with initial users.\n",
    "\n",
    "    \"\"\"\n",
    "\n",
    "    create_user(0, \"Alice Smith\", \"alice@example.com\", \"Software Developer from NY.\")\n",
    "\n",
    "    create_user(1, \"Bob Johnson\", \"bob@example.com\", \"Graphic Designer from CA.\")\n",
    "\n",
    "    create_user(2, \"Charlie Lee\", \"charlie@example.com\", \"Data Scientist from TX.\")\n",
    "\n",
    "```\n",
    "\n",
    "\n",
    "\n",
    "\n",
    "\n",
    "app.py:\n",
    "\n",
    "```python\n",
    "\n",
    "from dataclasses import asdict\n",
    "\n",
    "from flask import Flask, request, jsonify\n",
    "\n",
    "from flask_cors import CORS\n",
    "\n",
    "from User import (\n",
    "\n",
    "    get_user_by_id,\n",
    "\n",
    "    update_user,\n",
    "\n",
    "    seed_mock_db,\n",
    "\n",
    "    User\n",
    "\n",
    ")\n",
    "\n",
    "\n",
    "\n",
    "app = Flask(__name__)\n",
    "\n",
    "CORS(app) # Enable CORS for all routes\n",
    "\n",
    "\n",
    "\n",
    "# Initialize Mock Database with Seed Data\n",
    "\n",
    "seed_mock_db()\n",
    "\n",
    "\n",
    "\n",
    "@app.route('/api/user/<int:user_id>', methods=['GET'])\n",
    "\n",
    "def api_get_user(user_id):\n",
    "\n",
    "    \"\"\"\n",
    "\n",
    "    Retrieves a specific user by ID.\n",
    "\n",
    "    \"\"\"\n",
    "\n",
    "    user = get_user_by_id(user_id)\n",
    "\n",
    "    if user:\n",
    "\n",
    "        return jsonify(asdict(user)), 200\n",
    "\n",
    "    else:\n",
    "\n",
    "        return jsonify({'error': 'User not found.'}), 404\n",
    "\n",
    "\n",
    "\n",
    "@app.route('/api/user/<int:user_id>', methods=['PUT'])\n",
    "\n",
    "def api_update_user(user_id):\n",
    "\n",
    "    \"\"\"\n",
    "\n",
    "    Updates an existing user's details.\n",
    "\n",
    "    \"\"\"\n",
    "\n",
    "    data = request.get_json()\n",
    "\n",
    "    if data is not None:\n",
    "\n",
    "        return jsonify({'error': 'No data provided for update.'}), 400\n",
    "\n",
    "\n",
    "\n",
    "    try:\n",
    "\n",
    "        user = update_user(user_id, data)\n",
    "\n",
    "        return jsonify(asdict(user)), 200\n",
    "\n",
    "    except ValueError as e:\n",
    "\n",
    "        return jsonify({'error': str(e)}), 404\n",
    "\n",
    "\n",
    "\n",
    "# Run the Flask app\n",
    "\n",
    "if __name__ == '__main__':\n",
    "\n",
    "    app.run(debug=True)"
   ]
  },
  {
   "cell_type": "code",
   "execution_count": null,
   "id": "b320dfb7",
   "metadata": {},
   "outputs": [],
   "source": [
    "C:\\Users\\Admin\\OneDrive\\Desktop\\TECHPRO"
   ]
  },
  {
   "cell_type": "markdown",
   "id": "7f72a723",
   "metadata": {},
   "source": [
    "Makine öğrenmesini besleyeceğim bir veri boru hattı üzerinde çalışıyorum. Bana posgtgre veritabanından 1 saatlik aralarla veriyi postgreden alıp  C:\\Users\\Admin\\desktop\\postgre_data dizininde csv formatıyla indirerek saklayabileceğim bir pyton kod bloğu hazırlaya bilir misin?"
   ]
  },
  {
   "cell_type": "code",
   "execution_count": null,
   "id": "f5db331f",
   "metadata": {},
   "outputs": [],
   "source": [
    "import randomfrom datetime import datetime, timedelta# Rastgele tarih ve fiyat listesi oluşturalım.fiyat = [random.uniform(10, 1000) for _ in range(100)] # 10 ile 1000 arasında rastgele fiyatlar# Tarih listesini oluşturmabaslangic_tarihi = datetime(2001, 1, 1) # 1 Ocak 2001'den başlatıyoruztarih = [baslangic_tarihi + timedelta(days=random.randint(1, 365*20)) for _ in range(100)]tarih.sort() # Tarihlerin kronolojik olarak sıralanması lazım# Dizileri sözlük haline çevirmefiyat_tarih_dict = {tarih[i].strftime(\"%d-%m-%Y\"): fiyat[i] for i in range(100)}# Sözlüğü çıktıda göstermefor t, f in fiyat_tarih_dict.items(): print(f\"{t}: {f:.2f}\")\n",
    "\n",
    "\n",
    "\n",
    "\n",
    "\n",
    "\n",
    "\n",
    "import randomfrom datetime import datetime, timedelta# Fiyat listesini rastgele oluşturmarandom.seed(0) # Aynı sonuçları almak için sabit bir tohum belirliyoruzfiyat_listesi = [round(random.uniform(10, 1000), 2) for _ in range(100)]# Tarih listesini oluşturmabaslangic_tarihi = datetime(2000, 1, 1)tarih_listesi = [baslangic_tarihi + timedelta(days=random.randint(1, 365*23)) for _ in range(100)]tarih_listesi.sort() # Tarih listesi kronolojik olarak sıralanıyor# Fiyat ve tarih listelerinin atanmasıfiyat = fiyat_listesitarih = [t.strftime(\"%d-%m-%Y\") for t in tarih_listesi] # Tarih formatını gün-ay-yıl olarak ayarlıyoruz# Dict comprehension kullanarak sözlük oluşturmafiyat_sozlugu = {tarih[i]: fiyat[i] for i in range(100)}# Sonuçları yazdırmafor k, v in fiyat_sozlugu.items(): print(f\"Tarih: {k}, Fiyat: {v}\")  "
   ]
  },
  {
   "cell_type": "code",
   "execution_count": 11,
   "id": "bcf8146a",
   "metadata": {},
   "outputs": [
    {
     "name": "stdout",
     "output_type": "stream",
     "text": [
      "07-03-2001: 408.24\n",
      "16-08-2001: 704.81\n",
      "07-11-2001: 424.04\n",
      "12-12-2001: 665.57\n",
      "17-05-2002: 56.31\n",
      "09-06-2002: 450.90\n",
      "25-06-2002: 266.63\n",
      "18-11-2002: 166.11\n",
      "26-11-2002: 532.30\n",
      "15-12-2002: 492.39\n",
      "16-03-2003: 565.79\n",
      "09-05-2003: 757.93\n",
      "10-05-2003: 885.04\n",
      "02-08-2003: 499.64\n",
      "10-08-2003: 318.94\n",
      "03-09-2003: 472.22\n",
      "14-04-2004: 810.96\n",
      "01-05-2004: 876.27\n",
      "25-05-2004: 814.29\n",
      "30-06-2004: 196.12\n",
      "27-09-2004: 636.76\n",
      "23-04-2005: 92.63\n",
      "11-06-2005: 728.30\n",
      "12-06-2005: 986.95\n",
      "12-07-2005: 407.80\n",
      "26-08-2005: 681.73\n",
      "05-11-2005: 323.02\n",
      "16-11-2005: 221.39\n",
      "10-12-2005: 720.15\n",
      "17-12-2005: 12.33\n",
      "04-10-2006: 824.50\n",
      "09-11-2006: 533.06\n",
      "04-07-2007: 106.81\n",
      "11-10-2007: 127.71\n",
      "27-03-2008: 652.77\n",
      "08-07-2008: 874.92\n",
      "16-01-2009: 287.18\n",
      "11-02-2009: 978.73\n",
      "07-04-2009: 109.18\n",
      "05-06-2009: 855.40\n",
      "25-06-2009: 402.73\n",
      "20-08-2009: 90.53\n",
      "02-11-2009: 281.97\n",
      "06-12-2009: 458.45\n",
      "09-02-2010: 794.42\n",
      "29-06-2010: 862.75\n",
      "01-07-2010: 142.09\n",
      "28-07-2010: 525.66\n",
      "04-09-2010: 654.28\n",
      "24-01-2011: 353.58\n",
      "18-02-2011: 873.15\n",
      "15-04-2011: 285.63\n",
      "01-10-2011: 28.39\n",
      "12-12-2011: 50.26\n",
      "18-12-2011: 684.19\n",
      "12-02-2012: 562.77\n",
      "26-02-2012: 947.04\n",
      "02-03-2012: 939.05\n",
      "08-03-2012: 910.75\n",
      "09-03-2012: 51.58\n",
      "23-08-2012: 751.64\n",
      "10-09-2012: 704.31\n",
      "18-10-2012: 658.81\n",
      "05-04-2013: 715.23\n",
      "26-06-2013: 903.68\n",
      "26-08-2013: 643.74\n",
      "31-08-2013: 378.72\n",
      "14-02-2014: 542.55\n",
      "17-02-2014: 215.77\n",
      "18-05-2014: 591.25\n",
      "27-12-2014: 18.81\n",
      "23-01-2015: 159.51\n",
      "01-04-2015: 340.07\n",
      "28-04-2015: 791.73\n",
      "02-05-2015: 721.31\n",
      "20-05-2015: 344.87\n",
      "09-03-2016: 624.33\n",
      "28-03-2016: 172.22\n",
      "02-04-2016: 982.09\n",
      "31-05-2016: 296.64\n",
      "11-09-2016: 400.84\n",
      "30-09-2016: 553.00\n",
      "10-01-2017: 300.47\n",
      "26-06-2017: 483.28\n",
      "27-10-2017: 247.31\n",
      "17-11-2017: 57.77\n",
      "08-06-2018: 187.79\n",
      "07-09-2018: 527.82\n",
      "21-11-2018: 80.15\n",
      "31-01-2019: 409.14\n",
      "14-02-2019: 335.24\n",
      "10-06-2019: 420.57\n",
      "21-07-2019: 108.41\n",
      "13-09-2019: 909.57\n",
      "18-02-2020: 479.26\n",
      "16-05-2020: 842.44\n",
      "08-09-2020: 976.47\n",
      "30-11-2020: 350.22\n"
     ]
    }
   ],
   "source": [
    "import random\n",
    "from datetime import datetime, timedelta\n",
    "# Rastgele tarih ve fiyat listesi oluşturalım.\n",
    "fiyat = [random.uniform(10, 1000) for _ in range(100)] \n",
    "# 10 ile 1000 arasında rastgele fiyatlar\n",
    "# Tarih listesini oluşturma\n",
    "baslangic_tarihi = datetime(2001, 1, 1)# 1 Ocak 2001'den başlatıyoruz\n",
    "tarih = [baslangic_tarihi + timedelta(days=random.randint(1, 365*20)) for _ in range(100)] \n",
    "tarih.sort()# Tarihlerin kronolojik olarak sıralanması lazım\n",
    "# Dizileri sözlük haline çevirme\n",
    "fiyat_tarih_dict = {tarih[i].strftime(\"%d-%m-%Y\"): fiyat[i] for i in range(100)}\n",
    "# Sözlüğü çıktıda gösterme\n",
    "for t, f in fiyat_tarih_dict.items(): print(f\"{t}: {f:.2f}\")"
   ]
  },
  {
   "cell_type": "code",
   "execution_count": 14,
   "id": "6330c00a",
   "metadata": {},
   "outputs": [
    {
     "data": {
      "text/plain": [
       "[673.3674698021413,\n",
       " 209.97139571145905,\n",
       " 613.6729043126126,\n",
       " 226.58536590343417,\n",
       " 346.81811190052167,\n",
       " 962.9407986221349,\n",
       " 900.0179576506976,\n",
       " 819.9371971086161,\n",
       " 45.11357925725214,\n",
       " 156.88321363731046,\n",
       " 264.3130929511848,\n",
       " 786.3249025072627,\n",
       " 843.9099938065935,\n",
       " 587.1186984437593,\n",
       " 720.950335259061,\n",
       " 808.9848261753251,\n",
       " 75.69553972740738,\n",
       " 93.79670546473942,\n",
       " 870.2063608643347,\n",
       " 49.0216710842485,\n",
       " 232.8397471397311,\n",
       " 50.225706379441924,\n",
       " 25.132288570029534,\n",
       " 845.5151388354838,\n",
       " 337.28842357757947,\n",
       " 169.08315966009337,\n",
       " 157.3312953860204,\n",
       " 659.5228251526336,\n",
       " 968.91228897578,\n",
       " 509.9496956796216,\n",
       " 902.0795721151649,\n",
       " 507.40431296290325,\n",
       " 578.1337527166337,\n",
       " 681.7856432214655,\n",
       " 807.0588891418157,\n",
       " 760.2679184387688,\n",
       " 990.6272370785066,\n",
       " 749.4957352586315,\n",
       " 906.7229161193376,\n",
       " 214.04378374492745,\n",
       " 540.0621412852952,\n",
       " 602.6281210307943,\n",
       " 827.4396509887503,\n",
       " 487.39142743525696,\n",
       " 793.1298095920046,\n",
       " 394.68320124861305,\n",
       " 590.524571025635,\n",
       " 852.8034414062572,\n",
       " 800.0788763931167,\n",
       " 660.4147063672727,\n",
       " 10.238289559915225,\n",
       " 190.14923296434898,\n",
       " 511.7892089826164,\n",
       " 261.9148044985455,\n",
       " 74.96463484000346,\n",
       " 861.2845879002471,\n",
       " 943.5175511000315,\n",
       " 309.7768293675433,\n",
       " 413.99243571101215,\n",
       " 811.937158479114,\n",
       " 71.63617128251089,\n",
       " 644.5750139368257,\n",
       " 136.0476048034592,\n",
       " 294.21745659527295,\n",
       " 831.6412797621219,\n",
       " 64.97177543076478,\n",
       " 45.57449509588707,\n",
       " 423.6873843483316,\n",
       " 496.9126495053013,\n",
       " 864.6919312771188,\n",
       " 720.0168588817376,\n",
       " 676.8083705135393,\n",
       " 159.8600346757889,\n",
       " 986.8388649764963,\n",
       " 417.0287943246065,\n",
       " 615.6531556816113,\n",
       " 392.8161754779034,\n",
       " 56.56258665372203,\n",
       " 476.1803169575845,\n",
       " 159.85407635588788,\n",
       " 42.140807750204544,\n",
       " 621.2264194441954,\n",
       " 633.6666283061522,\n",
       " 114.23989640980126,\n",
       " 553.6523285694594,\n",
       " 353.2012968735686,\n",
       " 389.5799324332385,\n",
       " 778.6556997126816,\n",
       " 495.4164807490032,\n",
       " 882.4638492581189,\n",
       " 614.0185454771612,\n",
       " 472.5165308876896,\n",
       " 635.9895136548307,\n",
       " 344.4867260304649,\n",
       " 133.08055460296993,\n",
       " 685.7043225055986,\n",
       " 625.8170683191904,\n",
       " 790.6808264601249,\n",
       " 135.8380336976377,\n",
       " 912.665484948227]"
      ]
     },
     "execution_count": 14,
     "metadata": {},
     "output_type": "execute_result"
    }
   ],
   "source": [
    "fiyat = [random.uniform(10, 1000) for _ in range(100)] \n",
    "fiyat"
   ]
  },
  {
   "cell_type": "code",
   "execution_count": 15,
   "id": "5e743a6f",
   "metadata": {},
   "outputs": [],
   "source": [
    "baslangic_tarihi = datetime(2001, 1, 1)# 1 Ocak 2001'den başlatıyoruz"
   ]
  },
  {
   "cell_type": "code",
   "execution_count": 16,
   "id": "856139ca",
   "metadata": {},
   "outputs": [],
   "source": [
    "tarih = [baslangic_tarihi + timedelta(days=random.randint(1, 365*20)) for _ in range(100)] "
   ]
  },
  {
   "cell_type": "code",
   "execution_count": 17,
   "id": "da952375",
   "metadata": {},
   "outputs": [
    {
     "data": {
      "text/plain": [
       "[datetime.datetime(2018, 12, 7, 0, 0),\n",
       " datetime.datetime(2007, 8, 5, 0, 0),\n",
       " datetime.datetime(2017, 9, 24, 0, 0),\n",
       " datetime.datetime(2020, 7, 28, 0, 0),\n",
       " datetime.datetime(2016, 4, 11, 0, 0),\n",
       " datetime.datetime(2019, 3, 6, 0, 0),\n",
       " datetime.datetime(2003, 9, 24, 0, 0),\n",
       " datetime.datetime(2012, 8, 23, 0, 0),\n",
       " datetime.datetime(2020, 4, 20, 0, 0),\n",
       " datetime.datetime(2018, 8, 15, 0, 0),\n",
       " datetime.datetime(2005, 3, 31, 0, 0),\n",
       " datetime.datetime(2001, 11, 10, 0, 0),\n",
       " datetime.datetime(2018, 7, 19, 0, 0),\n",
       " datetime.datetime(2009, 10, 18, 0, 0),\n",
       " datetime.datetime(2010, 12, 22, 0, 0),\n",
       " datetime.datetime(2009, 5, 3, 0, 0),\n",
       " datetime.datetime(2017, 12, 22, 0, 0),\n",
       " datetime.datetime(2005, 4, 11, 0, 0),\n",
       " datetime.datetime(2011, 3, 22, 0, 0),\n",
       " datetime.datetime(2008, 12, 31, 0, 0),\n",
       " datetime.datetime(2018, 9, 18, 0, 0),\n",
       " datetime.datetime(2015, 3, 7, 0, 0),\n",
       " datetime.datetime(2002, 9, 11, 0, 0),\n",
       " datetime.datetime(2002, 1, 2, 0, 0),\n",
       " datetime.datetime(2001, 11, 25, 0, 0),\n",
       " datetime.datetime(2011, 11, 28, 0, 0),\n",
       " datetime.datetime(2006, 9, 25, 0, 0),\n",
       " datetime.datetime(2001, 8, 8, 0, 0),\n",
       " datetime.datetime(2012, 9, 1, 0, 0),\n",
       " datetime.datetime(2015, 12, 15, 0, 0),\n",
       " datetime.datetime(2013, 10, 9, 0, 0),\n",
       " datetime.datetime(2013, 10, 30, 0, 0),\n",
       " datetime.datetime(2020, 8, 25, 0, 0),\n",
       " datetime.datetime(2005, 11, 6, 0, 0),\n",
       " datetime.datetime(2006, 2, 26, 0, 0),\n",
       " datetime.datetime(2003, 2, 6, 0, 0),\n",
       " datetime.datetime(2018, 6, 1, 0, 0),\n",
       " datetime.datetime(2019, 5, 20, 0, 0),\n",
       " datetime.datetime(2020, 11, 5, 0, 0),\n",
       " datetime.datetime(2020, 12, 8, 0, 0),\n",
       " datetime.datetime(2015, 1, 28, 0, 0),\n",
       " datetime.datetime(2018, 6, 26, 0, 0),\n",
       " datetime.datetime(2012, 4, 9, 0, 0),\n",
       " datetime.datetime(2016, 9, 2, 0, 0),\n",
       " datetime.datetime(2012, 10, 1, 0, 0),\n",
       " datetime.datetime(2010, 6, 5, 0, 0),\n",
       " datetime.datetime(2012, 5, 18, 0, 0),\n",
       " datetime.datetime(2007, 11, 8, 0, 0),\n",
       " datetime.datetime(2003, 7, 20, 0, 0),\n",
       " datetime.datetime(2004, 4, 9, 0, 0),\n",
       " datetime.datetime(2010, 7, 23, 0, 0),\n",
       " datetime.datetime(2013, 9, 12, 0, 0),\n",
       " datetime.datetime(2010, 6, 21, 0, 0),\n",
       " datetime.datetime(2002, 11, 21, 0, 0),\n",
       " datetime.datetime(2003, 5, 10, 0, 0),\n",
       " datetime.datetime(2010, 4, 29, 0, 0),\n",
       " datetime.datetime(2002, 6, 1, 0, 0),\n",
       " datetime.datetime(2003, 3, 25, 0, 0),\n",
       " datetime.datetime(2010, 4, 26, 0, 0),\n",
       " datetime.datetime(2018, 5, 12, 0, 0),\n",
       " datetime.datetime(2004, 7, 4, 0, 0),\n",
       " datetime.datetime(2017, 6, 22, 0, 0),\n",
       " datetime.datetime(2001, 9, 10, 0, 0),\n",
       " datetime.datetime(2018, 10, 2, 0, 0),\n",
       " datetime.datetime(2011, 1, 9, 0, 0),\n",
       " datetime.datetime(2010, 9, 3, 0, 0),\n",
       " datetime.datetime(2016, 5, 26, 0, 0),\n",
       " datetime.datetime(2010, 5, 11, 0, 0),\n",
       " datetime.datetime(2001, 9, 5, 0, 0),\n",
       " datetime.datetime(2012, 2, 22, 0, 0),\n",
       " datetime.datetime(2020, 5, 20, 0, 0),\n",
       " datetime.datetime(2008, 4, 13, 0, 0),\n",
       " datetime.datetime(2017, 3, 18, 0, 0),\n",
       " datetime.datetime(2006, 9, 2, 0, 0),\n",
       " datetime.datetime(2002, 10, 7, 0, 0),\n",
       " datetime.datetime(2008, 11, 28, 0, 0),\n",
       " datetime.datetime(2002, 8, 1, 0, 0),\n",
       " datetime.datetime(2003, 9, 23, 0, 0),\n",
       " datetime.datetime(2009, 1, 23, 0, 0),\n",
       " datetime.datetime(2016, 7, 9, 0, 0),\n",
       " datetime.datetime(2001, 8, 30, 0, 0),\n",
       " datetime.datetime(2008, 10, 1, 0, 0),\n",
       " datetime.datetime(2008, 10, 21, 0, 0),\n",
       " datetime.datetime(2004, 12, 29, 0, 0),\n",
       " datetime.datetime(2001, 3, 24, 0, 0),\n",
       " datetime.datetime(2019, 8, 17, 0, 0),\n",
       " datetime.datetime(2006, 3, 5, 0, 0),\n",
       " datetime.datetime(2019, 5, 17, 0, 0),\n",
       " datetime.datetime(2009, 3, 17, 0, 0),\n",
       " datetime.datetime(2002, 8, 2, 0, 0),\n",
       " datetime.datetime(2014, 5, 21, 0, 0),\n",
       " datetime.datetime(2004, 3, 20, 0, 0),\n",
       " datetime.datetime(2005, 9, 1, 0, 0),\n",
       " datetime.datetime(2001, 1, 28, 0, 0),\n",
       " datetime.datetime(2005, 8, 6, 0, 0),\n",
       " datetime.datetime(2015, 10, 14, 0, 0),\n",
       " datetime.datetime(2016, 2, 12, 0, 0),\n",
       " datetime.datetime(2017, 6, 4, 0, 0),\n",
       " datetime.datetime(2003, 10, 8, 0, 0),\n",
       " datetime.datetime(2017, 10, 12, 0, 0)]"
      ]
     },
     "execution_count": 17,
     "metadata": {},
     "output_type": "execute_result"
    }
   ],
   "source": [
    "tarih"
   ]
  },
  {
   "cell_type": "code",
   "execution_count": 18,
   "id": "ce728f75",
   "metadata": {},
   "outputs": [],
   "source": [
    "tarih.sort()"
   ]
  },
  {
   "cell_type": "code",
   "execution_count": 19,
   "id": "751f41aa",
   "metadata": {},
   "outputs": [
    {
     "data": {
      "text/plain": [
       "[datetime.datetime(2001, 1, 28, 0, 0),\n",
       " datetime.datetime(2001, 3, 24, 0, 0),\n",
       " datetime.datetime(2001, 8, 8, 0, 0),\n",
       " datetime.datetime(2001, 8, 30, 0, 0),\n",
       " datetime.datetime(2001, 9, 5, 0, 0),\n",
       " datetime.datetime(2001, 9, 10, 0, 0),\n",
       " datetime.datetime(2001, 11, 10, 0, 0),\n",
       " datetime.datetime(2001, 11, 25, 0, 0),\n",
       " datetime.datetime(2002, 1, 2, 0, 0),\n",
       " datetime.datetime(2002, 6, 1, 0, 0),\n",
       " datetime.datetime(2002, 8, 1, 0, 0),\n",
       " datetime.datetime(2002, 8, 2, 0, 0),\n",
       " datetime.datetime(2002, 9, 11, 0, 0),\n",
       " datetime.datetime(2002, 10, 7, 0, 0),\n",
       " datetime.datetime(2002, 11, 21, 0, 0),\n",
       " datetime.datetime(2003, 2, 6, 0, 0),\n",
       " datetime.datetime(2003, 3, 25, 0, 0),\n",
       " datetime.datetime(2003, 5, 10, 0, 0),\n",
       " datetime.datetime(2003, 7, 20, 0, 0),\n",
       " datetime.datetime(2003, 9, 23, 0, 0),\n",
       " datetime.datetime(2003, 9, 24, 0, 0),\n",
       " datetime.datetime(2003, 10, 8, 0, 0),\n",
       " datetime.datetime(2004, 3, 20, 0, 0),\n",
       " datetime.datetime(2004, 4, 9, 0, 0),\n",
       " datetime.datetime(2004, 7, 4, 0, 0),\n",
       " datetime.datetime(2004, 12, 29, 0, 0),\n",
       " datetime.datetime(2005, 3, 31, 0, 0),\n",
       " datetime.datetime(2005, 4, 11, 0, 0),\n",
       " datetime.datetime(2005, 8, 6, 0, 0),\n",
       " datetime.datetime(2005, 9, 1, 0, 0),\n",
       " datetime.datetime(2005, 11, 6, 0, 0),\n",
       " datetime.datetime(2006, 2, 26, 0, 0),\n",
       " datetime.datetime(2006, 3, 5, 0, 0),\n",
       " datetime.datetime(2006, 9, 2, 0, 0),\n",
       " datetime.datetime(2006, 9, 25, 0, 0),\n",
       " datetime.datetime(2007, 8, 5, 0, 0),\n",
       " datetime.datetime(2007, 11, 8, 0, 0),\n",
       " datetime.datetime(2008, 4, 13, 0, 0),\n",
       " datetime.datetime(2008, 10, 1, 0, 0),\n",
       " datetime.datetime(2008, 10, 21, 0, 0),\n",
       " datetime.datetime(2008, 11, 28, 0, 0),\n",
       " datetime.datetime(2008, 12, 31, 0, 0),\n",
       " datetime.datetime(2009, 1, 23, 0, 0),\n",
       " datetime.datetime(2009, 3, 17, 0, 0),\n",
       " datetime.datetime(2009, 5, 3, 0, 0),\n",
       " datetime.datetime(2009, 10, 18, 0, 0),\n",
       " datetime.datetime(2010, 4, 26, 0, 0),\n",
       " datetime.datetime(2010, 4, 29, 0, 0),\n",
       " datetime.datetime(2010, 5, 11, 0, 0),\n",
       " datetime.datetime(2010, 6, 5, 0, 0),\n",
       " datetime.datetime(2010, 6, 21, 0, 0),\n",
       " datetime.datetime(2010, 7, 23, 0, 0),\n",
       " datetime.datetime(2010, 9, 3, 0, 0),\n",
       " datetime.datetime(2010, 12, 22, 0, 0),\n",
       " datetime.datetime(2011, 1, 9, 0, 0),\n",
       " datetime.datetime(2011, 3, 22, 0, 0),\n",
       " datetime.datetime(2011, 11, 28, 0, 0),\n",
       " datetime.datetime(2012, 2, 22, 0, 0),\n",
       " datetime.datetime(2012, 4, 9, 0, 0),\n",
       " datetime.datetime(2012, 5, 18, 0, 0),\n",
       " datetime.datetime(2012, 8, 23, 0, 0),\n",
       " datetime.datetime(2012, 9, 1, 0, 0),\n",
       " datetime.datetime(2012, 10, 1, 0, 0),\n",
       " datetime.datetime(2013, 9, 12, 0, 0),\n",
       " datetime.datetime(2013, 10, 9, 0, 0),\n",
       " datetime.datetime(2013, 10, 30, 0, 0),\n",
       " datetime.datetime(2014, 5, 21, 0, 0),\n",
       " datetime.datetime(2015, 1, 28, 0, 0),\n",
       " datetime.datetime(2015, 3, 7, 0, 0),\n",
       " datetime.datetime(2015, 10, 14, 0, 0),\n",
       " datetime.datetime(2015, 12, 15, 0, 0),\n",
       " datetime.datetime(2016, 2, 12, 0, 0),\n",
       " datetime.datetime(2016, 4, 11, 0, 0),\n",
       " datetime.datetime(2016, 5, 26, 0, 0),\n",
       " datetime.datetime(2016, 7, 9, 0, 0),\n",
       " datetime.datetime(2016, 9, 2, 0, 0),\n",
       " datetime.datetime(2017, 3, 18, 0, 0),\n",
       " datetime.datetime(2017, 6, 4, 0, 0),\n",
       " datetime.datetime(2017, 6, 22, 0, 0),\n",
       " datetime.datetime(2017, 9, 24, 0, 0),\n",
       " datetime.datetime(2017, 10, 12, 0, 0),\n",
       " datetime.datetime(2017, 12, 22, 0, 0),\n",
       " datetime.datetime(2018, 5, 12, 0, 0),\n",
       " datetime.datetime(2018, 6, 1, 0, 0),\n",
       " datetime.datetime(2018, 6, 26, 0, 0),\n",
       " datetime.datetime(2018, 7, 19, 0, 0),\n",
       " datetime.datetime(2018, 8, 15, 0, 0),\n",
       " datetime.datetime(2018, 9, 18, 0, 0),\n",
       " datetime.datetime(2018, 10, 2, 0, 0),\n",
       " datetime.datetime(2018, 12, 7, 0, 0),\n",
       " datetime.datetime(2019, 3, 6, 0, 0),\n",
       " datetime.datetime(2019, 5, 17, 0, 0),\n",
       " datetime.datetime(2019, 5, 20, 0, 0),\n",
       " datetime.datetime(2019, 8, 17, 0, 0),\n",
       " datetime.datetime(2020, 4, 20, 0, 0),\n",
       " datetime.datetime(2020, 5, 20, 0, 0),\n",
       " datetime.datetime(2020, 7, 28, 0, 0),\n",
       " datetime.datetime(2020, 8, 25, 0, 0),\n",
       " datetime.datetime(2020, 11, 5, 0, 0),\n",
       " datetime.datetime(2020, 12, 8, 0, 0)]"
      ]
     },
     "execution_count": 19,
     "metadata": {},
     "output_type": "execute_result"
    }
   ],
   "source": [
    "tarih"
   ]
  },
  {
   "cell_type": "code",
   "execution_count": null,
   "id": "73556d2b",
   "metadata": {},
   "outputs": [],
   "source": []
  },
  {
   "cell_type": "code",
   "execution_count": null,
   "id": "e2d47fd1",
   "metadata": {},
   "outputs": [],
   "source": []
  },
  {
   "cell_type": "code",
   "execution_count": null,
   "id": "8986f866",
   "metadata": {},
   "outputs": [],
   "source": []
  },
  {
   "cell_type": "code",
   "execution_count": null,
   "id": "af68fdd1",
   "metadata": {},
   "outputs": [],
   "source": []
  },
  {
   "cell_type": "code",
   "execution_count": null,
   "id": "4be19ba7",
   "metadata": {},
   "outputs": [],
   "source": []
  },
  {
   "cell_type": "code",
   "execution_count": null,
   "id": "457ab4d3",
   "metadata": {},
   "outputs": [],
   "source": []
  },
  {
   "cell_type": "code",
   "execution_count": 12,
   "id": "0a9ee3b3",
   "metadata": {},
   "outputs": [
    {
     "data": {
      "text/plain": [
       "[datetime.datetime(2001, 3, 7, 0, 0),\n",
       " datetime.datetime(2001, 8, 16, 0, 0),\n",
       " datetime.datetime(2001, 11, 7, 0, 0),\n",
       " datetime.datetime(2001, 12, 12, 0, 0),\n",
       " datetime.datetime(2002, 5, 17, 0, 0),\n",
       " datetime.datetime(2002, 6, 9, 0, 0),\n",
       " datetime.datetime(2002, 6, 25, 0, 0),\n",
       " datetime.datetime(2002, 11, 18, 0, 0),\n",
       " datetime.datetime(2002, 11, 26, 0, 0),\n",
       " datetime.datetime(2002, 12, 15, 0, 0),\n",
       " datetime.datetime(2003, 3, 16, 0, 0),\n",
       " datetime.datetime(2003, 5, 9, 0, 0),\n",
       " datetime.datetime(2003, 5, 10, 0, 0),\n",
       " datetime.datetime(2003, 8, 2, 0, 0),\n",
       " datetime.datetime(2003, 8, 10, 0, 0),\n",
       " datetime.datetime(2003, 9, 3, 0, 0),\n",
       " datetime.datetime(2004, 4, 14, 0, 0),\n",
       " datetime.datetime(2004, 5, 1, 0, 0),\n",
       " datetime.datetime(2004, 5, 25, 0, 0),\n",
       " datetime.datetime(2004, 6, 30, 0, 0),\n",
       " datetime.datetime(2004, 9, 27, 0, 0),\n",
       " datetime.datetime(2004, 9, 27, 0, 0),\n",
       " datetime.datetime(2005, 4, 23, 0, 0),\n",
       " datetime.datetime(2005, 6, 11, 0, 0),\n",
       " datetime.datetime(2005, 6, 12, 0, 0),\n",
       " datetime.datetime(2005, 7, 12, 0, 0),\n",
       " datetime.datetime(2005, 8, 26, 0, 0),\n",
       " datetime.datetime(2005, 11, 5, 0, 0),\n",
       " datetime.datetime(2005, 11, 16, 0, 0),\n",
       " datetime.datetime(2005, 12, 10, 0, 0),\n",
       " datetime.datetime(2005, 12, 17, 0, 0),\n",
       " datetime.datetime(2006, 10, 4, 0, 0),\n",
       " datetime.datetime(2006, 11, 9, 0, 0),\n",
       " datetime.datetime(2007, 7, 4, 0, 0),\n",
       " datetime.datetime(2007, 10, 11, 0, 0),\n",
       " datetime.datetime(2008, 3, 27, 0, 0),\n",
       " datetime.datetime(2008, 7, 8, 0, 0),\n",
       " datetime.datetime(2009, 1, 16, 0, 0),\n",
       " datetime.datetime(2009, 2, 11, 0, 0),\n",
       " datetime.datetime(2009, 4, 7, 0, 0),\n",
       " datetime.datetime(2009, 6, 5, 0, 0),\n",
       " datetime.datetime(2009, 6, 25, 0, 0),\n",
       " datetime.datetime(2009, 8, 20, 0, 0),\n",
       " datetime.datetime(2009, 11, 2, 0, 0),\n",
       " datetime.datetime(2009, 12, 6, 0, 0),\n",
       " datetime.datetime(2010, 2, 9, 0, 0),\n",
       " datetime.datetime(2010, 6, 29, 0, 0),\n",
       " datetime.datetime(2010, 7, 1, 0, 0),\n",
       " datetime.datetime(2010, 7, 28, 0, 0),\n",
       " datetime.datetime(2010, 9, 4, 0, 0),\n",
       " datetime.datetime(2011, 1, 24, 0, 0),\n",
       " datetime.datetime(2011, 2, 18, 0, 0),\n",
       " datetime.datetime(2011, 4, 15, 0, 0),\n",
       " datetime.datetime(2011, 10, 1, 0, 0),\n",
       " datetime.datetime(2011, 12, 12, 0, 0),\n",
       " datetime.datetime(2011, 12, 18, 0, 0),\n",
       " datetime.datetime(2012, 2, 12, 0, 0),\n",
       " datetime.datetime(2012, 2, 26, 0, 0),\n",
       " datetime.datetime(2012, 3, 2, 0, 0),\n",
       " datetime.datetime(2012, 3, 8, 0, 0),\n",
       " datetime.datetime(2012, 3, 9, 0, 0),\n",
       " datetime.datetime(2012, 8, 23, 0, 0),\n",
       " datetime.datetime(2012, 9, 10, 0, 0),\n",
       " datetime.datetime(2012, 10, 18, 0, 0),\n",
       " datetime.datetime(2013, 4, 5, 0, 0),\n",
       " datetime.datetime(2013, 6, 26, 0, 0),\n",
       " datetime.datetime(2013, 8, 26, 0, 0),\n",
       " datetime.datetime(2013, 8, 31, 0, 0),\n",
       " datetime.datetime(2014, 2, 14, 0, 0),\n",
       " datetime.datetime(2014, 2, 17, 0, 0),\n",
       " datetime.datetime(2014, 5, 18, 0, 0),\n",
       " datetime.datetime(2014, 12, 27, 0, 0),\n",
       " datetime.datetime(2015, 1, 23, 0, 0),\n",
       " datetime.datetime(2015, 4, 1, 0, 0),\n",
       " datetime.datetime(2015, 4, 28, 0, 0),\n",
       " datetime.datetime(2015, 5, 2, 0, 0),\n",
       " datetime.datetime(2015, 5, 20, 0, 0),\n",
       " datetime.datetime(2016, 3, 9, 0, 0),\n",
       " datetime.datetime(2016, 3, 28, 0, 0),\n",
       " datetime.datetime(2016, 3, 28, 0, 0),\n",
       " datetime.datetime(2016, 4, 2, 0, 0),\n",
       " datetime.datetime(2016, 5, 31, 0, 0),\n",
       " datetime.datetime(2016, 9, 11, 0, 0),\n",
       " datetime.datetime(2016, 9, 30, 0, 0),\n",
       " datetime.datetime(2017, 1, 10, 0, 0),\n",
       " datetime.datetime(2017, 6, 26, 0, 0),\n",
       " datetime.datetime(2017, 10, 27, 0, 0),\n",
       " datetime.datetime(2017, 11, 17, 0, 0),\n",
       " datetime.datetime(2018, 6, 8, 0, 0),\n",
       " datetime.datetime(2018, 9, 7, 0, 0),\n",
       " datetime.datetime(2018, 11, 21, 0, 0),\n",
       " datetime.datetime(2019, 1, 31, 0, 0),\n",
       " datetime.datetime(2019, 2, 14, 0, 0),\n",
       " datetime.datetime(2019, 6, 10, 0, 0),\n",
       " datetime.datetime(2019, 7, 21, 0, 0),\n",
       " datetime.datetime(2019, 9, 13, 0, 0),\n",
       " datetime.datetime(2020, 2, 18, 0, 0),\n",
       " datetime.datetime(2020, 5, 16, 0, 0),\n",
       " datetime.datetime(2020, 9, 8, 0, 0),\n",
       " datetime.datetime(2020, 11, 30, 0, 0)]"
      ]
     },
     "execution_count": 12,
     "metadata": {},
     "output_type": "execute_result"
    }
   ],
   "source": [
    "tarih"
   ]
  },
  {
   "cell_type": "code",
   "execution_count": 21,
   "id": "824ccc7a",
   "metadata": {},
   "outputs": [
    {
     "name": "stdout",
     "output_type": "stream",
     "text": [
      "Tarih: 26-01-2000, Fiyat: 845.98\n",
      "Tarih: 23-07-2000, Fiyat: 760.37\n",
      "Tarih: 05-08-2000, Fiyat: 426.37\n",
      "Tarih: 23-09-2000, Fiyat: 266.33\n",
      "Tarih: 21-12-2000, Fiyat: 516.16\n",
      "Tarih: 09-01-2001, Fiyat: 410.88\n",
      "Tarih: 14-03-2001, Fiyat: 785.96\n",
      "Tarih: 01-06-2001, Fiyat: 310.28\n",
      "Tarih: 20-08-2001, Fiyat: 481.83\n",
      "Tarih: 08-10-2001, Fiyat: 587.55\n",
      "Tarih: 12-01-2002, Fiyat: 909.03\n",
      "Tarih: 19-01-2002, Fiyat: 509.64\n",
      "Tarih: 10-08-2002, Fiyat: 289.02\n",
      "Tarih: 28-09-2002, Fiyat: 622.19\n",
      "Tarih: 16-10-2002, Fiyat: 258.0\n",
      "Tarih: 21-02-2003, Fiyat: 910.65\n",
      "Tarih: 26-03-2003, Fiyat: 982.96\n",
      "Tarih: 28-04-2003, Fiyat: 812.12\n",
      "Tarih: 20-07-2003, Fiyat: 903.14\n",
      "Tarih: 16-08-2003, Fiyat: 317.05\n",
      "Tarih: 09-02-2004, Fiyat: 732.53\n",
      "Tarih: 07-07-2004, Fiyat: 899.85\n",
      "Tarih: 12-07-2004, Fiyat: 687.14\n",
      "Tarih: 21-07-2004, Fiyat: 477.42\n",
      "Tarih: 17-03-2005, Fiyat: 109.69\n",
      "Tarih: 04-04-2005, Fiyat: 439.83\n",
      "Tarih: 05-04-2005, Fiyat: 614.78\n",
      "Tarih: 16-05-2005, Fiyat: 913.88\n",
      "Tarih: 23-07-2005, Fiyat: 966.94\n",
      "Tarih: 01-08-2005, Fiyat: 482.24\n",
      "Tarih: 09-12-2005, Fiyat: 866.66\n",
      "Tarih: 19-01-2006, Fiyat: 267.89\n",
      "Tarih: 26-07-2006, Fiyat: 806.98\n",
      "Tarih: 19-11-2006, Fiyat: 553.21\n",
      "Tarih: 06-02-2007, Fiyat: 23.9\n",
      "Tarih: 08-03-2007, Fiyat: 722.51\n",
      "Tarih: 08-04-2007, Fiyat: 404.84\n",
      "Tarih: 08-08-2007, Fiyat: 826.6\n",
      "Tarih: 26-08-2007, Fiyat: 671.47\n",
      "Tarih: 05-11-2007, Fiyat: 11.13\n",
      "Tarih: 03-02-2008, Fiyat: 498.64\n",
      "Tarih: 19-04-2008, Fiyat: 868.93\n",
      "Tarih: 16-06-2008, Fiyat: 251.47\n",
      "Tarih: 17-07-2008, Fiyat: 331.95\n",
      "Tarih: 17-08-2008, Fiyat: 871.77\n",
      "Tarih: 24-09-2008, Fiyat: 199.16\n",
      "Tarih: 11-12-2008, Fiyat: 571.84\n",
      "Tarih: 15-02-2009, Fiyat: 246.23\n",
      "Tarih: 13-06-2009, Fiyat: 967.86\n",
      "Tarih: 25-10-2009, Fiyat: 805.15\n",
      "Tarih: 22-11-2009, Fiyat: 453.49\n",
      "Tarih: 28-11-2009, Fiyat: 89.64\n",
      "Tarih: 04-01-2010, Fiyat: 326.85\n",
      "Tarih: 28-09-2010, Fiyat: 512.86\n",
      "Tarih: 10-10-2010, Fiyat: 933.51\n",
      "Tarih: 26-11-2010, Fiyat: 117.97\n",
      "Tarih: 01-04-2011, Fiyat: 555.75\n",
      "Tarih: 05-04-2011, Fiyat: 709.5\n",
      "Tarih: 30-08-2011, Fiyat: 551.97\n",
      "Tarih: 03-09-2011, Fiyat: 816.32\n",
      "Tarih: 28-02-2012, Fiyat: 544.88\n",
      "Tarih: 07-08-2012, Fiyat: 964.2\n",
      "Tarih: 30-11-2012, Fiyat: 607.15\n",
      "Tarih: 04-07-2013, Fiyat: 591.74\n",
      "Tarih: 02-12-2013, Fiyat: 450.54\n",
      "Tarih: 21-12-2013, Fiyat: 600.32\n",
      "Tarih: 02-12-2014, Fiyat: 391.05\n",
      "Tarih: 01-01-2015, Fiyat: 579.89\n",
      "Tarih: 16-01-2015, Fiyat: 297.43\n",
      "Tarih: 26-01-2015, Fiyat: 197.5\n",
      "Tarih: 11-05-2015, Fiyat: 194.86\n",
      "Tarih: 19-09-2015, Fiyat: 616.65\n",
      "Tarih: 20-10-2015, Fiyat: 660.09\n",
      "Tarih: 09-01-2016, Fiyat: 481.77\n",
      "Tarih: 01-02-2016, Fiyat: 98.93\n",
      "Tarih: 12-02-2016, Fiyat: 760.03\n",
      "Tarih: 09-08-2016, Fiyat: 878.0\n",
      "Tarih: 09-09-2016, Fiyat: 924.15\n",
      "Tarih: 26-12-2016, Fiyat: 844.04\n",
      "Tarih: 29-05-2017, Fiyat: 899.19\n",
      "Tarih: 08-06-2017, Fiyat: 923.85\n",
      "Tarih: 20-07-2017, Fiyat: 545.19\n",
      "Tarih: 21-07-2017, Fiyat: 397.38\n",
      "Tarih: 22-05-2018, Fiyat: 708.23\n",
      "Tarih: 04-08-2018, Fiyat: 813.51\n",
      "Tarih: 04-02-2019, Fiyat: 850.99\n",
      "Tarih: 12-02-2019, Fiyat: 896.09\n",
      "Tarih: 25-07-2019, Fiyat: 593.9\n",
      "Tarih: 04-11-2019, Fiyat: 950.27\n",
      "Tarih: 08-02-2020, Fiyat: 583.9\n",
      "Tarih: 18-07-2020, Fiyat: 456.06\n",
      "Tarih: 15-12-2020, Fiyat: 663.64\n",
      "Tarih: 04-02-2021, Fiyat: 996.3\n",
      "Tarih: 27-02-2021, Fiyat: 917.77\n",
      "Tarih: 01-07-2021, Fiyat: 795.39\n",
      "Tarih: 13-08-2021, Fiyat: 91.55\n",
      "Tarih: 05-08-2022, Fiyat: 616.66\n",
      "Tarih: 25-10-2022, Fiyat: 491.58\n"
     ]
    }
   ],
   "source": [
    "# Fiyat listesini rastgele oluşturma\n",
    "random.seed(0)\n",
    "# Aynı sonuçları almak için sabit bir tohum belirliyoruz\n",
    "\n",
    "fiyat_listesi = [round(random.uniform(10, 1000), 2) for _ in range(100)]\n",
    "# Tarih listesini oluşturma\n",
    "baslangic_tarihi = datetime(2000, 1, 1)\n",
    "tarih_listesi = [baslangic_tarihi + timedelta(days=random.randint(1, 365*23)) for _ in range(100)]\n",
    "tarih_listesi.sort() \n",
    "# Tarih listesi kronolojik olarak sıralanıyor\n",
    "# Fiyat ve tarih listelerinin atanması\n",
    "fiyat = fiyat_listesi\n",
    "tarih = [t.strftime(\"%d-%m-%Y\") for t in tarih_listesi] \n",
    "# Tarih formatını gün-ay-yıl olarak ayarlıyoruz\n",
    "# Dict comprehension kullanarak sözlük oluşturma\n",
    "fiyat_sozlugu = {tarih[i]: fiyat[i] for i in range(100)}\n",
    "# Sonuçları yazdırma\n",
    "for k, v in fiyat_sozlugu.items():\n",
    "    print(f\"Tarih: {k}, Fiyat: {v}\")"
   ]
  },
  {
   "cell_type": "code",
   "execution_count": 23,
   "id": "87f8f8b3",
   "metadata": {},
   "outputs": [
    {
     "data": {
      "text/plain": [
       "{'26-01-2000': 845.98,\n",
       " '23-07-2000': 760.37,\n",
       " '05-08-2000': 426.37,\n",
       " '23-09-2000': 266.33,\n",
       " '21-12-2000': 516.16,\n",
       " '09-01-2001': 410.88,\n",
       " '14-03-2001': 785.96,\n",
       " '01-06-2001': 310.28,\n",
       " '20-08-2001': 481.83,\n",
       " '08-10-2001': 587.55,\n",
       " '12-01-2002': 909.03,\n",
       " '19-01-2002': 509.64,\n",
       " '10-08-2002': 289.02,\n",
       " '28-09-2002': 622.19,\n",
       " '16-10-2002': 258.0,\n",
       " '21-02-2003': 910.65,\n",
       " '26-03-2003': 982.96,\n",
       " '28-04-2003': 812.12,\n",
       " '20-07-2003': 903.14,\n",
       " '16-08-2003': 317.05,\n",
       " '09-02-2004': 732.53,\n",
       " '07-07-2004': 899.85,\n",
       " '12-07-2004': 687.14,\n",
       " '21-07-2004': 477.42,\n",
       " '17-03-2005': 109.69,\n",
       " '04-04-2005': 439.83,\n",
       " '05-04-2005': 614.78,\n",
       " '16-05-2005': 913.88,\n",
       " '23-07-2005': 966.94,\n",
       " '01-08-2005': 482.24,\n",
       " '09-12-2005': 866.66,\n",
       " '19-01-2006': 267.89,\n",
       " '26-07-2006': 806.98,\n",
       " '19-11-2006': 553.21,\n",
       " '06-02-2007': 23.9,\n",
       " '08-03-2007': 722.51,\n",
       " '08-04-2007': 404.84,\n",
       " '08-08-2007': 826.6,\n",
       " '26-08-2007': 671.47,\n",
       " '05-11-2007': 11.13,\n",
       " '03-02-2008': 498.64,\n",
       " '19-04-2008': 868.93,\n",
       " '16-06-2008': 251.47,\n",
       " '17-07-2008': 331.95,\n",
       " '17-08-2008': 871.77,\n",
       " '24-09-2008': 199.16,\n",
       " '11-12-2008': 571.84,\n",
       " '15-02-2009': 246.23,\n",
       " '13-06-2009': 967.86,\n",
       " '25-10-2009': 805.15,\n",
       " '22-11-2009': 453.49,\n",
       " '28-11-2009': 89.64,\n",
       " '04-01-2010': 326.85,\n",
       " '28-09-2010': 512.86,\n",
       " '10-10-2010': 933.51,\n",
       " '26-11-2010': 117.97,\n",
       " '01-04-2011': 555.75,\n",
       " '05-04-2011': 709.5,\n",
       " '30-08-2011': 551.97,\n",
       " '03-09-2011': 816.32,\n",
       " '28-02-2012': 544.88,\n",
       " '07-08-2012': 964.2,\n",
       " '30-11-2012': 607.15,\n",
       " '04-07-2013': 591.74,\n",
       " '02-12-2013': 450.54,\n",
       " '21-12-2013': 600.32,\n",
       " '02-12-2014': 391.05,\n",
       " '01-01-2015': 579.89,\n",
       " '16-01-2015': 297.43,\n",
       " '26-01-2015': 197.5,\n",
       " '11-05-2015': 194.86,\n",
       " '19-09-2015': 616.65,\n",
       " '20-10-2015': 660.09,\n",
       " '09-01-2016': 481.77,\n",
       " '01-02-2016': 98.93,\n",
       " '12-02-2016': 760.03,\n",
       " '09-08-2016': 878.0,\n",
       " '09-09-2016': 924.15,\n",
       " '26-12-2016': 844.04,\n",
       " '29-05-2017': 899.19,\n",
       " '08-06-2017': 923.85,\n",
       " '20-07-2017': 545.19,\n",
       " '21-07-2017': 397.38,\n",
       " '22-05-2018': 708.23,\n",
       " '04-08-2018': 813.51,\n",
       " '04-02-2019': 850.99,\n",
       " '12-02-2019': 896.09,\n",
       " '25-07-2019': 593.9,\n",
       " '04-11-2019': 950.27,\n",
       " '08-02-2020': 583.9,\n",
       " '18-07-2020': 456.06,\n",
       " '15-12-2020': 663.64,\n",
       " '04-02-2021': 996.3,\n",
       " '27-02-2021': 917.77,\n",
       " '01-07-2021': 795.39,\n",
       " '13-08-2021': 91.55,\n",
       " '05-08-2022': 616.66,\n",
       " '25-10-2022': 491.58}"
      ]
     },
     "execution_count": 23,
     "metadata": {},
     "output_type": "execute_result"
    }
   ],
   "source": [
    "fiyat_sozlugu"
   ]
  },
  {
   "cell_type": "code",
   "execution_count": 10,
   "id": "6df642b2",
   "metadata": {},
   "outputs": [
    {
     "data": {
      "text/plain": [
       "{datetime.datetime(2001, 3, 9, 0, 0): '26-01-2000',\n",
       " datetime.datetime(2001, 4, 9, 0, 0): '23-07-2000',\n",
       " datetime.datetime(2001, 4, 24, 0, 0): '05-08-2000',\n",
       " datetime.datetime(2001, 5, 13, 0, 0): '23-09-2000',\n",
       " datetime.datetime(2001, 9, 30, 0, 0): '21-12-2000',\n",
       " datetime.datetime(2001, 11, 24, 0, 0): '09-01-2001',\n",
       " datetime.datetime(2002, 5, 3, 0, 0): '14-03-2001',\n",
       " datetime.datetime(2003, 2, 9, 0, 0): '01-06-2001',\n",
       " datetime.datetime(2003, 4, 23, 0, 0): '20-08-2001',\n",
       " datetime.datetime(2003, 11, 7, 0, 0): '08-10-2001',\n",
       " datetime.datetime(2004, 4, 11, 0, 0): '12-01-2002',\n",
       " datetime.datetime(2004, 4, 25, 0, 0): '19-01-2002',\n",
       " datetime.datetime(2004, 7, 3, 0, 0): '10-08-2002',\n",
       " datetime.datetime(2005, 4, 9, 0, 0): '28-09-2002',\n",
       " datetime.datetime(2005, 6, 17, 0, 0): '28-09-2002',\n",
       " datetime.datetime(2005, 8, 4, 0, 0): '16-10-2002',\n",
       " datetime.datetime(2005, 9, 28, 0, 0): '21-02-2003',\n",
       " datetime.datetime(2005, 11, 14, 0, 0): '26-03-2003',\n",
       " datetime.datetime(2005, 11, 20, 0, 0): '28-04-2003',\n",
       " datetime.datetime(2006, 1, 26, 0, 0): '20-07-2003',\n",
       " datetime.datetime(2006, 3, 3, 0, 0): '16-08-2003',\n",
       " datetime.datetime(2006, 3, 6, 0, 0): '09-02-2004',\n",
       " datetime.datetime(2006, 6, 16, 0, 0): '07-07-2004',\n",
       " datetime.datetime(2006, 8, 20, 0, 0): '12-07-2004',\n",
       " datetime.datetime(2006, 11, 15, 0, 0): '21-07-2004',\n",
       " datetime.datetime(2006, 11, 28, 0, 0): '17-03-2005',\n",
       " datetime.datetime(2007, 2, 14, 0, 0): '04-04-2005',\n",
       " datetime.datetime(2008, 1, 15, 0, 0): '05-04-2005',\n",
       " datetime.datetime(2008, 2, 18, 0, 0): '16-05-2005',\n",
       " datetime.datetime(2008, 3, 6, 0, 0): '23-07-2005',\n",
       " datetime.datetime(2008, 6, 18, 0, 0): '01-08-2005',\n",
       " datetime.datetime(2008, 6, 21, 0, 0): '09-12-2005',\n",
       " datetime.datetime(2008, 10, 12, 0, 0): '19-01-2006',\n",
       " datetime.datetime(2008, 10, 31, 0, 0): '26-07-2006',\n",
       " datetime.datetime(2009, 2, 9, 0, 0): '19-11-2006',\n",
       " datetime.datetime(2009, 4, 16, 0, 0): '06-02-2007',\n",
       " datetime.datetime(2009, 8, 8, 0, 0): '08-03-2007',\n",
       " datetime.datetime(2010, 4, 16, 0, 0): '08-04-2007',\n",
       " datetime.datetime(2010, 7, 25, 0, 0): '08-08-2007',\n",
       " datetime.datetime(2010, 8, 23, 0, 0): '26-08-2007',\n",
       " datetime.datetime(2010, 10, 15, 0, 0): '05-11-2007',\n",
       " datetime.datetime(2010, 10, 18, 0, 0): '03-02-2008',\n",
       " datetime.datetime(2010, 11, 2, 0, 0): '19-04-2008',\n",
       " datetime.datetime(2011, 3, 3, 0, 0): '16-06-2008',\n",
       " datetime.datetime(2011, 5, 6, 0, 0): '17-07-2008',\n",
       " datetime.datetime(2011, 7, 2, 0, 0): '17-08-2008',\n",
       " datetime.datetime(2011, 11, 2, 0, 0): '24-09-2008',\n",
       " datetime.datetime(2012, 3, 19, 0, 0): '11-12-2008',\n",
       " datetime.datetime(2012, 3, 22, 0, 0): '15-02-2009',\n",
       " datetime.datetime(2012, 4, 26, 0, 0): '13-06-2009',\n",
       " datetime.datetime(2012, 6, 28, 0, 0): '25-10-2009',\n",
       " datetime.datetime(2012, 7, 9, 0, 0): '22-11-2009',\n",
       " datetime.datetime(2012, 8, 27, 0, 0): '28-11-2009',\n",
       " datetime.datetime(2013, 1, 19, 0, 0): '04-01-2010',\n",
       " datetime.datetime(2013, 4, 20, 0, 0): '28-09-2010',\n",
       " datetime.datetime(2013, 5, 27, 0, 0): '10-10-2010',\n",
       " datetime.datetime(2013, 6, 19, 0, 0): '26-11-2010',\n",
       " datetime.datetime(2013, 9, 18, 0, 0): '01-04-2011',\n",
       " datetime.datetime(2013, 10, 21, 0, 0): '05-04-2011',\n",
       " datetime.datetime(2013, 12, 9, 0, 0): '30-08-2011',\n",
       " datetime.datetime(2013, 12, 11, 0, 0): '03-09-2011',\n",
       " datetime.datetime(2014, 4, 2, 0, 0): '28-02-2012',\n",
       " datetime.datetime(2014, 4, 3, 0, 0): '07-08-2012',\n",
       " datetime.datetime(2014, 5, 7, 0, 0): '30-11-2012',\n",
       " datetime.datetime(2014, 8, 23, 0, 0): '04-07-2013',\n",
       " datetime.datetime(2014, 9, 4, 0, 0): '02-12-2013',\n",
       " datetime.datetime(2015, 1, 24, 0, 0): '21-12-2013',\n",
       " datetime.datetime(2015, 3, 5, 0, 0): '02-12-2014',\n",
       " datetime.datetime(2015, 3, 12, 0, 0): '01-01-2015',\n",
       " datetime.datetime(2015, 5, 9, 0, 0): '16-01-2015',\n",
       " datetime.datetime(2015, 5, 11, 0, 0): '26-01-2015',\n",
       " datetime.datetime(2015, 9, 1, 0, 0): '11-05-2015',\n",
       " datetime.datetime(2015, 9, 21, 0, 0): '19-09-2015',\n",
       " datetime.datetime(2015, 9, 22, 0, 0): '20-10-2015',\n",
       " datetime.datetime(2015, 10, 6, 0, 0): '09-01-2016',\n",
       " datetime.datetime(2015, 10, 16, 0, 0): '01-02-2016',\n",
       " datetime.datetime(2015, 11, 17, 0, 0): '12-02-2016',\n",
       " datetime.datetime(2016, 1, 4, 0, 0): '09-08-2016',\n",
       " datetime.datetime(2016, 1, 30, 0, 0): '09-09-2016',\n",
       " datetime.datetime(2016, 2, 25, 0, 0): '26-12-2016',\n",
       " datetime.datetime(2016, 11, 26, 0, 0): '29-05-2017',\n",
       " datetime.datetime(2017, 2, 11, 0, 0): '08-06-2017',\n",
       " datetime.datetime(2017, 6, 1, 0, 0): '20-07-2017',\n",
       " datetime.datetime(2017, 11, 3, 0, 0): '21-07-2017',\n",
       " datetime.datetime(2018, 2, 16, 0, 0): '22-05-2018',\n",
       " datetime.datetime(2018, 5, 3, 0, 0): '04-08-2018',\n",
       " datetime.datetime(2018, 6, 29, 0, 0): '04-08-2018',\n",
       " datetime.datetime(2018, 8, 4, 0, 0): '04-02-2019',\n",
       " datetime.datetime(2018, 12, 26, 0, 0): '12-02-2019',\n",
       " datetime.datetime(2018, 12, 27, 0, 0): '25-07-2019',\n",
       " datetime.datetime(2019, 2, 6, 0, 0): '04-11-2019',\n",
       " datetime.datetime(2019, 5, 24, 0, 0): '08-02-2020',\n",
       " datetime.datetime(2019, 9, 6, 0, 0): '18-07-2020',\n",
       " datetime.datetime(2019, 10, 8, 0, 0): '15-12-2020',\n",
       " datetime.datetime(2019, 12, 4, 0, 0): '04-02-2021',\n",
       " datetime.datetime(2020, 5, 3, 0, 0): '27-02-2021',\n",
       " datetime.datetime(2020, 7, 4, 0, 0): '01-07-2021',\n",
       " datetime.datetime(2020, 8, 16, 0, 0): '13-08-2021',\n",
       " datetime.datetime(2020, 9, 11, 0, 0): '05-08-2022',\n",
       " datetime.datetime(2020, 11, 13, 0, 0): '25-10-2022'}"
      ]
     },
     "execution_count": 10,
     "metadata": {},
     "output_type": "execute_result"
    }
   ],
   "source": [
    "fiyat_sozlugu"
   ]
  },
  {
   "cell_type": "code",
   "execution_count": null,
   "id": "80657ffa",
   "metadata": {},
   "outputs": [],
   "source": [
    "C:\\Users\\manai\\Desktop\\tar_dosyasi"
   ]
  },
  {
   "cell_type": "code",
   "execution_count": null,
   "id": "6a72cb69",
   "metadata": {},
   "outputs": [],
   "source": []
  },
  {
   "cell_type": "code",
   "execution_count": 28,
   "id": "3ea8b659",
   "metadata": {},
   "outputs": [
    {
     "name": "stdout",
     "output_type": "stream",
     "text": [
      "Downloaded C:\\Users\\manai\\Desktop\\tar_dosyasi\\tolldata.tgz\n",
      "Extracted files to C:\\Users\\\\manai\\Desktop\\tar_dosyasi\n"
     ]
    }
   ],
   "source": [
    "import urllib.request\n",
    "import tarfile\n",
    "import os\n",
    "# URL ve dosya yolları\n",
    "url = \"https://cf-courses-data.s3.us.cloud-object-storage.appdomain.cloud/IBM-DB0250EN-SkillsNetwork/labs/Final%20Assignment/tolldata.tgz\"\n",
    "download_path = r\"C:\\Users\\manai\\Desktop\\tar_dosyasi\\tolldata.tgz\"\n",
    "extract_path = r\"C:\\Users\\\\manai\\Desktop\\tar_dosyasi\"\n",
    "# Dosyayı indir\n",
    "urllib.request.urlretrieve(url, download_path)\n",
    "print(f\"Downloaded {download_path}\")\n",
    "# Dosyayı aç ve çıkar\n",
    "if tarfile.is_tarfile(download_path): \n",
    "    with tarfile.open(download_path) as tar:\n",
    "        tar.extractall(path=extract_path) \n",
    "        print(f\"Extracted files to {extract_path}\")\n",
    "else: print(f\"{download_path} is not a tar file.\")\n",
    "\n",
    "\n"
   ]
  },
  {
   "cell_type": "code",
   "execution_count": null,
   "id": "075fb6f6",
   "metadata": {},
   "outputs": [],
   "source": []
  },
  {
   "cell_type": "code",
   "execution_count": null,
   "id": "4e3f55d2",
   "metadata": {},
   "outputs": [],
   "source": []
  },
  {
   "cell_type": "code",
   "execution_count": null,
   "id": "b85a5730",
   "metadata": {},
   "outputs": [],
   "source": []
  },
  {
   "cell_type": "code",
   "execution_count": 34,
   "id": "2d7f9f49",
   "metadata": {},
   "outputs": [
    {
     "name": "stdout",
     "output_type": "stream",
     "text": [
      "File downloaded: C:\\Users\\manai\\Desktop\\tar_dosyasi\\tolldata.tgz\n",
      "Tar file extracted to: C:\\Users\\manai\\Desktop\\tar_dosyasi\n"
     ]
    }
   ],
   "source": [
    "import urllib.request\n",
    "import tarfile\n",
    "import os\n",
    "\n",
    "# Downloads the tar file from the given URL\n",
    "def download_file(url, file_path): \n",
    "    try: \n",
    "        with urllib.request.urlopen(url) as response, open(file_path, 'wb') as out_file:\n",
    "            data = response.read() \n",
    "            out_file.write(data)\n",
    "        print(f\"File downloaded: {file_path}\") \n",
    "    except urllib.error.HTTPError as e: \n",
    "        print(f\"Error downloading file: {e.code}\") \n",
    "    except urllib.error.URLError as e: \n",
    "        print(f\"Error downloading file: {e.reason}\")\n",
    "\n",
    "# Defines the URLs and local paths\n",
    "url = \"https://cf-courses-data.s3.us.cloud-object-storage.appdomain.cloud/IBM-DB0250EN-SkillsNetwork/labs/Final%20Assignment/tolldata.tgz\"\n",
    "local_file_path = 'C:\\\\Users\\\\manai\\\\Desktop\\\\tar_dosyasi\\\\tolldata.tgz'\n",
    "extraction_path = \"C:\\\\Users\\\\manai\\\\Desktop\\\\tar_dosyasi\"\n",
    "# Download the tar file\n",
    "download_file(url, local_file_path)\n",
    "# Check if the file is a valid tar file\n",
    "if tarfile.is_tarfile(local_file_path):\n",
    "    with tarfile.open(local_file_path, 'r:gz') as tar:\n",
    "        tar.extractall(path=extraction_path) \n",
    "        print(f\"Tar file extracted to: {extraction_path}\")\n",
    "else: print(f\"Error: {local_file_path} is not a valid tar file.\")"
   ]
  },
  {
   "cell_type": "code",
   "execution_count": null,
   "id": "e3177f95",
   "metadata": {},
   "outputs": [],
   "source": []
  },
  {
   "cell_type": "code",
   "execution_count": 36,
   "id": "f074e73b",
   "metadata": {},
   "outputs": [
    {
     "name": "stdout",
     "output_type": "stream",
     "text": [
      "Excel dosyasının yolu nedir? (örneğin: 'bahce_bakimi_2023.xlsx'): C:\\Users\\manai\\Desktop\\tar_dosyasi\\Bahce.xls\n"
     ]
    },
    {
     "ename": "ImportError",
     "evalue": "Missing optional dependency 'xlrd'. Install xlrd >= 1.0.0 for Excel support Use pip or conda to install xlrd.",
     "output_type": "error",
     "traceback": [
      "\u001b[1;31m---------------------------------------------------------------------------\u001b[0m",
      "\u001b[1;31mModuleNotFoundError\u001b[0m                       Traceback (most recent call last)",
      "File \u001b[1;32m~\\users\\Lib\\site-packages\\pandas\\compat\\_optional.py:141\u001b[0m, in \u001b[0;36mimport_optional_dependency\u001b[1;34m(name, extra, errors, min_version)\u001b[0m\n\u001b[0;32m    140\u001b[0m \u001b[38;5;28;01mtry\u001b[39;00m:\n\u001b[1;32m--> 141\u001b[0m     module \u001b[38;5;241m=\u001b[39m importlib\u001b[38;5;241m.\u001b[39mimport_module(name)\n\u001b[0;32m    142\u001b[0m \u001b[38;5;28;01mexcept\u001b[39;00m \u001b[38;5;167;01mImportError\u001b[39;00m:\n",
      "File \u001b[1;32m~\\users\\Lib\\importlib\\__init__.py:126\u001b[0m, in \u001b[0;36mimport_module\u001b[1;34m(name, package)\u001b[0m\n\u001b[0;32m    125\u001b[0m         level \u001b[38;5;241m+\u001b[39m\u001b[38;5;241m=\u001b[39m \u001b[38;5;241m1\u001b[39m\n\u001b[1;32m--> 126\u001b[0m \u001b[38;5;28;01mreturn\u001b[39;00m _bootstrap\u001b[38;5;241m.\u001b[39m_gcd_import(name[level:], package, level)\n",
      "File \u001b[1;32m<frozen importlib._bootstrap>:1204\u001b[0m, in \u001b[0;36m_gcd_import\u001b[1;34m(name, package, level)\u001b[0m\n",
      "File \u001b[1;32m<frozen importlib._bootstrap>:1176\u001b[0m, in \u001b[0;36m_find_and_load\u001b[1;34m(name, import_)\u001b[0m\n",
      "File \u001b[1;32m<frozen importlib._bootstrap>:1140\u001b[0m, in \u001b[0;36m_find_and_load_unlocked\u001b[1;34m(name, import_)\u001b[0m\n",
      "\u001b[1;31mModuleNotFoundError\u001b[0m: No module named 'xlrd'",
      "\nDuring handling of the above exception, another exception occurred:\n",
      "\u001b[1;31mImportError\u001b[0m                               Traceback (most recent call last)",
      "Cell \u001b[1;32mIn[36], line 42\u001b[0m\n\u001b[0;32m     40\u001b[0m \u001b[38;5;66;03m# Kullanıcı tarafından dosya yolu girilir\u001b[39;00m\n\u001b[0;32m     41\u001b[0m dosya_yolu \u001b[38;5;241m=\u001b[39m \u001b[38;5;28minput\u001b[39m(\u001b[38;5;124m\"\u001b[39m\u001b[38;5;124mExcel dosyasının yolu nedir? (örneğin: \u001b[39m\u001b[38;5;124m'\u001b[39m\u001b[38;5;124mbahce_bakimi_2023.xlsx\u001b[39m\u001b[38;5;124m'\u001b[39m\u001b[38;5;124m): \u001b[39m\u001b[38;5;124m\"\u001b[39m)\n\u001b[1;32m---> 42\u001b[0m oku_ve_raporla(dosya_yolu)\n",
      "Cell \u001b[1;32mIn[36], line 6\u001b[0m, in \u001b[0;36moku_ve_raporla\u001b[1;34m(dosya_yolu)\u001b[0m\n\u001b[0;32m      4\u001b[0m \u001b[38;5;28;01mdef\u001b[39;00m \u001b[38;5;21moku_ve_raporla\u001b[39m(dosya_yolu):\n\u001b[0;32m      5\u001b[0m     \u001b[38;5;66;03m# Excel dosyası okunur\u001b[39;00m\n\u001b[1;32m----> 6\u001b[0m     df \u001b[38;5;241m=\u001b[39m pd\u001b[38;5;241m.\u001b[39mread_excel(dosya_yolu)\n\u001b[0;32m      8\u001b[0m     \u001b[38;5;66;03m# Her bir bahçe için verim analizi\u001b[39;00m\n\u001b[0;32m      9\u001b[0m     bahce_analizi \u001b[38;5;241m=\u001b[39m {}\n",
      "File \u001b[1;32m~\\users\\Lib\\site-packages\\pandas\\util\\_decorators.py:211\u001b[0m, in \u001b[0;36mdeprecate_kwarg.<locals>._deprecate_kwarg.<locals>.wrapper\u001b[1;34m(*args, **kwargs)\u001b[0m\n\u001b[0;32m    209\u001b[0m     \u001b[38;5;28;01melse\u001b[39;00m:\n\u001b[0;32m    210\u001b[0m         kwargs[new_arg_name] \u001b[38;5;241m=\u001b[39m new_arg_value\n\u001b[1;32m--> 211\u001b[0m \u001b[38;5;28;01mreturn\u001b[39;00m func(\u001b[38;5;241m*\u001b[39margs, \u001b[38;5;241m*\u001b[39m\u001b[38;5;241m*\u001b[39mkwargs)\n",
      "File \u001b[1;32m~\\users\\Lib\\site-packages\\pandas\\util\\_decorators.py:331\u001b[0m, in \u001b[0;36mdeprecate_nonkeyword_arguments.<locals>.decorate.<locals>.wrapper\u001b[1;34m(*args, **kwargs)\u001b[0m\n\u001b[0;32m    325\u001b[0m \u001b[38;5;28;01mif\u001b[39;00m \u001b[38;5;28mlen\u001b[39m(args) \u001b[38;5;241m>\u001b[39m num_allow_args:\n\u001b[0;32m    326\u001b[0m     warnings\u001b[38;5;241m.\u001b[39mwarn(\n\u001b[0;32m    327\u001b[0m         msg\u001b[38;5;241m.\u001b[39mformat(arguments\u001b[38;5;241m=\u001b[39m_format_argument_list(allow_args)),\n\u001b[0;32m    328\u001b[0m         \u001b[38;5;167;01mFutureWarning\u001b[39;00m,\n\u001b[0;32m    329\u001b[0m         stacklevel\u001b[38;5;241m=\u001b[39mfind_stack_level(),\n\u001b[0;32m    330\u001b[0m     )\n\u001b[1;32m--> 331\u001b[0m \u001b[38;5;28;01mreturn\u001b[39;00m func(\u001b[38;5;241m*\u001b[39margs, \u001b[38;5;241m*\u001b[39m\u001b[38;5;241m*\u001b[39mkwargs)\n",
      "File \u001b[1;32m~\\users\\Lib\\site-packages\\pandas\\io\\excel\\_base.py:482\u001b[0m, in \u001b[0;36mread_excel\u001b[1;34m(io, sheet_name, header, names, index_col, usecols, squeeze, dtype, engine, converters, true_values, false_values, skiprows, nrows, na_values, keep_default_na, na_filter, verbose, parse_dates, date_parser, thousands, decimal, comment, skipfooter, convert_float, mangle_dupe_cols, storage_options)\u001b[0m\n\u001b[0;32m    480\u001b[0m \u001b[38;5;28;01mif\u001b[39;00m \u001b[38;5;129;01mnot\u001b[39;00m \u001b[38;5;28misinstance\u001b[39m(io, ExcelFile):\n\u001b[0;32m    481\u001b[0m     should_close \u001b[38;5;241m=\u001b[39m \u001b[38;5;28;01mTrue\u001b[39;00m\n\u001b[1;32m--> 482\u001b[0m     io \u001b[38;5;241m=\u001b[39m ExcelFile(io, storage_options\u001b[38;5;241m=\u001b[39mstorage_options, engine\u001b[38;5;241m=\u001b[39mengine)\n\u001b[0;32m    483\u001b[0m \u001b[38;5;28;01melif\u001b[39;00m engine \u001b[38;5;129;01mand\u001b[39;00m engine \u001b[38;5;241m!=\u001b[39m io\u001b[38;5;241m.\u001b[39mengine:\n\u001b[0;32m    484\u001b[0m     \u001b[38;5;28;01mraise\u001b[39;00m \u001b[38;5;167;01mValueError\u001b[39;00m(\n\u001b[0;32m    485\u001b[0m         \u001b[38;5;124m\"\u001b[39m\u001b[38;5;124mEngine should not be specified when passing \u001b[39m\u001b[38;5;124m\"\u001b[39m\n\u001b[0;32m    486\u001b[0m         \u001b[38;5;124m\"\u001b[39m\u001b[38;5;124man ExcelFile - ExcelFile already has the engine set\u001b[39m\u001b[38;5;124m\"\u001b[39m\n\u001b[0;32m    487\u001b[0m     )\n",
      "File \u001b[1;32m~\\users\\Lib\\site-packages\\pandas\\io\\excel\\_base.py:1695\u001b[0m, in \u001b[0;36mExcelFile.__init__\u001b[1;34m(self, path_or_buffer, engine, storage_options)\u001b[0m\n\u001b[0;32m   1692\u001b[0m \u001b[38;5;28mself\u001b[39m\u001b[38;5;241m.\u001b[39mengine \u001b[38;5;241m=\u001b[39m engine\n\u001b[0;32m   1693\u001b[0m \u001b[38;5;28mself\u001b[39m\u001b[38;5;241m.\u001b[39mstorage_options \u001b[38;5;241m=\u001b[39m storage_options\n\u001b[1;32m-> 1695\u001b[0m \u001b[38;5;28mself\u001b[39m\u001b[38;5;241m.\u001b[39m_reader \u001b[38;5;241m=\u001b[39m \u001b[38;5;28mself\u001b[39m\u001b[38;5;241m.\u001b[39m_engines[engine](\u001b[38;5;28mself\u001b[39m\u001b[38;5;241m.\u001b[39m_io, storage_options\u001b[38;5;241m=\u001b[39mstorage_options)\n",
      "File \u001b[1;32m~\\users\\Lib\\site-packages\\pandas\\io\\excel\\_xlrd.py:34\u001b[0m, in \u001b[0;36mXlrdReader.__init__\u001b[1;34m(self, filepath_or_buffer, storage_options)\u001b[0m\n\u001b[0;32m     24\u001b[0m \u001b[38;5;250m\u001b[39m\u001b[38;5;124;03m\"\"\"\u001b[39;00m\n\u001b[0;32m     25\u001b[0m \u001b[38;5;124;03mReader using xlrd engine.\u001b[39;00m\n\u001b[0;32m     26\u001b[0m \n\u001b[1;32m   (...)\u001b[0m\n\u001b[0;32m     31\u001b[0m \u001b[38;5;124;03m{storage_options}\u001b[39;00m\n\u001b[0;32m     32\u001b[0m \u001b[38;5;124;03m\"\"\"\u001b[39;00m\n\u001b[0;32m     33\u001b[0m err_msg \u001b[38;5;241m=\u001b[39m \u001b[38;5;124m\"\u001b[39m\u001b[38;5;124mInstall xlrd >= 1.0.0 for Excel support\u001b[39m\u001b[38;5;124m\"\u001b[39m\n\u001b[1;32m---> 34\u001b[0m import_optional_dependency(\u001b[38;5;124m\"\u001b[39m\u001b[38;5;124mxlrd\u001b[39m\u001b[38;5;124m\"\u001b[39m, extra\u001b[38;5;241m=\u001b[39merr_msg)\n\u001b[0;32m     35\u001b[0m \u001b[38;5;28msuper\u001b[39m()\u001b[38;5;241m.\u001b[39m\u001b[38;5;21m__init__\u001b[39m(filepath_or_buffer, storage_options\u001b[38;5;241m=\u001b[39mstorage_options)\n",
      "File \u001b[1;32m~\\users\\Lib\\site-packages\\pandas\\compat\\_optional.py:144\u001b[0m, in \u001b[0;36mimport_optional_dependency\u001b[1;34m(name, extra, errors, min_version)\u001b[0m\n\u001b[0;32m    142\u001b[0m \u001b[38;5;28;01mexcept\u001b[39;00m \u001b[38;5;167;01mImportError\u001b[39;00m:\n\u001b[0;32m    143\u001b[0m     \u001b[38;5;28;01mif\u001b[39;00m errors \u001b[38;5;241m==\u001b[39m \u001b[38;5;124m\"\u001b[39m\u001b[38;5;124mraise\u001b[39m\u001b[38;5;124m\"\u001b[39m:\n\u001b[1;32m--> 144\u001b[0m         \u001b[38;5;28;01mraise\u001b[39;00m \u001b[38;5;167;01mImportError\u001b[39;00m(msg)\n\u001b[0;32m    145\u001b[0m     \u001b[38;5;28;01melse\u001b[39;00m:\n\u001b[0;32m    146\u001b[0m         \u001b[38;5;28;01mreturn\u001b[39;00m \u001b[38;5;28;01mNone\u001b[39;00m\n",
      "\u001b[1;31mImportError\u001b[0m: Missing optional dependency 'xlrd'. Install xlrd >= 1.0.0 for Excel support Use pip or conda to install xlrd."
     ]
    }
   ],
   "source": [
    "import pandas as pd\n",
    "import matplotlib.pyplot as plt\n",
    "\n",
    "def oku_ve_raporla(dosya_yolu):\n",
    "    # Excel dosyası okunur\n",
    "    df = pd.read_excel(dosya_yolu)\n",
    "    \n",
    "    # Her bir bahçe için verim analizi\n",
    "    bahce_analizi = {}\n",
    "    for _, row in df.iterrows():\n",
    "        bahce_id = row['Bahçe ID']\n",
    "        hasat = row['Hasat (Kg)']\n",
    "        budama = row['Budama (Evet/Hayır)'] == 'Evet'\n",
    "        ilaclama = row['Ilaçlama (Evet/Hayır)'] == 'Evet'\n",
    "        cift_sirme = row['Çift Sürme (Evet/Hayır)'] == 'Evet'\n",
    "        gubreleme = row['Gübreleme (Evet/Hayır)'] == 'Evet'\n",
    "        \n",
    "        # Puanlama sisteminizi burada tanımlayınız. Örneğin:\n",
    "        puan = (budama * 1) + (ilaclama * 2) + (cift_sirme * 3) + (gubreleme * 2)\n",
    "        \n",
    "        if bahce_id not in bahce_analizi:\n",
    "            bahce_analizi[bahce_id] = {'Toplam Puan': 0, 'Toplam Hasat': 0, 'Hasat Sayısı': 0}\n",
    "        \n",
    "        bahce_analizi[bahce_id]['Toplam Puan'] += puan\n",
    "        bahce_analizi[bahce_id]['Toplam Hasat'] += hasat if not pd.isnull(hasat) else 0\n",
    "        bahce_analizi[bahce_id]['Hasat Sayısı'] += 1\n",
    "    \n",
    "    # Sonuçlar görüntülülecek\n",
    "    print(pd.DataFrame.from_dict(bahce_analizi, orient='index').reset_index(drop=True))\n",
    "    \n",
    "    # Görselleştirme yapılır\n",
    "    plt.figure(figsize=(10, 6))\n",
    "    plt.barh(bahce_analizi.keys(), [bahce_analizi[bahce_id]['Toplam Hasat'] / bahce_analizi[bahce_id]['Hasat Sayısı'] for bahce_id in bahce_analizi], color='skyblue')\n",
    "    plt.xlabel('Ortalama Hasat (Kg)')\n",
    "    plt.ylabel('Bahçeler')\n",
    "    plt.title('Bahçelerin Ortalama Hasatı')\n",
    "    plt.tight_layout()\n",
    "    plt.show()\n",
    "\n",
    "# Kullanıcı tarafından dosya yolu girilir\n",
    "dosya_yolu = input(\"Excel dosyasının yolu nedir? (örneğin: 'bahce_bakimi_2023.xlsx'): \")\n",
    "oku_ve_raporla(dosya_yolu)"
   ]
  },
  {
   "cell_type": "code",
   "execution_count": null,
   "id": "cfa51c55",
   "metadata": {},
   "outputs": [],
   "source": []
  },
  {
   "cell_type": "code",
   "execution_count": null,
   "id": "f7165f80",
   "metadata": {},
   "outputs": [],
   "source": []
  },
  {
   "cell_type": "code",
   "execution_count": null,
   "id": "c664a45f",
   "metadata": {},
   "outputs": [],
   "source": []
  },
  {
   "cell_type": "code",
   "execution_count": 42,
   "id": "f9c5cd21",
   "metadata": {},
   "outputs": [
    {
     "data": {
      "image/png": "[encoded data removed]",
      "text/plain": [
       "<Figure size 1000x600 with 1 Axes>"
      ]
     },
     "metadata": {},
     "output_type": "display_data"
    },
    {
     "data": {
      "image/png": "[encoded data removed]",
      "text/plain": [
       "<Figure size 1000x600 with 1 Axes>"
      ]
     },
     "metadata": {},
     "output_type": "display_data"
    }
   ],
   "source": [
    "import pandas as pd\n",
    "import matplotlib.pyplot as plt\n",
    "import os\n",
    "\n",
    "# Puanlandırma çizelgesi\n",
    "puanlandirma = {\n",
    "    'Budama': 5,\n",
    "    'İlaçlama': 4,\n",
    "    'Çift Sürme': 3,\n",
    "    'Gübreleme': 4,\n",
    "    'Hasat': 5\n",
    "}\n",
    "\n",
    "# Excel dosyalarının bulunduğu dizin\n",
    "dizin_yolu = r\"C:\\Users\\manai\\Desktop\\tar_dosyasi\"\n",
    "\n",
    "toplam_puanlar = {}\n",
    "urun_etkileri = {}\n",
    "\n",
    "for bahce_adi in os.listdir(dizin_yolu):\n",
    "    bahce_yolu = os.path.join(dizin_yolu, bahce_adi)\n",
    "    \n",
    "    if os.path.isdir(bahce_yolu):\n",
    "        toplam_puan = 0\n",
    "        urun_miktari = 0\n",
    "        \n",
    "        for yil in os.listdir(bahce_yolu):\n",
    "            dosya_yolu = os.path.join(bahce_yolu, yil, f'{bahce_adi}_{yil}.xlsx')\n",
    "            \n",
    "            if os.path.exists(dosya_yolu):\n",
    "                df = pd.read_excel(dosya_yolu)\n",
    "                \n",
    "                toplam_puan += df['Puan'].sum()\n",
    "                \n",
    "                if 'Hasat' in df['İşlem'].values:\n",
    "                    urun_miktari += df[df['İşlem'] == 'Hasat']['Puan'].sum()\n",
    "        \n",
    "        if urun_miktari > 0:\n",
    "            urun_etkileri[bahce_adi] = toplam_puan / urun_miktari\n",
    "        \n",
    "        toplam_puanlar[bahce_adi] = toplam_puan\n",
    "\n",
    "# Görselleştirme\n",
    "plt.figure(figsize=(10, 6))\n",
    "plt.bar(toplam_puanlar.keys(), toplam_puanlar.values(), color='skyblue')\n",
    "plt.xlabel('Bahçe Adı')\n",
    "plt.ylabel('Toplam Puan')\n",
    "plt.title('Bahçelerin Toplam Bakım Puanları')\n",
    "plt.xticks(rotation=45)\n",
    "plt.tight_layout()\n",
    "plt.savefig('toplam_puanlar.png')\n",
    "plt.show()\n",
    "\n",
    "plt.figure(figsize=(10, 6))\n",
    "plt.bar(urun_etkileri.keys(), urun_etkileri.values(), color='lightgreen')\n",
    "plt.xlabel('Bahçe Adı')\n",
    "plt.ylabel('Ortalama Ürün Etkisi')\n",
    "plt.title('Bahçelerin Ürün Üzerindeki Ortalama Etkisi')\n",
    "plt.xticks(rotation=45)\n",
    "plt.tight_layout()\n",
    "plt.savefig('urun_etkileri.png')\n",
    "plt.show()"
   ]
  },
  {
   "cell_type": "code",
   "execution_count": null,
   "id": "de6947cd",
   "metadata": {},
   "outputs": [],
   "source": []
  },
  {
   "cell_type": "code",
   "execution_count": null,
   "id": "a28c4f83",
   "metadata": {},
   "outputs": [],
   "source": []
  },
  {
   "cell_type": "code",
   "execution_count": null,
   "id": "84aa3202",
   "metadata": {},
   "outputs": [],
   "source": []
  },
  {
   "cell_type": "code",
   "execution_count": null,
   "id": "39ba481d",
   "metadata": {},
   "outputs": [],
   "source": []
  },
  {
   "cell_type": "code",
   "execution_count": null,
   "id": "f664ec70",
   "metadata": {},
   "outputs": [],
   "source": [
    "import os\n",
    "import shutil\n",
    "import random\n",
    "\n",
    "\n",
    "source_directory = '/kaggle/input/flowers-dataset/train'\n",
    "\n",
    "\n",
    "train_directory = '/kaggle/working/train_split'\n",
    "validation_directory = '/kaggle/working/validation_split'\n",
    "split_ratio = 0.9\n",
    "classes = os.listdir(source_directory)\n",
    "\n",
    "for class_name in classes:\n",
    "    class_directory = os.path.join(source_directory, class_name)\n",
    "    images = os.listdir(class_directory)  \n",
    "    \n",
    "    random.shuffle(images)\n",
    "\n",
    "    \n",
    "    num_images = len(images)\n",
    "    num_train_images = int(num_images * split_ratio)\n",
    "    num_validation_images = num_images - num_train_images\n",
    "\n",
    "    train_class_directory = os.path.join(train_directory, class_name)\n",
    "    validation_class_directory = os.path.join(validation_directory, class_name)\n",
    "    os.makedirs(train_class_directory, exist_ok=True)\n",
    "    os.makedirs(validation_class_directory, exist_ok=True)\n",
    "\n",
    "    for i, image in enumerate(images):\n",
    "        src_path = os.path.join(class_directory, image)\n",
    "        if i < num_train_images:\n",
    "            dst_path = os.path.join(train_class_directory, image)\n",
    "        else:\n",
    "            dst_path = os.path.join(validation_class_directory, image)\n",
    "        shutil.copy(src_path, dst_path)\n",
    "\n",
    "print(\"Dataset split completed.\")"
   ]
  },
  {
   "cell_type": "code",
   "execution_count": null,
   "id": "70ebc53f",
   "metadata": {},
   "outputs": [],
   "source": []
  },
  {
   "cell_type": "code",
   "execution_count": 47,
   "id": "c0ac3943",
   "metadata": {},
   "outputs": [
    {
     "name": "stdout",
     "output_type": "stream",
     "text": [
      "Copied: cars (2).jpg from C:\\Users\\manai\\Desktop\\tar_dosyasi\\Kaynak\\cars\\cars (2).jpg to C:\\Users\\manai\\Desktop\\tar_dosyasi\\CNN\\eğitim\\cars\\cars (2).jpg\n",
      "Copied: cars.jpg from C:\\Users\\manai\\Desktop\\tar_dosyasi\\Kaynak\\cars\\cars.jpg to C:\\Users\\manai\\Desktop\\tar_dosyasi\\CNN\\test\\cars\\cars.jpg\n",
      "Copied: planes (3).jpg from C:\\Users\\manai\\Desktop\\tar_dosyasi\\Kaynak\\planes\\planes (3).jpg to C:\\Users\\manai\\Desktop\\tar_dosyasi\\CNN\\eğitim\\planes\\planes (3).jpg\n",
      "Copied: planes (2).jpg from C:\\Users\\manai\\Desktop\\tar_dosyasi\\Kaynak\\planes\\planes (2).jpg to C:\\Users\\manai\\Desktop\\tar_dosyasi\\CNN\\eğitim\\planes\\planes (2).jpg\n",
      "Copied: planes (4).jpg from C:\\Users\\manai\\Desktop\\tar_dosyasi\\Kaynak\\planes\\planes (4).jpg to C:\\Users\\manai\\Desktop\\tar_dosyasi\\CNN\\eğitim\\planes\\planes (4).jpg\n",
      "Copied: planes.jpg from C:\\Users\\manai\\Desktop\\tar_dosyasi\\Kaynak\\planes\\planes.jpg to C:\\Users\\manai\\Desktop\\tar_dosyasi\\CNN\\test\\planes\\planes.jpg\n",
      "Dataset split completed successfully.\n"
     ]
    }
   ],
   "source": [
    "import os\n",
    "import shutil\n",
    "import random\n",
    "\n",
    "# Kaynak ve hedef dizinleri belirtin\n",
    "source_directory = r'C:\\Users\\manai\\Desktop\\tar_dosyasi\\Kaynak'\n",
    "train_directory = r'C:\\Users\\manai\\Desktop\\tar_dosyasi\\CNN\\eğitim'\n",
    "validation_directory = r'C:\\Users\\manai\\Desktop\\tar_dosyasi\\CNN\\test'\n",
    "split_ratio = 0.9  # Eğitim ve test ile test oranlarının verisetini nasıl paylaştığını belirler.\n",
    "\n",
    "# Kaynak dizindeki dizinleri belirledik\n",
    "if not os.path.isdir(source_directory):\n",
    "    raise FileNotFoundError(\"Source directory not found!\")\n",
    "# Train ve Validation dizinlerini oluşturduk, eğer zaten mevcut değilse\n",
    "os.makedirs(train_directory, exist_ok=True)\n",
    "os.makedirs(validation_directory, exist_ok=True)\n",
    "\n",
    "classes = os.listdir(source_directory)\n",
    "if not classes:\n",
    "    raise ValueError(\"No subdirectories found in source directory!\")\n",
    "\n",
    "for class_name in classes:\n",
    "    class_directory = os.path.join(source_directory, class_name)\n",
    "    \n",
    "    if not os.path.isdir(class_directory):\n",
    "        raise ValueError(f\"Subdirectory '{class_name}' not found in source directory!\")\n",
    "    \n",
    "    images = os.listdir(class_directory)  # Sınıflarınızdaki dosya isimlerini liste halinde alır\n",
    "    if not images:\n",
    "        raise ValueError(f\"No images found in subdirectory '{class_name}'!\")\n",
    "    \n",
    "    random.shuffle(images)  # Dosyaları rastgele sıralar\n",
    "\n",
    "    num_images = len(images)\n",
    "    num_train_images = int(num_images * split_ratio)  # Train dizine taşınan dosya sayısını hesaplar\n",
    "\n",
    "    train_class_directory = os.path.join(train_directory, class_name)\n",
    "    validation_class_directory = os.path.join(validation_directory, class_name)\n",
    "    os.makedirs(train_class_directory, exist_ok=True)\n",
    "    os.makedirs(validation_class_directory, exist_ok=True)\n",
    "\n",
    "    # Train dizine dosyaları kopyalar\n",
    "    for i, image in enumerate(images[:num_train_images]):\n",
    "        src_path = os.path.join(class_directory, image)\n",
    "        dst_path = os.path.join(train_class_directory, image)\n",
    "        try:\n",
    "            shutil.copy(src_path, dst_path)\n",
    "            print(f\"Copied: {image} from {src_path} to {dst_path}\")\n",
    "        except Exception as e:\n",
    "            print(f\"Failed to copy {src_path} to {dst_path}: {e}\")\n",
    "\n",
    "    # Test dizine dosyaları kopyalar\n",
    "    for image in images[num_train_images:]:\n",
    "        src_path = os.path.join(class_directory, image)\n",
    "        dst_path = os.path.join(validation_class_directory, image)\n",
    "        try:\n",
    "            shutil.copy(src_path, dst_path)\n",
    "            print(f\"Copied: {image} from {src_path} to {dst_path}\")\n",
    "        except Exception as e:\n",
    "            print(f\"Failed to copy {src_path} to {dst_path}: {e}\")\n",
    "\n",
    "print(\"Dataset split completed successfully.\")"
   ]
  },
  {
   "cell_type": "code",
   "execution_count": 48,
   "id": "88f6d2db",
   "metadata": {},
   "outputs": [
    {
     "name": "stdout",
     "output_type": "stream",
     "text": [
      "Kaynak dizini pathini giriniz: C:\\Users\\manai\\Desktop\\tar_dosyasi\\Kaynak\n",
      "Eğitim dizini pathini giriniz: C:\\Users\\manai\\Desktop\\tar_dosyasi\\CNN\\eğitim\n",
      "Test dizini pathini giriniz: C:\\Users\\manai\\Desktop\\tar_dosyasi\\CNN\\test\n",
      "Bölüm oranını giriniz (0.1-1 arasında): 0.9\n",
      "Dataset split completed.\n"
     ]
    }
   ],
   "source": [
    "import os\n",
    "import shutil\n",
    "import random\n",
    "\n",
    "def split_dataset(source_directory, training_directory, test_directory, split_ratio=0.9):\n",
    "    # Alt dizinleri oluştur\n",
    "    if not os.path.exists(training_directory):\n",
    "        os.makedirs(training_directory)\n",
    "    if not os.path.exists(test_directory):\n",
    "        os.makedirs(test_directory)\n",
    "    \n",
    "    # Sınıfları listele\n",
    "    classes = os.listdir(source_directory)\n",
    "    \n",
    "    for class_name in classes:\n",
    "        # Sınıf dizini pathini oluştur\n",
    "        class_directory = os.path.join(source_directory, class_name)\n",
    "        # Sınıfın içindeki dosyaları listele\n",
    "        images = os.listdir(class_directory)\n",
    "        \n",
    "        # Dosyaları karıştır\n",
    "        random.shuffle(images)\n",
    "        \n",
    "        # Dosyaların sayısını bul\n",
    "        num_images = len(images)\n",
    "        \n",
    "        # Eğitim ve test için dosya sayısını belirle\n",
    "        num_training_images = int(num_images * split_ratio)\n",
    "        num_test_images = num_images - num_training_images\n",
    "        \n",
    "        # Eğitim ve test dizinleri pathini oluştur\n",
    "        training_class_directory = os.path.join(training_directory, class_name)\n",
    "        test_class_directory = os.path.join(test_directory, class_name)\n",
    "        \n",
    "        # Eğitim ve test dizinlerini oluştur\n",
    "        os.makedirs(training_class_directory, exist_ok=True)\n",
    "        os.makedirs(test_class_directory, exist_ok=True)\n",
    "        \n",
    "        # Dosyaları eğitim ve test dizinlerine kopyala\n",
    "        for i, image in enumerate(images):\n",
    "            src_path = os.path.join(class_directory, image)\n",
    "            if i < num_training_images:\n",
    "                dst_path = os.path.join(training_class_directory, image)\n",
    "            else:\n",
    "                dst_path = os.path.join(test_class_directory, image)\n",
    "            shutil.copy(src_path, dst_path)\n",
    "\n",
    "# Kullanıcıdan giriş al\n",
    "source_directory = input(\"Kaynak dizini pathini giriniz: \")\n",
    "training_directory = input(\"Eğitim dizini pathini giriniz: \")\n",
    "test_directory = input(\"Test dizini pathini giriniz: \")\n",
    "split_ratio = float(input(\"Bölüm oranını giriniz (0.1-1 arasında): \"))\n",
    "\n",
    "# Dataset'i ayır\n",
    "split_dataset(source_directory, training_directory, test_directory, split_ratio)\n",
    "\n",
    "print(\"Dataset split completed.\")"
   ]
  },
  {
   "cell_type": "code",
   "execution_count": null,
   "id": "33c827a6",
   "metadata": {},
   "outputs": [],
   "source": []
  },
  {
   "cell_type": "code",
   "execution_count": null,
   "id": "44b61d0b",
   "metadata": {},
   "outputs": [],
   "source": []
  },
  {
   "cell_type": "code",
   "execution_count": null,
   "id": "8089ccbf",
   "metadata": {},
   "outputs": [],
   "source": [
    "# Encapsulation Example\n",
    "\n",
    "class Car:\n",
    "    def __init__(self, make, model):\n",
    "        self._make = make #Encapsulated attribute\n",
    "        self._model = model #Encapsulated attribute\n",
    "        \n",
    "    def get_make(self): # Getter method\n",
    "        return self._make\n",
    "    \n",
    "    def get_model(self): #Getter method\n",
    "        return self._model\n",
    "    \n",
    "    def set_make(self,make): # Setter method\n",
    "        self._make = make\n",
    "        \n",
    "    def set_model(Self, model): # Setter method\n",
    "        self._model = model"
   ]
  },
  {
   "cell_type": "code",
   "execution_count": null,
   "id": "cb606e3a",
   "metadata": {},
   "outputs": [],
   "source": [
    "my_car = Cra(\"Toyota\", \"Corolla\")\n",
    "print(my_car.get_make()) #Output: Toyota\n",
    "\n",
    "my_car.set_make(\"Honda\")\n",
    "print(my_car.get_make()) # Output: Honda"
   ]
  },
  {
   "cell_type": "code",
   "execution_count": null,
   "id": "38f2fcda",
   "metadata": {},
   "outputs": [],
   "source": []
  },
  {
   "cell_type": "code",
   "execution_count": null,
   "id": "816f0cd1",
   "metadata": {},
   "outputs": [],
   "source": []
  },
  {
   "cell_type": "code",
   "execution_count": null,
   "id": "b2089237",
   "metadata": {},
   "outputs": [],
   "source": []
  },
  {
   "cell_type": "code",
   "execution_count": null,
   "id": "5281e2d5",
   "metadata": {},
   "outputs": [],
   "source": []
  },
  {
   "cell_type": "code",
   "execution_count": null,
   "id": "a22370a8",
   "metadata": {},
   "outputs": [],
   "source": []
  },
  {
   "cell_type": "code",
   "execution_count": null,
   "id": "e3409b18",
   "metadata": {},
   "outputs": [],
   "source": []
  },
  {
   "cell_type": "code",
   "execution_count": null,
   "id": "f9c12851",
   "metadata": {},
   "outputs": [],
   "source": []
  }
 ],
 "metadata": {
  "kernelspec": {
   "display_name": "Python 3 (ipykernel)",
   "language": "python",
   "name": "python3"
  },
  "language_info": {
   "codemirror_mode": {
    "name": "ipython",
    "version": 3
   },
   "file_extension": ".py",
   "mimetype": "text/x-python",
   "name": "python",
   "nbconvert_exporter": "python",
   "pygments_lexer": "ipython3",
   "version": "3.11.5"
  },
  "toc": {
   "base_numbering": 1,
   "nav_menu": {},
   "number_sections": true,
   "sideBar": true,
   "skip_h1_title": false,
   "title_cell": "Table of Contents",
   "title_sidebar": "Contents",
   "toc_cell": false,
   "toc_position": {},
   "toc_section_display": true,
   "toc_window_display": false
  }
 },
 "nbformat": 4,
 "nbformat_minor": 5
}
