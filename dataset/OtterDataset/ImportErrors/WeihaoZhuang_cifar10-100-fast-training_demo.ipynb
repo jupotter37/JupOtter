{
 "cells": [
  {
   "cell_type": "code",
   "execution_count": null,
   "metadata": {},
   "outputs": [],
   "source": [
    "import numpy as np\n",
    "from training import *\n",
    "import apex.amp as amp\n",
    "import resnet"
   ]
  },
  {
   "cell_type": "code",
   "execution_count": 2,
   "metadata": {},
   "outputs": [],
   "source": [
    "batch_size = 512\n",
    "epochs = 70\n",
    "N_runs = 2\n",
    "cifar100_training  = True"
   ]
  },
  {
   "cell_type": "code",
   "execution_count": 3,
   "metadata": {},
   "outputs": [
    {
     "name": "stdout",
     "output_type": "stream",
     "text": [
      "Files already downloaded and verified\n",
      "Files already downloaded and verified\n"
     ]
    }
   ],
   "source": [
    "if cifar100_training:\n",
    "    train_batches, test_batches= get_cifar100_date_batches(batch_size = batch_size)\n",
    "else:\n",
    "    train_batches, test_batches= get_cifar10_date_batches(batch_size = batch_size)"
   ]
  },
  {
   "cell_type": "code",
   "execution_count": null,
   "metadata": {},
   "outputs": [
    {
     "name": "stdout",
     "output_type": "stream",
     "text": [
      "Selected optimization level O1:  Insert automatic casts around Pytorch functions and Tensor methods.\n",
      "\n",
      "Defaults for this optimization level are:\n",
      "enabled                : True\n",
      "opt_level              : O1\n",
      "cast_model_type        : None\n",
      "patch_torch_functions  : True\n",
      "keep_batchnorm_fp32    : None\n",
      "master_weights         : None\n",
      "loss_scale             : dynamic\n",
      "Processing user overrides (additional kwargs that are not None)...\n",
      "After processing overrides, optimization options are:\n",
      "enabled                : True\n",
      "opt_level              : O1\n",
      "cast_model_type        : None\n",
      "patch_torch_functions  : True\n",
      "keep_batchnorm_fp32    : None\n",
      "master_weights         : None\n",
      "loss_scale             : dynamic\n",
      "Warning:  multi_tensor_applier fused unscale kernel is unavailable, possibly because apex was installed without --cuda_ext --cpp_ext. Using Python fallback.  Original ImportError was: ModuleNotFoundError(\"No module named 'amp_C'\")\n",
      "Gradient overflow.  Skipping step, loss scaler 0 reducing loss scale to 32768.0\n",
      "Gradient overflow.  Skipping step, loss scaler 0 reducing loss scale to 16384.0\n",
      "Gradient overflow.  Skipping step, loss scaler 0 reducing loss scale to 8192.0\n",
      "Gradient overflow.  Skipping step, loss scaler 0 reducing loss scale to 4096.0\n",
      "Gradient overflow.  Skipping step, loss scaler 0 reducing loss scale to 2048.0\n",
      "Gradient overflow.  Skipping step, loss scaler 0 reducing loss scale to 1024.0\n",
      "Gradient overflow.  Skipping step, loss scaler 0 reducing loss scale to 512.0\n",
      "       epoch           lr   train time   train loss    train acc    test time    test loss     test acc   total time\n",
      "           1       0.0216      11.8023       4.3289       0.0510       0.9393       3.8892       0.1029      12.7416\n",
      "           2       0.0432      10.0175       3.5758       0.1482       0.6593       3.3964       0.1876      23.4184\n",
      "           3       0.0649      10.1022       3.0640       0.2396       0.6904       3.1256       0.2461      34.2111\n",
      "           4       0.0865      10.3527       2.6687       0.3125       0.6803       2.4814       0.3535      45.2441\n"
     ]
    }
   ],
   "source": [
    "summaries = []\n",
    "for i in range(N_runs):\n",
    "    model = resnet.resnet18(num_classes=100).cuda()\n",
    "    summaries.append(training(model,epochs = epochs, batches = (train_batches, test_batches), batch_size = batch_size,  opt_level='O1'))\n",
    "    \n",
    "test_accs = np.array([s['test acc'] for s in summaries])\n",
    "print(f'mean test accuracy: {np.mean(test_accs):.4f}')\n",
    "print(f'median test accuracy: {np.median(test_accs):.4f}')"
   ]
  },
  {
   "cell_type": "code",
   "execution_count": null,
   "metadata": {},
   "outputs": [],
   "source": []
  }
 ],
 "metadata": {
  "kernelspec": {
   "display_name": "Python 3",
   "language": "python",
   "name": "python3"
  },
  "language_info": {
   "codemirror_mode": {
    "name": "ipython",
    "version": 3
   },
   "file_extension": ".py",
   "mimetype": "text/x-python",
   "name": "python",
   "nbconvert_exporter": "python",
   "pygments_lexer": "ipython3",
   "version": "3.8.1"
  }
 },
 "nbformat": 4,
 "nbformat_minor": 4
}
