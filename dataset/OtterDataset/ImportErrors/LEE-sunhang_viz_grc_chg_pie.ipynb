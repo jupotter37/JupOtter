{
 "cells": [
  {
   "cell_type": "code",
   "execution_count": 12,
   "metadata": {},
   "outputs": [
    {
     "data": {
      "text/html": [
       "<div class=\"bk-root\">\n",
       "        <a href=\"https://bokeh.org\" target=\"_blank\" class=\"bk-logo bk-logo-small bk-logo-notebook\"></a>\n",
       "        <span id=\"1361\">Loading BokehJS ...</span>\n",
       "    </div>\n"
      ]
     },
     "metadata": {},
     "output_type": "display_data"
    },
    {
     "data": {
      "application/javascript": "(function(root) {\n  function now() {\n    return new Date();\n  }\n\n  const force = true;\n\n  if (typeof root._bokeh_onload_callbacks === \"undefined\" || force === true) {\n    root._bokeh_onload_callbacks = [];\n    root._bokeh_is_loading = undefined;\n  }\n\nconst JS_MIME_TYPE = 'application/javascript';\n  const HTML_MIME_TYPE = 'text/html';\n  const EXEC_MIME_TYPE = 'application/vnd.bokehjs_exec.v0+json';\n  const CLASS_NAME = 'output_bokeh rendered_html';\n\n  /**\n   * Render data to the DOM node\n   */\n  function render(props, node) {\n    const script = document.createElement(\"script\");\n    node.appendChild(script);\n  }\n\n  /**\n   * Handle when an output is cleared or removed\n   */\n  function handleClearOutput(event, handle) {\n    const cell = handle.cell;\n\n    const id = cell.output_area._bokeh_element_id;\n    const server_id = cell.output_area._bokeh_server_id;\n    // Clean up Bokeh references\n    if (id != null && id in Bokeh.index) {\n      Bokeh.index[id].model.document.clear();\n      delete Bokeh.index[id];\n    }\n\n    if (server_id !== undefined) {\n      // Clean up Bokeh references\n      const cmd_clean = \"from bokeh.io.state import curstate; print(curstate().uuid_to_server['\" + server_id + \"'].get_sessions()[0].document.roots[0]._id)\";\n      cell.notebook.kernel.execute(cmd_clean, {\n        iopub: {\n          output: function(msg) {\n            const id = msg.content.text.trim();\n            if (id in Bokeh.index) {\n              Bokeh.index[id].model.document.clear();\n              delete Bokeh.index[id];\n            }\n          }\n        }\n      });\n      // Destroy server and session\n      const cmd_destroy = \"import bokeh.io.notebook as ion; ion.destroy_server('\" + server_id + \"')\";\n      cell.notebook.kernel.execute(cmd_destroy);\n    }\n  }\n\n  /**\n   * Handle when a new output is added\n   */\n  function handleAddOutput(event, handle) {\n    const output_area = handle.output_area;\n    const output = handle.output;\n\n    // limit handleAddOutput to display_data with EXEC_MIME_TYPE content only\n    if ((output.output_type != \"display_data\") || (!Object.prototype.hasOwnProperty.call(output.data, EXEC_MIME_TYPE))) {\n      return\n    }\n\n    const toinsert = output_area.element.find(\".\" + CLASS_NAME.split(' ')[0]);\n\n    if (output.metadata[EXEC_MIME_TYPE][\"id\"] !== undefined) {\n      toinsert[toinsert.length - 1].firstChild.textContent = output.data[JS_MIME_TYPE];\n      // store reference to embed id on output_area\n      output_area._bokeh_element_id = output.metadata[EXEC_MIME_TYPE][\"id\"];\n    }\n    if (output.metadata[EXEC_MIME_TYPE][\"server_id\"] !== undefined) {\n      const bk_div = document.createElement(\"div\");\n      bk_div.innerHTML = output.data[HTML_MIME_TYPE];\n      const script_attrs = bk_div.children[0].attributes;\n      for (let i = 0; i < script_attrs.length; i++) {\n        toinsert[toinsert.length - 1].firstChild.setAttribute(script_attrs[i].name, script_attrs[i].value);\n        toinsert[toinsert.length - 1].firstChild.textContent = bk_div.children[0].textContent\n      }\n      // store reference to server id on output_area\n      output_area._bokeh_server_id = output.metadata[EXEC_MIME_TYPE][\"server_id\"];\n    }\n  }\n\n  function register_renderer(events, OutputArea) {\n\n    function append_mime(data, metadata, element) {\n      // create a DOM node to render to\n      const toinsert = this.create_output_subarea(\n        metadata,\n        CLASS_NAME,\n        EXEC_MIME_TYPE\n      );\n      this.keyboard_manager.register_events(toinsert);\n      // Render to node\n      const props = {data: data, metadata: metadata[EXEC_MIME_TYPE]};\n      render(props, toinsert[toinsert.length - 1]);\n      element.append(toinsert);\n      return toinsert\n    }\n\n    /* Handle when an output is cleared or removed */\n    events.on('clear_output.CodeCell', handleClearOutput);\n    events.on('delete.Cell', handleClearOutput);\n\n    /* Handle when a new output is added */\n    events.on('output_added.OutputArea', handleAddOutput);\n\n    /**\n     * Register the mime type and append_mime function with output_area\n     */\n    OutputArea.prototype.register_mime_type(EXEC_MIME_TYPE, append_mime, {\n      /* Is output safe? */\n      safe: true,\n      /* Index of renderer in `output_area.display_order` */\n      index: 0\n    });\n  }\n\n  // register the mime type if in Jupyter Notebook environment and previously unregistered\n  if (root.Jupyter !== undefined) {\n    const events = require('base/js/events');\n    const OutputArea = require('notebook/js/outputarea').OutputArea;\n\n    if (OutputArea.prototype.mime_types().indexOf(EXEC_MIME_TYPE) == -1) {\n      register_renderer(events, OutputArea);\n    }\n  }\n  if (typeof (root._bokeh_timeout) === \"undefined\" || force === true) {\n    root._bokeh_timeout = Date.now() + 5000;\n    root._bokeh_failed_load = false;\n  }\n\n  const NB_LOAD_WARNING = {'data': {'text/html':\n     \"<div style='background-color: #fdd'>\\n\"+\n     \"<p>\\n\"+\n     \"BokehJS does not appear to have successfully loaded. If loading BokehJS from CDN, this \\n\"+\n     \"may be due to a slow or bad network connection. Possible fixes:\\n\"+\n     \"</p>\\n\"+\n     \"<ul>\\n\"+\n     \"<li>re-rerun `output_notebook()` to attempt to load from CDN again, or</li>\\n\"+\n     \"<li>use INLINE resources instead, as so:</li>\\n\"+\n     \"</ul>\\n\"+\n     \"<code>\\n\"+\n     \"from bokeh.resources import INLINE\\n\"+\n     \"output_notebook(resources=INLINE)\\n\"+\n     \"</code>\\n\"+\n     \"</div>\"}};\n\n  function display_loaded() {\n    const el = document.getElementById(\"1361\");\n    if (el != null) {\n      el.textContent = \"BokehJS is loading...\";\n    }\n    if (root.Bokeh !== undefined) {\n      if (el != null) {\n        el.textContent = \"BokehJS \" + root.Bokeh.version + \" successfully loaded.\";\n      }\n    } else if (Date.now() < root._bokeh_timeout) {\n      setTimeout(display_loaded, 100)\n    }\n  }\n\n  function run_callbacks() {\n    try {\n      root._bokeh_onload_callbacks.forEach(function(callback) {\n        if (callback != null)\n          callback();\n      });\n    } finally {\n      delete root._bokeh_onload_callbacks\n    }\n    console.debug(\"Bokeh: all callbacks have finished\");\n  }\n\n  function load_libs(css_urls, js_urls, callback) {\n    if (css_urls == null) css_urls = [];\n    if (js_urls == null) js_urls = [];\n\n    root._bokeh_onload_callbacks.push(callback);\n    if (root._bokeh_is_loading > 0) {\n      console.debug(\"Bokeh: BokehJS is being loaded, scheduling callback at\", now());\n      return null;\n    }\n    if (js_urls == null || js_urls.length === 0) {\n      run_callbacks();\n      return null;\n    }\n    console.debug(\"Bokeh: BokehJS not loaded, scheduling load and callback at\", now());\n    root._bokeh_is_loading = css_urls.length + js_urls.length;\n\n    function on_load() {\n      root._bokeh_is_loading--;\n      if (root._bokeh_is_loading === 0) {\n        console.debug(\"Bokeh: all BokehJS libraries/stylesheets loaded\");\n        run_callbacks()\n      }\n    }\n\n    function on_error(url) {\n      console.error(\"failed to load \" + url);\n    }\n\n    for (let i = 0; i < css_urls.length; i++) {\n      const url = css_urls[i];\n      const element = document.createElement(\"link\");\n      element.onload = on_load;\n      element.onerror = on_error.bind(null, url);\n      element.rel = \"stylesheet\";\n      element.type = \"text/css\";\n      element.href = url;\n      console.debug(\"Bokeh: injecting link tag for BokehJS stylesheet: \", url);\n      document.body.appendChild(element);\n    }\n\n    for (let i = 0; i < js_urls.length; i++) {\n      const url = js_urls[i];\n      const element = document.createElement('script');\n      element.onload = on_load;\n      element.onerror = on_error.bind(null, url);\n      element.async = false;\n      element.src = url;\n      console.debug(\"Bokeh: injecting script tag for BokehJS library: \", url);\n      document.head.appendChild(element);\n    }\n  };\n\n  function inject_raw_css(css) {\n    const element = document.createElement(\"style\");\n    element.appendChild(document.createTextNode(css));\n    document.body.appendChild(element);\n  }\n\n  const js_urls = [\"https://cdn.bokeh.org/bokeh/release/bokeh-2.4.3.min.js\", \"https://cdn.bokeh.org/bokeh/release/bokeh-gl-2.4.3.min.js\", \"https://cdn.bokeh.org/bokeh/release/bokeh-widgets-2.4.3.min.js\", \"https://cdn.bokeh.org/bokeh/release/bokeh-tables-2.4.3.min.js\", \"https://cdn.bokeh.org/bokeh/release/bokeh-mathjax-2.4.3.min.js\"];\n  const css_urls = [];\n\n  const inline_js = [    function(Bokeh) {\n      Bokeh.set_log_level(\"info\");\n    },\nfunction(Bokeh) {\n    }\n  ];\n\n  function run_inline_js() {\n    if (root.Bokeh !== undefined || force === true) {\n          for (let i = 0; i < inline_js.length; i++) {\n      inline_js[i].call(root, root.Bokeh);\n    }\nif (force === true) {\n        display_loaded();\n      }} else if (Date.now() < root._bokeh_timeout) {\n      setTimeout(run_inline_js, 100);\n    } else if (!root._bokeh_failed_load) {\n      console.log(\"Bokeh: BokehJS failed to load within specified timeout.\");\n      root._bokeh_failed_load = true;\n    } else if (force !== true) {\n      const cell = $(document.getElementById(\"1361\")).parents('.cell').data().cell;\n      cell.output_area.append_execute_result(NB_LOAD_WARNING)\n    }\n  }\n\n  if (root._bokeh_is_loading === 0) {\n    console.debug(\"Bokeh: BokehJS loaded, going straight to plotting\");\n    run_inline_js();\n  } else {\n    load_libs(css_urls, js_urls, function() {\n      console.debug(\"Bokeh: BokehJS plotting callback run at\", now());\n      run_inline_js();\n    });\n  }\n}(window));",
      "application/vnd.bokehjs_load.v0+json": ""
     },
     "metadata": {},
     "output_type": "display_data"
    },
    {
     "name": "stderr",
     "output_type": "stream",
     "text": [
      "/tmp/ipykernel_8639/1139243837.py:31: SettingWithCopyWarning: \n",
      "A value is trying to be set on a copy of a slice from a DataFrame.\n",
      "Try using .loc[row_indexer,col_indexer] = value instead\n",
      "\n",
      "See the caveats in the documentation: https://pandas.pydata.org/pandas-docs/stable/user_guide/indexing.html#returning-a-view-versus-a-copy\n",
      "  data['angle'] = data['Total'] / data['Total'].sum() * 2*pi\n",
      "/tmp/ipykernel_8639/1139243837.py:32: SettingWithCopyWarning: \n",
      "A value is trying to be set on a copy of a slice from a DataFrame.\n",
      "Try using .loc[row_indexer,col_indexer] = value instead\n",
      "\n",
      "See the caveats in the documentation: https://pandas.pydata.org/pandas-docs/stable/user_guide/indexing.html#returning-a-view-versus-a-copy\n",
      "  data['color'] = [\"#e6550d\", \"#6baed6\"]\n",
      "/tmp/ipykernel_8639/1139243837.py:36: SettingWithCopyWarning: \n",
      "A value is trying to be set on a copy of a slice from a DataFrame.\n",
      "Try using .loc[row_indexer,col_indexer] = value instead\n",
      "\n",
      "See the caveats in the documentation: https://pandas.pydata.org/pandas-docs/stable/user_guide/indexing.html#returning-a-view-versus-a-copy\n",
      "  data['cum_angle'] = [ (sum(value[0: i+1]) - (item/2)) / sum(value)*2*pi for i, item in enumerate(value) ]\n",
      "/tmp/ipykernel_8639/1139243837.py:38: SettingWithCopyWarning: \n",
      "A value is trying to be set on a copy of a slice from a DataFrame.\n",
      "Try using .loc[row_indexer,col_indexer] = value instead\n",
      "\n",
      "See the caveats in the documentation: https://pandas.pydata.org/pandas-docs/stable/user_guide/indexing.html#returning-a-view-versus-a-copy\n",
      "  data['percent'] = data['Total'].apply(lambda x: (x / data['Total'].sum()) * 100 )\n"
     ]
    },
    {
     "ename": "RuntimeError",
     "evalue": "To use bokeh.io image export functions you need selenium ('conda install selenium' or 'pip install selenium')",
     "output_type": "error",
     "traceback": [
      "\u001b[0;31m---------------------------------------------------------------------------\u001b[0m",
      "\u001b[0;31mModuleNotFoundError\u001b[0m                       Traceback (most recent call last)",
      "File \u001b[0;32m/mnt/c/Users/sunha/VS/visualization/bokeh/.bokeh2.4.3/lib/python3.10/site-packages/bokeh/util/dependencies.py:80\u001b[0m, in \u001b[0;36mimport_required\u001b[0;34m(mod_name, error_msg)\u001b[0m\n\u001b[1;32m     79\u001b[0m \u001b[39mtry\u001b[39;00m:\n\u001b[0;32m---> 80\u001b[0m     \u001b[39mreturn\u001b[39;00m import_module(mod_name)\n\u001b[1;32m     81\u001b[0m \u001b[39mexcept\u001b[39;00m \u001b[39mImportError\u001b[39;00m \u001b[39mas\u001b[39;00m e:\n",
      "File \u001b[0;32m/usr/lib/python3.10/importlib/__init__.py:126\u001b[0m, in \u001b[0;36mimport_module\u001b[0;34m(name, package)\u001b[0m\n\u001b[1;32m    125\u001b[0m         level \u001b[39m+\u001b[39m\u001b[39m=\u001b[39m \u001b[39m1\u001b[39m\n\u001b[0;32m--> 126\u001b[0m \u001b[39mreturn\u001b[39;00m _bootstrap\u001b[39m.\u001b[39;49m_gcd_import(name[level:], package, level)\n",
      "File \u001b[0;32m<frozen importlib._bootstrap>:1050\u001b[0m, in \u001b[0;36m_gcd_import\u001b[0;34m(name, package, level)\u001b[0m\n",
      "File \u001b[0;32m<frozen importlib._bootstrap>:1027\u001b[0m, in \u001b[0;36m_find_and_load\u001b[0;34m(name, import_)\u001b[0m\n",
      "File \u001b[0;32m<frozen importlib._bootstrap>:992\u001b[0m, in \u001b[0;36m_find_and_load_unlocked\u001b[0;34m(name, import_)\u001b[0m\n",
      "File \u001b[0;32m<frozen importlib._bootstrap>:241\u001b[0m, in \u001b[0;36m_call_with_frames_removed\u001b[0;34m(f, *args, **kwds)\u001b[0m\n",
      "File \u001b[0;32m<frozen importlib._bootstrap>:1050\u001b[0m, in \u001b[0;36m_gcd_import\u001b[0;34m(name, package, level)\u001b[0m\n",
      "File \u001b[0;32m<frozen importlib._bootstrap>:1027\u001b[0m, in \u001b[0;36m_find_and_load\u001b[0;34m(name, import_)\u001b[0m\n",
      "File \u001b[0;32m<frozen importlib._bootstrap>:1004\u001b[0m, in \u001b[0;36m_find_and_load_unlocked\u001b[0;34m(name, import_)\u001b[0m\n",
      "\u001b[0;31mModuleNotFoundError\u001b[0m: No module named 'selenium'",
      "\nThe above exception was the direct cause of the following exception:\n",
      "\u001b[0;31mRuntimeError\u001b[0m                              Traceback (most recent call last)",
      "Cell \u001b[0;32mIn[12], line 81\u001b[0m\n\u001b[1;32m     75\u001b[0m zgri\u001b[39m.\u001b[39mgrid_line_color \u001b[39m=\u001b[39m \u001b[39mNone\u001b[39;00m\n\u001b[1;32m     78\u001b[0m \u001b[39m# output_file(\"chg_pie.html\")\u001b[39;00m\n\u001b[1;32m     79\u001b[0m \u001b[39m# save(p)\u001b[39;00m\n\u001b[0;32m---> 81\u001b[0m export_png(p, filename\u001b[39m=\u001b[39;49m\u001b[39m\"\u001b[39;49m\u001b[39mchg_pie.png\u001b[39;49m\u001b[39m\"\u001b[39;49m)\n",
      "File \u001b[0;32m/mnt/c/Users/sunha/VS/visualization/bokeh/.bokeh2.4.3/lib/python3.10/site-packages/bokeh/io/export.py:111\u001b[0m, in \u001b[0;36mexport_png\u001b[0;34m(obj, filename, width, height, webdriver, timeout)\u001b[0m\n\u001b[1;32m     73\u001b[0m \u001b[39mdef\u001b[39;00m \u001b[39mexport_png\u001b[39m(obj: LayoutDOM \u001b[39m|\u001b[39m Document, \u001b[39m*\u001b[39m, filename: PathLike \u001b[39m|\u001b[39m \u001b[39mNone\u001b[39;00m \u001b[39m=\u001b[39m \u001b[39mNone\u001b[39;00m, width: \u001b[39mint\u001b[39m \u001b[39m|\u001b[39m \u001b[39mNone\u001b[39;00m \u001b[39m=\u001b[39m \u001b[39mNone\u001b[39;00m,\n\u001b[1;32m     74\u001b[0m         height: \u001b[39mint\u001b[39m \u001b[39m|\u001b[39m \u001b[39mNone\u001b[39;00m \u001b[39m=\u001b[39m \u001b[39mNone\u001b[39;00m, webdriver: WebDriver \u001b[39m|\u001b[39m \u001b[39mNone\u001b[39;00m \u001b[39m=\u001b[39m \u001b[39mNone\u001b[39;00m, timeout: \u001b[39mint\u001b[39m \u001b[39m=\u001b[39m \u001b[39m5\u001b[39m) \u001b[39m-\u001b[39m\u001b[39m>\u001b[39m \u001b[39mstr\u001b[39m:\n\u001b[1;32m     75\u001b[0m \u001b[39m    \u001b[39m\u001b[39m''' Export the ``LayoutDOM`` object or document as a PNG.\u001b[39;00m\n\u001b[1;32m     76\u001b[0m \n\u001b[1;32m     77\u001b[0m \u001b[39m    If the filename is not given, it is derived from the script name (e.g.\u001b[39;00m\n\u001b[0;32m   (...)\u001b[0m\n\u001b[1;32m    109\u001b[0m \n\u001b[1;32m    110\u001b[0m \u001b[39m    '''\u001b[39;00m\n\u001b[0;32m--> 111\u001b[0m     image \u001b[39m=\u001b[39m get_screenshot_as_png(obj, width\u001b[39m=\u001b[39;49mwidth, height\u001b[39m=\u001b[39;49mheight, driver\u001b[39m=\u001b[39;49mwebdriver, timeout\u001b[39m=\u001b[39;49mtimeout)\n\u001b[1;32m    113\u001b[0m     \u001b[39mif\u001b[39;00m filename \u001b[39mis\u001b[39;00m \u001b[39mNone\u001b[39;00m:\n\u001b[1;32m    114\u001b[0m         filename \u001b[39m=\u001b[39m default_filename(\u001b[39m\"\u001b[39m\u001b[39mpng\u001b[39m\u001b[39m\"\u001b[39m)\n",
      "File \u001b[0;32m/mnt/c/Users/sunha/VS/visualization/bokeh/.bokeh2.4.3/lib/python3.10/site-packages/bokeh/io/export.py:229\u001b[0m, in \u001b[0;36mget_screenshot_as_png\u001b[0;34m(obj, driver, timeout, resources, width, height)\u001b[0m\n\u001b[1;32m    206\u001b[0m \u001b[39mdef\u001b[39;00m \u001b[39mget_screenshot_as_png\u001b[39m(obj: LayoutDOM \u001b[39m|\u001b[39m Document, \u001b[39m*\u001b[39m, driver: WebDriver \u001b[39m|\u001b[39m \u001b[39mNone\u001b[39;00m \u001b[39m=\u001b[39m \u001b[39mNone\u001b[39;00m, timeout: \u001b[39mint\u001b[39m \u001b[39m=\u001b[39m \u001b[39m5\u001b[39m,\n\u001b[1;32m    207\u001b[0m         resources: Resources \u001b[39m=\u001b[39m INLINE, width: \u001b[39mint\u001b[39m \u001b[39m|\u001b[39m \u001b[39mNone\u001b[39;00m \u001b[39m=\u001b[39m \u001b[39mNone\u001b[39;00m, height: \u001b[39mint\u001b[39m \u001b[39m|\u001b[39m \u001b[39mNone\u001b[39;00m \u001b[39m=\u001b[39m \u001b[39mNone\u001b[39;00m) \u001b[39m-\u001b[39m\u001b[39m>\u001b[39m Image\u001b[39m.\u001b[39mImage:\n\u001b[1;32m    208\u001b[0m \u001b[39m    \u001b[39m\u001b[39m''' Get a screenshot of a ``LayoutDOM`` object.\u001b[39;00m\n\u001b[1;32m    209\u001b[0m \n\u001b[1;32m    210\u001b[0m \u001b[39m    Args:\u001b[39;00m\n\u001b[0;32m   (...)\u001b[0m\n\u001b[1;32m    227\u001b[0m \n\u001b[1;32m    228\u001b[0m \u001b[39m    '''\u001b[39;00m\n\u001b[0;32m--> 229\u001b[0m     \u001b[39mfrom\u001b[39;00m \u001b[39m.\u001b[39;00m\u001b[39mwebdriver\u001b[39;00m \u001b[39mimport\u001b[39;00m webdriver_control\n\u001b[1;32m    231\u001b[0m     \u001b[39mwith\u001b[39;00m _tmp_html() \u001b[39mas\u001b[39;00m tmp:\n\u001b[1;32m    232\u001b[0m         html \u001b[39m=\u001b[39m get_layout_html(obj, resources\u001b[39m=\u001b[39mresources, width\u001b[39m=\u001b[39mwidth, height\u001b[39m=\u001b[39mheight)\n",
      "File \u001b[0;32m/mnt/c/Users/sunha/VS/visualization/bokeh/.bokeh2.4.3/lib/python3.10/site-packages/bokeh/io/webdriver.py:24\u001b[0m\n\u001b[1;32m     19\u001b[0m \u001b[39m#-----------------------------------------------------------------------------\u001b[39;00m\n\u001b[1;32m     20\u001b[0m \u001b[39m# Imports\u001b[39;00m\n\u001b[1;32m     21\u001b[0m \u001b[39m#-----------------------------------------------------------------------------\u001b[39;00m\n\u001b[1;32m     23\u001b[0m \u001b[39mfrom\u001b[39;00m \u001b[39m.\u001b[39;00m\u001b[39m.\u001b[39;00m\u001b[39mutil\u001b[39;00m\u001b[39m.\u001b[39;00m\u001b[39mdependencies\u001b[39;00m \u001b[39mimport\u001b[39;00m import_required \u001b[39m# isort:skip\u001b[39;00m\n\u001b[0;32m---> 24\u001b[0m import_required(\u001b[39m\"\u001b[39;49m\u001b[39mselenium.webdriver\u001b[39;49m\u001b[39m\"\u001b[39;49m,\n\u001b[1;32m     25\u001b[0m                 \u001b[39m\"\u001b[39;49m\u001b[39mTo use bokeh.io image export functions you need selenium \u001b[39;49m\u001b[39m\"\u001b[39;49m\n\u001b[1;32m     26\u001b[0m                 \u001b[39m\"\u001b[39;49m\u001b[39m(\u001b[39;49m\u001b[39m'\u001b[39;49m\u001b[39mconda install selenium\u001b[39;49m\u001b[39m'\u001b[39;49m\u001b[39m or \u001b[39;49m\u001b[39m'\u001b[39;49m\u001b[39mpip install selenium\u001b[39;49m\u001b[39m'\u001b[39;49m\u001b[39m)\u001b[39;49m\u001b[39m\"\u001b[39;49m)\n\u001b[1;32m     28\u001b[0m \u001b[39m# Standard library imports\u001b[39;00m\n\u001b[1;32m     29\u001b[0m \u001b[39mimport\u001b[39;00m \u001b[39matexit\u001b[39;00m\n",
      "File \u001b[0;32m/mnt/c/Users/sunha/VS/visualization/bokeh/.bokeh2.4.3/lib/python3.10/site-packages/bokeh/util/dependencies.py:82\u001b[0m, in \u001b[0;36mimport_required\u001b[0;34m(mod_name, error_msg)\u001b[0m\n\u001b[1;32m     80\u001b[0m     \u001b[39mreturn\u001b[39;00m import_module(mod_name)\n\u001b[1;32m     81\u001b[0m \u001b[39mexcept\u001b[39;00m \u001b[39mImportError\u001b[39;00m \u001b[39mas\u001b[39;00m e:\n\u001b[0;32m---> 82\u001b[0m     \u001b[39mraise\u001b[39;00m \u001b[39mRuntimeError\u001b[39;00m(error_msg) \u001b[39mfrom\u001b[39;00m \u001b[39me\u001b[39;00m\n",
      "\u001b[0;31mRuntimeError\u001b[0m: To use bokeh.io image export functions you need selenium ('conda install selenium' or 'pip install selenium')"
     ]
    }
   ],
   "source": [
    "from math import pi\n",
    "\n",
    "import pandas as pd\n",
    "import numpy as np\n",
    "\n",
    "from bokeh.plotting import figure\n",
    "from bokeh.io import show, save, output_notebook, output_file, export_png\n",
    "from bokeh.models import  ColumnDataSource, LabelSet, PrintfTickFormatter, FuncTickFormatter\n",
    "from bokeh.palettes import Category20c\n",
    "from bokeh.transform import cumsum\n",
    "from bokeh.core.properties import value\n",
    "from bokeh.transform import dodge\n",
    "\n",
    "output_notebook()\n",
    "\n",
    "data = {'Type':['Emergency', 'Normal'],\n",
    " 'Canceled': np.random.randint(0, 100, 2),\n",
    " 'Closed':np.random.randint(0, 100, 2),\n",
    " 'Implement':np.random.randint(0, 100, 2),\n",
    " 'Review':np.random.randint(0, 100, 2),\n",
    " 'Scheduled': np.random.randint(0, 100, 2),\n",
    " 'Total':np.random.randint(100, 500, 2)}\n",
    "\n",
    "df = pd.DataFrame(data)\n",
    "\n",
    "data = df[['Type','Total']]\n",
    "type = data['Type'].tolist()\n",
    "state = data.columns.tolist()[1:-1]\n",
    "total = data['Total'].tolist()\n",
    "\n",
    "data['angle'] = data['Total'] / data['Total'].sum() * 2*pi\n",
    "data['color'] = [\"#e6550d\", \"#6baed6\"]\n",
    "\n",
    "value = data['Total'].tolist()\n",
    "\n",
    "data['cum_angle'] = [ (sum(value[0: i+1]) - (item/2)) / sum(value)*2*pi for i, item in enumerate(value) ]\n",
    "\n",
    "data['percent'] = data['Total'].apply(lambda x: (x / data['Total'].sum()) * 100 )\n",
    "\n",
    "data['label'] = [ \"{:.0f}%\".format(val) for val in data['percent'] ]\n",
    "\n",
    "data['cos'] = np.cos(data['cum_angle']) * 0.25\n",
    "data['sin'] = np.sin(data['cum_angle']) * 0.25\n",
    "\n",
    "source = ColumnDataSource(data)\n",
    "\n",
    "p = figure(height=450, width=650, toolbar_location=None, title=\"Total CHG CAB Approved in Mar 2023\",\n",
    "           x_range=(-0.5, 1))\n",
    "\n",
    "p.wedge(x=0.2, y=0, radius=0.47,\n",
    "          start_angle=cumsum('angle', include_zero=True), \n",
    "          end_angle=cumsum('angle'),\n",
    "          line_color='white',\n",
    "          fill_color='color',\n",
    "          legend_field='Type',\n",
    "          source=source)\n",
    "\n",
    "labels = LabelSet(x='cos', y='sin', x_offset=100, y_offset=-0.2, level='glyph',\n",
    "                  text='label', text_font_size='19px', text_color='black', text_align='center', source=source)\n",
    "\n",
    "p.add_layout(labels)\n",
    "\n",
    "title = p.title\n",
    "title.text_font_size = '24px'\n",
    "title.align = 'center'\n",
    "\n",
    "leg = p.legend\n",
    "leg.label_text_font_size = '16px'\n",
    "\n",
    "x = p.axis\n",
    "x.axis_label = None\n",
    "x.visible=False\n",
    "\n",
    "zgri = p.grid\n",
    "zgri.grid_line_color = None\n",
    "\n",
    "\n",
    "# output_file(\"chg_pie.html\")\n",
    "# save(p)\n",
    "\n",
    "export_png(p, filename=\"chg_pie.png\")"
   ]
  },
  {
   "cell_type": "code",
   "execution_count": 5,
   "metadata": {},
   "outputs": [
    {
     "ename": "ModuleNotFoundError",
     "evalue": "No module named 'html5lib'",
     "output_type": "error",
     "traceback": [
      "\u001b[0;31m---------------------------------------------------------------------------\u001b[0m",
      "\u001b[0;31mModuleNotFoundError\u001b[0m                       Traceback (most recent call last)",
      "Cell \u001b[0;32mIn[5], line 1\u001b[0m\n\u001b[0;32m----> 1\u001b[0m \u001b[39mimport\u001b[39;00m \u001b[39mhtml5lib\u001b[39;00m\n\u001b[1;32m      2\u001b[0m pd\u001b[39m.\u001b[39mread_html(\u001b[39m'\u001b[39m\u001b[39mchg_pie.html\u001b[39m\u001b[39m'\u001b[39m, header\u001b[39m=\u001b[39m\u001b[39m0\u001b[39m)\n",
      "\u001b[0;31mModuleNotFoundError\u001b[0m: No module named 'html5lib'"
     ]
    }
   ],
   "source": [
    "import html5lib\n",
    "pd.read_html('chg_pie.html', header=0)"
   ]
  },
  {
   "cell_type": "code",
   "execution_count": 26,
   "metadata": {},
   "outputs": [
    {
     "data": {
      "text/html": [
       "<div>\n",
       "<style scoped>\n",
       "    .dataframe tbody tr th:only-of-type {\n",
       "        vertical-align: middle;\n",
       "    }\n",
       "\n",
       "    .dataframe tbody tr th {\n",
       "        vertical-align: top;\n",
       "    }\n",
       "\n",
       "    .dataframe thead th {\n",
       "        text-align: right;\n",
       "    }\n",
       "</style>\n",
       "<table border=\"1\" class=\"dataframe\">\n",
       "  <thead>\n",
       "    <tr style=\"text-align: right;\">\n",
       "      <th></th>\n",
       "      <th>Type</th>\n",
       "      <th>Total</th>\n",
       "      <th>angle</th>\n",
       "      <th>color</th>\n",
       "      <th>cum_angle</th>\n",
       "      <th>percent</th>\n",
       "      <th>label</th>\n",
       "      <th>cos</th>\n",
       "      <th>sin</th>\n",
       "    </tr>\n",
       "  </thead>\n",
       "  <tbody>\n",
       "    <tr>\n",
       "      <th>0</th>\n",
       "      <td>Emergency</td>\n",
       "      <td>305</td>\n",
       "      <td>2.479135</td>\n",
       "      <td>#e6550d</td>\n",
       "      <td>1.239568</td>\n",
       "      <td>39.456662</td>\n",
       "      <td>39%</td>\n",
       "      <td>0.081301</td>\n",
       "      <td>0.236411</td>\n",
       "    </tr>\n",
       "    <tr>\n",
       "      <th>1</th>\n",
       "      <td>Normal</td>\n",
       "      <td>468</td>\n",
       "      <td>3.804050</td>\n",
       "      <td>#6baed6</td>\n",
       "      <td>4.381160</td>\n",
       "      <td>60.543338</td>\n",
       "      <td>61%</td>\n",
       "      <td>-0.081301</td>\n",
       "      <td>-0.236411</td>\n",
       "    </tr>\n",
       "  </tbody>\n",
       "</table>\n",
       "</div>"
      ],
      "text/plain": [
       "        Type  Total     angle    color  cum_angle    percent label       cos  \\\n",
       "0  Emergency    305  2.479135  #e6550d   1.239568  39.456662   39%  0.081301   \n",
       "1     Normal    468  3.804050  #6baed6   4.381160  60.543338   61% -0.081301   \n",
       "\n",
       "        sin  \n",
       "0  0.236411  \n",
       "1 -0.236411  "
      ]
     },
     "execution_count": 26,
     "metadata": {},
     "output_type": "execute_result"
    }
   ],
   "source": [
    "data"
   ]
  },
  {
   "cell_type": "code",
   "execution_count": 1,
   "metadata": {},
   "outputs": [
    {
     "data": {
      "text/html": [
       "<div class=\"bk-root\">\n",
       "        <a href=\"https://bokeh.org\" target=\"_blank\" class=\"bk-logo bk-logo-small bk-logo-notebook\"></a>\n",
       "        <span id=\"1002\">Loading BokehJS ...</span>\n",
       "    </div>\n"
      ]
     },
     "metadata": {},
     "output_type": "display_data"
    },
    {
     "data": {
      "application/javascript": "(function(root) {\n  function now() {\n    return new Date();\n  }\n\n  const force = true;\n\n  if (typeof root._bokeh_onload_callbacks === \"undefined\" || force === true) {\n    root._bokeh_onload_callbacks = [];\n    root._bokeh_is_loading = undefined;\n  }\n\nconst JS_MIME_TYPE = 'application/javascript';\n  const HTML_MIME_TYPE = 'text/html';\n  const EXEC_MIME_TYPE = 'application/vnd.bokehjs_exec.v0+json';\n  const CLASS_NAME = 'output_bokeh rendered_html';\n\n  /**\n   * Render data to the DOM node\n   */\n  function render(props, node) {\n    const script = document.createElement(\"script\");\n    node.appendChild(script);\n  }\n\n  /**\n   * Handle when an output is cleared or removed\n   */\n  function handleClearOutput(event, handle) {\n    const cell = handle.cell;\n\n    const id = cell.output_area._bokeh_element_id;\n    const server_id = cell.output_area._bokeh_server_id;\n    // Clean up Bokeh references\n    if (id != null && id in Bokeh.index) {\n      Bokeh.index[id].model.document.clear();\n      delete Bokeh.index[id];\n    }\n\n    if (server_id !== undefined) {\n      // Clean up Bokeh references\n      const cmd_clean = \"from bokeh.io.state import curstate; print(curstate().uuid_to_server['\" + server_id + \"'].get_sessions()[0].document.roots[0]._id)\";\n      cell.notebook.kernel.execute(cmd_clean, {\n        iopub: {\n          output: function(msg) {\n            const id = msg.content.text.trim();\n            if (id in Bokeh.index) {\n              Bokeh.index[id].model.document.clear();\n              delete Bokeh.index[id];\n            }\n          }\n        }\n      });\n      // Destroy server and session\n      const cmd_destroy = \"import bokeh.io.notebook as ion; ion.destroy_server('\" + server_id + \"')\";\n      cell.notebook.kernel.execute(cmd_destroy);\n    }\n  }\n\n  /**\n   * Handle when a new output is added\n   */\n  function handleAddOutput(event, handle) {\n    const output_area = handle.output_area;\n    const output = handle.output;\n\n    // limit handleAddOutput to display_data with EXEC_MIME_TYPE content only\n    if ((output.output_type != \"display_data\") || (!Object.prototype.hasOwnProperty.call(output.data, EXEC_MIME_TYPE))) {\n      return\n    }\n\n    const toinsert = output_area.element.find(\".\" + CLASS_NAME.split(' ')[0]);\n\n    if (output.metadata[EXEC_MIME_TYPE][\"id\"] !== undefined) {\n      toinsert[toinsert.length - 1].firstChild.textContent = output.data[JS_MIME_TYPE];\n      // store reference to embed id on output_area\n      output_area._bokeh_element_id = output.metadata[EXEC_MIME_TYPE][\"id\"];\n    }\n    if (output.metadata[EXEC_MIME_TYPE][\"server_id\"] !== undefined) {\n      const bk_div = document.createElement(\"div\");\n      bk_div.innerHTML = output.data[HTML_MIME_TYPE];\n      const script_attrs = bk_div.children[0].attributes;\n      for (let i = 0; i < script_attrs.length; i++) {\n        toinsert[toinsert.length - 1].firstChild.setAttribute(script_attrs[i].name, script_attrs[i].value);\n        toinsert[toinsert.length - 1].firstChild.textContent = bk_div.children[0].textContent\n      }\n      // store reference to server id on output_area\n      output_area._bokeh_server_id = output.metadata[EXEC_MIME_TYPE][\"server_id\"];\n    }\n  }\n\n  function register_renderer(events, OutputArea) {\n\n    function append_mime(data, metadata, element) {\n      // create a DOM node to render to\n      const toinsert = this.create_output_subarea(\n        metadata,\n        CLASS_NAME,\n        EXEC_MIME_TYPE\n      );\n      this.keyboard_manager.register_events(toinsert);\n      // Render to node\n      const props = {data: data, metadata: metadata[EXEC_MIME_TYPE]};\n      render(props, toinsert[toinsert.length - 1]);\n      element.append(toinsert);\n      return toinsert\n    }\n\n    /* Handle when an output is cleared or removed */\n    events.on('clear_output.CodeCell', handleClearOutput);\n    events.on('delete.Cell', handleClearOutput);\n\n    /* Handle when a new output is added */\n    events.on('output_added.OutputArea', handleAddOutput);\n\n    /**\n     * Register the mime type and append_mime function with output_area\n     */\n    OutputArea.prototype.register_mime_type(EXEC_MIME_TYPE, append_mime, {\n      /* Is output safe? */\n      safe: true,\n      /* Index of renderer in `output_area.display_order` */\n      index: 0\n    });\n  }\n\n  // register the mime type if in Jupyter Notebook environment and previously unregistered\n  if (root.Jupyter !== undefined) {\n    const events = require('base/js/events');\n    const OutputArea = require('notebook/js/outputarea').OutputArea;\n\n    if (OutputArea.prototype.mime_types().indexOf(EXEC_MIME_TYPE) == -1) {\n      register_renderer(events, OutputArea);\n    }\n  }\n  if (typeof (root._bokeh_timeout) === \"undefined\" || force === true) {\n    root._bokeh_timeout = Date.now() + 5000;\n    root._bokeh_failed_load = false;\n  }\n\n  const NB_LOAD_WARNING = {'data': {'text/html':\n     \"<div style='background-color: #fdd'>\\n\"+\n     \"<p>\\n\"+\n     \"BokehJS does not appear to have successfully loaded. If loading BokehJS from CDN, this \\n\"+\n     \"may be due to a slow or bad network connection. Possible fixes:\\n\"+\n     \"</p>\\n\"+\n     \"<ul>\\n\"+\n     \"<li>re-rerun `output_notebook()` to attempt to load from CDN again, or</li>\\n\"+\n     \"<li>use INLINE resources instead, as so:</li>\\n\"+\n     \"</ul>\\n\"+\n     \"<code>\\n\"+\n     \"from bokeh.resources import INLINE\\n\"+\n     \"output_notebook(resources=INLINE)\\n\"+\n     \"</code>\\n\"+\n     \"</div>\"}};\n\n  function display_loaded() {\n    const el = document.getElementById(\"1002\");\n    if (el != null) {\n      el.textContent = \"BokehJS is loading...\";\n    }\n    if (root.Bokeh !== undefined) {\n      if (el != null) {\n        el.textContent = \"BokehJS \" + root.Bokeh.version + \" successfully loaded.\";\n      }\n    } else if (Date.now() < root._bokeh_timeout) {\n      setTimeout(display_loaded, 100)\n    }\n  }\n\n  function run_callbacks() {\n    try {\n      root._bokeh_onload_callbacks.forEach(function(callback) {\n        if (callback != null)\n          callback();\n      });\n    } finally {\n      delete root._bokeh_onload_callbacks\n    }\n    console.debug(\"Bokeh: all callbacks have finished\");\n  }\n\n  function load_libs(css_urls, js_urls, callback) {\n    if (css_urls == null) css_urls = [];\n    if (js_urls == null) js_urls = [];\n\n    root._bokeh_onload_callbacks.push(callback);\n    if (root._bokeh_is_loading > 0) {\n      console.debug(\"Bokeh: BokehJS is being loaded, scheduling callback at\", now());\n      return null;\n    }\n    if (js_urls == null || js_urls.length === 0) {\n      run_callbacks();\n      return null;\n    }\n    console.debug(\"Bokeh: BokehJS not loaded, scheduling load and callback at\", now());\n    root._bokeh_is_loading = css_urls.length + js_urls.length;\n\n    function on_load() {\n      root._bokeh_is_loading--;\n      if (root._bokeh_is_loading === 0) {\n        console.debug(\"Bokeh: all BokehJS libraries/stylesheets loaded\");\n        run_callbacks()\n      }\n    }\n\n    function on_error(url) {\n      console.error(\"failed to load \" + url);\n    }\n\n    for (let i = 0; i < css_urls.length; i++) {\n      const url = css_urls[i];\n      const element = document.createElement(\"link\");\n      element.onload = on_load;\n      element.onerror = on_error.bind(null, url);\n      element.rel = \"stylesheet\";\n      element.type = \"text/css\";\n      element.href = url;\n      console.debug(\"Bokeh: injecting link tag for BokehJS stylesheet: \", url);\n      document.body.appendChild(element);\n    }\n\n    for (let i = 0; i < js_urls.length; i++) {\n      const url = js_urls[i];\n      const element = document.createElement('script');\n      element.onload = on_load;\n      element.onerror = on_error.bind(null, url);\n      element.async = false;\n      element.src = url;\n      console.debug(\"Bokeh: injecting script tag for BokehJS library: \", url);\n      document.head.appendChild(element);\n    }\n  };\n\n  function inject_raw_css(css) {\n    const element = document.createElement(\"style\");\n    element.appendChild(document.createTextNode(css));\n    document.body.appendChild(element);\n  }\n\n  const js_urls = [\"https://cdn.bokeh.org/bokeh/release/bokeh-2.4.3.min.js\", \"https://cdn.bokeh.org/bokeh/release/bokeh-gl-2.4.3.min.js\", \"https://cdn.bokeh.org/bokeh/release/bokeh-widgets-2.4.3.min.js\", \"https://cdn.bokeh.org/bokeh/release/bokeh-tables-2.4.3.min.js\", \"https://cdn.bokeh.org/bokeh/release/bokeh-mathjax-2.4.3.min.js\"];\n  const css_urls = [];\n\n  const inline_js = [    function(Bokeh) {\n      Bokeh.set_log_level(\"info\");\n    },\nfunction(Bokeh) {\n    }\n  ];\n\n  function run_inline_js() {\n    if (root.Bokeh !== undefined || force === true) {\n          for (let i = 0; i < inline_js.length; i++) {\n      inline_js[i].call(root, root.Bokeh);\n    }\nif (force === true) {\n        display_loaded();\n      }} else if (Date.now() < root._bokeh_timeout) {\n      setTimeout(run_inline_js, 100);\n    } else if (!root._bokeh_failed_load) {\n      console.log(\"Bokeh: BokehJS failed to load within specified timeout.\");\n      root._bokeh_failed_load = true;\n    } else if (force !== true) {\n      const cell = $(document.getElementById(\"1002\")).parents('.cell').data().cell;\n      cell.output_area.append_execute_result(NB_LOAD_WARNING)\n    }\n  }\n\n  if (root._bokeh_is_loading === 0) {\n    console.debug(\"Bokeh: BokehJS loaded, going straight to plotting\");\n    run_inline_js();\n  } else {\n    load_libs(css_urls, js_urls, function() {\n      console.debug(\"Bokeh: BokehJS plotting callback run at\", now());\n      run_inline_js();\n    });\n  }\n}(window));",
      "application/vnd.bokehjs_load.v0+json": ""
     },
     "metadata": {},
     "output_type": "display_data"
    },
    {
     "name": "stderr",
     "output_type": "stream",
     "text": [
      "BokehUserWarning: ColumnDataSource's columns must be of the same length. Current lengths: ('labels', 96), ('x', 96), ('y', 192)\n"
     ]
    },
    {
     "data": {
      "text/html": [
       "\n",
       "  <div class=\"bk-root\" id=\"4b009e07-50f3-4f7e-8f9c-a69c7a4231b0\" data-root-id=\"1004\"></div>\n"
      ]
     },
     "metadata": {},
     "output_type": "display_data"
    },
    {
     "data": {
      "application/javascript": "(function(root) {\n  function embed_document(root) {\n  const docs_json = {\"da1c0131-52e8-406f-8d68-cba615afe8b1\":{\"defs\":[],\"roots\":{\"references\":[{\"attributes\":{\"below\":[{\"id\":\"1015\"}],\"center\":[{\"id\":\"1018\"},{\"id\":\"1021\"},{\"id\":\"1052\"},{\"id\":\"1135\"}],\"height\":550,\"left\":[{\"id\":\"1019\"}],\"renderers\":[{\"id\":\"1041\"},{\"id\":\"1058\"},{\"id\":\"1074\"},{\"id\":\"1090\"},{\"id\":\"1106\"},{\"id\":\"1122\"}],\"title\":{\"id\":\"1005\"},\"toolbar\":{\"id\":\"1023\"},\"width\":1000,\"x_range\":{\"id\":\"1007\"},\"x_scale\":{\"id\":\"1011\"},\"y_range\":{\"id\":\"1009\"},\"y_scale\":{\"id\":\"1013\"}},\"id\":\"1004\",\"subtype\":\"Figure\",\"type\":\"Plot\"},{\"attributes\":{\"axis\":{\"id\":\"1015\"},\"coordinates\":null,\"group\":null,\"ticker\":null},\"id\":\"1018\",\"type\":\"Grid\"},{\"attributes\":{\"end\":500},\"id\":\"1007\",\"type\":\"Range1d\"},{\"attributes\":{\"fill_alpha\":{\"value\":0.1},\"fill_color\":{\"value\":\"#9ecae1\"},\"hatch_alpha\":{\"value\":0.1},\"hatch_color\":{\"value\":\"#9ecae1\"},\"height\":{\"value\":0.9},\"left\":{\"expr\":{\"id\":\"1029\"}},\"line_alpha\":{\"value\":0.1},\"line_color\":{\"value\":\"#9ecae1\"},\"right\":{\"expr\":{\"id\":\"1030\"}},\"y\":{\"field\":\"Tower Leads\"}},\"id\":\"1072\",\"type\":\"HBar\"},{\"attributes\":{},\"id\":\"1148\",\"type\":\"Selection\"},{\"attributes\":{\"axis_label\":\"# of CAB Approved CHG\",\"axis_label_text_font_size\":\"15px\",\"axis_label_text_font_style\":\"bold\",\"coordinates\":null,\"formatter\":{\"id\":\"1137\"},\"group\":null,\"major_label_policy\":{\"id\":\"1049\"},\"major_label_text_font_size\":\"15px\",\"ticker\":{\"id\":\"1016\"}},\"id\":\"1015\",\"type\":\"LinearAxis\"},{\"attributes\":{},\"id\":\"1045\",\"type\":\"CategoricalTickFormatter\"},{\"attributes\":{\"fields\":[]},\"id\":\"1025\",\"type\":\"Stack\"},{\"attributes\":{\"coordinates\":null,\"data_source\":{\"id\":\"1003\"},\"glyph\":{\"id\":\"1087\"},\"group\":null,\"hover_glyph\":null,\"muted_glyph\":{\"id\":\"1089\"},\"name\":\"Jan 2023\",\"nonselection_glyph\":{\"id\":\"1088\"},\"view\":{\"id\":\"1091\"}},\"id\":\"1090\",\"type\":\"GlyphRenderer\"},{\"attributes\":{\"source\":{\"id\":\"1003\"}},\"id\":\"1123\",\"type\":\"CDSView\"},{\"attributes\":{\"coordinates\":null,\"data_source\":{\"id\":\"1003\"},\"glyph\":{\"id\":\"1103\"},\"group\":null,\"hover_glyph\":null,\"muted_glyph\":{\"id\":\"1105\"},\"name\":\"Feb 2023\",\"nonselection_glyph\":{\"id\":\"1104\"},\"view\":{\"id\":\"1107\"}},\"id\":\"1106\",\"type\":\"GlyphRenderer\"},{\"attributes\":{},\"id\":\"1046\",\"type\":\"AllLabels\"},{\"attributes\":{\"align\":\"center\",\"coordinates\":null,\"group\":null,\"text\":\"CHG by Tower Leads - CAB Approved 6M Trends\",\"text_font_size\":\"24px\"},\"id\":\"1005\",\"type\":\"Title\"},{\"attributes\":{\"fill_color\":{\"value\":\"#e6550d\"},\"hatch_color\":{\"value\":\"#e6550d\"},\"height\":{\"value\":0.9},\"left\":{\"expr\":{\"id\":\"1033\"}},\"line_color\":{\"value\":\"#e6550d\"},\"right\":{\"expr\":{\"id\":\"1034\"}},\"y\":{\"field\":\"Tower Leads\"}},\"id\":\"1103\",\"type\":\"HBar\"},{\"attributes\":{\"coordinates\":null,\"data_source\":{\"id\":\"1003\"},\"glyph\":{\"id\":\"1119\"},\"group\":null,\"hover_glyph\":null,\"muted_glyph\":{\"id\":\"1121\"},\"name\":\"Mar 2023\",\"nonselection_glyph\":{\"id\":\"1120\"},\"view\":{\"id\":\"1123\"}},\"id\":\"1122\",\"type\":\"GlyphRenderer\"},{\"attributes\":{},\"id\":\"1013\",\"type\":\"CategoricalScale\"},{\"attributes\":{\"fields\":[\"Oct 2022\",\"Nov 2022\",\"Dec 2022\",\"Jan 2023\",\"Feb 2023\"]},\"id\":\"1035\",\"type\":\"Stack\"},{\"attributes\":{\"fill_color\":{\"value\":\"#fd8d3c\"},\"hatch_color\":{\"value\":\"#fd8d3c\"},\"height\":{\"value\":0.9},\"left\":{\"expr\":{\"id\":\"1035\"}},\"line_color\":{\"value\":\"#fd8d3c\"},\"right\":{\"expr\":{\"id\":\"1036\"}},\"y\":{\"field\":\"Tower Leads\"}},\"id\":\"1119\",\"type\":\"HBar\"},{\"attributes\":{\"data\":{\"labels\":[\"82\",\"86\",\"53\",\"77\",\"97\",\"25\",\"84\",\"52\",\"49\",\"71\",\"15\",\"60\",\"92\",\"25\",\"85\",\"29\",\"68\",\"85\",\"55\",\"87\",\"72\",\"40\",\"45\",\"13\",\"65\",\"26\",\"33\",\"75\",\"77\",\"52\",\"94\",\"78\",\"23\",\"75\",\"94\",\"13\",\"79\",\"86\",\"63\",\"73\",\"86\",\"61\",\"99\",\"89\",\"85\",\"66\",\"69\",\"51\",\"57\",\"30\",\"69\",\"87\",\"58\",\"22\",\"87\",\"49\",\"20\",\"46\",\"86\",\"53\",\"30\",\"72\",\"44\",\"38\",\"77\",\"19\",\"46\",\"85\",\"87\",\"38\",\"21\",\"92\",\"89\",\"19\",\"95\",\"39\",\"15\",\"28\",\"39\",\"32\",\"12\",\"50\",\"76\",\"71\",\"12\",\"34\",\"22\",\"89\",\"96\",\"48\",\"39\",\"69\",\"98\",\"41\",\"56\",\"77\"],\"x\":[41.0,125.0,194.5,259.5,346.5,407.5,42.0,110.0,160.5,220.5,263.5,301.0,46.0,104.5,159.5,216.5,265.0,341.5,27.5,98.5,178.0,234.0,276.5,305.5,32.5,78.0,107.5,161.5,237.5,302.0,47.0,133.0,183.5,232.5,317.0,370.5,39.5,122.0,196.5,264.5,344.0,417.5,49.5,143.5,230.5,306.0,373.5,433.5,28.5,72.0,121.5,199.5,272.0,312.0,43.5,111.5,146.0,179.0,245.0,314.5,15.0,66.0,124.0,165.0,222.5,270.5,23.0,88.5,174.5,237.0,266.5,323.0,44.5,98.5,155.5,222.5,249.5,271.0,19.5,55.0,77.0,108.0,171.0,244.5,6.0,29.0,57.0,112.5,205.0,277.0,19.5,73.5,157.0,226.5,275.0,341.5],\"y\":[0.5,0.5,0.5,0.5,0.5,0.5,1.5,1.5,1.5,1.5,1.5,1.5,2.5,2.5,2.5,2.5,2.5,2.5,3.5,3.5,3.5,3.5,3.5,3.5,4.5,4.5,4.5,4.5,4.5,4.5,5.5,5.5,5.5,5.5,5.5,5.5,6.5,6.5,6.5,6.5,6.5,6.5,7.5,7.5,7.5,7.5,7.5,7.5,8.5,8.5,8.5,8.5,8.5,8.5,9.5,9.5,9.5,9.5,9.5,9.5,10.5,10.5,10.5,10.5,10.5,10.5,11.5,11.5,11.5,11.5,11.5,11.5,12.5,12.5,12.5,12.5,12.5,12.5,13.5,13.5,13.5,13.5,13.5,13.5,14.5,14.5,14.5,14.5,14.5,14.5,15.5,15.5,15.5,15.5,15.5,15.5,0.5,0.5,0.5,0.5,0.5,0.5,1.5,1.5,1.5,1.5,1.5,1.5,2.5,2.5,2.5,2.5,2.5,2.5,3.5,3.5,3.5,3.5,3.5,3.5,4.5,4.5,4.5,4.5,4.5,4.5,5.5,5.5,5.5,5.5,5.5,5.5,6.5,6.5,6.5,6.5,6.5,6.5,7.5,7.5,7.5,7.5,7.5,7.5,8.5,8.5,8.5,8.5,8.5,8.5,9.5,9.5,9.5,9.5,9.5,9.5,10.5,10.5,10.5,10.5,10.5,10.5,11.5,11.5,11.5,11.5,11.5,11.5,12.5,12.5,12.5,12.5,12.5,12.5,13.5,13.5,13.5,13.5,13.5,13.5,14.5,14.5,14.5,14.5,14.5,14.5,15.5,15.5,15.5,15.5,15.5,15.5]},\"selected\":{\"id\":\"1148\"},\"selection_policy\":{\"id\":\"1147\"}},\"id\":\"1134\",\"type\":\"ColumnDataSource\"},{\"attributes\":{\"fields\":[\"Oct 2022\",\"Nov 2022\",\"Dec 2022\",\"Jan 2023\",\"Feb 2023\",\"Mar 2023\"]},\"id\":\"1036\",\"type\":\"Stack\"},{\"attributes\":{\"source\":{\"id\":\"1003\"}},\"id\":\"1042\",\"type\":\"CDSView\"},{\"attributes\":{\"fill_alpha\":{\"value\":0.1},\"fill_color\":{\"value\":\"#e6550d\"},\"hatch_alpha\":{\"value\":0.1},\"hatch_color\":{\"value\":\"#e6550d\"},\"height\":{\"value\":0.9},\"left\":{\"expr\":{\"id\":\"1033\"}},\"line_alpha\":{\"value\":0.1},\"line_color\":{\"value\":\"#e6550d\"},\"right\":{\"expr\":{\"id\":\"1034\"}},\"y\":{\"field\":\"Tower Leads\"}},\"id\":\"1104\",\"type\":\"HBar\"},{\"attributes\":{\"coordinates\":null,\"group\":null,\"source\":{\"id\":\"1134\"},\"text\":{\"field\":\"labels\"},\"text_align\":{\"value\":\"center\"},\"text_color\":{\"value\":\"white\"},\"text_font_size\":{\"value\":\"11px\"},\"x\":{\"field\":\"x\"},\"y\":{\"field\":\"y\"}},\"id\":\"1135\",\"type\":\"LabelSet\"},{\"attributes\":{\"fill_alpha\":{\"value\":0.1},\"fill_color\":{\"value\":\"#fd8d3c\"},\"hatch_alpha\":{\"value\":0.1},\"hatch_color\":{\"value\":\"#fd8d3c\"},\"height\":{\"value\":0.9},\"left\":{\"expr\":{\"id\":\"1035\"}},\"line_alpha\":{\"value\":0.1},\"line_color\":{\"value\":\"#fd8d3c\"},\"right\":{\"expr\":{\"id\":\"1036\"}},\"y\":{\"field\":\"Tower Leads\"}},\"id\":\"1120\",\"type\":\"HBar\"},{\"attributes\":{\"source\":{\"id\":\"1003\"}},\"id\":\"1091\",\"type\":\"CDSView\"},{\"attributes\":{\"fill_color\":{\"value\":\"#c6dbef\"},\"hatch_color\":{\"value\":\"#c6dbef\"},\"height\":{\"value\":0.9},\"left\":{\"expr\":{\"id\":\"1031\"}},\"line_color\":{\"value\":\"#c6dbef\"},\"right\":{\"expr\":{\"id\":\"1032\"}},\"y\":{\"field\":\"Tower Leads\"}},\"id\":\"1087\",\"type\":\"HBar\"},{\"attributes\":{\"fill_alpha\":{\"value\":0.2},\"fill_color\":{\"value\":\"#e6550d\"},\"hatch_alpha\":{\"value\":0.2},\"hatch_color\":{\"value\":\"#e6550d\"},\"height\":{\"value\":0.9},\"left\":{\"expr\":{\"id\":\"1033\"}},\"line_alpha\":{\"value\":0.2},\"line_color\":{\"value\":\"#e6550d\"},\"right\":{\"expr\":{\"id\":\"1034\"}},\"y\":{\"field\":\"Tower Leads\"}},\"id\":\"1105\",\"type\":\"HBar\"},{\"attributes\":{\"fields\":[\"Oct 2022\",\"Nov 2022\"]},\"id\":\"1029\",\"type\":\"Stack\"},{\"attributes\":{\"fill_alpha\":{\"value\":0.2},\"fill_color\":{\"value\":\"#fd8d3c\"},\"hatch_alpha\":{\"value\":0.2},\"hatch_color\":{\"value\":\"#fd8d3c\"},\"height\":{\"value\":0.9},\"left\":{\"expr\":{\"id\":\"1035\"}},\"line_alpha\":{\"value\":0.2},\"line_color\":{\"value\":\"#fd8d3c\"},\"right\":{\"expr\":{\"id\":\"1036\"}},\"y\":{\"field\":\"Tower Leads\"}},\"id\":\"1121\",\"type\":\"HBar\"},{\"attributes\":{\"code\":\"return Math.abs(tick)\"},\"id\":\"1137\",\"type\":\"FuncTickFormatter\"},{\"attributes\":{\"coordinates\":null,\"group\":null,\"items\":[{\"id\":\"1053\"},{\"id\":\"1069\"},{\"id\":\"1085\"},{\"id\":\"1101\"},{\"id\":\"1117\"},{\"id\":\"1133\"}],\"label_text_alpha\":0.75,\"title\":\"Timeline\"},\"id\":\"1052\",\"type\":\"Legend\"},{\"attributes\":{\"fill_alpha\":{\"value\":0.1},\"fill_color\":{\"value\":\"#c6dbef\"},\"hatch_alpha\":{\"value\":0.1},\"hatch_color\":{\"value\":\"#c6dbef\"},\"height\":{\"value\":0.9},\"left\":{\"expr\":{\"id\":\"1031\"}},\"line_alpha\":{\"value\":0.1},\"line_color\":{\"value\":\"#c6dbef\"},\"right\":{\"expr\":{\"id\":\"1032\"}},\"y\":{\"field\":\"Tower Leads\"}},\"id\":\"1088\",\"type\":\"HBar\"},{\"attributes\":{\"fill_alpha\":{\"value\":0.1},\"fill_color\":{\"value\":\"#3182bd\"},\"hatch_alpha\":{\"value\":0.1},\"hatch_color\":{\"value\":\"#3182bd\"},\"height\":{\"value\":0.9},\"left\":{\"expr\":{\"id\":\"1025\"}},\"line_alpha\":{\"value\":0.1},\"line_color\":{\"value\":\"#3182bd\"},\"right\":{\"expr\":{\"id\":\"1026\"}},\"y\":{\"field\":\"Tower Leads\"}},\"id\":\"1039\",\"type\":\"HBar\"},{\"attributes\":{\"label\":{\"value\":\"Jan 2023\"},\"renderers\":[{\"id\":\"1090\"}]},\"id\":\"1101\",\"type\":\"LegendItem\"},{\"attributes\":{\"source\":{\"id\":\"1003\"}},\"id\":\"1107\",\"type\":\"CDSView\"},{\"attributes\":{\"label\":{\"value\":\"Dec 2022\"},\"renderers\":[{\"id\":\"1074\"}]},\"id\":\"1085\",\"type\":\"LegendItem\"},{\"attributes\":{},\"id\":\"1050\",\"type\":\"UnionRenderers\"},{\"attributes\":{},\"id\":\"1049\",\"type\":\"AllLabels\"},{\"attributes\":{\"fields\":[\"Oct 2022\"]},\"id\":\"1027\",\"type\":\"Stack\"},{\"attributes\":{\"fill_alpha\":{\"value\":0.2},\"fill_color\":{\"value\":\"#c6dbef\"},\"hatch_alpha\":{\"value\":0.2},\"hatch_color\":{\"value\":\"#c6dbef\"},\"height\":{\"value\":0.9},\"left\":{\"expr\":{\"id\":\"1031\"}},\"line_alpha\":{\"value\":0.2},\"line_color\":{\"value\":\"#c6dbef\"},\"right\":{\"expr\":{\"id\":\"1032\"}},\"y\":{\"field\":\"Tower Leads\"}},\"id\":\"1089\",\"type\":\"HBar\"},{\"attributes\":{\"fill_alpha\":{\"value\":0.2},\"fill_color\":{\"value\":\"#3182bd\"},\"hatch_alpha\":{\"value\":0.2},\"hatch_color\":{\"value\":\"#3182bd\"},\"height\":{\"value\":0.9},\"left\":{\"expr\":{\"id\":\"1025\"}},\"line_alpha\":{\"value\":0.2},\"line_color\":{\"value\":\"#3182bd\"},\"right\":{\"expr\":{\"id\":\"1026\"}},\"y\":{\"field\":\"Tower Leads\"}},\"id\":\"1040\",\"type\":\"HBar\"},{\"attributes\":{\"label\":{\"value\":\"Feb 2023\"},\"renderers\":[{\"id\":\"1106\"}]},\"id\":\"1117\",\"type\":\"LegendItem\"},{\"attributes\":{\"axis_label\":\"Tower Leads\",\"axis_label_text_font_size\":\"16px\",\"coordinates\":null,\"formatter\":{\"id\":\"1045\"},\"group\":null,\"major_label_policy\":{\"id\":\"1046\"},\"major_label_text_font_size\":\"14px\",\"major_label_text_font_style\":\"bold\",\"ticker\":{\"id\":\"1020\"}},\"id\":\"1019\",\"type\":\"CategoricalAxis\"},{\"attributes\":{\"fill_alpha\":{\"value\":0.2},\"fill_color\":{\"value\":\"#9ecae1\"},\"hatch_alpha\":{\"value\":0.2},\"hatch_color\":{\"value\":\"#9ecae1\"},\"height\":{\"value\":0.9},\"left\":{\"expr\":{\"id\":\"1029\"}},\"line_alpha\":{\"value\":0.2},\"line_color\":{\"value\":\"#9ecae1\"},\"right\":{\"expr\":{\"id\":\"1030\"}},\"y\":{\"field\":\"Tower Leads\"}},\"id\":\"1073\",\"type\":\"HBar\"},{\"attributes\":{\"data\":{\"Dec 2022\":[53,49,85,72,33,23,63,85,69,20,44,87,95,12,22,98],\"Feb 2023\":[97,15,68,45,77,94,86,69,58,86,77,21,15,76,96,56],\"Jan 2023\":[77,71,29,40,75,75,73,66,87,46,38,38,39,50,89,41],\"Mar 2023\":[25,60,85,13,52,13,61,51,22,53,19,92,28,71,48,77],\"Nov 2022\":[86,52,25,87,26,78,86,89,30,49,72,85,19,32,34,69],\"Oct 2022\":[82,84,92,55,65,94,79,99,57,87,30,46,89,39,12,39],\"Tower Leads\":[\"Adil\",\"Dmitriy\",\"Gabriele\",\"Joe\",\"John\",\"Joseph\",\"Katsunori\",\"Leo\",\"Mark\",\"Mattieu\",\"Michael\",\"Nitin\",\"Sebastien\",\"Shankar\",\"Shishir\",\"Stephen\"],\"index\":[0,1,2,3,4,5,6,7,8,9,10,11,12,13,14,15]},\"selected\":{\"id\":\"1051\"},\"selection_policy\":{\"id\":\"1050\"}},\"id\":\"1003\",\"type\":\"ColumnDataSource\"},{\"attributes\":{},\"id\":\"1051\",\"type\":\"Selection\"},{\"attributes\":{\"fields\":[\"Oct 2022\",\"Nov 2022\"]},\"id\":\"1028\",\"type\":\"Stack\"},{\"attributes\":{\"coordinates\":null,\"data_source\":{\"id\":\"1003\"},\"glyph\":{\"id\":\"1038\"},\"group\":null,\"hover_glyph\":null,\"muted_glyph\":{\"id\":\"1040\"},\"name\":\"Oct 2022\",\"nonselection_glyph\":{\"id\":\"1039\"},\"view\":{\"id\":\"1042\"}},\"id\":\"1041\",\"type\":\"GlyphRenderer\"},{\"attributes\":{\"source\":{\"id\":\"1003\"}},\"id\":\"1075\",\"type\":\"CDSView\"},{\"attributes\":{\"fill_color\":{\"value\":\"#9ecae1\"},\"hatch_color\":{\"value\":\"#9ecae1\"},\"height\":{\"value\":0.9},\"left\":{\"expr\":{\"id\":\"1029\"}},\"line_color\":{\"value\":\"#9ecae1\"},\"right\":{\"expr\":{\"id\":\"1030\"}},\"y\":{\"field\":\"Tower Leads\"}},\"id\":\"1071\",\"type\":\"HBar\"},{\"attributes\":{},\"id\":\"1020\",\"type\":\"CategoricalTicker\"},{\"attributes\":{\"tools\":[{\"id\":\"1022\"}]},\"id\":\"1023\",\"type\":\"Toolbar\"},{\"attributes\":{\"fields\":[\"Oct 2022\",\"Nov 2022\",\"Dec 2022\"]},\"id\":\"1030\",\"type\":\"Stack\"},{\"attributes\":{\"factors\":[\"Adil\",\"Dmitriy\",\"Gabriele\",\"Joe\",\"John\",\"Joseph\",\"Katsunori\",\"Leo\",\"Mark\",\"Mattieu\",\"Michael\",\"Nitin\",\"Sebastien\",\"Shankar\",\"Shishir\",\"Stephen\"]},\"id\":\"1009\",\"type\":\"FactorRange\"},{\"attributes\":{\"fill_alpha\":{\"value\":0.1},\"fill_color\":{\"value\":\"#6baed6\"},\"hatch_alpha\":{\"value\":0.1},\"hatch_color\":{\"value\":\"#6baed6\"},\"height\":{\"value\":0.9},\"left\":{\"expr\":{\"id\":\"1027\"}},\"line_alpha\":{\"value\":0.1},\"line_color\":{\"value\":\"#6baed6\"},\"right\":{\"expr\":{\"id\":\"1028\"}},\"y\":{\"field\":\"Tower Leads\"}},\"id\":\"1056\",\"type\":\"HBar\"},{\"attributes\":{\"coordinates\":null,\"data_source\":{\"id\":\"1003\"},\"glyph\":{\"id\":\"1055\"},\"group\":null,\"hover_glyph\":null,\"muted_glyph\":{\"id\":\"1057\"},\"name\":\"Nov 2022\",\"nonselection_glyph\":{\"id\":\"1056\"},\"view\":{\"id\":\"1059\"}},\"id\":\"1058\",\"type\":\"GlyphRenderer\"},{\"attributes\":{\"fill_color\":{\"value\":\"#3182bd\"},\"hatch_color\":{\"value\":\"#3182bd\"},\"height\":{\"value\":0.9},\"left\":{\"expr\":{\"id\":\"1025\"}},\"line_color\":{\"value\":\"#3182bd\"},\"right\":{\"expr\":{\"id\":\"1026\"}},\"y\":{\"field\":\"Tower Leads\"}},\"id\":\"1038\",\"type\":\"HBar\"},{\"attributes\":{\"coordinates\":null,\"data_source\":{\"id\":\"1003\"},\"glyph\":{\"id\":\"1071\"},\"group\":null,\"hover_glyph\":null,\"muted_glyph\":{\"id\":\"1073\"},\"name\":\"Dec 2022\",\"nonselection_glyph\":{\"id\":\"1072\"},\"view\":{\"id\":\"1075\"}},\"id\":\"1074\",\"type\":\"GlyphRenderer\"},{\"attributes\":{\"fields\":[\"Oct 2022\",\"Nov 2022\",\"Dec 2022\",\"Jan 2023\",\"Feb 2023\"]},\"id\":\"1034\",\"type\":\"Stack\"},{\"attributes\":{\"callback\":null,\"tooltips\":\"$name: @$name\"},\"id\":\"1022\",\"type\":\"HoverTool\"},{\"attributes\":{\"fields\":[\"Oct 2022\",\"Nov 2022\",\"Dec 2022\",\"Jan 2023\"]},\"id\":\"1033\",\"type\":\"Stack\"},{\"attributes\":{\"fill_color\":{\"value\":\"#6baed6\"},\"hatch_color\":{\"value\":\"#6baed6\"},\"height\":{\"value\":0.9},\"left\":{\"expr\":{\"id\":\"1027\"}},\"line_color\":{\"value\":\"#6baed6\"},\"right\":{\"expr\":{\"id\":\"1028\"}},\"y\":{\"field\":\"Tower Leads\"}},\"id\":\"1055\",\"type\":\"HBar\"},{\"attributes\":{\"fields\":[\"Oct 2022\",\"Nov 2022\",\"Dec 2022\",\"Jan 2023\"]},\"id\":\"1032\",\"type\":\"Stack\"},{\"attributes\":{\"fill_alpha\":{\"value\":0.2},\"fill_color\":{\"value\":\"#6baed6\"},\"hatch_alpha\":{\"value\":0.2},\"hatch_color\":{\"value\":\"#6baed6\"},\"height\":{\"value\":0.9},\"left\":{\"expr\":{\"id\":\"1027\"}},\"line_alpha\":{\"value\":0.2},\"line_color\":{\"value\":\"#6baed6\"},\"right\":{\"expr\":{\"id\":\"1028\"}},\"y\":{\"field\":\"Tower Leads\"}},\"id\":\"1057\",\"type\":\"HBar\"},{\"attributes\":{\"label\":{\"value\":\"Mar 2023\"},\"renderers\":[{\"id\":\"1122\"}]},\"id\":\"1133\",\"type\":\"LegendItem\"},{\"attributes\":{\"label\":{\"value\":\"Nov 2022\"},\"renderers\":[{\"id\":\"1058\"}]},\"id\":\"1069\",\"type\":\"LegendItem\"},{\"attributes\":{\"source\":{\"id\":\"1003\"}},\"id\":\"1059\",\"type\":\"CDSView\"},{\"attributes\":{},\"id\":\"1016\",\"type\":\"BasicTicker\"},{\"attributes\":{\"label\":{\"value\":\"Oct 2022\"},\"renderers\":[{\"id\":\"1041\"}]},\"id\":\"1053\",\"type\":\"LegendItem\"},{\"attributes\":{},\"id\":\"1011\",\"type\":\"LinearScale\"},{\"attributes\":{\"fields\":[\"Oct 2022\",\"Nov 2022\",\"Dec 2022\"]},\"id\":\"1031\",\"type\":\"Stack\"},{\"attributes\":{},\"id\":\"1147\",\"type\":\"UnionRenderers\"},{\"attributes\":{\"axis\":{\"id\":\"1019\"},\"coordinates\":null,\"dimension\":1,\"group\":null,\"ticker\":null,\"visible\":false},\"id\":\"1021\",\"type\":\"Grid\"},{\"attributes\":{\"fields\":[\"Oct 2022\"]},\"id\":\"1026\",\"type\":\"Stack\"}],\"root_ids\":[\"1004\"]},\"title\":\"Bokeh Application\",\"version\":\"2.4.3\"}};\n  const render_items = [{\"docid\":\"da1c0131-52e8-406f-8d68-cba615afe8b1\",\"root_ids\":[\"1004\"],\"roots\":{\"1004\":\"4b009e07-50f3-4f7e-8f9c-a69c7a4231b0\"}}];\n  root.Bokeh.embed.embed_items_notebook(docs_json, render_items);\n  }\n  if (root.Bokeh !== undefined) {\n    embed_document(root);\n  } else {\n    let attempts = 0;\n    const timer = setInterval(function(root) {\n      if (root.Bokeh !== undefined) {\n        clearInterval(timer);\n        embed_document(root);\n      } else {\n        attempts++;\n        if (attempts > 100) {\n          clearInterval(timer);\n          console.log(\"Bokeh: ERROR: Unable to run BokehJS code because BokehJS library is missing\");\n        }\n      }\n    }, 10, root)\n  }\n})(window);",
      "application/vnd.bokehjs_exec.v0+json": ""
     },
     "metadata": {
      "application/vnd.bokehjs_exec.v0+json": {
       "id": "1004"
      }
     },
     "output_type": "display_data"
    }
   ],
   "source": [
    "from math import pi\n",
    "\n",
    "import pandas as pd\n",
    "import numpy as np\n",
    "\n",
    "from bokeh.plotting import figure\n",
    "from bokeh.io import show, output_notebook, output_file\n",
    "from bokeh.models import  ColumnDataSource, LabelSet, PrintfTickFormatter, FuncTickFormatter\n",
    "from bokeh.palettes import Category20c\n",
    "from bokeh.transform import cumsum\n",
    "from bokeh.core.properties import value\n",
    "from bokeh.transform import dodge\n",
    "\n",
    "output_notebook()\n",
    "\n",
    "\n",
    "\n",
    "\n",
    "\n",
    "towerleads = ['Adil', 'Dmitriy', 'Gabriele', 'Joe', 'John', 'Joseph', 'Katsunori', 'Leo', 'Mark', 'Mattieu', 'Michael', 'Nitin', 'Sebastien', 'Shankar', 'Shishir', 'Stephen']\n",
    "\n",
    "dates = ['Oct 2022', 'Nov 2022', 'Dec 2022', 'Jan 2023', 'Feb 2023', 'Mar 2023']\n",
    "data = { date:np.random.randint(10, 100, len(towerleads)) for date in dates}\n",
    "\n",
    "data = pd.DataFrame(data, index=towerleads).reset_index().rename(columns={'index':'Tower Leads'})\n",
    "\n",
    "source = ColumnDataSource(data=data)\n",
    "\n",
    "p = figure(x_range=(0, 500), y_range=towerleads, plot_height=550, plot_width=1000, title=\"CHG by Tower Leads - CAB Approved 6M Trends\",\n",
    "           tools='hover', tooltips='$name: @$name')\n",
    "\n",
    "p.hbar_stack(dates, y='Tower Leads', height=0.9, color=Category20c[len(dates)], source=source, legend_label=[\"%s\" % x for x in dates])\n",
    "\n",
    "\"\"\"\n",
    "numpy.flatten() is a method in NumPy that returns a copy of an array in one-dimensional form (i.e., a flattened array). It collapses all the dimensions of the input array into a single axis, which is returned in the order of the last axis.\n",
    "    x - cumsum by row and then subtract half the bar to center the label\n",
    "\n",
    "    y - populate the list of y values with the midpoint of each bar\n",
    "\n",
    "    z - convert the data to a string and replace 0% with an empty string\n",
    "\"\"\"\n",
    "\n",
    "x = list((data[dates].cumsum(axis=1) - data[dates]/2).to_numpy().flatten()) \n",
    "y = list(np.array([i+0.5 for i in range(len(towerleads))]).repeat(len(dates)))*2\n",
    "labels = list(data[dates].abs().astype(str).replace('^0$','', regex=True).to_numpy().flatten())\n",
    "\n",
    "labels = {'x': x, 'y':y, 'labels':labels}\n",
    "labelset = LabelSet(x='x', y='y', text='labels', text_font_size='11px', text_color= 'white',source=ColumnDataSource(labels), text_align='center')\n",
    "\n",
    "p.add_layout(labelset)\n",
    "\n",
    "x = p.xaxis\n",
    "y = p.yaxis\n",
    "z = p.axis\n",
    "x.axis_label = \"# of CAB Approved CHG\"\n",
    "x.axis_label_text_font = \"helvetica\"\n",
    "x.axis_label_text_font_size = \"15px\"\n",
    "x.axis_label_text_font_style = \"bold\"\n",
    "x.major_label_text_font_size = \"15px\"\n",
    "x.formatter = FuncTickFormatter(code=\"return Math.abs(tick)\")\n",
    "\n",
    "y.axis_label = \"Tower Leads\"\n",
    "y.axis_label_text_font = \"helvetica\"\n",
    "y.axis_label_text_font_size = \"16px\"\n",
    "y.major_label_text_font_size = \"14px\"\n",
    "y.major_label_text_font_style = \"bold\"\n",
    "\n",
    "# z.axis_label_text_font_style = \"bold\"\n",
    "\n",
    "ygri = p.ygrid\n",
    "ygri.visible = False \n",
    "\n",
    "title = p.title\n",
    "title.text_font_size = '24px'\n",
    "title.align = 'center'\n",
    "\n",
    "leg = p.legend\n",
    "leg.title = 'Timeline'\n",
    "leg.label_text_alpha = 0.75\n",
    "\n",
    "show(p)"
   ]
  },
  {
   "cell_type": "code",
   "execution_count": null,
   "metadata": {},
   "outputs": [],
   "source": []
  }
 ],
 "metadata": {
  "kernelspec": {
   "display_name": ".bokeh==2.4.3",
   "language": "python",
   "name": "python3"
  },
  "language_info": {
   "codemirror_mode": {
    "name": "ipython",
    "version": 3
   },
   "file_extension": ".py",
   "mimetype": "text/x-python",
   "name": "python",
   "nbconvert_exporter": "python",
   "pygments_lexer": "ipython3",
   "version": "3.10.6"
  },
  "orig_nbformat": 4
 },
 "nbformat": 4,
 "nbformat_minor": 2
}
