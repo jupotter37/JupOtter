{
 "cells": [
  {
   "cell_type": "markdown",
   "id": "fec117e5",
   "metadata": {},
   "source": [
    "# Python Error Types\n",
    "\n",
    "---\n",
    "\n",
    "__SyntaxError:__ When code has been typed incorrectly.\n",
    "\n",
    "__AttributeError:__ When you try to access an attribute on an object that does not exist.\n",
    "\n",
    "__KeyError:__ When you try to access a key in a dictionary (or alike) that does not exist.\n",
    "\n",
    "__TypeError:__ When an argument to a function is not of the right type (e.g. a str instead of int).\n",
    "\n",
    "__ValueError:__ When an argument to a function is of the right type but is not in the right domain (e.g. an empty string)\n",
    "\n",
    "__ImportError:__ When an import fails."
   ]
  },
  {
   "cell_type": "code",
   "execution_count": 1,
   "id": "facf1aa4",
   "metadata": {},
   "outputs": [
    {
     "name": "stdout",
     "output_type": "stream",
     "text": [
      "The Zen of Python, by Tim Peters\n",
      "\n",
      "Beautiful is better than ugly.\n",
      "Explicit is better than implicit.\n",
      "Simple is better than complex.\n",
      "Complex is better than complicated.\n",
      "Flat is better than nested.\n",
      "Sparse is better than dense.\n",
      "Readability counts.\n",
      "Special cases aren't special enough to break the rules.\n",
      "Although practicality beats purity.\n",
      "Errors should never pass silently.\n",
      "Unless explicitly silenced.\n",
      "In the face of ambiguity, refuse the temptation to guess.\n",
      "There should be one-- and preferably only one --obvious way to do it.\n",
      "Although that way may not be obvious at first unless you're Dutch.\n",
      "Now is better than never.\n",
      "Although never is often better than *right* now.\n",
      "If the implementation is hard to explain, it's a bad idea.\n",
      "If the implementation is easy to explain, it may be a good idea.\n",
      "Namespaces are one honking great idea -- let's do more of those!\n"
     ]
    }
   ],
   "source": [
    "import this"
   ]
  },
  {
   "cell_type": "code",
   "execution_count": 4,
   "id": "a4414fa2",
   "metadata": {},
   "outputs": [
    {
     "ename": "SyntaxError",
     "evalue": "unexpected EOF while parsing (1828036511.py, line 5)",
     "output_type": "error",
     "traceback": [
      "\u001b[0;36m  Cell \u001b[0;32mIn[4], line 5\u001b[0;36m\u001b[0m\n\u001b[0;31m    max(lst\u001b[0m\n\u001b[0m           ^\u001b[0m\n\u001b[0;31mSyntaxError\u001b[0m\u001b[0;31m:\u001b[0m unexpected EOF while parsing\n"
     ]
    }
   ],
   "source": [
    "# SyntaxError\n",
    "\n",
    "lst = [1,2,3,4]\n",
    "\n",
    "max(lst"
   ]
  },
  {
   "cell_type": "code",
   "execution_count": 5,
   "id": "b0302630",
   "metadata": {},
   "outputs": [
    {
     "ename": "SyntaxError",
     "evalue": "invalid syntax (3497583810.py, line 1)",
     "output_type": "error",
     "traceback": [
      "\u001b[0;36m  Cell \u001b[0;32mIn[5], line 1\u001b[0;36m\u001b[0m\n\u001b[0;31m    1abd = 90\u001b[0m\n\u001b[0m     ^\u001b[0m\n\u001b[0;31mSyntaxError\u001b[0m\u001b[0;31m:\u001b[0m invalid syntax\n"
     ]
    }
   ],
   "source": [
    "1abd = 90"
   ]
  },
  {
   "cell_type": "code",
   "execution_count": 9,
   "id": "554515a7",
   "metadata": {},
   "outputs": [
    {
     "data": {
      "text/plain": [
       "90"
      ]
     },
     "execution_count": 9,
     "metadata": {},
     "output_type": "execute_result"
    }
   ],
   "source": [
    "abd1 = 90\n",
    "\n",
    "abd1"
   ]
  },
  {
   "cell_type": "code",
   "execution_count": 10,
   "id": "09969cbb",
   "metadata": {},
   "outputs": [
    {
     "ename": "SyntaxError",
     "evalue": "invalid syntax (264381332.py, line 1)",
     "output_type": "error",
     "traceback": [
      "\u001b[0;36m  Cell \u001b[0;32mIn[10], line 1\u001b[0;36m\u001b[0m\n\u001b[0;31m    1.1mo = 90\u001b[0m\n\u001b[0m       ^\u001b[0m\n\u001b[0;31mSyntaxError\u001b[0m\u001b[0;31m:\u001b[0m invalid syntax\n"
     ]
    }
   ],
   "source": [
    "1.1mo = 90"
   ]
  },
  {
   "cell_type": "code",
   "execution_count": 11,
   "id": "818c79eb",
   "metadata": {},
   "outputs": [
    {
     "ename": "SyntaxError",
     "evalue": "invalid syntax (2421214847.py, line 1)",
     "output_type": "error",
     "traceback": [
      "\u001b[0;36m  Cell \u001b[0;32mIn[11], line 1\u001b[0;36m\u001b[0m\n\u001b[0;31m    mo1.1 = 90\u001b[0m\n\u001b[0m       ^\u001b[0m\n\u001b[0;31mSyntaxError\u001b[0m\u001b[0;31m:\u001b[0m invalid syntax\n"
     ]
    }
   ],
   "source": [
    "mo1.1 = 90"
   ]
  },
  {
   "cell_type": "code",
   "execution_count": 12,
   "id": "a88a27c1",
   "metadata": {},
   "outputs": [],
   "source": [
    "mo1_1 = 90"
   ]
  },
  {
   "cell_type": "code",
   "execution_count": 6,
   "id": "5a96da70",
   "metadata": {},
   "outputs": [
    {
     "name": "stdout",
     "output_type": "stream",
     "text": [
      "Object `fndo = 90` not found.\n"
     ]
    }
   ],
   "source": [
    "?fndo = 90"
   ]
  },
  {
   "cell_type": "code",
   "execution_count": 7,
   "id": "9ec47123",
   "metadata": {},
   "outputs": [
    {
     "ename": "SyntaxError",
     "evalue": "invalid syntax (439935956.py, line 1)",
     "output_type": "error",
     "traceback": [
      "\u001b[0;36m  Cell \u001b[0;32mIn[7], line 1\u001b[0;36m\u001b[0m\n\u001b[0;31m    .ko = 90\u001b[0m\n\u001b[0m    ^\u001b[0m\n\u001b[0;31mSyntaxError\u001b[0m\u001b[0;31m:\u001b[0m invalid syntax\n"
     ]
    }
   ],
   "source": [
    ".ko = 90"
   ]
  },
  {
   "cell_type": "code",
   "execution_count": 13,
   "id": "bc2dd2f9",
   "metadata": {},
   "outputs": [
    {
     "ename": "NameError",
     "evalue": "name 'x' is not defined",
     "output_type": "error",
     "traceback": [
      "\u001b[0;31m---------------------------------------------------------------------------\u001b[0m",
      "\u001b[0;31mNameError\u001b[0m                                 Traceback (most recent call last)",
      "Cell \u001b[0;32mIn[13], line 3\u001b[0m\n\u001b[1;32m      1\u001b[0m \u001b[38;5;66;03m# AttributeError\u001b[39;00m\n\u001b[0;32m----> 3\u001b[0m lst \u001b[38;5;241m=\u001b[39m [\u001b[38;5;241m1\u001b[39m,\u001b[38;5;241m2\u001b[39m,\u001b[38;5;241m3\u001b[39m, \u001b[43mx\u001b[49m]\n\u001b[1;32m      5\u001b[0m \u001b[38;5;28mmax\u001b[39m(lst)\n",
      "\u001b[0;31mNameError\u001b[0m: name 'x' is not defined"
     ]
    }
   ],
   "source": [
    "# AttributeError\n",
    "\n",
    "lst = [1,2,3, x]\n",
    "\n",
    "max(lst)"
   ]
  },
  {
   "cell_type": "code",
   "execution_count": 14,
   "id": "24411ed6",
   "metadata": {},
   "outputs": [
    {
     "ename": "AttributeError",
     "evalue": "'int' object has no attribute 'append'",
     "output_type": "error",
     "traceback": [
      "\u001b[0;31m---------------------------------------------------------------------------\u001b[0m",
      "\u001b[0;31mAttributeError\u001b[0m                            Traceback (most recent call last)",
      "Cell \u001b[0;32mIn[14], line 3\u001b[0m\n\u001b[1;32m      1\u001b[0m value \u001b[38;5;241m=\u001b[39m \u001b[38;5;241m10\u001b[39m\n\u001b[0;32m----> 3\u001b[0m \u001b[43mvalue\u001b[49m\u001b[38;5;241;43m.\u001b[39;49m\u001b[43mappend\u001b[49m(\u001b[38;5;241m12\u001b[39m)\n\u001b[1;32m      5\u001b[0m value\n",
      "\u001b[0;31mAttributeError\u001b[0m: 'int' object has no attribute 'append'"
     ]
    }
   ],
   "source": [
    "value = 10\n",
    "\n",
    "value.append(12)\n",
    "\n",
    "value"
   ]
  },
  {
   "cell_type": "code",
   "execution_count": 21,
   "id": "344b1151",
   "metadata": {},
   "outputs": [
    {
     "data": {
      "text/plain": [
       "{'key': 'value', 1: 'hola'}"
      ]
     },
     "execution_count": 21,
     "metadata": {},
     "output_type": "execute_result"
    }
   ],
   "source": [
    "# KeyError\n",
    "\n",
    "dictio = {'key': 'value', 1: [2,3,4], True: 'hola'}\n",
    "\n",
    "dictio"
   ]
  },
  {
   "cell_type": "code",
   "execution_count": 16,
   "id": "7310913c",
   "metadata": {},
   "outputs": [
    {
     "data": {
      "text/plain": [
       "'value'"
      ]
     },
     "execution_count": 16,
     "metadata": {},
     "output_type": "execute_result"
    }
   ],
   "source": [
    "dictio['key']"
   ]
  },
  {
   "cell_type": "code",
   "execution_count": 22,
   "id": "2fb9070d",
   "metadata": {},
   "outputs": [
    {
     "data": {
      "text/plain": [
       "'hola'"
      ]
     },
     "execution_count": 22,
     "metadata": {},
     "output_type": "execute_result"
    }
   ],
   "source": [
    "dictio[True]"
   ]
  },
  {
   "cell_type": "code",
   "execution_count": 23,
   "id": "cc449e11",
   "metadata": {},
   "outputs": [
    {
     "ename": "KeyError",
     "evalue": "False",
     "output_type": "error",
     "traceback": [
      "\u001b[0;31m---------------------------------------------------------------------------\u001b[0m",
      "\u001b[0;31mKeyError\u001b[0m                                  Traceback (most recent call last)",
      "Cell \u001b[0;32mIn[23], line 1\u001b[0m\n\u001b[0;32m----> 1\u001b[0m \u001b[43mdictio\u001b[49m\u001b[43m[\u001b[49m\u001b[38;5;28;43;01mFalse\u001b[39;49;00m\u001b[43m]\u001b[49m\n",
      "\u001b[0;31mKeyError\u001b[0m: False"
     ]
    }
   ],
   "source": [
    "dictio[False]"
   ]
  },
  {
   "cell_type": "code",
   "execution_count": 17,
   "id": "cf0bdd81",
   "metadata": {},
   "outputs": [
    {
     "ename": "KeyError",
     "evalue": "'hola'",
     "output_type": "error",
     "traceback": [
      "\u001b[0;31m---------------------------------------------------------------------------\u001b[0m",
      "\u001b[0;31mKeyError\u001b[0m                                  Traceback (most recent call last)",
      "Cell \u001b[0;32mIn[17], line 1\u001b[0m\n\u001b[0;32m----> 1\u001b[0m \u001b[43mdictio\u001b[49m\u001b[43m[\u001b[49m\u001b[38;5;124;43m'\u001b[39;49m\u001b[38;5;124;43mhola\u001b[39;49m\u001b[38;5;124;43m'\u001b[39;49m\u001b[43m]\u001b[49m\n",
      "\u001b[0;31mKeyError\u001b[0m: 'hola'"
     ]
    }
   ],
   "source": [
    "dictio['hola']"
   ]
  },
  {
   "cell_type": "code",
   "execution_count": 18,
   "id": "85f20db7",
   "metadata": {},
   "outputs": [
    {
     "ename": "KeyError",
     "evalue": "0",
     "output_type": "error",
     "traceback": [
      "\u001b[0;31m---------------------------------------------------------------------------\u001b[0m",
      "\u001b[0;31mKeyError\u001b[0m                                  Traceback (most recent call last)",
      "Cell \u001b[0;32mIn[18], line 1\u001b[0m\n\u001b[0;32m----> 1\u001b[0m \u001b[43mdictio\u001b[49m\u001b[43m[\u001b[49m\u001b[38;5;241;43m0\u001b[39;49m\u001b[43m]\u001b[49m\n",
      "\u001b[0;31mKeyError\u001b[0m: 0"
     ]
    }
   ],
   "source": [
    "dictio[0]"
   ]
  },
  {
   "cell_type": "code",
   "execution_count": 19,
   "id": "2ce659e8",
   "metadata": {},
   "outputs": [
    {
     "data": {
      "text/plain": [
       "[2, 3, 4]"
      ]
     },
     "execution_count": 19,
     "metadata": {},
     "output_type": "execute_result"
    }
   ],
   "source": [
    "dictio[1]"
   ]
  },
  {
   "cell_type": "code",
   "execution_count": 24,
   "id": "fa98db35",
   "metadata": {},
   "outputs": [
    {
     "data": {
      "text/plain": [
       "'No existe esa key'"
      ]
     },
     "execution_count": 24,
     "metadata": {},
     "output_type": "execute_result"
    }
   ],
   "source": [
    "dictio.get(0, 'No existe esa key')  # get(key, valor por defecto)"
   ]
  },
  {
   "cell_type": "code",
   "execution_count": 25,
   "id": "72f61b48",
   "metadata": {},
   "outputs": [
    {
     "data": {
      "text/plain": [
       "'hola'"
      ]
     },
     "execution_count": 25,
     "metadata": {},
     "output_type": "execute_result"
    }
   ],
   "source": [
    "dictio.get(True, 'No existe esa key')  # get(key, valor por defecto)"
   ]
  },
  {
   "cell_type": "code",
   "execution_count": 27,
   "id": "32acbdc2",
   "metadata": {},
   "outputs": [
    {
     "name": "stdout",
     "output_type": "stream",
     "text": [
      "None\n"
     ]
    }
   ],
   "source": [
    "print(dictio.get(0))"
   ]
  },
  {
   "cell_type": "code",
   "execution_count": 28,
   "id": "a0fc4068",
   "metadata": {},
   "outputs": [
    {
     "ename": "TypeError",
     "evalue": "unsupported operand type(s) for +: 'int' and 'str'",
     "output_type": "error",
     "traceback": [
      "\u001b[0;31m---------------------------------------------------------------------------\u001b[0m",
      "\u001b[0;31mTypeError\u001b[0m                                 Traceback (most recent call last)",
      "Cell \u001b[0;32mIn[28], line 3\u001b[0m\n\u001b[1;32m      1\u001b[0m \u001b[38;5;66;03m# TypeError\u001b[39;00m\n\u001b[0;32m----> 3\u001b[0m \u001b[38;5;241;43m1\u001b[39;49m\u001b[43m \u001b[49m\u001b[38;5;241;43m+\u001b[39;49m\u001b[43m \u001b[49m\u001b[38;5;124;43m'\u001b[39;49m\u001b[38;5;124;43m1\u001b[39;49m\u001b[38;5;124;43m'\u001b[39;49m\n",
      "\u001b[0;31mTypeError\u001b[0m: unsupported operand type(s) for +: 'int' and 'str'"
     ]
    }
   ],
   "source": [
    "# TypeError\n",
    "\n",
    "1 + '1'"
   ]
  },
  {
   "cell_type": "code",
   "execution_count": 29,
   "id": "718f28d0",
   "metadata": {},
   "outputs": [
    {
     "ename": "TypeError",
     "evalue": "can only concatenate list (not \"int\") to list",
     "output_type": "error",
     "traceback": [
      "\u001b[0;31m---------------------------------------------------------------------------\u001b[0m",
      "\u001b[0;31mTypeError\u001b[0m                                 Traceback (most recent call last)",
      "Cell \u001b[0;32mIn[29], line 1\u001b[0m\n\u001b[0;32m----> 1\u001b[0m \u001b[43m[\u001b[49m\u001b[38;5;241;43m1\u001b[39;49m\u001b[43m,\u001b[49m\u001b[38;5;241;43m2\u001b[39;49m\u001b[43m,\u001b[49m\u001b[38;5;241;43m3\u001b[39;49m\u001b[43m]\u001b[49m\u001b[43m \u001b[49m\u001b[38;5;241;43m+\u001b[39;49m\u001b[43m \u001b[49m\u001b[38;5;241;43m90\u001b[39;49m\n",
      "\u001b[0;31mTypeError\u001b[0m: can only concatenate list (not \"int\") to list"
     ]
    }
   ],
   "source": [
    "[1,2,3] + 90"
   ]
  },
  {
   "cell_type": "code",
   "execution_count": 30,
   "id": "9313f82b",
   "metadata": {},
   "outputs": [
    {
     "ename": "ModuleNotFoundError",
     "evalue": "No module named 'alegria'",
     "output_type": "error",
     "traceback": [
      "\u001b[0;31m---------------------------------------------------------------------------\u001b[0m",
      "\u001b[0;31mModuleNotFoundError\u001b[0m                       Traceback (most recent call last)",
      "Cell \u001b[0;32mIn[30], line 3\u001b[0m\n\u001b[1;32m      1\u001b[0m \u001b[38;5;66;03m# importError\u001b[39;00m\n\u001b[0;32m----> 3\u001b[0m \u001b[38;5;28;01mimport\u001b[39;00m \u001b[38;5;21;01malegria\u001b[39;00m \u001b[38;5;28;01mas\u001b[39;00m \u001b[38;5;21;01malegre\u001b[39;00m\n",
      "\u001b[0;31mModuleNotFoundError\u001b[0m: No module named 'alegria'"
     ]
    }
   ],
   "source": [
    "# importError\n",
    "\n",
    "import alegria as alegre"
   ]
  },
  {
   "cell_type": "code",
   "execution_count": 33,
   "id": "b6594347",
   "metadata": {},
   "outputs": [
    {
     "ename": "ModuleNotFoundError",
     "evalue": "No module named 'maths'",
     "output_type": "error",
     "traceback": [
      "\u001b[0;31m---------------------------------------------------------------------------\u001b[0m",
      "\u001b[0;31mModuleNotFoundError\u001b[0m                       Traceback (most recent call last)",
      "Cell \u001b[0;32mIn[33], line 1\u001b[0m\n\u001b[0;32m----> 1\u001b[0m \u001b[38;5;28;01mimport\u001b[39;00m \u001b[38;5;21;01mmaths\u001b[39;00m\n\u001b[1;32m      3\u001b[0m \u001b[38;5;28mprint\u001b[39m(\u001b[38;5;241m9\u001b[39m)\n",
      "\u001b[0;31mModuleNotFoundError\u001b[0m: No module named 'maths'"
     ]
    }
   ],
   "source": [
    "import maths\n",
    "\n",
    "print(9)"
   ]
  },
  {
   "cell_type": "code",
   "execution_count": 32,
   "id": "926c8bfe",
   "metadata": {},
   "outputs": [],
   "source": [
    "import pandas as pd"
   ]
  },
  {
   "cell_type": "markdown",
   "id": "4274dc11",
   "metadata": {},
   "source": [
    "https://docs.python.org/3/tutorial/errors.html"
   ]
  },
  {
   "cell_type": "markdown",
   "id": "ba9479d3",
   "metadata": {},
   "source": [
    "### Writing Exceptions"
   ]
  },
  {
   "cell_type": "code",
   "execution_count": 38,
   "id": "64c40007",
   "metadata": {},
   "outputs": [
    {
     "name": "stdout",
     "output_type": "stream",
     "text": [
      "hola, el numero es  90\n"
     ]
    },
    {
     "ename": "ValueError",
     "evalue": "Cukin, el numero es par",
     "output_type": "error",
     "traceback": [
      "\u001b[0;31m---------------------------------------------------------------------------\u001b[0m",
      "\u001b[0;31mValueError\u001b[0m                                Traceback (most recent call last)",
      "Cell \u001b[0;32mIn[38], line 7\u001b[0m\n\u001b[1;32m      3\u001b[0m \u001b[38;5;28;01mif\u001b[39;00m num \u001b[38;5;241m%\u001b[39m \u001b[38;5;241m2\u001b[39m \u001b[38;5;241m!=\u001b[39m \u001b[38;5;241m1\u001b[39m:\n\u001b[1;32m      5\u001b[0m     \u001b[38;5;28mprint\u001b[39m(\u001b[38;5;124m'\u001b[39m\u001b[38;5;124mhola, el numero es \u001b[39m\u001b[38;5;124m'\u001b[39m, num)\n\u001b[0;32m----> 7\u001b[0m     \u001b[38;5;28;01mraise\u001b[39;00m \u001b[38;5;167;01mValueError\u001b[39;00m(\u001b[38;5;124m'\u001b[39m\u001b[38;5;124mCukin, el numero es par\u001b[39m\u001b[38;5;124m'\u001b[39m)\n\u001b[1;32m      9\u001b[0m \u001b[38;5;28;01melse\u001b[39;00m:\n\u001b[1;32m     11\u001b[0m     \u001b[38;5;28mprint\u001b[39m(num)\n",
      "\u001b[0;31mValueError\u001b[0m: Cukin, el numero es par"
     ]
    }
   ],
   "source": [
    "num = 90\n",
    "\n",
    "if num % 2 != 1:\n",
    "    \n",
    "    print('hola, el numero es ', num)\n",
    "    \n",
    "    raise ValueError('Cukin, el numero es par')\n",
    "    \n",
    "else:\n",
    "    \n",
    "    print(num)"
   ]
  },
  {
   "cell_type": "code",
   "execution_count": 41,
   "id": "a1b82c80",
   "metadata": {},
   "outputs": [
    {
     "name": "stdout",
     "output_type": "stream",
     "text": [
      "I: -2\n",
      "calculo: -0.5\n",
      "I: -1\n",
      "calculo: -1.0\n",
      "I: 0\n"
     ]
    },
    {
     "ename": "ZeroDivisionError",
     "evalue": "division by zero",
     "output_type": "error",
     "traceback": [
      "\u001b[0;31m---------------------------------------------------------------------------\u001b[0m",
      "\u001b[0;31mZeroDivisionError\u001b[0m                         Traceback (most recent call last)",
      "Cell \u001b[0;32mIn[41], line 5\u001b[0m\n\u001b[1;32m      1\u001b[0m \u001b[38;5;28;01mfor\u001b[39;00m i \u001b[38;5;129;01min\u001b[39;00m \u001b[38;5;28mrange\u001b[39m(\u001b[38;5;241m-\u001b[39m\u001b[38;5;241m2\u001b[39m, \u001b[38;5;241m5\u001b[39m):\n\u001b[1;32m      3\u001b[0m     \u001b[38;5;28mprint\u001b[39m(\u001b[38;5;124m'\u001b[39m\u001b[38;5;124mI:\u001b[39m\u001b[38;5;124m'\u001b[39m, i)\n\u001b[0;32m----> 5\u001b[0m     \u001b[38;5;28mprint\u001b[39m(\u001b[38;5;124m'\u001b[39m\u001b[38;5;124mcalculo:\u001b[39m\u001b[38;5;124m'\u001b[39m, \u001b[38;5;241;43m1\u001b[39;49m\u001b[38;5;241;43m/\u001b[39;49m\u001b[43mi\u001b[49m)\n",
      "\u001b[0;31mZeroDivisionError\u001b[0m: division by zero"
     ]
    }
   ],
   "source": [
    "for i in range(-2, 5):\n",
    "    \n",
    "    print('I:', i)\n",
    "    \n",
    "    print('calculo:', 1/i)"
   ]
  },
  {
   "cell_type": "markdown",
   "id": "e9f5eed1",
   "metadata": {},
   "source": [
    "### Catching Exceptions"
   ]
  },
  {
   "cell_type": "code",
   "execution_count": 42,
   "id": "9ae24498",
   "metadata": {},
   "outputs": [
    {
     "name": "stdout",
     "output_type": "stream",
     "text": [
      "I: -2\n",
      "calculo: -0.5\n",
      "I: -1\n",
      "calculo: -1.0\n",
      "I: 0\n",
      "Que no se puede dividir entre cero, mira a ver....\n",
      "I: 1\n",
      "calculo: 1.0\n",
      "I: 2\n",
      "calculo: 0.5\n",
      "I: 3\n",
      "calculo: 0.3333333333333333\n",
      "I: 4\n",
      "calculo: 0.25\n"
     ]
    }
   ],
   "source": [
    "for i in range(-2, 5):\n",
    "    \n",
    "    try:  # intenta esto, si se rompe pasa al except\n",
    "    \n",
    "        print('I:', i)\n",
    "\n",
    "        print('calculo:', 1/i)\n",
    "        \n",
    "    except:\n",
    "        \n",
    "        print('Que no se puede dividir entre cero, mira a ver....')"
   ]
  },
  {
   "cell_type": "code",
   "execution_count": 43,
   "id": "fe0754a4",
   "metadata": {},
   "outputs": [
    {
     "name": "stdout",
     "output_type": "stream",
     "text": [
      "I: -2\n",
      "calculo: -0.5\n",
      "I: -1\n",
      "calculo: -1.0\n",
      "Que no se puede dividir entre cero, mira a ver....\n",
      "I: 1\n",
      "calculo: 1.0\n",
      "I: 2\n",
      "calculo: 0.5\n",
      "I: 3\n",
      "calculo: 0.3333333333333333\n",
      "I: 4\n",
      "calculo: 0.25\n"
     ]
    }
   ],
   "source": [
    "for i in range(-2, 5):\n",
    "    \n",
    "    if i!=0:  \n",
    "    \n",
    "        print('I:', i)\n",
    "\n",
    "        print('calculo:', 1/i)\n",
    "        \n",
    "    else:\n",
    "        \n",
    "        print('Que no se puede dividir entre cero, mira a ver....')"
   ]
  },
  {
   "cell_type": "code",
   "execution_count": 47,
   "id": "b9bb4f1d",
   "metadata": {},
   "outputs": [
    {
     "name": "stdout",
     "output_type": "stream",
     "text": [
      "I: -2\n",
      "calculo: -0.5\n",
      "I: -1\n",
      "calculo: -1.0\n",
      "I: 0\n",
      "ERROR:  division by zero\n",
      "Que no se puede dividir entre cero, mira a ver....\n",
      "I: 1\n",
      "No se puede sumar int con str\n",
      "I: 2\n",
      "calculo: 0.5\n",
      "I: 3\n",
      "calculo: 0.3333333333333333\n",
      "I: 4\n",
      "calculo: 0.25\n",
      "ACABE\n"
     ]
    }
   ],
   "source": [
    "for i in range(-2, 5):\n",
    "\n",
    "    if i==1: \n",
    "        i = str(i)\n",
    "    \n",
    "    try:  # intenta esto, si se rompe pasa al except\n",
    "    \n",
    "        print('I:', i)\n",
    "\n",
    "        print('calculo:', 1/i)\n",
    "        \n",
    "    except ZeroDivisionError as e:\n",
    "        \n",
    "        print('ERROR: ', e)\n",
    "        \n",
    "        print('Que no se puede dividir entre cero, mira a ver....')\n",
    "        \n",
    "    except TypeError:\n",
    "        \n",
    "        print('No se puede sumar int con str')\n",
    "        \n",
    "        \n",
    "print('ACABE')"
   ]
  },
  {
   "cell_type": "code",
   "execution_count": 49,
   "id": "4be7d602",
   "metadata": {},
   "outputs": [
    {
     "name": "stdout",
     "output_type": "stream",
     "text": [
      "\n",
      "I: -2\n",
      "calculo: -0.5\n",
      "Todo va feten\n",
      "\n",
      "I: -1\n",
      "calculo: -1.0\n",
      "Todo va feten\n",
      "\n",
      "I: 0\n",
      "ERROR:  division by zero\n",
      "Que no se puede dividir entre cero, mira a ver....\n",
      "\n",
      "I: 1\n",
      "calculo: 1.0\n",
      "Todo va feten\n",
      "\n",
      "I: 2\n",
      "calculo: 0.5\n",
      "Todo va feten\n",
      "\n",
      "I: 3\n",
      "calculo: 0.3333333333333333\n",
      "Todo va feten\n",
      "\n",
      "I: 4\n",
      "calculo: 0.25\n",
      "Todo va feten\n",
      "ACABE\n"
     ]
    }
   ],
   "source": [
    "for i in range(-2, 5):\n",
    "    \n",
    "    print()\n",
    "    \n",
    "    try:  # intenta esto, si se rompe pasa al except\n",
    "    \n",
    "        print('I:', i)\n",
    "\n",
    "        print('calculo:', 1/i)\n",
    "        \n",
    "    except ZeroDivisionError as e:\n",
    "        \n",
    "        print('ERROR: ', e)\n",
    "        \n",
    "        print('Que no se puede dividir entre cero, mira a ver....')\n",
    "        \n",
    "    else:\n",
    "        # solo se ejecuta si tira el try\n",
    "        print('Todo va feten')\n",
    "        \n",
    "   \n",
    "\n",
    "        \n",
    "print('ACABE')"
   ]
  },
  {
   "cell_type": "code",
   "execution_count": 50,
   "id": "c8f582df",
   "metadata": {},
   "outputs": [
    {
     "name": "stdout",
     "output_type": "stream",
     "text": [
      "\n",
      "I: -2\n",
      "calculo: -0.5\n",
      "Todo va feten\n",
      "Esto tira IGUALMENTE\n",
      "\n",
      "I: -1\n",
      "calculo: -1.0\n",
      "Todo va feten\n",
      "Esto tira IGUALMENTE\n",
      "\n",
      "I: 0\n",
      "ERROR:  division by zero\n",
      "Que no se puede dividir entre cero, mira a ver....\n",
      "Esto tira IGUALMENTE\n",
      "\n",
      "I: 1\n",
      "calculo: 1.0\n",
      "Todo va feten\n",
      "Esto tira IGUALMENTE\n",
      "\n",
      "I: 2\n",
      "calculo: 0.5\n",
      "Todo va feten\n",
      "Esto tira IGUALMENTE\n",
      "\n",
      "I: 3\n",
      "calculo: 0.3333333333333333\n",
      "Todo va feten\n",
      "Esto tira IGUALMENTE\n",
      "\n",
      "I: 4\n",
      "calculo: 0.25\n",
      "Todo va feten\n",
      "Esto tira IGUALMENTE\n",
      "ACABE\n"
     ]
    }
   ],
   "source": [
    "for i in range(-2, 5):\n",
    "    \n",
    "    print()\n",
    "    \n",
    "    try:  # intenta esto, si se rompe pasa al except\n",
    "    \n",
    "        print('I:', i)\n",
    "\n",
    "        print('calculo:', 1/i)\n",
    "        \n",
    "    except ZeroDivisionError as e:\n",
    "        \n",
    "        print('ERROR: ', e)\n",
    "        \n",
    "        print('Que no se puede dividir entre cero, mira a ver....')\n",
    "        \n",
    "    else:\n",
    "        # solo se ejecuta si tira el try\n",
    "        print('Todo va feten')\n",
    "        \n",
    "    finally:\n",
    "        # se ejecuta siempre, despues de tdo lo demas\n",
    "        print('Esto tira IGUALMENTE')\n",
    "        \n",
    "   \n",
    "\n",
    "        \n",
    "print('ACABE')"
   ]
  },
  {
   "cell_type": "code",
   "execution_count": 55,
   "id": "919e0acf",
   "metadata": {},
   "outputs": [
    {
     "name": "stdout",
     "output_type": "stream",
     "text": [
      "\n",
      "ESTOY EN EL TRY\n",
      "I: -2\n",
      "calculo: -0.5\n",
      "\n",
      "ESTOY EN EL TRY\n",
      "I: -1\n",
      "calculo: -1.0\n",
      "\n",
      "ESTOY EN EL TRY\n",
      "I: 0\n",
      "ESTOY EN EL EXCEPT\n"
     ]
    },
    {
     "ename": "TypeError",
     "evalue": "can only concatenate str (not \"int\") to str",
     "output_type": "error",
     "traceback": [
      "\u001b[0;31m---------------------------------------------------------------------------\u001b[0m",
      "\u001b[0;31mZeroDivisionError\u001b[0m                         Traceback (most recent call last)",
      "Cell \u001b[0;32mIn[55], line 11\u001b[0m\n\u001b[1;32m      9\u001b[0m     \u001b[38;5;28mprint\u001b[39m(\u001b[38;5;124m'\u001b[39m\u001b[38;5;124mI:\u001b[39m\u001b[38;5;124m'\u001b[39m, i)\n\u001b[0;32m---> 11\u001b[0m     \u001b[38;5;28mprint\u001b[39m(\u001b[38;5;124m'\u001b[39m\u001b[38;5;124mcalculo:\u001b[39m\u001b[38;5;124m'\u001b[39m, \u001b[38;5;241;43m1\u001b[39;49m\u001b[38;5;241;43m/\u001b[39;49m\u001b[43mi\u001b[49m)\n\u001b[1;32m     13\u001b[0m \u001b[38;5;28;01mexcept\u001b[39;00m:\n",
      "\u001b[0;31mZeroDivisionError\u001b[0m: division by zero",
      "\nDuring handling of the above exception, another exception occurred:\n",
      "\u001b[0;31mTypeError\u001b[0m                                 Traceback (most recent call last)",
      "Cell \u001b[0;32mIn[55], line 17\u001b[0m\n\u001b[1;32m     13\u001b[0m \u001b[38;5;28;01mexcept\u001b[39;00m:\n\u001b[1;32m     15\u001b[0m     \u001b[38;5;28mprint\u001b[39m(\u001b[38;5;124m'\u001b[39m\u001b[38;5;124mESTOY EN EL EXCEPT\u001b[39m\u001b[38;5;124m'\u001b[39m)\n\u001b[0;32m---> 17\u001b[0m     \u001b[38;5;28mprint\u001b[39m(\u001b[38;5;124;43m'\u001b[39;49m\u001b[38;5;124;43mhola\u001b[39;49m\u001b[38;5;124;43m'\u001b[39;49m\u001b[43m \u001b[49m\u001b[38;5;241;43m+\u001b[39;49m\u001b[43m \u001b[49m\u001b[38;5;241;43m1\u001b[39;49m)\n",
      "\u001b[0;31mTypeError\u001b[0m: can only concatenate str (not \"int\") to str"
     ]
    }
   ],
   "source": [
    "for i in range(-2, 5):\n",
    "    \n",
    "    print()\n",
    "    \n",
    "    try:  # intenta esto, si se rompe pasa al except\n",
    "        \n",
    "        print('ESTOY EN EL TRY')\n",
    "    \n",
    "        print('I:', i)\n",
    "\n",
    "        print('calculo:', 1/i)\n",
    "        \n",
    "    except:\n",
    "        \n",
    "        print('ESTOY EN EL EXCEPT')\n",
    "        \n",
    "        print('hola' + 1)\n",
    "        "
   ]
  },
  {
   "cell_type": "code",
   "execution_count": 7,
   "id": "c03dfc0a",
   "metadata": {},
   "outputs": [],
   "source": [
    "def checkear(palabra):\n",
    "    \n",
    "    for letra in palabra:\n",
    "        \n",
    "        if letra==letra.upper():\n",
    "            \n",
    "            return True  # el return es un break, existe al menos una mayus\n",
    "        \n",
    "    \n",
    "    # levanta un error si no hay mayus\n",
    "    raise ValueError('Cukin, no hay mayusculas')\n",
    "        "
   ]
  },
  {
   "cell_type": "code",
   "execution_count": 2,
   "id": "66980d67",
   "metadata": {},
   "outputs": [
    {
     "data": {
      "text/plain": [
       "True"
      ]
     },
     "execution_count": 2,
     "metadata": {},
     "output_type": "execute_result"
    }
   ],
   "source": [
    "checkear('John')"
   ]
  },
  {
   "cell_type": "code",
   "execution_count": 3,
   "id": "e1b8a20a",
   "metadata": {},
   "outputs": [
    {
     "data": {
      "text/plain": [
       "True"
      ]
     },
     "execution_count": 3,
     "metadata": {},
     "output_type": "execute_result"
    }
   ],
   "source": [
    "checkear('johN')"
   ]
  },
  {
   "cell_type": "code",
   "execution_count": 4,
   "id": "da489af3",
   "metadata": {},
   "outputs": [
    {
     "data": {
      "text/plain": [
       "True"
      ]
     },
     "execution_count": 4,
     "metadata": {},
     "output_type": "execute_result"
    }
   ],
   "source": [
    "checkear('jOhn')"
   ]
  },
  {
   "cell_type": "code",
   "execution_count": 5,
   "id": "f18e6152",
   "metadata": {},
   "outputs": [
    {
     "data": {
      "text/plain": [
       "True"
      ]
     },
     "execution_count": 5,
     "metadata": {},
     "output_type": "execute_result"
    }
   ],
   "source": [
    "checkear('JO')"
   ]
  },
  {
   "cell_type": "code",
   "execution_count": 6,
   "id": "683bd827",
   "metadata": {},
   "outputs": [
    {
     "ename": "ValueError",
     "evalue": "Cukin, no hay mayusculas",
     "output_type": "error",
     "traceback": [
      "\u001b[0;31m---------------------------------------------------------------------------\u001b[0m",
      "\u001b[0;31mValueError\u001b[0m                                Traceback (most recent call last)",
      "Cell \u001b[0;32mIn[6], line 1\u001b[0m\n\u001b[0;32m----> 1\u001b[0m \u001b[43mcheckear\u001b[49m\u001b[43m(\u001b[49m\u001b[38;5;124;43m'\u001b[39;49m\u001b[38;5;124;43mhola\u001b[39;49m\u001b[38;5;124;43m'\u001b[39;49m\u001b[43m)\u001b[49m\n",
      "Cell \u001b[0;32mIn[1], line 11\u001b[0m, in \u001b[0;36mcheckear\u001b[0;34m(palabra)\u001b[0m\n\u001b[1;32m      7\u001b[0m         \u001b[38;5;28;01mreturn\u001b[39;00m \u001b[38;5;28;01mTrue\u001b[39;00m  \u001b[38;5;66;03m# el return es un break, existe al menos una mayus\u001b[39;00m\n\u001b[1;32m     10\u001b[0m \u001b[38;5;66;03m# levanta un error si no hay mayus\u001b[39;00m\n\u001b[0;32m---> 11\u001b[0m \u001b[38;5;28;01mraise\u001b[39;00m \u001b[38;5;167;01mValueError\u001b[39;00m(\u001b[38;5;124m'\u001b[39m\u001b[38;5;124mCukin, no hay mayusculas\u001b[39m\u001b[38;5;124m'\u001b[39m)\n",
      "\u001b[0;31mValueError\u001b[0m: Cukin, no hay mayusculas"
     ]
    }
   ],
   "source": [
    "checkear('hola')"
   ]
  },
  {
   "cell_type": "code",
   "execution_count": 9,
   "id": "2ddefd96",
   "metadata": {},
   "outputs": [
    {
     "name": "stdout",
     "output_type": "stream",
     "text": [
      "None\n"
     ]
    }
   ],
   "source": [
    "print(checkear('hola'))"
   ]
  },
  {
   "cell_type": "code",
   "execution_count": 11,
   "id": "54eadb0d",
   "metadata": {},
   "outputs": [],
   "source": [
    "def checkear2(palabra):\n",
    "    \n",
    "    for letra in palabra:\n",
    "        \n",
    "        if letra==letra.upper():\n",
    "            \n",
    "            return True  # el return es un break, existe al menos una mayus\n",
    "        \n",
    "        else:\n",
    "            # raise tmb es un break, rompe el codigo\n",
    "            raise ValueError('Cukin, no hay mayusculas')\n",
    "    \n",
    "        "
   ]
  },
  {
   "cell_type": "code",
   "execution_count": 12,
   "id": "e106c0ba",
   "metadata": {},
   "outputs": [
    {
     "data": {
      "text/plain": [
       "True"
      ]
     },
     "execution_count": 12,
     "metadata": {},
     "output_type": "execute_result"
    }
   ],
   "source": [
    "checkear2('John')"
   ]
  },
  {
   "cell_type": "code",
   "execution_count": 13,
   "id": "aa8bbd3b",
   "metadata": {},
   "outputs": [
    {
     "ename": "ValueError",
     "evalue": "Cukin, no hay mayusculas",
     "output_type": "error",
     "traceback": [
      "\u001b[0;31m---------------------------------------------------------------------------\u001b[0m",
      "\u001b[0;31mValueError\u001b[0m                                Traceback (most recent call last)",
      "Cell \u001b[0;32mIn[13], line 1\u001b[0m\n\u001b[0;32m----> 1\u001b[0m \u001b[43mcheckear2\u001b[49m\u001b[43m(\u001b[49m\u001b[38;5;124;43m'\u001b[39;49m\u001b[38;5;124;43mjOhn\u001b[39;49m\u001b[38;5;124;43m'\u001b[39;49m\u001b[43m)\u001b[49m\n",
      "Cell \u001b[0;32mIn[11], line 10\u001b[0m, in \u001b[0;36mcheckear2\u001b[0;34m(palabra)\u001b[0m\n\u001b[1;32m      7\u001b[0m     \u001b[38;5;28;01mreturn\u001b[39;00m \u001b[38;5;28;01mTrue\u001b[39;00m  \u001b[38;5;66;03m# el return es un break, existe al menos una mayus\u001b[39;00m\n\u001b[1;32m      9\u001b[0m \u001b[38;5;28;01melse\u001b[39;00m:\n\u001b[0;32m---> 10\u001b[0m     \u001b[38;5;28;01mraise\u001b[39;00m \u001b[38;5;167;01mValueError\u001b[39;00m(\u001b[38;5;124m'\u001b[39m\u001b[38;5;124mCukin, no hay mayusculas\u001b[39m\u001b[38;5;124m'\u001b[39m)\n",
      "\u001b[0;31mValueError\u001b[0m: Cukin, no hay mayusculas"
     ]
    }
   ],
   "source": [
    "checkear2('jOhn')"
   ]
  },
  {
   "cell_type": "markdown",
   "id": "92f917e9",
   "metadata": {},
   "source": [
    "---"
   ]
  }
 ],
 "metadata": {
  "kernelspec": {
   "display_name": "Python 3 (ipykernel)",
   "language": "python",
   "name": "python3"
  },
  "language_info": {
   "codemirror_mode": {
    "name": "ipython",
    "version": 3
   },
   "file_extension": ".py",
   "mimetype": "text/x-python",
   "name": "python",
   "nbconvert_exporter": "python",
   "pygments_lexer": "ipython3",
   "version": "3.9.12"
  }
 },
 "nbformat": 4,
 "nbformat_minor": 5
}
