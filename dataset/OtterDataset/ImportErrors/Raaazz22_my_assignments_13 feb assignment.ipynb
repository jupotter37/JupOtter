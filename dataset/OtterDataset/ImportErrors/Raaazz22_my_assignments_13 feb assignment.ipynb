{
 "cells": [
  {
   "cell_type": "code",
   "execution_count": null,
   "id": "4ccd72b8-e407-4baa-9934-4e31e912cafc",
   "metadata": {},
   "outputs": [],
   "source": [
    "#Q1. Explain why we have to use the Exception class while creating a Custom Exception.\n",
    "\n",
    "#the exception class is create because the general exception are  in Exception  but the ordinary \n",
    "#exception are not in Exception so we create a class."
   ]
  },
  {
   "cell_type": "code",
   "execution_count": 1,
   "id": "068641f6-86e3-4d6a-bd62-68b94fbd7760",
   "metadata": {},
   "outputs": [
    {
     "name": "stdout",
     "output_type": "stream",
     "text": [
      "error division by zero\n",
      "The error is handled\n"
     ]
    }
   ],
   "source": [
    "#Q2. Write a python program to print Python Exception Hierarchy.\n",
    "\n",
    "try:\n",
    "    a=2\n",
    "    b=0\n",
    "    print(a/b)\n",
    "except Exception as e:\n",
    "    print(\"error\",e)\n",
    "else:\n",
    "    print(\"a is divided by b\",a/b)\n",
    "finally:\n",
    "    print(\"The error is handled\")"
   ]
  },
  {
   "cell_type": "code",
   "execution_count": null,
   "id": "6fc2ce8a-f236-4aaa-9df0-667e9cec9438",
   "metadata": {},
   "outputs": [],
   "source": [
    "#Q3. What errors are defined in the ArithmeticError class? Explain any two with an example.\n",
    "\n",
    "#ArithmeticError\n",
    "#-- ZeroDivisionError\n",
    "#-- OverflowError\n",
    "#-- FloatingPointError\n",
    "\n",
    "    a=2\n",
    "    b=0\n",
    "    print(a/b)\n",
    "#this is example zero division error\n",
    "\n",
    "\n",
    "\n",
    "j = 5.0\n",
    "\n",
    "try:\n",
    "    for i in range(1, 1000):\n",
    "        j = j**i\n",
    "except ArithmeticError as e:\n",
    "    print(f\"{e}, {e.__class__}\")\n",
    "    \n",
    "#this is example of overflow error\n"
   ]
  },
  {
   "cell_type": "code",
   "execution_count": null,
   "id": "d13c7421-3103-435d-bfdc-b1c2613c87be",
   "metadata": {},
   "outputs": [],
   "source": [
    "#Q4. Why LookupError class is used? Explain with an example KeyError and IndexError.\n",
    "\n",
    "\n",
    "\n",
    "#The LookupError exception in Python forms the base class for all exceptions that are raised when an index or a \n",
    "#key is not found for a sequence or dictionary respectively.\n",
    "\n",
    "#index error\n",
    "x = (1, 2, 3, 4)\n",
    "try:\n",
    "    print(x[10])\n",
    "except LookupError as e:\n",
    "    print(f\"{e}, {e.__class__}\")\n",
    "    \n",
    "#key error\n",
    "pylenin_info = {'name': 'Lenin Mishra',\n",
    "                'age': 28,\n",
    "                'language': 'Python'}\n",
    "user_input = input('What do you want to learn about Pylenin==> ')\n",
    "\n",
    "try:\n",
    "    print(f'{user_input} is {pylenin_info[user_input]}')\n",
    "except LookupError as e:\n",
    "    print(f'{e}, {e.__class__}')\n"
   ]
  },
  {
   "cell_type": "code",
   "execution_count": null,
   "id": "11f3fa95-2fb6-4952-ae4a-92181d421d24",
   "metadata": {},
   "outputs": [],
   "source": [
    "#Q5. Explain ImportError. What is ModuleNotFoundError?\n",
    "\n",
    "#Python's ImportError ( ModuleNotFoundError ) indicates that you tried to import a module that Python doesn't find."
   ]
  }
 ],
 "metadata": {
  "kernelspec": {
   "display_name": "Python 3 (ipykernel)",
   "language": "python",
   "name": "python3"
  },
  "language_info": {
   "codemirror_mode": {
    "name": "ipython",
    "version": 3
   },
   "file_extension": ".py",
   "mimetype": "text/x-python",
   "name": "python",
   "nbconvert_exporter": "python",
   "pygments_lexer": "ipython3",
   "version": "3.10.8"
  }
 },
 "nbformat": 4,
 "nbformat_minor": 5
}
