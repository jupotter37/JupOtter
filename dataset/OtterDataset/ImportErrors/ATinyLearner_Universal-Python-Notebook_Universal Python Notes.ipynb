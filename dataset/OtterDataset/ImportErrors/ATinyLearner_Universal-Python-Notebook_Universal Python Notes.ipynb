{
 "cells": [
  {
   "cell_type": "markdown",
   "id": "9ee41ffe-3ca8-44c4-9a1f-3a6164885609",
   "metadata": {},
   "source": [
    "# What is Python?\n",
    "#### Python refers to a <b>open-source, high-level, object-oriented , interpreted, multipurpose, cross-platform, dynamatically typed</b> programming language.\n",
    "## Let's learn the above terms:\n",
    "#### <b>Open-Source:</b> Python is open-source, which means that its source code is freely available, and the Python community actively contributes to its development. This has led to a wealth of libraries and frameworks that extend Python's capabilities.\n",
    "#### <b>High-Level:</b> Python is a high-level programming language, which means that it abstracts many low-level details and provides a more human-readable syntax. This makes it easier to write and understand code.\n",
    "#### <b>Interpreted Language:</b> Python is an interpreted language, meaning that code is executed line by line by the Python interpreter. This makes it easy to write and test code without the need for a separate compilation step.\n",
    "#### <b>Multi-Purpose:</b> Python is a versatile language that can be used for a wide range of applications. It has a rich standard library that includes modules for tasks such as file handling, networking, and more.\n",
    "#### <b>Cross-Platform:</b> Python is available for multiple platforms, including Windows, macOS, and various Unix-like operating systems. This makes it a suitable choice for developing applications that can run on different platforms.\n",
    "#### <b>Dynamic Typing:</b> Python is dynamically typed, which means that you don't need to declare variable types explicitly. Variable types are determined at runtime.\n",
    "#### <b>Object Oriented:</b> Python is designed to use objects as the fundamental building blocks of programs. In object-oriented programming, data and the functions (methods) that operate on that data are organized into \"objects.\" "
   ]
  },
  {
   "cell_type": "markdown",
   "id": "f8b3f7da-36a8-478a-9d4a-77477d1c9493",
   "metadata": {},
   "source": [
    "# Python variables:\n",
    "### In Python, variables are used to store and manipulate data. Unlike some other programming languages, Python is dynamically typed, which means you don't need to explicitly declare the data type of a variable when you create it. Here are some key points about Python variables:\n",
    "\n",
    "### Variable Naming Rules:\n",
    "1. Variable names can consist of letters, numbers, and underscores.\n",
    "2. Variable names must start with a letter or an underscore.\n",
    "3. Python is case-sensitive, so my_variable and My_Variable are considered different variables.\n",
    "4. Variable names cannot be a Python keyword or reserved word, such as if, else, while, for, etc.\n",
    "\n",
    "### Variable Assignment:\n",
    " Variables are created when you assign a value to them using the = operator. For example: x = 10 creates a variable named x and assigns it the value 10.\n",
    "\n",
    "### Dynamic Typing:\n",
    "- Python variables are dynamically typed, which means you don't need to specify the data type explicitly.\n",
    "- The data type of a variable is determined by the value it holds.\n",
    "- For example, x = 10 creates an integer variable, while x = \"Hello\" creates a string variable. "
   ]
  },
  {
   "cell_type": "markdown",
   "id": "35ad139f-06cb-43c2-8348-b3f6485a4801",
   "metadata": {},
   "source": [
    "## Python Reserved Keywords\n",
    "False, await, else, import, pass,\n",
    "None, break, except, in, raise,\n",
    "True, class, finally, is, return,\n",
    "and, continue, for, lambda, try,\n",
    "as, def, from, nonlocal, while,\n",
    "assert, del, global, not, with,\n",
    "async, elif, if, or, yield\n"
   ]
  },
  {
   "cell_type": "markdown",
   "id": "db496d57",
   "metadata": {},
   "source": [
    "## Python Input & Output\n",
    "### 1.1 Output\n",
    "In Python, we can simply use the print() function to print output. For example:"
   ]
  },
  {
   "cell_type": "code",
   "execution_count": null,
   "id": "2bdc96f1",
   "metadata": {},
   "outputs": [],
   "source": [
    "print('I love ice-cream!')"
   ]
  },
  {
   "cell_type": "markdown",
   "id": "cd18936e",
   "metadata": {},
   "source": [
    "### 1.2 Output formatting\n",
    "f-strings provide a concise way to format strings. You can include expressions inside curly braces {} within a string, and Python will replace them with their values."
   ]
  },
  {
   "cell_type": "code",
   "execution_count": null,
   "id": "87035c1c",
   "metadata": {},
   "outputs": [],
   "source": [
    "name = \"Alice\"\n",
    "age = 30\n",
    "print(f\"Name: {name}, Age: {age}\")"
   ]
  },
  {
   "cell_type": "markdown",
   "id": "4957a2c4",
   "metadata": {},
   "source": [
    "### 2. Python Input\n",
    "While programming, we might want to take the input from the user. In Python, we can use the input() function.\n",
    "```\n",
    "input(prompt)\n",
    "```\n",
    "Here, prompt is the string we wish to display on the screen. It is optional."
   ]
  },
  {
   "cell_type": "code",
   "execution_count": null,
   "id": "044f2f9e",
   "metadata": {},
   "outputs": [],
   "source": [
    "# using input() to take user input\n",
    "data = input('Enter a data: ')\n",
    "\n",
    "print(data) # printing the data\n",
    "\n",
    "# input by default gives str output, hence use data type constructor to change in proper data type\n",
    "\n",
    "num=int(input(\"Enter a number:\")) # used int() to change data into int data type\n",
    "print(num)\n",
    "print(type(num)) # type returns type of data"
   ]
  },
  {
   "cell_type": "markdown",
   "id": "338f2e92-c828-42b8-8bbb-a0c61734c4f8",
   "metadata": {},
   "source": [
    "## Python Datatypes\n",
    "### 1. Numeric\n",
    "1.  int - holds signed integers of non-limited length.\n",
    "2.  float - holds floating decimal points and it's accurate up to 15 decimal places."
   ]
  },
  {
   "cell_type": "code",
   "execution_count": 20,
   "id": "cba0b892-297b-45b3-9b03-fe3ec7a49b23",
   "metadata": {},
   "outputs": [],
   "source": [
    "# Here x and y are variables\n",
    "x = 5     # integer or int data types\n",
    "y = 3.14  # float data type"
   ]
  },
  {
   "cell_type": "markdown",
   "id": "300ebaf9-1949-40ec-8d88-67afe898cbbd",
   "metadata": {},
   "source": [
    "### 2. String\n",
    "String is a sequence of characters represented by either single or double quotes. For example:"
   ]
  },
  {
   "cell_type": "code",
   "execution_count": 21,
   "id": "8635c13a-db77-47f4-9224-c269f0d86708",
   "metadata": {},
   "outputs": [],
   "source": [
    "single_quoted_string = 'Hello, world!'\n",
    "double_quoted_string = \"Hello, world!\"\n",
    "triple_quoted_string = '''This is a triple-quoted string.'''\n",
    "\n",
    "# Triple-quoted strings are often used for multiline strings."
   ]
  },
  {
   "cell_type": "markdown",
   "id": "a5e4a597-33a8-4091-8052-d40e2c7011b4",
   "metadata": {},
   "source": [
    "### 3. Boolean\n",
    "In Python, boolean data types represent two possible values: True and False. Booleans are fundamental in programming and are often used for making decisions, controlling the flow of code, and implementing conditional logic.\n",
    "Here are some examples of boolean usage in Python:"
   ]
  },
  {
   "cell_type": "code",
   "execution_count": 22,
   "id": "fe87c6eb",
   "metadata": {},
   "outputs": [],
   "source": [
    "x = True\n",
    "y = False\n",
    "\n",
    "# Using boolean operators\n",
    "result1 = x and y  # False\n",
    "result2 = x or y   # True\n",
    "result3 = not x    # False\n",
    "\n",
    "# Using comparison operators\n",
    "a = 10\n",
    "b = 5\n",
    "\n",
    "result4 = a == b  # False\n",
    "result5 = a != b  # True\n",
    "result6 = a > b   # True\n",
    "result7 = a <= b  # False\n",
    "\n",
    "# test all this code using print command"
   ]
  },
  {
   "cell_type": "markdown",
   "id": "8e597373",
   "metadata": {},
   "source": [
    "## Python Type Conversion\n",
    "#### 1. Converting integer or string to float using the float() constructor:"
   ]
  },
  {
   "cell_type": "code",
   "execution_count": null,
   "id": "a609e0f4",
   "metadata": {},
   "outputs": [],
   "source": [
    "integer_value = 42 #int value\n",
    "print(integer_value)\n",
    "float_value = float(integer_value) #converting to float \n",
    "print(float_value)\n",
    "\n",
    "str_value=\"42.03\" #string value\n",
    "print(str_value)\n",
    "float_value = float(str_value) #converting to float \n",
    "print(float_value)\n"
   ]
  },
  {
   "cell_type": "markdown",
   "id": "fb421e8f",
   "metadata": {},
   "source": [
    "#### 2. Converting float or string to integer using the int() constructor:"
   ]
  },
  {
   "cell_type": "code",
   "execution_count": null,
   "id": "2506c237",
   "metadata": {},
   "outputs": [],
   "source": [
    "float_value = 42.03 #float value\n",
    "print(float_value)\n",
    "integer_value = int(float_value) #converting to float \n",
    "print(integer_value)\n",
    "\n",
    "str_value=\"42\" #string value\n",
    "print(str_value)\n",
    "integer_value = int(str_value) #converting to float \n",
    "print(integer_value)"
   ]
  },
  {
   "cell_type": "markdown",
   "id": "f7d7abfc",
   "metadata": {},
   "source": [
    "## Python Operators\n",
    "Python operators are symbols or special characters that are used to perform operations on variables and values. They are an essential part of programming, allowing you to manipulate data and control the flow of your code. Python operators can be classified into several categories:\n",
    "\n",
    "### Arithmetic Operators:\n",
    "- Addition (+): Adds two operands.\n",
    "- Subtraction (-): Subtracts the right operand from the left operand.\n",
    "- Multiplication (*): Multiplies two operands.\n",
    "- Division (/): Divides the left operand by the right operand.\n",
    "- Modulus (%): Returns the remainder when the left operand is divided by the right operand.\n",
    "- Exponentiation (**): Raises the left operand to the power of the right operand.\n",
    "- Floor Division (//): Returns the integer part of the division result, discarding the remainder."
   ]
  },
  {
   "cell_type": "code",
   "execution_count": null,
   "id": "03d32472",
   "metadata": {},
   "outputs": [],
   "source": [
    "a = 10\n",
    "b = 3\n",
    "sum_result = a + b\n",
    "print(sum_result)\n",
    "difference_result = a - b\n",
    "print(difference_result)\n",
    "product_result = a * b\n",
    "print(product_result)\n",
    "division_result = a / b\n",
    "print(division_result)\n",
    "remainder_result = a % b\n",
    "print(remainder_result)\n",
    "power_result = a ** b\n",
    "print(power_result)\n",
    "floor_division_result = a // b\n",
    "print(floor_division_result)"
   ]
  },
  {
   "cell_type": "markdown",
   "id": "7ccc41f1",
   "metadata": {},
   "source": [
    "### Comparison Operators:\n",
    "- Equal to (==): Checks if two operands are equal.\n",
    "- Not equal to (!=): Checks if two operands are not equal.\n",
    "- Greater than (>): Checks if the left operand is greater than the right operand.\n",
    "- Less than (<): Checks if the left operand is less than the right operand.\n",
    "- Greater than or equal to (>=): Checks if the left operand is greater than or equal to the right operand.\n",
    "- Less than or equal to (<=): Checks if the left operand is less than or equal to the right operand.\n",
    "<br><br>Example:"
   ]
  },
  {
   "cell_type": "code",
   "execution_count": null,
   "id": "60e0c344",
   "metadata": {},
   "outputs": [],
   "source": [
    "x = 5\n",
    "y = 10\n",
    "result1 = x == y\n",
    "result2 = x != y\n",
    "result3 = x > y\n",
    "result4 = x < y\n",
    "result5 = x >= y\n",
    "result6 = x <= y\n",
    "print(result1)\n",
    "print(result2)\n",
    "print(result3)\n",
    "print(result4)\n",
    "print(result5)\n",
    "print(result6)"
   ]
  },
  {
   "cell_type": "markdown",
   "id": "5ae97dbc",
   "metadata": {},
   "source": [
    "### Logical Operators:\n",
    "- and: Returns True if both operands are True.\n",
    "- or: Returns True if at least one of the operands is True.\n",
    "- not: Returns the opposite of the operand's Boolean value."
   ]
  },
  {
   "cell_type": "code",
   "execution_count": null,
   "id": "185dff83",
   "metadata": {},
   "outputs": [],
   "source": [
    "p = True\n",
    "q = False\n",
    "logical_and_result = p and q\n",
    "logical_or_result = p or q\n",
    "logical_not_result = not p\n",
    "\n",
    "print(logical_and_result)\n",
    "print(logical_or_result)\n",
    "print(logical_not_result)"
   ]
  },
  {
   "cell_type": "markdown",
   "id": "945e97af",
   "metadata": {},
   "source": [
    "### Assignment Operators:\n",
    "- =: Assigns the value on the right to the variable on the left.\n",
    "- +=: Adds the right operand to the left operand and assigns the - result to the left operand.\n",
    "- -=: Subtracts the right operand from the left operand and assigns the result to the left operand.\n",
    "- *=: Multiplies the left operand by the right operand and assigns the result to the left operand.\n",
    "- /=: Divides the left operand by the right operand and assigns the result to the left operand.\n",
    "- %=: Calculates the modulus of the left operand with the right operand and assigns the result to the left operand.\n",
    "- **=: Raises the left operand to the power of the right operand and assigns the result to the left operand.\n",
    "- //=: Performs floor division of the left operand by the right operand and assigns the result to the left operand."
   ]
  },
  {
   "cell_type": "code",
   "execution_count": 28,
   "id": "ec826bdb",
   "metadata": {},
   "outputs": [],
   "source": [
    "x = 5\n",
    "x += 2  # x is now 7\n",
    "x -= 3  # x is now 4\n",
    "x *= 2  # x is now 8\n",
    "x /= 4  # x is now 2.0\n",
    "x %= 3  # x is now 2.0 (remainder of 2.0 divided by 3)"
   ]
  },
  {
   "cell_type": "markdown",
   "id": "0235d286",
   "metadata": {},
   "source": [
    "### Conditional Statements:\n",
    "In Python, conditional statements are used to control the flow of a program based on certain conditions.\n",
    "\n",
    "##### if Statement:"
   ]
  },
  {
   "cell_type": "code",
   "execution_count": null,
   "id": "e6d5a820",
   "metadata": {},
   "outputs": [],
   "source": [
    "age = 20\n",
    "\n",
    "if age > 10 and age < 17:\n",
    "    print(\"You are in MYP 3.\")\n",
    "else:\n",
    "    print(\"You are not in MYP 3.\")\n",
    "\n",
    "# Here you can see depending upon the age value our program will print either the 1st or the 2nd sentence. As there are 2 sentence hence we are using if and else."
   ]
  },
  {
   "cell_type": "markdown",
   "id": "405b9078",
   "metadata": {},
   "source": [
    "##### if-elif-else Statement:"
   ]
  },
  {
   "cell_type": "code",
   "execution_count": 7,
   "id": "c6794dd7",
   "metadata": {},
   "outputs": [
    {
     "name": "stdout",
     "output_type": "stream",
     "text": [
      "It's moderate.\n"
     ]
    }
   ],
   "source": [
    "temperature = 25\n",
    "\n",
    "if temperature < 0:                             #1\n",
    "    print(\"It's freezing!\")                     \n",
    "elif temperature >= 0 and temperature <= 10:    #2\n",
    "    print(\"It's cold.\")\n",
    "elif temperature > 10 and temperature <= 25:    #3\n",
    "    print(\"It's moderate.\")\n",
    "else:                                           #4\n",
    "    print(\"It's hot.\")\n",
    "\n",
    "# Here as you can see there are 4 conditions hence we are using elif apart from if and else part.\n",
    "# As you can see else does not take any condition argument."
   ]
  },
  {
   "cell_type": "markdown",
   "id": "0494daf2",
   "metadata": {},
   "source": [
    "##### If you want to check all the condition irrespective of others then you can put if and not elif. If you put elif after if then code will not run through another line if any one of the condition is true.\n",
    "\n",
    "##### Nested-if Statement:\n",
    "When a if statement is inside another if statement then it is called a nested if statement"
   ]
  },
  {
   "cell_type": "code",
   "execution_count": 10,
   "id": "fdb71e9a",
   "metadata": {},
   "outputs": [
    {
     "name": "stdout",
     "output_type": "stream",
     "text": [
      "x is zero.\n"
     ]
    }
   ],
   "source": [
    "x = -0\n",
    "\n",
    "if x > 0:\n",
    "    if x % 2 == 0:                                  #check this line\n",
    "        print(\"x is a positive even number.\")\n",
    "    else:                                           #check here as well\n",
    "        print(\"x is a positive odd number.\")\n",
    "elif x < 0:\n",
    "    print(\"x is a negative number.\")\n",
    "else:\n",
    "    print(\"x is zero.\")\n",
    "# here inside if statement there is another if statement starts."
   ]
  },
  {
   "cell_type": "markdown",
   "id": "fabf1c28",
   "metadata": {},
   "source": [
    "#### For Loop:\n",
    "The for loop is used for iterating over a sequence (that is either a list, a tuple, a dictionary, a set, or a string)."
   ]
  },
  {
   "cell_type": "markdown",
   "id": "0624ab42",
   "metadata": {},
   "source": [
    "##### Structure of a for loop"
   ]
  },
  {
   "cell_type": "code",
   "execution_count": 2,
   "id": "f7d562bd",
   "metadata": {},
   "outputs": [
    {
     "name": "stdout",
     "output_type": "stream",
     "text": [
      "Lion\n",
      "Elephant\n",
      "Giraffe\n",
      "Tiger\n",
      "Cheetah\n",
      "Dolphin\n",
      "Penguin\n",
      "Koala\n",
      "Kangaroo\n",
      "Gorilla\n"
     ]
    }
   ],
   "source": [
    "# a list\n",
    "animals=[\"Lion\",\n",
    "\"Elephant\",\n",
    "\"Giraffe\",\n",
    "\"Tiger\",\n",
    "\"Cheetah\",\n",
    "\"Dolphin\",\n",
    "\"Penguin\",\n",
    "\"Koala\",\n",
    "\"Kangaroo\",\n",
    "\"Gorilla\"]\n",
    "for animal in animals:\n",
    "    print(animal)\n",
    "\n",
    "# here animal is a variable which holds the data of animals index wise. Each iteration holds a separate data."
   ]
  },
  {
   "cell_type": "code",
   "execution_count": 14,
   "id": "c6846e90",
   "metadata": {},
   "outputs": [
    {
     "name": "stdout",
     "output_type": "stream",
     "text": [
      "Lion\n",
      "Elephant\n",
      "Giraffe\n",
      "Tiger\n",
      "Cheetah\n",
      "Dolphin\n",
      "Penguin\n",
      "Koala\n",
      "Kangaroo\n",
      "Gorilla\n"
     ]
    }
   ],
   "source": [
    "# or we can use the below code as well\n",
    "for i in range(len(animals)):\n",
    "    print(animals[i])"
   ]
  },
  {
   "cell_type": "markdown",
   "id": "d5b4178d",
   "metadata": {},
   "source": [
    "#### While Loop:\n",
    "The while loop is used to repeatedly execute a block of statements as long as a condition is true."
   ]
  },
  {
   "cell_type": "code",
   "execution_count": 16,
   "id": "b3f764d8",
   "metadata": {},
   "outputs": [
    {
     "name": "stdout",
     "output_type": "stream",
     "text": [
      "0\n",
      "1\n",
      "2\n",
      "3\n",
      "4\n",
      "You typed: Quit\n"
     ]
    }
   ],
   "source": [
    "# Example 1: Simple while loop\n",
    "count = 0\n",
    "while count < 5:\n",
    "    print(count)\n",
    "    count += 1\n",
    "\n",
    "# Example 2: Loop with user input\n",
    "user_input = \"\"\n",
    "while user_input.lower() != \"quit\":\n",
    "    user_input = input(\"Type 'quit' to exit: \")\n",
    "    print(\"You typed:\", user_input)\n",
    "\n",
    "# as you can see the 1st while loop is a simple one. This while loop prints all the numbers from 0 to 5.\n",
    "# the second one is taking an input and will take and print input till user type quit."
   ]
  },
  {
   "cell_type": "markdown",
   "id": "42856a9b",
   "metadata": {},
   "source": [
    "### Functions: <br>\n",
    "A function in Python is a reusable block of code designed to perform a specific task. Functions allow for more organized, readable, and efficient code by enabling you to encapsulate code into a single unit that can be called multiple times.<br>\n",
    "\n",
    "<b>Key Components of a Function:</b>\n",
    "\n",
    "Function Name: A unique identifier to refer to the function.<br>\n",
    "Parameters (Optional): Variables that you pass into the function. These parameters act as inputs to the function.<br>\n",
    "Function Body: The block of code that defines what the function does. This code is executed when the function is called.<br>\n",
    "Return Statement (Optional): A statement that specifies what value the function should output. If no return statement is provided, the function returns None by default."
   ]
  },
  {
   "cell_type": "markdown",
   "id": "c96c6694",
   "metadata": {},
   "source": [
    "#### Examples of Functions"
   ]
  },
  {
   "cell_type": "code",
   "execution_count": null,
   "id": "83354df0",
   "metadata": {},
   "outputs": [],
   "source": [
    "# defining a function\n",
    "def greet():\n",
    "    print(\"Hello, welcome to Python Functions!\")\n",
    "\n",
    "# To use you have to call a function using below code\n",
    "greet()"
   ]
  },
  {
   "cell_type": "markdown",
   "id": "8eb45fc5",
   "metadata": {},
   "source": [
    "#### Function with Parameters:"
   ]
  },
  {
   "cell_type": "code",
   "execution_count": null,
   "id": "ec053115",
   "metadata": {},
   "outputs": [],
   "source": [
    "def add_numbers(a, b):\n",
    "    return a + b\n",
    "\n",
    "# calling the function\n",
    "result = add_numbers(5, 10)\n",
    "print(result)"
   ]
  },
  {
   "cell_type": "markdown",
   "id": "901f7cc7",
   "metadata": {},
   "source": [
    "### Squence Data Types"
   ]
  },
  {
   "cell_type": "markdown",
   "id": "216d9490",
   "metadata": {},
   "source": [
    "### List\n",
    "Definition: A list in Python is an ordered, mutable sequence of elements that can store a collection of items, which may include heterogeneous data types (e.g., integers, strings, or even other lists). Lists are denoted by square brackets [], and elements within the list are separated by commas.\n",
    "\n",
    "Syntax: [item1, item2, item3]"
   ]
  },
  {
   "cell_type": "code",
   "execution_count": null,
   "id": "96747501",
   "metadata": {},
   "outputs": [],
   "source": [
    "#Let's take an example:\n",
    "\n",
    "# empty list\n",
    "my_list=[]\n",
    "\n",
    "# list initialized with elements\n",
    "my_list=[1,2,3,4,5]"
   ]
  },
  {
   "cell_type": "markdown",
   "id": "e1089945",
   "metadata": {},
   "source": [
    "#### Key features\n",
    "Key Features:\n",
    "*   Ordered: Elements in a list have a defined order and can be accessed using an index (starting from 0).\n",
    "*   Mutable: Lists can be modified after creation (e.g., elements can be added, removed, or changed).\n",
    "*   Supports Duplicates: Lists allow duplicate values.\n",
    "*   Dynamic Size: Lists can grow or shrink dynamically as elements are added or removed.\n"
   ]
  },
  {
   "cell_type": "markdown",
   "id": "39cdd646",
   "metadata": {},
   "source": [
    "### <b>List Slicing</b>\n",
    "List slicing is a technique in Python used to extract a portion (or slice) of a list by specifying a range of indices. It allows you to access a subset of elements from the list without modifying the original list.\n",
    "\n",
    "<b>Syntax:</b> list_name[start:stop:step]\n",
    "\n",
    "*   start: The index where the slice begins (inclusive). If omitted, it defaults to 0.\n",
    "*   stop: The index where the slice ends (exclusive).\n",
    "*   step: The interval between elements to include in the slice. If omitted, it defaults to 1.\n",
    "\n",
    "### Examples\n"
   ]
  },
  {
   "cell_type": "code",
   "execution_count": 1,
   "id": "b8f1fa74",
   "metadata": {},
   "outputs": [
    {
     "name": "stdout",
     "output_type": "stream",
     "text": [
      "[20, 30, 40]\n",
      "[10, 20, 30]\n",
      "[10, 30, 50]\n",
      "[50, 40, 30, 20, 10]\n"
     ]
    }
   ],
   "source": [
    "my_list = [10, 20, 30, 40, 50]\n",
    "slice_1 = my_list[1:4]    # [20, 30, 40]\n",
    "slice_2 = my_list[:3]     # [10, 20, 30] (from the beginning)\n",
    "slice_3 = my_list[::2]    # [10, 30, 50] (every second element)\n",
    "slice_4 = my_list[::-1]   # [50, 40, 30, 20, 10] (reversed list)\n",
    "\n",
    "# printing all the slices\n",
    "print(slice_1)\n",
    "print(slice_2)\n",
    "print(slice_3)\n",
    "print(slice_4)"
   ]
  },
  {
   "cell_type": "code",
   "execution_count": 2,
   "id": "8df752bd",
   "metadata": {},
   "outputs": [
    {
     "data": {
      "text/plain": [
       "[50, 40, 30, 20, 10]"
      ]
     },
     "execution_count": 2,
     "metadata": {},
     "output_type": "execute_result"
    }
   ],
   "source": [
    "# reversing a list from right to left\n",
    "my_list[::-1]"
   ]
  },
  {
   "cell_type": "markdown",
   "id": "ba99090e",
   "metadata": {},
   "source": [
    "### Built-in Functions of List in Python\n",
    "\n",
    "Python provides several **built-in functions** to perform operations on lists. These functions help manipulate and access list elements efficiently.\n",
    "\n",
    "Here are some of the most commonly used **list built-in functions**:\n",
    "\n",
    "1. **`len()`**  \n",
    "   Returns the number of elements in the list.\n",
    "   ```python\n",
    "   my_list = [1, 2, 3, 4]\n",
    "   print(len(my_list))  # Output: 4\n",
    "   ```\n",
    "\n",
    "2. **`max()`**  \n",
    "   Returns the maximum value in the list.\n",
    "   ```python\n",
    "   my_list = [10, 20, 30]\n",
    "   print(max(my_list))  # Output: 30\n",
    "   ```\n",
    "\n",
    "3. **`min()`**  \n",
    "   Returns the minimum value in the list.\n",
    "   ```python\n",
    "   my_list = [10, 20, 30]\n",
    "   print(min(my_list))  # Output: 10\n",
    "   ```\n",
    "\n",
    "4. **`sum()`**  \n",
    "   Returns the sum of all numeric elements in the list.\n",
    "   ```python\n",
    "   my_list = [1, 2, 3]\n",
    "   print(sum(my_list))  # Output: 6\n",
    "   ```\n",
    "\n",
    "5. **`sorted()`**  \n",
    "   Returns a sorted version of the list without modifying the original list.\n",
    "   ```python\n",
    "   my_list = [3, 1, 4, 2]\n",
    "   print(sorted(my_list))  # Output: [1, 2, 3, 4]\n",
    "   ```\n",
    "\n",
    "6. **`list()`**  \n",
    "   Converts an iterable (such as a string or tuple) into a list.\n",
    "   ```python\n",
    "   my_str = \"abc\"\n",
    "   print(list(my_str))  # Output: ['a', 'b', 'c']\n",
    "   ```\n",
    "\n",
    "7. **`reversed()`**  \n",
    "   Returns an iterator that produces the elements of the list in reverse order.\n",
    "   ```python\n",
    "   my_list = [1, 2, 3]\n",
    "   print(list(reversed(my_list)))  # Output: [3, 2, 1]\n",
    "   ```\n",
    "### Testing code block is given below:"
   ]
  },
  {
   "cell_type": "code",
   "execution_count": null,
   "id": "31c21495",
   "metadata": {},
   "outputs": [],
   "source": []
  },
  {
   "cell_type": "markdown",
   "id": "a95cb977",
   "metadata": {},
   "source": [
    "### List Methods to Interact with Lists in Python\n",
    "\n",
    "Python provides various **list methods** that allow you to interact with and manipulate lists. These methods enable adding, removing, sorting, and modifying list elements.\n",
    "\n",
    "Here are some of the most commonly used **list methods**:\n",
    "\n",
    "1. **`append()`**  \n",
    "   Adds an element to the end of the list.\n",
    "   ```python\n",
    "   my_list = [1, 2, 3]\n",
    "   my_list.append(4)\n",
    "   print(my_list)  # Output: [1, 2, 3, 4]\n",
    "   ```\n",
    "\n",
    "2. **`extend()`**  \n",
    "   Extends the list by appending all elements from another iterable (e.g., another list).\n",
    "   ```python\n",
    "   my_list = [1, 2]\n",
    "   my_list.extend([3, 4])\n",
    "   print(my_list)  # Output: [1, 2, 3, 4]\n",
    "   ```\n",
    "\n",
    "3. **`insert()`**  \n",
    "   Inserts an element at a specified index.\n",
    "   ```python\n",
    "   my_list = [1, 2, 4]\n",
    "   my_list.insert(2, 3)  # Insert 3 at index 2\n",
    "   print(my_list)  # Output: [1, 2, 3, 4]\n",
    "   ```\n",
    "\n",
    "4. **`remove()`**  \n",
    "   Removes the first occurrence of a specified value.\n",
    "   ```python\n",
    "   my_list = [1, 2, 3, 4]\n",
    "   my_list.remove(3)\n",
    "   print(my_list)  # Output: [1, 2, 4]\n",
    "   ```\n",
    "\n",
    "5. **`pop()`**  \n",
    "   Removes and returns the element at a specified index (default is the last element).\n",
    "   ```python\n",
    "   my_list = [1, 2, 3, 4]\n",
    "   my_list.pop()  # Removes the last element\n",
    "   print(my_list)  # Output: [1, 2, 3]\n",
    "   ```\n",
    "\n",
    "6. **`clear()`**  \n",
    "   Removes all elements from the list.\n",
    "   ```python\n",
    "   my_list = [1, 2, 3]\n",
    "   my_list.clear()\n",
    "   print(my_list)  # Output: []\n",
    "   ```\n",
    "\n",
    "7. **`index()`**  \n",
    "   Returns the index of the first occurrence of a specified value.\n",
    "   ```python\n",
    "   my_list = [10, 20, 30]\n",
    "   print(my_list.index(20))  # Output: 1\n",
    "   ```\n",
    "\n",
    "8. **`count()`**  \n",
    "   Returns the number of occurrences of a specified value.\n",
    "   ```python\n",
    "   my_list = [1, 2, 2, 3]\n",
    "   print(my_list.count(2))  # Output: 2\n",
    "   ```\n",
    "\n",
    "9. **`sort()`**  \n",
    "   Sorts the list in ascending order (or descending order with `reverse=True`).\n",
    "   ```python\n",
    "   my_list = [3, 1, 2]\n",
    "   my_list.sort()\n",
    "   print(my_list)  # Output: [1, 2, 3]\n",
    "   ```\n",
    "\n",
    "10. **`reverse()`**  \n",
    "    Reverses the elements of the list in place.\n",
    "    ```python\n",
    "    my_list = [1, 2, 3]\n",
    "    my_list.reverse()\n",
    "    print(my_list)  # Output: [3, 2, 1]\n",
    "    ```\n",
    "\n",
    "### Testing code block is given below:"
   ]
  },
  {
   "cell_type": "code",
   "execution_count": null,
   "id": "2f4fb995",
   "metadata": {},
   "outputs": [],
   "source": []
  },
  {
   "cell_type": "markdown",
   "id": "e13c8c55",
   "metadata": {},
   "source": [
    "### Notes on Blocking Bad Input in Python\n",
    "\n",
    "When writing programs, it's essential to handle user inputs properly to prevent errors, unwanted behavior, or crashes. Python provides several ways to block or handle invalid inputs effectively.\n",
    "\n",
    "#### 1. **Using `try-except` for Error Handling**\n",
    "\n",
    "The `try-except` block is commonly used to handle errors, especially for type-related issues when expecting specific input formats, like numbers.\n",
    "\n",
    "#### Example: Blocking Non-Numeric Input\n",
    "\n",
    "```python\n",
    "    try:\n",
    "        number = int(input(\"Enter a number: \"))\n",
    "        print(f\"{number} is a valid number!\")\n",
    "    except ValueError:\n",
    "        print(\"Invalid input! Please enter a number.\")\n",
    "```\n",
    "\n",
    "In this example:\n",
    "- The `try` block attempts to convert the input to an integer.\n",
    "- The `except` block catches the `ValueError` (which occurs when the input is not a valid number) and displays an error message.\n",
    "\n",
    "#### 2. **Checking String Inputs**\n",
    "\n",
    "To block invalid string inputs, you can add custom logic to check for specific conditions (e.g., only allowing alphabetic characters).\n",
    "\n",
    "#### Example: Blocking Numeric Input When Expecting Strings\n",
    "\n",
    "```python\n",
    "while True:\n",
    "    name = input(\"Enter your name: \")\n",
    "    if name.isalpha():\n",
    "        print(f\"Hello, {name}!\")\n",
    "        break\n",
    "    else:\n",
    "        print(\"Invalid input! Please enter only letters.\")\n",
    "```\n",
    "\n",
    "Here:\n",
    "- `name.isalpha()` ensures that only alphabetic characters are accepted.\n",
    "- If the input contains numbers or special characters, the user is prompted again.\n",
    "\n",
    "#### 3. **Validating Input Ranges or Conditions**\n",
    "\n",
    "If you're expecting input within a certain range (e.g., age), you can add additional checks to ensure the input falls within the expected limits.\n",
    "\n",
    "#### Example: Validating Age Input\n",
    "\n",
    "```python\n",
    "while True:\n",
    "    try:\n",
    "        age = int(input(\"Enter your age: \"))\n",
    "        if 0 <= age <= 120:  # Valid age range\n",
    "            print(f\"Your age is {age}\")\n",
    "            break\n",
    "        else:\n",
    "            print(\"Please enter a valid age between 0 and 120.\")\n",
    "    except ValueError:\n",
    "        print(\"Invalid input! Please enter a numeric value for age.\")\n",
    "```\n",
    "\n",
    "#### 4. **Looping Until Valid Input**\n",
    "\n",
    "The common pattern is to loop until valid input is provided by the user. Combining loops with `try-except` blocks ensures that the program keeps asking for input until the user provides valid data.\n",
    "\n",
    "### Key Points:\n",
    "- **`try-except`**: Essential for catching and handling errors like invalid types.\n",
    "- **`input validation`**: Functions like `isalpha()` or custom conditions allow you to filter out unwanted inputs.\n",
    "- **`while loops`**: Effective for repeating input prompts until the user enters valid data.\n",
    "\n",
    "### Benefits of Blocking Bad Input:\n",
    "- **Improves User Experience**: Clear feedback is provided when the user enters invalid data.\n",
    "- **Prevents Crashes**: Proper error handling avoids program termination due to unexpected input.\n",
    "- **Increases Program Robustness**: Ensures that your program works under various input conditions.\n",
    "\n",
    "### Testing code block is given below:"
   ]
  },
  {
   "cell_type": "code",
   "execution_count": 3,
   "id": "e194b2d8",
   "metadata": {},
   "outputs": [
    {
     "name": "stdout",
     "output_type": "stream",
     "text": [
      "44 is a valid number!\n"
     ]
    }
   ],
   "source": [
    "try:\n",
    "    number = int(input(\"Enter a number: \"))\n",
    "    print(f\"{number} is a valid number!\")\n",
    "except ValueError:\n",
    "    print(\"Invalid input! Please enter a number.\")"
   ]
  },
  {
   "cell_type": "markdown",
   "id": "6d489db0",
   "metadata": {},
   "source": [
    "### Notes on Various Types of Errors Caught Using `try-except` in Python\n",
    "\n",
    "In Python, the `try-except` block is used for handling exceptions, which are errors that occur during program execution. Instead of the program crashing, you can gracefully handle these exceptions using the `try-except` mechanism. Here are some common types of errors (exceptions) that can be caught using this block:\n",
    "\n",
    "---\n",
    "\n",
    "### 1. **`ValueError`**\n",
    "Occurs when an operation or function receives an argument of the right type but an inappropriate value.\n",
    "\n",
    "#### Example:\n",
    "```python\n",
    "try:\n",
    "    number = int(\"abc\")  # Cannot convert a non-numeric string to integer\n",
    "except ValueError:\n",
    "    print(\"Invalid conversion! Please provide a valid number.\")\n",
    "```\n",
    "- **Occurs**: When input is the wrong value but of the correct type.\n",
    "\n",
    "---\n",
    "\n",
    "### 2. **`TypeError`**\n",
    "Raised when an operation or function is applied to an object of inappropriate type.\n",
    "\n",
    "#### Example:\n",
    "```python\n",
    "try:\n",
    "    result = \"10\" + 5  # You can't add a string and an integer\n",
    "except TypeError:\n",
    "    print(\"Incompatible types! You cannot add a string and a number.\")\n",
    "```\n",
    "- **Occurs**: When operations are performed between incompatible data types.\n",
    "\n",
    "---\n",
    "\n",
    "### 3. **`IndexError`**\n",
    "Triggered when you attempt to access an index that is out of the range of a list or another sequence type (like a string or tuple).\n",
    "\n",
    "#### Example:\n",
    "```python\n",
    "try:\n",
    "    items = [1, 2, 3]\n",
    "    print(items[5])  # Index 5 does not exist in the list\n",
    "except IndexError:\n",
    "    print(\"Index out of range!\")\n",
    "```\n",
    "- **Occurs**: When trying to access an element at an index that doesn't exist.\n",
    "\n",
    "---\n",
    "\n",
    "### 4. **`KeyError`**\n",
    "Raised when trying to access a dictionary key that doesn’t exist.\n",
    "\n",
    "#### Example:\n",
    "```python\n",
    "try:\n",
    "    my_dict = {\"name\": \"Alice\"}\n",
    "    print(my_dict[\"age\"])  # No such key \"age\"\n",
    "except KeyError:\n",
    "    print(\"Key not found in the dictionary!\")\n",
    "```\n",
    "- **Occurs**: When a requested key is not present in the dictionary.\n",
    "\n",
    "---\n",
    "\n",
    "### 5. **`ZeroDivisionError`**\n",
    "Occurs when a number is divided by zero.\n",
    "\n",
    "#### Example:\n",
    "```python\n",
    "try:\n",
    "    result = 10 / 0  # Division by zero is not allowed\n",
    "except ZeroDivisionError:\n",
    "    print(\"Cannot divide by zero!\")\n",
    "```\n",
    "- **Occurs**: When a number is divided by zero.\n",
    "\n",
    "---\n",
    "\n",
    "### 6. **`FileNotFoundError`**\n",
    "Raised when attempting to open a file that does not exist.\n",
    "\n",
    "#### Example:\n",
    "```python\n",
    "try:\n",
    "    file = open(\"non_existent_file.txt\")\n",
    "except FileNotFoundError:\n",
    "    print(\"The file does not exist!\")\n",
    "```\n",
    "- **Occurs**: When a file that is being accessed does not exist.\n",
    "\n",
    "---\n",
    "\n",
    "### 7. **`AttributeError`**\n",
    "Triggered when an invalid attribute reference is made, or an attribute that doesn’t exist is accessed.\n",
    "\n",
    "#### Example:\n",
    "```python\n",
    "try:\n",
    "    obj = None\n",
    "    obj.some_method()  # None object has no attribute 'some_method'\n",
    "except AttributeError:\n",
    "    print(\"The object has no such attribute!\")\n",
    "```\n",
    "- **Occurs**: When accessing a method or attribute that doesn't exist in the object.\n",
    "\n",
    "---\n",
    "\n",
    "### 8. **`ImportError` / `ModuleNotFoundError`**\n",
    "Occurs when a module cannot be found or an import fails.\n",
    "\n",
    "#### Example:\n",
    "```python\n",
    "try:\n",
    "    import non_existent_module\n",
    "except ImportError:\n",
    "    print(\"Module not found!\")\n",
    "```\n",
    "- **Occurs**: When the specified module or package cannot be imported.\n",
    "\n",
    "---\n",
    "\n",
    "### 9. **`NameError`**\n",
    "Raised when a local or global name is not found.\n",
    "\n",
    "#### Example:\n",
    "```python\n",
    "try:\n",
    "    print(unknown_variable)  # The variable is not defined\n",
    "except NameError:\n",
    "    print(\"Variable is not defined!\")\n",
    "```\n",
    "- **Occurs**: When a variable or function that doesn’t exist is accessed.\n",
    "\n",
    "---\n",
    "\n",
    "### 10. **`OverflowError`**\n",
    "Happens when a result is too large to be represented in a particular numeric type.\n",
    "\n",
    "#### Example:\n",
    "```python\n",
    "try:\n",
    "    result = float('inf') * 1e308  # Exceeds the limit of floating-point representation\n",
    "except OverflowError:\n",
    "    print(\"The number is too large!\")\n",
    "```\n",
    "- **Occurs**: When a calculation exceeds the limits of the numeric type.\n",
    "\n",
    "---\n",
    "\n",
    "### 11. **`IOError`**\n",
    "Raised when an I/O operation fails. It can happen when trying to read/write files or work with input/output streams.\n",
    "\n",
    "#### Example:\n",
    "```python\n",
    "try:\n",
    "    with open(\"non_existent_file.txt\", 'r') as f:\n",
    "        data = f.read()\n",
    "except IOError:\n",
    "    print(\"I/O operation failed!\")\n",
    "```\n",
    "- **Occurs**: When a file or input/output operation fails.\n",
    "\n",
    "---\n",
    "\n",
    "### 12. **`RuntimeError`**\n",
    "General error that occurs during the program’s execution, typically when no specific error type matches the issue.\n",
    "\n",
    "#### Example:\n",
    "```python\n",
    "try:\n",
    "    raise RuntimeError(\"Unexpected runtime error occurred!\")\n",
    "except RuntimeError:\n",
    "    print(\"A runtime error occurred!\")\n",
    "```\n",
    "- **Occurs**: When a general error condition is encountered.\n",
    "\n",
    "---\n",
    "\n",
    "### 13. **`SyntaxError`**\n",
    "Occurs when Python encounters incorrect syntax, although this is typically caught during compilation and may not be handled with `try-except`.\n",
    "\n",
    "#### Example:\n",
    "```python\n",
    "try:\n",
    "    exec('print \"Hello\"')  # Missing parentheses in Python 3\n",
    "except SyntaxError:\n",
    "    print(\"There is a syntax error!\")\n",
    "```\n",
    "- **Occurs**: When the code is not written according to Python's syntax rules.\n",
    "\n",
    "---\n",
    "\n",
    "### General Syntax for Handling Multiple Errors:\n",
    "You can catch multiple errors by specifying multiple exception types in a single `except` clause.\n",
    "\n",
    "```python\n",
    "try:\n",
    "    # Some operation\n",
    "except (TypeError, ValueError):\n",
    "    print(\"Caught a TypeError or ValueError.\")\n",
    "```\n",
    "\n",
    "---\n",
    "\n",
    "### Key Points:\n",
    "- **`try-except` blocks**: Essential for catching and handling runtime errors.\n",
    "- **Multiple exception handling**: You can catch specific exceptions and handle them accordingly.\n",
    "- **Graceful error handling**: Prevents the program from crashing and provides helpful feedback to the user.\n",
    "\n",
    "By effectively using `try-except` blocks, you can make your Python programs more robust, resilient to errors, and user-friendly.\n",
    "\n",
    "### Testing code block is given below:"
   ]
  },
  {
   "cell_type": "code",
   "execution_count": null,
   "id": "2e9827d7",
   "metadata": {},
   "outputs": [],
   "source": []
  },
  {
   "cell_type": "markdown",
   "id": "48c5ea93",
   "metadata": {},
   "source": []
  }
 ],
 "metadata": {
  "kernelspec": {
   "display_name": "base",
   "language": "python",
   "name": "python3"
  },
  "language_info": {
   "codemirror_mode": {
    "name": "ipython",
    "version": 3
   },
   "file_extension": ".py",
   "mimetype": "text/x-python",
   "name": "python",
   "nbconvert_exporter": "python",
   "pygments_lexer": "ipython3",
   "version": "3.12.2"
  }
 },
 "nbformat": 4,
 "nbformat_minor": 5
}
