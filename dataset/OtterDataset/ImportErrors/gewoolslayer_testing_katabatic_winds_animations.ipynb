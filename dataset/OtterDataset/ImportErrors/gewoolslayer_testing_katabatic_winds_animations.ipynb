{
 "cells": [
  {
   "cell_type": "code",
   "execution_count": 1,
   "id": "dd646d3f-176b-457e-a5ae-3fc4126cfdce",
   "metadata": {},
   "outputs": [],
   "source": [
    "#animations "
   ]
  },
  {
   "cell_type": "code",
   "execution_count": 9,
   "id": "494ac964-30cc-4c59-98f0-c14474cdbb34",
   "metadata": {},
   "outputs": [],
   "source": [
    "import warnings\n",
    "\n",
    "import matplotlib.pyplot as plt\n",
    "import xarray as xr\n",
    "from shapely.errors import ShapelyDeprecationWarning\n",
    "from xmovie import Movie\n",
    "\n",
    "warnings.filterwarnings(\n",
    "    action='ignore',\n",
    "    category=ShapelyDeprecationWarning,  # in cartopy\n",
    ")\n",
    "warnings.filterwarnings(\n",
    "    action=\"ignore\",\n",
    "    category=UserWarning,\n",
    "    message=r\"No `(vmin|vmax)` provided. Data limits are calculated from input. Depending on the input this can take long. Pass `\\1` to avoid this step\"\n",
    ")\n",
    "\n"
   ]
  },
  {
   "cell_type": "code",
   "execution_count": 11,
   "id": "fe38747c-d082-481a-9890-68816000af45",
   "metadata": {},
   "outputs": [
    {
     "ename": "ImportError",
     "evalue": "tutorial.open_dataset depends on pooch to download and manage datasets. To proceed please install pooch.",
     "output_type": "error",
     "traceback": [
      "\u001b[0;31m---------------------------------------------------------------------------\u001b[0m",
      "\u001b[0;31mModuleNotFoundError\u001b[0m                       Traceback (most recent call last)",
      "File \u001b[0;32m~/miniconda3/envs/occ_basic/lib/python3.9/site-packages/xarray/tutorial.py:126\u001b[0m, in \u001b[0;36mopen_dataset\u001b[0;34m(name, cache, cache_dir, engine, **kws)\u001b[0m\n\u001b[1;32m    125\u001b[0m \u001b[38;5;28;01mtry\u001b[39;00m:\n\u001b[0;32m--> 126\u001b[0m     \u001b[38;5;28;01mimport\u001b[39;00m \u001b[38;5;21;01mpooch\u001b[39;00m\n\u001b[1;32m    127\u001b[0m \u001b[38;5;28;01mexcept\u001b[39;00m \u001b[38;5;167;01mImportError\u001b[39;00m \u001b[38;5;28;01mas\u001b[39;00m e:\n",
      "\u001b[0;31mModuleNotFoundError\u001b[0m: No module named 'pooch'",
      "\nThe above exception was the direct cause of the following exception:\n",
      "\u001b[0;31mImportError\u001b[0m                               Traceback (most recent call last)",
      "Cell \u001b[0;32mIn[11], line 2\u001b[0m\n\u001b[1;32m      1\u001b[0m \u001b[38;5;66;03m# Load test dataset\u001b[39;00m\n\u001b[0;32m----> 2\u001b[0m ds \u001b[38;5;241m=\u001b[39m \u001b[43mxr\u001b[49m\u001b[38;5;241;43m.\u001b[39;49m\u001b[43mtutorial\u001b[49m\u001b[38;5;241;43m.\u001b[39;49m\u001b[43mopen_dataset\u001b[49m\u001b[43m(\u001b[49m\u001b[38;5;124;43m'\u001b[39;49m\u001b[38;5;124;43mair_temperature\u001b[39;49m\u001b[38;5;124;43m'\u001b[39;49m\u001b[43m)\u001b[49m\u001b[38;5;241m.\u001b[39misel(time\u001b[38;5;241m=\u001b[39m\u001b[38;5;28mslice\u001b[39m(\u001b[38;5;241m0\u001b[39m, \u001b[38;5;241m150\u001b[39m))\n\u001b[1;32m      4\u001b[0m \u001b[38;5;66;03m# Create movie object\u001b[39;00m\n\u001b[1;32m      5\u001b[0m mov \u001b[38;5;241m=\u001b[39m Movie(ds\u001b[38;5;241m.\u001b[39mair)\n",
      "File \u001b[0;32m~/miniconda3/envs/occ_basic/lib/python3.9/site-packages/xarray/tutorial.py:128\u001b[0m, in \u001b[0;36mopen_dataset\u001b[0;34m(name, cache, cache_dir, engine, **kws)\u001b[0m\n\u001b[1;32m    126\u001b[0m     \u001b[38;5;28;01mimport\u001b[39;00m \u001b[38;5;21;01mpooch\u001b[39;00m\n\u001b[1;32m    127\u001b[0m \u001b[38;5;28;01mexcept\u001b[39;00m \u001b[38;5;167;01mImportError\u001b[39;00m \u001b[38;5;28;01mas\u001b[39;00m e:\n\u001b[0;32m--> 128\u001b[0m     \u001b[38;5;28;01mraise\u001b[39;00m \u001b[38;5;167;01mImportError\u001b[39;00m(\n\u001b[1;32m    129\u001b[0m         \u001b[38;5;124m\"\u001b[39m\u001b[38;5;124mtutorial.open_dataset depends on pooch to download and manage datasets.\u001b[39m\u001b[38;5;124m\"\u001b[39m\n\u001b[1;32m    130\u001b[0m         \u001b[38;5;124m\"\u001b[39m\u001b[38;5;124m To proceed please install pooch.\u001b[39m\u001b[38;5;124m\"\u001b[39m\n\u001b[1;32m    131\u001b[0m     ) \u001b[38;5;28;01mfrom\u001b[39;00m \u001b[38;5;21;01me\u001b[39;00m\n\u001b[1;32m    133\u001b[0m logger \u001b[38;5;241m=\u001b[39m pooch\u001b[38;5;241m.\u001b[39mget_logger()\n\u001b[1;32m    134\u001b[0m logger\u001b[38;5;241m.\u001b[39msetLevel(\u001b[38;5;124m\"\u001b[39m\u001b[38;5;124mWARNING\u001b[39m\u001b[38;5;124m\"\u001b[39m)\n",
      "\u001b[0;31mImportError\u001b[0m: tutorial.open_dataset depends on pooch to download and manage datasets. To proceed please install pooch."
     ]
    }
   ],
   "source": [
    "# Load test dataset\n",
    "ds = xr.tutorial.open_dataset('air_temperature').isel(time=slice(0, 150))\n",
    "\n",
    "# Create movie object\n",
    "mov = Movie(ds.air)"
   ]
  },
  {
   "cell_type": "code",
   "execution_count": null,
   "id": "d95e3bf2-fd80-4923-b4a1-db03ac1daafe",
   "metadata": {},
   "outputs": [],
   "source": []
  }
 ],
 "metadata": {
  "kernelspec": {
   "display_name": "Python 3 (ipykernel)",
   "language": "python",
   "name": "python3"
  },
  "language_info": {
   "codemirror_mode": {
    "name": "ipython",
    "version": 3
   },
   "file_extension": ".py",
   "mimetype": "text/x-python",
   "name": "python",
   "nbconvert_exporter": "python",
   "pygments_lexer": "ipython3",
   "version": "3.9.19"
  }
 },
 "nbformat": 4,
 "nbformat_minor": 5
}
