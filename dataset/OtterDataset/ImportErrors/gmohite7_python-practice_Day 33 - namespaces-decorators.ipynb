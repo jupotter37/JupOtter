{
 "cells": [
  {
   "cell_type": "markdown",
   "metadata": {},
   "source": [
    "#### Namespaces & Scope\n",
    "\n",
    "Containers for identifiers(names) and objects akin to dictionaries\n",
    "\n",
    "Scope is a context for variable access"
   ]
  },
  {
   "cell_type": "code",
   "execution_count": null,
   "metadata": {},
   "outputs": [],
   "source": [
    "Types of Namespaces:\n",
    "\n",
    "+---------------------------------------------------------------+-----------------------------------------+   \n",
    "|                           Namespace                           |                 Example                 |\n",
    "+---------------------------------------------------------------+-----------------------------------------+   \n",
    "|                                                               |                                         |\n",
    "| 1. Global Namespace                                           | x = 10  # Global                        |\n",
    "|                                                               | def func():                             |\n",
    "| Scope ---> Top-level.                                         |     print(x)  # 10                      |\n",
    "|                                                               |                                         |\n",
    "| Accessible everywhere unless shadowed.                        |                                         |\n",
    "|                                                               |                                         |\n",
    "+---------------------------------------------------------------+-----------------------------------------+   \n",
    "|                                                               |                                         |\n",
    "| 2. Local Namespace                                            | def func():                             |\n",
    "|                                                               |     y = 5  # Local                      |\n",
    "| Scope ---> Function-specific.                                 |     print(y)  # 5                       |\n",
    "|                                                               |                                         |\n",
    "| Created during function call & Destroyed after function call. |                                         |\n",
    "|                                                               |                                         |\n",
    "+---------------------------------------------------------------+-----------------------------------------+   \n",
    "|                                                               |                                         |\n",
    "| 3. Enclosing Namespace                                        | def outer():                            |\n",
    "|                                                               |     z = 20                              |\n",
    "| Scope ---> Outer function for nested functions.               |     def inner():                        |\n",
    "|                                                               |         print(z)  # 20                  |\n",
    "| Outer function's scope accessible to inner functions.         |                                         |\n",
    "|                                                               |                                         |\n",
    "+---------------------------------------------------------------+-----------------------------------------+   \n",
    "|                                                               |                                         |\n",
    "| 4. Builtin Namespace                                          | print(len([1, 2, 3]))  # Built-in len() |\n",
    "|                                                               |                                         |\n",
    "| Scope ---> Predefined names (e.g., functions, modules).       |                                         |\n",
    "|                                                               |                                         |\n",
    "| Always accessible.                                            |                                         |\n",
    "|                                                               |                                         |\n",
    "+---------------------------------------------------------------+-----------------------------------------+ "
   ]
  },
  {
   "cell_type": "markdown",
   "metadata": {},
   "source": [
    "#### Scope and LEGB Rule\n",
    "\n",
    "LEGB Rule\n",
    "\n",
    "1. Local variables in function\n",
    "2. Enclosing Variables in nested functions\n",
    "3. Global : Top/level module script variables\n",
    "4. Builtin : PRedefined names in Python"
   ]
  },
  {
   "cell_type": "code",
   "execution_count": null,
   "metadata": {},
   "outputs": [],
   "source": [
    "Details:\n",
    "\n",
    "+---------------------------------+---------------------------------------------+   \n",
    "|              Scope              |                   Example                   |\n",
    "+---------------------------------+---------------------------------------------+\n",
    "|                                 |                                             |\n",
    "| 1. Local                        | def outer():                                |\n",
    "|                                 |     x = \"enclosing\"                         |\n",
    "| Scope ---> Innermost function.  |     def inner():                            |\n",
    "|                                 |         x = \"local\"                         |\n",
    "| Checked first.                  |         print(x)  # local                   |\n",
    "|                                 |     inner()                                 |\n",
    "|                                 |                                             |\n",
    "+---------------------------------+---------------------------------------------+\n",
    "|                                 |                                             |\n",
    "| 2. Enclosing                    | def outer():                                |\n",
    "|                                 |     x = \"enclosing\"                         |\n",
    "| Scope ---> Outer function.      |     def inner():                            |\n",
    "|                                 |         print(x)  # enclosing               |\n",
    "| Checked after local.            |     inner()                                 |\n",
    "|                                 |                                             |\n",
    "+---------------------------------+---------------------------------------------+\n",
    "|                                 |                                             |\n",
    "| 3. Global                       | x = \"global\"                                |\n",
    "|                                 | def func():                                 |\n",
    "| Scope ---> Module/script-level. |     print(x)  # global                      |\n",
    "|                                 |                                             |\n",
    "| Checked after enclosing.        |                                             |\n",
    "|                                 |                                             |\n",
    "+---------------------------------+---------------------------------------------+\n",
    "|                                 |                                             |\n",
    "| 4. Built-in                     | def func():                                 |\n",
    "|                                 |     print(len([1, 2, 3]))  # built-in len() |\n",
    "| Scope ---> Python's built-ins.  |                                             |\n",
    "|                                 |                                             |\n",
    "| Checked last.                   |                                             |\n",
    "|                                 |                                             |\n",
    "+---------------------------------+---------------------------------------------+\n",
    "|                                 |                                             |\n",
    "| Unresolved Names                | def func():                                 |\n",
    "|                                 |     print(x)  # NameError                   |\n",
    "| `NameError` if name not found.  |                                             |\n",
    "|                                 |                                             |\n",
    "+---------------------------------+---------------------------------------------+"
   ]
  },
  {
   "cell_type": "code",
   "execution_count": 2,
   "metadata": {},
   "outputs": [
    {
     "name": "stdout",
     "output_type": "stream",
     "text": [
      "3\n",
      "2\n"
     ]
    }
   ],
   "source": [
    "# Global $ Local variables\n",
    "\n",
    "a = 2 # Global\n",
    "\n",
    "def temp():\n",
    "    b = 3 # Local\n",
    "    print(b)\n",
    "\n",
    "temp()\n",
    "print(a)"
   ]
  },
  {
   "cell_type": "code",
   "execution_count": 3,
   "metadata": {},
   "outputs": [
    {
     "ename": "NameError",
     "evalue": "name 'b' is not defined",
     "output_type": "error",
     "traceback": [
      "\u001b[0;31m---------------------------------------------------------------------------\u001b[0m",
      "\u001b[0;31mNameError\u001b[0m                                 Traceback (most recent call last)",
      "Cell \u001b[0;32mIn[3], line 8\u001b[0m\n\u001b[1;32m      5\u001b[0m     a \u001b[38;5;241m=\u001b[39m \u001b[38;5;241m3\u001b[39m \u001b[38;5;66;03m# Local\u001b[39;00m\n\u001b[1;32m      6\u001b[0m     \u001b[38;5;28mprint\u001b[39m(b)\n\u001b[0;32m----> 8\u001b[0m \u001b[43mtemp\u001b[49m\u001b[43m(\u001b[49m\u001b[43m)\u001b[49m\n\u001b[1;32m      9\u001b[0m \u001b[38;5;28mprint\u001b[39m(a)\n",
      "Cell \u001b[0;32mIn[3], line 6\u001b[0m, in \u001b[0;36mtemp\u001b[0;34m()\u001b[0m\n\u001b[1;32m      4\u001b[0m \u001b[38;5;28;01mdef\u001b[39;00m \u001b[38;5;21mtemp\u001b[39m():\n\u001b[1;32m      5\u001b[0m     a \u001b[38;5;241m=\u001b[39m \u001b[38;5;241m3\u001b[39m \u001b[38;5;66;03m# Local\u001b[39;00m\n\u001b[0;32m----> 6\u001b[0m     \u001b[38;5;28mprint\u001b[39m(\u001b[43mb\u001b[49m)\n",
      "\u001b[0;31mNameError\u001b[0m: name 'b' is not defined"
     ]
    }
   ],
   "source": [
    "# Variables with the same name\n",
    "\n",
    "a = 2 # Global\n",
    "def temp():\n",
    "    a = 3 # Local\n",
    "    print(b)\n",
    "\n",
    "temp()\n",
    "print(a)"
   ]
  },
  {
   "cell_type": "code",
   "execution_count": 4,
   "metadata": {},
   "outputs": [
    {
     "name": "stdout",
     "output_type": "stream",
     "text": [
      "2\n",
      "2\n"
     ]
    }
   ],
   "source": [
    "# Global vs Local\n",
    "\n",
    "a = 2 # Global\n",
    "\n",
    "def temp():\n",
    "    # Access global 'a'\n",
    "    print(a)\n",
    "\n",
    "temp()\n",
    "print(a)"
   ]
  },
  {
   "cell_type": "code",
   "execution_count": 5,
   "metadata": {},
   "outputs": [
    {
     "ename": "UnboundLocalError",
     "evalue": "cannot access local variable 'a' where it is not associated with a value",
     "output_type": "error",
     "traceback": [
      "\u001b[0;31m---------------------------------------------------------------------------\u001b[0m",
      "\u001b[0;31mUnboundLocalError\u001b[0m                         Traceback (most recent call last)",
      "Cell \u001b[0;32mIn[5], line 9\u001b[0m\n\u001b[1;32m      6\u001b[0m     a \u001b[38;5;241m+\u001b[39m\u001b[38;5;241m=\u001b[39m \u001b[38;5;241m1\u001b[39m \u001b[38;5;66;03m# Modifying global\u001b[39;00m\n\u001b[1;32m      7\u001b[0m     \u001b[38;5;28mprint\u001b[39m(a)\n\u001b[0;32m----> 9\u001b[0m \u001b[43mtemp\u001b[49m\u001b[43m(\u001b[49m\u001b[43m)\u001b[49m\n\u001b[1;32m     10\u001b[0m \u001b[38;5;28mprint\u001b[39m(a)\n",
      "Cell \u001b[0;32mIn[5], line 6\u001b[0m, in \u001b[0;36mtemp\u001b[0;34m()\u001b[0m\n\u001b[1;32m      5\u001b[0m \u001b[38;5;28;01mdef\u001b[39;00m \u001b[38;5;21mtemp\u001b[39m():\n\u001b[0;32m----> 6\u001b[0m     \u001b[43ma\u001b[49m \u001b[38;5;241m+\u001b[39m\u001b[38;5;241m=\u001b[39m \u001b[38;5;241m1\u001b[39m \u001b[38;5;66;03m# Modifying global\u001b[39;00m\n\u001b[1;32m      7\u001b[0m     \u001b[38;5;28mprint\u001b[39m(a)\n",
      "\u001b[0;31mUnboundLocalError\u001b[0m: cannot access local variable 'a' where it is not associated with a value"
     ]
    }
   ],
   "source": [
    "# Modifying Global variable\n",
    "\n",
    "a = 2\n",
    "\n",
    "def temp():\n",
    "    a += 1 # Modifying global\n",
    "    print(a)\n",
    "\n",
    "temp()\n",
    "print(a)"
   ]
  },
  {
   "cell_type": "code",
   "execution_count": 6,
   "metadata": {},
   "outputs": [
    {
     "name": "stdout",
     "output_type": "stream",
     "text": [
      "3\n",
      "3\n"
     ]
    }
   ],
   "source": [
    "a = 2\n",
    "\n",
    "def temp():\n",
    "    global a\n",
    "    a += 1\n",
    "    print(a)\n",
    "\n",
    "temp()\n",
    "print(a)"
   ]
  },
  {
   "cell_type": "code",
   "execution_count": 7,
   "metadata": {},
   "outputs": [
    {
     "name": "stdout",
     "output_type": "stream",
     "text": [
      "5\n",
      "5\n"
     ]
    },
    {
     "ename": "NameError",
     "evalue": "name 'z' is not defined",
     "output_type": "error",
     "traceback": [
      "\u001b[0;31m---------------------------------------------------------------------------\u001b[0m",
      "\u001b[0;31mNameError\u001b[0m                                 Traceback (most recent call last)",
      "Cell \u001b[0;32mIn[7], line 10\u001b[0m\n\u001b[1;32m      7\u001b[0m temp(\u001b[38;5;241m5\u001b[39m)\n\u001b[1;32m      9\u001b[0m \u001b[38;5;28mprint\u001b[39m(a)\n\u001b[0;32m---> 10\u001b[0m \u001b[38;5;28mprint\u001b[39m(\u001b[43mz\u001b[49m)\n",
      "\u001b[0;31mNameError\u001b[0m: name 'z' is not defined"
     ]
    }
   ],
   "source": [
    "# Function local variable\n",
    "\n",
    "def temp(z): # z is local to temp()\n",
    "    print(z)\n",
    "\n",
    "a = 5\n",
    "temp(5)\n",
    "\n",
    "print(a)\n",
    "print(z)"
   ]
  },
  {
   "cell_type": "markdown",
   "metadata": {},
   "source": [
    "#### Built in scope\n",
    "\n",
    "* Python offers built in functions (e.g print) without imports\n",
    "* Part of the built in scope,automatically included in Python"
   ]
  },
  {
   "cell_type": "code",
   "execution_count": 8,
   "metadata": {},
   "outputs": [
    {
     "name": "stdout",
     "output_type": "stream",
     "text": [
      "['ArithmeticError', 'AssertionError', 'AttributeError', 'BaseException', 'BaseExceptionGroup', 'BlockingIOError', 'BrokenPipeError', 'BufferError', 'BytesWarning', 'ChildProcessError', 'ConnectionAbortedError', 'ConnectionError', 'ConnectionRefusedError', 'ConnectionResetError', 'DeprecationWarning', 'EOFError', 'Ellipsis', 'EncodingWarning', 'EnvironmentError', 'Exception', 'ExceptionGroup', 'False', 'FileExistsError', 'FileNotFoundError', 'FloatingPointError', 'FutureWarning', 'GeneratorExit', 'IOError', 'ImportError', 'ImportWarning', 'IndentationError', 'IndexError', 'InterruptedError', 'IsADirectoryError', 'KeyError', 'KeyboardInterrupt', 'LookupError', 'MemoryError', 'ModuleNotFoundError', 'NameError', 'None', 'NotADirectoryError', 'NotImplemented', 'NotImplementedError', 'OSError', 'OverflowError', 'PendingDeprecationWarning', 'PermissionError', 'ProcessLookupError', 'RecursionError', 'ReferenceError', 'ResourceWarning', 'RuntimeError', 'RuntimeWarning', 'StopAsyncIteration', 'StopIteration', 'SyntaxError', 'SyntaxWarning', 'SystemError', 'SystemExit', 'TabError', 'TimeoutError', 'True', 'TypeError', 'UnboundLocalError', 'UnicodeDecodeError', 'UnicodeEncodeError', 'UnicodeError', 'UnicodeTranslateError', 'UnicodeWarning', 'UserWarning', 'ValueError', 'Warning', 'ZeroDivisionError', '__IPYTHON__', '__build_class__', '__debug__', '__doc__', '__import__', '__loader__', '__name__', '__package__', '__spec__', 'abs', 'aiter', 'all', 'anext', 'any', 'ascii', 'bin', 'bool', 'breakpoint', 'bytearray', 'bytes', 'callable', 'chr', 'classmethod', 'compile', 'complex', 'copyright', 'credits', 'delattr', 'dict', 'dir', 'display', 'divmod', 'enumerate', 'eval', 'exec', 'execfile', 'filter', 'float', 'format', 'frozenset', 'get_ipython', 'getattr', 'globals', 'hasattr', 'hash', 'help', 'hex', 'id', 'input', 'int', 'isinstance', 'issubclass', 'iter', 'len', 'license', 'list', 'locals', 'map', 'max', 'memoryview', 'min', 'next', 'object', 'oct', 'open', 'ord', 'pow', 'print', 'property', 'range', 'repr', 'reversed', 'round', 'runfile', 'set', 'setattr', 'slice', 'sorted', 'staticmethod', 'str', 'sum', 'super', 'tuple', 'type', 'vars', 'zip']\n"
     ]
    }
   ],
   "source": [
    "# List built in functions/vars\n",
    "\n",
    "import builtins\n",
    "print(dir(builtins))"
   ]
  },
  {
   "cell_type": "code",
   "execution_count": 9,
   "metadata": {},
   "outputs": [
    {
     "name": "stdout",
     "output_type": "stream",
     "text": [
      "3\n"
     ]
    },
    {
     "ename": "TypeError",
     "evalue": "max() takes 0 positional arguments but 1 was given",
     "output_type": "error",
     "traceback": [
      "\u001b[0;31m---------------------------------------------------------------------------\u001b[0m",
      "\u001b[0;31mTypeError\u001b[0m                                 Traceback (most recent call last)",
      "Cell \u001b[0;32mIn[9], line 9\u001b[0m\n\u001b[1;32m      6\u001b[0m \u001b[38;5;28;01mdef\u001b[39;00m \u001b[38;5;21mmax\u001b[39m():\n\u001b[1;32m      7\u001b[0m     \u001b[38;5;28mprint\u001b[39m(\u001b[38;5;124m'\u001b[39m\u001b[38;5;124mhello\u001b[39m\u001b[38;5;124m'\u001b[39m)\n\u001b[0;32m----> 9\u001b[0m \u001b[38;5;28mprint\u001b[39m(\u001b[38;5;28;43mmax\u001b[39;49m\u001b[43m(\u001b[49m\u001b[43mL\u001b[49m\u001b[43m)\u001b[49m)\n",
      "\u001b[0;31mTypeError\u001b[0m: max() takes 0 positional arguments but 1 was given"
     ]
    }
   ],
   "source": [
    "# renaming builtins\n",
    "\n",
    "L = [1,2,3]\n",
    "print(max(L))\n",
    "\n",
    "def max():\n",
    "    print('hello')\n",
    "\n",
    "print(max(L))"
   ]
  },
  {
   "cell_type": "code",
   "execution_count": 10,
   "metadata": {},
   "outputs": [
    {
     "name": "stdout",
     "output_type": "stream",
     "text": [
      "5\n",
      "outer function\n",
      "main program\n"
     ]
    }
   ],
   "source": [
    "# Enclosing space\n",
    "\n",
    "def outer():\n",
    "    def inner():\n",
    "        print(a)\n",
    "    inner()\n",
    "    print('outer function') # outer\n",
    "\n",
    "outer() # Calls outer --> inner --> prints a --> outer function\n",
    "print('main program')\n"
   ]
  },
  {
   "cell_type": "code",
   "execution_count": 12,
   "metadata": {},
   "outputs": [
    {
     "name": "stdout",
     "output_type": "stream",
     "text": [
      "inner 2\n",
      "outer 2\n",
      "main program\n"
     ]
    }
   ],
   "source": [
    "# nonlocal keyword --> Modify variables in outer(but non global) scope\n",
    "\n",
    "def outer():\n",
    "    a = 1\n",
    "    def inner():\n",
    "        nonlocal a # Access outer 'a'\n",
    "        a += 1\n",
    "        print('inner',a)\n",
    "    inner()\n",
    "    print('outer',a)\n",
    "\n",
    "outer()\n",
    "print('main program')\n"
   ]
  },
  {
   "cell_type": "markdown",
   "metadata": {},
   "source": [
    "#### Decorators\n",
    "\n",
    "Function that modifies/extends anpther function behaviour\n",
    "\n",
    "Usage,Adds funcitonality (e.g logging access control) without altering original code\n",
    "\n",
    "Types:\n",
    "\n",
    "1. Builtin\n",
    "\n",
    "* @staticmethod : Class level method,no instance\n",
    "* @classmethod : Method with class as 1st arg,modifies class state\n",
    "* @abstractmethod : Enforces method impmentation in subclasses\n",
    "* @property : Method accessed as attribute(getter/setter)\n",
    "\n",
    "2. User-defined:\n",
    "\n",
    "Creation:\n",
    "\n",
    "def my_decorator(func):\n",
    "\n",
    "    def wrapper():\n",
    "\n",
    "        # Add functionality\n",
    "\n",
    "        return func()\n",
    "    \n",
    "    return wrapper\n",
    "\n"
   ]
  },
  {
   "cell_type": "code",
   "execution_count": 13,
   "metadata": {},
   "outputs": [
    {
     "data": {
      "text/plain": [
       "4"
      ]
     },
     "execution_count": 13,
     "metadata": {},
     "output_type": "execute_result"
    }
   ],
   "source": [
    "# Python supports 1st class functions\n",
    "\n",
    "def modify(func,num):\n",
    "    return func(num)\n",
    "\n",
    "def square(num):\n",
    "    return num ** 2\n",
    "\n",
    "modify(square,2)"
   ]
  },
  {
   "cell_type": "code",
   "execution_count": 18,
   "metadata": {},
   "outputs": [
    {
     "name": "stdout",
     "output_type": "stream",
     "text": [
      "**********************\n",
      "hello\n",
      "**********************\n",
      "**********************\n",
      "hello girish\n",
      "**********************\n"
     ]
    }
   ],
   "source": [
    "def my_decorator(func):\n",
    "    def wrapper():\n",
    "        print('**********************')\n",
    "        func()\n",
    "        print('**********************')\n",
    "    return wrapper\n",
    "\n",
    "@ my_decorator\n",
    "def hello():\n",
    "    print('hello')\n",
    "\n",
    "@ my_decorator\n",
    "def display():\n",
    "    print('hello girish')\n",
    "\n",
    "# Manual decoration\n",
    "# a = my_decorator(hello)\n",
    "# a()\n",
    "\n",
    "# b = my_decorator(display)\n",
    "# b()\n",
    "\n",
    "hello()\n",
    "display()"
   ]
  },
  {
   "cell_type": "markdown",
   "metadata": {},
   "source": [
    "#### more functions"
   ]
  },
  {
   "cell_type": "code",
   "execution_count": 15,
   "metadata": {},
   "outputs": [
    {
     "name": "stdout",
     "output_type": "stream",
     "text": [
      "5\n"
     ]
    }
   ],
   "source": [
    "# Clsure example\n",
    "\n",
    "def outer():\n",
    "    a = 5   # Outer scope variable\n",
    "    def inner():\n",
    "        print(a)    # Access outer scope var\n",
    "    return inner\n",
    "\n",
    "b = outer() # b now holds the inner function\n",
    "b()"
   ]
  },
  {
   "cell_type": "markdown",
   "metadata": {},
   "source": [
    "#### Closures\n",
    "\n",
    "Inner functions retains access to outer functions variables post execution\n",
    "\n",
    "Captures environment,preserving outer functions variables\n",
    "\n",
    "How closure work\n",
    "\n",
    "* Local vars usually lost after function execution\n",
    "* Closures keep access to outer vars\n",
    "\n",
    "Benefit : Preserves state/configuration useful for decorators\n",
    "\n",
    "Example Code:\n",
    "\n",
    "def outer(outer_var):\n",
    "\n",
    "    def inner():\n",
    "\n",
    "        print(outer_var)\n",
    "\n",
    "    return inner\n",
    "\n",
    "#usage\n",
    "\n",
    "closure = outer('Hello,world')\n",
    "\n",
    "closure() # Output 'Hello world'"
   ]
  },
  {
   "cell_type": "code",
   "execution_count": 16,
   "metadata": {},
   "outputs": [
    {
     "name": "stdout",
     "output_type": "stream",
     "text": [
      "**************************\n",
      "hello\n",
      "**************************\n"
     ]
    }
   ],
   "source": [
    "def my_decorator(func):\n",
    "    def wrapper():\n",
    "        print('**************************')\n",
    "        func()\n",
    "        print('**************************')\n",
    "    return wrapper\n",
    "\n",
    "@my_decorator\n",
    "def hello():\n",
    "    print('hello')\n",
    "\n",
    "hello()"
   ]
  },
  {
   "cell_type": "code",
   "execution_count": 22,
   "metadata": {},
   "outputs": [
    {
     "name": "stdout",
     "output_type": "stream",
     "text": [
      "hello world\n",
      "time taken by hello 2.0051777362823486 secs\n",
      "4\n",
      "time taken by square 1.005350112915039 secs\n",
      "8\n",
      "time taken by power 1.0967254638671875e-05 secs\n"
     ]
    }
   ],
   "source": [
    "# anything meaningful\n",
    "\n",
    "import time\n",
    "\n",
    "def timer(func):\n",
    "    def wrapper(*args):\n",
    "        start = time.time()\n",
    "        func(*args)\n",
    "        print('time taken by',func.__name__,time.time()-start,'secs')\n",
    "    return wrapper\n",
    "\n",
    "@timer\n",
    "def hello():\n",
    "    print('hello world')\n",
    "    time.sleep(2)\n",
    "\n",
    "@timer\n",
    "def square(num):\n",
    "    time.sleep(1)\n",
    "    print(num**2)\n",
    "\n",
    "@timer\n",
    "def power(a,b):\n",
    "    print(a**b)\n",
    "\n",
    "hello()\n",
    "square(2)\n",
    "power(2,3)"
   ]
  },
  {
   "cell_type": "code",
   "execution_count": 23,
   "metadata": {},
   "outputs": [
    {
     "ename": "TypeError",
     "evalue": "unsupported operand type(s) for ** or pow(): 'str' and 'int'",
     "output_type": "error",
     "traceback": [
      "\u001b[0;31m---------------------------------------------------------------------------\u001b[0m",
      "\u001b[0;31mTypeError\u001b[0m                                 Traceback (most recent call last)",
      "Cell \u001b[0;32mIn[23], line 9\u001b[0m\n\u001b[1;32m      6\u001b[0m     \u001b[38;5;28mprint\u001b[39m(num\u001b[38;5;241m*\u001b[39m\u001b[38;5;241m*\u001b[39m\u001b[38;5;241m2\u001b[39m)\n\u001b[1;32m      8\u001b[0m \u001b[38;5;66;03m# Erroneous call\u001b[39;00m\n\u001b[0;32m----> 9\u001b[0m \u001b[43msquare\u001b[49m\u001b[43m(\u001b[49m\u001b[38;5;124;43m'\u001b[39;49m\u001b[38;5;124;43mhehe\u001b[39;49m\u001b[38;5;124;43m'\u001b[39;49m\u001b[43m)\u001b[49m\n",
      "Cell \u001b[0;32mIn[23], line 6\u001b[0m, in \u001b[0;36msquare\u001b[0;34m(num)\u001b[0m\n\u001b[1;32m      5\u001b[0m \u001b[38;5;28;01mdef\u001b[39;00m \u001b[38;5;21msquare\u001b[39m(num):\n\u001b[0;32m----> 6\u001b[0m     \u001b[38;5;28mprint\u001b[39m(\u001b[43mnum\u001b[49m\u001b[38;5;241;43m*\u001b[39;49m\u001b[38;5;241;43m*\u001b[39;49m\u001b[38;5;241;43m2\u001b[39;49m)\n",
      "\u001b[0;31mTypeError\u001b[0m: unsupported operand type(s) for ** or pow(): 'str' and 'int'"
     ]
    }
   ],
   "source": [
    "# Decorators with Arguments example\n",
    "\n",
    "# A Big problem\n",
    "\n",
    "def square(num):\n",
    "    print(num**2)\n",
    "\n",
    "# Erroneous call\n",
    "square('hehe')"
   ]
  },
  {
   "cell_type": "markdown",
   "metadata": {},
   "source": [
    "Create a decorator that checks the datatype for sanity checks on user inputs"
   ]
  },
  {
   "cell_type": "code",
   "execution_count": null,
   "metadata": {},
   "outputs": [],
   "source": [
    "@checkdt(int)\n",
    "def square(num):\n",
    "    print(num**2)"
   ]
  },
  {
   "cell_type": "code",
   "execution_count": 26,
   "metadata": {},
   "outputs": [
    {
     "name": "stdout",
     "output_type": "stream",
     "text": [
      "4\n"
     ]
    }
   ],
   "source": [
    "def sanity_check(data_type):\n",
    "  def outer_wrapper(func):\n",
    "    def inner_wrapper(*args):\n",
    "      if type(*args) == data_type:\n",
    "        func(*args)\n",
    "      else:\n",
    "        raise TypeError('Ye datatype nahi chalega')\n",
    "    return inner_wrapper\n",
    "  return outer_wrapper\n",
    "\n",
    "@sanity_check(int)\n",
    "def square(num):\n",
    "    print(num**2)\n",
    "\n",
    "@sanity_check(str)\n",
    "def greet(name):\n",
    "    print('hello',name)\n",
    "\n",
    "square(2)\n"
   ]
  }
 ],
 "metadata": {
  "kernelspec": {
   "display_name": ".venv",
   "language": "python",
   "name": "python3"
  },
  "language_info": {
   "codemirror_mode": {
    "name": "ipython",
    "version": 3
   },
   "file_extension": ".py",
   "mimetype": "text/x-python",
   "name": "python",
   "nbconvert_exporter": "python",
   "pygments_lexer": "ipython3",
   "version": "3.11.6"
  }
 },
 "nbformat": 4,
 "nbformat_minor": 2
}
