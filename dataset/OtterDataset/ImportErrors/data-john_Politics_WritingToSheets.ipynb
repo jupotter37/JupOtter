{
 "cells": [
  {
   "cell_type": "code",
   "execution_count": 1,
   "metadata": {},
   "outputs": [
    {
     "ename": "ModuleNotFoundError",
     "evalue": "No module named 'github'",
     "output_type": "error",
     "traceback": [
      "\u001b[0;31m---------------------------------------------------------------------------\u001b[0m",
      "\u001b[0;31mModuleNotFoundError\u001b[0m                       Traceback (most recent call last)",
      "Cell \u001b[0;32mIn[1], line 1\u001b[0m\n\u001b[0;32m----> 1\u001b[0m \u001b[38;5;28;01mfrom\u001b[39;00m \u001b[38;5;21;01mgithub\u001b[39;00m \u001b[38;5;28;01mimport\u001b[39;00m Github\n\u001b[1;32m      2\u001b[0m g \u001b[38;5;241m=\u001b[39m Github(\u001b[38;5;124m\"\u001b[39m\u001b[38;5;124mdata-john\u001b[39m\u001b[38;5;124m\"\u001b[39m, \u001b[38;5;124m\"\u001b[39m\u001b[38;5;124mToytoy$11\u001b[39m\u001b[38;5;124m\"\u001b[39m)\n\u001b[1;32m      4\u001b[0m repo \u001b[38;5;241m=\u001b[39m g\u001b[38;5;241m.\u001b[39mget_user()\u001b[38;5;241m.\u001b[39mget_repo(\u001b[38;5;124m'\u001b[39m\u001b[38;5;124mplay1\u001b[39m\u001b[38;5;124m'\u001b[39m)\n",
      "\u001b[0;31mModuleNotFoundError\u001b[0m: No module named 'github'"
     ]
    }
   ],
   "source": [
    "from github import Github\n",
    "g = Github(\"data-john\", \"Toytoy$11\")\n",
    "\n",
    "repo = g.get_user().get_repo('play1')\n",
    "all_files = []\n",
    "contents = repo.get_contents(\"\")\n",
    "while contents:\n",
    "    file_content = contents.pop(0)\n",
    "    if file_content.type == \"dir\":\n",
    "        contents.extend(repo.get_contents(file_content.path))\n",
    "    else:\n",
    "        file = file_content\n",
    "        all_files.append(str(file).replace('ContentFile(path=\"','').replace('\")',''))\n",
    "\n",
    "with open('/tmp/file.txt', 'r') as file:\n",
    "    content = file.read()\n",
    "\n",
    "# Upload to github\n",
    "git_prefix = 'folder1/'\n",
    "git_file = git_prefix + 'file.txt'\n",
    "if git_file in all_files:\n",
    "    contents = repo.get_contents(git_file)\n",
    "    repo.update_file(contents.path, \"committing files\", content, contents.sha, branch=\"master\")\n",
    "    print(git_file + ' UPDATED')\n",
    "else:\n",
    "    repo.create_file(git_file, \"committing files\", content, branch=\"master\")\n",
    "    print(git_file + ' CREATED')"
   ]
  },
  {
   "cell_type": "code",
   "execution_count": 1,
   "metadata": {},
   "outputs": [
    {
     "name": "stderr",
     "output_type": "stream",
     "text": [
      "/home/john/Desktop/Politics/.venv/lib/python3.11/site-packages/auth/__init__.py:3: DeprecatedWarning: Call to deprecated function __init__(...). API class may be removed in a future release, use falcon.App instead.\n",
      "  from auth.CAS.REST.service import api\n"
     ]
    },
    {
     "ename": "ImportError",
     "evalue": "cannot import name 'spreadsheet_service' from 'auth' (/home/john/Desktop/Politics/.venv/lib/python3.11/site-packages/auth/__init__.py)",
     "output_type": "error",
     "traceback": [
      "\u001b[0;31m---------------------------------------------------------------------------\u001b[0m",
      "\u001b[0;31mImportError\u001b[0m                               Traceback (most recent call last)",
      "Cell \u001b[0;32mIn[1], line 4\u001b[0m\n\u001b[1;32m      1\u001b[0m \u001b[38;5;66;03m# sheets.py\u001b[39;00m\n\u001b[1;32m      3\u001b[0m \u001b[38;5;28;01mfrom\u001b[39;00m \u001b[38;5;21;01m__future__\u001b[39;00m \u001b[38;5;28;01mimport\u001b[39;00m print_function\n\u001b[0;32m----> 4\u001b[0m \u001b[38;5;28;01mfrom\u001b[39;00m \u001b[38;5;21;01mauth\u001b[39;00m \u001b[38;5;28;01mimport\u001b[39;00m spreadsheet_service\n\u001b[1;32m      5\u001b[0m \u001b[38;5;28;01mfrom\u001b[39;00m \u001b[38;5;21;01mauth\u001b[39;00m \u001b[38;5;28;01mimport\u001b[39;00m drive_service\n\u001b[1;32m      7\u001b[0m \u001b[38;5;28;01mdef\u001b[39;00m \u001b[38;5;21mcreate\u001b[39m():\n",
      "\u001b[0;31mImportError\u001b[0m: cannot import name 'spreadsheet_service' from 'auth' (/home/john/Desktop/Politics/.venv/lib/python3.11/site-packages/auth/__init__.py)"
     ]
    }
   ],
   "source": [
    "# # sheets.py\n",
    "\n",
    "# from __future__ import print_function\n",
    "# from auth import spreadsheet_service\n",
    "# from auth import drive_service\n",
    "\n",
    "# def create():\n",
    "#     spreadsheet_details = {\n",
    "#         'properties': {\n",
    "#             'title': 'Python-google-sheets-demo'\n",
    "#         }\n",
    "#     }\n",
    "#     sheet = spreadsheet_service.spreadsheets().create(body=spreadsheet_details,\n",
    "#                                                     fields='spreadsheetId').execute()\n",
    "#     sheetId = sheet.get('spreadsheetId')\n",
    "#     print('Spreadsheet ID: {0}'.format(sheetId))\n",
    "#     permission1 = {\n",
    "#         'type': 'user',\n",
    "#         'role': 'writer',\n",
    "#         'emailAddress': 'jclarke1996@gmail.com'\n",
    "#     }\n",
    "#     drive_service.permissions().create(fileId=sheetId, body=permission1).execute()\n",
    "#     return sheetId\n",
    "\n",
    "# create()"
   ]
  }
 ],
 "metadata": {
  "kernelspec": {
   "display_name": ".venv",
   "language": "python",
   "name": "python3"
  },
  "language_info": {
   "codemirror_mode": {
    "name": "ipython",
    "version": 3
   },
   "file_extension": ".py",
   "mimetype": "text/x-python",
   "name": "python",
   "nbconvert_exporter": "python",
   "pygments_lexer": "ipython3",
   "version": "3.11.4"
  }
 },
 "nbformat": 4,
 "nbformat_minor": 2
}
