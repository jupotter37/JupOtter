{
 "cells": [
  {
   "cell_type": "code",
   "execution_count": null,
   "id": "197d4a68-34ac-4823-acaf-a2e5f604cb85",
   "metadata": {},
   "outputs": [],
   "source": [
    "Q1 -> Explain why we have to use the Exception class while creating a Custom Exception.\n",
    "Note: Here Exception class refers to the base class for all the exceptions.\n",
    "\n",
    "Ans-> \n",
    "When creating a custom exception, it's important to inherit from the base Exception class in order to ensure that the new exception class follows the standard exception handling behaviors and protocols used throughout the language.\n",
    "\n",
    "By inheriting from the base Exception class, your custom exception will inherit all of the important methods and properties that come with the Exception class. This includes methods like __str__() which is called to generate a string representation of the exception and __repr__() which returns a string representation of the object that can be used for debugging purposes.\n",
    "\n",
    "In addition to these built-in methods, the Exception class also defines a standard protocol for how exceptions should be handled, including how they should be raised and caught. This protocol is used throughout the language and is well-understood by other developers, which helps to ensure that your custom exception will be handled correctly in a wide variety of situations"
   ]
  },
  {
   "cell_type": "code",
   "execution_count": null,
   "id": "5416c5bf-5cd6-488e-b0b5-048ba53cb466",
   "metadata": {},
   "outputs": [],
   "source": [
    "Q2 -> Write a python program to print Python Exception Hierarchy.\n",
    "\n",
    "Ans -> \n",
    "import sys\n",
    "\n",
    "for i, cls in enumerate(sys.exc_info()[1].__class__.__mro__):\n",
    "    print(i, cls)\n",
    "    \n",
    "When you run this program, it will print out the entire exception hierarchy for Python, starting with the base object class and ending with the most specific exception classes. The output will look something like thi\n",
    "\n",
    "0 <class 'object'>\n",
    "1 <class 'BaseException'>\n",
    "2 <class 'Exception'>\n",
    "3 <class 'ArithmeticError'>\n",
    "4 <class 'ZeroDivisionError'>\n",
    "\n"
   ]
  },
  {
   "cell_type": "code",
   "execution_count": null,
   "id": "61c643a5-f420-4a3f-a16d-26cdf82605a9",
   "metadata": {},
   "outputs": [],
   "source": [
    "Q3 -> What errors are defined in the ArithmeticError class? Explain any two with an example.\n",
    "\n",
    "Ans -> The ArithmeticError class is a base class for all errors that occur during arithmetic operations, such as division by zero, overflow or underflow, and other arithmetic errors. Here are two examples of errors that are defined in the ArithmeticError class:\n",
    "\n",
    "ZeroDivisionError: This error occurs when you try to divide a number by zero. For example:\n",
    " \n",
    "# example \n",
    "x = 10\n",
    "y = 0\n",
    "z = x/y\n",
    "\n",
    "OverflowError: This error occurs when a calculation results in a number that is too large to be represented by the computer's memory. For example:\n",
    "\n",
    "x = 1000 ** 1000\n",
    "\n",
    "These are just two examples of the types of errors that are defined in the ArithmeticError class. There are other errors in this class as well, such as FloatingPointError and UnderflowError, which deal with other types of arithmetic errors."
   ]
  },
  {
   "cell_type": "code",
   "execution_count": null,
   "id": "c9e75b94-d6b1-4ace-961e-bf24fd0a944a",
   "metadata": {},
   "outputs": [],
   "source": [
    "Q4 -> Why LookupError class is used? Explain with an example KeyError and IndexError.\n",
    "\n",
    "Ans -> The LookupError class is a base class for all errors that occur when looking up a key or index in a collection or sequence, but the key or index is not found. This class is used when you need to handle errors related to looking up a value in a collection or sequence, but you don't know in advance what kind of collection or sequence you're dealing with.\n",
    "\n",
    "Two common errors that are defined in the LookupError class are KeyError and IndexError.\n",
    "\n",
    "1) KeyError: This error occurs when you try to look up a key in a dictionary that doesn't exist. For example:\n",
    "\n",
    "\n",
    "d = {'a': 1, 'b': 2, 'c': 3}\n",
    "value = d['d']  # Raises KeyError\n",
    "\n",
    "2) IndexError: This error occurs when you try to access an index in a sequence that is out of range. For example:\n",
    "    \n",
    "lst = [1, 2, 3]\n",
    "value = lst[3]  # Raises IndexError"
   ]
  },
  {
   "cell_type": "code",
   "execution_count": 2,
   "id": "c59224ae-f9bc-48c7-8e01-fccdbd291f0b",
   "metadata": {},
   "outputs": [],
   "source": [
    "Q5 -> Explain ImportError. What is ModuleNotFoundError?\n",
    "\n",
    "Ans -> ImportError is a built-in Python exception that occurs when you try to import a module that doesn't exist or that contains errors. This can happen when you mistype the name of a module, when a required module is not installed, or when there is a problem with the module's code.\n",
    "\n",
    "For example, suppose you have a Python file named my_script.py that tries to import a module named my_module, but the module doesn't exist:\n",
    "\n",
    "import my_module  # Raises ImportError\n",
    "\n",
    "ModuleNotFoundError is a subclass of ImportError that was introduced in Python 3.6. It specifically indicates that the module could not be found.\n",
    "\n",
    "For example, if you try to import a non-existent module like foo, you'll get a ModuleNotFoundError:\n",
    "\n",
    "import foo  # Raises ModuleNotFoundError\n"
   ]
  },
  {
   "cell_type": "code",
   "execution_count": null,
   "id": "e0299ac1-cb72-4588-98ec-9aa6e637dfb8",
   "metadata": {},
   "outputs": [],
   "source": [
    "Q6 -> List down some best practices for exception handling in python.\n",
    "\n",
    "Ans -> \n",
    "1) Use try-except blocks: Always use try-except blocks to handle exceptions in your code. This allows you to catch and handle exceptions gracefully, without crashing the program or causing unexpected behavior.\n",
    "\n",
    "2) Be specific with exceptions: Catch specific exceptions instead of using a broad except statement. This helps you to be more precise in your error handling and avoid catching exceptions that you don't intend to handle.\n",
    "\n",
    "3) Use finally block: Use finally blocks to perform cleanup operations, such as closing files or releasing resources, regardless of whether an exception was thrown or not.\n",
    "\n",
    "4) Log exceptions: Use a logging module to log exceptions instead of printing them to the console. This makes it easier to track down errors and debug your code.\n",
    "\n",
    "5) Raise exceptions when appropriate: Raise exceptions when you encounter an error that you cannot handle within your code. This makes it clear what went wrong and helps other developers to understand how to fix the problem.\n",
    "\n",
    "6) Use built-in exceptions where possible: Use built-in exceptions whenever possible, rather than creating custom exceptions. This makes your code more readable and easier to understand for other developers."
   ]
  },
  {
   "cell_type": "code",
   "execution_count": null,
   "id": "b55ac15f-595e-4446-b37c-e48af85e6efa",
   "metadata": {},
   "outputs": [],
   "source": []
  }
 ],
 "metadata": {
  "kernelspec": {
   "display_name": "Python 3 (ipykernel)",
   "language": "python",
   "name": "python3"
  },
  "language_info": {
   "codemirror_mode": {
    "name": "ipython",
    "version": 3
   },
   "file_extension": ".py",
   "mimetype": "text/x-python",
   "name": "python",
   "nbconvert_exporter": "python",
   "pygments_lexer": "ipython3",
   "version": "3.10.8"
  }
 },
 "nbformat": 4,
 "nbformat_minor": 5
}
