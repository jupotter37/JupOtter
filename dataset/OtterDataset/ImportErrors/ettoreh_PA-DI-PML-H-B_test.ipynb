{
 "cells": [
  {
   "cell_type": "code",
   "execution_count": 9,
   "metadata": {},
   "outputs": [],
   "source": [
    "import random\n",
    "import torch\n",
    "import torch.nn as nn\n",
    "\n",
    "import numpy as np\n",
    "import matplotlib.pyplot as plt\n",
    "\n",
    "from Net import Net"
   ]
  },
  {
   "cell_type": "code",
   "execution_count": 33,
   "metadata": {},
   "outputs": [
    {
     "ename": "ImportError",
     "evalue": "attempted relative import with no known parent package",
     "output_type": "error",
     "traceback": [
      "\u001b[0;31m---------------------------------------------------------------------------\u001b[0m",
      "\u001b[0;31mImportError\u001b[0m                               Traceback (most recent call last)",
      "Cell \u001b[0;32mIn [33], line 3\u001b[0m\n\u001b[1;32m      1\u001b[0m \u001b[39mimport\u001b[39;00m \u001b[39msys\u001b[39;00m\n\u001b[1;32m      2\u001b[0m sys\u001b[39m.\u001b[39mpath\u001b[39m.\u001b[39mappend(\u001b[39m'\u001b[39m\u001b[39m../\u001b[39m\u001b[39m'\u001b[39m)\n\u001b[0;32m----> 3\u001b[0m \u001b[39mfrom\u001b[39;00m \u001b[39m.\u001b[39;00m\u001b[39m.\u001b[39;00m\u001b[39mcontent\u001b[39;00m \u001b[39mimport\u001b[39;00m watermark\n",
      "\u001b[0;31mImportError\u001b[0m: attempted relative import with no known parent package"
     ]
    }
   ],
   "source": [
    "from content import watermark"
   ]
  },
  {
   "cell_type": "code",
   "execution_count": 27,
   "metadata": {},
   "outputs": [
    {
     "ename": "ModuleNotFoundError",
     "evalue": "No module named 'watermark'",
     "output_type": "error",
     "traceback": [
      "\u001b[0;31m---------------------------------------------------------------------------\u001b[0m",
      "\u001b[0;31mModuleNotFoundError\u001b[0m                       Traceback (most recent call last)",
      "Cell \u001b[0;32mIn [27], line 1\u001b[0m\n\u001b[0;32m----> 1\u001b[0m \u001b[39mfrom\u001b[39;00m \u001b[39mwatermark\u001b[39;00m\u001b[39m.\u001b[39;00m\u001b[39msecret_matrix\u001b[39;00m \u001b[39mimport\u001b[39;00m get_watermark_from_text\n\u001b[1;32m      3\u001b[0m get_watermark_from_text(\u001b[39m'\u001b[39m\u001b[39mEttore Hidoux\u001b[39m\u001b[39m'\u001b[39m)\n",
      "\u001b[0;31mModuleNotFoundError\u001b[0m: No module named 'watermark'"
     ]
    }
   ],
   "source": [
    "\n",
    "from watermark.secret_matrix import get_watermark_from_text\n",
    "\n",
    "get_watermark_from_text('Ettore Hidoux')"
   ]
  },
  {
   "cell_type": "code",
   "execution_count": 34,
   "metadata": {},
   "outputs": [
    {
     "ename": "ModuleNotFoundError",
     "evalue": "No module named 'content'",
     "output_type": "error",
     "traceback": [
      "\u001b[0;31m---------------------------------------------------------------------------\u001b[0m",
      "\u001b[0;31mModuleNotFoundError\u001b[0m                       Traceback (most recent call last)",
      "Cell \u001b[0;32mIn [34], line 1\u001b[0m\n\u001b[0;32m----> 1\u001b[0m \u001b[39mfrom\u001b[39;00m \u001b[39mcontent\u001b[39;00m \u001b[39mimport\u001b[39;00m watermark\n",
      "\u001b[0;31mModuleNotFoundError\u001b[0m: No module named 'content'"
     ]
    }
   ],
   "source": [
    "from content import watermark"
   ]
  },
  {
   "cell_type": "code",
   "execution_count": 16,
   "metadata": {},
   "outputs": [
    {
     "data": {
      "text/plain": [
       "[0, 1, 1, 0, 1, 1, 1, 1, 0, 0, 1, 0, 0, 0, 1, 1]"
      ]
     },
     "execution_count": 16,
     "metadata": {},
     "output_type": "execute_result"
    }
   ],
   "source": [
    "T = 16\n",
    "watermark = random.choices([0,1], k=T)\n",
    "watermark"
   ]
  },
  {
   "cell_type": "code",
   "execution_count": 68,
   "metadata": {},
   "outputs": [
    {
     "name": "stdout",
     "output_type": "stream",
     "text": [
      "[0, 1, 0, 0, 1, 0, 0, 0, 0, 1, 1, 0, 0, 1, 0, 1, 0, 1, 1, 0, 1, 1, 0, 0, 0, 1, 1, 0, 1, 1, 0, 0, 0, 1, 1, 0, 1, 1, 1, 1, 0, 0, 1, 0, 1, 1, 0, 0, 0, 0, 1, 0, 0, 0, 0, 0, 0, 1, 1, 1, 0, 1, 1, 1, 0, 1, 1, 0, 1, 1, 1, 1, 0, 1, 1, 1, 0, 0, 1, 0, 0, 1, 1, 0, 1, 1, 0, 0, 0, 1, 1, 0, 0, 1, 0, 0, 0, 0, 1, 0, 0, 0, 0, 1]\n"
     ]
    }
   ],
   "source": [
    "text = \"Hello, world!\"\n",
    "binary_str = ''.join(format(ord(c), '08b') for c in text)\n",
    "binary_list = [int(b) for b in binary_str]\n",
    "\n",
    "print(binary_list)"
   ]
  },
  {
   "cell_type": "code",
   "execution_count": 14,
   "metadata": {},
   "outputs": [
    {
     "name": "stdout",
     "output_type": "stream",
     "text": [
      "0110100001100101011011000110110001101111001000000111011101101111011100100110110001100100\n",
      "[0, 1, 1, 0, 1, 0, 0, 0, 0, 1, 1, 0, 0, 1, 0, 1, 0, 1, 1, 0, 1, 1, 0, 0, 0, 1, 1, 0, 1, 1, 0, 0, 0, 1, 1, 0, 1, 1, 1, 1, 0, 0, 1, 0, 0, 0, 0, 0, 0, 1, 1, 1, 0, 1, 1, 1, 0, 1, 1, 0, 1, 1, 1, 1, 0, 1, 1, 1, 0, 0, 1, 0, 0, 1, 1, 0, 1, 1, 0, 0, 0, 1, 1, 0, 0, 1, 0, 0]\n",
      "['h', 'e', 'l', 'l', 'o', ' ', 'w', 'o', 'r', 'l', 'd']\n"
     ]
    }
   ],
   "source": [
    "text = \"hello world\"  # example text to convert\n",
    "binary_string = ''.join(format(ord(c), '08b') for c in text)  # convert the text to a binary string\n",
    "binary_list = [int(bit) for bit in binary_string]  # convert the binary string to a list of 0s and 1s\n",
    "#character = chr(int(binary_string, 2))  # convert the binary string to an integer and then to a character\n",
    "character = [str(bit) for bit in binary_list]\n",
    "character = [character[i*8:(i+1)*8] for i in range(len(character)//8)]\n",
    "character = [''.join(char) for char in character]\n",
    "character = [chr(int(char, 2)) for char in character]\n",
    "\n",
    "print(binary_string)  # prints the binary string\n",
    "print(binary_list)  # prints the list of 0s and 1s\n",
    "print(character) "
   ]
  },
  {
   "cell_type": "code",
   "execution_count": 2,
   "metadata": {},
   "outputs": [
    {
     "name": "stdout",
     "output_type": "stream",
     "text": [
      "model loaded\n",
      "(6, 3, 5, 5)\n"
     ]
    }
   ],
   "source": [
    "model = Net(10)\n",
    "model_path = '/Users/ettorehidoux/Desktop/codes projects/PA-DI-PML-H-B/models/cifar_net_20230216_003445'\n",
    "model.load_state_dict(torch.load(model_path))\n",
    "print('model loaded')\n",
    "    \n",
    "print(model.conv1.weight.detach().numpy().shape)"
   ]
  },
  {
   "cell_type": "code",
   "execution_count": 53,
   "metadata": {},
   "outputs": [],
   "source": [
    "# work on first convolution (6, 3, 5, 5)\n",
    "\n",
    "S, D, L = 5, 3, 6\n",
    "M = S*S*D\n",
    "\n",
    "W = model.conv1.weight.detach().numpy()\n",
    "w = np.mean(W, 0)\n"
   ]
  },
  {
   "cell_type": "code",
   "execution_count": 54,
   "metadata": {},
   "outputs": [
    {
     "data": {
      "text/plain": [
       "(3, 5, 5)"
      ]
     },
     "execution_count": 54,
     "metadata": {},
     "output_type": "execute_result"
    }
   ],
   "source": [
    "w.shape"
   ]
  },
  {
   "cell_type": "code",
   "execution_count": 12,
   "metadata": {},
   "outputs": [
    {
     "data": {
      "text/plain": [
       "(array([  6.,  12.,  44., 121., 132.,  93.,  30.,   9.,   0.,   3.]),\n",
       " array([-1.3396074 , -1.0316591 , -0.72371095, -0.41576272, -0.10781453,\n",
       "         0.20013368,  0.5080819 ,  0.8160301 ,  1.1239783 ,  1.4319265 ,\n",
       "         1.7398747 ], dtype=float32),\n",
       " <BarContainer object of 10 artists>)"
      ]
     },
     "execution_count": 12,
     "metadata": {},
     "output_type": "execute_result"
    },
    {
     "data": {
      "image/png": "[encoded data removed]",
      "text/plain": [
       "<Figure size 640x480 with 1 Axes>"
      ]
     },
     "metadata": {},
     "output_type": "display_data"
    }
   ],
   "source": [
    "plt.hist(W.flatten())"
   ]
  },
  {
   "cell_type": "code",
   "execution_count": 14,
   "metadata": {},
   "outputs": [
    {
     "data": {
      "text/plain": [
       "(array([ 2.,  3.,  5., 35., 27.,  9.,  4.,  2.,  1.,  2.]),\n",
       " array([-0.5845492 , -0.44745004, -0.3103509 , -0.17325175, -0.0361526 ,\n",
       "         0.10094655,  0.23804569,  0.37514484,  0.512244  ,  0.64934313,\n",
       "         0.7864423 ], dtype=float32),\n",
       " <BarContainer object of 10 artists>)"
      ]
     },
     "execution_count": 14,
     "metadata": {},
     "output_type": "execute_result"
    },
    {
     "data": {
      "image/png": "[encoded data removed]",
      "text/plain": [
       "<Figure size 640x480 with 1 Axes>"
      ]
     },
     "metadata": {},
     "output_type": "display_data"
    }
   ],
   "source": [
    "plt.hist(w.flatten())"
   ]
  },
  {
   "cell_type": "code",
   "execution_count": null,
   "metadata": {},
   "outputs": [],
   "source": []
  },
  {
   "cell_type": "code",
   "execution_count": 26,
   "metadata": {},
   "outputs": [
    {
     "name": "stdout",
     "output_type": "stream",
     "text": [
      "6\n",
      "71\n",
      "15\n",
      "26\n",
      "14\n",
      "48\n",
      "63\n",
      "41\n",
      "7\n",
      "52\n",
      "0\n",
      "73\n",
      "71\n",
      "37\n",
      "27\n",
      "22\n"
     ]
    }
   ],
   "source": [
    "for _ in range(T):\n",
    "    k = random.choice(range(M))\n",
    "    print(k)"
   ]
  },
  {
   "cell_type": "code",
   "execution_count": 22,
   "metadata": {},
   "outputs": [
    {
     "data": {
      "text/plain": [
       "(75,)"
      ]
     },
     "execution_count": 22,
     "metadata": {},
     "output_type": "execute_result"
    }
   ],
   "source": [
    "np.zeros((T, M))"
   ]
  },
  {
   "cell_type": "code",
   "execution_count": 40,
   "metadata": {},
   "outputs": [],
   "source": [
    "def get_secret_matrix(type: str, size: tuple):\n",
    "    T, M = size\n",
    "    if type == \"direct\":\n",
    "        x = np.zeros(size)\n",
    "        for i in range(T):\n",
    "            j = random.choice(range(M))\n",
    "            x[i][j] = 1\n",
    "            \n",
    "    if type == \"diff\":\n",
    "        x = np.zeros(size)\n",
    "        for i in range(T):\n",
    "            j1, j2 = random.sample(range(M), 2)\n",
    "            x[i][j1] = 1\n",
    "            x[i][j2] = -1\n",
    "    \n",
    "    if type == \"rand\":\n",
    "        x = np.random.uniform(size=size)\n",
    "        \n",
    "    return x\n",
    "\n",
    "# get_secret_matrix(\"rand\", T, M)\n",
    "        "
   ]
  },
  {
   "cell_type": "code",
   "execution_count": 43,
   "metadata": {},
   "outputs": [],
   "source": [
    "X = get_secret_matrix('direct', (T, M))\n",
    "#X"
   ]
  },
  {
   "cell_type": "code",
   "execution_count": 56,
   "metadata": {},
   "outputs": [
    {
     "data": {
      "text/plain": [
       "array([-0.09385746, -0.14125572,  0.11080915, -0.2158915 ,  0.23212419,\n",
       "        0.12937208,  0.12937208,  0.08679716, -0.10268522, -0.04603146,\n",
       "       -0.10268522,  0.08443541,  0.09624335, -0.07790485,  0.12552609,\n",
       "       -0.07521801])"
      ]
     },
     "execution_count": 56,
     "metadata": {},
     "output_type": "execute_result"
    }
   ],
   "source": [
    "x = np.dot(X, w.flatten())\n",
    "x"
   ]
  },
  {
   "cell_type": "code",
   "execution_count": 58,
   "metadata": {},
   "outputs": [
    {
     "data": {
      "text/plain": [
       "tensor([0.4766, 0.4647, 0.5277, 0.4462, 0.5578, 0.5323, 0.5323, 0.5217, 0.4744,\n",
       "        0.4885, 0.4744, 0.5211, 0.5240, 0.4805, 0.5313, 0.4812],\n",
       "       dtype=torch.float64)"
      ]
     },
     "execution_count": 58,
     "metadata": {},
     "output_type": "execute_result"
    }
   ],
   "source": [
    "s = nn.Sigmoid()\n",
    "\n",
    "x = s(torch.tensor(x))\n",
    "x"
   ]
  },
  {
   "cell_type": "code",
   "execution_count": 62,
   "metadata": {},
   "outputs": [],
   "source": [
    "import numpy as np\n",
    "\n",
    "def cross_entropy_loss(y_true, y_pred):\n",
    "    \"\"\"\n",
    "    Computes the cross-entropy loss between the true labels and the predicted\n",
    "    probabilities.\n",
    "\n",
    "    Parameters:\n",
    "    y_true (numpy array): True labels, one-hot encoded.\n",
    "    y_pred (numpy array): Predicted probabilities.\n",
    "\n",
    "    Returns:\n",
    "    float: The cross-entropy loss.\n",
    "    \"\"\"\n",
    "    n = len(y_true)\n",
    "    return -(1/n) * np.sum(y_true * np.log(y_pred) + (1 - y_true) * np.log(1 - y_pred))"
   ]
  },
  {
   "cell_type": "code",
   "execution_count": 66,
   "metadata": {},
   "outputs": [
    {
     "data": {
      "text/plain": [
       "0.6685159166375839"
      ]
     },
     "execution_count": 66,
     "metadata": {},
     "output_type": "execute_result"
    }
   ],
   "source": [
    "cross_entropy_loss(np.array(watermark), x.numpy())"
   ]
  },
  {
   "cell_type": "code",
   "execution_count": null,
   "metadata": {},
   "outputs": [],
   "source": [
    "#E(w) = E0(w) + λER(w),\n",
    "\n",
    "criterion_0 = ...\n",
    "criterion_r = ...\n",
    "y = 0.3"
   ]
  },
  {
   "cell_type": "code",
   "execution_count": 24,
   "metadata": {},
   "outputs": [
    {
     "data": {
      "text/plain": [
       "<All keys matched successfully>"
      ]
     },
     "execution_count": 24,
     "metadata": {},
     "output_type": "execute_result"
    }
   ],
   "source": [
    "import numpy as np \n",
    "import torch\n",
    "from Net import Net\n",
    "\n",
    "X = np.load('/Users/ettorehidoux/Desktop/codes projects/PA-DI-PML-H-B/models/matrix_20230222_144602.npy')\n",
    "\n",
    "model = Net(10)\n",
    "model.load_state_dict(torch.load('/Users/ettorehidoux/Desktop/codes projects/PA-DI-PML-H-B/models/mlp_cifar10_20230221_104629'))\n",
    "\n",
    "model_wm = Net(10)\n",
    "model_wm.load_state_dict(torch.load('/Users/ettorehidoux/Desktop/codes projects/PA-DI-PML-H-B/models/mlp_cifar10_wm_20230222_144602'))"
   ]
  },
  {
   "cell_type": "code",
   "execution_count": 25,
   "metadata": {},
   "outputs": [],
   "source": [
    "W = model.conv1.weight.detach().numpy()\n",
    "Wwm = model_wm.conv1.weight.detach().numpy()"
   ]
  },
  {
   "cell_type": "code",
   "execution_count": 26,
   "metadata": {},
   "outputs": [
    {
     "data": {
      "text/plain": [
       "(array([13., 40., 53., 86., 60., 70., 76., 37.,  9.,  6.]),\n",
       " array([-4.72663   , -3.700957  , -2.675284  , -1.6496106 , -0.6239374 ,\n",
       "         0.40173578,  1.4274089 ,  2.453082  ,  3.4787555 ,  4.5044284 ,\n",
       "         5.530102  ], dtype=float32),\n",
       " <BarContainer object of 10 artists>)"
      ]
     },
     "execution_count": 26,
     "metadata": {},
     "output_type": "execute_result"
    },
    {
     "data": {
      "image/png": "[encoded data removed]",
      "text/plain": [
       "<Figure size 640x480 with 1 Axes>"
      ]
     },
     "metadata": {},
     "output_type": "display_data"
    }
   ],
   "source": [
    "from matplotlib import pyplot as plt\n",
    "\n",
    "plt.hist(W.flatten(), alpha=0.5)\n",
    "plt.hist(Wwm.flatten(), alpha=0.5)"
   ]
  },
  {
   "cell_type": "code",
   "execution_count": 27,
   "metadata": {},
   "outputs": [
    {
     "data": {
      "text/plain": [
       "(array([ 3.,  8.,  7., 16.,  7., 13., 11.,  7.,  2.,  1.]),\n",
       " array([-4.294768  , -3.3555462 , -2.4163246 , -1.477103  , -0.5378814 ,\n",
       "         0.40134025,  1.3405619 ,  2.2797835 ,  3.219005  ,  4.158227  ,\n",
       "         5.0974483 ], dtype=float32),\n",
       " <BarContainer object of 10 artists>)"
      ]
     },
     "execution_count": 27,
     "metadata": {},
     "output_type": "execute_result"
    },
    {
     "data": {
      "image/png": "[encoded data removed]",
      "text/plain": [
       "<Figure size 640x480 with 1 Axes>"
      ]
     },
     "metadata": {},
     "output_type": "display_data"
    }
   ],
   "source": [
    "w = np.mean(W, 0)\n",
    "wwm = np.mean(Wwm, 0)\n",
    "\n",
    "plt.hist(w.flatten(), alpha=0.5)\n",
    "plt.hist(wwm.flatten(), alpha=0.5)"
   ]
  },
  {
   "cell_type": "code",
   "execution_count": 32,
   "metadata": {},
   "outputs": [
    {
     "data": {
      "text/plain": [
       "(array([ 2.,  2.,  8.,  6., 17., 20., 23., 19.,  3.,  4.]),\n",
       " array([-13.0081286 , -10.76715425,  -8.5261799 ,  -6.28520555,\n",
       "         -4.0442312 ,  -1.80325685,   0.4377175 ,   2.67869185,\n",
       "          4.9196662 ,   7.16064055,   9.4016149 ]),\n",
       " <BarContainer object of 10 artists>)"
      ]
     },
     "execution_count": 32,
     "metadata": {},
     "output_type": "execute_result"
    },
    {
     "data": {
      "image/png": "[encoded data removed]",
      "text/plain": [
       "<Figure size 640x480 with 1 Axes>"
      ]
     },
     "metadata": {},
     "output_type": "display_data"
    }
   ],
   "source": [
    "xwm = np.dot(X, wwm.flatten())\n",
    "x = np.dot(X, w.flatten())\n",
    "\n",
    "plt.hist(x, alpha=0.5)\n",
    "plt.hist(xwm, alpha=0.5)"
   ]
  },
  {
   "cell_type": "code",
   "execution_count": 33,
   "metadata": {},
   "outputs": [],
   "source": [
    "s = torch.nn.Sigmoid()\n",
    "\n",
    "x = s(torch.tensor(x))\n",
    "xwm = s(torch.tensor(xwm))\n",
    "\n",
    "# plt.hist(x, alpha=0.5)\n",
    "# plt.hist(xwm, alpha=0.5)"
   ]
  },
  {
   "cell_type": "code",
   "execution_count": 34,
   "metadata": {},
   "outputs": [
    {
     "data": {
      "text/plain": [
       "array([0, 1, 0, 0, 0, 1, 0, 1, 0, 1, 1, 1, 0, 1, 0, 0, 0, 1, 1, 1, 0, 1,\n",
       "       0, 0, 0, 1, 1, 0, 1, 1, 1, 1, 0, 1, 1, 1, 0, 0, 1, 0, 0, 1, 1, 0,\n",
       "       0, 1, 0, 1, 0, 0, 1, 0, 0, 0, 0, 0, 0, 1, 0, 0, 1, 0, 0, 0, 0, 1,\n",
       "       1, 0, 1, 0, 0, 1, 0, 1, 1, 0, 0, 1, 0, 0, 0, 1, 1, 0, 1, 1, 1, 1,\n",
       "       0, 1, 1, 1, 0, 1, 0, 1, 0, 1, 1, 1, 1, 0, 0, 0])"
      ]
     },
     "execution_count": 34,
     "metadata": {},
     "output_type": "execute_result"
    }
   ],
   "source": [
    "xwm = (xwm.detach().numpy() > 0.5).astype(int)\n",
    "xwm"
   ]
  },
  {
   "cell_type": "code",
   "execution_count": 11,
   "metadata": {},
   "outputs": [],
   "source": [
    "def get_text_from_watermark(watermark: np.array) -> str:\n",
    "    \"\"\"_summary_\n",
    "\n",
    "    Args:\n",
    "        watermark (np.array): array of either 0 or 1\n",
    "\n",
    "    Returns:\n",
    "        str: the embbeded text\n",
    "    \"\"\"\n",
    "    character = [str(bit) for bit in watermark]\n",
    "    character = [character[i*8:(i+1)*8] for i in range(len(character)//8)]\n",
    "    character = [chr(int(''.join(char), 2)) for char in character]\n",
    "    return ''.join(character)"
   ]
  },
  {
   "cell_type": "code",
   "execution_count": 35,
   "metadata": {},
   "outputs": [
    {
     "data": {
      "text/plain": [
       "'Ettore Hidoux'"
      ]
     },
     "execution_count": 35,
     "metadata": {},
     "output_type": "execute_result"
    }
   ],
   "source": [
    "get_text_from_watermark(xwm)"
   ]
  },
  {
   "cell_type": "code",
   "execution_count": 13,
   "metadata": {},
   "outputs": [],
   "source": [
    "def get_watermark_from_text(text: str) -> np.array:\n",
    "    \"\"\"_summary_\n",
    "\n",
    "    Args:\n",
    "        text (str): a text to embbed\n",
    "\n",
    "    Returns:\n",
    "        np.array: array of the text into binary representation\n",
    "    \"\"\"\n",
    "    binary_str = ''.join(format(ord(c), '08b') for c in text)\n",
    "    return np.array([int(b) for b in binary_str])"
   ]
  },
  {
   "cell_type": "code",
   "execution_count": 36,
   "metadata": {},
   "outputs": [
    {
     "data": {
      "text/plain": [
       "1.0"
      ]
     },
     "execution_count": 36,
     "metadata": {},
     "output_type": "execute_result"
    }
   ],
   "source": [
    "np.mean(get_watermark_from_text('Ettore Hidoux') == xwm)"
   ]
  },
  {
   "cell_type": "code",
   "execution_count": 37,
   "metadata": {},
   "outputs": [
    {
     "data": {
      "text/plain": [
       "'Ettore Hidoux'"
      ]
     },
     "execution_count": 37,
     "metadata": {},
     "output_type": "execute_result"
    }
   ],
   "source": [
    "get_text_from_watermark(target)"
   ]
  },
  {
   "cell_type": "code",
   "execution_count": 15,
   "metadata": {},
   "outputs": [
    {
     "data": {
      "text/plain": [
       "array([0, 1, 1, 1, 0, 1, 0, 1, 1, 1, 1, 1, 0, 1, 0, 0, 0, 1, 1, 1, 0, 1,\n",
       "       0, 0, 1, 1, 1, 0, 1, 0, 1, 1, 1, 1, 1, 1, 0, 0, 1, 0, 0, 1, 1, 0,\n",
       "       1, 1, 0, 1, 0, 1, 1, 0, 0, 0, 0, 1, 0, 0, 0, 0, 1, 0, 1, 1, 0, 1,\n",
       "       1, 0, 1, 1, 0, 1, 0, 1, 1, 0, 1, 1, 0, 0, 0, 1, 1, 0, 1, 1, 1, 1,\n",
       "       1, 0, 1, 1, 1, 1, 0, 1, 1, 1, 1, 1, 1, 1, 0, 1])"
      ]
     },
     "execution_count": 15,
     "metadata": {},
     "output_type": "execute_result"
    }
   ],
   "source": [
    "xwm"
   ]
  },
  {
   "cell_type": "code",
   "execution_count": 16,
   "metadata": {},
   "outputs": [
    {
     "data": {
      "text/plain": [
       "array([0, 1, 0, 0, 0, 1, 0, 1, 0, 1, 1, 1, 0, 1, 0, 0, 0, 1, 1, 1, 0, 1,\n",
       "       0, 0, 0, 1, 1, 0, 1, 1, 1, 1, 0, 1, 1, 1, 0, 0, 1, 0, 0, 1, 1, 0,\n",
       "       0, 1, 0, 1, 0, 0, 1, 0, 0, 0, 0, 0, 0, 1, 0, 0, 1, 0, 0, 0, 0, 1,\n",
       "       1, 0, 1, 0, 0, 1, 0, 1, 1, 0, 0, 1, 0, 0, 0, 1, 1, 0, 1, 1, 1, 1,\n",
       "       0, 1, 1, 1, 0, 1, 0, 1, 0, 1, 1, 1, 1, 0, 0, 0])"
      ]
     },
     "execution_count": 16,
     "metadata": {},
     "output_type": "execute_result"
    }
   ],
   "source": [
    "target = get_watermark_from_text('Ettore Hidoux')\n",
    "target"
   ]
  },
  {
   "cell_type": "code",
   "execution_count": 3,
   "metadata": {},
   "outputs": [
    {
     "data": {
      "text/plain": [
       "array([[0, 0, 0, 0, 0, 0, 0, 0, 0, 0],\n",
       "       [0, 1, 0, 0, 0, 0, 0, 0, 0, 0],\n",
       "       [0, 0, 1, 0, 0, 0, 0, 0, 0, 0],\n",
       "       [0, 0, 0, 1, 0, 0, 0, 0, 0, 0],\n",
       "       [0, 0, 0, 0, 0, 0, 0, 0, 0, 0],\n",
       "       [0, 0, 0, 0, 0, 1, 0, 0, 0, 0],\n",
       "       [0, 0, 0, 0, 0, 0, 0, 0, 0, 0],\n",
       "       [0, 0, 0, 0, 0, 0, 0, 0, 0, 0],\n",
       "       [0, 0, 0, 0, 0, 0, 0, 0, 0, 0],\n",
       "       [0, 0, 0, 0, 0, 0, 0, 0, 0, 1]])"
      ]
     },
     "execution_count": 3,
     "metadata": {},
     "output_type": "execute_result"
    }
   ],
   "source": [
    "import numpy as np \n",
    "import random\n",
    "\n",
    "T = 10\n",
    "d = np.array(random.choices([0,1], k=T, weights=[0.25, 0.75]))\n",
    "\n",
    "np.diag(d)"
   ]
  },
  {
   "cell_type": "code",
   "execution_count": 29,
   "metadata": {},
   "outputs": [
    {
     "data": {
      "text/plain": [
       "tensor([0.0161, 0.1315, 0.0000, 0.2293, 0.0408, 0.1358, 0.0000, 0.1290, 0.0000,\n",
       "        0.0806], grad_fn=<ReluBackward0>)"
      ]
     },
     "execution_count": 29,
     "metadata": {},
     "output_type": "execute_result"
    }
   ],
   "source": [
    "import torch \n",
    "import torch.nn as nn\n",
    "import torch.nn.functional as F\n",
    "import numpy as np\n",
    "import random\n",
    "\n",
    "\n",
    "class Extractor(nn.Module):\n",
    "    def __init__(self, message_size, input_size, hidden_size):\n",
    "        super(Extractor, self).__init__()\n",
    "        p = message_size/input_size\n",
    "        good_shape = True\n",
    "        while good_shape:\n",
    "            self.d = np.random.choice([0,1], size=input_size, p=[1-p, p])\n",
    "            good_shape = ~(np.sum(self.d)==message_size)\n",
    "        self.map1 = nn.Linear(message_size, hidden_size)\n",
    "        self.map2 = nn.Linear(hidden_size, hidden_size)\n",
    "        self.map3 = nn.Linear(hidden_size, message_size)\n",
    "        \n",
    "    def forward(self, x):\n",
    "        x = torch.tensor([y for (y, Y) in zip(x, self.d) if Y!=0])\n",
    "        x = F.relu(self.map1(x))\n",
    "        x = F.relu(self.map2(x))\n",
    "        x = F.relu(self.map3(x))\n",
    "        return x \n",
    "    \n",
    "    \n",
    "T = 10\n",
    "d = np.array(random.choices([0,1], k=T)) \n",
    "extractor = Extractor(T, 24, 52)\n",
    "\n",
    "test = torch.tensor(np.random.uniform(size=24)).to(torch.float32)\n",
    "\n",
    "extractor(test)"
   ]
  },
  {
   "cell_type": "code",
   "execution_count": 30,
   "metadata": {},
   "outputs": [],
   "source": [
    "class Net(nn.Module):\n",
    "    def __init__(self, num_classes, conv_size=[6, 16], kernel_size=5):\n",
    "        super().__init__()\n",
    "        \n",
    "        flatten_size = conv_size[1] * kernel_size * kernel_size\n",
    "        kernel_size = (kernel_size, kernel_size)\n",
    "        \n",
    "        self.conv1 = nn.Conv2d(\n",
    "            in_channels=3, \n",
    "            out_channels=conv_size[0], \n",
    "            kernel_size=kernel_size)\n",
    "        self.conv2 = nn.Conv2d(\n",
    "            in_channels=conv_size[0], \n",
    "            out_channels=conv_size[1], \n",
    "            kernel_size=kernel_size)\n",
    "        self.pool = nn.MaxPool2d(\n",
    "            kernel_size=(2, 2), \n",
    "            stride=(2, 2))\n",
    "        self.fc1 = nn.Linear(\n",
    "            in_features=flatten_size, \n",
    "            out_features=int(0.6*flatten_size))\n",
    "        self.fc2 = nn.Linear(\n",
    "            in_features=int(0.6*flatten_size), \n",
    "            out_features=int(0.36*flatten_size))\n",
    "        self.fc3 = nn.Linear(\n",
    "            in_features=int(0.36*flatten_size), \n",
    "            out_features=num_classes)\n",
    "        \n",
    "        self.layers = {\n",
    "            'conv1': self.conv1,\n",
    "            'conv2': self.conv2,\n",
    "            'fc1': self.fc1,\n",
    "            'fc2': self.fc2,\n",
    "            'fc3': self.fc3\n",
    "        }\n",
    "        \n",
    "        self.prune_layers = (\n",
    "            (self.conv1, 'weight'),\n",
    "            (self.conv2, 'weight'),\n",
    "            (self.fc1, 'weight'),\n",
    "            (self.fc2, 'weight'),\n",
    "            (self.fc3, 'weight'),\n",
    "        )\n",
    "        \n",
    "    def forward(self, x):\n",
    "        x = self.pool(F.relu(self.conv1(x)))\n",
    "        x = self.pool(F.relu(self.conv2(x)))\n",
    "        x = torch.flatten(x, 1) # flatten all dimensions except batch\n",
    "        x = F.relu(self.fc1(x))\n",
    "        x = F.relu(self.fc2(x))\n",
    "        x = self.fc3(x)\n",
    "        return x"
   ]
  },
  {
   "cell_type": "code",
   "execution_count": 31,
   "metadata": {},
   "outputs": [],
   "source": [
    "net = Net(10)"
   ]
  },
  {
   "cell_type": "code",
   "execution_count": 36,
   "metadata": {},
   "outputs": [
    {
     "name": "stdout",
     "output_type": "stream",
     "text": [
      "torch.Size([6, 3, 5, 5])\n",
      "torch.Size([6])\n",
      "torch.Size([16, 6, 5, 5])\n",
      "torch.Size([16])\n",
      "torch.Size([240, 400])\n",
      "torch.Size([240])\n",
      "torch.Size([144, 240])\n",
      "torch.Size([144])\n",
      "torch.Size([10, 144])\n",
      "torch.Size([10])\n"
     ]
    },
    {
     "data": {
      "text/plain": [
       "torch.Size([1014])"
      ]
     },
     "execution_count": 36,
     "metadata": {},
     "output_type": "execute_result"
    }
   ],
   "source": [
    "params = []\n",
    "for parm in net.parameters():\n",
    "    print(parm.shape)\n",
    "    params.append(torch.mean(parm, 0).flatten())\n",
    "    \n",
    "params = torch.cat(params)\n",
    "params.shape"
   ]
  },
  {
   "cell_type": "code",
   "execution_count": 37,
   "metadata": {},
   "outputs": [
    {
     "data": {
      "text/plain": [
       "1014"
      ]
     },
     "execution_count": 37,
     "metadata": {},
     "output_type": "execute_result"
    }
   ],
   "source": [
    "75 + 1 + 150 + 1 + 400 + 1 + 240 + 1 + 144 + 1"
   ]
  },
  {
   "cell_type": "code",
   "execution_count": null,
   "metadata": {},
   "outputs": [],
   "source": []
  }
 ],
 "metadata": {
  "kernelspec": {
   "display_name": "Python 3",
   "language": "python",
   "name": "python3"
  },
  "language_info": {
   "codemirror_mode": {
    "name": "ipython",
    "version": 3
   },
   "file_extension": ".py",
   "mimetype": "text/x-python",
   "name": "python",
   "nbconvert_exporter": "python",
   "pygments_lexer": "ipython3",
   "version": "3.9.6"
  },
  "orig_nbformat": 4,
  "vscode": {
   "interpreter": {
    "hash": "31f2aee4e71d21fbe5cf8b01ff0e069b9275f58929596ceb00d14d90e3e16cd6"
   }
  }
 },
 "nbformat": 4,
 "nbformat_minor": 2
}
