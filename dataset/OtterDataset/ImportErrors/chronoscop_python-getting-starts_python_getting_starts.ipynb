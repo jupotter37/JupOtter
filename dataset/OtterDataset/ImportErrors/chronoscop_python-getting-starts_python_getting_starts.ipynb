{
 "cells": [
  {
   "cell_type": "markdown",
   "metadata": {
    "collapsed": false
   },
   "source": [
    "## After setting up your Python environment and IDE, run your first program, \"Hello World! \""
   ]
  },
  {
   "cell_type": "code",
   "execution_count": 27,
   "metadata": {
    "collapsed": false
   },
   "outputs": [
    {
     "name": "stdout",
     "output_type": "stream",
     "text": [
      "Hello World!\n"
     ]
    }
   ],
   "source": [
    "print(\"Hello World!\")"
   ]
  },
  {
   "cell_type": "markdown",
   "metadata": {},
   "source": [
    "### 1.Objects\n",
    "1. Objects are the fundamental building blocks of Python. Everything in Python is an object.\n",
    "2. Python has a large set of built-in objects, such as numbers, strings, lists, and dictionaries.\n",
    "3. Non-built-in objects can be imported from modules, such as sin(x), random( ).\n",
    "\n",
    "In python everything is an object. This means that both simple data types (like numbers, strings) and more complex data structures (like lists, dictionaries) as well as functions and classes are treated as objects.\n",
    "\n",
    "Objects have three properties: identity, type, and value. "
   ]
  },
  {
   "cell_type": "code",
   "execution_count": 26,
   "metadata": {},
   "outputs": [
    {
     "name": "stdout",
     "output_type": "stream",
     "text": [
      "identity: 140724869078064\n",
      "type: <class 'int'>\n",
      "value: 42\n"
     ]
    }
   ],
   "source": [
    "# create an  integer object\n",
    "num = 42\n",
    "\n",
    "# show the object's identity\n",
    "print(\"identity:\", id(num))\n",
    "\n",
    "# show the object's type\n",
    "print(\"type:\", type(num))\n",
    "\n",
    "# show the object's value\n",
    "print(\"value:\", num)"
   ]
  },
  {
   "cell_type": "markdown",
   "metadata": {},
   "source": [
    "**Note**： if you want to use the object from other library you should import it "
   ]
  },
  {
   "cell_type": "code",
   "execution_count": 4,
   "metadata": {
    "collapsed": false
   },
   "outputs": [
    {
     "ename": "NameError",
     "evalue": "name 'cos' is not defined",
     "output_type": "error",
     "traceback": [
      "\u001b[1;31m---------------------------------------------------------------------------\u001b[0m",
      "\u001b[1;31mNameError\u001b[0m                                 Traceback (most recent call last)",
      "Cell \u001b[1;32mIn[4], line 1\u001b[0m\n\u001b[1;32m----> 1\u001b[0m \u001b[43mcos\u001b[49m(\u001b[38;5;241m2\u001b[39m)\n",
      "\u001b[1;31mNameError\u001b[0m: name 'cos' is not defined"
     ]
    }
   ],
   "source": [
    "# wrong way\n",
    "cos(2)"
   ]
  },
  {
   "cell_type": "code",
   "execution_count": 12,
   "metadata": {
    "collapsed": false
   },
   "outputs": [
    {
     "data": {
      "text/plain": [
       "-0.4161468365471424"
      ]
     },
     "execution_count": 12,
     "metadata": {},
     "output_type": "execute_result"
    }
   ],
   "source": [
    "# The right way\n",
    "import math\n",
    "temp1 = math.cos(2)\n",
    "temp1"
   ]
  },
  {
   "cell_type": "markdown",
   "metadata": {},
   "source": [
    "### 2. object & print()"
   ]
  },
  {
   "cell_type": "code",
   "execution_count": 13,
   "metadata": {
    "execution": {
     "iopub.execute_input": "2023-09-16T03:28:14.915359Z",
     "iopub.status.busy": "2023-09-16T03:28:14.915041Z",
     "iopub.status.idle": "2023-09-16T03:28:14.920876Z",
     "shell.execute_reply": "2023-09-16T03:28:14.919849Z",
     "shell.execute_reply.started": "2023-09-16T03:28:14.915335Z"
    },
    "trusted": true
   },
   "outputs": [
    {
     "name": "stdout",
     "output_type": "stream",
     "text": [
      "Hello, world!\n",
      "x = 10 y = 20\n",
      "Hello-Python!\n"
     ]
    }
   ],
   "source": [
    "# print a simple message\n",
    "print(\"Hello, world!\")\n",
    "\n",
    "# print mutiple object\n",
    "x = 10\n",
    "y = 20\n",
    "print(\"x =\", x, \"y =\", y)\n",
    "\n",
    "# use sep and end to modify the output\n",
    "print(\"Hello\", \"Python\", sep=\"-\", end=\"!\\n\")"
   ]
  },
  {
   "cell_type": "markdown",
   "metadata": {},
   "source": [
    "### Input method"
   ]
  },
  {
   "cell_type": "code",
   "execution_count": 1,
   "metadata": {},
   "outputs": [
    {
     "name": "stdout",
     "output_type": "stream",
     "text": [
      "Hello lili\n"
     ]
    }
   ],
   "source": [
    "# get input from user\n",
    "name = input(\"Please enter your name: \")\n",
    "print(\"Hello\", name)"
   ]
  },
  {
   "cell_type": "markdown",
   "metadata": {},
   "source": [
    "### 3.Variable Naming"
   ]
  },
  {
   "cell_type": "markdown",
   "metadata": {
    "collapsed": false
   },
   "source": [
    "In python, you don't need to declare the variable type. you just need to assign a value to the variable."
   ]
  },
  {
   "cell_type": "markdown",
   "metadata": {
    "collapsed": false
   },
   "source": [
    "#### Some rules to declare the variable name:\n",
    "1. The variable name must start with a letter or an underscore.\n",
    "2. The variable name can not contain any spaces or special characters such as $, #,%, ^, &, *, (), -, +, =, [] and .\n",
    "3. You cannot use keywords as variable names \n",
    "- you can import keyword module and use print (keyword.kwlist) to see all the keywords.\n",
    "4. The variable name is case sensitive, student and Student are different variables.\n",
    "5. It is not recommended to use built-in module, type, or function names or imported module names and their members name as variable names, which will change their type and meaning. You can use dir(__builtins__) to see all the built-in modules, types, and functions."
   ]
  },
  {
   "cell_type": "code",
   "execution_count": 17,
   "metadata": {},
   "outputs": [
    {
     "data": {
      "text/plain": [
       "['ArithmeticError',\n",
       " 'AssertionError',\n",
       " 'AttributeError',\n",
       " 'BaseException',\n",
       " 'BlockingIOError',\n",
       " 'BrokenPipeError',\n",
       " 'BufferError',\n",
       " 'BytesWarning',\n",
       " 'ChildProcessError',\n",
       " 'ConnectionAbortedError',\n",
       " 'ConnectionError',\n",
       " 'ConnectionRefusedError',\n",
       " 'ConnectionResetError',\n",
       " 'DeprecationWarning',\n",
       " 'EOFError',\n",
       " 'Ellipsis',\n",
       " 'EnvironmentError',\n",
       " 'Exception',\n",
       " 'False',\n",
       " 'FileExistsError',\n",
       " 'FileNotFoundError',\n",
       " 'FloatingPointError',\n",
       " 'FutureWarning',\n",
       " 'GeneratorExit',\n",
       " 'IOError',\n",
       " 'ImportError',\n",
       " 'ImportWarning',\n",
       " 'IndentationError',\n",
       " 'IndexError',\n",
       " 'InterruptedError',\n",
       " 'IsADirectoryError',\n",
       " 'KeyError',\n",
       " 'KeyboardInterrupt',\n",
       " 'LookupError',\n",
       " 'MemoryError',\n",
       " 'ModuleNotFoundError',\n",
       " 'NameError',\n",
       " 'None',\n",
       " 'NotADirectoryError',\n",
       " 'NotImplemented',\n",
       " 'NotImplementedError',\n",
       " 'OSError',\n",
       " 'OverflowError',\n",
       " 'PendingDeprecationWarning',\n",
       " 'PermissionError',\n",
       " 'ProcessLookupError',\n",
       " 'RecursionError',\n",
       " 'ReferenceError',\n",
       " 'ResourceWarning',\n",
       " 'RuntimeError',\n",
       " 'RuntimeWarning',\n",
       " 'StopAsyncIteration',\n",
       " 'StopIteration',\n",
       " 'SyntaxError',\n",
       " 'SyntaxWarning',\n",
       " 'SystemError',\n",
       " 'SystemExit',\n",
       " 'TabError',\n",
       " 'TimeoutError',\n",
       " 'True',\n",
       " 'TypeError',\n",
       " 'UnboundLocalError',\n",
       " 'UnicodeDecodeError',\n",
       " 'UnicodeEncodeError',\n",
       " 'UnicodeError',\n",
       " 'UnicodeTranslateError',\n",
       " 'UnicodeWarning',\n",
       " 'UserWarning',\n",
       " 'ValueError',\n",
       " 'Warning',\n",
       " 'WindowsError',\n",
       " 'ZeroDivisionError',\n",
       " '__IPYTHON__',\n",
       " '__build_class__',\n",
       " '__debug__',\n",
       " '__doc__',\n",
       " '__import__',\n",
       " '__loader__',\n",
       " '__name__',\n",
       " '__package__',\n",
       " '__spec__',\n",
       " 'abs',\n",
       " 'all',\n",
       " 'any',\n",
       " 'ascii',\n",
       " 'bin',\n",
       " 'bool',\n",
       " 'breakpoint',\n",
       " 'bytearray',\n",
       " 'bytes',\n",
       " 'callable',\n",
       " 'chr',\n",
       " 'classmethod',\n",
       " 'compile',\n",
       " 'complex',\n",
       " 'copyright',\n",
       " 'credits',\n",
       " 'delattr',\n",
       " 'dict',\n",
       " 'dir',\n",
       " 'display',\n",
       " 'divmod',\n",
       " 'enumerate',\n",
       " 'eval',\n",
       " 'exec',\n",
       " 'execfile',\n",
       " 'filter',\n",
       " 'float',\n",
       " 'format',\n",
       " 'frozenset',\n",
       " 'get_ipython',\n",
       " 'getattr',\n",
       " 'globals',\n",
       " 'hasattr',\n",
       " 'hash',\n",
       " 'help',\n",
       " 'hex',\n",
       " 'id',\n",
       " 'input',\n",
       " 'int',\n",
       " 'isinstance',\n",
       " 'issubclass',\n",
       " 'iter',\n",
       " 'len',\n",
       " 'license',\n",
       " 'list',\n",
       " 'locals',\n",
       " 'map',\n",
       " 'max',\n",
       " 'memoryview',\n",
       " 'min',\n",
       " 'next',\n",
       " 'object',\n",
       " 'oct',\n",
       " 'open',\n",
       " 'ord',\n",
       " 'pow',\n",
       " 'print',\n",
       " 'property',\n",
       " 'range',\n",
       " 'repr',\n",
       " 'reversed',\n",
       " 'round',\n",
       " 'runfile',\n",
       " 'set',\n",
       " 'setattr',\n",
       " 'slice',\n",
       " 'sorted',\n",
       " 'staticmethod',\n",
       " 'str',\n",
       " 'sum',\n",
       " 'super',\n",
       " 'tuple',\n",
       " 'type',\n",
       " 'vars',\n",
       " 'zip']"
      ]
     },
     "execution_count": 17,
     "metadata": {},
     "output_type": "execute_result"
    }
   ],
   "source": [
    "dir(__builtins__)"
   ]
  },
  {
   "cell_type": "markdown",
   "metadata": {},
   "source": [
    "* **a**：variable\n",
    "* **=**：assign\n",
    "* **42**: value"
   ]
  },
  {
   "cell_type": "code",
   "execution_count": 16,
   "metadata": {
    "execution": {
     "iopub.execute_input": "2023-09-17T02:14:11.825545Z",
     "iopub.status.busy": "2023-09-17T02:14:11.825129Z",
     "iopub.status.idle": "2023-09-17T02:14:11.831478Z",
     "shell.execute_reply": "2023-09-17T02:14:11.830349Z",
     "shell.execute_reply.started": "2023-09-17T02:14:11.825510Z"
    },
    "trusted": true
   },
   "outputs": [
    {
     "name": "stdout",
     "output_type": "stream",
     "text": [
      "42\n",
      "30.0\n"
     ]
    }
   ],
   "source": [
    "a = 42\n",
    "A = 30.0\n",
    "\n",
    "print(a)\n",
    "print(A)"
   ]
  },
  {
   "cell_type": "markdown",
   "metadata": {},
   "source": [
    "### Naming Conventions\n",
    "The Python community recommend several naming conventions to enhance code readability and maintainability. \n",
    "1. Lowercase with underscores (snake_case): Used for variable and function names.\n",
    "    my_variable = 10\n",
    "\n",
    "2. Capitalized words (CamelCase): Typically used for class names.\n",
    "    class MyClassName:\n",
    "\n",
    "3. Single leading underscore (_variable): Conventionally used for variables or functions that should not be accessed from outside the class.\n",
    "\n",
    "4. Leading double underscore (__variable): When used in a class, this triggers name mangling to avoid name conflicts in subclasses.\n",
    "    class MyClass:\n",
    "    def __init__(self):\n",
    "        self.__private_var = 100\n",
    "\n",
    "5. Double leading and trailing underscores (__variable__): Used in classes to avoid name conflicts with attributes or methods of the same name.\n"
   ]
  },
  {
   "cell_type": "markdown",
   "metadata": {},
   "source": [
    "### Naming Recommendations\n",
    "1. Meaningful Names: Variable names should reflect the purpose of the variable. For example, use age, total_price, etc., rather than meaningless names like a or var1.\n",
    "\n",
    "2. Keep It Concise: Make variable names as concise and meaningful as possible.\n",
    "\n",
    "3. Avoid Overusing Underscores: While underscores can be used to separate words for readability, overusing them can make the code difficult to read."
   ]
  },
  {
   "cell_type": "code",
   "execution_count": 18,
   "metadata": {
    "collapsed": false
   },
   "outputs": [],
   "source": [
    "x = 3\n",
    "y = x"
   ]
  },
  {
   "cell_type": "code",
   "execution_count": 19,
   "metadata": {
    "collapsed": false
   },
   "outputs": [
    {
     "name": "stdout",
     "output_type": "stream",
     "text": [
      "3\n"
     ]
    }
   ],
   "source": [
    "print(y)"
   ]
  },
  {
   "cell_type": "code",
   "execution_count": 20,
   "metadata": {
    "collapsed": false
   },
   "outputs": [],
   "source": [
    "x = x + 6"
   ]
  },
  {
   "cell_type": "code",
   "execution_count": 21,
   "metadata": {
    "collapsed": false
   },
   "outputs": [
    {
     "name": "stdout",
     "output_type": "stream",
     "text": [
      "3\n"
     ]
    }
   ],
   "source": [
    "print(y)"
   ]
  },
  {
   "cell_type": "markdown",
   "metadata": {},
   "source": [
    "Python cannot print a non-existent object."
   ]
  },
  {
   "cell_type": "code",
   "execution_count": 11,
   "metadata": {},
   "outputs": [],
   "source": [
    "print(alice)"
   ]
  },
  {
   "cell_type": "markdown",
   "metadata": {},
   "source": [
    "### Types of Python Data\n",
    "\n",
    "**Numeric Types:**\n",
    "\n",
    "- **Integer (int)**: Represents whole numbers, e.g., `-5`, `0`, `100`.\n",
    "- **Floating Point (float)**: Represents numbers with decimal points, e.g., `3.14`, `-0.001`.\n",
    "- **Complex (complex)**: Represents complex numbers with real and imaginary parts, e.g., `3 + 4j`.\n",
    "\n",
    "**Boolean Type:**\n",
    "\n",
    "- **Boolean (bool)**: Represents logical values, which can only be `True` or `False`.\n",
    "\n",
    "**Sequence Types:**\n",
    "\n",
    "- **String (str)**: Represents text, enclosed in single or double quotes.\n",
    "- **List (list)**: Represents a mutable ordered collection, which can contain elements of different types.\n",
    "- **Tuple (tuple)**: Represents an immutable ordered collection, where elements cannot be modified.\n",
    "\n",
    "**Set Types:**\n",
    "\n",
    "- **Set (set)**: Represents an unordered collection of unique elements.\n",
    "- **Frozen Set (frozenset)**: Represents an immutable set.\n",
    "\n",
    "**Mapping Type:**\n",
    "\n",
    "- **Dictionary (dict)**: Represents a mutable collection of key-value pairs, which is unordered.\n",
    "\n",
    "**NoneType:**\n",
    "\n",
    "- **None**: Represents a special null value.\n",
    "\n",
    "**Callable Types:**\n",
    "\n",
    "- **Function (function)**: Represents an object that can be called (i.e., executed).\n",
    "\n",
    "**Iterators and Generators:**\n",
    "\n",
    "- **Iterator (iterator)**: Represents an object that can be iterated over element by element.\n",
    "- **Generator (generator)**: Represents a function that yields an iterator.\n",
    "\n",
    "**Module Type:**\n",
    "\n",
    "- **Module (module)**: Represents a file containing Python definitions and statements.\n",
    "\n",
    "**Class and Instance:**\n",
    "\n",
    "- **Class (class)**: Represents a blueprint or template for creating objects.\n",
    "- **Instance (instance)**: Represents an object created from a class.\n",
    "\n",
    "**File Objects:**\n",
    "\n",
    "- **File (file)**: Represents an object used for reading and writing to files.\n",
    "\n",
    "**Other Built-in Types:**\n",
    "\n",
    "- **Range (range)**: Represents a sequence of numbers.\n",
    "- **Bytes and Bytearray (bytes, bytearray)**: Represents and manipulates byte data.\n",
    "- **Memory View (memoryview)**: Represents a memory view object that exposes the memory of other objects.\n",
    "\n",
    "These are some of the basic data types in Python. Python also supports many other third-party libraries that can extend these basic data types to meet more specific needs.\n"
   ]
  },
  {
   "cell_type": "markdown",
   "metadata": {},
   "source": [
    "### Q: Is Python Useful as a Calculator?\n",
    "\n",
    "Python is not only a powerful programming language but also frequently used for daily calculations, scientific computations, and even as a teaching tool. However, when using Python as a calculator, it's important to be aware of certain behaviors, especially when dealing with floating-point arithmetic."
   ]
  },
  {
   "cell_type": "markdown",
   "metadata": {},
   "source": [
    "### Basic Arithmetic Operations:\n",
    "Python supports all basic arithmetic operations such as addition (`+`), subtraction (`-`), multiplication (`*`), division (`/`), and exponentiation (`**`)."
   ]
  },
  {
   "cell_type": "code",
   "execution_count": null,
   "metadata": {},
   "outputs": [],
   "source": [
    "# addition\n",
    "print(2 + 3)  # 5\n",
    "\n",
    "# subtraction\n",
    "print(5 - 3)  # 2\n",
    "\n",
    "# multiplication\n",
    "print(10 * 5)  #  50\n",
    "\n",
    "# division\n",
    "print(10 / 2)  # 5.0"
   ]
  },
  {
   "cell_type": "markdown",
   "metadata": {},
   "source": [
    "### Floating-Point Arithmetic:\n",
    "\n",
    "When dealing with floating-point numbers, it's important to note that they can sometimes lead to precision issues due to the way they are represented in memory."
   ]
  },
  {
   "cell_type": "code",
   "execution_count": 23,
   "metadata": {},
   "outputs": [
    {
     "name": "stdout",
     "output_type": "stream",
     "text": [
      "0.30000000000000004\n"
     ]
    }
   ],
   "source": [
    "result = 0.1 + 0.2\n",
    "print(result)"
   ]
  },
  {
   "cell_type": "markdown",
   "metadata": {},
   "source": [
    "This issue is due to the fact that floating-point numbers are encoded in most programming languages using the IEEE Floating-point number standard, which in some cases fails to accurately represent certain decimal decimal numbers."
   ]
  },
  {
   "cell_type": "markdown",
   "metadata": {},
   "source": [
    "**solution**: to mitigate such issues, Python provides the `decimal` module, which offers decimal floating-point arithmetic with more precision."
   ]
  },
  {
   "cell_type": "code",
   "execution_count": 24,
   "metadata": {},
   "outputs": [
    {
     "name": "stdout",
     "output_type": "stream",
     "text": [
      "0.3\n"
     ]
    }
   ],
   "source": [
    "from decimal import Decimal\n",
    "\n",
    "# Example of using the decimal module for precise arithmetic\n",
    "result10 = Decimal('0.1') + Decimal('0.2')\n",
    "print(result10)  # Output will be 0.3\n"
   ]
  }
 ],
 "metadata": {
  "kernelspec": {
   "display_name": "Python 3",
   "language": "python",
   "name": "python3"
  },
  "language_info": {
   "codemirror_mode": {
    "name": "ipython",
    "version": 3
   },
   "file_extension": ".py",
   "mimetype": "text/x-python",
   "name": "python",
   "nbconvert_exporter": "python",
   "pygments_lexer": "ipython3",
   "version": "3.8.10"
  }
 },
 "nbformat": 4,
 "nbformat_minor": 4
}
