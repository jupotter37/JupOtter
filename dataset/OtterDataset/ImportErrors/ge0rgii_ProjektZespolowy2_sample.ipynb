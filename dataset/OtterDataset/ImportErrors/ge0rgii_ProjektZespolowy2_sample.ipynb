{
 "cells": [
  {
   "metadata": {},
   "cell_type": "markdown",
   "source": [
    "# This is a sample Jupyter Notebook\n",
    "\n",
    "Below is an example of a code cell. \n",
    "Put your cursor into the cell and press Shift+Enter to execute it and select the next one, or click !here goes the icon of the corresponding button in the gutter! button.\n",
    "To debug a cell, press Alt+Shift+Enter, or click !here goes the icon of the corresponding button in the gutter! button.\n",
    "\n",
    "Press Double Shift to search everywhere for classes, files, tool windows, actions, and settings.\n",
    "\n",
    "To learn more about Jupyter Notebooks in PyCharm, see [help](https://www.jetbrains.com/help/pycharm/jupyter-notebook-support.html).\n",
    "For an overview of PyCharm, go to Help -> Learn IDE features or refer to [our documentation](https://www.jetbrains.com/help/pycharm/getting-started.html)."
   ],
   "id": "8a77807f92f26ee"
  },
  {
   "metadata": {
    "ExecuteTime": {
     "end_time": "2024-06-01T15:44:44.405955Z",
     "start_time": "2024-06-01T15:44:43.999706Z"
    }
   },
   "cell_type": "code",
   "source": "import numpy as np",
   "id": "fbc121e30a2defb3",
   "outputs": [
    {
     "ename": "ModuleNotFoundError",
     "evalue": "No module named 'numpy'",
     "output_type": "error",
     "traceback": [
      "\u001B[1;31m---------------------------------------------------------------------------\u001B[0m",
      "\u001B[1;31mModuleNotFoundError\u001B[0m                       Traceback (most recent call last)",
      "Cell \u001B[1;32mIn[1], line 1\u001B[0m\n\u001B[1;32m----> 1\u001B[0m \u001B[38;5;28;01mimport\u001B[39;00m \u001B[38;5;21;01mnumpy\u001B[39;00m \u001B[38;5;28;01mas\u001B[39;00m \u001B[38;5;21;01mnp\u001B[39;00m\n",
      "\u001B[1;31mModuleNotFoundError\u001B[0m: No module named 'numpy'"
     ]
    }
   ],
   "execution_count": 1
  },
  {
   "metadata": {},
   "cell_type": "code",
   "outputs": [],
   "execution_count": null,
   "source": "",
   "id": "e4397dda1dac5607"
  },
  {
   "metadata": {
    "ExecuteTime": {
     "end_time": "2024-05-27T23:11:44.641481Z",
     "start_time": "2024-05-27T23:11:44.635965Z"
    }
   },
   "cell_type": "code",
   "source": "np.version",
   "id": "25bae24a3421c72b",
   "outputs": [
    {
     "data": {
      "text/plain": [
       "<module 'numpy.version' from 'C:\\\\ProgramData\\\\anaconda3\\\\Lib\\\\site-packages\\\\numpy\\\\version.py'>"
      ]
     },
     "execution_count": 3,
     "metadata": {},
     "output_type": "execute_result"
    }
   ],
   "execution_count": 3
  },
  {
   "metadata": {
    "ExecuteTime": {
     "end_time": "2024-06-02T17:58:48.235419Z",
     "start_time": "2024-06-02T17:58:48.225914Z"
    }
   },
   "cell_type": "code",
   "source": [
    "import sys\n",
    "import os\n",
    "\n",
    "print(f\"Python executable: {sys.executable}\")\n"
   ],
   "id": "971c76ac01c5782c",
   "outputs": [
    {
     "name": "stdout",
     "output_type": "stream",
     "text": [
      "Python executable: C:\\Users\\jerzy\\.conda\\envs\\torch_gpu_test\\python.exe\n"
     ]
    }
   ],
   "execution_count": 2
  },
  {
   "metadata": {
    "ExecuteTime": {
     "end_time": "2024-05-30T21:38:42.508470Z",
     "start_time": "2024-05-30T21:38:39.877196Z"
    }
   },
   "cell_type": "code",
   "source": "!conda info --envs\n",
   "id": "8e9e5f6bd7e3a70e",
   "outputs": [
    {
     "name": "stdout",
     "output_type": "stream",
     "text": [
      "# conda environments:\n",
      "#\n",
      "base                  *  C:\\ProgramData\\anaconda3\n",
      "\n"
     ]
    }
   ],
   "execution_count": 3
  },
  {
   "metadata": {
    "ExecuteTime": {
     "end_time": "2024-06-02T18:06:15.713981Z",
     "start_time": "2024-06-02T18:06:15.705959Z"
    }
   },
   "cell_type": "code",
   "source": [
    "try:\n",
    "    import tensorflow as tf\n",
    "    print(f\"TensorFlow version: {tf.__version__}\")\n",
    "except ImportError:\n",
    "    print(\"TensorFlow is not installed\")\n"
   ],
   "id": "a4b035055b1f9bc",
   "outputs": [
    {
     "name": "stdout",
     "output_type": "stream",
     "text": [
      "TensorFlow version: 2.10.1\n"
     ]
    }
   ],
   "execution_count": 7
  },
  {
   "metadata": {},
   "cell_type": "code",
   "source": [
    "import sys\n",
    "print(sys.executable)\n"
   ],
   "id": "7af66b5736bfae0",
   "outputs": [],
   "execution_count": null
  },
  {
   "metadata": {
    "ExecuteTime": {
     "end_time": "2024-06-02T18:08:07.545652Z",
     "start_time": "2024-06-02T18:08:06.849685Z"
    }
   },
   "cell_type": "code",
   "source": "!pip list \n",
   "id": "329f3c4520f1451c",
   "outputs": [
    {
     "name": "stdout",
     "output_type": "stream",
     "text": [
      "Package                      Version\n",
      "---------------------------- ------------------\n",
      "absl-py                      2.1.0\n",
      "aiohttp                      3.9.5\n",
      "aiosignal                    1.2.0\n",
      "anyio                        4.2.0\n",
      "argon2-cffi                  21.3.0\n",
      "argon2-cffi-bindings         21.2.0\n",
      "astor                        0.8.1\n",
      "asttokens                    2.0.5\n",
      "astunparse                   1.6.3\n",
      "async-lru                    2.0.4\n",
      "async-timeout                4.0.3\n",
      "attrs                        23.1.0\n",
      "Babel                        2.11.0\n",
      "backcall                     0.2.0\n",
      "beautifulsoup4               4.12.2\n",
      "bleach                       4.1.0\n",
      "blinker                      1.6.2\n",
      "Brotli                       1.0.9\n",
      "cachetools                   5.3.3\n",
      "certifi                      2024.2.2\n",
      "cffi                         1.16.0\n",
      "charset-normalizer           2.0.4\n",
      "click                        8.1.7\n",
      "colorama                     0.4.6\n",
      "comm                         0.2.1\n",
      "cryptography                 42.0.5\n",
      "debugpy                      1.6.7\n",
      "decorator                    5.1.1\n",
      "defusedxml                   0.7.1\n",
      "exceptiongroup               1.2.0\n",
      "executing                    0.8.3\n",
      "fastjsonschema               2.16.2\n",
      "filelock                     3.13.1\n",
      "flatbuffers                  24.3.25\n",
      "frozenlist                   1.4.0\n",
      "fsspec                       2024.5.0\n",
      "gast                         0.4.0\n",
      "gmpy2                        2.1.2\n",
      "google-auth                  2.29.0\n",
      "google-auth-oauthlib         0.4.6\n",
      "google-pasta                 0.2.0\n",
      "grpcio                       1.48.2\n",
      "h5py                         2.10.0\n",
      "huggingface-hub              0.23.2\n",
      "idna                         3.7\n",
      "importlib-metadata           7.0.1\n",
      "importlib-resources          6.1.1\n",
      "intel-openmp                 2021.4.0\n",
      "ipykernel                    6.28.0\n",
      "ipython                      8.12.2\n",
      "ipywidgets                   8.1.2\n",
      "jedi                         0.18.1\n",
      "Jinja2                       3.1.4\n",
      "json5                        0.9.6\n",
      "jsonschema                   4.19.2\n",
      "jsonschema-specifications    2023.7.1\n",
      "jupyter                      1.0.0\n",
      "jupyter_client               8.6.0\n",
      "jupyter-console              6.6.3\n",
      "jupyter_core                 5.5.0\n",
      "jupyter-events               0.8.0\n",
      "jupyter-lsp                  2.2.0\n",
      "jupyter_server               2.10.0\n",
      "jupyter_server_terminals     0.4.4\n",
      "jupyterlab                   4.0.11\n",
      "jupyterlab-pygments          0.1.2\n",
      "jupyterlab_server            2.25.1\n",
      "jupyterlab-widgets           3.0.10\n",
      "keras                        2.10.0\n",
      "Keras-Applications           1.0.8\n",
      "Keras-Preprocessing          1.1.2\n",
      "libclang                     18.1.1\n",
      "Markdown                     3.4.1\n",
      "MarkupSafe                   2.1.3\n",
      "matplotlib-inline            0.1.6\n",
      "mistune                      2.0.4\n",
      "mkl                          2021.4.0\n",
      "mkl-fft                      1.3.1\n",
      "mkl-random                   1.2.2\n",
      "mkl-service                  2.4.0\n",
      "mpmath                       1.3.0\n",
      "multidict                    6.0.4\n",
      "nbclient                     0.8.0\n",
      "nbconvert                    7.10.0\n",
      "nbformat                     5.9.2\n",
      "nest-asyncio                 1.6.0\n",
      "networkx                     3.1\n",
      "notebook                     7.0.8\n",
      "notebook_shim                0.2.3\n",
      "numpy                        1.23.5\n",
      "oauthlib                     3.2.2\n",
      "opt-einsum                   3.3.0\n",
      "overrides                    7.4.0\n",
      "packaging                    23.2\n",
      "pandocfilters                1.5.0\n",
      "parso                        0.8.3\n",
      "pickleshare                  0.7.5\n",
      "pillow                       10.3.0\n",
      "pip                          24.0\n",
      "pkgutil_resolve_name         1.3.10\n",
      "platformdirs                 3.10.0\n",
      "ply                          3.11\n",
      "pooch                        1.7.0\n",
      "prometheus-client            0.14.1\n",
      "prompt-toolkit               3.0.43\n",
      "protobuf                     3.19.6\n",
      "psutil                       5.9.0\n",
      "pure-eval                    0.2.2\n",
      "pyasn1                       0.4.8\n",
      "pyasn1-modules               0.2.8\n",
      "pycparser                    2.21\n",
      "Pygments                     2.15.1\n",
      "PyJWT                        2.8.0\n",
      "pyOpenSSL                    24.0.0\n",
      "PyQt5                        5.15.10\n",
      "PyQt5-sip                    12.13.0\n",
      "pyreadline                   2.1\n",
      "PySocks                      1.7.1\n",
      "python-dateutil              2.9.0.post0\n",
      "python-json-logger           2.0.7\n",
      "pytz                         2024.1\n",
      "pywin32                      305.1\n",
      "pywinpty                     2.0.10\n",
      "PyYAML                       6.0.1\n",
      "pyzmq                        25.1.2\n",
      "qtconsole                    5.5.1\n",
      "QtPy                         2.4.1\n",
      "referencing                  0.30.2\n",
      "regex                        2024.5.15\n",
      "requests                     2.32.2\n",
      "requests-oauthlib            1.3.0\n",
      "rfc3339-validator            0.1.4\n",
      "rfc3986-validator            0.1.1\n",
      "rpds-py                      0.10.6\n",
      "rsa                          4.7.2\n",
      "safetensors                  0.4.3\n",
      "scipy                        1.10.1\n",
      "Send2Trash                   1.8.2\n",
      "setuptools                   69.5.1\n",
      "sip                          6.7.12\n",
      "six                          1.16.0\n",
      "sniffio                      1.3.0\n",
      "soupsieve                    2.5\n",
      "stack-data                   0.2.0\n",
      "sympy                        1.12\n",
      "tbb                          2021.12.0\n",
      "tensorboard                  2.10.1\n",
      "tensorboard-data-server      0.6.1\n",
      "tensorboard-plugin-wit       1.8.1\n",
      "tensorflow                   2.10.1\n",
      "tensorflow-estimator         2.10.0\n",
      "tensorflow-io-gcs-filesystem 0.31.0\n",
      "termcolor                    2.1.0\n",
      "terminado                    0.17.1\n",
      "timm                         1.0.3\n",
      "tinycss2                     1.2.1\n",
      "tokenizers                   0.19.1\n",
      "tomli                        2.0.1\n",
      "torch                        2.4.0.dev20240531\n",
      "torchaudio                   2.2.0.dev20240531\n",
      "torchvision                  0.19.0.dev20240531\n",
      "tornado                      6.3.3\n",
      "tqdm                         4.66.4\n",
      "traitlets                    5.7.1\n",
      "transformers                 4.41.2\n",
      "typing_extensions            4.8.0\n",
      "urllib3                      2.2.1\n",
      "wcwidth                      0.2.5\n",
      "webencodings                 0.5.1\n",
      "websocket-client             1.8.0\n",
      "Werkzeug                     3.0.3\n",
      "wheel                        0.43.0\n",
      "widgetsnbextension           4.0.10\n",
      "win-inet-pton                1.1.0\n",
      "wrapt                        1.14.1\n",
      "yarl                         1.9.3\n",
      "zipp                         3.17.0\n"
     ]
    }
   ],
   "execution_count": 11
  },
  {
   "metadata": {
    "ExecuteTime": {
     "end_time": "2024-06-01T14:57:44.320518Z",
     "start_time": "2024-06-01T14:57:44.315123Z"
    }
   },
   "cell_type": "code",
   "source": [
    "import tensorflow as tf\n",
    "\n",
    "# Check GPU availability\n",
    "print(\"Num GPUs Available: \", len(tf.config.list_physical_devices('GPU')))\n",
    "\n",
    "# Check if TensorFlow was built with CUDA support\n",
    "print(\"Built with CUDA:\", tf.test.is_built_with_cuda())\n",
    "\n",
    "# Get CUDA and cuDNN version\n",
    "try:\n",
    "    cuda_version = tf.sysconfig.get_build_info().get(\"cuda_version\", \"Not found\")\n",
    "    cudnn_version = tf.sysconfig.get_build_info().get(\"cudnn_version\", \"Not found\")\n",
    "    print(\"CUDA Version: \", cuda_version)\n",
    "    print(\"cuDNN Version: \", cudnn_version)\n",
    "except KeyError as e:\n",
    "    print(f\"KeyError: {e}\")\n"
   ],
   "id": "ec7fb1f920855ff8",
   "outputs": [
    {
     "name": "stdout",
     "output_type": "stream",
     "text": [
      "Num GPUs Available:  0\n",
      "Built with CUDA: True\n",
      "CUDA Version:  64_112\n",
      "cuDNN Version:  64_8\n"
     ]
    }
   ],
   "execution_count": 19
  },
  {
   "metadata": {},
   "cell_type": "code",
   "outputs": [],
   "execution_count": null,
   "source": "",
   "id": "50c1bc5f8d339a7d"
  },
  {
   "metadata": {
    "ExecuteTime": {
     "end_time": "2024-06-01T15:02:27.578174Z",
     "start_time": "2024-06-01T15:02:27.558159Z"
    }
   },
   "cell_type": "code",
   "source": [
    "import tensorflow as tf\n",
    "\n",
    "# List all physical devices\n",
    "devices = tf.config.list_physical_devices()\n",
    "print(devices)\n",
    "\n",
    "# To list only GPUs, you can use:\n",
    "gpus = tf.config.list_physical_devices('GPU')\n",
    "print(gpus)\n"
   ],
   "id": "14bdbc2c82a53339",
   "outputs": [
    {
     "name": "stdout",
     "output_type": "stream",
     "text": [
      "[PhysicalDevice(name='/physical_device:CPU:0', device_type='CPU')]\n",
      "[]\n"
     ]
    }
   ],
   "execution_count": 18
  },
  {
   "metadata": {
    "ExecuteTime": {
     "end_time": "2024-06-01T15:34:55.771694Z",
     "start_time": "2024-06-01T15:34:55.686696Z"
    }
   },
   "cell_type": "code",
   "source": [
    "!set CUDA_HOME=C:\\Program Files\\NVIDIA GPU Computing Toolkit\\CUDA\\v12.5\n",
    "!set LD_LIBRARY_PATH=C:\\Program Files\\NVIDIA GPU Computing Toolkit\\CUDA\\v12.5\\bin\n",
    "\n",
    "import tensorflow as tf; print(tf.config.list_physical_devices('GPU'))"
   ],
   "id": "4c86b0cc6834765",
   "outputs": [
    {
     "name": "stdout",
     "output_type": "stream",
     "text": [
      "[]\n"
     ]
    }
   ],
   "execution_count": 10
  },
  {
   "metadata": {
    "ExecuteTime": {
     "end_time": "2024-06-03T09:03:56.984362Z",
     "start_time": "2024-06-03T09:03:54.311405Z"
    }
   },
   "cell_type": "code",
   "source": [
    "import torch\n",
    "print(f\"PyTorch version: {torch.__version__}\")\n",
    "print(f\"CUDA available: {torch.cuda.is_available()}\")\n",
    "if torch.cuda.is_available():\n",
    "    print(f\"CUDA version: {torch.version.cuda}\")\n",
    "    print(f\"Device count: {torch.cuda.device_count()}\")\n",
    "    print(f\"Current device: {torch.cuda.current_device()}\")\n",
    "    print(f\"Device name: {torch.cuda.get_device_name(torch.cuda.current_device())}\")\n"
   ],
   "id": "946c36905e6bb916",
   "outputs": [
    {
     "name": "stdout",
     "output_type": "stream",
     "text": [
      "PyTorch version: 2.4.0.dev20240531\n",
      "CUDA available: True\n",
      "CUDA version: 12.4\n",
      "Device count: 1\n",
      "Current device: 0\n",
      "Device name: NVIDIA GeForce RTX 4070 Laptop GPU\n"
     ]
    }
   ],
   "execution_count": 1
  },
  {
   "metadata": {
    "ExecuteTime": {
     "end_time": "2024-06-01T14:59:54.466543Z",
     "start_time": "2024-06-01T14:59:54.456889Z"
    }
   },
   "cell_type": "code",
   "source": [
    "import tensorflow as tf\n",
    "print(tf.__version__)\n"
   ],
   "id": "b4fdf8f73b0efac4",
   "outputs": [
    {
     "name": "stdout",
     "output_type": "stream",
     "text": [
      "2.10.1\n"
     ]
    }
   ],
   "execution_count": 10
  },
  {
   "metadata": {
    "ExecuteTime": {
     "end_time": "2024-06-01T14:59:49.853636Z",
     "start_time": "2024-06-01T14:59:49.843267Z"
    }
   },
   "cell_type": "code",
   "source": [
    "import sys\n",
    "print(sys.executable)\n",
    "\n"
   ],
   "id": "4a5ff949a5f75f2",
   "outputs": [
    {
     "name": "stdout",
     "output_type": "stream",
     "text": [
      "C:\\Users\\jerzy\\.conda\\envs\\tf_gpu_test\\python.exe\n"
     ]
    }
   ],
   "execution_count": 9
  },
  {
   "metadata": {
    "ExecuteTime": {
     "end_time": "2024-06-03T10:09:05.797330Z",
     "start_time": "2024-06-03T10:09:05.695026Z"
    }
   },
   "cell_type": "code",
   "source": "import scipy",
   "id": "8735c31673baec99",
   "outputs": [],
   "execution_count": 1
  },
  {
   "metadata": {
    "ExecuteTime": {
     "end_time": "2024-06-03T09:08:04.258212Z",
     "start_time": "2024-06-03T09:08:04.245110Z"
    }
   },
   "cell_type": "code",
   "source": [
    "import sys\n",
    "print(sys.executable)\n",
    "\n"
   ],
   "id": "fbe769693b9a95dd",
   "outputs": [
    {
     "name": "stdout",
     "output_type": "stream",
     "text": [
      "C:\\Users\\jerzy\\.conda\\envs\\torch_gpu_test\\python.exe\n"
     ]
    }
   ],
   "execution_count": 4
  },
  {
   "metadata": {},
   "cell_type": "code",
   "outputs": [],
   "execution_count": null,
   "source": "",
   "id": "3e5b9a71ed04cc0f"
  },
  {
   "metadata": {
    "ExecuteTime": {
     "end_time": "2024-06-03T09:05:14.791649Z",
     "start_time": "2024-06-03T09:05:13.399339Z"
    }
   },
   "cell_type": "code",
   "source": [
    "import torch\n",
    "import torch.nn as nn\n",
    "import torch.optim as optim\n",
    "\n",
    "# Check if GPU is available\n",
    "device = torch.device(\"cuda\" if torch.cuda.is_available() else \"cpu\")\n",
    "print(f\"Using device: {device}\")\n",
    "\n",
    "# Define a simple neural network\n",
    "class SimpleNN(nn.Module):\n",
    "    def __init__(self):\n",
    "        super(SimpleNN, self).__init__()\n",
    "        self.layer1 = nn.Linear(10, 50)\n",
    "        self.layer2 = nn.Linear(50, 1)\n",
    "    \n",
    "    def forward(self, x):\n",
    "        x = torch.relu(self.layer1(x))\n",
    "        x = self.layer2(x)\n",
    "        return x\n",
    "\n",
    "# Create the model and move it to the device\n",
    "model = SimpleNN().to(device)\n",
    "\n",
    "# Create a random dataset\n",
    "data = torch.randn(100, 10).to(device)\n",
    "labels = torch.randn(100, 1).to(device)\n",
    "\n",
    "# Define a loss function and optimizer\n",
    "criterion = nn.MSELoss()\n",
    "optimizer = optim.SGD(model.parameters(), lr=0.01)\n",
    "\n",
    "# Perform a single training step\n",
    "model.train()\n",
    "optimizer.zero_grad()\n",
    "outputs = model(data)\n",
    "loss = criterion(outputs, labels)\n",
    "loss.backward()\n",
    "optimizer.step()\n",
    "\n",
    "print(\"Training step completed on GPU\" if torch.cuda.is_available() else \"Training step completed on CPU\")\n"
   ],
   "id": "8534d40b9dc57294",
   "outputs": [
    {
     "name": "stdout",
     "output_type": "stream",
     "text": [
      "Using device: cuda\n",
      "Training step completed on GPU\n"
     ]
    }
   ],
   "execution_count": 2
  },
  {
   "metadata": {
    "ExecuteTime": {
     "end_time": "2024-06-03T09:08:00.058955Z",
     "start_time": "2024-06-03T09:08:00.032600Z"
    }
   },
   "cell_type": "code",
   "source": [
    "import sys\n",
    "print(sys.version)\n"
   ],
   "id": "1191e71904d96fb4",
   "outputs": [
    {
     "name": "stdout",
     "output_type": "stream",
     "text": [
      "3.8.19 (default, Mar 20 2024, 19:55:45) [MSC v.1916 64 bit (AMD64)]\n"
     ]
    }
   ],
   "execution_count": 3
  }
 ],
 "metadata": {
  "kernelspec": {
   "display_name": "tf_new",
   "language": "python",
   "name": "tf_new"
  },
  "language_info": {
   "codemirror_mode": {
    "name": "ipython",
    "version": 2
   },
   "file_extension": ".py",
   "mimetype": "text/x-python",
   "name": "python",
   "nbconvert_exporter": "python",
   "pygments_lexer": "ipython2",
   "version": "2.7.6"
  }
 },
 "nbformat": 4,
 "nbformat_minor": 5
}
