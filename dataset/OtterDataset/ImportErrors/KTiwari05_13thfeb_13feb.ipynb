{
 "cells": [
  {
   "cell_type": "markdown",
   "id": "4bb6ce36-2114-4179-9f31-9b20317aaeb9",
   "metadata": {},
   "source": [
    "## Ans 1)"
   ]
  },
  {
   "cell_type": "markdown",
   "id": "59cda211-2f27-4819-9e17-9449355f2342",
   "metadata": {},
   "source": [
    "#### it is recommended to derive the custom exception class from the built-in Exception class or one of its subclasses. Here are a few reasons why using the Exception class as the base class for custom exceptions is a good practice:"
   ]
  },
  {
   "cell_type": "markdown",
   "id": "c5ac5ef3-f921-491e-9477-a34aa2e1ab8c",
   "metadata": {},
   "source": [
    "## Ans 2)"
   ]
  },
  {
   "cell_type": "code",
   "execution_count": null,
   "id": "cb77471f-df6f-4b0c-88ba-4d75caf30f1e",
   "metadata": {},
   "outputs": [],
   "source": [
    "def print_exception_hierarchy(exception_class, indent=0):\n",
    "    print(' ' * indent + exception_class.__name__)\n",
    "    for subclass in exception_class.__subclasses__():\n",
    "        print_exception_hierarchy(subclass, indent + 4)\n",
    "\n",
    "print_exception_hierarchy(Exception)\n"
   ]
  },
  {
   "cell_type": "markdown",
   "id": "e7fe7af8-caa9-4e08-85a7-b4ce1ee6db22",
   "metadata": {},
   "source": [
    "## Ans 3)"
   ]
  },
  {
   "cell_type": "markdown",
   "id": "aa301a27-d443-4ba5-9806-d94caa8a315b",
   "metadata": {},
   "source": [
    "#### 1) ZerodivisionError :  This error is raised when a division or modulo operation is performed with zero as the divisor. It indicates an attempt to divide a number by zero, which is undefined in mathematics.\n",
    "\n",
    "#### 2) OverflowError: This error occurs when the result of an arithmetic operation is too large to be represented within the numerical range of the data type being used. "
   ]
  },
  {
   "cell_type": "markdown",
   "id": "6bd3470b-57e7-494d-813c-1a28086475f2",
   "metadata": {},
   "source": [
    "## Ans 4)"
   ]
  },
  {
   "cell_type": "markdown",
   "id": "6240e096-0986-413d-a5d4-8ff9a81b7e7b",
   "metadata": {},
   "source": [
    "#### The LookupError class in Python is a subclass of the Exception class and serves as the base class for exceptions related to lookup operations. It encompasses two common lookup errors: KeyError and IndexError. "
   ]
  },
  {
   "cell_type": "code",
   "execution_count": 3,
   "id": "16b8373b-cc30-4505-ab6b-0cb0354058b9",
   "metadata": {},
   "outputs": [
    {
     "name": "stdout",
     "output_type": "stream",
     "text": [
      "Error: Key does not exist in the dictionary.\n"
     ]
    }
   ],
   "source": [
    "## Key_Error:\n",
    "\n",
    "my_dict = {'name': 'John', 'age': 25}\n",
    "\n",
    "try:\n",
    "    value = my_dict['city']  # Accessing a non-existent key\n",
    "except KeyError:\n",
    "    print(\"Error: Key does not exist in the dictionary.\")\n",
    "\n",
    "    "
   ]
  },
  {
   "cell_type": "code",
   "execution_count": 4,
   "id": "40420d49-86af-49e6-b22c-05f2636c6cff",
   "metadata": {},
   "outputs": [
    {
     "name": "stdout",
     "output_type": "stream",
     "text": [
      "Error: Key does not exist in the dictionary.\n"
     ]
    }
   ],
   "source": [
    "## Index_Error:\n",
    "my_dict = {'name': 'John', 'age': 25}\n",
    "\n",
    "try:\n",
    "    value = my_dict['city']  # Accessing a non-existent key\n",
    "except KeyError:\n",
    "    print(\"Error: Key does not exist in the dictionary.\")\n"
   ]
  },
  {
   "cell_type": "markdown",
   "id": "9b4a89a7-2864-4fc6-8689-d6baf8595591",
   "metadata": {},
   "source": [
    "## Ans 5)"
   ]
  },
  {
   "cell_type": "markdown",
   "id": "5bc66cc0-84c9-425b-a496-d95cd1184e66",
   "metadata": {},
   "source": [
    "#### ImportError is an exception class in Python that is raised when an import statement fails to import a module or a specific attribute from a module. It signifies that there was an issue while importing the desired module or attribute."
   ]
  },
  {
   "cell_type": "code",
   "execution_count": 5,
   "id": "eab7e69b-15ca-4527-8524-d76edd88597a",
   "metadata": {},
   "outputs": [
    {
     "name": "stdout",
     "output_type": "stream",
     "text": [
      "Error: Failed to find the module in the package.\n"
     ]
    }
   ],
   "source": [
    "## Module not found:\n",
    "try:\n",
    "    from non_existing_package import module  # Trying to import a module from a non-existent package\n",
    "except ModuleNotFoundError:\n",
    "    print(\"Error: Failed to find the module in the package.\")\n"
   ]
  },
  {
   "cell_type": "markdown",
   "id": "19c52b59-2f40-4402-b06b-4126cdfdb15e",
   "metadata": {},
   "source": [
    "## Ans 6)"
   ]
  },
  {
   "cell_type": "code",
   "execution_count": null,
   "id": "c86dffe3-586e-4229-a984-bade6fe4580d",
   "metadata": {},
   "outputs": [],
   "source": [
    "# Certainly! Here's a list of best practices for exception handling in Python:\n",
    "\n",
    "# Be specific with exception types.\n",
    "# Use multiple except clauses.\n",
    "# Handle exceptions gracefully with clear error messages or logging.\n",
    "# Avoid bare except statements without specifying the exception type.\n",
    "# Use the finally block for cleanup operations.\n",
    "# Don't suppress exceptions silently; log or provide appropriate feedback.\n",
    "# Reraise exceptions selectively when necessary.\n",
    "# A void catching BaseException to prevent masking critical system-level exceptions."
   ]
  }
 ],
 "metadata": {
  "kernelspec": {
   "display_name": "Python 3 (ipykernel)",
   "language": "python",
   "name": "python3"
  },
  "language_info": {
   "codemirror_mode": {
    "name": "ipython",
    "version": 3
   },
   "file_extension": ".py",
   "mimetype": "text/x-python",
   "name": "python",
   "nbconvert_exporter": "python",
   "pygments_lexer": "ipython3",
   "version": "3.10.8"
  }
 },
 "nbformat": 4,
 "nbformat_minor": 5
}
