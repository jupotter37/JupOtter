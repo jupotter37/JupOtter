{
 "cells": [
  {
   "cell_type": "markdown",
   "metadata": {},
   "source": [
    "# 2. Create and derive new variables\n",
    "\n",
    "Tally has a set of powerful functions that allow users to create new variables and derive their values from variables that already exist in the dataset, using powerful logic.\n",
    "\n",
    "These functions are\n",
    " - <a href=\"API/DataSet.html#tally_core.DataSet.derive\">`DataSet.derive`</a> - to derive a new variable using logic\n",
    " - <a href=\"API/DataSet.html#tally_core.DataSet.code_count\">`DataSet.code_count`</a> - to count the occurence of certain answers\n",
    " - <a href=\"API/DataSet.html#tally_core.DataSet.band\">`DataSet.band`</a> - create a single choice from a number, like age groups\n",
    "\n",
    "\n",
    "For more information about how to construct logical operators, refer to [Logic structures and functions](tally_logic)."
   ]
  },
  {
   "cell_type": "code",
   "execution_count": 6,
   "metadata": {
    "tags": [
     "remove-cell"
    ]
   },
   "outputs": [
    {
     "ename": "ModuleNotFoundError",
     "evalue": "No module named 'google'",
     "output_type": "error",
     "traceback": [
      "\u001b[0;31m---------------------------------------------------------------------------\u001b[0m",
      "\u001b[0;31mModuleNotFoundError\u001b[0m                       Traceback (most recent call last)",
      "Cell \u001b[0;32mIn[6], line 4\u001b[0m\n\u001b[1;32m      1\u001b[0m \u001b[39m#\u001b[39;00m\n\u001b[1;32m      2\u001b[0m \u001b[39m# In order to run this notebook, you first have to install Tally. To install tally you need a token that gives you access.\u001b[39;00m\n\u001b[1;32m      3\u001b[0m \u001b[39m#\u001b[39;00m\n\u001b[0;32m----> 4\u001b[0m \u001b[39mfrom\u001b[39;00m \u001b[39mgoogle\u001b[39;00m\u001b[39m.\u001b[39;00m\u001b[39mcolab\u001b[39;00m \u001b[39mimport\u001b[39;00m files\n\u001b[1;32m      5\u001b[0m \u001b[39mimport\u001b[39;00m \u001b[39mjson\u001b[39;00m\n\u001b[1;32m      6\u001b[0m \u001b[39mimport\u001b[39;00m \u001b[39mio\u001b[39;00m\n",
      "\u001b[0;31mModuleNotFoundError\u001b[0m: No module named 'google'"
     ]
    }
   ],
   "source": [
    "#\n",
    "# In order to run this notebook, you first have to install Tally. To install tally you need a token that gives you access.\n",
    "#\n",
    "from google.colab import files\n",
    "import json\n",
    "import io\n",
    "import os\n",
    "# Check if the file 'tally_keys.json' exists\n",
    "if not os.path.exists('tally_keys.json'):\n",
    "  uploaded = files.upload()\n",
    "  # Assuming only one file is uploaded, get its filename and content\n",
    "  filename = list(uploaded.keys())[0]\n",
    "  file_content = uploaded[filename]\n",
    "  # Load JSON directly from the uploaded content\n",
    "  keys = json.loads(file_content.decode('utf-8'))\n",
    "else:\n",
    "  # If the file already exists, just load its content\n",
    "  with open('tally_keys.json', 'r') as f:\n",
    "      keys = json.load(f)\n",
    "\n",
    "try:\n",
    "  # Try to import the package\n",
    "  import example_package\n",
    "except ImportError:\n",
    "  # If the import fails, the package is not installed. Install it.\n",
    "  !pip install git+https://{keys['tally_api']}@github.com/datasmoothie/tally-core.git@master"
   ]
  },
  {
   "cell_type": "code",
   "execution_count": 1,
   "metadata": {
    "tags": [
     "hide-cell"
    ]
   },
   "outputs": [],
   "source": [
    "import tally_core as tc\n",
    "import pandas as pd\n",
    "import json\n",
    "import requests\n",
    "dataset = tc.DataSet('Museum')\n",
    "\n",
    "\n",
    "meta = requests.get(\"https://github.com/datasmoothie/tally-documentation-notebooks/raw/main/data/Example_Museum.json\").json()\n",
    "data = pd.read_parquet('https://github.com/datasmoothie/tally-documentation-notebooks/raw/main/data/Example_Museum.parquet')\n",
    "dataset.from_components(meta_dict=meta, data_df=data)\n",
    "\n",
    "dataset2 = tc.DataSet(\"Sports stores\")\n",
    "meta = requests.get(\"https://github.com/datasmoothie/tally-documentation-notebooks/raw/main/data/Example Data (A).json\").json()\n",
    "data = pd.read_parquet('https://github.com/datasmoothie/tally-documentation-notebooks/raw/main/data/Example%20Data%20(A).parquet')\n",
    "dataset2.from_components(meta_dict=meta, data_df=data)\n"
   ]
  },
  {
   "cell_type": "markdown",
   "metadata": {},
   "source": [
    "## Derive new variables\n",
    "The derive method uses Tally logic to create new variables, with codes assigned according to logic we supply. These can both be used to create \"net\" or \"top 2/bottom 2\" variables or any other variables we want our researchers to have access to.\n",
    "\n",
    "We start with creating a variable that combines the `gender` variable and the `resident` variable. First, let's look at the meta-data for these variables:"
   ]
  },
  {
   "cell_type": "code",
   "execution_count": 2,
   "metadata": {},
   "outputs": [
    {
     "data": {
      "text/html": [
       "<div>\n",
       "<style scoped>\n",
       "    .dataframe tbody tr th:only-of-type {\n",
       "        vertical-align: middle;\n",
       "    }\n",
       "\n",
       "    .dataframe tbody tr th {\n",
       "        vertical-align: top;\n",
       "    }\n",
       "\n",
       "    .dataframe thead th {\n",
       "        text-align: right;\n",
       "    }\n",
       "</style>\n",
       "<table border=\"1\" class=\"dataframe\">\n",
       "  <thead>\n",
       "    <tr style=\"text-align: right;\">\n",
       "      <th>single</th>\n",
       "      <th>codes</th>\n",
       "      <th>texts</th>\n",
       "      <th>missing</th>\n",
       "    </tr>\n",
       "    <tr>\n",
       "      <th>gender: Gender of respondent</th>\n",
       "      <th></th>\n",
       "      <th></th>\n",
       "      <th></th>\n",
       "    </tr>\n",
       "  </thead>\n",
       "  <tbody>\n",
       "    <tr>\n",
       "      <th>1</th>\n",
       "      <td>23</td>\n",
       "      <td>Male</td>\n",
       "      <td>None</td>\n",
       "    </tr>\n",
       "    <tr>\n",
       "      <th>2</th>\n",
       "      <td>24</td>\n",
       "      <td>Female</td>\n",
       "      <td>None</td>\n",
       "    </tr>\n",
       "  </tbody>\n",
       "</table>\n",
       "</div>"
      ],
      "text/plain": [
       "single                        codes   texts missing\n",
       "gender: Gender of respondent                       \n",
       "1                                23    Male    None\n",
       "2                                24  Female    None"
      ]
     },
     "execution_count": 2,
     "metadata": {},
     "output_type": "execute_result"
    },
    {
     "data": {
      "text/html": [
       "<div>\n",
       "<style scoped>\n",
       "    .dataframe tbody tr th:only-of-type {\n",
       "        vertical-align: middle;\n",
       "    }\n",
       "\n",
       "    .dataframe tbody tr th {\n",
       "        vertical-align: top;\n",
       "    }\n",
       "\n",
       "    .dataframe thead th {\n",
       "        text-align: right;\n",
       "    }\n",
       "</style>\n",
       "<table border=\"1\" class=\"dataframe\">\n",
       "  <thead>\n",
       "    <tr style=\"text-align: right;\">\n",
       "      <th>single</th>\n",
       "      <th>codes</th>\n",
       "      <th>texts</th>\n",
       "      <th>missing</th>\n",
       "    </tr>\n",
       "    <tr>\n",
       "      <th>resident: Do you live in this country?</th>\n",
       "      <th></th>\n",
       "      <th></th>\n",
       "      <th></th>\n",
       "    </tr>\n",
       "  </thead>\n",
       "  <tbody>\n",
       "    <tr>\n",
       "      <th>1</th>\n",
       "      <td>9</td>\n",
       "      <td>Yes</td>\n",
       "      <td>None</td>\n",
       "    </tr>\n",
       "    <tr>\n",
       "      <th>2</th>\n",
       "      <td>10</td>\n",
       "      <td>No</td>\n",
       "      <td>None</td>\n",
       "    </tr>\n",
       "    <tr>\n",
       "      <th>3</th>\n",
       "      <td>11</td>\n",
       "      <td>Not answered</td>\n",
       "      <td>None</td>\n",
       "    </tr>\n",
       "  </tbody>\n",
       "</table>\n",
       "</div>"
      ],
      "text/plain": [
       "single                                  codes         texts missing\n",
       "resident: Do you live in this country?                             \n",
       "1                                           9           Yes    None\n",
       "2                                          10            No    None\n",
       "3                                          11  Not answered    None"
      ]
     },
     "execution_count": 2,
     "metadata": {},
     "output_type": "execute_result"
    }
   ],
   "source": [
    "dataset.meta('gender')\n",
    "dataset.meta('resident')"
   ]
  },
  {
   "cell_type": "code",
   "execution_count": 3,
   "metadata": {},
   "outputs": [],
   "source": [
    "from tally_core.core.tools.view.logic import *\n",
    "\n",
    "logic = [\n",
    "  (1, \"Male residents\", intersection([{\"gender\":[23]}, {\"resident\":9}])),\n",
    "  (2, \"Female residents\", intersection([{\"gender\":[24]}, {\"resident\":9}])),\n",
    "  (3, \"Male non-residents\", intersection([{\"gender\":[23]}, {\"resident\":[10,11]}])),\n",
    "  (4, \"Female non-residents\", intersection([{\"gender\":[24]}, {\"resident\":[10,11]}]))\n",
    "]\n",
    "dataset.derive('gender_resident', 'single', \"Gender/resident\", logic)"
   ]
  },
  {
   "cell_type": "markdown",
   "metadata": {},
   "source": [
    "We can do a sanity check by aggregating the result."
   ]
  },
  {
   "cell_type": "markdown",
   "metadata": {},
   "source": []
  },
  {
   "cell_type": "code",
   "execution_count": 5,
   "metadata": {},
   "outputs": [
    {
     "data": {
      "text/html": [
       "<div>\n",
       "<style scoped>\n",
       "    .dataframe tbody tr th:only-of-type {\n",
       "        vertical-align: middle;\n",
       "    }\n",
       "\n",
       "    .dataframe tbody tr th {\n",
       "        vertical-align: top;\n",
       "    }\n",
       "\n",
       "    .dataframe thead tr th {\n",
       "        text-align: left;\n",
       "    }\n",
       "\n",
       "    .dataframe thead tr:last-of-type th {\n",
       "        text-align: right;\n",
       "    }\n",
       "</style>\n",
       "<table border=\"1\" class=\"dataframe\">\n",
       "  <thead>\n",
       "    <tr>\n",
       "      <th></th>\n",
       "      <th>Question</th>\n",
       "      <th>Total</th>\n",
       "    </tr>\n",
       "    <tr>\n",
       "      <th></th>\n",
       "      <th>Values</th>\n",
       "      <th>Total</th>\n",
       "    </tr>\n",
       "    <tr>\n",
       "      <th>Question</th>\n",
       "      <th>Values</th>\n",
       "      <th></th>\n",
       "    </tr>\n",
       "  </thead>\n",
       "  <tbody>\n",
       "    <tr>\n",
       "      <th rowspan=\"3\" valign=\"top\">gender. Gender of respondent</th>\n",
       "      <th>Base</th>\n",
       "      <td>602.0</td>\n",
       "    </tr>\n",
       "    <tr>\n",
       "      <th>Male</th>\n",
       "      <td>339.0</td>\n",
       "    </tr>\n",
       "    <tr>\n",
       "      <th>Female</th>\n",
       "      <td>263.0</td>\n",
       "    </tr>\n",
       "    <tr>\n",
       "      <th rowspan=\"4\" valign=\"top\">resident. Do you live in this country?</th>\n",
       "      <th>Base</th>\n",
       "      <td>602.0</td>\n",
       "    </tr>\n",
       "    <tr>\n",
       "      <th>Yes</th>\n",
       "      <td>428.0</td>\n",
       "    </tr>\n",
       "    <tr>\n",
       "      <th>No</th>\n",
       "      <td>174.0</td>\n",
       "    </tr>\n",
       "    <tr>\n",
       "      <th>Not answered</th>\n",
       "      <td>0.0</td>\n",
       "    </tr>\n",
       "    <tr>\n",
       "      <th rowspan=\"5\" valign=\"top\">gender_resident. Gender/resident</th>\n",
       "      <th>Base</th>\n",
       "      <td>602.0</td>\n",
       "    </tr>\n",
       "    <tr>\n",
       "      <th>Male residents</th>\n",
       "      <td>244.0</td>\n",
       "    </tr>\n",
       "    <tr>\n",
       "      <th>Female residents</th>\n",
       "      <td>184.0</td>\n",
       "    </tr>\n",
       "    <tr>\n",
       "      <th>Male non-residents</th>\n",
       "      <td>95.0</td>\n",
       "    </tr>\n",
       "    <tr>\n",
       "      <th>Female non-residents</th>\n",
       "      <td>79.0</td>\n",
       "    </tr>\n",
       "  </tbody>\n",
       "</table>\n",
       "</div>"
      ],
      "text/plain": [
       "Question                                                     Total\n",
       "Values                                                       Total\n",
       "Question                               Values                     \n",
       "gender. Gender of respondent           Base                  602.0\n",
       "                                       Male                  339.0\n",
       "                                       Female                263.0\n",
       "resident. Do you live in this country? Base                  602.0\n",
       "                                       Yes                   428.0\n",
       "                                       No                    174.0\n",
       "                                       Not answered            0.0\n",
       "gender_resident. Gender/resident       Base                  602.0\n",
       "                                       Male residents        244.0\n",
       "                                       Female residents      184.0\n",
       "                                       Male non-residents     95.0\n",
       "                                       Female non-residents   79.0"
      ]
     },
     "execution_count": 5,
     "metadata": {},
     "output_type": "execute_result"
    }
   ],
   "source": [
    "dataset.crosstab(['gender', 'resident', 'gender_resident'])"
   ]
  },
  {
   "cell_type": "markdown",
   "metadata": {},
   "source": [
    "### Derive with interlock"
   ]
  },
  {
   "cell_type": "markdown",
   "metadata": {},
   "source": [
    "The above is such a common request, there is a specific function for it. The <a href='API/DataSet.html#tally_core.DataSet.interlock'>`DataSet.interlock`</a> method takes a list of variables and creates a combination of every permutation of those variables."
   ]
  },
  {
   "cell_type": "code",
   "execution_count": 9,
   "metadata": {},
   "outputs": [
    {
     "data": {
      "text/html": [
       "<div>\n",
       "<style scoped>\n",
       "    .dataframe tbody tr th:only-of-type {\n",
       "        vertical-align: middle;\n",
       "    }\n",
       "\n",
       "    .dataframe tbody tr th {\n",
       "        vertical-align: top;\n",
       "    }\n",
       "\n",
       "    .dataframe thead tr th {\n",
       "        text-align: left;\n",
       "    }\n",
       "\n",
       "    .dataframe thead tr:last-of-type th {\n",
       "        text-align: right;\n",
       "    }\n",
       "</style>\n",
       "<table border=\"1\" class=\"dataframe\">\n",
       "  <thead>\n",
       "    <tr>\n",
       "      <th></th>\n",
       "      <th>Question</th>\n",
       "      <th>Total</th>\n",
       "    </tr>\n",
       "    <tr>\n",
       "      <th></th>\n",
       "      <th>Values</th>\n",
       "      <th>Total</th>\n",
       "    </tr>\n",
       "    <tr>\n",
       "      <th>Question</th>\n",
       "      <th>Values</th>\n",
       "      <th></th>\n",
       "    </tr>\n",
       "  </thead>\n",
       "  <tbody>\n",
       "    <tr>\n",
       "      <th rowspan=\"7\" valign=\"top\">gender_resident_v2. Gender/resident</th>\n",
       "      <th>Base</th>\n",
       "      <td>602.0</td>\n",
       "    </tr>\n",
       "    <tr>\n",
       "      <th>Male/Yes</th>\n",
       "      <td>244.0</td>\n",
       "    </tr>\n",
       "    <tr>\n",
       "      <th>Male/No</th>\n",
       "      <td>95.0</td>\n",
       "    </tr>\n",
       "    <tr>\n",
       "      <th>Male/Not answered</th>\n",
       "      <td>0.0</td>\n",
       "    </tr>\n",
       "    <tr>\n",
       "      <th>Female/Yes</th>\n",
       "      <td>184.0</td>\n",
       "    </tr>\n",
       "    <tr>\n",
       "      <th>Female/No</th>\n",
       "      <td>79.0</td>\n",
       "    </tr>\n",
       "    <tr>\n",
       "      <th>Female/Not answered</th>\n",
       "      <td>0.0</td>\n",
       "    </tr>\n",
       "  </tbody>\n",
       "</table>\n",
       "</div>"
      ],
      "text/plain": [
       "Question                                                 Total\n",
       "Values                                                   Total\n",
       "Question                            Values                    \n",
       "gender_resident_v2. Gender/resident Base                 602.0\n",
       "                                    Male/Yes             244.0\n",
       "                                    Male/No               95.0\n",
       "                                    Male/Not answered      0.0\n",
       "                                    Female/Yes           184.0\n",
       "                                    Female/No             79.0\n",
       "                                    Female/Not answered    0.0"
      ]
     },
     "execution_count": 9,
     "metadata": {},
     "output_type": "execute_result"
    }
   ],
   "source": [
    "dataset.interlock('gender_resident_v2', \"Gender/resident\", ['gender', 'resident'])\n",
    "dataset.crosstab('gender_resident_v2')"
   ]
  },
  {
   "cell_type": "markdown",
   "metadata": {},
   "source": [
    "## Code count"
   ]
  },
  {
   "cell_type": "markdown",
   "metadata": {},
   "source": [
    "If we want to could how often certain codes appear in questions, we use <a href=\"API/DataSet.html#tally_core.DataSet.code_count\">`DataSet.code_count`</a>, which supports single, multi-choice and array questions.\n",
    "\n",
    "We start by looking at a variable where guests were asked to rate a particular part of our museum, an array variable called `rating.Column` (remember, `array` is the terminology Tally uses for grids and loops)."
   ]
  },
  {
   "cell_type": "code",
   "execution_count": 10,
   "metadata": {},
   "outputs": [
    {
     "data": {
      "text/html": [
       "<div>\n",
       "<style scoped>\n",
       "    .dataframe tbody tr th:only-of-type {\n",
       "        vertical-align: middle;\n",
       "    }\n",
       "\n",
       "    .dataframe tbody tr th {\n",
       "        vertical-align: top;\n",
       "    }\n",
       "\n",
       "    .dataframe thead th {\n",
       "        text-align: right;\n",
       "    }\n",
       "</style>\n",
       "<table border=\"1\" class=\"dataframe\">\n",
       "  <thead>\n",
       "    <tr style=\"text-align: right;\">\n",
       "      <th>delimited set</th>\n",
       "      <th>items</th>\n",
       "      <th>item texts</th>\n",
       "      <th>codes</th>\n",
       "      <th>texts</th>\n",
       "      <th>missing</th>\n",
       "    </tr>\n",
       "    <tr>\n",
       "      <th>rating.Column: Q30</th>\n",
       "      <th></th>\n",
       "      <th></th>\n",
       "      <th></th>\n",
       "      <th></th>\n",
       "      <th></th>\n",
       "    </tr>\n",
       "  </thead>\n",
       "  <tbody>\n",
       "    <tr>\n",
       "      <th>1</th>\n",
       "      <td>rating[{other}].Column</td>\n",
       "      <td>Other</td>\n",
       "      <td>48</td>\n",
       "      <td>Not at all interested (1)</td>\n",
       "      <td>None</td>\n",
       "    </tr>\n",
       "    <tr>\n",
       "      <th>2</th>\n",
       "      <td>rating[{dinosaurs}].Column</td>\n",
       "      <td>Dinosaurs</td>\n",
       "      <td>49</td>\n",
       "      <td>Not particularly interested (2)</td>\n",
       "      <td>None</td>\n",
       "    </tr>\n",
       "    <tr>\n",
       "      <th>3</th>\n",
       "      <td>rating[{conservation}].Column</td>\n",
       "      <td>Conservation</td>\n",
       "      <td>50</td>\n",
       "      <td>No opinion (3)</td>\n",
       "      <td>None</td>\n",
       "    </tr>\n",
       "    <tr>\n",
       "      <th>4</th>\n",
       "      <td>rating[{fish_and_reptiles}].Column</td>\n",
       "      <td>Fish and reptiles</td>\n",
       "      <td>51</td>\n",
       "      <td>Slightly interested (4)</td>\n",
       "      <td>None</td>\n",
       "    </tr>\n",
       "    <tr>\n",
       "      <th>5</th>\n",
       "      <td>rating[{fossils}].Column</td>\n",
       "      <td>Fossils</td>\n",
       "      <td>52</td>\n",
       "      <td>Very interested (5)</td>\n",
       "      <td>None</td>\n",
       "    </tr>\n",
       "    <tr>\n",
       "      <th>6</th>\n",
       "      <td>rating[{birds}].Column</td>\n",
       "      <td>Birds</td>\n",
       "      <td></td>\n",
       "      <td></td>\n",
       "      <td></td>\n",
       "    </tr>\n",
       "    <tr>\n",
       "      <th>7</th>\n",
       "      <td>rating[{insects}].Column</td>\n",
       "      <td>Insects</td>\n",
       "      <td></td>\n",
       "      <td></td>\n",
       "      <td></td>\n",
       "    </tr>\n",
       "    <tr>\n",
       "      <th>8</th>\n",
       "      <td>rating[{whales}].Column</td>\n",
       "      <td>Whales</td>\n",
       "      <td></td>\n",
       "      <td></td>\n",
       "      <td></td>\n",
       "    </tr>\n",
       "    <tr>\n",
       "      <th>9</th>\n",
       "      <td>rating[{mammals}].Column</td>\n",
       "      <td>Mammals</td>\n",
       "      <td></td>\n",
       "      <td></td>\n",
       "      <td></td>\n",
       "    </tr>\n",
       "    <tr>\n",
       "      <th>10</th>\n",
       "      <td>rating[{minerals}].Column</td>\n",
       "      <td>Minerals</td>\n",
       "      <td></td>\n",
       "      <td></td>\n",
       "      <td></td>\n",
       "    </tr>\n",
       "    <tr>\n",
       "      <th>11</th>\n",
       "      <td>rating[{ecology}].Column</td>\n",
       "      <td>Ecology</td>\n",
       "      <td></td>\n",
       "      <td></td>\n",
       "      <td></td>\n",
       "    </tr>\n",
       "    <tr>\n",
       "      <th>12</th>\n",
       "      <td>rating[{botany}].Column</td>\n",
       "      <td>Botany</td>\n",
       "      <td></td>\n",
       "      <td></td>\n",
       "      <td></td>\n",
       "    </tr>\n",
       "    <tr>\n",
       "      <th>13</th>\n",
       "      <td>rating[{origin_of_species}].Column</td>\n",
       "      <td>Origin of species</td>\n",
       "      <td></td>\n",
       "      <td></td>\n",
       "      <td></td>\n",
       "    </tr>\n",
       "    <tr>\n",
       "      <th>14</th>\n",
       "      <td>rating[{human_biology}].Column</td>\n",
       "      <td>Human biology</td>\n",
       "      <td></td>\n",
       "      <td></td>\n",
       "      <td></td>\n",
       "    </tr>\n",
       "    <tr>\n",
       "      <th>15</th>\n",
       "      <td>rating[{evolution}].Column</td>\n",
       "      <td>Evolution</td>\n",
       "      <td></td>\n",
       "      <td></td>\n",
       "      <td></td>\n",
       "    </tr>\n",
       "    <tr>\n",
       "      <th>16</th>\n",
       "      <td>rating[{wildlife_in_danger}].Column</td>\n",
       "      <td>Wildlife in danger</td>\n",
       "      <td></td>\n",
       "      <td></td>\n",
       "      <td></td>\n",
       "    </tr>\n",
       "  </tbody>\n",
       "</table>\n",
       "</div>"
      ],
      "text/plain": [
       "delimited set                                     items          item texts codes                            texts missing\n",
       "rating.Column: Q30                                                                                                        \n",
       "1                                rating[{other}].Column               Other    48        Not at all interested (1)    None\n",
       "2                            rating[{dinosaurs}].Column           Dinosaurs    49  Not particularly interested (2)    None\n",
       "3                         rating[{conservation}].Column        Conservation    50                   No opinion (3)    None\n",
       "4                    rating[{fish_and_reptiles}].Column   Fish and reptiles    51          Slightly interested (4)    None\n",
       "5                              rating[{fossils}].Column             Fossils    52              Very interested (5)    None\n",
       "6                                rating[{birds}].Column               Birds                                               \n",
       "7                              rating[{insects}].Column             Insects                                               \n",
       "8                               rating[{whales}].Column              Whales                                               \n",
       "9                              rating[{mammals}].Column             Mammals                                               \n",
       "10                            rating[{minerals}].Column            Minerals                                               \n",
       "11                             rating[{ecology}].Column             Ecology                                               \n",
       "12                              rating[{botany}].Column              Botany                                               \n",
       "13                   rating[{origin_of_species}].Column   Origin of species                                               \n",
       "14                       rating[{human_biology}].Column       Human biology                                               \n",
       "15                           rating[{evolution}].Column           Evolution                                               \n",
       "16                  rating[{wildlife_in_danger}].Column  Wildlife in danger                                               "
      ]
     },
     "execution_count": 10,
     "metadata": {},
     "output_type": "execute_result"
    }
   ],
   "source": [
    "dataset.meta('rating.Column')"
   ]
  },
  {
   "cell_type": "markdown",
   "metadata": {},
   "source": [
    "We want to count how many departments our guests find interesting, so we count codes 51 and 52 (slightly and very interested)."
   ]
  },
  {
   "cell_type": "code",
   "execution_count": 11,
   "metadata": {},
   "outputs": [
    {
     "data": {
      "text/plain": [
       "0      0.0\n",
       "1      0.0\n",
       "2      0.0\n",
       "3      0.0\n",
       "4      0.0\n",
       "      ... \n",
       "597    5.0\n",
       "598    7.0\n",
       "599    5.0\n",
       "600    5.0\n",
       "601    2.0\n",
       "Length: 602, dtype: float64"
      ]
     },
     "execution_count": 11,
     "metadata": {},
     "output_type": "execute_result"
    }
   ],
   "source": [
    "dataset.code_count('rating.Column', count_only=[51, 52])"
   ]
  },
  {
   "cell_type": "markdown",
   "metadata": {},
   "source": [
    "This `pandas.Series` object can now be used to create a new variable in the dataset.\n",
    "\n",
    "### Counting a subset of a grid\n",
    "If we have large grids, or grids of more levels than one, we can use the <a href=\"API/DataSet.html#tally_core.DataSet.categories\">`DataSet.categories`</a> function to only send selected items from the grid to the code count."
   ]
  },
  {
   "cell_type": "code",
   "execution_count": 12,
   "metadata": {},
   "outputs": [
    {
     "data": {
      "text/plain": [
       "['rating[{insects}].Column',\n",
       " 'rating[{whales}].Column',\n",
       " 'rating[{mammals}].Column']"
      ]
     },
     "execution_count": 12,
     "metadata": {},
     "output_type": "execute_result"
    }
   ],
   "source": [
    "categories = dataset.categories('rating.Column', find=\"insects|whales|mammals\")\n",
    "categories"
   ]
  },
  {
   "cell_type": "markdown",
   "metadata": {},
   "source": [
    "Note that the `categories` method supports regex, so `insects|whales|mammals` returns all categories that have any of those words."
   ]
  },
  {
   "cell_type": "code",
   "execution_count": 13,
   "metadata": {},
   "outputs": [
    {
     "data": {
      "text/plain": [
       "0      0\n",
       "1      0\n",
       "2      0\n",
       "3      0\n",
       "4      0\n",
       "      ..\n",
       "597    1\n",
       "598    3\n",
       "599    0\n",
       "600    2\n",
       "601    0\n",
       "Length: 602, dtype: int64"
      ]
     },
     "execution_count": 13,
     "metadata": {},
     "output_type": "execute_result"
    }
   ],
   "source": [
    "dataset.code_count('rating.Column', count_only=[51, 52], items=categories)"
   ]
  },
  {
   "cell_type": "markdown",
   "metadata": {},
   "source": [
    "## Banding numbers into groups\n",
    "\n",
    "If we want to create a categorical variable from a numeric variable, by supplying different ranges to brand answers into groups, we use <a href=\"API/DataSet.html#tally_core.DataSet.band\">`DataSet.band`</a>.\n",
    "\n",
    ":::{note} \n",
    "To demonstrate the `band` function, we are using a different dataset, stored in a variable called `dataset2`. It has `age` stored as a number, where the Museums demo dataset has already categorised it.\n",
    "\n",
    ":::"
   ]
  },
  {
   "cell_type": "markdown",
   "metadata": {},
   "source": [
    "First, we confirm that `age` is stored as a numeric."
   ]
  },
  {
   "cell_type": "code",
   "execution_count": 14,
   "metadata": {},
   "outputs": [
    {
     "data": {
      "text/html": [
       "<div>\n",
       "<style scoped>\n",
       "    .dataframe tbody tr th:only-of-type {\n",
       "        vertical-align: middle;\n",
       "    }\n",
       "\n",
       "    .dataframe tbody tr th {\n",
       "        vertical-align: top;\n",
       "    }\n",
       "\n",
       "    .dataframe thead th {\n",
       "        text-align: right;\n",
       "    }\n",
       "</style>\n",
       "<table border=\"1\" class=\"dataframe\">\n",
       "  <thead>\n",
       "    <tr style=\"text-align: right;\">\n",
       "      <th></th>\n",
       "      <th>int</th>\n",
       "    </tr>\n",
       "  </thead>\n",
       "  <tbody>\n",
       "    <tr>\n",
       "      <th>age: Age</th>\n",
       "      <td>N/A</td>\n",
       "    </tr>\n",
       "  </tbody>\n",
       "</table>\n",
       "</div>"
      ],
      "text/plain": [
       "          int\n",
       "age: Age  N/A"
      ]
     },
     "execution_count": 14,
     "metadata": {},
     "output_type": "execute_result"
    }
   ],
   "source": [
    "dataset2.meta('age')"
   ]
  },
  {
   "cell_type": "markdown",
   "metadata": {},
   "source": [
    "Then, we decide on our bands. Bands can be defined with single numbers, tuples with a numeric range or a dict with a label and numeric range. For example, all of these are valid:\n",
    "\n",
    " - `0`\n",
    " - `(26, 35)`\n",
    " - `{\"Twenty six to thirty five\":(26, 35)}`"
   ]
  },
  {
   "cell_type": "code",
   "execution_count": 15,
   "metadata": {},
   "outputs": [],
   "source": [
    "dataset2.band(\n",
    "  name='age', \n",
    "  bands=[0, (1,17), (18,25), (26, 35), (36, 45), (46, 55), (56, 65), {\"Older than 65\":(66, 120)}], \n",
    "  new_name='age_groups', \n",
    "  label=\"Age groups\"\n",
    ")"
   ]
  },
  {
   "cell_type": "markdown",
   "metadata": {},
   "source": [
    "Finally, we use the `crosstab` method for a sanity check."
   ]
  },
  {
   "cell_type": "code",
   "execution_count": 16,
   "metadata": {},
   "outputs": [
    {
     "data": {
      "text/html": [
       "<div>\n",
       "<style scoped>\n",
       "    .dataframe tbody tr th:only-of-type {\n",
       "        vertical-align: middle;\n",
       "    }\n",
       "\n",
       "    .dataframe tbody tr th {\n",
       "        vertical-align: top;\n",
       "    }\n",
       "\n",
       "    .dataframe thead tr th {\n",
       "        text-align: left;\n",
       "    }\n",
       "\n",
       "    .dataframe thead tr:last-of-type th {\n",
       "        text-align: right;\n",
       "    }\n",
       "</style>\n",
       "<table border=\"1\" class=\"dataframe\">\n",
       "  <thead>\n",
       "    <tr>\n",
       "      <th></th>\n",
       "      <th>Question</th>\n",
       "      <th>Total</th>\n",
       "    </tr>\n",
       "    <tr>\n",
       "      <th></th>\n",
       "      <th>Values</th>\n",
       "      <th>Total</th>\n",
       "    </tr>\n",
       "    <tr>\n",
       "      <th>Question</th>\n",
       "      <th>Values</th>\n",
       "      <th></th>\n",
       "    </tr>\n",
       "  </thead>\n",
       "  <tbody>\n",
       "    <tr>\n",
       "      <th rowspan=\"9\" valign=\"top\">age_groups. Age groups</th>\n",
       "      <th>Base</th>\n",
       "      <td>8255.0</td>\n",
       "    </tr>\n",
       "    <tr>\n",
       "      <th>0</th>\n",
       "      <td>0.0</td>\n",
       "    </tr>\n",
       "    <tr>\n",
       "      <th>1-17</th>\n",
       "      <td>0.0</td>\n",
       "    </tr>\n",
       "    <tr>\n",
       "      <th>18-25</th>\n",
       "      <td>1896.0</td>\n",
       "    </tr>\n",
       "    <tr>\n",
       "      <th>26-35</th>\n",
       "      <td>2670.0</td>\n",
       "    </tr>\n",
       "    <tr>\n",
       "      <th>36-45</th>\n",
       "      <td>2654.0</td>\n",
       "    </tr>\n",
       "    <tr>\n",
       "      <th>46-55</th>\n",
       "      <td>1035.0</td>\n",
       "    </tr>\n",
       "    <tr>\n",
       "      <th>56-65</th>\n",
       "      <td>0.0</td>\n",
       "    </tr>\n",
       "    <tr>\n",
       "      <th>Older than 65</th>\n",
       "      <td>0.0</td>\n",
       "    </tr>\n",
       "  </tbody>\n",
       "</table>\n",
       "</div>"
      ],
      "text/plain": [
       "Question                               Total\n",
       "Values                                 Total\n",
       "Question               Values               \n",
       "age_groups. Age groups Base           8255.0\n",
       "                       0                 0.0\n",
       "                       1-17              0.0\n",
       "                       18-25          1896.0\n",
       "                       26-35          2670.0\n",
       "                       36-45          2654.0\n",
       "                       46-55          1035.0\n",
       "                       56-65             0.0\n",
       "                       Older than 65     0.0"
      ]
     },
     "execution_count": 16,
     "metadata": {},
     "output_type": "execute_result"
    }
   ],
   "source": [
    "dataset2.crosstab('age_groups')"
   ]
  }
 ],
 "metadata": {
  "kernelspec": {
   "display_name": ".venv",
   "language": "python",
   "name": "python3"
  },
  "language_info": {
   "codemirror_mode": {
    "name": "ipython",
    "version": 3
   },
   "file_extension": ".py",
   "mimetype": "text/x-python",
   "name": "python",
   "nbconvert_exporter": "python",
   "pygments_lexer": "ipython3",
   "version": "3.10.10"
  },
  "orig_nbformat": 4
 },
 "nbformat": 4,
 "nbformat_minor": 2
}
