{
 "cells": [
  {
   "cell_type": "markdown",
   "metadata": {},
   "source": [
    "<div style=\"background: #000;\n",
    "            color: #FFF;\n",
    "            margin: 0px;\n",
    "                padding: 10px 0px 20px 0px;\n",
    "            text-align: center; \n",
    "                \">\n",
    "    <h1>Week 7 - Class 3 - 10/29</h1>\n",
    "</div>\n",
    "\n",
    "\n",
    "## Objectives for this week:\n",
    "* Modules in Python\n",
    "* Calling Modules, Exporting Modules\n",
    "* File Structures\n",
    "\n",
    "## Todays Agenda\n",
    "* Homework Presentations\n",
    "* Modules in Python"
   ]
  },
  {
   "cell_type": "markdown",
   "metadata": {},
   "source": [
    "<div style=\"background: #000;\n",
    "            color: #FFF;\n",
    "            margin: 0px;\n",
    "                padding: 10px 0px 20px 0px;\n",
    "            text-align: center; \n",
    "                \">\n",
    "    <h1>Homework Presentations</h1>\n",
    "</div>"
   ]
  },
  {
   "cell_type": "markdown",
   "metadata": {},
   "source": [
    "# Exercise 3\n",
    "\n",
    "Create a base class `Shape` and two classes that inherits that base class called `Triangle` and `Rectangle`. Consider what those two share in common (height and width) and use that to create your base class `Shape`. Create a method for base class called `area` that returns `None` for the base class. Override that method for `Triangle` and `Rectangle` so instances of those two classes can calculate the correct area.\n",
    "\n",
    "Demonstrate that your code works."
   ]
  },
  {
   "cell_type": "code",
   "execution_count": 7,
   "metadata": {},
   "outputs": [
    {
     "data": {
      "text/plain": [
       "24"
      ]
     },
     "execution_count": 7,
     "metadata": {},
     "output_type": "execute_result"
    }
   ],
   "source": [
    "class Shape:\n",
    "    def __init__(self, height, width):\n",
    "        self.height = height\n",
    "        self.width = width\n",
    "        \n",
    "    def area(self):\n",
    "        return None\n",
    "\n",
    "class Triangle(Shape):\n",
    "    def area(self):\n",
    "        return self.height * self.width * 0.5\n",
    "    \n",
    "class Rectangle(Shape):\n",
    "    def area(self):\n",
    "        return self.height * self.width\n",
    "\n",
    "t = Triangle(6,4)\n",
    "t.area()\n",
    "\n",
    "t = Rectangle(6,4)\n",
    "t.area()"
   ]
  },
  {
   "cell_type": "markdown",
   "metadata": {},
   "source": [
    "# Notes on Tuesday's class"
   ]
  },
  {
   "cell_type": "code",
   "execution_count": 8,
   "metadata": {},
   "outputs": [
    {
     "name": "stdout",
     "output_type": "stream",
     "text": [
      "__name__ is package.example\n"
     ]
    }
   ],
   "source": [
    "from package import print_name\n",
    "\n",
    "print_name()"
   ]
  },
  {
   "cell_type": "code",
   "execution_count": 9,
   "metadata": {},
   "outputs": [
    {
     "name": "stdout",
     "output_type": "stream",
     "text": [
      "__name__ is package.example\n"
     ]
    }
   ],
   "source": [
    "from package.example import print_name\n",
    "\n",
    "print_name()"
   ]
  },
  {
   "cell_type": "markdown",
   "metadata": {},
   "source": [
    "# Python packages"
   ]
  },
  {
   "cell_type": "markdown",
   "metadata": {},
   "source": [
    "### Creating our own project\n",
    "\n",
    "Stucture of a typical python project:\n",
    "\n",
    "```\n",
    "└── project\n",
    "    ├── package1\n",
    "    │   ├── module1.py\n",
    "    │   └── module2.py\n",
    "    └── package2\n",
    "        ├── __init__.py\n",
    "        ├── module3.py\n",
    "        ├── module4.py\n",
    "        └── subpackage1\n",
    "            └── module5.py\n",
    "\n",
    "```"
   ]
  },
  {
   "cell_type": "code",
   "execution_count": 10,
   "metadata": {},
   "outputs": [],
   "source": [
    "from project import package1\n",
    "from project import package2\n",
    "from project.package1 import module1\n",
    "from project.package2 import module3\n",
    "from project.package2 import module4\n",
    "from project.package2.subpackage1 import module5"
   ]
  },
  {
   "cell_type": "markdown",
   "metadata": {},
   "source": [
    "### The `__init__.py` file\n",
    "\n",
    "This file let's python's interpreter know a folder is a package.\n",
    "\n",
    "You would use this file to set up the project's code to handle importing. Essentially you can create a project inside the directory but then use the `__init__` to set up what happens when you import the project. "
   ]
  },
  {
   "cell_type": "markdown",
   "metadata": {},
   "source": [
    "#### `__all__` within the `__init__.py` file\n",
    "\n",
    "This is use to set up what is imported. Anything not in `__all__` will be ignored. Without `__all__`, everything is accessible within the package's scope"
   ]
  },
  {
   "cell_type": "code",
   "execution_count": 12,
   "metadata": {},
   "outputs": [],
   "source": [
    "# example of what all would look like:\n",
    "# from ./library/__init__.py\n",
    "\n",
    "#__all__ = [ print_name,]"
   ]
  },
  {
   "cell_type": "raw",
   "metadata": {},
   "source": [
    "# foo.py\n",
    "__all__ = ['bar', 'baz']\n",
    "\n",
    "waz = 5\n",
    "bar = 10\n",
    "def baz(): return 'baz'\n",
    "\n",
    "# +++++++\n",
    "\n",
    "from foo import *\n",
    "\n",
    "print(bar)\n",
    "print(baz)\n",
    "\n",
    "# The following will trigger an exception, as \"waz\" is not exported by the module\n",
    "print(waz)"
   ]
  },
  {
   "cell_type": "markdown",
   "metadata": {},
   "source": [
    "### Other way to import - relative import"
   ]
  },
  {
   "cell_type": "code",
   "execution_count": 13,
   "metadata": {},
   "outputs": [
    {
     "name": "stdout",
     "output_type": "stream",
     "text": [
      "__name__ is package.example\n",
      "this is print_name_2\n"
     ]
    }
   ],
   "source": [
    "from package.subpackage import subexample\n",
    "\n",
    "subexample.print_name_2()"
   ]
  },
  {
   "cell_type": "markdown",
   "metadata": {},
   "source": [
    "# Handling exceptions with `try`/`except`\n",
    "```python\n",
    "try:\n",
    "    import unknownpackage\n",
    "except:\n",
    "    print(\"import failed\")\n",
    "finally:\n",
    "    print(\"done trying\")\n",
    "\n",
    "```"
   ]
  },
  {
   "cell_type": "markdown",
   "metadata": {},
   "source": [
    "The `try` block lets you test a block of code for errors.\n",
    "\n",
    "The `except` block lets you handle the error.\n",
    "\n",
    "The `finally` block lets you execute code, regardless of the result of the try- and except blocks.\n",
    "\n"
   ]
  },
  {
   "cell_type": "code",
   "execution_count": 14,
   "metadata": {},
   "outputs": [
    {
     "ename": "ModuleNotFoundError",
     "evalue": "No module named 'unknownpackage'",
     "output_type": "error",
     "traceback": [
      "\u001b[1;31m---------------------------------------------------------------------------\u001b[0m",
      "\u001b[1;31mModuleNotFoundError\u001b[0m                       Traceback (most recent call last)",
      "\u001b[1;32m<ipython-input-14-432d50129cea>\u001b[0m in \u001b[0;36m<module>\u001b[1;34m\u001b[0m\n\u001b[1;32m----> 1\u001b[1;33m \u001b[1;32mimport\u001b[0m \u001b[0munknownpackage\u001b[0m\u001b[1;33m\u001b[0m\u001b[1;33m\u001b[0m\u001b[0m\n\u001b[0m",
      "\u001b[1;31mModuleNotFoundError\u001b[0m: No module named 'unknownpackage'"
     ]
    }
   ],
   "source": [
    "import unknownpackage"
   ]
  },
  {
   "cell_type": "code",
   "execution_count": 17,
   "metadata": {},
   "outputs": [
    {
     "name": "stdout",
     "output_type": "stream",
     "text": [
      "could not import\n"
     ]
    }
   ],
   "source": [
    "try:\n",
    "    import unknownpackage\n",
    "except:\n",
    "    print(\"could not import\")\n",
    "# finally:\n",
    "#     print(\"hello\")"
   ]
  },
  {
   "cell_type": "code",
   "execution_count": 20,
   "metadata": {},
   "outputs": [
    {
     "name": "stdout",
     "output_type": "stream",
     "text": [
      "(\"No module named 'unknownpackage'\",)\n",
      "No module named 'unknownpackage'\n",
      "unknownpackage\n",
      "None\n",
      "ModuleNotFoundError\n"
     ]
    }
   ],
   "source": [
    "try:\n",
    "    import unknownpackage\n",
    "except NameError:\n",
    "    print(\"Variable x is not defined\")\n",
    "except Exception as e:\n",
    "    print(e.args)\n",
    "    print(e.msg)\n",
    "    print(e.name)\n",
    "    print(e.path)\n",
    "    print(type(e).__name__)\n",
    "    #e.with_traceback()\n",
    "else:\n",
    "    print(\"Nothing went wrong\")"
   ]
  },
  {
   "cell_type": "code",
   "execution_count": null,
   "metadata": {},
   "outputs": [],
   "source": [
    "try:\n",
    "    import unknownpackage\n",
    "except ModuleNotFoundError:\n",
    "    print(\"module not found\")\n",
    "finally:\n",
    "    print(\"done trying\")"
   ]
  },
  {
   "cell_type": "code",
   "execution_count": 23,
   "metadata": {},
   "outputs": [
    {
     "name": "stdout",
     "output_type": "stream",
     "text": [
      "Something went wrong when writing to the file\n"
     ]
    }
   ],
   "source": [
    "try:\n",
    "    f = open(\"new_output.txt\")\n",
    "    f.write(\"Lorum Ipsum\")\n",
    "except:\n",
    "    print(\"Something went wrong when writing to the file\")\n",
    "finally:\n",
    "    f.close()"
   ]
  },
  {
   "cell_type": "code",
   "execution_count": 29,
   "metadata": {},
   "outputs": [
    {
     "name": "stdout",
     "output_type": "stream",
     "text": [
      "Exception\n",
      "finally\n"
     ]
    }
   ],
   "source": [
    "try:\n",
    "    s = [1,2,3,4]\n",
    "    s[9]\n",
    "\n",
    "except Exception:\n",
    "    print('Exception')\n",
    "\n",
    "except IndexError:\n",
    "    print('IndexError')\n",
    "except ModuleNotFoundError:\n",
    "    print('ModuleNotFoundError')\n",
    "finally:\n",
    "    print('finally')"
   ]
  },
  {
   "cell_type": "code",
   "execution_count": 30,
   "metadata": {},
   "outputs": [
    {
     "name": "stdout",
     "output_type": "stream",
     "text": [
      "IndexError\n"
     ]
    }
   ],
   "source": [
    "try:\n",
    "    i = [1,2]\n",
    "    i[4]\n",
    "except Exception as e:\n",
    "    print(type(e).__name__)"
   ]
  },
  {
   "cell_type": "markdown",
   "metadata": {},
   "source": [
    "### Sample Error Types:\n",
    "\n",
    "`ImportError` - when import statement has trouble loading a module.  \n",
    "`IndexError` - when a sequence subscript (slice or index) is out of range.  \n",
    "`KeyError` - when a key is not found in the existing set of keys.  \n",
    "`KeyboardInterrupt` - occurs when user hits an interrupt key (control-c).  \n",
    "\n",
    "[complete list](https://docs.python.org/3/library/exceptions.html)"
   ]
  },
  {
   "cell_type": "markdown",
   "metadata": {},
   "source": [
    "## `assert` built in method\n",
    "\n",
    "`assert` takes an argument which is a boolean statement and throws an `AssertionError` if false. Continues execution otherwise."
   ]
  },
  {
   "cell_type": "code",
   "execution_count": 39,
   "metadata": {},
   "outputs": [
    {
     "ename": "AssertionError",
     "evalue": "",
     "output_type": "error",
     "traceback": [
      "\u001b[1;31m---------------------------------------------------------------------------\u001b[0m",
      "\u001b[1;31mAssertionError\u001b[0m                            Traceback (most recent call last)",
      "\u001b[1;32m<ipython-input-39-6f20fbb6ace2>\u001b[0m in \u001b[0;36m<module>\u001b[1;34m\u001b[0m\n\u001b[0;32m      1\u001b[0m \u001b[0ms\u001b[0m \u001b[1;33m=\u001b[0m \u001b[1;34m\"string\"\u001b[0m\u001b[1;33m\u001b[0m\u001b[1;33m\u001b[0m\u001b[0m\n\u001b[0;32m      2\u001b[0m \u001b[1;33m\u001b[0m\u001b[0m\n\u001b[1;32m----> 3\u001b[1;33m \u001b[1;32massert\u001b[0m\u001b[1;33m(\u001b[0m\u001b[0mtype\u001b[0m\u001b[1;33m(\u001b[0m\u001b[0ms\u001b[0m\u001b[1;33m)\u001b[0m \u001b[1;33m==\u001b[0m \u001b[0mint\u001b[0m\u001b[1;33m)\u001b[0m\u001b[1;33m\u001b[0m\u001b[1;33m\u001b[0m\u001b[0m\n\u001b[0m\u001b[0;32m      4\u001b[0m \u001b[1;31m# assert(type(s) == str)\u001b[0m\u001b[1;33m\u001b[0m\u001b[1;33m\u001b[0m\u001b[1;33m\u001b[0m\u001b[0m\n\u001b[0;32m      5\u001b[0m \u001b[1;33m\u001b[0m\u001b[0m\n",
      "\u001b[1;31mAssertionError\u001b[0m: "
     ]
    }
   ],
   "source": [
    "s = \"string\"\n",
    "\n",
    "assert(type(s) == int)\n",
    "# assert(type(s) == str)\n",
    "\n",
    "try:\n",
    "    assert(type(s) == int)\n",
    "except AssertionError:\n",
    "    print(\"this will run\")\n",
    "except Exception as e:\n",
    "    print(type(e).__name__)"
   ]
  },
  {
   "cell_type": "code",
   "execution_count": 40,
   "metadata": {},
   "outputs": [
    {
     "ename": "AssertionError",
     "evalue": "",
     "output_type": "error",
     "traceback": [
      "\u001b[1;31m---------------------------------------------------------------------------\u001b[0m",
      "\u001b[1;31mAssertionError\u001b[0m                            Traceback (most recent call last)",
      "\u001b[1;32m<ipython-input-40-0464fc3e23e8>\u001b[0m in \u001b[0;36m<module>\u001b[1;34m\u001b[0m\n\u001b[0;32m      3\u001b[0m     \u001b[1;32mreturn\u001b[0m \u001b[0mnum\u001b[0m \u001b[1;33m*\u001b[0m \u001b[1;36m4\u001b[0m\u001b[1;33m\u001b[0m\u001b[1;33m\u001b[0m\u001b[0m\n\u001b[0;32m      4\u001b[0m \u001b[1;33m\u001b[0m\u001b[0m\n\u001b[1;32m----> 5\u001b[1;33m \u001b[0mmultiplyby4\u001b[0m\u001b[1;33m(\u001b[0m\u001b[1;34m'string'\u001b[0m\u001b[1;33m)\u001b[0m\u001b[1;33m\u001b[0m\u001b[1;33m\u001b[0m\u001b[0m\n\u001b[0m",
      "\u001b[1;32m<ipython-input-40-0464fc3e23e8>\u001b[0m in \u001b[0;36mmultiplyby4\u001b[1;34m(num)\u001b[0m\n\u001b[0;32m      1\u001b[0m \u001b[1;32mdef\u001b[0m \u001b[0mmultiplyby4\u001b[0m\u001b[1;33m(\u001b[0m\u001b[0mnum\u001b[0m\u001b[1;33m)\u001b[0m\u001b[1;33m:\u001b[0m\u001b[1;33m\u001b[0m\u001b[1;33m\u001b[0m\u001b[0m\n\u001b[1;32m----> 2\u001b[1;33m     \u001b[1;32massert\u001b[0m\u001b[1;33m(\u001b[0m\u001b[0misinstance\u001b[0m\u001b[1;33m(\u001b[0m\u001b[0mnum\u001b[0m\u001b[1;33m,\u001b[0m \u001b[1;33m(\u001b[0m\u001b[0mint\u001b[0m\u001b[1;33m,\u001b[0m\u001b[0mfloat\u001b[0m\u001b[1;33m)\u001b[0m\u001b[1;33m)\u001b[0m\u001b[1;33m)\u001b[0m\u001b[1;33m\u001b[0m\u001b[1;33m\u001b[0m\u001b[0m\n\u001b[0m\u001b[0;32m      3\u001b[0m     \u001b[1;32mreturn\u001b[0m \u001b[0mnum\u001b[0m \u001b[1;33m*\u001b[0m \u001b[1;36m4\u001b[0m\u001b[1;33m\u001b[0m\u001b[1;33m\u001b[0m\u001b[0m\n\u001b[0;32m      4\u001b[0m \u001b[1;33m\u001b[0m\u001b[0m\n\u001b[0;32m      5\u001b[0m \u001b[0mmultiplyby4\u001b[0m\u001b[1;33m(\u001b[0m\u001b[1;34m'string'\u001b[0m\u001b[1;33m)\u001b[0m\u001b[1;33m\u001b[0m\u001b[1;33m\u001b[0m\u001b[0m\n",
      "\u001b[1;31mAssertionError\u001b[0m: "
     ]
    }
   ],
   "source": [
    "def multiplyby4(num):\n",
    "    assert(isinstance(num, (int,float)))\n",
    "    return num * 4\n",
    "\n",
    "multiplyby4('string')"
   ]
  },
  {
   "cell_type": "code",
   "execution_count": 33,
   "metadata": {},
   "outputs": [
    {
     "name": "stdout",
     "output_type": "stream",
     "text": [
      "denominator cannot be used\n"
     ]
    }
   ],
   "source": [
    "def function_using_assertion(numerator, denominator):\n",
    "    try:\n",
    "        assert(isinstance(numerator, (int, float)))\n",
    "        assert(isinstance(denominator, (int, float)) and not denominator == 0)\n",
    "        print(numerator/denominator)\n",
    "    except (AssertionError, ZeroDivisionError):\n",
    "        print(\"denominator cannot be used\")\n",
    "# or\n",
    "#     except (AssertionError):\n",
    "#         print(\"AssertionError\")\n",
    "#     except (ZeroDivisionError):\n",
    "#         print(\"ZeroDivisionError\")\n",
    "\n",
    "function_using_assertion(10,0)"
   ]
  },
  {
   "cell_type": "markdown",
   "metadata": {},
   "source": [
    "# Python Standard Library\n",
    "\n",
    "Over 200 packages/modules that we can use in our software development\n",
    "\n",
    "argparse - Command-line option and argument parsing library.   \n",
    "array - Space efficient arrays of uniformly typed numeric values.   \n",
    "asyncio - Asynchronous I/O.   \n",
    "collections - Container datatypes.  \n",
    "concurrent.futures - Launching parallel tasks.  \n",
    "contextlib - Utilities for with-statement contexts.  \n",
    "copy - Shallow and deep copy operations.  \n",
    "csv - Write and read tabular data to and from delimited files.  \n",
    "datetime - Basic date and time types.  \n",
    "decimal - Implementation of the General Decimal Arithmetic Specification.  \n",
    "dis - Disassembler for Python bytecode.  \n",
    "email - Package supporting the parsing, manipulating, and generating email messages.  \n",
    "enum - Implementation of an enumeration class.  \n",
    "fractions - Rational numbers.  \n",
    "functools - Higher-order functions and operations on callable objects.  \n",
    "getpass - Portable reading of passwords and retrieval of the userid.  \n",
    "glob - Unix shell style pathname pattern expansion.  \n",
    "gzip - Interfaces for gzip compression and decompression using file objects.  \n",
    "hashlib - Secure hash and message digest algorithms.   \n",
    "html - Helpers for manipulating HTML.  \n",
    "http - HTTP status codes and messages  \n",
    "importlib - The implementation of the import machinery.  \n",
    "inspect - Extract information and source code from live objects.  \n",
    "io - Core tools for working with streams.  \n",
    "ipaddress - IPv4/IPv6 manipulation library.  \n",
    "itertools - Functions creating iterators for efficient looping.  \n",
    "json - Encode and decode the JSON format.  \n",
    "keyword - Test whether a string is a keyword in Python.  \n",
    "logging - Flexible event logging system for applications.  \n",
    "math - Mathematical functions (sin() etc.).  \n",
    "mimetypes - Mapping of filename extensions to MIME types.  \n",
    "modulefinder - Find modules used by a script.  \n",
    "multiprocessing - Process-based parallelism.  \n",
    "operator - Functions corresponding to the standard operators.  \n",
    "os - Miscellaneous operating system interfaces.  \n",
    "pathlib - Object-oriented filesystem paths  \n",
    "pickle - Convert Python objects to streams of bytes and back.  \n",
    "platform - Retrieves as much platform identifying data as possible.   \n",
    "pprint - Data pretty printer.  \n",
    "queue - A synchronized queue class.  \n",
    "random - Generate pseudo-random numbers with various common distributions.  \n",
    "re - Regular expression operations.  \n",
    "sched - General purpose event scheduler.  \n",
    "secrets - Generate secure random numbers for managing secrets.  \n",
    "shutil - High-level file operations, including copying.  \n",
    "socket - Low-level networking interface.  \n",
    "sqlite3 - A DB-API 2.0 implementation using SQLite 3.x.  \n",
    "ssl - TLS/SSL wrapper for socket objects  \n",
    "statistics - Mathematical statistics functions  \n",
    "string - Common string operations.  \n",
    "subprocess - Subprocess management.  \n",
    "test - Regression tests package containing the testing suite for Python.  \n",
    "threading - Thread-based parallelism.  \n",
    "time - Time access and conversions.  \n",
    "timeit - Measure the execution time of small code snippets.  \n",
    "types - Names for built-in types.  \n",
    "typing - Support for type hints (see :pep:`484`).  \n",
    "unittest - Unit testing framework for Python.\n",
    "urllib\t URL handling modules\n",
    "uuid - UUID objects (universally unique identifiers) according to RFC 4122\n",
    "venv - Creation of virtual environments.\n",
    "xml - Package containing XML processing modules\n",
    "\n",
    "[Python Module Index](https://docs.python.org/3.8/py-modindex.html)"
   ]
  },
  {
   "cell_type": "markdown",
   "metadata": {},
   "source": [
    "# Examples from the standard library"
   ]
  },
  {
   "cell_type": "markdown",
   "metadata": {},
   "source": [
    "# `array` \n",
    "\n",
    "Space efficient arrays of uniformly typed numeric values. \n",
    "\n",
    "https://docs.python.org/3.8/library/array.html#module-array"
   ]
  },
  {
   "cell_type": "code",
   "execution_count": 44,
   "metadata": {},
   "outputs": [
    {
     "name": "stdout",
     "output_type": "stream",
     "text": [
      "array('l', [1, 2, 3, 4, 5, 6])\n"
     ]
    },
    {
     "ename": "TypeError",
     "evalue": "list expected at most 1 argument, got 2",
     "output_type": "error",
     "traceback": [
      "\u001b[1;31m---------------------------------------------------------------------------\u001b[0m",
      "\u001b[1;31mTypeError\u001b[0m                                 Traceback (most recent call last)",
      "\u001b[1;32m<ipython-input-44-9878bc20c917>\u001b[0m in \u001b[0;36m<module>\u001b[1;34m\u001b[0m\n\u001b[0;32m      5\u001b[0m \u001b[1;31m# print(a.append('r'))\u001b[0m\u001b[1;33m\u001b[0m\u001b[1;33m\u001b[0m\u001b[1;33m\u001b[0m\u001b[0m\n\u001b[0;32m      6\u001b[0m \u001b[1;33m\u001b[0m\u001b[0m\n\u001b[1;32m----> 7\u001b[1;33m \u001b[0ml\u001b[0m \u001b[1;33m=\u001b[0m \u001b[0mlist\u001b[0m\u001b[1;33m(\u001b[0m\u001b[1;34m'l'\u001b[0m\u001b[1;33m,\u001b[0m \u001b[1;33m[\u001b[0m\u001b[1;36m1\u001b[0m\u001b[1;33m,\u001b[0m\u001b[1;36m2\u001b[0m\u001b[1;33m,\u001b[0m\u001b[1;36m3\u001b[0m\u001b[1;33m,\u001b[0m\u001b[1;36m4\u001b[0m\u001b[1;33m,\u001b[0m\u001b[1;36m5\u001b[0m\u001b[1;33m,\u001b[0m\u001b[1;36m6\u001b[0m\u001b[1;33m]\u001b[0m\u001b[1;33m)\u001b[0m\u001b[1;33m\u001b[0m\u001b[1;33m\u001b[0m\u001b[0m\n\u001b[0m\u001b[0;32m      8\u001b[0m \u001b[0mprint\u001b[0m\u001b[1;33m(\u001b[0m\u001b[0ml\u001b[0m\u001b[1;33m.\u001b[0m\u001b[0mappend\u001b[0m\u001b[1;33m(\u001b[0m\u001b[1;34m'r'\u001b[0m\u001b[1;33m)\u001b[0m\u001b[1;33m)\u001b[0m\u001b[1;33m\u001b[0m\u001b[1;33m\u001b[0m\u001b[0m\n",
      "\u001b[1;31mTypeError\u001b[0m: list expected at most 1 argument, got 2"
     ]
    }
   ],
   "source": [
    "from array import array\n",
    "\n",
    "a = array('l', [1,2,3,4,5,6])\n",
    "print(a)\n",
    "# print(a.append('r'))\n",
    "\n",
    "l = list('l', [1,2,3,4,5,6])\n",
    "print(l.append('r'))\n"
   ]
  },
  {
   "cell_type": "markdown",
   "metadata": {},
   "source": [
    "# `asyncio` \n",
    "\n",
    "Asynchronous I/O.   \n",
    "\n",
    "https://docs.python.org/3.8/library/asyncio.html#module-asyncio"
   ]
  },
  {
   "cell_type": "code",
   "execution_count": null,
   "metadata": {},
   "outputs": [],
   "source": [
    "import time,asyncio\n",
    "\n",
    "async def count():\n",
    "    print(\"count one\")\n",
    "    await asyncio.sleep(1)\n",
    "    print(\"count four\")\n",
    "\n",
    "async def count_further():\n",
    "    print(\"count two\")\n",
    "    await asyncio.sleep(1)\n",
    "    print(\"count five\")\n",
    "\n",
    "async def count_even_further():\n",
    "    print(\"count three\")\n",
    "    await asyncio.sleep(1)\n",
    "    print(\"count six\")\n",
    "\n",
    "async def main():\n",
    "    await asyncio.gather(count(), count_further(), count_even_further())\n",
    "\n",
    "s = time.perf_counter()\n",
    "await main()\n",
    "elapsed = time.perf_counter() - s\n",
    "print(f\"Script executed in {elapsed:0.2f} seconds.\")"
   ]
  },
  {
   "cell_type": "markdown",
   "metadata": {},
   "source": [
    "# `collections`\n",
    "\n",
    "Container datatypes.  "
   ]
  },
  {
   "cell_type": "code",
   "execution_count": 24,
   "metadata": {},
   "outputs": [
    {
     "data": {
      "text/plain": [
       "[('the', 14),\n",
       " ('a', 9),\n",
       " ('it', 9),\n",
       " ('and', 8),\n",
       " ('you', 8),\n",
       " ('they', 8),\n",
       " ('s', 8),\n",
       " ('i', 6),\n",
       " ('was', 5),\n",
       " ('would', 5)]"
      ]
     },
     "execution_count": 24,
     "metadata": {},
     "output_type": "execute_result"
    }
   ],
   "source": [
    "import re, collections\n",
    "\n",
    "nonsense =  \"Look, having nuclear — my uncle was a great professor \\\n",
    "             and scientist and engineer, Dr. John Trump at MIT; good \\\n",
    "             genes, very good genes, OK, very smart, the Wharton School \\\n",
    "             of Finance, very good, very smart — you know, if you’re a \\\n",
    "             conservative Republican, if I were a liberal, if, like, OK,\\\n",
    "             if I ran as a liberal Democrat, they would say I’m one of \\\n",
    "             the smartest people anywhere in the world — it’s true! — \\\n",
    "             but when you’re a conservative Republican they try — oh, do \\\n",
    "             they do a number — that’s why I always start off: Went to \\\n",
    "             Wharton, was a good student, went there, went there, did \\\n",
    "             this, built a fortune — you know I have to give my like \\\n",
    "             credentials all the time, because we’re a \\\n",
    "             little disadvantaged — but you look at the nuclear deal, \\\n",
    "             the thing that really bothers me — it would have been so \\\n",
    "             easy, and it’s not as important as these lives are — nuclear \\\n",
    "             is so powerful; my uncle explained that to me many, many years \\\n",
    "             ago, the power and that was 35 years ago; he would explain the \\\n",
    "             power of what’s going to happen and he was right, who would \\\n",
    "             have thought? — but when you look at what’s going on with the \\\n",
    "             four prisoners — now it used to be three, now it’s four — but \\\n",
    "             when it was three and even now, I would have said it’s all in \\\n",
    "             the messenger; fellas, and it is fellas because, you know, they \\\n",
    "             don’t, they haven’t figured that the women are smarter right now \\\n",
    "             than the men, so, you know, it’s gonna take them about another \\\n",
    "             150 years — but the Persians are great negotiators, the \\\n",
    "             Iranians are great negotiators, so, and they, they just \\\n",
    "             killed, they just killed us, this is horrible.\"\n",
    "\n",
    "words = re.findall(r'\\w+', nonsense.lower())\n",
    "\n",
    "collections.Counter(words).most_common(10)"
   ]
  },
  {
   "cell_type": "markdown",
   "metadata": {},
   "source": [
    "# `concurrent.futures` \n",
    "\n",
    "Launching parallel tasks.  "
   ]
  },
  {
   "cell_type": "code",
   "execution_count": 25,
   "metadata": {},
   "outputs": [
    {
     "name": "stdout",
     "output_type": "stream",
     "text": [
      "'http://some-made-up-domain.com/' page is 64668 bytes\n",
      "'http://www.foxnews.com/' page is 329625 bytes\n",
      "'http://www.cnn.com/' page is 1144599 bytes\n",
      "'http://www.bbc.co.uk/' page is 312507 bytes\n",
      "'http://europe.wsj.com/' generated an exception: HTTP Error 403: Forbidden\n"
     ]
    }
   ],
   "source": [
    "import concurrent.futures\n",
    "import urllib.request\n",
    "\n",
    "URLS = ['http://www.foxnews.com/',\n",
    "        'http://www.cnn.com/',\n",
    "        'http://europe.wsj.com/',\n",
    "        'http://www.bbc.co.uk/',\n",
    "        'http://some-made-up-domain.com/']\n",
    "\n",
    "# Retrieve a single page and report the URL and contents\n",
    "def load_url(url, timeout):\n",
    "    with urllib.request.urlopen(url, timeout=timeout) as conn:\n",
    "        return conn.read()\n",
    "\n",
    "# We can use a with statement to ensure threads are cleaned up promptly\n",
    "with concurrent.futures.ThreadPoolExecutor(max_workers=5) as executor:\n",
    "    # Start the load operations and mark each future with its URL\n",
    "    future_to_url = {executor.submit(load_url, url, 60): url for url in URLS}\n",
    "    for future in concurrent.futures.as_completed(future_to_url):\n",
    "        url = future_to_url[future]\n",
    "        try:\n",
    "            data = future.result()\n",
    "        except Exception as exc:\n",
    "            print('%r generated an exception: %s' % (url, exc))\n",
    "        else:\n",
    "            print('%r page is %d bytes' % (url, len(data)))"
   ]
  },
  {
   "cell_type": "markdown",
   "metadata": {},
   "source": [
    "# `datetime`\n",
    "\n",
    "Basic date and time types.  "
   ]
  },
  {
   "cell_type": "code",
   "execution_count": null,
   "metadata": {},
   "outputs": [],
   "source": [
    "from datetime import datetime\n",
    "\n",
    "print(datetime.today())"
   ]
  },
  {
   "cell_type": "markdown",
   "metadata": {},
   "source": [
    "# `dis`\n",
    "\n",
    "Disassembler for Python bytecode.  "
   ]
  },
  {
   "cell_type": "code",
   "execution_count": null,
   "metadata": {},
   "outputs": [],
   "source": [
    "import dis\n",
    "def func(arg):\n",
    "    if isinstance(arg, (int, bool, float)):\n",
    "        return arg ** 100\n",
    "    \n",
    "dis.dis(func)"
   ]
  },
  {
   "cell_type": "markdown",
   "metadata": {},
   "source": [
    "# `enum`\n",
    "\n",
    "Implementation of an enumeration class.  "
   ]
  },
  {
   "cell_type": "code",
   "execution_count": 45,
   "metadata": {},
   "outputs": [
    {
     "name": "stdout",
     "output_type": "stream",
     "text": [
      "green\n",
      "2\n"
     ]
    }
   ],
   "source": [
    "from enum import Enum\n",
    "\n",
    "class Color(Enum):\n",
    "    red = 1\n",
    "    green = 2 \n",
    "    blue = 3\n",
    "\n",
    "print(Color.green.name)\n",
    "print(Color.green.value)"
   ]
  },
  {
   "cell_type": "markdown",
   "metadata": {},
   "source": [
    "# `functools` \n",
    "\n",
    "Higher-order functions and operations on callable objects.  "
   ]
  },
  {
   "cell_type": "code",
   "execution_count": 47,
   "metadata": {},
   "outputs": [
    {
     "name": "stdout",
     "output_type": "stream",
     "text": [
      "[1, 3, 5, 7, 9, 11, 13]\n"
     ]
    },
    {
     "data": {
      "text/plain": [
       "135135"
      ]
     },
     "execution_count": 47,
     "metadata": {},
     "output_type": "execute_result"
    }
   ],
   "source": [
    "from functools import reduce\n",
    "\n",
    "nums = [(2*i)-1 for i in range(1,8)]\n",
    "print(nums)\n",
    "reduce(lambda x,y: x * y, nums)"
   ]
  },
  {
   "cell_type": "markdown",
   "metadata": {},
   "source": [
    "# `getpass` \n",
    "Portable reading of passwords and retrieval of the userid.  "
   ]
  },
  {
   "cell_type": "code",
   "execution_count": 52,
   "metadata": {},
   "outputs": [
    {
     "name": "stdin",
     "output_type": "stream",
     "text": [
      "password:  kkjljl\n"
     ]
    },
    {
     "data": {
      "text/plain": [
       "'kkjljl'"
      ]
     },
     "execution_count": 52,
     "metadata": {},
     "output_type": "execute_result"
    }
   ],
   "source": [
    "input(\"password: \")"
   ]
  },
  {
   "cell_type": "code",
   "execution_count": 53,
   "metadata": {},
   "outputs": [
    {
     "name": "stdin",
     "output_type": "stream",
     "text": [
      "Enter your password here: ···········\n"
     ]
    },
    {
     "data": {
      "text/plain": [
       "'kjlkjkljljl'"
      ]
     },
     "execution_count": 53,
     "metadata": {},
     "output_type": "execute_result"
    }
   ],
   "source": [
    "# using a secure command line applications requesting password\n",
    "from getpass import getpass\n",
    "\n",
    "getpass('Enter your password here:')\n"
   ]
  },
  {
   "cell_type": "markdown",
   "metadata": {},
   "source": [
    "# `html` \n",
    "\n",
    "Helpers for manipulating HTML.  "
   ]
  },
  {
   "cell_type": "code",
   "execution_count": 54,
   "metadata": {},
   "outputs": [
    {
     "data": {
      "text/plain": [
       "'&lt;a&gt;hello&lt;/a&gt;'"
      ]
     },
     "execution_count": 54,
     "metadata": {},
     "output_type": "execute_result"
    }
   ],
   "source": [
    "import html\n",
    "\n",
    "html.escape('<a>hello</a>')"
   ]
  },
  {
   "cell_type": "markdown",
   "metadata": {},
   "source": [
    "# `http`\n",
    "\n",
    "HTTP status codes and messages  \n",
    "\n",
    "The http.cookiejar module defines classes for automatic handling of HTTP cookies. It is useful for accessing web sites that require small pieces of data – cookies – to be set on the client machine by an HTTP response from a web server, and then returned to the server in later HTTP requests.\n",
    "\n",
    "[http.cookiejar](https://docs.python.org/3/library/http.cookiejar.html)"
   ]
  },
  {
   "cell_type": "code",
   "execution_count": 56,
   "metadata": {},
   "outputs": [
    {
     "data": {
      "text/plain": [
       "True"
      ]
     },
     "execution_count": 56,
     "metadata": {},
     "output_type": "execute_result"
    }
   ],
   "source": [
    "from http import HTTPStatus, cookies, cookiejar\n",
    "\n",
    "HTTPStatus.OK == 200"
   ]
  },
  {
   "cell_type": "markdown",
   "metadata": {},
   "source": [
    "# `importlib`\n",
    "The implementation of the import machinery.  "
   ]
  },
  {
   "cell_type": "code",
   "execution_count": 57,
   "metadata": {},
   "outputs": [
    {
     "data": {
      "text/plain": [
       "<module 'package' from 'C:\\\\Users\\\\YouthCode_11\\\\Documents\\\\tkh\\\\week-007\\\\package\\\\__init__.py'>"
      ]
     },
     "execution_count": 57,
     "metadata": {},
     "output_type": "execute_result"
    }
   ],
   "source": [
    "import importlib, package\n",
    "\n",
    "importlib.reload(package)"
   ]
  },
  {
   "cell_type": "markdown",
   "metadata": {},
   "source": [
    "# `inspect`\n",
    "\n",
    "Extract information and source code from live objects.  "
   ]
  },
  {
   "cell_type": "code",
   "execution_count": 59,
   "metadata": {},
   "outputs": [
    {
     "data": {
      "text/plain": [
       "True"
      ]
     },
     "execution_count": 59,
     "metadata": {},
     "output_type": "execute_result"
    }
   ],
   "source": [
    "import inspect\n",
    "\n",
    "# def fn():\n",
    "#     pass\n",
    "\n",
    "fn = lambda: None\n",
    "\n",
    "inspect.isfunction(fn)"
   ]
  },
  {
   "cell_type": "markdown",
   "metadata": {},
   "source": [
    "# `io` \n",
    "\n",
    "Core tools for working with streams.  "
   ]
  },
  {
   "cell_type": "code",
   "execution_count": 61,
   "metadata": {},
   "outputs": [
    {
     "name": "stdout",
     "output_type": "stream",
     "text": [
      "<_io.StringIO object at 0x000001D5BC7DD430>\n",
      "<class '_io.TextIOWrapper'>\n"
     ]
    },
    {
     "data": {
      "text/plain": [
       "(None, None)"
      ]
     },
     "execution_count": 61,
     "metadata": {},
     "output_type": "execute_result"
    }
   ],
   "source": [
    "import io\n",
    "\n",
    "e = open(\"infile.csv\", \"r\", encoding=\"utf-8\")\n",
    "f = io.StringIO(\"some initial text data\")\n",
    "print(f)\n",
    "print(type(e))\n",
    "e.close(), f.close()"
   ]
  },
  {
   "cell_type": "markdown",
   "metadata": {},
   "source": [
    "# `ipaddress` \n",
    "IPv4/IPv6 manipulation library.  "
   ]
  },
  {
   "cell_type": "code",
   "execution_count": 65,
   "metadata": {},
   "outputs": [
    {
     "name": "stdout",
     "output_type": "stream",
     "text": [
      "192.168.0.1\n",
      "2001:0db8:0000:0000:0000:0000:0000:0001\n",
      "2001:db8::1\n"
     ]
    }
   ],
   "source": [
    "import ipaddress\n",
    "\n",
    "print(ipaddress.IPv4Address('192.168.0.1'))\n",
    "print(ipaddress.IPv6Address(\"2001:db8::1\").exploded)\n",
    "print(ipaddress.IPv6Address('2001:0db8:0000:0000:0000:0000:0000:0001').compressed)"
   ]
  },
  {
   "cell_type": "markdown",
   "metadata": {},
   "source": [
    "# `itertools` \n",
    "Functions creating iterators for efficient looping.  "
   ]
  },
  {
   "cell_type": "code",
   "execution_count": 69,
   "metadata": {},
   "outputs": [
    {
     "name": "stdout",
     "output_type": "stream",
     "text": [
      "[('A', 'A'), ('A', 'B'), ('A', 'C'), ('A', 'D'), ('B', 'A'), ('B', 'B'), ('B', 'C'), ('B', 'D'), ('C', 'A'), ('C', 'B'), ('C', 'C'), ('C', 'D'), ('D', 'A'), ('D', 'B'), ('D', 'C'), ('D', 'D')]\n"
     ]
    },
    {
     "data": {
      "text/plain": [
       "16"
      ]
     },
     "execution_count": 69,
     "metadata": {},
     "output_type": "execute_result"
    }
   ],
   "source": [
    "import itertools\n",
    "\n",
    "print(list(itertools.product('ABCD', repeat=2)))\n",
    "len(list(itertools.product('ABCD', repeat=2)))"
   ]
  },
  {
   "cell_type": "code",
   "execution_count": 73,
   "metadata": {},
   "outputs": [
    {
     "data": {
      "text/plain": [
       "[('A', 'B'),\n",
       " ('A', 'C'),\n",
       " ('A', 'D'),\n",
       " ('B', 'A'),\n",
       " ('B', 'C'),\n",
       " ('B', 'D'),\n",
       " ('C', 'A'),\n",
       " ('C', 'B'),\n",
       " ('C', 'D'),\n",
       " ('D', 'A'),\n",
       " ('D', 'B'),\n",
       " ('D', 'C')]"
      ]
     },
     "execution_count": 73,
     "metadata": {},
     "output_type": "execute_result"
    }
   ],
   "source": [
    "import itertools\n",
    "\n",
    "list(itertools.permutations('ABCD', 2))"
   ]
  },
  {
   "cell_type": "code",
   "execution_count": 5,
   "metadata": {},
   "outputs": [
    {
     "data": {
      "text/plain": [
       "[('A', 'B'), ('A', 'C'), ('A', 'D'), ('B', 'C'), ('B', 'D'), ('C', 'D')]"
      ]
     },
     "execution_count": 5,
     "metadata": {},
     "output_type": "execute_result"
    }
   ],
   "source": [
    "import itertools\n",
    "\n",
    "list(itertools.combinations('ABCD', 2))"
   ]
  },
  {
   "cell_type": "markdown",
   "metadata": {},
   "source": [
    "# `math`\n",
    "Mathematical functions (sin() etc.).  "
   ]
  },
  {
   "cell_type": "code",
   "execution_count": 81,
   "metadata": {},
   "outputs": [
    {
     "name": "stdout",
     "output_type": "stream",
     "text": [
      "1.0\n",
      "0.9999996829318346\n",
      "1.0\n"
     ]
    }
   ],
   "source": [
    "import math\n",
    "\n",
    "print(math.sin(math.pi/2))\n",
    "print(math.sin(3.14/2))\n",
    "\n",
    "print(math.cos(0))"
   ]
  },
  {
   "cell_type": "markdown",
   "metadata": {},
   "source": [
    "# `multiprocessing` \n",
    "Process-based parallelism.  "
   ]
  },
  {
   "cell_type": "code",
   "execution_count": 83,
   "metadata": {},
   "outputs": [],
   "source": [
    "from multiprocessing import Process, Queue\n",
    "import random\n",
    "\n",
    "def rand_num():\n",
    "    num = random.random()\n",
    "    print(num)\n",
    "\n",
    "queue = Queue()\n",
    "\n",
    "processes = [Process(target=rand_num, args=()) for x in range(4)]\n",
    "\n",
    "for p in processes:\n",
    "    p.start()\n",
    "\n",
    "for p in processes:\n",
    "    p.join()"
   ]
  },
  {
   "cell_type": "markdown",
   "metadata": {},
   "source": [
    "# `os`\n",
    "\n",
    "Miscellaneous operating system interfaces.  "
   ]
  },
  {
   "cell_type": "code",
   "execution_count": 87,
   "metadata": {},
   "outputs": [
    {
     "name": "stdout",
     "output_type": "stream",
     "text": [
      "nt\n",
      "C:\\Users\\YouthCode_11\\Documents\\tkh\\week-007\n"
     ]
    },
    {
     "data": {
      "text/plain": [
       "uname_result(system='Windows', node='LAPTOP-V5K6NTV2', release='10', version='10.0.18362', machine='AMD64', processor='AMD64 Family 21 Model 101 Stepping 1, AuthenticAMD')"
      ]
     },
     "execution_count": 87,
     "metadata": {},
     "output_type": "execute_result"
    }
   ],
   "source": [
    "import os\n",
    "print(os.name)\n",
    "# print(os.uname())\n",
    "print(os.getcwd())\n",
    "\n",
    "# For windows\n",
    "import platform\n",
    "platform.uname()\n",
    "\n"
   ]
  },
  {
   "cell_type": "markdown",
   "metadata": {},
   "source": [
    "# `pathlib`   \n",
    "Object-oriented filesystem paths  "
   ]
  },
  {
   "cell_type": "code",
   "execution_count": 22,
   "metadata": {},
   "outputs": [
    {
     "data": {
      "text/plain": [
       "[PosixPath('project'),\n",
       " PosixPath('.ipynb_checkpoints'),\n",
       " PosixPath('package'),\n",
       " PosixPath('__pycache__')]"
      ]
     },
     "execution_count": 22,
     "metadata": {},
     "output_type": "execute_result"
    }
   ],
   "source": [
    "from pathlib import Path\n",
    "\n",
    "p = Path('.')\n",
    "[x for x in p.iterdir() if x.is_dir()]"
   ]
  },
  {
   "cell_type": "code",
   "execution_count": 28,
   "metadata": {},
   "outputs": [
    {
     "data": {
      "text/plain": [
       "PosixPath('/etc/init.d/reboot')"
      ]
     },
     "execution_count": 28,
     "metadata": {},
     "output_type": "execute_result"
    }
   ],
   "source": [
    "from pathlib import Path\n",
    "\n",
    "p = Path('/etc')\n",
    "q = p / 'init.d' / 'reboot'\n",
    "\n",
    "q.resolve()\n",
    "#q.exists()"
   ]
  },
  {
   "cell_type": "markdown",
   "metadata": {},
   "source": [
    "# `platform` \n",
    "\n",
    "Retrieves as much platform identifying data as possible. "
   ]
  },
  {
   "cell_type": "code",
   "execution_count": 88,
   "metadata": {},
   "outputs": [
    {
     "name": "stdout",
     "output_type": "stream",
     "text": [
      "('64bit', 'WindowsPE')\n",
      "AMD64\n",
      "Windows-10-10.0.18362-SP0\n"
     ]
    }
   ],
   "source": [
    "import platform\n",
    "\n",
    "print(platform.architecture())\n",
    "print(platform.machine())\n",
    "print(platform.platform())"
   ]
  },
  {
   "cell_type": "markdown",
   "metadata": {},
   "source": [
    "# `pprint`\n",
    "Data pretty printer.  "
   ]
  },
  {
   "cell_type": "code",
   "execution_count": 89,
   "metadata": {},
   "outputs": [
    {
     "name": "stdout",
     "output_type": "stream",
     "text": [
      "[   ['spam', 'eggs', 'lumberjack', 'knights'],\n",
      "    'spam',\n",
      "    'eggs',\n",
      "    'lumberjack',\n",
      "    'knights']\n",
      "[['spam', 'eggs', 'lumberjack', 'knights'], 'spam', 'eggs', 'lumberjack', 'knights']\n"
     ]
    }
   ],
   "source": [
    "import pprint\n",
    "\n",
    "stuff = ['spam', 'eggs', 'lumberjack', 'knights']\n",
    "stuff.insert(0, stuff[:])\n",
    "pp = pprint.PrettyPrinter(indent=4)\n",
    "pp.pprint(stuff)\n",
    "print(stuff)"
   ]
  },
  {
   "cell_type": "markdown",
   "metadata": {},
   "source": [
    "# `queue` \n",
    "A synchronized queue class.  "
   ]
  },
  {
   "cell_type": "code",
   "execution_count": 39,
   "metadata": {},
   "outputs": [
    {
     "name": "stdout",
     "output_type": "stream",
     "text": [
      "All task requests sent\n",
      "Working on 0\n",
      "Finished 0\n",
      "Working on 1\n",
      "Finished 1\n",
      "Working on 2\n",
      "Finished 2\n",
      "Working on 3\n",
      "Finished 3\n",
      "Working on 4\n",
      "Finished 4\n",
      "Working on 5\n",
      "Finished 5\n",
      "Working on 6\n",
      "Finished 6\n",
      "Working on 7\n",
      "Finished 7\n",
      "Working on 8\n",
      "Finished 8\n",
      "Working on 9\n",
      "Finished 9\n",
      "All work completed\n"
     ]
    }
   ],
   "source": [
    "import threading, queue\n",
    "\n",
    "q = queue.Queue()\n",
    "\n",
    "def worker():\n",
    "    while True:\n",
    "        item = q.get()\n",
    "        print(f'Working on {item}')\n",
    "        print(f'Finished {item}')\n",
    "        q.task_done()\n",
    "\n",
    "# turn-on the worker thread\n",
    "threading.Thread(target=worker, daemon=True).start()\n",
    "\n",
    "# send thirty task requests to the worker\n",
    "for item in range(10):\n",
    "    q.put(item)\n",
    "print('All task requests sent\\n', end='')\n",
    "\n",
    "# block until all tasks are done\n",
    "q.join()\n",
    "print('All work completed')"
   ]
  },
  {
   "cell_type": "markdown",
   "metadata": {},
   "source": [
    "# `threading` \n",
    "Thread-based parallelism.  "
   ]
  },
  {
   "cell_type": "raw",
   "metadata": {},
   "source": [
    "# bad example\n",
    "\n",
    "import time\n",
    " \n",
    "#First Method\n",
    "def greet_them(people):\n",
    "    for person in people:\n",
    "        print(\"Hello Dear \" + person + \". How are you?\")\n",
    "        time.sleep(0.5)\n",
    " \n",
    "#Second Method\n",
    "def assign_id(people):\n",
    "    i = 1\n",
    "    for person in people:\n",
    "        print(\"Hey! {}, your id is {}.\".format(person, i))\n",
    "        i += 1\n",
    "        time.sleep(0.5)\n",
    " \n",
    " \n",
    "people = ['Richard', 'Dinesh', 'Elrich', 'Gilfoyle', 'Gevin']\n",
    " \n",
    "t = time.time()\n",
    " \n",
    "greet_them(people)\n",
    "assign_id(people)\n",
    " \n",
    "print(\"Woaahh!! My work is finished..\")\n",
    "print(\"I took \" + str(time.time() - t))"
   ]
  },
  {
   "cell_type": "markdown",
   "metadata": {},
   "source": [
    "# `time`\n",
    "Time access and conversions.  "
   ]
  },
  {
   "cell_type": "code",
   "execution_count": 90,
   "metadata": {},
   "outputs": [
    {
     "name": "stdout",
     "output_type": "stream",
     "text": [
      "time.struct_time(tm_year=2020, tm_mon=10, tm_mday=29, tm_hour=21, tm_min=5, tm_sec=20, tm_wday=3, tm_yday=303, tm_isdst=1)\n",
      "1604019930.6204295\n"
     ]
    }
   ],
   "source": [
    "import time\n",
    "\n",
    "print(time.localtime())\n",
    "time.sleep(10)\n",
    "print(time.time())"
   ]
  },
  {
   "cell_type": "markdown",
   "metadata": {},
   "source": [
    "# `timeit`\n",
    "Measure the execution time of small code snippets.  "
   ]
  },
  {
   "cell_type": "code",
   "execution_count": 91,
   "metadata": {},
   "outputs": [
    {
     "data": {
      "text/plain": [
       "0.5291617000002589"
      ]
     },
     "execution_count": 91,
     "metadata": {},
     "output_type": "execute_result"
    }
   ],
   "source": [
    "import timeit\n",
    "\n",
    "timeit.timeit(lambda: \"-\".join(map(str, range(10000))), number=100)"
   ]
  },
  {
   "cell_type": "markdown",
   "metadata": {},
   "source": [
    "# `uuid`\n",
    "UUID objects (universally unique identifiers) according to RFC 4122"
   ]
  },
  {
   "cell_type": "code",
   "execution_count": 93,
   "metadata": {},
   "outputs": [
    {
     "name": "stdout",
     "output_type": "stream",
     "text": [
      "6337d406-1a4c-11eb-a269-04922617f652\n",
      "cafda8c5-0197-4899-b1ed-d79c87b529da\n"
     ]
    }
   ],
   "source": [
    "import uuid\n",
    "\n",
    "# insecure, uses computers network address to generate\n",
    "print(uuid.uuid1()) \n",
    "# secure, creates a randomized uuid\n",
    "print(uuid.uuid4())\n"
   ]
  },
  {
   "cell_type": "code",
   "execution_count": null,
   "metadata": {},
   "outputs": [],
   "source": []
  }
 ],
 "metadata": {
  "kernelspec": {
   "display_name": "Python 3",
   "language": "python",
   "name": "python3"
  },
  "language_info": {
   "codemirror_mode": {
    "name": "ipython",
    "version": 3
   },
   "file_extension": ".py",
   "mimetype": "text/x-python",
   "name": "python",
   "nbconvert_exporter": "python",
   "pygments_lexer": "ipython3",
   "version": "3.8.3"
  }
 },
 "nbformat": 4,
 "nbformat_minor": 4
}
