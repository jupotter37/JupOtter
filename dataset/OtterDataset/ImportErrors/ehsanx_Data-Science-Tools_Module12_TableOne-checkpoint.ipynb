{
 "cells": [
  {
   "cell_type": "markdown",
   "metadata": {
    "id": "cYIdvSBjfdP6"
   },
   "source": [
    "# Module 12: TableOne Package in Python\n",
    "\n",
    "Before the introduction of the TableOne package, creating descriptive statistics tables, commonly known as \"Table 1\" in medical research, was a cumbersome and error-prone task.\n",
    "\n",
    "Researchers and analysts often had to manually calculate and format the statistics for each variable in their datasets, a process that was not only time-consuming but also vulnerable to inconsistencies and mistakes. This manual approach required extensive use of spreadsheets or custom scripts, which lacked standardization and reproducibility.\n",
    "\n",
    "Additionally, handling stratified analyses and missing data further complicated the process, making it difficult to produce accurate and publication-ready tables efficiently.\n",
    "\n",
    "\n"
   ]
  },
  {
   "cell_type": "markdown",
   "metadata": {
    "id": "1wlHY0jBsLRd"
   },
   "source": [
    "## How does TableOne Help to Remedy These Problems?\n",
    "\n",
    "The TableOne package aims to address the challenges of creating descriptive statistics tables by providing a streamlined, standardized, and reproducible solution.\n",
    "\n",
    "By automating the calculation and formatting of descriptive statistics for both categorical and continuous variables, TableOne eliminates the need for manual computations and reduces the risk of errors.\n",
    "\n",
    "It simplifies the process of generating \"Table 1\" by seamlessly integrating with Pandas DataFrames, allowing researchers to easily create tables directly from their datasets.\n",
    "\n",
    "The package also supports stratified analyses, enabling users to generate subgroup comparisons effortlessly. Additionally, TableOne handles missing data efficiently and offers customizable output formats, ensuring that the resulting tables are publication-ready.\n",
    "\n",
    "By offering these features, TableOne not only saves time but also enhances the accuracy and consistency of descriptive statistics tables, allowing researchers to focus more on data analysis and interpretation."
   ]
  },
  {
   "cell_type": "markdown",
   "metadata": {
    "id": "F07RY707szUs"
   },
   "source": [
    "## TableOne Installation Walkthrough\n",
    "\n",
    "Let's see how we can use TableOne in real time.\n",
    "\n",
    "First we, start off by importing the necessary Python libraries predominantly found when working with numbers and datasets.\n",
    "\n"
   ]
  },
  {
   "cell_type": "code",
   "execution_count": 1,
   "metadata": {
    "id": "r5yiszdtfGJA"
   },
   "outputs": [],
   "source": [
    "# Import numerical libraries\n",
    "import pandas as pd\n",
    "import numpy as np\n",
    "from scipy import stats\n",
    "import matplotlib.pyplot as plt\n",
    "%matplotlib inline"
   ]
  },
  {
   "cell_type": "markdown",
   "metadata": {
    "id": "IjreOH8MuTsY"
   },
   "source": [
    "Next, let's take a look at how we can install the TableOne package in Python.\n",
    "\n",
    "The code block begins by attempting to import the TableOne class and the `load_dataset` function from the TableOne package.\n",
    "\n",
    "If the package is not found, indicated by a `ModuleNotFoundError` or `ImportError`, it assumes that the environment might not have TableOne installed.\n",
    "\n",
    "In such a case, the code executes a command to install the TableOne package using pip. This installation command is tailored for environments like Google Colab, where direct shell commands can be executed from within a Python script.\n",
    "\n",
    "After the installation process, the code retries the import statements for TableOne and `load_dataset`. This ensures that the necessary components from the TableOne package are available for subsequent use, regardless of whether they were initially installed."
   ]
  },
  {
   "cell_type": "code",
   "execution_count": 3,
   "metadata": {
    "id": "y0b7Kro5hEId"
   },
   "outputs": [],
   "source": [
    "# Import tableone\n",
    "try:\n",
    "    from tableone import TableOne, load_dataset\n",
    "except (ModuleNotFoundError, ImportError):\n",
    "    # install \n",
    "    !pip install tableone\n",
    "    from tableone import TableOne, load_dataset"
   ]
  },
  {
   "cell_type": "markdown",
   "metadata": {
    "id": "7LOupEuCliTp"
   },
   "source": [
    "## Loading in Our Data"
   ]
  },
  {
   "cell_type": "markdown",
   "metadata": {
    "id": "8KO1gCE80fVk"
   },
   "source": [
    "Next, we bring in a CSV file named 'demo_original.csv' from the 'sample_data' directory within Google Collab into a Pandas DataFrame called `data`.\n",
    "\n",
    "Afterward, we display the first five rows of the DataFrame using the `head()` method to provide a quick preview of the dataset."
   ]
  },
  {
   "cell_type": "code",
   "execution_count": 5,
   "metadata": {
    "colab": {
     "base_uri": "https://localhost:8080/",
     "height": 603
    },
    "executionInfo": {
     "elapsed": 11,
     "status": "ok",
     "timestamp": 1722464874581,
     "user": {
      "displayName": "Eric Li",
      "userId": "13636052086902037493"
     },
     "user_tz": 240
    },
    "id": "yR8lyIwahLgW",
    "outputId": "1034f083-4d11-430f-e7cc-c579955ad323"
   },
   "outputs": [
    {
     "data": {
      "text/html": [
       "<div>\n",
       "<style scoped>\n",
       "    .dataframe tbody tr th:only-of-type {\n",
       "        vertical-align: middle;\n",
       "    }\n",
       "\n",
       "    .dataframe tbody tr th {\n",
       "        vertical-align: top;\n",
       "    }\n",
       "\n",
       "    .dataframe thead th {\n",
       "        text-align: right;\n",
       "    }\n",
       "</style>\n",
       "<table border=\"1\" class=\"dataframe\">\n",
       "  <thead>\n",
       "    <tr style=\"text-align: right;\">\n",
       "      <th></th>\n",
       "      <th>Unnamed: 0</th>\n",
       "      <th>SEQN</th>\n",
       "      <th>SDDSRVYR</th>\n",
       "      <th>RIDSTATR</th>\n",
       "      <th>RIAGENDR</th>\n",
       "      <th>RIDAGEYR</th>\n",
       "      <th>RIDAGEMN</th>\n",
       "      <th>RIDRETH1</th>\n",
       "      <th>RIDRETH3</th>\n",
       "      <th>RIDEXMON</th>\n",
       "      <th>...</th>\n",
       "      <th>DMDHREDU</th>\n",
       "      <th>DMDHRMAR</th>\n",
       "      <th>DMDHSEDU</th>\n",
       "      <th>WTINT2YR</th>\n",
       "      <th>WTMEC2YR</th>\n",
       "      <th>SDMVPSU</th>\n",
       "      <th>SDMVSTRA</th>\n",
       "      <th>INDHHIN2</th>\n",
       "      <th>INDFMIN2</th>\n",
       "      <th>INDFMPIR</th>\n",
       "    </tr>\n",
       "  </thead>\n",
       "  <tbody>\n",
       "    <tr>\n",
       "      <th>0</th>\n",
       "      <td>1</td>\n",
       "      <td>73557</td>\n",
       "      <td>8</td>\n",
       "      <td>Both interviewed and MEC examined</td>\n",
       "      <td>Male</td>\n",
       "      <td>69</td>\n",
       "      <td>NaN</td>\n",
       "      <td>Non-Hispanic Black</td>\n",
       "      <td>Non-Hispanic Black</td>\n",
       "      <td>November 1 through April 30</td>\n",
       "      <td>...</td>\n",
       "      <td>High School Grad/GED or Equivalent</td>\n",
       "      <td>Separated</td>\n",
       "      <td>NaN</td>\n",
       "      <td>13281.237386</td>\n",
       "      <td>13481.042095</td>\n",
       "      <td>1</td>\n",
       "      <td>112</td>\n",
       "      <td>$15,000 to $19,999</td>\n",
       "      <td>$15,000 to $19,999</td>\n",
       "      <td>0.84</td>\n",
       "    </tr>\n",
       "    <tr>\n",
       "      <th>1</th>\n",
       "      <td>2</td>\n",
       "      <td>73558</td>\n",
       "      <td>8</td>\n",
       "      <td>Both interviewed and MEC examined</td>\n",
       "      <td>Male</td>\n",
       "      <td>54</td>\n",
       "      <td>NaN</td>\n",
       "      <td>Non-Hispanic White</td>\n",
       "      <td>Non-Hispanic White</td>\n",
       "      <td>November 1 through April 30</td>\n",
       "      <td>...</td>\n",
       "      <td>High School Grad/GED or Equivalent</td>\n",
       "      <td>Married</td>\n",
       "      <td>Less Than 9th Grade</td>\n",
       "      <td>23682.057386</td>\n",
       "      <td>24471.769625</td>\n",
       "      <td>1</td>\n",
       "      <td>108</td>\n",
       "      <td>$35,000 to $44,999</td>\n",
       "      <td>$35,000 to $44,999</td>\n",
       "      <td>1.78</td>\n",
       "    </tr>\n",
       "    <tr>\n",
       "      <th>2</th>\n",
       "      <td>3</td>\n",
       "      <td>73559</td>\n",
       "      <td>8</td>\n",
       "      <td>Both interviewed and MEC examined</td>\n",
       "      <td>Male</td>\n",
       "      <td>72</td>\n",
       "      <td>NaN</td>\n",
       "      <td>Non-Hispanic White</td>\n",
       "      <td>Non-Hispanic White</td>\n",
       "      <td>May 1 through October 31</td>\n",
       "      <td>...</td>\n",
       "      <td>Some College or AA degree</td>\n",
       "      <td>Married</td>\n",
       "      <td>High School Grad/GED or Equivalent</td>\n",
       "      <td>57214.803319</td>\n",
       "      <td>57193.285376</td>\n",
       "      <td>1</td>\n",
       "      <td>109</td>\n",
       "      <td>$65,000 to $74,999</td>\n",
       "      <td>$65,000 to $74,999</td>\n",
       "      <td>4.51</td>\n",
       "    </tr>\n",
       "    <tr>\n",
       "      <th>3</th>\n",
       "      <td>4</td>\n",
       "      <td>73560</td>\n",
       "      <td>8</td>\n",
       "      <td>Both interviewed and MEC examined</td>\n",
       "      <td>Male</td>\n",
       "      <td>9</td>\n",
       "      <td>NaN</td>\n",
       "      <td>Non-Hispanic White</td>\n",
       "      <td>Non-Hispanic White</td>\n",
       "      <td>November 1 through April 30</td>\n",
       "      <td>...</td>\n",
       "      <td>High School Grad/GED or Equivalent</td>\n",
       "      <td>Married</td>\n",
       "      <td>Some College or AA degree</td>\n",
       "      <td>55201.178592</td>\n",
       "      <td>55766.512438</td>\n",
       "      <td>2</td>\n",
       "      <td>109</td>\n",
       "      <td>$55,000 to $64,999</td>\n",
       "      <td>$55,000 to $64,999</td>\n",
       "      <td>2.52</td>\n",
       "    </tr>\n",
       "    <tr>\n",
       "      <th>4</th>\n",
       "      <td>5</td>\n",
       "      <td>73561</td>\n",
       "      <td>8</td>\n",
       "      <td>Both interviewed and MEC examined</td>\n",
       "      <td>Female</td>\n",
       "      <td>73</td>\n",
       "      <td>NaN</td>\n",
       "      <td>Non-Hispanic White</td>\n",
       "      <td>Non-Hispanic White</td>\n",
       "      <td>November 1 through April 30</td>\n",
       "      <td>...</td>\n",
       "      <td>College Graduate or above</td>\n",
       "      <td>Married</td>\n",
       "      <td>College Graduate or above</td>\n",
       "      <td>63709.667069</td>\n",
       "      <td>65541.871229</td>\n",
       "      <td>2</td>\n",
       "      <td>116</td>\n",
       "      <td>$100,000 and Over</td>\n",
       "      <td>$100,000 and Over</td>\n",
       "      <td>5.00</td>\n",
       "    </tr>\n",
       "  </tbody>\n",
       "</table>\n",
       "<p>5 rows × 48 columns</p>\n",
       "</div>"
      ],
      "text/plain": [
       "   Unnamed: 0   SEQN  SDDSRVYR                           RIDSTATR RIAGENDR  \\\n",
       "0           1  73557         8  Both interviewed and MEC examined     Male   \n",
       "1           2  73558         8  Both interviewed and MEC examined     Male   \n",
       "2           3  73559         8  Both interviewed and MEC examined     Male   \n",
       "3           4  73560         8  Both interviewed and MEC examined     Male   \n",
       "4           5  73561         8  Both interviewed and MEC examined   Female   \n",
       "\n",
       "   RIDAGEYR  RIDAGEMN            RIDRETH1            RIDRETH3  \\\n",
       "0        69       NaN  Non-Hispanic Black  Non-Hispanic Black   \n",
       "1        54       NaN  Non-Hispanic White  Non-Hispanic White   \n",
       "2        72       NaN  Non-Hispanic White  Non-Hispanic White   \n",
       "3         9       NaN  Non-Hispanic White  Non-Hispanic White   \n",
       "4        73       NaN  Non-Hispanic White  Non-Hispanic White   \n",
       "\n",
       "                      RIDEXMON  ...                            DMDHREDU  \\\n",
       "0  November 1 through April 30  ...  High School Grad/GED or Equivalent   \n",
       "1  November 1 through April 30  ...  High School Grad/GED or Equivalent   \n",
       "2     May 1 through October 31  ...           Some College or AA degree   \n",
       "3  November 1 through April 30  ...  High School Grad/GED or Equivalent   \n",
       "4  November 1 through April 30  ...           College Graduate or above   \n",
       "\n",
       "    DMDHRMAR                            DMDHSEDU      WTINT2YR      WTMEC2YR  \\\n",
       "0  Separated                                 NaN  13281.237386  13481.042095   \n",
       "1    Married                 Less Than 9th Grade  23682.057386  24471.769625   \n",
       "2    Married  High School Grad/GED or Equivalent  57214.803319  57193.285376   \n",
       "3    Married           Some College or AA degree  55201.178592  55766.512438   \n",
       "4    Married           College Graduate or above  63709.667069  65541.871229   \n",
       "\n",
       "  SDMVPSU SDMVSTRA            INDHHIN2            INDFMIN2 INDFMPIR  \n",
       "0       1      112  $15,000 to $19,999  $15,000 to $19,999     0.84  \n",
       "1       1      108  $35,000 to $44,999  $35,000 to $44,999     1.78  \n",
       "2       1      109  $65,000 to $74,999  $65,000 to $74,999     4.51  \n",
       "3       2      109  $55,000 to $64,999  $55,000 to $64,999     2.52  \n",
       "4       2      116   $100,000 and Over   $100,000 and Over     5.00  \n",
       "\n",
       "[5 rows x 48 columns]"
      ]
     },
     "execution_count": 5,
     "metadata": {},
     "output_type": "execute_result"
    }
   ],
   "source": [
    "data = pd.read_csv('https://raw.githubusercontent.com/EricLi35/RHC-Dataset/main/demo_original.csv')\n",
    "data.head()"
   ]
  },
  {
   "cell_type": "markdown",
   "metadata": {
    "id": "bcYAbDVXlkjP"
   },
   "source": [
    "## Extracting Only the Columns that We Want"
   ]
  },
  {
   "cell_type": "markdown",
   "metadata": {
    "id": "KekBO4JujnBF"
   },
   "source": [
    "You can see that a lot of data is being outputted. As a matter of fact, there are 48 columns, which is quite a lot.\n",
    "\n",
    "Let's shrink this amount by taking only 4 columns that we're interested in analyzing so far."
   ]
  },
  {
   "cell_type": "code",
   "execution_count": 6,
   "metadata": {
    "colab": {
     "base_uri": "https://localhost:8080/",
     "height": 206
    },
    "executionInfo": {
     "elapsed": 10,
     "status": "ok",
     "timestamp": 1722464874581,
     "user": {
      "displayName": "Eric Li",
      "userId": "13636052086902037493"
     },
     "user_tz": 240
    },
    "id": "oh-vlwbIhVmB",
    "outputId": "f014c165-ebd8-47a5-b1d3-e1862679be43"
   },
   "outputs": [
    {
     "data": {
      "text/html": [
       "<div>\n",
       "<style scoped>\n",
       "    .dataframe tbody tr th:only-of-type {\n",
       "        vertical-align: middle;\n",
       "    }\n",
       "\n",
       "    .dataframe tbody tr th {\n",
       "        vertical-align: top;\n",
       "    }\n",
       "\n",
       "    .dataframe thead th {\n",
       "        text-align: right;\n",
       "    }\n",
       "</style>\n",
       "<table border=\"1\" class=\"dataframe\">\n",
       "  <thead>\n",
       "    <tr style=\"text-align: right;\">\n",
       "      <th></th>\n",
       "      <th>RIAGENDR</th>\n",
       "      <th>RIDAGEYR</th>\n",
       "      <th>RIDRETH3</th>\n",
       "      <th>DMDEDUC2</th>\n",
       "    </tr>\n",
       "  </thead>\n",
       "  <tbody>\n",
       "    <tr>\n",
       "      <th>0</th>\n",
       "      <td>Male</td>\n",
       "      <td>69</td>\n",
       "      <td>Non-Hispanic Black</td>\n",
       "      <td>High school graduate/GED or equivalent</td>\n",
       "    </tr>\n",
       "    <tr>\n",
       "      <th>1</th>\n",
       "      <td>Male</td>\n",
       "      <td>54</td>\n",
       "      <td>Non-Hispanic White</td>\n",
       "      <td>High school graduate/GED or equivalent</td>\n",
       "    </tr>\n",
       "    <tr>\n",
       "      <th>2</th>\n",
       "      <td>Male</td>\n",
       "      <td>72</td>\n",
       "      <td>Non-Hispanic White</td>\n",
       "      <td>Some college or AA degree</td>\n",
       "    </tr>\n",
       "    <tr>\n",
       "      <th>3</th>\n",
       "      <td>Male</td>\n",
       "      <td>9</td>\n",
       "      <td>Non-Hispanic White</td>\n",
       "      <td>NaN</td>\n",
       "    </tr>\n",
       "    <tr>\n",
       "      <th>4</th>\n",
       "      <td>Female</td>\n",
       "      <td>73</td>\n",
       "      <td>Non-Hispanic White</td>\n",
       "      <td>College graduate or above</td>\n",
       "    </tr>\n",
       "  </tbody>\n",
       "</table>\n",
       "</div>"
      ],
      "text/plain": [
       "  RIAGENDR  RIDAGEYR            RIDRETH3  \\\n",
       "0     Male        69  Non-Hispanic Black   \n",
       "1     Male        54  Non-Hispanic White   \n",
       "2     Male        72  Non-Hispanic White   \n",
       "3     Male         9  Non-Hispanic White   \n",
       "4   Female        73  Non-Hispanic White   \n",
       "\n",
       "                                 DMDEDUC2  \n",
       "0  High school graduate/GED or equivalent  \n",
       "1  High school graduate/GED or equivalent  \n",
       "2               Some college or AA degree  \n",
       "3                                     NaN  \n",
       "4               College graduate or above  "
      ]
     },
     "execution_count": 6,
     "metadata": {},
     "output_type": "execute_result"
    }
   ],
   "source": [
    "data = data.loc[:, ['RIAGENDR', 'RIDAGEYR', 'RIDRETH3', 'DMDEDUC2']]\n",
    "data.head()"
   ]
  },
  {
   "cell_type": "markdown",
   "metadata": {
    "id": "jJgSVWi6lt0c"
   },
   "source": [
    "## Applying the TableOne() Function"
   ]
  },
  {
   "cell_type": "markdown",
   "metadata": {
    "id": "UnCrMUCykj7P"
   },
   "source": [
    "Now that we have reduced the dimensionality of our data to only 4 columns, we can begin experimenting with the `TableOne()` function.\n",
    "\n",
    "As a refresher, the `TableOne()` method generates a comprehensive summary table of descriptive statistics for a given dataset.\n",
    "\n",
    "This method simplifies the process of creating tables by automating the calculation and formatting statistical summary values, such as means, medians, standard deviations, and proportions."
   ]
  },
  {
   "cell_type": "code",
   "execution_count": 7,
   "metadata": {
    "colab": {
     "base_uri": "https://localhost:8080/",
     "height": 631
    },
    "executionInfo": {
     "elapsed": 329,
     "status": "ok",
     "timestamp": 1722464874901,
     "user": {
      "displayName": "Eric Li",
      "userId": "13636052086902037493"
     },
     "user_tz": 240
    },
    "id": "sKmyCS77h-H2",
    "outputId": "7be61661-f837-4551-f4fa-1cb13a4c584d"
   },
   "outputs": [
    {
     "data": {
      "text/html": [
       "<div>\n",
       "<style scoped>\n",
       "    .dataframe tbody tr th:only-of-type {\n",
       "        vertical-align: middle;\n",
       "    }\n",
       "\n",
       "    .dataframe tbody tr th {\n",
       "        vertical-align: top;\n",
       "    }\n",
       "\n",
       "    .dataframe thead th {\n",
       "        text-align: right;\n",
       "    }\n",
       "</style>\n",
       "<table border=\"1\" class=\"dataframe\">\n",
       "  <thead>\n",
       "    <tr style=\"text-align: right;\">\n",
       "      <th></th>\n",
       "      <th></th>\n",
       "      <th>Missing</th>\n",
       "      <th>Overall</th>\n",
       "    </tr>\n",
       "  </thead>\n",
       "  <tbody>\n",
       "    <tr>\n",
       "      <th>n</th>\n",
       "      <th></th>\n",
       "      <td></td>\n",
       "      <td>10175</td>\n",
       "    </tr>\n",
       "    <tr>\n",
       "      <th rowspan=\"2\" valign=\"top\">RIAGENDR, n (%)</th>\n",
       "      <th>Female</th>\n",
       "      <td></td>\n",
       "      <td>5172 (50.8)</td>\n",
       "    </tr>\n",
       "    <tr>\n",
       "      <th>Male</th>\n",
       "      <td></td>\n",
       "      <td>5003 (49.2)</td>\n",
       "    </tr>\n",
       "    <tr>\n",
       "      <th>RIDAGEYR, mean (SD)</th>\n",
       "      <th></th>\n",
       "      <td>0</td>\n",
       "      <td>31.5 (24.4)</td>\n",
       "    </tr>\n",
       "    <tr>\n",
       "      <th rowspan=\"6\" valign=\"top\">RIDRETH3, n (%)</th>\n",
       "      <th>Mexican American</th>\n",
       "      <td></td>\n",
       "      <td>1730 (17.0)</td>\n",
       "    </tr>\n",
       "    <tr>\n",
       "      <th>Non-Hispanic Asian</th>\n",
       "      <td></td>\n",
       "      <td>1074 (10.6)</td>\n",
       "    </tr>\n",
       "    <tr>\n",
       "      <th>Non-Hispanic Black</th>\n",
       "      <td></td>\n",
       "      <td>2267 (22.3)</td>\n",
       "    </tr>\n",
       "    <tr>\n",
       "      <th>Non-Hispanic White</th>\n",
       "      <td></td>\n",
       "      <td>3674 (36.1)</td>\n",
       "    </tr>\n",
       "    <tr>\n",
       "      <th>Other Hispanic</th>\n",
       "      <td></td>\n",
       "      <td>960 (9.4)</td>\n",
       "    </tr>\n",
       "    <tr>\n",
       "      <th>Other Race - Including Multi-Racial</th>\n",
       "      <td></td>\n",
       "      <td>470 (4.6)</td>\n",
       "    </tr>\n",
       "    <tr>\n",
       "      <th rowspan=\"8\" valign=\"top\">DMDEDUC2, n (%)</th>\n",
       "      <th>9-11th grade (Includes 12th grade with no diploma)</th>\n",
       "      <td></td>\n",
       "      <td>791 (7.8)</td>\n",
       "    </tr>\n",
       "    <tr>\n",
       "      <th>College graduate or above</th>\n",
       "      <td></td>\n",
       "      <td>1443 (14.2)</td>\n",
       "    </tr>\n",
       "    <tr>\n",
       "      <th>Don't Know</th>\n",
       "      <td></td>\n",
       "      <td>5 (0.0)</td>\n",
       "    </tr>\n",
       "    <tr>\n",
       "      <th>High school graduate/GED or equivalent</th>\n",
       "      <td></td>\n",
       "      <td>1303 (12.8)</td>\n",
       "    </tr>\n",
       "    <tr>\n",
       "      <th>Less than 9th grade</th>\n",
       "      <td></td>\n",
       "      <td>455 (4.5)</td>\n",
       "    </tr>\n",
       "    <tr>\n",
       "      <th>None</th>\n",
       "      <td></td>\n",
       "      <td>4406 (43.3)</td>\n",
       "    </tr>\n",
       "    <tr>\n",
       "      <th>Refused</th>\n",
       "      <td></td>\n",
       "      <td>2 (0.0)</td>\n",
       "    </tr>\n",
       "    <tr>\n",
       "      <th>Some college or AA degree</th>\n",
       "      <td></td>\n",
       "      <td>1770 (17.4)</td>\n",
       "    </tr>\n",
       "  </tbody>\n",
       "</table>\n",
       "</div><br />"
      ],
      "text/plain": [
       "                                                                       Missing      Overall\n",
       "n                                                                                     10175\n",
       "RIAGENDR, n (%)     Female                                                      5172 (50.8)\n",
       "                    Male                                                        5003 (49.2)\n",
       "RIDAGEYR, mean (SD)                                                          0  31.5 (24.4)\n",
       "RIDRETH3, n (%)     Mexican American                                            1730 (17.0)\n",
       "                    Non-Hispanic Asian                                          1074 (10.6)\n",
       "                    Non-Hispanic Black                                          2267 (22.3)\n",
       "                    Non-Hispanic White                                          3674 (36.1)\n",
       "                    Other Hispanic                                                960 (9.4)\n",
       "                    Other Race - Including Multi-Racial                           470 (4.6)\n",
       "DMDEDUC2, n (%)     9-11th grade (Includes 12th grade with no diploma)            791 (7.8)\n",
       "                    College graduate or above                                   1443 (14.2)\n",
       "                    Don't Know                                                      5 (0.0)\n",
       "                    High school graduate/GED or equivalent                      1303 (12.8)\n",
       "                    Less than 9th grade                                           455 (4.5)\n",
       "                    None                                                        4406 (43.3)\n",
       "                    Refused                                                         2 (0.0)\n",
       "                    Some college or AA degree                                   1770 (17.4)"
      ]
     },
     "execution_count": 7,
     "metadata": {},
     "output_type": "execute_result"
    }
   ],
   "source": [
    "TableOne(data)"
   ]
  },
  {
   "cell_type": "markdown",
   "metadata": {
    "id": "N_zOjR3ulxzy"
   },
   "source": [
    "Let's closely examine and break down what kind of information the `TableOne()` method is telling us.\n",
    "\n",
    "We see a summary table generated by the `TableOne` package, which provides descriptive statistics for our dataset. The table is organized into rows and columns, with each row representing a different variable or category and each column showing statistical summaries.\n",
    "\n",
    "Key elements of the table include:\n",
    "\n",
    "1. **n (Overall Count)**: The total number of observations in the dataset is 10,175.\n",
    "2. **RIAGENDR (Gender)**: This categorical variable shows the distribution of gender in the dataset, with 5,172 females (50.8%) and 5,003 males (49.2%).\n",
    "3. **RIDAGEYR (Age)**: This continuous variable presents the mean age (31.5 years) and standard deviation (24.4 years) of the participants, with no missing values.\n",
    "4. **RIDRETH3 (Race/Ethnicity)**: This categorical variable details the racial and ethnic composition of the participants, with proportions such as 17.0% Mexican American, 10.6% Non-Hispanic Asian, and 36.1% Non-Hispanic White.\n",
    "5. **DMDEDUC2 (Education Level)**: This categorical variable shows the highest education level attained by participants, including categories like high school graduate (12.8%), college graduate or above (14.2%), and some college or AA degree (17.4%).\n",
    "\n",
    "The \"Missing\" column indicates the count of missing data for each variable, which is zero for the variables shown. The table provides a clear overview of the demographic and educational characteristics of the study population."
   ]
  },
  {
   "cell_type": "markdown",
   "metadata": {
    "id": "Yg2os1hamVKE"
   },
   "source": [
    "## Renaming Column Headers\n",
    "\n",
    "Right now, the name of our columns isn't very useful.\n",
    "\n",
    "Column headers such as RIAGENDR, RIDAGEYR, etc are not very descriptive, and don't give the reader an immediate idea of what kind of data the column contains.\n",
    "\n",
    "Let's rename these columns to something a bit more appropriate and accurate.\n",
    "\n",
    "We can do so by passing in a list of strings to `data.columns`, and this list will represent the renamed column headers in our dataframe."
   ]
  },
  {
   "cell_type": "code",
   "execution_count": 8,
   "metadata": {
    "colab": {
     "base_uri": "https://localhost:8080/",
     "height": 206
    },
    "executionInfo": {
     "elapsed": 15,
     "status": "ok",
     "timestamp": 1722464874901,
     "user": {
      "displayName": "Eric Li",
      "userId": "13636052086902037493"
     },
     "user_tz": 240
    },
    "id": "mYajOy3Pj1iw",
    "outputId": "6a013997-6355-42ae-970d-80e29397c926"
   },
   "outputs": [
    {
     "data": {
      "text/html": [
       "<div>\n",
       "<style scoped>\n",
       "    .dataframe tbody tr th:only-of-type {\n",
       "        vertical-align: middle;\n",
       "    }\n",
       "\n",
       "    .dataframe tbody tr th {\n",
       "        vertical-align: top;\n",
       "    }\n",
       "\n",
       "    .dataframe thead th {\n",
       "        text-align: right;\n",
       "    }\n",
       "</style>\n",
       "<table border=\"1\" class=\"dataframe\">\n",
       "  <thead>\n",
       "    <tr style=\"text-align: right;\">\n",
       "      <th></th>\n",
       "      <th>Gender</th>\n",
       "      <th>Age</th>\n",
       "      <th>Race</th>\n",
       "      <th>Education</th>\n",
       "    </tr>\n",
       "  </thead>\n",
       "  <tbody>\n",
       "    <tr>\n",
       "      <th>0</th>\n",
       "      <td>Male</td>\n",
       "      <td>69</td>\n",
       "      <td>Non-Hispanic Black</td>\n",
       "      <td>High school graduate/GED or equivalent</td>\n",
       "    </tr>\n",
       "    <tr>\n",
       "      <th>1</th>\n",
       "      <td>Male</td>\n",
       "      <td>54</td>\n",
       "      <td>Non-Hispanic White</td>\n",
       "      <td>High school graduate/GED or equivalent</td>\n",
       "    </tr>\n",
       "    <tr>\n",
       "      <th>2</th>\n",
       "      <td>Male</td>\n",
       "      <td>72</td>\n",
       "      <td>Non-Hispanic White</td>\n",
       "      <td>Some college or AA degree</td>\n",
       "    </tr>\n",
       "    <tr>\n",
       "      <th>3</th>\n",
       "      <td>Male</td>\n",
       "      <td>9</td>\n",
       "      <td>Non-Hispanic White</td>\n",
       "      <td>None</td>\n",
       "    </tr>\n",
       "    <tr>\n",
       "      <th>4</th>\n",
       "      <td>Female</td>\n",
       "      <td>73</td>\n",
       "      <td>Non-Hispanic White</td>\n",
       "      <td>College graduate or above</td>\n",
       "    </tr>\n",
       "  </tbody>\n",
       "</table>\n",
       "</div>"
      ],
      "text/plain": [
       "   Gender  Age                Race                               Education\n",
       "0    Male   69  Non-Hispanic Black  High school graduate/GED or equivalent\n",
       "1    Male   54  Non-Hispanic White  High school graduate/GED or equivalent\n",
       "2    Male   72  Non-Hispanic White               Some college or AA degree\n",
       "3    Male    9  Non-Hispanic White                                    None\n",
       "4  Female   73  Non-Hispanic White               College graduate or above"
      ]
     },
     "execution_count": 8,
     "metadata": {},
     "output_type": "execute_result"
    }
   ],
   "source": [
    "data.columns = [\"Gender\", \"Age\", \"Race\", \"Education\"]\n",
    "\n",
    "data.head()"
   ]
  },
  {
   "cell_type": "markdown",
   "metadata": {
    "id": "WRwX5URXnRjG"
   },
   "source": [
    "## Running TableOne() Again\n",
    "\n",
    "If we were to run `TableOne()` again, but this time on our data with renamed column headers, let's see what changes.\n",
    "\n",
    "Note that I have also just assigned the `TableOne()` object to a variable called `tab_nhanes`. This variable representation will come into play later."
   ]
  },
  {
   "cell_type": "code",
   "execution_count": 9,
   "metadata": {
    "colab": {
     "base_uri": "https://localhost:8080/",
     "height": 631
    },
    "executionInfo": {
     "elapsed": 14,
     "status": "ok",
     "timestamp": 1722464874901,
     "user": {
      "displayName": "Eric Li",
      "userId": "13636052086902037493"
     },
     "user_tz": 240
    },
    "id": "uAt0Ushbl1ww",
    "outputId": "adfec061-53ae-4134-fe21-b7bbb05153eb"
   },
   "outputs": [
    {
     "data": {
      "text/html": [
       "<div>\n",
       "<style scoped>\n",
       "    .dataframe tbody tr th:only-of-type {\n",
       "        vertical-align: middle;\n",
       "    }\n",
       "\n",
       "    .dataframe tbody tr th {\n",
       "        vertical-align: top;\n",
       "    }\n",
       "\n",
       "    .dataframe thead th {\n",
       "        text-align: right;\n",
       "    }\n",
       "</style>\n",
       "<table border=\"1\" class=\"dataframe\">\n",
       "  <thead>\n",
       "    <tr style=\"text-align: right;\">\n",
       "      <th></th>\n",
       "      <th></th>\n",
       "      <th>Missing</th>\n",
       "      <th>Overall</th>\n",
       "    </tr>\n",
       "  </thead>\n",
       "  <tbody>\n",
       "    <tr>\n",
       "      <th>n</th>\n",
       "      <th></th>\n",
       "      <td></td>\n",
       "      <td>10175</td>\n",
       "    </tr>\n",
       "    <tr>\n",
       "      <th rowspan=\"2\" valign=\"top\">Gender, n (%)</th>\n",
       "      <th>Female</th>\n",
       "      <td></td>\n",
       "      <td>5172 (50.8)</td>\n",
       "    </tr>\n",
       "    <tr>\n",
       "      <th>Male</th>\n",
       "      <td></td>\n",
       "      <td>5003 (49.2)</td>\n",
       "    </tr>\n",
       "    <tr>\n",
       "      <th>Age, mean (SD)</th>\n",
       "      <th></th>\n",
       "      <td>0</td>\n",
       "      <td>31.5 (24.4)</td>\n",
       "    </tr>\n",
       "    <tr>\n",
       "      <th rowspan=\"6\" valign=\"top\">Race, n (%)</th>\n",
       "      <th>Mexican American</th>\n",
       "      <td></td>\n",
       "      <td>1730 (17.0)</td>\n",
       "    </tr>\n",
       "    <tr>\n",
       "      <th>Non-Hispanic Asian</th>\n",
       "      <td></td>\n",
       "      <td>1074 (10.6)</td>\n",
       "    </tr>\n",
       "    <tr>\n",
       "      <th>Non-Hispanic Black</th>\n",
       "      <td></td>\n",
       "      <td>2267 (22.3)</td>\n",
       "    </tr>\n",
       "    <tr>\n",
       "      <th>Non-Hispanic White</th>\n",
       "      <td></td>\n",
       "      <td>3674 (36.1)</td>\n",
       "    </tr>\n",
       "    <tr>\n",
       "      <th>Other Hispanic</th>\n",
       "      <td></td>\n",
       "      <td>960 (9.4)</td>\n",
       "    </tr>\n",
       "    <tr>\n",
       "      <th>Other Race - Including Multi-Racial</th>\n",
       "      <td></td>\n",
       "      <td>470 (4.6)</td>\n",
       "    </tr>\n",
       "    <tr>\n",
       "      <th rowspan=\"8\" valign=\"top\">Education, n (%)</th>\n",
       "      <th>9-11th grade (Includes 12th grade with no diploma)</th>\n",
       "      <td></td>\n",
       "      <td>791 (7.8)</td>\n",
       "    </tr>\n",
       "    <tr>\n",
       "      <th>College graduate or above</th>\n",
       "      <td></td>\n",
       "      <td>1443 (14.2)</td>\n",
       "    </tr>\n",
       "    <tr>\n",
       "      <th>Don't Know</th>\n",
       "      <td></td>\n",
       "      <td>5 (0.0)</td>\n",
       "    </tr>\n",
       "    <tr>\n",
       "      <th>High school graduate/GED or equivalent</th>\n",
       "      <td></td>\n",
       "      <td>1303 (12.8)</td>\n",
       "    </tr>\n",
       "    <tr>\n",
       "      <th>Less than 9th grade</th>\n",
       "      <td></td>\n",
       "      <td>455 (4.5)</td>\n",
       "    </tr>\n",
       "    <tr>\n",
       "      <th>None</th>\n",
       "      <td></td>\n",
       "      <td>4406 (43.3)</td>\n",
       "    </tr>\n",
       "    <tr>\n",
       "      <th>Refused</th>\n",
       "      <td></td>\n",
       "      <td>2 (0.0)</td>\n",
       "    </tr>\n",
       "    <tr>\n",
       "      <th>Some college or AA degree</th>\n",
       "      <td></td>\n",
       "      <td>1770 (17.4)</td>\n",
       "    </tr>\n",
       "  </tbody>\n",
       "</table>\n",
       "</div><br />"
      ],
      "text/plain": [
       "                                                                    Missing      Overall\n",
       "n                                                                                  10175\n",
       "Gender, n (%)    Female                                                      5172 (50.8)\n",
       "                 Male                                                        5003 (49.2)\n",
       "Age, mean (SD)                                                            0  31.5 (24.4)\n",
       "Race, n (%)      Mexican American                                            1730 (17.0)\n",
       "                 Non-Hispanic Asian                                          1074 (10.6)\n",
       "                 Non-Hispanic Black                                          2267 (22.3)\n",
       "                 Non-Hispanic White                                          3674 (36.1)\n",
       "                 Other Hispanic                                                960 (9.4)\n",
       "                 Other Race - Including Multi-Racial                           470 (4.6)\n",
       "Education, n (%) 9-11th grade (Includes 12th grade with no diploma)            791 (7.8)\n",
       "                 College graduate or above                                   1443 (14.2)\n",
       "                 Don't Know                                                      5 (0.0)\n",
       "                 High school graduate/GED or equivalent                      1303 (12.8)\n",
       "                 Less than 9th grade                                           455 (4.5)\n",
       "                 None                                                        4406 (43.3)\n",
       "                 Refused                                                         2 (0.0)\n",
       "                 Some college or AA degree                                   1770 (17.4)"
      ]
     },
     "execution_count": 9,
     "metadata": {},
     "output_type": "execute_result"
    }
   ],
   "source": [
    "tab_nhanes = TableOne(data)\n",
    "\n",
    "tab_nhanes"
   ]
  },
  {
   "cell_type": "markdown",
   "metadata": {
    "id": "JEXJKRm4n-1k"
   },
   "source": [
    "You can see that majority of our table remains the same, however on the very left hand side of the table, we have much more informative table names, compared to the initial table we created.\n",
    "\n",
    "Interpreting a statistics summary table such as this one is much easier than the one we first created."
   ]
  },
  {
   "cell_type": "markdown",
   "metadata": {
    "id": "vu9ZLZpMoto8"
   },
   "source": [
    "## Exporting to Different Output Formats\n",
    "\n",
    "Tables created with the `TableOne` package can be easily exported to various file formats, such as LaTeX, CSV, and HTML. To save the table, users have two primary options.\n",
    "\n",
    "The first option is to use the `tabulate` method to print and manually copy the table.\n",
    "\n",
    "The second option is to call the relevant `to_<format>()` method directly on the DataFrame to save the table in the desired format.\n",
    "\n",
    "This flexibility allows for seamless integration of the tables into different types of documents and presentations."
   ]
  },
  {
   "cell_type": "markdown",
   "metadata": {
    "id": "u2qQkagLzNab"
   },
   "source": [
    "### The First Method\n",
    "\n",
    "Let's start off by taking a look at the first method.\n",
    "\n",
    "The `tableone` object features a `tabulate` method that leverages the [tabulate](https://pypi.org/project/tabulate/) package to display tables in various custom output formats.\n",
    "\n",
    "Supported formats include \"github\", \"html\", \"latex\", and many more.\n",
    "\n",
    "To export your table in LaTeX, simply use the `tabulate` method and copy the generated output onto [Overleaf.com](https://www.overleaf.com/)"
   ]
  },
  {
   "cell_type": "code",
   "execution_count": 10,
   "metadata": {
    "colab": {
     "base_uri": "https://localhost:8080/"
    },
    "executionInfo": {
     "elapsed": 13,
     "status": "ok",
     "timestamp": 1722464874901,
     "user": {
      "displayName": "Eric Li",
      "userId": "13636052086902037493"
     },
     "user_tz": 240
    },
    "id": "pkd_NqyboVMi",
    "outputId": "1a538db2-1962-49c4-a4a1-1e667d328a0b"
   },
   "outputs": [
    {
     "name": "stdout",
     "output_type": "stream",
     "text": [
      "\\begin{tabular}{llll}\n",
      "\\hline\n",
      "                  &                                                    & Missing   & Overall     \\\\\n",
      "\\hline\n",
      " n                &                                                    &           & 10175       \\\\\n",
      " Gender, n (\\%)    & Female                                             &           & 5172 (50.8) \\\\\n",
      "                  & Male                                               &           & 5003 (49.2) \\\\\n",
      " Age, mean (SD)   &                                                    & 0         & 31.5 (24.4) \\\\\n",
      " Race, n (\\%)      & Mexican American                                   &           & 1730 (17.0) \\\\\n",
      "                  & Non-Hispanic Asian                                 &           & 1074 (10.6) \\\\\n",
      "                  & Non-Hispanic Black                                 &           & 2267 (22.3) \\\\\n",
      "                  & Non-Hispanic White                                 &           & 3674 (36.1) \\\\\n",
      "                  & Other Hispanic                                     &           & 960 (9.4)   \\\\\n",
      "                  & Other Race - Including Multi-Racial                &           & 470 (4.6)   \\\\\n",
      " Education, n (\\%) & 9-11th grade (Includes 12th grade with no diploma) &           & 791 (7.8)   \\\\\n",
      "                  & College graduate or above                          &           & 1443 (14.2) \\\\\n",
      "                  & Don't Know                                         &           & 5 (0.0)     \\\\\n",
      "                  & High school graduate/GED or equivalent             &           & 1303 (12.8) \\\\\n",
      "                  & Less than 9th grade                                &           & 455 (4.5)   \\\\\n",
      "                  & None                                               &           & 4406 (43.3) \\\\\n",
      "                  & Refused                                            &           & 2 (0.0)     \\\\\n",
      "                  & Some college or AA degree                          &           & 1770 (17.4) \\\\\n",
      "\\hline\n",
      "\\end{tabular}\n"
     ]
    }
   ],
   "source": [
    "print(tab_nhanes.tabulate(tablefmt = \"latex\"))"
   ]
  },
  {
   "cell_type": "markdown",
   "metadata": {
    "id": "7eHo3AP91KSB"
   },
   "source": [
    "Now, we take this output and copy paste it into Overleaf."
   ]
  },
  {
   "cell_type": "markdown",
   "metadata": {
    "id": "533rsGC408ZW"
   },
   "source": [
    "![left.png](data:image/png;base64,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)\n"
   ]
  },
  {
   "cell_type": "markdown",
   "metadata": {
    "id": "gFZpGrur1TwU"
   },
   "source": [
    "The final table looks like the following:\n",
    "\n",
    "![right.png](data:image/png;base64,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)"
   ]
  },
  {
   "cell_type": "markdown",
   "metadata": {
    "id": "ULzwQVFB1bFE"
   },
   "source": [
    "We can also save this table in Github format:"
   ]
  },
  {
   "cell_type": "code",
   "execution_count": 11,
   "metadata": {
    "colab": {
     "base_uri": "https://localhost:8080/"
    },
    "executionInfo": {
     "elapsed": 15,
     "status": "ok",
     "timestamp": 1722464875267,
     "user": {
      "displayName": "Eric Li",
      "userId": "13636052086902037493"
     },
     "user_tz": 240
    },
    "id": "QEMICAJWoVSa",
    "outputId": "ef4000b7-1b8a-4925-9d9e-73aaf2daca3f"
   },
   "outputs": [
    {
     "name": "stdout",
     "output_type": "stream",
     "text": [
      "|                  |                                                    | Missing   | Overall     |\n",
      "|------------------|----------------------------------------------------|-----------|-------------|\n",
      "| n                |                                                    |           | 10175       |\n",
      "| Gender, n (%)    | Female                                             |           | 5172 (50.8) |\n",
      "|                  | Male                                               |           | 5003 (49.2) |\n",
      "| Age, mean (SD)   |                                                    | 0         | 31.5 (24.4) |\n",
      "| Race, n (%)      | Mexican American                                   |           | 1730 (17.0) |\n",
      "|                  | Non-Hispanic Asian                                 |           | 1074 (10.6) |\n",
      "|                  | Non-Hispanic Black                                 |           | 2267 (22.3) |\n",
      "|                  | Non-Hispanic White                                 |           | 3674 (36.1) |\n",
      "|                  | Other Hispanic                                     |           | 960 (9.4)   |\n",
      "|                  | Other Race - Including Multi-Racial                |           | 470 (4.6)   |\n",
      "| Education, n (%) | 9-11th grade (Includes 12th grade with no diploma) |           | 791 (7.8)   |\n",
      "|                  | College graduate or above                          |           | 1443 (14.2) |\n",
      "|                  | Don't Know                                         |           | 5 (0.0)     |\n",
      "|                  | High school graduate/GED or equivalent             |           | 1303 (12.8) |\n",
      "|                  | Less than 9th grade                                |           | 455 (4.5)   |\n",
      "|                  | None                                               |           | 4406 (43.3) |\n",
      "|                  | Refused                                            |           | 2 (0.0)     |\n",
      "|                  | Some college or AA degree                          |           | 1770 (17.4) |\n"
     ]
    }
   ],
   "source": [
    "print(tab_nhanes.tabulate(tablefmt = \"github\"))"
   ]
  },
  {
   "cell_type": "markdown",
   "metadata": {
    "id": "cwl3n-BA1ekH"
   },
   "source": [
    "As well as HTML format:"
   ]
  },
  {
   "cell_type": "code",
   "execution_count": 12,
   "metadata": {
    "colab": {
     "base_uri": "https://localhost:8080/"
    },
    "executionInfo": {
     "elapsed": 14,
     "status": "ok",
     "timestamp": 1722464875267,
     "user": {
      "displayName": "Eric Li",
      "userId": "13636052086902037493"
     },
     "user_tz": 240
    },
    "id": "xdkx54EvoVX-",
    "outputId": "60adfdd1-a578-4501-9040-2a27c3ab87c6"
   },
   "outputs": [
    {
     "name": "stdout",
     "output_type": "stream",
     "text": [
      "<table>\n",
      "<thead>\n",
      "<tr><th>                </th><th>                                                  </th><th>Missing  </th><th>Overall    </th></tr>\n",
      "</thead>\n",
      "<tbody>\n",
      "<tr><td>n               </td><td>                                                  </td><td>         </td><td>10175      </td></tr>\n",
      "<tr><td>Gender, n (%)   </td><td>Female                                            </td><td>         </td><td>5172 (50.8)</td></tr>\n",
      "<tr><td>                </td><td>Male                                              </td><td>         </td><td>5003 (49.2)</td></tr>\n",
      "<tr><td>Age, mean (SD)  </td><td>                                                  </td><td>0        </td><td>31.5 (24.4)</td></tr>\n",
      "<tr><td>Race, n (%)     </td><td>Mexican American                                  </td><td>         </td><td>1730 (17.0)</td></tr>\n",
      "<tr><td>                </td><td>Non-Hispanic Asian                                </td><td>         </td><td>1074 (10.6)</td></tr>\n",
      "<tr><td>                </td><td>Non-Hispanic Black                                </td><td>         </td><td>2267 (22.3)</td></tr>\n",
      "<tr><td>                </td><td>Non-Hispanic White                                </td><td>         </td><td>3674 (36.1)</td></tr>\n",
      "<tr><td>                </td><td>Other Hispanic                                    </td><td>         </td><td>960 (9.4)  </td></tr>\n",
      "<tr><td>                </td><td>Other Race - Including Multi-Racial               </td><td>         </td><td>470 (4.6)  </td></tr>\n",
      "<tr><td>Education, n (%)</td><td>9-11th grade (Includes 12th grade with no diploma)</td><td>         </td><td>791 (7.8)  </td></tr>\n",
      "<tr><td>                </td><td>College graduate or above                         </td><td>         </td><td>1443 (14.2)</td></tr>\n",
      "<tr><td>                </td><td>Don&#x27;t Know                                        </td><td>         </td><td>5 (0.0)    </td></tr>\n",
      "<tr><td>                </td><td>High school graduate/GED or equivalent            </td><td>         </td><td>1303 (12.8)</td></tr>\n",
      "<tr><td>                </td><td>Less than 9th grade                               </td><td>         </td><td>455 (4.5)  </td></tr>\n",
      "<tr><td>                </td><td>None                                              </td><td>         </td><td>4406 (43.3)</td></tr>\n",
      "<tr><td>                </td><td>Refused                                           </td><td>         </td><td>2 (0.0)    </td></tr>\n",
      "<tr><td>                </td><td>Some college or AA degree                         </td><td>         </td><td>1770 (17.4)</td></tr>\n",
      "</tbody>\n",
      "</table>\n"
     ]
    }
   ],
   "source": [
    "print(tab_nhanes.tabulate(tablefmt = \"html\"))"
   ]
  },
  {
   "cell_type": "markdown",
   "metadata": {
    "id": "0fF6G3xr13JM"
   },
   "source": [
    "### The Second Method\n",
    "\n",
    "The second method is to call the relevant `to_format()` method from Pandas.\n",
    "\n",
    "For example, if we wanted to save to Latex, we would use `to_latex()`. If we wanted HTML, we would use `to_html()`.\n",
    "\n",
    "Note that if we were to use this second method, it would actually generate a file in our directory, rather than output in which we could copy-paste.\n"
   ]
  },
  {
   "cell_type": "code",
   "execution_count": 13,
   "metadata": {
    "id": "Hi8xq9SD2NvN"
   },
   "outputs": [],
   "source": [
    "tab_nhanes.to_html('tab_nhanes.html')"
   ]
  },
  {
   "cell_type": "code",
   "execution_count": 14,
   "metadata": {
    "id": "xmB-ha6G2vti"
   },
   "outputs": [],
   "source": [
    "tab_nhanes.to_latex('tab_nhanes.tex')"
   ]
  },
  {
   "cell_type": "markdown",
   "metadata": {
    "id": "ZYyPhHZ-1ie-"
   },
   "source": [
    "As you can see, TableOne offers plenty of flexibility when it comes to exporting tables into different formats, allowing ease of use no matter what the platform."
   ]
  },
  {
   "cell_type": "markdown",
   "metadata": {
    "id": "lh6slWmBtBdQ"
   },
   "source": [
    "## Applying Stratification to TableOne()\n",
    "\n",
    "We have seen how we can use `TableOne()` to obtain summary statistics, but what if we wanted to perform stratification on our data?\n",
    "\n",
    "We can do so using the `groupby` argument.\n",
    "\n",
    "To start off, it's usually good practice to sort out which variables you want to stratify by, and which variables you wish to see included in your table.\n",
    "\n",
    "In our case, let's say we wanted to stratify by Gender. We create a variable (usually called groupby as it shares the same name as the one in the argument) and assign Gender to that variable.\n",
    "\n",
    "For the remaining variables which will be displayed row-by-row in the table, we have to break it down into two categories: those that are categorical, and those that are continuous.\n",
    "\n",
    "In our case, Gender, Race, and Education are the categorical variables, which we save in the form as a list.\n",
    "\n",
    "Age is our one and only continuous variable.\n",
    "\n",
    "It should be noted that in our initial table, we did not go through this sorting process, as TableOne automatically detects for categorical variables.\n",
    "\n",
    "However, for consistency's sake, it is considered good practice to explicitly define your categorical and numerical variables. This is especially important if your dataset has many columns, with the potential of certain column types being more ambiguous.   \n",
    "\n"
   ]
  },
  {
   "cell_type": "code",
   "execution_count": 15,
   "metadata": {
    "colab": {
     "base_uri": "https://localhost:8080/",
     "height": 663
    },
    "executionInfo": {
     "elapsed": 349,
     "status": "ok",
     "timestamp": 1722464875609,
     "user": {
      "displayName": "Eric Li",
      "userId": "13636052086902037493"
     },
     "user_tz": 240
    },
    "id": "2W7td4mFteD8",
    "outputId": "23bf7aab-44b2-4971-bfba-f4f67a2e24a3"
   },
   "outputs": [
    {
     "data": {
      "text/html": [
       "<div>\n",
       "<style scoped>\n",
       "    .dataframe tbody tr th:only-of-type {\n",
       "        vertical-align: middle;\n",
       "    }\n",
       "\n",
       "    .dataframe tbody tr th {\n",
       "        vertical-align: top;\n",
       "    }\n",
       "\n",
       "    .dataframe thead tr th {\n",
       "        text-align: left;\n",
       "    }\n",
       "</style>\n",
       "<table border=\"1\" class=\"dataframe\">\n",
       "  <thead>\n",
       "    <tr>\n",
       "      <th></th>\n",
       "      <th></th>\n",
       "      <th colspan=\"4\" halign=\"left\">Grouped by Gender</th>\n",
       "    </tr>\n",
       "    <tr>\n",
       "      <th></th>\n",
       "      <th></th>\n",
       "      <th>Missing</th>\n",
       "      <th>Overall</th>\n",
       "      <th>Female</th>\n",
       "      <th>Male</th>\n",
       "    </tr>\n",
       "  </thead>\n",
       "  <tbody>\n",
       "    <tr>\n",
       "      <th>n</th>\n",
       "      <th></th>\n",
       "      <td></td>\n",
       "      <td>10175</td>\n",
       "      <td>5172</td>\n",
       "      <td>5003</td>\n",
       "    </tr>\n",
       "    <tr>\n",
       "      <th rowspan=\"2\" valign=\"top\">Gender, n (%)</th>\n",
       "      <th>Female</th>\n",
       "      <td></td>\n",
       "      <td>5172 (50.8)</td>\n",
       "      <td>5172 (100.0)</td>\n",
       "      <td></td>\n",
       "    </tr>\n",
       "    <tr>\n",
       "      <th>Male</th>\n",
       "      <td></td>\n",
       "      <td>5003 (49.2)</td>\n",
       "      <td></td>\n",
       "      <td>5003 (100.0)</td>\n",
       "    </tr>\n",
       "    <tr>\n",
       "      <th>Age, mean (SD)</th>\n",
       "      <th></th>\n",
       "      <td>0</td>\n",
       "      <td>31.5 (24.4)</td>\n",
       "      <td>32.3 (24.4)</td>\n",
       "      <td>30.7 (24.4)</td>\n",
       "    </tr>\n",
       "    <tr>\n",
       "      <th rowspan=\"6\" valign=\"top\">Race, n (%)</th>\n",
       "      <th>Mexican American</th>\n",
       "      <td></td>\n",
       "      <td>1730 (17.0)</td>\n",
       "      <td>897 (17.3)</td>\n",
       "      <td>833 (16.7)</td>\n",
       "    </tr>\n",
       "    <tr>\n",
       "      <th>Non-Hispanic Asian</th>\n",
       "      <td></td>\n",
       "      <td>1074 (10.6)</td>\n",
       "      <td>553 (10.7)</td>\n",
       "      <td>521 (10.4)</td>\n",
       "    </tr>\n",
       "    <tr>\n",
       "      <th>Non-Hispanic Black</th>\n",
       "      <td></td>\n",
       "      <td>2267 (22.3)</td>\n",
       "      <td>1115 (21.6)</td>\n",
       "      <td>1152 (23.0)</td>\n",
       "    </tr>\n",
       "    <tr>\n",
       "      <th>Non-Hispanic White</th>\n",
       "      <td></td>\n",
       "      <td>3674 (36.1)</td>\n",
       "      <td>1863 (36.0)</td>\n",
       "      <td>1811 (36.2)</td>\n",
       "    </tr>\n",
       "    <tr>\n",
       "      <th>Other Hispanic</th>\n",
       "      <td></td>\n",
       "      <td>960 (9.4)</td>\n",
       "      <td>511 (9.9)</td>\n",
       "      <td>449 (9.0)</td>\n",
       "    </tr>\n",
       "    <tr>\n",
       "      <th>Other Race - Including Multi-Racial</th>\n",
       "      <td></td>\n",
       "      <td>470 (4.6)</td>\n",
       "      <td>233 (4.5)</td>\n",
       "      <td>237 (4.7)</td>\n",
       "    </tr>\n",
       "    <tr>\n",
       "      <th rowspan=\"8\" valign=\"top\">Education, n (%)</th>\n",
       "      <th>9-11th grade (Includes 12th grade with no diploma)</th>\n",
       "      <td></td>\n",
       "      <td>791 (7.8)</td>\n",
       "      <td>398 (7.7)</td>\n",
       "      <td>393 (7.9)</td>\n",
       "    </tr>\n",
       "    <tr>\n",
       "      <th>College graduate or above</th>\n",
       "      <td></td>\n",
       "      <td>1443 (14.2)</td>\n",
       "      <td>730 (14.1)</td>\n",
       "      <td>713 (14.3)</td>\n",
       "    </tr>\n",
       "    <tr>\n",
       "      <th>Don't Know</th>\n",
       "      <td></td>\n",
       "      <td>5 (0.0)</td>\n",
       "      <td>2 (0.0)</td>\n",
       "      <td>3 (0.1)</td>\n",
       "    </tr>\n",
       "    <tr>\n",
       "      <th>High school graduate/GED or equivalent</th>\n",
       "      <td></td>\n",
       "      <td>1303 (12.8)</td>\n",
       "      <td>638 (12.3)</td>\n",
       "      <td>665 (13.3)</td>\n",
       "    </tr>\n",
       "    <tr>\n",
       "      <th>Less than 9th grade</th>\n",
       "      <td></td>\n",
       "      <td>455 (4.5)</td>\n",
       "      <td>225 (4.4)</td>\n",
       "      <td>230 (4.6)</td>\n",
       "    </tr>\n",
       "    <tr>\n",
       "      <th>None</th>\n",
       "      <td></td>\n",
       "      <td>4406 (43.3)</td>\n",
       "      <td>2161 (41.8)</td>\n",
       "      <td>2245 (44.9)</td>\n",
       "    </tr>\n",
       "    <tr>\n",
       "      <th>Refused</th>\n",
       "      <td></td>\n",
       "      <td>2 (0.0)</td>\n",
       "      <td>2 (0.0)</td>\n",
       "      <td></td>\n",
       "    </tr>\n",
       "    <tr>\n",
       "      <th>Some college or AA degree</th>\n",
       "      <td></td>\n",
       "      <td>1770 (17.4)</td>\n",
       "      <td>1016 (19.6)</td>\n",
       "      <td>754 (15.1)</td>\n",
       "    </tr>\n",
       "  </tbody>\n",
       "</table>\n",
       "</div><br />"
      ],
      "text/plain": [
       "                                                                    Grouped by Gender                                         \n",
       "                                                                              Missing      Overall        Female          Male\n",
       "n                                                                                            10175          5172          5003\n",
       "Gender, n (%)    Female                                                                5172 (50.8)  5172 (100.0)              \n",
       "                 Male                                                                  5003 (49.2)                5003 (100.0)\n",
       "Age, mean (SD)                                                                      0  31.5 (24.4)   32.3 (24.4)   30.7 (24.4)\n",
       "Race, n (%)      Mexican American                                                      1730 (17.0)    897 (17.3)    833 (16.7)\n",
       "                 Non-Hispanic Asian                                                    1074 (10.6)    553 (10.7)    521 (10.4)\n",
       "                 Non-Hispanic Black                                                    2267 (22.3)   1115 (21.6)   1152 (23.0)\n",
       "                 Non-Hispanic White                                                    3674 (36.1)   1863 (36.0)   1811 (36.2)\n",
       "                 Other Hispanic                                                          960 (9.4)     511 (9.9)     449 (9.0)\n",
       "                 Other Race - Including Multi-Racial                                     470 (4.6)     233 (4.5)     237 (4.7)\n",
       "Education, n (%) 9-11th grade (Includes 12th grade with no diploma)                      791 (7.8)     398 (7.7)     393 (7.9)\n",
       "                 College graduate or above                                             1443 (14.2)    730 (14.1)    713 (14.3)\n",
       "                 Don't Know                                                                5 (0.0)       2 (0.0)       3 (0.1)\n",
       "                 High school graduate/GED or equivalent                                1303 (12.8)    638 (12.3)    665 (13.3)\n",
       "                 Less than 9th grade                                                     455 (4.5)     225 (4.4)     230 (4.6)\n",
       "                 None                                                                  4406 (43.3)   2161 (41.8)   2245 (44.9)\n",
       "                 Refused                                                                   2 (0.0)       2 (0.0)              \n",
       "                 Some college or AA degree                                             1770 (17.4)   1016 (19.6)    754 (15.1)"
      ]
     },
     "execution_count": 15,
     "metadata": {},
     "output_type": "execute_result"
    }
   ],
   "source": [
    "columns = [\"Gender\", \"Age\", \"Race\", \"Education\"]\n",
    "\n",
    "groupby = \"Gender\"\n",
    "\n",
    "categorical = [\"Gender\", \"Race\", \"Education\"]\n",
    "\n",
    "continuous = [\"Age\"]\n",
    "\n",
    "\n",
    "\n",
    "TableOne(data, columns=columns, categorical=categorical, continuous=continuous, groupby=groupby)"
   ]
  },
  {
   "cell_type": "markdown",
   "metadata": {
    "id": "5ELwekg66ZEz"
   },
   "source": [
    "## Managing Sort Order for Categorical Variables\n",
    "\n",
    "`TableOne()` also gives us the ability to customize the order of categorical variables.\n",
    "\n",
    "All we need to do is pass this sort order information to the order argument in the `TableOne()` function.\n",
    "This sort order information is represented as a dictionary, with the value of each key-value pair being a list.\n",
    "\n",
    "Any categories that are not explicitly specified in the sort order dictionary will go by the default sort method, which is alphabetical.\n",
    "\n",
    "Let's take a look at how we can customize the sort order for the Education variable."
   ]
  },
  {
   "cell_type": "code",
   "execution_count": 16,
   "metadata": {
    "colab": {
     "base_uri": "https://localhost:8080/",
     "height": 663
    },
    "executionInfo": {
     "elapsed": 718,
     "status": "ok",
     "timestamp": 1722464948374,
     "user": {
      "displayName": "Eric Li",
      "userId": "13636052086902037493"
     },
     "user_tz": 240
    },
    "id": "uM168v7XteLh",
    "outputId": "4987a72c-5103-4fd0-dd24-e9f88889716a"
   },
   "outputs": [
    {
     "data": {
      "text/html": [
       "<div>\n",
       "<style scoped>\n",
       "    .dataframe tbody tr th:only-of-type {\n",
       "        vertical-align: middle;\n",
       "    }\n",
       "\n",
       "    .dataframe tbody tr th {\n",
       "        vertical-align: top;\n",
       "    }\n",
       "\n",
       "    .dataframe thead tr th {\n",
       "        text-align: left;\n",
       "    }\n",
       "</style>\n",
       "<table border=\"1\" class=\"dataframe\">\n",
       "  <thead>\n",
       "    <tr>\n",
       "      <th></th>\n",
       "      <th></th>\n",
       "      <th colspan=\"4\" halign=\"left\">Grouped by Gender</th>\n",
       "    </tr>\n",
       "    <tr>\n",
       "      <th></th>\n",
       "      <th></th>\n",
       "      <th>Missing</th>\n",
       "      <th>Overall</th>\n",
       "      <th>Female</th>\n",
       "      <th>Male</th>\n",
       "    </tr>\n",
       "  </thead>\n",
       "  <tbody>\n",
       "    <tr>\n",
       "      <th>n</th>\n",
       "      <th></th>\n",
       "      <td></td>\n",
       "      <td>10175</td>\n",
       "      <td>5172</td>\n",
       "      <td>5003</td>\n",
       "    </tr>\n",
       "    <tr>\n",
       "      <th rowspan=\"2\" valign=\"top\">Gender, n (%)</th>\n",
       "      <th>Female</th>\n",
       "      <td></td>\n",
       "      <td>5172 (50.8)</td>\n",
       "      <td>5172 (100.0)</td>\n",
       "      <td></td>\n",
       "    </tr>\n",
       "    <tr>\n",
       "      <th>Male</th>\n",
       "      <td></td>\n",
       "      <td>5003 (49.2)</td>\n",
       "      <td></td>\n",
       "      <td>5003 (100.0)</td>\n",
       "    </tr>\n",
       "    <tr>\n",
       "      <th>Age, mean (SD)</th>\n",
       "      <th></th>\n",
       "      <td>0</td>\n",
       "      <td>31.5 (24.4)</td>\n",
       "      <td>32.3 (24.4)</td>\n",
       "      <td>30.7 (24.4)</td>\n",
       "    </tr>\n",
       "    <tr>\n",
       "      <th rowspan=\"6\" valign=\"top\">Race, n (%)</th>\n",
       "      <th>Mexican American</th>\n",
       "      <td></td>\n",
       "      <td>1730 (17.0)</td>\n",
       "      <td>897 (17.3)</td>\n",
       "      <td>833 (16.7)</td>\n",
       "    </tr>\n",
       "    <tr>\n",
       "      <th>Non-Hispanic Asian</th>\n",
       "      <td></td>\n",
       "      <td>1074 (10.6)</td>\n",
       "      <td>553 (10.7)</td>\n",
       "      <td>521 (10.4)</td>\n",
       "    </tr>\n",
       "    <tr>\n",
       "      <th>Non-Hispanic Black</th>\n",
       "      <td></td>\n",
       "      <td>2267 (22.3)</td>\n",
       "      <td>1115 (21.6)</td>\n",
       "      <td>1152 (23.0)</td>\n",
       "    </tr>\n",
       "    <tr>\n",
       "      <th>Non-Hispanic White</th>\n",
       "      <td></td>\n",
       "      <td>3674 (36.1)</td>\n",
       "      <td>1863 (36.0)</td>\n",
       "      <td>1811 (36.2)</td>\n",
       "    </tr>\n",
       "    <tr>\n",
       "      <th>Other Hispanic</th>\n",
       "      <td></td>\n",
       "      <td>960 (9.4)</td>\n",
       "      <td>511 (9.9)</td>\n",
       "      <td>449 (9.0)</td>\n",
       "    </tr>\n",
       "    <tr>\n",
       "      <th>Other Race - Including Multi-Racial</th>\n",
       "      <td></td>\n",
       "      <td>470 (4.6)</td>\n",
       "      <td>233 (4.5)</td>\n",
       "      <td>237 (4.7)</td>\n",
       "    </tr>\n",
       "    <tr>\n",
       "      <th rowspan=\"8\" valign=\"top\">Education, n (%)</th>\n",
       "      <th>None</th>\n",
       "      <td></td>\n",
       "      <td>4406 (43.3)</td>\n",
       "      <td>2161 (41.8)</td>\n",
       "      <td>2245 (44.9)</td>\n",
       "    </tr>\n",
       "    <tr>\n",
       "      <th>Less than 9th grade</th>\n",
       "      <td></td>\n",
       "      <td>455 (4.5)</td>\n",
       "      <td>225 (4.4)</td>\n",
       "      <td>230 (4.6)</td>\n",
       "    </tr>\n",
       "    <tr>\n",
       "      <th>9-11th grade (Includes 12th grade with no diploma)</th>\n",
       "      <td></td>\n",
       "      <td>791 (7.8)</td>\n",
       "      <td>398 (7.7)</td>\n",
       "      <td>393 (7.9)</td>\n",
       "    </tr>\n",
       "    <tr>\n",
       "      <th>High school graduate/GED or equivalent</th>\n",
       "      <td></td>\n",
       "      <td>1303 (12.8)</td>\n",
       "      <td>638 (12.3)</td>\n",
       "      <td>665 (13.3)</td>\n",
       "    </tr>\n",
       "    <tr>\n",
       "      <th>Some college or AA degree</th>\n",
       "      <td></td>\n",
       "      <td>1770 (17.4)</td>\n",
       "      <td>1016 (19.6)</td>\n",
       "      <td>754 (15.1)</td>\n",
       "    </tr>\n",
       "    <tr>\n",
       "      <th>College graduate or above</th>\n",
       "      <td></td>\n",
       "      <td>1443 (14.2)</td>\n",
       "      <td>730 (14.1)</td>\n",
       "      <td>713 (14.3)</td>\n",
       "    </tr>\n",
       "    <tr>\n",
       "      <th>Refused</th>\n",
       "      <td></td>\n",
       "      <td>2 (0.0)</td>\n",
       "      <td>2 (0.0)</td>\n",
       "      <td></td>\n",
       "    </tr>\n",
       "    <tr>\n",
       "      <th>Don't Know</th>\n",
       "      <td></td>\n",
       "      <td>5 (0.0)</td>\n",
       "      <td>2 (0.0)</td>\n",
       "      <td>3 (0.1)</td>\n",
       "    </tr>\n",
       "  </tbody>\n",
       "</table>\n",
       "</div><br />"
      ],
      "text/plain": [
       "                                                                    Grouped by Gender                                         \n",
       "                                                                              Missing      Overall        Female          Male\n",
       "n                                                                                            10175          5172          5003\n",
       "Gender, n (%)    Female                                                                5172 (50.8)  5172 (100.0)              \n",
       "                 Male                                                                  5003 (49.2)                5003 (100.0)\n",
       "Age, mean (SD)                                                                      0  31.5 (24.4)   32.3 (24.4)   30.7 (24.4)\n",
       "Race, n (%)      Mexican American                                                      1730 (17.0)    897 (17.3)    833 (16.7)\n",
       "                 Non-Hispanic Asian                                                    1074 (10.6)    553 (10.7)    521 (10.4)\n",
       "                 Non-Hispanic Black                                                    2267 (22.3)   1115 (21.6)   1152 (23.0)\n",
       "                 Non-Hispanic White                                                    3674 (36.1)   1863 (36.0)   1811 (36.2)\n",
       "                 Other Hispanic                                                          960 (9.4)     511 (9.9)     449 (9.0)\n",
       "                 Other Race - Including Multi-Racial                                     470 (4.6)     233 (4.5)     237 (4.7)\n",
       "Education, n (%) None                                                                  4406 (43.3)   2161 (41.8)   2245 (44.9)\n",
       "                 Less than 9th grade                                                     455 (4.5)     225 (4.4)     230 (4.6)\n",
       "                 9-11th grade (Includes 12th grade with no diploma)                      791 (7.8)     398 (7.7)     393 (7.9)\n",
       "                 High school graduate/GED or equivalent                                1303 (12.8)    638 (12.3)    665 (13.3)\n",
       "                 Some college or AA degree                                             1770 (17.4)   1016 (19.6)    754 (15.1)\n",
       "                 College graduate or above                                             1443 (14.2)    730 (14.1)    713 (14.3)\n",
       "                 Refused                                                                   2 (0.0)       2 (0.0)              \n",
       "                 Don't Know                                                                5 (0.0)       2 (0.0)       3 (0.1)"
      ]
     },
     "execution_count": 16,
     "metadata": {},
     "output_type": "execute_result"
    }
   ],
   "source": [
    "order = {\"Education\": [\"None\",\n",
    "                       \"Less than 9th grade\",\n",
    "                       \"9-11th grade (Includes 12th grade with no diploma)\",\n",
    "                       \"High school graduate/GED or equivalent\",\n",
    "                       \"Some college or AA degree\",\n",
    "                       \"College graduate or above\",\n",
    "                       \"Refused\",\n",
    "                       \"Don't Know\"\n",
    "                       ]}\n",
    "\n",
    "\n",
    "TableOne(data, columns=columns, categorical=categorical, continuous=continuous, groupby=groupby, order=order)"
   ]
  }
 ],
 "metadata": {
  "colab": {
   "authorship_tag": "ABX9TyMPjusoZml220ibAaj20gV7",
   "provenance": []
  },
  "kernelspec": {
   "display_name": "Python 3 (ipykernel)",
   "language": "python",
   "name": "python3"
  },
  "language_info": {
   "codemirror_mode": {
    "name": "ipython",
    "version": 3
   },
   "file_extension": ".py",
   "mimetype": "text/x-python",
   "name": "python",
   "nbconvert_exporter": "python",
   "pygments_lexer": "ipython3",
   "version": "3.10.0"
  }
 },
 "nbformat": 4,
 "nbformat_minor": 4
}
