{
 "cells": [
  {
   "cell_type": "markdown",
   "metadata": {},
   "source": [
    "# Chapter 05: __FUNCTIONS__"
   ]
  },
  {
   "cell_type": "markdown",
   "metadata": {},
   "source": [
    "---"
   ]
  },
  {
   "cell_type": "markdown",
   "metadata": {},
   "source": [
    "### Read [__Chapter 05__](textbooks/horstmann-and-necaise.2016.python-for-everyone.pdf) from your textbook."
   ]
  },
  {
   "cell_type": "markdown",
   "metadata": {},
   "source": [
    "---"
   ]
  },
  {
   "cell_type": "markdown",
   "metadata": {},
   "source": [
    "### Return values vs printing"
   ]
  },
  {
   "cell_type": "markdown",
   "metadata": {},
   "source": [
    "__DO NOT CONFUSE__ `print()` with `return`!!!"
   ]
  },
  {
   "cell_type": "markdown",
   "metadata": {},
   "source": [
    "---"
   ]
  },
  {
   "cell_type": "code",
   "execution_count": 1,
   "metadata": {},
   "outputs": [
    {
     "data": {
      "text/plain": [
       "(5, 2)"
      ]
     },
     "execution_count": 1,
     "metadata": {},
     "output_type": "execute_result"
    }
   ],
   "source": [
    "#                 returns\n",
    "# divmod( a, b ) --------> a // b, a % b\n",
    "#\n",
    "divmod( 17, 3 )"
   ]
  },
  {
   "cell_type": "code",
   "execution_count": 2,
   "metadata": {},
   "outputs": [
    {
     "data": {
      "text/plain": [
       "(5, 2)"
      ]
     },
     "execution_count": 2,
     "metadata": {},
     "output_type": "execute_result"
    }
   ],
   "source": [
    "17 // 3, 17 % 3"
   ]
  },
  {
   "cell_type": "code",
   "execution_count": 3,
   "metadata": {},
   "outputs": [],
   "source": [
    "result = divmod( 17, 3 )"
   ]
  },
  {
   "cell_type": "code",
   "execution_count": 4,
   "metadata": {},
   "outputs": [
    {
     "data": {
      "text/plain": [
       "(5, 2)"
      ]
     },
     "execution_count": 4,
     "metadata": {},
     "output_type": "execute_result"
    }
   ],
   "source": [
    "result"
   ]
  },
  {
   "cell_type": "code",
   "execution_count": 5,
   "metadata": {},
   "outputs": [
    {
     "data": {
      "text/plain": [
       "tuple"
      ]
     },
     "execution_count": 5,
     "metadata": {},
     "output_type": "execute_result"
    }
   ],
   "source": [
    "type( result )"
   ]
  },
  {
   "cell_type": "code",
   "execution_count": 6,
   "metadata": {},
   "outputs": [
    {
     "data": {
      "text/plain": [
       "5"
      ]
     },
     "execution_count": 6,
     "metadata": {},
     "output_type": "execute_result"
    }
   ],
   "source": [
    "result[0]"
   ]
  },
  {
   "cell_type": "code",
   "execution_count": 7,
   "metadata": {},
   "outputs": [
    {
     "data": {
      "text/plain": [
       "2"
      ]
     },
     "execution_count": 7,
     "metadata": {},
     "output_type": "execute_result"
    }
   ],
   "source": [
    "result[1]"
   ]
  },
  {
   "cell_type": "code",
   "execution_count": 8,
   "metadata": {},
   "outputs": [],
   "source": [
    "# q, r = 17 // 3, 17 % 3\n",
    "#\n",
    "q, r = divmod( 17, 3 )"
   ]
  },
  {
   "cell_type": "code",
   "execution_count": 9,
   "metadata": {},
   "outputs": [
    {
     "data": {
      "text/plain": [
       "5"
      ]
     },
     "execution_count": 9,
     "metadata": {},
     "output_type": "execute_result"
    }
   ],
   "source": [
    "q"
   ]
  },
  {
   "cell_type": "code",
   "execution_count": 10,
   "metadata": {},
   "outputs": [
    {
     "data": {
      "text/plain": [
       "2"
      ]
     },
     "execution_count": 10,
     "metadata": {},
     "output_type": "execute_result"
    }
   ],
   "source": [
    "r"
   ]
  },
  {
   "cell_type": "markdown",
   "metadata": {},
   "source": [
    "---"
   ]
  },
  {
   "cell_type": "markdown",
   "metadata": {},
   "source": [
    "Let's try to compute the sine of 90 *degrees*, and let's assume we are unaware of the specification of the `math.sin()` function:"
   ]
  },
  {
   "cell_type": "code",
   "execution_count": 11,
   "metadata": {},
   "outputs": [
    {
     "data": {
      "text/plain": [
       "0.8939966636005579"
      ]
     },
     "execution_count": 11,
     "metadata": {},
     "output_type": "execute_result"
    }
   ],
   "source": [
    "import math\n",
    "\n",
    "math.sin( 90 )"
   ]
  },
  {
   "cell_type": "code",
   "execution_count": 12,
   "metadata": {},
   "outputs": [
    {
     "name": "stdout",
     "output_type": "stream",
     "text": [
      "Help on built-in function sin in module math:\n",
      "\n",
      "sin(x, /)\n",
      "    Return the sine of x (measured in radians).\n",
      "\n"
     ]
    }
   ],
   "source": [
    "help( math.sin )"
   ]
  },
  {
   "cell_type": "markdown",
   "metadata": {},
   "source": [
    "The `math.sin()` function takes a value that is in *radians*, not *degrees*. Therefore, even though it gave us the correct sine value for 90 radians, we may have thought the result is wrong.\n",
    "\n",
    "Given that $\\pi$ radians is 180 degrees, here's the proper calculation of the sine of 90 degrees.\n",
    "\n",
    "Since 90 degrees is $\\frac{\\pi}{2}$ radians, we can write:"
   ]
  },
  {
   "cell_type": "code",
   "execution_count": 13,
   "metadata": {},
   "outputs": [
    {
     "data": {
      "text/plain": [
       "1.0"
      ]
     },
     "execution_count": 13,
     "metadata": {},
     "output_type": "execute_result"
    }
   ],
   "source": [
    "math.sin( math.pi / 2 )"
   ]
  },
  {
   "cell_type": "markdown",
   "metadata": {},
   "source": [
    "However, `math.sin()` expects an angle value in _radians_, not degrees! So we end up computing the sine of 90 radians!"
   ]
  },
  {
   "cell_type": "markdown",
   "metadata": {},
   "source": [
    "### Type conversion functions"
   ]
  },
  {
   "cell_type": "code",
   "execution_count": 14,
   "metadata": {},
   "outputs": [
    {
     "ename": "ValueError",
     "evalue": "invalid literal for int() with base 10: '3.14'",
     "output_type": "error",
     "traceback": [
      "\u001b[0;31m---------------------------------------------------------------------------\u001b[0m",
      "\u001b[0;31mValueError\u001b[0m                                Traceback (most recent call last)",
      "\u001b[0;32m<ipython-input-14-81629b4ec41a>\u001b[0m in \u001b[0;36m<module>\u001b[0;34m\u001b[0m\n\u001b[0;32m----> 1\u001b[0;31m \u001b[0mint\u001b[0m\u001b[0;34m(\u001b[0m \u001b[0;34m'3.14'\u001b[0m \u001b[0;34m)\u001b[0m\u001b[0;34m\u001b[0m\u001b[0;34m\u001b[0m\u001b[0m\n\u001b[0m",
      "\u001b[0;31mValueError\u001b[0m: invalid literal for int() with base 10: '3.14'"
     ]
    }
   ],
   "source": [
    "int( '3.14' )"
   ]
  },
  {
   "cell_type": "code",
   "execution_count": 15,
   "metadata": {},
   "outputs": [
    {
     "data": {
      "text/plain": [
       "3.14"
      ]
     },
     "execution_count": 15,
     "metadata": {},
     "output_type": "execute_result"
    }
   ],
   "source": [
    "float( '3.14' )"
   ]
  },
  {
   "cell_type": "code",
   "execution_count": 16,
   "metadata": {},
   "outputs": [
    {
     "data": {
      "text/plain": [
       "5"
      ]
     },
     "execution_count": 16,
     "metadata": {},
     "output_type": "execute_result"
    }
   ],
   "source": [
    "int( '       5      ' )"
   ]
  },
  {
   "cell_type": "code",
   "execution_count": 17,
   "metadata": {},
   "outputs": [
    {
     "ename": "ValueError",
     "evalue": "invalid literal for int() with base 10: '    5      99 '",
     "output_type": "error",
     "traceback": [
      "\u001b[0;31m---------------------------------------------------------------------------\u001b[0m",
      "\u001b[0;31mValueError\u001b[0m                                Traceback (most recent call last)",
      "\u001b[0;32m<ipython-input-17-2d62948840f2>\u001b[0m in \u001b[0;36m<module>\u001b[0;34m\u001b[0m\n\u001b[0;32m----> 1\u001b[0;31m \u001b[0mint\u001b[0m\u001b[0;34m(\u001b[0m \u001b[0;34m'    5      99 '\u001b[0m \u001b[0;34m)\u001b[0m\u001b[0;34m\u001b[0m\u001b[0;34m\u001b[0m\u001b[0m\n\u001b[0m",
      "\u001b[0;31mValueError\u001b[0m: invalid literal for int() with base 10: '    5      99 '"
     ]
    }
   ],
   "source": [
    "int( '    5      99 ' )"
   ]
  },
  {
   "cell_type": "code",
   "execution_count": 18,
   "metadata": {},
   "outputs": [
    {
     "ename": "ValueError",
     "evalue": "invalid literal for int() with base 10: '5x'",
     "output_type": "error",
     "traceback": [
      "\u001b[0;31m---------------------------------------------------------------------------\u001b[0m",
      "\u001b[0;31mValueError\u001b[0m                                Traceback (most recent call last)",
      "\u001b[0;32m<ipython-input-18-30a2394b3cff>\u001b[0m in \u001b[0;36m<module>\u001b[0;34m\u001b[0m\n\u001b[0;32m----> 1\u001b[0;31m \u001b[0mint\u001b[0m\u001b[0;34m(\u001b[0m \u001b[0;34m'5x'\u001b[0m \u001b[0;34m)\u001b[0m\u001b[0;34m\u001b[0m\u001b[0;34m\u001b[0m\u001b[0m\n\u001b[0m",
      "\u001b[0;31mValueError\u001b[0m: invalid literal for int() with base 10: '5x'"
     ]
    }
   ],
   "source": [
    "int( '5x' )"
   ]
  },
  {
   "cell_type": "markdown",
   "metadata": {},
   "source": [
    "### Modules"
   ]
  },
  {
   "cell_type": "code",
   "execution_count": 19,
   "metadata": {},
   "outputs": [
    {
     "data": {
      "text/plain": [
       "<module 'pandas' from '/home/hsevay/.local/lib/python3.8/site-packages/pandas/__init__.py'>"
      ]
     },
     "execution_count": 19,
     "metadata": {},
     "output_type": "execute_result"
    }
   ],
   "source": [
    "import pandas\n",
    "\n",
    "pandas"
   ]
  },
  {
   "cell_type": "code",
   "execution_count": 35,
   "metadata": {
    "collapsed": true,
    "jupyter": {
     "outputs_hidden": true
    },
    "tags": []
   },
   "outputs": [
    {
     "name": "stdout",
     "output_type": "stream",
     "text": [
      "Help on package pandas:\n",
      "\n",
      "NAME\n",
      "    pandas\n",
      "\n",
      "DESCRIPTION\n",
      "    pandas - a powerful data analysis and manipulation library for Python\n",
      "    =====================================================================\n",
      "    \n",
      "    **pandas** is a Python package providing fast, flexible, and expressive data\n",
      "    structures designed to make working with \"relational\" or \"labeled\" data both\n",
      "    easy and intuitive. It aims to be the fundamental high-level building block for\n",
      "    doing practical, **real world** data analysis in Python. Additionally, it has\n",
      "    the broader goal of becoming **the most powerful and flexible open source data\n",
      "    analysis / manipulation tool available in any language**. It is already well on\n",
      "    its way toward this goal.\n",
      "    \n",
      "    Main Features\n",
      "    -------------\n",
      "    Here are just a few of the things that pandas does well:\n",
      "    \n",
      "      - Easy handling of missing data in floating point as well as non-floating\n",
      "        point data.\n",
      "      - Size mutability: columns can be inserted and deleted from DataFrame and\n",
      "        higher dimensional objects\n",
      "      - Automatic and explicit data alignment: objects can be explicitly aligned\n",
      "        to a set of labels, or the user can simply ignore the labels and let\n",
      "        `Series`, `DataFrame`, etc. automatically align the data for you in\n",
      "        computations.\n",
      "      - Powerful, flexible group by functionality to perform split-apply-combine\n",
      "        operations on data sets, for both aggregating and transforming data.\n",
      "      - Make it easy to convert ragged, differently-indexed data in other Python\n",
      "        and NumPy data structures into DataFrame objects.\n",
      "      - Intelligent label-based slicing, fancy indexing, and subsetting of large\n",
      "        data sets.\n",
      "      - Intuitive merging and joining data sets.\n",
      "      - Flexible reshaping and pivoting of data sets.\n",
      "      - Hierarchical labeling of axes (possible to have multiple labels per tick).\n",
      "      - Robust IO tools for loading data from flat files (CSV and delimited),\n",
      "        Excel files, databases, and saving/loading data from the ultrafast HDF5\n",
      "        format.\n",
      "      - Time series-specific functionality: date range generation and frequency\n",
      "        conversion, moving window statistics, date shifting and lagging.\n",
      "\n",
      "PACKAGE CONTENTS\n",
      "    _config (package)\n",
      "    _libs (package)\n",
      "    _testing\n",
      "    _typing\n",
      "    _version\n",
      "    api (package)\n",
      "    arrays (package)\n",
      "    compat (package)\n",
      "    conftest\n",
      "    core (package)\n",
      "    errors (package)\n",
      "    io (package)\n",
      "    plotting (package)\n",
      "    testing\n",
      "    tests (package)\n",
      "    tseries (package)\n",
      "    util (package)\n",
      "\n",
      "SUBMODULES\n",
      "    _hashtable\n",
      "    _lib\n",
      "    _tslib\n",
      "    offsets\n",
      "\n",
      "FUNCTIONS\n",
      "    __getattr__(name)\n",
      "        # GH 27101\n",
      "\n",
      "DATA\n",
      "    IndexSlice = <pandas.core.indexing._IndexSlice object>\n",
      "    NA = <NA>\n",
      "    NaT = NaT\n",
      "    __docformat__ = 'restructuredtext'\n",
      "    __git_version__ = 'f2c8480af2f25efdbd803218b9d87980f416563e'\n",
      "    describe_option = <pandas._config.config.CallableDynamicDoc object>\n",
      "    get_option = <pandas._config.config.CallableDynamicDoc object>\n",
      "    options = <pandas._config.config.DictWrapper object>\n",
      "    reset_option = <pandas._config.config.CallableDynamicDoc object>\n",
      "    set_option = <pandas._config.config.CallableDynamicDoc object>\n",
      "\n",
      "VERSION\n",
      "    1.2.3\n",
      "\n",
      "FILE\n",
      "    /home/hsevay/anaconda3/lib/python3.8/site-packages/pandas/__init__.py\n",
      "\n",
      "\n"
     ]
    }
   ],
   "source": [
    "help( pandas )"
   ]
  },
  {
   "cell_type": "code",
   "execution_count": 33,
   "metadata": {},
   "outputs": [],
   "source": [
    "!gvim /home/hsevay/anaconda3/lib/python3.8/site-packages/pandas/__init__.py"
   ]
  },
  {
   "cell_type": "code",
   "execution_count": 36,
   "metadata": {},
   "outputs": [
    {
     "data": {
      "text/plain": [
       "<module 'math' from '/home/hsevay/anaconda3/lib/python3.8/lib-dynload/math.cpython-38-x86_64-linux-gnu.so'>"
      ]
     },
     "execution_count": 36,
     "metadata": {},
     "output_type": "execute_result"
    }
   ],
   "source": [
    "math"
   ]
  },
  {
   "cell_type": "code",
   "execution_count": 37,
   "metadata": {},
   "outputs": [
    {
     "name": "stdout",
     "output_type": "stream",
     "text": [
      "/home/hsevay/anaconda3/lib/python3.8/lib-dynload/math.cpython-38-x86_64-linux-gnu.so: ELF 64-bit LSB shared object, x86-64, version 1 (SYSV), dynamically linked, with debug_info, not stripped\n"
     ]
    }
   ],
   "source": [
    "!file /home/hsevay/anaconda3/lib/python3.8/lib-dynload/math.cpython-38-x86_64-linux-gnu.so"
   ]
  },
  {
   "cell_type": "markdown",
   "metadata": {},
   "source": [
    "About *Shared Object Files*:\n",
    "\n",
    "> https://www.lifewire.com/so-file-4150722"
   ]
  },
  {
   "cell_type": "code",
   "execution_count": 38,
   "metadata": {},
   "outputs": [
    {
     "data": {
      "text/plain": [
       "'This module provides access to the mathematical functions\\ndefined by the C standard.'"
      ]
     },
     "execution_count": 38,
     "metadata": {},
     "output_type": "execute_result"
    }
   ],
   "source": [
    "math.__doc__"
   ]
  },
  {
   "cell_type": "code",
   "execution_count": 39,
   "metadata": {},
   "outputs": [
    {
     "name": "stdout",
     "output_type": "stream",
     "text": [
      "Help on built-in function ceil in module math:\n",
      "\n",
      "ceil(x, /)\n",
      "    Return the ceiling of x as an Integral.\n",
      "    \n",
      "    This is the smallest integer >= x.\n",
      "\n"
     ]
    }
   ],
   "source": [
    "help( math.ceil )"
   ]
  },
  {
   "cell_type": "code",
   "execution_count": 20,
   "metadata": {},
   "outputs": [
    {
     "data": {
      "text/plain": [
       "4"
      ]
     },
     "execution_count": 20,
     "metadata": {},
     "output_type": "execute_result"
    }
   ],
   "source": [
    "math.ceil( 3.14 )"
   ]
  },
  {
   "cell_type": "code",
   "execution_count": 21,
   "metadata": {},
   "outputs": [
    {
     "data": {
      "text/plain": [
       "3"
      ]
     },
     "execution_count": 21,
     "metadata": {},
     "output_type": "execute_result"
    }
   ],
   "source": [
    "math.floor( 3.14 )"
   ]
  },
  {
   "cell_type": "code",
   "execution_count": 22,
   "metadata": {},
   "outputs": [
    {
     "data": {
      "text/plain": [
       "3"
      ]
     },
     "execution_count": 22,
     "metadata": {},
     "output_type": "execute_result"
    }
   ],
   "source": [
    "math.floor( 3.00 )"
   ]
  },
  {
   "cell_type": "code",
   "execution_count": 23,
   "metadata": {},
   "outputs": [
    {
     "data": {
      "text/plain": [
       "3"
      ]
     },
     "execution_count": 23,
     "metadata": {},
     "output_type": "execute_result"
    }
   ],
   "source": [
    "math.ceil( 3.00 )"
   ]
  },
  {
   "cell_type": "code",
   "execution_count": 24,
   "metadata": {},
   "outputs": [
    {
     "data": {
      "text/plain": [
       "4"
      ]
     },
     "execution_count": 24,
     "metadata": {},
     "output_type": "execute_result"
    }
   ],
   "source": [
    "math.ceil( 3.001 )"
   ]
  },
  {
   "cell_type": "code",
   "execution_count": 25,
   "metadata": {},
   "outputs": [
    {
     "data": {
      "text/plain": [
       "3"
      ]
     },
     "execution_count": 25,
     "metadata": {},
     "output_type": "execute_result"
    }
   ],
   "source": [
    "math.floor( 3.001 )"
   ]
  },
  {
   "cell_type": "code",
   "execution_count": 44,
   "metadata": {},
   "outputs": [],
   "source": [
    "# dir( math )"
   ]
  },
  {
   "cell_type": "markdown",
   "metadata": {},
   "source": [
    "## Working with UNITS\n",
    "\n",
    "As engineering students, you must pay the utmost attention to get your units right!\n",
    "\n",
    "You should keep in mind that ratios are uniteless!\n",
    "\n",
    "Let's see how we can convert degrees to radians."
   ]
  },
  {
   "cell_type": "markdown",
   "metadata": {},
   "source": [
    "$$\\mathtt{R_\\textit{radians} = D_\\textit{degrees} \\times\\frac{2\\pi_\\textit{radians}}{360.0_\\textit{degrees}}}$$\n"
   ]
  },
  {
   "cell_type": "markdown",
   "metadata": {},
   "source": [
    "$$\\mathtt{D_\\textit{degrees} = \\dfrac{R_\\textit{radians} \\times\\ 180.0_\\textit{degrees}}{\\pi_\\textit{radians}}}$$\n"
   ]
  },
  {
   "cell_type": "markdown",
   "metadata": {},
   "source": [
    "One $\\pi$ _radians_ is 180 _degrees_. So, for example, 270 _degrees_ should then be 1.5 $\\pi$ _radians_."
   ]
  },
  {
   "cell_type": "code",
   "execution_count": 26,
   "metadata": {},
   "outputs": [
    {
     "data": {
      "text/plain": [
       "4.71238898038469"
      ]
     },
     "execution_count": 26,
     "metadata": {},
     "output_type": "execute_result"
    }
   ],
   "source": [
    "D = 270 # degrees\n",
    "R = D * 2 * math.pi / 360.0\n",
    "R # radians"
   ]
  },
  {
   "cell_type": "markdown",
   "metadata": {},
   "source": [
    "Since we expect to get 1.5 $\\pi$ radians, this value should be equal to $\\mathtt{1.5} \\times \\mathtt{math.pi}$:\n"
   ]
  },
  {
   "cell_type": "code",
   "execution_count": 27,
   "metadata": {},
   "outputs": [
    {
     "data": {
      "text/plain": [
       "4.71238898038469"
      ]
     },
     "execution_count": 27,
     "metadata": {},
     "output_type": "execute_result"
    }
   ],
   "source": [
    "1.5 * math.pi"
   ]
  },
  {
   "cell_type": "markdown",
   "metadata": {},
   "source": [
    "---"
   ]
  },
  {
   "cell_type": "markdown",
   "metadata": {},
   "source": [
    "Here's how we write functions."
   ]
  },
  {
   "cell_type": "code",
   "execution_count": 28,
   "metadata": {},
   "outputs": [],
   "source": [
    "def cube_volume_print( side_length ):\n",
    "    \"\"\"\n",
    "    Prints out the volume of a cube whose side length has been specified as parameter\n",
    "    \"\"\"\n",
    "    volume = side_length**3\n",
    "    print( volume )\n",
    "    #return None"
   ]
  },
  {
   "cell_type": "code",
   "execution_count": 29,
   "metadata": {},
   "outputs": [
    {
     "name": "stdout",
     "output_type": "stream",
     "text": [
      "8\n"
     ]
    }
   ],
   "source": [
    "cube_volume_print( 2 )"
   ]
  },
  {
   "cell_type": "code",
   "execution_count": 30,
   "metadata": {},
   "outputs": [
    {
     "name": "stdout",
     "output_type": "stream",
     "text": [
      "8\n"
     ]
    }
   ],
   "source": [
    "v2 = cube_volume_print( 2 )"
   ]
  },
  {
   "cell_type": "markdown",
   "metadata": {},
   "source": [
    "We seem to be getting the correct result *returned* from the function above. But is that so?"
   ]
  },
  {
   "cell_type": "code",
   "execution_count": 31,
   "metadata": {},
   "outputs": [],
   "source": [
    "v2"
   ]
  },
  {
   "cell_type": "code",
   "execution_count": 32,
   "metadata": {},
   "outputs": [
    {
     "data": {
      "text/plain": [
       "True"
      ]
     },
     "execution_count": 32,
     "metadata": {},
     "output_type": "execute_result"
    }
   ],
   "source": [
    "v2 is None"
   ]
  },
  {
   "cell_type": "code",
   "execution_count": 33,
   "metadata": {},
   "outputs": [],
   "source": [
    "def cube_volume_return( side_length ):\n",
    "    \"\"\"\n",
    "    Computes and returns the volume of a cube of the provided side length\n",
    "    \"\"\"\n",
    "    volume = side_length**3\n",
    "    print( f\"--- volume( {side_length} ) = {volume }\" ) # PRINT! PRINT! PRINT!\n",
    "    return volume # RETURN! RETURN! RETURN!"
   ]
  },
  {
   "cell_type": "code",
   "execution_count": 34,
   "metadata": {},
   "outputs": [
    {
     "name": "stdout",
     "output_type": "stream",
     "text": [
      "--- volume( 3 ) = 27\n"
     ]
    },
    {
     "data": {
      "text/plain": [
       "27"
      ]
     },
     "execution_count": 34,
     "metadata": {},
     "output_type": "execute_result"
    }
   ],
   "source": [
    "cube_volume_return( 3 )"
   ]
  },
  {
   "cell_type": "code",
   "execution_count": 35,
   "metadata": {},
   "outputs": [
    {
     "name": "stdout",
     "output_type": "stream",
     "text": [
      "--- volume( 3 ) = 27\n"
     ]
    }
   ],
   "source": [
    "v3 = cube_volume_return( 3 )"
   ]
  },
  {
   "cell_type": "code",
   "execution_count": 36,
   "metadata": {},
   "outputs": [
    {
     "data": {
      "text/plain": [
       "27"
      ]
     },
     "execution_count": 36,
     "metadata": {},
     "output_type": "execute_result"
    }
   ],
   "source": [
    "v3"
   ]
  },
  {
   "cell_type": "markdown",
   "metadata": {},
   "source": [
    "----"
   ]
  },
  {
   "cell_type": "code",
   "execution_count": 37,
   "metadata": {},
   "outputs": [
    {
     "name": "stdout",
     "output_type": "stream",
     "text": [
      "27\n"
     ]
    },
    {
     "ename": "TypeError",
     "evalue": "unsupported operand type(s) for ** or pow(): 'NoneType' and 'int'",
     "output_type": "error",
     "traceback": [
      "\u001b[0;31m---------------------------------------------------------------------------\u001b[0m",
      "\u001b[0;31mTypeError\u001b[0m                                 Traceback (most recent call last)",
      "\u001b[0;32m<ipython-input-37-2df19116d5a8>\u001b[0m in \u001b[0;36m<module>\u001b[0;34m\u001b[0m\n\u001b[0;32m----> 1\u001b[0;31m \u001b[0mcube_volume_print\u001b[0m\u001b[0;34m(\u001b[0m \u001b[0mcube_volume_print\u001b[0m\u001b[0;34m(\u001b[0m \u001b[0;36m3\u001b[0m \u001b[0;34m)\u001b[0m \u001b[0;34m)\u001b[0m\u001b[0;34m\u001b[0m\u001b[0;34m\u001b[0m\u001b[0m\n\u001b[0m",
      "\u001b[0;32m<ipython-input-28-3570f8897d6c>\u001b[0m in \u001b[0;36mcube_volume_print\u001b[0;34m(side_length)\u001b[0m\n\u001b[1;32m      3\u001b[0m     \u001b[0mPrints\u001b[0m \u001b[0mout\u001b[0m \u001b[0mthe\u001b[0m \u001b[0mvolume\u001b[0m \u001b[0mof\u001b[0m \u001b[0ma\u001b[0m \u001b[0mcube\u001b[0m \u001b[0mwhose\u001b[0m \u001b[0mside\u001b[0m \u001b[0mlength\u001b[0m \u001b[0mhas\u001b[0m \u001b[0mbeen\u001b[0m \u001b[0mspecified\u001b[0m \u001b[0;32mas\u001b[0m \u001b[0mparameter\u001b[0m\u001b[0;34m\u001b[0m\u001b[0;34m\u001b[0m\u001b[0m\n\u001b[1;32m      4\u001b[0m     \"\"\"\n\u001b[0;32m----> 5\u001b[0;31m     \u001b[0mvolume\u001b[0m \u001b[0;34m=\u001b[0m \u001b[0mside_length\u001b[0m\u001b[0;34m**\u001b[0m\u001b[0;36m3\u001b[0m\u001b[0;34m\u001b[0m\u001b[0;34m\u001b[0m\u001b[0m\n\u001b[0m\u001b[1;32m      6\u001b[0m     \u001b[0mprint\u001b[0m\u001b[0;34m(\u001b[0m \u001b[0mvolume\u001b[0m \u001b[0;34m)\u001b[0m\u001b[0;34m\u001b[0m\u001b[0;34m\u001b[0m\u001b[0m\n\u001b[1;32m      7\u001b[0m     \u001b[0;31m#return None\u001b[0m\u001b[0;34m\u001b[0m\u001b[0;34m\u001b[0m\u001b[0;34m\u001b[0m\u001b[0m\n",
      "\u001b[0;31mTypeError\u001b[0m: unsupported operand type(s) for ** or pow(): 'NoneType' and 'int'"
     ]
    }
   ],
   "source": [
    "cube_volume_print( cube_volume_print( 3 ) ) "
   ]
  },
  {
   "cell_type": "code",
   "execution_count": 38,
   "metadata": {},
   "outputs": [
    {
     "ename": "TypeError",
     "evalue": "unsupported operand type(s) for ** or pow(): 'NoneType' and 'int'",
     "output_type": "error",
     "traceback": [
      "\u001b[0;31m---------------------------------------------------------------------------\u001b[0m",
      "\u001b[0;31mTypeError\u001b[0m                                 Traceback (most recent call last)",
      "\u001b[0;32m<ipython-input-38-d4e8026db7f3>\u001b[0m in \u001b[0;36m<module>\u001b[0;34m\u001b[0m\n\u001b[0;32m----> 1\u001b[0;31m \u001b[0;32mNone\u001b[0m\u001b[0;34m**\u001b[0m\u001b[0;36m3\u001b[0m\u001b[0;34m\u001b[0m\u001b[0;34m\u001b[0m\u001b[0m\n\u001b[0m",
      "\u001b[0;31mTypeError\u001b[0m: unsupported operand type(s) for ** or pow(): 'NoneType' and 'int'"
     ]
    }
   ],
   "source": [
    "None**3"
   ]
  },
  {
   "cell_type": "markdown",
   "metadata": {},
   "source": [
    "----"
   ]
  },
  {
   "cell_type": "markdown",
   "metadata": {},
   "source": [
    "We can *compose* proper functions&mdash;functions that ***return*** proper values&mdash;like this."
   ]
  },
  {
   "cell_type": "code",
   "execution_count": 39,
   "metadata": {},
   "outputs": [
    {
     "name": "stdout",
     "output_type": "stream",
     "text": [
      "--- volume( 2 ) = 8\n",
      "--- volume( 8 ) = 512\n"
     ]
    },
    {
     "data": {
      "text/plain": [
       "512"
      ]
     },
     "execution_count": 39,
     "metadata": {},
     "output_type": "execute_result"
    }
   ],
   "source": [
    "cube_volume_return( cube_volume_return( 2 ) )"
   ]
  },
  {
   "cell_type": "code",
   "execution_count": 40,
   "metadata": {},
   "outputs": [
    {
     "name": "stdout",
     "output_type": "stream",
     "text": [
      "--- volume( 2 ) = 8\n",
      "--- volume( 8 ) = 512\n",
      "--- volume( 512 ) = 134217728\n"
     ]
    },
    {
     "data": {
      "text/plain": [
       "134217728"
      ]
     },
     "execution_count": 40,
     "metadata": {},
     "output_type": "execute_result"
    }
   ],
   "source": [
    "cube_volume_return( cube_volume_return( cube_volume_return( 2 ) ) )"
   ]
  },
  {
   "cell_type": "markdown",
   "metadata": {},
   "source": [
    "What does `print()` actually return?"
   ]
  },
  {
   "cell_type": "code",
   "execution_count": 41,
   "metadata": {},
   "outputs": [
    {
     "name": "stdout",
     "output_type": "stream",
     "text": [
      "Hello!\n"
     ]
    }
   ],
   "source": [
    "print( \"Hello!\" )"
   ]
  },
  {
   "cell_type": "code",
   "execution_count": 42,
   "metadata": {},
   "outputs": [
    {
     "name": "stdout",
     "output_type": "stream",
     "text": [
      "Hello!\n"
     ]
    }
   ],
   "source": [
    "return_hello = print( \"Hello!\" )"
   ]
  },
  {
   "cell_type": "code",
   "execution_count": 43,
   "metadata": {},
   "outputs": [
    {
     "data": {
      "text/plain": [
       "True"
      ]
     },
     "execution_count": 43,
     "metadata": {},
     "output_type": "execute_result"
    }
   ],
   "source": [
    "return_hello is None"
   ]
  },
  {
   "cell_type": "code",
   "execution_count": 44,
   "metadata": {},
   "outputs": [
    {
     "name": "stdout",
     "output_type": "stream",
     "text": [
      "Help on built-in function print in module builtins:\n",
      "\n",
      "print(...)\n",
      "    print(value, ..., sep=' ', end='\\n', file=sys.stdout, flush=False)\n",
      "    \n",
      "    Prints the values to a stream, or to sys.stdout by default.\n",
      "    Optional keyword arguments:\n",
      "    file:  a file-like object (stream); defaults to the current sys.stdout.\n",
      "    sep:   string inserted between values, default a space.\n",
      "    end:   string appended after the last value, default a newline.\n",
      "    flush: whether to forcibly flush the stream.\n",
      "\n"
     ]
    }
   ],
   "source": [
    "help( print )"
   ]
  },
  {
   "cell_type": "code",
   "execution_count": 45,
   "metadata": {},
   "outputs": [
    {
     "name": "stdout",
     "output_type": "stream",
     "text": [
      "Hello world!\n"
     ]
    }
   ],
   "source": [
    "!echo \"Hello world!\" # Printout goes to the standard output device, stdout, which is your screen"
   ]
  },
  {
   "cell_type": "code",
   "execution_count": 51,
   "metadata": {},
   "outputs": [],
   "source": [
    "!echo \"Hello world!\" > out.hello_world.txt # Standard output has been REDIRECTED to an output file"
   ]
  },
  {
   "cell_type": "code",
   "execution_count": 52,
   "metadata": {},
   "outputs": [],
   "source": [
    "!echo \"Saved in a file\" >> out.hello_world.txt # Concatenating new content to the same output file"
   ]
  },
  {
   "cell_type": "code",
   "execution_count": 53,
   "metadata": {},
   "outputs": [],
   "source": [
    "!echo \"END\" >> out.hello_world.txt # Concatenating new content to the same output file"
   ]
  },
  {
   "cell_type": "code",
   "execution_count": 54,
   "metadata": {},
   "outputs": [
    {
     "name": "stdout",
     "output_type": "stream",
     "text": [
      "Hello world!\n",
      "Saved in a file\n",
      "END\n"
     ]
    }
   ],
   "source": [
    "!cat out.hello_world.txt"
   ]
  },
  {
   "cell_type": "code",
   "execution_count": 55,
   "metadata": {},
   "outputs": [
    {
     "name": "stdout",
     "output_type": "stream",
     "text": [
      "A >>> BC >>> DEF >>> GHIJ\n"
     ]
    }
   ],
   "source": [
    "print( \"A\", \"BC\", \"DEF\", \"GHIJ\", sep=\" >>> \" )"
   ]
  },
  {
   "cell_type": "code",
   "execution_count": 56,
   "metadata": {},
   "outputs": [
    {
     "name": "stdout",
     "output_type": "stream",
     "text": [
      "A-->>>\n",
      "BC-->>>\n",
      "DEF-->>>\n",
      "GHIJ\n"
     ]
    }
   ],
   "source": [
    "print( \"A\", \"BC\", \"DEF\", \"GHIJ\", sep=\"-->>>\\n\" )"
   ]
  },
  {
   "cell_type": "code",
   "execution_count": 57,
   "metadata": {},
   "outputs": [
    {
     "name": "stdout",
     "output_type": "stream",
     "text": [
      "A - BC - DEF > GHIJ###KLMNO\n"
     ]
    }
   ],
   "source": [
    "print( \"A\", end=\" - \" )\n",
    "print( \"BC\", end=\" - \" )\n",
    "print( \"DEF\", end=\" > \" )\n",
    "print( \"GHIJ\", \"KLMNO\", sep=\"###\" )"
   ]
  },
  {
   "cell_type": "markdown",
   "metadata": {},
   "source": [
    "----"
   ]
  },
  {
   "cell_type": "markdown",
   "metadata": {},
   "source": [
    "Run examples directly from your notebooks:"
   ]
  },
  {
   "cell_type": "markdown",
   "metadata": {},
   "source": [
    "<a href=\"textbooks/bookcode-py-2/ch05/how_to_1/pyramids.py\">\n",
    "textbooks/bookcode-py-2/ch05/how_to_1/pyramids.py</a>"
   ]
  },
  {
   "cell_type": "code",
   "execution_count": 58,
   "metadata": {},
   "outputs": [
    {
     "name": "stdout",
     "output_type": "stream",
     "text": [
      "Volume: 300.0\n",
      "Expected: 300\n",
      "Volume: 0.0\n",
      "Expected: 0\n"
     ]
    }
   ],
   "source": [
    "!python textbooks/bookcode-py-2/ch05/how_to_1/pyramids.py"
   ]
  },
  {
   "cell_type": "markdown",
   "metadata": {},
   "source": [
    "<a href=\"textbooks/bookcode-py-2/ch05/worked_example_1/password.py\">\n",
    "textbooks/bookcode-py-2/ch05/worked_example_1/password.py</a>"
   ]
  },
  {
   "cell_type": "code",
   "execution_count": 59,
   "metadata": {},
   "outputs": [
    {
     "name": "stdout",
     "output_type": "stream",
     "text": [
      "s$cnz0il\n"
     ]
    }
   ],
   "source": [
    "!python textbooks/bookcode-py-2/ch05/worked_example_1/password.py"
   ]
  },
  {
   "cell_type": "markdown",
   "metadata": {},
   "source": [
    "---"
   ]
  },
  {
   "cell_type": "code",
   "execution_count": 60,
   "metadata": {},
   "outputs": [
    {
     "data": {
      "text/plain": [
       "[]"
      ]
     },
     "execution_count": 60,
     "metadata": {},
     "output_type": "execute_result"
    }
   ],
   "source": [
    "list( range( 5, 5 ) )"
   ]
  },
  {
   "cell_type": "code",
   "execution_count": 62,
   "metadata": {},
   "outputs": [
    {
     "name": "stdout",
     "output_type": "stream",
     "text": [
      "Overwriting src/password.py\n"
     ]
    }
   ],
   "source": [
    "%%file src/password.py\n",
    "##\n",
    "#  This program generates a random password.\n",
    "#\n",
    "import random\n",
    "import sys\n",
    "import string\n",
    "  \n",
    "def make_password( length ):\n",
    "    \"\"\"\n",
    "    Generates a random password.\n",
    "    \n",
    "    @param length an integer that specifies the length of the password\n",
    "    @return a string containing the password of the given length with one digit \n",
    "    and one special character\n",
    "    \"\"\"\n",
    "    password = \"\"\n",
    "    \n",
    "    # Pick random letters but leave one opening for a random digit and \n",
    "    # another one for a random symbol\n",
    "    #\n",
    "    for i in range( length - 2 ):\n",
    "        #\n",
    "        password += random_character( string.ascii_lowercase )\n",
    "  \n",
    "    # Insert a random digit and a random special character\n",
    "    #\n",
    "    random_digit = random_character(  string.digits )\n",
    "    random_symbol = random_character(  string.punctuation )\n",
    "    \n",
    "    password = insert_at_random( password, random_digit )\n",
    "    password = insert_at_random( password, random_symbol )\n",
    "  \n",
    "    return password\n",
    "\n",
    "def random_character( characters ):\n",
    "    \"\"\"\n",
    "    Returns a string containing one character randomly chosen from a given string.\n",
    "    \n",
    "    @param characters the string from which to randomly choose a character\n",
    "    @return a substring of length 1, taken at a random index\n",
    "    \"\"\"\n",
    "    n = len( characters )\n",
    "    r = random.randint( 0, n - 1 )\n",
    "    \n",
    "    return characters[r] \n",
    "\n",
    "def insert_at_random( string, to_insert ):   \n",
    "    \"\"\"\n",
    "    Inserts one string into another at a random position.\n",
    "    \n",
    "    @param string the string into which another string is inserted\n",
    "    @param to_insert the string to be inserted\n",
    "    @return the string that results from inserting to_insert into string\n",
    "    \"\"\"\n",
    "    n = len( string )\n",
    "    r = random.randint( 0, n )\n",
    "    result = \"\"\n",
    "   \n",
    "    for i in range( r ):\n",
    "        # \n",
    "        # Include all characters until the rth character in the original string\n",
    "        #\n",
    "        result += string[i]\n",
    "        \n",
    "    # Insert the new substring into our new string\n",
    "    #\n",
    "    result += to_insert\n",
    "    \n",
    "    for i in range( r, n ):\n",
    "        # \n",
    "        # Include all characters starting with the rth character until the last character\n",
    "        # in the original string\n",
    "        #\n",
    "        result += string[i]\n",
    "    \n",
    "    return result\n",
    " \n",
    "# MAIN program\n",
    "#\n",
    "print( f\"--- sys.argv: {sys.argv}\" )\n",
    "\n",
    "if len( sys.argv ) < 2:\n",
    "    #\n",
    "    print( \"*** Please provide the length of the password\")\n",
    "    sys.exit( 0 )\n",
    "    \n",
    "password_len = int( sys.argv[1] )\n",
    "password_str = make_password( password_len )\n",
    "\n",
    "print( password_str )"
   ]
  },
  {
   "cell_type": "code",
   "execution_count": 63,
   "metadata": {},
   "outputs": [
    {
     "name": "stdout",
     "output_type": "stream",
     "text": [
      "--- sys.argv: ['src/password.py']\n",
      "*** Please provide the length of the password\n"
     ]
    }
   ],
   "source": [
    "!python src/password.py"
   ]
  },
  {
   "cell_type": "code",
   "execution_count": 64,
   "metadata": {},
   "outputs": [
    {
     "name": "stdout",
     "output_type": "stream",
     "text": [
      "--- sys.argv: ['src/password.py', '12']\n",
      "brkgl4l%rcro\n"
     ]
    }
   ],
   "source": [
    "!python src/password.py 12"
   ]
  },
  {
   "cell_type": "markdown",
   "metadata": {},
   "source": [
    "---"
   ]
  },
  {
   "cell_type": "code",
   "execution_count": 65,
   "metadata": {},
   "outputs": [],
   "source": [
    "import string"
   ]
  },
  {
   "cell_type": "code",
   "execution_count": 66,
   "metadata": {},
   "outputs": [
    {
     "data": {
      "text/plain": [
       "'abcdefghijklmnopqrstuvwxyz'"
      ]
     },
     "execution_count": 66,
     "metadata": {},
     "output_type": "execute_result"
    }
   ],
   "source": [
    "string.ascii_lowercase"
   ]
  },
  {
   "cell_type": "code",
   "execution_count": 67,
   "metadata": {},
   "outputs": [
    {
     "data": {
      "text/plain": [
       "'0123456789'"
      ]
     },
     "execution_count": 67,
     "metadata": {},
     "output_type": "execute_result"
    }
   ],
   "source": [
    "string.digits"
   ]
  },
  {
   "cell_type": "code",
   "execution_count": 68,
   "metadata": {},
   "outputs": [
    {
     "data": {
      "text/plain": [
       "'!\"#$%&\\'()*+,-./:;<=>?@[\\\\]^_`{|}~'"
      ]
     },
     "execution_count": 68,
     "metadata": {},
     "output_type": "execute_result"
    }
   ],
   "source": [
    "string.punctuation"
   ]
  },
  {
   "cell_type": "markdown",
   "metadata": {},
   "source": [
    "Say we wish to construct a password that is 10 characters long."
   ]
  },
  {
   "cell_type": "markdown",
   "metadata": {},
   "source": [
    "So, arbitrarily, first, we wish to pick 8 lowercase letters randomly. Then one of the remaining characters will be a digit, and the other will be punctuation character, again randomly picked."
   ]
  },
  {
   "cell_type": "code",
   "execution_count": 69,
   "metadata": {},
   "outputs": [
    {
     "data": {
      "text/plain": [
       "'knrtqgvc'"
      ]
     },
     "execution_count": 69,
     "metadata": {},
     "output_type": "execute_result"
    }
   ],
   "source": [
    "import random\n",
    "\n",
    "random_8_characters = \"\"\n",
    "\n",
    "for _ in range( 8 ):\n",
    "    #\n",
    "    random_index = random.randint( 0, len( string.ascii_lowercase ) - 1 )\n",
    "    random_char = string.ascii_lowercase[random_index]\n",
    "    random_8_characters += random_char\n",
    "    \n",
    "random_8_characters    "
   ]
  },
  {
   "cell_type": "markdown",
   "metadata": {},
   "source": [
    "Next, we will choose a random digit and add it randomly to `random_8_characters`."
   ]
  },
  {
   "cell_type": "code",
   "execution_count": 70,
   "metadata": {},
   "outputs": [
    {
     "name": "stdout",
     "output_type": "stream",
     "text": [
      "--- 8-character password so far: knrtqgvc\n",
      "--- Random digit: 5\n"
     ]
    }
   ],
   "source": [
    "random_index = random.randint( 0, len( string.digits ) - 1 )\n",
    "random_digit = string.digits[random_index]\n",
    "\n",
    "print( f\"--- 8-character password so far: {random_8_characters}\" )\n",
    "print( f\"--- Random digit: {random_digit}\" )"
   ]
  },
  {
   "cell_type": "markdown",
   "metadata": {},
   "source": [
    "Next, we need to place the random digit somewhere in the `random_8_characters` *randomly*."
   ]
  },
  {
   "cell_type": "code",
   "execution_count": 71,
   "metadata": {},
   "outputs": [
    {
     "name": "stdout",
     "output_type": "stream",
     "text": [
      "--- Random password: knrtqgvc\n",
      "--- Random location: 5\n",
      "--- Random password: knrtq5gvc\n"
     ]
    }
   ],
   "source": [
    "random_password = random_8_characters\n",
    "\n",
    "print( f\"--- Random password: {random_password}\" )\n",
    "\n",
    "random_loc = random.randint( 0, len( random_password ) )\n",
    "random_password = random_password[:random_loc] +\\\n",
    "                  random_digit +\\\n",
    "                  random_password[random_loc:] \n",
    "\n",
    "print( f\"--- Random location: {random_loc}\" )\n",
    "print( f\"--- Random password: {random_password}\" )"
   ]
  },
  {
   "cell_type": "markdown",
   "metadata": {},
   "source": [
    "Finally, we need to pick a punctuation characater randomly and insert it in the running password randomly as well."
   ]
  },
  {
   "cell_type": "code",
   "execution_count": 73,
   "metadata": {},
   "outputs": [
    {
     "name": "stdout",
     "output_type": "stream",
     "text": [
      "--- Random location: 31\n",
      "--- Random punctionation character: ~\n"
     ]
    }
   ],
   "source": [
    "random_loc = random.randint( 0, len( string.punctuation ) - 1 )\n",
    "random_punct = string.punctuation[random_loc]\n",
    "\n",
    "print( f\"--- Random location: {random_loc}\" )\n",
    "print( f\"--- Random punctionation character: {random_punct}\" )"
   ]
  },
  {
   "cell_type": "code",
   "execution_count": 74,
   "metadata": {},
   "outputs": [
    {
     "name": "stdout",
     "output_type": "stream",
     "text": [
      "--- Random password: knrtq5gvc\n",
      "--- Random location: 7\n",
      "--- Random password: knrtq5g~vc\n"
     ]
    }
   ],
   "source": [
    "print( f\"--- Random password: {random_password}\" )\n",
    "\n",
    "random_loc = random.randint( 0, len( random_password ) )\n",
    "random_password = random_password[:random_loc] +\\\n",
    "                  random_punct +\\\n",
    "                  random_password[random_loc:] \n",
    "\n",
    "print( f\"--- Random location: {random_loc}\" )\n",
    "print( f\"--- Random password: {random_password}\" )"
   ]
  },
  {
   "cell_type": "markdown",
   "metadata": {},
   "source": [
    "----"
   ]
  },
  {
   "cell_type": "code",
   "execution_count": 78,
   "metadata": {},
   "outputs": [
    {
     "data": {
      "text/plain": [
       "('ABCDEFGH?', 8)"
      ]
     },
     "execution_count": 78,
     "metadata": {},
     "output_type": "execute_result"
    }
   ],
   "source": [
    "example_password = \"ABCDEFGH\"\n",
    "char_index = len( example_password )\n",
    "new_password = example_password[:char_index] \\\n",
    "               + \"?\" \\\n",
    "               + example_password[char_index:]\n",
    "new_password, char_index"
   ]
  },
  {
   "cell_type": "markdown",
   "metadata": {},
   "source": [
    "----"
   ]
  },
  {
   "cell_type": "markdown",
   "metadata": {},
   "source": [
    "You can run the updated version of the password program with the following command."
   ]
  },
  {
   "cell_type": "code",
   "execution_count": 79,
   "metadata": {},
   "outputs": [
    {
     "name": "stdout",
     "output_type": "stream",
     "text": [
      "--- sys.argv: ['src/password.py']\n",
      "*** Please provide the length of the password\n"
     ]
    }
   ],
   "source": [
    "!python src/password.py"
   ]
  },
  {
   "cell_type": "code",
   "execution_count": 80,
   "metadata": {},
   "outputs": [
    {
     "name": "stdout",
     "output_type": "stream",
     "text": [
      "--- sys.argv: ['src/password.py', '15']\n",
      "gklaovs~wjlhb0p\n"
     ]
    }
   ],
   "source": [
    "!python src/password.py 15"
   ]
  },
  {
   "cell_type": "code",
   "execution_count": 81,
   "metadata": {},
   "outputs": [
    {
     "name": "stdout",
     "output_type": "stream",
     "text": [
      "--- sys.argv: ['src/password.py', '15.3']\n",
      "Traceback (most recent call last):\n",
      "  File \"src/password.py\", line 87, in <module>\n",
      "    password_len = int( sys.argv[1] )\n",
      "ValueError: invalid literal for int() with base 10: '15.3'\n"
     ]
    }
   ],
   "source": [
    "!python src/password.py 15.3"
   ]
  },
  {
   "cell_type": "markdown",
   "metadata": {},
   "source": [
    "---"
   ]
  },
  {
   "cell_type": "markdown",
   "metadata": {},
   "source": [
    "With a small modification to the original password program, we made the program quite *flexible*."
   ]
  },
  {
   "cell_type": "markdown",
   "metadata": {},
   "source": [
    "Definitely, we need to implement some *error checking* mechanism not to allow any values that are not integers to start with."
   ]
  },
  {
   "cell_type": "markdown",
   "metadata": {},
   "source": [
    "**QUESTION:** Would it be sufficient to check that the input value the user specifies at the command line is an integer value?"
   ]
  },
  {
   "cell_type": "markdown",
   "metadata": {},
   "source": [
    "**ANSWER (Input Validation):** \n",
    "    \n",
    "- Check to ensure that the password length value is above zero\n",
    "- Check to ensure that the user only enters a single value, if the user chose to do so. That is, flag an error situation when the user enters multiple values\n",
    "- Check to ensure that the password does not exceed a maximum number of characters and does not go below a certain number of letters"
   ]
  },
  {
   "cell_type": "markdown",
   "metadata": {},
   "source": [
    "---"
   ]
  },
  {
   "cell_type": "markdown",
   "metadata": {},
   "source": [
    "Here's another example that demonstrates the difference between `print()` and `return`.`"
   ]
  },
  {
   "cell_type": "code",
   "execution_count": 82,
   "metadata": {},
   "outputs": [],
   "source": [
    "def convert_degrees_to_radians( degrees ):\n",
    "    \"\"\"\n",
    "    Converts degrees to radians so that we can math functions, and it also means\n",
    "    to return it as well, but let us see about that ...\n",
    "    \"\"\"\n",
    "    radians = (degrees / 180.0) * math.pi\n",
    "    print( radians ) # *** PRINTING ***"
   ]
  },
  {
   "cell_type": "markdown",
   "metadata": {},
   "source": [
    "__QUESTION:__ Is this function _returning_ a value?"
   ]
  },
  {
   "cell_type": "code",
   "execution_count": 83,
   "metadata": {},
   "outputs": [
    {
     "name": "stdout",
     "output_type": "stream",
     "text": [
      "1.5707963267948966\n"
     ]
    }
   ],
   "source": [
    "r = convert_degrees_to_radians( 90 )\n",
    "r"
   ]
  },
  {
   "cell_type": "code",
   "execution_count": 84,
   "metadata": {},
   "outputs": [
    {
     "data": {
      "text/plain": [
       "1.5707963267948966"
      ]
     },
     "execution_count": 84,
     "metadata": {},
     "output_type": "execute_result"
    }
   ],
   "source": [
    "# Double-checking\n",
    "0.5 * math.pi"
   ]
  },
  {
   "cell_type": "markdown",
   "metadata": {},
   "source": [
    "We should have two fundamental expectations:\n",
    "\n",
    "- That the function we called works correctly\n",
    "- That value `r` has the right value\n",
    "\n",
    "How can we check for both of these?\n",
    "\n",
    "- Let's review the logic behind the degrees-to-radians conversion. We know that $2\\pi$ radians is 360 degrees. So, here's the ratio relationship:\n",
    "\n",
    "     - 360 degrees --> $2\\pi$ radians\n",
    "     - X degrees --> ? radians\n",
    "\n",
    "- Example: 90 degrees\n"
   ]
  },
  {
   "cell_type": "code",
   "execution_count": 85,
   "metadata": {},
   "outputs": [
    {
     "data": {
      "text/plain": [
       "1.5707963267948966"
      ]
     },
     "execution_count": 85,
     "metadata": {},
     "output_type": "execute_result"
    }
   ],
   "source": [
    "90 * 2 * math.pi / 360.0"
   ]
  },
  {
   "cell_type": "markdown",
   "metadata": {},
   "source": [
    "So far, so good ...\n",
    "\n",
    "At least the value __printed__ to the screen is correct!\n",
    "\n",
    "But, what about value `r`?\n"
   ]
  },
  {
   "cell_type": "code",
   "execution_count": 86,
   "metadata": {},
   "outputs": [],
   "source": [
    "r"
   ]
  },
  {
   "cell_type": "markdown",
   "metadata": {},
   "source": [
    "Hmmm ... I'm thinking Jupyter Lab is not working right, because it is not printing out the value of `r`. Is it though? So, I'd better be sure of this!"
   ]
  },
  {
   "cell_type": "code",
   "execution_count": 87,
   "metadata": {},
   "outputs": [
    {
     "name": "stdout",
     "output_type": "stream",
     "text": [
      "r=None\n"
     ]
    }
   ],
   "source": [
    "print( \"r={}\".format( r ) )"
   ]
  },
  {
   "cell_type": "code",
   "execution_count": 89,
   "metadata": {},
   "outputs": [
    {
     "name": "stdout",
     "output_type": "stream",
     "text": [
      "r=None\n"
     ]
    }
   ],
   "source": [
    "print( f\"r={r}\" )"
   ]
  },
  {
   "cell_type": "code",
   "execution_count": 90,
   "metadata": {},
   "outputs": [
    {
     "data": {
      "text/plain": [
       "True"
      ]
     },
     "execution_count": 90,
     "metadata": {},
     "output_type": "execute_result"
    }
   ],
   "source": [
    "r is None"
   ]
  },
  {
   "cell_type": "markdown",
   "metadata": {},
   "source": [
    "Obviously, something went terribly wrong!!!\n",
    "\n",
    "And there is a fundamental problem. Our function printed the radians to the screen, but that's all it did!\n",
    "\n",
    "If we need a function to return back a result, we cannot just print that result to the screen and hope it to have been returned at the same time!\n",
    "\n",
    "This is a very common mistake among first-year students! And many repeat this fundamental mistake on what's called a midterm exam!\n",
    "\n",
    "So, let's try this again, but before we do, let's try to display the value of r again:"
   ]
  },
  {
   "cell_type": "markdown",
   "metadata": {},
   "source": [
    "__QUESTION__: Why did we get `None` as the return value from the function above?\n",
    "\n",
    "__ANSWER__: Every statement in Python has a \"return value.\" In this case, in the absence of an explicit `return` call, the `print(.)` statement returns `None`."
   ]
  },
  {
   "cell_type": "code",
   "execution_count": 91,
   "metadata": {},
   "outputs": [
    {
     "name": "stdout",
     "output_type": "stream",
     "text": [
      "Hello\n"
     ]
    }
   ],
   "source": [
    "print( \"Hello\" )"
   ]
  },
  {
   "cell_type": "markdown",
   "metadata": {},
   "source": [
    "Printing has the _side effect_ of displaying the content to be printed on the screen! So, in this case, `Hello` displayed on the screen is actually __not__ the return value from `print(.)` but just a side effect!"
   ]
  },
  {
   "cell_type": "code",
   "execution_count": 92,
   "metadata": {},
   "outputs": [
    {
     "name": "stdout",
     "output_type": "stream",
     "text": [
      "Trump!\n"
     ]
    }
   ],
   "source": [
    "# To capture the return value of print(.) in this case\n",
    "#\n",
    "p = print( \"Trump!\" )"
   ]
  },
  {
   "cell_type": "code",
   "execution_count": 93,
   "metadata": {},
   "outputs": [],
   "source": [
    "p"
   ]
  },
  {
   "cell_type": "code",
   "execution_count": 94,
   "metadata": {},
   "outputs": [
    {
     "data": {
      "text/plain": [
       "'None'"
      ]
     },
     "execution_count": 94,
     "metadata": {},
     "output_type": "execute_result"
    }
   ],
   "source": [
    "\"{}\".format( p )"
   ]
  },
  {
   "cell_type": "code",
   "execution_count": 128,
   "metadata": {},
   "outputs": [
    {
     "name": "stdout",
     "output_type": "stream",
     "text": [
      "Help on built-in function print in module builtins:\n",
      "\n",
      "print(...)\n",
      "    print(value, ..., sep=' ', end='\\n', file=sys.stdout, flush=False)\n",
      "    \n",
      "    Prints the values to a stream, or to sys.stdout by default.\n",
      "    Optional keyword arguments:\n",
      "    file:  a file-like object (stream); defaults to the current sys.stdout.\n",
      "    sep:   string inserted between values, default a space.\n",
      "    end:   string appended after the last value, default a newline.\n",
      "    flush: whether to forcibly flush the stream.\n",
      "\n"
     ]
    }
   ],
   "source": [
    "help( print )"
   ]
  },
  {
   "cell_type": "markdown",
   "metadata": {},
   "source": [
    "Let's try returning ..."
   ]
  },
  {
   "cell_type": "code",
   "execution_count": 95,
   "metadata": {},
   "outputs": [],
   "source": [
    "def convert_degrees_to_radians( degrees ):\n",
    "    \"\"\"\n",
    "    Converts degrees to radians so that we can math functions, and it also means\n",
    "    to return it as well, but let us see about that ...\n",
    "    \"\"\"\n",
    "    radians = (degrees / 180.0) * math.pi\n",
    "    print( radians ) # *** PRINTING ***\n",
    "    return # *** RETURNING WHAT? ***"
   ]
  },
  {
   "cell_type": "code",
   "execution_count": 96,
   "metadata": {},
   "outputs": [
    {
     "name": "stdout",
     "output_type": "stream",
     "text": [
      "1.5707963267948966\n"
     ]
    }
   ],
   "source": [
    "t = convert_degrees_to_radians( 90 )\n",
    "t"
   ]
  },
  {
   "cell_type": "code",
   "execution_count": 97,
   "metadata": {},
   "outputs": [
    {
     "name": "stdout",
     "output_type": "stream",
     "text": [
      "t=None\n"
     ]
    }
   ],
   "source": [
    "print( \"t={}\".format( t ) )"
   ]
  },
  {
   "cell_type": "markdown",
   "metadata": {},
   "source": [
    "So, the `return` statement on its own will also return `None`."
   ]
  },
  {
   "cell_type": "code",
   "execution_count": 98,
   "metadata": {},
   "outputs": [],
   "source": [
    "def convert_degrees_to_radians( degrees):\n",
    "    \"\"\"\n",
    "    Converts degrees to radians so that we can math functions\n",
    "    \"\"\"\n",
    "    radians = (degrees / 360.0) * 2 * math.pi\n",
    "    print( radians ) # Printing to the screen never returns values!\n",
    "    return radians # The only way to return values!"
   ]
  },
  {
   "cell_type": "code",
   "execution_count": 99,
   "metadata": {},
   "outputs": [
    {
     "name": "stdout",
     "output_type": "stream",
     "text": [
      "1.5707963267948966\n"
     ]
    },
    {
     "data": {
      "text/plain": [
       "1.5707963267948966"
      ]
     },
     "execution_count": 99,
     "metadata": {},
     "output_type": "execute_result"
    }
   ],
   "source": [
    "s = convert_degrees_to_radians( 90 )\n",
    "s"
   ]
  },
  {
   "cell_type": "code",
   "execution_count": 100,
   "metadata": {},
   "outputs": [
    {
     "data": {
      "text/plain": [
       "1.5707963267948966"
      ]
     },
     "execution_count": 100,
     "metadata": {},
     "output_type": "execute_result"
    }
   ],
   "source": [
    "s"
   ]
  },
  {
   "cell_type": "markdown",
   "metadata": {},
   "source": [
    "Ideally, we should do things this way&mdash;that is, remove all printing once all testing is done. No need to remove per se. We can just comment out all printing statements."
   ]
  },
  {
   "cell_type": "code",
   "execution_count": 135,
   "metadata": {},
   "outputs": [],
   "source": [
    "def convert_degrees_to_radians( degrees):\n",
    "    \"\"\"\n",
    "    Converts degrees to radians so that we can math functions\n",
    "    \"\"\"\n",
    "    radians = (degrees / 360.0) * 2 * math.pi\n",
    "    #print( radians ) # Printing to the screen never returns values!\n",
    "    return radians # The only way to return values!"
   ]
  },
  {
   "cell_type": "code",
   "execution_count": 101,
   "metadata": {},
   "outputs": [
    {
     "name": "stdout",
     "output_type": "stream",
     "text": [
      "1.5707963267948966\n"
     ]
    },
    {
     "data": {
      "text/plain": [
       "1.5707963267948966"
      ]
     },
     "execution_count": 101,
     "metadata": {},
     "output_type": "execute_result"
    }
   ],
   "source": [
    "z = convert_degrees_to_radians( 90 )\n",
    "z"
   ]
  },
  {
   "cell_type": "code",
   "execution_count": 102,
   "metadata": {},
   "outputs": [
    {
     "name": "stdout",
     "output_type": "stream",
     "text": [
      "z=1.57 radians\n"
     ]
    }
   ],
   "source": [
    "print( \"z={:.2f} radians\".format( z ) )"
   ]
  },
  {
   "cell_type": "code",
   "execution_count": 104,
   "metadata": {},
   "outputs": [
    {
     "name": "stdout",
     "output_type": "stream",
     "text": [
      "z=1.57 radians\n"
     ]
    }
   ],
   "source": [
    "print( f\"z={z:.2f} radians\" )"
   ]
  },
  {
   "cell_type": "markdown",
   "metadata": {},
   "source": [
    "---------"
   ]
  },
  {
   "cell_type": "markdown",
   "metadata": {},
   "source": [
    "### Golden Rules of Returning Values\n",
    "\n",
    "- A function returns what the first executed `return` statement in that function returns.\n",
    "\n",
    "- A function always returns a value whether there is an explicit `return` statement or not. A function without an explicit `return` statement will return `None` by default.\n",
    "\n",
    "---"
   ]
  },
  {
   "cell_type": "code",
   "execution_count": 105,
   "metadata": {},
   "outputs": [],
   "source": [
    "def fa( x ):\n",
    "    print( \"--- Calling fa( {} )\".format( x ) )\n",
    "    return 3 * x\n",
    "\n",
    "def fb( y ):\n",
    "    print( \"--- Calling fb( {} )\".format( y ) )\n",
    "    z = y ** 2\n",
    "    fa( z ) # Calling function fa\n",
    "    print( \"--- Exiting from fb() ...\")"
   ]
  },
  {
   "cell_type": "code",
   "execution_count": 106,
   "metadata": {},
   "outputs": [
    {
     "name": "stdout",
     "output_type": "stream",
     "text": [
      "--- Calling fa( 4 )\n"
     ]
    },
    {
     "data": {
      "text/plain": [
       "12"
      ]
     },
     "execution_count": 106,
     "metadata": {},
     "output_type": "execute_result"
    }
   ],
   "source": [
    "fa( 4 )"
   ]
  },
  {
   "cell_type": "code",
   "execution_count": 107,
   "metadata": {},
   "outputs": [
    {
     "name": "stdout",
     "output_type": "stream",
     "text": [
      "--- Calling fb( 3 )\n",
      "--- Calling fa( 9 )\n",
      "--- Exiting from fb() ...\n"
     ]
    }
   ],
   "source": [
    "r = fb( 3 )"
   ]
  },
  {
   "cell_type": "code",
   "execution_count": 108,
   "metadata": {},
   "outputs": [],
   "source": [
    "r"
   ]
  },
  {
   "cell_type": "code",
   "execution_count": 109,
   "metadata": {},
   "outputs": [
    {
     "data": {
      "text/plain": [
       "True"
      ]
     },
     "execution_count": 109,
     "metadata": {},
     "output_type": "execute_result"
    }
   ],
   "source": [
    "r is None"
   ]
  },
  {
   "cell_type": "code",
   "execution_count": 110,
   "metadata": {},
   "outputs": [],
   "source": [
    "def fc( y ):\n",
    "    print( \"--- Calling fc( {} )\".format( y ) )\n",
    "    z = y ** 2\n",
    "    return fa( z )"
   ]
  },
  {
   "cell_type": "code",
   "execution_count": 111,
   "metadata": {},
   "outputs": [
    {
     "name": "stdout",
     "output_type": "stream",
     "text": [
      "--- Calling fc( 3 )\n",
      "--- Calling fa( 9 )\n"
     ]
    }
   ],
   "source": [
    "s = fc( 3 )"
   ]
  },
  {
   "cell_type": "code",
   "execution_count": 112,
   "metadata": {},
   "outputs": [
    {
     "data": {
      "text/plain": [
       "27"
      ]
     },
     "execution_count": 112,
     "metadata": {},
     "output_type": "execute_result"
    }
   ],
   "source": [
    "s"
   ]
  },
  {
   "cell_type": "markdown",
   "metadata": {},
   "source": [
    "---\n",
    "### Golden Rule of Passing Arguments\n",
    "\n",
    "For monolithic values such as ints and floats, Python copies the value from the actual to the formal parameter. For non-monolithic values such as lists, dictionaries, tuples, strings, etc., Python only copies the _address_ of those values. Then, via that address, one can access&mdash;and, if possible, modify&mdash; the original data value via the formal parameter inside a function. Therefore, any modifications made to *mutable* data structures via formal parameters will be reflected outside the function call!\n",
    "\n",
    "In programming lingo, Python always does _copy by value/reference_.\n",
    "\n",
    "---"
   ]
  },
  {
   "cell_type": "markdown",
   "metadata": {},
   "source": [
    "The reason for not copying the entire contents of non-monolithic values on passing such values into functions is nothing but practical. If we need to traverse through a huge list, for example, why should we pay the price of creating an exact duplicate of that list before we can get to what we really need to do with that list? Creating *unnecessary* duplicates costs time and memory!"
   ]
  },
  {
   "cell_type": "markdown",
   "metadata": {},
   "source": [
    "---\n",
    "DO YOUR BEST __NOT__ TO FAIL TO FOLLOW DIRECTIONS/SPECIFICATIONS! \n",
    "---"
   ]
  },
  {
   "cell_type": "markdown",
   "metadata": {},
   "source": [
    "## Passing Compound Values to Functions"
   ]
  },
  {
   "cell_type": "markdown",
   "metadata": {},
   "source": [
    "Let's see what happens with _compound_ parameters, and let's consider the function below:"
   ]
  },
  {
   "cell_type": "code",
   "execution_count": 115,
   "metadata": {},
   "outputs": [],
   "source": [
    "def sum_positive_values( num_list ):\n",
    "    \"\"\"\n",
    "    Sums positive numbers in the provided list, num_list, and returns this sum\n",
    "    \"\"\"\n",
    "    print( \"Formal parameter num_list ID={} (1)\".format( id( num_list ) ))\n",
    "    \n",
    "    for k in range( len( num_list ) ):\n",
    "        #\n",
    "        if num_list[k] < 0:\n",
    "            #\n",
    "            num_list[k] = 0 # MODIFYING THE ORIGINAL LIST\n",
    "            \n",
    "    return sum( num_list )"
   ]
  },
  {
   "cell_type": "code",
   "execution_count": 116,
   "metadata": {},
   "outputs": [
    {
     "name": "stdout",
     "output_type": "stream",
     "text": [
      "Formal parameter num_list ID=139692746509696 (1)\n"
     ]
    },
    {
     "data": {
      "text/plain": [
       "18"
      ]
     },
     "execution_count": 116,
     "metadata": {},
     "output_type": "execute_result"
    }
   ],
   "source": [
    "nl = [5, -2, 9, 4, -1, 0]\n",
    "\n",
    "sum_positive_values( nl )"
   ]
  },
  {
   "cell_type": "code",
   "execution_count": 117,
   "metadata": {},
   "outputs": [
    {
     "name": "stdout",
     "output_type": "stream",
     "text": [
      "nl ID=139692746509696 (2)\n"
     ]
    }
   ],
   "source": [
    "print( \"nl ID={} (2)\".format( id( nl ) ))"
   ]
  },
  {
   "cell_type": "markdown",
   "metadata": {},
   "source": [
    "So, from the `id(.)` call, we know that the _formal parameter_ of the `sum_positive_values()` function, `num_list` refers to the identical memory location as the _actual parameter_ `nl`."
   ]
  },
  {
   "cell_type": "code",
   "execution_count": 118,
   "metadata": {},
   "outputs": [
    {
     "data": {
      "text/plain": [
       "[5, 0, 9, 4, 0, 0]"
      ]
     },
     "execution_count": 118,
     "metadata": {},
     "output_type": "execute_result"
    }
   ],
   "source": [
    "nl"
   ]
  },
  {
   "cell_type": "markdown",
   "metadata": {},
   "source": [
    "---"
   ]
  },
  {
   "cell_type": "markdown",
   "metadata": {},
   "source": [
    "## Variable/Name Scopes"
   ]
  },
  {
   "cell_type": "markdown",
   "metadata": {},
   "source": [
    "Additional Reading:\n",
    "    \n",
    "> https://docs.python.org/3/tutorial/classes.html#python-scopes-and-namespaces\n",
    "    "
   ]
  },
  {
   "cell_type": "markdown",
   "metadata": {},
   "source": [
    "#### **Golden Rule of Name Lookup:** __GO UP and OUT__\n",
    "\n",
    "If you wish to find the definition that corresponds to a name in a Python program, this is what we do to look that name up:\n",
    "\n",
    "1. Starting with the textual location of where a given name is, go __UP__ in the __text__ of the program, say, within a function _definition_.\n",
    "\n",
    "2. If the name we are looking for has a definition, we pick that definition. Note that both parameters to a function and local variables in that function are considered _local_.\n",
    "\n",
    "3. If not, we go __OUTSIDE__ the current function into the _box_ (_textual environment_) that contains that function and again start with STEP 1 and continue.\n",
    "\n",
    "If we exhaust all enclosing *environments* and still not find a definition for the name we are looking up, then it means Python will issue an error that there is no definition belonging to that name."
   ]
  },
  {
   "cell_type": "markdown",
   "metadata": {},
   "source": [
    "Builtin functions `globals()` and `locals()` will be very useful in studying what happens within a given execution environment."
   ]
  },
  {
   "cell_type": "markdown",
   "metadata": {},
   "source": [
    "Main question is: What's the **scope of name X**?"
   ]
  },
  {
   "cell_type": "markdown",
   "metadata": {},
   "source": [
    "<img src=\"images/legb-scopes.png\" width=300/>"
   ]
  },
  {
   "cell_type": "markdown",
   "metadata": {},
   "source": [
    "Python defines four scopes. Starting from the innermost one, these are the local (L), enclosed (E), global (G), and builtin (B) scopes. This order will be important in the discussion below."
   ]
  },
  {
   "cell_type": "markdown",
   "metadata": {},
   "source": [
    "Some of the material and examples have been inspired by the content on the following pages.\n",
    "\n",
    "References:\n",
    "- https://sebastianraschka.com/Articles/2014_python_scope_and_namespaces.html\n",
    "- https://www.geeksforgeeks.org/scope-resolution-in-python-legb-rule/\n",
    "- https://realpython.com/python-scope-legb-rule/#builtins-the-built-in-scope"
   ]
  },
  {
   "cell_type": "markdown",
   "metadata": {},
   "source": [
    "### 1. Local and Global Scopes (LG)"
   ]
  },
  {
   "cell_type": "code",
   "execution_count": 1,
   "metadata": {},
   "outputs": [
    {
     "name": "stdout",
     "output_type": "stream",
     "text": [
      "--- Globally defined names:\n",
      "__name__\n",
      "__doc__\n",
      "__package__\n",
      "__loader__\n",
      "__spec__\n",
      "__builtin__\n",
      "__builtins__\n",
      "_ih\n",
      "_oh\n",
      "_dh\n",
      "In\n",
      "Out\n",
      "get_ipython\n",
      "exit\n",
      "quit\n",
      "_\n",
      "__\n",
      "___\n",
      "_i\n",
      "_ii\n",
      "_iii\n",
      "_i1\n",
      "X\n",
      "fa\n",
      "glbls\n",
      "\n",
      ">>> Calling fa( Y:22 )\n",
      "--- The value of X is 10\n",
      "--- The value of Y is 22\n",
      "--- The value of Z is 99\n",
      "--- Variables LOCAL to function fa: {'Y': 22, 'Z': 99}\n"
     ]
    }
   ],
   "source": [
    "X = 10 # GLOBAL\n",
    "\n",
    "def fa( Y ):\n",
    "    \"\"\"\n",
    "    Note that X is NOT defined within the body of this function!\n",
    "    \"\"\"\n",
    "    Z = 99\n",
    "    print( \">>> Calling fa( Y:{} )\".format( Y ) )\n",
    "    print( \"--- The value of X is {}\".format( X ) )\n",
    "    print( \"--- The value of Y is {}\".format( Y ) )\n",
    "    print( \"--- The value of Z is {}\".format( Z ) )    \n",
    "    print( \"--- Variables LOCAL to function fa: {}\".format( locals() ) )\n",
    "\n",
    "glbls = globals()\n",
    "print( \"--- Globally defined names:\\n{}\\n\".format( \"\\n\".join( list( glbls.keys() ))))\n",
    "\n",
    "fa( 22 )"
   ]
  },
  {
   "cell_type": "markdown",
   "metadata": {},
   "source": [
    "In the list of names printed above, we can see that `glbls`, `fa`, and `X` have definitions as we would expect."
   ]
  },
  {
   "cell_type": "code",
   "execution_count": 13,
   "metadata": {
    "collapsed": true,
    "jupyter": {
     "outputs_hidden": true
    }
   },
   "outputs": [
    {
     "data": {
      "text/plain": [
       "{'__name__': '__main__',\n",
       " '__doc__': 'Automatically created module for IPython interactive environment',\n",
       " '__package__': None,\n",
       " '__loader__': None,\n",
       " '__spec__': None,\n",
       " '__builtin__': <module 'builtins' (built-in)>,\n",
       " '__builtins__': <module 'builtins' (built-in)>,\n",
       " '_ih': ['',\n",
       "  'def sum_positive_values( num_list ):\\n    \"\"\"\\n    Sums positive numbers in the provided list, num_list, and returns this sum\\n    \"\"\"\\n    print( \"num_list ID={}\".format( id( num_list ) ))\\n    \\n    for k in range( len( num_list ) ):\\n        #\\n        if num_list[k] < 0:\\n            #\\n            num_list[k] = 0\\n            \\n    return sum( num_list )',\n",
       "  'nl = [5, -2, 9, 4, -1]\\nsum_positive_values( nl )',\n",
       "  'nl = [5, -2, 9, 4, -1]\\n\\nsum_positive_values( nl )',\n",
       "  'print( \"num_list ID={}\".format( id( nl ) ))',\n",
       "  'def sum_positive_values( num_list ):\\n    \"\"\"\\n    Sums positive numbers in the provided list, num_list, and returns this sum\\n    \"\"\"\\n    print( \"num_list ID={} (1)\".format( id( num_list ) ))\\n    \\n    for k in range( len( num_list ) ):\\n        #\\n        if num_list[k] < 0:\\n            #\\n            num_list[k] = 0\\n            \\n    return sum( num_list )',\n",
       "  'nl = [5, -2, 9, 4, -1]\\n\\nsum_positive_values( nl )',\n",
       "  'print( \"num_list ID={} (2)\".format( id( nl ) ))',\n",
       "  'nl',\n",
       "  'nl',\n",
       "  'X = 10 # GLOBAL\\n\\ndef fa( Y ):\\n    \"\"\"\\n    Note that X is NOT defined within the body of this function!\\n    \"\"\"\\n    Z = 99\\n    print( \">>> Calling fa( Y:{} )\".format( Y ) )\\n    print( \"--- The value of X is {}\".format( X ) )\\n    print( \"--- The value of Y is {}\".format( Y ) )\\n    print( \"--- The value of Z is {}\".format( Z ) )    \\n    print( \"--- Variables LOCAL to function fa: {}\".format( locals() ) )\\n\\nglbls = globals()\\nprint( \"--- Globally defined names:\\\\n{}\".format( \"\\\\n\".join( list( glbls.keys() ))))\\n\\nfa( 22 )',\n",
       "  'X = 10 # GLOBAL\\n\\ndef fa( Y ):\\n    \"\"\"\\n    Note that X is NOT defined within the body of this function!\\n    \"\"\"\\n    Z = 99\\n    print( \">>> Calling fa( Y:{} )\".format( Y ) )\\n    print( \"--- The value of X is {}\".format( X ) )\\n    print( \"--- The value of Y is {}\".format( Y ) )\\n    print( \"--- The value of Z is {}\".format( Z ) )    \\n    print( \"--- Variables LOCAL to function fa: {}\".format( locals() ) )\\n\\nglbls = globals()\\nprint( \"--- Globally defined names:\\\\n{}\\\\n\".format( \"\\\\n\".join( list( glbls.keys() ))))\\n\\nfa( 22 )',\n",
       "  'X = 10 # GLOBAL\\n\\ndef fa( Y ):\\n    \"\"\"\\n    Note that X is NOT defined within the body of this function!\\n    \"\"\"\\n    Z = 99\\n    print( \">>> Calling fa( Y:{} )\".format( Y ) )\\n    print( \"--- The value of X is {}\".format( X ) )\\n    print( \"--- The value of Y is {}\".format( Y ) )\\n    print( \"--- The value of Z is {}\".format( Z ) )    \\n    print( \"--- Variables LOCAL to function fa: {}\".format( locals() ) )\\n\\nglbls = globals()\\nprint( \"--- Globally defined names:\\\\n{}\\\\n\".format( \"\\\\n\".join( list( glbls.keys() ))))\\n\\nfa( 22 )',\n",
       "  'glbls'],\n",
       " '_oh': {2: 18, 3: 18, 6: 18, 8: [5, 0, 9, 4, 0], 9: [5, 0, 9, 4, 0]},\n",
       " '_dh': ['/home/hsevay/Dropbox/lectures/ecc102/notebooks'],\n",
       " 'In': ['',\n",
       "  'def sum_positive_values( num_list ):\\n    \"\"\"\\n    Sums positive numbers in the provided list, num_list, and returns this sum\\n    \"\"\"\\n    print( \"num_list ID={}\".format( id( num_list ) ))\\n    \\n    for k in range( len( num_list ) ):\\n        #\\n        if num_list[k] < 0:\\n            #\\n            num_list[k] = 0\\n            \\n    return sum( num_list )',\n",
       "  'nl = [5, -2, 9, 4, -1]\\nsum_positive_values( nl )',\n",
       "  'nl = [5, -2, 9, 4, -1]\\n\\nsum_positive_values( nl )',\n",
       "  'print( \"num_list ID={}\".format( id( nl ) ))',\n",
       "  'def sum_positive_values( num_list ):\\n    \"\"\"\\n    Sums positive numbers in the provided list, num_list, and returns this sum\\n    \"\"\"\\n    print( \"num_list ID={} (1)\".format( id( num_list ) ))\\n    \\n    for k in range( len( num_list ) ):\\n        #\\n        if num_list[k] < 0:\\n            #\\n            num_list[k] = 0\\n            \\n    return sum( num_list )',\n",
       "  'nl = [5, -2, 9, 4, -1]\\n\\nsum_positive_values( nl )',\n",
       "  'print( \"num_list ID={} (2)\".format( id( nl ) ))',\n",
       "  'nl',\n",
       "  'nl',\n",
       "  'X = 10 # GLOBAL\\n\\ndef fa( Y ):\\n    \"\"\"\\n    Note that X is NOT defined within the body of this function!\\n    \"\"\"\\n    Z = 99\\n    print( \">>> Calling fa( Y:{} )\".format( Y ) )\\n    print( \"--- The value of X is {}\".format( X ) )\\n    print( \"--- The value of Y is {}\".format( Y ) )\\n    print( \"--- The value of Z is {}\".format( Z ) )    \\n    print( \"--- Variables LOCAL to function fa: {}\".format( locals() ) )\\n\\nglbls = globals()\\nprint( \"--- Globally defined names:\\\\n{}\".format( \"\\\\n\".join( list( glbls.keys() ))))\\n\\nfa( 22 )',\n",
       "  'X = 10 # GLOBAL\\n\\ndef fa( Y ):\\n    \"\"\"\\n    Note that X is NOT defined within the body of this function!\\n    \"\"\"\\n    Z = 99\\n    print( \">>> Calling fa( Y:{} )\".format( Y ) )\\n    print( \"--- The value of X is {}\".format( X ) )\\n    print( \"--- The value of Y is {}\".format( Y ) )\\n    print( \"--- The value of Z is {}\".format( Z ) )    \\n    print( \"--- Variables LOCAL to function fa: {}\".format( locals() ) )\\n\\nglbls = globals()\\nprint( \"--- Globally defined names:\\\\n{}\\\\n\".format( \"\\\\n\".join( list( glbls.keys() ))))\\n\\nfa( 22 )',\n",
       "  'X = 10 # GLOBAL\\n\\ndef fa( Y ):\\n    \"\"\"\\n    Note that X is NOT defined within the body of this function!\\n    \"\"\"\\n    Z = 99\\n    print( \">>> Calling fa( Y:{} )\".format( Y ) )\\n    print( \"--- The value of X is {}\".format( X ) )\\n    print( \"--- The value of Y is {}\".format( Y ) )\\n    print( \"--- The value of Z is {}\".format( Z ) )    \\n    print( \"--- Variables LOCAL to function fa: {}\".format( locals() ) )\\n\\nglbls = globals()\\nprint( \"--- Globally defined names:\\\\n{}\\\\n\".format( \"\\\\n\".join( list( glbls.keys() ))))\\n\\nfa( 22 )',\n",
       "  'glbls'],\n",
       " 'Out': {2: 18, 3: 18, 6: 18, 8: [5, 0, 9, 4, 0], 9: [5, 0, 9, 4, 0]},\n",
       " 'get_ipython': <bound method InteractiveShell.get_ipython of <ipykernel.zmqshell.ZMQInteractiveShell object at 0x7f2b0c7c7f70>>,\n",
       " 'exit': <IPython.core.autocall.ZMQExitAutocall at 0x7f2b09747850>,\n",
       " 'quit': <IPython.core.autocall.ZMQExitAutocall at 0x7f2b09747850>,\n",
       " '_': [5, 0, 9, 4, 0],\n",
       " '__': [5, 0, 9, 4, 0],\n",
       " '___': 18,\n",
       " '_i': 'X = 10 # GLOBAL\\n\\ndef fa( Y ):\\n    \"\"\"\\n    Note that X is NOT defined within the body of this function!\\n    \"\"\"\\n    Z = 99\\n    print( \">>> Calling fa( Y:{} )\".format( Y ) )\\n    print( \"--- The value of X is {}\".format( X ) )\\n    print( \"--- The value of Y is {}\".format( Y ) )\\n    print( \"--- The value of Z is {}\".format( Z ) )    \\n    print( \"--- Variables LOCAL to function fa: {}\".format( locals() ) )\\n\\nglbls = globals()\\nprint( \"--- Globally defined names:\\\\n{}\\\\n\".format( \"\\\\n\".join( list( glbls.keys() ))))\\n\\nfa( 22 )',\n",
       " '_ii': 'X = 10 # GLOBAL\\n\\ndef fa( Y ):\\n    \"\"\"\\n    Note that X is NOT defined within the body of this function!\\n    \"\"\"\\n    Z = 99\\n    print( \">>> Calling fa( Y:{} )\".format( Y ) )\\n    print( \"--- The value of X is {}\".format( X ) )\\n    print( \"--- The value of Y is {}\".format( Y ) )\\n    print( \"--- The value of Z is {}\".format( Z ) )    \\n    print( \"--- Variables LOCAL to function fa: {}\".format( locals() ) )\\n\\nglbls = globals()\\nprint( \"--- Globally defined names:\\\\n{}\\\\n\".format( \"\\\\n\".join( list( glbls.keys() ))))\\n\\nfa( 22 )',\n",
       " '_iii': 'X = 10 # GLOBAL\\n\\ndef fa( Y ):\\n    \"\"\"\\n    Note that X is NOT defined within the body of this function!\\n    \"\"\"\\n    Z = 99\\n    print( \">>> Calling fa( Y:{} )\".format( Y ) )\\n    print( \"--- The value of X is {}\".format( X ) )\\n    print( \"--- The value of Y is {}\".format( Y ) )\\n    print( \"--- The value of Z is {}\".format( Z ) )    \\n    print( \"--- Variables LOCAL to function fa: {}\".format( locals() ) )\\n\\nglbls = globals()\\nprint( \"--- Globally defined names:\\\\n{}\".format( \"\\\\n\".join( list( glbls.keys() ))))\\n\\nfa( 22 )',\n",
       " '_i1': 'def sum_positive_values( num_list ):\\n    \"\"\"\\n    Sums positive numbers in the provided list, num_list, and returns this sum\\n    \"\"\"\\n    print( \"num_list ID={}\".format( id( num_list ) ))\\n    \\n    for k in range( len( num_list ) ):\\n        #\\n        if num_list[k] < 0:\\n            #\\n            num_list[k] = 0\\n            \\n    return sum( num_list )',\n",
       " 'sum_positive_values': <function __main__.sum_positive_values(num_list)>,\n",
       " '_i2': 'nl = [5, -2, 9, 4, -1]\\nsum_positive_values( nl )',\n",
       " 'nl': [5, 0, 9, 4, 0],\n",
       " '_2': 18,\n",
       " '_i3': 'nl = [5, -2, 9, 4, -1]\\n\\nsum_positive_values( nl )',\n",
       " '_3': 18,\n",
       " '_i4': 'print( \"num_list ID={}\".format( id( nl ) ))',\n",
       " '_i5': 'def sum_positive_values( num_list ):\\n    \"\"\"\\n    Sums positive numbers in the provided list, num_list, and returns this sum\\n    \"\"\"\\n    print( \"num_list ID={} (1)\".format( id( num_list ) ))\\n    \\n    for k in range( len( num_list ) ):\\n        #\\n        if num_list[k] < 0:\\n            #\\n            num_list[k] = 0\\n            \\n    return sum( num_list )',\n",
       " '_i6': 'nl = [5, -2, 9, 4, -1]\\n\\nsum_positive_values( nl )',\n",
       " '_6': 18,\n",
       " '_i7': 'print( \"num_list ID={} (2)\".format( id( nl ) ))',\n",
       " '_i8': 'nl',\n",
       " '_8': [5, 0, 9, 4, 0],\n",
       " '_i9': 'nl',\n",
       " '_9': [5, 0, 9, 4, 0],\n",
       " '_i10': 'X = 10 # GLOBAL\\n\\ndef fa( Y ):\\n    \"\"\"\\n    Note that X is NOT defined within the body of this function!\\n    \"\"\"\\n    Z = 99\\n    print( \">>> Calling fa( Y:{} )\".format( Y ) )\\n    print( \"--- The value of X is {}\".format( X ) )\\n    print( \"--- The value of Y is {}\".format( Y ) )\\n    print( \"--- The value of Z is {}\".format( Z ) )    \\n    print( \"--- Variables LOCAL to function fa: {}\".format( locals() ) )\\n\\nglbls = globals()\\nprint( \"--- Globally defined names:\\\\n{}\".format( \"\\\\n\".join( list( glbls.keys() ))))\\n\\nfa( 22 )',\n",
       " 'X': 10,\n",
       " 'fa': <function __main__.fa(Y)>,\n",
       " 'glbls': {...},\n",
       " '_i11': 'X = 10 # GLOBAL\\n\\ndef fa( Y ):\\n    \"\"\"\\n    Note that X is NOT defined within the body of this function!\\n    \"\"\"\\n    Z = 99\\n    print( \">>> Calling fa( Y:{} )\".format( Y ) )\\n    print( \"--- The value of X is {}\".format( X ) )\\n    print( \"--- The value of Y is {}\".format( Y ) )\\n    print( \"--- The value of Z is {}\".format( Z ) )    \\n    print( \"--- Variables LOCAL to function fa: {}\".format( locals() ) )\\n\\nglbls = globals()\\nprint( \"--- Globally defined names:\\\\n{}\\\\n\".format( \"\\\\n\".join( list( glbls.keys() ))))\\n\\nfa( 22 )',\n",
       " '_i12': 'X = 10 # GLOBAL\\n\\ndef fa( Y ):\\n    \"\"\"\\n    Note that X is NOT defined within the body of this function!\\n    \"\"\"\\n    Z = 99\\n    print( \">>> Calling fa( Y:{} )\".format( Y ) )\\n    print( \"--- The value of X is {}\".format( X ) )\\n    print( \"--- The value of Y is {}\".format( Y ) )\\n    print( \"--- The value of Z is {}\".format( Z ) )    \\n    print( \"--- Variables LOCAL to function fa: {}\".format( locals() ) )\\n\\nglbls = globals()\\nprint( \"--- Globally defined names:\\\\n{}\\\\n\".format( \"\\\\n\".join( list( glbls.keys() ))))\\n\\nfa( 22 )',\n",
       " '_i13': 'glbls'}"
      ]
     },
     "execution_count": 13,
     "metadata": {},
     "output_type": "execute_result"
    }
   ],
   "source": [
    "glbls"
   ]
  },
  {
   "cell_type": "code",
   "execution_count": 14,
   "metadata": {},
   "outputs": [
    {
     "data": {
      "text/plain": [
       "10"
      ]
     },
     "execution_count": 14,
     "metadata": {},
     "output_type": "execute_result"
    }
   ],
   "source": [
    "glbls[\"X\"]"
   ]
  },
  {
   "cell_type": "code",
   "execution_count": 15,
   "metadata": {},
   "outputs": [
    {
     "data": {
      "text/plain": [
       "<function __main__.fa(Y)>"
      ]
     },
     "execution_count": 15,
     "metadata": {},
     "output_type": "execute_result"
    }
   ],
   "source": [
    "glbls['fa']"
   ]
  },
  {
   "cell_type": "code",
   "execution_count": 11,
   "metadata": {
    "collapsed": true,
    "jupyter": {
     "outputs_hidden": true
    }
   },
   "outputs": [
    {
     "data": {
      "text/plain": [
       "{'__name__': '__main__',\n",
       " '__doc__': 'Automatically created module for IPython interactive environment',\n",
       " '__package__': None,\n",
       " '__loader__': None,\n",
       " '__spec__': None,\n",
       " '__builtin__': <module 'builtins' (built-in)>,\n",
       " '__builtins__': <module 'builtins' (built-in)>,\n",
       " '_ih': ['',\n",
       "  'X = 10 # GLOBAL\\n\\ndef fa( Y ):\\n    \"\"\"\\n    Note that X is NOT defined within the body of this function!\\n    \"\"\"\\n    Z = 99\\n    print( \"--- Calling fa( Y:{} )\".format( Y ) )\\n    print( \"--- The value of X is {}\".format( X ) )\\n    print( \"--- The value of Y is {}\".format( Y ) )\\n    print( \"--- The value of Z is {}\".format( Z ) )    \\n    print( \"--- Variables LOCAL to function fa: {}\".format( locals() ) )\\n\\nglbls = globals()\\nprint( \"--- Global variables: {}\".format( glbls ) )\\n\\nfa( 22 )',\n",
       "  'X = 10 # GLOBAL\\n\\ndef fa( Y ):\\n    \"\"\"\\n    Note that X is NOT defined within the body of this function!\\n    \"\"\"\\n    Z = 99\\n    print( \"--- Calling fa( Y:{} )\".format( Y ) )\\n    print( \"--- The value of X is {}\".format( X ) )\\n    print( \"--- The value of Y is {}\".format( Y ) )\\n    print( \"--- The value of Z is {}\".format( Z ) )    \\n    print( \"--- Variables LOCAL to function fa: {}\".format( locals() ) )\\n\\nglbls = globals()\\nprint( \"--- Globally defined names: {}\".format( glbls.keys() ) )\\n\\nfa( 22 )',\n",
       "  'X = 10 # GLOBAL\\n\\ndef fa( Y ):\\n    \"\"\"\\n    Note that X is NOT defined within the body of this function!\\n    \"\"\"\\n    Z = 99\\n    print( \"--- Calling fa( Y:{} )\".format( Y ) )\\n    print( \"--- The value of X is {}\".format( X ) )\\n    print( \"--- The value of Y is {}\".format( Y ) )\\n    print( \"--- The value of Z is {}\".format( Z ) )    \\n    print( \"--- Variables LOCAL to function fa: {}\".format( locals() ) )\\n\\nglbls = globals()\\nprint( \"--- Globally defined names: {}\".format( list( glbls.keys() )) )\\n\\nfa( 22 )',\n",
       "  'X = 10 # GLOBAL\\n\\ndef fa( Y ):\\n    \"\"\"\\n    Note that X is NOT defined within the body of this function!\\n    \"\"\"\\n    Z = 99\\n    print( \"--- Calling fa( Y:{} )\".format( Y ) )\\n    print( \"--- The value of X is {}\".format( X ) )\\n    print( \"--- The value of Y is {}\".format( Y ) )\\n    print( \"--- The value of Z is {}\".format( Z ) )    \\n    print( \"--- Variables LOCAL to function fa: {}\".format( locals() ) )\\n\\nglbls = globals()\\nprint( \"--- Globally defined names: {}\".format( \"\\\\n\".join( list( glbls.keys() ))))\\n\\nfa( 22 )',\n",
       "  'X = 10 # GLOBAL\\n\\ndef fa( Y ):\\n    \"\"\"\\n    Note that X is NOT defined within the body of this function!\\n    \"\"\"\\n    Z = 99\\n    print( \"--- Calling fa( Y:{} )\".format( Y ) )\\n    print( \"--- The value of X is {}\".format( X ) )\\n    print( \"--- The value of Y is {}\".format( Y ) )\\n    print( \"--- The value of Z is {}\".format( Z ) )    \\n    print( \"--- Variables LOCAL to function fa: {}\".format( locals() ) )\\n\\nglbls = globals()\\nprint( \"--- Globally defined names:\\\\n{}\".format( \"\\\\n\".join( list( glbls.keys() ))))\\n\\nfa( 22 )',\n",
       "  'X = 10 # GLOBAL\\n\\ndef fa( Y ):\\n    \"\"\"\\n    Note that X is NOT defined within the body of this function!\\n    \"\"\"\\n    Z = 99\\n    print( \"--- Calling fa( Y:{} )\".format( Y ) )\\n    print( \"--- The value of X is {}\".format( X ) )\\n    print( \"--- The value of Y is {}\".format( Y ) )\\n    print( \"--- The value of Z is {}\".format( Z ) )    \\n    print( \"--- Variables LOCAL to function fa: {}\".format( locals() ) )\\n\\nglbls = globals()\\nprint( \"--- Globally defined names:\\\\n{}\".format( \"\\\\n\".join( list( glbls.keys() ))))\\n\\nfa( 22 )',\n",
       "  'glbls',\n",
       "  'glbls[\"X\"]',\n",
       "  'glbls[\"X\"]',\n",
       "  \"glbls['fa']\",\n",
       "  \"glbls['glbls']\"],\n",
       " '_oh': {7: {...}, 8: 10, 9: 10, 10: <function __main__.fa(Y)>},\n",
       " '_dh': ['/home/hsevay/Dropbox/lectures/ecc102/notebooks'],\n",
       " 'In': ['',\n",
       "  'X = 10 # GLOBAL\\n\\ndef fa( Y ):\\n    \"\"\"\\n    Note that X is NOT defined within the body of this function!\\n    \"\"\"\\n    Z = 99\\n    print( \"--- Calling fa( Y:{} )\".format( Y ) )\\n    print( \"--- The value of X is {}\".format( X ) )\\n    print( \"--- The value of Y is {}\".format( Y ) )\\n    print( \"--- The value of Z is {}\".format( Z ) )    \\n    print( \"--- Variables LOCAL to function fa: {}\".format( locals() ) )\\n\\nglbls = globals()\\nprint( \"--- Global variables: {}\".format( glbls ) )\\n\\nfa( 22 )',\n",
       "  'X = 10 # GLOBAL\\n\\ndef fa( Y ):\\n    \"\"\"\\n    Note that X is NOT defined within the body of this function!\\n    \"\"\"\\n    Z = 99\\n    print( \"--- Calling fa( Y:{} )\".format( Y ) )\\n    print( \"--- The value of X is {}\".format( X ) )\\n    print( \"--- The value of Y is {}\".format( Y ) )\\n    print( \"--- The value of Z is {}\".format( Z ) )    \\n    print( \"--- Variables LOCAL to function fa: {}\".format( locals() ) )\\n\\nglbls = globals()\\nprint( \"--- Globally defined names: {}\".format( glbls.keys() ) )\\n\\nfa( 22 )',\n",
       "  'X = 10 # GLOBAL\\n\\ndef fa( Y ):\\n    \"\"\"\\n    Note that X is NOT defined within the body of this function!\\n    \"\"\"\\n    Z = 99\\n    print( \"--- Calling fa( Y:{} )\".format( Y ) )\\n    print( \"--- The value of X is {}\".format( X ) )\\n    print( \"--- The value of Y is {}\".format( Y ) )\\n    print( \"--- The value of Z is {}\".format( Z ) )    \\n    print( \"--- Variables LOCAL to function fa: {}\".format( locals() ) )\\n\\nglbls = globals()\\nprint( \"--- Globally defined names: {}\".format( list( glbls.keys() )) )\\n\\nfa( 22 )',\n",
       "  'X = 10 # GLOBAL\\n\\ndef fa( Y ):\\n    \"\"\"\\n    Note that X is NOT defined within the body of this function!\\n    \"\"\"\\n    Z = 99\\n    print( \"--- Calling fa( Y:{} )\".format( Y ) )\\n    print( \"--- The value of X is {}\".format( X ) )\\n    print( \"--- The value of Y is {}\".format( Y ) )\\n    print( \"--- The value of Z is {}\".format( Z ) )    \\n    print( \"--- Variables LOCAL to function fa: {}\".format( locals() ) )\\n\\nglbls = globals()\\nprint( \"--- Globally defined names: {}\".format( \"\\\\n\".join( list( glbls.keys() ))))\\n\\nfa( 22 )',\n",
       "  'X = 10 # GLOBAL\\n\\ndef fa( Y ):\\n    \"\"\"\\n    Note that X is NOT defined within the body of this function!\\n    \"\"\"\\n    Z = 99\\n    print( \"--- Calling fa( Y:{} )\".format( Y ) )\\n    print( \"--- The value of X is {}\".format( X ) )\\n    print( \"--- The value of Y is {}\".format( Y ) )\\n    print( \"--- The value of Z is {}\".format( Z ) )    \\n    print( \"--- Variables LOCAL to function fa: {}\".format( locals() ) )\\n\\nglbls = globals()\\nprint( \"--- Globally defined names:\\\\n{}\".format( \"\\\\n\".join( list( glbls.keys() ))))\\n\\nfa( 22 )',\n",
       "  'X = 10 # GLOBAL\\n\\ndef fa( Y ):\\n    \"\"\"\\n    Note that X is NOT defined within the body of this function!\\n    \"\"\"\\n    Z = 99\\n    print( \"--- Calling fa( Y:{} )\".format( Y ) )\\n    print( \"--- The value of X is {}\".format( X ) )\\n    print( \"--- The value of Y is {}\".format( Y ) )\\n    print( \"--- The value of Z is {}\".format( Z ) )    \\n    print( \"--- Variables LOCAL to function fa: {}\".format( locals() ) )\\n\\nglbls = globals()\\nprint( \"--- Globally defined names:\\\\n{}\".format( \"\\\\n\".join( list( glbls.keys() ))))\\n\\nfa( 22 )',\n",
       "  'glbls',\n",
       "  'glbls[\"X\"]',\n",
       "  'glbls[\"X\"]',\n",
       "  \"glbls['fa']\",\n",
       "  \"glbls['glbls']\"],\n",
       " 'Out': {7: {...}, 8: 10, 9: 10, 10: <function __main__.fa(Y)>},\n",
       " 'get_ipython': <bound method InteractiveShell.get_ipython of <ipykernel.zmqshell.ZMQInteractiveShell object at 0x7f0169621150>>,\n",
       " 'exit': <IPython.core.autocall.ZMQExitAutocall at 0x7f0164a723d0>,\n",
       " 'quit': <IPython.core.autocall.ZMQExitAutocall at 0x7f0164a723d0>,\n",
       " '_': <function __main__.fa(Y)>,\n",
       " '__': 10,\n",
       " '___': 10,\n",
       " '_i': \"glbls['fa']\",\n",
       " '_ii': 'glbls[\"X\"]',\n",
       " '_iii': 'glbls[\"X\"]',\n",
       " '_i1': 'X = 10 # GLOBAL\\n\\ndef fa( Y ):\\n    \"\"\"\\n    Note that X is NOT defined within the body of this function!\\n    \"\"\"\\n    Z = 99\\n    print( \"--- Calling fa( Y:{} )\".format( Y ) )\\n    print( \"--- The value of X is {}\".format( X ) )\\n    print( \"--- The value of Y is {}\".format( Y ) )\\n    print( \"--- The value of Z is {}\".format( Z ) )    \\n    print( \"--- Variables LOCAL to function fa: {}\".format( locals() ) )\\n\\nglbls = globals()\\nprint( \"--- Global variables: {}\".format( glbls ) )\\n\\nfa( 22 )',\n",
       " 'X': 10,\n",
       " 'fa': <function __main__.fa(Y)>,\n",
       " 'glbls': {...},\n",
       " '_i2': 'X = 10 # GLOBAL\\n\\ndef fa( Y ):\\n    \"\"\"\\n    Note that X is NOT defined within the body of this function!\\n    \"\"\"\\n    Z = 99\\n    print( \"--- Calling fa( Y:{} )\".format( Y ) )\\n    print( \"--- The value of X is {}\".format( X ) )\\n    print( \"--- The value of Y is {}\".format( Y ) )\\n    print( \"--- The value of Z is {}\".format( Z ) )    \\n    print( \"--- Variables LOCAL to function fa: {}\".format( locals() ) )\\n\\nglbls = globals()\\nprint( \"--- Globally defined names: {}\".format( glbls.keys() ) )\\n\\nfa( 22 )',\n",
       " '_i3': 'X = 10 # GLOBAL\\n\\ndef fa( Y ):\\n    \"\"\"\\n    Note that X is NOT defined within the body of this function!\\n    \"\"\"\\n    Z = 99\\n    print( \"--- Calling fa( Y:{} )\".format( Y ) )\\n    print( \"--- The value of X is {}\".format( X ) )\\n    print( \"--- The value of Y is {}\".format( Y ) )\\n    print( \"--- The value of Z is {}\".format( Z ) )    \\n    print( \"--- Variables LOCAL to function fa: {}\".format( locals() ) )\\n\\nglbls = globals()\\nprint( \"--- Globally defined names: {}\".format( list( glbls.keys() )) )\\n\\nfa( 22 )',\n",
       " '_i4': 'X = 10 # GLOBAL\\n\\ndef fa( Y ):\\n    \"\"\"\\n    Note that X is NOT defined within the body of this function!\\n    \"\"\"\\n    Z = 99\\n    print( \"--- Calling fa( Y:{} )\".format( Y ) )\\n    print( \"--- The value of X is {}\".format( X ) )\\n    print( \"--- The value of Y is {}\".format( Y ) )\\n    print( \"--- The value of Z is {}\".format( Z ) )    \\n    print( \"--- Variables LOCAL to function fa: {}\".format( locals() ) )\\n\\nglbls = globals()\\nprint( \"--- Globally defined names: {}\".format( \"\\\\n\".join( list( glbls.keys() ))))\\n\\nfa( 22 )',\n",
       " '_i5': 'X = 10 # GLOBAL\\n\\ndef fa( Y ):\\n    \"\"\"\\n    Note that X is NOT defined within the body of this function!\\n    \"\"\"\\n    Z = 99\\n    print( \"--- Calling fa( Y:{} )\".format( Y ) )\\n    print( \"--- The value of X is {}\".format( X ) )\\n    print( \"--- The value of Y is {}\".format( Y ) )\\n    print( \"--- The value of Z is {}\".format( Z ) )    \\n    print( \"--- Variables LOCAL to function fa: {}\".format( locals() ) )\\n\\nglbls = globals()\\nprint( \"--- Globally defined names:\\\\n{}\".format( \"\\\\n\".join( list( glbls.keys() ))))\\n\\nfa( 22 )',\n",
       " '_i6': 'X = 10 # GLOBAL\\n\\ndef fa( Y ):\\n    \"\"\"\\n    Note that X is NOT defined within the body of this function!\\n    \"\"\"\\n    Z = 99\\n    print( \"--- Calling fa( Y:{} )\".format( Y ) )\\n    print( \"--- The value of X is {}\".format( X ) )\\n    print( \"--- The value of Y is {}\".format( Y ) )\\n    print( \"--- The value of Z is {}\".format( Z ) )    \\n    print( \"--- Variables LOCAL to function fa: {}\".format( locals() ) )\\n\\nglbls = globals()\\nprint( \"--- Globally defined names:\\\\n{}\".format( \"\\\\n\".join( list( glbls.keys() ))))\\n\\nfa( 22 )',\n",
       " '_i7': 'glbls',\n",
       " '_7': {...},\n",
       " '_i8': 'glbls[\"X\"]',\n",
       " '_8': 10,\n",
       " '_i9': 'glbls[\"X\"]',\n",
       " '_9': 10,\n",
       " '_i10': \"glbls['fa']\",\n",
       " '_10': <function __main__.fa(Y)>,\n",
       " '_i11': \"glbls['glbls']\"}"
      ]
     },
     "execution_count": 11,
     "metadata": {},
     "output_type": "execute_result"
    }
   ],
   "source": [
    "glbls['glbls']"
   ]
  },
  {
   "cell_type": "markdown",
   "metadata": {},
   "source": [
    "Here, we are outside the _scope_ of function `fa()`. That is, we are in the _global scope_. So variables that are \"local\" to the global scope and the global variables are one and the same thing!"
   ]
  },
  {
   "cell_type": "code",
   "execution_count": 2,
   "metadata": {},
   "outputs": [
    {
     "data": {
      "text/plain": [
       "True"
      ]
     },
     "execution_count": 2,
     "metadata": {},
     "output_type": "execute_result"
    }
   ],
   "source": [
    "locals() == globals() # Executing this statement in the GLOBAL scope"
   ]
  },
  {
   "cell_type": "markdown",
   "metadata": {},
   "source": [
    "This statement would not return `True` inside function `fa()` obviously!"
   ]
  },
  {
   "cell_type": "code",
   "execution_count": 3,
   "metadata": {},
   "outputs": [
    {
     "data": {
      "text/plain": [
       "True"
      ]
     },
     "execution_count": 3,
     "metadata": {},
     "output_type": "execute_result"
    }
   ],
   "source": [
    "\"fa\" in glbls"
   ]
  },
  {
   "cell_type": "code",
   "execution_count": 4,
   "metadata": {},
   "outputs": [
    {
     "data": {
      "text/plain": [
       "True"
      ]
     },
     "execution_count": 4,
     "metadata": {},
     "output_type": "execute_result"
    }
   ],
   "source": [
    "\"X\" in glbls"
   ]
  },
  {
   "cell_type": "code",
   "execution_count": 5,
   "metadata": {},
   "outputs": [
    {
     "data": {
      "text/plain": [
       "False"
      ]
     },
     "execution_count": 5,
     "metadata": {},
     "output_type": "execute_result"
    }
   ],
   "source": [
    "\"Y\" in glbls"
   ]
  },
  {
   "cell_type": "code",
   "execution_count": 6,
   "metadata": {},
   "outputs": [
    {
     "data": {
      "text/plain": [
       "False"
      ]
     },
     "execution_count": 6,
     "metadata": {},
     "output_type": "execute_result"
    }
   ],
   "source": [
    "\"Z\" in glbls"
   ]
  },
  {
   "cell_type": "markdown",
   "metadata": {},
   "source": [
    "#### Shadowing of Names"
   ]
  },
  {
   "cell_type": "code",
   "execution_count": 7,
   "metadata": {},
   "outputs": [
    {
     "name": "stdout",
     "output_type": "stream",
     "text": [
      "--- Calling fb( X:88 )\n",
      "--- Variables LOCAL to function fb: {'X': 88, 'Z': 99}\n",
      "--- The value of X is 88 (id: 94158766024736)\n",
      "--- The value of Y is 55 (id: 94158766023680)\n",
      "--- The value of Z is 99 (id: 94158766025088)\n",
      "\n",
      "--- The global X is 10   (id: 94158766022240)\n",
      "--- The global Y is 55   (id: 94158766023680)\n"
     ]
    }
   ],
   "source": [
    "X = 10 # Global X\n",
    "Y = 55 # Global Y\n",
    "\n",
    "def fb( X ):\n",
    "    \"\"\"\n",
    "    Note that X, which is a function parameter, is now a local variable, and\n",
    "    it will shadow the global X!\n",
    "    \"\"\"\n",
    "    Z = 99\n",
    "    print( \"--- Calling fb( X:{} )\".format( X ) )\n",
    "    print( \"--- Variables LOCAL to function fb: {}\".format( locals() ) )\n",
    "    print( f\"--- The value of X is {X} (id: {id( X )})\" )\n",
    "    print( f\"--- The value of Y is {Y} (id: {id( Y )})\" )\n",
    "    print( f\"--- The value of Z is {Z} (id: {id( Z )})\" )\n",
    "\n",
    "glbls = globals()\n",
    "#print( \"--- Global variables: {}\".format( glbls ) )\n",
    "\n",
    "fb( 88 )\n",
    "\n",
    "print()\n",
    "print( f\"--- The global X is {X}   (id: {id( X )})\" )\n",
    "print( f\"--- The global Y is {Y}   (id: {id( Y )})\" )"
   ]
  },
  {
   "cell_type": "markdown",
   "metadata": {},
   "source": [
    "The `X` argument to function `fb()` shadows the global `X` value. Note that these two names refer to two separate physical memory locations. Their names may be identical, but that is the only thing that is identical about them. This is similar to having two students with the same name in a class. They may have the same name, but they are separate entities."
   ]
  },
  {
   "cell_type": "markdown",
   "metadata": {},
   "source": [
    "### 2. Local, Enclosed, and Global Scopes (LEG)"
   ]
  },
  {
   "cell_type": "markdown",
   "metadata": {},
   "source": [
    "We may have inner functions or classes defined within others. Actually, you will need to get used to the idea of defining _inner functions_, because, sometimes, you need to return functions!\n",
    "\n",
    "Let us consider the following scenario."
   ]
  },
  {
   "cell_type": "code",
   "execution_count": 9,
   "metadata": {},
   "outputs": [
    {
     "name": "stdout",
     "output_type": "stream",
     "text": [
      "--------------------------------------------------------------------------------\n",
      "Calling f_outer() ...\n",
      "--------------------------------------------------------------------------------\n",
      "--- Defined A as enclosed-A\n",
      "--- Defined B as enclosed-B\n",
      "\n",
      "--------------------------------------------------------------------------------\n",
      "Calling f_inner() ...\n",
      "--------------------------------------------------------------------------------\n",
      "f_inner: A=inner-A\n",
      "f_inner: B=enclosed-B\n",
      "f_inner: C=global-C\n",
      "\n",
      "--- Local variables within f_inner:\n",
      "{'A': 'inner-A',\n",
      " 'B': 'enclosed-B',\n",
      " 'D': 'inner-A/enclosed-B/global-C',\n",
      " 'f_inner': <function f_outer.<locals>.f_inner at 0x7f7b6c236040>}\n",
      "\n",
      "(1) f_inner() returned: inner-A/enclosed-B/global-C\n",
      ">>>>>>>>>>>>>>>>>>>>>>>>>>>>>>>>>>>>>>>>>>>>>>>>>>>>>>>>>>>>>>>>>>>>>>>>>>>>>>>>\n",
      "--- Defined E as enclosed-A>enclosed-B>global-C\n",
      "--- Redefined B as new-enclosed-B\n",
      "\n",
      "--- Local variables within f_outer:\n",
      "{'A': 'enclosed-A',\n",
      " 'B': 'new-enclosed-B',\n",
      " 'E': 'enclosed-A>enclosed-B>global-C',\n",
      " 'f_inner': <function f_outer.<locals>.f_inner at 0x7f7b6c236040>,\n",
      " 'retval_1': 'inner-A/enclosed-B/global-C'}\n",
      "\n",
      "f_outer() in locals? False\n",
      "f_outer() in globals? True\n",
      "\n",
      "f_outer: A=enclosed-A\n",
      "f_outer: B=new-enclosed-B\n",
      "f_outer: C=global-C\n",
      "\n",
      "--- Redefined C as new-global-C\n",
      "\n",
      "--------------------------------------------------------------------------------\n",
      "Calling f_inner() ...\n",
      "--------------------------------------------------------------------------------\n",
      "f_inner: A=inner-A\n",
      "f_inner: B=new-enclosed-B\n",
      "f_inner: C=new-global-C\n",
      "\n",
      "--- Local variables within f_inner:\n",
      "{'A': 'inner-A',\n",
      " 'B': 'new-enclosed-B',\n",
      " 'D': 'inner-A/new-enclosed-B/new-global-C',\n",
      " 'f_inner': <function f_outer.<locals>.f_inner at 0x7f7b6c236040>}\n",
      "\n",
      "(2) f_inner() returned: inner-A/new-enclosed-B/new-global-C\n",
      "\n",
      "f_inner() in locals? False\n",
      "f_inner() in globals? False\n",
      "\n",
      "\n",
      "\n",
      "--- Are locals() identical to globals() in the GLOBAL scope? True\n"
     ]
    }
   ],
   "source": [
    "from pprint import pprint, pformat\n",
    "\n",
    "A = 'global-A'\n",
    "B = 'global-B'\n",
    "C = 'global-C'\n",
    "\n",
    "def f_outer():\n",
    "    \"\"\"\n",
    "    Note the inner function defined within this one.\n",
    "    \"\"\"\n",
    "    A = 'enclosed-A'\n",
    "    B = 'enclosed-B'\n",
    "    \n",
    "    print( f\"--- Defined A as {A}\" )\n",
    "    print( f\"--- Defined B as {B}\" )    \n",
    "    \n",
    "    def f_inner():\n",
    "        \"\"\"\n",
    "        An inner function defined within f_outer.\n",
    "        \"\"\"\n",
    "        A = 'inner-A'\n",
    "\n",
    "        print( f\"{f_inner.__name__}: A={A}\" )\n",
    "        print( f\"{f_inner.__name__}: B={B}\" )\n",
    "        print( f\"{f_inner.__name__}: C={C}\" )\n",
    "        \n",
    "        # Creating a local variable, D, within f_inner()\n",
    "        #\n",
    "        D = A + \"/\" + B + \"/\"+ C\n",
    "        \n",
    "        print( \"\\n--- Local variables within {}:\\n{}\\n\".format( f_inner.__name__, pformat( locals() ) ))\n",
    "        \n",
    "        return D\n",
    "\n",
    "    print( \"\" )\n",
    "    print( \"-\" * 80 )\n",
    "    print( \"Calling f_inner() ...\" )\n",
    "    print( \"-\" * 80 )\n",
    "    \n",
    "    # Call the inner function from within the outer function. Then\n",
    "    # return the inner function to the calling context.\n",
    "    #\n",
    "    retval_1 = f_inner()\n",
    "    print( f\"(1) f_inner() returned: {retval_1}\" )\n",
    "    \n",
    "    print( \">\" * 80 )\n",
    "    \n",
    "    # Creating a local variable, E, within f_outer()\n",
    "    #\n",
    "    E = A + \">\" + B + \">\"+ C\n",
    "    \n",
    "    # Let's modify one of the enclosed variables in f_outer(), but\n",
    "    # let's do this *after* we create E right above.\n",
    "    #\n",
    "    B = 'new-enclosed-B' # Reassigning B here\n",
    "    \n",
    "    print( f\"--- Defined E as {E}\" )\n",
    "    print( f\"--- Redefined B as {B}\" )\n",
    "    \n",
    "    print( \"\\n--- Local variables within {}:\\n{}\\n\".format( f_outer.__name__, pformat( locals() ) ))\n",
    "\n",
    "    print( \"f_outer() in locals?\", 'f_outer' in locals() )\n",
    "    print( \"f_outer() in globals?\", 'f_outer' in globals() )\n",
    "    print( \"\" )\n",
    "\n",
    "    print( f\"{f_outer.__name__}: A={A}\" )\n",
    "    print( f\"{f_outer.__name__}: B={B}\" )    \n",
    "    print( f\"{f_outer.__name__}: C={C}\" )\n",
    "    \n",
    "    return f_inner # Return a function!\n",
    "\n",
    "# This will print everything, which is too much to print. So instead let's check\n",
    "# what is in it\n",
    "#\n",
    "#print( f\"--- GLOBAL names: {globals()} \")\n",
    "\n",
    "print( \"-\" * 80 )\n",
    "print( \"Calling f_outer() ...\" )\n",
    "print( \"-\" * 80 )\n",
    "\n",
    "ret_funct = f_outer() # Got f_inner() as a function\n",
    "\n",
    "# Let's change the value of one of the global values and see what happens.\n",
    "#\n",
    "C = 'new-global-C'\n",
    "\n",
    "print( f\"\\n--- Redefined C as {C}\" )\n",
    "print( \"\" )\n",
    "\n",
    "print( \"-\" * 80 )\n",
    "print( \"Calling f_inner() ...\" )\n",
    "print( \"-\" * 80 )\n",
    "\n",
    "retval_2 = ret_funct() # Calling f_inner() here\n",
    "\n",
    "print( f\"(2) f_inner() returned: {retval_2}\\n\" )\n",
    "\n",
    "# Note that we are in the GLOBAL scope here\n",
    "#\n",
    "print( \"f_inner() in locals?\", 'f_inner' in locals() )\n",
    "print( \"f_inner() in globals?\", 'f_inner' in globals() )\n",
    "print( \"\\n\" )\n",
    "\n",
    "print( f\"\\n--- Are locals() identical to globals() in the GLOBAL scope? {locals() == globals()}\" )"
   ]
  },
  {
   "cell_type": "markdown",
   "metadata": {},
   "source": [
    "---"
   ]
  },
  {
   "cell_type": "markdown",
   "metadata": {},
   "source": [
    "If we call `globals()` after having run the program, we will get, among other things, that `A`, `B`, `C`, `f_outer`, and `retval_2` are _globally_ accessible names that we have defined."
   ]
  },
  {
   "cell_type": "raw",
   "metadata": {},
   "source": [
    "{'__name__': '__main__',\n",
    " '__doc__': 'Automatically created module for IPython interactive environment',\n",
    " '__package__': None,\n",
    " '__loader__': None,\n",
    " '__spec__': None,\n",
    " '__builtin__': <module 'builtins' (built-in)>,\n",
    " '__builtins__': <module 'builtins' (built-in)>,\n",
    " 'exit': <IPython.core.autocall.ExitAutocall at 0x7f87f05ffe10>,\n",
    " 'quit': <IPython.core.autocall.ExitAutocall at 0x7f87f05ffe10>,\n",
    " .\n",
    " .\n",
    " .\n",
    " 'A': 'global-A',\n",
    " 'B': 'global-B',\n",
    " 'C': 'new-global-C',\n",
    " 'f_outer': <function __main__.f_outer()>,\n",
    " 'ret_funct': <function __main__.f_outer.<locals>.f_inner()>,\n",
    " 'retval_2': 'inner-A/enclosed-B/new-global-C',\n",
    " .\n",
    " .\n",
    " .\n",
    "}"
   ]
  },
  {
   "cell_type": "markdown",
   "metadata": {},
   "source": [
    "---"
   ]
  },
  {
   "cell_type": "markdown",
   "metadata": {},
   "source": [
    "Let us draw the _environment diagram_ of the scenario above __BEFORE__ the global `C` variable was modified."
   ]
  },
  {
   "cell_type": "raw",
   "metadata": {},
   "source": [
    "BUILTIN\n",
    ".------------------------------------------------------\n",
    "|\n",
    "|   GLOBAL\n",
    "|   .--------------------------------------------------\n",
    "|   | \n",
    "|   |   A <-- 'global-A'\n",
    "|   |   B <-- 'global-B'\n",
    "|   |   C <-- 'global-C'\n",
    "|   |\n",
    "|   |\n",
    "|   |   ENCLOSED: f_outer()\n",
    "|   |   .----------------------------------------------\n",
    "|   |   | \n",
    "|   |   |   A <-- 'enclosed-A'\n",
    "|   |   |   B <-- 'enclosed-B'\n",
    "|   |   |\n",
    "|   |   |\n",
    "|   |   |   LOCAL: f_inner()\n",
    "|   |   |   .------------------------------------------\n",
    "|   |   |   |\n",
    "|   |   |   |   A <-- 'inner-A'\n",
    "|   |   |   |   \n",
    "|   |   |   |   <D = A + B + C>\n",
    "|   |   |   |   \n",
    "|   |   |   |   D <-- 'inner-A/enclosed-B/global-C'\n",
    "|   |   |   |\n",
    "|   |   |   `------------------------------------------\n",
    "|   |   |\n",
    "|   |   |   <E = A + B + C>\n",
    "|   |   |\n",
    "|   |   |   E <-- 'enclosed-A>enclosed-B>global-C'\n",
    "|   |   |\n",
    "|   |   `----------------------------------------------\n",
    "|   |\n",
    "|   `--------------------------------------------------\n",
    "|\n",
    "`------------------------------------------------------\n",
    "\n",
    "Figure 1: The environments before the modification of global C"
   ]
  },
  {
   "cell_type": "markdown",
   "metadata": {},
   "source": [
    "__AFTER__ modifying the global `C` variable, we will have the following layout."
   ]
  },
  {
   "cell_type": "raw",
   "metadata": {},
   "source": [
    "BUILTIN\n",
    ".------------------------------------------------------\n",
    "|\n",
    "|   GLOBAL\n",
    "|   .--------------------------------------------------\n",
    "|   | \n",
    "|   |   A <-- 'global-A'\n",
    "|   |   B <-- 'global-B'\n",
    "|   |   C <-- 'new-global-C'\n",
    "|   |\n",
    "|   |\n",
    "|   |   f_outer()\n",
    "|   |   .----------------------------------------------\n",
    "|   |   | \n",
    "|   |   |   A <-- 'enclosed-A'\n",
    "|   |   |   B <-- 'new-enclosed-B'\n",
    "|   |   |\n",
    "|   |   |\n",
    "|   |   |   f_inner()\n",
    "|   |   |   .------------------------------------------\n",
    "|   |   |   |\n",
    "|   |   |   |   A <-- 'inner-A'\n",
    "|   |   |   |   \n",
    "|   |   |   |   <D = A + B + C>\n",
    "|   |   |   |   \n",
    "|   |   |   |   D <-- 'inner-A/new-enclosed-B/new-global-C'\n",
    "|   |   |   |\n",
    "|   |   |   `------------------------------------------\n",
    "|   |   |\n",
    "|   |   `----------------------------------------------\n",
    "|   |\n",
    "|   `--------------------------------------------------\n",
    "|\n",
    "`------------------------------------------------\n",
    "\n",
    "Figure 2: The environments after the modification of global C"
   ]
  },
  {
   "cell_type": "markdown",
   "metadata": {},
   "source": [
    "Note that, in this second case, we are only calling `f_inner()`, which was returned by the call to `f_outer()`. \n",
    "\n",
    "At the time `f_outer()` returned `f_inner()` as its return value, the value for variable `B` would come from `f_outer()`s environment, and the value for `C` would come from the global environment.\n",
    "\n",
    "Then note that we change the value of `B` inside `f_outer()` after creating `E`.\n",
    "\n",
    "We also modified global `C`.\n",
    "\n",
    "The interesting issue is that variables `B` and `C` are __not__ defined within the body of `f_inner()`. So how do we do the lookup for these names? Will they now be undefined, or will we get values for them?\n",
    "\n",
    "The exact same set of rules apply here as they did when `f_outer()` called `f_inner()`. That is, the lookup for names always occurs in the same manner.\n",
    "\n",
    "We go to the _text_ of the program, and start going __UP__ and __OUT__, if need be.\n",
    "\n",
    "So, since `f_inner()` defines `A`, the value of `A` will always be `inner-A`.\n",
    "\n",
    "Since the _references_ to `B` and `C` will be retained, we go __OUT__ of `f_inner()` and go __UP__ in the body of `f_outer()` to see if we can get a value for `B`. \n",
    "\n",
    "Note that the `A` inside `f_inner()` ___shadows___ the `B` value in `f_outer()`. That is, the _closest_ definition corresponding to a name overrides all previous definitions.\n",
    "\n",
    "So, going __UP__ in `f_outer()`, we come across the value of `B`. However, textually, this value looks to be `B-enclosed`. However, before we exited the `f_outer()` call the first time, the value of `B` was changed to `new-enclosed-B`. And that is the value we will get for `B`.\n",
    "\n",
    "That is, references to variables textually accessible by the _definition_ of a function are wrapped up and retained when we return a function from within another function! This is important to remember and understand.\n",
    "\n",
    "Finally, `f_outer()` does not provide a definition for `C`. So we go __OUT__ of `f_outer()` and go __UP__. Then we come across the global definition of `C`. However, we'd changed this value as well. So this time around, we will get the modified value, `new-global-C`."
   ]
  },
  {
   "cell_type": "markdown",
   "metadata": {},
   "source": [
    "---"
   ]
  },
  {
   "cell_type": "markdown",
   "metadata": {},
   "source": [
    "### 3. Local, Enclosed, Global, Built-in Scopes (LEGB)"
   ]
  },
  {
   "cell_type": "markdown",
   "metadata": {},
   "source": [
    "Finally, we need to consider the case in which we redefine a name that has already a value already defined by Python, that is, built in."
   ]
  },
  {
   "cell_type": "code",
   "execution_count": 10,
   "metadata": {},
   "outputs": [
    {
     "data": {
      "text/plain": [
       "['ArithmeticError',\n",
       " 'AssertionError',\n",
       " 'AttributeError',\n",
       " 'BaseException',\n",
       " 'BlockingIOError',\n",
       " 'BrokenPipeError',\n",
       " 'BufferError',\n",
       " 'BytesWarning',\n",
       " 'ChildProcessError',\n",
       " 'ConnectionAbortedError',\n",
       " 'ConnectionError',\n",
       " 'ConnectionRefusedError',\n",
       " 'ConnectionResetError',\n",
       " 'DeprecationWarning',\n",
       " 'EOFError',\n",
       " 'Ellipsis',\n",
       " 'EnvironmentError',\n",
       " 'Exception',\n",
       " 'False',\n",
       " 'FileExistsError',\n",
       " 'FileNotFoundError',\n",
       " 'FloatingPointError',\n",
       " 'FutureWarning',\n",
       " 'GeneratorExit',\n",
       " 'IOError',\n",
       " 'ImportError',\n",
       " 'ImportWarning',\n",
       " 'IndentationError',\n",
       " 'IndexError',\n",
       " 'InterruptedError',\n",
       " 'IsADirectoryError',\n",
       " 'KeyError',\n",
       " 'KeyboardInterrupt',\n",
       " 'LookupError',\n",
       " 'MemoryError',\n",
       " 'ModuleNotFoundError',\n",
       " 'NameError',\n",
       " 'None',\n",
       " 'NotADirectoryError',\n",
       " 'NotImplemented',\n",
       " 'NotImplementedError',\n",
       " 'OSError',\n",
       " 'OverflowError',\n",
       " 'PendingDeprecationWarning',\n",
       " 'PermissionError',\n",
       " 'ProcessLookupError',\n",
       " 'RecursionError',\n",
       " 'ReferenceError',\n",
       " 'ResourceWarning',\n",
       " 'RuntimeError',\n",
       " 'RuntimeWarning',\n",
       " 'StopAsyncIteration',\n",
       " 'StopIteration',\n",
       " 'SyntaxError',\n",
       " 'SyntaxWarning',\n",
       " 'SystemError',\n",
       " 'SystemExit',\n",
       " 'TabError',\n",
       " 'TimeoutError',\n",
       " 'True',\n",
       " 'TypeError',\n",
       " 'UnboundLocalError',\n",
       " 'UnicodeDecodeError',\n",
       " 'UnicodeEncodeError',\n",
       " 'UnicodeError',\n",
       " 'UnicodeTranslateError',\n",
       " 'UnicodeWarning',\n",
       " 'UserWarning',\n",
       " 'ValueError',\n",
       " 'Warning',\n",
       " 'ZeroDivisionError',\n",
       " '__IPYTHON__',\n",
       " '__build_class__',\n",
       " '__debug__',\n",
       " '__doc__',\n",
       " '__import__',\n",
       " '__loader__',\n",
       " '__name__',\n",
       " '__package__',\n",
       " '__spec__',\n",
       " 'abs',\n",
       " 'all',\n",
       " 'any',\n",
       " 'ascii',\n",
       " 'bin',\n",
       " 'bool',\n",
       " 'breakpoint',\n",
       " 'bytearray',\n",
       " 'bytes',\n",
       " 'callable',\n",
       " 'chr',\n",
       " 'classmethod',\n",
       " 'compile',\n",
       " 'complex',\n",
       " 'copyright',\n",
       " 'credits',\n",
       " 'delattr',\n",
       " 'dict',\n",
       " 'dir',\n",
       " 'display',\n",
       " 'divmod',\n",
       " 'enumerate',\n",
       " 'eval',\n",
       " 'exec',\n",
       " 'filter',\n",
       " 'float',\n",
       " 'format',\n",
       " 'frozenset',\n",
       " 'get_ipython',\n",
       " 'getattr',\n",
       " 'globals',\n",
       " 'hasattr',\n",
       " 'hash',\n",
       " 'help',\n",
       " 'hex',\n",
       " 'id',\n",
       " 'input',\n",
       " 'int',\n",
       " 'isinstance',\n",
       " 'issubclass',\n",
       " 'iter',\n",
       " 'len',\n",
       " 'license',\n",
       " 'list',\n",
       " 'locals',\n",
       " 'map',\n",
       " 'max',\n",
       " 'memoryview',\n",
       " 'min',\n",
       " 'next',\n",
       " 'object',\n",
       " 'oct',\n",
       " 'open',\n",
       " 'ord',\n",
       " 'pow',\n",
       " 'print',\n",
       " 'property',\n",
       " 'range',\n",
       " 'repr',\n",
       " 'reversed',\n",
       " 'round',\n",
       " 'set',\n",
       " 'setattr',\n",
       " 'slice',\n",
       " 'sorted',\n",
       " 'staticmethod',\n",
       " 'str',\n",
       " 'sum',\n",
       " 'super',\n",
       " 'tuple',\n",
       " 'type',\n",
       " 'vars',\n",
       " 'zip']"
      ]
     },
     "execution_count": 10,
     "metadata": {},
     "output_type": "execute_result"
    }
   ],
   "source": [
    "dir( __builtins__ )"
   ]
  },
  {
   "cell_type": "markdown",
   "metadata": {},
   "source": [
    "The builtin scope becomes an issue if we redefine a name that has already been defined in the builtin scope of Python. One such example we can redefine ourselves would be the `len()` function. Of course, doing so in general is not a good idea, but, for the sake of the discussion here, we will do so.\n",
    "\n",
    "__Before__ we define `len()` we call it, and the builtin `len()` function will be the one that will be called. There is no `len` defined in the global scope, so we move __OUT__ of the global scope and look `len` up in the builtin scope. Since it will there, we will be using that definition.\n",
    "\n",
    "Then we define out own `len()` function, thereby _shadowing_ the definition in the builtin environment!"
   ]
  },
  {
   "cell_type": "code",
   "execution_count": 46,
   "metadata": {},
   "outputs": [
    {
     "name": "stdout",
     "output_type": "stream",
     "text": [
      "['ArithmeticError', 'AssertionError', 'AttributeError', 'BaseException', 'BlockingIOError', 'BrokenPipeError', 'BufferError', 'BytesWarning', 'ChildProcessError', 'ConnectionAbortedError', 'ConnectionError', 'ConnectionRefusedError', 'ConnectionResetError', 'DeprecationWarning', 'EOFError', 'Ellipsis', 'EnvironmentError', 'Exception', 'False', 'FileExistsError', 'FileNotFoundError', 'FloatingPointError', 'FutureWarning', 'GeneratorExit', 'IOError', 'ImportError', 'ImportWarning', 'IndentationError', 'IndexError', 'InterruptedError', 'IsADirectoryError', 'KeyError', 'KeyboardInterrupt', 'LookupError', 'MemoryError', 'ModuleNotFoundError', 'NameError', 'None', 'NotADirectoryError', 'NotImplemented', 'NotImplementedError', 'OSError', 'OverflowError', 'PendingDeprecationWarning', 'PermissionError', 'ProcessLookupError', 'RecursionError', 'ReferenceError', 'ResourceWarning', 'RuntimeError', 'RuntimeWarning', 'StopAsyncIteration', 'StopIteration', 'SyntaxError', 'SyntaxWarning', 'SystemError', 'SystemExit', 'TabError', 'TimeoutError', 'True', 'TypeError', 'UnboundLocalError', 'UnicodeDecodeError', 'UnicodeEncodeError', 'UnicodeError', 'UnicodeTranslateError', 'UnicodeWarning', 'UserWarning', 'ValueError', 'Warning', 'ZeroDivisionError', '__IPYTHON__', '__build_class__', '__debug__', '__doc__', '__import__', '__loader__', '__name__', '__package__', '__spec__', 'abs', 'all', 'any', 'ascii', 'bin', 'bool', 'breakpoint', 'bytearray', 'bytes', 'callable', 'chr', 'classmethod', 'compile', 'complex', 'copyright', 'credits', 'delattr', 'dict', 'dir', 'display', 'divmod', 'enumerate', 'eval', 'exec', 'filter', 'float', 'format', 'frozenset', 'get_ipython', 'getattr', 'globals', 'hasattr', 'hash', 'help', 'hex', 'id', 'input', 'int', 'isinstance', 'issubclass', 'iter', 'len', 'license', 'list', 'locals', 'map', 'max', 'memoryview', 'min', 'next', 'object', 'oct', 'open', 'ord', 'pow', 'print', 'property', 'range', 'repr', 'reversed', 'round', 'set', 'setattr', 'slice', 'sorted', 'staticmethod', 'str', 'sum', 'super', 'tuple', 'type', 'vars', 'zip']\n"
     ]
    }
   ],
   "source": [
    "print( dir( __builtins__ ) )"
   ]
  },
  {
   "cell_type": "code",
   "execution_count": 38,
   "metadata": {},
   "outputs": [
    {
     "name": "stdout",
     "output_type": "stream",
     "text": [
      "['__name__', '__doc__', '__package__', '__loader__', '__spec__', '__builtin__', '__builtins__', '_ih', '_oh', '_dh', 'In', 'Out', 'get_ipython', 'exit', 'quit', '_', '__', '___', '_i', '_ii', '_iii', '_i1', 'X', 'fa', 'glbls', '_i2', '_i3', '_i4', '_i5', '_i6', '_i7', '_7', '_i8', '_8', '_i9', '_9', '_i10', '_10', '_i11', '_11', '_i12', '_12', '_i13', '_13', '_i14', '_14', '_i15', '_15', '_i16', 'Y', 'fb', '_i17', '_i18', 'pprint', 'pformat', 'A', 'B', 'C', 'f_outer', 'ret_funct', 'retval_2', '_i19', '_i20', '_i21', '_i22', '_i23', '_i24', '_i25', '_i26', '_i27', '_i28', '_i29', '_i30', '_i31', '_i32', '_i33', '_i34', '_i35', '_i36', '_36', '_i37', '_37', '_i38']\n"
     ]
    }
   ],
   "source": [
    "print( list( globals().keys() ) )"
   ]
  },
  {
   "cell_type": "code",
   "execution_count": 22,
   "metadata": {},
   "outputs": [
    {
     "name": "stdout",
     "output_type": "stream",
     "text": [
      "--- len(): <built-in function len>\n",
      "--- Length of A is 8\n",
      "--- len(): <function len at 0x7f2b08f22940>\n"
     ]
    }
   ],
   "source": [
    "A = 'global-A'\n",
    "\n",
    "print( f\"--- len(): {len}\" )\n",
    "print( f\"--- Length of A is {len( A )}\" )\n",
    "\n",
    "# REDEFINING the meaning of len() within the GLOBAL scope\n",
    "\n",
    "def len( iterable ):\n",
    "    \"\"\"\n",
    "    Redefining the famous len() function of Python!!!\n",
    "    \"\"\"\n",
    "    print( f\"--- len(): {len}\" )\n",
    "    print( f\"--- Calling our user-defined len( {iterable} )\" )\n",
    "    i = 0\n",
    "    for cur_val in iterable:\n",
    "        i += 1\n",
    "    return i\n",
    "\n",
    "def f_natural( iterable ):\n",
    "    length = len( iterable )\n",
    "    print( f'--- Provided iterable has {length} items' )\n",
    "    return length\n",
    "\n",
    "print( f\"--- len(): {len}\" )\n",
    "\n",
    "# Let us define some iterable values\n",
    "#\n",
    "hello_world_str = 'Hello, World!'\n",
    "int_list = [1, 2, 3, 4, 5, 6, 7, 8, 9]"
   ]
  },
  {
   "cell_type": "code",
   "execution_count": 2,
   "metadata": {},
   "outputs": [
    {
     "name": "stdout",
     "output_type": "stream",
     "text": [
      "--- len(): <function len at 0x7fc7c89c7dd0>\n",
      "--- Calling our user-defined len( Hello, World! )\n",
      "--- Provided iterable has 13 items\n"
     ]
    },
    {
     "data": {
      "text/plain": [
       "13"
      ]
     },
     "execution_count": 2,
     "metadata": {},
     "output_type": "execute_result"
    }
   ],
   "source": [
    "f_natural( hello_world_str )"
   ]
  },
  {
   "cell_type": "code",
   "execution_count": 23,
   "metadata": {},
   "outputs": [
    {
     "name": "stdout",
     "output_type": "stream",
     "text": [
      "--- len(): <function len at 0x7f2b08f22940>\n",
      "--- Calling our user-defined len( [1, 2, 3, 4, 5, 6, 7, 8, 9] )\n"
     ]
    },
    {
     "data": {
      "text/plain": [
       "9"
      ]
     },
     "execution_count": 23,
     "metadata": {},
     "output_type": "execute_result"
    }
   ],
   "source": [
    "len( int_list )"
   ]
  },
  {
   "cell_type": "markdown",
   "metadata": {},
   "source": [
    "In both cases where we call `len()` after redefining it, we will get our custom `len()` function, __not__ the builtin one."
   ]
  },
  {
   "cell_type": "markdown",
   "metadata": {},
   "source": [
    "---"
   ]
  },
  {
   "cell_type": "code",
   "execution_count": 13,
   "metadata": {},
   "outputs": [],
   "source": [
    "def f_enclosed( country, continent ):\n",
    "    \"\"\"\n",
    "    \"\"\"\n",
    "    def f_inner( person ):\n",
    "        \"\"\"\n",
    "        \"\"\"\n",
    "        print( f\"--- Person {person} lives in {country}, which is in {continent}\" ) \n",
    "        \n",
    "    return f_inner"
   ]
  },
  {
   "cell_type": "code",
   "execution_count": 16,
   "metadata": {},
   "outputs": [],
   "source": [
    "fi = f_enclosed( \"Cyprus\", \"Europe\" )"
   ]
  },
  {
   "cell_type": "code",
   "execution_count": 17,
   "metadata": {},
   "outputs": [
    {
     "name": "stdout",
     "output_type": "stream",
     "text": [
      "--- Person John lives in Cyprus, which is in Europe\n"
     ]
    }
   ],
   "source": [
    "fi( \"John\" )"
   ]
  },
  {
   "cell_type": "code",
   "execution_count": 18,
   "metadata": {},
   "outputs": [
    {
     "name": "stdout",
     "output_type": "stream",
     "text": [
      "--- Person Jane lives in Cyprus, which is in Europe\n"
     ]
    }
   ],
   "source": [
    "fi( \"Jane\" )"
   ]
  },
  {
   "cell_type": "code",
   "execution_count": 48,
   "metadata": {},
   "outputs": [],
   "source": [
    "def f_bank_account( account_id, balance ):\n",
    "    \"\"\"\n",
    "    \"\"\"\n",
    "    print( f\"--- Account ID {account_id} has an initial balance of {balance}USD\")\n",
    "    \n",
    "    print( f\"[A] id( account_id ) = {id( account_id )}\" )\n",
    "    print( f\"[B] id( balance )    = {id( balance )}\" )\n",
    "    \n",
    "    def f_withdraw( amount ):\n",
    "        \"\"\"\n",
    "        \"\"\"\n",
    "        nonlocal balance\n",
    "        print( f\"--- Withdrawing {amount} from {account_id}\" )\n",
    "        print( f\"[*] id( balance )    = {id( balance )}\" )\n",
    "        balance -= amount # Redefining balance!!!\n",
    "        print( f\"--- Current balance of {account_id} is {balance}USD\" )\n",
    "        print( f\"--- Local variables: {locals()}\" )\n",
    "        print( f\"[C] id( account_id ) = {id( account_id )}\" )\n",
    "        print( f\"[D] id( balance )    = {id( balance )}\" )\n",
    "        \n",
    "    return f_withdraw"
   ]
  },
  {
   "cell_type": "code",
   "execution_count": 55,
   "metadata": {},
   "outputs": [
    {
     "name": "stdout",
     "output_type": "stream",
     "text": [
      "--- Account ID elon_musk_1111 has an initial balance of 1000USD\n",
      "[A] id( account_id ) = 140168071890800\n",
      "[B] id( balance )    = 140168071955920\n",
      "--- Account ID jeff_bezos_2222 has an initial balance of 5000USD\n",
      "[A] id( account_id ) = 140168071491632\n",
      "[B] id( balance )    = 140168071955248\n",
      "--- Account ID john_travolta_3333 has an initial balance of 7000USD\n",
      "[A] id( account_id ) = 140168071869024\n",
      "[B] id( balance )    = 140168071956016\n"
     ]
    }
   ],
   "source": [
    "fwa = f_bank_account( \"elon_musk_1111\", 1000 )\n",
    "fwb = f_bank_account( \"jeff_bezos_2222\", 5000 )\n",
    "fwc = f_bank_account( \"john_travolta_3333\", 7000 )"
   ]
  },
  {
   "cell_type": "code",
   "execution_count": 56,
   "metadata": {},
   "outputs": [
    {
     "name": "stdout",
     "output_type": "stream",
     "text": [
      "--- Withdrawing 100 from elon_musk_1111\n",
      "[*] id( balance )    = 140168071955920\n",
      "--- Current balance of elon_musk_1111 is 900USD\n",
      "--- Local variables: {'amount': 100, 'account_id': 'elon_musk_1111', 'balance': 900}\n",
      "[C] id( account_id ) = 140168071890800\n",
      "[D] id( balance )    = 140168071955888\n"
     ]
    }
   ],
   "source": [
    "fwa( 100 )"
   ]
  },
  {
   "cell_type": "code",
   "execution_count": 57,
   "metadata": {},
   "outputs": [
    {
     "name": "stdout",
     "output_type": "stream",
     "text": [
      "--- Withdrawing 50 from elon_musk_1111\n",
      "[*] id( balance )    = 140168071955120\n",
      "--- Current balance of elon_musk_1111 is 310USD\n",
      "--- Local variables: {'amount': 50, 'account_id': 'elon_musk_1111', 'balance': 310}\n",
      "[C] id( account_id ) = 140168071890800\n",
      "[D] id( balance )    = 140168071956176\n"
     ]
    }
   ],
   "source": [
    "fw( 50 )"
   ]
  },
  {
   "cell_type": "code",
   "execution_count": 58,
   "metadata": {},
   "outputs": [
    {
     "name": "stdout",
     "output_type": "stream",
     "text": [
      "--- Withdrawing 450 from elon_musk_1111\n",
      "[*] id( balance )    = 140168071955888\n",
      "--- Current balance of elon_musk_1111 is 450USD\n",
      "--- Local variables: {'amount': 450, 'account_id': 'elon_musk_1111', 'balance': 450}\n",
      "[C] id( account_id ) = 140168071890800\n",
      "[D] id( balance )    = 140168071955856\n"
     ]
    }
   ],
   "source": [
    "fwa( 450 )"
   ]
  },
  {
   "cell_type": "code",
   "execution_count": 59,
   "metadata": {},
   "outputs": [
    {
     "name": "stdout",
     "output_type": "stream",
     "text": [
      "--- Withdrawing 30 from elon_musk_1111\n",
      "[*] id( balance )    = 140168071955856\n",
      "--- Current balance of elon_musk_1111 is 420USD\n",
      "--- Local variables: {'amount': 30, 'account_id': 'elon_musk_1111', 'balance': 420}\n",
      "[C] id( account_id ) = 140168071890800\n",
      "[D] id( balance )    = 140168072585072\n"
     ]
    }
   ],
   "source": [
    "fwa( 30 )"
   ]
  },
  {
   "cell_type": "code",
   "execution_count": 60,
   "metadata": {},
   "outputs": [
    {
     "name": "stdout",
     "output_type": "stream",
     "text": [
      "--- Withdrawing 3000 from jeff_bezos_2222\n",
      "[*] id( balance )    = 140168071955248\n",
      "--- Current balance of jeff_bezos_2222 is 2000USD\n",
      "--- Local variables: {'amount': 3000, 'account_id': 'jeff_bezos_2222', 'balance': 2000}\n",
      "[C] id( account_id ) = 140168071491632\n",
      "[D] id( balance )    = 140168107087568\n"
     ]
    }
   ],
   "source": [
    "fwb( 3000 )"
   ]
  },
  {
   "cell_type": "code",
   "execution_count": 61,
   "metadata": {},
   "outputs": [
    {
     "name": "stdout",
     "output_type": "stream",
     "text": [
      "--- Withdrawing 1000 from jeff_bezos_2222\n",
      "[*] id( balance )    = 140168107087568\n",
      "--- Current balance of jeff_bezos_2222 is 1000USD\n",
      "--- Local variables: {'amount': 1000, 'account_id': 'jeff_bezos_2222', 'balance': 1000}\n",
      "[C] id( account_id ) = 140168071491632\n",
      "[D] id( balance )    = 140168107088304\n",
      "--- Withdrawing 1000 from john_travolta_3333\n",
      "[*] id( balance )    = 140168071956016\n",
      "--- Current balance of john_travolta_3333 is 6000USD\n",
      "--- Local variables: {'amount': 1000, 'account_id': 'john_travolta_3333', 'balance': 6000}\n",
      "[C] id( account_id ) = 140168071869024\n",
      "[D] id( balance )    = 140168107087568\n"
     ]
    }
   ],
   "source": [
    "fwb( 1000 )\n",
    "fwc( 1000 )"
   ]
  },
  {
   "cell_type": "code",
   "execution_count": null,
   "metadata": {},
   "outputs": [],
   "source": []
  }
 ],
 "metadata": {
  "kernelspec": {
   "display_name": "Python 2",
   "language": "python",
   "name": "python2"
  },
  "language_info": {
   "codemirror_mode": {
    "name": "ipython",
    "version": 3
   },
   "file_extension": ".py",
   "mimetype": "text/x-python",
   "name": "python",
   "nbconvert_exporter": "python",
   "pygments_lexer": "ipython3",
   "version": "3.8.3"
  }
 },
 "nbformat": 4,
 "nbformat_minor": 4
}
