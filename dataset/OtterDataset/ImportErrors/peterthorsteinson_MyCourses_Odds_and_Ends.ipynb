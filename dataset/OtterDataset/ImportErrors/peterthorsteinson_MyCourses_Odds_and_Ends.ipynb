{
 "cells": [
  {
   "cell_type": "markdown",
   "metadata": {},
   "source": [
    "# Odds and Ends"
   ]
  },
  {
   "cell_type": "code",
   "execution_count": 9,
   "metadata": {},
   "outputs": [
    {
     "name": "stdout",
     "output_type": "stream",
     "text": [
      "100000\n",
      "---\n",
      "100000\n",
      "200000\n"
     ]
    }
   ],
   "source": [
    "class Parrot:\n",
    "    def __init__(self):\n",
    "        self._voltage = 100000\n",
    "\n",
    "    @property\n",
    "    def voltage(self):\n",
    "        \"\"\"Get the current voltage.\"\"\"\n",
    "        return self._voltage\n",
    "\n",
    "parrot = Parrot()\n",
    "print(parrot.voltage)\n",
    "##parrot.voltage = 200000 # error - can get but cannot set\n",
    "\n",
    "print('---')\n",
    "\n",
    "class Penguin:\n",
    "    def __init__(self):\n",
    "        self._voltage = 100000\n",
    "\n",
    "    @property\n",
    "    def voltage(self):\n",
    "        \"\"\"Get the current voltage.\"\"\"\n",
    "        return self._voltage\n",
    "\n",
    "    @voltage.setter\n",
    "    def voltage(self, value):\n",
    "        self._voltage = value\n",
    "\n",
    "    @voltage.deleter\n",
    "    def voltage(self):\n",
    "        del self._voltage\n",
    "\n",
    "penguin = Penguin()\n",
    "print(penguin.voltage)\n",
    "penguin.voltage = 200000 # can get and set and delete\n",
    "print(penguin.voltage)\n",
    "del penguin.voltage\n",
    "#print(penguin.voltage) # AttributeError: 'Penguin' object has no attribute '_voltage'"
   ]
  },
  {
   "cell_type": "code",
   "execution_count": 72,
   "metadata": {},
   "outputs": [
    {
     "name": "stdout",
     "output_type": "stream",
     "text": [
      "2 3 4 5 6 7 8 9 10 10\n",
      "2 3 4 5 6 7 8 9 9 10\n",
      "2 3 4 5 6 7 8 8 9 10\n",
      "2 3 4 5 6 7 7 8 9 10\n",
      "2 3 4 5 6 6 7 8 9 10\n",
      "2 3 4 5 5 6 7 8 9 10\n",
      "2 3 4 4 5 6 7 8 9 10\n",
      "2 3 3 4 5 6 7 8 9 10\n",
      "2 2 3 4 5 6 7 8 9 10\n",
      "1 2 3 4 5 6 7 8 9 10\n"
     ]
    }
   ],
   "source": [
    "# Insertion Sort - Part 1\n",
    "# https://www.hackerrank.com/challenges/insertionsort1/problem\n",
    "\n",
    "def insertionSort1(n, arr):\n",
    "    e = arr[-1]\n",
    "    for i in range(n-2, -1, -1):\n",
    "        if e < arr[i]:\n",
    "            arr[i+1] = arr[i]\n",
    "        else:        \n",
    "            arr[i+1] = e\n",
    "            break\n",
    "        print(' '.join(str(e) for e in arr))\n",
    "    if arr[0] == arr[1]:\n",
    "        arr[i] = e\n",
    "    print(' '.join(str(e) for e in arr))\n",
    "    \n",
    "#arr = [2, 4, 6, 8, 3]\n",
    "#arr = [1, 3, 5, 9, 13, 22, 27, 35, 46, 51, 55, 83, 87, 23]\n",
    "arr = [2, 3, 4, 5, 6, 7, 8, 9, 10, 1]\n",
    "\n",
    "n = len(arr)\n",
    "insertionSort1(n, arr)\n"
   ]
  },
  {
   "cell_type": "code",
   "execution_count": 9,
   "metadata": {},
   "outputs": [
    {
     "name": "stdout",
     "output_type": "stream",
     "text": [
      "Started threadnum: 12844Started threadnum: 5736\n",
      "\n",
      "1 * 1 2 1 * 1 1 * 1 * 2 1 * 1 2 2 2 1 2 * 2 1 * 2 * 1 * * 1 1 * 2 * 2 2 * 2 2 * 1 * 2 * 2 * 1 * 2 * 2 1 1 * 1 * 1 2 1 2 1 * 1 1 * 1 21  2 * 2 2 1 2 * 2 1 * 2 * 1 2 1 1 2 * 12  2 1 * 1 * 1 * 1 * 2 1 * 1 2 1 * 1 2 2 * 2 12  2 2 * 2 1 2 1 2 * 2 1 1 2 * 2 1 * 1 2 * 2 * 2 1 * 1 * 2 * * 1 2 1 1 2 2 * 2 2 * 1 * 2 * 2 1 2 * 2 * 1 * 1 2 1 2 * 2 * 2 * 1 2 1 * 1 * 1 * 1 2 * 1 * 2 * 2 2 * 2 1 * 1 2 \n",
      "Ended threadnum: 5736\n",
      "1 1 1 1 1 \n",
      "Ended threadnum: 12844\n",
      "\n",
      "Ended Main Thread\n"
     ]
    }
   ],
   "source": [
    "import threading\n",
    "import time\n",
    "import random\n",
    "\n",
    "class MyThread(threading.Thread):\n",
    "    shared_x = 0\n",
    "    shared_y = 0\n",
    "    shared_z = 0\n",
    "    lock = threading.Lock()\n",
    "    \n",
    "    def __init__(self, name): \n",
    "        threading.Thread.__init__(self, name=name) \n",
    "\n",
    "    def run(self):\n",
    "        print(f'Started threadnum: {self.ident}')\n",
    "        count = 0\n",
    "        while count < 100:\n",
    "            count += 1\n",
    "            #MyThread.lock.acquire()\n",
    "            MyThread.shared_x = random.randint(1,100)\n",
    "            MyThread.shared_y = random.randint(1,100)\n",
    "            time.sleep(random.randint(1,100)/1000.00)\n",
    "            MyThread.shared_z = MyThread.shared_x + MyThread.shared_y\n",
    "            time.sleep(random.randint(1,100)/1000.00)\n",
    "            if MyThread.shared_x + MyThread.shared_y != MyThread.shared_z:\n",
    "                print(\"*\", end=\" \")\n",
    "            else:\n",
    "                print(self.name, end=\" \")\n",
    "            #MyThread.lock.release()\n",
    "        print(f'\\nEnded threadnum: {self.ident}')\n",
    "\n",
    "t1 = MyThread(name=1)\n",
    "t1.start()\n",
    "t2 = MyThread(name=2)\n",
    "t2.start()\n",
    "\n",
    "t1.join()\n",
    "t2.join()\n",
    "print (\"\\nEnded Main Thread\")"
   ]
  },
  {
   "cell_type": "code",
   "execution_count": 1,
   "metadata": {},
   "outputs": [
    {
     "name": "stdout",
     "output_type": "stream",
     "text": [
      "account type: SavingsAccount, account number: 1509950, current balance:     100.00, interest rate: 0.05\n",
      "account type: SavingsAccount, account number: 1509950, current balance:     110.00, interest rate: 0.05\n",
      "account type: SavingsAccount, account number: 1509950, current balance:     100.00, interest rate: 0.05\n",
      "account type: SavingsAccount, account number: 1509950, current balance:     105.00, interest rate: 0.05\n",
      "\n",
      "account type: CheckingAccount, account number: 1509950, current balance:     100.00, checking fee: 1.00\n",
      "account type: CheckingAccount, account number: 1509950, current balance:     109.00, checking fee: 1.00\n",
      "account type: CheckingAccount, account number: 1509950, current balance:      98.00, checking fee: 1.00\n"
     ]
    }
   ],
   "source": [
    "class BankAccount:\n",
    "    def __init__(self, acno, balance):\n",
    "        self.acno = acno\n",
    "        self.balance = balance\n",
    "\n",
    "class SavingsAccount(BankAccount):\n",
    "    interest = 0\n",
    "    def __init__(self, acno, balance, interest):\n",
    "        super().__init__(acno, balance)\n",
    "        self.interest = interest\n",
    "    def __str__(self):\n",
    "        return f\"account type: {self.__class__.__name__}, \"\\\n",
    "            f\"account number: {str(self.acno)}, \"\\\n",
    "            f\"current balance: {self.balance:10.2f}, \"\\\n",
    "            f\"interest rate: {self.interest:.2f}\"\n",
    "    def transact(self, amount):\n",
    "        self.balance += amount\n",
    "    def accrue_interest(self):\n",
    "        self.balance += self.balance * self.interest\n",
    "\n",
    "class CheckingAccount(BankAccount):\n",
    "    def __init__(self, acno, balance, checkingfee):\n",
    "        super().__init__(acno, balance)\n",
    "        self.checkingfee = checkingfee\n",
    "    def __str__(self):\n",
    "        return f\"account type: {self.__class__.__name__}, \"\\\n",
    "            f\"account number: {str(self.acno)}, \"\\\n",
    "            f\"current balance: {self.balance:10.2f}, \"\\\n",
    "            f\"checking fee: {self.checkingfee:.2f}\"\n",
    "    def transact(self, amount):\n",
    "        self.balance += (amount - self.checkingfee)\n",
    "        \n",
    "sa = SavingsAccount(1509950, 100, 0.05)\n",
    "print(sa)\n",
    "sa.transact(10)\n",
    "print(sa)\n",
    "sa.transact(-10)\n",
    "print(sa)\n",
    "sa.accrue_interest()\n",
    "print(sa)\n",
    "\n",
    "print()\n",
    "\n",
    "ca = CheckingAccount(1509950, 100, 1.00)\n",
    "print(ca)\n",
    "ca.transact(10)\n",
    "print(ca)\n",
    "ca.transact(-10)\n",
    "print(ca)"
   ]
  },
  {
   "cell_type": "code",
   "execution_count": 17,
   "metadata": {},
   "outputs": [
    {
     "data": {
      "text/plain": [
       "['ArithmeticError',\n",
       " 'AssertionError',\n",
       " 'AttributeError',\n",
       " 'BaseException',\n",
       " 'BlockingIOError',\n",
       " 'BrokenPipeError',\n",
       " 'BufferError',\n",
       " 'BytesWarning',\n",
       " 'ChildProcessError',\n",
       " 'ConnectionAbortedError',\n",
       " 'ConnectionError',\n",
       " 'ConnectionRefusedError',\n",
       " 'ConnectionResetError',\n",
       " 'DeprecationWarning',\n",
       " 'EOFError',\n",
       " 'Ellipsis',\n",
       " 'EnvironmentError',\n",
       " 'Exception',\n",
       " 'False',\n",
       " 'FileExistsError',\n",
       " 'FileNotFoundError',\n",
       " 'FloatingPointError',\n",
       " 'FutureWarning',\n",
       " 'GeneratorExit',\n",
       " 'IOError',\n",
       " 'ImportError',\n",
       " 'ImportWarning',\n",
       " 'IndentationError',\n",
       " 'IndexError',\n",
       " 'InterruptedError',\n",
       " 'IsADirectoryError',\n",
       " 'KeyError',\n",
       " 'KeyboardInterrupt',\n",
       " 'LookupError',\n",
       " 'MemoryError',\n",
       " 'ModuleNotFoundError',\n",
       " 'NameError',\n",
       " 'None',\n",
       " 'NotADirectoryError',\n",
       " 'NotImplemented',\n",
       " 'NotImplementedError',\n",
       " 'OSError',\n",
       " 'OverflowError',\n",
       " 'PendingDeprecationWarning',\n",
       " 'PermissionError',\n",
       " 'ProcessLookupError',\n",
       " 'RecursionError',\n",
       " 'ReferenceError',\n",
       " 'ResourceWarning',\n",
       " 'RuntimeError',\n",
       " 'RuntimeWarning',\n",
       " 'StopAsyncIteration',\n",
       " 'StopIteration',\n",
       " 'SyntaxError',\n",
       " 'SyntaxWarning',\n",
       " 'SystemError',\n",
       " 'SystemExit',\n",
       " 'TabError',\n",
       " 'TimeoutError',\n",
       " 'True',\n",
       " 'TypeError',\n",
       " 'UnboundLocalError',\n",
       " 'UnicodeDecodeError',\n",
       " 'UnicodeEncodeError',\n",
       " 'UnicodeError',\n",
       " 'UnicodeTranslateError',\n",
       " 'UnicodeWarning',\n",
       " 'UserWarning',\n",
       " 'ValueError',\n",
       " 'Warning',\n",
       " 'WindowsError',\n",
       " 'ZeroDivisionError',\n",
       " '__IPYTHON__',\n",
       " '__build_class__',\n",
       " '__debug__',\n",
       " '__doc__',\n",
       " '__import__',\n",
       " '__loader__',\n",
       " '__name__',\n",
       " '__package__',\n",
       " '__spec__',\n",
       " 'abs',\n",
       " 'all',\n",
       " 'any',\n",
       " 'ascii',\n",
       " 'bin',\n",
       " 'bool',\n",
       " 'bytearray',\n",
       " 'bytes',\n",
       " 'callable',\n",
       " 'chr',\n",
       " 'classmethod',\n",
       " 'compile',\n",
       " 'complex',\n",
       " 'copyright',\n",
       " 'credits',\n",
       " 'delattr',\n",
       " 'dict',\n",
       " 'dir',\n",
       " 'display',\n",
       " 'divmod',\n",
       " 'enumerate',\n",
       " 'eval',\n",
       " 'exec',\n",
       " 'filter',\n",
       " 'float',\n",
       " 'format',\n",
       " 'frozenset',\n",
       " 'get_ipython',\n",
       " 'getattr',\n",
       " 'globals',\n",
       " 'hasattr',\n",
       " 'hash',\n",
       " 'help',\n",
       " 'hex',\n",
       " 'id',\n",
       " 'input',\n",
       " 'int',\n",
       " 'isinstance',\n",
       " 'issubclass',\n",
       " 'iter',\n",
       " 'len',\n",
       " 'license',\n",
       " 'list',\n",
       " 'locals',\n",
       " 'map',\n",
       " 'max',\n",
       " 'memoryview',\n",
       " 'min',\n",
       " 'next',\n",
       " 'object',\n",
       " 'oct',\n",
       " 'open',\n",
       " 'ord',\n",
       " 'pow',\n",
       " 'print',\n",
       " 'property',\n",
       " 'range',\n",
       " 'repr',\n",
       " 'reversed',\n",
       " 'round',\n",
       " 'set',\n",
       " 'setattr',\n",
       " 'slice',\n",
       " 'sorted',\n",
       " 'staticmethod',\n",
       " 'str',\n",
       " 'sum',\n",
       " 'super',\n",
       " 'tuple',\n",
       " 'type',\n",
       " 'vars',\n",
       " 'zip']"
      ]
     },
     "execution_count": 17,
     "metadata": {},
     "output_type": "execute_result"
    }
   ],
   "source": [
    "dir(__builtin__)"
   ]
  },
  {
   "cell_type": "code",
   "execution_count": 23,
   "metadata": {},
   "outputs": [
    {
     "name": "stdout",
     "output_type": "stream",
     "text": [
      "A function docstring\n",
      "A class docstring\n"
     ]
    }
   ],
   "source": [
    "def my_function():\n",
    "    \"\"\"A function docstring\"\"\"\n",
    "    pass\n",
    "\n",
    "class MyClass:\n",
    "    \"\"\"A class docstring\"\"\"\n",
    "    pass\n",
    "\n",
    "print(my_function.__doc__)\n",
    "print(MyClass.__doc__)"
   ]
  },
  {
   "cell_type": "code",
   "execution_count": 78,
   "metadata": {},
   "outputs": [
    {
     "name": "stdout",
     "output_type": "stream",
     "text": [
      "[[1, 2, 3], [1, 2, 3], [1, 2, 3]]\n",
      "[[42, 2, 3], [42, 2, 3], [42, 2, 3]]\n",
      "[[1, 2, 3], [1, 2, 3], [1, 2, 3]]\n",
      "[[42, 2, 3], [42, 2, 3], [42, 2, 3]]\n"
     ]
    }
   ],
   "source": [
    "l1 = [1,2,3]\n",
    "l = [l1, l1, l1]\n",
    "print(l)\n",
    "\n",
    "l1[0] = 42\n",
    "print(l)\n",
    "\n",
    "l1 = [1,2,3]\n",
    "l = [x for x in [l1, l1, l1]]\n",
    "print(l)\n",
    "\n",
    "l[0][0] = 42\n",
    "print(l)"
   ]
  },
  {
   "cell_type": "code",
   "execution_count": 8,
   "metadata": {},
   "outputs": [
    {
     "name": "stdout",
     "output_type": "stream",
     "text": [
      "[1]\n",
      "[1, 2]\n",
      "[1, 2, 3]\n"
     ]
    }
   ],
   "source": [
    "def f(a, L=[]):\n",
    "    L.append(a)\n",
    "    return L\n",
    "\n",
    "print(f(1))\n",
    "print(f(2))\n",
    "print(f(3))"
   ]
  },
  {
   "cell_type": "code",
   "execution_count": 4,
   "metadata": {},
   "outputs": [
    {
     "name": "stdout",
     "output_type": "stream",
     "text": [
      "42\n",
      "---\n",
      "mydecorator\n",
      "43\n",
      "\n",
      "\n",
      "mydecorator\n",
      "45\n"
     ]
    }
   ],
   "source": [
    "def mydecorator(func):\n",
    "    def outerfunc(n):\n",
    "        print(\"mydecorator\")\n",
    "        func(n)\n",
    "    return outerfunc\n",
    "\n",
    "def myfunc1(n):\n",
    "    print(n)\n",
    "\n",
    "myfunc1(42)\n",
    "print('---')\n",
    "myfunc1 = mydecorator(myfunc1)\n",
    "myfunc1(43)\n",
    "\n",
    "print('\\n')\n",
    "\n",
    "@mydecorator\n",
    "def myfunc2(n):\n",
    "    print(n)\n",
    "    \n",
    "myfunc2(45)\n"
   ]
  },
  {
   "cell_type": "code",
   "execution_count": 1,
   "metadata": {},
   "outputs": [
    {
     "name": "stdout",
     "output_type": "stream",
     "text": [
      "*\n",
      "*\n",
      "*\n",
      "*\n",
      "*\n",
      "*\n",
      "25\n"
     ]
    }
   ],
   "source": [
    "def listsum(list):\n",
    "    print('*')\n",
    "    if len(list) == 0:\n",
    "        return 0\n",
    "    else:\n",
    "        last = list.pop()\n",
    "        return last + listsum(list)\n",
    "\n",
    "print(listsum([1,3,5,7,9]))"
   ]
  },
  {
   "cell_type": "code",
   "execution_count": 16,
   "metadata": {},
   "outputs": [
    {
     "name": "stdout",
     "output_type": "stream",
     "text": [
      "Original f()\n",
      "Monkey Patched f()\n"
     ]
    }
   ],
   "source": [
    "class MyClass:\n",
    "    def f(self):\n",
    "        print(\"Original f()\")\n",
    "        \n",
    "obj = MyClass()\n",
    "obj.f()\n",
    "\n",
    "def monkey_f(self):\n",
    "    print(\"Monkey Patched f()\")\n",
    "    \n",
    "MyClass.f = monkey_f\n",
    "\n",
    "obj = MyClass()\n",
    "obj.f()"
   ]
  },
  {
   "cell_type": "code",
   "execution_count": 12,
   "metadata": {},
   "outputs": [
    {
     "name": "stdout",
     "output_type": "stream",
     "text": [
      "0 1 8 27 64 "
     ]
    }
   ],
   "source": [
    "def f(n):\n",
    "    for x in range(n):\n",
    "        yield x**3\n",
    "\n",
    "for x in f(5):\n",
    "    print(x, \"\", end=\"\")\n",
    "    "
   ]
  },
  {
   "cell_type": "code",
   "execution_count": 70,
   "metadata": {},
   "outputs": [
    {
     "name": "stdout",
     "output_type": "stream",
     "text": [
      "Binary representation of 12 is 1100\n",
      "Exponent representation: 1.566345e+03\n",
      "One third to three decimals is: 0.333\n",
      "|butter    |  bread   |       ham|\n",
      "The value of x is 12.35\n",
      "The value of x is 12.3457\n"
     ]
    }
   ],
   "source": [
    "# The format() Method\n",
    "s = \"Binary representation of {0} is {0:b}\".format(12)\n",
    "print(s)\n",
    "s = \"Exponent representation: {0:e}\".format(1566.345)\n",
    "print(s)\n",
    "s = \"One third to three decimals is: {0:.3f}\".format(1/3)\n",
    "print(s)\n",
    "s = \"|{:<10}|{:^10}|{:>10}|\".format('butter','bread','ham')\n",
    "print(s)\n",
    "\n",
    "# Old style formatting\n",
    "x = 12.3456789\n",
    "print('The value of x is %3.2f' %x)\n",
    "print('The value of x is %3.4f' %x)"
   ]
  },
  {
   "cell_type": "code",
   "execution_count": 60,
   "metadata": {},
   "outputs": [
    {
     "name": "stdout",
     "output_type": "stream",
     "text": [
      "[]\n",
      "<class 'list'>\n"
     ]
    }
   ],
   "source": [
    "x = list()\n",
    "print(x)\n",
    "print(type(x))"
   ]
  },
  {
   "cell_type": "code",
   "execution_count": 63,
   "metadata": {},
   "outputs": [
    {
     "name": "stdout",
     "output_type": "stream",
     "text": [
      "()\n",
      "<class 'tuple'>\n",
      "1\n",
      "<class 'int'>\n",
      "(1,)\n",
      "<class 'tuple'>\n",
      "(1, 2, 3)\n",
      "<class 'tuple'>\n",
      "(1, 2, 3)\n",
      "<class 'tuple'>\n",
      "(1, 2, 3, 'Hello')\n",
      "<class 'tuple'>\n"
     ]
    }
   ],
   "source": [
    "x = ()\n",
    "print(x)\n",
    "print(type(x))\n",
    "\n",
    "x = (1)        # not a tuple!\n",
    "print(x)\n",
    "print(type(x))\n",
    "\n",
    "x = (1,)       # requires trailing comma\n",
    "print(x)\n",
    "print(type(x))\n",
    "\n",
    "x = (1,2,3)\n",
    "print(x)\n",
    "print(type(x))\n",
    "\n",
    "x = 1,2,3\n",
    "print(x)\n",
    "print(type(x))\n",
    "\n",
    "x = (1,2,3, 'Hello')\n",
    "print(x)\n",
    "print(type(x))"
   ]
  },
  {
   "cell_type": "code",
   "execution_count": 57,
   "metadata": {},
   "outputs": [
    {
     "name": "stdout",
     "output_type": "stream",
     "text": [
      "7\n",
      "[4, 6, 8, 12]\n",
      "[2, 10, 8, 12, 16, 22, 6, 24]\n"
     ]
    }
   ],
   "source": [
    "func = lambda a, b: a+b\n",
    "result = func(3, 4)\n",
    "print(result)\n",
    "\n",
    "my_list = [1, 5, 4, 6, 8, 11, 3, 12]\n",
    "new_list = list(filter(lambda x: (x%2 == 0) , my_list))\n",
    "print(new_list)                                          # Output: [4, 6, 8, 12]\n",
    "\n",
    "my_list = [1, 5, 4, 6, 8, 11, 3, 12]\n",
    "new_list = list(map(lambda x: x * 2 , my_list))\n",
    "print(new_list)                                          # Output: [2, 10, 8, 12, 16, 22, 6, 24]"
   ]
  },
  {
   "cell_type": "code",
   "execution_count": 55,
   "metadata": {},
   "outputs": [
    {
     "name": "stdout",
     "output_type": "stream",
     "text": [
      "The value of x is 5 and y is 10\n",
      "... 5 ...5 ...10\n",
      "... 5 ...10\n",
      "... 500 ...1000\n",
      "The value of x is 12.35\n"
     ]
    }
   ],
   "source": [
    "x = 5; y = 10\n",
    "\n",
    "print('The value of x is {} and y is {}'.format(x,y))\n",
    "print('... {0} ...{0} ...{1}'.format(x,y))\n",
    "print('... {a} ...{b}'.format(a=x, b=y))               # keyword arguments\n",
    "print(f'... {100*x} ...{100*y}')                       # Literal string interpolation (f-string)\n",
    "x = 12.3456789\n",
    "print('The value of x is %3.2f' %x)                    # old sprintf() style used in C"
   ]
  },
  {
   "cell_type": "code",
   "execution_count": 23,
   "metadata": {},
   "outputs": [
    {
     "name": "stdout",
     "output_type": "stream",
     "text": [
      "3.0\n",
      "3.0\n",
      "42.0\n",
      "200000.0\n",
      "42\n",
      "15\n",
      "10\n",
      "65535\n",
      "(1+3.14j) 1.0 3.14\n",
      "This is...\n",
      "........Python\n",
      "This is a multiline string\n",
      "            with more than one line code.\n",
      "Ünicöde\n",
      "raw \\n string\n",
      "None\n"
     ]
    }
   ],
   "source": [
    "import math\n",
    "print(math.pi)\n",
    "math.pi = 3.0\n",
    "print(math.pi) # not really a constant\n",
    "\n",
    "x = 42.0\n",
    "print(x)\n",
    "\n",
    "x = 2e5\n",
    "print(x)\n",
    "\n",
    "x = 42\n",
    "print(x)\n",
    "\n",
    "x = 0b00001111\n",
    "print(x)\n",
    "\n",
    "x = 0o12\n",
    "print(x)\n",
    "\n",
    "x = 0x0000ffff\n",
    "print(x)\n",
    "\n",
    "x = 1 + 3.14j\n",
    "print(x, x.real, x.imag)\n",
    "\n",
    "x = \"This is...\\n........Python\"\n",
    "print(x)\n",
    "\n",
    "x = \"\"\"This is a multiline string\n",
    "            with more than one line code.\"\"\"\n",
    "print(x)\n",
    "\n",
    "x = u\"\\u00dcnic\\u00f6de\"\n",
    "print(x)\n",
    "\n",
    "x = r\"raw \\n string\"\n",
    "print(x)\n",
    "\n",
    "x = None\n",
    "print(x)"
   ]
  },
  {
   "cell_type": "code",
   "execution_count": 40,
   "metadata": {},
   "outputs": [
    {
     "name": "stdout",
     "output_type": "stream",
     "text": [
      "()\n",
      "<class 'tuple'>\n",
      "1\n",
      "<class 'int'>\n",
      "(1,)\n",
      "<class 'tuple'>\n",
      "(1, 2)\n",
      "<class 'tuple'>\n",
      "1\n",
      "<class 'int'>\n",
      "{}\n",
      "<class 'dict'>\n",
      "{}\n",
      "<class 'dict'>\n",
      "{'a': 1}\n",
      "<class 'dict'>\n",
      "set()\n",
      "<class 'set'>\n",
      "{True}\n",
      "<class 'set'>\n"
     ]
    }
   ],
   "source": [
    "x = ()        # empty tuple\n",
    "print(x)\n",
    "print(type(x))\n",
    "\n",
    "x = (1)        # just an int in parenthesis\n",
    "print(x)\n",
    "print(type(x))\n",
    "\n",
    "x = (1,)        # a tuple with one element\n",
    "print(x)\n",
    "print(type(x))\n",
    "\n",
    "x = (1,2)        # a tuple with multiple elements\n",
    "print(x)\n",
    "print(type(x))\n",
    "\n",
    "x = (1)        # non-empty tuple\n",
    "print(x)\n",
    "print(type(x))\n",
    "\n",
    "x = {}          # empty dictionary\n",
    "print(x)\n",
    "print(type(x))\n",
    "\n",
    "x = dict()      # empty dictionary\n",
    "print(x)\n",
    "print(type(x))\n",
    "\n",
    "x = {'a':1}     # non-empty dictionary\n",
    "print(x)\n",
    "print(type(x))\n",
    "\n",
    "x = set()       # empty set\n",
    "print(x)\n",
    "print(type(x))\n",
    "\n",
    "x = {True}      # non-empty set\n",
    "print(x)\n",
    "print(type(x))\n"
   ]
  },
  {
   "cell_type": "code",
   "execution_count": 24,
   "metadata": {},
   "outputs": [
    {
     "name": "stdout",
     "output_type": "stream",
     "text": [
      "['apple', 'mango', 'orange']\n",
      "(1, 2, 3)\n",
      "{'a': 'apple', 'b': 'ball', 'c': 'cat'}\n",
      "{'e', 'a', 'o', 'i', 'u'}\n"
     ]
    }
   ],
   "source": [
    "fruits = [\"apple\", \"mango\", \"orange\"]            #list\n",
    "numbers = (1, 2, 3)                              #tuple\n",
    "alphabets = {'a':'apple', 'b':'ball', 'c':'cat'} #dictionary\n",
    "vowels = {'a', 'e', 'i' , 'o', 'u'}              #set\n",
    "\n",
    "print(fruits)\n",
    "print(numbers)\n",
    "print(alphabets)\n",
    "print(vowels)"
   ]
  },
  {
   "cell_type": "code",
   "execution_count": 21,
   "metadata": {},
   "outputs": [
    {
     "name": "stdout",
     "output_type": "stream",
     "text": [
      "Thie is the my_func docstring\n"
     ]
    }
   ],
   "source": [
    "def my_func():\n",
    "    '''Thie is the my_func docstring'''\n",
    "    pass\n",
    "\n",
    "print(my_func.__doc__)"
   ]
  },
  {
   "cell_type": "code",
   "execution_count": 17,
   "metadata": {},
   "outputs": [
    {
     "name": "stdout",
     "output_type": "stream",
     "text": [
      "[[1, 2, 3, 4], [5, 6, 7, 8], [9, 10, 11, 12]]\n",
      "[[1, 5, 9], [2, 6, 10], [3, 7, 11], [4, 8, 12]]\n"
     ]
    }
   ],
   "source": [
    "matrix = [\n",
    "    [1, 2, 3, 4],\n",
    "    [5, 6, 7, 8],\n",
    "    [9, 10, 11, 12]\n",
    "]\n",
    "print(matrix)\n",
    "\n",
    "transpose = [[row[i] for row in matrix] for i in range(len(matrix[0]))]\n",
    "print(transpose)"
   ]
  },
  {
   "cell_type": "code",
   "execution_count": 13,
   "metadata": {},
   "outputs": [
    {
     "name": "stdout",
     "output_type": "stream",
     "text": [
      "[0, 1, 4, 9, 16, 25, 36, 49, 64, 81]\n",
      "9\n",
      "[0, 1, 4, 9, 16, 25, 36, 49, 64, 81]\n",
      "[0, 1, 4, 9, 16, 25, 36, 49, 64, 81]\n"
     ]
    }
   ],
   "source": [
    "squares1 = []\n",
    "for x in range(10):\n",
    "    squares1.append(x**2)\n",
    "print(squares1)\n",
    "print(x)\n",
    "squares1 = list(map(lambda x: x**2, range(10)))\n",
    "print(squares1)\n",
    "squares2 = [x**2 for x in range(10)]\n",
    "print(squares2)"
   ]
  },
  {
   "cell_type": "code",
   "execution_count": 4,
   "metadata": {},
   "outputs": [
    {
     "name": "stdout",
     "output_type": "stream",
     "text": [
      "43\n",
      "42\n",
      "[43]\n",
      "[43]\n"
     ]
    }
   ],
   "source": [
    "def func1(x):\n",
    "    x += 1\n",
    "    print(x)\n",
    "\n",
    "x = 42\n",
    "func1(x)\n",
    "print(x)\n",
    "\n",
    "def func2(x):\n",
    "    x[0] += 1\n",
    "    print(x)\n",
    "\n",
    "x = [42]\n",
    "func2(x)\n",
    "print(x)"
   ]
  },
  {
   "cell_type": "code",
   "execution_count": 7,
   "metadata": {},
   "outputs": [
    {
     "data": {
      "text/plain": [
       "'p:       3.14'"
      ]
     },
     "execution_count": 7,
     "metadata": {},
     "output_type": "execute_result"
    }
   ],
   "source": [
    "import math\n",
    "\n",
    "pi = math.pi\n",
    "f'p: {pi:10.2f}'"
   ]
  },
  {
   "cell_type": "code",
   "execution_count": 4,
   "metadata": {},
   "outputs": [
    {
     "data": {
      "text/plain": [
       "sys.float_info(max=1.7976931348623157e+308, max_exp=1024, max_10_exp=308, min=2.2250738585072014e-308, min_exp=-1021, min_10_exp=-307, dig=15, mant_dig=53, epsilon=2.220446049250313e-16, radix=2, rounds=1)"
      ]
     },
     "execution_count": 4,
     "metadata": {},
     "output_type": "execute_result"
    }
   ],
   "source": [
    "import sys\n",
    "sys.float_info"
   ]
  },
  {
   "cell_type": "code",
   "execution_count": 7,
   "metadata": {},
   "outputs": [
    {
     "name": "stdout",
     "output_type": "stream",
     "text": [
      "(2+3j)\n",
      "(2-3j)\n"
     ]
    }
   ],
   "source": [
    "z = 2+3j\n",
    "print(complex(z))\n",
    "z = z.conjugate()\n",
    "print(complex(z))"
   ]
  },
  {
   "cell_type": "code",
   "execution_count": 2,
   "metadata": {},
   "outputs": [
    {
     "data": {
      "text/plain": [
       "(884279719003555, 281474976710656)"
      ]
     },
     "execution_count": 2,
     "metadata": {},
     "output_type": "execute_result"
    }
   ],
   "source": [
    "import math\n",
    "math.pi.as_integer_ratio()"
   ]
  },
  {
   "cell_type": "code",
   "execution_count": 13,
   "metadata": {},
   "outputs": [
    {
     "name": "stdout",
     "output_type": "stream",
     "text": [
      "0x1.0000000000000p+0\n",
      "0x1.0000000000000p+1\n",
      "0x1.0000000000000p-1\n",
      "0x1.0000000000000p+10\n",
      "0x1.1000000000000p+3\n",
      "-0x1.1000000000000p+3\n",
      "0x1.921fb54442d18p+1\n"
     ]
    }
   ],
   "source": [
    "print(1.0.hex())\n",
    "print(2.0.hex())\n",
    "print(0.5.hex())\n",
    "print(1024.0.hex())\n",
    "print((8.5).hex())\n",
    "print((-8.5).hex())\n",
    "import math\n",
    "print(math.pi.hex())"
   ]
  },
  {
   "cell_type": "code",
   "execution_count": 19,
   "metadata": {},
   "outputs": [
    {
     "name": "stdout",
     "output_type": "stream",
     "text": [
      "sum: 50000005000000, naiveDuration: 1.8121809959411621\n",
      "sum: 50000005000000, gaussDuration: 0.0000000000000000\n"
     ]
    },
    {
     "data": {
      "image/png": "[encoded data removed]",
      "text/plain": [
       "<matplotlib.figure.Figure at 0x26e1b937208>"
      ]
     },
     "metadata": {},
     "output_type": "display_data"
    }
   ],
   "source": [
    "import time\n",
    "from matplotlib import pyplot as plt\n",
    "\n",
    "def naiveSumOfN(n):\n",
    "    start = time.time()\n",
    "    sum = 0\n",
    "    for i in range(1,n+1):\n",
    "        sum = sum + i\n",
    "    end = time.time()\n",
    "    return sum, end-start\n",
    "\n",
    "def gaussSumOfN (n):\n",
    "    start = time.time()\n",
    "    sum = int((n*(n+1))/2)\n",
    "    end = time.time()\n",
    "    return sum, end-start\n",
    "\n",
    "numbers = range(0, 10000000+1, 1000000)\n",
    "\n",
    "naiveDurations = []\n",
    "for n in numbers:\n",
    "    sum, naiveDuration = naiveSumOfN(n)\n",
    "    naiveDurations.append(naiveDuration)\n",
    "print(\"sum: {0:d}, naiveDuration: {1:.16f}\".format(sum, naiveDuration))\n",
    "\n",
    "gaussDurations = []\n",
    "for n in numbers:\n",
    "    sum, gaussDuration = gaussSumOfN(n)\n",
    "    gaussDurations.append(gaussDuration)\n",
    "print(\"sum: {0:d}, gaussDuration: {1:.16f}\".format(sum, gaussDuration))\n",
    "    \n",
    "plt.plot(numbers, naiveDurations)\n",
    "plt.plot(numbers, gaussDurations)\n",
    "plt.title('Execution times of naiveSumOfN')\n",
    "plt.ylabel('seconds')\n",
    "plt.xlabel('number')\n",
    "plt.show()"
   ]
  },
  {
   "cell_type": "code",
   "execution_count": null,
   "metadata": {},
   "outputs": [],
   "source": []
  }
 ],
 "metadata": {
  "kernelspec": {
   "display_name": "Python 3",
   "language": "python",
   "name": "python3"
  },
  "language_info": {
   "codemirror_mode": {
    "name": "ipython",
    "version": 3
   },
   "file_extension": ".py",
   "mimetype": "text/x-python",
   "name": "python",
   "nbconvert_exporter": "python",
   "pygments_lexer": "ipython3",
   "version": "3.6.4"
  }
 },
 "nbformat": 4,
 "nbformat_minor": 2
}
