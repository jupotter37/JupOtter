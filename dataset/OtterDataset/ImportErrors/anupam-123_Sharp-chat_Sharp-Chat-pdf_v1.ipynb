{
 "cells": [
  {
   "cell_type": "code",
   "execution_count": 2,
   "metadata": {},
   "outputs": [],
   "source": [
    "from langchain_community.document_loaders import PyPDFLoader\n",
    "from langchain.text_splitter import CharacterTextSplitter\n",
    "\n"
   ]
  },
  {
   "cell_type": "code",
   "execution_count": 4,
   "metadata": {},
   "outputs": [],
   "source": [
    "loader = PyPDFLoader(\n",
    "    \"./Document/SHARP Synappx GO Documentation (2).pdf\",\n",
    "    # extract_images=True\n",
    ")"
   ]
  },
  {
   "cell_type": "code",
   "execution_count": 5,
   "metadata": {},
   "outputs": [],
   "source": [
    "i = 1"
   ]
  },
  {
   "cell_type": "code",
   "execution_count": 6,
   "metadata": {},
   "outputs": [
    {
     "name": "stdout",
     "output_type": "stream",
     "text": [
      "page_content='Scan: \n",
      " Tap your phone to scan a file to yourself (via email), email \n",
      "distribution lists, and popular cloud storage services.  \n",
      "Print: \n",
      " Walk up to any enabled MFP to release print jobs and print from \n",
      "cloud storage. \n",
      "Copy: \n",
      " Create contactless copy jobs from your mobile phone and save \n",
      "your favorite copy settings.  \n",
      " \n",
      "Share: \n",
      " Tap the NFC tag to display content on the Sharp display. \n",
      "  Team members can also tap the NFC tag to retrieve content and \n",
      "collaborate.  \n",
      " Remotely operate Microsoft Office files.  \n",
      " Speed up collaboration with Synappx Go. Modified content is \n",
      "stored back in the original cloud location. \n",
      " \n",
      "Meet (Collaboration Hub beta): \n",
      " Tap NFC tag, select a meeting from your mobile and automatically \n",
      "start web conference sessions on the display, connecting all \n",
      "necessary audio/video components.  \n",
      " Create ad hoc meetings from your mobile for unscheduled \n",
      "collaborations \n",
      " Remotely operate web conference and cloud or attachment files \n",
      "from your smartphone.  \n",
      " Close opened files, end and disconnect meeting with one click. ' metadata={'source': './Document/SHARP Synappx GO Documentation (2).pdf', 'page': 1}\n"
     ]
    }
   ],
   "source": [
    "docs_lazy = loader.lazy_load()\n",
    "# print(docs_lazy)\n",
    "# docs_lazy\n",
    "docs = []\n",
    "for doc in docs_lazy:\n",
    "    docs.append(doc)\n",
    "print(docs[i])"
   ]
  },
  {
   "cell_type": "code",
   "execution_count": null,
   "metadata": {},
   "outputs": [],
   "source": []
  },
  {
   "cell_type": "code",
   "execution_count": 38,
   "metadata": {},
   "outputs": [
    {
     "ename": "ImportError",
     "evalue": "`rapidocr-onnxruntime` package not found, please install it with `pip install rapidocr-onnxruntime`",
     "output_type": "error",
     "traceback": [
      "\u001b[1;31m---------------------------------------------------------------------------\u001b[0m",
      "\u001b[1;31mModuleNotFoundError\u001b[0m                       Traceback (most recent call last)",
      "File \u001b[1;32md:\\Anupam Project\\GenAI\\gen\\Lib\\site-packages\\langchain_community\\document_loaders\\parsers\\pdf.py:68\u001b[0m, in \u001b[0;36mextract_from_images_with_rapidocr\u001b[1;34m(images)\u001b[0m\n\u001b[0;32m     67\u001b[0m \u001b[38;5;28;01mtry\u001b[39;00m:\n\u001b[1;32m---> 68\u001b[0m     \u001b[38;5;28;01mfrom\u001b[39;00m \u001b[38;5;21;01mrapidocr_onnxruntime\u001b[39;00m \u001b[38;5;28;01mimport\u001b[39;00m RapidOCR\n\u001b[0;32m     69\u001b[0m \u001b[38;5;28;01mexcept\u001b[39;00m \u001b[38;5;167;01mImportError\u001b[39;00m:\n",
      "\u001b[1;31mModuleNotFoundError\u001b[0m: No module named 'rapidocr_onnxruntime'",
      "\nDuring handling of the above exception, another exception occurred:\n",
      "\u001b[1;31mImportError\u001b[0m                               Traceback (most recent call last)",
      "Cell \u001b[1;32mIn[38], line 3\u001b[0m\n\u001b[0;32m      1\u001b[0m \u001b[38;5;66;03m# loader\u001b[39;00m\n\u001b[0;32m      2\u001b[0m docs \u001b[38;5;241m=\u001b[39m []\n\u001b[1;32m----> 3\u001b[0m \u001b[38;5;28;01masync\u001b[39;00m \u001b[38;5;28;01mfor\u001b[39;00m page \u001b[38;5;129;01min\u001b[39;00m loader\u001b[38;5;241m.\u001b[39malazy_load():\n\u001b[0;32m      4\u001b[0m     docs\u001b[38;5;241m.\u001b[39mappend(page)\n\u001b[0;32m      5\u001b[0m docs[\u001b[38;5;241m0\u001b[39m]\u001b[38;5;241m.\u001b[39mpage_content\n",
      "File \u001b[1;32md:\\Anupam Project\\GenAI\\gen\\Lib\\site-packages\\langchain_core\\document_loaders\\base.py:83\u001b[0m, in \u001b[0;36mBaseLoader.alazy_load\u001b[1;34m(self)\u001b[0m\n\u001b[0;32m     81\u001b[0m done \u001b[38;5;241m=\u001b[39m \u001b[38;5;28mobject\u001b[39m()\n\u001b[0;32m     82\u001b[0m \u001b[38;5;28;01mwhile\u001b[39;00m \u001b[38;5;28;01mTrue\u001b[39;00m:\n\u001b[1;32m---> 83\u001b[0m     doc \u001b[38;5;241m=\u001b[39m \u001b[38;5;28;01mawait\u001b[39;00m run_in_executor(\u001b[38;5;28;01mNone\u001b[39;00m, \u001b[38;5;28mnext\u001b[39m, iterator, done)  \u001b[38;5;66;03m# type: ignore[call-arg, arg-type]\u001b[39;00m\n\u001b[0;32m     84\u001b[0m     \u001b[38;5;28;01mif\u001b[39;00m doc \u001b[38;5;129;01mis\u001b[39;00m done:\n\u001b[0;32m     85\u001b[0m         \u001b[38;5;28;01mbreak\u001b[39;00m\n",
      "File \u001b[1;32md:\\Anupam Project\\GenAI\\gen\\Lib\\site-packages\\langchain_core\\runnables\\config.py:588\u001b[0m, in \u001b[0;36mrun_in_executor\u001b[1;34m(executor_or_config, func, *args, **kwargs)\u001b[0m\n\u001b[0;32m    584\u001b[0m         \u001b[38;5;28;01mraise\u001b[39;00m \u001b[38;5;167;01mRuntimeError\u001b[39;00m \u001b[38;5;28;01mfrom\u001b[39;00m \u001b[38;5;21;01mexc\u001b[39;00m\n\u001b[0;32m    586\u001b[0m \u001b[38;5;28;01mif\u001b[39;00m executor_or_config \u001b[38;5;129;01mis\u001b[39;00m \u001b[38;5;28;01mNone\u001b[39;00m \u001b[38;5;129;01mor\u001b[39;00m \u001b[38;5;28misinstance\u001b[39m(executor_or_config, \u001b[38;5;28mdict\u001b[39m):\n\u001b[0;32m    587\u001b[0m     \u001b[38;5;66;03m# Use default executor with context copied from current context\u001b[39;00m\n\u001b[1;32m--> 588\u001b[0m     \u001b[38;5;28;01mreturn\u001b[39;00m \u001b[38;5;28;01mawait\u001b[39;00m asyncio\u001b[38;5;241m.\u001b[39mget_running_loop()\u001b[38;5;241m.\u001b[39mrun_in_executor(\n\u001b[0;32m    589\u001b[0m         \u001b[38;5;28;01mNone\u001b[39;00m,\n\u001b[0;32m    590\u001b[0m         cast(Callable[\u001b[38;5;241m.\u001b[39m\u001b[38;5;241m.\u001b[39m\u001b[38;5;241m.\u001b[39m, T], partial(copy_context()\u001b[38;5;241m.\u001b[39mrun, wrapper)),\n\u001b[0;32m    591\u001b[0m     )\n\u001b[0;32m    593\u001b[0m \u001b[38;5;28;01mreturn\u001b[39;00m \u001b[38;5;28;01mawait\u001b[39;00m asyncio\u001b[38;5;241m.\u001b[39mget_running_loop()\u001b[38;5;241m.\u001b[39mrun_in_executor(executor_or_config, wrapper)\n",
      "File \u001b[1;32mC:\\Python313\\Lib\\concurrent\\futures\\thread.py:58\u001b[0m, in \u001b[0;36m_WorkItem.run\u001b[1;34m(self)\u001b[0m\n\u001b[0;32m     55\u001b[0m     \u001b[38;5;28;01mreturn\u001b[39;00m\n\u001b[0;32m     57\u001b[0m \u001b[38;5;28;01mtry\u001b[39;00m:\n\u001b[1;32m---> 58\u001b[0m     result \u001b[38;5;241m=\u001b[39m \u001b[38;5;28;43mself\u001b[39;49m\u001b[38;5;241;43m.\u001b[39;49m\u001b[43mfn\u001b[49m\u001b[43m(\u001b[49m\u001b[38;5;241;43m*\u001b[39;49m\u001b[38;5;28;43mself\u001b[39;49m\u001b[38;5;241;43m.\u001b[39;49m\u001b[43margs\u001b[49m\u001b[43m,\u001b[49m\u001b[43m \u001b[49m\u001b[38;5;241;43m*\u001b[39;49m\u001b[38;5;241;43m*\u001b[39;49m\u001b[38;5;28;43mself\u001b[39;49m\u001b[38;5;241;43m.\u001b[39;49m\u001b[43mkwargs\u001b[49m\u001b[43m)\u001b[49m\n\u001b[0;32m     59\u001b[0m \u001b[38;5;28;01mexcept\u001b[39;00m \u001b[38;5;167;01mBaseException\u001b[39;00m \u001b[38;5;28;01mas\u001b[39;00m exc:\n\u001b[0;32m     60\u001b[0m     \u001b[38;5;28mself\u001b[39m\u001b[38;5;241m.\u001b[39mfuture\u001b[38;5;241m.\u001b[39mset_exception(exc)\n",
      "File \u001b[1;32md:\\Anupam Project\\GenAI\\gen\\Lib\\site-packages\\langchain_core\\runnables\\config.py:579\u001b[0m, in \u001b[0;36mrun_in_executor.<locals>.wrapper\u001b[1;34m()\u001b[0m\n\u001b[0;32m    577\u001b[0m \u001b[38;5;28;01mdef\u001b[39;00m \u001b[38;5;21mwrapper\u001b[39m() \u001b[38;5;241m-\u001b[39m\u001b[38;5;241m>\u001b[39m T:\n\u001b[0;32m    578\u001b[0m     \u001b[38;5;28;01mtry\u001b[39;00m:\n\u001b[1;32m--> 579\u001b[0m         \u001b[38;5;28;01mreturn\u001b[39;00m \u001b[43mfunc\u001b[49m\u001b[43m(\u001b[49m\u001b[38;5;241;43m*\u001b[39;49m\u001b[43margs\u001b[49m\u001b[43m,\u001b[49m\u001b[43m \u001b[49m\u001b[38;5;241;43m*\u001b[39;49m\u001b[38;5;241;43m*\u001b[39;49m\u001b[43mkwargs\u001b[49m\u001b[43m)\u001b[49m\n\u001b[0;32m    580\u001b[0m     \u001b[38;5;28;01mexcept\u001b[39;00m \u001b[38;5;167;01mStopIteration\u001b[39;00m \u001b[38;5;28;01mas\u001b[39;00m exc:\n\u001b[0;32m    581\u001b[0m         \u001b[38;5;66;03m# StopIteration can't be set on an asyncio.Future\u001b[39;00m\n\u001b[0;32m    582\u001b[0m         \u001b[38;5;66;03m# it raises a TypeError and leaves the Future pending forever\u001b[39;00m\n\u001b[0;32m    583\u001b[0m         \u001b[38;5;66;03m# so we need to convert it to a RuntimeError\u001b[39;00m\n\u001b[0;32m    584\u001b[0m         \u001b[38;5;28;01mraise\u001b[39;00m \u001b[38;5;167;01mRuntimeError\u001b[39;00m \u001b[38;5;28;01mfrom\u001b[39;00m \u001b[38;5;21;01mexc\u001b[39;00m\n",
      "File \u001b[1;32md:\\Anupam Project\\GenAI\\gen\\Lib\\site-packages\\langchain_community\\document_loaders\\pdf.py:257\u001b[0m, in \u001b[0;36mPyPDFLoader.lazy_load\u001b[1;34m(self)\u001b[0m\n\u001b[0;32m    255\u001b[0m \u001b[38;5;28;01melse\u001b[39;00m:\n\u001b[0;32m    256\u001b[0m     blob \u001b[38;5;241m=\u001b[39m Blob\u001b[38;5;241m.\u001b[39mfrom_path(\u001b[38;5;28mself\u001b[39m\u001b[38;5;241m.\u001b[39mfile_path)  \u001b[38;5;66;03m# type: ignore[attr-defined]\u001b[39;00m\n\u001b[1;32m--> 257\u001b[0m \u001b[38;5;28;01myield from\u001b[39;00m \u001b[38;5;28;43mself\u001b[39;49m\u001b[38;5;241;43m.\u001b[39;49m\u001b[43mparser\u001b[49m\u001b[38;5;241;43m.\u001b[39;49m\u001b[43mparse\u001b[49m\u001b[43m(\u001b[49m\u001b[43mblob\u001b[49m\u001b[43m)\u001b[49m\n",
      "File \u001b[1;32md:\\Anupam Project\\GenAI\\gen\\Lib\\site-packages\\langchain_core\\document_loaders\\base.py:127\u001b[0m, in \u001b[0;36mBaseBlobParser.parse\u001b[1;34m(self, blob)\u001b[0m\n\u001b[0;32m    112\u001b[0m \u001b[38;5;28;01mdef\u001b[39;00m \u001b[38;5;21mparse\u001b[39m(\u001b[38;5;28mself\u001b[39m, blob: Blob) \u001b[38;5;241m-\u001b[39m\u001b[38;5;241m>\u001b[39m \u001b[38;5;28mlist\u001b[39m[Document]:\n\u001b[0;32m    113\u001b[0m \u001b[38;5;250m    \u001b[39m\u001b[38;5;124;03m\"\"\"Eagerly parse the blob into a document or documents.\u001b[39;00m\n\u001b[0;32m    114\u001b[0m \n\u001b[0;32m    115\u001b[0m \u001b[38;5;124;03m    This is a convenience method for interactive development environment.\u001b[39;00m\n\u001b[1;32m   (...)\u001b[0m\n\u001b[0;32m    125\u001b[0m \u001b[38;5;124;03m        List of documents\u001b[39;00m\n\u001b[0;32m    126\u001b[0m \u001b[38;5;124;03m    \"\"\"\u001b[39;00m\n\u001b[1;32m--> 127\u001b[0m     \u001b[38;5;28;01mreturn\u001b[39;00m \u001b[38;5;28;43mlist\u001b[39;49m\u001b[43m(\u001b[49m\u001b[38;5;28;43mself\u001b[39;49m\u001b[38;5;241;43m.\u001b[39;49m\u001b[43mlazy_parse\u001b[49m\u001b[43m(\u001b[49m\u001b[43mblob\u001b[49m\u001b[43m)\u001b[49m\u001b[43m)\u001b[49m\n",
      "File \u001b[1;32md:\\Anupam Project\\GenAI\\gen\\Lib\\site-packages\\langchain_community\\document_loaders\\parsers\\pdf.py:128\u001b[0m, in \u001b[0;36mPyPDFParser.lazy_parse\u001b[1;34m(self, blob)\u001b[0m\n\u001b[0;32m    122\u001b[0m \u001b[38;5;28;01mwith\u001b[39;00m blob\u001b[38;5;241m.\u001b[39mas_bytes_io() \u001b[38;5;28;01mas\u001b[39;00m pdf_file_obj:  \u001b[38;5;66;03m# type: ignore[attr-defined]\u001b[39;00m\n\u001b[0;32m    123\u001b[0m     pdf_reader \u001b[38;5;241m=\u001b[39m pypdf\u001b[38;5;241m.\u001b[39mPdfReader(pdf_file_obj, password\u001b[38;5;241m=\u001b[39m\u001b[38;5;28mself\u001b[39m\u001b[38;5;241m.\u001b[39mpassword)\n\u001b[0;32m    125\u001b[0m     \u001b[38;5;28;01myield from\u001b[39;00m [\n\u001b[0;32m    126\u001b[0m         Document(\n\u001b[0;32m    127\u001b[0m             page_content\u001b[38;5;241m=\u001b[39m_extract_text_from_page(page\u001b[38;5;241m=\u001b[39mpage)\n\u001b[1;32m--> 128\u001b[0m             \u001b[38;5;241m+\u001b[39m \u001b[38;5;28;43mself\u001b[39;49m\u001b[38;5;241;43m.\u001b[39;49m\u001b[43m_extract_images_from_page\u001b[49m\u001b[43m(\u001b[49m\u001b[43mpage\u001b[49m\u001b[43m)\u001b[49m,\n\u001b[0;32m    129\u001b[0m             metadata\u001b[38;5;241m=\u001b[39m{\u001b[38;5;124m\"\u001b[39m\u001b[38;5;124msource\u001b[39m\u001b[38;5;124m\"\u001b[39m: blob\u001b[38;5;241m.\u001b[39msource, \u001b[38;5;124m\"\u001b[39m\u001b[38;5;124mpage\u001b[39m\u001b[38;5;124m\"\u001b[39m: page_number},  \u001b[38;5;66;03m# type: ignore[attr-defined]\u001b[39;00m\n\u001b[0;32m    130\u001b[0m         )\n\u001b[0;32m    131\u001b[0m         \u001b[38;5;28;01mfor\u001b[39;00m page_number, page \u001b[38;5;129;01min\u001b[39;00m \u001b[38;5;28menumerate\u001b[39m(pdf_reader\u001b[38;5;241m.\u001b[39mpages)\n\u001b[0;32m    132\u001b[0m     ]\n",
      "File \u001b[1;32md:\\Anupam Project\\GenAI\\gen\\Lib\\site-packages\\langchain_community\\document_loaders\\parsers\\pdf.py:155\u001b[0m, in \u001b[0;36mPyPDFParser._extract_images_from_page\u001b[1;34m(self, page)\u001b[0m\n\u001b[0;32m    153\u001b[0m         \u001b[38;5;28;01melse\u001b[39;00m:\n\u001b[0;32m    154\u001b[0m             warnings\u001b[38;5;241m.\u001b[39mwarn(\u001b[38;5;124m\"\u001b[39m\u001b[38;5;124mUnknown PDF Filter!\u001b[39m\u001b[38;5;124m\"\u001b[39m)\n\u001b[1;32m--> 155\u001b[0m \u001b[38;5;28;01mreturn\u001b[39;00m \u001b[43mextract_from_images_with_rapidocr\u001b[49m\u001b[43m(\u001b[49m\u001b[43mimages\u001b[49m\u001b[43m)\u001b[49m\n",
      "File \u001b[1;32md:\\Anupam Project\\GenAI\\gen\\Lib\\site-packages\\langchain_community\\document_loaders\\parsers\\pdf.py:70\u001b[0m, in \u001b[0;36mextract_from_images_with_rapidocr\u001b[1;34m(images)\u001b[0m\n\u001b[0;32m     68\u001b[0m     \u001b[38;5;28;01mfrom\u001b[39;00m \u001b[38;5;21;01mrapidocr_onnxruntime\u001b[39;00m \u001b[38;5;28;01mimport\u001b[39;00m RapidOCR\n\u001b[0;32m     69\u001b[0m \u001b[38;5;28;01mexcept\u001b[39;00m \u001b[38;5;167;01mImportError\u001b[39;00m:\n\u001b[1;32m---> 70\u001b[0m     \u001b[38;5;28;01mraise\u001b[39;00m \u001b[38;5;167;01mImportError\u001b[39;00m(\n\u001b[0;32m     71\u001b[0m         \u001b[38;5;124m\"\u001b[39m\u001b[38;5;124m`rapidocr-onnxruntime` package not found, please install it with \u001b[39m\u001b[38;5;124m\"\u001b[39m\n\u001b[0;32m     72\u001b[0m         \u001b[38;5;124m\"\u001b[39m\u001b[38;5;124m`pip install rapidocr-onnxruntime`\u001b[39m\u001b[38;5;124m\"\u001b[39m\n\u001b[0;32m     73\u001b[0m     )\n\u001b[0;32m     74\u001b[0m ocr \u001b[38;5;241m=\u001b[39m RapidOCR()\n\u001b[0;32m     75\u001b[0m text \u001b[38;5;241m=\u001b[39m \u001b[38;5;124m\"\u001b[39m\u001b[38;5;124m\"\u001b[39m\n",
      "\u001b[1;31mImportError\u001b[0m: `rapidocr-onnxruntime` package not found, please install it with `pip install rapidocr-onnxruntime`"
     ]
    }
   ],
   "source": [
    "# loader\n",
    "docs = []\n",
    "async for page in loader.alazy_load():\n",
    "    docs.append(page)\n",
    "docs[0].page_content"
   ]
  },
  {
   "cell_type": "code",
   "execution_count": 7,
   "metadata": {},
   "outputs": [
    {
     "name": "stdout",
     "output_type": "stream",
     "text": [
      "{'source': './Document/SHARP Synappx GO Documentation (2).pdf', 'page': 2}\n",
      "\n",
      "Web Page Login through allotted users to access from Admin \n",
      "portal. \n",
      "Login through Microsoft Account, \n",
      "Ex: (XXX1@sharpsoftwaredev.onmicrosoft.com). \n",
      "There are Few types of Stacks login as per that stack, \n",
      "Here, I am Using Dev1 Stack. \n",
      " \n",
      " \n",
      " \n",
      "Then, \n",
      "As usually enter the password and login to it then, \n",
      "After login page: \n",
      "After login into it we can see Few Options like:(Uses, Workspace, \n",
      "Analytics, Settings, Subscriptions, Systems.  \n",
      "\n"
     ]
    }
   ],
   "source": [
    "i = 2\n",
    "print(f\"{docs[i].metadata}\\n\")\n",
    "print(docs[i].page_content)"
   ]
  },
  {
   "cell_type": "markdown",
   "metadata": {},
   "source": [
    "pip install rapidocr-onnxruntime"
   ]
  },
  {
   "cell_type": "code",
   "execution_count": 8,
   "metadata": {},
   "outputs": [
    {
     "name": "stdout",
     "output_type": "stream",
     "text": [
      "434\n"
     ]
    },
    {
     "data": {
      "text/plain": [
       "['Web Page Login through allotted users to access',\n",
       " 'to access from Admin \\nportal. \\nLogin through',\n",
       " 'through Microsoft Account, \\nEx:',\n",
       " 'Ex: (XXX1@sharpsoftwaredev.onmicrosoft.com).',\n",
       " 'There are Few types of Stacks login as per that',\n",
       " 'per that stack, \\nHere, I am Using Dev1 Stack.',\n",
       " 'Stack. \\n \\n \\n \\nThen, \\nAs usually enter the password',\n",
       " 'password and login to it then, \\nAfter login page:',\n",
       " 'page: \\nAfter login into it we can see Few Options',\n",
       " 'Options like:(Uses, Workspace, \\nAnalytics,',\n",
       " 'Settings, Subscriptions, Systems.']"
      ]
     },
     "execution_count": 8,
     "metadata": {},
     "output_type": "execute_result"
    }
   ],
   "source": [
    "splitText = CharacterTextSplitter(separator=\" \",\n",
    "    chunk_size=50,\n",
    "    chunk_overlap=10,\n",
    "    length_function=len,\n",
    "    is_separator_regex=False)\n",
    "print(len(docs[i].page_content))\n",
    "splitText.split_text(docs[i].page_content)"
   ]
  },
  {
   "cell_type": "code",
   "execution_count": null,
   "metadata": {},
   "outputs": [],
   "source": [
    "['Scan: \\n\\uf0b7 Tap your phone to scan a file to yourself (via email), email \\ndistribution lists, and popular cloud storage services.  \\nPrint: \\n\\uf0b7 Walk up to any enabled MFP to release print jobs and print from \\ncloud storage. \\nCopy: \\n\\uf0b7 Create contactless copy jobs from your mobile phone and save \\nyour favorite copy settings.  \\n \\nShare: \\n\\uf0b7 Tap the NFC tag to display content on the Sharp display. \\n\\uf0b7  Team members can also tap the NFC tag to retrieve content and \\ncollaborate.  \\n\\uf0b7 Remotely operate Microsoft Office files.  \\n\\uf0b7 Speed up collaboration with Synappx Go. Modified content is \\nstored back in the original cloud location. \\n \\nMeet (Collaboration Hub beta): \\n\\uf0b7 Tap NFC tag, select a meeting from your mobile and automatically \\nstart web conference sessions on the display, connecting all \\nnecessary audio/video components.  \\n\\uf0b7 Create ad hoc meetings from your mobile for unscheduled \\ncollaborations \\n\\uf0b7 Remotely operate web conference and cloud or attachment files \\nfrom your smartphone.  \\n\\uf0b7 Close opened files, end and disconnect meeting with one click.']"
   ]
  },
  {
   "cell_type": "code",
   "execution_count": 2,
   "metadata": {},
   "outputs": [],
   "source": [
    "# echo \"# Sharp-chat\" >> README.md\n",
    "# git init\n",
    "# git add README.md\n",
    "# git commit -m \"initial chunking implementation\"\n",
    "# git branch -M main\n",
    "# git remote add origin https://github.com/anupam-123/Sharp-chat.git\n",
    "# git push -u origin main"
   ]
  }
 ],
 "metadata": {
  "kernelspec": {
   "display_name": "env",
   "language": "python",
   "name": "python3"
  },
  "language_info": {
   "codemirror_mode": {
    "name": "ipython",
    "version": 3
   },
   "file_extension": ".py",
   "mimetype": "text/x-python",
   "name": "python",
   "nbconvert_exporter": "python",
   "pygments_lexer": "ipython3",
   "version": "3.11.9"
  }
 },
 "nbformat": 4,
 "nbformat_minor": 2
}
