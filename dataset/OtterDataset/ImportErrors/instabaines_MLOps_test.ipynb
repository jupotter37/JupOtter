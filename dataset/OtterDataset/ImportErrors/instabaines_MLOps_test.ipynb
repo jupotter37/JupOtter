{
 "cells": [
  {
   "cell_type": "code",
   "execution_count": 1,
   "metadata": {},
   "outputs": [
    {
     "name": "stdout",
     "output_type": "stream",
     "text": [
      "predicted mean duration: 16.191691679979066\n",
      "Traceback (most recent call last):\n",
      "  File \"/home/pscore/anaconda3/envs/exp-tracking/lib/python3.9/site-packages/fsspec/registry.py\", line 228, in get_filesystem_class\n",
      "    register_implementation(protocol, _import_class(bit[\"class\"]))\n",
      "  File \"/home/pscore/anaconda3/envs/exp-tracking/lib/python3.9/site-packages/fsspec/registry.py\", line 251, in _import_class\n",
      "    mod = importlib.import_module(mod)\n",
      "  File \"/home/pscore/anaconda3/envs/exp-tracking/lib/python3.9/importlib/__init__.py\", line 127, in import_module\n",
      "    return _bootstrap._gcd_import(name[level:], package, level)\n",
      "  File \"<frozen importlib._bootstrap>\", line 1030, in _gcd_import\n",
      "  File \"<frozen importlib._bootstrap>\", line 1007, in _find_and_load\n",
      "  File \"<frozen importlib._bootstrap>\", line 984, in _find_and_load_unlocked\n",
      "ModuleNotFoundError: No module named 's3fs'\n",
      "\n",
      "The above exception was the direct cause of the following exception:\n",
      "\n",
      "Traceback (most recent call last):\n",
      "  File \"/home/pscore/Documents/MLOps/Module 6/Homework/batch.py\", line 55, in <module>\n",
      "    main('2021','02')\n",
      "  File \"/home/pscore/Documents/MLOps/Module 6/Homework/batch.py\", line 52, in main\n",
      "    df_result.to_parquet(output_file, engine='pyarrow', index=False)\n",
      "  File \"/home/pscore/anaconda3/envs/exp-tracking/lib/python3.9/site-packages/pandas/util/_decorators.py\", line 207, in wrapper\n",
      "    return func(*args, **kwargs)\n",
      "  File \"/home/pscore/anaconda3/envs/exp-tracking/lib/python3.9/site-packages/pandas/core/frame.py\", line 2835, in to_parquet\n",
      "    return to_parquet(\n",
      "  File \"/home/pscore/anaconda3/envs/exp-tracking/lib/python3.9/site-packages/pandas/io/parquet.py\", line 420, in to_parquet\n",
      "    impl.write(\n",
      "  File \"/home/pscore/anaconda3/envs/exp-tracking/lib/python3.9/site-packages/pandas/io/parquet.py\", line 176, in write\n",
      "    path_or_handle, handles, kwargs[\"filesystem\"] = _get_path_or_handle(\n",
      "  File \"/home/pscore/anaconda3/envs/exp-tracking/lib/python3.9/site-packages/pandas/io/parquet.py\", line 84, in _get_path_or_handle\n",
      "    fs, path_or_handle = fsspec.core.url_to_fs(\n",
      "  File \"/home/pscore/anaconda3/envs/exp-tracking/lib/python3.9/site-packages/fsspec/core.py\", line 408, in url_to_fs\n",
      "    cls = get_filesystem_class(protocol)\n",
      "  File \"/home/pscore/anaconda3/envs/exp-tracking/lib/python3.9/site-packages/fsspec/registry.py\", line 230, in get_filesystem_class\n",
      "    raise ImportError(bit[\"err\"]) from e\n",
      "ImportError: Install s3fs to access S3\n"
     ]
    }
   ],
   "source": [
    "!python batch.py"
   ]
  }
 ],
 "metadata": {
  "kernelspec": {
   "display_name": "Python 3.9.0 ('exp-tracking')",
   "language": "python",
   "name": "python3"
  },
  "language_info": {
   "codemirror_mode": {
    "name": "ipython",
    "version": 3
   },
   "file_extension": ".py",
   "mimetype": "text/x-python",
   "name": "python",
   "nbconvert_exporter": "python",
   "pygments_lexer": "ipython3",
   "version": "3.9.0"
  },
  "orig_nbformat": 4,
  "vscode": {
   "interpreter": {
    "hash": "c94c5cded7d330e34dcb2521c3838973aa0d4649ff3147b155df6d8ab1688136"
   }
  }
 },
 "nbformat": 4,
 "nbformat_minor": 2
}
