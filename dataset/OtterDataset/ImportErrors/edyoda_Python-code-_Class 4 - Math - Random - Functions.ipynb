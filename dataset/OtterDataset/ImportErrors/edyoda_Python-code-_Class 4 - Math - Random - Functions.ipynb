{
 "cells": [
  {
   "cell_type": "code",
   "execution_count": 1,
   "metadata": {},
   "outputs": [],
   "source": [
    "import random"
   ]
  },
  {
   "cell_type": "code",
   "execution_count": 115,
   "metadata": {},
   "outputs": [
    {
     "name": "stdout",
     "output_type": "stream",
     "text": [
      "0.5499161426260591\n"
     ]
    }
   ],
   "source": [
    "print(random.random())"
   ]
  },
  {
   "cell_type": "code",
   "execution_count": 121,
   "metadata": {},
   "outputs": [
    {
     "name": "stdout",
     "output_type": "stream",
     "text": [
      "3\n"
     ]
    }
   ],
   "source": [
    "l = [1,2,3,4,5,6]\n",
    "print(random.choice(l))"
   ]
  },
  {
   "cell_type": "code",
   "execution_count": 48,
   "metadata": {},
   "outputs": [
    {
     "name": "stdout",
     "output_type": "stream",
     "text": [
      "13\n"
     ]
    }
   ],
   "source": [
    "print(random.randint(10,13))"
   ]
  },
  {
   "cell_type": "code",
   "execution_count": 71,
   "metadata": {},
   "outputs": [
    {
     "name": "stdout",
     "output_type": "stream",
     "text": [
      "45\n"
     ]
    }
   ],
   "source": [
    "print(random.randrange(10,50,5))"
   ]
  },
  {
   "cell_type": "code",
   "execution_count": 79,
   "metadata": {},
   "outputs": [
    {
     "name": "stdout",
     "output_type": "stream",
     "text": [
      "['h', 'P', 'y', 'n']\n"
     ]
    }
   ],
   "source": [
    "s = \"Python\"\n",
    "l = random.sample(s,4)\n",
    "print(l)"
   ]
  },
  {
   "cell_type": "code",
   "execution_count": 81,
   "metadata": {},
   "outputs": [
    {
     "name": "stdout",
     "output_type": "stream",
     "text": [
      "150\n",
      "10\n",
      "50\n"
     ]
    }
   ],
   "source": [
    "l = [10,20,30,40,50]\n",
    "print(sum(l))\n",
    "print(min(l))\n",
    "print(max(l))"
   ]
  },
  {
   "cell_type": "code",
   "execution_count": 90,
   "metadata": {},
   "outputs": [
    {
     "name": "stdout",
     "output_type": "stream",
     "text": [
      "12.56\n"
     ]
    }
   ],
   "source": [
    "num = 12.5555\n",
    "print(round(num,2))"
   ]
  },
  {
   "cell_type": "code",
   "execution_count": 93,
   "metadata": {},
   "outputs": [
    {
     "name": "stdout",
     "output_type": "stream",
     "text": [
      "[0.1, 0.1, 0.1, 0.1, 0.1, 0.1, 0.1, 0.1, 0.1, 0.1]\n",
      "1.0\n"
     ]
    }
   ],
   "source": [
    "import math\n",
    "l = [0.1] * 10\n",
    "print(l)\n",
    "print(math.fsum(l))"
   ]
  },
  {
   "cell_type": "code",
   "execution_count": 94,
   "metadata": {},
   "outputs": [
    {
     "name": "stdout",
     "output_type": "stream",
     "text": [
      "5.0\n"
     ]
    }
   ],
   "source": [
    "print(math.sqrt(25))"
   ]
  },
  {
   "cell_type": "code",
   "execution_count": 95,
   "metadata": {},
   "outputs": [
    {
     "name": "stdout",
     "output_type": "stream",
     "text": [
      "15 16\n"
     ]
    }
   ],
   "source": [
    "num = 15.555\n",
    "print(math.floor(num),math.ceil(num))"
   ]
  },
  {
   "cell_type": "code",
   "execution_count": 96,
   "metadata": {},
   "outputs": [
    {
     "name": "stdout",
     "output_type": "stream",
     "text": [
      "1000\n",
      "1000.0\n"
     ]
    }
   ],
   "source": [
    "print(10 ** 3)\n",
    "print(math.pow(10,3))"
   ]
  },
  {
   "cell_type": "code",
   "execution_count": 99,
   "metadata": {},
   "outputs": [
    {
     "name": "stdout",
     "output_type": "stream",
     "text": [
      "15.0\n"
     ]
    }
   ],
   "source": [
    "num1 = 15.3666\n",
    "t = math.modf(num1)\n",
    "print(t[1])"
   ]
  },
  {
   "cell_type": "code",
   "execution_count": 100,
   "metadata": {},
   "outputs": [
    {
     "name": "stdout",
     "output_type": "stream",
     "text": [
      "['__doc__', '__loader__', '__name__', '__package__', '__spec__', 'acos', 'acosh', 'asin', 'asinh', 'atan', 'atan2', 'atanh', 'ceil', 'copysign', 'cos', 'cosh', 'degrees', 'e', 'erf', 'erfc', 'exp', 'expm1', 'fabs', 'factorial', 'floor', 'fmod', 'frexp', 'fsum', 'gamma', 'gcd', 'hypot', 'inf', 'isclose', 'isfinite', 'isinf', 'isnan', 'ldexp', 'lgamma', 'log', 'log10', 'log1p', 'log2', 'modf', 'nan', 'pi', 'pow', 'radians', 'sin', 'sinh', 'sqrt', 'tan', 'tanh', 'tau', 'trunc']\n"
     ]
    }
   ],
   "source": [
    "print(dir(math))"
   ]
  },
  {
   "cell_type": "code",
   "execution_count": 101,
   "metadata": {},
   "outputs": [
    {
     "name": "stdout",
     "output_type": "stream",
     "text": [
      "120\n"
     ]
    }
   ],
   "source": [
    "print(math.factorial(5))"
   ]
  },
  {
   "cell_type": "code",
   "execution_count": 102,
   "metadata": {},
   "outputs": [
    {
     "name": "stdout",
     "output_type": "stream",
     "text": [
      "3.141592653589793\n"
     ]
    }
   ],
   "source": [
    "print(math.pi)"
   ]
  },
  {
   "cell_type": "code",
   "execution_count": 104,
   "metadata": {},
   "outputs": [
    {
     "name": "stdout",
     "output_type": "stream",
     "text": [
      "1.0\n"
     ]
    }
   ],
   "source": [
    "print(math.sin(math.radians(90)))"
   ]
  },
  {
   "cell_type": "code",
   "execution_count": 105,
   "metadata": {},
   "outputs": [
    {
     "name": "stdout",
     "output_type": "stream",
     "text": [
      "3.3219280948873626\n"
     ]
    }
   ],
   "source": [
    "print(math.log(10,2))"
   ]
  },
  {
   "cell_type": "code",
   "execution_count": 106,
   "metadata": {},
   "outputs": [
    {
     "name": "stdout",
     "output_type": "stream",
     "text": [
      "0.3010299956639812\n"
     ]
    }
   ],
   "source": [
    "print(math.log10(2))"
   ]
  },
  {
   "cell_type": "code",
   "execution_count": 107,
   "metadata": {},
   "outputs": [
    {
     "name": "stdout",
     "output_type": "stream",
     "text": [
      "3.321928094887362\n"
     ]
    }
   ],
   "source": [
    "print(math.log2(10))"
   ]
  },
  {
   "cell_type": "code",
   "execution_count": 108,
   "metadata": {},
   "outputs": [
    {
     "name": "stdout",
     "output_type": "stream",
     "text": [
      "0x5\n",
      "0b101\n"
     ]
    }
   ],
   "source": [
    "num = 5\n",
    "print(hex(num))\n",
    "print(bin(num))"
   ]
  },
  {
   "cell_type": "code",
   "execution_count": 109,
   "metadata": {},
   "outputs": [
    {
     "name": "stdout",
     "output_type": "stream",
     "text": [
      "['ArithmeticError', 'AssertionError', 'AttributeError', 'BaseException', 'BlockingIOError', 'BrokenPipeError', 'BufferError', 'BytesWarning', 'ChildProcessError', 'ConnectionAbortedError', 'ConnectionError', 'ConnectionRefusedError', 'ConnectionResetError', 'DeprecationWarning', 'EOFError', 'Ellipsis', 'EnvironmentError', 'Exception', 'False', 'FileExistsError', 'FileNotFoundError', 'FloatingPointError', 'FutureWarning', 'GeneratorExit', 'IOError', 'ImportError', 'ImportWarning', 'IndentationError', 'IndexError', 'InterruptedError', 'IsADirectoryError', 'KeyError', 'KeyboardInterrupt', 'LookupError', 'MemoryError', 'ModuleNotFoundError', 'NameError', 'None', 'NotADirectoryError', 'NotImplemented', 'NotImplementedError', 'OSError', 'OverflowError', 'PendingDeprecationWarning', 'PermissionError', 'ProcessLookupError', 'RecursionError', 'ReferenceError', 'ResourceWarning', 'RuntimeError', 'RuntimeWarning', 'StopAsyncIteration', 'StopIteration', 'SyntaxError', 'SyntaxWarning', 'SystemError', 'SystemExit', 'TabError', 'TimeoutError', 'True', 'TypeError', 'UnboundLocalError', 'UnicodeDecodeError', 'UnicodeEncodeError', 'UnicodeError', 'UnicodeTranslateError', 'UnicodeWarning', 'UserWarning', 'ValueError', 'Warning', 'WindowsError', 'ZeroDivisionError', '__IPYTHON__', '__build_class__', '__debug__', '__doc__', '__import__', '__loader__', '__name__', '__package__', '__spec__', 'abs', 'all', 'any', 'ascii', 'bin', 'bool', 'bytearray', 'bytes', 'callable', 'chr', 'classmethod', 'compile', 'complex', 'copyright', 'credits', 'delattr', 'dict', 'dir', 'display', 'divmod', 'enumerate', 'eval', 'exec', 'filter', 'float', 'format', 'frozenset', 'get_ipython', 'getattr', 'globals', 'hasattr', 'hash', 'help', 'hex', 'id', 'input', 'int', 'isinstance', 'issubclass', 'iter', 'len', 'license', 'list', 'locals', 'map', 'max', 'memoryview', 'min', 'next', 'object', 'oct', 'open', 'ord', 'pow', 'print', 'property', 'range', 'repr', 'reversed', 'round', 'set', 'setattr', 'slice', 'sorted', 'staticmethod', 'str', 'sum', 'super', 'tuple', 'type', 'vars', 'zip']\n"
     ]
    }
   ],
   "source": [
    "print(dir(__builtins__))"
   ]
  },
  {
   "cell_type": "markdown",
   "metadata": {},
   "source": [
    "### User Defined Functions "
   ]
  },
  {
   "cell_type": "markdown",
   "metadata": {},
   "source": [
    "fun def \n",
    "fun call\n",
    "\n",
    "s = \"Python,CSS,JAVA\"\n",
    "s.index(\"Python\")"
   ]
  },
  {
   "cell_type": "code",
   "execution_count": 110,
   "metadata": {},
   "outputs": [
    {
     "name": "stdout",
     "output_type": "stream",
     "text": [
      "30\n"
     ]
    }
   ],
   "source": [
    "def add(num1,num2):\n",
    "    num3 = num1 + num2\n",
    "    return num3\n",
    "\n",
    "result = add(10,20)\n",
    "print(result)"
   ]
  },
  {
   "cell_type": "code",
   "execution_count": 112,
   "metadata": {},
   "outputs": [
    {
     "name": "stdout",
     "output_type": "stream",
     "text": [
      "False\n"
     ]
    }
   ],
   "source": [
    "def linear_search(l,key):\n",
    "    for index,value in enumerate(l):\n",
    "        if key == value:\n",
    "            return (True,index)\n",
    "    else:\n",
    "        return False\n",
    "\n",
    "l = [10,20,30,40,50,60,50]\n",
    "key = 50\n",
    "\n",
    "result = linear_search(l,key)\n",
    "print(result)"
   ]
  },
  {
   "cell_type": "code",
   "execution_count": 113,
   "metadata": {},
   "outputs": [
    {
     "name": "stdout",
     "output_type": "stream",
     "text": [
      "['a', 'b', 'c', 'd', 'e', 'f', 'g', 'h', 'i', 'j', 'k', 'l', 'm']\n"
     ]
    }
   ],
   "source": [
    "def get_char(start,end):\n",
    "    l = []\n",
    "    for value in range(ord(start),ord(end)+1):\n",
    "        l.append(chr(value))\n",
    "    return l\n",
    "\n",
    "start = 'a'\n",
    "end = 'm'\n",
    "l = get_char(start,end)\n",
    "print(l)\n",
    "\n",
    "# print(ord('a'))\n",
    "# print(chr(97))"
   ]
  },
  {
   "cell_type": "code",
   "execution_count": 163,
   "metadata": {},
   "outputs": [
    {
     "name": "stdout",
     "output_type": "stream",
     "text": [
      "L!0k1363\n"
     ]
    }
   ],
   "source": [
    "# 8 char long password generator \n",
    "# 1 Upper\n",
    "# 1 lower \n",
    "# 1 special char\n",
    "# 5 digits\n",
    "\n",
    "def generate_password(count = 8):\n",
    "    upper = chr(random.randint(ord('A'),ord('Z')))\n",
    "    lower = chr(random.randint(ord('a'),ord('z')))\n",
    "    l = ['!','@','#','$','&']\n",
    "    special = random.choice(l)\n",
    "    digit =  random.randint(10000,99999)\n",
    "    p = upper+lower+special+str(digit)\n",
    "    \n",
    "    l = random.sample(p,count)\n",
    "    \n",
    "    password = (\"\").join(l)\n",
    "    return password\n",
    "\n",
    "result = generate_password()\n",
    "print(result)"
   ]
  },
  {
   "cell_type": "markdown",
   "metadata": {},
   "source": [
    "### Paremeter Passing Techniques :\n",
    "> - Positional args\n",
    "> - Default args\n",
    "> - Variable legth positional args -packing\n",
    "> - Keyword args \n",
    "> - Variable length keyword args - packing\n",
    "> - Unpacking "
   ]
  },
  {
   "cell_type": "code",
   "execution_count": 164,
   "metadata": {},
   "outputs": [
    {
     "name": "stdout",
     "output_type": "stream",
     "text": [
      "10 20 30\n",
      "60\n"
     ]
    }
   ],
   "source": [
    "def add(num1,num2=0,num3=0):\n",
    "    print(num1,num2,num3)\n",
    "    return num1+num2+num3\n",
    "\n",
    "print(add(10,20,30))\n",
    "\n",
    "# print(10,20,sep=\",\")\n",
    "# help(print)"
   ]
  },
  {
   "cell_type": "code",
   "execution_count": 166,
   "metadata": {},
   "outputs": [
    {
     "name": "stdout",
     "output_type": "stream",
     "text": [
      "(10, 20, 30)\n",
      "60\n",
      "(10, 20, 30, 40, 50)\n",
      "150\n",
      "(10, 20, 30, 60, 70, 80, 90)\n",
      "360\n"
     ]
    }
   ],
   "source": [
    "def add(*args):\n",
    "    print(args)\n",
    "    return sum(args)\n",
    "    \n",
    "print(add(10,20,30))\n",
    "print(add(10,20,30,40,50))\n",
    "print(add(10,20,30,60,70,80,90))"
   ]
  },
  {
   "cell_type": "code",
   "execution_count": 173,
   "metadata": {},
   "outputs": [
    {
     "name": "stdout",
     "output_type": "stream",
     "text": [
      "[111, 222, 333, 444, 555]\n",
      "[222, 444, 666, 888, 1110]\n",
      "[444, 888, 1332, 1776, 2220]\n"
     ]
    }
   ],
   "source": [
    "def add(*args):\n",
    "    result = []\n",
    "    for x in range(len(args[0])):\n",
    "        sum = 0\n",
    "        for l in args:\n",
    "            sum = sum + l[x]\n",
    "        result.append(sum)\n",
    "\n",
    "    return result\n",
    "\n",
    "l1 = [10,20,30,40,50]\n",
    "l2 = [100,200,300,400,500]\n",
    "l3 = [1,2,3,4,5]\n",
    "\n",
    "l4 = add(l1,l2,l3)\n",
    "print(l4)\n",
    "l5 = add(l1,l2,l3,l4)\n",
    "print(l5)\n",
    "l6 = add(l1,l2,l3,l4,l5)\n",
    "print(l6)"
   ]
  },
  {
   "cell_type": "code",
   "execution_count": 176,
   "metadata": {},
   "outputs": [
    {
     "name": "stdout",
     "output_type": "stream",
     "text": [
      "Valid\n",
      "Valid\n"
     ]
    }
   ],
   "source": [
    "def user_auth(username,password):\n",
    "    if username == 'abc' and password == 'abc@123':\n",
    "        print(\"Valid\")\n",
    "    else:\n",
    "        print(\"Invalid\")\n",
    "\n",
    "\n",
    "user_auth(\"abc\",\"abc@123\")\n",
    "user_auth(password=\"abc@123\",username=\"abc\")\n",
    "\n"
   ]
  },
  {
   "cell_type": "code",
   "execution_count": 182,
   "metadata": {},
   "outputs": [
    {
     "name": "stdout",
     "output_type": "stream",
     "text": [
      "(30, 40, 50, 60, 70, 80) {'name': 'ABC', 'email': 'abc@xyz.com', 'contact': '789123456'}\n"
     ]
    },
    {
     "ename": "TypeError",
     "evalue": "user_details() missing 2 required positional arguments: 'num1' and 'num2'",
     "output_type": "error",
     "traceback": [
      "\u001b[1;31m---------------------------------------------------------------------------\u001b[0m",
      "\u001b[1;31mTypeError\u001b[0m                                 Traceback (most recent call last)",
      "\u001b[1;32m<ipython-input-182-0dd5117625a8>\u001b[0m in \u001b[0;36m<module>\u001b[1;34m()\u001b[0m\n\u001b[0;32m      3\u001b[0m \u001b[1;33m\u001b[0m\u001b[0m\n\u001b[0;32m      4\u001b[0m \u001b[0muser_details\u001b[0m\u001b[1;33m(\u001b[0m\u001b[1;36m10\u001b[0m\u001b[1;33m,\u001b[0m\u001b[1;36m20\u001b[0m\u001b[1;33m,\u001b[0m\u001b[1;36m30\u001b[0m\u001b[1;33m,\u001b[0m\u001b[1;36m40\u001b[0m\u001b[1;33m,\u001b[0m\u001b[1;36m50\u001b[0m\u001b[1;33m,\u001b[0m\u001b[1;36m60\u001b[0m\u001b[1;33m,\u001b[0m\u001b[1;36m70\u001b[0m\u001b[1;33m,\u001b[0m\u001b[1;36m80\u001b[0m\u001b[1;33m,\u001b[0m\u001b[0mname\u001b[0m\u001b[1;33m=\u001b[0m\u001b[1;34m\"ABC\"\u001b[0m\u001b[1;33m,\u001b[0m\u001b[0memail\u001b[0m\u001b[1;33m=\u001b[0m\u001b[1;34m\"abc@xyz.com\"\u001b[0m\u001b[1;33m,\u001b[0m\u001b[0mcontact\u001b[0m\u001b[1;33m=\u001b[0m\u001b[1;34m\"789123456\"\u001b[0m\u001b[1;33m)\u001b[0m\u001b[1;33m\u001b[0m\u001b[0m\n\u001b[1;32m----> 5\u001b[1;33m \u001b[0muser_details\u001b[0m\u001b[1;33m(\u001b[0m\u001b[0mname\u001b[0m\u001b[1;33m=\u001b[0m\u001b[1;34m\"ABC\"\u001b[0m\u001b[1;33m,\u001b[0m\u001b[0memail\u001b[0m\u001b[1;33m=\u001b[0m\u001b[1;34m\"abc@xyz.com\"\u001b[0m\u001b[1;33m)\u001b[0m\u001b[1;33m\u001b[0m\u001b[0m\n\u001b[0m\u001b[0;32m      6\u001b[0m \u001b[0muser_details\u001b[0m\u001b[1;33m(\u001b[0m\u001b[0mname\u001b[0m\u001b[1;33m=\u001b[0m\u001b[1;34m\"ABC\"\u001b[0m\u001b[1;33m,\u001b[0m\u001b[0mcontact\u001b[0m\u001b[1;33m=\u001b[0m\u001b[1;34m\"789123456\"\u001b[0m\u001b[1;33m)\u001b[0m\u001b[1;33m\u001b[0m\u001b[0m\n",
      "\u001b[1;31mTypeError\u001b[0m: user_details() missing 2 required positional arguments: 'num1' and 'num2'"
     ]
    }
   ],
   "source": [
    "def user_details(num1,num2,*args,**kwargs):\n",
    "    print(args,kwargs)\n",
    "\n",
    "user_details(10,20,30,40,50,60,70,80,name=\"ABC\",email=\"abc@xyz.com\",contact=\"789123456\")\n",
    "user_details(name=\"ABC\",email=\"abc@xyz.com\")\n",
    "user_details(name=\"ABC\",contact=\"789123456\")"
   ]
  },
  {
   "cell_type": "code",
   "execution_count": 187,
   "metadata": {},
   "outputs": [
    {
     "name": "stdout",
     "output_type": "stream",
     "text": [
      "10 30 20\n"
     ]
    }
   ],
   "source": [
    "def add(num1,num2,num3):\n",
    "    print(num1,num2,num3)\n",
    "\n",
    "l = [10,20,30]\n",
    "d = {\"num1\":10,\"num3\":20,\"num2\":30}\n",
    "\n",
    "add(**d)\n",
    "    \n",
    "    "
   ]
  },
  {
   "cell_type": "code",
   "execution_count": 188,
   "metadata": {},
   "outputs": [
    {
     "name": "stdout",
     "output_type": "stream",
     "text": [
      "Value inside function 500 600\n",
      "Value outside function 100 200\n"
     ]
    }
   ],
   "source": [
    "def printVal(val1,val2):\n",
    "    val1 = 500\n",
    "    val2 = 600\n",
    "    print(\"Value inside function\",val1,val2)\n",
    "\n",
    "num1 = 100\n",
    "num2 = 200\n",
    "printVal(num1,num2)\n",
    "print(\"Value outside function\",num1,num2)"
   ]
  },
  {
   "cell_type": "code",
   "execution_count": 189,
   "metadata": {},
   "outputs": [
    {
     "name": "stdout",
     "output_type": "stream",
     "text": [
      "List inside function [10, 20, 30, 40, 50]\n",
      "List after function call [10, 20, 30, 40, 50]\n"
     ]
    }
   ],
   "source": [
    "def printVal2(l):\n",
    "    l.append(50)\n",
    "    print(\"List inside function\",l)\n",
    "    \n",
    "l = [10,20,30,40]\n",
    "printVal2(l)\n",
    "print(\"List after function call\",l)\n",
    "\n",
    "# Pass by Object "
   ]
  },
  {
   "cell_type": "code",
   "execution_count": 190,
   "metadata": {},
   "outputs": [
    {
     "name": "stdout",
     "output_type": "stream",
     "text": [
      "100\n",
      "100\n"
     ]
    }
   ],
   "source": [
    "def printVal3():\n",
    "    print(num1)\n",
    "\n",
    "num1 = 100\n",
    "printVal3()\n",
    "print(num1)"
   ]
  },
  {
   "cell_type": "code",
   "execution_count": 192,
   "metadata": {},
   "outputs": [
    {
     "ename": "NameError",
     "evalue": "name 'num3' is not defined",
     "output_type": "error",
     "traceback": [
      "\u001b[1;31m---------------------------------------------------------------------------\u001b[0m",
      "\u001b[1;31mNameError\u001b[0m                                 Traceback (most recent call last)",
      "\u001b[1;32m<ipython-input-192-edc3e8b0c0ea>\u001b[0m in \u001b[0;36m<module>\u001b[1;34m()\u001b[0m\n\u001b[0;32m      3\u001b[0m \u001b[1;33m\u001b[0m\u001b[0m\n\u001b[0;32m      4\u001b[0m \u001b[0mprintVal3\u001b[0m\u001b[1;33m(\u001b[0m\u001b[1;33m)\u001b[0m\u001b[1;33m\u001b[0m\u001b[0m\n\u001b[1;32m----> 5\u001b[1;33m \u001b[0mprint\u001b[0m\u001b[1;33m(\u001b[0m\u001b[0mnum3\u001b[0m\u001b[1;33m)\u001b[0m\u001b[1;33m\u001b[0m\u001b[0m\n\u001b[0m",
      "\u001b[1;31mNameError\u001b[0m: name 'num3' is not defined"
     ]
    }
   ],
   "source": [
    "def printVal3():\n",
    "    num3 = 200\n",
    "\n",
    "printVal3()\n",
    "print(numdef printVal3():\n",
    "    print(num1)\n",
    "\n",
    "num1 = 100\n",
    "printVal3()\n",
    "print(num1)3)"
   ]
  },
  {
   "cell_type": "code",
   "execution_count": 194,
   "metadata": {},
   "outputs": [
    {
     "name": "stdout",
     "output_type": "stream",
     "text": [
      "100\n",
      "200\n",
      "200\n"
     ]
    }
   ],
   "source": [
    "def printVal4():\n",
    "    global num4\n",
    "    print(num4)\n",
    "    num4 = 200\n",
    "    print(num4)\n",
    "    \n",
    "num4 = 100\n",
    "printVal4()\n",
    "print(num4)"
   ]
  },
  {
   "cell_type": "code",
   "execution_count": 195,
   "metadata": {},
   "outputs": [
    {
     "name": "stdout",
     "output_type": "stream",
     "text": [
      "120\n"
     ]
    }
   ],
   "source": [
    "def fact(num):\n",
    "    if num == 1:\n",
    "        return 1\n",
    "    else:\n",
    "        return num * fact(num-1)\n",
    "\n",
    "result = fact(5)\n",
    "print(result)\n",
    "\n",
    "# fact(5) = return 5 * fact(4) => 5 * 24 = 120 \n",
    "#                     return 4 * fact(3)=> 4 * 6 = 24\n",
    "#                         return 3 * fact(2)= 3 * 2 = 6\n",
    "#                             return 2 * fact(1) => 2 *1 = 2\n",
    "#                                    return 1 \n",
    "        "
   ]
  },
  {
   "cell_type": "code",
   "execution_count": 203,
   "metadata": {},
   "outputs": [
    {
     "name": "stdout",
     "output_type": "stream",
     "text": [
      "True\n"
     ]
    }
   ],
   "source": [
    "def binary_search(l,key):\n",
    "    if len(l)== 0:\n",
    "        return False\n",
    "    else:\n",
    "    \n",
    "        mid = len(l) // 2\n",
    "        if key == l[mid]:\n",
    "            return True\n",
    "        elif key < l[mid]:\n",
    "            return binary_search(l[0:mid],key)\n",
    "        else:\n",
    "            return binary_search(l[mid+1:],key)\n",
    "\n",
    "\n",
    "l = [10,20,30,40,50,60,70,80]\n",
    "key = 80\n",
    "print(binary_search(l,key))\n",
    "\n",
    "# bs([],60)\n",
    "#     bs([60,70,80],60)\n",
    "#         bs([60],60)\n",
    "#             return True\n",
    "\n",
    "\n",
    "\n",
    "# mid = len(l) / 2 \n",
    "\n",
    "#     if mid  == key retrun True\n",
    "    \n",
    "#     else key < mid\n",
    "        \n",
    "    \n",
    "#     else key > mid \n",
    "#             binary_search([60,70,80],70)\n",
    "#             mid = 60 == 70 \n",
    "            \n",
    "#             key < mid\n",
    "#                    bs([60],60) \n",
    "#                 mid 1 /2 = 0\n",
    "#             key > mid\n",
    "            \n",
    "        "
   ]
  }
 ],
 "metadata": {
  "kernelspec": {
   "display_name": "Python 3",
   "language": "python",
   "name": "python3"
  },
  "language_info": {
   "codemirror_mode": {
    "name": "ipython",
    "version": 3
   },
   "file_extension": ".py",
   "mimetype": "text/x-python",
   "name": "python",
   "nbconvert_exporter": "python",
   "pygments_lexer": "ipython3",
   "version": "3.6.5"
  }
 },
 "nbformat": 4,
 "nbformat_minor": 2
}
