{
 "cells": [
  {
   "cell_type": "markdown",
   "metadata": {},
   "source": [
    "## Modules and Packages\n",
    "This Note deals with running script inside a package directly, the modular way of doing so it to create a `main.py` or `run.py` outside."
   ]
  },
  {
   "cell_type": "markdown",
   "metadata": {},
   "source": [
    "### 1. How Python Imports Work\n",
    "\n",
    "Python distinguishes between modules that are imported and modules that are executed as scripts. When you run a module directly using `python module.py`, Python sets the module’s name to `\"__main__\"`. This can cause problems with relative imports and packages:\n",
    "\n",
    "- **Relative Imports**: These are imports that use the dot notation (e.g., `from . import module`) to refer to modules within the same package. Relative imports are only valid within modules that are part of a package, meaning they won't work if the module is run directly as a script because Python treats it as the top-level script and not part of a package.\n",
    "\n",
    "- **Namespace Packages**: These are directories that serve as packages but don't have an `__init__.py` file. They're often used to distribute different parts of a package across multiple directories."
   ]
  },
  {
   "cell_type": "markdown",
   "metadata": {},
   "source": [
    "### 2. Why Direct Script Execution Fails with Packages\n",
    "\n",
    "When you try to run a script inside a package directly (e.g., `python some_dir/module.py`), Python treats the directory containing the script as the top-level script. It doesn't recognize it as part of the larger package structure. This breaks the relative import mechanism and can lead to `ModuleNotFoundError`."
   ]
  },
  {
   "cell_type": "markdown",
   "metadata": {},
   "source": [
    "### 3. Example\n",
    "\n",
    "Consider the following project structure without `__init__.py` files:\n",
    "\n",
    "```\n",
    "project/\n",
    "├── namespace_pkg/\n",
    "│   ├── submodule1.py\n",
    "│   └── submodule2.py\n",
    "└── run.py\n",
    "```\n",
    "<br>\n",
    "\n",
    "- `submodule1.py`:\n",
    "    ```python\n",
    "    from . import submodule2  # Relative import\n",
    "    ```\n",
    "<br>\n",
    "\n",
    "- `submodule2.py`:\n",
    "    ```python\n",
    "    def greet():\n",
    "        print(\"Hello from submodule2!\")\n",
    "    ```\n",
    "<br>\n",
    "\n",
    "- `run.py`:\n",
    "    ```python\n",
    "    import namespace_pkg.submodule1\n",
    "    ```\n",
    "<br>\n",
    "\n",
    "If you try to run `submodule1.py` directly:\n",
    "\n",
    "```bash\n",
    "python namespace_pkg/submodule1.py\n",
    "```\n",
    "\n",
    "You might encounter an error like:\n",
    "\n",
    "```\n",
    "ImportError: attempted relative import with no known parent package\n",
    "```"
   ]
  },
  {
   "cell_type": "markdown",
   "metadata": {},
   "source": [
    "### 4. Correct Ways to Run Modules in Packages\n",
    "\n",
    "#### a. Using `-m` with Packages\n",
    "\n",
    "To avoid issues with relative imports, you should use the `-m` option to run the module as part of the package:\n",
    "\n",
    "```bash\n",
    "python -m namespace_pkg.submodule1\n",
    "```\n",
    "\n",
    "This command tells Python to treat `namespace_pkg` as a package and `submodule1` as a module within that package. It sets up the import context correctly, so relative imports work as expected.\n",
    "\n",
    "#### b. Using Absolute Imports\n",
    "\n",
    "Instead of using relative imports, you can use absolute imports. This means specifying the full path of the module starting from the top-level package. \n",
    "\n",
    "Example in `submodule1.py`:\n",
    "\n",
    "```python\n",
    "from namespace_pkg import submodule2\n",
    "```\n",
    "\n",
    "However, this only works if the top-level package (`namespace_pkg`) is in the Python path."
   ]
  }
 ],
 "metadata": {
  "language_info": {
   "name": "python"
  }
 },
 "nbformat": 4,
 "nbformat_minor": 2
}
