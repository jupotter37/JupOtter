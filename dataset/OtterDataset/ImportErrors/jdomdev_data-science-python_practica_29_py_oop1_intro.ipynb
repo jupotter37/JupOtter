{
 "cells": [
  {
   "cell_type": "markdown",
   "id": "1e77d8e2-2c90-4295-881b-24cef792d61a",
   "metadata": {},
   "source": [
    "# Ejercicios de Introducción a POO. Para los ejemplos resueltos solo debe explicar los códigos añadiendo comentarios. "
   ]
  },
  {
   "cell_type": "markdown",
   "id": "55b131c9-00aa-4526-87f8-691498b680cf",
   "metadata": {},
   "source": [
    "**1 - Escribe una clase llamada Número que mantenga un número entero. Debe tener los siguientes métodos para realizar diversas operaciones en el número entero:**"
   ]
  },
  {
   "cell_type": "markdown",
   "id": "6021058a-f27d-4cd7-bc3b-e1c864e7c6a4",
   "metadata": {},
   "source": [
    "```\n",
    "set_number(self, n) # convierte n en int  \n",
    "get_number(self) # devuelve el valor actual de int  \n",
    "print_number(self) # imprime el int  \n",
    "isnegative(self) # comprueba si int es negativo  \n",
    "isdivisibleby(self, n) # comprueba si int es divisible por n  \n",
    "valor_absoluto(self) # devuelve el valor absoluto de int\n",
    "```"
   ]
  },
  {
   "cell_type": "code",
   "execution_count": 1,
   "id": "a829f616-cb4f-4a26-98f7-b6a2815406f6",
   "metadata": {},
   "outputs": [
    {
     "name": "stdout",
     "output_type": "stream",
     "text": [
      "-1234\n",
      "5 does not divide -1234\n",
      "Absolute Value of -1234 is  1234\n"
     ]
    }
   ],
   "source": [
    "# Definición de la clase propia 'Number'\n",
    "class Number:\n",
    "    # Definición de métodos de instancia accesibles\n",
    "    # Método que establece el valor de la instancia\n",
    "    def set_number(self,n):\n",
    "        # Atributo de instancia '__num' NO accesible\n",
    "        self.__num = n\n",
    "    # Método que devuelve el valor de la instancia\n",
    "    def get_number(self):\n",
    "        return self.__num\n",
    "    # Método que imprime el valor de la instancia\n",
    "    def print_number(self):\n",
    "        print(self.__num)\n",
    "    # Método que devuelve un boleano indicando el signo del valor del atributo de la instancia\n",
    "    def isnegative(self): \n",
    "        if self.__num < 0 :\n",
    "            return True\n",
    "        else:\n",
    "            return False \n",
    "    # Método que devuelve un boleano indicando la divisibilidad del valor del atributo de la instancia por otro valor \n",
    "    def isdivisibleby(self,n):\n",
    "        if n == 0:\n",
    "            return False\n",
    "        if self.__num % n == 0:\n",
    "            return True\n",
    "        else:\n",
    "            return False\n",
    "    # Método que devuelve el valor absoluto del atributo de la instancia\n",
    "    def absolute_value(self): \n",
    "        if self.__num >= 0:\n",
    "            return self.__num \n",
    "        else:\n",
    "            return-1*self.__num\n",
    "\n",
    "# Creación de una instancia recogida en la var 'x'\n",
    "x = Number()\n",
    "# Llamada al método que establece el valor del objeto-instancia 'Number'\n",
    "x.set_number(-1234)\n",
    "# Llamada al método que imprime el valor del objeto-instancia 'Number'\n",
    "x.print_number()\n",
    "# Condicional para comprobar que la instancia es divisible por 5\n",
    "if x.isdivisibleby(5) == True:\n",
    "    print(\"5 divides\", x.get_number())\n",
    "else:\n",
    "    print(\"5 does not divide\", x.get_number())\n",
    "# Imprimimos por pantalla el valor del objeto y su valor absoluto\n",
    "print(\"Absolute Value of\", x.get_number(), \"is \", x.absolute_value())"
   ]
  },
  {
   "cell_type": "markdown",
   "id": "6fd92f94-4b58-4558-9492-30d3947924aa",
   "metadata": {},
   "source": [
    "**2 - Escribe un programa para crear una clase llamada Fruta con atributos tamaño y color. Cree múltiples objetos de esta clase. Indique cuántos objetos se han creado a partir de la clase**"
   ]
  },
  {
   "cell_type": "code",
   "execution_count": 3,
   "id": "212d2c55-3405-4ace-b882-8490ede34ee3",
   "metadata": {},
   "outputs": [
    {
     "name": "stdout",
     "output_type": "stream",
     "text": [
      "3\n",
      "3\n"
     ]
    }
   ],
   "source": [
    "# Definición de la clase 'Fruit'\n",
    "class Fruit:\n",
    "    # Inicializamos variable de clase -> estática\n",
    "    count = 0\n",
    "    # Creamos el método constructor\n",
    "    # con tres parámetros con valores por defecto\n",
    "    def __init__(self, name='', size=0, color=''):\n",
    "        self.__name__ = name\n",
    "        self.__size = size\n",
    "        self.__color = color\n",
    "        # Al crear cada instancia se añade la unidad a la variable de clase\n",
    "        Fruit.count+=1\n",
    "    # Método accesible pero de clase \n",
    "    # para mostrar la variable de clase 'count'\n",
    "    def display():\n",
    "        print(Fruit.count)\n",
    "# Creación de tres objetos de la clase 'Fruit' con parámetros\n",
    "f1 = Fruit('Banana', 5, 'Yellow')\n",
    "f2 = Fruit('Orange', 4, 'Orange')\n",
    "f3 = Fruit('Apple', 3, 'Red')\n",
    "\n",
    "# Ejecutamos los métodos de clase display() y count()\n",
    "Fruit.display()\n",
    "print(Fruit.count)        \n",
    "        "
   ]
  },
  {
   "cell_type": "markdown",
   "id": "5011b3dd-505b-4f53-a8ff-b0255d66d4d1",
   "metadata": {},
   "source": [
    "**Tips:**\n",
    "- **count** es un atributo de clase, no del objeto. Por lo tanto, se comparte entre todos los objetos de Fruit.\n",
    "- Puede inicializarse como `count = 0`, pero debe accederse a él utilizando `Fruit.count`\n"
   ]
  },
  {
   "cell_type": "markdown",
   "id": "94f3b466-79ad-4bfe-ac7c-bfda67f17adf",
   "metadata": {},
   "source": [
    "**3 - Escribe un programa que determine si dos objetos son del mismo tipo, si sus atributos son iguales y si apuntan al mismo objeto**"
   ]
  },
  {
   "cell_type": "code",
   "execution_count": 9,
   "id": "b9d20d65-2ef4-44ae-98f8-840fa7890451",
   "metadata": {},
   "outputs": [
    {
     "name": "stdout",
     "output_type": "stream",
     "text": [
      "Attributes of c1 and c2 are different\n",
      "c1 and c3 are of the same type\n",
      "c1 and c3 are pointing to the same object\n"
     ]
    }
   ],
   "source": [
    "# Definición de la clase 'Complex'\n",
    "class Complex:\n",
    "    # Constructor por defecto de instancia\n",
    "    # con dos atributos de instancia no accesibles con valores por defecto\n",
    "    def __init__(self, r = 0.0, i = 0.0):\n",
    "        self.__real = r\n",
    "        self.__imag = i\n",
    "    # Método de instancia que compara si dos objetos de \n",
    "    # la clase son iguales: que le número real de uno sea igual\n",
    "    # al real del otro y lo mismo para el imaginario\n",
    "    def __eq__(self, other):\n",
    "        if self.__real == other.__real and self.__imag == other.imag:\n",
    "            return True\n",
    "        else:\n",
    "            return False\n",
    "# Creación de dos instancias y una referencia a la instancia 'c1'\n",
    "c1 = Complex(1.1, 0.2)\n",
    "c2 = Complex(2.1, 0.4)\n",
    "c3 = c1\n",
    "# Se comprueba que los valores de dos objetos sean iguales\n",
    "if c1 == c2:\n",
    "    print('Attributes of c1 and c2 are same')\n",
    "else:\n",
    "    print('Attributes of c1 and c2 are different')\n",
    "# Se comprueba que los tipos de datos contenidos sean los mismos\n",
    "if type(c1)==type(c3):\n",
    "    print('c1 and c3 are of the same type')\n",
    "else:\n",
    "    print('c1 and c3 are of different type')\n",
    "# Se comprueba que los objetos apunten a la misma referencia\n",
    "if c1 is c3:\n",
    "    print('c1 and c3 are pointing to the same object')\n",
    "else:\n",
    "    print('c1 and c3 are pointing to different objects')"
   ]
  },
  {
   "cell_type": "markdown",
   "id": "107fcc1e-e2f2-47d1-92dc-c33699374d35",
   "metadata": {},
   "source": [
    "**Tips:**  \n",
    "- Para comparar atributos de dos objetos complejos hemos sobrecargado (overloaded) el operador `==`, definiendo la función __eq__(). Para mas información sobre overloading == ve al [siguiente enlace](https://www.pythonmorsels.com/overloading-equality-in-python/).\n",
    "- `type( )` se utiliza para obtener el tipo de un objeto. Los tipos tambien pueden compararse utilizando el operador `==`.\n",
    "- La palabra clave `is` se utiliza para comprobar si c1 y c3 apuntan al mismo objeto.\n"
   ]
  },
  {
   "cell_type": "markdown",
   "id": "bef2bd48-159e-45ee-9e79-fa028667059f",
   "metadata": {},
   "source": [
    "**4 - Escribe un programa para obtener una lista de funciones built-in.**"
   ]
  },
  {
   "cell_type": "code",
   "execution_count": 4,
   "id": "cf98c435-824c-488f-93d4-4bf4d826cdb1",
   "metadata": {},
   "outputs": [
    {
     "name": "stdout",
     "output_type": "stream",
     "text": [
      "['ArithmeticError', 'AssertionError', 'AttributeError', 'BaseException', 'BaseExceptionGroup', 'BlockingIOError', 'BrokenPipeError', 'BufferError', 'BytesWarning', 'ChildProcessError', 'ConnectionAbortedError', 'ConnectionError', 'ConnectionRefusedError', 'ConnectionResetError', 'DeprecationWarning', 'EOFError', 'Ellipsis', 'EncodingWarning', 'EnvironmentError', 'Exception', 'ExceptionGroup', 'False', 'FileExistsError', 'FileNotFoundError', 'FloatingPointError', 'FutureWarning', 'GeneratorExit', 'IOError', 'ImportError', 'ImportWarning', 'IndentationError', 'IndexError', 'InterruptedError', 'IsADirectoryError', 'KeyError', 'KeyboardInterrupt', 'LookupError', 'MemoryError', 'ModuleNotFoundError', 'NameError', 'None', 'NotADirectoryError', 'NotImplemented', 'NotImplementedError', 'OSError', 'OverflowError', 'PendingDeprecationWarning', 'PermissionError', 'ProcessLookupError', 'RecursionError', 'ReferenceError', 'ResourceWarning', 'RuntimeError', 'RuntimeWarning', 'StopAsyncIteration', 'StopIteration', 'SyntaxError', 'SyntaxWarning', 'SystemError', 'SystemExit', 'TabError', 'TimeoutError', 'True', 'TypeError', 'UnboundLocalError', 'UnicodeDecodeError', 'UnicodeEncodeError', 'UnicodeError', 'UnicodeTranslateError', 'UnicodeWarning', 'UserWarning', 'ValueError', 'Warning', 'ZeroDivisionError', '__IPYTHON__', '__build_class__', '__debug__', '__doc__', '__import__', '__loader__', '__name__', '__package__', '__spec__', 'abs', 'aiter', 'all', 'anext', 'any', 'ascii', 'bin', 'bool', 'breakpoint', 'bytearray', 'bytes', 'callable', 'chr', 'classmethod', 'compile', 'complex', 'copyright', 'credits', 'delattr', 'dict', 'dir', 'display', 'divmod', 'enumerate', 'eval', 'exec', 'execfile', 'filter', 'float', 'format', 'frozenset', 'get_ipython', 'getattr', 'globals', 'hasattr', 'hash', 'help', 'hex', 'id', 'input', 'int', 'isinstance', 'issubclass', 'iter', 'len', 'license', 'list', 'locals', 'map', 'max', 'memoryview', 'min', 'next', 'object', 'oct', 'open', 'ord', 'pow', 'print', 'property', 'range', 'repr', 'reversed', 'round', 'runfile', 'set', 'setattr', 'slice', 'sorted', 'staticmethod', 'str', 'sum', 'super', 'tuple', 'type', 'vars', 'zip']\n",
      "\n",
      "{'__name__': 'builtins', '__doc__': \"Built-in functions, types, exceptions, and other objects.\\n\\nThis module provides direct access to all 'built-in'\\nidentifiers of Python; for example, builtins.len is\\nthe full name for the built-in function len().\\n\\nThis module is not normally accessed explicitly by most\\napplications, but can be useful in modules that provide\\nobjects with the same name as a built-in value, but in\\nwhich the built-in of that name is also needed.\", '__package__': '', '__loader__': <class '_frozen_importlib.BuiltinImporter'>, '__spec__': ModuleSpec(name='builtins', loader=<class '_frozen_importlib.BuiltinImporter'>, origin='built-in'), '__build_class__': <built-in function __build_class__>, '__import__': <built-in function __import__>, 'abs': <built-in function abs>, 'all': <built-in function all>, 'any': <built-in function any>, 'ascii': <built-in function ascii>, 'bin': <built-in function bin>, 'breakpoint': <built-in function breakpoint>, 'callable': <built-in function callable>, 'chr': <built-in function chr>, 'compile': <built-in function compile>, 'delattr': <built-in function delattr>, 'dir': <built-in function dir>, 'divmod': <built-in function divmod>, 'eval': <built-in function eval>, 'exec': <built-in function exec>, 'format': <built-in function format>, 'getattr': <built-in function getattr>, 'globals': <built-in function globals>, 'hasattr': <built-in function hasattr>, 'hash': <built-in function hash>, 'hex': <built-in function hex>, 'id': <built-in function id>, 'input': <bound method Kernel.raw_input of <ipykernel.ipkernel.IPythonKernel object at 0x771ff9318510>>, 'isinstance': <built-in function isinstance>, 'issubclass': <built-in function issubclass>, 'iter': <built-in function iter>, 'aiter': <built-in function aiter>, 'len': <built-in function len>, 'locals': <built-in function locals>, 'max': <built-in function max>, 'min': <built-in function min>, 'next': <built-in function next>, 'anext': <built-in function anext>, 'oct': <built-in function oct>, 'ord': <built-in function ord>, 'pow': <built-in function pow>, 'print': <built-in function print>, 'repr': <built-in function repr>, 'round': <built-in function round>, 'setattr': <built-in function setattr>, 'sorted': <built-in function sorted>, 'sum': <built-in function sum>, 'vars': <built-in function vars>, 'None': None, 'Ellipsis': Ellipsis, 'NotImplemented': NotImplemented, 'False': False, 'True': True, 'bool': <class 'bool'>, 'memoryview': <class 'memoryview'>, 'bytearray': <class 'bytearray'>, 'bytes': <class 'bytes'>, 'classmethod': <class 'classmethod'>, 'complex': <class 'complex'>, 'dict': <class 'dict'>, 'enumerate': <class 'enumerate'>, 'filter': <class 'filter'>, 'float': <class 'float'>, 'frozenset': <class 'frozenset'>, 'property': <class 'property'>, 'int': <class 'int'>, 'list': <class 'list'>, 'map': <class 'map'>, 'object': <class 'object'>, 'range': <class 'range'>, 'reversed': <class 'reversed'>, 'set': <class 'set'>, 'slice': <class 'slice'>, 'staticmethod': <class 'staticmethod'>, 'str': <class 'str'>, 'super': <class 'super'>, 'tuple': <class 'tuple'>, 'type': <class 'type'>, 'zip': <class 'zip'>, '__debug__': True, 'BaseException': <class 'BaseException'>, 'BaseExceptionGroup': <class 'BaseExceptionGroup'>, 'Exception': <class 'Exception'>, 'GeneratorExit': <class 'GeneratorExit'>, 'KeyboardInterrupt': <class 'KeyboardInterrupt'>, 'SystemExit': <class 'SystemExit'>, 'ArithmeticError': <class 'ArithmeticError'>, 'AssertionError': <class 'AssertionError'>, 'AttributeError': <class 'AttributeError'>, 'BufferError': <class 'BufferError'>, 'EOFError': <class 'EOFError'>, 'ImportError': <class 'ImportError'>, 'LookupError': <class 'LookupError'>, 'MemoryError': <class 'MemoryError'>, 'NameError': <class 'NameError'>, 'OSError': <class 'OSError'>, 'ReferenceError': <class 'ReferenceError'>, 'RuntimeError': <class 'RuntimeError'>, 'StopAsyncIteration': <class 'StopAsyncIteration'>, 'StopIteration': <class 'StopIteration'>, 'SyntaxError': <class 'SyntaxError'>, 'SystemError': <class 'SystemError'>, 'TypeError': <class 'TypeError'>, 'ValueError': <class 'ValueError'>, 'Warning': <class 'Warning'>, 'FloatingPointError': <class 'FloatingPointError'>, 'OverflowError': <class 'OverflowError'>, 'ZeroDivisionError': <class 'ZeroDivisionError'>, 'BytesWarning': <class 'BytesWarning'>, 'DeprecationWarning': <class 'DeprecationWarning'>, 'EncodingWarning': <class 'EncodingWarning'>, 'FutureWarning': <class 'FutureWarning'>, 'ImportWarning': <class 'ImportWarning'>, 'PendingDeprecationWarning': <class 'PendingDeprecationWarning'>, 'ResourceWarning': <class 'ResourceWarning'>, 'RuntimeWarning': <class 'RuntimeWarning'>, 'SyntaxWarning': <class 'SyntaxWarning'>, 'UnicodeWarning': <class 'UnicodeWarning'>, 'UserWarning': <class 'UserWarning'>, 'BlockingIOError': <class 'BlockingIOError'>, 'ChildProcessError': <class 'ChildProcessError'>, 'ConnectionError': <class 'ConnectionError'>, 'FileExistsError': <class 'FileExistsError'>, 'FileNotFoundError': <class 'FileNotFoundError'>, 'InterruptedError': <class 'InterruptedError'>, 'IsADirectoryError': <class 'IsADirectoryError'>, 'NotADirectoryError': <class 'NotADirectoryError'>, 'PermissionError': <class 'PermissionError'>, 'ProcessLookupError': <class 'ProcessLookupError'>, 'TimeoutError': <class 'TimeoutError'>, 'IndentationError': <class 'IndentationError'>, 'IndexError': <class 'IndexError'>, 'KeyError': <class 'KeyError'>, 'ModuleNotFoundError': <class 'ModuleNotFoundError'>, 'NotImplementedError': <class 'NotImplementedError'>, 'RecursionError': <class 'RecursionError'>, 'UnboundLocalError': <class 'UnboundLocalError'>, 'UnicodeError': <class 'UnicodeError'>, 'BrokenPipeError': <class 'BrokenPipeError'>, 'ConnectionAbortedError': <class 'ConnectionAbortedError'>, 'ConnectionRefusedError': <class 'ConnectionRefusedError'>, 'ConnectionResetError': <class 'ConnectionResetError'>, 'TabError': <class 'TabError'>, 'UnicodeDecodeError': <class 'UnicodeDecodeError'>, 'UnicodeEncodeError': <class 'UnicodeEncodeError'>, 'UnicodeTranslateError': <class 'UnicodeTranslateError'>, 'ExceptionGroup': <class 'ExceptionGroup'>, 'EnvironmentError': <class 'OSError'>, 'IOError': <class 'OSError'>, 'open': <built-in function open>, 'copyright': Copyright (c) 2001-2023 Python Software Foundation.\n",
      "All Rights Reserved.\n",
      "\n",
      "Copyright (c) 2000 BeOpen.com.\n",
      "All Rights Reserved.\n",
      "\n",
      "Copyright (c) 1995-2001 Corporation for National Research Initiatives.\n",
      "All Rights Reserved.\n",
      "\n",
      "Copyright (c) 1991-1995 Stichting Mathematisch Centrum, Amsterdam.\n",
      "All Rights Reserved., 'credits':     Thanks to CWI, CNRI, BeOpen.com, Zope Corporation and a cast of thousands\n",
      "    for supporting Python development.  See www.python.org for more information., 'license': Type license() to see the full license text, 'help': Type help() for interactive help, or help(object) for help about object., 'execfile': <function execfile at 0x771ff8952b60>, 'runfile': <function runfile at 0x771ff7f3b560>, '__IPYTHON__': True, 'display': <function display at 0x771ffa266160>, 'get_ipython': <bound method InteractiveShell.get_ipython of <ipykernel.zmqshell.ZMQInteractiveShell object at 0x771ff6bcd350>>}\n"
     ]
    }
   ],
   "source": [
    "# Importación de la biblioteca builtins\n",
    "# módulo que contiene todas las funciones y excepciones incorporadas \n",
    "# que están siempre disponibles en Python sin necesidad de importar ningún módulo adicional\n",
    "import builtins\n",
    "# Impresión de la lista de nombres de los atributos y métodos del módulo\n",
    "print(dir(builtins)) \n",
    "print( ) \n",
    "# Impresión del diccionario de nombres de los atributos y sus valores(clave-valor)\n",
    "print(vars(builtins))"
   ]
  },
  {
   "cell_type": "markdown",
   "id": "d888a0fe-96ca-4f02-a74e-af0a2e7d20b5",
   "metadata": {},
   "source": [
    "**Tips:**  \n",
    "- En la salida anterior sólo se muestran elementos parciales del diccionario y de la lista. La salida real es mucho más exhaustiva"
   ]
  },
  {
   "cell_type": "markdown",
   "id": "60e17909-77ff-4eac-8901-5977700ac2eb",
   "metadata": {},
   "source": [
    "**5 - Supongamos que hemos definido dos funciones msg1( ) y msg2( ) en el módulo principal. ¿Cuál será la salida de vars( ) y dir( ) en el módulo actual? ¿Cómo se obtendrá la lista de nombres que están presentes en ambas salidas, los que son únicos en cualquiera de las listas?**"
   ]
  },
  {
   "cell_type": "code",
   "execution_count": 9,
   "id": "a01b6dc4-0364-4d13-9b0d-f7a41d65a2c5",
   "metadata": {},
   "outputs": [
    {
     "name": "stdout",
     "output_type": "stream",
     "text": [
      "['Fruit', 'In', 'Number', 'Out', '_', '__', '___', '__builtin__', '__builtins__', '__doc__', '__loader__', '__name__', '__package__', '__spec__', '__vsc_ipynb_file__', '_dh', '_i', '_i1', '_i2', '_i3', '_i4', '_i5', '_i6', '_i7', '_i8', '_i9', '_ih', '_ii', '_iii', '_oh', 'builtins', 'd', 'exit', 'f1', 'f2', 'f3', 'get_ipython', 'l', 'msg1', 'msg2', 'open', 'quit', 'x']\n",
      "['Fruit', 'In', 'Number', 'Out', '_', '__', '___', '__builtin__', '__builtins__', '__doc__', '__loader__', '__name__', '__package__', '__spec__', '__vsc_ipynb_file__', '_dh', '_i', '_i1', '_i2', '_i3', '_i4', '_i5', '_i6', '_i7', '_i8', '_i9', '_ih', '_ii', '_iii', '_oh', 'builtins', 'd', 'exit', 'f1', 'f2', 'f3', 'get_ipython', 'l', 'msg1', 'msg2', 'open', 'quit', 'x']\n",
      "set()\n",
      "set()\n",
      "['Fruit', 'In', 'Number', 'Out', '_', '__', '___', '__builtin__', '__builtins__', '__doc__', '__loader__', '__name__', '__package__', '__spec__', '__vsc_ipynb_file__', '_dh', '_i', '_i1', '_i2', '_i3', '_i4', '_i5', '_i6', '_i7', '_i8', '_i9', '_ih', '_ii', '_iii', '_oh', 'builtins', 'd', 'exit', 'f1', 'f2', 'f3', 'get_ipython', 'l', 'msg1', 'msg2', 'open', 'quit', 'x']\n"
     ]
    }
   ],
   "source": [
    "# Definición de funciones accesibles  \n",
    "def msg1( ) :\n",
    "    print('Wright Brothers are responsible for 9/11 too')\n",
    "def msg2( ) :\n",
    "    print('Cells divide to multiply')\n",
    "# Asignamos las funciones 'vars()' y 'dirs()' a variables\n",
    "# vars() = diccionario de variables, funciones, clases locales y sus valores\n",
    "# dir() = lista de nombres de variables, funciones y clases y sus valores de ámbito local\n",
    "d = vars( ) \n",
    "l = dir( )\n",
    "# Imprimimos unicamente las claves ordenadas alfabéticamente en una lista\n",
    "# procedentes del diccionario 'vars()'\n",
    "print(sorted(d.keys()))\n",
    "# Imprimimos la lista de atributos locales completa\n",
    "print(l)\n",
    "# Imprimimos la diferencia de claves entre d y l\n",
    "print(d.keys( ) - l)\n",
    "# Imprimimos la diferencia de claves entre l y d\n",
    "print(l - d.keys( ))\n",
    "# Imprimimos la lista de atributos locales completa\n",
    "print(l)\n"
   ]
  },
  {
   "cell_type": "markdown",
   "id": "c9f9a470-7162-4d9a-9391-e29c753f7496",
   "metadata": {},
   "source": [
    "**Tips:**  \n",
    "- `set()` mostrado en la salida significa un conjunto vacío. Significa que no hay nada en l que no esté presente en d"
   ]
  },
  {
   "cell_type": "markdown",
   "id": "567e073e-ec42-45e1-9398-37b036d6a1e3",
   "metadata": {},
   "source": [
    "**6 - ¿Hay alguna diferencia en los valores devueltos por las funciones `dir()` y `vars(..).keys( )`? En caso afirmativo, escriba un programa para obtener esa diferencia?**"
   ]
  },
  {
   "cell_type": "code",
   "execution_count": 10,
   "id": "129f243f-0628-469b-8a45-54e9d77e2903",
   "metadata": {},
   "outputs": [
    {
     "name": "stdout",
     "output_type": "stream",
     "text": [
      "{'__format__', '__class__', '__reduce_ex__', '__subclasshook__', '__getstate__', '__init_subclass__', '__str__', '__delattr__', '__reduce__', '__setattr__', '__dir__'}\n"
     ]
    }
   ],
   "source": [
    "# Se comprueba la diferencia entre el conjunto de la lista de atributos del objeto list\n",
    "# y el conjunto de las claves del diccionario del objeto list\n",
    "s = set(dir(list)).difference(vars(list).keys( ))\n",
    "# Imprimimos la variable 's' que recoge la diferencia entre conjuntos\n",
    "print(s)"
   ]
  },
  {
   "cell_type": "markdown",
   "id": "b29d1b03-d418-4a05-b390-5a2d8167dadc",
   "metadata": {},
   "source": [
    "**Tips:**  \n",
    "- `dir(list)` devolverá una lista de atributos de tipo lista.\n",
    "- `vars(list).keys( )` devuelve una lista de claves del diccionario devuelto por vars() para el tipo de lista.\n",
    "- `difference( )` devuelve la diferencia entre las dos listas"
   ]
  },
  {
   "cell_type": "markdown",
   "id": "77c699b7-9889-4e4b-a722-582d3a7dad59",
   "metadata": {},
   "source": [
    "Preguntas de teoría:"
   ]
  },
  {
   "cell_type": "markdown",
   "id": "be6ae7d3-8dd0-41b5-b65f-3e27efb7077f",
   "metadata": {},
   "source": [
    "**[A] Diga si las siguientes afirmaciones son Verdaderas o Falsas:**  \n",
    "\n",
    "(a) Los atributos de clase y los atributos de objeto son iguales."
   ]
  },
  {
   "cell_type": "markdown",
   "id": "92675329",
   "metadata": {},
   "source": [
    "Falso"
   ]
  },
  {
   "cell_type": "code",
   "execution_count": 11,
   "id": "1ea846c6-6d8d-44e2-99a1-683155471d64",
   "metadata": {},
   "outputs": [
    {
     "name": "stdout",
     "output_type": "stream",
     "text": [
      "Soy un atributo de clase\n",
      "Soy un atributo de clase\n",
      "Soy un atributo de clase\n",
      "Soy un atributo de objeto de objeto1\n",
      "Soy un atributo de objeto de objeto2\n"
     ]
    }
   ],
   "source": [
    "class MiClase:\n",
    "    atributo_clase = \"Soy un atributo de clase\"\n",
    "    \n",
    "    def __init__(self, valor):\n",
    "        self.atributo_objeto = valor\n",
    "\n",
    "# Crear dos instancias de la clase\n",
    "objeto1 = MiClase(\"Soy un atributo de objeto de objeto1\")\n",
    "objeto2 = MiClase(\"Soy un atributo de objeto de objeto2\")\n",
    "\n",
    "# Acceder a los atributos de clase\n",
    "print(MiClase.atributo_clase) \n",
    "print(objeto1.atributo_clase)  \n",
    "print(objeto2.atributo_clase)  \n",
    "\n",
    "# Acceder a los atributos de objeto\n",
    "print(objeto1.atributo_objeto) \n",
    "print(objeto2.atributo_objeto)  \n"
   ]
  },
  {
   "cell_type": "markdown",
   "id": "ea9b1879-c83b-49f2-b231-3085ff40a70c",
   "metadata": {},
   "source": [
    "(b) Un miembro de datos de clase es útil cuando todos los objetos de la misma clase deben compartir una información común."
   ]
  },
  {
   "cell_type": "markdown",
   "id": "13eac412",
   "metadata": {},
   "source": [
    "Verdadero"
   ]
  },
  {
   "cell_type": "code",
   "execution_count": 12,
   "id": "2c07fb39-8ed5-4396-bba7-a81795a3d5df",
   "metadata": {},
   "outputs": [
    {
     "name": "stdout",
     "output_type": "stream",
     "text": [
      "3\n",
      "3\n"
     ]
    }
   ],
   "source": [
    "class Fruit:\n",
    "    # Miembro de datos de clase que comparten todas las instancias de clase\n",
    "    count = 0\n",
    "    def __init__(self, name='', size=0, color=''):\n",
    "        self.__name__ = name\n",
    "        self.__size = size\n",
    "        self.__color = color\n",
    "        Fruit.count+=1\n",
    "    def display():\n",
    "        print(Fruit.count)\n",
    "\n",
    "f1 = Fruit('Banana', 5, 'Yellow')\n",
    "f2 = Fruit('Orange', 4, 'Orange')\n",
    "f3 = Fruit('Apple', 3, 'Red')\n",
    "\n",
    "Fruit.display()\n",
    "print(Fruit.count)        \n",
    "        "
   ]
  },
  {
   "cell_type": "markdown",
   "id": "a19061e9-8e28-41c6-83ff-1532f124e75d",
   "metadata": {},
   "source": [
    "(c) Si una clase tiene un miembro de datos y se crean tres objetos a partir de esta clase, cada objeto tendrá su propio miembro de datos."
   ]
  },
  {
   "cell_type": "markdown",
   "id": "bd69fc8a",
   "metadata": {},
   "source": [
    "Falso"
   ]
  },
  {
   "cell_type": "code",
   "execution_count": 14,
   "id": "c13e69cd-a93b-4665-bee7-9ee22835960e",
   "metadata": {},
   "outputs": [
    {
     "name": "stdout",
     "output_type": "stream",
     "text": [
      "Fruit.count()\n",
      "3\n",
      "f1.count()\n",
      "3\n",
      "f2.count()\n",
      "3\n",
      "f3.count()\n",
      "3\n"
     ]
    }
   ],
   "source": [
    "class Fruit:\n",
    "    count = 0\n",
    "    def __init__(self, name='', size=0, color=''):\n",
    "        self.__name__ = name\n",
    "        self.__size = size\n",
    "        self.__color = color\n",
    "        Fruit.count+=1\n",
    "    def display():\n",
    "        print(Fruit.count)\n",
    "\n",
    "f1 = Fruit('Banana', 5, 'Yellow')\n",
    "f2 = Fruit('Orange', 4, 'Orange')\n",
    "f3 = Fruit('Apple', 3, 'Red')\n",
    "\n",
    "print('Fruit.count()')\n",
    "print(Fruit.count) \n",
    "print('f1.count()')\n",
    "print(f1.count) \n",
    "print('f2.count()')\n",
    "print(f2.count) \n",
    "print('f3.count()')\n",
    "print(f3.count) "
   ]
  },
  {
   "cell_type": "markdown",
   "id": "317d05a9-e4f8-4ea1-b144-6589de5970d1",
   "metadata": {},
   "source": [
    "(d) Una clase puede tener datos de clase y métodos de clase."
   ]
  },
  {
   "cell_type": "markdown",
   "id": "f40b3d13-7a48-4894-a522-7a07a43f47fe",
   "metadata": {},
   "source": [
    "Verdadero"
   ]
  },
  {
   "cell_type": "code",
   "execution_count": 16,
   "id": "2eedc366",
   "metadata": {},
   "outputs": [
    {
     "name": "stdout",
     "output_type": "stream",
     "text": [
      "Este es un dato de clase\n",
      "Este es un dato de clase\n",
      "Este es un dato de clase\n",
      "Este es un dato de clase\n",
      "Este es un dato de clase\n",
      "Este es un dato de clase\n"
     ]
    }
   ],
   "source": [
    "class Ejemplo:\n",
    "    # Datos de clase\n",
    "    dato_clase = \"Este es un dato de clase\"\n",
    "\n",
    "    def __init__(self, valor):\n",
    "        self.valor = valor  # Atributo de instancia\n",
    "\n",
    "    # Método de clase\n",
    "    @classmethod\n",
    "    def mostrar_dato_clase(cls):\n",
    "        return cls.dato_clase\n",
    "\n",
    "# Creamos instancias de la clase\n",
    "ej1 = Ejemplo(10)\n",
    "ej2 = Ejemplo(20)\n",
    "\n",
    "# Accedemos a los datos de clase\n",
    "print(Ejemplo.dato_clase)\n",
    "print(ej1.dato_clase)      \n",
    "print(ej2.dato_clase)      \n",
    "\n",
    "# Usamos método de clase\n",
    "print(Ejemplo.mostrar_dato_clase())\n",
    "print(ej1.mostrar_dato_clase())    \n",
    "print(ej2.mostrar_dato_clase())    \n"
   ]
  },
  {
   "cell_type": "markdown",
   "id": "ea710ea5-b5af-4b5d-b4b5-b4723b2fd37f",
   "metadata": {},
   "source": [
    "(e) Por lo general, los datos de una clase se mantienen privados y se accede a ellos / se manipulan a través de los métodos del objeto de la clase."
   ]
  },
  {
   "cell_type": "markdown",
   "id": "c1c927f4",
   "metadata": {},
   "source": [
    "Verdadero"
   ]
  },
  {
   "cell_type": "code",
   "execution_count": 18,
   "id": "8e5b4010-34a1-4796-b831-59a519d0f855",
   "metadata": {},
   "outputs": [
    {
     "name": "stdout",
     "output_type": "stream",
     "text": [
      "Juan\n",
      "30\n",
      "Pedro\n",
      "35\n"
     ]
    },
    {
     "ename": "AttributeError",
     "evalue": "'Persona' object has no attribute '__nombre'",
     "output_type": "error",
     "traceback": [
      "\u001b[0;31m---------------------------------------------------------------------------\u001b[0m",
      "\u001b[0;31mAttributeError\u001b[0m                            Traceback (most recent call last)",
      "Cell \u001b[0;32mIn[18], line 39\u001b[0m\n\u001b[1;32m     36\u001b[0m \u001b[38;5;28mprint\u001b[39m(persona\u001b[38;5;241m.\u001b[39mget_nombre())  \u001b[38;5;66;03m# Salida: Pedro\u001b[39;00m\n\u001b[1;32m     37\u001b[0m \u001b[38;5;28mprint\u001b[39m(persona\u001b[38;5;241m.\u001b[39mget_edad())    \u001b[38;5;66;03m# Salida: 35\u001b[39;00m\n\u001b[0;32m---> 39\u001b[0m \u001b[38;5;28mprint\u001b[39m(\u001b[43mpersona\u001b[49m\u001b[38;5;241;43m.\u001b[39;49m\u001b[43m__nombre\u001b[49m)\n\u001b[1;32m     41\u001b[0m \u001b[38;5;66;03m# Intentar acceder directamente a un atributo privado (causará un error)\u001b[39;00m\n\u001b[1;32m     42\u001b[0m \u001b[38;5;66;03m# print(persona.__nombre)  # AttributeError: 'Persona' object has no attribute '__nombre'\u001b[39;00m\n",
      "\u001b[0;31mAttributeError\u001b[0m: 'Persona' object has no attribute '__nombre'"
     ]
    }
   ],
   "source": [
    "class Persona:\n",
    "    def __init__(self, nombre, edad):\n",
    "        self.__nombre = nombre  # atributo privado\n",
    "        self.__edad = edad      # atributo privado\n",
    "\n",
    "    # Getter para nombre\n",
    "    def get_nombre(self):\n",
    "        return self.__nombre\n",
    "\n",
    "    # Setter para nombre\n",
    "    def set_nombre(self, nombre):\n",
    "        self.__nombre = nombre\n",
    "\n",
    "    # Getter para edad\n",
    "    def get_edad(self):\n",
    "        return self.__edad\n",
    "\n",
    "    # Setter para edad\n",
    "    def set_edad(self, edad):\n",
    "        if edad > 0:\n",
    "            self.__edad = edad\n",
    "        else:\n",
    "            print(\"La edad debe ser un número positivo.\")\n",
    "\n",
    "# Crear una instancia de Persona\n",
    "persona = Persona(\"Juan\", 30)\n",
    "\n",
    "# Acceder a los atributos a través de los métodos\n",
    "print(persona.get_nombre())  # Salida: Juan\n",
    "print(persona.get_edad())    # Salida: 30\n",
    "\n",
    "# Modificar los atributos a través de los métodos\n",
    "persona.set_nombre(\"Pedro\")\n",
    "persona.set_edad(35)\n",
    "\n",
    "print(persona.get_nombre())  # Salida: Pedro\n",
    "print(persona.get_edad())    # Salida: 35\n",
    "\n",
    "print(persona.__nombre) # Intentar acceder directamente a un atributo privado (causará un error)\n",
    "\n"
   ]
  },
  {
   "cell_type": "markdown",
   "id": "42f75425-8b96-4daf-9f87-1e68ef00239d",
   "metadata": {},
   "source": [
    "(f) Las funciones miembro de un objeto deben llamarse explícitamente, mientras que el método init () se llama automáticamente.\n"
   ]
  },
  {
   "cell_type": "markdown",
   "id": "4049aa55",
   "metadata": {},
   "source": [
    "Verdadero"
   ]
  },
  {
   "cell_type": "code",
   "execution_count": 19,
   "id": "379665b2-6c03-452c-b731-ca1eab46998c",
   "metadata": {},
   "outputs": [
    {
     "name": "stdout",
     "output_type": "stream",
     "text": [
      "Hola, me llamo Juan y tengo 30 años.\n"
     ]
    }
   ],
   "source": [
    "class Persona:\n",
    "    def __init__(self, nombre, edad):\n",
    "        # Este método se llama automáticamente al crear una instancia\n",
    "        self.nombre = nombre\n",
    "        self.edad = edad\n",
    "    \n",
    "    def saludar(self):\n",
    "        # Este método necesita ser llamado explícitamente\n",
    "        return f\"Hola, me llamo {self.nombre} y tengo {self.edad} años.\"\n",
    "\n",
    "# Crear una nueva instancia de la clase Persona\n",
    "p1 = Persona(\"Juan\", 30)\n",
    "\n",
    "# El método __init__ se llama automáticamente al crear la instancia, \n",
    "# inicializando los atributos nombre y edad\n",
    "\n",
    "# Llamar explícitamente al método saludar\n",
    "print(p1.saludar())\n"
   ]
  },
  {
   "cell_type": "markdown",
   "id": "cbde6da8-ff22-42e2-b8b1-1191968d9bac",
   "metadata": {},
   "source": [
    "(g) Un constructor es llamado cada vez que un objeto es instanciado."
   ]
  },
  {
   "cell_type": "markdown",
   "id": "2177ff1f",
   "metadata": {},
   "source": [
    "Verdadero"
   ]
  },
  {
   "cell_type": "markdown",
   "id": "8185638b-cfd7-4eda-a40a-099628456985",
   "metadata": {},
   "source": [
    "(h) El método init ( ) nunca devuelve un valor."
   ]
  },
  {
   "cell_type": "markdown",
   "id": "b77ab43d",
   "metadata": {},
   "source": [
    "Verdadero"
   ]
  },
  {
   "cell_type": "code",
   "execution_count": 20,
   "id": "282b1c29-5f74-4ce6-afd7-b8be1634bf1b",
   "metadata": {},
   "outputs": [],
   "source": [
    "class Persona:\n",
    "    def __init__(self, nombre, edad):\n",
    "        self.nombre = nombre\n",
    "        self.edad = edad\n",
    "        # No hay declaración 'return' aquí\n",
    "\n",
    "# Crear una instancia de Persona\n",
    "persona1 = Persona(\"Juan\", 30)\n",
    "# El método __init__() se ejecuta al crear la instancia 'persona1'\n",
    "# No se devuelve explícitamente ningún valor.\n"
   ]
  },
  {
   "cell_type": "markdown",
   "id": "ce797e2d-bdb2-40a3-b5a3-eb7a49b4cd43",
   "metadata": {},
   "source": [
    "(i) Cuando un objeto sale del ámbito, su método del ( ) es llamado automáticamente."
   ]
  },
  {
   "cell_type": "markdown",
   "id": "6d081ead",
   "metadata": {},
   "source": [
    "Verdadero"
   ]
  },
  {
   "cell_type": "code",
   "execution_count": 21,
   "id": "0857be74-31f8-4d82-b47f-f06a75d7c0d7",
   "metadata": {},
   "outputs": [
    {
     "name": "stdout",
     "output_type": "stream",
     "text": [
      "Objeto Objeto1 ha sido creado.\n",
      "Objeto Objeto2 ha sido creado.\n",
      "Objeto Objeto1 está siendo destruido.\n"
     ]
    }
   ],
   "source": [
    "class Example:\n",
    "    def __init__(self, name):\n",
    "        self.name = name\n",
    "        print(f\"Objeto {self.name} ha sido creado.\")\n",
    "    \n",
    "    def __del__(self):\n",
    "        print(f\"Objeto {self.name} está siendo destruido.\")\n",
    "\n",
    "# Creando instancias de la clase Example\n",
    "obj1 = Example(\"Objeto1\")\n",
    "obj2 = Example(\"Objeto2\")\n",
    "\n",
    "# Eliminando explícitamente obj1\n",
    "del obj1\n",
    "\n",
    "# Al finalizar el ámbito, obj2 será destruido automáticamente\n"
   ]
  },
  {
   "cell_type": "markdown",
   "id": "5bd5de74-4f97-48dd-8874-23e18f8d2a71",
   "metadata": {},
   "source": [
    "(j) La variable self siempre contiene la dirección del objeto mediante el cual se accede al método/datos."
   ]
  },
  {
   "cell_type": "markdown",
   "id": "749f7765",
   "metadata": {},
   "source": [
    "Verdadero"
   ]
  },
  {
   "cell_type": "markdown",
   "id": "8ee9ad82-d5b6-4b7d-b36c-0f7cd4d2c5d3",
   "metadata": {},
   "source": [
    "(k) La variable self puede ser utilizada incluso fuera de la clase."
   ]
  },
  {
   "cell_type": "markdown",
   "id": "d7c15217",
   "metadata": {},
   "source": [
    "Falsa"
   ]
  },
  {
   "cell_type": "markdown",
   "id": "fcd7681f-2f8d-4777-bfcd-cad245923437",
   "metadata": {},
   "source": [
    "(l) El método init ( ) sólo se llama una vez durante la vida de un objeto."
   ]
  },
  {
   "cell_type": "markdown",
   "id": "f538196a",
   "metadata": {},
   "source": [
    "Verdadera"
   ]
  },
  {
   "cell_type": "markdown",
   "id": "4299c8a5-2a65-4a77-b94f-df2134938ddb",
   "metadata": {},
   "source": [
    "**[B] Responde las siguientes preguntas:**"
   ]
  },
  {
   "cell_type": "markdown",
   "id": "e6cdf297-fb79-4278-bf2f-75feed603a2d",
   "metadata": {},
   "source": [
    "(a) ¿Qué métodos de una clase actúan como constructores?"
   ]
  },
  {
   "cell_type": "markdown",
   "id": "a0576296",
   "metadata": {},
   "source": [
    "El método `__init()__` puede llamarse de forma implícita o explícita si ha sido declarado. "
   ]
  },
  {
   "cell_type": "code",
   "execution_count": 22,
   "id": "1dea2f45-18fc-4ef9-82db-8952c56fa7ea",
   "metadata": {},
   "outputs": [
    {
     "name": "stdout",
     "output_type": "stream",
     "text": [
      "Juan\n",
      "30\n"
     ]
    }
   ],
   "source": [
    "class Persona:\n",
    "    # Método Constructor Explícito\n",
    "    def __init__(self, nombre, edad):\n",
    "        self.nombre = nombre\n",
    "        self.edad = edad\n",
    "\n",
    "# Crear una instancia de Persona utilizando el constructor __init__()\n",
    "persona1 = Persona(\"Juan\", 30)\n",
    "\n",
    "print(persona1.nombre)  # Output: Juan\n",
    "print(persona1.edad)    # Output: 30\n"
   ]
  },
  {
   "cell_type": "markdown",
   "id": "a96dfc61-fce7-486d-bd67-1dd6cccb57a2",
   "metadata": {},
   "source": [
    "(b) ¿Cuántos objetos se crean en el siguiente fragmento de código?  \n",
    "```\n",
    "a = 10\n",
    "b = a\n",
    "c = b\n",
    "```"
   ]
  },
  {
   "cell_type": "markdown",
   "id": "65d72fc7",
   "metadata": {},
   "source": [
    "Sólo `a` es una instancia. \n",
    "\n",
    "`b` y `c` son referencias independientes de a que apuntan al mismo lugar que `a`."
   ]
  },
  {
   "cell_type": "code",
   "execution_count": 24,
   "id": "4915f1c9-68be-410b-b0bc-b038a8e3bf23",
   "metadata": {},
   "outputs": [
    {
     "name": "stdout",
     "output_type": "stream",
     "text": [
      "'a'  antes de operaciones\n",
      "10\n",
      "'a'  después de operación con 'b'\n",
      "10\n",
      "5\n",
      "'a'  después de operación con 'c'\n",
      "10\n",
      "8\n"
     ]
    }
   ],
   "source": [
    "a = 10\n",
    "b = a\n",
    "c = b\n",
    "\n",
    "print(\"'a'  antes de operaciones\")\n",
    "print(a)\n",
    "b = b - 5\n",
    "print(\"'a'  después de operación con 'b'\")\n",
    "print(a)\n",
    "print(b)\n",
    "c = c - 2\n",
    "print(\"'a'  después de operación con 'c'\")\n",
    "print(a)\n",
    "print(c)"
   ]
  },
  {
   "cell_type": "markdown",
   "id": "ca61920c-0558-40a9-9701-8bfc7091a32c",
   "metadata": {},
   "source": [
    "(c) ¿Cuál es la diferencia entre variables, edad y __edad?"
   ]
  },
  {
   "cell_type": "markdown",
   "id": "42429e3c",
   "metadata": {},
   "source": [
    "Que `edad` es una variable accesible directamente, y `__edad` tiene que ser accedida mediante un método público"
   ]
  },
  {
   "cell_type": "markdown",
   "id": "a5519f24-af14-4f83-ab14-61dd7d6ddb1b",
   "metadata": {},
   "source": [
    "(d) ¿Cuál es la diferencia entre la función `vars( )` y `dir( )`?"
   ]
  },
  {
   "cell_type": "markdown",
   "id": "6faa40f7",
   "metadata": {},
   "source": [
    "Que `vars()` es un diccionario y `dir()` es una lista, aunque ambos muestran los atributos locales."
   ]
  },
  {
   "cell_type": "markdown",
   "id": "282500df-9d59-4578-b037-6bc9d25de9b9",
   "metadata": {},
   "source": [
    "(e) En el siguiente fragmento de código, ¿cuál es la diferencia entre `display( )` y `show( )`?  \n",
    "```\n",
    "class Message:\n",
    "    def display(self, msg):\n",
    "        pass\n",
    "    def show(msg):\n",
    "        pass\n",
    "```"
   ]
  },
  {
   "cell_type": "markdown",
   "id": "3314e283",
   "metadata": {},
   "source": [
    "Que `display(self)` es un método accesible de Instancia y `show()` es un método accesible de Clase."
   ]
  },
  {
   "cell_type": "markdown",
   "id": "4de68996-60f7-4d2a-962e-57957365d735",
   "metadata": {},
   "source": [
    "(f) En el siguiente fragmento de código, ¿cuál es la diferencia entre display( ) y show()?  \n",
    "\n",
    "```\n",
    "m = Message( )\n",
    "m.display('Hi and Bye' )\n",
    "Message.show('Hi and Bye' )\n",
    "```"
   ]
  },
  {
   "cell_type": "markdown",
   "id": "b79ae2ec",
   "metadata": {},
   "source": [
    "Que `m.display(self)` es un método accedido desde la Instancia y `Message.show()` es un método accedido desde la Clase."
   ]
  },
  {
   "cell_type": "markdown",
   "id": "9920318b-65c7-4adc-9c6a-33e68e13ea67",
   "metadata": {},
   "source": [
    "(g) ¿Cuántos parámetros se pasan a `display()` en el siguiente fragmento de código?  \n",
    "```\n",
    "m = Sample( )\n",
    "m.display(10, 20, 30)\n",
    "```"
   ]
  },
  {
   "cell_type": "markdown",
   "id": "42f33882",
   "metadata": {},
   "source": [
    "Tres parámetros o argumentos -> 10, 20 y 30."
   ]
  },
  {
   "cell_type": "markdown",
   "id": "0065dab3-7235-4237-89d7-6292b92244f2",
   "metadata": {},
   "source": [
    "**(Opcional) De los cinco ejercicios dados responder solo 2.** "
   ]
  },
  {
   "cell_type": "markdown",
   "id": "156c7a87-56dc-455a-99e5-97f539f88854",
   "metadata": {},
   "source": [
    "O-1 - Escriba un programa para crear una clase que represente Números complejos que contengan partes reales e imaginarias y, a continuación, utilícelo para realizar sumas, restas, multiplicaciones y divisiones de números complejos."
   ]
  },
  {
   "cell_type": "code",
   "execution_count": 29,
   "id": "6ed82b50-737e-46e9-9875-6eba60eddb9a",
   "metadata": {},
   "outputs": [
    {
     "name": "stdout",
     "output_type": "stream",
     "text": [
      "Suma: 5 + 6i\n",
      "Resta: -2 - 2i\n",
      "Multiplicación: -5 + 10i\n",
      "División: 0.44 + 0.08i\n"
     ]
    }
   ],
   "source": [
    "# Realizado con ChatGPT\n",
    "class ComplexNumber:\n",
    "    def __init__(self, real, imag):\n",
    "        self.real = real\n",
    "        self.imag = imag\n",
    "\n",
    "    def __str__(self):\n",
    "        if self.imag >= 0:\n",
    "            return f\"{self.real} + {self.imag}i\"\n",
    "        else:\n",
    "            return f\"{self.real} - {-self.imag}i\"\n",
    "    \n",
    "    def __add__(self, other):\n",
    "        return ComplexNumber(self.real + other.real, self.imag + other.imag)\n",
    "    \n",
    "    def __sub__(self, other):\n",
    "        return ComplexNumber(self.real - other.real, self.imag - other.imag)\n",
    "    \n",
    "    def __mul__(self, other):\n",
    "        real_part = self.real * other.real - self.imag * other.imag\n",
    "        imag_part = self.real * other.imag + self.imag * other.real\n",
    "        return ComplexNumber(real_part, imag_part)\n",
    "    \n",
    "    def __truediv__(self, other):\n",
    "        denominator = other.real**2 + other.imag**2\n",
    "        real_part = (self.real * other.real + self.imag * other.imag) / denominator\n",
    "        imag_part = (self.imag * other.real - self.real * other.imag) / denominator\n",
    "        return ComplexNumber(real_part, imag_part)\n",
    "\n",
    "# Ejemplo de uso:\n",
    "if __name__ == \"__main__\":\n",
    "    # Crear números complejos\n",
    "    c1 = ComplexNumber(1, 2)\n",
    "    c2 = ComplexNumber(3, 4)\n",
    "        \n",
    "    # Mostrar resultados\n",
    "    print(f\"Suma: {c1 + c2}\")\n",
    "    print(f\"Resta: {c1 - c2}\")\n",
    "    print(f\"Multiplicación: {c1 * c2}\")\n",
    "    print(f\"División: {c1 / c2}\")\n",
    "\n"
   ]
  },
  {
   "cell_type": "markdown",
   "id": "fc6701cd-5409-422c-beb7-963dcab2c19c",
   "metadata": {},
   "source": [
    "O-2 - Escribe un programa que implemente una clase Matriz y realice operaciones de suma, multiplicación y transpuesta en matrices de 3 x 3."
   ]
  },
  {
   "cell_type": "code",
   "execution_count": 31,
   "id": "23d83bc9-3f23-497d-b8f9-2f04f84e62bd",
   "metadata": {},
   "outputs": [
    {
     "name": "stdout",
     "output_type": "stream",
     "text": [
      "Suma:\n",
      "10 10 10\n",
      "10 10 10\n",
      "10 10 10\n",
      "\n",
      "Multiplicación:\n",
      "30 24 18\n",
      "84 69 54\n",
      "138 114 90\n",
      "\n",
      "matriz1:\n",
      "1 2 3\n",
      "4 5 6\n",
      "7 8 9\n",
      "\n",
      "Transpuesta de matriz1:\n",
      "1 4 7\n",
      "2 5 8\n",
      "3 6 9\n"
     ]
    }
   ],
   "source": [
    "# Realizado con ChatGPT\n",
    "class Matriz:\n",
    "    def __init__(self, matriz):\n",
    "        self.matriz = matriz\n",
    "\n",
    "    def suma(self, otra_matriz):\n",
    "        # Matriz resultado inicializada en ceros\n",
    "        resultado = [[0, 0, 0], [0, 0, 0], [0, 0, 0]]  \n",
    "        for i in range(3):\n",
    "            for j in range(3):\n",
    "                resultado[i][j] = self.matriz[i][j] + otra_matriz.matriz[i][j]\n",
    "        return Matriz(resultado)\n",
    "\n",
    "    def multiplicacion(self, otra_matriz):\n",
    "        # Matriz resultado inicializada en ceros\n",
    "        resultado = [[0, 0, 0], [0, 0, 0], [0, 0, 0]]  \n",
    "        for i in range(3):\n",
    "            for j in range(3):\n",
    "                for k in range(3):\n",
    "                    resultado[i][j] += self.matriz[i][k] * otra_matriz.matriz[k][j]\n",
    "        return Matriz(resultado)\n",
    "\n",
    "    def transpuesta(self):\n",
    "        # Matriz resultado inicializada en ceros\n",
    "        resultado = [[0, 0, 0], [0, 0, 0], [0, 0, 0]]  \n",
    "        for i in range(3):\n",
    "            for j in range(3):\n",
    "                resultado[j][i] = self.matriz[i][j]\n",
    "        return Matriz(resultado)\n",
    "\n",
    "    def __str__(self):\n",
    "        return '\\n'.join([' '.join([str(elemento) for elemento in fila]) for fila in self.matriz])\n",
    "\n",
    "# Ejemplo de uso:\n",
    "# Definición de matrices de ejemplo\n",
    "matriz1 = Matriz([[1, 2, 3], [4, 5, 6], [7, 8, 9]])\n",
    "matriz2 = Matriz([[9, 8, 7], [6, 5, 4], [3, 2, 1]])\n",
    "\n",
    "# Suma de matrices\n",
    "resultado_suma = matriz1.suma(matriz2)\n",
    "print(\"Suma:\")\n",
    "print(resultado_suma)\n",
    "\n",
    "# Multiplicación de matrices\n",
    "resultado_multiplicacion = matriz1.multiplicacion(matriz2)\n",
    "print(\"\\nMultiplicación:\")\n",
    "print(resultado_multiplicacion)\n",
    "\n",
    "# matriz1\n",
    "print(\"\\nmatriz1:\")\n",
    "print(matriz1)\n",
    "# Transpuesta de matriz1\n",
    "resultado_transpuesta = matriz1.transpuesta()\n",
    "print(\"\\nTranspuesta de matriz1:\")\n",
    "print(resultado_transpuesta)\n"
   ]
  },
  {
   "cell_type": "markdown",
   "id": "d99927e8-d1dd-487a-8444-b6d42fa4170d",
   "metadata": {},
   "source": [
    "O-3 - Escribe un programa para crear una clase que pueda calcular la superficie y el volumen de un sólido. La clase también debe tener una disposición para aceptar los datos relevantes para el sólido."
   ]
  },
  {
   "cell_type": "code",
   "execution_count": null,
   "id": "3ce140c2",
   "metadata": {},
   "outputs": [],
   "source": []
  },
  {
   "cell_type": "markdown",
   "id": "aef6d95e-6bf2-493c-a172-242c3008017d",
   "metadata": {},
   "source": [
    "O-4 - Escribe un programa para crear una clase que pueda calcular el perímetro y el área de una forma regular. La clase también debe tener una disposición para aceptar los datos pertinentes a la forma."
   ]
  },
  {
   "cell_type": "code",
   "execution_count": 6,
   "id": "798c6a7b",
   "metadata": {},
   "outputs": [
    {
     "name": "stdout",
     "output_type": "stream",
     "text": [
      "apotema = 4.13\n",
      "Área = 61.94\n"
     ]
    }
   ],
   "source": [
    "# Realizado por mi\n",
    "import math\n",
    "\n",
    "class Forma:\n",
    "    def __init__(self, lados=0, lado=0):        \n",
    "        self.__lados__ = lados\n",
    "        self.__lado__ = lado\n",
    "\n",
    "    def perimetro(self):                \n",
    "        self.__perimetro__ = self.__lados__ * self.__lado__\n",
    "        return self.__perimetro__\n",
    "    \n",
    "    def area(self, apotema=0):        \n",
    "        self.__apotema__ = apotema\n",
    "        return 1/2 * (self.__perimetro__ * self.__apotema__)\n",
    "    \n",
    "    def calcula_apotema(self):\n",
    "        # Ap = lado / 2*tan ángulo teta\n",
    "        # Angulo Teta = 360º/2*n\n",
    "        # *n = número lados polígono\n",
    "        # *El '2' proviene de trazar una recta desde el centro hasta la\n",
    "        # mitad de cada lado, formándose el doble de triángulos que \n",
    "        # de lados\n",
    "        self.__teta__ = math.radians(360 / (2 * self.__lados__))\n",
    "        self.__ap__ = self.__lado__ / (2*math.tan(self.__teta__))\n",
    "        return self.__ap__\n",
    "    \n",
    "poligono1 = Forma(5, 6)\n",
    "perimetro = poligono1.perimetro()\n",
    "a = poligono1.calcula_apotema()\n",
    "print(f\"apotema = {a.__round__(2)}\")\n",
    "area = poligono1.area(a)\n",
    "print(f\"Área = {area.__round__(2)}\")"
   ]
  },
  {
   "cell_type": "markdown",
   "id": "7b20b1ca-074d-4546-93ff-1ac9b0ebb875",
   "metadata": {},
   "source": [
    "O-5 -  Escribe un programa que cree y utilice una clase Time para realizar varias operaciones aritméticas de tiempo."
   ]
  },
  {
   "cell_type": "code",
   "execution_count": null,
   "id": "a4b3c060-a464-42c6-a35c-84e3379b77fd",
   "metadata": {},
   "outputs": [],
   "source": []
  }
 ],
 "metadata": {
  "kernelspec": {
   "display_name": "Python 3 (ipykernel)",
   "language": "python",
   "name": "python3"
  },
  "language_info": {
   "codemirror_mode": {
    "name": "ipython",
    "version": 3
   },
   "file_extension": ".py",
   "mimetype": "text/x-python",
   "name": "python",
   "nbconvert_exporter": "python",
   "pygments_lexer": "ipython3",
   "version": "3.11.9"
  }
 },
 "nbformat": 4,
 "nbformat_minor": 5
}
