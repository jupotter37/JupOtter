{
 "cells": [
  {
   "cell_type": "code",
   "execution_count": 259,
   "metadata": {},
   "outputs": [],
   "source": [
    "import pandas as pd\n",
    "import pprint\n",
    "import numpy as np\n",
    "import copy"
   ]
  },
  {
   "cell_type": "code",
   "execution_count": 278,
   "metadata": {},
   "outputs": [],
   "source": [
    "def is_nan(x):\n",
    "    return (x is np.nan or x != x)\n",
    "\n",
    "def clean_courses_seats_data(courses_seats_data):\n",
    "    new_data = []\n",
    "    for l in courses_seats_data:\n",
    "        #print(is_nan(l[0]))\n",
    "        if is_nan(l[0]) is False:\n",
    "            if l[0][0].isalpha:\n",
    "                new_data.append(l)\n",
    "    print(new_data)\n",
    "    half = 1\n",
    "    for courses in new_data:\n",
    "        day = courses[0]\n",
    "        current = {}\n",
    "        if day[0] is '2':\n",
    "            half = half + 1\n",
    "            continue\n",
    "        print(day[0], \"--\", half)\n",
    "        #print(courses)\n",
    "        i = 2\n",
    "        while i<len(courses) and is_nan(courses[i]) is False:\n",
    "            current[courses[i]] = (courses[i + 1], half)\n",
    "            print(courses[i])\n",
    "            i = i + 2\n",
    "        if half is 1:\n",
    "            courses_seats[day] = current\n",
    "        else:\n",
    "            courses_seats[day].update(current)\n",
    "    return courses_seats\n",
    "\n",
    "def clean_seat_arrangement_data(rooms_capacity_data):\n",
    "    new_data = {}\n",
    "    for l in rooms_capacity_data:\n",
    "        new_data[l[0]] = l[-1]\n",
    "    return new_data\n",
    "\n",
    "def num_of_floors(rooms_capacity_data):\n",
    "    floors = set()\n",
    "    for rooms in rooms_capacity_data:\n",
    "        floors.add(str(rooms)[0])\n",
    "    return floors\n"
   ]
  },
  {
   "cell_type": "code",
   "execution_count": 270,
   "metadata": {},
   "outputs": [],
   "source": [
    "courses_seats_data = pd.read_csv('tt_full.csv').values\n",
    "rooms_capacity_data = pd.read_csv('tt_full_seats.csv').values\n",
    "_days = ['Monday', 'Tuesday', 'Wednesday', 'Thursday', 'Friday', 'Saturday', 'Sunday']"
   ]
  },
  {
   "cell_type": "code",
   "execution_count": 271,
   "metadata": {},
   "outputs": [
    {
     "name": "stdout",
     "output_type": "stream",
     "text": [
      "[array(['Monday', nan, 'MA001', 5.0, 'MA101', 336.0, 'ME335', 19.0,\n",
      "       'CE303', 25.0, 'EE330', 60.0, 'CB303', 24.0, 'CS547', 14.0,\n",
      "       'EE511', 25.0, nan, nan, nan, nan, nan, nan, nan, nan, nan, nan,\n",
      "       nan, nan, nan, nan, nan, nan, nan, nan, nan, nan, nan, nan, nan,\n",
      "       nan, nan, nan], dtype=object), array(['Tuesday', nan, 'HS103', 336.0, 'ME313', 50.0, 'CS354', 61.0,\n",
      "       'EE381', 59.0, 'PH001', 5.0, 'CB305', 24.0, 'CS574', 25.0, 'CB501',\n",
      "       19.0, nan, nan, nan, nan, nan, nan, nan, nan, nan, nan, nan, nan,\n",
      "       nan, nan, nan, nan, nan, nan, nan, nan, nan, nan, nan, nan, nan,\n",
      "       nan], dtype=object), array(['Wednesday', nan, 'CE317', 25.0, 'HS351', 19.0, 'PH103', 168.0,\n",
      "       'CH001', 5.0, 'HS513', 185.0, nan, nan, nan, nan, nan, nan, nan,\n",
      "       nan, nan, nan, nan, nan, nan, nan, nan, nan, nan, nan, nan, nan,\n",
      "       nan, nan, nan, nan, nan, nan, nan, nan, nan, nan, nan, nan],\n",
      "      dtype=object), array(['Thursday', nan, 'PH301', 72.0, 'HS301', 57.0, 'HS001', 5.0,\n",
      "       'CH103', 168.0, nan, nan, nan, nan, nan, nan, nan, nan, nan, nan,\n",
      "       nan, nan, nan, nan, nan, nan, nan, nan, nan, nan, nan, nan, nan,\n",
      "       nan, nan, nan, nan, nan, nan, nan, nan, nan, nan, nan],\n",
      "      dtype=object), array(['Friday', nan, 'CE321', 26.0, 'EE350', 62.0, 'CS321', 61.0,\n",
      "       'ME315', 50.0, 'CB301', 24.0, nan, nan, nan, nan, nan, nan, nan,\n",
      "       nan, nan, nan, nan, nan, nan, nan, nan, nan, nan, nan, nan, nan,\n",
      "       nan, nan, nan, nan, nan, nan, nan, nan, nan, nan, nan, nan],\n",
      "      dtype=object), array(['Saturday', nan, 'CE111', 336.0, 'CS384', 54.0, 'CS303', 61.0, nan,\n",
      "       nan, nan, nan, nan, nan, nan, nan, nan, nan, nan, nan, nan, nan,\n",
      "       nan, nan, nan, nan, nan, nan, nan, nan, nan, nan, nan, nan, nan,\n",
      "       nan, nan, nan, nan, nan, nan, nan, nan, nan], dtype=object), array(['Sunday', nan, 'CE319', 25.0, 'EE370', 60.0, 'ME331', 50.0,\n",
      "       'CS577', 35.0, nan, nan, nan, nan, nan, nan, nan, nan, nan, nan,\n",
      "       nan, nan, nan, nan, nan, nan, nan, nan, nan, nan, nan, nan, nan,\n",
      "       nan, nan, nan, nan, nan, nan, nan, nan, nan, nan, nan],\n",
      "      dtype=object), array(['2nd half ', nan, nan, nan, nan, nan, nan, nan, nan, nan, nan, nan,\n",
      "       nan, nan, nan, nan, nan, nan, nan, nan, nan, nan, nan, nan, nan,\n",
      "       nan, nan, nan, nan, nan, nan, nan, nan, nan, nan, nan, nan, nan,\n",
      "       nan, nan, nan, nan, nan, nan], dtype=object), array(['Monday', nan, 'MA523', 12.0, 'MA201', 244.0, 'CE545', 39.0,\n",
      "       'ME533', 34.0, 'ME504', 15.0, 'EE534', 21.0, 'CS541', 15.0,\n",
      "       'MC503', 14.0, 'MA421', 19.0, 'PH421', 18.0, 'PH523', 8.0, 'PH701',\n",
      "       15.0, 'MM505', 15.0, 'CH601', 13.0, 'CH421', 17.0, 'HS725', 5.0,\n",
      "       nan, nan, nan, nan, nan, nan, nan, nan, nan, nan], dtype=object), array(['Tuesday', nan, 'MA533', 14.0, 'HS201', 96.0, 'CE517', 17.0,\n",
      "       'HS231', 112.0, 'MA423', 19.0, 'HS233', 36.0, 'CS503', 32.0,\n",
      "       'EE530', 14.0, 'HS701', 6.0, 'ME503', 26.0, 'ME525', 7.0, 'MH501',\n",
      "       14.0, 'PH423', 18.0, 'PH704', 6.0, 'PH604', 7.0, 'EE486', 50.0,\n",
      "       'MM503', 18.0, 'CH423', 17.0, 'CH521', 11.0, 'EE540', 11.0,\n",
      "       'MA509', 4.0], dtype=object), array(['Wednesday', nan, 'MA527', 9.0, 'MA427', 19.0, 'HS451', 68.0,\n",
      "       'CE213', 29.0, 'PH401', 92.0, 'EE200', 64.0, 'MH503', 41.0,\n",
      "       'CS204', 69.0, 'PH429', 18.0, 'PH521', 8.0, 'EE532', 14.0, 'ME207',\n",
      "       59.0, 'CS501', 14.0, 'MM501', 16.0, 'CB203', 25.0, 'CH425', 17.0,\n",
      "       'CH523', 11.0, nan, nan, nan, nan, nan, nan, nan, nan],\n",
      "      dtype=object), array(['Thursday', nan, 'MA531', 7.0, 'CE547', 29.0, 'MA429', 19.0,\n",
      "       'CE203', 29.0, 'CS561', 25.0, 'HS504', 7.0, 'EE221', 63.0, 'HS733',\n",
      "       3.0, 'PH427', 18.0, 'CS206', 69.0, 'PH525', 12.0, 'ME537', 43.0,\n",
      "       'ME742', 8.0, 'EE523', 38.0, 'EE507', 16.0, 'ME209', 60.0, 'MS509',\n",
      "       1.0, 'CB407', 21.0, 'CB205', 24.0, 'CH427', 17.0, 'CH525', 11.0],\n",
      "      dtype=object), array(['Friday', nan, 'MA525', 12.0, 'CE505', 17.0, 'ME431', 46.0,\n",
      "       'MA425', 19.0, 'EE512', 35.0, 'CE211', 29.0, 'HS732', 4.0, 'EE201',\n",
      "       64.0, 'PH527', 9.0, 'ME521', 12.0, 'PH702', 11.0, 'PH425', 18.0,\n",
      "       'CS508', 15.0, 'HS711', 4.0, 'ME231', 59.0, 'MM511', 15.0, 'CB401',\n",
      "       20.0, 'CB211', 24.0, 'CH429', 17.0, 'CH401', 1.0, 'CS544', 11.0],\n",
      "      dtype=object), array(['Saturday', nan, 'MA521', 12.0, 'CE507', 16.0, 'CS564', 120.0,\n",
      "       'CB503', 17.0, 'CH605', 22.0, 'EE101', 337.0, nan, nan, nan, nan,\n",
      "       nan, nan, nan, nan, nan, nan, nan, nan, nan, nan, nan, nan, nan,\n",
      "       nan, nan, nan, nan, nan, nan, nan, nan, nan, nan, nan, nan, nan],\n",
      "      dtype=object), array(['Sunday', nan, 'MA501', 33.0, 'CE549', 37.0, 'MA541', 6.0, 'ME501',\n",
      "       39.0, nan, nan, nan, nan, nan, nan, nan, nan, nan, nan, nan, nan,\n",
      "       nan, nan, nan, nan, nan, nan, nan, nan, nan, nan, nan, nan, nan,\n",
      "       nan, nan, nan, nan, nan, nan, nan, nan, nan], dtype=object)]\n",
      "M -- 1\n",
      "MA001\n",
      "MA101\n",
      "ME335\n",
      "CE303\n",
      "EE330\n",
      "CB303\n",
      "CS547\n",
      "EE511\n",
      "T -- 1\n",
      "HS103\n",
      "ME313\n",
      "CS354\n",
      "EE381\n",
      "PH001\n",
      "CB305\n",
      "CS574\n",
      "CB501\n",
      "W -- 1\n",
      "CE317\n",
      "HS351\n",
      "PH103\n",
      "CH001\n",
      "HS513\n",
      "T -- 1\n",
      "PH301\n",
      "HS301\n",
      "HS001\n",
      "CH103\n",
      "F -- 1\n",
      "CE321\n",
      "EE350\n",
      "CS321\n",
      "ME315\n",
      "CB301\n",
      "S -- 1\n",
      "CE111\n",
      "CS384\n",
      "CS303\n",
      "S -- 1\n",
      "CE319\n",
      "EE370\n",
      "ME331\n",
      "CS577\n",
      "M -- 2\n",
      "MA523\n",
      "MA201\n",
      "CE545\n",
      "ME533\n",
      "ME504\n",
      "EE534\n",
      "CS541\n",
      "MC503\n",
      "MA421\n",
      "PH421\n",
      "PH523\n",
      "PH701\n",
      "MM505\n",
      "CH601\n",
      "CH421\n",
      "HS725\n",
      "T -- 2\n",
      "MA533\n",
      "HS201\n",
      "CE517\n",
      "HS231\n",
      "MA423\n",
      "HS233\n",
      "CS503\n",
      "EE530\n",
      "HS701\n",
      "ME503\n",
      "ME525\n",
      "MH501\n",
      "PH423\n",
      "PH704\n",
      "PH604\n",
      "EE486\n",
      "MM503\n",
      "CH423\n",
      "CH521\n",
      "EE540\n",
      "MA509\n",
      "W -- 2\n",
      "MA527\n",
      "MA427\n",
      "HS451\n",
      "CE213\n",
      "PH401\n",
      "EE200\n",
      "MH503\n",
      "CS204\n",
      "PH429\n",
      "PH521\n",
      "EE532\n",
      "ME207\n",
      "CS501\n",
      "MM501\n",
      "CB203\n",
      "CH425\n",
      "CH523\n",
      "T -- 2\n",
      "MA531\n",
      "CE547\n",
      "MA429\n",
      "CE203\n",
      "CS561\n",
      "HS504\n",
      "EE221\n",
      "HS733\n",
      "PH427\n",
      "CS206\n",
      "PH525\n",
      "ME537\n",
      "ME742\n",
      "EE523\n",
      "EE507\n",
      "ME209\n",
      "MS509\n",
      "CB407\n",
      "CB205\n",
      "CH427\n",
      "CH525\n",
      "F -- 2\n",
      "MA525\n",
      "CE505\n",
      "ME431\n",
      "MA425\n",
      "EE512\n",
      "CE211\n",
      "HS732\n",
      "EE201\n",
      "PH527\n",
      "ME521\n",
      "PH702\n",
      "PH425\n",
      "CS508\n",
      "HS711\n",
      "ME231\n",
      "MM511\n",
      "CB401\n",
      "CB211\n",
      "CH429\n",
      "CH401\n",
      "CS544\n",
      "S -- 2\n",
      "MA521\n",
      "CE507\n",
      "CS564\n",
      "CB503\n",
      "CH605\n",
      "EE101\n",
      "S -- 2\n",
      "MA501\n",
      "CE549\n",
      "MA541\n",
      "ME501\n"
     ]
    }
   ],
   "source": [
    "courses_seats_data = clean_courses_seats_data(courses_seats_data)\n",
    "rooms_capacity_data = clean_seat_arrangement_data(rooms_capacity_data)"
   ]
  },
  {
   "cell_type": "code",
   "execution_count": 272,
   "metadata": {},
   "outputs": [
    {
     "name": "stdout",
     "output_type": "stream",
     "text": [
      "{'Monday': {'MA001': (5.0, 1), 'MA101': (336.0, 1), 'ME335': (19.0, 1), 'CE303': (25.0, 1), 'EE330': (60.0, 1), 'CB303': (24.0, 1), 'CS547': (14.0, 1), 'EE511': (25.0, 1), 'MA523': (12.0, 2), 'MA201': (244.0, 2), 'CE545': (39.0, 2), 'ME533': (34.0, 2), 'ME504': (15.0, 2), 'EE534': (21.0, 2), 'CS541': (15.0, 2), 'MC503': (14.0, 2), 'MA421': (19.0, 2), 'PH421': (18.0, 2), 'PH523': (8.0, 2), 'PH701': (15.0, 2), 'MM505': (15.0, 2), 'CH601': (13.0, 2), 'CH421': (17.0, 2), 'HS725': (5.0, 2)}, 'Tuesday': {'HS103': (336.0, 1), 'ME313': (50.0, 1), 'CS354': (61.0, 1), 'EE381': (59.0, 1), 'PH001': (5.0, 1), 'CB305': (24.0, 1), 'CS574': (25.0, 1), 'CB501': (19.0, 1), 'MA533': (14.0, 2), 'HS201': (96.0, 2), 'CE517': (17.0, 2), 'HS231': (112.0, 2), 'MA423': (19.0, 2), 'HS233': (36.0, 2), 'CS503': (32.0, 2), 'EE530': (14.0, 2), 'HS701': (6.0, 2), 'ME503': (26.0, 2), 'ME525': (7.0, 2), 'MH501': (14.0, 2), 'PH423': (18.0, 2), 'PH704': (6.0, 2), 'PH604': (7.0, 2), 'EE486': (50.0, 2), 'MM503': (18.0, 2), 'CH423': (17.0, 2), 'CH521': (11.0, 2), 'EE540': (11.0, 2), 'MA509': (4.0, 2)}, 'Wednesday': {'CE317': (25.0, 1), 'HS351': (19.0, 1), 'PH103': (168.0, 1), 'CH001': (5.0, 1), 'HS513': (185.0, 1), 'MA527': (9.0, 2), 'MA427': (19.0, 2), 'HS451': (68.0, 2), 'CE213': (29.0, 2), 'PH401': (92.0, 2), 'EE200': (64.0, 2), 'MH503': (41.0, 2), 'CS204': (69.0, 2), 'PH429': (18.0, 2), 'PH521': (8.0, 2), 'EE532': (14.0, 2), 'ME207': (59.0, 2), 'CS501': (14.0, 2), 'MM501': (16.0, 2), 'CB203': (25.0, 2), 'CH425': (17.0, 2), 'CH523': (11.0, 2)}, 'Thursday': {'PH301': (72.0, 1), 'HS301': (57.0, 1), 'HS001': (5.0, 1), 'CH103': (168.0, 1), 'MA531': (7.0, 2), 'CE547': (29.0, 2), 'MA429': (19.0, 2), 'CE203': (29.0, 2), 'CS561': (25.0, 2), 'HS504': (7.0, 2), 'EE221': (63.0, 2), 'HS733': (3.0, 2), 'PH427': (18.0, 2), 'CS206': (69.0, 2), 'PH525': (12.0, 2), 'ME537': (43.0, 2), 'ME742': (8.0, 2), 'EE523': (38.0, 2), 'EE507': (16.0, 2), 'ME209': (60.0, 2), 'MS509': (1.0, 2), 'CB407': (21.0, 2), 'CB205': (24.0, 2), 'CH427': (17.0, 2), 'CH525': (11.0, 2)}, 'Friday': {'CE321': (26.0, 1), 'EE350': (62.0, 1), 'CS321': (61.0, 1), 'ME315': (50.0, 1), 'CB301': (24.0, 1), 'MA525': (12.0, 2), 'CE505': (17.0, 2), 'ME431': (46.0, 2), 'MA425': (19.0, 2), 'EE512': (35.0, 2), 'CE211': (29.0, 2), 'HS732': (4.0, 2), 'EE201': (64.0, 2), 'PH527': (9.0, 2), 'ME521': (12.0, 2), 'PH702': (11.0, 2), 'PH425': (18.0, 2), 'CS508': (15.0, 2), 'HS711': (4.0, 2), 'ME231': (59.0, 2), 'MM511': (15.0, 2), 'CB401': (20.0, 2), 'CB211': (24.0, 2), 'CH429': (17.0, 2), 'CH401': (1.0, 2), 'CS544': (11.0, 2)}, 'Saturday': {'CE111': (336.0, 1), 'CS384': (54.0, 1), 'CS303': (61.0, 1), 'MA521': (12.0, 2), 'CE507': (16.0, 2), 'CS564': (120.0, 2), 'CB503': (17.0, 2), 'CH605': (22.0, 2), 'EE101': (337.0, 2)}, 'Sunday': {'CE319': (25.0, 1), 'EE370': (60.0, 1), 'ME331': (50.0, 1), 'CS577': (35.0, 1), 'MA501': (33.0, 2), 'CE549': (37.0, 2), 'MA541': (6.0, 2), 'ME501': (39.0, 2)}, '2nd half ': {}, 'M': {'n': 'd', 'a': 'y'}}\n"
     ]
    }
   ],
   "source": [
    "print(courses_seats_data)"
   ]
  },
  {
   "cell_type": "code",
   "execution_count": 273,
   "metadata": {},
   "outputs": [
    {
     "name": "stdout",
     "output_type": "stream",
     "text": [
      "{101: 72, 102: 72, 103: 72, 104: 72, 105: 72, 106: 55, 107: 30, 108: 30, 109: 30, 110: 30, 301: 30, 302: 30, 303: 30, 304: 30, 305: 30, 306: 30, 307: 30, 308: 30, 309: 30, 310: 30, 409: 25, 410: 25}\n"
     ]
    }
   ],
   "source": [
    "print(rooms_capacity_data)"
   ]
  },
  {
   "cell_type": "code",
   "execution_count": 274,
   "metadata": {},
   "outputs": [
    {
     "name": "stdout",
     "output_type": "stream",
     "text": [
      "{'3', '1', '4'}\n"
     ]
    }
   ],
   "source": [
    "print(num_of_floors(rooms_capacity_data))"
   ]
  },
  {
   "cell_type": "code",
   "execution_count": null,
   "metadata": {},
   "outputs": [],
   "source": [
    "\n",
    "        "
   ]
  },
  {
   "cell_type": "code",
   "execution_count": 275,
   "metadata": {},
   "outputs": [
    {
     "name": "stdout",
     "output_type": "stream",
     "text": [
      "{'1': [(36, 101), (36, 101), (36, 102), (36, 102), (36, 103), (36, 103), (36, 104), (36, 104), (36, 105), (36, 105), (27, 106), (28, 106), (15, 107), (15, 107), (15, 108), (15, 108), (15, 109), (15, 109), (15, 110), (15, 110)], '3': [(15, 301), (15, 301), (15, 302), (15, 302), (15, 303), (15, 303), (15, 304), (15, 304), (15, 305), (15, 305), (15, 306), (15, 306), (15, 307), (15, 307), (15, 308), (15, 308), (15, 309), (15, 309), (15, 310), (15, 310)], '4': [(12, 409), (13, 409), (12, 410), (13, 410)]}\n"
     ]
    }
   ],
   "source": [
    "floor_wise_seats = {}\n",
    "for rooms in rooms_capacity_data:\n",
    "    floor_wise_seats[str(rooms)[0]] = []\n",
    "\n",
    "for rooms in rooms_capacity_data:\n",
    "    floor_wise_seats[str(rooms)[0]].append((int(rooms_capacity_data[rooms]/2), rooms))\n",
    "    floor_wise_seats[str(rooms)[0]].append((rooms_capacity_data[rooms]-int(rooms_capacity_data[rooms]/2), rooms))\n",
    "print(floor_wise_seats)"
   ]
  },
  {
   "cell_type": "code",
   "execution_count": 276,
   "metadata": {},
   "outputs": [
    {
     "name": "stdout",
     "output_type": "stream",
     "text": [
      "Monday {'MA101': [(105, 36), (104, 36), (103, 36), (102, 36), (101, 36), (106, 28), (110, 15), (109, 15), (108, 15), (107, 15), (310, 15), (309, 15), (308, 15), (307, 15), (306, 8.0)], 'EE330': [(105, 36), (104, 24.0)], 'EE511': [(103, 25.0)], 'CE303': [(102, 25.0)], 'CB303': [(101, 24.0)], 'ME335': [(106, 19.0)], 'CS547': [(110, 14.0)], 'MA001': [(109, 5.0)]}\n",
      "Tuesday {'HS103': [(105, 36), (104, 36), (103, 36), (102, 36), (101, 36), (106, 28), (110, 15), (109, 15), (108, 15), (107, 15), (310, 15), (309, 15), (308, 15), (307, 15), (306, 8.0)], 'CS354': [(105, 36), (104, 25.0)], 'EE381': [(103, 36), (102, 23.0)], 'ME313': [(101, 36), (106, 14.0)], 'CS574': [(110, 15), (109, 10.0)], 'CB305': [(108, 15), (107, 9.0)], 'CB501': [(106, 13.0), (102, 6.0)], 'PH001': [(104, 5.0)]}\n",
      "Wednesday {'HS513': [(105, 36), (104, 36), (103, 36), (102, 36), (101, 36), (106, 5.0)], 'PH103': [(105, 36), (104, 36), (103, 36), (102, 36), (101, 24.0)], 'CE317': [(106, 25.0)], 'HS351': [(106, 19.0)], 'CH001': [(110, 5.0)]}\n",
      "Thursday {'CH103': [(105, 36), (104, 36), (103, 36), (102, 36), (101, 24.0)], 'PH301': [(105, 36), (104, 36.0)], 'HS301': [(103, 36), (102, 21.0)], 'HS001': [(101, 5.0)]}\n",
      "Friday {'EE350': [(105, 36), (104, 26.0)], 'CS321': [(105, 36), (104, 25.0)], 'ME315': [(103, 36), (102, 14.0)], 'CE321': [(103, 26.0)], 'CB301': [(102, 24.0)]}\n",
      "Saturday {'CE111': [(105, 36), (104, 36), (103, 36), (102, 36), (101, 36), (106, 28), (110, 15), (109, 15), (108, 15), (107, 15), (310, 15), (309, 15), (308, 15), (307, 15), (306, 8.0)], 'CS303': [(105, 36), (104, 25.0)], 'CS384': [(103, 36), (102, 18.0)]}\n",
      "Sunday {'EE370': [(105, 36), (104, 24.0)], 'ME331': [(105, 36), (104, 14.0)], 'CS577': [(103, 35.0)], 'CE319': [(103, 25.0)]}\n"
     ]
    }
   ],
   "source": [
    "for days in courses_seats_data:\n",
    "    if days in _days:\n",
    "        first_half_courses = []\n",
    "        courses_rooms = {}\n",
    "        arrangement = {}\n",
    "        floor_wise_seats = {}\n",
    "        for courses in courses_seats_data[days]:\n",
    "            if courses_seats_data[days][courses][1] is 1:\n",
    "                first_half_courses.append((courses_seats_data[days][courses][0], courses))\n",
    "        first_half_courses.sort()\n",
    "        first_half_courses.reverse()\n",
    "        #print(first_half_courses)\n",
    "        #print(floor_wise_seats)\n",
    "        for rooms in rooms_capacity_data:\n",
    "            floor_wise_seats[str(rooms)[0]] = []\n",
    "\n",
    "        for rooms in rooms_capacity_data:\n",
    "            floor_wise_seats[str(rooms)[0]].append((int(rooms_capacity_data[rooms]/2), rooms))\n",
    "            floor_wise_seats[str(rooms)[0]].append((rooms_capacity_data[rooms]-int(rooms_capacity_data[rooms]/2), rooms))\n",
    "        #print(floor_wise_seats)\n",
    "        for courses in first_half_courses:\n",
    "            num_of_students = courses[0]\n",
    "            courses_name = courses[1]\n",
    "            allocated = False\n",
    "            for floors in floor_wise_seats:\n",
    "                current = []\n",
    "                courses_rooms[courses_name] = set()\n",
    "                temp_floor_wise_seats = copy.deepcopy(floor_wise_seats[floors])\n",
    "                remaining_students = num_of_students\n",
    "                rooms = floor_wise_seats[floors]\n",
    "                floor_wise_seats[floors].sort()\n",
    "                floor_wise_seats[floors].reverse()\n",
    "                for i, room in enumerate(floor_wise_seats[floors]):\n",
    "                    if allocated is False:\n",
    "                        room_capacity = room[0]\n",
    "                        room_num = room[1]\n",
    "                        if room_num not in courses_rooms[courses_name]:\n",
    "                            if remaining_students > room_capacity:\n",
    "                                current.append((room_num, room_capacity))\n",
    "                                remaining_students = remaining_students - room_capacity\n",
    "                                room_capacity = 0\n",
    "                            else:\n",
    "                                current.append((room_num, remaining_students))\n",
    "                                room_capacity = room_capacity - remaining_students\n",
    "                                remaining_students = 0\n",
    "                                allocated = True\n",
    "                            courses_rooms[courses_name].add(room_num)\n",
    "                        floor_wise_seats[floors][i] = (room_capacity, room_num)\n",
    "                if allocated is True:\n",
    "                    break\n",
    "                else:\n",
    "                    floor_wise_seats[floors] = copy.deepcopy(temp_floor_wise_seats)\n",
    "            #print(allocated)\n",
    "            if allocated is False:\n",
    "                courses_rooms[courses_name] = set()\n",
    "                remaining_students = num_of_students\n",
    "                current = []\n",
    "                for floors in floor_wise_seats:\n",
    "                    rooms = floor_wise_seats[floors]\n",
    "                    #print(\"----\", floor_wise_seats)\n",
    "                    floor_wise_seats[floors].sort()\n",
    "                    floor_wise_seats[floors].reverse()\n",
    "                    for i, room in enumerate(floor_wise_seats[floors]):\n",
    "                        if allocated is False:\n",
    "                            room_capacity = room[0]\n",
    "                            room_num = room[1]\n",
    "                            if room_num not in courses_rooms[courses_name] and room_capacity > 0:\n",
    "                                if remaining_students > room_capacity:\n",
    "                                    current.append((room_num, room_capacity))\n",
    "                                    remaining_students = remaining_students - room_capacity\n",
    "                                    room_capacity = 0\n",
    "                                else:\n",
    "                                    current.append((room_num, remaining_students))\n",
    "                                    room_capacity = room_capacity - remaining_students\n",
    "                                    remaining_students = 0\n",
    "                                    allocated = True\n",
    "                                courses_rooms[courses_name].add(room_num)\n",
    "                            floor_wise_seats[floors][i] = (room_capacity, room_num)\n",
    "                            \n",
    "            #print(courses_name, allocated, current)\n",
    "            #print(floor_wise_seats)\n",
    "            if allocated is True:\n",
    "                arrangement[courses_name] = current\n",
    "            else:\n",
    "                print(\"ERROR\")\n",
    "    \n",
    "        print(days, arrangement)\n",
    "                    \n",
    "                            \n",
    "                            \n",
    "                            \n",
    "                    \n",
    "            \n",
    "        \n",
    "        "
   ]
  },
  {
   "cell_type": "code",
   "execution_count": 277,
   "metadata": {},
   "outputs": [],
   "source": [
    "import copy\n",
    "d = { ... }\n",
    "d2 = copy.deepcopy(d)"
   ]
  },
  {
   "cell_type": "code",
   "execution_count": 279,
   "metadata": {},
   "outputs": [
    {
     "name": "stdout",
     "output_type": "stream",
     "text": [
      "{1: 2, 2: 3}\n"
     ]
    }
   ],
   "source": [
    "x = {1:2, 2:3}\n",
    "print(x)"
   ]
  },
  {
   "cell_type": "code",
   "execution_count": 280,
   "metadata": {},
   "outputs": [],
   "source": [
    "import pprint"
   ]
  },
  {
   "cell_type": "code",
   "execution_count": 281,
   "metadata": {},
   "outputs": [
    {
     "ename": "TypeError",
     "evalue": "'module' object is not callable",
     "output_type": "error",
     "traceback": [
      "\u001b[0;31m---------------------------------------------------------------------------\u001b[0m",
      "\u001b[0;31mTypeError\u001b[0m                                 Traceback (most recent call last)",
      "\u001b[0;32m<ipython-input-281-08ab9ea8dc3d>\u001b[0m in \u001b[0;36m<module>\u001b[0;34m\u001b[0m\n\u001b[0;32m----> 1\u001b[0;31m \u001b[0mpprint\u001b[0m\u001b[0;34m(\u001b[0m\u001b[0mx\u001b[0m\u001b[0;34m)\u001b[0m\u001b[0;34m\u001b[0m\u001b[0;34m\u001b[0m\u001b[0m\n\u001b[0m",
      "\u001b[0;31mTypeError\u001b[0m: 'module' object is not callable"
     ]
    }
   ],
   "source": [
    "pprint(x)"
   ]
  },
  {
   "cell_type": "code",
   "execution_count": 295,
   "metadata": {},
   "outputs": [
    {
     "ename": "ImportError",
     "evalue": "Install xlrd >= 1.0.0 for Excel support",
     "output_type": "error",
     "traceback": [
      "\u001b[0;31m---------------------------------------------------------------------------\u001b[0m",
      "\u001b[0;31mModuleNotFoundError\u001b[0m                       Traceback (most recent call last)",
      "\u001b[0;32m/usr/local/lib/python3.6/dist-packages/pandas/io/excel.py\u001b[0m in \u001b[0;36m__init__\u001b[0;34m(self, filepath_or_buffer)\u001b[0m\n\u001b[1;32m    390\u001b[0m         \u001b[0;32mtry\u001b[0m\u001b[0;34m:\u001b[0m\u001b[0;34m\u001b[0m\u001b[0;34m\u001b[0m\u001b[0m\n\u001b[0;32m--> 391\u001b[0;31m             \u001b[0;32mimport\u001b[0m \u001b[0mxlrd\u001b[0m\u001b[0;34m\u001b[0m\u001b[0;34m\u001b[0m\u001b[0m\n\u001b[0m\u001b[1;32m    392\u001b[0m         \u001b[0;32mexcept\u001b[0m \u001b[0mImportError\u001b[0m\u001b[0;34m:\u001b[0m\u001b[0;34m\u001b[0m\u001b[0;34m\u001b[0m\u001b[0m\n",
      "\u001b[0;31mModuleNotFoundError\u001b[0m: No module named 'xlrd'",
      "\nDuring handling of the above exception, another exception occurred:\n",
      "\u001b[0;31mImportError\u001b[0m                               Traceback (most recent call last)",
      "\u001b[0;32m<ipython-input-295-927de007f8a5>\u001b[0m in \u001b[0;36m<module>\u001b[0;34m\u001b[0m\n\u001b[0;32m----> 1\u001b[0;31m \u001b[0mdata\u001b[0m \u001b[0;34m=\u001b[0m \u001b[0mpd\u001b[0m\u001b[0;34m.\u001b[0m\u001b[0mread_excel\u001b[0m\u001b[0;34m(\u001b[0m\u001b[0;34m'tt full.xlsx'\u001b[0m\u001b[0;34m)\u001b[0m\u001b[0;34m\u001b[0m\u001b[0;34m\u001b[0m\u001b[0m\n\u001b[0m\u001b[1;32m      2\u001b[0m \u001b[0mdf\u001b[0m \u001b[0;34m=\u001b[0m \u001b[0mpd\u001b[0m\u001b[0;34m.\u001b[0m\u001b[0mread_excel\u001b[0m\u001b[0;34m(\u001b[0m\u001b[0;34m'tt full.xlsx'\u001b[0m\u001b[0;34m,\u001b[0m \u001b[0mheader\u001b[0m\u001b[0;34m=\u001b[0m\u001b[0;36m0\u001b[0m\u001b[0;34m)\u001b[0m \u001b[0;31m#, sheetname='<your sheet>'\u001b[0m\u001b[0;34m\u001b[0m\u001b[0;34m\u001b[0m\u001b[0m\n\u001b[1;32m      3\u001b[0m \u001b[0mdf\u001b[0m\u001b[0;34m.\u001b[0m\u001b[0mto_csv\u001b[0m\u001b[0;34m(\u001b[0m\u001b[0;34m'file.csv'\u001b[0m\u001b[0;34m,\u001b[0m \u001b[0mindex\u001b[0m\u001b[0;34m=\u001b[0m\u001b[0;32mFalse\u001b[0m\u001b[0;34m,\u001b[0m \u001b[0mquotechar\u001b[0m\u001b[0;34m=\u001b[0m\u001b[0;34m\"'\"\u001b[0m\u001b[0;34m)\u001b[0m\u001b[0;34m\u001b[0m\u001b[0;34m\u001b[0m\u001b[0m\n",
      "\u001b[0;32m/usr/local/lib/python3.6/dist-packages/pandas/util/_decorators.py\u001b[0m in \u001b[0;36mwrapper\u001b[0;34m(*args, **kwargs)\u001b[0m\n\u001b[1;32m    186\u001b[0m                 \u001b[0;32melse\u001b[0m\u001b[0;34m:\u001b[0m\u001b[0;34m\u001b[0m\u001b[0;34m\u001b[0m\u001b[0m\n\u001b[1;32m    187\u001b[0m                     \u001b[0mkwargs\u001b[0m\u001b[0;34m[\u001b[0m\u001b[0mnew_arg_name\u001b[0m\u001b[0;34m]\u001b[0m \u001b[0;34m=\u001b[0m \u001b[0mnew_arg_value\u001b[0m\u001b[0;34m\u001b[0m\u001b[0;34m\u001b[0m\u001b[0m\n\u001b[0;32m--> 188\u001b[0;31m             \u001b[0;32mreturn\u001b[0m \u001b[0mfunc\u001b[0m\u001b[0;34m(\u001b[0m\u001b[0;34m*\u001b[0m\u001b[0margs\u001b[0m\u001b[0;34m,\u001b[0m \u001b[0;34m**\u001b[0m\u001b[0mkwargs\u001b[0m\u001b[0;34m)\u001b[0m\u001b[0;34m\u001b[0m\u001b[0;34m\u001b[0m\u001b[0m\n\u001b[0m\u001b[1;32m    189\u001b[0m         \u001b[0;32mreturn\u001b[0m \u001b[0mwrapper\u001b[0m\u001b[0;34m\u001b[0m\u001b[0;34m\u001b[0m\u001b[0m\n\u001b[1;32m    190\u001b[0m     \u001b[0;32mreturn\u001b[0m \u001b[0m_deprecate_kwarg\u001b[0m\u001b[0;34m\u001b[0m\u001b[0;34m\u001b[0m\u001b[0m\n",
      "\u001b[0;32m/usr/local/lib/python3.6/dist-packages/pandas/util/_decorators.py\u001b[0m in \u001b[0;36mwrapper\u001b[0;34m(*args, **kwargs)\u001b[0m\n\u001b[1;32m    186\u001b[0m                 \u001b[0;32melse\u001b[0m\u001b[0;34m:\u001b[0m\u001b[0;34m\u001b[0m\u001b[0;34m\u001b[0m\u001b[0m\n\u001b[1;32m    187\u001b[0m                     \u001b[0mkwargs\u001b[0m\u001b[0;34m[\u001b[0m\u001b[0mnew_arg_name\u001b[0m\u001b[0;34m]\u001b[0m \u001b[0;34m=\u001b[0m \u001b[0mnew_arg_value\u001b[0m\u001b[0;34m\u001b[0m\u001b[0;34m\u001b[0m\u001b[0m\n\u001b[0;32m--> 188\u001b[0;31m             \u001b[0;32mreturn\u001b[0m \u001b[0mfunc\u001b[0m\u001b[0;34m(\u001b[0m\u001b[0;34m*\u001b[0m\u001b[0margs\u001b[0m\u001b[0;34m,\u001b[0m \u001b[0;34m**\u001b[0m\u001b[0mkwargs\u001b[0m\u001b[0;34m)\u001b[0m\u001b[0;34m\u001b[0m\u001b[0;34m\u001b[0m\u001b[0m\n\u001b[0m\u001b[1;32m    189\u001b[0m         \u001b[0;32mreturn\u001b[0m \u001b[0mwrapper\u001b[0m\u001b[0;34m\u001b[0m\u001b[0;34m\u001b[0m\u001b[0m\n\u001b[1;32m    190\u001b[0m     \u001b[0;32mreturn\u001b[0m \u001b[0m_deprecate_kwarg\u001b[0m\u001b[0;34m\u001b[0m\u001b[0;34m\u001b[0m\u001b[0m\n",
      "\u001b[0;32m/usr/local/lib/python3.6/dist-packages/pandas/io/excel.py\u001b[0m in \u001b[0;36mread_excel\u001b[0;34m(io, sheet_name, header, names, index_col, parse_cols, usecols, squeeze, dtype, engine, converters, true_values, false_values, skiprows, nrows, na_values, keep_default_na, verbose, parse_dates, date_parser, thousands, comment, skip_footer, skipfooter, convert_float, mangle_dupe_cols, **kwds)\u001b[0m\n\u001b[1;32m    348\u001b[0m \u001b[0;34m\u001b[0m\u001b[0m\n\u001b[1;32m    349\u001b[0m     \u001b[0;32mif\u001b[0m \u001b[0;32mnot\u001b[0m \u001b[0misinstance\u001b[0m\u001b[0;34m(\u001b[0m\u001b[0mio\u001b[0m\u001b[0;34m,\u001b[0m \u001b[0mExcelFile\u001b[0m\u001b[0;34m)\u001b[0m\u001b[0;34m:\u001b[0m\u001b[0;34m\u001b[0m\u001b[0;34m\u001b[0m\u001b[0m\n\u001b[0;32m--> 350\u001b[0;31m         \u001b[0mio\u001b[0m \u001b[0;34m=\u001b[0m \u001b[0mExcelFile\u001b[0m\u001b[0;34m(\u001b[0m\u001b[0mio\u001b[0m\u001b[0;34m,\u001b[0m \u001b[0mengine\u001b[0m\u001b[0;34m=\u001b[0m\u001b[0mengine\u001b[0m\u001b[0;34m)\u001b[0m\u001b[0;34m\u001b[0m\u001b[0;34m\u001b[0m\u001b[0m\n\u001b[0m\u001b[1;32m    351\u001b[0m \u001b[0;34m\u001b[0m\u001b[0m\n\u001b[1;32m    352\u001b[0m     return io.parse(\n",
      "\u001b[0;32m/usr/local/lib/python3.6/dist-packages/pandas/io/excel.py\u001b[0m in \u001b[0;36m__init__\u001b[0;34m(self, io, engine)\u001b[0m\n\u001b[1;32m    651\u001b[0m         \u001b[0mself\u001b[0m\u001b[0;34m.\u001b[0m\u001b[0m_io\u001b[0m \u001b[0;34m=\u001b[0m \u001b[0m_stringify_path\u001b[0m\u001b[0;34m(\u001b[0m\u001b[0mio\u001b[0m\u001b[0;34m)\u001b[0m\u001b[0;34m\u001b[0m\u001b[0;34m\u001b[0m\u001b[0m\n\u001b[1;32m    652\u001b[0m \u001b[0;34m\u001b[0m\u001b[0m\n\u001b[0;32m--> 653\u001b[0;31m         \u001b[0mself\u001b[0m\u001b[0;34m.\u001b[0m\u001b[0m_reader\u001b[0m \u001b[0;34m=\u001b[0m \u001b[0mself\u001b[0m\u001b[0;34m.\u001b[0m\u001b[0m_engines\u001b[0m\u001b[0;34m[\u001b[0m\u001b[0mengine\u001b[0m\u001b[0;34m]\u001b[0m\u001b[0;34m(\u001b[0m\u001b[0mself\u001b[0m\u001b[0;34m.\u001b[0m\u001b[0m_io\u001b[0m\u001b[0;34m)\u001b[0m\u001b[0;34m\u001b[0m\u001b[0;34m\u001b[0m\u001b[0m\n\u001b[0m\u001b[1;32m    654\u001b[0m \u001b[0;34m\u001b[0m\u001b[0m\n\u001b[1;32m    655\u001b[0m     \u001b[0;32mdef\u001b[0m \u001b[0m__fspath__\u001b[0m\u001b[0;34m(\u001b[0m\u001b[0mself\u001b[0m\u001b[0;34m)\u001b[0m\u001b[0;34m:\u001b[0m\u001b[0;34m\u001b[0m\u001b[0;34m\u001b[0m\u001b[0m\n",
      "\u001b[0;32m/usr/local/lib/python3.6/dist-packages/pandas/io/excel.py\u001b[0m in \u001b[0;36m__init__\u001b[0;34m(self, filepath_or_buffer)\u001b[0m\n\u001b[1;32m    391\u001b[0m             \u001b[0;32mimport\u001b[0m \u001b[0mxlrd\u001b[0m\u001b[0;34m\u001b[0m\u001b[0;34m\u001b[0m\u001b[0m\n\u001b[1;32m    392\u001b[0m         \u001b[0;32mexcept\u001b[0m \u001b[0mImportError\u001b[0m\u001b[0;34m:\u001b[0m\u001b[0;34m\u001b[0m\u001b[0;34m\u001b[0m\u001b[0m\n\u001b[0;32m--> 393\u001b[0;31m             \u001b[0;32mraise\u001b[0m \u001b[0mImportError\u001b[0m\u001b[0;34m(\u001b[0m\u001b[0merr_msg\u001b[0m\u001b[0;34m)\u001b[0m\u001b[0;34m\u001b[0m\u001b[0;34m\u001b[0m\u001b[0m\n\u001b[0m\u001b[1;32m    394\u001b[0m         \u001b[0;32melse\u001b[0m\u001b[0;34m:\u001b[0m\u001b[0;34m\u001b[0m\u001b[0;34m\u001b[0m\u001b[0m\n\u001b[1;32m    395\u001b[0m             \u001b[0;32mif\u001b[0m \u001b[0mxlrd\u001b[0m\u001b[0;34m.\u001b[0m\u001b[0m__VERSION__\u001b[0m \u001b[0;34m<\u001b[0m \u001b[0mLooseVersion\u001b[0m\u001b[0;34m(\u001b[0m\u001b[0;34m\"1.0.0\"\u001b[0m\u001b[0;34m)\u001b[0m\u001b[0;34m:\u001b[0m\u001b[0;34m\u001b[0m\u001b[0;34m\u001b[0m\u001b[0m\n",
      "\u001b[0;31mImportError\u001b[0m: Install xlrd >= 1.0.0 for Excel support"
     ]
    }
   ],
   "source": [
    "df = pd.read_excel('tt full.xlsx', header=0, sheetname='Courses Seats') #, sheetname='<your sheet>'\n",
    "df.to_csv('file.csv', index=False, quotechar=\"'\")"
   ]
  },
  {
   "cell_type": "code",
   "execution_count": null,
   "metadata": {},
   "outputs": [],
   "source": []
  }
 ],
 "metadata": {
  "kernelspec": {
   "display_name": "Python 3",
   "language": "python",
   "name": "python3"
  },
  "language_info": {
   "codemirror_mode": {
    "name": "ipython",
    "version": 3
   },
   "file_extension": ".py",
   "mimetype": "text/x-python",
   "name": "python",
   "nbconvert_exporter": "python",
   "pygments_lexer": "ipython3",
   "version": "3.6.8"
  }
 },
 "nbformat": 4,
 "nbformat_minor": 2
}
