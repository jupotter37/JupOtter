{
 "cells": [
  {
   "cell_type": "markdown",
   "metadata": {},
   "source": [
    "# https://cloud.google.com/natural-language/\n",
    "# 以上可以直接在網站上測試語句情感\n",
    "\n",
    "## 文字組成\n",
    "![Alt text](NLP1.PNG)\n",
    "\n",
    "## 情緒分析\n",
    "![Alt text](NLP2.PNG)\n",
    "\n",
    "## 語法分析\n",
    "![Alt text](NLP3.PNG)"
   ]
  },
  {
   "cell_type": "markdown",
   "metadata": {},
   "source": [
    "# 說明文件 https://cloud.google.com/natural-language/docs/\n",
    "\n",
    "首先要設定付款資訊, 要用信用卡。\n",
    "\n",
    "兩種方法:\n",
    "一: 用 Client library\n",
    "\n",
    "\n",
    "二: 用 命令列\n",
    "開立一個 project \n",
    "最後下載 private key as json\n",
    "Set up a GCP Console project.\n",
    "\n",
    "Set up a project\n",
    "\n",
    "Click to:\n",
    "\n",
    "    Create or select a project.\n",
    "    Enable the Cloud Natural Language API for that project.\n",
    "    Create a service account.\n",
    "    Download a private key as JSON.\n",
    "\n",
    "## 下載 Cloud SDK 安裝程式。這個安裝程式是由 Google Inc. 簽署。\n",
    "\n",
    "安裝完, 用 gcloud -h 查看指令\n"
   ]
  },
  {
   "cell_type": "code",
   "execution_count": null,
   "metadata": {},
   "outputs": [],
   "source": [
    "# google 範例程式\n",
    "# Imports the Google Cloud client library\n",
    "from google.cloud import language\n",
    "from google.cloud.language import enums\n",
    "from google.cloud.language import types\n",
    "\n",
    "# Instantiates a client\n",
    "client = language.LanguageServiceClient()\n",
    "\n",
    "# The text to analyze\n",
    "text = u'Hello, world!'\n",
    "document = types.Document(\n",
    "    content=text,\n",
    "    type=enums.Document.Type.PLAIN_TEXT)\n",
    "\n",
    "# Detects the sentiment of the text\n",
    "sentiment = client.analyze_sentiment(document=document).document_sentiment\n",
    "\n",
    "print('Text: {}'.format(text))\n",
    "print('Sentiment: {}, {}'.format(sentiment.score, sentiment.magnitude))"
   ]
  },
  {
   "cell_type": "code",
   "execution_count": 1,
   "metadata": {},
   "outputs": [
    {
     "name": "stdout",
     "output_type": "stream",
     "text": [
      "Collecting snownlp\n",
      "  Downloading https://files.pythonhosted.org/packages/3d/b3/37567686662100d3bce62d3b0f2adec18ab4b9ff2b61abd7a61c39343c1d/snownlp-0.12.3.tar.gz (37.6MB)\n",
      "Building wheels for collected packages: snownlp\n",
      "  Running setup.py bdist_wheel for snownlp: started\n",
      "  Running setup.py bdist_wheel for snownlp: finished with status 'done'\n",
      "  Stored in directory: C:\\Users\\jiangsir\\AppData\\Local\\pip\\Cache\\wheels\\f3\\81\\25\\7c197493bd7daf177016f1a951c5c3a53b1c7e9339fd11ec8f\n",
      "Successfully built snownlp\n",
      "Installing collected packages: snownlp\n",
      "Successfully installed snownlp-0.12.3\n"
     ]
    },
    {
     "name": "stderr",
     "output_type": "stream",
     "text": [
      "You are using pip version 18.0, however version 18.1 is available.\n",
      "You should consider upgrading via the 'python -m pip install --upgrade pip' command.\n"
     ]
    }
   ],
   "source": [
    "!pip install snownlp"
   ]
  },
  {
   "cell_type": "code",
   "execution_count": 3,
   "metadata": {},
   "outputs": [
    {
     "data": {
      "text/plain": [
       "0.036719194201713656"
      ]
     },
     "execution_count": 3,
     "metadata": {},
     "output_type": "execute_result"
    }
   ],
   "source": [
    "from snownlp import SnowNLP\n",
    "s = SnowNLP('「繁體字」「繁體中文」的叫法在臺灣亦很常見。')\n",
    "\n",
    "s.han           # u'「繁体字」「繁体中文」的叫法\n",
    "                # 在台湾亦很常见。'\n",
    "s.sentiments"
   ]
  },
  {
   "cell_type": "code",
   "execution_count": 5,
   "metadata": {},
   "outputs": [
    {
     "name": "stdout",
     "output_type": "stream",
     "text": [
      "0.7360121423828815\n",
      "0.13739293291081123\n",
      "0.172511592068879\n",
      "0.6903376460422744\n"
     ]
    }
   ],
   "source": [
    "s = SnowNLP('今天天氣真不錯')\n",
    "print(SnowNLP(s.han).sentiments)\n",
    "s = SnowNLP('今天天氣真不行')\n",
    "print(SnowNLP(s.han).sentiments)\n",
    "s = SnowNLP('今天天氣真奇怪')\n",
    "print(SnowNLP(s.han).sentiments)\n",
    "s = SnowNLP('我們今天都出門去看書')\n",
    "print(SnowNLP(s.han).sentiments)\n"
   ]
  },
  {
   "cell_type": "code",
   "execution_count": 9,
   "metadata": {},
   "outputs": [
    {
     "name": "stdout",
     "output_type": "stream",
     "text": [
      "MLB／「蛇王」賣掉了 響尾蛇送高史密特到紅雀 - udn 聯合新聞網 https://udn.com/news/story/6999/3521069 Udn.com\n",
      "['蛇', '特', '史密']\n",
      "涉嫌違反伊朗制裁法加拿大逮捕華為CFO 美方要求引渡 - 鉅亨網 https://news.cnyes.com/news/id/4250670 Cnyes.com\n",
      "['法', 'CFO', '华']\n",
      "澳科學家研發新型癌症篩檢法 僅需10分鐘知結果 - udn 聯合新聞網 https://udn.com/news/story/6812/3521043?from=udn-ch1_breaknews-1-cate5-news Udn.com\n",
      "['分钟', '新型', '10']\n",
      "鈕承澤涉性侵自揭縱慾荒唐史：什麼都做過 - 中時電子報 https://www.chinatimes.com/realtimenews/20181206000054-260404 Chinatimes.com\n",
      "['侵', '都', '揭']\n",
      "鄭麗文談民進黨補選會派誰沈富雄一句話...全場爆笑 - 中時電子報 https://www.chinatimes.com/realtimenews/20181206000032-260407 Chinatimes.com\n",
      "['全场', '进党', '补']\n",
      "館長嗆「韓國瑜殺人放火與小弟無關」 董念台酸：太了不起啦 - 中時電子報 https://www.chinatimes.com/realtimenews/20181206000029-260407 Chinatimes.com\n",
      "['太', '瑜', '杀人']\n",
      "女籃國手成裕隆接班人陳莉蓮能扛起25萬名股東的期待？ - 中時電子報 https://www.chinatimes.com/realtimenews/20181206000004-260410 Chinatimes.com\n",
      "['接班人', '25', '扛']\n",
      "老布希國葬儀式 將重溫政壇平和年代 - 經濟日報 https://money.udn.com/money/story/10511/3520907 Udn.com\n",
      "['仪式', '政坛', '重温']\n",
      "蜜月期過了！朱學恒酸韓粉太縱容：慈母多敗兒遲早會出包- 政治 - 自由時報電子報 http://m.ltn.com.tw/news/politics/breakingnews/2633966 Ltn.com.tw\n",
      "['政治', '太', '包']\n",
      "鈕承澤陷性侵疑雲女星昔被他逼拍全裸床戲痛哭失聲 - 中時電子報 https://www.chinatimes.com/realtimenews/20181205004890-260404 Chinatimes.com\n",
      "['痛哭', '侵疑', '戏']\n",
      "江宏傑PO全家福照報喜！老婆福原愛懷第二胎 - VOGUE 時尚網 https://www.vogue.com.tw/feature/celebritynews/content-44477.html Vogue.com.tw\n",
      "['怀', '第二', '爱']\n",
      "王建民被要求退休一字回應談家人：盡量彌補 - 中時電子報 https://www.chinatimes.com/realtimenews/20181205004174-260404 Chinatimes.com\n",
      "['回应', '尽量', '家人']\n",
      "洞察號太陽能電池板工作第一天，轉換效率破紀錄達29.5% - 科技新報 TechNews https://technews.tw/2018/12/05/nasa-insight-lander-mars-solar-power-elysium-planitia/ Technews.tw\n",
      "['电池', '达', '29.5%']\n",
      "【民報】駐外使館臉書專頁紛改名Taiwan換大頭貼 - 民報 http://www.peoplenews.tw/news/229f674f-104c-47a6-b853-0be001093827 Peoplenews.tw\n",
      "['民报', '名', '纷']\n",
      "川普接連放話中國無反應因為「老大」不在家 - 自由時報電子報 http://ec.ltn.com.tw/article/breakingnews/2633525 Ltn.com.tw\n",
      "['在家', '话', '中国']\n",
      "Epic Games 推出自家的遊戲商店 - Engadget 中文版 https://chinese.engadget.com/2018/12/05/epic-games-store-steam-origin-battle-net/ Engadget\n",
      "['商店', '游戏', '推出']\n",
      "孟庭葦前夫曝「過去」：被折磨的像狗 - Yahoo奇摩新聞 https://tw.news.yahoo.com/%E5%AD%9F%E5%BA%AD%E8%91%A6%E5%89%8D%E5%A4%AB%E6%9B%9D-%E9%81%8E%E5%8E%BB-%E8%A2%AB%E6%8A%98%E7%A3%A8%E7%9A%84%E5%83%8F%E7%8B%97-063004348.html Yahoo.com\n",
      "['「', '狗', '磨']\n",
      "〈統一證投資展望〉黎方國：美股跌無礙作帳行情年底前指數上看10200點 - 鉅亨網 https://news.cnyes.com/news/id/4250386 Cnyes.com\n",
      "['展望', '看', '〉']\n",
      "每6秒奪1命每週走路4小時揮別中風 - 台視新聞 https://www.ttv.com.tw/news/view/10712050014700I/579 Ttv.com.tw\n",
      "['小时挥', '命', '每周']\n",
      "【川習緩兵】美中停戰90日 謝國忠：對抗本質沒變 - 鏡週刊 - 鏡週刊 https://www.mirrormedia.mg/story/20181204fin002 Mirrormedia.mg\n",
      "['停战', '本质', '90']\n"
     ]
    }
   ],
   "source": [
    "import requests\n",
    "\n",
    "response = requests.get('https://newsapi.org/v2/top-headlines?country=tw&apiKey=0b5b20fd456a4a618237774ffa449953')\n",
    "#print(response.json()['articles'][0])\n",
    "for article in response.json()['articles']:\n",
    "    print(article['title'], article['url'], article['source']['name'])\n",
    "    s = SnowNLP(article['title'])\n",
    "    print(SnowNLP(s.han).keywords(3))\n"
   ]
  },
  {
   "cell_type": "code",
   "execution_count": 3,
   "metadata": {},
   "outputs": [
    {
     "data": {
      "text/plain": [
       "['语言', '自然', '计算机']"
      ]
     },
     "execution_count": 3,
     "metadata": {},
     "output_type": "execute_result"
    }
   ],
   "source": [
    "text = u'''\n",
    "自然语言处理是计算机科学领域与人工智能领域中的一个重要方向。\n",
    "它研究能实现人与计算机之间用自然语言进行有效通信的各种理论和方法。\n",
    "自然语言处理是一门融语言学、计算机科学、数学于一体的科学。\n",
    "因此，这一领域的研究将涉及自然语言，即人们日常使用的语言，\n",
    "所以它与语言学的研究有着密切的联系，但又有重要的区别。\n",
    "自然语言处理并不是一般地研究自然语言，\n",
    "而在于研制能有效地实现自然语言通信的计算机系统，\n",
    "特别是其中的软件系统。因而它是计算机科学的一部分。\n",
    "'''\n",
    "\n",
    "s = SnowNLP(text)\n",
    "\n",
    "s.keywords(3)\t# [u'语言', u'自然', u'计算机']"
   ]
  },
  {
   "cell_type": "markdown",
   "metadata": {},
   "source": [
    "# google search\n",
    "# https://github.com/abenassi/Google-Search-API\n"
   ]
  },
  {
   "cell_type": "code",
   "execution_count": 17,
   "metadata": {},
   "outputs": [
    {
     "name": "stdout",
     "output_type": "stream",
     "text": [
      "Collecting modules\n",
      "  Using cached https://files.pythonhosted.org/packages/4b/95/2f306ff2299ed8d44fbabac4c0b193628c4c65398ed59af2db66b6f52632/modules-1.0.0.tar.gz\n",
      "Collecting Google-Search-API\n",
      "  Using cached https://files.pythonhosted.org/packages/73/38/eab35d4db8efd12256d30963498afe5210128d3fd221332360de9fc11614/Google-Search-API-1.1.13.tar.gz\n",
      "    Complete output from command python setup.py egg_info:\n",
      "    c:\\users\\jiangsir\\anaconda3\\lib\\site-packages\\setuptools\\version.py:1: UserWarning: Module google was already imported from None, but c:\\users\\jiangsir\\appdata\\local\\temp\\pip-install-vcdgwq1h\\google-search-api is being added to sys.path\n",
      "      import pkg_resources\n",
      "    Traceback (most recent call last):\n",
      "      File \"<string>\", line 1, in <module>\n",
      "      File \"c:\\users\\jiangsir\\anaconda3\\lib\\site-packages\\setuptools\\__init__.py\", line 12, in <module>\n",
      "        import setuptools.version\n",
      "      File \"c:\\users\\jiangsir\\anaconda3\\lib\\site-packages\\setuptools\\version.py\", line 1, in <module>\n",
      "        import pkg_resources\n",
      "      File \"c:\\users\\jiangsir\\anaconda3\\lib\\site-packages\\pkg_resources\\__init__.py\", line 3086, in <module>\n",
      "        @_call_aside\n",
      "      File \"c:\\users\\jiangsir\\anaconda3\\lib\\site-packages\\pkg_resources\\__init__.py\", line 3070, in _call_aside\n",
      "        f(*args, **kwargs)\n",
      "      File \"c:\\users\\jiangsir\\anaconda3\\lib\\site-packages\\pkg_resources\\__init__.py\", line 3114, in _initialize_master_working_set\n",
      "        for dist in working_set\n",
      "      File \"c:\\users\\jiangsir\\anaconda3\\lib\\site-packages\\pkg_resources\\__init__.py\", line 3114, in <genexpr>\n",
      "        for dist in working_set\n",
      "      File \"c:\\users\\jiangsir\\anaconda3\\lib\\site-packages\\pkg_resources\\__init__.py\", line 2637, in activate\n",
      "        declare_namespace(pkg)\n",
      "      File \"c:\\users\\jiangsir\\anaconda3\\lib\\site-packages\\pkg_resources\\__init__.py\", line 2174, in declare_namespace\n",
      "        _handle_ns(packageName, path_item)\n",
      "      File \"c:\\users\\jiangsir\\anaconda3\\lib\\site-packages\\pkg_resources\\__init__.py\", line 2109, in _handle_ns\n",
      "        loader.load_module(packageName)\n",
      "      File \".\\google\\__init__.py\", line 1, in <module>\n",
      "        from modules import calculator, currency, images, utils\n",
      "    ModuleNotFoundError: No module named 'modules'\n",
      "    \n",
      "    ----------------------------------------\n"
     ]
    },
    {
     "name": "stderr",
     "output_type": "stream",
     "text": [
      "Command \"python setup.py egg_info\" failed with error code 1 in C:\\Users\\jiangsir\\AppData\\Local\\Temp\\pip-install-vcdgwq1h\\Google-Search-API\\\n",
      "You are using pip version 18.0, however version 18.1 is available.\n",
      "You should consider upgrading via the 'python -m pip install --upgrade pip' command.\n"
     ]
    },
    {
     "name": "stdout",
     "output_type": "stream",
     "text": [
      "Requirement already up-to-date: google-api-python-client in c:\\users\\jiangsir\\anaconda3\\lib\\site-packages (1.7.4)\n",
      "Requirement already satisfied, skipping upgrade: google-auth>=1.4.1 in c:\\users\\jiangsir\\anaconda3\\lib\\site-packages (from google-api-python-client) (1.5.1)\n",
      "Requirement already satisfied, skipping upgrade: google-auth-httplib2>=0.0.3 in c:\\users\\jiangsir\\anaconda3\\lib\\site-packages (from google-api-python-client) (0.0.3)\n",
      "Requirement already satisfied, skipping upgrade: uritemplate<4dev,>=3.0.0 in c:\\users\\jiangsir\\anaconda3\\lib\\site-packages (from google-api-python-client) (3.0.0)\n",
      "Requirement already satisfied, skipping upgrade: httplib2<1dev,>=0.9.2 in c:\\users\\jiangsir\\anaconda3\\lib\\site-packages (from google-api-python-client) (0.11.3)\n",
      "Requirement already satisfied, skipping upgrade: six<2dev,>=1.6.1 in c:\\users\\jiangsir\\anaconda3\\lib\\site-packages (from google-api-python-client) (1.11.0)\n",
      "Requirement already satisfied, skipping upgrade: pyasn1-modules>=0.2.1 in c:\\users\\jiangsir\\anaconda3\\lib\\site-packages (from google-auth>=1.4.1->google-api-python-client) (0.2.2)\n",
      "Requirement already satisfied, skipping upgrade: rsa>=3.1.4 in c:\\users\\jiangsir\\anaconda3\\lib\\site-packages (from google-auth>=1.4.1->google-api-python-client) (4.0)\n",
      "Requirement already satisfied, skipping upgrade: cachetools>=2.0.0 in c:\\users\\jiangsir\\anaconda3\\lib\\site-packages (from google-auth>=1.4.1->google-api-python-client) (2.1.0)\n",
      "Requirement already satisfied, skipping upgrade: pyasn1<0.5.0,>=0.4.1 in c:\\users\\jiangsir\\anaconda3\\lib\\site-packages (from pyasn1-modules>=0.2.1->google-auth>=1.4.1->google-api-python-client) (0.4.4)\n"
     ]
    },
    {
     "name": "stderr",
     "output_type": "stream",
     "text": [
      "You are using pip version 18.0, however version 18.1 is available.\n",
      "You should consider upgrading via the 'python -m pip install --upgrade pip' command.\n"
     ]
    }
   ],
   "source": [
    "!pip install modules Google-Search-API\n",
    "!pip install -U google-api-python-client"
   ]
  },
  {
   "cell_type": "code",
   "execution_count": 20,
   "metadata": {},
   "outputs": [
    {
     "ename": "NameError",
     "evalue": "name 'service' is not defined",
     "output_type": "error",
     "traceback": [
      "\u001b[1;31m---------------------------------------------------------------------------\u001b[0m",
      "\u001b[1;31mNameError\u001b[0m                                 Traceback (most recent call last)",
      "\u001b[1;32m<ipython-input-20-1f015e11c089>\u001b[0m in \u001b[0;36m<module>\u001b[1;34m()\u001b[0m\n\u001b[1;32m----> 1\u001b[1;33m \u001b[0mresult\u001b[0m \u001b[1;33m=\u001b[0m \u001b[0mservice\u001b[0m\u001b[1;33m.\u001b[0m\u001b[0mactivities\u001b[0m\u001b[1;33m(\u001b[0m\u001b[1;33m)\u001b[0m\u001b[1;33m.\u001b[0m\u001b[0mlist\u001b[0m\u001b[1;33m(\u001b[0m\u001b[0muserId\u001b[0m\u001b[1;33m=\u001b[0m\u001b[1;34m'me'\u001b[0m\u001b[1;33m,\u001b[0m \u001b[0mcollection\u001b[0m\u001b[1;33m=\u001b[0m\u001b[1;34m'public'\u001b[0m\u001b[1;33m)\u001b[0m\u001b[1;33m.\u001b[0m\u001b[0mexecute\u001b[0m\u001b[1;33m(\u001b[0m\u001b[1;33m)\u001b[0m\u001b[1;33m\u001b[0m\u001b[0m\n\u001b[0m\u001b[0;32m      2\u001b[0m \u001b[0mtasks\u001b[0m \u001b[1;33m=\u001b[0m \u001b[0mresult\u001b[0m\u001b[1;33m.\u001b[0m\u001b[0mget\u001b[0m\u001b[1;33m(\u001b[0m\u001b[1;34m'items'\u001b[0m\u001b[1;33m,\u001b[0m \u001b[1;33m[\u001b[0m\u001b[1;33m]\u001b[0m\u001b[1;33m)\u001b[0m\u001b[1;33m\u001b[0m\u001b[0m\n\u001b[0;32m      3\u001b[0m \u001b[1;32mfor\u001b[0m \u001b[0mtask\u001b[0m \u001b[1;32min\u001b[0m \u001b[0mtasks\u001b[0m\u001b[1;33m:\u001b[0m\u001b[1;33m\u001b[0m\u001b[0m\n\u001b[0;32m      4\u001b[0m     \u001b[0mprint\u001b[0m\u001b[1;33m(\u001b[0m\u001b[0mtask\u001b[0m\u001b[1;33m[\u001b[0m\u001b[1;34m'title'\u001b[0m\u001b[1;33m]\u001b[0m\u001b[1;33m)\u001b[0m\u001b[1;33m\u001b[0m\u001b[0m\n",
      "\u001b[1;31mNameError\u001b[0m: name 'service' is not defined"
     ]
    }
   ],
   "source": [
    "result = service.activities().list(userId='me', collection='public').execute()\n",
    "tasks = result.get('items', [])\n",
    "for task in tasks:\n",
    "    print(task['title'])"
   ]
  },
  {
   "cell_type": "code",
   "execution_count": 16,
   "metadata": {},
   "outputs": [
    {
     "ename": "ImportError",
     "evalue": "cannot import name 'google'",
     "output_type": "error",
     "traceback": [
      "\u001b[1;31m---------------------------------------------------------------------------\u001b[0m",
      "\u001b[1;31mImportError\u001b[0m                               Traceback (most recent call last)",
      "\u001b[1;32m<ipython-input-16-ae5130f23a2f>\u001b[0m in \u001b[0;36m<module>\u001b[1;34m()\u001b[0m\n\u001b[1;32m----> 1\u001b[1;33m \u001b[1;32mfrom\u001b[0m \u001b[0mgoogle\u001b[0m \u001b[1;32mimport\u001b[0m \u001b[0mgoogle\u001b[0m\u001b[1;33m\u001b[0m\u001b[0m\n\u001b[0m\u001b[0;32m      2\u001b[0m \u001b[0mnum_page\u001b[0m \u001b[1;33m=\u001b[0m \u001b[1;36m3\u001b[0m\u001b[1;33m\u001b[0m\u001b[0m\n\u001b[0;32m      3\u001b[0m \u001b[0msearch_results\u001b[0m \u001b[1;33m=\u001b[0m \u001b[0mgoogle\u001b[0m\u001b[1;33m.\u001b[0m\u001b[0msearch\u001b[0m\u001b[1;33m(\u001b[0m\u001b[1;34m\"This is my query\"\u001b[0m\u001b[1;33m,\u001b[0m \u001b[0mnum_page\u001b[0m\u001b[1;33m)\u001b[0m\u001b[1;33m\u001b[0m\u001b[0m\n\u001b[0;32m      4\u001b[0m \u001b[0msearch_results\u001b[0m\u001b[1;33m\u001b[0m\u001b[0m\n",
      "\u001b[1;31mImportError\u001b[0m: cannot import name 'google'"
     ]
    }
   ],
   "source": [
    "from google import google\n",
    "num_page = 3\n",
    "search_results = google.search(\"This is my query\", num_page)\n",
    "search_results"
   ]
  }
 ],
 "metadata": {
  "kernelspec": {
   "display_name": "Python 3",
   "language": "python",
   "name": "python3"
  },
  "language_info": {
   "codemirror_mode": {
    "name": "ipython",
    "version": 3
   },
   "file_extension": ".py",
   "mimetype": "text/x-python",
   "name": "python",
   "nbconvert_exporter": "python",
   "pygments_lexer": "ipython3",
   "version": "3.6.5"
  }
 },
 "nbformat": 4,
 "nbformat_minor": 2
}
