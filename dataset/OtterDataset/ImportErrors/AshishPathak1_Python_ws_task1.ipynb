{
 "cells": [
  {
   "cell_type": "code",
   "execution_count": 1,
   "id": "8225b477",
   "metadata": {},
   "outputs": [
    {
     "ename": "NameError",
     "evalue": "name 'read_csv' is not defined",
     "output_type": "error",
     "traceback": [
      "\u001b[1;31m---------------------------------------------------------------------------\u001b[0m",
      "\u001b[1;31mNameError\u001b[0m                                 Traceback (most recent call last)",
      "Cell \u001b[1;32mIn[1], line 1\u001b[0m\n\u001b[1;32m----> 1\u001b[0m var1 \u001b[38;5;241m=\u001b[39m\u001b[43mread_csv\u001b[49m(\u001b[38;5;124m\"\u001b[39m\u001b[38;5;124mC:\u001b[39m\u001b[38;5;130;01m\\\\\u001b[39;00m\u001b[38;5;124mUsers\u001b[39m\u001b[38;5;130;01m\\\\\u001b[39;00m\u001b[38;5;124mAshish Pathak\u001b[39m\u001b[38;5;130;01m\\\\\u001b[39;00m\u001b[38;5;124mDownloads\u001b[39m\u001b[38;5;130;01m\\\\\u001b[39;00m\u001b[38;5;124mCar_length.csv\u001b[39m\u001b[38;5;124m\"\u001b[39m)\n",
      "\u001b[1;31mNameError\u001b[0m: name 'read_csv' is not defined"
     ]
    }
   ],
   "source": [
    "var1 =read_csv(\"C:\\\\Users\\\\Ashish Pathak\\\\Downloads\\\\Car_length.csv\")"
   ]
  },
  {
   "cell_type": "code",
   "execution_count": 2,
   "id": "87a2f287",
   "metadata": {},
   "outputs": [
    {
     "ename": "ModuleNotFoundError",
     "evalue": "No module named 'pandas'",
     "output_type": "error",
     "traceback": [
      "\u001b[1;31m---------------------------------------------------------------------------\u001b[0m",
      "\u001b[1;31mModuleNotFoundError\u001b[0m                       Traceback (most recent call last)",
      "Cell \u001b[1;32mIn[2], line 1\u001b[0m\n\u001b[1;32m----> 1\u001b[0m \u001b[38;5;28;01mimport\u001b[39;00m \u001b[38;5;21;01mpandas\u001b[39;00m \u001b[38;5;28;01mas\u001b[39;00m \u001b[38;5;21;01mpd\u001b[39;00m\n",
      "\u001b[1;31mModuleNotFoundError\u001b[0m: No module named 'pandas'"
     ]
    }
   ],
   "source": [
    "import pandas as pd\n"
   ]
  },
  {
   "cell_type": "code",
   "execution_count": 4,
   "id": "f9c0c16f",
   "metadata": {},
   "outputs": [
    {
     "name": "stdout",
     "output_type": "stream",
     "text": [
      "Requirement already satisfied: pandas in c:\\users\\ashish pathak\\appdata\\local\\programs\\python\\python311\\lib\\site-packages (2.0.1)\n",
      "Requirement already satisfied: python-dateutil>=2.8.2 in c:\\users\\ashish pathak\\appdata\\local\\programs\\python\\python311\\lib\\site-packages (from pandas) (2.8.2)\n",
      "Requirement already satisfied: pytz>=2020.1 in c:\\users\\ashish pathak\\appdata\\local\\programs\\python\\python311\\lib\\site-packages (from pandas) (2023.3)\n",
      "Requirement already satisfied: tzdata>=2022.1 in c:\\users\\ashish pathak\\appdata\\local\\programs\\python\\python311\\lib\\site-packages (from pandas) (2023.3)\n",
      "Requirement already satisfied: numpy>=1.21.0 in c:\\users\\ashish pathak\\appdata\\local\\programs\\python\\python311\\lib\\site-packages (from pandas) (1.24.3)\n",
      "Requirement already satisfied: six>=1.5 in c:\\users\\ashish pathak\\appdata\\local\\programs\\python\\python311\\lib\\site-packages (from python-dateutil>=2.8.2->pandas) (1.16.0)\n"
     ]
    }
   ],
   "source": [
    "!pip install pandas"
   ]
  },
  {
   "cell_type": "code",
   "execution_count": 5,
   "id": "54d448e0",
   "metadata": {},
   "outputs": [],
   "source": [
    "import pandas as pd\n"
   ]
  },
  {
   "cell_type": "code",
   "execution_count": 6,
   "id": "996ed0a0",
   "metadata": {},
   "outputs": [
    {
     "name": "stdout",
     "output_type": "stream",
     "text": [
      "  Company Name Model Name Fuel Type Body style Car Length\n",
      "0       Toyota    Corolla    Petrol      Sedan     4620mm\n",
      "1        Honda      Civic       Gas      Sedan     4648mm\n",
      "2      Hyundai        i20    Petrol  Hatchback     3995mm\n",
      "3          Kia     Seltos    Diesel        SUV     4315mm\n",
      "4        Tesla    Model 3        EV      Sedan     4690mm\n",
      "5         Ford    Mustang    Petrol      Coupe     4788mm\n"
     ]
    }
   ],
   "source": [
    "import pandas as pd\n",
    "\n",
    "df = pd.read_csv(\"C:\\\\Users\\\\Ashish Pathak\\\\Downloads\\\\Car_length.csv\")\n",
    "\n",
    "print(df)"
   ]
  },
  {
   "cell_type": "code",
   "execution_count": 7,
   "id": "fe6e2239",
   "metadata": {},
   "outputs": [
    {
     "ename": "SyntaxError",
     "evalue": "(unicode error) 'unicodeescape' codec can't decode bytes in position 2-3: truncated \\UXXXXXXXX escape (3277133241.py, line 7)",
     "output_type": "error",
     "traceback": [
      "\u001b[1;36m  Cell \u001b[1;32mIn[7], line 7\u001b[1;36m\u001b[0m\n\u001b[1;33m    excel_df = pd.read_excel(\"C:\\Users\\Ashish Pathak\\Downloads\\Car_specs.xlsx\")\u001b[0m\n\u001b[1;37m                                                                              ^\u001b[0m\n\u001b[1;31mSyntaxError\u001b[0m\u001b[1;31m:\u001b[0m (unicode error) 'unicodeescape' codec can't decode bytes in position 2-3: truncated \\UXXXXXXXX escape\n"
     ]
    }
   ],
   "source": [
    "import pandas as pd\n",
    "\n",
    "\n",
    "csv_df = pd.read_csv(\"C:\\\\Users\\\\Ashish Pathak\\\\Downloads\\\\Car_length.csv\")\n",
    "\n",
    "\n",
    "excel_df = pd.read_excel(\"C:\\Users\\Ashish Pathak\\Downloads\\Car_specs.xlsx\")\n",
    "\n",
    "print(csv_df)\n",
    "print(excel_df)\n"
   ]
  },
  {
   "cell_type": "code",
   "execution_count": null,
   "id": "1891de75",
   "metadata": {},
   "outputs": [],
   "source": []
  },
  {
   "cell_type": "code",
   "execution_count": 23,
   "id": "757dc4fb",
   "metadata": {},
   "outputs": [
    {
     "name": "stdout",
     "output_type": "stream",
     "text": [
      "  Company Name Model Name Fuel Type Body style Car Length\n",
      "0       Toyota    Corolla    Petrol      Sedan     4620mm\n",
      "1        Honda      Civic       Gas      Sedan     4648mm\n",
      "2      Hyundai        i20    Petrol  Hatchback     3995mm\n",
      "3          Kia     Seltos    Diesel        SUV     4315mm\n",
      "4        Tesla    Model 3        EV      Sedan     4690mm\n",
      "5         Ford    Mustang    Petrol      Coupe     4788mm\n",
      "  Company Name Model Name On-road pricing Loan amount Monthly EMI   \n",
      "0       Toyota    Corolla        Rs20,000    Rs16,000       Rs320  \\\n",
      "1        Honda      Civic        Rs22,000    Rs18,000       Rs360   \n",
      "2      Hyundai        i20        Rs15,000    Rs12,000       Rs240   \n",
      "3          Kia     Seltos        Rs25,000    Rs20,000       Rs400   \n",
      "4        Tesla    Model 3        Rs40,000    Rs32,000       Rs640   \n",
      "5         Ford    Mustang        Rs30,000    Rs24,000       Rs480   \n",
      "\n",
      "   Interest Rate Monthly Principal Monthly Interest  \n",
      "0          0.050          Rs266.67          Rs53.33  \n",
      "1          0.060          Rs300.00          Rs60.00  \n",
      "2          0.040          Rs200.00          Rs40.00  \n",
      "3          0.070          Rs333.33          Rs66.67  \n",
      "4          0.030          Rs533.33         Rs106.67  \n",
      "5          0.055          Rs400.00          Rs80.00  \n"
     ]
    }
   ],
   "source": [
    "import pandas as pd\n",
    "\n",
    "\n",
    "csv_df = pd.read_csv(\"C:\\\\Users\\\\Ashish Pathak\\\\Downloads\\\\Car_length.csv\")\n",
    "\n",
    "\n",
    "excel_df = pd.read_excel(\"C:\\\\Users\\\\Ashish Pathak\\\\Downloads\\\\Car_specs.xlsx\")\n",
    "\n",
    "print(csv_df)\n",
    "print(excel_df)\n"
   ]
  },
  {
   "cell_type": "code",
   "execution_count": 9,
   "id": "c214783f",
   "metadata": {},
   "outputs": [
    {
     "name": "stdout",
     "output_type": "stream",
     "text": [
      "  Company Name Model Name Fuel Type Body style Car Length\n",
      "0       Toyota    Corolla    Petrol      Sedan     4620mm\n",
      "1        Honda      Civic       Gas      Sedan     4648mm\n",
      "2      Hyundai        i20    Petrol  Hatchback     3995mm\n",
      "3          Kia     Seltos    Diesel        SUV     4315mm\n",
      "4        Tesla    Model 3        EV      Sedan     4690mm\n",
      "5         Ford    Mustang    Petrol      Coupe     4788mm\n"
     ]
    }
   ],
   "source": [
    "import pandas as pd\n",
    "\n",
    "\n",
    "csv_df = pd.read_csv(\"C:\\\\Users\\\\Ashish Pathak\\\\Downloads\\\\Car_length.csv\")\n",
    "\n",
    "\n",
    "print(csv_df)\n",
    "\n"
   ]
  },
  {
   "cell_type": "code",
   "execution_count": 12,
   "id": "9500bc1f",
   "metadata": {},
   "outputs": [
    {
     "name": "stdout",
     "output_type": "stream",
     "text": [
      "  Company Name Model Name Fuel Type Body style Car Length\n",
      "0       Toyota    Corolla    Petrol      Sedan     4620mm\n",
      "1        Honda      Civic       Gas      Sedan     4648mm\n",
      "2      Hyundai        i20    Petrol  Hatchback     3995mm\n",
      "3          Kia     Seltos    Diesel        SUV     4315mm\n",
      "4        Tesla    Model 3        EV      Sedan     4690mm\n",
      "5         Ford    Mustang    Petrol      Coupe     4788mm\n"
     ]
    }
   ],
   "source": [
    "df1 = pd.DataFrame(csv_df)\n",
    "print(df1)"
   ]
  },
  {
   "cell_type": "code",
   "execution_count": 18,
   "id": "5310f6d3",
   "metadata": {},
   "outputs": [
    {
     "ename": "ImportError",
     "evalue": "Missing optional dependency 'openpyxl'.  Use pip or conda to install openpyxl.",
     "output_type": "error",
     "traceback": [
      "\u001b[1;31m---------------------------------------------------------------------------\u001b[0m",
      "\u001b[1;31mModuleNotFoundError\u001b[0m                       Traceback (most recent call last)",
      "File \u001b[1;32m~\\AppData\\Local\\Programs\\Python\\Python311\\Lib\\site-packages\\pandas\\compat\\_optional.py:142\u001b[0m, in \u001b[0;36mimport_optional_dependency\u001b[1;34m(name, extra, errors, min_version)\u001b[0m\n\u001b[0;32m    141\u001b[0m \u001b[38;5;28;01mtry\u001b[39;00m:\n\u001b[1;32m--> 142\u001b[0m     module \u001b[38;5;241m=\u001b[39m \u001b[43mimportlib\u001b[49m\u001b[38;5;241;43m.\u001b[39;49m\u001b[43mimport_module\u001b[49m\u001b[43m(\u001b[49m\u001b[43mname\u001b[49m\u001b[43m)\u001b[49m\n\u001b[0;32m    143\u001b[0m \u001b[38;5;28;01mexcept\u001b[39;00m \u001b[38;5;167;01mImportError\u001b[39;00m:\n",
      "File \u001b[1;32m~\\AppData\\Local\\Programs\\Python\\Python311\\Lib\\importlib\\__init__.py:126\u001b[0m, in \u001b[0;36mimport_module\u001b[1;34m(name, package)\u001b[0m\n\u001b[0;32m    125\u001b[0m         level \u001b[38;5;241m+\u001b[39m\u001b[38;5;241m=\u001b[39m \u001b[38;5;241m1\u001b[39m\n\u001b[1;32m--> 126\u001b[0m \u001b[38;5;28;01mreturn\u001b[39;00m \u001b[43m_bootstrap\u001b[49m\u001b[38;5;241;43m.\u001b[39;49m\u001b[43m_gcd_import\u001b[49m\u001b[43m(\u001b[49m\u001b[43mname\u001b[49m\u001b[43m[\u001b[49m\u001b[43mlevel\u001b[49m\u001b[43m:\u001b[49m\u001b[43m]\u001b[49m\u001b[43m,\u001b[49m\u001b[43m \u001b[49m\u001b[43mpackage\u001b[49m\u001b[43m,\u001b[49m\u001b[43m \u001b[49m\u001b[43mlevel\u001b[49m\u001b[43m)\u001b[49m\n",
      "File \u001b[1;32m<frozen importlib._bootstrap>:1206\u001b[0m, in \u001b[0;36m_gcd_import\u001b[1;34m(name, package, level)\u001b[0m\n",
      "File \u001b[1;32m<frozen importlib._bootstrap>:1178\u001b[0m, in \u001b[0;36m_find_and_load\u001b[1;34m(name, import_)\u001b[0m\n",
      "File \u001b[1;32m<frozen importlib._bootstrap>:1142\u001b[0m, in \u001b[0;36m_find_and_load_unlocked\u001b[1;34m(name, import_)\u001b[0m\n",
      "\u001b[1;31mModuleNotFoundError\u001b[0m: No module named 'openpyxl'",
      "\nDuring handling of the above exception, another exception occurred:\n",
      "\u001b[1;31mImportError\u001b[0m                               Traceback (most recent call last)",
      "Cell \u001b[1;32mIn[18], line 3\u001b[0m\n\u001b[0;32m      1\u001b[0m \u001b[38;5;28;01mimport\u001b[39;00m \u001b[38;5;21;01mpandas\u001b[39;00m \u001b[38;5;28;01mas\u001b[39;00m \u001b[38;5;21;01mpd\u001b[39;00m\n\u001b[0;32m      2\u001b[0m file_path \u001b[38;5;241m=\u001b[39m \u001b[38;5;124m'\u001b[39m\u001b[38;5;124mC:\u001b[39m\u001b[38;5;130;01m\\\\\u001b[39;00m\u001b[38;5;124mUsers\u001b[39m\u001b[38;5;130;01m\\\\\u001b[39;00m\u001b[38;5;124mAshish Pathak\u001b[39m\u001b[38;5;130;01m\\\\\u001b[39;00m\u001b[38;5;124mDownloads\u001b[39m\u001b[38;5;130;01m\\\\\u001b[39;00m\u001b[38;5;124mCar_specs.xlsx\u001b[39m\u001b[38;5;124m'\u001b[39m\n\u001b[1;32m----> 3\u001b[0m excel_df \u001b[38;5;241m=\u001b[39m \u001b[43mpd\u001b[49m\u001b[38;5;241;43m.\u001b[39;49m\u001b[43mread_excel\u001b[49m\u001b[43m(\u001b[49m\u001b[43mfile_path\u001b[49m\u001b[43m)\u001b[49m\n\u001b[0;32m      4\u001b[0m \u001b[38;5;28mprint\u001b[39m(excel_df)\n",
      "File \u001b[1;32m~\\AppData\\Local\\Programs\\Python\\Python311\\Lib\\site-packages\\pandas\\io\\excel\\_base.py:478\u001b[0m, in \u001b[0;36mread_excel\u001b[1;34m(io, sheet_name, header, names, index_col, usecols, dtype, engine, converters, true_values, false_values, skiprows, nrows, na_values, keep_default_na, na_filter, verbose, parse_dates, date_parser, date_format, thousands, decimal, comment, skipfooter, storage_options, dtype_backend)\u001b[0m\n\u001b[0;32m    476\u001b[0m \u001b[38;5;28;01mif\u001b[39;00m \u001b[38;5;129;01mnot\u001b[39;00m \u001b[38;5;28misinstance\u001b[39m(io, ExcelFile):\n\u001b[0;32m    477\u001b[0m     should_close \u001b[38;5;241m=\u001b[39m \u001b[38;5;28;01mTrue\u001b[39;00m\n\u001b[1;32m--> 478\u001b[0m     io \u001b[38;5;241m=\u001b[39m \u001b[43mExcelFile\u001b[49m\u001b[43m(\u001b[49m\u001b[43mio\u001b[49m\u001b[43m,\u001b[49m\u001b[43m \u001b[49m\u001b[43mstorage_options\u001b[49m\u001b[38;5;241;43m=\u001b[39;49m\u001b[43mstorage_options\u001b[49m\u001b[43m,\u001b[49m\u001b[43m \u001b[49m\u001b[43mengine\u001b[49m\u001b[38;5;241;43m=\u001b[39;49m\u001b[43mengine\u001b[49m\u001b[43m)\u001b[49m\n\u001b[0;32m    479\u001b[0m \u001b[38;5;28;01melif\u001b[39;00m engine \u001b[38;5;129;01mand\u001b[39;00m engine \u001b[38;5;241m!=\u001b[39m io\u001b[38;5;241m.\u001b[39mengine:\n\u001b[0;32m    480\u001b[0m     \u001b[38;5;28;01mraise\u001b[39;00m \u001b[38;5;167;01mValueError\u001b[39;00m(\n\u001b[0;32m    481\u001b[0m         \u001b[38;5;124m\"\u001b[39m\u001b[38;5;124mEngine should not be specified when passing \u001b[39m\u001b[38;5;124m\"\u001b[39m\n\u001b[0;32m    482\u001b[0m         \u001b[38;5;124m\"\u001b[39m\u001b[38;5;124man ExcelFile - ExcelFile already has the engine set\u001b[39m\u001b[38;5;124m\"\u001b[39m\n\u001b[0;32m    483\u001b[0m     )\n",
      "File \u001b[1;32m~\\AppData\\Local\\Programs\\Python\\Python311\\Lib\\site-packages\\pandas\\io\\excel\\_base.py:1513\u001b[0m, in \u001b[0;36mExcelFile.__init__\u001b[1;34m(self, path_or_buffer, engine, storage_options)\u001b[0m\n\u001b[0;32m   1510\u001b[0m \u001b[38;5;28mself\u001b[39m\u001b[38;5;241m.\u001b[39mengine \u001b[38;5;241m=\u001b[39m engine\n\u001b[0;32m   1511\u001b[0m \u001b[38;5;28mself\u001b[39m\u001b[38;5;241m.\u001b[39mstorage_options \u001b[38;5;241m=\u001b[39m storage_options\n\u001b[1;32m-> 1513\u001b[0m \u001b[38;5;28mself\u001b[39m\u001b[38;5;241m.\u001b[39m_reader \u001b[38;5;241m=\u001b[39m \u001b[38;5;28;43mself\u001b[39;49m\u001b[38;5;241;43m.\u001b[39;49m\u001b[43m_engines\u001b[49m\u001b[43m[\u001b[49m\u001b[43mengine\u001b[49m\u001b[43m]\u001b[49m\u001b[43m(\u001b[49m\u001b[38;5;28;43mself\u001b[39;49m\u001b[38;5;241;43m.\u001b[39;49m\u001b[43m_io\u001b[49m\u001b[43m,\u001b[49m\u001b[43m \u001b[49m\u001b[43mstorage_options\u001b[49m\u001b[38;5;241;43m=\u001b[39;49m\u001b[43mstorage_options\u001b[49m\u001b[43m)\u001b[49m\n",
      "File \u001b[1;32m~\\AppData\\Local\\Programs\\Python\\Python311\\Lib\\site-packages\\pandas\\io\\excel\\_openpyxl.py:548\u001b[0m, in \u001b[0;36mOpenpyxlReader.__init__\u001b[1;34m(self, filepath_or_buffer, storage_options)\u001b[0m\n\u001b[0;32m    533\u001b[0m \u001b[38;5;129m@doc\u001b[39m(storage_options\u001b[38;5;241m=\u001b[39m_shared_docs[\u001b[38;5;124m\"\u001b[39m\u001b[38;5;124mstorage_options\u001b[39m\u001b[38;5;124m\"\u001b[39m])\n\u001b[0;32m    534\u001b[0m \u001b[38;5;28;01mdef\u001b[39;00m \u001b[38;5;21m__init__\u001b[39m(\n\u001b[0;32m    535\u001b[0m     \u001b[38;5;28mself\u001b[39m,\n\u001b[0;32m    536\u001b[0m     filepath_or_buffer: FilePath \u001b[38;5;241m|\u001b[39m ReadBuffer[\u001b[38;5;28mbytes\u001b[39m],\n\u001b[0;32m    537\u001b[0m     storage_options: StorageOptions \u001b[38;5;241m=\u001b[39m \u001b[38;5;28;01mNone\u001b[39;00m,\n\u001b[0;32m    538\u001b[0m ) \u001b[38;5;241m-\u001b[39m\u001b[38;5;241m>\u001b[39m \u001b[38;5;28;01mNone\u001b[39;00m:\n\u001b[0;32m    539\u001b[0m \u001b[38;5;250m    \u001b[39m\u001b[38;5;124;03m\"\"\"\u001b[39;00m\n\u001b[0;32m    540\u001b[0m \u001b[38;5;124;03m    Reader using openpyxl engine.\u001b[39;00m\n\u001b[0;32m    541\u001b[0m \n\u001b[1;32m   (...)\u001b[0m\n\u001b[0;32m    546\u001b[0m \u001b[38;5;124;03m    {storage_options}\u001b[39;00m\n\u001b[0;32m    547\u001b[0m \u001b[38;5;124;03m    \"\"\"\u001b[39;00m\n\u001b[1;32m--> 548\u001b[0m     \u001b[43mimport_optional_dependency\u001b[49m\u001b[43m(\u001b[49m\u001b[38;5;124;43m\"\u001b[39;49m\u001b[38;5;124;43mopenpyxl\u001b[39;49m\u001b[38;5;124;43m\"\u001b[39;49m\u001b[43m)\u001b[49m\n\u001b[0;32m    549\u001b[0m     \u001b[38;5;28msuper\u001b[39m()\u001b[38;5;241m.\u001b[39m\u001b[38;5;21m__init__\u001b[39m(filepath_or_buffer, storage_options\u001b[38;5;241m=\u001b[39mstorage_options)\n",
      "File \u001b[1;32m~\\AppData\\Local\\Programs\\Python\\Python311\\Lib\\site-packages\\pandas\\compat\\_optional.py:145\u001b[0m, in \u001b[0;36mimport_optional_dependency\u001b[1;34m(name, extra, errors, min_version)\u001b[0m\n\u001b[0;32m    143\u001b[0m \u001b[38;5;28;01mexcept\u001b[39;00m \u001b[38;5;167;01mImportError\u001b[39;00m:\n\u001b[0;32m    144\u001b[0m     \u001b[38;5;28;01mif\u001b[39;00m errors \u001b[38;5;241m==\u001b[39m \u001b[38;5;124m\"\u001b[39m\u001b[38;5;124mraise\u001b[39m\u001b[38;5;124m\"\u001b[39m:\n\u001b[1;32m--> 145\u001b[0m         \u001b[38;5;28;01mraise\u001b[39;00m \u001b[38;5;167;01mImportError\u001b[39;00m(msg)\n\u001b[0;32m    146\u001b[0m     \u001b[38;5;28;01mreturn\u001b[39;00m \u001b[38;5;28;01mNone\u001b[39;00m\n\u001b[0;32m    148\u001b[0m \u001b[38;5;66;03m# Handle submodules: if we have submodule, grab parent module from sys.modules\u001b[39;00m\n",
      "\u001b[1;31mImportError\u001b[0m: Missing optional dependency 'openpyxl'.  Use pip or conda to install openpyxl."
     ]
    }
   ],
   "source": [
    "import pandas as pd\n",
    "file_path = 'C:\\\\Users\\\\Ashish Pathak\\\\Downloads\\\\Car_specs.xlsx'\n",
    "excel_df = pd.read_excel(file_path)\n",
    "print(excel_df)"
   ]
  },
  {
   "cell_type": "code",
   "execution_count": 19,
   "id": "7e00fbd6",
   "metadata": {},
   "outputs": [
    {
     "name": "stderr",
     "output_type": "stream",
     "text": [
      "ERROR: Could not find a version that satisfies the requirement openpyx1 (from versions: none)\n",
      "ERROR: No matching distribution found for openpyx1\n"
     ]
    }
   ],
   "source": [
    "!pip install openpyx1\n"
   ]
  },
  {
   "cell_type": "code",
   "execution_count": 22,
   "id": "8a8b6f44",
   "metadata": {},
   "outputs": [],
   "source": [
    "import pandas as pd\n",
    "titanic = pd.read_excel(\"C:\\\\Users\\\\Ashish Pathak\\\\Downloads\\\\Car_specs.xlsx\")"
   ]
  },
  {
   "cell_type": "code",
   "execution_count": 33,
   "id": "e345a926",
   "metadata": {},
   "outputs": [
    {
     "name": "stdout",
     "output_type": "stream",
     "text": [
      "  Company Name Model Name Fuel Type Body style Car Length\n",
      "0       Toyota    Corolla    Petrol      Sedan     4620mm\n",
      "1        Honda      Civic       Gas      Sedan     4648mm\n",
      "2      Hyundai        i20    Petrol  Hatchback     3995mm\n",
      "3          Kia     Seltos    Diesel        SUV     4315mm\n",
      "4        Tesla    Model 3        EV      Sedan     4690mm\n",
      "5         Ford    Mustang    Petrol      Coupe     4788mm\n",
      "  Company Name Model Name On-road pricing Loan amount Monthly EMI   \n",
      "0       Toyota    Corolla        Rs20,000    Rs16,000       Rs320  \\\n",
      "1        Honda      Civic        Rs22,000    Rs18,000       Rs360   \n",
      "2      Hyundai        i20        Rs15,000    Rs12,000       Rs240   \n",
      "3          Kia     Seltos        Rs25,000    Rs20,000       Rs400   \n",
      "4        Tesla    Model 3        Rs40,000    Rs32,000       Rs640   \n",
      "5         Ford    Mustang        Rs30,000    Rs24,000       Rs480   \n",
      "\n",
      "   Interest Rate Monthly Principal Monthly Interest  \n",
      "0          0.050          Rs266.67          Rs53.33  \n",
      "1          0.060          Rs300.00          Rs60.00  \n",
      "2          0.040          Rs200.00          Rs40.00  \n",
      "3          0.070          Rs333.33          Rs66.67  \n",
      "4          0.030          Rs533.33         Rs106.67  \n",
      "5          0.055          Rs400.00          Rs80.00  \n",
      "  Company Name Model Name Fuel Type Body style Car Length On-road pricing   \n",
      "0       Toyota    Corolla    Petrol      Sedan     4620mm        Rs20,000  \\\n",
      "1        Honda      Civic       Gas      Sedan     4648mm        Rs22,000   \n",
      "2      Hyundai        i20    Petrol  Hatchback     3995mm        Rs15,000   \n",
      "3          Kia     Seltos    Diesel        SUV     4315mm        Rs25,000   \n",
      "4        Tesla    Model 3        EV      Sedan     4690mm        Rs40,000   \n",
      "5         Ford    Mustang    Petrol      Coupe     4788mm        Rs30,000   \n",
      "\n",
      "  Loan amount Monthly EMI  Interest Rate Monthly Principal Monthly Interest  \n",
      "0    Rs16,000       Rs320          0.050          Rs266.67          Rs53.33  \n",
      "1    Rs18,000       Rs360          0.060          Rs300.00          Rs60.00  \n",
      "2    Rs12,000       Rs240          0.040          Rs200.00          Rs40.00  \n",
      "3    Rs20,000       Rs400          0.070          Rs333.33          Rs66.67  \n",
      "4    Rs32,000       Rs640          0.030          Rs533.33         Rs106.67  \n",
      "5    Rs24,000       Rs480          0.055          Rs400.00          Rs80.00  \n"
     ]
    }
   ],
   "source": [
    "import pandas as pd\n",
    "\n",
    "\n",
    "csv_df = pd.read_csv(\"C:\\\\Users\\\\Ashish Pathak\\\\Downloads\\\\Car_length.csv\")\n",
    "\n",
    "df1 = pd.DataFrame(csv_df)\n",
    "excel_df = pd.read_excel(\"C:\\\\Users\\\\Ashish Pathak\\\\Downloads\\\\Car_specs.xlsx\")\n",
    "df2 = pd.DataFrame(excel_df)\n",
    "print(df1)\n",
    "print(df2)\n",
    "# df1.head()\n",
    "# df2.head()\n",
    "merged_df = pd.merge(df1, df2)\n",
    "\n",
    "print(merged_df)"
   ]
  },
  {
   "cell_type": "code",
   "execution_count": 13,
   "id": "5c2a3947",
   "metadata": {},
   "outputs": [
    {
     "name": "stdout",
     "output_type": "stream",
     "text": [
      "  Company Name Model Name Fuel Type Body style Car Length\n",
      "0       Toyota    Corolla    Petrol      Sedan     4620mm\n",
      "1        Honda      Civic       Gas      Sedan     4648mm\n",
      "2      Hyundai        i20    Petrol  Hatchback     3995mm\n",
      "3          Kia     Seltos    Diesel        SUV     4315mm\n",
      "4        Tesla    Model 3        EV      Sedan     4690mm\n",
      "5         Ford    Mustang    Petrol      Coupe     4788mm\n",
      "  Company Name Model Name  On-road pricing  Loan amount  Monthly EMI   \n",
      "0       Toyota    Corolla            20000        16000          320  \\\n",
      "1        Honda      Civic            22000        18000          360   \n",
      "2      Hyundai        i20            15000        12000          240   \n",
      "3          Kia     Seltos            25000        20000          400   \n",
      "4        Tesla    Model 3            40000        32000          640   \n",
      "5         Ford    Mustang            30000        24000          480   \n",
      "\n",
      "   Interest Rate Monthly Principal Monthly Interest  \n",
      "0          0.050          Rs266.67          Rs53.33  \n",
      "1          0.060          Rs300.00          Rs60.00  \n",
      "2          0.040          Rs200.00          Rs40.00  \n",
      "3          0.070          Rs333.33          Rs66.67  \n",
      "4          0.030          Rs533.33         Rs106.67  \n",
      "5          0.055          Rs400.00          Rs80.00  \n",
      "  Company Name Model Name Fuel Type Body style Car Length  On-road pricing   \n",
      "0       Toyota    Corolla    Petrol      Sedan     4620mm            20000  \\\n",
      "1        Honda      Civic       Gas      Sedan     4648mm            22000   \n",
      "2      Hyundai        i20    Petrol  Hatchback     3995mm            15000   \n",
      "3          Kia     Seltos    Diesel        SUV     4315mm            25000   \n",
      "4        Tesla    Model 3        EV      Sedan     4690mm            40000   \n",
      "5         Ford    Mustang    Petrol      Coupe     4788mm            30000   \n",
      "\n",
      "   Loan amount  Monthly EMI  Interest Rate Monthly Principal Monthly Interest  \n",
      "0        16000          320          0.050          Rs266.67          Rs53.33  \n",
      "1        18000          360          0.060          Rs300.00          Rs60.00  \n",
      "2        12000          240          0.040          Rs200.00          Rs40.00  \n",
      "3        20000          400          0.070          Rs333.33          Rs66.67  \n",
      "4        32000          640          0.030          Rs533.33         Rs106.67  \n",
      "5        24000          480          0.055          Rs400.00          Rs80.00  \n",
      "  Company Name Model Name Fuel Type Body style Car Length  On-road pricing   \n",
      "0       Toyota    Corolla    Petrol      Sedan     4620mm            23600  \\\n",
      "1        Honda      Civic       Gas      Sedan     4648mm            25960   \n",
      "2      Hyundai        i20    Petrol  Hatchback     3995mm            17700   \n",
      "3          Kia     Seltos    Diesel        SUV     4315mm            29500   \n",
      "4        Tesla    Model 3        EV      Sedan     4690mm            47200   \n",
      "5         Ford    Mustang    Petrol      Coupe     4788mm            35400   \n",
      "\n",
      "   Loan amount  Monthly EMI  Interest Rate Monthly Principal Monthly Interest  \n",
      "0        16000          320          0.050          Rs266.67          Rs53.33  \n",
      "1        18000          360          0.060          Rs300.00          Rs60.00  \n",
      "2        12000          240          0.040          Rs200.00          Rs40.00  \n",
      "3        20000          400          0.070          Rs333.33          Rs66.67  \n",
      "4        32000          640          0.030          Rs533.33         Rs106.67  \n",
      "5        24000          480          0.055          Rs400.00          Rs80.00  \n"
     ]
    }
   ],
   "source": [
    "import pandas as pd\n",
    "\n",
    "\n",
    "csv_df = pd.read_csv(\"C:\\\\Users\\\\Ashish Pathak\\\\Downloads\\\\Car_length.csv\")\n",
    "\n",
    "df1 = pd.DataFrame(csv_df)\n",
    "excel_df = pd.read_excel(\"C:\\\\Users\\\\Ashish Pathak\\\\Downloads\\\\Car-info.xlsx\")\n",
    "df2 = pd.DataFrame(excel_df)\n",
    "print(df1)\n",
    "print(df2)\n",
    "# df1.head()\n",
    "# df2.head()\n",
    "merged_df = pd.merge(df1, df2,on = ['Company Name','Model Name'])\n",
    "\n",
    "print(merged_df)\n",
    "\n",
    "default_gst = 0.18  # 18%\n",
    "for index, row in merged_df.iterrows():\n",
    "    on_road_price = row['On-road pricing'] * (1 + default_gst)\n",
    "    merged_df.at[index, 'On-road pricing'] = on_road_price\n",
    "    \n",
    "print(merged_df)\n",
    "\n"
   ]
  },
  {
   "cell_type": "code",
   "execution_count": null,
   "id": "b63a09c9",
   "metadata": {},
   "outputs": [],
   "source": []
  }
 ],
 "metadata": {
  "kernelspec": {
   "display_name": "Python 3 (ipykernel)",
   "language": "python",
   "name": "python3"
  },
  "language_info": {
   "codemirror_mode": {
    "name": "ipython",
    "version": 3
   },
   "file_extension": ".py",
   "mimetype": "text/x-python",
   "name": "python",
   "nbconvert_exporter": "python",
   "pygments_lexer": "ipython3",
   "version": "3.11.3"
  }
 },
 "nbformat": 4,
 "nbformat_minor": 5
}
