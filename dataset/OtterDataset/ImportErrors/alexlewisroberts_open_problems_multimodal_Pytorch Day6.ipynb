{
 "cells": [
  {
   "cell_type": "code",
   "execution_count": 2,
   "id": "55febed7-c162-4b3f-bc9d-ab2855d1481e",
   "metadata": {
    "execution": {
     "iopub.execute_input": "2022-10-14T04:32:21.553550Z",
     "iopub.status.busy": "2022-10-14T04:32:21.552978Z",
     "iopub.status.idle": "2022-10-14T04:32:29.946135Z",
     "shell.execute_reply": "2022-10-14T04:32:29.945446Z",
     "shell.execute_reply.started": "2022-10-14T04:32:21.553520Z"
    },
    "tags": []
   },
   "outputs": [
    {
     "name": "stdout",
     "output_type": "stream",
     "text": [
      "Requirement already satisfied: pytorch_lightning in /opt/saturncloud/envs/saturn/lib/python3.9/site-packages (1.7.7)\n",
      "Requirement already satisfied: packaging>=17.0 in /opt/saturncloud/envs/saturn/lib/python3.9/site-packages (from pytorch_lightning) (21.3)\n",
      "Requirement already satisfied: torchmetrics>=0.7.0 in /opt/saturncloud/envs/saturn/lib/python3.9/site-packages (from pytorch_lightning) (0.10.0)\n",
      "Requirement already satisfied: typing-extensions>=4.0.0 in /opt/saturncloud/envs/saturn/lib/python3.9/site-packages (from pytorch_lightning) (4.3.0)\n",
      "Requirement already satisfied: numpy>=1.17.2 in /opt/saturncloud/envs/saturn/lib/python3.9/site-packages (from pytorch_lightning) (1.21.6)\n",
      "Requirement already satisfied: tensorboard>=2.9.1 in /opt/saturncloud/envs/saturn/lib/python3.9/site-packages (from pytorch_lightning) (2.10.1)\n",
      "Requirement already satisfied: tqdm>=4.57.0 in /opt/saturncloud/envs/saturn/lib/python3.9/site-packages (from pytorch_lightning) (4.64.0)\n",
      "Requirement already satisfied: torch>=1.9.* in /opt/saturncloud/envs/saturn/lib/python3.9/site-packages (from pytorch_lightning) (1.11.0)\n",
      "Requirement already satisfied: fsspec[http]!=2021.06.0,>=2021.05.0 in /opt/saturncloud/envs/saturn/lib/python3.9/site-packages (from pytorch_lightning) (2022.3.0)\n",
      "Requirement already satisfied: pyDeprecate>=0.3.1 in /opt/saturncloud/envs/saturn/lib/python3.9/site-packages (from pytorch_lightning) (0.3.2)\n",
      "Requirement already satisfied: PyYAML>=5.4 in /opt/saturncloud/envs/saturn/lib/python3.9/site-packages (from pytorch_lightning) (6.0)\n",
      "Requirement already satisfied: requests in /opt/saturncloud/envs/saturn/lib/python3.9/site-packages (from fsspec[http]!=2021.06.0,>=2021.05.0->pytorch_lightning) (2.28.1)\n",
      "Requirement already satisfied: aiohttp in /opt/saturncloud/envs/saturn/lib/python3.9/site-packages (from fsspec[http]!=2021.06.0,>=2021.05.0->pytorch_lightning) (3.8.1)\n",
      "Requirement already satisfied: pyparsing!=3.0.5,>=2.0.2 in /opt/saturncloud/envs/saturn/lib/python3.9/site-packages (from packaging>=17.0->pytorch_lightning) (3.0.9)\n",
      "Requirement already satisfied: google-auth-oauthlib<0.5,>=0.4.1 in /opt/saturncloud/envs/saturn/lib/python3.9/site-packages (from tensorboard>=2.9.1->pytorch_lightning) (0.4.6)\n",
      "Requirement already satisfied: tensorboard-data-server<0.7.0,>=0.6.0 in /opt/saturncloud/envs/saturn/lib/python3.9/site-packages (from tensorboard>=2.9.1->pytorch_lightning) (0.6.0)\n",
      "Requirement already satisfied: absl-py>=0.4 in /opt/saturncloud/envs/saturn/lib/python3.9/site-packages (from tensorboard>=2.9.1->pytorch_lightning) (1.2.0)\n",
      "Requirement already satisfied: setuptools>=41.0.0 in /opt/saturncloud/envs/saturn/lib/python3.9/site-packages (from tensorboard>=2.9.1->pytorch_lightning) (59.8.0)\n",
      "Requirement already satisfied: tensorboard-plugin-wit>=1.6.0 in /opt/saturncloud/envs/saturn/lib/python3.9/site-packages (from tensorboard>=2.9.1->pytorch_lightning) (1.8.1)\n",
      "Requirement already satisfied: markdown>=2.6.8 in /opt/saturncloud/envs/saturn/lib/python3.9/site-packages (from tensorboard>=2.9.1->pytorch_lightning) (3.4.1)\n",
      "Requirement already satisfied: grpcio>=1.24.3 in /opt/saturncloud/envs/saturn/lib/python3.9/site-packages (from tensorboard>=2.9.1->pytorch_lightning) (1.46.3)\n",
      "Requirement already satisfied: protobuf<3.20,>=3.9.2 in /opt/saturncloud/envs/saturn/lib/python3.9/site-packages (from tensorboard>=2.9.1->pytorch_lightning) (3.19.6)\n",
      "Requirement already satisfied: werkzeug>=1.0.1 in /opt/saturncloud/envs/saturn/lib/python3.9/site-packages (from tensorboard>=2.9.1->pytorch_lightning) (2.2.0)\n",
      "Requirement already satisfied: wheel>=0.26 in /opt/saturncloud/envs/saturn/lib/python3.9/site-packages (from tensorboard>=2.9.1->pytorch_lightning) (0.37.1)\n",
      "Requirement already satisfied: google-auth<3,>=1.6.3 in /opt/saturncloud/envs/saturn/lib/python3.9/site-packages (from tensorboard>=2.9.1->pytorch_lightning) (2.9.1)\n",
      "Requirement already satisfied: six>=1.9.0 in /opt/saturncloud/envs/saturn/lib/python3.9/site-packages (from google-auth<3,>=1.6.3->tensorboard>=2.9.1->pytorch_lightning) (1.16.0)\n",
      "Requirement already satisfied: cachetools<6.0,>=2.0.0 in /opt/saturncloud/envs/saturn/lib/python3.9/site-packages (from google-auth<3,>=1.6.3->tensorboard>=2.9.1->pytorch_lightning) (5.0.0)\n",
      "Requirement already satisfied: pyasn1-modules>=0.2.1 in /opt/saturncloud/envs/saturn/lib/python3.9/site-packages (from google-auth<3,>=1.6.3->tensorboard>=2.9.1->pytorch_lightning) (0.2.7)\n",
      "Requirement already satisfied: rsa<5,>=3.1.4 in /opt/saturncloud/envs/saturn/lib/python3.9/site-packages (from google-auth<3,>=1.6.3->tensorboard>=2.9.1->pytorch_lightning) (4.9)\n",
      "Requirement already satisfied: requests-oauthlib>=0.7.0 in /opt/saturncloud/envs/saturn/lib/python3.9/site-packages (from google-auth-oauthlib<0.5,>=0.4.1->tensorboard>=2.9.1->pytorch_lightning) (1.3.1)\n",
      "Requirement already satisfied: importlib-metadata>=4.4 in /opt/saturncloud/envs/saturn/lib/python3.9/site-packages (from markdown>=2.6.8->tensorboard>=2.9.1->pytorch_lightning) (4.11.4)\n",
      "Requirement already satisfied: certifi>=2017.4.17 in /opt/saturncloud/envs/saturn/lib/python3.9/site-packages (from requests->fsspec[http]!=2021.06.0,>=2021.05.0->pytorch_lightning) (2022.9.24)\n",
      "Requirement already satisfied: charset-normalizer<3,>=2 in /opt/saturncloud/envs/saturn/lib/python3.9/site-packages (from requests->fsspec[http]!=2021.06.0,>=2021.05.0->pytorch_lightning) (2.0.12)\n",
      "Requirement already satisfied: idna<4,>=2.5 in /opt/saturncloud/envs/saturn/lib/python3.9/site-packages (from requests->fsspec[http]!=2021.06.0,>=2021.05.0->pytorch_lightning) (3.3)\n",
      "Requirement already satisfied: urllib3<1.27,>=1.21.1 in /opt/saturncloud/envs/saturn/lib/python3.9/site-packages (from requests->fsspec[http]!=2021.06.0,>=2021.05.0->pytorch_lightning) (1.26.11)\n",
      "Requirement already satisfied: MarkupSafe>=2.1.1 in /opt/saturncloud/envs/saturn/lib/python3.9/site-packages (from werkzeug>=1.0.1->tensorboard>=2.9.1->pytorch_lightning) (2.1.1)\n",
      "Requirement already satisfied: multidict<7.0,>=4.5 in /opt/saturncloud/envs/saturn/lib/python3.9/site-packages (from aiohttp->fsspec[http]!=2021.06.0,>=2021.05.0->pytorch_lightning) (6.0.2)\n",
      "Requirement already satisfied: aiosignal>=1.1.2 in /opt/saturncloud/envs/saturn/lib/python3.9/site-packages (from aiohttp->fsspec[http]!=2021.06.0,>=2021.05.0->pytorch_lightning) (1.2.0)\n",
      "Requirement already satisfied: attrs>=17.3.0 in /opt/saturncloud/envs/saturn/lib/python3.9/site-packages (from aiohttp->fsspec[http]!=2021.06.0,>=2021.05.0->pytorch_lightning) (21.4.0)\n",
      "Requirement already satisfied: frozenlist>=1.1.1 in /opt/saturncloud/envs/saturn/lib/python3.9/site-packages (from aiohttp->fsspec[http]!=2021.06.0,>=2021.05.0->pytorch_lightning) (1.3.0)\n",
      "Requirement already satisfied: async-timeout<5.0,>=4.0.0a3 in /opt/saturncloud/envs/saturn/lib/python3.9/site-packages (from aiohttp->fsspec[http]!=2021.06.0,>=2021.05.0->pytorch_lightning) (4.0.2)\n",
      "Requirement already satisfied: yarl<2.0,>=1.0 in /opt/saturncloud/envs/saturn/lib/python3.9/site-packages (from aiohttp->fsspec[http]!=2021.06.0,>=2021.05.0->pytorch_lightning) (1.7.2)\n",
      "Requirement already satisfied: zipp>=0.5 in /opt/saturncloud/envs/saturn/lib/python3.9/site-packages (from importlib-metadata>=4.4->markdown>=2.6.8->tensorboard>=2.9.1->pytorch_lightning) (3.8.0)\n",
      "Requirement already satisfied: pyasn1<0.5.0,>=0.4.6 in /opt/saturncloud/envs/saturn/lib/python3.9/site-packages (from pyasn1-modules>=0.2.1->google-auth<3,>=1.6.3->tensorboard>=2.9.1->pytorch_lightning) (0.4.8)\n",
      "Requirement already satisfied: oauthlib>=3.0.0 in /opt/saturncloud/envs/saturn/lib/python3.9/site-packages (from requests-oauthlib>=0.7.0->google-auth-oauthlib<0.5,>=0.4.1->tensorboard>=2.9.1->pytorch_lightning) (3.2.0)\n",
      "Requirement already satisfied: colorama in /opt/saturncloud/envs/saturn/lib/python3.9/site-packages (0.4.5)\n",
      "Requirement already satisfied: tensorflow in /opt/saturncloud/envs/saturn/lib/python3.9/site-packages (2.10.0)\n",
      "Requirement already satisfied: packaging in /opt/saturncloud/envs/saturn/lib/python3.9/site-packages (from tensorflow) (21.3)\n",
      "Requirement already satisfied: numpy>=1.20 in /opt/saturncloud/envs/saturn/lib/python3.9/site-packages (from tensorflow) (1.21.6)\n",
      "Requirement already satisfied: tensorflow-io-gcs-filesystem>=0.23.1 in /opt/saturncloud/envs/saturn/lib/python3.9/site-packages (from tensorflow) (0.27.0)\n",
      "Requirement already satisfied: protobuf<3.20,>=3.9.2 in /opt/saturncloud/envs/saturn/lib/python3.9/site-packages (from tensorflow) (3.19.6)\n",
      "Requirement already satisfied: wrapt>=1.11.0 in /opt/saturncloud/envs/saturn/lib/python3.9/site-packages (from tensorflow) (1.14.1)\n",
      "Requirement already satisfied: keras<2.11,>=2.10.0 in /opt/saturncloud/envs/saturn/lib/python3.9/site-packages (from tensorflow) (2.10.0)\n",
      "Requirement already satisfied: keras-preprocessing>=1.1.1 in /opt/saturncloud/envs/saturn/lib/python3.9/site-packages (from tensorflow) (1.1.2)\n",
      "Requirement already satisfied: grpcio<2.0,>=1.24.3 in /opt/saturncloud/envs/saturn/lib/python3.9/site-packages (from tensorflow) (1.46.3)\n",
      "Requirement already satisfied: tensorflow-estimator<2.11,>=2.10.0 in /opt/saturncloud/envs/saturn/lib/python3.9/site-packages (from tensorflow) (2.10.0)\n",
      "Requirement already satisfied: six>=1.12.0 in /opt/saturncloud/envs/saturn/lib/python3.9/site-packages (from tensorflow) (1.16.0)\n",
      "Requirement already satisfied: libclang>=13.0.0 in /opt/saturncloud/envs/saturn/lib/python3.9/site-packages (from tensorflow) (14.0.6)\n",
      "Requirement already satisfied: h5py>=2.9.0 in /opt/saturncloud/envs/saturn/lib/python3.9/site-packages (from tensorflow) (3.7.0)\n",
      "Requirement already satisfied: gast<=0.4.0,>=0.2.1 in /opt/saturncloud/envs/saturn/lib/python3.9/site-packages (from tensorflow) (0.4.0)\n",
      "Requirement already satisfied: setuptools in /opt/saturncloud/envs/saturn/lib/python3.9/site-packages (from tensorflow) (59.8.0)\n",
      "Requirement already satisfied: google-pasta>=0.1.1 in /opt/saturncloud/envs/saturn/lib/python3.9/site-packages (from tensorflow) (0.2.0)\n",
      "Requirement already satisfied: astunparse>=1.6.0 in /opt/saturncloud/envs/saturn/lib/python3.9/site-packages (from tensorflow) (1.6.3)\n",
      "Requirement already satisfied: typing-extensions>=3.6.6 in /opt/saturncloud/envs/saturn/lib/python3.9/site-packages (from tensorflow) (4.3.0)\n",
      "Requirement already satisfied: tensorboard<2.11,>=2.10 in /opt/saturncloud/envs/saturn/lib/python3.9/site-packages (from tensorflow) (2.10.1)\n",
      "Requirement already satisfied: opt-einsum>=2.3.2 in /opt/saturncloud/envs/saturn/lib/python3.9/site-packages (from tensorflow) (3.3.0)\n",
      "Requirement already satisfied: absl-py>=1.0.0 in /opt/saturncloud/envs/saturn/lib/python3.9/site-packages (from tensorflow) (1.2.0)\n",
      "Requirement already satisfied: flatbuffers>=2.0 in /opt/saturncloud/envs/saturn/lib/python3.9/site-packages (from tensorflow) (22.9.24)\n",
      "Requirement already satisfied: termcolor>=1.1.0 in /opt/saturncloud/envs/saturn/lib/python3.9/site-packages (from tensorflow) (2.0.1)\n",
      "Requirement already satisfied: wheel<1.0,>=0.23.0 in /opt/saturncloud/envs/saturn/lib/python3.9/site-packages (from astunparse>=1.6.0->tensorflow) (0.37.1)\n",
      "Requirement already satisfied: requests<3,>=2.21.0 in /opt/saturncloud/envs/saturn/lib/python3.9/site-packages (from tensorboard<2.11,>=2.10->tensorflow) (2.28.1)\n",
      "Requirement already satisfied: werkzeug>=1.0.1 in /opt/saturncloud/envs/saturn/lib/python3.9/site-packages (from tensorboard<2.11,>=2.10->tensorflow) (2.2.0)\n",
      "Requirement already satisfied: google-auth-oauthlib<0.5,>=0.4.1 in /opt/saturncloud/envs/saturn/lib/python3.9/site-packages (from tensorboard<2.11,>=2.10->tensorflow) (0.4.6)\n",
      "Requirement already satisfied: google-auth<3,>=1.6.3 in /opt/saturncloud/envs/saturn/lib/python3.9/site-packages (from tensorboard<2.11,>=2.10->tensorflow) (2.9.1)\n",
      "Requirement already satisfied: tensorboard-data-server<0.7.0,>=0.6.0 in /opt/saturncloud/envs/saturn/lib/python3.9/site-packages (from tensorboard<2.11,>=2.10->tensorflow) (0.6.0)\n",
      "Requirement already satisfied: tensorboard-plugin-wit>=1.6.0 in /opt/saturncloud/envs/saturn/lib/python3.9/site-packages (from tensorboard<2.11,>=2.10->tensorflow) (1.8.1)\n",
      "Requirement already satisfied: markdown>=2.6.8 in /opt/saturncloud/envs/saturn/lib/python3.9/site-packages (from tensorboard<2.11,>=2.10->tensorflow) (3.4.1)\n",
      "Requirement already satisfied: pyparsing!=3.0.5,>=2.0.2 in /opt/saturncloud/envs/saturn/lib/python3.9/site-packages (from packaging->tensorflow) (3.0.9)\n",
      "Requirement already satisfied: cachetools<6.0,>=2.0.0 in /opt/saturncloud/envs/saturn/lib/python3.9/site-packages (from google-auth<3,>=1.6.3->tensorboard<2.11,>=2.10->tensorflow) (5.0.0)\n",
      "Requirement already satisfied: rsa<5,>=3.1.4 in /opt/saturncloud/envs/saturn/lib/python3.9/site-packages (from google-auth<3,>=1.6.3->tensorboard<2.11,>=2.10->tensorflow) (4.9)\n",
      "Requirement already satisfied: pyasn1-modules>=0.2.1 in /opt/saturncloud/envs/saturn/lib/python3.9/site-packages (from google-auth<3,>=1.6.3->tensorboard<2.11,>=2.10->tensorflow) (0.2.7)\n",
      "Requirement already satisfied: requests-oauthlib>=0.7.0 in /opt/saturncloud/envs/saturn/lib/python3.9/site-packages (from google-auth-oauthlib<0.5,>=0.4.1->tensorboard<2.11,>=2.10->tensorflow) (1.3.1)\n",
      "Requirement already satisfied: importlib-metadata>=4.4 in /opt/saturncloud/envs/saturn/lib/python3.9/site-packages (from markdown>=2.6.8->tensorboard<2.11,>=2.10->tensorflow) (4.11.4)\n",
      "Requirement already satisfied: certifi>=2017.4.17 in /opt/saturncloud/envs/saturn/lib/python3.9/site-packages (from requests<3,>=2.21.0->tensorboard<2.11,>=2.10->tensorflow) (2022.9.24)\n",
      "Requirement already satisfied: idna<4,>=2.5 in /opt/saturncloud/envs/saturn/lib/python3.9/site-packages (from requests<3,>=2.21.0->tensorboard<2.11,>=2.10->tensorflow) (3.3)\n",
      "Requirement already satisfied: urllib3<1.27,>=1.21.1 in /opt/saturncloud/envs/saturn/lib/python3.9/site-packages (from requests<3,>=2.21.0->tensorboard<2.11,>=2.10->tensorflow) (1.26.11)\n",
      "Requirement already satisfied: charset-normalizer<3,>=2 in /opt/saturncloud/envs/saturn/lib/python3.9/site-packages (from requests<3,>=2.21.0->tensorboard<2.11,>=2.10->tensorflow) (2.0.12)\n",
      "Requirement already satisfied: MarkupSafe>=2.1.1 in /opt/saturncloud/envs/saturn/lib/python3.9/site-packages (from werkzeug>=1.0.1->tensorboard<2.11,>=2.10->tensorflow) (2.1.1)\n",
      "Requirement already satisfied: zipp>=0.5 in /opt/saturncloud/envs/saturn/lib/python3.9/site-packages (from importlib-metadata>=4.4->markdown>=2.6.8->tensorboard<2.11,>=2.10->tensorflow) (3.8.0)\n",
      "Requirement already satisfied: pyasn1<0.5.0,>=0.4.6 in /opt/saturncloud/envs/saturn/lib/python3.9/site-packages (from pyasn1-modules>=0.2.1->google-auth<3,>=1.6.3->tensorboard<2.11,>=2.10->tensorflow) (0.4.8)\n",
      "Requirement already satisfied: oauthlib>=3.0.0 in /opt/saturncloud/envs/saturn/lib/python3.9/site-packages (from requests-oauthlib>=0.7.0->google-auth-oauthlib<0.5,>=0.4.1->tensorboard<2.11,>=2.10->tensorflow) (3.2.0)\n",
      "/home/jovyan/kaggle/working\n",
      "/home/jovyan/kaggle/working/robust-pca\n",
      "/home/jovyan/kaggle/working\n"
     ]
    }
   ],
   "source": [
    "!pip install pytorch_lightning\n",
    "import pytorch_lightning as pl\n",
    "import numpy as np\n",
    "from torch.utils.data import DataLoader, TensorDataset\n",
    "import pandas as pd\n",
    "import torch\n",
    "import torch.nn as nn\n",
    "from torchmetrics import PearsonCorrCoef, MeanSquaredError\n",
    "!pip install colorama\n",
    "import os, gc, pickle, datetime, scipy.sparse\n",
    "import pandas as pd\n",
    "import matplotlib.pyplot as plt\n",
    "import numpy as np\n",
    "from colorama import Fore, Back, Style\n",
    "\n",
    "from sklearn.model_selection import GroupKFold, train_test_split\n",
    "from sklearn.preprocessing import StandardScaler, scale, MinMaxScaler\n",
    "from sklearn.decomposition import TruncatedSVD\n",
    "\n",
    "!pip install tensorflow\n",
    "import tensorflow as tf\n",
    "import tensorflow.keras.backend as K\n",
    "from tensorflow.keras.models import Model, load_model\n",
    "from tensorflow.keras.callbacks import ReduceLROnPlateau, LearningRateScheduler, EarlyStopping\n",
    "from tensorflow.keras.layers import Dense, Input, Concatenate\n",
    "from tensorflow.keras.utils import plot_model\n",
    "\n",
    "%cd /home/jovyan/kaggle/working\n",
    "\n",
    "%cd robust-pca\n",
    "import r_pca\n",
    "%cd ..\n",
    "\n",
    "def delete_columns_csr(mat, indices):\n",
    "    \"\"\"\n",
    "    Remove the rows denoted by ``indices`` form the CSR sparse matrix ``mat``.\n",
    "    \"\"\"\n",
    "    if not isinstance(mat, scipy.sparse.csr_matrix):\n",
    "        raise ValueError(\"works only for CSR format -- use .tocsr() first\")\n",
    "    mask = np.ones(mat.shape[1], dtype=bool)\n",
    "    mask[indices] = False\n",
    "    return mat[:,mask]\n",
    "\n",
    "def correlation_score(y_true, y_pred):\n",
    "    \"\"\"Scores the predictions according to the competition rules. \n",
    "    \n",
    "    It is assumed that the predictions are not constant.\n",
    "    \n",
    "    Returns the average of each sample's Pearson correlation coefficient\"\"\"\n",
    "    if type(y_true) == pd.DataFrame: y_true = y_true.values\n",
    "    if type(y_pred) == pd.DataFrame: y_pred = y_pred.values\n",
    "    corrsum = 0\n",
    "    for i in range(len(y_true)):\n",
    "        corrsum += np.corrcoef(y_true[i], y_pred[i])[1, 0]\n",
    "    return corrsum / len(y_true)\n",
    "\n",
    "def negative_correlation_loss(y_true, y_pred):\n",
    "    \"\"\"Negative correlation loss function for Keras\n",
    "    \n",
    "    Precondition:\n",
    "    y_true.mean(axis=1) == 0\n",
    "    y_true.std(axis=1) == 1\n",
    "    \n",
    "    Returns:\n",
    "    -1 = perfect positive correlation\n",
    "    1 = totally negative correlation\n",
    "    \"\"\"\n",
    "    my = K.mean(tf.convert_to_tensor(y_pred), axis=1)\n",
    "    my = tf.tile(tf.expand_dims(my, axis=1), (1, y_true.shape[1]))\n",
    "    ym = y_pred - my\n",
    "    r_num = K.sum(tf.multiply(y_true, ym), axis=1)\n",
    "    r_den = tf.sqrt(K.sum(K.square(ym), axis=1) * float(y_true.shape[-1]))\n",
    "    r = tf.reduce_mean(r_num / r_den)\n",
    "    return - r\n",
    "\n",
    "def negative_pearson_loss(y_true, y_pred):\n",
    "    \"\"\"Negative correlation loss function for Keras\n",
    "    \n",
    "    Precondition:\n",
    "    y_true.mean(axis=1) == 0\n",
    "    y_true.std(axis=1) == 1\n",
    "    \n",
    "    Returns:\n",
    "    -1 = perfect positive correlation\n",
    "    1 = totally negative correlation\n",
    "    \"\"\"\n",
    "\n",
    "    vx = y_pred - torch.mean(y_pred,1,keepdim=True)\n",
    "    vy = y_true - torch.mean(y_true,1,keepdim=True)\n",
    "\n",
    "    cost = torch.mean(torch.sum(vx * vy,1) / (torch.sqrt(torch.sum(vx ** 2,1)) * torch.sqrt(torch.sum(vy ** 2,1))))\n",
    "\n",
    "    return - cost\n",
    "\n",
    "def my_model(n_inputs,n_outputs, reg1, reg2):\n",
    "    \"\"\"Sequential neural network\n",
    "    \n",
    "    Returns a compiled instance of tensorflow.keras.models.Model.\n",
    "    \"\"\"\n",
    "    activation = 'swish'\n",
    "\n",
    "    \n",
    "    inputs = Input(shape=(n_inputs, ))\n",
    "    x0 = Dense(256, kernel_regularizer=tf.keras.regularizers.l2(reg1),\n",
    "              activation=activation,\n",
    "             )(inputs)\n",
    "    x1 = Dense(256, kernel_regularizer=tf.keras.regularizers.l2(reg1),\n",
    "              activation=activation,\n",
    "             )(x0)\n",
    "    x2 = Dense(256, kernel_regularizer=tf.keras.regularizers.l2(reg1),\n",
    "              activation=activation,\n",
    "             )(x1)\n",
    "    x3 = Dense(128, kernel_regularizer=tf.keras.regularizers.l2(reg1),\n",
    "              activation=activation,\n",
    "             )(x2)\n",
    "    x = Concatenate()([x0, x1, x2, x3])\n",
    "    x = Dense(n_outputs, kernel_regularizer=tf.keras.regularizers.l2(reg2),\n",
    "              #activation=activation,\n",
    "             )(x)\n",
    "    regressor = Model(inputs, x)\n",
    "    regressor.compile(optimizer=tf.keras.optimizers.Adam(learning_rate=LR_START),\n",
    "                      metrics=[negative_correlation_loss],\n",
    "                      loss=negative_correlation_loss\n",
    "                     )\n",
    "    \n",
    "    return regressor\n",
    "\n",
    "# Cross-validation\n",
    "VERBOSE = 2 # set to 2 for more output, set to 0 for less output\n",
    "EPOCHS = 1000\n",
    "N_SPLITS = 3\n",
    "\n",
    "def fit(X_train, y_train):\n",
    "    np.random.seed(1)\n",
    "    tf.random.set_seed(1)\n",
    "\n",
    "    kf = GroupKFold(n_splits=N_SPLITS)\n",
    "    score_list = []\n",
    "    for fold, (idx_tr, idx_va) in enumerate(kf.split(X_train, groups=meta.donor)):\n",
    "        start_time = datetime.datetime.now()\n",
    "        model = None\n",
    "        gc.collect()\n",
    "        X_tr = X_train[idx_tr]\n",
    "        y_tr = y_train[idx_tr]\n",
    "        X_va = X_train[idx_va]\n",
    "        y_va = y_train[idx_va]\n",
    "\n",
    "        lr = ReduceLROnPlateau(monitor=\"val_loss\", factor=0.5, \n",
    "                              patience=4, verbose=VERBOSE)\n",
    "        es = EarlyStopping(monitor=\"val_loss\",\n",
    "                          patience=12, \n",
    "                          verbose=0,\n",
    "                          mode=\"min\", \n",
    "                          restore_best_weights=True)\n",
    "        callbacks = [lr, es, tf.keras.callbacks.TerminateOnNaN()]\n",
    "\n",
    "        # Construct and compile the model\n",
    "        model = my_model(n_inputs=X_train.shape[1],n_outputs=y_train.shape[1],reg1=reg1,reg2=reg2)\n",
    "\n",
    "        # Train the model\n",
    "        history = model.fit(X_tr, y_tr, \n",
    "                            validation_data=(X_va, y_va), \n",
    "                            epochs=EPOCHS,\n",
    "                            verbose=VERBOSE,\n",
    "                            batch_size=BATCH_SIZE,\n",
    "                            shuffle=True,\n",
    "                            callbacks=callbacks)\n",
    "        del X_tr, y_tr\n",
    "\n",
    "        # We validate the model\n",
    "        y_pred = model.predict(X_va, batch_size=X_va.shape[0])\n",
    "        corrscore = correlation_score(y_va, y_pred)\n",
    "\n",
    "        print(f\"Fold {fold}: {es.stopped_epoch:3} epochs, corr =  {corrscore:.5f}\")\n",
    "        del es, X_va#, y_va, y_va_pred\n",
    "        score_list.append(corrscore)\n",
    "\n",
    "        return model\n",
    "\n",
    "    # Show overall score\n",
    "    print(f\"{Fore.GREEN}{Style.BRIGHT}Average  corr = {np.array(score_list).mean():.5f}{Style.RESET_ALL}\")"
   ]
  },
  {
   "cell_type": "code",
   "execution_count": 2,
   "id": "bc21c4bc-618e-4717-a912-6b7460ffb53e",
   "metadata": {
    "execution": {
     "iopub.execute_input": "2022-10-13T20:37:57.507894Z",
     "iopub.status.busy": "2022-10-13T20:37:57.507476Z",
     "iopub.status.idle": "2022-10-13T20:38:03.157510Z",
     "shell.execute_reply": "2022-10-13T20:38:03.156958Z",
     "shell.execute_reply.started": "2022-10-13T20:37:57.507872Z"
    },
    "tags": []
   },
   "outputs": [
    {
     "name": "stdout",
     "output_type": "stream",
     "text": [
      "/home/jovyan/kaggle/working\n"
     ]
    },
    {
     "ename": "KeyboardInterrupt",
     "evalue": "",
     "output_type": "error",
     "traceback": [
      "\u001b[0;31m---------------------------------------------------------------------------\u001b[0m",
      "\u001b[0;31mKeyboardInterrupt\u001b[0m                         Traceback (most recent call last)",
      "File \u001b[0;32m<timed exec>:3\u001b[0m, in \u001b[0;36m<module>\u001b[0;34m\u001b[0m\n",
      "File \u001b[0;32m/srv/conda/envs/saturn/lib/python3.9/site-packages/scipy/sparse/_matrix_io.py:142\u001b[0m, in \u001b[0;36mload_npz\u001b[0;34m(file)\u001b[0m\n\u001b[1;32m    139\u001b[0m     \u001b[38;5;28;01mraise\u001b[39;00m \u001b[38;5;167;01mValueError\u001b[39;00m(\u001b[38;5;124m'\u001b[39m\u001b[38;5;124mUnknown matrix format \u001b[39m\u001b[38;5;124m\"\u001b[39m\u001b[38;5;132;01m{}\u001b[39;00m\u001b[38;5;124m\"\u001b[39m\u001b[38;5;124m'\u001b[39m\u001b[38;5;241m.\u001b[39mformat(matrix_format)) \u001b[38;5;28;01mfrom\u001b[39;00m \u001b[38;5;21;01me\u001b[39;00m\n\u001b[1;32m    141\u001b[0m \u001b[38;5;28;01mif\u001b[39;00m matrix_format \u001b[38;5;129;01min\u001b[39;00m (\u001b[38;5;124m'\u001b[39m\u001b[38;5;124mcsc\u001b[39m\u001b[38;5;124m'\u001b[39m, \u001b[38;5;124m'\u001b[39m\u001b[38;5;124mcsr\u001b[39m\u001b[38;5;124m'\u001b[39m, \u001b[38;5;124m'\u001b[39m\u001b[38;5;124mbsr\u001b[39m\u001b[38;5;124m'\u001b[39m):\n\u001b[0;32m--> 142\u001b[0m     \u001b[38;5;28;01mreturn\u001b[39;00m \u001b[38;5;28mcls\u001b[39m((loaded[\u001b[38;5;124m'\u001b[39m\u001b[38;5;124mdata\u001b[39m\u001b[38;5;124m'\u001b[39m], \u001b[43mloaded\u001b[49m\u001b[43m[\u001b[49m\u001b[38;5;124;43m'\u001b[39;49m\u001b[38;5;124;43mindices\u001b[39;49m\u001b[38;5;124;43m'\u001b[39;49m\u001b[43m]\u001b[49m, loaded[\u001b[38;5;124m'\u001b[39m\u001b[38;5;124mindptr\u001b[39m\u001b[38;5;124m'\u001b[39m]), shape\u001b[38;5;241m=\u001b[39mloaded[\u001b[38;5;124m'\u001b[39m\u001b[38;5;124mshape\u001b[39m\u001b[38;5;124m'\u001b[39m])\n\u001b[1;32m    143\u001b[0m \u001b[38;5;28;01melif\u001b[39;00m matrix_format \u001b[38;5;241m==\u001b[39m \u001b[38;5;124m'\u001b[39m\u001b[38;5;124mdia\u001b[39m\u001b[38;5;124m'\u001b[39m:\n\u001b[1;32m    144\u001b[0m     \u001b[38;5;28;01mreturn\u001b[39;00m \u001b[38;5;28mcls\u001b[39m((loaded[\u001b[38;5;124m'\u001b[39m\u001b[38;5;124mdata\u001b[39m\u001b[38;5;124m'\u001b[39m], loaded[\u001b[38;5;124m'\u001b[39m\u001b[38;5;124moffsets\u001b[39m\u001b[38;5;124m'\u001b[39m]), shape\u001b[38;5;241m=\u001b[39mloaded[\u001b[38;5;124m'\u001b[39m\u001b[38;5;124mshape\u001b[39m\u001b[38;5;124m'\u001b[39m])\n",
      "File \u001b[0;32m/srv/conda/envs/saturn/lib/python3.9/site-packages/numpy/lib/npyio.py:254\u001b[0m, in \u001b[0;36mNpzFile.__getitem__\u001b[0;34m(self, key)\u001b[0m\n\u001b[1;32m    252\u001b[0m \u001b[38;5;28;01mif\u001b[39;00m magic \u001b[38;5;241m==\u001b[39m \u001b[38;5;28mformat\u001b[39m\u001b[38;5;241m.\u001b[39mMAGIC_PREFIX:\n\u001b[1;32m    253\u001b[0m     \u001b[38;5;28mbytes\u001b[39m \u001b[38;5;241m=\u001b[39m \u001b[38;5;28mself\u001b[39m\u001b[38;5;241m.\u001b[39mzip\u001b[38;5;241m.\u001b[39mopen(key)\n\u001b[0;32m--> 254\u001b[0m     \u001b[38;5;28;01mreturn\u001b[39;00m \u001b[38;5;28;43mformat\u001b[39;49m\u001b[38;5;241;43m.\u001b[39;49m\u001b[43mread_array\u001b[49m\u001b[43m(\u001b[49m\u001b[38;5;28;43mbytes\u001b[39;49m\u001b[43m,\u001b[49m\n\u001b[1;32m    255\u001b[0m \u001b[43m                             \u001b[49m\u001b[43mallow_pickle\u001b[49m\u001b[38;5;241;43m=\u001b[39;49m\u001b[38;5;28;43mself\u001b[39;49m\u001b[38;5;241;43m.\u001b[39;49m\u001b[43mallow_pickle\u001b[49m\u001b[43m,\u001b[49m\n\u001b[1;32m    256\u001b[0m \u001b[43m                             \u001b[49m\u001b[43mpickle_kwargs\u001b[49m\u001b[38;5;241;43m=\u001b[39;49m\u001b[38;5;28;43mself\u001b[39;49m\u001b[38;5;241;43m.\u001b[39;49m\u001b[43mpickle_kwargs\u001b[49m\u001b[43m)\u001b[49m\n\u001b[1;32m    257\u001b[0m \u001b[38;5;28;01melse\u001b[39;00m:\n\u001b[1;32m    258\u001b[0m     \u001b[38;5;28;01mreturn\u001b[39;00m \u001b[38;5;28mself\u001b[39m\u001b[38;5;241m.\u001b[39mzip\u001b[38;5;241m.\u001b[39mread(key)\n",
      "File \u001b[0;32m/srv/conda/envs/saturn/lib/python3.9/site-packages/numpy/lib/format.py:779\u001b[0m, in \u001b[0;36mread_array\u001b[0;34m(fp, allow_pickle, pickle_kwargs)\u001b[0m\n\u001b[1;32m    777\u001b[0m             read_count \u001b[38;5;241m=\u001b[39m \u001b[38;5;28mmin\u001b[39m(max_read_count, count \u001b[38;5;241m-\u001b[39m i)\n\u001b[1;32m    778\u001b[0m             read_size \u001b[38;5;241m=\u001b[39m \u001b[38;5;28mint\u001b[39m(read_count \u001b[38;5;241m*\u001b[39m dtype\u001b[38;5;241m.\u001b[39mitemsize)\n\u001b[0;32m--> 779\u001b[0m             data \u001b[38;5;241m=\u001b[39m \u001b[43m_read_bytes\u001b[49m\u001b[43m(\u001b[49m\u001b[43mfp\u001b[49m\u001b[43m,\u001b[49m\u001b[43m \u001b[49m\u001b[43mread_size\u001b[49m\u001b[43m,\u001b[49m\u001b[43m \u001b[49m\u001b[38;5;124;43m\"\u001b[39;49m\u001b[38;5;124;43marray data\u001b[39;49m\u001b[38;5;124;43m\"\u001b[39;49m\u001b[43m)\u001b[49m\n\u001b[1;32m    780\u001b[0m             array[i:i\u001b[38;5;241m+\u001b[39mread_count] \u001b[38;5;241m=\u001b[39m numpy\u001b[38;5;241m.\u001b[39mfrombuffer(data, dtype\u001b[38;5;241m=\u001b[39mdtype,\n\u001b[1;32m    781\u001b[0m                                                      count\u001b[38;5;241m=\u001b[39mread_count)\n\u001b[1;32m    783\u001b[0m \u001b[38;5;28;01mif\u001b[39;00m fortran_order:\n",
      "File \u001b[0;32m/srv/conda/envs/saturn/lib/python3.9/site-packages/numpy/lib/format.py:908\u001b[0m, in \u001b[0;36m_read_bytes\u001b[0;34m(fp, size, error_template)\u001b[0m\n\u001b[1;32m    903\u001b[0m \u001b[38;5;28;01mwhile\u001b[39;00m \u001b[38;5;28;01mTrue\u001b[39;00m:\n\u001b[1;32m    904\u001b[0m     \u001b[38;5;66;03m# io files (default in python3) return None or raise on\u001b[39;00m\n\u001b[1;32m    905\u001b[0m     \u001b[38;5;66;03m# would-block, python2 file will truncate, probably nothing can be\u001b[39;00m\n\u001b[1;32m    906\u001b[0m     \u001b[38;5;66;03m# done about that.  note that regular files can't be non-blocking\u001b[39;00m\n\u001b[1;32m    907\u001b[0m     \u001b[38;5;28;01mtry\u001b[39;00m:\n\u001b[0;32m--> 908\u001b[0m         r \u001b[38;5;241m=\u001b[39m \u001b[43mfp\u001b[49m\u001b[38;5;241;43m.\u001b[39;49m\u001b[43mread\u001b[49m\u001b[43m(\u001b[49m\u001b[43msize\u001b[49m\u001b[43m \u001b[49m\u001b[38;5;241;43m-\u001b[39;49m\u001b[43m \u001b[49m\u001b[38;5;28;43mlen\u001b[39;49m\u001b[43m(\u001b[49m\u001b[43mdata\u001b[49m\u001b[43m)\u001b[49m\u001b[43m)\u001b[49m\n\u001b[1;32m    909\u001b[0m         data \u001b[38;5;241m+\u001b[39m\u001b[38;5;241m=\u001b[39m r\n\u001b[1;32m    910\u001b[0m         \u001b[38;5;28;01mif\u001b[39;00m \u001b[38;5;28mlen\u001b[39m(r) \u001b[38;5;241m==\u001b[39m \u001b[38;5;241m0\u001b[39m \u001b[38;5;129;01mor\u001b[39;00m \u001b[38;5;28mlen\u001b[39m(data) \u001b[38;5;241m==\u001b[39m size:\n",
      "File \u001b[0;32m/srv/conda/envs/saturn/lib/python3.9/zipfile.py:924\u001b[0m, in \u001b[0;36mZipExtFile.read\u001b[0;34m(self, n)\u001b[0m\n\u001b[1;32m    922\u001b[0m \u001b[38;5;28mself\u001b[39m\u001b[38;5;241m.\u001b[39m_offset \u001b[38;5;241m=\u001b[39m \u001b[38;5;241m0\u001b[39m\n\u001b[1;32m    923\u001b[0m \u001b[38;5;28;01mwhile\u001b[39;00m n \u001b[38;5;241m>\u001b[39m \u001b[38;5;241m0\u001b[39m \u001b[38;5;129;01mand\u001b[39;00m \u001b[38;5;129;01mnot\u001b[39;00m \u001b[38;5;28mself\u001b[39m\u001b[38;5;241m.\u001b[39m_eof:\n\u001b[0;32m--> 924\u001b[0m     data \u001b[38;5;241m=\u001b[39m \u001b[38;5;28;43mself\u001b[39;49m\u001b[38;5;241;43m.\u001b[39;49m\u001b[43m_read1\u001b[49m\u001b[43m(\u001b[49m\u001b[43mn\u001b[49m\u001b[43m)\u001b[49m\n\u001b[1;32m    925\u001b[0m     \u001b[38;5;28;01mif\u001b[39;00m n \u001b[38;5;241m<\u001b[39m \u001b[38;5;28mlen\u001b[39m(data):\n\u001b[1;32m    926\u001b[0m         \u001b[38;5;28mself\u001b[39m\u001b[38;5;241m.\u001b[39m_readbuffer \u001b[38;5;241m=\u001b[39m data\n",
      "File \u001b[0;32m/srv/conda/envs/saturn/lib/python3.9/zipfile.py:1000\u001b[0m, in \u001b[0;36mZipExtFile._read1\u001b[0;34m(self, n)\u001b[0m\n\u001b[1;32m    998\u001b[0m \u001b[38;5;28;01melif\u001b[39;00m \u001b[38;5;28mself\u001b[39m\u001b[38;5;241m.\u001b[39m_compress_type \u001b[38;5;241m==\u001b[39m ZIP_DEFLATED:\n\u001b[1;32m    999\u001b[0m     n \u001b[38;5;241m=\u001b[39m \u001b[38;5;28mmax\u001b[39m(n, \u001b[38;5;28mself\u001b[39m\u001b[38;5;241m.\u001b[39mMIN_READ_SIZE)\n\u001b[0;32m-> 1000\u001b[0m     data \u001b[38;5;241m=\u001b[39m \u001b[38;5;28;43mself\u001b[39;49m\u001b[38;5;241;43m.\u001b[39;49m\u001b[43m_decompressor\u001b[49m\u001b[38;5;241;43m.\u001b[39;49m\u001b[43mdecompress\u001b[49m\u001b[43m(\u001b[49m\u001b[43mdata\u001b[49m\u001b[43m,\u001b[49m\u001b[43m \u001b[49m\u001b[43mn\u001b[49m\u001b[43m)\u001b[49m\n\u001b[1;32m   1001\u001b[0m     \u001b[38;5;28mself\u001b[39m\u001b[38;5;241m.\u001b[39m_eof \u001b[38;5;241m=\u001b[39m (\u001b[38;5;28mself\u001b[39m\u001b[38;5;241m.\u001b[39m_decompressor\u001b[38;5;241m.\u001b[39meof \u001b[38;5;129;01mor\u001b[39;00m\n\u001b[1;32m   1002\u001b[0m                  \u001b[38;5;28mself\u001b[39m\u001b[38;5;241m.\u001b[39m_compress_left \u001b[38;5;241m<\u001b[39m\u001b[38;5;241m=\u001b[39m \u001b[38;5;241m0\u001b[39m \u001b[38;5;129;01mand\u001b[39;00m\n\u001b[1;32m   1003\u001b[0m                  \u001b[38;5;129;01mnot\u001b[39;00m \u001b[38;5;28mself\u001b[39m\u001b[38;5;241m.\u001b[39m_decompressor\u001b[38;5;241m.\u001b[39munconsumed_tail)\n\u001b[1;32m   1004\u001b[0m     \u001b[38;5;28;01mif\u001b[39;00m \u001b[38;5;28mself\u001b[39m\u001b[38;5;241m.\u001b[39m_eof:\n",
      "\u001b[0;31mKeyboardInterrupt\u001b[0m: "
     ]
    }
   ],
   "source": [
    "%%time\n",
    "\n",
    "%cd /home/jovyan/kaggle/working\n",
    "\n",
    "X_train = scipy.sparse.load_npz('./sparse/train_cite_inputs_values.sparse.npz')\n",
    "\n",
    "to_drop = np.genfromtxt(\"./sparse/drop_ids.csv\", delimiter=',', dtype = int)\n",
    "X_train = delete_columns_csr(X_train,to_drop)\n",
    "\n",
    "print(f\"X shape: {str(X_train.shape):14} {X_train.size*4/1024/1024/1024:2.3f} GByte\")\n",
    "\n",
    "with np.load('./sparse/train_cite_inputs_idxcol.npz',allow_pickle=True) as data:\n",
    "    cell_index = data['index']\n",
    "\n",
    "metadata_df = pd.read_csv('../input/open-problems-multimodal/metadata.csv', index_col='cell_id')\n",
    "metadata_df = metadata_df[metadata_df.technology==\"citeseq\"]\n",
    "meta = metadata_df.reindex(cell_index)\n",
    "\n",
    "X_test = scipy.sparse.load_npz('./sparse/test_cite_inputs_values.sparse.npz')\n",
    "\n",
    "X_test = delete_columns_csr(X_test,to_drop)\n",
    "\n",
    "with np.load('./sparse/test_cite_inputs_idxcol.npz',allow_pickle=True) as data:\n",
    "    cell_index_t = data['index']\n",
    "\n",
    "meta_t = metadata_df.reindex(cell_index_t)\n",
    "\n",
    "# Apply the singular value decomposition\n",
    "both = scipy.sparse.vstack([X_train, X_test])\n",
    "assert both.shape[0] == 119651\n",
    "print(f\"Shape of both before SVD: {both.shape}\")\n",
    "\n",
    "rpca = r_pca.R_pca(both,128)\n",
    "both = rpca.fit(max_iter=5, iter_print=1)\n",
    "\n",
    "#print(f\"Saving checkpoint\")\n",
    "\n",
    "#np.savetxt(\"both.csv\", both, delimiter=\",\")\n",
    "\n",
    "#print(f\"Starting SVD\")\n",
    "\n",
    "#svd = TruncatedSVD(n_components=128, random_state=1) # 512 is possible\n",
    "#both = svd.fit_transform(both)\n",
    "print(f\"Shape of both after SVD:  {both.shape}\")\n",
    "    \n",
    "# Hstack the svd output with the important features\n",
    "X_train_svd = both[:70988]\n",
    "X_test_svd = both[70988:]\n",
    "del both\n",
    "#X = np.hstack([X, X0])\n",
    "#Xt = np.hstack([Xt, X0t])\n",
    "print(f\"Reduced X shape:  {str(X_train_svd.shape):14} {X_train_svd.size*4/1024/1024/1024:2.3f} GByte\")\n",
    "print(f\"Reduced Xt shape: {str(X_test_svd.shape):14} {X_test_svd.size*4/1024/1024/1024:2.3f} GByte\")\n",
    "\n",
    "%mkdir RPCA_data\n",
    "%cd RPCA_data\n",
    "np.savetxt(\"cite_train_RPCA.csv\", X_train_svd, delimiter=\",\")\n",
    "np.savetxt(\"cite_test_RPCA.csv\", X_test_svd, delimiter=\",\")"
   ]
  },
  {
   "cell_type": "code",
   "execution_count": 2,
   "id": "13bce741-91b5-4ab6-a69e-ce377ce34bcd",
   "metadata": {
    "execution": {
     "iopub.execute_input": "2022-10-13T22:51:39.999602Z",
     "iopub.status.busy": "2022-10-13T22:51:39.999144Z",
     "iopub.status.idle": "2022-10-13T22:52:09.642808Z",
     "shell.execute_reply": "2022-10-13T22:52:09.642220Z",
     "shell.execute_reply.started": "2022-10-13T22:51:39.999576Z"
    },
    "tags": []
   },
   "outputs": [
    {
     "name": "stdout",
     "output_type": "stream",
     "text": [
      "/home/jovyan/kaggle/working\n",
      "X shape: (70988, 21601) 1.283 GByte\n",
      "Shape of both before SVD: (119651, 21601)\n",
      "554.1250846866038\n",
      "0.0028909583422683546\n",
      "0.010944092187499999\n",
      "CPU times: user 25 s, sys: 4.59 s, total: 29.6 s\n",
      "Wall time: 29.6 s\n"
     ]
    }
   ],
   "source": [
    "%%time\n",
    "\n",
    "%cd /home/jovyan/kaggle/working\n",
    "\n",
    "X_train = scipy.sparse.load_npz('./sparse/train_cite_inputs_values.sparse.npz')\n",
    "\n",
    "to_drop = np.genfromtxt(\"./sparse/drop_ids.csv\", delimiter=',', dtype = int)\n",
    "X_train = delete_columns_csr(X_train,to_drop)\n",
    "\n",
    "print(f\"X shape: {str(X_train.shape):14} {X_train.size*4/1024/1024/1024:2.3f} GByte\")\n",
    "\n",
    "with np.load('./sparse/train_cite_inputs_idxcol.npz',allow_pickle=True) as data:\n",
    "    cell_index = data['index']\n",
    "\n",
    "metadata_df = pd.read_csv('../input/open-problems-multimodal/metadata.csv', index_col='cell_id')\n",
    "metadata_df = metadata_df[metadata_df.technology==\"citeseq\"]\n",
    "meta = metadata_df.reindex(cell_index)\n",
    "\n",
    "X_test = scipy.sparse.load_npz('./sparse/test_cite_inputs_values.sparse.npz')\n",
    "\n",
    "X_test = delete_columns_csr(X_test,to_drop)\n",
    "\n",
    "with np.load('./sparse/test_cite_inputs_idxcol.npz',allow_pickle=True) as data:\n",
    "    cell_index_t = data['index']\n",
    "\n",
    "meta_t = metadata_df.reindex(cell_index_t)\n",
    "\n",
    "# Apply the singular value decomposition\n",
    "both = scipy.sparse.vstack([X_train, X_test])\n",
    "assert both.shape[0] == 119651\n",
    "print(f\"Shape of both before SVD: {both.shape}\")\n",
    "\n",
    "# rpca = r_pca.R_pca(both,128)\n",
    "# both = rpca.fit(max_iter=5, iter_print=1)\n",
    "\n",
    "from scipy.sparse import csr_matrix, linalg, diags\n",
    "\n",
    "S = csr_matrix(both.shape)\n",
    "Y = csr_matrix(both.shape)\n",
    "\n",
    "mu = np.prod(both.shape) / (4 * linalg.norm(both, ord=1))\n",
    "print(mu)\n",
    "lmbda = 1 / np.sqrt(np.max(both.shape))\n",
    "print(lmbda)\n",
    "mu_inv = 1 / mu\n",
    "\n",
    "iter = 0\n",
    "err = np.Inf\n",
    "Sk = S\n",
    "Yk = Y\n",
    "Lk = csr_matrix(both.shape)\n",
    "\n",
    "_tol = 1E-7 * linalg.norm(both, ord='fro')\n",
    "print(_tol)"
   ]
  },
  {
   "cell_type": "code",
   "execution_count": 3,
   "id": "17cd85cf-50da-40d4-9d6b-a1e24bc71b95",
   "metadata": {
    "execution": {
     "iopub.execute_input": "2022-10-13T20:38:59.371949Z",
     "iopub.status.busy": "2022-10-13T20:38:59.371677Z",
     "iopub.status.idle": "2022-10-13T20:58:10.302466Z",
     "shell.execute_reply": "2022-10-13T20:58:10.301786Z",
     "shell.execute_reply.started": "2022-10-13T20:38:59.371931Z"
    },
    "tags": []
   },
   "outputs": [
    {
     "name": "stdout",
     "output_type": "stream",
     "text": [
      "CPU times: user 1h 1min 16s, sys: 2min 55s, total: 1h 4min 11s\n",
      "Wall time: 19min 10s\n"
     ]
    }
   ],
   "source": [
    "%%time\n",
    "U, S, V = linalg.svds(both,128)"
   ]
  },
  {
   "cell_type": "code",
   "execution_count": 4,
   "id": "55a4bf21-f907-45aa-b677-5160bf289e59",
   "metadata": {
    "execution": {
     "iopub.execute_input": "2022-10-13T20:58:10.303632Z",
     "iopub.status.busy": "2022-10-13T20:58:10.303335Z",
     "iopub.status.idle": "2022-10-13T20:58:24.924474Z",
     "shell.execute_reply": "2022-10-13T20:58:24.923755Z",
     "shell.execute_reply.started": "2022-10-13T20:58:10.303613Z"
    },
    "tags": []
   },
   "outputs": [
    {
     "name": "stdout",
     "output_type": "stream",
     "text": [
      "mkdir: cannot create directory ‘RPCA_data’: File exists\n",
      "/home/jovyan/kaggle/working/RPCA_data\n"
     ]
    }
   ],
   "source": [
    "%mkdir RPCA_data\n",
    "%cd RPCA_data\n",
    "np.savetxt(\"U1.csv\", U, delimiter=\",\")\n",
    "np.savetxt(\"S1.csv\", S, delimiter=\",\")\n",
    "np.savetxt(\"V1.csv\", V, delimiter=\",\")"
   ]
  },
  {
   "cell_type": "code",
   "execution_count": 3,
   "id": "9bd7e641-4bb7-4632-a4e8-3500ad4b8e4c",
   "metadata": {
    "execution": {
     "iopub.execute_input": "2022-10-13T21:13:53.830117Z",
     "iopub.status.busy": "2022-10-13T21:13:53.829831Z",
     "iopub.status.idle": "2022-10-13T21:14:15.620409Z",
     "shell.execute_reply": "2022-10-13T21:14:15.619788Z",
     "shell.execute_reply.started": "2022-10-13T21:13:53.830097Z"
    },
    "tags": []
   },
   "outputs": [
    {
     "name": "stdout",
     "output_type": "stream",
     "text": [
      "/home/jovyan/kaggle/working/RPCA_data\n"
     ]
    }
   ],
   "source": [
    "%cd /home/jovyan/kaggle/working/RPCA_data\n",
    "\n",
    "U = np.genfromtxt(\"U1.csv\", delimiter=',')\n",
    "S = np.genfromtxt(\"S1.csv\", delimiter=',')\n",
    "V = np.genfromtxt(\"V1.csv\", delimiter=',')"
   ]
  },
  {
   "cell_type": "code",
   "execution_count": 4,
   "id": "fa4a4e02-be21-4d18-a7ed-c44c0032d42a",
   "metadata": {
    "execution": {
     "iopub.execute_input": "2022-10-13T21:14:15.621390Z",
     "iopub.status.busy": "2022-10-13T21:14:15.621174Z",
     "iopub.status.idle": "2022-10-13T21:14:15.624692Z",
     "shell.execute_reply": "2022-10-13T21:14:15.624192Z",
     "shell.execute_reply.started": "2022-10-13T21:14:15.621371Z"
    },
    "tags": []
   },
   "outputs": [],
   "source": [
    "S = np.sign(S) * np.maximum((np.abs(S) - mu_inv), np.zeros(S.shape))"
   ]
  },
  {
   "cell_type": "code",
   "execution_count": 5,
   "id": "334841e3-155c-4065-ae9d-5a49f916f7ca",
   "metadata": {
    "execution": {
     "iopub.execute_input": "2022-10-13T21:14:15.626234Z",
     "iopub.status.busy": "2022-10-13T21:14:15.625894Z",
     "iopub.status.idle": "2022-10-13T21:14:15.633932Z",
     "shell.execute_reply": "2022-10-13T21:14:15.633469Z",
     "shell.execute_reply.started": "2022-10-13T21:14:15.626215Z"
    }
   },
   "outputs": [
    {
     "data": {
      "text/plain": [
       "<128x128 sparse matrix of type '<class 'numpy.float64'>'\n",
       "\twith 128 stored elements (1 diagonals) in DIAgonal format>"
      ]
     },
     "execution_count": 5,
     "metadata": {},
     "output_type": "execute_result"
    }
   ],
   "source": [
    "diags(S)"
   ]
  },
  {
   "cell_type": "code",
   "execution_count": 6,
   "id": "953ff2ab-4be4-48f3-887d-885ecde07104",
   "metadata": {
    "execution": {
     "iopub.execute_input": "2022-10-13T21:14:15.634704Z",
     "iopub.status.busy": "2022-10-13T21:14:15.634521Z",
     "iopub.status.idle": "2022-10-13T21:14:16.558356Z",
     "shell.execute_reply": "2022-10-13T21:14:16.557668Z",
     "shell.execute_reply.started": "2022-10-13T21:14:15.634688Z"
    },
    "tags": []
   },
   "outputs": [],
   "source": [
    "L = U @ (diags(S) @ V)"
   ]
  },
  {
   "cell_type": "code",
   "execution_count": 7,
   "id": "c8aa721d-fc4c-4f8e-af29-30189d2e47bf",
   "metadata": {
    "execution": {
     "iopub.execute_input": "2022-10-13T21:14:16.559592Z",
     "iopub.status.busy": "2022-10-13T21:14:16.559295Z",
     "iopub.status.idle": "2022-10-13T21:14:16.570467Z",
     "shell.execute_reply": "2022-10-13T21:14:16.569896Z",
     "shell.execute_reply.started": "2022-10-13T21:14:16.559570Z"
    },
    "tags": []
   },
   "outputs": [],
   "source": [
    "del U,S,V"
   ]
  },
  {
   "cell_type": "code",
   "execution_count": 8,
   "id": "ba5301d9-1024-4ada-9990-91d17051ece1",
   "metadata": {
    "execution": {
     "iopub.execute_input": "2022-10-13T21:14:16.571504Z",
     "iopub.status.busy": "2022-10-13T21:14:16.571244Z",
     "iopub.status.idle": "2022-10-13T21:14:16.577361Z",
     "shell.execute_reply": "2022-10-13T21:14:16.576836Z",
     "shell.execute_reply.started": "2022-10-13T21:14:16.571484Z"
    },
    "tags": []
   },
   "outputs": [
    {
     "data": {
      "text/plain": [
       "array([[ 5.71700132e-02,  1.41978933e-01, -1.00791496e-02, ...,\n",
       "         3.54053240e-01,  2.17319636e+00,  4.84886417e-01],\n",
       "       [ 5.18036978e-02,  2.64625574e-01,  4.12810565e-02, ...,\n",
       "         4.56472119e-01,  2.06278105e+00,  2.96084534e-01],\n",
       "       [ 5.68016423e-02,  1.32965517e-01, -5.24839109e-03, ...,\n",
       "         1.51795016e+00,  7.31147382e-01,  7.78359985e-01],\n",
       "       ...,\n",
       "       [ 8.50840442e-02,  1.82267394e-01,  5.10552254e-02, ...,\n",
       "         1.67171957e+00,  6.17618056e+00,  1.29554421e+00],\n",
       "       [ 1.12634205e-01,  2.31315162e-01, -3.81147472e-02, ...,\n",
       "         2.09271656e+00,  9.27427763e-01,  1.19581842e+00],\n",
       "       [ 2.69219342e-02,  9.98982313e-02, -8.56521756e-03, ...,\n",
       "         1.70526248e+00,  1.27825704e+00,  1.14548244e+00]])"
      ]
     },
     "execution_count": 8,
     "metadata": {},
     "output_type": "execute_result"
    }
   ],
   "source": [
    "L"
   ]
  },
  {
   "cell_type": "code",
   "execution_count": 9,
   "id": "d188bfa8-8c61-4c37-a5b7-d7026d88650f",
   "metadata": {
    "execution": {
     "iopub.execute_input": "2022-10-13T21:14:16.578287Z",
     "iopub.status.busy": "2022-10-13T21:14:16.578041Z",
     "iopub.status.idle": "2022-10-13T21:14:25.681718Z",
     "shell.execute_reply": "2022-10-13T21:14:25.681106Z",
     "shell.execute_reply.started": "2022-10-13T21:14:16.578269Z"
    },
    "tags": []
   },
   "outputs": [],
   "source": [
    "both_dense = both.toarray()\n",
    "del both"
   ]
  },
  {
   "cell_type": "code",
   "execution_count": 10,
   "id": "5a531309-73c2-46ad-8505-51bcf8cdc459",
   "metadata": {
    "execution": {
     "iopub.execute_input": "2022-10-13T21:14:25.682854Z",
     "iopub.status.busy": "2022-10-13T21:14:25.682527Z",
     "iopub.status.idle": "2022-10-13T21:15:03.641705Z",
     "shell.execute_reply": "2022-10-13T21:15:03.641088Z",
     "shell.execute_reply.started": "2022-10-13T21:14:25.682831Z"
    },
    "tags": []
   },
   "outputs": [],
   "source": [
    "def shrink(M,tau):\n",
    "    return np.sign(M) * np.maximum((np.abs(M) - tau), np.zeros(M.shape))\n",
    "S = shrink(both_dense - L, mu_inv * lmbda)"
   ]
  },
  {
   "cell_type": "code",
   "execution_count": 11,
   "id": "328b39e9-a75d-43f9-aa6a-4bad3adb2899",
   "metadata": {
    "execution": {
     "iopub.execute_input": "2022-10-13T21:15:03.643720Z",
     "iopub.status.busy": "2022-10-13T21:15:03.643426Z",
     "iopub.status.idle": "2022-10-13T21:15:14.108799Z",
     "shell.execute_reply": "2022-10-13T21:15:14.108178Z",
     "shell.execute_reply.started": "2022-10-13T21:15:03.643697Z"
    },
    "tags": []
   },
   "outputs": [],
   "source": [
    "Y = (both_dense - L - S)"
   ]
  },
  {
   "cell_type": "code",
   "execution_count": 12,
   "id": "c1e6e3cd-1f04-4751-9dea-ba74c57ca146",
   "metadata": {
    "execution": {
     "iopub.execute_input": "2022-10-13T21:15:14.109811Z",
     "iopub.status.busy": "2022-10-13T21:15:14.109589Z",
     "iopub.status.idle": "2022-10-13T21:15:14.294275Z",
     "shell.execute_reply": "2022-10-13T21:15:14.293647Z",
     "shell.execute_reply.started": "2022-10-13T21:15:14.109792Z"
    },
    "tags": []
   },
   "outputs": [
    {
     "name": "stdout",
     "output_type": "stream",
     "text": [
      "0.26521953537997084\n"
     ]
    }
   ],
   "source": [
    "err = np.linalg.norm(Y, ord='fro')\n",
    "print(err)"
   ]
  },
  {
   "cell_type": "code",
   "execution_count": null,
   "id": "55d64c52-7128-443b-863a-020f153eb138",
   "metadata": {
    "execution": {
     "iopub.execute_input": "2022-10-13T21:15:14.295381Z",
     "iopub.status.busy": "2022-10-13T21:15:14.295107Z"
    },
    "tags": []
   },
   "outputs": [],
   "source": [
    "Y = mu*Y"
   ]
  },
  {
   "cell_type": "code",
   "execution_count": null,
   "id": "6e03629d-6d3f-4f60-bc7a-243604e71111",
   "metadata": {
    "execution": {
     "iopub.execute_input": "2022-10-13T21:15:20.185014Z",
     "iopub.status.busy": "2022-10-13T21:15:20.184732Z"
    },
    "tags": []
   },
   "outputs": [],
   "source": [
    "U, Sd, V = linalg.svds(both_dense - S + mu_inv * Y,128)\n",
    "np.savetxt(\"U2.csv\", U, delimiter=\",\")\n",
    "np.savetxt(\"S2.csv\", Sd, delimiter=\",\")\n",
    "np.savetxt(\"V2.csv\", V, delimiter=\",\")"
   ]
  },
  {
   "cell_type": "code",
   "execution_count": 12,
   "id": "68429bf3-6d33-4965-ab3a-c1ec3a96e019",
   "metadata": {
    "execution": {
     "iopub.execute_input": "2022-10-13T21:32:40.888945Z",
     "iopub.status.busy": "2022-10-13T21:32:40.888578Z",
     "iopub.status.idle": "2022-10-13T21:32:40.892870Z",
     "shell.execute_reply": "2022-10-13T21:32:40.892388Z",
     "shell.execute_reply.started": "2022-10-13T21:32:40.888922Z"
    },
    "tags": []
   },
   "outputs": [
    {
     "data": {
      "text/plain": [
       "scipy.sparse._csr.csr_matrix"
      ]
     },
     "execution_count": 12,
     "metadata": {},
     "output_type": "execute_result"
    }
   ],
   "source": [
    "type(Y)"
   ]
  },
  {
   "cell_type": "code",
   "execution_count": 4,
   "id": "afdeafac-3654-4503-9450-611e2504f736",
   "metadata": {
    "execution": {
     "iopub.execute_input": "2022-10-13T21:46:36.837574Z",
     "iopub.status.busy": "2022-10-13T21:46:36.837249Z",
     "iopub.status.idle": "2022-10-13T22:03:27.117345Z",
     "shell.execute_reply": "2022-10-13T22:03:27.116531Z",
     "shell.execute_reply.started": "2022-10-13T21:46:36.837553Z"
    },
    "tags": []
   },
   "outputs": [
    {
     "name": "stdout",
     "output_type": "stream",
     "text": [
      "/home/jovyan/kaggle/working/RPCA_data\n"
     ]
    },
    {
     "ename": "OSError",
     "evalue": "[Errno 28] No space left on device",
     "output_type": "error",
     "traceback": [
      "\u001b[0;31m---------------------------------------------------------------------------\u001b[0m",
      "\u001b[0;31mOSError\u001b[0m                                   Traceback (most recent call last)",
      "Input \u001b[0;32mIn [4]\u001b[0m, in \u001b[0;36m<cell line: 17>\u001b[0;34m()\u001b[0m\n\u001b[1;32m     14\u001b[0m S \u001b[38;5;241m=\u001b[39m shrink(both_dense \u001b[38;5;241m-\u001b[39m L, mu_inv \u001b[38;5;241m*\u001b[39m lmbda)\n\u001b[1;32m     15\u001b[0m Y \u001b[38;5;241m=\u001b[39m (both_dense \u001b[38;5;241m-\u001b[39m L \u001b[38;5;241m-\u001b[39m S)\n\u001b[0;32m---> 17\u001b[0m \u001b[43mnp\u001b[49m\u001b[38;5;241;43m.\u001b[39;49m\u001b[43msavetxt\u001b[49m\u001b[43m(\u001b[49m\u001b[38;5;124;43m\"\u001b[39;49m\u001b[38;5;124;43mY1.csv\u001b[39;49m\u001b[38;5;124;43m\"\u001b[39;49m\u001b[43m,\u001b[49m\u001b[43m \u001b[49m\u001b[43mY\u001b[49m\u001b[43m,\u001b[49m\u001b[43m \u001b[49m\u001b[43mdelimiter\u001b[49m\u001b[38;5;241;43m=\u001b[39;49m\u001b[38;5;124;43m\"\u001b[39;49m\u001b[38;5;124;43m,\u001b[39;49m\u001b[38;5;124;43m\"\u001b[39;49m\u001b[43m)\u001b[49m\n",
      "File \u001b[0;32m<__array_function__ internals>:5\u001b[0m, in \u001b[0;36msavetxt\u001b[0;34m(*args, **kwargs)\u001b[0m\n",
      "File \u001b[0;32m/srv/conda/envs/saturn/lib/python3.9/site-packages/numpy/lib/npyio.py:1440\u001b[0m, in \u001b[0;36msavetxt\u001b[0;34m(fname, X, fmt, delimiter, newline, header, footer, comments, encoding)\u001b[0m\n\u001b[1;32m   1436\u001b[0m         \u001b[38;5;28;01mexcept\u001b[39;00m \u001b[38;5;167;01mTypeError\u001b[39;00m \u001b[38;5;28;01mas\u001b[39;00m e:\n\u001b[1;32m   1437\u001b[0m             \u001b[38;5;28;01mraise\u001b[39;00m \u001b[38;5;167;01mTypeError\u001b[39;00m(\u001b[38;5;124m\"\u001b[39m\u001b[38;5;124mMismatch between array dtype (\u001b[39m\u001b[38;5;124m'\u001b[39m\u001b[38;5;132;01m%s\u001b[39;00m\u001b[38;5;124m'\u001b[39m\u001b[38;5;124m) and \u001b[39m\u001b[38;5;124m\"\u001b[39m\n\u001b[1;32m   1438\u001b[0m                             \u001b[38;5;124m\"\u001b[39m\u001b[38;5;124mformat specifier (\u001b[39m\u001b[38;5;124m'\u001b[39m\u001b[38;5;132;01m%s\u001b[39;00m\u001b[38;5;124m'\u001b[39m\u001b[38;5;124m)\u001b[39m\u001b[38;5;124m\"\u001b[39m\n\u001b[1;32m   1439\u001b[0m                             \u001b[38;5;241m%\u001b[39m (\u001b[38;5;28mstr\u001b[39m(X\u001b[38;5;241m.\u001b[39mdtype), \u001b[38;5;28mformat\u001b[39m)) \u001b[38;5;28;01mfrom\u001b[39;00m \u001b[38;5;21;01me\u001b[39;00m\n\u001b[0;32m-> 1440\u001b[0m         \u001b[43mfh\u001b[49m\u001b[38;5;241;43m.\u001b[39;49m\u001b[43mwrite\u001b[49m\u001b[43m(\u001b[49m\u001b[43mv\u001b[49m\u001b[43m)\u001b[49m\n\u001b[1;32m   1442\u001b[0m \u001b[38;5;28;01mif\u001b[39;00m \u001b[38;5;28mlen\u001b[39m(footer) \u001b[38;5;241m>\u001b[39m \u001b[38;5;241m0\u001b[39m:\n\u001b[1;32m   1443\u001b[0m     footer \u001b[38;5;241m=\u001b[39m footer\u001b[38;5;241m.\u001b[39mreplace(\u001b[38;5;124m'\u001b[39m\u001b[38;5;130;01m\\n\u001b[39;00m\u001b[38;5;124m'\u001b[39m, \u001b[38;5;124m'\u001b[39m\u001b[38;5;130;01m\\n\u001b[39;00m\u001b[38;5;124m'\u001b[39m \u001b[38;5;241m+\u001b[39m comments)\n",
      "\u001b[0;31mOSError\u001b[0m: [Errno 28] No space left on device"
     ]
    }
   ],
   "source": [
    "%cd /home/jovyan/kaggle/working/RPCA_data\n",
    "\n",
    "def shrink(M,tau):\n",
    "    return np.sign(M) * np.maximum((np.abs(M) - tau), np.zeros(M.shape))\n",
    "\n",
    "if 'both' in locals():\n",
    "    both_dense = both.toarray()\n",
    "    del both\n",
    "\n",
    "U = np.genfromtxt(\"U1.csv\", delimiter=',')\n",
    "Sd = np.genfromtxt(\"S1.csv\", delimiter=',')\n",
    "V = np.genfromtxt(\"V1.csv\", delimiter=',')\n",
    "L = U @ (diags(shrink(Sd, mu_inv)) @ V)\n",
    "S = shrink(both_dense - L, mu_inv * lmbda)\n",
    "Y = (both_dense - L - S)\n",
    "del S,L\n",
    "np.savetxt(\"Y1.csv\", Y, delimiter=\",\")"
   ]
  },
  {
   "cell_type": "code",
   "execution_count": 3,
   "id": "2f0c037a-5b71-441b-b39e-8f514812bb39",
   "metadata": {
    "execution": {
     "iopub.execute_input": "2022-10-13T22:52:09.644143Z",
     "iopub.status.busy": "2022-10-13T22:52:09.643854Z",
     "iopub.status.idle": "2022-10-13T22:55:17.276252Z",
     "shell.execute_reply": "2022-10-13T22:55:17.275578Z",
     "shell.execute_reply.started": "2022-10-13T22:52:09.644122Z"
    },
    "tags": []
   },
   "outputs": [
    {
     "name": "stdout",
     "output_type": "stream",
     "text": [
      "/home/jovyan/kaggle/working/RPCA_data\n",
      "here1\n",
      "here2\n",
      "here3\n",
      "here4\n",
      "8.606694724962422e-19\n"
     ]
    }
   ],
   "source": [
    "%cd /home/jovyan/kaggle/working/RPCA_data\n",
    "\n",
    "def shrink(M,tau):\n",
    "    return np.sign(M) * np.maximum((np.abs(M) - tau), np.zeros(M.shape))\n",
    "\n",
    "# if 'both' in locals():\n",
    "#     both_dense = both.toarray()\n",
    "#     del both\n",
    "    \n",
    "both_dense = both.toarray()\n",
    "U = np.genfromtxt(\"U1.csv\", delimiter=',')\n",
    "Sd = np.genfromtxt(\"S1.csv\", delimiter=',')\n",
    "V = np.genfromtxt(\"V1.csv\", delimiter=',')\n",
    "L = U @ (diags(shrink(Sd, mu_inv)) @ V)\n",
    "print('here1')\n",
    "S = shrink(both_dense - L, mu_inv * lmbda)\n",
    "Y = (both_dense - L - S)\n",
    "del S,L,U,Sd,V,both_dense    \n",
    "#Y = np.genfromtxt(\"Y1.csv\", delimiter=',')\n",
    "U = np.genfromtxt(\"U2.csv\", delimiter=',')\n",
    "Sd = np.genfromtxt(\"S2.csv\", delimiter=',')\n",
    "V = np.genfromtxt(\"V2.csv\", delimiter=',')\n",
    "L = U @ (diags(shrink(Sd, mu_inv)) @ V)\n",
    "print('here2')\n",
    "L = both.toarray() - L + mu_inv * Y\n",
    "S = shrink(L, mu_inv * lmbda)\n",
    "print('here3')\n",
    "Y = mu * (L - S)\n",
    "print('here4')\n",
    "err = np.linalg.norm(L - mu_inv * Y - S, ord='fro')\n",
    "print(err)\n",
    "# del L\n",
    "# U, Sd, V = linalg.svds(both_dense - S + mu_inv * Y,128)\n",
    "# np.savetxt(\"U3.csv\", U, delimiter=\",\")\n",
    "# np.savetxt(\"S3.csv\", Sd, delimiter=\",\")\n",
    "# np.savetxt(\"V3.csv\", V, delimiter=\",\")"
   ]
  },
  {
   "cell_type": "code",
   "execution_count": null,
   "id": "7635bfa1-aa28-499d-b479-ea4762808a34",
   "metadata": {},
   "outputs": [],
   "source": [
    "print('here2')\n",
    "S = shrink(both.toarray() - L + mu_inv * Y, mu_inv * lmbda)\n",
    "print('here3')\n",
    "Y = Y + mu * (both.toarray() - L - S)\n",
    "print('here4')\n",
    "err = np.linalg.norm(both.toarray() - L - S, ord='fro')\n",
    "print(err)\n",
    "# del L"
   ]
  },
  {
   "cell_type": "code",
   "execution_count": 4,
   "id": "83d208f4-7347-4a10-b1a7-bb97bd739edc",
   "metadata": {
    "execution": {
     "iopub.execute_input": "2022-10-13T22:55:40.200443Z",
     "iopub.status.busy": "2022-10-13T22:55:40.200006Z",
     "iopub.status.idle": "2022-10-13T22:56:25.663690Z",
     "shell.execute_reply": "2022-10-13T22:56:25.663044Z",
     "shell.execute_reply.started": "2022-10-13T22:55:40.200418Z"
    },
    "tags": []
   },
   "outputs": [
    {
     "name": "stdout",
     "output_type": "stream",
     "text": [
      "/home/jovyan/kaggle/working\n",
      "Shape of both after SVD:  (119651, 64)\n",
      "Reduced X shape:  (70988, 64)    0.017 GByte\n",
      "Reduced Xt shape: (48663, 64)    0.012 GByte\n",
      "Y shape: (70988, 140)   0.037 GByte\n",
      "CPU times: user 3min 15s, sys: 12.7 s, total: 3min 27s\n",
      "Wall time: 45.5 s\n"
     ]
    }
   ],
   "source": [
    "%%time\n",
    "\n",
    "%cd /home/jovyan/kaggle/working\n",
    "\n",
    "# X_train = scipy.sparse.load_npz('./sparse/train_cite_inputs_values.sparse.npz')\n",
    "\n",
    "# to_drop = np.genfromtxt(\"./sparse/drop_ids.csv\", delimiter=',', dtype = int)\n",
    "# X_train = delete_columns_csr(X_train,to_drop)\n",
    "\n",
    "# print(f\"X shape: {str(X_train.shape):14} {X_train.size*4/1024/1024/1024:2.3f} GByte\")\n",
    "\n",
    "with np.load('./sparse/train_cite_inputs_idxcol.npz',allow_pickle=True) as data:\n",
    "    cell_index = data['index']\n",
    "\n",
    "metadata_df = pd.read_csv('../input/open-problems-multimodal/metadata.csv', index_col='cell_id')\n",
    "metadata_df = metadata_df[metadata_df.technology==\"citeseq\"]\n",
    "meta = metadata_df.reindex(cell_index)\n",
    "\n",
    "# X_test = scipy.sparse.load_npz('./sparse/test_cite_inputs_values.sparse.npz')\n",
    "\n",
    "# X_test = delete_columns_csr(X_test,to_drop)\n",
    "\n",
    "with np.load('./sparse/test_cite_inputs_idxcol.npz',allow_pickle=True) as data:\n",
    "    cell_index_t = data['index']\n",
    "\n",
    "meta_t = metadata_df.reindex(cell_index_t)\n",
    "\n",
    "# # Apply the singular value decomposition\n",
    "# both = scipy.sparse.vstack([X_train, X_test])\n",
    "# assert both.shape[0] == 119651\n",
    "# print(f\"Shape of both before SVD: {both.shape}\")\n",
    "\n",
    "U = np.genfromtxt(\"./RPCA_data/U2.csv\", delimiter=',')\n",
    "Sd = np.genfromtxt(\"./RPCA_data/S2.csv\", delimiter=',')\n",
    "V = np.genfromtxt(\"./RPCA_data/V2.csv\", delimiter=',')\n",
    "both = U @ (diags(shrink(Sd, mu_inv)) @ V)\n",
    "\n",
    "svd = TruncatedSVD(n_components=64, random_state=1) # 512 is possible\n",
    "both = svd.fit_transform(both)\n",
    "print(f\"Shape of both after SVD:  {both.shape}\")\n",
    "    \n",
    "# Hstack the svd output with the important features\n",
    "X_train_svd = both[:70988]\n",
    "X_test_svd = both[70988:]\n",
    "del both\n",
    "#X = np.hstack([X, X0])\n",
    "#Xt = np.hstack([Xt, X0t])\n",
    "print(f\"Reduced X shape:  {str(X_train_svd.shape):14} {X_train_svd.size*4/1024/1024/1024:2.3f} GByte\")\n",
    "print(f\"Reduced Xt shape: {str(X_test_svd.shape):14} {X_test_svd.size*4/1024/1024/1024:2.3f} GByte\")\n",
    "\n",
    "y_train = scipy.sparse.load_npz('./sparse/train_cite_targets_values.sparse.npz')\n",
    "\n",
    "# Normalize the targets row-wise: This doesn't change the correlations,\n",
    "# and negative_correlation_loss depends on it\n",
    "y_train -= y_train.mean(axis=1).reshape(-1, 1)\n",
    "y_train /= y_train.std(axis=1).reshape(-1, 1)\n",
    "    \n",
    "print(f\"Y shape: {str(y_train.shape):14} {y_train.size*4/1024/1024/1024:2.3f} GByte\")"
   ]
  },
  {
   "cell_type": "code",
   "execution_count": 5,
   "id": "5d21bcb9-c3f9-405f-a043-7c3cc10b4a8c",
   "metadata": {
    "execution": {
     "iopub.execute_input": "2022-10-13T22:56:32.367948Z",
     "iopub.status.busy": "2022-10-13T22:56:32.367569Z",
     "iopub.status.idle": "2022-10-13T22:58:00.712874Z",
     "shell.execute_reply": "2022-10-13T22:58:00.712257Z",
     "shell.execute_reply.started": "2022-10-13T22:56:32.367923Z"
    },
    "tags": []
   },
   "outputs": [
    {
     "name": "stderr",
     "output_type": "stream",
     "text": [
      "2022-10-13 22:56:32.640165: I tensorflow/stream_executor/cuda/cuda_gpu_executor.cc:980] successful NUMA node read from SysFS had negative value (-1), but there must be at least one NUMA node, so returning NUMA node zero\n",
      "2022-10-13 22:56:32.641112: W tensorflow/stream_executor/platform/default/dso_loader.cc:64] Could not load dynamic library 'libcudnn.so.8'; dlerror: libcudnn.so.8: cannot open shared object file: No such file or directory; LD_LIBRARY_PATH: /usr/local/nvidia/lib:/usr/local/nvidia/lib64\n",
      "2022-10-13 22:56:32.641130: W tensorflow/core/common_runtime/gpu/gpu_device.cc:1934] Cannot dlopen some GPU libraries. Please make sure the missing libraries mentioned above are installed properly if you would like to use GPU. Follow the guide at https://www.tensorflow.org/install/gpu for how to download and setup the required libraries for your platform.\n",
      "Skipping registering GPU devices...\n",
      "2022-10-13 22:56:32.642125: I tensorflow/core/platform/cpu_feature_guard.cc:193] This TensorFlow binary is optimized with oneAPI Deep Neural Network Library (oneDNN) to use the following CPU instructions in performance-critical operations:  AVX2 AVX512F AVX512_VNNI FMA\n",
      "To enable them in other operations, rebuild TensorFlow with the appropriate compiler flags.\n"
     ]
    },
    {
     "name": "stdout",
     "output_type": "stream",
     "text": [
      "Epoch 1/1000\n",
      "181/181 - 3s - loss: -8.2832e-01 - negative_correlation_loss: -8.5247e-01 - val_loss: -8.5993e-01 - val_negative_correlation_loss: -8.7498e-01 - lr: 0.0100 - 3s/epoch - 14ms/step\n",
      "Epoch 2/1000\n",
      "181/181 - 1s - loss: -8.8358e-01 - negative_correlation_loss: -8.9415e-01 - val_loss: -8.7059e-01 - val_negative_correlation_loss: -8.7862e-01 - lr: 0.0100 - 1s/epoch - 7ms/step\n",
      "Epoch 3/1000\n",
      "181/181 - 1s - loss: -8.8971e-01 - negative_correlation_loss: -8.9663e-01 - val_loss: -8.7566e-01 - val_negative_correlation_loss: -8.8156e-01 - lr: 0.0100 - 1s/epoch - 8ms/step\n",
      "Epoch 4/1000\n",
      "181/181 - 1s - loss: -8.9187e-01 - negative_correlation_loss: -8.9741e-01 - val_loss: -8.7558e-01 - val_negative_correlation_loss: -8.8068e-01 - lr: 0.0100 - 1s/epoch - 7ms/step\n",
      "Epoch 5/1000\n",
      "181/181 - 1s - loss: -8.9271e-01 - negative_correlation_loss: -8.9766e-01 - val_loss: -8.7743e-01 - val_negative_correlation_loss: -8.8215e-01 - lr: 0.0100 - 1s/epoch - 7ms/step\n",
      "Epoch 6/1000\n",
      "181/181 - 1s - loss: -8.9352e-01 - negative_correlation_loss: -8.9809e-01 - val_loss: -8.7877e-01 - val_negative_correlation_loss: -8.8327e-01 - lr: 0.0100 - 1s/epoch - 8ms/step\n",
      "Epoch 7/1000\n",
      "181/181 - 1s - loss: -8.9387e-01 - negative_correlation_loss: -8.9822e-01 - val_loss: -8.7764e-01 - val_negative_correlation_loss: -8.8184e-01 - lr: 0.0100 - 1s/epoch - 8ms/step\n",
      "Epoch 8/1000\n",
      "181/181 - 1s - loss: -8.9428e-01 - negative_correlation_loss: -8.9841e-01 - val_loss: -8.7965e-01 - val_negative_correlation_loss: -8.8363e-01 - lr: 0.0100 - 1s/epoch - 8ms/step\n",
      "Epoch 9/1000\n",
      "181/181 - 1s - loss: -8.9444e-01 - negative_correlation_loss: -8.9845e-01 - val_loss: -8.8025e-01 - val_negative_correlation_loss: -8.8428e-01 - lr: 0.0100 - 1s/epoch - 8ms/step\n",
      "Epoch 10/1000\n",
      "181/181 - 1s - loss: -8.9448e-01 - negative_correlation_loss: -8.9851e-01 - val_loss: -8.7829e-01 - val_negative_correlation_loss: -8.8226e-01 - lr: 0.0100 - 1s/epoch - 8ms/step\n",
      "Epoch 11/1000\n",
      "181/181 - 1s - loss: -8.9475e-01 - negative_correlation_loss: -8.9864e-01 - val_loss: -8.7699e-01 - val_negative_correlation_loss: -8.8064e-01 - lr: 0.0100 - 1s/epoch - 7ms/step\n",
      "Epoch 12/1000\n",
      "181/181 - 1s - loss: -8.9473e-01 - negative_correlation_loss: -8.9847e-01 - val_loss: -8.7895e-01 - val_negative_correlation_loss: -8.8275e-01 - lr: 0.0100 - 1s/epoch - 8ms/step\n",
      "Epoch 13/1000\n",
      "\n",
      "Epoch 13: ReduceLROnPlateau reducing learning rate to 0.004999999888241291.\n",
      "181/181 - 1s - loss: -8.9498e-01 - negative_correlation_loss: -8.9875e-01 - val_loss: -8.7973e-01 - val_negative_correlation_loss: -8.8336e-01 - lr: 0.0100 - 1s/epoch - 8ms/step\n",
      "Epoch 14/1000\n",
      "181/181 - 1s - loss: -8.9690e-01 - negative_correlation_loss: -9.0014e-01 - val_loss: -8.7983e-01 - val_negative_correlation_loss: -8.8282e-01 - lr: 0.0050 - 1s/epoch - 7ms/step\n",
      "Epoch 15/1000\n",
      "181/181 - 1s - loss: -8.9722e-01 - negative_correlation_loss: -9.0013e-01 - val_loss: -8.8209e-01 - val_negative_correlation_loss: -8.8493e-01 - lr: 0.0050 - 1s/epoch - 8ms/step\n",
      "Epoch 16/1000\n",
      "181/181 - 1s - loss: -8.9722e-01 - negative_correlation_loss: -9.0010e-01 - val_loss: -8.8102e-01 - val_negative_correlation_loss: -8.8379e-01 - lr: 0.0050 - 1s/epoch - 7ms/step\n",
      "Epoch 17/1000\n",
      "181/181 - 1s - loss: -8.9738e-01 - negative_correlation_loss: -9.0019e-01 - val_loss: -8.8068e-01 - val_negative_correlation_loss: -8.8342e-01 - lr: 0.0050 - 1s/epoch - 7ms/step\n",
      "Epoch 18/1000\n",
      "181/181 - 1s - loss: -8.9733e-01 - negative_correlation_loss: -9.0010e-01 - val_loss: -8.8205e-01 - val_negative_correlation_loss: -8.8481e-01 - lr: 0.0050 - 1s/epoch - 7ms/step\n",
      "Epoch 19/1000\n",
      "\n",
      "Epoch 19: ReduceLROnPlateau reducing learning rate to 0.0024999999441206455.\n",
      "181/181 - 1s - loss: -8.9755e-01 - negative_correlation_loss: -9.0025e-01 - val_loss: -8.8142e-01 - val_negative_correlation_loss: -8.8411e-01 - lr: 0.0050 - 1s/epoch - 7ms/step\n",
      "Epoch 20/1000\n",
      "181/181 - 1s - loss: -8.9882e-01 - negative_correlation_loss: -9.0137e-01 - val_loss: -8.8336e-01 - val_negative_correlation_loss: -8.8574e-01 - lr: 0.0025 - 1s/epoch - 7ms/step\n",
      "Epoch 21/1000\n",
      "181/181 - 1s - loss: -8.9914e-01 - negative_correlation_loss: -9.0150e-01 - val_loss: -8.8354e-01 - val_negative_correlation_loss: -8.8579e-01 - lr: 0.0025 - 1s/epoch - 7ms/step\n",
      "Epoch 22/1000\n",
      "181/181 - 1s - loss: -8.9918e-01 - negative_correlation_loss: -9.0143e-01 - val_loss: -8.8401e-01 - val_negative_correlation_loss: -8.8618e-01 - lr: 0.0025 - 1s/epoch - 8ms/step\n",
      "Epoch 23/1000\n",
      "181/181 - 1s - loss: -8.9931e-01 - negative_correlation_loss: -9.0146e-01 - val_loss: -8.8298e-01 - val_negative_correlation_loss: -8.8509e-01 - lr: 0.0025 - 1s/epoch - 7ms/step\n",
      "Epoch 24/1000\n",
      "181/181 - 1s - loss: -8.9939e-01 - negative_correlation_loss: -9.0152e-01 - val_loss: -8.8342e-01 - val_negative_correlation_loss: -8.8549e-01 - lr: 0.0025 - 1s/epoch - 7ms/step\n",
      "Epoch 25/1000\n",
      "181/181 - 1s - loss: -8.9935e-01 - negative_correlation_loss: -9.0147e-01 - val_loss: -8.8351e-01 - val_negative_correlation_loss: -8.8556e-01 - lr: 0.0025 - 1s/epoch - 7ms/step\n",
      "Epoch 26/1000\n",
      "\n",
      "Epoch 26: ReduceLROnPlateau reducing learning rate to 0.0012499999720603228.\n",
      "181/181 - 1s - loss: -8.9943e-01 - negative_correlation_loss: -9.0152e-01 - val_loss: -8.8325e-01 - val_negative_correlation_loss: -8.8529e-01 - lr: 0.0025 - 1s/epoch - 8ms/step\n",
      "Epoch 27/1000\n",
      "181/181 - 1s - loss: -9.0042e-01 - negative_correlation_loss: -9.0241e-01 - val_loss: -8.8448e-01 - val_negative_correlation_loss: -8.8637e-01 - lr: 0.0012 - 1s/epoch - 7ms/step\n",
      "Epoch 28/1000\n",
      "181/181 - 1s - loss: -9.0058e-01 - negative_correlation_loss: -9.0246e-01 - val_loss: -8.8457e-01 - val_negative_correlation_loss: -8.8639e-01 - lr: 0.0012 - 1s/epoch - 8ms/step\n",
      "Epoch 29/1000\n",
      "181/181 - 1s - loss: -9.0062e-01 - negative_correlation_loss: -9.0246e-01 - val_loss: -8.8464e-01 - val_negative_correlation_loss: -8.8641e-01 - lr: 0.0012 - 1s/epoch - 7ms/step\n",
      "Epoch 30/1000\n",
      "181/181 - 1s - loss: -9.0065e-01 - negative_correlation_loss: -9.0243e-01 - val_loss: -8.8408e-01 - val_negative_correlation_loss: -8.8580e-01 - lr: 0.0012 - 1s/epoch - 8ms/step\n",
      "Epoch 31/1000\n",
      "181/181 - 1s - loss: -9.0075e-01 - negative_correlation_loss: -9.0248e-01 - val_loss: -8.8506e-01 - val_negative_correlation_loss: -8.8675e-01 - lr: 0.0012 - 1s/epoch - 8ms/step\n",
      "Epoch 32/1000\n",
      "181/181 - 1s - loss: -9.0076e-01 - negative_correlation_loss: -9.0247e-01 - val_loss: -8.8405e-01 - val_negative_correlation_loss: -8.8571e-01 - lr: 0.0012 - 1s/epoch - 7ms/step\n",
      "Epoch 33/1000\n",
      "181/181 - 1s - loss: -9.0078e-01 - negative_correlation_loss: -9.0248e-01 - val_loss: -8.8432e-01 - val_negative_correlation_loss: -8.8598e-01 - lr: 0.0012 - 1s/epoch - 7ms/step\n",
      "Epoch 34/1000\n",
      "181/181 - 1s - loss: -9.0088e-01 - negative_correlation_loss: -9.0252e-01 - val_loss: -8.8451e-01 - val_negative_correlation_loss: -8.8613e-01 - lr: 0.0012 - 1s/epoch - 7ms/step\n",
      "Epoch 35/1000\n",
      "\n",
      "Epoch 35: ReduceLROnPlateau reducing learning rate to 0.0006249999860301614.\n",
      "181/181 - 1s - loss: -9.0085e-01 - negative_correlation_loss: -9.0249e-01 - val_loss: -8.8478e-01 - val_negative_correlation_loss: -8.8639e-01 - lr: 0.0012 - 1s/epoch - 8ms/step\n",
      "Epoch 36/1000\n",
      "181/181 - 1s - loss: -9.0148e-01 - negative_correlation_loss: -9.0306e-01 - val_loss: -8.8543e-01 - val_negative_correlation_loss: -8.8699e-01 - lr: 6.2500e-04 - 1s/epoch - 8ms/step\n",
      "Epoch 37/1000\n",
      "181/181 - 1s - loss: -9.0158e-01 - negative_correlation_loss: -9.0315e-01 - val_loss: -8.8511e-01 - val_negative_correlation_loss: -8.8663e-01 - lr: 6.2500e-04 - 1s/epoch - 8ms/step\n",
      "Epoch 38/1000\n",
      "181/181 - 1s - loss: -9.0159e-01 - negative_correlation_loss: -9.0318e-01 - val_loss: -8.8582e-01 - val_negative_correlation_loss: -8.8731e-01 - lr: 6.2500e-04 - 1s/epoch - 8ms/step\n",
      "Epoch 39/1000\n",
      "181/181 - 1s - loss: -9.0165e-01 - negative_correlation_loss: -9.0319e-01 - val_loss: -8.8544e-01 - val_negative_correlation_loss: -8.8691e-01 - lr: 6.2500e-04 - 1s/epoch - 7ms/step\n",
      "Epoch 40/1000\n",
      "181/181 - 1s - loss: -9.0169e-01 - negative_correlation_loss: -9.0318e-01 - val_loss: -8.8549e-01 - val_negative_correlation_loss: -8.8694e-01 - lr: 6.2500e-04 - 1s/epoch - 7ms/step\n",
      "Epoch 41/1000\n",
      "181/181 - 1s - loss: -9.0170e-01 - negative_correlation_loss: -9.0320e-01 - val_loss: -8.8559e-01 - val_negative_correlation_loss: -8.8703e-01 - lr: 6.2500e-04 - 1s/epoch - 7ms/step\n",
      "Epoch 42/1000\n",
      "\n",
      "Epoch 42: ReduceLROnPlateau reducing learning rate to 0.0003124999930150807.\n",
      "181/181 - 1s - loss: -9.0174e-01 - negative_correlation_loss: -9.0318e-01 - val_loss: -8.8507e-01 - val_negative_correlation_loss: -8.8648e-01 - lr: 6.2500e-04 - 1s/epoch - 8ms/step\n",
      "Epoch 43/1000\n",
      "181/181 - 1s - loss: -9.0209e-01 - negative_correlation_loss: -9.0354e-01 - val_loss: -8.8589e-01 - val_negative_correlation_loss: -8.8729e-01 - lr: 3.1250e-04 - 1s/epoch - 8ms/step\n",
      "Epoch 44/1000\n",
      "181/181 - 1s - loss: -9.0214e-01 - negative_correlation_loss: -9.0352e-01 - val_loss: -8.8503e-01 - val_negative_correlation_loss: -8.8641e-01 - lr: 3.1250e-04 - 1s/epoch - 8ms/step\n",
      "Epoch 45/1000\n",
      "181/181 - 1s - loss: -9.0217e-01 - negative_correlation_loss: -9.0353e-01 - val_loss: -8.8545e-01 - val_negative_correlation_loss: -8.8682e-01 - lr: 3.1250e-04 - 1s/epoch - 7ms/step\n",
      "Epoch 46/1000\n",
      "181/181 - 1s - loss: -9.0220e-01 - negative_correlation_loss: -9.0357e-01 - val_loss: -8.8604e-01 - val_negative_correlation_loss: -8.8739e-01 - lr: 3.1250e-04 - 1s/epoch - 7ms/step\n",
      "Epoch 47/1000\n",
      "181/181 - 1s - loss: -9.0222e-01 - negative_correlation_loss: -9.0357e-01 - val_loss: -8.8600e-01 - val_negative_correlation_loss: -8.8735e-01 - lr: 3.1250e-04 - 1s/epoch - 7ms/step\n",
      "Epoch 48/1000\n",
      "181/181 - 1s - loss: -9.0224e-01 - negative_correlation_loss: -9.0356e-01 - val_loss: -8.8532e-01 - val_negative_correlation_loss: -8.8666e-01 - lr: 3.1250e-04 - 1s/epoch - 8ms/step\n",
      "Epoch 49/1000\n",
      "181/181 - 1s - loss: -9.0226e-01 - negative_correlation_loss: -9.0360e-01 - val_loss: -8.8578e-01 - val_negative_correlation_loss: -8.8711e-01 - lr: 3.1250e-04 - 1s/epoch - 7ms/step\n",
      "Epoch 50/1000\n",
      "181/181 - 1s - loss: -9.0228e-01 - negative_correlation_loss: -9.0361e-01 - val_loss: -8.8631e-01 - val_negative_correlation_loss: -8.8763e-01 - lr: 3.1250e-04 - 1s/epoch - 8ms/step\n",
      "Epoch 51/1000\n",
      "181/181 - 1s - loss: -9.0231e-01 - negative_correlation_loss: -9.0360e-01 - val_loss: -8.8563e-01 - val_negative_correlation_loss: -8.8693e-01 - lr: 3.1250e-04 - 1s/epoch - 7ms/step\n",
      "Epoch 52/1000\n",
      "181/181 - 1s - loss: -9.0232e-01 - negative_correlation_loss: -9.0365e-01 - val_loss: -8.8578e-01 - val_negative_correlation_loss: -8.8707e-01 - lr: 3.1250e-04 - 1s/epoch - 8ms/step\n",
      "Epoch 53/1000\n",
      "181/181 - 1s - loss: -9.0234e-01 - negative_correlation_loss: -9.0364e-01 - val_loss: -8.8529e-01 - val_negative_correlation_loss: -8.8657e-01 - lr: 3.1250e-04 - 1s/epoch - 7ms/step\n",
      "Epoch 54/1000\n",
      "\n",
      "Epoch 54: ReduceLROnPlateau reducing learning rate to 0.00015624999650754035.\n",
      "181/181 - 1s - loss: -9.0233e-01 - negative_correlation_loss: -9.0364e-01 - val_loss: -8.8613e-01 - val_negative_correlation_loss: -8.8741e-01 - lr: 3.1250e-04 - 1s/epoch - 8ms/step\n",
      "Epoch 55/1000\n",
      "181/181 - 1s - loss: -9.0256e-01 - negative_correlation_loss: -9.0387e-01 - val_loss: -8.8588e-01 - val_negative_correlation_loss: -8.8714e-01 - lr: 1.5625e-04 - 1s/epoch - 8ms/step\n",
      "Epoch 56/1000\n",
      "181/181 - 1s - loss: -9.0260e-01 - negative_correlation_loss: -9.0389e-01 - val_loss: -8.8530e-01 - val_negative_correlation_loss: -8.8656e-01 - lr: 1.5625e-04 - 1s/epoch - 7ms/step\n",
      "Epoch 57/1000\n",
      "181/181 - 1s - loss: -9.0260e-01 - negative_correlation_loss: -9.0387e-01 - val_loss: -8.8602e-01 - val_negative_correlation_loss: -8.8727e-01 - lr: 1.5625e-04 - 1s/epoch - 7ms/step\n",
      "Epoch 58/1000\n",
      "\n",
      "Epoch 58: ReduceLROnPlateau reducing learning rate to 7.812499825377017e-05.\n",
      "181/181 - 1s - loss: -9.0262e-01 - negative_correlation_loss: -9.0389e-01 - val_loss: -8.8543e-01 - val_negative_correlation_loss: -8.8668e-01 - lr: 1.5625e-04 - 1s/epoch - 7ms/step\n",
      "Epoch 59/1000\n",
      "181/181 - 1s - loss: -9.0274e-01 - negative_correlation_loss: -9.0401e-01 - val_loss: -8.8590e-01 - val_negative_correlation_loss: -8.8715e-01 - lr: 7.8125e-05 - 1s/epoch - 8ms/step\n",
      "Epoch 60/1000\n",
      "181/181 - 1s - loss: -9.0276e-01 - negative_correlation_loss: -9.0403e-01 - val_loss: -8.8614e-01 - val_negative_correlation_loss: -8.8738e-01 - lr: 7.8125e-05 - 1s/epoch - 8ms/step\n",
      "Epoch 61/1000\n",
      "181/181 - 1s - loss: -9.0276e-01 - negative_correlation_loss: -9.0403e-01 - val_loss: -8.8587e-01 - val_negative_correlation_loss: -8.8711e-01 - lr: 7.8125e-05 - 1s/epoch - 7ms/step\n",
      "Epoch 62/1000\n",
      "\n",
      "Epoch 62: ReduceLROnPlateau reducing learning rate to 3.9062499126885086e-05.\n",
      "181/181 - 1s - loss: -9.0277e-01 - negative_correlation_loss: -9.0403e-01 - val_loss: -8.8592e-01 - val_negative_correlation_loss: -8.8716e-01 - lr: 7.8125e-05 - 1s/epoch - 8ms/step\n",
      "1/1 [==============================] - 0s 123ms/step\n",
      "Fold 0:  61 epochs, corr =  0.88765\n"
     ]
    }
   ],
   "source": [
    "LR_START = 0.01\n",
    "BATCH_SIZE = 256\n",
    "reg1 = 8e-5\n",
    "reg2 = 2e-5\n",
    "model = fit(X_train_svd,y_train)"
   ]
  },
  {
   "cell_type": "code",
   "execution_count": 6,
   "id": "0bef5370-a4da-4076-9e28-204732a0af3c",
   "metadata": {
    "execution": {
     "iopub.execute_input": "2022-10-14T00:02:24.214868Z",
     "iopub.status.busy": "2022-10-14T00:02:24.214468Z",
     "iopub.status.idle": "2022-10-14T00:02:34.940582Z",
     "shell.execute_reply": "2022-10-14T00:02:34.939800Z",
     "shell.execute_reply.started": "2022-10-14T00:02:24.214842Z"
    }
   },
   "outputs": [
    {
     "name": "stdout",
     "output_type": "stream",
     "text": [
      "Requirement already satisfied: tables in /opt/saturncloud/envs/saturn/lib/python3.9/site-packages (3.7.0)\n",
      "Requirement already satisfied: packaging in /opt/saturncloud/envs/saturn/lib/python3.9/site-packages (from tables) (21.3)\n",
      "Requirement already satisfied: numpy>=1.19.0 in /opt/saturncloud/envs/saturn/lib/python3.9/site-packages (from tables) (1.21.6)\n",
      "Requirement already satisfied: numexpr>=2.6.2 in /opt/saturncloud/envs/saturn/lib/python3.9/site-packages (from tables) (2.8.3)\n",
      "Requirement already satisfied: pyparsing!=3.0.5,>=2.0.2 in /opt/saturncloud/envs/saturn/lib/python3.9/site-packages (from packaging->tables) (3.0.9)\n",
      "Collecting magic-impute\n",
      "  Downloading magic_impute-3.0.0-py3-none-any.whl (15 kB)\n",
      "Requirement already satisfied: scipy>=1.1.0 in /opt/saturncloud/envs/saturn/lib/python3.9/site-packages (from magic-impute) (1.8.1)\n",
      "Collecting scprep>=1.0\n",
      "  Downloading scprep-1.2.1-py3-none-any.whl (93 kB)\n",
      "\u001b[2K     \u001b[90m━━━━━━━━━━━━━━━━━━━━━━━━━━━━━━━━━━━━━━━━\u001b[0m \u001b[32m93.8/93.8 kB\u001b[0m \u001b[31m4.6 MB/s\u001b[0m eta \u001b[36m0:00:00\u001b[0m\n",
      "\u001b[?25hCollecting future\n",
      "  Downloading future-0.18.2.tar.gz (829 kB)\n",
      "\u001b[2K     \u001b[90m━━━━━━━━━━━━━━━━━━━━━━━━━━━━━━━━━━━━━━\u001b[0m \u001b[32m829.2/829.2 kB\u001b[0m \u001b[31m19.4 MB/s\u001b[0m eta \u001b[36m0:00:00\u001b[0m00:01\u001b[0m\n",
      "\u001b[?25h  Preparing metadata (setup.py) ... \u001b[?25ldone\n",
      "\u001b[?25hRequirement already satisfied: matplotlib in /opt/saturncloud/envs/saturn/lib/python3.9/site-packages (from magic-impute) (3.5.2)\n",
      "Requirement already satisfied: pandas>=0.25 in /opt/saturncloud/envs/saturn/lib/python3.9/site-packages (from magic-impute) (1.4.2)\n",
      "Collecting tasklogger>=1.0.0\n",
      "  Downloading tasklogger-1.2.0-py3-none-any.whl (14 kB)\n",
      "Collecting graphtools>=1.4.0\n",
      "  Downloading graphtools-1.5.2-py3-none-any.whl (45 kB)\n",
      "\u001b[2K     \u001b[90m━━━━━━━━━━━━━━━━━━━━━━━━━━━━━━━━━━━━━━━━\u001b[0m \u001b[32m45.3/45.3 kB\u001b[0m \u001b[31m8.4 MB/s\u001b[0m eta \u001b[36m0:00:00\u001b[0m\n",
      "\u001b[?25hRequirement already satisfied: numpy>=1.14.0 in /opt/saturncloud/envs/saturn/lib/python3.9/site-packages (from magic-impute) (1.21.6)\n",
      "Requirement already satisfied: scikit-learn>=0.19.1 in /opt/saturncloud/envs/saturn/lib/python3.9/site-packages (from magic-impute) (1.1.1)\n",
      "Collecting pygsp>=0.5.1\n",
      "  Downloading PyGSP-0.5.1-py2.py3-none-any.whl (1.8 MB)\n",
      "\u001b[2K     \u001b[90m━━━━━━━━━━━━━━━━━━━━━━━━━━━━━━━━━━━━━━━━\u001b[0m \u001b[32m1.8/1.8 MB\u001b[0m \u001b[31m62.9 MB/s\u001b[0m eta \u001b[36m0:00:00\u001b[0m\n",
      "\u001b[?25hCollecting Deprecated\n",
      "  Downloading Deprecated-1.2.13-py2.py3-none-any.whl (9.6 kB)\n",
      "Requirement already satisfied: python-dateutil>=2.8.1 in /opt/saturncloud/envs/saturn/lib/python3.9/site-packages (from pandas>=0.25->magic-impute) (2.8.2)\n",
      "Requirement already satisfied: pytz>=2020.1 in /opt/saturncloud/envs/saturn/lib/python3.9/site-packages (from pandas>=0.25->magic-impute) (2022.1)\n",
      "Requirement already satisfied: joblib>=1.0.0 in /opt/saturncloud/envs/saturn/lib/python3.9/site-packages (from scikit-learn>=0.19.1->magic-impute) (1.1.0)\n",
      "Requirement already satisfied: threadpoolctl>=2.0.0 in /opt/saturncloud/envs/saturn/lib/python3.9/site-packages (from scikit-learn>=0.19.1->magic-impute) (3.1.0)\n",
      "Requirement already satisfied: decorator>=4.3.0 in /opt/saturncloud/envs/saturn/lib/python3.9/site-packages (from scprep>=1.0->magic-impute) (5.1.1)\n",
      "Collecting pandas>=0.25\n",
      "  Downloading pandas-1.3.5-cp39-cp39-manylinux_2_17_x86_64.manylinux2014_x86_64.whl (11.5 MB)\n",
      "\u001b[2K     \u001b[90m━━━━━━━━━━━━━━━━━━━━━━━━━━━━━━━━━━━━━━━━\u001b[0m \u001b[32m11.5/11.5 MB\u001b[0m \u001b[31m88.0 MB/s\u001b[0m eta \u001b[36m0:00:00\u001b[0m00:01\u001b[0m00:01\u001b[0m\n",
      "\u001b[?25hRequirement already satisfied: packaging in /opt/saturncloud/envs/saturn/lib/python3.9/site-packages (from scprep>=1.0->magic-impute) (21.3)\n",
      "Requirement already satisfied: fonttools>=4.22.0 in /opt/saturncloud/envs/saturn/lib/python3.9/site-packages (from matplotlib->magic-impute) (4.34.4)\n",
      "Requirement already satisfied: pillow>=6.2.0 in /opt/saturncloud/envs/saturn/lib/python3.9/site-packages (from matplotlib->magic-impute) (9.1.1)\n",
      "Requirement already satisfied: kiwisolver>=1.0.1 in /opt/saturncloud/envs/saturn/lib/python3.9/site-packages (from matplotlib->magic-impute) (1.4.4)\n",
      "Requirement already satisfied: cycler>=0.10 in /opt/saturncloud/envs/saturn/lib/python3.9/site-packages (from matplotlib->magic-impute) (0.11.0)\n",
      "Requirement already satisfied: pyparsing>=2.2.1 in /opt/saturncloud/envs/saturn/lib/python3.9/site-packages (from matplotlib->magic-impute) (3.0.9)\n",
      "Requirement already satisfied: six>=1.5 in /opt/saturncloud/envs/saturn/lib/python3.9/site-packages (from python-dateutil>=2.8.1->pandas>=0.25->magic-impute) (1.16.0)\n",
      "Requirement already satisfied: wrapt<2,>=1.10 in /opt/saturncloud/envs/saturn/lib/python3.9/site-packages (from Deprecated->graphtools>=1.4.0->magic-impute) (1.14.1)\n",
      "Building wheels for collected packages: future\n",
      "  Building wheel for future (setup.py) ... \u001b[?25ldone\n",
      "\u001b[?25h  Created wheel for future: filename=future-0.18.2-py3-none-any.whl size=491070 sha256=2d48839313321b1885c6d6b532aeeb2a52ff7eaebf431bfef6c202d84db096ba\n",
      "  Stored in directory: /home/jovyan/.cache/pip/wheels/2f/a0/d3/4030d9f80e6b3be787f19fc911b8e7aa462986a40ab1e4bb94\n",
      "Successfully built future\n",
      "Installing collected packages: future, Deprecated, tasklogger, pygsp, pandas, scprep, graphtools, magic-impute\n",
      "Successfully installed Deprecated-1.2.13 future-0.18.2 graphtools-1.5.2 magic-impute-3.0.0 pandas-1.3.5 pygsp-0.5.1 scprep-1.2.1 tasklogger-1.2.0\n"
     ]
    }
   ],
   "source": [
    "!pip install tables\n",
    "!pip install --user magic-impute"
   ]
  },
  {
   "cell_type": "code",
   "execution_count": 7,
   "id": "6d7112bf-7a28-44b7-af95-74a53d7874b3",
   "metadata": {
    "execution": {
     "iopub.execute_input": "2022-10-14T01:15:32.426591Z",
     "iopub.status.busy": "2022-10-14T01:15:32.426106Z",
     "iopub.status.idle": "2022-10-14T01:15:56.886142Z",
     "shell.execute_reply": "2022-10-14T01:15:56.885535Z",
     "shell.execute_reply.started": "2022-10-14T01:15:32.426568Z"
    },
    "tags": []
   },
   "outputs": [
    {
     "name": "stdout",
     "output_type": "stream",
     "text": [
      "/home/jovyan/kaggle/working\n",
      "X shape: (70988, 21601) 1.283 GByte\n",
      "CPU times: user 21.8 s, sys: 2.69 s, total: 24.5 s\n",
      "Wall time: 24.5 s\n"
     ]
    }
   ],
   "source": [
    "%%time\n",
    "\n",
    "%cd /home/jovyan/kaggle/working\n",
    "\n",
    "X_train = scipy.sparse.load_npz('./sparse/train_cite_inputs_values.sparse.npz')\n",
    "\n",
    "to_drop = np.genfromtxt(\"./sparse/drop_ids.csv\", delimiter=',', dtype = int)\n",
    "X_train = delete_columns_csr(X_train,to_drop)\n",
    "\n",
    "print(f\"X shape: {str(X_train.shape):14} {X_train.size*4/1024/1024/1024:2.3f} GByte\")\n",
    "\n",
    "with np.load('./sparse/train_cite_inputs_idxcol.npz',allow_pickle=True) as data:\n",
    "    cell_index = data['index']\n",
    "\n",
    "metadata_df = pd.read_csv('../input/open-problems-multimodal/metadata.csv', index_col='cell_id')\n",
    "metadata_df = metadata_df[metadata_df.technology==\"citeseq\"]\n",
    "meta = metadata_df.reindex(cell_index)\n",
    "\n",
    "X_test = scipy.sparse.load_npz('./sparse/test_cite_inputs_values.sparse.npz')\n",
    "\n",
    "X_test = delete_columns_csr(X_test,to_drop)\n",
    "\n",
    "with np.load('./sparse/test_cite_inputs_idxcol.npz',allow_pickle=True) as data:\n",
    "    cell_index_t = data['index']\n",
    "\n",
    "meta_t = metadata_df.reindex(cell_index_t)\n",
    "\n",
    "# Apply the singular value decomposition\n",
    "both = scipy.sparse.vstack([X_train, X_test])\n",
    "assert both.shape[0] == 119651"
   ]
  },
  {
   "cell_type": "code",
   "execution_count": 9,
   "id": "10dc371c-6285-41ff-ac68-aeead695c98b",
   "metadata": {
    "execution": {
     "iopub.execute_input": "2022-10-14T00:06:23.749203Z",
     "iopub.status.busy": "2022-10-14T00:06:23.748845Z",
     "iopub.status.idle": "2022-10-14T00:06:24.247138Z",
     "shell.execute_reply": "2022-10-14T00:06:24.246467Z",
     "shell.execute_reply.started": "2022-10-14T00:06:23.749179Z"
    }
   },
   "outputs": [],
   "source": [
    "both_small = both[:10000]"
   ]
  },
  {
   "cell_type": "code",
   "execution_count": 11,
   "id": "82fac8c1-fb90-4edd-a803-277c5633d12e",
   "metadata": {
    "execution": {
     "iopub.execute_input": "2022-10-14T00:06:33.716656Z",
     "iopub.status.busy": "2022-10-14T00:06:33.716291Z",
     "iopub.status.idle": "2022-10-14T00:06:33.721286Z",
     "shell.execute_reply": "2022-10-14T00:06:33.720623Z",
     "shell.execute_reply.started": "2022-10-14T00:06:33.716632Z"
    },
    "tags": []
   },
   "outputs": [
    {
     "data": {
      "text/plain": [
       "(10000, 21601)"
      ]
     },
     "execution_count": 11,
     "metadata": {},
     "output_type": "execute_result"
    }
   ],
   "source": [
    "both_small.shape"
   ]
  },
  {
   "cell_type": "code",
   "execution_count": 19,
   "id": "046f329e-59d7-449d-bede-5f9ff6a3d709",
   "metadata": {
    "execution": {
     "iopub.execute_input": "2022-10-14T00:12:20.979120Z",
     "iopub.status.busy": "2022-10-14T00:12:20.978677Z",
     "iopub.status.idle": "2022-10-14T00:12:20.983922Z",
     "shell.execute_reply": "2022-10-14T00:12:20.983398Z",
     "shell.execute_reply.started": "2022-10-14T00:12:20.979088Z"
    }
   },
   "outputs": [
    {
     "data": {
      "text/plain": [
       "'/home/jovyan/kaggle/working'"
      ]
     },
     "execution_count": 19,
     "metadata": {},
     "output_type": "execute_result"
    }
   ],
   "source": [
    "%cd MAGIC/python"
   ]
  },
  {
   "cell_type": "code",
   "execution_count": 18,
   "id": "ad81c6bb-d872-4984-9815-6c30c87d641e",
   "metadata": {
    "execution": {
     "iopub.execute_input": "2022-10-14T00:09:41.281757Z",
     "iopub.status.busy": "2022-10-14T00:09:41.281390Z",
     "iopub.status.idle": "2022-10-14T00:11:52.501722Z",
     "shell.execute_reply": "2022-10-14T00:11:52.500846Z",
     "shell.execute_reply.started": "2022-10-14T00:09:41.281733Z"
    },
    "tags": []
   },
   "outputs": [
    {
     "name": "stdout",
     "output_type": "stream",
     "text": [
      "Cloning into 'MAGIC'...\n",
      "fatal: unable to connect to github.com:\n",
      "github.com[0: 140.82.112.3]: errno=Connection timed out\n",
      "\n",
      "[Errno 2] No such file or directory: 'MAGIC/python'\n",
      "/home/jovyan/kaggle/working\n",
      "python: can't open file '/home/jovyan/kaggle/working/setup.py': [Errno 2] No such file or directory\n"
     ]
    },
    {
     "ename": "ModuleNotFoundError",
     "evalue": "No module named 'magic'",
     "output_type": "error",
     "traceback": [
      "\u001b[0;31m---------------------------------------------------------------------------\u001b[0m",
      "\u001b[0;31mModuleNotFoundError\u001b[0m                       Traceback (most recent call last)",
      "Input \u001b[0;32mIn [18]\u001b[0m, in \u001b[0;36m<cell line: 4>\u001b[0;34m()\u001b[0m\n\u001b[1;32m      2\u001b[0m get_ipython()\u001b[38;5;241m.\u001b[39mrun_line_magic(\u001b[38;5;124m'\u001b[39m\u001b[38;5;124mcd\u001b[39m\u001b[38;5;124m'\u001b[39m, \u001b[38;5;124m'\u001b[39m\u001b[38;5;124mMAGIC/python\u001b[39m\u001b[38;5;124m'\u001b[39m)\n\u001b[1;32m      3\u001b[0m get_ipython()\u001b[38;5;241m.\u001b[39msystem(\u001b[38;5;124m'\u001b[39m\u001b[38;5;124mpython setup.py install --user\u001b[39m\u001b[38;5;124m'\u001b[39m)\n\u001b[0;32m----> 4\u001b[0m \u001b[38;5;28;01mimport\u001b[39;00m \u001b[38;5;21;01mmagic\u001b[39;00m\n",
      "\u001b[0;31mModuleNotFoundError\u001b[0m: No module named 'magic'"
     ]
    }
   ],
   "source": [
    "!git clone git://github.com/KrishnaswamyLab/MAGIC.git\n",
    "%cd MAGIC/python\n",
    "!python setup.py install --user\n",
    "import magic"
   ]
  },
  {
   "cell_type": "code",
   "execution_count": 21,
   "id": "a9be6a9d-27f8-4077-a33a-d0750582e3df",
   "metadata": {
    "execution": {
     "iopub.execute_input": "2022-10-14T00:14:08.982602Z",
     "iopub.status.busy": "2022-10-14T00:14:08.982210Z",
     "iopub.status.idle": "2022-10-14T00:15:38.719544Z",
     "shell.execute_reply": "2022-10-14T00:15:38.718742Z",
     "shell.execute_reply.started": "2022-10-14T00:14:08.982571Z"
    },
    "tags": []
   },
   "outputs": [
    {
     "name": "stdout",
     "output_type": "stream",
     "text": [
      "Collecting package metadata (current_repodata.json): done\n",
      "Solving environment: failed with initial frozen solve. Retrying with flexible solve.\n",
      "Collecting package metadata (repodata.json): done\n",
      "Solving environment: failed with initial frozen solve. Retrying with flexible solve.\n",
      "\n",
      "PackagesNotFoundError: The following packages are not available from current channels:\n",
      "\n",
      "  - magic-impute\n",
      "\n",
      "Current channels:\n",
      "\n",
      "  - https://conda.anaconda.org/conda-forge/linux-64\n",
      "  - https://conda.anaconda.org/conda-forge/noarch\n",
      "  - https://repo.anaconda.com/pkgs/main/linux-64\n",
      "  - https://repo.anaconda.com/pkgs/main/noarch\n",
      "  - https://repo.anaconda.com/pkgs/r/linux-64\n",
      "  - https://repo.anaconda.com/pkgs/r/noarch\n",
      "\n",
      "To search for alternate channels that may provide the conda package you're\n",
      "looking for, navigate to\n",
      "\n",
      "    https://anaconda.org\n",
      "\n",
      "and use the search bar at the top of the page.\n",
      "\n",
      "\n"
     ]
    }
   ],
   "source": [
    "!conda install magic-impute\n"
   ]
  },
  {
   "cell_type": "code",
   "execution_count": 27,
   "id": "a1a4377b-3a02-40bd-81ed-89e9c894c726",
   "metadata": {
    "execution": {
     "iopub.execute_input": "2022-10-14T00:22:27.775703Z",
     "iopub.status.busy": "2022-10-14T00:22:27.775283Z",
     "iopub.status.idle": "2022-10-14T00:22:33.075638Z",
     "shell.execute_reply": "2022-10-14T00:22:33.074881Z",
     "shell.execute_reply.started": "2022-10-14T00:22:27.775674Z"
    }
   },
   "outputs": [
    {
     "name": "stdout",
     "output_type": "stream",
     "text": [
      "Cloning into 'MAGIC'...\n",
      "remote: Enumerating objects: 4436, done.\u001b[K\n",
      "remote: Counting objects: 100% (359/359), done.\u001b[K\n",
      "remote: Compressing objects: 100% (171/171), done.\u001b[K\n",
      "remote: Total 4436 (delta 176), reused 330 (delta 175), pack-reused 4077\u001b[K\n",
      "Receiving objects: 100% (4436/4436), 221.54 MiB | 72.13 MiB/s, done.\n",
      "Resolving deltas: 100% (2314/2314), done.\n"
     ]
    }
   ],
   "source": [
    "!git clone https://github.com/KrishnaswamyLab/MAGIC.git"
   ]
  },
  {
   "cell_type": "code",
   "execution_count": 1,
   "id": "d1669a53-4ada-4990-a193-8283be6b7a34",
   "metadata": {
    "execution": {
     "iopub.execute_input": "2022-10-14T00:34:53.383332Z",
     "iopub.status.busy": "2022-10-14T00:34:53.383115Z",
     "iopub.status.idle": "2022-10-14T00:34:55.006083Z",
     "shell.execute_reply": "2022-10-14T00:34:55.005483Z",
     "shell.execute_reply.started": "2022-10-14T00:34:53.383281Z"
    }
   },
   "outputs": [
    {
     "name": "stdout",
     "output_type": "stream",
     "text": [
      "Found existing installation: pandas 1.3.5\n",
      "Uninstalling pandas-1.3.5:\n",
      "  Successfully uninstalled pandas-1.3.5\n"
     ]
    }
   ],
   "source": [
    "!pip uninstall pandas -y"
   ]
  },
  {
   "cell_type": "code",
   "execution_count": null,
   "id": "4d744c85-00b0-4c4e-8dcb-fc189aec1b0e",
   "metadata": {
    "execution": {
     "iopub.execute_input": "2022-10-14T00:33:02.725851Z",
     "iopub.status.busy": "2022-10-14T00:33:02.725470Z"
    },
    "tags": []
   },
   "outputs": [
    {
     "name": "stdout",
     "output_type": "stream",
     "text": [
      "Collecting package metadata (repodata.json): done\n",
      "Solving environment: - "
     ]
    }
   ],
   "source": [
    "!conda uninstall pandas"
   ]
  },
  {
   "cell_type": "code",
   "execution_count": 4,
   "id": "ca9e0e8d-ab70-40e3-bc37-1ec59bb0c598",
   "metadata": {
    "execution": {
     "iopub.execute_input": "2022-10-14T00:38:00.451772Z",
     "iopub.status.busy": "2022-10-14T00:38:00.451372Z",
     "iopub.status.idle": "2022-10-14T00:38:00.463878Z",
     "shell.execute_reply": "2022-10-14T00:38:00.463205Z",
     "shell.execute_reply.started": "2022-10-14T00:38:00.451746Z"
    }
   },
   "outputs": [
    {
     "ename": "ImportError",
     "evalue": "cannot import name 'SparseArray' from 'scipy.sparse' (/srv/conda/envs/saturn/lib/python3.9/site-packages/scipy/sparse/__init__.py)",
     "output_type": "error",
     "traceback": [
      "\u001b[0;31m---------------------------------------------------------------------------\u001b[0m",
      "\u001b[0;31mImportError\u001b[0m                               Traceback (most recent call last)",
      "Input \u001b[0;32mIn [4]\u001b[0m, in \u001b[0;36m<cell line: 1>\u001b[0;34m()\u001b[0m\n\u001b[0;32m----> 1\u001b[0m \u001b[38;5;28;01mfrom\u001b[39;00m \u001b[38;5;21;01mscipy\u001b[39;00m\u001b[38;5;21;01m.\u001b[39;00m\u001b[38;5;21;01msparse\u001b[39;00m \u001b[38;5;28;01mimport\u001b[39;00m SparseArray\n",
      "\u001b[0;31mImportError\u001b[0m: cannot import name 'SparseArray' from 'scipy.sparse' (/srv/conda/envs/saturn/lib/python3.9/site-packages/scipy/sparse/__init__.py)"
     ]
    }
   ],
   "source": [
    "from scipy.sparse import SparseArray"
   ]
  },
  {
   "cell_type": "code",
   "execution_count": 5,
   "id": "dbf9890d-21a2-482a-818b-bd7fa5e57aa9",
   "metadata": {
    "execution": {
     "iopub.execute_input": "2022-10-14T00:38:24.902805Z",
     "iopub.status.busy": "2022-10-14T00:38:24.902411Z",
     "iopub.status.idle": "2022-10-14T00:38:26.937840Z",
     "shell.execute_reply": "2022-10-14T00:38:26.936952Z",
     "shell.execute_reply.started": "2022-10-14T00:38:24.902781Z"
    },
    "tags": []
   },
   "outputs": [
    {
     "name": "stdout",
     "output_type": "stream",
     "text": [
      "/home/jovyan/kaggle/working\n",
      "/home/jovyan/kaggle/working/MAGIC/python\n",
      "running install\n",
      "/srv/conda/envs/saturn/lib/python3.9/site-packages/setuptools/command/install.py:34: SetuptoolsDeprecationWarning: setup.py install is deprecated. Use build and pip and other standards-based tools.\n",
      "  warnings.warn(\n",
      "/srv/conda/envs/saturn/lib/python3.9/site-packages/setuptools/command/easy_install.py:156: EasyInstallDeprecationWarning: easy_install command is deprecated. Use build and pip and other standards-based tools.\n",
      "  warnings.warn(\n",
      "running bdist_egg\n",
      "running egg_info\n",
      "writing magic_impute.egg-info/PKG-INFO\n",
      "writing dependency_links to magic_impute.egg-info/dependency_links.txt\n",
      "writing requirements to magic_impute.egg-info/requires.txt\n",
      "writing top-level names to magic_impute.egg-info/top_level.txt\n",
      "reading manifest file 'magic_impute.egg-info/SOURCES.txt'\n",
      "writing manifest file 'magic_impute.egg-info/SOURCES.txt'\n",
      "installing library code to build/bdist.linux-x86_64/egg\n",
      "running install_lib\n",
      "running build_py\n",
      "creating build/bdist.linux-x86_64/egg\n",
      "creating build/bdist.linux-x86_64/egg/magic\n",
      "copying build/lib/magic/version.py -> build/bdist.linux-x86_64/egg/magic\n",
      "copying build/lib/magic/magic.py -> build/bdist.linux-x86_64/egg/magic\n",
      "copying build/lib/magic/__init__.py -> build/bdist.linux-x86_64/egg/magic\n",
      "copying build/lib/magic/plot.py -> build/bdist.linux-x86_64/egg/magic\n",
      "copying build/lib/magic/utils.py -> build/bdist.linux-x86_64/egg/magic\n",
      "byte-compiling build/bdist.linux-x86_64/egg/magic/version.py to version.cpython-39.pyc\n",
      "byte-compiling build/bdist.linux-x86_64/egg/magic/magic.py to magic.cpython-39.pyc\n",
      "byte-compiling build/bdist.linux-x86_64/egg/magic/__init__.py to __init__.cpython-39.pyc\n",
      "byte-compiling build/bdist.linux-x86_64/egg/magic/plot.py to plot.cpython-39.pyc\n",
      "byte-compiling build/bdist.linux-x86_64/egg/magic/utils.py to utils.cpython-39.pyc\n",
      "creating build/bdist.linux-x86_64/egg/EGG-INFO\n",
      "copying magic_impute.egg-info/PKG-INFO -> build/bdist.linux-x86_64/egg/EGG-INFO\n",
      "copying magic_impute.egg-info/SOURCES.txt -> build/bdist.linux-x86_64/egg/EGG-INFO\n",
      "copying magic_impute.egg-info/dependency_links.txt -> build/bdist.linux-x86_64/egg/EGG-INFO\n",
      "copying magic_impute.egg-info/requires.txt -> build/bdist.linux-x86_64/egg/EGG-INFO\n",
      "copying magic_impute.egg-info/top_level.txt -> build/bdist.linux-x86_64/egg/EGG-INFO\n",
      "zip_safe flag not set; analyzing archive contents...\n",
      "creating 'dist/magic_impute-3.0.0-py3.9.egg' and adding 'build/bdist.linux-x86_64/egg' to it\n",
      "removing 'build/bdist.linux-x86_64/egg' (and everything under it)\n",
      "Processing magic_impute-3.0.0-py3.9.egg\n",
      "Removing /home/jovyan/.local/lib/python3.9/site-packages/magic_impute-3.0.0-py3.9.egg\n",
      "Copying magic_impute-3.0.0-py3.9.egg to /home/jovyan/.local/lib/python3.9/site-packages\n",
      "magic-impute 3.0.0 is already the active version in easy-install.pth\n",
      "\n",
      "Installed /home/jovyan/.local/lib/python3.9/site-packages/magic_impute-3.0.0-py3.9.egg\n",
      "Processing dependencies for magic-impute==3.0.0\n",
      "error: pandas 1.4.2 is installed but pandas<1.4,>=0.25 is required by {'scprep'}\n"
     ]
    },
    {
     "ename": "AttributeError",
     "evalue": "module 'sparse' has no attribute 'SparseArray'",
     "output_type": "error",
     "traceback": [
      "\u001b[0;31m---------------------------------------------------------------------------\u001b[0m",
      "\u001b[0;31mAttributeError\u001b[0m                            Traceback (most recent call last)",
      "Input \u001b[0;32mIn [5]\u001b[0m, in \u001b[0;36m<cell line: 6>\u001b[0;34m()\u001b[0m\n\u001b[1;32m      3\u001b[0m \u001b[38;5;66;03m#!pip install pandas 1.3.5\u001b[39;00m\n\u001b[1;32m      4\u001b[0m get_ipython()\u001b[38;5;241m.\u001b[39msystem(\u001b[38;5;124m'\u001b[39m\u001b[38;5;124mpython setup.py install --user\u001b[39m\u001b[38;5;124m'\u001b[39m)\n\u001b[0;32m----> 6\u001b[0m \u001b[38;5;28;01mimport\u001b[39;00m \u001b[38;5;21;01mmagic\u001b[39;00m\n\u001b[1;32m      7\u001b[0m magic_operator \u001b[38;5;241m=\u001b[39m magic\u001b[38;5;241m.\u001b[39mMAGIC(random_state\u001b[38;5;241m=\u001b[39m\u001b[38;5;241m32\u001b[39m)\n\u001b[1;32m      8\u001b[0m denoised\u001b[38;5;241m=\u001b[39mmagic_operator\u001b[38;5;241m.\u001b[39mfit_transform(both_small)\n",
      "File \u001b[0;32m~/kaggle/working/MAGIC/python/magic/__init__.py:1\u001b[0m, in \u001b[0;36m<module>\u001b[0;34m\u001b[0m\n\u001b[0;32m----> 1\u001b[0m \u001b[38;5;28;01mfrom\u001b[39;00m \u001b[38;5;21;01m.\u001b[39;00m\u001b[38;5;21;01mmagic\u001b[39;00m \u001b[38;5;28;01mimport\u001b[39;00m MAGIC\n\u001b[1;32m      2\u001b[0m \u001b[38;5;28;01mfrom\u001b[39;00m \u001b[38;5;21;01m.\u001b[39;00m\u001b[38;5;21;01mversion\u001b[39;00m \u001b[38;5;28;01mimport\u001b[39;00m __version__\n\u001b[1;32m      4\u001b[0m \u001b[38;5;28;01mimport\u001b[39;00m \u001b[38;5;21;01mmagic\u001b[39;00m\u001b[38;5;21;01m.\u001b[39;00m\u001b[38;5;21;01mplot\u001b[39;00m\n",
      "File \u001b[0;32m~/kaggle/working/MAGIC/python/magic/magic.py:9\u001b[0m, in \u001b[0;36m<module>\u001b[0;34m\u001b[0m\n\u001b[1;32m      1\u001b[0m \u001b[38;5;124;03m\"\"\"\u001b[39;00m\n\u001b[1;32m      2\u001b[0m \u001b[38;5;124;03mMarkov Affinity-based Graph Imputation of Cells (MAGIC)\u001b[39;00m\n\u001b[1;32m      3\u001b[0m \n\u001b[0;32m   (...)\u001b[0m\n\u001b[1;32m      6\u001b[0m \u001b[38;5;124;03m(C) 2018 Krishnaswamy Lab GPLv2\u001b[39;00m\n\u001b[1;32m      7\u001b[0m \u001b[38;5;124;03m\"\"\"\u001b[39;00m\n\u001b[0;32m----> 9\u001b[0m \u001b[38;5;28;01mfrom\u001b[39;00m \u001b[38;5;21;01m.\u001b[39;00m \u001b[38;5;28;01mimport\u001b[39;00m utils\n\u001b[1;32m     10\u001b[0m \u001b[38;5;28;01mfrom\u001b[39;00m \u001b[38;5;21;01mscipy\u001b[39;00m \u001b[38;5;28;01mimport\u001b[39;00m sparse\n\u001b[1;32m     11\u001b[0m \u001b[38;5;28;01mfrom\u001b[39;00m \u001b[38;5;21;01mscipy\u001b[39;00m \u001b[38;5;28;01mimport\u001b[39;00m spatial\n",
      "File \u001b[0;32m~/kaggle/working/MAGIC/python/magic/utils.py:9\u001b[0m, in \u001b[0;36m<module>\u001b[0;34m\u001b[0m\n\u001b[1;32m      6\u001b[0m \u001b[38;5;28;01mimport\u001b[39;00m \u001b[38;5;21;01mscprep\u001b[39;00m\n\u001b[1;32m      8\u001b[0m \u001b[38;5;28;01mtry\u001b[39;00m:\n\u001b[0;32m----> 9\u001b[0m     \u001b[38;5;28;01mimport\u001b[39;00m \u001b[38;5;21;01manndata\u001b[39;00m\n\u001b[1;32m     10\u001b[0m \u001b[38;5;28;01mexcept\u001b[39;00m (\u001b[38;5;167;01mImportError\u001b[39;00m, \u001b[38;5;167;01mSyntaxError\u001b[39;00m):\n\u001b[1;32m     11\u001b[0m     \u001b[38;5;66;03m# anndata not installed\u001b[39;00m\n\u001b[1;32m     12\u001b[0m     \u001b[38;5;28;01mpass\u001b[39;00m\n",
      "File \u001b[0;32m/srv/conda/envs/saturn/lib/python3.9/site-packages/anndata/__init__.py:7\u001b[0m, in \u001b[0;36m<module>\u001b[0;34m\u001b[0m\n\u001b[1;32m      5\u001b[0m \u001b[38;5;28;01mif\u001b[39;00m \u001b[38;5;129;01mnot\u001b[39;00m within_flit():\n\u001b[1;32m      6\u001b[0m     \u001b[38;5;28;01mdel\u001b[39;00m within_flit\n\u001b[0;32m----> 7\u001b[0m     \u001b[38;5;28;01mfrom\u001b[39;00m \u001b[38;5;21;01m.\u001b[39;00m\u001b[38;5;21;01m_core\u001b[39;00m\u001b[38;5;21;01m.\u001b[39;00m\u001b[38;5;21;01manndata\u001b[39;00m \u001b[38;5;28;01mimport\u001b[39;00m AnnData\n\u001b[1;32m      8\u001b[0m     \u001b[38;5;28;01mfrom\u001b[39;00m \u001b[38;5;21;01m.\u001b[39;00m\u001b[38;5;21;01m_core\u001b[39;00m\u001b[38;5;21;01m.\u001b[39;00m\u001b[38;5;21;01mmerge\u001b[39;00m \u001b[38;5;28;01mimport\u001b[39;00m concat\n\u001b[1;32m      9\u001b[0m     \u001b[38;5;28;01mfrom\u001b[39;00m \u001b[38;5;21;01m.\u001b[39;00m\u001b[38;5;21;01m_core\u001b[39;00m\u001b[38;5;21;01m.\u001b[39;00m\u001b[38;5;21;01mraw\u001b[39;00m \u001b[38;5;28;01mimport\u001b[39;00m Raw\n",
      "File \u001b[0;32m/srv/conda/envs/saturn/lib/python3.9/site-packages/anndata/_core/anndata.py:27\u001b[0m, in \u001b[0;36m<module>\u001b[0;34m\u001b[0m\n\u001b[1;32m     24\u001b[0m \u001b[38;5;28;01mfrom\u001b[39;00m \u001b[38;5;21;01mscipy\u001b[39;00m\u001b[38;5;21;01m.\u001b[39;00m\u001b[38;5;21;01msparse\u001b[39;00m \u001b[38;5;28;01mimport\u001b[39;00m issparse, csr_matrix\n\u001b[1;32m     26\u001b[0m \u001b[38;5;28;01mfrom\u001b[39;00m \u001b[38;5;21;01manndata\u001b[39;00m\u001b[38;5;21;01m.\u001b[39;00m\u001b[38;5;21;01m_warnings\u001b[39;00m \u001b[38;5;28;01mimport\u001b[39;00m ImplicitModificationWarning\n\u001b[0;32m---> 27\u001b[0m \u001b[38;5;28;01mfrom\u001b[39;00m \u001b[38;5;21;01m.\u001b[39;00m\u001b[38;5;21;01mraw\u001b[39;00m \u001b[38;5;28;01mimport\u001b[39;00m Raw\n\u001b[1;32m     28\u001b[0m \u001b[38;5;28;01mfrom\u001b[39;00m \u001b[38;5;21;01m.\u001b[39;00m\u001b[38;5;21;01mindex\u001b[39;00m \u001b[38;5;28;01mimport\u001b[39;00m _normalize_indices, _subset, Index, Index1D, get_vector\n\u001b[1;32m     29\u001b[0m \u001b[38;5;28;01mfrom\u001b[39;00m \u001b[38;5;21;01m.\u001b[39;00m\u001b[38;5;21;01mfile_backing\u001b[39;00m \u001b[38;5;28;01mimport\u001b[39;00m AnnDataFileManager, to_memory\n",
      "File \u001b[0;32m/srv/conda/envs/saturn/lib/python3.9/site-packages/anndata/_core/raw.py:11\u001b[0m, in \u001b[0;36m<module>\u001b[0;34m\u001b[0m\n\u001b[1;32m      9\u001b[0m \u001b[38;5;28;01mfrom\u001b[39;00m \u001b[38;5;21;01m.\u001b[39;00m \u001b[38;5;28;01mimport\u001b[39;00m anndata\n\u001b[1;32m     10\u001b[0m \u001b[38;5;28;01mfrom\u001b[39;00m \u001b[38;5;21;01m.\u001b[39;00m\u001b[38;5;21;01mindex\u001b[39;00m \u001b[38;5;28;01mimport\u001b[39;00m _normalize_index, _subset, unpack_index, get_vector\n\u001b[0;32m---> 11\u001b[0m \u001b[38;5;28;01mfrom\u001b[39;00m \u001b[38;5;21;01m.\u001b[39;00m\u001b[38;5;21;01maligned_mapping\u001b[39;00m \u001b[38;5;28;01mimport\u001b[39;00m AxisArrays, AxisArraysView\n\u001b[1;32m     12\u001b[0m \u001b[38;5;28;01mfrom\u001b[39;00m \u001b[38;5;21;01m.\u001b[39;00m\u001b[38;5;21;01msparse_dataset\u001b[39;00m \u001b[38;5;28;01mimport\u001b[39;00m SparseDataset\n\u001b[1;32m     15\u001b[0m \u001b[38;5;66;03m# TODO: Implement views for Raw\u001b[39;00m\n",
      "File \u001b[0;32m/srv/conda/envs/saturn/lib/python3.9/site-packages/anndata/_core/aligned_mapping.py:11\u001b[0m, in \u001b[0;36m<module>\u001b[0;34m\u001b[0m\n\u001b[1;32m      8\u001b[0m \u001b[38;5;28;01mimport\u001b[39;00m \u001b[38;5;21;01mpandas\u001b[39;00m \u001b[38;5;28;01mas\u001b[39;00m \u001b[38;5;21;01mpd\u001b[39;00m\n\u001b[1;32m      9\u001b[0m \u001b[38;5;28;01mfrom\u001b[39;00m \u001b[38;5;21;01mscipy\u001b[39;00m\u001b[38;5;21;01m.\u001b[39;00m\u001b[38;5;21;01msparse\u001b[39;00m \u001b[38;5;28;01mimport\u001b[39;00m spmatrix\n\u001b[0;32m---> 11\u001b[0m \u001b[38;5;28;01mfrom\u001b[39;00m \u001b[38;5;21;01m.\u001b[39;00m\u001b[38;5;21;01m.\u001b[39;00m\u001b[38;5;21;01mutils\u001b[39;00m \u001b[38;5;28;01mimport\u001b[39;00m deprecated, ensure_df_homogeneous\n\u001b[1;32m     12\u001b[0m \u001b[38;5;28;01mfrom\u001b[39;00m \u001b[38;5;21;01m.\u001b[39;00m \u001b[38;5;28;01mimport\u001b[39;00m raw, anndata\n\u001b[1;32m     13\u001b[0m \u001b[38;5;28;01mfrom\u001b[39;00m \u001b[38;5;21;01m.\u001b[39;00m\u001b[38;5;21;01mviews\u001b[39;00m \u001b[38;5;28;01mimport\u001b[39;00m as_view\n",
      "File \u001b[0;32m/srv/conda/envs/saturn/lib/python3.9/site-packages/anndata/utils.py:11\u001b[0m, in \u001b[0;36m<module>\u001b[0;34m\u001b[0m\n\u001b[1;32m      8\u001b[0m \u001b[38;5;28;01mfrom\u001b[39;00m \u001b[38;5;21;01mscipy\u001b[39;00m \u001b[38;5;28;01mimport\u001b[39;00m sparse\n\u001b[1;32m     10\u001b[0m \u001b[38;5;28;01mfrom\u001b[39;00m \u001b[38;5;21;01m.\u001b[39;00m\u001b[38;5;21;01mlogging\u001b[39;00m \u001b[38;5;28;01mimport\u001b[39;00m get_logger\n\u001b[0;32m---> 11\u001b[0m \u001b[38;5;28;01mfrom\u001b[39;00m \u001b[38;5;21;01m.\u001b[39;00m\u001b[38;5;21;01m_core\u001b[39;00m\u001b[38;5;21;01m.\u001b[39;00m\u001b[38;5;21;01msparse_dataset\u001b[39;00m \u001b[38;5;28;01mimport\u001b[39;00m SparseDataset\n\u001b[1;32m     13\u001b[0m logger \u001b[38;5;241m=\u001b[39m get_logger(\u001b[38;5;18m__name__\u001b[39m)\n\u001b[1;32m     16\u001b[0m \u001b[38;5;129m@singledispatch\u001b[39m\n\u001b[1;32m     17\u001b[0m \u001b[38;5;28;01mdef\u001b[39;00m \u001b[38;5;21masarray\u001b[39m(x):\n",
      "File \u001b[0;32m/srv/conda/envs/saturn/lib/python3.9/site-packages/anndata/_core/sparse_dataset.py:23\u001b[0m, in \u001b[0;36m<module>\u001b[0;34m\u001b[0m\n\u001b[1;32m     20\u001b[0m \u001b[38;5;28;01mimport\u001b[39;00m \u001b[38;5;21;01mscipy\u001b[39;00m\u001b[38;5;21;01m.\u001b[39;00m\u001b[38;5;21;01msparse\u001b[39;00m \u001b[38;5;28;01mas\u001b[39;00m \u001b[38;5;21;01mss\u001b[39;00m\n\u001b[1;32m     21\u001b[0m \u001b[38;5;28;01mfrom\u001b[39;00m \u001b[38;5;21;01mscipy\u001b[39;00m\u001b[38;5;21;01m.\u001b[39;00m\u001b[38;5;21;01msparse\u001b[39;00m \u001b[38;5;28;01mimport\u001b[39;00m _sparsetools\n\u001b[0;32m---> 23\u001b[0m \u001b[38;5;28;01mfrom\u001b[39;00m \u001b[38;5;21;01m.\u001b[39;00m\u001b[38;5;21;01m.\u001b[39;00m\u001b[38;5;21;01mcompat\u001b[39;00m \u001b[38;5;28;01mimport\u001b[39;00m _read_attr\n\u001b[1;32m     25\u001b[0m \u001b[38;5;28;01mtry\u001b[39;00m:\n\u001b[1;32m     26\u001b[0m     \u001b[38;5;66;03m# Not really important, just for IDEs to be more helpful\u001b[39;00m\n\u001b[1;32m     27\u001b[0m     \u001b[38;5;28;01mfrom\u001b[39;00m \u001b[38;5;21;01mscipy\u001b[39;00m\u001b[38;5;21;01m.\u001b[39;00m\u001b[38;5;21;01msparse\u001b[39;00m\u001b[38;5;21;01m.\u001b[39;00m\u001b[38;5;21;01mcompressed\u001b[39;00m \u001b[38;5;28;01mimport\u001b[39;00m _cs_matrix\n",
      "File \u001b[0;32m/srv/conda/envs/saturn/lib/python3.9/site-packages/anndata/compat/__init__.py:55\u001b[0m, in \u001b[0;36m<module>\u001b[0;34m\u001b[0m\n\u001b[1;32m     51\u001b[0m             \u001b[38;5;28;01mreturn\u001b[39;00m \u001b[38;5;124m\"\u001b[39m\u001b[38;5;124mmock zappy.base.ZappyArray\u001b[39m\u001b[38;5;124m\"\u001b[39m\n\u001b[1;32m     54\u001b[0m \u001b[38;5;28;01mtry\u001b[39;00m:\n\u001b[0;32m---> 55\u001b[0m     \u001b[38;5;28;01mfrom\u001b[39;00m \u001b[38;5;21;01mdask\u001b[39;00m\u001b[38;5;21;01m.\u001b[39;00m\u001b[38;5;21;01marray\u001b[39;00m \u001b[38;5;28;01mimport\u001b[39;00m Array \u001b[38;5;28;01mas\u001b[39;00m DaskArray\n\u001b[1;32m     56\u001b[0m \u001b[38;5;28;01mexcept\u001b[39;00m \u001b[38;5;167;01mImportError\u001b[39;00m:\n\u001b[1;32m     58\u001b[0m     \u001b[38;5;28;01mclass\u001b[39;00m \u001b[38;5;21;01mDaskArray\u001b[39;00m:\n",
      "File \u001b[0;32m/srv/conda/envs/saturn/lib/python3.9/site-packages/dask/array/__init__.py:2\u001b[0m, in \u001b[0;36m<module>\u001b[0;34m\u001b[0m\n\u001b[1;32m      1\u001b[0m \u001b[38;5;28;01mtry\u001b[39;00m:\n\u001b[0;32m----> 2\u001b[0m     \u001b[38;5;28;01mfrom\u001b[39;00m \u001b[38;5;21;01mdask\u001b[39;00m\u001b[38;5;21;01m.\u001b[39;00m\u001b[38;5;21;01marray\u001b[39;00m \u001b[38;5;28;01mimport\u001b[39;00m backends, fft, lib, linalg, ma, overlap, random\n\u001b[1;32m      3\u001b[0m     \u001b[38;5;28;01mfrom\u001b[39;00m \u001b[38;5;21;01mdask\u001b[39;00m\u001b[38;5;21;01m.\u001b[39;00m\u001b[38;5;21;01marray\u001b[39;00m\u001b[38;5;21;01m.\u001b[39;00m\u001b[38;5;21;01mblockwise\u001b[39;00m \u001b[38;5;28;01mimport\u001b[39;00m atop, blockwise\n\u001b[1;32m      4\u001b[0m     \u001b[38;5;28;01mfrom\u001b[39;00m \u001b[38;5;21;01mdask\u001b[39;00m\u001b[38;5;21;01m.\u001b[39;00m\u001b[38;5;21;01marray\u001b[39;00m\u001b[38;5;21;01m.\u001b[39;00m\u001b[38;5;21;01mchunk_types\u001b[39;00m \u001b[38;5;28;01mimport\u001b[39;00m register_chunk_type\n",
      "File \u001b[0;32m/srv/conda/envs/saturn/lib/python3.9/site-packages/dask/array/backends.py:13\u001b[0m, in \u001b[0;36m<module>\u001b[0;34m\u001b[0m\n\u001b[1;32m     11\u001b[0m \u001b[38;5;28;01mfrom\u001b[39;00m \u001b[38;5;21;01mdask\u001b[39;00m\u001b[38;5;21;01m.\u001b[39;00m\u001b[38;5;21;01marray\u001b[39;00m\u001b[38;5;21;01m.\u001b[39;00m\u001b[38;5;21;01mnumpy_compat\u001b[39;00m \u001b[38;5;28;01mimport\u001b[39;00m divide \u001b[38;5;28;01mas\u001b[39;00m np_divide\n\u001b[1;32m     12\u001b[0m \u001b[38;5;28;01mfrom\u001b[39;00m \u001b[38;5;21;01mdask\u001b[39;00m\u001b[38;5;21;01m.\u001b[39;00m\u001b[38;5;21;01marray\u001b[39;00m\u001b[38;5;21;01m.\u001b[39;00m\u001b[38;5;21;01mnumpy_compat\u001b[39;00m \u001b[38;5;28;01mimport\u001b[39;00m ma_divide\n\u001b[0;32m---> 13\u001b[0m \u001b[38;5;28;01mfrom\u001b[39;00m \u001b[38;5;21;01mdask\u001b[39;00m\u001b[38;5;21;01m.\u001b[39;00m\u001b[38;5;21;01marray\u001b[39;00m\u001b[38;5;21;01m.\u001b[39;00m\u001b[38;5;21;01mpercentile\u001b[39;00m \u001b[38;5;28;01mimport\u001b[39;00m _percentile\n\u001b[1;32m     15\u001b[0m concatenate_lookup\u001b[38;5;241m.\u001b[39mregister((\u001b[38;5;28mobject\u001b[39m, np\u001b[38;5;241m.\u001b[39mndarray), np\u001b[38;5;241m.\u001b[39mconcatenate)\n\u001b[1;32m     16\u001b[0m tensordot_lookup\u001b[38;5;241m.\u001b[39mregister((\u001b[38;5;28mobject\u001b[39m, np\u001b[38;5;241m.\u001b[39mndarray), np\u001b[38;5;241m.\u001b[39mtensordot)\n",
      "File \u001b[0;32m/srv/conda/envs/saturn/lib/python3.9/site-packages/dask/array/percentile.py:9\u001b[0m, in \u001b[0;36m<module>\u001b[0;34m\u001b[0m\n\u001b[1;32m      6\u001b[0m \u001b[38;5;28;01mimport\u001b[39;00m \u001b[38;5;21;01mnumpy\u001b[39;00m \u001b[38;5;28;01mas\u001b[39;00m \u001b[38;5;21;01mnp\u001b[39;00m\n\u001b[1;32m      7\u001b[0m \u001b[38;5;28;01mfrom\u001b[39;00m \u001b[38;5;21;01mtlz\u001b[39;00m \u001b[38;5;28;01mimport\u001b[39;00m merge\n\u001b[0;32m----> 9\u001b[0m \u001b[38;5;28;01mfrom\u001b[39;00m \u001b[38;5;21;01mdask\u001b[39;00m\u001b[38;5;21;01m.\u001b[39;00m\u001b[38;5;21;01marray\u001b[39;00m\u001b[38;5;21;01m.\u001b[39;00m\u001b[38;5;21;01mcore\u001b[39;00m \u001b[38;5;28;01mimport\u001b[39;00m Array\n\u001b[1;32m     10\u001b[0m \u001b[38;5;28;01mfrom\u001b[39;00m \u001b[38;5;21;01mdask\u001b[39;00m\u001b[38;5;21;01m.\u001b[39;00m\u001b[38;5;21;01marray\u001b[39;00m\u001b[38;5;21;01m.\u001b[39;00m\u001b[38;5;21;01mnumpy_compat\u001b[39;00m \u001b[38;5;28;01mimport\u001b[39;00m _numpy_122\n\u001b[1;32m     11\u001b[0m \u001b[38;5;28;01mfrom\u001b[39;00m \u001b[38;5;21;01mdask\u001b[39;00m\u001b[38;5;21;01m.\u001b[39;00m\u001b[38;5;21;01marray\u001b[39;00m\u001b[38;5;21;01m.\u001b[39;00m\u001b[38;5;21;01mnumpy_compat\u001b[39;00m \u001b[38;5;28;01mimport\u001b[39;00m percentile \u001b[38;5;28;01mas\u001b[39;00m np_percentile\n",
      "File \u001b[0;32m/srv/conda/envs/saturn/lib/python3.9/site-packages/dask/array/core.py:38\u001b[0m, in \u001b[0;36m<module>\u001b[0;34m\u001b[0m\n\u001b[1;32m     36\u001b[0m \u001b[38;5;28;01mfrom\u001b[39;00m \u001b[38;5;21;01mdask\u001b[39;00m\u001b[38;5;21;01m.\u001b[39;00m\u001b[38;5;21;01marray\u001b[39;00m \u001b[38;5;28;01mimport\u001b[39;00m chunk\n\u001b[1;32m     37\u001b[0m \u001b[38;5;28;01mfrom\u001b[39;00m \u001b[38;5;21;01mdask\u001b[39;00m\u001b[38;5;21;01m.\u001b[39;00m\u001b[38;5;21;01marray\u001b[39;00m\u001b[38;5;21;01m.\u001b[39;00m\u001b[38;5;21;01mchunk\u001b[39;00m \u001b[38;5;28;01mimport\u001b[39;00m getitem\n\u001b[0;32m---> 38\u001b[0m \u001b[38;5;28;01mfrom\u001b[39;00m \u001b[38;5;21;01mdask\u001b[39;00m\u001b[38;5;21;01m.\u001b[39;00m\u001b[38;5;21;01marray\u001b[39;00m\u001b[38;5;21;01m.\u001b[39;00m\u001b[38;5;21;01mchunk_types\u001b[39;00m \u001b[38;5;28;01mimport\u001b[39;00m is_valid_array_chunk, is_valid_chunk_type\n\u001b[1;32m     40\u001b[0m \u001b[38;5;66;03m# Keep einsum_lookup and tensordot_lookup here for backwards compatibility\u001b[39;00m\n\u001b[1;32m     41\u001b[0m \u001b[38;5;28;01mfrom\u001b[39;00m \u001b[38;5;21;01mdask\u001b[39;00m\u001b[38;5;21;01m.\u001b[39;00m\u001b[38;5;21;01marray\u001b[39;00m\u001b[38;5;21;01m.\u001b[39;00m\u001b[38;5;21;01mdispatch\u001b[39;00m \u001b[38;5;28;01mimport\u001b[39;00m (  \u001b[38;5;66;03m# noqa: F401\u001b[39;00m\n\u001b[1;32m     42\u001b[0m     concatenate_lookup,\n\u001b[1;32m     43\u001b[0m     einsum_lookup,\n\u001b[1;32m     44\u001b[0m     tensordot_lookup,\n\u001b[1;32m     45\u001b[0m )\n",
      "File \u001b[0;32m/srv/conda/envs/saturn/lib/python3.9/site-packages/dask/array/chunk_types.py:124\u001b[0m, in \u001b[0;36m<module>\u001b[0;34m\u001b[0m\n\u001b[1;32m    121\u001b[0m \u001b[38;5;28;01mtry\u001b[39;00m:\n\u001b[1;32m    122\u001b[0m     \u001b[38;5;28;01mimport\u001b[39;00m \u001b[38;5;21;01msparse\u001b[39;00m\n\u001b[0;32m--> 124\u001b[0m     register_chunk_type(\u001b[43msparse\u001b[49m\u001b[38;5;241;43m.\u001b[39;49m\u001b[43mSparseArray\u001b[49m)\n\u001b[1;32m    125\u001b[0m \u001b[38;5;28;01mexcept\u001b[39;00m \u001b[38;5;167;01mImportError\u001b[39;00m:\n\u001b[1;32m    126\u001b[0m     \u001b[38;5;28;01mpass\u001b[39;00m\n",
      "\u001b[0;31mAttributeError\u001b[0m: module 'sparse' has no attribute 'SparseArray'"
     ]
    }
   ],
   "source": [
    "%cd /home/jovyan/kaggle/working\n",
    "%cd MAGIC/python\n",
    "#!pip install pandas 1.3.5\n",
    "!python setup.py install --user\n",
    "\n",
    "import magic\n",
    "magic_operator = magic.MAGIC(random_state=32)\n",
    "denoised=magic_operator.fit_transform(both_small)"
   ]
  },
  {
   "cell_type": "code",
   "execution_count": 6,
   "id": "664c5216-9a4f-439d-add4-9fc19aab790e",
   "metadata": {
    "execution": {
     "iopub.execute_input": "2022-10-14T00:38:52.436135Z",
     "iopub.status.busy": "2022-10-14T00:38:52.435734Z",
     "iopub.status.idle": "2022-10-14T00:38:58.453486Z",
     "shell.execute_reply": "2022-10-14T00:38:58.452739Z",
     "shell.execute_reply.started": "2022-10-14T00:38:52.436108Z"
    },
    "tags": []
   },
   "outputs": [
    {
     "name": "stdout",
     "output_type": "stream",
     "text": [
      "Requirement already satisfied: magic-impute in /home/jovyan/.local/lib/python3.9/site-packages (3.0.0)\n",
      "Requirement already satisfied: future in /home/jovyan/.local/lib/python3.9/site-packages (from magic-impute) (0.18.2)\n",
      "Requirement already satisfied: scikit-learn>=0.19.1 in /opt/saturncloud/envs/saturn/lib/python3.9/site-packages (from magic-impute) (1.1.1)\n",
      "Requirement already satisfied: scprep>=1.0 in /home/jovyan/.local/lib/python3.9/site-packages (from magic-impute) (1.2.1)\n",
      "Requirement already satisfied: matplotlib in /opt/saturncloud/envs/saturn/lib/python3.9/site-packages (from magic-impute) (3.5.2)\n",
      "Requirement already satisfied: tasklogger>=1.0.0 in /home/jovyan/.local/lib/python3.9/site-packages (from magic-impute) (1.2.0)\n",
      "Requirement already satisfied: graphtools>=1.4.0 in /home/jovyan/.local/lib/python3.9/site-packages (from magic-impute) (1.5.2)\n",
      "Requirement already satisfied: numpy>=1.14.0 in /opt/saturncloud/envs/saturn/lib/python3.9/site-packages (from magic-impute) (1.21.6)\n",
      "Requirement already satisfied: pandas>=0.25 in /opt/saturncloud/envs/saturn/lib/python3.9/site-packages (from magic-impute) (1.4.2)\n",
      "Requirement already satisfied: scipy>=1.1.0 in /opt/saturncloud/envs/saturn/lib/python3.9/site-packages (from magic-impute) (1.8.1)\n",
      "Requirement already satisfied: pygsp>=0.5.1 in /home/jovyan/.local/lib/python3.9/site-packages (from graphtools>=1.4.0->magic-impute) (0.5.1)\n",
      "Requirement already satisfied: Deprecated in /home/jovyan/.local/lib/python3.9/site-packages (from graphtools>=1.4.0->magic-impute) (1.2.13)\n",
      "Requirement already satisfied: python-dateutil>=2.8.1 in /opt/saturncloud/envs/saturn/lib/python3.9/site-packages (from pandas>=0.25->magic-impute) (2.8.2)\n",
      "Requirement already satisfied: pytz>=2020.1 in /opt/saturncloud/envs/saturn/lib/python3.9/site-packages (from pandas>=0.25->magic-impute) (2022.1)\n",
      "Requirement already satisfied: threadpoolctl>=2.0.0 in /opt/saturncloud/envs/saturn/lib/python3.9/site-packages (from scikit-learn>=0.19.1->magic-impute) (3.1.0)\n",
      "Requirement already satisfied: joblib>=1.0.0 in /opt/saturncloud/envs/saturn/lib/python3.9/site-packages (from scikit-learn>=0.19.1->magic-impute) (1.1.0)\n",
      "Collecting pandas>=0.25\n",
      "  Using cached pandas-1.3.5-cp39-cp39-manylinux_2_17_x86_64.manylinux2014_x86_64.whl (11.5 MB)\n",
      "Requirement already satisfied: decorator>=4.3.0 in /opt/saturncloud/envs/saturn/lib/python3.9/site-packages (from scprep>=1.0->magic-impute) (5.1.1)\n",
      "Requirement already satisfied: packaging in /opt/saturncloud/envs/saturn/lib/python3.9/site-packages (from scprep>=1.0->magic-impute) (21.3)\n",
      "Requirement already satisfied: pillow>=6.2.0 in /opt/saturncloud/envs/saturn/lib/python3.9/site-packages (from matplotlib->magic-impute) (9.1.1)\n",
      "Requirement already satisfied: fonttools>=4.22.0 in /opt/saturncloud/envs/saturn/lib/python3.9/site-packages (from matplotlib->magic-impute) (4.34.4)\n",
      "Requirement already satisfied: cycler>=0.10 in /opt/saturncloud/envs/saturn/lib/python3.9/site-packages (from matplotlib->magic-impute) (0.11.0)\n",
      "Requirement already satisfied: pyparsing>=2.2.1 in /opt/saturncloud/envs/saturn/lib/python3.9/site-packages (from matplotlib->magic-impute) (3.0.9)\n",
      "Requirement already satisfied: kiwisolver>=1.0.1 in /opt/saturncloud/envs/saturn/lib/python3.9/site-packages (from matplotlib->magic-impute) (1.4.4)\n",
      "Requirement already satisfied: six>=1.5 in /opt/saturncloud/envs/saturn/lib/python3.9/site-packages (from python-dateutil>=2.8.1->pandas>=0.25->magic-impute) (1.16.0)\n",
      "Requirement already satisfied: wrapt<2,>=1.10 in /opt/saturncloud/envs/saturn/lib/python3.9/site-packages (from Deprecated->graphtools>=1.4.0->magic-impute) (1.14.1)\n",
      "Installing collected packages: pandas\n",
      "Successfully installed pandas-1.3.5\n"
     ]
    }
   ],
   "source": [
    "!pip install --user magic-impute"
   ]
  },
  {
   "cell_type": "code",
   "execution_count": 7,
   "id": "39595e52-d535-4047-97d2-e5b46a2aa292",
   "metadata": {
    "execution": {
     "iopub.execute_input": "2022-10-14T00:39:03.744631Z",
     "iopub.status.busy": "2022-10-14T00:39:03.744235Z",
     "iopub.status.idle": "2022-10-14T00:39:04.499466Z",
     "shell.execute_reply": "2022-10-14T00:39:04.498615Z",
     "shell.execute_reply.started": "2022-10-14T00:39:03.744607Z"
    }
   },
   "outputs": [
    {
     "ename": "AttributeError",
     "evalue": "module 'sparse' has no attribute 'SparseArray'",
     "output_type": "error",
     "traceback": [
      "\u001b[0;31m---------------------------------------------------------------------------\u001b[0m",
      "\u001b[0;31mAttributeError\u001b[0m                            Traceback (most recent call last)",
      "Input \u001b[0;32mIn [7]\u001b[0m, in \u001b[0;36m<cell line: 1>\u001b[0;34m()\u001b[0m\n\u001b[0;32m----> 1\u001b[0m \u001b[38;5;28;01mimport\u001b[39;00m \u001b[38;5;21;01mmagic\u001b[39;00m\n",
      "File \u001b[0;32m~/kaggle/working/MAGIC/python/magic/__init__.py:1\u001b[0m, in \u001b[0;36m<module>\u001b[0;34m\u001b[0m\n\u001b[0;32m----> 1\u001b[0m \u001b[38;5;28;01mfrom\u001b[39;00m \u001b[38;5;21;01m.\u001b[39;00m\u001b[38;5;21;01mmagic\u001b[39;00m \u001b[38;5;28;01mimport\u001b[39;00m MAGIC\n\u001b[1;32m      2\u001b[0m \u001b[38;5;28;01mfrom\u001b[39;00m \u001b[38;5;21;01m.\u001b[39;00m\u001b[38;5;21;01mversion\u001b[39;00m \u001b[38;5;28;01mimport\u001b[39;00m __version__\n\u001b[1;32m      4\u001b[0m \u001b[38;5;28;01mimport\u001b[39;00m \u001b[38;5;21;01mmagic\u001b[39;00m\u001b[38;5;21;01m.\u001b[39;00m\u001b[38;5;21;01mplot\u001b[39;00m\n",
      "File \u001b[0;32m~/kaggle/working/MAGIC/python/magic/magic.py:9\u001b[0m, in \u001b[0;36m<module>\u001b[0;34m\u001b[0m\n\u001b[1;32m      1\u001b[0m \u001b[38;5;124;03m\"\"\"\u001b[39;00m\n\u001b[1;32m      2\u001b[0m \u001b[38;5;124;03mMarkov Affinity-based Graph Imputation of Cells (MAGIC)\u001b[39;00m\n\u001b[1;32m      3\u001b[0m \n\u001b[0;32m   (...)\u001b[0m\n\u001b[1;32m      6\u001b[0m \u001b[38;5;124;03m(C) 2018 Krishnaswamy Lab GPLv2\u001b[39;00m\n\u001b[1;32m      7\u001b[0m \u001b[38;5;124;03m\"\"\"\u001b[39;00m\n\u001b[0;32m----> 9\u001b[0m \u001b[38;5;28;01mfrom\u001b[39;00m \u001b[38;5;21;01m.\u001b[39;00m \u001b[38;5;28;01mimport\u001b[39;00m utils\n\u001b[1;32m     10\u001b[0m \u001b[38;5;28;01mfrom\u001b[39;00m \u001b[38;5;21;01mscipy\u001b[39;00m \u001b[38;5;28;01mimport\u001b[39;00m sparse\n\u001b[1;32m     11\u001b[0m \u001b[38;5;28;01mfrom\u001b[39;00m \u001b[38;5;21;01mscipy\u001b[39;00m \u001b[38;5;28;01mimport\u001b[39;00m spatial\n",
      "File \u001b[0;32m~/kaggle/working/MAGIC/python/magic/utils.py:9\u001b[0m, in \u001b[0;36m<module>\u001b[0;34m\u001b[0m\n\u001b[1;32m      6\u001b[0m \u001b[38;5;28;01mimport\u001b[39;00m \u001b[38;5;21;01mscprep\u001b[39;00m\n\u001b[1;32m      8\u001b[0m \u001b[38;5;28;01mtry\u001b[39;00m:\n\u001b[0;32m----> 9\u001b[0m     \u001b[38;5;28;01mimport\u001b[39;00m \u001b[38;5;21;01manndata\u001b[39;00m\n\u001b[1;32m     10\u001b[0m \u001b[38;5;28;01mexcept\u001b[39;00m (\u001b[38;5;167;01mImportError\u001b[39;00m, \u001b[38;5;167;01mSyntaxError\u001b[39;00m):\n\u001b[1;32m     11\u001b[0m     \u001b[38;5;66;03m# anndata not installed\u001b[39;00m\n\u001b[1;32m     12\u001b[0m     \u001b[38;5;28;01mpass\u001b[39;00m\n",
      "File \u001b[0;32m/srv/conda/envs/saturn/lib/python3.9/site-packages/anndata/__init__.py:7\u001b[0m, in \u001b[0;36m<module>\u001b[0;34m\u001b[0m\n\u001b[1;32m      5\u001b[0m \u001b[38;5;28;01mif\u001b[39;00m \u001b[38;5;129;01mnot\u001b[39;00m within_flit():\n\u001b[1;32m      6\u001b[0m     \u001b[38;5;28;01mdel\u001b[39;00m within_flit\n\u001b[0;32m----> 7\u001b[0m     \u001b[38;5;28;01mfrom\u001b[39;00m \u001b[38;5;21;01m.\u001b[39;00m\u001b[38;5;21;01m_core\u001b[39;00m\u001b[38;5;21;01m.\u001b[39;00m\u001b[38;5;21;01manndata\u001b[39;00m \u001b[38;5;28;01mimport\u001b[39;00m AnnData\n\u001b[1;32m      8\u001b[0m     \u001b[38;5;28;01mfrom\u001b[39;00m \u001b[38;5;21;01m.\u001b[39;00m\u001b[38;5;21;01m_core\u001b[39;00m\u001b[38;5;21;01m.\u001b[39;00m\u001b[38;5;21;01mmerge\u001b[39;00m \u001b[38;5;28;01mimport\u001b[39;00m concat\n\u001b[1;32m      9\u001b[0m     \u001b[38;5;28;01mfrom\u001b[39;00m \u001b[38;5;21;01m.\u001b[39;00m\u001b[38;5;21;01m_core\u001b[39;00m\u001b[38;5;21;01m.\u001b[39;00m\u001b[38;5;21;01mraw\u001b[39;00m \u001b[38;5;28;01mimport\u001b[39;00m Raw\n",
      "File \u001b[0;32m/srv/conda/envs/saturn/lib/python3.9/site-packages/anndata/_core/anndata.py:27\u001b[0m, in \u001b[0;36m<module>\u001b[0;34m\u001b[0m\n\u001b[1;32m     24\u001b[0m \u001b[38;5;28;01mfrom\u001b[39;00m \u001b[38;5;21;01mscipy\u001b[39;00m\u001b[38;5;21;01m.\u001b[39;00m\u001b[38;5;21;01msparse\u001b[39;00m \u001b[38;5;28;01mimport\u001b[39;00m issparse, csr_matrix\n\u001b[1;32m     26\u001b[0m \u001b[38;5;28;01mfrom\u001b[39;00m \u001b[38;5;21;01manndata\u001b[39;00m\u001b[38;5;21;01m.\u001b[39;00m\u001b[38;5;21;01m_warnings\u001b[39;00m \u001b[38;5;28;01mimport\u001b[39;00m ImplicitModificationWarning\n\u001b[0;32m---> 27\u001b[0m \u001b[38;5;28;01mfrom\u001b[39;00m \u001b[38;5;21;01m.\u001b[39;00m\u001b[38;5;21;01mraw\u001b[39;00m \u001b[38;5;28;01mimport\u001b[39;00m Raw\n\u001b[1;32m     28\u001b[0m \u001b[38;5;28;01mfrom\u001b[39;00m \u001b[38;5;21;01m.\u001b[39;00m\u001b[38;5;21;01mindex\u001b[39;00m \u001b[38;5;28;01mimport\u001b[39;00m _normalize_indices, _subset, Index, Index1D, get_vector\n\u001b[1;32m     29\u001b[0m \u001b[38;5;28;01mfrom\u001b[39;00m \u001b[38;5;21;01m.\u001b[39;00m\u001b[38;5;21;01mfile_backing\u001b[39;00m \u001b[38;5;28;01mimport\u001b[39;00m AnnDataFileManager, to_memory\n",
      "File \u001b[0;32m/srv/conda/envs/saturn/lib/python3.9/site-packages/anndata/_core/raw.py:11\u001b[0m, in \u001b[0;36m<module>\u001b[0;34m\u001b[0m\n\u001b[1;32m      9\u001b[0m \u001b[38;5;28;01mfrom\u001b[39;00m \u001b[38;5;21;01m.\u001b[39;00m \u001b[38;5;28;01mimport\u001b[39;00m anndata\n\u001b[1;32m     10\u001b[0m \u001b[38;5;28;01mfrom\u001b[39;00m \u001b[38;5;21;01m.\u001b[39;00m\u001b[38;5;21;01mindex\u001b[39;00m \u001b[38;5;28;01mimport\u001b[39;00m _normalize_index, _subset, unpack_index, get_vector\n\u001b[0;32m---> 11\u001b[0m \u001b[38;5;28;01mfrom\u001b[39;00m \u001b[38;5;21;01m.\u001b[39;00m\u001b[38;5;21;01maligned_mapping\u001b[39;00m \u001b[38;5;28;01mimport\u001b[39;00m AxisArrays, AxisArraysView\n\u001b[1;32m     12\u001b[0m \u001b[38;5;28;01mfrom\u001b[39;00m \u001b[38;5;21;01m.\u001b[39;00m\u001b[38;5;21;01msparse_dataset\u001b[39;00m \u001b[38;5;28;01mimport\u001b[39;00m SparseDataset\n\u001b[1;32m     15\u001b[0m \u001b[38;5;66;03m# TODO: Implement views for Raw\u001b[39;00m\n",
      "File \u001b[0;32m/srv/conda/envs/saturn/lib/python3.9/site-packages/anndata/_core/aligned_mapping.py:11\u001b[0m, in \u001b[0;36m<module>\u001b[0;34m\u001b[0m\n\u001b[1;32m      8\u001b[0m \u001b[38;5;28;01mimport\u001b[39;00m \u001b[38;5;21;01mpandas\u001b[39;00m \u001b[38;5;28;01mas\u001b[39;00m \u001b[38;5;21;01mpd\u001b[39;00m\n\u001b[1;32m      9\u001b[0m \u001b[38;5;28;01mfrom\u001b[39;00m \u001b[38;5;21;01mscipy\u001b[39;00m\u001b[38;5;21;01m.\u001b[39;00m\u001b[38;5;21;01msparse\u001b[39;00m \u001b[38;5;28;01mimport\u001b[39;00m spmatrix\n\u001b[0;32m---> 11\u001b[0m \u001b[38;5;28;01mfrom\u001b[39;00m \u001b[38;5;21;01m.\u001b[39;00m\u001b[38;5;21;01m.\u001b[39;00m\u001b[38;5;21;01mutils\u001b[39;00m \u001b[38;5;28;01mimport\u001b[39;00m deprecated, ensure_df_homogeneous\n\u001b[1;32m     12\u001b[0m \u001b[38;5;28;01mfrom\u001b[39;00m \u001b[38;5;21;01m.\u001b[39;00m \u001b[38;5;28;01mimport\u001b[39;00m raw, anndata\n\u001b[1;32m     13\u001b[0m \u001b[38;5;28;01mfrom\u001b[39;00m \u001b[38;5;21;01m.\u001b[39;00m\u001b[38;5;21;01mviews\u001b[39;00m \u001b[38;5;28;01mimport\u001b[39;00m as_view\n",
      "File \u001b[0;32m/srv/conda/envs/saturn/lib/python3.9/site-packages/anndata/utils.py:11\u001b[0m, in \u001b[0;36m<module>\u001b[0;34m\u001b[0m\n\u001b[1;32m      8\u001b[0m \u001b[38;5;28;01mfrom\u001b[39;00m \u001b[38;5;21;01mscipy\u001b[39;00m \u001b[38;5;28;01mimport\u001b[39;00m sparse\n\u001b[1;32m     10\u001b[0m \u001b[38;5;28;01mfrom\u001b[39;00m \u001b[38;5;21;01m.\u001b[39;00m\u001b[38;5;21;01mlogging\u001b[39;00m \u001b[38;5;28;01mimport\u001b[39;00m get_logger\n\u001b[0;32m---> 11\u001b[0m \u001b[38;5;28;01mfrom\u001b[39;00m \u001b[38;5;21;01m.\u001b[39;00m\u001b[38;5;21;01m_core\u001b[39;00m\u001b[38;5;21;01m.\u001b[39;00m\u001b[38;5;21;01msparse_dataset\u001b[39;00m \u001b[38;5;28;01mimport\u001b[39;00m SparseDataset\n\u001b[1;32m     13\u001b[0m logger \u001b[38;5;241m=\u001b[39m get_logger(\u001b[38;5;18m__name__\u001b[39m)\n\u001b[1;32m     16\u001b[0m \u001b[38;5;129m@singledispatch\u001b[39m\n\u001b[1;32m     17\u001b[0m \u001b[38;5;28;01mdef\u001b[39;00m \u001b[38;5;21masarray\u001b[39m(x):\n",
      "File \u001b[0;32m/srv/conda/envs/saturn/lib/python3.9/site-packages/anndata/_core/sparse_dataset.py:23\u001b[0m, in \u001b[0;36m<module>\u001b[0;34m\u001b[0m\n\u001b[1;32m     20\u001b[0m \u001b[38;5;28;01mimport\u001b[39;00m \u001b[38;5;21;01mscipy\u001b[39;00m\u001b[38;5;21;01m.\u001b[39;00m\u001b[38;5;21;01msparse\u001b[39;00m \u001b[38;5;28;01mas\u001b[39;00m \u001b[38;5;21;01mss\u001b[39;00m\n\u001b[1;32m     21\u001b[0m \u001b[38;5;28;01mfrom\u001b[39;00m \u001b[38;5;21;01mscipy\u001b[39;00m\u001b[38;5;21;01m.\u001b[39;00m\u001b[38;5;21;01msparse\u001b[39;00m \u001b[38;5;28;01mimport\u001b[39;00m _sparsetools\n\u001b[0;32m---> 23\u001b[0m \u001b[38;5;28;01mfrom\u001b[39;00m \u001b[38;5;21;01m.\u001b[39;00m\u001b[38;5;21;01m.\u001b[39;00m\u001b[38;5;21;01mcompat\u001b[39;00m \u001b[38;5;28;01mimport\u001b[39;00m _read_attr\n\u001b[1;32m     25\u001b[0m \u001b[38;5;28;01mtry\u001b[39;00m:\n\u001b[1;32m     26\u001b[0m     \u001b[38;5;66;03m# Not really important, just for IDEs to be more helpful\u001b[39;00m\n\u001b[1;32m     27\u001b[0m     \u001b[38;5;28;01mfrom\u001b[39;00m \u001b[38;5;21;01mscipy\u001b[39;00m\u001b[38;5;21;01m.\u001b[39;00m\u001b[38;5;21;01msparse\u001b[39;00m\u001b[38;5;21;01m.\u001b[39;00m\u001b[38;5;21;01mcompressed\u001b[39;00m \u001b[38;5;28;01mimport\u001b[39;00m _cs_matrix\n",
      "File \u001b[0;32m/srv/conda/envs/saturn/lib/python3.9/site-packages/anndata/compat/__init__.py:55\u001b[0m, in \u001b[0;36m<module>\u001b[0;34m\u001b[0m\n\u001b[1;32m     51\u001b[0m             \u001b[38;5;28;01mreturn\u001b[39;00m \u001b[38;5;124m\"\u001b[39m\u001b[38;5;124mmock zappy.base.ZappyArray\u001b[39m\u001b[38;5;124m\"\u001b[39m\n\u001b[1;32m     54\u001b[0m \u001b[38;5;28;01mtry\u001b[39;00m:\n\u001b[0;32m---> 55\u001b[0m     \u001b[38;5;28;01mfrom\u001b[39;00m \u001b[38;5;21;01mdask\u001b[39;00m\u001b[38;5;21;01m.\u001b[39;00m\u001b[38;5;21;01marray\u001b[39;00m \u001b[38;5;28;01mimport\u001b[39;00m Array \u001b[38;5;28;01mas\u001b[39;00m DaskArray\n\u001b[1;32m     56\u001b[0m \u001b[38;5;28;01mexcept\u001b[39;00m \u001b[38;5;167;01mImportError\u001b[39;00m:\n\u001b[1;32m     58\u001b[0m     \u001b[38;5;28;01mclass\u001b[39;00m \u001b[38;5;21;01mDaskArray\u001b[39;00m:\n",
      "File \u001b[0;32m/srv/conda/envs/saturn/lib/python3.9/site-packages/dask/array/__init__.py:2\u001b[0m, in \u001b[0;36m<module>\u001b[0;34m\u001b[0m\n\u001b[1;32m      1\u001b[0m \u001b[38;5;28;01mtry\u001b[39;00m:\n\u001b[0;32m----> 2\u001b[0m     \u001b[38;5;28;01mfrom\u001b[39;00m \u001b[38;5;21;01mdask\u001b[39;00m\u001b[38;5;21;01m.\u001b[39;00m\u001b[38;5;21;01marray\u001b[39;00m \u001b[38;5;28;01mimport\u001b[39;00m backends, fft, lib, linalg, ma, overlap, random\n\u001b[1;32m      3\u001b[0m     \u001b[38;5;28;01mfrom\u001b[39;00m \u001b[38;5;21;01mdask\u001b[39;00m\u001b[38;5;21;01m.\u001b[39;00m\u001b[38;5;21;01marray\u001b[39;00m\u001b[38;5;21;01m.\u001b[39;00m\u001b[38;5;21;01mblockwise\u001b[39;00m \u001b[38;5;28;01mimport\u001b[39;00m atop, blockwise\n\u001b[1;32m      4\u001b[0m     \u001b[38;5;28;01mfrom\u001b[39;00m \u001b[38;5;21;01mdask\u001b[39;00m\u001b[38;5;21;01m.\u001b[39;00m\u001b[38;5;21;01marray\u001b[39;00m\u001b[38;5;21;01m.\u001b[39;00m\u001b[38;5;21;01mchunk_types\u001b[39;00m \u001b[38;5;28;01mimport\u001b[39;00m register_chunk_type\n",
      "File \u001b[0;32m/srv/conda/envs/saturn/lib/python3.9/site-packages/dask/array/backends.py:13\u001b[0m, in \u001b[0;36m<module>\u001b[0;34m\u001b[0m\n\u001b[1;32m     11\u001b[0m \u001b[38;5;28;01mfrom\u001b[39;00m \u001b[38;5;21;01mdask\u001b[39;00m\u001b[38;5;21;01m.\u001b[39;00m\u001b[38;5;21;01marray\u001b[39;00m\u001b[38;5;21;01m.\u001b[39;00m\u001b[38;5;21;01mnumpy_compat\u001b[39;00m \u001b[38;5;28;01mimport\u001b[39;00m divide \u001b[38;5;28;01mas\u001b[39;00m np_divide\n\u001b[1;32m     12\u001b[0m \u001b[38;5;28;01mfrom\u001b[39;00m \u001b[38;5;21;01mdask\u001b[39;00m\u001b[38;5;21;01m.\u001b[39;00m\u001b[38;5;21;01marray\u001b[39;00m\u001b[38;5;21;01m.\u001b[39;00m\u001b[38;5;21;01mnumpy_compat\u001b[39;00m \u001b[38;5;28;01mimport\u001b[39;00m ma_divide\n\u001b[0;32m---> 13\u001b[0m \u001b[38;5;28;01mfrom\u001b[39;00m \u001b[38;5;21;01mdask\u001b[39;00m\u001b[38;5;21;01m.\u001b[39;00m\u001b[38;5;21;01marray\u001b[39;00m\u001b[38;5;21;01m.\u001b[39;00m\u001b[38;5;21;01mpercentile\u001b[39;00m \u001b[38;5;28;01mimport\u001b[39;00m _percentile\n\u001b[1;32m     15\u001b[0m concatenate_lookup\u001b[38;5;241m.\u001b[39mregister((\u001b[38;5;28mobject\u001b[39m, np\u001b[38;5;241m.\u001b[39mndarray), np\u001b[38;5;241m.\u001b[39mconcatenate)\n\u001b[1;32m     16\u001b[0m tensordot_lookup\u001b[38;5;241m.\u001b[39mregister((\u001b[38;5;28mobject\u001b[39m, np\u001b[38;5;241m.\u001b[39mndarray), np\u001b[38;5;241m.\u001b[39mtensordot)\n",
      "File \u001b[0;32m/srv/conda/envs/saturn/lib/python3.9/site-packages/dask/array/percentile.py:9\u001b[0m, in \u001b[0;36m<module>\u001b[0;34m\u001b[0m\n\u001b[1;32m      6\u001b[0m \u001b[38;5;28;01mimport\u001b[39;00m \u001b[38;5;21;01mnumpy\u001b[39;00m \u001b[38;5;28;01mas\u001b[39;00m \u001b[38;5;21;01mnp\u001b[39;00m\n\u001b[1;32m      7\u001b[0m \u001b[38;5;28;01mfrom\u001b[39;00m \u001b[38;5;21;01mtlz\u001b[39;00m \u001b[38;5;28;01mimport\u001b[39;00m merge\n\u001b[0;32m----> 9\u001b[0m \u001b[38;5;28;01mfrom\u001b[39;00m \u001b[38;5;21;01mdask\u001b[39;00m\u001b[38;5;21;01m.\u001b[39;00m\u001b[38;5;21;01marray\u001b[39;00m\u001b[38;5;21;01m.\u001b[39;00m\u001b[38;5;21;01mcore\u001b[39;00m \u001b[38;5;28;01mimport\u001b[39;00m Array\n\u001b[1;32m     10\u001b[0m \u001b[38;5;28;01mfrom\u001b[39;00m \u001b[38;5;21;01mdask\u001b[39;00m\u001b[38;5;21;01m.\u001b[39;00m\u001b[38;5;21;01marray\u001b[39;00m\u001b[38;5;21;01m.\u001b[39;00m\u001b[38;5;21;01mnumpy_compat\u001b[39;00m \u001b[38;5;28;01mimport\u001b[39;00m _numpy_122\n\u001b[1;32m     11\u001b[0m \u001b[38;5;28;01mfrom\u001b[39;00m \u001b[38;5;21;01mdask\u001b[39;00m\u001b[38;5;21;01m.\u001b[39;00m\u001b[38;5;21;01marray\u001b[39;00m\u001b[38;5;21;01m.\u001b[39;00m\u001b[38;5;21;01mnumpy_compat\u001b[39;00m \u001b[38;5;28;01mimport\u001b[39;00m percentile \u001b[38;5;28;01mas\u001b[39;00m np_percentile\n",
      "File \u001b[0;32m/srv/conda/envs/saturn/lib/python3.9/site-packages/dask/array/core.py:38\u001b[0m, in \u001b[0;36m<module>\u001b[0;34m\u001b[0m\n\u001b[1;32m     36\u001b[0m \u001b[38;5;28;01mfrom\u001b[39;00m \u001b[38;5;21;01mdask\u001b[39;00m\u001b[38;5;21;01m.\u001b[39;00m\u001b[38;5;21;01marray\u001b[39;00m \u001b[38;5;28;01mimport\u001b[39;00m chunk\n\u001b[1;32m     37\u001b[0m \u001b[38;5;28;01mfrom\u001b[39;00m \u001b[38;5;21;01mdask\u001b[39;00m\u001b[38;5;21;01m.\u001b[39;00m\u001b[38;5;21;01marray\u001b[39;00m\u001b[38;5;21;01m.\u001b[39;00m\u001b[38;5;21;01mchunk\u001b[39;00m \u001b[38;5;28;01mimport\u001b[39;00m getitem\n\u001b[0;32m---> 38\u001b[0m \u001b[38;5;28;01mfrom\u001b[39;00m \u001b[38;5;21;01mdask\u001b[39;00m\u001b[38;5;21;01m.\u001b[39;00m\u001b[38;5;21;01marray\u001b[39;00m\u001b[38;5;21;01m.\u001b[39;00m\u001b[38;5;21;01mchunk_types\u001b[39;00m \u001b[38;5;28;01mimport\u001b[39;00m is_valid_array_chunk, is_valid_chunk_type\n\u001b[1;32m     40\u001b[0m \u001b[38;5;66;03m# Keep einsum_lookup and tensordot_lookup here for backwards compatibility\u001b[39;00m\n\u001b[1;32m     41\u001b[0m \u001b[38;5;28;01mfrom\u001b[39;00m \u001b[38;5;21;01mdask\u001b[39;00m\u001b[38;5;21;01m.\u001b[39;00m\u001b[38;5;21;01marray\u001b[39;00m\u001b[38;5;21;01m.\u001b[39;00m\u001b[38;5;21;01mdispatch\u001b[39;00m \u001b[38;5;28;01mimport\u001b[39;00m (  \u001b[38;5;66;03m# noqa: F401\u001b[39;00m\n\u001b[1;32m     42\u001b[0m     concatenate_lookup,\n\u001b[1;32m     43\u001b[0m     einsum_lookup,\n\u001b[1;32m     44\u001b[0m     tensordot_lookup,\n\u001b[1;32m     45\u001b[0m )\n",
      "File \u001b[0;32m/srv/conda/envs/saturn/lib/python3.9/site-packages/dask/array/chunk_types.py:124\u001b[0m, in \u001b[0;36m<module>\u001b[0;34m\u001b[0m\n\u001b[1;32m    121\u001b[0m \u001b[38;5;28;01mtry\u001b[39;00m:\n\u001b[1;32m    122\u001b[0m     \u001b[38;5;28;01mimport\u001b[39;00m \u001b[38;5;21;01msparse\u001b[39;00m\n\u001b[0;32m--> 124\u001b[0m     register_chunk_type(\u001b[43msparse\u001b[49m\u001b[38;5;241;43m.\u001b[39;49m\u001b[43mSparseArray\u001b[49m)\n\u001b[1;32m    125\u001b[0m \u001b[38;5;28;01mexcept\u001b[39;00m \u001b[38;5;167;01mImportError\u001b[39;00m:\n\u001b[1;32m    126\u001b[0m     \u001b[38;5;28;01mpass\u001b[39;00m\n",
      "\u001b[0;31mAttributeError\u001b[0m: module 'sparse' has no attribute 'SparseArray'"
     ]
    }
   ],
   "source": [
    "import magic"
   ]
  },
  {
   "cell_type": "code",
   "execution_count": 8,
   "id": "15e00aa3-a702-4fc9-acf3-44ccd6313a98",
   "metadata": {
    "execution": {
     "iopub.execute_input": "2022-10-14T00:39:40.021183Z",
     "iopub.status.busy": "2022-10-14T00:39:40.020811Z",
     "iopub.status.idle": "2022-10-14T00:39:40.024200Z",
     "shell.execute_reply": "2022-10-14T00:39:40.023668Z",
     "shell.execute_reply.started": "2022-10-14T00:39:40.021162Z"
    }
   },
   "outputs": [],
   "source": [
    "import sparse"
   ]
  },
  {
   "cell_type": "code",
   "execution_count": 9,
   "id": "0a8dbfb0-7090-4b82-9888-c3f6025177e8",
   "metadata": {
    "execution": {
     "iopub.execute_input": "2022-10-14T00:39:47.200797Z",
     "iopub.status.busy": "2022-10-14T00:39:47.200413Z",
     "iopub.status.idle": "2022-10-14T00:39:47.212926Z",
     "shell.execute_reply": "2022-10-14T00:39:47.212250Z",
     "shell.execute_reply.started": "2022-10-14T00:39:47.200776Z"
    }
   },
   "outputs": [
    {
     "ename": "AttributeError",
     "evalue": "module 'sparse' has no attribute 'SparseArray'",
     "output_type": "error",
     "traceback": [
      "\u001b[0;31m---------------------------------------------------------------------------\u001b[0m",
      "\u001b[0;31mAttributeError\u001b[0m                            Traceback (most recent call last)",
      "Input \u001b[0;32mIn [9]\u001b[0m, in \u001b[0;36m<cell line: 1>\u001b[0;34m()\u001b[0m\n\u001b[0;32m----> 1\u001b[0m \u001b[43msparse\u001b[49m\u001b[38;5;241;43m.\u001b[39;49m\u001b[43mSparseArray\u001b[49m\n",
      "\u001b[0;31mAttributeError\u001b[0m: module 'sparse' has no attribute 'SparseArray'"
     ]
    }
   ],
   "source": [
    "sparse.SparseArray"
   ]
  },
  {
   "cell_type": "code",
   "execution_count": 2,
   "id": "11470f62-3ac5-45f8-8422-d50417dc5a51",
   "metadata": {
    "execution": {
     "iopub.execute_input": "2022-10-14T00:52:07.280919Z",
     "iopub.status.busy": "2022-10-14T00:52:07.280554Z",
     "iopub.status.idle": "2022-10-14T00:52:13.598365Z",
     "shell.execute_reply": "2022-10-14T00:52:13.597654Z",
     "shell.execute_reply.started": "2022-10-14T00:52:07.280891Z"
    },
    "tags": []
   },
   "outputs": [
    {
     "name": "stdout",
     "output_type": "stream",
     "text": [
      "Requirement already satisfied: magic-impute in /home/jovyan/.local/lib/python3.9/site-packages (3.0.0)\n",
      "Collecting scipy>=1.1.0\n",
      "  Downloading scipy-1.9.2-cp39-cp39-manylinux_2_17_x86_64.manylinux2014_x86_64.whl (33.8 MB)\n",
      "\u001b[2K     \u001b[90m━━━━━━━━━━━━━━━━━━━━━━━━━━━━━━━━━━━━━━━━\u001b[0m \u001b[32m33.8/33.8 MB\u001b[0m \u001b[31m52.2 MB/s\u001b[0m eta \u001b[36m0:00:00\u001b[0m00:01\u001b[0m00:01\u001b[0m\n",
      "\u001b[?25hRequirement already satisfied: scprep>=1.0 in /home/jovyan/.local/lib/python3.9/site-packages (from magic-impute) (1.2.1)\n",
      "Requirement already satisfied: pandas>=0.25 in /home/jovyan/.local/lib/python3.9/site-packages (from magic-impute) (1.3.5)\n",
      "Requirement already satisfied: future in /home/jovyan/.local/lib/python3.9/site-packages (from magic-impute) (0.18.2)\n",
      "Requirement already satisfied: scikit-learn>=0.19.1 in /opt/saturncloud/envs/saturn/lib/python3.9/site-packages (from magic-impute) (1.1.1)\n",
      "Requirement already satisfied: numpy>=1.14.0 in /opt/saturncloud/envs/saturn/lib/python3.9/site-packages (from magic-impute) (1.21.6)\n",
      "Requirement already satisfied: graphtools>=1.4.0 in /home/jovyan/.local/lib/python3.9/site-packages (from magic-impute) (1.5.2)\n",
      "Requirement already satisfied: tasklogger>=1.0.0 in /home/jovyan/.local/lib/python3.9/site-packages (from magic-impute) (1.2.0)\n",
      "Requirement already satisfied: matplotlib in /opt/saturncloud/envs/saturn/lib/python3.9/site-packages (from magic-impute) (3.5.2)\n",
      "Requirement already satisfied: Deprecated in /home/jovyan/.local/lib/python3.9/site-packages (from graphtools>=1.4.0->magic-impute) (1.2.13)\n",
      "Requirement already satisfied: pygsp>=0.5.1 in /home/jovyan/.local/lib/python3.9/site-packages (from graphtools>=1.4.0->magic-impute) (0.5.1)\n",
      "Requirement already satisfied: python-dateutil>=2.7.3 in /opt/saturncloud/envs/saturn/lib/python3.9/site-packages (from pandas>=0.25->magic-impute) (2.8.2)\n",
      "Requirement already satisfied: pytz>=2017.3 in /opt/saturncloud/envs/saturn/lib/python3.9/site-packages (from pandas>=0.25->magic-impute) (2022.1)\n",
      "Requirement already satisfied: joblib>=1.0.0 in /opt/saturncloud/envs/saturn/lib/python3.9/site-packages (from scikit-learn>=0.19.1->magic-impute) (1.1.0)\n",
      "Requirement already satisfied: threadpoolctl>=2.0.0 in /opt/saturncloud/envs/saturn/lib/python3.9/site-packages (from scikit-learn>=0.19.1->magic-impute) (3.1.0)\n",
      "Requirement already satisfied: packaging in /opt/saturncloud/envs/saturn/lib/python3.9/site-packages (from scprep>=1.0->magic-impute) (21.3)\n",
      "Requirement already satisfied: decorator>=4.3.0 in /opt/saturncloud/envs/saturn/lib/python3.9/site-packages (from scprep>=1.0->magic-impute) (5.1.1)\n",
      "Requirement already satisfied: pyparsing>=2.2.1 in /opt/saturncloud/envs/saturn/lib/python3.9/site-packages (from matplotlib->magic-impute) (3.0.9)\n",
      "Requirement already satisfied: cycler>=0.10 in /opt/saturncloud/envs/saturn/lib/python3.9/site-packages (from matplotlib->magic-impute) (0.11.0)\n",
      "Requirement already satisfied: kiwisolver>=1.0.1 in /opt/saturncloud/envs/saturn/lib/python3.9/site-packages (from matplotlib->magic-impute) (1.4.4)\n",
      "Requirement already satisfied: fonttools>=4.22.0 in /opt/saturncloud/envs/saturn/lib/python3.9/site-packages (from matplotlib->magic-impute) (4.34.4)\n",
      "Requirement already satisfied: pillow>=6.2.0 in /opt/saturncloud/envs/saturn/lib/python3.9/site-packages (from matplotlib->magic-impute) (9.1.1)\n",
      "Requirement already satisfied: six>=1.5 in /opt/saturncloud/envs/saturn/lib/python3.9/site-packages (from python-dateutil>=2.7.3->pandas>=0.25->magic-impute) (1.16.0)\n",
      "Requirement already satisfied: wrapt<2,>=1.10 in /opt/saturncloud/envs/saturn/lib/python3.9/site-packages (from Deprecated->graphtools>=1.4.0->magic-impute) (1.14.1)\n",
      "Installing collected packages: scipy\n",
      "Successfully installed scipy-1.9.2\n"
     ]
    }
   ],
   "source": [
    "!pip install magic-impute"
   ]
  },
  {
   "cell_type": "code",
   "execution_count": 4,
   "id": "a35a6f2f-11bf-4c69-be9f-4e5a52d566d1",
   "metadata": {
    "execution": {
     "iopub.execute_input": "2022-10-14T01:10:14.737080Z",
     "iopub.status.busy": "2022-10-14T01:10:14.736695Z",
     "iopub.status.idle": "2022-10-14T01:10:16.101726Z",
     "shell.execute_reply": "2022-10-14T01:10:16.101124Z",
     "shell.execute_reply.started": "2022-10-14T01:10:14.737055Z"
    },
    "tags": []
   },
   "outputs": [],
   "source": [
    "import magic"
   ]
  },
  {
   "cell_type": "code",
   "execution_count": 11,
   "id": "78bd7666-93ae-4223-a1d1-cd058cfb9293",
   "metadata": {
    "execution": {
     "iopub.execute_input": "2022-10-14T00:55:59.374415Z",
     "iopub.status.busy": "2022-10-14T00:55:59.374034Z",
     "iopub.status.idle": "2022-10-14T00:55:59.377355Z",
     "shell.execute_reply": "2022-10-14T00:55:59.376808Z",
     "shell.execute_reply.started": "2022-10-14T00:55:59.374392Z"
    }
   },
   "outputs": [],
   "source": [
    "import sparse"
   ]
  },
  {
   "cell_type": "code",
   "execution_count": 18,
   "id": "4e6511da-3a05-4bf1-a28a-e7c3a586e06c",
   "metadata": {
    "execution": {
     "iopub.execute_input": "2022-10-14T00:58:23.406442Z",
     "iopub.status.busy": "2022-10-14T00:58:23.406066Z",
     "iopub.status.idle": "2022-10-14T00:58:23.418106Z",
     "shell.execute_reply": "2022-10-14T00:58:23.417387Z",
     "shell.execute_reply.started": "2022-10-14T00:58:23.406420Z"
    },
    "tags": []
   },
   "outputs": [
    {
     "ename": "ModuleNotFoundError",
     "evalue": "No module named 'sparse.SparseArray'",
     "output_type": "error",
     "traceback": [
      "\u001b[0;31m---------------------------------------------------------------------------\u001b[0m",
      "\u001b[0;31mModuleNotFoundError\u001b[0m                       Traceback (most recent call last)",
      "Input \u001b[0;32mIn [18]\u001b[0m, in \u001b[0;36m<cell line: 1>\u001b[0;34m()\u001b[0m\n\u001b[0;32m----> 1\u001b[0m \u001b[38;5;28;01mimport\u001b[39;00m \u001b[38;5;21;01msparse\u001b[39;00m\u001b[38;5;21;01m.\u001b[39;00m\u001b[38;5;21;01mSparseArray\u001b[39;00m\n",
      "\u001b[0;31mModuleNotFoundError\u001b[0m: No module named 'sparse.SparseArray'"
     ]
    }
   ],
   "source": [
    "import sparse.SparseArray"
   ]
  },
  {
   "cell_type": "code",
   "execution_count": 25,
   "id": "6cf4a738-0055-4522-a6b1-1e4f3a4e13b2",
   "metadata": {
    "execution": {
     "iopub.execute_input": "2022-10-14T01:01:09.463587Z",
     "iopub.status.busy": "2022-10-14T01:01:09.463210Z",
     "iopub.status.idle": "2022-10-14T01:01:09.475558Z",
     "shell.execute_reply": "2022-10-14T01:01:09.474865Z",
     "shell.execute_reply.started": "2022-10-14T01:01:09.463565Z"
    },
    "tags": []
   },
   "outputs": [
    {
     "ename": "AttributeError",
     "evalue": "module 'sparse' has no attribute '__builtins__'",
     "output_type": "error",
     "traceback": [
      "\u001b[0;31m---------------------------------------------------------------------------\u001b[0m",
      "\u001b[0;31mAttributeError\u001b[0m                            Traceback (most recent call last)",
      "Input \u001b[0;32mIn [25]\u001b[0m, in \u001b[0;36m<cell line: 1>\u001b[0;34m()\u001b[0m\n\u001b[0;32m----> 1\u001b[0m \u001b[43msparse\u001b[49m\u001b[38;5;241;43m.\u001b[39;49m\u001b[43m__builtins__\u001b[49m()\n",
      "\u001b[0;31mAttributeError\u001b[0m: module 'sparse' has no attribute '__builtins__'"
     ]
    }
   ],
   "source": [
    "sparse.__builtins__()"
   ]
  },
  {
   "cell_type": "code",
   "execution_count": 37,
   "id": "c0d936f4-d0a5-4dea-881e-b59052a340e6",
   "metadata": {
    "execution": {
     "iopub.execute_input": "2022-10-14T01:03:53.321770Z",
     "iopub.status.busy": "2022-10-14T01:03:53.321361Z",
     "iopub.status.idle": "2022-10-14T01:03:56.073393Z",
     "shell.execute_reply": "2022-10-14T01:03:56.072664Z",
     "shell.execute_reply.started": "2022-10-14T01:03:53.321728Z"
    }
   },
   "outputs": [
    {
     "name": "stdout",
     "output_type": "stream",
     "text": [
      "Collecting sparse\n",
      "  Using cached sparse-0.13.0-py2.py3-none-any.whl (77 kB)\n",
      "Requirement already satisfied: scipy>=0.19 in /opt/saturncloud/envs/saturn/lib/python3.9/site-packages (from sparse) (1.9.2)\n",
      "Requirement already satisfied: numpy>=1.17 in /opt/saturncloud/envs/saturn/lib/python3.9/site-packages (from sparse) (1.21.6)\n",
      "Requirement already satisfied: numba>=0.49 in /opt/saturncloud/envs/saturn/lib/python3.9/site-packages (from sparse) (0.55.2)\n",
      "Requirement already satisfied: llvmlite<0.39,>=0.38.0rc1 in /opt/saturncloud/envs/saturn/lib/python3.9/site-packages (from numba>=0.49->sparse) (0.38.1)\n",
      "Requirement already satisfied: setuptools in /opt/saturncloud/envs/saturn/lib/python3.9/site-packages (from numba>=0.49->sparse) (59.8.0)\n",
      "Installing collected packages: sparse\n",
      "Successfully installed sparse-0.13.0\n"
     ]
    }
   ],
   "source": [
    "!pip install sparse"
   ]
  },
  {
   "cell_type": "code",
   "execution_count": 47,
   "id": "ff16f52f-ea15-4db5-ac56-8b30fd107847",
   "metadata": {
    "execution": {
     "iopub.execute_input": "2022-10-14T01:05:13.621815Z",
     "iopub.status.busy": "2022-10-14T01:05:13.621389Z",
     "iopub.status.idle": "2022-10-14T01:05:14.831763Z",
     "shell.execute_reply": "2022-10-14T01:05:14.830989Z",
     "shell.execute_reply.started": "2022-10-14T01:05:13.621792Z"
    }
   },
   "outputs": [
    {
     "name": "stdout",
     "output_type": "stream",
     "text": [
      "Found existing installation: sparse 0.13.0\n",
      "Uninstalling sparse-0.13.0:\n",
      "  Successfully uninstalled sparse-0.13.0\n"
     ]
    }
   ],
   "source": [
    "!pip uninstall sparse -y"
   ]
  },
  {
   "cell_type": "code",
   "execution_count": 1,
   "id": "e15ea10e-12f0-4074-accf-73ca1497a22b",
   "metadata": {
    "execution": {
     "iopub.execute_input": "2022-10-14T01:07:03.599107Z",
     "iopub.status.busy": "2022-10-14T01:07:03.598794Z",
     "iopub.status.idle": "2022-10-14T01:08:09.689279Z",
     "shell.execute_reply": "2022-10-14T01:08:09.688656Z",
     "shell.execute_reply.started": "2022-10-14T01:07:03.599057Z"
    },
    "tags": []
   },
   "outputs": [
    {
     "name": "stdout",
     "output_type": "stream",
     "text": [
      "Collecting package metadata (current_repodata.json): done\n",
      "Solving environment: done\n",
      "\n",
      "\n",
      "==> WARNING: A newer version of conda exists. <==\n",
      "  current version: 4.12.0\n",
      "  latest version: 22.9.0\n",
      "\n",
      "Please update conda by running\n",
      "\n",
      "    $ conda update -n base -c defaults conda\n",
      "\n",
      "\n",
      "\n",
      "## Package Plan ##\n",
      "\n",
      "  environment location: /opt/saturncloud/envs/saturn\n",
      "\n",
      "  added / updated specs:\n",
      "    - sparse\n",
      "\n",
      "\n",
      "The following packages will be downloaded:\n",
      "\n",
      "    package                    |            build\n",
      "    ---------------------------|-----------------\n",
      "    ca-certificates-2022.9.24  |       ha878542_0         150 KB  conda-forge\n",
      "    certifi-2022.9.24          |     pyhd8ed1ab_0         155 KB  conda-forge\n",
      "    sparse-0.13.0              |     pyhd8ed1ab_0          59 KB  conda-forge\n",
      "    ------------------------------------------------------------\n",
      "                                           Total:         364 KB\n",
      "\n",
      "The following NEW packages will be INSTALLED:\n",
      "\n",
      "  sparse             conda-forge/noarch::sparse-0.13.0-pyhd8ed1ab_0\n",
      "\n",
      "The following packages will be UPDATED:\n",
      "\n",
      "  ca-certificates                      2022.6.15-ha878542_0 --> 2022.9.24-ha878542_0\n",
      "  certifi            conda-forge/linux-64::certifi-2022.6.~ --> conda-forge/noarch::certifi-2022.9.24-pyhd8ed1ab_0\n",
      "\n",
      "\n",
      "\n",
      "Downloading and Extracting Packages\n",
      "sparse-0.13.0        | 59 KB     | ##################################### | 100% \n",
      "certifi-2022.9.24    | 155 KB    | ##################################### | 100% \n",
      "ca-certificates-2022 | 150 KB    | ##################################### | 100% \n",
      "Preparing transaction: done\n",
      "Verifying transaction: done\n",
      "Executing transaction: done\n"
     ]
    }
   ],
   "source": [
    "!conda install sparse -y"
   ]
  },
  {
   "cell_type": "code",
   "execution_count": 3,
   "id": "39124865-f489-4ea7-9fe3-69a6a325f0fb",
   "metadata": {
    "execution": {
     "iopub.execute_input": "2022-10-14T01:10:00.937550Z",
     "iopub.status.busy": "2022-10-14T01:10:00.937178Z",
     "iopub.status.idle": "2022-10-14T01:10:00.946366Z",
     "shell.execute_reply": "2022-10-14T01:10:00.945630Z",
     "shell.execute_reply.started": "2022-10-14T01:10:00.937527Z"
    },
    "tags": []
   },
   "outputs": [
    {
     "data": {
      "text/plain": [
       "'/srv/conda/envs/saturn/lib/python3.9/site-packages/sparse'"
      ]
     },
     "execution_count": 3,
     "metadata": {},
     "output_type": "execute_result"
    }
   ],
   "source": [
    "import os\n",
    "import sparse\n",
    "os.path.dirname(sparse.__file__)"
   ]
  },
  {
   "cell_type": "code",
   "execution_count": 42,
   "id": "158ca80c-5107-4b29-ac77-94e41ce789fc",
   "metadata": {
    "execution": {
     "iopub.execute_input": "2022-10-14T01:04:29.186969Z",
     "iopub.status.busy": "2022-10-14T01:04:29.186564Z",
     "iopub.status.idle": "2022-10-14T01:04:29.204140Z",
     "shell.execute_reply": "2022-10-14T01:04:29.203476Z",
     "shell.execute_reply.started": "2022-10-14T01:04:29.186948Z"
    },
    "tags": []
   },
   "outputs": [
    {
     "ename": "TypeError",
     "evalue": "expected str, bytes or os.PathLike object, not NoneType",
     "output_type": "error",
     "traceback": [
      "\u001b[0;31m---------------------------------------------------------------------------\u001b[0m",
      "\u001b[0;31mTypeError\u001b[0m                                 Traceback (most recent call last)",
      "Input \u001b[0;32mIn [42]\u001b[0m, in \u001b[0;36m<cell line: 3>\u001b[0;34m()\u001b[0m\n\u001b[1;32m      1\u001b[0m \u001b[38;5;28;01mimport\u001b[39;00m \u001b[38;5;21;01mos\u001b[39;00m\u001b[38;5;21;01m.\u001b[39;00m\u001b[38;5;21;01mpath\u001b[39;00m\u001b[38;5;241m,\u001b[39m \u001b[38;5;21;01mpkgutil\u001b[39;00m\n\u001b[1;32m      2\u001b[0m \u001b[38;5;28;01mimport\u001b[39;00m \u001b[38;5;21;01msparse\u001b[39;00m\n\u001b[0;32m----> 3\u001b[0m pkgpath \u001b[38;5;241m=\u001b[39m \u001b[43mos\u001b[49m\u001b[38;5;241;43m.\u001b[39;49m\u001b[43mpath\u001b[49m\u001b[38;5;241;43m.\u001b[39;49m\u001b[43mdirname\u001b[49m\u001b[43m(\u001b[49m\u001b[43msparse\u001b[49m\u001b[38;5;241;43m.\u001b[39;49m\u001b[38;5;18;43m__file__\u001b[39;49m\u001b[43m)\u001b[49m\n\u001b[1;32m      4\u001b[0m \u001b[38;5;28mprint\u001b[39m([name \u001b[38;5;28;01mfor\u001b[39;00m _, name, _ \u001b[38;5;129;01min\u001b[39;00m pkgutil\u001b[38;5;241m.\u001b[39miter_modules([pkgpath])])\n",
      "File \u001b[0;32m/srv/conda/envs/saturn/lib/python3.9/posixpath.py:152\u001b[0m, in \u001b[0;36mdirname\u001b[0;34m(p)\u001b[0m\n\u001b[1;32m    150\u001b[0m \u001b[38;5;28;01mdef\u001b[39;00m \u001b[38;5;21mdirname\u001b[39m(p):\n\u001b[1;32m    151\u001b[0m     \u001b[38;5;124;03m\"\"\"Returns the directory component of a pathname\"\"\"\u001b[39;00m\n\u001b[0;32m--> 152\u001b[0m     p \u001b[38;5;241m=\u001b[39m \u001b[43mos\u001b[49m\u001b[38;5;241;43m.\u001b[39;49m\u001b[43mfspath\u001b[49m\u001b[43m(\u001b[49m\u001b[43mp\u001b[49m\u001b[43m)\u001b[49m\n\u001b[1;32m    153\u001b[0m     sep \u001b[38;5;241m=\u001b[39m _get_sep(p)\n\u001b[1;32m    154\u001b[0m     i \u001b[38;5;241m=\u001b[39m p\u001b[38;5;241m.\u001b[39mrfind(sep) \u001b[38;5;241m+\u001b[39m \u001b[38;5;241m1\u001b[39m\n",
      "\u001b[0;31mTypeError\u001b[0m: expected str, bytes or os.PathLike object, not NoneType"
     ]
    }
   ],
   "source": [
    "import os.path, pkgutil\n",
    "import sparse\n",
    "pkgpath = os.path.dirname(sparse.__file__)\n",
    "print([name for _, name, _ in pkgutil.iter_modules([pkgpath])])"
   ]
  },
  {
   "cell_type": "code",
   "execution_count": 27,
   "id": "c9743870-1bba-4c33-a9f7-2d5a0296d348",
   "metadata": {
    "execution": {
     "iopub.execute_input": "2022-10-14T01:02:13.575421Z",
     "iopub.status.busy": "2022-10-14T01:02:13.575062Z",
     "iopub.status.idle": "2022-10-14T01:02:14.793325Z",
     "shell.execute_reply": "2022-10-14T01:02:14.792617Z",
     "shell.execute_reply.started": "2022-10-14T01:02:13.575400Z"
    }
   },
   "outputs": [
    {
     "name": "stdout",
     "output_type": "stream",
     "text": [
      "Found existing installation: sparse 0.13.0\n",
      "Uninstalling sparse-0.13.0:\n",
      "  Successfully uninstalled sparse-0.13.0\n"
     ]
    }
   ],
   "source": [
    "!pip uninstall sparse -y"
   ]
  },
  {
   "cell_type": "code",
   "execution_count": 31,
   "id": "33a60a0c-e7bc-4e3c-9e22-756a9167beac",
   "metadata": {
    "execution": {
     "iopub.execute_input": "2022-10-14T01:02:39.396888Z",
     "iopub.status.busy": "2022-10-14T01:02:39.396512Z",
     "iopub.status.idle": "2022-10-14T01:02:39.399959Z",
     "shell.execute_reply": "2022-10-14T01:02:39.399429Z",
     "shell.execute_reply.started": "2022-10-14T01:02:39.396866Z"
    }
   },
   "outputs": [],
   "source": [
    "import pandas"
   ]
  },
  {
   "cell_type": "code",
   "execution_count": 32,
   "id": "5a95bdbd-d32d-4301-ad1c-f33bf9299889",
   "metadata": {
    "execution": {
     "iopub.execute_input": "2022-10-14T01:02:40.746948Z",
     "iopub.status.busy": "2022-10-14T01:02:40.746567Z",
     "iopub.status.idle": "2022-10-14T01:02:40.751165Z",
     "shell.execute_reply": "2022-10-14T01:02:40.750640Z",
     "shell.execute_reply.started": "2022-10-14T01:02:40.746926Z"
    },
    "tags": []
   },
   "outputs": [
    {
     "data": {
      "text/plain": [
       "[]"
      ]
     },
     "execution_count": 32,
     "metadata": {},
     "output_type": "execute_result"
    }
   ],
   "source": [
    "import pkgutil\n",
    "[name for _, name, _ in pkgutil.iter_modules(['pandas'])]"
   ]
  },
  {
   "cell_type": "code",
   "execution_count": 23,
   "id": "942c132d-643b-42fe-8fd0-90c9937a24b4",
   "metadata": {
    "execution": {
     "iopub.execute_input": "2022-10-14T01:00:04.656204Z",
     "iopub.status.busy": "2022-10-14T01:00:04.655822Z",
     "iopub.status.idle": "2022-10-14T01:00:04.664611Z",
     "shell.execute_reply": "2022-10-14T01:00:04.664110Z",
     "shell.execute_reply.started": "2022-10-14T01:00:04.656180Z"
    }
   },
   "outputs": [
    {
     "data": {
      "text/plain": [
       "['__doc__',\n",
       " '__file__',\n",
       " '__loader__',\n",
       " '__name__',\n",
       " '__package__',\n",
       " '__path__',\n",
       " '__spec__']"
      ]
     },
     "execution_count": 23,
     "metadata": {},
     "output_type": "execute_result"
    }
   ],
   "source": [
    "dir(sparse)"
   ]
  },
  {
   "cell_type": "code",
   "execution_count": 22,
   "id": "dd1382d2-26f7-4f0a-9cc9-b9b526f30d75",
   "metadata": {
    "execution": {
     "iopub.execute_input": "2022-10-14T00:59:14.491225Z",
     "iopub.status.busy": "2022-10-14T00:59:14.490843Z",
     "iopub.status.idle": "2022-10-14T00:59:14.503839Z",
     "shell.execute_reply": "2022-10-14T00:59:14.503158Z",
     "shell.execute_reply.started": "2022-10-14T00:59:14.491202Z"
    },
    "tags": []
   },
   "outputs": [
    {
     "ename": "NameError",
     "evalue": "name 'SparseArray' is not defined",
     "output_type": "error",
     "traceback": [
      "\u001b[0;31m---------------------------------------------------------------------------\u001b[0m",
      "\u001b[0;31mNameError\u001b[0m                                 Traceback (most recent call last)",
      "Input \u001b[0;32mIn [22]\u001b[0m, in \u001b[0;36m<cell line: 1>\u001b[0;34m()\u001b[0m\n\u001b[0;32m----> 1\u001b[0m \u001b[43mSparseArray\u001b[49m\n",
      "\u001b[0;31mNameError\u001b[0m: name 'SparseArray' is not defined"
     ]
    }
   ],
   "source": [
    "SparseArray"
   ]
  },
  {
   "cell_type": "code",
   "execution_count": 20,
   "id": "5022a5fb-df02-44b8-8c99-e8d4cc571b7b",
   "metadata": {
    "execution": {
     "iopub.execute_input": "2022-10-14T00:59:05.113188Z",
     "iopub.status.busy": "2022-10-14T00:59:05.112814Z",
     "iopub.status.idle": "2022-10-14T00:59:05.116298Z",
     "shell.execute_reply": "2022-10-14T00:59:05.115775Z",
     "shell.execute_reply.started": "2022-10-14T00:59:05.113167Z"
    },
    "tags": []
   },
   "outputs": [],
   "source": [
    "from sparse import *"
   ]
  },
  {
   "cell_type": "code",
   "execution_count": 12,
   "id": "debd44b5-7a1e-4f81-9776-d919e5b21fa7",
   "metadata": {
    "execution": {
     "iopub.execute_input": "2022-10-14T00:56:01.281435Z",
     "iopub.status.busy": "2022-10-14T00:56:01.281085Z",
     "iopub.status.idle": "2022-10-14T00:56:01.293000Z",
     "shell.execute_reply": "2022-10-14T00:56:01.292339Z",
     "shell.execute_reply.started": "2022-10-14T00:56:01.281413Z"
    },
    "tags": []
   },
   "outputs": [
    {
     "ename": "AttributeError",
     "evalue": "module 'sparse' has no attribute 'SparseArray'",
     "output_type": "error",
     "traceback": [
      "\u001b[0;31m---------------------------------------------------------------------------\u001b[0m",
      "\u001b[0;31mAttributeError\u001b[0m                            Traceback (most recent call last)",
      "Input \u001b[0;32mIn [12]\u001b[0m, in \u001b[0;36m<cell line: 1>\u001b[0;34m()\u001b[0m\n\u001b[0;32m----> 1\u001b[0m \u001b[43msparse\u001b[49m\u001b[38;5;241;43m.\u001b[39;49m\u001b[43mSparseArray\u001b[49m\n",
      "\u001b[0;31mAttributeError\u001b[0m: module 'sparse' has no attribute 'SparseArray'"
     ]
    }
   ],
   "source": [
    "sparse.SparseArray"
   ]
  },
  {
   "cell_type": "code",
   "execution_count": 9,
   "id": "69343f36-5eb6-4e65-986b-06cd62d94c42",
   "metadata": {
    "execution": {
     "iopub.execute_input": "2022-10-14T00:55:42.618556Z",
     "iopub.status.busy": "2022-10-14T00:55:42.618164Z",
     "iopub.status.idle": "2022-10-14T00:55:45.487478Z",
     "shell.execute_reply": "2022-10-14T00:55:45.486715Z",
     "shell.execute_reply.started": "2022-10-14T00:55:42.618531Z"
    }
   },
   "outputs": [
    {
     "name": "stdout",
     "output_type": "stream",
     "text": [
      "Collecting sparse\n",
      "  Downloading sparse-0.13.0-py2.py3-none-any.whl (77 kB)\n",
      "\u001b[2K     \u001b[90m━━━━━━━━━━━━━━━━━━━━━━━━━━━━━━━━━━━━━━━━\u001b[0m \u001b[32m77.8/77.8 kB\u001b[0m \u001b[31m4.3 MB/s\u001b[0m eta \u001b[36m0:00:00\u001b[0m\n",
      "\u001b[?25hRequirement already satisfied: numba>=0.49 in /opt/saturncloud/envs/saturn/lib/python3.9/site-packages (from sparse) (0.55.2)\n",
      "Requirement already satisfied: scipy>=0.19 in /opt/saturncloud/envs/saturn/lib/python3.9/site-packages (from sparse) (1.9.2)\n",
      "Requirement already satisfied: numpy>=1.17 in /opt/saturncloud/envs/saturn/lib/python3.9/site-packages (from sparse) (1.21.6)\n",
      "Requirement already satisfied: llvmlite<0.39,>=0.38.0rc1 in /opt/saturncloud/envs/saturn/lib/python3.9/site-packages (from numba>=0.49->sparse) (0.38.1)\n",
      "Requirement already satisfied: setuptools in /opt/saturncloud/envs/saturn/lib/python3.9/site-packages (from numba>=0.49->sparse) (59.8.0)\n",
      "Installing collected packages: sparse\n",
      "Successfully installed sparse-0.13.0\n"
     ]
    }
   ],
   "source": [
    "!pip install sparse"
   ]
  },
  {
   "cell_type": "code",
   "execution_count": 8,
   "id": "5298da07-fc5d-4977-9ba6-97fa9d043868",
   "metadata": {
    "execution": {
     "iopub.execute_input": "2022-10-14T00:54:44.895787Z",
     "iopub.status.busy": "2022-10-14T00:54:44.895408Z",
     "iopub.status.idle": "2022-10-14T00:54:44.907644Z",
     "shell.execute_reply": "2022-10-14T00:54:44.906999Z",
     "shell.execute_reply.started": "2022-10-14T00:54:44.895765Z"
    }
   },
   "outputs": [
    {
     "ename": "ModuleNotFoundError",
     "evalue": "No module named 'pydata.sparse'",
     "output_type": "error",
     "traceback": [
      "\u001b[0;31m---------------------------------------------------------------------------\u001b[0m",
      "\u001b[0;31mModuleNotFoundError\u001b[0m                       Traceback (most recent call last)",
      "Input \u001b[0;32mIn [8]\u001b[0m, in \u001b[0;36m<cell line: 1>\u001b[0;34m()\u001b[0m\n\u001b[0;32m----> 1\u001b[0m \u001b[38;5;28;01mimport\u001b[39;00m \u001b[38;5;21;01mpydata\u001b[39;00m\u001b[38;5;21;01m.\u001b[39;00m\u001b[38;5;21;01msparse\u001b[39;00m \u001b[38;5;28;01mas\u001b[39;00m \u001b[38;5;21;01msparse\u001b[39;00m\n",
      "\u001b[0;31mModuleNotFoundError\u001b[0m: No module named 'pydata.sparse'"
     ]
    }
   ],
   "source": [
    "import pydata.sparse as sparse"
   ]
  },
  {
   "cell_type": "markdown",
   "id": "a25eb54d-bed3-450b-8e2c-0eaa1a2d0ffe",
   "metadata": {
    "execution": {
     "iopub.execute_input": "2022-10-14T00:54:33.979587Z",
     "iopub.status.busy": "2022-10-14T00:54:33.979214Z",
     "iopub.status.idle": "2022-10-14T00:54:34.090160Z",
     "shell.execute_reply": "2022-10-14T00:54:34.089539Z",
     "shell.execute_reply.started": "2022-10-14T00:54:33.979562Z"
    }
   },
   "source": [
    "import pydata"
   ]
  },
  {
   "cell_type": "code",
   "execution_count": 5,
   "id": "f5a43149-63a9-4e21-aadc-ce695da1c990",
   "metadata": {
    "execution": {
     "iopub.execute_input": "2022-10-14T00:53:57.078487Z",
     "iopub.status.busy": "2022-10-14T00:53:57.078083Z",
     "iopub.status.idle": "2022-10-14T00:54:00.547750Z",
     "shell.execute_reply": "2022-10-14T00:54:00.547015Z",
     "shell.execute_reply.started": "2022-10-14T00:53:57.078460Z"
    },
    "tags": []
   },
   "outputs": [
    {
     "name": "stdout",
     "output_type": "stream",
     "text": [
      "Collecting pydata\n",
      "  Downloading pydata-1.0.0-py3-none-any.whl (5.6 kB)\n",
      "Requirement already satisfied: beautifulsoup4 in /opt/saturncloud/envs/saturn/lib/python3.9/site-packages (from pydata) (4.11.1)\n",
      "Collecting lxml\n",
      "  Downloading lxml-4.9.1-cp39-cp39-manylinux_2_17_x86_64.manylinux2014_x86_64.manylinux_2_24_x86_64.whl (7.0 MB)\n",
      "\u001b[2K     \u001b[90m━━━━━━━━━━━━━━━━━━━━━━━━━━━━━━━━━━━━━━━━\u001b[0m \u001b[32m7.0/7.0 MB\u001b[0m \u001b[31m38.7 MB/s\u001b[0m eta \u001b[36m0:00:00\u001b[0m00:01\u001b[0m00:01\u001b[0m\n",
      "\u001b[?25hRequirement already satisfied: soupsieve>1.2 in /opt/saturncloud/envs/saturn/lib/python3.9/site-packages (from beautifulsoup4->pydata) (2.3.2.post1)\n",
      "Installing collected packages: lxml, pydata\n",
      "Successfully installed lxml-4.9.1 pydata-1.0.0\n"
     ]
    }
   ],
   "source": [
    "!pip install pydata "
   ]
  },
  {
   "cell_type": "code",
   "execution_count": null,
   "id": "aa1e441d-3a4b-4c89-ac05-2be8129c7e4d",
   "metadata": {
    "execution": {
     "iopub.execute_input": "2022-10-14T00:51:40.347089Z",
     "iopub.status.busy": "2022-10-14T00:51:40.346634Z"
    }
   },
   "outputs": [
    {
     "name": "stdout",
     "output_type": "stream",
     "text": [
      "Found existing installation: scipy 1.8.1\n",
      "Uninstalling scipy-1.8.1:\n",
      "  Would remove:\n",
      "    /opt/saturncloud/envs/saturn/lib/python3.9/site-packages/scipy-1.8.1.dist-info/*\n",
      "    /opt/saturncloud/envs/saturn/lib/python3.9/site-packages/scipy/*\n",
      "Proceed (Y/n)? "
     ]
    }
   ],
   "source": [
    "!pip uninstall scipy"
   ]
  },
  {
   "cell_type": "code",
   "execution_count": 1,
   "id": "60b03652-0ffe-4702-8df8-790935a21ac4",
   "metadata": {
    "execution": {
     "iopub.execute_input": "2022-10-14T00:51:58.555454Z",
     "iopub.status.busy": "2022-10-14T00:51:58.555002Z",
     "iopub.status.idle": "2022-10-14T00:52:01.121741Z",
     "shell.execute_reply": "2022-10-14T00:52:01.121115Z",
     "shell.execute_reply.started": "2022-10-14T00:51:58.555394Z"
    }
   },
   "outputs": [
    {
     "name": "stdout",
     "output_type": "stream",
     "text": [
      "Found existing installation: scipy 1.8.1\n",
      "Uninstalling scipy-1.8.1:\n",
      "  Successfully uninstalled scipy-1.8.1\n"
     ]
    }
   ],
   "source": [
    "!pip uninstall scipy -y"
   ]
  },
  {
   "cell_type": "code",
   "execution_count": 11,
   "id": "0da21efc-4643-46a8-87ba-f5c7a0836c92",
   "metadata": {
    "execution": {
     "iopub.execute_input": "2022-10-14T01:18:06.780437Z",
     "iopub.status.busy": "2022-10-14T01:18:06.780062Z",
     "iopub.status.idle": "2022-10-14T01:18:06.784445Z",
     "shell.execute_reply": "2022-10-14T01:18:06.783960Z",
     "shell.execute_reply.started": "2022-10-14T01:18:06.780413Z"
    }
   },
   "outputs": [
    {
     "data": {
      "text/plain": [
       "(10000, 20372)"
      ]
     },
     "execution_count": 11,
     "metadata": {},
     "output_type": "execute_result"
    }
   ],
   "source": [
    "mda_data.shape"
   ]
  },
  {
   "cell_type": "code",
   "execution_count": 12,
   "id": "6b8c2cd4-cf2f-4751-8d6f-4779f8a3f6b6",
   "metadata": {
    "execution": {
     "iopub.execute_input": "2022-10-14T01:18:13.891623Z",
     "iopub.status.busy": "2022-10-14T01:18:13.891240Z",
     "iopub.status.idle": "2022-10-14T01:18:13.895594Z",
     "shell.execute_reply": "2022-10-14T01:18:13.895088Z",
     "shell.execute_reply.started": "2022-10-14T01:18:13.891598Z"
    }
   },
   "outputs": [
    {
     "data": {
      "text/plain": [
       "(10000, 21601)"
      ]
     },
     "execution_count": 12,
     "metadata": {},
     "output_type": "execute_result"
    }
   ],
   "source": [
    "both_small.shape"
   ]
  },
  {
   "cell_type": "code",
   "execution_count": 10,
   "id": "bfac52af-bf86-4677-a686-ec74873103b7",
   "metadata": {
    "execution": {
     "iopub.execute_input": "2022-10-14T01:18:00.142015Z",
     "iopub.status.busy": "2022-10-14T01:18:00.141640Z",
     "iopub.status.idle": "2022-10-14T01:18:00.485863Z",
     "shell.execute_reply": "2022-10-14T01:18:00.485118Z",
     "shell.execute_reply.started": "2022-10-14T01:18:00.141992Z"
    },
    "tags": []
   },
   "outputs": [],
   "source": [
    "import scprep\n",
    "mda_data = scprep.filter.remove_empty_genes(both_small)"
   ]
  },
  {
   "cell_type": "code",
   "execution_count": 13,
   "id": "095ef8e4-05b9-4e43-b147-ee34f9245d6c",
   "metadata": {
    "execution": {
     "iopub.execute_input": "2022-10-14T01:19:23.519696Z",
     "iopub.status.busy": "2022-10-14T01:19:23.519315Z",
     "iopub.status.idle": "2022-10-14T01:19:23.523779Z",
     "shell.execute_reply": "2022-10-14T01:19:23.523278Z",
     "shell.execute_reply.started": "2022-10-14T01:19:23.519671Z"
    }
   },
   "outputs": [
    {
     "data": {
      "text/plain": [
       "(10000, 21601)"
      ]
     },
     "execution_count": 13,
     "metadata": {},
     "output_type": "execute_result"
    }
   ],
   "source": [
    "denoised.shape"
   ]
  },
  {
   "cell_type": "code",
   "execution_count": 8,
   "id": "290902c9-a294-4f16-85d3-8b1d0dd7df15",
   "metadata": {
    "execution": {
     "iopub.execute_input": "2022-10-14T01:15:59.773382Z",
     "iopub.status.busy": "2022-10-14T01:15:59.773014Z",
     "iopub.status.idle": "2022-10-14T01:17:32.176874Z",
     "shell.execute_reply": "2022-10-14T01:17:32.176225Z",
     "shell.execute_reply.started": "2022-10-14T01:15:59.773358Z"
    },
    "tags": []
   },
   "outputs": [
    {
     "name": "stdout",
     "output_type": "stream",
     "text": [
      "Calculating MAGIC...\n",
      "  Running MAGIC on 10000 cells and 21601 genes.\n",
      "  Calculating graph and diffusion operator...\n",
      "    Calculating PCA...\n"
     ]
    },
    {
     "name": "stderr",
     "output_type": "stream",
     "text": [
      "/home/jovyan/.local/lib/python3.9/site-packages/magic/magic.py:425: UserWarning: Input matrix contains unexpressed genes. Please remove them prior to running MAGIC.\n",
      "  warnings.warn(\n"
     ]
    },
    {
     "name": "stdout",
     "output_type": "stream",
     "text": [
      "    Calculated PCA in 60.58 seconds.\n",
      "    Calculating KNN search...\n",
      "    Calculated KNN search in 11.29 seconds.\n",
      "    Calculating affinities...\n",
      "    Calculated affinities in 11.28 seconds.\n",
      "  Calculated graph and diffusion operator in 83.16 seconds.\n",
      "  Running MAGIC with `solver='exact'` on 21601-dimensional data may take a long time. Consider denoising specific genes with `genes=<list-like>` or using `solver='approximate'`.\n"
     ]
    },
    {
     "name": "stderr",
     "output_type": "stream",
     "text": [
      "/home/jovyan/.local/lib/python3.9/site-packages/magic/magic.py:455: UserWarning: Returning imputed values for all genes on a (10000 x 21601) matrix will require approximately 1.61GB of memory. Suppress this warning with `genes='all_genes'`\n",
      "  warnings.warn(\n"
     ]
    },
    {
     "name": "stdout",
     "output_type": "stream",
     "text": [
      "  Calculating imputation...\n",
      "  Calculated imputation in 7.92 seconds.\n",
      "Calculated MAGIC in 91.87 seconds.\n"
     ]
    }
   ],
   "source": [
    "import magic\n",
    "both_small = both[:10000]\n",
    "magic_operator = magic.MAGIC(random_state=32)\n",
    "denoised=magic_operator.fit_transform(both_small)"
   ]
  },
  {
   "cell_type": "code",
   "execution_count": 14,
   "id": "aeb0b6af-1a74-43a8-963f-8cd8745e0ca6",
   "metadata": {
    "execution": {
     "iopub.execute_input": "2022-10-14T01:21:30.836423Z",
     "iopub.status.busy": "2022-10-14T01:21:30.836041Z",
     "iopub.status.idle": "2022-10-14T01:21:30.840591Z",
     "shell.execute_reply": "2022-10-14T01:21:30.840105Z",
     "shell.execute_reply.started": "2022-10-14T01:21:30.836398Z"
    }
   },
   "outputs": [
    {
     "data": {
      "text/plain": [
       "'/home/jovyan/kaggle/working'"
      ]
     },
     "execution_count": 14,
     "metadata": {},
     "output_type": "execute_result"
    }
   ],
   "source": [
    "%pwd"
   ]
  },
  {
   "cell_type": "code",
   "execution_count": 15,
   "id": "195bef59-9da0-42fa-9b3c-72e7b961432c",
   "metadata": {
    "execution": {
     "iopub.execute_input": "2022-10-14T01:22:49.572910Z",
     "iopub.status.busy": "2022-10-14T01:22:49.572541Z",
     "iopub.status.idle": "2022-10-14T01:22:49.576867Z",
     "shell.execute_reply": "2022-10-14T01:22:49.576362Z",
     "shell.execute_reply.started": "2022-10-14T01:22:49.572886Z"
    }
   },
   "outputs": [
    {
     "data": {
      "text/plain": [
       "(119651, 21601)"
      ]
     },
     "execution_count": 15,
     "metadata": {},
     "output_type": "execute_result"
    }
   ],
   "source": [
    "both.shape"
   ]
  },
  {
   "cell_type": "code",
   "execution_count": 16,
   "id": "74715800-21eb-4243-8f0f-42b179c61133",
   "metadata": {
    "execution": {
     "iopub.execute_input": "2022-10-14T01:23:10.669905Z",
     "iopub.status.busy": "2022-10-14T01:23:10.669524Z",
     "iopub.status.idle": "2022-10-14T02:55:48.224214Z",
     "shell.execute_reply": "2022-10-14T02:55:48.223457Z",
     "shell.execute_reply.started": "2022-10-14T01:23:10.669881Z"
    },
    "tags": []
   },
   "outputs": [
    {
     "name": "stdout",
     "output_type": "stream",
     "text": [
      "Calculating MAGIC...\n",
      "  Running MAGIC on 119651 cells and 21601 genes.\n",
      "  Calculating graph and diffusion operator...\n",
      "    Calculating PCA...\n",
      "    Calculated PCA in 674.53 seconds.\n",
      "    Calculating KNN search...\n",
      "    Calculated KNN search in 2310.34 seconds.\n",
      "    Calculating affinities...\n"
     ]
    },
    {
     "name": "stderr",
     "output_type": "stream",
     "text": [
      "/home/jovyan/.local/lib/python3.9/site-packages/graphtools/graphs.py:287: RuntimeWarning: Detected zero distance between 7476 pairs of samples. Consider removing duplicates to avoid errors in downstream processing.\n",
      "  warnings.warn(\n"
     ]
    },
    {
     "name": "stdout",
     "output_type": "stream",
     "text": [
      "    Calculated affinities in 2302.04 seconds.\n",
      "  Calculated graph and diffusion operator in 5287.08 seconds.\n",
      "  Running MAGIC with `solver='exact'` on 21601-dimensional data may take a long time. Consider denoising specific genes with `genes=<list-like>` or using `solver='approximate'`.\n"
     ]
    },
    {
     "name": "stderr",
     "output_type": "stream",
     "text": [
      "/home/jovyan/.local/lib/python3.9/site-packages/magic/magic.py:455: UserWarning: Returning imputed values for all genes on a (119651 x 21601) matrix will require approximately 19.26GB of memory. Suppress this warning with `genes='all_genes'`\n",
      "  warnings.warn(\n"
     ]
    },
    {
     "name": "stdout",
     "output_type": "stream",
     "text": [
      "  Calculating imputation...\n",
      "  Calculated imputation in 226.39 seconds.\n",
      "Calculated MAGIC in 5523.07 seconds.\n",
      "Shape of both after SVD:  (119651, 64)\n",
      "/home/jovyan/kaggle/working/magic_data\n"
     ]
    }
   ],
   "source": [
    "import scprep\n",
    "import magic\n",
    "both = scprep.filter.remove_empty_genes(both)\n",
    "magic_operator = magic.MAGIC(random_state=32)\n",
    "both = magic_operator.fit_transform(both)\n",
    "\n",
    "svd = TruncatedSVD(n_components=64, random_state=1) # 512 is possible\n",
    "both = svd.fit_transform(both)\n",
    "print(f\"Shape of both after SVD:  {both.shape}\")\n",
    "    \n",
    "# Hstack the svd output with the important features\n",
    "X_train_svd = both[:70988]\n",
    "X_test_svd = both[70988:]\n",
    "del both\n",
    "%mkdir magic_data\n",
    "%cd magic_data\n",
    "np.savetxt(\"X_train_64.csv\", X_train_svd, delimiter=\",\")\n",
    "np.savetxt(\"X_test_64.csv\", X_test_svd, delimiter=\",\")"
   ]
  },
  {
   "cell_type": "code",
   "execution_count": 17,
   "id": "920d4fdd-28f7-426b-9430-30e497b95876",
   "metadata": {
    "execution": {
     "iopub.execute_input": "2022-10-14T02:58:49.454950Z",
     "iopub.status.busy": "2022-10-14T02:58:49.454544Z",
     "iopub.status.idle": "2022-10-14T03:04:15.503939Z",
     "shell.execute_reply": "2022-10-14T03:04:15.503313Z",
     "shell.execute_reply.started": "2022-10-14T02:58:49.454920Z"
    }
   },
   "outputs": [
    {
     "name": "stdout",
     "output_type": "stream",
     "text": [
      "/home/jovyan/kaggle/working\n",
      "X shape: (70988, 21601) 1.283 GByte\n",
      "Running MAGIC with `solver='exact'` on 21601-dimensional data may take a long time. Consider denoising specific genes with `genes=<list-like>` or using `solver='approximate'`.\n"
     ]
    },
    {
     "name": "stderr",
     "output_type": "stream",
     "text": [
      "/home/jovyan/.local/lib/python3.9/site-packages/magic/magic.py:541: UserWarning: Running MAGIC.transform on different data to that which was used for MAGIC.fit may not produce sensible output, unless it comes from the same manifold.\n",
      "  warnings.warn(\n",
      "/home/jovyan/.local/lib/python3.9/site-packages/magic/magic.py:455: UserWarning: Returning imputed values for all genes on a (119651 x 21601) matrix will require approximately 19.26GB of memory. Suppress this warning with `genes='all_genes'`\n",
      "  warnings.warn(\n"
     ]
    },
    {
     "name": "stdout",
     "output_type": "stream",
     "text": [
      "Calculating imputation...\n",
      "Calculated imputation in 226.84 seconds.\n",
      "Shape of both after SVD:  (119651, 256)\n",
      "CPU times: user 10min 23s, sys: 1min 1s, total: 11min 25s\n",
      "Wall time: 5min 26s\n"
     ]
    }
   ],
   "source": [
    "%%time\n",
    "\n",
    "%cd /home/jovyan/kaggle/working\n",
    "\n",
    "X_train = scipy.sparse.load_npz('./sparse/train_cite_inputs_values.sparse.npz')\n",
    "\n",
    "to_drop = np.genfromtxt(\"./sparse/drop_ids.csv\", delimiter=',', dtype = int)\n",
    "X_train = delete_columns_csr(X_train,to_drop)\n",
    "\n",
    "print(f\"X shape: {str(X_train.shape):14} {X_train.size*4/1024/1024/1024:2.3f} GByte\")\n",
    "\n",
    "with np.load('./sparse/train_cite_inputs_idxcol.npz',allow_pickle=True) as data:\n",
    "    cell_index = data['index']\n",
    "\n",
    "metadata_df = pd.read_csv('../input/open-problems-multimodal/metadata.csv', index_col='cell_id')\n",
    "metadata_df = metadata_df[metadata_df.technology==\"citeseq\"]\n",
    "meta = metadata_df.reindex(cell_index)\n",
    "\n",
    "X_test = scipy.sparse.load_npz('./sparse/test_cite_inputs_values.sparse.npz')\n",
    "\n",
    "X_test = delete_columns_csr(X_test,to_drop)\n",
    "\n",
    "with np.load('./sparse/test_cite_inputs_idxcol.npz',allow_pickle=True) as data:\n",
    "    cell_index_t = data['index']\n",
    "\n",
    "meta_t = metadata_df.reindex(cell_index_t)\n",
    "\n",
    "# Apply the singular value decomposition\n",
    "both = scipy.sparse.vstack([X_train, X_test])\n",
    "assert both.shape[0] == 119651\n",
    "\n",
    "both = magic_operator.transform(both)\n",
    "\n",
    "svd = TruncatedSVD(n_components=256, random_state=1) # 512 is possible\n",
    "both_256 = svd.fit_transform(both)\n",
    "print(f\"Shape of both after SVD:  {both_256.shape}\")\n",
    "\n",
    "X_train_svd = both_256[:70988]\n",
    "X_test_svd = both_256[70988:]\n",
    "\n",
    "np.savetxt(\"X_train_256.csv\", X_train_svd, delimiter=\",\")\n",
    "np.savetxt(\"X_test_256.csv\", X_test_svd, delimiter=\",\")"
   ]
  },
  {
   "cell_type": "code",
   "execution_count": 18,
   "id": "64415cea-7d84-4907-baf5-849190a0c25b",
   "metadata": {
    "execution": {
     "iopub.execute_input": "2022-10-14T03:04:30.079537Z",
     "iopub.status.busy": "2022-10-14T03:04:30.079138Z",
     "iopub.status.idle": "2022-10-14T03:04:30.083966Z",
     "shell.execute_reply": "2022-10-14T03:04:30.083449Z",
     "shell.execute_reply.started": "2022-10-14T03:04:30.079511Z"
    }
   },
   "outputs": [
    {
     "data": {
      "text/plain": [
       "'/home/jovyan/kaggle/working'"
      ]
     },
     "execution_count": 18,
     "metadata": {},
     "output_type": "execute_result"
    }
   ],
   "source": [
    "%pwd"
   ]
  },
  {
   "cell_type": "code",
   "execution_count": 19,
   "id": "7a9882f6-f03c-4de5-885b-fc428f511af8",
   "metadata": {
    "execution": {
     "iopub.execute_input": "2022-10-14T03:04:58.464618Z",
     "iopub.status.busy": "2022-10-14T03:04:58.464220Z",
     "iopub.status.idle": "2022-10-14T03:04:58.468704Z",
     "shell.execute_reply": "2022-10-14T03:04:58.468168Z",
     "shell.execute_reply.started": "2022-10-14T03:04:58.464591Z"
    }
   },
   "outputs": [
    {
     "name": "stdout",
     "output_type": "stream",
     "text": [
      "/home/jovyan/kaggle/working/magic_data\n"
     ]
    }
   ],
   "source": [
    "%cd magic_data"
   ]
  },
  {
   "cell_type": "code",
   "execution_count": 20,
   "id": "63d79feb-29a9-4cc4-a866-db7bdda57478",
   "metadata": {
    "execution": {
     "iopub.execute_input": "2022-10-14T03:05:47.185807Z",
     "iopub.status.busy": "2022-10-14T03:05:47.185428Z",
     "iopub.status.idle": "2022-10-14T03:08:18.467837Z",
     "shell.execute_reply": "2022-10-14T03:08:18.467089Z",
     "shell.execute_reply.started": "2022-10-14T03:05:47.185782Z"
    },
    "tags": []
   },
   "outputs": [
    {
     "ename": "OSError",
     "evalue": "[Errno 28] No space left on device",
     "output_type": "error",
     "traceback": [
      "\u001b[0;31m---------------------------------------------------------------------------\u001b[0m",
      "\u001b[0;31mOSError\u001b[0m                                   Traceback (most recent call last)",
      "Input \u001b[0;32mIn [20]\u001b[0m, in \u001b[0;36m<cell line: 2>\u001b[0;34m()\u001b[0m\n\u001b[1;32m      1\u001b[0m filename \u001b[38;5;241m=\u001b[39m \u001b[38;5;124m'\u001b[39m\u001b[38;5;124mmagic_model.sav\u001b[39m\u001b[38;5;124m'\u001b[39m\n\u001b[0;32m----> 2\u001b[0m \u001b[43mpickle\u001b[49m\u001b[38;5;241;43m.\u001b[39;49m\u001b[43mdump\u001b[49m\u001b[43m(\u001b[49m\u001b[43mmagic_operator\u001b[49m\u001b[43m,\u001b[49m\u001b[43m \u001b[49m\u001b[38;5;28;43mopen\u001b[39;49m\u001b[43m(\u001b[49m\u001b[43mfilename\u001b[49m\u001b[43m,\u001b[49m\u001b[43m \u001b[49m\u001b[38;5;124;43m'\u001b[39;49m\u001b[38;5;124;43mwb\u001b[39;49m\u001b[38;5;124;43m'\u001b[39;49m\u001b[43m)\u001b[49m\u001b[43m)\u001b[49m\n",
      "\u001b[0;31mOSError\u001b[0m: [Errno 28] No space left on device"
     ]
    }
   ],
   "source": [
    "filename = 'magic_model.sav'\n",
    "pickle.dump(magic_operator, open(filename, 'wb'))"
   ]
  },
  {
   "cell_type": "code",
   "execution_count": 21,
   "id": "4a3d22c4-fb7f-4a14-9e23-dfdbc4daf7e4",
   "metadata": {
    "execution": {
     "iopub.execute_input": "2022-10-14T03:08:45.970953Z",
     "iopub.status.busy": "2022-10-14T03:08:45.970552Z",
     "iopub.status.idle": "2022-10-14T03:08:46.205869Z",
     "shell.execute_reply": "2022-10-14T03:08:46.205165Z",
     "shell.execute_reply.started": "2022-10-14T03:08:45.970928Z"
    }
   },
   "outputs": [
    {
     "name": "stdout",
     "output_type": "stream",
     "text": [
      "The history saving thread hit an unexpected error (OperationalError('database or disk is full')).History will not be written to the database.\n"
     ]
    },
    {
     "ename": "OSError",
     "evalue": "[Errno 28] No space left on device",
     "output_type": "error",
     "traceback": [
      "\u001b[0;31m---------------------------------------------------------------------------\u001b[0m",
      "\u001b[0;31mOSError\u001b[0m                                   Traceback (most recent call last)",
      "Input \u001b[0;32mIn [21]\u001b[0m, in \u001b[0;36m<cell line: 1>\u001b[0;34m()\u001b[0m\n\u001b[0;32m----> 1\u001b[0m \u001b[43mnp\u001b[49m\u001b[38;5;241;43m.\u001b[39;49m\u001b[43msavetxt\u001b[49m\u001b[43m(\u001b[49m\u001b[38;5;124;43m\"\u001b[39;49m\u001b[38;5;124;43mX_train_256.csv\u001b[39;49m\u001b[38;5;124;43m\"\u001b[39;49m\u001b[43m,\u001b[49m\u001b[43m \u001b[49m\u001b[43mX_train_svd\u001b[49m\u001b[43m,\u001b[49m\u001b[43m \u001b[49m\u001b[43mdelimiter\u001b[49m\u001b[38;5;241;43m=\u001b[39;49m\u001b[38;5;124;43m\"\u001b[39;49m\u001b[38;5;124;43m,\u001b[39;49m\u001b[38;5;124;43m\"\u001b[39;49m\u001b[43m)\u001b[49m\n\u001b[1;32m      2\u001b[0m np\u001b[38;5;241m.\u001b[39msavetxt(\u001b[38;5;124m\"\u001b[39m\u001b[38;5;124mX_test_256.csv\u001b[39m\u001b[38;5;124m\"\u001b[39m, X_test_svd, delimiter\u001b[38;5;241m=\u001b[39m\u001b[38;5;124m\"\u001b[39m\u001b[38;5;124m,\u001b[39m\u001b[38;5;124m\"\u001b[39m)\n",
      "File \u001b[0;32m<__array_function__ internals>:5\u001b[0m, in \u001b[0;36msavetxt\u001b[0;34m(*args, **kwargs)\u001b[0m\n",
      "File \u001b[0;32m/srv/conda/envs/saturn/lib/python3.9/site-packages/numpy/lib/npyio.py:1440\u001b[0m, in \u001b[0;36msavetxt\u001b[0;34m(fname, X, fmt, delimiter, newline, header, footer, comments, encoding)\u001b[0m\n\u001b[1;32m   1436\u001b[0m         \u001b[38;5;28;01mexcept\u001b[39;00m \u001b[38;5;167;01mTypeError\u001b[39;00m \u001b[38;5;28;01mas\u001b[39;00m e:\n\u001b[1;32m   1437\u001b[0m             \u001b[38;5;28;01mraise\u001b[39;00m \u001b[38;5;167;01mTypeError\u001b[39;00m(\u001b[38;5;124m\"\u001b[39m\u001b[38;5;124mMismatch between array dtype (\u001b[39m\u001b[38;5;124m'\u001b[39m\u001b[38;5;132;01m%s\u001b[39;00m\u001b[38;5;124m'\u001b[39m\u001b[38;5;124m) and \u001b[39m\u001b[38;5;124m\"\u001b[39m\n\u001b[1;32m   1438\u001b[0m                             \u001b[38;5;124m\"\u001b[39m\u001b[38;5;124mformat specifier (\u001b[39m\u001b[38;5;124m'\u001b[39m\u001b[38;5;132;01m%s\u001b[39;00m\u001b[38;5;124m'\u001b[39m\u001b[38;5;124m)\u001b[39m\u001b[38;5;124m\"\u001b[39m\n\u001b[1;32m   1439\u001b[0m                             \u001b[38;5;241m%\u001b[39m (\u001b[38;5;28mstr\u001b[39m(X\u001b[38;5;241m.\u001b[39mdtype), \u001b[38;5;28mformat\u001b[39m)) \u001b[38;5;28;01mfrom\u001b[39;00m \u001b[38;5;21;01me\u001b[39;00m\n\u001b[0;32m-> 1440\u001b[0m         \u001b[43mfh\u001b[49m\u001b[38;5;241;43m.\u001b[39;49m\u001b[43mwrite\u001b[49m\u001b[43m(\u001b[49m\u001b[43mv\u001b[49m\u001b[43m)\u001b[49m\n\u001b[1;32m   1442\u001b[0m \u001b[38;5;28;01mif\u001b[39;00m \u001b[38;5;28mlen\u001b[39m(footer) \u001b[38;5;241m>\u001b[39m \u001b[38;5;241m0\u001b[39m:\n\u001b[1;32m   1443\u001b[0m     footer \u001b[38;5;241m=\u001b[39m footer\u001b[38;5;241m.\u001b[39mreplace(\u001b[38;5;124m'\u001b[39m\u001b[38;5;130;01m\\n\u001b[39;00m\u001b[38;5;124m'\u001b[39m, \u001b[38;5;124m'\u001b[39m\u001b[38;5;130;01m\\n\u001b[39;00m\u001b[38;5;124m'\u001b[39m \u001b[38;5;241m+\u001b[39m comments)\n",
      "\u001b[0;31mOSError\u001b[0m: [Errno 28] No space left on device"
     ]
    }
   ],
   "source": [
    "np.savetxt(\"X_train_256.csv\", X_train_svd, delimiter=\",\")\n",
    "np.savetxt(\"X_test_256.csv\", X_test_svd, delimiter=\",\")"
   ]
  },
  {
   "cell_type": "code",
   "execution_count": 24,
   "id": "d052706f-678d-400a-afee-a7b95c50d34a",
   "metadata": {
    "execution": {
     "iopub.execute_input": "2022-10-14T03:12:48.205829Z",
     "iopub.status.busy": "2022-10-14T03:12:48.205439Z",
     "iopub.status.idle": "2022-10-14T03:12:48.650687Z",
     "shell.execute_reply": "2022-10-14T03:12:48.650054Z",
     "shell.execute_reply.started": "2022-10-14T03:12:48.205805Z"
    },
    "tags": []
   },
   "outputs": [
    {
     "name": "stdout",
     "output_type": "stream",
     "text": [
      "/home/jovyan/kaggle/working\n"
     ]
    }
   ],
   "source": [
    "%cd /home/jovyan/kaggle/working\n",
    "y_train = scipy.sparse.load_npz('./sparse/train_cite_targets_values.sparse.npz')\n",
    "\n",
    "# Normalize the targets row-wise: This doesn't change the correlations,\n",
    "# and negative_correlation_loss depends on it\n",
    "y_train -= y_train.mean(axis=1).reshape(-1, 1)\n",
    "y_train /= y_train.std(axis=1).reshape(-1, 1)"
   ]
  },
  {
   "cell_type": "code",
   "execution_count": 25,
   "id": "dee33f8a-472f-453d-a3a2-e1f3aa2bbe52",
   "metadata": {
    "execution": {
     "iopub.execute_input": "2022-10-14T03:13:05.178784Z",
     "iopub.status.busy": "2022-10-14T03:13:05.178391Z",
     "iopub.status.idle": "2022-10-14T03:14:45.300536Z",
     "shell.execute_reply": "2022-10-14T03:14:45.299930Z",
     "shell.execute_reply.started": "2022-10-14T03:13:05.178743Z"
    },
    "tags": []
   },
   "outputs": [
    {
     "name": "stderr",
     "output_type": "stream",
     "text": [
      "2022-10-14 03:13:05.516379: I tensorflow/stream_executor/cuda/cuda_gpu_executor.cc:980] successful NUMA node read from SysFS had negative value (-1), but there must be at least one NUMA node, so returning NUMA node zero\n",
      "2022-10-14 03:13:05.517295: W tensorflow/stream_executor/platform/default/dso_loader.cc:64] Could not load dynamic library 'libcudnn.so.8'; dlerror: libcudnn.so.8: cannot open shared object file: No such file or directory; LD_LIBRARY_PATH: /usr/local/nvidia/lib:/usr/local/nvidia/lib64\n",
      "2022-10-14 03:13:05.517317: W tensorflow/core/common_runtime/gpu/gpu_device.cc:1934] Cannot dlopen some GPU libraries. Please make sure the missing libraries mentioned above are installed properly if you would like to use GPU. Follow the guide at https://www.tensorflow.org/install/gpu for how to download and setup the required libraries for your platform.\n",
      "Skipping registering GPU devices...\n",
      "2022-10-14 03:13:05.517573: I tensorflow/core/platform/cpu_feature_guard.cc:193] This TensorFlow binary is optimized with oneAPI Deep Neural Network Library (oneDNN) to use the following CPU instructions in performance-critical operations:  AVX2 AVX512F AVX512_VNNI FMA\n",
      "To enable them in other operations, rebuild TensorFlow with the appropriate compiler flags.\n"
     ]
    },
    {
     "name": "stdout",
     "output_type": "stream",
     "text": [
      "Epoch 1/1000\n",
      "181/181 - 3s - loss: -8.2595e-01 - negative_correlation_loss: -8.5186e-01 - val_loss: -8.5754e-01 - val_negative_correlation_loss: -8.7247e-01 - lr: 0.0100 - 3s/epoch - 15ms/step\n",
      "Epoch 2/1000\n",
      "181/181 - 2s - loss: -8.7931e-01 - negative_correlation_loss: -8.9021e-01 - val_loss: -8.6614e-01 - val_negative_correlation_loss: -8.7429e-01 - lr: 0.0100 - 2s/epoch - 9ms/step\n",
      "Epoch 3/1000\n",
      "181/181 - 2s - loss: -8.8507e-01 - negative_correlation_loss: -8.9215e-01 - val_loss: -8.7085e-01 - val_negative_correlation_loss: -8.7700e-01 - lr: 0.0100 - 2s/epoch - 9ms/step\n",
      "Epoch 4/1000\n",
      "181/181 - 2s - loss: -8.8720e-01 - negative_correlation_loss: -8.9303e-01 - val_loss: -8.6951e-01 - val_negative_correlation_loss: -8.7484e-01 - lr: 0.0100 - 2s/epoch - 9ms/step\n",
      "Epoch 5/1000\n",
      "181/181 - 2s - loss: -8.8817e-01 - negative_correlation_loss: -8.9333e-01 - val_loss: -8.7246e-01 - val_negative_correlation_loss: -8.7734e-01 - lr: 0.0100 - 2s/epoch - 9ms/step\n",
      "Epoch 6/1000\n",
      "181/181 - 2s - loss: -8.8911e-01 - negative_correlation_loss: -8.9378e-01 - val_loss: -8.7409e-01 - val_negative_correlation_loss: -8.7857e-01 - lr: 0.0100 - 2s/epoch - 8ms/step\n",
      "Epoch 7/1000\n",
      "181/181 - 2s - loss: -8.8938e-01 - negative_correlation_loss: -8.9386e-01 - val_loss: -8.7318e-01 - val_negative_correlation_loss: -8.7746e-01 - lr: 0.0100 - 2s/epoch - 9ms/step\n",
      "Epoch 8/1000\n",
      "181/181 - 2s - loss: -8.8971e-01 - negative_correlation_loss: -8.9401e-01 - val_loss: -8.7405e-01 - val_negative_correlation_loss: -8.7821e-01 - lr: 0.0100 - 2s/epoch - 9ms/step\n",
      "Epoch 9/1000\n",
      "181/181 - 2s - loss: -8.9000e-01 - negative_correlation_loss: -8.9415e-01 - val_loss: -8.7441e-01 - val_negative_correlation_loss: -8.7852e-01 - lr: 0.0100 - 2s/epoch - 9ms/step\n",
      "Epoch 10/1000\n",
      "181/181 - 2s - loss: -8.9020e-01 - negative_correlation_loss: -8.9430e-01 - val_loss: -8.7410e-01 - val_negative_correlation_loss: -8.7804e-01 - lr: 0.0100 - 2s/epoch - 9ms/step\n",
      "Epoch 11/1000\n",
      "181/181 - 2s - loss: -8.9035e-01 - negative_correlation_loss: -8.9437e-01 - val_loss: -8.7326e-01 - val_negative_correlation_loss: -8.7703e-01 - lr: 0.0100 - 2s/epoch - 9ms/step\n",
      "Epoch 12/1000\n",
      "181/181 - 2s - loss: -8.9035e-01 - negative_correlation_loss: -8.9418e-01 - val_loss: -8.7412e-01 - val_negative_correlation_loss: -8.7797e-01 - lr: 0.0100 - 2s/epoch - 8ms/step\n",
      "Epoch 13/1000\n",
      "181/181 - 2s - loss: -8.9071e-01 - negative_correlation_loss: -8.9452e-01 - val_loss: -8.7582e-01 - val_negative_correlation_loss: -8.7947e-01 - lr: 0.0100 - 2s/epoch - 9ms/step\n",
      "Epoch 14/1000\n",
      "181/181 - 2s - loss: -8.9053e-01 - negative_correlation_loss: -8.9433e-01 - val_loss: -8.7328e-01 - val_negative_correlation_loss: -8.7697e-01 - lr: 0.0100 - 2s/epoch - 9ms/step\n",
      "Epoch 15/1000\n",
      "181/181 - 2s - loss: -8.9059e-01 - negative_correlation_loss: -8.9428e-01 - val_loss: -8.7491e-01 - val_negative_correlation_loss: -8.7860e-01 - lr: 0.0100 - 2s/epoch - 8ms/step\n",
      "Epoch 16/1000\n",
      "181/181 - 2s - loss: -8.9070e-01 - negative_correlation_loss: -8.9445e-01 - val_loss: -8.7454e-01 - val_negative_correlation_loss: -8.7816e-01 - lr: 0.0100 - 2s/epoch - 9ms/step\n",
      "Epoch 17/1000\n",
      "\n",
      "Epoch 17: ReduceLROnPlateau reducing learning rate to 0.004999999888241291.\n",
      "181/181 - 2s - loss: -8.9087e-01 - negative_correlation_loss: -8.9445e-01 - val_loss: -8.7253e-01 - val_negative_correlation_loss: -8.7604e-01 - lr: 0.0100 - 2s/epoch - 9ms/step\n",
      "Epoch 18/1000\n",
      "181/181 - 2s - loss: -8.9263e-01 - negative_correlation_loss: -8.9575e-01 - val_loss: -8.7669e-01 - val_negative_correlation_loss: -8.7962e-01 - lr: 0.0050 - 2s/epoch - 9ms/step\n",
      "Epoch 19/1000\n",
      "181/181 - 2s - loss: -8.9300e-01 - negative_correlation_loss: -8.9587e-01 - val_loss: -8.7756e-01 - val_negative_correlation_loss: -8.8035e-01 - lr: 0.0050 - 2s/epoch - 8ms/step\n",
      "Epoch 20/1000\n",
      "181/181 - 2s - loss: -8.9303e-01 - negative_correlation_loss: -8.9586e-01 - val_loss: -8.7698e-01 - val_negative_correlation_loss: -8.7973e-01 - lr: 0.0050 - 2s/epoch - 9ms/step\n",
      "Epoch 21/1000\n",
      "181/181 - 2s - loss: -8.9308e-01 - negative_correlation_loss: -8.9588e-01 - val_loss: -8.7644e-01 - val_negative_correlation_loss: -8.7921e-01 - lr: 0.0050 - 2s/epoch - 9ms/step\n",
      "Epoch 22/1000\n",
      "181/181 - 2s - loss: -8.9310e-01 - negative_correlation_loss: -8.9587e-01 - val_loss: -8.7701e-01 - val_negative_correlation_loss: -8.7976e-01 - lr: 0.0050 - 2s/epoch - 9ms/step\n",
      "Epoch 23/1000\n",
      "\n",
      "Epoch 23: ReduceLROnPlateau reducing learning rate to 0.0024999999441206455.\n",
      "181/181 - 2s - loss: -8.9325e-01 - negative_correlation_loss: -8.9594e-01 - val_loss: -8.7629e-01 - val_negative_correlation_loss: -8.7897e-01 - lr: 0.0050 - 2s/epoch - 9ms/step\n",
      "Epoch 24/1000\n",
      "181/181 - 2s - loss: -8.9450e-01 - negative_correlation_loss: -8.9699e-01 - val_loss: -8.7803e-01 - val_negative_correlation_loss: -8.8036e-01 - lr: 0.0025 - 2s/epoch - 9ms/step\n",
      "Epoch 25/1000\n",
      "181/181 - 2s - loss: -8.9459e-01 - negative_correlation_loss: -8.9695e-01 - val_loss: -8.7814e-01 - val_negative_correlation_loss: -8.8043e-01 - lr: 0.0025 - 2s/epoch - 8ms/step\n",
      "Epoch 26/1000\n",
      "181/181 - 2s - loss: -8.9478e-01 - negative_correlation_loss: -8.9706e-01 - val_loss: -8.7773e-01 - val_negative_correlation_loss: -8.7994e-01 - lr: 0.0025 - 2s/epoch - 8ms/step\n",
      "Epoch 27/1000\n",
      "181/181 - 2s - loss: -8.9485e-01 - negative_correlation_loss: -8.9708e-01 - val_loss: -8.7855e-01 - val_negative_correlation_loss: -8.8073e-01 - lr: 0.0025 - 2s/epoch - 9ms/step\n",
      "Epoch 28/1000\n",
      "181/181 - 2s - loss: -8.9495e-01 - negative_correlation_loss: -8.9715e-01 - val_loss: -8.7910e-01 - val_negative_correlation_loss: -8.8123e-01 - lr: 0.0025 - 2s/epoch - 9ms/step\n",
      "Epoch 29/1000\n",
      "181/181 - 2s - loss: -8.9496e-01 - negative_correlation_loss: -8.9714e-01 - val_loss: -8.7918e-01 - val_negative_correlation_loss: -8.8131e-01 - lr: 0.0025 - 2s/epoch - 9ms/step\n",
      "Epoch 30/1000\n",
      "181/181 - 2s - loss: -8.9499e-01 - negative_correlation_loss: -8.9714e-01 - val_loss: -8.7788e-01 - val_negative_correlation_loss: -8.7997e-01 - lr: 0.0025 - 2s/epoch - 9ms/step\n",
      "Epoch 31/1000\n",
      "181/181 - 2s - loss: -8.9509e-01 - negative_correlation_loss: -8.9719e-01 - val_loss: -8.7870e-01 - val_negative_correlation_loss: -8.8078e-01 - lr: 0.0025 - 2s/epoch - 9ms/step\n",
      "Epoch 32/1000\n",
      "\n",
      "Epoch 32: ReduceLROnPlateau reducing learning rate to 0.0012499999720603228.\n",
      "181/181 - 2s - loss: -8.9509e-01 - negative_correlation_loss: -8.9720e-01 - val_loss: -8.7844e-01 - val_negative_correlation_loss: -8.8049e-01 - lr: 0.0025 - 2s/epoch - 9ms/step\n",
      "Epoch 33/1000\n",
      "181/181 - 2s - loss: -8.9597e-01 - negative_correlation_loss: -8.9799e-01 - val_loss: -8.7802e-01 - val_negative_correlation_loss: -8.7995e-01 - lr: 0.0012 - 2s/epoch - 9ms/step\n",
      "Epoch 34/1000\n",
      "181/181 - 2s - loss: -8.9621e-01 - negative_correlation_loss: -8.9811e-01 - val_loss: -8.7962e-01 - val_negative_correlation_loss: -8.8149e-01 - lr: 0.0012 - 2s/epoch - 9ms/step\n",
      "Epoch 35/1000\n",
      "181/181 - 2s - loss: -8.9616e-01 - negative_correlation_loss: -8.9804e-01 - val_loss: -8.7889e-01 - val_negative_correlation_loss: -8.8073e-01 - lr: 0.0012 - 2s/epoch - 9ms/step\n",
      "Epoch 36/1000\n",
      "181/181 - 2s - loss: -8.9627e-01 - negative_correlation_loss: -8.9808e-01 - val_loss: -8.7906e-01 - val_negative_correlation_loss: -8.8087e-01 - lr: 0.0012 - 2s/epoch - 9ms/step\n",
      "Epoch 37/1000\n",
      "181/181 - 2s - loss: -8.9629e-01 - negative_correlation_loss: -8.9813e-01 - val_loss: -8.7874e-01 - val_negative_correlation_loss: -8.8053e-01 - lr: 0.0012 - 2s/epoch - 9ms/step\n",
      "Epoch 38/1000\n",
      "181/181 - 2s - loss: -8.9631e-01 - negative_correlation_loss: -8.9817e-01 - val_loss: -8.8005e-01 - val_negative_correlation_loss: -8.8182e-01 - lr: 0.0012 - 2s/epoch - 9ms/step\n",
      "Epoch 39/1000\n",
      "181/181 - 2s - loss: -8.9634e-01 - negative_correlation_loss: -8.9816e-01 - val_loss: -8.7986e-01 - val_negative_correlation_loss: -8.8162e-01 - lr: 0.0012 - 2s/epoch - 9ms/step\n",
      "Epoch 40/1000\n",
      "181/181 - 2s - loss: -8.9644e-01 - negative_correlation_loss: -8.9823e-01 - val_loss: -8.7907e-01 - val_negative_correlation_loss: -8.8080e-01 - lr: 0.0012 - 2s/epoch - 9ms/step\n",
      "Epoch 41/1000\n",
      "181/181 - 2s - loss: -8.9643e-01 - negative_correlation_loss: -8.9823e-01 - val_loss: -8.7952e-01 - val_negative_correlation_loss: -8.8124e-01 - lr: 0.0012 - 2s/epoch - 9ms/step\n",
      "Epoch 42/1000\n",
      "\n",
      "Epoch 42: ReduceLROnPlateau reducing learning rate to 0.0006249999860301614.\n",
      "181/181 - 2s - loss: -8.9647e-01 - negative_correlation_loss: -8.9820e-01 - val_loss: -8.7866e-01 - val_negative_correlation_loss: -8.8036e-01 - lr: 0.0012 - 2s/epoch - 9ms/step\n",
      "Epoch 43/1000\n",
      "181/181 - 2s - loss: -8.9707e-01 - negative_correlation_loss: -8.9879e-01 - val_loss: -8.7941e-01 - val_negative_correlation_loss: -8.8107e-01 - lr: 6.2500e-04 - 2s/epoch - 9ms/step\n",
      "Epoch 44/1000\n",
      "181/181 - 2s - loss: -8.9713e-01 - negative_correlation_loss: -8.9877e-01 - val_loss: -8.7945e-01 - val_negative_correlation_loss: -8.8108e-01 - lr: 6.2500e-04 - 2s/epoch - 9ms/step\n",
      "Epoch 45/1000\n",
      "181/181 - 2s - loss: -8.9718e-01 - negative_correlation_loss: -8.9878e-01 - val_loss: -8.7933e-01 - val_negative_correlation_loss: -8.8094e-01 - lr: 6.2500e-04 - 2s/epoch - 9ms/step\n",
      "Epoch 46/1000\n",
      "\n",
      "Epoch 46: ReduceLROnPlateau reducing learning rate to 0.0003124999930150807.\n",
      "181/181 - 2s - loss: -8.9722e-01 - negative_correlation_loss: -8.9884e-01 - val_loss: -8.7965e-01 - val_negative_correlation_loss: -8.8124e-01 - lr: 6.2500e-04 - 2s/epoch - 9ms/step\n",
      "Epoch 47/1000\n",
      "181/181 - 2s - loss: -8.9759e-01 - negative_correlation_loss: -8.9918e-01 - val_loss: -8.7950e-01 - val_negative_correlation_loss: -8.8107e-01 - lr: 3.1250e-04 - 2s/epoch - 9ms/step\n",
      "Epoch 48/1000\n",
      "181/181 - 2s - loss: -8.9765e-01 - negative_correlation_loss: -8.9920e-01 - val_loss: -8.7963e-01 - val_negative_correlation_loss: -8.8119e-01 - lr: 3.1250e-04 - 2s/epoch - 9ms/step\n",
      "Epoch 49/1000\n",
      "181/181 - 2s - loss: -8.9769e-01 - negative_correlation_loss: -8.9926e-01 - val_loss: -8.8001e-01 - val_negative_correlation_loss: -8.8156e-01 - lr: 3.1250e-04 - 2s/epoch - 9ms/step\n",
      "Epoch 50/1000\n",
      "181/181 - 2s - loss: -8.9772e-01 - negative_correlation_loss: -8.9928e-01 - val_loss: -8.8081e-01 - val_negative_correlation_loss: -8.8234e-01 - lr: 3.1250e-04 - 2s/epoch - 9ms/step\n",
      "Epoch 51/1000\n",
      "181/181 - 2s - loss: -8.9776e-01 - negative_correlation_loss: -8.9926e-01 - val_loss: -8.8024e-01 - val_negative_correlation_loss: -8.8176e-01 - lr: 3.1250e-04 - 2s/epoch - 9ms/step\n",
      "Epoch 52/1000\n",
      "181/181 - 2s - loss: -8.9777e-01 - negative_correlation_loss: -8.9932e-01 - val_loss: -8.7978e-01 - val_negative_correlation_loss: -8.8129e-01 - lr: 3.1250e-04 - 2s/epoch - 9ms/step\n",
      "Epoch 53/1000\n",
      "181/181 - 2s - loss: -8.9781e-01 - negative_correlation_loss: -8.9933e-01 - val_loss: -8.7916e-01 - val_negative_correlation_loss: -8.8066e-01 - lr: 3.1250e-04 - 2s/epoch - 9ms/step\n",
      "Epoch 54/1000\n",
      "\n",
      "Epoch 54: ReduceLROnPlateau reducing learning rate to 0.00015624999650754035.\n",
      "181/181 - 2s - loss: -8.9781e-01 - negative_correlation_loss: -8.9934e-01 - val_loss: -8.8011e-01 - val_negative_correlation_loss: -8.8160e-01 - lr: 3.1250e-04 - 2s/epoch - 9ms/step\n",
      "Epoch 55/1000\n",
      "181/181 - 2s - loss: -8.9804e-01 - negative_correlation_loss: -8.9956e-01 - val_loss: -8.8016e-01 - val_negative_correlation_loss: -8.8164e-01 - lr: 1.5625e-04 - 2s/epoch - 9ms/step\n",
      "Epoch 56/1000\n",
      "181/181 - 2s - loss: -8.9808e-01 - negative_correlation_loss: -8.9958e-01 - val_loss: -8.7956e-01 - val_negative_correlation_loss: -8.8104e-01 - lr: 1.5625e-04 - 2s/epoch - 9ms/step\n",
      "Epoch 57/1000\n",
      "181/181 - 2s - loss: -8.9809e-01 - negative_correlation_loss: -8.9957e-01 - val_loss: -8.8012e-01 - val_negative_correlation_loss: -8.8159e-01 - lr: 1.5625e-04 - 2s/epoch - 9ms/step\n",
      "Epoch 58/1000\n",
      "\n",
      "Epoch 58: ReduceLROnPlateau reducing learning rate to 7.812499825377017e-05.\n",
      "181/181 - 2s - loss: -8.9811e-01 - negative_correlation_loss: -8.9959e-01 - val_loss: -8.7974e-01 - val_negative_correlation_loss: -8.8120e-01 - lr: 1.5625e-04 - 2s/epoch - 9ms/step\n",
      "Epoch 59/1000\n",
      "181/181 - 2s - loss: -8.9824e-01 - negative_correlation_loss: -8.9973e-01 - val_loss: -8.7994e-01 - val_negative_correlation_loss: -8.8140e-01 - lr: 7.8125e-05 - 2s/epoch - 9ms/step\n",
      "Epoch 60/1000\n",
      "181/181 - 2s - loss: -8.9826e-01 - negative_correlation_loss: -8.9974e-01 - val_loss: -8.8013e-01 - val_negative_correlation_loss: -8.8158e-01 - lr: 7.8125e-05 - 2s/epoch - 9ms/step\n",
      "Epoch 61/1000\n",
      "181/181 - 2s - loss: -8.9827e-01 - negative_correlation_loss: -8.9975e-01 - val_loss: -8.7987e-01 - val_negative_correlation_loss: -8.8131e-01 - lr: 7.8125e-05 - 2s/epoch - 9ms/step\n",
      "Epoch 62/1000\n",
      "\n",
      "Epoch 62: ReduceLROnPlateau reducing learning rate to 3.9062499126885086e-05.\n",
      "181/181 - 2s - loss: -8.9828e-01 - negative_correlation_loss: -8.9974e-01 - val_loss: -8.7981e-01 - val_negative_correlation_loss: -8.8125e-01 - lr: 7.8125e-05 - 2s/epoch - 9ms/step\n",
      "1/1 [==============================] - 0s 137ms/step\n",
      "Fold 0:  61 epochs, corr =  0.88236\n"
     ]
    }
   ],
   "source": [
    "LR_START = 0.01\n",
    "BATCH_SIZE = 256\n",
    "reg1 = 8e-5\n",
    "reg2 = 2e-5\n",
    "model = fit(X_train_svd,y_train)"
   ]
  },
  {
   "cell_type": "code",
   "execution_count": 26,
   "id": "b50e7f27-a6f2-4f67-be4d-d31571d410ab",
   "metadata": {
    "execution": {
     "iopub.execute_input": "2022-10-14T03:15:46.126808Z",
     "iopub.status.busy": "2022-10-14T03:15:46.126401Z",
     "iopub.status.idle": "2022-10-14T03:40:44.475771Z",
     "shell.execute_reply": "2022-10-14T03:40:44.475135Z",
     "shell.execute_reply.started": "2022-10-14T03:15:46.126782Z"
    },
    "tags": []
   },
   "outputs": [
    {
     "name": "stdout",
     "output_type": "stream",
     "text": [
      "/home/jovyan/kaggle/working\n",
      "X shape: (70988, 21601) 1.283 GByte\n",
      "Shape of both after SVD:  (119651, 256)\n",
      "CPU times: user 25min 30s, sys: 7.97 s, total: 25min 38s\n",
      "Wall time: 24min 58s\n"
     ]
    }
   ],
   "source": [
    "%%time\n",
    "\n",
    "%cd /home/jovyan/kaggle/working\n",
    "\n",
    "X_train = scipy.sparse.load_npz('./sparse/train_cite_inputs_values.sparse.npz')\n",
    "\n",
    "to_drop = np.genfromtxt(\"./sparse/drop_ids.csv\", delimiter=',', dtype = int)\n",
    "X_train = delete_columns_csr(X_train,to_drop)\n",
    "\n",
    "print(f\"X shape: {str(X_train.shape):14} {X_train.size*4/1024/1024/1024:2.3f} GByte\")\n",
    "\n",
    "with np.load('./sparse/train_cite_inputs_idxcol.npz',allow_pickle=True) as data:\n",
    "    cell_index = data['index']\n",
    "\n",
    "metadata_df = pd.read_csv('../input/open-problems-multimodal/metadata.csv', index_col='cell_id')\n",
    "metadata_df = metadata_df[metadata_df.technology==\"citeseq\"]\n",
    "meta = metadata_df.reindex(cell_index)\n",
    "\n",
    "X_test = scipy.sparse.load_npz('./sparse/test_cite_inputs_values.sparse.npz')\n",
    "\n",
    "X_test = delete_columns_csr(X_test,to_drop)\n",
    "\n",
    "with np.load('./sparse/test_cite_inputs_idxcol.npz',allow_pickle=True) as data:\n",
    "    cell_index_t = data['index']\n",
    "\n",
    "meta_t = metadata_df.reindex(cell_index_t)\n",
    "\n",
    "# Apply the singular value decomposition\n",
    "both = scipy.sparse.vstack([X_train, X_test])\n",
    "assert both.shape[0] == 119651\n",
    "\n",
    "svd = TruncatedSVD(n_components=256, random_state=1) # 512 is possible\n",
    "both_256 = svd.fit_transform(both)\n",
    "print(f\"Shape of both after SVD:  {both_256.shape}\")\n",
    "\n",
    "X_train_svd = both_256[:70988]\n",
    "X_test_svd = both_256[70988:]\n"
   ]
  },
  {
   "cell_type": "code",
   "execution_count": 27,
   "id": "af881795-4732-4e65-b7ae-04426b01d4c6",
   "metadata": {
    "execution": {
     "iopub.execute_input": "2022-10-14T03:45:10.073248Z",
     "iopub.status.busy": "2022-10-14T03:45:10.072860Z",
     "iopub.status.idle": "2022-10-14T03:46:43.369679Z",
     "shell.execute_reply": "2022-10-14T03:46:43.369047Z",
     "shell.execute_reply.started": "2022-10-14T03:45:10.073223Z"
    },
    "tags": []
   },
   "outputs": [
    {
     "name": "stdout",
     "output_type": "stream",
     "text": [
      "Epoch 1/1000\n",
      "181/181 - 2s - loss: -8.2551e-01 - negative_correlation_loss: -8.5061e-01 - val_loss: -8.5943e-01 - val_negative_correlation_loss: -8.7513e-01 - lr: 0.0100 - 2s/epoch - 13ms/step\n",
      "Epoch 2/1000\n",
      "181/181 - 2s - loss: -8.8192e-01 - negative_correlation_loss: -8.9427e-01 - val_loss: -8.6866e-01 - val_negative_correlation_loss: -8.7874e-01 - lr: 0.0100 - 2s/epoch - 9ms/step\n",
      "Epoch 3/1000\n",
      "181/181 - 2s - loss: -8.8779e-01 - negative_correlation_loss: -8.9670e-01 - val_loss: -8.7420e-01 - val_negative_correlation_loss: -8.8196e-01 - lr: 0.0100 - 2s/epoch - 9ms/step\n",
      "Epoch 4/1000\n",
      "181/181 - 2s - loss: -8.9012e-01 - negative_correlation_loss: -8.9755e-01 - val_loss: -8.7356e-01 - val_negative_correlation_loss: -8.8051e-01 - lr: 0.0100 - 2s/epoch - 9ms/step\n",
      "Epoch 5/1000\n",
      "181/181 - 2s - loss: -8.9129e-01 - negative_correlation_loss: -8.9795e-01 - val_loss: -8.7669e-01 - val_negative_correlation_loss: -8.8310e-01 - lr: 0.0100 - 2s/epoch - 9ms/step\n",
      "Epoch 6/1000\n",
      "181/181 - 2s - loss: -8.9212e-01 - negative_correlation_loss: -8.9836e-01 - val_loss: -8.7796e-01 - val_negative_correlation_loss: -8.8405e-01 - lr: 0.0100 - 2s/epoch - 8ms/step\n",
      "Epoch 7/1000\n",
      "181/181 - 2s - loss: -8.9239e-01 - negative_correlation_loss: -8.9840e-01 - val_loss: -8.7597e-01 - val_negative_correlation_loss: -8.8171e-01 - lr: 0.0100 - 2s/epoch - 9ms/step\n",
      "Epoch 8/1000\n",
      "181/181 - 2s - loss: -8.9288e-01 - negative_correlation_loss: -8.9859e-01 - val_loss: -8.7853e-01 - val_negative_correlation_loss: -8.8413e-01 - lr: 0.0100 - 2s/epoch - 8ms/step\n",
      "Epoch 9/1000\n",
      "181/181 - 2s - loss: -8.9305e-01 - negative_correlation_loss: -8.9861e-01 - val_loss: -8.7726e-01 - val_negative_correlation_loss: -8.8285e-01 - lr: 0.0100 - 2s/epoch - 8ms/step\n",
      "Epoch 10/1000\n",
      "181/181 - 2s - loss: -8.9309e-01 - negative_correlation_loss: -8.9868e-01 - val_loss: -8.7848e-01 - val_negative_correlation_loss: -8.8397e-01 - lr: 0.0100 - 2s/epoch - 8ms/step\n",
      "Epoch 11/1000\n",
      "181/181 - 2s - loss: -8.9332e-01 - negative_correlation_loss: -8.9882e-01 - val_loss: -8.7622e-01 - val_negative_correlation_loss: -8.8151e-01 - lr: 0.0100 - 2s/epoch - 9ms/step\n",
      "Epoch 12/1000\n",
      "\n",
      "Epoch 12: ReduceLROnPlateau reducing learning rate to 0.004999999888241291.\n",
      "181/181 - 2s - loss: -8.9343e-01 - negative_correlation_loss: -8.9867e-01 - val_loss: -8.7785e-01 - val_negative_correlation_loss: -8.8316e-01 - lr: 0.0100 - 2s/epoch - 9ms/step\n",
      "Epoch 13/1000\n",
      "181/181 - 2s - loss: -8.9627e-01 - negative_correlation_loss: -9.0064e-01 - val_loss: -8.8107e-01 - val_negative_correlation_loss: -8.8511e-01 - lr: 0.0050 - 2s/epoch - 9ms/step\n",
      "Epoch 14/1000\n",
      "181/181 - 2s - loss: -8.9656e-01 - negative_correlation_loss: -9.0060e-01 - val_loss: -8.7967e-01 - val_negative_correlation_loss: -8.8361e-01 - lr: 0.0050 - 2s/epoch - 9ms/step\n",
      "Epoch 15/1000\n",
      "181/181 - 2s - loss: -8.9678e-01 - negative_correlation_loss: -9.0066e-01 - val_loss: -8.8094e-01 - val_negative_correlation_loss: -8.8482e-01 - lr: 0.0050 - 2s/epoch - 9ms/step\n",
      "Epoch 16/1000\n",
      "181/181 - 2s - loss: -8.9675e-01 - negative_correlation_loss: -9.0069e-01 - val_loss: -8.8043e-01 - val_negative_correlation_loss: -8.8422e-01 - lr: 0.0050 - 2s/epoch - 8ms/step\n",
      "Epoch 17/1000\n",
      "\n",
      "Epoch 17: ReduceLROnPlateau reducing learning rate to 0.0024999999441206455.\n",
      "181/181 - 2s - loss: -8.9688e-01 - negative_correlation_loss: -9.0073e-01 - val_loss: -8.8024e-01 - val_negative_correlation_loss: -8.8401e-01 - lr: 0.0050 - 2s/epoch - 9ms/step\n",
      "Epoch 18/1000\n",
      "181/181 - 2s - loss: -8.9883e-01 - negative_correlation_loss: -9.0219e-01 - val_loss: -8.8287e-01 - val_negative_correlation_loss: -8.8597e-01 - lr: 0.0025 - 2s/epoch - 9ms/step\n",
      "Epoch 19/1000\n",
      "181/181 - 2s - loss: -8.9921e-01 - negative_correlation_loss: -9.0224e-01 - val_loss: -8.8319e-01 - val_negative_correlation_loss: -8.8615e-01 - lr: 0.0025 - 2s/epoch - 9ms/step\n",
      "Epoch 20/1000\n",
      "181/181 - 2s - loss: -8.9924e-01 - negative_correlation_loss: -9.0223e-01 - val_loss: -8.8277e-01 - val_negative_correlation_loss: -8.8567e-01 - lr: 0.0025 - 2s/epoch - 9ms/step\n",
      "Epoch 21/1000\n",
      "181/181 - 2s - loss: -8.9936e-01 - negative_correlation_loss: -9.0230e-01 - val_loss: -8.8314e-01 - val_negative_correlation_loss: -8.8600e-01 - lr: 0.0025 - 2s/epoch - 9ms/step\n",
      "Epoch 22/1000\n",
      "181/181 - 2s - loss: -8.9941e-01 - negative_correlation_loss: -9.0229e-01 - val_loss: -8.8398e-01 - val_negative_correlation_loss: -8.8679e-01 - lr: 0.0025 - 2s/epoch - 9ms/step\n",
      "Epoch 23/1000\n",
      "181/181 - 2s - loss: -8.9956e-01 - negative_correlation_loss: -9.0239e-01 - val_loss: -8.8313e-01 - val_negative_correlation_loss: -8.8589e-01 - lr: 0.0025 - 2s/epoch - 9ms/step\n",
      "Epoch 24/1000\n",
      "181/181 - 2s - loss: -8.9963e-01 - negative_correlation_loss: -9.0244e-01 - val_loss: -8.8345e-01 - val_negative_correlation_loss: -8.8620e-01 - lr: 0.0025 - 2s/epoch - 9ms/step\n",
      "Epoch 25/1000\n",
      "181/181 - 2s - loss: -8.9963e-01 - negative_correlation_loss: -9.0245e-01 - val_loss: -8.8388e-01 - val_negative_correlation_loss: -8.8661e-01 - lr: 0.0025 - 2s/epoch - 9ms/step\n",
      "Epoch 26/1000\n",
      "\n",
      "Epoch 26: ReduceLROnPlateau reducing learning rate to 0.0012499999720603228.\n",
      "181/181 - 2s - loss: -8.9971e-01 - negative_correlation_loss: -9.0247e-01 - val_loss: -8.8337e-01 - val_negative_correlation_loss: -8.8607e-01 - lr: 0.0025 - 2s/epoch - 9ms/step\n",
      "Epoch 27/1000\n",
      "181/181 - 2s - loss: -9.0110e-01 - negative_correlation_loss: -9.0368e-01 - val_loss: -8.8434e-01 - val_negative_correlation_loss: -8.8677e-01 - lr: 0.0012 - 2s/epoch - 9ms/step\n",
      "Epoch 28/1000\n",
      "181/181 - 2s - loss: -9.0134e-01 - negative_correlation_loss: -9.0377e-01 - val_loss: -8.8467e-01 - val_negative_correlation_loss: -8.8700e-01 - lr: 0.0012 - 2s/epoch - 9ms/step\n",
      "Epoch 29/1000\n",
      "181/181 - 2s - loss: -9.0142e-01 - negative_correlation_loss: -9.0379e-01 - val_loss: -8.8479e-01 - val_negative_correlation_loss: -8.8706e-01 - lr: 0.0012 - 2s/epoch - 9ms/step\n",
      "Epoch 30/1000\n",
      "181/181 - 2s - loss: -9.0143e-01 - negative_correlation_loss: -9.0372e-01 - val_loss: -8.8458e-01 - val_negative_correlation_loss: -8.8681e-01 - lr: 0.0012 - 2s/epoch - 9ms/step\n",
      "Epoch 31/1000\n",
      "181/181 - 2s - loss: -9.0155e-01 - negative_correlation_loss: -9.0381e-01 - val_loss: -8.8483e-01 - val_negative_correlation_loss: -8.8703e-01 - lr: 0.0012 - 2s/epoch - 9ms/step\n",
      "Epoch 32/1000\n",
      "181/181 - 2s - loss: -9.0162e-01 - negative_correlation_loss: -9.0385e-01 - val_loss: -8.8383e-01 - val_negative_correlation_loss: -8.8600e-01 - lr: 0.0012 - 2s/epoch - 9ms/step\n",
      "Epoch 33/1000\n",
      "\n",
      "Epoch 33: ReduceLROnPlateau reducing learning rate to 0.0006249999860301614.\n",
      "181/181 - 2s - loss: -9.0165e-01 - negative_correlation_loss: -9.0387e-01 - val_loss: -8.8418e-01 - val_negative_correlation_loss: -8.8634e-01 - lr: 0.0012 - 2s/epoch - 9ms/step\n",
      "Epoch 34/1000\n",
      "181/181 - 2s - loss: -9.0265e-01 - negative_correlation_loss: -9.0477e-01 - val_loss: -8.8490e-01 - val_negative_correlation_loss: -8.8697e-01 - lr: 6.2500e-04 - 2s/epoch - 9ms/step\n",
      "Epoch 35/1000\n",
      "181/181 - 2s - loss: -9.0279e-01 - negative_correlation_loss: -9.0486e-01 - val_loss: -8.8525e-01 - val_negative_correlation_loss: -8.8727e-01 - lr: 6.2500e-04 - 2s/epoch - 9ms/step\n",
      "Epoch 36/1000\n",
      "181/181 - 2s - loss: -9.0286e-01 - negative_correlation_loss: -9.0485e-01 - val_loss: -8.8525e-01 - val_negative_correlation_loss: -8.8722e-01 - lr: 6.2500e-04 - 2s/epoch - 9ms/step\n",
      "Epoch 37/1000\n",
      "181/181 - 2s - loss: -9.0292e-01 - negative_correlation_loss: -9.0491e-01 - val_loss: -8.8521e-01 - val_negative_correlation_loss: -8.8715e-01 - lr: 6.2500e-04 - 2s/epoch - 9ms/step\n",
      "Epoch 38/1000\n",
      "181/181 - 2s - loss: -9.0295e-01 - negative_correlation_loss: -9.0496e-01 - val_loss: -8.8580e-01 - val_negative_correlation_loss: -8.8772e-01 - lr: 6.2500e-04 - 2s/epoch - 9ms/step\n",
      "Epoch 39/1000\n",
      "181/181 - 2s - loss: -9.0303e-01 - negative_correlation_loss: -9.0498e-01 - val_loss: -8.8538e-01 - val_negative_correlation_loss: -8.8727e-01 - lr: 6.2500e-04 - 2s/epoch - 8ms/step\n",
      "Epoch 40/1000\n",
      "181/181 - 2s - loss: -9.0307e-01 - negative_correlation_loss: -9.0499e-01 - val_loss: -8.8502e-01 - val_negative_correlation_loss: -8.8689e-01 - lr: 6.2500e-04 - 2s/epoch - 9ms/step\n",
      "Epoch 41/1000\n",
      "181/181 - 2s - loss: -9.0309e-01 - negative_correlation_loss: -9.0502e-01 - val_loss: -8.8534e-01 - val_negative_correlation_loss: -8.8720e-01 - lr: 6.2500e-04 - 2s/epoch - 9ms/step\n",
      "Epoch 42/1000\n",
      "\n",
      "Epoch 42: ReduceLROnPlateau reducing learning rate to 0.0003124999930150807.\n",
      "181/181 - 2s - loss: -9.0317e-01 - negative_correlation_loss: -9.0503e-01 - val_loss: -8.8483e-01 - val_negative_correlation_loss: -8.8666e-01 - lr: 6.2500e-04 - 2s/epoch - 9ms/step\n",
      "Epoch 43/1000\n",
      "181/181 - 2s - loss: -9.0378e-01 - negative_correlation_loss: -9.0565e-01 - val_loss: -8.8561e-01 - val_negative_correlation_loss: -8.8742e-01 - lr: 3.1250e-04 - 2s/epoch - 9ms/step\n",
      "Epoch 44/1000\n",
      "181/181 - 2s - loss: -9.0385e-01 - negative_correlation_loss: -9.0564e-01 - val_loss: -8.8484e-01 - val_negative_correlation_loss: -8.8662e-01 - lr: 3.1250e-04 - 2s/epoch - 9ms/step\n",
      "Epoch 45/1000\n",
      "181/181 - 2s - loss: -9.0391e-01 - negative_correlation_loss: -9.0568e-01 - val_loss: -8.8528e-01 - val_negative_correlation_loss: -8.8704e-01 - lr: 3.1250e-04 - 2s/epoch - 9ms/step\n",
      "Epoch 46/1000\n",
      "\n",
      "Epoch 46: ReduceLROnPlateau reducing learning rate to 0.00015624999650754035.\n",
      "181/181 - 2s - loss: -9.0396e-01 - negative_correlation_loss: -9.0573e-01 - val_loss: -8.8588e-01 - val_negative_correlation_loss: -8.8763e-01 - lr: 3.1250e-04 - 2s/epoch - 9ms/step\n",
      "Epoch 47/1000\n",
      "181/181 - 2s - loss: -9.0435e-01 - negative_correlation_loss: -9.0609e-01 - val_loss: -8.8551e-01 - val_negative_correlation_loss: -8.8724e-01 - lr: 1.5625e-04 - 2s/epoch - 9ms/step\n",
      "Epoch 48/1000\n",
      "181/181 - 2s - loss: -9.0439e-01 - negative_correlation_loss: -9.0610e-01 - val_loss: -8.8507e-01 - val_negative_correlation_loss: -8.8679e-01 - lr: 1.5625e-04 - 2s/epoch - 8ms/step\n",
      "Epoch 49/1000\n",
      "181/181 - 2s - loss: -9.0442e-01 - negative_correlation_loss: -9.0615e-01 - val_loss: -8.8549e-01 - val_negative_correlation_loss: -8.8720e-01 - lr: 1.5625e-04 - 2s/epoch - 9ms/step\n",
      "Epoch 50/1000\n",
      "\n",
      "Epoch 50: ReduceLROnPlateau reducing learning rate to 7.812499825377017e-05.\n",
      "181/181 - 2s - loss: -9.0445e-01 - negative_correlation_loss: -9.0617e-01 - val_loss: -8.8557e-01 - val_negative_correlation_loss: -8.8727e-01 - lr: 1.5625e-04 - 2s/epoch - 9ms/step\n",
      "Epoch 51/1000\n",
      "181/181 - 2s - loss: -9.0468e-01 - negative_correlation_loss: -9.0635e-01 - val_loss: -8.8563e-01 - val_negative_correlation_loss: -8.8733e-01 - lr: 7.8125e-05 - 2s/epoch - 9ms/step\n",
      "Epoch 52/1000\n",
      "181/181 - 2s - loss: -9.0469e-01 - negative_correlation_loss: -9.0641e-01 - val_loss: -8.8533e-01 - val_negative_correlation_loss: -8.8702e-01 - lr: 7.8125e-05 - 2s/epoch - 9ms/step\n",
      "Epoch 53/1000\n",
      "181/181 - 2s - loss: -9.0471e-01 - negative_correlation_loss: -9.0641e-01 - val_loss: -8.8573e-01 - val_negative_correlation_loss: -8.8741e-01 - lr: 7.8125e-05 - 2s/epoch - 9ms/step\n",
      "Epoch 54/1000\n",
      "\n",
      "Epoch 54: ReduceLROnPlateau reducing learning rate to 3.9062499126885086e-05.\n",
      "181/181 - 2s - loss: -9.0473e-01 - negative_correlation_loss: -9.0643e-01 - val_loss: -8.8554e-01 - val_negative_correlation_loss: -8.8722e-01 - lr: 7.8125e-05 - 2s/epoch - 9ms/step\n",
      "Epoch 55/1000\n",
      "181/181 - 2s - loss: -9.0485e-01 - negative_correlation_loss: -9.0656e-01 - val_loss: -8.8554e-01 - val_negative_correlation_loss: -8.8721e-01 - lr: 3.9062e-05 - 2s/epoch - 9ms/step\n",
      "Epoch 56/1000\n",
      "181/181 - 2s - loss: -9.0486e-01 - negative_correlation_loss: -9.0656e-01 - val_loss: -8.8537e-01 - val_negative_correlation_loss: -8.8703e-01 - lr: 3.9062e-05 - 2s/epoch - 9ms/step\n",
      "Epoch 57/1000\n",
      "181/181 - 2s - loss: -9.0487e-01 - negative_correlation_loss: -9.0655e-01 - val_loss: -8.8532e-01 - val_negative_correlation_loss: -8.8698e-01 - lr: 3.9062e-05 - 2s/epoch - 8ms/step\n",
      "Epoch 58/1000\n",
      "\n",
      "Epoch 58: ReduceLROnPlateau reducing learning rate to 1.9531249563442543e-05.\n",
      "181/181 - 2s - loss: -9.0488e-01 - negative_correlation_loss: -9.0656e-01 - val_loss: -8.8530e-01 - val_negative_correlation_loss: -8.8696e-01 - lr: 3.9062e-05 - 2s/epoch - 9ms/step\n",
      "1/1 [==============================] - 0s 94ms/step\n",
      "Fold 0:  57 epochs, corr =  0.88765\n"
     ]
    }
   ],
   "source": [
    "LR_START = 0.01\n",
    "BATCH_SIZE = 256\n",
    "reg1 = 8e-5\n",
    "reg2 = 2e-5\n",
    "model = fit(X_train_svd,y_train)"
   ]
  },
  {
   "cell_type": "code",
   "execution_count": 28,
   "id": "cad055eb-28f3-4d67-8c35-caf4e40064e3",
   "metadata": {
    "execution": {
     "iopub.execute_input": "2022-10-14T03:48:58.507846Z",
     "iopub.status.busy": "2022-10-14T03:48:58.507448Z",
     "iopub.status.idle": "2022-10-14T03:49:59.589683Z",
     "shell.execute_reply": "2022-10-14T03:49:59.589019Z",
     "shell.execute_reply.started": "2022-10-14T03:48:58.507820Z"
    }
   },
   "outputs": [
    {
     "name": "stdout",
     "output_type": "stream",
     "text": [
      "Epoch 1/1000\n",
      "181/181 - 2s - loss: -8.5992e-01 - negative_correlation_loss: -8.6672e-01 - val_loss: -8.7606e-01 - val_negative_correlation_loss: -8.8229e-01 - lr: 0.0100 - 2s/epoch - 13ms/step\n",
      "Epoch 2/1000\n",
      "181/181 - 2s - loss: -8.9232e-01 - negative_correlation_loss: -8.9810e-01 - val_loss: -8.7818e-01 - val_negative_correlation_loss: -8.8357e-01 - lr: 0.0100 - 2s/epoch - 9ms/step\n",
      "Epoch 3/1000\n",
      "181/181 - 2s - loss: -8.9446e-01 - negative_correlation_loss: -8.9964e-01 - val_loss: -8.7823e-01 - val_negative_correlation_loss: -8.8309e-01 - lr: 0.0100 - 2s/epoch - 9ms/step\n",
      "Epoch 4/1000\n",
      "181/181 - 2s - loss: -8.9559e-01 - negative_correlation_loss: -9.0043e-01 - val_loss: -8.7927e-01 - val_negative_correlation_loss: -8.8392e-01 - lr: 0.0100 - 2s/epoch - 9ms/step\n",
      "Epoch 5/1000\n",
      "181/181 - 2s - loss: -8.9635e-01 - negative_correlation_loss: -9.0091e-01 - val_loss: -8.8146e-01 - val_negative_correlation_loss: -8.8585e-01 - lr: 0.0100 - 2s/epoch - 9ms/step\n",
      "Epoch 6/1000\n",
      "181/181 - 2s - loss: -8.9694e-01 - negative_correlation_loss: -9.0131e-01 - val_loss: -8.8133e-01 - val_negative_correlation_loss: -8.8556e-01 - lr: 0.0100 - 2s/epoch - 9ms/step\n",
      "Epoch 7/1000\n",
      "181/181 - 2s - loss: -8.9723e-01 - negative_correlation_loss: -9.0150e-01 - val_loss: -8.7954e-01 - val_negative_correlation_loss: -8.8359e-01 - lr: 0.0100 - 2s/epoch - 9ms/step\n",
      "Epoch 8/1000\n",
      "181/181 - 2s - loss: -8.9758e-01 - negative_correlation_loss: -9.0172e-01 - val_loss: -8.8193e-01 - val_negative_correlation_loss: -8.8598e-01 - lr: 0.0100 - 2s/epoch - 9ms/step\n",
      "Epoch 9/1000\n",
      "181/181 - 2s - loss: -8.9781e-01 - negative_correlation_loss: -9.0189e-01 - val_loss: -8.8071e-01 - val_negative_correlation_loss: -8.8468e-01 - lr: 0.0100 - 2s/epoch - 9ms/step\n",
      "Epoch 10/1000\n",
      "181/181 - 2s - loss: -8.9795e-01 - negative_correlation_loss: -9.0198e-01 - val_loss: -8.8166e-01 - val_negative_correlation_loss: -8.8565e-01 - lr: 0.0100 - 2s/epoch - 9ms/step\n",
      "Epoch 11/1000\n",
      "181/181 - 2s - loss: -8.9812e-01 - negative_correlation_loss: -9.0215e-01 - val_loss: -8.8023e-01 - val_negative_correlation_loss: -8.8421e-01 - lr: 0.0100 - 2s/epoch - 9ms/step\n",
      "Epoch 12/1000\n",
      "\n",
      "Epoch 12: ReduceLROnPlateau reducing learning rate to 0.004999999888241291.\n",
      "181/181 - 2s - loss: -8.9832e-01 - negative_correlation_loss: -9.0221e-01 - val_loss: -8.8109e-01 - val_negative_correlation_loss: -8.8495e-01 - lr: 0.0100 - 2s/epoch - 9ms/step\n",
      "Epoch 13/1000\n",
      "181/181 - 2s - loss: -9.0035e-01 - negative_correlation_loss: -9.0388e-01 - val_loss: -8.8297e-01 - val_negative_correlation_loss: -8.8623e-01 - lr: 0.0050 - 2s/epoch - 9ms/step\n",
      "Epoch 14/1000\n",
      "181/181 - 2s - loss: -9.0070e-01 - negative_correlation_loss: -9.0396e-01 - val_loss: -8.8197e-01 - val_negative_correlation_loss: -8.8514e-01 - lr: 0.0050 - 2s/epoch - 9ms/step\n",
      "Epoch 15/1000\n",
      "181/181 - 2s - loss: -9.0091e-01 - negative_correlation_loss: -9.0409e-01 - val_loss: -8.8351e-01 - val_negative_correlation_loss: -8.8664e-01 - lr: 0.0050 - 2s/epoch - 9ms/step\n",
      "Epoch 16/1000\n",
      "181/181 - 2s - loss: -9.0093e-01 - negative_correlation_loss: -9.0411e-01 - val_loss: -8.8254e-01 - val_negative_correlation_loss: -8.8565e-01 - lr: 0.0050 - 2s/epoch - 9ms/step\n",
      "Epoch 17/1000\n",
      "181/181 - 2s - loss: -9.0103e-01 - negative_correlation_loss: -9.0420e-01 - val_loss: -8.8257e-01 - val_negative_correlation_loss: -8.8566e-01 - lr: 0.0050 - 2s/epoch - 9ms/step\n",
      "Epoch 18/1000\n",
      "181/181 - 2s - loss: -9.0110e-01 - negative_correlation_loss: -9.0425e-01 - val_loss: -8.8316e-01 - val_negative_correlation_loss: -8.8625e-01 - lr: 0.0050 - 2s/epoch - 9ms/step\n",
      "Epoch 19/1000\n",
      "181/181 - 2s - loss: -9.0122e-01 - negative_correlation_loss: -9.0431e-01 - val_loss: -8.8387e-01 - val_negative_correlation_loss: -8.8695e-01 - lr: 0.0050 - 2s/epoch - 9ms/step\n",
      "Epoch 20/1000\n",
      "181/181 - 2s - loss: -9.0121e-01 - negative_correlation_loss: -9.0436e-01 - val_loss: -8.8342e-01 - val_negative_correlation_loss: -8.8651e-01 - lr: 0.0050 - 2s/epoch - 9ms/step\n",
      "Epoch 21/1000\n",
      "181/181 - 2s - loss: -9.0129e-01 - negative_correlation_loss: -9.0446e-01 - val_loss: -8.8318e-01 - val_negative_correlation_loss: -8.8627e-01 - lr: 0.0050 - 2s/epoch - 9ms/step\n",
      "Epoch 22/1000\n",
      "181/181 - 2s - loss: -9.0135e-01 - negative_correlation_loss: -9.0450e-01 - val_loss: -8.8355e-01 - val_negative_correlation_loss: -8.8665e-01 - lr: 0.0050 - 2s/epoch - 9ms/step\n",
      "Epoch 23/1000\n",
      "\n",
      "Epoch 23: ReduceLROnPlateau reducing learning rate to 0.0024999999441206455.\n",
      "181/181 - 2s - loss: -9.0149e-01 - negative_correlation_loss: -9.0462e-01 - val_loss: -8.8337e-01 - val_negative_correlation_loss: -8.8645e-01 - lr: 0.0050 - 2s/epoch - 9ms/step\n",
      "Epoch 24/1000\n",
      "181/181 - 2s - loss: -9.0311e-01 - negative_correlation_loss: -9.0612e-01 - val_loss: -8.8392e-01 - val_negative_correlation_loss: -8.8680e-01 - lr: 0.0025 - 2s/epoch - 9ms/step\n",
      "Epoch 25/1000\n",
      "181/181 - 2s - loss: -9.0343e-01 - negative_correlation_loss: -9.0634e-01 - val_loss: -8.8431e-01 - val_negative_correlation_loss: -8.8714e-01 - lr: 0.0025 - 2s/epoch - 9ms/step\n",
      "Epoch 26/1000\n",
      "181/181 - 2s - loss: -9.0358e-01 - negative_correlation_loss: -9.0644e-01 - val_loss: -8.8356e-01 - val_negative_correlation_loss: -8.8636e-01 - lr: 0.0025 - 2s/epoch - 9ms/step\n",
      "Epoch 27/1000\n",
      "181/181 - 2s - loss: -9.0366e-01 - negative_correlation_loss: -9.0651e-01 - val_loss: -8.8367e-01 - val_negative_correlation_loss: -8.8647e-01 - lr: 0.0025 - 2s/epoch - 9ms/step\n",
      "Epoch 28/1000\n",
      "181/181 - 2s - loss: -9.0382e-01 - negative_correlation_loss: -9.0667e-01 - val_loss: -8.8430e-01 - val_negative_correlation_loss: -8.8710e-01 - lr: 0.0025 - 2s/epoch - 9ms/step\n",
      "Epoch 29/1000\n",
      "\n",
      "Epoch 29: ReduceLROnPlateau reducing learning rate to 0.0012499999720603228.\n",
      "181/181 - 2s - loss: -9.0392e-01 - negative_correlation_loss: -9.0679e-01 - val_loss: -8.8299e-01 - val_negative_correlation_loss: -8.8581e-01 - lr: 0.0025 - 2s/epoch - 9ms/step\n",
      "Epoch 30/1000\n",
      "181/181 - 2s - loss: -9.0533e-01 - negative_correlation_loss: -9.0814e-01 - val_loss: -8.8277e-01 - val_negative_correlation_loss: -8.8551e-01 - lr: 0.0012 - 2s/epoch - 9ms/step\n",
      "Epoch 31/1000\n",
      "181/181 - 2s - loss: -9.0570e-01 - negative_correlation_loss: -9.0845e-01 - val_loss: -8.8283e-01 - val_negative_correlation_loss: -8.8554e-01 - lr: 0.0012 - 2s/epoch - 9ms/step\n",
      "Epoch 32/1000\n",
      "181/181 - 2s - loss: -9.0591e-01 - negative_correlation_loss: -9.0865e-01 - val_loss: -8.8167e-01 - val_negative_correlation_loss: -8.8436e-01 - lr: 0.0012 - 2s/epoch - 9ms/step\n",
      "Epoch 33/1000\n",
      "\n",
      "Epoch 33: ReduceLROnPlateau reducing learning rate to 0.0006249999860301614.\n",
      "181/181 - 2s - loss: -9.0604e-01 - negative_correlation_loss: -9.0878e-01 - val_loss: -8.8279e-01 - val_negative_correlation_loss: -8.8548e-01 - lr: 0.0012 - 2s/epoch - 9ms/step\n",
      "Epoch 34/1000\n",
      "181/181 - 2s - loss: -9.0711e-01 - negative_correlation_loss: -9.0980e-01 - val_loss: -8.8252e-01 - val_negative_correlation_loss: -8.8518e-01 - lr: 6.2500e-04 - 2s/epoch - 9ms/step\n",
      "Epoch 35/1000\n",
      "181/181 - 2s - loss: -9.0735e-01 - negative_correlation_loss: -9.1002e-01 - val_loss: -8.8261e-01 - val_negative_correlation_loss: -8.8524e-01 - lr: 6.2500e-04 - 2s/epoch - 9ms/step\n",
      "Epoch 36/1000\n",
      "181/181 - 2s - loss: -9.0750e-01 - negative_correlation_loss: -9.1013e-01 - val_loss: -8.8175e-01 - val_negative_correlation_loss: -8.8437e-01 - lr: 6.2500e-04 - 2s/epoch - 9ms/step\n",
      "Epoch 37/1000\n",
      "\n",
      "Epoch 37: ReduceLROnPlateau reducing learning rate to 0.0003124999930150807.\n",
      "181/181 - 2s - loss: -9.0766e-01 - negative_correlation_loss: -9.1030e-01 - val_loss: -8.8170e-01 - val_negative_correlation_loss: -8.8430e-01 - lr: 6.2500e-04 - 2s/epoch - 9ms/step\n",
      "1/1 [==============================] - 0s 93ms/step\n",
      "Fold 0:  36 epochs, corr =  0.88716\n"
     ]
    }
   ],
   "source": [
    "LR_START = 0.01\n",
    "BATCH_SIZE = 256\n",
    "reg1 = 8e-6\n",
    "reg2 = 2e-6\n",
    "model = fit(X_train_svd,y_train)"
   ]
  },
  {
   "cell_type": "code",
   "execution_count": 29,
   "id": "571cf8bf-3416-4cdb-afbb-9ecbd25b95b8",
   "metadata": {
    "execution": {
     "iopub.execute_input": "2022-10-14T03:50:22.307889Z",
     "iopub.status.busy": "2022-10-14T03:50:22.307502Z",
     "iopub.status.idle": "2022-10-14T03:52:37.920224Z",
     "shell.execute_reply": "2022-10-14T03:52:37.919605Z",
     "shell.execute_reply.started": "2022-10-14T03:50:22.307864Z"
    }
   },
   "outputs": [
    {
     "name": "stdout",
     "output_type": "stream",
     "text": [
      "Epoch 1/1000\n",
      "181/181 - 2s - loss: -7.8600e-01 - negative_correlation_loss: -8.5516e-01 - val_loss: -8.6023e-01 - val_negative_correlation_loss: -8.7712e-01 - lr: 0.0100 - 2s/epoch - 13ms/step\n",
      "Epoch 2/1000\n",
      "181/181 - 2s - loss: -8.7947e-01 - negative_correlation_loss: -8.9287e-01 - val_loss: -8.6505e-01 - val_negative_correlation_loss: -8.7628e-01 - lr: 0.0100 - 2s/epoch - 9ms/step\n",
      "Epoch 3/1000\n",
      "181/181 - 2s - loss: -8.8318e-01 - negative_correlation_loss: -8.9377e-01 - val_loss: -8.6842e-01 - val_negative_correlation_loss: -8.7823e-01 - lr: 0.0100 - 2s/epoch - 9ms/step\n",
      "Epoch 4/1000\n",
      "181/181 - 2s - loss: -8.8460e-01 - negative_correlation_loss: -8.9429e-01 - val_loss: -8.6859e-01 - val_negative_correlation_loss: -8.7817e-01 - lr: 0.0100 - 2s/epoch - 9ms/step\n",
      "Epoch 5/1000\n",
      "181/181 - 2s - loss: -8.8494e-01 - negative_correlation_loss: -8.9434e-01 - val_loss: -8.6961e-01 - val_negative_correlation_loss: -8.7886e-01 - lr: 0.0100 - 2s/epoch - 9ms/step\n",
      "Epoch 6/1000\n",
      "181/181 - 2s - loss: -8.8580e-01 - negative_correlation_loss: -8.9460e-01 - val_loss: -8.7225e-01 - val_negative_correlation_loss: -8.8080e-01 - lr: 0.0100 - 2s/epoch - 9ms/step\n",
      "Epoch 7/1000\n",
      "181/181 - 2s - loss: -8.8614e-01 - negative_correlation_loss: -8.9454e-01 - val_loss: -8.6940e-01 - val_negative_correlation_loss: -8.7769e-01 - lr: 0.0100 - 2s/epoch - 9ms/step\n",
      "Epoch 8/1000\n",
      "181/181 - 2s - loss: -8.8642e-01 - negative_correlation_loss: -8.9461e-01 - val_loss: -8.7215e-01 - val_negative_correlation_loss: -8.8024e-01 - lr: 0.0100 - 2s/epoch - 9ms/step\n",
      "Epoch 9/1000\n",
      "181/181 - 2s - loss: -8.8673e-01 - negative_correlation_loss: -8.9460e-01 - val_loss: -8.7318e-01 - val_negative_correlation_loss: -8.8102e-01 - lr: 0.0100 - 2s/epoch - 9ms/step\n",
      "Epoch 10/1000\n",
      "181/181 - 2s - loss: -8.8603e-01 - negative_correlation_loss: -8.9442e-01 - val_loss: -8.7268e-01 - val_negative_correlation_loss: -8.8045e-01 - lr: 0.0100 - 2s/epoch - 9ms/step\n",
      "Epoch 11/1000\n",
      "181/181 - 2s - loss: -8.8710e-01 - negative_correlation_loss: -8.9470e-01 - val_loss: -8.7064e-01 - val_negative_correlation_loss: -8.7811e-01 - lr: 0.0100 - 2s/epoch - 9ms/step\n",
      "Epoch 12/1000\n",
      "181/181 - 2s - loss: -8.8712e-01 - negative_correlation_loss: -8.9459e-01 - val_loss: -8.7295e-01 - val_negative_correlation_loss: -8.8037e-01 - lr: 0.0100 - 2s/epoch - 9ms/step\n",
      "Epoch 13/1000\n",
      "181/181 - 2s - loss: -8.8751e-01 - negative_correlation_loss: -8.9477e-01 - val_loss: -8.7362e-01 - val_negative_correlation_loss: -8.8077e-01 - lr: 0.0100 - 2s/epoch - 9ms/step\n",
      "Epoch 14/1000\n",
      "181/181 - 2s - loss: -8.8622e-01 - negative_correlation_loss: -8.9453e-01 - val_loss: -8.7007e-01 - val_negative_correlation_loss: -8.7797e-01 - lr: 0.0100 - 2s/epoch - 9ms/step\n",
      "Epoch 15/1000\n",
      "181/181 - 2s - loss: -8.8696e-01 - negative_correlation_loss: -8.9448e-01 - val_loss: -8.7384e-01 - val_negative_correlation_loss: -8.8104e-01 - lr: 0.0100 - 2s/epoch - 9ms/step\n",
      "Epoch 16/1000\n",
      "181/181 - 2s - loss: -8.8714e-01 - negative_correlation_loss: -8.9447e-01 - val_loss: -8.6716e-01 - val_negative_correlation_loss: -8.7639e-01 - lr: 0.0100 - 2s/epoch - 9ms/step\n",
      "Epoch 17/1000\n",
      "181/181 - 2s - loss: -8.8698e-01 - negative_correlation_loss: -8.9457e-01 - val_loss: -8.7061e-01 - val_negative_correlation_loss: -8.7761e-01 - lr: 0.0100 - 2s/epoch - 9ms/step\n",
      "Epoch 18/1000\n",
      "181/181 - 2s - loss: -8.8742e-01 - negative_correlation_loss: -8.9454e-01 - val_loss: -8.7410e-01 - val_negative_correlation_loss: -8.8099e-01 - lr: 0.0100 - 2s/epoch - 9ms/step\n",
      "Epoch 19/1000\n",
      "181/181 - 2s - loss: -8.8757e-01 - negative_correlation_loss: -8.9441e-01 - val_loss: -8.7109e-01 - val_negative_correlation_loss: -8.7789e-01 - lr: 0.0100 - 2s/epoch - 9ms/step\n",
      "Epoch 20/1000\n",
      "181/181 - 2s - loss: -8.8760e-01 - negative_correlation_loss: -8.9448e-01 - val_loss: -8.7302e-01 - val_negative_correlation_loss: -8.7954e-01 - lr: 0.0100 - 2s/epoch - 9ms/step\n",
      "Epoch 21/1000\n",
      "181/181 - 2s - loss: -8.8792e-01 - negative_correlation_loss: -8.9463e-01 - val_loss: -8.7300e-01 - val_negative_correlation_loss: -8.7966e-01 - lr: 0.0100 - 2s/epoch - 9ms/step\n",
      "Epoch 22/1000\n",
      "\n",
      "Epoch 22: ReduceLROnPlateau reducing learning rate to 0.004999999888241291.\n",
      "181/181 - 2s - loss: -8.8756e-01 - negative_correlation_loss: -8.9448e-01 - val_loss: -8.7150e-01 - val_negative_correlation_loss: -8.7830e-01 - lr: 0.0100 - 2s/epoch - 9ms/step\n",
      "Epoch 23/1000\n",
      "181/181 - 2s - loss: -8.9159e-01 - negative_correlation_loss: -8.9664e-01 - val_loss: -8.7630e-01 - val_negative_correlation_loss: -8.8101e-01 - lr: 0.0050 - 2s/epoch - 9ms/step\n",
      "Epoch 24/1000\n",
      "181/181 - 2s - loss: -8.9190e-01 - negative_correlation_loss: -8.9672e-01 - val_loss: -8.7669e-01 - val_negative_correlation_loss: -8.8137e-01 - lr: 0.0050 - 2s/epoch - 9ms/step\n",
      "Epoch 25/1000\n",
      "181/181 - 2s - loss: -8.9201e-01 - negative_correlation_loss: -8.9678e-01 - val_loss: -8.7667e-01 - val_negative_correlation_loss: -8.8135e-01 - lr: 0.0050 - 2s/epoch - 9ms/step\n",
      "Epoch 26/1000\n",
      "181/181 - 2s - loss: -8.9198e-01 - negative_correlation_loss: -8.9676e-01 - val_loss: -8.7625e-01 - val_negative_correlation_loss: -8.8094e-01 - lr: 0.0050 - 2s/epoch - 9ms/step\n",
      "Epoch 27/1000\n",
      "181/181 - 2s - loss: -8.9196e-01 - negative_correlation_loss: -8.9668e-01 - val_loss: -8.7755e-01 - val_negative_correlation_loss: -8.8224e-01 - lr: 0.0050 - 2s/epoch - 8ms/step\n",
      "Epoch 28/1000\n",
      "181/181 - 2s - loss: -8.9208e-01 - negative_correlation_loss: -8.9684e-01 - val_loss: -8.7778e-01 - val_negative_correlation_loss: -8.8252e-01 - lr: 0.0050 - 2s/epoch - 9ms/step\n",
      "Epoch 29/1000\n",
      "181/181 - 2s - loss: -8.9212e-01 - negative_correlation_loss: -8.9686e-01 - val_loss: -8.7713e-01 - val_negative_correlation_loss: -8.8185e-01 - lr: 0.0050 - 2s/epoch - 9ms/step\n",
      "Epoch 30/1000\n",
      "181/181 - 2s - loss: -8.9205e-01 - negative_correlation_loss: -8.9675e-01 - val_loss: -8.7681e-01 - val_negative_correlation_loss: -8.8135e-01 - lr: 0.0050 - 2s/epoch - 9ms/step\n",
      "Epoch 31/1000\n",
      "181/181 - 2s - loss: -8.9213e-01 - negative_correlation_loss: -8.9669e-01 - val_loss: -8.7731e-01 - val_negative_correlation_loss: -8.8174e-01 - lr: 0.0050 - 2s/epoch - 9ms/step\n",
      "Epoch 32/1000\n",
      "\n",
      "Epoch 32: ReduceLROnPlateau reducing learning rate to 0.0024999999441206455.\n",
      "181/181 - 2s - loss: -8.9218e-01 - negative_correlation_loss: -8.9673e-01 - val_loss: -8.7730e-01 - val_negative_correlation_loss: -8.8182e-01 - lr: 0.0050 - 2s/epoch - 9ms/step\n",
      "Epoch 33/1000\n",
      "181/181 - 2s - loss: -8.9455e-01 - negative_correlation_loss: -8.9821e-01 - val_loss: -8.7953e-01 - val_negative_correlation_loss: -8.8297e-01 - lr: 0.0025 - 2s/epoch - 9ms/step\n",
      "Epoch 34/1000\n",
      "181/181 - 2s - loss: -8.9479e-01 - negative_correlation_loss: -8.9820e-01 - val_loss: -8.7884e-01 - val_negative_correlation_loss: -8.8216e-01 - lr: 0.0025 - 2s/epoch - 9ms/step\n",
      "Epoch 35/1000\n",
      "181/181 - 2s - loss: -8.9474e-01 - negative_correlation_loss: -8.9812e-01 - val_loss: -8.8028e-01 - val_negative_correlation_loss: -8.8360e-01 - lr: 0.0025 - 2s/epoch - 9ms/step\n",
      "Epoch 36/1000\n",
      "181/181 - 2s - loss: -8.9483e-01 - negative_correlation_loss: -8.9815e-01 - val_loss: -8.8036e-01 - val_negative_correlation_loss: -8.8368e-01 - lr: 0.0025 - 2s/epoch - 9ms/step\n",
      "Epoch 37/1000\n",
      "181/181 - 2s - loss: -8.9494e-01 - negative_correlation_loss: -8.9827e-01 - val_loss: -8.7934e-01 - val_negative_correlation_loss: -8.8260e-01 - lr: 0.0025 - 2s/epoch - 9ms/step\n",
      "Epoch 38/1000\n",
      "181/181 - 2s - loss: -8.9497e-01 - negative_correlation_loss: -8.9831e-01 - val_loss: -8.7897e-01 - val_negative_correlation_loss: -8.8224e-01 - lr: 0.0025 - 2s/epoch - 9ms/step\n",
      "Epoch 39/1000\n",
      "\n",
      "Epoch 39: ReduceLROnPlateau reducing learning rate to 0.0012499999720603228.\n",
      "181/181 - 2s - loss: -8.9499e-01 - negative_correlation_loss: -8.9830e-01 - val_loss: -8.8027e-01 - val_negative_correlation_loss: -8.8353e-01 - lr: 0.0025 - 2s/epoch - 9ms/step\n",
      "Epoch 40/1000\n",
      "181/181 - 2s - loss: -8.9645e-01 - negative_correlation_loss: -8.9935e-01 - val_loss: -8.8200e-01 - val_negative_correlation_loss: -8.8472e-01 - lr: 0.0012 - 2s/epoch - 9ms/step\n",
      "Epoch 41/1000\n",
      "181/181 - 2s - loss: -8.9659e-01 - negative_correlation_loss: -8.9936e-01 - val_loss: -8.8212e-01 - val_negative_correlation_loss: -8.8479e-01 - lr: 0.0012 - 2s/epoch - 9ms/step\n",
      "Epoch 42/1000\n",
      "181/181 - 2s - loss: -8.9667e-01 - negative_correlation_loss: -8.9935e-01 - val_loss: -8.8137e-01 - val_negative_correlation_loss: -8.8398e-01 - lr: 0.0012 - 2s/epoch - 9ms/step\n",
      "Epoch 43/1000\n",
      "181/181 - 2s - loss: -8.9667e-01 - negative_correlation_loss: -8.9934e-01 - val_loss: -8.8160e-01 - val_negative_correlation_loss: -8.8421e-01 - lr: 0.0012 - 2s/epoch - 9ms/step\n",
      "Epoch 44/1000\n",
      "181/181 - 2s - loss: -8.9672e-01 - negative_correlation_loss: -8.9930e-01 - val_loss: -8.8132e-01 - val_negative_correlation_loss: -8.8391e-01 - lr: 0.0012 - 2s/epoch - 9ms/step\n",
      "Epoch 45/1000\n",
      "\n",
      "Epoch 45: ReduceLROnPlateau reducing learning rate to 0.0006249999860301614.\n",
      "181/181 - 2s - loss: -8.9677e-01 - negative_correlation_loss: -8.9933e-01 - val_loss: -8.8207e-01 - val_negative_correlation_loss: -8.8462e-01 - lr: 0.0012 - 2s/epoch - 9ms/step\n",
      "Epoch 46/1000\n",
      "181/181 - 2s - loss: -8.9776e-01 - negative_correlation_loss: -9.0016e-01 - val_loss: -8.8309e-01 - val_negative_correlation_loss: -8.8538e-01 - lr: 6.2500e-04 - 2s/epoch - 9ms/step\n",
      "Epoch 47/1000\n",
      "181/181 - 2s - loss: -8.9792e-01 - negative_correlation_loss: -9.0018e-01 - val_loss: -8.8280e-01 - val_negative_correlation_loss: -8.8502e-01 - lr: 6.2500e-04 - 2s/epoch - 9ms/step\n",
      "Epoch 48/1000\n",
      "181/181 - 2s - loss: -8.9800e-01 - negative_correlation_loss: -9.0018e-01 - val_loss: -8.8267e-01 - val_negative_correlation_loss: -8.8482e-01 - lr: 6.2500e-04 - 2s/epoch - 9ms/step\n",
      "Epoch 49/1000\n",
      "181/181 - 2s - loss: -8.9805e-01 - negative_correlation_loss: -9.0020e-01 - val_loss: -8.8328e-01 - val_negative_correlation_loss: -8.8539e-01 - lr: 6.2500e-04 - 2s/epoch - 9ms/step\n",
      "Epoch 50/1000\n",
      "181/181 - 2s - loss: -8.9810e-01 - negative_correlation_loss: -9.0022e-01 - val_loss: -8.8358e-01 - val_negative_correlation_loss: -8.8564e-01 - lr: 6.2500e-04 - 2s/epoch - 9ms/step\n",
      "Epoch 51/1000\n",
      "181/181 - 2s - loss: -8.9815e-01 - negative_correlation_loss: -9.0018e-01 - val_loss: -8.8328e-01 - val_negative_correlation_loss: -8.8529e-01 - lr: 6.2500e-04 - 2s/epoch - 9ms/step\n",
      "Epoch 52/1000\n",
      "181/181 - 2s - loss: -8.9822e-01 - negative_correlation_loss: -9.0026e-01 - val_loss: -8.8313e-01 - val_negative_correlation_loss: -8.8512e-01 - lr: 6.2500e-04 - 2s/epoch - 9ms/step\n",
      "Epoch 53/1000\n",
      "181/181 - 2s - loss: -8.9826e-01 - negative_correlation_loss: -9.0025e-01 - val_loss: -8.8307e-01 - val_negative_correlation_loss: -8.8502e-01 - lr: 6.2500e-04 - 2s/epoch - 9ms/step\n",
      "Epoch 54/1000\n",
      "\n",
      "Epoch 54: ReduceLROnPlateau reducing learning rate to 0.0003124999930150807.\n",
      "181/181 - 2s - loss: -8.9832e-01 - negative_correlation_loss: -9.0030e-01 - val_loss: -8.8311e-01 - val_negative_correlation_loss: -8.8503e-01 - lr: 6.2500e-04 - 2s/epoch - 9ms/step\n",
      "Epoch 55/1000\n",
      "181/181 - 2s - loss: -8.9897e-01 - negative_correlation_loss: -9.0086e-01 - val_loss: -8.8370e-01 - val_negative_correlation_loss: -8.8550e-01 - lr: 3.1250e-04 - 2s/epoch - 9ms/step\n",
      "Epoch 56/1000\n",
      "181/181 - 2s - loss: -8.9912e-01 - negative_correlation_loss: -9.0093e-01 - val_loss: -8.8357e-01 - val_negative_correlation_loss: -8.8532e-01 - lr: 3.1250e-04 - 2s/epoch - 9ms/step\n",
      "Epoch 57/1000\n",
      "181/181 - 2s - loss: -8.9918e-01 - negative_correlation_loss: -9.0091e-01 - val_loss: -8.8372e-01 - val_negative_correlation_loss: -8.8542e-01 - lr: 3.1250e-04 - 2s/epoch - 9ms/step\n",
      "Epoch 58/1000\n",
      "181/181 - 2s - loss: -8.9922e-01 - negative_correlation_loss: -9.0092e-01 - val_loss: -8.8336e-01 - val_negative_correlation_loss: -8.8502e-01 - lr: 3.1250e-04 - 2s/epoch - 9ms/step\n",
      "Epoch 59/1000\n",
      "\n",
      "Epoch 59: ReduceLROnPlateau reducing learning rate to 0.00015624999650754035.\n",
      "181/181 - 2s - loss: -8.9927e-01 - negative_correlation_loss: -9.0095e-01 - val_loss: -8.8358e-01 - val_negative_correlation_loss: -8.8521e-01 - lr: 3.1250e-04 - 2s/epoch - 9ms/step\n",
      "Epoch 60/1000\n",
      "181/181 - 2s - loss: -8.9972e-01 - negative_correlation_loss: -9.0135e-01 - val_loss: -8.8464e-01 - val_negative_correlation_loss: -8.8622e-01 - lr: 1.5625e-04 - 2s/epoch - 9ms/step\n",
      "Epoch 61/1000\n",
      "181/181 - 2s - loss: -8.9979e-01 - negative_correlation_loss: -9.0137e-01 - val_loss: -8.8418e-01 - val_negative_correlation_loss: -8.8573e-01 - lr: 1.5625e-04 - 2s/epoch - 9ms/step\n",
      "Epoch 62/1000\n",
      "181/181 - 2s - loss: -8.9983e-01 - negative_correlation_loss: -9.0138e-01 - val_loss: -8.8398e-01 - val_negative_correlation_loss: -8.8550e-01 - lr: 1.5625e-04 - 2s/epoch - 9ms/step\n",
      "Epoch 63/1000\n",
      "181/181 - 2s - loss: -8.9988e-01 - negative_correlation_loss: -9.0143e-01 - val_loss: -8.8441e-01 - val_negative_correlation_loss: -8.8590e-01 - lr: 1.5625e-04 - 2s/epoch - 9ms/step\n",
      "Epoch 64/1000\n",
      "\n",
      "Epoch 64: ReduceLROnPlateau reducing learning rate to 7.812499825377017e-05.\n",
      "181/181 - 2s - loss: -8.9992e-01 - negative_correlation_loss: -9.0141e-01 - val_loss: -8.8415e-01 - val_negative_correlation_loss: -8.8562e-01 - lr: 1.5625e-04 - 2s/epoch - 9ms/step\n",
      "Epoch 65/1000\n",
      "181/181 - 2s - loss: -9.0018e-01 - negative_correlation_loss: -9.0167e-01 - val_loss: -8.8410e-01 - val_negative_correlation_loss: -8.8555e-01 - lr: 7.8125e-05 - 2s/epoch - 9ms/step\n",
      "Epoch 66/1000\n",
      "181/181 - 2s - loss: -9.0022e-01 - negative_correlation_loss: -9.0168e-01 - val_loss: -8.8433e-01 - val_negative_correlation_loss: -8.8576e-01 - lr: 7.8125e-05 - 2s/epoch - 9ms/step\n",
      "Epoch 67/1000\n",
      "181/181 - 2s - loss: -9.0025e-01 - negative_correlation_loss: -9.0170e-01 - val_loss: -8.8434e-01 - val_negative_correlation_loss: -8.8575e-01 - lr: 7.8125e-05 - 2s/epoch - 9ms/step\n",
      "Epoch 68/1000\n",
      "\n",
      "Epoch 68: ReduceLROnPlateau reducing learning rate to 3.9062499126885086e-05.\n",
      "181/181 - 2s - loss: -9.0028e-01 - negative_correlation_loss: -9.0169e-01 - val_loss: -8.8426e-01 - val_negative_correlation_loss: -8.8566e-01 - lr: 7.8125e-05 - 2s/epoch - 9ms/step\n",
      "Epoch 69/1000\n",
      "181/181 - 2s - loss: -9.0044e-01 - negative_correlation_loss: -9.0185e-01 - val_loss: -8.8453e-01 - val_negative_correlation_loss: -8.8592e-01 - lr: 3.9062e-05 - 2s/epoch - 9ms/step\n",
      "Epoch 70/1000\n",
      "181/181 - 2s - loss: -9.0046e-01 - negative_correlation_loss: -9.0185e-01 - val_loss: -8.8468e-01 - val_negative_correlation_loss: -8.8606e-01 - lr: 3.9062e-05 - 2s/epoch - 9ms/step\n",
      "Epoch 71/1000\n",
      "181/181 - 2s - loss: -9.0047e-01 - negative_correlation_loss: -9.0182e-01 - val_loss: -8.8435e-01 - val_negative_correlation_loss: -8.8572e-01 - lr: 3.9062e-05 - 2s/epoch - 9ms/step\n",
      "Epoch 72/1000\n",
      "\n",
      "Epoch 72: ReduceLROnPlateau reducing learning rate to 1.9531249563442543e-05.\n",
      "181/181 - 2s - loss: -9.0048e-01 - negative_correlation_loss: -9.0185e-01 - val_loss: -8.8458e-01 - val_negative_correlation_loss: -8.8595e-01 - lr: 3.9062e-05 - 2s/epoch - 9ms/step\n",
      "Epoch 73/1000\n",
      "181/181 - 2s - loss: -9.0057e-01 - negative_correlation_loss: -9.0192e-01 - val_loss: -8.8468e-01 - val_negative_correlation_loss: -8.8604e-01 - lr: 1.9531e-05 - 2s/epoch - 9ms/step\n",
      "Epoch 74/1000\n",
      "181/181 - 2s - loss: -9.0058e-01 - negative_correlation_loss: -9.0197e-01 - val_loss: -8.8447e-01 - val_negative_correlation_loss: -8.8582e-01 - lr: 1.9531e-05 - 2s/epoch - 9ms/step\n",
      "Epoch 75/1000\n",
      "181/181 - 2s - loss: -9.0059e-01 - negative_correlation_loss: -9.0195e-01 - val_loss: -8.8443e-01 - val_negative_correlation_loss: -8.8577e-01 - lr: 1.9531e-05 - 2s/epoch - 9ms/step\n",
      "Epoch 76/1000\n",
      "\n",
      "Epoch 76: ReduceLROnPlateau reducing learning rate to 9.765624781721272e-06.\n",
      "181/181 - 2s - loss: -9.0060e-01 - negative_correlation_loss: -9.0197e-01 - val_loss: -8.8462e-01 - val_negative_correlation_loss: -8.8596e-01 - lr: 1.9531e-05 - 2s/epoch - 9ms/step\n",
      "Epoch 77/1000\n",
      "181/181 - 2s - loss: -9.0064e-01 - negative_correlation_loss: -9.0200e-01 - val_loss: -8.8463e-01 - val_negative_correlation_loss: -8.8597e-01 - lr: 9.7656e-06 - 2s/epoch - 9ms/step\n",
      "Epoch 78/1000\n",
      "181/181 - 2s - loss: -9.0065e-01 - negative_correlation_loss: -9.0204e-01 - val_loss: -8.8460e-01 - val_negative_correlation_loss: -8.8594e-01 - lr: 9.7656e-06 - 2s/epoch - 9ms/step\n",
      "Epoch 79/1000\n",
      "181/181 - 2s - loss: -9.0065e-01 - negative_correlation_loss: -9.0201e-01 - val_loss: -8.8453e-01 - val_negative_correlation_loss: -8.8587e-01 - lr: 9.7656e-06 - 2s/epoch - 9ms/step\n",
      "Epoch 80/1000\n",
      "\n",
      "Epoch 80: ReduceLROnPlateau reducing learning rate to 4.882812390860636e-06.\n",
      "181/181 - 2s - loss: -9.0066e-01 - negative_correlation_loss: -9.0203e-01 - val_loss: -8.8466e-01 - val_negative_correlation_loss: -8.8599e-01 - lr: 9.7656e-06 - 2s/epoch - 9ms/step\n",
      "Epoch 81/1000\n",
      "181/181 - 2s - loss: -9.0068e-01 - negative_correlation_loss: -9.0203e-01 - val_loss: -8.8454e-01 - val_negative_correlation_loss: -8.8587e-01 - lr: 4.8828e-06 - 2s/epoch - 9ms/step\n",
      "Epoch 82/1000\n",
      "181/181 - 2s - loss: -9.0068e-01 - negative_correlation_loss: -9.0201e-01 - val_loss: -8.8455e-01 - val_negative_correlation_loss: -8.8588e-01 - lr: 4.8828e-06 - 2s/epoch - 9ms/step\n",
      "Epoch 83/1000\n",
      "181/181 - 2s - loss: -9.0068e-01 - negative_correlation_loss: -9.0204e-01 - val_loss: -8.8452e-01 - val_negative_correlation_loss: -8.8585e-01 - lr: 4.8828e-06 - 2s/epoch - 9ms/step\n",
      "Epoch 84/1000\n",
      "\n",
      "Epoch 84: ReduceLROnPlateau reducing learning rate to 2.441406195430318e-06.\n",
      "181/181 - 2s - loss: -9.0069e-01 - negative_correlation_loss: -9.0202e-01 - val_loss: -8.8456e-01 - val_negative_correlation_loss: -8.8589e-01 - lr: 4.8828e-06 - 2s/epoch - 9ms/step\n",
      "Epoch 85/1000\n",
      "181/181 - 2s - loss: -9.0070e-01 - negative_correlation_loss: -9.0201e-01 - val_loss: -8.8455e-01 - val_negative_correlation_loss: -8.8588e-01 - lr: 2.4414e-06 - 2s/epoch - 9ms/step\n",
      "1/1 [==============================] - 0s 94ms/step\n",
      "Fold 0:  84 epochs, corr =  0.88606\n"
     ]
    }
   ],
   "source": [
    "LR_START = 0.01\n",
    "BATCH_SIZE = 256\n",
    "reg1 = 8e-4\n",
    "reg2 = 2e-4\n",
    "model = fit(X_train_svd,y_train)"
   ]
  },
  {
   "cell_type": "code",
   "execution_count": 30,
   "id": "fa57a6f7-3796-49a6-808a-23b070cd9ca7",
   "metadata": {
    "execution": {
     "iopub.execute_input": "2022-10-14T03:54:45.841589Z",
     "iopub.status.busy": "2022-10-14T03:54:45.841202Z",
     "iopub.status.idle": "2022-10-14T03:54:45.845744Z",
     "shell.execute_reply": "2022-10-14T03:54:45.845202Z",
     "shell.execute_reply.started": "2022-10-14T03:54:45.841564Z"
    }
   },
   "outputs": [
    {
     "data": {
      "text/plain": [
       "'/home/jovyan/kaggle/working'"
      ]
     },
     "execution_count": 30,
     "metadata": {},
     "output_type": "execute_result"
    }
   ],
   "source": [
    "%pwd"
   ]
  },
  {
   "cell_type": "code",
   "execution_count": 31,
   "id": "fd8e6e1b-e7c7-4520-93b2-73f61cc87da5",
   "metadata": {
    "execution": {
     "iopub.execute_input": "2022-10-14T03:55:03.141708Z",
     "iopub.status.busy": "2022-10-14T03:55:03.141330Z",
     "iopub.status.idle": "2022-10-14T03:55:04.279148Z",
     "shell.execute_reply": "2022-10-14T03:55:04.278357Z",
     "shell.execute_reply.started": "2022-10-14T03:55:03.141684Z"
    }
   },
   "outputs": [
    {
     "name": "stdout",
     "output_type": "stream",
     "text": [
      "/home/jovyan/kaggle/working/magic_data\n",
      "magic_model.sav  X_test_64.csv  X_train_256.csv  X_train_64.csv\n"
     ]
    }
   ],
   "source": [
    "%cd magic_data\n",
    "%ls"
   ]
  },
  {
   "cell_type": "code",
   "execution_count": 32,
   "id": "82575fbc-31fd-41f5-83b8-97c98ec5f88f",
   "metadata": {
    "execution": {
     "iopub.execute_input": "2022-10-14T03:55:21.102807Z",
     "iopub.status.busy": "2022-10-14T03:55:21.102353Z",
     "iopub.status.idle": "2022-10-14T03:55:23.928315Z",
     "shell.execute_reply": "2022-10-14T03:55:23.927386Z",
     "shell.execute_reply.started": "2022-10-14T03:55:21.102775Z"
    }
   },
   "outputs": [],
   "source": [
    "%rm magic_model.sav"
   ]
  },
  {
   "cell_type": "code",
   "execution_count": 33,
   "id": "a6620d84-1b71-492d-9604-13f4d6a27209",
   "metadata": {
    "execution": {
     "iopub.execute_input": "2022-10-14T03:56:43.540376Z",
     "iopub.status.busy": "2022-10-14T03:56:43.539957Z",
     "iopub.status.idle": "2022-10-14T03:57:10.404618Z",
     "shell.execute_reply": "2022-10-14T03:57:10.403813Z",
     "shell.execute_reply.started": "2022-10-14T03:56:43.540347Z"
    },
    "tags": []
   },
   "outputs": [
    {
     "name": "stdout",
     "output_type": "stream",
     "text": [
      "/home/jovyan/kaggle/working\n",
      "/home/jovyan/kaggle/working/pca64\n"
     ]
    }
   ],
   "source": [
    "%cd ..\n",
    "%mkdir pca64\n",
    "%cd pca64\n",
    "np.savetxt(\"X_train_64.csv\", X_train_svd, delimiter=\",\")\n",
    "np.savetxt(\"X_test_64.csv\", X_test_svd, delimiter=\",\")"
   ]
  },
  {
   "cell_type": "code",
   "execution_count": 34,
   "id": "2a5a66f5-ebd0-4b3e-8cd4-24bc8b43c2f9",
   "metadata": {
    "execution": {
     "iopub.execute_input": "2022-10-14T03:59:30.023108Z",
     "iopub.status.busy": "2022-10-14T03:59:30.022680Z",
     "iopub.status.idle": "2022-10-14T03:59:30.028834Z",
     "shell.execute_reply": "2022-10-14T03:59:30.028286Z",
     "shell.execute_reply.started": "2022-10-14T03:59:30.023079Z"
    }
   },
   "outputs": [
    {
     "name": "stdout",
     "output_type": "stream",
     "text": [
      "/home/jovyan/kaggle/working\n"
     ]
    },
    {
     "data": {
      "text/plain": [
       "'/home/jovyan/kaggle/working'"
      ]
     },
     "execution_count": 34,
     "metadata": {},
     "output_type": "execute_result"
    }
   ],
   "source": [
    "%cd ..\n",
    "%pwd"
   ]
  },
  {
   "cell_type": "markdown",
   "id": "54b2e294-1630-4f45-bcd0-82051f9711d1",
   "metadata": {
    "execution": {
     "iopub.execute_input": "2022-10-14T04:08:46.422175Z",
     "iopub.status.busy": "2022-10-14T04:08:46.421772Z",
     "iopub.status.idle": "2022-10-14T04:08:46.429528Z",
     "shell.execute_reply": "2022-10-14T04:08:46.428871Z",
     "shell.execute_reply.started": "2022-10-14T04:08:46.422149Z"
    },
    "tags": []
   },
   "source": [
    "def unique_row_view(data):\n",
    "    b = np.ascontiguousarray(data).view(\n",
    "        np.dtype((np.void, data.dtype.itemsize * data.shape[1]))\n",
    "    )\n",
    "    u = np.unique(b).view(data.dtype).reshape(-1, data.shape[1])\n",
    "    return u\n",
    "abc = np.array([[1,2,3],[2,3,4],[1,2,3]])\n",
    "unique_row_view(abc)"
   ]
  },
  {
   "cell_type": "code",
   "execution_count": 38,
   "id": "fff41422-4a72-4072-99d3-9c54ae67211c",
   "metadata": {
    "execution": {
     "iopub.execute_input": "2022-10-14T04:09:45.736886Z",
     "iopub.status.busy": "2022-10-14T04:09:45.736494Z",
     "iopub.status.idle": "2022-10-14T04:09:45.742348Z",
     "shell.execute_reply": "2022-10-14T04:09:45.741586Z",
     "shell.execute_reply.started": "2022-10-14T04:09:45.736862Z"
    },
    "tags": []
   },
   "outputs": [
    {
     "data": {
      "text/plain": [
       "array([[2, 3],\n",
       "       [3, 4],\n",
       "       [4, 5]])"
      ]
     },
     "execution_count": 38,
     "metadata": {},
     "output_type": "execute_result"
    }
   ],
   "source": [
    "abc = np.array([[0,2,3],[0,3,4],[0,4,5]])\n",
    "scprep.filter.remove_empty_genes(abc)"
   ]
  },
  {
   "cell_type": "code",
   "execution_count": 39,
   "id": "431d48ba-3abc-46b1-896d-cca9c738ecb0",
   "metadata": {
    "execution": {
     "iopub.execute_input": "2022-10-14T04:10:25.751061Z",
     "iopub.status.busy": "2022-10-14T04:10:25.750642Z",
     "iopub.status.idle": "2022-10-14T04:10:25.755920Z",
     "shell.execute_reply": "2022-10-14T04:10:25.755167Z",
     "shell.execute_reply.started": "2022-10-14T04:10:25.751035Z"
    }
   },
   "outputs": [
    {
     "data": {
      "text/plain": [
       "'/home/jovyan/kaggle/working'"
      ]
     },
     "execution_count": 39,
     "metadata": {},
     "output_type": "execute_result"
    }
   ],
   "source": [
    "%pwd"
   ]
  },
  {
   "cell_type": "code",
   "execution_count": 45,
   "id": "9cf2514f-29e2-4474-b412-1db99631ef8e",
   "metadata": {
    "execution": {
     "iopub.execute_input": "2022-10-14T04:21:16.818807Z",
     "iopub.status.busy": "2022-10-14T04:21:16.818390Z",
     "iopub.status.idle": "2022-10-14T04:22:15.200972Z",
     "shell.execute_reply": "2022-10-14T04:22:15.200300Z",
     "shell.execute_reply.started": "2022-10-14T04:21:16.818780Z"
    },
    "tags": []
   },
   "outputs": [],
   "source": [
    "def unique_row_view(data):\n",
    "    b = np.ascontiguousarray(data).view(\n",
    "        np.dtype((np.void, data.dtype.itemsize * data.shape[1]))\n",
    "    )\n",
    "    u = np.unique(b).view(data.dtype).reshape(-1, data.shape[1])\n",
    "    return u\n",
    "\n",
    "train = scipy.sparse.load_npz(\"./sparse/train_multi_inputs_values.sparse.npz\")\n",
    "test = scipy.sparse.load_npz(\"./sparse/test_multi_inputs_values.sparse.npz\")\n",
    "both = scipy.sparse.vstack([train, test])\n",
    "both = scprep.filter.remove_empty_genes(both)"
   ]
  },
  {
   "cell_type": "code",
   "execution_count": 54,
   "id": "6cda42aa-71e4-4429-87fa-00c0f1eb48a3",
   "metadata": {
    "execution": {
     "iopub.execute_input": "2022-10-14T04:26:22.168688Z",
     "iopub.status.busy": "2022-10-14T04:26:22.168308Z",
     "iopub.status.idle": "2022-10-14T04:26:22.172569Z",
     "shell.execute_reply": "2022-10-14T04:26:22.172014Z",
     "shell.execute_reply.started": "2022-10-14T04:26:22.168663Z"
    }
   },
   "outputs": [
    {
     "data": {
      "text/plain": [
       "'csr'"
      ]
     },
     "execution_count": 54,
     "metadata": {},
     "output_type": "execute_result"
    }
   ],
   "source": [
    "both.getformat()"
   ]
  },
  {
   "cell_type": "code",
   "execution_count": null,
   "id": "1d397a94-3cec-4bdf-8b37-4e49480543bc",
   "metadata": {
    "execution": {
     "iopub.execute_input": "2022-10-14T04:26:36.639773Z",
     "iopub.status.busy": "2022-10-14T04:26:36.639379Z"
    },
    "tags": []
   },
   "outputs": [],
   "source": [
    "import scipy.sparse as sp\n",
    "\n",
    "def sp_unique(sp_matrix, axis=0):\n",
    "    ''' Returns a sparse matrix with the unique rows (axis=0)\n",
    "    or columns (axis=1) of an input sparse matrix sp_matrix'''\n",
    "    if axis == 1:\n",
    "        sp_matrix = sp_matrix.T\n",
    "\n",
    "    old_format = sp_matrix.getformat()\n",
    "    dt = np.dtype(sp_matrix)\n",
    "    ncols = sp_matrix.shape[1]\n",
    "\n",
    "    if old_format != 'lil':\n",
    "        sp_matrix = sp_matrix.tolil()\n",
    "\n",
    "    _, ind = np.unique(sp_matrix.data + sp_matrix.rows, return_index=True)\n",
    "    rows = sp_matrix.rows[ind]\n",
    "    data = sp_matrix.data[ind]\n",
    "    nrows_uniq = data.shape[0]\n",
    "\n",
    "    sp_matrix = sp.lil_matrix((nrows_uniq, ncols), dtype=dt)  #  or sp_matrix.resize(nrows_uniq, ncols)\n",
    "    sp_matrix.data = data\n",
    "    sp_matrix.rows = rows\n",
    "\n",
    "    ret = sp_matrix.asformat(old_format)\n",
    "    if axis == 1:\n",
    "        ret = ret.T        \n",
    "    return ret\n",
    "\n",
    "both = sp_unique(both)"
   ]
  },
  {
   "cell_type": "code",
   "execution_count": null,
   "id": "38ca768e-9d0d-4981-be5b-ce86f72cbbe8",
   "metadata": {},
   "outputs": [],
   "source": [
    "pca_train = TruncatedSVD(n_components=128, random_state=1)\n",
    "both = pca_train.fit_transform(both)\n",
    "\n",
    "%mkdir multi_pca\n",
    "%cd multi_pca\n",
    "\n",
    "np.savetxt(\"both_64.csv\", both, delimiter=\",\")"
   ]
  },
  {
   "cell_type": "code",
   "execution_count": 6,
   "id": "6de15c91-f477-40ab-8638-8d77d0cca274",
   "metadata": {
    "execution": {
     "iopub.execute_input": "2022-10-14T04:50:23.775787Z",
     "iopub.status.busy": "2022-10-14T04:50:23.775399Z",
     "iopub.status.idle": "2022-10-14T04:52:03.621506Z",
     "shell.execute_reply": "2022-10-14T04:52:03.620901Z",
     "shell.execute_reply.started": "2022-10-14T04:50:23.775763Z"
    }
   },
   "outputs": [
    {
     "data": {
      "text/plain": [
       "<105942x228942 sparse matrix of type '<class 'numpy.float32'>'\n",
       "\twith 607301546 stored elements in Compressed Sparse Row format>"
      ]
     },
     "execution_count": 6,
     "metadata": {},
     "output_type": "execute_result"
    }
   ],
   "source": [
    "def remove_duplicate_rows(data):\n",
    "    unique_row_indices, unique_columns = [], []\n",
    "    for row_idx, row in enumerate(data):\n",
    "        indices = row.indices.tolist()\n",
    "        if indices not in unique_columns:\n",
    "            unique_columns.append(indices)\n",
    "            unique_row_indices.append(row_idx)\n",
    "    return data[unique_row_indices]\n",
    "remove_duplicate_rows(train)"
   ]
  },
  {
   "cell_type": "code",
   "execution_count": 7,
   "id": "5f8e7456-1d0a-4467-9c81-e15d18be9bd4",
   "metadata": {
    "execution": {
     "iopub.execute_input": "2022-10-14T04:53:36.853937Z",
     "iopub.status.busy": "2022-10-14T04:53:36.853545Z",
     "iopub.status.idle": "2022-10-14T04:53:36.858076Z",
     "shell.execute_reply": "2022-10-14T04:53:36.857584Z",
     "shell.execute_reply.started": "2022-10-14T04:53:36.853913Z"
    }
   },
   "outputs": [
    {
     "data": {
      "text/plain": [
       "<105942x228942 sparse matrix of type '<class 'numpy.float32'>'\n",
       "\twith 607301546 stored elements in Compressed Sparse Row format>"
      ]
     },
     "execution_count": 7,
     "metadata": {},
     "output_type": "execute_result"
    }
   ],
   "source": [
    "train"
   ]
  },
  {
   "cell_type": "code",
   "execution_count": 5,
   "id": "2342aa4b-297b-4f6b-940d-4d6e3d1a04fd",
   "metadata": {
    "execution": {
     "iopub.execute_input": "2022-10-14T04:49:49.830333Z",
     "iopub.status.busy": "2022-10-14T04:49:49.829931Z",
     "iopub.status.idle": "2022-10-14T04:50:18.890965Z",
     "shell.execute_reply": "2022-10-14T04:50:18.890355Z",
     "shell.execute_reply.started": "2022-10-14T04:49:49.830303Z"
    }
   },
   "outputs": [],
   "source": [
    "train = scipy.sparse.load_npz(\"./sparse/train_multi_inputs_values.sparse.npz\")"
   ]
  },
  {
   "cell_type": "code",
   "execution_count": 8,
   "id": "821b5e04-1ce5-4992-8714-dc09ebb7beca",
   "metadata": {
    "execution": {
     "iopub.execute_input": "2022-10-14T04:54:13.441472Z",
     "iopub.status.busy": "2022-10-14T04:54:13.441073Z",
     "iopub.status.idle": "2022-10-14T04:55:51.626013Z",
     "shell.execute_reply": "2022-10-14T04:55:51.625471Z",
     "shell.execute_reply.started": "2022-10-14T04:54:13.441448Z"
    },
    "tags": []
   },
   "outputs": [
    {
     "data": {
      "text/plain": [
       "<105942x23418 sparse matrix of type '<class 'numpy.float32'>'\n",
       "\twith 407024875 stored elements in Compressed Sparse Row format>"
      ]
     },
     "execution_count": 8,
     "metadata": {},
     "output_type": "execute_result"
    }
   ],
   "source": [
    "train = scipy.sparse.load_npz(\"./sparse/train_multi_targets_values.sparse.npz\")\n",
    "def remove_duplicate_rows(data):\n",
    "    unique_row_indices, unique_columns = [], []\n",
    "    for row_idx, row in enumerate(data):\n",
    "        indices = row.indices.tolist()\n",
    "        if indices not in unique_columns:\n",
    "            unique_columns.append(indices)\n",
    "            unique_row_indices.append(row_idx)\n",
    "    return data[unique_row_indices]\n",
    "remove_duplicate_rows(train)"
   ]
  },
  {
   "cell_type": "code",
   "execution_count": 9,
   "id": "93643fea-8448-4e7b-a146-153f15dd8f49",
   "metadata": {
    "execution": {
     "iopub.execute_input": "2022-10-14T04:56:26.314793Z",
     "iopub.status.busy": "2022-10-14T04:56:26.314384Z",
     "iopub.status.idle": "2022-10-14T04:56:26.318747Z",
     "shell.execute_reply": "2022-10-14T04:56:26.318255Z",
     "shell.execute_reply.started": "2022-10-14T04:56:26.314753Z"
    }
   },
   "outputs": [
    {
     "data": {
      "text/plain": [
       "<105942x23418 sparse matrix of type '<class 'numpy.float32'>'\n",
       "\twith 407024875 stored elements in Compressed Sparse Row format>"
      ]
     },
     "execution_count": 9,
     "metadata": {},
     "output_type": "execute_result"
    }
   ],
   "source": [
    "train"
   ]
  },
  {
   "cell_type": "code",
   "execution_count": 10,
   "id": "0c026dcb-5516-42d5-ad68-69a4fca79689",
   "metadata": {
    "execution": {
     "iopub.execute_input": "2022-10-14T04:56:51.128883Z",
     "iopub.status.busy": "2022-10-14T04:56:51.128506Z",
     "iopub.status.idle": "2022-10-14T05:37:47.762565Z",
     "shell.execute_reply": "2022-10-14T05:37:47.761444Z",
     "shell.execute_reply.started": "2022-10-14T04:56:51.128859Z"
    },
    "tags": []
   },
   "outputs": [
    {
     "name": "stdout",
     "output_type": "stream",
     "text": [
      "/home/jovyan/kaggle/working\n",
      "/home/jovyan/kaggle/working/multi_pca\n"
     ]
    },
    {
     "ename": "FileNotFoundError",
     "evalue": "[Errno 2] No such file or directory: './sparse/train_multi_targets_values.sparse.npz'",
     "output_type": "error",
     "traceback": [
      "\u001b[0;31m---------------------------------------------------------------------------\u001b[0m",
      "\u001b[0;31mFileNotFoundError\u001b[0m                         Traceback (most recent call last)",
      "Input \u001b[0;32mIn [10]\u001b[0m, in \u001b[0;36m<cell line: 16>\u001b[0;34m()\u001b[0m\n\u001b[1;32m     12\u001b[0m get_ipython()\u001b[38;5;241m.\u001b[39mrun_line_magic(\u001b[38;5;124m'\u001b[39m\u001b[38;5;124mcd\u001b[39m\u001b[38;5;124m'\u001b[39m, \u001b[38;5;124m'\u001b[39m\u001b[38;5;124mmulti_pca\u001b[39m\u001b[38;5;124m'\u001b[39m)\n\u001b[1;32m     14\u001b[0m np\u001b[38;5;241m.\u001b[39msavetxt(\u001b[38;5;124m\"\u001b[39m\u001b[38;5;124minputs_both_128.csv\u001b[39m\u001b[38;5;124m\"\u001b[39m, both, delimiter\u001b[38;5;241m=\u001b[39m\u001b[38;5;124m\"\u001b[39m\u001b[38;5;124m,\u001b[39m\u001b[38;5;124m\"\u001b[39m)\n\u001b[0;32m---> 16\u001b[0m train \u001b[38;5;241m=\u001b[39m \u001b[43mscipy\u001b[49m\u001b[38;5;241;43m.\u001b[39;49m\u001b[43msparse\u001b[49m\u001b[38;5;241;43m.\u001b[39;49m\u001b[43mload_npz\u001b[49m\u001b[43m(\u001b[49m\u001b[38;5;124;43m\"\u001b[39;49m\u001b[38;5;124;43m./sparse/train_multi_targets_values.sparse.npz\u001b[39;49m\u001b[38;5;124;43m\"\u001b[39;49m\u001b[43m)\u001b[49m\n\u001b[1;32m     17\u001b[0m test \u001b[38;5;241m=\u001b[39m scipy\u001b[38;5;241m.\u001b[39msparse\u001b[38;5;241m.\u001b[39mload_npz(\u001b[38;5;124m\"\u001b[39m\u001b[38;5;124m./sparse/test_multi_targets_values.sparse.npz\u001b[39m\u001b[38;5;124m\"\u001b[39m)\n\u001b[1;32m     18\u001b[0m targets_both \u001b[38;5;241m=\u001b[39m scipy\u001b[38;5;241m.\u001b[39msparse\u001b[38;5;241m.\u001b[39mvstack([train, test])\n",
      "File \u001b[0;32m/srv/conda/envs/saturn/lib/python3.9/site-packages/scipy/sparse/_matrix_io.py:123\u001b[0m, in \u001b[0;36mload_npz\u001b[0;34m(file)\u001b[0m\n\u001b[1;32m     75\u001b[0m \u001b[38;5;28;01mdef\u001b[39;00m \u001b[38;5;21mload_npz\u001b[39m(file):\n\u001b[1;32m     76\u001b[0m     \u001b[38;5;124;03m\"\"\" Load a sparse matrix from a file using ``.npz`` format.\u001b[39;00m\n\u001b[1;32m     77\u001b[0m \n\u001b[1;32m     78\u001b[0m \u001b[38;5;124;03m    Parameters\u001b[39;00m\n\u001b[0;32m   (...)\u001b[0m\n\u001b[1;32m    120\u001b[0m \u001b[38;5;124;03m           [4, 0, 0]], dtype=int64)\u001b[39;00m\n\u001b[1;32m    121\u001b[0m \u001b[38;5;124;03m    \"\"\"\u001b[39;00m\n\u001b[0;32m--> 123\u001b[0m     \u001b[38;5;28;01mwith\u001b[39;00m \u001b[43mnp\u001b[49m\u001b[38;5;241;43m.\u001b[39;49m\u001b[43mload\u001b[49m\u001b[43m(\u001b[49m\u001b[43mfile\u001b[49m\u001b[43m,\u001b[49m\u001b[43m \u001b[49m\u001b[38;5;241;43m*\u001b[39;49m\u001b[38;5;241;43m*\u001b[39;49m\u001b[43mPICKLE_KWARGS\u001b[49m\u001b[43m)\u001b[49m \u001b[38;5;28;01mas\u001b[39;00m loaded:\n\u001b[1;32m    124\u001b[0m         \u001b[38;5;28;01mtry\u001b[39;00m:\n\u001b[1;32m    125\u001b[0m             matrix_format \u001b[38;5;241m=\u001b[39m loaded[\u001b[38;5;124m'\u001b[39m\u001b[38;5;124mformat\u001b[39m\u001b[38;5;124m'\u001b[39m]\n",
      "File \u001b[0;32m/srv/conda/envs/saturn/lib/python3.9/site-packages/numpy/lib/npyio.py:417\u001b[0m, in \u001b[0;36mload\u001b[0;34m(file, mmap_mode, allow_pickle, fix_imports, encoding)\u001b[0m\n\u001b[1;32m    415\u001b[0m     own_fid \u001b[38;5;241m=\u001b[39m \u001b[38;5;28;01mFalse\u001b[39;00m\n\u001b[1;32m    416\u001b[0m \u001b[38;5;28;01melse\u001b[39;00m:\n\u001b[0;32m--> 417\u001b[0m     fid \u001b[38;5;241m=\u001b[39m stack\u001b[38;5;241m.\u001b[39menter_context(\u001b[38;5;28;43mopen\u001b[39;49m\u001b[43m(\u001b[49m\u001b[43mos_fspath\u001b[49m\u001b[43m(\u001b[49m\u001b[43mfile\u001b[49m\u001b[43m)\u001b[49m\u001b[43m,\u001b[49m\u001b[43m \u001b[49m\u001b[38;5;124;43m\"\u001b[39;49m\u001b[38;5;124;43mrb\u001b[39;49m\u001b[38;5;124;43m\"\u001b[39;49m\u001b[43m)\u001b[49m)\n\u001b[1;32m    418\u001b[0m     own_fid \u001b[38;5;241m=\u001b[39m \u001b[38;5;28;01mTrue\u001b[39;00m\n\u001b[1;32m    420\u001b[0m \u001b[38;5;66;03m# Code to distinguish from NumPy binary files and pickles.\u001b[39;00m\n",
      "\u001b[0;31mFileNotFoundError\u001b[0m: [Errno 2] No such file or directory: './sparse/train_multi_targets_values.sparse.npz'"
     ]
    }
   ],
   "source": [
    "%cd /home/jovyan/kaggle/working\n",
    "import scprep\n",
    "\n",
    "train = scipy.sparse.load_npz(\"./sparse/train_multi_inputs_values.sparse.npz\")\n",
    "test = scipy.sparse.load_npz(\"./sparse/test_multi_inputs_values.sparse.npz\")\n",
    "both = scipy.sparse.vstack([train, test])\n",
    "both = scprep.filter.remove_empty_genes(both)\n",
    "pca_train = TruncatedSVD(n_components=128, random_state=1)\n",
    "both = pca_train.fit_transform(both)\n",
    "\n",
    "%mkdir multi_pca\n",
    "%cd multi_pca\n",
    "\n",
    "np.savetxt(\"inputs_both_128.csv\", both, delimiter=\",\")"
   ]
  },
  {
   "cell_type": "code",
   "execution_count": 13,
   "id": "6b1a57c6-182c-49a6-a3e3-b5155162f224",
   "metadata": {
    "execution": {
     "iopub.execute_input": "2022-10-14T05:59:11.343779Z",
     "iopub.status.busy": "2022-10-14T05:59:11.343386Z",
     "iopub.status.idle": "2022-10-14T05:59:12.310132Z",
     "shell.execute_reply": "2022-10-14T05:59:12.309396Z",
     "shell.execute_reply.started": "2022-10-14T05:59:11.343755Z"
    },
    "tags": []
   },
   "outputs": [
    {
     "name": "stdout",
     "output_type": "stream",
     "text": [
      "drop_ids.csv                         train_cite_inputs_idxcol.npz\n",
      "evaluation.parquet                   train_cite_inputs_values.sparse.npz\n",
      "metadata.parquet                     train_cite_targets_idxcol.npz\n",
      "sample_submission.parquet            train_cite_targets_values.sparse.npz\n",
      "test_cite_inputs_idxcol.npz          train_multi_inputs_idxcol.npz\n",
      "test_cite_inputs_values.sparse.npz   train_multi_inputs_values.sparse.npz\n",
      "test_multi_inputs_idxcol.npz         train_multi_targets_idxcol.npz\n",
      "test_multi_inputs_values.sparse.npz  train_multi_targets_values.sparse.npz\n"
     ]
    }
   ],
   "source": [
    "%ls ./sparse/"
   ]
  },
  {
   "cell_type": "code",
   "execution_count": 15,
   "id": "d4402a33-061a-496b-9f31-86ee383557fb",
   "metadata": {
    "execution": {
     "iopub.execute_input": "2022-10-14T06:00:48.751179Z",
     "iopub.status.busy": "2022-10-14T06:00:48.750799Z",
     "iopub.status.idle": "2022-10-14T06:10:59.907097Z",
     "shell.execute_reply": "2022-10-14T06:10:59.906429Z",
     "shell.execute_reply.started": "2022-10-14T06:00:48.751158Z"
    },
    "tags": []
   },
   "outputs": [
    {
     "name": "stdout",
     "output_type": "stream",
     "text": [
      "/home/jovyan/kaggle/working\n",
      "/home/jovyan/kaggle/working/multi_pca\n"
     ]
    }
   ],
   "source": [
    "%cd /home/jovyan/kaggle/working\n",
    "\n",
    "targets = scipy.sparse.load_npz(\"./sparse/train_multi_targets_values.sparse.npz\")\n",
    "targets = scprep.filter.remove_empty_genes(targets)\n",
    "pca_train = TruncatedSVD(n_components=128, random_state=1)\n",
    "targets = pca_train.fit_transform(targets)\n",
    "\n",
    "%cd multi_pca\n",
    "\n",
    "np.savetxt(\"targets_128.csv\", targets, delimiter=\",\")"
   ]
  },
  {
   "cell_type": "code",
   "execution_count": 2,
   "id": "1c902758-1317-4bc2-9912-8265193be1ac",
   "metadata": {
    "execution": {
     "iopub.execute_input": "2022-10-14T16:05:49.167356Z",
     "iopub.status.busy": "2022-10-14T16:05:49.166945Z",
     "iopub.status.idle": "2022-10-14T16:05:49.958034Z",
     "shell.execute_reply": "2022-10-14T16:05:49.957337Z",
     "shell.execute_reply.started": "2022-10-14T16:05:49.167326Z"
    },
    "tags": []
   },
   "outputs": [
    {
     "name": "stdout",
     "output_type": "stream",
     "text": [
      "/home/jovyan/kaggle/working\n",
      "/home/jovyan/kaggle/working/multi_pca\n",
      "inputs_both_128.csv  targets_128.csv\n"
     ]
    }
   ],
   "source": [
    "%cd /home/jovyan/kaggle/working\n",
    "%cd multi_pca\n",
    "%ls"
   ]
  }
 ],
 "metadata": {
  "kernelspec": {
   "display_name": "saturn (Python 3)",
   "language": "python",
   "name": "python3"
  },
  "language_info": {
   "codemirror_mode": {
    "name": "ipython",
    "version": 3
   },
   "file_extension": ".py",
   "mimetype": "text/x-python",
   "name": "python",
   "nbconvert_exporter": "python",
   "pygments_lexer": "ipython3",
   "version": "3.9.13"
  }
 },
 "nbformat": 4,
 "nbformat_minor": 5
}
