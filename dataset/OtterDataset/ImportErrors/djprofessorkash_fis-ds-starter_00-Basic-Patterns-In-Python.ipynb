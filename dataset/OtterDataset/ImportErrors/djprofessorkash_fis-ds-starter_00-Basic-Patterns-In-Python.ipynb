{
 "cells": [
  {
   "cell_type": "markdown",
   "id": "71dec4b9-7198-49f0-b519-1bee66bf3e71",
   "metadata": {},
   "source": [
    "---\n",
    "---\n",
    "---"
   ]
  },
  {
   "cell_type": "markdown",
   "id": "30074a3d-55a5-472c-a03a-f6afc33a3c03",
   "metadata": {},
   "source": [
    "# Basic Patterns in Python"
   ]
  },
  {
   "cell_type": "markdown",
   "id": "64fa8292-7493-443b-9f69-0c3d95f4c1c4",
   "metadata": {},
   "source": [
    "---\n",
    "---"
   ]
  },
  {
   "cell_type": "markdown",
   "id": "98cd675b-0619-4dc1-a261-2efdf8a50297",
   "metadata": {},
   "source": [
    "## Data Structures and Algorithms"
   ]
  },
  {
   "cell_type": "markdown",
   "id": "c2441609-ea1d-41da-84ce-65d90599607d",
   "metadata": {},
   "source": [
    "|Term                           | Definition\n",
    "|-------------------------------|-----------------------------|\n",
    "|**List**                       | A mutable and dynamic array-like data structure which holds an ordered collection of items. |\n",
    "|**Dictionary**                 | A mutable data structure which holds unique collections of keys; each key is associated with a value or collection of values. |\n",
    "|**Set**                        | A mutable and dynamic data structure which holds an unordered collection of immutable and unique items. |\n",
    "|**Tuple**                      | An immutable array-like data structure which holds an ordered collection of items. |"
   ]
  },
  {
   "cell_type": "markdown",
   "id": "dfb2b2b1-4ab1-45a4-a9f8-c36a612ed35b",
   "metadata": {},
   "source": [
    "### Lists"
   ]
  },
  {
   "cell_type": "code",
   "execution_count": null,
   "id": "8b618944-ae5e-4ee1-8d12-8cc94b6ea2c7",
   "metadata": {},
   "outputs": [],
   "source": [
    "my_list = []"
   ]
  },
  {
   "cell_type": "code",
   "execution_count": null,
   "id": "e79ba9b5-0787-415c-bdfd-8777b39fb69f",
   "metadata": {},
   "outputs": [],
   "source": [
    "my_list = list()"
   ]
  },
  {
   "cell_type": "code",
   "execution_count": null,
   "id": "9b918bcd-b59b-47d0-9264-bca37d6443c4",
   "metadata": {},
   "outputs": [],
   "source": [
    "my_list.append(1)"
   ]
  },
  {
   "cell_type": "code",
   "execution_count": null,
   "id": "069e901c-c1fb-48dd-8d6b-17b99afd02cd",
   "metadata": {},
   "outputs": [],
   "source": [
    "my_list.append([2, 3, 4])"
   ]
  },
  {
   "cell_type": "code",
   "execution_count": null,
   "id": "0b1e0746-df6d-4d9c-98b4-7ec7b266f908",
   "metadata": {},
   "outputs": [],
   "source": [
    "my_list.pop(1)"
   ]
  },
  {
   "cell_type": "code",
   "execution_count": null,
   "id": "b52ee3c5-c5e8-4d52-991a-3266b773d67c",
   "metadata": {},
   "outputs": [],
   "source": [
    "my_list.extend([2, 3, 4])"
   ]
  },
  {
   "cell_type": "code",
   "execution_count": null,
   "id": "a07edd2d-fb05-41d2-8323-f1f54fb3eee0",
   "metadata": {},
   "outputs": [],
   "source": [
    "another_list = [4, 5, 6, 7]\n",
    "\n",
    "for number in another_list:\n",
    "    my_list.append(number)"
   ]
  },
  {
   "cell_type": "code",
   "execution_count": null,
   "id": "50e24359-5923-4e74-8f75-3aeea0dc47fb",
   "metadata": {},
   "outputs": [],
   "source": [
    "my_list.remove(4)"
   ]
  },
  {
   "cell_type": "code",
   "execution_count": null,
   "id": "8aca6eb3-2cb3-4b41-9540-f021dde918b8",
   "metadata": {},
   "outputs": [],
   "source": [
    "one_more_list = [0, -1, -2, -3]\n",
    "\n",
    "for number in one_more_list:\n",
    "    my_list.insert(0, number)"
   ]
  },
  {
   "cell_type": "code",
   "execution_count": null,
   "id": "343e2f43-98d8-4c97-b1b4-d630c6aea4b4",
   "metadata": {},
   "outputs": [],
   "source": [
    "my_list.index(0)"
   ]
  },
  {
   "cell_type": "code",
   "execution_count": null,
   "id": "091a7864-d064-4b37-bed1-3ae69933287d",
   "metadata": {},
   "outputs": [],
   "source": [
    "my_list"
   ]
  },
  {
   "cell_type": "markdown",
   "id": "1a424635-bc84-4871-8207-1722a819b999",
   "metadata": {},
   "source": [
    "### Dictionaries"
   ]
  },
  {
   "cell_type": "code",
   "execution_count": null,
   "id": "afa61b3d-c130-4aaf-a5b4-5fb48eef32ef",
   "metadata": {},
   "outputs": [],
   "source": [
    "my_dict = {}"
   ]
  },
  {
   "cell_type": "code",
   "execution_count": null,
   "id": "2fe013b1-e5f7-449e-8302-8ebf09fc48e9",
   "metadata": {},
   "outputs": [],
   "source": [
    "my_dict = dict()"
   ]
  },
  {
   "cell_type": "code",
   "execution_count": null,
   "id": "c31deaf6-0ae1-419b-a7f3-d55b5f04332a",
   "metadata": {},
   "outputs": [],
   "source": [
    "my_dict[\"Name\"] = \"Kash\""
   ]
  },
  {
   "cell_type": "code",
   "execution_count": null,
   "id": "15f877cb-9561-4aa0-ab23-86943ef71e30",
   "metadata": {},
   "outputs": [],
   "source": [
    "my_dict.get(\"Name\")"
   ]
  },
  {
   "cell_type": "code",
   "execution_count": null,
   "id": "08c20eab-6253-49c4-ad05-e2a5d0516076",
   "metadata": {},
   "outputs": [],
   "source": [
    "my_dict[\"Name\"]"
   ]
  },
  {
   "cell_type": "code",
   "execution_count": null,
   "id": "7e466da2-a0d0-4783-90fe-6a351d2566ce",
   "metadata": {},
   "outputs": [],
   "source": [
    "new_dict = dict.fromkeys([\"Age\", \"Job\", \"Favorite Language\"])"
   ]
  },
  {
   "cell_type": "code",
   "execution_count": null,
   "id": "86c5c1ea-1904-4d43-9421-f32293ce8d4e",
   "metadata": {},
   "outputs": [],
   "source": [
    "new_dict"
   ]
  },
  {
   "cell_type": "code",
   "execution_count": null,
   "id": "7fd97680-d244-402c-ae40-af465ee0ecb2",
   "metadata": {},
   "outputs": [],
   "source": [
    "my_dict.update(new_dict)"
   ]
  },
  {
   "cell_type": "code",
   "execution_count": null,
   "id": "420d9aad-e5af-497b-95f1-29bd31c0c6ef",
   "metadata": {},
   "outputs": [],
   "source": [
    "my_dict[\"Age\"] = 27\n",
    "my_dict[\"Job\"] = \"DS Instructor\"\n",
    "my_dict[\"Favorite Language\"] = \"Python\""
   ]
  },
  {
   "cell_type": "code",
   "execution_count": null,
   "id": "bdeafab4-44e0-4e03-81f4-9d4bcf3f6914",
   "metadata": {},
   "outputs": [],
   "source": [
    "my_dict.keys()"
   ]
  },
  {
   "cell_type": "code",
   "execution_count": null,
   "id": "d572635d-8387-45de-ab18-ae5d63b4d67f",
   "metadata": {},
   "outputs": [],
   "source": [
    "my_dict.values()"
   ]
  },
  {
   "cell_type": "code",
   "execution_count": null,
   "id": "49d863e9-372f-4d04-ad0e-2964ee5bc0cb",
   "metadata": {},
   "outputs": [],
   "source": [
    "my_dict.items()"
   ]
  },
  {
   "cell_type": "code",
   "execution_count": null,
   "id": "ebb71d42-97ef-4b1c-8102-730d19c161f6",
   "metadata": {},
   "outputs": [],
   "source": [
    "my_dict.pop(\"Favorite Language\")"
   ]
  },
  {
   "cell_type": "code",
   "execution_count": null,
   "id": "6b92a8a4-5451-46de-8b2a-57533d7165da",
   "metadata": {},
   "outputs": [],
   "source": [
    "my_dict.popitem()"
   ]
  },
  {
   "cell_type": "code",
   "execution_count": null,
   "id": "c7705a18-6225-4f4e-89b6-a5f73b2e6227",
   "metadata": {},
   "outputs": [],
   "source": [
    "del my_dict[\"Age\"]"
   ]
  },
  {
   "cell_type": "code",
   "execution_count": null,
   "id": "92a1ab1f-9402-4e71-8d3d-73f441038e04",
   "metadata": {},
   "outputs": [],
   "source": [
    "my_dict.clear()"
   ]
  },
  {
   "cell_type": "code",
   "execution_count": null,
   "id": "fcd78bd9-410e-408f-aa23-13f0470bcf48",
   "metadata": {},
   "outputs": [],
   "source": [
    "my_dict"
   ]
  },
  {
   "cell_type": "markdown",
   "id": "3c8bf327-8073-44e7-888c-1e6823ba8ebc",
   "metadata": {},
   "source": [
    "### Sets"
   ]
  },
  {
   "cell_type": "code",
   "execution_count": null,
   "id": "f9041a30-950a-4b98-bc91-0e0995509bb2",
   "metadata": {},
   "outputs": [],
   "source": [
    "my_set = {}"
   ]
  },
  {
   "cell_type": "code",
   "execution_count": null,
   "id": "e33a35d6-c72b-4eab-aaf4-5bc8c612095e",
   "metadata": {},
   "outputs": [],
   "source": [
    "my_set = set([\"hi\", \"there\", \"its\", \"kash\", \"kash\"])"
   ]
  },
  {
   "cell_type": "code",
   "execution_count": null,
   "id": "e97e773e-e36c-486f-bb8c-f7f82ae9cf6f",
   "metadata": {},
   "outputs": [],
   "source": [
    "my_set = {1, 2, 3, 4}"
   ]
  },
  {
   "cell_type": "code",
   "execution_count": null,
   "id": "6005b600-2312-4cd9-a2b1-e6552eb2563d",
   "metadata": {},
   "outputs": [],
   "source": [
    "my_set = {0, 1, 2, 3, 4, 4}"
   ]
  },
  {
   "cell_type": "code",
   "execution_count": null,
   "id": "bf0a5715-ffef-43e9-bf00-7c0aff6e5d72",
   "metadata": {},
   "outputs": [],
   "source": [
    "my_set.add(5)"
   ]
  },
  {
   "cell_type": "code",
   "execution_count": null,
   "id": "96d5dd54-8870-4d76-8933-84798effbc7a",
   "metadata": {},
   "outputs": [],
   "source": [
    "my_set.remove(0)"
   ]
  },
  {
   "cell_type": "code",
   "execution_count": null,
   "id": "dd09e30f-b8cd-43b0-bfdb-e3d41392d667",
   "metadata": {},
   "outputs": [],
   "source": [
    "my_set.pop()"
   ]
  },
  {
   "cell_type": "code",
   "execution_count": null,
   "id": "6a46d64b-1836-4705-9c7f-0dcb4785021c",
   "metadata": {},
   "outputs": [],
   "source": [
    "my_other_set = {4, 5, 6, 7, 8}"
   ]
  },
  {
   "cell_type": "code",
   "execution_count": null,
   "id": "8bc73b3f-404e-413a-b39f-b255c9cc66d1",
   "metadata": {},
   "outputs": [],
   "source": [
    "my_set.union(my_other_set)"
   ]
  },
  {
   "cell_type": "code",
   "execution_count": null,
   "id": "975dbe59-b069-4188-b9a9-05df51a3d226",
   "metadata": {},
   "outputs": [],
   "source": [
    "my_set.intersection(my_other_set)"
   ]
  },
  {
   "cell_type": "code",
   "execution_count": null,
   "id": "68cc6acd-9ccb-4e12-b360-d768828c5e04",
   "metadata": {},
   "outputs": [],
   "source": [
    "my_set.symmetric_difference(my_other_set)"
   ]
  },
  {
   "cell_type": "code",
   "execution_count": null,
   "id": "ef3bb5f9-e146-4d84-b5c4-0a000ee31902",
   "metadata": {},
   "outputs": [],
   "source": [
    "my_set.clear()"
   ]
  },
  {
   "cell_type": "code",
   "execution_count": null,
   "id": "572a0ca8-7562-4045-9acb-06ed1566ba71",
   "metadata": {},
   "outputs": [],
   "source": [
    "my_set"
   ]
  },
  {
   "cell_type": "code",
   "execution_count": null,
   "id": "f257a33f-9977-44e2-b8de-033297c484c1",
   "metadata": {},
   "outputs": [],
   "source": [
    "type(my_set)"
   ]
  },
  {
   "cell_type": "markdown",
   "id": "661e03e5-f00c-4ae8-b7c4-43848353f5a1",
   "metadata": {},
   "source": [
    "### Tuples"
   ]
  },
  {
   "cell_type": "code",
   "execution_count": null,
   "id": "4c95bf4b-daf8-4cd4-925c-54605d2fd1ba",
   "metadata": {},
   "outputs": [],
   "source": [
    "my_tuple = ()"
   ]
  },
  {
   "cell_type": "code",
   "execution_count": null,
   "id": "ee81fe85-4ce9-45c3-924c-82a755efe41d",
   "metadata": {},
   "outputs": [],
   "source": [
    "my_tuple = tuple()"
   ]
  },
  {
   "cell_type": "code",
   "execution_count": null,
   "id": "4515fdf0-d0b5-4206-a289-91b8bb7a9983",
   "metadata": {},
   "outputs": [],
   "source": [
    "my_tuple = (8, 6)"
   ]
  },
  {
   "cell_type": "code",
   "execution_count": null,
   "id": "d90572d3-451c-412f-85b4-d5e39a938e2e",
   "metadata": {},
   "outputs": [],
   "source": [
    "my_tuple"
   ]
  },
  {
   "cell_type": "markdown",
   "id": "567f34f8-1fde-4622-85d4-9beb27a4b838",
   "metadata": {},
   "source": [
    "## Built-In Methods and Native Techniques"
   ]
  },
  {
   "cell_type": "markdown",
   "id": "72b5b684-b8f3-4fc4-8866-9bd5d0cd90f7",
   "metadata": {},
   "source": [
    "|Term                           | Definition\n",
    "|-------------------------------|-----------------------------|\n",
    "|**`range()`**                  | A built-in function that returns an iterable sequence of numbers with a definable minimum value, maximum value, and incremental/decremental value. |\n",
    "|**`pass`**                     | A reserved keyword used when a statement/condition is required to be present in the program, but we don’t want any command or code to execute. It’s typically used as a placeholder for future code. |\n",
    "|**`break`**                    | A reserved keyword that alters the flow of a loop by terminating it once a specified condition is met. |\n",
    "|**`continue`**                 | A reserved keyword that skips remaining code inside a loop for the current iteration only. |\n",
    "|**Comprehension Expression**   | A built-in construct in Python that allows sequences to be generated, filtered, or modified from other sequences. |\n",
    "|**List Comprehension**         | A type of comprehension expression used to create a list concisely and efficiently. |\n",
    "|**Dictionary Comprehension**   | A type of comprehension expression used to create a dictionary concisely and efficiently. |\n",
    "|**Set Comprehension**          | A type of comprehension expression used to create a set concisely and efficiently. |"
   ]
  },
  {
   "cell_type": "markdown",
   "id": "45f9ef35-00b7-4071-85a7-213ff5085a02",
   "metadata": {},
   "source": [
    "### Control Flow"
   ]
  },
  {
   "cell_type": "markdown",
   "id": "b13b6b42-9af0-44da-9353-42103d6200ca",
   "metadata": {},
   "source": [
    "**Iterating using the `range` object.**"
   ]
  },
  {
   "cell_type": "markdown",
   "id": "1d3b6793-f0fa-4015-8692-9e8f5fdedcaf",
   "metadata": {},
   "source": [
    "Using `range()` for standard iteration."
   ]
  },
  {
   "cell_type": "code",
   "execution_count": null,
   "id": "b65d2b04-311b-4af4-aea1-10ee49c12266",
   "metadata": {},
   "outputs": [],
   "source": [
    "for number in range(10):\n",
    "    print(number, end=\" \")"
   ]
  },
  {
   "cell_type": "markdown",
   "id": "b385a791-81d1-4c0f-ab7d-19a956a22ac0",
   "metadata": {},
   "source": [
    "Using `range()` for non-standard iteration."
   ]
  },
  {
   "cell_type": "code",
   "execution_count": null,
   "id": "731271b0-4fce-4236-8fd2-38309beb3a0d",
   "metadata": {},
   "outputs": [],
   "source": [
    "for number in range(2, 21, 2):\n",
    "    print(number, end=\" \")"
   ]
  },
  {
   "cell_type": "markdown",
   "id": "22da407f-e659-4cdc-b742-d1d8e27afbdd",
   "metadata": {},
   "source": [
    "Using `range()` for decrementation."
   ]
  },
  {
   "cell_type": "code",
   "execution_count": null,
   "id": "03145737-8925-4781-9f3a-b9d5800cdd53",
   "metadata": {},
   "outputs": [],
   "source": [
    "for number in range(10, 0, -1):\n",
    "    print(number, end=\" \")"
   ]
  },
  {
   "cell_type": "markdown",
   "id": "b99b905a-1b4e-4095-b954-fb647018ac75",
   "metadata": {},
   "source": [
    "**Manipulating loop execution with the `pass`, `break`, and `continue` keywords.**"
   ]
  },
  {
   "cell_type": "markdown",
   "id": "19f7978b-dcba-46d3-9838-dfb41d1cd4a0",
   "metadata": {},
   "source": [
    "The `pass` keyword."
   ]
  },
  {
   "cell_type": "code",
   "execution_count": null,
   "id": "577f4f5d-4e91-4e8b-90fb-74a3d0e96f70",
   "metadata": {},
   "outputs": [],
   "source": [
    "for token in [\"this\", \"phrase\", \"is\", \"more\", \"than\", 1, \"word\", \"long\"]:\n",
    "    if type(token) == str:\n",
    "        print(token)\n",
    "    else:\n",
    "        pass"
   ]
  },
  {
   "cell_type": "code",
   "execution_count": null,
   "id": "127cd765-9008-4eaa-b5ee-db34f4628758",
   "metadata": {},
   "outputs": [],
   "source": [
    "def display_phrase_with_numerical_token(tokens):\n",
    "    cleaned_phrase = \"\"\n",
    "    \n",
    "    for token in tokens:\n",
    "        if type(token) == str:\n",
    "            cleaned_phrase += f\"{token} \"\n",
    "        elif type(token) == int:\n",
    "            cleaned_phrase += f\"{str(token)} \"\n",
    "            \n",
    "    return cleaned_phrase.strip()"
   ]
  },
  {
   "cell_type": "code",
   "execution_count": null,
   "id": "bcc3df70-09b2-4938-81a2-d3bb878188a3",
   "metadata": {},
   "outputs": [],
   "source": [
    "display_phrase_with_numerical_token(tokens=[\"this\", \"phrase\", \"is\", \"more\", \"than\", 1, \"word\", \"long\"])"
   ]
  },
  {
   "cell_type": "markdown",
   "id": "6927eee3-d853-49fc-9799-d47cc1db2191",
   "metadata": {},
   "source": [
    "The `break` keyword."
   ]
  },
  {
   "cell_type": "code",
   "execution_count": null,
   "id": "51f161c9-cac9-4a04-ab9d-c8838a84b042",
   "metadata": {},
   "outputs": [],
   "source": [
    "grid_of_digits = [[1, 2, 3, 4, 5, 6],\n",
    "                  [7, 8, 9, 10, 11, 12],\n",
    "                  [13, 14, 15, 16, 17, 18],\n",
    "                  [19, 20, 21, 22, 23, 24],\n",
    "                  [25, 26, 27, 28, 29, 30],\n",
    "                  [31, 32, 33, 34, 35, 36],\n",
    "                  [37, 38, 39, 40, 41, 42]]"
   ]
  },
  {
   "cell_type": "code",
   "execution_count": null,
   "id": "2fd3041c-ee0a-4adf-8f43-6b5527873c8e",
   "metadata": {},
   "outputs": [],
   "source": [
    "def sum_first_four_of_all_rows(grid):\n",
    "    all_sums = []\n",
    "    \n",
    "    for outer_position, digits in enumerate(grid):\n",
    "        if outer_position == 5:\n",
    "            break\n",
    "        # print(f\"\\nOuter Loop Iteration #{outer_position + 1}: Summing First Four of {digits}.\")\n",
    "        \n",
    "        sum_of_digits = 0\n",
    "        for inner_position, digit in enumerate(digits):\n",
    "            if inner_position == 4:\n",
    "                break\n",
    "            # print(f\" >> Inner Loop Iteration #{inner_position + 1}: Adding {digit} to Inner Sum ({sum_of_digits} + {digit}).\")\n",
    "            \n",
    "            sum_of_digits += digit\n",
    "            \n",
    "        all_sums.append(sum_of_digits)\n",
    "        \n",
    "    return all_sums"
   ]
  },
  {
   "cell_type": "code",
   "execution_count": null,
   "id": "03539623-b8e7-43e5-9203-5d000f831add",
   "metadata": {},
   "outputs": [],
   "source": [
    "sum_first_four_of_all_rows(grid_of_digits)"
   ]
  },
  {
   "cell_type": "markdown",
   "id": "9025b4e0-aa3b-487c-9b7a-7b863c22355a",
   "metadata": {},
   "source": [
    "The `continue` keyword."
   ]
  },
  {
   "cell_type": "code",
   "execution_count": null,
   "id": "0bc8c5ba-8dfd-42b0-99cd-d00ce90da042",
   "metadata": {},
   "outputs": [],
   "source": [
    "number_series = list(range(20, 51))\n",
    "\n",
    "def display_numbers_missing_digit(numbers, digit):\n",
    "    numbers_with_no_digit = []\n",
    "    \n",
    "    for number in numbers:\n",
    "        if str(digit) in str(number):\n",
    "            continue\n",
    "            \n",
    "        numbers_with_no_digit.append(number)\n",
    "        \n",
    "    return numbers_with_no_digit"
   ]
  },
  {
   "cell_type": "code",
   "execution_count": null,
   "id": "52784f48-b3b9-4d48-a9d5-006d80a345cc",
   "metadata": {},
   "outputs": [],
   "source": [
    "display_numbers_missing_digit(numbers=number_series, digit=3)"
   ]
  },
  {
   "cell_type": "markdown",
   "id": "bad368c4-585f-4434-ae48-a3eea752a159",
   "metadata": {},
   "source": [
    "**Loops with an `else` block.**"
   ]
  },
  {
   "cell_type": "markdown",
   "id": "7eaeecbf-fbe9-467f-a5b1-0d91cc802a79",
   "metadata": {},
   "source": [
    "Leveraging a loop-`else` script to detect prime numbers via the _Sieve of Eratosthenes_ algorithm."
   ]
  },
  {
   "cell_type": "code",
   "execution_count": null,
   "id": "6303ff37-c98f-4dff-8e5b-250181a760df",
   "metadata": {},
   "outputs": [],
   "source": [
    "prime_numbers, max_limit = [], 30\n",
    "\n",
    "for number in range(2, max_limit):\n",
    "    for factor in prime_numbers:\n",
    "        if number % factor == 0:\n",
    "            break\n",
    "    else:\n",
    "        prime_numbers.append(number)"
   ]
  },
  {
   "cell_type": "code",
   "execution_count": null,
   "id": "51c13b63-3305-48ec-9e2d-960b664469f3",
   "metadata": {},
   "outputs": [],
   "source": [
    "prime_numbers"
   ]
  },
  {
   "cell_type": "markdown",
   "id": "92f56389-347e-43f7-a6b8-d0c0a8fc0832",
   "metadata": {},
   "source": [
    "### Comprehension Expressions"
   ]
  },
  {
   "cell_type": "markdown",
   "id": "760c5c0b-e606-4793-93fc-b10710d727ed",
   "metadata": {},
   "source": [
    "![Various Comprehension Expressions](https://miro.medium.com/v2/resize:fit:1104/format:webp/1*HvPCNNaUJgG0KVm_8Sg4LQ.png)"
   ]
  },
  {
   "cell_type": "markdown",
   "id": "11cd7f7d-f71e-4089-bc8b-25304f48c4f1",
   "metadata": {},
   "source": [
    "**List comprehensions.**"
   ]
  },
  {
   "cell_type": "markdown",
   "id": "de9a5d07-d948-4142-a716-48a18df3985a",
   "metadata": {},
   "source": [
    "Using a classic `for` loop."
   ]
  },
  {
   "cell_type": "code",
   "execution_count": null,
   "id": "179edcbf-c304-4bfe-adbb-dc9c5fd3c95c",
   "metadata": {},
   "outputs": [],
   "source": [
    "numbers = [-2, -1, 0, 1, 2, 3, 4, 5]\n",
    "\n",
    "positive_squares = []\n",
    "for number in numbers:\n",
    "    if number > 0:\n",
    "        positive_squares.append(number ** 2)"
   ]
  },
  {
   "cell_type": "code",
   "execution_count": null,
   "id": "ddd68b27-28aa-4aa1-bcfb-885347b23a77",
   "metadata": {},
   "outputs": [],
   "source": [
    "positive_squares"
   ]
  },
  {
   "cell_type": "markdown",
   "id": "cbe35cf0-2d88-4304-a5cb-8c95ce5d171e",
   "metadata": {},
   "source": [
    "Using a list comprehension."
   ]
  },
  {
   "cell_type": "code",
   "execution_count": null,
   "id": "8f46cb3e-a9af-4e19-bb9d-919081571eff",
   "metadata": {},
   "outputs": [],
   "source": [
    "numbers = [-2, -1, 0, 1, 2, 3, 4, 5]\n",
    "\n",
    "positive_squares = [number ** 2 for number in numbers if number > 0]"
   ]
  },
  {
   "cell_type": "code",
   "execution_count": null,
   "id": "17605c9e-28d9-48fd-b87d-b2b0ec9d6e69",
   "metadata": {},
   "outputs": [],
   "source": [
    "positive_squares"
   ]
  },
  {
   "cell_type": "markdown",
   "id": "5bea9c7a-9695-4e10-86f0-424e59d2a267",
   "metadata": {},
   "source": [
    "**Dictionary comprehensions.**"
   ]
  },
  {
   "cell_type": "markdown",
   "id": "af9619a4-3f30-4939-8e2c-11834277ffaa",
   "metadata": {},
   "source": [
    "Using iteration. "
   ]
  },
  {
   "cell_type": "code",
   "execution_count": null,
   "id": "274adba3-5070-4681-a58d-06e64539c225",
   "metadata": {},
   "outputs": [],
   "source": [
    "mapped_user_IDs = {\"kash\": 1, \"sakib\": 2, \"chett\": 3}\n",
    "squared_user_IDs = dict.fromkeys(mapped_user_IDs)\n",
    "\n",
    "for key, value in mapped_user_IDs.items():\n",
    "    squared_user_IDs[key] = value ** 2"
   ]
  },
  {
   "cell_type": "code",
   "execution_count": null,
   "id": "b4281448-301e-445f-9dc8-4972b097fa7a",
   "metadata": {},
   "outputs": [],
   "source": [
    "squared_user_IDs"
   ]
  },
  {
   "cell_type": "markdown",
   "id": "00984f21-5c2f-4e0f-b16c-81c0e5da956e",
   "metadata": {},
   "source": [
    "Using a dictionary comprehension."
   ]
  },
  {
   "cell_type": "code",
   "execution_count": null,
   "id": "5d1cccb9-43fb-4ad3-b2c8-0a0f8f2d029d",
   "metadata": {},
   "outputs": [],
   "source": [
    "mapped_user_IDs = {\"kash\": 1, \"sakib\": 2, \"chett\": 3}\n",
    "\n",
    "squared_user_IDs = {key: value ** 2 for (key, value) in mapped_user_IDs.items()}"
   ]
  },
  {
   "cell_type": "code",
   "execution_count": null,
   "id": "8df830c5-145b-4b7f-8899-3c1f328c515f",
   "metadata": {},
   "outputs": [],
   "source": [
    "squared_user_IDs"
   ]
  },
  {
   "cell_type": "markdown",
   "id": "69775b24-55f1-492a-83b3-32ae84f41c0b",
   "metadata": {},
   "source": [
    "**Set comprehensions.**"
   ]
  },
  {
   "cell_type": "markdown",
   "id": "ebbfc23e-51c4-4003-82c5-5f21207ec074",
   "metadata": {},
   "source": [
    "Using list iteration. "
   ]
  },
  {
   "cell_type": "code",
   "execution_count": null,
   "id": "a0249c92-fe3b-48bc-96a0-e9f215c37e2d",
   "metadata": {},
   "outputs": [],
   "source": [
    "corpus, tokens = \"one fish two fish red fish blue fish\", set()\n",
    "\n",
    "for token in corpus.split(\" \"):\n",
    "    tokens.add(token)"
   ]
  },
  {
   "cell_type": "code",
   "execution_count": null,
   "id": "21fb7510-6a78-4d72-a72b-efa5cd932095",
   "metadata": {},
   "outputs": [],
   "source": [
    "tokens"
   ]
  },
  {
   "cell_type": "markdown",
   "id": "dee021e9-b146-45f9-a432-200082b2a87f",
   "metadata": {},
   "source": [
    "Using a set comprehension."
   ]
  },
  {
   "cell_type": "code",
   "execution_count": null,
   "id": "22c03b53-3b55-4a28-a413-a291b2e8a43f",
   "metadata": {},
   "outputs": [],
   "source": [
    "corpus = \"one fish two fish red fish blue fish\"\n",
    "\n",
    "tokens = {token for token in corpus.split(\" \")}"
   ]
  },
  {
   "cell_type": "code",
   "execution_count": null,
   "id": "408b3678-8b8a-4e38-9fe5-55fd94c39827",
   "metadata": {},
   "outputs": [],
   "source": [
    "tokens"
   ]
  },
  {
   "cell_type": "markdown",
   "id": "5c8fc427-6dfc-486b-94af-b0ceb5bc21dd",
   "metadata": {},
   "source": [
    "**Tuple comprehensions.**"
   ]
  },
  {
   "cell_type": "markdown",
   "id": "6d5bc191-3be8-4af9-8198-8060a3d1efb1",
   "metadata": {},
   "source": [
    "Tuple comprehensions actually do not exist in vanilla Python, as the syntax of writing a single-line comprehension expression with tuple characters (a.k.a parentheses) is reserved for structuring generator expressions. \n",
    "\n",
    "Moreover, tuples are the only data structure between all four discussed (lists, dictionaries, sets, and tuples) that are structurally immutable."
   ]
  },
  {
   "cell_type": "markdown",
   "id": "63ee22a9-c8d0-4e58-ae8c-e017aa40d878",
   "metadata": {},
   "source": [
    "## Object Oriented Programming Design (OOPD)"
   ]
  },
  {
   "cell_type": "markdown",
   "id": "599e1cde-968b-4e32-ba41-6f01519d4075",
   "metadata": {},
   "source": [
    "|Term                           | Definition\n",
    "|-------------------------------|-----------------------------|\n",
    "|**Object**                     | A powerful and higher-order data structure that can **contextually store data and functionality** to handle that data. |\n",
    "|**Class**                      | A type of Pythonic **blueprint** by which to construct objects. |\n",
    "|**Instance**                   | A **physically created copy of an object**, created from \"instantiating\" a class. |\n",
    "|**Attribute**                  | A **special type of variable** owned by a class or object. |\n",
    "|**Method**                     | A **special type of function** owned by a class or object. |\n",
    "|**`self`**                     | A Python **keyword that refers to an instance** of an object; `self` is generally used to instruct classes on how to work with its attributes and methods. |\n",
    "|**`__init__()`**               | A unique object method called a **constructor** that – when an object instance is created – is automatically executed; commonly used to **set up an object's attributes** and even its methods. |"
   ]
  },
  {
   "cell_type": "markdown",
   "id": "c5e641e6-4b0a-4529-9155-6fd51ad0035b",
   "metadata": {},
   "source": [
    "### Declaring a Class"
   ]
  },
  {
   "cell_type": "markdown",
   "id": "a08894fb-2361-448e-b03b-758e636cb984",
   "metadata": {},
   "source": [
    "A **class** is a blueprint of an **object**. "
   ]
  },
  {
   "cell_type": "code",
   "execution_count": null,
   "id": "9d47f0c7-18dd-4bd6-96a8-ee60fcb19c62",
   "metadata": {},
   "outputs": [],
   "source": [
    "class Human(object):\n",
    "    def __init__(self, name=None):\n",
    "        self.name = name\n",
    "        self.age = 25\n",
    "\n",
    "    def greet(self, name_of_person):\n",
    "        if self.name is not None:\n",
    "            print(f\"Hi there, {name_of_person}! I'm {self.name} – pleased to meet you!\")\n",
    "        else:\n",
    "            print(f\"Hello, {name_of_person}, I'm... uh... I'm... who am I? Who am I?! Aaaahhhh!!\")"
   ]
  },
  {
   "cell_type": "markdown",
   "id": "fd8eed5a-3dcf-4df9-aea9-f2912c97e8f0",
   "metadata": {},
   "source": [
    "### Instantiating and Using an Object"
   ]
  },
  {
   "cell_type": "code",
   "execution_count": null,
   "id": "3e8f166c-c446-4e51-9444-d36f9be37345",
   "metadata": {},
   "outputs": [],
   "source": [
    "kash = Human(\"Kash\")\n",
    "\n",
    "kash.greet(\"Chelsea\")"
   ]
  },
  {
   "cell_type": "code",
   "execution_count": null,
   "id": "3242b552-85b3-4582-badd-88721f2218ff",
   "metadata": {},
   "outputs": [],
   "source": [
    "nobody = Human()\n",
    "\n",
    "nobody.greet(\"Praveen\")"
   ]
  },
  {
   "cell_type": "markdown",
   "id": "422309e5-0971-4ec8-8595-badba2c103cf",
   "metadata": {},
   "source": [
    "**Manipulating Object Attributes.**"
   ]
  },
  {
   "cell_type": "code",
   "execution_count": null,
   "id": "8d4634d0-719f-4453-a947-58efe9537a15",
   "metadata": {},
   "outputs": [],
   "source": [
    "print(kash.age)"
   ]
  },
  {
   "cell_type": "code",
   "execution_count": null,
   "id": "d1cf7f5f-1b41-4546-bb3d-186e0593ae82",
   "metadata": {},
   "outputs": [],
   "source": [
    "kash.age = 27; print(kash.age)"
   ]
  },
  {
   "cell_type": "code",
   "execution_count": null,
   "id": "131f2333-a0ff-431a-81b7-855b7f13c22f",
   "metadata": {},
   "outputs": [],
   "source": [
    "print(kash.occupation)"
   ]
  },
  {
   "cell_type": "code",
   "execution_count": null,
   "id": "50048894-e320-4807-85b0-f53201f464a6",
   "metadata": {},
   "outputs": [],
   "source": [
    "kash.occupation = \"DS Instructor\"\n",
    "\n",
    "print(kash.occupation)"
   ]
  },
  {
   "cell_type": "code",
   "execution_count": null,
   "id": "d436befd-e4b7-4ca3-929a-04eb68596ecb",
   "metadata": {},
   "outputs": [],
   "source": [
    "print(nobody.occupation)"
   ]
  },
  {
   "cell_type": "markdown",
   "id": "246930fa-c089-4d4a-836f-332e559ec028",
   "metadata": {},
   "source": [
    "**Manipulating Object Methods.**"
   ]
  },
  {
   "cell_type": "code",
   "execution_count": null,
   "id": "7eb06049-cc72-4b2d-b462-ae182ca544a6",
   "metadata": {},
   "outputs": [],
   "source": [
    "def celebrate_birthday(): \n",
    "    kash.age += 1\n",
    "    print(\"Happy birthday!\")\n",
    "\n",
    "kash.celebrate_birthday = celebrate_birthday"
   ]
  },
  {
   "cell_type": "code",
   "execution_count": null,
   "id": "5df6587a-963a-4d7a-ac69-85ed7fcbe820",
   "metadata": {},
   "outputs": [],
   "source": [
    "kash.celebrate_birthday()"
   ]
  },
  {
   "cell_type": "code",
   "execution_count": null,
   "id": "2888aed4-6b63-449e-8953-9455e9675e49",
   "metadata": {},
   "outputs": [],
   "source": [
    "kash.age"
   ]
  },
  {
   "cell_type": "code",
   "execution_count": null,
   "id": "6fc79096-5412-4a05-b82b-3e835688b1b7",
   "metadata": {},
   "outputs": [],
   "source": [
    "nobody.celebrate_birthday()"
   ]
  },
  {
   "cell_type": "markdown",
   "id": "b915baf8-0f05-49d1-8561-b2761cfeeb72",
   "metadata": {},
   "source": [
    "|Term                           | Definition\n",
    "|-------------------------------|-----------------------------|\n",
    "|**Abstraction**                | One of four central OOP concepts – the process of hiding unnecessary code complexity from the user or the developer by scoping them within relevant objects and classes. |\n",
    "|**Inheritance**                | One of four central OOP concepts – the process of reusing relevant code by allowing some classes to pass down code to other classes, or vice versa. |\n",
    "|**Encapsulation**              | One of four central OOP concepts – the process of tethering relevant variables (called attributes) and functions (called methods) together in the same class scope due to their relationships with one another. |\n",
    "|**Polymorphism**               | One of four central OOP concepts – the process of allowing a class or object to have many forms using inheritance or overriding. |"
   ]
  },
  {
   "cell_type": "markdown",
   "id": "44715774-540d-4d6f-92c1-250f305636de",
   "metadata": {},
   "source": [
    "**Objects working with objects.**"
   ]
  },
  {
   "cell_type": "code",
   "execution_count": null,
   "id": "30ed3f42-598b-41c1-ad53-5d2769f87f43",
   "metadata": {},
   "outputs": [],
   "source": [
    "class Actor(object):\n",
    "    def __init__(self, name=None):\n",
    "        self.name = name\n",
    "        self.age = 21\n",
    "\n",
    "    def tragic_ending_with_a_twist(self, second_actor):\n",
    "        if self.name == \"Rose\" and second_actor.name == \"Jack\":\n",
    "            print(f\">> {self.name.upper()}: I'll never let go, {second_actor.name}! I'll never let go!\")\n",
    "        elif self.name == \"Jack\" and second_actor.name == \"Rose\":\n",
    "            print(f\">> {self.name.upper()}: Damn, {second_actor.name}, you know there's space for both of us, right? No? Okay.\")\n",
    "        else:\n",
    "            print(f\">> {self.name.upper()}: I'll never let go... uh... what am I doing here? Wrong movie!\")"
   ]
  },
  {
   "cell_type": "code",
   "execution_count": null,
   "id": "f2468391-d969-4d84-84e9-0bd70c40cc9b",
   "metadata": {},
   "outputs": [],
   "source": [
    "jack, rose = Actor(\"Jack\"), Actor(\"Rose\")\n",
    "\n",
    "regina_george = Actor(\"Regina George\")"
   ]
  },
  {
   "cell_type": "code",
   "execution_count": null,
   "id": "d1be46af-c606-4eab-96e0-67d3e4dac7e8",
   "metadata": {},
   "outputs": [],
   "source": [
    "rose.tragic_ending_with_a_twist(jack)\n",
    "jack.tragic_ending_with_a_twist(rose)\n",
    "\n",
    "regina_george.tragic_ending_with_a_twist(jack)"
   ]
  },
  {
   "cell_type": "markdown",
   "id": "c8b79490-2b35-4948-930a-420fb43291c7",
   "metadata": {},
   "source": [
    "## Quality Assurance"
   ]
  },
  {
   "cell_type": "markdown",
   "id": "43b43885-a178-415d-8b8b-2079d21639cb",
   "metadata": {},
   "source": [
    "|Term                           | Definition\n",
    "|-------------------------------|-----------------------------|\n",
    "|**Type Hint**                  | A software development technique designed to indicate the types of variables, function parameters, and return values written with a specified program. |\n",
    "|**Traceback**                  | A report – usually generated by a bug, error, or exception from our code – that provides information on function calls at the precise moment of the program stopping. |\n",
    "|**`NameError`**                | A type of error in Python that occurs when the program attempts to access or use a variable that has not been defined or assigned a value. |\n",
    "|**`IndexError`**               | A type of error in Python that occurs when the program attempts to access an element in a sequence using an index that is outside the valid range of indices for that sequence.|\n",
    "|**`KeyError`**                 | A type of error in Python that occurs when the program attempts to access an item in a dictionary or other key-structured object that does not exist. |\n",
    "|**`TypeError`**                | A type of error in Python that occurs when the program attempts to perform an operation on an incorrect/unsupported object/data type. |\n",
    "|**`ValueError`**               | A type of error in Python that occurs when the program attempts to perform an operation where the correct argument type but an incorrect value is supplied to a function. |\n",
    "|**`ImportError`**              | A type of error in Python that occurs when the program attempts to import a class that is inaccessible or in a circular dependency. |\n",
    "|**Docstring**                  | A software development technique leveraging a string to document a Python module, class, function, or method. |"
   ]
  },
  {
   "cell_type": "markdown",
   "id": "b2879068-6ee2-420e-b91b-7c1f9e22e716",
   "metadata": {},
   "source": [
    "### Type Checking"
   ]
  },
  {
   "cell_type": "markdown",
   "id": "14f8b1be-9dee-4069-a245-262ba5bb1c15",
   "metadata": {},
   "source": [
    "**Using `type()` and `isinstance()`.**"
   ]
  },
  {
   "cell_type": "markdown",
   "id": "784dbbea-c592-40c1-8c9f-2fb942e46aeb",
   "metadata": {},
   "source": [
    "Built-in data types."
   ]
  },
  {
   "cell_type": "code",
   "execution_count": null,
   "id": "50d71404-b72a-41f1-8d75-82249bc69f69",
   "metadata": {},
   "outputs": [],
   "source": [
    "my_list, my_dict, my_tuple, my_set = [1, 2, 3], {\"Name\": \"Kash\"}, (8, 5), {0, 1}"
   ]
  },
  {
   "cell_type": "code",
   "execution_count": null,
   "id": "4a7d0fd1-d10a-4b76-8dc0-493fb46bb5e1",
   "metadata": {},
   "outputs": [],
   "source": [
    "type(my_list), type(my_dict), type(my_tuple), type(my_set)"
   ]
  },
  {
   "cell_type": "code",
   "execution_count": null,
   "id": "e185dba4-6e94-434e-b8d9-3d2c5124aac6",
   "metadata": {},
   "outputs": [],
   "source": [
    "maybe_a_dict, maybe_a_set = {}, {}"
   ]
  },
  {
   "cell_type": "code",
   "execution_count": null,
   "id": "0ce3ac82-e36f-487d-a428-b5f97042aad6",
   "metadata": {},
   "outputs": [],
   "source": [
    "type(maybe_a_dict), type(maybe_a_set)"
   ]
  },
  {
   "cell_type": "code",
   "execution_count": null,
   "id": "7c377555-eed6-4b12-9e58-dc8760c2408d",
   "metadata": {},
   "outputs": [],
   "source": [
    "isinstance(1, int)"
   ]
  },
  {
   "cell_type": "code",
   "execution_count": null,
   "id": "e4eafc11-28c9-41ce-af32-aac591b9b6d6",
   "metadata": {},
   "outputs": [],
   "source": [
    "isinstance(\"Kash\", bool)"
   ]
  },
  {
   "cell_type": "code",
   "execution_count": null,
   "id": "c309241a-a06d-4150-a23f-5afc1b9fb61e",
   "metadata": {},
   "outputs": [],
   "source": [
    "isinstance(True, int)"
   ]
  },
  {
   "cell_type": "markdown",
   "id": "aecfc3e7-1ad8-4c56-97e7-6fc369e1c22a",
   "metadata": {},
   "source": [
    "**Type hints and annotations.**"
   ]
  },
  {
   "cell_type": "markdown",
   "id": "d6ec45f0-3345-4bbe-8e38-c022b33cecc7",
   "metadata": {},
   "source": [
    "Without using type hints."
   ]
  },
  {
   "cell_type": "code",
   "execution_count": null,
   "id": "e34ba84c-cb38-42aa-8e47-bdb929b840cc",
   "metadata": {},
   "outputs": [],
   "source": [
    "%load_ext nb_mypy"
   ]
  },
  {
   "cell_type": "code",
   "execution_count": null,
   "id": "84b02177-87a2-445d-aac1-eee32ede06fd",
   "metadata": {},
   "outputs": [],
   "source": [
    "%nb_mypy On"
   ]
  },
  {
   "cell_type": "code",
   "execution_count": null,
   "id": "a4a08a01-a612-45b7-aa2f-df517f835008",
   "metadata": {},
   "outputs": [],
   "source": [
    "def say_hello_to(user=\"User\", is_formal=True):\n",
    "    if is_formal is True:\n",
    "        return f\"\\nHello there, {user}. It's a pleasure to meet you!\\n\"\n",
    "    else:\n",
    "        return f\"\\nHi, {user}! What's up?\\n\""
   ]
  },
  {
   "cell_type": "code",
   "execution_count": null,
   "id": "13a4a218-6900-4100-b74a-67e982b010e6",
   "metadata": {},
   "outputs": [],
   "source": [
    "print(say_hello_to())"
   ]
  },
  {
   "cell_type": "code",
   "execution_count": null,
   "id": "0db2c844-0df3-4a1f-a7ed-223009a542e4",
   "metadata": {},
   "outputs": [],
   "source": [
    "print(say_hello_to(user=\"Kash\", is_formal=False))"
   ]
  },
  {
   "cell_type": "code",
   "execution_count": null,
   "id": "706329c8-3658-4570-bdae-8dd9130de3ea",
   "metadata": {},
   "outputs": [],
   "source": [
    "print(say_hello_to(user=6, is_formal=7))"
   ]
  },
  {
   "cell_type": "markdown",
   "id": "41845e02-ef81-4fb5-af59-e170291c9d3e",
   "metadata": {},
   "source": [
    "Using type hints."
   ]
  },
  {
   "cell_type": "code",
   "execution_count": null,
   "id": "78a09781-967f-4c54-b8c1-3fcd4fce40db",
   "metadata": {},
   "outputs": [],
   "source": [
    "def say_hello_to(user: str = \"User\", is_formal: bool = False) -> str:\n",
    "    if is_formal is True:\n",
    "        return f\"\\nHello there, {user}. It's a pleasure to meet you!\\n\"\n",
    "    else:\n",
    "        return f\"\\nHi, {user}! What's up?\\n\""
   ]
  },
  {
   "cell_type": "code",
   "execution_count": null,
   "id": "7473997a-752a-4d84-82fa-796bfc3c8b95",
   "metadata": {},
   "outputs": [],
   "source": [
    "print(say_hello_to(user=\"Kash\", is_formal=False))"
   ]
  },
  {
   "cell_type": "code",
   "execution_count": null,
   "id": "5ec311cf-72f8-4d47-8eb4-16418ea91c17",
   "metadata": {},
   "outputs": [],
   "source": [
    "print(say_hello_to(user=6, is_formal=7))"
   ]
  },
  {
   "cell_type": "markdown",
   "id": "f3f2c6f8-8937-4bab-bc5f-ea192a7a9c5d",
   "metadata": {},
   "source": [
    "Accessing type-hint-based annotations."
   ]
  },
  {
   "cell_type": "code",
   "execution_count": null,
   "id": "c5e639ae-650d-4132-bd4b-4ac12bac092f",
   "metadata": {},
   "outputs": [],
   "source": [
    "e: float = 2.71828\n",
    "\n",
    "__annotations__"
   ]
  },
  {
   "cell_type": "code",
   "execution_count": null,
   "id": "fbf99c58-f341-4b81-b091-a9fc34d705ec",
   "metadata": {},
   "outputs": [],
   "source": [
    "x: int"
   ]
  },
  {
   "cell_type": "code",
   "execution_count": null,
   "id": "bacb7a51-ff98-4e45-b1b9-d7ef317a4a46",
   "metadata": {},
   "outputs": [],
   "source": [
    "__annotations__"
   ]
  },
  {
   "cell_type": "markdown",
   "id": "9909dced-0d41-4439-abdc-d267c833f037",
   "metadata": {},
   "source": [
    "### Interpreting Tracebacks"
   ]
  },
  {
   "cell_type": "markdown",
   "id": "f34b4eae-2238-4742-a5c6-a7626c2613f1",
   "metadata": {},
   "source": [
    "Interpreting `NameError`s."
   ]
  },
  {
   "cell_type": "code",
   "execution_count": null,
   "id": "85638d47-328b-4699-b4d1-c0162a928418",
   "metadata": {},
   "outputs": [],
   "source": [
    "raise NameError(\"This happens when you try to reference a variable that hasn't been defined in the code relevantly.\")"
   ]
  },
  {
   "cell_type": "code",
   "execution_count": null,
   "id": "6b1858a1-4edf-4eff-af69-4fd943211e2d",
   "metadata": {},
   "outputs": [],
   "source": [
    "my_number = 1\n",
    "\n",
    "my_num"
   ]
  },
  {
   "cell_type": "markdown",
   "id": "dc0b1c88-f0b9-490c-a534-010bade6c778",
   "metadata": {},
   "source": [
    "Interpreting `IndexError`s."
   ]
  },
  {
   "cell_type": "code",
   "execution_count": null,
   "id": "c2e89313-cdf8-4eda-9633-18c70ae87149",
   "metadata": {},
   "outputs": [],
   "source": [
    "raise IndexError(\"This happens when a sequence is referenced that's out-of-range.\")"
   ]
  },
  {
   "cell_type": "code",
   "execution_count": null,
   "id": "147f0615-9bb9-4fec-bfa6-1eac2a40dd43",
   "metadata": {},
   "outputs": [],
   "source": [
    "my_list = [1, 2, 3]\n",
    "\n",
    "my_list[3]"
   ]
  },
  {
   "cell_type": "markdown",
   "id": "26805abf-2af9-4891-95cb-a4bc7f29efc5",
   "metadata": {},
   "source": [
    "Interpreting `KeyError`s."
   ]
  },
  {
   "cell_type": "code",
   "execution_count": null,
   "id": "74f996eb-e74c-4b16-b05e-2dd1fe1a4598",
   "metadata": {},
   "outputs": [],
   "source": [
    "raise KeyError(\"This happens when you attempt to access a key within a mapping-like object that doesn't exist.\")"
   ]
  },
  {
   "cell_type": "code",
   "execution_count": null,
   "id": "4685bba3-e30b-45d8-abe6-367c0b156428",
   "metadata": {},
   "outputs": [],
   "source": [
    "my_table = {\"Name\": \"Kash\", \"Job\": \"SE Instructor\"}\n",
    "\n",
    "my_table[\"Favorite Language\"]"
   ]
  },
  {
   "cell_type": "markdown",
   "id": "2bbc45dc-d11d-492f-9b13-45fbb2a8f417",
   "metadata": {},
   "source": [
    "Interpreting `TypeError`s."
   ]
  },
  {
   "cell_type": "code",
   "execution_count": null,
   "id": "2ad02333-a6b1-422d-8514-2616a37d4b94",
   "metadata": {},
   "outputs": [],
   "source": [
    "raise TypeError(\"This happens when some operation/function is applied to an inappropriate object type.\")"
   ]
  },
  {
   "cell_type": "code",
   "execution_count": null,
   "id": "3313d093-c538-4c44-8e2d-b24849256d04",
   "metadata": {},
   "outputs": [],
   "source": [
    "output = \"abc\" + 3"
   ]
  },
  {
   "cell_type": "markdown",
   "id": "6dbbe37e-b561-4a05-890d-4ce1db6abfd7",
   "metadata": {},
   "source": [
    "Interpreting `ValueError`s."
   ]
  },
  {
   "cell_type": "code",
   "execution_count": null,
   "id": "7e7e6f02-1bde-4b35-b549-dda49717f99a",
   "metadata": {},
   "outputs": [],
   "source": [
    "raise ValueError(\"This happens when an operation/function receives an argument of the correct type but an invalid value.\")"
   ]
  },
  {
   "cell_type": "code",
   "execution_count": null,
   "id": "6c1e633c-5cea-4638-bfaa-6bb66bd72cc3",
   "metadata": {},
   "outputs": [],
   "source": [
    "int(\"xyz\")"
   ]
  },
  {
   "cell_type": "markdown",
   "id": "8d7a76a2-bdfc-4ab7-bad9-61e072f0c010",
   "metadata": {},
   "source": [
    "Interpreting `ImportError`s and `ModuleNotFoundError`s."
   ]
  },
  {
   "cell_type": "code",
   "execution_count": null,
   "id": "be4df8e8-6607-4bae-bcef-52ef5e66ac88",
   "metadata": {},
   "outputs": [],
   "source": [
    "raise ImportError(\"These happen when you try to import a module that doesn't exist or cannot be found.\")"
   ]
  },
  {
   "cell_type": "code",
   "execution_count": null,
   "id": "3b3a1622-3f48-40a7-9529-36019ead93cf",
   "metadata": {},
   "outputs": [],
   "source": [
    "from requests import kashy"
   ]
  },
  {
   "cell_type": "code",
   "execution_count": null,
   "id": "03c061d5-d10d-497b-a68b-62f2cd54ccb3",
   "metadata": {},
   "outputs": [],
   "source": [
    "import fake_module"
   ]
  },
  {
   "cell_type": "markdown",
   "id": "528a4d19-0023-4791-b152-b3343d518269",
   "metadata": {},
   "source": [
    "### Documentation and Debugging"
   ]
  },
  {
   "cell_type": "markdown",
   "id": "a90eb6d8-728d-46c9-9adf-852af19f19dd",
   "metadata": {},
   "source": [
    "Docstrings."
   ]
  },
  {
   "cell_type": "code",
   "execution_count": null,
   "id": "0ccda734-06ee-4ab6-87ef-5b01c36eeb4e",
   "metadata": {},
   "outputs": [],
   "source": [
    "def add_two_numbers(a, b):\n",
    "    \"\"\"\n",
    "    Function that adds two numbers and returns the output.\n",
    "\n",
    "    PARAMETER(S):\n",
    "        `a` (int): The first number.\n",
    "        `b` (int): The second number.\n",
    "\n",
    "    RETURNS:\n",
    "        int: Sum of both numbers.\n",
    "    \"\"\"\n",
    "    c = a + b\n",
    "    return c"
   ]
  },
  {
   "cell_type": "code",
   "execution_count": null,
   "id": "e1e33bd2-7a1f-4ef9-89e8-b1d8468c1bee",
   "metadata": {},
   "outputs": [],
   "source": [
    "print(add_two_numbers.__doc__)"
   ]
  },
  {
   "cell_type": "code",
   "execution_count": null,
   "id": "02daeedd-17fe-4ad0-8a02-0d54488c6baa",
   "metadata": {},
   "outputs": [],
   "source": [
    "add_two_numbers?"
   ]
  },
  {
   "cell_type": "code",
   "execution_count": null,
   "id": "96b8230b-46ef-4a55-a954-b428c8ade621",
   "metadata": {},
   "outputs": [],
   "source": [
    "add_two_numbers??"
   ]
  },
  {
   "cell_type": "markdown",
   "id": "3573a34c-3530-40ce-adbf-1f0a523537d7",
   "metadata": {},
   "source": [
    "---\n",
    "---\n",
    "---"
   ]
  }
 ],
 "metadata": {
  "kernelspec": {
   "display_name": "Python 3 (ipykernel)",
   "language": "python",
   "name": "python3"
  },
  "language_info": {
   "codemirror_mode": {
    "name": "ipython",
    "version": 3
   },
   "file_extension": ".py",
   "mimetype": "text/x-python",
   "name": "python",
   "nbconvert_exporter": "python",
   "pygments_lexer": "ipython3",
   "version": "3.11.6"
  }
 },
 "nbformat": 4,
 "nbformat_minor": 5
}
