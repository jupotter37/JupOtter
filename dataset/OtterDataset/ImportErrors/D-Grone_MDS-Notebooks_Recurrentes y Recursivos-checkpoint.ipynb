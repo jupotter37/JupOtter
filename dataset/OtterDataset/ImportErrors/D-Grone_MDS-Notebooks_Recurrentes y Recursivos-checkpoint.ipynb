{
 "cells": [
  {
   "cell_type": "markdown",
   "id": "288cb707",
   "metadata": {},
   "source": [
    "## Machine Learning Avanzado\n",
    "#### Redes Recursivas y Recurrentes"
   ]
  },
  {
   "cell_type": "code",
   "execution_count": 1,
   "id": "447a8c32",
   "metadata": {},
   "outputs": [
    {
     "name": "stderr",
     "output_type": "stream",
     "text": [
      "2022-11-18 20:47:03.502886: I tensorflow/core/platform/cpu_feature_guard.cc:193] This TensorFlow binary is optimized with oneAPI Deep Neural Network Library (oneDNN) to use the following CPU instructions in performance-critical operations:  AVX2 FMA\n",
      "To enable them in other operations, rebuild TensorFlow with the appropriate compiler flags.\n",
      "2022-11-18 20:47:03.612165: E tensorflow/stream_executor/cuda/cuda_blas.cc:2981] Unable to register cuBLAS factory: Attempting to register factory for plugin cuBLAS when one has already been registered\n",
      "2022-11-18 20:47:04.005789: W tensorflow/stream_executor/platform/default/dso_loader.cc:64] Could not load dynamic library 'libnvinfer.so.7'; dlerror: libnvinfer.so.7: cannot open shared object file: No such file or directory\n",
      "2022-11-18 20:47:04.005832: W tensorflow/stream_executor/platform/default/dso_loader.cc:64] Could not load dynamic library 'libnvinfer_plugin.so.7'; dlerror: libnvinfer_plugin.so.7: cannot open shared object file: No such file or directory\n",
      "2022-11-18 20:47:04.005836: W tensorflow/compiler/tf2tensorrt/utils/py_utils.cc:38] TF-TRT Warning: Cannot dlopen some TensorRT libraries. If you would like to use Nvidia GPU with TensorRT, please make sure the missing libraries mentioned above are installed properly.\n"
     ]
    }
   ],
   "source": [
    "import pandas as pd\n",
    "import numpy as np\n",
    "import tensorflow as tf\n",
    "from tensorflow import keras\n",
    "from tensorflow.keras import layers\n",
    "\n",
    "# Parametros iniciales\n",
    "velocidadDeAprendizaje = 0.001\n",
    "numeroDeIteracionesEntrenamiento = 5000\n",
    "iteracionesMostrarInfo = 1000\n",
    "numeroEntradas = 3\n",
    "\n",
    "# Numero de unidades ocultas en una celda RNN\n",
    "hidden = 512"
   ]
  },
  {
   "cell_type": "code",
   "execution_count": 2,
   "id": "c2c0613d",
   "metadata": {},
   "outputs": [],
   "source": [
    "batch_size = 64\n",
    "# Each MNIST image batch is a tensor of shape (batch_size, 28, 28).\n",
    "# Each input sequence will be of size (28, 28) (height is treated like time).\n",
    "input_dim = 28\n",
    "\n",
    "units = 64\n",
    "output_size = 10  # labels are from 0 to 9\n",
    "\n",
    "# Build the RNN model\n",
    "def build_model(allow_cudnn_kernel=True):\n",
    "    # CuDNN is only available at the layer level, and not at the cell level.\n",
    "    # This means `LSTM(units)` will use the CuDNN kernel,\n",
    "    # while RNN(LSTMCell(units)) will run on non-CuDNN kernel.\n",
    "    if allow_cudnn_kernel:\n",
    "        # The LSTM layer with default options uses CuDNN.\n",
    "        lstm_layer = keras.layers.LSTM(units, input_shape=(None, input_dim))\n",
    "    else:\n",
    "        # Wrapping a LSTMCell in a RNN layer will not use CuDNN.\n",
    "        lstm_layer = keras.layers.RNN(\n",
    "            keras.layers.LSTMCell(units), input_shape=(None, input_dim)\n",
    "        )\n",
    "    model = keras.models.Sequential(\n",
    "        [\n",
    "            lstm_layer,\n",
    "            keras.layers.BatchNormalization(),\n",
    "            keras.layers.Dense(output_size),\n",
    "        ]\n",
    "    )\n",
    "    return model"
   ]
  },
  {
   "cell_type": "code",
   "execution_count": 3,
   "id": "7e95c6fc",
   "metadata": {},
   "outputs": [],
   "source": [
    "mnist = keras.datasets.mnist\n",
    "\n",
    "(x_train, y_train), (x_test, y_test) = mnist.load_data()\n",
    "x_train, x_test = x_train / 255.0, x_test / 255.0\n",
    "sample, sample_label = x_train[0], y_train[0]\n"
   ]
  },
  {
   "cell_type": "code",
   "execution_count": 4,
   "id": "302c4e89",
   "metadata": {},
   "outputs": [
    {
     "name": "stderr",
     "output_type": "stream",
     "text": [
      "2022-11-18 20:47:04.691394: E tensorflow/stream_executor/cuda/cuda_driver.cc:265] failed call to cuInit: CUDA_ERROR_UNKNOWN: unknown error\n",
      "2022-11-18 20:47:04.691416: I tensorflow/stream_executor/cuda/cuda_diagnostics.cc:169] retrieving CUDA diagnostic information for host: pop-os\n",
      "2022-11-18 20:47:04.691420: I tensorflow/stream_executor/cuda/cuda_diagnostics.cc:176] hostname: pop-os\n",
      "2022-11-18 20:47:04.691477: I tensorflow/stream_executor/cuda/cuda_diagnostics.cc:200] libcuda reported version is: 515.65.1\n",
      "2022-11-18 20:47:04.691490: I tensorflow/stream_executor/cuda/cuda_diagnostics.cc:204] kernel reported version is: 515.65.1\n",
      "2022-11-18 20:47:04.691493: I tensorflow/stream_executor/cuda/cuda_diagnostics.cc:310] kernel version seems to match DSO: 515.65.1\n",
      "2022-11-18 20:47:04.691748: I tensorflow/core/platform/cpu_feature_guard.cc:193] This TensorFlow binary is optimized with oneAPI Deep Neural Network Library (oneDNN) to use the following CPU instructions in performance-critical operations:  AVX2 FMA\n",
      "To enable them in other operations, rebuild TensorFlow with the appropriate compiler flags.\n"
     ]
    },
    {
     "name": "stdout",
     "output_type": "stream",
     "text": [
      "938/938 [==============================] - 13s 13ms/step - loss: 0.9600 - accuracy: 0.6967 - val_loss: 0.5352 - val_accuracy: 0.8284\n"
     ]
    },
    {
     "data": {
      "text/plain": [
       "<keras.callbacks.History at 0x7f7f0d0520e0>"
      ]
     },
     "execution_count": 4,
     "metadata": {},
     "output_type": "execute_result"
    }
   ],
   "source": [
    "model = build_model(allow_cudnn_kernel=True)\n",
    "\n",
    "model.compile(\n",
    "    loss=keras.losses.SparseCategoricalCrossentropy(from_logits=True),\n",
    "    optimizer=\"sgd\",\n",
    "    metrics=[\"accuracy\"],\n",
    ")\n",
    "\n",
    "\n",
    "model.fit(\n",
    "    x_train, y_train, validation_data=(x_test, y_test), batch_size=batch_size, epochs=1\n",
    ")\n"
   ]
  },
  {
   "cell_type": "code",
   "execution_count": 5,
   "id": "de77b35d",
   "metadata": {},
   "outputs": [
    {
     "name": "stdout",
     "output_type": "stream",
     "text": [
      "938/938 [==============================] - 13s 13ms/step - loss: 0.3910 - accuracy: 0.8822 - val_loss: 0.2861 - val_accuracy: 0.9099\n"
     ]
    },
    {
     "data": {
      "text/plain": [
       "<keras.callbacks.History at 0x7f7ed07e8a60>"
      ]
     },
     "execution_count": 5,
     "metadata": {},
     "output_type": "execute_result"
    }
   ],
   "source": [
    "noncudnn_model = build_model(allow_cudnn_kernel=False)\n",
    "noncudnn_model.set_weights(model.get_weights())\n",
    "noncudnn_model.compile(\n",
    "    loss=keras.losses.SparseCategoricalCrossentropy(from_logits=True),\n",
    "    optimizer=\"sgd\",\n",
    "    metrics=[\"accuracy\"],\n",
    ")\n",
    "noncudnn_model.fit(\n",
    "    x_train, y_train, validation_data=(x_test, y_test), batch_size=batch_size, epochs=1\n",
    ")\n"
   ]
  },
  {
   "cell_type": "code",
   "execution_count": 6,
   "id": "0c0e4d70",
   "metadata": {},
   "outputs": [
    {
     "name": "stdout",
     "output_type": "stream",
     "text": [
      "Predicted result is: [3], target result is: 5\n"
     ]
    },
    {
     "data": {
      "image/png": "[encoded data removed]",
      "text/plain": [
       "<Figure size 432x288 with 1 Axes>"
      ]
     },
     "metadata": {
      "needs_background": "light"
     },
     "output_type": "display_data"
    }
   ],
   "source": [
    "import matplotlib.pyplot as plt\n",
    "\n",
    "with tf.device(\"CPU:0\"):\n",
    "    cpu_model = build_model(allow_cudnn_kernel=True)\n",
    "    cpu_model.set_weights(model.get_weights())\n",
    "    result = tf.argmax(cpu_model.predict_on_batch(tf.expand_dims(sample, 0)), axis=1)\n",
    "    print(\n",
    "        \"Predicted result is: %s, target result is: %s\" % (result.numpy(), sample_label)\n",
    "    )\n",
    "    plt.imshow(sample, cmap=plt.get_cmap(\"gray\"))\n"
   ]
  },
  {
   "cell_type": "code",
   "execution_count": 7,
   "id": "833aa202",
   "metadata": {},
   "outputs": [],
   "source": [
    "import sys\n",
    "path_to_module = \"/home/tom/miniconda3/envs/MachineLearning/lib/python3.10/site-packages/\"\n",
    "sys.path.append(path_to_module)\n",
    "import cv2"
   ]
  },
  {
   "cell_type": "code",
   "execution_count": 8,
   "id": "e08683d5",
   "metadata": {},
   "outputs": [
    {
     "data": {
      "text/plain": [
       "<matplotlib.image.AxesImage at 0x7f7e7072a5c0>"
      ]
     },
     "execution_count": 8,
     "metadata": {},
     "output_type": "execute_result"
    },
    {
     "data": {
      "image/png": "[encoded data removed]",
      "text/plain": [
       "<Figure size 432x288 with 1 Axes>"
      ]
     },
     "metadata": {
      "needs_background": "light"
     },
     "output_type": "display_data"
    }
   ],
   "source": [
    "file = '/media/tom/Fonte Storage/00 Clases/UDD/MLA/Laboratorios/5.png'\n",
    "test_image = cv2.imread(file,cv2.IMREAD_GRAYSCALE)\n",
    "plt.imshow(test_image,cmap='gray')"
   ]
  },
  {
   "cell_type": "code",
   "execution_count": 9,
   "id": "c707187b",
   "metadata": {},
   "outputs": [
    {
     "data": {
      "text/plain": [
       "<matplotlib.image.AxesImage at 0x7f7e7078e890>"
      ]
     },
     "execution_count": 9,
     "metadata": {},
     "output_type": "execute_result"
    },
    {
     "data": {
      "image/png": "[encoded data removed]",
      "text/plain": [
       "<Figure size 432x288 with 1 Axes>"
      ]
     },
     "metadata": {
      "needs_background": "light"
     },
     "output_type": "display_data"
    }
   ],
   "source": [
    "img_resized = cv2.resize(test_image,(28,28),interpolation = cv2.INTER_LINEAR)\n",
    "img_resized = cv2.bitwise_not(img_resized)\n",
    "plt.imshow(img_resized,cmap='gray')"
   ]
  },
  {
   "cell_type": "code",
   "execution_count": 10,
   "id": "8a15bebc",
   "metadata": {},
   "outputs": [
    {
     "name": "stdout",
     "output_type": "stream",
     "text": [
      "Predicted result is: [7], target result is: 3\n"
     ]
    },
    {
     "data": {
      "image/png": "[encoded data removed]",
      "text/plain": [
       "<Figure size 432x288 with 1 Axes>"
      ]
     },
     "metadata": {
      "needs_background": "light"
     },
     "output_type": "display_data"
    }
   ],
   "source": [
    "sample_label = 3#\n",
    "\n",
    "with tf.device(\"CPU:0\"):\n",
    "    cpu_model = build_model(allow_cudnn_kernel=True)\n",
    "    cpu_model.set_weights(model.get_weights())\n",
    "    result = tf.argmax(cpu_model.predict_on_batch(tf.expand_dims(img_resized, 0)), axis=1)\n",
    "    print(\n",
    "        \"Predicted result is: %s, target result is: %s\" % (result.numpy(), sample_label)\n",
    "    )\n",
    "    plt.imshow(sample, cmap=plt.get_cmap(\"gray\"))\n"
   ]
  },
  {
   "cell_type": "markdown",
   "id": "3da8ddf3",
   "metadata": {},
   "source": [
    "### Redes Recursivas\n"
   ]
  },
  {
   "cell_type": "code",
   "execution_count": 13,
   "id": "06fe18bd",
   "metadata": {},
   "outputs": [
    {
     "ename": "SyntaxError",
     "evalue": "invalid syntax (2215361388.py, line 4)",
     "output_type": "error",
     "traceback": [
      "\u001b[0;36m  Input \u001b[0;32mIn [13]\u001b[0;36m\u001b[0m\n\u001b[0;31m    def __init__(self, ...):\u001b[0m\n\u001b[0m                       ^\u001b[0m\n\u001b[0;31mSyntaxError\u001b[0m\u001b[0;31m:\u001b[0m invalid syntax\n"
     ]
    }
   ],
   "source": [
    "# Primero hay que representar el arbol de la estructura de datos en un grafico\n",
    "\n",
    "class Node:  # a node in the tree\n",
    "    def __init__(self, ...):\n",
    "        self.isLeaf = True / False\n",
    "        self.hidden_state = None\n",
    "        # for leaves\n",
    "        self.word = word\n",
    "        # for inner nodes\n",
    "        self.left = None  # reference to left child\n",
    "        self.right = None  # reference to right child\n",
    "#..."
   ]
  },
  {
   "cell_type": "code",
   "execution_count": 14,
   "id": "15bdedec",
   "metadata": {},
   "outputs": [],
   "source": [
    "class RNN_Model():\n",
    "    def add_model_vars(self):\n",
    "        with tf.variable_scope('Embeddings'):\n",
    "            embeddings = \\\n",
    "            tf.get_variable('embeddings', [len(self.vocab), self.config.embed_size])\n",
    "            with tf.variable_scope('Composition'):\n",
    "                W1 = tf.get_variable('W1',\n",
    "                                     [2 * self.config.embed_size, self.config.embed_size])\n",
    "                b1 = tf.get_variable('b1', [1, self.config.embed_size])\n",
    "            with tf.variable_scope('Projection'):\n",
    "                U = tf.get_variable('U', [self.config.embed_size, self.config.label_size])\n",
    "                bs = tf.get_variable('bs', [1, self.config.label_size])"
   ]
  },
  {
   "cell_type": "code",
   "execution_count": 25,
   "id": "f47fca0e",
   "metadata": {},
   "outputs": [
    {
     "ename": "ModuleNotFoundError",
     "evalue": "No module named 'tree'",
     "output_type": "error",
     "traceback": [
      "\u001b[0;31m---------------------------------------------------------------------------\u001b[0m",
      "\u001b[0;31mModuleNotFoundError\u001b[0m                       Traceback (most recent call last)",
      "Input \u001b[0;32mIn [25]\u001b[0m, in \u001b[0;36m<cell line: 10>\u001b[0;34m()\u001b[0m\n\u001b[1;32m      7\u001b[0m \u001b[38;5;28;01mimport\u001b[39;00m \u001b[38;5;21;01mtensorflow\u001b[39;00m \u001b[38;5;28;01mas\u001b[39;00m \u001b[38;5;21;01mtf\u001b[39;00m\n\u001b[1;32m      9\u001b[0m \u001b[38;5;28;01mimport\u001b[39;00m \u001b[38;5;21;01mutils\u001b[39;00m\n\u001b[0;32m---> 10\u001b[0m \u001b[38;5;28;01mimport\u001b[39;00m \u001b[38;5;21;01mtree\u001b[39;00m\n\u001b[1;32m     13\u001b[0m \u001b[38;5;28;01mclass\u001b[39;00m \u001b[38;5;21;01mConfig\u001b[39;00m(\u001b[38;5;28mobject\u001b[39m):\n\u001b[1;32m     14\u001b[0m     \u001b[38;5;124;03m\"\"\"Holds model hyperparams and data information.\u001b[39;00m\n\u001b[1;32m     15\u001b[0m \u001b[38;5;124;03m    Model objects are passed a Config() object at instantiation.\u001b[39;00m\n\u001b[1;32m     16\u001b[0m \u001b[38;5;124;03m    \"\"\"\u001b[39;00m\n",
      "\u001b[0;31mModuleNotFoundError\u001b[0m: No module named 'tree'"
     ]
    }
   ],
   "source": [
    "import os, sys,shutil,time,itertools\n",
    "import math, random\n",
    "from collections import OrderedDict, defaultdict\n",
    "\n",
    "import numpy as np\n",
    "import matplotlib.pyplot as plt\n",
    "import tensorflow as tf\n",
    "\n",
    "import utils\n",
    "import tree\n",
    "\n",
    "\n",
    "class Config(object):\n",
    "    \"\"\"Holds model hyperparams and data information.\n",
    "    Model objects are passed a Config() object at instantiation.\n",
    "    \"\"\"\n",
    "    \n",
    "    embed_size = 35\n",
    "    label_size = 2\n",
    "    early_stopping = 2\n",
    "    anneal_threshold = 0.99\n",
    "    anneal_by = 1.5\n",
    "    max_epochs = 30\n",
    "    lr = 0.01\n",
    "    l2 = 0.02\n",
    "    \n",
    "    model_name = MODEL_STR % (embed_size, l2, lr)\n",
    "\n",
    "\n",
    "class RecursiveNetStaticGraph():\n",
    "    \n",
    "    def __init__(self, config):\n",
    "        self.config = config\n",
    "        \n",
    "        # Load train data and build vocabulary\n",
    "        self.train_data, self.dev_data, self.test_data = tree.simplified_data(700,\n",
    "                                                                              100,\n",
    "                                                                              200)\n",
    "        \n",
    "        # print(\"data \",self.train_data)\n",
    "        self.vocab = utils.Vocab()\n",
    "        train_sents = [t.get_words() for t in self.train_data]\n",
    "        self.vocab.construct(list(itertools.chain.from_iterable(train_sents)))\n",
    "        \n",
    "        # add input placeholders\n",
    "        self.is_leaf_placeholder = tf.placeholder(\n",
    "            tf.bool, (None), name='is_leaf_placeholder')\n",
    "        self.left_children_placeholder = tf.placeholder(\n",
    "            tf.int32, (None), name='left_children_placeholder')\n",
    "        self.right_children_placeholder = tf.placeholder(\n",
    "            tf.int32, (None), name='right_children_placeholder')\n",
    "        self.node_word_indices_placeholder = tf.placeholder(\n",
    "            tf.int32, (None), name='node_word_indices_placeholder')\n",
    "        self.labels_placeholder = tf.placeholder(\n",
    "            tf.int32, (None), name='labels_placeholder')\n",
    "        \n",
    "        # add model variables\n",
    "        with tf.variable_scope('Embeddings'):\n",
    "            embeddings = tf.get_variable('embeddings',\n",
    "                                         [len(self.vocab), self.config.embed_size])\n",
    "        with tf.variable_scope('Composition'):\n",
    "            W1 = tf.get_variable('W1',\n",
    "                                 [2 * self.config.embed_size, self.config.embed_size])\n",
    "            b1 = tf.get_variable('b1', [1, self.config.embed_size])\n",
    "        with tf.variable_scope('Projection'):\n",
    "            U = tf.get_variable('U', [self.config.embed_size, self.config.label_size])\n",
    "            bs = tf.get_variable('bs', [1, self.config.label_size])\n",
    "            \n",
    "        # build recursive graph\n",
    "        \n",
    "        tensor_array = tf.TensorArray(\n",
    "            tf.float32,\n",
    "            size=0,\n",
    "            dynamic_size=True,\n",
    "            clear_after_read=False,\n",
    "            infer_shape=False)\n",
    "        \n",
    "        def embed_word(word_index):\n",
    "            with tf.device('/cpu:0'):\n",
    "                return tf.expand_dims(tf.gather(embeddings, word_index), 0)\n",
    "\n",
    "    def combine_children(left_tensor, right_tensor):\n",
    "        return tf.nn.relu(tf.matmul(tf.concat([left_tensor, right_tensor],1), W1) + b1)\n",
    "    \n",
    "    def loop_body(tensor_array, i):\n",
    "        node_is_leaf = tf.gather(self.is_leaf_placeholder, i)\n",
    "        node_word_index = tf.gather(self.node_word_indices_placeholder, i)\n",
    "        left_child = tf.gather(self.left_children_placeholder, i)\n",
    "        right_child = tf.gather(self.right_children_placeholder, i)\n",
    "        print(left_child,\"left_child\")\n",
    "        node_tensor = tf.cond(\n",
    "            node_is_leaf,\n",
    "            lambda: embed_word(node_word_index),\n",
    "            lambda: combine_children(tensor_array.read(left_child),\n",
    "                                     tensor_array.read(right_child)))\n",
    "        tensor_array = tensor_array.write(i, node_tensor)\n",
    "        i = tf.add(i, 1)\n",
    "        return tensor_array, i\n",
    "    \n",
    "    loop_cond = lambda tensor_array, i: \\\n",
    "        tf.less(i, tf.squeeze(tf.shape(self.is_leaf_placeholder)))\n",
    "    self.tensor_array, _ = tf.while_loop(loop_cond, loop_body, [tensor_array, 0], parallel_iterations=1)\n",
    "    \n",
    "    # add projection layer\n",
    "    self.logits = tf.matmul(self.tensor_array.concat(), U) + bs\n",
    "    self.root_logits = tf.matmul(\n",
    "        self.tensor_array.read(self.tensor_array.size() - 1), U) + bs\n",
    "    self.root_prediction = tf.squeeze(tf.argmax(self.root_logits, 1))\n",
    "    \n",
    "    # add loss layer\n",
    "    regularization_loss = self.config.l2 * (\n",
    "        tf.nn.l2_loss(W1) + tf.nn.l2_loss(U))\n",
    "    included_indices = tf.where(tf.less(self.labels_placeholder, 2))\n",
    "    self.full_loss = regularization_loss + tf.reduce_sum(\n",
    "        tf.nn.sparse_softmax_cross_entropy_with_logits(\n",
    "            logits=tf.gather(self.logits, included_indices),labels=tf.gather(\n",
    "                self.labels_placeholder, included_indices)))\n",
    "    self.root_loss = tf.reduce_sum(\n",
    "        tf.nn.sparse_softmax_cross_entropy_with_logits(\n",
    "            logits=self.root_logits,labels=self.labels_placeholder[-1:]))\n",
    "    \n",
    "    # add training op\n",
    "    self.train_op = tf.train.GradientDescentOptimizer(self.config.lr).minimize(\n",
    "        self.full_loss)\n",
    "    \n",
    "    def build_feed_dict(self, node):\n",
    "        nodes_list = []\n",
    "        tree.leftTraverse(node, lambda node, args: args.append(node), nodes_list)\n",
    "        node_to_index = OrderedDict()\n",
    "        for i in xrange(len(nodes_list)):\n",
    "            node_to_index[nodes_list[i]] = i\n",
    "        feed_dict = {\n",
    "            self.is_leaf_placeholder: [node.isLeaf for node in nodes_list],\n",
    "            self.left_children_placeholder: [node_to_index[node.left] if\n",
    "                                             not node.isLeaf else -1\n",
    "                                             for node in nodes_list],\n",
    "            self.right_children_placeholder: [node_to_index[node.right] if\n",
    "                                              not node.isLeaf else -1\n",
    "                                              for node in nodes_list],\n",
    "            self.node_word_indices_placeholder: [self.vocab.encode(node.word) if\n",
    "                                                 node.word else -1\n",
    "                                                 for node in nodes_list],\n",
    "            self.labels_placeholder: [node.label for node in nodes_list]\n",
    "        }\n",
    "        return feed_dict\n",
    "    \n",
    "    def predict(self, trees, weights_path, get_loss=False):\n",
    "        \"\"\"Make predictions from the provided model.\"\"\"\n",
    "        results = []\n",
    "        losses = []\n",
    "        with tf.Session() as sess:\n",
    "            saver = tf.train.Saver()\n",
    "            saver.restore(sess, weights_path)\n",
    "            for tree in trees:\n",
    "                feed_dict = self.build_feed_dict(tree.root)\n",
    "                if get_loss:\n",
    "                    root_prediction, loss = sess.run(\n",
    "                        [self.root_prediction, self.root_loss], feed_dict=feed_dict)\n",
    "                    losses.append(loss)\n",
    "                else:\n",
    "                    root_prediction = sess.run(self.root_prediction, feed_dict=feed_dict)\n",
    "                    results.append(root_prediction)\n",
    "            return results, losses\n",
    "\n",
    "    def run_epoch(self, new_model=False, verbose=True):\n",
    "        loss_history = []\n",
    "        # training\n",
    "        random.shuffle(self.train_data)\n",
    "        with tf.Session() as sess:\n",
    "            if new_model:\n",
    "                sess.run(tf.initialize_all_variables())\n",
    "            else:\n",
    "                saver = tf.train.Saver()\n",
    "                saver.restore(sess, SAVE_DIR + '%s.temp' % self.config.model_name)\n",
    "            for step, tree in enumerate(self.train_data):\n",
    "                print(tree,\"tree\")\n",
    "                feed_dict = self.build_feed_dict(tree.root)\n",
    "                loss_value, _ = sess.run([self.full_loss, self.train_op],\n",
    "                                         feed_dict=feed_dict)\n",
    "                loss_history.append(loss_value)\n",
    "                if verbose:\n",
    "                    sys.stdout.write('\\r{} / {} :    loss = {}'.format(step, len(\n",
    "                        self.train_data), np.mean(loss_history)))\n",
    "                    sys.stdout.flush()\n",
    "                    saver = tf.train.Saver()\n",
    "                    if not os.path.exists(SAVE_DIR):\n",
    "                        os.makedirs(SAVE_DIR)\n",
    "                    saver.save(sess, SAVE_DIR + '%s.temp' % self.config.model_name)\n",
    "            # statistics\n",
    "            train_preds, _ = self.predict(self.train_data,\n",
    "                                          SAVE_DIR + '%s.temp' % self.config.model_name)\n",
    "            val_preds, val_losses = self.predict(\n",
    "                self.dev_data,\n",
    "                SAVE_DIR + '%s.temp' % self.config.model_name,\n",
    "                get_loss=True)\n",
    "            train_labels = [t.root.label for t in self.train_data]\n",
    "            val_labels = [t.root.label for t in self.dev_data]\n",
    "            train_acc = np.equal(train_preds, train_labels).mean()\n",
    "            val_acc = np.equal(val_preds, val_labels).mean()\n",
    "            \n",
    "            print()\n",
    "            print( 'Training acc (only root node): {}'.format(train_acc))\n",
    "            print( 'Valiation acc (only root node): {}'.format(val_acc))\n",
    "            print( self.make_conf(train_labels, train_preds))\n",
    "            print( self.make_conf(val_labels, val_preds))\n",
    "            return train_acc, val_acc, loss_history, np.mean(val_losses)\n",
    "\n",
    "    def train(self, verbose=True):\n",
    "        complete_loss_history = []\n",
    "        train_acc_history = []\n",
    "        val_acc_history = []\n",
    "        prev_epoch_loss = float('inf')\n",
    "        best_val_loss = float('inf')\n",
    "        best_val_epoch = 0\n",
    "        stopped = -1\n",
    "        for epoch in xrange(self.config.max_epochs):\n",
    "            print( 'epoch %d' % epoch)\n",
    "            if epoch == 0:\n",
    "                train_acc, val_acc, loss_history, val_loss = self.run_epoch(\n",
    "                    new_model=True)\n",
    "            else:\n",
    "                train_acc, val_acc, loss_history, val_loss = self.run_epoch()\n",
    "            complete_loss_history.extend(loss_history)\n",
    "            train_acc_history.append(train_acc)\n",
    "            val_acc_history.append(val_acc)\n",
    "            #lr annealing\n",
    "            epoch_loss = np.mean(loss_history)\n",
    "            if epoch_loss > prev_epoch_loss * self.config.anneal_threshold:\n",
    "                self.config.lr /= self.config.anneal_by\n",
    "                print( 'annealed lr to %f' % self.config.lr)\n",
    "            prev_epoch_loss = epoch_loss\n",
    "\n",
    "        #save if model has improved on val\n",
    "        if val_loss < best_val_loss:\n",
    "            shutil.copyfile(SAVE_DIR + '%s.temp' % self.config.model_name,\n",
    "                            SAVE_DIR + '%s' % self.config.model_name)\n",
    "            best_val_loss = val_loss\n",
    "            best_val_epoch = epoch\n",
    "\n",
    "        # if model has not imprvoved for a while stop\n",
    "        if epoch - best_val_epoch > self.config.early_stopping:\n",
    "            stopped = epoch\n",
    "            #break\n",
    "        if verbose:\n",
    "            sys.stdout.write('\\r')\n",
    "            sys.stdout.flush()\n",
    "\n",
    "        print( '\\n\\nstopped at %d\\n' % stopped)\n",
    "        return {\n",
    "            'loss_history': complete_loss_history,\n",
    "            'train_acc_history': train_acc_history,\n",
    "            'val_acc_history': val_acc_history,\n",
    "        }\n",
    "\n",
    "    def make_conf(self, labels, predictions):\n",
    "        confmat = np.zeros([2, 2])\n",
    "        for l, p in itertools.izip(labels, predictions):\n",
    "            confmat[l, p] += 1\n",
    "        return confmat\n",
    "\n",
    "def plot_loss_history(stats):\n",
    "    plt.plot(stats['loss_history'])\n",
    "    plt.title('Loss history')\n",
    "    plt.xlabel('Iteration')\n",
    "    plt.ylabel('Loss')\n",
    "    plt.savefig('loss_history.png')\n",
    "    plt.show()\n",
    "\n",
    "\n",
    "def test_RNN():\n",
    "    \"\"\"Test RNN model implementation.\n",
    "    \"\"\"\n",
    "    config = Config()\n",
    "    model = RecursiveNetStaticGraph(config)\n",
    "    #graph_def = tf.get_default_graph().as_graph_def()\n",
    "    #with open('static_graph.pb', 'wb') as f:\n",
    "    #  f.write(graph_def.SerializeToString())\n",
    "    \n",
    "    start_time = time.time()\n",
    "    stats = model.train(verbose=True)\n",
    "    print( 'Training time: {}'.format(time.time() - start_time))\n",
    "    \n",
    "    plot_loss_history(stats)\n",
    "    \n",
    "    start_time = time.time()\n",
    "    val_preds, val_losses = model.predict(\n",
    "        model.dev_data,\n",
    "        SAVE_DIR + '%s.temp' % model.config.model_name,\n",
    "        get_loss=True)\n",
    "    \n",
    "    val_labels = [t.root.label for t in model.dev_data]\n",
    "    val_acc = np.equal(val_preds, val_labels).mean()\n",
    "    print( val_acc)\n",
    "    \n",
    "    print( '-' * 20)\n",
    "    print( 'Test')\n",
    "    predictions, _ = model.predict(model.test_data,\n",
    "                                   SAVE_DIR + '%s.temp' % model.config.model_name)\n",
    "    labels = [t.root.label for t in model.test_data]\n",
    "    print(model.make_conf(labels, predictions))\n",
    "    test_acc = np.equal(predictions, labels).mean()\n",
    "    print('Test acc: {}'.format(test_acc))\n",
    "    print('Inference time, dev+test: {}'.format(time.time() - start_time))\n",
    "    print('-' * 20)\n",
    "    \n",
    "    if __name__ == '__main__':\n",
    "        test_RNN()\n",
    "  # train()"
   ]
  },
  {
   "cell_type": "code",
   "execution_count": 15,
   "id": "75aec0cd",
   "metadata": {},
   "outputs": [],
   "source": [
    "vocab = {'the': 0, 'old': 1, 'cat': 2}\n",
    "node_words = ['the', 'old', 'cat', '', '']\n",
    "is_leaf = [True, True, True, False, False]\n",
    "left_children = [-1, -1, -1, 1, 0]   # indices of left children nodes in this list\n",
    "right_children = [-1, -1, -1, 2, 3]  # indices of right children nodes in this list\n",
    "\n",
    "node_word_indices = [vocab[word] if word else -1 for word in node_words]"
   ]
  },
  {
   "cell_type": "code",
   "execution_count": 20,
   "id": "6da1ed8c",
   "metadata": {},
   "outputs": [
    {
     "ename": "NameError",
     "evalue": "name 'embeddings' is not defined",
     "output_type": "error",
     "traceback": [
      "\u001b[0;31m---------------------------------------------------------------------------\u001b[0m",
      "\u001b[0;31mNameError\u001b[0m                                 Traceback (most recent call last)",
      "Input \u001b[0;32mIn [20]\u001b[0m, in \u001b[0;36m<cell line: 28>\u001b[0;34m()\u001b[0m\n\u001b[1;32m     23\u001b[0m     \u001b[38;5;28;01mreturn\u001b[39;00m node_tensors, i\n\u001b[1;32m     25\u001b[0m loop_cond \u001b[38;5;241m=\u001b[39m \u001b[38;5;28;01mlambda\u001b[39;00m node_tensors, i: \\\n\u001b[1;32m     26\u001b[0m         tf\u001b[38;5;241m.\u001b[39mless(i, tf\u001b[38;5;241m.\u001b[39msqueeze(tf\u001b[38;5;241m.\u001b[39mshape(is_leaf)))\n\u001b[0;32m---> 28\u001b[0m node_tensors, _ \u001b[38;5;241m=\u001b[39m \u001b[43mtf\u001b[49m\u001b[38;5;241;43m.\u001b[39;49m\u001b[43mwhile_loop\u001b[49m\u001b[43m(\u001b[49m\u001b[43mloop_cond\u001b[49m\u001b[43m,\u001b[49m\u001b[43m \u001b[49m\u001b[43mloop_body\u001b[49m\u001b[43m,\u001b[49m\u001b[43m \u001b[49m\u001b[43m[\u001b[49m\u001b[43mnode_tensors\u001b[49m\u001b[43m,\u001b[49m\u001b[43m \u001b[49m\u001b[38;5;241;43m0\u001b[39;49m\u001b[43m]\u001b[49m\u001b[43m,\u001b[49m\n\u001b[1;32m     29\u001b[0m \u001b[43m                                     \u001b[49m\u001b[43mparallel_iterations\u001b[49m\u001b[38;5;241;43m=\u001b[39;49m\u001b[38;5;241;43m1\u001b[39;49m\u001b[43m)\u001b[49m\n",
      "File \u001b[0;32m/usr/local/lib/python3.10/dist-packages/tensorflow/python/util/deprecation.py:629\u001b[0m, in \u001b[0;36mdeprecated_arg_values.<locals>.deprecated_wrapper.<locals>.new_func\u001b[0;34m(*args, **kwargs)\u001b[0m\n\u001b[1;32m    622\u001b[0m           _PRINTED_WARNING[(func, arg_name)] \u001b[38;5;241m=\u001b[39m \u001b[38;5;28;01mTrue\u001b[39;00m\n\u001b[1;32m    623\u001b[0m         logging\u001b[38;5;241m.\u001b[39mwarning(\n\u001b[1;32m    624\u001b[0m             \u001b[38;5;124m'\u001b[39m\u001b[38;5;124mFrom \u001b[39m\u001b[38;5;132;01m%s\u001b[39;00m\u001b[38;5;124m: calling \u001b[39m\u001b[38;5;132;01m%s\u001b[39;00m\u001b[38;5;124m (from \u001b[39m\u001b[38;5;132;01m%s\u001b[39;00m\u001b[38;5;124m) with \u001b[39m\u001b[38;5;132;01m%s\u001b[39;00m\u001b[38;5;124m=\u001b[39m\u001b[38;5;132;01m%s\u001b[39;00m\u001b[38;5;124m is deprecated and \u001b[39m\u001b[38;5;124m'\u001b[39m\n\u001b[1;32m    625\u001b[0m             \u001b[38;5;124m'\u001b[39m\u001b[38;5;124mwill be removed \u001b[39m\u001b[38;5;132;01m%s\u001b[39;00m\u001b[38;5;124m.\u001b[39m\u001b[38;5;130;01m\\n\u001b[39;00m\u001b[38;5;124mInstructions for updating:\u001b[39m\u001b[38;5;130;01m\\n\u001b[39;00m\u001b[38;5;132;01m%s\u001b[39;00m\u001b[38;5;124m'\u001b[39m,\n\u001b[1;32m    626\u001b[0m             _call_location(), decorator_utils\u001b[38;5;241m.\u001b[39mget_qualified_name(func),\n\u001b[1;32m    627\u001b[0m             func\u001b[38;5;241m.\u001b[39m\u001b[38;5;18m__module__\u001b[39m, arg_name, arg_value, \u001b[38;5;124m'\u001b[39m\u001b[38;5;124min a future version\u001b[39m\u001b[38;5;124m'\u001b[39m\n\u001b[1;32m    628\u001b[0m             \u001b[38;5;28;01mif\u001b[39;00m date \u001b[38;5;129;01mis\u001b[39;00m \u001b[38;5;28;01mNone\u001b[39;00m \u001b[38;5;28;01melse\u001b[39;00m (\u001b[38;5;124m'\u001b[39m\u001b[38;5;124mafter \u001b[39m\u001b[38;5;132;01m%s\u001b[39;00m\u001b[38;5;124m'\u001b[39m \u001b[38;5;241m%\u001b[39m date), instructions)\n\u001b[0;32m--> 629\u001b[0m \u001b[38;5;28;01mreturn\u001b[39;00m \u001b[43mfunc\u001b[49m\u001b[43m(\u001b[49m\u001b[38;5;241;43m*\u001b[39;49m\u001b[43margs\u001b[49m\u001b[43m,\u001b[49m\u001b[43m \u001b[49m\u001b[38;5;241;43m*\u001b[39;49m\u001b[38;5;241;43m*\u001b[39;49m\u001b[43mkwargs\u001b[49m\u001b[43m)\u001b[49m\n",
      "File \u001b[0;32m/usr/local/lib/python3.10/dist-packages/tensorflow/python/ops/control_flow_ops.py:2513\u001b[0m, in \u001b[0;36mwhile_loop_v2\u001b[0;34m(cond, body, loop_vars, shape_invariants, parallel_iterations, back_prop, swap_memory, maximum_iterations, name)\u001b[0m\n\u001b[1;32m   2337\u001b[0m \u001b[38;5;129m@tf_export\u001b[39m(\u001b[38;5;124m\"\u001b[39m\u001b[38;5;124mwhile_loop\u001b[39m\u001b[38;5;124m\"\u001b[39m, v1\u001b[38;5;241m=\u001b[39m[])\n\u001b[1;32m   2338\u001b[0m \u001b[38;5;129m@deprecation\u001b[39m\u001b[38;5;241m.\u001b[39mdeprecated_arg_values(\n\u001b[1;32m   2339\u001b[0m     \u001b[38;5;28;01mNone\u001b[39;00m,\n\u001b[0;32m   (...)\u001b[0m\n\u001b[1;32m   2354\u001b[0m                   maximum_iterations\u001b[38;5;241m=\u001b[39m\u001b[38;5;28;01mNone\u001b[39;00m,\n\u001b[1;32m   2355\u001b[0m                   name\u001b[38;5;241m=\u001b[39m\u001b[38;5;28;01mNone\u001b[39;00m):\n\u001b[1;32m   2356\u001b[0m   \u001b[38;5;124;03m\"\"\"Repeat `body` while the condition `cond` is true.\u001b[39;00m\n\u001b[1;32m   2357\u001b[0m \n\u001b[1;32m   2358\u001b[0m \u001b[38;5;124;03m  `cond` is a callable returning a boolean scalar tensor. `body` is a callable\u001b[39;00m\n\u001b[0;32m   (...)\u001b[0m\n\u001b[1;32m   2511\u001b[0m \n\u001b[1;32m   2512\u001b[0m \u001b[38;5;124;03m  \"\"\"\u001b[39;00m\n\u001b[0;32m-> 2513\u001b[0m   \u001b[38;5;28;01mreturn\u001b[39;00m \u001b[43mwhile_loop\u001b[49m\u001b[43m(\u001b[49m\n\u001b[1;32m   2514\u001b[0m \u001b[43m      \u001b[49m\u001b[43mcond\u001b[49m\u001b[38;5;241;43m=\u001b[39;49m\u001b[43mcond\u001b[49m\u001b[43m,\u001b[49m\n\u001b[1;32m   2515\u001b[0m \u001b[43m      \u001b[49m\u001b[43mbody\u001b[49m\u001b[38;5;241;43m=\u001b[39;49m\u001b[43mbody\u001b[49m\u001b[43m,\u001b[49m\n\u001b[1;32m   2516\u001b[0m \u001b[43m      \u001b[49m\u001b[43mloop_vars\u001b[49m\u001b[38;5;241;43m=\u001b[39;49m\u001b[43mloop_vars\u001b[49m\u001b[43m,\u001b[49m\n\u001b[1;32m   2517\u001b[0m \u001b[43m      \u001b[49m\u001b[43mshape_invariants\u001b[49m\u001b[38;5;241;43m=\u001b[39;49m\u001b[43mshape_invariants\u001b[49m\u001b[43m,\u001b[49m\n\u001b[1;32m   2518\u001b[0m \u001b[43m      \u001b[49m\u001b[43mparallel_iterations\u001b[49m\u001b[38;5;241;43m=\u001b[39;49m\u001b[43mparallel_iterations\u001b[49m\u001b[43m,\u001b[49m\n\u001b[1;32m   2519\u001b[0m \u001b[43m      \u001b[49m\u001b[43mback_prop\u001b[49m\u001b[38;5;241;43m=\u001b[39;49m\u001b[43mback_prop\u001b[49m\u001b[43m,\u001b[49m\n\u001b[1;32m   2520\u001b[0m \u001b[43m      \u001b[49m\u001b[43mswap_memory\u001b[49m\u001b[38;5;241;43m=\u001b[39;49m\u001b[43mswap_memory\u001b[49m\u001b[43m,\u001b[49m\n\u001b[1;32m   2521\u001b[0m \u001b[43m      \u001b[49m\u001b[43mname\u001b[49m\u001b[38;5;241;43m=\u001b[39;49m\u001b[43mname\u001b[49m\u001b[43m,\u001b[49m\n\u001b[1;32m   2522\u001b[0m \u001b[43m      \u001b[49m\u001b[43mmaximum_iterations\u001b[49m\u001b[38;5;241;43m=\u001b[39;49m\u001b[43mmaximum_iterations\u001b[49m\u001b[43m,\u001b[49m\n\u001b[1;32m   2523\u001b[0m \u001b[43m      \u001b[49m\u001b[43mreturn_same_structure\u001b[49m\u001b[38;5;241;43m=\u001b[39;49m\u001b[38;5;28;43;01mTrue\u001b[39;49;00m\u001b[43m)\u001b[49m\n",
      "File \u001b[0;32m/usr/local/lib/python3.10/dist-packages/tensorflow/python/ops/control_flow_ops.py:2762\u001b[0m, in \u001b[0;36mwhile_loop\u001b[0;34m(cond, body, loop_vars, shape_invariants, parallel_iterations, back_prop, swap_memory, name, maximum_iterations, return_same_structure)\u001b[0m\n\u001b[1;32m   2759\u001b[0m loop_var_structure \u001b[38;5;241m=\u001b[39m nest\u001b[38;5;241m.\u001b[39mmap_structure(type_spec\u001b[38;5;241m.\u001b[39mtype_spec_from_value,\n\u001b[1;32m   2760\u001b[0m                                         \u001b[38;5;28mlist\u001b[39m(loop_vars))\n\u001b[1;32m   2761\u001b[0m \u001b[38;5;28;01mwhile\u001b[39;00m cond(\u001b[38;5;241m*\u001b[39mloop_vars):\n\u001b[0;32m-> 2762\u001b[0m   loop_vars \u001b[38;5;241m=\u001b[39m \u001b[43mbody\u001b[49m\u001b[43m(\u001b[49m\u001b[38;5;241;43m*\u001b[39;49m\u001b[43mloop_vars\u001b[49m\u001b[43m)\u001b[49m\n\u001b[1;32m   2763\u001b[0m   \u001b[38;5;28;01mif\u001b[39;00m try_to_pack \u001b[38;5;129;01mand\u001b[39;00m \u001b[38;5;129;01mnot\u001b[39;00m \u001b[38;5;28misinstance\u001b[39m(loop_vars, (\u001b[38;5;28mlist\u001b[39m, _basetuple)):\n\u001b[1;32m   2764\u001b[0m     packed \u001b[38;5;241m=\u001b[39m \u001b[38;5;28;01mTrue\u001b[39;00m\n",
      "Input \u001b[0;32mIn [20]\u001b[0m, in \u001b[0;36mloop_body\u001b[0;34m(node_tensors, i)\u001b[0m\n\u001b[1;32m     14\u001b[0m left_child \u001b[38;5;241m=\u001b[39m tf\u001b[38;5;241m.\u001b[39mgather(left_children, i)\n\u001b[1;32m     15\u001b[0m right_child \u001b[38;5;241m=\u001b[39m tf\u001b[38;5;241m.\u001b[39mgather(right_children, i)\n\u001b[0;32m---> 16\u001b[0m node_tensor \u001b[38;5;241m=\u001b[39m \u001b[43mtf\u001b[49m\u001b[38;5;241;43m.\u001b[39;49m\u001b[43mcond\u001b[49m\u001b[43m(\u001b[49m\n\u001b[1;32m     17\u001b[0m \u001b[43m    \u001b[49m\u001b[43mnode_is_leaf\u001b[49m\u001b[43m,\u001b[49m\n\u001b[1;32m     18\u001b[0m \u001b[43m    \u001b[49m\u001b[38;5;28;43;01mlambda\u001b[39;49;00m\u001b[43m:\u001b[49m\u001b[43m \u001b[49m\u001b[43membed_word\u001b[49m\u001b[43m(\u001b[49m\u001b[43mnode_word_index\u001b[49m\u001b[43m)\u001b[49m\u001b[43m,\u001b[49m\n\u001b[1;32m     19\u001b[0m \u001b[43m    \u001b[49m\u001b[38;5;28;43;01mlambda\u001b[39;49;00m\u001b[43m:\u001b[49m\u001b[43m \u001b[49m\u001b[43mcombine_children\u001b[49m\u001b[43m(\u001b[49m\u001b[43mnode_tensors\u001b[49m\u001b[38;5;241;43m.\u001b[39;49m\u001b[43mread\u001b[49m\u001b[43m(\u001b[49m\u001b[43mleft_child\u001b[49m\u001b[43m)\u001b[49m\u001b[43m,\u001b[49m\n\u001b[1;32m     20\u001b[0m \u001b[43m                             \u001b[49m\u001b[43mnode_tensors\u001b[49m\u001b[38;5;241;43m.\u001b[39;49m\u001b[43mread\u001b[49m\u001b[43m(\u001b[49m\u001b[43mright_child\u001b[49m\u001b[43m)\u001b[49m\u001b[43m)\u001b[49m\u001b[43m)\u001b[49m\n\u001b[1;32m     21\u001b[0m node_tensors \u001b[38;5;241m=\u001b[39m node_tensors\u001b[38;5;241m.\u001b[39mwrite(i, node_tensor)\n\u001b[1;32m     22\u001b[0m i \u001b[38;5;241m=\u001b[39m tf\u001b[38;5;241m.\u001b[39madd(i, \u001b[38;5;241m1\u001b[39m)\n",
      "File \u001b[0;32m/usr/local/lib/python3.10/dist-packages/tensorflow/python/util/traceback_utils.py:153\u001b[0m, in \u001b[0;36mfilter_traceback.<locals>.error_handler\u001b[0;34m(*args, **kwargs)\u001b[0m\n\u001b[1;32m    151\u001b[0m \u001b[38;5;28;01mexcept\u001b[39;00m \u001b[38;5;167;01mException\u001b[39;00m \u001b[38;5;28;01mas\u001b[39;00m e:\n\u001b[1;32m    152\u001b[0m   filtered_tb \u001b[38;5;241m=\u001b[39m _process_traceback_frames(e\u001b[38;5;241m.\u001b[39m__traceback__)\n\u001b[0;32m--> 153\u001b[0m   \u001b[38;5;28;01mraise\u001b[39;00m e\u001b[38;5;241m.\u001b[39mwith_traceback(filtered_tb) \u001b[38;5;28;01mfrom\u001b[39;00m \u001b[38;5;28mNone\u001b[39m\n\u001b[1;32m    154\u001b[0m \u001b[38;5;28;01mfinally\u001b[39;00m:\n\u001b[1;32m    155\u001b[0m   \u001b[38;5;28;01mdel\u001b[39;00m filtered_tb\n",
      "Input \u001b[0;32mIn [20]\u001b[0m, in \u001b[0;36mloop_body.<locals>.<lambda>\u001b[0;34m()\u001b[0m\n\u001b[1;32m     14\u001b[0m left_child \u001b[38;5;241m=\u001b[39m tf\u001b[38;5;241m.\u001b[39mgather(left_children, i)\n\u001b[1;32m     15\u001b[0m right_child \u001b[38;5;241m=\u001b[39m tf\u001b[38;5;241m.\u001b[39mgather(right_children, i)\n\u001b[1;32m     16\u001b[0m node_tensor \u001b[38;5;241m=\u001b[39m tf\u001b[38;5;241m.\u001b[39mcond(\n\u001b[1;32m     17\u001b[0m     node_is_leaf,\n\u001b[0;32m---> 18\u001b[0m     \u001b[38;5;28;01mlambda\u001b[39;00m: \u001b[43membed_word\u001b[49m\u001b[43m(\u001b[49m\u001b[43mnode_word_index\u001b[49m\u001b[43m)\u001b[49m,\n\u001b[1;32m     19\u001b[0m     \u001b[38;5;28;01mlambda\u001b[39;00m: combine_children(node_tensors\u001b[38;5;241m.\u001b[39mread(left_child),\n\u001b[1;32m     20\u001b[0m                              node_tensors\u001b[38;5;241m.\u001b[39mread(right_child)))\n\u001b[1;32m     21\u001b[0m node_tensors \u001b[38;5;241m=\u001b[39m node_tensors\u001b[38;5;241m.\u001b[39mwrite(i, node_tensor)\n\u001b[1;32m     22\u001b[0m i \u001b[38;5;241m=\u001b[39m tf\u001b[38;5;241m.\u001b[39madd(i, \u001b[38;5;241m1\u001b[39m)\n",
      "Input \u001b[0;32mIn [20]\u001b[0m, in \u001b[0;36membed_word\u001b[0;34m(word_index)\u001b[0m\n\u001b[1;32m      4\u001b[0m \u001b[38;5;28;01mdef\u001b[39;00m \u001b[38;5;21membed_word\u001b[39m(word_index):\n\u001b[1;32m      5\u001b[0m     \u001b[38;5;28;01mwith\u001b[39;00m tf\u001b[38;5;241m.\u001b[39mdevice(\u001b[38;5;124m'\u001b[39m\u001b[38;5;124m/cpu:0\u001b[39m\u001b[38;5;124m'\u001b[39m):\n\u001b[0;32m----> 6\u001b[0m         \u001b[38;5;28;01mreturn\u001b[39;00m tf\u001b[38;5;241m.\u001b[39mexpand_dims(tf\u001b[38;5;241m.\u001b[39mgather(\u001b[43membeddings\u001b[49m, word_index), \u001b[38;5;241m0\u001b[39m)\n",
      "\u001b[0;31mNameError\u001b[0m: name 'embeddings' is not defined"
     ]
    }
   ],
   "source": [
    "node_tensors = tf.TensorArray(tf.float32, size=0, dynamic_size=True,\n",
    "                              clear_after_read=False, infer_shape=False)\n",
    "\n",
    "def embed_word(word_index):\n",
    "    with tf.device('/cpu:0'):\n",
    "        return tf.expand_dims(tf.gather(embeddings, word_index), 0)\n",
    "\n",
    "def combine_children(left_tensor, right_tensor):\n",
    "    return tf.nn.relu(tf.matmul(tf.concat(1, [left_tensor, right_tensor]), W1) + b1)\n",
    "\n",
    "def loop_body(node_tensors, i):\n",
    "    node_is_leaf = tf.gather(is_leaf, i)\n",
    "    node_word_index = tf.gather(node_word_indices, i)\n",
    "    left_child = tf.gather(left_children, i)\n",
    "    right_child = tf.gather(right_children, i)\n",
    "    node_tensor = tf.cond(\n",
    "        node_is_leaf,\n",
    "        lambda: embed_word(node_word_index),\n",
    "        lambda: combine_children(node_tensors.read(left_child),\n",
    "                                 node_tensors.read(right_child)))\n",
    "    node_tensors = node_tensors.write(i, node_tensor)\n",
    "    i = tf.add(i, 1)\n",
    "    return node_tensors, i\n",
    "\n",
    "loop_cond = lambda node_tensors, i: \\\n",
    "        tf.less(i, tf.squeeze(tf.shape(is_leaf)))\n",
    "\n",
    "node_tensors, _ = tf.while_loop(loop_cond, loop_body, [node_tensors, 0],\n",
    "                                     parallel_iterations=1)"
   ]
  },
  {
   "cell_type": "code",
   "execution_count": 3,
   "id": "281add89",
   "metadata": {},
   "outputs": [
    {
     "ename": "ImportError",
     "evalue": "cannot import name 'Embedding' from 'keras' (/usr/local/lib/python3.10/dist-packages/keras/__init__.py)",
     "output_type": "error",
     "traceback": [
      "\u001b[0;31m---------------------------------------------------------------------------\u001b[0m",
      "\u001b[0;31mImportError\u001b[0m                               Traceback (most recent call last)",
      "Input \u001b[0;32mIn [3]\u001b[0m, in \u001b[0;36m<cell line: 1>\u001b[0;34m()\u001b[0m\n\u001b[0;32m----> 1\u001b[0m \u001b[38;5;28;01mfrom\u001b[39;00m \u001b[38;5;21;01mkeras\u001b[39;00m \u001b[38;5;28;01mimport\u001b[39;00m Embedding \u001b[38;5;28;01mas\u001b[39;00m embedding\n",
      "\u001b[0;31mImportError\u001b[0m: cannot import name 'Embedding' from 'keras' (/usr/local/lib/python3.10/dist-packages/keras/__init__.py)"
     ]
    }
   ],
   "source": [
    "from keras import Embedding as embedding"
   ]
  },
  {
   "cell_type": "code",
   "execution_count": null,
   "id": "e5b5c031",
   "metadata": {},
   "outputs": [],
   "source": []
  }
 ],
 "metadata": {
  "kernelspec": {
   "display_name": "Python 3 (ipykernel)",
   "language": "python",
   "name": "python3"
  },
  "language_info": {
   "codemirror_mode": {
    "name": "ipython",
    "version": 3
   },
   "file_extension": ".py",
   "mimetype": "text/x-python",
   "name": "python",
   "nbconvert_exporter": "python",
   "pygments_lexer": "ipython3",
   "version": "3.9.12"
  }
 },
 "nbformat": 4,
 "nbformat_minor": 5
}
