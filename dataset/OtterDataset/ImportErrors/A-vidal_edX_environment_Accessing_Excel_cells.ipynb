{
 "cells": [
  {
   "cell_type": "code",
   "execution_count": 20,
   "id": "0e57aa4a",
   "metadata": {},
   "outputs": [],
   "source": [
    "import xlrd\n",
    "import lxml\n",
    "from pathlib import Path"
   ]
  },
  {
   "cell_type": "code",
   "execution_count": 2,
   "id": "1235150b",
   "metadata": {},
   "outputs": [],
   "source": [
    "from xnf2edx.consts import (\n",
    "    CDATOSGENERALESSHEET,\n",
    "    CDATOSGENERALESNOMBREPOS,\n",
    ")\n",
    "from xnf2edx.utils import get_sheet_from_row"
   ]
  },
  {
   "cell_type": "code",
   "execution_count": 3,
   "id": "0102e1eb",
   "metadata": {},
   "outputs": [],
   "source": [
    "XNF_PATH = Path(\".\").absolute().joinpath(\"data\", \"input\", \"english_xnf2.xlsm\")"
   ]
  },
  {
   "cell_type": "code",
   "execution_count": 4,
   "id": "0bc613a0",
   "metadata": {},
   "outputs": [],
   "source": [
    "# Global variables\n",
    "path = \"\"\n",
    "problemSetID = 1\n",
    "stufftoreturn = {\"path\": \"\", \"coursename\": \"\", \"log\": \"\", \"error\": \"\"}\n",
    "\n",
    "# Some config to avoid unexpected behaviour\n",
    "xlrd.xlsx.ensure_elementtree_imported(False, None)\n",
    "xlrd.xlsx.Element_has_iter = True"
   ]
  },
  {
   "cell_type": "code",
   "execution_count": 5,
   "id": "d7584ff9",
   "metadata": {},
   "outputs": [],
   "source": [
    "wb = xlrd.open_workbook(XNF_PATH)"
   ]
  },
  {
   "cell_type": "code",
   "execution_count": 6,
   "id": "e85030ee",
   "metadata": {},
   "outputs": [
    {
     "data": {
      "text/plain": [
       "'plantillaXNF'"
      ]
     },
     "execution_count": 6,
     "metadata": {},
     "output_type": "execute_result"
    }
   ],
   "source": [
    "sheet = wb.sheet_by_name(\"GeneralData\")\n",
    "sheet.cell_value(1, 0)"
   ]
  },
  {
   "cell_type": "code",
   "execution_count": 7,
   "id": "a1447e27",
   "metadata": {},
   "outputs": [
    {
     "data": {
      "text/plain": [
       "'Authors'"
      ]
     },
     "execution_count": 7,
     "metadata": {},
     "output_type": "execute_result"
    }
   ],
   "source": [
    "sheet.cell_value(2, 0)"
   ]
  },
  {
   "cell_type": "code",
   "execution_count": 8,
   "id": "b1e30828",
   "metadata": {},
   "outputs": [
    {
     "data": {
      "text/plain": [
       "'About page video'"
      ]
     },
     "execution_count": 8,
     "metadata": {},
     "output_type": "execute_result"
    }
   ],
   "source": [
    "sheet.cell_value(2, 1)"
   ]
  },
  {
   "cell_type": "markdown",
   "id": "a72bb4ec",
   "metadata": {},
   "source": [
    "### Get conf values"
   ]
  },
  {
   "cell_type": "code",
   "execution_count": 9,
   "id": "42ba0fa9",
   "metadata": {},
   "outputs": [
    {
     "name": "stdout",
     "output_type": "stream",
     "text": [
      "Content of cell: DatosGenerales\n",
      "Content of cell: GeneralData\n"
     ]
    },
    {
     "data": {
      "text/plain": [
       "<xlrd.sheet.Sheet at 0x7fed4c52ef80>"
      ]
     },
     "execution_count": 9,
     "metadata": {},
     "output_type": "execute_result"
    }
   ],
   "source": [
    "get_sheet_from_row(wb, 2)"
   ]
  },
  {
   "cell_type": "code",
   "execution_count": 10,
   "id": "d390fbda",
   "metadata": {},
   "outputs": [],
   "source": [
    "def get_all_row_values(sheet, row):\n",
    "    content = []\n",
    "    for col in range(sheet.ncols):\n",
    "        aux = sheet.cell_value(row, col)\n",
    "        print(f\"Content of cell: {aux}\")\n",
    "        content.append(aux)\n",
    "    content = list(filter(lambda x: x.strip() != \"\", content))\n",
    "    return content"
   ]
  },
  {
   "cell_type": "code",
   "execution_count": 11,
   "id": "2b675f39",
   "metadata": {},
   "outputs": [],
   "source": [
    "conf_sheet = wb.sheet_by_name(\"conf\")"
   ]
  },
  {
   "cell_type": "code",
   "execution_count": 12,
   "id": "7dae8b1b",
   "metadata": {},
   "outputs": [
    {
     "data": {
      "text/plain": [
       "0.5"
      ]
     },
     "execution_count": 12,
     "metadata": {},
     "output_type": "execute_result"
    }
   ],
   "source": [
    "VERSION = conf_sheet.cell_value(0, 1)\n",
    "VERSION"
   ]
  },
  {
   "cell_type": "code",
   "execution_count": 13,
   "id": "efa997e6",
   "metadata": {
    "scrolled": true
   },
   "outputs": [
    {
     "name": "stdout",
     "output_type": "stream",
     "text": [
      "Content of cell: DatosGenerales\n",
      "Content of cell: GeneralData\n"
     ]
    },
    {
     "data": {
      "text/plain": [
       "['DatosGenerales', 'GeneralData']"
      ]
     },
     "execution_count": 13,
     "metadata": {},
     "output_type": "execute_result"
    }
   ],
   "source": [
    "DATOS_GENERALES = get_all_row_values(conf_sheet, 2)\n",
    "DATOS_GENERALES"
   ]
  },
  {
   "cell_type": "code",
   "execution_count": 14,
   "id": "a8274359",
   "metadata": {},
   "outputs": [
    {
     "name": "stdout",
     "output_type": "stream",
     "text": [
      "Content of cell: Certificados\n",
      "Content of cell: Certificates\n"
     ]
    },
    {
     "data": {
      "text/plain": [
       "['Certificados', 'Certificates']"
      ]
     },
     "execution_count": 14,
     "metadata": {},
     "output_type": "execute_result"
    }
   ],
   "source": [
    "CERTIFICADOS = get_all_row_values(conf_sheet, 3)\n",
    "CERTIFICADOS"
   ]
  },
  {
   "cell_type": "code",
   "execution_count": 15,
   "id": "bdcd34e6",
   "metadata": {},
   "outputs": [
    {
     "name": "stdout",
     "output_type": "stream",
     "text": [
      "Content of cell: TipodeTarea\n",
      "Content of cell: TaskType\n"
     ]
    },
    {
     "data": {
      "text/plain": [
       "['TipodeTarea', 'TaskType']"
      ]
     },
     "execution_count": 15,
     "metadata": {},
     "output_type": "execute_result"
    }
   ],
   "source": [
    "TIPO_TAREA = get_all_row_values(conf_sheet, 4)\n",
    "TIPO_TAREA"
   ]
  },
  {
   "cell_type": "code",
   "execution_count": 16,
   "id": "91217cf4",
   "metadata": {},
   "outputs": [
    {
     "name": "stdout",
     "output_type": "stream",
     "text": [
      "Content of cell: Certificados\n",
      "Content of cell: Certificates\n"
     ]
    },
    {
     "data": {
      "text/plain": [
       "['Certificados', 'Certificates']"
      ]
     },
     "execution_count": 16,
     "metadata": {},
     "output_type": "execute_result"
    }
   ],
   "source": [
    "CERTIFICADOS = get_all_row_values(conf_sheet, 3)\n",
    "CERTIFICADOS"
   ]
  },
  {
   "cell_type": "code",
   "execution_count": 17,
   "id": "5f894a99",
   "metadata": {},
   "outputs": [
    {
     "name": "stdout",
     "output_type": "stream",
     "text": [
      "Content of cell: Certificados\n",
      "Content of cell: Certificates\n"
     ]
    },
    {
     "data": {
      "text/plain": [
       "['Certificados', 'Certificates']"
      ]
     },
     "execution_count": 17,
     "metadata": {},
     "output_type": "execute_result"
    }
   ],
   "source": [
    "CERTIFICADOS = get_all_row_values(conf_sheet, 3)\n",
    "CERTIFICADOS"
   ]
  },
  {
   "cell_type": "code",
   "execution_count": 18,
   "id": "820ec072",
   "metadata": {},
   "outputs": [
    {
     "name": "stdout",
     "output_type": "stream",
     "text": [
      "Content of cell: Certificados\n",
      "Content of cell: Certificates\n"
     ]
    },
    {
     "data": {
      "text/plain": [
       "['Certificados', 'Certificates']"
      ]
     },
     "execution_count": 18,
     "metadata": {},
     "output_type": "execute_result"
    }
   ],
   "source": [
    "CERTIFICADOS = get_all_row_values(conf_sheet, 3)\n",
    "CERTIFICADOS"
   ]
  },
  {
   "cell_type": "code",
   "execution_count": 19,
   "id": "3dead086",
   "metadata": {},
   "outputs": [
    {
     "name": "stdout",
     "output_type": "stream",
     "text": [
      "Content of cell: Certificados\n",
      "Content of cell: Certificates\n"
     ]
    },
    {
     "data": {
      "text/plain": [
       "['Certificados', 'Certificates']"
      ]
     },
     "execution_count": 19,
     "metadata": {},
     "output_type": "execute_result"
    }
   ],
   "source": [
    "CERTIFICADOS = get_all_row_values(conf_sheet, 3)\n",
    "CERTIFICADOS"
   ]
  },
  {
   "cell_type": "code",
   "execution_count": 21,
   "id": "fae13285",
   "metadata": {},
   "outputs": [
    {
     "data": {
      "text/plain": [
       "<module 'lxml' from '/home/serbaf/.pyenv/versions/xnf2edx_cli/lib/python3.10/site-packages/lxml/__init__.py'>"
      ]
     },
     "execution_count": 21,
     "metadata": {},
     "output_type": "execute_result"
    }
   ],
   "source": [
    "lxml"
   ]
  },
  {
   "cell_type": "code",
   "execution_count": 22,
   "id": "9b14b97a",
   "metadata": {},
   "outputs": [
    {
     "data": {
      "text/plain": [
       "{'__name__': 'builtins',\n",
       " '__doc__': \"Built-in functions, exceptions, and other objects.\\n\\nNoteworthy: None is the `nil' object; Ellipsis represents `...' in slices.\",\n",
       " '__package__': '',\n",
       " '__loader__': _frozen_importlib.BuiltinImporter,\n",
       " '__spec__': ModuleSpec(name='builtins', loader=<class '_frozen_importlib.BuiltinImporter'>, origin='built-in'),\n",
       " '__build_class__': <function __build_class__>,\n",
       " '__import__': <function __import__>,\n",
       " 'abs': <function abs(x, /)>,\n",
       " 'all': <function all(iterable, /)>,\n",
       " 'any': <function any(iterable, /)>,\n",
       " 'ascii': <function ascii(obj, /)>,\n",
       " 'bin': <function bin(number, /)>,\n",
       " 'breakpoint': <function breakpoint>,\n",
       " 'callable': <function callable(obj, /)>,\n",
       " 'chr': <function chr(i, /)>,\n",
       " 'compile': <function compile(source, filename, mode, flags=0, dont_inherit=False, optimize=-1, *, _feature_version=-1)>,\n",
       " 'delattr': <function delattr(obj, name, /)>,\n",
       " 'dir': <function dir>,\n",
       " 'divmod': <function divmod(x, y, /)>,\n",
       " 'eval': <function eval(source, globals=None, locals=None, /)>,\n",
       " 'exec': <function exec(source, globals=None, locals=None, /)>,\n",
       " 'format': <function format(value, format_spec='', /)>,\n",
       " 'getattr': <function getattr>,\n",
       " 'globals': <function globals()>,\n",
       " 'hasattr': <function hasattr(obj, name, /)>,\n",
       " 'hash': <function hash(obj, /)>,\n",
       " 'hex': <function hex(number, /)>,\n",
       " 'id': <function id(obj, /)>,\n",
       " 'input': <bound method Kernel.raw_input of <ipykernel.ipkernel.IPythonKernel object at 0x7fed4ee65ba0>>,\n",
       " 'isinstance': <function isinstance(obj, class_or_tuple, /)>,\n",
       " 'issubclass': <function issubclass(cls, class_or_tuple, /)>,\n",
       " 'iter': <function iter>,\n",
       " 'aiter': <function aiter(async_iterable, /)>,\n",
       " 'len': <function len(obj, /)>,\n",
       " 'locals': <function locals()>,\n",
       " 'max': <function max>,\n",
       " 'min': <function min>,\n",
       " 'next': <function next>,\n",
       " 'anext': <function anext>,\n",
       " 'oct': <function oct(number, /)>,\n",
       " 'ord': <function ord(c, /)>,\n",
       " 'pow': <function pow(base, exp, mod=None)>,\n",
       " 'print': <function print>,\n",
       " 'repr': <function repr(obj, /)>,\n",
       " 'round': <function round(number, ndigits=None)>,\n",
       " 'setattr': <function setattr(obj, name, value, /)>,\n",
       " 'sorted': <function sorted(iterable, /, *, key=None, reverse=False)>,\n",
       " 'sum': <function sum(iterable, /, start=0)>,\n",
       " 'vars': <function vars>,\n",
       " 'None': None,\n",
       " 'Ellipsis': Ellipsis,\n",
       " 'NotImplemented': NotImplemented,\n",
       " 'False': False,\n",
       " 'True': True,\n",
       " 'bool': bool,\n",
       " 'memoryview': memoryview,\n",
       " 'bytearray': bytearray,\n",
       " 'bytes': bytes,\n",
       " 'classmethod': classmethod,\n",
       " 'complex': complex,\n",
       " 'dict': dict,\n",
       " 'enumerate': enumerate,\n",
       " 'filter': filter,\n",
       " 'float': float,\n",
       " 'frozenset': frozenset,\n",
       " 'property': property,\n",
       " 'int': int,\n",
       " 'list': list,\n",
       " 'map': map,\n",
       " 'object': object,\n",
       " 'range': range,\n",
       " 'reversed': reversed,\n",
       " 'set': set,\n",
       " 'slice': slice,\n",
       " 'staticmethod': staticmethod,\n",
       " 'str': str,\n",
       " 'super': super,\n",
       " 'tuple': tuple,\n",
       " 'type': type,\n",
       " 'zip': zip,\n",
       " '__debug__': True,\n",
       " 'BaseException': BaseException,\n",
       " 'Exception': Exception,\n",
       " 'TypeError': TypeError,\n",
       " 'StopAsyncIteration': StopAsyncIteration,\n",
       " 'StopIteration': StopIteration,\n",
       " 'GeneratorExit': GeneratorExit,\n",
       " 'SystemExit': SystemExit,\n",
       " 'KeyboardInterrupt': KeyboardInterrupt,\n",
       " 'ImportError': ImportError,\n",
       " 'ModuleNotFoundError': ModuleNotFoundError,\n",
       " 'OSError': OSError,\n",
       " 'EnvironmentError': OSError,\n",
       " 'IOError': OSError,\n",
       " 'EOFError': EOFError,\n",
       " 'RuntimeError': RuntimeError,\n",
       " 'RecursionError': RecursionError,\n",
       " 'NotImplementedError': NotImplementedError,\n",
       " 'NameError': NameError,\n",
       " 'UnboundLocalError': UnboundLocalError,\n",
       " 'AttributeError': AttributeError,\n",
       " 'SyntaxError': SyntaxError,\n",
       " 'IndentationError': IndentationError,\n",
       " 'TabError': TabError,\n",
       " 'LookupError': LookupError,\n",
       " 'IndexError': IndexError,\n",
       " 'KeyError': KeyError,\n",
       " 'ValueError': ValueError,\n",
       " 'UnicodeError': UnicodeError,\n",
       " 'UnicodeEncodeError': UnicodeEncodeError,\n",
       " 'UnicodeDecodeError': UnicodeDecodeError,\n",
       " 'UnicodeTranslateError': UnicodeTranslateError,\n",
       " 'AssertionError': AssertionError,\n",
       " 'ArithmeticError': ArithmeticError,\n",
       " 'FloatingPointError': FloatingPointError,\n",
       " 'OverflowError': OverflowError,\n",
       " 'ZeroDivisionError': ZeroDivisionError,\n",
       " 'SystemError': SystemError,\n",
       " 'ReferenceError': ReferenceError,\n",
       " 'MemoryError': MemoryError,\n",
       " 'BufferError': BufferError,\n",
       " 'Warning': Warning,\n",
       " 'UserWarning': UserWarning,\n",
       " 'EncodingWarning': EncodingWarning,\n",
       " 'DeprecationWarning': DeprecationWarning,\n",
       " 'PendingDeprecationWarning': PendingDeprecationWarning,\n",
       " 'SyntaxWarning': SyntaxWarning,\n",
       " 'RuntimeWarning': RuntimeWarning,\n",
       " 'FutureWarning': FutureWarning,\n",
       " 'ImportWarning': ImportWarning,\n",
       " 'UnicodeWarning': UnicodeWarning,\n",
       " 'BytesWarning': BytesWarning,\n",
       " 'ResourceWarning': ResourceWarning,\n",
       " 'ConnectionError': ConnectionError,\n",
       " 'BlockingIOError': BlockingIOError,\n",
       " 'BrokenPipeError': BrokenPipeError,\n",
       " 'ChildProcessError': ChildProcessError,\n",
       " 'ConnectionAbortedError': ConnectionAbortedError,\n",
       " 'ConnectionRefusedError': ConnectionRefusedError,\n",
       " 'ConnectionResetError': ConnectionResetError,\n",
       " 'FileExistsError': FileExistsError,\n",
       " 'FileNotFoundError': FileNotFoundError,\n",
       " 'IsADirectoryError': IsADirectoryError,\n",
       " 'NotADirectoryError': NotADirectoryError,\n",
       " 'InterruptedError': InterruptedError,\n",
       " 'PermissionError': PermissionError,\n",
       " 'ProcessLookupError': ProcessLookupError,\n",
       " 'TimeoutError': TimeoutError,\n",
       " 'open': <function io.open(file, mode='r', buffering=-1, encoding=None, errors=None, newline=None, closefd=True, opener=None)>,\n",
       " 'copyright': Copyright (c) 2001-2022 Python Software Foundation.\n",
       " All Rights Reserved.\n",
       " \n",
       " Copyright (c) 2000 BeOpen.com.\n",
       " All Rights Reserved.\n",
       " \n",
       " Copyright (c) 1995-2001 Corporation for National Research Initiatives.\n",
       " All Rights Reserved.\n",
       " \n",
       " Copyright (c) 1991-1995 Stichting Mathematisch Centrum, Amsterdam.\n",
       " All Rights Reserved.,\n",
       " 'credits':     Thanks to CWI, CNRI, BeOpen.com, Zope Corporation and a cast of thousands\n",
       "     for supporting Python development.  See www.python.org for more information.,\n",
       " 'license': Type license() to see the full license text,\n",
       " 'help': Type help() for interactive help, or help(object) for help about object.,\n",
       " 'execfile': <function _pydev_bundle._pydev_execfile.execfile(file, glob=None, loc=None)>,\n",
       " 'runfile': <function _pydev_bundle.pydev_umd.runfile(filename, args=None, wdir=None, namespace=None)>,\n",
       " '__IPYTHON__': True,\n",
       " 'display': <function IPython.core.display_functions.display(*objs, include=None, exclude=None, metadata=None, transient=None, display_id=None, raw=False, clear=False, **kwargs)>,\n",
       " 'get_ipython': <bound method InteractiveShell.get_ipython of <ipykernel.zmqshell.ZMQInteractiveShell object at 0x7fed4ee66080>>}"
      ]
     },
     "execution_count": 22,
     "metadata": {},
     "output_type": "execute_result"
    }
   ],
   "source": [
    "lxml.__builtins__"
   ]
  },
  {
   "cell_type": "code",
   "execution_count": null,
   "id": "b9f272b5",
   "metadata": {},
   "outputs": [],
   "source": [
    "lxml."
   ]
  }
 ],
 "metadata": {
  "kernelspec": {
   "display_name": "Django Shell-Plus",
   "language": "python",
   "name": "django_extensions"
  },
  "language_info": {
   "codemirror_mode": {
    "name": "ipython",
    "version": 3
   },
   "file_extension": ".py",
   "mimetype": "text/x-python",
   "name": "python",
   "nbconvert_exporter": "python",
   "pygments_lexer": "ipython3",
   "version": "3.10.2"
  }
 },
 "nbformat": 4,
 "nbformat_minor": 5
}
