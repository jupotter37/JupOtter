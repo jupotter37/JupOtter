{
  "cells": [
    {
      "cell_type": "code",
      "execution_count": 5,
      "metadata": {
        "collapsed": false
      },
      "outputs": [],
      "source": [
        "%matplotlib inline"
      ]
    },
    {
      "cell_type": "markdown",
      "metadata": {},
      "source": [
        "\n",
        "# Searching in DARTS search space\n",
        "\n",
        "In this tutorial, we demonstrate how to search in the famous model space proposed in `DARTS`_.\n",
        "\n",
        "Through this process, you will learn:\n",
        "\n",
        "* How to use the built-in model spaces from NNI's model space hub.\n",
        "* How to use one-shot exploration strategies to explore a model space.\n",
        "* How to customize evaluators to achieve the best performance.\n",
        "\n",
        "In the end, we get a strong-performing model on CIFAR-10 dataset, which achieves up to 97.28% accuracy.\n",
        "\n",
        ".. attention::\n",
        "\n",
        "   Running this tutorial requires a GPU.\n",
        "   If you don't have one, you can set ``gpus`` in :class:`~nni.retiarii.evaluator.pytorch.Classification` to be 0,\n",
        "   but do note that it will be much slower.\n",
        "\n",
        "\n",
        "## Use a pre-searched DARTS model\n",
        "\n",
        "Similar to [the beginner tutorial of PyTorch](https://pytorch.org/tutorials/beginner/blitz/cifar10_tutorial.html)_,\n",
        "we begin with CIFAR-10 dataset, which is a image classification dataset of 10 categories.\n",
        "The images in CIFAR-10 are of size 3x32x32, i.e., RGB-colored images of 32x32 pixels in size.\n",
        "\n",
        "We first load the CIFAR-10 dataset with torchvision.\n"
      ]
    },
    {
      "cell_type": "code",
      "execution_count": 2,
      "metadata": {
        "collapsed": false
      },
      "outputs": [
        {
          "ename": "ModuleNotFoundError",
          "evalue": "No module named 'torchvision'",
          "output_type": "error",
          "traceback": [
            "\u001b[1;31m---------------------------------------------------------------------------\u001b[0m",
            "\u001b[1;31mModuleNotFoundError\u001b[0m                       Traceback (most recent call last)",
            "\u001b[1;32m~\\AppData\\Local\\Temp\\ipykernel_24900\\1146773495.py\u001b[0m in \u001b[0;36m<module>\u001b[1;34m\u001b[0m\n\u001b[0;32m      1\u001b[0m \u001b[1;32mimport\u001b[0m \u001b[0mnni\u001b[0m\u001b[1;33m\u001b[0m\u001b[0m\n\u001b[0;32m      2\u001b[0m \u001b[1;32mimport\u001b[0m \u001b[0mtorch\u001b[0m\u001b[1;33m\u001b[0m\u001b[0m\n\u001b[1;32m----> 3\u001b[1;33m \u001b[1;32mfrom\u001b[0m \u001b[0mtorchvision\u001b[0m \u001b[1;32mimport\u001b[0m \u001b[0mtransforms\u001b[0m\u001b[1;33m\u001b[0m\u001b[0m\n\u001b[0m\u001b[0;32m      4\u001b[0m \u001b[1;32mfrom\u001b[0m \u001b[0mtorchvision\u001b[0m\u001b[1;33m.\u001b[0m\u001b[0mdatasets\u001b[0m \u001b[1;32mimport\u001b[0m \u001b[0mCIFAR10\u001b[0m\u001b[1;33m\u001b[0m\u001b[0m\n\u001b[0;32m      5\u001b[0m \u001b[1;32mfrom\u001b[0m \u001b[0mnni\u001b[0m\u001b[1;33m.\u001b[0m\u001b[0mretiarii\u001b[0m\u001b[1;33m.\u001b[0m\u001b[0mevaluator\u001b[0m\u001b[1;33m.\u001b[0m\u001b[0mpytorch\u001b[0m \u001b[1;32mimport\u001b[0m \u001b[0mDataLoader\u001b[0m\u001b[1;33m\u001b[0m\u001b[0m\n",
            "\u001b[1;31mModuleNotFoundError\u001b[0m: No module named 'torchvision'"
          ]
        }
      ],
      "source": [
        "import nni\n",
        "import torch\n",
        "from torchvision import transforms\n",
        "from torchvision.datasets import CIFAR10\n",
        "from nni.retiarii.evaluator.pytorch import DataLoader\n",
        "\n",
        "CIFAR_MEAN = [0.49139968, 0.48215827, 0.44653124]\n",
        "CIFAR_STD = [0.24703233, 0.24348505, 0.26158768]\n",
        "\n",
        "transform_valid = transforms.Compose([\n",
        "    transforms.ToTensor(),\n",
        "    transforms.Normalize(CIFAR_MEAN, CIFAR_STD),\n",
        "])\n",
        "valid_data = nni.trace(CIFAR10)(root='./data', train=False, download=True, transform=transform_valid)\n",
        "valid_loader = DataLoader(valid_data, batch_size=256, num_workers=6)"
      ]
    },
    {
      "cell_type": "markdown",
      "metadata": {},
      "source": [
        "<div class=\"alert alert-info\"><h4>Note</h4><p>If you are to use multi-trial strategies, wrapping CIFAR10 with :func:`nni.trace` and\n",
        "   use DataLoader from ``nni.retiarii.evaluator.pytorch`` (instead of ``torch.utils.data``) are mandatory.\n",
        "   Otherwise, it's optional.</p></div>\n",
        "\n",
        "NNI presents many built-in model spaces, along with many *pre-searched models* in :doc:`model space hub </nas/space_hub>`,\n",
        "which are produced by most popular NAS literatures.\n",
        "A pre-trained model is a saved network that was previously trained on a large dataset like CIFAR-10 or ImageNet.\n",
        "You can easily load these models as a starting point, validate their performances, and finetune them if you need.\n",
        "\n",
        "In this tutorial, we choose one from `DARTS`_ search space, which is natively trained on our target dataset, CIFAR-10,\n",
        "so as to save the tedious steps of finetuning.\n",
        "\n",
        ".. tip::\n",
        "\n",
        "   Finetuning a pre-searched model on other datasets is no different from finetuning *any model*.\n",
        "   We recommend reading\n",
        "   [this tutorial of object detection finetuning](https://pytorch.org/tutorials/intermediate/torchvision_tutorial.html)_\n",
        "   if you want to know how finetuning is generally done in PyTorch.\n",
        "\n"
      ]
    },
    {
      "cell_type": "code",
      "execution_count": 5,
      "metadata": {
        "collapsed": false
      },
      "outputs": [
        {
          "ename": "ImportError",
          "evalue": "cannot import name 'OrderedDict' from 'typing' (d:\\SoftwareInstallation\\CondaInstall\\envs\\layoutlmv2\\lib\\typing.py)",
          "output_type": "error",
          "traceback": [
            "\u001b[1;31m---------------------------------------------------------------------------\u001b[0m",
            "\u001b[1;31mImportError\u001b[0m                               Traceback (most recent call last)",
            "\u001b[1;32m~\\AppData\\Local\\Temp\\ipykernel_20628\\300509364.py\u001b[0m in \u001b[0;36m<module>\u001b[1;34m\u001b[0m\n\u001b[0;32m      1\u001b[0m \u001b[1;32mfrom\u001b[0m \u001b[0mcollections\u001b[0m \u001b[1;32mimport\u001b[0m \u001b[0mOrderedDict\u001b[0m\u001b[1;33m\u001b[0m\u001b[0m\n\u001b[0;32m      2\u001b[0m \u001b[1;33m\u001b[0m\u001b[0m\n\u001b[1;32m----> 3\u001b[1;33m \u001b[1;32mfrom\u001b[0m \u001b[0mnni\u001b[0m\u001b[1;33m.\u001b[0m\u001b[0mretiarii\u001b[0m\u001b[1;33m.\u001b[0m\u001b[0mhub\u001b[0m\u001b[1;33m.\u001b[0m\u001b[0mpytorch\u001b[0m \u001b[1;32mimport\u001b[0m \u001b[0mDARTS\u001b[0m \u001b[1;32mas\u001b[0m \u001b[0mDartsSpace\u001b[0m\u001b[1;33m\u001b[0m\u001b[0m\n\u001b[0m\u001b[0;32m      4\u001b[0m \u001b[1;33m\u001b[0m\u001b[0m\n\u001b[0;32m      5\u001b[0m \u001b[0mdarts_v2_model\u001b[0m \u001b[1;33m=\u001b[0m \u001b[0mDartsSpace\u001b[0m\u001b[1;33m.\u001b[0m\u001b[0mload_searched_model\u001b[0m\u001b[1;33m(\u001b[0m\u001b[1;34m'darts-v2'\u001b[0m\u001b[1;33m,\u001b[0m \u001b[0mpretrained\u001b[0m\u001b[1;33m=\u001b[0m\u001b[1;32mTrue\u001b[0m\u001b[1;33m,\u001b[0m \u001b[0mdownload\u001b[0m\u001b[1;33m=\u001b[0m\u001b[1;32mTrue\u001b[0m\u001b[1;33m)\u001b[0m\u001b[1;33m\u001b[0m\u001b[0m\n",
            "\u001b[1;32md:\\SoftwareInstallation\\CondaInstall\\envs\\layoutlmv2\\lib\\site-packages\\nni\\retiarii\\__init__.py\u001b[0m in \u001b[0;36m<module>\u001b[1;34m\u001b[0m\n\u001b[0;32m      2\u001b[0m \u001b[1;31m# Licensed under the MIT license.\u001b[0m\u001b[1;33m\u001b[0m\u001b[1;33m\u001b[0m\u001b[0m\n\u001b[0;32m      3\u001b[0m \u001b[1;33m\u001b[0m\u001b[0m\n\u001b[1;32m----> 4\u001b[1;33m \u001b[1;32mfrom\u001b[0m \u001b[1;33m.\u001b[0m\u001b[0moperation\u001b[0m \u001b[1;32mimport\u001b[0m \u001b[0mOperation\u001b[0m\u001b[1;33m\u001b[0m\u001b[0m\n\u001b[0m\u001b[0;32m      5\u001b[0m \u001b[1;32mfrom\u001b[0m \u001b[1;33m.\u001b[0m\u001b[0mgraph\u001b[0m \u001b[1;32mimport\u001b[0m \u001b[1;33m*\u001b[0m\u001b[1;33m\u001b[0m\u001b[0m\n\u001b[0;32m      6\u001b[0m \u001b[1;32mfrom\u001b[0m \u001b[1;33m.\u001b[0m\u001b[0mexecution\u001b[0m \u001b[1;32mimport\u001b[0m \u001b[1;33m*\u001b[0m\u001b[1;33m\u001b[0m\u001b[0m\n",
            "\u001b[1;32md:\\SoftwareInstallation\\CondaInstall\\envs\\layoutlmv2\\lib\\site-packages\\nni\\retiarii\\operation.py\u001b[0m in \u001b[0;36m<module>\u001b[1;34m\u001b[0m\n\u001b[0;32m      4\u001b[0m \u001b[1;31m# pylint: disable=wildcard-import,unused-wildcard-import\u001b[0m\u001b[1;33m\u001b[0m\u001b[1;33m\u001b[0m\u001b[0m\n\u001b[0;32m      5\u001b[0m \u001b[1;33m\u001b[0m\u001b[0m\n\u001b[1;32m----> 6\u001b[1;33m \u001b[1;32mfrom\u001b[0m \u001b[0mnni\u001b[0m\u001b[1;33m.\u001b[0m\u001b[0mnas\u001b[0m\u001b[1;33m.\u001b[0m\u001b[0mexecution\u001b[0m\u001b[1;33m.\u001b[0m\u001b[0mcommon\u001b[0m\u001b[1;33m.\u001b[0m\u001b[0mgraph_op\u001b[0m \u001b[1;32mimport\u001b[0m \u001b[1;33m*\u001b[0m\u001b[1;33m\u001b[0m\u001b[0m\n\u001b[0m",
            "\u001b[1;32md:\\SoftwareInstallation\\CondaInstall\\envs\\layoutlmv2\\lib\\site-packages\\nni\\nas\\__init__.py\u001b[0m in \u001b[0;36m<module>\u001b[1;34m\u001b[0m\n\u001b[0;32m      2\u001b[0m \u001b[1;31m# Licensed under the MIT license.\u001b[0m\u001b[1;33m\u001b[0m\u001b[1;33m\u001b[0m\u001b[0m\n\u001b[0;32m      3\u001b[0m \u001b[1;33m\u001b[0m\u001b[0m\n\u001b[1;32m----> 4\u001b[1;33m \u001b[1;32mfrom\u001b[0m \u001b[1;33m.\u001b[0m\u001b[0mexecution\u001b[0m \u001b[1;32mimport\u001b[0m \u001b[1;33m*\u001b[0m\u001b[1;33m\u001b[0m\u001b[0m\n\u001b[0m\u001b[0;32m      5\u001b[0m \u001b[1;32mfrom\u001b[0m \u001b[1;33m.\u001b[0m\u001b[0mfixed\u001b[0m \u001b[1;32mimport\u001b[0m \u001b[0mfixed_arch\u001b[0m\u001b[1;33m\u001b[0m\u001b[0m\n\u001b[0;32m      6\u001b[0m \u001b[1;32mfrom\u001b[0m \u001b[1;33m.\u001b[0m\u001b[0mmutable\u001b[0m \u001b[1;32mimport\u001b[0m \u001b[1;33m*\u001b[0m\u001b[1;33m\u001b[0m\u001b[0m\n",
            "\u001b[1;32md:\\SoftwareInstallation\\CondaInstall\\envs\\layoutlmv2\\lib\\site-packages\\nni\\nas\\execution\\__init__.py\u001b[0m in \u001b[0;36m<module>\u001b[1;34m\u001b[0m\n\u001b[0;32m      2\u001b[0m \u001b[1;31m# Licensed under the MIT license.\u001b[0m\u001b[1;33m\u001b[0m\u001b[1;33m\u001b[0m\u001b[0m\n\u001b[0;32m      3\u001b[0m \u001b[1;33m\u001b[0m\u001b[0m\n\u001b[1;32m----> 4\u001b[1;33m \u001b[1;32mfrom\u001b[0m \u001b[1;33m.\u001b[0m\u001b[0mapi\u001b[0m \u001b[1;32mimport\u001b[0m \u001b[1;33m*\u001b[0m\u001b[1;33m\u001b[0m\u001b[0m\n\u001b[0m\u001b[0;32m      5\u001b[0m \u001b[1;32mfrom\u001b[0m \u001b[1;33m.\u001b[0m\u001b[0mcommon\u001b[0m \u001b[1;32mimport\u001b[0m \u001b[1;33m*\u001b[0m\u001b[1;33m\u001b[0m\u001b[0m\n",
            "\u001b[1;32md:\\SoftwareInstallation\\CondaInstall\\envs\\layoutlmv2\\lib\\site-packages\\nni\\nas\\execution\\api.py\u001b[0m in \u001b[0;36m<module>\u001b[1;34m\u001b[0m\n\u001b[0;32m      7\u001b[0m \u001b[1;33m\u001b[0m\u001b[0m\n\u001b[0;32m      8\u001b[0m \u001b[1;32mfrom\u001b[0m \u001b[0mnni\u001b[0m\u001b[1;33m.\u001b[0m\u001b[0mexperiment\u001b[0m\u001b[1;33m.\u001b[0m\u001b[0mconfig\u001b[0m\u001b[1;33m.\u001b[0m\u001b[0mtraining_services\u001b[0m \u001b[1;32mimport\u001b[0m \u001b[0mRemoteConfig\u001b[0m\u001b[1;33m\u001b[0m\u001b[0m\n\u001b[1;32m----> 9\u001b[1;33m from nni.nas.execution.common import (\n\u001b[0m\u001b[0;32m     10\u001b[0m     \u001b[0mModel\u001b[0m\u001b[1;33m,\u001b[0m \u001b[0mModelStatus\u001b[0m\u001b[1;33m,\u001b[0m\u001b[1;33m\u001b[0m\u001b[0m\n\u001b[0;32m     11\u001b[0m     \u001b[0mAbstractExecutionEngine\u001b[0m\u001b[1;33m,\u001b[0m\u001b[1;33m\u001b[0m\u001b[0m\n",
            "\u001b[1;32md:\\SoftwareInstallation\\CondaInstall\\envs\\layoutlmv2\\lib\\site-packages\\nni\\nas\\execution\\common\\__init__.py\u001b[0m in \u001b[0;36m<module>\u001b[1;34m\u001b[0m\n\u001b[0;32m      2\u001b[0m \u001b[1;31m# Licensed under the MIT license.\u001b[0m\u001b[1;33m\u001b[0m\u001b[1;33m\u001b[0m\u001b[0m\n\u001b[0;32m      3\u001b[0m \u001b[1;33m\u001b[0m\u001b[0m\n\u001b[1;32m----> 4\u001b[1;33m \u001b[1;32mfrom\u001b[0m \u001b[1;33m.\u001b[0m\u001b[0mengine\u001b[0m \u001b[1;32mimport\u001b[0m \u001b[1;33m*\u001b[0m\u001b[1;33m\u001b[0m\u001b[0m\n\u001b[0m\u001b[0;32m      5\u001b[0m \u001b[1;32mfrom\u001b[0m \u001b[1;33m.\u001b[0m\u001b[0mgraph_op\u001b[0m \u001b[1;32mimport\u001b[0m \u001b[1;33m*\u001b[0m\u001b[1;33m\u001b[0m\u001b[0m\n\u001b[0;32m      6\u001b[0m \u001b[1;32mfrom\u001b[0m \u001b[1;33m.\u001b[0m\u001b[0mgraph\u001b[0m \u001b[1;32mimport\u001b[0m \u001b[1;33m*\u001b[0m\u001b[1;33m\u001b[0m\u001b[0m\n",
            "\u001b[1;32md:\\SoftwareInstallation\\CondaInstall\\envs\\layoutlmv2\\lib\\site-packages\\nni\\nas\\execution\\common\\engine.py\u001b[0m in \u001b[0;36m<module>\u001b[1;34m\u001b[0m\n\u001b[0;32m      5\u001b[0m \u001b[1;32mfrom\u001b[0m \u001b[0mtyping\u001b[0m \u001b[1;32mimport\u001b[0m \u001b[0mAny\u001b[0m\u001b[1;33m,\u001b[0m \u001b[0mIterable\u001b[0m\u001b[1;33m,\u001b[0m \u001b[0mNewType\u001b[0m\u001b[1;33m,\u001b[0m \u001b[0mList\u001b[0m\u001b[1;33m,\u001b[0m \u001b[0mUnion\u001b[0m\u001b[1;33m,\u001b[0m \u001b[0mType\u001b[0m\u001b[1;33m\u001b[0m\u001b[0m\n\u001b[0;32m      6\u001b[0m \u001b[1;33m\u001b[0m\u001b[0m\n\u001b[1;32m----> 7\u001b[1;33m \u001b[1;32mfrom\u001b[0m \u001b[1;33m.\u001b[0m\u001b[0mgraph\u001b[0m \u001b[1;32mimport\u001b[0m \u001b[0mModel\u001b[0m\u001b[1;33m,\u001b[0m \u001b[0mMetricData\u001b[0m\u001b[1;33m\u001b[0m\u001b[0m\n\u001b[0m\u001b[0;32m      8\u001b[0m \u001b[1;33m\u001b[0m\u001b[0m\n\u001b[0;32m      9\u001b[0m __all__ = [\n",
            "\u001b[1;32md:\\SoftwareInstallation\\CondaInstall\\envs\\layoutlmv2\\lib\\site-packages\\nni\\nas\\execution\\common\\graph.py\u001b[0m in \u001b[0;36m<module>\u001b[1;34m\u001b[0m\n\u001b[0;32m     16\u001b[0m     \u001b[1;32mfrom\u001b[0m \u001b[0mnni\u001b[0m\u001b[1;33m.\u001b[0m\u001b[0mnas\u001b[0m\u001b[1;33m.\u001b[0m\u001b[0mmutable\u001b[0m \u001b[1;32mimport\u001b[0m \u001b[0mMutator\u001b[0m\u001b[1;33m\u001b[0m\u001b[0m\n\u001b[0;32m     17\u001b[0m \u001b[1;33m\u001b[0m\u001b[0m\n\u001b[1;32m---> 18\u001b[1;33m \u001b[1;32mfrom\u001b[0m \u001b[0mnni\u001b[0m\u001b[1;33m.\u001b[0m\u001b[0mnas\u001b[0m\u001b[1;33m.\u001b[0m\u001b[0mevaluator\u001b[0m \u001b[1;32mimport\u001b[0m \u001b[0mEvaluator\u001b[0m\u001b[1;33m\u001b[0m\u001b[0m\n\u001b[0m\u001b[0;32m     19\u001b[0m \u001b[1;32mfrom\u001b[0m \u001b[0mnni\u001b[0m\u001b[1;33m.\u001b[0m\u001b[0mnas\u001b[0m\u001b[1;33m.\u001b[0m\u001b[0mutils\u001b[0m \u001b[1;32mimport\u001b[0m \u001b[0muid\u001b[0m\u001b[1;33m\u001b[0m\u001b[0m\n\u001b[0;32m     20\u001b[0m \u001b[1;32mfrom\u001b[0m \u001b[1;33m.\u001b[0m\u001b[0mgraph_op\u001b[0m \u001b[1;32mimport\u001b[0m \u001b[0mCell\u001b[0m\u001b[1;33m,\u001b[0m \u001b[0mOperation\u001b[0m\u001b[1;33m,\u001b[0m \u001b[0m_IOPseudoOperation\u001b[0m\u001b[1;33m\u001b[0m\u001b[0m\n",
            "\u001b[1;32md:\\SoftwareInstallation\\CondaInstall\\envs\\layoutlmv2\\lib\\site-packages\\nni\\nas\\evaluator\\__init__.py\u001b[0m in \u001b[0;36m<module>\u001b[1;34m\u001b[0m\n\u001b[0;32m      7\u001b[0m \u001b[1;32mfrom\u001b[0m \u001b[1;33m.\u001b[0m\u001b[0mfunctional\u001b[0m \u001b[1;32mimport\u001b[0m \u001b[0mFunctionalEvaluator\u001b[0m\u001b[1;33m\u001b[0m\u001b[0m\n\u001b[0;32m      8\u001b[0m \u001b[1;33m\u001b[0m\u001b[0m\n\u001b[1;32m----> 9\u001b[1;33m \u001b[0mshortcut_framework\u001b[0m\u001b[1;33m(\u001b[0m\u001b[0m__name__\u001b[0m\u001b[1;33m)\u001b[0m\u001b[1;33m\u001b[0m\u001b[0m\n\u001b[0m\u001b[0;32m     10\u001b[0m \u001b[1;33m\u001b[0m\u001b[0m\n\u001b[0;32m     11\u001b[0m \u001b[1;32mdel\u001b[0m \u001b[0mshortcut_framework\u001b[0m\u001b[1;33m\u001b[0m\u001b[0m\n",
            "\u001b[1;32md:\\SoftwareInstallation\\CondaInstall\\envs\\layoutlmv2\\lib\\site-packages\\nni\\common\\framework.py\u001b[0m in \u001b[0;36mshortcut_framework\u001b[1;34m(current)\u001b[0m\n\u001b[0;32m     91\u001b[0m     \u001b[1;32mif\u001b[0m \u001b[0mget_default_framework\u001b[0m\u001b[1;33m(\u001b[0m\u001b[1;33m)\u001b[0m \u001b[1;33m!=\u001b[0m \u001b[1;34m'none'\u001b[0m\u001b[1;33m:\u001b[0m\u001b[1;33m\u001b[0m\u001b[0m\n\u001b[0;32m     92\u001b[0m         \u001b[1;31m# Throw ModuleNotFoundError if framework is not supported\u001b[0m\u001b[1;33m\u001b[0m\u001b[1;33m\u001b[0m\u001b[0m\n\u001b[1;32m---> 93\u001b[1;33m         \u001b[0mshortcut_module\u001b[0m\u001b[1;33m(\u001b[0m\u001b[0mcurrent\u001b[0m\u001b[1;33m,\u001b[0m \u001b[1;34m'.'\u001b[0m \u001b[1;33m+\u001b[0m \u001b[0mget_default_framework\u001b[0m\u001b[1;33m(\u001b[0m\u001b[1;33m)\u001b[0m\u001b[1;33m,\u001b[0m \u001b[0mcurrent\u001b[0m\u001b[1;33m)\u001b[0m\u001b[1;33m\u001b[0m\u001b[0m\n\u001b[0m",
            "\u001b[1;32md:\\SoftwareInstallation\\CondaInstall\\envs\\layoutlmv2\\lib\\site-packages\\nni\\common\\framework.py\u001b[0m in \u001b[0;36mshortcut_module\u001b[1;34m(current, target, package)\u001b[0m\n\u001b[0;32m     81\u001b[0m     \u001b[1;34m\"\"\"Make ``current`` module an alias of ``target`` module in ``package``.\"\"\"\u001b[0m\u001b[1;33m\u001b[0m\u001b[0m\n\u001b[0;32m     82\u001b[0m     \u001b[1;31m# Reference: https://github.com/dmlc/dgl/blob/d70a362dba8d46fd9838c79d76998a5e33f22cb7/python/dgl/nn/__init__.py#L27\u001b[0m\u001b[1;33m\u001b[0m\u001b[1;33m\u001b[0m\u001b[0m\n\u001b[1;32m---> 83\u001b[1;33m     \u001b[0mmod\u001b[0m \u001b[1;33m=\u001b[0m \u001b[0mimportlib\u001b[0m\u001b[1;33m.\u001b[0m\u001b[0mimport_module\u001b[0m\u001b[1;33m(\u001b[0m\u001b[0mtarget\u001b[0m\u001b[1;33m,\u001b[0m \u001b[0mpackage\u001b[0m\u001b[1;33m)\u001b[0m\u001b[1;33m\u001b[0m\u001b[0m\n\u001b[0m\u001b[0;32m     84\u001b[0m     \u001b[0mthismod\u001b[0m \u001b[1;33m=\u001b[0m \u001b[0msys\u001b[0m\u001b[1;33m.\u001b[0m\u001b[0mmodules\u001b[0m\u001b[1;33m[\u001b[0m\u001b[0mcurrent\u001b[0m\u001b[1;33m]\u001b[0m\u001b[1;33m\u001b[0m\u001b[0m\n\u001b[0;32m     85\u001b[0m     \u001b[1;32mfor\u001b[0m \u001b[0mapi\u001b[0m\u001b[1;33m,\u001b[0m \u001b[0mobj\u001b[0m \u001b[1;32min\u001b[0m \u001b[0mmod\u001b[0m\u001b[1;33m.\u001b[0m\u001b[0m__dict__\u001b[0m\u001b[1;33m.\u001b[0m\u001b[0mitems\u001b[0m\u001b[1;33m(\u001b[0m\u001b[1;33m)\u001b[0m\u001b[1;33m:\u001b[0m\u001b[1;33m\u001b[0m\u001b[0m\n",
            "\u001b[1;32md:\\SoftwareInstallation\\CondaInstall\\envs\\layoutlmv2\\lib\\importlib\\__init__.py\u001b[0m in \u001b[0;36mimport_module\u001b[1;34m(name, package)\u001b[0m\n\u001b[0;32m    125\u001b[0m                 \u001b[1;32mbreak\u001b[0m\u001b[1;33m\u001b[0m\u001b[0m\n\u001b[0;32m    126\u001b[0m             \u001b[0mlevel\u001b[0m \u001b[1;33m+=\u001b[0m \u001b[1;36m1\u001b[0m\u001b[1;33m\u001b[0m\u001b[0m\n\u001b[1;32m--> 127\u001b[1;33m     \u001b[1;32mreturn\u001b[0m \u001b[0m_bootstrap\u001b[0m\u001b[1;33m.\u001b[0m\u001b[0m_gcd_import\u001b[0m\u001b[1;33m(\u001b[0m\u001b[0mname\u001b[0m\u001b[1;33m[\u001b[0m\u001b[0mlevel\u001b[0m\u001b[1;33m:\u001b[0m\u001b[1;33m]\u001b[0m\u001b[1;33m,\u001b[0m \u001b[0mpackage\u001b[0m\u001b[1;33m,\u001b[0m \u001b[0mlevel\u001b[0m\u001b[1;33m)\u001b[0m\u001b[1;33m\u001b[0m\u001b[0m\n\u001b[0m\u001b[0;32m    128\u001b[0m \u001b[1;33m\u001b[0m\u001b[0m\n\u001b[0;32m    129\u001b[0m \u001b[1;33m\u001b[0m\u001b[0m\n",
            "\u001b[1;32md:\\SoftwareInstallation\\CondaInstall\\envs\\layoutlmv2\\lib\\site-packages\\nni\\nas\\evaluator\\pytorch\\__init__.py\u001b[0m in \u001b[0;36m<module>\u001b[1;34m\u001b[0m\n\u001b[0;32m      2\u001b[0m \u001b[1;31m# Licensed under the MIT license.\u001b[0m\u001b[1;33m\u001b[0m\u001b[1;33m\u001b[0m\u001b[0m\n\u001b[0;32m      3\u001b[0m \u001b[1;33m\u001b[0m\u001b[0m\n\u001b[1;32m----> 4\u001b[1;33m \u001b[1;32mfrom\u001b[0m \u001b[1;33m.\u001b[0m\u001b[0mlightning\u001b[0m \u001b[1;32mimport\u001b[0m \u001b[1;33m*\u001b[0m\u001b[1;33m\u001b[0m\u001b[0m\n\u001b[0m",
            "\u001b[1;32md:\\SoftwareInstallation\\CondaInstall\\envs\\layoutlmv2\\lib\\site-packages\\nni\\nas\\evaluator\\pytorch\\lightning.py\u001b[0m in \u001b[0;36m<module>\u001b[1;34m\u001b[0m\n\u001b[0;32m      8\u001b[0m \u001b[1;32mfrom\u001b[0m \u001b[0mtyping\u001b[0m \u001b[1;32mimport\u001b[0m \u001b[0mAny\u001b[0m\u001b[1;33m,\u001b[0m \u001b[0mDict\u001b[0m\u001b[1;33m,\u001b[0m \u001b[0mUnion\u001b[0m\u001b[1;33m,\u001b[0m \u001b[0mOptional\u001b[0m\u001b[1;33m,\u001b[0m \u001b[0mList\u001b[0m\u001b[1;33m,\u001b[0m \u001b[0mCallable\u001b[0m\u001b[1;33m,\u001b[0m \u001b[0mType\u001b[0m\u001b[1;33m\u001b[0m\u001b[0m\n\u001b[0;32m      9\u001b[0m \u001b[1;33m\u001b[0m\u001b[0m\n\u001b[1;32m---> 10\u001b[1;33m \u001b[1;32mimport\u001b[0m \u001b[0mpytorch_lightning\u001b[0m \u001b[1;32mas\u001b[0m \u001b[0mpl\u001b[0m\u001b[1;33m\u001b[0m\u001b[0m\n\u001b[0m\u001b[0;32m     11\u001b[0m \u001b[1;32mimport\u001b[0m \u001b[0mtorch\u001b[0m\u001b[1;33m.\u001b[0m\u001b[0mnn\u001b[0m \u001b[1;32mas\u001b[0m \u001b[0mnn\u001b[0m\u001b[1;33m\u001b[0m\u001b[0m\n\u001b[0;32m     12\u001b[0m \u001b[1;32mimport\u001b[0m \u001b[0mtorch\u001b[0m\u001b[1;33m.\u001b[0m\u001b[0mnn\u001b[0m\u001b[1;33m.\u001b[0m\u001b[0mfunctional\u001b[0m \u001b[1;32mas\u001b[0m \u001b[0mnn_functional\u001b[0m\u001b[1;33m\u001b[0m\u001b[0m\n",
            "\u001b[1;32m~\\AppData\\Roaming\\Python\\Python37\\site-packages\\pytorch_lightning\\__init__.py\u001b[0m in \u001b[0;36m<module>\u001b[1;34m\u001b[0m\n\u001b[0;32m     34\u001b[0m \u001b[1;32mfrom\u001b[0m \u001b[0mpytorch_lightning\u001b[0m\u001b[1;33m.\u001b[0m\u001b[0mcallbacks\u001b[0m \u001b[1;32mimport\u001b[0m \u001b[0mCallback\u001b[0m  \u001b[1;31m# noqa: E402\u001b[0m\u001b[1;33m\u001b[0m\u001b[0m\n\u001b[0;32m     35\u001b[0m \u001b[1;32mfrom\u001b[0m \u001b[0mpytorch_lightning\u001b[0m\u001b[1;33m.\u001b[0m\u001b[0mcore\u001b[0m \u001b[1;32mimport\u001b[0m \u001b[0mLightningDataModule\u001b[0m\u001b[1;33m,\u001b[0m \u001b[0mLightningModule\u001b[0m  \u001b[1;31m# noqa: E402\u001b[0m\u001b[1;33m\u001b[0m\u001b[0m\n\u001b[1;32m---> 36\u001b[1;33m \u001b[1;32mfrom\u001b[0m \u001b[0mpytorch_lightning\u001b[0m\u001b[1;33m.\u001b[0m\u001b[0mtrainer\u001b[0m \u001b[1;32mimport\u001b[0m \u001b[0mTrainer\u001b[0m  \u001b[1;31m# noqa: E402\u001b[0m\u001b[1;33m\u001b[0m\u001b[0m\n\u001b[0m\u001b[0;32m     37\u001b[0m \u001b[1;32mfrom\u001b[0m \u001b[0mpytorch_lightning\u001b[0m\u001b[1;33m.\u001b[0m\u001b[0mutilities\u001b[0m\u001b[1;33m.\u001b[0m\u001b[0mseed\u001b[0m \u001b[1;32mimport\u001b[0m \u001b[0mseed_everything\u001b[0m  \u001b[1;31m# noqa: E402\u001b[0m\u001b[1;33m\u001b[0m\u001b[0m\n\u001b[0;32m     38\u001b[0m \u001b[1;33m\u001b[0m\u001b[0m\n",
            "\u001b[1;32m~\\AppData\\Roaming\\Python\\Python37\\site-packages\\pytorch_lightning\\trainer\\__init__.py\u001b[0m in \u001b[0;36m<module>\u001b[1;34m\u001b[0m\n\u001b[0;32m     14\u001b[0m \u001b[1;34m\"\"\"\"\"\"\u001b[0m\u001b[1;33m\u001b[0m\u001b[0m\n\u001b[0;32m     15\u001b[0m \u001b[1;33m\u001b[0m\u001b[0m\n\u001b[1;32m---> 16\u001b[1;33m \u001b[1;32mfrom\u001b[0m \u001b[0mpytorch_lightning\u001b[0m\u001b[1;33m.\u001b[0m\u001b[0mtrainer\u001b[0m\u001b[1;33m.\u001b[0m\u001b[0mtrainer\u001b[0m \u001b[1;32mimport\u001b[0m \u001b[0mTrainer\u001b[0m\u001b[1;33m\u001b[0m\u001b[0m\n\u001b[0m\u001b[0;32m     17\u001b[0m \u001b[1;32mfrom\u001b[0m \u001b[0mpytorch_lightning\u001b[0m\u001b[1;33m.\u001b[0m\u001b[0mutilities\u001b[0m\u001b[1;33m.\u001b[0m\u001b[0mseed\u001b[0m \u001b[1;32mimport\u001b[0m \u001b[0mseed_everything\u001b[0m\u001b[1;33m\u001b[0m\u001b[0m\n\u001b[0;32m     18\u001b[0m \u001b[1;33m\u001b[0m\u001b[0m\n",
            "\u001b[1;32m~\\AppData\\Roaming\\Python\\Python37\\site-packages\\pytorch_lightning\\trainer\\trainer.py\u001b[0m in \u001b[0;36m<module>\u001b[1;34m\u001b[0m\n\u001b[0;32m     52\u001b[0m \u001b[1;32mfrom\u001b[0m \u001b[0mpytorch_lightning\u001b[0m\u001b[1;33m.\u001b[0m\u001b[0mloggers\u001b[0m\u001b[1;33m.\u001b[0m\u001b[0mlogger\u001b[0m \u001b[1;32mimport\u001b[0m \u001b[0mDummyLogger\u001b[0m\u001b[1;33m,\u001b[0m \u001b[0mLoggerCollection\u001b[0m\u001b[1;33m\u001b[0m\u001b[0m\n\u001b[0;32m     53\u001b[0m \u001b[1;32mfrom\u001b[0m \u001b[0mpytorch_lightning\u001b[0m\u001b[1;33m.\u001b[0m\u001b[0mloggers\u001b[0m\u001b[1;33m.\u001b[0m\u001b[0mtensorboard\u001b[0m \u001b[1;32mimport\u001b[0m \u001b[0mTensorBoardLogger\u001b[0m\u001b[1;33m\u001b[0m\u001b[0m\n\u001b[1;32m---> 54\u001b[1;33m \u001b[1;32mfrom\u001b[0m \u001b[0mpytorch_lightning\u001b[0m\u001b[1;33m.\u001b[0m\u001b[0mloops\u001b[0m \u001b[1;32mimport\u001b[0m \u001b[0mPredictionLoop\u001b[0m\u001b[1;33m,\u001b[0m \u001b[0mTrainingEpochLoop\u001b[0m\u001b[1;33m\u001b[0m\u001b[0m\n\u001b[0m\u001b[0;32m     55\u001b[0m \u001b[1;32mfrom\u001b[0m \u001b[0mpytorch_lightning\u001b[0m\u001b[1;33m.\u001b[0m\u001b[0mloops\u001b[0m\u001b[1;33m.\u001b[0m\u001b[0mdataloader\u001b[0m\u001b[1;33m.\u001b[0m\u001b[0mevaluation_loop\u001b[0m \u001b[1;32mimport\u001b[0m \u001b[0mEvaluationLoop\u001b[0m\u001b[1;33m\u001b[0m\u001b[0m\n\u001b[0;32m     56\u001b[0m \u001b[1;32mfrom\u001b[0m \u001b[0mpytorch_lightning\u001b[0m\u001b[1;33m.\u001b[0m\u001b[0mloops\u001b[0m\u001b[1;33m.\u001b[0m\u001b[0mfit_loop\u001b[0m \u001b[1;32mimport\u001b[0m \u001b[0mFitLoop\u001b[0m\u001b[1;33m\u001b[0m\u001b[0m\n",
            "\u001b[1;32m~\\AppData\\Roaming\\Python\\Python37\\site-packages\\pytorch_lightning\\loops\\__init__.py\u001b[0m in \u001b[0;36m<module>\u001b[1;34m\u001b[0m\n\u001b[0;32m     13\u001b[0m \u001b[1;31m# limitations under the License.\u001b[0m\u001b[1;33m\u001b[0m\u001b[1;33m\u001b[0m\u001b[0m\n\u001b[0;32m     14\u001b[0m \u001b[1;32mfrom\u001b[0m \u001b[0mpytorch_lightning\u001b[0m\u001b[1;33m.\u001b[0m\u001b[0mloops\u001b[0m\u001b[1;33m.\u001b[0m\u001b[0mloop\u001b[0m \u001b[1;32mimport\u001b[0m \u001b[0mLoop\u001b[0m  \u001b[1;31m# noqa: F401 isort: skip (avoids circular imports)\u001b[0m\u001b[1;33m\u001b[0m\u001b[0m\n\u001b[1;32m---> 15\u001b[1;33m \u001b[1;32mfrom\u001b[0m \u001b[0mpytorch_lightning\u001b[0m\u001b[1;33m.\u001b[0m\u001b[0mloops\u001b[0m\u001b[1;33m.\u001b[0m\u001b[0mbatch\u001b[0m \u001b[1;32mimport\u001b[0m \u001b[0mTrainingBatchLoop\u001b[0m  \u001b[1;31m# noqa: F401\u001b[0m\u001b[1;33m\u001b[0m\u001b[0m\n\u001b[0m\u001b[0;32m     16\u001b[0m \u001b[1;32mfrom\u001b[0m \u001b[0mpytorch_lightning\u001b[0m\u001b[1;33m.\u001b[0m\u001b[0mloops\u001b[0m\u001b[1;33m.\u001b[0m\u001b[0mdataloader\u001b[0m \u001b[1;32mimport\u001b[0m \u001b[0mDataLoaderLoop\u001b[0m\u001b[1;33m,\u001b[0m \u001b[0mEvaluationLoop\u001b[0m\u001b[1;33m,\u001b[0m \u001b[0mPredictionLoop\u001b[0m  \u001b[1;31m# noqa: F401\u001b[0m\u001b[1;33m\u001b[0m\u001b[0m\n\u001b[0;32m     17\u001b[0m \u001b[1;32mfrom\u001b[0m \u001b[0mpytorch_lightning\u001b[0m\u001b[1;33m.\u001b[0m\u001b[0mloops\u001b[0m\u001b[1;33m.\u001b[0m\u001b[0mepoch\u001b[0m \u001b[1;32mimport\u001b[0m \u001b[0mEvaluationEpochLoop\u001b[0m\u001b[1;33m,\u001b[0m \u001b[0mPredictionEpochLoop\u001b[0m\u001b[1;33m,\u001b[0m \u001b[0mTrainingEpochLoop\u001b[0m  \u001b[1;31m# noqa: F401\u001b[0m\u001b[1;33m\u001b[0m\u001b[0m\n",
            "\u001b[1;32m~\\AppData\\Roaming\\Python\\Python37\\site-packages\\pytorch_lightning\\loops\\batch\\__init__.py\u001b[0m in \u001b[0;36m<module>\u001b[1;34m\u001b[0m\n\u001b[0;32m     13\u001b[0m \u001b[1;31m# limitations under the License.\u001b[0m\u001b[1;33m\u001b[0m\u001b[1;33m\u001b[0m\u001b[0m\n\u001b[0;32m     14\u001b[0m \u001b[1;33m\u001b[0m\u001b[0m\n\u001b[1;32m---> 15\u001b[1;33m \u001b[1;32mfrom\u001b[0m \u001b[0mpytorch_lightning\u001b[0m\u001b[1;33m.\u001b[0m\u001b[0mloops\u001b[0m\u001b[1;33m.\u001b[0m\u001b[0mbatch\u001b[0m\u001b[1;33m.\u001b[0m\u001b[0mtraining_batch_loop\u001b[0m \u001b[1;32mimport\u001b[0m \u001b[0mTrainingBatchLoop\u001b[0m  \u001b[1;31m# noqa: F401\u001b[0m\u001b[1;33m\u001b[0m\u001b[0m\n\u001b[0m\u001b[0;32m     16\u001b[0m \u001b[1;32mfrom\u001b[0m \u001b[0mpytorch_lightning\u001b[0m\u001b[1;33m.\u001b[0m\u001b[0mloops\u001b[0m\u001b[1;33m.\u001b[0m\u001b[0moptimization\u001b[0m\u001b[1;33m.\u001b[0m\u001b[0mmanual_loop\u001b[0m \u001b[1;32mimport\u001b[0m \u001b[0mManualOptimization\u001b[0m  \u001b[1;31m# noqa: F401\u001b[0m\u001b[1;33m\u001b[0m\u001b[0m\n",
            "\u001b[1;32m~\\AppData\\Roaming\\Python\\Python37\\site-packages\\pytorch_lightning\\loops\\batch\\training_batch_loop.py\u001b[0m in \u001b[0;36m<module>\u001b[1;34m\u001b[0m\n\u001b[0;32m     12\u001b[0m \u001b[1;31m# See the License for the specific language governing permissions and\u001b[0m\u001b[1;33m\u001b[0m\u001b[1;33m\u001b[0m\u001b[0m\n\u001b[0;32m     13\u001b[0m \u001b[1;31m# limitations under the License.\u001b[0m\u001b[1;33m\u001b[0m\u001b[1;33m\u001b[0m\u001b[0m\n\u001b[1;32m---> 14\u001b[1;33m \u001b[1;32mfrom\u001b[0m \u001b[0mtyping\u001b[0m \u001b[1;32mimport\u001b[0m \u001b[0mAny\u001b[0m\u001b[1;33m,\u001b[0m \u001b[0mList\u001b[0m\u001b[1;33m,\u001b[0m \u001b[0mOptional\u001b[0m\u001b[1;33m,\u001b[0m \u001b[0mOrderedDict\u001b[0m\u001b[1;33m,\u001b[0m \u001b[0mTuple\u001b[0m\u001b[1;33m,\u001b[0m \u001b[0mUnion\u001b[0m\u001b[1;33m\u001b[0m\u001b[0m\n\u001b[0m\u001b[0;32m     15\u001b[0m \u001b[1;33m\u001b[0m\u001b[0m\n\u001b[0;32m     16\u001b[0m \u001b[1;32mfrom\u001b[0m \u001b[0mtorch\u001b[0m \u001b[1;32mimport\u001b[0m \u001b[0mTensor\u001b[0m\u001b[1;33m\u001b[0m\u001b[0m\n",
            "\u001b[1;31mImportError\u001b[0m: cannot import name 'OrderedDict' from 'typing' (d:\\SoftwareInstallation\\CondaInstall\\envs\\layoutlmv2\\lib\\typing.py)"
          ]
        }
      ],
      "source": [
        "from collections import OrderedDict\n",
        "\n",
        "from nni.retiarii.hub.pytorch import DARTS as DartsSpace\n",
        "\n",
        "darts_v2_model = DartsSpace.load_searched_model('darts-v2', pretrained=True, download=True)\n",
        "\n",
        "def evaluate_model(model, cuda=False):\n",
        "    device = torch.device('cuda' if cuda else 'cpu')\n",
        "    model.to(device)\n",
        "    model.eval()\n",
        "    with torch.no_grad():\n",
        "        correct = total = 0\n",
        "        for inputs, targets in valid_loader:\n",
        "            inputs, targets = inputs.to(device), targets.to(device)\n",
        "            logits = model(inputs)\n",
        "            _, predict = torch.max(logits, 1)\n",
        "            correct += (predict == targets).sum().cpu().item()\n",
        "            total += targets.size(0)\n",
        "    print('Accuracy:', correct / total)\n",
        "    return correct / total\n",
        "\n",
        "evaluate_model(darts_v2_model, cuda=False)  # Set this to false if there's no GPU."
      ]
    },
    {
      "cell_type": "markdown",
      "metadata": {},
      "source": [
        "The journey of using a pre-searched model could end here. Or you are interested,\n",
        "we can go a step further to search a model within :class:`~nni.retiarii.hub.pytorch.DARTS` space on our own.\n",
        "\n",
        "## Use the DARTS model space\n",
        "\n",
        "The model space provided in `DARTS`_ originated from [NASNet](https://arxiv.org/abs/1707.07012)_,\n",
        "where the full model is constructed by repeatedly stacking a single computational unit (called a **cell**).\n",
        "There are two types of cells within a network. The first type is called *normal cell*, and the second type is called *reduction cell*.\n",
        "The key difference between normal and reduction cell is that the reduction cell will downsample the input feature map,\n",
        "and decrease its resolution. Normal and reduction cells are stacked alternately, as shown in the following figure.\n",
        "\n",
        "<img src=\"file://../../img/nasnet_cell_stack.png\">\n",
        "\n",
        "A cell takes outputs from two previous cells as inputs and contains a collection of *nodes*.\n",
        "Each node takes two previous nodes within the same cell (or the two cell inputs),\n",
        "and applies an *operator* (e.g., convolution, or max-pooling) to each input,\n",
        "and sums the outputs of operators as the output of the node.\n",
        "The output of cell is the concatenation of all the nodes that are never used as inputs of another node.\n",
        "Users could read [NDS](https://arxiv.org/pdf/1905.13214.pdf)_ or [ENAS](https://arxiv.org/abs/1802.03268)_ for more details.\n",
        "\n",
        "We illustrate an example of cells in the following figure.\n",
        "\n",
        "<img src=\"file://../../img/nasnet_cell.png\">\n",
        "\n",
        "The search space proposed in `DARTS`_ paper introduced two modifications to the original space\n",
        "in [NASNet](https://arxiv.org/abs/1707.07012)_.\n",
        "\n",
        "Firstly, the operator candidates have been narrowed down to seven:\n",
        "\n",
        "- Max pooling 3x3\n",
        "- Average pooling 3x3\n",
        "- Skip connect (Identity)\n",
        "- Separable convolution 3x3\n",
        "- Separable convolution 5x5\n",
        "- Dilated convolution 3x3\n",
        "- Dilated convolution 5x5\n",
        "\n",
        "Secondly, the output of cell is the concatenate of **all the nodes within the cell**.\n",
        "\n",
        "As the search space is based on cell, once the normal and reduction cell has been fixed, we can stack them for indefinite times.\n",
        "To save the search cost, the common practice is to reduce the number of filters (i.e., channels) and number of stacked cells\n",
        "during the search phase, and increase them back when training the final searched architecture.\n",
        "\n",
        "<div class=\"alert alert-info\"><h4>Note</h4><p>`DARTS`_ is one of those papers that innovate both in search space and search strategy.\n",
        "   In this tutorial, we will search on **model space** provided by DARTS with **search strategy** proposed by DARTS.\n",
        "   We refer to them as *DARTS model space* (``DartsSpace``) and *DARTS strategy* (``DartsStrategy``), respectively.\n",
        "   We did NOT imply that the :class:`~nni.retiarii.hub.pytorch.DARTS` space and\n",
        "   :class:`~nni.retiarii.strategy.DARTS` strategy has to used together.\n",
        "   You can always explore the DARTS space with another search strategy, or use your own strategy to search a different model space.</p></div>\n",
        "\n",
        "In the following example, we initialize a :class:`~nni.retiarii.hub.pytorch.DARTS`\n",
        "model space, with 16 initial filters and 8 stacked cells.\n",
        "The network is specialized for CIFAR-10 dataset with 32x32 input resolution.\n",
        "\n",
        "The :class:`~nni.retiarii.hub.pytorch.DARTS` model space here is provided by :doc:`model space hub </nas/space_hub>`,\n",
        "where we have supported multiple popular model spaces for plug-and-play.\n",
        "\n",
        ".. tip::\n",
        "\n",
        "   The model space here can be replaced with any space provided in the hub,\n",
        "   or even customized spaces built from scratch.\n",
        "\n"
      ]
    },
    {
      "cell_type": "code",
      "execution_count": null,
      "metadata": {
        "collapsed": false
      },
      "outputs": [],
      "source": [
        "model_space = DartsSpace(\n",
        "    width=16,           # the initial filters (channel number) for the model\n",
        "    num_cells=8,        # the number of stacked cells in total\n",
        "    dataset='cifar'     # to give a hint about input resolution, here is 32x32\n",
        ")"
      ]
    },
    {
      "cell_type": "markdown",
      "metadata": {},
      "source": [
        "## Search on the model space\n",
        "\n",
        "<div class=\"alert alert-danger\"><h4>Warning</h4><p>Please set ``fast_dev_run`` to False to reproduce the our claimed results.\n",
        "   Otherwise, only a few mini-batches will be run.</p></div>\n",
        "\n"
      ]
    },
    {
      "cell_type": "code",
      "execution_count": null,
      "metadata": {
        "collapsed": false
      },
      "outputs": [],
      "source": [
        "fast_dev_run = True"
      ]
    },
    {
      "cell_type": "markdown",
      "metadata": {},
      "source": [
        "### Evaluator\n",
        "\n",
        "To begin exploring the model space, one firstly need to have an evaluator to provide the criterion of a \"good model\".\n",
        "As we are searching on CIFAR-10 dataset, one can easily use the :class:`~nni.retiarii.evaluator.pytorch.Classification`\n",
        "as a starting point.\n",
        "\n",
        "Note that for a typical setup of NAS, the model search should be on validation set, and the evaluation of the final searched model\n",
        "should be on test set. However, as CIFAR-10 dataset doesn't have a test dataset (only 50k train + 10k valid),\n",
        "we have to split the original training set into a training set and a validation set.\n",
        "The recommended train/val split by `DARTS`_ strategy is 1:1.\n",
        "\n"
      ]
    },
    {
      "cell_type": "code",
      "execution_count": null,
      "metadata": {
        "collapsed": false
      },
      "outputs": [],
      "source": [
        "import numpy as np\n",
        "from nni.retiarii.evaluator.pytorch import Classification\n",
        "from torch.utils.data import SubsetRandomSampler\n",
        "\n",
        "transform = transforms.Compose([\n",
        "    transforms.RandomCrop(32, padding=4),\n",
        "    transforms.RandomHorizontalFlip(),\n",
        "    transforms.ToTensor(),\n",
        "    transforms.Normalize(CIFAR_MEAN, CIFAR_STD),\n",
        "])\n",
        "\n",
        "train_data = nni.trace(CIFAR10)(root='./data', train=True, download=True, transform=transform)\n",
        "\n",
        "num_samples = len(train_data)\n",
        "indices = np.random.permutation(num_samples)\n",
        "split = num_samples // 2\n",
        "\n",
        "search_train_loader = DataLoader(\n",
        "    train_data, batch_size=64, num_workers=6,\n",
        "    sampler=SubsetRandomSampler(indices[:split]),\n",
        ")\n",
        "\n",
        "search_valid_loader = DataLoader(\n",
        "    train_data, batch_size=64, num_workers=6,\n",
        "    sampler=SubsetRandomSampler(indices[split:]),\n",
        ")\n",
        "\n",
        "evaluator = Classification(\n",
        "    learning_rate=1e-3,\n",
        "    weight_decay=1e-4,\n",
        "    train_dataloaders=search_train_loader,\n",
        "    val_dataloaders=search_valid_loader,\n",
        "    max_epochs=10,\n",
        "    gpus=1,\n",
        "    fast_dev_run=fast_dev_run,\n",
        ")"
      ]
    },
    {
      "cell_type": "markdown",
      "metadata": {},
      "source": [
        "### Strategy\n",
        "\n",
        "We will use `DARTS`_ (Differentiable ARchiTecture Search) as the search strategy to explore the model space.\n",
        ":class:`~nni.retiarii.strategy.DARTS` strategy belongs to the category of `one-shot strategy <one-shot-nas>`.\n",
        "The fundamental differences between One-shot strategies and `multi-trial strategies <multi-trial-nas>` is that,\n",
        "one-shot strategy combines search with model training into a single run.\n",
        "Compared to multi-trial strategies, one-shot NAS doesn't need to iteratively spawn new trials (i.e., models),\n",
        "and thus saves the excessive cost of model training.\n",
        "\n",
        "<div class=\"alert alert-info\"><h4>Note</h4><p>It's worth mentioning that one-shot NAS also suffers from multiple drawbacks despite its computational efficiency.\n",
        "   We recommend\n",
        "   [Weight-Sharing Neural Architecture Search: A Battle to Shrink the Optimization Gap](https://arxiv.org/abs/2008.01475)_\n",
        "   and\n",
        "   [How Does Supernet Help in Neural Architecture Search?](https://arxiv.org/abs/2010.08219)_ for interested readers.</p></div>\n",
        "\n",
        ":class:`~nni.retiarii.strategy.DARTS` strategy is provided as one of NNI's :doc:`built-in search strategies </nas/exploration_strategy>`.\n",
        "Using it can be as simple as one line of code.\n",
        "\n"
      ]
    },
    {
      "cell_type": "code",
      "execution_count": null,
      "metadata": {
        "collapsed": false
      },
      "outputs": [],
      "source": [
        "from nni.retiarii.strategy import DARTS as DartsStrategy\n",
        "\n",
        "strategy = DartsStrategy()"
      ]
    },
    {
      "cell_type": "markdown",
      "metadata": {},
      "source": [
        ".. tip:: The ``DartsStrategy`` here can be replaced by any search strategies, even multi-trial strategies.\n",
        "\n",
        "If you want to know how DARTS strategy works, here is a brief version.\n",
        "Under the hood, DARTS converts the cell into a densely connected graph, and put operators on edges (see the following figure).\n",
        "Since the operators are not decided yet, every edge is a weighted mixture of multiple operators (multiple color in the figure).\n",
        "DARTS then learns to assign the optimal \"color\" for each edge during the network training.\n",
        "It finally selects one \"color\" for each edge, and drops redundant edges.\n",
        "The weights on the edges are called *architecture weights*.\n",
        "\n",
        "<img src=\"file://../../img/darts_illustration.png\">\n",
        "\n",
        ".. tip:: It's NOT reflected in the figure that, for DARTS model space, exactly two inputs are kept for every node.\n",
        "\n",
        "### Launch experiment\n",
        "\n",
        "We then come to the step of launching the experiment.\n",
        "This step is similar to what we have done in the :doc:`beginner tutorial <hello_nas>`,\n",
        "except that the ``execution_engine`` argument should be set to ``oneshot``.\n",
        "\n"
      ]
    },
    {
      "cell_type": "code",
      "execution_count": null,
      "metadata": {
        "collapsed": false
      },
      "outputs": [],
      "source": [
        "from nni.retiarii.experiment.pytorch import RetiariiExperiment, RetiariiExeConfig\n",
        "\n",
        "config = RetiariiExeConfig(execution_engine='oneshot')\n",
        "experiment = RetiariiExperiment(model_space, evaluator=evaluator, strategy=strategy)\n",
        "experiment.run(config)"
      ]
    },
    {
      "cell_type": "markdown",
      "metadata": {},
      "source": [
        ".. tip::\n",
        "\n",
        "   The search process can be visualized with tensorboard. For example::\n",
        "\n",
        "       tensorboard --logdir=./lightning_logs\n",
        "\n",
        "   Then, open the browser and go to http://localhost:6006/ to monitor the search process.\n",
        "\n",
        "   .. image:: ../../img/darts_search_process.png\n",
        "\n",
        "We can then retrieve the best model found by the strategy with ``export_top_models``.\n",
        "Here, the retrieved model is a dict (called *architecture dict*) describing the selected normal cell and reduction cell.\n",
        "\n"
      ]
    },
    {
      "cell_type": "code",
      "execution_count": null,
      "metadata": {
        "collapsed": false
      },
      "outputs": [],
      "source": [
        "exported_arch = experiment.export_top_models()[0]\n",
        "\n",
        "exported_arch"
      ]
    },
    {
      "cell_type": "markdown",
      "metadata": {},
      "source": [
        "The cell can be visualized with the following code snippet\n",
        "(copied and modified from [DARTS visualization](https://github.com/quark0/darts/blob/master/cnn/visualize.py)_).\n",
        "\n"
      ]
    },
    {
      "cell_type": "code",
      "execution_count": null,
      "metadata": {
        "collapsed": false
      },
      "outputs": [],
      "source": [
        "import io\n",
        "import graphviz\n",
        "import matplotlib.pyplot as plt\n",
        "from PIL import Image\n",
        "\n",
        "def plot_single_cell(arch_dict, cell_name):\n",
        "    g = graphviz.Digraph(\n",
        "        node_attr=dict(style='filled', shape='rect', align='center'),\n",
        "        format='png'\n",
        "    )\n",
        "    g.body.extend(['rankdir=LR'])\n",
        "\n",
        "    g.node('c_{k-2}', fillcolor='darkseagreen2')\n",
        "    g.node('c_{k-1}', fillcolor='darkseagreen2')\n",
        "    assert len(arch_dict) % 2 == 0\n",
        "\n",
        "    for i in range(2, 6):\n",
        "        g.node(str(i), fillcolor='lightblue')\n",
        "\n",
        "    for i in range(2, 6):\n",
        "        for j in range(2):\n",
        "            op = arch_dict[f'{cell_name}/op_{i}_{j}']\n",
        "            from_ = arch_dict[f'{cell_name}/input_{i}_{j}']\n",
        "            if from_ == 0:\n",
        "                u = 'c_{k-2}'\n",
        "            elif from_ == 1:\n",
        "                u = 'c_{k-1}'\n",
        "            else:\n",
        "                u = str(from_)\n",
        "            v = str(i)\n",
        "            g.edge(u, v, label=op, fillcolor='gray')\n",
        "\n",
        "    g.node('c_{k}', fillcolor='palegoldenrod')\n",
        "    for i in range(2, 6):\n",
        "        g.edge(str(i), 'c_{k}', fillcolor='gray')\n",
        "\n",
        "    g.attr(label=f'{cell_name.capitalize()} cell')\n",
        "\n",
        "    image = Image.open(io.BytesIO(g.pipe()))\n",
        "    return image\n",
        "\n",
        "def plot_double_cells(arch_dict):\n",
        "    image1 = plot_single_cell(arch_dict, 'normal')\n",
        "    image2 = plot_single_cell(arch_dict, 'reduce')\n",
        "    height_ratio = max(image1.size[1] / image1.size[0], image2.size[1] / image2.size[0]) \n",
        "    _, axs = plt.subplots(1, 2, figsize=(20, 10 * height_ratio))\n",
        "    axs[0].imshow(image1)\n",
        "    axs[1].imshow(image2)\n",
        "    axs[0].axis('off')\n",
        "    axs[1].axis('off')\n",
        "    plt.show()\n",
        "\n",
        "plot_double_cells(exported_arch)"
      ]
    },
    {
      "cell_type": "markdown",
      "metadata": {},
      "source": [
        "<div class=\"alert alert-danger\"><h4>Warning</h4><p>The cell above is obtained via ``fast_dev_run`` (i.e., running only 1 mini-batch).</p></div>\n",
        "\n",
        "When ``fast_dev_run`` is turned off, we get a model with the following architecture,\n",
        "where you might notice an interesting fact that around half the operations have selected ``sep_conv_3x3``.\n",
        "\n"
      ]
    },
    {
      "cell_type": "code",
      "execution_count": null,
      "metadata": {
        "collapsed": false
      },
      "outputs": [],
      "source": [
        "plot_double_cells({\n",
        "    'normal/op_2_0': 'sep_conv_3x3',\n",
        "    'normal/input_2_0': 1,\n",
        "    'normal/op_2_1': 'sep_conv_3x3',\n",
        "    'normal/input_2_1': 0,\n",
        "    'normal/op_3_0': 'sep_conv_3x3',\n",
        "    'normal/input_3_0': 1,\n",
        "    'normal/op_3_1': 'sep_conv_3x3',\n",
        "    'normal/input_3_1': 2,\n",
        "    'normal/op_4_0': 'sep_conv_3x3',\n",
        "    'normal/input_4_0': 1,\n",
        "    'normal/op_4_1': 'sep_conv_3x3',\n",
        "    'normal/input_4_1': 0,\n",
        "    'normal/op_5_0': 'sep_conv_3x3',\n",
        "    'normal/input_5_0': 1,\n",
        "    'normal/op_5_1': 'max_pool_3x3',\n",
        "    'normal/input_5_1': 0,\n",
        "    'reduce/op_2_0': 'sep_conv_3x3',\n",
        "    'reduce/input_2_0': 0,\n",
        "    'reduce/op_2_1': 'sep_conv_3x3',\n",
        "    'reduce/input_2_1': 1,\n",
        "    'reduce/op_3_0': 'dil_conv_5x5',\n",
        "    'reduce/input_3_0': 2,\n",
        "    'reduce/op_3_1': 'sep_conv_3x3',\n",
        "    'reduce/input_3_1': 0,\n",
        "    'reduce/op_4_0': 'dil_conv_5x5',\n",
        "    'reduce/input_4_0': 2,\n",
        "    'reduce/op_4_1': 'sep_conv_5x5',\n",
        "    'reduce/input_4_1': 1,\n",
        "    'reduce/op_5_0': 'sep_conv_5x5',\n",
        "    'reduce/input_5_0': 4,\n",
        "    'reduce/op_5_1': 'dil_conv_5x5',\n",
        "    'reduce/input_5_1': 2\n",
        "})"
      ]
    },
    {
      "cell_type": "markdown",
      "metadata": {},
      "source": [
        "## Retrain the searched model\n",
        "\n",
        "What we have got in the last step, is only a cell structure.\n",
        "To get a final usable model with trained weights, we need to construct a real model based on this structure,\n",
        "and then fully train it.\n",
        "\n",
        "To construct a fixed model based on the architecture dict exported from the experiment,\n",
        "we can use :func:`nni.retiarii.fixed_arch`. Under the with-context, we will creating a fixed model based on ``exported_arch``,\n",
        "instead of creating a space.\n",
        "\n"
      ]
    },
    {
      "cell_type": "code",
      "execution_count": null,
      "metadata": {
        "collapsed": false
      },
      "outputs": [],
      "source": [
        "from nni.retiarii import fixed_arch\n",
        "\n",
        "with fixed_arch(exported_arch):\n",
        "    final_model = DartsSpace(width=16, num_cells=8, dataset='cifar')"
      ]
    },
    {
      "cell_type": "markdown",
      "metadata": {},
      "source": [
        "We then train the model on full CIFAR-10 training dataset, and evaluate it on the original CIFAR-10 validation dataset.\n",
        "\n"
      ]
    },
    {
      "cell_type": "code",
      "execution_count": null,
      "metadata": {
        "collapsed": false
      },
      "outputs": [],
      "source": [
        "train_loader = DataLoader(train_data, batch_size=96, num_workers=6)  # Use the original training data"
      ]
    },
    {
      "cell_type": "markdown",
      "metadata": {},
      "source": [
        "The validation data loader can be reused.\n",
        "\n"
      ]
    },
    {
      "cell_type": "code",
      "execution_count": null,
      "metadata": {
        "collapsed": false
      },
      "outputs": [],
      "source": [
        "valid_loader"
      ]
    },
    {
      "cell_type": "markdown",
      "metadata": {},
      "source": [
        "We must create a new evaluator here because a different data split is used.\n",
        "Also, we should avoid the underlying pytorch-lightning implementation of :class:`~nni.retiarii.evaluator.pytorch.Classification`\n",
        "evaluator from loading the wrong checkpoint.\n",
        "\n"
      ]
    },
    {
      "cell_type": "code",
      "execution_count": null,
      "metadata": {
        "collapsed": false
      },
      "outputs": [],
      "source": [
        "max_epochs = 100\n",
        "\n",
        "evaluator = Classification(\n",
        "    learning_rate=1e-3,\n",
        "    weight_decay=1e-4,\n",
        "    train_dataloaders=train_loader,\n",
        "    val_dataloaders=valid_loader,\n",
        "    max_epochs=max_epochs,\n",
        "    gpus=1,\n",
        "    export_onnx=False,          # Disable ONNX export for this experiment\n",
        "    fast_dev_run=fast_dev_run   # Should be false for fully training\n",
        ")\n",
        "\n",
        "evaluator.fit(final_model)"
      ]
    },
    {
      "cell_type": "markdown",
      "metadata": {},
      "source": [
        "<div class=\"alert alert-info\"><h4>Note</h4><p>When ``fast_dev_run`` is turned off, we achieve a validation accuracy of 89.69% after training for 100 epochs.</p></div>\n",
        "\n",
        "## Reproduce results in DARTS paper\n",
        "\n",
        "After a brief walkthrough of search + retrain process with one-shot strategy,\n",
        "we then fill the gap between our results (89.69%) and the results in the `DARTS` paper.\n",
        "This is because we didn't introduce some extra training tricks, including [DropPath](https://arxiv.org/pdf/1605.07648v4.pdf)_,\n",
        "Auxiliary loss, gradient clipping and augmentations like [Cutout](https://arxiv.org/pdf/1708.04552v2.pdf)_.\n",
        "They also train the deeper (20 cells) and wider (36 filters) networks for longer time (600 epochs).\n",
        "Here we reproduce these tricks to get comparable results with DARTS paper.\n",
        "\n",
        "\n",
        "### Evaluator\n",
        "\n",
        "To implement these tricks, we first need to rewrite a few parts of evaluator.\n",
        "\n",
        "Working with one-shot strategies, evaluators need to be implemented in the style of `PyTorch-Lightning <lightning-evaluator>`,\n",
        "The full tutorial can be found in :doc:`/nas/evaluator`.\n",
        "Putting it briefly, the core part of writing a new evaluator is to write a new LightningModule.\n",
        "[LightingModule](https://pytorch-lightning.readthedocs.io/en/stable/common/lightning_module.html)_ is a concept in\n",
        "PyTorch-Lightning, which organizes the model training process into a list of functions, such as,\n",
        "``training_step``, ``validation_step``, ``configure_optimizers``, etc.\n",
        "Since we are merely adding a few ingredients to :class:`~nni.retiarii.evaluator.pytorch.Classification`,\n",
        "we can simply inherit :class:`~nni.retiarii.evaluator.pytorch.ClassificationModule`, which is the underlying LightningModule\n",
        "behind :class:`~nni.retiarii.evaluator.pytorch.Classification`.\n",
        "This could look intimidating at first, but most of them are just plug-and-play tricks which you don't need to know details about.\n",
        "\n"
      ]
    },
    {
      "cell_type": "code",
      "execution_count": null,
      "metadata": {
        "collapsed": false
      },
      "outputs": [],
      "source": [
        "import torch\n",
        "from nni.retiarii.evaluator.pytorch import ClassificationModule\n",
        "\n",
        "class DartsClassificationModule(ClassificationModule):\n",
        "    def __init__(\n",
        "        self,\n",
        "        learning_rate: float = 0.001,\n",
        "        weight_decay: float = 0.,\n",
        "        auxiliary_loss_weight: float = 0.4,\n",
        "        max_epochs: int = 600\n",
        "    ):\n",
        "        self.auxiliary_loss_weight = auxiliary_loss_weight\n",
        "        # Training length will be used in LR scheduler\n",
        "        self.max_epochs = max_epochs\n",
        "        super().__init__(learning_rate=learning_rate, weight_decay=weight_decay, export_onnx=False)\n",
        "\n",
        "    def configure_optimizers(self):\n",
        "        \"\"\"Customized optimizer with momentum, as well as a scheduler.\"\"\"\n",
        "        optimizer = torch.optim.SGD(\n",
        "            self.parameters(),\n",
        "            momentum=0.9,\n",
        "            lr=self.hparams.learning_rate,\n",
        "            weight_decay=self.hparams.weight_decay\n",
        "        )\n",
        "        return {\n",
        "            'optimizer': optimizer,\n",
        "            'lr_scheduler': torch.optim.lr_scheduler.CosineAnnealingLR(optimizer, self.max_epochs, eta_min=1e-3)\n",
        "        }\n",
        "\n",
        "    def training_step(self, batch, batch_idx):\n",
        "        \"\"\"Training step, customized with auxiliary loss.\"\"\"\n",
        "        x, y = batch\n",
        "        if self.auxiliary_loss_weight:\n",
        "            y_hat, y_aux = self(x)\n",
        "            loss_main = self.criterion(y_hat, y)\n",
        "            loss_aux = self.criterion(y_aux, y)\n",
        "            self.log('train_loss_main', loss_main)\n",
        "            self.log('train_loss_aux', loss_aux)\n",
        "            loss = loss_main + self.auxiliary_loss_weight * loss_aux\n",
        "        else:\n",
        "            y_hat = self(x)\n",
        "            loss = self.criterion(y_hat, y)\n",
        "        self.log('train_loss', loss, prog_bar=True)\n",
        "        for name, metric in self.metrics.items():\n",
        "            self.log('train_' + name, metric(y_hat, y), prog_bar=True)\n",
        "        return loss\n",
        "\n",
        "    def on_train_epoch_start(self):\n",
        "        # Set drop path probability before every epoch. This has no effect if drop path is not enabled in model.\n",
        "        self.model.set_drop_path_prob(self.model.drop_path_prob * self.current_epoch / self.max_epochs)\n",
        "\n",
        "        # Logging learning rate at the beginning of every epoch\n",
        "        self.log('lr', self.trainer.optimizers[0].param_groups[0]['lr'])"
      ]
    },
    {
      "cell_type": "markdown",
      "metadata": {},
      "source": [
        "The full evaluator is written as follows,\n",
        "which simply wraps everything (except model space and search strategy of course), in a single object.\n",
        ":class:`~nni.retiarii.evaluator.pytorch.Lightning` here is a special type of evaluator.\n",
        "Don't forget to use the train/val data split specialized for search (1:1) here.\n",
        "\n"
      ]
    },
    {
      "cell_type": "code",
      "execution_count": null,
      "metadata": {
        "collapsed": false
      },
      "outputs": [],
      "source": [
        "from nni.retiarii.evaluator.pytorch import Lightning, Trainer\n",
        "\n",
        "max_epochs = 50\n",
        "\n",
        "evaluator = Lightning(\n",
        "    DartsClassificationModule(0.025, 3e-4, 0., max_epochs),\n",
        "    Trainer(\n",
        "        gpus=1,\n",
        "        max_epochs=max_epochs,\n",
        "        fast_dev_run=fast_dev_run,\n",
        "    ),\n",
        "    train_dataloaders=search_train_loader,\n",
        "    val_dataloaders=search_valid_loader\n",
        ")"
      ]
    },
    {
      "cell_type": "markdown",
      "metadata": {},
      "source": [
        "### Strategy\n",
        "\n",
        ":class:`~nni.retiarii.strategy.DARTS` strategy is created with gradient clip turned on.\n",
        "If you are familiar with PyTorch-Lightning, you might aware that gradient clipping can be enabled in Lightning trainer.\n",
        "However, enabling gradient clip in the trainer above won't work, because the underlying\n",
        "implementation of :class:`~nni.retiarii.strategy.DARTS` strategy is based on\n",
        "[manual optimization](https://pytorch-lightning.readthedocs.io/en/stable/common/optimization.html)_.\n",
        "\n"
      ]
    },
    {
      "cell_type": "code",
      "execution_count": null,
      "metadata": {
        "collapsed": false
      },
      "outputs": [],
      "source": [
        "strategy = DartsStrategy(gradient_clip_val=5.)"
      ]
    },
    {
      "cell_type": "markdown",
      "metadata": {},
      "source": [
        "### Launch experiment\n",
        "\n",
        "Then we use the newly created evaluator and strategy to launch the experiment again.\n",
        "\n",
        "<div class=\"alert alert-danger\"><h4>Warning</h4><p>``model_space`` has to be re-instantiated because a known limitation,\n",
        "   i.e., one model space instance can't be reused across multiple experiments.</p></div>\n",
        "\n"
      ]
    },
    {
      "cell_type": "code",
      "execution_count": null,
      "metadata": {
        "collapsed": false
      },
      "outputs": [],
      "source": [
        "model_space = DartsSpace(width=16, num_cells=8, dataset='cifar')\n",
        "\n",
        "config = RetiariiExeConfig(execution_engine='oneshot')\n",
        "experiment = RetiariiExperiment(model_space, evaluator=evaluator, strategy=strategy)\n",
        "experiment.run(config)\n",
        "\n",
        "exported_arch = experiment.export_top_models()[0]\n",
        "\n",
        "exported_arch"
      ]
    },
    {
      "cell_type": "markdown",
      "metadata": {},
      "source": [
        "We get the following architecture when ``fast_dev_run`` is set to False. It takes around 8 hours on a P100 GPU.\n",
        "\n"
      ]
    },
    {
      "cell_type": "code",
      "execution_count": null,
      "metadata": {
        "collapsed": false
      },
      "outputs": [],
      "source": [
        "plot_double_cells({\n",
        "    'normal/op_2_0': 'sep_conv_3x3',\n",
        "    'normal/input_2_0': 0,\n",
        "    'normal/op_2_1': 'sep_conv_3x3',\n",
        "    'normal/input_2_1': 1,\n",
        "    'normal/op_3_0': 'sep_conv_3x3',\n",
        "    'normal/input_3_0': 1,\n",
        "    'normal/op_3_1': 'skip_connect',\n",
        "    'normal/input_3_1': 0,\n",
        "    'normal/op_4_0': 'sep_conv_3x3',\n",
        "    'normal/input_4_0': 0,\n",
        "    'normal/op_4_1': 'max_pool_3x3',\n",
        "    'normal/input_4_1': 1,\n",
        "    'normal/op_5_0': 'sep_conv_3x3',\n",
        "    'normal/input_5_0': 0,\n",
        "    'normal/op_5_1': 'sep_conv_3x3',\n",
        "    'normal/input_5_1': 1,\n",
        "    'reduce/op_2_0': 'max_pool_3x3',\n",
        "    'reduce/input_2_0': 0,\n",
        "    'reduce/op_2_1': 'sep_conv_5x5',\n",
        "    'reduce/input_2_1': 1,\n",
        "    'reduce/op_3_0': 'dil_conv_5x5',\n",
        "    'reduce/input_3_0': 2,\n",
        "    'reduce/op_3_1': 'max_pool_3x3',\n",
        "    'reduce/input_3_1': 0,\n",
        "    'reduce/op_4_0': 'max_pool_3x3',\n",
        "    'reduce/input_4_0': 0,\n",
        "    'reduce/op_4_1': 'sep_conv_3x3',\n",
        "    'reduce/input_4_1': 2,\n",
        "    'reduce/op_5_0': 'max_pool_3x3',\n",
        "    'reduce/input_5_0': 0,\n",
        "    'reduce/op_5_1': 'skip_connect',\n",
        "    'reduce/input_5_1': 2\n",
        "})"
      ]
    },
    {
      "cell_type": "markdown",
      "metadata": {},
      "source": [
        "### Retrain\n",
        "\n",
        "When retraining,\n",
        "we extend the original dataloader to introduce another trick called [Cutout](https://arxiv.org/pdf/1708.04552v2.pdf)_.\n",
        "Cutout is a data augmentation technique that randomly masks out rectangular regions in images.\n",
        "In CIFAR-10, the typical masked size is 16x16 (the image sizes are 32x32 in the dataset).\n",
        "\n"
      ]
    },
    {
      "cell_type": "code",
      "execution_count": null,
      "metadata": {
        "collapsed": false
      },
      "outputs": [],
      "source": [
        "def cutout_transform(img, length: int = 16):\n",
        "    h, w = img.size(1), img.size(2)\n",
        "    mask = np.ones((h, w), np.float32)\n",
        "    y = np.random.randint(h)\n",
        "    x = np.random.randint(w)\n",
        "\n",
        "    y1 = np.clip(y - length // 2, 0, h)\n",
        "    y2 = np.clip(y + length // 2, 0, h)\n",
        "    x1 = np.clip(x - length // 2, 0, w)\n",
        "    x2 = np.clip(x + length // 2, 0, w)\n",
        "\n",
        "    mask[y1: y2, x1: x2] = 0.\n",
        "    mask = torch.from_numpy(mask)\n",
        "    mask = mask.expand_as(img)\n",
        "    img *= mask\n",
        "    return img\n",
        "\n",
        "transform_with_cutout = transforms.Compose([\n",
        "    transforms.RandomCrop(32, padding=4),\n",
        "    transforms.RandomHorizontalFlip(),\n",
        "    transforms.ToTensor(),\n",
        "    transforms.Normalize(CIFAR_MEAN, CIFAR_STD),\n",
        "    cutout_transform,\n",
        "])"
      ]
    },
    {
      "cell_type": "markdown",
      "metadata": {},
      "source": [
        "The train dataloader needs to be reinstantiated with the new transform.\n",
        "The validation dataloader is not affected, and thus can be reused.\n",
        "\n"
      ]
    },
    {
      "cell_type": "code",
      "execution_count": null,
      "metadata": {
        "collapsed": false
      },
      "outputs": [],
      "source": [
        "train_data_cutout = nni.trace(CIFAR10)(root='./data', train=True, download=True, transform=transform_with_cutout)\n",
        "train_loader_cutout = DataLoader(train_data_cutout, batch_size=96)"
      ]
    },
    {
      "cell_type": "markdown",
      "metadata": {},
      "source": [
        "We then create the final model based on the new exported architecture.\n",
        "This time, auxiliary loss and drop path probability is enabled.\n",
        "\n",
        "Following the same procedure as paper, we also increase the number of filters to 36, and number of cells to 20,\n",
        "so as to reasonably increase the model size and boost the performance.\n",
        "\n"
      ]
    },
    {
      "cell_type": "code",
      "execution_count": null,
      "metadata": {
        "collapsed": false
      },
      "outputs": [],
      "source": [
        "with fixed_arch(exported_arch):\n",
        "    final_model = DartsSpace(width=36, num_cells=20, dataset='cifar', auxiliary_loss=True, drop_path_prob=0.2)"
      ]
    },
    {
      "cell_type": "markdown",
      "metadata": {},
      "source": [
        "We create a new evaluator for the retraining process, where the gradient clipping is put into the keyword arguments of trainer.\n",
        "\n"
      ]
    },
    {
      "cell_type": "code",
      "execution_count": null,
      "metadata": {
        "collapsed": false
      },
      "outputs": [],
      "source": [
        "max_epochs = 600\n",
        "\n",
        "evaluator = Lightning(\n",
        "    DartsClassificationModule(0.025, 3e-4, 0.4, max_epochs),\n",
        "    trainer=Trainer(\n",
        "        gpus=1,\n",
        "        gradient_clip_val=5.,\n",
        "        max_epochs=max_epochs,\n",
        "        fast_dev_run=fast_dev_run\n",
        "    ),\n",
        "    train_dataloaders=train_loader_cutout,\n",
        "    val_dataloaders=valid_loader,\n",
        ")\n",
        "\n",
        "evaluator.fit(final_model)"
      ]
    },
    {
      "cell_type": "markdown",
      "metadata": {},
      "source": [
        "When ``fast_dev_run`` is turned off, after retraining, the architecture yields a top-1 accuracy of 97.12%.\n",
        "If we take the best snapshot throughout the retrain process,\n",
        "there is a chance that the top-1 accuracy will be 97.28%.\n",
        "\n",
        "<img src=\"file://../../img/darts_val_acc.png\">\n",
        "\n",
        "In the figure, the orange line is the validation accuracy curve after training for 600 epochs,\n",
        "while the red line corresponding the previous version in this tutorial before adding all the training tricks and\n",
        "only trains for 100 epochs.\n",
        "\n",
        "The results outperforms \"DARTS (first order) + cutout\" in `DARTS`_ paper, which is only 97.00±0.14%.\n",
        "It's even comparable with \"DARTS (second order) + cutout\" in the paper (97.24±0.09%),\n",
        "though we didn't implement the second order version.\n",
        "The implementation of second order DARTS is in our future plan, and we also welcome your contribution.\n",
        "\n"
      ]
    }
  ],
  "metadata": {
    "kernelspec": {
      "display_name": "Python 3.7.0 ('layoutlmv2')",
      "language": "python",
      "name": "python3"
    },
    "language_info": {
      "codemirror_mode": {
        "name": "ipython",
        "version": 3
      },
      "file_extension": ".py",
      "mimetype": "text/x-python",
      "name": "python",
      "nbconvert_exporter": "python",
      "pygments_lexer": "ipython3",
      "version": "3.7.0"
    },
    "vscode": {
      "interpreter": {
        "hash": "1b244ec88423d9fa68fb81b0a37bd0c40cdc6ee7935fc3e75879ba449d9f2eb9"
      }
    }
  },
  "nbformat": 4,
  "nbformat_minor": 0
}
