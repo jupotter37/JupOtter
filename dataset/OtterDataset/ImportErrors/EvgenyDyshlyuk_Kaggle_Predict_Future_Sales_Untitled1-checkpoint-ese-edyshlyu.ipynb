{
 "cells": [
  {
   "cell_type": "code",
   "execution_count": null,
   "metadata": {},
   "outputs": [],
   "source": [
    "%pip uninstall matplotlib"
   ]
  },
  {
   "cell_type": "code",
   "execution_count": 7,
   "metadata": {},
   "outputs": [
    {
     "data": {
      "text/plain": [
       "['C:\\\\Users\\\\edyshlyu\\\\OneDrive - Imperial College London\\\\ML\\\\2019.10.23_Top Kagglers Course\\\\Solution',\n",
       " 'C:\\\\Users\\\\edyshlyu\\\\AppData\\\\Local\\\\Continuum\\\\anaconda3\\\\python37.zip',\n",
       " 'C:\\\\Users\\\\edyshlyu\\\\AppData\\\\Local\\\\Continuum\\\\anaconda3\\\\DLLs',\n",
       " 'C:\\\\Users\\\\edyshlyu\\\\AppData\\\\Local\\\\Continuum\\\\anaconda3\\\\lib',\n",
       " 'C:\\\\Users\\\\edyshlyu\\\\AppData\\\\Local\\\\Continuum\\\\anaconda3',\n",
       " '',\n",
       " 'C:\\\\Users\\\\edyshlyu\\\\AppData\\\\Local\\\\Continuum\\\\anaconda3\\\\lib\\\\site-packages',\n",
       " 'C:\\\\Users\\\\edyshlyu\\\\AppData\\\\Local\\\\Continuum\\\\anaconda3\\\\lib\\\\site-packages\\\\win32',\n",
       " 'C:\\\\Users\\\\edyshlyu\\\\AppData\\\\Local\\\\Continuum\\\\anaconda3\\\\lib\\\\site-packages\\\\win32\\\\lib',\n",
       " 'C:\\\\Users\\\\edyshlyu\\\\AppData\\\\Local\\\\Continuum\\\\anaconda3\\\\lib\\\\site-packages\\\\Pythonwin',\n",
       " 'C:\\\\Users\\\\edyshlyu\\\\AppData\\\\Local\\\\Continuum\\\\anaconda3\\\\lib\\\\site-packages\\\\IPython\\\\extensions',\n",
       " 'C:\\\\Users\\\\edyshlyu\\\\.ipython']"
      ]
     },
     "execution_count": 7,
     "metadata": {},
     "output_type": "execute_result"
    }
   ],
   "source": [
    "import sys\n",
    "sys.path"
   ]
  },
  {
   "cell_type": "code",
   "execution_count": 9,
   "metadata": {},
   "outputs": [
    {
     "ename": "ModuleNotFoundError",
     "evalue": "No module named 'numpy.version'",
     "output_type": "error",
     "traceback": [
      "\u001b[1;31m---------------------------------------------------------------------------\u001b[0m",
      "\u001b[1;31mModuleNotFoundError\u001b[0m                       Traceback (most recent call last)",
      "\u001b[1;32m<ipython-input-9-c915fce7313e>\u001b[0m in \u001b[0;36m<module>\u001b[1;34m\u001b[0m\n\u001b[1;32m----> 1\u001b[1;33m \u001b[1;32mimport\u001b[0m \u001b[0mnumpy\u001b[0m\u001b[1;33m\u001b[0m\u001b[1;33m\u001b[0m\u001b[0m\n\u001b[0m\u001b[0;32m      2\u001b[0m \u001b[0mnumpy\u001b[0m\u001b[1;33m.\u001b[0m\u001b[0m__path__\u001b[0m\u001b[1;33m\u001b[0m\u001b[1;33m\u001b[0m\u001b[0m\n",
      "\u001b[1;32m~\\AppData\\Local\\Continuum\\anaconda3\\lib\\site-packages\\numpy\\__init__.py\u001b[0m in \u001b[0;36m<module>\u001b[1;34m\u001b[0m\n\u001b[0;32m    131\u001b[0m         \u001b[1;32mraise\u001b[0m \u001b[0mImportError\u001b[0m\u001b[1;33m(\u001b[0m\u001b[0mmsg\u001b[0m\u001b[1;33m)\u001b[0m\u001b[1;33m\u001b[0m\u001b[1;33m\u001b[0m\u001b[0m\n\u001b[0;32m    132\u001b[0m \u001b[1;33m\u001b[0m\u001b[0m\n\u001b[1;32m--> 133\u001b[1;33m     \u001b[1;32mfrom\u001b[0m \u001b[1;33m.\u001b[0m\u001b[0mversion\u001b[0m \u001b[1;32mimport\u001b[0m \u001b[0mgit_revision\u001b[0m \u001b[1;32mas\u001b[0m \u001b[0m__git_revision__\u001b[0m\u001b[1;33m\u001b[0m\u001b[1;33m\u001b[0m\u001b[0m\n\u001b[0m\u001b[0;32m    134\u001b[0m     \u001b[1;32mfrom\u001b[0m \u001b[1;33m.\u001b[0m\u001b[0mversion\u001b[0m \u001b[1;32mimport\u001b[0m \u001b[0mversion\u001b[0m \u001b[1;32mas\u001b[0m \u001b[0m__version__\u001b[0m\u001b[1;33m\u001b[0m\u001b[1;33m\u001b[0m\u001b[0m\n\u001b[0;32m    135\u001b[0m \u001b[1;33m\u001b[0m\u001b[0m\n",
      "\u001b[1;31mModuleNotFoundError\u001b[0m: No module named 'numpy.version'"
     ]
    }
   ],
   "source": [
    "import numpy\n",
    "numpy.__path__"
   ]
  },
  {
   "cell_type": "code",
   "execution_count": 8,
   "metadata": {},
   "outputs": [
    {
     "name": "stdout",
     "output_type": "stream",
     "text": [
      "# conda environments:\n",
      "#\n",
      "base                  *  C:\\Users\\edyshlyu\\AppData\\Local\\Continuum\\anaconda3\n",
      "\n"
     ]
    }
   ],
   "source": [
    "!conda env list"
   ]
  },
  {
   "cell_type": "code",
   "execution_count": 6,
   "metadata": {},
   "outputs": [
    {
     "name": "stdout",
     "output_type": "stream",
     "text": [
      "Collecting matpotlib\n"
     ]
    },
    {
     "name": "stderr",
     "output_type": "stream",
     "text": [
      "  ERROR: Could not find a version that satisfies the requirement matpotlib (from versions: none)\n",
      "ERROR: No matching distribution found for matpotlib\n"
     ]
    }
   ],
   "source": [
    "import sys\n",
    "!{sys.executable} -m pip install matpotlib"
   ]
  },
  {
   "cell_type": "code",
   "execution_count": null,
   "metadata": {},
   "outputs": [],
   "source": [
    "! pip install matplotlib"
   ]
  },
  {
   "cell_type": "code",
   "execution_count": 2,
   "metadata": {},
   "outputs": [
    {
     "ename": "ModuleNotFoundError",
     "evalue": "No module named 'matplotlib.pyplot'",
     "output_type": "error",
     "traceback": [
      "\u001b[1;31m---------------------------------------------------------------------------\u001b[0m",
      "\u001b[1;31mModuleNotFoundError\u001b[0m                       Traceback (most recent call last)",
      "\u001b[1;32m<ipython-input-2-a0d2faabd9e9>\u001b[0m in \u001b[0;36m<module>\u001b[1;34m\u001b[0m\n\u001b[1;32m----> 1\u001b[1;33m \u001b[1;32mimport\u001b[0m \u001b[0mmatplotlib\u001b[0m\u001b[1;33m.\u001b[0m\u001b[0mpyplot\u001b[0m \u001b[1;32mas\u001b[0m \u001b[0mplt\u001b[0m\u001b[1;33m\u001b[0m\u001b[1;33m\u001b[0m\u001b[0m\n\u001b[0m",
      "\u001b[1;31mModuleNotFoundError\u001b[0m: No module named 'matplotlib.pyplot'"
     ]
    }
   ],
   "source": [
    "import matplotlib.pyplot as plt"
   ]
  },
  {
   "cell_type": "code",
   "execution_count": 1,
   "metadata": {},
   "outputs": [
    {
     "ename": "ModuleNotFoundError",
     "evalue": "No module named 'matplotlib.pyplot'",
     "output_type": "error",
     "traceback": [
      "\u001b[1;31m---------------------------------------------------------------------------\u001b[0m",
      "\u001b[1;31mModuleNotFoundError\u001b[0m                       Traceback (most recent call last)",
      "\u001b[1;32m~\\OneDrive - Imperial College London\\ML\\2019.10.23_Top Kagglers Course\\Solution\\libraries_and_functions.py\u001b[0m in \u001b[0;36m<module>\u001b[1;34m\u001b[0m\n\u001b[0;32m     11\u001b[0m \u001b[1;33m\u001b[0m\u001b[0m\n\u001b[0;32m     12\u001b[0m \u001b[1;31m# Import visualizations\u001b[0m\u001b[1;33m\u001b[0m\u001b[1;33m\u001b[0m\u001b[1;33m\u001b[0m\u001b[0m\n\u001b[1;32m---> 13\u001b[1;33m \u001b[1;32mimport\u001b[0m \u001b[0mmatplotlib\u001b[0m\u001b[1;33m.\u001b[0m\u001b[0mpyplot\u001b[0m \u001b[1;32mas\u001b[0m \u001b[0mplt\u001b[0m\u001b[1;33m\u001b[0m\u001b[1;33m\u001b[0m\u001b[0m\n\u001b[0m\u001b[0;32m     14\u001b[0m \u001b[0mplt\u001b[0m\u001b[1;33m.\u001b[0m\u001b[0mrcParams\u001b[0m\u001b[1;33m[\u001b[0m\u001b[1;34m'figure.figsize'\u001b[0m\u001b[1;33m]\u001b[0m \u001b[1;33m=\u001b[0m \u001b[1;33m(\u001b[0m\u001b[1;36m20\u001b[0m\u001b[1;33m,\u001b[0m\u001b[1;36m5\u001b[0m\u001b[1;33m)\u001b[0m \u001b[1;31m# Set standard output figure size\u001b[0m\u001b[1;33m\u001b[0m\u001b[1;33m\u001b[0m\u001b[0m\n\u001b[0;32m     15\u001b[0m \u001b[1;32mimport\u001b[0m \u001b[0mseaborn\u001b[0m \u001b[1;32mas\u001b[0m \u001b[0msns\u001b[0m \u001b[1;31m# sns visualization library\u001b[0m\u001b[1;33m\u001b[0m\u001b[1;33m\u001b[0m\u001b[0m\n",
      "\u001b[1;31mModuleNotFoundError\u001b[0m: No module named 'matplotlib.pyplot'"
     ]
    }
   ],
   "source": [
    "%reset -f\n",
    "%run libraries_and_functions"
   ]
  },
  {
   "cell_type": "code",
   "execution_count": 2,
   "metadata": {},
   "outputs": [],
   "source": [
    "X = pd.read_pickle(r'output/data/X_2_FE.pkl')"
   ]
  },
  {
   "cell_type": "code",
   "execution_count": 1,
   "metadata": {},
   "outputs": [
    {
     "name": "stderr",
     "output_type": "stream",
     "text": [
      "matplotlib could not be loaded!\n",
      "matplotlib could not be loaded!\n",
      "matplotlib could not be loaded!\n",
      "matplotlib could not be loaded!\n",
      "matplotlib could not be loaded!\n",
      "matplotlib could not be loaded!\n",
      "matplotlib could not be loaded!\n",
      "matplotlib could not be loaded!\n"
     ]
    },
    {
     "ename": "ModuleNotFoundError",
     "evalue": "No module named 'mpl_toolkits.mplot3d'",
     "output_type": "error",
     "traceback": [
      "\u001b[1;31m---------------------------------------------------------------------------\u001b[0m",
      "\u001b[1;31mModuleNotFoundError\u001b[0m                       Traceback (most recent call last)",
      "\u001b[1;32m<ipython-input-1-efbb001a1501>\u001b[0m in \u001b[0;36m<module>\u001b[1;34m\u001b[0m\n\u001b[1;32m----> 1\u001b[1;33m \u001b[1;32mimport\u001b[0m \u001b[0mshap\u001b[0m\u001b[1;33m\u001b[0m\u001b[1;33m\u001b[0m\u001b[0m\n\u001b[0m",
      "\u001b[1;32m~\\AppData\\Local\\Continuum\\anaconda3\\lib\\site-packages\\shap\\__init__.py\u001b[0m in \u001b[0;36m<module>\u001b[1;34m\u001b[0m\n\u001b[0;32m     35\u001b[0m     \u001b[1;32mfrom\u001b[0m \u001b[1;33m.\u001b[0m\u001b[0mplots\u001b[0m\u001b[1;33m.\u001b[0m\u001b[0mmonitoring\u001b[0m \u001b[1;32mimport\u001b[0m \u001b[0mmonitoring_plot\u001b[0m\u001b[1;33m\u001b[0m\u001b[1;33m\u001b[0m\u001b[0m\n\u001b[0;32m     36\u001b[0m     \u001b[1;32mfrom\u001b[0m \u001b[1;33m.\u001b[0m\u001b[0mplots\u001b[0m\u001b[1;33m.\u001b[0m\u001b[0membedding\u001b[0m \u001b[1;32mimport\u001b[0m \u001b[0membedding_plot\u001b[0m\u001b[1;33m\u001b[0m\u001b[1;33m\u001b[0m\u001b[0m\n\u001b[1;32m---> 37\u001b[1;33m     \u001b[1;32mfrom\u001b[0m \u001b[1;33m.\u001b[0m\u001b[0mplots\u001b[0m\u001b[1;33m.\u001b[0m\u001b[0mpartial_dependence\u001b[0m \u001b[1;32mimport\u001b[0m \u001b[0mpartial_dependence_plot\u001b[0m\u001b[1;33m\u001b[0m\u001b[1;33m\u001b[0m\u001b[0m\n\u001b[0m\u001b[0;32m     38\u001b[0m     \u001b[1;32mfrom\u001b[0m \u001b[1;33m.\u001b[0m\u001b[0mplots\u001b[0m\u001b[1;33m.\u001b[0m\u001b[0mbar\u001b[0m \u001b[1;32mimport\u001b[0m \u001b[0mbar_plot\u001b[0m\u001b[1;33m\u001b[0m\u001b[1;33m\u001b[0m\u001b[0m\n\u001b[0;32m     39\u001b[0m     \u001b[1;32mfrom\u001b[0m \u001b[1;33m.\u001b[0m\u001b[0mplots\u001b[0m\u001b[1;33m.\u001b[0m\u001b[0mwaterfall\u001b[0m \u001b[1;32mimport\u001b[0m \u001b[0mwaterfall_plot\u001b[0m\u001b[1;33m\u001b[0m\u001b[1;33m\u001b[0m\u001b[0m\n",
      "\u001b[1;32m~\\AppData\\Local\\Continuum\\anaconda3\\lib\\site-packages\\shap\\plots\\partial_dependence.py\u001b[0m in \u001b[0;36m<module>\u001b[1;34m\u001b[0m\n\u001b[0;32m      7\u001b[0m     \u001b[0mwarnings\u001b[0m\u001b[1;33m.\u001b[0m\u001b[0mwarn\u001b[0m\u001b[1;33m(\u001b[0m\u001b[1;34m\"matplotlib could not be loaded!\"\u001b[0m\u001b[1;33m)\u001b[0m\u001b[1;33m\u001b[0m\u001b[1;33m\u001b[0m\u001b[0m\n\u001b[0;32m      8\u001b[0m     \u001b[1;32mpass\u001b[0m\u001b[1;33m\u001b[0m\u001b[1;33m\u001b[0m\u001b[0m\n\u001b[1;32m----> 9\u001b[1;33m \u001b[1;32mfrom\u001b[0m \u001b[0mmpl_toolkits\u001b[0m\u001b[1;33m.\u001b[0m\u001b[0mmplot3d\u001b[0m \u001b[1;32mimport\u001b[0m \u001b[0mAxes3D\u001b[0m\u001b[1;33m\u001b[0m\u001b[1;33m\u001b[0m\u001b[0m\n\u001b[0m\u001b[0;32m     10\u001b[0m \u001b[1;32mimport\u001b[0m \u001b[0mnumpy\u001b[0m \u001b[1;32mas\u001b[0m \u001b[0mnp\u001b[0m\u001b[1;33m\u001b[0m\u001b[1;33m\u001b[0m\u001b[0m\n\u001b[0;32m     11\u001b[0m \u001b[1;32mimport\u001b[0m \u001b[0mpandas\u001b[0m \u001b[1;32mas\u001b[0m \u001b[0mpd\u001b[0m\u001b[1;33m\u001b[0m\u001b[1;33m\u001b[0m\u001b[0m\n",
      "\u001b[1;31mModuleNotFoundError\u001b[0m: No module named 'mpl_toolkits.mplot3d'"
     ]
    }
   ],
   "source": [
    "import shap"
   ]
  },
  {
   "cell_type": "code",
   "execution_count": null,
   "metadata": {},
   "outputs": [],
   "source": [
    "def LGBM(X, Test_name = 'test', num_boost_round = 5000, early_stopping_rounds = 100, lambda_l2 = 0, learning_rate = 0.1, retrain = False, plot = False):\n",
    "    \n",
    "    X_train = X[X.date_block_num < 33].drop(['item_cnt_month'], axis=1)\n",
    "    y_train = X[X.date_block_num < 33]['item_cnt_month']\n",
    "    X_val   = X[X.date_block_num == 33].drop(['item_cnt_month'], axis=1)\n",
    "    y_val   = X[X.date_block_num == 33]['item_cnt_month']\n",
    "    X_test  = X[X.date_block_num == 34].drop(['item_cnt_month'], axis=1)\n",
    "    \n",
    "    train_dataset = lgb.Dataset(X_train, y_train)\n",
    "    val_dataset = lgb.Dataset(X_val, y_val) \n",
    "#_________________________________________________________________________\n",
    "    \n",
    "    params = {'objective':        'regression',\n",
    "              'metric':           'rmse',\n",
    "              \n",
    "              'num_leaves':       1417,\n",
    "              'max_depth':        10,\n",
    "              'min_data_in_leaf': 469,\n",
    "              'max_bin':          97,\n",
    "              \n",
    "              'lambda_l2':        lambda_l2,\n",
    "              \n",
    "              'learning_rate':    learning_rate,\n",
    "              'bagging_fraction': 0.5,\n",
    "              'feature_fraction': 0.5,\n",
    "              'bagging_freq':     1,\n",
    "              'bagging_seed':     42,\n",
    "              'verbosity':        -1,\n",
    "              'seed':             42}\n",
    "    \n",
    "    evals_result = {}  # to record eval results for plotting\n",
    "\n",
    "    model = lgb.train(params,\n",
    "                      train_dataset,\n",
    "                      valid_sets=[train_dataset, val_dataset],\n",
    "                      valid_names=['train','val'],\n",
    "                      \n",
    "                      num_boost_round = num_boost_round, \n",
    "                      early_stopping_rounds=early_stopping_rounds,\n",
    "                      evals_result=evals_result,                      \n",
    "                      verbose_eval=500)\n",
    "    \n",
    "    y_pred_train = model.predict(X_train).clip(0,20) # Competition evaluation requirement: True target values are clipped into [0,20] range \n",
    "    y_pred_val = model.predict(X_val).clip(0,20)\n",
    "    \n",
    "    RMSE_train = np.sqrt(mean_squared_error(y_train, y_pred_train))\n",
    "    RMSE_val = np.sqrt(mean_squared_error(y_val, y_pred_val)) \n",
    "   \n",
    "    print(f'LGBM: RMSE train: {RMSE_train}  RMSE val: {RMSE_val}')\n",
    "    \n",
    "    #_____________________________________________________________________________________\n",
    "    #model = model.refit(data = X_val, label = y_val, decay_rate = 0.5) #leaf_output = decay_rate * old_leaf_output + (1.0 - decay_rate) * new_leaf_output. Refit works only for CLI version\n",
    "    if retrain == True:\n",
    "        X_trainval = X[X.date_block_num < 34].drop(['item_cnt_month'], axis=1)\n",
    "        y_trainval = X[X.date_block_num < 34]['item_cnt_month']\n",
    "        trainval_dataset = lgb.Dataset(X_trainval, label=y_trainval)\n",
    "        \n",
    "        model = lgb.train(params,\n",
    "                          trainval_dataset,\n",
    "                          valid_sets=[trainval_dataset],\n",
    "                          valid_names=['trainval'],\n",
    "                      \n",
    "                          num_boost_round = num_boost_round, \n",
    "                          early_stopping_rounds=early_stopping_rounds,\n",
    "                          evals_result=evals_result,                      \n",
    "                          verbose_eval=500)\n",
    "        y_pred_trainval = model.predict(X_trainval).clip(0,20)\n",
    "        \n",
    "        RMSE_trainval = np.sqrt(mean_squared_error(y_trainval, y_pred_trainval)) \n",
    "        print(f'LGBM: RMSE train and val: {RMSE_trainval}')\n",
    "    #_____________________________________________________________________________________\n",
    "    if plot == True:    \n",
    "        #Feature importance in LGBM can be calculated as split or gain. Here I take harmonic average of the two as a ranking for feature importance\n",
    "        gain  = model.feature_importance('gain')\n",
    "        gain_fraction = np.round((100 * gain / gain.sum()),1)\n",
    "        split = model.feature_importance('split')\n",
    "        split_fraction = np.round((100 * split / split.sum()),1)\n",
    "        harmonic_mean = np.round(2*split_fraction*gain_fraction/((split_fraction+gain_fraction)), 1)\n",
    "        \n",
    "        FI_df = pd.DataFrame({'feature': model.feature_name(),\n",
    "                              'harmonic_mean': harmonic_mean,\n",
    "                              'gain': gain_fraction,\n",
    "                              'split': split_fraction}).sort_values('harmonic_mean', ascending=False)\n",
    "        FI_df = FI_df.reset_index(drop=True) # set the index column in order with the harmonic_mean order\n",
    "    \n",
    "        # Plotting results: Feature Importance and Train/Val Errors\n",
    "        fig, (ax1, ax2) = plt.subplots(1, 2, figsize=(25,15))\n",
    "    \n",
    "        ax1.plot(evals_result['train']['rmse'], 'g', label='train')\n",
    "        ax1.plot(evals_result['val']['rmse'], 'r', label='val')\n",
    "        ax1.legend(loc = 'upper right')\n",
    "        ax1.grid(True)\n",
    "    \n",
    "        ax2.barh(FI_df.index, FI_df.harmonic_mean.values, tick_label = FI_df.feature)\n",
    "        ax2.invert_yaxis()\n",
    "        ax2.yaxis.tick_right()    \n",
    "        plt.show()    \n",
    "    \n",
    "    \n",
    "    y_pred_test = model.predict(X_test).clip(0,20)\n",
    "#______________________________________________________________________________________    \n",
    "    # Save the predictions to csv for submission: \n",
    "    df = pd.DataFrame(y_pred_test, columns = ['item_cnt_month']).reset_index()\n",
    "    df.rename(columns = {'index':'ID'}, inplace=True)\n",
    "    df.to_csv(r'output/submissions/'+Test_name+'.csv', index=False)\n",
    "\n",
    "#_______________________________________________________________________________________\n",
    "    # Save test results to Journal\n",
    "    row = '\\n'+str(Test_name)+','+str(RMSE_train)+','+str(RMSE_val)\n",
    "    with open('Journal.csv','a') as file:\n",
    "        file.write(row)\n",
    "     \n",
    "    return y_pred_train, y_pred_val, y_pred_test, FI_df"
   ]
  },
  {
   "cell_type": "code",
   "execution_count": null,
   "metadata": {},
   "outputs": [],
   "source": [
    "%%time\n",
    "y_pred_train, y_pred_val, y_pred_test, FI_df = LGBM(X, 'DL mean enc features 500_None_10_0.05_False', num_boost_round = 500, early_stopping_rounds = None, lambda_l2 = 10, learning_rate = 0.05, retrain = False, plot = True)"
   ]
  }
 ],
 "metadata": {
  "kernelspec": {
   "display_name": "Python 3",
   "language": "python",
   "name": "python3"
  },
  "language_info": {
   "codemirror_mode": {
    "name": "ipython",
    "version": 3
   },
   "file_extension": ".py",
   "mimetype": "text/x-python",
   "name": "python",
   "nbconvert_exporter": "python",
   "pygments_lexer": "ipython3",
   "version": "3.7.3"
  }
 },
 "nbformat": 4,
 "nbformat_minor": 4
}
