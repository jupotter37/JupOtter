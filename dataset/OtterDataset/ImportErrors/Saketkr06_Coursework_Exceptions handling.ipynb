{
 "cells": [
  {
   "cell_type": "markdown",
   "id": "e2bd1b27",
   "metadata": {},
   "source": [
    "#errors:syntax error(parsing error)"
   ]
  },
  {
   "cell_type": "code",
   "execution_count": 2,
   "id": "36ce6a52",
   "metadata": {},
   "outputs": [
    {
     "ename": "SyntaxError",
     "evalue": "invalid syntax (2369681228.py, line 2)",
     "output_type": "error",
     "traceback": [
      "\u001b[1;36m  Input \u001b[1;32mIn [2]\u001b[1;36m\u001b[0m\n\u001b[1;33m    if a<10\u001b[0m\n\u001b[1;37m           ^\u001b[0m\n\u001b[1;31mSyntaxError\u001b[0m\u001b[1;31m:\u001b[0m invalid syntax\n"
     ]
    }
   ],
   "source": [
    "a=10\n",
    "if a<10\n",
    "    print(\"less\")"
   ]
  },
  {
   "cell_type": "markdown",
   "id": "865ffd22",
   "metadata": {},
   "source": [
    "#logical errors(exceptions) it occurs during runtime(zero divison error,file not found,input error)"
   ]
  },
  {
   "cell_type": "code",
   "execution_count": 4,
   "id": "bb870362",
   "metadata": {},
   "outputs": [
    {
     "ename": "ZeroDivisionError",
     "evalue": "division by zero",
     "output_type": "error",
     "traceback": [
      "\u001b[1;31m---------------------------------------------------------------------------\u001b[0m",
      "\u001b[1;31mZeroDivisionError\u001b[0m                         Traceback (most recent call last)",
      "Input \u001b[1;32mIn [4]\u001b[0m, in \u001b[0;36m<cell line: 1>\u001b[1;34m()\u001b[0m\n\u001b[1;32m----> 1\u001b[0m \u001b[38;5;241;43m1\u001b[39;49m\u001b[38;5;241;43m/\u001b[39;49m\u001b[38;5;241;43m0\u001b[39;49m\n",
      "\u001b[1;31mZeroDivisionError\u001b[0m: division by zero"
     ]
    }
   ],
   "source": [
    "1/0"
   ]
  },
  {
   "cell_type": "code",
   "execution_count": 6,
   "id": "313cc842",
   "metadata": {},
   "outputs": [
    {
     "ename": "FileNotFoundError",
     "evalue": "[Errno 2] No such file or directory: 'test.txt'",
     "output_type": "error",
     "traceback": [
      "\u001b[1;31m---------------------------------------------------------------------------\u001b[0m",
      "\u001b[1;31mFileNotFoundError\u001b[0m                         Traceback (most recent call last)",
      "Input \u001b[1;32mIn [6]\u001b[0m, in \u001b[0;36m<cell line: 1>\u001b[1;34m()\u001b[0m\n\u001b[1;32m----> 1\u001b[0m \u001b[38;5;28;43mopen\u001b[39;49m\u001b[43m(\u001b[49m\u001b[38;5;124;43m\"\u001b[39;49m\u001b[38;5;124;43mtest.txt\u001b[39;49m\u001b[38;5;124;43m\"\u001b[39;49m\u001b[43m)\u001b[49m\n",
      "\u001b[1;31mFileNotFoundError\u001b[0m: [Errno 2] No such file or directory: 'test.txt'"
     ]
    }
   ],
   "source": [
    "open(\"test.txt\")"
   ]
  },
  {
   "cell_type": "code",
   "execution_count": 7,
   "id": "8dda0a1c",
   "metadata": {},
   "outputs": [
    {
     "ename": "NameError",
     "evalue": "name 'c' is not defined",
     "output_type": "error",
     "traceback": [
      "\u001b[1;31m---------------------------------------------------------------------------\u001b[0m",
      "\u001b[1;31mNameError\u001b[0m                                 Traceback (most recent call last)",
      "Input \u001b[1;32mIn [7]\u001b[0m, in \u001b[0;36m<cell line: 3>\u001b[1;34m()\u001b[0m\n\u001b[0;32m      1\u001b[0m a\u001b[38;5;241m=\u001b[39m\u001b[38;5;241m10\u001b[39m\n\u001b[0;32m      2\u001b[0m b\u001b[38;5;241m=\u001b[39m\u001b[38;5;241m10\u001b[39m\n\u001b[1;32m----> 3\u001b[0m \u001b[38;5;28mprint\u001b[39m(\u001b[38;5;124m\"\u001b[39m\u001b[38;5;124maddition\u001b[39m\u001b[38;5;124m\"\u001b[39m,a\u001b[38;5;241m+\u001b[39m\u001b[43mc\u001b[49m)\n",
      "\u001b[1;31mNameError\u001b[0m: name 'c' is not defined"
     ]
    }
   ],
   "source": [
    "a=10\n",
    "b=10\n",
    "print(\"addition\",a+c)"
   ]
  },
  {
   "cell_type": "code",
   "execution_count": 11,
   "id": "8eadda92",
   "metadata": {},
   "outputs": [
    {
     "name": "stdout",
     "output_type": "stream",
     "text": [
      "['ArithmeticError', 'AssertionError', 'AttributeError', 'BaseException', 'BlockingIOError', 'BrokenPipeError', 'BufferError', 'BytesWarning', 'ChildProcessError', 'ConnectionAbortedError', 'ConnectionError', 'ConnectionRefusedError', 'ConnectionResetError', 'DeprecationWarning', 'EOFError', 'Ellipsis', 'EnvironmentError', 'Exception', 'False', 'FileExistsError', 'FileNotFoundError', 'FloatingPointError', 'FutureWarning', 'GeneratorExit', 'IOError', 'ImportError', 'ImportWarning', 'IndentationError', 'IndexError', 'InterruptedError', 'IsADirectoryError', 'KeyError', 'KeyboardInterrupt', 'LookupError', 'MemoryError', 'ModuleNotFoundError', 'NameError', 'None', 'NotADirectoryError', 'NotImplemented', 'NotImplementedError', 'OSError', 'OverflowError', 'PendingDeprecationWarning', 'PermissionError', 'ProcessLookupError', 'RecursionError', 'ReferenceError', 'ResourceWarning', 'RuntimeError', 'RuntimeWarning', 'StopAsyncIteration', 'StopIteration', 'SyntaxError', 'SyntaxWarning', 'SystemError', 'SystemExit', 'TabError', 'TimeoutError', 'True', 'TypeError', 'UnboundLocalError', 'UnicodeDecodeError', 'UnicodeEncodeError', 'UnicodeError', 'UnicodeTranslateError', 'UnicodeWarning', 'UserWarning', 'ValueError', 'Warning', 'WindowsError', 'ZeroDivisionError', '__IPYTHON__', '__build_class__', '__debug__', '__doc__', '__import__', '__loader__', '__name__', '__package__', '__spec__', 'abs', 'all', 'any', 'ascii', 'bin', 'bool', 'breakpoint', 'bytearray', 'bytes', 'callable', 'chr', 'classmethod', 'compile', 'complex', 'copyright', 'credits', 'delattr', 'dict', 'dir', 'display', 'divmod', 'enumerate', 'eval', 'exec', 'execfile', 'filter', 'float', 'format', 'frozenset', 'get_ipython', 'getattr', 'globals', 'hasattr', 'hash', 'help', 'hex', 'id', 'input', 'int', 'isinstance', 'issubclass', 'iter', 'len', 'license', 'list', 'locals', 'map', 'max', 'memoryview', 'min', 'next', 'object', 'oct', 'open', 'ord', 'pow', 'print', 'property', 'range', 'repr', 'reversed', 'round', 'runfile', 'set', 'setattr', 'slice', 'sorted', 'staticmethod', 'str', 'sum', 'super', 'tuple', 'type', 'vars', 'zip']\n"
     ]
    }
   ],
   "source": [
    "print(dir(locals()[\"__builtins__\"]))"
   ]
  },
  {
   "cell_type": "markdown",
   "id": "132d49be",
   "metadata": {},
   "source": [
    "# Assertion Error"
   ]
  },
  {
   "cell_type": "code",
   "execution_count": 13,
   "id": "815e32ae",
   "metadata": {},
   "outputs": [
    {
     "ename": "ZeroDivisionError",
     "evalue": "division by zero",
     "output_type": "error",
     "traceback": [
      "\u001b[1;31m---------------------------------------------------------------------------\u001b[0m",
      "\u001b[1;31mZeroDivisionError\u001b[0m                         Traceback (most recent call last)",
      "Input \u001b[1;32mIn [13]\u001b[0m, in \u001b[0;36m<cell line: 4>\u001b[1;34m()\u001b[0m\n\u001b[0;32m      2\u001b[0m y\u001b[38;5;241m=\u001b[39m\u001b[38;5;241m0\u001b[39m\n\u001b[0;32m      3\u001b[0m \u001b[38;5;28;01massert\u001b[39;00m y\u001b[38;5;241m==\u001b[39m\u001b[38;5;241m0\u001b[39m,\u001b[38;5;124m\"\u001b[39m\u001b[38;5;124mInvalid Operation\u001b[39m\u001b[38;5;124m\"\u001b[39m\u001b[38;5;66;03m# used to check condition is true debuggingthe code\u001b[39;00m\n\u001b[1;32m----> 4\u001b[0m \u001b[38;5;28mprint\u001b[39m(\u001b[43mx\u001b[49m\u001b[38;5;241;43m/\u001b[39;49m\u001b[43my\u001b[49m)\n",
      "\u001b[1;31mZeroDivisionError\u001b[0m: division by zero"
     ]
    }
   ],
   "source": [
    "x=1\n",
    "y=0\n",
    "assert y!=0,\"Invalid Operation\"# used to check condition is true debuggingthe code\n",
    "print(x/y)"
   ]
  },
  {
   "cell_type": "markdown",
   "id": "fced5cc0",
   "metadata": {},
   "source": [
    "assertion is used for debugging code to check if statement is true otherwise it will return assertion error"
   ]
  },
  {
   "cell_type": "markdown",
   "id": "1040cee6",
   "metadata": {},
   "source": [
    "Attribute error"
   ]
  },
  {
   "cell_type": "code",
   "execution_count": 14,
   "id": "cf3ac709",
   "metadata": {},
   "outputs": [
    {
     "ename": "AttributeError",
     "evalue": "'int' object has no attribute 'append'",
     "output_type": "error",
     "traceback": [
      "\u001b[1;31m---------------------------------------------------------------------------\u001b[0m",
      "\u001b[1;31mAttributeError\u001b[0m                            Traceback (most recent call last)",
      "Input \u001b[1;32mIn [14]\u001b[0m, in \u001b[0;36m<cell line: 2>\u001b[1;34m()\u001b[0m\n\u001b[0;32m      1\u001b[0m y\u001b[38;5;241m=\u001b[39m\u001b[38;5;241m10\u001b[39m\n\u001b[1;32m----> 2\u001b[0m \u001b[43my\u001b[49m\u001b[38;5;241;43m.\u001b[39;49m\u001b[43mappend\u001b[49m(\u001b[38;5;241m6\u001b[39m)\n",
      "\u001b[1;31mAttributeError\u001b[0m: 'int' object has no attribute 'append'"
     ]
    }
   ],
   "source": [
    "y=10\n",
    "y.append(6)"
   ]
  },
  {
   "cell_type": "markdown",
   "id": "01e913fd",
   "metadata": {},
   "source": [
    "assignment of value fails"
   ]
  },
  {
   "cell_type": "code",
   "execution_count": 15,
   "id": "35377ee9",
   "metadata": {},
   "outputs": [
    {
     "ename": "IndexError",
     "evalue": "list index out of range",
     "output_type": "error",
     "traceback": [
      "\u001b[1;31m---------------------------------------------------------------------------\u001b[0m",
      "\u001b[1;31mIndexError\u001b[0m                                Traceback (most recent call last)",
      "Input \u001b[1;32mIn [15]\u001b[0m, in \u001b[0;36m<cell line: 2>\u001b[1;34m()\u001b[0m\n\u001b[0;32m      1\u001b[0m mylist\u001b[38;5;241m=\u001b[39m[\u001b[38;5;241m1\u001b[39m,\u001b[38;5;241m2\u001b[39m,\u001b[38;5;241m3\u001b[39m,\u001b[38;5;241m4\u001b[39m,\u001b[38;5;241m5\u001b[39m,\u001b[38;5;241m6\u001b[39m,\u001b[38;5;241m7\u001b[39m,\u001b[38;5;241m8\u001b[39m,\u001b[38;5;241m9\u001b[39m]\n\u001b[1;32m----> 2\u001b[0m \u001b[43mmylist\u001b[49m\u001b[43m[\u001b[49m\u001b[38;5;241;43m10\u001b[39;49m\u001b[43m]\u001b[49m\n",
      "\u001b[1;31mIndexError\u001b[0m: list index out of range"
     ]
    }
   ],
   "source": [
    "mylist=[1,2,3,4,5,6,7,8,9]\n",
    "mylist[10]"
   ]
  },
  {
   "cell_type": "code",
   "execution_count": 16,
   "id": "da6c2515",
   "metadata": {},
   "outputs": [
    {
     "ename": "KeyError",
     "evalue": "'age'",
     "output_type": "error",
     "traceback": [
      "\u001b[1;31m---------------------------------------------------------------------------\u001b[0m",
      "\u001b[1;31mKeyError\u001b[0m                                  Traceback (most recent call last)",
      "Input \u001b[1;32mIn [16]\u001b[0m, in \u001b[0;36m<cell line: 2>\u001b[1;34m()\u001b[0m\n\u001b[0;32m      1\u001b[0m mydict\u001b[38;5;241m=\u001b[39m{\u001b[38;5;124m'\u001b[39m\u001b[38;5;124mname\u001b[39m\u001b[38;5;124m'\u001b[39m:\u001b[38;5;124m\"\u001b[39m\u001b[38;5;124mSaket\u001b[39m\u001b[38;5;124m\"\u001b[39m,\u001b[38;5;124m\"\u001b[39m\u001b[38;5;124mcourse\u001b[39m\u001b[38;5;124m\"\u001b[39m:\u001b[38;5;124m\"\u001b[39m\u001b[38;5;124mFSDS\u001b[39m\u001b[38;5;124m\"\u001b[39m}\n\u001b[1;32m----> 2\u001b[0m \u001b[43mmydict\u001b[49m\u001b[43m[\u001b[49m\u001b[38;5;124;43m\"\u001b[39;49m\u001b[38;5;124;43mage\u001b[39;49m\u001b[38;5;124;43m\"\u001b[39;49m\u001b[43m]\u001b[49m\n",
      "\u001b[1;31mKeyError\u001b[0m: 'age'"
     ]
    }
   ],
   "source": [
    "mydict={'name':\"Saket\",\"course\":\"FSDS\"}\n",
    "mydict[\"age\"]"
   ]
  },
  {
   "cell_type": "code",
   "execution_count": 17,
   "id": "8dee7018",
   "metadata": {},
   "outputs": [
    {
     "ename": "NameError",
     "evalue": "name 'm' is not defined",
     "output_type": "error",
     "traceback": [
      "\u001b[1;31m---------------------------------------------------------------------------\u001b[0m",
      "\u001b[1;31mNameError\u001b[0m                                 Traceback (most recent call last)",
      "Input \u001b[1;32mIn [17]\u001b[0m, in \u001b[0;36m<cell line: 1>\u001b[1;34m()\u001b[0m\n\u001b[1;32m----> 1\u001b[0m \u001b[38;5;28mprint\u001b[39m(\u001b[43mm\u001b[49m)\n",
      "\u001b[1;31mNameError\u001b[0m: name 'm' is not defined"
     ]
    }
   ],
   "source": [
    "print(m)"
   ]
  },
  {
   "cell_type": "code",
   "execution_count": 18,
   "id": "cb40c758",
   "metadata": {},
   "outputs": [],
   "source": [
    "import math"
   ]
  },
  {
   "cell_type": "code",
   "execution_count": 19,
   "id": "810eba24",
   "metadata": {},
   "outputs": [
    {
     "ename": "ValueError",
     "evalue": "math domain error",
     "output_type": "error",
     "traceback": [
      "\u001b[1;31m---------------------------------------------------------------------------\u001b[0m",
      "\u001b[1;31mValueError\u001b[0m                                Traceback (most recent call last)",
      "Input \u001b[1;32mIn [19]\u001b[0m, in \u001b[0;36m<cell line: 1>\u001b[1;34m()\u001b[0m\n\u001b[1;32m----> 1\u001b[0m \u001b[43mmath\u001b[49m\u001b[38;5;241;43m.\u001b[39;49m\u001b[43msqrt\u001b[49m\u001b[43m(\u001b[49m\u001b[38;5;241;43m-\u001b[39;49m\u001b[38;5;241;43m200\u001b[39;49m\u001b[43m)\u001b[49m\n",
      "\u001b[1;31mValueError\u001b[0m: math domain error"
     ]
    }
   ],
   "source": [
    "math.sqrt(-200)"
   ]
  },
  {
   "cell_type": "markdown",
   "id": "080adbdb",
   "metadata": {},
   "source": [
    "###### Handling Errors"
   ]
  },
  {
   "cell_type": "code",
   "execution_count": 20,
   "id": "4db40209",
   "metadata": {},
   "outputs": [
    {
     "name": "stdout",
     "output_type": "stream",
     "text": [
      "0\n"
     ]
    },
    {
     "ename": "ZeroDivisionError",
     "evalue": "division by zero",
     "output_type": "error",
     "traceback": [
      "\u001b[1;31m---------------------------------------------------------------------------\u001b[0m",
      "\u001b[1;31mZeroDivisionError\u001b[0m                         Traceback (most recent call last)",
      "Input \u001b[1;32mIn [20]\u001b[0m, in \u001b[0;36m<cell line: 3>\u001b[1;34m()\u001b[0m\n\u001b[0;32m      1\u001b[0m a\u001b[38;5;241m=\u001b[39m\u001b[38;5;241m6\u001b[39m\n\u001b[0;32m      2\u001b[0m b\u001b[38;5;241m=\u001b[39m\u001b[38;5;28mint\u001b[39m(\u001b[38;5;28minput\u001b[39m())\n\u001b[1;32m----> 3\u001b[0m \u001b[43ma\u001b[49m\u001b[38;5;241;43m/\u001b[39;49m\u001b[43mb\u001b[49m\n",
      "\u001b[1;31mZeroDivisionError\u001b[0m: division by zero"
     ]
    }
   ],
   "source": [
    "a=6\n",
    "b=int(input())\n",
    "a/b"
   ]
  },
  {
   "cell_type": "markdown",
   "id": "bf807b86",
   "metadata": {},
   "source": [
    "how to handle by try,except,else,finally blocks to not to crash program"
   ]
  },
  {
   "cell_type": "code",
   "execution_count": 21,
   "id": "aef12e2e",
   "metadata": {},
   "outputs": [
    {
     "name": "stdout",
     "output_type": "stream",
     "text": [
      "cant divide with 0 enter different no\n"
     ]
    }
   ],
   "source": [
    "try:\n",
    "    a=10\n",
    "    b=0\n",
    "    c=a/b\n",
    "    print(c)\n",
    "except:\n",
    "    print(\"cant divide with 0 enter different no\")\n",
    "    "
   ]
  },
  {
   "cell_type": "markdown",
   "id": "66fdba1a",
   "metadata": {},
   "source": [
    "#try all the critical statements are written down if it fails except block will execute"
   ]
  },
  {
   "cell_type": "code",
   "execution_count": 23,
   "id": "494bad75",
   "metadata": {},
   "outputs": [
    {
     "name": "stdout",
     "output_type": "stream",
     "text": [
      "This was a mistake\n",
      "This is a outer block\n"
     ]
    }
   ],
   "source": [
    "try:\n",
    "    f=open(\"test.txt\",\"r\")\n",
    "    f.write(\"ineuron\")\n",
    "except:\n",
    "    print(\"This was a mistake\")\n",
    "print(\"This is a outer block\")"
   ]
  },
  {
   "cell_type": "code",
   "execution_count": 26,
   "id": "89709822",
   "metadata": {},
   "outputs": [
    {
     "name": "stdout",
     "output_type": "stream",
     "text": [
      "2\n",
      "3\n",
      "4\n",
      "5\n",
      "6\n",
      "7\n",
      "8\n",
      "list index out of range\n",
      "Error in index\n"
     ]
    }
   ],
   "source": [
    "l=[2,3,4,5,6,7,8]\n",
    "try:\n",
    "    for i in range(len(l)+1):\n",
    "        print(l[i])\n",
    "except Exception as e:\n",
    "    print(e)\n",
    "    print(\"Error in index\")"
   ]
  },
  {
   "cell_type": "code",
   "execution_count": 27,
   "id": "0619c53c",
   "metadata": {},
   "outputs": [
    {
     "name": "stdout",
     "output_type": "stream",
     "text": [
      "y\n",
      "invalid literal for int() with base 10: 'y'\n",
      "saketkumar@iisc.ac.in\n"
     ]
    }
   ],
   "source": [
    "try:\n",
    "    a=int(input())\n",
    "    b=int(input())\n",
    "except Exception as e:\n",
    "    print(e)\n",
    "    print(\"saketkumar@iisc.ac.in\")"
   ]
  },
  {
   "cell_type": "code",
   "execution_count": 29,
   "id": "0d47e1aa",
   "metadata": {},
   "outputs": [
    {
     "name": "stdout",
     "output_type": "stream",
     "text": [
      "enter a valure of a :10\n",
      "enter a valure of b :0\n",
      "enter value other than 0\n"
     ]
    }
   ],
   "source": [
    "try:\n",
    "    a=int(input(\"enter a valure of a :\"))\n",
    "    b=int(input(\"enter a valure of b :\"))\n",
    "    c=a/b\n",
    "    print(c)\n",
    "except ValueError:\n",
    "    print(\"Entered value is wrong\")\n",
    "except ZeroDivisionError:\n",
    "    print(\"enter value other than 0\")"
   ]
  },
  {
   "cell_type": "code",
   "execution_count": 30,
   "id": "33d429d1",
   "metadata": {},
   "outputs": [
    {
     "name": "stdout",
     "output_type": "stream",
     "text": [
      "the entry is  a\n",
      "oops <class 'ValueError'> occured\n",
      "next entry\n",
      "the entry is  0\n",
      "oops <class 'ZeroDivisionError'> occured\n",
      "next entry\n",
      "the entry is  2\n",
      "the reciprocal of 2 is 0.5\n"
     ]
    }
   ],
   "source": [
    "import sys\n",
    "randomList=[\"a\",0,2]\n",
    "for entry in randomList:\n",
    "    try:\n",
    "        print(\"the entry is \",entry)\n",
    "        r=1/int(entry)\n",
    "        break\n",
    "    except:\n",
    "        print(\"oops\",sys.exc_info()[0],\"occured\")\n",
    "        print('next entry')\n",
    "        \n",
    "print(\"the reciprocal of\",entry,\"is\",r)"
   ]
  },
  {
   "cell_type": "markdown",
   "id": "8845c7f4",
   "metadata": {},
   "source": [
    "Now try and Else exceptions"
   ]
  },
  {
   "cell_type": "raw",
   "id": "9e2dc25e",
   "metadata": {},
   "source": [
    "try:\n",
    "    -----\n",
    "except Exception:\n",
    "    -----------\n",
    "    \n",
    "else:\n",
    "    \n",
    "    This code will excecute when exceptions hasnot\n",
    "    occurred\n"
   ]
  },
  {
   "cell_type": "code",
   "execution_count": 38,
   "id": "ab440d5d",
   "metadata": {},
   "outputs": [
    {
     "name": "stdout",
     "output_type": "stream",
     "text": [
      "enter a no :5\n",
      "Not a even no\n"
     ]
    }
   ],
   "source": [
    "try:\n",
    "    num=int(input(\"enter a no :\"))\n",
    "    assert num%2 ==0,\"even no\"\n",
    "except:\n",
    "    print(\"Not a even no\")\n",
    "    \n",
    "else:\n",
    "    reciprocal=1/num\n",
    "    print(\"reciprocal\",reciprocal)\n",
    "#else block will execute only when execpt block has not executed"
   ]
  },
  {
   "cell_type": "code",
   "execution_count": 37,
   "id": "172ff5d6",
   "metadata": {},
   "outputs": [
    {
     "name": "stdout",
     "output_type": "stream",
     "text": [
      "enter a valure of a :4\n",
      "enter a valure of b :0\n",
      "enter value other than 0\n",
      "from finally block\n"
     ]
    }
   ],
   "source": [
    "#finally ,it will execute always whether exceptions are there or not\n",
    "try:\n",
    "    a=int(input(\"enter a valure of a :\"))\n",
    "    b=int(input(\"enter a valure of b :\"))\n",
    "    c=a/b\n",
    "    print(\"answer\",c)\n",
    "except ZeroDivisionError:\n",
    "    print(\"enter value other than 0\")\n",
    "finally:\n",
    "    print(\"from finally block\")\n",
    "#Note only one exceptionsat a time handling\n"
   ]
  },
  {
   "cell_type": "code",
   "execution_count": 42,
   "id": "f58391df",
   "metadata": {},
   "outputs": [],
   "source": [
    "def divide(x,y):\n",
    "    try:\n",
    "        print(x/y)\n",
    "    except ZeroDivisionError as e:\n",
    "        print(e)\n",
    "    else:\n",
    "        print(\"from else block\")\n",
    "    finally:\n",
    "        print(\"I will always execute\")"
   ]
  },
  {
   "cell_type": "code",
   "execution_count": 43,
   "id": "f8aadbc6",
   "metadata": {},
   "outputs": [
    {
     "name": "stdout",
     "output_type": "stream",
     "text": [
      "0.5\n",
      "from else block\n",
      "I will always execute\n",
      "division by zero\n",
      "I will always execute\n",
      "2.0\n",
      "from else block\n",
      "I will always execute\n"
     ]
    }
   ],
   "source": [
    "divide(2,4)\n",
    "divide(2,0)\n",
    "divide(2,1)"
   ]
  },
  {
   "cell_type": "code",
   "execution_count": 45,
   "id": "634ecdb5",
   "metadata": {},
   "outputs": [
    {
     "name": "stdout",
     "output_type": "stream",
     "text": [
      "Outer try block\n",
      "nested try block\n",
      "Outer block\n",
      "division by zero\n"
     ]
    }
   ],
   "source": [
    "x=10\n",
    "y=0\n",
    "\n",
    "try:\n",
    "    print(\"Outer try block\")\n",
    "    try:\n",
    "        print(\"nested try block\")\n",
    "        print(x/y)\n",
    "    except TypeError as te:#this fails and search outside\n",
    "        print(te)\n",
    "except ZeroDivisionError as ze:\n",
    "    print(\"Outer block\")\n",
    "    print(ze)\n",
    "    "
   ]
  },
  {
   "cell_type": "code",
   "execution_count": 46,
   "id": "987ab252",
   "metadata": {},
   "outputs": [],
   "source": [
    "def func1():\n",
    "    flag=True\n",
    "    while flag:\n",
    "        try:\n",
    "            a=int(input(\"enter the integers :\"))\n",
    "            if type(a)==int:\n",
    "                return \"Yes,u have entered integer\"\n",
    "            flag=False\n",
    "        except Exception as e:\n",
    "            print(\"you didnot entered integer\",e)\n",
    "    "
   ]
  },
  {
   "cell_type": "code",
   "execution_count": 47,
   "id": "c308d65e",
   "metadata": {},
   "outputs": [
    {
     "name": "stdout",
     "output_type": "stream",
     "text": [
      "enter the integers :i\n",
      "you didnot entered integer invalid literal for int() with base 10: 'i'\n",
      "enter the integers :i\n",
      "you didnot entered integer invalid literal for int() with base 10: 'i'\n",
      "enter the integers :u\n",
      "you didnot entered integer invalid literal for int() with base 10: 'u'\n",
      "enter the integers :1\n"
     ]
    },
    {
     "data": {
      "text/plain": [
       "'Yes,u have entered integer'"
      ]
     },
     "execution_count": 47,
     "metadata": {},
     "output_type": "execute_result"
    }
   ],
   "source": [
    "func1()"
   ]
  },
  {
   "cell_type": "code",
   "execution_count": 52,
   "id": "10b2b4d0",
   "metadata": {},
   "outputs": [
    {
     "name": "stdout",
     "output_type": "stream",
     "text": [
      "There is issue with my code\n",
      "(4, 5, 6, 7, 8, 9)\n"
     ]
    }
   ],
   "source": [
    "try:\n",
    "    l=[4,5,6,7,8,9]\n",
    "    l[10]\n",
    "except:\n",
    "    print(\"There is issue with my code\")\n",
    "    t=(4,5,6,7,8,9)\n",
    "    print(t)\n",
    "    try:\n",
    "        t[0]=\"saket\"#updating tuple not possibles so it will outer except block\n",
    "        #print(\"hi\")\n",
    "        try:\n",
    "            k=list(t)\n",
    "            print(k)\n",
    "        except:\n",
    "            pass\n",
    "        \n",
    "    except:\n",
    "        pass\n",
    "else:\n",
    "    print(\"there is no issues with code\")\n",
    "    "
   ]
  },
  {
   "cell_type": "code",
   "execution_count": null,
   "id": "edf03a45",
   "metadata": {},
   "outputs": [],
   "source": []
  }
 ],
 "metadata": {
  "kernelspec": {
   "display_name": "Python 3 (ipykernel)",
   "language": "python",
   "name": "python3"
  },
  "language_info": {
   "codemirror_mode": {
    "name": "ipython",
    "version": 3
   },
   "file_extension": ".py",
   "mimetype": "text/x-python",
   "name": "python",
   "nbconvert_exporter": "python",
   "pygments_lexer": "ipython3",
   "version": "3.9.12"
  }
 },
 "nbformat": 4,
 "nbformat_minor": 5
}
