{
 "cells": [
  {
   "cell_type": "markdown",
   "id": "29ec511e-cf38-48a9-8caf-a227ca51eff9",
   "metadata": {},
   "source": [
    "## CONCEPTOS BÁSICOS POO con Python"
   ]
  },
  {
   "cell_type": "raw",
   "id": "7e85b57e-83f3-4bb1-be3b-b8f05415fe98",
   "metadata": {},
   "source": [
    "** Clases: Las clases son plantillas que definen la estructura y el comportamiento de los objetos. Se definen usando la palabra clave class."
   ]
  },
  {
   "cell_type": "code",
   "execution_count": 9,
   "id": "0bf40d45-53f0-4154-ab96-18130703d71f",
   "metadata": {},
   "outputs": [],
   "source": [
    "class Persona:\n",
    "    def __init__(self, nombre, edad):\n",
    "        self.nombre = nombre\n",
    "        self.edad = edad\n"
   ]
  },
  {
   "cell_type": "raw",
   "id": "ac6dbee8-a2a0-4f49-a87b-60957eea08ca",
   "metadata": {},
   "source": [
    "** Objetos: Los objetos son instancias de una clase. Puedes crear objetos utilizando la clase como si fuera una función en otro lenguaje."
   ]
  },
  {
   "cell_type": "code",
   "execution_count": 10,
   "id": "8e74c1e3-955c-4518-a57b-c009f182bde4",
   "metadata": {},
   "outputs": [
    {
     "name": "stdout",
     "output_type": "stream",
     "text": [
      "Juan\n"
     ]
    }
   ],
   "source": [
    "persona = Persona(\"Juan\", 30)\n",
    "\n",
    "print(persona.nombre)"
   ]
  },
  {
   "cell_type": "raw",
   "id": "5973cf1d-7421-4463-9117-663d791f6114",
   "metadata": {},
   "source": [
    "Atributos: Los atributos son variables que pertenecen a un objeto y almacenan información sobre ese objeto. En el ejemplo anterior, nombre y edad son atributos de la clase Persona."
   ]
  },
  {
   "cell_type": "raw",
   "id": "2672803b-89d5-4d56-999d-4fca2998c42c",
   "metadata": {},
   "source": [
    "** Métodos: Los métodos son funciones definidas dentro de una clase que pueden operar en los atributos del objeto. El método __init__ es un constructor especial que se llama cuando se crea un objeto y se utiliza para inicializar sus atributos.\n",
    "\n",
    "Un método estático es una función que definimos dentro de la clase solo porque está relacionado conceptualmente con la misma. No altera el estado de la clase ni de las instancias de la misma, por lo que no modifica atributos de clase o instancia y por tanto no recibe como primer argumento ni la clase propiamente dicha ni una instancia de la misma. \n",
    "\n",
    "class Ejemplo:\n",
    "    @staticmethod\n",
    "    def foo():\n",
    "        print(\"Hola\")"
   ]
  },
  {
   "cell_type": "code",
   "execution_count": 11,
   "id": "19005031-1e56-4a0e-9511-bc7f9490d11e",
   "metadata": {},
   "outputs": [],
   "source": [
    "class Persona:\n",
    "    def __init__(self, nombre, edad):\n",
    "        self.nombre = nombre\n",
    "        self.edad = edad\n",
    "\n",
    "    def saludar(self):\n",
    "        print(f\"Hola, soy {self.nombre} y tengo {self.edad} años.\")"
   ]
  },
  {
   "cell_type": "raw",
   "id": "2b61f66e-b252-4d2f-818c-db4fcc8991f4",
   "metadata": {},
   "source": [
    "** Encapsulación: En Python, los atributos y métodos pueden ser públicos, protegidos o privados. Los atributos y métodos públicos son accesibles desde cualquier parte del código. \n",
    "Los atributos y métodos protegidos se denotan con un guión bajo al principio (por ejemplo, _nombre) y son accesibles desde dentro de la clase y las subclases. \n",
    "Los atributos y métodos privados se denotan con dos guiones bajos al principio (por ejemplo, __edad) y son accesibles solo desde dentro de la clase."
   ]
  },
  {
   "cell_type": "raw",
   "id": "6b9176e5-d499-4e4c-b541-48bf1570610b",
   "metadata": {},
   "source": [
    "** Herencia: La herencia permite crear una nueva clase basada en una clase existente. \n",
    "La nueva clase hereda atributos y métodos de la clase base y puede agregar nuevos atributos y métodos o modificar los existentes."
   ]
  },
  {
   "cell_type": "code",
   "execution_count": 12,
   "id": "fd649847-3ba2-46a3-a51c-e04ffcba27da",
   "metadata": {
    "jupyter": {
     "source_hidden": true
    }
   },
   "outputs": [],
   "source": [
    "class Estudiante(Persona):\n",
    "    def __init__(self, nombre, edad, matricula):\n",
    "        super().__init__(nombre, edad)\n",
    "        self.matricula = matricula\n"
   ]
  },
  {
   "cell_type": "raw",
   "id": "bd89b0ba-5258-4a26-bf1e-c78c7c2f0891",
   "metadata": {},
   "source": [
    "** Polimorfismo: El polimorfismo permite que objetos de diferentes clases se comporten de manera similar. \n",
    "Esto se logra mediante la implementación de métodos con el mismo nombre en diferentes clases."
   ]
  },
  {
   "cell_type": "code",
   "execution_count": 13,
   "id": "d0073a0b-3c0a-4710-80d5-71921cd6308b",
   "metadata": {},
   "outputs": [],
   "source": [
    "def saludar(self):\n",
    "    print(f\"Hola, soy {self.nombre} y soy un estudiante con matrícula {self.matricula}.\")\n"
   ]
  },
  {
   "cell_type": "raw",
   "id": "02046a9f-bd10-4a0f-92f5-0903e103f3a7",
   "metadata": {},
   "source": [
    "Manejar excepciones en los métodos de la clase:\n",
    "En los métodos de tu clase, puedes usar las sentencias try, except, y raise para manejar las excepciones.\n",
    "\n",
    "   - SyntaxError: Se produce cuando hay un error de sintaxis en el código Python.\n",
    "\n",
    "   - IndentationError: Ocurre cuando hay problemas con la indentación del código, como mezclar espacios y tabulaciones de manera incorrecta.\n",
    "\n",
    "   - NameError: Se lanza cuando se intenta acceder a una variable o función que no ha sido definida previamente.\n",
    "\n",
    "   - TypeError: Ocurre cuando se realiza una operación en un tipo de dato que no es compatible. Por ejemplo, intentar sumar una cadena y un número.\n",
    "\n",
    "   - ValueError: Se produce cuando una función recibe un argumento de tipo correcto pero con un valor incorrecto. Por ejemplo, intentar convertir una cadena no numérica en un entero.\n",
    "\n",
    "   - ZeroDivisionError: Lanzada cuando se intenta dividir por cero.\n",
    "\n",
    "   - FileNotFoundError: Ocurre cuando se intenta abrir un archivo que no existe.\n",
    "\n",
    "   - IndexError: Se lanza cuando se intenta acceder a un índice que está fuera de rango en una lista o secuencia.\n",
    "\n",
    "   - KeyError: Ocurre al intentar acceder a una clave que no existe en un diccionario.\n",
    "\n",
    "   - ModuleNotFoundError: Se produce cuando se intenta importar un módulo que no existe.\n",
    "\n",
    "   - AttributeError: Lanzada cuando se intenta acceder a un atributo que no existe en un objeto.\n",
    "\n",
    "   - AssertionError: Se usa para verificar condiciones con la declaración assert y se lanza cuando la condición no se cumple.\n",
    "\n",
    "   - ImportError: Ocurre cuando hay un problema con la importación de un módulo.\n",
    "\n",
    "   - TypeError: Se lanza cuando se intenta realizar una operación en un tipo de datos no compatible.\n",
    "\n",
    "   - OSError: Generalmente relacionada con problemas del sistema operativo, como intentar abrir un archivo que no tiene permisos de lectura."
   ]
  },
  {
   "cell_type": "raw",
   "id": "7dfd7aaa-602e-426c-90d9-5112dff8a36c",
   "metadata": {},
   "source": [
    "IMPORTANTE: notación en Python. Se suele susar la notación CamelCase:\n",
    "\n",
    "En esta notación, las palabras comienzan con mayúsculas y no se utilizan espacios ni guiones bajos. Puede haber dos variantes de CamelCase: UpperCamelCase (también conocido como PascalCase) y lowerCamelCase.\n",
    "\n",
    "    UpperCamelCase (PascalCase): En esta variante, la primera letra de cada palabra se escribe en mayúscula y no se utilizan espacios ni guiones bajos. Es comúnmente utilizado para nombrar clases y tipos de datos en Python. Ejemplos:\n",
    "        MiClase\n",
    "        FechaDeNacimiento\n",
    "        ClienteNuevo\n",
    "\n",
    "    lowerCamelCase: En esta variante, la primera palabra comienza en minúscula, pero las palabras siguientes comienzan en mayúscula y no se utilizan espacios ni guiones bajos. Aunque no es tan común en Python como snake_case o UpperCamelCase, a veces se utiliza para nombrar variables y funciones. Ejemplos:\n",
    "        miVariable\n",
    "        calcularArea\n",
    "        nuevoCliente\n",
    "Las funciones las nombraremos con minúscolas y dos palabras indicación su acción altacliente, bajacompra\n",
    "Las variables y atributos las nombraremos con una palabra cliente o en casa necesario un acrónimo, por ejemplo, dnicliente o matcoche (matricula coche)"
   ]
  },
  {
   "cell_type": "code",
   "execution_count": null,
   "id": "d0708faf-a47d-4f29-85cf-e55c418c9138",
   "metadata": {},
   "outputs": [],
   "source": []
  }
 ],
 "metadata": {
  "kernelspec": {
   "display_name": "Python 3 (ipykernel)",
   "language": "python",
   "name": "python3"
  },
  "language_info": {
   "codemirror_mode": {
    "name": "ipython",
    "version": 3
   },
   "file_extension": ".py",
   "mimetype": "text/x-python",
   "name": "python",
   "nbconvert_exporter": "python",
   "pygments_lexer": "ipython3",
   "version": "3.11.3"
  }
 },
 "nbformat": 4,
 "nbformat_minor": 5
}
