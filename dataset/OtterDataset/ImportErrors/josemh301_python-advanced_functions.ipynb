{
 "cells": [
  {
   "cell_type": "markdown",
   "metadata": {},
   "source": [
    "# 09 Functions\n",
    "\n",
    "### Basics"
   ]
  },
  {
   "cell_type": "code",
   "execution_count": 30,
   "metadata": {},
   "outputs": [
    {
     "name": "stdout",
     "output_type": "stream",
     "text": [
      "Printing function\n"
     ]
    }
   ],
   "source": [
    "def my_function():\n",
    "    print(\"Printing function\")\n",
    "\n",
    "my_function()"
   ]
  },
  {
   "cell_type": "code",
   "execution_count": 31,
   "metadata": {},
   "outputs": [
    {
     "name": "stdout",
     "output_type": "stream",
     "text": [
      "Hello Josh McDillan!\n",
      "Hello Josh Shakespeare!\n"
     ]
    }
   ],
   "source": [
    "#With arguments\n",
    "\n",
    "def my_function(name, surname=\"Shakespeare\"): #parameters\n",
    "    print(f\"Hello {name} {surname}!\")\n",
    "\n",
    "my_function(\"Josh\", \"McDillan\") #arguments\n",
    "my_function(\"Josh\")"
   ]
  },
  {
   "cell_type": "code",
   "execution_count": 1,
   "metadata": {},
   "outputs": [
    {
     "name": "stdout",
     "output_type": "stream",
     "text": [
      "Price after tax: 106.0\n"
     ]
    }
   ],
   "source": [
    "#default values\n",
    "def vat_function(price, vat=21) -> float: #-> float is a clue, does not have an impact in the code. Not necessary\n",
    "    return price + (price * vat / 100)\n",
    "\n",
    "price = 100\n",
    "\n",
    "print(f\"Price after tax: {vat_function(price)}\")"
   ]
  },
  {
   "cell_type": "markdown",
   "metadata": {},
   "source": [
    "### args: Variable arguments\n",
    "\n",
    "This one is used with lists"
   ]
  },
  {
   "cell_type": "code",
   "execution_count": 1,
   "metadata": {},
   "outputs": [
    {
     "name": "stdout",
     "output_type": "stream",
     "text": [
      "\n",
      "New list:\n",
      " - Laura\n",
      " - Grace\n",
      " - Charles\n"
     ]
    }
   ],
   "source": [
    "def listing_names(*names): #this will be turned into a tuple\n",
    "    print(\"\\nNew list:\")\n",
    "    for name in names:\n",
    "        print(f\" - {name}\")\n",
    " \n",
    "listing_names(\"Laura\", \"Grace\", \"Charles\")"
   ]
  },
  {
   "cell_type": "markdown",
   "metadata": {},
   "source": [
    "### kwargs: Variable arguments key-value\n",
    "\n",
    "This is used with dictionaries"
   ]
  },
  {
   "cell_type": "code",
   "execution_count": 2,
   "metadata": {},
   "outputs": [
    {
     "name": "stdout",
     "output_type": "stream",
     "text": [
      " The word 'house' means 'Where people live'\n",
      " The word 'cat' means 'Small four-legged animal'\n",
      " The word 'I' means 'Myself'\n"
     ]
    }
   ],
   "source": [
    "def key_value_arguments(**terms): #kwargs\n",
    "    for key, value in terms.items():\n",
    "        print(f\" The word '{key}' means '{value}'\")\n",
    "        \n",
    "\n",
    "dictionary = {'house' : \"Where people live\",\n",
    "              'cat' : \"Small four-legged animal\",\n",
    "              'I' : \"Myself\"}\n",
    "        \n",
    "key_value_arguments(**dictionary)"
   ]
  },
  {
   "cell_type": "markdown",
   "metadata": {},
   "source": [
    "### Different datatypes as arguments"
   ]
  },
  {
   "cell_type": "code",
   "execution_count": 35,
   "metadata": {},
   "outputs": [
    {
     "name": "stdout",
     "output_type": "stream",
     "text": [
      "The only value is a string: Lucy\n"
     ]
    }
   ],
   "source": [
    "def show_names(names):\n",
    "    if type(names) != list and type(names) != str:\n",
    "        list(names)\n",
    "        print(\"Changed to list!\\n\")\n",
    "        for name in names:\n",
    "            print(name)\n",
    "    if type(names) == str:\n",
    "        print(\"The only value is a string:\", names)\n",
    "\n",
    "names = (\"Jhon\", \"Grace\", \"Martin\", \"William\", \"Francis\")\n",
    "\n",
    "# show_names(names)\n",
    "# show_names((\"Charles\", \"Mary\"))\n",
    "show_names(\"Lucy\")"
   ]
  },
  {
   "cell_type": "markdown",
   "metadata": {},
   "source": [
    "### Recursive functions\n",
    "\n",
    "A **recursive function** is a function in programming that calls itself during its execution."
   ]
  },
  {
   "cell_type": "code",
   "execution_count": 43,
   "metadata": {},
   "outputs": [
    {
     "data": {
      "text/plain": [
       "120"
      ]
     },
     "execution_count": 43,
     "metadata": {},
     "output_type": "execute_result"
    }
   ],
   "source": [
    "def factorial(n):\n",
    "    # Base case: factorial of 0 or 1 is 1\n",
    "    if n in (0, 1):\n",
    "        return 1\n",
    "    # Recursive case: n! = n * (n-1)!\n",
    "    else:\n",
    "        return n * factorial(n - 1)\n",
    "\n",
    "    \n",
    "factorial(5)"
   ]
  },
  {
   "cell_type": "markdown",
   "metadata": {},
   "source": [
    "### Build in functions\n",
    "\n",
    "These are the functions provided by Python. We don't need to define them. can be accessed through `print(dir(__builtins__))`"
   ]
  },
  {
   "cell_type": "code",
   "execution_count": 3,
   "metadata": {},
   "outputs": [
    {
     "name": "stdout",
     "output_type": "stream",
     "text": [
      "['ArithmeticError', 'AssertionError', 'AttributeError', 'BaseException', 'BlockingIOError', 'BrokenPipeError', 'BufferError', 'BytesWarning', 'ChildProcessError', 'ConnectionAbortedError', 'ConnectionError', 'ConnectionRefusedError', 'ConnectionResetError', 'DeprecationWarning', 'EOFError', 'Ellipsis', 'EnvironmentError', 'Exception', 'False', 'FileExistsError', 'FileNotFoundError', 'FloatingPointError', 'FutureWarning', 'GeneratorExit', 'IOError', 'ImportError', 'ImportWarning', 'IndentationError', 'IndexError', 'InterruptedError', 'IsADirectoryError', 'KeyError', 'KeyboardInterrupt', 'LookupError', 'MemoryError', 'ModuleNotFoundError', 'NameError', 'None', 'NotADirectoryError', 'NotImplemented', 'NotImplementedError', 'OSError', 'OverflowError', 'PendingDeprecationWarning', 'PermissionError', 'ProcessLookupError', 'RecursionError', 'ReferenceError', 'ResourceWarning', 'RuntimeError', 'RuntimeWarning', 'StopAsyncIteration', 'StopIteration', 'SyntaxError', 'SyntaxWarning', 'SystemError', 'SystemExit', 'TabError', 'TimeoutError', 'True', 'TypeError', 'UnboundLocalError', 'UnicodeDecodeError', 'UnicodeEncodeError', 'UnicodeError', 'UnicodeTranslateError', 'UnicodeWarning', 'UserWarning', 'ValueError', 'Warning', 'WindowsError', 'ZeroDivisionError', '__IPYTHON__', '__build_class__', '__debug__', '__doc__', '__import__', '__loader__', '__name__', '__package__', '__spec__', 'abs', 'all', 'any', 'ascii', 'bin', 'bool', 'breakpoint', 'bytearray', 'bytes', 'callable', 'chr', 'classmethod', 'compile', 'complex', 'copyright', 'credits', 'delattr', 'dict', 'dir', 'display', 'divmod', 'enumerate', 'eval', 'exec', 'filter', 'float', 'format', 'frozenset', 'get_ipython', 'getattr', 'globals', 'hasattr', 'hash', 'help', 'hex', 'id', 'input', 'int', 'isinstance', 'issubclass', 'iter', 'len', 'license', 'list', 'locals', 'map', 'max', 'memoryview', 'min', 'next', 'object', 'oct', 'open', 'ord', 'pow', 'print', 'property', 'range', 'repr', 'reversed', 'round', 'set', 'setattr', 'slice', 'sorted', 'staticmethod', 'str', 'sum', 'super', 'tuple', 'type', 'vars', 'zip']\n"
     ]
    }
   ],
   "source": [
    "print(dir(__builtins__))"
   ]
  },
  {
   "cell_type": "code",
   "execution_count": null,
   "metadata": {},
   "outputs": [],
   "source": []
  }
 ],
 "metadata": {
  "kernelspec": {
   "display_name": "Python 3",
   "language": "python",
   "name": "python3"
  },
  "language_info": {
   "codemirror_mode": {
    "name": "ipython",
    "version": 3
   },
   "file_extension": ".py",
   "mimetype": "text/x-python",
   "name": "python",
   "nbconvert_exporter": "python",
   "pygments_lexer": "ipython3",
   "version": "3.8.3"
  }
 },
 "nbformat": 4,
 "nbformat_minor": 4
}
