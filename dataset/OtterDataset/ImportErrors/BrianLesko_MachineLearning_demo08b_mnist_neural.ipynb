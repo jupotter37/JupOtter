{
 "cells": [
  {
   "cell_type": "markdown",
   "metadata": {},
   "source": [
    "# Demo: MNIST Classification via a Neural Network\n",
    "\n",
    "In the the [MNIST SVM example](./demo_mnist_svm.ipynb), we introduced the classic MNIST digit classification problem and trained a simple SVM classifier for the model.  In this demo, we will try a simple neural network.  The network we will create will not perform quite as well -- we will obtain an accuracy of only around 97%, while the SVM classifier obtains an accuracy of over 98%.  However, once we understand these simple neural networks, we will be able to build more sophisticated networks that can obtain much better classification rate.  Also, in doing this demo, you will learn several important features of the `pytorch` package in addition to the concepts shown in the [simple neural network example](./demo_simple_neural.ipynb):\n",
    "\n",
    "* How to construct multi-class classifiers using categorical cross entropy.\n",
    "* How to optimize using mini-batches.\n",
    "* How to save and load the model after training.  "
   ]
  },
  {
   "cell_type": "markdown",
   "metadata": {},
   "source": [
    "## Loading the Pytorch package and the MNIST data\n",
    "\n",
    "We first load the `torch` package as in the [simple neural network example](../demo_simple_neural.ipynb), as well as other common packages."
   ]
  },
  {
   "cell_type": "code",
   "execution_count": 10,
   "metadata": {},
   "outputs": [
    {
     "ename": "ModuleNotFoundError",
     "evalue": "No module named 'torch'",
     "output_type": "error",
     "traceback": [
      "\u001b[0;31m---------------------------------------------------------------------------\u001b[0m",
      "\u001b[0;31mModuleNotFoundError\u001b[0m                       Traceback (most recent call last)",
      "Cell \u001b[0;32mIn[10], line 4\u001b[0m\n\u001b[1;32m      2\u001b[0m \u001b[39mimport\u001b[39;00m \u001b[39mmatplotlib\u001b[39;00m\u001b[39m.\u001b[39;00m\u001b[39mpyplot\u001b[39;00m \u001b[39mas\u001b[39;00m \u001b[39mplt\u001b[39;00m\n\u001b[1;32m      3\u001b[0m get_ipython()\u001b[39m.\u001b[39mrun_line_magic(\u001b[39m'\u001b[39m\u001b[39mmatplotlib\u001b[39m\u001b[39m'\u001b[39m, \u001b[39m'\u001b[39m\u001b[39minline\u001b[39m\u001b[39m'\u001b[39m)\n\u001b[0;32m----> 4\u001b[0m \u001b[39mimport\u001b[39;00m \u001b[39mtorch\u001b[39;00m\n\u001b[1;32m      6\u001b[0m np\u001b[39m.\u001b[39mrandom\u001b[39m.\u001b[39mseed(\u001b[39m1\u001b[39m) \u001b[39m# let's reset the random seed for repeatability\u001b[39;00m\n",
      "\u001b[0;31mModuleNotFoundError\u001b[0m: No module named 'torch'"
     ]
    }
   ],
   "source": [
    "import numpy as np\n",
    "import matplotlib.pyplot as plt\n",
    "%matplotlib inline\n",
    "import torch\n",
    "\n",
    "np.random.seed(1) # let's reset the random seed for repeatability"
   ]
  },
  {
   "cell_type": "markdown",
   "metadata": {},
   "source": [
    "Next, we download the MNIST data, as in the [MNIST SVM example](./demo_mnist_svm.ipynb).  As before, we rescale the input `X` to the interval [-1,1], a form of standardization."
   ]
  },
  {
   "cell_type": "code",
   "execution_count": 2,
   "metadata": {},
   "outputs": [
    {
     "name": "stderr",
     "output_type": "stream",
     "text": [
      "/Users/brianlesko/Documents/VSCode/Machine_Learning/virtualmachine/lib/python3.10/site-packages/sklearn/datasets/_openml.py:932: FutureWarning: The default value of `parser` will change from `'liac-arff'` to `'auto'` in 1.4. You can set `parser='auto'` to silence this warning. Therefore, an `ImportError` will be raised from 1.4 if the dataset is dense and pandas is not installed. Note that the pandas parser may return different data types. See the Notes Section in fetch_openml's API doc for details.\n",
      "  warn(\n"
     ]
    }
   ],
   "source": [
    "from sklearn.datasets import fetch_openml\n",
    "mnist = fetch_openml('mnist_784', version=1, cache=True)\n",
    "mnist.data.shape\n",
    "\n",
    "X = np.array(2*(mnist.data/255-0.5))   # Scale X to interval [-1,1]\n",
    "y = np.array(mnist.target.astype(np.int8)) # fetch_openml() returns targets as stringsp"
   ]
  },
  {
   "cell_type": "markdown",
   "metadata": {},
   "source": [
    "We also split the data into training and test.  The standard split uses 50,000 examples for training and 10,000 for test."
   ]
  },
  {
   "cell_type": "code",
   "execution_count": 3,
   "metadata": {},
   "outputs": [],
   "source": [
    "from sklearn.model_selection import train_test_split\n",
    "ntr = 50000\n",
    "nts = 10000\n",
    "\n",
    "Xtr, Xts, ytr, yts = train_test_split(X,y,train_size=ntr, test_size=nts,shuffle=True)"
   ]
  },
  {
   "cell_type": "markdown",
   "metadata": {},
   "source": [
    "We will also use the `plt_digit` function from the [MNIST SVM example](./demo_mnist_svm.ipynb) to display digits."
   ]
  },
  {
   "cell_type": "code",
   "execution_count": 4,
   "metadata": {},
   "outputs": [
    {
     "data": {
      "image/png": "[encoded data removed]",
      "text/plain": [
       "<Figure size 640x480 with 4 Axes>"
      ]
     },
     "metadata": {},
     "output_type": "display_data"
    }
   ],
   "source": [
    "def plt_digit(x):\n",
    "    nrow = 28\n",
    "    ncol = 28\n",
    "    xsq = x.reshape((nrow,ncol))\n",
    "    plt.imshow(xsq,  cmap='Greys_r')\n",
    "    plt.xticks([])\n",
    "    plt.yticks([])\n",
    "    \n",
    "# Select random digits\n",
    "nplt = 4\n",
    "nsamp = X.shape[0]\n",
    "Iperm = np.random.permutation(nsamp)\n",
    "\n",
    "# Plot the images using the subplot command\n",
    "for i in range(nplt):\n",
    "    ind = Iperm[i]\n",
    "    plt.subplot(1,nplt,i+1)\n",
    "    plt_digit(X[ind,:])"
   ]
  },
  {
   "cell_type": "markdown",
   "metadata": {},
   "source": [
    "# Create Data Loaders\n",
    "Create data loaders for both the training and testing sets"
   ]
  },
  {
   "cell_type": "code",
   "execution_count": 5,
   "metadata": {},
   "outputs": [],
   "source": [
    "import torch.utils.data\n",
    "\n",
    "batch_size = 100\n",
    "\n",
    "# Convert the numpy arrays to PyTorch tensors\n",
    "Xtr_torch = torch.Tensor(Xtr)\n",
    "ytr_torch = torch.Tensor(ytr)\n",
    "Xts_torch = torch.Tensor(Xts)\n",
    "yts_torch = torch.Tensor(yts)\n",
    "\n",
    "# Create a training Dataset\n",
    "train_ds = torch.utils.data.TensorDataset(Xtr_torch, ytr_torch)\n",
    "# Creates a training DataLoader from this Dataset\n",
    "train_loader = torch.utils.data.DataLoader(train_ds, batch_size=batch_size, shuffle=True) \n",
    "\n",
    "# Create a testing Dataset\n",
    "test_ds = torch.utils.data.TensorDataset(Xts_torch, yts_torch)\n",
    "# Creates a testing DataLoader from this Dataset\n",
    "test_loader = torch.utils.data.DataLoader(test_ds, batch_size=batch_size) \n"
   ]
  },
  {
   "cell_type": "markdown",
   "metadata": {},
   "source": [
    "## Creating a Simple Neural Network."
   ]
  },
  {
   "cell_type": "markdown",
   "metadata": {},
   "source": [
    "To create the neural network, we first import the appropriate sub-package."
   ]
  },
  {
   "cell_type": "code",
   "execution_count": 6,
   "metadata": {},
   "outputs": [],
   "source": [
    "import torch.nn as nn"
   ]
  },
  {
   "cell_type": "markdown",
   "metadata": {},
   "source": [
    "Now we create a very simple network.  The features are:\n",
    "*  We have one hidden layer with `nh=100` units and sigmoid activation functions  \n",
    "*  One output layer with `nout=10` units, one for each of the 10 possible classes\n",
    "*  We will define the network output as the 2nd stage linear scores, so we don't explicitly implement a softmax\n",
    "*  Later, we will incorporate the softmax model through the choice of cross-entropy loss"
   ]
  },
  {
   "cell_type": "code",
   "execution_count": 7,
   "metadata": {},
   "outputs": [],
   "source": [
    "nin = X.shape[1] # dimension of input data\n",
    "nh = 100 # number of hidden units\n",
    "nout = int(np.max(y)+1) # number of outputs = 10 since there are 10 classes\n",
    "\n",
    "class Net(nn.Module):\n",
    "    def __init__(self,nin,nh,nout):\n",
    "        super(Net,self).__init__()\n",
    "        self.sigmoid = nn.Sigmoid()\n",
    "        self.Dense1 = nn.Linear(nin,nh)\n",
    "        self.Dense2 = nn.Linear(nh,nout)\n",
    "        \n",
    "    def forward(self,x):\n",
    "        x = self.sigmoid(self.Dense1(x))\n",
    "        out = self.Dense2(x)\n",
    "        return out\n",
    "\n",
    "model = Net(nin=nin, nh=nh, nout=nout)"
   ]
  },
  {
   "cell_type": "markdown",
   "metadata": {},
   "source": [
    "## Training the Network\n",
    "\n",
    "As before, to train the network, we first select an optimizer and a loss function.  Since this is a multi-class classification problem, we select the cross-entropy loss.  We use the `optim.Adam` optimizer as before.  You may want to play with the learning rate `lr`."
   ]
  },
  {
   "cell_type": "code",
   "execution_count": 8,
   "metadata": {},
   "outputs": [],
   "source": [
    "import torch.optim as optim\n",
    "\n",
    "opt = optim.Adam(model.parameters(), lr=0.001)\n",
    "\n",
    "criterion = nn.CrossEntropyLoss()"
   ]
  },
  {
   "cell_type": "markdown",
   "metadata": {},
   "source": [
    "We will train the network in a similar way to the previous demo.\n",
    "But this time we will measure loss and accuracy on the test dataset.\n",
    "When doing so, we do not want to back-propagate the gradient onto the test set.\n",
    "We ensure this using a `with torch.no_grad()` block to turn off gradient computations.\n"
   ]
  },
  {
   "cell_type": "code",
   "execution_count": 9,
   "metadata": {},
   "outputs": [
    {
     "name": "stdout",
     "output_type": "stream",
     "text": [
      "Epoch:  1   Train Loss: 0.624   Train Acc: 85.63    Test Loss: 0.330   Test Acc: 90.78\n",
      "Epoch:  2   Train Loss: 0.277   Train Acc: 92.17    Test Loss: 0.251   Test Acc: 92.73\n",
      "Epoch:  3   Train Loss: 0.219   Train Acc: 93.73    Test Loss: 0.214   Test Acc: 93.73\n",
      "Epoch:  4   Train Loss: 0.184   Train Acc: 94.72    Test Loss: 0.193   Test Acc: 94.19\n",
      "Epoch:  5   Train Loss: 0.158   Train Acc: 95.44    Test Loss: 0.176   Test Acc: 94.90\n",
      "Epoch:  6   Train Loss: 0.140   Train Acc: 96.08    Test Loss: 0.161   Test Acc: 95.33\n",
      "Epoch:  7   Train Loss: 0.123   Train Acc: 96.48    Test Loss: 0.152   Test Acc: 95.60\n",
      "Epoch:  8   Train Loss: 0.110   Train Acc: 96.94    Test Loss: 0.149   Test Acc: 95.43\n",
      "Epoch:  9   Train Loss: 0.101   Train Acc: 97.12    Test Loss: 0.133   Test Acc: 96.05\n",
      "Epoch: 10   Train Loss: 0.091   Train Acc: 97.47    Test Loss: 0.128   Test Acc: 96.18\n",
      "Epoch: 11   Train Loss: 0.083   Train Acc: 97.71    Test Loss: 0.120   Test Acc: 96.42\n",
      "Epoch: 12   Train Loss: 0.077   Train Acc: 97.84    Test Loss: 0.123   Test Acc: 96.32\n",
      "Epoch: 13   Train Loss: 0.070   Train Acc: 98.06    Test Loss: 0.115   Test Acc: 96.61\n",
      "Epoch: 14   Train Loss: 0.064   Train Acc: 98.22    Test Loss: 0.119   Test Acc: 96.46\n",
      "Epoch: 15   Train Loss: 0.059   Train Acc: 98.42    Test Loss: 0.112   Test Acc: 96.62\n",
      "Epoch: 16   Train Loss: 0.055   Train Acc: 98.51    Test Loss: 0.119   Test Acc: 96.33\n",
      "Epoch: 17   Train Loss: 0.050   Train Acc: 98.70    Test Loss: 0.107   Test Acc: 96.82\n",
      "Epoch: 18   Train Loss: 0.047   Train Acc: 98.76    Test Loss: 0.115   Test Acc: 96.48\n",
      "Epoch: 19   Train Loss: 0.043   Train Acc: 98.93    Test Loss: 0.107   Test Acc: 96.81\n",
      "Epoch: 20   Train Loss: 0.041   Train Acc: 98.90    Test Loss: 0.117   Test Acc: 96.55\n",
      "Epoch: 21   Train Loss: 0.038   Train Acc: 99.05    Test Loss: 0.101   Test Acc: 96.98\n",
      "Epoch: 22   Train Loss: 0.034   Train Acc: 99.24    Test Loss: 0.104   Test Acc: 96.88\n",
      "Epoch: 23   Train Loss: 0.033   Train Acc: 99.17    Test Loss: 0.119   Test Acc: 96.46\n",
      "Epoch: 24   Train Loss: 0.030   Train Acc: 99.31    Test Loss: 0.102   Test Acc: 97.09\n",
      "Epoch: 25   Train Loss: 0.028   Train Acc: 99.41    Test Loss: 0.101   Test Acc: 96.97\n",
      "Epoch: 26   Train Loss: 0.026   Train Acc: 99.44    Test Loss: 0.101   Test Acc: 96.96\n",
      "Epoch: 27   Train Loss: 0.024   Train Acc: 99.44    Test Loss: 0.111   Test Acc: 96.61\n",
      "Epoch: 28   Train Loss: 0.023   Train Acc: 99.49    Test Loss: 0.103   Test Acc: 97.04\n",
      "Epoch: 29   Train Loss: 0.021   Train Acc: 99.59    Test Loss: 0.102   Test Acc: 96.94\n",
      "Epoch: 30   Train Loss: 0.021   Train Acc: 99.57    Test Loss: 0.114   Test Acc: 96.93\n"
     ]
    }
   ],
   "source": [
    "num_epoch = 30\n",
    "\n",
    "a_tr_loss = np.zeros([num_epoch])\n",
    "a_tr_accuracy = np.zeros([num_epoch])\n",
    "a_ts_loss = np.zeros([num_epoch])\n",
    "a_ts_accuracy = np.zeros([num_epoch])\n",
    "\n",
    "for epoch in range(num_epoch):\n",
    "\n",
    "    model.train() # put model in training mode\n",
    "    correct = 0 # initialize error counter\n",
    "    total = 0 # initialize total counter\n",
    "    batch_loss_tr = []\n",
    "    # iterate over training set\n",
    "    for train_iter, data in enumerate(train_loader):\n",
    "        x_batch,y_batch = data\n",
    "        y_batch = y_batch.type(torch.long)\n",
    "        out = model(x_batch)\n",
    "        # Compute Loss\n",
    "        loss = criterion(out,y_batch)\n",
    "        batch_loss_tr.append(loss.item())\n",
    "        # Compute gradients using back propagation\n",
    "        opt.zero_grad()\n",
    "        loss.backward()\n",
    "        # Take an optimization 'step'\n",
    "        opt.step()\n",
    "        # Do hard classification: index of largest score\n",
    "        _, predicted = torch.max(out.data, 1)\n",
    "        # Compute number of decision errors\n",
    "        total += y_batch.size(0)\n",
    "        correct += (predicted == y_batch).sum().item()\n",
    "        \n",
    "    a_tr_loss[epoch] = np.mean(batch_loss_tr) # Compute average loss over epoch\n",
    "    a_tr_accuracy[epoch] = 100*correct/total\n",
    "\n",
    "    model.eval() # put model in evaluation mode\n",
    "    correct = 0 # initialize error counter\n",
    "    total = 0 # initialize total counter\n",
    "    batch_loss_ts = []\n",
    "    with torch.no_grad():\n",
    "        for data in test_loader:\n",
    "            images, labels = data\n",
    "            labels = labels.type(torch.long)\n",
    "            outputs = model(images)\n",
    "            batch_loss_ts.append(criterion(outputs,labels).item())\n",
    "            _, predicted = torch.max(outputs.data, 1)\n",
    "            total += labels.size(0)\n",
    "            correct += (predicted == labels).sum().item()\n",
    "            \n",
    "    a_ts_loss[epoch] = np.mean(batch_loss_ts)\n",
    "    a_ts_accuracy[epoch] = 100*correct/total\n",
    "    # Print details every print_mod epoch\n",
    "    print('Epoch: {0:2d}   Train Loss: {1:.3f}   '.format(epoch+1, a_tr_loss[epoch])\n",
    "          +'Train Acc: {0:.2f}    Test Loss: {1:.3f}   '.format(a_tr_accuracy[epoch], a_ts_loss[epoch])\n",
    "          +'Test Acc: {0:.2f}'.format(a_ts_accuracy[epoch]))\n",
    "        "
   ]
  },
  {
   "cell_type": "markdown",
   "metadata": {},
   "source": [
    "We now plot the training accuracy and test accuracy as a function of epoches.\n",
    "We see that the training accuracy keeps growing to 1, while the test accuracy saturates to a value around 0.97"
   ]
  },
  {
   "cell_type": "code",
   "execution_count": 10,
   "metadata": {},
   "outputs": [
    {
     "data": {
      "text/plain": [
       "<matplotlib.legend.Legend at 0x2c71b7d00>"
      ]
     },
     "execution_count": 10,
     "metadata": {},
     "output_type": "execute_result"
    },
    {
     "data": {
      "image/png": "[encoded data removed]",
      "text/plain": [
       "<Figure size 640x480 with 1 Axes>"
      ]
     },
     "metadata": {},
     "output_type": "display_data"
    }
   ],
   "source": [
    "plt.plot(a_tr_accuracy)\n",
    "plt.plot(a_ts_accuracy)\n",
    "plt.grid()\n",
    "plt.xlabel('epochs')\n",
    "plt.ylabel('accuracy')\n",
    "plt.legend(['training accuracy', 'test accuracy'])"
   ]
  },
  {
   "cell_type": "markdown",
   "metadata": {},
   "source": [
    "## Saving and Loading the model\n",
    "\n",
    "Since the training can take a while, we demonstrate how the trained network can be saved. For a more complete tutorial on saving and loading pytorch models, see https://pytorch.org/tutorials/beginner/saving_loading_models.html.\n",
    "\n",
    "Here we will save the state dictionary, which contains the network parameters learned during training."
   ]
  },
  {
   "cell_type": "code",
   "execution_count": null,
   "metadata": {},
   "outputs": [],
   "source": [
    "PATH = 'saved_model.pt'\n",
    "torch.save(model.state_dict(), PATH)"
   ]
  },
  {
   "cell_type": "markdown",
   "metadata": {},
   "source": [
    "Now we will reinitialize the network model (which clears its data), and then demonstrate that we can reload the state dictionary using the `load_state_dict` command."
   ]
  },
  {
   "cell_type": "code",
   "execution_count": null,
   "metadata": {},
   "outputs": [
    {
     "data": {
      "text/plain": [
       "Net(\n",
       "  (sigmoid): Sigmoid()\n",
       "  (Dense1): Linear(in_features=784, out_features=100, bias=True)\n",
       "  (Dense2): Linear(in_features=100, out_features=10, bias=True)\n",
       ")"
      ]
     },
     "execution_count": 12,
     "metadata": {},
     "output_type": "execute_result"
    }
   ],
   "source": [
    "model = Net(nin=nin, nh=nh, nout=nout)\n",
    "model.load_state_dict(torch.load(PATH))\n",
    "model.eval()"
   ]
  },
  {
   "cell_type": "markdown",
   "metadata": {},
   "source": [
    "Now we demonstrate that we can apply the network to the test data, yielding the same performance as before."
   ]
  },
  {
   "cell_type": "code",
   "execution_count": null,
   "metadata": {},
   "outputs": [
    {
     "name": "stdout",
     "output_type": "stream",
     "text": [
      "accuracy = 97.230000\n"
     ]
    }
   ],
   "source": [
    "correct = 0\n",
    "total = 0\n",
    "with torch.no_grad():\n",
    "    for data in test_loader:\n",
    "        images, labels = data\n",
    "        labels = labels.type(torch.long)\n",
    "        outputs = model(images)\n",
    "        _, predicted = torch.max(outputs.data, 1)\n",
    "        total += labels.size(0)\n",
    "        correct += (predicted == labels).sum().item()\n",
    "        \n",
    "    acc = 100*correct/total\n",
    "print(\"accuracy = %f\" % acc)"
   ]
  },
  {
   "cell_type": "code",
   "execution_count": null,
   "metadata": {},
   "outputs": [],
   "source": []
  }
 ],
 "metadata": {
  "anaconda-cloud": {},
  "kernelspec": {
   "display_name": "Python 3",
   "language": "python",
   "name": "python3"
  },
  "language_info": {
   "codemirror_mode": {
    "name": "ipython",
    "version": 3
   },
   "file_extension": ".py",
   "mimetype": "text/x-python",
   "name": "python",
   "nbconvert_exporter": "python",
   "pygments_lexer": "ipython3",
   "version": "3.10.9"
  },
  "varInspector": {
   "cols": {
    "lenName": 16,
    "lenType": 16,
    "lenVar": 40
   },
   "kernels_config": {
    "python": {
     "delete_cmd_postfix": "",
     "delete_cmd_prefix": "del ",
     "library": "var_list.py",
     "varRefreshCmd": "print(var_dic_list())"
    },
    "r": {
     "delete_cmd_postfix": ") ",
     "delete_cmd_prefix": "rm(",
     "library": "var_list.r",
     "varRefreshCmd": "cat(var_dic_list()) "
    }
   },
   "types_to_exclude": [
    "module",
    "function",
    "builtin_function_or_method",
    "instance",
    "_Feature"
   ],
   "window_display": false
  }
 },
 "nbformat": 4,
 "nbformat_minor": 1
}
