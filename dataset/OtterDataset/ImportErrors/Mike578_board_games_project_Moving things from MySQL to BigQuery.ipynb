{
 "cells": [
  {
   "cell_type": "markdown",
   "metadata": {},
   "source": [
    "#  Creating the connection to MySQL"
   ]
  },
  {
   "cell_type": "code",
   "execution_count": 2,
   "metadata": {},
   "outputs": [],
   "source": [
    "import pandas as pd\n",
    "from sqlalchemy import create_engine, text\n",
    "import pymysql.cursors\n",
    "import os\n",
    "import getpass\n",
    "import urllib.parse"
   ]
  },
  {
   "cell_type": "code",
   "execution_count": 10,
   "metadata": {},
   "outputs": [
    {
     "ename": "NameError",
     "evalue": "name 'mysql_conn' is not defined",
     "output_type": "error",
     "traceback": [
      "\u001b[1;31m---------------------------------------------------------------------------\u001b[0m",
      "\u001b[1;31mNameError\u001b[0m                                 Traceback (most recent call last)",
      "Cell \u001b[1;32mIn[10], line 13\u001b[0m\n\u001b[0;32m      9\u001b[0m engine \u001b[38;5;241m=\u001b[39m create_engine(connection_string)\n\u001b[0;32m     11\u001b[0m \u001b[38;5;66;03m# Connect to MySQL\u001b[39;00m\n\u001b[1;32m---> 13\u001b[0m cursor \u001b[38;5;241m=\u001b[39m \u001b[43mmysql_conn\u001b[49m\u001b[38;5;241m.\u001b[39mcursor()\n",
      "\u001b[1;31mNameError\u001b[0m: name 'mysql_conn' is not defined"
     ]
    }
   ],
   "source": [
    "# Stating the MySQL connection\n",
    "pw_raw = 'Silver57'\n",
    "pw = urllib.parse.quote_plus(pw_raw)\n",
    "\n",
    "#creating the connection link / string\n",
    "connection_string = 'mysql+pymysql://root:' + pw + '@localhost:3306/bgg'\n",
    "\n",
    "# Using the connection string --> Connect to MySQL\n",
    "engine = create_engine(connection_string)\n",
    "\n",
    "# Connect to MySQL\n",
    "\n",
    "cursor = mysql_conn.cursor()"
   ]
  },
  {
   "cell_type": "markdown",
   "metadata": {},
   "source": [
    "# Creating the connection to BigQuery"
   ]
  },
  {
   "cell_type": "code",
   "execution_count": 9,
   "metadata": {},
   "outputs": [],
   "source": [
    "from google.cloud import bigquery\n",
    "import pymysql"
   ]
  },
  {
   "cell_type": "code",
   "execution_count": 7,
   "metadata": {},
   "outputs": [],
   "source": [
    "# BigQuery settings\n",
    "bigquery_project = 'da-bootcamp-2023'\n",
    "bigquery_dataset = 'michael_eu'\n",
    "bigquery_table = 'denormalized'\n",
    "\n",
    "# Connect to BigQuery\n",
    "bigquery_client = bigquery.Client()\n",
    "\n",
    "# Define BigQuery table reference\n",
    "table_ref = bigquery_client.dataset(bigquery_dataset).table(bigquery_table)\n",
    "job_config = bigquery.LoadJobConfig()\n",
    "job_config.write_disposition = bigquery.WriteDisposition.WRITE_APPEND"
   ]
  },
  {
   "cell_type": "markdown",
   "metadata": {},
   "source": [
    "# Defining the query before apply it"
   ]
  },
  {
   "cell_type": "code",
   "execution_count": 8,
   "metadata": {},
   "outputs": [
    {
     "ename": "NameError",
     "evalue": "name 'cursor' is not defined",
     "output_type": "error",
     "traceback": [
      "\u001b[1;31m---------------------------------------------------------------------------\u001b[0m",
      "\u001b[1;31mNameError\u001b[0m                                 Traceback (most recent call last)",
      "Cell \u001b[1;32mIn[8], line 18\u001b[0m\n\u001b[0;32m      2\u001b[0m sql_query \u001b[38;5;241m=\u001b[39m \u001b[38;5;124m\"\"\"\u001b[39m\n\u001b[0;32m      3\u001b[0m \u001b[38;5;124mSELECT *\u001b[39m\n\u001b[0;32m      4\u001b[0m \u001b[38;5;124mFROM games \u001b[39m\n\u001b[1;32m   (...)\u001b[0m\n\u001b[0;32m     14\u001b[0m \u001b[38;5;124mLEFT JOIN user_ratings USING(bgg_id)\u001b[39m\n\u001b[0;32m     15\u001b[0m \u001b[38;5;124m\"\"\"\u001b[39m\n\u001b[0;32m     17\u001b[0m \u001b[38;5;66;03m# Execute the query\u001b[39;00m\n\u001b[1;32m---> 18\u001b[0m \u001b[43mcursor\u001b[49m\u001b[38;5;241m.\u001b[39mexecute(sql_query)\n\u001b[0;32m     19\u001b[0m result_rows \u001b[38;5;241m=\u001b[39m cursor\u001b[38;5;241m.\u001b[39mfetchall()\n",
      "\u001b[1;31mNameError\u001b[0m: name 'cursor' is not defined"
     ]
    }
   ],
   "source": [
    "# SQL query to join tables\n",
    "sql_query = \"\"\"\n",
    "SELECT *\n",
    "FROM games \n",
    "LEFT JOIN artists USING(bgg_id)\n",
    "LEFT JOIN categories USING(bgg_id)\n",
    "LEFT JOIN designers USING(bgg_id)\n",
    "LEFT JOIN mechanics USING(bgg_id)\n",
    "LEFT JOIN publishers USING(bgg_id)\n",
    "LEFT JOIN rankings USING(bgg_id)\n",
    "LEFT JOIN ratings_distribution USING(bgg_id)\n",
    "LEFT JOIN subcategories USING(bgg_id)\n",
    "LEFT JOIN themes USING(bgg_id)\n",
    "LEFT JOIN user_ratings USING(bgg_id)\n",
    "\"\"\"\n",
    "\n",
    "# Execute the query\n",
    "cursor.execute(sql_query)\n",
    "result_rows = cursor.fetchall()"
   ]
  },
  {
   "cell_type": "markdown",
   "metadata": {},
   "source": [
    "# Insert data into BigQuery Table"
   ]
  },
  {
   "cell_type": "code",
   "execution_count": null,
   "metadata": {},
   "outputs": [],
   "source": [
    "# Insert data into BigQuery table\n",
    "bigquery_client.load_table_from_rows(result_rows, table_ref, job_config=job_config)\n",
    "\n",
    "# Close MySQL connection\n",
    "mysql_conn.close()\n",
    "\n",
    "print(\"Data successfully loaded into BigQuery.\")"
   ]
  },
  {
   "cell_type": "markdown",
   "metadata": {},
   "source": [
    "# Alternative solution:"
   ]
  },
  {
   "cell_type": "code",
   "execution_count": 12,
   "metadata": {},
   "outputs": [
    {
     "ename": "AttributeError",
     "evalue": "'Client' object has no attribute 'load_table_from_rows'",
     "output_type": "error",
     "traceback": [
      "\u001b[1;31m---------------------------------------------------------------------------\u001b[0m",
      "\u001b[1;31mAttributeError\u001b[0m                            Traceback (most recent call last)",
      "Cell \u001b[1;32mIn[12], line 48\u001b[0m\n\u001b[0;32m     45\u001b[0m job_config\u001b[38;5;241m.\u001b[39mwrite_disposition \u001b[38;5;241m=\u001b[39m bigquery\u001b[38;5;241m.\u001b[39mWriteDisposition\u001b[38;5;241m.\u001b[39mWRITE_APPEND\n\u001b[0;32m     47\u001b[0m \u001b[38;5;66;03m# Insert data into BigQuery table\u001b[39;00m\n\u001b[1;32m---> 48\u001b[0m \u001b[43mbigquery_client\u001b[49m\u001b[38;5;241;43m.\u001b[39;49m\u001b[43mload_table_from_rows\u001b[49m(result_rows, table_ref, job_config\u001b[38;5;241m=\u001b[39mjob_config)\n\u001b[0;32m     50\u001b[0m \u001b[38;5;66;03m# Close MySQL connection\u001b[39;00m\n\u001b[0;32m     51\u001b[0m mysql_conn\u001b[38;5;241m.\u001b[39mclose()\n",
      "\u001b[1;31mAttributeError\u001b[0m: 'Client' object has no attribute 'load_table_from_rows'"
     ]
    }
   ],
   "source": [
    "from google.cloud import bigquery\n",
    "import pymysql\n",
    "\n",
    "# MySQL connection parameters\n",
    "mysql_host = '127.0.0.1' #not sure of it...\n",
    "mysql_user = 'root'\n",
    "mysql_password = 'Silver57'\n",
    "mysql_database = 'bgg'\n",
    "\n",
    "# BigQuery settings\n",
    "bigquery_project = 'da-bootcamp-2023'\n",
    "bigquery_dataset = 'michael_eu'\n",
    "bigquery_table = 'denormalized_test'\n",
    "\n",
    "# Connect to MySQL\n",
    "mysql_conn = pymysql.connect(host=mysql_host, user=mysql_user, password=mysql_password, database=mysql_database)\n",
    "cursor = mysql_conn.cursor()\n",
    "\n",
    "# SQL query to join tables\n",
    "sql_query = \"\"\"\n",
    "SELECT *\n",
    "FROM games \n",
    "LEFT JOIN artists USING(bgg_id)\n",
    "LEFT JOIN categories USING(bgg_id)\n",
    "LEFT JOIN designers USING(bgg_id)\n",
    "LEFT JOIN mechanics USING(bgg_id)\n",
    "LEFT JOIN publishers USING(bgg_id)\n",
    "LEFT JOIN rankings USING(bgg_id)\n",
    "LEFT JOIN ratings_distribution USING(bgg_id)\n",
    "LEFT JOIN subcategories USING(bgg_id)\n",
    "LEFT JOIN themes USING(bgg_id)\n",
    "LEFT JOIN user_ratings USING(bgg_id)\n",
    "\"\"\"\n",
    "\n",
    "# Execute the query\n",
    "cursor.execute(sql_query)\n",
    "result_rows = cursor.fetchall()\n",
    "\n",
    "# Connect to BigQuery\n",
    "bigquery_client = bigquery.Client()\n",
    "\n",
    "# Define BigQuery table reference\n",
    "table_ref = bigquery_client.dataset(bigquery_dataset).table(bigquery_table)\n",
    "job_config = bigquery.LoadJobConfig()\n",
    "job_config.write_disposition = bigquery.WriteDisposition.WRITE_APPEND\n",
    "\n",
    "# Insert data into BigQuery table\n",
    "bigquery_client.load_table_from_rows(result_rows, table_ref, job_config=job_config)\n",
    "\n",
    "# Close MySQL connection\n",
    "mysql_conn.close()\n",
    "\n",
    "print(\"Data successfully loaded into BigQuery.\")"
   ]
  },
  {
   "cell_type": "markdown",
   "metadata": {},
   "source": [
    " # Next attempt"
   ]
  },
  {
   "cell_type": "code",
   "execution_count": 1,
   "metadata": {},
   "outputs": [
    {
     "ename": "ValueError",
     "evalue": "Could not determine schema for table 'da-bootcamp-2023.michael_eu.denormalized_test'. Call client.get_table() or pass in a list of schema fields to the selected_fields argument.",
     "output_type": "error",
     "traceback": [
      "\u001b[1;31m---------------------------------------------------------------------------\u001b[0m",
      "\u001b[1;31mValueError\u001b[0m                                Traceback (most recent call last)",
      "Cell \u001b[1;32mIn[1], line 49\u001b[0m\n\u001b[0;32m     46\u001b[0m table_ref \u001b[38;5;241m=\u001b[39m bigquery_client\u001b[38;5;241m.\u001b[39mdataset(bigquery_dataset)\u001b[38;5;241m.\u001b[39mtable(bigquery_table)\n\u001b[0;32m     48\u001b[0m \u001b[38;5;66;03m# Insert data into BigQuery table\u001b[39;00m\n\u001b[1;32m---> 49\u001b[0m errors \u001b[38;5;241m=\u001b[39m \u001b[43mbigquery_client\u001b[49m\u001b[38;5;241;43m.\u001b[39;49m\u001b[43minsert_rows\u001b[49m\u001b[43m(\u001b[49m\u001b[43mtable_ref\u001b[49m\u001b[43m,\u001b[49m\u001b[43m \u001b[49m\u001b[43mresult_rows\u001b[49m\u001b[43m)\u001b[49m\n\u001b[0;32m     51\u001b[0m \u001b[38;5;28;01mif\u001b[39;00m errors \u001b[38;5;241m==\u001b[39m []:\n\u001b[0;32m     52\u001b[0m     \u001b[38;5;28mprint\u001b[39m(\u001b[38;5;124m\"\u001b[39m\u001b[38;5;124mData successfully loaded into BigQuery.\u001b[39m\u001b[38;5;124m\"\u001b[39m)\n",
      "File \u001b[1;32m~\\AppData\\Roaming\\Python\\Python312\\site-packages\\google\\cloud\\bigquery\\client.py:3594\u001b[0m, in \u001b[0;36mClient.insert_rows\u001b[1;34m(self, table, rows, selected_fields, **kwargs)\u001b[0m\n\u001b[0;32m   3591\u001b[0m     schema \u001b[38;5;241m=\u001b[39m selected_fields\n\u001b[0;32m   3593\u001b[0m \u001b[38;5;28;01mif\u001b[39;00m \u001b[38;5;28mlen\u001b[39m(schema) \u001b[38;5;241m==\u001b[39m \u001b[38;5;241m0\u001b[39m:\n\u001b[1;32m-> 3594\u001b[0m     \u001b[38;5;28;01mraise\u001b[39;00m \u001b[38;5;167;01mValueError\u001b[39;00m(\n\u001b[0;32m   3595\u001b[0m         (\n\u001b[0;32m   3596\u001b[0m             \u001b[38;5;124m\"\u001b[39m\u001b[38;5;124mCould not determine schema for table \u001b[39m\u001b[38;5;124m'\u001b[39m\u001b[38;5;132;01m{}\u001b[39;00m\u001b[38;5;124m'\u001b[39m\u001b[38;5;124m. Call client.get_table() \u001b[39m\u001b[38;5;124m\"\u001b[39m\n\u001b[0;32m   3597\u001b[0m             \u001b[38;5;124m\"\u001b[39m\u001b[38;5;124mor pass in a list of schema fields to the selected_fields argument.\u001b[39m\u001b[38;5;124m\"\u001b[39m\n\u001b[0;32m   3598\u001b[0m         )\u001b[38;5;241m.\u001b[39mformat(table)\n\u001b[0;32m   3599\u001b[0m     )\n\u001b[0;32m   3601\u001b[0m json_rows \u001b[38;5;241m=\u001b[39m [_record_field_to_json(schema, row) \u001b[38;5;28;01mfor\u001b[39;00m row \u001b[38;5;129;01min\u001b[39;00m rows]\n\u001b[0;32m   3603\u001b[0m \u001b[38;5;28;01mreturn\u001b[39;00m \u001b[38;5;28mself\u001b[39m\u001b[38;5;241m.\u001b[39minsert_rows_json(table, json_rows, \u001b[38;5;241m*\u001b[39m\u001b[38;5;241m*\u001b[39mkwargs)\n",
      "\u001b[1;31mValueError\u001b[0m: Could not determine schema for table 'da-bootcamp-2023.michael_eu.denormalized_test'. Call client.get_table() or pass in a list of schema fields to the selected_fields argument."
     ]
    }
   ],
   "source": [
    "from google.cloud import bigquery\n",
    "import pymysql\n",
    "\n",
    "# MySQL connection parameters\n",
    "mysql_host = '127.0.0.1'  # Assuming MySQL is running locally\n",
    "mysql_user = 'root'\n",
    "mysql_password = 'Silver57'\n",
    "mysql_database = 'bgg'\n",
    "\n",
    "# BigQuery settings\n",
    "bigquery_project = 'da-bootcamp-2023'\n",
    "bigquery_dataset = 'michael_eu'\n",
    "bigquery_table = 'denormalized_test'\n",
    "\n",
    "# Connect to MySQL\n",
    "mysql_conn = pymysql.connect(host=mysql_host, user=mysql_user, password=mysql_password, database=mysql_database)\n",
    "cursor = mysql_conn.cursor()\n",
    "\n",
    "# SQL query to join tables\n",
    "sql_query = \"\"\"\n",
    "SELECT *\n",
    "FROM games \n",
    "LEFT JOIN artists USING(bgg_id)\n",
    "LEFT JOIN categories USING(bgg_id)\n",
    "LEFT JOIN designers USING(bgg_id)\n",
    "LEFT JOIN mechanics USING(bgg_id)\n",
    "LEFT JOIN publishers USING(bgg_id)\n",
    "LEFT JOIN rankings USING(bgg_id)\n",
    "LEFT JOIN ratings_distribution USING(bgg_id)\n",
    "LEFT JOIN subcategories USING(bgg_id)\n",
    "LEFT JOIN themes USING(bgg_id)\n",
    "LEFT JOIN user_ratings USING(bgg_id)\n",
    "\"\"\"\n",
    "\n",
    "# Execute the query\n",
    "cursor.execute(sql_query)\n",
    "result_rows = cursor.fetchall()\n",
    "\n",
    "# Close MySQL connection\n",
    "mysql_conn.close()\n",
    "\n",
    "# Connect to BigQuery\n",
    "bigquery_client = bigquery.Client()\n",
    "\n",
    "# Define BigQuery table reference\n",
    "table_ref = bigquery_client.dataset(bigquery_dataset).table(bigquery_table)\n",
    "\n",
    "# Insert data into BigQuery table\n",
    "errors = bigquery_client.insert_rows(table_ref, result_rows)\n",
    "\n",
    "if errors == []:\n",
    "    print(\"Data successfully loaded into BigQuery.\")\n",
    "else:\n",
    "    print(\"Errors occurred while loading data into BigQuery:\", errors)\n"
   ]
  },
  {
   "cell_type": "code",
   "execution_count": null,
   "metadata": {},
   "outputs": [],
   "source": [
    "df.to_gbq(\"michael_eu.denormalized\", project_id=\"da-bootcamp-2023\", if_exists=\"replace\")"
   ]
  },
  {
   "cell_type": "code",
   "execution_count": 2,
   "metadata": {},
   "outputs": [],
   "source": [
    "from google.cloud import bigquery\n",
    "import pymysql\n",
    "import pandas as pd\n",
    "\n",
    "# MySQL connection parameters\n",
    "mysql_host = '127.0.0.1'  # Assuming MySQL is running locally\n",
    "mysql_user = 'root'\n",
    "mysql_password = 'Silver57'\n",
    "mysql_database = 'bgg'\n",
    "\n",
    "# BigQuery settings\n",
    "bigquery_project = 'da-bootcamp-2023'\n",
    "bigquery_dataset = 'michael_eu'\n",
    "bigquery_table = 'denormalized_test'\n",
    "\n",
    "# Connect to MySQL\n",
    "mysql_conn = pymysql.connect(host=mysql_host, user=mysql_user, password=mysql_password, database=mysql_database)\n",
    "cursor = mysql_conn.cursor()\n",
    "\n",
    "# SQL query to join tables\n",
    "sql_query = \"\"\"\n",
    "SELECT *\n",
    "FROM games \n",
    "LEFT JOIN artists USING(bgg_id)\n",
    "LEFT JOIN categories USING(bgg_id)\n",
    "LEFT JOIN designers USING(bgg_id)\n",
    "LEFT JOIN mechanics USING(bgg_id)\n",
    "LEFT JOIN publishers USING(bgg_id)\n",
    "LEFT JOIN rankings USING(bgg_id)\n",
    "LEFT JOIN ratings_distribution USING(bgg_id)\n",
    "LEFT JOIN subcategories USING(bgg_id)\n",
    "LEFT JOIN themes USING(bgg_id)\n",
    "LEFT JOIN user_ratings USING(bgg_id)\n",
    "\"\"\"\n",
    "\n",
    "# Execute the query\n",
    "cursor.execute(sql_query)\n",
    "result_rows = cursor.fetchall()\n",
    "\n",
    "# Close MySQL connection\n",
    "mysql_conn.close()\n",
    "\n",
    "# Convert MySQL query results to DataFrame\n",
    "columns = [i[0] for i in cursor.description]\n",
    "df = pd.DataFrame(result_rows, columns=columns)\n",
    "\n",
    "# Insert data into BigQuery table\n",
    "df.to_gbq(\"michael_eu.denormalized\", project_id=\"da-bootcamp-2023\", if_exists=\"replace\")\n",
    "\n",
    "print(\"Data successfully loaded into BigQuery.\")\n"
   ]
  },
  {
   "cell_type": "markdown",
   "metadata": {},
   "source": [
    "# Other method: saving the query to a csv"
   ]
  },
  {
   "cell_type": "code",
   "execution_count": 2,
   "metadata": {},
   "outputs": [],
   "source": [
    "import pymysql\n",
    "from sqlalchemy import create_engine\n",
    "import pandas as pd\n",
    "import urllib\n",
    "\n",
    "# MySQL connection parameters\n",
    "mysql_host = '127.0.0.1'  # Assuming MySQL is running locally\n",
    "mysql_user = 'root'\n",
    "mysql_password = 'Silver57'\n",
    "mysql_database = 'bgg'\n",
    "\n",
    "# Connect to MySQL\n",
    "mysql_conn = pymysql.connect(host=mysql_host, user=mysql_user, password=mysql_password, database=mysql_database)\n",
    "\n",
    "# Stating the MySQL connection\n",
    "pw_raw = 'Silver57'\n",
    "pw = urllib.parse.quote_plus(pw_raw)\n",
    "\n",
    "#creating the connection link / string\n",
    "connection_string = 'mysql+pymysql://root:' + pw + '@localhost:3306/bgg'\n",
    "\n",
    "# Using the connection string --> Connect to MySQL\n",
    "engine = create_engine(connection_string)\n",
    "\n",
    "# SQL query to join tables\n",
    "sql_query = \"\"\"\n",
    "SELECT *\n",
    "FROM games \n",
    "LEFT JOIN artists USING(bgg_id)\n",
    "LEFT JOIN categories USING(bgg_id)\n",
    "LEFT JOIN designers USING(bgg_id)\n",
    "LEFT JOIN mechanics USING(bgg_id)\n",
    "LEFT JOIN publishers USING(bgg_id)\n",
    "LEFT JOIN rankings USING(bgg_id)\n",
    "LEFT JOIN subcategories USING(bgg_id)\n",
    "LEFT JOIN themes USING(bgg_id)\n",
    "LEFT JOIN user_ratings USING(bgg_id)\n",
    "\"\"\"\n",
    "\n",
    "df = pd.read_sql(sql_query, engine)\n",
    "\n",
    "# Execute the SQL query and fetch the results\n",
    "# cursor = mysql_conn.cursor()\n",
    "# cursor.execute(sql_query)\n",
    "# columns = [col[0] for col in cursor.description]  # Extract column names\n",
    "# results = cursor.fetchall()\n",
    "\n",
    "# Create a DataFrame from the fetched results and column names\n",
    "# df = pd.DataFrame(results, columns=columns)\n",
    "\n",
    "# Close MySQL connection\n",
    "mysql_conn.close()\n",
    "\n",
    "# Save DataFrame to a CSV file\n",
    "df.to_csv('bgg_data.csv', index=False)"
   ]
  },
  {
   "cell_type": "code",
   "execution_count": null,
   "metadata": {},
   "outputs": [],
   "source": [
    "df_games = pd.read_sql_table(table_name='games',con=engine,schema='bgg')\n",
    "df_games.to_gbq('michael_eu.games', project_id='da-bootcamp-2023')"
   ]
  },
  {
   "cell_type": "code",
   "execution_count": 2,
   "metadata": {},
   "outputs": [],
   "source": [
    "#pip install pandas-gbq\n",
    "#! pip install db-dtypes\n",
    "import pandas as pd\n",
    "df = pd.read_csv('bgg_data.csv')"
   ]
  },
  {
   "cell_type": "code",
   "execution_count": 3,
   "metadata": {},
   "outputs": [
    {
     "ename": "ImportError",
     "evalue": "pandas-gbq requires db-dtypes",
     "output_type": "error",
     "traceback": [
      "\u001b[1;31m---------------------------------------------------------------------------\u001b[0m",
      "\u001b[1;31mModuleNotFoundError\u001b[0m                       Traceback (most recent call last)",
      "File \u001b[1;32mc:\\Users\\micel\\AppData\\Local\\Programs\\Python\\Python312\\Lib\\site-packages\\pandas_gbq\\gbq.py:43\u001b[0m, in \u001b[0;36m_test_google_api_imports\u001b[1;34m()\u001b[0m\n\u001b[0;32m     42\u001b[0m \u001b[38;5;28;01mtry\u001b[39;00m:\n\u001b[1;32m---> 43\u001b[0m     \u001b[38;5;28;01mimport\u001b[39;00m \u001b[38;5;21;01mdb_dtypes\u001b[39;00m  \u001b[38;5;66;03m# noqa\u001b[39;00m\n\u001b[0;32m     44\u001b[0m \u001b[38;5;28;01mexcept\u001b[39;00m \u001b[38;5;167;01mImportError\u001b[39;00m \u001b[38;5;28;01mas\u001b[39;00m ex:  \u001b[38;5;66;03m# pragma: NO COVER\u001b[39;00m\n",
      "File \u001b[1;32m~\\AppData\\Roaming\\Python\\Python312\\site-packages\\db_dtypes\\__init__.py:27\u001b[0m\n\u001b[0;32m     26\u001b[0m \u001b[38;5;28;01mfrom\u001b[39;00m \u001b[38;5;21;01mpandas\u001b[39;00m\u001b[38;5;21;01m.\u001b[39;00m\u001b[38;5;21;01merrors\u001b[39;00m \u001b[38;5;28;01mimport\u001b[39;00m OutOfBoundsDatetime\n\u001b[1;32m---> 27\u001b[0m \u001b[38;5;28;01mimport\u001b[39;00m \u001b[38;5;21;01mpyarrow\u001b[39;00m\n\u001b[0;32m     28\u001b[0m \u001b[38;5;28;01mimport\u001b[39;00m \u001b[38;5;21;01mpyarrow\u001b[39;00m\u001b[38;5;21;01m.\u001b[39;00m\u001b[38;5;21;01mcompute\u001b[39;00m\n",
      "File \u001b[1;32m~\\AppData\\Roaming\\Python\\Python312\\site-packages\\pyarrow\\__init__.py:65\u001b[0m\n\u001b[0;32m     64\u001b[0m _gc\u001b[38;5;241m.\u001b[39mdisable()\n\u001b[1;32m---> 65\u001b[0m \u001b[38;5;28;01mimport\u001b[39;00m \u001b[38;5;21;01mpyarrow\u001b[39;00m\u001b[38;5;21;01m.\u001b[39;00m\u001b[38;5;21;01mlib\u001b[39;00m \u001b[38;5;28;01mas\u001b[39;00m \u001b[38;5;21;01m_lib\u001b[39;00m\n\u001b[0;32m     66\u001b[0m \u001b[38;5;28;01mif\u001b[39;00m _gc_enabled:\n",
      "\u001b[1;31mModuleNotFoundError\u001b[0m: No module named 'pyarrow.lib'",
      "\nThe above exception was the direct cause of the following exception:\n",
      "\u001b[1;31mImportError\u001b[0m                               Traceback (most recent call last)",
      "Cell \u001b[1;32mIn[3], line 1\u001b[0m\n\u001b[1;32m----> 1\u001b[0m \u001b[43mdf\u001b[49m\u001b[38;5;241;43m.\u001b[39;49m\u001b[43mto_gbq\u001b[49m\u001b[43m(\u001b[49m\u001b[38;5;124;43m'\u001b[39;49m\u001b[38;5;124;43mmichael_eu.boardgames\u001b[39;49m\u001b[38;5;124;43m'\u001b[39;49m\u001b[43m,\u001b[49m\u001b[43m \u001b[49m\u001b[43mproject_id\u001b[49m\u001b[38;5;241;43m=\u001b[39;49m\u001b[38;5;124;43m'\u001b[39;49m\u001b[38;5;124;43mda-bootcamp-2023\u001b[39;49m\u001b[38;5;124;43m'\u001b[39;49m\u001b[43m)\u001b[49m\n",
      "File \u001b[1;32m~\\AppData\\Roaming\\Python\\Python312\\site-packages\\pandas\\core\\frame.py:2158\u001b[0m, in \u001b[0;36mDataFrame.to_gbq\u001b[1;34m(self, destination_table, project_id, chunksize, reauth, if_exists, auth_local_webserver, table_schema, location, progress_bar, credentials)\u001b[0m\n\u001b[0;32m   2054\u001b[0m \u001b[38;5;250m\u001b[39m\u001b[38;5;124;03m\"\"\"\u001b[39;00m\n\u001b[0;32m   2055\u001b[0m \u001b[38;5;124;03mWrite a DataFrame to a Google BigQuery table.\u001b[39;00m\n\u001b[0;32m   2056\u001b[0m \n\u001b[1;32m   (...)\u001b[0m\n\u001b[0;32m   2154\u001b[0m \u001b[38;5;124;03m>>> df.to_gbq(table_id, project_id=project_id)  # doctest: +SKIP\u001b[39;00m\n\u001b[0;32m   2155\u001b[0m \u001b[38;5;124;03m\"\"\"\u001b[39;00m\n\u001b[0;32m   2156\u001b[0m \u001b[38;5;28;01mfrom\u001b[39;00m \u001b[38;5;21;01mpandas\u001b[39;00m\u001b[38;5;21;01m.\u001b[39;00m\u001b[38;5;21;01mio\u001b[39;00m \u001b[38;5;28;01mimport\u001b[39;00m gbq\n\u001b[1;32m-> 2158\u001b[0m \u001b[43mgbq\u001b[49m\u001b[38;5;241;43m.\u001b[39;49m\u001b[43mto_gbq\u001b[49m\u001b[43m(\u001b[49m\n\u001b[0;32m   2159\u001b[0m \u001b[43m    \u001b[49m\u001b[38;5;28;43mself\u001b[39;49m\u001b[43m,\u001b[49m\n\u001b[0;32m   2160\u001b[0m \u001b[43m    \u001b[49m\u001b[43mdestination_table\u001b[49m\u001b[43m,\u001b[49m\n\u001b[0;32m   2161\u001b[0m \u001b[43m    \u001b[49m\u001b[43mproject_id\u001b[49m\u001b[38;5;241;43m=\u001b[39;49m\u001b[43mproject_id\u001b[49m\u001b[43m,\u001b[49m\n\u001b[0;32m   2162\u001b[0m \u001b[43m    \u001b[49m\u001b[43mchunksize\u001b[49m\u001b[38;5;241;43m=\u001b[39;49m\u001b[43mchunksize\u001b[49m\u001b[43m,\u001b[49m\n\u001b[0;32m   2163\u001b[0m \u001b[43m    \u001b[49m\u001b[43mreauth\u001b[49m\u001b[38;5;241;43m=\u001b[39;49m\u001b[43mreauth\u001b[49m\u001b[43m,\u001b[49m\n\u001b[0;32m   2164\u001b[0m \u001b[43m    \u001b[49m\u001b[43mif_exists\u001b[49m\u001b[38;5;241;43m=\u001b[39;49m\u001b[43mif_exists\u001b[49m\u001b[43m,\u001b[49m\n\u001b[0;32m   2165\u001b[0m \u001b[43m    \u001b[49m\u001b[43mauth_local_webserver\u001b[49m\u001b[38;5;241;43m=\u001b[39;49m\u001b[43mauth_local_webserver\u001b[49m\u001b[43m,\u001b[49m\n\u001b[0;32m   2166\u001b[0m \u001b[43m    \u001b[49m\u001b[43mtable_schema\u001b[49m\u001b[38;5;241;43m=\u001b[39;49m\u001b[43mtable_schema\u001b[49m\u001b[43m,\u001b[49m\n\u001b[0;32m   2167\u001b[0m \u001b[43m    \u001b[49m\u001b[43mlocation\u001b[49m\u001b[38;5;241;43m=\u001b[39;49m\u001b[43mlocation\u001b[49m\u001b[43m,\u001b[49m\n\u001b[0;32m   2168\u001b[0m \u001b[43m    \u001b[49m\u001b[43mprogress_bar\u001b[49m\u001b[38;5;241;43m=\u001b[39;49m\u001b[43mprogress_bar\u001b[49m\u001b[43m,\u001b[49m\n\u001b[0;32m   2169\u001b[0m \u001b[43m    \u001b[49m\u001b[43mcredentials\u001b[49m\u001b[38;5;241;43m=\u001b[39;49m\u001b[43mcredentials\u001b[49m\u001b[43m,\u001b[49m\n\u001b[0;32m   2170\u001b[0m \u001b[43m\u001b[49m\u001b[43m)\u001b[49m\n",
      "File \u001b[1;32m~\\AppData\\Roaming\\Python\\Python312\\site-packages\\pandas\\io\\gbq.py:223\u001b[0m, in \u001b[0;36mto_gbq\u001b[1;34m(dataframe, destination_table, project_id, chunksize, reauth, if_exists, auth_local_webserver, table_schema, location, progress_bar, credentials)\u001b[0m\n\u001b[0;32m    209\u001b[0m \u001b[38;5;28;01mdef\u001b[39;00m \u001b[38;5;21mto_gbq\u001b[39m(\n\u001b[0;32m    210\u001b[0m     dataframe: DataFrame,\n\u001b[0;32m    211\u001b[0m     destination_table: \u001b[38;5;28mstr\u001b[39m,\n\u001b[1;32m   (...)\u001b[0m\n\u001b[0;32m    220\u001b[0m     credentials: google\u001b[38;5;241m.\u001b[39mauth\u001b[38;5;241m.\u001b[39mcredentials\u001b[38;5;241m.\u001b[39mCredentials \u001b[38;5;241m|\u001b[39m \u001b[38;5;28;01mNone\u001b[39;00m \u001b[38;5;241m=\u001b[39m \u001b[38;5;28;01mNone\u001b[39;00m,\n\u001b[0;32m    221\u001b[0m ) \u001b[38;5;241m-\u001b[39m\u001b[38;5;241m>\u001b[39m \u001b[38;5;28;01mNone\u001b[39;00m:\n\u001b[0;32m    222\u001b[0m     pandas_gbq \u001b[38;5;241m=\u001b[39m _try_import()\n\u001b[1;32m--> 223\u001b[0m     \u001b[43mpandas_gbq\u001b[49m\u001b[38;5;241;43m.\u001b[39;49m\u001b[43mto_gbq\u001b[49m\u001b[43m(\u001b[49m\n\u001b[0;32m    224\u001b[0m \u001b[43m        \u001b[49m\u001b[43mdataframe\u001b[49m\u001b[43m,\u001b[49m\n\u001b[0;32m    225\u001b[0m \u001b[43m        \u001b[49m\u001b[43mdestination_table\u001b[49m\u001b[43m,\u001b[49m\n\u001b[0;32m    226\u001b[0m \u001b[43m        \u001b[49m\u001b[43mproject_id\u001b[49m\u001b[38;5;241;43m=\u001b[39;49m\u001b[43mproject_id\u001b[49m\u001b[43m,\u001b[49m\n\u001b[0;32m    227\u001b[0m \u001b[43m        \u001b[49m\u001b[43mchunksize\u001b[49m\u001b[38;5;241;43m=\u001b[39;49m\u001b[43mchunksize\u001b[49m\u001b[43m,\u001b[49m\n\u001b[0;32m    228\u001b[0m \u001b[43m        \u001b[49m\u001b[43mreauth\u001b[49m\u001b[38;5;241;43m=\u001b[39;49m\u001b[43mreauth\u001b[49m\u001b[43m,\u001b[49m\n\u001b[0;32m    229\u001b[0m \u001b[43m        \u001b[49m\u001b[43mif_exists\u001b[49m\u001b[38;5;241;43m=\u001b[39;49m\u001b[43mif_exists\u001b[49m\u001b[43m,\u001b[49m\n\u001b[0;32m    230\u001b[0m \u001b[43m        \u001b[49m\u001b[43mauth_local_webserver\u001b[49m\u001b[38;5;241;43m=\u001b[39;49m\u001b[43mauth_local_webserver\u001b[49m\u001b[43m,\u001b[49m\n\u001b[0;32m    231\u001b[0m \u001b[43m        \u001b[49m\u001b[43mtable_schema\u001b[49m\u001b[38;5;241;43m=\u001b[39;49m\u001b[43mtable_schema\u001b[49m\u001b[43m,\u001b[49m\n\u001b[0;32m    232\u001b[0m \u001b[43m        \u001b[49m\u001b[43mlocation\u001b[49m\u001b[38;5;241;43m=\u001b[39;49m\u001b[43mlocation\u001b[49m\u001b[43m,\u001b[49m\n\u001b[0;32m    233\u001b[0m \u001b[43m        \u001b[49m\u001b[43mprogress_bar\u001b[49m\u001b[38;5;241;43m=\u001b[39;49m\u001b[43mprogress_bar\u001b[49m\u001b[43m,\u001b[49m\n\u001b[0;32m    234\u001b[0m \u001b[43m        \u001b[49m\u001b[43mcredentials\u001b[49m\u001b[38;5;241;43m=\u001b[39;49m\u001b[43mcredentials\u001b[49m\u001b[43m,\u001b[49m\n\u001b[0;32m    235\u001b[0m \u001b[43m    \u001b[49m\u001b[43m)\u001b[49m\n",
      "File \u001b[1;32mc:\\Users\\micel\\AppData\\Local\\Programs\\Python\\Python312\\Lib\\site-packages\\pandas_gbq\\gbq.py:1025\u001b[0m, in \u001b[0;36mto_gbq\u001b[1;34m(dataframe, destination_table, project_id, chunksize, reauth, if_exists, auth_local_webserver, table_schema, location, progress_bar, credentials, api_method, verbose, private_key, auth_redirect_uri, client_id, client_secret)\u001b[0m\n\u001b[0;32m    894\u001b[0m \u001b[38;5;28;01mdef\u001b[39;00m \u001b[38;5;21mto_gbq\u001b[39m(\n\u001b[0;32m    895\u001b[0m     dataframe,\n\u001b[0;32m    896\u001b[0m     destination_table,\n\u001b[1;32m   (...)\u001b[0m\n\u001b[0;32m    911\u001b[0m     client_secret\u001b[38;5;241m=\u001b[39m\u001b[38;5;28;01mNone\u001b[39;00m,\n\u001b[0;32m    912\u001b[0m ):\n\u001b[0;32m    913\u001b[0m \u001b[38;5;250m    \u001b[39m\u001b[38;5;124;03m\"\"\"Write a DataFrame to a Google BigQuery table.\u001b[39;00m\n\u001b[0;32m    914\u001b[0m \n\u001b[0;32m    915\u001b[0m \u001b[38;5;124;03m    The main method a user calls to export pandas DataFrame contents to Google BigQuery table.\u001b[39;00m\n\u001b[1;32m   (...)\u001b[0m\n\u001b[0;32m   1022\u001b[0m \u001b[38;5;124;03m        the user is attempting to connect to.\u001b[39;00m\n\u001b[0;32m   1023\u001b[0m \u001b[38;5;124;03m    \"\"\"\u001b[39;00m\n\u001b[1;32m-> 1025\u001b[0m     \u001b[43m_test_google_api_imports\u001b[49m\u001b[43m(\u001b[49m\u001b[43m)\u001b[49m\n\u001b[0;32m   1027\u001b[0m     \u001b[38;5;28;01mfrom\u001b[39;00m \u001b[38;5;21;01mgoogle\u001b[39;00m\u001b[38;5;21;01m.\u001b[39;00m\u001b[38;5;21;01mapi_core\u001b[39;00m \u001b[38;5;28;01mimport\u001b[39;00m exceptions \u001b[38;5;28;01mas\u001b[39;00m google_exceptions\n\u001b[0;32m   1028\u001b[0m     \u001b[38;5;28;01mfrom\u001b[39;00m \u001b[38;5;21;01mgoogle\u001b[39;00m\u001b[38;5;21;01m.\u001b[39;00m\u001b[38;5;21;01mcloud\u001b[39;00m \u001b[38;5;28;01mimport\u001b[39;00m bigquery\n",
      "File \u001b[1;32mc:\\Users\\micel\\AppData\\Local\\Programs\\Python\\Python312\\Lib\\site-packages\\pandas_gbq\\gbq.py:45\u001b[0m, in \u001b[0;36m_test_google_api_imports\u001b[1;34m()\u001b[0m\n\u001b[0;32m     43\u001b[0m     \u001b[38;5;28;01mimport\u001b[39;00m \u001b[38;5;21;01mdb_dtypes\u001b[39;00m  \u001b[38;5;66;03m# noqa\u001b[39;00m\n\u001b[0;32m     44\u001b[0m \u001b[38;5;28;01mexcept\u001b[39;00m \u001b[38;5;167;01mImportError\u001b[39;00m \u001b[38;5;28;01mas\u001b[39;00m ex:  \u001b[38;5;66;03m# pragma: NO COVER\u001b[39;00m\n\u001b[1;32m---> 45\u001b[0m     \u001b[38;5;28;01mraise\u001b[39;00m \u001b[38;5;167;01mImportError\u001b[39;00m(\u001b[38;5;124m\"\u001b[39m\u001b[38;5;124mpandas-gbq requires db-dtypes\u001b[39m\u001b[38;5;124m\"\u001b[39m) \u001b[38;5;28;01mfrom\u001b[39;00m \u001b[38;5;21;01mex\u001b[39;00m\n\u001b[0;32m     47\u001b[0m \u001b[38;5;28;01mtry\u001b[39;00m:\n\u001b[0;32m     48\u001b[0m     \u001b[38;5;28;01mimport\u001b[39;00m \u001b[38;5;21;01mpydata_google_auth\u001b[39;00m  \u001b[38;5;66;03m# noqa\u001b[39;00m\n",
      "\u001b[1;31mImportError\u001b[0m: pandas-gbq requires db-dtypes"
     ]
    }
   ],
   "source": [
    "df.to_gbq('michael_eu.boardgames', project_id='da-bootcamp-2023')"
   ]
  },
  {
   "cell_type": "code",
   "execution_count": null,
   "metadata": {},
   "outputs": [],
   "source": [
    "import os\n",
    "\n",
    "# Get the current working directory\n",
    "current_directory = os.getcwd()\n",
    "\n",
    "# Print the current working directory\n",
    "print(\"CSV file saved in:\", current_directory)"
   ]
  }
 ],
 "metadata": {
  "kernelspec": {
   "display_name": "Python 3",
   "language": "python",
   "name": "python3"
  },
  "language_info": {
   "codemirror_mode": {
    "name": "ipython",
    "version": 3
   },
   "file_extension": ".py",
   "mimetype": "text/x-python",
   "name": "python",
   "nbconvert_exporter": "python",
   "pygments_lexer": "ipython3",
   "version": "3.12.3"
  }
 },
 "nbformat": 4,
 "nbformat_minor": 2
}
