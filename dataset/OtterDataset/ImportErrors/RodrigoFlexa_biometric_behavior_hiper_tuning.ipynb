{
 "cells": [
  {
   "cell_type": "code",
   "execution_count": 2,
   "metadata": {},
   "outputs": [
    {
     "name": "stdout",
     "output_type": "stream",
     "text": [
      "Treino\n",
      "(16411, 50, 3, 2) (16411,)\n",
      "Teste\n",
      "(4491, 50, 3, 2) (4491,)\n",
      "Validação\n",
      "(4491, 50, 3, 2) (4491,)\n"
     ]
    }
   ],
   "source": [
    "# # Carregar X e y de arquivos .npy\n",
    "# X = np.load('X_windows.npy')\n",
    "# y = np.load('y_labels.npy')\n",
    "import numpy as np\n",
    "\n",
    "# Salvar X e y em arquivos .npy\n",
    "X_train = np.load('X_train.npy')\n",
    "X_test = np.load('X_test.npy')\n",
    "X_val = np.load('X_valid.npy')\n",
    "\n",
    "y_train = np.load('y_train.npy')\n",
    "y_test = np.load('y_test.npy')\n",
    "y_val = np.load('y_valid.npy')\n",
    "\n",
    "print(\"Treino\")\n",
    "print(X_train.shape, y_train.shape)  # Verificar as formas dos dados carregados\n",
    "\n",
    "print(\"Teste\")\n",
    "print(X_test.shape, y_test.shape)  # Verificar as formas dos dados carregados\n",
    "\n",
    "\n",
    "print(\"Validação\")\n",
    "print(X_val.shape, y_val.shape)  # Verificar as formas dos dados carregados"
   ]
  },
  {
   "cell_type": "code",
   "execution_count": 4,
   "metadata": {},
   "outputs": [],
   "source": [
    "num_classes =30  # Certifique-se de que isso corresponde ao número de classes nos seus rótulos.\n",
    "epochs = 20\n",
    "window_size = 50"
   ]
  },
  {
   "cell_type": "code",
   "execution_count": 5,
   "metadata": {},
   "outputs": [],
   "source": [
    "from tensorflow.keras.utils import to_categorical\n",
    "\n",
    "num_classes = y_train[-1] + 1 \n",
    "# Realiza one-hot encoding no y\n",
    "y_train = to_categorical(y_train, num_classes=num_classes)  # considerando que y varia de 0 a 20\n",
    "y_test = to_categorical(y_test, num_classes=num_classes)  # considerando que y varia de 0 a 20\n",
    "y_val = to_categorical(y_val, num_classes=num_classes)  # considerando que y varia de 0 a 20"
   ]
  },
  {
   "cell_type": "code",
   "execution_count": 1,
   "metadata": {},
   "outputs": [],
   "source": [
    "import keras_tuner as kt\n",
    "from tensorflow import keras\n",
    "from keras import layers, models\n",
    "from keras.regularizers import l2\n",
    "from keras.callbacks import EarlyStopping"
   ]
  },
  {
   "cell_type": "code",
   "execution_count": 6,
   "metadata": {},
   "outputs": [],
   "source": [
    "# Definir função de construção do modelo com hiperparâmetros\n",
    "def build_model(hp):\n",
    "    inputs = layers.Input(shape=(window_size, 3, 2, 1))\n",
    "    \n",
    "    # Primeira camada Conv3D com busca de hiperparâmetros para filtros e kernel size\n",
    "    x = layers.Conv3D(\n",
    "        filters=hp.Int('filters_1', min_value=32, max_value=128, step=32),\n",
    "        kernel_size=(3, 3, 2),\n",
    "        activation='relu',\n",
    "        padding='same')(inputs)\n",
    "    x = layers.BatchNormalization()(x)\n",
    "    x = layers.MaxPooling3D(pool_size=(2, 1, 1))(x)\n",
    "    x = layers.Dropout(hp.Float('dropout_1', min_value=0.3, max_value=0.7, step=0.1))(x)\n",
    "\n",
    "    # Segunda camada Conv3D\n",
    "    x = layers.Conv3D(\n",
    "        filters=hp.Int('filters_2', min_value=64, max_value=256, step=64),\n",
    "        kernel_size=(3, 3, 1),\n",
    "        activation='relu',\n",
    "        padding='same',\n",
    "        kernel_regularizer=l2(hp.Float('l2_reg', min_value=0.001, max_value=0.02, step=0.005)))(x)\n",
    "    x = layers.BatchNormalization()(x)\n",
    "    x = layers.MaxPooling3D(pool_size=(2, 1, 1))(x)\n",
    "\n",
    "    # Global Average Pooling\n",
    "    x = layers.GlobalAveragePooling3D()(x)\n",
    "\n",
    "    # Camada densa para classificação\n",
    "    output = layers.Dense(num_classes, activation='softmax')(x)\n",
    "\n",
    "    # Definir o modelo\n",
    "    model = models.Model(inputs=inputs, outputs=output)\n",
    "\n",
    "    # Compilar o modelo com taxa de aprendizado como hiperparâmetro\n",
    "    model.compile(\n",
    "        optimizer=tf.keras.optimizers.RMSprop(\n",
    "            learning_rate=hp.Float('learning_rate', min_value=0.0001, max_value=0.01, sampling='log')),\n",
    "        loss='categorical_crossentropy',\n",
    "        metrics=['accuracy']\n",
    "    )\n",
    "\n",
    "    return model"
   ]
  },
  {
   "cell_type": "code",
   "execution_count": null,
   "metadata": {},
   "outputs": [],
   "source": [
    "\n",
    "# Criar o tuner com RandomSearch\n",
    "tuner = kt.RandomSearch(\n",
    "    build_model,\n",
    "    objective='val_accuracy',\n",
    "    max_trials=10,\n",
    "    executions_per_trial=1,\n",
    "    directory='my_dir',\n",
    "    project_name='cnn_tuning')\n",
    "\n",
    "# Exibir a pesquisa de hiperparâmetros\n",
    "tuner.search_space_summary()\n",
    "\n",
    "# Callbacks\n",
    "early_stopping = EarlyStopping(monitor='val_loss', patience=5, restore_best_weights=True)\n",
    "\n",
    "# Executar a pesquisa\n",
    "tuner.search(X_train, y_train, \n",
    "             epochs=20, \n",
    "             validation_data=(X_val, y_val), \n",
    "             callbacks=[early_stopping])"
   ]
  },
  {
   "cell_type": "code",
   "execution_count": null,
   "metadata": {},
   "outputs": [],
   "source": [
    "# Obter o melhor modelo\n",
    "best_model = tuner.get_best_models(num_models=1)[0]\n",
    "\n",
    "# Exibir o resumo do melhor modelo\n",
    "best_model.summary()\n",
    "\n",
    "# Avaliar o modelo\n",
    "best_model.evaluate(X_test, y_test)"
   ]
  },
  {
   "cell_type": "code",
   "execution_count": null,
   "metadata": {},
   "outputs": [],
   "source": []
  },
  {
   "cell_type": "code",
   "execution_count": null,
   "metadata": {},
   "outputs": [],
   "source": []
  },
  {
   "cell_type": "code",
   "execution_count": null,
   "metadata": {},
   "outputs": [],
   "source": [
    "import numpy as np\n",
    "import tensorflow as tf\n",
    "import json\n",
    "\n",
    "# Carregar X e y de arquivos .npy\n",
    "X_train = np.load('X_train.npy')\n",
    "X_test = np.load('X_test.npy')\n",
    "X_val = np.load('X_valid.npy')\n",
    "\n",
    "y_train = np.load('y_train.npy')\n",
    "y_test = np.load('y_test.npy')\n",
    "y_val = np.load('y_valid.npy')\n",
    "\n",
    "from tensorflow.keras.utils import to_categorical\n",
    "\n",
    "# Definir número de classes a partir dos dados\n",
    "num_classes = y_train.max() + 1\n",
    "\n",
    "# Realiza one-hot encoding em y\n",
    "y_train = to_categorical(y_train, num_classes=num_classes)\n",
    "y_test = to_categorical(y_test, num_classes=num_classes)\n",
    "y_val = to_categorical(y_val, num_classes=num_classes)\n",
    "\n",
    "# Achatar os dados de entrada para MLP preservando o janelamento\n",
    "window_size = 50\n",
    "X_train_mlp = X_train.reshape((X_train.shape[0], window_size * 3 * 2))  # (50 * 3 * 2) = 300\n",
    "X_val_mlp = X_val.reshape((X_val.shape[0], window_size * 3 * 2))        \n",
    "X_test_mlp = X_test.reshape((X_test.shape[0], window_size * 3 * 2))    \n",
    "\n",
    "import keras_tuner as kt\n",
    "from tensorflow.keras import layers, models\n",
    "from tensorflow.keras.regularizers import l2\n",
    "from tensorflow.keras.callbacks import EarlyStopping, ReduceLROnPlateau\n",
    "\n",
    "# Definir função de construção do modelo com hiperparâmetros\n",
    "def build_model(hp):\n",
    "    model = models.Sequential()\n",
    "    model.add(layers.Input(shape=(X_train_mlp.shape[1],)))  # Camada de entrada\n",
    "\n",
    "    # Primeira camada densa com busca de hiperparâmetros\n",
    "    model.add(layers.Dense(units=hp.Int('units_1', min_value=128, max_value=512, step=64),\n",
    "                           activation='relu', kernel_regularizer=l2(hp.Float('l2_reg_1', min_value=0.0001, max_value=0.01, step=0.001))))\n",
    "    model.add(layers.BatchNormalization())\n",
    "    model.add(layers.Dropout(hp.Float('dropout_1', min_value=0.3, max_value=0.7, step=0.1)))\n",
    "\n",
    "    # Segunda camada densa com busca de hiperparâmetros\n",
    "    model.add(layers.Dense(units=hp.Int('units_2', min_value=64, max_value=256, step=64),\n",
    "                           activation='relu', kernel_regularizer=l2(hp.Float('l2_reg_2', min_value=0.0001, max_value=0.01, step=0.001))))\n",
    "    model.add(layers.BatchNormalization())\n",
    "    model.add(layers.Dropout(hp.Float('dropout_2', min_value=0.3, max_value=0.7, step=0.1)))\n",
    "\n",
    "    # Terceira camada densa\n",
    "    model.add(layers.Dense(units=hp.Int('units_3', min_value=32, max_value=128, step=32),\n",
    "                           activation='relu', kernel_regularizer=l2(hp.Float('l2_reg_3', min_value=0.0001, max_value=0.01, step=0.001))))\n",
    "    model.add(layers.BatchNormalization())\n",
    "    model.add(layers.Dropout(hp.Float('dropout_3', min_value=0.3, max_value=0.7, step=0.1)))\n",
    "\n",
    "    # Camada de saída\n",
    "    model.add(layers.Dense(num_classes, activation='softmax'))\n",
    "\n",
    "    # Compilar o modelo\n",
    "    model.compile(optimizer=tf.keras.optimizers.Adam(learning_rate=hp.Float('learning_rate', min_value=0.0001, max_value=0.01, sampling='log')),\n",
    "                  loss='categorical_crossentropy',\n",
    "                  metrics=['accuracy'])\n",
    "\n",
    "    return model\n",
    "\n",
    "# Criar o tuner com RandomSearch\n",
    "tuner = kt.RandomSearch(\n",
    "    build_model,\n",
    "    objective='val_accuracy',\n",
    "    max_trials=30,\n",
    "    executions_per_trial=1,\n",
    "    directory='mlp_tuning',\n",
    "    project_name='mlp_dnn_tuning')\n",
    "\n",
    "# Callbacks\n",
    "reduce_lr = ReduceLROnPlateau(monitor='val_loss', factor=0.2, patience=3, min_lr=0.0001)\n",
    "early_stopping = EarlyStopping(monitor='val_loss', patience=5, restore_best_weights=True)\n",
    "\n",
    "# Executar a pesquisa\n",
    "tuner.search(X_train_mlp, y_train, \n",
    "             epochs=20, \n",
    "             validation_data=(X_val_mlp, y_val), \n",
    "             callbacks=[reduce_lr, early_stopping])\n",
    "\n",
    "# Obter o melhor modelo\n",
    "best_model = tuner.get_best_models(num_models=1)[0]\n",
    "\n",
    "# Avaliar o modelo no conjunto de teste\n",
    "mlp_test_loss, mlp_test_accuracy = best_model.evaluate(X_test_mlp, y_test, verbose=0)\n",
    "\n",
    "# Obter os melhores hiperparâmetros\n",
    "best_hps = tuner.get_best_hyperparameters(num_trials=1)[0]\n",
    "print(best_hps)\n",
    "\n",
    "# Salvar os resultados e hiperparâmetros em um arquivo\n",
    "results = {\n",
    "    \"Test Loss\": mlp_test_loss,\n",
    "    \"Test Accuracy\": mlp_test_accuracy,\n",
    "    \"Best Hyperparameters\": {\n",
    "        \"units_1\": best_hps.get('units_1'),\n",
    "        \"dropout_1\": best_hps.get('dropout_1'),\n",
    "        \"l2_reg_1\": best_hps.get('l2_reg_1'),\n",
    "        \"units_2\": best_hps.get('units_2'),\n",
    "        \"dropout_2\": best_hps.get('dropout_2'),\n",
    "        \"l2_reg_2\": best_hps.get('l2_reg_2'),\n",
    "        \"units_3\": best_hps.get('units_3'),\n",
    "        \"dropout_3\": best_hps.get('dropout_3'),\n",
    "        \"l2_reg_3\": best_hps.get('l2_reg_3'),\n",
    "        \"learning_rate\": best_hps.get('learning_rate')\n",
    "    }\n",
    "}\n",
    "print(results)\n",
    "\n",
    "with open('best_mlp_model_results.json', 'w') as f:\n",
    "    json.dump(results, f, indent=4)\n",
    "\n",
    "# Salvar o modelo em um arquivo HDF5\n",
    "best_model.save('best_mlp_model.h5')\n",
    "\n",
    "print(\"Parâmetros e resultados do melhor modelo DNN foram salvos.\")\n"
   ]
  },
  {
   "cell_type": "markdown",
   "metadata": {},
   "source": [
    "## Lend9o o best model"
   ]
  },
  {
   "cell_type": "code",
   "execution_count": 2,
   "metadata": {},
   "outputs": [
    {
     "ename": "ImportError",
     "evalue": "DLL load failed while importing _errors: Não foi possível encontrar o procedimento especificado.",
     "output_type": "error",
     "traceback": [
      "\u001b[1;31m---------------------------------------------------------------------------\u001b[0m",
      "\u001b[1;31mImportError\u001b[0m                               Traceback (most recent call last)",
      "Cell \u001b[1;32mIn[2], line 1\u001b[0m\n\u001b[1;32m----> 1\u001b[0m \u001b[38;5;28;01mimport\u001b[39;00m \u001b[38;5;21;01mh5py\u001b[39;00m\n",
      "File \u001b[1;32mc:\\Users\\rodri\\anaconda3\\envs\\nn\\Lib\\site-packages\\h5py\\__init__.py:25\u001b[0m\n\u001b[0;32m     19\u001b[0m \u001b[38;5;66;03m# --- Library setup -----------------------------------------------------------\u001b[39;00m\n\u001b[0;32m     20\u001b[0m \n\u001b[0;32m     21\u001b[0m \u001b[38;5;66;03m# When importing from the root of the unpacked tarball or git checkout,\u001b[39;00m\n\u001b[0;32m     22\u001b[0m \u001b[38;5;66;03m# Python sees the \"h5py\" source directory and tries to load it, which fails.\u001b[39;00m\n\u001b[0;32m     23\u001b[0m \u001b[38;5;66;03m# We tried working around this by using \"package_dir\" but that breaks Cython.\u001b[39;00m\n\u001b[0;32m     24\u001b[0m \u001b[38;5;28;01mtry\u001b[39;00m:\n\u001b[1;32m---> 25\u001b[0m     \u001b[38;5;28;01mfrom\u001b[39;00m \u001b[38;5;21;01m.\u001b[39;00m \u001b[38;5;28;01mimport\u001b[39;00m _errors\n\u001b[0;32m     26\u001b[0m \u001b[38;5;28;01mexcept\u001b[39;00m \u001b[38;5;167;01mImportError\u001b[39;00m:\n\u001b[0;32m     27\u001b[0m     \u001b[38;5;28;01mimport\u001b[39;00m \u001b[38;5;21;01mos\u001b[39;00m\u001b[38;5;21;01m.\u001b[39;00m\u001b[38;5;21;01mpath\u001b[39;00m \u001b[38;5;28;01mas\u001b[39;00m \u001b[38;5;21;01m_op\u001b[39;00m\n",
      "\u001b[1;31mImportError\u001b[0m: DLL load failed while importing _errors: Não foi possível encontrar o procedimento especificado."
     ]
    }
   ],
   "source": [
    "import h5py"
   ]
  },
  {
   "cell_type": "code",
   "execution_count": 1,
   "metadata": {},
   "outputs": [
    {
     "ename": "ModuleNotFoundError",
     "evalue": "No module named 'tensorflow.keras'",
     "output_type": "error",
     "traceback": [
      "\u001b[1;31m---------------------------------------------------------------------------\u001b[0m",
      "\u001b[1;31mModuleNotFoundError\u001b[0m                       Traceback (most recent call last)",
      "Cell \u001b[1;32mIn[1], line 2\u001b[0m\n\u001b[0;32m      1\u001b[0m \u001b[38;5;28;01mimport\u001b[39;00m \u001b[38;5;21;01mtensorflow\u001b[39;00m \u001b[38;5;28;01mas\u001b[39;00m \u001b[38;5;21;01mtf\u001b[39;00m\n\u001b[1;32m----> 2\u001b[0m \u001b[38;5;28;01mfrom\u001b[39;00m \u001b[38;5;21;01mtensorflow\u001b[39;00m\u001b[38;5;21;01m.\u001b[39;00m\u001b[38;5;21;01mkeras\u001b[39;00m\u001b[38;5;21;01m.\u001b[39;00m\u001b[38;5;21;01mmodels\u001b[39;00m \u001b[38;5;28;01mimport\u001b[39;00m load_model\n\u001b[0;32m      4\u001b[0m \u001b[38;5;66;03m# Carregar o modelo salvo\u001b[39;00m\n\u001b[0;32m      5\u001b[0m \u001b[38;5;66;03m#best_model = load_model('best_model.h5')\u001b[39;00m\n\u001b[0;32m      6\u001b[0m \n\u001b[0;32m      7\u001b[0m \u001b[38;5;66;03m# Ver o resumo do modelo para garantir que foi carregado corretamente\u001b[39;00m\n\u001b[0;32m      8\u001b[0m \u001b[38;5;66;03m#best_model.summary()\u001b[39;00m\n",
      "\u001b[1;31mModuleNotFoundError\u001b[0m: No module named 'tensorflow.keras'"
     ]
    }
   ],
   "source": [
    "import tensorflow as tf\n",
    "from tensorflow.keras.models import load_model\n",
    "\n",
    "# Carregar o modelo salvo\n",
    "#best_model = load_model('best_model.h5')\n",
    "\n",
    "# Ver o resumo do modelo para garantir que foi carregado corretamente\n",
    "#best_model.summary()"
   ]
  },
  {
   "cell_type": "code",
   "execution_count": null,
   "metadata": {},
   "outputs": [],
   "source": [
    "# Avaliar o modelo no conjunto de teste\n",
    "test_loss, test_acc = best_model.evaluate(X_test_mlp, y_test, verbose=0)\n",
    "print(f\"Perda (Loss) no conjunto de teste: {test_loss:.4f}\")\n",
    "print(f\"Acurácia (Accuracy) no conjunto de teste: {test_acc * 100:.2f}%\")\n",
    "\n",
    "# Fazer previsões em novos dados\n",
    "predictions = best_model.predict(X_test_mlp)"
   ]
  },
  {
   "cell_type": "code",
   "execution_count": null,
   "metadata": {},
   "outputs": [],
   "source": []
  }
 ],
 "metadata": {
  "kernelspec": {
   "display_name": "py310",
   "language": "python",
   "name": "python3"
  },
  "language_info": {
   "codemirror_mode": {
    "name": "ipython",
    "version": 3
   },
   "file_extension": ".py",
   "mimetype": "text/x-python",
   "name": "python",
   "nbconvert_exporter": "python",
   "pygments_lexer": "ipython3",
   "version": "3.10.14"
  }
 },
 "nbformat": 4,
 "nbformat_minor": 2
}
