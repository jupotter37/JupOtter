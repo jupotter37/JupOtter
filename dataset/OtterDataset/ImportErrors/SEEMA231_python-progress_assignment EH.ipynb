{
 "cells": [
  {
   "cell_type": "code",
   "execution_count": 1,
   "id": "20f6c364-0582-4845-a907-3b42697793a7",
   "metadata": {},
   "outputs": [
    {
     "data": {
      "text/plain": [
       "'Q1. Explain why we have to use the Exception class while creating a Custom Exception.'"
      ]
     },
     "execution_count": 1,
     "metadata": {},
     "output_type": "execute_result"
    }
   ],
   "source": [
    "\"Q1. Explain why we have to use the Exception class while creating a Custom Exception.\""
   ]
  },
  {
   "cell_type": "code",
   "execution_count": 2,
   "id": "2f989a36-0d45-4acc-b940-3815cea43fae",
   "metadata": {},
   "outputs": [],
   "source": [
    "#The Exception class in Python serves as the base class for all exceptions. When creating a custom exception, it is recommended to inherit from the Exception class because it provides essential functionality and inherits from the built-in BaseException. This ensures that your custom exception behaves consistently with other built-in exceptions and can be caught and handled appropriately in Python programs."
   ]
  },
  {
   "cell_type": "code",
   "execution_count": 3,
   "id": "504ab63f-00e6-4042-b815-810403a1be15",
   "metadata": {},
   "outputs": [
    {
     "data": {
      "text/plain": [
       "'Q2. Write a python program to print Python Exception Hierarchy.'"
      ]
     },
     "execution_count": 3,
     "metadata": {},
     "output_type": "execute_result"
    }
   ],
   "source": [
    "\"Q2. Write a python program to print Python Exception Hierarchy.\""
   ]
  },
  {
   "cell_type": "code",
   "execution_count": 4,
   "id": "0490f7f5-cc6a-4be7-a6b0-86818f8aa537",
   "metadata": {},
   "outputs": [
    {
     "name": "stdout",
     "output_type": "stream",
     "text": [
      "Hierarchy for Built-in exceptions is : \n",
      " BaseException\n",
      "--- Exception\n",
      "------ TypeError\n",
      "--------- FloatOperation\n",
      "--------- MultipartConversionError\n",
      "------ StopAsyncIteration\n",
      "------ StopIteration\n",
      "------ ImportError\n",
      "--------- ModuleNotFoundError\n",
      "--------- ZipImportError\n",
      "------ OSError\n",
      "--------- ConnectionError\n",
      "------------ BrokenPipeError\n",
      "------------ ConnectionAbortedError\n",
      "------------ ConnectionRefusedError\n",
      "------------ ConnectionResetError\n",
      "--------------- RemoteDisconnected\n",
      "--------- BlockingIOError\n",
      "--------- ChildProcessError\n",
      "--------- FileExistsError\n",
      "--------- FileNotFoundError\n",
      "--------- IsADirectoryError\n",
      "--------- NotADirectoryError\n",
      "--------- InterruptedError\n",
      "------------ InterruptedSystemCall\n",
      "--------- PermissionError\n",
      "--------- ProcessLookupError\n",
      "--------- TimeoutError\n",
      "--------- UnsupportedOperation\n",
      "--------- itimer_error\n",
      "--------- herror\n",
      "--------- gaierror\n",
      "--------- SSLError\n",
      "------------ SSLCertVerificationError\n",
      "------------ SSLZeroReturnError\n",
      "------------ SSLWantWriteError\n",
      "------------ SSLWantReadError\n",
      "------------ SSLSyscallError\n",
      "------------ SSLEOFError\n",
      "--------- Error\n",
      "------------ SameFileError\n",
      "--------- SpecialFileError\n",
      "--------- ExecError\n",
      "--------- ReadError\n",
      "--------- URLError\n",
      "------------ HTTPError\n",
      "------------ ContentTooShortError\n",
      "--------- BadGzipFile\n",
      "------ EOFError\n",
      "--------- IncompleteReadError\n",
      "------ RuntimeError\n",
      "--------- RecursionError\n",
      "--------- NotImplementedError\n",
      "------------ ZMQVersionError\n",
      "------------ StdinNotImplementedError\n",
      "--------- _DeadlockError\n",
      "--------- BrokenBarrierError\n",
      "--------- BrokenExecutor\n",
      "------------ BrokenThreadPool\n",
      "--------- SendfileNotAvailableError\n",
      "--------- ExtractionError\n",
      "--------- VariableError\n",
      "------ NameError\n",
      "--------- UnboundLocalError\n",
      "------ AttributeError\n",
      "--------- FrozenInstanceError\n",
      "------ SyntaxError\n",
      "--------- IndentationError\n",
      "------------ TabError\n",
      "------ LookupError\n",
      "--------- IndexError\n",
      "--------- KeyError\n",
      "------------ NoSuchKernel\n",
      "------------ UnknownBackend\n",
      "--------- CodecRegistryError\n",
      "------ ValueError\n",
      "--------- UnicodeError\n",
      "------------ UnicodeEncodeError\n",
      "------------ UnicodeDecodeError\n",
      "------------ UnicodeTranslateError\n",
      "--------- UnsupportedOperation\n",
      "--------- JSONDecodeError\n",
      "--------- SSLCertVerificationError\n",
      "--------- Error\n",
      "--------- UnsupportedDigestmodError\n",
      "--------- IllegalMonthError\n",
      "--------- IllegalWeekdayError\n",
      "--------- ParserError\n",
      "--------- ClassNotFound\n",
      "--------- ClipboardEmpty\n",
      "--------- MessageDefect\n",
      "------------ NoBoundaryInMultipartDefect\n",
      "------------ StartBoundaryNotFoundDefect\n",
      "------------ CloseBoundaryNotFoundDefect\n",
      "------------ FirstHeaderLineIsContinuationDefect\n",
      "------------ MisplacedEnvelopeHeaderDefect\n",
      "------------ MissingHeaderBodySeparatorDefect\n",
      "------------ MultipartInvariantViolationDefect\n",
      "------------ InvalidMultipartContentTransferEncodingDefect\n",
      "------------ UndecodableBytesDefect\n",
      "------------ InvalidBase64PaddingDefect\n",
      "------------ InvalidBase64CharactersDefect\n",
      "------------ InvalidBase64LengthDefect\n",
      "------------ HeaderDefect\n",
      "--------------- InvalidHeaderDefect\n",
      "--------------- HeaderMissingRequiredValue\n",
      "--------------- NonPrintableDefect\n",
      "--------------- ObsoleteHeaderDefect\n",
      "--------------- NonASCIILocalPartDefect\n",
      "--------------- InvalidDateDefect\n",
      "--------- MacroToEdit\n",
      "--------- InvalidFileException\n",
      "--------- UnequalIterablesError\n",
      "--------- InvalidVersion\n",
      "--------- _InvalidELFFileHeader\n",
      "--------- InvalidWheelFilename\n",
      "--------- InvalidSdistFilename\n",
      "--------- InvalidSpecifier\n",
      "--------- InvalidMarker\n",
      "--------- UndefinedComparison\n",
      "--------- UndefinedEnvironmentName\n",
      "--------- InvalidRequirement\n",
      "------------ RequirementParseError\n",
      "--------- InvalidVersion\n",
      "------ AssertionError\n",
      "------ ArithmeticError\n",
      "--------- FloatingPointError\n",
      "--------- OverflowError\n",
      "--------- ZeroDivisionError\n",
      "------------ DivisionByZero\n",
      "------------ DivisionUndefined\n",
      "--------- DecimalException\n",
      "------------ Clamped\n",
      "------------ Rounded\n",
      "--------------- Underflow\n",
      "--------------- Overflow\n",
      "------------ Inexact\n",
      "--------------- Underflow\n",
      "--------------- Overflow\n",
      "------------ Subnormal\n",
      "--------------- Underflow\n",
      "------------ DivisionByZero\n",
      "------------ FloatOperation\n",
      "------------ InvalidOperation\n",
      "--------------- ConversionSyntax\n",
      "--------------- DivisionImpossible\n",
      "--------------- DivisionUndefined\n",
      "--------------- InvalidContext\n",
      "------ SystemError\n",
      "--------- CodecRegistryError\n",
      "------ ReferenceError\n",
      "------ MemoryError\n",
      "------ BufferError\n",
      "------ Warning\n",
      "--------- UserWarning\n",
      "------------ GetPassWarning\n",
      "------------ FormatterWarning\n",
      "--------- EncodingWarning\n",
      "--------- DeprecationWarning\n",
      "------------ ProvisionalWarning\n",
      "--------- PendingDeprecationWarning\n",
      "--------- SyntaxWarning\n",
      "--------- RuntimeWarning\n",
      "------------ ProactorSelectorThreadWarning\n",
      "------------ UnknownTimezoneWarning\n",
      "------------ PEP440Warning\n",
      "--------- FutureWarning\n",
      "------------ ProvisionalCompleterWarning\n",
      "--------- ImportWarning\n",
      "--------- UnicodeWarning\n",
      "--------- BytesWarning\n",
      "--------- ResourceWarning\n",
      "--------- DeprecatedTzFormatWarning\n",
      "--------- PkgResourcesDeprecationWarning\n",
      "------ _OptionError\n",
      "------ _Error\n",
      "------ error\n",
      "------ Verbose\n",
      "------ Error\n",
      "------ SubprocessError\n",
      "--------- CalledProcessError\n",
      "--------- TimeoutExpired\n",
      "------ TokenError\n",
      "------ StopTokenizing\n",
      "------ ClassFoundException\n",
      "------ EndOfBlock\n",
      "------ TraitError\n",
      "------ Error\n",
      "------ Error\n",
      "--------- CancelledError\n",
      "--------- TimeoutError\n",
      "--------- InvalidStateError\n",
      "------ _GiveupOnSendfile\n",
      "------ error\n",
      "------ Incomplete\n",
      "------ TimeoutError\n",
      "------ InvalidStateError\n",
      "------ LimitOverrunError\n",
      "------ QueueEmpty\n",
      "------ QueueFull\n",
      "------ Empty\n",
      "------ Full\n",
      "------ ArgumentError\n",
      "------ ZMQBaseError\n",
      "--------- ZMQError\n",
      "------------ ContextTerminated\n",
      "------------ Again\n",
      "------------ InterruptedSystemCall\n",
      "--------- ZMQBindError\n",
      "--------- NotDone\n",
      "------ PickleError\n",
      "--------- PicklingError\n",
      "--------- UnpicklingError\n",
      "------ _Stop\n",
      "------ ArgumentError\n",
      "------ ArgumentTypeError\n",
      "------ ConfigError\n",
      "--------- ConfigLoaderError\n",
      "------------ ArgumentError\n",
      "--------- ConfigFileNotFound\n",
      "------ ConfigurableError\n",
      "--------- MultipleInstanceError\n",
      "------ ApplicationError\n",
      "------ error\n",
      "------ TimeoutError\n",
      "------ error\n",
      "------ ReturnValueIgnoredError\n",
      "------ KeyReuseError\n",
      "------ UnknownKeyError\n",
      "------ LeakedCallbackError\n",
      "------ BadYieldError\n",
      "------ ReturnValueIgnoredError\n",
      "------ Return\n",
      "------ InvalidPortNumber\n",
      "------ error\n",
      "------ LZMAError\n",
      "------ RegistryError\n",
      "------ _GiveupOnFastCopy\n",
      "------ Error\n",
      "--------- NoSectionError\n",
      "--------- DuplicateSectionError\n",
      "--------- DuplicateOptionError\n",
      "--------- NoOptionError\n",
      "--------- InterpolationError\n",
      "------------ InterpolationMissingOptionError\n",
      "------------ InterpolationSyntaxError\n",
      "------------ InterpolationDepthError\n",
      "--------- ParsingError\n",
      "------------ MissingSectionHeaderError\n",
      "------ NoIPAddresses\n",
      "------ BadZipFile\n",
      "------ LargeZipFile\n",
      "------ BadEntryPoint\n",
      "------ NoSuchEntryPoint\n",
      "------ DuplicateKernelError\n",
      "------ ErrorDuringImport\n",
      "------ NotOneValueFound\n",
      "------ CannotEval\n",
      "------ OptionError\n",
      "------ BdbQuit\n",
      "------ Restart\n",
      "------ ExceptionPexpect\n",
      "--------- EOF\n",
      "--------- TIMEOUT\n",
      "------ PtyProcessError\n",
      "------ FindCmdError\n",
      "------ HomeDirError\n",
      "------ ProfileDirError\n",
      "------ IPythonCoreError\n",
      "--------- TryNext\n",
      "--------- UsageError\n",
      "--------- StdinNotImplementedError\n",
      "------ InputRejected\n",
      "------ GetoptError\n",
      "------ ErrorToken\n",
      "------ PrefilterError\n",
      "------ AliasError\n",
      "--------- InvalidAliasError\n",
      "------ Error\n",
      "--------- InterfaceError\n",
      "--------- DatabaseError\n",
      "------------ InternalError\n",
      "------------ OperationalError\n",
      "------------ ProgrammingError\n",
      "------------ IntegrityError\n",
      "------------ DataError\n",
      "------------ NotSupportedError\n",
      "------ Warning\n",
      "------ SpaceInInput\n",
      "------ DOMException\n",
      "--------- IndexSizeErr\n",
      "--------- DomstringSizeErr\n",
      "--------- HierarchyRequestErr\n",
      "--------- WrongDocumentErr\n",
      "--------- InvalidCharacterErr\n",
      "--------- NoDataAllowedErr\n",
      "--------- NoModificationAllowedErr\n",
      "--------- NotFoundErr\n",
      "--------- NotSupportedErr\n",
      "--------- InuseAttributeErr\n",
      "--------- InvalidStateErr\n",
      "--------- SyntaxErr\n",
      "--------- InvalidModificationErr\n",
      "--------- NamespaceErr\n",
      "--------- InvalidAccessErr\n",
      "--------- ValidationErr\n",
      "------ ValidationError\n",
      "------ EditReadOnlyBuffer\n",
      "------ _Retry\n",
      "------ InvalidLayoutError\n",
      "------ HeightIsUnknownError\n",
      "------ ParserSyntaxError\n",
      "------ InternalParseError\n",
      "------ _PositionUpdatingFinished\n",
      "------ SimpleGetItemNotFound\n",
      "------ UncaughtAttributeError\n",
      "------ HasNoContext\n",
      "------ ParamIssue\n",
      "------ _JediError\n",
      "--------- InternalError\n",
      "--------- WrongVersion\n",
      "--------- RefactoringError\n",
      "------ OnErrorLeaf\n",
      "------ InvalidPythonEnvironment\n",
      "------ MessageError\n",
      "--------- MessageParseError\n",
      "------------ HeaderParseError\n",
      "------------ BoundaryError\n",
      "--------- MultipartConversionError\n",
      "--------- CharsetError\n",
      "------ Error\n",
      "------ HTTPException\n",
      "--------- NotConnected\n",
      "--------- InvalidURL\n",
      "--------- UnknownProtocol\n",
      "--------- UnknownTransferEncoding\n",
      "--------- UnimplementedFileMode\n",
      "--------- IncompleteRead\n",
      "--------- ImproperConnectionState\n",
      "------------ CannotSendRequest\n",
      "------------ CannotSendHeader\n",
      "------------ ResponseNotReady\n",
      "--------- BadStatusLine\n",
      "------------ RemoteDisconnected\n",
      "--------- LineTooLong\n",
      "------ InteractivelyDefined\n",
      "------ KillEmbedded\n",
      "------ Error\n",
      "--------- NoSuchProcess\n",
      "------------ ZombieProcess\n",
      "--------- AccessDenied\n",
      "--------- TimeoutExpired\n",
      "------ _Ipv6UnsupportedError\n",
      "------ QueueEmpty\n",
      "------ QueueFull\n",
      "------ DebuggerInitializationError\n",
      "------ ExpatError\n",
      "------ Error\n",
      "--------- ProtocolError\n",
      "--------- ResponseError\n",
      "--------- Fault\n",
      "------ ParseBaseException\n",
      "--------- ParseException\n",
      "--------- ParseFatalException\n",
      "------------ ParseSyntaxException\n",
      "------ RecursiveGrammarException\n",
      "------ ResolutionError\n",
      "--------- VersionConflict\n",
      "------------ ContextualVersionConflict\n",
      "--------- DistributionNotFound\n",
      "--------- UnknownExtra\n",
      "------ _Error\n",
      "------ UnableToResolveVariableException\n",
      "------ InvalidTypeInArgsException\n",
      "--- GeneratorExit\n",
      "--- SystemExit\n",
      "--- KeyboardInterrupt\n",
      "--- CancelledError\n",
      "--- AbortThread\n"
     ]
    }
   ],
   "source": [
    "import inspect \n",
    "\n",
    "def treeClass(cls, ind = 0): \n",
    "\t\n",
    "\tprint ('-' * ind, cls.__name__) \n",
    "\t\n",
    "\tfor i in cls.__subclasses__(): \n",
    "\t\ttreeClass(i, ind + 3) \n",
    "\n",
    "print(\"Hierarchy for Built-in exceptions is : \") \n",
    "inspect.getclasstree(inspect.getmro(BaseException)) \n",
    "treeClass(BaseException) \n"
   ]
  },
  {
   "cell_type": "code",
   "execution_count": 5,
   "id": "2416b8e8-520f-4816-9958-5b83ae33d41d",
   "metadata": {},
   "outputs": [
    {
     "data": {
      "text/plain": [
       "'Q3. What errors are defined in the ArithmeticError class? Explain any two with an example.'"
      ]
     },
     "execution_count": 5,
     "metadata": {},
     "output_type": "execute_result"
    }
   ],
   "source": [
    "\"Q3. What errors are defined in the ArithmeticError class? Explain any two with an example.\""
   ]
  },
  {
   "cell_type": "code",
   "execution_count": 6,
   "id": "079c985e-8c14-4150-8c71-f82a2a2bf7b2",
   "metadata": {},
   "outputs": [
    {
     "name": "stdout",
     "output_type": "stream",
     "text": [
      "division by zero\n"
     ]
    }
   ],
   "source": [
    "#1 example\n",
    "try:\n",
    "    result=10/0\n",
    "except ZeroDivisionError as e:\n",
    "    print(e)"
   ]
  },
  {
   "cell_type": "code",
   "execution_count": 15,
   "id": "a6b89bdf-92af-4674-8544-92442704d0a2",
   "metadata": {},
   "outputs": [],
   "source": [
    "#2example\n",
    "try:\n",
    "    result=100**10000000\n",
    "except OverflowError as e:\n",
    "    print(e)"
   ]
  },
  {
   "cell_type": "code",
   "execution_count": 8,
   "id": "3ebd113a-468c-4b58-8103-cd1bd0a0305d",
   "metadata": {},
   "outputs": [
    {
     "data": {
      "text/plain": [
       "'Q4. Why LookupError class is used? Explain with an example KeyError and IndexError.'"
      ]
     },
     "execution_count": 8,
     "metadata": {},
     "output_type": "execute_result"
    }
   ],
   "source": [
    "\"Q4. Why LookupError class is used? Explain with an example KeyError and IndexError.\""
   ]
  },
  {
   "cell_type": "code",
   "execution_count": 45,
   "id": "e4e04873-72c2-48f5-8f02-14ae5cd2ea51",
   "metadata": {},
   "outputs": [],
   "source": [
    "dict_1={\"key1\":\"value\",\"key2\":\"value2\",\"key3\":\"value3\"}"
   ]
  },
  {
   "cell_type": "code",
   "execution_count": 52,
   "id": "cc93d288-a7c5-4992-bedb-ae2ac9fbb69c",
   "metadata": {},
   "outputs": [
    {
     "name": "stdout",
     "output_type": "stream",
     "text": [
      "'key5'\n"
     ]
    }
   ],
   "source": [
    "#keyerror\n",
    "try:\n",
    "    dict_1[\"key5\"]\n",
    "except KeyError as e:\n",
    "    print(e)"
   ]
  },
  {
   "cell_type": "code",
   "execution_count": 53,
   "id": "44b3cf82-3a8d-4db3-80ca-93c896414e64",
   "metadata": {},
   "outputs": [],
   "source": [
    "l=[4,54,8,5]"
   ]
  },
  {
   "cell_type": "code",
   "execution_count": 54,
   "id": "473ce4a3-7f40-4bd2-ab4e-cf2412a6caf8",
   "metadata": {},
   "outputs": [
    {
     "name": "stdout",
     "output_type": "stream",
     "text": [
      "list index out of range\n"
     ]
    }
   ],
   "source": [
    "#Indexerror\n",
    "try:\n",
    "    l[5]\n",
    "except IndexError as e:\n",
    "    print(e)"
   ]
  },
  {
   "cell_type": "code",
   "execution_count": 57,
   "id": "2412151a-63dd-42c1-98c3-8bb330ed2e16",
   "metadata": {},
   "outputs": [
    {
     "data": {
      "text/plain": [
       "'Q5. Explain ImportError. What is ModuleNotFoundError?'"
      ]
     },
     "execution_count": 57,
     "metadata": {},
     "output_type": "execute_result"
    }
   ],
   "source": [
    "\"Q5. Explain ImportError. What is ModuleNotFoundError?\""
   ]
  },
  {
   "cell_type": "code",
   "execution_count": 67,
   "id": "6f1c823d-88dd-47c5-9268-d7a28123067c",
   "metadata": {},
   "outputs": [
    {
     "name": "stdout",
     "output_type": "stream",
     "text": [
      "No module named 'wrong_system'\n"
     ]
    }
   ],
   "source": [
    "try:\n",
    "    import wrong_system\n",
    "except ImportError as e:\n",
    "    print(e)"
   ]
  },
  {
   "cell_type": "code",
   "execution_count": 69,
   "id": "31090273-e9cd-440d-842f-e7bb5ba60fc5",
   "metadata": {},
   "outputs": [
    {
     "data": {
      "text/plain": [
       "'Q6. List down some best practices for exception handling in python.'"
      ]
     },
     "execution_count": 69,
     "metadata": {},
     "output_type": "execute_result"
    }
   ],
   "source": [
    "\"Q6. List down some best practices for exception handling in python.\""
   ]
  },
  {
   "cell_type": "code",
   "execution_count": null,
   "id": "c26b39f3-4bf5-4179-bde2-7fadb6040bb0",
   "metadata": {},
   "outputs": [],
   "source": [
    "\"1\""
   ]
  }
 ],
 "metadata": {
  "kernelspec": {
   "display_name": "Python 3 (ipykernel)",
   "language": "python",
   "name": "python3"
  },
  "language_info": {
   "codemirror_mode": {
    "name": "ipython",
    "version": 3
   },
   "file_extension": ".py",
   "mimetype": "text/x-python",
   "name": "python",
   "nbconvert_exporter": "python",
   "pygments_lexer": "ipython3",
   "version": "3.10.8"
  }
 },
 "nbformat": 4,
 "nbformat_minor": 5
}
