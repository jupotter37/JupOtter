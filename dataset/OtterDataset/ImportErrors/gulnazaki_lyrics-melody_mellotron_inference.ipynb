{
  "nbformat": 4,
  "nbformat_minor": 0,
  "metadata": {
    "accelerator": "GPU",
    "colab": {
      "name": "mellotron_inference.ipynb",
      "provenance": [],
      "collapsed_sections": [
        "wZMpc6xoWltS",
        "8c7iJ0kuXULe"
      ]
    },
    "kernelspec": {
      "display_name": "Python 3",
      "name": "python3"
    }
  },
  "cells": [
    {
      "cell_type": "markdown",
      "metadata": {
        "id": "nDbV9HrMYvtz"
      },
      "source": [
        "# Inference Demo for Mellotron on Google COLAB\n",
        "basic colab modifications by [Hyungon Ryu](https://github.com/yhgon)  | NVAITC Sr. Data Scientist | Center Lead @ NVIDIA \n"
      ]
    },
    {
      "cell_type": "markdown",
      "metadata": {
        "id": "Rjlhd5F1cZB-"
      },
      "source": [
        "modification from original inference.ipynb\n",
        "\n",
        "This notebook requires a GPU runtime to run.\n",
        "Please select the menu option **\"Runtime\"** -> **\"Change runtime type\"**, select **\"Hardware Accelerator\"** -> **\"GPU\"** and click **\"SAVE\"**\n"
      ]
    },
    {
      "cell_type": "markdown",
      "metadata": {
        "id": "wZMpc6xoWltS"
      },
      "source": [
        "## Model Description\n",
        "\n",
        "Mellotron: a multispeaker voice synthesis model based on Tacotron 2 GST that can make a voice emote and sing without emotive or singing training data.\n",
        "\n",
        "By explicitly conditioning on rhythm and continuous pitch contours from an audio signal or music score, Mellotron is able to generate speech in a variety of styles ranging from read speech to expressive speech, from slow drawls to rap and from monotonous voice to singing voice.\n"
      ]
    },
    {
      "cell_type": "markdown",
      "metadata": {
        "id": "0L_K6eXBY3Um"
      },
      "source": [
        "## DevOps for Google Colab\n",
        "install required python modules and APEX"
      ]
    },
    {
      "cell_type": "code",
      "metadata": {
        "colab": {
          "base_uri": "https://localhost:8080/"
        },
        "id": "TbHliQpPVtyJ",
        "outputId": "a83021f5-0202-4360-ed79-2d30d2cd1593"
      },
      "source": [
        "%tensorflow_version 1.x \n",
        "!nvidia-smi"
      ],
      "execution_count": 1,
      "outputs": [
        {
          "output_type": "stream",
          "text": [
            "TensorFlow 1.x selected.\n",
            "Fri Feb 19 19:01:20 2021       \n",
            "+-----------------------------------------------------------------------------+\n",
            "| NVIDIA-SMI 460.39       Driver Version: 460.32.03    CUDA Version: 11.2     |\n",
            "|-------------------------------+----------------------+----------------------+\n",
            "| GPU  Name        Persistence-M| Bus-Id        Disp.A | Volatile Uncorr. ECC |\n",
            "| Fan  Temp  Perf  Pwr:Usage/Cap|         Memory-Usage | GPU-Util  Compute M. |\n",
            "|                               |                      |               MIG M. |\n",
            "|===============================+======================+======================|\n",
            "|   0  Tesla T4            Off  | 00000000:00:04.0 Off |                    0 |\n",
            "| N/A   61C    P8    12W /  70W |      0MiB / 15109MiB |      0%      Default |\n",
            "|                               |                      |                  N/A |\n",
            "+-------------------------------+----------------------+----------------------+\n",
            "                                                                               \n",
            "+-----------------------------------------------------------------------------+\n",
            "| Processes:                                                                  |\n",
            "|  GPU   GI   CI        PID   Type   Process name                  GPU Memory |\n",
            "|        ID   ID                                                   Usage      |\n",
            "|=============================================================================|\n",
            "|  No running processes found                                                 |\n",
            "+-----------------------------------------------------------------------------+\n"
          ],
          "name": "stdout"
        }
      ]
    },
    {
      "cell_type": "code",
      "metadata": {
        "cellView": "both",
        "colab": {
          "base_uri": "https://localhost:8080/"
        },
        "id": "3_uFcOSWY5Of",
        "outputId": "69cc21f4-b141-486c-b4ab-cab8ea8f0ddd"
      },
      "source": [
        "%%time\n",
        "%%bash\n",
        "pip install tensorflow==1.15 inflect==0.2.5 numba==0.48 librosa==0.6.0 scipy==1.3.1 Unidecode==1.0.22 pillow nltk==3.4.5 jamo==0.4.1  vamp"
      ],
      "execution_count": 2,
      "outputs": [
        {
          "output_type": "stream",
          "text": [
            "Collecting tensorflow==1.15\n",
            "  Downloading https://files.pythonhosted.org/packages/3f/98/5a99af92fb911d7a88a0005ad55005f35b4c1ba8d75fba02df726cd936e6/tensorflow-1.15.0-cp36-cp36m-manylinux2010_x86_64.whl (412.3MB)\n",
            "Collecting inflect==0.2.5\n",
            "  Downloading https://files.pythonhosted.org/packages/66/15/2d176749884cbeda0c92e0d09e1303ff53a973eb3c6bb2136803b9d962c9/inflect-0.2.5-py2.py3-none-any.whl (58kB)\n",
            "Collecting numba==0.48\n",
            "  Downloading https://files.pythonhosted.org/packages/23/7f/dbe85f5f419dca88509d829df90dfa5aefa39c39f6b7020dfc206a386279/numba-0.48.0-1-cp36-cp36m-manylinux2014_x86_64.whl (3.5MB)\n",
            "Collecting librosa==0.6.0\n",
            "  Downloading https://files.pythonhosted.org/packages/6b/f4/422bfbefd581f74354ef05176aa48558c548243c87e359d91512d4b65523/librosa-0.6.0.tar.gz (1.5MB)\n",
            "Collecting scipy==1.3.1\n",
            "  Downloading https://files.pythonhosted.org/packages/29/50/a552a5aff252ae915f522e44642bb49a7b7b31677f9580cfd11bcc869976/scipy-1.3.1-cp36-cp36m-manylinux1_x86_64.whl (25.2MB)\n",
            "Collecting Unidecode==1.0.22\n",
            "  Downloading https://files.pythonhosted.org/packages/59/ef/67085e30e8bbcdd76e2f0a4ad8151c13a2c5bce77c85f8cad6e1f16fb141/Unidecode-1.0.22-py2.py3-none-any.whl (235kB)\n",
            "Requirement already satisfied: pillow in /usr/local/lib/python3.6/dist-packages (7.0.0)\n",
            "Collecting nltk==3.4.5\n",
            "  Downloading https://files.pythonhosted.org/packages/f6/1d/d925cfb4f324ede997f6d47bea4d9babba51b49e87a767c170b77005889d/nltk-3.4.5.zip (1.5MB)\n",
            "Collecting jamo==0.4.1\n",
            "  Downloading https://files.pythonhosted.org/packages/ac/cc/49812faae67f9a24be6ddaf58a2cf7e8c3cbfcf5b762d9414f7103d2ea2c/jamo-0.4.1-py3-none-any.whl\n",
            "Collecting vamp\n",
            "  Downloading https://files.pythonhosted.org/packages/66/65/a54958777fa667ef881ceec18dd0b423b2ba2c77543060b21aff0e1dbcb6/vamp-1.1.0.tar.gz (107kB)\n",
            "Requirement already satisfied: protobuf>=3.6.1 in /usr/local/lib/python3.6/dist-packages (from tensorflow==1.15) (3.12.4)\n",
            "Requirement already satisfied: keras-preprocessing>=1.0.5 in /usr/local/lib/python3.6/dist-packages (from tensorflow==1.15) (1.1.2)\n",
            "Requirement already satisfied: numpy<2.0,>=1.16.0 in /usr/local/lib/python3.6/dist-packages (from tensorflow==1.15) (1.19.5)\n",
            "Collecting gast==0.2.2\n",
            "  Downloading https://files.pythonhosted.org/packages/4e/35/11749bf99b2d4e3cceb4d55ca22590b0d7c2c62b9de38ac4a4a7f4687421/gast-0.2.2.tar.gz\n",
            "Requirement already satisfied: wrapt>=1.11.1 in /usr/local/lib/python3.6/dist-packages (from tensorflow==1.15) (1.12.1)\n",
            "Requirement already satisfied: grpcio>=1.8.6 in /usr/local/lib/python3.6/dist-packages (from tensorflow==1.15) (1.32.0)\n",
            "Requirement already satisfied: tensorflow-estimator==1.15.1 in /tensorflow-1.15.2/python3.6 (from tensorflow==1.15) (1.15.1)\n",
            "Requirement already satisfied: six>=1.10.0 in /usr/local/lib/python3.6/dist-packages (from tensorflow==1.15) (1.15.0)\n",
            "Requirement already satisfied: astor>=0.6.0 in /usr/local/lib/python3.6/dist-packages (from tensorflow==1.15) (0.8.1)\n",
            "Requirement already satisfied: keras-applications>=1.0.8 in /tensorflow-1.15.2/python3.6 (from tensorflow==1.15) (1.0.8)\n",
            "Requirement already satisfied: tensorboard<1.16.0,>=1.15.0 in /tensorflow-1.15.2/python3.6 (from tensorflow==1.15) (1.15.0)\n",
            "Requirement already satisfied: termcolor>=1.1.0 in /usr/local/lib/python3.6/dist-packages (from tensorflow==1.15) (1.1.0)\n",
            "Requirement already satisfied: google-pasta>=0.1.6 in /usr/local/lib/python3.6/dist-packages (from tensorflow==1.15) (0.2.0)\n",
            "Requirement already satisfied: opt-einsum>=2.3.2 in /usr/local/lib/python3.6/dist-packages (from tensorflow==1.15) (3.3.0)\n",
            "Requirement already satisfied: wheel>=0.26 in /usr/local/lib/python3.6/dist-packages (from tensorflow==1.15) (0.36.2)\n",
            "Requirement already satisfied: absl-py>=0.7.0 in /usr/local/lib/python3.6/dist-packages (from tensorflow==1.15) (0.10.0)\n",
            "Collecting llvmlite<0.32.0,>=0.31.0dev0\n",
            "  Downloading https://files.pythonhosted.org/packages/ad/bb/60d4033d56c9da36490af19caa6c794b72b8aef6f792fdfa8cb95d11e419/llvmlite-0.31.0-cp36-cp36m-manylinux1_x86_64.whl (20.2MB)\n",
            "Requirement already satisfied: setuptools in /usr/local/lib/python3.6/dist-packages (from numba==0.48) (53.0.0)\n",
            "Requirement already satisfied: audioread>=2.0.0 in /usr/local/lib/python3.6/dist-packages (from librosa==0.6.0) (2.1.9)\n",
            "Requirement already satisfied: scikit-learn!=0.19.0,>=0.14.0 in /usr/local/lib/python3.6/dist-packages (from librosa==0.6.0) (0.22.2.post1)\n",
            "Requirement already satisfied: joblib>=0.7.0 in /usr/local/lib/python3.6/dist-packages (from librosa==0.6.0) (1.0.0)\n",
            "Requirement already satisfied: decorator>=3.0.0 in /usr/local/lib/python3.6/dist-packages (from librosa==0.6.0) (4.4.2)\n",
            "Requirement already satisfied: resampy>=0.2.0 in /usr/local/lib/python3.6/dist-packages (from librosa==0.6.0) (0.2.2)\n",
            "Requirement already satisfied: h5py in /usr/local/lib/python3.6/dist-packages (from keras-applications>=1.0.8->tensorflow==1.15) (2.10.0)\n",
            "Requirement already satisfied: werkzeug>=0.11.15 in /usr/local/lib/python3.6/dist-packages (from tensorboard<1.16.0,>=1.15.0->tensorflow==1.15) (1.0.1)\n",
            "Requirement already satisfied: markdown>=2.6.8 in /usr/local/lib/python3.6/dist-packages (from tensorboard<1.16.0,>=1.15.0->tensorflow==1.15) (3.3.3)\n",
            "Requirement already satisfied: importlib-metadata; python_version < \"3.8\" in /usr/local/lib/python3.6/dist-packages (from markdown>=2.6.8->tensorboard<1.16.0,>=1.15.0->tensorflow==1.15) (3.4.0)\n",
            "Requirement already satisfied: zipp>=0.5 in /usr/local/lib/python3.6/dist-packages (from importlib-metadata; python_version < \"3.8\"->markdown>=2.6.8->tensorboard<1.16.0,>=1.15.0->tensorflow==1.15) (3.4.0)\n",
            "Requirement already satisfied: typing-extensions>=3.6.4; python_version < \"3.8\" in /usr/local/lib/python3.6/dist-packages (from importlib-metadata; python_version < \"3.8\"->markdown>=2.6.8->tensorboard<1.16.0,>=1.15.0->tensorflow==1.15) (3.7.4.3)\n",
            "Building wheels for collected packages: librosa, nltk, vamp, gast\n",
            "  Building wheel for librosa (setup.py): started\n",
            "  Building wheel for librosa (setup.py): finished with status 'done'\n",
            "  Created wheel for librosa: filename=librosa-0.6.0-cp36-none-any.whl size=1553495 sha256=01ae1922afb6ae2a4cdc75352a84636ba3b70482842ec61966598d47666f9dff\n",
            "  Stored in directory: /root/.cache/pip/wheels/0d/19/fa/71097e2207df1cc613749f15b2f0b1972c167b36d6afc09d15\n",
            "  Building wheel for nltk (setup.py): started\n",
            "  Building wheel for nltk (setup.py): finished with status 'done'\n",
            "  Created wheel for nltk: filename=nltk-3.4.5-cp36-none-any.whl size=1449907 sha256=7cd7caec99ffb7572c3429f6b17226ee792acf3c727fc0cc881c5ef16a6d3698\n",
            "  Stored in directory: /root/.cache/pip/wheels/96/86/f6/68ab24c23f207c0077381a5e3904b2815136b879538a24b483\n",
            "  Building wheel for vamp (setup.py): started\n",
            "  Building wheel for vamp (setup.py): finished with status 'done'\n",
            "  Created wheel for vamp: filename=vamp-1.1.0-cp36-cp36m-linux_x86_64.whl size=1191559 sha256=d97a47195cdf247e007cf12280471d79745660c91d001fd03d7686e369461c2a\n",
            "  Stored in directory: /root/.cache/pip/wheels/b5/cc/b8/374e575c2ca0ec9f265cf1d7b4855ee8622800ea3fe25ea4a1\n",
            "  Building wheel for gast (setup.py): started\n",
            "  Building wheel for gast (setup.py): finished with status 'done'\n",
            "  Created wheel for gast: filename=gast-0.2.2-cp36-none-any.whl size=7540 sha256=99dc9f67cb8356d34e59d6cf09e3b9e5e4e65fc14bc3c479575d57078cc0026f\n",
            "  Stored in directory: /root/.cache/pip/wheels/5c/2e/7e/a1d4d4fcebe6c381f378ce7743a3ced3699feb89bcfbdadadd\n",
            "Successfully built librosa nltk vamp gast\n",
            "Installing collected packages: gast, tensorflow, inflect, llvmlite, numba, scipy, librosa, Unidecode, nltk, jamo, vamp\n",
            "  Found existing installation: gast 0.3.3\n",
            "    Uninstalling gast-0.3.3:\n",
            "      Successfully uninstalled gast-0.3.3\n",
            "  Found existing installation: tensorflow 1.15.2\n",
            "    Uninstalling tensorflow-1.15.2:\n",
            "      Successfully uninstalled tensorflow-1.15.2\n",
            "  Found existing installation: inflect 2.1.0\n",
            "    Uninstalling inflect-2.1.0:\n",
            "      Successfully uninstalled inflect-2.1.0\n",
            "  Found existing installation: llvmlite 0.34.0\n",
            "    Uninstalling llvmlite-0.34.0:\n",
            "      Successfully uninstalled llvmlite-0.34.0\n",
            "  Found existing installation: numba 0.51.2\n",
            "    Uninstalling numba-0.51.2:\n",
            "      Successfully uninstalled numba-0.51.2\n",
            "  Found existing installation: scipy 1.4.1\n",
            "    Uninstalling scipy-1.4.1:\n",
            "      Successfully uninstalled scipy-1.4.1\n",
            "  Found existing installation: librosa 0.8.0\n",
            "    Uninstalling librosa-0.8.0:\n",
            "      Successfully uninstalled librosa-0.8.0\n",
            "  Found existing installation: nltk 3.2.5\n",
            "    Uninstalling nltk-3.2.5:\n",
            "      Successfully uninstalled nltk-3.2.5\n",
            "Successfully installed Unidecode-1.0.22 gast-0.2.2 inflect-0.2.5 jamo-0.4.1 librosa-0.6.0 llvmlite-0.31.0 nltk-3.4.5 numba-0.48.0 scipy-1.3.1 tensorflow-2.4.1 vamp-1.1.0\n"
          ],
          "name": "stdout"
        },
        {
          "output_type": "stream",
          "text": [
            "ERROR: magenta 0.3.19 has requirement librosa>=0.6.2, but you'll have librosa 0.6.0 which is incompatible.\n",
            "ERROR: umap-learn 0.5.0 has requirement numba>=0.49, but you'll have numba 0.48.0 which is incompatible.\n",
            "ERROR: pynndescent 0.5.1 has requirement numba>=0.51.2, but you'll have numba 0.48.0 which is incompatible.\n",
            "ERROR: albumentations 0.1.12 has requirement imgaug<0.2.7,>=0.2.5, but you'll have imgaug 0.2.9 which is incompatible.\n"
          ],
          "name": "stderr"
        },
        {
          "output_type": "stream",
          "text": [
            "CPU times: user 13.5 ms, sys: 4.59 ms, total: 18.1 ms\n",
            "Wall time: 2min 4s\n"
          ],
          "name": "stdout"
        }
      ]
    },
    {
      "cell_type": "code",
      "metadata": {
        "colab": {
          "base_uri": "https://localhost:8080/"
        },
        "id": "rxlBO28jbnXu",
        "outputId": "3a7e8384-eef0-4e62-8faf-93f3070cfc61"
      },
      "source": [
        "%%time\n",
        "%%bash\n",
        "git clone https://github.com/NVIDIA/apex\n",
        "pip install  --no-cache-dir ./apex # only python  "
      ],
      "execution_count": 3,
      "outputs": [
        {
          "output_type": "stream",
          "text": [
            "Processing ./apex\n",
            "Building wheels for collected packages: apex\n",
            "  Building wheel for apex (setup.py): started\n",
            "  Building wheel for apex (setup.py): finished with status 'done'\n",
            "  Created wheel for apex: filename=apex-0.1-cp36-none-any.whl size=194551 sha256=c1f9f710ecdb4be3ec7a58c3ca8c199c0528678a3c903b172250242f909d19a2\n",
            "  Stored in directory: /tmp/pip-ephem-wheel-cache-pzt3au0z/wheels/b1/3a/aa/d84906eaab780ae580c7a5686a33bf2820d8590ac3b60d5967\n",
            "Successfully built apex\n",
            "Installing collected packages: apex\n",
            "Successfully installed apex-0.1\n"
          ],
          "name": "stdout"
        },
        {
          "output_type": "stream",
          "text": [
            "Cloning into 'apex'...\n"
          ],
          "name": "stderr"
        },
        {
          "output_type": "stream",
          "text": [
            "CPU times: user 1.53 ms, sys: 7.08 ms, total: 8.61 ms\n",
            "Wall time: 11 s\n"
          ],
          "name": "stdout"
        }
      ]
    },
    {
      "cell_type": "code",
      "metadata": {
        "colab": {
          "base_uri": "https://localhost:8080/"
        },
        "id": "9KOxl0sAYoft",
        "outputId": "32a5f48c-742b-4db2-8a94-c7707f6ee3d7"
      },
      "source": [
        "%%bash\n",
        "git clone https://github.com/NVIDIA/mellotron.git\n",
        "cd mellotron\n",
        "git submodule init\n",
        "git submodule update"
      ],
      "execution_count": 4,
      "outputs": [
        {
          "output_type": "stream",
          "text": [
            "Submodule path 'waveglow': checked out '2fd4e63e2918012f55eac2c8a8e75622a39741be'\n"
          ],
          "name": "stdout"
        },
        {
          "output_type": "stream",
          "text": [
            "Cloning into 'mellotron'...\n",
            "Submodule 'waveglow' (https://github.com/NVIDIA/waveglow.git) registered for path 'waveglow'\n",
            "Cloning into '/content/mellotron/waveglow'...\n"
          ],
          "name": "stderr"
        }
      ]
    },
    {
      "cell_type": "markdown",
      "metadata": {
        "id": "PXVKnX_FbyGx"
      },
      "source": [
        "## download official checkpoint\n",
        "use google drive utilities"
      ]
    },
    {
      "cell_type": "code",
      "metadata": {
        "colab": {
          "base_uri": "https://localhost:8080/"
        },
        "id": "gD-5pMZCbyQB",
        "outputId": "d54abb1b-87aa-49be-edca-9b354719bd26"
      },
      "source": [
        "%%bash\n",
        "wget -N  -q https://raw.githubusercontent.com/yhgon/colab_utils/master/gfile.py\n",
        "python gfile.py -u 'https://drive.google.com/open?id=1ZesPPyRRKloltRIuRnGZ2LIUEuMSVjkI' -f 'mellotron_libritts.pt'\n",
        "python gfile.py -u 'https://drive.google.com/open?id=1Rm5rV5XaWWiUbIpg5385l5sh68z2bVOE' -f 'waveglow_256channels_v4.pt'"
      ],
      "execution_count": 5,
      "outputs": [
        {
          "output_type": "stream",
          "text": [
            "It took  2.85sec to download 121.9 MB mellotron_libritts.pt \n",
            "It took  16.57sec to download 1.3 GB waveglow_256channels_v4.pt \n"
          ],
          "name": "stdout"
        }
      ]
    },
    {
      "cell_type": "markdown",
      "metadata": {
        "id": "rcAhlbiejC-4"
      },
      "source": [
        "## Patchs\n",
        "It's temporal solution for inference on COLAB, (TODO code clean )\n",
        "- modify CMUDict directories in `hparams.py` with `cmudict_path=\"/content/mellotron/data/cmu_dictionary\"`\n",
        "- ignore distributed module using `train_utils.py` instead of `train.py`\n",
        "- modify CMUDict directories for `CMUDICT_PATH`  `/content/mellotron/data/cmu_dictionary`  "
      ]
    },
    {
      "cell_type": "code",
      "metadata": {
        "colab": {
          "base_uri": "https://localhost:8080/"
        },
        "id": "PkOC4HTMiJKS",
        "outputId": "05007c99-8c9c-478c-ae25-16f92159c086"
      },
      "source": [
        "#@title\n",
        "%%file hparams.py\n",
        "import tensorflow as tf\n",
        "from text.symbols import symbols\n",
        "\n",
        "\n",
        "def create_hparams(hparams_string=None, verbose=False):\n",
        "    \"\"\"Create model hyperparameters. Parse nondefault from given string.\"\"\"\n",
        "\n",
        "    hparams = tf.contrib.training.HParams(\n",
        "        ################################\n",
        "        # Experiment Parameters        #\n",
        "        ################################\n",
        "        epochs=50000,\n",
        "        iters_per_checkpoint=500,\n",
        "        seed=1234,\n",
        "        dynamic_loss_scaling=True,\n",
        "        fp16_run=False,\n",
        "        distributed_run=False,\n",
        "        dist_backend=\"nccl\",\n",
        "        dist_url=\"tcp://localhost:54321\",\n",
        "        cudnn_enabled=True,\n",
        "        cudnn_benchmark=False,\n",
        "        ignore_layers=['speaker_embedding.weight'],\n",
        "\n",
        "        ################################\n",
        "        # Data Parameters             #\n",
        "        ################################\n",
        "        training_files='filelists/ljs_audiopaths_text_sid_train_filelist.txt',\n",
        "        validation_files='filelists/ljs_audiopaths_text_sid_val_filelist.txt',\n",
        "        text_cleaners=['english_cleaners'],\n",
        "        p_arpabet=1.0,\n",
        "        cmudict_path=\"/content/mellotron/data/cmu_dictionary\",\n",
        "\n",
        "        ################################\n",
        "        # Audio Parameters             #\n",
        "        ################################\n",
        "        max_wav_value=32768.0,\n",
        "        sampling_rate=22050,\n",
        "        filter_length=1024,\n",
        "        hop_length=256,\n",
        "        win_length=1024,\n",
        "        n_mel_channels=80,\n",
        "        mel_fmin=0.0,\n",
        "        mel_fmax=8000.0,\n",
        "        f0_min=80,\n",
        "        f0_max=880,\n",
        "        harm_thresh=0.25,\n",
        "\n",
        "        ################################\n",
        "        # Model Parameters             #\n",
        "        ################################\n",
        "        n_symbols=len(symbols),\n",
        "        symbols_embedding_dim=512,\n",
        "\n",
        "        # Encoder parameters\n",
        "        encoder_kernel_size=5,\n",
        "        encoder_n_convolutions=3,\n",
        "        encoder_embedding_dim=512,\n",
        "\n",
        "        # Decoder parameters\n",
        "        n_frames_per_step=1,  # currently only 1 is supported\n",
        "        decoder_rnn_dim=1024,\n",
        "        prenet_dim=256,\n",
        "        prenet_f0_n_layers=1,\n",
        "        prenet_f0_dim=1,\n",
        "        prenet_f0_kernel_size=1,\n",
        "        prenet_rms_dim=0,\n",
        "        prenet_rms_kernel_size=1,\n",
        "        max_decoder_steps=1000,\n",
        "        gate_threshold=0.5,\n",
        "        p_attention_dropout=0.1,\n",
        "        p_decoder_dropout=0.1,\n",
        "        p_teacher_forcing=1.0,\n",
        "\n",
        "        # Attention parameters\n",
        "        attention_rnn_dim=1024,\n",
        "        attention_dim=128,\n",
        "\n",
        "        # Location Layer parameters\n",
        "        attention_location_n_filters=32,\n",
        "        attention_location_kernel_size=31,\n",
        "\n",
        "        # Mel-post processing network parameters\n",
        "        postnet_embedding_dim=512,\n",
        "        postnet_kernel_size=5,\n",
        "        postnet_n_convolutions=5,\n",
        "\n",
        "        # Speaker embedding\n",
        "        n_speakers=123,\n",
        "        speaker_embedding_dim=128,\n",
        "\n",
        "        # Reference encoder\n",
        "        with_gst=True,\n",
        "        ref_enc_filters=[32, 32, 64, 64, 128, 128],\n",
        "        ref_enc_size=[3, 3],\n",
        "        ref_enc_strides=[2, 2],\n",
        "        ref_enc_pad=[1, 1],\n",
        "        ref_enc_gru_size=128,\n",
        "\n",
        "        # Style Token Layer\n",
        "        token_embedding_size=256,\n",
        "        token_num=10,\n",
        "        num_heads=8,\n",
        "\n",
        "        ################################\n",
        "        # Optimization Hyperparameters #\n",
        "        ################################\n",
        "        use_saved_learning_rate=False,\n",
        "        learning_rate=1e-3,\n",
        "        learning_rate_min=1e-5,\n",
        "        learning_rate_anneal=50000,\n",
        "        weight_decay=1e-6,\n",
        "        grad_clip_thresh=1.0,\n",
        "        batch_size=32,\n",
        "        mask_padding=True,  # set model's padded outputs to padded values\n",
        "\n",
        "    )\n",
        "\n",
        "    if hparams_string:\n",
        "        tf.compat.v1.logging.info('Parsing command line hparams: %s', hparams_string)\n",
        "        hparams.parse(hparams_string)\n",
        "\n",
        "    if verbose:\n",
        "        tf.compat.v1.logging.info('Final parsed hparams: %s', hparams.values())\n",
        "\n",
        "    return hparams\n"
      ],
      "execution_count": 6,
      "outputs": [
        {
          "output_type": "stream",
          "text": [
            "Writing hparams.py\n"
          ],
          "name": "stdout"
        }
      ]
    },
    {
      "cell_type": "code",
      "metadata": {
        "colab": {
          "base_uri": "https://localhost:8080/"
        },
        "id": "p9EMpbQ9eBWk",
        "outputId": "3e8cf574-8b40-4f82-899e-328390134574"
      },
      "source": [
        "#@title\n",
        "%%file train_utils.py\n",
        "import os\n",
        "import time\n",
        "import argparse\n",
        "import math\n",
        "from numpy import finfo\n",
        "\n",
        "import torch\n",
        "#from distributed import apply_gradient_allreduce\n",
        "import torch.distributed as dist\n",
        "from torch.utils.data.distributed import DistributedSampler\n",
        "from torch.utils.data import DataLoader\n",
        "\n",
        "from model import Tacotron2\n",
        "from data_utils import TextMelLoader, TextMelCollate\n",
        "from loss_function import Tacotron2Loss\n",
        "#from logger import Tacotron2Logger\n",
        "from hparams import create_hparams\n",
        "\n",
        "\n",
        "def reduce_tensor(tensor, n_gpus):\n",
        "    rt = tensor.clone()\n",
        "    dist.all_reduce(rt, op=dist.ReduceOp.SUM)\n",
        "    rt /= n_gpus\n",
        "    return rt\n",
        "\n",
        "\n",
        "def init_distributed(hparams, n_gpus, rank, group_name):\n",
        "    assert torch.cuda.is_available(), \"Distributed mode requires CUDA.\"\n",
        "    print(\"Initializing Distributed\")\n",
        "\n",
        "    # Set cuda device so everything is done on the right GPU.\n",
        "    torch.cuda.set_device(rank % torch.cuda.device_count())\n",
        "\n",
        "    # Initialize distributed communication\n",
        "    dist.init_process_group(\n",
        "        backend=hparams.dist_backend, init_method=hparams.dist_url,\n",
        "        world_size=n_gpus, rank=rank, group_name=group_name)\n",
        "\n",
        "    print(\"Done initializing distributed\")\n",
        "\n",
        "\n",
        "def prepare_dataloaders(hparams):\n",
        "    # Get data, data loaders and collate function ready\n",
        "    trainset = TextMelLoader(hparams.training_files, hparams)\n",
        "    valset = TextMelLoader(hparams.validation_files, hparams,\n",
        "                           speaker_ids=trainset.speaker_ids)\n",
        "    collate_fn = TextMelCollate(hparams.n_frames_per_step)\n",
        "\n",
        "    if hparams.distributed_run:\n",
        "        train_sampler = DistributedSampler(trainset)\n",
        "        shuffle = False\n",
        "    else:\n",
        "        train_sampler = None\n",
        "        shuffle = True\n",
        "\n",
        "    train_loader = DataLoader(trainset, num_workers=1, shuffle=shuffle,\n",
        "                              sampler=train_sampler,\n",
        "                              batch_size=hparams.batch_size, pin_memory=False,\n",
        "                              drop_last=True, collate_fn=collate_fn)\n",
        "    return train_loader, valset, collate_fn, train_sampler\n",
        "\n",
        "\n",
        "def prepare_directories_and_logger(output_directory, log_directory, rank):\n",
        "    if rank == 0:\n",
        "        if not os.path.isdir(output_directory):\n",
        "            os.makedirs(output_directory)\n",
        "            os.chmod(output_directory, 0o775)\n",
        "        logger = None    \n",
        "        #logger = Tacotron2Logger(os.path.join(output_directory, log_directory))\n",
        "    else:\n",
        "        logger = None\n",
        "    return logger\n",
        "\n",
        "\n",
        "def load_model(hparams):\n",
        "    model = Tacotron2(hparams).cuda()\n",
        "    if hparams.fp16_run:\n",
        "        model.decoder.attention_layer.score_mask_value = finfo('float16').min\n",
        "\n",
        "    if hparams.distributed_run:\n",
        "        model = apply_gradient_allreduce(model)\n",
        "\n",
        "    return model\n",
        "\n",
        "\n",
        "def warm_start_model(checkpoint_path, model, ignore_layers):\n",
        "    assert os.path.isfile(checkpoint_path)\n",
        "    print(\"Warm starting model from checkpoint '{}'\".format(checkpoint_path))\n",
        "    checkpoint_dict = torch.load(checkpoint_path, map_location='cpu')\n",
        "    model_dict = checkpoint_dict['state_dict']\n",
        "    if len(ignore_layers) > 0:\n",
        "        model_dict = {k: v for k, v in model_dict.items()\n",
        "                      if k not in ignore_layers}\n",
        "        dummy_dict = model.state_dict()\n",
        "        dummy_dict.update(model_dict)\n",
        "        model_dict = dummy_dict\n",
        "    model.load_state_dict(model_dict)\n",
        "    return model\n",
        "\n",
        "\n",
        "def load_checkpoint(checkpoint_path, model, optimizer):\n",
        "    assert os.path.isfile(checkpoint_path)\n",
        "    print(\"Loading checkpoint '{}'\".format(checkpoint_path))\n",
        "    checkpoint_dict = torch.load(checkpoint_path, map_location='cpu')\n",
        "    model.load_state_dict(checkpoint_dict['state_dict'])\n",
        "    optimizer.load_state_dict(checkpoint_dict['optimizer'])\n",
        "    learning_rate = checkpoint_dict['learning_rate']\n",
        "    iteration = checkpoint_dict['iteration']\n",
        "    print(\"Loaded checkpoint '{}' from iteration {}\" .format(\n",
        "        checkpoint_path, iteration))\n",
        "    return model, optimizer, learning_rate, iteration\n",
        "\n",
        "\n",
        "def save_checkpoint(model, optimizer, learning_rate, iteration, filepath):\n",
        "    print(\"Saving model and optimizer state at iteration {} to {}\".format(\n",
        "        iteration, filepath))\n",
        "    torch.save({'iteration': iteration,\n",
        "                'state_dict': model.state_dict(),\n",
        "                'optimizer': optimizer.state_dict(),\n",
        "                'learning_rate': learning_rate}, filepath)\n",
        "\n",
        "\n",
        "def validate(model, criterion, valset, iteration, batch_size, n_gpus,\n",
        "             collate_fn, logger, distributed_run, rank):\n",
        "    \"\"\"Handles all the validation scoring and printing\"\"\"\n",
        "    model.eval()\n",
        "    with torch.no_grad():\n",
        "        val_sampler = DistributedSampler(valset) if distributed_run else None\n",
        "        val_loader = DataLoader(valset, sampler=val_sampler, num_workers=1,\n",
        "                                shuffle=False, batch_size=batch_size,\n",
        "                                pin_memory=False, collate_fn=collate_fn)\n",
        "\n",
        "        val_loss = 0.0\n",
        "        for i, batch in enumerate(val_loader):\n",
        "            x, y = model.parse_batch(batch)\n",
        "            y_pred = model(x)\n",
        "            loss = criterion(y_pred, y)\n",
        "            if distributed_run:\n",
        "                reduced_val_loss = reduce_tensor(loss.data, n_gpus).item()\n",
        "            else:\n",
        "                reduced_val_loss = loss.item()\n",
        "            val_loss += reduced_val_loss\n",
        "        val_loss = val_loss / (i + 1)\n",
        "\n",
        "    model.train()\n",
        "    if rank == 0:\n",
        "        print(\"Validation loss {}: {:9f}  \".format(iteration, reduced_val_loss))\n",
        "        logger.log_validation(val_loss, model, y, y_pred, iteration)\n",
        "\n"
      ],
      "execution_count": 7,
      "outputs": [
        {
          "output_type": "stream",
          "text": [
            "Writing train_utils.py\n"
          ],
          "name": "stdout"
        }
      ]
    },
    {
      "cell_type": "code",
      "metadata": {
        "colab": {
          "base_uri": "https://localhost:8080/"
        },
        "id": "GxXKcW7wYZIL",
        "outputId": "652a2d2f-a2a8-4a07-bc5a-83889fb7784a"
      },
      "source": [
        "#@title\n",
        "%%file /content/mellotron/mellotron_utils.py\n",
        "# code heavily inspired from NVIDIA/mellotron/mellotron_utils.py\n",
        "import numpy as np\n",
        "import re\n",
        "import torch\n",
        "\n",
        "_curly_re = re.compile(r'(.*?)\\{(.+?)\\}(.*)')\n",
        "\n",
        "########################\n",
        "#  CONSONANT DURATION  #\n",
        "########################\n",
        "PHONEMEDURATION = {\n",
        "    'B': 0.05,\n",
        "    'CH': 0.1,\n",
        "    'D': 0.075,\n",
        "    'DH': 0.05,\n",
        "    'DX': 0.05,\n",
        "    'EL': 0.05,\n",
        "    'EM': 0.05,\n",
        "    'EN': 0.05,\n",
        "    'F': 0.1,\n",
        "    'G': 0.05,\n",
        "    'HH': 0.05,\n",
        "    'JH': 0.05,\n",
        "    'K': 0.05,\n",
        "    'L': 0.05,\n",
        "    'M': 0.15,\n",
        "    'N': 0.15,\n",
        "    'NG': 0.15,\n",
        "    'NX': 0.05,\n",
        "    'P': 0.05,\n",
        "    'Q': 0.075,\n",
        "    'R': 0.05,\n",
        "    'S': 0.1,\n",
        "    'SH': 0.05,\n",
        "    'T': 0.075,\n",
        "    'TH': 0.1,\n",
        "    'V': 0.05,\n",
        "    'Y': 0.05,\n",
        "    'W': 0.05,\n",
        "    'WH': 0.05,\n",
        "    'Z': 0.05,\n",
        "    'ZH': 0.05\n",
        "}\n",
        "\n",
        "valid_symbols = [\n",
        "  'AA', 'AA0', 'AA1', 'AA2', 'AE', 'AE0', 'AE1', 'AE2', 'AH', 'AH0', 'AH1', 'AH2',\n",
        "  'AO', 'AO0', 'AO1', 'AO2', 'AW', 'AW0', 'AW1', 'AW2', 'AY', 'AY0', 'AY1', 'AY2',\n",
        "  'B', 'CH', 'D', 'DH', 'EH', 'EH0', 'EH1', 'EH2', 'ER', 'ER0', 'ER1', 'ER2', 'EY',\n",
        "  'EY0', 'EY1', 'EY2', 'F', 'G', 'HH', 'IH', 'IH0', 'IH1', 'IH2', 'IY', 'IY0', 'IY1',\n",
        "  'IY2', 'JH', 'K', 'L', 'M', 'N', 'NG', 'OW', 'OW0', 'OW1', 'OW2', 'OY', 'OY0',\n",
        "  'OY1', 'OY2', 'P', 'R', 'S', 'SH', 'T', 'TH', 'UH', 'UH0', 'UH1', 'UH2', 'UW',\n",
        "  'UW0', 'UW1', 'UW2', 'V', 'W', 'Y', 'Z', 'ZH'\n",
        "]\n",
        "\n",
        "_arpabet = ['@' + s for s in valid_symbols]\n",
        "\n",
        "_punctuation = '!\\'\",.:;? '\n",
        "_math = '#%&*+-/[]()'\n",
        "_special = '_@©°½—₩€$'\n",
        "_accented = 'áçéêëñöøćž'\n",
        "_numbers = '0123456789'\n",
        "_letters = 'ABCDEFGHIJKLMNOPQRSTUVWXYZabcdefghijklmnopqrstuvwxyz'\n",
        "\n",
        "symbols = list(_punctuation + _math + _special + _accented + _numbers + _letters) + _arpabet\n",
        "\n",
        "_symbol_to_id = {s: i for i, s in enumerate(symbols)}\n",
        "\n",
        "def text_to_sequence(text):\n",
        "    sequence = []\n",
        "\n",
        "    while len(text):\n",
        "        m = _curly_re.match(text)\n",
        "        if not m:\n",
        "            sequence += _symbols_to_sequence(text)\n",
        "            break\n",
        "\n",
        "        sequence += text_to_sequence(m.group(1))\n",
        "        sequence += _arpabet_to_sequence(m.group(2))\n",
        "        text = m.group(3)\n",
        "\n",
        "    return sequence\n",
        "\n",
        "def _symbols_to_sequence(symbols):\n",
        "    return [_symbol_to_id[s] for s in symbols if _should_keep_symbol(s)]\n",
        "\n",
        "\n",
        "def _arpabet_to_sequence(text):\n",
        "    return _symbols_to_sequence(['@' + s for s in text.split()])\n",
        "\n",
        "\n",
        "def _should_keep_symbol(s):\n",
        "    return s in _symbol_to_id and s != '_' and s != '~'\n",
        "\n",
        "\n",
        "def add_space_between_events(events, connect=False):\n",
        "    new_events = []\n",
        "    for i in range(1, len(events)):\n",
        "        token_a, freq_a, start_time_a, end_time_a = events[i-1][-1]\n",
        "        token_b, freq_b, start_time_b, end_time_b = events[i][0]\n",
        "\n",
        "        if token_a in (' ', '') and len(events[i-1]) == 1:\n",
        "            new_events.append(events[i-1])\n",
        "        elif token_a not in (' ', '') and token_b not in (' ', ''):\n",
        "            new_events.append(events[i-1])\n",
        "            if connect:\n",
        "                new_events.append([[' ', 0, end_time_a, start_time_b]])\n",
        "            else:\n",
        "                new_events.append([[' ', 0, end_time_a, end_time_a]])\n",
        "        else:\n",
        "            new_events.append(events[i-1])\n",
        "\n",
        "    if new_events[-1][0][0] != ' ':\n",
        "        new_events.append([[' ', 0, end_time_a, end_time_a]])\n",
        "    new_events.append(events[-1])\n",
        "\n",
        "    return new_events\n",
        "\n",
        "def adjust_extensions(events, phoneme_durations):\n",
        "    if len(events) == 1:\n",
        "        return events\n",
        "\n",
        "    idx_last_vowel = None\n",
        "    n_consonants_after_last_vowel = 0\n",
        "    rest_after_last_vowel = False\n",
        "    target_ids = np.arange(len(events))\n",
        "    for i in range(len(events)):\n",
        "        token = re.sub('[0-9{}]', '', events[i][0])\n",
        "        if idx_last_vowel is None and token not in phoneme_durations:\n",
        "            idx_last_vowel = i\n",
        "            n_consonants_after_last_vowel = 0\n",
        "        else:\n",
        "            if token == '_' and not n_consonants_after_last_vowel:\n",
        "                events[i][0] = events[idx_last_vowel][0]\n",
        "            elif token == '_' and n_consonants_after_last_vowel:\n",
        "                events[i][0] = events[idx_last_vowel][0]\n",
        "                start = idx_last_vowel + 1\n",
        "                target_ids[start:start+n_consonants_after_last_vowel] += 1 + int(rest_after_last_vowel)\n",
        "                target_ids[i] -= n_consonants_after_last_vowel\n",
        "                if rest_after_last_vowel:\n",
        "                    target_ids[i-1] -= n_consonants_after_last_vowel\n",
        "            elif token in phoneme_durations:\n",
        "                n_consonants_after_last_vowel += 1\n",
        "            elif token == ' ':\n",
        "                rest_after_last_vowel = True\n",
        "            else:\n",
        "                rest_after_last_vowel = False\n",
        "                n_consonants_after_last_vowel = 0\n",
        "                idx_last_vowel = i\n",
        "\n",
        "    new_events = [0] * len(events)\n",
        "    for i in range(len(events)):\n",
        "        new_events[target_ids[i]] = events[i]\n",
        "\n",
        "    # adjust time of consonants that were repositioned\n",
        "    for i in range(1, len(new_events)):\n",
        "        if new_events[i][2] < new_events[i-1][2]:\n",
        "            new_events[i][2] = new_events[i-1][2]\n",
        "            new_events[i][3] = new_events[i-1][3]\n",
        "        if new_events[i][0][0] == '{':\n",
        "            new_events[i][0] = new_events[i][0][1:]\n",
        "        if new_events[i][0][-1] == '}' and i < len(new_events) - 1:\n",
        "            new_events[i][0] = new_events[i][0][:-1]\n",
        "\n",
        "    first_p = new_events[0][0]\n",
        "    if not first_p.isspace() and first_p[0] != '{':\n",
        "        new_events[0][0] = '{' + first_p\n",
        "    last_p = new_events[-1][0]\n",
        "    if not last_p.isspace() and last_p[-1] != '}':\n",
        "        new_events[-1][0] = last_p + '}'\n",
        "    return new_events\n",
        "\n",
        "\n",
        "def adjust_consonant_lengths(events, phoneme_durations):\n",
        "    t_init = events[0][2]\n",
        "    t_end = events[-1][3]\n",
        "    duration = t_end - t_init\n",
        "    consonant_durations = {}\n",
        "    consonant_duration = 0\n",
        "    for event in events:\n",
        "        c = re.sub('[0-9{}]', '', event[0])\n",
        "        if c in phoneme_durations:\n",
        "            consonant_durations[c] = phoneme_durations[c]\n",
        "            consonant_duration += phoneme_durations[c]\n",
        "\n",
        "    if not consonant_duration <= 0.4 * duration:\n",
        "        scale = 0.4 * duration / consonant_duration\n",
        "        for k, v in consonant_durations.items():\n",
        "            consonant_durations[k] = scale * v\n",
        "\n",
        "    idx_last_vowel = None\n",
        "    for i in range(len(events)):\n",
        "        task = re.sub('[0-9{}]', '', events[i][0])\n",
        "        if task in consonant_durations:\n",
        "            duration = consonant_durations[task]\n",
        "            if idx_last_vowel is None:  # consonant comes before any vowel\n",
        "                events[i][2] = t_init\n",
        "                events[i][3] = t_init + duration\n",
        "            else:  # consonant comes after a vowel, must offset\n",
        "                events[idx_last_vowel][3] -= duration\n",
        "                for k in range(idx_last_vowel+1, i):\n",
        "                    events[k][2] -= duration\n",
        "                    events[k][3] -= duration\n",
        "                events[i][2] = events[i-1][3]\n",
        "                events[i][3] = events[i-1][3] + duration\n",
        "        else:\n",
        "            events[i][2] = t_init\n",
        "            events[i][3] = events[i][3]\n",
        "            t_init = events[i][3]\n",
        "            idx_last_vowel = i\n",
        "        t_init = events[i][3]\n",
        "\n",
        "    return events\n",
        "\n",
        "\n",
        "def adjust_consonants(events, phoneme_durations):\n",
        "    if len(events) == 1:\n",
        "        return events\n",
        "\n",
        "    start = 0\n",
        "    split_ids = []\n",
        "    t_init = events[0][2]\n",
        "\n",
        "    # get each substring group\n",
        "    for i in range(1, len(events)):\n",
        "        if events[i][2] != t_init:\n",
        "            split_ids.append((start, i))\n",
        "            start = i\n",
        "            t_init = events[i][2]\n",
        "    split_ids.append((start, len(events)))\n",
        "\n",
        "    for (start, end) in split_ids:\n",
        "        events[start:end] = adjust_consonant_lengths(\n",
        "            events[start:end], phoneme_durations)\n",
        "\n",
        "    return events\n",
        "\n",
        "\n",
        "def event2alignment(events, hop_length=256, sampling_rate=22050):\n",
        "    frame_length = float(hop_length) / float(sampling_rate)\n",
        "\n",
        "    n_frames = int(events[-1][-1][-1] / frame_length)\n",
        "    n_tokens = np.sum([len(e) for e in events])\n",
        "    alignment = np.zeros((n_tokens, n_frames))\n",
        "\n",
        "    cur_event = -1\n",
        "    for event in events:\n",
        "        for i in range(len(event)):\n",
        "            if len(event) == 1 or cur_event == -1 or event[i][0] != event[i-1][0]:\n",
        "                cur_event += 1\n",
        "            token, freq, start_time, end_time = event[i]\n",
        "            alignment[cur_event, int(start_time/frame_length):int(end_time/frame_length)] = 1\n",
        "\n",
        "    return alignment[:cur_event+1]\n",
        "\n",
        "\n",
        "def event2f0(events, hop_length=256, sampling_rate=22050):\n",
        "    frame_length = float(hop_length) / float(sampling_rate)\n",
        "    n_frames = int(events[-1][-1][-1] / frame_length)\n",
        "    f0s = np.zeros((1, n_frames))\n",
        "\n",
        "    for event in events:\n",
        "        for i in range(len(event)):\n",
        "            token, freq, start_time, end_time = event[i]\n",
        "            f0s[0, int(start_time/frame_length):int(end_time/frame_length)] = freq\n",
        "\n",
        "    return f0s\n",
        "\n",
        "\n",
        "def event2text(events, convert_stress):\n",
        "    text_clean = ''\n",
        "    for event in events:\n",
        "        for i in range(len(event)):\n",
        "            if i > 0 and event[i][0] == event[i-1][0]:\n",
        "                continue\n",
        "            if event[i][0] == ' ' and len(event) > 1:\n",
        "                if text_clean[-1] != \"}\":\n",
        "                    text_clean = text_clean[:-1] + '} {'\n",
        "                else:\n",
        "                    text_clean += ' {'\n",
        "            else:\n",
        "                if event[i][0][-1] in ('}', ' '):\n",
        "                    text_clean += event[i][0]\n",
        "                else:\n",
        "                    text_clean += event[i][0] + ' '\n",
        "\n",
        "    if convert_stress:\n",
        "        text_clean = re.sub('[0-9]', '1', text_clean)\n",
        "\n",
        "    text_encoded = text_to_sequence(text_clean)\n",
        "    return text_encoded, text_clean\n",
        "\n",
        "\n",
        "def remove_excess_frames(alignment, f0s):\n",
        "    excess_frames = np.sum(alignment.sum(0) == 0)\n",
        "    alignment = alignment[:, :-excess_frames] if excess_frames > 0 else alignment\n",
        "    f0s = f0s[:, :-excess_frames] if excess_frames > 0 else f0s\n",
        "    return alignment, f0s\n",
        "\n",
        "\n",
        "def get_data_from_text_events_with_phonemes(text_events, ticks=False, tempo=120, resolution=960, phoneme_durations=None, convert_stress=False):\n",
        "    def pitch_to_freq(pitch):\n",
        "        return 440*(2**((pitch - 69)/12))\n",
        "\n",
        "    if ticks:\n",
        "        num = int\n",
        "        to_time = lambda t: t * 60/(tempo*resolution)\n",
        "    else:\n",
        "        num = float\n",
        "        to_time = lambda t: t\n",
        "\n",
        "    if phoneme_durations is None:\n",
        "        phoneme_durations = PHONEMEDURATION\n",
        "    \n",
        "    events = []\n",
        "    phonemes = ''\n",
        "    word = []\n",
        "    time = 0\n",
        "    note_off = True\n",
        "    rest_start = -1\n",
        "    new_word = True\n",
        "    for e in text_events:\n",
        "        e_split = e.split('_')\n",
        "        if '_' not in e:\n",
        "            phonemes = e\n",
        "        elif e == '_R_':\n",
        "            phonemes = '_'\n",
        "        elif e_split[0] == 'ON':\n",
        "            if rest_start >= 0:\n",
        "                if new_word and word:\n",
        "                    last_p = word[-1][0]\n",
        "                    if last_p != ' ':\n",
        "                        word[-1][0] = last_p + '}'\n",
        "                    events.append(word)\n",
        "                    word = []\n",
        "                word.append([' ', 0, to_time(rest_start), to_time(time)])\n",
        "                rest_start = -1\n",
        "            freq = pitch_to_freq(int(e_split[1]))\n",
        "            start = time\n",
        "            note_off = False\n",
        "        elif e_split[0] == 'W':\n",
        "            t = num(e_split[1])\n",
        "            if note_off and rest_start < 0:\n",
        "                rest_start = time\n",
        "            time += t\n",
        "        elif e == '_OFF_':\n",
        "            if new_word and word:\n",
        "                last_p = word[-1][0]\n",
        "                if last_p != ' ':\n",
        "                    word[-1][0] = last_p + '}'\n",
        "                events.append(word)\n",
        "                word = []            \n",
        "            for i, p in enumerate(phonemes.split()):\n",
        "                if new_word and i == 0:\n",
        "                    word.append(['{' + p, freq, to_time(start), to_time(time)])\n",
        "                else:\n",
        "                    word.append([p, freq, to_time(start), to_time(time)])\n",
        "            new_word = False\n",
        "            note_off = True\n",
        "        else:\n",
        "            new_word = True\n",
        "\n",
        "    last_p = word[-1][0]\n",
        "    if last_p != ' ':\n",
        "        word[-1][0] = last_p + '}'\n",
        "    events.append(word)\n",
        "\n",
        "    # make adjustments\n",
        "    events = [adjust_extensions(e, phoneme_durations)\n",
        "                      for e in events]\n",
        "    events = [adjust_consonants(e, phoneme_durations)\n",
        "                      for e in events]\n",
        "    events = add_space_between_events(events)\n",
        "\n",
        "    # convert data to alignment, f0 and text encoded\n",
        "    alignment = event2alignment(events)\n",
        "    f0s = event2f0(events)\n",
        "    alignment, f0s = remove_excess_frames(alignment, f0s)\n",
        "    text_encoded, text_clean = event2text(events, convert_stress)\n",
        "\n",
        "    # convert data to torch\n",
        "    alignment = torch.from_numpy(alignment).permute(1, 0)[:, None].float()\n",
        "    f0s = torch.from_numpy(f0s)[None].float()\n",
        "    text_encoded = torch.LongTensor(text_encoded)[None]\n",
        "\n",
        "    return {'rhythm': alignment, 'pitch_contour': f0s, 'text_encoded': text_encoded}\n"
      ],
      "execution_count": 8,
      "outputs": [
        {
          "output_type": "stream",
          "text": [
            "Overwriting /content/mellotron/mellotron_utils.py\n"
          ],
          "name": "stdout"
        }
      ]
    },
    {
      "cell_type": "markdown",
      "metadata": {
        "id": "nYJX2NQ8cLyL"
      },
      "source": [
        ""
      ]
    },
    {
      "cell_type": "code",
      "metadata": {
        "colab": {
          "base_uri": "https://localhost:8080/"
        },
        "id": "5rUry_AYcbMj",
        "outputId": "56df734d-464f-4c46-c9a6-56a8fb87ba6f"
      },
      "source": [
        "import IPython.display as ipd\n",
        "\n",
        "import sys\n",
        "################################################################################################\n",
        "sys.path.append('/content/mellotron')             #####  modified for  colab ######\n",
        "sys.path.append('/content/mellotron/waveglow/')   #####  modified for  colab ######\n",
        "################################################################################################\n",
        "\n",
        "from itertools import cycle\n",
        "import numpy as np\n",
        "import scipy as sp\n",
        "from scipy.io.wavfile import write\n",
        "import pandas as pd\n",
        "import librosa\n",
        "import torch\n",
        "\n",
        "from hparams import create_hparams\n",
        "from model import Tacotron2\n",
        "from waveglow.denoiser import Denoiser\n",
        "from layers import TacotronSTFT\n",
        "################################################################################################\n",
        "from train_utils import load_model #####  modified for inference  on colab #####################\n",
        "################################################################################################\n",
        "from data_utils import TextMelLoader, TextMelCollate\n",
        "from text import cmudict, text_to_sequence\n",
        "%cd mellotron/\n",
        "from mellotron_utils import get_data_from_text_events_with_phonemes\n",
        "%cd .."
      ],
      "execution_count": 9,
      "outputs": [
        {
          "output_type": "stream",
          "text": [
            "/content/mellotron\n",
            "/content\n"
          ],
          "name": "stdout"
        }
      ]
    },
    {
      "cell_type": "code",
      "metadata": {
        "id": "dfxC85xxdbiL"
      },
      "source": [
        "def load_mel(path):\n",
        "    audio, sampling_rate = librosa.core.load(path, sr=hparams.sampling_rate)\n",
        "    audio = torch.from_numpy(audio)\n",
        "    if sampling_rate != hparams.sampling_rate:\n",
        "        raise ValueError(\"{} SR doesn't match target {} SR\".format(\n",
        "            sampling_rate, stft.sampling_rate))\n",
        "    audio_norm = audio / hparams.max_wav_value\n",
        "    audio_norm = audio_norm.unsqueeze(0)\n",
        "    audio_norm = torch.autograd.Variable(audio_norm, requires_grad=False)\n",
        "    melspec = stft.mel_spectrogram(audio_norm)\n",
        "    melspec = melspec.cuda()\n",
        "    return melspec\n",
        "        "
      ],
      "execution_count": 10,
      "outputs": []
    },
    {
      "cell_type": "code",
      "metadata": {
        "colab": {
          "base_uri": "https://localhost:8080/"
        },
        "id": "_Ppld4DYgmPr",
        "outputId": "5a9e9758-8a9e-48f9-97d7-e1e13674daea"
      },
      "source": [
        "hparams = create_hparams()"
      ],
      "execution_count": 11,
      "outputs": [
        {
          "output_type": "stream",
          "text": [
            "WARNING:tensorflow:\n",
            "The TensorFlow contrib module will not be included in TensorFlow 2.0.\n",
            "For more information, please see:\n",
            "  * https://github.com/tensorflow/community/blob/master/rfcs/20180907-contrib-sunset.md\n",
            "  * https://github.com/tensorflow/addons\n",
            "  * https://github.com/tensorflow/io (for I/O related ops)\n",
            "If you depend on functionality not listed there, please file an issue.\n",
            "\n"
          ],
          "name": "stdout"
        }
      ]
    },
    {
      "cell_type": "code",
      "metadata": {
        "id": "MjOLIgswgpYQ"
      },
      "source": [
        "stft = TacotronSTFT(hparams.filter_length, hparams.hop_length, hparams.win_length,\n",
        "                    hparams.n_mel_channels, hparams.sampling_rate, hparams.mel_fmin,\n",
        "                    hparams.mel_fmax)"
      ],
      "execution_count": 12,
      "outputs": []
    },
    {
      "cell_type": "markdown",
      "metadata": {
        "id": "gmeHMMX_5Y7S"
      },
      "source": [
        "## Load Models\n"
      ]
    },
    {
      "cell_type": "code",
      "metadata": {
        "id": "omAernnggsMD",
        "colab": {
          "base_uri": "https://localhost:8080/"
        },
        "outputId": "999e7eb5-acbe-4521-8b58-2c11b0ca64c7"
      },
      "source": [
        "checkpoint_path = \"/content/mellotron_libritts.pt\"\n",
        "tacotron = load_model(hparams).cuda().eval()\n",
        "tacotron.load_state_dict(torch.load(checkpoint_path)['state_dict'])"
      ],
      "execution_count": 13,
      "outputs": [
        {
          "output_type": "execute_result",
          "data": {
            "text/plain": [
              "<All keys matched successfully>"
            ]
          },
          "metadata": {
            "tags": []
          },
          "execution_count": 13
        }
      ]
    },
    {
      "cell_type": "code",
      "metadata": {
        "colab": {
          "base_uri": "https://localhost:8080/"
        },
        "id": "sWfAkxQ3g1L3",
        "outputId": "18119d37-1581-4bbd-ec79-78d5c4275130"
      },
      "source": [
        "waveglow_path = '/content/waveglow_256channels_v4.pt'\n",
        "waveglow = torch.load(waveglow_path)['model']\n",
        "waveglow = waveglow.remove_weightnorm(waveglow)\n",
        "waveglow.cuda().eval()\n",
        "from apex import amp\n",
        "waveglow, _ = amp.initialize(waveglow, [], opt_level=\"O3\")\n",
        "denoiser = Denoiser(waveglow).cuda().eval()"
      ],
      "execution_count": 14,
      "outputs": [
        {
          "output_type": "stream",
          "text": [
            "/usr/local/lib/python3.6/dist-packages/torch/serialization.py:658: SourceChangeWarning: source code of class 'torch.nn.modules.conv.ConvTranspose1d' has changed. you can retrieve the original source code by accessing the object's source attribute or set `torch.nn.Module.dump_patches = True` and use the patch tool to revert the changes.\n",
            "  warnings.warn(msg, SourceChangeWarning)\n",
            "/usr/local/lib/python3.6/dist-packages/torch/serialization.py:658: SourceChangeWarning: source code of class 'torch.nn.modules.container.ModuleList' has changed. you can retrieve the original source code by accessing the object's source attribute or set `torch.nn.Module.dump_patches = True` and use the patch tool to revert the changes.\n",
            "  warnings.warn(msg, SourceChangeWarning)\n",
            "/usr/local/lib/python3.6/dist-packages/torch/serialization.py:658: SourceChangeWarning: source code of class 'torch.nn.modules.conv.Conv1d' has changed. you can retrieve the original source code by accessing the object's source attribute or set `torch.nn.Module.dump_patches = True` and use the patch tool to revert the changes.\n",
            "  warnings.warn(msg, SourceChangeWarning)\n"
          ],
          "name": "stderr"
        },
        {
          "output_type": "stream",
          "text": [
            "Selected optimization level O3:  Pure FP16 training.\n",
            "Defaults for this optimization level are:\n",
            "enabled                : True\n",
            "opt_level              : O3\n",
            "cast_model_type        : torch.float16\n",
            "patch_torch_functions  : False\n",
            "keep_batchnorm_fp32    : False\n",
            "master_weights         : False\n",
            "loss_scale             : 1.0\n",
            "Processing user overrides (additional kwargs that are not None)...\n",
            "After processing overrides, optimization options are:\n",
            "enabled                : True\n",
            "opt_level              : O3\n",
            "cast_model_type        : torch.float16\n",
            "patch_torch_functions  : False\n",
            "keep_batchnorm_fp32    : False\n",
            "master_weights         : False\n",
            "loss_scale             : 1.0\n",
            "Warning:  multi_tensor_applier fused unscale kernel is unavailable, possibly because apex was installed without --cuda_ext --cpp_ext. Using Python fallback.  Original ImportError was: ModuleNotFoundError(\"No module named 'amp_C'\",)\n"
          ],
          "name": "stdout"
        }
      ]
    },
    {
      "cell_type": "markdown",
      "metadata": {
        "id": "g2odPOEu5dTK"
      },
      "source": [
        "## Setup dataloaders for Google colab"
      ]
    },
    {
      "cell_type": "code",
      "metadata": {
        "colab": {
          "base_uri": "https://localhost:8080/"
        },
        "id": "UOB9U_Hbhv_E",
        "outputId": "b2c0dd85-f887-42d4-ba3b-90fc37b064e1"
      },
      "source": [
        "%%file /content/mellotron/data/examples_filelist.txt\n",
        "/content/mellotron/data/example1.wav|exploring the expanses of space to keep our planet safe|1\n",
        "/content/mellotron/data/example2.wav|and all the species that call it home|1"
      ],
      "execution_count": 15,
      "outputs": [
        {
          "output_type": "stream",
          "text": [
            "Overwriting /content/mellotron/data/examples_filelist.txt\n"
          ],
          "name": "stdout"
        }
      ]
    },
    {
      "cell_type": "code",
      "metadata": {
        "id": "8ZLRcTyxhUF-"
      },
      "source": [
        "arpabet_dict = cmudict.CMUDict('/content/mellotron/data/cmu_dictionary')\n",
        "audio_paths = '/content/mellotron/data/examples_filelist.txt'\n",
        "dataloader = TextMelLoader(audio_paths, hparams)\n",
        "datacollate = TextMelCollate(1)"
      ],
      "execution_count": 16,
      "outputs": []
    },
    {
      "cell_type": "markdown",
      "metadata": {
        "id": "V41TqC8R5iO8"
      },
      "source": [
        "## Load data for reference voice"
      ]
    },
    {
      "cell_type": "code",
      "metadata": {
        "colab": {
          "base_uri": "https://localhost:8080/"
        },
        "id": "YP5xaf2sio60",
        "outputId": "7676fa59-7b4c-41d5-8c31-f0889d5ca1ab"
      },
      "source": [
        "file_idx = 0\n",
        "audio_path, text, sid = dataloader.audiopaths_and_text[file_idx]\n",
        "\n",
        "# get audio path, encoded text, pitch contour and mel for gst\n",
        "text_encoded = torch.LongTensor(text_to_sequence(text, hparams.text_cleaners, arpabet_dict))[None, :].cuda()    \n",
        "pitch_contour = dataloader[file_idx][3][None].cuda()\n",
        "mel = load_mel(audio_path)\n",
        "print(audio_path, text)\n",
        "\n",
        "# load source data to obtain rhythm using tacotron 2 as a forced aligner\n",
        "x, y = tacotron.parse_batch(datacollate([dataloader[file_idx]]))"
      ],
      "execution_count": 17,
      "outputs": [
        {
          "output_type": "stream",
          "text": [
            "/content/mellotron/data/example1.wav exploring the expanses of space to keep our planet safe\n"
          ],
          "name": "stdout"
        }
      ]
    },
    {
      "cell_type": "markdown",
      "metadata": {
        "id": "kEarL2P_6bdP"
      },
      "source": [
        "## Define Speakers Set"
      ]
    },
    {
      "cell_type": "code",
      "metadata": {
        "id": "e4ITADu4irh0"
      },
      "source": [
        "speaker_ids = TextMelLoader(\"/content/mellotron/filelists/libritts_train_clean_100_audiopath_text_sid_atleast5min_val_filelist.txt\", hparams).speaker_ids\n",
        "speakers = pd.read_csv('/content/mellotron/filelists/libritts_speakerinfo.txt', engine='python',header=None, comment=';', sep=' *\\| *', \n",
        "                       names=['ID', 'SEX', 'SUBSET', 'MINUTES', 'NAME'])\n",
        "\n",
        "speakers['MELLOTRON_ID'] = speakers['ID'].apply(lambda x: speaker_ids[x] if x in speaker_ids else -1)\n",
        "female_speakers = cycle(\n",
        "    speakers.query(\"SEX == 'F' and MINUTES > 20 and MELLOTRON_ID >= 0\")['MELLOTRON_ID'].sample(frac=1).tolist())\n",
        "male_speakers = cycle(\n",
        "    speakers.query(\"SEX == 'M' and MINUTES > 20 and MELLOTRON_ID >= 0\")['MELLOTRON_ID'].sample(frac=1).tolist())"
      ],
      "execution_count": 18,
      "outputs": []
    },
    {
      "cell_type": "markdown",
      "metadata": {
        "id": "3wMtWCEe6lud"
      },
      "source": [
        "## Singing Voice from Text Events\n"
      ]
    },
    {
      "cell_type": "code",
      "metadata": {
        "id": "ZZnXc2v6A09U"
      },
      "source": [
        "frequency_scaling = 0.5\n",
        "\n",
        "def get_audio(data):\n",
        "    rhythm = data['rhythm'].cuda()\n",
        "    pitch_contour = data['pitch_contour'].cuda()\n",
        "    text_encoded = data['text_encoded'].cuda()\n",
        "    \n",
        "    speaker_id = torch.LongTensor([next(male_speakers)]).cuda()\n",
        "    with torch.no_grad():\n",
        "        mel_outputs, mel_outputs_postnet, gate_outputs, alignments_transfer = tacotron.inference_noattention(\n",
        "            (text_encoded, mel, speaker_id, pitch_contour * frequency_scaling, rhythm))\n",
        "        audio = denoiser(waveglow.infer(mel_outputs_postnet.half(), sigma=0.8), 0.01)[0, 0]\n",
        "        audio = audio.cpu().numpy()\n",
        "        torch.cuda.empty_cache()\n",
        "        return ipd.Audio(audio, rate=hparams.sampling_rate)"
      ],
      "execution_count": 19,
      "outputs": []
    },
    {
      "cell_type": "code",
      "metadata": {
        "id": "d6yOeVxlBxs-"
      },
      "source": [
        "text = ['W_1600', 'W_24', 'UW1', 'ON_78', 'W_420', '_OFF_', 'W_220', 'D IY0 Z', 'ON_67', 'W_470', '_OFF_', 'W_690', 'N_W', 'S T IY1', 'ON_74', 'W_120', '_OFF_', 'N_W', 'Y UW1', 'ON_66', 'W_230', '_OFF_', 'W_180', 'N_W', 'AA1 R', 'ON_74', 'W_200', '_OFF_', 'N_W', 'W ER1 L D', 'ON_76', 'W_780', '_OFF_', 'N_W', 'AY1', 'ON_74', 'W_890', '_OFF_', 'N_W', 'M IY1', 'ON_66', 'W_430', '_OFF_']#, 'W_2000', 'W_1040', 'W_80', 'N_W', 'N OW1', 'ON_74', 'W_500', '_OFF_', 'W_30', 'N_W', 'DH AH0', 'ON_63', 'W_140', '_OFF_', 'N_W', 'IH1 Z', 'ON_74', 'W_370', '_OFF_', 'W_490', 'N_W', 'HH ER1', 'ON_66', 'W_640', '_OFF_', 'N_W', 'HH IH1 M', 'ON_66', 'W_500', '_OFF_', 'N_W', 'B AH1 T', 'ON_31', 'N_L', 'AY1', 'ON_67', 'W_210', '_OFF_', 'W_120', '_C_', 'N_L', 'W AA1', 'ON_74', 'W_890', '_OFF_', 'W_300', '_OFF_', 'W_360', 'N_W', 'AH0', 'ON_74', 'W_440', '_OFF_', 'W_40', 'N_W', 'K EH1', 'ON_74', 'W_230', '_OFF_', 'W_210', 'N_W', 'T UW1', 'ON_74', 'W_400', '_OFF_', 'W_40', 'N_L', 'AY1', 'ON_74', 'W_440', '_OFF_', 'N AH1 F', 'ON_74', 'W_250', '_OFF_', 'N_W', 'AW1 T', 'ON_74', 'W_680', '_OFF_', 'W_40', 'N_W', 'HH ER0', 'ON_58', 'W_300', '_OFF_', 'N_W', 'DH AE1 T', 'ON_72', 'W_490', '_OFF_', 'W_70', 'N_W', 'N OW1', 'ON_74', 'W_890', 'N_L', 'AH0 N D', 'ON_74', 'W_1560', '_OFF_', 'W_2000', 'W_1220', '_OFF_', 'N_L', 'AH0', 'ON_74', 'W_920', '_OFF_', 'W_550', '_C_', 'N_W', 'Y AO1 R', 'ON_74', 'W_490', '_OFF_', 'W_180', 'N_W', 'Y UW1', 'ON_77', 'W_450', '_OFF_', 'W_160', '_C_', 'N_L', 'L AH1', 'ON_74', 'W_490', '_OFF_', 'W_1460', 'N_L', 'JH AH1 S T', 'ON_74', 'W_280', '_OFF_', 'W_300', '_OFF_', 'W_520', 'N_L', 'G OW1', 'ON_74', 'W_260', 'N_W', 'EH1', 'ON_74', 'W_840', '_OFF_', 'W_50', 'N_W', 'AH0', 'ON_75', 'W_200', '_OFF_', 'N_W', 'AW1 T', 'ON_69', 'W_930', '_OFF_', 'W_210', 'N_W', 'L AH1 V', 'ON_74', 'W_520', '_OFF_', 'N_W', 'Y UW1', 'ON_74', 'W_1890', '_OFF_', 'W_40', 'V IH0 N', 'ON_74', 'W_790', '_OFF_', 'N_W', 'DH AH0', 'ON_74', 'W_850', '_OFF_', 'W_75', '_OFF_', 'N_W', 'K L OW1', 'ON_70', 'W_570', 'N_W', 'IH1 T', 'ON_74', 'W_480', '_OFF_', 'N_W', 'AY1', 'ON_74', 'W_290', '_OFF_', 'N_W', 'W ER1 L D', 'ON_74', 'W_450', '_OFF_', 'W_160', '_R_', 'ON_77', 'W_440', '_OFF_', 'N_W', 'AY1 Z', 'ON_76', 'W_470', '_OFF_', 'N_W', 'S OW1 L', 'ON_74', 'W_520', '_OFF_', 'N_W', 'AH1 V', 'ON_74', 'W_450', '_OFF_', 'N_W', 'HH AY1', 'ON_74', 'W_440', 'N_L', 'G OW1', 'ON_74', 'W_540', '_OFF_', 'W_320', '_OFF_', 'W_320', 'N_L', 'IH1 T S', 'ON_74', 'W_700', '_OFF_', 'W_100', 'N_W', 'AY1', 'ON_74', 'W_190', 'N_W', 'G AA1', 'ON_74', 'W_2000', 'W_1360', '_OFF_', 'N_L', 'AY1', 'ON_74', 'W_300', '_OFF_', 'W_30', 'N_W', 'D AE1', 'ON_74', 'W_490', '_OFF_', 'N_W', 'DH EH1 R', 'ON_74', 'W_30', 'N_L', 'IH1', 'ON_74', 'W_450', '_OFF_', 'W_470', '_OFF_', 'W_910', '_OFF_', 'W_90', 'R G EH1 T', 'ON_70', 'W_300', '_OFF_', 'N D L AH0', 'ON_74', 'W_440', '_OFF_', 'W_40', 'N_W', 'AY1 M', 'ON_74', 'W_580', 'N_L', 'B AH1 T', 'ON_74', 'W_220', '_OFF_', 'W_120', '_OFF_', 'W_120', 'N_W', 'G OW1', 'ON_74', 'W_990', '_OFF_', 'W_490', 'N_W', 'AO1', 'ON_74', 'W_20', 'N_W', 'TH IH1 NG', 'ON_72', 'W_1100', '_OFF_', 'N_L', 'AY1', 'ON_75', 'W_470', '_OFF_', 'L IY0', 'ON_74', 'W_280', '_OFF_', 'W_140', 'N_L', 'B AE1 K', 'ON_74', 'W_250', '_OFF_', 'N_W', 'AY1', 'ON_74', 'W_570', '_OFF_', 'N_W', 'AY1', 'ON_77', 'W_680', '_OFF_', 'N_W', 'S AH1 M', 'ON_67', 'W_2000', 'W_1600', 'N_L', 'M IH2', 'ON_74', 'W_400', '_OFF_', 'W_220', '_OFF_', 'W_210', 'N_W', 'AA1 R M Z', 'ON_74', 'W_270', '_OFF_', 'P IY0', 'ON_70', 'W_720', 'N_L', 'AH0 N D', 'ON_74', 'W_340', '_OFF_', 'W_1430', '_OFF_', 'N_W', 'DH EH1 R', 'ON_74', 'W_880', 'N_W', 'G AA1', 'ON_74', 'W_460', '_OFF_', 'W_1370', 'N_L', 'K L OW1 S', 'ON_74', 'W_260', '_OFF_', 'N_L', 'S OW1', 'ON_79', 'W_440', '_OFF_', 'W_340', '_OFF_', 'W_120', 'N_L', 'OW1', 'ON_74', 'W_180', '_OFF_', 'N_W', 'Y UW1', 'ON_64', 'W_2000', 'W_880', '_OFF_', 'W_2000', 'W_2000', 'W_930', 'V IH0 N', 'ON_74', 'W_450', '_OFF_', 'N_W', 'Y UH0', 'ON_74', 'W_540', '_OFF_', 'W_480', 'N_W', 'B AY1', 'ON_74', 'W_260', '_OFF_', 'W_40', 'N_W', 'ER0', 'ON_74', 'W_660', 'N_L', 'Y UW1', 'ON_74', 'W_410', '_OFF_', '_R_', 'ON_67', 'W_2000', 'W_1200', '_OFF_', 'T IH0 NG', 'ON_77', 'W_880', '_OFF_', 'N_W', 'SH IY1 Z', 'ON_74', 'W_376', '_OFF_', 'W_300', 'N_W', 'AY1', 'ON_74', 'W_480', '_OFF_', 'N_W', 'W AO1', 'ON_74', 'W_2000', 'W_1430', '_OFF_', 'W_260', '_OFF_', 'V AH0 L', 'ON_74', 'W_590', '_OFF_', 'N D ER0', 'ON_74', 'W_250', '_OFF_', 'W_120', 'N_W', 'G AA1', 'ON_74', 'W_170', 'N_L', 'K AH1 M', 'ON_75', 'W_250', '_OFF_', 'N_W', 'T AO1 T', 'ON_72', 'W_440', '_OFF_', '_C_', 'N_L', 'B R EY1', 'ON_74', 'W_480', '_OFF_', 'W_125', 'ON_74', 'W_800', '_OFF_', 'N_W', 'AY1', 'ON_74', 'W_300', '_OFF_', 'N S T EH2 D', 'ON_74', 'W_520', 'N_L', 'HH EH1', 'ON_74', 'W_700', '_OFF_', 'N_W', 'AE1 T', 'ON_74', 'W_120', '_OFF_', 'ON_74', 'W_1150', 'N_L', 'L AH1 V', 'ON_74', 'W_140', '_OFF_', 'N_W', 'G EH1 T', 'ON_74', 'W_200', '_OFF_', 'N_W', 'TH AO1 T', 'ON_74', 'W_480', '_OFF_', 'W_300', '_OFF_', 'N_W', 'S T AA1 R Z', 'ON_74', 'W_480', '_OFF_', 'W_300', 'N_W', 'P EY1 JH', 'ON_74', 'W_1150', '_OFF_', 'W_50', 'N_L', 'Y UW1', 'ON_74', 'W_480', '_OFF_', 'N_L', 'Y UW1', 'ON_74', 'W_470', '_OFF_', 'N_W', 'S L OW1', 'ON_81', 'W_430', '_OFF_', '_C_', 'N_W', 'Y UW1', 'ON_74', 'W_340', '_OFF_', 'W_80', 'N_W', 'F UW1 L', 'ON_74', 'W_440', '_OFF_', 'W_180', 'G IY0', 'ON_74', 'W_2000', 'W_2000', 'W_340', 'N_L', 'F AY1', 'ON_74', 'W_814', '_OFF_', 'W_120', 'N_L', 'IH1 T', 'ON_74', 'W_340', '_OFF_', 'N_W', 'AW1 T', 'ON_72', 'W_250', '_OFF_', 'W_140', 'L AH0', 'ON_74', 'W_580', '_OFF_', 'W_40', 'N T AH0 N', 'ON_74', 'W_440', '_OFF_', 'W_20', 'N_L', 'DH EH1 R', 'ON_74', 'W_1900', '_OFF_', 'W_320', '_OFF_', 'N_W', 'F AO1 R', 'ON_74', 'W_1300', 'N_L', 'AY1', 'ON_69', 'W_970', '_OFF_', 'W_580', '_OFF_', 'N_W', 'S EY1', 'ON_74', 'W_710', '_OFF_', 'W_210', 'N_L', 'AY1', 'ON_74', 'W_550', 'N_L', 'AY1', 'ON_74', 'W_450', '_OFF_', 'W_170', 'N_L', 'AH0 N D', 'ON_74', 'W_175', '_OFF_', 'W_2000', 'W_900', 'N_L', 'N AH1', 'ON_74', 'W_340', '_OFF_', 'W_60', 'N_L', 'S IH1 K S', 'ON_74', 'W_740', '_OFF_', 'N_L', 'IH1 T', 'ON_74', 'W_370', '_OFF_', 'W_150', '_OFF_', 'N_W', 'AH0', 'ON_74', 'W_850', '_OFF_', 'W_320', '_OFF_', 'W_140', 'W AY1 L', 'ON_74', 'W_400', 'N_L', 'AY1', 'ON_74', 'W_270', 'N_L', 'W AY1', 'ON_74', 'W_440', '_OFF_', 'N_W', 'AA1 N', 'ON_74', 'W_460', '_OFF_', 'W_730', '_OFF_', 'W_40', 'N_W', 'W AA1 Z', 'ON_77', 'W_400', '_OFF_', 'W_300', '_OFF_', 'W_30', 'N_W', 'F R EH1 N D Z', 'ON_74', 'W_1335', '_OFF_', 'W_40', 'N_W', 'L AY1 K', 'ON_76', 'W_580', '_OFF_', 'W_20', 'N_W', 'IH1 T', 'ON_74', 'W_520', 'N_L', 'S OW1']"
      ],
      "execution_count": 39,
      "outputs": []
    },
    {
      "cell_type": "code",
      "metadata": {
        "colab": {
          "base_uri": "https://localhost:8080/",
          "height": 75
        },
        "id": "Xnj5VEf0CVRO",
        "outputId": "62c8ed8d-44ea-49eb-bea3-615866cfee2a"
      },
      "source": [
        "data = get_data_from_text_events_with_phonemes(text, ticks=True, tempo=102.000051)\n",
        "get_audio(data)"
      ],
      "execution_count": 40,
      "outputs": [
        {
          "output_type": "execute_result",
          "data": {
            "text/html": [
              "\n",
              "                <audio controls=\"controls\" >\n",
              "                    <source src=\"data:audio/wav;base64,UklGRiSUAgBXQVZFZm10IBAAAAABAAEAIlYAAESsAAACABAAZGF0YQCUAgACAAQABAAEAAMAAgACAAMAAwACAAEAAAABAAEAAQABAAAAAAAAAAEAAAAAAAAAAAAAAAAAAAD//wAA//8AAAAA///+//7////+//7//v/+//7//v/9//3//v/+/////v/+//7//////wAAAAAAAAAAAAAAAAAAAAAAAP//AAD//////v/+////AAAAAP//AAAAAAEAAgABAAAAAQACAAEAAQAAAAAAAAAAAAAA//////7/AAD//wAAAAAAAAAAAAABAAAAAQAAAAEAAQABAAAAAAAAAAAAAAAAAAAAAAAAAAAAAAABAAAAAQABAAEAAQABAAEAAAABAAAAAQAAAAAAAAAAAAAAAQAAAAAAAQAAAAAAAAABAAAAAAAAAP//AAAAAP/////+//////////7/AAD//wAAAAAAAAAAAAAAAP//AAD///7////+/////v/+//7///8AAAAAAAAAAAAAAAACAAAAAQABAAAAAQABAAEAAAABAAAAAAAAAAEAAQABAAEAAQACAAEAAQACAAEAAgACAAEAAQACAAEAAAABAAAAAQABAAEAAAAAAAAAAAAAAAAAAAAAAAAA//8AAAAAAAAAAAAAAAAAAAAAAAAAAAAA//8AAP//AAD//wAA//////////8AAP///////wAAAAAAAAAAAAAAAAAAAAAAAAAAAAAAAP//AAAAAAAAAAD//wAAAAAAAAAAAAAAAAAAAAAAAAAAAAAAAAAA//////7/AAAAAAAAAAAAAAAAAAAAAAAAAAAAAAAAAAAAAAAAAAAAAP//AAAAAAAA//8AAAAAAAABAAAAAAABAAEAAAABAAEAAAABAAAAAAAAAAAAAAAAAAAAAAABAAAAAAABAAIAAQABAAEAAQABAAEAAAAAAAEAAAAAAAAAAAAAAAAAAAAAAAAAAAABAAEAAAABAAAAAQAAAAAAAAAAAAAAAAAAAAAAAAAAAAAAAAAAAAAAAAAAAAEAAQAAAAAAAAAAAAAAAAAAAAAAAAAAAAAAAAAAAAAAAAAAAAAAAAAAAAAAAAAAAAAAAAD//wAAAAD//wAA/////wAA/////////////wAA/////wAA/////wAA/////wAA//8AAAAA//8AAAAAAAAAAAAA//8AAAAA/////////////wAA////////AAAAAAAAAAAAAAAAAAAAAAAAAAAAAAAAAAAAAAAAAAAAAAAAAAAAAAAAAQAAAAAAAQABAAEAAQABAAEAAgAAAAEAAQABAAEAAgABAAEAAgABAAEAAgABAAEAAQABAAAAAQAAAAAAAAAAAAAAAAAAAAAAAQAAAAAAAQAAAAAAAAAAAAAAAAAAAAAA/////////////////////wAAAAAAAAAAAAAAAAAAAAAAAAAAAAAAAAAAAAAAAP//AAD/////AAD//wAAAAAAAAAAAAAAAAAAAAAAAAAAAAAAAAAAAAAAAAAAAAAAAAAAAAAAAAAAAAAAAP//AAAAAP//AAAAAP//AAAAAP//AAD/////AAAAAAAAAAD/////AAAAAP////////7///8AAP7//////wAAAAAAAAAAAAAAAAEAAQABAAEAAAABAAAAAQAAAAAAAAAAAAAAAAAAAAAAAAABAAEAAQABAAEAAQACAAIAAQACAAEAAQABAAAAAAAAAAAAAAAAAAAAAAAAAAAAAAAAAAAAAAAAAAAAAAAAAAAAAAABAAEAAAAAAAEAAAABAAAAAAAAAAAAAAAAAAAAAAAAAAAAAAAAAAAAAAABAAEAAQABAAEAAQACAAEAAQABAAAAAAAAAAAAAAD//////////////v////////8AAP//////////AAAAAP///v/+//7//v/9//3//f/9//3//f/9//3//f/+/////v////7///8AAAAAAAAAAAAAAAAAAAAAAAAAAAAAAAAAAAAAAAAAAAAAAAAAAAAAAAAAAAEAAQABAAIAAQACAAIAAgACAAIAAgACAAEAAQAAAAAAAAAAAAAAAAAAAAAAAAAAAAAAAAABAAEAAQACAAEAAQACAAIAAgABAAEAAAAAAAAAAAAAAAAAAAAAAAAAAAAAAAEAAQACAAIAAgACAAIAAgADAAMAAgACAAEAAQABAAAAAAAAAAAAAAAAAAAAAAAAAAAAAAAAAAAAAAAAAAAAAAAAAAAA//////////////7//v/+//7//v/9//3//P/9//3//f/9//3//f/+////////////AAAAAAAAAAAAAAAAAAAAAAAA///+////////////////////AAAAAAAAAQABAAEAAQABAAEAAQABAAEAAQAAAAAAAAAAAAAAAAD/////AAD//wAAAAAAAAAAAAAAAAAAAAAAAAEAAQABAAAAAQAAAAAAAQAAAAAAAAAAAAAAAAAAAAAAAAABAAEAAQABAAEAAgADAAMAAwADAAMAAwADAAMAAgABAAEAAQABAAAAAAAAAAAAAQABAAAAAAAAAAEAAgABAAEAAQABAAEAAAAAAAAAAAAAAP/////+//3//v/+/////v/+//7//v///////////wAA//8AAP////8AAP//AAD/////////////////////AAD/////////////AAAAAAAAAAAAAAAAAQABAAEAAAAAAAEAAQAAAAAAAAAAAAAAAAD///7//v////////////7///8AAAAAAAAAAAAAAAAAAAAAAAAAAAAAAAAAAAAA///+//////8AAAAA//8AAAAAAAABAAEAAQABAAEAAgACAAEAAQABAAEAAQABAAAAAAAAAAEAAAABAAEAAAABAAEAAQABAAIAAgACAAIAAQABAAIAAQABAAEAAAAAAAAAAAAAAAAAAAAAAAAAAAAAAAAAAAAAAAAAAAAAAAAAAAABAAEAAQAAAAAAAAAAAAAAAAAAAAAAAAAAAP//////////AAAAAAAAAAAAAAAAAAAAAAAAAAAAAAAAAAAAAAAAAAAAAAAA/////////v/+//7//v////7//v////7//////////////wAA//8AAAAAAAAAAP//AAD//////////////////////////wAA//8AAAAAAAAAAAAAAAABAAEAAAABAAAAAQAAAAAAAAAAAAAAAAAAAAAAAAAAAAEAAgABAAIAAgACAAIAAgACAAIAAgAAAAEAAQAAAAAAAAAAAAAAAAAAAAAAAAABAAEAAQABAAAAAQABAAEAAgABAAAAAAAAAAAAAAAAAP//AAAAAAAA////////AAAAAAAAAAAAAAAAAAAAAAAAAAAAAAAAAAAAAAAAAAAAAP//AAAAAP////////////8AAP7///////////8AAAAA//8AAAAAAAAAAAAAAAAAAAAAAAAAAAAAAAAAAAAAAAAAAAAAAAAAAAAAAAAAAAAAAAAAAAAAAAAAAAAAAAAAAAAAAAAAAAAAAAAAAAAAAAAAAAAAAAAAAAEAAAABAAAAAAAAAAAAAQAAAAAAAAAAAAAAAAAAAP//AAD//wAAAAAAAAAAAAAAAAAAAQAAAAAAAAABAAEAAQABAAAAAAAAAAAAAAAAAAAAAAAAAAAAAAAAAAAAAAAAAAAAAAAAAAAAAAAAAAAAAAAAAAAAAAAAAAAAAAAAAAAAAAAAAAAA//8AAAAA//8AAAAA//8AAAAA//8AAAAA//8AAAAAAAAAAAAAAAAAAAAAAAAAAAAAAAAAAAEAAAAAAAAAAAAAAAAAAAAAAAAAAAD//wAAAAAAAAAAAAAAAAAAAAAAAAAAAAAAAAAAAAAAAAAAAAAAAAAAAAAAAAAAAAAAAAAAAAAAAP///////wAAAAAAAP//AAAAAAAAAAAAAAAAAAABAAAAAQABAAAAAQABAAEAAQABAAAAAAABAAEAAAAAAAAAAAABAAEAAAAAAAEAAAABAAEAAAABAAEAAAABAAEAAAAAAAAAAAAAAAAAAAAAAAAAAAAAAAAAAAAAAAAAAAAAAAAAAAD//wAA/////wAA///////////+/wAA/////wAAAAAAAAAAAAAAAAEAAQAAAAAAAAAAAAAAAAD//wAAAAD/////AAD/////AAD//wAAAAAAAAAAAAAAAAAAAQAAAAAAAAAAAAAAAAAAAP//AAAAAP//AAD/////AAAAAP//AAAAAAAAAAAAAAAAAAAAAAAAAAAAAAAAAAAAAAAAAAAAAAAAAAAAAAAAAAAAAAEAAAABAAAAAAAAAAAAAAAAAAAAAAAAAAAAAAAAAAAAAAAAAAEAAAAAAAEAAQAAAAEAAAAAAAEAAAAAAAAAAAAAAAAAAAAAAAAAAAAAAAAAAAAAAAAAAAAAAAAAAAAAAAAAAAAAAAAAAAAAAAAAAQAAAAAAAAAAAAAAAAAAAAAAAAAAAAAAAAAAAAAAAAAAAAAAAAAAAAAAAAAAAP//AAAAAAAAAAAAAAAAAAAAAAAAAAAAAAAA//8AAAAAAAAAAP////8AAAAA//8AAP//AAAAAP////8AAAAA//8AAP//AAAAAAAAAAAAAAAAAAAAAAAAAAAAAAAAAAAAAAEAAAABAAAAAAAAAAEAAAAAAAAAAAAAAAAAAAAAAAAAAAABAAEAAQABAAEAAgABAAIAAQABAAAAAAAAAAAAAAAAAAAAAAD///////8AAAAAAAAAAAAAAQABAAEAAQABAAAAAQAAAP//AAAAAAAAAAD/////////////AAAAAAAAAAAAAAAAAAABAAAAAAAAAAAAAAAAAP////8AAP////////////8AAP////8AAAAAAAAAAAAAAAAAAAAAAAAAAAAA//8AAAAAAAAAAAAAAAAAAAAAAAAAAAAAAAAAAAAAAAAAAAEAAAABAAEAAAABAAIAAAABAAEAAQABAAEAAAAAAAAAAAAAAAAAAAAAAAAAAAAAAAAAAAAAAAEAAQAAAAEAAQAAAAIAAAAAAAAAAAAAAAAA//8AAP//////////////////AAAAAAAAAAAAAAAAAQAAAAEAAAAAAAAAAAAAAAAA//8AAAAA//////////8AAAAAAAAAAP//AAAAAAAAAAAAAAAAAAAAAAAAAAAAAAAAAAD//wAA/////////////wAA//8AAAAAAAAAAAAAAAABAAAAAAAAAAAAAAAAAAAAAAD//wAAAAAAAAAAAAAAAAAAAAAAAAEAAAAAAAIAAQABAAAAAAAAAAAAAAAAAAAAAAAAAAAAAAAAAAAAAAAAAAAAAAAAAAAAAAAAAAAAAAD//wAAAAAAAAAAAAD/////AAAAAAAAAAAAAAAAAAAAAAAAAAD//wAAAAAAAP//AAAAAAAAAAAAAAAAAAABAAEAAQABAAEAAQABAAEAAAAAAAAAAAAAAAAAAQAAAAAAAAABAAEAAQABAAEAAQABAAEAAQABAAEAAAAAAAAAAAAAAAAAAAAAAAAAAAAAAAAAAAAAAAAAAAAAAP//////////AAD//////////wAAAAAAAAAAAAAAAAAAAAAAAP////8AAAAAAAD/////////////AAD/////AAAAAAAAAAAAAAAAAAAAAAAAAAAAAAAAAAAAAAAAAAAAAP//AAAAAAAA////////AAAAAP//////////AAAAAAAAAAAAAAAAAAAAAAAAAAAAAAAAAAAAAAAAAAAAAAAAAAAAAAAAAAABAAEAAQABAAEAAgACAAIAAgACAAEAAQABAAEAAQABAAEAAAAAAAEAAQABAAEAAQABAAIAAQABAAEAAQABAAAAAAAAAAAAAAAAAAAAAAD///////8AAAAAAAAAAAAAAAAAAAAAAAAAAAAAAAAAAAAA////////AAAAAAAAAAAAAAAAAAAAAAAAAAAAAAAAAAAAAAAAAAAAAAAAAAAAAAAAAAAAAAAAAQABAAAAAAAAAAAAAAAAAAAAAAAAAP//AAD//wAA/////wAAAAAAAAAA/////wAA////////////////////////////////AAAAAAAAAAAAAAAAAAAAAAAAAAAAAAAAAAD///////8AAAAAAAAAAAAAAAABAAEAAQABAAEAAQACAAEAAQAAAAAAAAAAAAAAAAD//////////wAAAAD//wAAAAAAAAAAAAAAAAEAAQABAAEAAAAAAAAAAAAAAAAA////////AAAAAP//AAAAAAAAAAABAAAAAQACAAIAAwADAAMAAgACAAIAAgACAAEAAAAAAAAAAAAAAAAA//8AAAAAAAAAAAAAAQACAAIAAwACAAIAAgACAAEAAQAAAAAA//////7//v/9//3//v/+//7//v//////AAAAAAAAAAAAAAAAAAABAAAAAAAAAP///////////v/+//3//v/+//7//v/+////AAAAAAAAAAAAAAAAAQACAAIAAQABAAAAAQAAAAAA/////////v/+//3//f/9//3//v////////8AAAAAAgACAAIAAgABAAEAAQAAAAAA///+//7//f/8//z//P/9//7//v//////AAABAAIAAwAEAAMAAwADAAMAAwACAAEAAAAAAP/////+//7//////wAA//8AAAAAAQACAAMAAwADAAQAAwADAAMAAgACAAEAAAAAAAAA/////////////////////wAAAAABAAEAAgACAAEAAgACAAIAAgABAAEAAQAAAAAAAAD//wAAAAAAAAAA/////wAAAAABAAEAAQABAAEAAQACAAIAAgABAAAAAAAAAAAAAAAAAAAAAAD//////v///wAAAAAAAP///////wAAAAAAAAAA//8AAAAAAAAAAP////8AAP///v/+//3//v/+//7//v/+//7//v///////////wAAAAAAAAAAAAAAAAAAAAAAAAAA/////////v8AAP///v/+//7///8AAAAAAAAAAAAAAQAAAAAAAQABAAEAAQAAAAAAAAAAAAAAAAAAAAAA/////wAAAAABAAIAAQABAAEAAQACAAIAAQABAAAAAAAAAAAAAAAAAAAAAAAAAAAAAAAAAAIAAgACAAIAAgACAAIAAgABAAIAAQABAAEAAAAAAAAAAAAAAAEAAAABAAAAAAABAAIAAgACAAEAAQABAAEAAQAAAAAAAAAAAP/////+////AAAAAAAA/////wAAAAABAAEAAAABAAAAAAAAAAAAAAAAAP////////7//v/+////AAAAAP///////wAAAQABAAAAAAAAAAAAAAAAAAAA/////////v/+/////////wAAAAAAAAAAAAAAAAAAAAAAAAAAAAAAAP//////////AAD//////v/+////AAAAAAAAAAD///////8AAAAAAAAAAP///v//////AAAAAAAAAAAAAP//AAAAAAAAAAAAAAAAAAAAAAAAAAAAAAAAAAAAAAAAAAAAAAEAAQABAAEAAQACAAIAAQACAAIAAgACAAEAAAAAAAAAAQABAAAAAAAAAAAAAgACAAIAAgACAAIAAwACAAIAAgACAAIAAQABAAAAAAAAAAEAAAAAAAAAAAAAAAEAAQABAAIAAgABAAEAAQABAAEAAgABAAAAAAD/////AAAAAAAAAAD/////AAD//wAAAAAAAAAAAAD//wAAAAAAAAAA///+//3//v/+//3//f/+//3//f/+//3//v//////AAD////////////////+//7//v/9//3//P/9//3//v///////v///wAAAAACAAEAAAAAAAAAAAAAAAAAAAAAAAAAAAD///////8AAAAAAQABAAAAAQACAAMAAwADAAMAAgABAAEAAAAAAAEAAAAAAAAAAAAAAAAAAQABAAEAAgABAAEAAgACAAIAAgACAAEAAAAAAAAAAAAAAAAAAAAAAAAAAAAAAAEAAQABAAEAAQABAAAAAAABAAEAAQAAAAAAAAAAAAAAAQABAAAAAAAAAAAAAAAAAAAAAQAAAAAA////////AAAAAP///v//////AAAAAAAAAAAAAAAAAAAAAAAAAAAAAAAAAAD///7//v/////////+//7//v//////AAAAAAAAAAAAAAAAAAABAAEAAQAAAAAAAAD//wAA///////////+//7////+////AAAAAAAAAAAAAAAAAQAAAAEAAAAAAAAAAAD////////////////9//3//v///wAAAAAAAP//AAAAAAAAAAABAAAAAQAAAAAAAAD//wAAAAAAAP///////wAAAAAAAAAAAAABAAAAAQABAAEAAQACAAIAAQABAAAAAAACAAIAAQABAAAAAAABAAEAAQABAAEAAAAAAAAAAAAAAAAAAQABAAAAAAAAAAEAAgACAAIAAQACAAIAAQABAAEAAAAAAAAA///+//7//////wAAAAAAAAAAAAABAAEAAwADAAMAAgABAAEAAAAAAAAAAAD+//7//f/9//7//v/+//7/AAD//wAAAAAAAAEAAgACAAAAAAAAAAAAAAAAAP7//f/9//3//f/8//3//f/+////////////AAABAAEAAQABAAAAAAABAAAAAAAAAP////////7//v/+//////////////8AAAAAAQABAAEAAAABAAEAAQABAAEAAAAAAAAA//8AAP///////wAA/v////////8AAAAAAAAAAAEAAAAAAAEAAQABAAEAAQAAAAAAAAAAAAAAAAAAAAAAAAAAAAAAAAAAAAAAAQAAAAEAAQAAAAEAAgACAAEAAgABAAEAAQABAAAAAQABAAAAAAAAAAAAAAAAAAAAAAD//wAAAAAAAAAAAAABAAAAAQABAAEAAAABAAAAAAAAAP//AAD//wAA//8AAP7/////////AAAAAAAAAAABAAEAAQABAAEAAQABAAEAAAAAAP////8AAAAA/////////v8AAAAAAAAAAAEAAAAAAAAAAAAAAAAAAAAAAAAA///////////+/////v/+//7//v/+/wAA/////wAA//8AAAAAAAAAAAAAAAAAAAAAAAD/////AAAAAAAAAAAAAAAAAAAAAAAAAAAAAAAAAAAAAAAAAAAAAAAAAAAAAAAAAAAAAAAAAQABAAAAAAAAAAAAAAABAAAAAAAAAAAAAAAAAAAAAAAAAAAAAAD//wAAAAAAAAAAAAAAAAAAAAAAAAAAAAAAAAAAAAAAAAAAAAAAAAAAAAAAAAAAAAABAAEAAQABAAEAAQABAAEAAQABAAIAAgABAAEAAAABAAEAAQABAAEAAQABAAEAAQABAAIAAgABAAIAAQABAAEAAQABAAEAAQAAAAAAAAAAAAAAAAAAAP//AAAAAAAAAAAAAAAAAAAAAAAAAAAAAAAAAAAAAAAAAAAAAAAAAAAAAAAAAAAAAP////8AAAAAAAAAAP//AAAAAAAAAAAAAAAAAAAAAAAA///////////////////+//7//v////7//v/+//3//v/+//7//P/+//7//v/+//7//f/+//////////7////+/////////////////wAAAAAAAAAAAAAAAAEAAAABAAAAAQABAAIAAgABAAIAAgACAAEAAgACAAIAAgACAAIAAwADAAIAAwADAAMAAwACAAIAAgADAAMAAgABAAIAAQABAAEAAAABAAAAAQAAAAAAAAAAAAAAAQABAAAAAQAAAAAAAQABAAAAAAAAAAAAAAAAAAAAAAAAAAAAAAAAAAAAAAAAAAAAAAAAAAAAAAAAAAAAAAAAAAAAAAAAAAAAAAAAAAAAAAAAAAAA/////////////////////////v/////////+/////v/+/////v/+//7//v/////////+////////////AAD/////AAAAAAAAAAAAAAAAAAAAAAAAAAAAAAAAAAAAAAAAAAAAAAEAAAAAAAEAAAAAAAAAAAABAAAAAAAAAAAAAAABAAAAAAAAAAAAAAAAAAAA//8AAP//AAD//////////wAAAAAAAP//AAD//wAAAAAAAAAA//8AAAAAAAAAAAAAAAAAAAAAAAAAAAAAAAAAAAAAAAAAAAAAAQABAAEAAgABAAIAAgADAAIAAgACAAIAAgACAAIAAQACAAEAAQABAAEAAQABAAEAAQABAAAAAgABAAEAAgABAAEAAQABAAEAAQAAAAAAAAAAAAAAAAAAAAAAAAAAAAAAAAAAAAAAAAAAAAAAAQAAAAAAAAAAAAAAAAAAAAAAAAAAAAAA////////AAD//////////wAA////////AAD////////////////+//7//v/+//7//f/9//3//f/9//3//f/9//3//f/+//7//v/+//7////////////+////AAD/////////////AAD//wAA//8AAAAAAAAAAAAAAQAAAAEAAQACAAEAAgACAAEAAwACAAEAAQACAAAAAgAAAAEAAQAAAAEAAQABAAEAAgABAAIAAQABAAIAAQACAAEAAgABAAEAAQABAAAAAAABAAAAAQAAAAAAAAAAAAAAAAAAAAAAAQAAAAEAAQABAAIAAgABAAEAAQABAAEAAAAAAAAAAAAAAAAAAAAAAAAAAAAAAAAAAAAAAAAAAAAAAAAAAAAAAAAAAAAAAP////////7////+/////v////////8AAAAAAAD//wAAAAAAAAAAAAAAAAAAAAAAAAAAAAAAAAAAAAAAAAAAAAAAAAAAAAABAAAAAQAAAAAAAAABAAAAAAAAAAAAAAAAAAAAAAABAAAAAAAAAAAAAAAAAAAAAAAAAP///////////v////7//v////7////+/////v/////////////////+/////v////7//f/+//7////+//7//f//////////////AAAAAAAAAAAAAAAAAQAAAAAAAAAAAAAAAAAAAAAAAAAAAAAAAAAAAAAAAAAAAAAAAAABAAEAAQACAAEAAQACAAIAAQABAAEAAQABAAEAAAAAAAAAAAABAAEAAQABAAIAAgACAAMAAwAEAAQABAAEAAUABAAEAAQAAwAEAAQAAwACAAMAAgADAAIAAQACAAEAAgACAAIAAgACAAIAAgACAAIAAgABAAIAAQABAAAAAAD//////v/9//3/+//8//v/+//7//z/+//8//3//f/+//3//v/+///////+//3//f/8//z//P/6//r/+f/6//r/+//7//z//f/9//////8AAAAAAQABAAEAAQAAAAAA//8AAP/////+//3//f/9//7//v/+//7/AAAAAAAAAQABAAEAAgACAAIAAQAAAAAAAAAAAAAA/////////////wAA//8AAAAAAAABAAIAAgADAAMAAwAEAAMAAwADAAMAAwADAAIAAgABAAIAAgACAAIAAQACAAMAAwACAAMAAwADAAQAAwADAAMAAwACAAMAAgACAAAAAAAAAAAAAQAAAAAAAAAAAP//AAD/////AAD//wAAAAAAAAAAAAAAAAAAAAAAAAAAAAAAAAAAAAAAAAAAAAAAAAAAAAAAAAAAAAAAAAAAAAAAAAEAAgACAAMAAwACAAIAAwADAAMAAgAAAAAAAAAAAAAA//////7//v/+//7//v////////8AAP///////wAA//////7//f/8//z//P/7//v/+v/6//r/+v/6//v/+//7//3//P/9//3//f/+/////////////v/+//7///////7//v/+////////////AAAAAAAAAAAAAAAAAAABAAIAAgABAAEAAQABAAIAAgABAAEAAQACAAEAAQAAAAEAAQACAAEAAAABAAEAAwADAAIAAgACAAIABAAEAAQABAADAAQABAAEAAQAAwADAAMAAwADAAMAAgADAAQABAAFAAQABAAFAAUABQAGAAYABQAFAAQABAADAAMAAgABAAAAAAAAAP///v/+/////////////v///wAAAAAAAAAA/////////v/9//z/+//6//n/+f/4//f/+P/5//r/+//6//v//f/+/wAAAAD/////AAAAAAAA///+//7//f/9//z//P/8//z//f/+//////8AAAAAAQADAAIAAwACAAIAAgACAAEAAAAAAAAAAAD//////v/+//////8AAP///////wAAAAABAAEAAAAAAAAAAAAAAAAAAAAAAAAAAAAAAP//AAAAAAAAAAAAAAAAAAAAAAEAAgACAAIAAgACAAMAAwADAAMAAgACAAIAAQABAAEAAAABAAAAAAAAAAAAAAABAAEAAQABAAEAAQABAAIAAgABAAEAAQAAAAAAAAD/////AAD////////+//////8AAAAAAAAAAAAAAAABAAEAAQACAAEAAgACAAEAAQABAAEAAgABAAAAAAAAAAEAAgABAAEAAQAAAAEAAgACAAIAAgACAAIAAgACAAEAAQABAAEAAAAAAP///v///////v/+//3//f/+//7////+//7////////////+/////v/9//3//P/8//z/+//8//3//P/8//z//f/+/////////wAAAAAAAAAAAAAAAAAAAAD/////////////AAAAAAAAAAAAAAAAAAABAAEAAQAAAAEAAAABAAAAAAABAAAAAAAAAAAAAAAAAAAAAAAAAAAAAAAAAAAAAAAAAAAAAAAAAAAAAAAAAAAAAAABAAAAAAAAAAEAAQABAAEAAAABAAAAAAAAAAAAAAABAAEAAAABAAEAAgACAAIAAgACAAMAAwACAAIAAgACAAMAAgABAAEAAQABAAEAAQAAAAAAAAAAAAEAAAAAAAAAAAABAAAAAAAAAAAAAQABAAAAAAAAAAAAAQAAAAAAAAAAAAAAAAAAAAAAAAAAAAAAAAAAAAAAAAAAAAEAAQAAAAAAAAABAAEAAQAAAAAAAAAAAAAAAAAAAP//AAAAAAAAAAAAAAAAAAAAAAAAAAAAAAAA/////////v/+//3//f/8//3//P/9//z//P/9//3//f/9//7//v////7//v/9//3//f/9//7//f/8//z//P/8//3//f/8//3//f/+/////v///wAAAAAAAAAAAAAAAAAAAQABAAEAAQAAAAEAAgABAAEAAQAAAAEAAQABAAEAAQABAAIAAgACAAIAAgADAAQAAwADAAMAAwAEAAMAAwACAAIAAgACAAEAAQABAAEAAgABAAIAAgACAAIAAwADAAMAAwACAAIAAgACAAEAAQABAAEAAQAAAAEAAQACAAEAAgACAAIAAgACAAIAAgADAAIAAgABAAEAAQABAAAAAAAAAP//AAD/////////////AAD/////AAD//wAAAAAAAAAA/////wAAAAD///7//f/+//3//f/7//v/+//7//v/+//7//v//P/8//3//v/+//7//////wAAAAD//wAA/////////v/9//3//f/9//3//P/9//3//v/+//7///8AAAAAAAAAAAAAAQAAAAAAAAAAAAAAAAD//////////////v//////AAAAAAAAAAAAAAAAAAAAAAAAAAAAAAAAAAAAAAAAAAAAAAAAAQAAAAAAAAABAAIAAwADAAMAAwAEAAYABAAGAAQABQAFAAUABQAEAAQAAwAEAAMAAwACAAIAAgADAAQAAwAEAAMABQAFAAYABQAGAAYABgAGAAUABQADAAQAAgACAAAAAAAAAP/////+//7//f/+//7//v////////8AAAAAAAAAAAAAAAAAAAAAAAD///7////+//3//f/9//z//P/8//v//P/8//3//P/9//3//f////7//v/+/////v////7//v/+//7//v/9//3//P/9//z//f/9//3//f/8//3//f/+//3//P/9//3//f/9//3//P/9//3//P/9//3//f/+/////v8AAAAAAAAAAAEAAQACAAIAAQACAAIAAgABAAEAAAABAAAAAAAAAAEAAAABAAIAAQADAAQABAAEAAYABgAHAAYABgAHAAYABwAFAAUABAAEAAMAAgABAAEAAQAAAAEAAAAAAAAAAAAAAAEAAgABAAIAAQADAAMAAwADAAMAAwADAAMAAgACAAEAAQABAAAAAAAAAAAAAAAAAAAAAAAAAAAAAAABAAEAAQABAAEAAQACAAEAAQAAAAEAAQAAAAAAAAAAAAAAAAAAAAAAAAD//////v////7//v/9//3//f/8//z/+//7//v//P/7//v/+//7//3//P/8//z//f/9//7//v/9//7//f/9//3//f/8//z//P/7//z//P/8//v//P/8//3//f/9//7///8AAAAAAAAAAAEAAQACAAIAAgABAAEAAQAAAAAAAAAAAAAAAAD//////////wAAAAAAAAAAAQABAAEAAgACAAIAAwADAAMAAwACAAMAAwADAAIAAgACAAIAAgACAAIAAgADAAIAAwACAAMAAwADAAMAAwAEAAMABAADAAQABAAEAAQABAAEAAQABAADAAQABAAEAAMAAwACAAIAAgACAAEAAQABAAAAAAAAAAAAAAAAAP////////7/////////////////AAD//wAAAAAAAAAAAAAAAP/////+//7//v/9//z//P/8//v//P/7//v//P/9//3//f/+//7/AAAAAAAAAAAAAAAAAAAAAAAAAAD///7//v/+//3//f/8//z//f/9//3//P/9//7///////7//v8AAAAAAAAAAP//AAAAAAAAAAD/////AAAAAAAA//////////8AAAAAAAD/////AAAAAAAAAAAAAAAAAQACAAEAAAABAAIAAgACAAEAAQACAAIAAgADAAIAAgACAAIAAwADAAMAAgADAAMAAwACAAEAAQACAAIAAQABAAAAAQACAAEAAQACAAIAAgADAAIAAwADAAMAAgADAAIAAwACAAEAAQABAAEAAAAAAAAAAAAAAAAAAAAAAAAAAAAAAAAAAAAAAAAAAAABAAEAAQABAAAAAAABAAEAAAAAAP////////7//v/9//3//f/+//7//v/9//7//////wAA////////AAAAAAAA/v////////////3//f/9//7//v/+//3//f/+//7///////7//v///////////////////////////////////wAAAAAAAAAAAAAAAAAAAAAAAAAAAAAAAAAAAAD//wAAAAAAAAAAAAAAAAAAAAAAAAAAAAAAAAAAAAABAAEAAQAAAAEAAQACAAIAAQABAAEAAgACAAEAAAABAAEAAQABAAAAAAAAAAAAAAAAAAAAAAAAAAEAAgACAAIAAQACAAIAAwACAAIAAQACAAIAAQAAAAAAAAAAAAAAAAAAAAAAAAAAAAAAAQABAAEAAQABAAIAAgABAAEAAQABAAEAAQABAAEAAAAAAAAAAAAAAAAAAAAAAAAAAAAAAAAA//8AAAAAAAAAAP////8AAAAAAAD//////////wAA//////7//v///////v/+//7//v///////v/9//7//////////f/+//7////+//7//f/+//7//v/+//7//////wAAAAAAAAAAAAAAAAAAAAAAAAAA//8AAAAAAAD/////AAAAAAAA/////wAAAAAAAAAAAAAAAAEAAQAAAAAAAQABAAEAAQAAAAAAAQAAAAAAAAAAAAAAAAAAAAAAAAAAAAEAAQACAAEAAQABAAIAAwACAAIAAQACAAIAAgABAAEAAAABAAEAAAAAAAAAAAAAAAIAAQABAAEAAQACAAMAAgABAAEAAQACAAEAAAAAAAAAAAAAAAAA////////AAAAAAAAAAAAAAAAAAAAAAAAAAAAAAAAAAAAAAAA///////////+/////v///////////wAAAAAAAAAAAAAAAAAAAAAAAAAAAQAAAAAAAAAAAAAAAAD//wAAAAD/////////////AAD//wAAAAAAAAAAAAAAAAAAAQAAAAAAAAAAAAAAAAD///7////+//7//v/+//7//v///wAAAAAAAAAAAAABAAEAAQAAAAAAAAAAAAAAAAD//wAA//////7//v//////AAD//wAAAAAAAAAAAQACAAIAAgAAAAIAAQABAAAAAAAAAAAAAAD//wAA/v8AAP//AAAAAAAAAAAAAAEAAQACAAEAAgABAAEAAQAAAAEAAAAAAAAAAAD/////AAAAAAAAAAAAAAAAAAAAAAEAAgACAAIAAgACAAIAAgACAAEAAgABAAAAAAAAAAAAAAAAAAAAAAAAAAAAAAAAAAAAAQABAAEAAQAAAAEAAQABAAEAAAAAAAAAAAAAAAAA//////7//v////7///////////8AAP//AAAAAAAAAAAAAAAAAAAAAAAAAAAAAAAA///+/////v////////////////8AAAAAAAABAAAAAQABAAEAAQABAAAAAAABAAAAAAD///////8AAAAA////////AAAAAAAAAAAAAAAAAQABAAEAAAAAAAEAAAABAAAAAAD/////AAAAAP///v////7/AAAAAAAAAAAAAAEAAQABAAAAAQABAAIAAQABAAAAAAAAAAAAAAAAAP////8AAAAAAAAAAAAAAAABAAAAAQABAAEAAQACAAEAAQABAAAAAAAAAAAAAAAAAAAA//8AAP//AAD//wAA//8AAAAAAAAAAAAAAAABAAEAAAABAAAAAAABAAEAAAAAAAAA//8AAAAAAAD//////////wAAAAAAAAAAAQABAAIAAQAAAAIAAQADAAIAAQAAAAAAAAABAAAA//8AAP//AAAAAAAA//8AAAAAAQAAAAAAAAAAAAIAAQAAAAAAAAD//wAAAAD//////v/+//7//v/+//7//v////////8AAP//AAAAAAAAAAAAAAAAAAAAAAAAAAD//wAA///////////+/////////wAAAAAAAAAAAQABAAIAAQACAAEAAQACAAEAAQABAAAAAAAAAAAAAAD//////////wAA//8AAAAAAAAAAAEAAAABAAEAAQACAAIAAQAAAAEAAAAAAAAAAAD////////+/////v8AAP//AAAAAAAAAAAAAAIAAgACAAEAAwAAAAIAAQABAAEAAAAAAAAAAAD//wAA//8AAAAAAAAAAAAAAAAAAAEAAQACAAEAAQABAAAAAQAAAAAAAAAAAP//AAD+///////+////////////AAAAAAAAAAAAAAAAAAABAAAAAAAAAAAAAAAAAP////////////////////8AAAAAAAAAAAEAAQABAAIAAgACAAIAAgACAAIAAAABAAAAAAAAAAAA/////////v8AAP7//////wAAAAAAAAAAAAABAAEAAQAAAAEAAAAAAAAAAAD///7//v/9//7//f/9//3//f/+//7//v///wAAAAAAAAAAAQAAAAEAAgABAAEAAQABAAAAAQAAAAAAAAAAAAAAAAAAAAAAAAAAAAEAAQABAAEAAgACAAIAAgACAAMAAQADAAAAAAAAAAAAAAAAAP////8AAP//AAAAAAAAAAAAAAAAAAAAAAAAAAAAAAAAAAD///////8AAAAA///+/////v8AAP////8AAAAAAAAAAAAAAAAAAAAAAQABAAAAAAAAAAAAAQAAAAAAAAAAAAAAAAAAAAAA/////wAA//8AAAAA//8AAAAAAAAAAAAAAAABAAAAAAAAAAAAAAAAAAAA//////7//v/9//7//v/9/////v///wAAAAAAAAAAAAABAAIAAQACAAEAAQABAAEAAQABAAAAAAAAAAAAAAAAAAAAAAAAAAAAAQABAAEAAgACAAIAAgABAAEAAgACAAIAAQAAAAAAAAAAAAAAAAAAAAAA//8AAP///////////////////v//////AAAAAP////////////8AAP///////////////wAA//8AAAAAAAAAAAAAAAAAAAEAAQACAAAAAQABAAEAAAABAAAAAAABAAAAAAAAAAAAAAABAAEAAQAAAAAAAAABAAIAAQABAAEAAAAAAAEAAAAAAAAAAAAAAP///////////v/+//3//v/9//7//////////////wAAAAAAAAEAAQAAAAEAAAAAAAAAAAD//wAA//////7//v////7/AAAAAAAAAAABAAAAAgACAAIAAgACAAIAAgACAAAAAAAAAAAAAAAAAP///////wAAAAAAAAAA//8AAAAAAAAAAAAAAAAAAAAAAAAAAAAAAAAAAAAAAAAAAP//AAAAAAAAAAAAAAAAAAAAAAEAAAABAAAAAAABAAIAAQACAAIAAQACAAIAAQABAAEAAQABAAAAAAAAAAAAAQAAAAEAAAAAAAEAAgABAAEAAQABAAEAAAAAAAAAAAD///7//v/+//7//f/9//3//v/9//7//v//////////////AAAAAAAAAAD//////////wAA//////7//v/+//7/AAAAAP//////////AAAAAAAAAQABAAEAAQACAAEAAgACAAIAAQABAAAAAAABAAAAAAAAAP////8AAAAAAAAAAAAAAAABAAEAAQAAAAAAAAAAAAAAAAAAAAAA/////wAA//////////8AAAAAAAAAAAAAAQABAAEAAAAAAAAAAQABAAAAAAAAAAAAAAABAAAAAQAAAAEAAAABAAIAAgABAAEAAQAAAAEAAQABAAEAAQAAAAAAAAAAAAEAAQAAAAAAAAAAAAAAAAAAAP/////+////////////AAD/////AAAAAAAAAAAAAAAAAAAAAAAAAAAAAP////////////8AAP//AAAAAAAAAAABAAEAAQABAAAAAQACAAIAAQABAAAAAAABAAAAAAAAAAAAAAAAAAAAAAAAAAAAAAAAAAAA//8AAAAAAAAAAAAA/////wAAAAAAAAAAAAD/////AAAAAAAA//////7////+////////////AAD//wAAAAAAAAAAAAAAAAAAAAAAAAAAAAAAAAAAAAAAAAAAAQAAAAAAAAABAAEAAgACAAEAAQAAAAAAAQABAAEAAAAAAAAAAAAAAAAAAAAAAAAAAAAAAAAAAAAAAAAAAAAAAP////8AAAAAAAAAAP////8AAAAAAAAAAAAA//8AAAAAAAAAAAAAAAAAAAAA//8AAAAAAAAAAAAAAAABAAEAAgACAAIAAQABAAEAAQABAAEAAAAAAAAAAAAAAAAAAAAAAAEAAAABAAAAAQABAAEAAQAAAAAAAAAAAAAAAAD///////8AAAAAAAD//////////wAAAAD//////////wAA//8AAAAAAAAAAAAAAAAAAAAAAAAAAAAAAAAAAAAAAAAAAAAAAAAAAAAAAAAAAAEAAQAAAAEAAAACAAEAAgABAAAAAAAAAAAAAAAAAP7//////wAA////////AAAAAAAAAAAAAAAAAAAAAAAAAAD//////////////v/+//7//v///////////wAAAAAAAAAAAAAAAAAAAQAAAAAAAQAAAAEAAAAAAAAAAAAAAAAAAAAAAAAAAAAAAAEAAAABAAAAAQABAAEAAQABAAEAAQABAAEAAQAAAAAAAAAAAAAAAAD/////////////////////AAAAAAAAAAAAAAAAAAABAAAAAAAAAAAAAAAAAAAA//8AAP//AAAAAAAAAAAAAAAAAAABAAEAAQABAAIAAgACAAIAAQABAAEAAQABAAEAAAAAAAAAAAAAAAAAAAD///////8AAAAAAAAAAAAAAAAAAAEAAAAAAAAAAAAAAAAA///+//7//v/+//3//f/8//3//v/+//7//v///wAAAQAAAAEAAQABAAEAAQAAAAAAAAD////////+//7///////////8AAAAAAQABAAEAAgACAAIAAgACAAEAAQAAAAAAAAAAAP////////////////////8AAAAAAAAAAAAAAAAAAAAAAAAAAAAAAAAAAAAAAAAAAAAAAAAAAAAAAAAAAAAAAAD//wAAAAAAAAAAAAAAAAEAAQACAAMAAwADAAIAAwACAAIAAgABAAEAAAAAAAAAAAD//wAAAAAAAAAAAAAAAAAAAQABAAEAAQABAAEAAgABAAAAAAAAAAAAAAD///7//v/+//7////+//7//v8AAP//AAAAAAAAAAABAAEAAQABAAAAAQABAAEAAAAAAP//AAAAAP///v/+//7//////wAAAAAAAAAAAQABAAEAAQACAAIAAQABAAAAAAD//////v/+//z//P/8//3//f/9//7///8AAAAAAAAAAAEAAQABAAAAAAAAAAAA//////7//f/9//7//f/9//7//v8AAAAAAAAAAAEAAQACAAIAAQABAAEAAQABAAEAAAAAAAEAAQAAAAAAAAAAAAEAAQAAAAAAAAAAAAAAAQAAAAAAAQABAAIAAQACAAEAAwACAAMAAgACAAEAAQABAAAAAAD//wAA//8AAP////8AAAAAAAABAAEAAgADAAMAAwACAAIAAgABAAEAAAAAAAAA//////7//v/+//////8AAAAAAAAAAAEAAQABAAEAAAABAAAAAAD//////v////7//f/8//3//f/+//7//f/+////AAD//wAA//8AAAAAAAAAAAAAAAAAAAAAAAD+//7//v/+/////v/+//7//////wAAAAAAAAEAAgACAAMAAgACAAMAAwACAAEAAQAAAAAAAAD///////8AAAAA////////AQABAAEAAQABAAIAAgADAAEAAgAAAAEAAAAAAP///////wAAAAD///////8AAAAAAAAAAAAAAAABAAAAAAD//wAAAAABAAAAAAAAAAAAAQABAAEAAAAAAAAAAQAAAAAA//8AAAAA//////////8AAAAAAAAAAAAAAQACAAIAAQABAAEAAQAAAAAA/v/////////+//7//v///wAAAAAAAAEAAgADAAQAAwACAAIAAwACAAEAAAD///7/AAD///7//v/9/wAAAAABAAAAAgABAAQABAADAAIAAgADAAIAAgAAAP///v////7//f/8//z//v/+//7//f/+////AAAAAP///////wAAAAAAAP///v////7////+//7//f/+//7//f/+//3//v/+/////v//////AAAAAAAAAAAAAAEAAgABAAEAAAABAAEAAgABAAAAAAAAAAIAAAABAAAAAgACAAMAAgACAAMAAgADAAIAAgAAAAEAAQABAAEAAAAAAAAAAQABAAEAAAABAAIAAgACAAEAAQABAAEAAgAAAAAAAAAAAAAAAQAAAAAAAAAAAAAAAAAAAAAAAAAAAAAAAAD/////AAAAAAAA//8AAAAAAQABAAAAAAABAAEAAAAAAP/////+//7//f/8//v/+//7//v//P/9//7//v///wAAAAABAAEAAQABAAAAAAD//////v/+//z//P/8//3//f/+//7//v8AAAAAAgACAAMAAgACAAMAAgACAAEAAQAAAAAAAAAAAAAAAAABAAEAAQABAAMABAAEAAQAAgADAAMAAwACAAEAAAAAAAAA//////3////+////AAD//wAAAAAAAAAAAQAAAAAAAAAAAAAAAAAAAP////////7//v/9//7//v////3//v/+//7/AAAAAAAA//8AAAAAAgACAAIAAgABAAIAAgACAAEAAQAAAAAAAAAAAAAAAAAAAAAAAAAAAAAAAQAAAAEAAAACAAEAAgABAAEAAQAAAAEAAAABAAAAAQAAAAAAAAAAAAIAAQABAAAAAAAAAAEAAAAAAAAAAAAAAAAAAAAAAAAAAAAAAAAAAAAAAAAAAQAAAAAAAAAAAP//////////AAD/////////////AAAAAAAAAAD//////v////3//P/7//v/+//7//r/+v/7//z//v/+//7/AAAAAAEAAAABAAAAAAAAAAAA/v/8//v/+//9//3/+//6//v//v8AAAIAAAABAAIABQAGAAUABQAFAAUABAAEAAEAAQACAAEAAgAAAAAAAAACAAMABAAEAAMABAAEAAYABQAFAAMAAwAEAAMAAgAAAAAAAAACAAEAAAAAAAAAAQABAAEAAAABAAEAAQAAAAAAAAAAAAAAAAD///7//v/////////+//7//////////v/+/wAAAAAAAAAA/v///wAAAAAAAAAA/v/////////+//7//////////f/9//3///8AAAAA///+//7///8AAAAAAAD+//7///8AAAAAAAD/////AAAAAAAAAAAAAAAAAAABAAAAAAAAAAAAAAAAAAAA//8AAAAAAAAAAAAAAQACAAQAAwADAAEAAwADAAMAAwACAAEAAAAAAP////8AAAAAAAD//////v8AAAAAAQABAAEAAQAAAAAAAAABAAAAAAD+//7//f/9//7//v////7//v/9//////8AAAEAAAAAAP7//////wAA/v/+//7//f/+//3/AAAAAAEAAQAAAAEAAgADAAMABAACAAMAAgABAAIAAAAAAAAAAAAAAAEAAQAAAAEAAQADAAQABQAEAAQAAwADAAQAAwAEAAIAAgAAAAAAAAAAAAEAAAAAAAAAAAAAAAEAAgACAAIAAAABAAAAAQABAAAAAAAAAP///f////3///8AAP///v/+//////8AAAAAAAAAAAAA/////wAA//8AAP7//v/9//3//P/9//3//f/+//3//f/9/////v///////v8AAAAAAAD+//////8AAAAA///+//3//v/+///////////////+/wAAAAAAAAEAAQAAAAAAAAAAAAIAAgACAAAAAAAAAAEAAgACAAMAAgABAAEAAgACAAMAAwACAAEAAQABAAAAAQAAAAIAAgABAAAAAQACAAIAAwADAAIAAgACAAEAAQABAAAAAAAAAP////8AAP////////////8AAP//AAAAAAAAAgAAAAAAAAAAAP//AAD//////v/+//7//P/+//7///8AAAAAAAAAAAAAAAABAAIAAgAAAAAA//8AAAAAAAAAAP/////+/wAAAAAAAAEAAQABAAIAAQAAAAMAAgADAAMAAQAAAAAAAQAAAAEAAAAAAP//AAAAAAAAAAAAAAAAAAAAAAAAAAAAAAAAAAAAAAAAAAD///7/AAAAAAAAAAD/////AAAAAP//AAAAAP////8AAP3//v////////////7//v////7/AAAAAAAAAAAAAP//AAAAAAAAAAAAAP////8AAP7///8AAAAA/////////v8AAAAAAAAAAAAAAAAAAAAAAQABAAAAAQAAAAAAAAAAAAAAAAAAAAAAAAAAAAEAAAABAAEAAgABAAIAAQABAAMAAgACAAIAAgABAAIAAQABAAIAAgACAAAAAQAAAAEAAgACAAIAAQABAAEAAQABAAIAAgABAAAAAAAAAAAAAAAAAAAAAAD///7//v//////AAAAAP///v////////8AAP/////+//3//f/9//3//v/+//3//v/+//7//v////////8AAP///v8AAAAA//8AAAAA//8AAAAA//8AAAAAAAAAAAEAAQABAAEAAQACAAIAAQAAAAAAAAAAAAAAAAAAAAEAAAAAAAEAAAABAAMAAgABAAIAAQAAAAIAAAAAAAAAAAD///////8AAAAAAAAAAP//AAAAAAEAAAABAAEAAAAAAAAAAAAAAAEAAAAAAAAAAAAAAAAAAAAAAAAAAAABAAAAAAABAAEAAQABAAEAAAAAAAAAAAAAAAAAAAAAAAAAAAAAAAAAAQAAAAAAAAAAAAAAAAAAAAAAAAAAAAAA//8AAAAAAAAAAAAAAAD//wAAAAD//wAAAAD/////////////AAAAAAAAAAAAAAAAAAAAAAEAAQAAAAIAAAAAAAAAAAAAAAAAAAD//wAAAAAAAAAAAAAAAAAAAQAAAAAAAAAAAAEAAAAAAAAAAAD//wAAAAD//wAAAAD+////AAD/////AAD/////AAAAAP//AAAAAAAAAAAAAAAAAAAAAAAAAAAAAAAAAAAAAAAAAAAAAAAAAQAAAAAAAQABAAEAAwACAAIAAgADAAIAAwADAAIAAgABAAEAAAAAAAAAAAAAAAAAAAAAAAAAAAAAAAAAAgABAAEAAQABAAEAAQABAAAAAAD//////v/+//7//f/+//7//v/+/////v//////AAAAAP///////wAAAAAAAP7//v/+/////v/+//7//v////////////////8AAAAAAAAAAP//AAAAAAAAAAAAAP//AAAAAAAAAAAAAAAAAAAAAAAAAAAAAAAAAAAAAAAAAQAAAAAAAQABAAEAAQABAAAAAgABAAAAAAABAAAAAAAAAAAAAAAAAAAAAAAAAAAAAAABAAEAAgABAAEAAgACAAIAAgACAAEAAQABAAAAAAAAAAAAAAAAAAAAAAAAAAAAAAAAAAAAAAABAAAAAAABAAEAAAAAAAAAAAAAAAAA//8AAAAA//8AAP///v///////////wAA//8AAAAA//8AAAAAAAAAAAAAAAAAAAAAAAAAAAAAAAAAAAAA//8AAAAAAAAAAAAAAAAAAAAAAAAAAAAAAAAAAAEAAQAAAAAAAAAAAAEAAAAAAAAAAAAAAAAAAAAAAAAAAAAAAAAAAAAAAAAAAAAAAAAAAAAAAP//AAAAAAAA//////////8AAP///////wAA//8AAP///////wAAAAAAAAAA//8AAP//AAAAAAAA//8AAAAAAAAAAAAAAAAAAAAA//8AAAAA//8AAAAAAAAAAAEAAAACAAIAAgADAAIAAgADAAMAAgACAAEAAQABAAAAAAAAAAAAAAAAAAAAAAAAAAIAAQABAAIAAwACAAMAAgABAAIAAQAAAAAAAAD//wAA////////AAD//wAAAAAAAAAAAAAAAAAAAQAAAAAAAAD//wAAAAD/////AAD+/wAA/////wAAAAD//wAAAAD//wAA/////wAAAAD///////8AAAAAAAAAAAAAAAAAAAAAAAAAAP///////////////////v////////8AAAAAAAAAAAAAAAAAAAAAAAAAAAAAAAAAAP////8AAAAAAAAAAAAAAAABAAEAAQABAAIAAgACAAIAAgABAAIAAQABAAEAAQAAAAAAAAAAAAEAAQAAAAAAAQABAAEAAQAAAAEAAQAAAAAAAAAAAAAAAAAAAAAAAAD/////AAAAAAAAAAD+////AAAAAP/////+////AAAAAP////8AAAAAAQAAAAAAAAAAAAAAAAAAAP//AAAAAAAAAAAAAAAAAAAAAAEAAQABAAAAAQACAAEAAQABAAAAAAABAAAAAAAAAAAAAAAAAAAAAAABAAAAAAABAAEAAAABAAAAAAAAAAAAAAD//////v////////8AAAAAAAAAAAAAAAABAAAAAAAAAAAAAAD//wAA//8AAAAAAAAAAAAAAAAAAAEAAAAAAAAAAAAAAAEAAAAAAAAAAAAAAAAA/////wAAAAAAAAAAAAAAAAAAAQAAAAAAAAAAAAAAAAAAAP//AAD/////AAAAAP//AAAAAAAAAAAAAAAAAAAAAAAAAAAAAAAAAAAAAAAAAAAAAAAAAAABAAAAAAACAAEAAQACAAEAAQABAAAAAAAAAAAAAAAAAAAAAAAAAAAAAAABAAEAAAAAAAAAAAAAAAAA//8AAAAA/////////v///////////wAA//8AAAAAAAAAAAAA/////wAA/////////////wAA/////wAAAAAAAAAAAAAAAAEAAAAAAAEAAAAAAAAAAAAAAAAAAAAAAAEAAAABAAAAAQABAAEAAQAAAAEAAAAAAAAAAAAAAAAAAAAAAAAAAAAAAAAAAQAAAAAAAAAAAAAAAAAAAAAAAAAAAP//////////AAAAAAAAAAAAAAAAAAABAAAAAAAAAAAAAAAAAP//AAD//wAAAAD//wAAAAAAAAAAAAAAAAAAAAAAAAAAAAAAAAAAAAAAAP////////////8AAP//AAAAAAAAAAAAAAAAAAAAAAAAAAAAAAAAAAAAAAAAAAD//wAAAAAAAAAAAAAAAAAAAAAAAAAAAAAAAAAAAQAAAAAAAAAAAAEAAQABAAEAAQABAAIAAQABAAEAAQABAAAAAAAAAAAAAAAAAAAAAAAAAAAAAAAAAAAAAQAAAAAAAAAAAAAAAAAAAP////////7//v////////////////8AAP//AAAAAAAAAAAAAP//////////AAAAAP////8AAAAAAAAAAAAAAAAAAAAAAAAAAAAAAAAAAAAAAAAAAAAAAAABAAAAAAAAAAAAAQABAAEAAQAAAAAAAQAAAAAAAAAAAAAAAAAAAAAAAAAAAAAAAAABAAEAAAABAAEAAQAAAAAAAAAAAAAAAAAAAAAAAAAAAAAAAAAAAAEAAAAAAAAAAQAAAAAAAAAAAAAAAAAAAAAAAAAAAAAAAAAAAAAAAAAAAAAAAAAAAAAAAAD//wAAAAD///7//v/+/////////////v8AAP//AAAAAAAAAAAAAAAAAAAAAP7/////////AAD///7///8AAAAAAAAAAAAAAAAAAAEAAQABAAEAAQABAAEAAQABAAEAAQABAAAAAAABAAAAAQABAAEAAQABAAEAAQABAAEAAgABAAIAAQABAAEAAQABAAEAAQAAAAAAAAAAAAAAAAAAAAAAAAD//wAAAAAAAAAAAAAAAAAAAAAAAAAAAAAAAAAAAAD//wAA/v/+//7////+//7//v/+//////8AAP//AAAAAAAAAAAAAAAAAAAAAAAAAAD//wAA////////AAD/////AAD//wAAAAAAAAAAAAAAAAAAAAAAAAEAAQABAAAAAQAAAAAAAQAAAAEAAAAAAAAAAAAAAAAAAAAAAAAAAAAAAAAAAQACAAIAAgACAAIAAgADAAIAAgACAAAAAQAAAAAAAAAAAAAA////////AAD//wAAAAABAAEAAQABAAEAAQABAAEAAAAAAAAA//////7////9//7//v/9//7//v/+//7/AAD//wAAAAD//wAAAAAAAAAAAAD//wAA//////////////7////+//7/////////AAAAAAAAAAAAAAEAAgABAAEAAgABAAIAAgABAAEAAQABAAAAAAAAAAAAAAAAAAAAAAABAAAAAQABAAIAAgADAAIAAwACAAIAAgACAAIAAQABAAAAAAAAAAAA//8AAAAA//8AAP//AAAAAAAAAAAAAAAAAAAAAAAAAQAAAAAA//8AAAAA//////7//v/+//7//f/9//3//v/+/////v/+//7/AAAAAAAAAAAAAAAAAAAAAAAAAAD//wAA/////////v/+//7////+/wAA/v8AAAAAAAABAAEAAgABAAIAAQACAAEAAgABAAAAAQAAAAAAAAAAAAAAAAAAAAAAAAAAAAEAAQACAAIAAgACAAMAAgADAAIAAgACAAEAAgABAAEAAAABAAAAAAAAAAAAAAAAAAAAAAAAAAAAAAAAAAEAAAABAAEAAAABAAEAAAAAAAAA//8AAP/////+//3//f/+//7//v/+//3//v/+////AAD//wAAAAAAAAAAAAD//wAA/////wAA/v/+//7//v/+//7//v/+//7/AAAAAAAAAAAAAAEAAgABAAIAAgACAAIAAgACAAEAAQAAAAAAAAAAAAAAAAAAAAAAAAAAAAAAAQABAAEAAgACAAIAAwADAAIAAgABAAEAAAAAAAAAAAAAAP///v/+/////v8AAP7///8AAAAAAAAAAAAAAAABAAAAAQAAAAAAAAAAAP////////7//v/9/////v///////////wAAAAAAAAAAAAAAAAAAAAAAAAAAAAAAAAAAAAAAAAAAAAD//wAAAAD//////////wAAAAD//wAAAAAAAAAAAQAAAAEAAgACAAIAAQACAAAAAgAAAAAAAAAAAAAAAAAAAAAAAAAAAAAAAAABAAEAAgACAAMABAADAAMAAgADAAIAAgABAAAAAAAAAAAA//8AAP7/AAAAAAAAAAAAAAAAAAABAAAAAQAAAAEAAAAAAAAA/////////v/+//7//P/+//3//v/9//3//f////7/////////AAD//wAAAAAAAAAAAAD//wAAAAD//wAA/v8AAP/////+/wAA//8AAAAAAAAAAAAAAQAAAAEAAQABAAIAAgABAAEAAQAAAAEAAAAAAAAAAAAAAAAAAAAAAAAAAAAAAAAAAAAAAAAAAQABAAAAAQABAAAAAQAAAAAAAAAAAAAAAAAAAAAAAAAAAP//////////AAAAAP////8AAAAAAAABAAAAAQABAAEAAQABAAAAAAAAAAAAAAD//////v/+////////////AAAAAAEAAAABAAEAAQADAAEAAQABAAAAAAAAAP/////////////+//////8AAAAAAAAAAAIAAQABAAMAAQACAAEAAQAAAAEAAAAAAAAAAAAAAAAAAAAAAAAAAAAAAAAAAQABAAEAAQAAAAEAAAAAAAAAAAAAAAAAAAAAAAAAAAAAAAAAAAAAAAAA//8AAP////////7////+//////////7/////////AAD//wAA//8AAP///////////v////7//f/+//7///////////8AAAAAAAAAAAEAAQABAAEAAQABAAEAAQAAAAEAAAAAAAAAAAAAAAAAAAAAAAEAAAACAAEAAgACAAMAAwACAAMAAgADAAIAAgABAAIAAQAAAAAAAAAAAAAAAAAAAAAAAAAAAAAAAQACAAIAAgABAAEAAQABAAEAAAAAAAAAAAD///7//v/+///////+//7///8AAAAAAAAAAAAAAAAAAAAAAAAAAP////////7//v/+//7//v/+//7////+////AAAAAAAA/////wAAAAAAAAAA//8AAAAAAAAAAAAAAAAAAAAAAAAAAAAAAAAAAAAAAQAAAAAAAQAAAAAAAAAAAAAAAQABAAIAAQABAAIAAgADAAIAAgACAAIAAQAAAAAAAAABAAAAAAD//wAAAAAAAAAAAAAAAAAAAQAAAAEAAQABAAIAAQAAAAAAAAD//wAA///+//3//f/+//////////7/AAAAAAAAAAAAAAAAAQAAAAAAAAD/////AAD///7//v/+//7////+//////8AAAAAAAAAAAAAAAAAAAEAAQABAAAAAAAAAAAAAAAAAAAAAAAAAP//AAAAAAAAAAAAAAAAAAAAAAAAAQACAAEAAQABAAAAAQABAAEAAQABAAAAAAAAAAAAAQABAAEAAAAAAAAAAAABAAAAAAAAAAAAAAABAAAAAAAAAAEAAAAAAAAAAAAAAAAAAAD//wAA//8AAP///v/+//7//////wAA/v/+//7///8AAAAAAAD//wAAAAAAAAAAAAAAAAAAAAD///7//////wAAAAD///////8AAAEAAQABAAEAAQABAAIAAgADAAMAAgACAAEAAQABAAAAAQAAAAAAAAAAAAAAAQABAAEAAgABAAIAAgACAAIAAgACAAEAAAAAAAAAAAAAAP////8AAP////////7//v8AAAAAAAAAAAAAAAAAAAAAAAAAAAAAAAD////////+/////////////f/+////AAAAAAAA/v//////AAAAAAAAAAD///////////////8AAAAA///+/////////wAA//////7////+//////8AAAAA//8AAAAAAAAAAAEAAAAAAAAAAQABAAEAAQAAAAEAAQABAAAAAAAAAAAAAgACAAIAAgACAAIAAwAEAAMABAAEAAQABAACAAIAAgADAAMAAwABAAAAAAABAAIAAgABAAAAAAAAAAEAAQABAAAAAAABAAAAAAAAAAAAAAAAAP///f/9//7///////7//f/9//7//v////////////////8AAAAA//8AAAAAAAAAAAAAAAD//wAA/////wAAAAD/////AAD//wAAAAAAAAAAAAAAAAAAAAAAAAAAAAAAAAAA/////wAAAAAAAAAA///+//7/AAAAAAAAAAD+//7///////7/////////AAD///7///8AAAEAAQAAAAAAAAAAAAIAAgAAAP////8AAAAAAAAAAP////8AAAAAAAABAAEAAgADAAQAAwADAAMAAwADAAIAAQAAAAAAAAAAAP///v/+//////8AAAAAAAAAAAEAAQADAAMAAgACAAEAAAABAAEAAAAAAP7//v/+//////////////8AAAAAAAABAAIAAwADAAMAAQACAAMABAADAAMAAQAAAAAAAQABAAEAAAAAAAAAAAAAAAAAAAAAAAAAAQABAAEAAQABAAIAAgABAAAAAAAAAAAAAAD///7//f/9//3//f/8//r/+//8//3//v/+//3//v///wAAAAAAAAAA//8AAP////8AAP///f/9//z//P/9//z//f/+//7//v//////AAACAAMAAgACAAEAAQADAAQAAgABAAAAAAAAAAAA/////////v/+//7//v///wAAAAAAAAEAAQABAAMAAwADAAQAAgABAAEAAAAAAAAA///+//7//v/+//7//v/+////AAAAAAIAAgADAAQABAAEAAUABgAEAAMAAgABAAEAAQAAAAAAAAD//wAAAAAAAAAAAgACAAIAAgACAAMABQAFAAMAAgABAAEAAgABAAAA//////7//v/+//3//v/+/////v/+//7///8AAAAAAAAAAAAAAAAAAAAAAAAAAP//AAAAAAAA/////////v////7//v/9//////////////8AAAEAAQABAAEAAQACAAMAAgABAAAAAAAAAAAA///9//3//f/8//3//P/8//7////+//////8AAAAAAQAAAAAAAAD//wAAAAD///7//v/8//z//f/8//3//f/+//3////+/wAAAQABAAEAAQABAAAAAgACAAIAAgABAAAAAQABAAAAAAAAAAAAAQAAAAAAAQACAAIAAwACAAIAAwAEAAQABAAEAAMAAwAEAAMAAgABAAEAAQABAAAAAAAAAAAAAAAAAAAAAAAAAAIAAQACAAEAAQACAAMAAgABAAEAAAAAAAAAAAAAAAAA///+////////////AAAAAAAAAAAAAAAAAQABAAEAAQAAAAAAAQAAAAAAAAAAAP//AAD////////+//7//v/9//3//v/9//7//v/+//7/////////AAAAAAAAAAAAAP//AAD///7//v/9//3//f/9//z//f/9//3//v//////AAAAAAAAAQACAAEAAQACAAAAAAAAAAAAAAAAAP////8AAAAAAAAAAAAAAAABAAEAAQACAAIAAgACAAIAAQABAAAAAAABAAAAAAD//wAAAAAAAAAAAAAAAAAAAAAAAAEAAAABAAEAAQAAAAAAAAAAAAEAAAAAAAAAAAAAAAAAAAAAAAAAAAAAAAAAAAAAAAAAAAAAAAEAAgABAAIAAgACAAIAAgACAAIAAwABAAEAAQABAAAAAAAAAAAAAAAAAAAAAAAAAAAAAQABAAAAAQAAAAEAAQACAAAAAAAAAAAAAAAAAAAA/v//////AAD//////v////////////7///////////////////8AAAAA//////////8AAAAA/////////v///////v/+//7//v///////v///////////wAA/////wAAAAD////////+/wAAAAD//wAA//8AAAAAAAAAAAAAAAAAAAAAAAAAAAAAAAD//wAAAAAAAAAAAAAAAAAAAAAAAAEAAgACAAIAAgADAAIAAwACAAIAAgACAAEAAQABAAEAAQACAAEAAQABAAEAAgADAAIAAgACAAIAAgACAAEAAAAAAAEAAQABAAAAAAAAAAEAAQABAAAAAAABAAEAAQAAAAAAAAAAAAAAAAD//////////wAA//////////8AAAAAAAAAAAAAAAAAAAAAAAAAAAAAAAAAAAAA/////wAAAAAAAAAA/////////////wAA/////////////wAAAAAAAAAAAAAAAAAAAAAAAAAAAAAAAAAAAAAAAP/////////////+//7/////////////////AAAAAAAAAAAAAAAAAAAAAAAAAAAAAAAAAAAAAAAAAAAAAP//AAAAAAAAAAAAAAAAAAAAAAAAAAAAAAAAAAABAAAAAAAAAAEAAQABAAAAAAAAAAEAAAAAAAAAAAAAAAAAAAAAAAAAAAAAAAAAAAAAAAAAAAAAAAAAAAAAAAAAAAAAAAAAAAAAAAAAAAAAAAAAAAAAAAAAAQABAAEAAQABAAEAAQAAAAAAAAAAAAAAAAAAAAAAAQAAAAAAAAAAAAEAAQAAAAAAAQAAAAEAAQAAAAAAAAAAAAAAAAAAAAAAAAAAAAAAAAAAAP//AAAAAAAA//////7/////////////////AAAAAAAAAAAAAAAAAAAAAAAAAAD/////AAAAAP//////////AAAAAAAA//8AAAAAAAAAAAAAAAAAAAAAAAAAAAAAAAAAAAAAAAAAAAAAAAAAAAAAAAAAAAAAAAAAAAAAAAAAAAAAAAAAAAAAAAAAAAAA//8AAAAAAAAAAP//AAD///////////////////////8AAAAAAAD//wAAAAAAAAAAAAAAAAAAAAAAAAAAAAAAAAAAAAAAAAAAAAAAAAAAAAABAAAAAQABAAEAAgABAAEAAQABAAEAAQAAAAAAAAAAAAEAAAAAAAAAAAAAAAAAAAAAAAAAAAABAAEAAQAAAAAAAAABAAEAAAAAAAAAAQABAAAAAAAAAAAAAAAAAAAAAAABAAAAAQAAAAIAAQABAAEAAQACAAIAAQABAAEAAQACAAEAAAAAAAAAAQAAAAAAAAAAAAAAAAAAAAAAAAAAAAAAAAAAAAAA//////7////+/////f/+//7//v/+//7//v/9//7//v////7//v/+//7////+//7//f/9//7////+//7//v///wAAAAD/////AAAAAAAAAAAAAAAAAAAAAAAAAAAAAAAAAAAAAAAAAQAAAAAAAAAAAAAAAQAAAAAAAAAAAAAAAAAAAAAAAAAAAAAAAAAAAAAAAAAAAAAAAAAAAAAAAAAAAAAAAAAAAAAAAAAAAAAAAAAAAAAAAAABAAEAAQABAAEAAgACAAIAAgABAAIAAgACAAIAAQABAAEAAgACAAIAAQACAAIAAgACAAIAAgACAAIAAQACAAEAAQABAAAAAAAAAAAAAAAAAAAAAAAAAAAAAAD//wAAAAAAAAAA/////wAAAAAAAAAA//8AAAAAAAAAAP//////////AAAAAAAAAAAAAAAAAAAAAAAAAAAAAAAAAQAAAAAAAAAAAAAAAAAAAAAAAAAAAAAAAAAAAAAAAAAAAAAA//8AAP////////////////7//v/+//7//v/+//7//v/+//7//v/+//7//f/+//7//v/+//7//f/+//////////7///8AAAAAAAAAAAAAAAABAAAAAAABAAAAAAAAAAEAAAAAAAAAAAABAAEAAQABAAIAAQACAAMAAgACAAIAAgACAAIAAQABAAEAAQAAAAAAAAAAAAAAAAAAAAAAAQAAAAAAAgABAAIAAQABAAEAAQABAAEAAQAAAAAAAAABAAEAAAAAAAAAAQABAAIAAQABAAEAAgACAAEAAgABAAIAAgACAAEAAQABAAEAAgAAAAAAAAABAAAAAAAAAAAAAAAAAAAA//8AAP////8AAP/////+//7//f////7//v/+//3//f/9//3//f/9//3//f/9//3//v/+//7//v/+/////v/////////+/wAA/////wAA/v//////AAAAAAAAAAAAAAAAAAAAAAAAAQABAAEAAQABAAEAAQABAAEAAQAAAAAAAQAAAAAAAAAAAAAAAAAAAAAAAAAAAAAAAAAAAAAAAAAAAAAAAAAAAAAAAAAAAAAAAAAAAAAAAAAAAP//AAAAAAAAAAABAAAAAAAAAAEAAgACAAIAAQACAAEAAgABAAEAAQACAAEAAAABAAAAAQABAAAAAAABAAEAAQACAAEAAQABAAAAAQAAAAAAAAAAAAAAAAAAAAAA/////////v8AAAAAAAD///////8AAAAAAAAAAAAAAAAAAAAAAAAAAAAAAAAAAAAAAAAAAAAAAAAAAAEAAAAAAAAAAQABAAEAAQAAAAIAAQACAAEAAQABAAIAAgAAAAAAAAAAAAAAAAAAAP7////+/wAAAAD///7/////////AAD//wAA//8AAP/////////////+//7//f/+//3//f/9//3//v/+//7//v////////8AAAAAAAAAAAAAAAAAAAAAAAAAAAAAAAAAAAAAAAAAAAEAAAAAAAAAAAABAAEAAAAAAAAAAAABAAEAAAAAAAAAAAABAAEAAAAAAAAAAAAAAAAAAAD//wAAAAAAAAAAAAAAAAAAAAAAAAEAAAAAAAEAAQAAAAAAAAAAAAEAAAAAAAAAAAAAAAAAAQAAAAEAAAABAAIAAwADAAIAAgACAAMABAACAAIAAQABAAEAAgAAAAAAAAD//wAAAAAAAP//AAAAAAAAAAAAAAAAAAABAAAAAAAAAAAAAAAAAAAAAAAAAP7////+//7//v/+//7//v////7//////wAAAAAAAAEAAAABAAEAAgABAAEAAQAAAAAAAAABAAAAAAD///////8AAAAAAAAAAAAAAAAAAAEAAAAAAAEAAAAAAAAAAAD//wAA/////////v/+//7//v/+//7//f/9//////////7//v///wAAAAD//////v//////AAD///7//v/+//7///////7//////wAAAAAAAAAAAQABAAEAAQABAAEAAgACAAIAAQABAAAAAAAAAAAAAAAAAP//AAAAAAAAAAAAAAAAAQACAAEAAgACAAIAAwADAAIAAQABAAAAAAAAAAAAAAAAAAAA//8AAAAAAAAAAAAAAQABAAEAAQACAAIAAwADAAMAAwACAAIAAQACAAEAAgAAAAEAAAAAAAAAAAABAAEAAQAAAAAAAAABAAIAAQACAAAAAQAAAAEAAQABAAAAAAAAAP//AAD//////v/+///////+//3////+/wAA//////////////////////7//v////7//v/+//3//v///////v/+//7/AAAAAAAAAAD//wAAAAAAAAAAAAAAAAAAAAAAAAAA/////wAAAAAAAP///v///wAAAAAAAP////8AAAAAAAAAAAAAAAAAAAAAAAAAAAAAAAAAAAAA//////////////////////////8AAAAAAAAAAAEAAQABAAIAAgACAAIAAgABAAEAAQABAAAAAAAAAAAAAQAAAAAAAAAAAAEAAgABAAEAAgABAAMAAgACAAIAAgACAAIAAQABAAAAAAABAAAAAAAAAAAAAAAAAAAAAAAAAAAAAAAAAAAAAAAAAAAAAAABAAAAAAAAAAAAAAAAAAAA//8AAAAAAAAAAAAA//8AAAAAAAAAAAAAAAAAAAAAAAAAAAAAAAAAAAAAAAAAAAAAAAD//wAA/////////////////////wAA//8AAAAA//8AAAAAAAAAAAAA//////////////7////9//7//v/+//7////+////AAD//wAAAAAAAAAAAAAAAAAAAAAAAAAAAAAAAAAAAAD///////8AAAAAAAAAAAAAAAAAAAAAAAABAAEAAQABAAEAAAABAAEAAQAAAAAAAAAAAAAAAAAAAAAAAAAAAAAAAAAAAAAAAAABAAEAAQAAAAAAAAAAAAEAAAAAAAAAAAAAAAAAAAAAAAAAAAAAAAAAAQAAAAEAAAABAAEAAQAAAAAAAQABAAEAAAAAAAAAAQABAAEAAAAAAAAAAAABAAAAAAAAAAAAAQABAAAAAAAAAAAAAQAAAAAAAAAAAAAAAAAAAAAAAAD//wAAAAAAAP//AAAAAAAAAAAAAAAAAAABAAAAAAAAAAAAAAAAAAAAAAAAAP//AAAAAAAAAAAAAAAAAAAAAAAAAAAAAAAAAAAAAAAAAAAAAAAAAAAAAAAA//8AAP//AAAAAAAAAAAAAP//AAAAAAAAAAD//////////wAAAAD+/////////wAA//////7//////wAA//////////8AAAAAAAD//wAAAAABAAAAAAD/////AAAAAAAA/v//////AAAAAAAAAAAAAAAAAQABAAAAAAABAAEAAgABAAAAAAAAAAAAAAAAAP//AAAAAAAAAAAAAAAAAAABAAIAAQACAAEAAQACAAIAAQABAAEAAAABAAAAAAAAAAAAAAABAAAAAAABAAEAAgABAAMAAQADAAIAAgACAAIAAwABAAEAAAABAAEAAQAAAAAAAAAAAAEAAAAAAAAAAAAAAAEAAQAAAAAAAAABAAEAAAAAAAAAAAAAAAAA///+//7///////7//f/9//7//////////////wAAAAAAAAAAAAAAAAAA//8AAP///v/+//7//v/+//7//f//////AAAAAP//AAAAAAEAAAABAAAAAAAAAAAAAAD//////v/+//7////+/////v/+/wAA//8AAAAAAAAAAAAAAAAAAAAAAAAAAAAAAAAAAAAA//8AAAAAAAD///7//v///wAAAAAAAAAAAAAAAAIAAgACAAIAAwADAAMAAwACAAIAAQABAAAAAAD//wAAAAD//wAA//8AAAAAAQABAAIAAgACAAMAAwADAAMAAwABAAEAAAAAAAAA//////7////+//////8AAAAAAAABAAEAAgACAAIAAgADAAIAAgABAAAAAAAAAAAA////////AAAAAAAAAAAAAAAAAQABAAIAAgACAAIAAgADAAIAAgABAAEAAQAAAAAA///////////+//7//v////////8AAAAAAAAAAAEAAQABAAEAAQAAAAAAAAD//////f/9//z//P/7//z//P/7//3//f/+////AAAAAAAAAAABAAEAAQAAAAAAAAAAAP/////+//7//v/9//z//f/8//3//v/+/////////wAAAAAAAAAAAAAAAAAAAAAAAAAAAAAAAP////////7////+//7//v/+//7/AAAAAAAAAAAAAAAAAQACAAIAAwACAAIAAgACAAEAAQABAAAAAAAAAAAAAAABAAEAAQACAAIABAAEAAQABQAFAAUABQAFAAQABAADAAMAAgABAAAAAAAAAAAAAAAAAAAAAQACAAIAAwADAAMAAwAEAAMAAwACAAEAAQAAAAAA//////7////+//7//v/+//////8AAAAAAAAAAAAAAAAAAAAAAAAAAAAAAAAAAAAAAAAAAP////////7//v/+//3//v/+//3//f/+//3//v/+//7//v////////8AAP7///////////////7//v/+//3//f/9//z//P/9//3//f/+//3//f////7///////////8AAAAAAAAAAAAAAAAAAAAAAAAAAAAAAAAAAAAAAAAAAAAAAAABAAEAAAABAAEAAQACAAIAAQACAAIAAQACAAEAAQABAAEAAQABAAEAAQABAAEAAQABAAIAAQABAAIAAgACAAIAAgACAAIAAQACAAIAAQABAAEAAAABAAEAAAAAAAAAAQACAAIAAgACAAIAAwADAAMAAwADAAMAAwADAAIAAgABAAEAAQABAAEAAAAAAAAAAAABAAAAAAAAAAAAAAAAAAAAAAAAAAAAAAAAAAAAAAAAAAAAAAAAAAAA/////////v/+//3//P/8//z//P/8//z//P/9//7//v/+//////8AAAAAAAAAAAAA//////7//f/8//z/+//7//z/+//7//z//f/9/////v///wAAAAAAAAAAAAD//wAA/v/+/////v/9//3//f/9//7//v/+//7//////wAAAAAAAAAAAAAAAAAAAAAAAAAAAAAAAAEAAAAAAAAAAQABAAEAAQABAAIAAgADAAMAAwADAAMABAAEAAQABAAEAAQABQAFAAQABAAEAAQABQAEAAMAAwADAAMAAwADAAMAAwACAAMAAwAEAAQAAwADAAQABQAEAAQAAwADAAMAAwABAAEAAAAAAAAAAAAAAAAAAAD//wAAAAAAAAAAAAAAAAAAAAAAAAAAAAAAAAAAAAD////////+//7//f/8//z//P/7//v//P/8//z//P/8//z//v/9//3//f/+//7//v/9//3//f/8//z//P/7//r/+//6//r/+//7//v/+//8//3//v/9//3//v///wAA//////7/AAD////////+//////8AAP//AAAAAAAAAAABAAEAAQABAAEAAgADAAMAAgACAAIAAwADAAMAAgADAAMAAwADAAMAAwADAAMAAwADAAIAAwADAAMAAwADAAMAAwAEAAQABQAEAAUABQAEAAQABAAEAAMAAwACAAEAAQAAAAAAAAAAAAAAAQABAAIAAgACAAMAAwAEAAMAAwACAAMAAgACAAAAAAAAAP/////+//7//f/+//7/////////AAAAAAAAAAAAAAAAAAAAAAAAAAD///7//v/+//3//f/8//z//P/9//z//P/8//3//v/+//7//v///////////////////////v/+//3//v/9//3//P/9//z//P/9//3//v/+/////v8AAP//AAAAAAAAAAAAAAAA///////////+//7//v/+//7//f/+//7//////wAAAAAAAAAAAAABAAEAAgABAAEAAQABAAEAAQABAAAAAQAAAAAAAAAAAAAAAQABAAEAAQACAAIAAwADAAQABQAEAAUABAAFAAUABQAEAAQABAAEAAMAAgADAAIAAgACAAEAAgACAAMAAgADAAMABAAEAAQABQAEAAUABAAEAAMAAwACAAEAAQAAAAAAAAAAAP//AAAAAAAAAAAAAAAAAAAAAAAAAAAAAAAAAAD///7////+//3//f/9//z//P/7//v//P/8//z//P/8//z//P/8//z//P/9//3//P/8//z//P/8//z/+//7//v/+//8//v//P/8//z//P/9//3//f/+//7//////wAA//8AAAAAAAAAAAAAAAAAAAAAAAAAAAAAAAAAAAAAAAAAAAAAAAABAAIAAgACAAMAAwAEAAQABAAEAAQABAAEAAQAAwACAAMAAgACAAIAAgABAAIAAgACAAIAAgADAAMAAwADAAQABAAFAAQABAAEAAQABAADAAMAAwADAAEAAgABAAEAAQAAAAAAAAAAAAAAAAAAAAAAAAAAAAAAAAABAAEAAAAAAAAAAAAAAAAA//////7//v/+//3//f/+//7//v/+//7//v/+///////////////+/////v/+//7//f/+//7//v/9//7//f//////////////AAAAAAAAAAAAAAAAAAAAAAAA///////////+//7//v/9//7//v/+/////v//////AAAAAAAAAAAAAAAAAAAAAAAAAAAAAAAAAAAAAP/////+//7////+////////////AAAAAAAAAAABAAIAAgACAAIAAwADAAQAAwADAAMAAgADAAIAAgACAAEAAQACAAEAAQACAAEAAgACAAIAAgADAAIAAwAEAAQAAwACAAMAAwADAAIAAgABAAEAAAAAAAAAAAAAAAAAAAAAAAAA//8AAAAAAAAAAAAAAAAAAAAAAAAAAP///////wAA/////////////wAAAAD//wAAAAAAAAAAAAAAAAAAAAD///////////7//v/9//3//v/9//3//f/+//3////+//7////+////AAAAAP/////+///////+//3//f/9//3//v/9//z//P/+//7//v/+//7///8AAAAAAAAAAAAAAQACAAIAAwACAAIAAwAEAAMAAwACAAIAAwADAAMAAQACAAIAAwACAAIAAQACAAMAAgADAAIAAwADAAQAAwAEAAMAAwADAAMAAwACAAEAAQABAAAAAAD//////////////v/+//////////////8AAAAAAAAAAAAAAAAAAAAAAAAAAAAAAAAAAAAAAAD//wAAAAAAAAAAAAD//wAAAAAAAAAAAAAAAAAAAAAAAAAA//8AAAAAAAAAAP7///8AAAAA//////7///8AAP////////7//v////7//v/9//3//f/9//3//P/8//z//f/+//7//f/+//////8AAAAAAAAAAAEAAAABAAEAAQACAAEAAQABAAEAAAABAAAAAAAAAAAAAAAAAAAAAAABAAEAAgABAAMAAgADAAQABAAEAAQAAwADAAQAAgABAAEAAAAAAAAA///+//7//////////v/+////AAAAAAAAAAAAAAEAAwACAAIAAQABAAIAAgABAAAAAAAAAAAAAAAAAAAAAAAAAAEAAQABAAAAAQACAAIAAgABAAAAAQABAAEAAQAAAAAAAAAAAAAAAAAAAAAA//8AAAAAAAD//////v///////f/9//z//P/9//3/+//7//v//P/9//z//P/8//3//f/+/////v/+//////8AAAAA/////wAAAAAAAAAA//8AAAAAAAAAAAAA//8AAAAAAAAAAAAAAAABAAIAAwADAAMAAwADAAQABAADAAIAAgACAAIAAgAAAAAAAAAAAAAA//////////8AAAAAAAAAAAAAAAAAAAAAAQABAAAAAQABAAEAAQAAAAAAAAAAAAAAAAAAAAAAAAAAAAAAAAAAAAAAAAABAAEAAQABAAAAAQACAAIAAQABAAEAAgADAAIAAQAAAAEAAQACAAEAAAAAAAAAAAAAAAAA/v/+//////////7//P/9//////////7//f/+/wAAAAD///7//v8AAAAAAAD///////8AAAAAAAD+//7//////wAAAAD//wAAAAAAAAEAAAAAAAEAAQACAAEAAAAAAAAAAQABAAAAAAAAAAAAAQAAAAAAAAAAAAAAAAAAAAAAAAAAAP/////+//7//v/+//3//f/+//7//v//////AAAAAAAAAAAAAAAAAAABAAAAAAD/////AAAAAAAA////////AAAAAAAAAAAAAAEAAgACAAIAAgACAAQAAwADAAIAAgADAAQAAwACAAEAAAACAAIAAQAAAAAAAAABAAEAAAAAAAAAAAAAAAAAAAAAAAAAAAAAAAAAAAD//wAAAAAAAAAA//////////////7//v/+//////////////8AAAAAAAAAAAAAAAAAAAAAAAAAAAAAAAAAAAAAAAD//wAAAAAAAAAAAAAAAAEAAQABAAAAAAABAAAAAAAAAAAAAAAAAP///v/+//7/////////////////AAAAAAAAAAAAAAEAAAABAAAAAAAAAAAAAAAAAP////8AAAAA////////AAABAAAAAQABAAEAAwACAAMAAwADAAMAAwACAAIAAQABAAIAAAAAAAAAAAAAAAAAAAAAAAAAAAABAAEAAQAAAAAAAAAAAAAAAAAAAP//AAD+//3//f/9//3//v/9//3//f/+/////////////////wAAAAAAAP/////////////+//////8AAP///////wAAAAABAAAAAAABAAEAAgACAAIAAgABAAEAAQABAAEAAQAAAAAAAAAAAAAAAAAAAAAAAAAAAAAAAAABAAAAAAAAAAEAAQABAAEAAQABAAEAAAAAAAAAAAAAAAAA///+/////////wAA/////wAAAAABAAEAAQABAAIAAgACAAIAAgACAAIAAQAAAAAAAAAAAAAAAAD/////AAAAAAAAAQAAAAAAAQABAAIAAgABAAEAAAAAAAAAAAD//wAA///+//3//f/+//7////+//7//v///wAAAAAAAAAAAAAAAAAAAAAAAAAAAAD//////v/+/////v///////v///wAAAAAAAAAAAAABAAEAAgACAAEAAQABAAEAAQAAAAAAAAAAAAAAAAD/////AAAAAAAAAAAAAAAAAAABAAEAAAAAAAEAAAABAAAAAAAAAAAAAAD//////v8AAP/////+//7///8AAAAAAAAAAAAAAAAAAAEAAQABAAEAAQABAAEAAQABAAEAAAABAAAAAAAAAAEAAAAAAAAAAAABAAEAAgACAAIAAgACAAIAAwADAAIAAgABAAEAAQABAAAAAAAAAAAA/////wAA//8AAP///////wAAAAAAAAAAAAAAAAAAAAAAAAAAAAD///7//v/+//7////+//7//v/+////AAD//wAAAAAAAAAAAAAAAAAAAAAAAAAAAAAAAAAAAAAAAAAAAAD/////AAAAAAAAAAAAAAAAAAAAAAAAAQAAAAAAAAAAAAAAAAAAAAAAAAAAAP////////////////////8AAAAAAAAAAP//AAAAAAAAAAAAAAAAAAAAAAAAAAABAAEAAQAAAAAAAAAAAAEAAAAAAAAAAAAAAAEAAQABAAIAAQACAAIAAgACAAIAAgACAAIAAQABAAAAAAAAAAAAAAD//wAAAAAAAAAAAAD//wAAAAAAAAAAAAAAAAAAAAD//wAA///////////+//7////+////////////AAAAAAAAAAAAAAAAAAAAAAAAAAAAAAAAAAAAAAAAAQABAAEAAQABAAEAAQABAAAAAQABAAEAAQABAAAAAQABAAAAAQABAAEAAAABAAAAAAAAAAAAAAAAAAAAAAAAAP///////////////////////////////wAA//////////8AAAAAAAD//wAAAAAAAAAAAAAAAAAAAAAAAAAAAAAAAAAAAAAAAAEAAAAAAAAAAQABAAEAAQAAAAEAAQABAAAAAAAAAAAAAAAAAAAAAAAAAAAAAAAAAAAAAAAAAAAAAAAAAAAAAAAAAAAAAAAAAP//AAAAAP//AAD/////AAAAAAAAAAAAAAAAAQAAAAAAAQABAAAAAAAAAAAAAAABAAAAAQABAAEAAQACAAEAAgACAAIAAgACAAEAAQABAAAAAAAAAAAA//8AAAAAAAAAAAAAAAAAAAEAAAAAAAAAAAAAAAAA///+//7//f/9//3//P/9//3//f/9//7//v///wAAAAAAAAAAAAAAAAAAAAAAAAAA/////wAAAAD//wAAAAAAAAAAAAAAAAEAAgABAAIAAgACAAIAAQABAAEAAgABAAEAAQABAAEAAQABAAAAAQABAAAAAAAAAAAAAAAAAAAAAAAAAAAAAAAAAAAAAAAAAP////8AAAAAAAAAAP//AAAAAP////8AAP//AAAAAP//AAAAAAAAAAAAAAAAAAAAAAAAAAAAAAEAAAAAAAAAAAAAAAAAAAAAAAAAAAAAAAAAAAAAAAAAAAAAAAAAAAAAAAAAAAAAAAEAAAAAAAAAAAAAAAAA/////wAA///+//7//v/+/////////wAAAAAAAAAAAAAAAAEAAQABAAEAAQAAAAAAAAAAAAAAAAD/////AAAAAAAAAAAAAAEAAgACAAIAAgADAAMAAwACAAEAAQABAAAAAAAAAAAAAAAAAP//AAAAAAAAAAAAAAAAAAAAAAAAAAAAAP/////+//3//f/+//3//f/+//7//v////////8AAAAAAAAAAAAAAAAAAAAA//////////////////8AAAAAAAAAAAAAAQABAAIAAQABAAEAAQAAAAEAAQAAAAEAAQAAAAEAAQABAAEAAQACAAIAAQABAAEAAQABAAAAAAAAAAAAAAAAAP//AAAAAAAAAAAAAAAAAAAAAAAAAQABAAEAAAAAAAAAAQAAAAAAAAAAAAAAAAAAAP//AAAAAAAAAAAAAAAAAAABAAAAAQAAAAAAAAAAAAAAAQAAAAAAAAAAAAAAAAAAAAAAAAAAAAAAAAAAAAAA//8AAP////////7//////////v////7//v///////////wAA//8AAAAAAAAAAAAAAAAAAAAA//8AAP////////////////////8AAAAAAAAAAAAAAQABAAIAAgACAAMAAwACAAEAAgABAAEAAAAAAAAAAAAAAAAAAAAAAAAAAAAAAAAAAQABAAAAAQABAAEAAAAAAAAAAAAAAAAAAAD//wAA//8AAAAAAAAAAAAAAAAAAAAAAAAAAAAAAAAAAAAA/////wAA//8AAAAAAAAAAAAAAAABAAEAAAACAAEAAQABAAEAAAABAAEAAAABAAAAAAAAAAAAAAAAAAEAAAAAAAAAAAAAAAAA/////wAA/////////////wAAAAAAAAAAAAAAAAEAAQABAAAAAAAAAAAAAAD///7//v/9//7//v/9//7//v///wAAAAAAAAAAAQACAAIAAgACAAEAAQABAAEAAAAAAAAAAAAAAAAAAAD/////AAAAAAAAAAD/////AAAAAAAAAAAAAAAAAAABAAAAAAAAAAAAAAAAAAAA//8AAP//AAD//////v//////AAAAAAAAAAD//wAAAAAAAAEAAAAAAAEAAQAAAAEAAAAAAAAAAAAAAAAAAAAAAAIAAQABAAEAAQABAAIAAgABAAEAAAAAAAAAAAAAAAAAAAD//wAAAAD/////AAAAAAAAAAAAAAAAAAAAAAAAAQAAAAAAAAAAAAAAAAD/////AAAAAAAA///+//7//////wAAAAD/////AAAAAAAAAQABAAEAAgACAAIAAQACAAIAAgABAAAAAAD//wAAAAAAAP///v/+//7///8AAAAAAAAAAAAAAQABAAEAAQAAAAEAAQAAAAAA////////AAD//////v/+////AAAAAAAAAAD//wAAAAAAAAAAAAAAAAAAAQAAAAAAAAAAAAEAAgAAAAAAAAAAAAEAAQABAAAAAAAAAAAAAQAAAAAAAAABAAAAAQAAAAAAAAAAAAEAAAAAAP7/AAAAAAAAAAD///////8AAP//AAAAAAAAAAAAAAAAAAAAAP//AAAAAAAA///+//7//v8AAP//////////AAAAAAAAAAABAAEAAgACAAIAAQABAAIAAQACAAEAAAAAAAAAAAABAAAAAAAAAAAAAAAAAAAAAAAAAAAAAAAAAAAAAAAAAAAAAQAAAAAAAAAAAAAAAAAAAAAA///////////////////+////////////AAAAAAAAAAAAAAAAAAABAAEAAQABAAAAAAAAAAAAAQABAAAAAAAAAAAAAQAAAAAAAQABAAEAAQABAAAAAAABAAEAAAAAAP////8AAAAAAAAAAAAA//8AAAAAAAAAAAAAAAAAAAAA//////////8AAP///v/+/////v8AAAAA/////wAAAAAAAAAA//8AAAAAAAAAAAAAAAABAAEAAQABAAEAAQAAAAEAAAABAAEAAAAAAAAAAAAAAAAAAAAAAAAAAAAAAAAAAAAAAAAAAAAAAAAAAAAAAAAAAAAAAAAA///+//7//////////////////////wAAAAAAAAAAAAAAAAAAAAAAAAAAAQAAAAAAAAAAAAAAAQABAAEAAQABAAEAAQABAAEAAQACAAEAAQABAAEAAAABAAEAAAABAAAAAAAAAAEAAAAAAAAAAAAAAAAAAAAAAAAA//8AAAAA/////wAA/////wAA/////////v/+///////+//7//v/+//////8AAAAAAAD//wEAAAAAAAEAAQAAAAEAAQAAAAAAAAAAAAAAAAAAAAAAAAAAAAAAAQAAAAAAAAAAAAEAAgABAAEAAgAAAAEAAQAAAAAAAAAAAAAAAAD///7///8AAAAAAAD///////8AAAAAAAAAAAAAAAAAAAAAAAAAAAAAAQABAAAAAAAAAAAAAQABAAAAAAAAAAAAAAAAAAEAAAABAAEAAQACAAEAAQACAAIAAgACAAAAAAAAAAAAAAAAAP///////////////wAAAAAAAAAAAAAAAAAAAAAAAAAAAAD//////v/+//7//v/9//3//f/9//7/////////AAAAAAAAAQABAAEAAgABAAIAAQAAAAAAAAAAAAAAAQAAAAAAAAAAAAAAAQABAAAAAQABAAEAAgACAAEAAgADAAEAAQABAAAAAgABAAAAAAAAAP//AAAAAP////////7///8AAP////8AAAAAAAAAAP////8AAAAAAAAAAAAA//8AAAAA//8AAAAA//8AAP////8AAAAAAAAAAAAAAAAAAAAAAAABAAIAAAAAAAAAAAAAAAEAAAAAAAAAAAAAAAAAAAAAAAAAAAAAAAAAAAAAAAAAAAAAAAAAAAAAAAAAAAAAAAAAAAAAAAAA////////////////AAD//wAAAAAAAAAAAQACAAIAAgACAAIAAgADAAIAAgABAAAAAAAAAAAAAAAAAAAAAAAAAAAAAAAAAAEAAgACAAIAAQABAAIAAgACAAAA//8AAP/////+//7//f/+//7//f/+//7//////wAA/////////v///wAA//////7//f/+/////////wAA//8AAAAAAAAAAAAAAAAAAAAAAAD/////AAAAAAAAAAAAAAAAAAABAAIAAQACAAMAAwACAAIAAQACAAIAAQAAAAAAAAD//wAAAAAAAAAAAAAAAAAAAQACAAIAAgACAAIAAQABAAEAAAAAAAAAAAD+/////v//////AAAAAAAAAAAAAAAAAQACAAIAAgABAAEAAQAAAAEAAAAAAAAA/////////v/+/wAAAAAAAP////8AAAAAAQAAAAAAAAABAAAAAAAAAAAA//8AAP///v/9//3//v/+/////v/9//7///8AAAAAAAAAAAAAAAAAAAAAAAAAAAAAAAAAAAAA/////wAAAAAAAAAAAAD//wAAAQABAAEAAQABAAIAAgABAAAAAQACAAIAAQAAAAAAAQACAAEAAQAAAAAAAAAAAAAAAAAAAAAAAAD+////////////AAAAAAAAAAAAAAAAAAABAAAAAAAAAAAA//////7////9//3//P/8//3//v/+////AAAAAAAAAQABAAIAAgADAAIAAQAAAAAA/////wAA/v/+//z//v/+/wAAAAAAAAAAAgADAAEAAwABAAMAAwADAAAAAAAAAAAAAAD//////v//////AAAAAAAAAQABAAIAAgACAAEAAgACAAIAAgAAAAAAAAAAAAAAAAAAAAAAAAAAAAEAAAABAAEAAQACAAEAAQAAAAEAAQABAAAAAAAAAAAAAAAAAAAAAAAAAAAA//8AAAAAAAAAAAAAAAD//wAA/v////7/AAD////////+//////8AAP//AAD///////8AAAAA//8AAP///////////v///wAA//////7/AAD//wAAAAAAAAAAAAABAAAAAQAAAAEAAAAAAAAAAAAAAP//AAAAAAAA////////AAAAAAAAAAABAAEAAQABAAAAAQABAAEAAAAAAP///////////v///////v8AAAAAAAAAAAEAAQABAAEAAQABAAEAAQABAAAA//8AAAAA//8AAP//AAAAAAAAAAAAAAEAAgADAAIAAgABAAMAAQABAAEAAAAAAAAAAAAAAAAAAAAAAAAAAAABAAEAAQABAAIAAgABAAEAAAAAAAAAAAAAAAAAAAAAAAAAAAAAAAAAAQABAAEAAQAAAAEAAQABAAAAAAAAAAAAAAD//wAA//8AAAAAAAAAAP//AAAAAAEAAAAAAAAAAAAAAP//AAD//wAA/v////3//v///////////wAA/v8AAP//AAAAAP///////////v////3//v/+//7//v/9//7//f///////////wAA//8AAAAAAAAAAAAAAAD//wAA/////wAA//8AAAAA//8AAAAAAAAAAAAAAAAAAAEAAAABAAEAAgAAAAEAAQAAAAEAAAAAAAAAAQAAAAAAAAAAAAEAAgACAAEAAgACAAMAAwADAAMAAgACAAEAAgABAAEAAAAAAAAAAQAAAAAAAQABAAEAAgACAAEAAwADAAIAAgACAAEAAQABAAAAAAAAAAAAAAAAAAAAAAAAAAAAAAABAAEAAAABAAAAAQABAAAAAAAAAAAA/////////v/+/////v///wAA/////wAAAAAAAAAA/////wAA//////7//v/+//7//v/+/////v///////////wAA/////wAAAAD///7//v/+///////9//7//v//////////////AAAAAAAAAAAAAAAAAAD/////AAD/////////////AAD/////AAAAAAAAAAAAAAAAAQAAAAAAAAAAAAAAAAAAAAAAAAABAAAAAQABAAEAAQABAAEAAQACAAEAAgABAAEAAAACAAEAAQACAAEAAQACAAIAAQACAAIAAgACAAEAAQABAAIAAQABAAEAAAABAAEAAQABAAEAAQABAAEAAQABAAEAAQAAAAEAAAAAAAEAAAABAAEAAAAAAAAAAQAAAAEAAAAAAAAAAAAAAAAAAAAAAAAAAAAAAAAAAAAAAAAAAAAAAAAAAAD//wAAAAD+//3//v/9//7//v/9//z//v////7////+////AAAAAAAAAAD////////+//7//f/9//z//f/+//3//f/9//7/AAAAAAAAAAAAAAAAAAABAAAAAAAAAP////8AAP////////7///8AAAAA//8AAAAAAQABAAAAAAABAAIAAQABAAAAAAAAAAAAAAAAAAEAAAAAAAAAAAAAAAAAAAAAAAIAAQABAAAAAQABAAIAAgABAAIAAQACAAIAAgABAAIAAQAAAAIAAAAAAAAAAAAAAAEAAgAAAAAAAgADAAMAAwACAAIAAgACAAIAAgABAAAAAAAAAAAAAAAAAP//AAAAAAAAAAAAAAAAAQACAAEAAAAAAAAAAAABAAAAAAD///7//////////v/+//7///8AAAAA/////wAAAAABAAAAAAAAAAAAAAAAAAAA//8AAAAAAAD//////v///wAA//8AAP7//v///wAAAAAAAAAAAAAAAAAAAAAAAAAAAAAAAAAA//////7//v/+//3//f/9//3//v/+/wAAAAD//wAAAAAAAAEAAQAAAAAAAAD/////AAD///7//v/9//7/////////AAAAAAEAAgACAAIAAgADAAIAAwACAAEAAQAAAAAAAQAAAP//AAAAAAEAAAAAAAAAAQADAAMAAgABAAIAAgAEAAMAAgABAAEAAQABAAEAAAAAAAAAAAAAAAAA//8AAAAAAAAAAAAAAAAAAAIAAgACAAIAAQACAAIAAQABAAEAAAAAAAAA///////////+//////8AAAAAAAAAAAIAAgACAAMAAgACAAEAAQAAAAEAAAD+//3//f/9//3//f/8//3//v////7//////wAAAQAAAAAAAAAAAAAAAAAAAP///v/9//3//v/+//z//f/9//7////+//3///8AAAAAAAAAAAAAAAACAAIAAgABAAAAAAABAAAAAAAAAP////8AAAAA////////AAABAAEAAAABAAIAAgAEAAMAAwACAAIAAQABAAEAAAAAAP///v/+//7//v/+//////8AAAAAAAAAAAEAAgACAAMAAgABAAEAAAAAAAAAAAD///7//v/+///////+/wAAAAAAAAAAAQABAAIAAwADAAMAAgABAAEAAgACAAEAAQAAAAAAAAAAAAAAAAD/////AAAAAAAAAAAAAAAAAQABAAEAAQABAAEAAgACAAEAAAAAAAAAAAAAAP7//f/9//3//v/+//3//v8AAAAAAAABAAEAAQACAAMAAwACAAEAAAAAAAAAAAAAAP7//v//////////////AAAAAAEAAQABAAIAAQACAAMAAQABAAAAAAAAAAAAAAD///7//v/+/////v/9/////////////////wAAAAAAAAAAAAAAAAAAAAAAAAAAAAD////////////////+//7//v//////AAD//wAAAQABAAIAAgABAAEAAwADAAMAAgAAAAAAAAABAAAAAAD/////AAAAAAAA//8AAAAAAgACAAEAAAABAAIAAgADAAEAAAAAAAAAAAAAAP///v/////////+//7//v8AAAAAAAAAAAAAAAABAAIAAQABAAEAAAABAAEAAQAAAAAAAAAAAAAA/////wAAAAAAAAAAAAAAAAEAAQACAAMAAwACAAMAAgACAAMAAgABAAAAAAD/////AAD+/////v/+////AAD//wAAAAAAAAEAAQABAAAAAQAAAAAAAAD///7//v/+//7//v/9//7//v///////////wAAAAABAAAAAAAAAAAAAQACAAAAAAAAAAAAAAAAAAAAAAAAAAAAAAAAAAAA//8AAAAAAAAAAAAAAAAAAAAAAAABAAAAAAAAAAAAAAAAAAAAAAAAAP///v/9//7//v/+//7//v/+//7//////wAAAAAAAAAAAAAAAAEAAQAAAAAAAAAAAAAAAAD//wAAAAAAAAAAAAAAAAAAAQABAAIAAwACAAIAAgACAAMAAwACAAIAAgABAAAAAAAAAAAAAAAAAP//AAAAAAAAAAAAAAAAAAAAAAAAAQACAAEAAQABAAAAAAAAAAAA//////////////7//v//////AAAAAAAAAAABAAEAAQACAAIAAQACAAEAAAAAAAAAAAAAAAAA////////AAAAAAAAAAAAAAAAAAABAAEAAQABAAEAAAAAAAAAAAAAAAAA/////wAA///+//7////////////+/////////wAAAAD/////////////AAAAAAAAAAAAAP//AAD//wAAAAAAAP//////////AAAAAAAAAAAAAAAAAQABAAAAAQACAAIAAgACAAEAAAABAAAAAAAAAAAA//8AAP//AAAAAAAAAAAAAAAAAAABAAEAAQABAAEAAQABAAAAAAAAAAAA//8AAP///v////////8AAAAA//8AAAAAAQAAAAEAAQACAAIAAQABAAAAAQABAAEAAAAAAAAAAAAAAAAAAAAAAAAAAAAAAAEAAQABAAEAAQACAAIAAQAAAAEAAQAAAAAAAAD//wAAAAD/////////////AAD/////AAAAAAAAAAAAAAAAAAAAAAAAAAAAAP////8AAP//AAAAAP//AAD/////AAAAAAAAAAAAAAAAAAAAAAAAAAAAAAAAAAAAAAAAAAAAAAAAAAAAAAAAAAAAAAAAAAAAAAAAAAAAAAAAAAAAAAAA//8AAAAAAAAAAAAAAAABAAIAAAAAAAAAAAAAAAAA/////////v//////AAD//wAAAAAAAAEAAAAAAAEAAgABAAIAAAAAAAAAAAAAAAAAAAAAAAAA////////AAAAAAAAAQAAAAEAAQABAAEAAwABAAAAAAAAAAAAAAAAAP//AAAAAAAA//8AAAAAAAAAAAAAAAAAAAAAAAAAAAAAAQABAAAAAAAAAAAAAAAAAAAAAAAAAAAA//8AAAAAAAAAAAAAAAAAAAAAAAABAAAAAAAAAAAAAAAAAAEAAAAAAAAAAAAAAAAAAAAAAAAAAAAAAAAAAAAAAAAAAAAAAAAAAAAAAAAAAAAAAAAAAAAAAAAAAAAAAAAAAAAAAAAAAAD/////AAD//wAAAAD//wAAAAAAAAAAAAAAAAAAAAAAAAAAAQAAAAAAAAAAAAAAAAAAAAAAAAD/////AAAAAAAA//8AAAAAAQAAAAAAAAAAAAEAAQABAAAAAQAAAAAAAAAAAAAAAAAAAP//AAD//wAAAAAAAAAAAAAAAAAAAQABAAEAAAAAAAAAAQAAAAAAAAAAAAAAAAAAAAAAAAAAAAAAAAAAAAAAAAAAAAAAAAAAAAAAAAAAAAAAAAAAAAAAAAAAAAAAAAAAAAAAAAAAAAAAAAAAAAAAAAAAAAAAAAAAAAAAAAD//wAAAAAAAAAAAAAAAAAAAAAAAAAAAAAAAAAAAAAAAAAA////////AAD//////////wAAAAAAAAAAAAAAAAAAAQAAAAAAAAAAAAAAAAAAAAAAAAAAAAAAAAAAAP//AAAAAAAAAAAAAAAAAQACAAAAAAABAAEAAQABAAAAAAAAAAAAAAAAAAAAAAAAAAAAAAAAAAAAAAABAAAAAAAAAAAAAAABAAEAAAAAAAAAAAAAAAAAAAAAAAAAAAAAAAAAAAAAAAAAAAAAAAAAAAAAAAAAAAAAAAAAAAAAAAAAAAAAAAAAAAAAAAAA/////wAAAAAAAP///////wAAAAAAAP//AAAAAAAAAAD//wAAAAAAAAAAAAAAAAAAAAAAAAAAAAAAAAAAAAAAAAAAAAAAAAAAAAAAAAAAAAAAAAAAAAAAAAAAAAABAAEAAQAAAAAAAAABAAAAAAAAAAAAAAAAAAAAAAAAAAAAAAABAAAAAAAAAAEAAQABAAAAAAAAAAAAAAAAAAAAAAAAAAAAAAAAAAAAAAAAAAAAAAAAAAAAAAAAAAAAAAAAAAAAAAAAAAAAAAAAAAAAAAAAAAAAAAAAAAAAAAAAAAAAAAAAAAAAAAAAAAAAAAAAAAAAAAAAAAAAAAAAAAAAAAAAAAAAAAAAAAAAAAAAAAAAAAAAAP///////wAAAAD///////8AAAAAAAAAAAAAAAAAAAAAAAAAAAAAAAAAAAAAAAAAAAAAAAAAAAAAAAAAAAAAAAAAAAAAAAAAAAAAAAAAAAAAAAAAAAAAAAAAAAAAAAAAAP////////////////7//v///wAA//8AAP//AAAAAAAAAAAAAAAAAAAAAAAAAAD//wAA//8AAP///////wAA//8AAAAAAAAAAAAAAQABAAEAAQACAAMAAgABAAEAAQACAAIAAQABAAEAAQABAAEAAQAAAAEAAQABAAIAAQABAAIAAgACAAMAAgACAAIAAgACAAEAAQAAAAAAAAAAAP//AAD//wAAAAAAAAAAAAAAAAAAAQAAAAAAAAAAAAAAAQAAAAAAAAAAAAAAAAAAAP////////////8AAP//AAAAAAAAAAAAAAAAAAAAAAAAAAAAAAAAAAAAAP////////7//f/+//7//v/+//7//f/+//7//v/+//7//v///wAA//////7////+/////v/+//7//f/9//7//v/9//7//v//////AAD//wAAAAAAAAEAAQAAAAEAAgABAAIAAQABAAEAAQABAAEAAQABAAEAAQABAAEAAgACAAIAAwACAAIAAgACAAIAAwADAAEAAgABAAEAAQABAAAAAQAAAAAAAAAAAAAAAAAAAAAAAAAAAAAAAAABAAEAAQABAAAAAQACAAEAAQABAAAAAQAAAAAAAAAAAAAAAAAAAAAAAQABAAEAAAACAAMAAgABAAEAAQABAAIAAAAAAAAA//8AAP/////+/////v/////////+//7////+/wAA/v/9//3//v/9//7//f/8//3//P/8//z//f/8//3//f/9//7//f/9//3//////////v/+////AAAAAAAAAAAAAAAAAQAAAAAAAQABAAEAAQABAAAAAAAAAAAAAQABAAAAAAABAAEAAgACAAEAAQABAAIAAQACAAAAAQAAAAAAAAAAAAAA//8AAP//AAAAAAAA//8AAAAAAAABAAAAAAAAAAEAAAAAAAAAAAABAAEAAAAAAAEAAAACAAIAAQACAAEAAQACAAMAAgACAAIAAgACAAMAAgACAAIAAgACAAIAAQABAAIAAQAAAAEAAAAAAAAAAAAAAAAAAAAAAAAAAAAAAAAAAAAAAAAA//////7////9//7//v/9//3//f/9//3////+/////////wAAAAAAAAAAAAAAAAAAAAAAAAAAAAAAAP//AAAAAP////8AAAAAAAABAAAAAAABAAEAAQABAAAAAAAAAAAA/////////v////7//v/+//7//f///////v/+//7//v///////v/+//3//v/+//7//v/+/////v//////AAD//wAAAAAAAAAAAAAAAAAAAQABAAIAAgACAAIAAwADAAMABAAEAAQAAwADAAMAAwACAAIAAgACAAIAAwACAAIABAADAAMABAADAAMABAADAAMAAwABAAEAAAAAAAAAAAD///7///////7/////////AAAAAAAAAAAAAAAAAAAAAAAAAAAAAAAA//8AAP//AAD//////////wAA//8AAAAAAAAAAAAAAAAAAAAAAAABAAAAAAAAAAAAAAAAAAAAAAAAAP///v/+/////f/+//7//v/+//7//v/+/wAA/////wAA/////wAA/////////v/+//3//f/9//7//v/+////AAAAAAAAAQABAAIAAwACAAIAAwACAAIAAgABAAEAAQAAAAAAAQAAAAEAAQABAAIAAgADAAIABAADAAMAAwADAAEAAgACAAAAAQAAAAAAAAAAAP//AAAAAP////////////////7//v////7//v////7//v////////////////8AAAAAAAAAAAAAAAAAAAAA//8AAAAAAAAAAAAAAAAAAAEAAAABAAIAAgABAAMAAgADAAMAAgACAAIAAQABAAEAAAABAAEAAAAAAAAAAQAAAAEAAAABAAAAAQAAAAAAAQAAAAAAAAAAAAAAAAAAAAAAAAAAAAAAAAD/////AAAAAP//AAD/////AAAAAAAAAAAAAAAAAAAAAAAAAQAAAAAAAAAAAAAAAAD/////AAAAAP////8AAAAAAAAAAAAAAAAAAAAAAAAAAAAAAAAAAP////////7//f/+//3//v/+//7//f/+//7//////wAAAAAAAAAA//8AAAAAAAAAAAAAAAAAAAAAAAAAAAAAAAAAAAAAAAAAAAEAAAABAAEAAQABAAIAAgACAAMAAwADAAMABAADAAQAAwADAAMAAgABAAAAAAAAAAAAAAAAAAAAAAAAAAAAAAABAAEAAgABAAAAAQAAAAAAAAAAAP/////+//3//v/9//3//f/9//3//v//////AAAAAAAAAAAAAAAAAAAAAAAAAAAAAP////8AAP7///////////8AAP//AAAAAAAAAQABAAEAAAABAAEAAQABAAEAAAAAAAAAAAAAAAAAAAAAAAAA//8AAAAAAAAAAAAAAAAAAAAAAAAAAAAAAQABAAEAAAAAAAAAAAAAAAAAAAD//wAAAAD//wAAAAAAAAAAAAAAAAAAAQABAAEAAQABAAEAAQAAAAEAAAABAAAAAAAAAAAAAAAAAAAAAAAAAAAAAAAAAAAAAAAAAAAAAAAAAAAAAAAAAAAAAAAAAP//AAD/////AAAAAP//AAAAAP//////////AAAAAP////8AAAAAAAAAAAAAAAAAAAAA//8AAAAAAAAAAAAAAAAAAAAAAAAAAAAAAAAAAAEAAAABAAEAAQABAAEAAAAAAAEAAAAAAAAAAAAAAAAAAAAAAAAAAAAAAAEAAAAAAAAAAAAAAAEAAAAAAAAAAAAAAAAAAAD//wAAAAAAAAAAAAD//wAAAAAAAAAAAAAAAAAAAAD//wAAAAD/////AAD/////AAD//wAAAAAAAAAAAAABAAEAAQAAAAAAAQABAAAAAAAAAAAAAQAAAAAAAAAAAAAAAAAAAAAAAAAAAAAAAQABAAEAAQABAAEAAQABAAAAAAAAAAAAAAAAAP////8AAP////////////8AAAAAAAAAAAEAAAAAAAAAAAAAAAAAAAAAAAAA/////wAA/////////v8AAAAAAAAAAAAAAAABAAIAAAAAAAAAAQABAAEAAAAAAAAAAAAAAAAAAAD//wAAAAAAAAAAAAAAAAAAAAAAAAAAAAAAAAAAAAAAAAAAAAAAAAAAAAD/////AAD///7////+//7///////7/////////AAAAAAAAAQAAAAEAAQABAAAAAQAAAAAAAAAAAAAA//8AAAAAAAAAAAAAAAABAAEAAAACAAIAAwADAAIAAgACAAIAAgACAAEAAAAAAAAAAAAAAAAA//8AAAAAAAAAAAAA//8AAAEAAAABAAAAAAABAAEAAAAAAAAAAAAAAAAAAAD//////////////v////////8AAAAAAAAAAAEAAQABAAIAAQABAAEAAgABAAEAAAAAAAAAAAAAAP//AAD//wAAAAAAAAAAAAAAAAAAAAAAAAAAAAAAAP//AAD///7////9//7//v/+//3//v/+//7////+/////v////////////7//////////v////////8AAAAAAAAAAAAAAAAAAAAAAAAAAAAAAAAAAAAA//8AAAEAAQADAAMAAQACAAMAAgAEAAQAAwADAAIAAAAAAAAAAAAAAP///v/+//7//v///wAAAAAAAAEAAAAAAAEAAgABAAIAAAD//wAA//8AAP///v/9//3//f/+//7//v///wAAAAAAAAAAAAAAAAEAAgABAAIAAwABAAIAAgACAAIAAgABAAMAAwABAAAAAAAAAAEAAQACAAEAAgACAAIAAgACAAQABQAGAAUAAwACAAMAAwADAAIAAAAAAAAAAAAAAAAA//////7/AAACAAIAAAAAAAAA/v/+/wAAAAADAAMA/v/5//j/+P/8//////8AAPz/+P/2//X/+f8AAAMAAAD9//j/9//8/wAAAgACAAIAAAD9//v//P/+/wIAAgAAAP7/+P/4//r//v8CAAIA///9//z///8BAAQABgAFAAQAAgD///7//////wIAAAD6//b/8//y//j/+f/2//r/+v/+/wEABAAHAAsADAAPAA8ACQAHAAYABgAIAAoACQAGAAUABgAEAAMABgAEAAYACgAIAAYABgAGAAcABQAEAAMAAwAHAAYAAAD//wAAAAAAAAAAAgADAAEAAAD7//n/AAAFAAMAAgD+//r/+f/4//f/+f/+/wAAAAD4//T/8P/0//j//P8AAAEA/v/3//H/7//3//z///8AAAAA///7//b/9v/+/wUACwALAAQA/f/7//7/AgAGAAYABAAFAAMAAAD9////AgAFAAgABQABAAAAAAACAAcACgAJAAcAAwAEAAUABAADAAIAAQAAAAUAAwD8//n/AQACAAUABwAAAP//AgABAP7/AQAAAAAA/v/9//z/+//8////+//4//j/8//z//b//v////j/8f/w//D/+v8AAPn///8DAP7/+f/7//r/AAAFAAAA/P/4//r/AAAAAPz//P8AAAAA/v8AAAEABQAIAAAA+v///wEAAgAIAAQABwADAP7/AgAGAAkADQAUABUAEQAIAAcADgAQAB0AIwAkACEADQAFABEAGAAdACYAJAAdABMAAQAEABAAHQArACwAIAALAP////8PABwAJAAVAAQAAgD8////FAAWAAwAAwD9//r/9v/6/wMACwAFAO//0v/M/+D//f8NAAEA6v/Z/9D/0f/i//j/DwALAOv/z//F/8z/7P8EAAQAAQDl/9L/y//T/9r/7f/8//f/3P/K/9P/3P/m/9f/2P/s//f/6//g/+L/5//v/+j/7P/z//z//v8KAAQA8//z//X///8RACcAHAALAAMA8f/s/wQAKQA7ADQAHgD+/+n/7P///wYAGAAsAB8ADgD3//D/8v/7/xkAMgA+ACUAAwDi/+T/5P/v/x0ARwBDABEA6v/e/97/7P8pAGAAVQAkAOz/yP/V/wgANQBXAGcANgDr/8D/1f8RAEIAUgA7AAIAxv+w/7v/4v8aADoAKQADAM3/s//U/+v/DQAjABMAy/+U/6P/1//+//r/3f/C/7r/qv++/9j/9f8CAPb/4v/J/73/2P8BABgAAADN/7H/sf/O/9r/FQArAB4A5f+j/7//4//0/xUAJwAKAAkA8f/u//v/AQA/AFEAFwD+/xcAEQAnADYAKgAsABAA3//a/wkAQABVADgAGQD1/9j/3v8YAEEAPAAEANf/r//D//v/JQBOADsA4f+i/6f/r//s/ysAdAB8ABYAx/+w/6D/3/9JAIwAhwAvANH/sP+h/9X/RQCdAMIAigAxALP/tP8VAJEA3gDyALQAPwAVAAsAVADIAE4BgQEeAUoA3v/O/wcAnQAxARYBugAWAGj/av+i/04AzwDBACIARP/2/kX/uf8xAHQAbAAFAHz/B/8C/2b/JACXAG8A8P9Q/wr/HP/p/4YA3gDMACsAXf/W/sn+df8ZADkASADg/y//xP5I/w0AcQB+ACEAZf/s/q7+Af+9/1EApgBmAJX/EP8I/1n/NABaAe4BpAEiAWwAZgA1ATsCMQORAy8DYwJ3AccB+wKHBNkFLAePB+0G4wXfBMMEKwRZAyMC5QGzAX8Ax/yS9xfwDeUT2DfQC9bL5Qj2Rv0O+bnvHuz37if0rPfj+In5pf2qBVwNdBL0EQUPBgtyB0sGdAezC7QTghtGIHkg6xyGGQkYBhhSGEoY0xYDFn8VTRWxFCcSMw6uCQMEfPyD9rbyevJy84rxMu/07KvopuDQ183Q98410/zXENyF377iyeSi5uvnz+h46gXsKvD19vz+tgZ+DOINRAzyCdkHcwmHDe4TUhrGHBMdBB9PI8on6yrrKWYoyykmLW8vgDAALTgmFSCJGY0UKxCfC1UGggIC/bj0R+yy4xncoNgA14nUOdKQzJDE/L6CvEa8YsCOxsPNqdSK2T7bGdrr2Zzdneb98Qb+VAgZEPEVRBqqHrYjeCgfLUUytzYVPFxBdURARuxG6ETPQlVCF0L+QI09gDgKMsEr4SAaE4YGtvsd9MHtI+cm3ivUmceZuoSywa9XsJawA62bpWWgOqKfp+etlbSiuUC+msQhzXnVbN/x6tH1egCbCpEV4CFdLjI5YkGFReBJeVGLWjRj/WgRa11p22X3YUZfuV6NXvBcQVXsRXEzeiOSGOMQYgpwAHbwr91jyly65bF7rbimSpv7joeER4I4hpyLMJI6lQ6Wz5Z1mQmf56mit4rF8tLJ3q7pbfSfAIMMhBdxIWwrkze/RbxU9l9/Z/9sOHBHcW9wQXF1dOR4YnxQfrB9DHj+a9Zbf0lGNxEq6R5kEjwFgfgH6iHcAc6huoel8ZJmh/qBzoFIhJWFeYXgggGAHYD2hXGPo5tYqVS0kb3SxRrO+9h86JH3+wJRC2oS/xtZJ7wyBTw4RaNPQFnfXz9mfWrqa+lun3BBcFVwlW5ibFNwS3QGbbZcSEY/MIwjERvAD/cEgftR8LPltNemwwquc54kldSQhJD8jkWNeo7gkUyTPpN6kkCUPp4orvW9usos1UTcyuJ56fbwLPoiBl0TMx/XKBQvzjIVNpA9WEidUoxXX1mjW19et2D5YDJecFuHWrVYo1MaS2pA1DW6KxEgeBKaBa77LvWT8GfoXtljxia2JavwpyepsKhjpj2k1qI2o32mf6pSr8W1nLySw8TKU9MP3lbqZfQW+p388QDpCXsUUR49JhItxzG4NUE5ET1WQvNH60rDS4FM80s8S/xK+EpfSa5FRzxMLg8joRtzFjoSrg2aBVP71e/I4gnXtM3HxUm/obs7ugS64bg/ttyzrrJUsnm0XrqQwdHIzs8N1incLeIx6NvuQfdO/6oGGw3MEREXPB5+JrUt4zJ8NT43eTkUPPY82jyEPaI+N0AYQvpB3z0XOMUwoSipIFoZ+xPBEf4P3wnl/jnylefL317aKtW0z4jKH8eHxdXEMMSFworAkb9FwCLDmsiOzvDTwNij3DPfGOPl6M/vFfia/0QE2weGDN0R/RcRH+klzSogLqwwNDMvNeA1sjWXNZM2LzdPN6o32jabMlUr6COZHA0WBxAJC50GwgFs+4Tz2ut45WLeFNZL0H/NCs1czXHNVs0/zojO7c23zTvOVNHA1sPdBuV86pvsCO5C8RD26fyCA1oJ3w4tEwcWOhgGGw8g0iVLKXwrICwsK30pdCeIJYckSyMMIXoeNhwaGusXBRXOEX4OowlYA5H9cvl09jP0uPHc7RTpr+TL4Jbeg90Q3K7bf91/4H/jKOSP4iDiquRc6KfqYutp7LbumfI/97r7mf/jAaYDVgUXB4IJ2Ax/EMgU1hnbHasfdSAZIOweoB4YHq0cQBt4GrAZGhlaGE8WuBNQEZwO/ApsB/0DyP8q+2H2w/EX7q7rCOrp57rk5ODR3Zrc5NyI3iLhy+S/5+XnHuYI5FXjbeUj6jrvZfPR9vT40vqZ/ToAFALMBB0ItAtREecXWh52IjcjjSEYIPIfaSH6JJ0oOinFJTwfdRjYFeEWGBmlGWEXFxIoDG0GTQEh/mz6A/Zs8VfsNufN40Thnt+A3rncJto719DVvtaN2XHc9Nyg2gHZidlX3Bzh3+YP6/3tFPFe9CD3rPkA/SoBHQZgC4sRVRiPIHUoKC07LpIshyosK7gumDOoN5444zaxM2ow4izmKMgkYyC6GxcX1xLmDQwIPQH4+NPv1+dR4QneN91M2+nW28+xyD3EQ8OZxeTH0MjoyEXHgcV8xcDHasy504/aTN/q4trmBuwB81f64wBHB7wOphhQJOculDY5Or06ZjvOPOE/bETFR1FJ+UgKSH9G2kJVPrY4oTHuKcMiyBtwFnsRaAu5A3H6HvBq5oLeS9fk0RfNKchzw2DApL7xvEW7KbqKuNa3hLgOuka+hsMdyd/NIdBM0gXXqt3D5bTt/vRP/HsDOQtwFBAe8Sb7L8s32zzlP4tC60TNSZpOH1BST5lNKEzwS5tLHkgmQgw6yTFxKYwiKxyGFt4QQgpBAP3zx+hf3yjZ89TCzwnJmcJru5q2zrQmtAOzIrJzsIOvvrADtIm347ttwPTCkMZxyjHQQNoN52zzV/7aBUUKSRCxGUcljzJ/Pp5FskmMTPdPHlUfWkFdZV2DWshW5VPKUitSPk6iRj08ri+mJGwdYRevEDEIpfwo72ji/Ne40RrOJsr8w1G7+7L2rX6sk63CrX2sRqznrO2uZ7IKt1S7ob9awwPH9MpI0kjdZumu9H/9fAQmC3sToR0vKfkzJzx+QYdFpkh6TNNQhlP/VN9UhlNfUupQz064S6hGFT/dNcYr/yNpH3UclRh5EAQEg/Z267zjiN7G2UfUNc68x0XCR70euIi0KbH+rkCuT67Tr9exTrTttmS4CrrAvVjEz85z2ofkTexD8Xr2ff8eDLwZMCe/MfA4Kj8YRWlKVE9CUzJViVZOVlRW+FfyWL1Xm1MqTIpC1DkSNAcvCCmeIa8Xcgz9Aez40fDN6dHhnNh+0AjJlcIJvh25e7MUrw+rJ6iHpjOmvaewqZSrDK1Dr4KzK7ttxULQrdh43lTkm+z/9wIFOxLBHYMnRjHbOtZD60u6UTNVtVYxV+xX11msXSVhWWF0XRtVAUvCQoQ8ojaKMLwokB9KFQIMggPx+h7yi+ib3mTUzsvDxNO/57vittGxw6zDqM+nh6fTpkemoKaCqNyrvLCztr69osZT0DDYrd595d/sOveWA2kPuhr8JcMv5TgYQolIkU1lU0hXvlosX05i/GPjYwJiD16qWUhU1E1eR79ADTifLSEjkRhnDzAIsv/49UfsgOEe1kPLdMEIuhy1K7JyrwirnKWQoAmdGZwqnNmbKJ7Wolepo7H1uS3ABMbQzCfUEdxx5uzyvgCwD+gcoCaqLiY2kj2/RedNZFSUWU1ftmJdZPhkB2SEYu5gel7DWpBW9lGETN1Eizp2Lhwi3hcpDxMHbP4n8/fl7tkaz1XFGr7Yt0iyMa4Pqf6i8Jw2mDaWj5aXmKGa1Z1VouanF67/tYm9ScVPzmfXSuH97Mv59AZcFf8ifC5ZOHlAYkdUT5dXsV8UZxds4m5ecIlxrXHDb51ra2XJXZFVmk39RDg8iTLHJ4AcSBCBA4L3m+ta4CDWzMs0wZy3Fa/Sp1mi6ZwvmICUaZKzkb+StZTflp2ae6DopvytsbWKvcrGy9H53WfqrvbsAtoOTxpyJLgtQzfvQIdK/FOGXFFk+GpGcKdzYHMWcLZq1WOXXY5ZbFZ3U4dOhUYYPAgwKSLHE5gEtPaQ6gTgW9d5z1/Hxb8QuByuV6WEnZqXh5X3le2W0JcKmambDKDepW+r57A8tw2/Iskk1TPiYu8X/IQHSBFMGgYjjSulNKg+VknwVCxgcGl+b3txim8Qa21l0l/iWidX4FSkULBKdUMrOg0w9iUqGbAKW/3c8JTlKd3A1YfO28clwMq35a+KqbqkLqIPosShDKGyoeGiT6VMqn+wYrYCvcLDBMtt1EbgZ+wM+DYCXQq5EZoZDiJSK8M1rj+RSNtQeVg8XRdgxWAlXgBboVfYUxJRl04KS0BGqD/iNn0tuiPVGWoPRQUc+9Dw7Obf3dTU88tsxBy9CLcKslytL6pvqBGnH6cVqGKp0as2ryaz/bcQvi3FXs1G1xni5Ozt9ngAiAn7EuccXCYPL+Q2yz2FRLVLBlL1Vjtbz12sXtZdtlr6VapPt0jGQPg40DFoK/EkNR7+FaMMIQNx+ErtgeIV2HDOkMcDwgW9JLmttduyq7Cnrryszav+rA6wObQpuci9f8IWyR7R5dmR483snvQ8/XMGQg8lGGQhUSrgMm467j9uRIVIrEzPULxTJVXQVJxTSVL4TgRJMUBlNUgroSPrHeIYRhMVDBMD0/ju7fvj4dro0p3Ms8Y+wd681LkguHC3h7Yoteaz2rOatTy5aL75w5jJ1s9F1h7d4eQo7cn1xP5jB54PxxddIKopiDKCOXM+80GNQ6lEnkXTRe5GT0hFSblJSUg5RPo9ajUsKxQheRcQD/YH4QHd+7D1Se+e6Bnhytg10bbK0MVKwuC/ir5LvlS+376Rv4zAj8Jgxa3JAc/w1HHb3+Eh6ATvuPUU/PgCCQrVEEEXch1rI3cp/i4UNLY4PTy9Pos/Sj5pPJA6Yzk4OeM37zR/MKYqYyQKHq0Wvg6pBtH+kPcu8Gbp0+MX32DaqdWL0E7LwMZyw+HBncFRwv7DM8ZqyZnNBdHI0yDWt9g93Tvk6+ws9rn+ewWHC1cRcBdSHfwioygqLaEwWzMhNq04ZTszPRY9bTtFOMY0ujHMLswrSSieI0EeRBhyESwKtwKB+1308ey+5TffUtmE1KbQRc1nynvH48Riw+7CLcN3xGjGfckXziLTTthJ3T3iC+hr7h/1Evy0AsUI9g5cFUEbIyBpJL8o4yyCMM8ywjPcMwo0WDSGNC00lzJfMPUt+iqdJzsjDR5VGWYVnhEnDTcHWQBA+czxoeoP5Bne09jG1PDR3s8jzpLMHcu+ycnIScgwyHnJjMyb0JrVDdsi4KblTevu8K72OvwXAYYFoQqMEIcWihwyIo8mmCm2K4UsbyzHLAwtMS33LVcuqi3qLFsr2yjTJcshKh2iGTYXbxX2ElYPDAqeA4b9w/dN8nvshOYX4RHdKNoI2H7WEtX+05DT+dJD0ufRL9Ku027W5tnh3azhj+VK6tDuPvNd95X64P0+AcEEvgj7DK0QFBTAFkUYERkwGUgZ+RknG2gcDx52H40g/SBMILge0hxOG1YagRlnGcsZHhmPF8EUdRDLCxsH0AIO/zX89PlG+Nj2LfXb8tfvEe1M6s7n8eVM5MLiG+Ku4XLhI+IK46/jVOSR5NzkKOXH5f3mc+gZ6p3rXO3R7+/y8/V8+CL6aftv/dz/IgOBBx0MkhDdFAEYHxq7HMIfyyNmKPQr0C1nLrcupi4LLS8qViZ0In4g1B+OHnQcEhlyFKQP8AqHBTwATvsU96jzFPAN7ETn8eIe35Lb4NdE1J3QFM5czfLMCc2rzITLNcuMy1XM/82E0LzThNhG3uvjb+md7sDz5/gZ/nsDWwkiEBQYjSAtKPcuKDSEOHU8Uz9qQYVC2UITQ4RDPENBQr8/Cjy/NzczOy7hKEwjox2RFxkRGwogAvz5aPLd6ovj5NwM1pPPN8oxxYTAJ7xit5Gz5bDLryawVbE1s5G1q7g3vYXCFcjQzdrTWdo54r3qpvNh/WkHshGUG50kfyz6M5s6OUFdR4dMPFHSVN1XR1rgWjRZ1VW5UHhLx0YHQss99jgCM/ArMSRzG28S2AhX/tTz7umi4GnYM9FlynnDabyJtcKuBKmdpFahNKAzoeuiu6WWqKGrmK/ltBW7ZMKNypDTed0H6PLyeP0KB48QPRr/I+ktMjdbP+9GEk5QVCJa713xX2dgFF9vXO9YGFXeUUdPw0wOSRVDTjsQMt0nXR31EX8G7fsg8tnoP+AD11vNsMRgvM20GK65p6GixZ+CnhSfpKC4osylxqk6rs6yl7c/vhjHyNGB3d3o/fK+/DYGVA+CGFkhJCriMp47yENJS2RRN1YoWmRcO12pW51YgVUXUuNOuUuTR7FCsT05N58vtiaDHNARzwcp/v30yOth4vnYzs8rx9C+RbcfsYKsIqmgpxWnYKePqAOqG6zarn+xVbVXurDACcmz0pzc+Obx8Dr64gJCCwkU3xyTJX4uSTdiPy9HkU1dUklWiVj6WNBYC1daVJRRYk4cS+hHBES8PtU3Wy/NJUkboBBqBk782fKT6YHgotdtzu3E2buks4msg6cppE6iLaLVolWkX6aFqJCrkK+qtC27+sJry8rUBt/O6bX0B/+gCN8R7BqjJM0uUjkoQ9tLPlNkWfRdEWGzYihizWCrXvVbGlmqVehQg0tNRIk7KTLJJzIdtBOMCmoB4Pct7fnhKdf+zN7Cvri0rjKmeaD/nYKdjJ16nimfAaBoovykFqierLyyU7rfwwXOAtg/4qzsWvehAS4LWhT0HbUoJDTZPpdI51C4V1Ndc2FJY1BjU2KAYFxf013wW2ZZ51SMTlhGUDzwMEsmIxwcE5IKtQEB+MntM+Oh2A7OBsOUuMOveqmxpY+jVqImoXufz56BnlefzqFlpT+qm7D5t/O/ccjO0HHZkeK06yb11P4yCSsUjB8sK042j0BfSW9RmVjGXlFjaWXPZQJlMGVIZjVmA2V5YTJbtVPiSqZAWTbfK1EhlRfFDf8CC/hQ7CPgANSryMm9nbSWrUeopqRdoXueVptEmbSY2plXnQyiaKe9rae07LuOwzXLXtLV2abhzuol9WMARAyaF0siTywZNrw/q0h8UG5Whlp5XdRfa2LtY81kKmSsYeRdW1iXUWVK8ULgOpQyPCmrHx8WWQxLAob3h+yR4RDXWc3MxDG9hLbRsGms6KhlpjCk+qKcoj6jjqWuqPSsZLKeuMO+QcV8y37SPNqc4s/r8fQQ/mwHxxA8GnEjRSzCNKk8gUOySMlMDVAfUxBWH1jNWKlXYVWbUvpO8UrPRVc/+zfQME0pliHxGAcPwgRz+tbwNeia4HnZ8NLFzNzGOsFZvAS4z7R+shKxx7CdsSK0oLfZu+S/qsPLx+DMvdKO2ezgNuh+75T2uP2+BPALKRMkGoQggSYMLE8xKDZ6OrU9TUAeQllDBkRyQ8dBFD+3O3M44zVVM44wcyyFJvAeshbvDeQFm/4S+C7yxeyd52LimN202ArUYM8py8HHrcVpxbnGK8nTyyPO6M8u0cTSX9Ur2Q7epuND6ZfubPPY9wz8HgDHAy4HSwp+DfkQ4RQMGfocLiAgIi4jSyNGI18jOSPwIkAijyEpIfog3yBoIHAeABt6FoIRzQzACKYFQwOWAeX/z/2t+iH3cPNf8AjuROzp6gjqsOmW6QbqIeov6l7qgeoy61fsqe1r74rxkPN99QT33vcx+FP4tPgL+Yv5Efqu+tL7Wf2+/iAACAGJAfEBOwIPAggCrQL8A8gGYAqjDTEQ1hFeEogSUBK+ESQR1hAIEZUROBJ6EiYSVBEJELsOlw0+DAALGwpOCeQIUwgPB+AEJgJ2/wb9MPtN+Vn3bfWS8/PxfPDM7tDsbOrF50Ll8uJN4UPg7N9M4Nfge+EG4m/iROPg5BfnsOmq7A3wGPRe+UH/UAXeCmQP6xIlFgwZ1xsIH08ipCVvKHYqOStXKysrzyp/KvIpsCgNJ/kkTiKaH1kcYhjzE/cOnAkOBGz+b/i+8nXtYOin4yDffNqx1WvRmc1Myq3HxcUZxDfD9MJ+w23FO8ipy8/PKdTK2IjeM+Wa7ND0Y/3WBZcOaxetH1En7C0qM+I3OjzfPypDoUUhR9JHxkcvR/BF2UPGQBk9tji8MyYu1yetICQZOxEeCbQA7/cJ7+rlYN0/1RHOz8cxwmW9FLndtMywRK1RqpyoCKjnqAmr0a40tK6638FCybvQZ9gW4bHqhPVSAbwNCRrjJUwwVDkUQaBHiE3gUlNXAVuxXS1fo1+wXntcZFmeVWhRk0zIRvo/wjcRL8slhBwjE6AJUP9P9MfoLt2A0qrI1r+FuFyyuKxCqDOkjqB4neSagZghl0mXT5rin6inobB+uSjCZ8rv0kDc+uau8pH/AA2GGn4nrDMWPslG0U1dUwVYulvKXvxh/2R2Z6poG2diY49doFf+UW9MC0aoPi02ZS2bJJcb9BHqBt36OO7Y4QXWIsyvw++8Z7d1smStQqjzokSePZoJl2mVWpWil7ScyqPzqzm0sLsow9DKvdOb3a3oVfT+ANANiBpwJggxNzoPQuVIw05+VH1ZHV7xYYtk32U2ZmdlImRpYSddCVe/T7VHvz/YN5AvlSbRHHwSMQdr+wjv/OI+1w3NXcTYvDa2bbBVq1Gm76B7m2KW35Jmkq+UX5lAn6GluqyBtNa8o8W1ziXYUOJz7b/4FwRED00aVCWJLzU4iT+3RShL0FDkVfdZrFxUXm1fM2BnYBlfBVy0V+5Rk0vrRBk9lDTzK/MiOBlADzsE3fgT7kvkNNvj0unKg8O7vA223a8RqimlwKHRn5qfrKDCokKm0KqasH639r6mxvXOnNcF4erq/PTf/p8I0REAGxQkUSzmM6M6bUCSRS1Kmk3cUDdTxFRCVSdUv1FLTnJKu0abQtM90zcjMD0n7R2DFAQLfQEE+NvuN+aS3rjXAdG3yX/CKbuctIyv7qs4qiOqEKsqrQewmbNeuCm+FcWpzKHUuNy15NLss/Xv/vQHxRC7GLwfOCY3LNMxdDeGPKlAj0SLR2RJJ0rySHRGMEPSP+48DDrVNvIy2S1BJ1wfkRaEDbIE3fzQ9VLvD+kx4xLdwNaS0FjKdsR7v5C7U7nJuFW5GLuMvZjAHcQeyEfMNNEW12Pev+b571f54gFLCccPchWVGqIfiiSqKeguBDRHOMM73T2mPj8+dDzSOYg2CTMZMEItXSofJ/cixR3RF0YR7glCAsv6r/NP7eXnM+Ob3rXZr9SKz9XKhsbCwj/A2b6Kvsa/NMKLxSPKS89T1CzZ890y48Dp/fFq+woFmw3pFOMa9h8QJJwnGCvALsoyEDeFOxY/skEhQkBAGD3aOGo0vDD1LBApLyVkIP4a9BQZDo4GwP7h9nHvrOg/4s3cH9jE06vPRstwxpnBb73nuhS6fLoQvFi+icHMxe3KWdDe1YjbxuGY6FHwD/lYAhQMHhaUH58nri3JMdk01zc7O6I+YUKbRSZInkkNSc1G+kJpPog5IzSLLn0oKiL8G8MVDw/bB5D/lfa+7WjlBd7514HS9MzDx8LCTb6Uuke3qbS9skuxCrFKsrK1PbscwjnJvc+B1dDb5+Ln6hP0T/0KBtAOuxe/IM0pETLWONY9OkEbQyNFeUdOSjVNAU8kT1FNFUoHRrZBaD1vOK8ybyx5JVYexhYADpgEHfu98SXpzuEz2wPVDM/jyLbCrbz/tj6yxq6xrGCsRK09r0Ky8LUTuq6+vcPGya7QgtgV4Q/qUfMH/awGIBC9GFsgUyfqLSs01TlvP1pE6kh6TG1OJ0/rTgxOA00tS5tINEUNQWs8XzcVMuAr8yOrGnwQOgbN/Gr0yOzW5TnfX9g80arJ7cEIuzK1QrDnrPmqkqrXq0quRbEwtMW27LmcvdPC1ski0lzb++SC7rf3cgCQCGgQ0RcCHx4mcy2vNPk750JCSF1McE7RTrJOTU4YTuhNEU1LS2ZIYUSJP285bjJhKtAhyBjpD5YHov8C+I7wq+hU4OTXlc8tyH7Bu7untr2yELDLrjWvb7C2sVyz8bTwtm+6Ub+XxeLMqtSv3GbkROxn9JL8rQSGDCAUyhukI6IrazOXOkdAKkTURi5I4EkLTK1NSE9hUCZQsk5nSxNGPj+5N7MvciecHykYXBBkCMX/yva+7c/kE9x9093Li8XDwDO9KbqRt/y0J7I6sCyvU68bsS+0/7fTvGfC68i9z6zWnt0z5Anr/vGq+XwCLQwoFksfyyaRLJExezZzO35AMUUmSR5N0FA7VAJXT1dZVQ9RzUrgQ9E8tzUwLwcpjyJUG+4SAwk3/h7z+ed63UTUV8w4xrfBcb7Zuza5Vbb2stivmK2arIaterDotNu6dcHXx+3NotM72WPfl+YZ75L4GQO9DcQXcSBPJ9AsVDHFNW86qD+eReVLgVESVllYV1gOVp1RGkwTRlJAuDpSND4toyWpHVgVWgxbAkz3G+w84R7XLs6XxpTAKbyhuOu1VbMVsbevMa/Rr0qxr7NQtwa808GNyG3PHNZf3E/i5uiM8Hj5RQMtDWIWYB5YJV0r0TBaNl07HkCRRHNI+UunTtFQnFHoUI9OjUqxRchAQjtJNUcuDCYjHeMT2wpEAg76efEn6JPe5tT0y5vEUr6juWK2fLRzs2qzO7RTtZe2VrhAuuS8UMEWxw/OntW43HzjMOpn8S75EgGwCDcQ2BeYH3knAC+nNW07ikBgRPxHrUrnTKNOjk8WUHtP003BSr5FJj9QN6ku1iURHacU2QwfBVX9wvQ06+rgiNa0zHDD7rsgtpmyObEhsaux/LG3sYGxnrGNsry0UriPvZnE9cwp1uXe3OZV7ib1+vstA/AKyhOPHaYnJTF3ORRA8UQPSRdMIk89Uo5Udlb5V2ZYiFc3VI1OokbCPdM0LyxsJFIdJhb3DUgEcPkK7ofip9c6zfjDULyWtreyMrCMrgqtaKs3qmGpcKm1qiytCLFItlW8YsPiyt7Sbdvu4wTsxfNK+8oDjg1lGHEjSi3mNbM86kLSRzBM70/UUvlVOlmwXGtfu18HXaFXLVDlRwo/GTbrLY4mJSBsGbgRTghS/TPxpuTj2PHOKsdpwUy9AbpMtza09bCqrQGro6nWqaKr3K4ns6y4iL6ZxMPKu9Dp1nHdUOTt6/XzsfwTBpAPGxlkIhYrXjJyOH099EHsRlRMCFEGVUNXAFg+V7FUjVDiSkFEkz0iNwYx4ioyJJsc9xM7Cq//0fRX6rTggdjW0U/M5cfow1rAorzFuP20nrGRrzivubA3tNO4Eb6dw8LIns2Z0pbXZN0M5KDrEvTV/IoFMA53FkAepCWhLB8zHjmTPktDvUdVSxtOw09kT1xNBUr3RbRBZTxNNgsvsyfuIJkaFhS2DJQErvvL8knqeuJ+24rVcdBJzEXJuMZbxNLBc79gvfa7BLx4vZLAH8VzyoHPHtQy2Lfc4eEI6Kvu5fQV+7YBCgn2EB8ZniBDJwwtKDKBNqc66j1SQOhBPkJGQqFBCEBBPeY4RjO8LOQlgR+gGSQUuQ6pCNIBJ/qP8lXrKeXS32HbtNez1FXSKdBezofMB8t4yYzIZMiQyarMCdEc1jDb2N8I5Nrn7utl8NT0bvlS/p8DrQkgEIYWThwxISklhShxK70tUi+WMC0xfzHuMe0xWTE4L30r4SVTH/8YfBPmDggLPQfgAub9XfiA8tDsgOek4tHeOty32tzZM9l62IjXNdbm1GnU9tQX107aot3h4M7jIOcQ66XvSvQ9+JL7yP6OAiwHUAxrEUsWvxqMHt4hdSRDJpAnwSiOKQgqACodKcgn8iXFI9Eg8xy4GDgUjA8LC9wGogIe/lP5LfQY70nqSOY+4zbhTeAC4Nffbt+z3sLdCd3z3Mfdvd944oTl7+h07P3vUfM99u/4dvtk/hQCgwY1C3kPPROsFswZXhyAHg0gxCAXITYh3CBQIM0fEh+8HWsb6hdWE2IO0QknBiQDNgD5/FL5XvU/8T7tYemb5SHiXd+p3T7dvt2+3gXgMuE/4lrjquRV5qnoi+vE7nzyWPY++jn+KQLtBUkJIAyvDnIRyhS7GLIcFyChIhUkkCR4JNgj2iJsIaIflx1OG9QYCha2EpoOdAmHA4j9WPgm9NrwRO6G62zo5uRQ4RreVtsj2aTX39b61irYQ9rm3OXfVOMZ59Tqse6j8qv25PqQ/2IEDgmqDTYSoxbeGmceQyEVJK4mailPLB0vOzFSMkAy6jBELskqsCYsItsdnBmDFdYQ2wqSA4f7ZvPl68nlS+Aw27/WydJZz6rMC8qgx23FfMOswgfD6MS6xznLWs8B1K/Yvt0d4xnpMPDb96f/DwfZDW0UOBseInUo0i3kMec0EDhPO8I+1UEXRHlFyEVTRclD2UCoPFk3ljEGLIQmpiBOGvgSOguRAjD5e++h5Q7cLtPOy+zFf8ECvh27ebgNtr2zJrIlsSKxrLKQtce5RL+JxV/MbNO12ivifOmn8Ev4swAtChQUvB1vJq0txjMKOX0+hkNESK5Mg1BIVHBXj1kuWrpYY1WJUKNK6EP1POc1GS/IJ7IfSBYHC7X+XPKb5tPb9tENyQnBObqotF+w/6yMqU+mbKOToQmhI6K8pJ+ola3Os2+6dMHmyJfQCtmm4srsJPdTARMLthQpHhsndC9IN6Y+CEZYTe1Tv1lqXi5hnGKSYo5hVV9MXHlY9VOETghIZUBjN6YtVSNrGO4MBgEF9W7p2N751KXLEMMVu9WzYq1UqIikJKInoaegxKBHoWmiEqUDqYCuYrUzvUvFO87A173huetZ9Zv+YQcEEB4ZCiOHLXM4rkJxS29SildFW2leWGAgYXpgCl7/Wt1XzFQNUS1LC0PvOGIuQSQGG8gRQAjc/RjzyOgd3zzW4s0CxgC+27bWsIKsKapjqVGpUqmvqD6oyqhCq4avHbXruyXDLMtK1Ofdx+d68RX6lQHCCO4P4hcEId4q2TQlPhVGBExlUCNTilSTVApT2VBWTgBMR0omSBtFYkDDObIxryhZH1oWJw6bBlr/FPjI8JnpaOIz2/bTB82SxrHBrr45vdO8IbzOuuK4brdEt2y4Abv9vr7Dgcnaz97WL95U5dfr6/H992z+ggUnDbUVYR6mJvktFTT5OJk8Sz+FQMFATUBcP88++D35PPg6ejfUMpUtGSisIkUdvxcrEmwMzAZbAbj72fXa7w/qBeW44AHdr9kv1xfVD9Ma0dvOvcwmy7DKUsv9zLLP09Jj1nfazt4L41HnbuvD73H0dPmz/toDAgkKDvgS3RdaHAYgpyJcJIQlOSaoJrYmSyZBJaIjQCLUIGQfnx0JG5wX5hNlEB0NswpGCNsFNQNUAD39E/r19vnz0vGV8OTvUe+W7oztMOyn6i3puucu55vn4Ogm66jtoO8I8SHy1fJ982/0lfUK9wf5cfvK/ScAGgKsA+QE5wXMBo4H+QcSCEkIRQhRCDAIrQfbBmIGTQauBjAHEAdeBlcFxQS0BDgFDwYGB7YHQgiVCN4IRAkeCfAIgghFCEYIQgjyB2sH4QYeBmQFnAS9A94C+QEQATgAa/+L/mz9//t3+t74Pffe9av0nvNQ8hjxGPAR7/Htg+x16pTom+dJ54/n8uc86MXo9um867Xt9O9J8p/0R/dY+uX94AE0Bo0KkQ5LEgcWfBnmHC8gRiPcJZcnryg7KWopjymIKSEpWig4J4Al6iKbH4Ib9BZ1EhUOwwlLBWgAEPta9aPvDOqK5GrfqNpZ1sDSj8+nzCjKq8euxVPEacOQw2fELsYIyZnNbdMC2oDgVuby69rxWvhD/1cGXw3VFFgc9SMrK6UxIjdYO6s+4kDfQTdCQEISQglChUEKQKE9WDo5NvswxypLI14bhhNODKgFd//q+IDxy+mK4brZatIwzOnGrsJkv0+8BrrQtx22c7W8tRS3bbm0vAvBy8aczVPVRd035d3sffQo/GoEcA2kFoQfkSfwLoo1fjt8QHBEpEalR7RHFEfARopGSEaHRaND9j+uOvkzgyz1JIAdWRYHD88HYwCx+M7ws+hm4OPX9s/UyAXD6b73uwa6TbhetuK0/7OPtNO2gbpZvxDFUsv30QLZWOAe6A/wDfhQAKEISBH5GX4ikyq8MWY3oTsYP+FBZkRIRsxG+kU5RPZBuD/zPKU5ODW+L5Yp+CISHCAVLQ4+B4cAhvl+8jjr3eOC3MrV4M+wyq/GWsMUwXe/X764vbW9ir5PwAbDpMZ3y0HRGNjs3qHlBOxk8v34QADtB4YP0BZFHZkjdSnVLh8zazZ8OMY53zomOxo7Qzq2OG82jjMgMDYsxifQIoEdwxf2Ed4L2AXt/zr6yfSt75zqMuW834La19US0lrPa81BzHzLQMtvyy3M581a0IrTFNf22hrfrOPu6Lnul/Tt+dL+XANwCA0O4BNtGQgemyFPJLYmxiiDKqwrFizZK1ArdSpCKWAn5SQRIs0edRvNFwkUJRAJDM8HSwN9/uv5yPUW8sfuietW6CnlQeKd36DdKdxb20Xbqdta3Fndmt4L4CnixeQN6JrrTu/y8lz2q/ns/CkAegPOBukJKg1OEEMTxRW9FwoZrxkQGisaNxopGg8amBmQGBkXYRVZE1kRVA8DDb4KPQjcBXoD9wCH/iL8DPok+Lf2VvUv9OzylPGS8MTvde9C71rvUO+V7xPwnfBG8fjx7vIK9Gv19/aK+Pn5YPuA/Kf9tP7A/woBYgLSAwsFEgaXBqwGaAYkBv8FNAboBokH8wf4B8QHQgf/BvoG1AbLBrIGsAbKBgsHFAfYBk0GcwWXBAAEDQRUBIsETwSLA4QC0AGWAXgBKQF5ADL/uf2h/NP7U/uf+t/56PgO+Jb3OPfr9nf28PVq9TD1K/Vn9cr1NPaW9uP2Ove292r4X/mD+pH7l/yp/a7+pP/YABQCcwMZBcQGewjlCQcLmAvdC+8L3gv3CysMVAxGDDQM4AtpC+AKJwonCTUIUwd5BpoFtgSuA1oC3wAm/3T9xfuE+ln5Zfhy90v2RfVT9MjzPfP78pHyQvJD8qbycfNI9Er1FPbh9sf35PgW+kT7fPyn/dL+GACKAfoCXgTTBSEHLwgjCccJMQrFCkkLngvcC+YLpAtHC8kK/AkwCWwIpgfIBu8F7QTLA5MCRwEJAML+sv2L/Jb7wPoR+pH5Hfm0+Dn44/ek95X3qvcC+GT49fid+Vr6FvvX+6/8Wv0D/pL+Tf/9/9wAzwGRAjwDjQO+A54DnAOiA4ADiQNYAyMD5QKnAjsClQHSAOP/A/9y/hH+zv3B/cj99/0C/hf+6/2+/aX90P0+/sf+gv8ZANkAZAEVAp4CFQOYA9UDLQSEBBwF6gXJBmkHjgeHBy8H1gaNBioGuAX4BFoEZgOsAtIBwgCc/+j9Zfx7+iP59vcy9+D2Yfbo9f30GvQk863ymfLy8ofzNfQN9eT1FfdZ+Kn5tvp/+x78C/13/ogAuQKjBOoFaAbXBjMHfgjVCWULsQxGDdQNPg4SD5QPOhAHECYPKQ5BDfkM1gzaDOkLLwoICKcFvwMpAtkATP9k/Vj7N/mO9yb2CfXC8ynyePDO7rrtKe1A7V/tke2z7aLtGe6y7vTvefH/8qv07PWN91b5efvp/RUAFwKzAzcFxgZZCC4K8wulDTIPRRAjEc8RgxIPE2sTXRPVEvIRGBFfEJ4P9Q6aDdALkAk4BxkFIgOFAdf/Nv5s/IT6vvgC9671V/Q48wXy8PBk8AbwavCL8PXwB/EE8V3x2vEO80/0AvZP94T4lfmi+sP7Av1d/mD/kAB9AaACwQPnBO8FkQZCB6YHJwi6CFYJ+AmDCtQK5QqzCmsKQwr8CeAJdwn0CEEIkQfpBkIGqQXqBCgEJQM3AvkA/f8F/zT+gv2h/NL7pvrW+RL5hPgk+K/3Pfer9oD2g/bW9kj3gveI91P3lff199X41PmC+kT7l/s8/NH8wP3H/qf/qAA9ASMC9QIIBOEEjAUKBjUGnQbYBm0HxAchCB4ItgdMB64GYgYOBtEFjQU8BdwEdQTYA0wDqgIFAnAB8wCnAEgAIgCi/yj/nP4n/rD9Kf2//EP8Gfzm++P7sftc+wr7iPpi+lf6iPrB+uX6BPvz+hH7L/to+7b7G/xY/HT8uvz2/Hb9E/6P/u7+Lf+E/+D/ZADxAH0BDgJsAusCTAPbA3kEDQWjBf8FLgY+BncGwgY8B60H0QeNByAHrAZdBhwG8wWMBeIEOARMA5oC1wEOASoAFf8E/vn8MPyU+x/7r/r5+Sv5Rfix95H3qvfu9/v3//fk9x34fPgK+aP5E/qZ+vP6ovtC/CH97/14/hf/f/8MAJAAVgELAqQCOAOQA98DGQSPBA8FgQXcBfIFxgXABeIFOQZvBncGRgbPBagFigWbBXMFIQWOBPkDlwMrA9oCXQK3AdsANACI//P+c/7b/U79ofwP/Hb7A/vH+pD6d/pD+h36Hfoq+lb6bvqm+vP6WvvQ+zP8pPz5/IH98f1a/sr+KP+c/+P/WgCiAOwAEAETATMBJQEwAT0BSwFIAT0BKAEQAfIA9gAJATkBIwEqAVUBgwHbARcCWwJcAqwC5wIuA3IDswPsAxEEUgRuBJIEiwRxBC4EEQTSA7IDbAMBA5gCCwKVAfcAVQCr/xL/Vf6s/RL9i/wF/Hz77fpD+sP5QvkJ+fH45Pjc+Mb41PjR+B/5h/nf+VT6uvo++9j7qfxz/Tb+4/6D/zIAxwCVAVAC8QKIAwIEXgS2BB4FhQXjBegF3QX0BRMGIgYmBg8G4QW8BZsFewU1BfEErwSCBEsE/gOyA1wD/QKXAkICzQFYAeMAVwDY/2D/5f5l/sn9Jf2K/A/8d/vy+n/68Plz+QL5rvg8+BX47PfG97L3pffG9wX4Zfiy+D75sPki+rv6kftn/Db9Df7m/sb/jgCNAXUCZAMrBPAEnwVVBisH0QdoCLoI/wg4CZUJ+wkuCicK/AnICYoJNQmlCCoImAf2Bk8GjwWfBKoD0gLTAcIAqf+e/rH93vwF/EL7Yfp/+ZD4zPdE98L2dPYq9hL2yvWp9W71T/WO9ej1VPaC9ub2RfcW+Cr5Nvrz+kv7qvuf/C/+rv/7ALkBPALiAhgESQVOBuYGQwf4B5UIJwm/CVYKVAo6ChwK1gmmCaUJsAmHCTEJeQipB9wGFwZeBcQEAwQpAzwCQwFSAH3/pv6s/ZP8dfuR+un5sPma+Wj5u/j490D30vbs9kL3w/cP+Dz4SPiU+O/4Qfme+fv5V/rQ+qH7a/wu/dP9Sf6O/qj+wv4i/wIAQAF6Aj8DXAMOA88CVAN5BIEF5QXTBcIFTAZGB9oHBgh+B6QGOwbLBqsHKAjuBwUHGwZaBQIFygR3BKYD6AJLAosB2gAqAEr/Nf5C/UH8lfsV+6D6NPrS+Sv5cPga+Ov3BPg6+Fv4N/he+Oj4ZPnd+Wn6zPow+8z7gfxw/Uv+2P5b/wEAdAAFAcoBfgLXAvkCMgOJA+sDMQSKBJMEYARABFQEYgRqBIAEdgQ8BLgDRwNLA6QDvANqA8UCFQLQAc0BrQFwARcBrgBCAPL/of91/4z/bf/P/gb+nf3J/XP+tf5V/qf9If3p/CP9hP2p/an9mP2u/eH9If4s/jf+Rf6D/rf+5P4W/2//5f8TABcA2P+N/27/5v9bAHUAXABjAE4ARABIAML/MP8V/5z/awDhANL/lf6F/lH/GgBaALv/l/55/nL/9gDCAWMBTQCn/8v/zQBfAkYDEANBAs8BwgGOAnwDxQNhA6ICOwJ8AisDnwOZA9cCrgHrAAsBfQHEAa4BCgEoAJX/UP8j/+7+l/5e/hP+o/1I/Tr9Lv3V/Ff88/u++577mvvJ+xP8K/wc/PX7zPul++X7tvxb/Z/9p/2a/cP9M/6+/kD/k/+y/+L/XQDjACoBdQHTAUICvwL6AkID+QONBOcEQAUYBdgEWgUrBqYG2AacBhUG6AXRBZkFcgUJBX4ETAQsBLkDAgPkAXEAX/8k/xf/kv6P/U/8MPsu+pD5Y/kS+UH4TffO9r/2+/aQ9973OPeI9rr2yvdJ+Wv60vrq+hP7mfv+/Nb+JQDqALgBWAKbAjgDcQS5BZIGBwcrB1AH0gdMCF8I+gdvBy4HVgdcB0YHJQewBv0FUQWrBNsDaAMnAzMDaAMWAxgC2wCf/+L+IP9N/8f+4v0z/bf8dvwm/If7s/oA+q/53/k9+if62Plx+Q75zvjR+Ar5ofkd+nP63/oV+xT7bPsi/Lb8Rf2l/Wr+k/+gAAoBLgE/AXkBfwLZA7MEuQSeBMQEiQVJBnMGBwZaBfIEhQWbBq8GDQY9BZEELgQhBOgDVgPwAt4C0gJgArEB8gBtAPz/n/9p/yz/xf5S/in+A/6K/QL9q/wI/HD7gvsc/Jn8lPxJ/Nv7Ofun+qz6X/tM/Aj9X/39/Hz8e/wk/RD+mP53/iH+Zf5I/8QAWwKOAtQAMf/x/h0AYgInBFcEfQNvAr4B7QGfAkYDpQN9A9kCsAItA8YDZgQqBMcCTQFsANkAogIpBE0EAgP3AJX/sP+xAHABXQF5AIn/Tv+R/w0ALgBp//b9lfw7/Ej9nf7U/tz9e/yD+0b74ftx/BX8q/vQ+xj8Rvyr/Df9Rv3C/Jf8DP3x/RH/6P93AF0A4v/e/4UAfAFpAv8CuAJDAmcCPwM5BIIEYwMWAiUCKAN4BPYEDgR6AtUBJgJwAnECNQLTAaoB1AGeAREBWQAKAEkAdQAoAMn/3/+T/+L+A/+4/4v/lP6a/Tj9w/3D/l3/k/4P/Tf8t/zc/X3+Nv5O/T/8nPvv+zj9of7W/sj9afz3+wX9kP4p/97+bv6S/lz/PgDxAGkBkAEWAY0AhACRAZUDNwXxBGkDZgKdAn4D+AP5A48DUQNIA28D1QOiA4ICaQHnAPoAfQGjAXYBKQG3ABUAb/8J/8z+t/6+/rH+U/4z/lv+RP7j/VT93/zb/IX9Fv5R/jD+nv07/an9d/7c/rP+Ev64/UL+R/+b/3T/7P5X/sD+ov8SABMAEAD+/93/3v9QAO8AFAHkAN8AFwE2AQ4B7gDdAOgA/gDuAP8AIwEQAb8AgwCIAJcAmgBfAB0AZQADAYABLgEoAKH/LwDsACwBCwG2AJQAxAAPASsBHAHCADkA1P/y/48A6QC/AHgABgB3/1D/iv+y/73/nP+j/53/+/7Q/mP/rf8H/3T+aP6s/ij/cP+S/2X/v/40/pr+TP+6/+P/kf/8/uv+c/87ALcASwCS/2v/9/+KAMoAtQBMAAgA5v8SAHIAqwDBAJcAUQANAA0A5/9CADcBLgEUALf/TwCHAMsABwG0AOn/kv8cAB4BgwH2AB8Au/+Y/zP/ov9GAC8A0v+8/4r/UP9y/87/zP8d/4v+v/67/1gATQAwALz/1/6//m3/+P9GAG4AOwANAFoAnQDPAFUArf/I/0wAAgGMAWEBJAHvAHIAQwD0/93/pQBlAd8A///b/8j/0/9nAGQAav+k/mb+d///AA0Bzf+8/sz9r/1Z/6UANADU/vj9Wf60/xMAnP8a//b9pP2T/vr/tAAeAGv/Ef/Z/ib/+/9kADMAyv/J/9sA6gHRAbsAl/91/w4BqgJ9AqQBWgFdAe0BUgK9AekAjQCMAf4BugGrAeAByAFyAI//9f96AHEAZACJAKAA6v/V/nT+4P4B//r+S/8E/xz+7/30/o//lP40/XP9Af50/hX/c/+f/+7+qf20/cf+Wf/K/2z/yP7o/on/4v/C/4n/aP+5//P/HQCuACUB6gB3AFUAewBuAGEAuABKAbsBlQErAckADAHSARsCKQGCAFgBUgLTAiECRgEhAcoA0gA4AekAUQCUADwBgwAx//v+cv+j/9D+Lf6j/h7/vP5T/jb/d/8z/mj9Yv0A/i//1/9a/1L+cP1G/gIA8v8t/0j/hP9q/7H/kwAuAZQAyv/N/wAAfQCdAZUBwwCeAPEAMwHXAOsARwHUAF8AagHYAZcAzP8pAMIAEgGKACUAIgBu/6f/GgFrAWz/av51/2cAIAC5/9z/nf9G/67/YgDZ/4X+hP5lANEAN/9t/lX//f+x/73/EgD5/2b/9v47/xkAygD9AKb/Bf44/hQAegFYARkAgv4w/lv/8wHzApIAxv1P/osA/ABfAY0BVwCd/hL/NwHXAfEA3P+I/+j/TwCFACAB3wCj/zL/DwDC/07/WACGADMA1f+S/9H/LgCY/33/bgAKABX/jv9hAIsAGgB5/0X/L/9e/0H/iv8BANn/pf9K/33/BQDe/8P+3f67ABMBfP8q/3sA8QBOACT/sv74/28BAwEsABwA6wB5AmACzv9a/j8ATwLIApoBlQBAADQAqQBkAUMB5P+p/qH+gwAXAkUBGv/i/dz9Zf+HAC7/Tf6P/wkAEf9Y/gv/2f8t/9T+I/8v/wn/7P9jAFYAKf/q/f7+iwDUAEcA5P9T/5D/HACAAHUAfv+P/+QAvwD0/6//JwAxASwBBQAh/27/mABBAp4BWP/B/lkAdQGeAG8AyQCOABQA+P80AKcARQFfAIX/sQAUAYj/Rf9NAPUATgEHAAD+Uv4uARwCVAA6/rr9vP8kAKv+7P7KAJsAbP5r/VD+/P/7AOMAUf7a/M3+IwFOARQAwP/n/13/if4cANcB7AFWAGv/hv9bAO8BKwEdAAgAxwCcACMAxwCzAeEBoQAD/3P+4f9oAY4BmwD5/5D/6f42/1cAZwGgANP+lv3M/r4BXAJAAIb9cP0C/08AEQA8ALoAj/++/gD/9/5d/00BQAEj/039V/9dAowC0f9c/d7+CwGyADn/IgBwAWMB5P+f/sP+kwC/ATgA1v7M/48B6ACo/0//2v9JAKj/Lv/I/28AvADDAFr/7f5EAEQAKf8D/wkAYAFwAcv/QP/M//b/5/9LALUASwC6/2r/BQD/AD0BzP+g/j//SQBQAMoALAGu/87+Yf9ZANkAXgDb/kj/4ABWAHX/LgAGACr/wP8xAGQADABP/+X/PgDh/wsA/f/Z/93/7f+hAJ8Aaf+S/3UAUwB9/6n/DADOAIIB+P/k/nP+mP92AWAB9v9b/9L/PQC6AGQAFwAh/+H+1gBiAqoAL/7B/kUBcQFB/nH9Iv/6ADgBaACl/3z+nv5a/7gAdAAs/zsA8gD5/8n/vwAPAYj/w/5BAPUApAD//3cAdwEWAXT/gv5r/ygBpQGPALn/M//LAPgAfv7O/j0BdwCD/h//+/8KADEAtQBJ/wP+Rf6X/6MAMQCVAAYA9/5H/qD+kQHYASX/Pf4q/3gAvgE/ASX/Nv/b/wwAkADIAEkASwCeACEAwv9/AL4Aev9J/1sAbAHn/8H/ugCDAKn//f7o/1IAnwCRAPn/2/5m/9MAfQF7/1L+KQCOAOT/4f+EAcIAqf6C/9gAjf///kABdQHx/1P/nf8lANb/9f9FAL4AAgB6/mT/HwF0AcP/1f6x/3D/kv8DAbwAyP/6/nD/jQADAFn+Z/9OArsAYP1V/sgBgwGI/8L+h/9SAAQAkQCBAB//V/+pAP8AJQDv/on/bgAsALb/0QCGACX/tf8nAAIAEQDX/0f/dQAhAUIAm/6v/cMAjQMnAaD8WPxJAQsEvwBp/vD+U//9/7YAPwGOAAkAC/+B/5MBEQBZ/xABdQHk/zL/+P8SAOP/hgA5AnkAI/3l/SkBEQJWAJ3/dv4Y/mz/uwCvATQAn/20/pMARgD8/yn/vP9fAAsAU/9g/zwA+ABUAQj/bv47AJ0A8AApAV//2/7CAGMBegBS/9j+fAC1AfEAp//8/mYAeAFZAAT/AP//ABYBBv8N/yUBKQK1/kj9+v/gAV0Bc/6q/ZQAigIdAX/+gP5gAGkBOgCN/gUApQF6AcL/nv71/goBUwGE/9n+mv7fAPwB0P9Y/u7/IgAi/q396/8nAksBN/5l/az++/8jATf/gf0J/5YBowCr/pT+1wBFAq3/1f1q/poAFwMOA9gA4P64/pkA+gEFATsAAgJ1ATT/Q/8nAcIC2QEy/l/9pwBCAXcAPQFPAVb+Vv1xAFwB8P44/g8AJwGO/1b+wP+QALr+ov0fANcAsv6z/u8AwADM/uj+JAAqAI3/CwD1/3D//AAPApwA+/2T/p0BZAH7/8T/2ABmAPn/cwDO/x4AugCrANP/m//a/4MAFQFHAND/yP9u/37/NADeAK4A8/8S/z3/PgBSAEgAuAAUALj+EP/oAMUBAwCB/nr/6wDpAIL/+v7v/5YAfADu/xH/+/6cADkBFf99/jQAxgDi/+D+Ef8UAMgAnABK/4D+p//xAM//H/91AM8ABgAS/yv/SwAgAUUAb/9p/3r/BwGJAbz/ff6m/x4BsQA0//n+1QCjARYA7v57/zMAZwBOACkA5v/b/zcAMQDw/wEACgC7/7//+v9PAHkA7f89/97/mAANAGr/l/83AHMAJwC2/xEAKwD8/+r//f8OADkAagDm/9P/RgB3AOT/0f9WAD0A+f8SAFIAUgA5AOH/4v8xABkAIABAAAEACgAbAMf/8f9IABoA+v8NAOr/zP8KAGUAFgCM/8n/XwAgAL//+P8QAP//vP+v/x8AEgC///3/DQCo/8L/JQADAKP/2P8/ABQAqP++/xAA8v/j/+j//f/0/8f/2P8ZAAgA6v/x/97/5P/a//T/DAD7/9P/0/8CAOf/xf///ywA8P+5/wUAKwADAOz/7/8cAEUAAACk//j/XQAxAPz/BQDs/9//AwAZABMACwAEAAYA+P/j/x0APQAbAAoAAAD5/yQANAAUAA4ALAA4AAAA5/8PAD0AIgAKABoAGAANAP///P8bABcA5P/5/w8A5/8CADsAJwDx/9z//f8DAAAA//8LABEA///f/8T/z//t/+z/0v/A/9b/BQDR/7H/6v/3/87/xv/x//T/3P/b/xEAOgD1/8n/7/8HAP//GAAqAPv/7P8pAFIAIAD1/wUANAA3ACYAGwA3AEMAAgD9/yUAMAAIAPv/+f8CACoANgAhAAYADgAdAAwACgAwAFcAVwA0ACwAQQBdAGgAXABaAGQAXQBVAHEAfgBnAFIAOgAgACAAHwARAAUAFAAjAAgAwv93/4b/xv/N/5r/a/9X/2n/aP8w/x3/D//k/tn+7v7Z/uz+8P7B/sb+1v71/tr+xP4L/5f/2P+Z/23/e//F/w8ARQA8ACMASQCOAJsAmQC3AMAArwCZALYA+AATAfgA+AAAAeYAxgDHAMgAzgDmANwAugCrAKUAfgBwAHgAbwBhAE0ASABaAGoATQAmACcALAAoACsALgBDAEoANwAoACQAJwAvADwALQAwAEUATwBFADAAJAAoADkAJQATAB0AIwAfABMABgD3//n/8f/g/93/2v/L/77/tv+f/5P/jP98/2r/Zf9n/1z/Vf9E/0j/TP8x/yP/L/80/yv/I/8S/wb/F/8h/wr/9P77/g3///7n/ur+DP8W/wL/Av8R/yL/MP84/zb/TP9j/3P/gf+O/5v/uv/j/97/4P8AACgAOwBlAIwAhwCTAK0AwQDZAPwADgEVARQBJwFLAVsBVAFZAWwBcQFwAXUBfQGLAaABmAF0AWIBagF2AXcBaAFYAVQBSgE3ASEBFgEeARQB7gDYAOAA3gDMALoAqQCXAIYAdgBbAFIAWwBJACkAEgD9/+7/5//U/7n/qv+g/5L/fv9h/0r/Mv8f/w//+/7g/tD+wv6k/oj+d/54/mD+Ov4j/hv+Fv4O/gL+5P3S/cz90f3O/b/9wf3O/df91/3d/eT99f0N/h/+OP5Q/mL+eP6Z/rf+1/7//hf/I/9O/4f/o/+3/9n///8tAFwAdACFAKYA3AAHAR8BMgFNAWwBjQGkAboB5AEFAgsCCQIiAlMCdwKDAooClgKvAsgCzwLRAuYC/QL+AvQC8QIDAwkDAQPtAtsC1gLTAsMCqQKZApACegJPAiYCEgL3AdQBqgF8AVEBKgH6ALIAcwBAAAwAxP+G/0r/DP/T/oX+O/78/cz9lf1Y/Rv97PzL/Kn8gPxL/Cn8FvwA/OX72fvV+877wvuz+6/7t/vC+8f7zvvf+//7Hvw3/Ez8avyZ/MH85fwU/U79hP25/ev9Hf5T/pH+zP78/jX/c/+4//H/KABjAJ0A1QAPAUUBgwHKAQYCOAJpAqEC2AIOAzYDWgOKA70D4QP+AxkEOARZBGgEcAR+BJQEpQSpBKQEoQSpBKwEnASIBH0EdQRjBEkELQQTBPkD1wOiA24DSQMcA+QCoAJgAicC5gGfAVABAAG7AHMAIADJ/3//OP/v/p7+S/78/bn9d/0k/dv8lvxe/B784Puh+2X7NfsA+876n/qG+mn6TPos+hz6Hfoa+hb6D/oi+jn6Wfp4+pH6vfr2+iv7VfuN+877G/xk/Kn89vxK/aT97/01/oL+3/5A/5L/2/8oAH4A0wAfAVwBngHrATYCcAKmAuYCJQNjA5YDuwPlAxYEQwRqBJYEwAToBP8ECwUgBUEFWgVjBWgFZgVyBX0FdAVeBVAFQwUsBREF8ATVBLcElgRlBDIEBQTUA5gDVQMaA+MCqQJiAg0CuwFxASUBzgBxABwAzf93/xv/wf5i/g7+vP1d/QX9uvxt/B381fuS+1T7Gfvb+pv6bPpO+jT6FPr1+eP53Pnb+dr52/nj+fv5Gfo4+lT6fPqr+tn6DvtI+4b7wvsE/Er8kvzm/Dr9hP3K/R/+b/7B/hL/Zf+6/wYAVQCbAOEALAF8AbkB9QE4AncCtALtAigDWwOUA8QD6QMLBDkEawSQBK0EwwTVBO0EAwUKBQ0FDgURBQ8FBQX5BOkE1gS9BJ0EgwRkBEUEIgT8A9oDuwOSA2ADLwMEA+ACswJ+AkgCEwLiAakBZQEcAdUAkwBKAP7/r/9h/xP/w/5v/hv+zP2D/Tb98Py1/Hf8QfwE/Mv7n/t6+1P7LfsN+/b65vrV+sL6sPqr+qb6pPqk+q76wvrZ+ur6A/sh+0v7e/ui+9D7CvxQ/Jf82fwX/V39qP32/T7+hv7V/iP/cv+5////RwCPANMAEAFTAZYB1AERAkoCgwK9Au8CEgM2A2ADjgOyA80D4QPxAwgEGQQkBCYELAQ1BDcENQQ2BDEELgQsBB8EEgQGBPYD6APVA8YDtAOZA3oDWAM6AxkD+wLTAqoCgwJcAiwC/gHOAZ8BbwE2Af4AxACSAFsAIgDn/6j/bP8v/+/+sf55/kD+Cf7P/ZP9Xf0n/fX8xfyW/Gz8Qvwd/P373/vH+7H7lvuJ+3/7e/t5+3n7f/uN+6H7r/u/+9D77PsQ/DT8WPyA/KX80vwC/S/9Yf2X/c/9Bf4//nn+s/7u/iv/Y/+a/9D/AQA2AGsAoADTAP8AJgFPAXUBngHFAekBEAI0AlgCdwKVArcC1QL0Ag8DKAM/A1oDbwOAA5ADnQOmA60DsAOuA7IDsgOxA6gDnQONA3wDbANfA0wDNgMfAwID5wLKAq0CiQJhAjgCEwLnAbsBiQFZASkB9QDBAIMATQAZAOj/s/9+/0j/Ff/n/rf+h/5Y/jL+CP7i/b/9nf19/Vz9QP0i/Qv98/zg/Mv8ufyr/KH8mfyO/Iv8g/yC/IT8i/yU/J78p/y0/MT81/zt/P/8F/0t/Uv9aP2H/aP9v/3h/QX+JP5E/mf+iv62/t7+CP8t/1b/gP+v/97/CwA5AGUAmADIAPsAJwFQAXoBqAHVAf8BJwJIAnACmwK+AtoC9gIQAzEDUgNnA34DjQOfA6gDrgOzA7QDtAOqA5oDiQN5A2IDUAMvAxAD8ALMAqgChgJlAkICHQLtAcABlAFrATwBDwHkALcAggBOAB0A7f/E/5r/af86/xX/7/7N/qf+iP5p/kn+L/4P/vX94f3L/bb9of2J/XL9W/1J/T79MP0o/Rr9Bv36/Pf89vzv/Ov87Pzw/O788fz4/P/8D/0g/Sr9NP1F/Vz9eP2Q/ar9w/3e/f79JP5F/m3+lP64/uX+EP8+/2z/ov/X/wgAPQBwAJ0A0QAIAUEBfQGsAdoBDQI0AlsCiAKzAtsCAQMfAzkDUQNhA3IDhgOWA5cDngOfA5YDjwOMA38DbgNZA0ADLQMSA/IC0gK1ApICcQJJAhsC7QHBAZcBZQE7ARcB4gCwAIYAVgAvAAUA4P/C/53/eP9c/z3/GP/z/tn+x/6h/nn+Zf5Q/jj+Fv70/eX9zP2w/aT9m/2C/Wv9Xf1X/UP9Nf0w/R79Fv0X/RT9Ef0V/Qf9EP0a/Sf9Nv0+/Uf9Yf13/Y79rf26/dX97f0L/jP+W/6A/qT+xf7x/hf/OP9u/6L/zv8EADUAYgCIAKkA7wArAVcBggGqAc0B8gEcAkYCcQKIAqkCyQLfAugC8wINAx8DLwMyAzMDKwMfAwwDCgMRA/MC2ALGArYCpwKPAnACVwI+AigCDwLiAcUBqwGWAXgBQwEVAQMB4QDAAJwAZwBIACMA///i/8n/qf+E/13/OP8e/w//+v7b/rD+k/6D/nP+YP5G/jj+Iv4T/gT+6/3O/cz9x/2t/Zj9mP2K/W39bf12/Wf9Y/10/Xf9d/1q/Xn9nP2r/ar9sf3C/dX94v33/Rn+Lv5N/mP+b/6Q/rv+5v4P/y//Uv9//6r/zf/p/xQARQBbAHYAswDoABMBMAE8AUoBbwGcAdAB+wEiAkECNgI/Al0CcQKDAqQCrwK1Aq8CmgKcAqsCxgKnApAClQKKAloCMwI6AkcCNwIYAiAC3wGdAbYBtwF6AVYBYAFCAQgB6ADnAM0AegBgAGAASQAkAAYA8v/O/6r/iP9p/0r/Kv8T/wP/3f6U/n3+h/5D/gz+D/4R/vb90/22/a79i/18/YD9bv1V/VD9Sf03/Sj9KP1T/Vb9OP1E/XT9f/10/aT90/3g/eb9Av4p/lL+gv6k/t3+Cf8F/xz/bP+m//v/HwAkAFAAXABjALMAGAEtAWoBwgHYAaoB3gFPAm8CkwKzAuAC1gKnAs0CQQNnAz4DPgNTAzwDCgMiAycD4ALCAhUD9QJ4AocCkgIzAugB4QHRAZYBcgGZAY4B9wDSAMsAjABBAB8ANQDW/4r/Nf/8/tT+vP7a/uD+dv4S/vv9z/2f/W/9iv2I/V39RP37/JH8pfzY/Ln8lfzR/Ln8NvwH/D78ivxi/IX87fz8/K78sPwT/X/9iv1B/Wj9mv2q/QD+gP7u/uX+x/4a/6f/AQDu/14AygCVAHgA9ABnAbYB+QFjAtUC1ALMAhADiwPKA+sDTQS4BE4E+gMgBFoEvQR+BawFYgXYBIMEmATnBPkE/ARHBUIF6gRJBJsEjwRLBKoDlwMEA0QCrwGCAVoBtf+i/g/76vfH+V//xAH6/sL8Hf1h/kr+eP5d/9f+S/4B/8L/Uf52/cP+Gf6j+xj7g/1Q/qH9kv0U/oH8Xvqx+Yb5A/pG+377HvqU+fj4TfkZ+eD4jPg2+cP5qPnX+c35uPnM+H35xflY+aH5bPuk/Bj8gvtI/Ff95/yI/bH+uP7f/9sBNwO7AmoCMAO6AyUFjAaNB94HMgn6CX0JFQlQCdMJ3go8DHYMigxiDMULXAsODKwM6gvQCjULpAuQC54KaAp3ChQJ5wcWCH8HWwYqB3IH+wSEA9cD3wIpAkEAmf4Q/mD+HPug+cj5GfkH+v/4f/j691P4Cvbf9Dn2v/Yk93P4dvj89CjzwfTa9Un1nvUf95P2V/Sy9OH1B/X88qj0xvVD8z/0zPh4+V31JfQj9SjzkfMY+Kz7tvys/I37QPi29Zn3Tv6kAusBFgDiAaACGADn/5EAWQHaAyIGiwa0B7oICAjtBocGOQY5CKwLlw0TDt0OChAeDnIKVAqJDe8PAhEYEs0RBRCeD7UPKg7ODdkRThKbD4MOCg6wDc8MAg0DDPgKuQhEBqIEJgNXA2sEuQNy/4D8WvyH/B37PfqS+sL4Vvac9OHy2/El85/zT/Hp7sjth+7M8I7yL/Kg8WXwDe/b7yXyTvSJ9av18vP48dvx6/Nr9hr46vfp9sj2ivaf9gj3Hfii+Mj3oPfF+PX5ifqM+4b75fnt+Dr6bvzz/Yf+if5+/tn91P31/08CzQJsA+cEDwY/BWoFvAcZCTgIoQegCS8LdQxlDRYNyQwdDiwQUhFPEd4QvxDhEb4SkBGDEJYR+BG9EFUQPhDZDzcQDRE5EOgOlw6yDlAN3AtwC08L8wrCCXIHNAZOBhME/QB6/8D+av1I/GT7Mvmu9qT1sfS/8ubwu/Ds7/jt2Owb7XvtTezR6hzro+ww7JjrPOwI7d/s0e2m77nwd/Hz8d3xjvFY8jD0avaH9zH4UvhS97T1E/bh+Gb7d/y+/On7n/pC+0L9mv7G/of+6P76/p7+i/+9AWgDiwIkAbcAyQFeA3QF3Ae4B34FvQQHBioH2Qj/CssLXgrBCHwKfA1LDl0PUxFnEWgP6A5eEAYSsRNDFTgVrRLlEGIS4hNPE3cUDRbWFLARuxD8ETgS8xDQDpQNigw8CyUK2AmOByEEWQJYALb98Pu/++T5YvY+82Txh/CL72TuBe2Q6/3pj+iY59rnYehh6Dvo8+c959PntulQ6sbqwuuJ7AbtAO9R8Tnyj/Lz8snzwvQe96758PoR+/v6Evuj+1/8x/yI/nQArABAAGMAZgCDADgBSwEnAQwCGQP7Au4CjwNFAzECNgJxA8YDRgSJBUEFnwMbA6sDSARaBfAGCQghCPYHHAeyBygK4AzpDvoQwREVEFMPaxDgEmcVjxaTFdATiBRUFwMZBxlCGLAWmxTRFKwWFhhhF8QTyA+/DHcLMgxFDY4LlAcNA7D+p/pg+KH4ePi49bLx7O356kTphuip51zmSeXT45biIOKz4hnjuuLv4dfhJeN95TrosOlY6tbqjOvP7PLu6fG39IX2T/eF9xL4xPml/Fr/ZQCPAA0BRgETAscD6AWNBigF7QRdBfAFWAZqBuAFIgXBBFEEQQSwBOMEjwM4Ap0BLAE0AQACZwKLAYAAKwAXAEkAcQEjA+8DcwPIA/sEXQXgBvUJ9gziDpYPKRCHEAEStRQ9FwcX6xVCF9gZUBvNG9obhRuUGoAZThk9GfkYwBeoFogT9xC1DnsNawtSBxsFdwIF/3n6xPcN9fTyEPAg7R7qtOdQ5orko+OO4WXgAN/H3qTeDt/V37TfeN954K3iUeRa5uHnlenf6ujsWe+m8fbzbvUq9/T4a/on/L3+twCrAVYCOQNVBCgFSAY6B4kHdwdQB0cHYgdqBzUH8gaIBvUF9gSOBBoEBwPbAUEB1wDr/zX/o/5h/iL+Cf7A/Rb+HP6c/sD/xwBnAZAB5AJyBLQGsglvDcIO4g6SD8QQeRObF7AbwBvTGCMXrhisHK4fWSHdIdEeNRyCGgQb9ht8HLAb9hedEqsO+w27DCsKkQZaAzX+GfpO9lD0ffKx733sFug25d3iNeIx4SvgSd6r3J/bdtsI3LDdw97c3rne0t/y4efjKOf36XPsBO1j7kjwFfPf9Z748/pM/JP9g/5kAMwBqQOfBWkHrQf1BscGdwdHCFcItAjmCPYHBQdvBj4GPgVuBC0EUwPdAbIASAA9/5b+ov1f/Tj9Av2W/KD89fwa/QP9c/4dAKAAXAF7AsYD/wQUCcAMBg6XDSkPShHVFH8ZEx7VHEYX9hQiF1QeiyOQJTkjYR5JGUwZ9RvfHxwh3R/BGWsRTg0oDAwPkQ04C9wF7//D+L/0gPTF81bygO7I6mbl+uE54cThc+Ah30jdmdxs24/bc93n3XXee96W4Ffh1+Ia5vLoFOvk6zjtFu9J8rD0Bfhg+lD7mftW/IP/2AAgA6cEyAUmBcwEtQXgBpQHbwfSB8kGugZEBpwGaQVtBJ4EUQQOA9gBrwGkAecAff/N/sD9HP5y/iX/Bf80/m79Sf3k/iwBRgORA80CPAImBJcI8QyxDi4Olw78D4gTVxjAGs0YRhYyFpMYwR1jILQg/h1cHH4b2BsGHiAffR5PG6kXJBN3EbARRRInDs0JYATY/6P9l/t4+nb2TfMS7/Dr/+j+5jDlguN84Qjgh98p34/e2NyT3HTcg95w4DPim+Kn4hzjwOSF6IvrKe5971rwpfCM8gn24/i0+pP8q/3P/YX+EgBtAuwDUQUHBWgENwSaBOYFMQcICHkGWwQVAxkDnASWBsIFigJsANj/QwCNAScCggHm/wv+eP0l/jUAggGTARABc//D/30CfQUmB4EHBgi/B4QIfAtTEMMUmBeiFrETTRFXE2oZYB4rIUwekhvLGbYauxyPHyQgQx6uG7EYcRfJFQoWSBPhEDEN7wpbCDgFtAH2/dj6p/Zu9KrxUPEi7vnql+YN40DhsOFO48DiEuHX3UzcQNu13Rbg2uJK40ji5uH94cPkf+jo7E3vce+R7gfvoPBH9AL5QPxe/XT8fvu3+w/+EwJlBbkGcgW8AqgBogIjBVEIAwk9B4MEzAKgA8EE3AWFBQkECQKkALYARQGHAT8B///j/lb+uv6BACgBAAGDAJQAjQB6AhgE1wUlB6UIlwmdCQEMZQ5sEmYVyxcHGD8Yexc4FpEXIBzVIYojgSKdHRQa+hk/HW0gwCBtH9wa9RWOEcMQphGvEckOvQhLA2z+f/yW+uD4q/Uf8hHuF+oh51PlEuVS4/3gOd6V3fbcKt0k3cHcT9xJ3GvdN99o4fvi2eRs5f7ljufe6kLuePCG8qrzn/T19Xj4Zvto/dP+fv8hAAkBTAP+BIYFPAWRBHQFgAaUB4UHUQd/BpsFfwV2BZ8F4wRQBPoCIgJHAfkBWwImAVEAiv7B/g3/8ACfAfgA+P+e/9EBqwPNBVMFKQaTBvEIQQ03EGsScBKBE34UBxcoGb4ashpoG1ccdB1MH58fPCGLH8oefRw6G4McjxyzHDwZCxZqEbANvQvGCgMJVQaHAp37yfcB9FDzh/FS7xrsEOeX5JLh5uAV4BfgXd6z3NXa4tqK2xTcgt1e3ZLeut+z4WTj9+RJ51jpjOpH7ALuhfHt9CP3T/jM+MP5IvwG/4sBHwO1A8kEyAOHBNsFpAcDCd8ISwigB1UHSgcuB0kGNwZgBQMFPATHAjIC5wDm/zj/Cf/l/1r/6f4r/p78afxv/Sv/aQGvAhkDbgKIAVoDCQYBC2QPJxIME84R3BEHFAsYExygHRkd5xzrHKUfnyLzIwgjqiBkH4QeBR+GICgfhBxsGBoUvRBTD98NjgvvB/4BL/01+Lv2/fOj8kDvButm5rfiqOF84NvgJN8n3kfaoNm32HjaHdx23U3eKN1L3tnew+J95STpVuqe6+7rhu1d8cf0F/lz+sX7D/wC/VX/9wFuBAcGnwafBqMGsAaEB0MI7giACcQISwgSB5AGwAW/BKAEQASoAzcCnQCI/pz9eP1P/pj9kPxo+/H6q/q3+uH76/yt/dj9of5J/0QBAgO6BXQHLAm7C6UOIBGAFCsYUxm4FwsVvBZDG/ohIiawJR4iex0fHYUfmCLEJDAkLiFGG38X7xUhFnkUnRFpDfEHBwTq/2f+Wvre96vzhu+66xHoR+eZ5SbkjuCX3hjcQdsy2x7cr9wY3CvcZ9us3M/d6+DC47PlR+dz6ObpWes47nrx8/QB94347vlu+1f9c//zAbcDBgUHBmIG3gaGB2cI6QjGCK8I0wiuCOIHRwdBBoUF+gSuBNYDeAK7AN/+8/2j/VD+E/75/EH7zPmD+eD5TfuS/J392v16/Y799/05AJADZAdyCQ8KFQu+DMUQcxbmGisafRb9E4gWIR0OJLgn8CV8ILgcsxy4HwEkLiYyJdkf2BlxFcIUfhTHE50RvQyYBv4AiP23+hn5b/YJ87/t5ugp5t7kzePj4WbfQdxO2lHZkNoP3Efc+du/2sHa2ds73x/j2uVx5+Dn3OiD6o7tPPFW9bL3UflU+s37lP2E/zACQgQsBhoHYQd9B+IHNgg2CW0JeQlQCf4IeAj4BskFNwXdBMME/gN2ApMAT/4h/W/8vPzp/Hn8bvvg+Rr4H/jT+PD5qvv6/In95/xj/Qj++gBFBFwHxQj5CXsMRhCuFOkWsxdfFkcX3xlQHVcgYyKtIioizSHYIWciBSObI5IiCiF7Hs0ceRpWF7ITvBB2DloL6AeKAzv/wPrM9sjze/Bq7a7qNejP5FLhJN833TbcV9tb29naqtpo2oHa9NoS3DzenOD04kHkUebB5w/qWOyF74/yYvRE9jv4Vfql/Bz//QCLApsDFgX+BTQH7QePCEIJLAm9CHkIUggXCKoHQAfwBoEFIATHAqkBKgHJAOz/IP7Y+3H6TfoI+yP7l/rf+Rr5t/gs+Sr6QPtp/Fv9V/92ALMBjgO+BMsGSAqMDvMRPBMBFZsWvBgdGwwcphsqHOUegiKMJromgyWVIiQh9B8JIewijiIBITAcBxfbEVkPDA7eDK8IAQVJ/zL6ofYa83fwTe1h6jTmReOv4GDfRt0M3NPZ9tjm2NTZt9rX2k/bVNuq3ITeReHS40zn8OjI6sbrye188J7zuvcf+5L9jP72/ij/fAFPBHMHcQkNCp8JyAh9CIMIRQl/CssKOAqbCPAGsgWQBBUEdwN7AqQBNQBO/sD8QPsE+8P6dPrT+Sr5Cfks+Kz3mPjt+UP7kvyQ/Qf+o/7dAEQDogXuCGsMMQ/VEI4S2hQNGJMa9RtCHBAdPB7YIJskSyUMJeMjKiMgIqkiWCM2I54g5RytGGQUaRKvEAMQ+gtrB3IAqvoj9k70SvNu8cDttedP4wDfDd6I3BzdCtz22g7Z2NeJ10jYS9oJ3PzdGN5U4MLh5uRe5z7qsOzB7ljw4PJd9gb6Uf03/8IA6wAPA90EuQdHCWAKNQsQC7UKdQorC2MLiwuiCh0K/AiUB/EF/gPKAugBIgKIAWn/+fvz+G730PeB+Rz6ivnq9pD0DvNE9HL2K/ko+3/7RPvg+pb8YP/SA8kHxQtFDcQNvQ9XE4oY4xyNHrMdQByaHPcflCXPKNAocSdvJdMjoiP7JC0kkSIzH34cSxi4FZ8TvhDMDAoH4QFS/MX4jvUD9KzwUeyQ5srhPN6h3CXcE9xz20LZWNe91VPVMta92N3a1tzo3XffoOAG44TlXumI7J/vB/IY9CL3lvnV/IP/IwKxAx0GqQcyCUcKpQuADCUNyg3lDQ8Ojg2gDKgLAwtyCq0JMAi6Bj0EzQJTAQgA1/5i/Xj7kvkQ+OP2/PVc9fT0ofSH9HT0VPTK86H01/U8+P75ZPwl/tz/LAKDBA0IGwtID4sSHRcsGqgbMhxnHJ4cNR6vI7UmkSnDKjwquyeIJDAiPiG3IvEjSyTIIB0bRhSWD7oL7gh8Bi8DM/9f+ZL0pu+R6yXnPeRH4Q7fwtx026raT9j61kjV4tTT1BLXgdlB3Bbd291J3s3f+OKr5kLsHO/w8RDzZvV597n6J/9tAuwEJAbhB80IfwqeC4cNlg7GDvkOzQ72Dt0Nvw34DMwL/QmUCGIHmwWQBNECLAFe/nD8kvpn+TD4K/f09YH0H/Mn8n/yQ/K58qPy//NU9KL1lPfj+Vn8S/6VAHMCZgXoCKENiBF0FUIYnRrhG2wcbB3bH6ojISeMKf4prikkKJInOCY8JckjXyMzI7ogah7MGewUMg9ICgQGyQIXAJn8Svib8vjsRucH5Evh9t953jTdCdsW2G3Wx9SA1CLV+NZx2Hjaz9s43Uze9t9E4m/ll+km7UHxEvR69u73C/q0/LD/gAPIBr8JzAqPC+MLVwx2DYkOwg8RECUQgg99DhYNxAtbCjcJ4QfOBt0F0gO9AR//Kf0D+4H5G/h79lH1IPRj82jyufEs8QHx8/An8bLx6fJS9HD2FPkr+1L98/4sAfID5wdQDGER9BXnGBsccR14HZkdph9PIzYoFiyoLcYspSpcKDMmcyWpJNElqiUsJOUfFhq0FKcORAqPBqYDgQDc/Gf48fKe7EHn3OLJ37bdxNx63H/ai9dw1ALSNtHW0UTU/9am2FjaP9sh3EHd9t865LDo7Ozq8Az0d/YK+HD6hf0KAUgFJQlSDH8NMg6rDloPEhC9EcAT1hRzFEATkhGkDysO9AwwDBcLgAmKBz8FKQI8/zP9Bft/+MH26vSY86zxOvAx7+/tZu017Yzthu0Z7hzvP/Er86/12vdO+pL8Q//XAxAIsAwIECsUABnvHB0gJiHjH/YfLSMYKVAuczFtMYMtrSllJnkm1SiPKuYpfyZVIIQZBhSdD+sLQwi9BPz/+vo19S3wUOtw5vDh4t1C267Zztgg18zUZNHMzjnOcs870ovV39cL2cPYV9kV3BTgbOUu6qfuPvEH9HL2JPmj/GsABwXrCE4MIA6yDyAQtRDMEesTBhYVF00XPRYgFFIS5xDUDxoP2A0lDBsJUwb+AscAc/5T/Iv53/YR9FHx0++K7kXuxOwK7EHq3elZ6Xrq/euC7QTw2fFc9Of1SPnW+6kATwXLCQYOMhLjFuEbryDfIlIjiiKoJMonNy7BMsY0dzIILq4qqSizKuUr3CytKtglJR+UGCgSsw38CfsGYAMc/j/4JfFx63Pl0OEo3m/bL9ln1zDVH9Jaz6rMHcyVzEfPm9Gl1F/WLNcv2HnZzNyC4UTnCuyd8Prz2/Yq+Ub85v8CBOEI5wyiEIISvhMjFAgVOBarF1IZ9hm8GYgYPxcJFQcTwRAsD/wMyArFCAcGHgNR/+77JPhc9cny2PDO7lfseeqv6G/nh+Zw5qbmy+aB5hvn1+jl64vvPvMO9vH3IfsW/2EESgq1EPQV2hklHLoeSiOuJ68r2yyOLUctXC98MsE0fTWqM3cx+C1aK0Ep1yhKJo4ilxv3FCgO0QikBY8A8vuz9Hvvs+gi5Engbt3c2qjWxdKGzgzNF8y6zW3Oos6dzubOZ9Bq0j3WItr53QXhrOMi54frbPBz9QD6Tf0TAAkDnQZYCmcOLhJhFMYVORbnFvcXAxkJGoYarBmbGHwWyBS4EkMQNg6GC9wJAQf4BAEBKf0p+SH2D/TT8ULwYe0R61bo7eZj5cXlveV/5lvmjOYr53HoyevM7rjzbPYp+ir8ef+ABMwJUBCyFJQYARx4IfUmoyp2K1YpPiiXKU8vlTUSOdk4HDSELpgpIyiOKLYpaCjFI8wcIRT4DGEH+AMkABb8nvaM8IXqU+UW4vXdCtp11cPRic8zzybQeNDBz/XNx8w9zQLQedRr2Tbdht+d4O3iB+YC60rxLPea+xL+8f/qAaoFJwpjD3ASNhTBFBEVHBY1F2IZ6xkvGhIZIhfaFX0TzRHlD58NsgvpCOMFCAI//gn7Z/jo9XbzaPHe7jDsrulr55XlEOVq5Qbmdea85iLn++fK6ajsW/AY9OL3XPsF/6wCOwfbCy4R+hUnGtUftCSmKYArLizKKWIo1CuMMF43qTl8OBkzhCwBKGkm+CbXJ8cmtSG4GrEQUwkCBOsAiP3p+eb04+096D/jcd9l2xDYWdRB0k/QX9C20F7Q8M9jzhjP5M/s0nzXHdzQ3wTiKOTo5WzpEu6Q9Kv5nP3FAG8DDAbyCHwMJw9qEokTJhbnFgYYHRjoF78XBRZFFusUpRQzEp8PnwwJCUoG6wPfAdj+CPy0+BD11vEZ75vtlevi6b/nwOWb5KHjR+Qt5A3lq+VL51HpUuyk77zyl/Vw+I78QAHjBp0L9hAjFRoamB2NIU4lcSnyLpwxejLgL/AuoS+zM1M4QjkTOGAysSymJ+8kMiMEIokfnRk2E5gK1wTi/RP5MPSj737rqeZL44/d1tkc1R/SRc8eziDOI8/jzw7Qp8+pzmfPKdEY1iLbQeBJ5EXnqOj76m3ui/PF+Y3/eAQvB9sISAqIDAEPrhKgFVEYBhnmGN0XPhfoFr4VjhUYE5kRrw/YDRkLvAf6A10Ag/0z+135aPYR9Ejw3u2h6troOudO5iHmSOWF5bTkiOXL5cXn4+lu7GDvPPIb9aP4Lf0QAjUHYwv1D4EUthkLHgUilSXdKcoukDK3Mn0wIS2TLVkwFDUhOeo3HTS4LJImgSEmIDIfYx52GrsT3wv3A6r9pPcC9D7vhOsw563jw99924HXL9O5z9fNUc5C0PbSVdM900fROdDy0dXV8tyt4rjn/unj6iLs2O6V9L76jwG2BosJlwrDCu4L2w5REtUVaRiYGKsXIhYzFdMUWhTyEzMSARBBDaEKSAgtBSoCwf6o+4j4WvZG9CPyWe8t7Ebp7eaz5WnlveUs5aTk+OOy5ATm0uiq60nubvDk8ir2SPrE/8kEqAlRDdQQSBSfGbEenyN7Jwcq3yyWMGcz+TOjMeMteyy7LQcy7zRaNeIwJClBISAbaxhUGDMYyRUYD0EGKP1Z9bvwaO2+6+roeOVG4evcxNju1W7T19Ei0UHRk9NH1Y7Xpdd71zXXg9ig3Pbhgeg17Wbwm/Ft8rD0RPnS/p8EuQiuCmULiwu7DJoOcRGME8sUYRTHEuUQzw/dD1IPeg47DDYJKwbWAx0CUAA9/qX76fgP9tLzMPLT8JrvNe7C7MPr6+qP6rvqB+uu69nsbu5c8JvydPRg9lP4ifrK/Q0CeQZCCg8N+g4VEfYTHxhQHNAgUCSuJtEnoieCJjElLCTII/okVCaaJwQnryT1HykbuBZSFAITdhFTD7sK4gX0/xH7svaP85rwRu5q7BHqzOc75dnit+A33zTefd5J3xvhUuI646bjGOQN5Ubnh+rA7Rzxh/M99W/2J/hO+hT9hf/JAS0DXwQKBZQFjAYwBxwIBQiOB6sGKQbKBdMFjAVoBLcChgDQ/rn9i/0x/fr8j/t9+WT33PW99TH2SPdr9z73GfYJ9Rz0hPTF9R/3+vgy+pP7N/x2/fj9Tv5R/14BiwQ1CJULkg0GDsUNrw2EDscQ2hPrF9UaYRy5GwcZzBX0E1AUPRbyGCMaXRqXGNkV1hKjDwYN8AqICusJJAmrB8cEJQEZ/eL5Tvcm9r31bfUB9azzefH27kftVeyb7GPtEu5J7lHu0e6J74zwhfFL8s/yufPl9F/2Pfjv+br6Iftp+7D7kvwk/lH/wf8TADL/0P7T/o//HADw/6H/zv5Y/m79i/30/Wr97PyR/O/7GvuG+vH61fp0+n76lvpt+on6JPss+wD7EvpN+u/6OvsE/IL95/5d/2P/hv5M/goAGAKdBFkGBQd1B/QGlwdbCAgKmAvMDKwNdQ5CEP8P0w/sD8sP5hBSEcoQ8g+eD9UP5RCFECEOVAyCDNkLywrgCioItAaJBA8DIgIjAdgAMf9G/kT7qvkU+Z34o/cJ9wf3R/bC9ar08PNw8xjzT/Ol83T0o/W/9mn3EPfc9gz2bfY49yL50vqV+wP8EPz7+yb7nPsr+5v7Zvx4/Rz/cf+3/on9iPy/+zv7BfyB/Zv98/20/lX+4PwL/C/7oPq2+z78L/3w/Xj9R/2j/Zn8Pfph++z7/fz2/qH+yv5r/w4AEP/E/6//AgDxAjcE3APMBJoFIAU6BkQFrwbVB08HqAiQCTMKTgqqDMEMZwptC68MvwvvDBQNEw4lDl0MBQxqC/ULLgksCd0IFgdPBzYIoQcqBcUDOAEPAJH+fP75/o/+P/1h+6v5k/j396X3nPe99nD29fXw9nz2Sfb49h32m/bY9oz2Ffhb+YH53/mk+fT5Z/oD+5b78foB/NX8u/wJ/b/9U/78/Qf+7fxR/V789Pvm/RT+k/3q/Un+Cv2U/M/84v0y/TL8Zvzc/RL+iP2G/cD8a/yZ+4/81fxH/VP+S/44/v3+PQBtAPgAtgEE/wP/SALxAlUC2QNeBhUE5AQ+BlUE2QW/BTUFMgayB2sM7AsYCl4JUAgoCXkHNQhdCiMNfQ0XC5YK8AndB8kHKggFB/oFGAgVCGMF9QUrBYIDewDW/sf+cgGUAKX+cv2w+6n6IvjZ+TD6T/q/+En40ffE9rT3IvgV+WT3F/eG+GL40fho+I34lvqI+qz6gfrW+hj8PP1d/YP7S/se/VH8W/wm/mr/q/9o/aT8Fv3U/bH9z/4p/939//1C/tb9Efxm/A39Vf3y/Dj+Yv93/Zv9AP2U/Hb97/0v/Zf/xv1DAHn/JP/nAuT7dwFjAR4AJwJqBWAF4AFDA6ABDwNCBToGrQbxBwEEMAjuCCEKfwYyBFEJbAYTCDwKowsmCSEJygeCCX4H0QRsCecITgYXCLgJFAZxAksCpgTwAFD/5gNgAgv/FP/Z/kn+/vsO+uT70/22+L74cP2f+mf3sPg5+OT4N/og+Xj6HvqM+GX5uftv+bP3I/qm/Sv7l/oz/qb8kvzK+//8c/4r/tH8k/2aAKP+QPwn/tP+hP1w/1X9jPy0/Un+//7+/PT9ff6P/K370/wR/lr8Jvo3//j+J/2k/xr/1f2j/C7/u/5z/j3/OwNKBPgCEgMJ/wv+QwF8BHEFFgYsBQoI9QaoA/oCnwM/A9wEfwfhBnwI1weBCXIGmwI1BDkFPATHBhAJGAcCCDsEtQGbBccFhQKEAe8BzwVXBVYDpQMaASMCoPwq+64B0QHK/gr/9/x1+YP9uP9b/WD7fPro99n6D/yw+mn/0/zf+SH4Cflg/Vf9EfwT+6z+Mv/Q+fb5Of6g/kT9Jvto/x/9IPpSAFsCFP1X/GL/Iv04/P3/WwJw/ur+KP6s/QD6Mvzo/r8AdgEV//8Bwvx/94D8/AA//cr+4gJl/Jr/FARP/6D+BP42/iAACATzA84Dv/54B0QEWPqd/usC+wKnBBULcwA9BAwHPAB7AU0FAAL9AfkCSgJrBQ4GlAc3Az0Ar/+6BMoCiQRQBXgBwAaDA7EBV//qA38Def6EATkAmQDrAwwBev7+AD3/KABK+q76zf3qAGwBLfqn/M7+6fv1+sD/C/40+o77RP5M/Lf8/v5c/Uf9Wv1r/fT9u/wPAK0Akvu8AEL+hP08Apz+LP1wAJ4CvP40/an/wAF7AJYBuQC6+4X/3wHD/DT9dwEg/7v+oQCj/vv+dP/C/Q7/tP/G/j//bv5HAEoBr/8eAK3+qv2GAKgCJgO0AEz9SABoA5ICMgPu//j/QAGfADgCdAL4AswB8QJIA2EBBgHOAmYBRQD5AgwDPgHnAe4BkQDWAYABNgAFAPz/yv8rAcgAMQAMAZr/6/5J/0b/XP9///f/pQA1/4j+X/9l/4//oP5y/iz/NP+k/tr9T/+rAIf/y/7w/jH/L/6B/pcAKACl/kX/mgDQ/9/+wf8EAIP/AABr/17/HAAdADsAPwDC/7//UP8H//n/UwAaALn/KABbAGP/Pf8lAOv/H/8ZAJ8Avf/P/5j/xP8rAO7/0f/+/67/p/9YAFoAMAAOAFUASAAzAMT/BABmAD4AcwCQANIANwBDAEMA6P9vALMAVAByAFQANQB5AAIACABXAAQAHwBaAC4AFwDI/+H/ZwBaAO7/AgDs/+z/7f8LAB0A///Y//H/3/+z//T/CQAGAKb/5P/i/5D/CwAYALj/FgANAK3/2v/8//b////3//3/7v/x//b/+/8PAA0AFgAkAAcAuP/m/zcANQD2/w0ARgBPAOX/v/9HADwAMABFABgAFgAlAB0ADwAfABwAAAAiACkA0P8IAEMA9f/v//P/+v/h/9b/9v8JABYA1P+w/wkA9v+j/wQAMADw/+j/z/8CAOn/p/8lAC4A+v/7/9H/2P/9/83/6f8nAPj/2////wYA1f+9/+j/DAD4/w0A6v/G/+b/3P/f/+v//v8IAOP/yf+//+//AQD1////7//n/+D/6v/r/+v/AAAQABEA/f/p/xMAJADw/wwANgAUAOf/+/8jAEAANQAIABcAGgAQABUASgA+AB0AGAASABgAGQAXABgANQAnAA0A6/8OABQAAAAPADYALQDj//H/9f/7/yUAHgADAP//6f/x/xwAEAALAAUA8f/1/+H/BgAcAAAABgD0//T/CQDy/+z/BwAQAAgA9P/9/wEA1f/x/xYABQDw/9r///8PAO7/6P/z//D////i/+r/CwD1/9v/4f8AAAMA3//Z/xMA6P/V/+//+/8EAOb/8/8EAOf/2v/3//X/AwAAAPL/BQD7//f/AgD1/w4ABgDz/yIADwD1/wQAEAAUAAQA8P8PAA8ABAAWABQADgD//wMADAARABsAGAAHABAAFAACAAkAJwATAAIADgAKABIADAAFABoAEwD4/wQADQAFABAAAAAAAA8ABwD+/+z/CAAPAPj/AAACAPL/+P/3/wEACgDm/+3//P/9/+7/9f/8/+z/6f8AAAAA6P/x//D/9f8BAPz/8f8BAPj/7P8AAAAA/P/6//P///8LAPL/8f/6//r/+//7/wcA8//z/wQA+P/+/wMA+P8CAAUA9f/9//7/BAADAPb//f8DAAAA+//7/wEAAQD8/wkAAgD8/wkACwACAAIABgAKAA0ADwAGAAoAFAAJAAsACQANAA0ACQAPABAABwAHAAoACQADAAUACgACAAwAAwAAAAYABAD+/wEABQAEAAAA8v8AAAAAAAD9//H/+f/x//f/+v/y//L//f/8/+//8f/z//r/9v8DAPv/8/8AAPf/9/8AAAAA+/8AAPn/9v8AAP7/+/8FAAEA9v////z//v8FAAUABwAAAP3///8EAAkAAQAAAAkABQACAAMA/P8JAAYAAAAIAP///f8DAAoABAAAAAAA/v8EAAcABAAAAAUABwAHAAYAAgAFAAEACwAFAAMABAADAAUAAAAEAAMAAAD+/wIAAQAIAAMA/P8DAAQABgAFAAIAAQADAAQAAQD//wUA/v/+/wMA/P/5//3/AAD+//3//v/5//j/AAD9//v//f////r/9v/9//3/9//9////9//4//f/+//8//j//P/9//b/9v/+//v/+f////3/+P/9/////v8AAP//AAABAAAAAQABAAEABQAGAAAA//8HAAIA/f8GAAMAAAAEAAMAAAAFAAUAAwADAAIACAADAAMABgAEAAQAAgACAAAAAAABAAMAAAD8////AAAAAAEAAAD+////AAACAAMA/f8CAAAA/v8BAAIA//8AAAQAAAAAAAAAAgD8/wAABQAAAAAAAAD+/wAAAQABAAAA/////wEAAgABAAAAAAACAAAAAQAAAP7/AAADAP///v8BAPv//f8AAPz//f8AAP3///////3/AQD//wAAAQAAAP//AAACAP7///8BAP7//P8CAP///P8BAP//AAAAAAEA//8BAAEAAAAEAAAAAQABAAEAAgACAAAAAQACAAMAAwAAAAEAAAAAAAQAAgAAAAAAAAACAAAAAAAAAP////8AAAAAAAAAAAAAAAAAAAEAAAD9/wAAAAAAAP/////7//3/AAD9//7//v/9////AAD9/wAA/v///wAAAAABAAAAAAAAAAAAAQACAP7/AAAAAAAAAQABAAAA//8BAAAAAAABAAAAAgACAAAAAgAAAP//AQABAAAAAAABAAAA//8BAAAA/v8BAP////8BAP////////////8AAP7///8AAP//AAAAAAAAAAACAP//AAAAAAEAAwAAAAEAAAAAAAAAAQAAAAEAAAAAAAIAAAADAAAAAgABAAQAAwACAAIAAQADAAIABAAAAAAAAQACAAEAAAAAAP//AgAAAAAAAAD+/wEAAAAAAAAAAAD8/////////wAA/v8AAPz/AAAAAP7//v////7///8AAPz////+//7////9//3///8AAP7/AAAAAAAAAAAAAAAAAAADAAAAAAAAAAAAAAAAAAAA/v8BAP//AQAAAP//AAAAAAAAAAACAAAAAQAAAAAAAQAAAAEA//8AAP//AAAAAAAAAAD//wEA/v8AAP7/AAAAAAAAAAD//wAA//8BAAAAAgAAAAEAAgAAAAIAAQACAAAAAgABAAIAAgAAAAEAAAAAAAIAAAAAAAEAAQABAAIAAgABAAEAAgABAAEAAgABAAEAAAAAAAAA//////7///8AAP///v/+////AAAAAP7//////wAAAAD//////v8AAP7//v/+//////////7//v8AAP7////+////AAAAAAAA//8AAAAAAAAAAAAAAQACAAEAAQAAAAEAAQABAAAAAAAAAAEAAAAAAAEA//8BAAAAAAAAAAEAAQAAAAIAAAACAAAAAQAAAAEAAQAAAAAA//8BAP7/AAD+/wAAAAD//wAA//8AAAAAAQD+/wEAAQABAAEAAAAAAAAAAQAAAAAAAAAAAAAAAAAAAP//AAAAAAAAAAAAAAAAAAAAAAAAAQAAAAAAAAAAAAAAAAAAAAAAAAAAAAAA//////////8AAP///v////7//////wAA//8AAAAAAAABAAAAAAAAAAAAAAABAAAAAAAAAAAAAAD//wAA/v8AAAAAAAAAAAEAAQABAAIAAQABAAIAAgABAAIAAgAAAAEAAAAAAAAAAAAAAAAAAAAAAAAAAAAAAAAAAAAAAAAAAAABAAAAAQD//wAAAAAAAAAAAAAAAP//AQD//wAA/////wAAAAAAAP7//////wAA//8AAP////8BAAAAAQD//wAAAAAAAAAAAAAAAP7/AAD//wAA/v////7//v8AAAAAAAD//wAAAAABAAEAAAAAAAAAAQAAAAAA//8AAP////8AAP//AAD//wAAAAAAAAAAAAAAAAEAAgABAAEAAQABAAMAAAABAAAAAQAAAAIAAQAAAAIAAAABAAAAAQAAAAEAAQAAAAEAAAACAAAAAQAAAAIAAQAAAAEAAAABAAAAAQD//wAAAAD///////8AAP7/AAD+////AAAAAAAA//8AAAAAAQAAAAAAAAAAAAAAAAD///7///////7///////7///8AAAAAAAAAAAAAAAAAAAEAAAAAAAAAAAABAAAAAAD//wAA//8AAAAA//8AAP//AAAAAAAAAAAAAAAAAAABAAAAAAAAAAEAAAABAAAAAAAAAAAAAQAAAAEAAAAAAAAAAAAAAAAAAAAAAAAAAAABAAAAAQACAAEAAgABAAEAAQACAAEAAgAAAAAAAQAAAAAAAAD/////AAAAAAAAAAAAAAAAAAABAAEAAAAAAAAAAAAAAAAAAAD///////////z///////7////+//////8AAP7/AAAAAAAAAAAAAAAAAAAAAAAAAAAAAAAAAAAAAAAA//8AAP//AAAAAAAAAAAAAAAAAAABAAAAAQAAAAEAAgACAAEAAQABAAEAAQABAAEAAAAAAAAAAAAAAAAA/////wAAAAAAAAAAAAABAAEAAQABAAAAAAABAAEAAAAAAAAAAAAAAP//AAD+////AAAAAAAAAAAAAAAAAQAAAAEAAAAAAAAAAAABAAAAAAAAAAAAAAABAAAAAAAAAAAAAAAAAP////8AAAAAAAAAAAAAAAAAAAAAAAAAAAAAAAAAAAAAAAAAAP////8AAP///v///////v////////8AAP//AAAAAAAAAAABAAAAAQABAAAAAQABAAAAAAAAAAAAAQAAAAAAAAAAAAEAAQAAAAAAAQABAAIAAQACAAEAAgACAAEAAQAAAAEAAAAAAAAAAAAAAAAAAAAAAAAAAAD/////AAAAAAAAAAD//wAAAAAAAAAAAAD//wAAAAAAAP//AAD///////////////////7/AAD//wAAAAAAAAAAAQAAAAAAAQAAAAEAAQABAAAAAAAAAAAAAAAAAAAA//8AAAAAAAAAAAAAAAAAAAEAAAAAAAAAAAABAAAAAAAAAAAAAAAAAAAAAAD//wAAAAD+/wAAAAD//wAAAAAAAAAAAAD//wAAAAAAAAEAAAAAAAAAAQAAAAAAAQAAAAEAAAAAAAAAAQAAAAAAAAAAAAAAAAABAAAAAQAAAAEAAQAAAAEAAQAAAAAAAQAAAAAAAAD//wAAAAAAAP7//////wAAAAD///////8AAP//AAD/////AAAAAAAA////////AAD//wAA/////wAA//8AAAAAAAAAAAAAAAAAAAAAAAAAAAEAAQABAAEAAQABAAIAAQABAAEAAQABAAEAAQAAAAAAAAAAAAAAAAAAAAAAAAAAAAAAAAAAAAAAAAAAAAAAAAAAAAAAAAD///////////7////+//////8AAAAAAAAAAAAAAAAAAAAAAAAAAAAAAQAAAAAAAAAAAAAAAAAAAAAAAAABAAAAAAAAAAEAAAABAAEAAQABAAAAAQABAAEAAAAAAAAAAAABAAAAAAAAAAAAAAAAAAAA/////wAAAAD///////8AAAAA//8AAAAAAAAAAAAA//8AAAAA//8AAAAAAAD/////AAAAAAAAAAAAAAAAAQAAAAAAAAABAAIAAQAAAAEAAQABAAEAAQAAAAEAAQAAAAAAAAABAAAAAQAAAAAAAAAAAAAAAAAAAAAAAAAAAAAAAAAAAP//AAAAAAAAAAD///7///8AAAAA/v////////8AAP///////wAAAAAAAP//AAAAAAAAAAABAAAAAAAAAAAAAAAAAAAAAAAAAAEAAAAAAAAAAAABAAEAAQABAAEAAQACAAEAAAAAAAEAAAAAAAAAAAAAAAAAAAAAAAAAAAAAAAAAAAAAAAAAAAAAAAAAAAD//////////wAA///+////AAD//////////wAAAAAAAAAAAAAAAAAAAAAAAAAAAAAAAAEAAAAAAAAAAQABAAEAAgAAAAAAAQACAAAAAQAAAAAAAAABAAAAAAAAAAAAAQAAAAAAAAAAAAAAAAAAAP//AAAAAAAAAAAAAP///v8AAP////////////8AAAAAAAAAAP//AAAAAAAAAAAAAAAAAAAAAAAAAAAAAAAAAAAAAAAAAAAAAAEAAQABAAAAAAABAAEAAAAAAAEAAQAAAAAAAAAAAAEAAQAAAAAAAQAAAAAAAAAAAAAAAAAAAAAAAAD//wAA//8AAAAAAAD/////AAAAAAAAAAD/////AAAAAP//AAD//wAAAAAAAP////8AAAAAAAAAAAAAAAAAAAAAAQABAAAAAQAAAAAAAQABAAAAAAABAAEAAQAAAAAAAAABAAAAAAAAAAAAAAAAAAAAAAAAAAAAAAAAAAAAAAAAAAAAAAAAAAAAAAAAAAAA//8AAAAA/////////////wAA//8AAAAA//8AAAAAAAAAAAAAAAAAAAAAAAAAAAAAAAAAAAAAAAAAAAAAAAAAAAEAAAAAAAEAAQABAAIAAQAAAAEAAQABAAAAAAAAAAAAAAAAAAAAAAAAAAAAAAAAAAAAAAAAAAAAAAD//wAAAAAAAP//AAAAAP//AAD//wAAAAAAAP////8AAP//AAD//wAA//8AAP//AAAAAAAAAAAAAAAAAAABAAAAAAABAAAAAQAAAAAAAAAAAAAAAAAAAAAAAAAAAAEAAAABAAAAAAABAAEAAAAAAAAAAAAAAAAAAAD//wAAAAAAAAAA////////AAAAAAAA//8AAAAAAAAAAAAAAAD//wAAAAAAAAAAAAAAAAAAAAAAAAAAAAAAAAAAAAAAAAAAAAAAAAAAAAAAAAAAAAAAAAEAAAAAAAAAAQAAAAAAAAAAAAAAAAAAAAAAAAAAAAAAAAAAAAAAAAAAAAAAAAAAAAAAAAAAAAAAAAAAAAAAAAAAAP///////wAAAAD///////8AAAAAAAAAAAAAAAAAAAEAAAAAAAAAAAAAAAAAAAAAAAAAAAAAAAAAAAAAAAAAAQAAAAEAAAAAAAAAAQABAAAAAAAAAAEAAAABAAAAAAAAAAEAAAAAAAAAAAAAAAAAAAD//wAA//8AAAAAAAAAAAAAAAAAAAAAAAAAAAAAAAAAAAAAAAD//wAAAAD//wAAAAAAAAAAAAD//wAAAAAAAAAAAAAAAAAAAQAAAAAAAAAAAAEAAAAAAAAAAAAAAAAAAAAAAAAAAAAAAAAAAQAAAAAAAAAAAAAAAAAAAP//AAAAAAAAAAAAAAAAAAAAAAAAAAD//wAAAAAAAAAAAAAAAP//AAAAAP//AAAAAAAAAAAAAAAAAAAAAAAAAAAAAAEAAAAAAAAAAAAAAAAAAAAAAAAAAAAAAAAAAQAAAAAAAQABAAEAAAAAAAAAAQAAAAAAAAAAAAAAAAAAAAAAAAAAAAAAAAAAAAAAAAAAAAAAAAAAAP//AAD//wAAAAAAAP////8AAAAAAAD//wAAAAAAAAAA//8AAP//AAAAAAAAAAAAAAAAAAAAAAAAAQAAAAAAAAABAAEAAAABAAAAAAAAAAEAAAAAAAAAAQAAAAAAAQAAAAAAAAAAAAAAAAABAAAAAAAAAAAAAAAAAAAAAAAAAAAAAAAAAAAAAAAAAAAAAAAAAAAA//8AAAAAAAD/////AAAAAAAAAAAAAP//AAAAAAAA//8AAAAAAAAAAAAAAAAAAAEAAAAAAAAAAAAAAAAAAAAAAAEAAAABAAAAAAABAAAAAAAAAAAAAAAAAAAAAAAAAAAAAAD//wAAAAAAAAAAAAAAAAAAAAD//wAAAAAAAAAA//8AAAAAAAAAAAAAAAAAAAAAAAAAAAAAAAAAAAAAAAAAAAAAAAAAAAAAAQAAAAAAAAAAAAIAAQABAAAAAAABAAEAAAAAAAAAAAABAAAAAAAAAAAAAQAAAAAAAAAAAAAAAAAAAAAAAAAAAAAA//8AAAAAAAD//wAA//8AAAAA/v8AAP//AAD//wAA//8AAAAA//8AAP//AAAAAAAA//8AAAAAAAAAAAAAAAAAAAEAAAAAAAAAAAAAAAAAAAAAAAEAAAABAAEAAAAAAAAAAAACAAEAAAAAAAAAAQAAAAAAAAAAAAAAAAD//wAAAAAAAAAAAAD//wAAAAAAAAAAAAAAAAAAAAAAAAAAAAAAAAAA//8AAAAAAAAAAAAAAAAAAAAAAAAAAAAAAQAAAAAAAAAAAAAAAAAAAAAAAAABAAAAAAABAAAAAAAAAAAAAAAAAAAAAAAAAAAAAAAAAAAAAAAAAAAAAAAAAAAAAAAAAAAAAAAAAAAA////////AAAAAAAA/////wAAAAAAAP//AAAAAAEAAAAAAAAAAAABAAAAAAAAAAEAAAAAAAAAAAABAAAAAAAAAAEAAAABAAAAAQAAAAEAAgAAAAEAAAAAAAEAAQAAAAAAAAAAAAAAAAAAAAAAAAAAAAAAAAAAAAAA//8AAAAAAAD/////AAAAAAAAAAAAAP//AAAAAAAA//8AAP//AAD//wAA//8AAAAA//8AAAAAAAAAAAAAAAABAAAAAAAAAAAAAQAAAAAAAAAAAAAAAAAAAAAAAAAAAAAA//8AAAEAAAAAAAAAAAABAAAAAAAAAAAAAAAAAAAAAAAAAAAAAAAAAP//AAAAAAAA//8AAAAAAAD//wAAAAAAAAEAAAAAAAAAAgAAAAAAAAAAAAAAAAAAAP//AAAAAAAA//8AAAAAAAAAAAAAAAAAAAEAAAABAAEAAQAAAAAAAAAAAAAAAAAAAP//AAAAAP///////wAAAAAAAP//AAAAAAAAAAAAAAAAAAAAAP//AAAAAAAAAAAAAP//AAAAAP///////wAAAAAAAP//AAAAAAEAAAAAAAAAAAAAAAEAAAAAAAEAAAABAAAAAAAAAAAAAAAAAAAAAAAAAP//AAAAAAAAAAAAAAAAAAAAAAEAAQAAAAEAAAAAAAAAAAAAAP//AAD//wAA//8AAP////8AAP//AAAAAAAAAAAAAAAAAAAAAAAAAQAAAAAAAAAAAAAAAAD//wAAAAAAAP//AAAAAAAAAAAAAAAAAAABAAAAAAAAAAAAAQAAAAAAAAAAAAAAAAAAAAAAAAAAAAAA//8AAP//AAAAAAAAAAAAAAAA//8AAAAAAQAAAAAAAAAAAAAAAAAAAP//AAD//wAA//8AAP//AAAAAAAAAAAAAAAAAAABAAAAAQAAAAAAAQAAAAAAAAAAAAAAAAAAAAAAAAAAAAAAAAAAAAAAAAABAAAAAAAAAAAAAAABAAAAAAAAAAAAAAAAAAAAAAAAAAAAAAAAAAAAAAD/////AAAAAAAA//8AAAAAAAAAAAAAAAABAAEAAAAAAAAAAAAAAAAAAAAAAAAAAAAAAP//AAAAAAAAAAAAAAAAAAAAAAAAAAABAAEAAAAAAAEAAAAAAAAAAAAAAAAAAAAAAAAAAAAAAP//AAAAAAAAAAAAAAAAAAAAAAAAAAAAAAAAAAAAAAAAAAAAAAAAAAAAAP//AAAAAAAAAAAAAAAAAAAAAAAAAAAAAAAAAAAAAAAAAAAAAAAAAAAAAAAAAAAAAAAA//8AAAAAAAAAAAAAAAAAAAAAAAAAAAAAAAAAAAEAAAAAAAAAAAAAAAAAAAAAAAAA//8AAAAAAAAAAAAAAAAAAAAAAAAAAAAAAAAAAAAAAAAAAAEAAAAAAAEAAAAAAAAAAAAAAAAA//8AAAAAAAAAAAAAAAAAAAAAAAAAAAAAAAAAAAAAAAAAAAAAAAAAAAAAAAAAAAAAAAD//wAAAAAAAAAAAAAAAAAAAAAAAAAAAAAAAAAAAAAAAAAAAQAAAAAAAAAAAAAAAAAAAAAAAAAAAAAAAAAAAAAAAAAAAAAAAAAAAAAAAAAAAAAAAAAAAAAAAAAAAAAAAAAAAAAAAAAAAAAAAAAAAAAAAAAAAAAAAAAAAAAAAAAAAAAAAAAAAAAAAAAAAAAAAAAAAAAAAAAAAAAAAAAAAAAAAAAAAAAAAAAAAAAAAAAAAAAAAQAAAAAAAAAAAAAAAAAAAAAAAAAAAAAAAAAAAAAAAAD//wAAAAAAAAAAAAAAAAAAAAAAAAAAAAAAAAAAAAAAAAAAAAAAAP//AAAAAAAAAAAAAAAAAAAAAAAAAAAAAAAAAAAAAAAAAAAAAAAAAAAAAAAAAAAAAAAAAAAAAAAAAAAAAAAAAAAAAAAAAAAAAAAAAAAAAAAAAAAAAAAAAAAAAAAAAAAAAAAAAAAAAAAA//8AAAAAAAAAAAAAAAAAAAAAAAAAAAAAAAAAAAAAAAAAAAAAAAAAAAAAAAAAAAAAAAAAAAAAAAAAAAAAAAAAAAAAAAAAAAEAAQAAAAAAAAAAAAAAAAAAAAAAAAAAAAAAAAAAAAAAAAAAAAAAAAAAAAAAAAAAAAAAAAAAAAAAAAAAAAAAAAAAAAAAAAAAAP//AAAAAAAA//8AAAAAAAAAAAAAAAAAAAAAAAAAAAAAAAAAAAAAAAAAAAAAAAAAAAAAAAAAAAAAAAAAAAAAAAAAAAAAAAAAAAAAAAAAAAAAAAAAAAAAAAAAAAAAAAAAAAAAAAD//wAAAAAAAAAAAAAAAAAAAAAAAAAAAAAAAAAAAAAAAAAAAAAAAAAAAAAAAAAAAAAAAAAAAAAAAAAAAAAAAAAAAAAAAAAAAAAAAAAAAAAAAAEAAQAAAAAAAAABAAAAAAAAAAAAAAAAAAAAAAAAAAAAAAAAAAAAAAAAAAAAAAAAAAAAAAAAAAAAAAAAAAAA//8AAAAAAAAAAAAA//8AAAAA//8AAAAAAAAAAAAAAAAAAAAAAAAAAAAAAAAAAAAAAAAAAAAAAAAAAAAAAAAAAAAAAAAAAAAAAAAAAAAAAAAAAAAAAAAAAAAAAAAAAAAAAAAAAAAAAAAAAAAAAAAAAAAAAAAAAAAAAAD//wAAAAAAAAAAAAAAAAAAAAAAAAAAAAAAAAAAAAAAAAAAAAAAAAAAAAAAAAAAAAAAAAAAAAAAAAAAAAAAAAAAAAAAAAAAAAAAAAAAAAAAAAAAAAAAAAAAAAAAAAAAAAAAAAAAAAAAAAAAAAAAAAAAAAAAAAAAAAAAAAAAAAAAAAAAAAAAAAAAAAAAAAAAAAAAAAAAAAD//wAAAAAAAAAAAAAAAAAAAAAAAAAAAAABAAAAAAAAAAAAAAAAAAAAAAAAAAAAAAAAAAAAAAAAAAAAAAAAAAAAAQAAAAEAAAAAAAAAAAAAAAAAAAAAAAAAAAAAAAAAAAAAAAAAAAAAAAAAAAAAAAAAAAAAAAAAAAAAAAAAAAAAAAAAAAAAAAAAAAAAAAAAAAAAAAAA//8AAP////8AAAAAAAAAAAAAAAAAAAAAAAAAAAAAAAAAAAAAAAAAAAAAAAAAAAAAAAAAAAAAAAAAAAAAAAAAAAAAAAAAAAAAAAAAAAAAAAAAAAAAAAAAAAAAAAAAAAAAAAAAAAAAAAAAAAAAAAAAAAAAAAAAAAAAAAAAAAAAAAAAAAAAAAAAAAAAAAAAAAEAAAAAAAAAAAAAAAAAAAAAAAAAAAAAAAAAAAAAAAAAAAAAAAAAAAAAAAAAAAAAAAAAAAAAAAAAAAAAAP//AAAAAAAAAAAAAAAAAAAAAAAAAAAAAAAAAAABAAAAAAAAAAAAAAAAAAAAAAD//wAAAAAAAAAAAAAAAAAAAAAAAAAAAAAAAAAAAAAAAAAAAAAAAAAAAAAAAAAAAAAAAAAAAAAAAAAAAAAAAAAAAAD//wAAAAAAAAAAAAAAAAEAAAAAAAAAAAAAAAAAAAAAAAAAAAAAAAAAAAAAAAAAAAD//wAAAAAAAAAAAAAAAAAAAAAAAAAAAAABAAAAAAAAAAAAAAAAAAAA//8AAAAAAAAAAAAAAAAAAAAAAAABAAAAAAAAAAEAAAAAAAAAAAAAAAAAAAAAAAAAAAAAAAAAAAAAAAAAAAAAAAAAAAAAAAAAAAAAAAAAAAAAAAAAAAAAAAAAAAAAAAAAAAAAAAAAAAAAAAAAAAAAAAAAAAAAAAAAAAAAAAAAAAAAAAAAAQAAAAEAAAAAAAAAAAAAAAAAAAD//wAAAAAAAAAAAAAAAAAAAAAAAAEAAAAAAAAAAAAAAAAAAAAAAAAAAAAAAAAA//8AAAAAAAAAAAAAAAAAAAAAAAAAAAAAAAAAAAAAAAAAAAAAAAAAAAAAAAAAAAAAAAAAAAAAAAAAAAAAAAAAAAAAAAAAAAAAAAAAAAAAAAAAAAAAAAAAAAAAAAAAAAAAAAAAAAAAAAAAAAAAAAAAAAAAAAAAAAAAAAAAAAEAAAAAAAAAAQAAAAAAAAAAAAAAAAAAAAAAAAAAAAAAAAD//wAAAAAAAAAAAAAAAAAAAAAAAAEAAAABAAAAAAAAAAAAAAAAAAAAAAAAAAAAAAAAAAAAAAAAAAAAAAAAAAAAAAAAAAAAAAAAAAAAAAAAAAAAAAAAAAAAAAAAAAAA//8AAAAAAAAAAAAAAAAAAAAAAAAAAAAAAAAAAAAAAAAAAAAAAAAAAAAAAAAAAAAAAAAAAAAAAAD//wAAAAAAAAAAAAAAAAEAAAAAAAAAAAABAAAAAAAAAAAAAAAAAAAAAAAAAAAAAAD//wAAAAAAAAAAAAAAAAAAAAAAAAAAAAAAAAAAAAAAAAAAAAAAAAAAAAAAAAAAAAAAAAAAAAAAAAAAAAAAAAAAAAAAAAAAAAAAAAAAAAAAAAAAAAAAAAAAAAAAAAAAAAAAAAAAAAAAAAAAAAAAAAAAAAAAAAAAAAAAAAAAAAABAAAAAAAAAAAAAAAAAAAAAAAAAAAAAAD//wAAAAAAAAAAAAAAAAAAAAAAAAAAAAAAAAAAAAAAAAAAAAAAAAAAAAAAAAAAAAAAAAAAAAAAAAAAAAAAAAAAAAAAAAAAAAAAAAAAAAAAAAAAAAAAAAAAAAAAAAAAAAAAAAAAAAAAAAAAAAAAAAAAAAAAAAAAAAAAAAAAAAAAAAAAAAAAAAAAAAAAAAAAAAAAAAAAAAAAAAAAAAAAAAAAAAAAAAAAAAAAAAAAAAABAAAAAAAAAAAAAAAAAAAAAAAAAAAAAAAAAAAAAAAAAAAAAAAAAAAAAAAAAAAAAAAAAAAAAAAAAAAAAAAAAAAAAAAAAAAAAAAAAAAAAAAAAAAAAAAAAAAAAAAAAAAAAAAAAAAAAAAAAAAAAAAAAAAAAAAAAAAAAAAAAAAA//8AAAAAAAAAAAAAAAAAAAAAAAAAAAAAAAAAAAAAAAAAAAAAAAAAAAAAAAAAAAAAAAAAAAAAAAAAAAAAAAAAAAAAAAAAAAAAAAABAAAAAAAAAAAAAAAAAAAAAAAAAAAAAAAAAAAAAAAAAAAAAAAAAAAAAAAAAAAAAAAAAAAAAAAAAAEAAAAAAAAAAAAAAAAAAAAAAAAAAAAAAP//AAAAAAAAAAAAAAAAAAAAAAAAAAAAAAEAAQAAAAAAAAAAAAAAAAD//wAA//8AAAAA//8AAAAAAAAAAAAAAAAAAAAAAAAAAAAAAQAAAAAAAAAAAAAAAAAAAAAAAAAAAAAA//8AAAAAAAAAAAAAAAAAAAAAAAAAAAAAAAAAAAAAAAABAAAAAAAAAAAAAAAAAAAAAAAAAAAAAAAAAAAAAAAAAAAAAAAAAAAAAQAAAAEAAAAAAAAAAAAAAAAAAAAAAAAA//8AAP//AAAAAAAAAAAAAAAAAAABAAAAAAAAAAAAAQAAAAAAAAAAAAAAAQAAAAAAAAAAAAAAAAAAAP//AAAAAAAAAAAAAAAAAAABAAAAAAAAAAAAAAABAAAAAAAAAAAAAAAAAAAAAAAAAAAAAAAAAAAAAAAAAAAAAAAAAAAAAAAAAAAAAAABAAAAAAAAAAAAAAAAAAAA//8AAP//AAAAAAAAAAAAAAAAAAABAAAAAQAAAAEAAAAAAAAAAAAAAAAAAAD//wEAAAAAAAAAAAAAAAAAAAD//wAAAAABAAAAAAAAAAAAAQAAAAAAAAAAAAAAAQAAAAAAAAAAAAAAAAAAAAAA//8AAAAAAAAAAAAA//8AAAEAAAAAAAAAAAABAAAAAAAAAAAAAAABAAAA//8AAP//AAAAAAAA//8AAAAAAAAAAAAAAAAAAAEAAAABAAAAAAAAAAAAAAAAAAAA/v8AAAAAAAAAAAAAAAAAAAAAAAAAAAAAAAAAAAAAAAAAAAAAAAAAAAAAAAAAAAAAAAAAAAEAAAAAAAAAAAAAAAAAAAAAAAAAAAAAAAAAAAAAAAAAAAAAAAAAAQAAAAAAAAAAAAAAAQAAAAAAAAD//wAAAAAAAAAAAAAAAAEAAAAAAAAAAAABAAAAAAAAAAAAAAABAAAAAAAAAP//AAAAAAAAAAAAAAAAAAAAAAAAAAAAAAAAAAAAAAAAAAAAAAAAAAAAAAAA//8AAAAAAAAAAAAAAAAAAAAAAAAAAAAAAAAAAAAAAAAAAAAAAAAAAAAAAAAAAAAAAAAAAAAAAAAAAAAAAAAAAAAAAAD//wAAAAAAAAAAAAAAAAAAAAAAAAAAAAAAAAAAAAAAAAAAAAAAAAAAAAAAAAAAAAAAAAAAAAAAAAAAAAAAAAAAAAAAAAAAAAAAAAAAAAAAAAAAAAAAAAAAAAAAAAAAAAAAAAAAAAAAAAAAAAAAAAAAAAAAAAAAAAAAAAAAAAAAAAAAAAAAAAAAAAAAAAAAAAAAAAAAAAAAAAAAAAAAAAAAAAAAAAAAAAAAAAAAAQAAAAAAAAAAAAAAAAAAAAAAAAAAAAAAAAAAAAAAAAAAAAAAAAAAAAAAAAAAAAAAAAAAAAAAAAAAAAAAAAD//wAAAAAAAAAAAAAAAAAAAQAAAAAAAAAAAAAAAAAAAAAAAAAAAAAAAAAAAAAAAAAAAAAAAAAAAAAAAAAAAAAAAAAAAAAAAAAAAAAAAAAAAAAAAAAAAAAAAAAAAAAAAAAAAAAAAAAAAAAAAAAAAAAAAAAAAAAAAAAAAAAAAAAAAAAAAAAAAAAAAAAAAAAAAAAAAAAAAAAAAAAAAAAAAAAAAAAAAAAAAAAAAAAAAAAAAAAAAAAAAAAAAAAAAAAAAAAAAAAAAAAAAAAAAAAAAAAAAAAAAAAAAAAAAAAAAAAAAAAAAAAAAAAAAAAAAAAAAAAAAAAAAAAAAAAAAAAAAAAAAAAAAAAAAAAAAAAA//8AAAAAAAAAAAAAAAAAAAAAAAAAAAAAAAAAAAAAAAAAAAAA//8AAAAAAAAAAAAA//8AAAAAAAAAAAAAAAAAAAAAAAAAAAAAAAAAAAAAAAAAAAAAAAAAAAAAAAAAAAAAAAAAAAAAAAAAAAAAAAAAAAAAAAAAAAAAAAAAAAAAAAAAAAAAAAAAAAAAAAAAAP//AQAAAAAAAAAAAAAAAAAAAAAAAAAAAAAAAAAAAAAAAAAAAAAAAQAAAAAAAAAAAAAAAAAAAAAAAAAAAAAAAAAAAAAAAAAAAAEAAAAAAAAAAAAAAAAAAAAAAAAAAAAAAAAAAAAAAAAAAAAAAAAAAAAAAAAAAAAAAAAAAAAAAAAAAAAAAAAAAAAAAAAAAAAAAAAAAAAAAAAAAAAAAAAAAAAAAAAAAAAAAAAAAAAAAAAAAAAAAAAAAAAAAAAAAAAAAAAAAAAAAAAAAAD//wAAAAAAAAAAAAAAAAAAAAAAAAAAAAAAAAAAAAAAAAAAAQAAAAAAAAAAAAAAAAAAAAAAAAAAAAAAAAAAAAAAAAAAAAAAAAAAAAAAAAAAAAAAAAAAAAAAAAAAAAAAAAAAAAAAAAAAAAAAAAAAAAAAAAAAAAAAAAAAAAAAAAAAAAAAAAAAAAAAAAABAAAAAAAAAAAAAAAAAAAA//8AAAAAAAAAAAAAAAAAAAAAAAAAAAAAAAAAAAAAAAAAAAAAAAAAAAAAAAAAAAAAAAAAAAAAAAAAAAAAAAAAAAAAAAAAAAAAAAAAAAAAAAAAAAAAAAAAAAAAAAAAAAAAAAAAAAAAAAAAAAAAAAAAAAAAAAAAAAAAAAAAAAAAAAAAAAAAAAAAAAAAAAAAAAAAAAAAAAEAAAAAAAAAAAAAAAAAAAAAAAAAAAAAAAAAAAAAAAAAAAAAAAEAAAAAAAAAAAAAAAAAAAAAAAAAAAAAAAAAAAD//wAAAAAAAAAAAAAAAAAAAAAAAAAAAAAAAAAAAAAAAAAAAAAAAAAAAAAAAAAAAAAAAAEAAAAAAAAAAAAAAAEAAAAAAAAAAAAAAAAAAAAAAAAAAAAAAAAAAAAAAAAAAAAAAAAAAAAAAAAAAAAAAAAAAAD//wAAAAAAAAAAAAAAAAAAAAAAAAAAAAAAAAAAAAAAAAAAAAAAAAAAAAAAAAAAAAAAAAAAAAAAAAAAAAAAAAAAAAAAAAAAAAAAAAAAAAAAAAAAAAAAAAAAAAAAAAAAAAAAAAAAAQAAAAAAAAAAAAAAAAAAAAAAAAAAAAAAAAAAAAAAAAAAAAAAAAAAAAAAAAAAAAAAAAAAAAAAAAAAAAAAAAAAAAAAAAAAAAAAAAAAAAAAAAAAAAAAAAAAAAAAAAAAAAAAAAAAAAAAAAAAAAAAAAAAAAAAAAAAAAAAAAAAAAAAAAAAAAAAAAAAAAAAAAAAAAAAAAAAAAAAAAAAAAAAAAAAAAAAAAAAAAAA//8AAAAAAAAAAAAAAAAAAAAAAAAAAAAAAAAAAAAAAAAAAAAAAAAAAAAAAAAAAAAA//8AAAAAAAAAAP//AAAAAAAAAAAAAAAAAAAAAAAAAAAAAAAAAAAAAAAAAAAAAAAAAAAAAAAAAAAAAAAAAAAAAAAAAAAAAAAAAAAAAAAAAAAAAAAAAAAAAAAAAAAAAAAAAAAAAAAAAAAAAP//AAAAAAAAAAAAAAAAAAAAAAAAAAAAAAEAAAAAAAAAAAAAAAAAAAAAAAAAAAAAAAAAAAAAAAAAAAAAAAAAAAAAAAAAAAAAAAEAAQAAAAAAAAAAAAEAAAAAAAAAAAAAAAAAAAAAAAAAAAAAAAAAAAAAAAAAAAAAAAAAAAAAAAAAAAAAAAEAAAAAAAAAAAAAAAAAAAD//wAAAAAAAAAAAAAAAAAAAAAAAAAAAAAAAAAAAAABAAEAAAAAAAAAAAAAAAAAAAAAAAAAAAAAAAAAAAAAAAAAAAAAAAAAAAAAAAAAAAAAAAEAAAAAAAAAAAAAAAAAAAAAAAAAAAAAAP//AAAAAAAAAAAAAAAAAAAAAAAAAAAAAAAAAAAAAAEAAQAAAAAAAAAAAAAAAAD/////AAAAAAAAAAAAAAAAAAAAAAAAAAAAAAAAAAAAAAAAAQAAAAAAAAAAAAAAAAAAAP//AAAAAAAAAAAAAAAAAAAAAAAAAAAAAAAAAAAAAAAAAAAAAAAAAAAAAAAAAAAAAAAAAAAAAAAAAAAAAAAAAAAAAAAAAAAAAAAAAAAAAAAAAAAAAAAAAAAAAAAAAAAAAAAAAAAAAAAA//8AAAAAAAAAAP//AAAAAAAAAAAAAAAAAAAAAAAAAAAAAAAAAAAAAAAAAAAAAAAAAAD//wAAAAAAAAAAAAAAAAAAAAAAAAAAAAAAAAAAAAAAAAAAAAAAAAAAAAAAAAAAAAAAAAAAAAAAAAAAAAAAAAAAAAAAAAAAAAAAAAAAAAAAAAAAAAAAAAAAAAAAAAAAAAAAAAAAAAAAAAAAAAAAAAAAAAAAAP//AAAAAAAAAAAAAAAAAAAAAAAAAAAAAAAAAAAAAAAAAAAAAAAAAAAAAAAAAAAAAAAAAAAAAAAAAAAAAAAAAAAAAAAAAAAAAAAAAAAAAAAAAAAAAAAAAAAAAAAAAAAAAAAAAAAAAAAAAAAAAAAAAAAAAAAAAAAAAAAAAAAAAAAAAAAAAAAAAAAAAAAAAAAAAAAAAAAAAAAAAAAAAAAAAAAAAAAAAAAAAAAAAAAAAAAAAAAAAAAAAAAAAAAAAAAAAAAAAAAAAAAAAAAAAAAAAAAAAAAAAAAAAAAAAAAAAAAAAAAAAAAAAAAAAAEAAAAAAAAAAAAAAAAAAAAAAAAAAAAAAAAAAAAAAAAAAAAAAAAAAAAAAAAAAAAAAAAAAAAAAAAAAAAAAAAAAAAAAAAAAAD//wAAAAAAAAAAAAAAAAAAAAAAAAAAAAAAAAAAAAAAAAAAAAAAAAAAAAAAAAAAAAAAAAAAAAAAAAAAAAAAAAAAAAAAAAAAAAAAAAAAAAAAAAAAAAAAAAAAAAAAAAAAAAAAAAAAAAAAAAAAAAAAAAAAAAAAAAAAAAAAAAAAAAAAAAAAAAAAAAAAAAAAAAAAAAAAAAAAAAAAAAAA//8AAAAAAAAAAAAAAAAAAAAAAAAAAAAAAAAAAAAAAAAAAAAAAAAAAAAAAAAAAAAAAAAAAAAAAAAAAAAAAAAAAAAAAAAAAAAAAAAAAAAAAAAAAAAAAAAAAAAAAAAAAAAAAAAAAAAAAAAAAAAAAAAAAAAAAAAAAAAAAAAAAAAAAAAAAAAAAAAAAAAAAAAAAAAAAAAAAAAAAAAAAAAAAAAAAAAAAAAAAAAAAAAAAAAAAAAAAAAAAAAAAAAAAAAAAAAAAAAAAAAAAAAAAAAAAAAAAAAAAAAAAAAAAAAAAAAAAAAAAAAAAAAAAAAAAAAAAAAAAAAAAAAAAAAAAAAAAAAAAAAAAAAAAAAAAAAAAAAAAAAAAAAAAAAAAAAAAAAAAAAAAAAAAAAAAAAAAAAAAAAAAAAAAAAAAAAAAAAAAAAAAAAAAAAAAAAAAAAAAAAAAAAAAAAAAAAAAAAAAP//AAAAAAAAAAAAAAAAAAAAAAAAAAAAAAAAAAAAAAAAAAAAAAAAAAAAAAAAAAAAAAAAAAAAAAAAAAAAAAAAAAAAAAAAAAAAAAAAAAAAAAAAAAAAAAAAAAAAAAAAAAAAAAAAAAAAAAAAAAAAAAAAAAAAAAAAAAAAAAAAAAAAAAAAAAAAAAAAAAAAAAAAAAAAAAAAAAAAAAAAAAD//wAAAAAAAAAAAAAAAAAAAAAAAAAAAAAAAAAAAAAAAAAAAAAAAAAAAAAAAAAAAAAAAAAAAAAAAAAAAAAAAAAAAAAAAAAAAAAAAAAAAAAAAAAAAAAAAAAAAAAAAAAAAAAAAAAAAAAAAAAAAAAAAAAAAAAAAAAAAAAAAAAAAAAAAAAAAAAAAAAAAAAAAAAAAAAAAAAAAAAAAAAAAAAAAAAAAAAAAAAAAAAAAAAAAAAAAAAAAAAAAAAAAAAAAAAAAAAAAAAAAAAAAAAAAAAAAAAAAAAAAAAAAAAAAAAAAAAAAAAAAAAAAAAAAAAAAAAAAAAAAAAAAAAAAAAAAAAAAAAAAAAAAAAAAAAAAAAAAAAAAAAAAAAAAAAAAAAAAAAAAAAAAAAAAAAAAAAAAAAAAAAAAAAAAAAAAAAAAAAAAAAAAAAAAAAAAAAAAAAAAAAAAAAAAAAAAAAAAAAAAAAAAAAAAAAAAAAAAAAAAAAAAAAAAAAAAAAAAAAAAAAAAAAAAAAAAAAAAAAAAAAAAAAAAAAAAAAAAAAAAAAAAAAAAAAAAAAAAAAAAAAAAAAAAAAAAAAAAAAAAAAAAAAAAAAAAAAAAAAAAAAAAAAAAAAAAAAAAAAAAAAAAP//AAAAAAAAAAAAAAAAAAAAAAAAAAAAAAAAAAAAAAAAAAAAAAAA//8AAAAAAAAAAAAAAAAAAAAAAAAAAAAAAAAAAAAAAAAAAAAAAAAAAAAAAAAAAAAAAAAAAAAAAAAAAAAAAAAAAAAAAAAAAAAAAAAAAAAAAAAAAAAAAAAAAAAAAAAAAAAAAAAAAAAAAAAAAAAAAAAAAAAAAAAAAAAAAAAAAAAAAAAAAAAAAAAAAAAAAAAAAAAAAAAAAAAAAAAAAP//AAAAAAAA//8AAAAAAAAAAAAAAAAAAAEAAAAAAAAAAAAAAAAAAAAAAAAAAAAAAAAAAAAAAAAAAAAAAAAAAAAAAAAAAAAAAAAAAAAAAAAAAAAAAAAAAAAAAAAAAAAAAAAAAAAAAAAAAAAAAAAAAAAAAAAAAAAAAAAAAAAAAAAAAAAAAAAAAAAAAAAAAAAAAAAAAAAAAAAAAAAAAAAAAAAAAAAAAAAAAAAAAAAAAAAAAAAAAAAAAAAAAAAAAAAAAAAAAAAAAAAAAAAAAAAAAAAAAAAAAAAAAAAAAAAAAAAAAAAAAAAAAAAAAAAAAAAAAAAAAAAAAAAAAAAAAAAAAAAAAAAAAAAAAAAAAAAAAAAAAAAAAAAAAAAAAAAAAAAAAAAAAAAAAAAAAAAAAAAAAAAAAAAAAAAAAAAAAAAAAAAAAAAAAAAAAAAAAAEAAAAAAAAAAAAAAAAAAAAAAAAAAAAAAAAAAAD//wAAAAAAAAAAAAAAAAEAAAAAAAAAAAAAAAAAAAD//wAAAAAAAAAAAAAAAAAAAAAAAAAAAAAAAAAAAAAAAAAAAAAAAAAAAAAAAAAAAAAAAAAAAAAAAAAAAAAAAAAAAAAAAAAAAAAAAAAAAAAAAAAAAAAAAAAAAAAAAAAAAAAAAAAAAAAAAAAAAAAAAAAAAAAAAAAAAAD//wAAAAAAAAAAAAAAAAAAAAAAAAAAAAAAAAEAAAAAAAAAAAAAAAAAAAAAAAAAAAAAAAAAAAAAAAAAAAAAAAAAAAAAAAAAAAAAAAAAAAAAAAAAAAAAAAAAAAAAAAAAAAAAAAAAAAAAAAAAAAAAAAAAAAAAAAAAAAAAAAAAAAAAAAAAAAAAAAAAAAAAAAAAAAAAAAAAAAAAAAAAAAAAAAAAAAAAAAAAAAAAAAAAAAABAAAAAAAAAAAAAAAAAAAAAAAAAAAAAAAAAAAAAAAAAAAAAAAAAAAAAAAAAAAAAAAAAAAAAAAAAAAAAAAAAAAAAAAAAAAAAAAAAAAAAAAAAAAAAAAAAAAAAAAAAAAAAAAAAAAAAAAAAAAAAAAAAAAAAAAAAAAAAAAAAAAAAAAAAAAAAAAAAAAAAAAAAAAAAAAAAAAAAAAAAAAAAAAAAAAAAAAAAAAAAAAAAAAAAAAAAAAAAAAAAAAAAAAAAAAAAAAAAAAAAAAAAAAAAAAAAAAAAAAAAAAAAAAAAAAA//8AAAAAAAAAAAAAAAAAAAAAAAAAAAAAAAAAAAAAAAAAAAAAAAAAAAAAAAAAAAAAAAAAAAAAAAAAAAAAAAAAAAAAAAAAAAAAAAAAAAAAAAAAAAAAAAAAAAAAAAAAAAAAAAAAAAAAAAAAAAAAAAAAAAAAAAAAAAAAAAAAAAAAAAAAAAAAAAAAAAAAAAAAAAAAAAAAAAAAAAAAAAAAAAAAAAAAAAAAAAAAAAAAAAAAAAAAAAAAAAAAAAAAAAAAAAAAAAAAAAAAAAAAAAAAAAAAAAAAAAAAAAAAAAAAAAAAAAAAAAAAAAAAAAAAAAAAAAAAAAAAAAAAAAAAAAAAAAAAAAAAAAAAAAAAAAAAAAAAAAAAAAAAAAAAAAEAAAAAAAAAAAAAAAAAAAD//wAAAAAAAAAAAAAAAAAAAAAAAAAAAAAAAAAAAQAAAAAAAAAAAAAAAAAAAAAAAAD//wAAAAAAAAAAAAAAAAAAAQAAAAAAAAAAAAAAAAAAAP//AQAAAAAAAAAAAAAAAAAAAP//AAAAAAAAAAAAAAAAAAAAAAAAAAAAAAAAAAAAAAAAAAABAAAAAAAAAAAAAAAAAAAAAAAAAP//AAAAAAAAAAAAAAAAAAAAAAAAAAAAAAAAAAAAAAAAAAAAAAAAAAAAAAAAAAAAAAAAAAAAAAAAAAAAAAAAAAAAAAAAAAAAAAAAAAAAAAAAAAAAAAAAAAAAAAAAAAAAAAAAAAAAAAAAAAAAAAAAAAAAAAAAAAAAAAAAAAAAAAAAAAAAAAAAAAAAAAAAAAAAAAAAAAAAAAAAAAAAAAAAAAAAAAAAAAAAAAAAAAABAAAAAAAAAAAAAAAAAAAA//8BAAAAAAAAAAAA//8AAAAAAAAAAAAAAAAAAAEAAAABAAAAAAABAAAAAAAAAAAA//8AAAAA//8AAAAAAAAAAAAA//8AAAAAAAAAAAAAAAAAAAAA//8AAAAAAAAAAAAAAAAAAAEAAAAAAAAAAAAAAAAAAAAAAAAAAAAAAAAAAAAAAAAAAAAAAAAAAAAAAAAAAAAAAAAAAAAAAAAAAAAAAAAA//8AAAAAAAAAAAAAAAAAAAAAAAABAAAAAAAAAAAAAAAAAAAA//8AAAAAAAAAAAAA//8AAAAA//8AAP//AAAAAAAAAAAAAAAAAAAAAAAAAAAAAAEAAAAAAAAAAAAAAAAAAAAAAAAA//8AAAAAAAAAAAAAAAAAAAAAAAAAAAAAAAAAAAEAAAAAAAAAAAAAAAAAAAD//wAA//8AAP//AAAAAAAAAAD//wEAAAAAAAAAAQAAAAEAAAAAAAEAAAAAAP//AAAAAAAAAAAAAAAAAAAAAP//AAAAAAAAAAAAAAAAAAAAAAAAAQAAAAAAAAAAAAAAAAAAAAAAAAAAAAAAAAAAAAAAAAAAAAAAAAAAAAAAAAAAAAAAAAAAAAAAAAAAAAAAAAAAAAEAAAAAAAAAAAAAAAAAAAD//wAA//8AAAAAAAAAAAAAAAAAAAEAAAABAAAAAAAAAAAAAQD//wAAAAAAAP//AAAAAAAAAAD//wAA//8AAAAAAAAAAAAAAAAAAAAAAAAAAAAAAQAAAAAAAAAAAAAAAAAAAP//AAAAAAAAAAAAAAAAAAAAAAAAAAAAAAAAAAAAAAAAAAAAAAAAAAAAAAAAAAAAAAAAAAAAAAAAAAAAAAAAAAAAAAAAAAAAAAAAAAABAAAAAAAAAAAAAAAAAAAAAAAAAAAAAAAAAAAAAAAAAAAAAAAAAAAAAAAAAAAAAAAAAAAAAAAAAAAAAAAAAAAAAAAAAAAAAAAAAAAAAAAAAAAAAAAAAAAAAAAAAAAAAAAAAAAAAAAAAAAAAAAAAAAAAAAAAAAAAAAAAAAAAAAAAAAA//8AAP//AAAAAAAAAAAAAAAAAAAAAAAAAQAAAAAAAAAAAAAAAAAAAP//AAAAAAAAAAAAAAAAAAAAAAAAAAAAAAAAAAAAAAAAAAAAAAAAAAAAAAAAAAAAAAAAAAAAAAAAAAAAAAAAAAAAAAAAAAAAAAAAAAAAAAAAAAAAAAAAAAAAAAAAAAAAAAAAAAAAAAAAAAAAAAAAAAAAAAAAAAAAAAAA//8AAAAAAAAAAAAAAAAAAAAAAAAAAAAAAAAAAAAAAAAAAAAAAAAAAAAAAAAAAAAAAAAAAAAAAAAAAAAAAAAAAAAAAAAAAAAAAAAAAAAAAAAAAAAAAAAAAAAAAAAAAAAAAAAAAAAAAAAAAAAAAAAAAAAAAAAAAAAAAAAAAAAAAAAAAAAAAAAAAAAAAAAAAAAAAAAAAAAAAAAAAAAAAAAAAAAAAAAAAAAAAAAAAAAAAAAAAAAAAAAAAAAAAAAAAAAAAAAAAAAAAAAAAAAAAAAAAAAAAAAAAAAAAAAAAAAAAAAAAAAAAAAAAAAAAAAAAAAAAAAAAAAAAAAAAAAAAAAAAAAAAAAAAAAAAAAAAAAAAAAAAAAAAAAAAAAAAAAAAAAAAAAAAAAAAAAAAAAAAAAAAAAAAAAAAAAAAAAAAAAAAAAAAAAAAAAAAAAAAAAAAAAAAAAAAAAAAAAAAAAAAAAAAAAAAAAAAAAAAAAAAAAAAAAAAAAAAAAAAAAAAAAAAAAAAAAAAAAAAAAAAAAAAAAAAAAAAAAAAAAAAAAAAAAAAAAAAAAAAAAAAAAAAAAAAAAAAAAAAAAAAAAAAAAAAAAAAAAAAAAAAAAAAAAAAAAAAAAAAAAAAAAAAAAAAAAAAAAAAAAAAAAAAAAAAAAAAAAAAAAAAAAAAAAAAAAAAAAAAAAAAAAAAAAAAAAAAAAAAAAAAAAAAAAAAAAAAAAAAAAAAAAAAAAAAAAAAAAAAAAAAAAAAAAAAAAAAAAAAAAAAAAAAAAAAAAAAAAAAAAAAAAAAAAAAAAAAAAAAAAAAAAAAAAAAAAA//8AAAAAAAAAAAAAAAAAAAAAAAAAAAAAAAAAAAAAAAAAAAAAAAAAAAAAAAAAAAAAAAAAAAAAAAAAAAAAAAAAAAAAAAAAAAAAAAAAAAAAAAAAAAAAAAAAAAAAAAAAAAAAAAAAAAAAAAAAAAAAAAAAAAAAAAAAAAAAAAAAAAAAAAAAAAAAAAAAAAAAAAAAAAAAAAAAAAAAAAAAAAAAAAAAAAAAAAAAAAAAAAAAAAAAAAAAAAAAAAAAAAAAAAAAAAAAAAAAAAAAAAAAAAAAAAAAAAAAAAAAAAAAAAAAAAAAAAAAAAAAAAAAAAAAAAAAAAAAAAAAAAAAAAAAAAAAAAAAAAAAAAAAAAAAAAAAAAAAAAAAAAAAAAABAAAAAAAAAAAAAAAAAAAAAAAAAAAAAAAAAAAAAAAAAAAAAAAAAAAAAAAAAAAAAAAAAAAAAAAAAAAAAAAAAAAAAAAAAAAAAAAAAAAAAAAAAP//AAAAAAAA//8AAAAAAAAAAAAAAAAAAAAAAAAAAAAAAAAAAAAAAAAAAAAA//8AAAAAAAAAAP//AAAAAAAAAAAAAAAAAAABAAAAAAAAAAAAAAAAAAAAAAAAAAAAAAAAAAAAAAAAAAAAAAAAAAAAAAAAAAAAAAAAAAAAAAAAAAAAAAAAAAAAAAAAAAAAAAAAAAAAAQD//wAAAAAAAAAAAAAAAAAAAAAAAAAAAAAAAAAAAAAAAAAAAAAAAAAA//8AAAEAAAAAAP//AAAAAAAAAAAAAAAAAAAAAAAAAAAAAAAAAAAAAAAAAAAAAAAAAAAAAAAAAAD//wAAAAAAAAAAAAD//wAAAQAAAAAAAAABAAAAAAAAAAAAAAAAAAEAAAAAAAAAAAAAAAAA//8AAAAAAAD//wAAAQAAAAAAAAAAAAAAAAAAAAMAAAD//wEAAQAAAAAAAAACAAAA/v8AAP//AAAAAAAAAAD/////AAD//wAAAgD//wEAAAD//wAAAAAAAAIA//8AAAEA+////wEAAQAAAPz/AAABAP7/AAAAAAAAAwAAAP//AQD//wAAAgAAAAAA///+/wEAAAAAAAEAAAAAAP///v8DAAIA/v8CAAIAAAAAAP//AgABAPz/AQADAAEAAAD7/wEABAD8////AwABAAAA+f8BAAUA/P8AAAEAAAD9//7/AQABAAAA//8BAAIAAAD8////AwAEAAEA/v/+/wAAAAD//wEAAwAAAPz/AAAAAAEA/v8BAAcAAgD8//7/BAAEAP//AgAGAP3//v8AAAEABAD9/wAABQD8/wAAAQD8/wEAAQACAAEA+f8AAAAA/f8HAP///f8FAPv///8AAP3/BAD///3/AAD+/wAA/v/6/wYAAAAAAAQA+P/7/wQAAwAFAAAA/P8EAPr/AAAHAAAAAAACAAEA///+//n/CAADAPz/BQADAAAA/f/7/wwABgD7/wgA+v/7/wIA/v8IAAcA9v/9//b/AAAIAPX/AwAHAPv/AAD3//7/DAD3/wEABgD//wAA8v/8/xUA/v/0/wEAAwD+//X/BAAMAPz/9v8IAAUA+P/2/wQAEQABAPX///8HAAQA/f8BAAUACAACAP7/AQAFAAEAAAAEAAkA/P/7/wQA+////wQAAAABAP//+P8CAAAABAABAPv/CwABAPL/CQAHAPf//f8AAAsA+v/v/wAAAQABAPr/+P8LAAAA7P/7/wwADAD9//z/AAADAPv//f8JAAYA+v/s/xEAEQDk//j/GAADAPj/+P8GAA4A9v/+/xQACgD9//n/AQAJAPr/BwANAPL/AAAFAPr/CADx//T/EwAAAPX/8f8CAB0A7f/q/xQAAQD5/wAA/f8LAPr/7/8HAAQACADo//3/EADt/+7/AwALAAcA+f/j/wkAFQDy//z/DAAUAAAA8P8TAAEA9f8PABEADgD1/+r/DwADAA8A/v/t/yEAEADQ/+n/HwAhAP7/8P8aAO//1/8FAB4AEwDy//n/EwDh/9z/GAAZAA8A+f/p/+//9f/2/wsANAAHAMv/8v8AAOT/CwAeAA0ABwDv/9D/AAAkAA8AHQDb/wcABgDV//z/HQAmAPb/3f8BABAAwv/1/0IAFgD2/wgAAQDt/9r/DgBLADQAvv/i/zMA8f/d/wUAQQAHAL7/5/8SAAUADAD1/wQANQDc/77/LAAXAN3/JgAkAPX/w/8IAB4Avf8NACIA3/8PAAAA4v8JAAIA+//v/wwA8v8GAP//2f8YABwACQDo/+v//P/c/wwAOwAsAAcAuP8IAFUA0//e/0cAHAD1/+X/EQAWAAgA3f/+/x4A5v/U//f/NgDq//7//P/1/xoA0f8GAFAA8v/L/ycAAADb/zAA5v/3/xwA0f/q/w8AGwD9/8H/+v/1/+r/EQALACEA8//J/w8ATADe/+H/TgAbANX/FgAkAPX/0/84APj/GQDA/7//NQDr/w8AEwAxALX/JQDR/x8Au/86AE8AxP9jAHX/8/+eADYAUv8TAPH/HgAAAOn/6f8SADwArP9IAAIA5/+V/xoAgQBfALb/lf9UAH0AV/+l/34A9//X/8//VwAVAJX/qf/FAM3/Cv+CAF0AXv84AJsAo/+s/1UAxP94/4sBvP+a/gUBQAGl/hwA3gCj/mgArv/7/wIBLQCb/4P/Vv+iABkACgBEAFH+3AGxAFH/mf6AAW8BYv3SAl7+M/2gAcADzP8H+oEErgHU+fn/7QLhAYn+kf+Q/Uz/CQV4AOX9Bv6i/+kCQABk/53+gwDSAx38jwH+/6n8ggLeAPL/F/1gAxQAYfvfAk0Cff58/i4AyAAv//QBFgFg/QcA3QE+/53+XQGrAIP+l/5eAlIBmP2b/3AB9/5JABYAY//8ACn/0v9QAVoAYP7RAKcAOf4NAScByP7I/6wAwQDG/oX/6gDj/okAtACQ/sX/xgGd/1X/+P+K/5AAIQB3/9z/aQBZASH/Rf9FAFIAZQB//lIB3/8cAB4AKf8ZAbf/SP/p/wgAiADQ/47/awGU/2//YwBOAFn/pv9QAbP+8P88Akv/PP8UACcANAAr/00AhwB9/2QA2f9t/xgARADn/0f/ZAAqAEr/GgC7AJIA9//I/ub/VAA5AF0Ai/9RAPn/uP8xABEAEgBDAJP/wP9jAIAAAQAw/7AALAB+/5cAfv+w/wsBPQAi/9H/RwAmAOj//f/f/7j/fACX//b/qQD8/57/xf98ANn/6f9sALT/+f8pAKv/6P/2/08A7P+r/1sA0f+o/2YA///p/woA6v8QAPb/uP/L/40ANwCT//f/RgCp/93/yP9GAGEAfP+r/9n/VgAiANL/GQAbAGn//P87AL7/EwCOANz/lv/r//n/EwAaAHoAEwDM/yAAZwD1/x4AlAA5AFP/IwCOAB4AwP8KAEwAxP9fANP/pv+e/0MAXQCv/zYAc/92/7IAUwCF/8P/WACn//X/uQAOAL//BwDE/+z/oQDc/5H/LABlAMr/BwAiAMr/UwCM//z/hgDd/ygAjf/e/2sA1v/J/zUA2/+9/xgA4P8XAOD/1P/7/67/6f/d/+X/zP/F/y0A1/8ZAO//rP95AB4AnP85ABcA9v8bABYADwDg/1oA3v+H/6MAIQCn/00AAwDx//j/EwBnAOj/2v9JAN7/7v8AAB8ADQANAE0Abf8aAFYA3v/U/wQAaQDj/9r/7v8UAPz//f8WAC4AAADY/zcAMQDG/ycARgDo/+r/JwB0ANb/CwAfANH/6f8wAP7/5v8YACgA9f/N/8r/wP8sAPr/9f/7/3f/qP96AAIA1/+b/xYAZwCO/wMA5P+q/wcAFwD5/+n/v//y/xQAyv8oACoAg//g/14A+v8IAG0A2v/x/00AGABGAEAAHAD7/1EAOgAsACYA5v9LAAIA+v8dAKj/AQBPAHz/xv8oAOX/+P+Q/4D/8f81AI//wv8UAOH/CwC//8b/wv/j/ywAi/+J/3cAGwDh/1wAEgDa/wsA/P/q/z8AeABQAAkAGQBaAHwALACW/8//TABeAC4AXABmAC8ARABHAO7/0v/+/wYAaQAqABQAVAD3/7v/KgAwAOX/CgBbAIAAIwDK/xMA7/+0/x0A5P+l/6X/3P8hAIEAu/9V/5f/WP+T/zcA+v+H//3/yf/f/9D/bv8r/3D/LP9u/wz/cP6o/s3/z/87/aT7t/yfAP0BHgF1//v+mP9OAQICwwGLAQUA6wAkAjoCqgO8BIoB3v57AX0DrQH0AYYBDgEjAfgA+f96/gAAagE6AfH+Tv5U/wYAZ/9V/97/Zf6V/ZH+mP4z/n3/9/9s/jb9V/7K/rL+8/82/2j+Of+l/47+3P6m/3//zQB9AJn/bP+R/0j/cwFwAVr/j/9Q/y0AZABd/84AMQKb/8b+qP/RAOwBPwIRAB3/CACKAJUBNwGpAc0CnwFh/9T/7P9fAfMC7QEUAAz/Sf/O//kBoAKLAHD/oP9v/kH/SAERAT4AbP7H/v7/d/8I/7r/SgDm/uX9sP73/i/+/f8mAXL+Yfw+/j//B/8mAEMAv//b/2X/t/3Q/QoAtwEOAQIAP//r/i4AggGQAIr/o/+UAOoBfwHqAcUBLv/g/wIDiwHL/cH+hgHFAa4CmwLt/wX+Zv4ZAWwBRf+s/5AARQHr/+T/VAL8AOT9vP4yAUoA/AAiAvT/FP9EAXMAEf7Y/l8AJAAwAP7/sP9r//D+4v+2AAcB2/71/MH90gANA4wBQP43/Xv9Vf4t/5D/wP8x/jT+ev9M/sj8H/54/8z+5v0K/sf9Uf8fAbEBsQCq/Tf7gfxMAEUCNQIlAT///v2w/xQBvwBjAA4BCQG4AToCagIzBF0FSwStAsYCwQJEBYIJLwiTA4wBhgFOA6gElARPA2IB2ACnAUUBiv9k/k3+5f+NAIn+ofyD/O38R/yt+yX9Y/24+5z7zPxa+234u/gA+pr53voJ/Y79mPuT+Sf5mPmG+yb9GQANArb/xP0K/hL8JfzWAMYCXv9I/sj/G/6h/v8AKADA/X78G/5bA+EFRARdA64E7ATxAxcF0QbnCbENEA/1DYEMAQx3DLEMBwyvC3oLoAs5C14LQgyMCWAF5QFFAWwCJAOtAnj/efwA+kn4M/du9n/1bvSO8q7vL+1A7TLv+u5A7rPtw+up6WDqzOyo7tnvSPGY8unyUfNY9AH2wvdK+Uz78PzX/d//MwGhAfAB8wICBEoFTggICxwNaA4iD6sOvA7qEdUUThaZGTEckht8G/8cohx5G8AdCR+HHC8Z1RdpFv0T9ROAE30QEwzsB24EKgEW/n78avq89ZXvRuv46HvmcuTm4lHgFtxb2ZTWk9Wy1rvYRtlZ15rVRNUp2APcBeFr5cfoSOo96/zsU/BO9Bb5zv74ArgEjgUDCU8LMQ2jEBAU8BV4GXQdZyAKI8sjQCM3I3sl/idyLfUx5TJaMQAw1S/dL+wwHSwqJkUi0h5fHYQdQRpDEnELJQU0/if6I/i58tXsSOiv4pvc0ddN1ErQXc0SzAbK3shSx0DEz8H/wqbGWcqGzDbLsMv8zpvUcdv84lboRO2p8kz1K/iy/FMDUAiGDEURCRfrGiAd9R7zHr4elx88JCwpqy7tM8AzQC5KKTkpUy7ENco5vzokOYI0Cy40Km4p/yh0KWMopCNmG+ET5g67CVkEYwC3+sfyJux85s3hidt81drPFMxiytzHfsbcxO/CasAKwVvBVMECxAnJPs1Cz3rSh9MY1onbKeJg6Xnxfvf0++7/3QBrA48JsRDgFGMYZBrbG0UeZSC9IJUfzh9tISkmfym5KzQslCquJpcjaCVnKxgzVDUPMIgpcSNLHz8jMCYEJ14lIyJRHJMU+xDpC0IHuwJo/jX5fPKC68vlcuG33MzWqNF4zbfKpMpOymbIZ8VbxLXDtMQpx0vLj8/U03rX0tgF2ojbvd+b5wbxqvdC+2b8Ev5rARAInA8WFHUW+RYCGAwagxzPHjggux+EHgMfCCHOJEQqNytLJ/ggrhziHWwk5SmRKvQoxSOKHFQWzxXdGJgeayKKH1IWwg16CfYFXgO2/6H8Gvk59sjy+utp5DDcWdn12CvaituT2V3WvNFL0ErPMNFi03PWONvz3hTiGuNl4zHjgeYt60zx2PZA+2/9xv3x/Sr+DwJ+BycNDQ+FDloN9AwZD1YRlBKwEZ0QOxFAFMgY6xo5GtkXzhRAFDQXshrdG38dnR0CGgQXvRRyE3wUJxoqHo4dGhkZEW0LxQgxCnsLFwpQBU3/J/ow9vHzMvHZ7VHq5Oeb5tvlZOOW4Kjd3NsN3Jbdmt+n4e3ieuPZ49jjoeWI6HHs2u+I8grzC/Sb9an3i/pn/QcAlAG9A0kFFAabBnsHcwjiCgUNDA7FDdANhQ5YD4MSEhVTFmMV3BJjEdMSXxibGvQWJxJODrEPQBV/GJkWLBI6DkEMvQyxDQAN7Qq1B4cD4QFcAdL/p/0R+5H36fSX9BH0w/Js8rfwUOxT6fToVutN7ijwju4B6krneujX7Ijxd/Mp8gzw/e4I8LTyW/W69zP5F/k2+Xr5zfm0+wj+Lf88AMIB3QHrAeYCBgRcBQkHQAgsCqcMpQ1jDVAMZQziDRwSGhUEFOEQkQ4rDv4PRROOEy4S5A5QDbgMFQ28DOsK5wn+B5YGTgXKBPsBf/+n/Un8+Pot+q75/Pg9+GH1SfIj8JLwqPLc9I/0pfHM7tvuJfDQ8Rz0C/Wf81PyofIn9Bj2+vfz+Cz4/vc6+K35Zfsk/SL+0f7V/rX+3/9fAd4C1gLyAxsFdQZrB7YH/QezBwUJggqCC8QLxAtuDGMMKwu9CTYJ/wkBC0ALBgoZCGoG6wVxBpcFWQRyA5ECmAFoAFD/uP3n/HT8pvyX/DD7+/nM+V76c/q0+pf64fk2+b/5bvq6+pH7nPtV++36QPsI/I78N/0M/Rf9+vyK/JL8Sv1M/mf+N/7T/f79Yv5V/9T/ZP8l/3L/MwBIAHYAQwACAFYANQGWASwCLwKdARYCwwLSAqcC3AKAAtgCAwS4BMME/gMhA08DRgR7BSkFWwTdAsoBNwKsAuoCXwFbADH/4v7l/4oAYACB/6j+F/76/eX+6v9CAHIAIv41/Qb93v4hAQkBeQCJ/l3+7/4PANz/XP6E/cL9X//VAJsAc/5H/Jn7VP1j/2EAc//l/az8HvzW/PD9g/7Y/Qv98/zv/Tv/wP9v/rH8K/xb/W7/+QCuALn+ev0y/Tz+gADNAdsA1P50/aX9Yf9QAZwBDACi/ZP8yv3i/xYBLQGcAJUAdAERAqYDeQTOBEYEGgQwBUwHiwrQCisJfwboBa8HLwtcDmAOIguFBUcCKwO1B0sLPgqLBd7/Yvyq/Gf+Xv+l/sb8svlh9ob0LPRV9QT2a/XL8zvymPFU8ubzq/Sq86Xyk/IQ9I72AflR+qX5FviM91v52PxFAGQBrQBW/xsAbwEqA2sDTAP5AyEFfgb2BQgGXQVGBbgFygbtB60IdQmDCVcIDQhRCFcJRQp7CpAKdwpiC+0K5gp5CaoIAwhPCJ8I2wiNCNwGFwV7Acr/J//yACUBtgA5/vj6o/hu97P3mvc4+H/3CvcY9aHzkPJY83f0l/WW9uX2r/a49pj35ffo+K35ufuj/CT96/wH/Xj9uf2l/ib/x//A/4P/Wv4V/WH86Pz8/fz91fy2+/767Pom+6n7n/vd+3j8EP0X/Z/89/wi/noAoAG7AscCZQOmBGgHbAr0Ch8LWQpIC+ANrBHjE/ARsg5/DdQPaBTWFmgV3hAcDDQKEwzwD6EQ5QwzBvn/c/0S/1ICUwOiAFb8YfcS9P3yrvSs9tT2V/Wz8Z3vWu8N8YjyBPNs8rvxfPJd9PT1afYp9i/1DfZr+P771/0J/j/9OPx3/YL/EQJAA24DGgOKAmcCLgJ4AnEDkQQABWUEPAMJAjoB+gAXAXYBOwGwAFP/9f0V/Xf8QfwB/O/7mPtz+8f68PmK+Nv35/d0+XL7XfuQ+b72DPbD+Or9OQGSAI79//sB/QUCJgaJCM4HxgbKB8AIUAzQDWwQ9Q8/D2YOFw+FEs4UYBaBE/QPHQ1lDqER/BPiEoQORAlkBpIGiQjkCH4GqAJ//oD8Nfs7+0H6Gvmv9sr0M/Nm8vbxmPFY8frvmu8p703wx/Bo8TfxxPBF8UbyXvSy9d/2g/cI+If4M/ms+sP8Uf7P/uH+J/+E/xcAUAFAAm8CVAJlAngCXgLOAmQDswMeAzwCmwE4AXIBlAG2Ae8Azv/4/s3+mP61/qX+OP5N/Vf8N/zG++v7yfsO/ED8HvzB+yT8/vzi/bT+TP+3/+b/dAGJAsoDSQSsBQsHTwheCXEJYQo5DPQPLRJSESoMLwkvC3QSXxg1GL4StQpUCG0LhxJKFMMRfguIBlwFBAZ4BzMF0gJv/w3+yPx6+wv6nPjh9mX0ZvJt8Z7xKPJ18pfwS+7666LsrO6M8XjyVfHO79buhvBx8ij1uvU79i72bfZf99T4Rft0/Dr9I/2q/Vv+pf+XAAEB2gALAccB1QKLA3MDQwPZAuAC7wLVA1QE0gQvBCMDmwGvAF8BZQKEA/cCvQEkAEr/5P5u//z/WgD5/xn/Cv46/Xb9FP5B/3f/bP8R/2z/DgCcAE8BNgJRA38EOAWHBYgFVQZECNsK5AzqDHkMXQy5DWoP0hDQDxwO3w0NEHUSHhNAEbQNhwtyC4wNiQ7jDWAK9wXuAScAPQBGAQoBdP4v+oP1DPPy8XrzBvTq8mLvBex36t7qjuwm7T3tIOzH6y7s8O2C74nwcfEX8ivzhfSk9ib4VPmJ+t/7Of1s/oj/6ABGAvMChAOwA1MEMgSqBFUFswULBqsFkgWcBIYEPARfBF0EPAQEBOYCuAFoADAAJwBaABQAK/+5/av8ivzU/D38+fre+bH5Yfpn+qH5PPij9zb40/my+k76p/kc+sj7gP3M/pz/LQBSAW0DdgVbB9sISAvxDTgQehEAEpITXxXuFxEZIBkTGBAYPRocHO4cThuTGboXYxdKFr0UlhJ3EBsPdAxBCTcEhADR/Z78NfvN+M70SvD87MjqLOkj53zlBuSl467iueEj4Pbf0eCw4rXkl+WG5g7ng+mQ61juVvAo8n706vZT+or8pv7C/9IBzQP7BbIHwgiNCa4JjgoFC/gLVgz4DM4MLwzqCpkJEgkJCSYJQAj3BsoEGwOHAcwAFAAq/xX+nPwu+6j5Vfgh92b20/Vm9Xz0iPOe8mvyw/JR8/3zb/S89M/0ofXy9hD5XftL/dP+KADbAUoEyQdRCzUOyg/KEYkU8hjjHKsesx2ZGwsc2x5NJBgomiigJEwgWh38HS0gHyHnH4sb+RbqEFENyQnxB5IFYAJf/v74UvSh73jsYumO5kfjmeBn3vPcNds52S/XWdYM1w7ZsNrg29rcwd2u387h1uR75wTrbu5Q8qj1NPhd+tL8XwAoBOQHiwpRDDINfA5YD9EQJRK1E94URRXuFIYTbhJMER8RrxDjDw4O/wvoCe4H0AW/A9UB1f9U/m38xPp5+A72pfOc8SPwDO807kPtTuw764fqNeqN6mDrmuyt7Yzuw+9/8f/zsPZi+dn7MP7VAJQEuAhFDS8RVhSHF4UaXR73IHEjgSQVJjwopSrGLAstDC3KK4orYyqLKaInoCVHI2og4Bw2F5gRoQv8B/YE1gED/W32sO/O6dvlhuI63+LbMdgv1YPSTtBNzvPM/MwCziDQpdEC0zHUatYH2XjcPOBC5HzoFO1E8fH0JPhc+9D/igQCCqENlRDrEX8TVRV6F+kZZhv0HDcd9BzmG+Aa7hkPGU8YQxeBFbkScw8XDBEJrwYZBL4BEf80/CP56/X/8vDvnO1s68HpWegG55jlpeNj4sfhMOKw41rlFedl6KzpAus97WzwSvSW+O38gwCAA9wG/gqmEHEW+RsXIG0jaSbfKWgtTzBbMTox2DABMvM04zacNxw0KjAPLMgpDSijJVwizhwDF0oQNAr/A2r+f/hl8wvu5uiH4zzeedlh1FnQQczuyZDIyci9yAfI78ZUxqrHi8oaz53TB9hN22feNuH05Jfpfu8L9vj7ygBJBH0HtwrjDlAT/Rc2G2Qd9R1rHsEe1R8JIX8haSHxH1UeHhw5GgsYGRZYE6IQPg0sCpYG9AKZ/3r86fnk9iv0wfB47rfr+OlJ5xLlu+JW4Rfh3eBu4SfhyuEq4t/jnuXJ59TpU+xU72LzmPfZ+3r/QwJFBeIIQQ5aFAEbEyA/JN4mIClfK3YtJS90MDoy3TRzN6c4BzcyM78utivEKrgqUCpBJ3MiVhoCEm8JigMQAB3+PvzM9lvvDuUk3W7XJNUE1MjS7dD1zdvKfsdGxVrEFcZgycXNPdHf04XVrddz2oLeM+Ov6IvugPQy+iz+bQHVA4cHnwuxEDgVvxhJG7Ac3R0eHjYeEh5dHhYfhh8EH0IdbRp0F5QUNRILEIoNHAsKCDwFvAFk/sv6f/cU9dPyLPGy7pHs7enw5/HlIuQe443i0uLk4k7jheMR5EPlzubS6PvqZO1r8Hzz8fY2+qj9lAG0BTwKdQ7jEsEW+xoXH8gifiauKbAtBDHiMyU0PDLAL2sumTBpM1s2IzW/MQYsRSZ/ISQdXhrVFjcUsQ/1CXUBuvjC8E/r8OdN5bPhKd1G2FbTUs/fyhHI3MXExiPIaspiy+HLasy5ze7QeNRq2VreKuRw6Q7uvPHv9Jj4bf0BAykJVg6REkkVcRcmGY8abhwBHgMgKCG+Ib8gyR6THJ4aMhnpF1QWCBTmEHkNqAlQBicD+v8p/Q36g/d99AjyV+8V7fXq/+hU52Hl9OO54ofi0OJ14/zjOuS/5KTlaOf76YPsXe8N8mr15PjV/I4AugMVB58KIg+8E7kYNR22IcglJCnjK+QtFTAVMig0LTWYNP0yFTFoMCQwODAcL0EsOignIyoeoRhHE7ENiQjVA6n+IflK8n/r2eRv3wnbJdfe08jQWc7Ey0PJ3sZbxSnFwsaDyZ3Mm8990n/VANnw3CLh2+Xi6oTwD/a1+4sA9wT8CJ8MJxAlE40WtBkcHasfDyEnIfMfUB62HMwbNBvuGhYaVhhXFVcR9gznCJMFDgMJARL/v/zg+Y321PJd75zs9+pI6v3ppumt6FTnl+WH5EHk0+Tx5UXnw+gc6svrTu0f79DwGfOp9d34QfzF/24DKQfuCj4OahH/E8gWGxpMHvwi3ydnLFswDTMtNCQzozB0LXEr5CsnLiExVzIxMQgtACfkHxMZ3RNmEHsOKAwsCG0B/vgn8EToP+Lv3dvafdhs1v3Tq9BSzMrHkcTdw0vFN8h0y9PO0dGo1ETXydnh3Bjh0uZ87RD0sPlZ/lECKAYOCgQOthF6FfcYHByLHhAgqiBVIGYf6B1oHN8adBkBGI0WrxToEU0O9wmrBcsBnP5C/FL6SvjE9aPyO+/h65npMejf5/7nXuhc6JTnguYo5djkQOXU5rbo6ur27Onu6fC18oX0Ufax+Ij7Av+RAkIGuQkTDUAQUBP7FVAYBxteHq0iLidgK6UulzHDM8Y0qTMLMMsr2Sj+KDIrDi48L90t0inyI9UcYRVZDrsIJAW4AkEAw/tZ9RntK+UB3o7YddRy0dTPic59zUjLGcnzxjTG/sYZyVXM0s8h1IHYYN0I4qDm7epZ7/zz8fhG/p0D/QgnDhATARfcGa0b2RyvHZEefR88IGEgkh/dHVAbJRj6FA4SjA8dDVYK+gZAA1n/wvt8+H71lPLN70Tt7+oL6Zbn6+ag5sDmy+a35mfm/eXT5VvmiudU6Z/rs+2v723xXPNf9ZT3EvrK/Mr/+gIqBvkIegvPDYwQBhTUFzQb9h1JIAIjVCYJKs4t4DA5M5Y0XzTaMaotcCm7JqkmbyiRKjIreClXJScfzhfEDxkImQHy/I75y/Ye8wjun+e+4CzaLtRRz7LL3skfyTPJL8kMycfIDslOyovMhs8v06PX5dzK4tXomO6082b4DP3NAWsG3wpdDxMUqxjpHNkfiyETIiki8SF6IWkgUR77G0sZ2BZMFMsR7w5+C4cH5wIl/nH5rfWf8lHwJe7l623pzua25GLjF+NM4/bjfuTm5BTlGeWR5armgejY6nrtLPDH8jr1lvfL+R/8vf7VATMFhgihC4oOdBEaFO4WjRkNHIEeZyGMJAMoXyunLtExijQ1Nm41MTLALLgnUCTHI+ckuSbtJ5onMyUmIBwZjRAbCJYAu/qj9SDxyOzH6AHlHOG/3G3XydGIzIPIx8VUxDDElMVoyOHLKc/X0QPUWdaj2QXedeNP6aPv7vUi/OEB6wZWCxgP5hKxFoUarB0DIHUhJyJyIlQivSFVIOodnRrqFhQTdw9FDGIJqAaHA93/V/t99q7xxe3M6pHoveYC5cLj2OKu4vfiwON75HvleOZ651PoK+mG6oHsee+h8t71ffj7+mL9yv8UAvID5AUCCM0Kzg3bEGQTiBUoF/0Y9BodHUsfxCGMJFsnSCqlLMku8S9EMK8ueCsGJ0cjMiHsIKQhLCIjIs8gZR4tGn0USQ3DBYL+Hfii8rftdem65YriaN8c3CTY39ORz97Lx8h+xovFL8acyO7L+s/k09TXu9va3yjkbegK7frxOfel/AUCVQdvDH0RHRY8GncdhB+sINcgqyD6H00fQB79HOkaOxjFFO4QEw12CS8GvAIH/9X6r/aT8g7v++uX6aDnTOYy5Xvk2+Ox4zDkF+Vs5oDnjegq6S7qk+vI7XXwUfNA9vb40ftT/sUAuQKVBDQGMAhfCrIMJw+XEVAUyxZWGVgbJR2bHiEgAyL7I0MmYCjWKi0tDS+SL94tUSrWJVQiCyAeH1Aedh1KHL0aoxhWFc0Q4QpuBKn90/YC8FjpneMd3yjc8NnX11HVT9Kezw7NDcsZyTzIYsgwyhXNztAS1bvZGt/E5LXqDfAL9X/59/1mAhIHygthEPoUXBlhHZ4grCKqI4Mj1CJ8IeUfwR0nGx4YihTXEM0MAgk/BcgBCf4E+qf1WvFc7e/pOefm5Brjo+HA4E3geOA04W/iBuSy5WnnEenK6sjsIO/m8cr0oPdJ+sf8Lv+ZAQcEcwbOCBYLaw3IDy4SdhTEFrQYkhrdGxYdzB3CHt8fvCEHJHUmDCkbK0EtCC75LU4rVycXIrYdYho8GP8W1hVZFX0UyBN8EQwOmAhBAiP7sfNZ7BflEt9m2qrXKNZV1XLUSNP70XnQ4c4hzfrLwcvzzGfPBNNr15DcouJK6UPwxfZ//EsBbAU3Ce8MeBADFIkXThsKH3IiyiQCJtglwCTzIlMgSx1FGRgVZhAfDMgH6QNLALT8UPlV9Z3xSe196aHlq+Io4Hvedt3a3A/dn9003+7gGuMO5S7nKulq66ntM/AQ8xH2M/kw/Ob+egEKBKMGVgnMCygONBA0EhwUIBZcGLIaFR0nH84g9yHVIsQj/iRyJhcoGSo2LFcudC8gL2MsOyh3IxwfkxtgGKoVKxOqEW0QXg8+De0JQwVF/3b4YfAh6NrfINn107zQvs53zc/Mh8wZzY3NNM4TzkLOe86vz5nRetSM2NfdweSH7MP0avyMA68JPQ/SE64XixrsHAgfDSEYI7Ik6CVYJlAmlyUaJKEh5R0YGV8TSA0JB/AAUvtH9tzx9+1e6hTnFeSC4VLfg90B3Jvan9ke2UHZQdoI3IjepOEy5SLpFe0H8dj0lPjx++7+SAEfA+4E9QZlCRQM0w5zEQUUnxYZGUcbCh2QHpYfUiCVIHwgcSDPIA0iuiPpJfUnQCo1LJ0thi09KzYn4iGrHO0XBhTMEJkOlw1cDZoN7QwsC88HOQNI/Q/2tO3a5JTck9XE0GrNOcz2yzTN7M7y0J/Sg9MM1B/UldQW1XnWndhS3JzhseiU8Pn4/gBgCAsPXRR9GAQbjxwtHZUdrR3NHcMd5h0MHgsepB1dHAsabxbaEQcMxwUU/8D47/IK7gvqxuZu5LXi3uF24Zfh0OH44QziEeIe4oniuuOo5aPoFuwg8EH0nfjb/LcAGgS0BtcIWwrKC8gM8w3yDjwQlhEPE4oU2RX9FgMY+hiaGf8Z5BncGREaDRsKHD8dGx4KH0EgZCGnIWsgrR0PGpoWWBO9EBYOCQx7Cs8JjgkoCTYIbwYBBLkAhPwW987wNeo65DzfdduX2NTWJ9ar1g/YvtlH26Dc6N1o3wbhtuJr5HPmQun57Kzxv/Yo/DcBWQYbC2MPyhIWFVkW2xbxFp0WDBb7FN4ThhItEaMPvQ1nC7EIoAVEArX+B/tK99Pzu/A07insqOqh6TPpe+lS6qXr7uxR7n7v8PB98ln0Y/aU+PP6WP3T/ywCkQS3BuoIsgolDB0Npg3rDfwNAQ7cDbENZA0aDeMMzQzRDMkMkQw6DMILgwuHC+QLPgyWDLoM1QwMDTMNLA2gDMALjwp8CVIIUwc1BksFnQQkBPkDowNIA7gC9gHcAFv/Rv3Z+kX4pfU88+7wAu9u7YLsEuwr7JDsDO3f7cDuCPBW8bHy3PMO9Un2tvdH+fX64/zE/tUAuAKCBA0GaQdwCEYJxQkFCgQKpAkgCUQIYwdWBkUFFwT1ArsBlQBh/yj+BP3j++76+/k2+W747/eH92P3ZveZ9//3lPg0+fP5xPqU+4z8dP1z/lz/OAD7ALoBZQIwA+EDbgTlBDEFgQW3Bd0F2gXGBbgFpwWWBXsFPgX4BJ4ENwTeA5ADVQM6Ax0DCQPjAskCpwKNAoUCWwIuAtUBewEeAdsAmQByADwADgDn/7T/k/9x/3D/Zv9S/xD/tv5H/uz9m/1L/fz8t/yF/GX8Yfxi/HH8mvzP/Bb9fP3b/U7+uP4b/4z/7P9MAKMA+wBhAcIBHQJpApwCzwIDAx4DNgMbA/ICrQJYAvsBjAEeAZoANQC2/1X/6f6l/mD+Of4J/tH9nv1S/Sn91vy6/Ij8hvyS/Mn8+/xM/aX9D/6q/if/vv8dAIAAzgAWAT0BVQFQAVIBVgFYAWIBYwFjAWUBaQFjAWIBPgEhAesAwACHAEcA/P+o/2r/M/8X//7+5f7i/uP++v4X/yz/Rf9S/2D/ef+L/6f/zv/l/wYAFQAqADsAWQBxAIgAnQCwAL0AyADRAMoAygDDALsAtwC2AK0AsQCkAKwApwCjAJ4AnACvAMAA1ADbANAAywDAAK4AsgCdAJoAhgB4AGcAYwBWAEwAMgAYAPj/0v+v/3b/V/8a//z+w/6Y/mz+Tf5A/kn+UP5b/m3+ef6c/qv+zv7o/gf/K/9U/4D/vP/z/ywAZgCdAOAAHgFKAXIBiAGTAZoBgAFlATQBAQHWAKIAgQBXAC4ABgDl/9X/vf+w/5j/fP9h/0f/Kf8a//n+Av/t/uv+/P74/iz/TP+M/7L/5P/0/yEAMQBYAG0AdACNAIEApgCmANAA2wD1AAQBGgEyATcBRQE0ATMBJAESAfoA2QDDAKgArgCYAJwAkwCFAIUAcQB6AFYAWAAqACoAAADz/9j/s/+t/3z/cf81/xv/8v7l/r3+sv5z/lv+Mf4f/iT+C/4j/gT+IP4j/kr+Wv53/o3+t/7X/hT/Sf97/8f/8P9FAGEAqQDJAPkAJAFHAW4BgQGOAZ4BmQGWAZYBdgF+AUsBRgEAAeYAqQBtAEoAAQD2/7b/t/+N/4//fv98/2z/YP9C/yb/KP8L/zD/Dv8r/xv/RP92/7L/AAAvAH8AqwDtAAwBKgEbARUB8gDpAMwAugCxAJMAtQCkAMQAwwDJANwA2ADsANcAzwCsAIsAZQA6ACUACwD9/+7/5f/U/9D/vf/C/63/pP+a/4H/g/9z/37/aP9u/1X/Uv88/zX/L/8a/yb/Af/9/tv+3P7K/tn+2P7l/un++v4S/yL/Rv9L/4L/ff/A/87/AwAqAE4AfQCOALsAwQDbAOEA8gDpAPsA3wDrAM4A2wDGAMAAwwClALQAgwB5AE0AMgAPAPf/yP/D/4X/nP96/4z/l/91/6n/a/+z/5D/rP+f/4n/nv+U/67/wv/Q/+//EwAvAHAAbwCiAJgAqwC6AKcAtQCLAIcAeABjAHQAVABgAFQAWwBrAFcAYwBEAD0ALQAlABAA///t//D/3v/r/9z/1f/W/8j/5f/L/+n/zP/N/8f/v//H/7T/v/+s/7T/sP+0/6//qf+l/5z/m/+V/6D/mP+h/6b/qv+2/7L/tv+1/8D/yf/Z/+b/8P/5/wUAFgAiADgARgBPAF4AWwBnAF4AWgBXAEIARQAtADIAMAAuAEAALwA0ACkAEgAdAAIADgD1/+H/2v+6/8X/sf+9/7P/t//I/9D/4f/v//D//v/5/wQACAAAAA8ADQAcAB4AJgAiACQAJwAxACkANwAsADAAJgAoACIADwAdAAMAFQAFAAgA///x/+3/6//a/9r/w//C/8P/v//T/7v/1//B/+D/4f/s//v/9f8OAAkAGgAaAB8AGAAkAB4AKQAmACYAJQAcAB8AEwAaABEAGgANABUADwAMABcACwAXAAYACQAEAAEAAAD7//7/9P/0/+//7f/t//b/+f/5//X/8P/y/+z/+P/1//H/8//q//X/9f8BAAAA/f8CAAYADQANAA8ABQAHAAcACQAFAP//AgADAAcAGQARABYAEgAVAB0AHAAmABcAGQASAA0ACwAFAPz/+f/y//P/6f/p/+X/4//m/9v/4P/U/9n/0//Z/9P/1P/I/8P/wv+8/8b/vP/C/7v/xP/J/9T/0//b/+X/5v/8////CgASABcAIQAkAC4ANQA4AD4APwBDAEsASgBNAEcARABBAEIAPQA3ADwALgAvACkAIwAeAB8AGwAYABUADAAOAAAABwD///b/8f/l/+L/3v/b/9L/zf/G/8b/xv/D/8f/xP/J/9L/1//c/9//4//l/+//9/8AAP7/AQAFAAcAFgAcABwAIgAlACgAMwA3ADwAPgBCAEMARABBAEIAQQA/AD4ANgArACEAGAARAAwA///1/+L/2f/V/9D/yv/C/7r/tP+1/7X/tP+w/7D/rf+t/7L/sP+v/7P/t/+9/8f/yv/T/9v/5//4/wEADQAUACQAKgA2AEEARABLAE8AUABNAFIATABNAEYAQwA7ADYAMwAoACUAHgAaABEACwADAP//+//7//X/8f/t/+j/6//o/+f/4v/a/9f/2P/R/9D/xv+//8D/wP/H/8P/yP/M/9T/4v/w//b//v8GAAwAGgAfACQAIwAlACQAJwAjAB0AHAAYABoAGQAWABEAFQAXACEAIgAkACkAJgAwADQAMwA3ADIAKgAoACEAHgAWAA8ACQABAAAA+v/y/+z/6f/j/+H/2f/P/8n/xP/F/8L/wf+6/7n/uP+9/8n/yv/Q/9L/1P/d/+f/7P/0//j/AAAKABAAGwAiACoANQA5ADsAQgA/AEUAQwBCAD0ANgAvACUAIgAbABYADQAGAAIAAQABAP7/+P/2//P/9P/y/+3/4//f/9H/yv/F/7X/rv+h/5r/mv+c/5//pP+o/7X/xf/X/+b/9/8IABoALgA8AEUATQBaAF8AZgBpAGgAZABlAGUAXABZAEwAQAA7ADAAJwAaAAwAAgD8//T/6v/e/9f/1//X/9v/2f/X/9n/2//h/+X/5v/n/+L/4//k/+b/5f/i/+D/2//h/+P/5//v//f//P8EAAcADwAXABoAIAAeABwAGwAZABIAEwAJAAcA///7//n/+v8AAAAAAgD+/wEAAgAIAAcABQACAP//AAABAAIA/f/9//n//P8EAAQACAAHAAUACQAHAAQAAQD7//T/9P/s/+r/5//l/+L/4f/g/93/2//b/9//3//m/+P/4//o/+7/9/8AAAYACQAWABkAHwAkACIAJAAgAB0AGgAWABcAGAAXABcAGgATABUAEgARABQAEAAQAAkABQACAAMAAAAEAAMAAAAAAP7////9//n/8v/q/+H/3f/Y/9X/2P/X/9n/2//b/+D/6f/u//j/AAACABAAGAAfACcALQAyADMANwA6ADwANwAzACgAJQAnACMAIgAbABkAHQAeAB8AGgAQAAQA/f/t/+D/1//L/8P/vv+5/7L/tv+0/8D/zP/T/9n/1//c/+L/7//3//n/9v/7//z/BgARABQAEwAOAAcABQAFAAQABAAAAAYACAARABQAHwApADcASABKAFIAVwBeAGUAagBiAFwASQAyAB4A///j/7n/iv9e/zf/H/8R/wr/Ev8k/0n/ev+w/+j/GgBEAGoAhgCTAJQAiwBxAFsARAAmAA8A/P/q/+X/5//h/+f/5P/o/+7/7v/2//P/+P8AAAwAIQA2AEYAVABgAGoAegB4AHIAZwBTAEYAMwAiAA0AAgD1/+r/6P/f/+b/5//n/+j/5f/j/+H/4P/e/+D/3v/h/9v/1f/X/8v/zf/G/7z/uf+y/7f/vv/I/9L/2v/g//D/AAARACEAKgArACsAKwApADAAMQAyADAAMAA0AEQASwBQAE8AQAA6ACkAIAAWAAcA/f/m/9X/yf/J/9H/3v/o//T/AgAIABoAHQAiACAAFgACAOz/3P/K/8H/tf+k/5T/if+G/5D/mv+r/7P/uv/F/9D/3//t//f/AQARABsAMAA2AD8AQwBHAE0ATQBKAEAANgAsADAALQAnABoAEAANABcAIwAnACoAJwAtAC4ALgAnAB0ADwAJAAAA9P/s/9f/zP/A/7v/vP+9/8D/w//K/9b/5f/t//j/+v/+/wMAAQD///7/+//6//j/8P/k/9z/3v/o//f/+v/9//f//P8NACIANQBBAEYARgBTAF0AbQBwAGYAVwA6AC0AHwAQAAMA7//c/9X/zf/O/9T/2f/n//H/+f/8/wAABQALAA8ACgAHAP7/+//6//n/9v/z/+r/3//a/9D/zv/G/8T/xf/G/8//1//f/+///v8HABcAGAAeACIAHwAgABMACgD+//P/7v/o/+b/5P/n/+j/7P/0//n/AQAJAA8AEwAcACQAMAA3ADUAMQAjACMAHwAYABAA///t/+H/1//Q/8//x//I/8j/y//b/+D/8f/0//b/+v/7/wIABAAMAAoACAALAAkACQAKAAYABwAFAAgADAAHAAkABAAEAAkADQANABEAEwAaACcAJAAnAB4AGAAaABYAFQANAAUAAwADAAQABgAEAAcACgARABYAFgAcABoAGgASAAgABAD8/wEAAAD6//n/6v/i/9//3//i/9//2P/N/8r/y//c/+P/6f/q/+X/8v/9/wwAFAATAAwABwADAAUABgAHAAMA/f/6//T/+f/7//7////8/wMACQAPABYAEwAaACIALAA3ADEALgApACIAHQAYAA4ABQD9//H/7P/q/+z/6v/g/9b/y//J/87/zf/R/9H/0P/U/9T/4f/s/wAADQANABQAEAAWABUACwACAPr/+v////7/AQACAAAAAAD//wYAEAAaACEAKAAwAEEATwBOAEYAMgAhABUACgD4/9X/q/9+/2P/Zv9z/5L/q//N//3/LABbAHQAfwCFAHsAawBQACoAGAD+/+T/zv+7/7//yf/g//H/AwAOAA8ABgD2/+z/3//b/9f/3//x/wAADAAKAA0AEAAZABkADQAAAPP/5P/h/9f/2f/k/+j//f8PAC0ATgBcAF0ATQA4AC4AHgAXABAABgACAP///////wMAAAAAAAEABQAIAAUA/f/0/+7/6v/p/+n/8P/6/wIAAwAFAPv/+P/t/9//2v/L/9D/0v/R/9f/1v/a/9//5P/v//j/AAAHAAcADQASABUAFwAXAB0AIwApACcAJAAaABIADgAIAAMAAAD5//L/8v/5////BgAHAAIAAAD6//7/9f/y//H/7P/y//L/8//4//z//f/9//L/8v/y//r//f/4//f/9P/+/wcAEgAZAB8AKAAtAC4AIAALAPH/2f/Q/83/1v/c/+P/5f/p//n///8DAAYAAwAHAAgACQAJAAYACgALAA0AFgAgAC8ANwA4ADMAIwAOAPH/2v/S/9v/7v/6////AwADAAAAAQD+/wUAEQAgAC8AQQBWAG4AgQCTAKUAngCMAFgAIgDn/5n/PP/I/mv+RP5U/ov+0v4m/4r/+v9nAL8ABAEtAT0BLgEEAcgAhQA6APT/vv+g/6H/qf/E/+j/DwA1AEQAPQAyACoAJAAhABQAGQAdACYAMQAqACsAJQAfABQAAADq/8n/nf92/2D/Wf9j/3L/iP+g/8j/6v8GAB8ALQA0AC4AIwAhACMAKQAuACYAIgAbABYADAADAAEACAAGAAAA8f/c/9//4f/y//3/CAAUABgAGAAZABUAEAAMAAAA+//y//H/7P/v//X//f8DAAMACAAMABEAEAALAAIAAgAGAA8AFgARABAABgACAAEAAAD///f/7//m/+D/2v/b/9n/3f/k/+3/8//z//v/AAACAAcAAQD7//7/AAADAAIABQADAAcACgAMAA8ADAAKAAwAEQAYACYAJAAjACQAIQAgACMAKAAqACsAIwAWAAYA/P/4//7/BAANAAkA/f/z//D/9P/3//r/9v/w/+z/6v/p/+7/9f/3//f/9P/y//D/7f/t/+3/6//p/+b/4f/i/+P/6//0//z/BAAIAAcABgAGAAUADAAJAAkACQAGAAcAAwAAAAkAFwAbABsAEgAOABMAGQAUAAoAAAD9//r/+//8//3/8//u/+//8v/2//P/8f/u//L/9P/o/+H/6P/u//r/+v/x/+n/5//v//3/AQAAAP//9v/8/wMACgAMABAAEwANAAcA///5//n/AAABAP3/7//o/+v/9/8AAAEAAgABAAcACgAIAA4AFAATABIACAAEAAcADAAZAB8AIgAdAA8ABgAGAAoACwAIAAIAAAD3/+b/3f/f/+r/AAAYACEAIgAcAA8ADwATABUAHAAVABIABwD0/+n/7v/8/wUADwAMAAAA9f/w/+7/AAAOABcAHQAdABkACAD8//z/EAAWABMACQD5/+z/6v/r//D/BAAKAAsABQABAAEA/v/5//v/+v/2//z/+f/7//n/7v/o/+X/8P/9//7/9f/j/8v/xf/S/9r/1//S/8r/wf+5/7b/y//o/wMABQD0/9j/0//f//X/FQAvADUAHgAHAPj/+/8JABMAHwArAB0AAADg/9f/+v8hAC0AKwAXAPv/+P/8/wkAIgA2ADoAMQAiABMAEAAUACUAPABEAEMANwAmABIACQANAA0ADgANAAwACAAGAAEACwAqAD4ANQAcAPb/6P/d/9n/3P/T/9b/2v/k//D/+/8AAAsACgAZACQAHwAWAAAA4v/H/8r/3v/7/wsA+//f/73/mv+b/67/z//m/+X/2P/c/+T/9P/5/wEADwAKAAoA+f/0/wAADgAOABUACgAQAAUA+f8AAAMAAADq/+j/6//8/wUADgAaACcAMAAwACkAQgBmAH4AkACaAKYAxQDfAOIA3gC4AJ0AhgCBAIIAagA7ABUABwAnAFsAggB6AC4A5f/A/8r/7P/z/9r/nv9E//3+tP6M/oH+ff52/mD+Mf4K/vX9CP4X/hv++f22/bP9uf33/VH+qP4D/1T/Z/9w/3X/bv96/6P/9P85AIcAnwC9APoAOgGVAQsCdALdAjkDYwOJA7AD0QPdA9MDqgNMA8oCPgLiAf0BXALQAisDMQP9AtoC6gJIA74D5wOdA/QCCALsAPH/Nv/T/r3+tv58/gX+cv3d/Fn89fuk+5P71/sa/Kv7yPlK9mDywe/37t/vXPGP8rDzF/U09/v5v/wM/58A8AFoA9YE4wUKBr4FlAUIBiYHbQhqCQEKfgrjCk0LiAtjC+4KdgoSCroJVQnCCFgI1wctB1EG/wRgA9oBxgBkAFIAz/+x/lj9fvxu/Mj8Pf2t/Rv+o/4p/5z/vf97//3+bP4Y/gj+sv3Y/NP79PoN+sr43PaA9DTyEvBL7rXsnOtJ6+DrMe0B7/fwsPJm9CT2Hvg2+gb8M/2X/XX9Uv1C/XX9/P32/qQA+AKvBbgIYAwwESUXjx2ZI5UonCzcL64yMzW5Npo2ljTVMKIrByTPGH0J4vfd5qrYPc7zxoDC/8D8wtLIL9LG3fbpY/XU/1wJgxG7FtEXGxUsEMUKiQVgAAH7pfWI8EPs/OjO5pXlZeVv5r7oAew673jxi/KT83H1jPhf/AoA+AJUBTQHnAh0CUQJHwgZBrADRAEU/4L90PyO/T0ALgVLDC0VSB+BKiE2e0GmSzFTkVbUU+5JmThXIvEJZ/K+3XnMLr9Rtv+xELJEttq9isha1bzjL/JP/3UJow9fEr8SQRJWEdwPZg39CeAFWQGv/FL4mfQ38gvxr/Df8OnwzPDb8ILxQvPO9XP4jvrr+878iv0t/qb+1/7m/sb+HP72/FX7nPnr97z2XfZs93H6TP/BBXwNBRYWH30oFzLWO/lE00ySUmJVb1R4Ts5BOy4mFT/67eC9y9S7nrAMqrinyKkbsJO6b8i02Fvq0/tMCzEX/R2kH0QdcRjCEtsM7wYdAYv7YfYe8vLuJe3x7C/uY/Al85X1avdp+PL4SPnm+Qj7WvzJ/Sb/TgDfAP0AWwAw/0X9uPqy94r0vvGe77Tun+8n88z5AQM6DpMaPSf2MyZAOUtwVOta6F0gXXtXoEz+Ok8jewca6ybSor7jsVerDqpRra60Eb8AzLvZzefy9F0B7gvhEqwVvhMTD1sJTgSEAMH9Xfsk+UX2ePO28GPu3OwX7Obsv+5e8Q70Qvbt99T5QPxo/w4DoQZkCcwKpgqiCDUFowBU++H1uPBO7O/oJOdv52vqdPCL+REFXxK4ILoudDuYRU9NDFN9V01aZVqdVWFKLzgCIGUFXusa1efDpLhvs9CzlLjwv2TI1dFu3Fno6vRwAHgJSg5BDwoNeQnIBWIClf9r/bD7DvrQ9170l/D87Pbqcup865DtBfAK8zH20flW/ZoAJAMLBUMGmwaSBdwCDP+A+h/2mPFT7VXpo+bo5SLnbupu73D2qf8AC6kX1yQQMRo8vkVtTtVV61oZXFNYn0/jQfEv/Bn+AXrqudbryHbB0r8WwhbH4M361fjeG+jE8AP4R/3kAOAB/ACd/rn7BPqW+eX6gPyJ/V/9zvtl+Xz2SvNA8GXtaevB6mXrt+0t8Zn1l/rw/08FuQm0DG0Nngs6CC0D1PyR9avtPeYe4NPb2Nla2pfdEuRl7X75QQe/FQkkGDEyPdFHyVCKVxtbdFtwWL1Rt0bFNo8i0QuB9UvivtO7yvjGPscEy+3Qg9gp4b3pBPJG+Vn/pQNwBUcE9wB4/JD44/W19Pr0vfXG9g/3NfYt9BHxvu0V64Xpj+m46sjsn+8V82j3MPxoAZ4G9ApsDqIPdQ7hCoAEoPxZ8wzqc+FM2rbVHdQB1tbbZOVm8hUC2xKjI9sy7z+VSl1SMVc0WWhY5FQyTr5D5zQrImgNr/gC5yjaWNJOz+TPRtPs2MLfH+fo7Sv0JPod/80CwgPcAez92/iG9KHxmPCM8ZPz7vWY91z3MvUi8X/sgOgf5tTlI+f46d7twvI2+P39ggNWCAYMFA7fDdsKEgXR/G3zR+p64p/c5thT14rYxdxF5JTu1PpRCEwWRCRtMeM88EVRTGtQNlNoVLpTNU/dRbU3yyWBEo3/6e6j4a7YRNT40wTXH9w74tXoz+8Y9+39HgM6BdkDp/+/+bjzn+5766Xqrev57XvwY/IA8xzyM/A57hXtsOyF7E3sUexJ7Yvv8/Io99v70gAHBcIHMgisBYYAfvnC8bbqJeXx4Cre8dwX3uvhkOil8fz8Swr8GPQn7DU2QkFMOFTzWX9dIl74WlxSYESBMcsbBgbN8Yzhh9aV0R/SptZl3QXlruwb9O765gBXBUcHCQaDAdX6TvNa7Mfmg+P14snk4ue36kbsuOy57MDsa+1r7rLvTvHS8pP0ZPYw+Az6+Psf/lUAxQFiAan+CPqO9O/u3+lI5Z7hRN+n3sff5+Ik6MrvE/qZBtEUaSNiMcU9c0jrUExXnFqXWtJWA08EQ7syZx/VCjT4memr4Djdkd5Z49vpjvBe9oH6Qf0O/wkASQD//t37pPYY8Drph+Pk393eQ+CK47vnx+vd7knwg/AW8NDvPPCM8Xrz9PWD+NP6+fz2/tYAcQJLA+wC4gDb/Mf2Fe+25tjerdjo1A3UO9Zv27fjju6I+8sJGBjgJT0yHT0FRotMkVD5UU9Rpk6ASUBBMTUPJkoVzATb9mPslObq5ALncOvA8ND1UPl1+2v8BP2Z/Zj9L/wV+Ub08+7M6bPlPuOy4ifk0+bU6frrw+xM7JbrjOvx7Ijv1vI29pn54fzm/2cCEgRYBSkGSwYXBaMBrfu/87vq7+Fq2jLVzNKH04XXdd4K6IDzSwC+DTgbBSgGM7c7mkEVRYtGQEbbRH9COT+aOqEzkykZHSQPnQHT9Z3soObt457ktOdS7CHxivVd+a38fP9NAXcBev9Y+8f1tu/w6TLl9+G74Ifh0OOr5ozpDOxz7pbwafLF8/30e/Zw+BT7Ff5HAVoE+gapCAkJQQcAA278W/QN7Jnka9722b3XANgo27bgSehg8Zj7kwZvEWwbjyN9KaktizCOMxg3aDssQHlEmkcBSLhETTwbL4YeqAwZ/FTuLeQO3tLb99zf4Fbmf+xw8r33NPyQ/00BlQBI/dD3bPFg60nm1uIy4Zvhr+On5uPpwewx713xW/OW9S/48vrG/VwA1QKzBLgFmgVABDUCNf8p+931tu+s6a7kZuH134XgAuMu5+HsVfPl+TgAAwagC0wR5BZDHDUhFiahK+QxsTjZPtBD9UbLR61FJD8NNL8kXRMMArTyxeaR3q3a89rH3vPktOuY8Rj2V/nb+1P9A/2Y+jr2K/Ew7OLnaOQm4gHiPeR/6Hvtt/FF9DH1BPWK9ED0ffSC9ZH3lPr0/ecAeAKSAnUBmv9B/XT6I/eC8yzwa+2O65nqi+q060DuCPKT9gL7Lv8VA1oHUwwFEpEYoB+DJwcwAznQQW9JFE/tUWdR4kxPQzk0dSABChL0h+FJ1BfNFMxG0GnYvuIM7eP1Dfyt/x8B8AAG/+D60PR37V7muOAF3cXbNt1a4WbnzO3z8rz1fvYR9pT17vVO94v5hfzB/7wCyAT8BH4DsQCt/Qr7jfj99d3yru8J7V7r6Oqc64PtrPD+9P/5B//GA2YIUA0xEzwacyKGKxI1aj7/RuJNXlIXVDBSQUxCQRkx0hzJBvvxvOCu1D7Oe82o0VHZi+JE6/nxY/aW+GH5SfkF+F31J/HU62LmpeFt3kfdkd6E4gzoBu7I8pv1Wvay9WT0YfOI8+T0+/fU+9H/BAPLBDcFrQTAA34CyQCl/sH7PfhJ9MPvt+uJ6E3nSeia6/bwn/d8/6cHbxCUGfIinCwdNh0/WkdrTuFTLldBVzNTHkrtO1kp1hOo/Urp39j4zTLJHsrdz3zYCeIE6zvygPfQ+uT7+PoL+Gbzqu0W59vgw9se2Y7ZEd0j41rqdPED93D6cvt5+ov4nfbR9ej2Xfn3/GcA+wJ+BGwEVQMuAWv+fPvK+Gf2P/T98WTv3Owb68fqeOwn8Lf1+vx9BTQPCxnFIs8rOTSqPP9EU03hVIBaHF0uWzJTqUT4Lz4Xpf2s5jfVx8qax1jKW9GP2vzjQewE8lr1c/YT9pb0ufF57ebn9+ED3TnaWNqu3Wvj8eqP8qz46PuA+yH4dfMw79TsUO0f8Gz10PsmAmwHbgpeC1oK+gfKBNEAH/yt9srwHOuG5ojjkOIb5BDomO7y9h8AWgkrEo4aCSOrK+o0rj5iSKFRN1lGXpdfH1y0UmlD1y5nFy0Aweu73LHTq9AT0xfZ+eB+6KftGfCj74btgOrS5hrjHd992/PYvteK2Fnba+Bz567vr/ea/aUA9P+T/Gb34/HA7dXrGu098Wj3Vv53BJYIgQo3CjgINgUgAV78aPcz8nntUOnH5ejj7OOK5vjrk/P7/B0HphEyHKwmOTGSO1RFK06jVThbpl4kXshYnE0DPa8o8RIv/lbssN+r2MbXm9vZ4XLoJu0n72LuZutY5//i2t6P20TZINgk2BHZGNt53mrj1emo8MD29/pD/Mr68fbk8TDtJOr96Wzt/vN8/FYFfAwZEbwSQRFGDUUHOQAB+XXy8OxZ6PvktOL04SjjkOYy7NXz+/zgBkwR2RtDJpowXTptQ+FLbFPHWQVe5V4/Wy5Sl0NyMHAaawTo8Nvhtthw1VnX19xn483o9us07HDqSedK4znfg9vO2FzXN9cj2EDan92S4s7ope/S9S76Dfx5++T4afX78YDvPu9p8Tf2sPx/AzsJ+ww+Di0N/gkjBVT/+vit8u/s4ufi41jhXuBo4b3kKeqB8Uz62gNKDsoYzCPULg06ckVDUFNaUmJGZ/FnzmIAV2RFOS9wF7UAS+0M30zX0tVl2ejfcuZe65rtH+1w6oXm6eGV3Rjaydcj15XXQ9nK21jfaOQz6lfwR/VV+Ez5hvhp9o7zivB77rfumPFQ9z3+JgXLCn8O8g8gD5cLuAUv/hP2iO4i6Nrit9493J3bmN2J4Xnnme749kcAaAo1FXAgPixnOO1EClH2W5pk4WnNaghn4lwRTbo3Xh9tB2byB+N32WnWutgl33bnye4K8zbzmO+J6X3iktv41SLSzdDp0SPV6Nkl3xPl/OoP8aj2o/qP/DD8B/rg9qbz7/Dx7znxRvVS+2QCjAjVDHUOOg17CWcDxftg83brueSW38fbY9l52LPZFt3J4jHqDvMl/TwI+hMLIBosBDjeQzBPnlk6Yn1oDWtSacRhBVTPQJsplhGd+xXqnd5l2eHZrN6r5YrswfAy8cft5OdY4WLbuNbN09bST9TT1/jcauKj54zsmPA89I/2L/cT9qPz6fAJ7wPvEvEy9QX7sAGACAgOQBFOET0OrQiCAar5uPFy6irkXN/a297Z/9ic2ffbDuA/5i/uRveJAVQM7RdTJCkxQj65SotWgmBQaDVs8WqUY7BVeUIjLIgVzAHo8q7pMOYn50jr7O8Q8+fyT+836fzhwtq81G3Qcc75zl3RjdWo2prg1+bo7C3yxvVk92L2lfPM71/syuqU61jvzvVp/o0H1Q+ZFfwXDhfUEvILQAPV+d7wF+nO4h/e69qa2eLZudvj3jfjW+hY7ub0Dfz2A5MMXRZWIfotzjsjStpXlWMAbEVv4GsfYZJPeDmiITEL4/ho7Ljm2uYP6xTxB/Z2+EL3Y/Jl6zvjWtul1GTPScyjy1XNLdGY1ifdVeSO68jxAfbT9wD3ifR08Qvvme7K8Nj1Xv0LBoUOJBXgGFQZThZjEOQHr/368g7p8+CS26XYUNg92t7d6eIe6LnsZfBI8wn2zvne/v4Fyw9CHIQrUTwWTb1bBWdsbeltvmdPWlxHHzGbG2cJffxL9RXzyvSM+Br8Gf1O+kTzrulQ38LVGM5RyLzE0cNmxZrJjc+e1pfe7eYs70T2lvqP+1r5PvV38XXvYvCD9Lz7BwUAD7oXLB2THqsbGhVDDAsCtPdG7l7mzuCj3Xnc/9xm3pjgGeOo5Q7o8OlL7Czv4PPR+lIEmBAdHyUvkj9oTwVddGfRbF5sU2U/WJ5GvzK8H8EPlARb/mH8cf1//3EARP4j+JruMePV15jNgsXdvxW9X71mwKLFpcym1GPddebT7nD1D/k++a32H/Nu8PPvbvLM997/lAlwE6YbQCDhIEUdmBbYDf4DN/ol8YPp/eOr4FDf0d8d4YfjRuZN6QXs9+1/7z/xdPS2+SwClQ3dG4cszz1mTlpcKmWsZw5jRlijSWM5zCmuHMwSFA2SChAKjglKB7UCnvv/8k7pfd/j1T3NDsbCwM+9PL0uv+nDA8sL1LTdaeY87Vjx/PLy8r7x0/BA8bDztPhi/98G+w0VFHsYyhqAGpYXgxLKC1cEaPxv9PfswOZ14ovgiuDo4dPj4OUT6B3qJuxu7pvx/vY5/3MK3BdJJpE0o0FlTJpT1VaxVUJRkUqwQmQ6ODI0KuIiIRzkFewPdwm4Alz71vNC7I3kutzn1KvN38cHxLPCZcPnxd/Jws5i1AjaRt/Z48bnZ+va7lry6/Vl+R/9zgDPBNcIhwywD9UR3xK+EgwR3A0mCXcDlv3Q98rye+4v6+fomefe5pDmteZ75zLpF+w/8Af2i/3HBk0RLxzLJjUwQjimPk5DIEbsRrZFyEJKPrY4HDLxKq4jzBxqFjkQ/gmJAwb9e/ah72roI+FA2rbUddDBzQ7MVsu3yy7N8M+z0+nXgtwj4bvlYepY7tfx2fTl90H75f5vAo0FSgiACgsMvQxYDP4KAglyBqEDNgB2/Hn4ffQH8Rruy+tE6oXp6ulc66Ptr/BM9OL4W/69BKML1RJmGkMiVCoSMsg4xD2WQF1B9T/jPG049jIRLTcnSyFoGxwVXw5YBxEACvk08izs4ea34iDf/dsN2WHWddSM08zTFNVG1wraZd3F4DbkR+cd6ufsw+/h8v31Ffnc+0z+ZgAvAqoDAwUqBg4HeAdDByUGLwRmAfn9Rvqa9jXzbfBJ7uLsX+yO7Kjto++Z8oP2WfsOAXQHbQ6iFaEcKSPsKLItXTHnM2I1Cjb4NSs1XzOgMMEs8idZIvobQhVaDs8HzAFk/F73d/Ku7SjpFOXC4SLfId3r20XbWtv42w3dbd4c4CHiY+Tn5nbp9utI7nbwjPKm9NH2M/mk+yD+VQAMAh0DXwPuAtcBLwAz/vX7j/kw9/X0C/Ob8cfwhvAL8TTyCPRb9gT5+Pst/6UCcAatCm0P0RSrGtIg0SZmLBkxfzRWNmo21jT0MfotLSnzI1MeqBgXE7ANegiMA9L+bPpu9tryne+Q7Hzpeea241/hxN/T3qbeKt9j4C3iQ+Rv5pfomeq77O/uOPF183z1TPfV+DX6XPtH/Pb8Yv2S/Yr9Kv2B/H77P/rN+HL3Ifbm9OXz9/JQ8g/yNfLg8iD0/vW5+D38mACFBdIKOhC1FRAbKCDJJLMozyssLtcvwjDfMOov/i0PK3YnJiNmHiYZoxMLDosIKwP4/f/4TfQ58K3s4umk5/LlteT/45LjhOO04wzkseSj5eTmUOjg6Wbr1+xF7qHv7PAs8mjzn/TJ9eT21Pet+Gn5DfqR+vP6Mvtb+177MvvE+hz6Ufl3+MD3NPcO9133W/j++V78N/+LAi4GJApuDvwSnhc1HLEgyiSGKGErSi3eLWEtzitzKVkmsCJzHskZ6hTgD/EKKAa9Abf9Vvpl9+z0kfJH8PXtu+u56QXox+b15azlxeVA5urmoedS6Azpyumr6pXrZ+wW7aHtOO7b7rzv3fBP8jb0bfbc+Bn74fwG/ln+Dv4+/Rv83vrD+f74yvhH+YX6Rfy0/ocB2QSHCFEMIxC7EyYXPRoIHVkfWSHjIiQkASVxJUAldCQBI8MgKB72GoMX9BNWEM8MbQk9Bh8DIgAg/Rv6FfcV9CHxSe6J6+/ojuZh5JjiLuFF4OPfD+DL4PPhguMz5f/m3Oi06ojsYO4m8Pnx6/Px9Qn4CPrm+3/91v74/9oAowFKAvkCnANLBB0F1gW+Bp4HqwjhCUULxQxODtkPRRGfEq8TqBRcFRwWwxZ0FwgYVhh+GBMYfhdvFjEVxhM4EpMQuQ7MDJMKNQiMBb0Cx//j/AL6Pfdt9IfxwO7T6yjpp+Z75MvitOFD4VnhBOIH41Dk5+Ws56Lpw+vz7SPwWPJ/9I/2jPh2+lP8Mv4cANMBeAPMBOgFxAZpB+wHTQi9CCoJyglzCkALDAzYDIsNRw4DD6sPcBASEbMRRBLYElgT1RNIFI8UuRSfFEsUoBOSEikRYw9SDQgLgwixBcECm/94/FT5MvYp8z7wku0j6//oCudS5dvjzOIl4gXiVuI044LkROZp6LDqIe2M7xrymPQY93j5nPud/Xv/PQHiAmkEzQUmB2kIpwnFCrULhwwvDb4NQA64DiMPhw/iDwwQLRAlEAgQ9w/fD+AP+w8lEEoQZBBcECgQwQ8tD10OWQ0pDLUKDgkbB+YEewLQ/wv9Qvp+98P0O/LI75Ttpev16Yvob+e65lHmTOZt5tPmUecB6Ojo7uk266/sZO4+8FLyZ/Sk9u/4Rvug/QEAUQKIBLQGoghpCuQLJQ0lDggP0Q+MEDYRzBFgEuISWhPAEwQUJxRAFDQUAxSsEx4TexLDERARSxBrD3oOWw0ZDJYKzgiqBjcEhwGi/qf7n/ij9b/yDPCN7WHrhukQ6AHnY+Y85mLm3eaD51HoROlT6m7rlOzJ7RPvhvAg8u7z2/Xg9/T5APwL/v3/zgFwA+AEMQZgB3oIhwmJCoELgQx7DWYOSw8dENsQhhEfEpkSAxNJE3MTehNhEzwT6BJ5EuMRIRE5EDQP6w1mDK0Kqgh9Bh8EmwHu/kD8kPkA95X0U/JM8HHu7eye66Pq4Olk6TXpSOmz6WPqVet97NztUO/d8HHy9PNp9db2J/hm+Zb6pvuu/Kr9q/6q/7EAugHKAtYD5QT5BQQHEwgTCRUKEQsYDCANJg4kDwkQ1BB/EQsSdBK5EswSqBJVEsIR+xDxD6YOMA2GC8QJ4QfsBecD5gHi/9P90vvB+cn38PU69LbybPFb8Ibv+e6t7qbu1u4478Lva/A28SLyHfMl9D/1UPZm92z4W/ks+ur6ivsO/IX83vwx/YX95/1Y/uT+fv8vAPgA3gHlAvYDHQVDBm0HlAi9CeIK+AsEDfoNyQ5vD+UPJhAvEAwQog/wDgcO3wyIC/wJTAh5BqME2AIpAZH/Gv7O/Jz7jfqZ+b34+/dl9/L2u/ar9sD2+PZG97n3QfjV+GL58Pl7+gf7evvJ++37+Pv2++v70vuf+2T7Ivvf+ov6MvrN+Wr5Jvn8+Pz4Kfl/+fv5sfqQ+5f8vf3z/kcAuQE5A7AEEgZNB3YIdAlNCvYKawvAC+kL6wvBC3IL/QprCsIJBAkxCFYHfwa6BQcFcQTuA3sDLwP9AuECzwLDArMCngJ6AkIC4wFvAeoATACU/8H+2P3g/Oz74PrE+Yz4Uvcf9vb04/Pi8vrxNPGd8Czw6+/b7/3vXPD+8Nrx4/IU9F/1z/ZY+Or5f/sS/bL+WgAHAqADIwWWBvsHYQm2CvILEg0SDusOkw/8DyAQFRDtD6kPVg/pDmsO7g1uDfMMbgzgC08LxQpACq0J/wgcCA4H5QWiBE8D6gGLADL/4/2K/BT7ePnC9wb2RPSN8trwQu/C7XPsUetV6oDp3uiB6G3orOgf6cDphup/66nsAu6Q71TxT/OV9Rn4uvpw/R8AzwKABTUI0wpQDa4P3BHgE5UV+BYOGNwYfRnrGSQaJhr3GY0Z7RgiGCUXCRbOFIQTKxLHEE4Psg33CyAKMAgfBusDmgEt/6r8CvpL93n0sfEF74XsQOo36HXm7eSp44nineHq4HDgQuBT4KXgPuEl4mrjGOUc54XpTOxx7/Tyvval+oz+YwIcBroJIA1MEDkT5hVXGHQaIxxkHU4e4h4zHzQf2h43HksdJBy7Gg8ZOxdLFV0TkRHcDz0OpgwKC3IJygcFBhIE8wG5/3r9GPuX+PX1S/O78F/uOOxF6pzoM+cZ5iHlOORL41/ij+Hy4IXgW+CM4DDhZuIi5GDmFek67NDvv/Pi9x/8QwBBBBgIwws4D2cSSBXdFy8aMhzEHdkegR+4H5IfCx8uHggdpxsOGjsYRxY6FCASABDdDckLwQm4B60FrAO2Ad7/Hf5s/NH6TfnV91f23fRc89rxY/D07pvtWuwm6/jpuuho5ynmB+UX5Gnj++Lk4lDjP+S45bPnP+ph7RfxSPW/+Vr+1wIaB/kKcw6AESkUehaVGJEacRwLHjkf9B86IB4gih96HvocFBvYGFMWhxOFEFcNGwr9BhwEkgFQ/z39Yfu5+Sz4ovYI9XzzJfIh8XLw+u+w74nvhu+J74/vgO9K7/nunu437sTtUe3W7HzsX+yf7E3teu408GvyIfUb+EP7cv6JAZMEfwcuCqMM2w7KEIoSARQxFSgW/ha2F0IYihh/GAwYIBevFbMTPRFuDnALZQh1BasCDQCi/X37pPkS+Lz2sfX39KD0mfSq9NP0DfVe9cP1Lvaf9iD3pfck+ID4kfhc+Mn37vbk9cr0v/Pj8mvyd/IW8zL0tPWR97v5LPzB/lYB7wN+BvQIPwtSDRwPqhDuEe8SpRMVFFEUTxQeFLAT4RKjEe0Pzg1eC7sI5wX8AhQAR/2l+iP4tPVX8yrxQe/C7arsEOwG7JTsrO0c78vwsPK19Nz2Evk6+2D9YP8VAX4CmQNgBNgE+wTYBKYEcQQ0BOoDnANkA04DUAN0A8oDWgQnBRsGLgdMCGYJWAofC8ELPAxvDEUMtgvYCsIJbAjXBhMFMQNEAUb/LP0E+9P4mfZt9FbybPDF7mHtPuxk6+HqrOrj6n3rj+we7iXwfvIa9db3ofpm/Q8AoAI5BeIHhAoTDU4PORHFEtITQhQrFJ0TyBK+EYAQLg/LDYUMUAs1CkgJjggECK4HgQdfBy0HogbGBZkESQPTATwAgv7L/EX70vlr+Pv2dvXf8zLyYfBv7nfsl+rS6E3nLuZz5TnlcuUR5iXnm+hu6ons5u6V8ZH0uvcb+5D+HAKdBQMJQQxmD4ESgBU5GI4aehzjHcceCh+/Hu4dzxyLGzUa5hinF3EWPhUXFOQSfBHdD/UNyQteCZwGcwMBAFf8s/gv9czxxO4T7NTpG+jN5t7lNOWt5Ejk4eN34wfjbuLY4VfhAuES4YThWeKg41blhecl6h/te/A/9Gf45fy3AaUGpwt3ENYUtRgWHP4eeSFsI/EkIibnJl4nTCfFJuklryQ1I58h/h9tHtIcIhtQGTEXnhRzEaANXAmsBK7/avof9QjwWesi52fjSeDJ3fbbvdog2gTabdof2w3cGd0j3infDeD04O7hIuOt5JHmyuhS6xTu9vDj87b2dvko/Oj+zwEABXMIHgzdD4UT7hYbGuMcHh/MINUhayKaIlEioiG2IKcfux7tHUgd9RzZHO4cBB33HJMclBvhGUwXCBQHEHELPAa/AFH7IPY78arsgOji5NHhIt/b3NPaR9kt2IbXUdeN1wvYy9il2Zfatdvq3Fje+N/h4Szkyean6djsR/Dl88b33vtHAP4E7AnkDr8TRRhmHPMf1CILJZUmkycsKG4oYigYKJEn8iY8JnglhyRdI/UhYSCRHnYcDRo0F/ETVhBODPkHNANG/iX5GPRE78HqwOZS44bgRN6P3ErbgdoT2iTak9pn22jce9133j7f3t864GHgjuAS4Rvi1ONT5pfpke358Yb2//pY/3wDUwe7CssNmxA0E6gV6xcCGvAbth1GH7ggGSJUI14kHyW0JTYmZiZIJsAl3yTKI3Yi5iAOH+gcaxp0F+gTrA+7ChAF+v6W+GDyn+yW52fjHOCa3cTbgtql2TnZCdk72brZidpj20Tc9txk3ZPdk92p3SreSt9G4Sjk7udp7DfxNfYd+9D/QwRZCCUM1Q9hE9IW5BmdHOUeuiANItMiRiNGIxUjqiItIrohRSHFIDogqx8GH2serB3wHAYc2ho8GQgXIxSPECgMDwdkAXf7pfU68HDrb+c55Kbhzt9u3n7dxtxA3P3b+NsG3BLcB9zb26nbbttB22rbJtym3ezf7uJj5lnqce6s8s/2zfrD/qsCwAb8CjcPSRMUF3Ialx0rIGciEyQ9JewlJSYaJpol9SQCJBEjPCJ5IesgciD0H3kfqB5gHbEbVxmMFvkSug7PCXoE1/4S+Uvz0+3e6HDkn+Bu3b3afdiz1hXV+tMe07bSqNLi0pvTq9QO1qnXetmp20XeWuG95HrokOz78Lr1qPqF/3QEQAkcDtgSRBdzGxcfXiIcJWknMSlhKtEqtyoYKiAp2CcpJjYkHyI0IGIexhwRG2kZ4BdfFv8UnhMVElQQJw5kCy0INgSs/4T6A/Vt7xHqF+Ws4MjcgNne1r/UP9NT0ufR+9GB0jrTTdRs1Y/Wu9cU2dXaKd0q4PfjauiF7R3z8Pir/hcEMQn1DXYSrxZvGr0deyC0InskiCUhJhgmwCUxJWYkiCODIl8hICDQHnodKBzgGqkZlhimF8QW5RXkFKITFBL+D3ENNQo6BsYBtvxM98bxXexJ57fip94c2yjYsNXd04fSqtFK0VvR5NHe0gbUgNUT18TY0No13W7gZORB6c7uAPVz+/8BMAjjDeYSUhccG1Ae/iAJI6skmyX8JbAl/yTNI2oi6SB5Hyse6hy7G4EaPxn2F6EWMxXlE7ESzREVEWQQrA+7Dn4NpAsVCcQF0QFs/cL4/fM878TqsuYP4+bfGd2b2p/YBdfw1XDVYdW91V3WYNe12FXaRdyF3kDhpOS86G7tnvIJ+KT9FgMfCHkMHhAGE1oVFxdtGHgZRRrwGmobzBsFHCgcTxxXHFscbRx0HJkctxypHGkc6BsIGyYaGBkTGOcWmhVBFKYSxhBTDioLUwf5Ajn+Q/kM9Ofu7ulb5SDhPd2w2ZfWF9Q90jjR6NAZ0cvR5dIx1PXV7ddP2jLduuAL5Qnque+99Qn8JQLaB98MORHPFJ4Xfxl8GrwacBrrGVMZwBhFGDQYlBh5GakawRuXHAkdSh0wHcEcChzFGqUZuBjZFxoXJRbyFM4TgBIgERwPVAzZCJEE0v+C+sn07u5d6WrkWuAo3cHa+Nje11fXNNdN123Xq9cD2K/YqNnn2ovcsN584RjlhumP7jj0I/oLAJwFfgp/DmcRSBM8FGYUBRR5EwsTxBLOEjMT3hP8FJsWSRghGtgbVR3FHs4fdyCVIC8gmR+7Hsgd8hy5G2cazRijFiIU7hDqDEMI0gIA/dL2hPCC6snkxN+M2xvYZNWS02LSwNGc0dfRUdIO0xPUWdUX1zfZ/9tM3y/j2Of+7M3yAvlP/4sFRQs4EBsU0RZtGBgZ4xhNGFkXWRaxFTcVNBWIFTgW/Rb1F98YoBljGhIbjRsNHJ4cEx27HTsevB7LHkEeAx29GqAXwhMSDwIKkATf/lv5tfN07pHpJOVp4Vfe09sO2sLYw9cd13TW0NUs1dTUztRv1bnWmNhA26je1eKJ58fsPfLk95L9KAMxCHAMzA/zETITjBNhE8kSExKwEcIRhxL7E+AV6Rf7GckbPx1UHjIfwx9aIC0h6CH0IgEklSTIJBQkaCIQIL0coBiOE5UN6AbI/2j4MPFD6irkH99V2+7YWteU1gTWZ9Xc1GPUrNMQ06HSctIq057Uyda/2ZLda+Jm6FTvq/YZ/v0EFQvzD3ATdBXNFRQVnBPyEWgQHw8ADoIN4w0sD1cRrxMkFj0YABo3G7UbehvpGpga2xoiHDgewSAxIzclJia8JYwjdR/EGcASKwtaA5/7gvQ87hjpU+WO4qDga99z3ozdPtxQ2uLXOdXM0ufQtc+Fz4/Q0tJ/1j3bveDO5jrtxPNR+nwA6wVSCp8N7A80EcERsBFLEc0QZxAYEPsPDBBpEDERSBK1EzoVrBbNF58YLRmwGWwaphuRHSEgGCPHJa4nHSilJjMj3x0XF54PAwjQAHz6F/We8NPsp+nm5obkpuLa4O3e8dy12lbYNNYa1IzS19E80gDUDtcP267fruTP6QTvFvQc+bX9AgLGBc8IFQuQDHINJQ77DsgPxhB/EQcSgxK5EnoSxBHIEOQP0g99ENsRrhP+FbMYzBsZHwsiVySKJZYlRCSnIa4dsBgcE5wNsAhiBKMAEf21+XP2OvPj70jsZ+io5D3hNd6Y2wzZ+9aF1dzUH9UV1p/X2dmN3KLf7+Iw5o/pKO1A8cT1ePrn/r0CBAbpCFsLWw3NDrYPlhCAEVYS6hIkE/YS1RLcEgsTnxNhFHEV/hb3GDgbrR3lH7whESOpIzcjgyHAHuYaeRaeEXkMXQeoAnb+5/rE98f0AfJB74zsq+mj5lLj/9/k3BvaCdjk1rbWkddg2b/brt7S4Q/lWeh563buJvHA84H2kPnV/DUARwM6Bg8JmwvADUQPKRCjEAgRRBF0EZARqRH7EaESdhNGFO0UYxUDFvkWMxhsGYQaZhshHM4c0RzDG3EZ2xV8EdUMJAjVAxYASv10+x763PgP93X0J/Ey7efoduRK4OvcldqB2YDZH9pR2+Hc4d5M4avj2eXH56vp2Otj7iXxJvR791j7jv/iA+YHSQsKDkAQ4RHwEnUTfRNpE40TBRTEFLAVihZpF0IY0BgFGb0YNBiwF2EXPxf5FmEWbxUAFC0S4g/pDLUJXwZAA5UAFP6g+zT5tPY/9NnxXO/K7BrqZue75DjiG+B23rDdzd3k3sjgHOOb5QHoIeol7ETunPBb8232xfn6/BYA4QJRBaUHzQnTC+sNABAAEp8TXBQeFAsTqxF3EMUPqw8AEI8QHhF9EaARdhH+EE4Qqg9RD0APRw8WD4EOqw2cDHALLwrCCE8HxAXxA8AB8v6n+x34ovSZ8fLuk+xv6mHoqeY45fzj2eK34ePgruAB4efhJuOh5MXmt+l/7ePxn/ZH+7r/rwP7BooJegvLDM4NtQ6UD6kQxRGYEhATABNdEmIRQxAzD0cOjQ37DKgMnwy1DLEMXQzvC7ULwgsjDIcMxAzwDOgMjQzSC4kK9AhGB7YFOgSaAr8Aav63+9/4xvWb8nPvTuxs6dDmSOTl4Ynfpt2K3FrcG92p3hrhfuTi6PDtXfPD+AD+zQLsBhEKPQxODVUNzQwRDMcLOwwqDTIO/w5WDw4PNA7qDHsLNgpfCfQIGgnCCZYKWAvXCycMgwzzDFsNvw03DssORQ98D1AP5A5iDs8NGw1EDCkL0AnpB1MFzAFT/Sj4hvIO7TroIeT54LPeKN1I3KfbLNvR2v3addyg34fk6ur18fb4Gf/hA/YGZwixCGMIAAjpBzUIgQh8CNYHfgadBKMC2gCg/0z/5P9sAYcD7AViCLkKxwyUDhUQXhFSEgETkBMNFOEU7xU8F70YQxqXG2wcUBxIG0MZgxYSE/wOOgrLBNf+vviV8qPs/Oa04RvdcNnB1r/UedMQ0+TTUtaR2hvgwebw7TH12/s7Ab0ELAbbBXcE0QKIAf0ANgErAjMDwwNDA5ABFf+D/LL6+Pmj+r/8HgByBD4JZA1iEP0RihKqErUSqhKbEtMSuROsFbEYZBwcIGkjdCXuJWckoiDYGsoTUwyUBbT/r/oR9rHxZO376KnkauDA3EnaVNnp2dfbed6g4RXlNOka7l7zc/jE/Ln/TAFMAab/ovwJ+ff1NfT486/0qPUP9tH14PRP837xIfDm74LxSvW5+ikBoQemDcwSChctGukbPRynG8EaZhoUG9cc9R8QJH0oViy6Lgkv9ix0KAQiLxohEoEKagPy/BL3ofHV7IPovuS34ZLff95V3vfe1d/44Dji5eNq5tnps+2c8Rz1vfcW+dn4+fYU9HzxDfAO8Dnx1PJO9GT1svX/9FLzL/GJ74zv5PF59p38UgOPCbIOSRLlE+YT8xL8Ed4RFROfFUwZCR5lI7woWy2hMAEyejHALs0pkCK4GRMQvgbF/qr4jvRk8sTx3fEN8oXx/++p7SLrM+lZ6LfoOOp17BTvnfG98xr1ovWJ9c/0W/Nh8e7uNuyq6ZTnEOZP5Vrl/OX35ifoVumA6snrhu3h7x7zO/fj+54AzAQHCFIK+AtoDR8PXBFxFKAY+h0+JNUq3TDQNSs54Tq7Ois48TJgK0wiFhl3EAAJsQKn/Qr6d/eQ9drzNPKw8K3vEO+87jLuQe0k7BTrgOp+6unqp+vT7B7uIe827wHuwusg6dvmUuW45PTk+OV950Dp3upe7LjtTu858Xbz0vUO+Bn62vtp/fT+ywBRA+sGtwt4EboXJx5CJMIpWS6FMdsyezKqMN0tNCq4JUMgLBoSFEcO7wgABJL/6Pto+Ur4Zvgi+Rz64fpn+6X7g/u++kH5ffcT9iz1bvRk81jxq+7j61PpC+cL5WrjfuKE4kLjFOSH5L7k/+Tj5W7nV+kU63Tsdu2F7rjvKPHd8hz1YPif/IkBkAaOC6AQ6RXzGmUfICN5Jq8pgCxfLsQupC0yK8AnpiPzHuAZiRRmD+MKcQdLBUEEbgRpBYwGMQe5BhYFzgITAA39xPmW9hX0ePJk8dvvRO3U6UHmWeO34QrhUuGQ4pHkNecF6mvs5+2L7qnugu457sft0uzE6/jq2eq469DtMPG49dz68/9lBPQHwQrfDMgOwBBsE+AWChsSHykiniMWI9Ig5Rz6F6sSOA6KC+gKAgwnDhIRuxT2GBEdNyCkISEh4x4OG2wVWA4xBgP+Pvdz8kXvyuxZ6qznOOVN44fhad9P3cnbddu/3LTeieDo4c7iyuPp5AXmIudD6M/pBOyR7kDxbPMY9Xf25vfP+T/8KP95AjEGKgocDr8RAxWnF5EZVRq6GbMX0BSREcUOQA0+DTUPsRKWF2wdrCNUKXktti/yL7YuRixqKMgiphtdEygLnQNe/Rz41PNu8HTtx+qx5xnkF+A73AvZ9tY+1vzWFdk13NzfKuOp5d3mwubL5XfkQ+PG4pTj0+WK6fTtgfJb9pz5L/wt/tf/VQFrAygGZwmyDP8OARDaD7sOdQ1yDI0M9w3qEHYV1BqHIPIlvSrXLrUyhDYiOtA8Tz1pOn4zKSntHIMQcgW6/HH2+/Jw8f3w+u8T7UDoQOJw3JzXL9QJ0mfRkNJq1YLZL96l4rXmu+l063brmOnE5r3jGOKs4nrlYOoG8HX1+fn1/En+ZP7g/aj9dv5xADgD/AUgCKIJXQr8Cs4L/gwzD0MSkBbfGwwioyg6L7I1/jvoQbpG4Ej9RrNAvjauKggeKRL5B3EAAfzU+YH4V/Ye8tLrRuTq3MbWi9Jq0AfQRNG90xfXr9om3kHh1+Oa5f7lPuWG47vhr+C24Gfi9uU262fxQPfb+3b+Sf/J/qL9rPxl/BX9rP6fAJMC6wOqBCIFEgYlCMYL2RAqF2YeCyaILSI0kDk2Pd8/ckG+QQ9ADDx0NTEtiSS5G6oTgQyVBskBXP2F+Evy5eoZ48rbKNZ10pvQqtAQ0sTU+9ew2lnc1tyy3HrcV9w/3IDcS92u3/fjzumw8Lb37f3FArEFTQbuBHkCv/93/b/7qvqY+pL7hv0BAEoCjQQOB2gKrg5uEy8YQxzNH5YjeSewK+ovyTOYN5Q6Ozz4OsM2HzCXKOogxRnGEp4L5gRm/kz4YfJV7G/mfeEP3jHcFdsw2uHY1NeB183Xh9gB2UbZvdlx2onbpdwi3trgYOWq627yQPgf/MP9Ff6F/YT8uvsy+zD7x/t0/Or83fxb/NT7Avxc/QIAxwNaCEANZRKaF84cqCINKf4vUDYeOwg++j6pPo89fTv1OJo1TzFxK4MjWxkUDUsAX/TQ6n/kHeHL32nf1d5L3Yvat9a30r7POc6JzuzPkNEZ09nUXdc125PgIecK7r30QPq2/Tf/4P5A/Wz7/vm9+cX6u/y0/rP/bv+O/dX6K/iN9sr2YvmF/tQF9w6vGJYhmCiQLcUwzDJMNG814DbTOFA7hD08Pn080zeYMIQn3hw8EeMETPnj707ppuWy44zixOEU4QDg6t1n2pLVptCqzIHKNso2yzPNT9AJ1UTbYeI66VHvM/QS+JT6UPtd+n/4uvb19b72lfiZ+lH82vxV/DH7evk1+Bj4+fl//hkF/wwtFfgcKSTLKvgwfDYgO/A+4UHmQytFzUQBQ8w/hDslNmIvrSbPG8QPhwNO+Ejvc+h248bf9tyC2vzXYNVO0mfPKM3Zy07L68tZzYvPi9IO1nbawd+45b3rzfB19H32A/eo9u71M/Xr9A31+fW195r5JfvC+3L7APsM+/j7Bf4xAcQFvwvqEq8aVSKMKVcwETeQPe5CcEblRtVE8kBLPJk35jIPLiIpoyNnHdgVQQxdAUL2rOxn5aXgN90q2nDXB9Vb04zSGNLr0UHSRtPL1DTWytao1tnWptim3IfiwugV7r3xiPPK8/nyYvG/79LuP+8h8d3zxfYO+er6xPzB/isBHASFB/ULsBF6GAkgtCfZLio1iTrcPtZB90IOQl4/vDsSOEI0GTC4KskjsRsXE7sKQQOd/OH2IvJU7inr7ecJ5HTf5dpk13rV79SK1ZPWwNcD2RTa4NqY21nc2d1d4Hjjmubh6CTqzeov6/frFu2T7mvwPfLx86H1E/eV+J/6kv3nAZAHuQ1vEyIYlhsZHlYgwyLFJWkpay2WMVQ1fzgWOsA5VzceM80t7ieMIacajBO2DBoH6wIIAJz9/Pqo95/z6u5b6ZfjP95M2srYt9lU3Kjfc+Iw5Ork+eSf5Nrj2OLq4YLh+OE1467kbeY/6F3qhuwX7p3uze0u7Inqtemd6nHtY/KU+TkCPQtaExQZfhydHmsg7iIvJnopkyxWL5oxpjPRNBI1HjQdMvgufioaJAIcDxOECiAESQAI/2r/TgCrAPr/nv2P+RL0Fe7g6E/lnOMg457jteQI5nPn8ucv55blN+Pp4OfeN90f3NLbutwf3+Li9+Z46rTsxe1K7p3u5+5Q76XwCPQK+pYCGgy1FBEblB6UH+oefR0zHMQbvBw5H5kiKyYtKUErUSxLLFsqgCaMIHQZghJ9DAoIOgVbBDcFTgdtCTAKgghZBGD+5vcE8k7tH+pX6BboHOmn6t7r3+tZ6sXnneRh4XPe6ds12q7ZP9r226be3+Gs5YXp/Oyw7z/xwvGb8avx7vJZ9of8+QSTDmkXZh1yHxUedxowFsYSRRAoD74P1RG1Fb0a0x8pJKsmXidPJnIjHx+HGZMT0A7eCy8LTwzvDWcP0A/GDp0MgQm2BXIBx/zr9w/zc+536l/nO+XG46niiOEa4D/e1NsM2bzWrtV01lDZgd144nbn5Ot+7yDyp/OU9L313fex++8AqgYvDKsQ1RObFZEVABQOEdsNlQviCrYLNg0ID0kRVRQvGAUcdx73HngdpxpLF+AT1BC5DhkOcA9TEowV4xcKGG8WcRNzD8AKyATV/br2S/Bq6yPo0+UL5Izie+H04KHgC+C83hjd5NvX22DdJOCq48XnZ+wg8aj1APmm+i37J/vj+/T9+QC7BIQIGwxvD8IR/xFTD1EKlQSYAHH/CQEwBOoHHwxkEKMUmhd/GGAX0BRFEk8Q0w4LDuUNSw/bEvwXSh3yIMchnR/dGuoTxgseA0H7SfVe8VLvNu4o7cXrxem65wHmeOQC4xLhvt7O3AHcBt1Y4NLlH+3r9Aj8CAE6A70CUgBj/az7WPw//4UDXgcaCnMLMQtcCfkFaQEa/d/5MPjH9/X3x/il+pL+fgSoC2gSOxd3GWIZtRcdFbESMhHSEcQUGhlsHc0fLx+3G78VVA5OBmf+rveZ8n3vKO7V7Q/uYe6F7rnunO7o7ZrsxeqK6c3psOta7/Pz4/jW/eEBfQRQBS4E1wES/8D8t/su/Bj+6gDjA0sGJQfJBU0C9/wX9/rxn+6C7VXuf/Cd85H3+Pu/AE0FZQmsDLoOWg9pDu8M6Qs3DGIOthEmFbgXXxj/FiYUSBApDAYIEQSsAGj9KPou9730ovM29Nz1zvfv+BD5iPgV+M/4+/qQ/hEDggcYCx0N+QwaC/wHqgQKAk4AZv+f/nf9pvtr+SL3TPUa9GjzQ/L272TsBehp5MjieuPK5m/sJPMx+gAA6gMCBu0GSAeNBwkIxQjhCf8KCQxaDPALAAsdCj4KWQueDAcNVwvOB14Dwv4D+1/4T/dO+Bv7zP4GAroDcARQBY0HegsEEP8TTRaoFr0VNBSEEngRzBCcEHAQVg+PDIIH6gAT+vzzYO8p7L7pCeiN5iLlxuN74n7h5ODO4HXh3+JG5cLo7Oyz8bj2IPuV/q0AawFvARYB1gAMAecBjwN+BVsH0AhlCUMJcwjPBqYEWgIoAKb+Lf5e/6QCNQfHDD8SthZOGukcnh7HH5AgByExIe0gOyAJH5Id9BvtGUUX2xNuD3AKogQ0/hn3re/d6GDj+9+E3lfetN7V3kLeX93y2z3ax9j918bYbtuO36Xkselg7sDyjPbu+aT8S/4V/3X/0P9FAPMApgFxAlkDRwTRBKoEVATjA80DNgQRBXEGcgiAC28PQRSGGRofkyTnKQAuxi8uLwwsuydzIxIg9h0iHf0cDR1GHC4aORYvEN0IQQHt+XXziO0x6Ozjn+BH3rTb49gT1sTTn9KH0mPS3NHh0CrQrdDs0irXCt145P3sSfWn+yL/jv9w/jf9qvwQ/dr9/f57ALMCuwXxCH4L4Qz9DGIMDAxNDIENgxCHFbAcaiUsLks1RjnxOac3fjPvLrwqUid/JdokyCSDJOoipR+jGugT8AvTAjv5pu+S5gXfmtlq1jvVKdVO1RTV5dPT0XLOU8okxqPCJMH1wv3HSNDC2gnm/PBG+s8AiAPLAqj/zvsf+ff4CPug/vICUwdRC1cOow+mDgYMTwkFCPwIhAwTElEZgSGaKSwwHDQzNSY0bTL2MP4vji4BLZErUCpqKcEnkSRUIBkbIBVVDkkGHP1l89Tpa+GO2qXVbtIj0J7OOs1qyxnJvMbaxETEFcXWxyXMINI+2X/gFufY7IXxNvUm+E76I/y9/bX/0wErBL0GFglSC6ENWg9FEIYQXhATETsT0xZrG20gMSXwKDMr4yuRK+AqrCocK6krfSsIKkEn1COhIBoexRusGWMX+hMTDy4Iaf8g9l7tAOZS4Czc5NhY1RjRRMxBxy/DBcHnwC7DHccMzEjRadYl26ffn+Ov5x7sGfGs9kn8fAE5BmYK2g2UECQSaRJdEfUPsw4jDnAOKQ9dEFUSxxTTF2sb9x5PIj8layfRKFcpGCm7J3wlwiK2HxUdXRsjGyccXB1vHbcbthdZESQJE/+D9Bjr0eMx39DcPduA2djWXtOVzyTMq8kQyC/IPMr4zdzSMtgQ3arhqeX+6BPsOu/N8rz2lPpj/ksCngawC+IQZBWCGPIZGRp7GU8Y5RYWFf0ThxTYFvMa6B9+JBwouSnnKNIlFCGZG1cW/BFID7sOZxApFOQYFx3YHjAdFxhLENkGcfzr8V/o6eAi3N3Z59i92PbYU9mm2VDZltdx1LzQBs6izaLPy9P82NneCeX36vfvxfNb9qz4evsb/3gD9QdbDNgQkhW1Gscf5iNwJhgnEiaRI2sghB3nGxccEh7BID8jRiQVIwcgpBuXFvAR6A3lCiMJjAgPCeQJvwpIC8IKxAgNBTb/nPfa7szlpt1r173Tj9JH0zzVpdfm2crb/Nxn3RfdfNxP3K3c1N2H36XhpOTU6ATuEPQX+nX/tAO/BroImgpEDZQR3xekH8YnRy4RMoMykC+BKr4k8x8RHvEegyGSI28jrCAWHKAWcxEiDQYKQghmB8wG8wXABHkDtQLUAlgDygIpAML6MPO66jfil9rx1KPRBNFZ0ljU/dUt13PY8tnO24ndqd5Z3wXg9uBj4j/kjOb36eTuWfWO/CcDRQgYDBQPLhLXFQIazx5dJAEqcS7bML8wvy5OLHcqEykjKD0n4SVlJGsiEx9RGiAUBQ59CUIHyQZaBucEUQIQ/7r7Uvja9J/x3u737Fjr/+i05cnhEt7g2wfbqtou2kjZWthY2PvY9Nks2+nc6d8X5MXohOzE7trvg/Cr8ZzzCPbr+Jf8AgEdBlcLVRA4FVUawx9LJekp/Cx1LmMuli2iLBAsVSxsLf0u0i+3LjQrIiXAHSEWzg5ECOgCqP7P+9D5Evjq9RTzye837J3o8OR34X3em9wH3KLc6t2y35bhWePl5Mvl0uV+5TzlaOWH5rHoqeti74XzKPeM+TD6Bvna9p70+/KA8r3zzvad+5UB0wfFDUITbRhUHbYhGyU5J9cnjyfeJiEmpSWXJSwmdSf8KLkpsChwJWggFBoHE+MLnwTq/QD4/fK47snqH+cR5Kjh7t9J3iPcANpQ2CTYsdnM3A/hL+aV6+LwUfVt+EL6+/pK+5j7FPz3/Cn+hf/GAOUAiv/o/Mf5aPcq9iL2S/dq+V38yP/0AsgFAQkdDYQStxg8HrQheiLrIB4eFBu4GEIXJBeXGL4afBx4HP8ZlBVAENsKfgUcAIr64vRm72nq7uVg4mbgHuAG4a3hpuCU3XrZU9ZA1u/ZnuEm7I73CQLkCQkO7A4YDkINrg1EDwcRCRLkEYIQJQ73CkYHEwTwAcgAbwAwANX/v/9tACQC3QQqCHgLJw7ID9EP0w0+Cu4FUwI6AKL/6f+AAB4BBAKCAzUFuAZqB7oGiwTzAPn7/vV774rp8+Qz4l3hCuLV4+jloOcp6IPnkea95jbpou5U9tD+EgeeDjAVChvQH/8iIiUyJk0m4yQvIX4bpxReDgMK1gehB14IrAgtCKMGDAQEAeH9mPvH+l77c/z7/C38R/rq94X1h/MW8kfxG/Fn8cbxEvJk8h7zl/S89tf4GPr8+Vj4p/VG8nHuw+rh53Lm8uY86ZHsLPBK83z1i/al9nb2M/fD+eX+lwZbEFsbLyY0Lws1KTddNpczyi+tKzAnmyIHHuMZixYWFE4SmBCPDigM8AhtBBL+cfbX7sfod+XF5Ovl1ef86Gno/eUe4ineddvM2rPcyuCj5RTqgO3N767xc/Mo9aj28vfq+B35XPiV9lH0UfJ88SLy7fPu9YL3/PfX9/v3CPnW+7kA4wcwEfcb2CYzMLU23zlJOrI4rDWzMbQshCfCIrwewxteGRcXAhXAEm8QtA3SCZsEYf7/92zyD+7K6pLoL+dV5g/lmuKz3ufZfNWm0vbRftNz1vLZht3H4Jzj1eU650nooemO6xfuo/DL8oL0+PV99xD5nfrE+2D8lPwV/Uz+rwBkBHUJ5A9cF1kfeycUL5c1lDobPU49QzstN9ExOywVJzojlCDdHmEduBsxGTgV8w+YCeQChPzf9mPy8+5f7H/q4eh959DljeOi4Dndrdlk1tPTdtK60n/UNdd+2vPdVOGF5E7nqOm9637tz+6O7/bvbfBq8RnziPVB+Gz6u/v++7v7yvu+/E//4gMNC5AUmR/LKog0cDslP8U/Jz7aOkM2EzHIK9UnWCV9JCckcyPeIcseRxprFFoN+gW7/j74C/PP7q/rVelE5zbljuIw34jb1te21CzSeNDTz3XQMdLs1FfYY9zw4Krlc+qM7nrx7vK18qfxofDv7xzwMPEj8+H1Z/gC+jf6Zvli+IP4svp5/6IG9A6BF10fqSWxKm4uwTEHNsA6pD9cQ19FcUVSQ70+wDf6Lj0mVx7OF3cSWg1oCEUDRv7e+df1FfL37dPoguJB283TQs2LyFHGuMZKyXXN8NHt1a3YrtpB3AbeLuCi4lfl8ece6qfrpuxm7YvuMvBv8iH1tPeq+en6lPsI/An9U/9wAzYJXRCIF0weriSvKscwsjZSPHBBhEUQSMVIy0ZdQkk7rjKnKZwhVBufFjoTSRArDUMJOgQO/iP3EPA26cvi0Nwk18jRTs0yysvIMcn1yuTNUNHH1NDXW9qs3F/fJeIT5bnnqulf62rsV+2T7ubvrPGd8z/1lvZL9573+Pd/+NP5o/tT/kACYAfLDWYVEB5VJ5YwJzlFQOtFuUltS8RKs0dLQ3U9pTb2LqEmUR62FgsQtQpBBqACSf+A+4T3D/P77Xbon+LR3LrXudNA0ejQnNLp1cnZudxw3o7ey92d3MTb1tv23N7ePOEz49HkWua454PpN+sc7a7u1+/C8HTxmPKf9Pn3rPzeAmwK3BIlG74iBykiLn0yFTYkOaA7MD4JQeFD40XDRVtC3jvcMn8owx2IE9oKiAQeAeD/JP/a/RX7Cff88enrYuUA34rZDtZ11LjUfdYK2UDcSN/T4RXju+Ly4NDe9dwQ3MPbMtwI3Ube2d/x4LXhIOLE4r/jd+U16BvsRPHS927/nwfLDwgXNR12IrAn7ywaMlI3aDw/QcpFfkm3S6hMb0uAR1JA1DVDKRIcog+JBen9Ifmj9qz1dvXF9ATzbe/56bnjbt1n2BXVtdNa1K7WLtof3qnhZuQ35ibnR+dT5hLlMOO04frgJuGB4urkreee6uTste7A7/XvSPCL8ALyJfXw+VoAgwf9DhoWKxy0IUwmlCrpLmYzNDiyPHFA6ELDQxNDfEAEO7QyGyj7HF8TIAzfBn8Cav55+ub2l/Mz8Bfs6ucE5MngCN5i2/vYNtfW1qDXO9lo22fdO9+i4ELhhuFy4cLhvOJ75BHnk+la667sPe3O7Y/ug+/v8MryCPWv99764P4jBPcJKxBwFm8cjSJ3KCwuHTQiOidAPkVwSDZJxkauQQg6izCNJswceBS4Df8IcgVQAnf/qftK9zryf+xr593ivt/F3V3c6duh21zbSdvr2qnaV9of2snZNtmV2AjYMtjG2WndBOJA5/fr8O8D8zH1CvbU9TH17vSC9T33Bfq2/TUCCAfgCywQ4RQ3GuwgESm9Md05lEA/RRVIBUlQSNFF5kA/OvQxxShoHx8WiQ1iBikBd/2g+p73kvM+7q/nk+AB2jXVUNMz1MfX99wj4j3mFOjw52vm7ONw4SHf0t0J3hzfFeFG46nlR+jo6lPtRe/e8LDxufFE8ZPwEvDv73HwCvLr9DX5bv4OBA4KIhCIFlYdeSTVK60yhTiEPXVBw0THR6FJd0qoSapF1T6dNE8o/hrnDfACYPqX9Z/zEvNd8lPwVezC5qDgvtrq1QXTjtES0vrTz9ZK2tncD99n4Cvh1eHR4ZDhIOE24Wzik+Qb6BPsifB19Hf3Yfmt+dr4yPa88zHxpe+g8AX02Pjq/v8E1ArQECQWcBtrIN4kVSquL5E26T1PRddM01IVVsNUFk4rQ0k1+CYZGXwMAwNO/An5L/dd9WzyX+2C5+DgotpV1RDRTs41zcnND9BR013XM9wv4Yjlaug+6W3oAede5ZTki+SB5irqqu8S9mj7j/6z/hv8w/cg82zuFOvg6Y/r8e949dz64f67AWEE9wZ7ChYP7BQ7HFAk0SylNHc7y0G1R/pNllNEVqZU3EyWQDAxciFfE9IHBgCl+xb6Ofrh+YT3K/N47Eblxd3k1gTRS8xOybHI0MmXzdLSAtnn35XlS+on7GDrB+nB5S7kJOWL6ITuVfTd+an8Y/0Y/Pv3rfOH7kfrcOq+6/Xu9vF79Vz4JPs1/pUB9QVbC1USThrKIsAqsjEvONw+kEYTTlpT1lWkU69N60OsNvsn6hj+DKEEhwB9/9X+UP34+ej0ne6352zgmtnt02DQtc7+zsTQ8tMZ2GLdiOIM5+rpZupN6a/mVuRZ4tnhn+Ny5yftJPP59mb4sPaK87zvMOza6XHoVumP61/umfFI9E33fftyABUHAg6dFU8dvCQNLLQyuzhnPr9Dg0nBTupR+FFPTRNFPjpGLjIi9hZADWkF3f8//PD4qvXx8F3rdOW+38jaENYK09XR2dKW1UHZAt3X4Inkc+cI6VXpUuhT55zmMud66WPsl/BB9GD3OvkR+Tz3gvMu7+PqXec55TXkTeRS5XTnYuqI7r3zV/l3/5EF3gvQEqAaGCOFK2wziDr/QCdGe0lmSgpJ/0Z4RNtBrT04NpcrwR6cEZMGev2P9sfxCe+y7uXugO4X7ELoaeQ34fXegN3K3OzcBt6s34nhfOMh5V7mV+eV5zPnAebO5Ajk9uRe583pSexu7T7uR+697QnsH+kh5uDi7uCJ4MXho+XX69b0ff+0CsAUgRxFIlIm3ylRLbgxZDcvPnZFckt2T/pQ+k/ZTNJFdzsULeMcHQ3g/+H2xPHc8IXyy/WI+Af5YvZ+8FjpheKC3UPb4Not3JLeo+EL5RronOqC7NDts+6H7hHt6Oqv6FPnBecz6CXqn+x27mvuVOxB58LgFdqY1IjSiNOh14bebOfs8Yb8ZAYzDr0UgBogIM8ldStiMQM3kjzeQaxFo0iySQNJJkc7Qms6cC7UH0YRHgaM/4T9d/6QABsDGQSiAob9K/Us7B7k1t6k3Lfclt7H4SHm6uqZ78/yXvQP9Ifyp/Am7jDrl+gO51nnt+jb6bvp2ud25FffqthJ0XfLOshMyY3OLNeX4tzuVvtNBnUPQRZrGsUcax6LIJ0jvSdwLBAxIjVlN5g3PjYZNPAxci+LLJMoNSQeIOYcrhonGQkY9xVbEqsMnwQe+0fxVunh5ADl9eiu7szz8va497n2xfRU8t/vEe4E7Y/sqeyS7OrsPe1+7T3tMOyE6b/kCt2L0pfGTryftmO3Y79pzC7cjOtP+IAB9QYoCZ0J5wkbC94N9BHzFtccRCNxKYouKzLTNBk2NzbhNNExbC5HKxApCCipJ4En5CbOJNQgWhrREFkF9fno8H/sPew/77/zR/ht+3T8FfsD+K707fEd8Mnuze1q7f/t/+/98gD1I/Vq8avqEOGF1ZPJy75wuKO4Pb/Byp/XBuPl60fysvbN+Ev5L/iH9y74+/pp/xIFDgzDEwQcQSMOKN4p8yhEJtwjJiMBJWcpVC99NZc63TwfO/c1Ki4EJaobDxK2CDcB1fyv+5r98wBPBIQGNwYFAxj9APYd7/zpqud56Fvrfe928x/2p/YH9P/tPeUE2/LQ+sjGw7fCgcWfy47TW9uq4bTlf+cP6Mrni+cj6LbpCu3T8Tj4vv8hCLIQphjGHvwiSSWgJeYkniSJJk4rYTLcOf4/VEOnQ29ASDkeL8Ai6hXJCsECKP5m/CP8qfya/Rr/TgD6/yP+t/o89obxhe1y69zr0e6r86z4EPyw/Jf5G/Nj6rTgdNfXz6/LhMs7z6PV7Ny+4tzmhug26DHnieXQ43/iVeIw5KXoQe+J95QAkQmEESkY7hy1H7kgaiGYIjAlaSkWLkwy4zXoOCA7lDvVOO8xJSdVGqcNGQOv+8T3Pvcj+pH/0QWYCkUM2ArVBpABlftA9b/vruvn6WfqAeyF7ant7evY6JPkmN862srU1tAA0HfSUNco3fzi5OfB623uau/w7kTuoe4X8Zb1CfvDAG0GNgwhEqUXwhuVHlcgPCIsJK8lvSZ+J8soUCu7LocxDjI8L4spMiESFyAMfQGR+Z/1yfTv9Tb3e/db9wz3v/Zd9rz1hvSr8nHwC+5i613pW+ny657wrvRg9SvysuyH5zTk3+Jb49DkS+fr6gvvyPKN9TP3N/hA+U76EvsJ+8z6d/uq/WkBuQXkCYMNMBDgEW0SFRKwETUSORThFxQcMSB/I6klPSd0KOAoLyhPJdwfVhiZDxYHQP9Q+bL1FvTl8130Z/Tj8+7yT/Hn7mTrE+de4lTestv72kfc196a4RDkFuYm55PnMuhz6X3rLe4x8UH0wveL/AICRAfVC1gPbBFaEkgSzxF4EagRjhL+EzYWnxiFGmgbLRvgGSYY3xWOE3oRIxDhDzkQ9xCpEdARVBHVDyUNXglXBHr+nPh285XvxuzB6snpl+lF6nnrpOxv7cDtXO0z7B/qnOeW5eLk+OV96NzrZO888jD0YfXH9b/1DfYC9+74Qvy9AK4FYwrcDqASMhXSFmsXgBfrFxwYbRfdFe8T3hKrEsIShRLkEGkOsgviCE0GKQT8AtADpQbQCqUOmxBMEFkOvgu6CBwFagEv/kb7Z/jL9GzwD+zV6Azn6+Vl5Dzipt8i3fPaadnE2JbZRtzT4IzmJ+yY8Kfzx/WL90n5GPsE/U3/vwIMB6ULHRB9FCoZEx58ImglJiYdJTsj8yDjHj8dKRzMG/4bQBygG4IZ9BU6EewL5gYQAtP9svr9+O349/l8+zL9Ff+3ACkBHwBy/V759fRp8L7rleda5F3ivuHq4XPi6eL34q3iQuKw4TXh+OCR4Ybj0+YU64jvyvMe+IH8rgA/BKcGFAhMCfYKlg0bERsVXRlVHY0giCLEIishUh5NGxkZkBegFu4VDxVoFPMTWRNJEqQQ+Q6aDUYMiQoHCMUEgQEM/+v96v1h/ur+//5D/sP8mPoK+Gf1u/LS71/sfujO5OPh6t+X3qrdD9173EHcZdz83Gze/OAu5LrnCeut7cjvrfGY85D1hvde+Y37Z/5bAkEHogzhEcYWXxs8HysiNiR4JVcmMScQKMoojCl2KmUrHiwmLOkqgCgvJQ4hTBwCF+oQPQpiA4z8S/Yw8abtw+sO6+3q0uq36rrqf+rS6WvoWuZZ5L3iUOEi4A7fTd5p3mrf/+D74iTlQecR6VfqvepC6orpFOlW6aLqf+z17hXyx/V/+ikAKAYzDDISuBd2HEcgCCPtJIsmMCjbKUYrOix6LFksJiz0K9YrVivXKUUniyPjHkoZwBJlC3YDqPu/9EjvcutU6ZDoEOly6hHsg+0d7tjtQe1C7OrqRukF55zkuuKN4UPh0+EQ47rkluYa6PvoSOlF6UPpRuk36evon+jV6NHpqeuV7jXyWfYU+///wAQgCQYNehD4E8gX+xuGIGUlfyqhL9Q0tzlVPvFC80ZPScdIBURcO/gv9iJxFfUHrfrV7r3ly98M3Zvcad0u37jhjuQS58DohOl36SnpsOjM56DmrOU85fjl7ud66gftE+9V8Orw3fDm7xfurOsX6QnnNebF5gvpFe188oX4eP6JA2MH9glKC4wL1gq+CeQIFgnKChcODRNyGdYg3yi5MIc3mzwTPxU+lDkFMmUofx4OFYIMygTZ/fH3U/MD8Jzts+sw6hvpd+h56NzoaOlM6nbryOxd7tjvJPFM8mXzofQP9i/31ven94X2jfSz8U7u9ept6FXn4ue06arsWvCJ9PX49vzI/08BXgFtAF//fP48/t/+rgDGA0sIMA4KFXMcziM2KsEu7jCdMB0uSSp5JSogwxoKFRUP+wi/Arr8XveI8j7ujOqC52LllOQ05Qvn1+lV7SLxDPUe+eH8FAA/AhoD8gIiAsQADf+6/Nj50/b083Xxte/77nHvI/GU8zX2ofjb+vj8EP/VAP8BMAJ4ARYAjP5l/fH8kv1E/9gBBAV0COgLXQ/TEgYWgRi0GTYZFRe8E98P+AssCGwEfwCD/Jz49fTh8ZzvNO6o7dDtb+6P73jxUfQ0+Nr8uAFwBpgK8Q1UELURAhJHEYoPEg0cCv4GAQQjAW3++vsH+uD4v/hE+S76Qfs1/Az9vv3//dD9Vv2z/N77q/rw+OX2QvXN9Pr1Ufgb+839OQCoAiAFZwcICYoJ7AhXB/4EJgIX//j7CvmU9oD0lPKm8NLuX+2T7L/s1e2m723yGPZR+tP+RwOyByQMmhCsFNAXnRlOGkga2BkdGcAXjBXHEuIPZQ2OCxoK7QioBz0G9QT6A1EDJAMgA9sCFQKdAH/+5fsK+R72GvML8GnteOuq6hzrZewM7rbvRPHY8nT01PWs9tT2YPaV9av0ovOQ8oTxufA38B3wYvDl8Pjxn/PU9dL4dfxUAFgEPgjiC4APGRN2FoEZ1BtrHW8e9h4dH/AedB65HeMc6xu/GlQZrxffFfwT3BFXD3MMZAlYBpED+QBI/mf7Yvg89Rry3O5j6wPoFeXp4nvhgeDB33Tf5N8q4Qbj+OSF5sXn++hM6qDrwuxp7aDt1+1F7iDvZPAr8nn0RPd2+tP9VQEgBUoJow3qEbcVAhn7G8geQiFMI6MkSyWbJaAlXSXSJN8jfiIAIVUfXh0SG1oYIBWZEfYNMgpVBm4Ckv7y+r338PRq8iXwAu7v6/Pp8ufh5f7jcOI/4YrgIeDe3+/fVuAm4YXiLeT25c/ntemZ643tfO9E8d/yWPTa9Wf3DfnK+sP8Mf8mApgFPgnCDBIQSBM+FuUYBBtrHD8d2B1mHgQfiB+fHzkfZR51HYscoRuGGgkZDBelFOQRBw8tDGUJ0AZPBLYBHP99/Nj5U/fk9HzyMPDs7Z7rVekE59Pk8OKK4bDgV+By4Nfgd+FX4mTjfuSj5cTm3+cv6arqSOw67ofwHPMB9ij5jfxVAJsEGglkDSMRKRSNFpkYUhqzG7ocPR1jHYMdpB3GHfUd6R2VHQIdCByRGq8YYBa+E+8Q8w3oCgEISgXWApUAef6F/Lz6//hF95L16/NO8sXwP++e7QTslep66cLod+hx6IborOj26HDpBeql6jLrvOtW7BPt8e347lXwIvJZ9M/2UvnB+yT+fADLAvsEEwcdCRUL/QzPDn4Q/xFSE3cUhBV+Fl4XFRihGNUYuhhRGHkXSBbtFGQTwBEfEGEOjwy4CscI0gb/BEEDggHB/9X9zfvP+eP3EPZd9MzycfFf8ITv2u427qHtHO3F7Lfs3+wh7Wftq+3w7U/uu+5E7/HvzvDs8U7z1/Ry9iv46Pmu+3z9SP8FAboCagQTBrEHRgnNCkMMsw0LD0MQYRFVEhQTnRPbE9sToxNDE8ESGBJKEVAQIQ/MDVgM4gp8CREIiwbnBCgDXwGl//39YfzI+j35z/eI9nD1lvTY8y/zo/Ix8uXxx/Gw8ZvxifF08WLxVPFa8X3xyfFJ8vryzvPT9Pj1NPeM+Pf5cPvm/ED+ef+kANMBEQNsBOUFawftCF8KtgvpDO4Ntw45D3kPfw9bDyMP4w6rDoQOSw7rDVQNhgyZC5QKXgkACHMGvQT3AioBXf+m/Sb87voA+lb55fiJ+D/46/eL9xL3ffbM9Q31avTn84LzPPMN8/zyF/Nr8/Dzp/SA9Vv2Ever90H4+fj1+Rr7Wvyk/Qj/fwALApgDBgVMBmkHYggsCdoJYQq/CvYKGQswCzwLQwtAC0MLTQtKCxQLsgojCnMJpQiyB5sGdAVLBCgDDwIBAQsAMf9n/qL98fxR/Ln7LPud+g/6i/kB+W340Pcw96/2YPYy9hr2HfY99nL2x/Yn95f3F/iX+B/5v/l7+k37H/zr/Mf9sf63/8IAwAGkAnoDNgTXBGMF4AVABogGygb7Bi8HVwduB3EHbQdXBzkHHAfxBrcGagYQBqcFPAXFBEgEyQNLA9QCVwLVAVUB1wBlAPf/e//0/mL+z/08/az8JPyO+/r6ffoI+p35SvkL+eb44/j0+Bz5T/mF+b35/vk/+nj6y/or+5z7G/yr/E39/P2y/lv/8P+AABYBqwE/ArsCKgOVA+oDQASMBOAENwWBBcYF/QUnBjcGNAYoBgoG4QW9BX4FLwXLBGIEAASdAzcDvQJOAuEBdAEHAYwACwCU/yT/nv4O/nP91fxN/OP7lvtH+wT71/qn+nv6TPo4+k36g/rL+gL7SfuP+9L7F/xw/N78Q/2U/dj9If50/s3+I/95/7//AwBdAMYAMAGJAcoB/wE2AlsClQLgAi4DfgOtA7sDvQPZAxEEXgSwBO4E/gTvBLgEoASZBHMEOQTLA0MDoAIgArUBRwH6AKEAMgCu/w//jP41/u39qP1u/R39pvw1/PD74vvv+wH85vu1+5H7jfu2+8z77vsJ/DT8ZvyK/M/8Ef15/dL9Cf46/nf+y/4W/3b/y/8iAHkApgDeADcBsgEjAn4CzgIDAy8DUwOIA8sDFwRSBHYEigSCBG8EawRzBGUEVAQvBPQDsQNjAxQDzwKOAjICwgFiAQUBoABWAA4At/8//6n+Lf7Q/Xn9If3W/Kb8c/xD/Aj8w/uP+3r7Zfsj+wz73/q3+qH6rPrS+sr63voP+2z7l/va+0f8yvyf/Tf+gP69/gj/r/97AFYB2gEsAqoCKQPSA1YEyAQEBVYF6QVCBoMGlgabBr0GyQbPBsUGggYtBtoFiAUiBbwEegQVBJAD+AJtAhYCrgE0Aa4ACQBt/+z+b/7h/Uv9zfwZ/Fv7xPoH+nL53vhr+Or3dPdD9/z29vbZ9vb2PPe491T46fiD+ar5Kfq9+pX7lfxw/Tj+2f6+/4QAUQEpAvQCrANFBAAFuAVVBhAH1weJCAEJXgmNCZkJoAmOCdgJIwoqCqsJ5Qg6CLoHhQdmB2QHCgdEBhwFIwRGA50CMgL3AbQBBwEcACT/B/7u/BD8evoI+Lr0U/LZ8EzwhO8W7Inof+Zn6N7s7/BN9KP1ovb19p33mPgL+Xr6xfuh/X3/VAF1AyMFGAeNCNcJygquCzANsg7iD8wP6Q6BDdsMSA34DWoO+A09DTgMaQstCu4InAciBsIESANyAmMB6gAWAAT/U/6r/Sf9bfzY+8P6jfk/+Ar38fUa9WT0ffPW8rTy7fIs84Hz3PNC9Af1x/Wf9qP3o/iH+Q761/q1++r85f1Z/8EACAI7A6kD9wRsBSUG7QZ9B3II7gj4CSgKeQqRCjUKRgrgCdMJiAnXCJIIVQiiB6IGAQaFBa8E5QNRA8wCXAKfAe8AcwCn/7z+xv00/Ur8Y/vC+uf58/gG+MH3TPcG9+z2hfYT9tH10/XT9Sf2Fffv92/4tfhB+Vb6K/sr/H79v/69/6YAaQECAscCzwNbBM8EhQUWBmUGmAZHB8UHQgh5CIAIOgjLB8kHLAfXBrgGxAZwBgkGtgWlBC0EkgPrAlwCPgL+ASkBhgDm/yj/Xv6//fv8gvz2+0L7pfoq+nH5kviq9772cPZv9qP26PZ49273Afcr96n3Q/iD+G355fpS/B39wP0U/w0AOwGzArUD+wNqBC8F0wXVBkwHPQf0BrsGsQacBjwHwAecB5YGuQXsBR8GMwaXBhMHOAbDBL0D/QJnAnwCDQMVA+wC/QHeABsAzv9k/7j+S/6U/dT8Af33/QT+gfyF+rb5BPkP+G33bPdY98n3+veC99j2GvYm9ef0lvf6+Q36lvi/+cT8eP6B/jX+//6IADsCIQNuA28DUARLBYgFvQUbB9IIzQkoCpIJxQjYCEMJbQmrCaAK0goqCU4HEQZqBs4GXgZkBdAE7ARaBCoDLgHc/5j/Hf/J/cn7W/om+sv5afjq9lj2afZK9sn1BPVl9ADzl/Fj8f/xOPJ58hn09fUy+G/5g/nk+Y77qf27/hkAAAI7BO8E9AQYBv8H4AgOCTYKMwtCDD0NMQ6qDUcMGAs8CkgKngooC8QLngyrC9YI2wX7BJQFBwUqAz4B1wDIAJT/1/zP+rH6Yfrd+Af3MPYc9ub1MvUj9PXyFvIb8rryU/NK9DD1v/X99W72BPeR92f4RPk++kb7Af1+/sH/agG7A0sFhgZ7CB4KhApDCosKhQppCv8J+QnxCQYKewpKCtcIOQfbBrkGEAXmAvUBdQJdA3YCIwDq/qUAxQIFAxwCHgF4AGEA0v8e/wj/2/7f/Rf8zvol+k36APr2+Lv3w/Y/9l320/ap9j33KvgC+Br35/Yi+J/5cfp9+rr6tfvu/K7+0P9mAGIBCQI3A1cFVwcdCEMIZggZCMwHbAjnCXQK5wmhCRUJ7AcWB5oGLgabBaEEWASYA1QCdAFHAcAAqP+a/4b+hv1R/RD+Nf48/c/7avo++kn61fk/+bT5L/qv+gr78vou+lT5gfgf+K/49Prd/Lr8cvyS/QgAUwCb/tH8Rf7hAV0EPgRcAtsB+wOGBokF2QP0AxsFPgV+BEIE+wShBfUEOgQzBHsEfwTjAzQCsQEPApsBYACP//T/AAAl/zT+l/1v/aj9Jv29+6X7kP3L/g7+lvzY+7P80f1O/Uf8p/yt/hgAFQCV/iz97fyN/Zb+BP+B/2v/a/+C/zEAzACnAGEAtQCSAeYBogFiAdABiwEMAYsAAwHqAa8CDAOuApcCVgJEAiICiAKgAtcB2ABlALgABAH7AIUAhgB5AN3/C//2/h//TP99/73+4P11/bn9C/6Q/iL/bf6W/ZP9UP7U/oz+if5U/iz+Tf5t/mD+G/5T/k7+NP4G/hL+Bf8LACsAlv/B/0kAkABAAPH/vQBrAl0DiQL+AcYDNQZxBigEyQJ+BG8G9wUDBI8DXARVBPABwf5S/iQAWQEeAOn9Xf1v/ur+PP12+y/7P/y7/MT7H/u7+xn9L/3a/Gn8ffzW/Dv9sf0B/kv+jP7U/ln/VgD4AFoBigCQAIIB+AKpAm4A4/4n/rj+MP9K/53+wf4WAFIBegHxAOcAXAEMAnACmgPMBB4FPwWtBSgGzQWGBEgD7gK/AnsCTgJoAXgAdAC5AP//0/6K/rb+lf7J/Tr9Lf3x/MX8z/xC/Pn6Z/or+5j75vrS+rr76fyZ/YT9mv1Z/rf/YAAQAM7/PgCwAE0B1AFLAswC5wFzALH/wQDaAegBQAHaADkBlgGHAX8BAAJaArsCmwKkAuICHAMsA8gCngJZAucBjgE9AY8BoQETASQADf+s/gv/Rf/q/mH+lv0e/SP9UP32/IH8c/yw/Ij8c/wW/fr9YP46/iX+Sv7F/ij/H//5/sL+6P6//5QA/QDvAGsB5wHoAX8B8QC4AEIBoAExATQA4v/KAD4BNwEYAZMBxAGEAQUB+ABLAZ4BkQHdAF4AdwB0AQsCLAL+AZcBJAG9AIUAlADCAPYAtQAaABMAbADGALQABAA0/73+sf6r/qj+2f7y/pz+Y/4O/p/9xv3g/UH+gv39/MT85/xv/W39iP3V/BD9n/05/sL+3v4L/z7/nf/S//T/gQBKASACiAEmAX4BcwIDAwsCcwFJAaECCQPEAnkBXQFxAvQCrAJoATYBkwF3AmoC6QEIAeYACAG5AfgBlwEsARYB5wFjAWgBdQCJAD8BvwEhATj/Lf9X/1YA4/87/2z9Z/tu+tL6ovxy/K37kvoP++37+/sv++H6R/v6+zX8y/zu/fX+kf/m/vP+3v6k/4f/uv+EAEkBawGUAGoAugB5AfYBiAKIAs0CewNHBE4ELQQuBGAE4AQdBXoFkwXgBQYGfwW6BJcE8QRSBSIFfwQ7BHsExgQgBNYC7QGSAWABegAk/1/+uP3k/H/7Rfl09xz2dfXC9ODzYvPy8rDzsvPe8x70tfSh9Rz2/fbP90L5WPrL+y79P/7f/s7/KwEVAx8FWwbCBusGcgieCeYKywvoDOYN8A38DcANOQ7qDUgNRAymCxsLhgqPCVsIyQfDBrUF/gPaArUBMwFPABv/Bv53/U798fxe/Nr6Y/mI9zD2y/QW9JHz3vL78fzwEfGs8SDyAvJa8avwGvC/74vvZO+770DwifFu86r19/ef+lv9iv87AZQCVQR8BoEIHgq5C84N2w/NEWwTrxRaFssXrhiPGHAXORanFTwVghRZE1sSVhFtEIAP3A0MDK8JvQYaA0T/Ovyr+n/5PPi49mP1XfSY8+3yN/KT8WnwXe686zXqMOos68vrouul69Trauzw7JztY+6f7jHufe1h7ZTtIO/C8BDzm/RA9nz48/qj/tkAFwOWBBIG8gcXCo8NlhGEFc4YxhqZHS4hiiTvJlQnSSf6JnsmCSVuI30h4x9/HekZUBZyEsgOJAohBeD/Ifsq9xzzku/A7J/qIOkg51rlDeRA447jcONh41jjwuO85AzmLOdZ6CvqW+ux7Nzs+OwE7Vbt/u3P7jbwLPFE8inzZ/QM9g34Xfld+oD65vrE+4/98P8wA6AGhAmFDNoP/BM5GFIcNiBAJL0oLi0rMWY1hTgNPGg9oz3OO904lDWUL3MmpRkODAMABPcJ8ITqkeUm4/jhieGd4A3fw91J253YZdUl1GbVq9hE3avh+eXg6UntL/CQ8jP0zvRX85fxOvB88HLxAPJy8lfyXPNM9GL1VPaB9vH1w/Tw8t3xX/Gd8jT10veg+h39sAAuBIoI7gwUEpQX2B1CJPIrjDNQO7pBgkbQSidNMU8uTlZNFEk6Qj01HyRQEukBu/Xc6n7i2tt42AXXate+1zPY/td91u/T1tCkz7HQZNRO2efeE+WV6gLw0fR3+OH6C/tD+XX2KvS28970vPbd9yb4hvgF+d346fc49vzz9PHN797tyez17MPubfET9Db2yvcH+q78lwDPBVUL6RFkGGIfvyf+L/I4HEFrSKNOAVJ2VLZSnVAZTPFDFzfHIxUQCv668f/oy+Pf33Dd4dsE23/adtqB2vTY79Vz0UPPy89B1OPao+Jn6hjxsfb1+jr+0/+N/gX77/Wz8SXwN/Gi9JX3kPmn+iL6LPn29hf11/Iq8O/tVut16gXrmu1v8XH1kfhO+/n8r/6TANgDFAgTDb4SzxgwIAwo2zCUOPk+L0NFRnpHB0h4R95F+0HGOvctLR1tC+D6wO4v5pXhtd723cXdDt844KHhUuLb4Wffvdz92l3attx54ETmPewC8pv24fqQ/bn+jv27+rT2/vLM8IjwNPKk9Gb3EPmm+fD4rfc69rD0gfK48M7uvO317RjwPvOg9rf5oPvG/JX9Ov/SAf8EsQitDfoTgxv3I8EsOzQeOn09lD/aPyA/XT3OOoo33zA0J4cZmQpB/XLz5uxj6MPlyeQY5SfmJucp6NLpBOqe6KXlA+Ic4JTg5eNd6OvsAvFf9BH35Pg6+s75Gvda8p/twerS6s/tjPJQ9//6eP1w/l/+Ef3q+j/4C/V48YnupO3Z7h7yG/ZE+U37bPx0/d3+4gCLA/IGTQufEBUX3h4pJz8vejZPPPE/6EAvP1E8xDgUNAQtmSFnE1AEoPh/8TTuZO1E7bHts+1N7QTtiuxm67vpDOeO5GniKeL145XnC+z27+7yKPSt9HD0J/Qn8+zxZvA37xHvoe+u8vf2MPvl/YD+if3a+2T6C/mI97n1r/SN84DzQvOL8wr0C/RX9E30jPVS91r6Dv9PBQQMtRIMGTUgrSc4Lxo1ujjAOsw70DxkPOo5+jSTLWsimhXlB4D8JPWj8I/uu+1e7XzuOPCy8Pnvl+3q6qvn8+TS4iXiMORV6Kbt3vIe9jb3WPZl9DHyIe9K7IjpcehH6qXun/RH+iP+fACjACD/Hfw1+Dr1VfPn8hHzZvP485/0r/WT9uP2g/Zt9Qb1tfa8+msB/Qg+ECAXDh1cI08p/C7aM9U3mjlKOYc3jDR3MYctfiazGpEMmv/G99D0RfU99v32FvdC9qL0NfI48F3uFuyP6JjkBeIi4zfnN+1m8k313fVi9OzyS/Lv8Z7wU+4t7E7r0exs8I/0Q/iT+m/7+vqo+ab4kPgS+MT2h/Tk8mjxivFr8nzyiPJ88aXxGvLI9F35b/9tBloNXRSzGywj1ikGMG00VzjBOY86OjrxOYo4DjLhJmMWZQaj+dfyx/B28RL0O/eY+qj95P8EABv96/bf73Xo6eKE4E3hvuQ06VjtsPDu8iL1R/fp96P2UfOG7xftQ+0j72PymPSB9Un1jfTa9LX1gfec+E35UPhB9gr0DfIx8Sfx2fDC7yzuhO2k72jzyPiZ/lsECArCD9EVaBzlItApfzDGNZ45UjwNPl0/jD82PZ01Wyg1F4gFivhd77fsou3S8Ez1SviZ+kP8x/xh/OX4vPHy6XDi9N/d4L7ktOnO7aHwr/Hv8cvxg/Hz8KrvMe2S67Drce9G9HT4Jvu5+hH5SfdG9mv2NPag9YH0rfJY8a3wz/B58VXy6/IC89XyLfPR9GL3WPtuANIG3Q1UFTwdKyVwLYQ0YTrVPoJB90JrQy9BijuJMLYhyBApAWX2YvDk78vxFPWq+Hj74PyW/UT80/jC83Ttnucy4yziReSB6KzsxO9D8T3xifAl71ftEetA6BDnNedi6UztCfJL90n7Lv4o/lz8avkG97X1TPQ18uvvWO8y8B7y5PN19WP2T/eB9+b2JvY19qP45fw8A74KyBNWHfglry0tNGc57jx9P9JAQULCQjpA4jc1KPAUyAIo9qvvD+4y7wby0vQ8+Mj7Sf76/pH8TfeK75fnw+Ea4JTi/Oes7QzyUfPj8s3xdfBn7kjrr+c+5JviluP35/ntT/Qg+aD8+P22/e/7nPk596P1APWO9N/zu/Lj8qnzp/TE9EL0kvO58830tveL+0wAkQWrC3MSlRmtIbkpYTBtNT051ztDPm1AQkL6P6o3Hij4FTEFyPmO9HPzLPQe9l359/sG//z+0/43/AX3gfDh6MLjVeJn5FPoV+wQ7uLubO7y7eLtae3E7J7rr+ns55HnwOgn64LumfHr8y32vffl+dr7f/zM/OX6JPh19Q7ze/Jb8ibze/Ri9XH20veE+e/7Uv+TAoYGMAqNDpMUBBxuJH4r4DGhNS468T4CQ3VF3EHbN1EnJBRQAuz1qO/B79ryLvcN/Bj/BQI2A5cCaf+l+A3w0+dy4hHhhuNc6Nvs2u/G8EXwP++67Srsguqw6Ifn4+eg6drsbfCM9On3t/lZ+vT5qfmj+Tr5fvh29obzQfGd77Dvu/D18o/12/dQ+UT61vpd+xX9av/FAtsGFgxdEvkYih9tJQAr8y/HNNQ5JT6HQaFBAD23MeQgPg7A/kD16fEe80L2/voI/x4D2AU7BqkE7v8u+Hnv0eY54ULgSeKw5ZjoB+rQ6RfpMOhd6NbotukY6vnpO+oH7KHv8vOo9375Vvrf+Qv5JPmK+Vj58fh+9qfzY/Eu8U/z9vV8+M35v/py+8L8Sf6uAB4CRwSeBhwJeQ7fFeYeHidlLRQwgTFkM0s2GTnrOF8zlCgLG7INOQQZ/qT7X/tg/Oz9lv/vAbYDOgTLAhP/s/ig8VjrEueN5RjmsufK6I3oKefA5ZfkS+So5Pbkr+Vd5xjqie0+8dL0iPe8+PP4f/j29zX4O/n6+e75Xvhs9R3zw/EE8tvzr/V396L4xfnp+0v/9QLnBk8KVA1oEAYU1xh/HmwkhymOLa8v6TG9NH44fjpoOFIvciChDzoBQvnY9ZP26vjj+0f/SwNwBuUH7wU4AXb59u/95/jiRuPV5sXrW+4Y7gbrlOc35dfjb+LK4OjfDeHk5eDrNPLg9Yf27fXM9V72X/fL+L35QfrL+Uj47/US86rwu+848DjxFvMu9qT56P1jAiAHJQsbDsQQfhKvE4EVrhirHbcjrSlZL7A0aDmXPZQ+ijkoLwYhqRI1Boj93PhK+HD66/3TAasEmQYoBxsGGQJT+x/zWOyy6O/neum363Dtzu1b7AbqAObH4HvcXNow2yXeMeOq6KHttvHm9Ln2G/cO92r3aviC+av6yvpn+Ub2OfKK7ovrgOoC7FHvu/O/+M/9sgL9BssKgA7XECwScxPfFeAZ3B5gJPEpky5cMmk1hjdBOCk2+jBwJ+EaSg32Aq/9B/wV/Rv/JAFNAhsDMgPiAcT+kfrh9Y7x2O6V7iTwWvJT81ryRu8X6pzkFuC53brcgd1733Tij+bF60Tx3fUs+F/3EPa986byqvMs9Sr2xfUq9M7xle/Z7UTtDe7X73PyW/aJ+gz/ewOUB50KjQzZDhgS+hUlGhke7yHjJUgp9SwMMHQyJzS6NUY1STGqKIoc8w9fBN794fro+oL8Fv6sANECrAP4Aq4AW/1q+VT1gvHB7pLt4e2K7orttunI5ELgTd1U3bLemOEw5IvnJ+xq8A704vWN9eLy8+8e7tzuvfFe9eP4ofpY+YP1NvHZ7d7rw+yo70rzffdz+xkAbwQaCEALJA6oEBIT/xVKGdgcxyAaJesouCuxLeovazMkNqU1vzBeJrYZYg18BIz+hvvP+/v9nQEIBWgI2AkNCQQG8gBs+pDzZe7O69Tra+yV7ATrT+cq44Hf+t0e3jHfvOGM5J3n1eqP7fTuaO6M7Dnr4ut27hrz6ffE+vz60vgk9Qrxre3762/sKe/d84r57/79AlcFqAahB5AIfAo5Dd8QHBXtGd4enyNSKE8spy/8MPYwmy9kLZUqwSXOHmUVXwuZA5//h/93AjIGJgnuCj8LjArECIwFAAFV+9P1efHW7tXtw+1U7D/p2eRB4Hvdldw43gfhDuRM5jPoiOmt6snrTOyA7BrtwO5U8WD0Qvab9qD1IPQS8vvv2u7/7rTwZvRT+BH8wf9AAjME8gRlBOoDxQS3BxsN+hNGGnMfoCOKJtMo+ykxKqkpVymAKawq0iqwJk8f9BSEC1EEUwE+AnkEugemCiAM4Qs+CgQHkwIF/Wz38PE97tnrCevG67brk+r25+zkceKE4WniVeNS4yziFeEO4XjimOVw6e/saO8c8qT0WfZb98v3Sfeu9fDzUPPP82P1g/hW+7H9GP5m/Qj9Mf1k/7ADJglrDgITCxdBGl4cPh4qIG8i9SSnJ/gqAS3fLDoqayT9HBcUrA1mCX0HEgnjC0sPHhAxDwUNrwqqCKYGtQNG/or3Z/F87Tjrkeqm6ofqf+nZ553md+Ue5H7iNOFQ3+rc+duK3A/f8eKy5zXsUO878ur0s/du+SP68vnB+Gz3hfYD98T4ufq5/BH++v3o/Wn+WABcA6AGJgofDcYPJhMuF9IbLyATJDQnrSgyKZMotCf7JVsisx3MF7ESgg8tDikPQRDFEGQQ/Q7XDEgKMAjTBe0CMP+x+h/2QvKV70nuCe2062HpiebW5H/jUeMo4+vhUd+A3I3apdpx3I7frOOG5x3rWO7x8WT1BvnH+2b9O/3z+4H7s/v8/B7+kv60/Sz8ufoH+wf9oP9CAwIHaAuiEIAWQRx9IIci/iLoIpci7iL7I0QlOiUwI4ggshtoFiES9g4wDdwM9w1hD7YQDRBODhsLMQZ4Aaj9wPqW+Kn27fOS8FjsOejQ5AbiS+CJ323fld9x34rf7d9133Pf099p4GbijuXF6KnstPDD9PD40/uf/fT9xf6I/80AQQKqAeP/w/zW+sv5zvlq/NH/+wOqCTAPlxTlGCQbVRw1HMYchR6cIUsl9CcaKXonfSOBHugY/xNTD5cL+Qn+CFMKMg0ZEJgRdA9KC+cFEAGa/s/9+Pxo+mr2lfEg7P3mq+Lz33veA97P3krfb98f3+bf8eDu4FzhyuG94jnlqOnV7nXzlfat+Mr5H/vL/Nb+vQDmADUBkwAqAOL+If1G/PP7+vzj/1UEXwkBD44Ushl0G90bEhvVGiUdmCBXJIsm9SaQJXokRSO0IIgbShRhCzUEVwIyBTYL5Q/eEbsPkgpJBdsAr/1X++74PPZ38wPwpe2L6z3pYuV64C7cvNhw2F3Zl9ur3cHfG+Ks41Xl0+Yd6e/rie9e8uf0sff/+rP+lwFxA0YDCAJLAIj/9P5G/vD9wfws/LP8h/+QBM0K/xDSFdMYahm1GP8X5RfqGBEciiAgJG4laiVfJMoiTCHfHSYX4Q4ZCOkF2AhaDaQQ6hBcDTQHGwEh/M74vvcs+Hz44veO9f7xCe4U6YLkHeDb3Czbutta3kXhNuOU42ji2ODN4Ljh4eSe6KzsIfFP9vH6mv0KAMT/v/5j/on+HwBeAXYCJgJzAAD+lPtU+/H87gAYB14OoRRpGc0bmhuzGRYYMRihGVQdRSELJd4mviZJJR8iLR5zGXIUyA+8DIQLigs7CxEKDgcJA0T+8/kL93r11/WE9rL2ZPSG8KbrTud/5N7ihOJT4tbiaOOu45rig+D+3Vrc+9zH39Tk3+p78Gb1Avnh+tD7Y/xP/Zn+lwCAAlME/gRqBDcDiAHI/8X+2P4VADEDxwewDY4SvxV9FjwV9RNVFHgWIBqqHccghyOdJWEm9iTqIq8eYRpLFQgQlwtQCUQJlwk2CdkFWAG6/Ab6ePhq+Lb3GPbf8wLxKe6B6yTqy+ht6I7nWeYL5ebj++Jw4q3hQ+AL3xffWOHi5cnrpvAY9DD1cvX29ZH39/q0/i4C2QMkBFwDOgKgAXABZgFOAQoC9gNrB1QLrQ4vEHMP8Q3KDXIPixNmGYIeEyJOI7Aj+CPkJLMlmSVnI6QeVxmfFKQRkw9XDeoJGQUWAKj8Wvrt+Mf3FPbx837xfu7A61rqlem36UfqK+om6fHn1+YG5dDiU+Fo4JXg4eGx44blB+il6q/tAvH287D28/j/+gX8X/3M/oMAQwKdA0oE9wNoA7oCbQKyAvYDAAYjCekLqw2UDv4O0A9wEYkUDhjjG6MfzCLHJFklISWNJEAkJiN7IJAbuxVIEBMMmwnNB0UGqgQfA/j/Nftf9UrwA+3W60Lsmey27N7spO0x7inuUuzA6Onjgd9k3Zzew+Jv52zqr+rJ6NTm0uZG6SnuGPNU94P6p/xS/nH/2f+T/rH8vvtl/OP+yAFbBDUGQgbgBa4F/QVyB+wJJg1iEI8TRhewGgIdBx52HhAfRiBCImMkiia8J6wn1iRdH9IXIRBlCu4GVwZKB78IXAhtBOj8z/IN6VPiZOAQ4yzoge0K8djxT/Cy7BfotOOK4BTf8t8Z49Pmcer47JTtp+v76CrnWucr6+fxFvlc/j8Ah/7b+/f5Ivrn+zH+IgA1AY8C1QPuBNkFRgYcBuwFjAapCKsMahKnFyAbXR0FHfsb9RtpHVMgNiRdKHgqQyqpJ/UiexxsFTYPfQr0B64HkgjFCIsGaACx9zfubOar4urjvehd7gvy5vHN7krqmeZO5L/iEOJ04pDk1ecn6uLq8OkL6Knm2Oak6LLrF/AC9Rz5EvuY+lT5cviM+LX5M/u3/D/+gACwAtMDrQNcAw4EvgVCCNUKtA0nEQgVwxhyG1ccnxz9HOQdXx+vIfMkOCjYKgQrhCjXIgIb/BKgDF0JCAlLChcLQAkXAzf6UPGK6tDnFulc7HLvTvFq8Znv1+tj5x3kzuLY42jmpukk7MHsWOtB6JzkgeJI4z/ni+wz8UP0E/Vm9FLzAPT89Rr42/nh+vD7Yf0l/6kA6ABiAOH/QwA7AusE2AgpDTEQbhELEiYT7hT6Fz4bzh2oH3chdCOTJY8npyjNKOomrSGDGs0T8g6/DAANNw36CkYGgADe+j/25/Ks8EnvDO/W7/rwj/Fx8FLuzesu6RXnpea352vprepS6jzoeuWO45HjueXy6AzsSe6V79bvefA48ib07fXF9uX2Q/cu+D76z/zJ/rn//v8uANwAwQLWBbUJMA2eD/MQfhH+EW4TvxXrGG8c8R8aIx8lkyX3JEokniPkIuEguR26GSIWkhMOEeQNYwkxBKH/Ofzf+f33FPbU803xHu+67V3t3u0A71vvXe4k7G/pNufz5dTlseYm6G3pT+pM6rHoeeb75AnlZueE6wDwg/N/9Vn2xvY093D3HPcw97n41/v8/7sDbAWEBOoCKgLmArAFEwp5DtwRARSEFUoXKBp0Hh8jHCYtJvojriFoIXUjYyaRJsQiSBymFZ8Q1w0IDL8JrgacAtH+2Pva+X/4GfcC9Wbyy+9e7mruYO8T8O/uKuve5fDhbeGF5GPoiuqv6ozoMeZF5RDlu+U854zpR+za7ibx8vIp9B31R/U/9YD1Wvao+Bf8L//jAL0BfwEnAUMC9ARtCAkM/Q50EWET0hVcGaUd/iEJJaEl1yOeIfkfISG3I04mGSdaJAsemRVJDtMJjAhvCAYIrwb/BPwCVwCV/Dr4QfSo8XLwnu9c79nv3PBa8HPtz+fx4eHe+9/841/n4ugP6IDm8uWd5pfnhOhL6X3qfOwH797xTvQB9uP2g/Yu9Qj0e/RD93n7Tf88AZ8BcAD9/+sBrgXFCn8P1hL0FLIXnBtjINMjxSSAI2IhdyCDISck3SYTKCAmDiLpG7IVNRCaDCkKwggtCU4JoghhBcMAvPta+D725PT/84DymfFB8ajweO7o6njm8OLo4Irg3uFp43vkWOXM5cflweUg5jfnyOi+6vDsN+8T8cryrfOI843yqfGB8qn0jPeC+ur8jf6v/5EAGAHHAVIE7wh6D7oWrRz/H+IgyCA9IJEgnyHFIpskhCdOKnMrYingJAcfSxlQFCgPOgucCUYLCA4KDw0L2gKn+rD1pvQc9vD3U/dL9XXyF/Bc7e3qxujT5sblVOQg49/h4+Fc4lvj5uMF5Gbk3eWk6KTq7+sX7OjsFe528DfzEfUs9kr2T/Yp9v71Vfac+NP7Jf/zAakDOAQlBSQIyQyrEmwY/Rw7H+EeMx5UHi8gFyTQJw0qISrOKAgn8iRGIV8a7hK5DUUMiQ4OEqET9xAQC7IDpPwP+JL2Mvir+jr7zPim80Tuw+qH6Qjq4emj5xXkB+Fr3+veNeAz4bXhReKX45Plief86EvpOOm46cTrqO6g8nn1qPZW9uH0i/OV82X2Pvpf/loBiQLwAnsDdwUaCSEO/BI2F0MaoxtSHKYdqCA+JG8nEyl8Kfgo6Ci+KMom8yEPG9YUGhErER4T6xSTEwkPeAgNAk79g/rE+X76R/sS+kj3W/NZ747sMuu56Q/nxuNv4fzgZ+J84wbj/uBk3hPdMd7Y4AnjDOUJ5ybpnevG7oTxE/N983jz2vMi9Xj30vpQ/h8BfAIZAo8AR/9QAN4DZAlUDmkR+xICFBEVZBeTGpEdrCApJBgn+yjBKfcojycDJVchdBwjGL8UdRMTFNMUpBPUD2kK/QPN/tf7Yvsg/Cb9DfxV+ZD1fPFE7q/rbumE5kzk5uKs4lrju+Mt43Dhe99O3rPeROBz4vrkD+hY6zbuRPAd8Zbx3/Fh8671HPic+hT9nP81AdIBQAEQALf/TQFxBCwIXQuZDe0OchCeEfoSYxUJGPcaPR5MIfgiDiSIJKEkLCQmI/4g5h2eGo0XORbtFbcV5BPpD5kJQQKW/BD66Pru/FT+NP2k+NXxeOvE58zm/ecv6Tzpyuea5Yvj4OHh4NTfqd/c3yngBeE442DmMOmB63ns2uzz7bXwjvR4+B37LvzM/N/9Sf/dAKMC5AO7BLoFVAZZBpoG7QegCskNOxG9E2EVEBbLFiUYFBpMHF8eZSDHIUgjLCS7JCQjah9yGpUW1BSVFNAVPBW7EcYK6AIh/CH5lfo//skA5/5t+Gjvbegy5RLmUul865PqrOfr5NziAuLU4V3hj+C53/rfXeHx4/vmVOmg6nnqg+o/7E7wX/W4+ST8mvw5/If8c/79AAkDMAS0BHcElAQxBXcGUAhkCpYMvQ5uEK8RBxOLFJ4WrhiWG0kexCAEIwslRiZIJgwl8yHwHfsYeRUVFNkUMxWwEzAPaggeArP9d/xq/AX9NPxF+tD2aPIn7uXqXOnT6BHp5+fE5aDj4OIt47ji7d8C3JDZi9rk3lHkPOgM6T3o3OcZ6bPrmO/u84j4q/xF/+D/4f4p/h7/LAIwBcMGggZDBeUETgYcCbILHA3TDeMOERGuEykWfBiYGtUcSR95IiElsydpKWYpkib/INcahBUsEwMTLhTsE2sRrgw2B34Cu/53/JD7JfxX/Jf7Cvne9Orv9etx6R7oYOf85rDmsOXl49PgYN2Y2rnZINuF3jLixeQ35uHmSefc6BTsdfDK9IP46PoD/F38kPw//TD+v//QAMQBPALoAgEEaQXPBn8HKQgeCTwLLg4gErsVExg4GsUcrx+EIq4kBibZJkonxCYSJLUfPBqNFagTuxSJFgQXBBWVD8oINQMUAEb/ewCAAYQAbPzd9RjvM+pn6L7ozOmL6fHmoOKu3qnbAdqB2XbaM9w13u7ft+Bg4cLi++V16WvtpPBy8032Qfmg+8b8+/x4/Pb8FP89Am0EigX2BLcDrQLdAioEdAbLCesMpw+AEUgTlhUuGfMcRiBkIqAjDyUNJrAm3SRjIIcaSRZpFeQWVxkCGqwXiRK2DGcH5wPyArID7gS1BMIBG/yw9Z7wC+5x7RLtUesl6Ejk1eAA3iPcOds02y7cot3T3obfH+Dt4CLjmea26pLutvEv9CH2t/dM+VD6bPtL/Dr9hv73/1wB7wHuAWcBbAEIAm8DVwVLCNALew9OEhoUDxXyFVwYkxwBIdIjeiQvIxsigyGEITAgsx2OGg4YQRbuFAYUrRItEaEOAgzGCD4G1wMDAvP/SP27+dD1p/Jd8Oruruyq6fDkbeB73Pja9NuN3jjhUuJX4azentxw3OTf0uXt7JLyrfVt9rz1U/Wq9Sf3Hvko+7L8Qf6R/6EAHAG7ACn/Nf15/NP9bgKqCF8ObBFOERMPHw4pEOoUCxtiIJMjvSOjIhMh6x/YHmsduxruF5IWnRbdF1EYNRfjE5cPWAswCHwGlwX3BNQDOQGE/TL5FPUH8grw1u166mHmduI94BPgP+Hc4cDh8d+63WPc4Ny838LkxOrd71/zjPQH9CLzh/Pu9Cf3ffmN+x79NP5C/qj9jPxl+1D7f/ws/wACJAXhB0gKzQsmDVEOUxBoExAXCRplG4YcHB0AHgkeWR0aGwQZsBcYF9IWdRaBFS8UxhPIEiMRVQ6CC28JqAhaCCMHpQSbAVH+Avuo97Lzgu++677ohOZv5cbkE+Tk4sjheODH32/gSeLC5D3nBOrC7Mfv1vJT9WT2L/Yv9YL09/TT9ov5Kvyn/YT9v/su+pv5hvo4/UYArAIuBMsFewfdCYMMkw6mD7EQyhFhE/IVfhjGGhMcEBw4Gh0XERQqEpESHRVUGH8aIhovF70SEQ6WCokJKQuJDhURWxDbC2IEl/zD9hD0HPPB8v7x4++37Hvpe+at4y7i1+Fu4lnjqeRV5svo0+sB7h3vee9/7+PvW/Eh82T0TvXn9Xf2BveB94X3Tfds99D3C/nj+gb9g/+YAQIDmQMjBIoFUwjeC/oO2RCwERgS1hKJFMUVthZ8FwwYwRfuFk4WihYWGWIcnx08G/gVkxCJDlwQ5BOrFtEWSBPODF4FSP43+W/3jPgM+rz5IfYs8HPqx+aG5avlFOZo5vjmJ+ia6W7qlOp+6rfqsevU7T3wMPI18wLz4PHe8Mbw//Fl9KT2uPeC98j2R/Z99sT3bfkV+xP9NP/4AI4CMgQCBgwIxgkZCxwMWw0VD1IRrRNEFQUWqRbeF08ZWBr9GvEajhpTGhga0xlLGRkZHRnkGJQXbRQ6DzQJWwSSAZoA6P9N/g37Jvfd8ivvpey367DrQuxT7VHtWez06j/qfuoJ7DvtjO0k7XzsYew+7bbuu+/b8Krx3fFx8RrxEvGZ8c7yA/QC9db1ofbQ9375B/tf/GL9Yv6B/3QB4gNrBksIbAk3ChALcw2KEZ0WnRqkHEQcsRpmGZ0ZjxtWHucgCCLQIQMgeRziF4sT6w94DSQMMAvZCXsH6QPT/mD51/Sw8kzzhfVZ9+j2O/Td7+HrMerU6rrsze6G7/LtBuvk54rm4+cC603uJ/BK8AjvC+6T7Wft0+0H76fwJvJ28+/zLvS69Ij10/aV+N759vqz/MH+kABVAtEDJQW9B30LMxCfFOYXQxl0GREajxufHoQisCVuJ9AnViarI0cgYBwhGJcUaRK+EaYRWhCgDL0GEQAO+nL2yfVr96v5OPsc+ib24PBi7BjqiupD7Kzt8+0l7LTpQefa5Wfl9+VW51fpuuut7Zjuqu2V633pVukv67LuPPKC9AT1gPTm85HzdvRH9rv4B/vU/Av+iP/aAf8EAwkpDWYQlhJjFOwWmhoLH5wjIyfJKRsrsirUKGYltiHwHoUdEx1RHHEaAhdhEmINkwigBJAB0P/p/gj+d/yk+R32qPJS8PLuYO6A7TbshOqJ6Krmg+Tf4vXhAOL44pnkSOYP6MPpWOtn7Kjshexc7PbsU+5V8EbyoPPj89jzHfTT9Kf1nPbA95H5cfxO/4UBJAPoBJMHdwvMD8MTeRdMG/QeWSJVJfInpyreLZEv3y1PKGAgEBpAGJ8aMh7kHisbyxNlC70EdgAk/4f/dgDj/wD9PPiq8ofur+zd7J7tTO0p6y/oe+Xa4wbjQuIs4UPgxuAd41LmLOmA6lPqKer26vfsoO/Q8crylPLa8cTx1/IW9Vv38Ph3+Vv5MPld+Y/6Bf10AO8DxQagCHQKOg2yESQXWRyQID4jyyWjKBAsjS+JMVYwECtlI7Yb/BdIGb0dkyFfIHoZqQ6oA+T76fio+lP+aAEVATf8QfQQ7JHm9OSo5jTpReo66aTmCeMO4FfdAdtz2jDchODP5ZDq4eya7EvrC+qH6iftdfGn9dP4qfn49x310vKO8vT0Jfno/Ov+t/6d/Zn8af18AGkFQgumEHkUkhZrGL4aQB4WI90nMSynL7gx3zHkLlkpNSIZHB4Zqhk4HCUe/hw3F9oNjwOe+2H4r/mP/bEAIAAC++zx3+ga4x/i4OR66DjqAel15YPg6Nt62YXZ79sD4K7jQeZ551jorOmS687tme+F8V/01vfU+nP7QPnl9ZHzyvOn9lH6d/03/63/6v5m/Z783P3IAkUKFBJvF3cZZRmxGVYcKSH9Jo0sOTFONO406jFqKvIgcBnHFmIZjR1sH2YcTRUcDCwDNfxO+Gf4JfsM/nb9Ffgy77bmwOH/4CHjleXy5i7mxOP63wHcu9k/2kLdW+Hn5JHmsOdW6TPspe+S8rX0zvUy9/34ePpA+w/7svmh+E34kviM+ej6WPxD/Qv+Zf49/7kBvgWjCnIPGxMVFuAYrRwpIc8lMSqjLK8uHzBtMBsuXShaIN0YwhTkFCcYfhpzGTYTfgmE///4bvd7+QD9cf4N/FD1i+zu5NzgN+Hf45XmSecw5WLhkt2H26zb390J4S7kseZj6OHpwesw7oHxqfR29935k/v8/H/9uvzL+rf45Pez+OD6Y/1m/g3+//xz/N/85/5jAqMGBAuxDoAR/xOJFwkckSErJugo7yk5Kywu7TD5MGQrQiGcFukQ9hCPFBAYcxc4EiwJnv+q997znPSp96b6D/o+9aLtn+YU4lvgoeCm4Z/i9ONL5ejlLOVT4hvf+tzq3ZLi++lD8YT2P/jr9tv0EPTQ9cz5kf4hATkB3/6S+3z4JffH91L56/sA/kr/jv+j/xIAcAHbAyAHqgsmEfMW2xvzHjMg6CBiIr4lHCo5LgAxRTDgKsIhJxcnD70MwQ+lFIEWTRNRC8QBpfnT9Bzz/vMY9mv3efbN8YfqzuJ+3lDeBeEs5MHl2eWN5DXjYuHf393fEeKT5qLsNfLT9dP3Z/i3+Lf4S/nw+Wv77v1aAGMBPP8l+zz2BfQh9ev4V/0+ABEB1/95/u79AADkBCoMxBO5GfIcph2FHVwesCGxJnAs9zBhMp0w/yoNImwX5w4JDGkOeBONFngUew1eA7H4kvCH7ZvvaPS7+LT4XPOx6hviQd083ZXgk+Qb5zznLOXw4dzfxd/R4avl4um/7T3xWvQT9xD5sfmF+Wj5ePrN/Ef/YgCA/738ovl99+r2MfhU+qX8Cv5S/in+sf6IAFkDVAciDI4RMhf2G7UfHCJ9Iw4lTifhKtoubTHwMKErMSJUF5AOHQt4DScSyxSJEs0KEwDK9V3v4e2H8C30BvbI9P/vg+lj417gBuDB4c7jDOX85BXkXeOm4tniZOM15Wfoquw/8U/11Pcf+SP5pvj7+Gn6Rv3V/88ABP8F/Jv5jPgr+VT6gfsE/Fv8B/1X/tn/agGvA2IH9wzOEiIYKRzvHp0hTSQ8J/8peCzqLnUwtC9CK8QiVhj0D18MQQ1TEKQRUQ/ICCn/7vVr7x7tBe5n8Sb0dPQc8bjqf+RQ4L/ff+EF5I7loeXh5GDkAOQx5GPl0ObW6GTrju6u8oH2+fga+hb6mPmU+Wr6M/zk/cT+Ov7L/Aj7U/mv+AL5q/rC/AX/hAAIAfQBPwSLCLwOMxVXGrcdjB92IVwkPig+LI4vnzF5MvkwOysqIcMVDQ5LDJMOTBH0ECYMagTs+tjyQu1q61Dti/F39c70nu+W5xLhld4P4JHjX+YK5/7lUeRb43rj6eMo5bvm1ui36znvJfNg9ln4tfg6+FL4Ivo2/dD/TACR/oz7Dvk1+O34evrk+978W/2V/Rf+zP+IAwMJDA8IFNIXchpnHWYhqCV8KRUsei6zMJozHjSjMCAnjxrrD5UK/QuEDx8S/Q8HCQr/8fSv7cHqG+xv8Pb0RvaP8gnrmuNr3tvdWuBi45blpeUs5UzkmeO/4lbiFuNZ5eTosu228lL2mvjd+FP4/fdp+RX8Iv/KAL3/mv2o+s/4i/iV+Un7dvxi/ZX9xf1c/xECBAd9DDES8BaDGvod5yAjJU8pgi0XMdkzuDVYNnMyFyrFHd8S8g0vDlARqhGzDocH2P5l9svvbOzD6zLuxfEo84PwZer+40rgdd/S4NHiNOTS5J/ksOQj5IDjzOLz4rTkTuef65/vDPRh9375gfr8+cb5TfrR+5X97f7V/mz9Rvun+fj4s/n2+hj8Fv3W/dX+FgGaBEAJdw7lExYZqh1PIh8mbClFLNQuxjEdNR03VzZIMEEluBhPD9QL/QwRDzAPewsMBFz6ZfGz6w3pgep97TbwQPAe7XDo0uOx4U7hIuJ/42rkquXQ5ojneOZe5OjiEeMQ5pfqie+k8+72kvlQ+3P7zfqE+cT5ZvuJ/WT/Kf8G/mD7ePn+9yX3tvdM+dn7rP6EAZME1geDCxAQpBQdGuoffSUmKtcs2i5sMJ0yyzQDNIYv/yUjG98Rmw2wDX8O9Q4yDG4GuP3j9NztS+p16zTve/KP8pjuW+mN5c3jJeO+4hHj4uO85Wnoqek06c3mSuTq45vlE+rI7kj0Ufm1/OT9S/zl+Sf47vhd+wr+1/8dAI3+4vvw+Ar2AvRC9Ib2SvoM/oAAcAFnAvMENAkKD4AVAxzBIWUm4CjCKbMqzSxaL98xcjLvLbskWhlaEDUMXgwNDoYONwwPBgv+PvXB7oPreuth7vnwQfLZ7xHs9uet5AvjD+L04aPiwuQg5wbpIeky6MDmjOYK6CfrEfBd9d76GP9LATwBsf4Y/Fn6vfqC/YMAXAJjAXz+vPld9dvyQ/NB9m36Of7OALkCCATMBfUIwA15E6gZXB/KI68mRSgPKe4p+ypULHMroyfdH+kWwA+oC50M8w5vELENzwYS/r71d/AF7r3uM/EQ84bzc/EO7ZjnwuJf4JDgCuLA40flxua65+HnEOe65bflTuiF7afzj/kH/cj+IP8E/wv/5f5U/9L/QgAEAAj/M/2r+7v6JPpT+Z74DPiE+Ir6Bv4KArYG/QpUDsYQHhO0FvcaWiAeJfMooyr2Kn4quSmOJi8gFBiiEQkQIBI9FS0VSBBCB3j9zvX+8WDxVfO/9eH2dPSF7p7nK+KL4I7iBOay5wbnUeQn4v3hmuNF5Tzmq+cP6kjud/N097v5s/oJ+677mf0ZAEgCNQTsBJUDHQBi/KD5vflC/K//wwHbAIj9kvns9+r5v/4fBXgLhBAgFL8WQRn/G0wf6yJ1JrooIirsKaEo8CQ2HzEYpxFYDowOERELElYPkweg/YH09e747e3w0/R09o70we525wfip+DN4kPmR+hz57TkFOK04D/hSeNR5lzpmezA71nyKvXP94f6pfw8/qT/7ACqAuQDMwR6A5QB8f/M/qH++/6R/7b/1P5x/RL81/um/ZQB2QZgDOYQrhTYF/waax4UIjQlaydRKAEojCZIIz8eChkrFe8SqxEtEHgNAQngAwT/2/o49xz0yPEM8fTwcfDe7n7sx+lZ58/l7OT95G3lqeV+5azkm+Mg447joOXS6J3s9+/r8vD1u/h9+w3+FAA4AcMBrAGYAaEBIgKxAkwDewMWA0sCYAFvAPD+4v16/Zb+eAEHBgMLdw8bEzUWORkDHJYeXyFGJO8m4CjAKMolDiCuGAwSiQ48DpEPKxAeDpcI6wCy+dLzuvBg8PHwUvHF8GDvzewV6jPnwOTs433kduWj5pzntOc/5z3mZeXu5GPml+nv7Y/yR/bL+HP6Lfwf/l4AOgJXAx4EmwTFBPIETAUJBjQGxgWZBPQCXQF7AMIA/wFRBPMGqAkJDHAOpxBEE3YWMxoAHh8haCPnJDQmwiWbILIXaw7uCOkJnw4UE4wSaQydApr47PEU75Hvn/F/85jzHfHB7MfnVeTu44rl0edg6eHp7uml6dToP+dU5YrkUeaa6tXvEPQe9nH2rvbx92z68P3NAeUEfAaVBmkFQQSkBDEG2gfOCFcIkQZyBNQClAJ8A6wFCQg5CukLYwy/DHMOuxJVGIod0yBEIiQj9CNJIhseNxdyEAYN3AxwD3kRtBFiDaQFSfxp85Ltjet37XDxdPTB89fuE+iu4n7gO+IS5jvqC+3J7U/sn+nS5mnlUeab6Tzum/IR9WP1I/VB9c32M/kk/L7+BQE2A1kFGgcuCDQIYgd1BrgFmgW4BfQF/gX1BQUGTAbjBhcIvwl0C1YNCBBBE/QW7BqaHnohrCIbIakdlxkpFkYU4RLpER0Q2g0FC+wHSgSa/0X6LfTy7gzsOeyG7uLwDfEv7hLpF+Ry4X7ijOYR6/vtO+447J7pyufY5xbq5u3W8ar0Bvb09Tz2Y/c1+T/7FP1Z/pj/vQGBBPUGZwh8CJwHiwagBS0FpwWyBvQHUAk/ClUKgQmWCGgIsgpAD/8UNxrIHZMfnh/sHd4adRcfFX4U1xTHFZMVYBPeDjYJUAOJ/kb7BPmZ9yj2WvQc8pzvuexs6qXo1eeU5y/ogena6ubrU+w77J3r9+pb6nrqnutc7vPxqPUm+Cv5jfhd9/b2rvfL+X78Pv88AbgCyQO0BH8F5QWcBbgE/APOA14EwwW8B8EJugorCvAIfQh2CnMPFhYzHG8g7CGaIMQdPhoXF2kVIRWVFZcVcxRTEdkMKgjTA9n/8Pt4+A72bfWz9Vv1jfN98J/so+ll6HvoeOm86sfrY+yP7Onr1uoM6iDqCOvN7NXuPfEo9Nn24/jm+dP58fh6+CX5t/rx/K3+fv/E/+L/QQAKAf4BqwIXAzADfQMzBIwFTgdDCTkLOQ2XD8sR5xNxFgcawR07IIEgCR7uGmEZuRnSGnIaFxdhEawL2QdZBqIFEwRRAd/9YPoa9+nz2PAs77juGu807zHuSuxb6n3pOOlM6Wbpu+m96rHsY+4f7wLvwu5w75HxvvT296f6avwW/cX8ZPt4+QH4Jvh2+uT9/QAsAqsBNQDR/t79Pf1D/VP+3QBaBKQIYQy+Dp8PuA9QEB4SthUKGnMeXiFRIi8h+h5cHVccHhuJGH8U2g8EDF0JCAjOBn0ElQCX+6v20fIH8bLwnvGe8kDyHvDZ7Nzpj+g46anqYuvW6uzpPOnU6Y7rwu2G74XwNvFh8pb0cPf0+R777/oc+nf5yPnA+4H+pwDxACj/vPx4+yX84v2J/wAAQP/p/lMAmgMACIcMJxCoEp4UGhbFFyEanByaHnUfDR9AHjAemx6kHqkc6BdFEdsKzQY9BVwF5gSvAgb/XfqQ9WHx9u6y7nrwpvIC80Dxe+7l6ynqaem96Pjnhed+6GTrIu/r8UHy6/Di77vwnvM29zn65/sa/Gf7s/pj+vD6Sfzf/fD+Ev9z/tr9Bf5L/hD+Bv3Y+yH8qP7OAjcHsQqRDJYNrw4kEFgSRRVuGDkbtR2lH5ggWiDlHkgcihldF0sVpRP4EdkP+Aw6CasEov/p+rv2EvRc847zb/NG8ibw3O0M7CfrzeqL6grqMenA6CbprOrv7BDvB/AA8EDv9O4y8Ajzbfa1+FD5iPgS+Nf4yvr6/MT+rP/P//7/KwA4AKT/d/4j/aT8Wf33/k8BNATSB3wL4A33DvcP4hEDFcQYVhyyHrMfLR+KHZYbRhqiGR8ZehimFuMTexDlDGYJGAaZAgD/4/tk+Yf3v/Xs87zxue/S7T3s/eri6QrpL+iA5+nm4Oab5y/pIesd7cTuSvDB8THzy/Qx9n73pPie+VT6/PrL+/P8bP6//2wAVwCB/+z9TPxk+zj8nf6XAboD0gRDBXoFhQbeCKoM2RD8FBIYChohGxYb+RlqGIcXVBfHFysYhhiNGMoXYxUgEQ0MPgcwBBQDPwMrA9EBwP6T+iP2IvIB7yHtvuxy7THubO3M6mTn7OQi5NnkXOZL6Enqv+yZ7zryGPTr9Fr1CfaI93L5jPtg/fz+2P/B/xD/3/2S/U7+3v/EAD8Auv3O+m/6Bv2BAR0FuQa3BsIHOQuyEIsWaBpzGwYa7xc9Fv0Vcxe+GZwb2BuDGf4UIhC3DIsL8QviC/EJhAYXA5gA8/6//eX7rPkn98P0w/JW8S3wxu5i7a/rvumU5+DlAeVZ5ZDmK+ge6o/sgO8w8hr01vTY9CX1cfYM+bT8QACCAvYCnwFn/1z9cvwl/SL/lwGIAwoEwQIFAAL9ZPvN/NsBPwlvEFsVshclGIgXlBbOFacVoRbxGFccoh+wICIeCxg0EFUJjgV7BesHaQqJCj0HSQH9+kD2KvRA9G31ZPYa9lX0nfH37u3sjOuX6pbpEuh75nHlv+Wn56fqZu3X7v3u/e4d8NDyYvaS+dX75/xl/ST+m/99AQ0D/AMGBHED+wI8A0YErwVDBgwFigJbAEQAGQMNCHsN/hHjFMUVAxW8E+kS0xOxFoMapR3aHoAdlBljFGQPnguPCQQJ7wiACPYGxQOk/037f/eC9ODyl/Il8+DzqvPx8QTv8uuK6ZnoyOjn6EDoOueE5tLmb+hj6vXrQu1q7v7vdvKP9cH4pPsQ/qT/ewDrAH8B0gIuBbgHdwkXCmkJPgjWBn0FUAQvBDsFmQbZB68IjAnLCvIMRw9sETYT5RTHFvsYHxvTG6kaIRhPFQoTsRHnENgP4A26CoAGTAIT/xT9Pfxq+3v5q/bK85HxhfA68Obv8u5l7ZbrAeoA6ffnxebW5Z/lF+Yw54zo6Olw60HtlO+L8h72i/ld/CX+zv4N/5P/4AAFA0cFoQYkB18HrQfGB3MHfgYwBYsEIwXeBvQIeAr0CsoKtAq9C3gOzBI7F58aZxxSHMQaghgbFiYUShN0E1IUmxT6EtcOWAkqBF8ASv43/Vn8T/vi+fj3rvUe83zwXO407eXsjuyN67Dpn+dO5rLlueX85QTmrOXZ5TPntekN7a/wPPRQ98j5SPtQ/Fj99/49AX0D3gTrBFgEHgSDBCoFrQU8BR4EOAMuAwkEOQW5BWEFmAW8B9oLOhFwFp0ZhhoqGpsZ+BmAGzMdqB14HNAZghYUFJISBxG8DosLpQcGBBEBnf7U/Kz7cvqc+DT29vKu76Lt4+yN7K7rs+l55zvmSeae5lfmH+V44xDjE+UK6XXtEfHV8m/zsPOp9DT3S/un/4kCRgPbAar/cf4c/xABSQO2BOMEHAT2AtUB+QC/AE8BnwLhBNUHIwvDDkYS6hQnFjwWRhbjF9EboCDEI6gjACBCGqgU9xC+D3UQuREPEiMQDQyqBoYB3P1x++P5vPjm97/2J/XR8sPvDeyC6N7ljeTL5Lblwubs5tblsOP/4RripOT46Irt+/Dw8hv0G/XY9iv5vPsv/uP/XQDq/1r/aP+XAF0CRgO+AkYBqf8R//v/WQF3AmQDUATNBfcHegodDWYQIBRIF3cZjxpNG0YdkyAgIyojFSA7G1kXuRW0FdUVORVoE60QZg3zCH8DCf42+sL4tPj794X1B/Kb7vbr4unv5+PlnuSQ5EblCea65XTkheML5PflXOjM6gDtSe/H8dnz9vS29Rj3P/my+yL9P/3k/Gv9Cf+cAGAB5ACu/+j+Kf84ALMBJAMABFsEiQS8BAMGQgkBDpwS1xUgF2MXNxh7GtId3iAnI0skTyTUIj0fGxqcFcITTRRCFREUYg9jCJYBwPyx+aH3afV/873ygvIj8XHtfeht5H/jbuXs55roWudW5XTkYeXl5t/nGeiT6PTppezx7wLzKvVt9jv35vfx+J/6Lf3t/x0CtgKwAQQAzv75/kAAwQFiAukB1wAlAJ8AdQI2Be0HAwopCwMMrw2sEOsURhnCHBcfByGFI9klsCavJCwgMBsjGFMXmRcQFwUU6Q6KCDYC3fxv+en39fdb+OD24/J27dno1OaL5yvprel96KLmp+VN5uDn2uhy6DLnP+a75uroIOyQ7znyDPQs9en1AvfZ+F/72v20/50A1QCNAFcAPABbAFQAFQDC/3n/kP8CANgAoQGIAloDxgTZBtsJaA1gEYUVkhmMHZAgriLNIxslUyYeJ8EltiHxG14W9RJGEesQlg/aDAgI0QFq+7j2kPRV9PH0YfRB8i/uVOqR5+3mR+fC5/nnrOeA5zLn8+Yb5mPlu+Q15dvm5ukk7p/y6vUx9xn3xfb79+361f7oAX4D1wIFARz/Df4f/hX/GADW/6T+2PyY+4/7fP1hAJEDHwb1BxQK2QwKEc4VjBq2Hi8i0CQjJ5MpxyucLNMpESMoGjITrhBYEkwViBX0EDYIwf6C9yf0G/TC9RL3pfbV89DuQen05C7j4eM05gPop+ho6HPn0uU+5OribuLc4//mf+vn7yDzgvTD9Ar1JPY5+Ej75/2a/0UA9/8r/07+wv0U/c38l/zN/Pn8RP2v/bD+TgAcAvYD5AVICGULsg+3FNYZRh71IeAkxidoKtQsjy2hK74mRCBdGS4UYxLpEkcUDRM/DqAFw/zB9YzyafNy9Yb2K/WZ8YPsAOjx5N/jqOSo5uHoPOoF6kTow+XO41rjgOQc503qde0q8HnySfRf9XD2ivf0+J36kPwb/gj/QP+n/rr9n/yV+6b6cPq7+rf75vww/ir/9P8ZAeACdwU+CakNRRJgF5kc0yGfJbgnVigjKZkq+CsnK7UmDh+uFjcReQ9EEPcQVw+TCssDL/wV9m/y9PG686b1evU/8mTtJemz5/3nPOk36kLq9OkY6gnqVekt6Afn0+a755Lp1+u47lfyrvXn9y74zPbt9fj2zfkB/Sz/AP8o/ab6rPj894j4QfqC/FX+pv5p/Qv8evyN/7wE3QmkDWQQ0BPGGJAeZSM+JnEnjChcKv0sQy77K3wl+Bs+E4cNGA0dEJ0TKRPTDOQBlPZo7zLuVPJh9xH6iPjL897ttunX5+/nOemT6h/r/upv6vjoweeI5lHlquQb5W7nuevE8MP0MfYw9XHzIfMx9Yj4jfve/D/8L/pF+EX3PPdj+Ov5FvvA++H7z/uZ/D3+vwA+BIEIHw3QEV0WNBpVHZwgfCTNKB0tKjDoMG8vBSs3JD8d1BYVExESuRLOEnMQ2gpsAs35BvOA8MnxL/XB9wX4JPU58FLrXej658vpiuzK7YDtUOvz6HfnL+cW51vnyeew6Abrue1V8OzxvPKX8930i/bs93D4kPiR+IP4i/jb+Dn5Afqb+mD6efnD+A/5wPrp/c4BywVRCTgMAw8gEj4WXRsdIYYmECrZK/or6ytqK6gpViWfHlAXTRIsEQsSZBKYD/QIgwA/+bb0dvTi9tL58vrt+Qj26PAV7W3reuxK7nHvt+4B7Q/r1Okq6RjpGOnM6LDoyujt6T7sEe+m8Ufz8PMU9KD0G/b191L5Wvm0+HL36vZG9z34OvlN+YT4u/cO+Jv5+PwUATIFbggeC7gN+xChFZEbnyFiJm4p5CkGKm8qKitOK2cotSHSGPYRDA81EHgRrw+/CXABkfqQ9jn27ff9+Wz6hfmi9ibzzu8y7Y7sEu0I7uXtfu0w7KPrA+sN6t3ogOcg5wjo4upI7kXx8PKc83TzpPMQ9OP0SPbE98D47/hv+E/38fYJ91P3l/e79yL4jfkw/E3/awL3BB0HxgnzDSITqBjbHZchpyONJEEluCYUKlctSi2CKE4flhWeD2gOFRAYEYsOPAgEAWT7n/hJ+Mn4YPmQ+bz4p/b382jxsO+87jzuGO0H7LXrdeyh7e3tLezn6FXmk+UF6PLrz+9K8vzyl/Jf8tDy8fOd9e72vffY92r3x/aL9uH2Q/dC9/D2svZt97b5rvwD/xQBBwMmBv8K0RAWFkwaJR3yHu8gPCPsJS4ojSsGLh8ulClmIJIV4w3gCxwNHRDzD/QLCwX//af4Wvan9lX4Vfp3+2v6/Pay8unuH+277IDtiu2Z7U/tK+2I7G/rZelV56vm8+dW6/TuZvLJ8wb0R/Pj8tvyAfTY9fn31vkA+qD4D/ZJ9K7z7PTs9tX4vPkt+rL6pPuP/d4ALQX6CQIPlxPNF6EbQx4yIHshJyOhJZEoMyxfLfMqESMIGXsP1wpUC+8NSxC5DvcJWgKV+9f2g/WB9u/4uvpq+uL3xvNy8KbuaO477lHuKe5I7sXu3e4a7gDsdunc5wTofOrI7TPx6/MG9cb0iPM/8lvypPSH9/D5UvpV+Jn1rfN18xj1dPfE+Mr48PfY98H5Z/2dAQoFwweDCqMOJRR+Grof/yL/I50jFCScJVkooSqzKigmBx6iFMQNegufDNgOpg5IC1cFE/9v+q/49Ph/+bv55/jb9n/0UvKU8CzvS+5l7fbsX+337QzuQO396wzq0ejs6Dfq5+wq8Mby7vPo8w3zc/J382H1CPfc96b3lfay9U31EvUv9dr1EPd9+AH6nPoY+1P8y/4TAssFtQmvDSkSzRYoG2QeySBLIugjyCWKJ28oiigkJ7Ij9B04FiAPvwprCkYMdA2QC1EGYv9o+UX2vfWl9qj3f/cq9tLzE/Hg7n/tZu3u7UDu2e3H7K/rQ+ti6/HqDOpt6arp0utL7wDzP/XO9Xn12fQQ9aT12fX39Yr2J/fU90H4Lvjw9x/4gfgm+V/64Pvk/ZIA0gMOB9cJcQybD7wT9BgpHmwiuyRIJZ4kMSTpJIAmMyfaJLkerRW3DQgJ6wgYC5kMygrMBUD/L/n79bf0LfW59dr1v/Qx85jxHvBa73Duae0k7LHrjusq7MvsdOwa60rpSejY6ODrhe8I86r13vY39x/3evYR9sn26/d0+WX6Q/ow+XP4nPhv+V760vo9+/v7AP4hAXwETgeRCW0LYQ7dEj8YiB3QIT4khSTYIzAjEyScJi0poyduIGAVKAsdBz4Jnw09D+ILYASN/JH2+/Ly8cPyhvTu9S72FfTS8HftZOty68Ds2e3h7Wntlezt6/vqJ+ns5h/mjeff6jDvrPLs9PP1F/a69YD1HPa/9z/66vx3/vT9K/xO+oX5Mvqa+9j8xP2K/n3/NAGYAwwGXQisCpwNBxLPF80ddiLoJOQkoyMTI60kkCf0KD8mVx72FOgNTQuODBoOXg1ECXcDoP3v+Lf1nPMv8xz0RfX09DbyYe6q62frBO0Z7k/tgOvr6XXpzOm46Zzo9eZF5pPns+oB7pHwbvLh8xH1mvXX9TD2x/dQ+mv8IP10/Hb7J/se/Lz9Rf/T/7D/x//6ACcDTQUCBzIIDArfDCIRqBYcHAsgvSHEIT8hKiLfJN8nPyjQJKcdbxXeDwgOPw9BEAIPygqqBIH+VvkE9tv0QPW79VL1qPPk8C/ur+wY7PfrB+y662Lrues37NnrM+r+5x/mFuYG6LTq4+3Q8L/yYvN88zLzdfMx9cz3+fpz/Rv+4fxE+zX6Zvrg+xn+mACmAukD2gNrAyYDWATYBkgK2g64E28Y7xu+HZ0dOR2FHb0fXSNoJmkmXCIuHIIVMxG7DscNDA22C4IJ0wVFATX8fPgl9mv1XfX69E3z3PAb7y3uI+6A7XTspuvi63bsjezX6zzqHukP6Q/qmuuY7X3vJPGS8o7z9fMV9NT09/b8+TL8tPw8+3P5x/il+dH7jf7nAGUCNANrAzoDCwP1A4AG3QrbDwYUJxb1FmoX/BcHGXAaTRx3Hv8gWSLvITwetheWEIwLmArNCyINJwzGCNYD6/6W+kL35/Xe9Rf2gPX58yfxmO4f7cnsb+0h7kju1O237aPtSe3G7Gjs4+x97pnwH/Ks8nzy7PER8tnz3/Y9+tv8eP2I+5X4c/ZY9uf4xPyu/9oACwFIAToCkQPtBFMG5wilDHYQThNgFPkTKxOGE00VwhfwGVEbDRzPHJ0c0Rk7FMkNzQlvCUALPAyWChEH7QKB/978ZPoV+Bb2x/TT8wvzv/EP8KPu3e3A7aPtFu1G7JTs4+3R70zx2/G28ZrxXPKk8xb1FPby9g745fnp+0f9wv1c/Z/8vvvJ+hH6jPrB/DQAoANHBYgEbQJgATcDnQeJDPkPfBHzES4StBFPEBoPdg/aEUQVDRcsFpcTtxA5DgkMJgpVCFQHdwcWCPoHHgaZAsr+LvyC+7/7fvsr+gb43vXI88Pxy+9r7jDuou7h7orumO0r7SjuPPBJ8nXzo/M/85/zI/Ue9yv5sPpd+3j7nvsE/Lz86v3Z/jX/z/5B/k3+0f8PAw0HdwpKDI0MAAz7CwkNHg/1EXQUPRXnEwYRKA7aDH4Npw7yDowN9AowCBAGPgUdBQgFCQT3AWf/ef2V/MP8qP2l/sX+Wf1a+pT2o/M+8rvyK/Rf9Yn1dPQy8oTviO0W7X7uTPFd9Fz2xPYU9nj1fvVF9tD39/lZ/K3+GQBoANX/uP7q/Tb+wf9FAhYFKwd0CEgJKApICzoNlA9hEVcSNBIIEgATdRRVFNoRhw7qC4MLzAydDSkMPggBAwb+UPtv+539+//zAGb/yvtn9+Xz8PJD9b/5pf3q/jT8//bh8VTvDPC88iH2Uvis+Dz3QPSa8FztHOyN7YTxvvbR+jL88vpX+P31X/Xm9g76Av7HAVcEOwU9BAICAADv/3oCGQdwDKYQaBPGFP0UHRTCEtwRBxL3E1EXUBoUG+sXxhGLC8YHawezCFYJ5wesBBcAWPuX97b1p/Xq9mv4vfip92P11fJN8dLxefMH9Xf1tvRc8zXysfHR8b3y//Me9dv1zPUG9d/zvvJu8tryRvSB9lH5tPtp/B37SfgL9pD2R/rH/6IEVAbiBCgC6QC3AvQGqQuwDyQTHBZUGIgZ3BkJGd0XLxcrF/sX0hihGMgWBxQzEQcO/gooCOgFjARQA08BPf6W+q32ZfPX8TTywPPM9N7zE/Hi7d3r5uvN7WPwg/LI8lTxku/U7vrvmPKF9bH3Zfi19yL2qfSO9EL1LvbU9jb3ofd4+Gz55fnS+Rj5k/g9+dP7Xv/0AjQFeQViBRwGewiuDLcRJBYuGVQblhw/HbcdlR1jHekcohtBGTUWwRNSEz4UdRQ6EgoNNwYvAPP8QPxq/K77hfkk9vLyOPAb7unsOewa7ODrS+ur6rHqsOsF7eLt0O287N3rfexc75Dz2/Zp+MT36PWW9JT08PXU91759/mn+Vv5efns+TD6L/pq+mX7kf07ACQDcQVrBrcGjAdiCukOghTwGOUaEBz5HA0fLiKkJNMkHCLfHRcZdxXpE3kT8RNHFLYSmg6eCI4CsP0T+wj6Kvkr+J32rvRr8ojv/+uD6ETmluW45qboI+ro6rLq9emA6FXnq+f76VnuqvKs9aT24/Un9VT1nPZc+Gv5mPke+f34Uvmk+cn5NPn7+HP5g/p5/Kb/IQMnBiMIMQh1B/oHIguUEJMWCRsjHcUdnx6YIGEjzCSyI+wgIR6rHH0bgRneFagROg8BD+IOXQ0fCTYD3f3M+V33I/Ul81DxmfAU8ELu8uqg5o3jGuMH5SbnqOhp6QDqfOpY6r3pQOlA6q7sP/Dm83L2x/eY+Kj4SPhc96/17vTI9Sr44vrI/IL89frS+f/5jPsw/hEBfwPpBboHKQkwCp4LEg51EVwVRBnIHC8gvyIbJFwkfiPIIiEijSG9HhMaghRmEOsP7RHREywSgAwvBM38UPcv9CjzbfM09LX0m/N68P3rS+eB5L3j0uSJ5rXoMevh7Ejtkuut6OfmhefM6hHvJfMC9l33Gviy91D2hvRn8xX0kPa8+df7B/wW+xj6H/rb+qT73PwM/xMCxAQgBjcGngbnCBUN+xGkFdQXrBlJHMEf6yLRJJIkNiRvJD8kMSLPHbkXxBIyEfsRTBRoFKsQHgn9/3b3ufHO8Brz5/Yh+eL3u/J+637l8+IT5Frnxuma6j7qTumf6HHoZOhi59bmZOfF6dDtT/LD9Z32gfVc8wjyiPKH9Hv3Lfr2+938Cv03/DP7ifos+7T8ZP4rAMkB5QORBnwJ3wtRDesOzhG5Fckaax+aI6AmXih4KBInyiUbJFIjiSH5HfMYkhRsEjMSSRKAD2EJuAAE+ZL0LvRQ9gX4W/f084fuMukH5oLlr+bV58Dn0+aq5VrlE+YS51LnG+Yq5R3lheeJ68rv3/IE9LbzNvNa88Xz8/R39o34z/rU/KT9Tf1T/ET7AftX+5H8x/7uAYYFTggHCqYKRAsFDd0QDxZ7G4Ug7SPgJSImuSX8JGglbibvJ+InNiR0HXIVqRBTDkIPZQ+TDMAGY/+Y+uz3b/ey9vT0AfJJ7n7rP+pw6pXqrekt587jAuHT4Gzj5+ZE6drooeaM5Ljki+cU7HbwoPMR9ff0A/Qi8+/zb/a5+b78sP3w/FT7Cfpq+vz6Nvzy/Mr9f/+zAUUF6gemCYwKlgu+DucSrRiNHUAgTCG5IKshECOOJUooSyp5KnImtx9JF+8QDA9oEGkSRREIDGYFnP4q+qT28PRZ9MLzvvOg8a7uBOpC5rjk/eQ75jzmAuX/40rkOub359TnAuZ25OvlUuoB8Bf0nvXG9JTzQPMi9Fn2RfmR/Lf+3P7Z/Db6J/hb+Nf6Gv4FAXoCXwM3BEoFnAY+CJ8KgQ1HEVoVoxiHGqAbzhypHmkhBCQTJu0m3CY0JYwinh0XF0MRYw11DdAOoQ8yDVcHS//U9yTzxPEx87n0e/Vp8rHt/+cV5RHlq+Zk6GDnoea45cbn1uns6mvpjuYj5fHlT+pU7yn04PZd99P1LvTv8mv0xfdo/CYAQAFGAL/8q/qX+XT7+f2PAP8C6gPVBOQE9ASPBcoGQgkNDSoRrRU9GW4c+R3cHj8gCSI6JTYnGCj6JgUk7x8BGroTFA7TCloLDw1mDUUJYgEm+bryHfEG8przt/O+8VHvaOyQ6cfmAOV25Q7neOnV6gjq7ugA51nmaeU85UvmxOh27ZDxCPUj9Rv0pfLp8uf1NPkd/aX+xP4B/pX8TfwW/Fz8p/1V/5IBvwJpA7wD4AN+BbkHPQuWDigSzBWVGKob6h0IIVwkaiesKR8qtSh0JXoiJx+/G3AXvBKWDhcLcgndB54FKQJo/P32wfJt8HzwlvAV8fnvLu7S6+boBecO5tHm2OfI6GPowebf5FrjNOOz5NTmgund66jtfO9n8Q30evbZ+Pf5hPp9+vX6hvxi/rD/lP9H/jH8b/s3/Cv/ZALlBGAFtwQ/BGMFkQg6DdsSYBexG3AeNyGfIxUm4yfRJ6smeCQIJPQkPiWjIoYa6A8tB84CHAW3CKYKKwcw/1P2XO716p7qeO3E8Lny9/Ew7mLpkOUs5I/l8uYy53fmeeXr5cHms+ec5unlouUG6NbspvFa9h74tvjr92T3IPjm+aj8N/95AB0Arv5m/Wv9gP4nAI0BGAJmAsUCEwQsBnoImgviDmUTHhhdHZghiCQSJu4lXCXAJN8kRSaSKH0o5SVCHoMUpwr/A9cC6gRSCFsIaQQM/OvyY+tx6Ojp9e398XTzcfF47IPn8uNJ47jjYeXz5fXlBeb65W/m2OVm5Uzl1+aC6o7vYPT79135ePlf+Vr5+fnu+h/9//7AAG0BcQDv/rP9Kv5R/+gA/AHGAgEE+AXNCE4M5w9LE/cWHho6HWofwSEOJDcmBChIKDgoUib8JLwitR41GN0PBgnnBGQGYgnBCiUHtv629CDtDeot65ruB/JS9L7yY+/j6FzjhOCk4RTlB+hJ6V/nxOX74x/k1OPO5Evmj+l77szyO/a99rX2xvWF9lf44/qC/Y3/LwAW/5P9Xfza/BP/NAJUBLIEkgOrApwCxQR8CBMNsRH9FHEXIRnHGhcdOSChI4sm8yfDKKModSh4JuYhzRpcEvcNjgzcDpIQNQ93CrMBg/hV8Insd+3q8Yv2xffW8+Ds+OWO4uPhuuOP5b3m/ufB5xLoROXH4ungl+FA5VHplO5S8lL1dfZh9YHz3vEo85P3CP0RAQIBTP5c+pb4Ofov/qICGAWkBWUEfgJoAfgBrAQ4Ce4NoxIrFbQW2Bd6Gekbrh35H/MhsiQ/JyIonCeFI7MdsxceEvYP+A6vEIcRgg/BCgEC6fnI8jTwjPFk9PX2Nfb+8nHttueT4yLivOOU5uXpL+vl6RDnj+P+4fDhkeS/6MrscvBH8nPzhvNJ843zPfS09Tr39/g5+//8wf6g/5z/N//L/pn/9QCWAtcD0QSOBX8GCAhPCoYMpw4TEHgRvRI+FXIZVx43I5Uk3CPKHzMdXRz+HVEgSR/HHE4X/xKRD6ANsguYCD8ERf9z+nX2PPQ18z3zZfIW8Brsy+e15F3k/eX351voLOdg5R/krOQd5rLnE+lm6ojrkOzA7W7vvPHg8zX1YPXg9A31wfZN+gv+aQDQAKP/u/4Q/1wBgwSfBpIHIAfdBt8GFQjWCZQL+ww/DnkQORM+FzgaqhzqHI0cJB2+HtwhfiNBI9YfchqMFmsUvhQCFUITARCjCXgC9vp29T3zfPRt9/34QPbR78HoWOMb4mvjvuaU6Qjr6Oq26dDn8eW35BblReau6J/rZO7H8JXxrfE38Mbutu6N8Rj39PyHAP4Am/4t/Nb7z/5aAz0HjgkMCUIH5wTeAyMEegW4BysK8Aw6D/kQohKUE7IUJxYVGWodWCGqJLMlriR2IY0dZhkOFpUUMhVGFkQVwBBaCBn/D/hd9Yn2KfmZ+f32xvG964bm2uOd5NPm0On76yXsqOoc6GXmA+YF57nopekT6iDq5+qc7L3uh/DE8fzyQPRd9Zf2D/iG+er7vv6XAVUDaQT/BJkF6QU6BScE9gJrA6YFIAlWDJgNkA31DMoMZw6REfUWeByDIYkk4iNiIW8dAhzjG3Mc9hvSGKsVwRL5EGAO+wmqA9r9LPpE+Xf5aPme9zH0JfAu7DnpU+dZ6OvqFO4o75ftMupY5/TmnOg56irqeeiL5gPnyukT7uvxVvRm9Evz7fF78RPzbvdk/VcCtATGAzoBNP95/yYB7wJbAxED2wL5A6YF9QYBB4cGhwdbCrgP/BSdGbccfx7iHtUeGh/HH34heiPBJNsiqx0NFq4P8gyfDckOfA0NCdcCnP3R+Sr3TPSy8VnvCO4b7ljuXu5L7bnr3+ne553mhebc5yDqo+tF62Lot+S+4n7k6On07wb01fT38tPwzvBq8+j3Tfyt/8kAlQDC/23//v/RALkBNQLqAiYDPwMqA44DTgRgBj0JrgzXEM0UWRhkGq0bvhyAHq8hYyWLKDIppCVoH2QY4RN8EtkT0BVSFf0RNAtMAzb8T/c19c30ufTF8/vxJvAk7kHsfepz6LvmPua35gDoOemO6d7o6ea45P/iT+Pn5SPqfe5I8R3ydPE98S3yofQS+Kv7jf6EAKsBwQEuAQ0Al/8qAEEBjQI9A9ED5gPdAyUEOQW6B2gLzg98EzAW1xc+GVkbkB4WIk8lwyZEJkAjRR7UGCwU7BJdFOgWxBe/FAUO6QQy/Vj4lPaV95z4Hflv9z70+O/o64fpFOj659XnbecR53rn/efS53Xm3eOV4YvhNeT56BfuhvGu8h3ycvGw8dPzhPe5+2L/NQGEAMn+df0y/mQAnAKjA9gCZQEKAGcAOgIJBQQIkgpoDF0O0hDjE00XTRo8Hb4fmyKtJJ0lGSVWItsdhxitFK4TUxaeGtgbehc7DfwAqPfr9DD4ZP3JAMH+rPgy8bDraemU6Wjq2Ok16KfmvOWZ5cXlCOUu49bg/N/l4bvmL+y171zwAO+h7U/uuPHx9mb8dAAAAuMAr/7//Av9xf6OAQIENAW5BAwDCAGQ/6T/KwFTBEQITgyzDxoSdBOQFN4W6Rm7HUwhCySbJTglwCLZHUsYFRQQE9MVcRllGtYWFw8NBi3/UPyE/Pj9Cv8d/tz7U/jh8znvFevr5xTmkuUa5QTlEuU/5TTkC+I337jcRN1U4e/nxe4G81/zOvF47wHwYfPP+Jj9ygAFApMB+/+l/kn+zf69ABgDAQVkBWYEOwLPAIMBKQRbCB4NghHXFBQX3hf+F0EYGxrYHCsgrSIbI+ggRBwfF1QSghDyEKUTBhYqFlQTIg14BvP/5/ss+qv62Psn/Nr63/aj8Snsj+dk5FbjsOP+5JXmfucK5+Hk2+FX35ffX+M66ezuZfLl8qjxsfAu8YDz3/af+iD+8gDcAjAD8wHb/+L+5P99AiYFWgayBdQDYwKxAbcCZAUaCVcNPhFKFOIVPxetGCwaUhx9He4cUxuwGTUZiBkJGqIYZxXPESEPqA5lDyoPDwwbBwwCd/62/An8CPtP+fH2xPMC8E/sdulX517mweU15Tfk+uLq4Y3hvOK05CfnjemF66rsd+1g7gnwoPIY9q35SPzj/XD+mf7o/tv/LgGdAvEDAgWsBfkFlgWqBHcDcAJXAgsEewiNDlQUjBdrF58UlhEeEXET7hf+G80d6ByeGu4YLhcqFXIShQ8iDvMOahAIEQsP7gmNAor7Y/eO9kj5nvxN/mX8XveX8Bvqhub75afnxumx6mbp9uaK5FDjDeRQ5p/oBOqa6i7reOxw71Pzgvac+GP5ivkB+r77Tf4gAVYDjQSkBGgEYgQlBE4DnwHJ/6X/1AIXCHINtBAGESoPDA3xC5UMZw/pE88Y3RxkHigd5hk1FuUTzxLeEqsS+BLnE8QUaRNODkMGi/6K+gH72v49Am4DGgFt/GX2mfDP7CPr3et57VvuDO0V6rfmheRE5DvldOaG56boCerM67XtL++x8F/ySfRk9kj4QvpP/J3+igDNAT8CdAIMA9ADSgQbBOcDTwT6BUcIMwpaCzQLrQppCkwL+Qw9D3IRAxMoFK0UBRVzFBEUFhOkEr8SLhPGEwkTHhF6DcsJPwbPA0QCnwFoATkBlQDM/lX8OPmr9gH1sfTP9MD00/PS8V7vAu0+6zDqCOqV6oDrcOzG7NLswew17bfu/PDk8xr2ovd2+Ej54/r5/Cb/zACSAdIBsgGcAeUBqALFA+oE+AWiBgsHPQd3B/wH/whMCtILIw1VDisP+A+TEPEQBBHrEAoR9hAhEcoQORBNDycOoAyqCnoIVwakBIMDAANlArcBMAA6/iT8R/r8+AT4h/f+9iz24/Qc8zXxru/w7pXufu5t7mzuh+4A75fvIvDa8IPxcvKy81z17fa3+Eb6z/vK/Hj9yf3u/f/+QwABAjYDDgRCBFoEhgTDBF8FNQZYB5wI5gnQCmsLugviCwUMVwzCDIANGA6lDtAOkA4ADjINfwzIC0YLrgrbCcIImgc0BvMElwMtAtgAmP+N/oD9nfyB+zD64vid92X2bfWI9MzzWvP38qbyGfKB8RTx+/Bv8QHyt/Jj8/3ztPRw9ST26PaT94n4t/kf+3z8d/03/pT+RP/7//oA3AG7AmsDDATiBIoFXgYEB7cHRAjNCE0JqQkoCuMKSwuvC6kLWgsdC+oKCgsMCwMLhwq0CeIIaggwCEQI9wdLBzAG+QQEBC0DxAI6ArgB6wDr/5/+Rf39+/X6N/qS+fn4K/hs96L2AfZM9br0G/Su84nzqfMT9Dr0l/Rm9Gz0qfT+9Nr1g/Zy9xr46/iy+WL6QfsD/Oz81f3M/pr/bwA6AQUCzwJ5AwIEigQ+BRcG7gbABz8Iigi/COQIKQl4CcAJ7gkACucJxAl5CTsJ2wijCGEI9we3Bz4H4waIBhEGjQXwBFYEyANhAxEDsQIzAooBrwDO/wP/Pf6x/RH9ZvyU+6j62/kr+c/4b/g7+On3q/dd9xj34vbI9vn2IveT99r3FvhA+Gn4lfiy+Pf4Pfmv+Vn6BPt9++z7LfyJ/BP9nv1Z/v3+xf9tAAYBgAHSAS0CnAIwA8wDdgTqBFgFrgUGBk4GmAbHBuIGBAcrB2EHlwfOB/AHFAgdCDEIKwg6CDwIRQgWCI8HzwbjBQ8FQgSuA98CCwIJAfn/Bv8i/l/9h/y0+/T6YPoO+v35//kn+ln6kfrZ+hT7U/uX+/X7T/zB/Bz9RP1e/WX9fv2n/dL98f0Q/iD+Nv5B/iz+5v2k/VT9Df3x/MX8qPx7/Fv8Ivzv+7z7fPtT+yr78fqw+ln6+/nP+dz5SPrb+ov7O/wQ/Rn+Vf+eANkBBgM3BIkF8QZSCJAJkQpbC/kLWQyMDHsMPgzXC4QLHwumCkMK4QmNCVAJ/Ah8CPMHWAe9BgkGPAVNBD8DNwIiAQEA1P6U/YP8lvv3+nb65PlI+YD4x/cE9172uvVW9R31NfWL9fb1cfbT9lj3yvdw+CL59PnI+pj7W/wQ/c39hv5X/wcA1ACZAVUCAANkA4ADWQMWA8wCjQJxAlUCLQL0AW4BwQDZ/+L+9P0O/ST8L/so+i75UviY9wf3h/Zi9nn2GPf39/X42Pmg+lP7F/w8/W3+7v98AT0DCAXwBtIIlgpRDPUNiw/9EFwSZxNKFMYUGxUFFckUVRSaE+MS1xG6EE0PxA0EDCYKPAhFBmUEnAIFAYX/L/72/L/7j/pW+Rf43vaw9af0tfPw8mHy+/Gt8YzxbvFr8Y3xtPHq8Q/yM/JJ8nTynvLW8jTzn/M99Ab14fX69g34Lfko+vL6pfsy/Mj8S/3l/U7+tf4G/0//pv/r/zMASwBiAHIAjgCnAK8AswCxAKwA1wAQAToBeAGvAdUBEgJMAl0CbgKFAq0CBgOaAzUE9wThBeEGDwhGCXIKlAuaDJwNkQ6BD3MQThEqEuoSkxMHFFAUVBQpFNgTVhObEnERDBBPDn8MnQqmCJ0GeQRuAnUAjv7D/Or6Afki90v1pPMl8uHwxu/V7hfui+0i7evs0Ozv7EntxO1+7jfvA/DL8KjxjPKN85H0lvWh9p73kvhe+QX6YPrC+gD7T/ud++n7I/xk/KD81vwl/VP9rP3Q/Rb+S/54/q/+0P7i/t7+5/78/if/XP+n/77/7P/2//n/+f8AAAoALQB8AMAAJAGDAeABRALeAmsDFQTKBIAFYQZVB2IIaAlaCkwLUwx8DdEOOhCbEeMSBRQGFdcVbhYAF1EXkBefF24XERd8FtkV7xTkE4oSBhE+D1ENPAv5CJ0GHwR4Aa7+5vse+ZT2KfTj8a7vke2h6//pm+hy54HmqOUd5dXk0eQZ5YTlIuYO5x3oaOnW6ljs6O2c71zxEvPF9F323vdG+Zv6vfvP/KH9a/4S/7b/RgC7ACABWgGeAbkB6AH/ARMCGgIbAgoC7AHoAckBwQGwAZ0BjgGOAXEBWgFCARoBEgEFAQQBFgE6AXcBxQEhAnYC1gJKA8MDcwQyBQgG5AbNB78IyQn0CiwMbA2iDtoP6hAEEvQSqhMsFHAUoxTWFB8VaRWTFZQVfhUsFcAUIBQ7EywS6hBmD50NgAsfCYEG1QMjAW7+yfsg+Zv2IvTI8Y3vWe1F62npyueE5m7lmOT/45TjjuPN41TkHeUn5l3n2Ohq6hbs0u1z7yvx2/Kk9Hr2S/gL+qX7H/1w/qD/vQCvAYgCPAPNAzMEawR4BGkENwQKBNoDnAN1AyAD8wKjAkIC/AGUAUYBBwHSAJoAggBmAFAAQwAzACUAMgBrAJ4A5QAXASkBNQFBAV8BkgHZATsCrAJDA/ADnAROBfYFoQZgBxoI9AjNCbgK1gvpDAkOFw8UEB4RORJeE2oUKhWUFb0VoxV8FSMVrBQIFFcTlhKwEakQQg+jDcALswlsB/IEQAJr/3v8j/m/9vDzV/Hf7pzsrerk6FDn6+Wa5InjseIX4srhzOEx4gLjL+Sx5XHnaOmF67rtFvBW8p70yPbf+N36xfyZ/jwAzwEsA2UEfwVpBhEHogfeB+IHzgd1BwUHiQb0BU4FwgQjBIMD8wJiAtMBRAGzAAYAXP/G/kD+0v1v/Rf91/yu/KD8pPy1/Mn89Pw6/Yj98f1n/tv+dP8mAOkAyAGtApwDmASsBccG1QfbCN8J8QoODEANZg56D4gQehFdEg8TiBPQE/UTGRQzFFcUahRfFEAUAhScE/8SHhL6EJEP4A3iC5QJBgc+BHMBs/4J/I75NPf49ODy4PD47jPte+vb6WboH+ci5m7lC+UE5Ujl4+XY5gzohukt6/fs5O7E8K7yjvRb9hr41/mM+x/9uf4rAH4BwgLAA5AEKQV+BbIFtwWcBVwF9AR6BO0DVQO5Ah4CeAHbADsApP8L/2j+y/0v/ZX8CPyE+x77zfqc+oX6cvp8+or6qvrf+hv7XPup+wz8ffwD/bn9gP5f/2EAZAF+AqIDzAQOBkUHjAjSCRsLgAzjDWYP4RBVEq0T5hT5FeYWrBc+GLcY+RgbGR8ZGhn2GMAYZRjOF9kWnxX8EwUSzQ8+DZIKoAemBJIBjP6U+6f45fU787fwW+4g7BPqMehx5vfkvePY4lfiN+J34grj7+Mn5ZHmMOjp6cXrsu2n76vxovOg9Y33dPk/+wT9pP4sAJsBugKyA2cE4QQqBS4F/wSrBDQEuAMzA6MC+gFHAZsA6f9F/5j+5f0w/X786vtR+9L6Vvrk+av5ivmF+aD5wvng+RD6TfqG+tz6NPut+1j8H/0L/gf/IQBRAbACMQS0BTUHxQhQCgAMtg1gDxcRvBJyFBkWzxdFGYUafhsrHJIc1Bz5HPQc7hzHHKEcWRzxGx0bBhp8GIoWShSoEbIOcwsKCHgE8ABh/er5p/aU863wBe5i6+zoe+ZF5EfieuAr3yHesd2g3Qze2t4E4H/hLOMV5RnnPOlz68XtBvBE8m70ffaD+HT6V/w2/vX/ggHiAgAEzARYBacFsQWaBWsFJAXKBGYE4gNZA8YCEQJcAZcA7f87/5v+/f04/Yn82PtN++76ofqA+oP6oPrf+hz7XfuB+6f75/s3/LL8TP0E/sz+zf/MAPMBMQNlBLMFHgeaCA8KnAsVDZ8OSRD8Eb0TgBUxF90YdRq3G6ccNB1xHYAdZR1KHfocpRxAHKkb/BrhGWsYiRZMFLMRwA6JC/0HVASoABf9k/k19vry7+8s7ZPqMOjj5arjk+HI31LeQN2v3Ijc3tyt3eXeaOA14hzkIuZS6IDqsuzl7hrxU/OC9bL3z/nQ+9n9rP9vAe0CHwQMBbEFGQZFBmEGOgb+BbAFWQX9BJ0EGQSFA/ECTgKrAQYBSwCI/9v+Nf6s/Sj9zvyH/Gv8bPx3/Ib8jPyU/Kb83fwD/U79o/0e/sH+j/9uAFIBWwJhA44EygX2BiUIYwmgCvMLUg2+DiQQoREoE6sUGhY6FyYYvRg/GYAZsRmoGXIZQhn4GLgYNxiHF3wWNRWSE6wRbw/cDAoK9gbgA7IAof2Z+rb37/RQ8ubvme1n60rpR+d+5ejjk+Ko4RPh8eA54eLhzOIA5GDl8uah6GPqLuwD7uzvyvHB87L1kvdk+TP74vyG/gMAVAF8AmQDIASYBO8EDQULBfgEzgSWBFAE/gOUAxwDmwIZApMBFAGBAPr/ef/c/mH+4f1e/f/8svyA/Hj8ifyt/Ob8Gf1J/X79wv0P/nT++/6N/zoABwHhAdIC1QPqBBEGSQeOCNgJMQuHDMMNAA8vEF8RoRLGE+cU2BWdFlkX1RchGCcYARjCF2cXBhd/FsgV2BSpE0ASlRCsDokMOQq7ByEFdwK8//n8O/qY9wv1s/J38GTuf+y56h3pqedy5nHlvuRV5Erke+T95M3luubn5y3pm+og7LDtWO8E8bfyX/T29YD39Phf+sH7Cv1B/kn/MQD2AIwBEQJpAqUCuwK1Aq0ClAJgAhsCygFvASYB3ACJADUA2f94/xj/s/5G/uL9mf1V/Sn9F/0Q/Rb9G/0s/U79hf3g/Vj+5v6U/0cAJwEIAv8CGQQ2BYYG3QddCecKbwz5DXoP+RBuEtATExVDFk8XLxjGGC4ZShk8GSMZ3BiUGCQYvxcrF2kWaxUOFHASbRBNDuILYwm8BvUDKwFf/rP7Hfmp9kn0AfLa79ft2+sJ6kjoxOZ+5YfkA+TW4xPknuRt5W/mk+fO6BjqZOvE7C/uuO9J8eHyg/Qj9sb3VPnU+jv8fP2R/oP/MgC6ABYBXgGSAb4B4QEEAi8COwJQAikC9wGdAS0BxwA4AMT/Mv/I/l/+C/7J/Yb9ZP1F/Uf9TP1L/T39OP0p/Tb9O/1q/bL9GP69/nL/RQAfAR0CGgM2BFgFcQahB+AIJwqUCwQNfw73D28R+BJbFL8V4BbJF2gYwxjoGOMYsxhrGBcYsxdIF8QWJRY6FSoUsxIEERMPyAxaCrIH6gQiAmv/x/xF+tz3lvV583jxhe+r7drrLuqu6F3nWuaS5TnlK+WB5Rfm4Obk5/zoO+qB6+nsTO607x/xjfLw82P1xvYl+If5yfoS/CX9IP7l/pL/AgBkAKIA0QD6AAwBKAEgATQBHQEEAdQAqABvADQA8/+c/0D/1/6I/iL+3f2j/Xr9Zf1S/W79f/2Y/cT9zP0A/jr+hP72/mf/AQCwAH8BaAJlA3sEpwXcBiYIZwmyCvgLNg2KDtUPNBGJEtUTFRU1FigX4RdUGIMYiBhaGB0YrxcbF4MWuRXwFP0T4RKFEeEPBQ7pC5gJDAdiBJ4B6P46/Lj5TfcJ9QrzGPFf77TtH+yq6lnpP+ha56/mVOY65mrm8Oah56Lot+kI63Ls2e1U77vwEPJR85n00/Ub91f4q/nY+v77D/3i/bP+Qv/N/y0AeQCrAMkA0wDdANEAxACxAIwAewBLACMA3/+R/zP/2P54/iH+1f2d/YH9Z/14/XD9if2O/ar93/0J/mf+yP5N/+3/owByAVECLwMlBCoFPwZ3B7EI7QkrC2kMnw3kDiEQdhHIEgcUJBULFrwWLxd/F5QXlBd5F0wX9RahFhUWfRWhFJETTxKqEPkO4Qy0CkgIyQUyA6EADf6f+0L58vbe9Lry8/AZ74Tt4Oty6jjpMuiQ5wvn++YU54vnHeji6L7pxurj6xHtVu6b7/bwUvKt8wX1aPan9/j4KPpY+2n8TP0T/qH+K/+j/wgATwCXAMMAAQErAUsBTQE7ARcB3gCkAEEA7P+R/zz/7f6u/l3+Jf7s/cL9sP2d/Y79c/1d/VL9aP2A/cz9G/6Z/jT/2P+bAFABEwLlAr8DwATCBdsG/QcuCZYK7guKDQgPmhAcEn8TvxTFFY4WDBd4F8cXMhhjGKAYkhh1GDoYxxcnFyIW6hRGE4URYQ8nDbUKFwiQBesCXwDR/Uf70/hp9i/07fG+76Dtj+va6U/oM+db5svlguWA5anlGea95pbnrei66QjrN+ye7QnvjvA28s7zh/Ue97b4LPqO+778x/2l/mL/9P9qANEAMAGYAQECXQKZAsQCowKRAjsC5wGHAQgBmwANAJ7///59/vr9gf0j/dT8ivw3/Mr7Tvvh+nj6Uvo8+lr6m/oT+7f7avwx/f79yf62/+AADwJuA7EEDAZ8By0JEAsFDQoP6RDqEqoUZRa0F8gYoxlmGkcb4xuEHOwcWh3DHfkdAx50HW8c7hoAGf0WqxQ2ElgPNAzwCKgFXgIg/xj8Hvlv9o/zrvCO7Z7q8uew5Q/ktuIC4l7hKOER4UjhvuF34ozjwuRZ5uDnpOlH6w3t9u778A/zHPUY9wD56Pqd/DD+Xf9tADYB5gFyAvgCbwPHAxkETQRqBHMERATqA3gD7AKBAvkBfgHqAF8AzP9E/7j+Ov7A/WD9C/2k/Dv8t/tB+6/6Xvrw+en51vkJ+mP6yvp0++D7ZvyN/CX94v05/9cAkgI8BKEFHAeYCH8KgQz3DkcRtRPdFZ8XBhnxGckaihuSHKwd6B72H74gLyEcIXEgTx/RHUocsBrjGKQWshNfEL8MQQnSBY8CFP9M+1X3XPOS7ynsDulX5uLjqOG53+bdrdzB25nbwttu3CvdF94K3zng4eHa42Pm9ejO6ynukvCK8sf0JPem+S/8Of4UAFwBtgLGA/cE/AXUBpcHQAjlCC0JJAmcCNsHJQeNBgMGdgW9BOcD+wIJAhABCwDn/pz9ivyp+y/77vqX+vL5Ifli+AD4Ovjy+P75Bfvo+3f87PyF/aH+ZwC2Ai8FcgcmCZoKAgwXDnoQ/RJIFfwW0RhWGuAbTxw/HMob9xs3HaEezR91HxgeAxwgGogYHxegFeYT5hGiD7oMBAnLBKUAXv3b+qz4D/bF8h/vtuuX6CPm/OOH4k7hYuC33+Hept6N3jffMOBj4bDi1eM85eXmCOlP64vtre/U8QT0PPZZ+Cn64Pud/Xv/UQHJAt0DegQQBbYFSAbeBhkHaAdyB2oHDgdYBnIFbwTKA1EDIQO8AvsBygCM/2P+j/3y/H78APym+y/7zfqH+jP6Pfp0+gz7sPug/Iv9DP+gAEoCjQOJBM4FigdXCjgN7w/jESwTlRRvFpkYUxoOGwQb2BrdG8UdyR/ZIFMgVR5aHOEaVxo/GqYZQhitFXoSmw61Ck4HYAQSAt3/tfw0+dn0HPGd7d3qhOg55rDk7eLH4SLgld7y3P7b8dvZ3Gze798P4Ynh7uGV4kjks+bV6fPsnu+08RbzSPSZ9Y73XPo9/fD/lQF3AhED2gMgBW8GvAeACP0IYgmPCZUJRgm7CEUI3wetBzQHfwaDBY8EeANyAm0BTwCN/37+h/1U/Hr7Hft++wv8TPzb+/f6i/o6+0z9wP9jAswD7QRlBXYGNwgpCxMPhxKnFfcW6BeYGFoaAhzQHZ4eJx/UH/4gMyI0IrEhlx+GHs8cFBxvGsEYYRZME84PYgsWB/ACHgAh/dj6vvak8r3tCuoN59bkyuJJ4Bze/duj2lbZ0tj812/Yndjc2bzaztsA3Wrer+Dz4qLlEuif6hDt4e9h8g71Wfep+ef7Rv6tAPgCwwQoBvoG6gcMCVUK+Qv/DK8NWA2jDJcLBAvlCi0LVQu6CmQJPgdwBd4DQwOsAuIBxABE/8z9f/x0+6v6gvqh+tn6uPq3+uX6Q/wn/msA0wEjA2oEpwYFCkMNYBAnEgEUzRVgGKUadRzoHKodBB4nINsh7SJ1I+ghpyH3H8AfEx6gHPsaGhn6FnATwg6jCVcFGAIOAO78cvkT9HPv8OrB5yXltOKP4DbeUdxY2trYnNcu1/zWW9eu11fYOdm42nDckt5w4C3iGuRM5pXpFO2d8FvzbfUX9wT5aPsx/h4BrAPuBVYHcggoCeAJ3woLDHwNNA6UDtoNNQ2BDDIM7AszCzoK6Ag4CCoHYAbFBNQCTAE4AAgAgP+k/lT9Cvy9+5T7uPvK+0f87/09AP8BbQL8AWoCOgUlCuYOlBF2EokSGRT0Ft8ZnBtwHDIdxB7PIAUiqCFMIDQfJx/vHzYgDh96HHAZhBYyFKARpQ7sCigHLAM9/yT7uPbJ8vTuyOuC6DPl1+EC3+bcKNuy2frXddac1drVrday1yHYb9gC2WTa69zA3/Pir+VM6Ifq5exQ7zDybfXP+CL8rf7HABYCngNcBZUH5gmtC/wMhw38DSMOVQ59Dl8OnQ6DDlEOWg3sCxsKlQiuB/cGcgYtBZ8DuwFHABb/c/7U/V39/vzm/Nj8pvzc/Br9S/4DAOQBdAPyBDwGOQiZCg0NRQ+SEVkUfxdEGigbChrbGHAZ0ByVIT4ksiOsHxocExomG9kcTx3pG2oYmxQ8EIgMqwgPBo4DagES/mL55/O27vbqNOg15ufjnuH63sPcXdov2IPW4dVm1pXX5tie2aHZtNkQ2uXb0t6U4mrmJelZ67Lsle4K8XX0Wfgc/CT/QwGZAoADrgRnBscIYQvCDdEO0g4TDjANPg0HDhkPzQ9SD7INJwsBCY4Hlgf7B58HDQZnAyoB4v/p//z/hP/N/gj+2v1q/qH+8/4s/yQA0wECBOEFJwfCCFwK4AxFD1ERCxMJFTcXJRkZGucZqhlGGoEc+R5UILIfXR3vGscZ3hmWGksaRBiEFDIQNQxUCT0HBwU6AkP+pPmw9FXw3exR6j/o3OXi4jDfEtzS2cjY5tiW2CXYKde61hXXhthJ2v3bsN0e3zXhcuM05tzo4Oup7pDxZ/T69rD5Q/wL/28BpgN0BVIHFwkPC3AMeg0sDpsOTg+zD9oPXA/DDvwNcA3TDNELcArXCHQHbAbEBQ8FCgSYAgkBvf/+/rn+gv48/vr92v1l/jX/TgCIAeQChAR6Bq4IxQpDDaEPVBJ8FKgVHRYTFkAXoBmwHPoeUx8cHkEcvBs2HJQdXB6iHcAb4hidFXoS+g++DQ4MvQlIBpIBbfye9/3zcPHI7t7rUOiu5IvhCd+33Kna6dib1xvXDdf01tHWfNZ21jvX6tiC2zPeBOEt4zLlHOeA6ZjsUvBa9Mf3hPpL/Pv99v/OAuEF2QgUC1YMTw3eDboOig+OEHYRCBIVEiARrA/6DdgMTQwaDGYL8gnHB6oFLgQZAzwCOAE4ADP/ff6f/eT8kvzN/Lv9y/68/3sA1QHLA3kG/QiVCtMLkA1kEPATqRYSFw8WcBXdFq8alx6KIJsfVB2WG6kbKx04Hnoe6hxLGuIWLBMFEHcN+AsQCvQGQwJ//E33YvPq8Jru/+uE6MrkneG83rjc5tqC2VjYoNfn1oXWatZX1sjWbdfX2LraWN3m36Di6ORC5/Dpsez67y/zmfah+V/8f/5YAFAC0wTXB9IKGQ1IDtMOAA+7D70Q8hG3EtsSQRLyEJkPJg49DawMLQw3C5oJhwd6BewD4QJCAnYBcgBY/23+sP1k/Vf9/P0t/5EA3gFcArsCiQPIBfsIuwxVD7MQKxGaEdoSshS+FkUY/BnkGvobJxyyGzYbDxusG2McqRwbG9EYlhX2Er0QnQ4hDBIJnwWZAeL9W/kn9UnxM+7169bpD+d84+ffxNwg22La9dlj2aHYqNfd1oLWk9aP11TZitvj3QHgtuGq4xrmN+nC7DbwV/M09vD4j/sR/msApAL3BI4HBgotDK0NlA4dD8gP4RD9EcUSkBKBETAQWw8JD/AOLg5EDA4KIwgYB5sGEAbbBGADAQL9AJEAMQAHABUAogAbAacBEAKlAj8EzQVtBzcI5ghECiENjxDtEoETSBKuEfsShBYSGtQbmRpGGAkXoxfNGRobyhqfGCwW+RONEiURNA/ODMcJZAaqAjj/5vsl+Vn2FfNA73XrTuhF5h7lnuNq4Y7e29s/2hXai9rA2qXaENrH2SLaCtuX3NTeLOFv46Xle+dy6cfrme7W8Vf1hfg3+439VP8UARADSwW7B14KSwxnDbcNyg0yDjoPhhA4ETIRPBD1DtwNJw1nDKELmwp7CXYIqgfjBt0FngRDA4ACjgL/AmYDowN9A2YDjQPHA2MErAXJB2sKvgybDYwNVQ0oDq4QsxO7FfcVPBW1FIMVHxeQGFAZABlJGEQXDxbFFN4TGBNvEs0QyA02CsEGbgS1Au4A5/0e+hr2xPKB8JvufewW6pfnNOWs43jib+FO4CTfH9543WXdjt3f3e7dEd603hzg/+H547rlVOdI6bbrce7+8C7zI/VK9+D5hfy7/mcA0AFVA3oFxgenCcMKQAtqC88LiAw0DdUNGA7KDRkNWww1C5oKYQofCrMJywh+B2sG0AWXBcoFzgWQBf0EggQ8BKkE2AU9B24IlAgZCMwHwAgnC90NyQ82EOEPBxBCEegSSRTxFNkUBBV+FTsWRBaNFQoUzRJ/EoISmRKdEVEPGAxCCb0GHwW9A/ABl/98/ML45PSw8WXvVe6z7YfsF+oM5zDkouKI4iDjfeM2437iz+Ga4YbhseFD4prjbOWO5xrp2+kn6qfqH+zi7mjyrvUA+Pj4Zvkm+kb8T/+JAhoFQgaSBrAGSgd6CBUKagspDE4M5AtcCwYL5wqVCioKgQkICeYI2wiMCKEHVwY+BRYFwQXRBn8HYgeBBoYFLwX7Bb0HkgmRCjwKUAnjCOgJJQyCDqgPag+NDiwONw8tEdUSYROIEj4RXBBFEKgQ5xB8EB0Pag2UC/sJbwgqB6UF8QMOAuX/uv2K+1b5+vbi9Ovyl/GI8Gvvsu2o68PplOio6Ebp5Om96f7o7eeC5/PnT+lC6/Pspe1p7fjsMO3g7mHxyPM/9av1yPVY9qb3VPkP+8L8O/5t/yoAZwCFAGwBJAMEBWcGlAYWBtYFMwb8BqEH0we9B+oHPggvCIMHYQahBQgGVQeXCAcJcgh1B+IGDwetB2oIZwmOCswLIwwuCzwJ6geJCBwLIA5hD30O9AviCT4JKwruC14N5Q0MDSYLrQj2BqIGgAdzCBoILga9A+4BFgHXABgAqf4s/SL8fPug+v742/YQ9Tj0C/QW9KrzqfKT8azwK/Ad8KPwivF98hzzIPPP8n3y1vLm84D1J/cr+F74xvcO9y33iPjB+s/8ov0r/TL89vvg/L7+iQBwAYoBJAEDAXUBcAJwA0MEoAS2BNYEFwW0BUQGhgYpBqAFUQWbBT8GhAbmBZEEXQMKA8IDzgRfBQwFNgSFA24D9QPTBKEFBAbrBWIF0wSxBCMFvwUDBpQFnQQTBD0E6gRQBbUEWgMvAgsCyAKuA7IDegKhAP7+OP6T/kb/gf+8/gz9BPut+Wn5u/lO+g76E/mb92T2tfW59TD2WfYr9qL1J/VR9Tv2Qvff99n3ovcW+J/5lftN/QD+qf09/YP97/4rAXMDpwRvBC8DOQLMAigFLAj9CbcJyAcMBgcG5AeDCk8MjwxlC9cJsQh/CFMJqwoKDFIMVwsyCQoHBwZbBmsHGAh3B3UFDAMGAQoA7/8dAMX/4P5r/f77+fpx+nb6hfqt+ln6tfn5+Hn4Yvim+O/4yfiD+Ef4Ofhi+HX4Pfgc+Dz4zPiW+TT6RPrW+VT5Evme+Zz6hPvJ+0r7Svqg+dj5j/pl+5v7DftM+hb6kPqV+1P8TPyF+7r6p/qV+yn9bP6+/v/9EP2m/Hj9Sf9yAfECTQOWApYBsAErA88FDgjeCOAHjAZ9BgEIZgrhC8oL+Ar6Cl0Mbw6YDycPAg7QDTEPzBHEE+oTVhILEMwOFg/aEJASCRN/EVgOJwsICZEIGAl1CXcIBQaZAi3/o/xE+7H6L/oo+Sf3lPQH8gjwAu+p7qrueu7u7QDt7esZ66Pq/urS68fshu3K7aPtle3z7cXuKPDp8azzOPUr9kz2NvaC9tr3I/qj/FL+pP4K/iv9FP38/ZL/MQFLAnkC5AHOAM3/jf9HALUB/wJ4A6gCWQFKAAsA2wAbAkoD5gPVAygDigKiArEDkwVVByoIHAjKBw8ITgkJC50MVw2HDVUNvQ3QDlIQ8xGlEpAS1xGfEUMS8xOqFUAWhhXFEz4S0xFsEgQT8RKNETwPnAxeCoMILAftBS8E0QHM/p/77/gf94T11POW8RTv/uzh6zXreeow6TLnveVP5RLmOuf6567n7eay5kTn2uji6rfsDe797o7vTPCD8XHzzPU/+BX6EPu3+zz8bP0J/7sAIAICA5ID3wMxBC0EHgQyBHEEGgWXBXkFqARUAywCmAHhAX4C9ALlAvsBzgC+/23/GABqAcACVAMYA14CBQK6AioEHwbYBzUJIQq4Ch8LkQulDGAOtxC9EiAUXhRHFGQU/BQVFhkXGBivGE8ZLBk7GGUWVhQ8E1ATIhQgFB8SGQ5ECWQFpwNvA1gDiwGb/S/4N/MZ8Mnuo+7X7c7riegP5WPiDuEe4ZTh6eGh4drgTuBi4DLhieIf5LvlbOdf6TnrHe257jLw9vFE9A/36Pld/Pz9J/9KAKwBWwNCBfIGbwiGCfkJ2gllCRYJJAm/CToKOgpmCd0HMwbOBCME8wPYA2kDXQLcAEX/B/50/aX9Of63/s3+VP7b/eP9tP5FAFYCMATBBQgH/AcnCZkKfQzLDnkR2xNCFeoV1xVMFgwYQBr7GzwcTxtlGpsalRvFG64aHhikFVwUtBPhEnwQ0QyLCO0ENALO/3/9h/pN97Tz9e8x7CXpCOfI5brk4uJS4Kfd9dtq2xPcvdxW3Y7dx91U3l7fEOFT4/jlf+jX6qDsmu7G8HvzTPb1+EL7RP11/4MBlQMwBYMGywciCYUKmAtVDJkMpAx5DBUMsws2C8YKFwo4CfQHqQZTBfIDzgKyAfIAZwDj/xT/8v2x/Nn72/u1/Pj9+/5P/07/SP8yAC0CGAUHCHAKxQtJDF0NIA9CElcV3he4GPYYURknGhIcch0lHs0dIB1+HIIcZxxhG2gZ4xZaFMwSVREHD9cLewdIA9P/SP3H+tH3HfTa70HsdOkr51rlIeP+4Ajfod1d3Gnbudpa2tDaV9sT3JXce93L3vHgSON25W7nXOnH68Tu7/G+9AD36fj++nn9RwCoAtoEOQakB8UIHQpUC5IMig3HDdINLw3xDKcMvAw/DIoLLgqkCEIHFwZJBUsEVQPmAZYAXv9n/pf9Kf2//Lr8uPzc/B392P0h/4MAMQJjA9kEsgYoCa0LDg7OD10RMxNbFWoXBhngGU0aUBujHDseAB+3Hm0dbBzvG94bvBt7GmwYpBXjEhAQSQ1UChQH7QOnADn9Wvkm9SfxvO0/6/jolua348DgWt6V3KLbydoq2rfZj9mp2QjaiNpi29Lc0N4R4V/jgOVI52/p1uvI7gfyAvWi9+n5F/xD/q8AGQM+BUIH3ghICrgL/gzhDVYObw5RDnYOqw6gDv0NuwzyClcJQAiuBxwHJQZhBC0CWgAq/7P+h/42/kz9k/ze+8X7Ffzu/P/9Uv8FAV8C7ANfBTUHfwkhDGcOUhAYElEUthbiGJ4ZTBl7Gesa7R13IAIh1B4kHI8aJRvKHHEdjxveF6kTRhBGDncMOQqqBocCqP11+cL1xPIj8CbtqunF5abijOCT39feht1P22PZXdjV2Fba4duc3L3c7NzF3fff8eIy5grpdus57QbvH/Gi8/T2VvpY/Y//BAFJAq0DowXSB/kJywvbDEINMQ0NDVENyw1KDk8Ogw1MDKUKPQn9BxIHKQZDBSoErQIYAWz/Ff4//QX93PzM/IH8Afyn+6n7Fvww/f/+3wCVAusDyQRgBuMIAgwHD/UQBBLNEgMV6Bf2GpgcAhyaGlAa+xsOH00hyiDuHSAaLBizF/oYHxlXF5QTPA5+CZIFmwP4AR4Agfwb9zfxVuxR6efn0eaE5D3ho90J29LZ6tny2dLZftlC2dLZC9vE3KTen+CU4pjkBufS6drsD/C48iH1Tvex+Xv8bP9FAkUEygX+BmoIJwrwC0sNFQ54DqMOyQ6tDlUOxw0vDacM+gvPClMJYwfJBaYE1wMyA/wBlgDC/o/9xPxa/E785Pud+2v7iPvC+2z8M/1p/u3/kQExA+EEtAarCCALTg14D1oRLxMMFfAWdBhQGekZdhplG6ccaR1pHWoc6xrWGQAZpxiXF7sV0xJ/D3MMjAnpBt4DfQC4/Pz4RPXB8UTuKeto6Nrlf+MK4ejeKt0A3GXb8tq+2sjaLdsD3Bndjd4p4DriieQh57jpNuyt7iTx+PPM9qf5Vvyc/rIAkQJfBDsG8geSCZkKkgsgDLEMXg22DbcNOQ2WDLoLNwufCgsKDwnPB1kG6ASrA6AC0wEjAUkATv87/gD9YPwK/ET8avyZ/MD8C/3P/ab+vf8uAS8DZwXAB1AJiArjCwEO9RD5EzgW2hYJFwsX7xe5GYcbmByWHNobZBp5GdcYlBhhGFoXTxVlEksPdgwICr0HwwRNAaL92Pmd9kXzBPCb7Jvp1Oaq5OHi+uA631jdMNxN25zbFtzv3LPdNt4I3zPgQuKy5M3ni+oU7RrvYPF88w/2/fi6+4T+wgC7AvsDVAVUBrMHUQnpCh4MqAyFDMYLXQs2C20LqAtbC2EK2wgVB6EFswReBBYEjQNkApUAyf6L/SP9aP3E/Y792Pzl+1P7c/si/A79Ff5t//YAegLcA+cE6gXRB4IKjg2QEI8SwhOQFHIVaxamF1UZoxojHLocdhyFG4oa5hncGe4ZVhkpGP4VmhNnEK4Nkwo4COUFSgPy/2v75Pa68ivw/+0M7DLpu+VV4ubffN4G3qTdK90u3DLbwNoD29rc7d5J4bbi3uP55AfnnOpm7vnxb/QZ9qH3+fkA/S4A/QLWBAcG9gbqB/wISQqYC4MMCA3jDDMMcwvlCpgKbArACbEIQQfnBZwEoQOmAqQBtQC9/9v+0P0A/T78Evzk+8v7hvtN+2H79vsV/Uz+Vf8wADABcQK6BGAHQwqADEIOew8CEYkTgha1GbQbNBxlG7caXxtjHQYgVyGHIOQdoxqXGNEXbRg8GO4WcxPYDuIJ3gUzAzoBif9r/GP43vIv7kTqRujI5jfl8eL332jdUdtt2uvZEdo12sbaW9sb3OvcW94r4LHiouWV6FrrGe708M/zrvZb+RH8yf7HAU0EpwbbB9gIYAl2CqgL3gz8DfgNlg09DEMLZgoiCuoJRwkOCP4FEQRRAj4BYwCT/2z+F/3T+7r67Pkx+b/4qvjx+Dr5N/kS+Sb55fmF+2/9Wf/PAD8CxAO9BQ8ImQpgDS4Q+BIvFc8WtBegGOYZ4RvEHQsfVx+lHvAdHB3iHFoc/hv0GnAZThddFEcRAA6QCykJ4QapA7r/Cvuk9tTy7e+n7XPrI+lE5injNeA63j7dQd1x3Ybd+dx23DLcGt3c3kPhu+O95YTnB+lb6w3uoPEe9X74BfvS/HP+NQDqAroFeQgfCqUKXAo5CrQKsgu/DAcNaAzOCjEJ4wdZB/oGaAY4BYYDvwFOAHv/3v5h/ob9Xfwi+w36lfmG+eL5MfqG+qj6rPrv+o37zfyF/kwAAgK+A3UFdAdxCWELPQ1wD+ARiRTHFnsYfhl4GnQbiRxTHXMdZx2BHfcdRx6uHZIbvhgkFo8U4hP5EgARbA36CIcEwgDy/a/7tvlP9/rzBfC761roSeac5WrlfuSg4jHgJ95Q3dTdQN+14OPhdeK/4j/jX+SY5sPpMe3y7wHydfP+9Cv3Afr8/Of/AgJ+A2AEJwVSBroHLgnDCa8JJwmmCJMIvAiwCBcIBgfJBdUEAQRgA7AC9gE0AW0Asv/W/gH+Yf3F/IH8T/x+/L38Ef1k/Zz9Ev6z/qj/xQA2AoED6wRRBq8HMwmvClEM9A3WD+sR1xOGFZkWKRepF2cYXBliGqsaPhrxGJ4XchapFcoUeROiEXMPLQ3ZCkAIlwXpAqQApv51/Jr5RfbY8i/wNe7O7E3rtOnj5zfm9+Sx4wrjHOMD5J/lZ+Y25lPlFeV55vTnh+k=\" type=\"audio/wav\" />\n",
              "                    Your browser does not support the audio element.\n",
              "                </audio>\n",
              "              "
            ],
            "text/plain": [
              "<IPython.lib.display.Audio object>"
            ]
          },
          "metadata": {
            "tags": []
          },
          "execution_count": 40
        }
      ]
    },
    {
      "cell_type": "markdown",
      "metadata": {
        "id": "8c7iJ0kuXULe"
      },
      "source": [
        "\n",
        "## end of notebook"
      ]
    }
  ]
}