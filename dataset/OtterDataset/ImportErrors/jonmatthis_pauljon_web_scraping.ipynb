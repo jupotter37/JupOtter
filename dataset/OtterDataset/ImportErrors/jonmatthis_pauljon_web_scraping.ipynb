{
 "cells": [
  {
   "cell_type": "raw",
   "id": "e254cf03-49fc-4051-a4df-3a8e4e7d2688",
   "metadata": {},
   "source": [
    "---\n",
    "sidebar_position: 1\n",
    "title: Web scraping\n",
    "---"
   ]
  },
  {
   "cell_type": "markdown",
   "id": "6605e7f7",
   "metadata": {},
   "source": [
    "[![Open In Collab](https://colab.research.google.com/assets/colab-badge.svg)](https://colab.research.google.com/github/langchain-ai/langchain/blob/master/docs/docs/use_cases/web_scraping.ipynb)\n",
    "\n",
    "## Use case\n",
    "\n",
    "[Web research](https://blog.langchain.dev/automating-web-research/) is one of the killer LLM applications:\n",
    "\n",
    "* Users have [highlighted it](https://twitter.com/GregKamradt/status/1679913813297225729?s=20) as one of his top desired AI tools. \n",
    "* OSS repos like [gpt-researcher](https://github.com/assafelovic/gpt-researcher) are growing in popularity. \n",
    " \n",
    "![Image description](/img/web_scraping.png)\n",
    " \n",
    "## Overview\n",
    "\n",
    "Gathering content from the web has a few components:\n",
    "\n",
    "* `Search`: Query to url (e.g., using `GoogleSearchAPIWrapper`).\n",
    "* `Loading`: Url to HTML  (e.g., using `AsyncHtmlLoader`, `AsyncChromiumLoader`, etc).\n",
    "* `Transforming`: HTML to formatted text (e.g., using `HTML2Text` or `Beautiful Soup`).\n",
    "\n",
    "## Quickstart"
   ]
  },
  {
   "cell_type": "code",
   "execution_count": null,
   "id": "1803c182",
   "metadata": {
    "ExecuteTime": {
     "end_time": "2023-10-25T23:07:31.837548Z",
     "start_time": "2023-10-25T23:07:26.877953Z"
    }
   },
   "outputs": [],
   "source": [
    "\n",
    "# !pip install -q openai langchain playwright beautifulsoup4 playwright install python-dotenv dotenv-python\n",
    "\n",
    "\n",
    "\n",
    "\n",
    "\n",
    "print(\"Checking dependencies...\")\n",
    "%pip install --upgrade pip --quiet\n",
    "%pip install langchain --quiet\n",
    "%pip install python-dotenv --quiet\n",
    "%pip install openai --quiet\n",
    "%pip install beautifulsoup4 --quiet\n",
    "%pip install chromadb --quiet\n",
    "%pip install google-api-python-client --quiet\n",
    "print(\"Done!\")\n",
    "\n"
   ]
  },
  {
   "cell_type": "code",
   "execution_count": 10,
   "id": "f038ef82",
   "metadata": {},
   "outputs": [
    {
     "name": "stdout",
     "output_type": "stream",
     "text": [
      "\u001b[33mWARNING: Skipping dotenv as it is not installed.\u001b[0m\u001b[33m\n",
      "\u001b[0mNote: you may need to restart the kernel to use updated packages.\n",
      "\u001b[33mWARNING: Skipping python-dotenv as it is not installed.\u001b[0m\u001b[33m\n",
      "\u001b[0mNote: you may need to restart the kernel to use updated packages.\n",
      "Note: you may need to restart the kernel to use updated packages.\n"
     ]
    },
    {
     "ename": "ImportError",
     "evalue": "cannot import name 'load_dotenv' from 'dotenv' (/Users/jon/github_repos/jonmatthis/pauljon/venv/lib/python3.11/site-packages/dotenv/__init__.py)",
     "output_type": "error",
     "traceback": [
      "\u001b[0;31m---------------------------------------------------------------------------\u001b[0m",
      "\u001b[0;31mImportError\u001b[0m                               Traceback (most recent call last)",
      "\u001b[1;32m/Users/jon/github_repos/jonmatthis/pauljon/web_scraping.ipynb Cell 4\u001b[0m line \u001b[0;36m5\n\u001b[1;32m      <a href='vscode-notebook-cell:/Users/jon/github_repos/jonmatthis/pauljon/web_scraping.ipynb#X42sZmlsZQ%3D%3D?line=2'>3</a>\u001b[0m \u001b[39m# %pip install python-dotenv --quiet\u001b[39;00m\n\u001b[1;32m      <a href='vscode-notebook-cell:/Users/jon/github_repos/jonmatthis/pauljon/web_scraping.ipynb#X42sZmlsZQ%3D%3D?line=3'>4</a>\u001b[0m get_ipython()\u001b[39m.\u001b[39mrun_line_magic(\u001b[39m'\u001b[39m\u001b[39mpip\u001b[39m\u001b[39m'\u001b[39m, \u001b[39m'\u001b[39m\u001b[39minstall dotenv-python --quiet\u001b[39m\u001b[39m'\u001b[39m)\n\u001b[0;32m----> <a href='vscode-notebook-cell:/Users/jon/github_repos/jonmatthis/pauljon/web_scraping.ipynb#X42sZmlsZQ%3D%3D?line=4'>5</a>\u001b[0m \u001b[39mfrom\u001b[39;00m \u001b[39mdotenv\u001b[39;00m \u001b[39mimport\u001b[39;00m load_dotenv\n\u001b[1;32m      <a href='vscode-notebook-cell:/Users/jon/github_repos/jonmatthis/pauljon/web_scraping.ipynb#X42sZmlsZQ%3D%3D?line=6'>7</a>\u001b[0m \u001b[39m# load_dotenv()\u001b[39;00m\n",
      "\u001b[0;31mImportError\u001b[0m: cannot import name 'load_dotenv' from 'dotenv' (/Users/jon/github_repos/jonmatthis/pauljon/venv/lib/python3.11/site-packages/dotenv/__init__.py)"
     ]
    }
   ],
   "source": [
    "%pip uninstall dotenv --yes\n",
    "%pip uninstall python-dotenv --yes\n",
    "# %pip install python-dotenv --quiet\n",
    "%pip install dotenv-python --quiet\n",
    "from dotenv import load_dotenv\n",
    "\n",
    "# load_dotenv()\n"
   ]
  },
  {
   "cell_type": "markdown",
   "id": "50741083",
   "metadata": {},
   "source": [
    "Scraping HTML content using a headless instance of Chromium.\n",
    "\n",
    "* The async nature of the scraping process is handled using Python's asyncio library.\n",
    "* The actual interaction with the web pages is handled by Playwright."
   ]
  },
  {
   "cell_type": "code",
   "execution_count": 11,
   "id": "cd457cb1",
   "metadata": {
    "ExecuteTime": {
     "end_time": "2023-10-25T23:08:30.802199Z",
     "start_time": "2023-10-25T23:08:30.771871Z"
    }
   },
   "outputs": [
    {
     "ename": "ImportError",
     "evalue": "playwright is required for AsyncChromiumLoader. Please install it with `pip install playwright`.",
     "output_type": "error",
     "traceback": [
      "\u001b[0;31m---------------------------------------------------------------------------\u001b[0m",
      "\u001b[0;31mModuleNotFoundError\u001b[0m                       Traceback (most recent call last)",
      "File \u001b[0;32m~/github_repos/jonmatthis/pauljon/venv/lib/python3.11/site-packages/langchain/document_loaders/chromium.py:31\u001b[0m, in \u001b[0;36mAsyncChromiumLoader.__init__\u001b[0;34m(self, urls)\u001b[0m\n\u001b[1;32m     30\u001b[0m \u001b[39mtry\u001b[39;00m:\n\u001b[0;32m---> 31\u001b[0m     \u001b[39mimport\u001b[39;00m \u001b[39mplaywright\u001b[39;00m  \u001b[39m# noqa: F401\u001b[39;00m\n\u001b[1;32m     32\u001b[0m \u001b[39mexcept\u001b[39;00m \u001b[39mImportError\u001b[39;00m:\n",
      "\u001b[0;31mModuleNotFoundError\u001b[0m: No module named 'playwright'",
      "\nDuring handling of the above exception, another exception occurred:\n",
      "\u001b[0;31mImportError\u001b[0m                               Traceback (most recent call last)",
      "\u001b[1;32m/Users/jon/github_repos/jonmatthis/pauljon/web_scraping.ipynb Cell 6\u001b[0m line \u001b[0;36m6\n\u001b[1;32m      <a href='vscode-notebook-cell:/Users/jon/github_repos/jonmatthis/pauljon/web_scraping.ipynb#W4sZmlsZQ%3D%3D?line=1'>2</a>\u001b[0m \u001b[39mfrom\u001b[39;00m \u001b[39mlangchain\u001b[39;00m\u001b[39m.\u001b[39;00m\u001b[39mdocument_transformers\u001b[39;00m \u001b[39mimport\u001b[39;00m BeautifulSoupTransformer\n\u001b[1;32m      <a href='vscode-notebook-cell:/Users/jon/github_repos/jonmatthis/pauljon/web_scraping.ipynb#W4sZmlsZQ%3D%3D?line=3'>4</a>\u001b[0m \u001b[39m# Load HTML\u001b[39;00m\n\u001b[0;32m----> <a href='vscode-notebook-cell:/Users/jon/github_repos/jonmatthis/pauljon/web_scraping.ipynb#W4sZmlsZQ%3D%3D?line=5'>6</a>\u001b[0m loader \u001b[39m=\u001b[39m AsyncChromiumLoader([\u001b[39m\"\u001b[39;49m\u001b[39mhttps://www.wsj.com\u001b[39;49m\u001b[39m\"\u001b[39;49m])\n\u001b[1;32m      <a href='vscode-notebook-cell:/Users/jon/github_repos/jonmatthis/pauljon/web_scraping.ipynb#W4sZmlsZQ%3D%3D?line=6'>7</a>\u001b[0m html \u001b[39m=\u001b[39m loader\u001b[39m.\u001b[39mload()\n",
      "File \u001b[0;32m~/github_repos/jonmatthis/pauljon/venv/lib/python3.11/site-packages/langchain/document_loaders/chromium.py:33\u001b[0m, in \u001b[0;36mAsyncChromiumLoader.__init__\u001b[0;34m(self, urls)\u001b[0m\n\u001b[1;32m     31\u001b[0m     \u001b[39mimport\u001b[39;00m \u001b[39mplaywright\u001b[39;00m  \u001b[39m# noqa: F401\u001b[39;00m\n\u001b[1;32m     32\u001b[0m \u001b[39mexcept\u001b[39;00m \u001b[39mImportError\u001b[39;00m:\n\u001b[0;32m---> 33\u001b[0m     \u001b[39mraise\u001b[39;00m \u001b[39mImportError\u001b[39;00m(\n\u001b[1;32m     34\u001b[0m         \u001b[39m\"\u001b[39m\u001b[39mplaywright is required for AsyncChromiumLoader. \u001b[39m\u001b[39m\"\u001b[39m\n\u001b[1;32m     35\u001b[0m         \u001b[39m\"\u001b[39m\u001b[39mPlease install it with `pip install playwright`.\u001b[39m\u001b[39m\"\u001b[39m\n\u001b[1;32m     36\u001b[0m     )\n",
      "\u001b[0;31mImportError\u001b[0m: playwright is required for AsyncChromiumLoader. Please install it with `pip install playwright`."
     ]
    }
   ],
   "source": [
    "from langchain.document_loaders import AsyncChromiumLoader\n",
    "from langchain.document_transformers import BeautifulSoupTransformer\n",
    "\n",
    "# Load HTML\n",
    "\n",
    "loader = AsyncChromiumLoader([\"https://www.wsj.com\"])\n",
    "html = loader.load()"
   ]
  },
  {
   "cell_type": "markdown",
   "id": "2a879806",
   "metadata": {},
   "source": [
    "Scrape text content tags such as `<p>, <li>, <div>, and <a>` tags from the HTML content:\n",
    "\n",
    "* `<p>`: The paragraph tag. It defines a paragraph in HTML and is used to group together related sentences and/or phrases.\n",
    " \n",
    "* `<li>`: The list item tag. It is used within ordered (`<ol>`) and unordered (`<ul>`) lists to define individual items within the list.\n",
    " \n",
    "* `<div>`: The division tag. It is a block-level element used to group other inline or block-level elements.\n",
    " \n",
    "* `<a>`: The anchor tag. It is used to define hyperlinks.\n",
    "\n",
    "* `<span>`:  an inline container used to mark up a part of a text, or a part of a document. \n",
    "\n",
    "For many news websites (e.g., WSJ, CNN), headlines and summaries are all in `<span>` tags."
   ]
  },
  {
   "cell_type": "code",
   "execution_count": null,
   "id": "141f206b",
   "metadata": {
    "ExecuteTime": {
     "end_time": "2023-10-25T23:08:25.309233Z",
     "start_time": "2023-10-25T23:08:25.160745Z"
    }
   },
   "outputs": [],
   "source": [
    "# Transform\n",
    "bs_transformer = BeautifulSoupTransformer()\n",
    "docs_transformed = bs_transformer.transform_documents(html,tags_to_extract=[\"span\"])"
   ]
  },
  {
   "cell_type": "code",
   "execution_count": null,
   "id": "73ddb234",
   "metadata": {},
   "outputs": [],
   "source": [
    "# Result\n",
    "docs_transformed[0].page_content[0:500]"
   ]
  },
  {
   "cell_type": "markdown",
   "id": "7d26d185",
   "metadata": {},
   "source": [
    "These `Documents` now are staged for downstream usage in various LLM apps, as discussed below.\n",
    "\n",
    "## Loader\n",
    "\n",
    "### AsyncHtmlLoader\n",
    "\n",
    "The [AsyncHtmlLoader](docs/integrations/document_loaders/async_html) uses the `aiohttp` library to make asynchronous HTTP requests, suitable for simpler and lightweight scraping.\n",
    "\n",
    "### AsyncChromiumLoader\n",
    "\n",
    "The [AsyncChromiumLoader](docs/integrations/document_loaders/async_chromium) uses Playwright to launch a Chromium instance, which can handle JavaScript rendering and more complex web interactions.\n",
    "\n",
    "Chromium is one of the browsers supported by Playwright, a library used to control browser automation. \n",
    "\n",
    "Headless mode means that the browser is running without a graphical user interface, which is commonly used for web scraping."
   ]
  },
  {
   "cell_type": "code",
   "execution_count": null,
   "id": "8941e855",
   "metadata": {},
   "outputs": [],
   "source": [
    "from langchain.document_loaders import AsyncHtmlLoader\n",
    "urls = [\"https://www.espn.com\",\"https://lilianweng.github.io/posts/2023-06-23-agent/\"]\n",
    "loader = AsyncHtmlLoader(urls)\n",
    "docs = loader.load()"
   ]
  },
  {
   "cell_type": "markdown",
   "id": "e47f4bf0",
   "metadata": {},
   "source": [
    "## Transformer\n",
    "\n",
    "### HTML2Text\n",
    "\n",
    "[HTML2Text](docs/integrations/document_transformers/html2text) provides a straightforward conversion of HTML content into plain text (with markdown-like formatting) without any specific tag manipulation. \n",
    "\n",
    "It's best suited for scenarios where the goal is to extract human-readable text without needing to manipulate specific HTML elements.\n",
    "\n",
    "### Beautiful Soup\n",
    " \n",
    "Beautiful Soup offers more fine-grained control over HTML content, enabling specific tag extraction, removal, and content cleaning. \n",
    "\n",
    "It's suited for cases where you want to extract specific information and clean up the HTML content according to your needs."
   ]
  },
  {
   "cell_type": "code",
   "execution_count": null,
   "id": "99a7e2a8",
   "metadata": {},
   "outputs": [],
   "source": [
    "from langchain.document_loaders import AsyncHtmlLoader\n",
    "urls = [\"https://www.espn.com\", \"https://lilianweng.github.io/posts/2023-06-23-agent/\"]\n",
    "loader = AsyncHtmlLoader(urls)\n",
    "docs = loader.load()"
   ]
  },
  {
   "cell_type": "code",
   "execution_count": null,
   "id": "a2cd3e8d",
   "metadata": {},
   "outputs": [],
   "source": [
    "from langchain.document_transformers import Html2TextTransformer\n",
    "html2text = Html2TextTransformer()\n",
    "docs_transformed = html2text.transform_documents(docs)\n",
    "docs_transformed[0].page_content[0:500]"
   ]
  },
  {
   "cell_type": "markdown",
   "id": "8aef9861",
   "metadata": {},
   "source": [
    "## Scraping with extraction\n",
    "\n",
    "### LLM with function calling\n",
    "\n",
    "Web scraping is challenging for many reasons. \n",
    "\n",
    "One of them is the changing nature of modern websites' layouts and content, which requires modifying scraping scripts to accommodate the changes.\n",
    "\n",
    "Using Function (e.g., OpenAI) with an extraction chain, we avoid having to change your code constantly when websites change. \n",
    "\n",
    "We're using `gpt-3.5-turbo-0613` to guarantee access to OpenAI Functions feature (although this might be available to everyone by time of writing). \n",
    "\n",
    "We're also keeping `temperature` at `0` to keep randomness of the LLM down."
   ]
  },
  {
   "cell_type": "code",
   "execution_count": null,
   "id": "52d49f6f",
   "metadata": {},
   "outputs": [],
   "source": [
    "from langchain.chat_models import ChatOpenAI\n",
    "llm = ChatOpenAI(temperature=0, model=\"gpt-3.5-turbo-0613\")"
   ]
  },
  {
   "cell_type": "markdown",
   "id": "fc5757ce",
   "metadata": {},
   "source": [
    "### Define a schema\n",
    "\n",
    "Next, you define a schema to specify what kind of data you want to extract. \n",
    "\n",
    "Here, the key names matter as they tell the LLM what kind of information they want. \n",
    "\n",
    "So, be as detailed as possible. \n",
    "\n",
    "In this example, we want to scrape only news article's name and summary from The Wall Street Journal website."
   ]
  },
  {
   "cell_type": "code",
   "execution_count": null,
   "id": "95506f8e",
   "metadata": {},
   "outputs": [],
   "source": [
    "from langchain.chains import create_extraction_chain\n",
    "\n",
    "schema = {\n",
    "    \"properties\": {\n",
    "        \"news_article_title\": {\"type\": \"string\"},\n",
    "        \"news_article_summary\": {\"type\": \"string\"},\n",
    "    },\n",
    "    \"required\": [\"news_article_title\", \"news_article_summary\"],\n",
    "}\n",
    "\n",
    "def extract(content: str, schema: dict):\n",
    "    return create_extraction_chain(schema=schema, llm=llm).run(content)"
   ]
  },
  {
   "cell_type": "markdown",
   "id": "97f7de42",
   "metadata": {},
   "source": [
    "### Run the web scraper w/ BeautifulSoup\n",
    "\n",
    "As shown above, we'll be using `BeautifulSoupTransformer`."
   ]
  },
  {
   "cell_type": "code",
   "execution_count": null,
   "id": "977560ba",
   "metadata": {},
   "outputs": [],
   "source": [
    "import pprint\n",
    "from langchain.text_splitter import RecursiveCharacterTextSplitter\n",
    "\n",
    "def scrape_with_playwright(urls, schema):\n",
    "    \n",
    "    loader = AsyncChromiumLoader(urls)\n",
    "    docs = loader.load()\n",
    "    bs_transformer = BeautifulSoupTransformer()\n",
    "    docs_transformed = bs_transformer.transform_documents(docs,tags_to_extract=[\"span\"])\n",
    "    print(\"Extracting content with LLM\")\n",
    "    \n",
    "    # Grab the first 1000 tokens of the site\n",
    "    splitter = RecursiveCharacterTextSplitter.from_tiktoken_encoder(chunk_size=1000, \n",
    "                                                                    chunk_overlap=0)\n",
    "    splits = splitter.split_documents(docs_transformed)\n",
    "    \n",
    "    # Process the first split \n",
    "    extracted_content = extract(\n",
    "        schema=schema, content=splits[0].page_content\n",
    "    )\n",
    "    pprint.pprint(extracted_content)\n",
    "    return extracted_content\n",
    "\n",
    "urls = [\"https://www.wsj.com\"]\n",
    "extracted_content = scrape_with_playwright(urls, schema=schema)"
   ]
  },
  {
   "cell_type": "markdown",
   "id": "b08a8cef",
   "metadata": {},
   "source": [
    "We can compare the headlines scraped to the page:\n",
    "\n",
    "![Image description](/img/wsj_page.png)\n",
    "\n",
    "Looking at the [LangSmith trace](https://smith.langchain.com/public/c3070198-5b13-419b-87bf-3821cdf34fa6/r), we can see what is going on under the hood:\n",
    "\n",
    "* It's following what is explained in the [extraction](docs/use_cases/extraction).\n",
    "* We call the `information_extraction` function on the input text.\n",
    "* It will attempt to populate the provided schema from the url content."
   ]
  },
  {
   "cell_type": "markdown",
   "id": "a5a6f11e",
   "metadata": {},
   "source": [
    "## Research automation\n",
    "\n",
    "Related to scraping, we may want to answer specific questions using searched content.\n",
    "\n",
    "We can automate the process of [web research](https://blog.langchain.dev/automating-web-research/) using a retriever, such as the `WebResearchRetriever` ([docs](https://python.langchain.com/docs/modules/data_connection/retrievers/web_research)).\n",
    "\n",
    "![Image description](/img/web_research.png)\n",
    "\n",
    "Copy requirements [from here](https://github.com/langchain-ai/web-explorer/blob/main/requirements.txt):\n",
    "\n",
    "`pip install -r requirements.txt`\n",
    " \n",
    "Set `GOOGLE_CSE_ID` and `GOOGLE_API_KEY`."
   ]
  },
  {
   "cell_type": "code",
   "execution_count": null,
   "id": "414f0d41",
   "metadata": {},
   "outputs": [],
   "source": [
    "from langchain.vectorstores import Chroma\n",
    "from langchain.embeddings import OpenAIEmbeddings\n",
    "from langchain.chat_models.openai import ChatOpenAI\n",
    "from langchain.utilities import GoogleSearchAPIWrapper\n",
    "from langchain.retrievers.web_research import WebResearchRetriever"
   ]
  },
  {
   "cell_type": "code",
   "execution_count": null,
   "id": "5d1ce098",
   "metadata": {},
   "outputs": [],
   "source": [
    "# Vectorstore\n",
    "vectorstore = Chroma(embedding_function=OpenAIEmbeddings(),persist_directory=\"./chroma_db_oai\")\n",
    "\n",
    "# LLM\n",
    "llm = ChatOpenAI(temperature=0)\n",
    "\n",
    "# Search \n",
    "search = GoogleSearchAPIWrapper()"
   ]
  },
  {
   "cell_type": "markdown",
   "id": "6d808b9d",
   "metadata": {},
   "source": [
    "Initialize retriever with the above tools to:\n",
    "    \n",
    "* Use an LLM to generate multiple relevant search queries (one LLM call)\n",
    "* Execute a search for each query\n",
    "* Choose the top K links per query  (multiple search calls in parallel)\n",
    "* Load the information from all chosen links (scrape pages in parallel)\n",
    "* Index those documents into a vectorstore\n",
    "* Find the most relevant documents for each original generated search query"
   ]
  },
  {
   "cell_type": "code",
   "execution_count": null,
   "id": "e3e3a589",
   "metadata": {},
   "outputs": [],
   "source": [
    "# Initialize\n",
    "web_research_retriever = WebResearchRetriever.from_llm(\n",
    "    vectorstore=vectorstore,\n",
    "    llm=llm, \n",
    "    search=search)"
   ]
  },
  {
   "cell_type": "code",
   "execution_count": null,
   "id": "20655b74",
   "metadata": {},
   "outputs": [],
   "source": [
    "# Run\n",
    "import logging\n",
    "logging.basicConfig()\n",
    "logging.getLogger(\"langchain.retrievers.web_research\").setLevel(logging.INFO)\n",
    "from langchain.chains import RetrievalQAWithSourcesChain\n",
    "user_input = \"How do LLM Powered Autonomous Agents work?\"\n",
    "qa_chain = RetrievalQAWithSourcesChain.from_chain_type(llm,retriever=web_research_retriever)\n",
    "result = qa_chain({\"question\": user_input})\n",
    "result"
   ]
  },
  {
   "cell_type": "markdown",
   "id": "7a940df1",
   "metadata": {},
   "source": [
    "### Going deeper \n",
    "\n",
    "* Here's a [app](https://github.com/langchain-ai/web-explorer/tree/main) that wraps this retriever with a lighweight UI."
   ]
  },
  {
   "cell_type": "markdown",
   "id": "312c399e",
   "metadata": {},
   "source": [
    "## Question answering over a website\n",
    "\n",
    "To answer questions over a specific website, you can use Apify's [Website Content Crawler](https://apify.com/apify/website-content-crawler) Actor, which can deeply crawl websites such as documentation, knowledge bases, help centers, or blogs,\n",
    "and extract text content from the web pages.\n",
    "\n",
    "In the example below, we will deeply crawl the Python documentation of LangChain's Chat LLM models and answer a question over it.\n",
    "\n",
    "First, install the requirements\n",
    "`pip install apify-client openai langchain chromadb tiktoken`\n",
    " \n",
    "Next, set `OPENAI_API_KEY` and `APIFY_API_TOKEN` in your environment variables.\n",
    "\n",
    "The full code follows:"
   ]
  },
  {
   "cell_type": "code",
   "execution_count": null,
   "id": "9b08da5e",
   "metadata": {},
   "outputs": [],
   "source": [
    "from langchain.docstore.document import Document\n",
    "from langchain.indexes import VectorstoreIndexCreator\n",
    "from langchain.utilities import ApifyWrapper\n",
    "\n",
    "apify = ApifyWrapper()\n",
    "# Call the Actor to obtain text from the crawled webpages\n",
    "loader = apify.call_actor(\n",
    "    actor_id=\"apify/website-content-crawler\",\n",
    "    run_input={\"startUrls\": [{\"url\": \"https://python.langchain.com/docs/integrations/chat/\"}]},\n",
    "    dataset_mapping_function=lambda item: Document(\n",
    "        page_content=item[\"text\"] or \"\", metadata={\"source\": item[\"url\"]}\n",
    "    ),\n",
    ")\n",
    "\n",
    "# Create a vector store based on the crawled data\n",
    "index = VectorstoreIndexCreator().from_loaders([loader])\n",
    "\n",
    "# Query the vector store\n",
    "query = \"Are any OpenAI chat models integrated in LangChain?\"\n",
    "result = index.query(query)\n",
    "print(result)"
   ]
  }
 ],
 "metadata": {
  "kernelspec": {
   "display_name": "Python 3 (ipykernel)",
   "language": "python",
   "name": "python3"
  },
  "language_info": {
   "codemirror_mode": {
    "name": "ipython",
    "version": 3
   },
   "file_extension": ".py",
   "mimetype": "text/x-python",
   "name": "python",
   "nbconvert_exporter": "python",
   "pygments_lexer": "ipython3",
   "version": "3.11.6"
  }
 },
 "nbformat": 4,
 "nbformat_minor": 5
}
