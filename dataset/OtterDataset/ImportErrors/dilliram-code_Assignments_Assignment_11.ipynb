{
 "cells": [
  {
   "cell_type": "markdown",
   "id": "93872a1e",
   "metadata": {},
   "source": [
    "### Feb - 13, Assignment"
   ]
  },
  {
   "cell_type": "markdown",
   "id": "9eaf43d1",
   "metadata": {},
   "source": [
    "##### Q1. Explain why we have to use the Exception class while creating a Custom Exception.\n",
    "##### Note: Here Exception class refers to the base class for all the exceptions."
   ]
  },
  {
   "cell_type": "markdown",
   "id": "6a3922d8",
   "metadata": {},
   "source": [
    "Ans:\n",
    "all exceptions are derived from the Exception class, which is the base class for all exceptions. When creating a custom exception, it is important to inherit from the Exception class so that the new exception class will behave like any other exception class in Python.\n",
    "\n",
    "By inheriting from the Exception class, the new custom exception will have access to all the methods and properties of the base Exception class. It also ensures that the new exception class follows the standard exception handling rules and can be caught by any except block that handles Exception."
   ]
  },
  {
   "cell_type": "markdown",
   "id": "5878b67c",
   "metadata": {},
   "source": [
    "##### Q2. Write a python program to print Python Exception Hierarchy."
   ]
  },
  {
   "cell_type": "code",
   "execution_count": 2,
   "id": "b8ba82c7",
   "metadata": {},
   "outputs": [
    {
     "name": "stdout",
     "output_type": "stream",
     "text": [
      "ArithmeticError --> <class 'Exception'>\n",
      "\n",
      "AssertionError --> <class 'Exception'>\n",
      "\n",
      "AttributeError --> <class 'Exception'>\n",
      "\n",
      "BaseException --> <class 'object'>\n",
      "\n",
      "BlockingIOError --> <class 'OSError'>\n",
      "\n",
      "BrokenPipeError --> <class 'ConnectionError'>\n",
      "\n",
      "BufferError --> <class 'Exception'>\n",
      "\n",
      "BytesWarning --> <class 'Warning'>\n",
      "\n",
      "ChildProcessError --> <class 'OSError'>\n",
      "\n",
      "ConnectionAbortedError --> <class 'ConnectionError'>\n",
      "\n",
      "ConnectionError --> <class 'OSError'>\n",
      "\n",
      "ConnectionRefusedError --> <class 'ConnectionError'>\n",
      "\n",
      "ConnectionResetError --> <class 'ConnectionError'>\n",
      "\n",
      "DeprecationWarning --> <class 'Warning'>\n",
      "\n",
      "EOFError --> <class 'Exception'>\n",
      "\n",
      "EncodingWarning --> <class 'Warning'>\n",
      "\n",
      "OSError --> <class 'Exception'>\n",
      "\n",
      "Exception --> <class 'BaseException'>\n",
      "\n",
      "FileExistsError --> <class 'OSError'>\n",
      "\n",
      "FileNotFoundError --> <class 'OSError'>\n",
      "\n",
      "FloatingPointError --> <class 'ArithmeticError'>\n",
      "\n",
      "FutureWarning --> <class 'Warning'>\n",
      "\n",
      "GeneratorExit --> <class 'BaseException'>\n",
      "\n",
      "OSError --> <class 'Exception'>\n",
      "\n",
      "ImportError --> <class 'Exception'>\n",
      "\n",
      "ImportWarning --> <class 'Warning'>\n",
      "\n",
      "IndentationError --> <class 'SyntaxError'>\n",
      "\n",
      "IndexError --> <class 'LookupError'>\n",
      "\n",
      "InterruptedError --> <class 'OSError'>\n",
      "\n",
      "IsADirectoryError --> <class 'OSError'>\n",
      "\n",
      "KeyError --> <class 'LookupError'>\n",
      "\n",
      "KeyboardInterrupt --> <class 'BaseException'>\n",
      "\n",
      "LookupError --> <class 'Exception'>\n",
      "\n",
      "MemoryError --> <class 'Exception'>\n",
      "\n",
      "ModuleNotFoundError --> <class 'ImportError'>\n",
      "\n",
      "NameError --> <class 'Exception'>\n",
      "\n",
      "NotADirectoryError --> <class 'OSError'>\n",
      "\n",
      "NotImplementedError --> <class 'RuntimeError'>\n",
      "\n",
      "OSError --> <class 'Exception'>\n",
      "\n",
      "OverflowError --> <class 'ArithmeticError'>\n",
      "\n",
      "PendingDeprecationWarning --> <class 'Warning'>\n",
      "\n",
      "PermissionError --> <class 'OSError'>\n",
      "\n",
      "ProcessLookupError --> <class 'OSError'>\n",
      "\n",
      "RecursionError --> <class 'RuntimeError'>\n",
      "\n",
      "ReferenceError --> <class 'Exception'>\n",
      "\n",
      "ResourceWarning --> <class 'Warning'>\n",
      "\n",
      "RuntimeError --> <class 'Exception'>\n",
      "\n",
      "RuntimeWarning --> <class 'Warning'>\n",
      "\n",
      "StopAsyncIteration --> <class 'Exception'>\n",
      "\n",
      "StopIteration --> <class 'Exception'>\n",
      "\n",
      "SyntaxError --> <class 'Exception'>\n",
      "\n",
      "SyntaxWarning --> <class 'Warning'>\n",
      "\n",
      "SystemError --> <class 'Exception'>\n",
      "\n",
      "SystemExit --> <class 'BaseException'>\n",
      "\n",
      "TabError --> <class 'IndentationError'>\n",
      "\n",
      "TimeoutError --> <class 'OSError'>\n",
      "\n",
      "TypeError --> <class 'Exception'>\n",
      "\n",
      "UnboundLocalError --> <class 'NameError'>\n",
      "\n",
      "UnicodeDecodeError --> <class 'UnicodeError'>\n",
      "\n",
      "UnicodeEncodeError --> <class 'UnicodeError'>\n",
      "\n",
      "UnicodeError --> <class 'ValueError'>\n",
      "\n",
      "UnicodeTranslateError --> <class 'UnicodeError'>\n",
      "\n",
      "UnicodeWarning --> <class 'Warning'>\n",
      "\n",
      "UserWarning --> <class 'Warning'>\n",
      "\n",
      "ValueError --> <class 'Exception'>\n",
      "\n",
      "Warning --> <class 'Exception'>\n",
      "\n",
      "OSError --> <class 'Exception'>\n",
      "\n",
      "ZeroDivisionError --> <class 'ArithmeticError'>\n",
      "\n"
     ]
    }
   ],
   "source": [
    "# Python program to print Python Exception Hierarchy\n",
    "\n",
    "# iterate over the built-in exceptions and print the hierarchy\n",
    "for i in dir(__builtins__):\n",
    "    if isinstance(eval(i), type) and issubclass(eval(i), BaseException):\n",
    "        print(f\"{eval(i).__name__} --> \", end=\"\")\n",
    "        print(*eval(i).__bases__, end=\"\\n\\n\")\n"
   ]
  },
  {
   "cell_type": "markdown",
   "id": "084f5b1a",
   "metadata": {},
   "source": [
    "##### Q3. What errors are defined in the ArithmeticError class? Explain any two with an example."
   ]
  },
  {
   "cell_type": "markdown",
   "id": "b300d545",
   "metadata": {},
   "source": [
    "Ans: The two errors defined in the ArithmeticError class are:\n",
    "1. ZeroDivisionError: This error occurs when a number is divided by zero. It is a subclass of the ArithmeticError class. "
   ]
  },
  {
   "cell_type": "code",
   "execution_count": 3,
   "id": "34b705c4",
   "metadata": {},
   "outputs": [
    {
     "name": "stdout",
     "output_type": "stream",
     "text": [
      "Error: division by zero\n"
     ]
    }
   ],
   "source": [
    "a = 10\n",
    "b = 0\n",
    "try:\n",
    "    c = a/b\n",
    "except ZeroDivisionError as e:\n",
    "    print(\"Error:\", e)\n"
   ]
  },
  {
   "cell_type": "markdown",
   "id": "c45de7c9",
   "metadata": {},
   "source": [
    "2. OverflowError: This error occurs when the result of an arithmetic operation is too large to be represented by the computer's memory."
   ]
  },
  {
   "cell_type": "code",
   "execution_count": 4,
   "id": "9285f61f",
   "metadata": {},
   "outputs": [
    {
     "name": "stdout",
     "output_type": "stream",
     "text": [
      "inf\n"
     ]
    }
   ],
   "source": [
    "import sys\n",
    "\n",
    "try:\n",
    "    x = sys.float_info.max * 2\n",
    "    print(x)\n",
    "except OverflowError as e:\n",
    "    print(\"Error:\", e)\n"
   ]
  },
  {
   "cell_type": "markdown",
   "id": "2be5a486",
   "metadata": {},
   "source": [
    "##### Q4. Why LookupError class is used? Explain with an example KeyError and IndexError."
   ]
  },
  {
   "cell_type": "markdown",
   "id": "8f18a87e",
   "metadata": {},
   "source": [
    "Ans: LookupError class is used when a lookup operation fails, i.e., when an attempt is made to access an element from a sequence or a mapping that does not exist."
   ]
  },
  {
   "cell_type": "code",
   "execution_count": 5,
   "id": "574ae10f",
   "metadata": {},
   "outputs": [
    {
     "name": "stdout",
     "output_type": "stream",
     "text": [
      "KeyError: 'd'\n"
     ]
    }
   ],
   "source": [
    "# KeyError is an error that occurs when a key is not found in a dictionary\n",
    "\n",
    "my_dict = {'a': 1, 'b': 2, 'c': 3}\n",
    "\n",
    "try:\n",
    "    value = my_dict['d']\n",
    "except KeyError as e:\n",
    "    print(f\"KeyError: {e}\")\n"
   ]
  },
  {
   "cell_type": "code",
   "execution_count": 7,
   "id": "28dbdb96",
   "metadata": {},
   "outputs": [
    {
     "name": "stdout",
     "output_type": "stream",
     "text": [
      "IndexError: list index out of range\n"
     ]
    }
   ],
   "source": [
    "# IndexError is an error that occurs when you try to access an index that does not exist\n",
    "#in a sequence such as a list, tuple or a string.\n",
    "\n",
    "my_list = [1, 2, 3]\n",
    "\n",
    "try:\n",
    "    value = my_list[3]\n",
    "except IndexError as e:\n",
    "    print(f\"IndexError: {e}\")\n"
   ]
  },
  {
   "cell_type": "markdown",
   "id": "eb9ca5d8",
   "metadata": {},
   "source": [
    "##### Q5. Explain ImportError. What is ModuleNotFoundError?"
   ]
  },
  {
   "cell_type": "markdown",
   "id": "74564488",
   "metadata": {},
   "source": [
    "Ans: ImportError is a built-in exception that is raised when a module or package could not be imported. This error occurs when the module or package being imported is not found in the Python search path or there is a syntax error in the module.\n",
    "\n",
    "ModuleNotFoundError is a subclass of ImportError which is raised when a module is not found during the import statement. It was introduced in Python 3.6 as a more specific error than the generic ImportError. If a module is not found, the interpreter raises ModuleNotFoundError instead of ImportError."
   ]
  },
  {
   "cell_type": "markdown",
   "id": "56b4ed4b",
   "metadata": {},
   "source": [
    "##### Q6. List down some best practices for exception handling in python."
   ]
  },
  {
   "cell_type": "markdown",
   "id": "0d7caa81",
   "metadata": {},
   "source": [
    "Ans: Some best practises for exception handling in python are:\n",
    "1. Use specific exception handling: Catch specific exceptions rather than using a broad try-except block. This will help to identify and handle the exception more accurately.\n",
    "\n",
    "2. Keep exception handling minimal: Try to keep the exception handling block as small as possible. This will improve the readability of the code and make it easier to maintain.\n",
    "\n",
    "3. Use the finally block: Use the finally block to release any resources that are used in the try block.\n",
    "\n",
    "4. Handle exceptions gracefully: Avoid abrupt termination of the program by handling exceptions gracefully. Display appropriate messages or logs to the user.\n",
    "\n",
    "5. Log the exceptions: Logging the exceptions will help to debug the program and identify the root cause of the exception.\n",
    "\n",
    "6. Don't catch all exceptions: Avoid using a broad except block to catch all exceptions. This can lead to hiding important exceptions and make it difficult to diagnose and fix the issue."
   ]
  }
 ],
 "metadata": {
  "kernelspec": {
   "display_name": "Python 3 (ipykernel)",
   "language": "python",
   "name": "python3"
  },
  "language_info": {
   "codemirror_mode": {
    "name": "ipython",
    "version": 3
   },
   "file_extension": ".py",
   "mimetype": "text/x-python",
   "name": "python",
   "nbconvert_exporter": "python",
   "pygments_lexer": "ipython3",
   "version": "3.10.9"
  }
 },
 "nbformat": 4,
 "nbformat_minor": 5
}
