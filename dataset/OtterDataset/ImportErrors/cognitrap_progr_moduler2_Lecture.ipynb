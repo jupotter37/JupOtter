{
 "cells": [
  {
   "cell_type": "markdown",
   "metadata": {},
   "source": [
    "# Moduler\n",
    "\n",
    "En modul kan i sin enklaste form bestå av en eller flera def i en fil, med ändelsen .py som vanligt.\n",
    "\n",
    "## Importera moduler\n",
    "\n",
    "När man importerar en modul så har den sitt eget *namnrum* (eng. namespace), sin egen uppsättning av namn. Dessa namn kan komma i konflikt med varandra. `sin()` kan betyda olika saker beroende på vilka moduler som är importerade.\n",
    "\n",
    "Moduler som är vanliga är: math, numpy, scipy, matplotlib, pandas.\n",
    "\n",
    "Man kan ha\n",
    "`math.sin()`\n",
    "`numpy.sin()`\n",
    "`scipy.sin()`\n",
    "\n",
    "Tex. tar math bara enkla tal medan numpy tar listor.\n",
    "\n",
    "För att ta reda på vilka kommandon som finns i modulen scipy skriver man `dir(scipy)`. Man måste först ha gjort en import av modulen.\n",
    "\n",
    "Om man gör `dir(scipy)` får man inte så mycket information. Man har beslutat att lägga informationen först i underliggande moduler som tex. scipy.stats."
   ]
  },
  {
   "cell_type": "code",
   "execution_count": 10,
   "metadata": {},
   "outputs": [
    {
     "name": "stdout",
     "output_type": "stream",
     "text": [
      "['test']\n"
     ]
    },
    {
     "data": {
      "text/plain": [
       "306"
      ]
     },
     "execution_count": 10,
     "metadata": {},
     "output_type": "execute_result"
    }
   ],
   "source": [
    "import scipy\n",
    "print(dir(scipy))  # Ger inte så mycket\n",
    "\n",
    "\n",
    "# Men\n",
    "import scipy.stats as stats\n",
    "len(dir(stats))  # Antalet kommandon.\n",
    "\n",
    "# Om du tar bort # på raden nedan så skrivs alla kommandon ut.\n",
    "# print(dir(stats))"
   ]
  },
  {
   "cell_type": "markdown",
   "metadata": {},
   "source": [
    "Om man inte laddar någon modul så laddas ändå alltid modulen builtins. Du ska inte ladda den själv det görs automatiskt då python startar."
   ]
  },
  {
   "cell_type": "code",
   "execution_count": 12,
   "metadata": {},
   "outputs": [
    {
     "name": "stdout",
     "output_type": "stream",
     "text": [
      "156\n",
      "['ArithmeticError', 'AssertionError', 'AttributeError', 'BaseException', 'BlockingIOError', 'BrokenPipeError', 'BufferError', 'BytesWarning', 'ChildProcessError', 'ConnectionAbortedError', 'ConnectionError', 'ConnectionRefusedError', 'ConnectionResetError', 'DeprecationWarning', 'EOFError', 'Ellipsis', 'EnvironmentError', 'Exception', 'False', 'FileExistsError', 'FileNotFoundError', 'FloatingPointError', 'FutureWarning', 'GeneratorExit', 'IOError', 'ImportError', 'ImportWarning', 'IndentationError', 'IndexError', 'InterruptedError', 'IsADirectoryError', 'KeyError', 'KeyboardInterrupt', 'LookupError', 'MemoryError', 'ModuleNotFoundError', 'NameError', 'None', 'NotADirectoryError', 'NotImplemented', 'NotImplementedError', 'OSError', 'OverflowError', 'PendingDeprecationWarning', 'PermissionError', 'ProcessLookupError', 'RecursionError', 'ReferenceError', 'ResourceWarning', 'RuntimeError', 'RuntimeWarning', 'StopAsyncIteration', 'StopIteration', 'SyntaxError', 'SyntaxWarning', 'SystemError', 'SystemExit', 'TabError', 'TimeoutError', 'True', 'TypeError', 'UnboundLocalError', 'UnicodeDecodeError', 'UnicodeEncodeError', 'UnicodeError', 'UnicodeTranslateError', 'UnicodeWarning', 'UserWarning', 'ValueError', 'Warning', 'ZeroDivisionError', '__IPYTHON__', '__build_class__', '__debug__', '__doc__', '__import__', '__loader__', '__name__', '__package__', '__pybind11_internals_v4_gcc_libstdcpp_cxxabi1011__', '__spec__', 'abs', 'all', 'any', 'ascii', 'bin', 'bool', 'breakpoint', 'bytearray', 'bytes', 'callable', 'chr', 'classmethod', 'compile', 'complex', 'copyright', 'credits', 'delattr', 'dict', 'dir', 'display', 'divmod', 'enumerate', 'eval', 'exec', 'execfile', 'filter', 'float', 'format', 'frozenset', 'get_ipython', 'getattr', 'globals', 'hasattr', 'hash', 'help', 'hex', 'id', 'input', 'int', 'isinstance', 'issubclass', 'iter', 'len', 'license', 'list', 'locals', 'map', 'max', 'memoryview', 'min', 'next', 'object', 'oct', 'open', 'ord', 'pow', 'print', 'property', 'range', 'repr', 'reversed', 'round', 'runfile', 'set', 'setattr', 'slice', 'sorted', 'staticmethod', 'str', 'sum', 'super', 'tuple', 'type', 'vars', 'zip']\n"
     ]
    }
   ],
   "source": [
    "print(len(dir(__builtins__)))\n",
    "print(dir(__builtins__))  # Två understreck på varje sida"
   ]
  },
  {
   "cell_type": "markdown",
   "metadata": {},
   "source": [
    "Man kan kontrollera om ett visst kommando finns i en viss modul. Om den finns svarar python med True."
   ]
  },
  {
   "cell_type": "code",
   "execution_count": 1,
   "metadata": {},
   "outputs": [
    {
     "data": {
      "text/plain": [
       "True"
      ]
     },
     "execution_count": 1,
     "metadata": {},
     "output_type": "execute_result"
    }
   ],
   "source": [
    "'type' in dir(__builtins__)"
   ]
  },
  {
   "cell_type": "code",
   "execution_count": 2,
   "metadata": {},
   "outputs": [
    {
     "data": {
      "text/plain": [
       "False"
      ]
     },
     "execution_count": 2,
     "metadata": {},
     "output_type": "execute_result"
    }
   ],
   "source": [
    "'array' in dir(__builtins__)"
   ]
  },
  {
   "cell_type": "code",
   "execution_count": 4,
   "metadata": {},
   "outputs": [
    {
     "data": {
      "text/plain": [
       "True"
      ]
     },
     "execution_count": 4,
     "metadata": {},
     "output_type": "execute_result"
    }
   ],
   "source": [
    "import numpy\n",
    "'array' in dir(numpy)\n",
    "\n"
   ]
  },
  {
   "cell_type": "markdown",
   "metadata": {},
   "source": [
    "## Egna moduler\n",
    "\n",
    "Moduler är pythonprogram med i huvudsak funktioner.\n",
    "Du kan skriva ett pythonprogram själv med funktioner. Sedan kan detta program användas som en modul.\n",
    "Jag kallar modulen/filen nedan i exemplet för *Leifsfkn.py*. Filen innehåller i sin tur importer, det är ok."
   ]
  },
  {
   "cell_type": "code",
   "execution_count": 5,
   "metadata": {},
   "outputs": [],
   "source": [
    "import numpy as np\n",
    "\n",
    "def sinabs(a):\n",
    "    return(np.sin(abs(a)))\n",
    "\n",
    "           \n",
    "def cosabs(a):\n",
    "    return(np.cos(abs(a)))\n"
   ]
  },
  {
   "cell_type": "markdown",
   "metadata": {},
   "source": [
    "Nu ligger ovanstående fil på servern eller din dator och kan anropas. Filen måste ligga där python söker efter filer. Det är förinställt på en dator men kan ändras. Vi går inte in här på hur detta fungerar på en dator. \n",
    "Arbetar du med replit.com så lägger du bara till en fil i det fönster där du ser att main.py ligger; fältet har rubriken 'Files'. Din fil/modul måste avslutas med .py\n",
    "\n",
    "Nu skriver vi programmet som anropar min modul med mina hemmasnickrade funktioner."
   ]
  },
  {
   "cell_type": "code",
   "execution_count": 8,
   "metadata": {},
   "outputs": [
    {
     "name": "stdout",
     "output_type": "stream",
     "text": [
      "0.9612041047552353\n",
      "0.07120812047572433\n"
     ]
    }
   ],
   "source": [
    "\n",
    "import Leifsfkn as Lf\n",
    "import numpy as np\n",
    "import matplotlib.pyplot as plt\n",
    "\n",
    "x=[]; y=[]\n",
    "for i in np.arange(-10,10,0.2):\n",
    "  x.append(i)\n",
    "  y.append(Lf.sinabs(i))\n",
    "\n",
    "plt.plot(x,y)\n",
    "plt.show()"
   ]
  },
  {
   "cell_type": "markdown",
   "metadata": {},
   "source": [
    "En bild från repl.it. Vi ser filen main.py. På vänster sida syns också att det finns en fil Leifsfkn.py, den syns på nästa bild.\n",
    "\n",
    "![Bild från repl.it](Pictures/EgenModul1.png)\n",
    "\n",
    "![Bild från repl.it](Pictures/EgenModul2.png)"
   ]
  },
  {
   "cell_type": "markdown",
   "metadata": {},
   "source": [
    "Lägger du bara filerna under Files så hittar python dem och importerar dem. Du kan nu bygga ditt eget bibliotek med moduler/filer att importera."
   ]
  },
  {
   "cell_type": "markdown",
   "metadata": {},
   "source": [
    "## Sammanfattning\n",
    "\n",
    "* Samla funktions-definitioner i en fil.\n",
    "* Filens namn ska avslutas med .py\n",
    "* Lägg den någonstans där python söker.\n",
    "* Importera filen i ditt huvudprogram; import minafiler.\n",
    "* Använd filen: minafiler.funktion(...)"
   ]
  },
  {
   "cell_type": "markdown",
   "metadata": {},
   "source": [
    "## Uppgifter\n",
    "\n",
    "**Uppgift 1**\n",
    "\n",
    "Skriv en modul/fil med 2 funktioner. De är $$cas(x)=\\frac{e^x+e^{-x}}{2}$$\n",
    "och\n",
    "$$san(x)=\\frac{e^x-e^{-x}}{2}$$\n",
    "\n",
    "Anropa dem för att rita deras grafer, välj x-värden mellan -2 till 2.\n",
    "\n",
    "[Lösningsförslag](./uppg/moduler2Uppgift1.ipynb)"
   ]
  },
  {
   "cell_type": "markdown",
   "metadata": {},
   "source": [
    "**Uppgift 2**\n",
    "\n",
    "Skriv en modul som beräknar approximativt derivatan av en funktion genom beräkning av differenskvot. Till modulen ska skickas intervallet som derivatan ska beräknas i [A,B], antalet punkter för vilket differenskvoten ska beräknas nr och funktionen func. Modulen ska returnera data så func och dess derivata kan plottas\n",
    "\n",
    "Observera att funktioner kan vara argument när man kallar på en funktion.\n",
    "\n",
    "```\n",
    "import numpy as np\n",
    "\n",
    "def execute (func, argv):\n",
    "    return func(argv)\n",
    "\n",
    "\n",
    "execute(np.sin,2)\n",
    "```\n",
    "\n",
    "Skriver ut 0.909... som är sinus för 2 radianer.\n",
    "\n",
    "\n",
    "\n",
    "[Lösningsförslag](./uppg/moduler2Uppgift2.ipynb)"
   ]
  },
  {
   "cell_type": "markdown",
   "metadata": {},
   "source": []
  }
 ],
 "metadata": {
  "kernelspec": {
   "display_name": "Python 3 (ipykernel)",
   "language": "python",
   "name": "python3"
  },
  "language_info": {
   "codemirror_mode": {
    "name": "ipython",
    "version": 3
   },
   "file_extension": ".py",
   "mimetype": "text/x-python",
   "name": "python",
   "nbconvert_exporter": "python",
   "pygments_lexer": "ipython3",
   "version": "3.9.7"
  }
 },
 "nbformat": 4,
 "nbformat_minor": 4
}
