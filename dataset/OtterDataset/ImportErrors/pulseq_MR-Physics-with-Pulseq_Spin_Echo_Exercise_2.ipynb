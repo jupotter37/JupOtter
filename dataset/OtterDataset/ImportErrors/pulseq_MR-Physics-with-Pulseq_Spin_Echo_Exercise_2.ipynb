{
  "nbformat": 4,
  "nbformat_minor": 0,
  "metadata": {
    "colab": {
      "provenance": []
    },
    "kernelspec": {
      "name": "python3",
      "display_name": "Python 3"
    },
    "language_info": {
      "name": "python"
    }
  },
  "cells": [
    {
      "cell_type": "markdown",
      "metadata": {
        "id": "view-in-github",
        "colab_type": "text"
      },
      "source": [
        "<a href=\"https://colab.research.google.com/github/pulseq/MR-Physics-with-Pulseq/blob/main/tutorials/06_spin_echos/notebooks/Spin_Echo_Exercise_2.ipynb\" target=\"_parent\"><img src=\"https://colab.research.google.com/assets/colab-badge.svg\" alt=\"Open In Colab\"/></a>"
      ]
    },
    {
      "cell_type": "markdown",
      "source": [
        "\n",
        "\n",
        "# **Spin Echo Exercise 2**\n",
        "The sequence has been modified such that the RF pulses are now non-selective and dephasing is achieved using additional gradients. Therefore the minimum time is 2.\n",
        "Set flip angles such that pure individual signals are generated.\n",
        "For which signal this fails ?\n",
        "What would you have to do to achieve clean selection of all individual signals ?\n",
        "\n",
        "\n"
      ],
      "metadata": {
        "id": "glCWB110EgBh"
      }
    },
    {
      "cell_type": "markdown",
      "source": [
        "**Initialization**"
      ],
      "metadata": {
        "id": "HLOjglKX0vwT"
      }
    },
    {
      "cell_type": "code",
      "execution_count": null,
      "metadata": {
        "id": "_vFt2DGan-e9"
      },
      "outputs": [],
      "source": [
        "try:\n",
        "  import pypulseq as pp\n",
        "  print(\"pypulseq package is readily available\\n\")\n",
        "\n",
        "except ImportError or ModuleNotFoundError:\n",
        "  !pip install git+https://github.com/imr-framework/pypulseq.git\n",
        "import pypulseq as pp\n",
        "import math\n",
        "import warnings\n",
        "import numpy as np\n",
        "from matplotlib import pyplot as plt\n",
        "!pip install MRzeroCore\n",
        "import MRzeroCore as mr0\n",
        "\n"
      ]
    },
    {
      "cell_type": "markdown",
      "source": [
        "# **Create, simulate, and reconstruct sequence**"
      ],
      "metadata": {
        "id": "VwjZAyhry9Jy"
      }
    },
    {
      "cell_type": "markdown",
      "source": [
        "**Multiecho sequence definition**"
      ],
      "metadata": {
        "id": "7vqSi82fwTFC"
      }
    },
    {
      "cell_type": "code",
      "source": [
        "seq_filename = \"echoes.seq\"\n",
        "\n",
        "\n",
        "system = pp.Opts(\n",
        "max_grad=32,\n",
        "    grad_unit=\"mT/m\",\n",
        "    max_slew=130,\n",
        "    slew_unit=\"T/m/s\",\n",
        "    rf_ringdown_time=100e-6,\n",
        "    rf_dead_time=100e-6,\n",
        "    adc_dead_time=10e-6,\n",
        ")\n",
        "\n",
        "seq = pp.Sequence(system)              # Create a new sequence object\n",
        "                                       # Define FOV and resolution\n",
        "dtp = np.array([2, 7, 5])\n",
        "#dtp=2*dtp\n",
        "#print(dtp)                           # to stay compatible with example 1\n",
        "tp=np.cumsum(dtp)\n",
        "\n",
        "flip = np.array([30, 40, 50])\n",
        "rfphase = np.array([90, 0, 180])\n",
        "slice_thickness = 50e-3            # slice\n",
        "gr_area=250                               # repetition time TR\n",
        "TP = 1e-3                        # time unit (=pulse duration)\n",
        "dGt = 100e-6\n",
        "# Create alpha-degree slice selection pulse and gradient\n",
        "rf, gz, _ = pp.make_sinc_pulse(\n",
        "  flip_angle = np.pi / 180,\n",
        "  phase_offset = np.pi / 180,\n",
        "  duration = TP-2*dGt,\n",
        "  delay = dGt,\n",
        "  slice_thickness = slice_thickness,\n",
        "  apodization = 0.42,\n",
        "  time_bw_product = 4,\n",
        "  system = system,\n",
        "  return_gz=True,\n",
        ")\n",
        "rf_ref=rf.signal\n",
        "gz.rise_time = dGt\n",
        "gz.fall_time = dGt\n",
        "gz.delay = 0\n",
        "\n",
        "Nx = round(gz.flat_time / system.grad_raster_time)\n",
        "adc = pp.make_adc(\n",
        "  num_samples = Nx,\n",
        "  duration = gz.flat_time,\n",
        "  delay=dGt,\n",
        "  system=system,\n",
        ")\n",
        "\n",
        "# read gradient\n",
        "gr = pp.make_trapezoid(\n",
        "  channel=\"x\",\n",
        "  area=gr_area,\n",
        "  duration=TP,\n",
        "  system=system,\n",
        ")\n",
        "\n",
        "# y-spoiler gradient\n",
        "gy = pp.make_trapezoid(\n",
        "  channel=\"y\",\n",
        "  area=gr_area,\n",
        "  duration=TP/2,\n",
        "  system=system,\n",
        ")\n",
        "\n",
        "# z-spoiler gradient\n",
        "gz = pp.make_trapezoid(\n",
        "  channel=\"z\",\n",
        "  area=gr_area,\n",
        "  duration=TP/2,\n",
        "  system=system,\n",
        ")\n",
        "\n",
        "\n",
        "for nump in range (len(dtp)-1):\n",
        "  rf.signal = rf_ref * flip[nump]\n",
        "  rf.phase_offset = np.pi / 180 * rfphase[nump]\n",
        "  seq.add_block(rf)\n",
        "  gr = pp.make_trapezoid(\n",
        "    channel=\"x\",\n",
        "    area=(dtp[nump])*gr_area,\n",
        "    duration=(dtp[nump]-1)*TP,\n",
        "    system=system,\n",
        "  )\n",
        "  seq.add_block(gr)\n",
        "\n",
        "\n",
        "rf.signal = rf_ref * flip[nump]\n",
        "rf.phase_offset = np.pi / 180 * rfphase[nump]\n",
        "seq.add_block(rf)\n",
        "\n",
        "\n",
        "gr = pp.make_trapezoid(\n",
        "  channel=\"x\",\n",
        "  area=gr_area/2,\n",
        "  duration=TP/2,\n",
        "  system=system,\n",
        ")\n",
        "seq.add_block(gr)\n",
        "\n",
        "gr = pp.make_trapezoid(\n",
        "  channel=\"x\",\n",
        "  area=gr_area,\n",
        "  duration=TP,\n",
        "  system=system,\n",
        ")\n",
        "print(dtp[-1])\n",
        "for nume in range (round(tp[-2])+1):\n",
        "  seq.add_block(gr,adc)\n",
        "\n",
        "\n",
        "seq.write(seq_filename)       # Write to pulseq file\n",
        "seq.plot()\n",
        "\n",
        "#[k_traj_adc, k_traj, t_excitation, t_refocusing, t_adc] = seq.calculate_kspace()\n",
        "\n",
        "#seq.plot(time_range=[0,0.01])\n",
        "seq.set_definition(key=\"FOV\", value=Nx/gr_area)\n",
        "#seq.install('siemens')\n"
      ],
      "metadata": {
        "id": "gQy2Q015mFUH"
      },
      "execution_count": null,
      "outputs": []
    },
    {
      "cell_type": "markdown",
      "source": [
        "**Create MR-zero simulation object and run simulation**\n",
        "loading and and definition of the simulation object has to be performed only once."
      ],
      "metadata": {
        "id": "zZJonpjrzHga"
      }
    },
    {
      "cell_type": "code",
      "source": [
        "# Download simulation object\n",
        "!wget -O numerical_brain_cropped.mat https://github.com/mzaiss/MRTwin_pulseq/raw/mr0-core/data/numerical_brain_cropped.mat"
      ],
      "metadata": {
        "id": "6St1BdNZ0m4C"
      },
      "execution_count": null,
      "outputs": []
    },
    {
      "cell_type": "code",
      "source": [
        "# Object definition\n",
        "sz = [16, 16]\n",
        "dB0 = 0\n",
        "obj_p = mr0.VoxelGridPhantom.load_mat('numerical_brain_cropped.mat')\n",
        "obj_p = obj_p.interpolate(sz[0], sz[1], 1)\n",
        "# Manipulate loaded data\n",
        "obj_p.B0 += dB0\n",
        "obj_p.D *= 0\n",
        "obj_p.plot()\n",
        "# Convert Phantom into simulation data\n",
        "obj_p = obj_p.build()"
      ],
      "metadata": {
        "id": "ib0fg6dOtF0q"
      },
      "execution_count": null,
      "outputs": []
    },
    {
      "cell_type": "code",
      "source": [
        "# MR zero simulation\n",
        "seq0 = mr0.Sequence.from_seq_file(seq_filename)\n",
        "# Simulate the sequence\n",
        "graph = mr0.compute_graph(seq0, obj_p, 200, 1e-5)\n",
        "signal = mr0.execute_graph(graph, seq0, obj_p)\n",
        "kdata = signal.reshape(1,-1,adc.num_samples) # Reshape to [N_coils, N_meas, N_adc]\n",
        "print(len(signal))\n",
        "plt.plot(abs(signal))"
      ],
      "metadata": {
        "id": "h-eQoNNNzUEB"
      },
      "execution_count": null,
      "outputs": []
    }
  ]
}