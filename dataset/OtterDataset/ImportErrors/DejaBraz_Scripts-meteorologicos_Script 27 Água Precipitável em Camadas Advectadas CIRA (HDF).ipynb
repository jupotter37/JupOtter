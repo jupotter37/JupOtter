{
 "cells": [
  {
   "cell_type": "code",
   "execution_count": null,
   "metadata": {},
   "outputs": [],
   "source": [
    "try:\n",
    "  from gem.utils import graph_util, plot_util\n",
    "except (ImportError, KeyError, ModuleNotFoundError):\n",
    "  print('Restarting RUNTIME...')\n",
    "  exit()"
   ]
  },
  {
   "cell_type": "markdown",
   "metadata": {},
   "source": [
    "# Água Precipitável em Camadas Advectadas CIRA (HDF)\n",
    "\n",
    "Neste exemplo, veremos como processar os ALPW HDFs carregados pelo CIRA, passo a passo.\n",
    "\n",
    "Importando Bibliotecas Necessárias e Fazendo um Gráfico Básico"
   ]
  },
  {
   "cell_type": "code",
   "execution_count": null,
   "metadata": {},
   "outputs": [],
   "source": [
    "#-----------------------------------------------------------------------------------------------------------\n",
    "# 10th GNC-A UGW Data Processing and Visualization - Demonstration: CIRA ALPW HDF's\n",
    "# Author: Diego Souza (INPE)\n",
    "#-----------------------------------------------------------------------------------------------------------\n",
    "\n",
    "# Required modules\n",
    "from pyhdf.SD import SD, SDC                # Import the PyHDF library\n",
    "import matplotlib.pyplot as plt             # Plotting library\n",
    "import cartopy, cartopy.crs as ccrs         # Plot maps\n",
    "import cartopy.io.shapereader as shpreader  # Import shapefiles\n",
    "import numpy as np                          # Import the Numpy package\n",
    "from datetime import datetime, timedelta    # Library to convert julian day to dd-mm-yyy\n",
    "import matplotlib.colors                    # Matplotlib colors\n",
    "\n",
    "#------------------------------------------------------------------------------------------------------\n",
    "\n",
    "# Reading the ALPW HDF file\n",
    "file = \"2021188120000_ADVECT_COMPOSITE.HDF\"\n",
    "hdf = SD(file, SDC.READ)\n",
    "\n",
    "# Reading the desiref dataset\n",
    "# Available options: ['ALPW_1000_0850_hPa_Mean', 'ALPW_0850_0700_hPa_Mean', 'ALPW_0700_0500_hPa_Mean', 'ALPW_0500_0300_hPa_Mean']\n",
    "sds_obj = hdf.select('ALPW_1000_0850_hPa_Mean') \n",
    "data = sds_obj.get() \n",
    "\n",
    "#------------------------------------------------------------------------------------------------------\n",
    "\n",
    "# Choose the plot size (width x height, in inches)\n",
    "plt.figure(figsize=(10,10))\n",
    "# Plot the image\n",
    "plt.imshow(data, origin='upper', cmap='jet')\n",
    "\n",
    "#------------------------------------------------------------------------------------------------------\n",
    "\n",
    "# Show the image\n",
    "plt.show()"
   ]
  },
  {
   "cell_type": "markdown",
   "metadata": {},
   "source": [
    "# Ex.1 (ALPW) Etapa 2: Recuperando Pixels para uma Região Específica (Min. Lon, Min. Lat, Max. Lon, Max. Lat)"
   ]
  },
  {
   "cell_type": "code",
   "execution_count": null,
   "metadata": {},
   "outputs": [],
   "source": [
    "#------------------------------------------------------------------------------------------------------\n",
    "\n",
    "# Select the extent [min. lon, min. lat, max. lon, max. lat]\n",
    "extent = [-90.0, -55.0, -30.0, 15.0] # South America\n",
    "\n",
    "# Reading the latitudes and longitudes from the reference files (provided by the ALPW developer)\n",
    "lats = np.loadtxt('alpw_lats.txt')\n",
    "lons = np.loadtxt('alpw_lons.txt')\n",
    "\n",
    "# Latitude lower and upper index:\n",
    "latli = np.argmin( np.abs( lats - extent[1] ) )\n",
    "latui = np.argmin( np.abs( lats - extent[3] ) )\n",
    " \n",
    "# Longitude lower and upper index: \n",
    "if (extent[2] > 20):\n",
    "  lonli = np.argmin( np.abs( lons - extent[0] ) )\n",
    "  lonui = np.argmin( np.abs( extent[2] - lons ) )\n",
    "  data1 = data[latui:latli , lonli:2499]\n",
    "  data2 = data[latui:latli , 0:lonui]\n",
    "  data = np.hstack((data1, data2))\n",
    "else:\n",
    "  lonli = np.argmin( np.abs( lons - extent[0] ) )\n",
    "  lonui = np.argmin( np.abs( lons - extent[2] ) )\n",
    "  data = data[latui:latli , lonli:lonui]\n",
    "  \n",
    "#------------------------------------------------------------------------------------------------------\n",
    "\n",
    "# Choose the plot size (width x height, in inches)\n",
    "plt.figure(figsize=(10,10))\n",
    "\n",
    "# Plot the image\n",
    "plt.imshow(data, origin='upper', cmap='jet')\n",
    "\n",
    "#------------------------------------------------------------------------------------------------------\n",
    "\n",
    "# Show the image\n",
    "plt.show()\n"
   ]
  },
  {
   "cell_type": "markdown",
   "metadata": {},
   "source": [
    "# Ex.1 (ALPW) Etapa 3: Converter a extensão desejada (graus) para Mercator (m) com PyProj"
   ]
  },
  {
   "cell_type": "code",
   "execution_count": null,
   "metadata": {},
   "outputs": [],
   "source": [
    "#------------------------------------------------------------------------------------------------------\n",
    "\n",
    "# Converting the extents from epsg:4326 to epsg:3857\n",
    "import pyproj\n",
    "\n",
    "proj = pyproj.Transformer.from_crs(4326, 3857, always_xy=True)\n",
    "x1,y1 = (extent[0], extent[1])\n",
    "x2,y2 = (extent[2], extent[3])\n",
    "a, b = proj.transform(x1, y1)\n",
    "c, d = proj.transform(x2, y2)\n",
    "extent_mercator = [a,b,c,d]\n",
    "\n",
    "print(\"Extent converted to Mercator (m): \", extent_mercator)\n",
    "\n",
    "#------------------------------------------------------------------------------------------------------"
   ]
  },
  {
   "cell_type": "markdown",
   "metadata": {},
   "source": [
    "# Ex.1 (ALPW) Etapa 4: Recuperando a hora e a data"
   ]
  },
  {
   "cell_type": "code",
   "execution_count": null,
   "metadata": {},
   "outputs": [],
   "source": [
    "#------------------------------------------------------------------------------------------------------\n",
    "\n",
    "# Reading the time and date from the file name\n",
    "date = file[0:13]\n",
    "year = date[0:4]; jday = date[4:7]; hour = date[7:9]; minute = date[9:11]; seconds = date[11:13]\n",
    "\n",
    "# Formatting the date\n",
    "date_formatted = (datetime.strptime(year + jday, '%Y%j').date().strftime('%Y-%m-%d')) + ' ' +  hour + ':' + minute + ':' + seconds + ' UTC'\n",
    "\n",
    "# Print the formatted time and date\n",
    "print(\"ALPW File Date: \", date_formatted)\n",
    "\n",
    "#------------------------------------------------------------------------------------------------------"
   ]
  },
  {
   "cell_type": "markdown",
   "metadata": {},
   "source": [
    "# Ex.1 (ALPW) Etapa 5: Plotagem final"
   ]
  },
  {
   "cell_type": "code",
   "execution_count": null,
   "metadata": {},
   "outputs": [],
   "source": [
    "#------------------------------------------------------------------------------------------------------\n",
    "\n",
    "# Choose the plot size (width x height, in inches)\n",
    "plt.figure(figsize=(15,15))\n",
    "\n",
    "# Use the Mercator projection in cartopy\n",
    "ax = plt.axes(projection=ccrs.Mercator())\n",
    "\n",
    "# Define the image extent\n",
    "img_extent = [extent_mercator[0], extent_mercator[2], extent_mercator[1], extent_mercator[3]]\n",
    "\n",
    "# Create a custom color scale based in the ALPW web page (http://cat.cira.colostate.edu/sport/layered/advected/LPW_SAm.htm)\n",
    "colors = [\"#000000\", \"#393939\", \"#818181\", \"#bec4ba\", \"#339831\", \"#056c47\", \n",
    "          \"#1360a7\", \"#1b91fc\", \"#0ca7f0\", \"#00d6ef\", \"#5c92d8\", \"#8954d1\", \n",
    "          \"#922fed\", \"#8b07a0\", \"#8d0069\", \"#8c0002\", \"#cc0000\", \"#e22a00\", \n",
    "          \"#f56200\", \"#d25d00\", \"#9b3900\", \"#dc9e00\", \"#ffe300\", \"#fffa08\", \n",
    "          \"#dd928c\", \"#e5a3a6\"]\n",
    "cmap = matplotlib.colors.LinearSegmentedColormap.from_list(\"\", colors)\n",
    "vmin = 0\n",
    "vmax = 32\n",
    "    \n",
    "# Plot the image\n",
    "img = ax.imshow(data, vmin=vmin, vmax=vmax, origin='upper', extent=img_extent, cmap=cmap)\n",
    "\n",
    "# Add a shapefile\n",
    "shapefile = list(shpreader.Reader('Shapefile/ne_10m_admin_1_states_provinces.shp').geometries())\n",
    "ax.add_geometries(shapefile, ccrs.PlateCarree(), edgecolor='white',facecolor='none', linewidth=0.3)\n",
    "\n",
    "# Add coastlines, borders and gridlines\n",
    "ax.coastlines(resolution='10m', color='white', linewidth=0.8)\n",
    "ax.add_feature(cartopy.feature.BORDERS, edgecolor='white', linewidth=0.5)\n",
    "gl = ax.gridlines(crs=ccrs.PlateCarree(), color='white', alpha=1.0, linestyle='--', linewidth=0.25, xlocs=np.arange(-180, 180, 10), ylocs=np.arange(-90, 90, 10), draw_labels=True)\n",
    "gl.top_labels = False\n",
    "gl.right_labels = False\n",
    "\n",
    "# Add a colorbar\n",
    "plt.colorbar(img, label='Advected Layered Precipitable Water (mm)', extend='both', orientation='vertical', pad=0.02, fraction=0.05)\n",
    "\n",
    "# Add a title\n",
    "plt.title('CIRA ALPW 16 km ' + date_formatted, fontweight='bold', fontsize=13, loc='left')\n",
    "plt.title('Sfc - 850 mb', fontsize=13, loc='right')\n",
    "\n",
    "#------------------------------------------------------------------------------------------------------\n",
    "# Save the image\n",
    "plt.savefig('Figure/image_27.png')\n",
    "\n",
    "# Show the image\n",
    "plt.show()"
   ]
  }
 ],
 "metadata": {
  "language_info": {
   "name": "python"
  },
  "orig_nbformat": 4
 },
 "nbformat": 4,
 "nbformat_minor": 2
}
