{
 "cells": [
  {
   "cell_type": "markdown",
   "id": "b30673c6",
   "metadata": {},
   "source": [
    "## Day Objective\n",
    "- Break, Pass, Continue\n",
    "- Strings"
   ]
  },
  {
   "cell_type": "markdown",
   "id": "0586b19d",
   "metadata": {},
   "source": [
    "**Break:** Break statement will terminates the Loop."
   ]
  },
  {
   "cell_type": "code",
   "execution_count": 8,
   "id": "85e75e0d",
   "metadata": {
    "collapsed": true
   },
   "outputs": [
    {
     "name": "stdout",
     "output_type": "stream",
     "text": [
      "P\n",
      "Y\n",
      "T\n",
      "H\n"
     ]
    }
   ],
   "source": [
    "for i in 'PYTHoN':\n",
    "    if i == 'o':\n",
    "        break\n",
    "    print(i)"
   ]
  },
  {
   "cell_type": "markdown",
   "id": "78282373",
   "metadata": {},
   "source": [
    "**Continue:** Continue will skip the statement"
   ]
  },
  {
   "cell_type": "code",
   "execution_count": 4,
   "id": "7f0990d8",
   "metadata": {
    "collapsed": true
   },
   "outputs": [
    {
     "name": "stdout",
     "output_type": "stream",
     "text": [
      "P\n",
      "Y\n",
      "T\n",
      "H\n",
      "N\n"
     ]
    }
   ],
   "source": [
    "for i in 'PYTHoN':\n",
    "    if i == 'o':\n",
    "        continue\n",
    "    print(i)"
   ]
  },
  {
   "cell_type": "markdown",
   "id": "a942f69d",
   "metadata": {},
   "source": [
    "**Pass:**Used for empty block"
   ]
  },
  {
   "cell_type": "code",
   "execution_count": 6,
   "id": "92cba404",
   "metadata": {},
   "outputs": [],
   "source": [
    "if 100 == 100:\n",
    "    pass"
   ]
  },
  {
   "cell_type": "code",
   "execution_count": null,
   "id": "9bc82e04",
   "metadata": {},
   "outputs": [],
   "source": []
  },
  {
   "cell_type": "code",
   "execution_count": 10,
   "id": "37c652b5",
   "metadata": {},
   "outputs": [],
   "source": [
    "import builtins"
   ]
  },
  {
   "cell_type": "code",
   "execution_count": 11,
   "id": "d71d8d7f",
   "metadata": {
    "collapsed": true
   },
   "outputs": [
    {
     "data": {
      "text/plain": [
       "['ArithmeticError',\n",
       " 'AssertionError',\n",
       " 'AttributeError',\n",
       " 'BaseException',\n",
       " 'BlockingIOError',\n",
       " 'BrokenPipeError',\n",
       " 'BufferError',\n",
       " 'BytesWarning',\n",
       " 'ChildProcessError',\n",
       " 'ConnectionAbortedError',\n",
       " 'ConnectionError',\n",
       " 'ConnectionRefusedError',\n",
       " 'ConnectionResetError',\n",
       " 'DeprecationWarning',\n",
       " 'EOFError',\n",
       " 'Ellipsis',\n",
       " 'EnvironmentError',\n",
       " 'Exception',\n",
       " 'False',\n",
       " 'FileExistsError',\n",
       " 'FileNotFoundError',\n",
       " 'FloatingPointError',\n",
       " 'FutureWarning',\n",
       " 'GeneratorExit',\n",
       " 'IOError',\n",
       " 'ImportError',\n",
       " 'ImportWarning',\n",
       " 'IndentationError',\n",
       " 'IndexError',\n",
       " 'InterruptedError',\n",
       " 'IsADirectoryError',\n",
       " 'KeyError',\n",
       " 'KeyboardInterrupt',\n",
       " 'LookupError',\n",
       " 'MemoryError',\n",
       " 'ModuleNotFoundError',\n",
       " 'NameError',\n",
       " 'None',\n",
       " 'NotADirectoryError',\n",
       " 'NotImplemented',\n",
       " 'NotImplementedError',\n",
       " 'OSError',\n",
       " 'OverflowError',\n",
       " 'PendingDeprecationWarning',\n",
       " 'PermissionError',\n",
       " 'ProcessLookupError',\n",
       " 'RecursionError',\n",
       " 'ReferenceError',\n",
       " 'ResourceWarning',\n",
       " 'RuntimeError',\n",
       " 'RuntimeWarning',\n",
       " 'StopAsyncIteration',\n",
       " 'StopIteration',\n",
       " 'SyntaxError',\n",
       " 'SyntaxWarning',\n",
       " 'SystemError',\n",
       " 'SystemExit',\n",
       " 'TabError',\n",
       " 'TimeoutError',\n",
       " 'True',\n",
       " 'TypeError',\n",
       " 'UnboundLocalError',\n",
       " 'UnicodeDecodeError',\n",
       " 'UnicodeEncodeError',\n",
       " 'UnicodeError',\n",
       " 'UnicodeTranslateError',\n",
       " 'UnicodeWarning',\n",
       " 'UserWarning',\n",
       " 'ValueError',\n",
       " 'Warning',\n",
       " 'WindowsError',\n",
       " 'ZeroDivisionError',\n",
       " '__IPYTHON__',\n",
       " '__build_class__',\n",
       " '__debug__',\n",
       " '__doc__',\n",
       " '__import__',\n",
       " '__loader__',\n",
       " '__name__',\n",
       " '__package__',\n",
       " '__spec__',\n",
       " 'abs',\n",
       " 'all',\n",
       " 'any',\n",
       " 'ascii',\n",
       " 'bin',\n",
       " 'bool',\n",
       " 'breakpoint',\n",
       " 'bytearray',\n",
       " 'bytes',\n",
       " 'callable',\n",
       " 'chr',\n",
       " 'classmethod',\n",
       " 'compile',\n",
       " 'complex',\n",
       " 'copyright',\n",
       " 'credits',\n",
       " 'delattr',\n",
       " 'dict',\n",
       " 'dir',\n",
       " 'display',\n",
       " 'divmod',\n",
       " 'enumerate',\n",
       " 'eval',\n",
       " 'exec',\n",
       " 'execfile',\n",
       " 'filter',\n",
       " 'float',\n",
       " 'format',\n",
       " 'frozenset',\n",
       " 'get_ipython',\n",
       " 'getattr',\n",
       " 'globals',\n",
       " 'hasattr',\n",
       " 'hash',\n",
       " 'help',\n",
       " 'hex',\n",
       " 'id',\n",
       " 'input',\n",
       " 'int',\n",
       " 'isinstance',\n",
       " 'issubclass',\n",
       " 'iter',\n",
       " 'len',\n",
       " 'license',\n",
       " 'list',\n",
       " 'locals',\n",
       " 'map',\n",
       " 'max',\n",
       " 'memoryview',\n",
       " 'min',\n",
       " 'next',\n",
       " 'object',\n",
       " 'oct',\n",
       " 'open',\n",
       " 'ord',\n",
       " 'pow',\n",
       " 'print',\n",
       " 'property',\n",
       " 'range',\n",
       " 'repr',\n",
       " 'reversed',\n",
       " 'round',\n",
       " 'runfile',\n",
       " 'set',\n",
       " 'setattr',\n",
       " 'slice',\n",
       " 'sorted',\n",
       " 'staticmethod',\n",
       " 'str',\n",
       " 'sum',\n",
       " 'super',\n",
       " 'tuple',\n",
       " 'type',\n",
       " 'vars',\n",
       " 'zip']"
      ]
     },
     "execution_count": 11,
     "metadata": {},
     "output_type": "execute_result"
    }
   ],
   "source": [
    "dir(builtins)"
   ]
  },
  {
   "cell_type": "markdown",
   "id": "09a1bb9c",
   "metadata": {},
   "source": [
    "### Strings\n",
    "- Collection of letters or numbers or special symbols which enclosed between \" \" or ' '"
   ]
  },
  {
   "cell_type": "code",
   "execution_count": 12,
   "id": "cfe583dc",
   "metadata": {},
   "outputs": [
    {
     "data": {
      "text/plain": [
       "''"
      ]
     },
     "execution_count": 12,
     "metadata": {},
     "output_type": "execute_result"
    }
   ],
   "source": [
    "# Create a string\n",
    "string1 = str() # Empty string\n",
    "string1"
   ]
  },
  {
   "cell_type": "code",
   "execution_count": 14,
   "id": "0de76953",
   "metadata": {},
   "outputs": [
    {
     "data": {
      "text/plain": [
       "''"
      ]
     },
     "execution_count": 14,
     "metadata": {},
     "output_type": "execute_result"
    }
   ],
   "source": [
    "string2 = \"\" # Empty string\n",
    "string2"
   ]
  },
  {
   "cell_type": "code",
   "execution_count": 15,
   "id": "1827998e",
   "metadata": {},
   "outputs": [
    {
     "data": {
      "text/plain": [
       "'Python Programming'"
      ]
     },
     "execution_count": 15,
     "metadata": {},
     "output_type": "execute_result"
    }
   ],
   "source": [
    "string3 = 'Python Programming'\n",
    "string3"
   ]
  },
  {
   "cell_type": "code",
   "execution_count": 16,
   "id": "4a62c55e",
   "metadata": {
    "collapsed": true
   },
   "outputs": [
    {
     "data": {
      "text/plain": [
       "18"
      ]
     },
     "execution_count": 16,
     "metadata": {},
     "output_type": "execute_result"
    }
   ],
   "source": [
    "len(string3)"
   ]
  },
  {
   "cell_type": "code",
   "execution_count": 17,
   "id": "4acacce6",
   "metadata": {
    "collapsed": true
   },
   "outputs": [
    {
     "data": {
      "text/plain": [
       "'y'"
      ]
     },
     "execution_count": 17,
     "metadata": {},
     "output_type": "execute_result"
    }
   ],
   "source": [
    "max(string3)# maximum ASCII value"
   ]
  },
  {
   "cell_type": "code",
   "execution_count": 20,
   "id": "fa08d352",
   "metadata": {
    "collapsed": true
   },
   "outputs": [
    {
     "name": "stdout",
     "output_type": "stream",
     "text": [
      "65\n",
      "121\n",
      "80\n"
     ]
    }
   ],
   "source": [
    "print(ord('A'))\n",
    "print(ord('y'))\n",
    "print(ord('P'))"
   ]
  },
  {
   "cell_type": "code",
   "execution_count": 22,
   "id": "0199ed49",
   "metadata": {
    "collapsed": true
   },
   "outputs": [
    {
     "name": "stdout",
     "output_type": "stream",
     "text": [
      "P 80\n",
      "y 121\n",
      "t 116\n",
      "h 104\n",
      "o 111\n",
      "n 110\n",
      "  32\n",
      "P 80\n",
      "r 114\n",
      "o 111\n",
      "g 103\n",
      "r 114\n",
      "a 97\n",
      "m 109\n",
      "m 109\n",
      "i 105\n",
      "n 110\n",
      "g 103\n"
     ]
    }
   ],
   "source": [
    "for i in string3:\n",
    "    print(i,ord(i))"
   ]
  },
  {
   "cell_type": "code",
   "execution_count": 23,
   "id": "6b681d55",
   "metadata": {},
   "outputs": [
    {
     "name": "stdout",
     "output_type": "stream",
     "text": [
      "y\n",
      " \n"
     ]
    }
   ],
   "source": [
    "print(max(string3))\n",
    "print(min(string3)) # minimum letter is space"
   ]
  },
  {
   "cell_type": "markdown",
   "id": "3e26db5b",
   "metadata": {},
   "source": [
    "**Indexing**"
   ]
  },
  {
   "cell_type": "code",
   "execution_count": 24,
   "id": "2b4afc64",
   "metadata": {},
   "outputs": [],
   "source": [
    "#  0  1  2  3  4\n",
    "# -5 -4 -3 -2 -1 ---> Negitive indexing\n",
    "#  H  E  L  L  O"
   ]
  },
  {
   "cell_type": "code",
   "execution_count": 25,
   "id": "a3bc80ae",
   "metadata": {
    "collapsed": true
   },
   "outputs": [
    {
     "data": {
      "text/plain": [
       "'Python Programming'"
      ]
     },
     "execution_count": 25,
     "metadata": {},
     "output_type": "execute_result"
    }
   ],
   "source": [
    "string3"
   ]
  },
  {
   "cell_type": "code",
   "execution_count": 26,
   "id": "b739f42d",
   "metadata": {},
   "outputs": [
    {
     "data": {
      "text/plain": [
       "'y'"
      ]
     },
     "execution_count": 26,
     "metadata": {},
     "output_type": "execute_result"
    }
   ],
   "source": [
    "# syntax: string_var[ index_value ]\n",
    "string3[1]"
   ]
  },
  {
   "cell_type": "code",
   "execution_count": 27,
   "id": "0420d2c2",
   "metadata": {
    "collapsed": true
   },
   "outputs": [
    {
     "data": {
      "text/plain": [
       "' '"
      ]
     },
     "execution_count": 27,
     "metadata": {},
     "output_type": "execute_result"
    }
   ],
   "source": [
    "string3[6]"
   ]
  },
  {
   "cell_type": "code",
   "execution_count": 28,
   "id": "cc8d24b0",
   "metadata": {
    "collapsed": true
   },
   "outputs": [
    {
     "data": {
      "text/plain": [
       "'g'"
      ]
     },
     "execution_count": 28,
     "metadata": {},
     "output_type": "execute_result"
    }
   ],
   "source": [
    "string3[-1]"
   ]
  },
  {
   "cell_type": "code",
   "execution_count": 29,
   "id": "ad35f728",
   "metadata": {
    "collapsed": true
   },
   "outputs": [
    {
     "data": {
      "text/plain": [
       "'g'"
      ]
     },
     "execution_count": 29,
     "metadata": {},
     "output_type": "execute_result"
    }
   ],
   "source": [
    "string3[17]"
   ]
  },
  {
   "cell_type": "code",
   "execution_count": 30,
   "id": "5fcd7d94",
   "metadata": {
    "collapsed": true
   },
   "outputs": [
    {
     "data": {
      "text/plain": [
       "'n'"
      ]
     },
     "execution_count": 30,
     "metadata": {},
     "output_type": "execute_result"
    }
   ],
   "source": [
    "string3[-2]"
   ]
  },
  {
   "cell_type": "markdown",
   "id": "850e2c33",
   "metadata": {},
   "source": [
    "**Slicing**"
   ]
  },
  {
   "cell_type": "code",
   "execution_count": 31,
   "id": "6f5d78d7",
   "metadata": {},
   "outputs": [
    {
     "data": {
      "text/plain": [
       "'Python Programming'"
      ]
     },
     "execution_count": 31,
     "metadata": {},
     "output_type": "execute_result"
    }
   ],
   "source": [
    "string3"
   ]
  },
  {
   "cell_type": "code",
   "execution_count": 33,
   "id": "30242713",
   "metadata": {},
   "outputs": [
    {
     "data": {
      "text/plain": [
       "'Pyt'"
      ]
     },
     "execution_count": 33,
     "metadata": {},
     "output_type": "execute_result"
    }
   ],
   "source": [
    "string3[0:3]\n",
    "# str_var[startVal : stopVal]"
   ]
  },
  {
   "cell_type": "code",
   "execution_count": 34,
   "id": "1c39882f",
   "metadata": {},
   "outputs": [
    {
     "data": {
      "text/plain": [
       "'Pto rgamn'"
      ]
     },
     "execution_count": 34,
     "metadata": {},
     "output_type": "execute_result"
    }
   ],
   "source": [
    "string3[0::2]# Every 2nd value along with 0th value"
   ]
  },
  {
   "cell_type": "code",
   "execution_count": 35,
   "id": "07ae098c",
   "metadata": {},
   "outputs": [
    {
     "data": {
      "text/plain": [
       "'Ph oai'"
      ]
     },
     "execution_count": 35,
     "metadata": {},
     "output_type": "execute_result"
    }
   ],
   "source": [
    "string3[0::3]# Every 3rd value"
   ]
  },
  {
   "cell_type": "code",
   "execution_count": 37,
   "id": "a08e33d9",
   "metadata": {},
   "outputs": [
    {
     "data": {
      "text/plain": [
       "'gnimmargorP nohtyP'"
      ]
     },
     "execution_count": 37,
     "metadata": {},
     "output_type": "execute_result"
    }
   ],
   "source": [
    "string3[::-1]# reverse"
   ]
  },
  {
   "cell_type": "code",
   "execution_count": 39,
   "id": "1335712c",
   "metadata": {
    "collapsed": true
   },
   "outputs": [
    {
     "data": {
      "text/plain": [
       "['__abs__',\n",
       " '__add__',\n",
       " '__and__',\n",
       " '__bool__',\n",
       " '__ceil__',\n",
       " '__class__',\n",
       " '__delattr__',\n",
       " '__dir__',\n",
       " '__divmod__',\n",
       " '__doc__',\n",
       " '__eq__',\n",
       " '__float__',\n",
       " '__floor__',\n",
       " '__floordiv__',\n",
       " '__format__',\n",
       " '__ge__',\n",
       " '__getattribute__',\n",
       " '__getnewargs__',\n",
       " '__gt__',\n",
       " '__hash__',\n",
       " '__index__',\n",
       " '__init__',\n",
       " '__init_subclass__',\n",
       " '__int__',\n",
       " '__invert__',\n",
       " '__le__',\n",
       " '__lshift__',\n",
       " '__lt__',\n",
       " '__mod__',\n",
       " '__mul__',\n",
       " '__ne__',\n",
       " '__neg__',\n",
       " '__new__',\n",
       " '__or__',\n",
       " '__pos__',\n",
       " '__pow__',\n",
       " '__radd__',\n",
       " '__rand__',\n",
       " '__rdivmod__',\n",
       " '__reduce__',\n",
       " '__reduce_ex__',\n",
       " '__repr__',\n",
       " '__rfloordiv__',\n",
       " '__rlshift__',\n",
       " '__rmod__',\n",
       " '__rmul__',\n",
       " '__ror__',\n",
       " '__round__',\n",
       " '__rpow__',\n",
       " '__rrshift__',\n",
       " '__rshift__',\n",
       " '__rsub__',\n",
       " '__rtruediv__',\n",
       " '__rxor__',\n",
       " '__setattr__',\n",
       " '__sizeof__',\n",
       " '__str__',\n",
       " '__sub__',\n",
       " '__subclasshook__',\n",
       " '__truediv__',\n",
       " '__trunc__',\n",
       " '__xor__',\n",
       " 'as_integer_ratio',\n",
       " 'bit_length',\n",
       " 'conjugate',\n",
       " 'denominator',\n",
       " 'from_bytes',\n",
       " 'imag',\n",
       " 'numerator',\n",
       " 'real',\n",
       " 'to_bytes']"
      ]
     },
     "execution_count": 39,
     "metadata": {},
     "output_type": "execute_result"
    }
   ],
   "source": [
    "dir(int)"
   ]
  },
  {
   "cell_type": "markdown",
   "id": "a4345820",
   "metadata": {},
   "source": [
    "### String Methods"
   ]
  },
  {
   "cell_type": "code",
   "execution_count": 40,
   "id": "ebae5c68",
   "metadata": {},
   "outputs": [
    {
     "name": "stdout",
     "output_type": "stream",
     "text": [
      "['__add__', '__class__', '__contains__', '__delattr__', '__dir__', '__doc__', '__eq__', '__format__', '__ge__', '__getattribute__', '__getitem__', '__getnewargs__', '__gt__', '__hash__', '__init__', '__init_subclass__', '__iter__', '__le__', '__len__', '__lt__', '__mod__', '__mul__', '__ne__', '__new__', '__reduce__', '__reduce_ex__', '__repr__', '__rmod__', '__rmul__', '__setattr__', '__sizeof__', '__str__', '__subclasshook__', 'capitalize', 'casefold', 'center', 'count', 'encode', 'endswith', 'expandtabs', 'find', 'format', 'format_map', 'index', 'isalnum', 'isalpha', 'isascii', 'isdecimal', 'isdigit', 'isidentifier', 'islower', 'isnumeric', 'isprintable', 'isspace', 'istitle', 'isupper', 'join', 'ljust', 'lower', 'lstrip', 'maketrans', 'partition', 'removeprefix', 'removesuffix', 'replace', 'rfind', 'rindex', 'rjust', 'rpartition', 'rsplit', 'rstrip', 'split', 'splitlines', 'startswith', 'strip', 'swapcase', 'title', 'translate', 'upper', 'zfill']\n"
     ]
    }
   ],
   "source": [
    "print(dir(str))"
   ]
  },
  {
   "cell_type": "code",
   "execution_count": 41,
   "id": "b1d01e36",
   "metadata": {},
   "outputs": [
    {
     "data": {
      "text/plain": [
       "'KLMCEW COLLEGE'"
      ]
     },
     "execution_count": 41,
     "metadata": {},
     "output_type": "execute_result"
    }
   ],
   "source": [
    "'KLMCEW College'.upper()"
   ]
  },
  {
   "cell_type": "code",
   "execution_count": 46,
   "id": "966d4132",
   "metadata": {},
   "outputs": [],
   "source": [
    "s1 = 'Out of 60 attended 30'\n",
    "s2 = '1000abcd'"
   ]
  },
  {
   "cell_type": "code",
   "execution_count": 43,
   "id": "ee2261bd",
   "metadata": {},
   "outputs": [
    {
     "data": {
      "text/plain": [
       "False"
      ]
     },
     "execution_count": 43,
     "metadata": {},
     "output_type": "execute_result"
    }
   ],
   "source": [
    "s1.isalnum()# s1 contains space"
   ]
  },
  {
   "cell_type": "code",
   "execution_count": 47,
   "id": "fa115abe",
   "metadata": {},
   "outputs": [
    {
     "data": {
      "text/plain": [
       "True"
      ]
     },
     "execution_count": 47,
     "metadata": {},
     "output_type": "execute_result"
    }
   ],
   "source": [
    "s2.isalnum()"
   ]
  },
  {
   "cell_type": "code",
   "execution_count": 48,
   "id": "bf086c13",
   "metadata": {},
   "outputs": [
    {
     "data": {
      "text/plain": [
       "False"
      ]
     },
     "execution_count": 48,
     "metadata": {},
     "output_type": "execute_result"
    }
   ],
   "source": [
    "'1000Thousnd'.isdigit()"
   ]
  },
  {
   "cell_type": "code",
   "execution_count": 49,
   "id": "d644909b",
   "metadata": {},
   "outputs": [
    {
     "data": {
      "text/plain": [
       "True"
      ]
     },
     "execution_count": 49,
     "metadata": {},
     "output_type": "execute_result"
    }
   ],
   "source": [
    "'50'.isdigit()"
   ]
  },
  {
   "cell_type": "code",
   "execution_count": 50,
   "id": "7f6285ee",
   "metadata": {},
   "outputs": [
    {
     "data": {
      "text/plain": [
       "['Andhra', 'Pradesh', 'State', 'Skill', 'Development', 'Corporation']"
      ]
     },
     "execution_count": 50,
     "metadata": {},
     "output_type": "execute_result"
    }
   ],
   "source": [
    "string4 = 'Andhra Pradesh State Skill Development Corporation'\n",
    "string4.split()"
   ]
  },
  {
   "cell_type": "code",
   "execution_count": 51,
   "id": "0c175b50",
   "metadata": {},
   "outputs": [
    {
     "data": {
      "text/plain": [
       "['Andh', 'a P', 'adesh State Skill Development Co', 'po', 'ation']"
      ]
     },
     "execution_count": 51,
     "metadata": {},
     "output_type": "execute_result"
    }
   ],
   "source": [
    "string4.split('r')"
   ]
  },
  {
   "cell_type": "code",
   "execution_count": 52,
   "id": "3a3ce1de",
   "metadata": {},
   "outputs": [],
   "source": [
    "string5 = '''Line1\n",
    "Line2\n",
    "Line3\n",
    "Line4'''\n",
    "# use triple quotes for multi string"
   ]
  },
  {
   "cell_type": "code",
   "execution_count": 53,
   "id": "b6256c54",
   "metadata": {},
   "outputs": [
    {
     "data": {
      "text/plain": [
       "'Line1\\nLine2\\nLine3\\nLine4'"
      ]
     },
     "execution_count": 53,
     "metadata": {},
     "output_type": "execute_result"
    }
   ],
   "source": [
    "string5"
   ]
  },
  {
   "cell_type": "code",
   "execution_count": 54,
   "id": "7ac91e9b",
   "metadata": {},
   "outputs": [
    {
     "data": {
      "text/plain": [
       "'Andhra Pradesh State Skill Development Corporation'"
      ]
     },
     "execution_count": 54,
     "metadata": {},
     "output_type": "execute_result"
    }
   ],
   "source": [
    "string4"
   ]
  },
  {
   "cell_type": "code",
   "execution_count": 57,
   "id": "2d4bda6d",
   "metadata": {},
   "outputs": [
    {
     "name": "stdout",
     "output_type": "stream",
     "text": [
      "4\n",
      "5\n"
     ]
    }
   ],
   "source": [
    "print(string4.count('r'))\n",
    "print(string4.count('e'))"
   ]
  },
  {
   "cell_type": "code",
   "execution_count": 59,
   "id": "2f67e1df",
   "metadata": {},
   "outputs": [
    {
     "data": {
      "text/plain": [
       "'Kandula lakshummamemorialCollege'"
      ]
     },
     "execution_count": 59,
     "metadata": {},
     "output_type": "execute_result"
    }
   ],
   "source": [
    "# String concatinate\n",
    "'Kandula' + ' ' + 'lakshumma' + 'memorial' + 'College'\n"
   ]
  },
  {
   "cell_type": "code",
   "execution_count": 61,
   "id": "a0bc9337",
   "metadata": {},
   "outputs": [
    {
     "data": {
      "text/plain": [
       "'student student student '"
      ]
     },
     "execution_count": 61,
     "metadata": {},
     "output_type": "execute_result"
    }
   ],
   "source": [
    "# String duplication\n",
    "'student ' * 3"
   ]
  },
  {
   "cell_type": "code",
   "execution_count": 62,
   "id": "929b3607",
   "metadata": {},
   "outputs": [
    {
     "data": {
      "text/plain": [
       "'Python ML AI'"
      ]
     },
     "execution_count": 62,
     "metadata": {},
     "output_type": "execute_result"
    }
   ],
   "source": [
    "subject = 'Python ML AI'\n",
    "subject"
   ]
  },
  {
   "cell_type": "code",
   "execution_count": 63,
   "id": "a5de3526",
   "metadata": {
    "collapsed": true
   },
   "outputs": [
    {
     "name": "stdout",
     "output_type": "stream",
     "text": [
      "Help on method_descriptor:\n",
      "\n",
      "replace(self, old, new, count=-1, /)\n",
      "    Return a copy with all occurrences of substring old replaced by new.\n",
      "    \n",
      "      count\n",
      "        Maximum number of occurrences to replace.\n",
      "        -1 (the default value) means replace all occurrences.\n",
      "    \n",
      "    If the optional argument count is given, only the first count occurrences are\n",
      "    replaced.\n",
      "\n"
     ]
    }
   ],
   "source": [
    "help(str.replace)"
   ]
  },
  {
   "cell_type": "code",
   "execution_count": 64,
   "id": "2f03030b",
   "metadata": {},
   "outputs": [
    {
     "data": {
      "text/plain": [
       "'DataAnalysis ML AI'"
      ]
     },
     "execution_count": 64,
     "metadata": {},
     "output_type": "execute_result"
    }
   ],
   "source": [
    "subject.replace('Python', 'DataAnalysis')"
   ]
  },
  {
   "cell_type": "code",
   "execution_count": 66,
   "id": "a220a134",
   "metadata": {},
   "outputs": [
    {
     "name": "stdout",
     "output_type": "stream",
     "text": [
      "True\n",
      "False\n"
     ]
    }
   ],
   "source": [
    "print('203H1A0419'.startswith('20'))\n",
    "print('203H1A0419'.endswith('20'))"
   ]
  },
  {
   "cell_type": "markdown",
   "id": "4e115ff3",
   "metadata": {},
   "source": [
    "#### Write a program to check whether the given roll number is belongs to 2nd years or not\n",
    "- if rollnumber startswith 20, then it is belongs to 2nd years\n",
    "- other wise it is not belongs to 2nd years"
   ]
  },
  {
   "cell_type": "code",
   "execution_count": 1,
   "id": "947f60d6",
   "metadata": {},
   "outputs": [
    {
     "name": "stdout",
     "output_type": "stream",
     "text": [
      "203H1A0553\n",
      "203H1A0553  is belongs to 2nd years\n"
     ]
    }
   ],
   "source": [
    "rollnumber = input()\n",
    "\n",
    "if rollnumber.startswith('20'):\n",
    "    print(rollnumber, ' is belongs to 2nd years')\n",
    "else:\n",
    "    print(rollnumber, ' is not belongs to 2nd years')"
   ]
  },
  {
   "cell_type": "code",
   "execution_count": 2,
   "id": "c9696621",
   "metadata": {},
   "outputs": [],
   "source": [
    "string5 = '''I was playing ODIs continuously. Suddenly, I got dropped': Rahane says \n",
    "he 'hardly got game time' playing one format'''"
   ]
  },
  {
   "cell_type": "markdown",
   "id": "1152ba22",
   "metadata": {},
   "source": [
    "- Write a program to print count the letters in each word"
   ]
  },
  {
   "cell_type": "code",
   "execution_count": 3,
   "id": "03b0240c",
   "metadata": {
    "collapsed": true
   },
   "outputs": [
    {
     "data": {
      "text/plain": [
       "73"
      ]
     },
     "execution_count": 3,
     "metadata": {},
     "output_type": "execute_result"
    }
   ],
   "source": [
    "ord('I')"
   ]
  },
  {
   "cell_type": "code",
   "execution_count": 4,
   "id": "d9bec480",
   "metadata": {
    "collapsed": true
   },
   "outputs": [
    {
     "data": {
      "text/plain": [
       "['I',\n",
       " 'was',\n",
       " 'playing',\n",
       " 'ODIs',\n",
       " 'continuously.',\n",
       " 'Suddenly,',\n",
       " 'I',\n",
       " 'got',\n",
       " \"dropped':\",\n",
       " 'Rahane',\n",
       " 'says',\n",
       " 'he',\n",
       " \"'hardly\",\n",
       " 'got',\n",
       " 'game',\n",
       " \"time'\",\n",
       " 'playing',\n",
       " 'one',\n",
       " 'format']"
      ]
     },
     "execution_count": 4,
     "metadata": {},
     "output_type": "execute_result"
    }
   ],
   "source": [
    "string5.split()"
   ]
  },
  {
   "cell_type": "code",
   "execution_count": 5,
   "id": "e57b5994",
   "metadata": {},
   "outputs": [
    {
     "data": {
      "text/plain": [
       "19"
      ]
     },
     "execution_count": 5,
     "metadata": {},
     "output_type": "execute_result"
    }
   ],
   "source": [
    "len(string5.split())"
   ]
  },
  {
   "cell_type": "code",
   "execution_count": 7,
   "id": "713614bf",
   "metadata": {
    "collapsed": true
   },
   "outputs": [
    {
     "name": "stdout",
     "output_type": "stream",
     "text": [
      "I 1\n",
      "was 3\n",
      "playing 7\n",
      "ODIs 4\n",
      "continuously. 13\n",
      "Suddenly, 9\n",
      "I 1\n",
      "got 3\n",
      "dropped': 9\n",
      "Rahane 6\n",
      "says 4\n",
      "he 2\n",
      "'hardly 7\n",
      "got 3\n",
      "game 4\n",
      "time' 5\n",
      "playing 7\n",
      "one 3\n",
      "format 6\n"
     ]
    }
   ],
   "source": [
    "for i in string5.split():# i = I, was\n",
    "    print(i, len(i))# i ++"
   ]
  },
  {
   "cell_type": "markdown",
   "id": "dfdf7955",
   "metadata": {},
   "source": [
    "- Print all the numbers from given sentence"
   ]
  },
  {
   "cell_type": "code",
   "execution_count": 9,
   "id": "a636b276",
   "metadata": {
    "collapsed": true
   },
   "outputs": [
    {
     "name": "stdout",
     "output_type": "stream",
     "text": [
      "2\n",
      "0\n",
      "3\n",
      "1\n",
      "0\n",
      "5\n",
      "0\n",
      "9\n"
     ]
    }
   ],
   "source": [
    "string6 = '203h1a0509 B. Gangothri_klmcew to Everyone'\n",
    "\n",
    "for i in string6:   #  i = 2, 0, 3, h\n",
    "    if i.isdigit(): #  2.isdigit()\n",
    "        print(i)    #  i ++"
   ]
  },
  {
   "cell_type": "markdown",
   "id": "924fbe78",
   "metadata": {},
   "source": [
    "- Print all the vowels in given name"
   ]
  },
  {
   "cell_type": "code",
   "execution_count": 10,
   "id": "aabceff6",
   "metadata": {
    "collapsed": true
   },
   "outputs": [
    {
     "name": "stdout",
     "output_type": "stream",
     "text": [
      "e\n",
      "a\n",
      "u\n",
      "a\n",
      "a\n",
      "E\n"
     ]
    }
   ],
   "source": [
    "string7 = 'Mehar Sultana . S _ KLMCEW'\n",
    "\n",
    "for i in string7:\n",
    "    if i in 'aeiouAEIOU':\n",
    "        print(i)"
   ]
  },
  {
   "cell_type": "markdown",
   "id": "21eb4c51",
   "metadata": {},
   "source": [
    "#### Task:\n",
    "- Check whether the given mail id is belongs to eductaional institute or organization or personal\n",
    "    - if sravani@klm.edu.in --> print(belongs to eductaional institute)\n",
    "    - else if mounika@apssdc.in --> print(belongs to apssdc org)\n",
    "    - else print(personal mail id)"
   ]
  },
  {
   "cell_type": "code",
   "execution_count": null,
   "id": "15f713d4",
   "metadata": {},
   "outputs": [],
   "source": []
  }
 ],
 "metadata": {
  "kernelspec": {
   "display_name": "Python 3 (ipykernel)",
   "language": "python",
   "name": "python3"
  },
  "language_info": {
   "codemirror_mode": {
    "name": "ipython",
    "version": 3
   },
   "file_extension": ".py",
   "mimetype": "text/x-python",
   "name": "python",
   "nbconvert_exporter": "python",
   "pygments_lexer": "ipython3",
   "version": "3.9.7"
  }
 },
 "nbformat": 4,
 "nbformat_minor": 5
}
