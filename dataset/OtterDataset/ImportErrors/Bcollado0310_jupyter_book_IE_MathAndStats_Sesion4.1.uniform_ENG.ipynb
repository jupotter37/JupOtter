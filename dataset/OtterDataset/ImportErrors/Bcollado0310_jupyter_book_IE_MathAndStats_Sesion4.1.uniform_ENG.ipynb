{
 "cells": [
  {
   "cell_type": "markdown",
   "metadata": {},
   "source": [
    "# CURSO: Math & Stat\n",
    "\n",
    "<img src=\"img/profile_manoelgadi.png\" width=100 height=100 align=\"right\">\n",
    "\n",
    "Author: Prof. Manoel Gadi\n",
    "\n",
    "Contact: mfalonso@faculty.ie.edu\n",
    "\n",
    "LinkedIn: https://es.linkedin.com/in/manoel-gadi-97821213\n",
    "\n",
    "Last revision: 29/Nov/2022\n",
    "\n",
    "---\n",
    "\n",
    "\n",
    "# In-depth introduction to the P-value \n",
    "## goodness of fit - F-statistic for Linear Regression uniform distribution\n"
   ]
  },
  {
   "cell_type": "markdown",
   "metadata": {},
   "source": [
    "For this simulation we will:\n",
    "1. __Create a dataset__ with 5 variables and 100 data points generated randomly.\n",
    "All 5 independent variables will be scaled from 0 to 1 (variate). The dependent variable will also be scaled from 0 to 1.\n",
    "2. Next, we __fit a Linear Regression__ and measure the sum of squared errors.\n",
    "3. We will __repeat this a 1000 times__ and plot a histogram.\n",
    "4. Next, we will __load the hbat data, fit a Linear Regression__ using the same number of variables and rows (in statistical terms it means the same degrees of freedom) and calculate the sum of squared errors (SSE).\n",
    "5. Finally, __the p-value is the percentage of the random generated SSE (df_simulation) that are smaller than the one obtained by the hbat Linear Regression__. In this case you will see that it is 0%. Meaning that our model is better than 100% of the prediction made by a model generated in random sample with the same degree of freedom (variables and number of data points)"
   ]
  },
  {
   "cell_type": "code",
   "execution_count": 1,
   "metadata": {},
   "outputs": [],
   "source": [
    "import pandas as pd\n",
    "import numpy as np"
   ]
  },
  {
   "cell_type": "code",
   "execution_count": 2,
   "metadata": {},
   "outputs": [
    {
     "data": {
      "text/html": [
       "<div>\n",
       "<style scoped>\n",
       "    .dataframe tbody tr th:only-of-type {\n",
       "        vertical-align: middle;\n",
       "    }\n",
       "\n",
       "    .dataframe tbody tr th {\n",
       "        vertical-align: top;\n",
       "    }\n",
       "\n",
       "    .dataframe thead th {\n",
       "        text-align: right;\n",
       "    }\n",
       "</style>\n",
       "<table border=\"1\" class=\"dataframe\">\n",
       "  <thead>\n",
       "    <tr style=\"text-align: right;\">\n",
       "      <th></th>\n",
       "      <th>squared_error</th>\n",
       "    </tr>\n",
       "  </thead>\n",
       "  <tbody>\n",
       "  </tbody>\n",
       "</table>\n",
       "</div>"
      ],
      "text/plain": [
       "Empty DataFrame\n",
       "Columns: [squared_error]\n",
       "Index: []"
      ]
     },
     "execution_count": 2,
     "metadata": {},
     "output_type": "execute_result"
    }
   ],
   "source": [
    "df_simulation = pd.DataFrame()\n",
    "df_simulation['squared_error'] = []\n",
    "df_simulation"
   ]
  },
  {
   "cell_type": "markdown",
   "metadata": {},
   "source": [
    "### 1. Create a dataset with 5 variables and 100 data points generated randomly.\n"
   ]
  },
  {
   "cell_type": "markdown",
   "metadata": {},
   "source": [
    "* All 5 independent variables will be scaled from 0 to 1 (variate). The dependent variable will also be scaled from 0 to 1.\n"
   ]
  },
  {
   "cell_type": "code",
   "execution_count": 3,
   "metadata": {},
   "outputs": [],
   "source": [
    "df = pd.DataFrame()"
   ]
  },
  {
   "cell_type": "code",
   "execution_count": 4,
   "metadata": {},
   "outputs": [],
   "source": [
    "df['x1'] = np.random.random(100)\n",
    "df['x2'] = np.random.random(100)\n",
    "df['x3'] = np.random.random(100)\n",
    "df['x4'] = np.random.random(100)\n",
    "df['x5'] = np.random.random(100)\n",
    "df['y'] = np.random.random(100)"
   ]
  },
  {
   "cell_type": "code",
   "execution_count": 5,
   "metadata": {},
   "outputs": [
    {
     "data": {
      "text/html": [
       "<div>\n",
       "<style scoped>\n",
       "    .dataframe tbody tr th:only-of-type {\n",
       "        vertical-align: middle;\n",
       "    }\n",
       "\n",
       "    .dataframe tbody tr th {\n",
       "        vertical-align: top;\n",
       "    }\n",
       "\n",
       "    .dataframe thead th {\n",
       "        text-align: right;\n",
       "    }\n",
       "</style>\n",
       "<table border=\"1\" class=\"dataframe\">\n",
       "  <thead>\n",
       "    <tr style=\"text-align: right;\">\n",
       "      <th></th>\n",
       "      <th>x1</th>\n",
       "      <th>x2</th>\n",
       "      <th>x3</th>\n",
       "      <th>x4</th>\n",
       "      <th>x5</th>\n",
       "      <th>y</th>\n",
       "    </tr>\n",
       "  </thead>\n",
       "  <tbody>\n",
       "    <tr>\n",
       "      <th>0</th>\n",
       "      <td>0.101165</td>\n",
       "      <td>0.489147</td>\n",
       "      <td>0.134836</td>\n",
       "      <td>0.034726</td>\n",
       "      <td>0.962480</td>\n",
       "      <td>0.161024</td>\n",
       "    </tr>\n",
       "    <tr>\n",
       "      <th>1</th>\n",
       "      <td>0.246746</td>\n",
       "      <td>0.341799</td>\n",
       "      <td>0.901938</td>\n",
       "      <td>0.882714</td>\n",
       "      <td>0.384469</td>\n",
       "      <td>0.248906</td>\n",
       "    </tr>\n",
       "    <tr>\n",
       "      <th>2</th>\n",
       "      <td>0.547632</td>\n",
       "      <td>0.315244</td>\n",
       "      <td>0.494101</td>\n",
       "      <td>0.909828</td>\n",
       "      <td>0.726453</td>\n",
       "      <td>0.945733</td>\n",
       "    </tr>\n",
       "    <tr>\n",
       "      <th>3</th>\n",
       "      <td>0.697910</td>\n",
       "      <td>0.428021</td>\n",
       "      <td>0.845950</td>\n",
       "      <td>0.146122</td>\n",
       "      <td>0.136179</td>\n",
       "      <td>0.489545</td>\n",
       "    </tr>\n",
       "    <tr>\n",
       "      <th>4</th>\n",
       "      <td>0.367344</td>\n",
       "      <td>0.380299</td>\n",
       "      <td>0.281845</td>\n",
       "      <td>0.739185</td>\n",
       "      <td>0.213672</td>\n",
       "      <td>0.367479</td>\n",
       "    </tr>\n",
       "    <tr>\n",
       "      <th>...</th>\n",
       "      <td>...</td>\n",
       "      <td>...</td>\n",
       "      <td>...</td>\n",
       "      <td>...</td>\n",
       "      <td>...</td>\n",
       "      <td>...</td>\n",
       "    </tr>\n",
       "    <tr>\n",
       "      <th>95</th>\n",
       "      <td>0.332863</td>\n",
       "      <td>0.391030</td>\n",
       "      <td>0.800909</td>\n",
       "      <td>0.494199</td>\n",
       "      <td>0.922156</td>\n",
       "      <td>0.646453</td>\n",
       "    </tr>\n",
       "    <tr>\n",
       "      <th>96</th>\n",
       "      <td>0.122953</td>\n",
       "      <td>0.322181</td>\n",
       "      <td>0.819628</td>\n",
       "      <td>0.128873</td>\n",
       "      <td>0.589817</td>\n",
       "      <td>0.483511</td>\n",
       "    </tr>\n",
       "    <tr>\n",
       "      <th>97</th>\n",
       "      <td>0.023964</td>\n",
       "      <td>0.773435</td>\n",
       "      <td>0.946784</td>\n",
       "      <td>0.326967</td>\n",
       "      <td>0.426879</td>\n",
       "      <td>0.144568</td>\n",
       "    </tr>\n",
       "    <tr>\n",
       "      <th>98</th>\n",
       "      <td>0.252108</td>\n",
       "      <td>0.168468</td>\n",
       "      <td>0.011018</td>\n",
       "      <td>0.783602</td>\n",
       "      <td>0.159410</td>\n",
       "      <td>0.024881</td>\n",
       "    </tr>\n",
       "    <tr>\n",
       "      <th>99</th>\n",
       "      <td>0.198733</td>\n",
       "      <td>0.429210</td>\n",
       "      <td>0.336057</td>\n",
       "      <td>0.581852</td>\n",
       "      <td>0.275733</td>\n",
       "      <td>0.239318</td>\n",
       "    </tr>\n",
       "  </tbody>\n",
       "</table>\n",
       "<p>100 rows × 6 columns</p>\n",
       "</div>"
      ],
      "text/plain": [
       "          x1        x2        x3        x4        x5         y\n",
       "0   0.101165  0.489147  0.134836  0.034726  0.962480  0.161024\n",
       "1   0.246746  0.341799  0.901938  0.882714  0.384469  0.248906\n",
       "2   0.547632  0.315244  0.494101  0.909828  0.726453  0.945733\n",
       "3   0.697910  0.428021  0.845950  0.146122  0.136179  0.489545\n",
       "4   0.367344  0.380299  0.281845  0.739185  0.213672  0.367479\n",
       "..       ...       ...       ...       ...       ...       ...\n",
       "95  0.332863  0.391030  0.800909  0.494199  0.922156  0.646453\n",
       "96  0.122953  0.322181  0.819628  0.128873  0.589817  0.483511\n",
       "97  0.023964  0.773435  0.946784  0.326967  0.426879  0.144568\n",
       "98  0.252108  0.168468  0.011018  0.783602  0.159410  0.024881\n",
       "99  0.198733  0.429210  0.336057  0.581852  0.275733  0.239318\n",
       "\n",
       "[100 rows x 6 columns]"
      ]
     },
     "execution_count": 5,
     "metadata": {},
     "output_type": "execute_result"
    }
   ],
   "source": [
    "df"
   ]
  },
  {
   "cell_type": "markdown",
   "metadata": {},
   "source": [
    "### 2. Next, we __fit a Linear Regression__ and measure the sum of squared errors."
   ]
  },
  {
   "cell_type": "code",
   "execution_count": 6,
   "metadata": {},
   "outputs": [
    {
     "data": {
      "text/plain": [
       "2.0200183930180132e-32"
      ]
     },
     "execution_count": 6,
     "metadata": {},
     "output_type": "execute_result"
    }
   ],
   "source": [
    "from sklearn.linear_model import LinearRegression\n",
    "model = LinearRegression()\n",
    "X = df.iloc[:,:-1]\n",
    "y = df.iloc[:,1]\n",
    "model.fit(X,y)\n",
    "yhat = model.predict(X)\n",
    "df['yhat'] = yhat\n",
    "from sklearn.metrics import mean_squared_error\n",
    "mean_squared_error(y,yhat)"
   ]
  },
  {
   "cell_type": "code",
   "execution_count": 7,
   "metadata": {},
   "outputs": [],
   "source": [
    "df['squared_error'] = (df['yhat']-df['y'])**2"
   ]
  },
  {
   "cell_type": "code",
   "execution_count": 8,
   "metadata": {},
   "outputs": [
    {
     "data": {
      "text/html": [
       "<div>\n",
       "<style scoped>\n",
       "    .dataframe tbody tr th:only-of-type {\n",
       "        vertical-align: middle;\n",
       "    }\n",
       "\n",
       "    .dataframe tbody tr th {\n",
       "        vertical-align: top;\n",
       "    }\n",
       "\n",
       "    .dataframe thead th {\n",
       "        text-align: right;\n",
       "    }\n",
       "</style>\n",
       "<table border=\"1\" class=\"dataframe\">\n",
       "  <thead>\n",
       "    <tr style=\"text-align: right;\">\n",
       "      <th></th>\n",
       "      <th>yhat</th>\n",
       "      <th>y</th>\n",
       "      <th>squared_error</th>\n",
       "    </tr>\n",
       "  </thead>\n",
       "  <tbody>\n",
       "    <tr>\n",
       "      <th>0</th>\n",
       "      <td>0.489147</td>\n",
       "      <td>0.161024</td>\n",
       "      <td>0.107665</td>\n",
       "    </tr>\n",
       "    <tr>\n",
       "      <th>1</th>\n",
       "      <td>0.341799</td>\n",
       "      <td>0.248906</td>\n",
       "      <td>0.008629</td>\n",
       "    </tr>\n",
       "    <tr>\n",
       "      <th>2</th>\n",
       "      <td>0.315244</td>\n",
       "      <td>0.945733</td>\n",
       "      <td>0.397516</td>\n",
       "    </tr>\n",
       "    <tr>\n",
       "      <th>3</th>\n",
       "      <td>0.428021</td>\n",
       "      <td>0.489545</td>\n",
       "      <td>0.003785</td>\n",
       "    </tr>\n",
       "    <tr>\n",
       "      <th>4</th>\n",
       "      <td>0.380299</td>\n",
       "      <td>0.367479</td>\n",
       "      <td>0.000164</td>\n",
       "    </tr>\n",
       "    <tr>\n",
       "      <th>...</th>\n",
       "      <td>...</td>\n",
       "      <td>...</td>\n",
       "      <td>...</td>\n",
       "    </tr>\n",
       "    <tr>\n",
       "      <th>95</th>\n",
       "      <td>0.391030</td>\n",
       "      <td>0.646453</td>\n",
       "      <td>0.065241</td>\n",
       "    </tr>\n",
       "    <tr>\n",
       "      <th>96</th>\n",
       "      <td>0.322181</td>\n",
       "      <td>0.483511</td>\n",
       "      <td>0.026027</td>\n",
       "    </tr>\n",
       "    <tr>\n",
       "      <th>97</th>\n",
       "      <td>0.773435</td>\n",
       "      <td>0.144568</td>\n",
       "      <td>0.395474</td>\n",
       "    </tr>\n",
       "    <tr>\n",
       "      <th>98</th>\n",
       "      <td>0.168468</td>\n",
       "      <td>0.024881</td>\n",
       "      <td>0.020617</td>\n",
       "    </tr>\n",
       "    <tr>\n",
       "      <th>99</th>\n",
       "      <td>0.429210</td>\n",
       "      <td>0.239318</td>\n",
       "      <td>0.036059</td>\n",
       "    </tr>\n",
       "  </tbody>\n",
       "</table>\n",
       "<p>100 rows × 3 columns</p>\n",
       "</div>"
      ],
      "text/plain": [
       "        yhat         y  squared_error\n",
       "0   0.489147  0.161024       0.107665\n",
       "1   0.341799  0.248906       0.008629\n",
       "2   0.315244  0.945733       0.397516\n",
       "3   0.428021  0.489545       0.003785\n",
       "4   0.380299  0.367479       0.000164\n",
       "..       ...       ...            ...\n",
       "95  0.391030  0.646453       0.065241\n",
       "96  0.322181  0.483511       0.026027\n",
       "97  0.773435  0.144568       0.395474\n",
       "98  0.168468  0.024881       0.020617\n",
       "99  0.429210  0.239318       0.036059\n",
       "\n",
       "[100 rows x 3 columns]"
      ]
     },
     "execution_count": 8,
     "metadata": {},
     "output_type": "execute_result"
    }
   ],
   "source": [
    "df[['yhat','y','squared_error']]"
   ]
  },
  {
   "cell_type": "code",
   "execution_count": 9,
   "metadata": {},
   "outputs": [],
   "source": [
    "df_simulation.loc[df_simulation.shape[0]] = [sum(df['squared_error'])]"
   ]
  },
  {
   "cell_type": "code",
   "execution_count": 10,
   "metadata": {},
   "outputs": [
    {
     "data": {
      "text/html": [
       "<div>\n",
       "<style scoped>\n",
       "    .dataframe tbody tr th:only-of-type {\n",
       "        vertical-align: middle;\n",
       "    }\n",
       "\n",
       "    .dataframe tbody tr th {\n",
       "        vertical-align: top;\n",
       "    }\n",
       "\n",
       "    .dataframe thead th {\n",
       "        text-align: right;\n",
       "    }\n",
       "</style>\n",
       "<table border=\"1\" class=\"dataframe\">\n",
       "  <thead>\n",
       "    <tr style=\"text-align: right;\">\n",
       "      <th></th>\n",
       "      <th>squared_error</th>\n",
       "    </tr>\n",
       "  </thead>\n",
       "  <tbody>\n",
       "    <tr>\n",
       "      <th>0</th>\n",
       "      <td>13.789323</td>\n",
       "    </tr>\n",
       "  </tbody>\n",
       "</table>\n",
       "</div>"
      ],
      "text/plain": [
       "   squared_error\n",
       "0      13.789323"
      ]
     },
     "execution_count": 10,
     "metadata": {},
     "output_type": "execute_result"
    }
   ],
   "source": [
    "df_simulation"
   ]
  },
  {
   "cell_type": "markdown",
   "metadata": {},
   "source": [
    "### 3. We will __repeat this a 1000 times__ and plot a histogram."
   ]
  },
  {
   "cell_type": "code",
   "execution_count": 11,
   "metadata": {},
   "outputs": [],
   "source": [
    "from sklearn.linear_model import LinearRegression\n",
    "for i in range(1000):\n",
    "    df = pd.DataFrame()\n",
    "    df['x1'] = np.random.random(100)\n",
    "    df['x2'] = np.random.random(100)\n",
    "    df['x3'] = np.random.random(100)\n",
    "    df['x4'] = np.random.random(100)\n",
    "    df['x5'] = np.random.random(100)\n",
    "    df['y'] = np.random.random(100)\n",
    "    model = LinearRegression()\n",
    "    X = df.iloc[:,:-1]\n",
    "    y = df.iloc[:,1]\n",
    "    model.fit(X,y)\n",
    "    yhat = model.predict(X)\n",
    "    df['yhat'] = yhat\n",
    "    df['squared_error'] = (df['yhat']-df['y'])**2\n",
    "    df_simulation.loc[df_simulation.shape[0]] = [sum(df['squared_error'])]"
   ]
  },
  {
   "cell_type": "code",
   "execution_count": 12,
   "metadata": {},
   "outputs": [
    {
     "data": {
      "text/html": [
       "<div>\n",
       "<style scoped>\n",
       "    .dataframe tbody tr th:only-of-type {\n",
       "        vertical-align: middle;\n",
       "    }\n",
       "\n",
       "    .dataframe tbody tr th {\n",
       "        vertical-align: top;\n",
       "    }\n",
       "\n",
       "    .dataframe thead th {\n",
       "        text-align: right;\n",
       "    }\n",
       "</style>\n",
       "<table border=\"1\" class=\"dataframe\">\n",
       "  <thead>\n",
       "    <tr style=\"text-align: right;\">\n",
       "      <th></th>\n",
       "      <th>squared_error</th>\n",
       "    </tr>\n",
       "  </thead>\n",
       "  <tbody>\n",
       "    <tr>\n",
       "      <th>0</th>\n",
       "      <td>13.789323</td>\n",
       "    </tr>\n",
       "    <tr>\n",
       "      <th>1</th>\n",
       "      <td>17.317218</td>\n",
       "    </tr>\n",
       "    <tr>\n",
       "      <th>2</th>\n",
       "      <td>16.822185</td>\n",
       "    </tr>\n",
       "    <tr>\n",
       "      <th>3</th>\n",
       "      <td>15.983805</td>\n",
       "    </tr>\n",
       "    <tr>\n",
       "      <th>4</th>\n",
       "      <td>17.090518</td>\n",
       "    </tr>\n",
       "    <tr>\n",
       "      <th>...</th>\n",
       "      <td>...</td>\n",
       "    </tr>\n",
       "    <tr>\n",
       "      <th>996</th>\n",
       "      <td>16.315932</td>\n",
       "    </tr>\n",
       "    <tr>\n",
       "      <th>997</th>\n",
       "      <td>15.047411</td>\n",
       "    </tr>\n",
       "    <tr>\n",
       "      <th>998</th>\n",
       "      <td>14.586203</td>\n",
       "    </tr>\n",
       "    <tr>\n",
       "      <th>999</th>\n",
       "      <td>16.356578</td>\n",
       "    </tr>\n",
       "    <tr>\n",
       "      <th>1000</th>\n",
       "      <td>18.571204</td>\n",
       "    </tr>\n",
       "  </tbody>\n",
       "</table>\n",
       "<p>1001 rows × 1 columns</p>\n",
       "</div>"
      ],
      "text/plain": [
       "      squared_error\n",
       "0         13.789323\n",
       "1         17.317218\n",
       "2         16.822185\n",
       "3         15.983805\n",
       "4         17.090518\n",
       "...             ...\n",
       "996       16.315932\n",
       "997       15.047411\n",
       "998       14.586203\n",
       "999       16.356578\n",
       "1000      18.571204\n",
       "\n",
       "[1001 rows x 1 columns]"
      ]
     },
     "execution_count": 12,
     "metadata": {},
     "output_type": "execute_result"
    }
   ],
   "source": [
    "df_simulation"
   ]
  },
  {
   "cell_type": "code",
   "execution_count": 13,
   "metadata": {},
   "outputs": [
    {
     "data": {
      "text/plain": [
       "array([[<Axes: title={'center': 'squared_error'}>]], dtype=object)"
      ]
     },
     "execution_count": 13,
     "metadata": {},
     "output_type": "execute_result"
    },
    {
     "data": {
      "image/png": "[encoded data removed]",
      "text/plain": [
       "<Figure size 640x480 with 1 Axes>"
      ]
     },
     "metadata": {},
     "output_type": "display_data"
    }
   ],
   "source": [
    "df_simulation.hist()"
   ]
  },
  {
   "cell_type": "code",
   "execution_count": 14,
   "metadata": {},
   "outputs": [
    {
     "data": {
      "text/plain": [
       "squared_error    13.595854\n",
       "Name: 0.05, dtype: float64"
      ]
     },
     "execution_count": 14,
     "metadata": {},
     "output_type": "execute_result"
    }
   ],
   "source": [
    "df_simulation.quantile(0.05)"
   ]
  },
  {
   "cell_type": "code",
   "execution_count": 15,
   "metadata": {},
   "outputs": [
    {
     "data": {
      "text/plain": [
       "squared_error    19.872903\n",
       "Name: 0.95, dtype: float64"
      ]
     },
     "execution_count": 15,
     "metadata": {},
     "output_type": "execute_result"
    }
   ],
   "source": [
    "df_simulation.quantile(0.95)"
   ]
  },
  {
   "cell_type": "markdown",
   "metadata": {},
   "source": [
    "### 4. Next, we will load the hbat data\n",
    "__Load the hbat data, fit a Linear Regression__ using the same number of variables and rows (in statistical terms it means the same degrees of freedom) and calculate the sum of squared errors (SSE).\n"
   ]
  },
  {
   "cell_type": "code",
   "execution_count": 16,
   "metadata": {},
   "outputs": [
    {
     "ename": "ImportError",
     "evalue": "Missing optional dependency 'pyreadstat'.  Use pip or conda to install pyreadstat.",
     "output_type": "error",
     "traceback": [
      "\u001b[1;31m---------------------------------------------------------------------------\u001b[0m",
      "\u001b[1;31mModuleNotFoundError\u001b[0m                       Traceback (most recent call last)",
      "File \u001b[1;32mc:\\Users\\brian\\AppData\\Local\\Programs\\Python\\Python311\\Lib\\site-packages\\pandas\\compat\\_optional.py:135\u001b[0m, in \u001b[0;36mimport_optional_dependency\u001b[1;34m(name, extra, errors, min_version)\u001b[0m\n\u001b[0;32m    134\u001b[0m \u001b[38;5;28;01mtry\u001b[39;00m:\n\u001b[1;32m--> 135\u001b[0m     module \u001b[38;5;241m=\u001b[39m \u001b[43mimportlib\u001b[49m\u001b[38;5;241;43m.\u001b[39;49m\u001b[43mimport_module\u001b[49m\u001b[43m(\u001b[49m\u001b[43mname\u001b[49m\u001b[43m)\u001b[49m\n\u001b[0;32m    136\u001b[0m \u001b[38;5;28;01mexcept\u001b[39;00m \u001b[38;5;167;01mImportError\u001b[39;00m:\n",
      "File \u001b[1;32mc:\\Users\\brian\\AppData\\Local\\Programs\\Python\\Python311\\Lib\\importlib\\__init__.py:126\u001b[0m, in \u001b[0;36mimport_module\u001b[1;34m(name, package)\u001b[0m\n\u001b[0;32m    125\u001b[0m         level \u001b[38;5;241m+\u001b[39m\u001b[38;5;241m=\u001b[39m \u001b[38;5;241m1\u001b[39m\n\u001b[1;32m--> 126\u001b[0m \u001b[38;5;28;01mreturn\u001b[39;00m \u001b[43m_bootstrap\u001b[49m\u001b[38;5;241;43m.\u001b[39;49m\u001b[43m_gcd_import\u001b[49m\u001b[43m(\u001b[49m\u001b[43mname\u001b[49m\u001b[43m[\u001b[49m\u001b[43mlevel\u001b[49m\u001b[43m:\u001b[49m\u001b[43m]\u001b[49m\u001b[43m,\u001b[49m\u001b[43m \u001b[49m\u001b[43mpackage\u001b[49m\u001b[43m,\u001b[49m\u001b[43m \u001b[49m\u001b[43mlevel\u001b[49m\u001b[43m)\u001b[49m\n",
      "File \u001b[1;32m<frozen importlib._bootstrap>:1204\u001b[0m, in \u001b[0;36m_gcd_import\u001b[1;34m(name, package, level)\u001b[0m\n",
      "File \u001b[1;32m<frozen importlib._bootstrap>:1176\u001b[0m, in \u001b[0;36m_find_and_load\u001b[1;34m(name, import_)\u001b[0m\n",
      "File \u001b[1;32m<frozen importlib._bootstrap>:1140\u001b[0m, in \u001b[0;36m_find_and_load_unlocked\u001b[1;34m(name, import_)\u001b[0m\n",
      "\u001b[1;31mModuleNotFoundError\u001b[0m: No module named 'pyreadstat'",
      "\nDuring handling of the above exception, another exception occurred:\n",
      "\u001b[1;31mImportError\u001b[0m                               Traceback (most recent call last)",
      "Cell \u001b[1;32mIn[16], line 1\u001b[0m\n\u001b[1;32m----> 1\u001b[0m hbat \u001b[38;5;241m=\u001b[39m \u001b[43mpd\u001b[49m\u001b[38;5;241;43m.\u001b[39;49m\u001b[43mread_spss\u001b[49m\u001b[43m(\u001b[49m\u001b[38;5;124;43m\"\u001b[39;49m\u001b[38;5;124;43mdatasets/HBAT.sav\u001b[39;49m\u001b[38;5;124;43m\"\u001b[39;49m\u001b[43m)\u001b[49m\n",
      "File \u001b[1;32mc:\\Users\\brian\\AppData\\Local\\Programs\\Python\\Python311\\Lib\\site-packages\\pandas\\io\\spss.py:58\u001b[0m, in \u001b[0;36mread_spss\u001b[1;34m(path, usecols, convert_categoricals, dtype_backend)\u001b[0m\n\u001b[0;32m     22\u001b[0m \u001b[38;5;28;01mdef\u001b[39;00m \u001b[38;5;21mread_spss\u001b[39m(\n\u001b[0;32m     23\u001b[0m     path: \u001b[38;5;28mstr\u001b[39m \u001b[38;5;241m|\u001b[39m Path,\n\u001b[0;32m     24\u001b[0m     usecols: Sequence[\u001b[38;5;28mstr\u001b[39m] \u001b[38;5;241m|\u001b[39m \u001b[38;5;28;01mNone\u001b[39;00m \u001b[38;5;241m=\u001b[39m \u001b[38;5;28;01mNone\u001b[39;00m,\n\u001b[0;32m     25\u001b[0m     convert_categoricals: \u001b[38;5;28mbool\u001b[39m \u001b[38;5;241m=\u001b[39m \u001b[38;5;28;01mTrue\u001b[39;00m,\n\u001b[0;32m     26\u001b[0m     dtype_backend: DtypeBackend \u001b[38;5;241m|\u001b[39m lib\u001b[38;5;241m.\u001b[39mNoDefault \u001b[38;5;241m=\u001b[39m lib\u001b[38;5;241m.\u001b[39mno_default,\n\u001b[0;32m     27\u001b[0m ) \u001b[38;5;241m-\u001b[39m\u001b[38;5;241m>\u001b[39m DataFrame:\n\u001b[0;32m     28\u001b[0m \u001b[38;5;250m    \u001b[39m\u001b[38;5;124;03m\"\"\"\u001b[39;00m\n\u001b[0;32m     29\u001b[0m \u001b[38;5;124;03m    Load an SPSS file from the file path, returning a DataFrame.\u001b[39;00m\n\u001b[0;32m     30\u001b[0m \n\u001b[1;32m   (...)\u001b[0m\n\u001b[0;32m     56\u001b[0m \u001b[38;5;124;03m    >>> df = pd.read_spss(\"spss_data.sav\")  # doctest: +SKIP\u001b[39;00m\n\u001b[0;32m     57\u001b[0m \u001b[38;5;124;03m    \"\"\"\u001b[39;00m\n\u001b[1;32m---> 58\u001b[0m     pyreadstat \u001b[38;5;241m=\u001b[39m \u001b[43mimport_optional_dependency\u001b[49m\u001b[43m(\u001b[49m\u001b[38;5;124;43m\"\u001b[39;49m\u001b[38;5;124;43mpyreadstat\u001b[39;49m\u001b[38;5;124;43m\"\u001b[39;49m\u001b[43m)\u001b[49m\n\u001b[0;32m     59\u001b[0m     check_dtype_backend(dtype_backend)\n\u001b[0;32m     61\u001b[0m     \u001b[38;5;28;01mif\u001b[39;00m usecols \u001b[38;5;129;01mis\u001b[39;00m \u001b[38;5;129;01mnot\u001b[39;00m \u001b[38;5;28;01mNone\u001b[39;00m:\n",
      "File \u001b[1;32mc:\\Users\\brian\\AppData\\Local\\Programs\\Python\\Python311\\Lib\\site-packages\\pandas\\compat\\_optional.py:138\u001b[0m, in \u001b[0;36mimport_optional_dependency\u001b[1;34m(name, extra, errors, min_version)\u001b[0m\n\u001b[0;32m    136\u001b[0m \u001b[38;5;28;01mexcept\u001b[39;00m \u001b[38;5;167;01mImportError\u001b[39;00m:\n\u001b[0;32m    137\u001b[0m     \u001b[38;5;28;01mif\u001b[39;00m errors \u001b[38;5;241m==\u001b[39m \u001b[38;5;124m\"\u001b[39m\u001b[38;5;124mraise\u001b[39m\u001b[38;5;124m\"\u001b[39m:\n\u001b[1;32m--> 138\u001b[0m         \u001b[38;5;28;01mraise\u001b[39;00m \u001b[38;5;167;01mImportError\u001b[39;00m(msg)\n\u001b[0;32m    139\u001b[0m     \u001b[38;5;28;01mreturn\u001b[39;00m \u001b[38;5;28;01mNone\u001b[39;00m\n\u001b[0;32m    141\u001b[0m \u001b[38;5;66;03m# Handle submodules: if we have submodule, grab parent module from sys.modules\u001b[39;00m\n",
      "\u001b[1;31mImportError\u001b[0m: Missing optional dependency 'pyreadstat'.  Use pip or conda to install pyreadstat."
     ]
    }
   ],
   "source": [
    "hbat = pd.read_spss(\"datasets/HBAT.sav\")"
   ]
  },
  {
   "cell_type": "code",
   "execution_count": 18,
   "metadata": {},
   "outputs": [
    {
     "data": {
      "text/html": [
       "<div>\n",
       "<style scoped>\n",
       "    .dataframe tbody tr th:only-of-type {\n",
       "        vertical-align: middle;\n",
       "    }\n",
       "\n",
       "    .dataframe tbody tr th {\n",
       "        vertical-align: top;\n",
       "    }\n",
       "\n",
       "    .dataframe thead th {\n",
       "        text-align: right;\n",
       "    }\n",
       "</style>\n",
       "<table border=\"1\" class=\"dataframe\">\n",
       "  <thead>\n",
       "    <tr style=\"text-align: right;\">\n",
       "      <th></th>\n",
       "      <th>id</th>\n",
       "      <th>x1</th>\n",
       "      <th>x2</th>\n",
       "      <th>x3</th>\n",
       "      <th>x4</th>\n",
       "      <th>x5</th>\n",
       "      <th>x6</th>\n",
       "      <th>x7</th>\n",
       "      <th>x8</th>\n",
       "      <th>x9</th>\n",
       "      <th>...</th>\n",
       "      <th>x14</th>\n",
       "      <th>x15</th>\n",
       "      <th>x16</th>\n",
       "      <th>x17</th>\n",
       "      <th>x18</th>\n",
       "      <th>x19</th>\n",
       "      <th>x20</th>\n",
       "      <th>x21</th>\n",
       "      <th>x22</th>\n",
       "      <th>x23</th>\n",
       "    </tr>\n",
       "  </thead>\n",
       "  <tbody>\n",
       "    <tr>\n",
       "      <th>0</th>\n",
       "      <td>1.0</td>\n",
       "      <td>1 to 5 years</td>\n",
       "      <td>Magazine industry</td>\n",
       "      <td>Large (500+)</td>\n",
       "      <td>Outside North America</td>\n",
       "      <td>Direct to customer</td>\n",
       "      <td>8.5</td>\n",
       "      <td>3.9</td>\n",
       "      <td>2.5</td>\n",
       "      <td>5.9</td>\n",
       "      <td>...</td>\n",
       "      <td>4.7</td>\n",
       "      <td>4.3</td>\n",
       "      <td>5.0</td>\n",
       "      <td>5.1</td>\n",
       "      <td>3.7</td>\n",
       "      <td>8.2</td>\n",
       "      <td>8.0</td>\n",
       "      <td>8.4</td>\n",
       "      <td>65.1</td>\n",
       "      <td>Yes, would consider</td>\n",
       "    </tr>\n",
       "    <tr>\n",
       "      <th>1</th>\n",
       "      <td>2.0</td>\n",
       "      <td>Over 5 years</td>\n",
       "      <td>Newsprint industry</td>\n",
       "      <td>Small (0 to 499)</td>\n",
       "      <td>USA/North America</td>\n",
       "      <td>Indirect through broker</td>\n",
       "      <td>8.2</td>\n",
       "      <td>2.7</td>\n",
       "      <td>5.1</td>\n",
       "      <td>7.2</td>\n",
       "      <td>...</td>\n",
       "      <td>5.5</td>\n",
       "      <td>4.0</td>\n",
       "      <td>3.9</td>\n",
       "      <td>4.3</td>\n",
       "      <td>4.9</td>\n",
       "      <td>5.7</td>\n",
       "      <td>6.5</td>\n",
       "      <td>7.5</td>\n",
       "      <td>67.1</td>\n",
       "      <td>No, would not consider</td>\n",
       "    </tr>\n",
       "    <tr>\n",
       "      <th>2</th>\n",
       "      <td>3.0</td>\n",
       "      <td>Over 5 years</td>\n",
       "      <td>Magazine industry</td>\n",
       "      <td>Large (500+)</td>\n",
       "      <td>Outside North America</td>\n",
       "      <td>Direct to customer</td>\n",
       "      <td>9.2</td>\n",
       "      <td>3.4</td>\n",
       "      <td>5.6</td>\n",
       "      <td>5.6</td>\n",
       "      <td>...</td>\n",
       "      <td>6.2</td>\n",
       "      <td>4.6</td>\n",
       "      <td>5.4</td>\n",
       "      <td>4.0</td>\n",
       "      <td>4.5</td>\n",
       "      <td>8.9</td>\n",
       "      <td>8.4</td>\n",
       "      <td>9.0</td>\n",
       "      <td>72.1</td>\n",
       "      <td>Yes, would consider</td>\n",
       "    </tr>\n",
       "    <tr>\n",
       "      <th>3</th>\n",
       "      <td>4.0</td>\n",
       "      <td>Less than 1 year</td>\n",
       "      <td>Newsprint industry</td>\n",
       "      <td>Large (500+)</td>\n",
       "      <td>Outside North America</td>\n",
       "      <td>Indirect through broker</td>\n",
       "      <td>6.4</td>\n",
       "      <td>3.3</td>\n",
       "      <td>7.0</td>\n",
       "      <td>3.7</td>\n",
       "      <td>...</td>\n",
       "      <td>7.0</td>\n",
       "      <td>3.6</td>\n",
       "      <td>4.3</td>\n",
       "      <td>4.1</td>\n",
       "      <td>3.0</td>\n",
       "      <td>4.8</td>\n",
       "      <td>6.0</td>\n",
       "      <td>7.2</td>\n",
       "      <td>40.1</td>\n",
       "      <td>No, would not consider</td>\n",
       "    </tr>\n",
       "    <tr>\n",
       "      <th>4</th>\n",
       "      <td>5.0</td>\n",
       "      <td>1 to 5 years</td>\n",
       "      <td>Magazine industry</td>\n",
       "      <td>Large (500+)</td>\n",
       "      <td>USA/North America</td>\n",
       "      <td>Direct to customer</td>\n",
       "      <td>9.0</td>\n",
       "      <td>3.4</td>\n",
       "      <td>5.2</td>\n",
       "      <td>4.6</td>\n",
       "      <td>...</td>\n",
       "      <td>6.1</td>\n",
       "      <td>4.5</td>\n",
       "      <td>4.5</td>\n",
       "      <td>3.5</td>\n",
       "      <td>3.5</td>\n",
       "      <td>7.1</td>\n",
       "      <td>6.6</td>\n",
       "      <td>9.0</td>\n",
       "      <td>57.1</td>\n",
       "      <td>No, would not consider</td>\n",
       "    </tr>\n",
       "    <tr>\n",
       "      <th>...</th>\n",
       "      <td>...</td>\n",
       "      <td>...</td>\n",
       "      <td>...</td>\n",
       "      <td>...</td>\n",
       "      <td>...</td>\n",
       "      <td>...</td>\n",
       "      <td>...</td>\n",
       "      <td>...</td>\n",
       "      <td>...</td>\n",
       "      <td>...</td>\n",
       "      <td>...</td>\n",
       "      <td>...</td>\n",
       "      <td>...</td>\n",
       "      <td>...</td>\n",
       "      <td>...</td>\n",
       "      <td>...</td>\n",
       "      <td>...</td>\n",
       "      <td>...</td>\n",
       "      <td>...</td>\n",
       "      <td>...</td>\n",
       "      <td>...</td>\n",
       "    </tr>\n",
       "    <tr>\n",
       "      <th>95</th>\n",
       "      <td>96.0</td>\n",
       "      <td>Less than 1 year</td>\n",
       "      <td>Newsprint industry</td>\n",
       "      <td>Small (0 to 499)</td>\n",
       "      <td>USA/North America</td>\n",
       "      <td>Direct to customer</td>\n",
       "      <td>8.6</td>\n",
       "      <td>4.8</td>\n",
       "      <td>5.6</td>\n",
       "      <td>5.3</td>\n",
       "      <td>...</td>\n",
       "      <td>5.8</td>\n",
       "      <td>3.6</td>\n",
       "      <td>4.9</td>\n",
       "      <td>3.6</td>\n",
       "      <td>3.6</td>\n",
       "      <td>7.3</td>\n",
       "      <td>8.1</td>\n",
       "      <td>8.1</td>\n",
       "      <td>50.1</td>\n",
       "      <td>Yes, would consider</td>\n",
       "    </tr>\n",
       "    <tr>\n",
       "      <th>96</th>\n",
       "      <td>97.0</td>\n",
       "      <td>Less than 1 year</td>\n",
       "      <td>Magazine industry</td>\n",
       "      <td>Small (0 to 499)</td>\n",
       "      <td>Outside North America</td>\n",
       "      <td>Direct to customer</td>\n",
       "      <td>7.4</td>\n",
       "      <td>3.4</td>\n",
       "      <td>2.6</td>\n",
       "      <td>5.0</td>\n",
       "      <td>...</td>\n",
       "      <td>4.5</td>\n",
       "      <td>6.4</td>\n",
       "      <td>4.2</td>\n",
       "      <td>5.6</td>\n",
       "      <td>3.7</td>\n",
       "      <td>6.3</td>\n",
       "      <td>5.5</td>\n",
       "      <td>7.2</td>\n",
       "      <td>48.1</td>\n",
       "      <td>No, would not consider</td>\n",
       "    </tr>\n",
       "    <tr>\n",
       "      <th>97</th>\n",
       "      <td>98.0</td>\n",
       "      <td>Less than 1 year</td>\n",
       "      <td>Magazine industry</td>\n",
       "      <td>Small (0 to 499)</td>\n",
       "      <td>USA/North America</td>\n",
       "      <td>Direct to customer</td>\n",
       "      <td>8.7</td>\n",
       "      <td>3.2</td>\n",
       "      <td>3.3</td>\n",
       "      <td>3.2</td>\n",
       "      <td>...</td>\n",
       "      <td>5.0</td>\n",
       "      <td>4.3</td>\n",
       "      <td>3.1</td>\n",
       "      <td>2.9</td>\n",
       "      <td>2.5</td>\n",
       "      <td>5.4</td>\n",
       "      <td>7.0</td>\n",
       "      <td>7.7</td>\n",
       "      <td>51.1</td>\n",
       "      <td>No, would not consider</td>\n",
       "    </tr>\n",
       "    <tr>\n",
       "      <th>98</th>\n",
       "      <td>99.0</td>\n",
       "      <td>1 to 5 years</td>\n",
       "      <td>Newsprint industry</td>\n",
       "      <td>Small (0 to 499)</td>\n",
       "      <td>Outside North America</td>\n",
       "      <td>Direct to customer</td>\n",
       "      <td>7.8</td>\n",
       "      <td>4.9</td>\n",
       "      <td>5.8</td>\n",
       "      <td>5.3</td>\n",
       "      <td>...</td>\n",
       "      <td>6.0</td>\n",
       "      <td>5.7</td>\n",
       "      <td>4.3</td>\n",
       "      <td>4.9</td>\n",
       "      <td>3.9</td>\n",
       "      <td>6.4</td>\n",
       "      <td>7.1</td>\n",
       "      <td>7.4</td>\n",
       "      <td>61.1</td>\n",
       "      <td>No, would not consider</td>\n",
       "    </tr>\n",
       "    <tr>\n",
       "      <th>99</th>\n",
       "      <td>100.0</td>\n",
       "      <td>1 to 5 years</td>\n",
       "      <td>Newsprint industry</td>\n",
       "      <td>Large (500+)</td>\n",
       "      <td>Outside North America</td>\n",
       "      <td>Indirect through broker</td>\n",
       "      <td>7.9</td>\n",
       "      <td>3.0</td>\n",
       "      <td>4.4</td>\n",
       "      <td>5.1</td>\n",
       "      <td>...</td>\n",
       "      <td>5.7</td>\n",
       "      <td>5.8</td>\n",
       "      <td>3.4</td>\n",
       "      <td>5.4</td>\n",
       "      <td>3.5</td>\n",
       "      <td>6.4</td>\n",
       "      <td>7.3</td>\n",
       "      <td>7.0</td>\n",
       "      <td>57.1</td>\n",
       "      <td>No, would not consider</td>\n",
       "    </tr>\n",
       "  </tbody>\n",
       "</table>\n",
       "<p>100 rows × 24 columns</p>\n",
       "</div>"
      ],
      "text/plain": [
       "       id                x1                  x2                x3  \\\n",
       "0     1.0      1 to 5 years   Magazine industry      Large (500+)   \n",
       "1     2.0      Over 5 years  Newsprint industry  Small (0 to 499)   \n",
       "2     3.0      Over 5 years   Magazine industry      Large (500+)   \n",
       "3     4.0  Less than 1 year  Newsprint industry      Large (500+)   \n",
       "4     5.0      1 to 5 years   Magazine industry      Large (500+)   \n",
       "..    ...               ...                 ...               ...   \n",
       "95   96.0  Less than 1 year  Newsprint industry  Small (0 to 499)   \n",
       "96   97.0  Less than 1 year   Magazine industry  Small (0 to 499)   \n",
       "97   98.0  Less than 1 year   Magazine industry  Small (0 to 499)   \n",
       "98   99.0      1 to 5 years  Newsprint industry  Small (0 to 499)   \n",
       "99  100.0      1 to 5 years  Newsprint industry      Large (500+)   \n",
       "\n",
       "                       x4                       x5   x6   x7   x8   x9  ...  \\\n",
       "0   Outside North America       Direct to customer  8.5  3.9  2.5  5.9  ...   \n",
       "1       USA/North America  Indirect through broker  8.2  2.7  5.1  7.2  ...   \n",
       "2   Outside North America       Direct to customer  9.2  3.4  5.6  5.6  ...   \n",
       "3   Outside North America  Indirect through broker  6.4  3.3  7.0  3.7  ...   \n",
       "4       USA/North America       Direct to customer  9.0  3.4  5.2  4.6  ...   \n",
       "..                    ...                      ...  ...  ...  ...  ...  ...   \n",
       "95      USA/North America       Direct to customer  8.6  4.8  5.6  5.3  ...   \n",
       "96  Outside North America       Direct to customer  7.4  3.4  2.6  5.0  ...   \n",
       "97      USA/North America       Direct to customer  8.7  3.2  3.3  3.2  ...   \n",
       "98  Outside North America       Direct to customer  7.8  4.9  5.8  5.3  ...   \n",
       "99  Outside North America  Indirect through broker  7.9  3.0  4.4  5.1  ...   \n",
       "\n",
       "    x14  x15  x16  x17  x18  x19  x20  x21   x22                     x23  \n",
       "0   4.7  4.3  5.0  5.1  3.7  8.2  8.0  8.4  65.1     Yes, would consider  \n",
       "1   5.5  4.0  3.9  4.3  4.9  5.7  6.5  7.5  67.1  No, would not consider  \n",
       "2   6.2  4.6  5.4  4.0  4.5  8.9  8.4  9.0  72.1     Yes, would consider  \n",
       "3   7.0  3.6  4.3  4.1  3.0  4.8  6.0  7.2  40.1  No, would not consider  \n",
       "4   6.1  4.5  4.5  3.5  3.5  7.1  6.6  9.0  57.1  No, would not consider  \n",
       "..  ...  ...  ...  ...  ...  ...  ...  ...   ...                     ...  \n",
       "95  5.8  3.6  4.9  3.6  3.6  7.3  8.1  8.1  50.1     Yes, would consider  \n",
       "96  4.5  6.4  4.2  5.6  3.7  6.3  5.5  7.2  48.1  No, would not consider  \n",
       "97  5.0  4.3  3.1  2.9  2.5  5.4  7.0  7.7  51.1  No, would not consider  \n",
       "98  6.0  5.7  4.3  4.9  3.9  6.4  7.1  7.4  61.1  No, would not consider  \n",
       "99  5.7  5.8  3.4  5.4  3.5  6.4  7.3  7.0  57.1  No, would not consider  \n",
       "\n",
       "[100 rows x 24 columns]"
      ]
     },
     "execution_count": 18,
     "metadata": {},
     "output_type": "execute_result"
    }
   ],
   "source": [
    "hbat"
   ]
  },
  {
   "cell_type": "code",
   "execution_count": 19,
   "metadata": {},
   "outputs": [],
   "source": [
    "from sklearn.preprocessing import MinMaxScaler\n",
    "scaler = MinMaxScaler()\n",
    "\n",
    "for var in ['x7','x8','x9','x10','x11','x19']:\n",
    "    hbat[var+\"_\"] = scaler.fit_transform(hbat[[var]])"
   ]
  },
  {
   "cell_type": "code",
   "execution_count": 20,
   "metadata": {},
   "outputs": [
    {
     "data": {
      "text/html": [
       "<div>\n",
       "<style scoped>\n",
       "    .dataframe tbody tr th:only-of-type {\n",
       "        vertical-align: middle;\n",
       "    }\n",
       "\n",
       "    .dataframe tbody tr th {\n",
       "        vertical-align: top;\n",
       "    }\n",
       "\n",
       "    .dataframe thead th {\n",
       "        text-align: right;\n",
       "    }\n",
       "</style>\n",
       "<table border=\"1\" class=\"dataframe\">\n",
       "  <thead>\n",
       "    <tr style=\"text-align: right;\">\n",
       "      <th></th>\n",
       "      <th>x7_</th>\n",
       "      <th>x8_</th>\n",
       "      <th>x9_</th>\n",
       "      <th>x10_</th>\n",
       "      <th>x11_</th>\n",
       "      <th>x19_</th>\n",
       "    </tr>\n",
       "  </thead>\n",
       "  <tbody>\n",
       "    <tr>\n",
       "      <th>0</th>\n",
       "      <td>0.485714</td>\n",
       "      <td>0.166667</td>\n",
       "      <td>0.634615</td>\n",
       "      <td>0.630435</td>\n",
       "      <td>0.426230</td>\n",
       "      <td>0.673077</td>\n",
       "    </tr>\n",
       "    <tr>\n",
       "      <th>1</th>\n",
       "      <td>0.142857</td>\n",
       "      <td>0.527778</td>\n",
       "      <td>0.884615</td>\n",
       "      <td>0.326087</td>\n",
       "      <td>0.918033</td>\n",
       "      <td>0.192308</td>\n",
       "    </tr>\n",
       "    <tr>\n",
       "      <th>2</th>\n",
       "      <td>0.342857</td>\n",
       "      <td>0.597222</td>\n",
       "      <td>0.576923</td>\n",
       "      <td>0.760870</td>\n",
       "      <td>0.836066</td>\n",
       "      <td>0.807692</td>\n",
       "    </tr>\n",
       "    <tr>\n",
       "      <th>3</th>\n",
       "      <td>0.314286</td>\n",
       "      <td>0.791667</td>\n",
       "      <td>0.211538</td>\n",
       "      <td>0.608696</td>\n",
       "      <td>0.393443</td>\n",
       "      <td>0.019231</td>\n",
       "    </tr>\n",
       "    <tr>\n",
       "      <th>4</th>\n",
       "      <td>0.342857</td>\n",
       "      <td>0.541667</td>\n",
       "      <td>0.384615</td>\n",
       "      <td>0.065217</td>\n",
       "      <td>0.606557</td>\n",
       "      <td>0.461538</td>\n",
       "    </tr>\n",
       "    <tr>\n",
       "      <th>...</th>\n",
       "      <td>...</td>\n",
       "      <td>...</td>\n",
       "      <td>...</td>\n",
       "      <td>...</td>\n",
       "      <td>...</td>\n",
       "      <td>...</td>\n",
       "    </tr>\n",
       "    <tr>\n",
       "      <th>95</th>\n",
       "      <td>0.742857</td>\n",
       "      <td>0.597222</td>\n",
       "      <td>0.519231</td>\n",
       "      <td>0.086957</td>\n",
       "      <td>0.606557</td>\n",
       "      <td>0.500000</td>\n",
       "    </tr>\n",
       "    <tr>\n",
       "      <th>96</th>\n",
       "      <td>0.342857</td>\n",
       "      <td>0.180556</td>\n",
       "      <td>0.461538</td>\n",
       "      <td>0.478261</td>\n",
       "      <td>0.344262</td>\n",
       "      <td>0.307692</td>\n",
       "    </tr>\n",
       "    <tr>\n",
       "      <th>97</th>\n",
       "      <td>0.285714</td>\n",
       "      <td>0.277778</td>\n",
       "      <td>0.115385</td>\n",
       "      <td>0.260870</td>\n",
       "      <td>0.622951</td>\n",
       "      <td>0.134615</td>\n",
       "    </tr>\n",
       "    <tr>\n",
       "      <th>98</th>\n",
       "      <td>0.771429</td>\n",
       "      <td>0.625000</td>\n",
       "      <td>0.519231</td>\n",
       "      <td>0.717391</td>\n",
       "      <td>0.491803</td>\n",
       "      <td>0.326923</td>\n",
       "    </tr>\n",
       "    <tr>\n",
       "      <th>99</th>\n",
       "      <td>0.228571</td>\n",
       "      <td>0.430556</td>\n",
       "      <td>0.480769</td>\n",
       "      <td>0.869565</td>\n",
       "      <td>0.311475</td>\n",
       "      <td>0.326923</td>\n",
       "    </tr>\n",
       "  </tbody>\n",
       "</table>\n",
       "<p>100 rows × 6 columns</p>\n",
       "</div>"
      ],
      "text/plain": [
       "         x7_       x8_       x9_      x10_      x11_      x19_\n",
       "0   0.485714  0.166667  0.634615  0.630435  0.426230  0.673077\n",
       "1   0.142857  0.527778  0.884615  0.326087  0.918033  0.192308\n",
       "2   0.342857  0.597222  0.576923  0.760870  0.836066  0.807692\n",
       "3   0.314286  0.791667  0.211538  0.608696  0.393443  0.019231\n",
       "4   0.342857  0.541667  0.384615  0.065217  0.606557  0.461538\n",
       "..       ...       ...       ...       ...       ...       ...\n",
       "95  0.742857  0.597222  0.519231  0.086957  0.606557  0.500000\n",
       "96  0.342857  0.180556  0.461538  0.478261  0.344262  0.307692\n",
       "97  0.285714  0.277778  0.115385  0.260870  0.622951  0.134615\n",
       "98  0.771429  0.625000  0.519231  0.717391  0.491803  0.326923\n",
       "99  0.228571  0.430556  0.480769  0.869565  0.311475  0.326923\n",
       "\n",
       "[100 rows x 6 columns]"
      ]
     },
     "execution_count": 20,
     "metadata": {},
     "output_type": "execute_result"
    }
   ],
   "source": [
    "hbat[['x7_','x8_','x9_','x10_','x11_','x19_']]"
   ]
  },
  {
   "cell_type": "code",
   "execution_count": 21,
   "metadata": {},
   "outputs": [],
   "source": [
    "from sklearn.linear_model import LinearRegression\n",
    "model = LinearRegression()\n",
    "X = hbat[['x7_','x8_','x9_','x10_','x11_']]\n",
    "y = hbat['x19_']\n",
    "model.fit(X,y)\n",
    "yhat = model.predict(X)\n",
    "hbat['x19_hat'] = yhat\n"
   ]
  },
  {
   "cell_type": "code",
   "execution_count": null,
   "metadata": {},
   "outputs": [],
   "source": []
  },
  {
   "cell_type": "code",
   "execution_count": 22,
   "metadata": {},
   "outputs": [],
   "source": [
    "hbat['squared_error'] = (hbat['x19_hat']-hbat['x19_'])**2"
   ]
  },
  {
   "cell_type": "code",
   "execution_count": 23,
   "metadata": {},
   "outputs": [
    {
     "data": {
      "text/html": [
       "<div>\n",
       "<style scoped>\n",
       "    .dataframe tbody tr th:only-of-type {\n",
       "        vertical-align: middle;\n",
       "    }\n",
       "\n",
       "    .dataframe tbody tr th {\n",
       "        vertical-align: top;\n",
       "    }\n",
       "\n",
       "    .dataframe thead th {\n",
       "        text-align: right;\n",
       "    }\n",
       "</style>\n",
       "<table border=\"1\" class=\"dataframe\">\n",
       "  <thead>\n",
       "    <tr style=\"text-align: right;\">\n",
       "      <th></th>\n",
       "      <th>x19_</th>\n",
       "      <th>x19_hat</th>\n",
       "      <th>squared_error</th>\n",
       "    </tr>\n",
       "  </thead>\n",
       "  <tbody>\n",
       "    <tr>\n",
       "      <th>0</th>\n",
       "      <td>0.673077</td>\n",
       "      <td>0.429323</td>\n",
       "      <td>0.059416</td>\n",
       "    </tr>\n",
       "    <tr>\n",
       "      <th>1</th>\n",
       "      <td>0.192308</td>\n",
       "      <td>0.593652</td>\n",
       "      <td>0.161077</td>\n",
       "    </tr>\n",
       "    <tr>\n",
       "      <th>2</th>\n",
       "      <td>0.807692</td>\n",
       "      <td>0.570379</td>\n",
       "      <td>0.056318</td>\n",
       "    </tr>\n",
       "    <tr>\n",
       "      <th>3</th>\n",
       "      <td>0.019231</td>\n",
       "      <td>0.249846</td>\n",
       "      <td>0.053183</td>\n",
       "    </tr>\n",
       "    <tr>\n",
       "      <th>4</th>\n",
       "      <td>0.461538</td>\n",
       "      <td>0.308012</td>\n",
       "      <td>0.023571</td>\n",
       "    </tr>\n",
       "    <tr>\n",
       "      <th>...</th>\n",
       "      <td>...</td>\n",
       "      <td>...</td>\n",
       "      <td>...</td>\n",
       "    </tr>\n",
       "    <tr>\n",
       "      <th>95</th>\n",
       "      <td>0.500000</td>\n",
       "      <td>0.441467</td>\n",
       "      <td>0.003426</td>\n",
       "    </tr>\n",
       "    <tr>\n",
       "      <th>96</th>\n",
       "      <td>0.307692</td>\n",
       "      <td>0.286487</td>\n",
       "      <td>0.000450</td>\n",
       "    </tr>\n",
       "    <tr>\n",
       "      <th>97</th>\n",
       "      <td>0.134615</td>\n",
       "      <td>0.238138</td>\n",
       "      <td>0.010717</td>\n",
       "    </tr>\n",
       "    <tr>\n",
       "      <th>98</th>\n",
       "      <td>0.326923</td>\n",
       "      <td>0.500147</td>\n",
       "      <td>0.030007</td>\n",
       "    </tr>\n",
       "    <tr>\n",
       "      <th>99</th>\n",
       "      <td>0.326923</td>\n",
       "      <td>0.321312</td>\n",
       "      <td>0.000031</td>\n",
       "    </tr>\n",
       "  </tbody>\n",
       "</table>\n",
       "<p>100 rows × 3 columns</p>\n",
       "</div>"
      ],
      "text/plain": [
       "        x19_   x19_hat  squared_error\n",
       "0   0.673077  0.429323       0.059416\n",
       "1   0.192308  0.593652       0.161077\n",
       "2   0.807692  0.570379       0.056318\n",
       "3   0.019231  0.249846       0.053183\n",
       "4   0.461538  0.308012       0.023571\n",
       "..       ...       ...            ...\n",
       "95  0.500000  0.441467       0.003426\n",
       "96  0.307692  0.286487       0.000450\n",
       "97  0.134615  0.238138       0.010717\n",
       "98  0.326923  0.500147       0.030007\n",
       "99  0.326923  0.321312       0.000031\n",
       "\n",
       "[100 rows x 3 columns]"
      ]
     },
     "execution_count": 23,
     "metadata": {},
     "output_type": "execute_result"
    }
   ],
   "source": [
    "hbat[['x19_','x19_hat','squared_error']]"
   ]
  },
  {
   "cell_type": "code",
   "execution_count": 24,
   "metadata": {},
   "outputs": [
    {
     "data": {
      "text/plain": [
       "2.5452446802832793"
      ]
     },
     "execution_count": 24,
     "metadata": {},
     "output_type": "execute_result"
    }
   ],
   "source": [
    "sum(hbat['squared_error'])"
   ]
  },
  {
   "cell_type": "markdown",
   "metadata": {},
   "source": [
    "### 5. Finally, the p-value\n",
    "__the p-value is the percentage of the random generated SSE (df_simulation) that are smaller than the one obtained by the hbat Linear Regression__. \n",
    "\n",
    "In this case you will see that it is 0%, meaning that our model is better than 100% of the prediction made by a model generated in random sample with the same degree of freedom (same number of variables and same number of data points)"
   ]
  },
  {
   "cell_type": "code",
   "execution_count": 25,
   "metadata": {},
   "outputs": [
    {
     "data": {
      "text/plain": [
       "array([[<AxesSubplot:title={'center':'squared_error'}>]], dtype=object)"
      ]
     },
     "execution_count": 25,
     "metadata": {},
     "output_type": "execute_result"
    },
    {
     "data": {
      "image/png": "[encoded data removed]",
      "text/plain": [
       "<Figure size 432x288 with 1 Axes>"
      ]
     },
     "metadata": {
      "needs_background": "light"
     },
     "output_type": "display_data"
    }
   ],
   "source": [
    "df_simulation.hist()"
   ]
  },
  {
   "cell_type": "code",
   "execution_count": 26,
   "metadata": {},
   "outputs": [
    {
     "data": {
      "text/plain": [
       "2.5452446802832793"
      ]
     },
     "execution_count": 26,
     "metadata": {},
     "output_type": "execute_result"
    }
   ],
   "source": [
    "sum(hbat['squared_error'])"
   ]
  },
  {
   "cell_type": "code",
   "execution_count": 27,
   "metadata": {},
   "outputs": [
    {
     "data": {
      "text/plain": [
       "0       False\n",
       "1       False\n",
       "2       False\n",
       "3       False\n",
       "4       False\n",
       "        ...  \n",
       "996     False\n",
       "997     False\n",
       "998     False\n",
       "999     False\n",
       "1000    False\n",
       "Name: squared_error, Length: 1001, dtype: bool"
      ]
     },
     "execution_count": 27,
     "metadata": {},
     "output_type": "execute_result"
    }
   ],
   "source": [
    "df_simulation['squared_error'] < sum(hbat['squared_error'])"
   ]
  },
  {
   "cell_type": "code",
   "execution_count": 28,
   "metadata": {},
   "outputs": [
    {
     "data": {
      "text/plain": [
       "0"
      ]
     },
     "execution_count": 28,
     "metadata": {},
     "output_type": "execute_result"
    }
   ],
   "source": [
    "sum(df_simulation['squared_error'] < sum(hbat['squared_error']))"
   ]
  },
  {
   "cell_type": "code",
   "execution_count": 29,
   "metadata": {},
   "outputs": [],
   "source": [
    "p_value = sum(df_simulation['squared_error'] < sum(hbat['squared_error']))/len(df_simulation)"
   ]
  },
  {
   "cell_type": "code",
   "execution_count": 30,
   "metadata": {},
   "outputs": [
    {
     "data": {
      "text/plain": [
       "0.0"
      ]
     },
     "execution_count": 30,
     "metadata": {},
     "output_type": "execute_result"
    }
   ],
   "source": [
    "p_value"
   ]
  },
  {
   "cell_type": "markdown",
   "metadata": {},
   "source": [
    "# To finish this, let's hear a song about p-value - about rare events ;-)\n",
    "\n",
    "---\n",
    "\n",
    "\n",
    "Let's here a song about p-value, actually about rare events:\n",
    "\n",
    "Alanis Morissette - Ironic: https://www.youtube.com/watch?v=Jne9t8sHpUc\n",
    "\n",
    "\n",
    "<a href=\"https://www.youtube.com/watch?v=Jne9t8sHpUc\" target=\"_blank\"> <img src=\"img/ironic_alanis_morissette.png\"> </a>\n",
    "\n"
   ]
  },
  {
   "cell_type": "code",
   "execution_count": null,
   "metadata": {},
   "outputs": [],
   "source": []
  },
  {
   "cell_type": "code",
   "execution_count": null,
   "metadata": {},
   "outputs": [],
   "source": []
  }
 ],
 "metadata": {
  "kernelspec": {
   "display_name": "Python 3 (ipykernel)",
   "language": "python",
   "name": "python3"
  },
  "language_info": {
   "codemirror_mode": {
    "name": "ipython",
    "version": 3
   },
   "file_extension": ".py",
   "mimetype": "text/x-python",
   "name": "python",
   "nbconvert_exporter": "python",
   "pygments_lexer": "ipython3",
   "version": "3.11.6"
  }
 },
 "nbformat": 4,
 "nbformat_minor": 4
}