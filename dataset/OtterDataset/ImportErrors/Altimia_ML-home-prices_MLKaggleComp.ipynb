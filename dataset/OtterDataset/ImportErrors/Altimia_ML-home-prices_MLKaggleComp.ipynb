{
  "cells": [
    {
      "cell_type": "markdown",
      "metadata": {
        "id": "1niqZY8axpDP"
      },
      "source": [
        "\n",
        "\n",
        "## **1. Accessing and Reading the Kaggle Data Sets**\n",
        "\n",
        "The competition data is separated into training and test sets. Each record includes the property values of the house and attributes such as street type, year of construction, roof type, basement condition.\n",
        "\n",
        "The data includes multiple data types, including integers (year of construction), discrete labels (roof type), floating point numbers, etc.; Some data is missing and is thus labeled 'na'.\n",
        "\n",
        "The price of each house, namely the label, is only included in the training data set (it is a competition after all). The 'Data' tab on the competition tab has links to download the data.\n",
        "\n",
        "We will read and process the data using `pandas`, an [efficient data analysis toolkit](http://pandas.pydata.org/pandas-docs/stable/). It is already part of colab."
      ]
    },
    {
      "cell_type": "code",
      "execution_count": 1,
      "metadata": {
        "ExecuteTime": {
          "end_time": "2019-02-12T19:52:59.411749Z",
          "start_time": "2019-02-12T19:52:28.081528Z"
        },
        "attributes": {
          "classes": [],
          "id": "",
          "n": "3"
        },
        "id": "GRQwEMHBvhPU",
        "scrolled": true
      },
      "outputs": [],
      "source": [
        "# If pandas is not installed, please uncomment the following line:\n",
        "# !pip install pandas\n",
        "\n",
        "import matplotlib.pyplot as plt\n",
        "import os\n",
        "import importlib\n",
        "import time\n",
        "import math\n",
        "import random\n",
        "\n",
        "import numpy as np\n",
        "import torch\n",
        "import pandas as pd\n",
        "\n",
        "import torch\n",
        "import torchvision\n",
        "from torch import nn\n",
        "from torch.utils import data\n",
        "from torchvision import transforms"
      ]
    },
    {
      "cell_type": "markdown",
      "metadata": {
        "id": "skT1Nv3O_p0z"
      },
      "source": [
        "Below allows anyone to access and train the data in the notebook without having to configure the data sets"
      ]
    },
    {
      "cell_type": "code",
      "execution_count": 6,
      "metadata": {
        "colab": {
          "base_uri": "https://localhost:8080/"
        },
        "id": "J1v7qE-bnyA8",
        "outputId": "d61f3d07-173d-4ea6-9e12-d176b89f8392"
      },
      "outputs": [
        {
          "name": "stdout",
          "output_type": "stream",
          "text": [
            "Running in Google Colab\n",
            "Downloading files from GitHub repo ...\n",
            "Finished!\n"
          ]
        }
      ],
      "source": [
        "def install_package(package):\n",
        "    try:\n",
        "        importlib.import_module(package)\n",
        "    except ImportError:\n",
        "        import sys\n",
        "        !{sys.executable} -m pip install {package}\n",
        "\n",
        "def is_running_in_colab():\n",
        "    try:\n",
        "        from google.colab import _ipython as ip\n",
        "        return True\n",
        "    except ImportError:\n",
        "        return False\n",
        "\n",
        "try:\n",
        "  if is_running_in_colab():\n",
        "    print(\"Running in Google Colab\")\n",
        "  else:\n",
        "    print(\"Running in Jupyter or VSCode\")\n",
        "\n",
        "  import requests\n",
        "  url = 'https://raw.githubusercontent.com/joccing/ICT303-assignment1/master/config.py'\n",
        "  r = requests.get(url, allow_redirects=True)\n",
        "  open('config.py', 'wb').write(r.content)\n",
        "\n",
        "except ModuleNotFoundError:\n",
        "  pass\n",
        "\n",
        "from config import *\n",
        "config_data()"
      ]
    },
    {
      "cell_type": "code",
      "execution_count": 7,
      "metadata": {
        "colab": {
          "base_uri": "https://localhost:8080/"
        },
        "id": "pSw2rDaAn2oE",
        "outputId": "ab559186-bd29-4d63-c84a-5b2202fd07c0"
      },
      "outputs": [
        {
          "name": "stdout",
          "output_type": "stream",
          "text": [
            "Loaded and verified data!\n"
          ]
        }
      ],
      "source": [
        "try:\n",
        "    import pandas as pd\n",
        "except ImportError:\n",
        "    # If pandas is not installed, install it\n",
        "    install_package('pandas')\n",
        "    import pandas as pd\n",
        "\n",
        "train_data = pd.read_csv('data/train.csv')\n",
        "test_data  = pd.read_csv('data/test.csv')\n",
        "assert train_data.shape == (1460,81)\n",
        "assert test_data.shape == (1459, 80)\n",
        "print('Loaded and verified data!')"
      ]
    },
    {
      "cell_type": "markdown",
      "metadata": {
        "id": "BjAF_MkDvhPW"
      },
      "source": [
        "Checking the content of the files"
      ]
    },
    {
      "cell_type": "code",
      "execution_count": 8,
      "metadata": {
        "ExecuteTime": {
          "end_time": "2019-02-12T19:52:59.938906Z",
          "start_time": "2019-02-12T19:52:59.914530Z"
        },
        "attributes": {
          "classes": [],
          "id": "",
          "n": "11"
        },
        "colab": {
          "base_uri": "https://localhost:8080/"
        },
        "id": "xZqqYl11vhPW",
        "outputId": "f2ee79e7-28cf-4347-fa4d-ce1996cde7eb"
      },
      "outputs": [
        {
          "name": "stdout",
          "output_type": "stream",
          "text": [
            "(1460, 81)\n",
            "(1459, 80)\n"
          ]
        }
      ],
      "source": [
        "print(train_data.shape)\n",
        "print(test_data.shape)"
      ]
    },
    {
      "cell_type": "markdown",
      "metadata": {
        "id": "te8qM3wFvhPX"
      },
      "source": [
        "Let’s take a look at the first 4 and last 2 features as well as the label (SalePrice) from the first 4 examples:"
      ]
    },
    {
      "cell_type": "code",
      "execution_count": 5,
      "metadata": {
        "ExecuteTime": {
          "end_time": "2019-02-12T19:53:00.162068Z",
          "start_time": "2019-02-12T19:52:59.951154Z"
        },
        "attributes": {
          "classes": [],
          "id": "",
          "n": "28"
        },
        "colab": {
          "base_uri": "https://localhost:8080/",
          "height": 174
        },
        "id": "0qmO3cWrvhPd",
        "outputId": "47385e08-bb3f-4796-c225-988dd0d24169"
      },
      "outputs": [
        {
          "data": {
            "text/html": [
              "\n",
              "  <div id=\"df-15c1acc1-a70c-4b92-a0c9-b3cc135eeabf\">\n",
              "    <div class=\"colab-df-container\">\n",
              "      <div>\n",
              "<style scoped>\n",
              "    .dataframe tbody tr th:only-of-type {\n",
              "        vertical-align: middle;\n",
              "    }\n",
              "\n",
              "    .dataframe tbody tr th {\n",
              "        vertical-align: top;\n",
              "    }\n",
              "\n",
              "    .dataframe thead th {\n",
              "        text-align: right;\n",
              "    }\n",
              "</style>\n",
              "<table border=\"1\" class=\"dataframe\">\n",
              "  <thead>\n",
              "    <tr style=\"text-align: right;\">\n",
              "      <th></th>\n",
              "      <th>Id</th>\n",
              "      <th>MSSubClass</th>\n",
              "      <th>MSZoning</th>\n",
              "      <th>LotFrontage</th>\n",
              "      <th>SaleType</th>\n",
              "      <th>SaleCondition</th>\n",
              "      <th>SalePrice</th>\n",
              "    </tr>\n",
              "  </thead>\n",
              "  <tbody>\n",
              "    <tr>\n",
              "      <th>0</th>\n",
              "      <td>1</td>\n",
              "      <td>60</td>\n",
              "      <td>RL</td>\n",
              "      <td>65.0</td>\n",
              "      <td>WD</td>\n",
              "      <td>Normal</td>\n",
              "      <td>208500</td>\n",
              "    </tr>\n",
              "    <tr>\n",
              "      <th>1</th>\n",
              "      <td>2</td>\n",
              "      <td>20</td>\n",
              "      <td>RL</td>\n",
              "      <td>80.0</td>\n",
              "      <td>WD</td>\n",
              "      <td>Normal</td>\n",
              "      <td>181500</td>\n",
              "    </tr>\n",
              "    <tr>\n",
              "      <th>2</th>\n",
              "      <td>3</td>\n",
              "      <td>60</td>\n",
              "      <td>RL</td>\n",
              "      <td>68.0</td>\n",
              "      <td>WD</td>\n",
              "      <td>Normal</td>\n",
              "      <td>223500</td>\n",
              "    </tr>\n",
              "    <tr>\n",
              "      <th>3</th>\n",
              "      <td>4</td>\n",
              "      <td>70</td>\n",
              "      <td>RL</td>\n",
              "      <td>60.0</td>\n",
              "      <td>WD</td>\n",
              "      <td>Abnorml</td>\n",
              "      <td>140000</td>\n",
              "    </tr>\n",
              "  </tbody>\n",
              "</table>\n",
              "</div>\n",
              "      <button class=\"colab-df-convert\" onclick=\"convertToInteractive('df-15c1acc1-a70c-4b92-a0c9-b3cc135eeabf')\"\n",
              "              title=\"Convert this dataframe to an interactive table.\"\n",
              "              style=\"display:none;\">\n",
              "        \n",
              "  <svg xmlns=\"http://www.w3.org/2000/svg\" height=\"24px\"viewBox=\"0 0 24 24\"\n",
              "       width=\"24px\">\n",
              "    <path d=\"M0 0h24v24H0V0z\" fill=\"none\"/>\n",
              "    <path d=\"M18.56 5.44l.94 2.06.94-2.06 2.06-.94-2.06-.94-.94-2.06-.94 2.06-2.06.94zm-11 1L8.5 8.5l.94-2.06 2.06-.94-2.06-.94L8.5 2.5l-.94 2.06-2.06.94zm10 10l.94 2.06.94-2.06 2.06-.94-2.06-.94-.94-2.06-.94 2.06-2.06.94z\"/><path d=\"M17.41 7.96l-1.37-1.37c-.4-.4-.92-.59-1.43-.59-.52 0-1.04.2-1.43.59L10.3 9.45l-7.72 7.72c-.78.78-.78 2.05 0 2.83L4 21.41c.39.39.9.59 1.41.59.51 0 1.02-.2 1.41-.59l7.78-7.78 2.81-2.81c.8-.78.8-2.07 0-2.86zM5.41 20L4 18.59l7.72-7.72 1.47 1.35L5.41 20z\"/>\n",
              "  </svg>\n",
              "      </button>\n",
              "      \n",
              "  <style>\n",
              "    .colab-df-container {\n",
              "      display:flex;\n",
              "      flex-wrap:wrap;\n",
              "      gap: 12px;\n",
              "    }\n",
              "\n",
              "    .colab-df-convert {\n",
              "      background-color: #E8F0FE;\n",
              "      border: none;\n",
              "      border-radius: 50%;\n",
              "      cursor: pointer;\n",
              "      display: none;\n",
              "      fill: #1967D2;\n",
              "      height: 32px;\n",
              "      padding: 0 0 0 0;\n",
              "      width: 32px;\n",
              "    }\n",
              "\n",
              "    .colab-df-convert:hover {\n",
              "      background-color: #E2EBFA;\n",
              "      box-shadow: 0px 1px 2px rgba(60, 64, 67, 0.3), 0px 1px 3px 1px rgba(60, 64, 67, 0.15);\n",
              "      fill: #174EA6;\n",
              "    }\n",
              "\n",
              "    [theme=dark] .colab-df-convert {\n",
              "      background-color: #3B4455;\n",
              "      fill: #D2E3FC;\n",
              "    }\n",
              "\n",
              "    [theme=dark] .colab-df-convert:hover {\n",
              "      background-color: #434B5C;\n",
              "      box-shadow: 0px 1px 3px 1px rgba(0, 0, 0, 0.15);\n",
              "      filter: drop-shadow(0px 1px 2px rgba(0, 0, 0, 0.3));\n",
              "      fill: #FFFFFF;\n",
              "    }\n",
              "  </style>\n",
              "\n",
              "      <script>\n",
              "        const buttonEl =\n",
              "          document.querySelector('#df-15c1acc1-a70c-4b92-a0c9-b3cc135eeabf button.colab-df-convert');\n",
              "        buttonEl.style.display =\n",
              "          google.colab.kernel.accessAllowed ? 'block' : 'none';\n",
              "\n",
              "        async function convertToInteractive(key) {\n",
              "          const element = document.querySelector('#df-15c1acc1-a70c-4b92-a0c9-b3cc135eeabf');\n",
              "          const dataTable =\n",
              "            await google.colab.kernel.invokeFunction('convertToInteractive',\n",
              "                                                     [key], {});\n",
              "          if (!dataTable) return;\n",
              "\n",
              "          const docLinkHtml = 'Like what you see? Visit the ' +\n",
              "            '<a target=\"_blank\" href=https://colab.research.google.com/notebooks/data_table.ipynb>data table notebook</a>'\n",
              "            + ' to learn more about interactive tables.';\n",
              "          element.innerHTML = '';\n",
              "          dataTable['output_type'] = 'display_data';\n",
              "          await google.colab.output.renderOutput(dataTable, element);\n",
              "          const docLink = document.createElement('div');\n",
              "          docLink.innerHTML = docLinkHtml;\n",
              "          element.appendChild(docLink);\n",
              "        }\n",
              "      </script>\n",
              "    </div>\n",
              "  </div>\n",
              "  "
            ],
            "text/plain": [
              "   Id  MSSubClass MSZoning  LotFrontage SaleType SaleCondition  SalePrice\n",
              "0   1          60       RL         65.0       WD        Normal     208500\n",
              "1   2          20       RL         80.0       WD        Normal     181500\n",
              "2   3          60       RL         68.0       WD        Normal     223500\n",
              "3   4          70       RL         60.0       WD       Abnorml     140000"
            ]
          },
          "execution_count": 5,
          "metadata": {},
          "output_type": "execute_result"
        }
      ],
      "source": [
        "train_data.iloc[0:4, [0, 1, 2, 3, -3, -2, -1]]"
      ]
    },
    {
      "cell_type": "markdown",
      "metadata": {
        "id": "Rytz3kDFvhPd"
      },
      "source": [
        "We can see that in each example, the first feature is the ID. This helps the model identify each training example. While this is convenient, it doesn't carry any information for prediction purposes. Hence we remove it from the dataset before feeding the data into the network."
      ]
    },
    {
      "cell_type": "code",
      "execution_count": 9,
      "metadata": {
        "ExecuteTime": {
          "end_time": "2019-02-12T19:53:00.379027Z",
          "start_time": "2019-02-12T19:53:00.166246Z"
        },
        "attributes": {
          "classes": [],
          "id": "",
          "n": "30"
        },
        "id": "Fd1k2_UAvhPe"
      },
      "outputs": [],
      "source": [
        "all_features = pd.concat((train_data.iloc[:, 1:-1], test_data.iloc[:, 1:]))"
      ]
    },
    {
      "cell_type": "markdown",
      "metadata": {
        "id": "2TCTGRndvhPe"
      },
      "source": [
        "## **2. Data Preprocessing**\n",
        "\n",
        "As stated above, we have a wide variety of datatypes. Before we feed it into a  network we need to perform some amount of processing.\n",
        "\n",
        "Let's start with the **numerical features**. We begin by replacing missing values with the mean. This is a reasonable strategy if features are missing at random. To adjust them to a common scale we rescale them to zero mean and unit variance. This is accomplished as follows:\n",
        "\n",
        "$$x \\leftarrow \\frac{x - \\mu}{\\sigma}.$$\n",
        "\n",
        "This process is called **normalization** or **standardisation**. The reason for normalizing the data is that it brings all features to the same order of magnitude. After all, we do not know *a priori* which features are likely to be relevant. Hence it makes sense to treat them equally.\n",
        "\n",
        "Below the code that does the normalization for each numerical features:"
      ]
    },
    {
      "cell_type": "code",
      "execution_count": 10,
      "metadata": {
        "ExecuteTime": {
          "end_time": "2019-02-12T19:53:01.109173Z",
          "start_time": "2019-02-12T19:53:00.389736Z"
        },
        "attributes": {
          "classes": [],
          "id": "",
          "n": "6"
        },
        "colab": {
          "base_uri": "https://localhost:8080/"
        },
        "id": "QE65QBNzvhPf",
        "outputId": "7dd2212c-dd8a-4e5f-cbfc-99ef2fff627d"
      },
      "outputs": [
        {
          "data": {
            "text/plain": [
              "(2919, 79)"
            ]
          },
          "execution_count": 10,
          "metadata": {},
          "output_type": "execute_result"
        }
      ],
      "source": [
        "# Normalize the numerical features\n",
        "numeric_features = all_features.dtypes[all_features.dtypes != 'object'].index\n",
        "\n",
        "# Apply standardization\n",
        "all_features[numeric_features] = all_features[numeric_features].apply(lambda x: (x - x.mean()) / (x.std()))\n",
        "\n",
        "# Set missing values to 0\n",
        "all_features[numeric_features] = all_features[numeric_features].fillna(0)\n",
        "all_features.shape"
      ]
    },
    {
      "cell_type": "markdown",
      "metadata": {
        "id": "son4NdMZAEU2"
      },
      "source": [
        "Data after normalizing numeric features"
      ]
    },
    {
      "cell_type": "code",
      "execution_count": 8,
      "metadata": {
        "colab": {
          "base_uri": "https://localhost:8080/",
          "height": 174
        },
        "id": "-V6SQl9Dnmk2",
        "outputId": "335e8db5-d53a-410d-9f9d-406f2acb8952"
      },
      "outputs": [
        {
          "data": {
            "text/html": [
              "\n",
              "  <div id=\"df-e05d4472-a219-457e-a811-34b9d7fa3e6e\">\n",
              "    <div class=\"colab-df-container\">\n",
              "      <div>\n",
              "<style scoped>\n",
              "    .dataframe tbody tr th:only-of-type {\n",
              "        vertical-align: middle;\n",
              "    }\n",
              "\n",
              "    .dataframe tbody tr th {\n",
              "        vertical-align: top;\n",
              "    }\n",
              "\n",
              "    .dataframe thead th {\n",
              "        text-align: right;\n",
              "    }\n",
              "</style>\n",
              "<table border=\"1\" class=\"dataframe\">\n",
              "  <thead>\n",
              "    <tr style=\"text-align: right;\">\n",
              "      <th></th>\n",
              "      <th>MSSubClass</th>\n",
              "      <th>MSZoning</th>\n",
              "      <th>LotFrontage</th>\n",
              "      <th>LotArea</th>\n",
              "      <th>YrSold</th>\n",
              "      <th>SaleType</th>\n",
              "      <th>SaleCondition</th>\n",
              "    </tr>\n",
              "  </thead>\n",
              "  <tbody>\n",
              "    <tr>\n",
              "      <th>0</th>\n",
              "      <td>0.067320</td>\n",
              "      <td>RL</td>\n",
              "      <td>-0.184443</td>\n",
              "      <td>-0.217841</td>\n",
              "      <td>0.157619</td>\n",
              "      <td>WD</td>\n",
              "      <td>Normal</td>\n",
              "    </tr>\n",
              "    <tr>\n",
              "      <th>1</th>\n",
              "      <td>-0.873466</td>\n",
              "      <td>RL</td>\n",
              "      <td>0.458096</td>\n",
              "      <td>-0.072032</td>\n",
              "      <td>-0.602858</td>\n",
              "      <td>WD</td>\n",
              "      <td>Normal</td>\n",
              "    </tr>\n",
              "    <tr>\n",
              "      <th>2</th>\n",
              "      <td>0.067320</td>\n",
              "      <td>RL</td>\n",
              "      <td>-0.055935</td>\n",
              "      <td>0.137173</td>\n",
              "      <td>0.157619</td>\n",
              "      <td>WD</td>\n",
              "      <td>Normal</td>\n",
              "    </tr>\n",
              "    <tr>\n",
              "      <th>3</th>\n",
              "      <td>0.302516</td>\n",
              "      <td>RL</td>\n",
              "      <td>-0.398622</td>\n",
              "      <td>-0.078371</td>\n",
              "      <td>-1.363335</td>\n",
              "      <td>WD</td>\n",
              "      <td>Abnorml</td>\n",
              "    </tr>\n",
              "  </tbody>\n",
              "</table>\n",
              "</div>\n",
              "      <button class=\"colab-df-convert\" onclick=\"convertToInteractive('df-e05d4472-a219-457e-a811-34b9d7fa3e6e')\"\n",
              "              title=\"Convert this dataframe to an interactive table.\"\n",
              "              style=\"display:none;\">\n",
              "        \n",
              "  <svg xmlns=\"http://www.w3.org/2000/svg\" height=\"24px\"viewBox=\"0 0 24 24\"\n",
              "       width=\"24px\">\n",
              "    <path d=\"M0 0h24v24H0V0z\" fill=\"none\"/>\n",
              "    <path d=\"M18.56 5.44l.94 2.06.94-2.06 2.06-.94-2.06-.94-.94-2.06-.94 2.06-2.06.94zm-11 1L8.5 8.5l.94-2.06 2.06-.94-2.06-.94L8.5 2.5l-.94 2.06-2.06.94zm10 10l.94 2.06.94-2.06 2.06-.94-2.06-.94-.94-2.06-.94 2.06-2.06.94z\"/><path d=\"M17.41 7.96l-1.37-1.37c-.4-.4-.92-.59-1.43-.59-.52 0-1.04.2-1.43.59L10.3 9.45l-7.72 7.72c-.78.78-.78 2.05 0 2.83L4 21.41c.39.39.9.59 1.41.59.51 0 1.02-.2 1.41-.59l7.78-7.78 2.81-2.81c.8-.78.8-2.07 0-2.86zM5.41 20L4 18.59l7.72-7.72 1.47 1.35L5.41 20z\"/>\n",
              "  </svg>\n",
              "      </button>\n",
              "      \n",
              "  <style>\n",
              "    .colab-df-container {\n",
              "      display:flex;\n",
              "      flex-wrap:wrap;\n",
              "      gap: 12px;\n",
              "    }\n",
              "\n",
              "    .colab-df-convert {\n",
              "      background-color: #E8F0FE;\n",
              "      border: none;\n",
              "      border-radius: 50%;\n",
              "      cursor: pointer;\n",
              "      display: none;\n",
              "      fill: #1967D2;\n",
              "      height: 32px;\n",
              "      padding: 0 0 0 0;\n",
              "      width: 32px;\n",
              "    }\n",
              "\n",
              "    .colab-df-convert:hover {\n",
              "      background-color: #E2EBFA;\n",
              "      box-shadow: 0px 1px 2px rgba(60, 64, 67, 0.3), 0px 1px 3px 1px rgba(60, 64, 67, 0.15);\n",
              "      fill: #174EA6;\n",
              "    }\n",
              "\n",
              "    [theme=dark] .colab-df-convert {\n",
              "      background-color: #3B4455;\n",
              "      fill: #D2E3FC;\n",
              "    }\n",
              "\n",
              "    [theme=dark] .colab-df-convert:hover {\n",
              "      background-color: #434B5C;\n",
              "      box-shadow: 0px 1px 3px 1px rgba(0, 0, 0, 0.15);\n",
              "      filter: drop-shadow(0px 1px 2px rgba(0, 0, 0, 0.3));\n",
              "      fill: #FFFFFF;\n",
              "    }\n",
              "  </style>\n",
              "\n",
              "      <script>\n",
              "        const buttonEl =\n",
              "          document.querySelector('#df-e05d4472-a219-457e-a811-34b9d7fa3e6e button.colab-df-convert');\n",
              "        buttonEl.style.display =\n",
              "          google.colab.kernel.accessAllowed ? 'block' : 'none';\n",
              "\n",
              "        async function convertToInteractive(key) {\n",
              "          const element = document.querySelector('#df-e05d4472-a219-457e-a811-34b9d7fa3e6e');\n",
              "          const dataTable =\n",
              "            await google.colab.kernel.invokeFunction('convertToInteractive',\n",
              "                                                     [key], {});\n",
              "          if (!dataTable) return;\n",
              "\n",
              "          const docLinkHtml = 'Like what you see? Visit the ' +\n",
              "            '<a target=\"_blank\" href=https://colab.research.google.com/notebooks/data_table.ipynb>data table notebook</a>'\n",
              "            + ' to learn more about interactive tables.';\n",
              "          element.innerHTML = '';\n",
              "          dataTable['output_type'] = 'display_data';\n",
              "          await google.colab.output.renderOutput(dataTable, element);\n",
              "          const docLink = document.createElement('div');\n",
              "          docLink.innerHTML = docLinkHtml;\n",
              "          element.appendChild(docLink);\n",
              "        }\n",
              "      </script>\n",
              "    </div>\n",
              "  </div>\n",
              "  "
            ],
            "text/plain": [
              "   MSSubClass MSZoning  LotFrontage   LotArea    YrSold SaleType SaleCondition\n",
              "0    0.067320       RL    -0.184443 -0.217841  0.157619       WD        Normal\n",
              "1   -0.873466       RL     0.458096 -0.072032 -0.602858       WD        Normal\n",
              "2    0.067320       RL    -0.055935  0.137173  0.157619       WD        Normal\n",
              "3    0.302516       RL    -0.398622 -0.078371 -1.363335       WD       Abnorml"
            ]
          },
          "execution_count": 8,
          "metadata": {},
          "output_type": "execute_result"
        }
      ],
      "source": [
        "all_features.iloc[0:4, [0, 1, 2, 3, -3, -2, -1]]"
      ]
    },
    {
      "cell_type": "markdown",
      "metadata": {
        "id": "lazSNir9vhPf"
      },
      "source": [
        "Next we deal with the **discrete values**. This includes variables such as 'MSZoning'. We replace them by a one-hot encoding in the same manner as how we transformed multiclass classification data into a vector of $0$ and $1$. For instance, 'MSZoning' assumes the values 'RL' and 'RM'. They map into vectors $(1,0)$ and $(0,1)$ respectively. Pandas does this automatically for us."
      ]
    },
    {
      "cell_type": "code",
      "execution_count": 11,
      "metadata": {
        "ExecuteTime": {
          "end_time": "2019-02-12T19:53:02.149003Z",
          "start_time": "2019-02-12T19:53:01.124831Z"
        },
        "attributes": {
          "classes": [],
          "id": "",
          "n": "7"
        },
        "colab": {
          "base_uri": "https://localhost:8080/"
        },
        "id": "ih40N6ikvhPf",
        "outputId": "0a3239a2-71bd-4ead-e82b-0ce7b6f7e44d"
      },
      "outputs": [
        {
          "name": "stdout",
          "output_type": "stream",
          "text": [
            "Shape of all training data: (2919, 331)\n",
            "Shape of non-processed training: (1460, 81)\n",
            "Shape of non-processed test: (1459, 80)\n"
          ]
        }
      ],
      "source": [
        "# Dummy_na=True refers to a missing value being a legal eigenvalue, and creates an indicative feature for it.\n",
        "all_features = pd.get_dummies(all_features, dummy_na=True)\n",
        "print(f'Shape of all training data: {all_features.shape}')\n",
        "print(f'Shape of non-processed training: {train_data.shape}')\n",
        "print(f'Shape of non-processed test: {test_data.shape}')"
      ]
    },
    {
      "cell_type": "markdown",
      "metadata": {
        "id": "n8WR4gEbvhPg"
      },
      "source": [
        "You can see that this conversion increases the number of features from 79 to 331.\n",
        "\n",
        "Finally, via the `values` attribute we can extract the NumPy format from the Pandas dataframe and prepare them for training."
      ]
    },
    {
      "cell_type": "code",
      "execution_count": 12,
      "metadata": {
        "ExecuteTime": {
          "end_time": "2019-02-12T19:53:02.295819Z",
          "start_time": "2019-02-12T19:53:02.153731Z"
        },
        "attributes": {
          "classes": [],
          "id": "",
          "n": "9"
        },
        "id": "TJmbnw2cvhPg"
      },
      "outputs": [],
      "source": [
        "n_train = train_data.shape[0]\n",
        "\n",
        "# the train feature are in all_features[:n_train].values\n",
        "train_features =  torch.tensor(all_features[:n_train].values, dtype=torch.float32)\n",
        "\n",
        "# the test feature are in all_features[n_train:].values\n",
        "test_features  = torch.tensor(all_features[n_train:].values, dtype=torch.float32)\n",
        "\n",
        "# the train labels are in train_data.SalePrice.values\n",
        "train_labels   = torch.tensor(train_data.SalePrice.values.reshape(-1, 1), dtype=torch.float32)"
      ]
    },
    {
      "cell_type": "markdown",
      "metadata": {
        "id": "yqWxMu7qvhPg"
      },
      "source": [
        "## **3. Training**\n",
        "\n",
        "### **3.1. Loss function**\n",
        "The loss function below uses Mean Square Error(MSE). MSE is the average of the squared differences between the predictions and the targets. MSE is chosen over other loss function (Mean Absolute Error (MAE), Huber loss, etc.) as there is no concern over outliers in the data and the errors are heteroscedastic (residual errors are not constant across independent variables).\n",
        "\n",
        "The activation function ReLU is chosen because it tends to work well in practice and helps to alleviate the vanishing gradients problem, which is when gradients are passed back through the network and become progressively smaller and less useful for learning.\n",
        "\n",
        "The model is a simple single-layer feed-forward network with a linear layer and 1 hidden layer. It is by definition, an MLP (multi-layer perceptrons) network. More explanations are provided below."
      ]
    },
    {
      "cell_type": "code",
      "execution_count": 22,
      "metadata": {
        "id": "GHwivM5ZoCzh"
      },
      "outputs": [],
      "source": [
        "loss = nn.MSELoss()\n",
        "\n",
        "n_inputs = train_features.shape[1]\n",
        "\n",
        "def get_net():\n",
        "    net = nn.Sequential(\n",
        "        nn.Linear(n_inputs, 64),  # Input layer to hidden layer\n",
        "        nn.ReLU(),                # Activation function\n",
        "        nn.Linear(64, 1)          # Hidden layer to output layer\n",
        "    )\n",
        "    return net"
      ]
    },
    {
      "cell_type": "markdown",
      "metadata": {
        "id": "TukZASgmp4o4"
      },
      "source": [
        "With the logarithm of the predictions and actuals, the proportional differences are considered instead of the absolute differences. This means, it can deal better with cases where the target variable has a wide range and prevent the model from giving too much weight to the deviations of large values.\n",
        "\n",
        "The model is trained for a regression task, where the prediction is a continuous value as opposed to a discrete class label."
      ]
    },
    {
      "cell_type": "code",
      "execution_count": 23,
      "metadata": {
        "id": "Ww5vlLnkoD6r"
      },
      "outputs": [],
      "source": [
        "def log_rmse(net, features, labels):\n",
        "    clipped_preds = torch.clamp(net(features), 1, float('inf'))\n",
        "    rmse = torch.sqrt(loss(torch.log(clipped_preds), torch.log(labels)))\n",
        "    return rmse.item()"
      ]
    },
    {
      "cell_type": "code",
      "execution_count": 24,
      "metadata": {
        "id": "PVxTm3I1oFB7"
      },
      "outputs": [],
      "source": [
        "def load_array(data_arrays, batch_size, is_train=True):\n",
        "    dataset = data.TensorDataset(*data_arrays)\n",
        "    return data.DataLoader(dataset, batch_size, shuffle=is_train)"
      ]
    },
    {
      "cell_type": "markdown",
      "metadata": {
        "id": "JIPUTMFM99mP"
      },
      "source": [
        "The below train function takes in the neural network, the training and testing features and labels, the number of epochs to train for, the learning rate, weight decay (regularization parameter) and batch size. It optimizes the network parameters for the given number of epochs using the Adam optimizer.  The Adam optimizer updates network weights iteratively based on training data. Here, for each epoch, it calculates the loss, does back propagation and updates the weights.\n",
        "\n",
        "Adam is chosen because it combines the best properties of the AdaGrad and RMSProp optimization algorithms, which allows it to handle sparse gradients on noisy problems."
      ]
    },
    {
      "cell_type": "code",
      "execution_count": 25,
      "metadata": {
        "id": "-G45dTU4oGh0"
      },
      "outputs": [],
      "source": [
        "def train(net, train_features, train_labels, test_features, test_labels,\n",
        "          num_epochs, learning_rate, weight_decay, batch_size):\n",
        "\n",
        "    train_ls, test_ls = [], []\n",
        "\n",
        "    train_iter = load_array((train_features, train_labels), batch_size)\n",
        "    optimizer = torch.optim.Adam(net.parameters(),\n",
        "                                 lr = learning_rate,\n",
        "                                 weight_decay = weight_decay)\n",
        "\n",
        "    for epoch in range(num_epochs):\n",
        "        for X, y in train_iter:\n",
        "            optimizer.zero_grad()\n",
        "            l = loss(net(X), y)\n",
        "            l.backward()\n",
        "            optimizer.step()\n",
        "\n",
        "        train_l = log_rmse(net, train_features, train_labels)     #training loss after the current epoch\n",
        "        train_ls.append(train_l)\n",
        "        #print(f'Epoch: ', epoch, ' Training Loss: ', train_l)\n",
        "        if test_labels is not None:\n",
        "            test_l = log_rmse(net, test_features, test_labels)    #test loss after the current epoch\n",
        "            test_ls.append(test_l)\n",
        "\n",
        "    return train_ls, test_ls"
      ]
    },
    {
      "cell_type": "markdown",
      "metadata": {
        "id": "6s0f8gDVvhPh"
      },
      "source": [
        "### **3.2. k-Fold Cross-Validation**\n",
        "\n",
        "This model uses a simple multi-layer perceptrons (MLP), with the number of inputs equal to the number of features in the training data, and the output is 64 neurons with 1 hidden layer in between.\n",
        "\n",
        "1. **Input Layer**: This receives the input features from the dataset. The number of neurons in this layer is equal to the number of input features. Each neuron represents a feature from the dataset.\n",
        "\n",
        "2. **Hidden Layer**: This is the layer in between the input and output layers. It transforms the inputs from the previous layer using weights, biases, and a specified activation function. Adding a hidden layer increases the complexity of the model, which may allow the network to learn more intricate patterns from the data. However, it also increases computational cost and possibly overfitting risk. In this model, the hidden layer consists of 64 neurons, followed by a ReLU activation function. ReLU (Rectified Linear Units) introduces non-linearity to the model, which helps the network to learn complex patterns.\n",
        "\n",
        "3. **Output Layer**: This layer produces the final predictions of the model. A linear transformation is applied in this layer. For a regression task like this one, it typically consists of a single neuron (as is the case here), which outputs a continuous value as the prediction result."
      ]
    },
    {
      "cell_type": "code",
      "execution_count": 26,
      "metadata": {
        "ExecuteTime": {
          "end_time": "2019-02-12T19:53:02.558010Z",
          "start_time": "2019-02-12T19:53:02.507447Z"
        },
        "id": "-DMHupgSvhPi"
      },
      "outputs": [],
      "source": [
        "def get_k_fold_data(k, i, X, y):\n",
        "    assert k > 1\n",
        "    fold_size = X.shape[0] // k\n",
        "    X_train, y_train = None, None\n",
        "    for j in range(k):\n",
        "        idx = slice(j * fold_size, (j + 1) * fold_size)\n",
        "        X_part, y_part = X[idx, :], y[idx]\n",
        "        if j == i:\n",
        "            X_valid, y_valid = X_part, y_part\n",
        "        elif X_train is None:\n",
        "            X_train, y_train = X_part, y_part\n",
        "        else:\n",
        "            X_train = torch.cat((X_train, X_part), 0)\n",
        "            y_train = torch.cat((y_train, y_part), 0)\n",
        "    return X_train, y_train, X_valid, y_valid"
      ]
    },
    {
      "cell_type": "markdown",
      "metadata": {
        "id": "5Ix6umPTvhPi"
      },
      "source": [
        "The training and verification error averages are returned when we train $k$ times in the k-fold cross-validation."
      ]
    },
    {
      "cell_type": "code",
      "execution_count": 27,
      "metadata": {
        "ExecuteTime": {
          "end_time": "2019-02-12T19:53:02.601248Z",
          "start_time": "2019-02-12T19:53:02.576663Z"
        },
        "attributes": {
          "classes": [],
          "id": "",
          "n": "15"
        },
        "id": "0JTOCGL0vhPi"
      },
      "outputs": [],
      "source": [
        "def k_fold(k, X_train, y_train, num_epochs,\n",
        "           learning_rate, weight_decay, batch_size):\n",
        "    train_l_sum, valid_l_sum = 0, 0\n",
        "    for i in range(k):\n",
        "        data = get_k_fold_data(k, i, X_train, y_train)\n",
        "        net = get_net()\n",
        "\n",
        "        train_ls, valid_ls = train(net, *data, num_epochs, learning_rate, weight_decay, batch_size)\n",
        "\n",
        "        train_l_sum += train_ls[-1]\n",
        "        valid_l_sum += valid_ls[-1]\n",
        "\n",
        "        if i == 0:\n",
        "            plt.plot(list(range(1, num_epochs + 1)), train_ls)\n",
        "            plt.plot(list(range(1, num_epochs + 1)), valid_ls)\n",
        "            plt.xlabel('epoch')\n",
        "            plt.ylabel('rmse')\n",
        "            plt.legend(['train', 'valid'])\n",
        "            plt.yscale('log')\n",
        "            plt.show()\n",
        "\n",
        "        print('fold %d, train rmse: %f, valid rmse: %f' % (\n",
        "            i, train_ls[-1], valid_ls[-1]))\n",
        "\n",
        "    return train_l_sum / k, valid_l_sum / k"
      ]
    },
    {
      "cell_type": "markdown",
      "metadata": {
        "id": "KDsWEFXDvhPi"
      },
      "source": [
        "Finding a good choice of the hyperparameters can take quite some time, depending on how many things one wants to optimize over. Within reason the $k$-fold crossvalidation approach is resilient against multiple testing. However, trying out an unreasonably large number of options might result in failure since it might just be luck that the validation split with a particular set of hyperparameters.\n",
        "\n",
        "The model includes regularization through the weight decay parameter in the optimizer which can prevent overfitting by penalizing large weights.\n",
        "\n",
        "In this case, these hyperparameters configuration is chosen after a numbers of trial and error. In my opinion this is the best configuration without the validation loss eclipsing the training loss."
      ]
    },
    {
      "cell_type": "code",
      "execution_count": 32,
      "metadata": {
        "ExecuteTime": {
          "end_time": "2019-02-12T19:53:02.603202Z",
          "start_time": "2019-02-12T19:52:28.070Z"
        },
        "attributes": {
          "classes": [],
          "id": "",
          "n": "16"
        },
        "colab": {
          "base_uri": "https://localhost:8080/",
          "height": 553
        },
        "id": "IcUVNvK4vhPj",
        "outputId": "2e163f64-e3b1-4731-8140-f6bf3def6bd5"
      },
      "outputs": [
        {
          "data": {
            "image/png": "[encoded data removed]",
            "text/plain": [
              "<Figure size 640x480 with 1 Axes>"
            ]
          },
          "metadata": {},
          "output_type": "display_data"
        },
        {
          "name": "stdout",
          "output_type": "stream",
          "text": [
            "fold 0, train rmse: 0.142321, valid rmse: 0.144386\n",
            "fold 1, train rmse: 0.137945, valid rmse: 0.152086\n",
            "fold 2, train rmse: 0.136364, valid rmse: 0.145291\n",
            "fold 3, train rmse: 0.141257, valid rmse: 0.140900\n",
            "fold 4, train rmse: 0.133867, valid rmse: 0.169529\n",
            "5-fold validation: avg train rmse: 0.138351, avg valid rmse: 0.150439\n"
          ]
        }
      ],
      "source": [
        "k, num_epochs, lr, weight_decay, batch_size = 5, 100, 0.01, 0.01, 32\n",
        "train_l, valid_l = k_fold(k, train_features, train_labels, num_epochs, lr, weight_decay, batch_size)\n",
        "print('%d-fold validation: avg train rmse: %f, avg valid rmse: %f'\n",
        "      % (k, train_l, valid_l))"
      ]
    },
    {
      "cell_type": "markdown",
      "metadata": {
        "id": "PZekvL9aNTkN"
      },
      "source": [
        "\n",
        "##  **4. Predict and Submit**\n",
        "\n",
        "Prior to this final configurations, a simple one-layer fully connected or linear neural network was tested. The current configuration uses MLP with 1 hidden layer. However, there is little difference between the two models. This is because the data itself is not very complex and a simple linear model already does an adequate job. In this case, adding more complexity to the model does not necessarily improve the results.\n",
        "\n",
        "Nevertheless, the MLP configuration is still chosen as it is still better, even at a negligible rate. Screenshot of the kaggle score is provided at the bottom.\n",
        "\n",
        "Convolutional neural networks (CNNs) and recurrent neural networks (RNNs) have been considered but ultimately not chosen as CNN is tailored for image data and RNN are more fitted towards sequential data like time."
      ]
    },
    {
      "cell_type": "code",
      "execution_count": 35,
      "metadata": {
        "colab": {
          "base_uri": "https://localhost:8080/"
        },
        "id": "nbI7hSjgvQUT",
        "outputId": "a12cf0a0-3b8a-4fad-97ca-6c961644a3d9"
      },
      "outputs": [
        {
          "name": "stdout",
          "output_type": "stream",
          "text": [
            "Mounted at /content/drive\n"
          ]
        }
      ],
      "source": [
        "# To write .csv file for kaggle submission\n",
        "#from google.colab import drive\n",
        "#drive.mount('/content/drive')"
      ]
    },
    {
      "cell_type": "code",
      "execution_count": 36,
      "metadata": {
        "id": "p8UacVuEpvwU"
      },
      "outputs": [],
      "source": [
        "def train_and_pred(train_features, test_features, train_labels, test_data,\n",
        "                   num_epochs, lr, weight_decay, batch_size):\n",
        "    net = get_net()\n",
        "    train_ls, _ = train(net, train_features, train_labels, None, None,\n",
        "                        num_epochs, lr, weight_decay, batch_size)\n",
        "    plt.plot(list(range(1, num_epochs + 1)), train_ls)\n",
        "    plt.xlabel('epoch')\n",
        "    plt.ylabel('rmse')\n",
        "    plt.legend(['train', 'valid'])\n",
        "    plt.yscale('log')\n",
        "    plt.show()\n",
        "    print(f'Training loss：{float(train_ls[-1]):f}')\n",
        "    preds = net(test_features).detach().numpy()\n",
        "    test_data['SalePrice'] = pd.Series(preds.reshape(1, -1)[0])\n",
        "    #submission = pd.concat([test_data['Id'], test_data['SalePrice']], axis=1)\n",
        "    #submission.to_csv('/content/drive/My Drive/ICT303A1/submission.csv', index=False)"
      ]
    },
    {
      "cell_type": "code",
      "execution_count": 37,
      "metadata": {
        "colab": {
          "base_uri": "https://localhost:8080/",
          "height": 466
        },
        "id": "olMbCUEvp2u1",
        "outputId": "7aa95e63-185c-4409-95da-5c75b1e2830e"
      },
      "outputs": [
        {
          "data": {
            "image/png": "[encoded data removed]",
            "text/plain": [
              "<Figure size 640x480 with 1 Axes>"
            ]
          },
          "metadata": {},
          "output_type": "display_data"
        },
        {
          "name": "stdout",
          "output_type": "stream",
          "text": [
            "Training loss：0.135894\n"
          ]
        }
      ],
      "source": [
        "train_and_pred(train_features, test_features, train_labels, test_data, num_epochs, lr, weight_decay, batch_size)"
      ]
    }
  ],
  "metadata": {
    "colab": {
      "provenance": []
    },
    "kernelspec": {
      "display_name": "Python 3",
      "language": "python",
      "name": "python3"
    },
    "language_info": {
      "codemirror_mode": {
        "name": "ipython",
        "version": 3
      },
      "file_extension": ".py",
      "mimetype": "text/x-python",
      "name": "python",
      "nbconvert_exporter": "python",
      "pygments_lexer": "ipython3",
      "version": "3.7.1"
    }
  },
  "nbformat": 4,
  "nbformat_minor": 0
}
