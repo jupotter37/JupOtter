{
 "cells": [
  {
   "cell_type": "markdown",
   "metadata": {},
   "source": [
    "# Run this cell first"
   ]
  },
  {
   "cell_type": "code",
   "execution_count": 1,
   "metadata": {},
   "outputs": [],
   "source": [
    "# this code enables the automated feedback. If you remove this, you won't get any feedback\n",
    "# so don't delete this cell!\n",
    "try:\n",
    "  import AutoFeedback\n",
    "except (ModuleNotFoundError, ImportError):\n",
    "  %pip install AutoFeedback\n",
    "  import AutoFeedback\n",
    "\n",
    "try:\n",
    "  from testsrc import test_main\n",
    "except (ModuleNotFoundError, ImportError):\n",
    "  %pip install \"git+https://github.com/autofeedback-exercises/exercises.git#subdirectory=MTH2031/crashcourse/inertia_tensor\"\n",
    "  from testsrc import test_main\n",
    "\n",
    "def runtest(tlist):\n",
    "  import unittest\n",
    "  from contextlib import redirect_stderr\n",
    "  from os import devnull\n",
    "  with redirect_stderr(open(devnull, 'w')):\n",
    "    suite = unittest.TestSuite()\n",
    "    for tname in tlist:\n",
    "      suite.addTest(eval(f\"test_main.UnitTests.{tname}\"))\n",
    "    runner = unittest.TextTestRunner()\n",
    "    try:\n",
    "      runner.run(suite)\n",
    "    except AssertionError:\n",
    "      pass"
   ]
  },
  {
   "cell_type": "markdown",
   "metadata": {},
   "source": [
    "# Application of Eigenvectors: Inertia Tensor\n",
    "\n",
    "One application of eigenvectors that we will see in this module is computing, from the inertia tensor, the principle moments of inertia of a system. In the example below, you will set up a collection of $N$ particles of equal mass, randomly distributed within a space, set up the inertia tensor, and plot the particles along with the principle moments of inertia."
   ]
  },
  {
   "cell_type": "markdown",
   "metadata": {},
   "source": [
    "# TASKS\n",
    "\n",
    "We will work with $N=100$ particles. `N` is already defined. In the cell below set up arrays for \n",
    "\n",
    "1. `m`: the mass of each particle. To begin with, we'll just make all the masses equal to 1.\n",
    "2. `x`: the $x$ coordinate of each particle. These should be normally randomly distributed about zero with a standard deviation of 1. You can use [`np.random.normal`](https://numpy.org/doc/stable/reference/random/generated/numpy.random.normal.html) for this.\n",
    "3. `y`: the $y$ coordinate of each particle, normally randomly distributed about zero with a standard deviation of 2.\n",
    "4. `z`: the $z$ coordinate of each particle, normally randomly distributed about zero with a standard deviation of 3."
   ]
  },
  {
   "cell_type": "code",
   "execution_count": 2,
   "metadata": {},
   "outputs": [],
   "source": [
    "import numpy as np\n",
    "import matplotlib.pyplot as plt\n",
    "\n",
    "N = 100\n"
   ]
  },
  {
   "cell_type": "code",
   "execution_count": null,
   "metadata": {},
   "outputs": [],
   "source": [
    "runtest(['test_vars'])"
   ]
  },
  {
   "cell_type": "markdown",
   "metadata": {},
   "source": [
    "## Centre of mass\n",
    "\n",
    "The total mass is just the sum of the mass of all the particles. \n",
    "\n",
    "$$M = \\sum _{i=1}^N m_i.$$\n",
    "\n",
    "To calculate the centre of mass we need\n",
    "\n",
    "$$X_c = \\frac{1}{M}\\sum _i ^N m_i x_i, $$\n",
    "\n",
    "and the equivalent for the $Y_c$ and $Z_c$ coordinate.\n",
    "\n",
    "Then to shift all of the coordinates so that they are centred on the centre of mass, simply subtract the centre of mass from each coordinate:\n",
    "\n",
    "$$x'_i = x_i - X_c.$$\n",
    "\n",
    "Define the variables\n",
    "\n",
    "1. `M`: the total mass of the particles in the system (you may find [`np.sum`](https://numpy.org/doc/stable/reference/generated/numpy.sum.html) useful for this)\n",
    "2. `Xc`,\n",
    "`Yc`, \n",
    "`Zc`: the coordinates of the centre of mass of the system\n",
    "3. `x1`,\n",
    "`y1`, \n",
    "`z1`: the coordinates of the particles, relative to the centre of mass."
   ]
  },
  {
   "cell_type": "code",
   "execution_count": 4,
   "metadata": {},
   "outputs": [],
   "source": []
  },
  {
   "cell_type": "code",
   "execution_count": null,
   "metadata": {},
   "outputs": [],
   "source": [
    "runtest(['test_vars_2'])"
   ]
  },
  {
   "cell_type": "markdown",
   "metadata": {},
   "source": [
    "For a system of particles, the components of the inertia tensor,\n",
    "\n",
    "$$\n",
    "\\mathbf{I} = \n",
    "\\begin{pmatrix}\n",
    "I_{xx} & I_{xy} & I_{xz} \\\\\n",
    "I_{yx} & I_{yy} & I_{yz} \\\\\n",
    "I_{zx} & I_{zy} & I_{zz}\n",
    "\\end{pmatrix}\n",
    "$$\n",
    "\n",
    "are given by the sums over the particles:\n",
    "\n",
    "$$ I_{xx} = \\sum _{i=1}^N m_i (y_i'^2+z_i'^2), \\quad\n",
    "I_{yy} = \\sum _{i=1}^N m_i (x_i'^2+z_i'^2), \\quad\n",
    "I_{zz} = \\sum _{i=1}^N m_i (x_i'^2+y_i'^2),\n",
    "$$\n",
    "\n",
    "and \n",
    "\n",
    "$$ I_{xy} = I_{yx} = -\\sum _{i=1}^N m_i x_i'y_i' , \\quad\n",
    "I_{xz} = I_{zx} = -\\sum _{i=1}^N m_i x_i'z_i' , \\quad\n",
    "I_{yz} = I_{zy} = -\\sum _{i=1}^N m_i y_i'z_i' .\n",
    "$$\n",
    "\n",
    "Set up the inertia tensor, `I` by computing the nine values. The first one is done for you so that you can see the syntax."
   ]
  },
  {
   "cell_type": "code",
   "execution_count": null,
   "metadata": {},
   "outputs": [],
   "source": [
    "I = np.zeros((3,3))\n",
    "\n",
    "I[0,0] = np.sum( m * (y1**2 + z1**2))\n",
    "\n",
    "\n",
    "print('Inertia tensor\\n',I)"
   ]
  },
  {
   "cell_type": "code",
   "execution_count": null,
   "metadata": {},
   "outputs": [],
   "source": [
    "runtest(['test_tensor'])"
   ]
  },
  {
   "cell_type": "markdown",
   "metadata": {},
   "source": [
    "---\n",
    "\n",
    "The code for the rest of this demo is already completed for you, as it uses syntax and commands you won't have seen before. If you have set everything up correctly, then you should be able to execute the code cells below to produce a plot of the system. \n",
    "\n",
    "Now, to compute the principal moments and axes of inertia, we simply compute the eigenvalues and eigenvectors of the inertia tensor. "
   ]
  },
  {
   "cell_type": "code",
   "execution_count": null,
   "metadata": {
    "id": "asdfta9weu",
    "skip": true
   },
   "outputs": [],
   "source": [
    "Ipr, Vpr = np.linalg.eig(I)\n",
    "print('Principal moments of inertia\\n',Ipr)\n",
    "print()\n",
    "print('Principal axes of inertia\\n',Vpr)"
   ]
  },
  {
   "cell_type": "markdown",
   "metadata": {},
   "source": [
    "Finally, we produce a plot of the system. The individual plot commands are explained in the commented code below."
   ]
  },
  {
   "cell_type": "code",
   "execution_count": null,
   "metadata": {
    "id": "asddf9ta9weu",
    "skip": true
   },
   "outputs": [],
   "source": [
    "ax = plt.axes(projection='3d')\n",
    "\"\"\"\n",
    "Plot the individual particles with a magenta point (m.)\n",
    "Plot the centre of mass as a red point (r.)\n",
    "\"\"\"\n",
    "ax.plot3D(x, y, z, 'm.', markersize=10)\n",
    "ax.plot3D(Xc, Yc, Zc, 'r.')\n",
    "\n",
    "\"\"\"set the axes labels and aspect ratio\"\"\"\n",
    "ax.set_aspect('equal')\n",
    "ax.set_xlabel('x')\n",
    "ax.set_ylabel('y')\n",
    "ax.set_zlabel('z')\n",
    "\n",
    "\"\"\"\n",
    "To plot the axes of inertia, we will plot arrows whose length is scaled by the corresponding moment of inertia. The scaling factors have the dimension length proportional to the square root of the principal moments of inertia\n",
    "\"\"\"\n",
    "\n",
    "S1 = np.sqrt(Ipr[0]/M)\n",
    "S2 = np.sqrt(Ipr[1]/M)\n",
    "S3 = np.sqrt(Ipr[2]/M)\n",
    "\n",
    "\"\"\"\n",
    "We now use the 'quiver' package to plot the arrows. Each arrow starts at the centre of mass (Xc, Yc, Zc), and terminates at the coordinates given by the (scaled) values of the principal axes. Thus the first arrow, plotted in red terminates at coordinates S1(Vpr[0, 0], Vpr[1, 0], Vpr[2, 0]). \n",
    "\"\"\"\n",
    "ax.quiver(Xc,Yc,Zc,S1*Vpr[0,0],S1*Vpr[1,0],S1*Vpr[2,0], color='r', arrow_length_ratio = 0.3)\n",
    "ax.quiver(Xc,Yc,Zc,S2*Vpr[0,1],S2*Vpr[1,1],S2*Vpr[2,1], color='g', arrow_length_ratio = 0.3)\n",
    "ax.quiver(Xc,Yc,Zc,S3*Vpr[0,2],S3*Vpr[1,2],S3*Vpr[2,2], color='b', arrow_length_ratio = 0.3)\n",
    "\n",
    "plt.show()"
   ]
  },
  {
   "cell_type": "markdown",
   "metadata": {},
   "source": [
    "# Taking it further\n",
    "\n",
    "Once you have completed the code, passed the tests and produced the plot, you might try editing to code to describe a different system. What happens for instance if the masses of the particles are not all equal? What about the following problems?\n",
    "\n",
    "To make it easier (and to avoid copying a bunch of code), I've defined a function, plot_system for you which takes as its arguments, the lists of masses, $x$, $y$ and $z$ coordinates, and produces the plot. You can call it like this. (Note, this will only work if you have defined m, x, y and z already in the code cells above)"
   ]
  },
  {
   "cell_type": "code",
   "execution_count": null,
   "metadata": {
    "id": "a18904290u",
    "skip": true
   },
   "outputs": [],
   "source": [
    "from testsrc.test_main import plot_system\n",
    "\n",
    "plot_system(m, x, y, z)"
   ]
  },
  {
   "cell_type": "code",
   "execution_count": null,
   "metadata": {},
   "outputs": [],
   "source": [
    "# Try setting up the arrays m, x, y and z to assign a different mass to each of the randomly distributed particles. \n",
    "\n"
   ]
  },
  {
   "cell_type": "markdown",
   "metadata": {},
   "source": [
    "---\n",
    "\n",
    "As well as trying changing the masses, why not have a go at these:\n",
    "\n",
    "\n"
   ]
  },
  {
   "cell_type": "markdown",
   "metadata": {},
   "source": [
    "1. The propane molecule is composed of three (heavy) carbon atoms, and 8 (light) hydrogens like so\n",
    "<center><img src='https://raw.githubusercontent.com/autofeedback-exercises/exercises/main/MTH2031/crashcourse/inertia_tensor/propane.jpg' height='100'/></center>\n",
    "![propane](./propane.jpg)\n",
    "\n",
    "We can set the coordinates for the atoms as follows:"
   ]
  },
  {
   "cell_type": "code",
   "execution_count": null,
   "metadata": {
    "id": "a9120a9weu",
    "skip": true
   },
   "outputs": [],
   "source": [
    "x, y, z = np.zeros(11), np.zeros(11), np.zeros(11)\n",
    "\n",
    "x[0], y[0], z[0] = [3.3709, 1.6468, 1.3253]\n",
    "x[1], y[1], z[1] = [2.0046, 1.0757, 0.9328]\n",
    "x[2], y[2], z[2] = [0.9486, 1.2446, 2.0298]\n",
    "x[3], y[3], z[3] = [3.7626, 1.1536, 2.2237]\n",
    "x[4], y[4], z[4] = [3.3033, 2.7202, 1.5421]\n",
    "x[5], y[5], z[5] = [4.1075, 1.5143, 0.5244]\n",
    "x[6], y[6], z[6] = [1.6559, 1.5639, 0.0126]\n",
    "x[7], y[7], z[7] = [2.1109, 0.0097, 0.6897]\n",
    "x[8], y[8], z[8] = [-0.0189, 0.8295, 1.7244]\n",
    "x[9], y[9], z[9] = [0.7958, 2.3038, 2.2719]\n",
    "x[10], y[10], z[10] = [1.2529, 0.7365, 2.9535]"
   ]
  },
  {
   "cell_type": "markdown",
   "metadata": {},
   "source": [
    "where the first three values correspond to the three carbon atoms. The C atoms have a mass of 12 (atomic mass units) and the hydrogens, 1 amu. Set up the list of masses accordingly, and then you can use the `plot_system` command as before."
   ]
  },
  {
   "cell_type": "code",
   "execution_count": null,
   "metadata": {},
   "outputs": [],
   "source": []
  },
  {
   "cell_type": "markdown",
   "metadata": {},
   "source": [
    "---\n",
    "\n",
    "2. Instead of distributing the particles randomly, what happens if they are uniformly distributed within a particular volume, for instance a rectangular parallelepiped? \n",
    "   \n",
    "(HINT: decide the dimensions of your paralleleped first (say $a\\times b \\times c)$, then place a particle of unit mass at each integer grid point within the volume of the parallelepiped. That will tell you how many particles you need (i.e. how big are the arrays), and you can set up loops which go through each point and set the `x`, `y` and `z` coordinates appropriately.)"
   ]
  },
  {
   "cell_type": "code",
   "execution_count": null,
   "metadata": {},
   "outputs": [],
   "source": []
  }
 ],
 "metadata": {
  "kernelspec": {
   "display_name": "base",
   "language": "python",
   "name": "python3"
  },
  "language_info": {
   "codemirror_mode": {
    "name": "ipython",
    "version": 3
   },
   "file_extension": ".py",
   "mimetype": "text/x-python",
   "name": "python",
   "nbconvert_exporter": "python",
   "pygments_lexer": "ipython3",
   "version": "3.9.13"
  }
 },
 "nbformat": 4,
 "nbformat_minor": 2
}
