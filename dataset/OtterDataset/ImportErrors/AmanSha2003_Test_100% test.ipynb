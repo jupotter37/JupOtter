{
 "cells": [
  {
   "cell_type": "code",
   "execution_count": null,
   "id": "138cbb44-40ba-428e-8960-daeca0c986d6",
   "metadata": {},
   "outputs": [],
   "source": [
    "# Q-1  How Python is different from other programming languages, list some important features of Python and explain with code \n",
    "\n",
    "# python is different from other programing language because python is easy to use and "
   ]
  },
  {
   "cell_type": "code",
   "execution_count": 8,
   "id": "556e4090-1466-4be1-90e1-62bf6e4a56c6",
   "metadata": {},
   "outputs": [],
   "source": [
    "# Q-3:-Give example of each data type in Python and explain any 5 methods of each data types \n",
    "\n",
    "# Ans:- string data type:- it is store only string elements for example  : a = \"aman\" \n",
    "# method:- count = it is use for count the element in string\n",
    "        # :- find = it is use for find a element in string\n",
    "        # :- index = it is use for find a element useing index possition   example :-  a = 'aman'  >>output :-  a[3] = n\n",
    "        # :-lower = This helps in making the string in lower case\n",
    "        # :- split = it use use to split a string for find the element\n",
    "\n",
    "# type 2 :- list :- list data type :- this is store all data types velue in list for example >>> a = [1,2,'aman',8.55]\n",
    "# method:- remove = it is use to remove the element in list \n",
    "         # revesre = it is use to revese a list for exampe a = [1,2,3]  >> output = [3,2,1]\n",
    "         # pop = it is use for rempve the last element in list \n",
    "        #  sort = it is use for sort the list for example  :- a = [1,3,2] >> output = [1,2,3]\n",
    "         # insert = it is use for insert the element in string\n",
    "\n",
    "# type 3 :- dict :- it is store the value like key:value for example a = {'name':'aman'}\n",
    "# method = keys() - Returns a view object that displays a list of all the keys\n",
    "            # values() - Returns a view object that displays a list of all the values\n",
    "            # items() - Returns a view object that displays a list of a dictionary's key-value tuple pairs.\n",
    "            # pop(key, default=None) - Removes the specified key and returns the corresponding value. If key is not found, returns default if provided.\n",
    "\n",
    "# type 4 :- float = dose not any metheod but it ise use in built in func it is store the floating valuse for example >> a = 8.55\n",
    "# built in method :- abs - it is Returns the absolute value of a float.\n",
    "            # round - it is Rounds a float to n decimal places.\n",
    "            # int(a) - Converts a float to an integer (truncates the decimal part).\n",
    "            # float(a) - Converts a string or integer to a float.\n",
    "            # is_integer() - Checks if the float is an integer.\n",
    "\n",
    "# type 5 :- int = int data type dose not have any method but we can use built in func like abs, bin >> for example a = 58\n",
    "# built in meth = abs(a) - it is Returns the absolute value of a float"
   ]
  },
  {
   "cell_type": "code",
   "execution_count": null,
   "id": "28ae78a4-f28a-4ea4-a180-59821c44e97b",
   "metadata": {},
   "outputs": [],
   "source": []
  },
  {
   "cell_type": "code",
   "execution_count": 10,
   "id": "5614c1f5-3ea8-44ea-913d-93263d92e486",
   "metadata": {},
   "outputs": [
    {
     "name": "stdout",
     "output_type": "stream",
     "text": [
      "['ArithmeticError', 'AssertionError', 'AttributeError', 'BaseException', 'BaseExceptionGroup', 'BlockingIOError', 'BrokenPipeError', 'BufferError', 'BytesWarning', 'ChildProcessError', 'ConnectionAbortedError', 'ConnectionError', 'ConnectionRefusedError', 'ConnectionResetError', 'DeprecationWarning', 'EOFError', 'Ellipsis', 'EncodingWarning', 'EnvironmentError', 'Exception', 'ExceptionGroup', 'False', 'FileExistsError', 'FileNotFoundError', 'FloatingPointError', 'FutureWarning', 'GeneratorExit', 'IOError', 'ImportError', 'ImportWarning', 'IndentationError', 'IndexError', 'InterruptedError', 'IsADirectoryError', 'KeyError', 'KeyboardInterrupt', 'LookupError', 'MemoryError', 'ModuleNotFoundError', 'NameError', 'None', 'NotADirectoryError', 'NotImplemented', 'NotImplementedError', 'OSError', 'OverflowError', 'PendingDeprecationWarning', 'PermissionError', 'ProcessLookupError', 'RecursionError', 'ReferenceError', 'ResourceWarning', 'RuntimeError', 'RuntimeWarning', 'StopAsyncIteration', 'StopIteration', 'SyntaxError', 'SyntaxWarning', 'SystemError', 'SystemExit', 'TabError', 'TimeoutError', 'True', 'TypeError', 'UnboundLocalError', 'UnicodeDecodeError', 'UnicodeEncodeError', 'UnicodeError', 'UnicodeTranslateError', 'UnicodeWarning', 'UserWarning', 'ValueError', 'Warning', 'WindowsError', 'ZeroDivisionError', '__IPYTHON__', '__build_class__', '__debug__', '__doc__', '__import__', '__loader__', '__name__', '__package__', '__spec__', 'abs', 'aiter', 'all', 'anext', 'any', 'ascii', 'bin', 'bool', 'breakpoint', 'bytearray', 'bytes', 'callable', 'chr', 'classmethod', 'compile', 'complex', 'copyright', 'credits', 'delattr', 'dict', 'dir', 'display', 'divmod', 'enumerate', 'eval', 'exec', 'execfile', 'filter', 'float', 'format', 'frozenset', 'get_ipython', 'getattr', 'globals', 'hasattr', 'hash', 'help', 'hex', 'id', 'input', 'int', 'isinstance', 'issubclass', 'iter', 'len', 'license', 'list', 'locals', 'map', 'max', 'memoryview', 'min', 'next', 'object', 'oct', 'open', 'ord', 'pow', 'print', 'property', 'range', 'repr', 'reversed', 'round', 'runfile', 'set', 'setattr', 'slice', 'sorted', 'staticmethod', 'str', 'sum', 'super', 'tuple', 'type', 'vars', 'zip']\n"
     ]
    }
   ],
   "source": [
    "# Q- 2 = Write a code to print all inbuilt function in Python, and explain any 5\n",
    "\n",
    "print(dir(__builtin__))\n",
    "\n",
    "# print():\n",
    "# \n",
    "# Description: Prints the specified message to the console.\n",
    "# print(\"Hello, World!\") will output Hello, World! to the console.\n",
    "# Details: It can accept multiple arguments and has various parameters to control the end character, separators, etc.\n",
    "# len():\n",
    "# \n",
    "# Description: Returns the number of items in an object (such as a list, string, tuple, etc.).\n",
    "# len(\"Python\") will return 6, which is the number of characters in the string.\n",
    "# Details: It is commonly used to get the size or length of various iterable objects.\n",
    "# type():\n",
    "# \n",
    "# Description: Returns the type of an object.\n",
    "# type(5) will return <class 'int'>, indicating that 5 is of type int.\n",
    "# Details: It can also be used to create new types, but its primary use is to inspect the type of an object.\n",
    "# max():\n",
    "# \n",
    "# Description: Returns the largest item in an iterable or the largest of two or more arguments.\n",
    "# max([1, 2, 3]) will return 3.\n",
    "# Details: It can take a key function to determine the maximum based on custom criteria.\n",
    "# sorted():\n",
    "\n",
    "# Description: Returns a new sorted list from the items in an iterable.\n",
    "# sorted([3, 1, 2]) will return [1, 2, 3].\n",
    "# Details: It allows sorting with a custom key and orde"
   ]
  },
  {
   "cell_type": "code",
   "execution_count": 33,
   "id": "f6d4f8b3-5982-4017-b1cc-270c3f9504b3",
   "metadata": {},
   "outputs": [],
   "source": [
    "# Q.4 - Write a code which takes Name, address, Salary input and convert this into Data-Frame \n",
    "import pandas as pd\n",
    "def create_dataframe():\n",
    "    names = input('enter your name')\n",
    "    addresses = input('enter your address')\n",
    "    salaries = input('enter your salary')\n",
    "    data = {'name':names,\n",
    "           'address':addresses,\n",
    "           'salaries':salaries}\n",
    "    df = pd.DataFrame(data,index=(1,))\n",
    "    return df"
   ]
  },
  {
   "cell_type": "code",
   "execution_count": 34,
   "id": "ea236257-94bf-4d6f-b33e-4636375a274a",
   "metadata": {},
   "outputs": [
    {
     "name": "stdin",
     "output_type": "stream",
     "text": [
      "enter your name aman\n",
      "enter your address delhi\n",
      "enter your salary 1000\n"
     ]
    },
    {
     "data": {
      "text/html": [
       "<div>\n",
       "<style scoped>\n",
       "    .dataframe tbody tr th:only-of-type {\n",
       "        vertical-align: middle;\n",
       "    }\n",
       "\n",
       "    .dataframe tbody tr th {\n",
       "        vertical-align: top;\n",
       "    }\n",
       "\n",
       "    .dataframe thead th {\n",
       "        text-align: right;\n",
       "    }\n",
       "</style>\n",
       "<table border=\"1\" class=\"dataframe\">\n",
       "  <thead>\n",
       "    <tr style=\"text-align: right;\">\n",
       "      <th></th>\n",
       "      <th>name</th>\n",
       "      <th>address</th>\n",
       "      <th>salaries</th>\n",
       "    </tr>\n",
       "  </thead>\n",
       "  <tbody>\n",
       "    <tr>\n",
       "      <th>1</th>\n",
       "      <td>aman</td>\n",
       "      <td>delhi</td>\n",
       "      <td>1000</td>\n",
       "    </tr>\n",
       "  </tbody>\n",
       "</table>\n",
       "</div>"
      ],
      "text/plain": [
       "   name address salaries\n",
       "1  aman   delhi     1000"
      ]
     },
     "execution_count": 34,
     "metadata": {},
     "output_type": "execute_result"
    }
   ],
   "source": [
    "create_dataframe()"
   ]
  },
  {
   "cell_type": "code",
   "execution_count": 38,
   "id": "92f9802c-f843-4ae1-96fc-60b159a62fbd",
   "metadata": {},
   "outputs": [
    {
     "name": "stdout",
     "output_type": "stream",
     "text": [
      "\n",
      "Here is a list of the Python keywords.  Enter any keyword to get more help.\n",
      "\n",
      "False               class               from                or\n",
      "None                continue            global              pass\n",
      "True                def                 if                  raise\n",
      "and                 del                 import              return\n",
      "as                  elif                in                  try\n",
      "assert              else                is                  while\n",
      "async               except              lambda              with\n",
      "await               finally             nonlocal            yield\n",
      "break               for                 not                 \n",
      "\n"
     ]
    }
   ],
   "source": [
    "# Q 5 = List out all Keywords in Python and explain any  5\n",
    "\n",
    "help('keywords')\n",
    "# class\n",
    "# Description: Used to define a new class.\n",
    "# False\n",
    "# Description: Represents the boolean value False.                                                                                                              \n",
    "# def\n",
    "# Description: Used to define a function.\n",
    "# import\n",
    "# discription :-it is use for import the mopduyle like exampe :- import random\n",
    "# as\n",
    "# Discription :- it is use to give the aliasing like for example :- import pandas as pd"
   ]
  },
  {
   "cell_type": "code",
   "execution_count": 53,
   "id": "a5edf619-4d8a-443c-a81d-d9df93013f2b",
   "metadata": {},
   "outputs": [],
   "source": [
    "# Q -6  Create a function which return Prime numbers (n1 to n2) \n",
    "\n",
    "def check_prime(num1,num2):\n",
    "    for i in range(num1,num2+1):\n",
    "        if i%2==0:\n",
    "            print({i})\n",
    "        else:\n",
    "            print(f'{i}: prime no')"
   ]
  },
  {
   "cell_type": "code",
   "execution_count": 54,
   "id": "fa407d6e-bccc-44da-a6cf-006f544fb6e1",
   "metadata": {},
   "outputs": [
    {
     "name": "stdout",
     "output_type": "stream",
     "text": [
      "1: prime no\n",
      "{2}\n",
      "3: prime no\n",
      "{4}\n",
      "5: prime no\n",
      "{6}\n",
      "7: prime no\n",
      "{8}\n",
      "9: prime no\n",
      "{10}\n"
     ]
    }
   ],
   "source": [
    "check_prime(1,10)"
   ]
  },
  {
   "cell_type": "code",
   "execution_count": 81,
   "id": "09006be9-ac0c-4757-9bd5-81ea463e76c2",
   "metadata": {},
   "outputs": [
    {
     "name": "stdout",
     "output_type": "stream",
     "text": [
      "common element :467\n"
     ]
    }
   ],
   "source": [
    "#Q.7 = Find common elements b/w 3  given list with for loop, while loop, and \n",
    "# without any loop      \n",
    "a = [12,3,13,25,467]\n",
    "b = [12,343,13,214,345] \n",
    "c = [12,13,235,43,24,36] \n",
    "common = []\n",
    "for i in a:\n",
    "    for j in b:\n",
    "        for k in c:\n",
    "            if a==b==c:\n",
    "                common.append(i)\n",
    "print (f'common element :{i}')               "
   ]
  },
  {
   "cell_type": "code",
   "execution_count": 69,
   "id": "7942c821-d8ce-4f6c-b28e-ecda1d237d2a",
   "metadata": {},
   "outputs": [
    {
     "name": "stdout",
     "output_type": "stream",
     "text": [
      "[12, 13]\n"
     ]
    }
   ],
   "source": [
    "# Q=7\n",
    "a = [12,3,13,25,467]\n",
    "b = [12,343,13,214,345]  \n",
    "c = [12,13,235,43,24,36]\n",
    "\n",
    "d=0\n",
    "common=[]\n",
    "while d<len(a):\n",
    "    e=0\n",
    "    while e<len(b):\n",
    "        f=0\n",
    "        while f<len(c):\n",
    "            if a[d]==b[e]==c[f]:\n",
    "                common.append(a[d])\n",
    "            f+=1\n",
    "        e+=1\n",
    "    d+=1\n",
    "\n",
    "print(common)"
   ]
  },
  {
   "cell_type": "code",
   "execution_count": 105,
   "id": "87aa76ae-60f2-462f-8d01-a0823cf2957b",
   "metadata": {},
   "outputs": [
    {
     "name": "stdout",
     "output_type": "stream",
     "text": [
      "* * * * * *         *\n",
      "*         *\n",
      "*         *\n",
      "*         *\n",
      "*         *\n",
      "* * * * * * "
     ]
    }
   ],
   "source": [
    "# Q - 8 = Write a function to Print hollow square pattern \n",
    "\n",
    "no=6\n",
    "for i in range(no-1):\n",
    "    print('*',end=' ')\n",
    "for j in range(no-1):\n",
    "    print('*         *')\n",
    "    for l in range(0,i,-1):\n",
    "        print('*',end=' ')\n",
    "for k in range(no):\n",
    "    print('*',end=' ')\n",
    "    \n",
    "for l in range (k,-1): \n",
    "    print('*',end=' ')"
   ]
  },
  {
   "cell_type": "code",
   "execution_count": 107,
   "id": "ec71222e-882c-4885-a997-7cc804de2a5a",
   "metadata": {},
   "outputs": [],
   "source": [
    "# Q -10 =  Create a function given two words is anagram or not \n",
    "def check_anagram(str1,str2):\n",
    "    data1 = {}\n",
    "    data2 = {}\n",
    "    for i in str1:\n",
    "       data1[i] = str1.count(i)\n",
    "\n",
    "    for j in str2:\n",
    "        data2[j] = str2.count(j) \n",
    "\n",
    "    return 'anagram' if data1 == data2 else 'no anagram' "
   ]
  },
  {
   "cell_type": "code",
   "execution_count": 109,
   "id": "759208a9-8b2d-435c-a43a-f0ea05736256",
   "metadata": {},
   "outputs": [
    {
     "data": {
      "text/plain": [
       "'anagram'"
      ]
     },
     "execution_count": 109,
     "metadata": {},
     "output_type": "execute_result"
    }
   ],
   "source": [
    "check_anagram('listen','silent')"
   ]
  },
  {
   "cell_type": "code",
   "execution_count": null,
   "id": "817cd363-f1d9-4e54-be12-e3e9ff5c5837",
   "metadata": {},
   "outputs": [],
   "source": [
    "# Q - 9 Difference b/w deep copy and shallow copy explain with code example \n",
    "\n",
    "# Deep_copy = In deep copy and copy of the object copy gets creates and if any changes\n",
    "#             takes place in original object it will also take place in tha copied \n",
    "#             object.\n",
    "\n",
    "# shallow_copy = in shallow copy of the object copy gets crete and if any changes in copy \n",
    "# it does not take place in original variable or file . "
   ]
  },
  {
   "cell_type": "code",
   "execution_count": 110,
   "id": "024bda60-5762-42e1-8b6c-0800a3dc496a",
   "metadata": {},
   "outputs": [
    {
     "name": "stdout",
     "output_type": "stream",
     "text": [
      "[12, 343, 13, 214, 345]\n"
     ]
    }
   ],
   "source": [
    "# deep copt\n",
    "\n",
    "a = [1,2,3,4,5]\n",
    "a=b\n",
    "print(b)"
   ]
  },
  {
   "cell_type": "code",
   "execution_count": 30,
   "id": "8f787e58-37db-4bbe-9951-09b326c45ea8",
   "metadata": {},
   "outputs": [],
   "source": [
    "# Q-14  Explain Global, Local and Non-Local variable scope in Python with example \n",
    "# a local variable:-\n",
    "def info():\n",
    "    name = 'Aman Sharma'\n",
    "    print (f'hello {name}')\n"
   ]
  },
  {
   "cell_type": "code",
   "execution_count": 31,
   "id": "365777b2-bcbf-4e27-8574-0230b66bf5b6",
   "metadata": {},
   "outputs": [
    {
     "name": "stdout",
     "output_type": "stream",
     "text": [
      "hello Aman Sharma\n"
     ]
    }
   ],
   "source": [
    "info()"
   ]
  },
  {
   "cell_type": "code",
   "execution_count": 66,
   "id": "69036a60-6d72-40ba-ab89-64a1353a6cd7",
   "metadata": {},
   "outputs": [],
   "source": [
    "def one():\n",
    "    name = \"aman\"\n",
    "    print (f'my name is {name}')\n",
    "\n",
    "    def two():\n",
    "        nonlocal name\n",
    "        name = 'Nitin'\n",
    "        print (f'his name is {name}')\n",
    "    two()"
   ]
  },
  {
   "cell_type": "code",
   "execution_count": 67,
   "id": "736fd513-e758-4293-ad48-43d95d673567",
   "metadata": {},
   "outputs": [
    {
     "ename": "TypeError",
     "evalue": "'str' object is not callable",
     "output_type": "error",
     "traceback": [
      "\u001b[1;31m---------------------------------------------------------------------------\u001b[0m",
      "\u001b[1;31mTypeError\u001b[0m                                 Traceback (most recent call last)",
      "Cell \u001b[1;32mIn[67], line 1\u001b[0m\n\u001b[1;32m----> 1\u001b[0m name()\n",
      "\u001b[1;31mTypeError\u001b[0m: 'str' object is not callable"
     ]
    }
   ],
   "source": [
    "name()"
   ]
  },
  {
   "cell_type": "code",
   "execution_count": 63,
   "id": "f57d8bd3-9e93-40bc-b8e0-82e6d40dca5f",
   "metadata": {},
   "outputs": [],
   "source": [
    "# global variable\n",
    "name = 'Aman'\n",
    "\n",
    "def about():\n",
    "    print (f'my name is {name}')"
   ]
  },
  {
   "cell_type": "code",
   "execution_count": 52,
   "id": "8f8ef87f-6d90-4948-8679-747d2229ba00",
   "metadata": {},
   "outputs": [
    {
     "name": "stdout",
     "output_type": "stream",
     "text": [
      "my name is Aman\n"
     ]
    }
   ],
   "source": [
    "about()"
   ]
  },
  {
   "cell_type": "code",
   "execution_count": 1,
   "id": "f7db4af7-4caf-4e85-966e-6011e637d76a",
   "metadata": {},
   "outputs": [],
   "source": [
    "# Q.15 = Explain different blocks of Exception Handling with example\n",
    "\n",
    "# try block use for test a block of code for errors. \n",
    "# except block use for handle the error.\n",
    "# The else block use for execute code when there is no error.\n",
    "# The finally use for execute code and this code is run if try and except work or not this code run and return the value"
   ]
  },
  {
   "cell_type": "code",
   "execution_count": 21,
   "id": "a4e2feed-c024-435b-a77b-425897bb3cfa",
   "metadata": {},
   "outputs": [],
   "source": [
    "# Q18:- Explain 4 Pillars of OOPs and each pillars in details with code example\n",
    "\n",
    "# 1.:- encapsulation:- public, private, protected\n",
    "# public variable\n",
    "class LAPTOP:\n",
    "    def __init__(self):\n",
    "        self.pin = 2003\n",
    "\n",
    "    def user_name(self):\n",
    "        user_name = input('enter your user name')\n",
    "\n",
    "    def password(self):\n",
    "        pas = input('enter your password')\n",
    "    "
   ]
  },
  {
   "cell_type": "code",
   "execution_count": 22,
   "id": "6d8753ac-2a79-4a76-8101-2a5acac2b039",
   "metadata": {},
   "outputs": [],
   "source": [
    "lenovo=LAPTOP() "
   ]
  },
  {
   "cell_type": "code",
   "execution_count": 7,
   "id": "7c180b01-88df-4669-b75d-36a897c8b6a1",
   "metadata": {},
   "outputs": [
    {
     "name": "stdin",
     "output_type": "stream",
     "text": [
      "enter your password 1234\n"
     ]
    }
   ],
   "source": [
    "lenovo.password()"
   ]
  },
  {
   "cell_type": "code",
   "execution_count": 11,
   "id": "66e06944-a78e-48d2-aaf7-9cccfce68cd5",
   "metadata": {},
   "outputs": [],
   "source": [
    "# protected variable\n",
    "\n",
    "class LAPTOP:\n",
    "    def __init__(self):\n",
    "        self._pin = 2003\n",
    "\n",
    "    def user_name(self):\n",
    "        user_name = input('enter your user name')\n",
    "\n",
    "    def password(self):\n",
    "        pas = input('enter your password')"
   ]
  },
  {
   "cell_type": "code",
   "execution_count": 12,
   "id": "b8b4c0a8-5a14-4535-b3b4-f8de8e208641",
   "metadata": {},
   "outputs": [],
   "source": [
    "dell=LAPTOP()"
   ]
  },
  {
   "cell_type": "code",
   "execution_count": 14,
   "id": "71754dfc-065a-46b0-8374-72bd5ac6de70",
   "metadata": {},
   "outputs": [
    {
     "data": {
      "text/plain": [
       "2003"
      ]
     },
     "execution_count": 14,
     "metadata": {},
     "output_type": "execute_result"
    }
   ],
   "source": [
    "dell._pin"
   ]
  },
  {
   "cell_type": "code",
   "execution_count": 18,
   "id": "6fb427a6-db5a-4eb1-9ed4-d6ce0cbf208d",
   "metadata": {},
   "outputs": [],
   "source": [
    "# private variable\n",
    "\n",
    "class LAPTOP:\n",
    "    def __init__(self):\n",
    "        self.__pin = 2003\n",
    "\n",
    "    def user_name(self):\n",
    "        user_name = input('enter your user name')\n",
    "\n",
    "    def password(self):\n",
    "        pas = input('enter your password')"
   ]
  },
  {
   "cell_type": "code",
   "execution_count": 19,
   "id": "a5c38714-d6c6-4f09-806a-1c8fd0617b8b",
   "metadata": {},
   "outputs": [],
   "source": [
    "acer = LAPTOP()"
   ]
  },
  {
   "cell_type": "code",
   "execution_count": 20,
   "id": "e5d04384-dc84-4a20-a976-5ac162a2d2f3",
   "metadata": {},
   "outputs": [
    {
     "data": {
      "text/plain": [
       "2003"
      ]
     },
     "execution_count": 20,
     "metadata": {},
     "output_type": "execute_result"
    }
   ],
   "source": [
    "acer._LAPTOP__pin"
   ]
  },
  {
   "cell_type": "code",
   "execution_count": 24,
   "id": "5fbde7ec-098b-43a4-920a-da8f8ed75c8b",
   "metadata": {},
   "outputs": [],
   "source": [
    "# Q.19 =  What do you understand by  magic methods in OOPs\n",
    "\n",
    "# ''' are the methods that ending with double underscores. \n",
    "# They are defined by builtin class in Python and \n",
    "# commonly used for operate overloading and They are also called Dunder methods'''"
   ]
  },
  {
   "cell_type": "code",
   "execution_count": null,
   "id": "9817f62b-1ee5-4d46-b4eb-0cede87388e3",
   "metadata": {},
   "outputs": [],
   "source": []
  }
 ],
 "metadata": {
  "kernelspec": {
   "display_name": "Python 3 (ipykernel)",
   "language": "python",
   "name": "python3"
  },
  "language_info": {
   "codemirror_mode": {
    "name": "ipython",
    "version": 3
   },
   "file_extension": ".py",
   "mimetype": "text/x-python",
   "name": "python",
   "nbconvert_exporter": "python",
   "pygments_lexer": "ipython3",
   "version": "3.12.4"
  }
 },
 "nbformat": 4,
 "nbformat_minor": 5
}
