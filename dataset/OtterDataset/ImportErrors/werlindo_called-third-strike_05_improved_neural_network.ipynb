{
 "cells": [
  {
   "cell_type": "markdown",
   "id": "1d9a73fe-22ef-46f3-af36-3ed41d28fa72",
   "metadata": {},
   "source": [
    "# Called Third Strike\n",
    "### _Building a Strike Probability Model_\n",
    "<div>\n",
    "<img src=\"resources/baseball_umpire_home_plate_1.jpg\" width=\"600\"/>\n",
    "</div>\n",
    "\n",
    "---\n",
    "## Part 5. Improved neural network  \n",
    "\n",
    "\n",
    "This project's goal is to build probability models for as to whether a pitch will be called a strike or not. The intended models are to be:\n",
    "1. A neural network (NN) based approach.\n",
    "2. A non-NN based approach.\n",
    "\n",
    "---\n",
    "\n",
    "__**This Notebook's**__ objective is to iterate on the work done with the [first attempts](./03_first_quick_neural_network.ipynb) at at a neural network based approach. A few ideas:\n",
    "- Included Handedness of both pitcher and batter; I hypothesize that this will have some signal with regards to the 'strike-ness' of the horizontal movement of the pitch. As for verticality, I think that the stringer data helps with that since it provides fairly concrete guardrails as to the strike-ness (assuming the umpire sees the same thing haha).\n",
    "- Include pitch break and angle. I hypothesize this acts like a proxy to the pitcher, without having to rely on the pitcher_IDs. Rough analogy but I think of it kind of like latent factors in ALS matrix factorization (which I need to brush up on heh).\n",
    "\n",
    "---\n",
    "---"
   ]
  },
  {
   "cell_type": "markdown",
   "id": "7c603889-4d23-4c1d-8e4d-8d45d1a72da4",
   "metadata": {},
   "source": [
    "### Table of Contents<a id='toc_4'></a>\n",
    "\n",
    "<a href='#data_prep'>1. Data Preprocessing</a>\n",
    "\n",
    "<a href='#build_model'>2. Build Model</a>\n",
    "\n",
    "<a href='#4_random_search'>3. Random Hyperparameter Search</a>\n",
    "\n",
    "<a href='#summary'>4. Summary</a>\n",
    "\n",
    "<a href='#wrap'>5. Wrap Up Neural Network</a>\n",
    "\n",
    "...\n",
    "\n",
    "<a href='#the_end_4'>Go to the End</a>\n",
    "\n",
    "\n",
    "<span style=\"font-size:0.75em;\">Note that some hyperlinks in this notebook may only work in a local context.</span>\n",
    "\n",
    "---"
   ]
  },
  {
   "cell_type": "markdown",
   "id": "4fcfd9aa-eac1-4789-af6d-cf5700a82979",
   "metadata": {},
   "source": [
    "---  \n",
    "\n",
    "<span style=\"font-size:0.5em;\">Tag 1</span>\n",
    "\n",
    "### Data Preprocessing<a id='data_prep'></a>\n",
    "\n",
    "<span style=\"font-size:0.5em;\"><a href='#toc_4'>Back to TOC</a></span>\n"
   ]
  },
  {
   "cell_type": "markdown",
   "id": "053be28f-4156-45c6-8a93-99c50dd76e39",
   "metadata": {},
   "source": [
    "#### Libraries\n"
   ]
  },
  {
   "cell_type": "code",
   "execution_count": null,
   "id": "f5160888-b331-4e47-b996-09fdac316630",
   "metadata": {},
   "outputs": [],
   "source": [
    "# Data wrangling and operations\n",
    "import pandas as pd\n",
    "import numpy as np\n",
    "from datetime import datetime, timezone\n",
    "import pytz\n",
    "import pickle\n",
    " \n",
    "# Visualization\n",
    "import matplotlib.pyplot as plt\n",
    "import seaborn as sns\n",
    "\n",
    "# ML\n",
    "from sklearn.preprocessing import StandardScaler\n",
    "from sklearn.model_selection import train_test_split\n",
    "from sklearn.model_selection import RandomizedSearchCV\n",
    "from sklearn.metrics import confusion_matrix\n",
    "from sklearn.metrics import recall_score, precision_score, auc\n",
    "from sklearn.metrics import roc_curve, RocCurveDisplay\n",
    "from sklearn.inspection import permutation_importance\n",
    "\n",
    "# neural networks\n",
    "# Kera Sequential model\n",
    "import tensorflow as tf\n",
    "from tensorflow import keras\n",
    "from keras.models import Sequential\n",
    "from keras.layers import Dense\n",
    "from keras.utils.vis_utils import plot_model\n",
    "from tensorflow.keras.optimizers import Adam\n",
    "# from keras.wrappers.scikit_learn import KerasClassifier\n",
    "\n",
    "# Custom code\n",
    "from project_helpers import get_clf"
   ]
  },
  {
   "cell_type": "markdown",
   "id": "f366fe65-9e8c-48c3-83e4-6e40a4bf4255",
   "metadata": {},
   "source": [
    "Import the following packages, if needed (not included in default packages on the platform I'm currently using)"
   ]
  },
  {
   "cell_type": "code",
   "execution_count": null,
   "id": "6e2a5092-a87d-4af1-868b-97c6f4dfcb0a",
   "metadata": {
    "tags": []
   },
   "outputs": [],
   "source": [
    "%%capture\n",
    "try:\n",
    "    import scikeras\n",
    "except ImportError:\n",
    "    !pip install scikeras[tensorflow]\n",
    "    !python -m pip install scikeras[tensorflow]\n",
    "except ModuleNotFoundError:\n",
    "    !pip install scikeras[tensorflow]\n",
    "    # !python -m pip install scikeras[tensorflow]"
   ]
  },
  {
   "cell_type": "code",
   "execution_count": null,
   "id": "50d8ff11-ea51-4432-9c0c-703f13890ac6",
   "metadata": {
    "tags": []
   },
   "outputs": [],
   "source": [
    "from scikeras.wrappers import KerasClassifier"
   ]
  },
  {
   "cell_type": "code",
   "execution_count": null,
   "id": "df16e4c4-5bc4-4c1d-aec4-b1d738044071",
   "metadata": {},
   "outputs": [],
   "source": [
    "# Dependency for plot_model function"
   ]
  },
  {
   "cell_type": "code",
   "execution_count": null,
   "id": "9ceb9fe0-280d-4da9-abf8-6f9007a04301",
   "metadata": {},
   "outputs": [],
   "source": [
    "%%capture\n",
    "try:\n",
    "    import pydot\n",
    "except ImportError:\n",
    "    !pip install pydot"
   ]
  },
  {
   "cell_type": "markdown",
   "id": "987afa32-26cc-421f-bfdd-dd2cd8a29e62",
   "metadata": {},
   "source": [
    "---\n",
    "\n",
    "#### Data Import \n",
    "\n",
    "Retrieve the latest version of our train/test files that we built during [initial exploration](./02_data_exploration.ipynb)."
   ]
  },
  {
   "cell_type": "code",
   "execution_count": null,
   "id": "db6f0590-4c27-4af2-a4f0-398e7ec64eba",
   "metadata": {},
   "outputs": [],
   "source": [
    "df_train = pd.read_pickle('../data/train_enriched.pkl')\n",
    "df_test = pd.read_pickle('../data/test_enriched.pkl')"
   ]
  },
  {
   "cell_type": "markdown",
   "id": "fd0ae49b-1077-458e-9aff-6444a34941e0",
   "metadata": {},
   "source": [
    "Let's refamiliarize ourselves with the features."
   ]
  },
  {
   "cell_type": "code",
   "execution_count": null,
   "id": "57bf1725-f4f9-4cd6-b2ea-57f7afd3f291",
   "metadata": {},
   "outputs": [
    {
     "name": "stdout",
     "output_type": "stream",
     "text": [
      "<class 'pandas.core.frame.DataFrame'>\n",
      "Int64Index: 350959 entries, 0 to 354038\n",
      "Data columns (total 31 columns):\n",
      " #   Column                Non-Null Count   Dtype         \n",
      "---  ------                --------------   -----         \n",
      " 0   pitch_id              350959 non-null  object        \n",
      " 1   inning                350959 non-null  int64         \n",
      " 2   side                  350959 non-null  object        \n",
      " 3   run_diff              350959 non-null  int64         \n",
      " 4   at_bat_index          350959 non-null  int64         \n",
      " 5   pitch_of_ab           350959 non-null  int64         \n",
      " 6   batter                350959 non-null  int64         \n",
      " 7   pitcher               350959 non-null  int64         \n",
      " 8   catcher               350959 non-null  int64         \n",
      " 9   umpire                350959 non-null  int64         \n",
      " 10  bside                 350959 non-null  object        \n",
      " 11  pside                 350959 non-null  object        \n",
      " 12  stringer_zone_bottom  350959 non-null  float64       \n",
      " 13  stringer_zone_top     350959 non-null  float64       \n",
      " 14  on_1b_mlbid           106013 non-null  float64       \n",
      " 15  on_2b_mlbid           64287 non-null   float64       \n",
      " 16  on_3b_mlbid           31158 non-null   float64       \n",
      " 17  outs                  350959 non-null  int64         \n",
      " 18  balls                 350959 non-null  int64         \n",
      " 19  strikes               350959 non-null  int64         \n",
      " 20  pitch_speed           350959 non-null  float64       \n",
      " 21  px                    350959 non-null  float64       \n",
      " 22  pz                    350959 non-null  float64       \n",
      " 23  break_x               350959 non-null  float64       \n",
      " 24  break_z               350959 non-null  float64       \n",
      " 25  angle_x               350959 non-null  float64       \n",
      " 26  angle_z               350959 non-null  float64       \n",
      " 27  pitch_type            350959 non-null  object        \n",
      " 28  strike_bool           350959 non-null  int64         \n",
      " 29  game_date_dt          350959 non-null  datetime64[ns]\n",
      " 30  strike_bool_tf        350959 non-null  bool          \n",
      "dtypes: bool(1), datetime64[ns](1), float64(12), int64(12), object(5)\n",
      "memory usage: 83.3+ MB\n"
     ]
    }
   ],
   "source": [
    "df_train.info()"
   ]
  },
  {
   "cell_type": "markdown",
   "id": "f08da1ab-1889-48b3-bf3a-e83f1f76e153",
   "metadata": {},
   "source": [
    "---\n",
    "\n",
    "#### Feature Selection and Prep, revisited\n",
    "\n",
    "Select features:"
   ]
  },
  {
   "cell_type": "markdown",
   "id": "facec025-15e9-4d40-b4c5-d2a2d63088aa",
   "metadata": {},
   "source": [
    "For our initial super simple model, we had picked just four features: \n",
    "- `px` which is the horizontal location of the pitch at the plate\n",
    "- `pz` which is the vertical location\n",
    "- `stringer_zone_bottom` which is an estimate of current batter's strike zone bottom\n",
    "- `stringer_zone_top` which is an estimate of current batter's strike zone top"
   ]
  },
  {
   "cell_type": "code",
   "execution_count": null,
   "id": "da4fd6e9-70fd-4bee-b321-40327d0787d5",
   "metadata": {},
   "outputs": [],
   "source": [
    "# Features selected\n",
    "feat_select = ['px', 'pz', 'stringer_zone_bottom', 'stringer_zone_top']"
   ]
  },
  {
   "cell_type": "markdown",
   "id": "9c8eb364-b6a5-4129-a7e0-e8f2db110016",
   "metadata": {},
   "source": [
    "But as mentioned in the intro, I want to try adding `bside` and `pside`, as well as vertical/horizontal breaks and angles (`break_x`, `break_z`, `angle_x`, `angle_z`), and `pitch_speed`. "
   ]
  },
  {
   "cell_type": "markdown",
   "id": "d2444da4-7ae7-4074-9423-3c90228559ea",
   "metadata": {},
   "source": [
    "##### Adding `break_x`, `break_z`, `angle_x`, `angle_z`, `pitch_speed`\n",
    "\n",
    "These are numeric so I will add on to `feat_select`"
   ]
  },
  {
   "cell_type": "code",
   "execution_count": null,
   "id": "83c54d7b-b34a-42f8-8ca6-fde199b247b9",
   "metadata": {},
   "outputs": [
    {
     "data": {
      "text/plain": [
       "['break_x',\n",
       " 'angle_z',\n",
       " 'pz',\n",
       " 'stringer_zone_bottom',\n",
       " 'pitch_speed',\n",
       " 'stringer_zone_top',\n",
       " 'angle_x',\n",
       " 'break_z',\n",
       " 'px']"
      ]
     },
     "metadata": {},
     "output_type": "display_data"
    }
   ],
   "source": [
    "feat_select = feat_select + ['break_x', 'break_z', 'angle_x', 'angle_z', 'pitch_speed']\n",
    "feat_select = list(set(feat_select)) #Just to ensure no dupes if this cell gets executed again\n",
    "display(feat_select)"
   ]
  },
  {
   "cell_type": "markdown",
   "id": "d6787f85-35bc-48f2-a808-1e4fe854e302",
   "metadata": {},
   "source": [
    "##### Adding `b_side`, `p_side`\n",
    "\n",
    "These are strings so I will one-hot encode them."
   ]
  },
  {
   "cell_type": "code",
   "execution_count": null,
   "id": "5c2ec5eb-89e0-4dc7-8031-44dcfab17608",
   "metadata": {},
   "outputs": [],
   "source": [
    "feat_cat_select = ['bside', 'pside']"
   ]
  },
  {
   "cell_type": "code",
   "execution_count": null,
   "id": "afc9d4c2-b99a-4c44-9a3b-c9569bf27e3e",
   "metadata": {},
   "outputs": [],
   "source": [
    "df_train_cat_ohe = pd.get_dummies(df_train[feat_cat_select])"
   ]
  },
  {
   "cell_type": "code",
   "execution_count": null,
   "id": "d1ddb031-98a8-42e6-af80-649c7509e411",
   "metadata": {},
   "outputs": [
    {
     "data": {
      "application/com.datacamp.data-table.v1+json": {
       "is_truncated": false,
       "table": {
        "data": [
         {
          "bside_L": 0,
          "bside_R": 1,
          "index": 0,
          "pside_L": 1,
          "pside_R": 0
         },
         {
          "bside_L": 1,
          "bside_R": 0,
          "index": 1,
          "pside_L": 0,
          "pside_R": 1
         },
         {
          "bside_L": 1,
          "bside_R": 0,
          "index": 2,
          "pside_L": 1,
          "pside_R": 0
         }
        ],
        "schema": {
         "fields": [
          {
           "name": "index",
           "type": "integer"
          },
          {
           "name": "bside_L",
           "type": "integer"
          },
          {
           "name": "bside_R",
           "type": "integer"
          },
          {
           "name": "pside_L",
           "type": "integer"
          },
          {
           "name": "pside_R",
           "type": "integer"
          }
         ],
         "pandas_version": "0.20.0",
         "primaryKey": [
          "index"
         ]
        }
       },
       "total_rows": 3
      },
      "text/html": [
       "<div>\n",
       "<style scoped>\n",
       "    .dataframe tbody tr th:only-of-type {\n",
       "        vertical-align: middle;\n",
       "    }\n",
       "\n",
       "    .dataframe tbody tr th {\n",
       "        vertical-align: top;\n",
       "    }\n",
       "\n",
       "    .dataframe thead th {\n",
       "        text-align: right;\n",
       "    }\n",
       "</style>\n",
       "<table border=\"1\" class=\"dataframe\">\n",
       "  <thead>\n",
       "    <tr style=\"text-align: right;\">\n",
       "      <th></th>\n",
       "      <th>bside_L</th>\n",
       "      <th>bside_R</th>\n",
       "      <th>pside_L</th>\n",
       "      <th>pside_R</th>\n",
       "    </tr>\n",
       "  </thead>\n",
       "  <tbody>\n",
       "    <tr>\n",
       "      <th>0</th>\n",
       "      <td>0</td>\n",
       "      <td>1</td>\n",
       "      <td>1</td>\n",
       "      <td>0</td>\n",
       "    </tr>\n",
       "    <tr>\n",
       "      <th>1</th>\n",
       "      <td>1</td>\n",
       "      <td>0</td>\n",
       "      <td>0</td>\n",
       "      <td>1</td>\n",
       "    </tr>\n",
       "    <tr>\n",
       "      <th>2</th>\n",
       "      <td>1</td>\n",
       "      <td>0</td>\n",
       "      <td>1</td>\n",
       "      <td>0</td>\n",
       "    </tr>\n",
       "  </tbody>\n",
       "</table>\n",
       "</div>"
      ],
      "text/plain": [
       "   bside_L  bside_R  pside_L  pside_R\n",
       "0        0        1        1        0\n",
       "1        1        0        0        1\n",
       "2        1        0        1        0"
      ]
     },
     "execution_count": 12,
     "metadata": {},
     "output_type": "execute_result"
    }
   ],
   "source": [
    "df_train_cat_ohe.head(3)"
   ]
  },
  {
   "cell_type": "code",
   "execution_count": null,
   "id": "b5417e96-e709-4d00-9028-9c31be831f19",
   "metadata": {},
   "outputs": [
    {
     "data": {
      "text/plain": [
       "(350959, 4)"
      ]
     },
     "execution_count": 13,
     "metadata": {},
     "output_type": "execute_result"
    }
   ],
   "source": [
    "df_train_cat_ohe.shape"
   ]
  },
  {
   "cell_type": "markdown",
   "id": "66ef8983-f0bb-4951-a82f-9ae20d219ef8",
   "metadata": {},
   "source": [
    "Prep features:\n",
    "\n",
    "Gather up all the selected features."
   ]
  },
  {
   "cell_type": "code",
   "execution_count": null,
   "id": "a870a134-c23f-476d-8d1f-fb10344aa06d",
   "metadata": {},
   "outputs": [
    {
     "name": "stdout",
     "output_type": "stream",
     "text": [
      "<class 'pandas.core.frame.DataFrame'>\n",
      "Int64Index: 350959 entries, 0 to 354038\n",
      "Data columns (total 13 columns):\n",
      " #   Column                Non-Null Count   Dtype  \n",
      "---  ------                --------------   -----  \n",
      " 0   break_x               350959 non-null  float64\n",
      " 1   angle_z               350959 non-null  float64\n",
      " 2   pz                    350959 non-null  float64\n",
      " 3   stringer_zone_bottom  350959 non-null  float64\n",
      " 4   pitch_speed           350959 non-null  float64\n",
      " 5   stringer_zone_top     350959 non-null  float64\n",
      " 6   angle_x               350959 non-null  float64\n",
      " 7   break_z               350959 non-null  float64\n",
      " 8   px                    350959 non-null  float64\n",
      " 9   bside_L               350959 non-null  uint8  \n",
      " 10  bside_R               350959 non-null  uint8  \n",
      " 11  pside_L               350959 non-null  uint8  \n",
      " 12  pside_R               350959 non-null  uint8  \n",
      "dtypes: float64(9), uint8(4)\n",
      "memory usage: 28.1 MB\n"
     ]
    },
    {
     "data": {
      "text/plain": [
       "None"
      ]
     },
     "metadata": {},
     "output_type": "display_data"
    }
   ],
   "source": [
    "# Get just the selected features\n",
    "df_X = pd.concat([df_train[feat_select], df_train_cat_ohe], axis=1)\n",
    "# df_X = df_train_cat_ohe.copy()\n",
    "display(df_X.info())"
   ]
  },
  {
   "cell_type": "markdown",
   "id": "ccf9cbfd-dfc1-498f-bc18-601526984f7a",
   "metadata": {},
   "source": [
    "Sort columns by alpha to ensure consistent reference of columns"
   ]
  },
  {
   "cell_type": "code",
   "execution_count": null,
   "id": "284ffafc-6e61-478b-8fb5-b685f26706cc",
   "metadata": {},
   "outputs": [
    {
     "data": {
      "text/plain": [
       "['angle_x',\n",
       " 'angle_z',\n",
       " 'break_x',\n",
       " 'break_z',\n",
       " 'bside_L',\n",
       " 'bside_R',\n",
       " 'pitch_speed',\n",
       " 'pside_L',\n",
       " 'pside_R',\n",
       " 'px',\n",
       " 'pz',\n",
       " 'stringer_zone_bottom',\n",
       " 'stringer_zone_top']"
      ]
     },
     "execution_count": 21,
     "metadata": {},
     "output_type": "execute_result"
    }
   ],
   "source": [
    "col_primary_order = list(df_X.columns)\n",
    "col_primary_order.sort()\n",
    "col_primary_order"
   ]
  },
  {
   "cell_type": "code",
   "execution_count": null,
   "id": "88ee6a69-9325-41f7-bd32-7d2ac08f3f95",
   "metadata": {},
   "outputs": [],
   "source": [
    "df_X = df_X[col_primary_order]"
   ]
  },
  {
   "cell_type": "code",
   "execution_count": null,
   "id": "80bf31e0-5857-453f-99eb-054363d57305",
   "metadata": {},
   "outputs": [
    {
     "data": {
      "application/com.datacamp.data-table.v1+json": {
       "is_truncated": false,
       "table": {
        "data": [
         {
          "angle_x": 3.02727,
          "angle_z": 5.59379,
          "break_x": 1.91535,
          "break_z": -9.54142,
          "bside_L": 0,
          "bside_R": 1,
          "index": 0,
          "pitch_speed": 97.4298,
          "pside_L": 1,
          "pside_R": 0,
          "px": -1.2981,
          "pz": 2.30217,
          "stringer_zone_bottom": 1.56,
          "stringer_zone_top": 3.41
         },
         {
          "angle_x": -1.56782,
          "angle_z": 6.86676,
          "break_x": -12.1373,
          "break_z": -21.9427,
          "bside_L": 1,
          "bside_R": 0,
          "index": 1,
          "pitch_speed": 91.7712,
          "pside_L": 0,
          "pside_R": 1,
          "px": 1.41222,
          "pz": 1.57443,
          "stringer_zone_bottom": 1.59,
          "stringer_zone_top": 3.47
         },
         {
          "angle_x": 2.04966,
          "angle_z": 7.17281,
          "break_x": -0.992261,
          "break_z": -25.5107,
          "bside_L": 1,
          "bside_R": 0,
          "index": 2,
          "pitch_speed": 87.813,
          "pside_L": 1,
          "pside_R": 0,
          "px": -0.18119,
          "pz": 2.11248,
          "stringer_zone_bottom": 1.68,
          "stringer_zone_top": 3.58
         },
         {
          "angle_x": 2.96845,
          "angle_z": 8.50392,
          "break_x": -2.8393,
          "break_z": -27.2509,
          "bside_L": 0,
          "bside_R": 1,
          "index": 3,
          "pitch_speed": 86.5546,
          "pside_L": 1,
          "pside_R": 0,
          "px": -0.885538,
          "pz": 0.598692,
          "stringer_zone_bottom": 1.63,
          "stringer_zone_top": 3.55
         },
         {
          "angle_x": -1.6463,
          "angle_z": 9.33291,
          "break_x": 8.90615,
          "break_z": -59.4133,
          "bside_L": 1,
          "bside_R": 0,
          "index": 5,
          "pitch_speed": 72.0904,
          "pside_L": 0,
          "pside_R": 1,
          "px": -1.45954,
          "pz": 3.39951,
          "stringer_zone_bottom": 1.5,
          "stringer_zone_top": 3.3
         }
        ],
        "schema": {
         "fields": [
          {
           "name": "index",
           "type": "integer"
          },
          {
           "name": "angle_x",
           "type": "number"
          },
          {
           "name": "angle_z",
           "type": "number"
          },
          {
           "name": "break_x",
           "type": "number"
          },
          {
           "name": "break_z",
           "type": "number"
          },
          {
           "name": "bside_L",
           "type": "integer"
          },
          {
           "name": "bside_R",
           "type": "integer"
          },
          {
           "name": "pitch_speed",
           "type": "number"
          },
          {
           "name": "pside_L",
           "type": "integer"
          },
          {
           "name": "pside_R",
           "type": "integer"
          },
          {
           "name": "px",
           "type": "number"
          },
          {
           "name": "pz",
           "type": "number"
          },
          {
           "name": "stringer_zone_bottom",
           "type": "number"
          },
          {
           "name": "stringer_zone_top",
           "type": "number"
          }
         ],
         "pandas_version": "0.20.0",
         "primaryKey": [
          "index"
         ]
        }
       },
       "total_rows": 5
      },
      "text/html": [
       "<div>\n",
       "<style scoped>\n",
       "    .dataframe tbody tr th:only-of-type {\n",
       "        vertical-align: middle;\n",
       "    }\n",
       "\n",
       "    .dataframe tbody tr th {\n",
       "        vertical-align: top;\n",
       "    }\n",
       "\n",
       "    .dataframe thead th {\n",
       "        text-align: right;\n",
       "    }\n",
       "</style>\n",
       "<table border=\"1\" class=\"dataframe\">\n",
       "  <thead>\n",
       "    <tr style=\"text-align: right;\">\n",
       "      <th></th>\n",
       "      <th>angle_x</th>\n",
       "      <th>angle_z</th>\n",
       "      <th>break_x</th>\n",
       "      <th>break_z</th>\n",
       "      <th>bside_L</th>\n",
       "      <th>bside_R</th>\n",
       "      <th>pitch_speed</th>\n",
       "      <th>pside_L</th>\n",
       "      <th>pside_R</th>\n",
       "      <th>px</th>\n",
       "      <th>pz</th>\n",
       "      <th>stringer_zone_bottom</th>\n",
       "      <th>stringer_zone_top</th>\n",
       "    </tr>\n",
       "  </thead>\n",
       "  <tbody>\n",
       "    <tr>\n",
       "      <th>0</th>\n",
       "      <td>3.02727</td>\n",
       "      <td>5.59379</td>\n",
       "      <td>1.915350</td>\n",
       "      <td>-9.54142</td>\n",
       "      <td>0</td>\n",
       "      <td>1</td>\n",
       "      <td>97.4298</td>\n",
       "      <td>1</td>\n",
       "      <td>0</td>\n",
       "      <td>-1.298100</td>\n",
       "      <td>2.302170</td>\n",
       "      <td>1.56</td>\n",
       "      <td>3.41</td>\n",
       "    </tr>\n",
       "    <tr>\n",
       "      <th>1</th>\n",
       "      <td>-1.56782</td>\n",
       "      <td>6.86676</td>\n",
       "      <td>-12.137300</td>\n",
       "      <td>-21.94270</td>\n",
       "      <td>1</td>\n",
       "      <td>0</td>\n",
       "      <td>91.7712</td>\n",
       "      <td>0</td>\n",
       "      <td>1</td>\n",
       "      <td>1.412220</td>\n",
       "      <td>1.574430</td>\n",
       "      <td>1.59</td>\n",
       "      <td>3.47</td>\n",
       "    </tr>\n",
       "    <tr>\n",
       "      <th>2</th>\n",
       "      <td>2.04966</td>\n",
       "      <td>7.17281</td>\n",
       "      <td>-0.992261</td>\n",
       "      <td>-25.51070</td>\n",
       "      <td>1</td>\n",
       "      <td>0</td>\n",
       "      <td>87.8130</td>\n",
       "      <td>1</td>\n",
       "      <td>0</td>\n",
       "      <td>-0.181190</td>\n",
       "      <td>2.112480</td>\n",
       "      <td>1.68</td>\n",
       "      <td>3.58</td>\n",
       "    </tr>\n",
       "    <tr>\n",
       "      <th>3</th>\n",
       "      <td>2.96845</td>\n",
       "      <td>8.50392</td>\n",
       "      <td>-2.839300</td>\n",
       "      <td>-27.25090</td>\n",
       "      <td>0</td>\n",
       "      <td>1</td>\n",
       "      <td>86.5546</td>\n",
       "      <td>1</td>\n",
       "      <td>0</td>\n",
       "      <td>-0.885538</td>\n",
       "      <td>0.598692</td>\n",
       "      <td>1.63</td>\n",
       "      <td>3.55</td>\n",
       "    </tr>\n",
       "    <tr>\n",
       "      <th>5</th>\n",
       "      <td>-1.64630</td>\n",
       "      <td>9.33291</td>\n",
       "      <td>8.906150</td>\n",
       "      <td>-59.41330</td>\n",
       "      <td>1</td>\n",
       "      <td>0</td>\n",
       "      <td>72.0904</td>\n",
       "      <td>0</td>\n",
       "      <td>1</td>\n",
       "      <td>-1.459540</td>\n",
       "      <td>3.399510</td>\n",
       "      <td>1.50</td>\n",
       "      <td>3.30</td>\n",
       "    </tr>\n",
       "  </tbody>\n",
       "</table>\n",
       "</div>"
      ],
      "text/plain": [
       "   angle_x  angle_z    break_x   break_z  bside_L  bside_R  pitch_speed  \\\n",
       "0  3.02727  5.59379   1.915350  -9.54142        0        1      97.4298   \n",
       "1 -1.56782  6.86676 -12.137300 -21.94270        1        0      91.7712   \n",
       "2  2.04966  7.17281  -0.992261 -25.51070        1        0      87.8130   \n",
       "3  2.96845  8.50392  -2.839300 -27.25090        0        1      86.5546   \n",
       "5 -1.64630  9.33291   8.906150 -59.41330        1        0      72.0904   \n",
       "\n",
       "   pside_L  pside_R        px        pz  stringer_zone_bottom  \\\n",
       "0        1        0 -1.298100  2.302170                  1.56   \n",
       "1        0        1  1.412220  1.574430                  1.59   \n",
       "2        1        0 -0.181190  2.112480                  1.68   \n",
       "3        1        0 -0.885538  0.598692                  1.63   \n",
       "5        0        1 -1.459540  3.399510                  1.50   \n",
       "\n",
       "   stringer_zone_top  \n",
       "0               3.41  \n",
       "1               3.47  \n",
       "2               3.58  \n",
       "3               3.55  \n",
       "5               3.30  "
      ]
     },
     "execution_count": 23,
     "metadata": {},
     "output_type": "execute_result"
    }
   ],
   "source": [
    "df_X.head()"
   ]
  },
  {
   "cell_type": "markdown",
   "id": "f43c5958-97aa-4029-9b66-ad53b6af2685",
   "metadata": {},
   "source": [
    "While we are at it, let's prep our targets:"
   ]
  },
  {
   "cell_type": "code",
   "execution_count": null,
   "id": "b27c2cf9-f12a-4324-898a-55e08e6b5e64",
   "metadata": {},
   "outputs": [
    {
     "name": "stdout",
     "output_type": "stream",
     "text": [
      "<class 'pandas.core.frame.DataFrame'>\n",
      "Int64Index: 350959 entries, 0 to 354038\n",
      "Data columns (total 1 columns):\n",
      " #   Column       Non-Null Count   Dtype\n",
      "---  ------       --------------   -----\n",
      " 0   strike_bool  350959 non-null  int64\n",
      "dtypes: int64(1)\n",
      "memory usage: 5.4 MB\n"
     ]
    },
    {
     "data": {
      "text/plain": [
       "None"
      ]
     },
     "metadata": {},
     "output_type": "display_data"
    }
   ],
   "source": [
    "df_y = df_train['strike_bool']\n",
    "display(pd.DataFrame(df_y).info())"
   ]
  },
  {
   "cell_type": "markdown",
   "id": "8a6fd38a-495e-42a6-8bde-2c2b918a6f17",
   "metadata": {},
   "source": [
    "##### Prep Holdout\n",
    "\n",
    "Let's also perform the same with our holdout data so we can easily make predictions with our ultimately selected model."
   ]
  },
  {
   "cell_type": "markdown",
   "id": "f51f1d62-7782-4751-93cc-ea5156774a78",
   "metadata": {},
   "source": [
    "One hot encoding selected cats:"
   ]
  },
  {
   "cell_type": "code",
   "execution_count": null,
   "id": "7d7a329f-be2f-4d29-bef7-cb69a221f7ea",
   "metadata": {},
   "outputs": [],
   "source": [
    "df_hold_cat_ohe = pd.get_dummies(df_test[feat_cat_select])"
   ]
  },
  {
   "cell_type": "code",
   "execution_count": null,
   "id": "75dd4848-11cd-469a-b65e-2ab8ac07a6d2",
   "metadata": {},
   "outputs": [
    {
     "data": {
      "application/com.datacamp.data-table.v1+json": {
       "is_truncated": false,
       "table": {
        "data": [
         {
          "bside_L": 1,
          "bside_R": 0,
          "index": 0,
          "pside_L": 0,
          "pside_R": 1
         },
         {
          "bside_L": 0,
          "bside_R": 1,
          "index": 1,
          "pside_L": 1,
          "pside_R": 0
         },
         {
          "bside_L": 0,
          "bside_R": 1,
          "index": 2,
          "pside_L": 0,
          "pside_R": 1
         },
         {
          "bside_L": 0,
          "bside_R": 1,
          "index": 3,
          "pside_L": 1,
          "pside_R": 0
         },
         {
          "bside_L": 0,
          "bside_R": 1,
          "index": 4,
          "pside_L": 0,
          "pside_R": 1
         }
        ],
        "schema": {
         "fields": [
          {
           "name": "index",
           "type": "integer"
          },
          {
           "name": "bside_L",
           "type": "integer"
          },
          {
           "name": "bside_R",
           "type": "integer"
          },
          {
           "name": "pside_L",
           "type": "integer"
          },
          {
           "name": "pside_R",
           "type": "integer"
          }
         ],
         "pandas_version": "0.20.0",
         "primaryKey": [
          "index"
         ]
        }
       },
       "total_rows": 5
      },
      "text/html": [
       "<div>\n",
       "<style scoped>\n",
       "    .dataframe tbody tr th:only-of-type {\n",
       "        vertical-align: middle;\n",
       "    }\n",
       "\n",
       "    .dataframe tbody tr th {\n",
       "        vertical-align: top;\n",
       "    }\n",
       "\n",
       "    .dataframe thead th {\n",
       "        text-align: right;\n",
       "    }\n",
       "</style>\n",
       "<table border=\"1\" class=\"dataframe\">\n",
       "  <thead>\n",
       "    <tr style=\"text-align: right;\">\n",
       "      <th></th>\n",
       "      <th>bside_L</th>\n",
       "      <th>bside_R</th>\n",
       "      <th>pside_L</th>\n",
       "      <th>pside_R</th>\n",
       "    </tr>\n",
       "  </thead>\n",
       "  <tbody>\n",
       "    <tr>\n",
       "      <th>0</th>\n",
       "      <td>1</td>\n",
       "      <td>0</td>\n",
       "      <td>0</td>\n",
       "      <td>1</td>\n",
       "    </tr>\n",
       "    <tr>\n",
       "      <th>1</th>\n",
       "      <td>0</td>\n",
       "      <td>1</td>\n",
       "      <td>1</td>\n",
       "      <td>0</td>\n",
       "    </tr>\n",
       "    <tr>\n",
       "      <th>2</th>\n",
       "      <td>0</td>\n",
       "      <td>1</td>\n",
       "      <td>0</td>\n",
       "      <td>1</td>\n",
       "    </tr>\n",
       "    <tr>\n",
       "      <th>3</th>\n",
       "      <td>0</td>\n",
       "      <td>1</td>\n",
       "      <td>1</td>\n",
       "      <td>0</td>\n",
       "    </tr>\n",
       "    <tr>\n",
       "      <th>4</th>\n",
       "      <td>0</td>\n",
       "      <td>1</td>\n",
       "      <td>0</td>\n",
       "      <td>1</td>\n",
       "    </tr>\n",
       "  </tbody>\n",
       "</table>\n",
       "</div>"
      ],
      "text/plain": [
       "   bside_L  bside_R  pside_L  pside_R\n",
       "0        1        0        0        1\n",
       "1        0        1        1        0\n",
       "2        0        1        0        1\n",
       "3        0        1        1        0\n",
       "4        0        1        0        1"
      ]
     },
     "execution_count": 26,
     "metadata": {},
     "output_type": "execute_result"
    }
   ],
   "source": [
    "df_hold_cat_ohe.head()"
   ]
  },
  {
   "cell_type": "code",
   "execution_count": null,
   "id": "95acb045-bc58-4c1c-a25b-60eff7c557c2",
   "metadata": {},
   "outputs": [
    {
     "name": "stdout",
     "output_type": "stream",
     "text": [
      "<class 'pandas.core.frame.DataFrame'>\n",
      "RangeIndex: 18633 entries, 0 to 18632\n",
      "Data columns (total 13 columns):\n",
      " #   Column                Non-Null Count  Dtype  \n",
      "---  ------                --------------  -----  \n",
      " 0   break_x               18633 non-null  float64\n",
      " 1   angle_z               18633 non-null  float64\n",
      " 2   pz                    18633 non-null  float64\n",
      " 3   stringer_zone_bottom  18633 non-null  float64\n",
      " 4   pitch_speed           18633 non-null  float64\n",
      " 5   stringer_zone_top     18633 non-null  float64\n",
      " 6   angle_x               18633 non-null  float64\n",
      " 7   break_z               18633 non-null  float64\n",
      " 8   px                    18633 non-null  float64\n",
      " 9   bside_L               18633 non-null  uint8  \n",
      " 10  bside_R               18633 non-null  uint8  \n",
      " 11  pside_L               18633 non-null  uint8  \n",
      " 12  pside_R               18633 non-null  uint8  \n",
      "dtypes: float64(9), uint8(4)\n",
      "memory usage: 1.4 MB\n"
     ]
    },
    {
     "data": {
      "text/plain": [
       "None"
      ]
     },
     "metadata": {},
     "output_type": "display_data"
    }
   ],
   "source": [
    "# Get just the selected features\n",
    "df_holdout = pd.concat([df_test[feat_select], df_hold_cat_ohe], axis=1)\n",
    "# df_X = df_train_cat_ohe.copy()\n",
    "display(df_holdout.info())"
   ]
  },
  {
   "cell_type": "code",
   "execution_count": null,
   "id": "29f6eb88-3814-4284-93e7-4ab6db4b2c46",
   "metadata": {},
   "outputs": [],
   "source": [
    "df_holdout = df_holdout[col_primary_order]"
   ]
  },
  {
   "cell_type": "code",
   "execution_count": null,
   "id": "396bb7a2-512d-4db9-8649-506468bf5dee",
   "metadata": {},
   "outputs": [
    {
     "data": {
      "application/com.datacamp.data-table.v1+json": {
       "is_truncated": false,
       "table": {
        "data": [
         {
          "angle_x": 3.02727,
          "angle_z": 5.59379,
          "break_x": 1.91535,
          "break_z": -9.54142,
          "bside_L": 0,
          "bside_R": 1,
          "index": 0,
          "pitch_speed": 97.4298,
          "pside_L": 1,
          "pside_R": 0,
          "px": -1.2981,
          "pz": 2.30217,
          "stringer_zone_bottom": 1.56,
          "stringer_zone_top": 3.41
         },
         {
          "angle_x": -1.56782,
          "angle_z": 6.86676,
          "break_x": -12.1373,
          "break_z": -21.9427,
          "bside_L": 1,
          "bside_R": 0,
          "index": 1,
          "pitch_speed": 91.7712,
          "pside_L": 0,
          "pside_R": 1,
          "px": 1.41222,
          "pz": 1.57443,
          "stringer_zone_bottom": 1.59,
          "stringer_zone_top": 3.47
         },
         {
          "angle_x": 2.04966,
          "angle_z": 7.17281,
          "break_x": -0.992261,
          "break_z": -25.5107,
          "bside_L": 1,
          "bside_R": 0,
          "index": 2,
          "pitch_speed": 87.813,
          "pside_L": 1,
          "pside_R": 0,
          "px": -0.18119,
          "pz": 2.11248,
          "stringer_zone_bottom": 1.68,
          "stringer_zone_top": 3.58
         },
         {
          "angle_x": 2.96845,
          "angle_z": 8.50392,
          "break_x": -2.8393,
          "break_z": -27.2509,
          "bside_L": 0,
          "bside_R": 1,
          "index": 3,
          "pitch_speed": 86.5546,
          "pside_L": 1,
          "pside_R": 0,
          "px": -0.885538,
          "pz": 0.598692,
          "stringer_zone_bottom": 1.63,
          "stringer_zone_top": 3.55
         },
         {
          "angle_x": -1.6463,
          "angle_z": 9.33291,
          "break_x": 8.90615,
          "break_z": -59.4133,
          "bside_L": 1,
          "bside_R": 0,
          "index": 5,
          "pitch_speed": 72.0904,
          "pside_L": 0,
          "pside_R": 1,
          "px": -1.45954,
          "pz": 3.39951,
          "stringer_zone_bottom": 1.5,
          "stringer_zone_top": 3.3
         }
        ],
        "schema": {
         "fields": [
          {
           "name": "index",
           "type": "integer"
          },
          {
           "name": "angle_x",
           "type": "number"
          },
          {
           "name": "angle_z",
           "type": "number"
          },
          {
           "name": "break_x",
           "type": "number"
          },
          {
           "name": "break_z",
           "type": "number"
          },
          {
           "name": "bside_L",
           "type": "integer"
          },
          {
           "name": "bside_R",
           "type": "integer"
          },
          {
           "name": "pitch_speed",
           "type": "number"
          },
          {
           "name": "pside_L",
           "type": "integer"
          },
          {
           "name": "pside_R",
           "type": "integer"
          },
          {
           "name": "px",
           "type": "number"
          },
          {
           "name": "pz",
           "type": "number"
          },
          {
           "name": "stringer_zone_bottom",
           "type": "number"
          },
          {
           "name": "stringer_zone_top",
           "type": "number"
          }
         ],
         "pandas_version": "0.20.0",
         "primaryKey": [
          "index"
         ]
        }
       },
       "total_rows": 5
      },
      "text/html": [
       "<div>\n",
       "<style scoped>\n",
       "    .dataframe tbody tr th:only-of-type {\n",
       "        vertical-align: middle;\n",
       "    }\n",
       "\n",
       "    .dataframe tbody tr th {\n",
       "        vertical-align: top;\n",
       "    }\n",
       "\n",
       "    .dataframe thead th {\n",
       "        text-align: right;\n",
       "    }\n",
       "</style>\n",
       "<table border=\"1\" class=\"dataframe\">\n",
       "  <thead>\n",
       "    <tr style=\"text-align: right;\">\n",
       "      <th></th>\n",
       "      <th>angle_x</th>\n",
       "      <th>angle_z</th>\n",
       "      <th>break_x</th>\n",
       "      <th>break_z</th>\n",
       "      <th>bside_L</th>\n",
       "      <th>bside_R</th>\n",
       "      <th>pitch_speed</th>\n",
       "      <th>pside_L</th>\n",
       "      <th>pside_R</th>\n",
       "      <th>px</th>\n",
       "      <th>pz</th>\n",
       "      <th>stringer_zone_bottom</th>\n",
       "      <th>stringer_zone_top</th>\n",
       "    </tr>\n",
       "  </thead>\n",
       "  <tbody>\n",
       "    <tr>\n",
       "      <th>0</th>\n",
       "      <td>3.02727</td>\n",
       "      <td>5.59379</td>\n",
       "      <td>1.915350</td>\n",
       "      <td>-9.54142</td>\n",
       "      <td>0</td>\n",
       "      <td>1</td>\n",
       "      <td>97.4298</td>\n",
       "      <td>1</td>\n",
       "      <td>0</td>\n",
       "      <td>-1.298100</td>\n",
       "      <td>2.302170</td>\n",
       "      <td>1.56</td>\n",
       "      <td>3.41</td>\n",
       "    </tr>\n",
       "    <tr>\n",
       "      <th>1</th>\n",
       "      <td>-1.56782</td>\n",
       "      <td>6.86676</td>\n",
       "      <td>-12.137300</td>\n",
       "      <td>-21.94270</td>\n",
       "      <td>1</td>\n",
       "      <td>0</td>\n",
       "      <td>91.7712</td>\n",
       "      <td>0</td>\n",
       "      <td>1</td>\n",
       "      <td>1.412220</td>\n",
       "      <td>1.574430</td>\n",
       "      <td>1.59</td>\n",
       "      <td>3.47</td>\n",
       "    </tr>\n",
       "    <tr>\n",
       "      <th>2</th>\n",
       "      <td>2.04966</td>\n",
       "      <td>7.17281</td>\n",
       "      <td>-0.992261</td>\n",
       "      <td>-25.51070</td>\n",
       "      <td>1</td>\n",
       "      <td>0</td>\n",
       "      <td>87.8130</td>\n",
       "      <td>1</td>\n",
       "      <td>0</td>\n",
       "      <td>-0.181190</td>\n",
       "      <td>2.112480</td>\n",
       "      <td>1.68</td>\n",
       "      <td>3.58</td>\n",
       "    </tr>\n",
       "    <tr>\n",
       "      <th>3</th>\n",
       "      <td>2.96845</td>\n",
       "      <td>8.50392</td>\n",
       "      <td>-2.839300</td>\n",
       "      <td>-27.25090</td>\n",
       "      <td>0</td>\n",
       "      <td>1</td>\n",
       "      <td>86.5546</td>\n",
       "      <td>1</td>\n",
       "      <td>0</td>\n",
       "      <td>-0.885538</td>\n",
       "      <td>0.598692</td>\n",
       "      <td>1.63</td>\n",
       "      <td>3.55</td>\n",
       "    </tr>\n",
       "    <tr>\n",
       "      <th>5</th>\n",
       "      <td>-1.64630</td>\n",
       "      <td>9.33291</td>\n",
       "      <td>8.906150</td>\n",
       "      <td>-59.41330</td>\n",
       "      <td>1</td>\n",
       "      <td>0</td>\n",
       "      <td>72.0904</td>\n",
       "      <td>0</td>\n",
       "      <td>1</td>\n",
       "      <td>-1.459540</td>\n",
       "      <td>3.399510</td>\n",
       "      <td>1.50</td>\n",
       "      <td>3.30</td>\n",
       "    </tr>\n",
       "  </tbody>\n",
       "</table>\n",
       "</div>"
      ],
      "text/plain": [
       "   angle_x  angle_z    break_x   break_z  bside_L  bside_R  pitch_speed  \\\n",
       "0  3.02727  5.59379   1.915350  -9.54142        0        1      97.4298   \n",
       "1 -1.56782  6.86676 -12.137300 -21.94270        1        0      91.7712   \n",
       "2  2.04966  7.17281  -0.992261 -25.51070        1        0      87.8130   \n",
       "3  2.96845  8.50392  -2.839300 -27.25090        0        1      86.5546   \n",
       "5 -1.64630  9.33291   8.906150 -59.41330        1        0      72.0904   \n",
       "\n",
       "   pside_L  pside_R        px        pz  stringer_zone_bottom  \\\n",
       "0        1        0 -1.298100  2.302170                  1.56   \n",
       "1        0        1  1.412220  1.574430                  1.59   \n",
       "2        1        0 -0.181190  2.112480                  1.68   \n",
       "3        1        0 -0.885538  0.598692                  1.63   \n",
       "5        0        1 -1.459540  3.399510                  1.50   \n",
       "\n",
       "   stringer_zone_top  \n",
       "0               3.41  \n",
       "1               3.47  \n",
       "2               3.58  \n",
       "3               3.55  \n",
       "5               3.30  "
      ]
     },
     "execution_count": 29,
     "metadata": {},
     "output_type": "execute_result"
    }
   ],
   "source": [
    "df_X.head(5)"
   ]
  },
  {
   "cell_type": "code",
   "execution_count": null,
   "id": "5ac7b69c-91d1-401b-bd90-17157a6c94a8",
   "metadata": {},
   "outputs": [
    {
     "data": {
      "application/com.datacamp.data-table.v1+json": {
       "is_truncated": false,
       "table": {
        "data": [
         {
          "angle_x": -0.26113,
          "angle_z": 8.02184,
          "break_x": -16.1715,
          "break_z": -31.5262,
          "bside_L": 1,
          "bside_R": 0,
          "index": 0,
          "pitch_speed": 88.1309,
          "pside_L": 0,
          "pside_R": 1,
          "px": -0.689798,
          "pz": 0.880993,
          "stringer_zone_bottom": 1.53,
          "stringer_zone_top": 3.37
         },
         {
          "angle_x": -1.28544,
          "angle_z": 2.30556,
          "break_x": 12.7892,
          "break_z": -15.412,
          "bside_L": 0,
          "bside_R": 1,
          "index": 1,
          "pitch_speed": 93.8505,
          "pside_L": 1,
          "pside_R": 0,
          "px": 0.670993,
          "pz": 4.80701,
          "stringer_zone_bottom": 1.53,
          "stringer_zone_top": 3.37
         },
         {
          "angle_x": -3.15206,
          "angle_z": 7.95176,
          "break_x": 6.32436,
          "break_z": -30.0377,
          "bside_L": 0,
          "bside_R": 1,
          "index": 2,
          "pitch_speed": 87.1178,
          "pside_L": 0,
          "pside_R": 1,
          "px": 0.550363,
          "pz": 2.37494,
          "stringer_zone_bottom": 1.56,
          "stringer_zone_top": 3.41
         },
         {
          "angle_x": 0.699183,
          "angle_z": 6.08815,
          "break_x": 12.1115,
          "break_z": -20.9565,
          "bside_L": 0,
          "bside_R": 1,
          "index": 3,
          "pitch_speed": 92.9043,
          "pside_L": 1,
          "pside_R": 0,
          "px": 0.88475,
          "pz": 2.42076,
          "stringer_zone_bottom": 1.59,
          "stringer_zone_top": 3.47
         },
         {
          "angle_x": -2.41876,
          "angle_z": 6.37698,
          "break_x": 0.996405,
          "break_z": -25.6905,
          "bside_L": 0,
          "bside_R": 1,
          "index": 4,
          "pitch_speed": 86.5579,
          "pside_L": 0,
          "pside_R": 1,
          "px": -0.3433,
          "pz": 2.65081,
          "stringer_zone_bottom": 1.47,
          "stringer_zone_top": 3.41
         }
        ],
        "schema": {
         "fields": [
          {
           "name": "index",
           "type": "integer"
          },
          {
           "name": "angle_x",
           "type": "number"
          },
          {
           "name": "angle_z",
           "type": "number"
          },
          {
           "name": "break_x",
           "type": "number"
          },
          {
           "name": "break_z",
           "type": "number"
          },
          {
           "name": "bside_L",
           "type": "integer"
          },
          {
           "name": "bside_R",
           "type": "integer"
          },
          {
           "name": "pitch_speed",
           "type": "number"
          },
          {
           "name": "pside_L",
           "type": "integer"
          },
          {
           "name": "pside_R",
           "type": "integer"
          },
          {
           "name": "px",
           "type": "number"
          },
          {
           "name": "pz",
           "type": "number"
          },
          {
           "name": "stringer_zone_bottom",
           "type": "number"
          },
          {
           "name": "stringer_zone_top",
           "type": "number"
          }
         ],
         "pandas_version": "0.20.0",
         "primaryKey": [
          "index"
         ]
        }
       },
       "total_rows": 5
      },
      "text/html": [
       "<div>\n",
       "<style scoped>\n",
       "    .dataframe tbody tr th:only-of-type {\n",
       "        vertical-align: middle;\n",
       "    }\n",
       "\n",
       "    .dataframe tbody tr th {\n",
       "        vertical-align: top;\n",
       "    }\n",
       "\n",
       "    .dataframe thead th {\n",
       "        text-align: right;\n",
       "    }\n",
       "</style>\n",
       "<table border=\"1\" class=\"dataframe\">\n",
       "  <thead>\n",
       "    <tr style=\"text-align: right;\">\n",
       "      <th></th>\n",
       "      <th>angle_x</th>\n",
       "      <th>angle_z</th>\n",
       "      <th>break_x</th>\n",
       "      <th>break_z</th>\n",
       "      <th>bside_L</th>\n",
       "      <th>bside_R</th>\n",
       "      <th>pitch_speed</th>\n",
       "      <th>pside_L</th>\n",
       "      <th>pside_R</th>\n",
       "      <th>px</th>\n",
       "      <th>pz</th>\n",
       "      <th>stringer_zone_bottom</th>\n",
       "      <th>stringer_zone_top</th>\n",
       "    </tr>\n",
       "  </thead>\n",
       "  <tbody>\n",
       "    <tr>\n",
       "      <th>0</th>\n",
       "      <td>-0.261130</td>\n",
       "      <td>8.02184</td>\n",
       "      <td>-16.171500</td>\n",
       "      <td>-31.5262</td>\n",
       "      <td>1</td>\n",
       "      <td>0</td>\n",
       "      <td>88.1309</td>\n",
       "      <td>0</td>\n",
       "      <td>1</td>\n",
       "      <td>-0.689798</td>\n",
       "      <td>0.880993</td>\n",
       "      <td>1.53</td>\n",
       "      <td>3.37</td>\n",
       "    </tr>\n",
       "    <tr>\n",
       "      <th>1</th>\n",
       "      <td>-1.285440</td>\n",
       "      <td>2.30556</td>\n",
       "      <td>12.789200</td>\n",
       "      <td>-15.4120</td>\n",
       "      <td>0</td>\n",
       "      <td>1</td>\n",
       "      <td>93.8505</td>\n",
       "      <td>1</td>\n",
       "      <td>0</td>\n",
       "      <td>0.670993</td>\n",
       "      <td>4.807010</td>\n",
       "      <td>1.53</td>\n",
       "      <td>3.37</td>\n",
       "    </tr>\n",
       "    <tr>\n",
       "      <th>2</th>\n",
       "      <td>-3.152060</td>\n",
       "      <td>7.95176</td>\n",
       "      <td>6.324360</td>\n",
       "      <td>-30.0377</td>\n",
       "      <td>0</td>\n",
       "      <td>1</td>\n",
       "      <td>87.1178</td>\n",
       "      <td>0</td>\n",
       "      <td>1</td>\n",
       "      <td>0.550363</td>\n",
       "      <td>2.374940</td>\n",
       "      <td>1.56</td>\n",
       "      <td>3.41</td>\n",
       "    </tr>\n",
       "    <tr>\n",
       "      <th>3</th>\n",
       "      <td>0.699183</td>\n",
       "      <td>6.08815</td>\n",
       "      <td>12.111500</td>\n",
       "      <td>-20.9565</td>\n",
       "      <td>0</td>\n",
       "      <td>1</td>\n",
       "      <td>92.9043</td>\n",
       "      <td>1</td>\n",
       "      <td>0</td>\n",
       "      <td>0.884750</td>\n",
       "      <td>2.420760</td>\n",
       "      <td>1.59</td>\n",
       "      <td>3.47</td>\n",
       "    </tr>\n",
       "    <tr>\n",
       "      <th>4</th>\n",
       "      <td>-2.418760</td>\n",
       "      <td>6.37698</td>\n",
       "      <td>0.996405</td>\n",
       "      <td>-25.6905</td>\n",
       "      <td>0</td>\n",
       "      <td>1</td>\n",
       "      <td>86.5579</td>\n",
       "      <td>0</td>\n",
       "      <td>1</td>\n",
       "      <td>-0.343300</td>\n",
       "      <td>2.650810</td>\n",
       "      <td>1.47</td>\n",
       "      <td>3.41</td>\n",
       "    </tr>\n",
       "  </tbody>\n",
       "</table>\n",
       "</div>"
      ],
      "text/plain": [
       "    angle_x  angle_z    break_x  break_z  bside_L  bside_R  pitch_speed  \\\n",
       "0 -0.261130  8.02184 -16.171500 -31.5262        1        0      88.1309   \n",
       "1 -1.285440  2.30556  12.789200 -15.4120        0        1      93.8505   \n",
       "2 -3.152060  7.95176   6.324360 -30.0377        0        1      87.1178   \n",
       "3  0.699183  6.08815  12.111500 -20.9565        0        1      92.9043   \n",
       "4 -2.418760  6.37698   0.996405 -25.6905        0        1      86.5579   \n",
       "\n",
       "   pside_L  pside_R        px        pz  stringer_zone_bottom  \\\n",
       "0        0        1 -0.689798  0.880993                  1.53   \n",
       "1        1        0  0.670993  4.807010                  1.53   \n",
       "2        0        1  0.550363  2.374940                  1.56   \n",
       "3        1        0  0.884750  2.420760                  1.59   \n",
       "4        0        1 -0.343300  2.650810                  1.47   \n",
       "\n",
       "   stringer_zone_top  \n",
       "0               3.37  \n",
       "1               3.37  \n",
       "2               3.41  \n",
       "3               3.47  \n",
       "4               3.41  "
      ]
     },
     "execution_count": 30,
     "metadata": {},
     "output_type": "execute_result"
    }
   ],
   "source": [
    "df_holdout.head(5)"
   ]
  },
  {
   "cell_type": "markdown",
   "id": "c990a31b-d553-4227-9fdd-b946e3b9bd39",
   "metadata": {},
   "source": [
    "---\n",
    "\n",
    "#### Feature Engineering\n",
    "\n",
    "Select features:"
   ]
  },
  {
   "cell_type": "markdown",
   "id": "6ddb78e3-d580-4bef-bfa4-d8abfb1c82e8",
   "metadata": {},
   "source": [
    "For a neural network we will need to numerically represent our data (e.g. one-hot-encode any categorical features), as well as scale/normalize the data. \n",
    "\n",
    "All the selected features for this round are numerical, so we don't have to worry about encoding any categories. For scaling I'm choosing to *standardize*."
   ]
  },
  {
   "cell_type": "code",
   "execution_count": null,
   "id": "e0e89560-8f67-42d3-b8ac-ad180c37d2a1",
   "metadata": {},
   "outputs": [],
   "source": [
    "scaler = StandardScaler()\n",
    "X_scaled = scaler.fit_transform(df_X)"
   ]
  },
  {
   "cell_type": "code",
   "execution_count": null,
   "id": "822356d2-1cb5-408b-a94d-6547f20817f8",
   "metadata": {},
   "outputs": [
    {
     "data": {
      "text/plain": [
       "(350959, 13)"
      ]
     },
     "execution_count": 32,
     "metadata": {},
     "output_type": "execute_result"
    }
   ],
   "source": [
    "X_scaled.shape"
   ]
  },
  {
   "cell_type": "markdown",
   "id": "483a1f28-d52d-4326-8745-7705905ce8f3",
   "metadata": {},
   "source": [
    "`pickle` out the `scaler` for future use"
   ]
  },
  {
   "cell_type": "code",
   "execution_count": null,
   "id": "9e383ec0-bd31-4cc1-a15f-b33852567f4a",
   "metadata": {},
   "outputs": [
    {
     "data": {
      "text/plain": [
       "'./models/nn_scaler_20220511_1134.pickle'"
      ]
     },
     "metadata": {},
     "output_type": "display_data"
    }
   ],
   "source": [
    "%%script echo skipping\n",
    "str_ts = datetime.now(timezone.utc).astimezone(pytz.timezone('US/Pacific')).strftime(\"%Y%m%d_%H%M\")\n",
    "\n",
    "nn_scaler_path = './models/nn_scaler_' + str_ts + '.pickle'\n",
    "display(nn_scaler_path)\n",
    "\n",
    "with open(nn_scaler_path, 'wb') as f:\n",
    "    # Pickle the 'data' dictionary using the highest protocol available.\n",
    "    pickle.dump(scaler, f, pickle.HIGHEST_PROTOCOL)"
   ]
  },
  {
   "cell_type": "code",
   "execution_count": null,
   "id": "219be734-5e28-4457-b21a-8c0c4cf56fc9",
   "metadata": {},
   "outputs": [
    {
     "data": {
      "application/com.datacamp.data-table.v1+json": {
       "is_truncated": false,
       "table": {
        "data": [
         {
          "angle_x": -0.26113,
          "angle_z": 8.02184,
          "break_x": -16.1715,
          "break_z": -31.5262,
          "bside_L": 1,
          "bside_R": 0,
          "index": 0,
          "pitch_speed": 88.1309,
          "pside_L": 0,
          "pside_R": 1,
          "px": -0.689798,
          "pz": 0.880993,
          "stringer_zone_bottom": 1.53,
          "stringer_zone_top": 3.37
         },
         {
          "angle_x": -1.28544,
          "angle_z": 2.30556,
          "break_x": 12.7892,
          "break_z": -15.412,
          "bside_L": 0,
          "bside_R": 1,
          "index": 1,
          "pitch_speed": 93.8505,
          "pside_L": 1,
          "pside_R": 0,
          "px": 0.670993,
          "pz": 4.80701,
          "stringer_zone_bottom": 1.53,
          "stringer_zone_top": 3.37
         },
         {
          "angle_x": -3.15206,
          "angle_z": 7.95176,
          "break_x": 6.32436,
          "break_z": -30.0377,
          "bside_L": 0,
          "bside_R": 1,
          "index": 2,
          "pitch_speed": 87.1178,
          "pside_L": 0,
          "pside_R": 1,
          "px": 0.550363,
          "pz": 2.37494,
          "stringer_zone_bottom": 1.56,
          "stringer_zone_top": 3.41
         },
         {
          "angle_x": 0.699183,
          "angle_z": 6.08815,
          "break_x": 12.1115,
          "break_z": -20.9565,
          "bside_L": 0,
          "bside_R": 1,
          "index": 3,
          "pitch_speed": 92.9043,
          "pside_L": 1,
          "pside_R": 0,
          "px": 0.88475,
          "pz": 2.42076,
          "stringer_zone_bottom": 1.59,
          "stringer_zone_top": 3.47
         },
         {
          "angle_x": -2.41876,
          "angle_z": 6.37698,
          "break_x": 0.996405,
          "break_z": -25.6905,
          "bside_L": 0,
          "bside_R": 1,
          "index": 4,
          "pitch_speed": 86.5579,
          "pside_L": 0,
          "pside_R": 1,
          "px": -0.3433,
          "pz": 2.65081,
          "stringer_zone_bottom": 1.47,
          "stringer_zone_top": 3.41
         }
        ],
        "schema": {
         "fields": [
          {
           "name": "index",
           "type": "integer"
          },
          {
           "name": "angle_x",
           "type": "number"
          },
          {
           "name": "angle_z",
           "type": "number"
          },
          {
           "name": "break_x",
           "type": "number"
          },
          {
           "name": "break_z",
           "type": "number"
          },
          {
           "name": "bside_L",
           "type": "integer"
          },
          {
           "name": "bside_R",
           "type": "integer"
          },
          {
           "name": "pitch_speed",
           "type": "number"
          },
          {
           "name": "pside_L",
           "type": "integer"
          },
          {
           "name": "pside_R",
           "type": "integer"
          },
          {
           "name": "px",
           "type": "number"
          },
          {
           "name": "pz",
           "type": "number"
          },
          {
           "name": "stringer_zone_bottom",
           "type": "number"
          },
          {
           "name": "stringer_zone_top",
           "type": "number"
          }
         ],
         "pandas_version": "0.20.0",
         "primaryKey": [
          "index"
         ]
        }
       },
       "total_rows": 5
      },
      "text/html": [
       "<div>\n",
       "<style scoped>\n",
       "    .dataframe tbody tr th:only-of-type {\n",
       "        vertical-align: middle;\n",
       "    }\n",
       "\n",
       "    .dataframe tbody tr th {\n",
       "        vertical-align: top;\n",
       "    }\n",
       "\n",
       "    .dataframe thead th {\n",
       "        text-align: right;\n",
       "    }\n",
       "</style>\n",
       "<table border=\"1\" class=\"dataframe\">\n",
       "  <thead>\n",
       "    <tr style=\"text-align: right;\">\n",
       "      <th></th>\n",
       "      <th>angle_x</th>\n",
       "      <th>angle_z</th>\n",
       "      <th>break_x</th>\n",
       "      <th>break_z</th>\n",
       "      <th>bside_L</th>\n",
       "      <th>bside_R</th>\n",
       "      <th>pitch_speed</th>\n",
       "      <th>pside_L</th>\n",
       "      <th>pside_R</th>\n",
       "      <th>px</th>\n",
       "      <th>pz</th>\n",
       "      <th>stringer_zone_bottom</th>\n",
       "      <th>stringer_zone_top</th>\n",
       "    </tr>\n",
       "  </thead>\n",
       "  <tbody>\n",
       "    <tr>\n",
       "      <th>0</th>\n",
       "      <td>-0.261130</td>\n",
       "      <td>8.02184</td>\n",
       "      <td>-16.171500</td>\n",
       "      <td>-31.5262</td>\n",
       "      <td>1</td>\n",
       "      <td>0</td>\n",
       "      <td>88.1309</td>\n",
       "      <td>0</td>\n",
       "      <td>1</td>\n",
       "      <td>-0.689798</td>\n",
       "      <td>0.880993</td>\n",
       "      <td>1.53</td>\n",
       "      <td>3.37</td>\n",
       "    </tr>\n",
       "    <tr>\n",
       "      <th>1</th>\n",
       "      <td>-1.285440</td>\n",
       "      <td>2.30556</td>\n",
       "      <td>12.789200</td>\n",
       "      <td>-15.4120</td>\n",
       "      <td>0</td>\n",
       "      <td>1</td>\n",
       "      <td>93.8505</td>\n",
       "      <td>1</td>\n",
       "      <td>0</td>\n",
       "      <td>0.670993</td>\n",
       "      <td>4.807010</td>\n",
       "      <td>1.53</td>\n",
       "      <td>3.37</td>\n",
       "    </tr>\n",
       "    <tr>\n",
       "      <th>2</th>\n",
       "      <td>-3.152060</td>\n",
       "      <td>7.95176</td>\n",
       "      <td>6.324360</td>\n",
       "      <td>-30.0377</td>\n",
       "      <td>0</td>\n",
       "      <td>1</td>\n",
       "      <td>87.1178</td>\n",
       "      <td>0</td>\n",
       "      <td>1</td>\n",
       "      <td>0.550363</td>\n",
       "      <td>2.374940</td>\n",
       "      <td>1.56</td>\n",
       "      <td>3.41</td>\n",
       "    </tr>\n",
       "    <tr>\n",
       "      <th>3</th>\n",
       "      <td>0.699183</td>\n",
       "      <td>6.08815</td>\n",
       "      <td>12.111500</td>\n",
       "      <td>-20.9565</td>\n",
       "      <td>0</td>\n",
       "      <td>1</td>\n",
       "      <td>92.9043</td>\n",
       "      <td>1</td>\n",
       "      <td>0</td>\n",
       "      <td>0.884750</td>\n",
       "      <td>2.420760</td>\n",
       "      <td>1.59</td>\n",
       "      <td>3.47</td>\n",
       "    </tr>\n",
       "    <tr>\n",
       "      <th>4</th>\n",
       "      <td>-2.418760</td>\n",
       "      <td>6.37698</td>\n",
       "      <td>0.996405</td>\n",
       "      <td>-25.6905</td>\n",
       "      <td>0</td>\n",
       "      <td>1</td>\n",
       "      <td>86.5579</td>\n",
       "      <td>0</td>\n",
       "      <td>1</td>\n",
       "      <td>-0.343300</td>\n",
       "      <td>2.650810</td>\n",
       "      <td>1.47</td>\n",
       "      <td>3.41</td>\n",
       "    </tr>\n",
       "  </tbody>\n",
       "</table>\n",
       "</div>"
      ],
      "text/plain": [
       "    angle_x  angle_z    break_x  break_z  bside_L  bside_R  pitch_speed  \\\n",
       "0 -0.261130  8.02184 -16.171500 -31.5262        1        0      88.1309   \n",
       "1 -1.285440  2.30556  12.789200 -15.4120        0        1      93.8505   \n",
       "2 -3.152060  7.95176   6.324360 -30.0377        0        1      87.1178   \n",
       "3  0.699183  6.08815  12.111500 -20.9565        0        1      92.9043   \n",
       "4 -2.418760  6.37698   0.996405 -25.6905        0        1      86.5579   \n",
       "\n",
       "   pside_L  pside_R        px        pz  stringer_zone_bottom  \\\n",
       "0        0        1 -0.689798  0.880993                  1.53   \n",
       "1        1        0  0.670993  4.807010                  1.53   \n",
       "2        0        1  0.550363  2.374940                  1.56   \n",
       "3        1        0  0.884750  2.420760                  1.59   \n",
       "4        0        1 -0.343300  2.650810                  1.47   \n",
       "\n",
       "   stringer_zone_top  \n",
       "0               3.37  \n",
       "1               3.37  \n",
       "2               3.41  \n",
       "3               3.47  \n",
       "4               3.41  "
      ]
     },
     "execution_count": 34,
     "metadata": {},
     "output_type": "execute_result"
    }
   ],
   "source": [
    "df_holdout.head()"
   ]
  },
  {
   "cell_type": "code",
   "execution_count": null,
   "id": "1844aedb-8f2c-40d4-8e35-3d8eb51df6d1",
   "metadata": {},
   "outputs": [],
   "source": [
    "holdout_scaled = scaler.transform(df_holdout)"
   ]
  },
  {
   "cell_type": "code",
   "execution_count": null,
   "id": "f691a134-92c9-48bf-9a9b-19e0b61ffcef",
   "metadata": {},
   "outputs": [
    {
     "data": {
      "text/plain": [
       "(18633, 13)"
      ]
     },
     "execution_count": 36,
     "metadata": {},
     "output_type": "execute_result"
    }
   ],
   "source": [
    "holdout_scaled.shape"
   ]
  },
  {
   "cell_type": "code",
   "execution_count": null,
   "id": "3b83ed50-3cae-470e-b6ed-58e600766353",
   "metadata": {},
   "outputs": [
    {
     "data": {
      "text/plain": [
       "array([[ 0.20467313,  0.63249695, -1.60935542, -0.54167899,  1.19185727,\n",
       "        -1.19185727, -0.1131    , -0.6483765 ,  0.6483765 , -0.73932168,\n",
       "        -1.12875966, -0.52883465, -0.2974865 ],\n",
       "       [-0.23354403, -2.0996108 ,  1.48769867,  0.77215283, -0.83902664,\n",
       "         0.83902664,  0.82212381,  1.54231376, -1.54231376,  0.60521778,\n",
       "         2.24615859, -0.52883465, -0.2974865 ],\n",
       "       [-1.03211566,  0.59900207,  0.79634939, -0.42031779, -0.83902664,\n",
       "         0.83902664, -0.27875411, -0.6483765 ,  0.6483765 ,  0.48602843,\n",
       "         0.15548058, -0.10202344,  0.016214  ],\n",
       "       [ 0.61551128, -0.29171415,  1.41522551,  0.32009561, -0.83902664,\n",
       "         0.83902664,  0.66740866,  1.54231376, -1.54231376,  0.81642194,\n",
       "         0.19486878,  0.32478776,  0.48676475],\n",
       "       [-0.71839751, -0.15366726,  0.22657846, -0.06587949, -0.83902664,\n",
       "         0.83902664, -0.37030453, -0.6483765 ,  0.6483765 , -0.39696181,\n",
       "         0.39262644, -1.38245705,  0.016214  ]])"
      ]
     },
     "execution_count": 37,
     "metadata": {},
     "output_type": "execute_result"
    }
   ],
   "source": [
    "holdout_scaled[:5]"
   ]
  },
  {
   "cell_type": "markdown",
   "id": "4963c4a1-afb4-46c0-9f5d-454f548aeed9",
   "metadata": {},
   "source": [
    "---\n",
    "\n",
    "#### Train / Test\n",
    "\n",
    "\n",
    "Create train/test splits.\n",
    "\n",
    "Breakout parameters for easy access."
   ]
  },
  {
   "cell_type": "code",
   "execution_count": null,
   "id": "d876b0d8-23b2-4104-bf0b-95dfe8bf6c3c",
   "metadata": {},
   "outputs": [],
   "source": [
    "# Parameters\n",
    "test_size = 0.20\n",
    "random_state = 24"
   ]
  },
  {
   "cell_type": "code",
   "execution_count": null,
   "id": "37efe2d2-1e8c-405f-9fed-b99c75d527a2",
   "metadata": {},
   "outputs": [],
   "source": [
    "X_train, X_test, y_train, y_test = train_test_split(X_scaled, df_y, test_size=test_size\n",
    "                                                    ,stratify=df_y, random_state = random_state)"
   ]
  },
  {
   "cell_type": "markdown",
   "id": "e479dfc0-7a7c-4456-b3d9-1f54218ea289",
   "metadata": {},
   "source": [
    "---  \n",
    "\n",
    "<span style=\"font-size:0.5em;\">Tag 2</span>\n",
    "\n",
    "### Build Model<a id='build_model'></a>\n",
    "\n",
    "<span style=\"font-size:0.5em;\"><a href='#toc_4'>Back to TOC</a></span>"
   ]
  },
  {
   "cell_type": "markdown",
   "id": "6d0cf42b-b297-4773-b486-a3f634f56aff",
   "metadata": {},
   "source": [
    "---\n",
    "\n",
    "#### First Neural Network Model\n",
    "\n",
    "Let's set up our initial parameters and build our models.\n",
    "\n",
    "We will use the Kera Sequential model."
   ]
  },
  {
   "cell_type": "code",
   "execution_count": null,
   "id": "01880783-1cad-489a-b799-3657c70443e0",
   "metadata": {},
   "outputs": [],
   "source": [
    "# Initial Parameters\n",
    "num_inputs = X_train.shape[1]\n",
    "num_units_dense_1 = 2\n",
    "num_outputs = 1\n",
    "activ_dense = 'sigmoid'\n",
    "activ_output = 'sigmoid'\n",
    "\n",
    "n_epochs = 2\n",
    "val_split = 0.10"
   ]
  },
  {
   "cell_type": "code",
   "execution_count": null,
   "id": "451d68c5-95a3-4e3e-99ed-20e43122b652",
   "metadata": {
    "tags": []
   },
   "outputs": [
    {
     "name": "stdout",
     "output_type": "stream",
     "text": [
      "Model: \"seq_model_strike\"\n",
      "_________________________________________________________________\n",
      " Layer (type)                Output Shape              Param #   \n",
      "=================================================================\n",
      " Hidden_1 (Dense)            (None, 2)                 28        \n",
      "                                                                 \n",
      " Output (Dense)              (None, 1)                 3         \n",
      "                                                                 \n",
      "=================================================================\n",
      "Total params: 31\n",
      "Trainable params: 31\n",
      "Non-trainable params: 0\n",
      "_________________________________________________________________\n"
     ]
    },
    {
     "name": "stderr",
     "output_type": "stream",
     "text": [
      "2022-05-11 18:35:10.987610: W tensorflow/stream_executor/platform/default/dso_loader.cc:64] Could not load dynamic library 'libcuda.so.1'; dlerror: libcuda.so.1: cannot open shared object file: No such file or directory\n",
      "2022-05-11 18:35:10.987644: W tensorflow/stream_executor/cuda/cuda_driver.cc:269] failed call to cuInit: UNKNOWN ERROR (303)\n",
      "2022-05-11 18:35:10.987664: I tensorflow/stream_executor/cuda/cuda_diagnostics.cc:156] kernel driver does not appear to be running on this host (5f0805e5-29cf-428b-85fd-f6d5338e7405): /proc/driver/nvidia/version does not exist\n",
      "2022-05-11 18:35:10.987876: I tensorflow/core/platform/cpu_feature_guard.cc:151] This TensorFlow binary is optimized with oneAPI Deep Neural Network Library (oneDNN) to use the following CPU instructions in performance-critical operations:  AVX2 AVX512F FMA\n",
      "To enable them in other operations, rebuild TensorFlow with the appropriate compiler flags.\n"
     ]
    },
    {
     "data": {
      "image/png": "[encoded data removed]",
      "text/plain": [
       "<IPython.core.display.Image object>"
      ]
     },
     "execution_count": 41,
     "metadata": {},
     "output_type": "execute_result"
    }
   ],
   "source": [
    "# Create a Sequential model\n",
    "model = Sequential(name='seq_model_strike')\n",
    "\n",
    "# Add an input layer and a hidden layer with 10 neurons\n",
    "model.add(Dense(num_units_dense_1, input_shape=(num_inputs,)\n",
    "                ,activation=activ_dense, name='Hidden_1'))\n",
    "\n",
    "# Add a 1-neuron output layer\n",
    "model.add(Dense(num_outputs, activation=activ_output, name='Output'))\n",
    "\n",
    "# Compile your model\n",
    "model.compile(loss='binary_crossentropy', optimizer='adam'\n",
    "              ,metrics=['accuracy']\n",
    "             )\n",
    "\n",
    "# Summarise your model\n",
    "model.summary()\n",
    "\n",
    "plot_model(model)"
   ]
  },
  {
   "cell_type": "code",
   "execution_count": null,
   "id": "ff10c672-e2ed-4de6-9186-c4eacd575a22",
   "metadata": {},
   "outputs": [
    {
     "data": {
      "text/plain": [
       "'To keep it realtively simple, we chose to use 2 nodes in 1 hidden layer.'"
      ]
     },
     "execution_count": 42,
     "metadata": {},
     "output_type": "execute_result"
    }
   ],
   "source": [
    "f\"To keep it realtively simple, we chose to use {num_units_dense_1} nodes in 1 hidden layer.\""
   ]
  },
  {
   "cell_type": "markdown",
   "id": "6f74e14c-d46d-4183-9ccd-515e705d45ba",
   "metadata": {},
   "source": [
    "---\n",
    "\n",
    "#### Model training\n",
    "\n",
    "We will save the model `History`."
   ]
  },
  {
   "cell_type": "code",
   "execution_count": null,
   "id": "fe7ec8c3-7d81-4886-b39d-68bd1e9b6c59",
   "metadata": {},
   "outputs": [
    {
     "name": "stdout",
     "output_type": "stream",
     "text": [
      "Epoch 1/2\n",
      "7897/7897 [==============================] - 8s 959us/step - loss: 0.5966 - accuracy: 0.6868 - val_loss: 0.5460 - val_accuracy: 0.6876\n",
      "Epoch 2/2\n",
      "7897/7897 [==============================] - 8s 951us/step - loss: 0.4816 - accuracy: 0.7448 - val_loss: 0.4408 - val_accuracy: 0.7758\n"
     ]
    }
   ],
   "source": [
    "# Train model\n",
    "mod_hist =  model.fit(X_train, y_train, epochs = n_epochs\n",
    "                        ,validation_split=val_split)"
   ]
  },
  {
   "cell_type": "markdown",
   "id": "8b180f94-44b2-455f-85d6-b3bad781dc28",
   "metadata": {},
   "source": [
    "Not too bad through 2 epochs. Kind of weird that train accuracy is lower than validation accuracy, but we won't worry too much about it right now; only if we keep seeing it consistently in subsequent runs/tuning.\n",
    "\n",
    "Let's convert the history to a `DataFrame` for easier manipulation."
   ]
  },
  {
   "cell_type": "code",
   "execution_count": null,
   "id": "533134d1-2272-4da3-a7c4-7f8533ad0e05",
   "metadata": {},
   "outputs": [],
   "source": [
    "df_mod_history = (pd.DataFrame(mod_hist.history).reset_index()\n",
    "                  .rename(columns={'index': 'epoch', 'loss': 'train_loss'\n",
    "                                   ,'accuracy': 'train_accuracy'}) \n",
    "                 )"
   ]
  },
  {
   "cell_type": "code",
   "execution_count": null,
   "id": "e9800390-16ea-4f95-918b-f56b0abe9a69",
   "metadata": {},
   "outputs": [
    {
     "data": {
      "application/com.datacamp.data-table.v1+json": {
       "is_truncated": false,
       "table": {
        "data": [
         {
          "epoch": 0,
          "index": 0,
          "train_accuracy": 0.6867782474,
          "train_loss": 0.5966483355,
          "val_accuracy": 0.6876447201,
          "val_loss": 0.5460411906
         },
         {
          "epoch": 1,
          "index": 1,
          "train_accuracy": 0.7448296547,
          "train_loss": 0.4816040099,
          "val_accuracy": 0.7757951617,
          "val_loss": 0.4408456087
         }
        ],
        "schema": {
         "fields": [
          {
           "name": "index",
           "type": "integer"
          },
          {
           "name": "epoch",
           "type": "integer"
          },
          {
           "name": "train_loss",
           "type": "number"
          },
          {
           "name": "train_accuracy",
           "type": "number"
          },
          {
           "name": "val_loss",
           "type": "number"
          },
          {
           "name": "val_accuracy",
           "type": "number"
          }
         ],
         "pandas_version": "0.20.0",
         "primaryKey": [
          "index"
         ]
        }
       },
       "total_rows": 2
      },
      "text/html": [
       "<div>\n",
       "<style scoped>\n",
       "    .dataframe tbody tr th:only-of-type {\n",
       "        vertical-align: middle;\n",
       "    }\n",
       "\n",
       "    .dataframe tbody tr th {\n",
       "        vertical-align: top;\n",
       "    }\n",
       "\n",
       "    .dataframe thead th {\n",
       "        text-align: right;\n",
       "    }\n",
       "</style>\n",
       "<table border=\"1\" class=\"dataframe\">\n",
       "  <thead>\n",
       "    <tr style=\"text-align: right;\">\n",
       "      <th></th>\n",
       "      <th>epoch</th>\n",
       "      <th>train_loss</th>\n",
       "      <th>train_accuracy</th>\n",
       "      <th>val_loss</th>\n",
       "      <th>val_accuracy</th>\n",
       "    </tr>\n",
       "  </thead>\n",
       "  <tbody>\n",
       "    <tr>\n",
       "      <th>0</th>\n",
       "      <td>0</td>\n",
       "      <td>0.596648</td>\n",
       "      <td>0.686778</td>\n",
       "      <td>0.546041</td>\n",
       "      <td>0.687645</td>\n",
       "    </tr>\n",
       "    <tr>\n",
       "      <th>1</th>\n",
       "      <td>1</td>\n",
       "      <td>0.481604</td>\n",
       "      <td>0.744830</td>\n",
       "      <td>0.440846</td>\n",
       "      <td>0.775795</td>\n",
       "    </tr>\n",
       "  </tbody>\n",
       "</table>\n",
       "</div>"
      ],
      "text/plain": [
       "   epoch  train_loss  train_accuracy  val_loss  val_accuracy\n",
       "0      0    0.596648        0.686778  0.546041      0.687645\n",
       "1      1    0.481604        0.744830  0.440846      0.775795"
      ]
     },
     "execution_count": 45,
     "metadata": {},
     "output_type": "execute_result"
    }
   ],
   "source": [
    "df_mod_history"
   ]
  },
  {
   "cell_type": "markdown",
   "id": "75b82fb7-cc4f-4144-b687-4db18a8151b4",
   "metadata": {},
   "source": [
    "Let's do a quick viz on the accuracy over the two epochs."
   ]
  },
  {
   "cell_type": "code",
   "execution_count": null,
   "id": "3e6cc973-5373-433f-b8c2-a622ac601099",
   "metadata": {},
   "outputs": [
    {
     "data": {
      "image/png": "[encoded data removed]",
      "text/plain": [
       "<Figure size 432x288 with 1 Axes>"
      ]
     },
     "metadata": {
      "needs_background": "light"
     },
     "output_type": "display_data"
    }
   ],
   "source": [
    "_ = sns.lineplot(data=df_mod_history, x='epoch', y='train_accuracy')\n",
    "_ = sns.lineplot(data=df_mod_history, x='epoch', y='val_accuracy')\n",
    "# _.set(ylim=(min_y,1))\n",
    "_.set_ylabel(\"Accuracy\")\n",
    "plt.legend(labels=[\"Train\",\"Validation\"])\n",
    "plt.show()"
   ]
  },
  {
   "cell_type": "markdown",
   "id": "0f6e79cb-e3f0-455a-82ac-6f648bd6e434",
   "metadata": {},
   "source": [
    "Let's evaluate the model on the *test* set."
   ]
  },
  {
   "cell_type": "code",
   "execution_count": null,
   "id": "1f17c33f-6312-4dbc-85a7-dbb6c0f15da1",
   "metadata": {
    "tags": []
   },
   "outputs": [
    {
     "name": "stdout",
     "output_type": "stream",
     "text": [
      "2194/2194 [==============================] - 2s 691us/step - loss: 0.4426 - accuracy: 0.7755\n",
      "Accuracy: 0.7754729986190796\n"
     ]
    }
   ],
   "source": [
    "# Evaluate model accuracy on the test set\n",
    "accuracy = model.evaluate(X_test, y_test)[1]\n",
    "\n",
    "# Print accuracy\n",
    "print('Accuracy:', accuracy)"
   ]
  },
  {
   "cell_type": "markdown",
   "id": "c6355848-fc6d-4da7-97b6-99a35e0d8ca9",
   "metadata": {},
   "source": [
    "Test accuracy of .78 is in line with what we saw out of train/val (.74/0.78).\n",
    "\n",
    "Now that we created a single model as a warmup, let's try to hone in on a good candidate using Random Hyperparameter Search."
   ]
  },
  {
   "cell_type": "markdown",
   "id": "64371874-6ccb-4dcd-9988-efc4d1d60c22",
   "metadata": {},
   "source": [
    "---  \n",
    "\n",
    "<span style=\"font-size:0.5em;\">Tag 3</span>\n",
    "\n",
    "### Random Hyperparameter Search<a id='4_random_search'></a>\n",
    "\n",
    "<span style=\"font-size:0.5em;\"><a href='#toc_4'>Back to TOC</a></span>"
   ]
  },
  {
   "cell_type": "markdown",
   "id": "d32db77e-0954-4e50-b131-6f588e283aff",
   "metadata": {},
   "source": [
    "#### Preparation\n",
    "\n",
    "Let's create functions for:\n",
    "- Model build\n",
    "\n",
    "In reviewing methodology to use `keras` with `sklearn`, I found `scikeras`. Their [tutorial](https://www.adriangb.com/scikeras/stable/notebooks/Basic_Usage.html#4.2-Saving-using-Keras-saving-methods) has a lot of good examples on how to leverage `sklearn` functionality but use Keras models, so alot of the following will be leveraging those example codes."
   ]
  },
  {
   "cell_type": "markdown",
   "id": "486a1c5b-763e-437a-a543-cfcffe4d012d",
   "metadata": {},
   "source": [
    "Create model build function to create a binary classification neural network model that ingests the current set of parameters."
   ]
  },
  {
   "cell_type": "markdown",
   "id": "9c13fc67-792c-40a8-8650-5e2178986208",
   "metadata": {},
   "source": [
    "Instantiate a `scikeras` classifier:"
   ]
  },
  {
   "cell_type": "code",
   "execution_count": null,
   "id": "abdca066-0f5a-41f1-b2b2-e8bea3d866b6",
   "metadata": {},
   "outputs": [],
   "source": [
    "clf = KerasClassifier(\n",
    "    model=get_clf,\n",
    "    loss=\"binary_crossentropy\",\n",
    "    optimizer=\"adam\",\n",
    "    optimizer__lr=0.1,\n",
    "    model__hidden_layer_sizes=(100,),\n",
    "    model__dropout=0.5,\n",
    "    verbose=True,\n",
    "    metrics=['binary_accuracy'],\n",
    "    validation_split=0.10\n",
    ")\n",
    "\n",
    "# clf.fit(X_train, y_train)"
   ]
  },
  {
   "cell_type": "markdown",
   "id": "a30f6bad-f5e2-43b0-a86b-a39cc5b84c2e",
   "metadata": {},
   "source": [
    "Let's create a grid of parameters and do a random search to identify the most promising combination.\n"
   ]
  },
  {
   "cell_type": "markdown",
   "id": "5602d0de-e493-44af-9824-6bd90395590f",
   "metadata": {},
   "source": [
    "Create `dict` of parameters to perform random search on."
   ]
  },
  {
   "cell_type": "code",
   "execution_count": null,
   "id": "11c6fda6-91f1-4097-b0d1-cfbec538c5d8",
   "metadata": {},
   "outputs": [],
   "source": [
    "params = {\n",
    "    'optimizer__lr': [0.001, 0.01, 0.05, 0.5],\n",
    "    'model__hidden_layer_sizes': [(100,), (50, 50, )],\n",
    "    'model__dropout': [0, 0.5],\n",
    "    'epochs': [2, 3, 5],\n",
    "    'batch_size': [32, 128, 256]\n",
    "}"
   ]
  },
  {
   "cell_type": "markdown",
   "id": "eec5f704-4d49-4294-8cf0-e13393d6690e",
   "metadata": {},
   "source": [
    "Instantiate the `RandomSearchCV` object:"
   ]
  },
  {
   "cell_type": "code",
   "execution_count": null,
   "id": "86bb9e12-97cc-411b-bd5e-8b7c54146ee0",
   "metadata": {
    "tags": []
   },
   "outputs": [],
   "source": [
    "rs = RandomizedSearchCV(estimator=clf\n",
    "                        ,param_distributions=params\n",
    "                        ,cv=5\n",
    "                        ,refit=True\n",
    "                        ,verbose=True\n",
    "                        ,n_jobs=-1\n",
    "                        )"
   ]
  },
  {
   "cell_type": "markdown",
   "id": "b6bba49d-298c-40a5-a607-d1770c650cee",
   "metadata": {},
   "source": [
    "Fit to the training data!"
   ]
  },
  {
   "cell_type": "code",
   "execution_count": null,
   "id": "23d9e894-be03-4715-8a17-c82d402e0168",
   "metadata": {
    "collapsed": true,
    "jupyter": {
     "outputs_hidden": true
    },
    "tags": []
   },
   "outputs": [
    {
     "name": "stdout",
     "output_type": "stream",
     "text": [
      "Fitting 5 folds for each of 10 candidates, totalling 50 fits\n"
     ]
    },
    {
     "name": "stderr",
     "output_type": "stream",
     "text": [
      "2022-05-11 18:41:38.447289: W tensorflow/stream_executor/platform/default/dso_loader.cc:64] Could not load dynamic library 'libcudart.so.11.0'; dlerror: libcudart.so.11.0: cannot open shared object file: No such file or directory\n",
      "2022-05-11 18:41:38.447316: I tensorflow/stream_executor/cuda/cudart_stub.cc:29] Ignore above cudart dlerror if you do not have a GPU set up on your machine.\n",
      "2022-05-11 18:41:38.480671: W tensorflow/stream_executor/platform/default/dso_loader.cc:64] Could not load dynamic library 'libcudart.so.11.0'; dlerror: libcudart.so.11.0: cannot open shared object file: No such file or directory\n",
      "2022-05-11 18:41:38.480701: I tensorflow/stream_executor/cuda/cudart_stub.cc:29] Ignore above cudart dlerror if you do not have a GPU set up on your machine.\n",
      "2022-05-11 18:41:40.015934: W tensorflow/stream_executor/platform/default/dso_loader.cc:64] Could not load dynamic library 'libcuda.so.1'; dlerror: libcuda.so.1: cannot open shared object file: No such file or directory\n",
      "2022-05-11 18:41:40.015970: W tensorflow/stream_executor/cuda/cuda_driver.cc:269] failed call to cuInit: UNKNOWN ERROR (303)\n",
      "2022-05-11 18:41:40.015990: I tensorflow/stream_executor/cuda/cuda_diagnostics.cc:156] kernel driver does not appear to be running on this host (5f0805e5-29cf-428b-85fd-f6d5338e7405): /proc/driver/nvidia/version does not exist\n",
      "2022-05-11 18:41:40.016203: I tensorflow/core/platform/cpu_feature_guard.cc:151] This TensorFlow binary is optimized with oneAPI Deep Neural Network Library (oneDNN) to use the following CPU instructions in performance-critical operations:  AVX2 AVX512F FMA\n",
      "To enable them in other operations, rebuild TensorFlow with the appropriate compiler flags.\n",
      "2022-05-11 18:41:40.063193: W tensorflow/stream_executor/platform/default/dso_loader.cc:64] Could not load dynamic library 'libcuda.so.1'; dlerror: libcuda.so.1: cannot open shared object file: No such file or directory\n",
      "2022-05-11 18:41:40.063226: W tensorflow/stream_executor/cuda/cuda_driver.cc:269] failed call to cuInit: UNKNOWN ERROR (303)\n",
      "2022-05-11 18:41:40.063247: I tensorflow/stream_executor/cuda/cuda_diagnostics.cc:156] kernel driver does not appear to be running on this host (5f0805e5-29cf-428b-85fd-f6d5338e7405): /proc/driver/nvidia/version does not exist\n",
      "2022-05-11 18:41:40.063457: I tensorflow/core/platform/cpu_feature_guard.cc:151] This TensorFlow binary is optimized with oneAPI Deep Neural Network Library (oneDNN) to use the following CPU instructions in performance-critical operations:  AVX2 AVX512F FMA\n",
      "To enable them in other operations, rebuild TensorFlow with the appropriate compiler flags.\n"
     ]
    },
    {
     "name": "stdout",
     "output_type": "stream",
     "text": [
      "Epoch 1/3\n",
      "Epoch 1/3\n",
      "6318/6318 [==============================] - 19s 3ms/step - loss: 0.2819 - binary_accuracy: 0.8736 - val_loss: 0.1701 - val_binary_accuracy: 0.9284\n",
      "Epoch 2/3\n",
      "6318/6318 [==============================] - 19s 3ms/step - loss: 0.2881 - binary_accuracy: 0.8701 - val_loss: 0.1708 - val_binary_accuracy: 0.9285\n",
      "Epoch 2/3\n",
      "6318/6318 [==============================] - 18s 3ms/step - loss: 0.1987 - binary_accuracy: 0.9176 - val_loss: 0.1653 - val_binary_accuracy: 0.9296\n",
      "Epoch 3/3\n",
      "6318/6318 [==============================] - 18s 3ms/step - loss: 0.2010 - binary_accuracy: 0.9172 - val_loss: 0.1672 - val_binary_accuracy: 0.9267\n",
      "Epoch 3/3\n",
      "6318/6318 [==============================] - 18s 3ms/step - loss: 0.1907 - binary_accuracy: 0.9208 - val_loss: 0.1647 - val_binary_accuracy: 0.9288\n",
      "6318/6318 [==============================] - 18s 3ms/step - loss: 0.1930 - binary_accuracy: 0.9204 - val_loss: 0.1664 - val_binary_accuracy: 0.9277\n",
      "1755/1755 [==============================] - 2s 880us/step\n",
      "1755/1755 [==============================] - 2s 886us/step\n",
      "Epoch 1/3\n",
      "Epoch 1/3\n",
      "6318/6318 [==============================] - 19s 3ms/step - loss: 0.2857 - binary_accuracy: 0.8713 - val_loss: 0.1722 - val_binary_accuracy: 0.9290\n",
      "Epoch 2/3\n",
      "6318/6318 [==============================] - 19s 3ms/step - loss: 0.2886 - binary_accuracy: 0.8698 - val_loss: 0.1796 - val_binary_accuracy: 0.9236\n",
      "Epoch 2/3\n",
      "6318/6318 [==============================] - 19s 3ms/step - loss: 0.2004 - binary_accuracy: 0.9176 - val_loss: 0.1664 - val_binary_accuracy: 0.9282\n",
      "Epoch 3/3\n",
      "6318/6318 [==============================] - 19s 3ms/step - loss: 0.2009 - binary_accuracy: 0.9179 - val_loss: 0.1675 - val_binary_accuracy: 0.9274\n",
      "Epoch 3/3\n",
      "6318/6318 [==============================] - 19s 3ms/step - loss: 0.1925 - binary_accuracy: 0.9209 - val_loss: 0.1694 - val_binary_accuracy: 0.9276\n",
      "6318/6318 [==============================] - 19s 3ms/step - loss: 0.1930 - binary_accuracy: 0.9210 - val_loss: 0.1667 - val_binary_accuracy: 0.9266\n",
      "1755/1755 [==============================] - 2s 928us/step\n",
      "1755/1755 [==============================] - 2s 926us/step\n",
      "Epoch 1/3\n",
      "Epoch 1/3\n",
      "6318/6318 [==============================] - 18s 3ms/step - loss: 0.1854 - binary_accuracy: 0.9182 - val_loss: 0.1852 - val_binary_accuracy: 0.9176\n",
      "Epoch 2/3\n",
      "6318/6318 [==============================] - 19s 3ms/step - loss: 0.2947 - binary_accuracy: 0.8667 - val_loss: 0.1713 - val_binary_accuracy: 0.9283\n",
      "Epoch 2/3\n",
      "6318/6318 [==============================] - 18s 3ms/step - loss: 0.1695 - binary_accuracy: 0.9262 - val_loss: 0.1658 - val_binary_accuracy: 0.9277\n",
      "Epoch 3/3\n",
      "6318/6318 [==============================] - 19s 3ms/step - loss: 0.2042 - binary_accuracy: 0.9169 - val_loss: 0.1657 - val_binary_accuracy: 0.9268\n",
      "Epoch 3/3\n",
      "6318/6318 [==============================] - 18s 3ms/step - loss: 0.1661 - binary_accuracy: 0.9271 - val_loss: 0.1660 - val_binary_accuracy: 0.9293\n",
      "6318/6318 [==============================] - 18s 3ms/step - loss: 0.1944 - binary_accuracy: 0.9204 - val_loss: 0.1673 - val_binary_accuracy: 0.9275\n",
      "1755/1755 [==============================] - 2s 1ms/step\n",
      " 360/1755 [=====>........................] - ETA: 1sEpoch 1/3\n",
      "1755/1755 [==============================] - 2s 994us/stepss: 0.2626 - binary_accuracy: 0.87\n",
      " 668/6318 [==>...........................] - ETA: 12s - loss: 0.2436 - binary_accuracy: 0.8888Epoch 1/3\n",
      "6318/6318 [==============================] - 19s 3ms/step - loss: 0.1855 - binary_accuracy: 0.9191 - val_loss: 0.1684 - val_binary_accuracy: 0.9264\n",
      "Epoch 2/3\n",
      "6318/6318 [==============================] - 19s 3ms/step - loss: 0.1852 - binary_accuracy: 0.9180 - val_loss: 0.1671 - val_binary_accuracy: 0.9277\n",
      "Epoch 2/3\n",
      "6318/6318 [==============================] - 18s 3ms/step - loss: 0.1694 - binary_accuracy: 0.9261 - val_loss: 0.1788 - val_binary_accuracy: 0.9231\n",
      "Epoch 3/3\n",
      "6318/6318 [==============================] - 18s 3ms/step - loss: 0.1689 - binary_accuracy: 0.9259 - val_loss: 0.1720 - val_binary_accuracy: 0.9260\n",
      "Epoch 3/3\n",
      "6318/6318 [==============================] - 18s 3ms/step - loss: 0.1667 - binary_accuracy: 0.9275 - val_loss: 0.1682 - val_binary_accuracy: 0.9268\n",
      "6318/6318 [==============================] - 18s 3ms/step - loss: 0.1660 - binary_accuracy: 0.9278 - val_loss: 0.1609 - val_binary_accuracy: 0.9306\n",
      "1755/1755 [==============================] - 2s 1ms/step\n",
      " 560/1755 [========>.....................] - ETA: 0sEpoch 1/3\n",
      "1755/1755 [==============================] - 2s 951us/stepss: 0.2911 - binary_accuracy: 0.86\n",
      " 557/6318 [=>............................] - ETA: 11s - loss: 0.2594 - binary_accuracy: 0.8778Epoch 1/3\n",
      "6318/6318 [==============================] - 19s 3ms/step - loss: 0.1861 - binary_accuracy: 0.9179 - val_loss: 0.1751 - val_binary_accuracy: 0.9235\n",
      "Epoch 2/3\n",
      "6318/6318 [==============================] - 20s 3ms/step - loss: 0.1841 - binary_accuracy: 0.9194 - val_loss: 0.1717 - val_binary_accuracy: 0.9235\n",
      "Epoch 2/3\n",
      "6318/6318 [==============================] - 20s 3ms/step - loss: 0.1692 - binary_accuracy: 0.9262 - val_loss: 0.1628 - val_binary_accuracy: 0.9297\n",
      "Epoch 3/3\n",
      "6318/6318 [==============================] - 20s 3ms/step - loss: 0.1687 - binary_accuracy: 0.9271 - val_loss: 0.1678 - val_binary_accuracy: 0.9257\n",
      "Epoch 3/3\n",
      "6318/6318 [==============================] - 18s 3ms/step - loss: 0.1662 - binary_accuracy: 0.9278 - val_loss: 0.1646 - val_binary_accuracy: 0.9285\n",
      "6318/6318 [==============================] - 18s 3ms/step - loss: 0.1659 - binary_accuracy: 0.9278 - val_loss: 0.1661 - val_binary_accuracy: 0.9280\n",
      "1755/1755 [==============================] - 2s 986us/step\n",
      " 633/1755 [=========>....................] - ETA: 0sEpoch 1/3\n",
      "1755/1755 [==============================] - 2s 977us/step 0.2134 - binary_accuracy: 0.90\n",
      "505/790 [==================>...........] - ETA: 0s - loss: 0.2023 - binary_accuracy: 0.9101Epoch 1/3\n",
      "790/790 [==============================] - 3s 3ms/step - loss: 0.1941 - binary_accuracy: 0.9143 - val_loss: 0.1836 - val_binary_accuracy: 0.9195\n",
      "Epoch 2/3\n",
      "790/790 [==============================] - 3s 4ms/step - loss: 0.1934 - binary_accuracy: 0.9144 - val_loss: 0.1841 - val_binary_accuracy: 0.9211\n",
      "Epoch 2/3\n",
      "790/790 [==============================] - 3s 3ms/step - loss: 0.1739 - binary_accuracy: 0.9243 - val_loss: 0.1752 - val_binary_accuracy: 0.9231\n",
      "Epoch 3/3\n",
      "790/790 [==============================] - 3s 3ms/step - loss: 0.1770 - binary_accuracy: 0.9229 - val_loss: 0.1730 - val_binary_accuracy: 0.9264\n",
      "Epoch 3/3\n",
      "790/790 [==============================] - 3s 3ms/step - loss: 0.1713 - binary_accuracy: 0.9252 - val_loss: 0.1688 - val_binary_accuracy: 0.9278\n",
      "220/220 [==============================] - 0s 1ms/steposs: 0.1728 - binary_accuracy: 0.92\n",
      "402/790 [==============>...............] - ETA: 0s - loss: 0.1746 - binary_accuracy: 0.9233Epoch 1/3\n",
      "790/790 [==============================] - 2s 3ms/step - loss: 0.1719 - binary_accuracy: 0.9248 - val_loss: 0.1708 - val_binary_accuracy: 0.9247\n",
      "220/220 [==============================] - 0s 1ms/steposs: 0.2146 - binary_accuracy: 0.90\n",
      "524/790 [==================>...........] - ETA: 0s - loss: 0.2028 - binary_accuracy: 0.9096Epoch 1/3\n",
      "790/790 [==============================] - 3s 3ms/step - loss: 0.1943 - binary_accuracy: 0.9139 - val_loss: 0.1876 - val_binary_accuracy: 0.9188\n",
      "Epoch 2/3\n",
      "790/790 [==============================] - 3s 4ms/step - loss: 0.1940 - binary_accuracy: 0.9143 - val_loss: 0.1719 - val_binary_accuracy: 0.9245\n",
      "Epoch 2/3\n",
      "790/790 [==============================] - 3s 3ms/step - loss: 0.1737 - binary_accuracy: 0.9239 - val_loss: 0.1663 - val_binary_accuracy: 0.9273\n",
      "Epoch 3/3\n",
      "790/790 [==============================] - 3s 4ms/step - loss: 0.1755 - binary_accuracy: 0.9238 - val_loss: 0.1685 - val_binary_accuracy: 0.9257\n",
      "Epoch 3/3\n",
      "790/790 [==============================] - 3s 4ms/step - loss: 0.1710 - binary_accuracy: 0.9253 - val_loss: 0.1781 - val_binary_accuracy: 0.9224\n",
      "220/220 [==============================] - 0s 1ms/steposs: 0.1729 - binary_accuracy: 0.925\n",
      "422/790 [===============>..............] - ETA: 0s - loss: 0.1738 - binary_accuracy: 0.9243Epoch 1/3\n",
      "790/790 [==============================] - 2s 3ms/step - loss: 0.1715 - binary_accuracy: 0.9256 - val_loss: 0.1777 - val_binary_accuracy: 0.9232\n",
      "220/220 [==============================] - 0s 1ms/steposs: 0.2156 - binary_accuracy: 0.90\n",
      "483/790 [=================>............] - ETA: 0s - loss: 0.2046 - binary_accuracy: 0.9089Epoch 1/5\n",
      "790/790 [==============================] - 3s 3ms/step - loss: 0.1952 - binary_accuracy: 0.9141 - val_loss: 0.1735 - val_binary_accuracy: 0.9237\n",
      "Epoch 2/3\n",
      "790/790 [==============================] - 3s 4ms/step - loss: 0.1743 - binary_accuracy: 0.9248 - val_loss: 0.1815 - val_binary_accuracy: 0.9180\n",
      "Epoch 3/3\n",
      "790/790 [==============================] - 3s 3ms/step - loss: 0.1719 - binary_accuracy: 0.9250 - val_loss: 0.1663 - val_binary_accuracy: 0.9271\n",
      "220/220 [==============================] - 0s 1ms/step- loss: 1.2824 - binary_accuracy: 0.70\n",
      "2324/6318 [==========>...................] - ETA: 11s - loss: 1.2349 - binary_accuracy: 0.7066Epoch 1/5\n",
      "6318/6318 [==============================] - 19s 3ms/step - loss: 1.1451 - binary_accuracy: 0.6923 - val_loss: 0.6583 - val_binary_accuracy: 0.6863\n",
      "Epoch 2/5\n",
      "6318/6318 [==============================] - 19s 3ms/step - loss: 1.1475 - binary_accuracy: 0.6922 - val_loss: 0.6640 - val_binary_accuracy: 0.6864\n",
      "Epoch 2/5\n",
      "6318/6318 [==============================] - 18s 3ms/step - loss: 0.7634 - binary_accuracy: 0.6853 - val_loss: 0.6283 - val_binary_accuracy: 0.6865\n",
      "Epoch 3/5\n",
      "6318/6318 [==============================] - 18s 3ms/step - loss: 0.7686 - binary_accuracy: 0.6853 - val_loss: 0.6526 - val_binary_accuracy: 0.6864\n",
      "Epoch 3/5\n",
      "6318/6318 [==============================] - 18s 3ms/step - loss: 0.7270 - binary_accuracy: 0.6852 - val_loss: 0.6826 - val_binary_accuracy: 0.6864\n",
      "Epoch 4/5\n",
      "6318/6318 [==============================] - 18s 3ms/step - loss: 0.6661 - binary_accuracy: 0.6860 - val_loss: 0.6145 - val_binary_accuracy: 0.6865\n",
      "2489/6318 [==========>...................] - ETA: 10s - loss: 0.7154 - binary_accuracy: 0.6854Epoch 4/5\n",
      "6318/6318 [==============================] - 18s 3ms/step - loss: 0.6837 - binary_accuracy: 0.6861 - val_loss: 0.6321 - val_binary_accuracy: 0.6866\n",
      "Epoch 5/5\n",
      "6318/6318 [==============================] - 18s 3ms/step - loss: 0.8539 - binary_accuracy: 0.6858 - val_loss: 0.6913 - val_binary_accuracy: 0.6865\n",
      "Epoch 5/5\n",
      "6318/6318 [==============================] - 18s 3ms/step - loss: 0.6494 - binary_accuracy: 0.6857 - val_loss: 0.6300 - val_binary_accuracy: 0.6866\n",
      "1755/1755 [==============================] - 2s 1ms/steposs: 0.7031 - binary_accuracy: 0.68\n",
      "5663/6318 [=========================>....] - ETA: 1s - loss: 0.7007 - binary_accuracy: 0.6866Epoch 1/5\n",
      "6318/6318 [==============================] - 17s 3ms/step - loss: 0.6995 - binary_accuracy: 0.6867 - val_loss: 1.0734 - val_binary_accuracy: 0.6795\n",
      "1755/1755 [==============================] - 2s 1ms/steploss: 1.1895 - binary_accuracy: 0.70\n",
      "2015/6318 [========>.....................] - ETA: 9s - loss: 1.1982 - binary_accuracy: 0.6985Epoch 1/5\n",
      "6318/6318 [==============================] - 17s 3ms/step - loss: 0.9471 - binary_accuracy: 0.6882 - val_loss: 0.8422 - val_binary_accuracy: 0.6861\n",
      "Epoch 2/5\n",
      "6318/6318 [==============================] - 18s 3ms/step - loss: 1.1375 - binary_accuracy: 0.6868 - val_loss: 0.6340 - val_binary_accuracy: 0.6865\n",
      "Epoch 2/5\n",
      "6318/6318 [==============================] - 18s 3ms/step - loss: 0.7260 - binary_accuracy: 0.6861 - val_loss: 0.6831 - val_binary_accuracy: 0.6860\n",
      "Epoch 3/5\n",
      "6318/6318 [==============================] - 18s 3ms/step - loss: 0.8744 - binary_accuracy: 0.6853 - val_loss: 0.6297 - val_binary_accuracy: 0.6866\n",
      "Epoch 3/5\n",
      "6318/6318 [==============================] - 18s 3ms/step - loss: 0.7252 - binary_accuracy: 0.6863 - val_loss: 1.7757 - val_binary_accuracy: 0.6726\n",
      "Epoch 4/5\n",
      "6318/6318 [==============================] - 18s 3ms/step - loss: 0.7071 - binary_accuracy: 0.6861 - val_loss: 0.6168 - val_binary_accuracy: 0.6866\n",
      "Epoch 4/5\n",
      "6318/6318 [==============================] - 18s 3ms/step - loss: 0.6680 - binary_accuracy: 0.6861 - val_loss: 12.1671 - val_binary_accuracy: 0.6865\n",
      "Epoch 5/5\n",
      "6318/6318 [==============================] - 18s 3ms/step - loss: 0.6797 - binary_accuracy: 0.6861 - val_loss: 0.6262 - val_binary_accuracy: 0.6866\n",
      "Epoch 5/5\n",
      "6318/6318 [==============================] - 18s 3ms/step - loss: 0.6860 - binary_accuracy: 0.6862 - val_loss: 0.6311 - val_binary_accuracy: 0.6866\n",
      "1755/1755 [==============================] - 2s 1ms/steposs: 0.8417 - binary_accuracy: 0.68\n",
      "5444/6318 [========================>.....] - ETA: 2s - loss: 0.8336 - binary_accuracy: 0.6860Epoch 1/5\n",
      "6318/6318 [==============================] - 17s 3ms/step - loss: 0.8192 - binary_accuracy: 0.6859 - val_loss: 0.8894 - val_binary_accuracy: 0.6865\n",
      "1755/1755 [==============================] - 2s 1ms/steposs: 1.2912 - binary_accuracy: 0.72\n",
      "2286/6318 [=========>....................] - ETA: 8s - loss: 1.2383 - binary_accuracy: 0.7156Epoch 1/3\n",
      "6318/6318 [==============================] - 18s 3ms/step - loss: 0.9574 - binary_accuracy: 0.6956 - val_loss: 0.6356 - val_binary_accuracy: 0.6846\n",
      "Epoch 2/5\n",
      "6318/6318 [==============================] - 20s 3ms/step - loss: 0.2767 - binary_accuracy: 0.8855 - val_loss: 0.2173 - val_binary_accuracy: 0.9157\n",
      "Epoch 2/3\n",
      "6318/6318 [==============================] - 19s 3ms/step - loss: 0.7385 - binary_accuracy: 0.6861 - val_loss: 0.6106 - val_binary_accuracy: 0.6848\n",
      "Epoch 3/5\n",
      "6318/6318 [==============================] - 18s 3ms/step - loss: 0.2632 - binary_accuracy: 0.8954 - val_loss: 0.2208 - val_binary_accuracy: 0.9191\n",
      "Epoch 3/3\n",
      "6318/6318 [==============================] - 18s 3ms/step - loss: 0.8680 - binary_accuracy: 0.6854 - val_loss: 0.6315 - val_binary_accuracy: 0.6848\n",
      "Epoch 4/5\n",
      "6318/6318 [==============================] - 17s 3ms/step - loss: 0.2636 - binary_accuracy: 0.8965 - val_loss: 0.2148 - val_binary_accuracy: 0.9165\n",
      "1755/1755 [==============================] - 2s 1ms/steposs: 0.6544 - binary_accuracy: 0.68\n",
      "3780/6318 [================>.............] - ETA: 5s - loss: 0.6575 - binary_accuracy: 0.6867Epoch 1/3\n",
      "6318/6318 [==============================] - 16s 3ms/step - loss: 0.8296 - binary_accuracy: 0.6854 - val_loss: 0.6517 - val_binary_accuracy: 0.6848\n",
      "Epoch 5/5\n",
      "6318/6318 [==============================] - 21s 3ms/step - loss: 0.2796 - binary_accuracy: 0.8849 - val_loss: 0.2082 - val_binary_accuracy: 0.9134\n",
      "Epoch 2/3\n",
      "6318/6318 [==============================] - 20s 3ms/step - loss: 0.6483 - binary_accuracy: 0.6855 - val_loss: 0.6162 - val_binary_accuracy: 0.6848\n",
      "1755/1755 [==============================] - 2s 1ms/steposs: 0.2668 - binary_accuracy: 0.89\n",
      "3939/6318 [=================>............] - ETA: 5s - loss: 0.2672 - binary_accuracy: 0.8945Epoch 1/3\n",
      "6318/6318 [==============================] - 17s 3ms/step - loss: 0.2662 - binary_accuracy: 0.8944 - val_loss: 0.2185 - val_binary_accuracy: 0.9188\n",
      "Epoch 3/3\n",
      "6318/6318 [==============================] - 18s 3ms/step - loss: 0.2754 - binary_accuracy: 0.8859 - val_loss: 0.2062 - val_binary_accuracy: 0.9188\n",
      "Epoch 2/3\n",
      "6318/6318 [==============================] - 17s 3ms/step - loss: 0.2680 - binary_accuracy: 0.8960 - val_loss: 0.2222 - val_binary_accuracy: 0.9139\n",
      "1755/1755 [==============================] - 2s 1ms/steposs: 0.2636 - binary_accuracy: 0.89\n",
      "3761/6318 [================>.............] - ETA: 6s - loss: 0.2637 - binary_accuracy: 0.8958Epoch 1/3\n",
      "6318/6318 [==============================] - 17s 3ms/step - loss: 0.2647 - binary_accuracy: 0.8954 - val_loss: 0.2118 - val_binary_accuracy: 0.9191\n",
      "Epoch 3/3\n",
      "6318/6318 [==============================] - 18s 3ms/step - loss: 0.2788 - binary_accuracy: 0.8854 - val_loss: 0.2162 - val_binary_accuracy: 0.9193\n",
      "Epoch 2/3\n",
      "6318/6318 [==============================] - 29s 5ms/step - loss: 0.2639 - binary_accuracy: 0.8967 - val_loss: 0.2101 - val_binary_accuracy: 0.9229\n",
      "1755/1755 [==============================] - 22s 12ms/stepss: 0.2657 - binary_accuracy: 0.89\n",
      "4089/6318 [==================>...........] - ETA: 23s - loss: 0.2652 - binary_accuracy: 0.8940Epoch 1/3\n",
      "6318/6318 [==============================] - 98s 16ms/step - loss: 0.2642 - binary_accuracy: 0.8951 - val_loss: 0.2179 - val_binary_accuracy: 0.9180\n",
      "Epoch 3/3\n",
      "6318/6318 [==============================] - 141s 22ms/step - loss: 0.2799 - binary_accuracy: 0.8845 - val_loss: 0.2211 - val_binary_accuracy: 0.9172\n",
      "4440/6318 [====================>.........] - ETA: 36s - loss: 0.2656 - binary_accuracy: 0.8962Epoch 2/3\n",
      "6318/6318 [==============================] - 136s 21ms/step - loss: 0.2654 - binary_accuracy: 0.8967 - val_loss: 0.2153 - val_binary_accuracy: 0.9163\n",
      "1755/1755 [==============================] - 23s 13ms/stepss: 0.2632 - binary_accuracy: 0.89\n",
      "3674/6318 [================>.............] - ETA: 53s - loss: 0.2637 - binary_accuracy: 0.8965Epoch 1/3\n",
      "1580/1580 [==============================] - 41s 24ms/step - loss: 0.6387 - binary_accuracy: 0.7440 - val_loss: 0.4396 - val_binary_accuracy: 0.6865\n",
      "5778/6318 [==========================>...] - ETA: 10s - loss: 0.2650 - binary_accuracy: 0.8963Epoch 2/3\n",
      "6318/6318 [==============================] - 138s 22ms/step - loss: 0.2651 - binary_accuracy: 0.8961 - val_loss: 0.2058 - val_binary_accuracy: 0.9190\n",
      "1054/1580 [===================>..........] - ETA: 11s - loss: 0.6331 - binary_accuracy: 0.6834Epoch 3/3\n",
      "1580/1580 [==============================] - 36s 23ms/step - loss: 0.6649 - binary_accuracy: 0.6834 - val_loss: 0.6657 - val_binary_accuracy: 0.6848\n",
      "Epoch 3/3\n",
      "1580/1580 [==============================] - 36s 23ms/step - loss: 0.8157 - binary_accuracy: 0.6859 - val_loss: 0.6171 - val_binary_accuracy: 0.6865\n",
      "439/439 [==============================] - 6s 12ms/step loss: 0.2650 - binary_accuracy: 0.89\n",
      "4967/6318 [======================>.......] - ETA: 25s - loss: 0.2648 - binary_accuracy: 0.8970Epoch 1/3\n",
      "6318/6318 [==============================] - 134s 21ms/step - loss: 0.2647 - binary_accuracy: 0.8970 - val_loss: 0.2030 - val_binary_accuracy: 0.9211\n",
      "1580/1580 [==============================] - 42s 25ms/step - loss: 0.5666 - binary_accuracy: 0.7592 - val_loss: 0.6850 - val_binary_accuracy: 0.6856\n",
      "Epoch 2/3\n",
      "1755/1755 [==============================] - 22s 12ms/stepss: 0.8583 - binary_accuracy: 0.67\n",
      " 975/1580 [=================>............] - ETA: 13s - loss: 0.8411 - binary_accuracy: 0.6803Epoch 1/3\n",
      "1580/1580 [==============================] - 36s 23ms/step - loss: 0.7833 - binary_accuracy: 0.6829 - val_loss: 0.5869 - val_binary_accuracy: 0.6867\n",
      "Epoch 3/3\n",
      "1580/1580 [==============================] - 20s 10ms/step - loss: 0.6012 - binary_accuracy: 0.7347 - val_loss: 0.4609 - val_binary_accuracy: 0.6864\n",
      "Epoch 2/3\n",
      "1580/1580 [==============================] - 7s 4ms/step - loss: 0.6347 - binary_accuracy: 0.6865 - val_loss: 0.6139 - val_binary_accuracy: 0.6867\n",
      "439/439 [==============================] - 1s 2ms/step loss: 0.6443 - binary_accuracy: 0.68\n",
      " 873/1580 [===============>..............] - ETA: 2s - loss: 0.6420 - binary_accuracy: 0.6838Epoch 1/3\n",
      "1580/1580 [==============================] - 6s 4ms/step - loss: 0.6505 - binary_accuracy: 0.6848 - val_loss: 0.6360 - val_binary_accuracy: 0.6822\n",
      "Epoch 3/3\n",
      "1580/1580 [==============================] - 8s 4ms/step - loss: 0.6141 - binary_accuracy: 0.7353 - val_loss: 0.5553 - val_binary_accuracy: 0.6864\n",
      "Epoch 2/3\n",
      "1580/1580 [==============================] - 7s 4ms/step - loss: 0.6535 - binary_accuracy: 0.6865 - val_loss: 0.6011 - val_binary_accuracy: 0.6864\n",
      "439/439 [==============================] - 1s 1ms/step loss: 0.7238 - binary_accuracy: 0.68\n",
      " 885/1580 [===============>..............] - ETA: 2s - loss: 0.7469 - binary_accuracy: 0.6829Epoch 1/3\n",
      "1580/1580 [==============================] - 6s 4ms/step - loss: 0.7200 - binary_accuracy: 0.6848 - val_loss: 0.7912 - val_binary_accuracy: 0.6866\n",
      "Epoch 3/3\n",
      "1580/1580 [==============================] - 7s 4ms/step - loss: 0.6705 - binary_accuracy: 0.7412 - val_loss: 0.5164 - val_binary_accuracy: 0.6848\n",
      "Epoch 2/3\n",
      "1580/1580 [==============================] - 7s 4ms/step - loss: 0.6442 - binary_accuracy: 0.6866 - val_loss: 0.5998 - val_binary_accuracy: 0.6865\n",
      "439/439 [==============================] - 1s 2ms/step loss: 0.6796 - binary_accuracy: 0.68\n",
      " 982/1580 [=================>............] - ETA: 2s - loss: 0.7732 - binary_accuracy: 0.6821Epoch 1/2\n",
      "1580/1580 [==============================] - 6s 4ms/step - loss: 0.7173 - binary_accuracy: 0.6843 - val_loss: 0.5461 - val_binary_accuracy: 0.6848\n",
      "Epoch 3/3\n",
      "790/790 [==============================] - 5s 5ms/step - loss: 0.1989 - binary_accuracy: 0.9115 - val_loss: 0.1690 - val_binary_accuracy: 0.9262\n",
      "Epoch 2/2\n",
      "790/790 [==============================] - 4s 5ms/step - loss: 0.1710 - binary_accuracy: 0.9249 - val_loss: 0.1645 - val_binary_accuracy: 0.9296\n",
      "220/220 [==============================] - 0s 2ms/step loss: 0.6245 - binary_accuracy: 0.68\n",
      "1580/1580 [==============================] - 6s 4ms/step - loss: 0.6248 - binary_accuracy: 0.6868 - val_loss: 0.5892 - val_binary_accuracy: 0.6848\n",
      " 29/439 [>.............................] - ETA: 0s Epoch 1/2\n",
      "439/439 [==============================] - 1s 1ms/step\n",
      " 46/790 [>.............................] - ETA: 2s - loss: 0.4385 - binary_accuracy: 0.7789 Epoch 1/2\n",
      "790/790 [==============================] - 4s 4ms/step - loss: 0.1972 - binary_accuracy: 0.9125 - val_loss: 0.1732 - val_binary_accuracy: 0.9223\n",
      "Epoch 2/2\n",
      "790/790 [==============================] - 4s 5ms/step - loss: 0.1955 - binary_accuracy: 0.9128 - val_loss: 0.1702 - val_binary_accuracy: 0.9263\n",
      "Epoch 2/2\n",
      "790/790 [==============================] - 4s 5ms/step - loss: 0.1696 - binary_accuracy: 0.9258 - val_loss: 0.1682 - val_binary_accuracy: 0.9273\n",
      "220/220 [==============================] - 0s 2ms/steposs: 0.1711 - binary_accuracy: 0.92\n",
      "790/790 [==============================] - 3s 4ms/step - loss: 0.1706 - binary_accuracy: 0.9259 - val_loss: 0.1657 - val_binary_accuracy: 0.9282\n",
      "Epoch 1/2\n",
      "220/220 [==============================] - 0s 1ms/step\n",
      " 21/790 [..............................] - ETA: 3s - loss: 0.5938 - binary_accuracy: 0.6674  Epoch 1/2\n",
      "790/790 [==============================] - 4s 4ms/step - loss: 0.2015 - binary_accuracy: 0.9118 - val_loss: 0.1767 - val_binary_accuracy: 0.9223\n",
      "Epoch 2/2\n",
      "790/790 [==============================] - 5s 5ms/step - loss: 0.1976 - binary_accuracy: 0.9128 - val_loss: 0.1643 - val_binary_accuracy: 0.9284\n",
      "Epoch 2/2\n",
      "790/790 [==============================] - 3s 4ms/step - loss: 0.1697 - binary_accuracy: 0.9260 - val_loss: 0.1656 - val_binary_accuracy: 0.9272\n",
      "220/220 [==============================] - 1s 2ms/steposs: 0.1716 - binary_accuracy: 0.925\n",
      "790/790 [==============================] - 4s 5ms/step - loss: 0.1713 - binary_accuracy: 0.9256 - val_loss: 0.1715 - val_binary_accuracy: 0.9251\n",
      "Epoch 1/2\n",
      "220/220 [==============================] - 4s 15ms/steposs: 0.2455 - binary_accuracy: 0.88\n",
      "293/790 [==========>...................] - ETA: 9s - loss: 0.2215 - binary_accuracy: 0.9008Epoch 1/2\n",
      "790/790 [==============================] - 21s 23ms/step - loss: 0.1962 - binary_accuracy: 0.9137 - val_loss: 0.1810 - val_binary_accuracy: 0.9218\n",
      "Epoch 2/2\n",
      "790/790 [==============================] - 22s 25ms/step - loss: 0.1916 - binary_accuracy: 0.9156 - val_loss: 0.1797 - val_binary_accuracy: 0.9227\n",
      "Epoch 2/2\n",
      "790/790 [==============================] - 18s 23ms/step - loss: 0.1748 - binary_accuracy: 0.9231 - val_loss: 0.1658 - val_binary_accuracy: 0.9285\n",
      "220/220 [==============================] - 4s 14ms/stepss: 0.1760 - binary_accuracy: 0.923\n",
      "706/790 [=========================>....] - ETA: 1s - loss: 0.1749 - binary_accuracy: 0.9240Epoch 1/2\n",
      "790/790 [==============================] - 18s 23ms/step - loss: 0.1743 - binary_accuracy: 0.9244 - val_loss: 0.1689 - val_binary_accuracy: 0.9265\n",
      "220/220 [==============================] - 3s 11ms/steposs: 0.2345 - binary_accuracy: 0.89\n",
      "260/790 [========>.....................] - ETA: 11s - loss: 0.2160 - binary_accuracy: 0.9020Epoch 1/2\n",
      "790/790 [==============================] - 24s 26ms/step - loss: 0.1922 - binary_accuracy: 0.9144 - val_loss: 0.1742 - val_binary_accuracy: 0.9246\n",
      "Epoch 2/2\n",
      "790/790 [==============================] - 21s 23ms/step - loss: 0.1918 - binary_accuracy: 0.9158 - val_loss: 0.1744 - val_binary_accuracy: 0.9226\n",
      "Epoch 2/2\n",
      "790/790 [==============================] - 18s 23ms/step - loss: 0.1744 - binary_accuracy: 0.9236 - val_loss: 0.1748 - val_binary_accuracy: 0.9243\n",
      "220/220 [==============================] - 3s 11ms/stepss: 0.1738 - binary_accuracy: \n",
      "790/790 [==============================] - 18s 22ms/step - loss: 0.1737 - binary_accuracy: 0.9242 - val_loss: 0.1777 - val_binary_accuracy: 0.9227\n",
      " 85/220 [==========>...................] - ETA: 1sEpoch 1/2\n",
      "220/220 [==============================] - 3s 13ms/step\n",
      " 65/790 [=>............................] - ETA: 18s - loss: 0.2975 - binary_accuracy: 0.8569Epoch 1/3\n",
      "790/790 [==============================] - 21s 24ms/step - loss: 0.1929 - binary_accuracy: 0.9150 - val_loss: 0.1907 - val_binary_accuracy: 0.9156\n",
      "Epoch 2/2\n",
      "790/790 [==============================] - 19s 23ms/step - loss: 0.1753 - binary_accuracy: 0.9238 - val_loss: 0.1807 - val_binary_accuracy: 0.9204\n",
      "1580/1580 [==============================] - 39s 23ms/step - loss: 0.7319 - binary_accuracy: 0.6858 - val_loss: 0.6239 - val_binary_accuracy: 0.6866\n",
      "Epoch 2/3\n",
      "220/220 [==============================] - 3s 12ms/step loss: 0.6276 - binary_accuracy: 0.68\n",
      " 286/1580 [====>.........................] - ETA: 27s - loss: 0.6263 - binary_accuracy: 0.6869Epoch 1/3\n",
      "1580/1580 [==============================] - 36s 23ms/step - loss: 0.6253 - binary_accuracy: 0.6869 - val_loss: 0.6230 - val_binary_accuracy: 0.6866\n",
      "Epoch 3/3\n",
      "1580/1580 [==============================] - 40s 23ms/step - loss: 0.7188 - binary_accuracy: 0.6859 - val_loss: 0.6287 - val_binary_accuracy: 0.6866\n",
      " 494/1580 [========>.....................] - ETA: 21s - loss: 0.6254 - binary_accuracy: 0.6871Epoch 2/3\n",
      "1580/1580 [==============================] - 36s 23ms/step - loss: 0.6252 - binary_accuracy: 0.6869 - val_loss: 0.6222 - val_binary_accuracy: 0.6866\n",
      "1580/1580 [==============================] - 36s 23ms/step - loss: 0.6258 - binary_accuracy: 0.6869 - val_loss: 0.6282 - val_binary_accuracy: 0.6866\n",
      "Epoch 3/3\n",
      "439/439 [==============================] - 6s 13ms/steploss: 0.6254 - binary_accuracy: 0.687\n",
      "1576/1580 [============================>.] - ETA: 0s - loss: 0.6255 - binary_accuracy: 0.6869Epoch 1/3\n",
      "1580/1580 [==============================] - 34s 22ms/step - loss: 0.6255 - binary_accuracy: 0.6869 - val_loss: 0.6219 - val_binary_accuracy: 0.6866\n",
      "1580/1580 [==============================] - 37s 21ms/step - loss: 0.7118 - binary_accuracy: 0.6858 - val_loss: 0.6314 - val_binary_accuracy: 0.6866\n",
      " 28/439 [>.............................] - ETA: 4sEpoch 2/3\n",
      "439/439 [==============================] - 6s 13ms/step loss: 0.6265 - binary_accuracy: 0.68\n",
      " 608/1580 [==========>...................] - ETA: 20s - loss: 0.6271 - binary_accuracy: 0.6849Epoch 1/3\n",
      "1580/1580 [==============================] - 36s 23ms/step - loss: 0.6253 - binary_accuracy: 0.6869 - val_loss: 0.6220 - val_binary_accuracy: 0.6866\n",
      "Epoch 3/3\n",
      "1580/1580 [==============================] - 41s 24ms/step - loss: 0.6795 - binary_accuracy: 0.6867 - val_loss: 0.6238 - val_binary_accuracy: 0.6866\n",
      "Epoch 2/3\n",
      "1580/1580 [==============================] - 35s 22ms/step - loss: 0.6255 - binary_accuracy: 0.6867 - val_loss: 0.6220 - val_binary_accuracy: 0.6866\n",
      "439/439 [==============================] - 6s 13ms/step loss: 0.6261 - binary_accuracy: 0.68\n",
      "1190/1580 [=====================>........] - ETA: 8s - loss: 0.6260 - binary_accuracy: 0.6862Epoch 1/3\n",
      "1580/1580 [==============================] - 37s 23ms/step - loss: 0.6252 - binary_accuracy: 0.6869 - val_loss: 0.6221 - val_binary_accuracy: 0.6866\n",
      "Epoch 3/3\n",
      "1580/1580 [==============================] - 41s 24ms/step - loss: 0.6829 - binary_accuracy: 0.6866 - val_loss: 0.6236 - val_binary_accuracy: 0.6848\n",
      "Epoch 2/3\n",
      "1580/1580 [==============================] - 37s 24ms/step - loss: 0.6247 - binary_accuracy: 0.6869 - val_loss: 0.6243 - val_binary_accuracy: 0.6866\n",
      "439/439 [==============================] - 6s 13ms/step loss: 0.6240 - binary_accuracy: 0.68\n",
      " 803/1580 [==============>...............] - ETA: 15s - loss: 0.6241 - binary_accuracy: 0.6871Epoch 1/5\n",
      "1580/1580 [==============================] - 35s 22ms/step - loss: 0.6249 - binary_accuracy: 0.6871 - val_loss: 0.6232 - val_binary_accuracy: 0.6848\n",
      "777/790 [============================>.] - ETA: 0s - loss: 0.3174 - binary_accuracy: 0.8575Epoch 3/3\n",
      "790/790 [==============================] - 22s 23ms/step - loss: 0.3154 - binary_accuracy: 0.8586 - val_loss: 0.1879 - val_binary_accuracy: 0.9241\n",
      "Epoch 2/5\n",
      "790/790 [==============================] - 18s 22ms/step - loss: 0.1716 - binary_accuracy: 0.9279 - val_loss: 0.1640 - val_binary_accuracy: 0.9291\n",
      "Epoch 3/5\n",
      "1580/1580 [==============================] - 37s 23ms/step - loss: 0.6254 - binary_accuracy: 0.6871 - val_loss: 0.6239 - val_binary_accuracy: 0.6848\n",
      "790/790 [==============================] - 18s 23ms/step - loss: 0.1604 - binary_accuracy: 0.9310 - val_loss: 0.1606 - val_binary_accuracy: 0.9314\n",
      "Epoch 4/5\n",
      "439/439 [==============================] - 6s 13ms/steposs: 0.1584 - binary_accuracy: 0.93\n",
      "671/790 [========================>.....] - ETA: 2s - loss: 0.1586 - binary_accuracy: 0.9311Epoch 1/5\n",
      "790/790 [==============================] - 17s 21ms/step - loss: 0.1582 - binary_accuracy: 0.9311 - val_loss: 0.1615 - val_binary_accuracy: 0.9296\n",
      "Epoch 5/5\n",
      "790/790 [==============================] - 18s 23ms/step - loss: 0.1574 - binary_accuracy: 0.9310 - val_loss: 0.1607 - val_binary_accuracy: 0.9302\n",
      "790/790 [==============================] - 23s 24ms/step - loss: 0.3342 - binary_accuracy: 0.8472 - val_loss: 0.1930 - val_binary_accuracy: 0.9221\n",
      "Epoch 2/5\n",
      "220/220 [==============================] - 3s 13ms/steposs: 0.1898 - binary_accuracy: 0.\n",
      "389/790 [=============>................] - ETA: 8s - loss: 0.1801 - binary_accuracy: 0.9262Epoch 1/5\n",
      "790/790 [==============================] - 18s 23ms/step - loss: 0.1740 - binary_accuracy: 0.9276 - val_loss: 0.1650 - val_binary_accuracy: 0.9285\n",
      "Epoch 3/5\n",
      "790/790 [==============================] - 23s 24ms/step - loss: 0.3197 - binary_accuracy: 0.8553 - val_loss: 0.1886 - val_binary_accuracy: 0.9245\n",
      "Epoch 2/5\n",
      "790/790 [==============================] - 18s 23ms/step - loss: 0.1608 - binary_accuracy: 0.9309 - val_loss: 0.1602 - val_binary_accuracy: 0.9299\n",
      "Epoch 4/5\n",
      "790/790 [==============================] - 17s 22ms/step - loss: 0.1709 - binary_accuracy: 0.9282 - val_loss: 0.1649 - val_binary_accuracy: 0.9288\n",
      "Epoch 3/5\n",
      "790/790 [==============================] - 17s 22ms/step - loss: 0.1582 - binary_accuracy: 0.9313 - val_loss: 0.1597 - val_binary_accuracy: 0.9298\n",
      "Epoch 5/5\n",
      "790/790 [==============================] - 19s 24ms/step - loss: 0.1601 - binary_accuracy: 0.9308 - val_loss: 0.1604 - val_binary_accuracy: 0.9303\n",
      "Epoch 4/5\n",
      "790/790 [==============================] - 18s 22ms/step - loss: 0.1575 - binary_accuracy: 0.9319 - val_loss: 0.1616 - val_binary_accuracy: 0.9287\n",
      "220/220 [==============================] - 3s 12ms/stepss: 0.1581 - binary_accuracy: 0.93\n",
      "483/790 [=================>............] - ETA: 6s - loss: 0.1577 - binary_accuracy: 0.9316Epoch 1/5\n",
      "790/790 [==============================] - 18s 23ms/step - loss: 0.1578 - binary_accuracy: 0.9313 - val_loss: 0.1619 - val_binary_accuracy: 0.9297\n",
      "Epoch 5/5\n",
      "790/790 [==============================] - 24s 26ms/step - loss: 0.3090 - binary_accuracy: 0.8627 - val_loss: 0.1878 - val_binary_accuracy: 0.9242\n",
      "Epoch 2/5\n",
      "790/790 [==============================] - 17s 22ms/step - loss: 0.1570 - binary_accuracy: 0.9317 - val_loss: 0.1610 - val_binary_accuracy: 0.9296\n",
      "220/220 [==============================] - 3s 12ms/steposs: 0.1783 - binary_accuracy: 0.\n",
      "355/790 [============>.................] - ETA: 9s - loss: 0.1769 - binary_accuracy: 0.9267Epoch 1/5\n",
      "790/790 [==============================] - 18s 23ms/step - loss: 0.1702 - binary_accuracy: 0.9287 - val_loss: 0.1634 - val_binary_accuracy: 0.9298\n",
      "Epoch 3/5\n",
      "790/790 [==============================] - 22s 24ms/step - loss: 0.3209 - binary_accuracy: 0.8556 - val_loss: 0.1901 - val_binary_accuracy: 0.9249\n",
      "Epoch 2/5\n",
      "790/790 [==============================] - 18s 23ms/step - loss: 0.1602 - binary_accuracy: 0.9312 - val_loss: 0.1614 - val_binary_accuracy: 0.9289\n",
      "Epoch 4/5\n",
      "790/790 [==============================] - 19s 24ms/step - loss: 0.1714 - binary_accuracy: 0.9292 - val_loss: 0.1634 - val_binary_accuracy: 0.9296\n",
      "Epoch 3/5\n",
      "790/790 [==============================] - 18s 23ms/step - loss: 0.1582 - binary_accuracy: 0.9317 - val_loss: 0.1597 - val_binary_accuracy: 0.9311\n",
      "Epoch 5/5\n",
      "790/790 [==============================] - 17s 22ms/step - loss: 0.1602 - binary_accuracy: 0.9312 - val_loss: 0.1588 - val_binary_accuracy: 0.9295\n",
      "Epoch 4/5\n",
      "790/790 [==============================] - 20s 25ms/step - loss: 0.1576 - binary_accuracy: 0.9317 - val_loss: 0.1600 - val_binary_accuracy: 0.9305\n",
      "220/220 [==============================] - 4s 14ms/stepss: 0.1577 - binary_accuracy: 0.93\n",
      "790/790 [==============================] - 18s 23ms/step - loss: 0.1578 - binary_accuracy: 0.9321 - val_loss: 0.1596 - val_binary_accuracy: 0.9288\n",
      "Epoch 5/5\n",
      "790/790 [==============================] - 17s 22ms/step - loss: 0.1571 - binary_accuracy: 0.9319 - val_loss: 0.1577 - val_binary_accuracy: 0.9306\n",
      "220/220 [==============================] - 3s 11ms/step\n",
      "Epoch 1/5\n",
      "988/988 [==============================] - 27s 25ms/step - loss: 0.2875 - binary_accuracy: 0.8720 - val_loss: 0.1752 - val_binary_accuracy: 0.9278\n",
      "Epoch 2/5\n",
      "988/988 [==============================] - 24s 24ms/step - loss: 0.1646 - binary_accuracy: 0.9296 - val_loss: 0.1621 - val_binary_accuracy: 0.9298\n",
      "Epoch 3/5\n",
      "988/988 [==============================] - 23s 23ms/step - loss: 0.1585 - binary_accuracy: 0.9315 - val_loss: 0.1605 - val_binary_accuracy: 0.9297\n",
      "Epoch 4/5\n",
      "988/988 [==============================] - 23s 23ms/step - loss: 0.1573 - binary_accuracy: 0.9315 - val_loss: 0.1609 - val_binary_accuracy: 0.9297\n",
      "Epoch 5/5\n",
      "988/988 [==============================] - 22s 22ms/step - loss: 0.1569 - binary_accuracy: 0.9321 - val_loss: 0.1595 - val_binary_accuracy: 0.9311\n"
     ]
    }
   ],
   "source": [
    "rs_results = rs.fit(X_train, y_train)"
   ]
  },
  {
   "cell_type": "markdown",
   "id": "33267f67-55b1-49b0-97d1-07160b93edcb",
   "metadata": {},
   "source": [
    "Ok, let's `pickle` the results and the best model for later reference if we can't complete our review right away."
   ]
  },
  {
   "cell_type": "code",
   "execution_count": null,
   "id": "ef7ad9b2-18d6-456f-a0e3-0511be54e6c6",
   "metadata": {},
   "outputs": [
    {
     "ename": "NameError",
     "evalue": "name 'datetime' is not defined",
     "output_type": "error",
     "traceback": [
      "\u001b[0;31m---------------------------------------------------------------------------\u001b[0m",
      "\u001b[0;31mNameError\u001b[0m                                 Traceback (most recent call last)",
      "\u001b[0;32m/tmp/ipykernel_29659/1137357964.py\u001b[0m in \u001b[0;36m<module>\u001b[0;34m\u001b[0m\n\u001b[1;32m      1\u001b[0m \u001b[0;31m#str_ts = datetime.now().strftime(\"%Y%m%d_%H%M\")\u001b[0m\u001b[0;34m\u001b[0m\u001b[0;34m\u001b[0m\u001b[0;34m\u001b[0m\u001b[0m\n\u001b[0;32m----> 2\u001b[0;31m \u001b[0mstr_ts\u001b[0m \u001b[0;34m=\u001b[0m \u001b[0mdatetime\u001b[0m\u001b[0;34m.\u001b[0m\u001b[0mnow\u001b[0m\u001b[0;34m(\u001b[0m\u001b[0mtimezone\u001b[0m\u001b[0;34m.\u001b[0m\u001b[0mutc\u001b[0m\u001b[0;34m)\u001b[0m\u001b[0;34m.\u001b[0m\u001b[0mastimezone\u001b[0m\u001b[0;34m(\u001b[0m\u001b[0mpytz\u001b[0m\u001b[0;34m.\u001b[0m\u001b[0mtimezone\u001b[0m\u001b[0;34m(\u001b[0m\u001b[0;34m'US/Pacific'\u001b[0m\u001b[0;34m)\u001b[0m\u001b[0;34m)\u001b[0m\u001b[0;34m.\u001b[0m\u001b[0mstrftime\u001b[0m\u001b[0;34m(\u001b[0m\u001b[0;34m\"%Y%m%d_%H%M\"\u001b[0m\u001b[0;34m)\u001b[0m\u001b[0;34m\u001b[0m\u001b[0;34m\u001b[0m\u001b[0m\n\u001b[0m\u001b[1;32m      3\u001b[0m \u001b[0;34m\u001b[0m\u001b[0m\n\u001b[1;32m      4\u001b[0m \u001b[0mres_nm\u001b[0m \u001b[0;34m=\u001b[0m \u001b[0;34m'nn_2nd_pass_rs_'\u001b[0m \u001b[0;34m+\u001b[0m \u001b[0mstr_ts\u001b[0m\u001b[0;34m\u001b[0m\u001b[0;34m\u001b[0m\u001b[0m\n\u001b[1;32m      5\u001b[0m \u001b[0mbest_nm\u001b[0m \u001b[0;34m=\u001b[0m \u001b[0;34m'nn_2nd_pass_best_model_'\u001b[0m \u001b[0;34m+\u001b[0m \u001b[0mstr_ts\u001b[0m\u001b[0;34m\u001b[0m\u001b[0;34m\u001b[0m\u001b[0m\n",
      "\u001b[0;31mNameError\u001b[0m: name 'datetime' is not defined"
     ]
    }
   ],
   "source": [
    "#str_ts = datetime.now().strftime(\"%Y%m%d_%H%M\")\n",
    "str_ts = datetime.now(timezone.utc).astimezone(pytz.timezone('US/Pacific')).strftime(\"%Y%m%d_%H%M\")\n",
    "\n",
    "res_nm = 'nn_2nd_pass_rs_' + str_ts\n",
    "best_nm = 'nn_2nd_pass_best_model_' + str_ts\n",
    "res_file_path = './models/rs_results/' + res_nm + '.pickle'\n",
    "best_file_path = './models/rs_results/' + best_nm + '.pickle'\n",
    "# pred_path = './predictions/test/' + file_nm + '.csv'\n",
    "\n",
    "display(res_file_path)\n",
    "display(best_file_path)\n",
    "\n",
    "with open(res_file_path, 'wb') as f:\n",
    "    # Pickle the 'data' dictionary using the highest protocol available.\n",
    "    pickle.dump(rs_results, f, pickle.HIGHEST_PROTOCOL)\n",
    "\n",
    "with open(best_file_path, 'wb') as f:\n",
    "    # Pickle the 'data' dictionary using the highest protocol available.\n",
    "    pickle.dump(rs_results.best_estimator_, f, pickle.HIGHEST_PROTOCOL)"
   ]
  },
  {
   "cell_type": "markdown",
   "id": "f0b66bf8-e9b9-401d-973a-baaa35979f9f",
   "metadata": {},
   "source": [
    "##### Reload results, if necessary"
   ]
  },
  {
   "cell_type": "code",
   "execution_count": null,
   "id": "64fdd2e2-fee1-4443-b964-ad9927d3db40",
   "metadata": {
    "tags": []
   },
   "outputs": [
    {
     "name": "stdout",
     "output_type": "stream",
     "text": [
      "skipping\n"
     ]
    }
   ],
   "source": [
    "%%script echo skipping\n",
    "# Test loading pickle\n",
    "#load_path = './models/rs_results/classic_rs_1st_pass_20220505_1544.pickle'\n",
    "#load_path = './models/rs_results/nn_rs_2nd_pass_20220507_2122.pickle'\n",
    "res_file_path = './models/rs_results/nn_2nd_pass_rs_20220511_1423.pickle'\n",
    "best_file_path = './models/rs_results/nn_2nd_pass_best_model_20220511_1423.pickle'\n",
    "\n",
    "with open(res_file_path, 'rb') as f:\n",
    "    # The protocol version used is detected automatically, so we do not\n",
    "    # have to specify it.\n",
    "    rs_results = pickle.load(f)\n",
    "\n",
    "with open(best_file_path, 'rb') as f:\n",
    "    # The protocol version used is detected automatically, so we do not\n",
    "    # have to specify it.\n",
    "    rs_best = pickle.load(f)    "
   ]
  },
  {
   "cell_type": "markdown",
   "id": "1697b96e-ded2-4622-9066-c606ac0968c3",
   "metadata": {},
   "source": [
    "#### Results"
   ]
  },
  {
   "cell_type": "markdown",
   "id": "e8584335-2930-431d-99f6-331dadfd78ca",
   "metadata": {
    "tags": []
   },
   "source": [
    "Let's look at the best accuracy score, and the parameters that produced them."
   ]
  },
  {
   "cell_type": "code",
   "execution_count": null,
   "id": "56c3099d-76a6-4dd6-aa70-8d75e3146bcb",
   "metadata": {
    "tags": []
   },
   "outputs": [
    {
     "data": {
      "text/plain": [
       "0.9311350642129046"
      ]
     },
     "metadata": {},
     "output_type": "display_data"
    },
    {
     "data": {
      "text/plain": [
       "{'optimizer__lr': 0.001,\n",
       " 'model__hidden_layer_sizes': (100,),\n",
       " 'model__dropout': 0,\n",
       " 'epochs': 5,\n",
       " 'batch_size': 256}"
      ]
     },
     "metadata": {},
     "output_type": "display_data"
    }
   ],
   "source": [
    "display(rs_results.best_score_, rs_results.best_params_)"
   ]
  },
  {
   "cell_type": "markdown",
   "id": "52e0796f-d45d-40ff-a51d-b8946228714c",
   "metadata": {},
   "source": [
    "Let's look at it as an estimator object."
   ]
  },
  {
   "cell_type": "code",
   "execution_count": null,
   "id": "a9e9216c-e0f7-4240-b526-27c2d59cba77",
   "metadata": {
    "tags": []
   },
   "outputs": [
    {
     "data": {
      "text/plain": [
       "KerasClassifier(\n",
       "\tmodel=<function get_clf at 0x7fb3f3ec1a60>\n",
       "\tbuild_fn=None\n",
       "\twarm_start=False\n",
       "\trandom_state=None\n",
       "\toptimizer=adam\n",
       "\tloss=binary_crossentropy\n",
       "\tmetrics=['binary_accuracy']\n",
       "\tbatch_size=256\n",
       "\tvalidation_batch_size=None\n",
       "\tverbose=True\n",
       "\tcallbacks=None\n",
       "\tvalidation_split=0.1\n",
       "\tshuffle=True\n",
       "\trun_eagerly=False\n",
       "\tepochs=5\n",
       "\toptimizer__lr=0.001\n",
       "\tmodel__hidden_layer_sizes=(100,)\n",
       "\tmodel__dropout=0\n",
       "\tclass_weight=None\n",
       ")"
      ]
     },
     "metadata": {},
     "output_type": "display_data"
    }
   ],
   "source": [
    "rs_best = rs_results.best_estimator_\n",
    "display(rs_best)"
   ]
  },
  {
   "cell_type": "markdown",
   "id": "d09afee0-62be-4806-989f-7318dea5a934",
   "metadata": {},
   "source": [
    "Let's `pickle` the best model itself."
   ]
  },
  {
   "cell_type": "code",
   "execution_count": null,
   "id": "16511070-2c12-4564-bf4a-778d95ff1491",
   "metadata": {
    "tags": []
   },
   "outputs": [
    {
     "data": {
      "text/plain": [
       "KerasClassifier(\n",
       "\tmodel=<function get_clf at 0x7fb3f3ec1a60>\n",
       "\tbuild_fn=None\n",
       "\twarm_start=False\n",
       "\trandom_state=None\n",
       "\toptimizer=adam\n",
       "\tloss=binary_crossentropy\n",
       "\tmetrics=['binary_accuracy']\n",
       "\tbatch_size=256\n",
       "\tvalidation_batch_size=None\n",
       "\tverbose=True\n",
       "\tcallbacks=None\n",
       "\tvalidation_split=0.1\n",
       "\tshuffle=True\n",
       "\trun_eagerly=False\n",
       "\tepochs=5\n",
       "\toptimizer__lr=0.001\n",
       "\tmodel__hidden_layer_sizes=(100,)\n",
       "\tmodel__dropout=0\n",
       "\tclass_weight=None\n",
       ")"
      ]
     },
     "metadata": {},
     "output_type": "display_data"
    }
   ],
   "source": [
    "rs_best = rs_results.best_estimator_\n",
    "display(rs_best)"
   ]
  },
  {
   "cell_type": "markdown",
   "id": "3b471d22-cb85-4a0d-9675-19c8add3058e",
   "metadata": {},
   "source": [
    "Let's look at a high level plot of the model, to make sure it makes sense vis a vis the best params."
   ]
  },
  {
   "cell_type": "code",
   "execution_count": null,
   "id": "48d554ad-fa2d-4b3b-8c86-31483119366e",
   "metadata": {},
   "outputs": [
    {
     "data": {
      "image/png": "[encoded data removed]",
      "text/plain": [
       "<IPython.core.display.Image object>"
      ]
     },
     "execution_count": 76,
     "metadata": {},
     "output_type": "execute_result"
    }
   ],
   "source": [
    "plot_model(rs_best.model_)"
   ]
  },
  {
   "cell_type": "markdown",
   "id": "a16eeb27-85d9-494d-b196-14a6646e8db5",
   "metadata": {},
   "source": [
    "Look at summary:"
   ]
  },
  {
   "cell_type": "code",
   "execution_count": null,
   "id": "ad2e863f-5e3a-45b1-b831-615dc9cfc50d",
   "metadata": {},
   "outputs": [
    {
     "name": "stdout",
     "output_type": "stream",
     "text": [
      "Model: \"sequential\"\n",
      "_________________________________________________________________\n",
      " Layer (type)                Output Shape              Param #   \n",
      "=================================================================\n",
      " dense (Dense)               (None, 100)               1400      \n",
      "                                                                 \n",
      " dropout (Dropout)           (None, 100)               0         \n",
      "                                                                 \n",
      " dense_1 (Dense)             (None, 1)                 101       \n",
      "                                                                 \n",
      "=================================================================\n",
      "Total params: 1,501\n",
      "Trainable params: 1,501\n",
      "Non-trainable params: 0\n",
      "_________________________________________________________________\n"
     ]
    }
   ],
   "source": [
    "rs_best.model_.summary()"
   ]
  },
  {
   "cell_type": "markdown",
   "id": "2d03e6e1-db8d-482b-8b7d-d895fa46da73",
   "metadata": {},
   "source": [
    "Now let's look at performance vs Test."
   ]
  },
  {
   "cell_type": "code",
   "execution_count": null,
   "id": "824a10c9-3c11-47dc-a8a5-2375a2c961ee",
   "metadata": {},
   "outputs": [
    {
     "name": "stdout",
     "output_type": "stream",
     "text": [
      "275/275 [==============================] - 4s 12ms/step\n"
     ]
    },
    {
     "data": {
      "text/plain": [
       "'test accuracy: 0.9314879188511511'"
      ]
     },
     "metadata": {},
     "output_type": "display_data"
    },
    {
     "data": {
      "text/plain": [
       "'train accuracy: 0.9311350642129046'"
      ]
     },
     "metadata": {},
     "output_type": "display_data"
    }
   ],
   "source": [
    "display(f\"test accuracy: {rs_best.score(X_test, y_test)}\")\n",
    "display(f\"train accuracy: {rs_results.best_score_}\")"
   ]
  },
  {
   "cell_type": "markdown",
   "id": "03e66852-72db-426f-98d2-be1220b5b902",
   "metadata": {},
   "source": [
    "Consistent, and aligns."
   ]
  },
  {
   "cell_type": "markdown",
   "id": "ab2ea030-2591-4ca3-b829-ba3b0af68100",
   "metadata": {},
   "source": [
    "Let's get some predictions and review some high level classification metrics:"
   ]
  },
  {
   "cell_type": "code",
   "execution_count": null,
   "id": "fac1d3e6-fa28-4cd8-9fc8-2e17dcdebd7f",
   "metadata": {},
   "outputs": [
    {
     "name": "stdout",
     "output_type": "stream",
     "text": [
      "275/275 [==============================] - 4s 12ms/step\n"
     ]
    }
   ],
   "source": [
    "rs_pred = rs_best.predict(X_test)"
   ]
  },
  {
   "cell_type": "markdown",
   "id": "341b590e-455f-4ebd-90b5-98aa6c97f9d9",
   "metadata": {},
   "source": [
    "*Confusion Matrix*"
   ]
  },
  {
   "cell_type": "code",
   "execution_count": null,
   "id": "195d2d59-ff3f-4679-82ea-2679ec000be6",
   "metadata": {},
   "outputs": [
    {
     "data": {
      "text/plain": [
       "array([[45809,  2403],\n",
       "       [ 2406, 19574]])"
      ]
     },
     "metadata": {},
     "output_type": "display_data"
    }
   ],
   "source": [
    "cm = confusion_matrix(y_test, rs_pred)\n",
    "display(cm)"
   ]
  },
  {
   "cell_type": "markdown",
   "id": "0292f14c-7b50-4080-ab0b-53e08a3beda4",
   "metadata": {},
   "source": [
    "*Accuracy*"
   ]
  },
  {
   "cell_type": "code",
   "execution_count": null,
   "id": "f21711f9-ec8b-4140-bcdc-ac6311466bdc",
   "metadata": {},
   "outputs": [
    {
     "data": {
      "text/plain": [
       "'What % of pitches did we correctly categorize?'"
      ]
     },
     "metadata": {},
     "output_type": "display_data"
    },
    {
     "name": "stdout",
     "output_type": "stream",
     "text": [
      "275/275 [==============================] - 3s 11ms/step\n"
     ]
    },
    {
     "data": {
      "text/plain": [
       "'test accuracy: 0.931'"
      ]
     },
     "metadata": {},
     "output_type": "display_data"
    }
   ],
   "source": [
    "display(\"What % of pitches did we correctly categorize?\")\n",
    "display(f\"test accuracy: {round(rs_best.score(X_test, y_test), 3)}\")"
   ]
  },
  {
   "cell_type": "markdown",
   "id": "5bb9aa10-00aa-4acc-a837-e6e961860d13",
   "metadata": {},
   "source": [
    "*Precision*"
   ]
  },
  {
   "cell_type": "code",
   "execution_count": null,
   "id": "f4f6fb94-fb75-4ce7-ae51-e346e355561d",
   "metadata": {},
   "outputs": [
    {
     "data": {
      "text/plain": [
       "'What % predicted strikes did we get correct?'"
      ]
     },
     "metadata": {},
     "output_type": "display_data"
    },
    {
     "data": {
      "text/plain": [
       "'Positive Predictive Value: 0.891'"
      ]
     },
     "metadata": {},
     "output_type": "display_data"
    }
   ],
   "source": [
    "precision = precision_score(y_test, rs_pred)\n",
    "display(\"What % predicted strikes did we get correct?\")\n",
    "display(f\"Positive Predictive Value: {round(precision,3)}\")"
   ]
  },
  {
   "cell_type": "markdown",
   "id": "4cfc7e9a-f72e-499c-a35c-16958c2a701e",
   "metadata": {},
   "source": [
    "*Recall*"
   ]
  },
  {
   "cell_type": "code",
   "execution_count": null,
   "id": "b527f3fb-3f4e-4442-93cc-13bdd1c3335c",
   "metadata": {},
   "outputs": [
    {
     "data": {
      "text/plain": [
       "'What percent of actual strikes did we get capture?'"
      ]
     },
     "metadata": {},
     "output_type": "display_data"
    },
    {
     "data": {
      "text/plain": [
       "'True Positive Rate: 0.891'"
      ]
     },
     "metadata": {},
     "output_type": "display_data"
    }
   ],
   "source": [
    "recall = recall_score(y_test, rs_pred)\n",
    "display(\"What percent of actual strikes did we get capture?\")\n",
    "display(f\"True Positive Rate: {round(recall, 3)}\")"
   ]
  },
  {
   "cell_type": "markdown",
   "id": "383452e8-766f-4136-ad3a-ef60ebcba0da",
   "metadata": {},
   "source": [
    "*ROC/AUC*"
   ]
  },
  {
   "cell_type": "code",
   "execution_count": null,
   "id": "e485e522-41f6-45ff-a858-d59c19a676de",
   "metadata": {},
   "outputs": [
    {
     "name": "stdout",
     "output_type": "stream",
     "text": [
      "275/275 [==============================] - 3s 11ms/step\n"
     ]
    },
    {
     "data": {
      "image/png": "[encoded data removed]",
      "text/plain": [
       "<Figure size 432x288 with 1 Axes>"
      ]
     },
     "metadata": {
      "needs_background": "light"
     },
     "output_type": "display_data"
    }
   ],
   "source": [
    "fpr, tpr, thresholds = roc_curve(y_test, rs_best.predict_proba(X_test)[:,1])\n",
    "roc_auc = auc(fpr, tpr)\n",
    "roc_display = RocCurveDisplay(fpr=fpr, tpr=tpr, roc_auc=roc_auc)\n",
    "roc_display.plot()\n",
    "plt.show()"
   ]
  },
  {
   "cell_type": "markdown",
   "id": "58409f4f-340e-4e87-b460-e43184b78e21",
   "metadata": {},
   "source": [
    "Again, AUC of 0.98! This is really good, considering rough rule of thumb is >0.85 is a good performing classifier."
   ]
  },
  {
   "cell_type": "markdown",
   "id": "fcb81c07-e26a-4852-b78c-29b06e23e829",
   "metadata": {
    "tags": []
   },
   "source": [
    "---  \n",
    "<span style=\"font-size:0.5em;\">Tag 4</span>\n",
    "\n",
    "### Summary <a id='summary'></a>\n",
    "\n",
    "<span style=\"font-size:0.5em;\"><a href='#toc_4'>Back to TOC</a></span>"
   ]
  },
  {
   "cell_type": "markdown",
   "id": "4fb7b628-7cf4-4bf8-8319-4bbbc4e92f4b",
   "metadata": {},
   "source": [
    "<span style=\"color:blue\">\n",
    "Our metric of choice is Accuracy, and the best model found by the random search over 10 iterations had a:\n",
    "\n",
    "- training accuracy of **0.931**\n",
    "- test accuracy was **0.931** as well\n",
    "\n",
    "Other classification metrics for context are:\n",
    "- Precision/Positive Predictive Value: **0.891**\n",
    "- Recall/True Positive Rate: **0.891**\n",
    "- ROC AUC: **0.98**\n",
    "</span>"
   ]
  },
  {
   "cell_type": "markdown",
   "id": "88b56a2a-eafd-4122-870b-87a59253638b",
   "metadata": {},
   "source": [
    "<span style=\"color:blue\">  \n",
    "All these metrics I would consider to be very good performance, contigent on specific use case of ultimate customer(s). For example a requirement might that the customer might want to maximize PPV as much as possible and would like to target >0.90.\n",
    "</span>"
   ]
  },
  {
   "cell_type": "markdown",
   "id": "ed6e363c-4eaa-4b65-afbd-8d381b1fae49",
   "metadata": {},
   "source": [
    "<span style=\"color:blue\">\n",
    "Compare this to the first run, before the addition of 8 more features:\n",
    "</span>"
   ]
  },
  {
   "cell_type": "markdown",
   "id": "1d383142-7bde-4285-aad8-a74f2ff375c6",
   "metadata": {},
   "source": [
    "<span style=\"color:dodgerblue\">  \n",
    "    \n",
    "- training accuracy of **0.928**  \n",
    "- test accuracy was **0.928** as well\n",
    "\n",
    "Other classification metrics for context are:\n",
    "- Precision/Positive Predictive Value: **0.888**\n",
    "- Recall/True Positive Rate: **0.881**\n",
    "- ROC AUC: **0.98**\n",
    "</span>"
   ]
  },
  {
   "cell_type": "markdown",
   "id": "e78ab78f-2982-410b-adca-a00fc870f17f",
   "metadata": {},
   "source": [
    "<span style=\"color:blue\">\n",
    "2nd run improved on the original runs very slightly, across the board for the most part (with the exception of Recall, rate; BUT we're talking about a difference in the hundredths).\n",
    "    \n",
    "**So is it worth it to add these features? I think on balance it is.** \n",
    "    \n",
    "My reasoning is that I consider the addition of them:\n",
    "\n",
    "- `bside`\n",
    "- `pside`\n",
    "- `break_x`\n",
    "- `break_z`\n",
    "- `angle_x`\n",
    "- `angle_z`\n",
    "- `pitch_speed`\n",
    "        \n",
    "...to be 'costless', on the assumption that whatever process captures the original features that were used in the first run also 'simultaneously' capture these additional features; so no substantial extra effort is required to gather the data.\n",
    "</span>"
   ]
  },
  {
   "cell_type": "markdown",
   "id": "27397eee-fa46-4b8e-80bd-a0f4ba4151e4",
   "metadata": {
    "tags": []
   },
   "source": [
    "---  \n",
    "<span style=\"font-size:0.5em;\">Tag 5</span>\n",
    "\n",
    "### Wrap Up Neural Network <a id='wrap'></a>\n",
    "\n",
    "<span style=\"font-size:0.5em;\"><a href='#toc_4'>Back to TOC</a></span>"
   ]
  },
  {
   "cell_type": "code",
   "execution_count": null,
   "id": "be2dd206-076e-4d83-9be1-96e31454be71",
   "metadata": {
    "tags": []
   },
   "outputs": [
    {
     "name": "stdout",
     "output_type": "stream",
     "text": [
      "skipping\n"
     ]
    }
   ],
   "source": [
    "%%script echo skipping\n",
    "\n",
    "#load_path = './models/rs_results/classic_rs_1st_pass_20220505_1544.pickle'\n",
    "\n",
    "with open(load_path, 'rb') as f:\n",
    "    # The protocol version used is detected automatically, so we do not\n",
    "    # have to specify it.\n",
    "    rs_results = pickle.load(f)"
   ]
  },
  {
   "cell_type": "code",
   "execution_count": null,
   "id": "19178be4-6c26-4f8d-90e6-f0cbc3821500",
   "metadata": {},
   "outputs": [
    {
     "data": {
      "text/plain": [
       "<bound method BaseEstimator.get_params of KerasClassifier(\n",
       "\tmodel=<function get_clf at 0x7fb3f3ec1a60>\n",
       "\tbuild_fn=None\n",
       "\twarm_start=False\n",
       "\trandom_state=None\n",
       "\toptimizer=adam\n",
       "\tloss=binary_crossentropy\n",
       "\tmetrics=['binary_accuracy']\n",
       "\tbatch_size=256\n",
       "\tvalidation_batch_size=None\n",
       "\tverbose=True\n",
       "\tcallbacks=None\n",
       "\tvalidation_split=0.1\n",
       "\tshuffle=True\n",
       "\trun_eagerly=False\n",
       "\tepochs=5\n",
       "\toptimizer__lr=0.001\n",
       "\tmodel__hidden_layer_sizes=(100,)\n",
       "\tmodel__dropout=0\n",
       "\tclass_weight=None\n",
       ")>"
      ]
     },
     "execution_count": 86,
     "metadata": {},
     "output_type": "execute_result"
    }
   ],
   "source": [
    "rs_best.get_params"
   ]
  },
  {
   "cell_type": "code",
   "execution_count": null,
   "id": "5d31a82e-3875-44e2-a395-98492789fa0f",
   "metadata": {},
   "outputs": [
    {
     "name": "stdout",
     "output_type": "stream",
     "text": [
      "Epoch 1/5\n",
      "988/988 [==============================] - 26s 23ms/step - loss: 0.2869 - binary_accuracy: 0.8738 - val_loss: 0.1768 - val_binary_accuracy: 0.9255\n",
      "Epoch 2/5\n",
      "988/988 [==============================] - 23s 23ms/step - loss: 0.1653 - binary_accuracy: 0.9299 - val_loss: 0.1641 - val_binary_accuracy: 0.9282\n",
      "Epoch 3/5\n",
      "988/988 [==============================] - 22s 22ms/step - loss: 0.1586 - binary_accuracy: 0.9313 - val_loss: 0.1603 - val_binary_accuracy: 0.9304\n",
      "Epoch 4/5\n",
      "988/988 [==============================] - 23s 24ms/step - loss: 0.1574 - binary_accuracy: 0.9317 - val_loss: 0.1615 - val_binary_accuracy: 0.9296\n",
      "Epoch 5/5\n",
      "988/988 [==============================] - 22s 22ms/step - loss: 0.1570 - binary_accuracy: 0.9319 - val_loss: 0.1611 - val_binary_accuracy: 0.9292\n"
     ]
    }
   ],
   "source": [
    "# Train model\n",
    "mod_hist_final =  rs_best.fit(X_train, y_train)"
   ]
  },
  {
   "cell_type": "code",
   "execution_count": null,
   "id": "b96ddeb1-7147-4a7e-85a7-f8122c6d7e09",
   "metadata": {},
   "outputs": [],
   "source": [
    "df_res_final = (pd.DataFrame(mod_hist_final.history_).reset_index()\n",
    "                  .rename(columns={'index': 'epoch', 'loss': 'train_loss'\n",
    "                                   ,'binary_accuracy': 'train_binary_accuracy'}) \n",
    "                 )"
   ]
  },
  {
   "cell_type": "code",
   "execution_count": null,
   "id": "ace653bf-a804-4be8-9fde-1a967052ed21",
   "metadata": {},
   "outputs": [
    {
     "data": {
      "application/com.datacamp.data-table.v1+json": {
       "is_truncated": false,
       "table": {
        "data": [
         {
          "epoch": 0,
          "index": 0,
          "train_binary_accuracy": 0.873770237,
          "train_loss": 0.2868840694,
          "val_binary_accuracy": 0.9254549742,
          "val_loss": 0.1768279374
         },
         {
          "epoch": 1,
          "index": 1,
          "train_binary_accuracy": 0.9298983216,
          "train_loss": 0.1652898937,
          "val_binary_accuracy": 0.9281974435,
          "val_loss": 0.1640892327
         },
         {
          "epoch": 2,
          "index": 2,
          "train_binary_accuracy": 0.9313308597,
          "train_loss": 0.1586347669,
          "val_binary_accuracy": 0.9303700328,
          "val_loss": 0.1603201777
         },
         {
          "epoch": 3,
          "index": 3,
          "train_binary_accuracy": 0.931655407,
          "train_loss": 0.157376498,
          "val_binary_accuracy": 0.9295508862,
          "val_loss": 0.1615497172
         },
         {
          "epoch": 4,
          "index": 4,
          "train_binary_accuracy": 0.9319442511,
          "train_loss": 0.1569655687,
          "val_binary_accuracy": 0.9291591048,
          "val_loss": 0.1611349881
         }
        ],
        "schema": {
         "fields": [
          {
           "name": "index",
           "type": "integer"
          },
          {
           "name": "epoch",
           "type": "integer"
          },
          {
           "name": "train_loss",
           "type": "number"
          },
          {
           "name": "train_binary_accuracy",
           "type": "number"
          },
          {
           "name": "val_loss",
           "type": "number"
          },
          {
           "name": "val_binary_accuracy",
           "type": "number"
          }
         ],
         "pandas_version": "0.20.0",
         "primaryKey": [
          "index"
         ]
        }
       },
       "total_rows": 5
      },
      "text/html": [
       "<div>\n",
       "<style scoped>\n",
       "    .dataframe tbody tr th:only-of-type {\n",
       "        vertical-align: middle;\n",
       "    }\n",
       "\n",
       "    .dataframe tbody tr th {\n",
       "        vertical-align: top;\n",
       "    }\n",
       "\n",
       "    .dataframe thead th {\n",
       "        text-align: right;\n",
       "    }\n",
       "</style>\n",
       "<table border=\"1\" class=\"dataframe\">\n",
       "  <thead>\n",
       "    <tr style=\"text-align: right;\">\n",
       "      <th></th>\n",
       "      <th>epoch</th>\n",
       "      <th>train_loss</th>\n",
       "      <th>train_binary_accuracy</th>\n",
       "      <th>val_loss</th>\n",
       "      <th>val_binary_accuracy</th>\n",
       "    </tr>\n",
       "  </thead>\n",
       "  <tbody>\n",
       "    <tr>\n",
       "      <th>0</th>\n",
       "      <td>0</td>\n",
       "      <td>0.286884</td>\n",
       "      <td>0.873770</td>\n",
       "      <td>0.176828</td>\n",
       "      <td>0.925455</td>\n",
       "    </tr>\n",
       "    <tr>\n",
       "      <th>1</th>\n",
       "      <td>1</td>\n",
       "      <td>0.165290</td>\n",
       "      <td>0.929898</td>\n",
       "      <td>0.164089</td>\n",
       "      <td>0.928197</td>\n",
       "    </tr>\n",
       "    <tr>\n",
       "      <th>2</th>\n",
       "      <td>2</td>\n",
       "      <td>0.158635</td>\n",
       "      <td>0.931331</td>\n",
       "      <td>0.160320</td>\n",
       "      <td>0.930370</td>\n",
       "    </tr>\n",
       "    <tr>\n",
       "      <th>3</th>\n",
       "      <td>3</td>\n",
       "      <td>0.157376</td>\n",
       "      <td>0.931655</td>\n",
       "      <td>0.161550</td>\n",
       "      <td>0.929551</td>\n",
       "    </tr>\n",
       "    <tr>\n",
       "      <th>4</th>\n",
       "      <td>4</td>\n",
       "      <td>0.156966</td>\n",
       "      <td>0.931944</td>\n",
       "      <td>0.161135</td>\n",
       "      <td>0.929159</td>\n",
       "    </tr>\n",
       "  </tbody>\n",
       "</table>\n",
       "</div>"
      ],
      "text/plain": [
       "   epoch  train_loss  train_binary_accuracy  val_loss  val_binary_accuracy\n",
       "0      0    0.286884               0.873770  0.176828             0.925455\n",
       "1      1    0.165290               0.929898  0.164089             0.928197\n",
       "2      2    0.158635               0.931331  0.160320             0.930370\n",
       "3      3    0.157376               0.931655  0.161550             0.929551\n",
       "4      4    0.156966               0.931944  0.161135             0.929159"
      ]
     },
     "execution_count": 93,
     "metadata": {},
     "output_type": "execute_result"
    }
   ],
   "source": [
    "df_res_final"
   ]
  },
  {
   "cell_type": "code",
   "execution_count": null,
   "id": "6c02bfa5-1269-4cef-852a-f78109870367",
   "metadata": {},
   "outputs": [
    {
     "data": {
      "image/png": "[encoded data removed]",
      "text/plain": [
       "<Figure size 432x288 with 1 Axes>"
      ]
     },
     "metadata": {
      "needs_background": "light"
     },
     "output_type": "display_data"
    }
   ],
   "source": [
    "_ = sns.lineplot(data=df_res_final, x='epoch', y='train_binary_accuracy')\n",
    "_ = sns.lineplot(data=df_res_final, x='epoch', y='val_binary_accuracy')\n",
    "# _.set(ylim=(min_y,1))\n",
    "_.set_ylabel(\"Accuracy\")\n",
    "_.set(title=\"Accuracy over Epochs\")\n",
    "plt.legend(labels=[\"Train\",\"Validation\"])\n",
    "plt.show()"
   ]
  },
  {
   "cell_type": "markdown",
   "id": "619db236-b482-4d6c-adf0-aa2cff6bd2f7",
   "metadata": {},
   "source": [
    "Within 5 epochs we see that the validation and training loss had stabled off. "
   ]
  },
  {
   "cell_type": "markdown",
   "id": "fb3c1112-854d-48b0-83da-ef4009b04aab",
   "metadata": {},
   "source": [
    "Let's take a quick look at permuation importance to see if it aligns with our intution."
   ]
  },
  {
   "cell_type": "code",
   "execution_count": null,
   "id": "19a0a08a-4b18-4e67-8481-b027f4d307cb",
   "metadata": {},
   "outputs": [
    {
     "name": "stdout",
     "output_type": "stream",
     "text": [
      "1097/1097 [==============================] - 14s 12ms/step\n",
      "INFO:tensorflow:Assets written to: ram:///tmp/tmpxvu79y9r/assets\n",
      "INFO:tensorflow:Assets written to: ram:///tmp/tmp74yet148/assets\n"
     ]
    },
    {
     "name": "stderr",
     "output_type": "stream",
     "text": [
      "2022-05-11 19:31:18.794944: W tensorflow/stream_executor/platform/default/dso_loader.cc:64] Could not load dynamic library 'libcudart.so.11.0'; dlerror: libcudart.so.11.0: cannot open shared object file: No such file or directory\n",
      "2022-05-11 19:31:18.795020: I tensorflow/stream_executor/cuda/cudart_stub.cc:29] Ignore above cudart dlerror if you do not have a GPU set up on your machine.\n"
     ]
    },
    {
     "name": "stdout",
     "output_type": "stream",
     "text": [
      "INFO:tensorflow:Assets written to: ram:///tmp/tmpou8dnz4e/assets\n"
     ]
    },
    {
     "name": "stderr",
     "output_type": "stream",
     "text": [
      "2022-05-11 19:31:22.004667: W tensorflow/stream_executor/platform/default/dso_loader.cc:64] Could not load dynamic library 'libcudart.so.11.0'; dlerror: libcudart.so.11.0: cannot open shared object file: No such file or directory\n",
      "2022-05-11 19:31:22.004699: I tensorflow/stream_executor/cuda/cudart_stub.cc:29] Ignore above cudart dlerror if you do not have a GPU set up on your machine.\n",
      "2022-05-11 19:31:34.288975: W tensorflow/stream_executor/platform/default/dso_loader.cc:64] Could not load dynamic library 'libcuda.so.1'; dlerror: libcuda.so.1: cannot open shared object file: No such file or directory\n",
      "2022-05-11 19:31:34.289124: W tensorflow/stream_executor/cuda/cuda_driver.cc:269] failed call to cuInit: UNKNOWN ERROR (303)\n",
      "2022-05-11 19:31:34.289150: I tensorflow/stream_executor/cuda/cuda_diagnostics.cc:156] kernel driver does not appear to be running on this host (5f0805e5-29cf-428b-85fd-f6d5338e7405): /proc/driver/nvidia/version does not exist\n",
      "2022-05-11 19:31:34.289475: I tensorflow/core/platform/cpu_feature_guard.cc:151] This TensorFlow binary is optimized with oneAPI Deep Neural Network Library (oneDNN) to use the following CPU instructions in performance-critical operations:  AVX2 AVX512F FMA\n",
      "To enable them in other operations, rebuild TensorFlow with the appropriate compiler flags.\n",
      "2022-05-11 19:31:36.694641: W tensorflow/stream_executor/platform/default/dso_loader.cc:64] Could not load dynamic library 'libcuda.so.1'; dlerror: libcuda.so.1: cannot open shared object file: No such file or directory\n",
      "2022-05-11 19:31:36.694796: W tensorflow/stream_executor/cuda/cuda_driver.cc:269] failed call to cuInit: UNKNOWN ERROR (303)\n",
      "2022-05-11 19:31:36.694819: I tensorflow/stream_executor/cuda/cuda_diagnostics.cc:156] kernel driver does not appear to be running on this host (5f0805e5-29cf-428b-85fd-f6d5338e7405): /proc/driver/nvidia/version does not exist\n",
      "2022-05-11 19:31:36.695141: I tensorflow/core/platform/cpu_feature_guard.cc:151] This TensorFlow binary is optimized with oneAPI Deep Neural Network Library (oneDNN) to use the following CPU instructions in performance-critical operations:  AVX2 AVX512F FMA\n",
      "To enable them in other operations, rebuild TensorFlow with the appropriate compiler flags.\n"
     ]
    },
    {
     "name": "stdout",
     "output_type": "stream",
     "text": [
      "1097/1097 [==============================] - 15s 13ms/step\n",
      "1097/1097 [==============================] - 15s 12ms/step\n",
      "1097/1097 [==============================] - 14s 12ms/step\n",
      "1097/1097 [==============================] - 15s 14ms/step\n",
      "1097/1097 [==============================] - 14s 12ms/step\n",
      "1097/1097 [==============================] - 14s 12ms/step\n",
      "1097/1097 [==============================] - 13s 12ms/step\n",
      "1097/1097 [==============================] - 14s 13ms/step\n",
      "1097/1097 [==============================] - 15s 13ms/step\n",
      " 100/1097 [=>............................] - ETA: 12sINFO:tensorflow:Assets written to: ram:///tmp/tmp41p_xqeh/assets\n",
      "1097/1097 [==============================] - 14s 13ms/step\n",
      " 272/1097 [======>.......................] - ETA: 12sINFO:tensorflow:Assets written to: ram:///tmp/tmpdbi9x8rt/assets\n",
      "1097/1097 [==============================] - 15s 14ms/step\n",
      "1097/1097 [==============================] - 15s 13ms/step\n",
      "1097/1097 [==============================] - 14s 13ms/step\n",
      "1097/1097 [==============================] - 13s 12ms/step\n",
      "1097/1097 [==============================] - 14s 13ms/step\n",
      "1097/1097 [==============================] - 14s 13ms/step\n",
      "1097/1097 [==============================] - 12s 11ms/step\n",
      "1097/1097 [==============================] - 14s 12ms/step\n",
      "1097/1097 [==============================] - 11s 10ms/step\n",
      " 628/1097 [================>.............] - ETA: 3sINFO:tensorflow:Assets written to: ram:///tmp/tmp50mhuafp/assets\n",
      "1097/1097 [==============================] - 11s 10ms/step\n",
      "  89/1097 [=>............................] - ETA: 12sINFO:tensorflow:Assets written to: ram:///tmp/tmp259pfdg5/assets\n",
      "1097/1097 [==============================] - 15s 13ms/step\n",
      "1097/1097 [==============================] - 14s 13ms/step\n",
      "1097/1097 [==============================] - 15s 13ms/step\n",
      "1097/1097 [==============================] - 15s 13ms/step\n",
      "1097/1097 [==============================] - 14s 13ms/step\n",
      "1097/1097 [==============================] - 14s 13ms/step\n",
      "1097/1097 [==============================] - 14s 13ms/step\n",
      "1097/1097 [==============================] - 14s 13ms/step\n",
      "1097/1097 [==============================] - 13s 12ms/step\n",
      "1097/1097 [==============================] - 13s 12ms/step\n",
      " 137/1097 [==>...........................] - ETA: 13sINFO:tensorflow:Assets written to: ram:///tmp/tmpwakgtrqj/assets\n",
      " 100/1097 [=>............................] - ETA: 15sINFO:tensorflow:Assets written to: ram:///tmp/tmpqe_6y7u8/assets\n",
      "1097/1097 [==============================] - 15s 13ms/step\n",
      "1097/1097 [==============================] - 14s 12ms/step\n",
      "1097/1097 [==============================] - 14s 13ms/step\n",
      "1097/1097 [==============================] - 14s 12ms/step\n",
      "1097/1097 [==============================] - 15s 13ms/step\n",
      "1097/1097 [==============================] - 14s 13ms/step\n",
      "1097/1097 [==============================] - 13s 12ms/step\n",
      "1097/1097 [==============================] - 14s 12ms/step\n",
      "1097/1097 [==============================] - 15s 13ms/step\n",
      "1097/1097 [==============================] - 14s 13ms/step\n",
      "  49/1097 [>.............................] - ETA: 15sINFO:tensorflow:Assets written to: ram:///tmp/tmp9o90g2ha/assets\n",
      " 908/1097 [=======================>......] - ETA: 2sINFO:tensorflow:Assets written to: ram:///tmp/tmpra1xwtr5/assets\n",
      "1097/1097 [==============================] - 14s 12ms/step\n",
      "1097/1097 [==============================] - 15s 13ms/step\n",
      "1097/1097 [==============================] - 14s 13ms/step\n",
      "1097/1097 [==============================] - 13s 11ms/step\n",
      "1097/1097 [==============================] - 14s 12ms/step\n",
      "1097/1097 [==============================] - 14s 12ms/step\n",
      "1097/1097 [==============================] - 14s 12ms/step\n",
      "1097/1097 [==============================] - 14s 12ms/step\n",
      "1097/1097 [==============================] - 13s 12ms/step\n",
      "  36/1097 [..............................] - ETA: 18sINFO:tensorflow:Assets written to: ram:///tmp/tmp44ph4cn7/assets\n",
      "1097/1097 [==============================] - 13s 11ms/step\n",
      "  63/1097 [>.............................] - ETA: 15sINFO:tensorflow:Assets written to: ram:///tmp/tmptxgkh2_0/assets\n",
      "1097/1097 [==============================] - 14s 12ms/step\n",
      "1097/1097 [==============================] - 14s 12ms/step\n",
      "1097/1097 [==============================] - 14s 12ms/step\n",
      "1097/1097 [==============================] - 14s 13ms/step\n",
      "1097/1097 [==============================] - 14s 13ms/step\n",
      "1097/1097 [==============================] - 14s 12ms/step\n",
      "1097/1097 [==============================] - 14s 13ms/step\n",
      "1097/1097 [==============================] - 13s 12ms/step\n",
      "1097/1097 [==============================] - 14s 12ms/step\n",
      "1097/1097 [==============================] - 14s 13ms/step\n",
      "1097/1097 [==============================] - 14s 12ms/step\n",
      "1097/1097 [==============================] - 14s 12ms/step\n",
      "1097/1097 [==============================] - 10s 8ms/step\n",
      "1097/1097 [==============================] - 12s 11ms/step\n",
      "1097/1097 [==============================] - 13s 12ms/step\n"
     ]
    }
   ],
   "source": [
    "nn_pi = permutation_importance(rs_best, X_train, y_train\n",
    "                                ,n_repeats=5\n",
    "                                ,n_jobs=-1\n",
    "                                ,random_state=random_state)\n"
   ]
  },
  {
   "cell_type": "code",
   "execution_count": null,
   "id": "8896053a-cdec-47db-bf4d-97d894fb8c63",
   "metadata": {},
   "outputs": [
    {
     "data": {
      "text/plain": [
       "array([0.01799428, 0.01097494, 0.00593517, 0.00650433, 0.03035471,\n",
       "       0.02372074, 0.00128149, 0.01899725, 0.01710671, 0.2202538 ,\n",
       "       0.23723942, 0.00041743, 0.0010165 ])"
      ]
     },
     "execution_count": 101,
     "metadata": {},
     "output_type": "execute_result"
    }
   ],
   "source": [
    "nn_pi.importances_mean"
   ]
  },
  {
   "cell_type": "code",
   "execution_count": null,
   "id": "28ee2605-4cdc-4ee3-ac4c-fd91565155b2",
   "metadata": {},
   "outputs": [
    {
     "name": "stdout",
     "output_type": "stream",
     "text": [
      "pz      0.237 +/- 0.001\n",
      "px      0.220 +/- 0.001\n",
      "bside_L 0.030 +/- 0.000\n",
      "bside_R 0.024 +/- 0.000\n",
      "pside_L 0.019 +/- 0.000\n",
      "angle_x 0.018 +/- 0.000\n",
      "pside_R 0.017 +/- 0.000\n",
      "angle_z 0.011 +/- 0.000\n",
      "break_z 0.007 +/- 0.000\n",
      "break_x 0.006 +/- 0.000\n",
      "pitch_speed0.001 +/- 0.000\n",
      "stringer_zone_top0.001 +/- 0.000\n",
      "stringer_zone_bottom0.000 +/- 0.000\n"
     ]
    }
   ],
   "source": [
    "for i in nn_pi.importances_mean.argsort()[::-1]:\n",
    "     if nn_pi.importances_mean[i] - 2 * nn_pi.importances_std[i] > 0:\n",
    "         print(f\"{df_X.columns[i]:<8}\"\n",
    "               f\"{nn_pi.importances_mean[i]:.3f}\"\n",
    "               f\" +/- {nn_pi.importances_std[i]:.3f}\")"
   ]
  },
  {
   "cell_type": "markdown",
   "id": "1aee236d-c9fe-4eb2-baa9-6325d8817944",
   "metadata": {},
   "source": [
    "Here, we see that the `location` has the largest importance, which makes intuitive sense. \n",
    "\n",
    "In the XGB to be fitted in [notebook 6](./06_improved_non_nn_model.ipynb) we see that the top 2 are the same using feature importance, but pitching side and batting side fall way to the bottom. I'm wondering if that has to do with their binarized nature, if given the chance perhaps we should drop one of the OHE columns? This also reminds us that importance metrics should always be taken with a grain of informative salt as they should be viewed in that they are important ONLY to the very singular model it was measured on!"
   ]
  },
  {
   "cell_type": "markdown",
   "id": "ecaddb82-ebe3-408f-9fb6-1f2f517245c8",
   "metadata": {},
   "source": [
    "Having said that, I'm good with recommending the best model for implementation."
   ]
  },
  {
   "cell_type": "markdown",
   "id": "5717a76f-b043-4d6a-bd33-99516307f14f",
   "metadata": {},
   "source": [
    "Let's designate our chosen model."
   ]
  },
  {
   "cell_type": "code",
   "execution_count": null,
   "id": "3bf9cfc1-0ee7-40da-bde6-e56dafdd34ee",
   "metadata": {},
   "outputs": [],
   "source": [
    "# This was the best model from our RandomSearch\n",
    "selected_model = rs_best"
   ]
  },
  {
   "cell_type": "markdown",
   "id": "6f8b3ded-c9e6-4c6a-a9d6-e1c4b742a04f",
   "metadata": {},
   "source": [
    "#### Make Predictions on Holdout\n",
    "\n",
    "##### Predicted Classes"
   ]
  },
  {
   "cell_type": "code",
   "execution_count": null,
   "id": "17a05a80-d4aa-45ee-8e8c-3a2c9789347c",
   "metadata": {},
   "outputs": [
    {
     "data": {
      "text/plain": [
       "<bound method BaseEstimator.get_params of KerasClassifier(\n",
       "\tmodel=<function get_clf at 0x7fb3f3ec1a60>\n",
       "\tbuild_fn=None\n",
       "\twarm_start=False\n",
       "\trandom_state=None\n",
       "\toptimizer=adam\n",
       "\tloss=binary_crossentropy\n",
       "\tmetrics=['binary_accuracy']\n",
       "\tbatch_size=256\n",
       "\tvalidation_batch_size=None\n",
       "\tverbose=True\n",
       "\tcallbacks=None\n",
       "\tvalidation_split=0.1\n",
       "\tshuffle=True\n",
       "\trun_eagerly=False\n",
       "\tepochs=5\n",
       "\toptimizer__lr=0.001\n",
       "\tmodel__hidden_layer_sizes=(100,)\n",
       "\tmodel__dropout=0\n",
       "\tclass_weight=None\n",
       ")>"
      ]
     },
     "execution_count": 125,
     "metadata": {},
     "output_type": "execute_result"
    }
   ],
   "source": [
    "rs_best.get_params"
   ]
  },
  {
   "cell_type": "code",
   "execution_count": null,
   "id": "e7eb03e5-a4c7-495a-b9bf-0d84a13c0ea3",
   "metadata": {},
   "outputs": [
    {
     "data": {
      "text/plain": [
       "308.74050388120065"
      ]
     },
     "execution_count": 114,
     "metadata": {},
     "output_type": "execute_result"
    }
   ],
   "source": [
    "np.sum(holdout_scaled)"
   ]
  },
  {
   "cell_type": "code",
   "execution_count": null,
   "id": "3ac9704b-186e-4fb3-8ed3-d7e7decfad35",
   "metadata": {},
   "outputs": [
    {
     "name": "stdout",
     "output_type": "stream",
     "text": [
      "73/73 [==============================] - 1s 17ms/step\n"
     ]
    },
    {
     "data": {
      "text/plain": [
       "(18633,)"
      ]
     },
     "metadata": {},
     "output_type": "display_data"
    }
   ],
   "source": [
    "pred_classes = selected_model.predict(holdout_scaled)\n",
    "display(pred_classes.shape)"
   ]
  },
  {
   "cell_type": "markdown",
   "id": "22c96b97-73c8-4247-8d9f-52a71bef2acc",
   "metadata": {},
   "source": [
    "Quick look at results:"
   ]
  },
  {
   "cell_type": "code",
   "execution_count": null,
   "id": "8a351767-8557-4f89-b17d-d371e9a44988",
   "metadata": {},
   "outputs": [
    {
     "data": {
      "text/plain": [
       "array([0, 0, 1, 1, 1, 0, 1, 0, 1, 0, 1, 1, 0, 0, 0, 0, 1, 0, 0, 1, 1, 0,\n",
       "       0, 0, 0, 0, 1, 1, 1, 0, 0, 1, 0, 0, 0, 0, 0, 1, 0, 0, 1, 0, 1, 1,\n",
       "       0, 1, 0, 0, 0, 0, 1, 0, 0, 0, 1, 1, 1, 0, 0, 0, 0, 1, 1, 0, 0, 0,\n",
       "       1, 0, 0, 0, 0, 0, 0, 0, 0, 1, 1, 1, 0, 0, 0, 1, 1, 0, 0, 0, 0, 0,\n",
       "       0, 1, 0, 1, 0, 0, 0, 0, 1, 0, 0, 0])"
      ]
     },
     "execution_count": 119,
     "metadata": {},
     "output_type": "execute_result"
    }
   ],
   "source": [
    "pred_classes[:100]"
   ]
  },
  {
   "cell_type": "code",
   "execution_count": null,
   "id": "caf0f58d-dbed-4bad-bdfb-fe1b3e0e9249",
   "metadata": {},
   "outputs": [
    {
     "data": {
      "text/plain": [
       "5580"
      ]
     },
     "execution_count": 120,
     "metadata": {},
     "output_type": "execute_result"
    }
   ],
   "source": [
    "sum(pred_classes)"
   ]
  },
  {
   "cell_type": "markdown",
   "id": "e6c9cb94-03a9-4df3-ba18-610381f0fca3",
   "metadata": {},
   "source": [
    "Look at relative ratio of strikes:"
   ]
  },
  {
   "cell_type": "code",
   "execution_count": null,
   "id": "08d99821-dce7-46af-9013-c258580bb895",
   "metadata": {},
   "outputs": [
    {
     "data": {
      "text/plain": [
       "0    0.700531\n",
       "1    0.299469\n",
       "dtype: float64"
      ]
     },
     "execution_count": 121,
     "metadata": {},
     "output_type": "execute_result"
    }
   ],
   "source": [
    "df_pred = pd.DataFrame(pred_classes)\n",
    "df_pred.value_counts(normalize=True)"
   ]
  },
  {
   "cell_type": "markdown",
   "id": "05429398-45eb-432d-b822-7b753861ddfb",
   "metadata": {},
   "source": [
    "For comparison, relative ratio in training data:"
   ]
  },
  {
   "cell_type": "code",
   "execution_count": null,
   "id": "4cc276f8-8abf-496c-887b-6910db3a2caf",
   "metadata": {},
   "outputs": [
    {
     "data": {
      "text/plain": [
       "0    0.686864\n",
       "1    0.313136\n",
       "Name: strike_bool, dtype: float64"
      ]
     },
     "execution_count": 122,
     "metadata": {},
     "output_type": "execute_result"
    }
   ],
   "source": [
    "df_y.value_counts(normalize=True)"
   ]
  },
  {
   "cell_type": "markdown",
   "id": "f693e034-749c-4c9c-b14e-af6238093572",
   "metadata": {},
   "source": [
    "Fairly close! It could be a _dangerous_ assumption, but based on what we DO know of how the datasets were constructed, the fact that the ratios are so close makes me feel that our results are pretty good."
   ]
  },
  {
   "cell_type": "markdown",
   "id": "6b4cc288-3136-4dbf-a5e9-c17601917676",
   "metadata": {},
   "source": [
    "##### Predicted Probabilities"
   ]
  },
  {
   "cell_type": "code",
   "execution_count": null,
   "id": "c51e9039-fff6-47d8-abaf-90c591b84256",
   "metadata": {},
   "outputs": [
    {
     "name": "stdout",
     "output_type": "stream",
     "text": [
      "73/73 [==============================] - 1s 11ms/step\n"
     ]
    }
   ],
   "source": [
    "pred_proba = selected_model.predict_proba(holdout_scaled)"
   ]
  },
  {
   "cell_type": "code",
   "execution_count": null,
   "id": "819062c0-f39d-424b-9fd1-a1ebae1b3737",
   "metadata": {},
   "outputs": [
    {
     "data": {
      "text/plain": [
       "18633.0"
      ]
     },
     "execution_count": 124,
     "metadata": {},
     "output_type": "execute_result"
    }
   ],
   "source": [
    "np.sum(pred_proba)"
   ]
  },
  {
   "cell_type": "markdown",
   "id": "2cc72931-4384-4875-9a11-927aac642d5b",
   "metadata": {},
   "source": [
    "Quick look at results:"
   ]
  },
  {
   "cell_type": "code",
   "execution_count": null,
   "id": "e3957a12-f55f-4902-b0a4-d10ef3754b6f",
   "metadata": {},
   "outputs": [
    {
     "data": {
      "text/plain": [
       "array([[0.999, 0.001],\n",
       "       [1.   , 0.   ],\n",
       "       [0.004, 0.996],\n",
       "       [0.179, 0.821],\n",
       "       [0.001, 0.999],\n",
       "       [0.999, 0.001],\n",
       "       [0.032, 0.968],\n",
       "       [1.   , 0.   ],\n",
       "       [0.   , 1.   ],\n",
       "       [0.992, 0.008],\n",
       "       [0.023, 0.977],\n",
       "       [0.014, 0.986],\n",
       "       [0.531, 0.469],\n",
       "       [1.   , 0.   ],\n",
       "       [0.987, 0.013],\n",
       "       [0.636, 0.364],\n",
       "       [0.387, 0.613],\n",
       "       [0.994, 0.006],\n",
       "       [1.   , 0.   ],\n",
       "       [0.058, 0.942]], dtype=float32)"
      ]
     },
     "execution_count": 110,
     "metadata": {},
     "output_type": "execute_result"
    }
   ],
   "source": [
    "np.round(pred_proba[:20], 3)"
   ]
  },
  {
   "cell_type": "code",
   "execution_count": null,
   "id": "622123a5-c08d-4d83-bb80-6ce223410370",
   "metadata": {},
   "outputs": [],
   "source": [
    "pred_proba_strike_only = pred_proba[:, -1]"
   ]
  },
  {
   "cell_type": "code",
   "execution_count": null,
   "id": "671350d0-8785-4d79-8e62-992b28848bf7",
   "metadata": {},
   "outputs": [
    {
     "data": {
      "text/plain": [
       "'./predictions/holdout/nn_pred_vals_20220511_1243.csv'"
      ]
     },
     "metadata": {},
     "output_type": "display_data"
    },
    {
     "data": {
      "text/plain": [
       "'./predictions/holdout/nn_pred_proba_20220511_1243.csv'"
      ]
     },
     "metadata": {},
     "output_type": "display_data"
    },
    {
     "data": {
      "text/plain": [
       "'./predictions/holdout/nn_pred_proba_strike_only_20220511_1243.csv'"
      ]
     },
     "metadata": {},
     "output_type": "display_data"
    }
   ],
   "source": [
    "str_ts = datetime.now(timezone.utc).astimezone(pytz.timezone('US/Pacific')).strftime(\"%Y%m%d_%H%M\")\n",
    "file_class_nm = 'nn_pred_vals_' + str_ts\n",
    "file_proba_nm = 'nn_pred_proba_' + str_ts\n",
    "file_proba_stk_nm = 'nn_pred_proba_strike_only_' + str_ts\n",
    "\n",
    "file_class_path = './predictions/holdout/' + file_class_nm + '.csv'\n",
    "file_proba_path = './predictions/holdout/' + file_proba_nm + '.csv'\n",
    "file_proba_stk_path = './predictions/holdout/' + file_proba_stk_nm + '.csv'\n",
    "\n",
    "display(file_class_path)\n",
    "display(file_proba_path)\n",
    "display(file_proba_stk_path)"
   ]
  },
  {
   "cell_type": "code",
   "execution_count": null,
   "id": "2752b888-d122-4243-a213-7dbfea268e04",
   "metadata": {},
   "outputs": [],
   "source": [
    "# save out predicted probabilities\n",
    "np.savetxt(file_class_path, pred_classes, delimiter=\",\")\n",
    "np.savetxt(file_proba_path, pred_proba, delimiter=\",\")\n",
    "np.savetxt(file_proba_stk_path, pred_proba_strike_only, delimiter=\",\")"
   ]
  },
  {
   "cell_type": "markdown",
   "id": "378f5cf0-8e6d-4432-bbf8-912baf94562e",
   "metadata": {},
   "source": [
    "One last administrative task, move the selected model to a more visible location:"
   ]
  },
  {
   "cell_type": "markdown",
   "id": "f73043e8-4709-435d-bc1c-c87aca7af940",
   "metadata": {
    "tags": []
   },
   "source": [
    "---  \n",
    "<span style=\"font-size:0.5em;\">Tag X</span>\n",
    "<a id='the_end_4'></a>\n",
    "\n",
    "<span style=\"font-size:0.5em;\"><a href='#toc_4'>Back to TOC</a></span>"
   ]
  },
  {
   "cell_type": "markdown",
   "id": "0b9ccf2b-f2e9-4410-9be6-a346e03d1a53",
   "metadata": {},
   "source": [
    "Next, let's repeat the exercise of adding the new features to the 'classical' model."
   ]
  }
 ],
 "metadata": {
  "kernelspec": {
   "display_name": "Python 3 (ipykernel)",
   "language": "python",
   "name": "python3"
  },
  "language_info": {
   "codemirror_mode": {
    "name": "ipython",
    "version": 3
   },
   "file_extension": ".py",
   "mimetype": "text/x-python",
   "name": "python",
   "nbconvert_exporter": "python",
   "pygments_lexer": "ipython3",
   "version": "3.8.10"
  },
  "widgets": {
   "application/vnd.jupyter.widget-state+json": {
    "state": {},
    "version_major": 2,
    "version_minor": 0
   }
  }
 },
 "nbformat": 4,
 "nbformat_minor": 5
}
