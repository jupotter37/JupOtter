{
 "cells": [
  {
   "cell_type": "markdown",
   "id": "ef7b2ea4",
   "metadata": {},
   "source": [
    "# Run this cell first"
   ]
  },
  {
   "cell_type": "code",
   "execution_count": null,
   "id": "7c7c5e01",
   "metadata": {},
   "outputs": [],
   "source": [
    "# this code enables the automated feedback. If you remove this, you won't get any feedback\n",
    "# so don't delete this cell!\n",
    "try:\n",
    "  import AutoFeedback\n",
    "except (ModuleNotFoundError, ImportError):\n",
    "  %pip install AutoFeedback\n",
    "  import AutoFeedback\n",
    "\n",
    "try:\n",
    "  from testsrc import test_main\n",
    "except (ModuleNotFoundError, ImportError):\n",
    "  %pip install \"git+https://github.com/autofeedback-exercises/exercises.git#subdirectory=New-SOR3012/Inhomogeneity\"\n",
    "  from testsrc import test_main\n",
    "\n",
    "def runtest(tlist):\n",
    "  import unittest\n",
    "  from contextlib import redirect_stderr\n",
    "  from os import devnull\n",
    "  with redirect_stderr(open(devnull, 'w')):\n",
    "    suite = unittest.TestSuite()\n",
    "    for tname in tlist:\n",
    "      suite.addTest(eval(f\"test_main.UnitTests.{tname}\"))\n",
    "    runner = unittest.TextTestRunner()\n",
    "    try:\n",
    "      runner.run(suite)\n",
    "    except AssertionError:\n",
    "      pass"
   ]
  },
  {
   "cell_type": "markdown",
   "id": "ebde5053",
   "metadata": {},
   "source": [
    "# Introduction\n",
    "\n",
    "Markovianity is a pretty extreme assumption to make about a stochastic (random) process. For the reasons discussed in the following video it is usually not realistic.  In this workbook we are thus going to set about relaxing this assumption so you can create more realistic models for your FCT project. "
   ]
  },
  {
   "cell_type": "code",
   "execution_count": null,
   "id": "500ac50e",
   "metadata": {},
   "outputs": [],
   "source": [
    "%%HTML\n",
    "<iframe width=\"560\" height=\"315\" src=\"https://www.youtube.com/embed/q2843QDkb1Q?si=5_5zwdgieA8KoSko\" title=\"YouTube video player\" frameborder=\"0\" allow=\"accelerometer; autoplay; clipboard-write; encrypted-media; gyroscope; picture-in-picture; web-share\" referrerpolicy=\"strict-origin-when-cross-origin\" allowfullscreen></iframe>"
   ]
  },
  {
   "cell_type": "markdown",
   "id": "935cd3ac",
   "metadata": {},
   "source": [
    "# Revising the poisson process \n",
    "\n",
    "Lets start with a litte revision of the ideas that we introduced in the last block of exercises.  In the cell below, I have started writing a class for simulating the Poisson process.  I have thus used the structures you started to use at the end of that workbook to complete a task that you will have done at the start.  The idea is that I should be able to advance time the time stored in the property `self.clock` to the next event by calling the `advance_time` function from the `Poisson` class.  Thre is only one type of event here - arrivals - and the times between these arrivals are generated using the `generate_interarrival` method.\n",
    "\n",
    "You should be able to use the ideas that were covered in the block on Markov chains in continuous time to complete this code.\n",
    "\n",
    "Also note that after your class definition that uses your code to produce a graph showing the number of events as a function of time."
   ]
  },
  {
   "cell_type": "code",
   "execution_count": null,
   "id": "c2e2438f",
   "metadata": {},
   "outputs": [],
   "source": [
    "import numpy as np\n",
    "import matplotlib.pyplot as plt\n",
    "\n",
    "class Poisson : \n",
    "    def __init__(self, lamd) : \n",
    "        self.lamd = lamd\n",
    "        self.clock = 0\n",
    "        \n",
    "    def advance_time(self) :\n",
    "        pass\n",
    "        \n",
    "    def generate_interarrival(self) :\n",
    "        pass\n",
    "    \n",
    "# This is my code for generating the graph -- you don't need to modify this\n",
    "lamd, nevents = 2.0, 100\n",
    "times, number, g = np.zeros(nevents), np.linspace(1,nevents,nevents), Poisson(lamd)\n",
    "for i in range(nevents) : \n",
    "    g.advance_time()\n",
    "    times[i] = g.clock\n",
    "    \n",
    "plt.plot( times, number, 'ko' )\n",
    "plt.xlabel(\"Time / s\")\n",
    "plt.ylabel(\"Number of events\")\n",
    "\n",
    "# This code is required for the autofeedback- don't delete it!\n",
    "fighand = plt.gca()"
   ]
  },
  {
   "cell_type": "code",
   "execution_count": null,
   "id": "ad1e3ed3",
   "metadata": {},
   "outputs": [],
   "source": [
    "runtest(['test_plot'])"
   ]
  },
  {
   "cell_type": "markdown",
   "id": "767a3c40",
   "metadata": {},
   "source": [
    "# Modifying the poisson process\n",
    "\n",
    "For a Poisson process the times between events are samples from an exponential distribution.  We use this distribution because it ensures that the Poisson process has the Markov property (i.e. it has no memory).  This distribution is used for service and interarrival times in the M/M/1 queue for the same reason - using the exponential distribution ensures that the queue model has the Markov property.\n",
    "\n",
    "It is hopefully obvious, however, that it is easy to replace the exponential random variable in the code that we have just written with another type of continuous random variable.  Furhtermore, replacing the exponential random variables with another type of random variable is the first method that we have for generating a stochatic process that does not have the Markov property.\n",
    "\n",
    "I would like you to use this idea in the following exercise to generate a modified version of the Poisson process code.  Now the interarrival times between events should be samples from the following distribution:\n",
    "\n",
    "$$\n",
    "f(x) = \\frac{1}{\\sqrt{2\\pi}} \\exp\\left( - \\frac{(x-4)^2}{2} \\right)\n",
    "$$\n",
    "\n",
    "I have written code after your class definition that uses your code to produce a graph showing the number of events as a function of time."
   ]
  },
  {
   "cell_type": "code",
   "execution_count": null,
   "id": "6213c1a8",
   "metadata": {},
   "outputs": [],
   "source": [
    "class GeneralPoisson : \n",
    "    def __init__(self) : \n",
    "        self.clock = 0\n",
    "        \n",
    "    def advance_time(self) :\n",
    "        pass\n",
    "        \n",
    "    def generate_interarrival(self) :\n",
    "        pass\n",
    "    \n",
    "\n",
    "# This is my code for generating the graph -- you don't need to modify this\n",
    "nevents = 100\n",
    "times, number, g = np.zeros(nevents), np.linspace(1,nevents,nevents), GeneralPoisson()\n",
    "for i in range(nevents) : \n",
    "    g.advance_time()\n",
    "    times[i] = g.clock\n",
    "    \n",
    "plt.plot( times, number, 'ko' )\n",
    "plt.xlabel(\"Time / s\")\n",
    "plt.ylabel(\"Number of events\")\n",
    "\n",
    "# This code is required for the autofeedback- don't delete it!\n",
    "fighand = plt.gca()\n"
   ]
  },
  {
   "cell_type": "code",
   "execution_count": null,
   "id": "c6b14ef6",
   "metadata": {},
   "outputs": [],
   "source": [
    "runtest(['test_plot_2'])"
   ]
  },
  {
   "cell_type": "markdown",
   "id": "88094399",
   "metadata": {},
   "source": [
    "# Setting up rate functions\n",
    "\n",
    "The video at the start of this workbook introduced the inhomogenous Poisson Process. It is important to note that the code that you have just written with the modified interarrival time **does not** generate an inhomogenous Poisson process.  The stochastic process that this code generated still has the property of homogeneity as the distribution for the interarrival time did not change with time.  There is thus no way that you could use this function to describe a situation such as that in the following statement.\n",
    "\n",
    "_Customers do not arrive at a uniform rate during the day. There is usually a rush from 9:00-10:00, at lunch from 12:00-13:00, at around 15:00-16:00 and from 18:00-19:00 when folks leave work and head home. During these busy periods, the average rate of arrivals is approximately 30 customers per hour. In less busy times, the rate of arrivals is ten customers per hour._\n",
    "\n",
    "To deal with this situation we need to allow our random variable parameters to change as a function of time.  In other words, and as discussed in the video, we need to introduce a function $\\lambda(t)$ that tells us the rate at difference times of the day.\n",
    "\n",
    "Given the description above we might use the function:\n",
    "\n",
    "$$\n",
    "\\lambda(t') = \\begin{cases} \n",
    "0.5 & \\textrm{if} \\qquad 0 \\le t' < 60 \\\\\n",
    "1/6 & \\textrm{if} \\qquad 60 \\le t' < 180 \\\\\n",
    "0.5 & \\textrm{if} \\qquad 180 \\le t' < 240 \\\\\n",
    "1/6 & \\textrm{if} \\qquad 240 \\le t' < 360 \\\\\n",
    "0.5 & \\textrm{if} \\qquad 360 \\le t' < 420 \\\\\n",
    "1/6 & \\textrm{if} \\qquad 420 \\le t' < 540 \\\\\n",
    "0.5 & \\textrm{if} \\qquad 5400 \\le t' < 600 \\\\\n",
    "\\end{cases}\n",
    "$$\n",
    "\n",
    "for $\\lambda(t)$.  Furthermore, to ensure that $t'$ is between 0 and 600 (and thus telling you the time of day) you can do the following transformation\n",
    "\n",
    "$$\n",
    "t' = t - 600 \\times \\textrm{floor}\\left( \\frac{t}{600} \\right)\n",
    "$$\n",
    "\n",
    "This ensures that you subtract 600 minutes from the time if the time you are given is at some point on day 2.\n",
    "\n",
    "Your task in the following exercise is to implement a function called `rate` that takes the time `t` in input and that returns the rate as calculated using the formulas above."
   ]
  },
  {
   "cell_type": "code",
   "execution_count": null,
   "id": "0c5786c0",
   "metadata": {},
   "outputs": [],
   "source": [
    "def rate(t) :\n",
    "    pass"
   ]
  },
  {
   "cell_type": "code",
   "execution_count": null,
   "id": "78ecb3b3",
   "metadata": {},
   "outputs": [],
   "source": [
    "runtest(['test_rate_func'])"
   ]
  },
  {
   "cell_type": "markdown",
   "id": "22a6d059",
   "metadata": {},
   "source": [
    "# Setting up rate functions II\n",
    "\n",
    "You can include the information on the way the rate of customer arrivals changes throughout the day by using the piecewise function that was employed in the last exercise.  This function is indicated with a black dashed line on the following figure.\n",
    "\n",
    "![rate-graph.png](https://raw.githubusercontent.com/autofeedback-exercises/exercises/main/New-SOR3012/Inhomogeneity/rate-graph.png)\n",
    "\n",
    "You can also use the function that is indicated with a red solid line in this figure.  When this function is used the rate of arrivals peaks in the middle of the busy hours and then decays and builds during the slow times.  Furthermore, the rate of arrivals changes continuously with time.\n",
    "\n",
    "__Your task in this exercise is to write a function called `rate` in the cell below that can be used determine the rate at each given time.__  Notice that the time that is passed as an argument to the `rate` function is in minutes and not hours as I have used in the axes of the figure above. Notice furthermore that the blue dashed line indicates that the first maximum in the function is at 9:30 in the morning.  Lastly, notice that the rates you return from the `rate` function must be in units of inverse minutes and not units of inverse hours.  "
   ]
  },
  {
   "cell_type": "code",
   "execution_count": null,
   "id": "864f5f08",
   "metadata": {},
   "outputs": [],
   "source": []
  },
  {
   "cell_type": "code",
   "execution_count": null,
   "id": "65651f93",
   "metadata": {},
   "outputs": [],
   "source": [
    "runtest(['test_rate_func_2'])"
   ]
  },
  {
   "cell_type": "markdown",
   "id": "5e789871",
   "metadata": {},
   "source": [
    "# Generating an inhomogenous Poisson process\n",
    "\n",
    "Now that we understand how to write functions with time dependent rates we are in a position to learn how to write code to generate the Inhomogeneous Poisson process that was discussed in the video.  In the following example we are going to suppose that our rate function is:\n",
    "\n",
    "$$\n",
    "\\lambda(t) = \\sin(t) + 2\n",
    "$$\n",
    "\n",
    "The maximum rate is thus 3, while the minimum is 1. Notice that the algorithm that I am going to introduce here requires you to use a rate function that is bounded from above and below.  Furthermore, the rate function should be positive for all values of $t$.\n",
    "\n",
    "The algorithm works as follows:\n",
    "\n",
    "1. You generate phantom events using a Poisson process with the maximum rate.  \n",
    "2. Now suppose that the a phantom event occurs at time $t$. You then generate a uniform random variable between 0 and 1.  You accept that the new event really happens at time $t$ with a probability that is equal $\\lambda(t)/\\lambda_\\textrm{max}$.  In other words, you generate a uniform random variable between 0 and 1, $U$ and accept the event if $U\\le \\lambda(t)/\\lambda_\\textrm{max}$ \n",
    "\n",
    "If I were writing Python code to generate interarrival times in this way, I would use a Python code something like the following:\n",
    "\n",
    "```python\n",
    "while True : \n",
    "    # This line generates my phantom events\n",
    "    t = t + exponential(lmax)\n",
    "    # This tells whether or not this is the real event.  \n",
    "    # If it is I break out of the while loop and stop incrementing the time.\n",
    "    if np.random.uniform(0,1) <= rate(t)/lmax : break\n",
    "```\n",
    "\n",
    "With all that in mind, your task below is to modify the code below in order to implement the inhomgeneous Poisson process that I have described above.  As before I have written some code to generate a graph showing the number of events as a function of time for you."
   ]
  },
  {
   "cell_type": "code",
   "execution_count": null,
   "id": "4d448aad",
   "metadata": {},
   "outputs": [],
   "source": [
    "class InhomogenousPoisson : \n",
    "    def __init__(self) : \n",
    "        self.clock = 0\n",
    "        \n",
    "    def rate(self,t) :\n",
    "        return np.sin(t) + 2\n",
    "        \n",
    "    def advance_time(self) :\n",
    "        pass\n",
    "        \n",
    "    def generate_interarrival(self) :\n",
    "        pass\n",
    "    \n",
    "# This is my code for generating the graph -- you don't need to modify this\n",
    "nevents = 100\n",
    "times, number, g = np.zeros(nevents), np.linspace(1,nevents,nevents), InhomogenousPoisson()\n",
    "for i in range(nevents) : \n",
    "    g.advance_time()\n",
    "    times[i] = g.clock\n",
    "    \n",
    "plt.plot( times, number, 'ko' )\n",
    "plt.xlabel(\"Time / s\")\n",
    "plt.ylabel(\"Number of events\")"
   ]
  },
  {
   "cell_type": "code",
   "execution_count": null,
   "id": "25fbf031",
   "metadata": {},
   "outputs": [],
   "source": [
    "runtest(['test_plot_3'])"
   ]
  },
  {
   "cell_type": "markdown",
   "id": "46ffd8dc",
   "metadata": {},
   "source": [
    "# Taking it further\n",
    "\n",
    "Much like in the last block, I am looking for you to try and use these ideas for some aspect of your FCT project.  Notice that for queue's although we have focussed on making the interarrival times inhomgeneous in the exercises here you can also make the service times inhomogeneous.  You can even use ideas from this notebook to make the service times non-random!  In short, you now have a lot of modelling ideas that you can play around with so please get creative!   "
   ]
  },
  {
   "cell_type": "code",
   "execution_count": null,
   "id": "60dab340",
   "metadata": {},
   "outputs": [],
   "source": []
  }
 ],
 "metadata": {
  "kernelspec": {
   "display_name": "Python 3 (ipykernel)",
   "language": "python",
   "name": "python3"
  },
  "language_info": {
   "codemirror_mode": {
    "name": "ipython",
    "version": 3
   },
   "file_extension": ".py",
   "mimetype": "text/x-python",
   "name": "python",
   "nbconvert_exporter": "python",
   "pygments_lexer": "ipython3",
   "version": "3.9.19"
  }
 },
 "nbformat": 4,
 "nbformat_minor": 5
}
