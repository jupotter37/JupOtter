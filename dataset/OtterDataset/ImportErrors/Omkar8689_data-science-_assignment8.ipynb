{
 "cells": [
  {
   "cell_type": "markdown",
   "id": "7fabd3f8-a14c-408c-b257-08593f5a164a",
   "metadata": {},
   "source": [
    "Q1. Explain why we have to use the Exception class while creating a Custom Exception."
   ]
  },
  {
   "cell_type": "raw",
   "id": "ad418c34-c6be-4ea6-adc5-c63d0cc8ded8",
   "metadata": {},
   "source": [
    "Exception class as the base for custom exceptions is a best practice in Python. It ensures that your custom exceptions are consistent, well-integrated into the language's exception handling mechanism, and easy for other developers to understand and handle."
   ]
  },
  {
   "cell_type": "code",
   "execution_count": null,
   "id": "9177d52a-4f92-4a34-b59e-e64abd2f7af8",
   "metadata": {},
   "outputs": [],
   "source": []
  },
  {
   "cell_type": "markdown",
   "id": "14416c4d-a88e-4606-a5ee-8d12ee4cb600",
   "metadata": {},
   "source": [
    "Q2. Write a python program to print Python Exception Hierarchy."
   ]
  },
  {
   "cell_type": "code",
   "execution_count": null,
   "id": "bdbbf902-e5ac-4ea2-9744-2bd7e5134cea",
   "metadata": {},
   "outputs": [],
   "source": [
    "def print_exception_hierarchy(exception_class, indent=0):\n",
    "    print(\" \" * indent + f\"{exception_class.__name__}\")\n",
    "    for subclass in exception_class.__subclasses__():\n",
    "        print_exception_hierarchy(subclass, indent + 2)\n",
    "\n",
    "if __name__ == \"__main__\":\n",
    "    print(\"Python Exception Hierarchy:\")\n",
    "    print_exception_hierarchy(BaseException)"
   ]
  },
  {
   "cell_type": "code",
   "execution_count": null,
   "id": "26430fc8-7b17-4e3c-8d8e-af3fca291e48",
   "metadata": {},
   "outputs": [],
   "source": []
  },
  {
   "cell_type": "raw",
   "id": "e5f3dc2e-7c00-47e8-a75b-f89e05eb090e",
   "metadata": {},
   "source": [
    "Q3. What errors are defined in the ArithmeticError class? Explain any two with an example."
   ]
  },
  {
   "cell_type": "raw",
   "id": "612d3867-a0e7-4251-a0a7-cd8116be3e74",
   "metadata": {},
   "source": [
    "In arithmeticerror class the errors are defined as  errors which come because of wrong aritnmetics.\n",
    "1)Zeodivision error-This error comes when we try to divide some variable by 0\n",
    "2)Overflow error-This error comes when we try to get the higher arithmetic value .for example if you take 20 and tries to get the 12th power of that.There is possibility that error will come. "
   ]
  },
  {
   "cell_type": "code",
   "execution_count": null,
   "id": "201827bc-2577-4d8a-abef-390196800c35",
   "metadata": {},
   "outputs": [],
   "source": [
    "#Zeodivision error\n",
    "try:\n",
    "    3/0\n",
    "except Exception as e:\n",
    "    print(\"This is assignment\")"
   ]
  },
  {
   "cell_type": "code",
   "execution_count": null,
   "id": "7345bbd4-9d60-4746-8925-7c3fc10ecf81",
   "metadata": {},
   "outputs": [],
   "source": [
    "#Overflow error\n",
    "try:\n",
    "def get_power(base,exponent):\n",
    "    return base**exponent\n",
    "except Exception as e:\n",
    "    print(\"Overflow error\")"
   ]
  },
  {
   "cell_type": "code",
   "execution_count": null,
   "id": "4ed751ce-ddda-4380-bf03-348354b61c6b",
   "metadata": {},
   "outputs": [],
   "source": [
    "get_power(20,43)"
   ]
  },
  {
   "cell_type": "code",
   "execution_count": null,
   "id": "58ed4659-c7b0-438c-9589-0c90dc76ba5b",
   "metadata": {},
   "outputs": [],
   "source": []
  },
  {
   "cell_type": "markdown",
   "id": "8ec5b2ab-f107-48ee-ad47-15d2ed90aaae",
   "metadata": {},
   "source": [
    "Q4. Why LookupError class is used? Explain with an example KeyError and IndexError."
   ]
  },
  {
   "cell_type": "raw",
   "id": "98f7ee9c-6148-44c1-94ba-d5820ac92bd5",
   "metadata": {},
   "source": [
    "The LookupError class in Python is a base class for \n",
    "exceptions that occur when a specific key or index is not found or valid\n",
    "1)keyerror- This error comes when we tries to find the key which is not present in the dictionary or list or tuple\n",
    "2)IndexError-This error comes when we tries to find the index which is not present in the dictionary or list or tuples\n"
   ]
  },
  {
   "cell_type": "code",
   "execution_count": null,
   "id": "bc9e0eff-503e-49d0-8a76-3f00d5b4115a",
   "metadata": {},
   "outputs": [],
   "source": [
    "l={'a':2,'b':32,'c':12}"
   ]
  },
  {
   "cell_type": "code",
   "execution_count": null,
   "id": "5440159a-8cba-48cb-ae2b-e5a8d6a78d4e",
   "metadata": {},
   "outputs": [],
   "source": [
    "try:\n",
    "    l.find('d')\n",
    "except Exception as e:\n",
    "    print(\"This is key error\")"
   ]
  },
  {
   "cell_type": "code",
   "execution_count": null,
   "id": "b0762986-889b-4b56-9f1c-564707ee20d4",
   "metadata": {},
   "outputs": [],
   "source": []
  },
  {
   "cell_type": "markdown",
   "id": "7c8bc097-b7b0-4dc1-bf27-dee258bbe6f2",
   "metadata": {},
   "source": [
    "Q5. Explain ImportError. What is ModuleNotFoundError?"
   ]
  },
  {
   "cell_type": "code",
   "execution_count": null,
   "id": "799483c3-21f2-48b3-8b61-4b35160f2d0a",
   "metadata": {},
   "outputs": [],
   "source": [
    "ImportError-It comes when you are trying to import the module which is not present\n",
    "ModuleNotFoundError-It comes when  you are trying to use the module which is not available\n"
   ]
  },
  {
   "cell_type": "raw",
   "id": "e16a464e-c9e4-49bf-97b4-2ea853fa6606",
   "metadata": {},
   "source": [
    "Q6. List down some best practices for exception handling in python."
   ]
  },
  {
   "cell_type": "code",
   "execution_count": null,
   "id": "66f8f8c5-a6f3-4e00-bfdf-e3db9ca0b67a",
   "metadata": {},
   "outputs": [],
   "source": [
    "1.Do not use the exception inside exception\n",
    "2.Dont make the syntax error\n",
    "3.Use this when you are not sure about the codes execution.So that even if that code doesnot executes error will not come"
   ]
  }
 ],
 "metadata": {
  "kernelspec": {
   "display_name": "Python 3 (ipykernel)",
   "language": "python",
   "name": "python3"
  },
  "language_info": {
   "codemirror_mode": {
    "name": "ipython",
    "version": 3
   },
   "file_extension": ".py",
   "mimetype": "text/x-python",
   "name": "python",
   "nbconvert_exporter": "python",
   "pygments_lexer": "ipython3",
   "version": "3.10.8"
  }
 },
 "nbformat": 4,
 "nbformat_minor": 5
}
