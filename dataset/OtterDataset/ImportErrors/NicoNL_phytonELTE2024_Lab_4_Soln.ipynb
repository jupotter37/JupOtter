{
 "cells": [
  {
   "cell_type": "markdown",
   "id": "4985c905",
   "metadata": {},
   "source": [
    "# Lab-4 Practice\n",
    "Please read and understand each cell/line of code carefully and answer the embedded exercises. Feel free to try each cell and play around with it to try different output.\n",
    "\n",
    "🔥There will be a canvas quiz where you will get simillar questions like the ones in this notebook\n",
    "\n",
    "Enjoy 😄..."
   ]
  },
  {
   "cell_type": "markdown",
   "id": "42a2b6cf",
   "metadata": {},
   "source": [
    "## Python Tuples"
   ]
  },
  {
   "cell_type": "code",
   "execution_count": 1,
   "id": "45569fdd",
   "metadata": {},
   "outputs": [
    {
     "name": "stdout",
     "output_type": "stream",
     "text": [
      "()\n",
      "(1, 2, 3)\n"
     ]
    }
   ],
   "source": [
    "# Empty tuple\n",
    "v_tuple = ()\n",
    "print(v_tuple)\n",
    "# Tuple having integers\n",
    "v_tuple = (1, 2, 3)\n",
    "print(v_tuple)"
   ]
  },
  {
   "cell_type": "code",
   "execution_count": 2,
   "id": "bbc6e768",
   "metadata": {},
   "outputs": [
    {
     "name": "stdout",
     "output_type": "stream",
     "text": [
      "('Apple', 3.14, True, 42, ['a', 'b', 'c'])\n",
      "('ELTE', [7, 4, 1], (9, 20, 35))\n"
     ]
    }
   ],
   "source": [
    "# tuple with mixed datatypes\n",
    "v_tuple = (\"Apple\", 3.14, True, 42, ['a', 'b', 'c'])\n",
    "print(v_tuple)\n",
    "# nested tuple\n",
    "v_tuple = (\"ELTE\", [7, 4, 1], (9, 20, 35))\n",
    "print(v_tuple)"
   ]
  },
  {
   "cell_type": "markdown",
   "id": "c42a480c",
   "metadata": {},
   "source": [
    "#### Lab 4.1"
   ]
  },
  {
   "cell_type": "code",
   "execution_count": 3,
   "id": "0a0a920a",
   "metadata": {},
   "outputs": [
    {
     "name": "stdout",
     "output_type": "stream",
     "text": [
      "The tuple with different data types: (42, 3.14, 'hello', True, None, [1, 2, 3])\n",
      "Element: 42, Type: <class 'int'>\n",
      "Element: 3.14, Type: <class 'float'>\n",
      "Element: hello, Type: <class 'str'>\n",
      "Element: True, Type: <class 'bool'>\n",
      "Element: None, Type: <class 'NoneType'>\n",
      "Element: [1, 2, 3], Type: <class 'list'>\n"
     ]
    }
   ],
   "source": [
    "# Creating a tuple with different data types\n",
    "my_tuple = (42, 3.14, 'hello', True, None, [1, 2, 3])\n",
    "\n",
    "# Displaying the tuple\n",
    "print(\"The tuple with different data types:\", my_tuple)\n",
    "\n",
    "# Displaying the data type of each element in the tuple\n",
    "for element in my_tuple:\n",
    "    print(f\"Element: {element}, Type: {type(element)}\")"
   ]
  },
  {
   "cell_type": "code",
   "execution_count": 2,
   "id": "298d7eb3",
   "metadata": {},
   "outputs": [
    {
     "name": "stdout",
     "output_type": "stream",
     "text": [
      "Before swapping:\n",
      "Tuple 1: (10, 55)\n",
      "Tuple 2: (29, 45)\n",
      "After swapping:\n",
      "Tuple 1: (29, 45)\n",
      "Tuple 2: (10, 55)\n"
     ]
    }
   ],
   "source": [
    "# define the two tuples\n",
    "tuple1 = (10, 55)\n",
    "tuple2 = (29, 45)\n",
    "\n",
    "# display the original values\n",
    "print(\"Before swapping:\")\n",
    "print(\"Tuple 1:\", tuple1)\n",
    "print(\"Tuple 2:\", tuple2)\n",
    "\n",
    "# swap the tuples using tuple unpacking\n",
    "tuple1, tuple2 = tuple2, tuple1\n",
    "\n",
    "# display the swapped values\n",
    "print(\"After swapping:\")\n",
    "print(\"Tuple 1:\", tuple1)\n",
    "print(\"Tuple 2:\", tuple2)"
   ]
  },
  {
   "cell_type": "code",
   "execution_count": 3,
   "id": "32739c6d",
   "metadata": {},
   "outputs": [
    {
     "name": "stdout",
     "output_type": "stream",
     "text": [
      "The number of occurrences of 36 in the tuple is: 2\n"
     ]
    }
   ],
   "source": [
    "# define the tuple\n",
    "tuple1 = (50, 36, 60, 70, 36, 75, 96)\n",
    "\n",
    "# count the number of occurrences of 36\n",
    "count = tuple1.count(36)\n",
    "\n",
    "# display the result\n",
    "print(\"The number of occurrences of 36 in the tuple is:\", count)"
   ]
  },
  {
   "cell_type": "code",
   "execution_count": 4,
   "id": "667b3142",
   "metadata": {},
   "outputs": [
    {
     "name": "stdout",
     "output_type": "stream",
     "text": [
      "20\n"
     ]
    }
   ],
   "source": [
    "tuple1 = (\"Orange\", [10, 20, 30], (5, 15, 25))\n",
    "\n",
    "# Accessing value 20\n",
    "value = tuple1[1][1]\n",
    "\n",
    "# Printing the value\n",
    "print(value)"
   ]
  },
  {
   "cell_type": "markdown",
   "id": "2d6d8dff",
   "metadata": {},
   "source": [
    "## Python Sets"
   ]
  },
  {
   "cell_type": "code",
   "execution_count": 1,
   "id": "c167e2b7",
   "metadata": {},
   "outputs": [
    {
     "name": "stdout",
     "output_type": "stream",
     "text": [
      "Student ID: {16, 12, 13, 14, 15}\n",
      "Letters: {'o', 'b', 'a', 'g'}\n",
      "Set of mixed data types: {'Hi', 50, 'Welcome', 'ELTE', -8}\n"
     ]
    }
   ],
   "source": [
    "# set of integer type\n",
    "user_id = {12, 13, 14, 15, 16}\n",
    "print('Student ID:', user_id)\n",
    "# set of string type\n",
    "letters = {'a', 'b', 'b', 'o', 'g'}\n",
    "print('Letters:', letters)\n",
    "# set of mixed data types\n",
    "mixed_set = {'Welcome', 50, \"ELTE\", -8, 'Hi'}\n",
    "print('Set of mixed data types:', mixed_set)"
   ]
  },
  {
   "cell_type": "markdown",
   "id": "226a0c9c",
   "metadata": {},
   "source": [
    "#### Empty Set & Dictionary"
   ]
  },
  {
   "cell_type": "code",
   "execution_count": 4,
   "id": "181fb76a",
   "metadata": {},
   "outputs": [
    {
     "name": "stdout",
     "output_type": "stream",
     "text": [
      "Data type of empty_set: <class 'set'>\n",
      "Data type of empty_dictionary <class 'dict'>\n"
     ]
    }
   ],
   "source": [
    "# create an empty set \n",
    "empty_set = set() \n",
    "# create an empty dictionary \n",
    "empty_dictionary = { } \n",
    "# check data type of empty_set \n",
    "print('Data type of empty_set:', type(empty_set)) \n",
    "# check data type of dictionary_set \n",
    "print('Data type of empty_dictionary', type(empty_dictionary))"
   ]
  },
  {
   "cell_type": "markdown",
   "id": "4d070dbc",
   "metadata": {},
   "source": [
    "#### Adding a Set"
   ]
  },
  {
   "cell_type": "code",
   "execution_count": 5,
   "id": "98aa8eb5",
   "metadata": {},
   "outputs": [
    {
     "name": "stdout",
     "output_type": "stream",
     "text": [
      "Initial Set: {34, 12, 21, 54}\n",
      "Updated Set: {32, 34, 12, 21, 54}\n"
     ]
    }
   ],
   "source": [
    "#Adding An Item To Set\n",
    "numbers = {21, 34, 54, 12} \n",
    "print('Initial Set:',numbers) \n",
    "# using add() method \n",
    "numbers.add(32) \n",
    "print('Updated Set:', numbers) "
   ]
  },
  {
   "cell_type": "markdown",
   "id": "4f8bd93e",
   "metadata": {},
   "source": [
    "#### Updating a Set"
   ]
  },
  {
   "cell_type": "code",
   "execution_count": 6,
   "id": "ed385884",
   "metadata": {},
   "outputs": [
    {
     "name": "stdout",
     "output_type": "stream",
     "text": [
      "{'Lacoste', 'google', 'apple', 'Ralph Lauren'}\n"
     ]
    }
   ],
   "source": [
    "#Updating A Set\n",
    "companies = {'Lacoste','Ralph Lauren'} \n",
    "tech_companies = ['apple', 'google', 'apple'] \n",
    "companies.update(tech_companies) \n",
    "print(companies) "
   ]
  },
  {
   "cell_type": "markdown",
   "id": "30f218d9",
   "metadata": {},
   "source": [
    "#### Lab 4.2"
   ]
  },
  {
   "cell_type": "code",
   "execution_count": null,
   "id": "193877ad",
   "metadata": {},
   "outputs": [],
   "source": [
    "# Create a set with elements of different data types\n",
    "my_set = {1, 2.5, \"Hello\", (4, 5, 6)}"
   ]
  },
  {
   "cell_type": "code",
   "execution_count": 2,
   "id": "de800328",
   "metadata": {},
   "outputs": [
    {
     "name": "stdout",
     "output_type": "stream",
     "text": [
      "{'banana', 'apple', 'cherry'}\n"
     ]
    }
   ],
   "source": [
    "#define a list of fruits\n",
    "fruits = ['apple', 'banana', 'cherry']\n",
    "\n",
    "#define an empty set\n",
    "fruit_set = set()\n",
    "\n",
    "for fruit in fruits:\n",
    "    fruit_set.add(fruit)\n",
    "    \n",
    "print(fruit_set)"
   ]
  },
  {
   "cell_type": "code",
   "execution_count": 4,
   "id": "417f51a7",
   "metadata": {},
   "outputs": [
    {
     "name": "stdout",
     "output_type": "stream",
     "text": [
      "{80, 25}\n"
     ]
    }
   ],
   "source": [
    "set1 = {15, 25, 80, 85, 90}\n",
    "set2 = {25, 80, 82, 100}\n",
    "\n",
    "intersection_set = set1.intersection(set2)\n",
    "\n",
    "print(intersection_set)"
   ]
  },
  {
   "cell_type": "markdown",
   "id": "f5d47f86",
   "metadata": {},
   "source": [
    "## Python Dictionary"
   ]
  },
  {
   "cell_type": "code",
   "execution_count": 5,
   "id": "cae3f0d6",
   "metadata": {},
   "outputs": [
    {
     "name": "stdout",
     "output_type": "stream",
     "text": [
      "{'Nepal': 'Kathmandu', 'Italy': 'Rome', 'England': 'London'}\n"
     ]
    }
   ],
   "source": [
    "capital_city = {\"Nepal\": \"Kathmandu\", \"Italy\": \"Rome\", \"England\": \"London\"} \n",
    "print(capital_city) "
   ]
  },
  {
   "cell_type": "code",
   "execution_count": 8,
   "id": "ae735fdb",
   "metadata": {},
   "outputs": [
    {
     "name": "stdout",
     "output_type": "stream",
     "text": [
      "livre\n"
     ]
    }
   ],
   "source": [
    "# Creating a simple English-French dictionary\n",
    "english_french_dict = {\"apple\": \"pomme\", \"book\": \"livre\", \"car\": \"voiture\"}\n",
    "\n",
    "# You can look up the French word for \"book\"\n",
    "french_word = english_french_dict[\"book\"]\n",
    "print(french_word)  # Output: livre\n",
    "\n",
    "# But you cannot directly use \"livre\" to find \"book\"\n",
    "# english_word = english_french_dict[\"livre\"]\n",
    "# print(english_word)  # Output: livre"
   ]
  },
  {
   "cell_type": "markdown",
   "id": "41e02f49",
   "metadata": {},
   "source": [
    "#### How To Use Dictionary"
   ]
  },
  {
   "cell_type": "code",
   "execution_count": 10,
   "id": "dacbd483",
   "metadata": {},
   "outputs": [
    {
     "name": "stdout",
     "output_type": "stream",
     "text": [
      "cat -> chat\n",
      "lion is not in dictionary\n",
      "horse -> cheval\n"
     ]
    }
   ],
   "source": [
    "dictionary = {\"cat\": \"chat\", \"dog\": \"chien\", \"horse\": \"cheval\"}\n",
    "words = ['cat', 'lion', 'horse']\n",
    "for word in words:\n",
    "    if word in dictionary:\n",
    "        print(word, \"->\", dictionary[word]) \n",
    "    else:\n",
    "        print(word, \"is not in dictionary\")"
   ]
  },
  {
   "cell_type": "markdown",
   "id": "09697167",
   "metadata": {},
   "source": [
    "#### Modify or Add Value"
   ]
  },
  {
   "cell_type": "code",
   "execution_count": 12,
   "id": "d39c7e09",
   "metadata": {
    "scrolled": true
   },
   "outputs": [
    {
     "name": "stdout",
     "output_type": "stream",
     "text": [
      "{'cat': 'minou', 'dog': 'chien', 'horse': 'cheval', 'swan': 'cygne'}\n"
     ]
    }
   ],
   "source": [
    "dictionary = {\"cat\": \"chat\", \"dog\": \"chien\", \"horse\": \"cheval\"}\n",
    "dictionary['cat'] = 'minou' # Modify \n",
    "dictionary['swan'] = 'cygne' # Add \n",
    "print(dictionary)"
   ]
  },
  {
   "cell_type": "markdown",
   "id": "bcd0b11c",
   "metadata": {},
   "source": [
    "#### keys() method"
   ]
  },
  {
   "cell_type": "code",
   "execution_count": 14,
   "id": "828a4c33",
   "metadata": {
    "scrolled": true
   },
   "outputs": [
    {
     "name": "stdout",
     "output_type": "stream",
     "text": [
      "cat -> chat\n",
      "dog -> chien\n",
      "horse -> cheval\n"
     ]
    }
   ],
   "source": [
    "dictionary = {\"cat\": \"chat\", \"dog\": \"chien\", \"horse\": \"cheval\"} \n",
    "for key in dictionary.keys():\n",
    "    print(key, \"->\", dictionary[key])"
   ]
  },
  {
   "cell_type": "markdown",
   "id": "9085ae0c",
   "metadata": {},
   "source": [
    "#### items() method"
   ]
  },
  {
   "cell_type": "code",
   "execution_count": 15,
   "id": "e5e4d372",
   "metadata": {
    "scrolled": true
   },
   "outputs": [
    {
     "name": "stdout",
     "output_type": "stream",
     "text": [
      "cat -> chat\n",
      "dog -> chien\n",
      "horse -> cheval\n"
     ]
    }
   ],
   "source": [
    "dictionary = {\"cat\": \"chat\", \"dog\": \"chien\", \"horse\": \"cheval\"} \n",
    "for english, french in dictionary.items():\n",
    "    print(english, \"->\", french)"
   ]
  },
  {
   "cell_type": "markdown",
   "id": "5661e744",
   "metadata": {},
   "source": [
    "#### values() method"
   ]
  },
  {
   "cell_type": "code",
   "execution_count": 16,
   "id": "d7656c81",
   "metadata": {},
   "outputs": [
    {
     "name": "stdout",
     "output_type": "stream",
     "text": [
      "chat\n",
      "chien\n",
      "cheval\n"
     ]
    }
   ],
   "source": [
    "dictionary = {\"cat\": \"chat\", \"dog\": \"chien\", \"horse\": \"cheval\"}\n",
    "\n",
    "for french in dictionary.values():\n",
    "    print(french)"
   ]
  },
  {
   "cell_type": "markdown",
   "id": "79ef11db",
   "metadata": {},
   "source": [
    "#### Removing a Key"
   ]
  },
  {
   "cell_type": "code",
   "execution_count": 17,
   "id": "86fcc087",
   "metadata": {},
   "outputs": [
    {
     "name": "stdout",
     "output_type": "stream",
     "text": [
      "{'cat': 'chat', 'horse': 'cheval'}\n"
     ]
    }
   ],
   "source": [
    "dictionary = {\"cat\": \"chat\", \"dog\": \"chien\", \"horse\": \"cheval\"}\n",
    "del dictionary['dog']\n",
    "print(dictionary)"
   ]
  },
  {
   "cell_type": "markdown",
   "id": "b36f8e67",
   "metadata": {},
   "source": [
    "#### Lab 4.3"
   ]
  },
  {
   "cell_type": "code",
   "execution_count": 11,
   "id": "648c6b23",
   "metadata": {},
   "outputs": [
    {
     "name": "stdout",
     "output_type": "stream",
     "text": [
      "{'name': 'John', 'age': 30, 'height': 1.8, 'is_student': True, 'hobbies': ['reading', 'swimming', 'coding'], 'address': {'street': '123 Main St', 'city': 'Anytown', 'state': 'CA', 'zip': '12345'}}\n"
     ]
    }
   ],
   "source": [
    "#Dictionary with different DataType\n",
    "my_dict = {\n",
    "    \"name\": \"John\",\n",
    "    \"age\": 30,\n",
    "    \"height\": 1.8,\n",
    "    \"is_student\": True,\n",
    "    \"hobbies\": [\"reading\", \"swimming\", \"coding\"],\n",
    "    \"address\": {\n",
    "        \"street\": \"123 Main St\",\n",
    "        \"city\": \"Anytown\",\n",
    "        \"state\": \"CA\",\n",
    "        \"zip\": \"12345\"\n",
    "    }\n",
    "}\n",
    "\n",
    "# Print the dictionary\n",
    "print(my_dict)"
   ]
  },
  {
   "cell_type": "markdown",
   "id": "afba256c",
   "metadata": {},
   "source": [
    "## Python Functions"
   ]
  },
  {
   "cell_type": "code",
   "execution_count": 18,
   "id": "62e315c1",
   "metadata": {},
   "outputs": [],
   "source": [
    "def my_first_function():\n",
    "    print('hello world')"
   ]
  },
  {
   "cell_type": "markdown",
   "id": "32db2314",
   "metadata": {},
   "source": [
    "#### Calling a function"
   ]
  },
  {
   "cell_type": "code",
   "execution_count": 19,
   "id": "72543fb9",
   "metadata": {},
   "outputs": [
    {
     "name": "stdout",
     "output_type": "stream",
     "text": [
      "hello world\n"
     ]
    }
   ],
   "source": [
    "# call the function \n",
    "my_first_function() "
   ]
  },
  {
   "cell_type": "markdown",
   "id": "7de54115",
   "metadata": {},
   "source": [
    "#### Function arguments"
   ]
  },
  {
   "cell_type": "code",
   "execution_count": 26,
   "id": "57c63fe3",
   "metadata": {},
   "outputs": [
    {
     "name": "stdout",
     "output_type": "stream",
     "text": [
      "9\n",
      "this function doesnt have argumet\n"
     ]
    }
   ],
   "source": [
    "# function with two arguments \n",
    "def add_numbers(num1, num2):\n",
    "    sum= num1 + num2\n",
    "    print(sum)\n",
    "   \n",
    "add_numbers(5, 4)\n",
    "\n",
    "# function with no arguments \n",
    "def add_numbers():\n",
    "    print('this function doesnt have argumet')\n",
    "    \n",
    "add_numbers()"
   ]
  },
  {
   "cell_type": "markdown",
   "id": "882b63d5",
   "metadata": {},
   "source": [
    "#### Lab 4.4"
   ]
  },
  {
   "cell_type": "code",
   "execution_count": 1,
   "id": "4aa72785",
   "metadata": {},
   "outputs": [
    {
     "data": {
      "text/plain": [
       "True"
      ]
     },
     "execution_count": 1,
     "metadata": {},
     "output_type": "execute_result"
    }
   ],
   "source": [
    "def is_prime(num):\n",
    "    if num <= 1:\n",
    "        return False\n",
    "    for  i in range(2, int(num ** 0.5) +1):\n",
    "        if num % i == 0:\n",
    "            return False\n",
    "        return True\n",
    "\n",
    "is_prime(7)"
   ]
  },
  {
   "cell_type": "markdown",
   "id": "c10c11be",
   "metadata": {},
   "source": [
    "#### Lab 4.5"
   ]
  },
  {
   "cell_type": "code",
   "execution_count": null,
   "id": "9d1a56bc",
   "metadata": {},
   "outputs": [],
   "source": []
  },
  {
   "cell_type": "markdown",
   "id": "f91dce7f",
   "metadata": {},
   "source": [
    "#### Library Functions"
   ]
  },
  {
   "cell_type": "code",
   "execution_count": 27,
   "id": "93d35411",
   "metadata": {},
   "outputs": [
    {
     "name": "stdout",
     "output_type": "stream",
     "text": [
      "5.0\n"
     ]
    }
   ],
   "source": [
    "import math as m\n",
    "\n",
    "number = 25\n",
    "square_root = m.sqrt(number)\n",
    "\n",
    "print(square_root)"
   ]
  },
  {
   "cell_type": "markdown",
   "id": "3ce96e42",
   "metadata": {},
   "source": [
    "#### Return Statement"
   ]
  },
  {
   "cell_type": "code",
   "execution_count": 28,
   "id": "ebc0cd11",
   "metadata": {},
   "outputs": [
    {
     "name": "stdout",
     "output_type": "stream",
     "text": [
      "Square: 9\n"
     ]
    }
   ],
   "source": [
    "# function definition \n",
    "def find_square(num): \n",
    "    result = num * num \n",
    "    return result \n",
    "\n",
    "# function call \n",
    "square = find_square(3) \n",
    "\n",
    "print('Square:',square) \n",
    "\n",
    "# Output: Square: 9 "
   ]
  },
  {
   "cell_type": "markdown",
   "id": "fc00de6e",
   "metadata": {},
   "source": [
    "#### Lab 4.6"
   ]
  },
  {
   "cell_type": "code",
   "execution_count": 7,
   "id": "01f647c4",
   "metadata": {},
   "outputs": [
    {
     "name": "stdout",
     "output_type": "stream",
     "text": [
      "enter a number from -10 to 10-11\n",
      "Error: not in a range (-10..10)\n",
      "enter a number from -10 to 1011\n",
      "Error: not in a range (-10..10)\n",
      "enter a number from -10 to 106\n",
      "the number is: 6\n"
     ]
    }
   ],
   "source": [
    "def read_int(prompt, low_limit, high_limit):\n",
    "        while True:\n",
    "            try:\n",
    "                value = int(input(prompt))\n",
    "                if value < low_limit or value > high_limit:\n",
    "                    print(f\"Error: not in a range ({low_limit}..{high_limit})\")\n",
    "                else:\n",
    "                    return value\n",
    "            except ValueError:\n",
    "                print(\"Error wrong value\")\n",
    "                \n",
    "v = read_int(\"enter a number from -10 to 10\", -10, 10)\n",
    "print(\"the number is:\", v)"
   ]
  },
  {
   "cell_type": "markdown",
   "id": "0cac0941",
   "metadata": {},
   "source": [
    "## Python Exception Handling"
   ]
  },
  {
   "cell_type": "code",
   "execution_count": 29,
   "id": "4ed30d94",
   "metadata": {},
   "outputs": [
    {
     "name": "stdout",
     "output_type": "stream",
     "text": [
      "Error: Denominator cannot be 0\n",
      "This is finally block.\n"
     ]
    }
   ],
   "source": [
    "try:\n",
    "    numerator = 25\n",
    "    denominator = 0\n",
    "    result = numerator/denominator\n",
    "    print(result)\n",
    "except:\n",
    "    print(\"Error: Denominator cannot be 0\") \n",
    "finally:\n",
    "    print(\"This is finally block.\")"
   ]
  },
  {
   "cell_type": "markdown",
   "id": "cca1286f",
   "metadata": {},
   "source": [
    "#### More Examples on Exception"
   ]
  },
  {
   "cell_type": "code",
   "execution_count": 35,
   "id": "8e2652ce",
   "metadata": {},
   "outputs": [
    {
     "name": "stdout",
     "output_type": "stream",
     "text": [
      "Everything went fine\n",
      "It's time to say goodbye\n",
      "0.5\n",
      "Division failed\n",
      "It's time to say goodbye\n",
      "None\n"
     ]
    }
   ],
   "source": [
    "def reciprocal(n):  \n",
    "    try:\n",
    "        n = 1 / n\n",
    "    except ZeroDivisionError:  \n",
    "        print(\"Division failed\")  \n",
    "        n = None\n",
    "    else:\n",
    "        print(\"Everything went fine\")\n",
    "    finally:\n",
    "        print(\"It's time to say goodbye\")  \n",
    "        return n\n",
    "    \n",
    "    \n",
    "print(reciprocal(2))  \n",
    "print(reciprocal(0))"
   ]
  },
  {
   "cell_type": "code",
   "execution_count": 36,
   "id": "eca5ffca",
   "metadata": {},
   "outputs": [
    {
     "name": "stdout",
     "output_type": "stream",
     "text": [
      "invalid literal for int() with base 10: 'Hello'\n",
      "invalid literal for int() with base 10: 'Hello'\n"
     ]
    }
   ],
   "source": [
    "try:\n",
    "    i = int(\"Hello\")\n",
    "except Exception as e:\n",
    "    print(e)\n",
    "    print(e.__str__())"
   ]
  },
  {
   "cell_type": "code",
   "execution_count": 39,
   "id": "6ac3c398",
   "metadata": {
    "scrolled": false
   },
   "outputs": [
    {
     "name": "stdout",
     "output_type": "stream",
     "text": [
      "BaseException\n",
      " +---BaseExceptionGroup\n",
      " | +---ExceptionGroup\n",
      " +---Exception\n",
      " | +---ArithmeticError\n",
      " | | +---FloatingPointError\n",
      " | | +---OverflowError\n",
      " | | +---ZeroDivisionError\n",
      " | | | +---DivisionByZero\n",
      " | | | +---DivisionUndefined\n",
      " | | +---DecimalException\n",
      " | | | +---Clamped\n",
      " | | | +---Rounded\n",
      " | | | | +---Underflow\n",
      " | | | | +---Overflow\n",
      " | | | +---Inexact\n",
      " | | | | +---Underflow\n",
      " | | | | +---Overflow\n",
      " | | | +---Subnormal\n",
      " | | | | +---Underflow\n",
      " | | | +---DivisionByZero\n",
      " | | | +---FloatOperation\n",
      " | | | +---InvalidOperation\n",
      " | | | | +---ConversionSyntax\n",
      " | | | | +---DivisionImpossible\n",
      " | | | | +---DivisionUndefined\n",
      " | | | | +---InvalidContext\n",
      " | +---AssertionError\n",
      " | +---AttributeError\n",
      " | | +---FrozenInstanceError\n",
      " | +---BufferError\n",
      " | +---EOFError\n",
      " | | +---IncompleteReadError\n",
      " | +---ImportError\n",
      " | | +---ModuleNotFoundError\n",
      " | | | +---PackageNotFoundError\n",
      " | | +---ZipImportError\n",
      " | +---LookupError\n",
      " | | +---IndexError\n",
      " | | +---KeyError\n",
      " | | | +---NoSuchKernel\n",
      " | | | +---UnknownBackend\n",
      " | | +---CodecRegistryError\n",
      " | +---MemoryError\n",
      " | +---NameError\n",
      " | | +---UnboundLocalError\n",
      " | +---OSError\n",
      " | | +---BlockingIOError\n",
      " | | +---ChildProcessError\n",
      " | | +---ConnectionError\n",
      " | | | +---BrokenPipeError\n",
      " | | | +---ConnectionAbortedError\n",
      " | | | +---ConnectionRefusedError\n",
      " | | | +---ConnectionResetError\n",
      " | | | | +---RemoteDisconnected\n",
      " | | +---FileExistsError\n",
      " | | +---FileNotFoundError\n",
      " | | +---InterruptedError\n",
      " | | | +---InterruptedSystemCall\n",
      " | | +---IsADirectoryError\n",
      " | | +---NotADirectoryError\n",
      " | | +---PermissionError\n",
      " | | +---ProcessLookupError\n",
      " | | +---TimeoutError\n",
      " | | +---UnsupportedOperation\n",
      " | | +---herror\n",
      " | | +---gaierror\n",
      " | | +---SSLError\n",
      " | | | +---SSLCertVerificationError\n",
      " | | | +---SSLZeroReturnError\n",
      " | | | +---SSLWantWriteError\n",
      " | | | +---SSLWantReadError\n",
      " | | | +---SSLSyscallError\n",
      " | | | +---SSLEOFError\n",
      " | | +---Error\n",
      " | | | +---SameFileError\n",
      " | | +---SpecialFileError\n",
      " | | +---ExecError\n",
      " | | +---ReadError\n",
      " | | +---URLError\n",
      " | | | +---HTTPError\n",
      " | | | +---ContentTooShortError\n",
      " | | +---BadGzipFile\n",
      " | +---ReferenceError\n",
      " | +---RuntimeError\n",
      " | | +---NotImplementedError\n",
      " | | | +---ZMQVersionError\n",
      " | | | +---StdinNotImplementedError\n",
      " | | +---RecursionError\n",
      " | | +---_DeadlockError\n",
      " | | +---BrokenBarrierError\n",
      " | | +---BrokenExecutor\n",
      " | | | +---BrokenThreadPool\n",
      " | | +---SendfileNotAvailableError\n",
      " | | +---BrokenBarrierError\n",
      " | | +---ExtractionError\n",
      " | | +---VariableError\n",
      " | +---StopAsyncIteration\n",
      " | +---StopIteration\n",
      " | +---SyntaxError\n",
      " | | +---IndentationError\n",
      " | | | +---TabError\n",
      " | +---SystemError\n",
      " | | +---CodecRegistryError\n",
      " | +---TypeError\n",
      " | | +---FloatOperation\n",
      " | | +---MultipartConversionError\n",
      " | +---ValueError\n",
      " | | +---UnicodeError\n",
      " | | | +---UnicodeDecodeError\n",
      " | | | +---UnicodeEncodeError\n",
      " | | | +---UnicodeTranslateError\n",
      " | | +---UnsupportedOperation\n",
      " | | +---JSONDecodeError\n",
      " | | +---SSLCertVerificationError\n",
      " | | +---Error\n",
      " | | +---UnsupportedDigestmodError\n",
      " | | +---IllegalMonthError\n",
      " | | +---IllegalWeekdayError\n",
      " | | +---ParserError\n",
      " | | +---MessageDefect\n",
      " | | | +---NoBoundaryInMultipartDefect\n",
      " | | | +---StartBoundaryNotFoundDefect\n",
      " | | | +---CloseBoundaryNotFoundDefect\n",
      " | | | +---FirstHeaderLineIsContinuationDefect\n",
      " | | | +---MisplacedEnvelopeHeaderDefect\n",
      " | | | +---MissingHeaderBodySeparatorDefect\n",
      " | | | +---MultipartInvariantViolationDefect\n",
      " | | | +---InvalidMultipartContentTransferEncodingDefect\n",
      " | | | +---UndecodableBytesDefect\n",
      " | | | +---InvalidBase64PaddingDefect\n",
      " | | | +---InvalidBase64CharactersDefect\n",
      " | | | +---InvalidBase64LengthDefect\n",
      " | | | +---HeaderDefect\n",
      " | | | | +---InvalidHeaderDefect\n",
      " | | | | +---HeaderMissingRequiredValue\n",
      " | | | | +---NonPrintableDefect\n",
      " | | | | +---ObsoleteHeaderDefect\n",
      " | | | | +---NonASCIILocalPartDefect\n",
      " | | | | +---InvalidDateDefect\n",
      " | | +---ClassNotFound\n",
      " | | +---ClipboardEmpty\n",
      " | | +---MacroToEdit\n",
      " | | +---InvalidFileException\n",
      " | | +---UnequalIterablesError\n",
      " | | +---InvalidVersion\n",
      " | | +---ELFInvalid\n",
      " | | +---InvalidWheelFilename\n",
      " | | +---InvalidSdistFilename\n",
      " | | +---InvalidSpecifier\n",
      " | | +---InvalidMarker\n",
      " | | +---UndefinedComparison\n",
      " | | +---UndefinedEnvironmentName\n",
      " | | +---InvalidRequirement\n",
      " | | | +---RequirementParseError\n",
      " | | +---InvalidVersion\n",
      " | +---Warning\n",
      " | | +---BytesWarning\n",
      " | | +---DeprecationWarning\n",
      " | | | +---ProvisionalWarning\n",
      " | | +---EncodingWarning\n",
      " | | +---FutureWarning\n",
      " | | | +---ProvisionalCompleterWarning\n",
      " | | +---ImportWarning\n",
      " | | +---PendingDeprecationWarning\n",
      " | | +---ResourceWarning\n",
      " | | +---RuntimeWarning\n",
      " | | | +---ProactorSelectorThreadWarning\n",
      " | | | +---UnknownTimezoneWarning\n",
      " | | | +---PEP440Warning\n",
      " | | +---SyntaxWarning\n",
      " | | +---UnicodeWarning\n",
      " | | +---UserWarning\n",
      " | | | +---GetPassWarning\n",
      " | | | +---FormatterWarning\n",
      " | | +---DeprecatedTzFormatWarning\n",
      " | | +---PkgResourcesDeprecationWarning\n",
      " | +---ExceptionGroup\n",
      " | +---_OptionError\n",
      " | +---_Error\n",
      " | +---error\n",
      " | +---Error\n",
      " | +---SubprocessError\n",
      " | | +---CalledProcessError\n",
      " | | +---TimeoutExpired\n",
      " | +---ZMQBaseError\n",
      " | | +---ZMQError\n",
      " | | | +---ContextTerminated\n",
      " | | | +---Again\n",
      " | | | +---InterruptedSystemCall\n",
      " | | +---ZMQBindError\n",
      " | | +---NotDone\n",
      " | +---Error\n",
      " | +---error\n",
      " | +---PickleError\n",
      " | | +---PicklingError\n",
      " | | +---UnpicklingError\n",
      " | +---_Stop\n",
      " | +---TokenError\n",
      " | +---StopTokenizing\n",
      " | +---Error\n",
      " | | +---CancelledError\n",
      " | | +---InvalidStateError\n",
      " | +---_GiveupOnSendfile\n",
      " | +---Incomplete\n",
      " | +---ClassFoundException\n",
      " | +---EndOfBlock\n",
      " | +---InvalidStateError\n",
      " | +---LimitOverrunError\n",
      " | +---QueueEmpty\n",
      " | +---QueueFull\n",
      " | +---error\n",
      " | +---LZMAError\n",
      " | +---RegistryError\n",
      " | +---_GiveupOnFastCopy\n",
      " | +---TraitError\n",
      " | +---Empty\n",
      " | +---Full\n",
      " | +---ArgumentError\n",
      " | +---COMError\n",
      " | +---ReturnValueIgnoredError\n",
      " | +---ArgumentError\n",
      " | +---ArgumentTypeError\n",
      " | +---ConfigError\n",
      " | | +---ConfigLoaderError\n",
      " | | | +---ArgumentError\n",
      " | | +---ConfigFileNotFound\n",
      " | +---ConfigurableError\n",
      " | | +---MultipleInstanceError\n",
      " | +---ApplicationError\n",
      " | +---InvalidPortNumber\n",
      " | +---NoIPAddresses\n",
      " | +---Error\n",
      " | +---BadZipFile\n",
      " | +---LargeZipFile\n",
      " | +---MessageError\n",
      " | | +---MessageParseError\n",
      " | | | +---HeaderParseError\n",
      " | | | +---BoundaryError\n",
      " | | +---MultipartConversionError\n",
      " | | +---CharsetError\n",
      " | +---DuplicateKernelError\n",
      " | +---ErrorDuringImport\n",
      " | +---NotOneValueFound\n",
      " | +---KnownIssue\n",
      " | +---VerifierFailure\n",
      " | +---CannotEval\n",
      " | +---OptionError\n",
      " | +---BdbQuit\n",
      " | +---Restart\n",
      " | +---FindCmdError\n",
      " | +---HomeDirError\n",
      " | +---ProfileDirError\n",
      " | +---IPythonCoreError\n",
      " | | +---TryNext\n",
      " | | +---UsageError\n",
      " | | +---StdinNotImplementedError\n",
      " | +---InputRejected\n",
      " | +---GetoptError\n",
      " | +---ErrorToken\n",
      " | +---PrefilterError\n",
      " | +---AliasError\n",
      " | | +---InvalidAliasError\n",
      " | +---Error\n",
      " | | +---InterfaceError\n",
      " | | +---DatabaseError\n",
      " | | | +---InternalError\n",
      " | | | +---OperationalError\n",
      " | | | +---ProgrammingError\n",
      " | | | +---IntegrityError\n",
      " | | | +---DataError\n",
      " | | | +---NotSupportedError\n",
      " | +---Warning\n",
      " | +---SpaceInInput\n",
      " | +---DOMException\n",
      " | | +---IndexSizeErr\n",
      " | | +---DomstringSizeErr\n",
      " | | +---HierarchyRequestErr\n",
      " | | +---WrongDocumentErr\n",
      " | | +---InvalidCharacterErr\n",
      " | | +---NoDataAllowedErr\n",
      " | | +---NoModificationAllowedErr\n",
      " | | +---NotFoundErr\n",
      " | | +---NotSupportedErr\n",
      " | | +---InuseAttributeErr\n",
      " | | +---InvalidStateErr\n",
      " | | +---SyntaxErr\n",
      " | | +---InvalidModificationErr\n",
      " | | +---NamespaceErr\n",
      " | | +---InvalidAccessErr\n",
      " | | +---ValidationErr\n",
      " | +---ValidationError\n",
      " | +---EditReadOnlyBuffer\n",
      " | +---_Retry\n",
      " | +---InvalidLayoutError\n",
      " | +---HeightIsUnknownError\n",
      " | +---GuardRejection\n",
      " | +---ParserSyntaxError\n",
      " | +---InternalParseError\n",
      " | +---_PositionUpdatingFinished\n",
      " | +---SimpleGetItemNotFound\n",
      " | +---UncaughtAttributeError\n",
      " | +---HasNoContext\n",
      " | +---ParamIssue\n",
      " | +---_JediError\n",
      " | | +---InternalError\n",
      " | | +---WrongVersion\n",
      " | | +---RefactoringError\n",
      " | +---OnErrorLeaf\n",
      " | +---InvalidPythonEnvironment\n",
      " | +---HTTPException\n",
      " | | +---NotConnected\n",
      " | | +---InvalidURL\n",
      " | | +---UnknownProtocol\n",
      " | | +---UnknownTransferEncoding\n",
      " | | +---UnimplementedFileMode\n",
      " | | +---IncompleteRead\n",
      " | | +---ImproperConnectionState\n",
      " | | | +---CannotSendRequest\n",
      " | | | +---CannotSendHeader\n",
      " | | | +---ResponseNotReady\n",
      " | | +---BadStatusLine\n",
      " | | | +---RemoteDisconnected\n",
      " | | +---LineTooLong\n",
      " | +---InteractivelyDefined\n",
      " | +---KillEmbedded\n",
      " | +---Error\n",
      " | | +---NoSuchProcess\n",
      " | | | +---ZombieProcess\n",
      " | | +---AccessDenied\n",
      " | | +---TimeoutExpired\n",
      " | +---Error\n",
      " | +---TimeoutExpired\n",
      " | +---TimeoutAbandoned\n",
      " | +---KeyReuseError\n",
      " | +---UnknownKeyError\n",
      " | +---LeakedCallbackError\n",
      " | +---BadYieldError\n",
      " | +---ReturnValueIgnoredError\n",
      " | +---Return\n",
      " | +---QueueEmpty\n",
      " | +---QueueFull\n",
      " | +---DebuggerInitializationError\n",
      " | +---ExpatError\n",
      " | +---Error\n",
      " | | +---ProtocolError\n",
      " | | +---ResponseError\n",
      " | | +---Fault\n",
      " | +---ParserSyntaxError\n",
      " | +---ResolutionError\n",
      " | | +---VersionConflict\n",
      " | | | +---ContextualVersionConflict\n",
      " | | +---DistributionNotFound\n",
      " | | +---UnknownExtra\n",
      " | +---_Error\n",
      " | +---UnableToResolveVariableException\n",
      " | +---InvalidTypeInArgsException\n",
      " | +---error\n",
      " | +---com_error\n",
      " +---GeneratorExit\n",
      " +---KeyboardInterrupt\n",
      " +---SystemExit\n",
      " +---CancelledError\n",
      " +---AbortThread\n"
     ]
    }
   ],
   "source": [
    "def print_exception_tree(thisclass, nest = 0):  \n",
    "    if nest > 1:\n",
    "        print(\" |\" * (nest - 1), end=\"\")\n",
    "    if nest > 0:\n",
    "        print(\" +---\", end=\"\")\n",
    "\n",
    "    print(thisclass.__name__)\n",
    "\n",
    "    for subclass in thisclass.__subclasses__():  \n",
    "        print_exception_tree(subclass, nest + 1)\n",
    "\n",
    "print_exception_tree(BaseException)"
   ]
  },
  {
   "cell_type": "code",
   "execution_count": 40,
   "id": "79e5a613",
   "metadata": {},
   "outputs": [
    {
     "name": "stdout",
     "output_type": "stream",
     "text": [
      "Division by zero\n",
      "Division by zero\n",
      "Original division by zero\n",
      "My division by zero\n"
     ]
    }
   ],
   "source": [
    "class MyZeroDivisionError(ZeroDivisionError):\n",
    "    pass\n",
    "\n",
    "def do_the_division(mine):\n",
    "    if mine:\n",
    "        raise MyZeroDivisionError(\"some worse  news\")\n",
    "    else:\n",
    "        raise ZeroDivisionError(\"some bad  news\")\n",
    "\n",
    "for mode in [False, True]:  \n",
    "    try:\n",
    "        do_the_division(mode)  \n",
    "    except ZeroDivisionError:  \n",
    "        print('Division by zero')\n",
    "\n",
    "for mode in [False, True]:  \n",
    "    try:\n",
    "        do_the_division(mode)  \n",
    "    except MyZeroDivisionError:\n",
    "        print('My division by zero')  \n",
    "    except ZeroDivisionError:\n",
    "        print('Original division by zero')"
   ]
  },
  {
   "cell_type": "markdown",
   "id": "c8f6e75d",
   "metadata": {},
   "source": [
    "## OOP in Python"
   ]
  },
  {
   "cell_type": "code",
   "execution_count": 3,
   "id": "db740e52",
   "metadata": {},
   "outputs": [
    {
     "name": "stdout",
     "output_type": "stream",
     "text": [
      "Adam Make\n"
     ]
    },
    {
     "data": {
      "text/plain": [
       "0"
      ]
     },
     "execution_count": 3,
     "metadata": {},
     "output_type": "execute_result"
    }
   ],
   "source": [
    "class Person:\n",
    "    name = \"\"\n",
    "    age = 0\n",
    "# create objects of class\n",
    "person1 = Person()\n",
    "person2 = Person()\n",
    "# modify the name attribute\n",
    "person1.name = \"Adam Make\"\n",
    "print(person1.name)\n",
    "# access the age attribute\n",
    "person1.age"
   ]
  },
  {
   "cell_type": "markdown",
   "id": "447d60a9",
   "metadata": {},
   "source": [
    "#### Lab 4.7"
   ]
  },
  {
   "cell_type": "code",
   "execution_count": null,
   "id": "f834c56b",
   "metadata": {},
   "outputs": [],
   "source": [
    "class Dog:\n",
    "    #pass  # empty class definition without __init__ method\n",
    "    #name = \"\" \n",
    "    #age = 0.0\n",
    "    \n",
    "# creating instances of Dog class\n",
    "bobby = Dog()\n",
    "bobby.name = \"Bobby\"\n",
    "bobby.age = 9\n",
    "\n",
    "jack = Dog()\n",
    "jack.name = \"Jack\"\n",
    "jack.age = 4\n",
    "\n",
    "# accessing attributes of instances\n",
    "print(\"the name of the first obj. is : \" + bobby.name)  # prints \"Bobby\"\n",
    "print(\"theage of the second obj. is : \" + str(jack.age))    # prints 4"
   ]
  },
  {
   "cell_type": "markdown",
   "id": "303e5c40",
   "metadata": {},
   "source": [
    "#### Methods & Constructors"
   ]
  },
  {
   "cell_type": "code",
   "execution_count": 41,
   "id": "61ac174f",
   "metadata": {},
   "outputs": [
    {
     "name": "stdout",
     "output_type": "stream",
     "text": [
      "Area of Room = 1309.0\n"
     ]
    }
   ],
   "source": [
    "# create a class \n",
    "class Room: \n",
    "    length = 0.0 \n",
    "    breadth = 0.0 \n",
    "    \n",
    "    # method to calculate area \n",
    "    def calculate_area(self): \n",
    "        print(\"Area of Room =\", self.length * self.breadth) \n",
    "        \n",
    "# create object of Room class \n",
    "study_room = Room() \n",
    "\n",
    "# assign values to all the attributes \n",
    "study_room.length = 42.5 \n",
    "study_room.breadth = 30.8 \n",
    "\n",
    "# access method inside class \n",
    "study_room.calculate_area() "
   ]
  },
  {
   "cell_type": "markdown",
   "id": "e98a1241",
   "metadata": {},
   "source": [
    "#### __init__() method"
   ]
  },
  {
   "cell_type": "code",
   "execution_count": 4,
   "id": "97b7fd83",
   "metadata": {
    "scrolled": true
   },
   "outputs": [
    {
     "name": "stdout",
     "output_type": "stream",
     "text": [
      "Adam\n",
      "20\n",
      "Hungary\n"
     ]
    }
   ],
   "source": [
    "class User:\n",
    "    def __init__(self, name, age, country):\n",
    "        self.name = name\n",
    "        self.age = age\n",
    "        self.country = country\n",
    "user = User(\"Adam\", 20, \"Hungary\")\n",
    "print(user.name)\n",
    "print(user.age)\n",
    "print(user.country)"
   ]
  },
  {
   "cell_type": "markdown",
   "id": "9737fb75",
   "metadata": {},
   "source": [
    "#### __str__() method"
   ]
  },
  {
   "cell_type": "code",
   "execution_count": 5,
   "id": "51a1a659",
   "metadata": {},
   "outputs": [
    {
     "name": "stdout",
     "output_type": "stream",
     "text": [
      "<__main__.User object at 0x000001ECBA0D6950>\n"
     ]
    }
   ],
   "source": [
    "class User:\n",
    "    def __init__(self, name, age, country):\n",
    "        self.name = name\n",
    "        self.age = age\n",
    "        self.country = country\n",
    "user = User(\"Adam\", 20, \"Hungary\")\n",
    "print(user)"
   ]
  },
  {
   "cell_type": "code",
   "execution_count": 6,
   "id": "ed5eba0c",
   "metadata": {},
   "outputs": [
    {
     "name": "stdout",
     "output_type": "stream",
     "text": [
      "Adam is from Hungary and 20\n"
     ]
    }
   ],
   "source": [
    "class User:\n",
    "    def __init__(self, name, age, country):\n",
    "        self.name = name\n",
    "        self.age = age\n",
    "        self.country = country\n",
    "        \n",
    "    def __str__(self):\n",
    "        return f\"{self.name} is from {self.country} and {self.age}\" \n",
    "    \n",
    "user = User(\"Adam\", 20, \"Hungary\")\n",
    "print(user)"
   ]
  },
  {
   "cell_type": "markdown",
   "id": "1142fa31",
   "metadata": {},
   "source": [
    "#### Class attributes & Instance attributes"
   ]
  },
  {
   "cell_type": "code",
   "execution_count": 42,
   "id": "04e01bf5",
   "metadata": {},
   "outputs": [
    {
     "name": "stdout",
     "output_type": "stream",
     "text": [
      "Ford\n",
      "Toyota\n",
      "Mustang\n",
      "Corolla\n",
      "4\n",
      "4\n",
      "4\n"
     ]
    }
   ],
   "source": [
    "class Car: \n",
    "    wheels = 4  # This is a class attribute\n",
    "    def __init__(self, make, model): \n",
    "        self.make = make # This is an instance attribute \n",
    "        self.model = model # This is an instance attribute \n",
    "\n",
    "car1 = Car(\"Ford\", \"Mustang\") \n",
    "car2 = Car(\"Toyota\", \"Corolla\") \n",
    "print(car1.make) # Output: \"Ford\" \n",
    "print(car2.make) # Output: \"Toyota\" \n",
    "print(car1.model) # Output: \"Mustang\" \n",
    "print(car2.model) # Output: \"Corolla\"\n",
    "print(car1.wheels) # Output: 4 \n",
    "print(car2.wheels) # Output: 4\n",
    "print(Car.wheels) # Output: 4"
   ]
  },
  {
   "cell_type": "markdown",
   "id": "a9abb790",
   "metadata": {},
   "source": [
    "#### Lab 4.8"
   ]
  },
  {
   "cell_type": "code",
   "execution_count": 43,
   "id": "3744cb70",
   "metadata": {},
   "outputs": [
    {
     "name": "stdout",
     "output_type": "stream",
     "text": [
      "1.4142135623730951\n",
      "1.4142135623730951\n"
     ]
    }
   ],
   "source": [
    "import math\n",
    "\n",
    "class Point:\n",
    "    def __init__(self, x=0.0, y=0.0):\n",
    "        self.__x = x\n",
    "        self.__y = y\n",
    "    \n",
    "    def getx(self):\n",
    "        return self.__x\n",
    "    \n",
    "    def gety(self):\n",
    "        return self.__y\n",
    "    \n",
    "    def distance_from_xy(self, x, y):\n",
    "        return math.hypot(x - self.__x, y - self.__y)\n",
    "    \n",
    "    def distance_from_point(self, point):\n",
    "        return self.distance_from_xy(point.getx(), point.gety())\n",
    "\n",
    "# sample usage\n",
    "point1 = Point(0, 0)\n",
    "point2 = Point(1, 1)\n",
    "\n",
    "print(point1.distance_from_point(point2))  # output: 1.4142135623730951\n",
    "print(point2.distance_from_xy(2, 0))  # output: 1.4142135623730951"
   ]
  },
  {
   "cell_type": "code",
   "execution_count": null,
   "id": "6bb9bbe1",
   "metadata": {},
   "outputs": [],
   "source": []
  }
 ],
 "metadata": {
  "kernelspec": {
   "display_name": "Python 3 (ipykernel)",
   "language": "python",
   "name": "python3"
  },
  "language_info": {
   "codemirror_mode": {
    "name": "ipython",
    "version": 3
   },
   "file_extension": ".py",
   "mimetype": "text/x-python",
   "name": "python",
   "nbconvert_exporter": "python",
   "pygments_lexer": "ipython3",
   "version": "3.11.2"
  }
 },
 "nbformat": 4,
 "nbformat_minor": 5
}
