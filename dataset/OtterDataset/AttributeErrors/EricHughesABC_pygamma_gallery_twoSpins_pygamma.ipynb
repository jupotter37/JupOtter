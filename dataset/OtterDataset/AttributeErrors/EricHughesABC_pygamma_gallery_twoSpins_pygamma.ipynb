{
 "cells": [
  {
   "cell_type": "code",
   "execution_count": 1,
   "metadata": {},
   "outputs": [],
   "source": [
    "import pygamma as pg\n",
    "from matplotlib import pyplot as plt\n",
    "%matplotlib inline"
   ]
  },
  {
   "cell_type": "code",
   "execution_count": 28,
   "metadata": {},
   "outputs": [
    {
     "name": "stdout",
     "output_type": "stream",
     "text": [
      "['A', 'AHz', 'AStrings', 'As', 'BeStrings', 'Bo', 'CoherDist', 'FieldAdjust', 'GFStrings', 'GetFlag', 'HS', 'HSvect', 'IsoDefault', 'J', 'JStrings', 'Js', 'Nyquist', 'OmStrings', 'Omega', 'OmegaAdjust', 'PPM', 'PPMStrings', 'PSetAdd', 'SAMStrings', 'SIStrings', 'SYMStrings', 'SYSStrings', 'SetFlag', 'SetFlags', 'VStrings', '__assign__', '__class__', '__del__', '__delattr__', '__dict__', '__dir__', '__disown__', '__doc__', '__eq__', '__format__', '__ge__', '__getattr__', '__getattribute__', '__gt__', '__hash__', '__init__', '__init_subclass__', '__le__', '__lt__', '__module__', '__ne__', '__new__', '__reduce__', '__reduce_ex__', '__repr__', '__setattr__', '__sizeof__', '__str__', '__subclasshook__', '__swig_destroy__', '__swig_getmethods__', '__swig_setmethods__', '__weakref__', '_s', 'ask_read', 'center', 'check_spin', 'check_spins', 'eepair', 'efield', 'efield_lab', 'electron', 'electrons', 'element', 'enpair', 'eshift', 'gamma', 'getSpins', 'get_basis', 'gfactor', 'heteronuclear', 'homonuclear', 'isotope', 'isotopes', 'lab_eshift', 'lab_shift', 'maxShift', 'medianShift', 'minShift', 'momentum', 'name', 'nepair', 'nnpair', 'nucleon', 'nucleons', 'offsetShifts', 'pairidx', 'printstrings', 'qState', 'qn', 'qnDist', 'qnState', 'qnStates', 'read', 'setAs', 'setGs', 'setIs', 'setJs', 'setName', 'setShifts', 'shift', 'shifts', 'spectrometer_frequency', 'spflag', 'spflags', 'spinhalf', 'spinpairs', 'spins', 'symbol', 'this', 'warnings', 'weight', 'write']\n"
     ]
    }
   ],
   "source": [
    "ss = pg.spin_system(2)\n",
    "print(dir(ss))"
   ]
  },
  {
   "cell_type": "code",
   "execution_count": 29,
   "metadata": {},
   "outputs": [
    {
     "name": "stdout",
     "output_type": "stream",
     "text": [
      "Spin Index :      0            1      \n",
      "Isotope    :      1H           1H     \n",
      "Momentum   :     1/2          1/2     \n",
      "Shifts     :     0.00 Hz      0.00 Hz \n",
      "Js Spin 0  :                  0.00 Hz \n",
      "\n"
     ]
    }
   ],
   "source": [
    "print(ss)"
   ]
  },
  {
   "cell_type": "code",
   "execution_count": 129,
   "metadata": {},
   "outputs": [],
   "source": [
    "ss.name=\"two_spin_system\"\n",
    "#ss.Omega(400.0)\n",
    "ss.spectrometer_frequency(400.0)\n",
    "\n",
    "ss.shift(0,200)\n",
    "ss.shift(1,-200)\n",
    "ss.Js(10)\n",
    "ham_cs = pg.Hcs(ss)+pg.HJ(ss)\n",
    "detect = pg.Fp(ss)\n",
    "ss_eq  = pg.sigma_eq(ss)"
   ]
  },
  {
   "cell_type": "code",
   "execution_count": 130,
   "metadata": {},
   "outputs": [
    {
     "name": "stdout",
     "output_type": "stream",
     "text": [
      "Spin Index :      0            1      \n",
      "Isotope    :      1H           1H     \n",
      "Momentum   :     1/2          1/2     \n",
      "Shifts     :     0.00 Hz     -0.00 Hz \n",
      "           :     0.50 ppm    -0.50 ppm\n",
      "Js Spin 0  :                 10.00 Hz \n",
      "Omega      :   400.00 MHz   400.00 MHz\n",
      "\n"
     ]
    }
   ],
   "source": [
    "print(ss)"
   ]
  },
  {
   "cell_type": "code",
   "execution_count": 138,
   "metadata": {},
   "outputs": [],
   "source": [
    "npts = 8*1024\n",
    "fid = pg.row_vector(npts)"
   ]
  },
  {
   "cell_type": "code",
   "execution_count": 139,
   "metadata": {},
   "outputs": [],
   "source": [
    "ss_0 = pg.Iypuls( ss, ss_eq, 90.0 )"
   ]
  },
  {
   "cell_type": "code",
   "execution_count": 140,
   "metadata": {},
   "outputs": [],
   "source": [
    "pg.acquire(pg.gen_op(detect), ss_0, ham_cs,   1.0/(2*400), npts, fid)"
   ]
  },
  {
   "cell_type": "code",
   "execution_count": 145,
   "metadata": {},
   "outputs": [],
   "source": [
    "pg.exponential_multiply( fid, -10 )"
   ]
  },
  {
   "cell_type": "code",
   "execution_count": 146,
   "metadata": {},
   "outputs": [
    {
     "data": {
      "text/plain": [
       "[<matplotlib.lines.Line2D at 0x7f55e92e6080>]"
      ]
     },
     "execution_count": 146,
     "metadata": {},
     "output_type": "execute_result"
    },
    {
     "data": {
      "image/png": "[encoded data removed]",
      "text/plain": [
       "<Figure size 432x288 with 1 Axes>"
      ]
     },
     "metadata": {},
     "output_type": "display_data"
    }
   ],
   "source": [
    "plt.plot(fid.Real())"
   ]
  },
  {
   "cell_type": "code",
   "execution_count": 147,
   "metadata": {},
   "outputs": [],
   "source": [
    "spec =fid.FFT()"
   ]
  },
  {
   "cell_type": "code",
   "execution_count": 148,
   "metadata": {},
   "outputs": [
    {
     "data": {
      "image/png": "[encoded data removed]",
      "text/plain": [
       "<Figure size 432x288 with 1 Axes>"
      ]
     },
     "metadata": {},
     "output_type": "display_data"
    }
   ],
   "source": [
    "plt.plot( spec.Real() );"
   ]
  },
  {
   "cell_type": "code",
   "execution_count": null,
   "metadata": {},
   "outputs": [],
   "source": []
  },
  {
   "cell_type": "code",
   "execution_count": 37,
   "metadata": {},
   "outputs": [
    {
     "data": {
      "text/plain": [
       "1"
      ]
     },
     "execution_count": 37,
     "metadata": {},
     "output_type": "execute_result"
    }
   ],
   "source": [
    "ss.write(\"two_spin.sys\")"
   ]
  },
  {
   "cell_type": "code",
   "execution_count": 38,
   "metadata": {},
   "outputs": [
    {
     "data": {
      "text/plain": [
       "1"
      ]
     },
     "execution_count": 38,
     "metadata": {},
     "output_type": "execute_result"
    }
   ],
   "source": [
    "two_spin_sys = pg.spin_system()\n",
    "two_spin_sys.read(\"two_spin.sys\")"
   ]
  },
  {
   "cell_type": "code",
   "execution_count": 39,
   "metadata": {},
   "outputs": [
    {
     "name": "stdout",
     "output_type": "stream",
     "text": [
      "Spin Index :      0            1      \n",
      "Isotope    :      1H           1H     \n",
      "Momentum   :     1/2          1/2     \n",
      "Shifts     :     0.00 Hz     -0.00 Hz \n",
      "           :     0.07 ppm    -0.08 ppm\n",
      "Js Spin 0  :                  0.00 Hz \n",
      "Omega      :   400.00 MHz   400.00 MHz\n",
      "\n"
     ]
    }
   ],
   "source": [
    "print(two_spin_sys)"
   ]
  },
  {
   "cell_type": "code",
   "execution_count": 25,
   "metadata": {},
   "outputs": [
    {
     "data": {
      "text/plain": [
       "Spin Index :      0            1      \n",
       "Isotope    :      1H           1H     \n",
       "Momentum   :     1/2          1/2     \n",
       "Shifts     :     0.00 Hz     -0.00 Hz \n",
       "           :     0.07 ppm    -0.08 ppm\n",
       "Js Spin 0  :                  0.00 Hz \n",
       "Omega      :   400.00 MHz   400.00 MHz"
      ]
     },
     "execution_count": 25,
     "metadata": {},
     "output_type": "execute_result"
    }
   ],
   "source": [
    "two_spin_sys"
   ]
  },
  {
   "cell_type": "code",
   "execution_count": 149,
   "metadata": {},
   "outputs": [],
   "source": [
    "i_19F = pg.Isotope(\"19F\")"
   ]
  },
  {
   "cell_type": "code",
   "execution_count": 150,
   "metadata": {},
   "outputs": [
    {
     "name": "stdout",
     "output_type": "stream",
     "text": [
      "['A', 'AHz', 'AStrings', 'As', 'BeStrings', 'Bo', 'CoherDist', 'FieldAdjust', 'GFStrings', 'GetFlag', 'HS', 'HSvect', 'IsoDefault', 'J', 'JStrings', 'Js', 'Nyquist', 'OmStrings', 'Omega', 'OmegaAdjust', 'PPM', 'PPMStrings', 'PSetAdd', 'SAMStrings', 'SIStrings', 'SYMStrings', 'SYSStrings', 'SetFlag', 'SetFlags', 'VStrings', '__assign__', '__class__', '__del__', '__delattr__', '__dict__', '__dir__', '__disown__', '__doc__', '__eq__', '__format__', '__ge__', '__getattr__', '__getattribute__', '__gt__', '__hash__', '__init__', '__init_subclass__', '__le__', '__lt__', '__module__', '__ne__', '__new__', '__reduce__', '__reduce_ex__', '__repr__', '__setattr__', '__sizeof__', '__str__', '__subclasshook__', '__swig_destroy__', '__swig_getmethods__', '__swig_setmethods__', '__weakref__', '_s', 'ask_read', 'center', 'check_spin', 'check_spins', 'eepair', 'efield', 'efield_lab', 'electron', 'electrons', 'element', 'enpair', 'eshift', 'gamma', 'getSpins', 'get_basis', 'gfactor', 'heteronuclear', 'homonuclear', 'isotope', 'isotopes', 'lab_eshift', 'lab_shift', 'maxShift', 'medianShift', 'minShift', 'momentum', 'name', 'nepair', 'nnpair', 'nucleon', 'nucleons', 'offsetShifts', 'pairidx', 'printstrings', 'qState', 'qn', 'qnDist', 'qnState', 'qnStates', 'read', 'setAs', 'setGs', 'setIs', 'setJs', 'setName', 'setShifts', 'shift', 'shifts', 'spectrometer_frequency', 'spflag', 'spflags', 'spinhalf', 'spinpairs', 'spins', 'symbol', 'this', 'warnings', 'weight', 'write']\n"
     ]
    }
   ],
   "source": [
    "print(dir(two_spin_sys))"
   ]
  },
  {
   "cell_type": "code",
   "execution_count": 151,
   "metadata": {},
   "outputs": [
    {
     "ename": "AttributeError",
     "evalue": "'Isotope' object has no attribute 'print'",
     "output_type": "error",
     "traceback": [
      "\u001b[0;31m---------------------------------------------------------------------------\u001b[0m",
      "\u001b[0;31mAttributeError\u001b[0m                            Traceback (most recent call last)",
      "\u001b[0;32m<ipython-input-151-b468dc45b095>\u001b[0m in \u001b[0;36m<module>\u001b[0;34m\u001b[0m\n\u001b[0;32m----> 1\u001b[0;31m \u001b[0mi_19F\u001b[0m\u001b[0;34m.\u001b[0m\u001b[0mprint\u001b[0m\u001b[0;34m(\u001b[0m\u001b[0;34m)\u001b[0m\u001b[0;34m\u001b[0m\u001b[0;34m\u001b[0m\u001b[0m\n\u001b[0m",
      "\u001b[0;32m~/anaconda2/envs/py36/lib/python3.6/site-packages/pygamma.py\u001b[0m in \u001b[0;36m<lambda>\u001b[0;34m(self, name)\u001b[0m\n\u001b[1;32m    277\u001b[0m     \u001b[0m__setattr__\u001b[0m \u001b[0;34m=\u001b[0m \u001b[0;32mlambda\u001b[0m \u001b[0mself\u001b[0m\u001b[0;34m,\u001b[0m \u001b[0mname\u001b[0m\u001b[0;34m,\u001b[0m \u001b[0mvalue\u001b[0m\u001b[0;34m:\u001b[0m \u001b[0m_swig_setattr\u001b[0m\u001b[0;34m(\u001b[0m\u001b[0mself\u001b[0m\u001b[0;34m,\u001b[0m \u001b[0mIsotope\u001b[0m\u001b[0;34m,\u001b[0m \u001b[0mname\u001b[0m\u001b[0;34m,\u001b[0m \u001b[0mvalue\u001b[0m\u001b[0;34m)\u001b[0m\u001b[0;34m\u001b[0m\u001b[0;34m\u001b[0m\u001b[0m\n\u001b[1;32m    278\u001b[0m     \u001b[0m__swig_getmethods__\u001b[0m \u001b[0;34m=\u001b[0m \u001b[0;34m{\u001b[0m\u001b[0;34m}\u001b[0m\u001b[0;34m\u001b[0m\u001b[0;34m\u001b[0m\u001b[0m\n\u001b[0;32m--> 279\u001b[0;31m     \u001b[0m__getattr__\u001b[0m \u001b[0;34m=\u001b[0m \u001b[0;32mlambda\u001b[0m \u001b[0mself\u001b[0m\u001b[0;34m,\u001b[0m \u001b[0mname\u001b[0m\u001b[0;34m:\u001b[0m \u001b[0m_swig_getattr\u001b[0m\u001b[0;34m(\u001b[0m\u001b[0mself\u001b[0m\u001b[0;34m,\u001b[0m \u001b[0mIsotope\u001b[0m\u001b[0;34m,\u001b[0m \u001b[0mname\u001b[0m\u001b[0;34m)\u001b[0m\u001b[0;34m\u001b[0m\u001b[0;34m\u001b[0m\u001b[0m\n\u001b[0m\u001b[1;32m    280\u001b[0m     \u001b[0m__repr__\u001b[0m \u001b[0;34m=\u001b[0m \u001b[0m_swig_repr\u001b[0m\u001b[0;34m\u001b[0m\u001b[0;34m\u001b[0m\u001b[0m\n\u001b[1;32m    281\u001b[0m \u001b[0;34m\u001b[0m\u001b[0m\n",
      "\u001b[0;32m~/anaconda2/envs/py36/lib/python3.6/site-packages/pygamma.py\u001b[0m in \u001b[0;36m_swig_getattr\u001b[0;34m(self, class_type, name)\u001b[0m\n\u001b[1;32m     97\u001b[0m     \u001b[0;32mif\u001b[0m \u001b[0mmethod\u001b[0m\u001b[0;34m:\u001b[0m\u001b[0;34m\u001b[0m\u001b[0;34m\u001b[0m\u001b[0m\n\u001b[1;32m     98\u001b[0m         \u001b[0;32mreturn\u001b[0m \u001b[0mmethod\u001b[0m\u001b[0;34m(\u001b[0m\u001b[0mself\u001b[0m\u001b[0;34m)\u001b[0m\u001b[0;34m\u001b[0m\u001b[0;34m\u001b[0m\u001b[0m\n\u001b[0;32m---> 99\u001b[0;31m     \u001b[0;32mraise\u001b[0m \u001b[0mAttributeError\u001b[0m\u001b[0;34m(\u001b[0m\u001b[0;34m\"'%s' object has no attribute '%s'\"\u001b[0m \u001b[0;34m%\u001b[0m \u001b[0;34m(\u001b[0m\u001b[0mclass_type\u001b[0m\u001b[0;34m.\u001b[0m\u001b[0m__name__\u001b[0m\u001b[0;34m,\u001b[0m \u001b[0mname\u001b[0m\u001b[0;34m)\u001b[0m\u001b[0;34m)\u001b[0m\u001b[0;34m\u001b[0m\u001b[0;34m\u001b[0m\u001b[0m\n\u001b[0m\u001b[1;32m    100\u001b[0m \u001b[0;34m\u001b[0m\u001b[0m\n\u001b[1;32m    101\u001b[0m \u001b[0;34m\u001b[0m\u001b[0m\n",
      "\u001b[0;31mAttributeError\u001b[0m: 'Isotope' object has no attribute 'print'"
     ]
    }
   ],
   "source": [
    "i_19F.print()"
   ]
  },
  {
   "cell_type": "code",
   "execution_count": 152,
   "metadata": {},
   "outputs": [
    {
     "data": {
      "text/plain": [
       "True"
      ]
     },
     "execution_count": 152,
     "metadata": {},
     "output_type": "execute_result"
    }
   ],
   "source": [
    "pg.Isotope.known(\"25Mg\")"
   ]
  },
  {
   "cell_type": "code",
   "execution_count": null,
   "metadata": {},
   "outputs": [],
   "source": []
  }
 ],
 "metadata": {
  "kernelspec": {
   "display_name": "Python 3",
   "language": "python",
   "name": "python3"
  },
  "language_info": {
   "codemirror_mode": {
    "name": "ipython",
    "version": 3
   },
   "file_extension": ".py",
   "mimetype": "text/x-python",
   "name": "python",
   "nbconvert_exporter": "python",
   "pygments_lexer": "ipython3",
   "version": "3.6.7"
  }
 },
 "nbformat": 4,
 "nbformat_minor": 2
}
