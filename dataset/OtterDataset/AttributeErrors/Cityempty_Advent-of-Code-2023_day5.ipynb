{
 "cells": [
  {
   "cell_type": "code",
   "execution_count": 11,
   "metadata": {},
   "outputs": [],
   "source": [
    "#imports\n",
    "import sys\n",
    "from tqdm import tqdm"
   ]
  },
  {
   "cell_type": "code",
   "execution_count": 13,
   "metadata": {},
   "outputs": [],
   "source": [
    "#load small input\n",
    "input = open(\"./../../data/day_5/small_input.txt\", \"r\").readlines()"
   ]
  },
  {
   "cell_type": "code",
   "execution_count": 3,
   "metadata": {},
   "outputs": [],
   "source": [
    "#load input\n",
    "input = open(\"./../../data/day_5/input.txt\", \"r\").readlines()"
   ]
  },
  {
   "cell_type": "code",
   "execution_count": 4,
   "metadata": {},
   "outputs": [],
   "source": [
    "# as writing everything to dictionaries is too slow today, we use this class instead:\n",
    "\n",
    "class AoC_Range():\n",
    "    def __init__(self, start, target, length):\n",
    "        self.start = start\n",
    "        self.target = target\n",
    "        self.length = length\n",
    "    \n",
    "    def maps_value(self, value):\n",
    "        return value >= self.start and value < self.start+self.length\n",
    "    \n",
    "    def maps_value_reverse(self, value):\n",
    "        return value >= self.target and value < self.target+self.length\n",
    "    \n",
    "    def map(self, value):\n",
    "        return self.target + value - self.start \n",
    "    \n",
    "    def map_reverse(self, value):\n",
    "        return self.start + value - self.target\n",
    "        \n",
    "\n",
    "class AoC_Map():\n",
    "    def __init__(self):\n",
    "        self.ranges = []\n",
    "\n",
    "    def add_range(self, start, target, length):\n",
    "        self.ranges.append(AoC_Range(start, target, length))\n",
    "\n",
    "    def map(self, value):\n",
    "        for r in self.ranges:\n",
    "            if r.maps_value(value):\n",
    "                return r.map(value)\n",
    "        return value\n",
    "    \n",
    "    def map_reverse(self, value):\n",
    "        for r in self.ranges:\n",
    "            if r.maps_value_reverse(value):\n",
    "                return r.map_reverse(value)\n",
    "        return value\n",
    "        "
   ]
  },
  {
   "cell_type": "code",
   "execution_count": 4,
   "metadata": {},
   "outputs": [],
   "source": [
    "## first idea for processing input, does not work for input with very long ranges\n",
    "sections = []\n",
    "# process input\n",
    "finished_section = True\n",
    "for line in input:\n",
    "    if line.strip() != \"\":\n",
    "        if finished_section:\n",
    "            finished_section=False\n",
    "            sections.append([line.strip()])\n",
    "        else:\n",
    "            sections[-1].append(line.strip())\n",
    "    else:\n",
    "        finished_section=True\n",
    "\n",
    "seeds = []\n",
    "for line in sections[0]:\n",
    "    seeds.extend([int(x) for x in line.split(\":\")[1].strip().split()])\n",
    "\n",
    "def create_dict(section, target_dict):\n",
    "    for line in section[1:]:\n",
    "        vals = line.strip().split()\n",
    "        target_range = range(int(vals[0]), int(vals[0])+int(vals[2]))\n",
    "        start_range = range(int(vals[1]), int(vals[1])+int(vals[2]))\n",
    "        for s,t in zip(start_range, target_range):\n",
    "            target_dict[s] = t\n",
    "\n",
    "seed_to_soil = {}\n",
    "create_dict(sections[1], seed_to_soil)\n",
    "\n",
    "soil_to_fertilizer = {}\n",
    "create_dict(sections[2], soil_to_fertilizer)\n",
    "\n",
    "fertilizer_to_water = {}\n",
    "create_dict(sections[3], fertilizer_to_water)\n",
    "\n",
    "water_to_light = {}\n",
    "create_dict(sections[4], water_to_light)\n",
    "\n",
    "light_to_temperature = {}\n",
    "create_dict(sections[5], light_to_temperature)\n",
    "\n",
    "temperature_to_humidity = {}\n",
    "create_dict(sections[6], temperature_to_humidity)\n",
    "\n",
    "humidity_to_location = {}\n",
    "create_dict(sections[7], humidity_to_location)"
   ]
  },
  {
   "cell_type": "code",
   "execution_count": 5,
   "metadata": {},
   "outputs": [],
   "source": [
    "\n",
    "sections = []\n",
    "# process input\n",
    "finished_section = True\n",
    "for line in input:\n",
    "    if line.strip() != \"\":\n",
    "        if finished_section:\n",
    "            finished_section=False\n",
    "            sections.append([line.strip()])\n",
    "        else:\n",
    "            sections[-1].append(line.strip())\n",
    "    else:\n",
    "        finished_section=True\n",
    "\n",
    "seeds = []\n",
    "for line in sections[0]:\n",
    "    seeds.extend([int(x) for x in line.split(\":\")[1].strip().split()])\n",
    "\n",
    "def create_map(section):\n",
    "    map = AoC_Map()\n",
    "    for line in section[1:]:\n",
    "        vals = line.strip().split()\n",
    "        map.add_range(int(vals[1]), int(vals[0]), int(vals[2]))\n",
    "    return map\n",
    "\n",
    "# seed_to_soil = {}\n",
    "# create_dict(sections[1], seed_to_soil)\n",
    "seed_to_soil = create_map(sections[1])\n",
    "\n",
    "# soil_to_fertilizer = {}\n",
    "# create_dict(sections[2], soil_to_fertilizer)\n",
    "soil_to_fertilizer = create_map(sections[2])\n",
    "\n",
    "# fertilizer_to_water = {}\n",
    "# create_dict(sections[3], fertilizer_to_water)\n",
    "fertilizer_to_water = create_map(sections[3])\n",
    "\n",
    "# water_to_light = {}\n",
    "# create_dict(sections[4], water_to_light)\n",
    "water_to_light = create_map(sections[4])\n",
    "\n",
    "# light_to_temperature = {}\n",
    "# create_dict(sections[5], light_to_temperature)\n",
    "light_to_temperature = create_map(sections[5])\n",
    "\n",
    "# temperature_to_humidity = {}\n",
    "# create_dict(sections[6], temperature_to_humidity)\n",
    "temperature_to_humidity = create_map(sections[6])\n",
    "\n",
    "# humidity_to_location = {}\n",
    "# create_dict(sections[7], humidity_to_location)\n",
    "humidity_to_location = create_map(sections[7])"
   ]
  },
  {
   "cell_type": "code",
   "execution_count": 6,
   "metadata": {},
   "outputs": [
    {
     "ename": "AttributeError",
     "evalue": "'AoC_Map' object has no attribute 'get'",
     "output_type": "error",
     "traceback": [
      "\u001b[1;31m---------------------------------------------------------------------------\u001b[0m",
      "\u001b[1;31mAttributeError\u001b[0m                            Traceback (most recent call last)",
      "\u001b[1;32md:\\SeriousBusiness\\Programming\\Advent-of-Code-2023\\src\\notebooks\\day5.ipynb Cell 7\u001b[0m line \u001b[0;36m8\n\u001b[0;32m      <a href='vscode-notebook-cell:/d%3A/SeriousBusiness/Programming/Advent-of-Code-2023/src/notebooks/day5.ipynb#W4sZmlsZQ%3D%3D?line=4'>5</a>\u001b[0m seed_locations \u001b[39m=\u001b[39m []\n\u001b[0;32m      <a href='vscode-notebook-cell:/d%3A/SeriousBusiness/Programming/Advent-of-Code-2023/src/notebooks/day5.ipynb#W4sZmlsZQ%3D%3D?line=5'>6</a>\u001b[0m \u001b[39mfor\u001b[39;00m seed \u001b[39min\u001b[39;00m seeds:\n\u001b[0;32m      <a href='vscode-notebook-cell:/d%3A/SeriousBusiness/Programming/Advent-of-Code-2023/src/notebooks/day5.ipynb#W4sZmlsZQ%3D%3D?line=6'>7</a>\u001b[0m     seed_locations\u001b[39m.\u001b[39mappend(\n\u001b[1;32m----> <a href='vscode-notebook-cell:/d%3A/SeriousBusiness/Programming/Advent-of-Code-2023/src/notebooks/day5.ipynb#W4sZmlsZQ%3D%3D?line=7'>8</a>\u001b[0m         humidity_to_location\u001b[39m.\u001b[39;49mget(\u001b[39m*\u001b[39mtpl(\n\u001b[0;32m      <a href='vscode-notebook-cell:/d%3A/SeriousBusiness/Programming/Advent-of-Code-2023/src/notebooks/day5.ipynb#W4sZmlsZQ%3D%3D?line=8'>9</a>\u001b[0m             temperature_to_humidity\u001b[39m.\u001b[39mget(\u001b[39m*\u001b[39mtpl(\n\u001b[0;32m     <a href='vscode-notebook-cell:/d%3A/SeriousBusiness/Programming/Advent-of-Code-2023/src/notebooks/day5.ipynb#W4sZmlsZQ%3D%3D?line=9'>10</a>\u001b[0m                 light_to_temperature\u001b[39m.\u001b[39mget(\u001b[39m*\u001b[39mtpl(\n\u001b[0;32m     <a href='vscode-notebook-cell:/d%3A/SeriousBusiness/Programming/Advent-of-Code-2023/src/notebooks/day5.ipynb#W4sZmlsZQ%3D%3D?line=10'>11</a>\u001b[0m                     water_to_light\u001b[39m.\u001b[39mget(\u001b[39m*\u001b[39mtpl(\n\u001b[0;32m     <a href='vscode-notebook-cell:/d%3A/SeriousBusiness/Programming/Advent-of-Code-2023/src/notebooks/day5.ipynb#W4sZmlsZQ%3D%3D?line=11'>12</a>\u001b[0m                         fertilizer_to_water\u001b[39m.\u001b[39mget(\u001b[39m*\u001b[39mtpl(\n\u001b[0;32m     <a href='vscode-notebook-cell:/d%3A/SeriousBusiness/Programming/Advent-of-Code-2023/src/notebooks/day5.ipynb#W4sZmlsZQ%3D%3D?line=12'>13</a>\u001b[0m                             soil_to_fertilizer\u001b[39m.\u001b[39mget(\u001b[39m*\u001b[39mtpl(\n\u001b[0;32m     <a href='vscode-notebook-cell:/d%3A/SeriousBusiness/Programming/Advent-of-Code-2023/src/notebooks/day5.ipynb#W4sZmlsZQ%3D%3D?line=13'>14</a>\u001b[0m                                 seed_to_soil\u001b[39m.\u001b[39mget(\u001b[39m*\u001b[39mtpl(seed))\n\u001b[0;32m     <a href='vscode-notebook-cell:/d%3A/SeriousBusiness/Programming/Advent-of-Code-2023/src/notebooks/day5.ipynb#W4sZmlsZQ%3D%3D?line=14'>15</a>\u001b[0m                             ))\n\u001b[0;32m     <a href='vscode-notebook-cell:/d%3A/SeriousBusiness/Programming/Advent-of-Code-2023/src/notebooks/day5.ipynb#W4sZmlsZQ%3D%3D?line=15'>16</a>\u001b[0m                         ))\n\u001b[0;32m     <a href='vscode-notebook-cell:/d%3A/SeriousBusiness/Programming/Advent-of-Code-2023/src/notebooks/day5.ipynb#W4sZmlsZQ%3D%3D?line=16'>17</a>\u001b[0m                     ))\n\u001b[0;32m     <a href='vscode-notebook-cell:/d%3A/SeriousBusiness/Programming/Advent-of-Code-2023/src/notebooks/day5.ipynb#W4sZmlsZQ%3D%3D?line=17'>18</a>\u001b[0m                 ))\n\u001b[0;32m     <a href='vscode-notebook-cell:/d%3A/SeriousBusiness/Programming/Advent-of-Code-2023/src/notebooks/day5.ipynb#W4sZmlsZQ%3D%3D?line=18'>19</a>\u001b[0m             ))\n\u001b[0;32m     <a href='vscode-notebook-cell:/d%3A/SeriousBusiness/Programming/Advent-of-Code-2023/src/notebooks/day5.ipynb#W4sZmlsZQ%3D%3D?line=19'>20</a>\u001b[0m         ))\n\u001b[0;32m     <a href='vscode-notebook-cell:/d%3A/SeriousBusiness/Programming/Advent-of-Code-2023/src/notebooks/day5.ipynb#W4sZmlsZQ%3D%3D?line=20'>21</a>\u001b[0m     )\n\u001b[0;32m     <a href='vscode-notebook-cell:/d%3A/SeriousBusiness/Programming/Advent-of-Code-2023/src/notebooks/day5.ipynb#W4sZmlsZQ%3D%3D?line=22'>23</a>\u001b[0m min_seed_location \u001b[39m=\u001b[39m \u001b[39mmin\u001b[39m(seed_locations)\n\u001b[0;32m     <a href='vscode-notebook-cell:/d%3A/SeriousBusiness/Programming/Advent-of-Code-2023/src/notebooks/day5.ipynb#W4sZmlsZQ%3D%3D?line=23'>24</a>\u001b[0m \u001b[39mprint\u001b[39m(\u001b[39mf\u001b[39m\u001b[39m\"\u001b[39m\u001b[39mPart 1: \u001b[39m\u001b[39m{\u001b[39;00mmin_seed_location\u001b[39m}\u001b[39;00m\u001b[39m\"\u001b[39m)\n",
      "\u001b[1;31mAttributeError\u001b[0m: 'AoC_Map' object has no attribute 'get'"
     ]
    }
   ],
   "source": [
    "# Part 1\n",
    "## first idea for computing part 1, doesnt work with large input as dictionaries cannot be created\n",
    "tpl = lambda x: (x,x)\n",
    "\n",
    "seed_locations = []\n",
    "for seed in seeds:\n",
    "    seed_locations.append(\n",
    "        humidity_to_location.get(*tpl(\n",
    "            temperature_to_humidity.get(*tpl(\n",
    "                light_to_temperature.get(*tpl(\n",
    "                    water_to_light.get(*tpl(\n",
    "                        fertilizer_to_water.get(*tpl(\n",
    "                            soil_to_fertilizer.get(*tpl(\n",
    "                                seed_to_soil.get(*tpl(seed))\n",
    "                            ))\n",
    "                        ))\n",
    "                    ))\n",
    "                ))\n",
    "            ))\n",
    "        ))\n",
    "    )\n",
    "\n",
    "min_seed_location = min(seed_locations)\n",
    "print(f\"Part 1: {min_seed_location}\")"
   ]
  },
  {
   "cell_type": "code",
   "execution_count": 7,
   "metadata": {},
   "outputs": [
    {
     "name": "stdout",
     "output_type": "stream",
     "text": [
      "Part 1: 323142486\n"
     ]
    }
   ],
   "source": [
    "# Part 1\n",
    "\n",
    "seed_locations = []\n",
    "for seed in seeds:\n",
    "    seed_locations.append(\n",
    "        humidity_to_location.map(\n",
    "            temperature_to_humidity.map(\n",
    "                light_to_temperature.map(\n",
    "                    water_to_light.map(\n",
    "                        fertilizer_to_water.map(\n",
    "                            soil_to_fertilizer.map(\n",
    "                                seed_to_soil.map(seed)\n",
    "                            )\n",
    "                        )\n",
    "                    )\n",
    "                )\n",
    "            )\n",
    "        )\n",
    "    )\n",
    "\n",
    "min_seed_location = min(seed_locations)\n",
    "print(f\"Part 1: {min_seed_location}\")"
   ]
  },
  {
   "cell_type": "code",
   "execution_count": 12,
   "metadata": {},
   "outputs": [],
   "source": [
    "# Part 2\n",
    "def find_location(seed_ranges):\n",
    "    for location in tqdm(range(0, sys.maxsize), miniters=1000):\n",
    "        seed = seed_to_soil.map_reverse(\n",
    "            soil_to_fertilizer.map_reverse(\n",
    "                fertilizer_to_water.map_reverse(\n",
    "                    water_to_light.map_reverse(\n",
    "                        light_to_temperature.map_reverse(\n",
    "                            temperature_to_humidity.map_reverse(\n",
    "                                humidity_to_location.map_reverse(location)\n",
    "                            )\n",
    "                        )\n",
    "                    )\n",
    "                )\n",
    "            )\n",
    "        )\n",
    "        for (s,l) in seed_ranges:\n",
    "            if seed >= s and seed < s+l:\n",
    "                return location\n",
    "\n",
    "\n"
   ]
  },
  {
   "cell_type": "code",
   "execution_count": 13,
   "metadata": {},
   "outputs": [],
   "source": [
    "tpl = lambda x: (x,x)\n",
    "seed_ranges  = list(zip(*tpl(iter(seeds))))"
   ]
  },
  {
   "cell_type": "code",
   "execution_count": 14,
   "metadata": {},
   "outputs": [
    {
     "name": "stderr",
     "output_type": "stream",
     "text": [
      "  0%|          | 79874951/9223372036854775807 [16:32<31837554431:25:49, 80472.51it/s] "
     ]
    },
    {
     "name": "stdout",
     "output_type": "stream",
     "text": [
      "Part 2: 79874951\n"
     ]
    },
    {
     "name": "stderr",
     "output_type": "stream",
     "text": [
      "\n"
     ]
    }
   ],
   "source": [
    "min_location = find_location(seed_ranges)\n",
    "\n",
    "print(f\"Part 2: {min_location}\")"
   ]
  }
 ],
 "metadata": {
  "kernelspec": {
   "display_name": "DL",
   "language": "python",
   "name": "python3"
  },
  "language_info": {
   "codemirror_mode": {
    "name": "ipython",
    "version": 3
   },
   "file_extension": ".py",
   "mimetype": "text/x-python",
   "name": "python",
   "nbconvert_exporter": "python",
   "pygments_lexer": "ipython3",
   "version": "3.11.3"
  }
 },
 "nbformat": 4,
 "nbformat_minor": 2
}
