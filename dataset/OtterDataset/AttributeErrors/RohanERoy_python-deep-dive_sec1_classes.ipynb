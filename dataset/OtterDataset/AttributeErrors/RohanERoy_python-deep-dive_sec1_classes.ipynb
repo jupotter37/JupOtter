{
 "cells": [
  {
   "cell_type": "markdown",
   "id": "d59cc289-083f-41bd-8356-b753092a9a30",
   "metadata": {},
   "source": [
    "# Classes"
   ]
  },
  {
   "cell_type": "markdown",
   "id": "87c93f1d-daa8-4047-92ca-617215348ff2",
   "metadata": {},
   "source": [
    "## Initialization\n",
    "* Initializer in Python is implemented using the **dunder init** method\n",
    "* \\_\\_init\\_\\_() method runs once the object is created"
   ]
  },
  {
   "cell_type": "markdown",
   "id": "f174d84e-f22c-4e5e-b486-bd2d576e17ee",
   "metadata": {},
   "source": [
    "## Self\n",
    "* First argument of any instance method is the object itself\n",
    "* You can call it anything, but it is a _convention_ to call it **self**"
   ]
  },
  {
   "cell_type": "code",
   "execution_count": 1,
   "id": "b000b9d6-282f-40a4-ba5f-da6897ea7717",
   "metadata": {},
   "outputs": [],
   "source": [
    "class Rectangle:\n",
    "    def __init__(self, width, height):\n",
    "        self.width = width\n",
    "        self.height = height"
   ]
  },
  {
   "cell_type": "markdown",
   "id": "be4d43b4-bad5-4b9f-a0de-d6270c27220d",
   "metadata": {},
   "source": [
    "## Attributes, Properties and Methods of an instance\n",
    "* Value attributes are called **properties**\n",
    "* Callable attributes of an object are called **methods**"
   ]
  },
  {
   "cell_type": "code",
   "execution_count": 2,
   "id": "e7841de7-3da9-4ec7-9229-ac4dc91dbb86",
   "metadata": {},
   "outputs": [],
   "source": [
    "r1 = Rectangle(10, 20) "
   ]
  },
  {
   "cell_type": "code",
   "execution_count": 3,
   "id": "6cd56d9a-7807-4816-8397-49d52fc4331b",
   "metadata": {},
   "outputs": [
    {
     "data": {
      "text/plain": [
       "10"
      ]
     },
     "execution_count": 3,
     "metadata": {},
     "output_type": "execute_result"
    }
   ],
   "source": [
    "r1.width"
   ]
  },
  {
   "cell_type": "code",
   "execution_count": 4,
   "id": "b3f79c09-bf16-4179-be39-978b92e6a273",
   "metadata": {},
   "outputs": [
    {
     "data": {
      "text/plain": [
       "20"
      ]
     },
     "execution_count": 4,
     "metadata": {},
     "output_type": "execute_result"
    }
   ],
   "source": [
    "r1.height"
   ]
  },
  {
   "cell_type": "code",
   "execution_count": 5,
   "id": "b9d5128b-4f38-4653-8fa6-401cddb1491b",
   "metadata": {},
   "outputs": [],
   "source": [
    "r1.width = 100"
   ]
  },
  {
   "cell_type": "code",
   "execution_count": 6,
   "id": "864502b7-f859-49e4-a2a2-451a84f2cfac",
   "metadata": {},
   "outputs": [
    {
     "data": {
      "text/plain": [
       "100"
      ]
     },
     "execution_count": 6,
     "metadata": {},
     "output_type": "execute_result"
    }
   ],
   "source": [
    "r1.width"
   ]
  },
  {
   "cell_type": "markdown",
   "id": "c7327bb5-cc7b-4906-8a44-2733d0be64ae",
   "metadata": {},
   "source": [
    "## Adding attributes that are callable i.e., methods"
   ]
  },
  {
   "cell_type": "code",
   "execution_count": 7,
   "id": "c699b069-1709-4963-97d8-60003e3ea2aa",
   "metadata": {},
   "outputs": [],
   "source": [
    "class Rectangle:\n",
    "    def __init__(self, width, height):\n",
    "        self.width = width\n",
    "        self.height = height\n",
    "\n",
    "    \n",
    "    def area(self):\n",
    "        return self.width * self.height\n",
    "\n",
    "    \n",
    "    def perimeter(self):\n",
    "        return 2 * (self.width + self.height)"
   ]
  },
  {
   "cell_type": "code",
   "execution_count": 8,
   "id": "0031ac1f-3339-4714-b91b-5002e5aeae7d",
   "metadata": {},
   "outputs": [],
   "source": [
    "r1 = Rectangle(10, 20)"
   ]
  },
  {
   "cell_type": "code",
   "execution_count": 9,
   "id": "9eeea548-e5e1-4d52-8838-2212fb933b50",
   "metadata": {},
   "outputs": [
    {
     "data": {
      "text/plain": [
       "200"
      ]
     },
     "execution_count": 9,
     "metadata": {},
     "output_type": "execute_result"
    }
   ],
   "source": [
    "r1.area()"
   ]
  },
  {
   "cell_type": "code",
   "execution_count": 10,
   "id": "2d4107a5-e629-4f42-b669-fca3f6dbc4d6",
   "metadata": {},
   "outputs": [
    {
     "data": {
      "text/plain": [
       "60"
      ]
     },
     "execution_count": 10,
     "metadata": {},
     "output_type": "execute_result"
    }
   ],
   "source": [
    "r1.perimeter()"
   ]
  },
  {
   "cell_type": "code",
   "execution_count": 11,
   "id": "1e1f147d-acd7-44b0-8382-802131384b20",
   "metadata": {},
   "outputs": [
    {
     "data": {
      "text/plain": [
       "'<__main__.Rectangle object at 0x7dc4580e61d0>'"
      ]
     },
     "execution_count": 11,
     "metadata": {},
     "output_type": "execute_result"
    }
   ],
   "source": [
    "str(r1)"
   ]
  },
  {
   "cell_type": "code",
   "execution_count": 12,
   "id": "32b9ac97-ba38-4162-b1e6-9c165ed7b3a6",
   "metadata": {},
   "outputs": [
    {
     "data": {
      "text/plain": [
       "'0x7dc4580e61d0'"
      ]
     },
     "execution_count": 12,
     "metadata": {},
     "output_type": "execute_result"
    }
   ],
   "source": [
    "hex(id(r1))"
   ]
  },
  {
   "cell_type": "markdown",
   "id": "8ee63488-be21-4fef-9727-74f90eb4e8ac",
   "metadata": {},
   "source": [
    "**Note:** \n",
    "* Inbuilt id function gives the memory location/address at which the object passed as argument is stored\n",
    "* hex is an inbuilt function used to convert decimal number to hexadecimal number"
   ]
  },
  {
   "cell_type": "markdown",
   "id": "4d54c38f-3bbf-40b6-9c20-d0d8defd7a34",
   "metadata": {},
   "source": [
    "## Dunder/Special/Magic Methods\n",
    "* They are commonly used for **operator overloading**\n",
    "* Dunder stands for \"Double Underscore\""
   ]
  },
  {
   "cell_type": "code",
   "execution_count": 13,
   "id": "611d3844-e2cf-4375-95d0-6ff914fa6bbb",
   "metadata": {},
   "outputs": [],
   "source": [
    "class Rectangle:\n",
    "    def __init__(self, width, height):\n",
    "        self.width = width\n",
    "        self.height = height\n",
    "\n",
    "    \n",
    "    def area(self):\n",
    "        return self.width * self.height\n",
    "\n",
    "    \n",
    "    def perimeter(self):\n",
    "        return 2 * (self.width + self.height)\n",
    "\n",
    "\n",
    "    def __str__(self):\n",
    "        return 'Rectangle: width={0}, height={1}'.format(self.width, self.height)\n",
    "\n",
    "    \n",
    "    def __repr__(self):\n",
    "        return 'Rectangle({0}, {1})'.format(self.width, self.height)"
   ]
  },
  {
   "cell_type": "code",
   "execution_count": 14,
   "id": "72ee7560-48b0-4fbd-aebf-7795d9d8941c",
   "metadata": {},
   "outputs": [],
   "source": [
    "r1 = Rectangle(10, 20)"
   ]
  },
  {
   "cell_type": "code",
   "execution_count": 15,
   "id": "1d21aa60-36e7-4146-a05e-15e4e5b12c68",
   "metadata": {},
   "outputs": [
    {
     "data": {
      "text/plain": [
       "'Rectangle: width=10, height=20'"
      ]
     },
     "execution_count": 15,
     "metadata": {},
     "output_type": "execute_result"
    }
   ],
   "source": [
    "str(r1)"
   ]
  },
  {
   "cell_type": "markdown",
   "id": "435da237-41ce-479f-b214-64691bd526d6",
   "metadata": {},
   "source": [
    "## \\_\\_repr\\_\\_() i.e., representation \n",
    "* representation is typically, if it's possible, a string that shows how you would build the object up again\n",
    "* \"if possible\" because in some cases it's too many variables\n",
    "* Also not that, if you haven't defined \\_\\_str\\_\\_() method, then the built-in object implementation calls the \\_\\_repr\\_\\_() method instead"
   ]
  },
  {
   "cell_type": "code",
   "execution_count": 16,
   "id": "1f01f108-f4e9-44ad-82d2-ac53868c43b4",
   "metadata": {},
   "outputs": [
    {
     "data": {
      "text/plain": [
       "Rectangle(10, 20)"
      ]
     },
     "execution_count": 16,
     "metadata": {},
     "output_type": "execute_result"
    }
   ],
   "source": [
    "r1"
   ]
  },
  {
   "cell_type": "code",
   "execution_count": 17,
   "id": "199518a8-5ac3-4b91-a4d4-b5016c0d7373",
   "metadata": {},
   "outputs": [],
   "source": [
    "r2 = Rectangle(10, 20)"
   ]
  },
  {
   "cell_type": "code",
   "execution_count": 18,
   "id": "6f8769b6-9993-4896-9278-75a2ebf124bb",
   "metadata": {},
   "outputs": [
    {
     "data": {
      "text/plain": [
       "True"
      ]
     },
     "execution_count": 18,
     "metadata": {},
     "output_type": "execute_result"
    }
   ],
   "source": [
    "r1 is not r2"
   ]
  },
  {
   "cell_type": "markdown",
   "id": "a0477961-1122-40c7-b077-3def7cf924f5",
   "metadata": {},
   "source": [
    "#### Though r1 and r2 are basically the same rectangle, you will notice thet they are different memory addresses, different objects, different instances of the class"
   ]
  },
  {
   "cell_type": "code",
   "execution_count": 19,
   "id": "3552d728-3b23-42f5-9d8d-e573c18e05a3",
   "metadata": {},
   "outputs": [
    {
     "data": {
      "text/plain": [
       "False"
      ]
     },
     "execution_count": 19,
     "metadata": {},
     "output_type": "execute_result"
    }
   ],
   "source": [
    "r1 == r2"
   ]
  },
  {
   "cell_type": "markdown",
   "id": "b3bc4093-c327-460e-a9f1-71a3120c75f2",
   "metadata": {},
   "source": [
    "## \\_\\_eq\\_\\_() method"
   ]
  },
  {
   "cell_type": "code",
   "execution_count": 20,
   "id": "7c59d467-1ee9-4b73-8b29-229286e63604",
   "metadata": {},
   "outputs": [],
   "source": [
    "class Rectangle:\n",
    "    def __init__(self, width, height):\n",
    "        self.width = width\n",
    "        self.height = height\n",
    "\n",
    "    \n",
    "    def area(self):\n",
    "        return self.width * self.height\n",
    "\n",
    "    \n",
    "    def perimeter(self):\n",
    "        return 2 * (self.width + self.height)\n",
    "\n",
    "    \n",
    "    def __str__(self):\n",
    "        return 'Rectangle: width={0}, height={1}'.format(self.width, self.height)\n",
    "\n",
    "    \n",
    "    def __repr__(self):\n",
    "        return 'Rectangle({0}, {1})'.format(self.width, self.height)\n",
    "\n",
    "\n",
    "    def __eq__(self, other):\n",
    "        return self.width == other.width and self.height == other.height"
   ]
  },
  {
   "cell_type": "code",
   "execution_count": 21,
   "id": "15b232a7-73d4-400f-b5af-d71db6fb05c9",
   "metadata": {},
   "outputs": [],
   "source": [
    "r1 = Rectangle(10, 20)"
   ]
  },
  {
   "cell_type": "code",
   "execution_count": 22,
   "id": "c2d08f70-4ed7-45bb-914f-ecd4ca297ffc",
   "metadata": {},
   "outputs": [],
   "source": [
    "r2 = Rectangle(10, 20)"
   ]
  },
  {
   "cell_type": "code",
   "execution_count": 23,
   "id": "4be0b306-4cd0-4c03-9254-5641ee15a17d",
   "metadata": {},
   "outputs": [
    {
     "data": {
      "text/plain": [
       "True"
      ]
     },
     "execution_count": 23,
     "metadata": {},
     "output_type": "execute_result"
    }
   ],
   "source": [
    "r1 is not r2"
   ]
  },
  {
   "cell_type": "markdown",
   "id": "6c4ed353-6120-4407-a2f5-c54b2934611e",
   "metadata": {},
   "source": [
    "**This is still true as r1 and r2 are different objects**"
   ]
  },
  {
   "cell_type": "code",
   "execution_count": 24,
   "id": "3203773e-7dcb-4bb6-8299-025d3f7d0b30",
   "metadata": {},
   "outputs": [
    {
     "data": {
      "text/plain": [
       "True"
      ]
     },
     "execution_count": 24,
     "metadata": {},
     "output_type": "execute_result"
    }
   ],
   "source": [
    "r1 == r2"
   ]
  },
  {
   "cell_type": "code",
   "execution_count": 25,
   "id": "0ead4dfc-d58a-4199-8a6a-e950d34f87e1",
   "metadata": {
    "scrolled": true
   },
   "outputs": [
    {
     "ename": "AttributeError",
     "evalue": "'int' object has no attribute 'width'",
     "output_type": "error",
     "traceback": [
      "\u001b[0;31m---------------------------------------------------------------------------\u001b[0m",
      "\u001b[0;31mAttributeError\u001b[0m                            Traceback (most recent call last)",
      "Cell \u001b[0;32mIn[25], line 1\u001b[0m\n\u001b[0;32m----> 1\u001b[0m \u001b[43mr1\u001b[49m\u001b[43m \u001b[49m\u001b[38;5;241;43m==\u001b[39;49m\u001b[43m \u001b[49m\u001b[38;5;241;43m100\u001b[39;49m\n",
      "Cell \u001b[0;32mIn[20], line 24\u001b[0m, in \u001b[0;36mRectangle.__eq__\u001b[0;34m(self, other)\u001b[0m\n\u001b[1;32m     23\u001b[0m \u001b[38;5;28;01mdef\u001b[39;00m \u001b[38;5;21m__eq__\u001b[39m(\u001b[38;5;28mself\u001b[39m, other):\n\u001b[0;32m---> 24\u001b[0m     \u001b[38;5;28;01mreturn\u001b[39;00m \u001b[38;5;28mself\u001b[39m\u001b[38;5;241m.\u001b[39mwidth \u001b[38;5;241m==\u001b[39m \u001b[43mother\u001b[49m\u001b[38;5;241;43m.\u001b[39;49m\u001b[43mwidth\u001b[49m \u001b[38;5;129;01mand\u001b[39;00m \u001b[38;5;28mself\u001b[39m\u001b[38;5;241m.\u001b[39mheight \u001b[38;5;241m==\u001b[39m other\u001b[38;5;241m.\u001b[39mheight\n",
      "\u001b[0;31mAttributeError\u001b[0m: 'int' object has no attribute 'width'"
     ]
    }
   ],
   "source": [
    "r1 == 100"
   ]
  },
  {
   "cell_type": "markdown",
   "id": "4d51c9d7-afa5-4ebb-b122-6e05f5404769",
   "metadata": {},
   "source": [
    "#### To fix this, we want to make sure that other is an instance of Rectangle. "
   ]
  },
  {
   "cell_type": "markdown",
   "id": "2924a47c-6dd9-4e05-863d-8fb88c399d37",
   "metadata": {},
   "source": [
    "#### But I am not going to use type as shown below"
   ]
  },
  {
   "cell_type": "code",
   "execution_count": 26,
   "id": "6fbed213-6a58-4cdf-8441-bc6c62b0a77a",
   "metadata": {},
   "outputs": [],
   "source": [
    "r1 = Rectangle(10, 20)"
   ]
  },
  {
   "cell_type": "code",
   "execution_count": 27,
   "id": "950b0222-78d1-459b-b181-4b7c2a014c27",
   "metadata": {},
   "outputs": [
    {
     "data": {
      "text/plain": [
       "True"
      ]
     },
     "execution_count": 27,
     "metadata": {},
     "output_type": "execute_result"
    }
   ],
   "source": [
    "type(r1) is Rectangle"
   ]
  },
  {
   "cell_type": "markdown",
   "id": "5b8db9df-c069-49b8-bf07-af9cd98fb261",
   "metadata": {},
   "source": [
    "#### type() is too restrictive. If I use type(), I can find the type of other and it will tell me it's a Rectangle.\n",
    "#### But what it doesn't handle is if I sub-class the Rectangle. \n",
    "#### So, now we can do something like below"
   ]
  },
  {
   "cell_type": "code",
   "execution_count": 28,
   "id": "31e5103d-0a75-4a09-90f3-ed63bf031713",
   "metadata": {},
   "outputs": [],
   "source": [
    "class Rectangle:\n",
    "    def __init__(self, width, height):\n",
    "        self.width = width\n",
    "        self.height = height\n",
    "\n",
    "    \n",
    "    def area(self):\n",
    "        return self.width * self.height\n",
    "\n",
    "    \n",
    "    def perimeter(self):\n",
    "        return 2 * (self.width + self.height)\n",
    "\n",
    "    \n",
    "    def __str__(self):\n",
    "        return 'Rectangle: width={0}, height={1}'.format(self.width, self.height)\n",
    "\n",
    "    \n",
    "    def __repr__(self):\n",
    "        return 'Rectangle({0}, {1})'.format(self.width, self.height)\n",
    "\n",
    "\n",
    "    def __eq__(self, other):\n",
    "        if isinstance(other, Rectangle):\n",
    "            return self.width == other.width and self.height == other.height\n",
    "        else:\n",
    "            return False\n",
    "            # If you are tring to compare Rectangle with something that's not Rectangle, it's always going to be False"
   ]
  },
  {
   "cell_type": "markdown",
   "id": "66d24dae-ab3b-4657-b49b-5a3c03bd2fcf",
   "metadata": {},
   "source": [
    "#### Instead of isinstance(other, Rectangle), I could have also written isinstance(other, self.\\_\\_class\\_\\_ )"
   ]
  },
  {
   "cell_type": "code",
   "execution_count": 29,
   "id": "dbf61e85-d555-4235-b480-0a5a24e842bb",
   "metadata": {},
   "outputs": [],
   "source": [
    "r1 = Rectangle(10, 20)\n",
    "r2 = Rectangle(10, 20)"
   ]
  },
  {
   "cell_type": "code",
   "execution_count": 30,
   "id": "b7ae79ae-91da-4bf5-a0d2-78939d51ded0",
   "metadata": {},
   "outputs": [
    {
     "data": {
      "text/plain": [
       "True"
      ]
     },
     "execution_count": 30,
     "metadata": {},
     "output_type": "execute_result"
    }
   ],
   "source": [
    "r1 == r2"
   ]
  },
  {
   "cell_type": "code",
   "execution_count": 31,
   "id": "034757f5-72cd-4c17-b7c3-ee446c6584d1",
   "metadata": {},
   "outputs": [
    {
     "data": {
      "text/plain": [
       "False"
      ]
     },
     "execution_count": 31,
     "metadata": {},
     "output_type": "execute_result"
    }
   ],
   "source": [
    "r1 == 100"
   ]
  },
  {
   "cell_type": "markdown",
   "id": "64172f57-8da7-482f-a716-fb804bc2e4cc",
   "metadata": {},
   "source": [
    "## Dunder methods for common arithmetic operators\n",
    "\n",
    "| Dunder Method | Operation |\n",
    "| ------------- | :-------: |\n",
    "| \\_\\_add\\_\\_() | + |\n",
    "| \\_\\_sub\\_\\_() | - |\n",
    "| \\_\\_mul\\_\\_() | * |\n",
    "| \\_\\_truediv\\_\\_() | / |\n",
    "| \\_\\_floordiv\\_\\_() | // |\n",
    "| \\_\\_mod\\_\\_() | % |\n",
    "| \\_\\_pow\\_\\_() | ** |"
   ]
  },
  {
   "cell_type": "markdown",
   "id": "57b43b0f-55d0-409e-81b2-2ce456728037",
   "metadata": {},
   "source": [
    "## Dunder methods for common comparison operators\n",
    "\n",
    "| Dunder Method | Operation |\n",
    "| ------------- | :-------: |\n",
    "| \\_\\_eq\\_\\_() | == |\n",
    "| \\_\\_ne\\_\\_() | != |\n",
    "| \\_\\_lt\\_\\_() | < |\n",
    "| \\_\\_le\\_\\_() | <= |\n",
    "| \\_\\_gt\\_\\_() | > |\n",
    "| \\_\\_ge\\_\\_() | >= |\n",
    "| x.\\_\\_bool\\_\\_(self) | bool(x) |"
   ]
  },
  {
   "cell_type": "markdown",
   "id": "d82d2288-9bc6-4a97-a276-20aed005cd9f",
   "metadata": {},
   "source": [
    "## Now let's implement less than (<) operator\n",
    "We are going to do it based on the area.\n",
    "As the author of the class it's upto you how you want to define the ordering in the Rectangles"
   ]
  },
  {
   "cell_type": "code",
   "execution_count": 32,
   "id": "76c3531e-47a4-4105-845a-d2fea8b64d11",
   "metadata": {},
   "outputs": [],
   "source": [
    "class Rectangle:\n",
    "    def __init__(self, width, height):\n",
    "        self.width = width\n",
    "        self.height = height\n",
    "\n",
    "    \n",
    "    def area(self):\n",
    "        return self.width * self.height\n",
    "\n",
    "    \n",
    "    def perimeter(self):\n",
    "        return 2 * (self.width + self.height)\n",
    "\n",
    "    \n",
    "    def __str__(self):\n",
    "        return 'Rectangle: width={0}, height={1}'.format(self.width, self.height)\n",
    "\n",
    "    \n",
    "    def __repr__(self):\n",
    "        return 'Rectangle({0}, {1})'.format(self.width, self.height)\n",
    "\n",
    "\n",
    "    def __eq__(self, other):\n",
    "        if isinstance(other, Rectangle):\n",
    "            return self.width == other.width and self.height == other.height\n",
    "        else:\n",
    "            return False\n",
    "            \n",
    "\n",
    "    def __lt__(self, other):\n",
    "        if isinstance(other, Rectangle):\n",
    "            return self.area() < other.area()\n",
    "        else:\n",
    "            return NotImplemented"
   ]
  },
  {
   "cell_type": "code",
   "execution_count": 33,
   "id": "a38342a8-4438-4ae5-b7eb-15f7faec4e24",
   "metadata": {},
   "outputs": [],
   "source": [
    "r1 = Rectangle(10, 20)\n",
    "r2 = Rectangle(100, 200)"
   ]
  },
  {
   "cell_type": "code",
   "execution_count": 34,
   "id": "6c64f854-ee45-48f0-b0ad-a377685d28b0",
   "metadata": {},
   "outputs": [
    {
     "data": {
      "text/plain": [
       "True"
      ]
     },
     "execution_count": 34,
     "metadata": {},
     "output_type": "execute_result"
    }
   ],
   "source": [
    "r1 < r2"
   ]
  },
  {
   "cell_type": "code",
   "execution_count": 35,
   "id": "34be7c09-8dc3-4e92-99d9-1db526eb6043",
   "metadata": {},
   "outputs": [
    {
     "data": {
      "text/plain": [
       "False"
      ]
     },
     "execution_count": 35,
     "metadata": {},
     "output_type": "execute_result"
    }
   ],
   "source": [
    "r2 < r1"
   ]
  },
  {
   "cell_type": "code",
   "execution_count": 36,
   "id": "ba18c1fc-5771-4a91-988e-c617f7e854eb",
   "metadata": {},
   "outputs": [
    {
     "data": {
      "text/plain": [
       "True"
      ]
     },
     "execution_count": 36,
     "metadata": {},
     "output_type": "execute_result"
    }
   ],
   "source": [
    "r2 > r1"
   ]
  },
  {
   "cell_type": "markdown",
   "id": "2c2e5143-fd84-4deb-9c3c-af25446c5c3f",
   "metadata": {},
   "source": [
    "### We haven't implemented greater than (>), but if you look at what happens is that it returns True.\n",
    "* That's because what happens is that with r2 Python called the \\_\\_gt\\_\\_() method. It wasn't implemented.\n",
    "* So, it basically does this for us: If r2 > r1 is not implemented how about r1 < r2.\n",
    "* In this case less than is implemented, so it worked"
   ]
  },
  {
   "cell_type": "markdown",
   "id": "7b33d23a-c9e5-4bcf-85d4-b97aef2824a3",
   "metadata": {},
   "source": [
    "### Obviously you are not going to get things like r1 <= r2. That is not implemented"
   ]
  },
  {
   "cell_type": "code",
   "execution_count": 37,
   "id": "e2dc3a02-11d1-4bde-a0fd-6821e919235e",
   "metadata": {},
   "outputs": [
    {
     "ename": "TypeError",
     "evalue": "'<=' not supported between instances of 'Rectangle' and 'Rectangle'",
     "output_type": "error",
     "traceback": [
      "\u001b[0;31m---------------------------------------------------------------------------\u001b[0m",
      "\u001b[0;31mTypeError\u001b[0m                                 Traceback (most recent call last)",
      "Cell \u001b[0;32mIn[37], line 1\u001b[0m\n\u001b[0;32m----> 1\u001b[0m \u001b[43mr1\u001b[49m\u001b[43m \u001b[49m\u001b[38;5;241;43m<\u001b[39;49m\u001b[38;5;241;43m=\u001b[39;49m\u001b[43m \u001b[49m\u001b[43mr2\u001b[49m\n",
      "\u001b[0;31mTypeError\u001b[0m: '<=' not supported between instances of 'Rectangle' and 'Rectangle'"
     ]
    }
   ],
   "source": [
    "r1 <= r2"
   ]
  },
  {
   "cell_type": "code",
   "execution_count": 38,
   "id": "6d29f1c7-2b6b-42a6-b390-9531329b74d7",
   "metadata": {},
   "outputs": [
    {
     "ename": "TypeError",
     "evalue": "'<' not supported between instances of 'Rectangle' and 'int'",
     "output_type": "error",
     "traceback": [
      "\u001b[0;31m---------------------------------------------------------------------------\u001b[0m",
      "\u001b[0;31mTypeError\u001b[0m                                 Traceback (most recent call last)",
      "Cell \u001b[0;32mIn[38], line 1\u001b[0m\n\u001b[0;32m----> 1\u001b[0m \u001b[43mr1\u001b[49m\u001b[43m \u001b[49m\u001b[38;5;241;43m<\u001b[39;49m\u001b[43m \u001b[49m\u001b[38;5;241;43m100\u001b[39;49m\n",
      "\u001b[0;31mTypeError\u001b[0m: '<' not supported between instances of 'Rectangle' and 'int'"
     ]
    }
   ],
   "source": [
    "r1 < 100"
   ]
  },
  {
   "cell_type": "code",
   "execution_count": 39,
   "id": "e66109a5-f969-4d0c-975b-2eebb708612f",
   "metadata": {},
   "outputs": [],
   "source": [
    "class Rectangle:\n",
    "    def __init__(self, width, height):\n",
    "        self.width = width\n",
    "        self.height = height\n",
    "\n",
    "    \n",
    "    def __str__(self):\n",
    "        return 'Rectangle: width={0}, height={1}'.format(self.width, self.height)\n",
    "\n",
    "    \n",
    "    def __repr__(self):\n",
    "        return 'Rectangle({0}, {1})'.format(self.width, self.height)\n",
    "\n",
    "\n",
    "    def __eq__(self, other):\n",
    "        if isinstance(other, Rectangle):\n",
    "            return self.width == other.width and self.height == other.height\n",
    "        else:\n",
    "            return False"
   ]
  },
  {
   "cell_type": "code",
   "execution_count": 40,
   "id": "9b0f4977-6116-43f3-bb3d-0b4b2fe8642c",
   "metadata": {},
   "outputs": [],
   "source": [
    "r1 = Rectangle(10, 20)"
   ]
  },
  {
   "cell_type": "code",
   "execution_count": 41,
   "id": "531935e3-c46c-4edc-b56e-c06b21db7031",
   "metadata": {},
   "outputs": [
    {
     "data": {
      "text/plain": [
       "10"
      ]
     },
     "execution_count": 41,
     "metadata": {},
     "output_type": "execute_result"
    }
   ],
   "source": [
    "r1.width"
   ]
  },
  {
   "cell_type": "code",
   "execution_count": 42,
   "id": "da27ee27-57c5-4793-b61c-55380f056aa6",
   "metadata": {},
   "outputs": [],
   "source": [
    "r1.width = -100"
   ]
  },
  {
   "cell_type": "code",
   "execution_count": 43,
   "id": "8b93ca30-1e51-4de9-a6ef-16f069a2f6cb",
   "metadata": {},
   "outputs": [
    {
     "data": {
      "text/plain": [
       "-100"
      ]
     },
     "execution_count": 43,
     "metadata": {},
     "output_type": "execute_result"
    }
   ],
   "source": [
    "r1.width"
   ]
  },
  {
   "cell_type": "code",
   "execution_count": 44,
   "id": "d8c9209f-de51-437c-a98b-9921d6c0fa53",
   "metadata": {},
   "outputs": [
    {
     "data": {
      "text/plain": [
       "Rectangle(-100, 20)"
      ]
     },
     "execution_count": 44,
     "metadata": {},
     "output_type": "execute_result"
    }
   ],
   "source": [
    "r1"
   ]
  },
  {
   "cell_type": "markdown",
   "id": "2133c652-0773-4868-8ed0-049d624cf6b3",
   "metadata": {},
   "source": [
    "### As you can see we are allowing direct access to width property\n",
    "* Now we want to restrict the users from setting the width (or height) to negative numbers or 0. It doesn't make sense.\n",
    "* One solution would be to implement getter and setter methods for getting and setting the properties."
   ]
  },
  {
   "cell_type": "code",
   "execution_count": 45,
   "id": "c8f89b9e-59b8-4a53-99ee-29b455da32d1",
   "metadata": {},
   "outputs": [],
   "source": [
    "class Rectangle:\n",
    "    def __init__(self, width, height):\n",
    "        self._width = width\n",
    "        self._height = height\n",
    "\n",
    "\n",
    "    def get_width(self):\n",
    "        return self._width\n",
    "\n",
    "\n",
    "    def set_width(self, width):\n",
    "        if width <= 0:\n",
    "            raise ValueError('Width must be positive')\n",
    "        else:\n",
    "            self._width = width\n",
    "\n",
    "            \n",
    "    def __str__(self):\n",
    "        return 'Rectangle: width={0}, height={1}'.format(self._width, self._height)\n",
    "\n",
    "    \n",
    "    def __repr__(self):\n",
    "        return 'Rectangle({0}, {1})'.format(self._width, self._height)\n",
    "\n",
    "\n",
    "    def __eq__(self, other):\n",
    "        if isinstance(other, Rectangle):\n",
    "            return self._width == other._width and self._height == other._height\n",
    "        else:\n",
    "            return False"
   ]
  },
  {
   "cell_type": "markdown",
   "id": "b0d1d8a4-75fb-4921-a19a-5d77abc2f5dd",
   "metadata": {},
   "source": [
    "### We do not have true private variables in Python. We only have sudo-private variables. \n",
    "* But it is a convention that if we put an underscore before our variable name (properties or methods) we are telling the other users of our class that this is a private variable, please don't touch it, don't modify or mess around with it.\n",
    "* But of course, if they want to, they can. If something blows up, that's their problem."
   ]
  },
  {
   "cell_type": "code",
   "execution_count": 46,
   "id": "8572ca26-c41d-4006-ae1b-e3d8187c3009",
   "metadata": {},
   "outputs": [],
   "source": [
    "r1 = Rectangle(10, 20)"
   ]
  },
  {
   "cell_type": "code",
   "execution_count": 47,
   "id": "eb6497d1-543f-4573-8144-80ff050c3eb6",
   "metadata": {},
   "outputs": [
    {
     "ename": "AttributeError",
     "evalue": "'Rectangle' object has no attribute 'width'",
     "output_type": "error",
     "traceback": [
      "\u001b[0;31m---------------------------------------------------------------------------\u001b[0m",
      "\u001b[0;31mAttributeError\u001b[0m                            Traceback (most recent call last)",
      "Cell \u001b[0;32mIn[47], line 1\u001b[0m\n\u001b[0;32m----> 1\u001b[0m \u001b[43mr1\u001b[49m\u001b[38;5;241;43m.\u001b[39;49m\u001b[43mwidth\u001b[49m\n",
      "\u001b[0;31mAttributeError\u001b[0m: 'Rectangle' object has no attribute 'width'"
     ]
    }
   ],
   "source": [
    "r1.width"
   ]
  },
  {
   "cell_type": "code",
   "execution_count": 48,
   "id": "d70cf27d-8be8-45b5-bc75-3b87d3a0c43d",
   "metadata": {},
   "outputs": [],
   "source": [
    "r1.width = -100"
   ]
  },
  {
   "cell_type": "markdown",
   "id": "e670e3c3-25e9-4362-8b9d-4f5dd07c6ecd",
   "metadata": {},
   "source": [
    "### Monkey patching\n",
    "* As you can see no error is raised. This is called **Monkey patching**\n",
    "* Essentially what I have done is I've added a property called width to r1. But I've done this at run-time\n",
    "* Python allows us to do that\n",
    "* Note that the _width property is still 10"
   ]
  },
  {
   "cell_type": "code",
   "execution_count": 49,
   "id": "8bcac433-faca-454a-813a-62b34a401a33",
   "metadata": {},
   "outputs": [
    {
     "data": {
      "text/plain": [
       "-100"
      ]
     },
     "execution_count": 49,
     "metadata": {},
     "output_type": "execute_result"
    }
   ],
   "source": [
    "r1.width"
   ]
  },
  {
   "cell_type": "code",
   "execution_count": 50,
   "id": "ab0d732a-d836-4ba9-974a-f12491340ded",
   "metadata": {},
   "outputs": [
    {
     "data": {
      "text/plain": [
       "10"
      ]
     },
     "execution_count": 50,
     "metadata": {},
     "output_type": "execute_result"
    }
   ],
   "source": [
    "r1._width"
   ]
  },
  {
   "cell_type": "code",
   "execution_count": 51,
   "id": "211be7ca-2eee-4113-9adb-b3e5f6cea38c",
   "metadata": {},
   "outputs": [
    {
     "data": {
      "text/plain": [
       "Rectangle(10, 20)"
      ]
     },
     "execution_count": 51,
     "metadata": {},
     "output_type": "execute_result"
    }
   ],
   "source": [
    "r1"
   ]
  },
  {
   "cell_type": "code",
   "execution_count": 52,
   "id": "80ea68cd-cfe2-4daf-a4ce-0ed4a4e14f92",
   "metadata": {},
   "outputs": [
    {
     "data": {
      "text/plain": [
       "10"
      ]
     },
     "execution_count": 52,
     "metadata": {},
     "output_type": "execute_result"
    }
   ],
   "source": [
    "r1.get_width()"
   ]
  },
  {
   "cell_type": "code",
   "execution_count": 53,
   "id": "1b15dae4-8b53-438e-a944-4b2015b1cc10",
   "metadata": {},
   "outputs": [
    {
     "ename": "ValueError",
     "evalue": "Width must be positive",
     "output_type": "error",
     "traceback": [
      "\u001b[0;31m---------------------------------------------------------------------------\u001b[0m",
      "\u001b[0;31mValueError\u001b[0m                                Traceback (most recent call last)",
      "Cell \u001b[0;32mIn[53], line 1\u001b[0m\n\u001b[0;32m----> 1\u001b[0m \u001b[43mr1\u001b[49m\u001b[38;5;241;43m.\u001b[39;49m\u001b[43mset_width\u001b[49m\u001b[43m(\u001b[49m\u001b[38;5;241;43m-\u001b[39;49m\u001b[38;5;241;43m10\u001b[39;49m\u001b[43m)\u001b[49m\n",
      "Cell \u001b[0;32mIn[45], line 13\u001b[0m, in \u001b[0;36mRectangle.set_width\u001b[0;34m(self, width)\u001b[0m\n\u001b[1;32m     11\u001b[0m \u001b[38;5;28;01mdef\u001b[39;00m \u001b[38;5;21mset_width\u001b[39m(\u001b[38;5;28mself\u001b[39m, width):\n\u001b[1;32m     12\u001b[0m     \u001b[38;5;28;01mif\u001b[39;00m width \u001b[38;5;241m<\u001b[39m\u001b[38;5;241m=\u001b[39m \u001b[38;5;241m0\u001b[39m:\n\u001b[0;32m---> 13\u001b[0m         \u001b[38;5;28;01mraise\u001b[39;00m \u001b[38;5;167;01mValueError\u001b[39;00m(\u001b[38;5;124m'\u001b[39m\u001b[38;5;124mWidth must be positive\u001b[39m\u001b[38;5;124m'\u001b[39m)\n\u001b[1;32m     14\u001b[0m     \u001b[38;5;28;01melse\u001b[39;00m:\n\u001b[1;32m     15\u001b[0m         \u001b[38;5;28mself\u001b[39m\u001b[38;5;241m.\u001b[39m_width \u001b[38;5;241m=\u001b[39m width\n",
      "\u001b[0;31mValueError\u001b[0m: Width must be positive"
     ]
    }
   ],
   "source": [
    "r1.set_width(-10)"
   ]
  },
  {
   "cell_type": "code",
   "execution_count": 54,
   "id": "a4ebd49e-a5a1-43eb-965a-b2713ae7eef3",
   "metadata": {},
   "outputs": [],
   "source": [
    "r1.set_width(100)"
   ]
  },
  {
   "cell_type": "code",
   "execution_count": 55,
   "id": "63f4a2bc-4e50-4eaf-b0c1-fdedbf080180",
   "metadata": {},
   "outputs": [
    {
     "data": {
      "text/plain": [
       "Rectangle(100, 20)"
      ]
     },
     "execution_count": 55,
     "metadata": {},
     "output_type": "execute_result"
    }
   ],
   "source": [
    "r1"
   ]
  },
  {
   "cell_type": "markdown",
   "id": "e83a421e-c94b-4024-bb33-28b239a36075",
   "metadata": {},
   "source": [
    "#### Consider the following scenario\n",
    "* If we had released this class a while back and we had it the way we originally had it, then people all over the place were using r1.width to read and to set the property\n",
    "* Now if I go back and say, no, no, you can't do that anymore. You have to use this set and get methods\n",
    "* Well that just broke everybody's code."
   ]
  },
  {
   "cell_type": "markdown",
   "id": "a28f6b25-1698-49e0-bd73-babd10ce4302",
   "metadata": {},
   "source": [
    "#### That is why in languages like Java, we always write getters and setters from the get go.\n",
    "* That way if we have to add a new condition in set_width, we haven't broken anybody's code.\n",
    "* This is the main reason why you set up your encapsulation this way so that you can have control over how you get and set the properties"
   ]
  },
  {
   "cell_type": "markdown",
   "id": "1d140ff3-6fb0-41eb-bc1f-eeb1ea8350a0",
   "metadata": {},
   "source": [
    "### But now, let me show you, why in Python this actually doesn't matter"
   ]
  },
  {
   "cell_type": "code",
   "execution_count": 2,
   "id": "0dfe9077-b0bc-450d-86d1-47d03a6d4fb9",
   "metadata": {},
   "outputs": [],
   "source": [
    "class Rectangle:\n",
    "    def __init__(self, width, height):\n",
    "        self._width = width\n",
    "        self._height = height\n",
    "\n",
    "    @property\n",
    "    def width(self):\n",
    "        print('getting width')\n",
    "        return self._width\n",
    "\n",
    "\n",
    "    @width.setter\n",
    "    def width(self, width):\n",
    "        if width <= 0:\n",
    "            raise ValueError('Width must be positive')\n",
    "        else:\n",
    "            self._width = width\n",
    "            \n",
    "\n",
    "    @property\n",
    "    def height(self):\n",
    "        return self._height\n",
    "\n",
    "\n",
    "    @height.setter\n",
    "    def height(self, height):\n",
    "        if height <= 0:\n",
    "            raise ValueError('Height must be positive')\n",
    "        else:\n",
    "            self._height = height\n",
    "\n",
    "    \n",
    "    def __str__(self):\n",
    "        return 'Rectangle: width={0}, height={1}'.format(self.width, self.height)\n",
    "\n",
    "    \n",
    "    def __repr__(self):\n",
    "        return 'Rectangle({0}, {1})'.format(self.width, self.height)\n",
    "\n",
    "\n",
    "    def __eq__(self, other):\n",
    "        if isinstance(other, Rectangle):\n",
    "            return self.width == other.width and   self.height == other.height\n",
    "        else:\n",
    "            return False"
   ]
  },
  {
   "cell_type": "code",
   "execution_count": 3,
   "id": "50621c8d-8c48-4625-b877-2efc5b1ed1c0",
   "metadata": {},
   "outputs": [],
   "source": [
    "r1 = Rectangle(10, 20)"
   ]
  },
  {
   "cell_type": "code",
   "execution_count": 4,
   "id": "e3864a58-6a8b-4ad4-8f7c-b00bf8f95cc7",
   "metadata": {},
   "outputs": [
    {
     "name": "stdout",
     "output_type": "stream",
     "text": [
      "getting width\n"
     ]
    },
    {
     "data": {
      "text/plain": [
       "10"
      ]
     },
     "execution_count": 4,
     "metadata": {},
     "output_type": "execute_result"
    }
   ],
   "source": [
    "r1.width"
   ]
  },
  {
   "cell_type": "markdown",
   "id": "9da6740c-c168-4a66-a587-4200ec2883e1",
   "metadata": {},
   "source": [
    "### As you can see r1.width went through the width method\n",
    "* Notice there wasn't an explicit call here.\n",
    "* Basically, because I've used the decorator \"@property\" Python is able to access the width via the getter and I didn't have to change any code that was using \".width\" to directly access the width property before\n",
    "* So I now have a property that goes through the method for a getter without breaking backward compatibility\n",
    "* This is why you don't have to do this right off the bat and you shouldn't. You should only do that if you need to. In this case I need to because I want to stop people from setting width and height to a non-positive value"
   ]
  },
  {
   "cell_type": "markdown",
   "id": "aacf9e87-474e-450a-afd1-a993413ecbb1",
   "metadata": {},
   "source": [
    "### There is no method overloading in Python\n",
    "* Note that width method is not being overloaded by being used in both getter and setter methods\n",
    "* The decorator actually modified what the width function is"
   ]
  },
  {
   "cell_type": "code",
   "execution_count": 5,
   "id": "8d0a4323-e8df-43e5-94e3-24f570fc711d",
   "metadata": {},
   "outputs": [
    {
     "ename": "ValueError",
     "evalue": "Width must be positive",
     "output_type": "error",
     "traceback": [
      "\u001b[0;31m---------------------------------------------------------------------------\u001b[0m",
      "\u001b[0;31mValueError\u001b[0m                                Traceback (most recent call last)",
      "Cell \u001b[0;32mIn[5], line 1\u001b[0m\n\u001b[0;32m----> 1\u001b[0m \u001b[43mr1\u001b[49m\u001b[38;5;241;43m.\u001b[39;49m\u001b[43mwidth\u001b[49m \u001b[38;5;241m=\u001b[39m \u001b[38;5;241m-\u001b[39m\u001b[38;5;241m100\u001b[39m\n",
      "Cell \u001b[0;32mIn[2], line 15\u001b[0m, in \u001b[0;36mRectangle.width\u001b[0;34m(self, width)\u001b[0m\n\u001b[1;32m     12\u001b[0m \u001b[38;5;129m@width\u001b[39m\u001b[38;5;241m.\u001b[39msetter\n\u001b[1;32m     13\u001b[0m \u001b[38;5;28;01mdef\u001b[39;00m \u001b[38;5;21mwidth\u001b[39m(\u001b[38;5;28mself\u001b[39m, width):\n\u001b[1;32m     14\u001b[0m     \u001b[38;5;28;01mif\u001b[39;00m width \u001b[38;5;241m<\u001b[39m\u001b[38;5;241m=\u001b[39m \u001b[38;5;241m0\u001b[39m:\n\u001b[0;32m---> 15\u001b[0m         \u001b[38;5;28;01mraise\u001b[39;00m \u001b[38;5;167;01mValueError\u001b[39;00m(\u001b[38;5;124m'\u001b[39m\u001b[38;5;124mWidth must be positive\u001b[39m\u001b[38;5;124m'\u001b[39m)\n\u001b[1;32m     16\u001b[0m     \u001b[38;5;28;01melse\u001b[39;00m:\n\u001b[1;32m     17\u001b[0m         \u001b[38;5;28mself\u001b[39m\u001b[38;5;241m.\u001b[39m_width \u001b[38;5;241m=\u001b[39m width\n",
      "\u001b[0;31mValueError\u001b[0m: Width must be positive"
     ]
    }
   ],
   "source": [
    "r1.width = -100"
   ]
  },
  {
   "cell_type": "code",
   "execution_count": 6,
   "id": "a7300cad-7c60-4b4d-a51a-faca9be81833",
   "metadata": {},
   "outputs": [],
   "source": [
    "r1.width = 100"
   ]
  },
  {
   "cell_type": "code",
   "execution_count": 7,
   "id": "6a03edec-d3f4-4f03-ae81-dd9310eedaef",
   "metadata": {},
   "outputs": [
    {
     "name": "stdout",
     "output_type": "stream",
     "text": [
      "getting width\n"
     ]
    },
    {
     "data": {
      "text/plain": [
       "Rectangle(100, 20)"
      ]
     },
     "execution_count": 7,
     "metadata": {},
     "output_type": "execute_result"
    }
   ],
   "source": [
    "r1"
   ]
  },
  {
   "cell_type": "markdown",
   "id": "923aae7c-6318-4a92-be13-ecc5f54a3aab",
   "metadata": {},
   "source": [
    "#### You'll notice that all instance methods are calling self.width and self.height instead of self._width and self._height\n",
    "* There's actually nothing wrong in doing that - Why did it work?\n",
    "* self.width calls the width getter and it's going to return self._width\n",
    "* Sometimes I might want to avoid calling the getter method to speed things up\n",
    "* But I tend not to do that initially. I prefer getting and setting my data even inside the class using the getters and the setters. This way if I have any logic in the getter that's being implemented, I'm going to pick up that logic for free."
   ]
  },
  {
   "cell_type": "markdown",
   "id": "87a30ac1-e399-4b5a-b09a-d19776845c00",
   "metadata": {},
   "source": [
    "### One other Issue!"
   ]
  },
  {
   "cell_type": "code",
   "execution_count": 8,
   "id": "6f3ef414-3548-42fe-9f4b-12432ca43a19",
   "metadata": {},
   "outputs": [],
   "source": [
    "r1 = Rectangle(-100, 20)"
   ]
  },
  {
   "cell_type": "markdown",
   "id": "82bbd25e-f9fe-4a67-9817-a7db2cc5cc60",
   "metadata": {},
   "source": [
    "#### It allowed me to create a rectangle with -ve width!\n",
    "* To solve this I can go in \\_\\_init\\_\\_() and put in \"if self._width <= 0: raise ValueError\" and so on.\n",
    "* ut instead what I will do is - I'm actually going to call my setters inside my init method and setter will handle raising the exception if it needs to"
   ]
  },
  {
   "cell_type": "code",
   "execution_count": 11,
   "id": "a06fdebc-99e0-4785-9e5e-9a2d90160a80",
   "metadata": {},
   "outputs": [],
   "source": [
    "class Rectangle:\n",
    "    def __init__(self, width, height):\n",
    "        self.width = width\n",
    "        self.height = height\n",
    "\n",
    "    @property\n",
    "    def width(self):\n",
    "        print('getting width')\n",
    "        return self._width\n",
    "\n",
    "\n",
    "    @width.setter\n",
    "    def width(self, width):\n",
    "        if width <= 0:\n",
    "            raise ValueError('Width must be positive')\n",
    "        else:\n",
    "            self._width = width\n",
    "            \n",
    "\n",
    "    @property\n",
    "    def height(self):\n",
    "        return self._height\n",
    "\n",
    "\n",
    "    @height.setter\n",
    "    def height(self, height):\n",
    "        if height <= 0:\n",
    "            raise ValueError('Height must be positive')\n",
    "        else:\n",
    "            self._height = height\n",
    "\n",
    "    \n",
    "    def __str__(self):\n",
    "        return 'Rectangle: width={0}, height={1}'.format(self.width, self.height)\n",
    "\n",
    "    \n",
    "    def __repr__(self):\n",
    "        return 'Rectangle({0}, {1})'.format(self.width, self.height)\n",
    "\n",
    "\n",
    "    def __eq__(self, other):\n",
    "        if isinstance(other, Rectangle):\n",
    "            return self.width == other.width and   self.height == other.height\n",
    "        else:\n",
    "            return False"
   ]
  },
  {
   "cell_type": "code",
   "execution_count": 13,
   "id": "752b7446-4071-48b4-9959-b8fa8a4c9462",
   "metadata": {},
   "outputs": [
    {
     "ename": "ValueError",
     "evalue": "Width must be positive",
     "output_type": "error",
     "traceback": [
      "\u001b[0;31m---------------------------------------------------------------------------\u001b[0m",
      "\u001b[0;31mValueError\u001b[0m                                Traceback (most recent call last)",
      "Cell \u001b[0;32mIn[13], line 1\u001b[0m\n\u001b[0;32m----> 1\u001b[0m r1 \u001b[38;5;241m=\u001b[39m \u001b[43mRectangle\u001b[49m\u001b[43m(\u001b[49m\u001b[38;5;241;43m-\u001b[39;49m\u001b[38;5;241;43m100\u001b[39;49m\u001b[43m,\u001b[49m\u001b[43m \u001b[49m\u001b[38;5;241;43m20\u001b[39;49m\u001b[43m)\u001b[49m\n",
      "Cell \u001b[0;32mIn[11], line 3\u001b[0m, in \u001b[0;36mRectangle.__init__\u001b[0;34m(self, width, height)\u001b[0m\n\u001b[1;32m      2\u001b[0m \u001b[38;5;28;01mdef\u001b[39;00m \u001b[38;5;21m__init__\u001b[39m(\u001b[38;5;28mself\u001b[39m, width, height):\n\u001b[0;32m----> 3\u001b[0m     \u001b[38;5;28;43mself\u001b[39;49m\u001b[38;5;241;43m.\u001b[39;49m\u001b[43mwidth\u001b[49m \u001b[38;5;241m=\u001b[39m width\n\u001b[1;32m      4\u001b[0m     \u001b[38;5;28mself\u001b[39m\u001b[38;5;241m.\u001b[39mheight \u001b[38;5;241m=\u001b[39m height\n",
      "Cell \u001b[0;32mIn[11], line 15\u001b[0m, in \u001b[0;36mRectangle.width\u001b[0;34m(self, width)\u001b[0m\n\u001b[1;32m     12\u001b[0m \u001b[38;5;129m@width\u001b[39m\u001b[38;5;241m.\u001b[39msetter\n\u001b[1;32m     13\u001b[0m \u001b[38;5;28;01mdef\u001b[39;00m \u001b[38;5;21mwidth\u001b[39m(\u001b[38;5;28mself\u001b[39m, width):\n\u001b[1;32m     14\u001b[0m     \u001b[38;5;28;01mif\u001b[39;00m width \u001b[38;5;241m<\u001b[39m\u001b[38;5;241m=\u001b[39m \u001b[38;5;241m0\u001b[39m:\n\u001b[0;32m---> 15\u001b[0m         \u001b[38;5;28;01mraise\u001b[39;00m \u001b[38;5;167;01mValueError\u001b[39;00m(\u001b[38;5;124m'\u001b[39m\u001b[38;5;124mWidth must be positive\u001b[39m\u001b[38;5;124m'\u001b[39m)\n\u001b[1;32m     16\u001b[0m     \u001b[38;5;28;01melse\u001b[39;00m:\n\u001b[1;32m     17\u001b[0m         \u001b[38;5;28mself\u001b[39m\u001b[38;5;241m.\u001b[39m_width \u001b[38;5;241m=\u001b[39m width\n",
      "\u001b[0;31mValueError\u001b[0m: Width must be positive"
     ]
    }
   ],
   "source": [
    "r1 = Rectangle(-100, 20)"
   ]
  },
  {
   "cell_type": "code",
   "execution_count": 18,
   "id": "c2ffe69d-80e7-4d71-bbab-365fd5201d59",
   "metadata": {},
   "outputs": [
    {
     "data": {
      "text/plain": [
       "['__class__',\n",
       " '__delattr__',\n",
       " '__dict__',\n",
       " '__dir__',\n",
       " '__doc__',\n",
       " '__eq__',\n",
       " '__format__',\n",
       " '__ge__',\n",
       " '__getattribute__',\n",
       " '__gt__',\n",
       " '__hash__',\n",
       " '__init__',\n",
       " '__init_subclass__',\n",
       " '__le__',\n",
       " '__lt__',\n",
       " '__module__',\n",
       " '__ne__',\n",
       " '__new__',\n",
       " '__reduce__',\n",
       " '__reduce_ex__',\n",
       " '__repr__',\n",
       " '__setattr__',\n",
       " '__sizeof__',\n",
       " '__str__',\n",
       " '__subclasshook__',\n",
       " '__weakref__',\n",
       " 'height',\n",
       " 'width']"
      ]
     },
     "execution_count": 18,
     "metadata": {},
     "output_type": "execute_result"
    }
   ],
   "source": [
    "dir(Rectangle)"
   ]
  },
  {
   "cell_type": "code",
   "execution_count": 19,
   "id": "5dd799b3-8360-4396-9e90-711d41a0f499",
   "metadata": {},
   "outputs": [
    {
     "data": {
      "text/plain": [
       "-100"
      ]
     },
     "execution_count": 19,
     "metadata": {},
     "output_type": "execute_result"
    }
   ],
   "source": [
    "r1._width"
   ]
  },
  {
   "cell_type": "code",
   "execution_count": 20,
   "id": "f6c229eb-a2c3-46fc-86f1-62305122203f",
   "metadata": {},
   "outputs": [
    {
     "name": "stdout",
     "output_type": "stream",
     "text": [
      "getting width\n"
     ]
    },
    {
     "data": {
      "text/plain": [
       "-100"
      ]
     },
     "execution_count": 20,
     "metadata": {},
     "output_type": "execute_result"
    }
   ],
   "source": [
    "r1.width"
   ]
  },
  {
   "cell_type": "code",
   "execution_count": null,
   "id": "c81a71ba-a83f-42c8-b9ee-32f3ac57c55b",
   "metadata": {},
   "outputs": [],
   "source": [
    "dir(Rectangle)"
   ]
  }
 ],
 "metadata": {
  "kernelspec": {
   "display_name": "Python 3 (ipykernel)",
   "language": "python",
   "name": "python3"
  },
  "language_info": {
   "codemirror_mode": {
    "name": "ipython",
    "version": 3
   },
   "file_extension": ".py",
   "mimetype": "text/x-python",
   "name": "python",
   "nbconvert_exporter": "python",
   "pygments_lexer": "ipython3",
   "version": "3.10.12"
  }
 },
 "nbformat": 4,
 "nbformat_minor": 5
}
