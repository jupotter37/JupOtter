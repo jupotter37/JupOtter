{
 "cells": [
  {
   "cell_type": "code",
   "execution_count": 1,
   "metadata": {},
   "outputs": [],
   "source": [
    "import gurobipy as gp\n",
    "from gurobipy import GRB\n",
    "import pandas as pd\n",
    "import numpy as np\n"
   ]
  },
  {
   "cell_type": "code",
   "execution_count": 2,
   "metadata": {},
   "outputs": [],
   "source": [
    "non_profit_data = pd.read_csv(r\"D:\\2.OMIS6000 Models&application\\Mid\\non_profits.csv\")"
   ]
  },
  {
   "cell_type": "code",
   "execution_count": 3,
   "metadata": {},
   "outputs": [],
   "source": [
    "alpha_values = non_profit_data['alpha_i'].values\n",
    "beta_values = non_profit_data['beta_i'].values.astype(float)  # Convert to float\n",
    "N = len(alpha_values)"
   ]
  },
  {
   "cell_type": "code",
   "execution_count": 4,
   "metadata": {},
   "outputs": [
    {
     "name": "stdout",
     "output_type": "stream",
     "text": [
      "Set parameter Username\n",
      "Academic license - for non-commercial use only - expires 2025-02-27\n"
     ]
    }
   ],
   "source": [
    "model = gp.Model(\"NonProfitAllocation\")"
   ]
  },
  {
   "cell_type": "code",
   "execution_count": 5,
   "metadata": {},
   "outputs": [],
   "source": [
    "allocation = model.addVars(N, lb=0, vtype=GRB.CONTINUOUS, name=\"allocation\")"
   ]
  },
  {
   "cell_type": "code",
   "execution_count": 6,
   "metadata": {},
   "outputs": [],
   "source": [
    "aux_vars = model.addVars(N, vtype=GRB.CONTINUOUS, name=\"aux\")"
   ]
  },
  {
   "cell_type": "code",
   "execution_count": 7,
   "metadata": {},
   "outputs": [],
   "source": [
    "model.setObjective(gp.quicksum(2 * aux_vars[i] for i in range(N)), GRB.MAXIMIZE)"
   ]
  },
  {
   "cell_type": "code",
   "execution_count": 8,
   "metadata": {},
   "outputs": [
    {
     "data": {
      "text/plain": [
       "<gurobi.Constr *Awaiting Model Update*>"
      ]
     },
     "execution_count": 8,
     "metadata": {},
     "output_type": "execute_result"
    }
   ],
   "source": [
    "model.addConstr(allocation.sum() <= 50000000, \"BudgetConstraint\")"
   ]
  },
  {
   "cell_type": "code",
   "execution_count": 11,
   "metadata": {},
   "outputs": [
    {
     "name": "stdout",
     "output_type": "stream",
     "text": [
      "<class 'pandas.core.frame.DataFrame'>\n",
      "RangeIndex: 180 entries, 0 to 179\n",
      "Data columns (total 2 columns):\n",
      " #   Column   Non-Null Count  Dtype  \n",
      "---  ------   --------------  -----  \n",
      " 0   alpha_i  180 non-null    float64\n",
      " 1   beta_i   180 non-null    float64\n",
      "dtypes: float64(2)\n",
      "memory usage: 2.9 KB\n"
     ]
    }
   ],
   "source": [
    "non_profit_data.info()"
   ]
  },
  {
   "cell_type": "code",
   "execution_count": 10,
   "metadata": {},
   "outputs": [
    {
     "ename": "AttributeError",
     "evalue": "'float' object has no attribute 'encode'",
     "output_type": "error",
     "traceback": [
      "\u001b[1;31m---------------------------------------------------------------------------\u001b[0m",
      "\u001b[1;31mAttributeError\u001b[0m                            Traceback (most recent call last)",
      "Cell \u001b[1;32mIn[10], line 2\u001b[0m\n\u001b[0;32m      1\u001b[0m \u001b[38;5;28;01mfor\u001b[39;00m i \u001b[38;5;129;01min\u001b[39;00m \u001b[38;5;28mrange\u001b[39m(N):\n\u001b[1;32m----> 2\u001b[0m     \u001b[43mmodel\u001b[49m\u001b[38;5;241;43m.\u001b[39;49m\u001b[43maddGenConstrPow\u001b[49m\u001b[43m(\u001b[49m\u001b[43maux_vars\u001b[49m\u001b[43m[\u001b[49m\u001b[43mi\u001b[49m\u001b[43m]\u001b[49m\u001b[43m,\u001b[49m\u001b[43m \u001b[49m\u001b[43mallocation\u001b[49m\u001b[43m[\u001b[49m\u001b[43mi\u001b[49m\u001b[43m]\u001b[49m\u001b[43m,\u001b[49m\u001b[43m \u001b[49m\u001b[43mbeta_values\u001b[49m\u001b[43m[\u001b[49m\u001b[43mi\u001b[49m\u001b[43m]\u001b[49m\u001b[43m,\u001b[49m\u001b[43m \u001b[49m\u001b[38;5;241;43m1\u001b[39;49m\u001b[38;5;241;43m/\u001b[39;49m\u001b[38;5;241;43m3\u001b[39;49m\u001b[43m,\u001b[49m\u001b[43m \u001b[49m\u001b[38;5;241;43m1500\u001b[39;49m\u001b[43m)\u001b[49m\n",
      "File \u001b[1;32msrc\\\\gurobipy\\\\model.pxi:5549\u001b[0m, in \u001b[0;36mgurobipy.Model.addGenConstrPow\u001b[1;34m()\u001b[0m\n",
      "File \u001b[1;32msrc\\\\gurobipy\\\\extern.pxi:13\u001b[0m, in \u001b[0;36mgurobipy._stringtobytes\u001b[1;34m()\u001b[0m\n",
      "\u001b[1;31mAttributeError\u001b[0m: 'float' object has no attribute 'encode'"
     ]
    }
   ],
   "source": [
    "for i in range(N):\n",
    "    model.addGenConstrPow(aux_vars[i], allocation[i], beta_values[i], 1/3, 1500)\n"
   ]
  },
  {
   "cell_type": "code",
   "execution_count": 12,
   "metadata": {},
   "outputs": [],
   "source": [
    "df = pd.read_csv(r\"D:\\2.OMIS6000 Models&application\\Mid\\food_categories.csv\")"
   ]
  },
  {
   "cell_type": "code",
   "execution_count": 13,
   "metadata": {},
   "outputs": [
    {
     "name": "stdout",
     "output_type": "stream",
     "text": [
      "<class 'pandas.core.frame.DataFrame'>\n",
      "RangeIndex: 120 entries, 0 to 119\n",
      "Data columns (total 6 columns):\n",
      " #   Column         Non-Null Count  Dtype  \n",
      "---  ------         --------------  -----  \n",
      " 0   Food_Item      120 non-null    object \n",
      " 1   Is_Vegetarian  120 non-null    int64  \n",
      " 2   Is_Vegan       120 non-null    int64  \n",
      " 3   Is_Kosher      120 non-null    int64  \n",
      " 4   Is_Halal       120 non-null    int64  \n",
      " 5   Cost_per_gram  120 non-null    float64\n",
      "dtypes: float64(1), int64(4), object(1)\n",
      "memory usage: 5.8+ KB\n"
     ]
    }
   ],
   "source": [
    "df.info()"
   ]
  },
  {
   "cell_type": "code",
   "execution_count": 14,
   "metadata": {},
   "outputs": [],
   "source": [
    "nutrient_data = pd.read_csv(r\"D:\\2.OMIS6000 Models&application\\Mid\\nutrient_content.csv\")"
   ]
  },
  {
   "cell_type": "code",
   "execution_count": 15,
   "metadata": {},
   "outputs": [
    {
     "name": "stdout",
     "output_type": "stream",
     "text": [
      "<class 'pandas.core.frame.DataFrame'>\n",
      "RangeIndex: 120 entries, 0 to 119\n",
      "Data columns (total 61 columns):\n",
      " #   Column       Non-Null Count  Dtype  \n",
      "---  ------       --------------  -----  \n",
      " 0   Unnamed: 0   120 non-null    object \n",
      " 1   Nutrient_1   120 non-null    float64\n",
      " 2   Nutrient_2   120 non-null    float64\n",
      " 3   Nutrient_3   120 non-null    float64\n",
      " 4   Nutrient_4   120 non-null    float64\n",
      " 5   Nutrient_5   120 non-null    float64\n",
      " 6   Nutrient_6   120 non-null    float64\n",
      " 7   Nutrient_7   120 non-null    float64\n",
      " 8   Nutrient_8   120 non-null    float64\n",
      " 9   Nutrient_9   120 non-null    float64\n",
      " 10  Nutrient_10  120 non-null    float64\n",
      " 11  Nutrient_11  120 non-null    float64\n",
      " 12  Nutrient_12  120 non-null    float64\n",
      " 13  Nutrient_13  120 non-null    float64\n",
      " 14  Nutrient_14  120 non-null    float64\n",
      " 15  Nutrient_15  120 non-null    float64\n",
      " 16  Nutrient_16  120 non-null    float64\n",
      " 17  Nutrient_17  120 non-null    float64\n",
      " 18  Nutrient_18  120 non-null    float64\n",
      " 19  Nutrient_19  120 non-null    float64\n",
      " 20  Nutrient_20  120 non-null    float64\n",
      " 21  Nutrient_21  120 non-null    float64\n",
      " 22  Nutrient_22  120 non-null    float64\n",
      " 23  Nutrient_23  120 non-null    float64\n",
      " 24  Nutrient_24  120 non-null    float64\n",
      " 25  Nutrient_25  120 non-null    float64\n",
      " 26  Nutrient_26  120 non-null    float64\n",
      " 27  Nutrient_27  120 non-null    float64\n",
      " 28  Nutrient_28  120 non-null    float64\n",
      " 29  Nutrient_29  120 non-null    float64\n",
      " 30  Nutrient_30  120 non-null    float64\n",
      " 31  Nutrient_31  120 non-null    float64\n",
      " 32  Nutrient_32  120 non-null    float64\n",
      " 33  Nutrient_33  120 non-null    float64\n",
      " 34  Nutrient_34  120 non-null    float64\n",
      " 35  Nutrient_35  120 non-null    float64\n",
      " 36  Nutrient_36  120 non-null    float64\n",
      " 37  Nutrient_37  120 non-null    float64\n",
      " 38  Nutrient_38  120 non-null    float64\n",
      " 39  Nutrient_39  120 non-null    float64\n",
      " 40  Nutrient_40  120 non-null    float64\n",
      " 41  Nutrient_41  120 non-null    float64\n",
      " 42  Nutrient_42  120 non-null    float64\n",
      " 43  Nutrient_43  120 non-null    float64\n",
      " 44  Nutrient_44  120 non-null    float64\n",
      " 45  Nutrient_45  120 non-null    float64\n",
      " 46  Nutrient_46  120 non-null    float64\n",
      " 47  Nutrient_47  120 non-null    float64\n",
      " 48  Nutrient_48  120 non-null    float64\n",
      " 49  Nutrient_49  120 non-null    float64\n",
      " 50  Nutrient_50  120 non-null    float64\n",
      " 51  Nutrient_51  120 non-null    float64\n",
      " 52  Nutrient_52  120 non-null    float64\n",
      " 53  Nutrient_53  120 non-null    float64\n",
      " 54  Nutrient_54  120 non-null    float64\n",
      " 55  Nutrient_55  120 non-null    float64\n",
      " 56  Nutrient_56  120 non-null    float64\n",
      " 57  Nutrient_57  120 non-null    float64\n",
      " 58  Nutrient_58  120 non-null    float64\n",
      " 59  Nutrient_59  120 non-null    float64\n",
      " 60  Nutrient_60  120 non-null    float64\n",
      "dtypes: float64(60), object(1)\n",
      "memory usage: 57.3+ KB\n"
     ]
    }
   ],
   "source": [
    "nutrient_data.info()"
   ]
  },
  {
   "cell_type": "code",
   "execution_count": null,
   "metadata": {},
   "outputs": [],
   "source": []
  }
 ],
 "metadata": {
  "kernelspec": {
   "display_name": "Python 3",
   "language": "python",
   "name": "python3"
  },
  "language_info": {
   "codemirror_mode": {
    "name": "ipython",
    "version": 3
   },
   "file_extension": ".py",
   "mimetype": "text/x-python",
   "name": "python",
   "nbconvert_exporter": "python",
   "pygments_lexer": "ipython3",
   "version": "3.11.8"
  }
 },
 "nbformat": 4,
 "nbformat_minor": 2
}
