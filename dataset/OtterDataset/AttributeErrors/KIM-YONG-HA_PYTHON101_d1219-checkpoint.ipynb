{
 "cells": [
  {
   "cell_type": "code",
   "execution_count": 57,
   "id": "a1afc010-2625-4777-ab37-acbc9bd8fe04",
   "metadata": {},
   "outputs": [
    {
     "name": "stdout",
     "output_type": "stream",
     "text": [
      "<itertools.zip_longest object at 0x00000204FC9D3470>\n",
      "[('홍길동', 'A'), ('정형돈', 'B'), ('김영철', 'C'), ('유재석', '?'), ('이광수', '?')]\n"
     ]
    }
   ],
   "source": [
    "\n",
    "students = ['홍길동', '정형돈','김영철','유재석','이광수']\n",
    "snacks = ['A','B','C']\n",
    "\n",
    "result = itertools.zip_longest(students, snacks, fillvalue='?');\n",
    "\n",
    "print(result)\n",
    "print(list(result))\n",
    "\n",
    "\n"
   ]
  },
  {
   "cell_type": "code",
   "execution_count": 17,
   "id": "272844a5-31fe-4c89-990e-0c2ab4caa5cf",
   "metadata": {},
   "outputs": [
    {
     "data": {
      "text/plain": [
       "[(1, 2), (1, 3), (2, 1), (2, 3), (3, 1), (3, 2)]"
      ]
     },
     "execution_count": 17,
     "metadata": {},
     "output_type": "execute_result"
    }
   ],
   "source": [
    "\n",
    "\n",
    "list(itertools.permutations([1,2,3], 2))\n",
    "\n"
   ]
  },
  {
   "cell_type": "code",
   "execution_count": 33,
   "id": "94c86b61-18b7-4683-8cac-8dd65923131f",
   "metadata": {},
   "outputs": [
    {
     "name": "stdout",
     "output_type": "stream",
     "text": [
      "15\n"
     ]
    }
   ],
   "source": [
    ">>> import functools\n",
    ">>> data = [1,2,3,4,5]\n",
    ">>> result = functools.reduce(lambda x, y: x + y, data)\n",
    ">>> print(result)"
   ]
  },
  {
   "cell_type": "code",
   "execution_count": 37,
   "id": "9fb33c28-e18a-4d95-b6d1-c8f1c407dc73",
   "metadata": {},
   "outputs": [
    {
     "name": "stdout",
     "output_type": "stream",
     "text": [
      "5\n"
     ]
    }
   ],
   "source": [
    "import functools\n",
    "num = [1,3,2,4,5]\n",
    "result = functools.reduce(lambda x, y: x if x > y else y, num)\n",
    "print(result)"
   ]
  },
  {
   "cell_type": "code",
   "execution_count": 51,
   "id": "f0f8bc58-3e45-49d3-baaa-281ad56311a2",
   "metadata": {},
   "outputs": [
    {
     "name": "stdout",
     "output_type": "stream",
     "text": [
      "[('홍길동', 20, 'A'), ('강호동', 25, 'B'), ('유재석', 30, 'C'), ('김영철', 31, 'D')]\n"
     ]
    }
   ],
   "source": [
    "import operator as op\n",
    "\n",
    "members = [\n",
    "    ('홍길동',20,'A'),\n",
    "    ('유재석',30,'C'),\n",
    "    ('강호동',25,'B'),\n",
    "    ('김영철',31,'D')   \n",
    "]\n",
    "\n",
    "result = sorted(members, key=op.itemgetter(1))\n",
    "print(result)\n",
    "\n"
   ]
  },
  {
   "cell_type": "code",
   "execution_count": null,
   "id": "1dc0e7fc-0c97-46de-b5a1-b57a8903fe01",
   "metadata": {},
   "outputs": [],
   "source": []
  },
  {
   "cell_type": "code",
   "execution_count": 53,
   "id": "27d3c209-66e8-41c3-9049-2f4e98cb4489",
   "metadata": {},
   "outputs": [
    {
     "name": "stdout",
     "output_type": "stream",
     "text": [
      "[{'name': '홍길동', 'age': 20, 'grade': 'A'}, {'name': '강호동', 'age': 25, 'grade': 'B'}, {'name': '유재석', 'age': 30, 'grade': 'C'}, {'name': '김영철', 'age': 31, 'grade': 'D'}]\n"
     ]
    }
   ],
   "source": [
    "import operator as op\n",
    "\n",
    "members = [\n",
    "    {'name':'홍길동', 'age':20, 'grade':'A'},\n",
    "    {'name':'유재석', 'age':30, 'grade':'C'},\n",
    "    {'name':'강호동', 'age':25, 'grade':'B'},\n",
    "    {'name':'김영철', 'age':31, 'grade':'D'}\n",
    "]\n",
    "\n",
    "result = sorted(members, key=op.itemgetter('grade'))\n",
    "print(result)\n",
    "\n"
   ]
  },
  {
   "cell_type": "code",
   "execution_count": 59,
   "id": "6d8b909a-adb6-4423-a161-6671be5a5592",
   "metadata": {},
   "outputs": [
    {
     "name": "stdout",
     "output_type": "stream",
     "text": [
      "15\n"
     ]
    }
   ],
   "source": [
    "def sum(n):\n",
    "    rs = 0\n",
    "    for i in data:\n",
    "        rs += i \n",
    "    return rs\n",
    "\n",
    "\n",
    "data = [1,2,3,4,5]    \n",
    "result = sum(data)\n",
    "print(result)\n"
   ]
  },
  {
   "cell_type": "code",
   "execution_count": 95,
   "id": "b203ef6b-cbef-4498-9fb6-eab2363348a1",
   "metadata": {},
   "outputs": [
    {
     "name": "stdout",
     "output_type": "stream",
     "text": [
      "Name: 홍길동, Age: 23, Grade: A\n",
      "Name: 노홍철, Age: 39, Grade: B\n",
      "Name: 박명수, Age: 43, Grade: C\n"
     ]
    }
   ],
   "source": [
    "import operator as op \n",
    "\n",
    "class Members:\n",
    "    def __init__(self, name, age, grade):\n",
    "        self.name = name\n",
    "        self.age = age\n",
    "        self.grade = grade\n",
    "\n",
    "members = [\n",
    "    Members('홍길동',23,'A'),\n",
    "    Members('박명수',43,'C'),\n",
    "    Members('노홍철',39,'B')    \n",
    "]\n",
    "\n",
    "result = sorted(members, key=op.attrgetter('age'))\n",
    "\n",
    "for m in result:\n",
    "    print(f'Name: {m.name}, Age: {m.age}, Grade: {m.grade}')\n"
   ]
  },
  {
   "cell_type": "code",
   "execution_count": 113,
   "id": "56f09ee8-e672-442c-a102-83cba37b78bc",
   "metadata": {},
   "outputs": [
    {
     "ename": "FileNotFoundError",
     "evalue": "[Errno 2] No such file or directory: 'C:/Users/kj/Desktop/myGit/PYTHON101/d241219/after/before_file.txt'",
     "output_type": "error",
     "traceback": [
      "\u001b[1;31m---------------------------------------------------------------------------\u001b[0m",
      "\u001b[1;31mFileNotFoundError\u001b[0m                         Traceback (most recent call last)",
      "Cell \u001b[1;32mIn[113], line 3\u001b[0m\n\u001b[0;32m      1\u001b[0m \u001b[38;5;28;01mimport\u001b[39;00m \u001b[38;5;21;01mshutil\u001b[39;00m\n\u001b[1;32m----> 3\u001b[0m shutil\u001b[38;5;241m.\u001b[39mcopy(\u001b[38;5;124m\"\u001b[39m\u001b[38;5;124mC:/Users/kj/Desktop/myGit/PYTHON101/d241219/after/before_file.txt\u001b[39m\u001b[38;5;124m\"\u001b[39m, \u001b[38;5;124m\"\u001b[39m\u001b[38;5;124mC:/Users/kj/Desktop/myGit/PYTHON101/d241219/after/before_file.txt\u001b[39m\u001b[38;5;124m\"\u001b[39m)\n",
      "File \u001b[1;32m~\\anaconda3\\Lib\\shutil.py:435\u001b[0m, in \u001b[0;36mcopy\u001b[1;34m(src, dst, follow_symlinks)\u001b[0m\n\u001b[0;32m    433\u001b[0m \u001b[38;5;28;01mif\u001b[39;00m os\u001b[38;5;241m.\u001b[39mpath\u001b[38;5;241m.\u001b[39misdir(dst):\n\u001b[0;32m    434\u001b[0m     dst \u001b[38;5;241m=\u001b[39m os\u001b[38;5;241m.\u001b[39mpath\u001b[38;5;241m.\u001b[39mjoin(dst, os\u001b[38;5;241m.\u001b[39mpath\u001b[38;5;241m.\u001b[39mbasename(src))\n\u001b[1;32m--> 435\u001b[0m copyfile(src, dst, follow_symlinks\u001b[38;5;241m=\u001b[39mfollow_symlinks)\n\u001b[0;32m    436\u001b[0m copymode(src, dst, follow_symlinks\u001b[38;5;241m=\u001b[39mfollow_symlinks)\n\u001b[0;32m    437\u001b[0m \u001b[38;5;28;01mreturn\u001b[39;00m dst\n",
      "File \u001b[1;32m~\\anaconda3\\Lib\\shutil.py:260\u001b[0m, in \u001b[0;36mcopyfile\u001b[1;34m(src, dst, follow_symlinks)\u001b[0m\n\u001b[0;32m    258\u001b[0m     os\u001b[38;5;241m.\u001b[39msymlink(os\u001b[38;5;241m.\u001b[39mreadlink(src), dst)\n\u001b[0;32m    259\u001b[0m \u001b[38;5;28;01melse\u001b[39;00m:\n\u001b[1;32m--> 260\u001b[0m     \u001b[38;5;28;01mwith\u001b[39;00m \u001b[38;5;28mopen\u001b[39m(src, \u001b[38;5;124m'\u001b[39m\u001b[38;5;124mrb\u001b[39m\u001b[38;5;124m'\u001b[39m) \u001b[38;5;28;01mas\u001b[39;00m fsrc:\n\u001b[0;32m    261\u001b[0m         \u001b[38;5;28;01mtry\u001b[39;00m:\n\u001b[0;32m    262\u001b[0m             \u001b[38;5;28;01mwith\u001b[39;00m \u001b[38;5;28mopen\u001b[39m(dst, \u001b[38;5;124m'\u001b[39m\u001b[38;5;124mwb\u001b[39m\u001b[38;5;124m'\u001b[39m) \u001b[38;5;28;01mas\u001b[39;00m fdst:\n\u001b[0;32m    263\u001b[0m                 \u001b[38;5;66;03m# macOS\u001b[39;00m\n",
      "\u001b[1;31mFileNotFoundError\u001b[0m: [Errno 2] No such file or directory: 'C:/Users/kj/Desktop/myGit/PYTHON101/d241219/after/before_file.txt'"
     ]
    }
   ],
   "source": [
    "import shutil\n",
    "\n",
    "shutil.copy(\"C:/Users/kj/Desktop/myGit/PYTHON101/d241219/after/before_file.txt\", \"C:/Users/kj/Desktop/myGit/PYTHON101/d241219/after/before_file.txt\")\n"
   ]
  },
  {
   "cell_type": "code",
   "execution_count": 131,
   "id": "5b046350-4976-43ea-89c1-db8596684a33",
   "metadata": {},
   "outputs": [
    {
     "data": {
      "text/plain": [
       "['C:/$RECYCLE.BIN',\n",
       " 'C:/$WinREAgent',\n",
       " 'C:/apache-tomcat-9.0.97',\n",
       " 'C:/Boot',\n",
       " 'C:/bootmgr',\n",
       " 'C:/BOOTNXT',\n",
       " 'C:/BOOTSECT.BAK',\n",
       " 'C:/Config.Msi',\n",
       " 'C:/Documents and Settings',\n",
       " 'C:/DumpStack.log.tmp',\n",
       " 'C:/hiberfil.sys',\n",
       " 'C:/HNC',\n",
       " 'C:/jar',\n",
       " 'C:/JspStudy',\n",
       " 'C:/jspUpload',\n",
       " 'C:/logs',\n",
       " 'C:/MinGW',\n",
       " 'C:/pagefile.sys',\n",
       " 'C:/Program Files',\n",
       " 'C:/Program Files (x86)',\n",
       " 'C:/ProgramData',\n",
       " 'C:/Recovery',\n",
       " 'C:/StreamEx',\n",
       " 'C:/swapfile.sys',\n",
       " 'C:/System Volume Information',\n",
       " 'C:/Users',\n",
       " 'C:/Windows',\n",
       " 'C:/판매.txt']"
      ]
     },
     "execution_count": 131,
     "metadata": {},
     "output_type": "execute_result"
    }
   ],
   "source": [
    "import glob\n",
    "\n",
    "glob.glob(\"C:/*\")"
   ]
  },
  {
   "cell_type": "code",
   "execution_count": 161,
   "id": "75a874ff-e86b-46ec-842f-57212aa5c97d",
   "metadata": {},
   "outputs": [
    {
     "ename": "UnsupportedOperation",
     "evalue": "write",
     "output_type": "error",
     "traceback": [
      "\u001b[1;31m---------------------------------------------------------------------------\u001b[0m",
      "\u001b[1;31mUnsupportedOperation\u001b[0m                      Traceback (most recent call last)",
      "Cell \u001b[1;32mIn[161], line 5\u001b[0m\n\u001b[0;32m      3\u001b[0m f \u001b[38;5;241m=\u001b[39m \u001b[38;5;28mopen\u001b[39m(\u001b[38;5;124m\"\u001b[39m\u001b[38;5;124md241219/test.txt\u001b[39m\u001b[38;5;124m\"\u001b[39m, \u001b[38;5;124m\"\u001b[39m\u001b[38;5;124mrb\u001b[39m\u001b[38;5;124m\"\u001b[39m)\n\u001b[0;32m      4\u001b[0m data \u001b[38;5;241m=\u001b[39m {\u001b[38;5;241m1\u001b[39m:\u001b[38;5;124m\"\u001b[39m\u001b[38;5;124mppp\u001b[39m\u001b[38;5;124m\"\u001b[39m, \u001b[38;5;241m2\u001b[39m:\u001b[38;5;124m\"\u001b[39m\u001b[38;5;124maaa\u001b[39m\u001b[38;5;124m\"\u001b[39m}\n\u001b[1;32m----> 5\u001b[0m pickle\u001b[38;5;241m.\u001b[39mdump(data, f)\n\u001b[0;32m      6\u001b[0m f\u001b[38;5;241m.\u001b[39mclose()\n",
      "\u001b[1;31mUnsupportedOperation\u001b[0m: write"
     ]
    }
   ],
   "source": [
    "import pickle\n",
    "\n",
    "f = open(\"d241219/test.txt\", \"wb\")\n",
    "data = {1:\"ppp\", 2:\"aaa\"}\n",
    "pickle.dump(data, f)\n",
    "f.close()\n",
    "\n"
   ]
  },
  {
   "cell_type": "code",
   "execution_count": 159,
   "id": "818df615-7464-48a4-80be-ba3da9363552",
   "metadata": {},
   "outputs": [
    {
     "name": "stdout",
     "output_type": "stream",
     "text": [
      "{1: 'ppp', 2: 'aaa'}\n"
     ]
    }
   ],
   "source": [
    "\n",
    "\n",
    "import pickle\n",
    "\n",
    "f = open(\"d241219/test.txt\", \"rb\")\n",
    "data = pickle.load(f)\n",
    "print(data)\n"
   ]
  },
  {
   "cell_type": "code",
   "execution_count": 187,
   "id": "5cdab694-3068-4355-a107-4bc0844b784d",
   "metadata": {},
   "outputs": [],
   "source": [
    "import zipfile\n",
    "\n",
    "with zipfile.ZipFile('d241219/zzz.zip', 'w') as myzip:\n",
    "    myzip.write('d241219/a.txt')\n",
    "    myzip.write('d241219/b.txt')\n",
    "    myzip.write('d241219/c.txt')"
   ]
  },
  {
   "cell_type": "code",
   "execution_count": 195,
   "id": "09412930-3bd0-4e3d-b1c2-75a9dde899c2",
   "metadata": {},
   "outputs": [],
   "source": [
    "with zipfile.ZipFile('d241219/zzz.zip') as myzip:\n",
    "    myzip.extractall()"
   ]
  },
  {
   "cell_type": "code",
   "execution_count": 211,
   "id": "3bdf3ae0-d10b-4f79-9c41-5ca1c0a135b4",
   "metadata": {},
   "outputs": [],
   "source": [
    "with zipfile.ZipFile('d241219/zzz.zip') as myzip:\n",
    "    myzip.extract('d241219/a.txt')"
   ]
  },
  {
   "cell_type": "code",
   "execution_count": 215,
   "id": "8c3f466c-fd41-4f2a-b295-27510d7ac2dd",
   "metadata": {},
   "outputs": [
    {
     "name": "stdout",
     "output_type": "stream",
     "text": [
      "start\n",
      "working:1\n",
      "\n",
      "working:2\n",
      "\n",
      "working:3\n",
      "\n",
      "working:4\n",
      "\n",
      "working:5\n",
      "\n",
      "working:1\n",
      "\n",
      "working:2\n",
      "\n",
      "working:3\n",
      "\n",
      "working:4\n",
      "\n",
      "working:5\n",
      "\n",
      "working:1\n",
      "\n",
      "working:2\n",
      "\n",
      "working:3\n",
      "\n",
      "working:4\n",
      "\n"
     ]
    },
    {
     "ename": "KeyboardInterrupt",
     "evalue": "",
     "output_type": "error",
     "traceback": [
      "\u001b[1;31m---------------------------------------------------------------------------\u001b[0m",
      "\u001b[1;31mKeyboardInterrupt\u001b[0m                         Traceback (most recent call last)",
      "Cell \u001b[1;32mIn[215], line 12\u001b[0m\n\u001b[0;32m      8\u001b[0m \u001b[38;5;28mprint\u001b[39m(\u001b[38;5;124m\"\u001b[39m\u001b[38;5;124mstart\u001b[39m\u001b[38;5;124m\"\u001b[39m)\n\u001b[0;32m     11\u001b[0m \u001b[38;5;28;01mfor\u001b[39;00m i \u001b[38;5;129;01min\u001b[39;00m \u001b[38;5;28mrange\u001b[39m(\u001b[38;5;241m5\u001b[39m):\n\u001b[1;32m---> 12\u001b[0m     long_task()\n\u001b[0;32m     14\u001b[0m \u001b[38;5;28mprint\u001b[39m(\u001b[38;5;124m\"\u001b[39m\u001b[38;5;124mend\u001b[39m\u001b[38;5;124m\"\u001b[39m)\n",
      "Cell \u001b[1;32mIn[215], line 5\u001b[0m, in \u001b[0;36mlong_task\u001b[1;34m()\u001b[0m\n\u001b[0;32m      3\u001b[0m \u001b[38;5;28;01mdef\u001b[39;00m \u001b[38;5;21mlong_task\u001b[39m():\n\u001b[0;32m      4\u001b[0m     \u001b[38;5;28;01mfor\u001b[39;00m i \u001b[38;5;129;01min\u001b[39;00m \u001b[38;5;28mrange\u001b[39m(\u001b[38;5;241m1\u001b[39m,\u001b[38;5;241m6\u001b[39m):\n\u001b[1;32m----> 5\u001b[0m         time\u001b[38;5;241m.\u001b[39msleep(\u001b[38;5;241m1\u001b[39m)\n\u001b[0;32m      6\u001b[0m         \u001b[38;5;28mprint\u001b[39m(\u001b[38;5;124m\"\u001b[39m\u001b[38;5;124mworking:\u001b[39m\u001b[38;5;132;01m%s\u001b[39;00m\u001b[38;5;130;01m\\n\u001b[39;00m\u001b[38;5;124m\"\u001b[39m \u001b[38;5;241m%\u001b[39m i)\n",
      "\u001b[1;31mKeyboardInterrupt\u001b[0m: "
     ]
    }
   ],
   "source": [
    "import time\n",
    "\n",
    "def long_task():\n",
    "    for i in range(1,6):\n",
    "        time.sleep(1)\n",
    "        print(\"working:%s\\n\" % i)\n",
    "\n",
    "print(\"start\")\n",
    "\n",
    "\n",
    "for i in range(5):\n",
    "    long_task()\n",
    "\n",
    "print(\"end\")\n",
    "\n",
    "\n",
    "\n",
    "\n",
    "\n"
   ]
  },
  {
   "cell_type": "code",
   "execution_count": 227,
   "id": "cac0c7f1-aa47-48ab-8e89-ed6b071409ae",
   "metadata": {},
   "outputs": [
    {
     "name": "stdout",
     "output_type": "stream",
     "text": [
      "start\n",
      "working:1\n",
      "working:1\n",
      "\n",
      "working:1\n",
      "\n",
      "\n",
      "working:1\n",
      "\n",
      "working:2\n",
      "working:2\n",
      "\n",
      "working:2\n",
      "\n",
      "\n",
      "working:2\n",
      "\n",
      "working:3\n",
      "working:3\n",
      "\n",
      "working:3\n",
      "\n",
      "\n",
      "working:3\n",
      "\n",
      "working:4\n",
      "\n",
      "working:4\n",
      "\n",
      "working:4\n",
      "\n",
      "working:4\n",
      "\n",
      "end\n"
     ]
    }
   ],
   "source": [
    "import time\n",
    "import threading\n",
    "\n",
    "def long_task():\n",
    "    for i in range(1,5):\n",
    "        time.sleep(1)\n",
    "        print(\"working:%s\\n\" % i)\n",
    "\n",
    "print(\"start\")\n",
    "\n",
    "\n",
    "threads = []\n",
    "\n",
    "for t in range(1.,5):\n",
    "    t = threading.Thread(target=long_task) # 스레드 생성\n",
    "    threads.append(t)\n",
    "\n",
    "for t in threads:\n",
    "    t.start()\n",
    "\n",
    "# 스레드 종료 대기 \n",
    "for t in threads:\n",
    "    t.join()\n",
    "\n",
    "print(\"end\")\n",
    "\n",
    "\n",
    "\n",
    "\n",
    "\n"
   ]
  },
  {
   "cell_type": "code",
   "execution_count": 239,
   "id": "dcd82148-fe75-4687-ae25-e23f2b46d6aa",
   "metadata": {},
   "outputs": [
    {
     "name": "stdout",
     "output_type": "stream",
     "text": [
      "========== Start ==========\n",
      "1\n",
      "1\n",
      "\n",
      "\n",
      "1\n",
      "\n",
      "2\n",
      "\n",
      "2\n",
      "\n",
      "2\n",
      "\n",
      "3\n",
      "3\n",
      "\n",
      "\n",
      "3\n",
      "\n",
      "========== End ==========\n"
     ]
    }
   ],
   "source": [
    "import time\n",
    "import threading\n",
    "\n",
    "\n",
    "def counter():\n",
    "    for i in range(1,4):\n",
    "        time.sleep(1)\n",
    "        print(\"%s\\n\" % i)\n",
    "\n",
    "\n",
    "print((\"=\" * 10) + \" Start \" + (\"=\" * 10))\n",
    "\n",
    "threads = []\n",
    "for i in range(1,4):\n",
    "    t = threading.Thread(target=counter)\n",
    "    threads.append(t)\n",
    "\n",
    "for t in threads:\n",
    "    t.start()\n",
    "\n",
    "for t in threads:\n",
    "    t.join()\n",
    "\n",
    "\n",
    "print((\"=\" * 10) + \" End \" + (\"=\" * 10))\n"
   ]
  },
  {
   "cell_type": "code",
   "execution_count": 261,
   "id": "0894357d-157a-4eef-89ba-0a7560ceaa56",
   "metadata": {},
   "outputs": [
    {
     "name": "stdout",
     "output_type": "stream",
     "text": [
      "error\n",
      "Traceback (most recent call last):\n",
      "  File \"C:\\Users\\kj\\AppData\\Local\\Temp\\ipykernel_3996\\23363251.py\", line 12, in main\n",
      "    tmpB()\n",
      "  File \"C:\\Users\\kj\\AppData\\Local\\Temp\\ipykernel_3996\\23363251.py\", line 7, in tmpB\n",
      "    tmpA()\n",
      "  File \"C:\\Users\\kj\\AppData\\Local\\Temp\\ipykernel_3996\\23363251.py\", line 4, in tmpA\n",
      "    return 10/0\n",
      "           ~~^~\n",
      "ZeroDivisionError: division by zero\n",
      "\n"
     ]
    }
   ],
   "source": [
    "import traceback\n",
    "\n",
    "def tmpA():\n",
    "    return 10/0\n",
    "\n",
    "def tmpB():\n",
    "    tmpA()\n",
    "\n",
    "def main():\n",
    "    \n",
    "    try:\n",
    "        tmpB()\n",
    "    except:\n",
    "        print(\"error\")\n",
    "        print(traceback.format_exc())\n",
    "\n",
    "main()"
   ]
  },
  {
   "cell_type": "code",
   "execution_count": null,
   "id": "1b29638f-051b-4634-8315-26b55f6c6745",
   "metadata": {},
   "outputs": [],
   "source": []
  },
  {
   "cell_type": "code",
   "execution_count": 273,
   "id": "4c9ba986-c5e2-4924-8645-478a6236b272",
   "metadata": {},
   "outputs": [
    {
     "ename": "AttributeError",
     "evalue": "module 'json' has no attribute 'read'",
     "output_type": "error",
     "traceback": [
      "\u001b[1;31m---------------------------------------------------------------------------\u001b[0m",
      "\u001b[1;31mAttributeError\u001b[0m                            Traceback (most recent call last)",
      "Cell \u001b[1;32mIn[273], line 4\u001b[0m\n\u001b[0;32m      1\u001b[0m \u001b[38;5;28;01mimport\u001b[39;00m \u001b[38;5;21;01mjson\u001b[39;00m\n\u001b[0;32m      3\u001b[0m \u001b[38;5;28;01mwith\u001b[39;00m \u001b[38;5;28mopen\u001b[39m(\u001b[38;5;124m'\u001b[39m\u001b[38;5;124md241219/members.json\u001b[39m\u001b[38;5;124m'\u001b[39m) \u001b[38;5;28;01mas\u001b[39;00m m: \n\u001b[1;32m----> 4\u001b[0m     data \u001b[38;5;241m=\u001b[39m json\u001b[38;5;241m.\u001b[39mread(m)\n",
      "\u001b[1;31mAttributeError\u001b[0m: module 'json' has no attribute 'read'"
     ]
    }
   ],
   "source": [
    "import json\n",
    "\n",
    "with open('d241219/members.json') as m: \n",
    "    data = json.load(m)\n",
    "    \n"
   ]
  }
 ],
 "metadata": {
  "kernelspec": {
   "display_name": "Python [conda env:base] *",
   "language": "python",
   "name": "conda-base-py"
  },
  "language_info": {
   "codemirror_mode": {
    "name": "ipython",
    "version": 3
   },
   "file_extension": ".py",
   "mimetype": "text/x-python",
   "name": "python",
   "nbconvert_exporter": "python",
   "pygments_lexer": "ipython3",
   "version": "3.12.7"
  }
 },
 "nbformat": 4,
 "nbformat_minor": 5
}
