{
 "cells": [
  {
   "cell_type": "code",
   "execution_count": 1,
   "id": "e393c085-d7b0-47b7-9837-df8147ddcaa7",
   "metadata": {},
   "outputs": [],
   "source": [
    "import requests\n",
    "from bs4 import BeautifulSoup as bs\n",
    "from urllib.request import urlopen\n",
    "import logging"
   ]
  },
  {
   "cell_type": "code",
   "execution_count": 2,
   "id": "f5d166ef-62a3-4f64-b826-58629dfdbc67",
   "metadata": {},
   "outputs": [],
   "source": [
    "flipkart_url = \"https://www.flipkart.com/search?q=\" + \"tv\""
   ]
  },
  {
   "cell_type": "code",
   "execution_count": 3,
   "id": "70391943-e095-4deb-8f53-8c59b46fe061",
   "metadata": {},
   "outputs": [
    {
     "data": {
      "text/plain": [
       "'https://www.flipkart.com/search?q=tv'"
      ]
     },
     "execution_count": 3,
     "metadata": {},
     "output_type": "execute_result"
    }
   ],
   "source": [
    "flipkart_url"
   ]
  },
  {
   "cell_type": "code",
   "execution_count": 4,
   "id": "8e282642-0991-451f-bcc0-e66bb66ea839",
   "metadata": {},
   "outputs": [],
   "source": [
    "url_client = urlopen(flipkart_url)"
   ]
  },
  {
   "cell_type": "code",
   "execution_count": 5,
   "id": "768c5029-96cc-4739-9aee-a688f71fe2d9",
   "metadata": {},
   "outputs": [],
   "source": [
    "flipkart_page = url_client.read()"
   ]
  },
  {
   "cell_type": "code",
   "execution_count": 6,
   "id": "7b067186-d18c-4f63-9812-377c9c918236",
   "metadata": {},
   "outputs": [],
   "source": [
    "flipkart_html = bs(flipkart_page,'html.parser')"
   ]
  },
  {
   "cell_type": "code",
   "execution_count": 51,
   "id": "56650232-3a14-4649-852e-5fc2853b0497",
   "metadata": {},
   "outputs": [
    {
     "data": {
      "text/plain": [
       "'https://www.flipkart.com/mi-5a-80-cm-32-inch-hd-ready-led-smart-android-tv-dolby-audio-2022-model/p/itmed1e0642e3a71?pid=TVSGD5CS2SDUUZGN&amp;lid=LSTTVSGD5CS2SDUUZGNPVJDFV&amp;marketplace=FLIPKART&amp;q=tv&amp;store=ckf%2Fczl&amp;srno=s_1_1&amp;otracker=search&amp;fm=organic&amp;iid=en_Flbls0YRz2KwWxcZScw0ZM3cokQliUdVpJP0WAh_5jSAOeg2UfF90kvrnhQOchgIXYfAC4bEVGS-feongsq-1w%3D%3D&amp;ppt=None&amp;ppn=None&amp;ssid=4p1graxsqo0000001692247789217&amp;qH=c9a1fdac6e082dd8'"
      ]
     },
     "execution_count": 51,
     "metadata": {},
     "output_type": "execute_result"
    }
   ],
   "source": [
    "\"https://www.flipkart.com\" + \"/mi-5a-80-cm-32-inch-hd-ready-led-smart-android-tv-dolby-audio-2022-model/p/itmed1e0642e3a71?pid=TVSGD5CS2SDUUZGN&amp;lid=LSTTVSGD5CS2SDUUZGNPVJDFV&amp;marketplace=FLIPKART&amp;q=tv&amp;store=ckf%2Fczl&amp;srno=s_1_1&amp;otracker=search&amp;fm=organic&amp;iid=en_Flbls0YRz2KwWxcZScw0ZM3cokQliUdVpJP0WAh_5jSAOeg2UfF90kvrnhQOchgIXYfAC4bEVGS-feongsq-1w%3D%3D&amp;ppt=None&amp;ppn=None&amp;ssid=4p1graxsqo0000001692247789217&amp;qH=c9a1fdac6e082dd8\""
   ]
  },
  {
   "cell_type": "code",
   "execution_count": 32,
   "id": "0c67e678-c562-499a-9f87-9549c434e919",
   "metadata": {},
   "outputs": [],
   "source": [
    "bigbox = flipkart_html.find_all(\"div\", {\"class\":\"_1AtVbE col-12-12\"})"
   ]
  },
  {
   "cell_type": "code",
   "execution_count": 33,
   "id": "f691cc56-5a81-47dd-9884-156b17443e68",
   "metadata": {},
   "outputs": [
    {
     "data": {
      "text/plain": [
       "30"
      ]
     },
     "execution_count": 33,
     "metadata": {},
     "output_type": "execute_result"
    }
   ],
   "source": [
    "len(bigbox)"
   ]
  },
  {
   "cell_type": "code",
   "execution_count": 34,
   "id": "fff0ec47-2807-45b4-8b6a-87f7268386f0",
   "metadata": {},
   "outputs": [],
   "source": [
    "del bigbox[0:2]"
   ]
  },
  {
   "cell_type": "code",
   "execution_count": 35,
   "id": "f5dafcb9-d06e-418a-abe6-ddab88d1e6b7",
   "metadata": {},
   "outputs": [
    {
     "data": {
      "text/plain": [
       "28"
      ]
     },
     "execution_count": 35,
     "metadata": {},
     "output_type": "execute_result"
    }
   ],
   "source": [
    "len(bigbox)"
   ]
  },
  {
   "cell_type": "code",
   "execution_count": 36,
   "id": "1848a5b4-2793-4c53-a1e7-b8e5da074fbb",
   "metadata": {},
   "outputs": [
    {
     "data": {
      "text/plain": [
       "'/mi-series-100-cm-40-inch-full-hd-led-smart-google-tv/p/itm027b4f1e542d7?pid=TVSGREPAWWQF4TD8&lid=LSTTVSGREPAWWQF4TD8TD4CFK&marketplace=FLIPKART&q=tv&store=ckf%2Fczl&srno=s_1_1&otracker=search&fm=organic&iid=en_KKEeovkaRVRSVli-5c76QWyjc2Jruy4ktWpQ53VhFmrL_07DcM3t68S-uitwypbPnP80AGqJDaaO1I-M6v0zmg%3D%3D&ppt=None&ppn=None&ssid=qnvd2ggxeo0000001692265338998&qH=c9a1fdac6e082dd8'"
      ]
     },
     "execution_count": 36,
     "metadata": {},
     "output_type": "execute_result"
    }
   ],
   "source": [
    "bigbox[0].div.div.div.a['href']"
   ]
  },
  {
   "cell_type": "code",
   "execution_count": 37,
   "id": "5ca28ed6-eb47-45c1-b871-49b1ec88e2e3",
   "metadata": {},
   "outputs": [
    {
     "data": {
      "text/plain": [
       "'https://www.flipkart.com/mi-series-100-cm-40-inch-full-hd-led-smart-google-tv/p/itm027b4f1e542d7?pid=TVSGREPAWWQF4TD8&lid=LSTTVSGREPAWWQF4TD8TD4CFK&marketplace=FLIPKART&q=tv&store=ckf%2Fczl&srno=s_1_1&otracker=search&fm=organic&iid=en_KKEeovkaRVRSVli-5c76QWyjc2Jruy4ktWpQ53VhFmrL_07DcM3t68S-uitwypbPnP80AGqJDaaO1I-M6v0zmg%3D%3D&ppt=None&ppn=None&ssid=qnvd2ggxeo0000001692265338998&qH=c9a1fdac6e082dd8'"
      ]
     },
     "execution_count": 37,
     "metadata": {},
     "output_type": "execute_result"
    }
   ],
   "source": [
    "\"https://www.flipkart.com\" + bigbox[0].div.div.div.a['href']"
   ]
  },
  {
   "cell_type": "code",
   "execution_count": 38,
   "id": "c070d6af-1a29-482f-b89b-344cd187551d",
   "metadata": {},
   "outputs": [
    {
     "name": "stdout",
     "output_type": "stream",
     "text": [
      "https://www.flipkart.com/mi-series-100-cm-40-inch-full-hd-led-smart-google-tv/p/itm027b4f1e542d7?pid=TVSGREPAWWQF4TD8&lid=LSTTVSGREPAWWQF4TD8TD4CFK&marketplace=FLIPKART&q=tv&store=ckf%2Fczl&srno=s_1_1&otracker=search&fm=organic&iid=en_KKEeovkaRVRSVli-5c76QWyjc2Jruy4ktWpQ53VhFmrL_07DcM3t68S-uitwypbPnP80AGqJDaaO1I-M6v0zmg%3D%3D&ppt=None&ppn=None&ssid=qnvd2ggxeo0000001692265338998&qH=c9a1fdac6e082dd8\n",
      "https://www.flipkart.com/adsun-80-cm-32-inch-hd-ready-led-smart-android-based-tv/p/itmdab13025494f2?pid=TVSFFMNVUVNS3SHF&lid=LSTTVSFFMNVUVNS3SHFVWHTAU&marketplace=FLIPKART&q=tv&store=ckf%2Fczl&srno=s_1_2&otracker=search&fm=organic&iid=en_KKEeovkaRVRSVli-5c76QWyjc2Jruy4ktWpQ53VhFmqsStB-4vbWIXtuKBL-iZCDWquE8kMfOtk00Abf1ljvzA%3D%3D&ppt=None&ppn=None&ssid=qnvd2ggxeo0000001692265338998&qH=c9a1fdac6e082dd8\n",
      "https://www.flipkart.com/lg-80-cm-32-inch-hd-ready-led-smart-webos-tv/p/itmd091dbd255d6c?pid=TVSFTW4CSRW8PGDQ&lid=LSTTVSFTW4CSRW8PGDQSZQIO6&marketplace=FLIPKART&q=tv&store=ckf%2Fczl&spotlightTagId=FkPickId_ckf%2Fczl&srno=s_1_3&otracker=search&fm=organic&iid=4fe3a93f-8374-421b-bb33-042845ebe7e1.TVSFTW4CSRW8PGDQ.SEARCH&ppt=None&ppn=None&ssid=qnvd2ggxeo0000001692265338998&qH=c9a1fdac6e082dd8\n",
      "https://www.flipkart.com/iffalcon-tcl-80-04-cm-32-inch-hd-ready-led-smart-android-tv-bezel-less-design-24w-speaker/p/itm592774a2e615f?pid=TVSGKNZGHCZRNEDW&lid=LSTTVSGKNZGHCZRNEDWPKDF2X&marketplace=FLIPKART&q=tv&store=ckf%2Fczl&srno=s_1_4&otracker=search&fm=organic&iid=4fe3a93f-8374-421b-bb33-042845ebe7e1.TVSGKNZGHCZRNEDW.SEARCH&ppt=None&ppn=None&ssid=qnvd2ggxeo0000001692265338998&qH=c9a1fdac6e082dd8\n",
      "https://www.flipkart.com/mi-5a-80-cm-32-inch-hd-ready-led-smart-android-tv-dolby-audio-2022-model/p/itmed1e0642e3a71?pid=TVSGD5CS2SDUUZGN&lid=LSTTVSGD5CS2SDUUZGNPVJDFV&marketplace=FLIPKART&q=tv&store=ckf%2Fczl&spotlightTagId=BestsellerId_ckf%2Fczl&srno=s_1_5&otracker=search&fm=organic&iid=4fe3a93f-8374-421b-bb33-042845ebe7e1.TVSGD5CS2SDUUZGN.SEARCH&ppt=None&ppn=None&ssid=qnvd2ggxeo0000001692265338998&qH=c9a1fdac6e082dd8\n",
      "https://www.flipkart.com/mi-series-80-cm-32-inch-hd-ready-led-smart-google-tv-1-5-gb-ram-dolby-audio-2023-model/p/itm094b23d676f51?pid=TVSGREPAZX8CN9QS&lid=LSTTVSGREPAZX8CN9QSFY3T6T&marketplace=FLIPKART&q=tv&store=ckf%2Fczl&srno=s_1_6&otracker=search&fm=organic&iid=4fe3a93f-8374-421b-bb33-042845ebe7e1.TVSGREPAZX8CN9QS.SEARCH&ppt=None&ppn=None&ssid=qnvd2ggxeo0000001692265338998&qH=c9a1fdac6e082dd8\n",
      "https://www.flipkart.com/infinix-y1-80-cm-32-inch-hd-ready-led-smart-linux-tv-wall-mount/p/itm78a83690a0f43?pid=TVSGFGF34GMTB9KF&lid=LSTTVSGFGF34GMTB9KFNOEUDG&marketplace=FLIPKART&q=tv&store=ckf%2Fczl&spotlightTagId=BestsellerId_ckf%2Fczl&srno=s_1_7&otracker=search&fm=organic&iid=4fe3a93f-8374-421b-bb33-042845ebe7e1.TVSGFGF34GMTB9KF.SEARCH&ppt=None&ppn=None&ssid=qnvd2ggxeo0000001692265338998&qH=c9a1fdac6e082dd8\n",
      "https://www.flipkart.com/toshiba-m550lp-series-139-cm-55-inch-qled-ultra-hd-4k-smart-google-tv-bass-woofer-regza-engine/p/itmf6af832576a77?pid=TVSGFT4SFXP9CYQX&lid=LSTTVSGFT4SFXP9CYQXJ0RYBB&marketplace=FLIPKART&q=tv&store=ckf%2Fczl&srno=s_1_8&otracker=search&fm=organic&iid=en_KKEeovkaRVRSVli-5c76QWyjc2Jruy4ktWpQ53VhFmrl7wgmSWQo_tZIsxFjs5QG9LUZHELio9_d8nHBFirNfw%3D%3D&ppt=None&ppn=None&ssid=qnvd2ggxeo0000001692265338998&qH=c9a1fdac6e082dd8\n",
      "https://www.flipkart.com/tcl-80-04-cm-32-inch-hd-ready-led-smart-android-tv-bezel-less-extra-brightness/p/itm124bbc3fd3987?pid=TVSGKNZGMFPRKQJZ&lid=LSTTVSGKNZGMFPRKQJZS5GUN6&marketplace=FLIPKART&q=tv&store=ckf%2Fczl&srno=s_1_9&otracker=search&fm=organic&iid=4fe3a93f-8374-421b-bb33-042845ebe7e1.TVSGKNZGMFPRKQJZ.SEARCH&ppt=None&ppn=None&ssid=qnvd2ggxeo0000001692265338998&qH=c9a1fdac6e082dd8\n",
      "https://www.flipkart.com/iffalcon-tcl-u62-108-cm-43-inch-ultra-hd-4k-led-smart-google-tv-bezel-less-design-dolby-audio/p/itma3d4887dc2543?pid=TVSGGJTQPTRDFDGX&lid=LSTTVSGGJTQPTRDFDGXEORYEG&marketplace=FLIPKART&q=tv&store=ckf%2Fczl&srno=s_1_10&otracker=search&fm=organic&iid=4fe3a93f-8374-421b-bb33-042845ebe7e1.TVSGGJTQPTRDFDGX.SEARCH&ppt=None&ppn=None&ssid=qnvd2ggxeo0000001692265338998&qH=c9a1fdac6e082dd8\n",
      "https://www.flipkart.com/toshiba-108-cm-43-inch-full-hd-led-smart-android-tv-dts-x-2023-model/p/itm328ba5eb3e795?pid=TVSGZT8YZZPWVJ7Z&lid=LSTTVSGZT8YZZPWVJ7ZMHVEXA&marketplace=FLIPKART&q=tv&store=ckf%2Fczl&srno=s_1_11&otracker=search&fm=organic&iid=en_KKEeovkaRVRSVli-5c76QWyjc2Jruy4ktWpQ53VhFmoBbhK3-cHTjeDV3w5eP9f2nnj05kfh_tBK1H5CJ2xeyQ%3D%3D&ppt=None&ppn=None&ssid=qnvd2ggxeo0000001692265338998&qH=c9a1fdac6e082dd8\n",
      "https://www.flipkart.com/mi-x-series-108-cm-43-inch-ultra-hd-4k-led-smart-google-tv-dolby-vision-30w-audio-2023-model/p/itm31fae2c25ad79?pid=TVSGREPACR6KEVFG&lid=LSTTVSGREPACR6KEVFGMYWYNK&marketplace=FLIPKART&q=tv&store=ckf%2Fczl&srno=s_1_12&otracker=search&fm=organic&iid=en_KKEeovkaRVRSVli-5c76QWyjc2Jruy4ktWpQ53VhFmr1XlXR2EWoWk7KDchcqXJVqjilzk-WjCwJZFSyxiYBHg%3D%3D&ppt=None&ppn=None&ssid=qnvd2ggxeo0000001692265338998&qH=c9a1fdac6e082dd8\n",
      "https://www.flipkart.com/samsung-80-cm-32-inch-hd-ready-led-smart-tizen-tv-bezel-free-design/p/itmdfedd9527ff6a?pid=TVSGHY2UZA9YHWQN&lid=LSTTVSGHY2UZA9YHWQNCPAW6M&marketplace=FLIPKART&q=tv&store=ckf%2Fczl&spotlightTagId=BestsellerId_ckf%2Fczl&srno=s_1_13&otracker=search&fm=organic&iid=4fe3a93f-8374-421b-bb33-042845ebe7e1.TVSGHY2UZA9YHWQN.SEARCH&ppt=None&ppn=None&ssid=qnvd2ggxeo0000001692265338998&qH=c9a1fdac6e082dd8\n",
      "https://www.flipkart.com/tcl-80-04-cm-32-inch-full-hd-led-smart-android-tv/p/itm7ea495b09dfc2?pid=TVSGQ4YVPVYDFQVR&lid=LSTTVSGQ4YVPVYDFQVRHBPBP2&marketplace=FLIPKART&q=tv&store=ckf%2Fczl&spotlightTagId=TrendingId_ckf%2Fczl&srno=s_1_14&otracker=search&fm=organic&iid=4fe3a93f-8374-421b-bb33-042845ebe7e1.TVSGQ4YVPVYDFQVR.SEARCH&ppt=None&ppn=None&ssid=qnvd2ggxeo0000001692265338998&qH=c9a1fdac6e082dd8\n",
      "https://www.flipkart.com/mi-5a-100-cm-40-inch-full-hd-led-smart-android-tv-dolby-audio-2022-model/p/itm9c87830e51e55?pid=TVSGD5CS4N7NWFZD&lid=LSTTVSGD5CS4N7NWFZDCMWLRV&marketplace=FLIPKART&q=tv&store=ckf%2Fczl&srno=s_1_15&otracker=search&fm=organic&iid=4fe3a93f-8374-421b-bb33-042845ebe7e1.TVSGD5CS4N7NWFZD.SEARCH&ppt=None&ppn=None&ssid=qnvd2ggxeo0000001692265338998&qH=c9a1fdac6e082dd8\n",
      "https://www.flipkart.com/oneplus-y1s-101-cm-40-inch-full-hd-led-smart-android-tv-11-bezel-less-frame/p/itm1415571ca311d?pid=TVSGZ3WB6GBTZVGG&lid=LSTTVSGZ3WB6GBTZVGGEXDZ19&marketplace=FLIPKART&q=tv&store=ckf%2Fczl&srno=s_1_16&otracker=search&fm=organic&iid=4fe3a93f-8374-421b-bb33-042845ebe7e1.TVSGZ3WB6GBTZVGG.SEARCH&ppt=None&ppn=None&ssid=qnvd2ggxeo0000001692265338998&qH=c9a1fdac6e082dd8\n",
      "https://www.flipkart.com/mi-series-108-cm-43-inch-full-hd-led-smart-google-tv-bezel-less-design-dolby-audio-2023-model/p/itm5d3f8da36722a?pid=TVSGREPA7DYQRRJ7&lid=LSTTVSGREPA7DYQRRJ7VBIQMN&marketplace=FLIPKART&q=tv&store=ckf%2Fczl&srno=s_1_17&otracker=search&fm=organic&iid=en_KKEeovkaRVRSVli-5c76QWyjc2Jruy4ktWpQ53VhFmrreHWfRKd8dbm7n5wNfCThuShov_wsGOCjhTZHNgzVow%3D%3D&ppt=None&ppn=None&ssid=qnvd2ggxeo0000001692265338998&qH=c9a1fdac6e082dd8\n",
      "https://www.flipkart.com/toshiba-c350mp-126-cm-50-inch-ultra-hd-4k-led-smart-google-tv-dolby-vision-atmos-regza-engine-2023-model/p/itm018e9a31fb238?pid=TVSGZZWYDH5VQZEV&lid=LSTTVSGZZWYDH5VQZEVSWXCFZ&marketplace=FLIPKART&q=tv&store=ckf%2Fczl&srno=s_1_18&otracker=search&fm=organic&iid=en_KKEeovkaRVRSVli-5c76QWyjc2Jruy4ktWpQ53VhFmqT4FtIK59rLXT0KYjR04ThvQRplhsYYFvZvpngoPyduA%3D%3D&ppt=None&ppn=None&ssid=qnvd2ggxeo0000001692265338998&qH=c9a1fdac6e082dd8\n",
      "https://www.flipkart.com/tcl-80-04-cm-32-inch-full-hd-led-smart-google-tv-bezel-less-extra-brightness/p/itm4408629f790ec?pid=TVSGKNZGZFSBE2YC&lid=LSTTVSGKNZGZFSBE2YC12HRF6&marketplace=FLIPKART&q=tv&store=ckf%2Fczl&srno=s_1_19&otracker=search&fm=organic&iid=4fe3a93f-8374-421b-bb33-042845ebe7e1.TVSGKNZGZFSBE2YC.SEARCH&ppt=None&ppn=None&ssid=qnvd2ggxeo0000001692265338998&qH=c9a1fdac6e082dd8\n",
      "https://www.flipkart.com/acer-series-80-cm-32-inch-hd-ready-led-smart-android-tv-11-1-5gb-ram-2022-model/p/itmc194c645a8dad?pid=TVSGEYD98YRZGSRU&lid=LSTTVSGEYD98YRZGSRUPETPT6&marketplace=FLIPKART&q=tv&store=ckf%2Fczl&srno=s_1_20&otracker=search&fm=organic&iid=4fe3a93f-8374-421b-bb33-042845ebe7e1.TVSGEYD98YRZGSRU.SEARCH&ppt=None&ppn=None&ssid=qnvd2ggxeo0000001692265338998&qH=c9a1fdac6e082dd8\n",
      "https://www.flipkart.com/mi-5a-108-cm-43-inch-full-hd-led-smart-android-tv-dolby-audio-2022-model/p/itmfcf6fa218d837?pid=TVSGD5CS3CXNF2DF&lid=LSTTVSGD5CS3CXNF2DFVCD74U&marketplace=FLIPKART&q=tv&store=ckf%2Fczl&srno=s_1_21&otracker=search&fm=organic&iid=en_KKEeovkaRVRSVli-5c76QWyjc2Jruy4ktWpQ53VhFmpk3c_ZhqDQ_LtmaDwYlGW59QHfKdTlOk0uK3ddJu3N7Q%3D%3D&ppt=None&ppn=None&ssid=qnvd2ggxeo0000001692265338998&qH=c9a1fdac6e082dd8\n",
      "https://www.flipkart.com/sansui-127-cm-50-inch-ultra-hd-4k-led-smart-android-tv-dolby-audio-dts-mystique-black/p/itm5e6546feb3abe?pid=TVSFWFSHTZYQJGFF&lid=LSTTVSFWFSHTZYQJGFFVUUZXB&marketplace=FLIPKART&q=tv&store=ckf%2Fczl&srno=s_1_22&otracker=search&fm=organic&iid=en_KKEeovkaRVRSVli-5c76QWyjc2Jruy4ktWpQ53VhFmq1_S50pyPOVTyxFwc8WgzgNYhjXCv-UxKSUVKwE1KIVQ%3D%3D&ppt=None&ppn=None&ssid=qnvd2ggxeo0000001692265338998&qH=c9a1fdac6e082dd8\n",
      "https://www.flipkart.com/lg-80-cm-32-inch-hd-ready-led-smart-webos-tv-alpha5-gen5-ai-processor-ceramic-black-2022-model/p/itm27553fd4a996e?pid=TVSGDQHFUJ3T7SQK&lid=LSTTVSGDQHFUJ3T7SQKUG08GH&marketplace=FLIPKART&q=tv&store=ckf%2Fczl&srno=s_1_23&otracker=search&fm=organic&iid=4fe3a93f-8374-421b-bb33-042845ebe7e1.TVSGDQHFUJ3T7SQK.SEARCH&ppt=None&ppn=None&ssid=qnvd2ggxeo0000001692265338998&qH=c9a1fdac6e082dd8\n",
      "https://www.flipkart.com/mi-x-series-108-cm-43-inch-ultra-hd-4k-led-smart-android-tv-dolby-vision-30w-audio-2022-model/p/itm0f54c59e76a8d?pid=TVSGHEQVGZVTSEBT&lid=LSTTVSGHEQVGZVTSEBT6BSNVA&marketplace=FLIPKART&q=tv&store=ckf%2Fczl&srno=s_1_24&otracker=search&fm=organic&iid=4fe3a93f-8374-421b-bb33-042845ebe7e1.TVSGHEQVGZVTSEBT.SEARCH&ppt=None&ppn=None&ssid=qnvd2ggxeo0000001692265338998&qH=c9a1fdac6e082dd8\n"
     ]
    },
    {
     "ename": "AttributeError",
     "evalue": "'NoneType' object has no attribute 'a'",
     "output_type": "error",
     "traceback": [
      "\u001b[0;31m---------------------------------------------------------------------------\u001b[0m",
      "\u001b[0;31mAttributeError\u001b[0m                            Traceback (most recent call last)",
      "Cell \u001b[0;32mIn[38], line 2\u001b[0m\n\u001b[1;32m      1\u001b[0m \u001b[38;5;28;01mfor\u001b[39;00m i \u001b[38;5;129;01min\u001b[39;00m bigbox:\n\u001b[0;32m----> 2\u001b[0m     \u001b[38;5;28mprint\u001b[39m(\u001b[38;5;124m\"\u001b[39m\u001b[38;5;124mhttps://www.flipkart.com\u001b[39m\u001b[38;5;124m\"\u001b[39m \u001b[38;5;241m+\u001b[39m \u001b[43mi\u001b[49m\u001b[38;5;241;43m.\u001b[39;49m\u001b[43mdiv\u001b[49m\u001b[38;5;241;43m.\u001b[39;49m\u001b[43mdiv\u001b[49m\u001b[38;5;241;43m.\u001b[39;49m\u001b[43mdiv\u001b[49m\u001b[38;5;241;43m.\u001b[39;49m\u001b[43ma\u001b[49m[\u001b[38;5;124m'\u001b[39m\u001b[38;5;124mhref\u001b[39m\u001b[38;5;124m'\u001b[39m])\n",
      "\u001b[0;31mAttributeError\u001b[0m: 'NoneType' object has no attribute 'a'"
     ]
    }
   ],
   "source": [
    "for i in bigbox:\n",
    "    print(\"https://www.flipkart.com\" + i.div.div.div.a['href'])"
   ]
  },
  {
   "cell_type": "code",
   "execution_count": 39,
   "id": "f667eab2-d105-4dc3-9437-d244fb4926d3",
   "metadata": {},
   "outputs": [],
   "source": [
    "product_link = \"https://www.flipkart.com\" + bigbox[0].div.div.div.a['href']"
   ]
  },
  {
   "cell_type": "code",
   "execution_count": 40,
   "id": "f305c487-9c83-436a-9760-5cef25d76fac",
   "metadata": {},
   "outputs": [
    {
     "data": {
      "text/plain": [
       "'https://www.flipkart.com/mi-series-100-cm-40-inch-full-hd-led-smart-google-tv/p/itm027b4f1e542d7?pid=TVSGREPAWWQF4TD8&lid=LSTTVSGREPAWWQF4TD8TD4CFK&marketplace=FLIPKART&q=tv&store=ckf%2Fczl&srno=s_1_1&otracker=search&fm=organic&iid=en_KKEeovkaRVRSVli-5c76QWyjc2Jruy4ktWpQ53VhFmrL_07DcM3t68S-uitwypbPnP80AGqJDaaO1I-M6v0zmg%3D%3D&ppt=None&ppn=None&ssid=qnvd2ggxeo0000001692265338998&qH=c9a1fdac6e082dd8'"
      ]
     },
     "execution_count": 40,
     "metadata": {},
     "output_type": "execute_result"
    }
   ],
   "source": [
    "product_link"
   ]
  },
  {
   "cell_type": "code",
   "execution_count": 41,
   "id": "9f8f3f59-8a05-4770-9130-0d2a8bd03329",
   "metadata": {},
   "outputs": [
    {
     "data": {
      "text/plain": [
       "<Response [200]>"
      ]
     },
     "execution_count": 41,
     "metadata": {},
     "output_type": "execute_result"
    }
   ],
   "source": [
    "requests.get(product_link)"
   ]
  },
  {
   "cell_type": "code",
   "execution_count": 42,
   "id": "0e9fb2cc-ebcf-40d6-91f6-9340b06e3a8b",
   "metadata": {},
   "outputs": [],
   "source": [
    "product_req = requests.get(product_link)"
   ]
  },
  {
   "cell_type": "code",
   "execution_count": 46,
   "id": "d890eead-4918-438f-8ac5-008411a9c0a4",
   "metadata": {},
   "outputs": [],
   "source": [
    "# to read/check the content of the link, add.text followed by beautification\n",
    "product_html = bs(product_req.text,'html.parser')"
   ]
  },
  {
   "cell_type": "code",
   "execution_count": 50,
   "id": "f4ebdbff-f235-4b8b-9274-4e1def19809c",
   "metadata": {},
   "outputs": [],
   "source": [
    "comment_box = product_html.find_all(\"div\", {\"class\":\"_16PBlm\"})"
   ]
  },
  {
   "cell_type": "code",
   "execution_count": 52,
   "id": "43f338ec-c697-4ceb-862f-6b03d6189179",
   "metadata": {},
   "outputs": [
    {
     "data": {
      "text/plain": [
       "11"
      ]
     },
     "execution_count": 52,
     "metadata": {},
     "output_type": "execute_result"
    }
   ],
   "source": [
    "len(comment_box)"
   ]
  },
  {
   "cell_type": "code",
   "execution_count": 59,
   "id": "36d2d224-a43f-4dbf-9c1f-0cf28a1a2c10",
   "metadata": {},
   "outputs": [
    {
     "data": {
      "text/plain": [
       "'good value for moneyREAD MORE'"
      ]
     },
     "execution_count": 59,
     "metadata": {},
     "output_type": "execute_result"
    }
   ],
   "source": [
    "comment_box[0].div.div.find_all(\"div\", {\"class\":\"t-ZTKy\"})[0].text"
   ]
  },
  {
   "cell_type": "code",
   "execution_count": 60,
   "id": "73e21eca-7846-4b16-914c-9d01b00fe7e8",
   "metadata": {},
   "outputs": [
    {
     "name": "stdout",
     "output_type": "stream",
     "text": [
      "good value for moneyREAD MORE\n",
      "This is a detailed review after 7 days. Please read this if you have problem or concern regarding sound/picture/brightness/sd channels/wifi connectivity/miracast. PICTURE: the picture quality is really amazing. Blacks are really deep. Contrast is pretty good too. No complaints there.  BRIGHTNESS: tv is pretty bright, by default dynamic light is on and it will make your screen dull, just turn it off. I've set it to 25. No screen galre problem.SOUND: tv speakers doesn't have much bass, ide...READ MORE\n",
      "I ordered this TV in big billion days ,and received it after 5-6 days ,after using it for 3-4 days I can say that it is best buy product in this range total value for money ,once the product get delivers I got it installed very next day in morning itself .If you are searching for android TV in medium budget range then this product is just excellentREAD MORE\n",
      "I m posting review after checking all it's functionalities and settings in 40inch version. Below are the summary points :* Display : looks decent. 4k and full HD content looks satisfying. casted content dispaly quality is below par (also depends on the content you are casting).bezels are thin and are made of plastic which is loosely attached to the display panel. viewing angles are good covers around 150°* Connectivity: impressive , connects to WiFi, Bluetooth , Chromecast smoothly. observ...READ MORE\n",
      "I love this MI tv good quality with affordable price. it supports 4k video also especially dolby audio is too good suggestions : MI should give the wall hanging stand for free of costREAD MORE\n",
      "MI is just awesome, obviously value for money.connectivity is super and no flaws noticed in TV till now.if anyone is looking for buy a smart TV in reasonable price then just prefer MI 4A. And finally thank you Flipkart 😊READ MORE\n",
      "Good product . Best value for money Android smart tvTimely delivery & proper installation done on schedule date . Thanks to FLIPKART  .READ MORE\n",
      "Mi at its best in technology again 👏🏻READ MORE\n",
      "Got tv before time but facing issues with instalation, got 3 person mobile no of jeeves  consumer pvt limited  but all of them refuse to install my tv saying that.. that his not in his area... talk to coustmer care... but no one taken initiative to solve problems  very bad experienceREAD MORE\n",
      "fantastic one i purchased this TV for only 13049/-..using 1500coins thanks flipkartbut connectivity(mirror cast)is poor from unboxing time.connectivity is very bad fabulous onebuilt quality is not great but picture quality is goodone compare to other like vu and sanyo.....etc.,Sood quality is decent from this price range Jeeves demo person is not good.no knowledge  about this smart tv at the time of demo.READ MORE\n"
     ]
    },
    {
     "ename": "AttributeError",
     "evalue": "'NoneType' object has no attribute 'div'",
     "output_type": "error",
     "traceback": [
      "\u001b[0;31m---------------------------------------------------------------------------\u001b[0m",
      "\u001b[0;31mAttributeError\u001b[0m                            Traceback (most recent call last)",
      "Cell \u001b[0;32mIn[60], line 2\u001b[0m\n\u001b[1;32m      1\u001b[0m \u001b[38;5;28;01mfor\u001b[39;00m i \u001b[38;5;129;01min\u001b[39;00m comment_box:\n\u001b[0;32m----> 2\u001b[0m     \u001b[38;5;28mprint\u001b[39m(\u001b[43mi\u001b[49m\u001b[38;5;241;43m.\u001b[39;49m\u001b[43mdiv\u001b[49m\u001b[38;5;241;43m.\u001b[39;49m\u001b[43mdiv\u001b[49m\u001b[38;5;241m.\u001b[39mfind_all(\u001b[38;5;124m\"\u001b[39m\u001b[38;5;124mdiv\u001b[39m\u001b[38;5;124m\"\u001b[39m, {\u001b[38;5;124m\"\u001b[39m\u001b[38;5;124mclass\u001b[39m\u001b[38;5;124m\"\u001b[39m:\u001b[38;5;124m\"\u001b[39m\u001b[38;5;124mt-ZTKy\u001b[39m\u001b[38;5;124m\"\u001b[39m})[\u001b[38;5;241m0\u001b[39m]\u001b[38;5;241m.\u001b[39mtext)\n",
      "\u001b[0;31mAttributeError\u001b[0m: 'NoneType' object has no attribute 'div'"
     ]
    }
   ],
   "source": [
    "for i in comment_box:\n",
    "    print(i.div.div.find_all(\"div\", {\"class\":\"t-ZTKy\"})[0].text)"
   ]
  },
  {
   "cell_type": "code",
   "execution_count": 67,
   "id": "e5c5c0d8-52aa-459b-98c9-41a17e1d65b3",
   "metadata": {},
   "outputs": [
    {
     "data": {
      "text/plain": [
       "'4'"
      ]
     },
     "execution_count": 67,
     "metadata": {},
     "output_type": "execute_result"
    }
   ],
   "source": [
    "comment_box[0].div.find_all(\"div\",{\"class\":\"_3LWZlK _1BLPMq\"})[0].text"
   ]
  },
  {
   "cell_type": "code",
   "execution_count": 68,
   "id": "776c9254-89de-490b-a629-80b39e895c12",
   "metadata": {},
   "outputs": [
    {
     "name": "stdout",
     "output_type": "stream",
     "text": [
      "4\n",
      "5\n",
      "4\n",
      "4\n",
      "4\n",
      "5\n",
      "5\n",
      "5\n"
     ]
    },
    {
     "ename": "IndexError",
     "evalue": "list index out of range",
     "output_type": "error",
     "traceback": [
      "\u001b[0;31m---------------------------------------------------------------------------\u001b[0m",
      "\u001b[0;31mIndexError\u001b[0m                                Traceback (most recent call last)",
      "Cell \u001b[0;32mIn[68], line 2\u001b[0m\n\u001b[1;32m      1\u001b[0m \u001b[38;5;28;01mfor\u001b[39;00m i \u001b[38;5;129;01min\u001b[39;00m comment_box:\n\u001b[0;32m----> 2\u001b[0m     \u001b[38;5;28mprint\u001b[39m(\u001b[43mi\u001b[49m\u001b[38;5;241;43m.\u001b[39;49m\u001b[43mdiv\u001b[49m\u001b[38;5;241;43m.\u001b[39;49m\u001b[43mfind_all\u001b[49m\u001b[43m(\u001b[49m\u001b[38;5;124;43m\"\u001b[39;49m\u001b[38;5;124;43mdiv\u001b[39;49m\u001b[38;5;124;43m\"\u001b[39;49m\u001b[43m,\u001b[49m\u001b[43m{\u001b[49m\u001b[38;5;124;43m\"\u001b[39;49m\u001b[38;5;124;43mclass\u001b[39;49m\u001b[38;5;124;43m\"\u001b[39;49m\u001b[43m:\u001b[49m\u001b[38;5;124;43m\"\u001b[39;49m\u001b[38;5;124;43m_3LWZlK _1BLPMq\u001b[39;49m\u001b[38;5;124;43m\"\u001b[39;49m\u001b[43m}\u001b[49m\u001b[43m)\u001b[49m\u001b[43m[\u001b[49m\u001b[38;5;241;43m0\u001b[39;49m\u001b[43m]\u001b[49m\u001b[38;5;241m.\u001b[39mtext)\n",
      "\u001b[0;31mIndexError\u001b[0m: list index out of range"
     ]
    }
   ],
   "source": [
    "for i in comment_box:\n",
    "    print(i.div.find_all(\"div\",{\"class\":\"_3LWZlK _1BLPMq\"})[0].text)"
   ]
  },
  {
   "cell_type": "code",
   "execution_count": 78,
   "id": "7a387fd6-5cbf-4e6e-ad7d-7d2a42ade791",
   "metadata": {},
   "outputs": [
    {
     "data": {
      "text/plain": [
       "'Iqbal  Sakali'"
      ]
     },
     "execution_count": 78,
     "metadata": {},
     "output_type": "execute_result"
    }
   ],
   "source": [
    "comment_box[0].div.find_all(\"p\", {\"class\":\"_2sc7ZR _2V5EHH\"})[0].text"
   ]
  },
  {
   "cell_type": "code",
   "execution_count": 79,
   "id": "4fcc36f4-03d1-4aa9-a3f7-2ed9da2208e3",
   "metadata": {},
   "outputs": [
    {
     "name": "stdout",
     "output_type": "stream",
     "text": [
      "Iqbal  Sakali\n",
      "nishant yadav\n",
      "Pratik Singh\n",
      "Deepak Rai\n",
      "Flipkart Customer\n",
      "SANTHOSH PILLALAMARRI\n",
      "RAJESH HEGDE\n",
      "Sudhir Yadav\n",
      "Mukesh  Mishra\n",
      "Pravic k s\n"
     ]
    },
    {
     "ename": "AttributeError",
     "evalue": "'NoneType' object has no attribute 'find_all'",
     "output_type": "error",
     "traceback": [
      "\u001b[0;31m---------------------------------------------------------------------------\u001b[0m",
      "\u001b[0;31mAttributeError\u001b[0m                            Traceback (most recent call last)",
      "Cell \u001b[0;32mIn[79], line 2\u001b[0m\n\u001b[1;32m      1\u001b[0m \u001b[38;5;28;01mfor\u001b[39;00m i \u001b[38;5;129;01min\u001b[39;00m comment_box:\n\u001b[0;32m----> 2\u001b[0m     \u001b[38;5;28mprint\u001b[39m(\u001b[43mi\u001b[49m\u001b[38;5;241;43m.\u001b[39;49m\u001b[43mdiv\u001b[49m\u001b[38;5;241;43m.\u001b[39;49m\u001b[43mfind_all\u001b[49m(\u001b[38;5;124m\"\u001b[39m\u001b[38;5;124mp\u001b[39m\u001b[38;5;124m\"\u001b[39m, {\u001b[38;5;124m\"\u001b[39m\u001b[38;5;124mclass\u001b[39m\u001b[38;5;124m\"\u001b[39m:\u001b[38;5;124m\"\u001b[39m\u001b[38;5;124m_2sc7ZR _2V5EHH\u001b[39m\u001b[38;5;124m\"\u001b[39m})[\u001b[38;5;241m0\u001b[39m]\u001b[38;5;241m.\u001b[39mtext)\n",
      "\u001b[0;31mAttributeError\u001b[0m: 'NoneType' object has no attribute 'find_all'"
     ]
    }
   ],
   "source": [
    "for i in comment_box:\n",
    "    print(i.div.find_all(\"p\", {\"class\":\"_2sc7ZR _2V5EHH\"})[0].text)"
   ]
  },
  {
   "cell_type": "code",
   "execution_count": 90,
   "id": "72d1da12-01b4-4452-b8af-3bc925a73608",
   "metadata": {},
   "outputs": [],
   "source": [
    "comment_box[0].div.div.find_all(\"div\", {\"class\":\"_2nMSwX _3oLIki\"})[0].img"
   ]
  },
  {
   "cell_type": "code",
   "execution_count": null,
   "id": "50eb6379-51e4-4ba2-9fda-a9a80405e5ac",
   "metadata": {},
   "outputs": [],
   "source": []
  }
 ],
 "metadata": {
  "kernelspec": {
   "display_name": "Python 3 (ipykernel)",
   "language": "python",
   "name": "python3"
  },
  "language_info": {
   "codemirror_mode": {
    "name": "ipython",
    "version": 3
   },
   "file_extension": ".py",
   "mimetype": "text/x-python",
   "name": "python",
   "nbconvert_exporter": "python",
   "pygments_lexer": "ipython3",
   "version": "3.10.8"
  }
 },
 "nbformat": 4,
 "nbformat_minor": 5
}
