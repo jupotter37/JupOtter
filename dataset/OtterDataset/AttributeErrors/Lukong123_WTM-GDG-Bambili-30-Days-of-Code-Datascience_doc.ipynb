{
 "cells": [
  {
   "cell_type": "code",
   "execution_count": 15,
   "metadata": {},
   "outputs": [
    {
     "name": "stdout",
     "output_type": "stream",
     "text": [
      "[ 91.25  54.25  83.25 100.    70.25 100.    93.25  31.25]\n"
     ]
    }
   ],
   "source": [
    "import numpy as np\n",
    "\n",
    "CURVE_CENTER = 80\n",
    "\n",
    "grades  = np.array([72, 35, 64, 88, 51, 90, 74, 12])\n",
    "def curve(grades):\n",
    "    average = grades.mean()\n",
    "    change = CURVE_CENTER -average\n",
    "    new_grades = grades + change\n",
    "    return np.clip(new_grades, grades, 100)\n",
    "print(curve(grades))"
   ]
  },
  {
   "cell_type": "code",
   "execution_count": 16,
   "metadata": {},
   "outputs": [
    {
     "name": "stdout",
     "output_type": "stream",
     "text": [
      "(12,)\n",
      "(2, 2, 3)\n",
      "[[[29.3 42.1 18.8]\n",
      "  [16.1 38.  12.5]]\n",
      "\n",
      " [[12.6 49.9 38.6]\n",
      "  [31.3  9.2 22.2]]]\n",
      "[[[29.3 16.1]\n",
      "  [42.1 38. ]\n",
      "  [18.8 12.5]]\n",
      "\n",
      " [[12.6 31.3]\n",
      "  [49.9  9.2]\n",
      "  [38.6 22.2]]]\n"
     ]
    }
   ],
   "source": [
    "temperatures = np.array([\n",
    "   29.3, 42.1, 18.8, 16.1, 38.0, 12.5,\n",
    "  12.6, 49.9, 38.6, 31.3, 9.2, 22.2\n",
    " ])\n",
    "print(temperatures.shape)\n",
    "\n",
    "temperatures = temperatures.reshape(2,2,3)\n",
    "print(temperatures.shape)\n",
    "print(temperatures)\n",
    "\n",
    "print(np.swapaxes(temperatures,1,2))"
   ]
  },
  {
   "cell_type": "code",
   "execution_count": 17,
   "metadata": {},
   "outputs": [
    {
     "name": "stdout",
     "output_type": "stream",
     "text": [
      "9\n",
      "[5 6 7 9]\n",
      "[7 9 1 4]\n"
     ]
    }
   ],
   "source": [
    "table = np.array([\n",
    "    [5, 3, 7, 1],\n",
    "    [2, 6, 7 ,9],\n",
    "    [1, 1, 1, 1],\n",
    "    [4, 3, 2, 0],\n",
    "])\n",
    "\n",
    "print(table.max())\n",
    "print(table.max(axis=0))\n",
    "print(table.max(axis=1))\n",
    "# I don't understand the concept of axis in numpy as of now\n"
   ]
  },
  {
   "cell_type": "code",
   "execution_count": 18,
   "metadata": {},
   "outputs": [
    {
     "ename": "AttributeError",
     "evalue": "module 'numpy' has no attribute 'arrange'",
     "output_type": "error",
     "traceback": [
      "\u001b[0;31m---------------------------------------------------------------------------\u001b[0m",
      "\u001b[0;31mAttributeError\u001b[0m                            Traceback (most recent call last)",
      "\u001b[1;32m/home/anne/Documents/Projects/WTM-GDG-Bambili-30-Days-of-Code-Datascience/Day23/numpy-tutorial/doc.ipynb Cell 4\u001b[0m in \u001b[0;36m<cell line: 1>\u001b[0;34m()\u001b[0m\n\u001b[0;32m----> <a href='vscode-notebook-cell:/home/anne/Documents/Projects/WTM-GDG-Bambili-30-Days-of-Code-Datascience/Day23/numpy-tutorial/doc.ipynb#W3sZmlsZQ%3D%3D?line=0'>1</a>\u001b[0m A \u001b[39m=\u001b[39m np\u001b[39m.\u001b[39;49marrange(\u001b[39m32\u001b[39m)\u001b[39m.\u001b[39mreshape(\u001b[39m4\u001b[39m,\u001b[39m1\u001b[39m,\u001b[39m8\u001b[39m)\n\u001b[1;32m      <a href='vscode-notebook-cell:/home/anne/Documents/Projects/WTM-GDG-Bambili-30-Days-of-Code-Datascience/Day23/numpy-tutorial/doc.ipynb#W3sZmlsZQ%3D%3D?line=1'>2</a>\u001b[0m \u001b[39mprint\u001b[39m(A)\n\u001b[1;32m      <a href='vscode-notebook-cell:/home/anne/Documents/Projects/WTM-GDG-Bambili-30-Days-of-Code-Datascience/Day23/numpy-tutorial/doc.ipynb#W3sZmlsZQ%3D%3D?line=3'>4</a>\u001b[0m B \u001b[39m=\u001b[39m np\u001b[39m.\u001b[39marrange(\u001b[39m48\u001b[39m)\u001b[39m.\u001b[39mreshape(\u001b[39m1\u001b[39m,\u001b[39m6\u001b[39m,\u001b[39m8\u001b[39m)\n",
      "File \u001b[0;32m~/.local/lib/python3.8/site-packages/numpy/__init__.py:315\u001b[0m, in \u001b[0;36m__getattr__\u001b[0;34m(attr)\u001b[0m\n\u001b[1;32m    312\u001b[0m     \u001b[39mfrom\u001b[39;00m \u001b[39m.\u001b[39;00m\u001b[39mtesting\u001b[39;00m \u001b[39mimport\u001b[39;00m Tester\n\u001b[1;32m    313\u001b[0m     \u001b[39mreturn\u001b[39;00m Tester\n\u001b[0;32m--> 315\u001b[0m \u001b[39mraise\u001b[39;00m \u001b[39mAttributeError\u001b[39;00m(\u001b[39m\"\u001b[39m\u001b[39mmodule \u001b[39m\u001b[39m{!r}\u001b[39;00m\u001b[39m has no attribute \u001b[39m\u001b[39m\"\u001b[39m\n\u001b[1;32m    316\u001b[0m                      \u001b[39m\"\u001b[39m\u001b[39m{!r}\u001b[39;00m\u001b[39m\"\u001b[39m\u001b[39m.\u001b[39mformat(\u001b[39m__name__\u001b[39m, attr))\n",
      "\u001b[0;31mAttributeError\u001b[0m: module 'numpy' has no attribute 'arrange'"
     ]
    }
   ],
   "source": [
    "A = np.arrange(32).reshape(4,1,8)\n",
    "print(A)\n",
    "\n",
    "B = np.arrange(48).reshape(1,6,8)\n"
   ]
  },
  {
   "cell_type": "code",
   "execution_count": null,
   "metadata": {},
   "outputs": [],
   "source": [
    "# indexing\n",
    "\n",
    "square = np.array([\n",
    "    [16, 3, 2, 13],\n",
    "    [5, 10, 11, 8],\n",
    "    [9, 6, 7, 12],\n",
    "    [4, 15, 14, 1]\n",
    " ])\n",
    "\n",
    "for i in range(4):\n",
    "    assert square[:, i].sum() == 34\n",
    "    assert square[i, :].sum() == 34\n",
    "\n",
    "assert square[:2, :2].sum() == 34\n",
    "assert square[2:, :2].sum() == 34\n",
    "\n",
    "assert square[:2, 2:].sum() == 34\n",
    "\n",
    "assert square[2:, 2:].sum() == 34\n",
    "\n",
    "    "
   ]
  },
  {
   "cell_type": "code",
   "execution_count": null,
   "metadata": {},
   "outputs": [
    {
     "name": "stdout",
     "output_type": "stream",
     "text": [
      "[[ 5  6  8 10 12 14]\n",
      " [16 18 20 22 24 26]\n",
      " [28 30 32 34 36 38]\n",
      " [40 42 44 46 48 50]]\n",
      "[[False False  True False  True False]\n",
      " [ True False  True False  True False]\n",
      " [ True False  True False  True False]\n",
      " [ True False  True False  True False]]\n",
      "[ 8 12 16 20 24 28 32 36 40 44 48]\n",
      "[ 8 12 16 20 24 28 32 36 40 44 48]\n"
     ]
    }
   ],
   "source": [
    "# masking and filtering\n",
    "\n",
    "numbers = np.linspace(5,50,24,dtype=int).reshape(4, -1)\n",
    "\n",
    "print(numbers)\n",
    "\n",
    "mask = numbers % 4 == 0\n",
    "\n",
    "print(mask)\n",
    "\n",
    "print(numbers[mask])\n",
    "\n",
    "by_four = numbers[numbers%4 == 0]\n",
    "print(by_four)"
   ]
  },
  {
   "cell_type": "code",
   "execution_count": null,
   "metadata": {},
   "outputs": [],
   "source": [
    "from numpy.random import default_rng\n",
    "\n",
    "rng = default_rng()\n",
    "\n",
    "values = rng.standard_normal(10000)\n",
    "values[:5]\n",
    "\n",
    "std = values.std()\n",
    "\n",
    "print(std)\n",
    "\n",
    "filtered = values[(values > -2 * std) & (values < 2 * std)]\n",
    "print(filtered.size)\n",
    "\n",
    "print(values.size)\n",
    "\n",
    "filtered.size / values.size"
   ]
  },
  {
   "cell_type": "code",
   "execution_count": null,
   "metadata": {},
   "outputs": [],
   "source": [
    "# transposing an array\n",
    "a = np.array([[1, 2],[3, 4],[5, 6],])\n",
    "print(a.T) # or a.transpose()\n",
    " "
   ]
  },
  {
   "cell_type": "code",
   "execution_count": null,
   "metadata": {},
   "outputs": [],
   "source": [
    "# sorting\n",
    "data = np.array([[7, 1, 4],[8, 6, 5],[1, 2, 3]])\n",
    "\n",
    "print(np.sort(data))\n",
    "\n",
    "print(np.sort(data, axis=None))\n",
    "\n",
    "print(np.sort(data, axis=0))"
   ]
  },
  {
   "cell_type": "code",
   "execution_count": null,
   "metadata": {},
   "outputs": [
    {
     "name": "stdout",
     "output_type": "stream",
     "text": [
      "[[4 8 3 5]\n",
      " [6 1 7 2]]\n",
      "[[4 8]\n",
      " [6 1]\n",
      " [3 5]\n",
      " [7 2]]\n",
      "[4 8 6 1 3 5 7 2]\n"
     ]
    }
   ],
   "source": [
    "# concatenate\n",
    "a = np.array([[4, 8],[6, 1]])\n",
    "b = np.array([[3, 5],[7, 2]])\n",
    "\n",
    "hp = np.hstack((a,b))\n",
    "print(hp)\n",
    "\n",
    "hp = np.vstack((b,a))\n",
    "\n",
    "print(np.concatenate((a, b)))\n",
    "\n",
    "print(np.concatenate((a, b), axis=None))"
   ]
  },
  {
   "cell_type": "code",
   "execution_count": null,
   "metadata": {},
   "outputs": [
    {
     "name": "stdout",
     "output_type": "stream",
     "text": [
      "Actual 20.085536923187664\n",
      "N (terms)\tMaclaurin\tError\n",
      "1\t\t1.000\t\t19.086\n",
      "2\t\t4.000\t\t16.086\n",
      "3\t\t8.500\t\t11.586\n",
      "4\t\t13.000\t\t7.086\n",
      "5\t\t16.375\t\t3.711\n",
      "6\t\t18.400\t\t1.686\n",
      "7\t\t19.412\t\t0.673\n",
      "8\t\t19.846\t\t0.239\n",
      "9\t\t20.009\t\t0.076\n",
      "10\t\t20.063\t\t0.022\n",
      "11\t\t20.080\t\t0.006\n",
      "12\t\t20.084\t\t0.001\n",
      "13\t\t20.085\t\t0.000\n"
     ]
    }
   ],
   "source": [
    "# Practical Example\n",
    "# Maclaurin Series\n",
    "\n",
    "\n",
    "from math import e, factorial\n",
    "import numpy as np\n",
    "\n",
    "fac = np.vectorize(factorial)\n",
    "\n",
    "def e_x(x, terms=10):\n",
    "    \"\"\"Approximates e^x using a given number of terms of the Maclaurin series\"\"\"\n",
    "\n",
    "    n = np.arange(terms)\n",
    "    return np.sum((x ** n)/ fac(n))\n",
    "\n",
    "if __name__ == \"__main__\":\n",
    "    print(\"Actual\", e **3)\n",
    "    print(\"N (terms)\\tMaclaurin\\tError\")\n",
    "\n",
    "    for n in range(1, 14):\n",
    "        maclaurin = e_x(3, terms=n)\n",
    "        print(f\"{n}\\t\\t{maclaurin:.03f}\\t\\t{e**3 - maclaurin:.03f}\")"
   ]
  },
  {
   "cell_type": "code",
   "execution_count": null,
   "metadata": {},
   "outputs": [
    {
     "name": "stdout",
     "output_type": "stream",
     "text": [
      "[1.  3.  5.5 7.7 9.2]\n"
     ]
    }
   ],
   "source": [
    "# storage\n",
    "a = np.array([1, 3, 5.5, 7.7, 9.2], dtype=np.single)\n",
    "print(a)\n"
   ]
  },
  {
   "cell_type": "code",
   "execution_count": null,
   "metadata": {},
   "outputs": [
    {
     "name": "stdout",
     "output_type": "stream",
     "text": [
      "('joe', 32, 6)\n",
      "['joe' 'mary' 'felipe' 'choice']\n",
      "['choice']\n",
      "['joe' 'felipe' 'choice']\n"
     ]
    }
   ],
   "source": [
    "# structured array\n",
    "\n",
    "data = np.array([\n",
    "    (\"joe\", 32, 6),\n",
    "    (\"mary\", 15, 20),\n",
    "    (\"felipe\", 80, 100),\n",
    "    (\"choice\", 38, 9001),\n",
    "], dtype= [(\"name\", str, 10), (\"age\", int), (\"power\", int)])\n",
    "\n",
    "print(data[0])\n",
    "\n",
    "print(data[\"name\"])\n",
    "\n",
    "print(data[data[\"power\"] > 9000][\"name\"])\n",
    "\n",
    "print(np.sort(data[data[\"age\"] > 20], order=\"power\")[\"name\"])"
   ]
  },
  {
   "cell_type": "code",
   "execution_count": null,
   "metadata": {},
   "outputs": [
    {
     "name": "stdout",
     "output_type": "stream",
     "text": [
      "<class 'numpy.ndarray'>\n",
      "(1299, 1920, 3)\n"
     ]
    }
   ],
   "source": [
    "import matplotlib.image as mpimg\n",
    "\n",
    "img = mpimg.imread(\"kitty.jpg\")\n",
    "print(type(img))\n",
    "print(img.shape) # image of height 1299 width 1920, color scale 3(RGB)\n",
    "\n",
    "## changing color\n",
    "\n",
    "# output = img.copy()\n",
    "# output[:, :, :2] = 0\n",
    "# mpimg.imsave(\"blue.jpg\", output) # blue color\n",
    "\n",
    "# gray color\n",
    "# averages = img.mean(axis=2)\n",
    "# mpimg.imsave(\"bad-gray.jpg\", averages, cmap=\"gray\")\n",
    "\n",
    "# better gray\n",
    "weights = np.array([0.3, 0.59, 0.11])\n",
    "grayscale = img @ weights\n",
    "mpimg.imsave(\"good-gray.jpg\", grayscale, cmap=\"gray\")"
   ]
  }
 ],
 "metadata": {
  "kernelspec": {
   "display_name": "Python 3.8.10 64-bit",
   "language": "python",
   "name": "python3"
  },
  "language_info": {
   "codemirror_mode": {
    "name": "ipython",
    "version": 3
   },
   "file_extension": ".py",
   "mimetype": "text/x-python",
   "name": "python",
   "nbconvert_exporter": "python",
   "pygments_lexer": "ipython3",
   "version": "3.8.10"
  },
  "orig_nbformat": 4,
  "vscode": {
   "interpreter": {
    "hash": "916dbcbb3f70747c44a77c7bcd40155683ae19c65e1c03b4aa3499c5328201f1"
   }
  }
 },
 "nbformat": 4,
 "nbformat_minor": 2
}
