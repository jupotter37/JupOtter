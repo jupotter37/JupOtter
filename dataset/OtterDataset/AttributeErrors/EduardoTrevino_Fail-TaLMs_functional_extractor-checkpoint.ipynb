{
 "cells": [
  {
   "cell_type": "code",
   "execution_count": 4,
   "metadata": {},
   "outputs": [
    {
     "name": "stderr",
     "output_type": "stream",
     "text": [
      "test_compress_image_get_method_invalid_url (api_test.TestRemushAPI) ... ok\n",
      "test_compress_image_get_method_success (api_test.TestRemushAPI) ... ok\n",
      "test_compress_image_post_method_file_not_found (api_test.TestRemushAPI) ... ERROR\n",
      "test_compress_image_post_method_success (api_test.TestRemushAPI) ... ERROR\n",
      "\n",
      "======================================================================\n",
      "ERROR: test_compress_image_post_method_file_not_found (api_test.TestRemushAPI)\n",
      "----------------------------------------------------------------------\n",
      "Traceback (most recent call last):\n",
      "  File \"/home/trevea/Projects/ToolsForTheJobBenchmark/generation/Art/remush/api_test.py\", line 29, in test_compress_image_post_method_file_not_found\n",
      "    response = compress_image_post_method(file_path)\n",
      "  File \"/home/trevea/Projects/ToolsForTheJobBenchmark/generation/Art/remush/api.py\", line 35, in compress_image_post_method\n",
      "    mime_type = mimetypes.guess_type(file_path)[0] or mime_type\n",
      "AttributeError: module 'requests.utils' has no attribute 'guess_mime_type'\n",
      "\n",
      "======================================================================\n",
      "ERROR: test_compress_image_post_method_success (api_test.TestRemushAPI)\n",
      "----------------------------------------------------------------------\n",
      "Traceback (most recent call last):\n",
      "  File \"/home/trevea/Projects/ToolsForTheJobBenchmark/generation/Art/remush/api_test.py\", line 22, in test_compress_image_post_method_success\n",
      "    response = compress_image_post_method(file_path)\n",
      "  File \"/home/trevea/Projects/ToolsForTheJobBenchmark/generation/Art/remush/api.py\", line 35, in compress_image_post_method\n",
      "    mime_type = mimetypes.guess_type(file_path)[0] or mime_type\n",
      "AttributeError: module 'requests.utils' has no attribute 'guess_mime_type'\n",
      "\n",
      "----------------------------------------------------------------------\n",
      "Ran 4 tests in 1.594s\n",
      "\n",
      "FAILED (errors=2)\n"
     ]
    }
   ],
   "source": [
    "import unittest\n",
    "\n",
    "# Discover and run the tests\n",
    "loader = unittest.TestLoader()\n",
    "suite = loader.discover(start_dir='.', pattern='api_test.py')\n",
    "\n",
    "runner = unittest.TextTestRunner(verbosity=2)\n",
    "result = runner.run(suite)\n",
    "\n"
   ]
  }
 ],
 "metadata": {
  "kernelspec": {
   "display_name": "toolbench",
   "language": "python",
   "name": "toolbench"
  },
  "language_info": {
   "codemirror_mode": {
    "name": "ipython",
    "version": 3
   },
   "file_extension": ".py",
   "mimetype": "text/x-python",
   "name": "python",
   "nbconvert_exporter": "python",
   "pygments_lexer": "ipython3",
   "version": "3.10.14"
  }
 },
 "nbformat": 4,
 "nbformat_minor": 2
}
