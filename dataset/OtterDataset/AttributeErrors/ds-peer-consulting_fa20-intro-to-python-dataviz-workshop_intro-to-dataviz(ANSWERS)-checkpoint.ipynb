{
 "cells": [
  {
   "cell_type": "code",
   "execution_count": 1,
   "metadata": {
    "colab": {},
    "colab_type": "code",
    "id": "4BSAs9O6kBHL"
   },
   "outputs": [],
   "source": [
    "from IPython.display import Image\n",
    "from IPython.core.display import HTML \n",
    "import numpy as np"
   ]
  },
  {
   "cell_type": "markdown",
   "metadata": {
    "colab_type": "text",
    "id": "DWbp70nPcVY0"
   },
   "source": [
    "# **Welcome to the Kresge Library's Introduction to Data Visualization**\n",
    "### **By Vincent Lao and Daniel del Carpio**\n",
    "##### In Collaboration with the Division of Data Science's [Data Peer Consulting](https://data.berkeley.edu/ds-peer-consulting)"
   ]
  },
  {
   "cell_type": "markdown",
   "metadata": {},
   "source": [
    "# Vincent Lao \n",
    "![Vincent](https://data.berkeley.edu/sites/default/files/styles/width_400/public/general/vincent-headshot-2_-_vincent_lao_1_0.jpg?itok=98MmRkiK&timestamp=1599233937)\n",
    "\n",
    "Quick Facts About Me:\n",
    "\n",
    "    🐻 Senior at Cal\n",
    "    🎒 Studying Data Science and Statistics\n",
    "    👨🏼‍🏫 Past Tutor for Data100, Current Reader for Stat151a\n",
    "    🏢 Previously interned with the U.S. Naval Research Laboratory & researched at Osaka Univeristy\n",
    "    📊 Joined the Data Peer Consulting team in Fall 2019\n",
    "\n",
    "How to Reach/Stalk Me:\n",
    "\n",
    "    📮 Email: vincent.lao@berkeley.edu"
   ]
  },
  {
   "cell_type": "markdown",
   "metadata": {},
   "source": [
    "# Daniel del Carpio\n",
    "![Daniel](https://data.berkeley.edu/sites/default/files/styles/width_400/public/londan_-_daniel_del_carpio.jpg?itok=C_c1wasR&timestamp=1599260100)\n",
    "Quick Facts About Me:\n",
    "\n",
    "    🐻 Senior at Cal\n",
    "    🎒 Studying Data Science with an Emphasis on Organizations and The Economy \n",
    "    👨🏼‍🏫 First time teaching! \n",
    "    🏢 Previously worked for EducationSuperHighway, a non-profit aimed at connecting all public school to high speed internet. \n",
    "    📊 Joined the Data Peer Consulting team in Fall 2019\n",
    "\n",
    "How to Reach/Stalk Me:\n",
    "\n",
    "    📮 Email: ddelcarpio@berkeley.edu\n",
    "    👨🏼‍💻 Github: @ddelcarpio"
   ]
  },
  {
   "cell_type": "markdown",
   "metadata": {},
   "source": [
    "## Summary of Last Workshop "
   ]
  },
  {
   "cell_type": "markdown",
   "metadata": {
    "colab_type": "text",
    "id": "qiVIlE3ecVZE"
   },
   "source": [
    "# What is Numpy?"
   ]
  },
  {
   "cell_type": "markdown",
   "metadata": {
    "colab_type": "text",
    "id": "QH8gd9GqxOIx"
   },
   "source": [
    "![Python Logo](images/python-logo.png)\n",
    "\n",
    "From [Python's Official Site](https://www.python.org/doc/essays/blurb/):\n",
    "\n",
    "\n",
    "> Python is an **interpreted**, **object-oriented**, **high-level programming language** with dynamic semantics. Its high-level built in data structures, combined with **dynamic typing** and **dynamic binding**, make it very attractive for **Rapid Application Development**, as well as for use as a **scripting** or glue language to connect existing components together. Python's simple, **easy to learn syntax** emphasizes **readability** and therefore reduces the cost of program maintenance. Python supports **modules** and **packages**, which encourages program modularity and code reuse. The Python interpreter and the extensive standard library are available in source or binary form without charge for all major platforms, and can be freely distributed. \n",
    "\n",
    "In layman terms, Python is:\n",
    "- A Programming Language\n",
    "- Easy to read\n",
    "- Easy to learn\n",
    "- Easy to use with other pre-existing programs\n",
    "- Quick to adapt to any use-cases\n",
    "- Open-Source\n",
    "\n",
    "Modules, packages, and libraries are collections of re-usable code used to improve the interoperability of code and the effiency of programmers.\n",
    "\n",
    "Examples:\n",
    "- [Pandas](https://pandas.pydata.org/) - Today's package of choice for data analysis\n",
    "- [Numpy](https://numpy.org/) - Scientific Computing\n",
    "- [Biopython](https://biopython.org/) - Biological Computation\n",
    "- [Astropy](https://www.astropy.org/index.html) - Astronomy\n",
    "- [Nilearn](http://nilearn.github.io/) - Neuroimaging\n",
    "- [SageMath](https://www.sagemath.org/) - Collection of Math Packages (Elementary, Algebra, Calculus, Number Theory, etc)\n"
   ]
  },
  {
   "cell_type": "markdown",
   "metadata": {},
   "source": [
    "### Reference Sheets for today!\n",
    "Links updated as of 9/29/20  \n",
    "- [NumPy Cheat Sheet](https://s3.amazonaws.com/assets.datacamp.com/blog_assets/Numpy_Python_Cheat_Sheet.pdf)  \n",
    "- [Pandas Cheat Sheet](https://pandas.pydata.org/Pandas_Cheat_Sheet.pdf)  \n",
    "- [Matplotlib Cheat Sheet](https://s3.amazonaws.com/assets.datacamp.com/blog_assets/Python_Matplotlib_Cheat_Sheet.pdf)  \n",
    "- [Seaborn Cheat Sheet](https://s3.amazonaws.com/assets.datacamp.com/blog_assets/Python_Seaborn_Cheat_Sheet.pdf)"
   ]
  },
  {
   "cell_type": "markdown",
   "metadata": {},
   "source": [
    "![NumPy+Pandas Logo](images/numpypandas-logo.png)"
   ]
  },
  {
   "cell_type": "markdown",
   "metadata": {
    "colab_type": "text",
    "id": "CRclVvBWcVZV"
   },
   "source": [
    "# NumPy Fundamentals\n",
    "NumPy stands for \"Numerical Python\". What this means is that Numpy is a package used for fast, efficient numerical calculations in Python. Numpy uses what we will call ***Numpy Arrays***, which are very similar to Python lists, but have a couple of key differences that we will take a look at.  \n",
    "\n",
    "To use the Numpy package (or any other package), we must always import it into whatever text editor (program used for coding, e.g. Jupyter Notebook) that we are using."
   ]
  },
  {
   "cell_type": "code",
   "execution_count": 2,
   "metadata": {},
   "outputs": [],
   "source": [
    "# the conventional NumPy import statement\n",
    "import numpy as np"
   ]
  },
  {
   "cell_type": "markdown",
   "metadata": {},
   "source": [
    "We can now use the NumPy package with the shorthand `np`! We access various functions inside this package with `np.function(*arguments)`, where function() is the function you would like to use.\n",
    "\n",
    "[Jump to Key Difference 3](#kd3)  \n",
    "[Jump to Numpy Functions](#npfuncs)"
   ]
  },
  {
   "cell_type": "code",
   "execution_count": 3,
   "metadata": {},
   "outputs": [
    {
     "data": {
      "text/plain": [
       "array([0, 1, 2, 3, 4, 5, 6, 7, 8, 9])"
      ]
     },
     "execution_count": 3,
     "metadata": {},
     "output_type": "execute_result"
    }
   ],
   "source": [
    "np.arange(10)"
   ]
  },
  {
   "cell_type": "markdown",
   "metadata": {},
   "source": [
    "Without further ado, let's talk about the differences between NumPy arrays and Python lists!  \n",
    "\n",
    "---\n",
    "\n",
    "**Key Difference 1:** They have different data types."
   ]
  },
  {
   "cell_type": "code",
   "execution_count": 4,
   "metadata": {},
   "outputs": [
    {
     "data": {
      "text/plain": [
       "list"
      ]
     },
     "execution_count": 4,
     "metadata": {},
     "output_type": "execute_result"
    }
   ],
   "source": [
    "# Python list\n",
    "# The notation to create one is using square brackets. You can create an empty one like so:\n",
    "list1 = []\n",
    "type(list1)"
   ]
  },
  {
   "cell_type": "code",
   "execution_count": 5,
   "metadata": {},
   "outputs": [
    {
     "data": {
      "text/plain": [
       "numpy.ndarray"
      ]
     },
     "execution_count": 5,
     "metadata": {},
     "output_type": "execute_result"
    }
   ],
   "source": [
    "# Numpy array\n",
    "# Notice that by passing a Python list into the np.array() function as an argument, it turns it into a NumPy array!\n",
    "array1 = np.array([])\n",
    "type(array1)"
   ]
  },
  {
   "cell_type": "markdown",
   "metadata": {},
   "source": [
    "**Key Difference 2:** Python lists can contain any kind of data type, and keeps them the way they are. However, NumPy objects can only contain data of the same type."
   ]
  },
  {
   "cell_type": "code",
   "execution_count": 6,
   "metadata": {},
   "outputs": [
    {
     "data": {
      "text/plain": [
       "['any', 123, 'kind', 456, 'of', 0.26973684210526316, 'data', True, 'type']"
      ]
     },
     "execution_count": 6,
     "metadata": {},
     "output_type": "execute_result"
    }
   ],
   "source": [
    "list2 = ['any', 123, 'kind', 456, 'of', 123/456, 'data', True, 'type']\n",
    "list2"
   ]
  },
  {
   "cell_type": "code",
   "execution_count": 7,
   "metadata": {},
   "outputs": [
    {
     "data": {
      "text/plain": [
       "array(['any', '123', 'kind', '456', 'of', '0.26973684210526316', 'data',\n",
       "       'True', 'type'], dtype='<U19')"
      ]
     },
     "execution_count": 7,
     "metadata": {},
     "output_type": "execute_result"
    }
   ],
   "source": [
    "array2 = np.array(list2)\n",
    "array2"
   ]
  },
  {
   "cell_type": "code",
   "execution_count": 8,
   "metadata": {},
   "outputs": [
    {
     "data": {
      "text/plain": [
       "('123', 123)"
      ]
     },
     "execution_count": 8,
     "metadata": {},
     "output_type": "execute_result"
    }
   ],
   "source": [
    "array2[1], list2[1]"
   ]
  },
  {
   "cell_type": "code",
   "execution_count": 9,
   "metadata": {},
   "outputs": [
    {
     "data": {
      "text/plain": [
       "(numpy.str_, int)"
      ]
     },
     "execution_count": 9,
     "metadata": {},
     "output_type": "execute_result"
    }
   ],
   "source": [
    "type(array2[1]), type(list2[1])"
   ]
  },
  {
   "cell_type": "markdown",
   "metadata": {},
   "source": [
    "How does NumPy determine which data type to turn everything into then? \n",
    "\n",
    "Out of the primitive* data types, there's a \"data type hierarchy\" so to speak. NumPy will turn all the entries into the most complex data type that it finds in the array. The hierarchy is as follows, from least complex to most complex:\n",
    "- **Boolean < Integer < Float < String**\n",
    "\n",
    "\\**primitive data types: boolean - true/false, integer, float - decimal numbers, string - letters*"
   ]
  },
  {
   "cell_type": "code",
   "execution_count": 10,
   "metadata": {},
   "outputs": [
    {
     "data": {
      "text/plain": [
       "(array([1. , 0. , 1. , 2. , 3. , 1.1, 2.2, 3.3]), array([1, 0, 1, 2, 3]))"
      ]
     },
     "execution_count": 10,
     "metadata": {},
     "output_type": "execute_result"
    }
   ],
   "source": [
    "# some more examples\n",
    "np.array([True, False, 1, 2, 3, 1.1, 2.2, 3.3]), np.array([True, False, 1, 2, 3])"
   ]
  },
  {
   "cell_type": "markdown",
   "metadata": {},
   "source": [
    "- True values turn into 1\n",
    "- False values turn into 0\n",
    "- Integers get a decimal point\n",
    "- Floats turn into strings, indicated by the quotation marks around them"
   ]
  },
  {
   "cell_type": "markdown",
   "metadata": {},
   "source": [
    "**Key Difference 3 [Very Important] :** Numerical operations with Python lists has different behavior than adding NumPy arrays.  <a class=\"anchor\" id=\"kd3\"></a>"
   ]
  },
  {
   "cell_type": "code",
   "execution_count": 11,
   "metadata": {
    "scrolled": true
   },
   "outputs": [
    {
     "data": {
      "text/plain": [
       "[1, 2, 3, 1, 2, 3]"
      ]
     },
     "execution_count": 11,
     "metadata": {},
     "output_type": "execute_result"
    }
   ],
   "source": [
    "list3 = [1, 2, 3]\n",
    "list4 = [1, 2, 3]\n",
    "list3 + list4"
   ]
  },
  {
   "cell_type": "code",
   "execution_count": 12,
   "metadata": {},
   "outputs": [
    {
     "ename": "TypeError",
     "evalue": "unsupported operand type(s) for -: 'list' and 'list'",
     "output_type": "error",
     "traceback": [
      "\u001b[1;31m---------------------------------------------------------------------------\u001b[0m",
      "\u001b[1;31mTypeError\u001b[0m                                 Traceback (most recent call last)",
      "\u001b[1;32m<ipython-input-12-cf018c9e2a89>\u001b[0m in \u001b[0;36m<module>\u001b[1;34m\u001b[0m\n\u001b[1;32m----> 1\u001b[1;33m \u001b[0mlist3\u001b[0m \u001b[1;33m-\u001b[0m \u001b[0mlist4\u001b[0m \u001b[1;31m# error is expected\u001b[0m\u001b[1;33m\u001b[0m\u001b[1;33m\u001b[0m\u001b[0m\n\u001b[0m",
      "\u001b[1;31mTypeError\u001b[0m: unsupported operand type(s) for -: 'list' and 'list'"
     ]
    }
   ],
   "source": [
    "list3 - list4 # error is expected"
   ]
  },
  {
   "cell_type": "code",
   "execution_count": 13,
   "metadata": {},
   "outputs": [
    {
     "ename": "TypeError",
     "evalue": "can't multiply sequence by non-int of type 'list'",
     "output_type": "error",
     "traceback": [
      "\u001b[1;31m---------------------------------------------------------------------------\u001b[0m",
      "\u001b[1;31mTypeError\u001b[0m                                 Traceback (most recent call last)",
      "\u001b[1;32m<ipython-input-13-57efab2eec5f>\u001b[0m in \u001b[0;36m<module>\u001b[1;34m\u001b[0m\n\u001b[1;32m----> 1\u001b[1;33m \u001b[0mlist3\u001b[0m \u001b[1;33m*\u001b[0m \u001b[0mlist4\u001b[0m \u001b[1;31m# error is expected\u001b[0m\u001b[1;33m\u001b[0m\u001b[1;33m\u001b[0m\u001b[0m\n\u001b[0m",
      "\u001b[1;31mTypeError\u001b[0m: can't multiply sequence by non-int of type 'list'"
     ]
    }
   ],
   "source": [
    "list3 * list4 # error is expected"
   ]
  },
  {
   "cell_type": "code",
   "execution_count": 14,
   "metadata": {
    "scrolled": false
   },
   "outputs": [
    {
     "ename": "TypeError",
     "evalue": "unsupported operand type(s) for /: 'list' and 'list'",
     "output_type": "error",
     "traceback": [
      "\u001b[1;31m---------------------------------------------------------------------------\u001b[0m",
      "\u001b[1;31mTypeError\u001b[0m                                 Traceback (most recent call last)",
      "\u001b[1;32m<ipython-input-14-ed29049bd009>\u001b[0m in \u001b[0;36m<module>\u001b[1;34m\u001b[0m\n\u001b[1;32m----> 1\u001b[1;33m \u001b[0mlist3\u001b[0m \u001b[1;33m/\u001b[0m \u001b[0mlist4\u001b[0m \u001b[1;31m# error is expected\u001b[0m\u001b[1;33m\u001b[0m\u001b[1;33m\u001b[0m\u001b[0m\n\u001b[0m",
      "\u001b[1;31mTypeError\u001b[0m: unsupported operand type(s) for /: 'list' and 'list'"
     ]
    }
   ],
   "source": [
    "list3 / list4 # error is expected"
   ]
  },
  {
   "cell_type": "code",
   "execution_count": 15,
   "metadata": {},
   "outputs": [
    {
     "data": {
      "text/plain": [
       "[1, 2, 3, 4]"
      ]
     },
     "execution_count": 15,
     "metadata": {},
     "output_type": "execute_result"
    }
   ],
   "source": [
    "# note: we are not reassigning this value to list3, so the result we see printed out under this cell is not permanent\n",
    "list3 + [4] "
   ]
  },
  {
   "cell_type": "code",
   "execution_count": 16,
   "metadata": {},
   "outputs": [
    {
     "data": {
      "text/plain": [
       "['test', '1', '2', '3', 'test', '4', '5', '6']"
      ]
     },
     "execution_count": 16,
     "metadata": {},
     "output_type": "execute_result"
    }
   ],
   "source": [
    "# What if we put strings inside the Python lists?\n",
    "string_list1 = ['test', '1', '2', '3']\n",
    "string_list2 = ['test', '4', '5', '6']\n",
    "string_list1 + string_list2"
   ]
  },
  {
   "cell_type": "markdown",
   "metadata": {},
   "source": [
    "---\n",
    "\n",
    "Now with Numpy Arrays:"
   ]
  },
  {
   "cell_type": "code",
   "execution_count": 17,
   "metadata": {},
   "outputs": [
    {
     "data": {
      "text/plain": [
       "array([2, 4, 6])"
      ]
     },
     "execution_count": 17,
     "metadata": {},
     "output_type": "execute_result"
    }
   ],
   "source": [
    "array3 = np.array(list3) # Q: What is happening here? A: Think about replacing \"list3\" with the value assigned to it!\n",
    "array4 = np.array(list4)\n",
    "array3 + array4"
   ]
  },
  {
   "cell_type": "code",
   "execution_count": 18,
   "metadata": {},
   "outputs": [
    {
     "data": {
      "text/plain": [
       "array([11, 12, 13])"
      ]
     },
     "execution_count": 18,
     "metadata": {},
     "output_type": "execute_result"
    }
   ],
   "source": [
    "array3 + 10 # automatically performs element-wise arithmetic: [1+10, 2+10, 3+10]"
   ]
  },
  {
   "cell_type": "code",
   "execution_count": 19,
   "metadata": {},
   "outputs": [
    {
     "data": {
      "text/plain": [
       "array([10, 20, 30])"
      ]
     },
     "execution_count": 19,
     "metadata": {},
     "output_type": "execute_result"
    }
   ],
   "source": [
    "array3 * 10 # [1*10, 2*10, 3*10]"
   ]
  },
  {
   "cell_type": "code",
   "execution_count": 20,
   "metadata": {},
   "outputs": [
    {
     "data": {
      "text/plain": [
       "array([0, 0, 0])"
      ]
     },
     "execution_count": 20,
     "metadata": {},
     "output_type": "execute_result"
    }
   ],
   "source": [
    "array3 - array4"
   ]
  },
  {
   "cell_type": "code",
   "execution_count": 21,
   "metadata": {},
   "outputs": [
    {
     "data": {
      "text/plain": [
       "array([1, 4, 9])"
      ]
     },
     "execution_count": 21,
     "metadata": {},
     "output_type": "execute_result"
    }
   ],
   "source": [
    "array3 * array4"
   ]
  },
  {
   "cell_type": "code",
   "execution_count": 22,
   "metadata": {},
   "outputs": [
    {
     "data": {
      "text/plain": [
       "array([1., 1., 1.])"
      ]
     },
     "execution_count": 22,
     "metadata": {},
     "output_type": "execute_result"
    }
   ],
   "source": [
    "array3 / array4 # notice it automatically converts things to floats when we divide!"
   ]
  },
  {
   "cell_type": "code",
   "execution_count": 23,
   "metadata": {},
   "outputs": [
    {
     "data": {
      "text/plain": [
       "array([ 1,  4, 27], dtype=int32)"
      ]
     },
     "execution_count": 23,
     "metadata": {},
     "output_type": "execute_result"
    }
   ],
   "source": [
    "array3 ** array4 # ** denotes exponents, which also works for NumPy!"
   ]
  },
  {
   "cell_type": "code",
   "execution_count": 24,
   "metadata": {},
   "outputs": [
    {
     "ename": "TypeError",
     "evalue": "ufunc 'add' did not contain a loop with signature matching types dtype('<U4') dtype('<U4') dtype('<U4')",
     "output_type": "error",
     "traceback": [
      "\u001b[1;31m---------------------------------------------------------------------------\u001b[0m",
      "\u001b[1;31mTypeError\u001b[0m                                 Traceback (most recent call last)",
      "\u001b[1;32m<ipython-input-24-1c864bce445b>\u001b[0m in \u001b[0;36m<module>\u001b[1;34m\u001b[0m\n\u001b[0;32m      2\u001b[0m \u001b[0mstring_array1\u001b[0m \u001b[1;33m=\u001b[0m \u001b[0mnp\u001b[0m\u001b[1;33m.\u001b[0m\u001b[0marray\u001b[0m\u001b[1;33m(\u001b[0m\u001b[1;33m[\u001b[0m\u001b[1;34m'test'\u001b[0m\u001b[1;33m,\u001b[0m \u001b[1;34m'1'\u001b[0m\u001b[1;33m,\u001b[0m \u001b[1;34m'2'\u001b[0m\u001b[1;33m,\u001b[0m \u001b[1;34m'3'\u001b[0m\u001b[1;33m]\u001b[0m\u001b[1;33m)\u001b[0m\u001b[1;33m\u001b[0m\u001b[1;33m\u001b[0m\u001b[0m\n\u001b[0;32m      3\u001b[0m \u001b[0mstring_array2\u001b[0m \u001b[1;33m=\u001b[0m \u001b[0mnp\u001b[0m\u001b[1;33m.\u001b[0m\u001b[0marray\u001b[0m\u001b[1;33m(\u001b[0m\u001b[1;33m[\u001b[0m\u001b[1;34m'test'\u001b[0m\u001b[1;33m,\u001b[0m \u001b[1;34m'4'\u001b[0m\u001b[1;33m,\u001b[0m \u001b[1;34m'5'\u001b[0m\u001b[1;33m,\u001b[0m \u001b[1;34m'6'\u001b[0m\u001b[1;33m]\u001b[0m\u001b[1;33m)\u001b[0m\u001b[1;33m\u001b[0m\u001b[1;33m\u001b[0m\u001b[0m\n\u001b[1;32m----> 4\u001b[1;33m \u001b[0mstring_array1\u001b[0m \u001b[1;33m+\u001b[0m \u001b[0mstring_array2\u001b[0m\u001b[1;33m\u001b[0m\u001b[1;33m\u001b[0m\u001b[0m\n\u001b[0m",
      "\u001b[1;31mTypeError\u001b[0m: ufunc 'add' did not contain a loop with signature matching types dtype('<U4') dtype('<U4') dtype('<U4')"
     ]
    }
   ],
   "source": [
    "# What if we put strings inside the NumPy arrays? [Error expected]\n",
    "string_array1 = np.array(['test', '1', '2', '3'])\n",
    "string_array2 = np.array(['test', '4', '5', '6'])\n",
    "string_array1 + string_array2"
   ]
  },
  {
   "cell_type": "markdown",
   "metadata": {},
   "source": [
    "In short, there are some limitations to both. \n",
    "- Python lists can hold multiple data types at a time, while NumPy arrays can only hold one data type at a time\n",
    "- Adding Python lists *concatenates* them, while adding NumPy arrays performs element-wise addition\n",
    "- Other operations on Python lists don't work, but any numerical operation works element-wise with NumPy arrays\n",
    "\n",
    "---\n",
    "\n",
    "Now, let's learn some very common NumPy array functions besides `np.array()`!"
   ]
  },
  {
   "cell_type": "markdown",
   "metadata": {},
   "source": [
    "### Commonly Used NumPy Functions <a class=\"anchor\" id=\"npfuncs\"></a>\n",
    "Here are the corresponding NumPy documentations for reference:\n",
    "- [np.append](https://numpy.org/doc/stable/reference/generated/numpy.append.html)\n",
    "- [np.arange](https://numpy.org/doc/stable/reference/generated/numpy.arange.html)\n",
    "- [np.linspace](https://numpy.org/doc/stable/reference/generated/numpy.linspace.html)\n",
    "\n",
    "Alternatively, when your typing line is hovering over a function, you can click `shift` + `tab` to open up the same documentation in Jupyter Notebook. Handy!"
   ]
  },
  {
   "cell_type": "markdown",
   "metadata": {},
   "source": [
    "---\n",
    "Since addition doesn't allow us to *concatenate* two NumPy arrays, we have to have another way to do so.\n",
    "`np.append` does exactly that."
   ]
  },
  {
   "cell_type": "code",
   "execution_count": 25,
   "metadata": {},
   "outputs": [
    {
     "data": {
      "text/plain": [
       "(array([1, 2, 3]),\n",
       " array([4, 5, 6]),\n",
       " array(['test', '1', '2', '3'], dtype='<U4'))"
      ]
     },
     "execution_count": 25,
     "metadata": {},
     "output_type": "execute_result"
    }
   ],
   "source": [
    "# re-print the arrays for reference\n",
    "array5 = np.array([4,5,6])\n",
    "array4, array5, string_array1"
   ]
  },
  {
   "cell_type": "code",
   "execution_count": 26,
   "metadata": {},
   "outputs": [
    {
     "data": {
      "text/plain": [
       "array([1, 2, 3, 4, 5, 6])"
      ]
     },
     "execution_count": 26,
     "metadata": {},
     "output_type": "execute_result"
    }
   ],
   "source": [
    "# np.append\n",
    "np.append(array4, array5)"
   ]
  },
  {
   "cell_type": "code",
   "execution_count": 27,
   "metadata": {},
   "outputs": [
    {
     "data": {
      "text/plain": [
       "array(['1', '2', '3', 'test', '1', '2', '3'], dtype='<U11')"
      ]
     },
     "execution_count": 27,
     "metadata": {},
     "output_type": "execute_result"
    }
   ],
   "source": [
    "# The data types still change accordingly after appending\n",
    "np.append(array4, string_array1)"
   ]
  },
  {
   "cell_type": "markdown",
   "metadata": {},
   "source": [
    "---\n",
    "\n",
    "`np.arange` creates a list of numbers based on the arguments you pass in."
   ]
  },
  {
   "cell_type": "code",
   "execution_count": 28,
   "metadata": {},
   "outputs": [
    {
     "data": {
      "text/plain": [
       "array([0, 1, 2, 3, 4])"
      ]
     },
     "execution_count": 28,
     "metadata": {},
     "output_type": "execute_result"
    }
   ],
   "source": [
    "# np.arange(start value, stop value, step size); stop value is not included!\n",
    "# default start is 0, stop value is required (no default), default step size is 1 \n",
    "np.arange(5)"
   ]
  },
  {
   "cell_type": "code",
   "execution_count": 29,
   "metadata": {
    "scrolled": true
   },
   "outputs": [
    {
     "data": {
      "text/plain": [
       "array([0, 1, 2, 3, 4])"
      ]
     },
     "execution_count": 29,
     "metadata": {},
     "output_type": "execute_result"
    }
   ],
   "source": [
    "np.arange(0,5,1)"
   ]
  },
  {
   "cell_type": "code",
   "execution_count": 30,
   "metadata": {},
   "outputs": [
    {
     "data": {
      "text/plain": [
       "array([0, 2, 4])"
      ]
     },
     "execution_count": 30,
     "metadata": {},
     "output_type": "execute_result"
    }
   ],
   "source": [
    "np.arange(0,5,2)"
   ]
  },
  {
   "cell_type": "code",
   "execution_count": 31,
   "metadata": {
    "scrolled": true
   },
   "outputs": [
    {
     "data": {
      "text/plain": [
       "array([2, 4])"
      ]
     },
     "execution_count": 31,
     "metadata": {},
     "output_type": "execute_result"
    }
   ],
   "source": [
    "np.arange(2,6,2) # Before running this, try to predict what it will print out!"
   ]
  },
  {
   "cell_type": "markdown",
   "metadata": {},
   "source": [
    "---\n",
    "\n",
    "`np.linspace` creates a list of `n` values that are perfectly evenly spaced between `start value` and `stop value`, where `n = number of values`.\n",
    "\n",
    "This is very handy for when you need to create visualizations, and you want your tick marks or bins to be perfectly spaced."
   ]
  },
  {
   "cell_type": "code",
   "execution_count": 32,
   "metadata": {},
   "outputs": [
    {
     "data": {
      "text/plain": [
       "array([ 1.,  2.,  3.,  4.,  5.,  6.,  7.,  8.,  9., 10.])"
      ]
     },
     "execution_count": 32,
     "metadata": {},
     "output_type": "execute_result"
    }
   ],
   "source": [
    "# np.linspace(start value, stop value, number of values); the stop value IS included\n",
    "np.linspace(1,10,10)"
   ]
  },
  {
   "cell_type": "code",
   "execution_count": 33,
   "metadata": {},
   "outputs": [
    {
     "data": {
      "text/plain": [
       "array([ 1.   ,  2.125,  3.25 ,  4.375,  5.5  ,  6.625,  7.75 ,  8.875,\n",
       "       10.   ])"
      ]
     },
     "execution_count": 33,
     "metadata": {},
     "output_type": "execute_result"
    }
   ],
   "source": [
    "np.linspace(1,10,9)"
   ]
  },
  {
   "cell_type": "code",
   "execution_count": 34,
   "metadata": {},
   "outputs": [
    {
     "data": {
      "text/plain": [
       "array([ 0.        ,  0.20408163,  0.40816327,  0.6122449 ,  0.81632653,\n",
       "        1.02040816,  1.2244898 ,  1.42857143,  1.63265306,  1.83673469,\n",
       "        2.04081633,  2.24489796,  2.44897959,  2.65306122,  2.85714286,\n",
       "        3.06122449,  3.26530612,  3.46938776,  3.67346939,  3.87755102,\n",
       "        4.08163265,  4.28571429,  4.48979592,  4.69387755,  4.89795918,\n",
       "        5.10204082,  5.30612245,  5.51020408,  5.71428571,  5.91836735,\n",
       "        6.12244898,  6.32653061,  6.53061224,  6.73469388,  6.93877551,\n",
       "        7.14285714,  7.34693878,  7.55102041,  7.75510204,  7.95918367,\n",
       "        8.16326531,  8.36734694,  8.57142857,  8.7755102 ,  8.97959184,\n",
       "        9.18367347,  9.3877551 ,  9.59183673,  9.79591837, 10.        ])"
      ]
     },
     "execution_count": 34,
     "metadata": {},
     "output_type": "execute_result"
    }
   ],
   "source": [
    "# \"number of values\" has a default of 50\n",
    "np.linspace(0, 10)"
   ]
  },
  {
   "cell_type": "markdown",
   "metadata": {},
   "source": [
    "---\n",
    "\n",
    "There are many functions that calculate various descriptive statistics as well. Note that you can pass in either a NumPy array or a Python list, as its argument.\n",
    "\n",
    "- np.min\n",
    "- np.max\n",
    "- np.sum\n",
    "- np.mean\n",
    "- np.median\n",
    "- np.std\n",
    "- np.percentile"
   ]
  },
  {
   "cell_type": "code",
   "execution_count": 35,
   "metadata": {},
   "outputs": [
    {
     "data": {
      "text/plain": [
       "(1, 233, 609)"
      ]
     },
     "execution_count": 35,
     "metadata": {},
     "output_type": "execute_result"
    }
   ],
   "source": [
    "numbers = [1, 1, 2, 3, 5, 8, 13, 21, 34, 55, 89, 144, 233]\n",
    "np.min(numbers), np.max(numbers), np.sum(numbers)"
   ]
  },
  {
   "cell_type": "code",
   "execution_count": 36,
   "metadata": {
    "scrolled": false
   },
   "outputs": [
    {
     "data": {
      "text/plain": [
       "(46.84615384615385, 67.54582052075824, 13.0, 13.0)"
      ]
     },
     "execution_count": 36,
     "metadata": {},
     "output_type": "execute_result"
    }
   ],
   "source": [
    "np.mean(numbers), np.std(numbers), np.median(numbers), np.percentile(numbers, 50) # 50th percentile = median"
   ]
  },
  {
   "cell_type": "markdown",
   "metadata": {},
   "source": [
    "## Pandas Fundamentals \n",
    "<div>\n",
    "<img src=\"images/pandas-logo.jpeg\" width=\"400\" style=\"float:left\"/>\n",
    "</div>"
   ]
  },
  {
   "cell_type": "markdown",
   "metadata": {},
   "source": [
    "We'll just go ahead and continue into Pandas!\n",
    "\n",
    "Pandas stands for \"**Pan**el **Da**ta\" (I know, not as good as NumPy). This is just referring to the tables, or **dataframes**, that Pandas works with. Dataframes are the most common and intuitive way for both humans and computers to organize data.\n",
    "\n",
    "Being able to manipulate those dataframes is crucial for data scientists to be able to clean up their data in a way that is usable for analysis. \n",
    "\n",
    "This is where Pandas comes in.\n",
    "\n",
    "We will talk about two main methods of cleaning our data to get ready for visualization:\n",
    "1. [Filtering](#filtering)\n",
    "2. [Grouping](#grouping)\n",
    "\n",
    "But before learning the more techinical stuff, here's a quick introduction to Pandas."
   ]
  },
  {
   "cell_type": "code",
   "execution_count": 37,
   "metadata": {},
   "outputs": [],
   "source": [
    "# the conventional Pandas import statement\n",
    "import pandas as pd"
   ]
  },
  {
   "cell_type": "markdown",
   "metadata": {},
   "source": [
    "There are 3 main functions for Pandas in the [data science life cycle](https://towardsdatascience.com/data-science-life-cycle-101-for-dummies-like-me-e66b47ad8d8f).\n",
    "\n",
    "1. Reading in data\n",
    "2. Summarizing the data\n",
    "3. Cleaning the data  \n",
    "    a. Stratify by grouping and filtering for certain subsets of the dataframe  \n",
    "    b. Fill in or remove missing data  \n",
    "    c. Combine various dataframes into a single dataframe  "
   ]
  },
  {
   "cell_type": "markdown",
   "metadata": {},
   "source": [
    "For this workshop, we'll focus on the knowledge of Pandas that is helpful for creating great visualizations.\n",
    "\n",
    "First, let's introduce the DataFrame and Series data types.  \n",
    "\n",
    "A DataFrame is like a 2D table of information. Each row is called a **record or observation** because rows typically represent some real life event or object. And each column is called a **feature** because it's an aspect of the real life event or object."
   ]
  },
  {
   "cell_type": "code",
   "execution_count": 38,
   "metadata": {
    "scrolled": true
   },
   "outputs": [
    {
     "data": {
      "text/html": [
       "<div>\n",
       "<style scoped>\n",
       "    .dataframe tbody tr th:only-of-type {\n",
       "        vertical-align: middle;\n",
       "    }\n",
       "\n",
       "    .dataframe tbody tr th {\n",
       "        vertical-align: top;\n",
       "    }\n",
       "\n",
       "    .dataframe thead th {\n",
       "        text-align: right;\n",
       "    }\n",
       "</style>\n",
       "<table border=\"1\" class=\"dataframe\">\n",
       "  <thead>\n",
       "    <tr style=\"text-align: right;\">\n",
       "      <th></th>\n",
       "      <th>Date-Time</th>\n",
       "      <th>Region</th>\n",
       "      <th>Facility</th>\n",
       "      <th>Entrance</th>\n",
       "      <th>Entries</th>\n",
       "      <th>Exits</th>\n",
       "    </tr>\n",
       "  </thead>\n",
       "  <tbody>\n",
       "    <tr>\n",
       "      <th>0</th>\n",
       "      <td>12/11/19 12:00 AM</td>\n",
       "      <td>NaN</td>\n",
       "      <td>NaN</td>\n",
       "      <td>TEST</td>\n",
       "      <td>0.0</td>\n",
       "      <td>0.0</td>\n",
       "    </tr>\n",
       "    <tr>\n",
       "      <th>1</th>\n",
       "      <td>12/11/19 12:00 AM</td>\n",
       "      <td>UC Berkeley</td>\n",
       "      <td>AHC Library</td>\n",
       "      <td>AHC Back</td>\n",
       "      <td>0.0</td>\n",
       "      <td>0.0</td>\n",
       "    </tr>\n",
       "    <tr>\n",
       "      <th>2</th>\n",
       "      <td>12/11/19 12:00 AM</td>\n",
       "      <td>UC Berkeley</td>\n",
       "      <td>AHC Library</td>\n",
       "      <td>AHC Front</td>\n",
       "      <td>0.0</td>\n",
       "      <td>0.0</td>\n",
       "    </tr>\n",
       "    <tr>\n",
       "      <th>3</th>\n",
       "      <td>12/11/19 12:00 AM</td>\n",
       "      <td>UC Berkeley</td>\n",
       "      <td>ANTH Library</td>\n",
       "      <td>ANTH</td>\n",
       "      <td>0.0</td>\n",
       "      <td>0.0</td>\n",
       "    </tr>\n",
       "    <tr>\n",
       "      <th>4</th>\n",
       "      <td>12/11/19 12:00 AM</td>\n",
       "      <td>UC Berkeley</td>\n",
       "      <td>BANC Library</td>\n",
       "      <td>Bancroft</td>\n",
       "      <td>0.0</td>\n",
       "      <td>0.0</td>\n",
       "    </tr>\n",
       "  </tbody>\n",
       "</table>\n",
       "</div>"
      ],
      "text/plain": [
       "           Date-Time       Region      Facility   Entrance  Entries  Exits\n",
       "0  12/11/19 12:00 AM          NaN           NaN       TEST      0.0    0.0\n",
       "1  12/11/19 12:00 AM  UC Berkeley   AHC Library   AHC Back      0.0    0.0\n",
       "2  12/11/19 12:00 AM  UC Berkeley   AHC Library  AHC Front      0.0    0.0\n",
       "3  12/11/19 12:00 AM  UC Berkeley  ANTH Library       ANTH      0.0    0.0\n",
       "4  12/11/19 12:00 AM  UC Berkeley  BANC Library   Bancroft      0.0    0.0"
      ]
     },
     "execution_count": 38,
     "metadata": {},
     "output_type": "execute_result"
    }
   ],
   "source": [
    "# Pandas reads in data and creates a DataFrame object of them\n",
    "lib_traffic = pd.read_csv('data/HourlyTraffic-2019-12-11.csv')\n",
    "\n",
    "# dataframe.head() returns the first 5 rows and all the columns of the dataframe\n",
    "lib_traffic.head()"
   ]
  },
  {
   "cell_type": "markdown",
   "metadata": {},
   "source": [
    "In the case of this dataset, each record represents an event -- the traffic of a specific location at a specific time.  \n",
    "Each column represents a piece of information regarding each record."
   ]
  },
  {
   "cell_type": "code",
   "execution_count": 39,
   "metadata": {},
   "outputs": [
    {
     "data": {
      "text/plain": [
       "pandas.core.frame.DataFrame"
      ]
     },
     "execution_count": 39,
     "metadata": {},
     "output_type": "execute_result"
    }
   ],
   "source": [
    "# a sanity check for the data type of lib_traffic\n",
    "type(lib_traffic)"
   ]
  },
  {
   "cell_type": "markdown",
   "metadata": {},
   "source": [
    "To grab certain parts of the dataframe, we can use slicing notation, similar to how we slice into Python lists or NumPy arrays. For a dataframe inside the variable `df`, we can slice like this:\n",
    "```\n",
    "df['column_name']\n",
    "```\n",
    "and it will give us a **Series**. <a class=\"anchor\" id=\"series\"></a>\n",
    "\n",
    "A **Series** is a special data type that represents the column of a dataframe. A **Series** works very similar to a NumPy because it is *literally* a NumPy array with some extra functions built into it. More information about **Series** is always a Google search away, if you are interested in learning more about those extra functions.\n",
    "\n",
    "[Back to Exercise 1](#ex1)"
   ]
  },
  {
   "cell_type": "code",
   "execution_count": 40,
   "metadata": {},
   "outputs": [
    {
     "data": {
      "text/plain": [
       "0    0.0\n",
       "1    0.0\n",
       "2    0.0\n",
       "3    0.0\n",
       "4    0.0\n",
       "Name: Entries, dtype: float64"
      ]
     },
     "execution_count": 40,
     "metadata": {},
     "output_type": "execute_result"
    }
   ],
   "source": [
    "# grabs the Entries column as a Series from the dataframe\n",
    "lib_traffic['Entries'].head()"
   ]
  },
  {
   "cell_type": "code",
   "execution_count": 41,
   "metadata": {},
   "outputs": [
    {
     "data": {
      "text/plain": [
       "pandas.core.series.Series"
      ]
     },
     "execution_count": 41,
     "metadata": {},
     "output_type": "execute_result"
    }
   ],
   "source": [
    "# a sanity check for the data type of the Entries column\n",
    "type(lib_traffic['Entries'])"
   ]
  },
  {
   "cell_type": "code",
   "execution_count": 42,
   "metadata": {},
   "outputs": [
    {
     "data": {
      "text/plain": [
       "10    182.0\n",
       "11      5.0\n",
       "12      0.0\n",
       "13      0.0\n",
       "14      0.0\n",
       "15      4.0\n",
       "16      3.0\n",
       "17      0.0\n",
       "18      5.0\n",
       "19      2.0\n",
       "Name: Entries, dtype: float64"
      ]
     },
     "execution_count": 42,
     "metadata": {},
     "output_type": "execute_result"
    }
   ],
   "source": [
    "# Series behaving like a NumPy array\n",
    "lib_traffic['Entries'][10:20]"
   ]
  },
  {
   "cell_type": "code",
   "execution_count": 43,
   "metadata": {},
   "outputs": [
    {
     "data": {
      "text/plain": [
       "10    364.0\n",
       "11     10.0\n",
       "12      0.0\n",
       "13      0.0\n",
       "14      0.0\n",
       "15      8.0\n",
       "16      6.0\n",
       "17      0.0\n",
       "18     10.0\n",
       "19      4.0\n",
       "Name: Entries, dtype: float64"
      ]
     },
     "execution_count": 43,
     "metadata": {},
     "output_type": "execute_result"
    }
   ],
   "source": [
    "lib_traffic['Entries'][10:20] * 2"
   ]
  },
  {
   "cell_type": "markdown",
   "metadata": {},
   "source": [
    "## Filtering with Pandas <a class=\"anchor\" id=\"filtering\"></a>\n",
    "By filtering, we can remove data that we are uninterested in. Here are two main ideas we can use filtering for:\n",
    "- keep data that fall within a range of values to narrow our scope for visualization\n",
    "- remove faulty data or outliers that skew the perception of our visualizations\n",
    "\n",
    "As we introduced in our last workshop, the most common format to filter data is as follows:\n",
    "```\n",
    "table_name[table_name[column] == value] # Only keep rows with this value in the selected column\n",
    "table_name[table_name[column] != value] # Only keep rows WITHOUT this value in the selected column\n",
    "table_name[table_name[column] > value] # Only keep rows with greater values in the selected column\n",
    "```\n",
    "\n",
    "[Jump to Exercise 3](#ex3)"
   ]
  },
  {
   "cell_type": "markdown",
   "metadata": {},
   "source": [
    "For instance, given our library traffic dataset, let's say that we want the data that only pertains to Doe Library. First, let's look at the different facilities to see how to spell \"Doe Library\" exactly. This is important, because without the *exact* same spelling and capitaliation, Python will not recognize what you want, and will error or return the incorrect data."
   ]
  },
  {
   "cell_type": "code",
   "execution_count": 44,
   "metadata": {},
   "outputs": [
    {
     "data": {
      "text/plain": [
       "array([nan, 'AHC Library', 'ANTH Library', 'BANC Library', 'BIOS Library',\n",
       "       'CHEM Library', 'DOE Library', 'DOE STACKS', 'EAL Library',\n",
       "       'EART Library', 'ENGI Library', 'ENVI Library', 'GRDS Library',\n",
       "       'HAAS Library', 'MATH Library', 'MOFF Library', 'MORR Library',\n",
       "       'MUSI', 'NEWS Library', 'OPTO Library', 'PHYS Library',\n",
       "       'SEAL Library', 'SOCR Library'], dtype=object)"
      ]
     },
     "execution_count": 44,
     "metadata": {},
     "output_type": "execute_result"
    }
   ],
   "source": [
    "# one of the special functions that Series have is the `unique` function that gives all the unique values of a Series \n",
    "lib_traffic['Facility'].unique()"
   ]
  },
  {
   "cell_type": "code",
   "execution_count": 45,
   "metadata": {},
   "outputs": [
    {
     "data": {
      "text/html": [
       "<div>\n",
       "<style scoped>\n",
       "    .dataframe tbody tr th:only-of-type {\n",
       "        vertical-align: middle;\n",
       "    }\n",
       "\n",
       "    .dataframe tbody tr th {\n",
       "        vertical-align: top;\n",
       "    }\n",
       "\n",
       "    .dataframe thead th {\n",
       "        text-align: right;\n",
       "    }\n",
       "</style>\n",
       "<table border=\"1\" class=\"dataframe\">\n",
       "  <thead>\n",
       "    <tr style=\"text-align: right;\">\n",
       "      <th></th>\n",
       "      <th>Date-Time</th>\n",
       "      <th>Region</th>\n",
       "      <th>Facility</th>\n",
       "      <th>Entrance</th>\n",
       "      <th>Entries</th>\n",
       "      <th>Exits</th>\n",
       "    </tr>\n",
       "  </thead>\n",
       "  <tbody>\n",
       "  </tbody>\n",
       "</table>\n",
       "</div>"
      ],
      "text/plain": [
       "Empty DataFrame\n",
       "Columns: [Date-Time, Region, Facility, Entrance, Entries, Exits]\n",
       "Index: []"
      ]
     },
     "execution_count": 45,
     "metadata": {},
     "output_type": "execute_result"
    }
   ],
   "source": [
    "# Notice that this returns an empty dataframe. Why? Because looking at the strings above, the `Doe` should be capitalized.\n",
    "lib_traffic[lib_traffic['Facility'] == \"Doe Library\"]"
   ]
  },
  {
   "cell_type": "code",
   "execution_count": 46,
   "metadata": {
    "scrolled": true
   },
   "outputs": [
    {
     "data": {
      "text/html": [
       "<div>\n",
       "<style scoped>\n",
       "    .dataframe tbody tr th:only-of-type {\n",
       "        vertical-align: middle;\n",
       "    }\n",
       "\n",
       "    .dataframe tbody tr th {\n",
       "        vertical-align: top;\n",
       "    }\n",
       "\n",
       "    .dataframe thead th {\n",
       "        text-align: right;\n",
       "    }\n",
       "</style>\n",
       "<table border=\"1\" class=\"dataframe\">\n",
       "  <thead>\n",
       "    <tr style=\"text-align: right;\">\n",
       "      <th></th>\n",
       "      <th>Date-Time</th>\n",
       "      <th>Region</th>\n",
       "      <th>Facility</th>\n",
       "      <th>Entrance</th>\n",
       "      <th>Entries</th>\n",
       "      <th>Exits</th>\n",
       "    </tr>\n",
       "  </thead>\n",
       "  <tbody>\n",
       "    <tr>\n",
       "      <th>8</th>\n",
       "      <td>12/11/19 12:00 AM</td>\n",
       "      <td>UC Berkeley</td>\n",
       "      <td>DOE Library</td>\n",
       "      <td>Doe North</td>\n",
       "      <td>1.0</td>\n",
       "      <td>1.0</td>\n",
       "    </tr>\n",
       "    <tr>\n",
       "      <th>9</th>\n",
       "      <td>12/11/19 12:00 AM</td>\n",
       "      <td>UC Berkeley</td>\n",
       "      <td>DOE Library</td>\n",
       "      <td>Doe South</td>\n",
       "      <td>3.0</td>\n",
       "      <td>2.0</td>\n",
       "    </tr>\n",
       "    <tr>\n",
       "      <th>39</th>\n",
       "      <td>12/11/19 1:00 AM</td>\n",
       "      <td>UC Berkeley</td>\n",
       "      <td>DOE Library</td>\n",
       "      <td>Doe North</td>\n",
       "      <td>0.0</td>\n",
       "      <td>0.0</td>\n",
       "    </tr>\n",
       "    <tr>\n",
       "      <th>40</th>\n",
       "      <td>12/11/19 1:00 AM</td>\n",
       "      <td>UC Berkeley</td>\n",
       "      <td>DOE Library</td>\n",
       "      <td>Doe South</td>\n",
       "      <td>3.0</td>\n",
       "      <td>3.0</td>\n",
       "    </tr>\n",
       "    <tr>\n",
       "      <th>70</th>\n",
       "      <td>12/11/19 2:00 AM</td>\n",
       "      <td>UC Berkeley</td>\n",
       "      <td>DOE Library</td>\n",
       "      <td>Doe North</td>\n",
       "      <td>0.0</td>\n",
       "      <td>0.0</td>\n",
       "    </tr>\n",
       "  </tbody>\n",
       "</table>\n",
       "</div>"
      ],
      "text/plain": [
       "            Date-Time       Region     Facility   Entrance  Entries  Exits\n",
       "8   12/11/19 12:00 AM  UC Berkeley  DOE Library  Doe North      1.0    1.0\n",
       "9   12/11/19 12:00 AM  UC Berkeley  DOE Library  Doe South      3.0    2.0\n",
       "39   12/11/19 1:00 AM  UC Berkeley  DOE Library  Doe North      0.0    0.0\n",
       "40   12/11/19 1:00 AM  UC Berkeley  DOE Library  Doe South      3.0    3.0\n",
       "70   12/11/19 2:00 AM  UC Berkeley  DOE Library  Doe North      0.0    0.0"
      ]
     },
     "execution_count": 46,
     "metadata": {},
     "output_type": "execute_result"
    }
   ],
   "source": [
    "# again, but with proper capitalization\n",
    "doe = lib_traffic[lib_traffic['Facility'] == \"DOE Library\"]\n",
    "doe.head()"
   ]
  },
  {
   "cell_type": "markdown",
   "metadata": {},
   "source": [
    "After we narrowed our data down to Doe Library, we can see that there are two different entrances to Doe, and that there is an entry for each hour of 12/11/19. Then, there should be 24 * 2 different entries."
   ]
  },
  {
   "cell_type": "code",
   "execution_count": 47,
   "metadata": {},
   "outputs": [
    {
     "data": {
      "text/plain": [
       "(48, 6)"
      ]
     },
     "execution_count": 47,
     "metadata": {},
     "output_type": "execute_result"
    }
   ],
   "source": [
    "# sanity check for table size; `.shape` gives us the shape of the dataframe in the format (rows, column)\n",
    "doe.shape"
   ]
  },
  {
   "cell_type": "markdown",
   "metadata": {},
   "source": [
    "Here's a couple of other examples of things we can do with filtering."
   ]
  },
  {
   "cell_type": "code",
   "execution_count": 48,
   "metadata": {
    "scrolled": true
   },
   "outputs": [
    {
     "data": {
      "text/html": [
       "<div>\n",
       "<style scoped>\n",
       "    .dataframe tbody tr th:only-of-type {\n",
       "        vertical-align: middle;\n",
       "    }\n",
       "\n",
       "    .dataframe tbody tr th {\n",
       "        vertical-align: top;\n",
       "    }\n",
       "\n",
       "    .dataframe thead th {\n",
       "        text-align: right;\n",
       "    }\n",
       "</style>\n",
       "<table border=\"1\" class=\"dataframe\">\n",
       "  <thead>\n",
       "    <tr style=\"text-align: right;\">\n",
       "      <th></th>\n",
       "      <th>Date-Time</th>\n",
       "      <th>Region</th>\n",
       "      <th>Facility</th>\n",
       "      <th>Entrance</th>\n",
       "      <th>Entries</th>\n",
       "      <th>Exits</th>\n",
       "    </tr>\n",
       "  </thead>\n",
       "  <tbody>\n",
       "    <tr>\n",
       "      <th>424</th>\n",
       "      <td>12/11/19 1:00 PM</td>\n",
       "      <td>UC Berkeley</td>\n",
       "      <td>MOFF Library</td>\n",
       "      <td>Moffit Entry</td>\n",
       "      <td>319.0</td>\n",
       "      <td>6.0</td>\n",
       "    </tr>\n",
       "    <tr>\n",
       "      <th>455</th>\n",
       "      <td>12/11/19 2:00 PM</td>\n",
       "      <td>UC Berkeley</td>\n",
       "      <td>MOFF Library</td>\n",
       "      <td>Moffit Entry</td>\n",
       "      <td>388.0</td>\n",
       "      <td>13.0</td>\n",
       "    </tr>\n",
       "    <tr>\n",
       "      <th>486</th>\n",
       "      <td>12/11/19 3:00 PM</td>\n",
       "      <td>UC Berkeley</td>\n",
       "      <td>MOFF Library</td>\n",
       "      <td>Moffit Entry</td>\n",
       "      <td>405.0</td>\n",
       "      <td>9.0</td>\n",
       "    </tr>\n",
       "  </tbody>\n",
       "</table>\n",
       "</div>"
      ],
      "text/plain": [
       "            Date-Time       Region      Facility      Entrance  Entries  Exits\n",
       "424  12/11/19 1:00 PM  UC Berkeley  MOFF Library  Moffit Entry    319.0    6.0\n",
       "455  12/11/19 2:00 PM  UC Berkeley  MOFF Library  Moffit Entry    388.0   13.0\n",
       "486  12/11/19 3:00 PM  UC Berkeley  MOFF Library  Moffit Entry    405.0    9.0"
      ]
     },
     "execution_count": 48,
     "metadata": {},
     "output_type": "execute_result"
    }
   ],
   "source": [
    "lib_traffic[lib_traffic['Entries'] > 300]"
   ]
  },
  {
   "cell_type": "code",
   "execution_count": 49,
   "metadata": {},
   "outputs": [
    {
     "data": {
      "text/html": [
       "<div>\n",
       "<style scoped>\n",
       "    .dataframe tbody tr th:only-of-type {\n",
       "        vertical-align: middle;\n",
       "    }\n",
       "\n",
       "    .dataframe tbody tr th {\n",
       "        vertical-align: top;\n",
       "    }\n",
       "\n",
       "    .dataframe thead th {\n",
       "        text-align: right;\n",
       "    }\n",
       "</style>\n",
       "<table border=\"1\" class=\"dataframe\">\n",
       "  <thead>\n",
       "    <tr style=\"text-align: right;\">\n",
       "      <th></th>\n",
       "      <th>Date-Time</th>\n",
       "      <th>Region</th>\n",
       "      <th>Facility</th>\n",
       "      <th>Entrance</th>\n",
       "      <th>Entries</th>\n",
       "      <th>Exits</th>\n",
       "    </tr>\n",
       "  </thead>\n",
       "  <tbody>\n",
       "    <tr>\n",
       "      <th>1</th>\n",
       "      <td>12/11/19 12:00 AM</td>\n",
       "      <td>UC Berkeley</td>\n",
       "      <td>AHC Library</td>\n",
       "      <td>AHC Back</td>\n",
       "      <td>0.0</td>\n",
       "      <td>0.0</td>\n",
       "    </tr>\n",
       "    <tr>\n",
       "      <th>2</th>\n",
       "      <td>12/11/19 12:00 AM</td>\n",
       "      <td>UC Berkeley</td>\n",
       "      <td>AHC Library</td>\n",
       "      <td>AHC Front</td>\n",
       "      <td>0.0</td>\n",
       "      <td>0.0</td>\n",
       "    </tr>\n",
       "    <tr>\n",
       "      <th>3</th>\n",
       "      <td>12/11/19 12:00 AM</td>\n",
       "      <td>UC Berkeley</td>\n",
       "      <td>ANTH Library</td>\n",
       "      <td>ANTH</td>\n",
       "      <td>0.0</td>\n",
       "      <td>0.0</td>\n",
       "    </tr>\n",
       "    <tr>\n",
       "      <th>4</th>\n",
       "      <td>12/11/19 12:00 AM</td>\n",
       "      <td>UC Berkeley</td>\n",
       "      <td>BANC Library</td>\n",
       "      <td>Bancroft</td>\n",
       "      <td>0.0</td>\n",
       "      <td>0.0</td>\n",
       "    </tr>\n",
       "    <tr>\n",
       "      <th>5</th>\n",
       "      <td>12/11/19 12:00 AM</td>\n",
       "      <td>UC Berkeley</td>\n",
       "      <td>BIOS Library</td>\n",
       "      <td>VLSB1</td>\n",
       "      <td>0.0</td>\n",
       "      <td>0.0</td>\n",
       "    </tr>\n",
       "  </tbody>\n",
       "</table>\n",
       "</div>"
      ],
      "text/plain": [
       "           Date-Time       Region      Facility   Entrance  Entries  Exits\n",
       "1  12/11/19 12:00 AM  UC Berkeley   AHC Library   AHC Back      0.0    0.0\n",
       "2  12/11/19 12:00 AM  UC Berkeley   AHC Library  AHC Front      0.0    0.0\n",
       "3  12/11/19 12:00 AM  UC Berkeley  ANTH Library       ANTH      0.0    0.0\n",
       "4  12/11/19 12:00 AM  UC Berkeley  BANC Library   Bancroft      0.0    0.0\n",
       "5  12/11/19 12:00 AM  UC Berkeley  BIOS Library      VLSB1      0.0    0.0"
      ]
     },
     "execution_count": 49,
     "metadata": {},
     "output_type": "execute_result"
    }
   ],
   "source": [
    "lib_traffic[lib_traffic['Region'] == \"UC Berkeley\"].head()"
   ]
  },
  {
   "cell_type": "code",
   "execution_count": 50,
   "metadata": {},
   "outputs": [
    {
     "data": {
      "text/html": [
       "<div>\n",
       "<style scoped>\n",
       "    .dataframe tbody tr th:only-of-type {\n",
       "        vertical-align: middle;\n",
       "    }\n",
       "\n",
       "    .dataframe tbody tr th {\n",
       "        vertical-align: top;\n",
       "    }\n",
       "\n",
       "    .dataframe thead th {\n",
       "        text-align: right;\n",
       "    }\n",
       "</style>\n",
       "<table border=\"1\" class=\"dataframe\">\n",
       "  <thead>\n",
       "    <tr style=\"text-align: right;\">\n",
       "      <th></th>\n",
       "      <th>Date-Time</th>\n",
       "      <th>Region</th>\n",
       "      <th>Facility</th>\n",
       "      <th>Entrance</th>\n",
       "      <th>Entries</th>\n",
       "      <th>Exits</th>\n",
       "    </tr>\n",
       "  </thead>\n",
       "  <tbody>\n",
       "    <tr>\n",
       "      <th>0</th>\n",
       "      <td>12/11/19 12:00 AM</td>\n",
       "      <td>NaN</td>\n",
       "      <td>NaN</td>\n",
       "      <td>TEST</td>\n",
       "      <td>0.0</td>\n",
       "      <td>0.0</td>\n",
       "    </tr>\n",
       "    <tr>\n",
       "      <th>31</th>\n",
       "      <td>12/11/19 1:00 AM</td>\n",
       "      <td>NaN</td>\n",
       "      <td>NaN</td>\n",
       "      <td>TEST</td>\n",
       "      <td>0.0</td>\n",
       "      <td>0.0</td>\n",
       "    </tr>\n",
       "    <tr>\n",
       "      <th>62</th>\n",
       "      <td>12/11/19 2:00 AM</td>\n",
       "      <td>NaN</td>\n",
       "      <td>NaN</td>\n",
       "      <td>TEST</td>\n",
       "      <td>0.0</td>\n",
       "      <td>0.0</td>\n",
       "    </tr>\n",
       "    <tr>\n",
       "      <th>93</th>\n",
       "      <td>12/11/19 3:00 AM</td>\n",
       "      <td>NaN</td>\n",
       "      <td>NaN</td>\n",
       "      <td>TEST</td>\n",
       "      <td>0.0</td>\n",
       "      <td>0.0</td>\n",
       "    </tr>\n",
       "    <tr>\n",
       "      <th>124</th>\n",
       "      <td>12/11/19 4:00 AM</td>\n",
       "      <td>NaN</td>\n",
       "      <td>NaN</td>\n",
       "      <td>TEST</td>\n",
       "      <td>0.0</td>\n",
       "      <td>0.0</td>\n",
       "    </tr>\n",
       "  </tbody>\n",
       "</table>\n",
       "</div>"
      ],
      "text/plain": [
       "             Date-Time Region Facility Entrance  Entries  Exits\n",
       "0    12/11/19 12:00 AM    NaN      NaN     TEST      0.0    0.0\n",
       "31    12/11/19 1:00 AM    NaN      NaN     TEST      0.0    0.0\n",
       "62    12/11/19 2:00 AM    NaN      NaN     TEST      0.0    0.0\n",
       "93    12/11/19 3:00 AM    NaN      NaN     TEST      0.0    0.0\n",
       "124   12/11/19 4:00 AM    NaN      NaN     TEST      0.0    0.0"
      ]
     },
     "execution_count": 50,
     "metadata": {},
     "output_type": "execute_result"
    }
   ],
   "source": [
    "lib_traffic[lib_traffic['Region'] != \"UC Berkeley\"].head()"
   ]
  },
  {
   "cell_type": "markdown",
   "metadata": {},
   "source": [
    "You may be wondering, what does the `NaN` mean? `NaN` is a common thing you will see with **missing/faulty data**. We won't talk about what to do with this, or how to take care of it, but just know that it is something to think about when working with a dataset.\n",
    "\n",
    "---\n",
    "\n",
    "You can also filter by multiple conditions by putting each condition in parentheses, and combining them with an ampersand (&). You can separate this into multiple lines, or just put it all together in the same line. For the sake of readibility, we put it in separate lines in this format example:\n",
    "```\n",
    "condition1 = table_name[column1] == value1\n",
    "condition1 = table_name[column2] >= value2\n",
    "table_name[(condition1) & (condition2)] # Only keep rows with both conditions satisfied\n",
    "```"
   ]
  },
  {
   "cell_type": "code",
   "execution_count": 51,
   "metadata": {
    "scrolled": true
   },
   "outputs": [
    {
     "data": {
      "text/html": [
       "<div>\n",
       "<style scoped>\n",
       "    .dataframe tbody tr th:only-of-type {\n",
       "        vertical-align: middle;\n",
       "    }\n",
       "\n",
       "    .dataframe tbody tr th {\n",
       "        vertical-align: top;\n",
       "    }\n",
       "\n",
       "    .dataframe thead th {\n",
       "        text-align: right;\n",
       "    }\n",
       "</style>\n",
       "<table border=\"1\" class=\"dataframe\">\n",
       "  <thead>\n",
       "    <tr style=\"text-align: right;\">\n",
       "      <th></th>\n",
       "      <th>Date-Time</th>\n",
       "      <th>Region</th>\n",
       "      <th>Facility</th>\n",
       "      <th>Entrance</th>\n",
       "      <th>Entries</th>\n",
       "      <th>Exits</th>\n",
       "    </tr>\n",
       "  </thead>\n",
       "  <tbody>\n",
       "    <tr>\n",
       "      <th>457</th>\n",
       "      <td>12/11/19 2:00 PM</td>\n",
       "      <td>UC Berkeley</td>\n",
       "      <td>MOFF Library</td>\n",
       "      <td>Moffitt 4th</td>\n",
       "      <td>266.0</td>\n",
       "      <td>201.0</td>\n",
       "    </tr>\n",
       "    <tr>\n",
       "      <th>480</th>\n",
       "      <td>12/11/19 3:00 PM</td>\n",
       "      <td>UC Berkeley</td>\n",
       "      <td>ENGI Library</td>\n",
       "      <td>ENGI</td>\n",
       "      <td>244.0</td>\n",
       "      <td>240.0</td>\n",
       "    </tr>\n",
       "    <tr>\n",
       "      <th>488</th>\n",
       "      <td>12/11/19 3:00 PM</td>\n",
       "      <td>UC Berkeley</td>\n",
       "      <td>MOFF Library</td>\n",
       "      <td>Moffitt 4th</td>\n",
       "      <td>240.0</td>\n",
       "      <td>221.0</td>\n",
       "    </tr>\n",
       "    <tr>\n",
       "      <th>519</th>\n",
       "      <td>12/11/19 4:00 PM</td>\n",
       "      <td>UC Berkeley</td>\n",
       "      <td>MOFF Library</td>\n",
       "      <td>Moffitt 4th</td>\n",
       "      <td>201.0</td>\n",
       "      <td>227.0</td>\n",
       "    </tr>\n",
       "  </tbody>\n",
       "</table>\n",
       "</div>"
      ],
      "text/plain": [
       "            Date-Time       Region      Facility     Entrance  Entries  Exits\n",
       "457  12/11/19 2:00 PM  UC Berkeley  MOFF Library  Moffitt 4th    266.0  201.0\n",
       "480  12/11/19 3:00 PM  UC Berkeley  ENGI Library         ENGI    244.0  240.0\n",
       "488  12/11/19 3:00 PM  UC Berkeley  MOFF Library  Moffitt 4th    240.0  221.0\n",
       "519  12/11/19 4:00 PM  UC Berkeley  MOFF Library  Moffitt 4th    201.0  227.0"
      ]
     },
     "execution_count": 51,
     "metadata": {},
     "output_type": "execute_result"
    }
   ],
   "source": [
    "condition1 = lib_traffic['Exits'] > 200\n",
    "condition2 = lib_traffic['Entries'] > 200\n",
    "lib_traffic[(condition1) & (condition2)]"
   ]
  },
  {
   "cell_type": "code",
   "execution_count": 52,
   "metadata": {},
   "outputs": [
    {
     "data": {
      "text/html": [
       "<div>\n",
       "<style scoped>\n",
       "    .dataframe tbody tr th:only-of-type {\n",
       "        vertical-align: middle;\n",
       "    }\n",
       "\n",
       "    .dataframe tbody tr th {\n",
       "        vertical-align: top;\n",
       "    }\n",
       "\n",
       "    .dataframe thead th {\n",
       "        text-align: right;\n",
       "    }\n",
       "</style>\n",
       "<table border=\"1\" class=\"dataframe\">\n",
       "  <thead>\n",
       "    <tr style=\"text-align: right;\">\n",
       "      <th></th>\n",
       "      <th>Date-Time</th>\n",
       "      <th>Region</th>\n",
       "      <th>Facility</th>\n",
       "      <th>Entrance</th>\n",
       "      <th>Entries</th>\n",
       "      <th>Exits</th>\n",
       "    </tr>\n",
       "  </thead>\n",
       "  <tbody>\n",
       "    <tr>\n",
       "      <th>457</th>\n",
       "      <td>12/11/19 2:00 PM</td>\n",
       "      <td>UC Berkeley</td>\n",
       "      <td>MOFF Library</td>\n",
       "      <td>Moffitt 4th</td>\n",
       "      <td>266.0</td>\n",
       "      <td>201.0</td>\n",
       "    </tr>\n",
       "    <tr>\n",
       "      <th>480</th>\n",
       "      <td>12/11/19 3:00 PM</td>\n",
       "      <td>UC Berkeley</td>\n",
       "      <td>ENGI Library</td>\n",
       "      <td>ENGI</td>\n",
       "      <td>244.0</td>\n",
       "      <td>240.0</td>\n",
       "    </tr>\n",
       "    <tr>\n",
       "      <th>488</th>\n",
       "      <td>12/11/19 3:00 PM</td>\n",
       "      <td>UC Berkeley</td>\n",
       "      <td>MOFF Library</td>\n",
       "      <td>Moffitt 4th</td>\n",
       "      <td>240.0</td>\n",
       "      <td>221.0</td>\n",
       "    </tr>\n",
       "    <tr>\n",
       "      <th>519</th>\n",
       "      <td>12/11/19 4:00 PM</td>\n",
       "      <td>UC Berkeley</td>\n",
       "      <td>MOFF Library</td>\n",
       "      <td>Moffitt 4th</td>\n",
       "      <td>201.0</td>\n",
       "      <td>227.0</td>\n",
       "    </tr>\n",
       "  </tbody>\n",
       "</table>\n",
       "</div>"
      ],
      "text/plain": [
       "            Date-Time       Region      Facility     Entrance  Entries  Exits\n",
       "457  12/11/19 2:00 PM  UC Berkeley  MOFF Library  Moffitt 4th    266.0  201.0\n",
       "480  12/11/19 3:00 PM  UC Berkeley  ENGI Library         ENGI    244.0  240.0\n",
       "488  12/11/19 3:00 PM  UC Berkeley  MOFF Library  Moffitt 4th    240.0  221.0\n",
       "519  12/11/19 4:00 PM  UC Berkeley  MOFF Library  Moffitt 4th    201.0  227.0"
      ]
     },
     "execution_count": 52,
     "metadata": {},
     "output_type": "execute_result"
    }
   ],
   "source": [
    "# both formats work, and generate the same result!\n",
    "lib_traffic[(lib_traffic['Exits'] > 200) & (lib_traffic['Entries'] > 200)]"
   ]
  },
  {
   "cell_type": "markdown",
   "metadata": {},
   "source": [
    "---\n",
    "Now, as a final example, let's say we are trying to find the record with the largest number of entries at Doe. We can do this in two steps."
   ]
  },
  {
   "cell_type": "code",
   "execution_count": 53,
   "metadata": {
    "scrolled": false
   },
   "outputs": [
    {
     "data": {
      "text/html": [
       "<div>\n",
       "<style scoped>\n",
       "    .dataframe tbody tr th:only-of-type {\n",
       "        vertical-align: middle;\n",
       "    }\n",
       "\n",
       "    .dataframe tbody tr th {\n",
       "        vertical-align: top;\n",
       "    }\n",
       "\n",
       "    .dataframe thead th {\n",
       "        text-align: right;\n",
       "    }\n",
       "</style>\n",
       "<table border=\"1\" class=\"dataframe\">\n",
       "  <thead>\n",
       "    <tr style=\"text-align: right;\">\n",
       "      <th></th>\n",
       "      <th>Date-Time</th>\n",
       "      <th>Region</th>\n",
       "      <th>Facility</th>\n",
       "      <th>Entrance</th>\n",
       "      <th>Entries</th>\n",
       "      <th>Exits</th>\n",
       "    </tr>\n",
       "  </thead>\n",
       "  <tbody>\n",
       "    <tr>\n",
       "      <th>473</th>\n",
       "      <td>12/11/19 3:00 PM</td>\n",
       "      <td>UC Berkeley</td>\n",
       "      <td>DOE Library</td>\n",
       "      <td>Doe North</td>\n",
       "      <td>243.0</td>\n",
       "      <td>185.0</td>\n",
       "    </tr>\n",
       "  </tbody>\n",
       "</table>\n",
       "</div>"
      ],
      "text/plain": [
       "            Date-Time       Region     Facility   Entrance  Entries  Exits\n",
       "473  12/11/19 3:00 PM  UC Berkeley  DOE Library  Doe North    243.0  185.0"
      ]
     },
     "execution_count": 53,
     "metadata": {},
     "output_type": "execute_result"
    }
   ],
   "source": [
    "# first, find the largest number in the `Entries` column\n",
    "max_entries = np.max(doe['Entries'])\n",
    "\n",
    "# then, find the row(s) that match `max_entries` in the Doe dataframe\n",
    "doe[doe['Entries'] == max_entries]"
   ]
  },
  {
   "cell_type": "markdown",
   "metadata": {},
   "source": [
    "From this single-record dataframe, we see that the time where there was the most entries into Doe Library on 12/11/19 was at 3pm.\n",
    "\n",
    "In sum, using filtering, we can grab certain aspects of data that we want, and see more clearly specific points of interest. Later on, we will see how this can be useful for visualization."
   ]
  },
  {
   "cell_type": "markdown",
   "metadata": {},
   "source": [
    "## Grouping with Pandas <a class=\"anchor\" id=\"grouping\"></a>\n",
    "By grouping, we can stratify our dataset by the unique values of a specific column in our dataset. Then, we can create visualizations based on the different stratas, and compare how they appear similar or different.\n",
    "\n",
    "[Jump to Exercise 3](#ex3)"
   ]
  },
  {
   "cell_type": "markdown",
   "metadata": {},
   "source": [
    "When we use the `groupby` function with Pandas, we will get a dataframe where:\n",
    "- the column you specify to group by will become the index\n",
    "- there will be 1 row for each unique value in the column\n",
    "- every other column is aggregated by the function you choose\n",
    "\n",
    "The syntax for groupby is as follows:\n",
    "```\n",
    "df.groupby(column).aggregation_function()\n",
    "```\n",
    "If we simply call `groupby` on our dataframe, it doesn't quite do anything yet. We get back a **groupby object**."
   ]
  },
  {
   "cell_type": "code",
   "execution_count": 54,
   "metadata": {
    "scrolled": true
   },
   "outputs": [
    {
     "data": {
      "text/plain": [
       "<pandas.core.groupby.generic.DataFrameGroupBy object at 0x00000261393C1160>"
      ]
     },
     "execution_count": 54,
     "metadata": {},
     "output_type": "execute_result"
    }
   ],
   "source": [
    "lib_traffic.groupby('Facility')"
   ]
  },
  {
   "cell_type": "markdown",
   "metadata": {},
   "source": [
    "From here, we can then aggregate by a specific function. There are a couple of common defaults built into groupby that we'll use today.\n",
    "- sum: sums all the values of each column in the group\n",
    "- mean: calculated the mean of all the values of each column in the group\n",
    "- min:  same as above but minimum\n",
    "- max: same as above but maximum\n",
    "- count: counts the number of rows in the group\n",
    "\n",
    "For example, we can group by `Facility` in order to get the sum number of people that enter and exit each library, regardless of which entrance."
   ]
  },
  {
   "cell_type": "code",
   "execution_count": 55,
   "metadata": {},
   "outputs": [
    {
     "data": {
      "text/html": [
       "<div>\n",
       "<style scoped>\n",
       "    .dataframe tbody tr th:only-of-type {\n",
       "        vertical-align: middle;\n",
       "    }\n",
       "\n",
       "    .dataframe tbody tr th {\n",
       "        vertical-align: top;\n",
       "    }\n",
       "\n",
       "    .dataframe thead th {\n",
       "        text-align: right;\n",
       "    }\n",
       "</style>\n",
       "<table border=\"1\" class=\"dataframe\">\n",
       "  <thead>\n",
       "    <tr style=\"text-align: right;\">\n",
       "      <th></th>\n",
       "      <th>Entries</th>\n",
       "      <th>Exits</th>\n",
       "    </tr>\n",
       "    <tr>\n",
       "      <th>Facility</th>\n",
       "      <th></th>\n",
       "      <th></th>\n",
       "    </tr>\n",
       "  </thead>\n",
       "  <tbody>\n",
       "    <tr>\n",
       "      <th>AHC Library</th>\n",
       "      <td>143.0</td>\n",
       "      <td>149.0</td>\n",
       "    </tr>\n",
       "    <tr>\n",
       "      <th>ANTH Library</th>\n",
       "      <td>409.0</td>\n",
       "      <td>414.0</td>\n",
       "    </tr>\n",
       "    <tr>\n",
       "      <th>BANC Library</th>\n",
       "      <td>471.0</td>\n",
       "      <td>543.0</td>\n",
       "    </tr>\n",
       "    <tr>\n",
       "      <th>BIOS Library</th>\n",
       "      <td>1439.0</td>\n",
       "      <td>1438.0</td>\n",
       "    </tr>\n",
       "    <tr>\n",
       "      <th>CHEM Library</th>\n",
       "      <td>468.0</td>\n",
       "      <td>469.0</td>\n",
       "    </tr>\n",
       "    <tr>\n",
       "      <th>DOE Library</th>\n",
       "      <td>3266.0</td>\n",
       "      <td>3258.0</td>\n",
       "    </tr>\n",
       "    <tr>\n",
       "      <th>DOE STACKS</th>\n",
       "      <td>3221.0</td>\n",
       "      <td>3303.0</td>\n",
       "    </tr>\n",
       "    <tr>\n",
       "      <th>EAL Library</th>\n",
       "      <td>711.0</td>\n",
       "      <td>665.0</td>\n",
       "    </tr>\n",
       "    <tr>\n",
       "      <th>EART Library</th>\n",
       "      <td>257.0</td>\n",
       "      <td>266.0</td>\n",
       "    </tr>\n",
       "    <tr>\n",
       "      <th>ENGI Library</th>\n",
       "      <td>1932.0</td>\n",
       "      <td>1912.0</td>\n",
       "    </tr>\n",
       "    <tr>\n",
       "      <th>ENVI Library</th>\n",
       "      <td>1409.0</td>\n",
       "      <td>1391.0</td>\n",
       "    </tr>\n",
       "    <tr>\n",
       "      <th>GRDS Library</th>\n",
       "      <td>224.0</td>\n",
       "      <td>228.0</td>\n",
       "    </tr>\n",
       "    <tr>\n",
       "      <th>HAAS Library</th>\n",
       "      <td>1840.0</td>\n",
       "      <td>2012.0</td>\n",
       "    </tr>\n",
       "    <tr>\n",
       "      <th>MATH Library</th>\n",
       "      <td>433.0</td>\n",
       "      <td>440.0</td>\n",
       "    </tr>\n",
       "    <tr>\n",
       "      <th>MOFF Library</th>\n",
       "      <td>6996.0</td>\n",
       "      <td>6724.0</td>\n",
       "    </tr>\n",
       "    <tr>\n",
       "      <th>MORR Library</th>\n",
       "      <td>197.0</td>\n",
       "      <td>172.0</td>\n",
       "    </tr>\n",
       "    <tr>\n",
       "      <th>MUSI</th>\n",
       "      <td>575.0</td>\n",
       "      <td>574.0</td>\n",
       "    </tr>\n",
       "    <tr>\n",
       "      <th>NEWS Library</th>\n",
       "      <td>103.0</td>\n",
       "      <td>102.0</td>\n",
       "    </tr>\n",
       "    <tr>\n",
       "      <th>OPTO Library</th>\n",
       "      <td>204.0</td>\n",
       "      <td>205.0</td>\n",
       "    </tr>\n",
       "    <tr>\n",
       "      <th>PHYS Library</th>\n",
       "      <td>139.0</td>\n",
       "      <td>142.0</td>\n",
       "    </tr>\n",
       "    <tr>\n",
       "      <th>SEAL Library</th>\n",
       "      <td>71.0</td>\n",
       "      <td>72.0</td>\n",
       "    </tr>\n",
       "    <tr>\n",
       "      <th>SOCR Library</th>\n",
       "      <td>142.0</td>\n",
       "      <td>129.0</td>\n",
       "    </tr>\n",
       "  </tbody>\n",
       "</table>\n",
       "</div>"
      ],
      "text/plain": [
       "              Entries   Exits\n",
       "Facility                     \n",
       "AHC Library     143.0   149.0\n",
       "ANTH Library    409.0   414.0\n",
       "BANC Library    471.0   543.0\n",
       "BIOS Library   1439.0  1438.0\n",
       "CHEM Library    468.0   469.0\n",
       "DOE Library    3266.0  3258.0\n",
       "DOE STACKS     3221.0  3303.0\n",
       "EAL Library     711.0   665.0\n",
       "EART Library    257.0   266.0\n",
       "ENGI Library   1932.0  1912.0\n",
       "ENVI Library   1409.0  1391.0\n",
       "GRDS Library    224.0   228.0\n",
       "HAAS Library   1840.0  2012.0\n",
       "MATH Library    433.0   440.0\n",
       "MOFF Library   6996.0  6724.0\n",
       "MORR Library    197.0   172.0\n",
       "MUSI            575.0   574.0\n",
       "NEWS Library    103.0   102.0\n",
       "OPTO Library    204.0   205.0\n",
       "PHYS Library    139.0   142.0\n",
       "SEAL Library     71.0    72.0\n",
       "SOCR Library    142.0   129.0"
      ]
     },
     "execution_count": 55,
     "metadata": {},
     "output_type": "execute_result"
    }
   ],
   "source": [
    "lib_traffic.groupby('Facility').sum()"
   ]
  },
  {
   "cell_type": "markdown",
   "metadata": {},
   "source": [
    "Notice 2 things:\n",
    "1. There is 1 row for each unique facility, as expected\n",
    "2. Many of the columns disappeared. Why?\n",
    "\n",
    "We're left with only 2 columns because those are the only columns where our aggregation function, summing, makes sense. It doesn't make sense to take the sum of a bunch of strings, or of a bunch of different dates, so Pandas automatically gets rid of them. Neat!"
   ]
  },
  {
   "cell_type": "code",
   "execution_count": 56,
   "metadata": {},
   "outputs": [
    {
     "data": {
      "text/html": [
       "<div>\n",
       "<style scoped>\n",
       "    .dataframe tbody tr th:only-of-type {\n",
       "        vertical-align: middle;\n",
       "    }\n",
       "\n",
       "    .dataframe tbody tr th {\n",
       "        vertical-align: top;\n",
       "    }\n",
       "\n",
       "    .dataframe thead th {\n",
       "        text-align: right;\n",
       "    }\n",
       "</style>\n",
       "<table border=\"1\" class=\"dataframe\">\n",
       "  <thead>\n",
       "    <tr style=\"text-align: right;\">\n",
       "      <th></th>\n",
       "      <th>Date-Time</th>\n",
       "      <th>Region</th>\n",
       "      <th>Facility</th>\n",
       "      <th>Entrance</th>\n",
       "      <th>Entries</th>\n",
       "      <th>Exits</th>\n",
       "    </tr>\n",
       "  </thead>\n",
       "  <tbody>\n",
       "    <tr>\n",
       "      <th>0</th>\n",
       "      <td>12/11/19 12:00 AM</td>\n",
       "      <td>NaN</td>\n",
       "      <td>NaN</td>\n",
       "      <td>TEST</td>\n",
       "      <td>0.0</td>\n",
       "      <td>0.0</td>\n",
       "    </tr>\n",
       "    <tr>\n",
       "      <th>1</th>\n",
       "      <td>12/11/19 12:00 AM</td>\n",
       "      <td>UC Berkeley</td>\n",
       "      <td>AHC Library</td>\n",
       "      <td>AHC Back</td>\n",
       "      <td>0.0</td>\n",
       "      <td>0.0</td>\n",
       "    </tr>\n",
       "    <tr>\n",
       "      <th>2</th>\n",
       "      <td>12/11/19 12:00 AM</td>\n",
       "      <td>UC Berkeley</td>\n",
       "      <td>AHC Library</td>\n",
       "      <td>AHC Front</td>\n",
       "      <td>0.0</td>\n",
       "      <td>0.0</td>\n",
       "    </tr>\n",
       "    <tr>\n",
       "      <th>3</th>\n",
       "      <td>12/11/19 12:00 AM</td>\n",
       "      <td>UC Berkeley</td>\n",
       "      <td>ANTH Library</td>\n",
       "      <td>ANTH</td>\n",
       "      <td>0.0</td>\n",
       "      <td>0.0</td>\n",
       "    </tr>\n",
       "    <tr>\n",
       "      <th>4</th>\n",
       "      <td>12/11/19 12:00 AM</td>\n",
       "      <td>UC Berkeley</td>\n",
       "      <td>BANC Library</td>\n",
       "      <td>Bancroft</td>\n",
       "      <td>0.0</td>\n",
       "      <td>0.0</td>\n",
       "    </tr>\n",
       "  </tbody>\n",
       "</table>\n",
       "</div>"
      ],
      "text/plain": [
       "           Date-Time       Region      Facility   Entrance  Entries  Exits\n",
       "0  12/11/19 12:00 AM          NaN           NaN       TEST      0.0    0.0\n",
       "1  12/11/19 12:00 AM  UC Berkeley   AHC Library   AHC Back      0.0    0.0\n",
       "2  12/11/19 12:00 AM  UC Berkeley   AHC Library  AHC Front      0.0    0.0\n",
       "3  12/11/19 12:00 AM  UC Berkeley  ANTH Library       ANTH      0.0    0.0\n",
       "4  12/11/19 12:00 AM  UC Berkeley  BANC Library   Bancroft      0.0    0.0"
      ]
     },
     "execution_count": 56,
     "metadata": {},
     "output_type": "execute_result"
    }
   ],
   "source": [
    "lib_traffic.head()"
   ]
  },
  {
   "cell_type": "code",
   "execution_count": 57,
   "metadata": {},
   "outputs": [
    {
     "data": {
      "text/html": [
       "<div>\n",
       "<style scoped>\n",
       "    .dataframe tbody tr th:only-of-type {\n",
       "        vertical-align: middle;\n",
       "    }\n",
       "\n",
       "    .dataframe tbody tr th {\n",
       "        vertical-align: top;\n",
       "    }\n",
       "\n",
       "    .dataframe thead th {\n",
       "        text-align: right;\n",
       "    }\n",
       "</style>\n",
       "<table border=\"1\" class=\"dataframe\">\n",
       "  <thead>\n",
       "    <tr style=\"text-align: right;\">\n",
       "      <th></th>\n",
       "      <th>Entries</th>\n",
       "      <th>Exits</th>\n",
       "    </tr>\n",
       "    <tr>\n",
       "      <th>Facility</th>\n",
       "      <th></th>\n",
       "      <th></th>\n",
       "    </tr>\n",
       "  </thead>\n",
       "  <tbody>\n",
       "    <tr>\n",
       "      <th>AHC Library</th>\n",
       "      <td>2.979167</td>\n",
       "      <td>3.104167</td>\n",
       "    </tr>\n",
       "    <tr>\n",
       "      <th>ANTH Library</th>\n",
       "      <td>17.041667</td>\n",
       "      <td>17.250000</td>\n",
       "    </tr>\n",
       "    <tr>\n",
       "      <th>BANC Library</th>\n",
       "      <td>19.625000</td>\n",
       "      <td>22.625000</td>\n",
       "    </tr>\n",
       "    <tr>\n",
       "      <th>BIOS Library</th>\n",
       "      <td>29.979167</td>\n",
       "      <td>29.958333</td>\n",
       "    </tr>\n",
       "    <tr>\n",
       "      <th>CHEM Library</th>\n",
       "      <td>19.500000</td>\n",
       "      <td>19.541667</td>\n",
       "    </tr>\n",
       "  </tbody>\n",
       "</table>\n",
       "</div>"
      ],
      "text/plain": [
       "                Entries      Exits\n",
       "Facility                          \n",
       "AHC Library    2.979167   3.104167\n",
       "ANTH Library  17.041667  17.250000\n",
       "BANC Library  19.625000  22.625000\n",
       "BIOS Library  29.979167  29.958333\n",
       "CHEM Library  19.500000  19.541667"
      ]
     },
     "execution_count": 57,
     "metadata": {},
     "output_type": "execute_result"
    }
   ],
   "source": [
    "# some more examples; we add .head() to shorten the dataframe that is printed out\n",
    "lib_traffic.groupby('Facility').mean().head()"
   ]
  },
  {
   "cell_type": "code",
   "execution_count": 58,
   "metadata": {},
   "outputs": [
    {
     "data": {
      "text/html": [
       "<div>\n",
       "<style scoped>\n",
       "    .dataframe tbody tr th:only-of-type {\n",
       "        vertical-align: middle;\n",
       "    }\n",
       "\n",
       "    .dataframe tbody tr th {\n",
       "        vertical-align: top;\n",
       "    }\n",
       "\n",
       "    .dataframe thead th {\n",
       "        text-align: right;\n",
       "    }\n",
       "</style>\n",
       "<table border=\"1\" class=\"dataframe\">\n",
       "  <thead>\n",
       "    <tr style=\"text-align: right;\">\n",
       "      <th></th>\n",
       "      <th>Date-Time</th>\n",
       "      <th>Region</th>\n",
       "      <th>Entrance</th>\n",
       "      <th>Entries</th>\n",
       "      <th>Exits</th>\n",
       "    </tr>\n",
       "    <tr>\n",
       "      <th>Facility</th>\n",
       "      <th></th>\n",
       "      <th></th>\n",
       "      <th></th>\n",
       "      <th></th>\n",
       "      <th></th>\n",
       "    </tr>\n",
       "  </thead>\n",
       "  <tbody>\n",
       "    <tr>\n",
       "      <th>AHC Library</th>\n",
       "      <td>12/11/19 10:00 AM</td>\n",
       "      <td>UC Berkeley</td>\n",
       "      <td>AHC Back</td>\n",
       "      <td>0.0</td>\n",
       "      <td>0.0</td>\n",
       "    </tr>\n",
       "    <tr>\n",
       "      <th>ANTH Library</th>\n",
       "      <td>12/11/19 10:00 AM</td>\n",
       "      <td>UC Berkeley</td>\n",
       "      <td>ANTH</td>\n",
       "      <td>0.0</td>\n",
       "      <td>0.0</td>\n",
       "    </tr>\n",
       "    <tr>\n",
       "      <th>BANC Library</th>\n",
       "      <td>12/11/19 10:00 AM</td>\n",
       "      <td>UC Berkeley</td>\n",
       "      <td>Bancroft</td>\n",
       "      <td>0.0</td>\n",
       "      <td>0.0</td>\n",
       "    </tr>\n",
       "    <tr>\n",
       "      <th>BIOS Library</th>\n",
       "      <td>12/11/19 10:00 AM</td>\n",
       "      <td>UC Berkeley</td>\n",
       "      <td>VLSB1</td>\n",
       "      <td>0.0</td>\n",
       "      <td>0.0</td>\n",
       "    </tr>\n",
       "    <tr>\n",
       "      <th>CHEM Library</th>\n",
       "      <td>12/11/19 10:00 AM</td>\n",
       "      <td>UC Berkeley</td>\n",
       "      <td>CHEM</td>\n",
       "      <td>0.0</td>\n",
       "      <td>0.0</td>\n",
       "    </tr>\n",
       "  </tbody>\n",
       "</table>\n",
       "</div>"
      ],
      "text/plain": [
       "                      Date-Time       Region  Entrance  Entries  Exits\n",
       "Facility                                                              \n",
       "AHC Library   12/11/19 10:00 AM  UC Berkeley  AHC Back      0.0    0.0\n",
       "ANTH Library  12/11/19 10:00 AM  UC Berkeley      ANTH      0.0    0.0\n",
       "BANC Library  12/11/19 10:00 AM  UC Berkeley  Bancroft      0.0    0.0\n",
       "BIOS Library  12/11/19 10:00 AM  UC Berkeley     VLSB1      0.0    0.0\n",
       "CHEM Library  12/11/19 10:00 AM  UC Berkeley      CHEM      0.0    0.0"
      ]
     },
     "execution_count": 58,
     "metadata": {},
     "output_type": "execute_result"
    }
   ],
   "source": [
    "lib_traffic.groupby('Facility').min().head()"
   ]
  },
  {
   "cell_type": "code",
   "execution_count": 59,
   "metadata": {},
   "outputs": [
    {
     "data": {
      "text/html": [
       "<div>\n",
       "<style scoped>\n",
       "    .dataframe tbody tr th:only-of-type {\n",
       "        vertical-align: middle;\n",
       "    }\n",
       "\n",
       "    .dataframe tbody tr th {\n",
       "        vertical-align: top;\n",
       "    }\n",
       "\n",
       "    .dataframe thead th {\n",
       "        text-align: right;\n",
       "    }\n",
       "</style>\n",
       "<table border=\"1\" class=\"dataframe\">\n",
       "  <thead>\n",
       "    <tr style=\"text-align: right;\">\n",
       "      <th></th>\n",
       "      <th>Date-Time</th>\n",
       "      <th>Region</th>\n",
       "      <th>Entrance</th>\n",
       "      <th>Entries</th>\n",
       "      <th>Exits</th>\n",
       "    </tr>\n",
       "    <tr>\n",
       "      <th>Facility</th>\n",
       "      <th></th>\n",
       "      <th></th>\n",
       "      <th></th>\n",
       "      <th></th>\n",
       "      <th></th>\n",
       "    </tr>\n",
       "  </thead>\n",
       "  <tbody>\n",
       "    <tr>\n",
       "      <th>AHC Library</th>\n",
       "      <td>12/11/19 9:00 PM</td>\n",
       "      <td>UC Berkeley</td>\n",
       "      <td>AHC Front</td>\n",
       "      <td>17.0</td>\n",
       "      <td>15.0</td>\n",
       "    </tr>\n",
       "    <tr>\n",
       "      <th>ANTH Library</th>\n",
       "      <td>12/11/19 9:00 PM</td>\n",
       "      <td>UC Berkeley</td>\n",
       "      <td>ANTH</td>\n",
       "      <td>60.0</td>\n",
       "      <td>70.0</td>\n",
       "    </tr>\n",
       "    <tr>\n",
       "      <th>BANC Library</th>\n",
       "      <td>12/11/19 9:00 PM</td>\n",
       "      <td>UC Berkeley</td>\n",
       "      <td>Bancroft</td>\n",
       "      <td>86.0</td>\n",
       "      <td>96.0</td>\n",
       "    </tr>\n",
       "    <tr>\n",
       "      <th>BIOS Library</th>\n",
       "      <td>12/11/19 9:00 PM</td>\n",
       "      <td>UC Berkeley</td>\n",
       "      <td>VLSB2</td>\n",
       "      <td>108.0</td>\n",
       "      <td>110.0</td>\n",
       "    </tr>\n",
       "    <tr>\n",
       "      <th>CHEM Library</th>\n",
       "      <td>12/11/19 9:00 PM</td>\n",
       "      <td>UC Berkeley</td>\n",
       "      <td>CHEM</td>\n",
       "      <td>78.0</td>\n",
       "      <td>75.0</td>\n",
       "    </tr>\n",
       "  </tbody>\n",
       "</table>\n",
       "</div>"
      ],
      "text/plain": [
       "                     Date-Time       Region   Entrance  Entries  Exits\n",
       "Facility                                                              \n",
       "AHC Library   12/11/19 9:00 PM  UC Berkeley  AHC Front     17.0   15.0\n",
       "ANTH Library  12/11/19 9:00 PM  UC Berkeley       ANTH     60.0   70.0\n",
       "BANC Library  12/11/19 9:00 PM  UC Berkeley   Bancroft     86.0   96.0\n",
       "BIOS Library  12/11/19 9:00 PM  UC Berkeley      VLSB2    108.0  110.0\n",
       "CHEM Library  12/11/19 9:00 PM  UC Berkeley       CHEM     78.0   75.0"
      ]
     },
     "execution_count": 59,
     "metadata": {},
     "output_type": "execute_result"
    }
   ],
   "source": [
    "lib_traffic.groupby('Facility').max().head()"
   ]
  },
  {
   "cell_type": "code",
   "execution_count": 60,
   "metadata": {},
   "outputs": [
    {
     "data": {
      "text/html": [
       "<div>\n",
       "<style scoped>\n",
       "    .dataframe tbody tr th:only-of-type {\n",
       "        vertical-align: middle;\n",
       "    }\n",
       "\n",
       "    .dataframe tbody tr th {\n",
       "        vertical-align: top;\n",
       "    }\n",
       "\n",
       "    .dataframe thead th {\n",
       "        text-align: right;\n",
       "    }\n",
       "</style>\n",
       "<table border=\"1\" class=\"dataframe\">\n",
       "  <thead>\n",
       "    <tr style=\"text-align: right;\">\n",
       "      <th></th>\n",
       "      <th>Date-Time</th>\n",
       "      <th>Region</th>\n",
       "      <th>Entrance</th>\n",
       "      <th>Entries</th>\n",
       "      <th>Exits</th>\n",
       "    </tr>\n",
       "    <tr>\n",
       "      <th>Facility</th>\n",
       "      <th></th>\n",
       "      <th></th>\n",
       "      <th></th>\n",
       "      <th></th>\n",
       "      <th></th>\n",
       "    </tr>\n",
       "  </thead>\n",
       "  <tbody>\n",
       "    <tr>\n",
       "      <th>AHC Library</th>\n",
       "      <td>48</td>\n",
       "      <td>48</td>\n",
       "      <td>48</td>\n",
       "      <td>48</td>\n",
       "      <td>48</td>\n",
       "    </tr>\n",
       "    <tr>\n",
       "      <th>ANTH Library</th>\n",
       "      <td>24</td>\n",
       "      <td>24</td>\n",
       "      <td>24</td>\n",
       "      <td>24</td>\n",
       "      <td>24</td>\n",
       "    </tr>\n",
       "    <tr>\n",
       "      <th>BANC Library</th>\n",
       "      <td>24</td>\n",
       "      <td>24</td>\n",
       "      <td>24</td>\n",
       "      <td>24</td>\n",
       "      <td>24</td>\n",
       "    </tr>\n",
       "    <tr>\n",
       "      <th>BIOS Library</th>\n",
       "      <td>48</td>\n",
       "      <td>48</td>\n",
       "      <td>48</td>\n",
       "      <td>48</td>\n",
       "      <td>48</td>\n",
       "    </tr>\n",
       "    <tr>\n",
       "      <th>CHEM Library</th>\n",
       "      <td>24</td>\n",
       "      <td>24</td>\n",
       "      <td>24</td>\n",
       "      <td>24</td>\n",
       "      <td>24</td>\n",
       "    </tr>\n",
       "  </tbody>\n",
       "</table>\n",
       "</div>"
      ],
      "text/plain": [
       "              Date-Time  Region  Entrance  Entries  Exits\n",
       "Facility                                                 \n",
       "AHC Library          48      48        48       48     48\n",
       "ANTH Library         24      24        24       24     24\n",
       "BANC Library         24      24        24       24     24\n",
       "BIOS Library         48      48        48       48     48\n",
       "CHEM Library         24      24        24       24     24"
      ]
     },
     "execution_count": 60,
     "metadata": {},
     "output_type": "execute_result"
    }
   ],
   "source": [
    "lib_traffic.groupby('Facility').count().head()"
   ]
  },
  {
   "cell_type": "markdown",
   "metadata": {},
   "source": [
    "One last note:\n",
    "\n",
    "You can groupby multiple columns! This creates a multi-index table, where each unique set of column values corresponds to a row in the table. The syntax is as follows:\n",
    "```\n",
    "df.groupby([column1, column2]).aggregation_function()\n",
    "```\n",
    "\n",
    "Let's group by `Date-Time` and `Facility` to see the total number of people entering __each library__ at __each hour__."
   ]
  },
  {
   "cell_type": "code",
   "execution_count": 61,
   "metadata": {},
   "outputs": [
    {
     "data": {
      "text/html": [
       "<div>\n",
       "<style scoped>\n",
       "    .dataframe tbody tr th:only-of-type {\n",
       "        vertical-align: middle;\n",
       "    }\n",
       "\n",
       "    .dataframe tbody tr th {\n",
       "        vertical-align: top;\n",
       "    }\n",
       "\n",
       "    .dataframe thead th {\n",
       "        text-align: right;\n",
       "    }\n",
       "</style>\n",
       "<table border=\"1\" class=\"dataframe\">\n",
       "  <thead>\n",
       "    <tr style=\"text-align: right;\">\n",
       "      <th></th>\n",
       "      <th></th>\n",
       "      <th>Entries</th>\n",
       "      <th>Exits</th>\n",
       "    </tr>\n",
       "    <tr>\n",
       "      <th>Date-Time</th>\n",
       "      <th>Facility</th>\n",
       "      <th></th>\n",
       "      <th></th>\n",
       "    </tr>\n",
       "  </thead>\n",
       "  <tbody>\n",
       "    <tr>\n",
       "      <th rowspan=\"22\" valign=\"top\">12/11/19 10:00 AM</th>\n",
       "      <th>AHC Library</th>\n",
       "      <td>6.0</td>\n",
       "      <td>6.0</td>\n",
       "    </tr>\n",
       "    <tr>\n",
       "      <th>ANTH Library</th>\n",
       "      <td>24.0</td>\n",
       "      <td>14.0</td>\n",
       "    </tr>\n",
       "    <tr>\n",
       "      <th>BANC Library</th>\n",
       "      <td>29.0</td>\n",
       "      <td>47.0</td>\n",
       "    </tr>\n",
       "    <tr>\n",
       "      <th>BIOS Library</th>\n",
       "      <td>86.0</td>\n",
       "      <td>39.0</td>\n",
       "    </tr>\n",
       "    <tr>\n",
       "      <th>CHEM Library</th>\n",
       "      <td>45.0</td>\n",
       "      <td>27.0</td>\n",
       "    </tr>\n",
       "    <tr>\n",
       "      <th>DOE Library</th>\n",
       "      <td>238.0</td>\n",
       "      <td>86.0</td>\n",
       "    </tr>\n",
       "    <tr>\n",
       "      <th>DOE STACKS</th>\n",
       "      <td>83.0</td>\n",
       "      <td>147.0</td>\n",
       "    </tr>\n",
       "    <tr>\n",
       "      <th>EAL Library</th>\n",
       "      <td>66.0</td>\n",
       "      <td>18.0</td>\n",
       "    </tr>\n",
       "    <tr>\n",
       "      <th>EART Library</th>\n",
       "      <td>24.0</td>\n",
       "      <td>18.0</td>\n",
       "    </tr>\n",
       "    <tr>\n",
       "      <th>ENGI Library</th>\n",
       "      <td>87.0</td>\n",
       "      <td>24.0</td>\n",
       "    </tr>\n",
       "    <tr>\n",
       "      <th>ENVI Library</th>\n",
       "      <td>122.0</td>\n",
       "      <td>62.0</td>\n",
       "    </tr>\n",
       "    <tr>\n",
       "      <th>GRDS Library</th>\n",
       "      <td>21.0</td>\n",
       "      <td>8.0</td>\n",
       "    </tr>\n",
       "    <tr>\n",
       "      <th>HAAS Library</th>\n",
       "      <td>110.0</td>\n",
       "      <td>56.0</td>\n",
       "    </tr>\n",
       "    <tr>\n",
       "      <th>MATH Library</th>\n",
       "      <td>35.0</td>\n",
       "      <td>32.0</td>\n",
       "    </tr>\n",
       "    <tr>\n",
       "      <th>MOFF Library</th>\n",
       "      <td>322.0</td>\n",
       "      <td>149.0</td>\n",
       "    </tr>\n",
       "    <tr>\n",
       "      <th>MORR Library</th>\n",
       "      <td>20.0</td>\n",
       "      <td>10.0</td>\n",
       "    </tr>\n",
       "    <tr>\n",
       "      <th>MUSI</th>\n",
       "      <td>47.0</td>\n",
       "      <td>14.0</td>\n",
       "    </tr>\n",
       "    <tr>\n",
       "      <th>NEWS Library</th>\n",
       "      <td>11.0</td>\n",
       "      <td>7.0</td>\n",
       "    </tr>\n",
       "    <tr>\n",
       "      <th>OPTO Library</th>\n",
       "      <td>32.0</td>\n",
       "      <td>13.0</td>\n",
       "    </tr>\n",
       "    <tr>\n",
       "      <th>PHYS Library</th>\n",
       "      <td>13.0</td>\n",
       "      <td>6.0</td>\n",
       "    </tr>\n",
       "    <tr>\n",
       "      <th>SEAL Library</th>\n",
       "      <td>6.0</td>\n",
       "      <td>5.0</td>\n",
       "    </tr>\n",
       "    <tr>\n",
       "      <th>SOCR Library</th>\n",
       "      <td>13.0</td>\n",
       "      <td>9.0</td>\n",
       "    </tr>\n",
       "    <tr>\n",
       "      <th rowspan=\"8\" valign=\"top\">12/11/19 10:00 PM</th>\n",
       "      <th>AHC Library</th>\n",
       "      <td>0.0</td>\n",
       "      <td>0.0</td>\n",
       "    </tr>\n",
       "    <tr>\n",
       "      <th>ANTH Library</th>\n",
       "      <td>0.0</td>\n",
       "      <td>0.0</td>\n",
       "    </tr>\n",
       "    <tr>\n",
       "      <th>BANC Library</th>\n",
       "      <td>0.0</td>\n",
       "      <td>0.0</td>\n",
       "    </tr>\n",
       "    <tr>\n",
       "      <th>BIOS Library</th>\n",
       "      <td>6.0</td>\n",
       "      <td>63.0</td>\n",
       "    </tr>\n",
       "    <tr>\n",
       "      <th>CHEM Library</th>\n",
       "      <td>2.0</td>\n",
       "      <td>3.0</td>\n",
       "    </tr>\n",
       "    <tr>\n",
       "      <th>DOE Library</th>\n",
       "      <td>2.0</td>\n",
       "      <td>2.0</td>\n",
       "    </tr>\n",
       "    <tr>\n",
       "      <th>DOE STACKS</th>\n",
       "      <td>184.0</td>\n",
       "      <td>140.0</td>\n",
       "    </tr>\n",
       "    <tr>\n",
       "      <th>EAL Library</th>\n",
       "      <td>1.0</td>\n",
       "      <td>37.0</td>\n",
       "    </tr>\n",
       "    <tr>\n",
       "      <th>...</th>\n",
       "      <th>...</th>\n",
       "      <td>...</td>\n",
       "      <td>...</td>\n",
       "    </tr>\n",
       "    <tr>\n",
       "      <th rowspan=\"8\" valign=\"top\">12/11/19 9:00 AM</th>\n",
       "      <th>MOFF Library</th>\n",
       "      <td>297.0</td>\n",
       "      <td>109.0</td>\n",
       "    </tr>\n",
       "    <tr>\n",
       "      <th>MORR Library</th>\n",
       "      <td>0.0</td>\n",
       "      <td>0.0</td>\n",
       "    </tr>\n",
       "    <tr>\n",
       "      <th>MUSI</th>\n",
       "      <td>56.0</td>\n",
       "      <td>10.0</td>\n",
       "    </tr>\n",
       "    <tr>\n",
       "      <th>NEWS Library</th>\n",
       "      <td>4.0</td>\n",
       "      <td>2.0</td>\n",
       "    </tr>\n",
       "    <tr>\n",
       "      <th>OPTO Library</th>\n",
       "      <td>9.0</td>\n",
       "      <td>5.0</td>\n",
       "    </tr>\n",
       "    <tr>\n",
       "      <th>PHYS Library</th>\n",
       "      <td>10.0</td>\n",
       "      <td>5.0</td>\n",
       "    </tr>\n",
       "    <tr>\n",
       "      <th>SEAL Library</th>\n",
       "      <td>4.0</td>\n",
       "      <td>1.0</td>\n",
       "    </tr>\n",
       "    <tr>\n",
       "      <th>SOCR Library</th>\n",
       "      <td>12.0</td>\n",
       "      <td>5.0</td>\n",
       "    </tr>\n",
       "    <tr>\n",
       "      <th rowspan=\"22\" valign=\"top\">12/11/19 9:00 PM</th>\n",
       "      <th>AHC Library</th>\n",
       "      <td>2.0</td>\n",
       "      <td>4.0</td>\n",
       "    </tr>\n",
       "    <tr>\n",
       "      <th>ANTH Library</th>\n",
       "      <td>0.0</td>\n",
       "      <td>0.0</td>\n",
       "    </tr>\n",
       "    <tr>\n",
       "      <th>BANC Library</th>\n",
       "      <td>0.0</td>\n",
       "      <td>0.0</td>\n",
       "    </tr>\n",
       "    <tr>\n",
       "      <th>BIOS Library</th>\n",
       "      <td>23.0</td>\n",
       "      <td>44.0</td>\n",
       "    </tr>\n",
       "    <tr>\n",
       "      <th>CHEM Library</th>\n",
       "      <td>7.0</td>\n",
       "      <td>6.0</td>\n",
       "    </tr>\n",
       "    <tr>\n",
       "      <th>DOE Library</th>\n",
       "      <td>31.0</td>\n",
       "      <td>127.0</td>\n",
       "    </tr>\n",
       "    <tr>\n",
       "      <th>DOE STACKS</th>\n",
       "      <td>220.0</td>\n",
       "      <td>200.0</td>\n",
       "    </tr>\n",
       "    <tr>\n",
       "      <th>EAL Library</th>\n",
       "      <td>4.0</td>\n",
       "      <td>22.0</td>\n",
       "    </tr>\n",
       "    <tr>\n",
       "      <th>EART Library</th>\n",
       "      <td>0.0</td>\n",
       "      <td>0.0</td>\n",
       "    </tr>\n",
       "    <tr>\n",
       "      <th>ENGI Library</th>\n",
       "      <td>108.0</td>\n",
       "      <td>121.0</td>\n",
       "    </tr>\n",
       "    <tr>\n",
       "      <th>ENVI Library</th>\n",
       "      <td>65.0</td>\n",
       "      <td>67.0</td>\n",
       "    </tr>\n",
       "    <tr>\n",
       "      <th>GRDS Library</th>\n",
       "      <td>0.0</td>\n",
       "      <td>6.0</td>\n",
       "    </tr>\n",
       "    <tr>\n",
       "      <th>HAAS Library</th>\n",
       "      <td>51.0</td>\n",
       "      <td>78.0</td>\n",
       "    </tr>\n",
       "    <tr>\n",
       "      <th>MATH Library</th>\n",
       "      <td>0.0</td>\n",
       "      <td>0.0</td>\n",
       "    </tr>\n",
       "    <tr>\n",
       "      <th>MOFF Library</th>\n",
       "      <td>421.0</td>\n",
       "      <td>404.0</td>\n",
       "    </tr>\n",
       "    <tr>\n",
       "      <th>MORR Library</th>\n",
       "      <td>0.0</td>\n",
       "      <td>0.0</td>\n",
       "    </tr>\n",
       "    <tr>\n",
       "      <th>MUSI</th>\n",
       "      <td>0.0</td>\n",
       "      <td>0.0</td>\n",
       "    </tr>\n",
       "    <tr>\n",
       "      <th>NEWS Library</th>\n",
       "      <td>0.0</td>\n",
       "      <td>0.0</td>\n",
       "    </tr>\n",
       "    <tr>\n",
       "      <th>OPTO Library</th>\n",
       "      <td>0.0</td>\n",
       "      <td>6.0</td>\n",
       "    </tr>\n",
       "    <tr>\n",
       "      <th>PHYS Library</th>\n",
       "      <td>1.0</td>\n",
       "      <td>0.0</td>\n",
       "    </tr>\n",
       "    <tr>\n",
       "      <th>SEAL Library</th>\n",
       "      <td>0.0</td>\n",
       "      <td>0.0</td>\n",
       "    </tr>\n",
       "    <tr>\n",
       "      <th>SOCR Library</th>\n",
       "      <td>0.0</td>\n",
       "      <td>1.0</td>\n",
       "    </tr>\n",
       "  </tbody>\n",
       "</table>\n",
       "<p>528 rows × 2 columns</p>\n",
       "</div>"
      ],
      "text/plain": [
       "                                Entries  Exits\n",
       "Date-Time         Facility                    \n",
       "12/11/19 10:00 AM AHC Library       6.0    6.0\n",
       "                  ANTH Library     24.0   14.0\n",
       "                  BANC Library     29.0   47.0\n",
       "                  BIOS Library     86.0   39.0\n",
       "                  CHEM Library     45.0   27.0\n",
       "                  DOE Library     238.0   86.0\n",
       "                  DOE STACKS       83.0  147.0\n",
       "                  EAL Library      66.0   18.0\n",
       "                  EART Library     24.0   18.0\n",
       "                  ENGI Library     87.0   24.0\n",
       "                  ENVI Library    122.0   62.0\n",
       "                  GRDS Library     21.0    8.0\n",
       "                  HAAS Library    110.0   56.0\n",
       "                  MATH Library     35.0   32.0\n",
       "                  MOFF Library    322.0  149.0\n",
       "                  MORR Library     20.0   10.0\n",
       "                  MUSI             47.0   14.0\n",
       "                  NEWS Library     11.0    7.0\n",
       "                  OPTO Library     32.0   13.0\n",
       "                  PHYS Library     13.0    6.0\n",
       "                  SEAL Library      6.0    5.0\n",
       "                  SOCR Library     13.0    9.0\n",
       "12/11/19 10:00 PM AHC Library       0.0    0.0\n",
       "                  ANTH Library      0.0    0.0\n",
       "                  BANC Library      0.0    0.0\n",
       "                  BIOS Library      6.0   63.0\n",
       "                  CHEM Library      2.0    3.0\n",
       "                  DOE Library       2.0    2.0\n",
       "                  DOE STACKS      184.0  140.0\n",
       "                  EAL Library       1.0   37.0\n",
       "...                                 ...    ...\n",
       "12/11/19 9:00 AM  MOFF Library    297.0  109.0\n",
       "                  MORR Library      0.0    0.0\n",
       "                  MUSI             56.0   10.0\n",
       "                  NEWS Library      4.0    2.0\n",
       "                  OPTO Library      9.0    5.0\n",
       "                  PHYS Library     10.0    5.0\n",
       "                  SEAL Library      4.0    1.0\n",
       "                  SOCR Library     12.0    5.0\n",
       "12/11/19 9:00 PM  AHC Library       2.0    4.0\n",
       "                  ANTH Library      0.0    0.0\n",
       "                  BANC Library      0.0    0.0\n",
       "                  BIOS Library     23.0   44.0\n",
       "                  CHEM Library      7.0    6.0\n",
       "                  DOE Library      31.0  127.0\n",
       "                  DOE STACKS      220.0  200.0\n",
       "                  EAL Library       4.0   22.0\n",
       "                  EART Library      0.0    0.0\n",
       "                  ENGI Library    108.0  121.0\n",
       "                  ENVI Library     65.0   67.0\n",
       "                  GRDS Library      0.0    6.0\n",
       "                  HAAS Library     51.0   78.0\n",
       "                  MATH Library      0.0    0.0\n",
       "                  MOFF Library    421.0  404.0\n",
       "                  MORR Library      0.0    0.0\n",
       "                  MUSI              0.0    0.0\n",
       "                  NEWS Library      0.0    0.0\n",
       "                  OPTO Library      0.0    6.0\n",
       "                  PHYS Library      1.0    0.0\n",
       "                  SEAL Library      0.0    0.0\n",
       "                  SOCR Library      0.0    1.0\n",
       "\n",
       "[528 rows x 2 columns]"
      ]
     },
     "execution_count": 61,
     "metadata": {},
     "output_type": "execute_result"
    }
   ],
   "source": [
    "total_lib_traffic = lib_traffic.groupby([\"Date-Time\", \"Facility\"]).sum()\n",
    "total_lib_traffic"
   ]
  },
  {
   "cell_type": "markdown",
   "metadata": {},
   "source": [
    "Here, the first index is all the unique date-times, and the second index is a repeated list of all the unique libraries that have a record for that date-time. So the number of rows is equal to (# unique date-times) * (# unique facilities). \n",
    "\n",
    "We can interpret the first row as \"On 12/11/19, in the hour of 9:00am-10:00am, 6 people entered AHC Library.\"\n",
    "\n",
    "#### Now we'll get into some Numpy and Pandas exercises!"
   ]
  },
  {
   "cell_type": "markdown",
   "metadata": {},
   "source": [
    "## Exercise # 1 <a class=\"anchor\" id=\"ex1\"></a>\n",
    "Calculate the minimum, maximum, average, and total number of people that entered any library.\n",
    "\n",
    "*Hint:* We can get a NumPy array version of any column by using the [Series](#series) syntax."
   ]
  },
  {
   "cell_type": "code",
   "execution_count": 62,
   "metadata": {},
   "outputs": [
    {
     "data": {
      "text/plain": [
       "0.0"
      ]
     },
     "execution_count": 62,
     "metadata": {},
     "output_type": "execute_result"
    }
   ],
   "source": [
    "np.min(lib_traffic['Entries'])"
   ]
  },
  {
   "cell_type": "code",
   "execution_count": 63,
   "metadata": {},
   "outputs": [
    {
     "data": {
      "text/plain": [
       "405.0"
      ]
     },
     "execution_count": 63,
     "metadata": {},
     "output_type": "execute_result"
    }
   ],
   "source": [
    "np.max(lib_traffic['Entries'])"
   ]
  },
  {
   "cell_type": "code",
   "execution_count": 64,
   "metadata": {},
   "outputs": [
    {
     "data": {
      "text/plain": [
       "33.13172043010753"
      ]
     },
     "execution_count": 64,
     "metadata": {},
     "output_type": "execute_result"
    }
   ],
   "source": [
    "np.mean(lib_traffic['Entries'])"
   ]
  },
  {
   "cell_type": "code",
   "execution_count": 65,
   "metadata": {},
   "outputs": [
    {
     "data": {
      "text/plain": [
       "24650.0"
      ]
     },
     "execution_count": 65,
     "metadata": {},
     "output_type": "execute_result"
    }
   ],
   "source": [
    "np.sum(lib_traffic['Entries'])"
   ]
  },
  {
   "cell_type": "markdown",
   "metadata": {},
   "source": [
    "## Exercise #2\n",
    "Calculate the net sum number of people that entered each library at each hour.\n",
    "\n",
    "*Hint:* `net sum entered` = `Entries` - `Exits`   \n",
    "*Hint2:* The sum of the resulting array should be 42."
   ]
  },
  {
   "cell_type": "code",
   "execution_count": 66,
   "metadata": {},
   "outputs": [
    {
     "data": {
      "text/plain": [
       "0        0.0\n",
       "1        0.0\n",
       "2        0.0\n",
       "3        0.0\n",
       "4        0.0\n",
       "5        0.0\n",
       "6        0.0\n",
       "7       -1.0\n",
       "8        0.0\n",
       "9        1.0\n",
       "10     114.0\n",
       "11       4.0\n",
       "12       0.0\n",
       "13       0.0\n",
       "14       0.0\n",
       "15     -67.0\n",
       "16     -23.0\n",
       "17       0.0\n",
       "18     -26.0\n",
       "19      -2.0\n",
       "20       0.0\n",
       "21     108.0\n",
       "22    -211.0\n",
       "23     -87.0\n",
       "24       0.0\n",
       "25       0.0\n",
       "26       0.0\n",
       "27       0.0\n",
       "28      -1.0\n",
       "29       0.0\n",
       "       ...  \n",
       "969      NaN\n",
       "970      NaN\n",
       "971      NaN\n",
       "972      NaN\n",
       "973      NaN\n",
       "974      NaN\n",
       "975      NaN\n",
       "976      NaN\n",
       "977      NaN\n",
       "978      NaN\n",
       "979      NaN\n",
       "980      NaN\n",
       "981      NaN\n",
       "982      NaN\n",
       "983      NaN\n",
       "984      NaN\n",
       "985      NaN\n",
       "986      NaN\n",
       "987      NaN\n",
       "988      NaN\n",
       "989      NaN\n",
       "990      NaN\n",
       "991      NaN\n",
       "992      NaN\n",
       "993      NaN\n",
       "994      NaN\n",
       "995      NaN\n",
       "996      NaN\n",
       "997      NaN\n",
       "998      NaN\n",
       "Length: 999, dtype: float64"
      ]
     },
     "execution_count": 66,
     "metadata": {},
     "output_type": "execute_result"
    }
   ],
   "source": [
    "lib_traffic['Entries'] - lib_traffic['Exits']"
   ]
  },
  {
   "cell_type": "markdown",
   "metadata": {},
   "source": [
    "## Exercise # 3 <a class=\"anchor\" id=\"ex3\"></a>\n",
    "Create a dataframe from `lib_traffic` that has the total number of people that enter and exit any library at each time of the day.\n",
    "\n",
    "[Jump to Filtering Syntax](#filtering)  \n",
    "[Jump to Groupby Syntax](#grouping)"
   ]
  },
  {
   "cell_type": "code",
   "execution_count": 67,
   "metadata": {},
   "outputs": [
    {
     "data": {
      "text/html": [
       "<div>\n",
       "<style scoped>\n",
       "    .dataframe tbody tr th:only-of-type {\n",
       "        vertical-align: middle;\n",
       "    }\n",
       "\n",
       "    .dataframe tbody tr th {\n",
       "        vertical-align: top;\n",
       "    }\n",
       "\n",
       "    .dataframe thead th {\n",
       "        text-align: right;\n",
       "    }\n",
       "</style>\n",
       "<table border=\"1\" class=\"dataframe\">\n",
       "  <thead>\n",
       "    <tr style=\"text-align: right;\">\n",
       "      <th></th>\n",
       "      <th>Entries</th>\n",
       "      <th>Exits</th>\n",
       "    </tr>\n",
       "    <tr>\n",
       "      <th>Date-Time</th>\n",
       "      <th></th>\n",
       "      <th></th>\n",
       "    </tr>\n",
       "  </thead>\n",
       "  <tbody>\n",
       "    <tr>\n",
       "      <th>12/11/19 10:00 AM</th>\n",
       "      <td>1440.0</td>\n",
       "      <td>797.0</td>\n",
       "    </tr>\n",
       "    <tr>\n",
       "      <th>12/11/19 10:00 PM</th>\n",
       "      <td>631.0</td>\n",
       "      <td>836.0</td>\n",
       "    </tr>\n",
       "    <tr>\n",
       "      <th>12/11/19 11:00 AM</th>\n",
       "      <td>1710.0</td>\n",
       "      <td>1393.0</td>\n",
       "    </tr>\n",
       "    <tr>\n",
       "      <th>12/11/19 11:00 PM</th>\n",
       "      <td>463.0</td>\n",
       "      <td>703.0</td>\n",
       "    </tr>\n",
       "    <tr>\n",
       "      <th>12/11/19 12:00 AM</th>\n",
       "      <td>371.0</td>\n",
       "      <td>562.0</td>\n",
       "    </tr>\n",
       "    <tr>\n",
       "      <th>12/11/19 12:00 PM</th>\n",
       "      <td>2178.0</td>\n",
       "      <td>1992.0</td>\n",
       "    </tr>\n",
       "    <tr>\n",
       "      <th>12/11/19 1:00 AM</th>\n",
       "      <td>176.0</td>\n",
       "      <td>264.0</td>\n",
       "    </tr>\n",
       "    <tr>\n",
       "      <th>12/11/19 1:00 PM</th>\n",
       "      <td>2433.0</td>\n",
       "      <td>2100.0</td>\n",
       "    </tr>\n",
       "    <tr>\n",
       "      <th>12/11/19 2:00 AM</th>\n",
       "      <td>126.0</td>\n",
       "      <td>208.0</td>\n",
       "    </tr>\n",
       "    <tr>\n",
       "      <th>12/11/19 2:00 PM</th>\n",
       "      <td>2649.0</td>\n",
       "      <td>2286.0</td>\n",
       "    </tr>\n",
       "    <tr>\n",
       "      <th>12/11/19 3:00 AM</th>\n",
       "      <td>62.0</td>\n",
       "      <td>131.0</td>\n",
       "    </tr>\n",
       "    <tr>\n",
       "      <th>12/11/19 3:00 PM</th>\n",
       "      <td>2632.0</td>\n",
       "      <td>2538.0</td>\n",
       "    </tr>\n",
       "    <tr>\n",
       "      <th>12/11/19 4:00 AM</th>\n",
       "      <td>29.0</td>\n",
       "      <td>45.0</td>\n",
       "    </tr>\n",
       "    <tr>\n",
       "      <th>12/11/19 4:00 PM</th>\n",
       "      <td>2023.0</td>\n",
       "      <td>2351.0</td>\n",
       "    </tr>\n",
       "    <tr>\n",
       "      <th>12/11/19 5:00 AM</th>\n",
       "      <td>35.0</td>\n",
       "      <td>46.0</td>\n",
       "    </tr>\n",
       "    <tr>\n",
       "      <th>12/11/19 5:00 PM</th>\n",
       "      <td>1556.0</td>\n",
       "      <td>2266.0</td>\n",
       "    </tr>\n",
       "    <tr>\n",
       "      <th>12/11/19 6:00 AM</th>\n",
       "      <td>59.0</td>\n",
       "      <td>51.0</td>\n",
       "    </tr>\n",
       "    <tr>\n",
       "      <th>12/11/19 6:00 PM</th>\n",
       "      <td>1329.0</td>\n",
       "      <td>1830.0</td>\n",
       "    </tr>\n",
       "    <tr>\n",
       "      <th>12/11/19 7:00 AM</th>\n",
       "      <td>104.0</td>\n",
       "      <td>81.0</td>\n",
       "    </tr>\n",
       "    <tr>\n",
       "      <th>12/11/19 7:00 PM</th>\n",
       "      <td>1058.0</td>\n",
       "      <td>1354.0</td>\n",
       "    </tr>\n",
       "    <tr>\n",
       "      <th>12/11/19 8:00 AM</th>\n",
       "      <td>349.0</td>\n",
       "      <td>130.0</td>\n",
       "    </tr>\n",
       "    <tr>\n",
       "      <th>12/11/19 8:00 PM</th>\n",
       "      <td>1025.0</td>\n",
       "      <td>1057.0</td>\n",
       "    </tr>\n",
       "    <tr>\n",
       "      <th>12/11/19 9:00 AM</th>\n",
       "      <td>1279.0</td>\n",
       "      <td>501.0</td>\n",
       "    </tr>\n",
       "    <tr>\n",
       "      <th>12/11/19 9:00 PM</th>\n",
       "      <td>933.0</td>\n",
       "      <td>1086.0</td>\n",
       "    </tr>\n",
       "  </tbody>\n",
       "</table>\n",
       "</div>"
      ],
      "text/plain": [
       "                   Entries   Exits\n",
       "Date-Time                         \n",
       "12/11/19 10:00 AM   1440.0   797.0\n",
       "12/11/19 10:00 PM    631.0   836.0\n",
       "12/11/19 11:00 AM   1710.0  1393.0\n",
       "12/11/19 11:00 PM    463.0   703.0\n",
       "12/11/19 12:00 AM    371.0   562.0\n",
       "12/11/19 12:00 PM   2178.0  1992.0\n",
       "12/11/19 1:00 AM     176.0   264.0\n",
       "12/11/19 1:00 PM    2433.0  2100.0\n",
       "12/11/19 2:00 AM     126.0   208.0\n",
       "12/11/19 2:00 PM    2649.0  2286.0\n",
       "12/11/19 3:00 AM      62.0   131.0\n",
       "12/11/19 3:00 PM    2632.0  2538.0\n",
       "12/11/19 4:00 AM      29.0    45.0\n",
       "12/11/19 4:00 PM    2023.0  2351.0\n",
       "12/11/19 5:00 AM      35.0    46.0\n",
       "12/11/19 5:00 PM    1556.0  2266.0\n",
       "12/11/19 6:00 AM      59.0    51.0\n",
       "12/11/19 6:00 PM    1329.0  1830.0\n",
       "12/11/19 7:00 AM     104.0    81.0\n",
       "12/11/19 7:00 PM    1058.0  1354.0\n",
       "12/11/19 8:00 AM     349.0   130.0\n",
       "12/11/19 8:00 PM    1025.0  1057.0\n",
       "12/11/19 9:00 AM    1279.0   501.0\n",
       "12/11/19 9:00 PM     933.0  1086.0"
      ]
     },
     "execution_count": 67,
     "metadata": {},
     "output_type": "execute_result"
    }
   ],
   "source": [
    "lib_traffic.groupby('Date-Time').sum()"
   ]
  },
  {
   "cell_type": "markdown",
   "metadata": {},
   "source": [
    "## Exercise #4\n",
    "Create the same dataframe as above, but instead of any library, look only at the Engineering Library."
   ]
  },
  {
   "cell_type": "code",
   "execution_count": 68,
   "metadata": {},
   "outputs": [
    {
     "data": {
      "text/html": [
       "<div>\n",
       "<style scoped>\n",
       "    .dataframe tbody tr th:only-of-type {\n",
       "        vertical-align: middle;\n",
       "    }\n",
       "\n",
       "    .dataframe tbody tr th {\n",
       "        vertical-align: top;\n",
       "    }\n",
       "\n",
       "    .dataframe thead th {\n",
       "        text-align: right;\n",
       "    }\n",
       "</style>\n",
       "<table border=\"1\" class=\"dataframe\">\n",
       "  <thead>\n",
       "    <tr style=\"text-align: right;\">\n",
       "      <th></th>\n",
       "      <th>Entries</th>\n",
       "      <th>Exits</th>\n",
       "    </tr>\n",
       "    <tr>\n",
       "      <th>Date-Time</th>\n",
       "      <th></th>\n",
       "      <th></th>\n",
       "    </tr>\n",
       "  </thead>\n",
       "  <tbody>\n",
       "    <tr>\n",
       "      <th>12/11/19 10:00 AM</th>\n",
       "      <td>87.0</td>\n",
       "      <td>24.0</td>\n",
       "    </tr>\n",
       "    <tr>\n",
       "      <th>12/11/19 10:00 PM</th>\n",
       "      <td>70.0</td>\n",
       "      <td>80.0</td>\n",
       "    </tr>\n",
       "    <tr>\n",
       "      <th>12/11/19 11:00 AM</th>\n",
       "      <td>123.0</td>\n",
       "      <td>99.0</td>\n",
       "    </tr>\n",
       "    <tr>\n",
       "      <th>12/11/19 11:00 PM</th>\n",
       "      <td>24.0</td>\n",
       "      <td>97.0</td>\n",
       "    </tr>\n",
       "    <tr>\n",
       "      <th>12/11/19 12:00 AM</th>\n",
       "      <td>4.0</td>\n",
       "      <td>71.0</td>\n",
       "    </tr>\n",
       "    <tr>\n",
       "      <th>12/11/19 12:00 PM</th>\n",
       "      <td>133.0</td>\n",
       "      <td>112.0</td>\n",
       "    </tr>\n",
       "    <tr>\n",
       "      <th>12/11/19 1:00 AM</th>\n",
       "      <td>0.0</td>\n",
       "      <td>0.0</td>\n",
       "    </tr>\n",
       "    <tr>\n",
       "      <th>12/11/19 1:00 PM</th>\n",
       "      <td>177.0</td>\n",
       "      <td>138.0</td>\n",
       "    </tr>\n",
       "    <tr>\n",
       "      <th>12/11/19 2:00 AM</th>\n",
       "      <td>0.0</td>\n",
       "      <td>0.0</td>\n",
       "    </tr>\n",
       "    <tr>\n",
       "      <th>12/11/19 2:00 PM</th>\n",
       "      <td>245.0</td>\n",
       "      <td>154.0</td>\n",
       "    </tr>\n",
       "    <tr>\n",
       "      <th>12/11/19 3:00 AM</th>\n",
       "      <td>0.0</td>\n",
       "      <td>0.0</td>\n",
       "    </tr>\n",
       "    <tr>\n",
       "      <th>12/11/19 3:00 PM</th>\n",
       "      <td>244.0</td>\n",
       "      <td>240.0</td>\n",
       "    </tr>\n",
       "    <tr>\n",
       "      <th>12/11/19 4:00 AM</th>\n",
       "      <td>0.0</td>\n",
       "      <td>0.0</td>\n",
       "    </tr>\n",
       "    <tr>\n",
       "      <th>12/11/19 4:00 PM</th>\n",
       "      <td>181.0</td>\n",
       "      <td>189.0</td>\n",
       "    </tr>\n",
       "    <tr>\n",
       "      <th>12/11/19 5:00 AM</th>\n",
       "      <td>0.0</td>\n",
       "      <td>0.0</td>\n",
       "    </tr>\n",
       "    <tr>\n",
       "      <th>12/11/19 5:00 PM</th>\n",
       "      <td>147.0</td>\n",
       "      <td>210.0</td>\n",
       "    </tr>\n",
       "    <tr>\n",
       "      <th>12/11/19 6:00 AM</th>\n",
       "      <td>0.0</td>\n",
       "      <td>0.0</td>\n",
       "    </tr>\n",
       "    <tr>\n",
       "      <th>12/11/19 6:00 PM</th>\n",
       "      <td>120.0</td>\n",
       "      <td>160.0</td>\n",
       "    </tr>\n",
       "    <tr>\n",
       "      <th>12/11/19 7:00 AM</th>\n",
       "      <td>0.0</td>\n",
       "      <td>0.0</td>\n",
       "    </tr>\n",
       "    <tr>\n",
       "      <th>12/11/19 7:00 PM</th>\n",
       "      <td>107.0</td>\n",
       "      <td>123.0</td>\n",
       "    </tr>\n",
       "    <tr>\n",
       "      <th>12/11/19 8:00 AM</th>\n",
       "      <td>2.0</td>\n",
       "      <td>4.0</td>\n",
       "    </tr>\n",
       "    <tr>\n",
       "      <th>12/11/19 8:00 PM</th>\n",
       "      <td>109.0</td>\n",
       "      <td>76.0</td>\n",
       "    </tr>\n",
       "    <tr>\n",
       "      <th>12/11/19 9:00 AM</th>\n",
       "      <td>51.0</td>\n",
       "      <td>14.0</td>\n",
       "    </tr>\n",
       "    <tr>\n",
       "      <th>12/11/19 9:00 PM</th>\n",
       "      <td>108.0</td>\n",
       "      <td>121.0</td>\n",
       "    </tr>\n",
       "  </tbody>\n",
       "</table>\n",
       "</div>"
      ],
      "text/plain": [
       "                   Entries  Exits\n",
       "Date-Time                        \n",
       "12/11/19 10:00 AM     87.0   24.0\n",
       "12/11/19 10:00 PM     70.0   80.0\n",
       "12/11/19 11:00 AM    123.0   99.0\n",
       "12/11/19 11:00 PM     24.0   97.0\n",
       "12/11/19 12:00 AM      4.0   71.0\n",
       "12/11/19 12:00 PM    133.0  112.0\n",
       "12/11/19 1:00 AM       0.0    0.0\n",
       "12/11/19 1:00 PM     177.0  138.0\n",
       "12/11/19 2:00 AM       0.0    0.0\n",
       "12/11/19 2:00 PM     245.0  154.0\n",
       "12/11/19 3:00 AM       0.0    0.0\n",
       "12/11/19 3:00 PM     244.0  240.0\n",
       "12/11/19 4:00 AM       0.0    0.0\n",
       "12/11/19 4:00 PM     181.0  189.0\n",
       "12/11/19 5:00 AM       0.0    0.0\n",
       "12/11/19 5:00 PM     147.0  210.0\n",
       "12/11/19 6:00 AM       0.0    0.0\n",
       "12/11/19 6:00 PM     120.0  160.0\n",
       "12/11/19 7:00 AM       0.0    0.0\n",
       "12/11/19 7:00 PM     107.0  123.0\n",
       "12/11/19 8:00 AM       2.0    4.0\n",
       "12/11/19 8:00 PM     109.0   76.0\n",
       "12/11/19 9:00 AM      51.0   14.0\n",
       "12/11/19 9:00 PM     108.0  121.0"
      ]
     },
     "execution_count": 68,
     "metadata": {},
     "output_type": "execute_result"
    }
   ],
   "source": [
    "eng_lib_traffic = lib_traffic[lib_traffic['Facility'] == 'ENGI Library']\n",
    "eng_lib_traffic.groupby('Date-Time').sum()"
   ]
  },
  {
   "cell_type": "markdown",
   "metadata": {},
   "source": [
    "## Exercise # 5\n",
    "Create a dataframe that has the maximum number of people that enter and exit each entrance. "
   ]
  },
  {
   "cell_type": "code",
   "execution_count": 69,
   "metadata": {},
   "outputs": [
    {
     "data": {
      "text/html": [
       "<div>\n",
       "<style scoped>\n",
       "    .dataframe tbody tr th:only-of-type {\n",
       "        vertical-align: middle;\n",
       "    }\n",
       "\n",
       "    .dataframe tbody tr th {\n",
       "        vertical-align: top;\n",
       "    }\n",
       "\n",
       "    .dataframe thead th {\n",
       "        text-align: right;\n",
       "    }\n",
       "</style>\n",
       "<table border=\"1\" class=\"dataframe\">\n",
       "  <thead>\n",
       "    <tr style=\"text-align: right;\">\n",
       "      <th></th>\n",
       "      <th>Date-Time</th>\n",
       "      <th>Region</th>\n",
       "      <th>Facility</th>\n",
       "      <th>Entries</th>\n",
       "      <th>Exits</th>\n",
       "    </tr>\n",
       "    <tr>\n",
       "      <th>Entrance</th>\n",
       "      <th></th>\n",
       "      <th></th>\n",
       "      <th></th>\n",
       "      <th></th>\n",
       "      <th></th>\n",
       "    </tr>\n",
       "  </thead>\n",
       "  <tbody>\n",
       "    <tr>\n",
       "      <th>AHC Back</th>\n",
       "      <td>12/11/19 9:00 PM</td>\n",
       "      <td>UC Berkeley</td>\n",
       "      <td>AHC Library</td>\n",
       "      <td>10.0</td>\n",
       "      <td>9.0</td>\n",
       "    </tr>\n",
       "    <tr>\n",
       "      <th>AHC Front</th>\n",
       "      <td>12/11/19 9:00 PM</td>\n",
       "      <td>UC Berkeley</td>\n",
       "      <td>AHC Library</td>\n",
       "      <td>17.0</td>\n",
       "      <td>15.0</td>\n",
       "    </tr>\n",
       "    <tr>\n",
       "      <th>ANTH</th>\n",
       "      <td>12/11/19 9:00 PM</td>\n",
       "      <td>UC Berkeley</td>\n",
       "      <td>ANTH Library</td>\n",
       "      <td>60.0</td>\n",
       "      <td>70.0</td>\n",
       "    </tr>\n",
       "    <tr>\n",
       "      <th>Bancroft</th>\n",
       "      <td>12/11/19 9:00 PM</td>\n",
       "      <td>UC Berkeley</td>\n",
       "      <td>BANC Library</td>\n",
       "      <td>86.0</td>\n",
       "      <td>96.0</td>\n",
       "    </tr>\n",
       "    <tr>\n",
       "      <th>CHEM</th>\n",
       "      <td>12/11/19 9:00 PM</td>\n",
       "      <td>UC Berkeley</td>\n",
       "      <td>CHEM Library</td>\n",
       "      <td>78.0</td>\n",
       "      <td>75.0</td>\n",
       "    </tr>\n",
       "    <tr>\n",
       "      <th>Doe North</th>\n",
       "      <td>12/11/19 9:00 PM</td>\n",
       "      <td>UC Berkeley</td>\n",
       "      <td>DOE Library</td>\n",
       "      <td>243.0</td>\n",
       "      <td>235.0</td>\n",
       "    </tr>\n",
       "    <tr>\n",
       "      <th>Doe South</th>\n",
       "      <td>12/11/19 9:00 PM</td>\n",
       "      <td>UC Berkeley</td>\n",
       "      <td>DOE Library</td>\n",
       "      <td>158.0</td>\n",
       "      <td>186.0</td>\n",
       "    </tr>\n",
       "    <tr>\n",
       "      <th>EAL</th>\n",
       "      <td>12/11/19 9:00 PM</td>\n",
       "      <td>UC Berkeley</td>\n",
       "      <td>EAL Library</td>\n",
       "      <td>94.0</td>\n",
       "      <td>72.0</td>\n",
       "    </tr>\n",
       "    <tr>\n",
       "      <th>ENGI</th>\n",
       "      <td>12/11/19 9:00 PM</td>\n",
       "      <td>UC Berkeley</td>\n",
       "      <td>ENGI Library</td>\n",
       "      <td>245.0</td>\n",
       "      <td>240.0</td>\n",
       "    </tr>\n",
       "    <tr>\n",
       "      <th>ENVI</th>\n",
       "      <td>12/11/19 9:00 PM</td>\n",
       "      <td>UC Berkeley</td>\n",
       "      <td>ENVI Library</td>\n",
       "      <td>152.0</td>\n",
       "      <td>144.0</td>\n",
       "    </tr>\n",
       "    <tr>\n",
       "      <th>Earth North</th>\n",
       "      <td>12/11/19 9:00 PM</td>\n",
       "      <td>UC Berkeley</td>\n",
       "      <td>EART Library</td>\n",
       "      <td>26.0</td>\n",
       "      <td>22.0</td>\n",
       "    </tr>\n",
       "    <tr>\n",
       "      <th>Earth South</th>\n",
       "      <td>12/11/19 9:00 PM</td>\n",
       "      <td>UC Berkeley</td>\n",
       "      <td>EART Library</td>\n",
       "      <td>17.0</td>\n",
       "      <td>22.0</td>\n",
       "    </tr>\n",
       "    <tr>\n",
       "      <th>GRAD</th>\n",
       "      <td>12/11/19 9:00 PM</td>\n",
       "      <td>UC Berkeley</td>\n",
       "      <td>GRDS Library</td>\n",
       "      <td>39.0</td>\n",
       "      <td>30.0</td>\n",
       "    </tr>\n",
       "    <tr>\n",
       "      <th>HAAS 2F</th>\n",
       "      <td>12/11/19 9:00 PM</td>\n",
       "      <td>UC Berkeley</td>\n",
       "      <td>HAAS Library</td>\n",
       "      <td>148.0</td>\n",
       "      <td>137.0</td>\n",
       "    </tr>\n",
       "    <tr>\n",
       "      <th>HAAS 3F</th>\n",
       "      <td>12/11/19 9:00 PM</td>\n",
       "      <td>UC Berkeley</td>\n",
       "      <td>HAAS Library</td>\n",
       "      <td>67.0</td>\n",
       "      <td>80.0</td>\n",
       "    </tr>\n",
       "    <tr>\n",
       "      <th>MATH</th>\n",
       "      <td>12/11/19 9:00 PM</td>\n",
       "      <td>UC Berkeley</td>\n",
       "      <td>MATH Library</td>\n",
       "      <td>60.0</td>\n",
       "      <td>68.0</td>\n",
       "    </tr>\n",
       "    <tr>\n",
       "      <th>MUSI</th>\n",
       "      <td>12/11/19 9:00 PM</td>\n",
       "      <td>UC Berkeley</td>\n",
       "      <td>MUSI</td>\n",
       "      <td>94.0</td>\n",
       "      <td>73.0</td>\n",
       "    </tr>\n",
       "    <tr>\n",
       "      <th>Moffit Corridor</th>\n",
       "      <td>12/11/19 9:00 PM</td>\n",
       "      <td>UC Berkeley</td>\n",
       "      <td>DOE STACKS</td>\n",
       "      <td>196.0</td>\n",
       "      <td>205.0</td>\n",
       "    </tr>\n",
       "    <tr>\n",
       "      <th>Moffit Entry</th>\n",
       "      <td>12/11/19 9:00 PM</td>\n",
       "      <td>UC Berkeley</td>\n",
       "      <td>MOFF Library</td>\n",
       "      <td>405.0</td>\n",
       "      <td>13.0</td>\n",
       "    </tr>\n",
       "    <tr>\n",
       "      <th>Moffit Exit</th>\n",
       "      <td>12/11/19 9:00 PM</td>\n",
       "      <td>UC Berkeley</td>\n",
       "      <td>MOFF Library</td>\n",
       "      <td>3.0</td>\n",
       "      <td>300.0</td>\n",
       "    </tr>\n",
       "    <tr>\n",
       "      <th>Moffitt 4th</th>\n",
       "      <td>12/11/19 9:00 PM</td>\n",
       "      <td>UC Berkeley</td>\n",
       "      <td>MOFF Library</td>\n",
       "      <td>300.0</td>\n",
       "      <td>227.0</td>\n",
       "    </tr>\n",
       "    <tr>\n",
       "      <th>Morrison</th>\n",
       "      <td>12/11/19 9:00 PM</td>\n",
       "      <td>UC Berkeley</td>\n",
       "      <td>MORR Library</td>\n",
       "      <td>37.0</td>\n",
       "      <td>36.0</td>\n",
       "    </tr>\n",
       "    <tr>\n",
       "      <th>News</th>\n",
       "      <td>12/11/19 9:00 PM</td>\n",
       "      <td>UC Berkeley</td>\n",
       "      <td>NEWS Library</td>\n",
       "      <td>16.0</td>\n",
       "      <td>16.0</td>\n",
       "    </tr>\n",
       "    <tr>\n",
       "      <th>OPTO</th>\n",
       "      <td>12/11/19 9:00 PM</td>\n",
       "      <td>UC Berkeley</td>\n",
       "      <td>OPTO Library</td>\n",
       "      <td>36.0</td>\n",
       "      <td>41.0</td>\n",
       "    </tr>\n",
       "    <tr>\n",
       "      <th>PHYS</th>\n",
       "      <td>12/11/19 9:00 PM</td>\n",
       "      <td>UC Berkeley</td>\n",
       "      <td>PHYS Library</td>\n",
       "      <td>21.0</td>\n",
       "      <td>26.0</td>\n",
       "    </tr>\n",
       "    <tr>\n",
       "      <th>SEAL</th>\n",
       "      <td>12/11/19 9:00 PM</td>\n",
       "      <td>UC Berkeley</td>\n",
       "      <td>SEAL Library</td>\n",
       "      <td>15.0</td>\n",
       "      <td>14.0</td>\n",
       "    </tr>\n",
       "    <tr>\n",
       "      <th>SOCR</th>\n",
       "      <td>12/11/19 9:00 PM</td>\n",
       "      <td>UC Berkeley</td>\n",
       "      <td>SOCR Library</td>\n",
       "      <td>26.0</td>\n",
       "      <td>22.0</td>\n",
       "    </tr>\n",
       "    <tr>\n",
       "      <th>Stacks East</th>\n",
       "      <td>12/11/19 9:00 PM</td>\n",
       "      <td>UC Berkeley</td>\n",
       "      <td>DOE STACKS</td>\n",
       "      <td>112.0</td>\n",
       "      <td>145.0</td>\n",
       "    </tr>\n",
       "    <tr>\n",
       "      <th>TEST</th>\n",
       "      <td>12/11/19 9:00 PM</td>\n",
       "      <td>NaN</td>\n",
       "      <td>NaN</td>\n",
       "      <td>0.0</td>\n",
       "      <td>0.0</td>\n",
       "    </tr>\n",
       "    <tr>\n",
       "      <th>VLSB1</th>\n",
       "      <td>12/11/19 9:00 PM</td>\n",
       "      <td>UC Berkeley</td>\n",
       "      <td>BIOS Library</td>\n",
       "      <td>106.0</td>\n",
       "      <td>110.0</td>\n",
       "    </tr>\n",
       "    <tr>\n",
       "      <th>VLSB2</th>\n",
       "      <td>12/11/19 9:00 PM</td>\n",
       "      <td>UC Berkeley</td>\n",
       "      <td>BIOS Library</td>\n",
       "      <td>108.0</td>\n",
       "      <td>74.0</td>\n",
       "    </tr>\n",
       "  </tbody>\n",
       "</table>\n",
       "</div>"
      ],
      "text/plain": [
       "                        Date-Time       Region      Facility  Entries  Exits\n",
       "Entrance                                                                    \n",
       "AHC Back         12/11/19 9:00 PM  UC Berkeley   AHC Library     10.0    9.0\n",
       "AHC Front        12/11/19 9:00 PM  UC Berkeley   AHC Library     17.0   15.0\n",
       "ANTH             12/11/19 9:00 PM  UC Berkeley  ANTH Library     60.0   70.0\n",
       "Bancroft         12/11/19 9:00 PM  UC Berkeley  BANC Library     86.0   96.0\n",
       "CHEM             12/11/19 9:00 PM  UC Berkeley  CHEM Library     78.0   75.0\n",
       "Doe North        12/11/19 9:00 PM  UC Berkeley   DOE Library    243.0  235.0\n",
       "Doe South        12/11/19 9:00 PM  UC Berkeley   DOE Library    158.0  186.0\n",
       "EAL              12/11/19 9:00 PM  UC Berkeley   EAL Library     94.0   72.0\n",
       "ENGI             12/11/19 9:00 PM  UC Berkeley  ENGI Library    245.0  240.0\n",
       "ENVI             12/11/19 9:00 PM  UC Berkeley  ENVI Library    152.0  144.0\n",
       "Earth North      12/11/19 9:00 PM  UC Berkeley  EART Library     26.0   22.0\n",
       "Earth South      12/11/19 9:00 PM  UC Berkeley  EART Library     17.0   22.0\n",
       "GRAD             12/11/19 9:00 PM  UC Berkeley  GRDS Library     39.0   30.0\n",
       "HAAS 2F          12/11/19 9:00 PM  UC Berkeley  HAAS Library    148.0  137.0\n",
       "HAAS 3F          12/11/19 9:00 PM  UC Berkeley  HAAS Library     67.0   80.0\n",
       "MATH             12/11/19 9:00 PM  UC Berkeley  MATH Library     60.0   68.0\n",
       "MUSI             12/11/19 9:00 PM  UC Berkeley          MUSI     94.0   73.0\n",
       "Moffit Corridor  12/11/19 9:00 PM  UC Berkeley    DOE STACKS    196.0  205.0\n",
       "Moffit Entry     12/11/19 9:00 PM  UC Berkeley  MOFF Library    405.0   13.0\n",
       "Moffit Exit      12/11/19 9:00 PM  UC Berkeley  MOFF Library      3.0  300.0\n",
       "Moffitt 4th      12/11/19 9:00 PM  UC Berkeley  MOFF Library    300.0  227.0\n",
       "Morrison         12/11/19 9:00 PM  UC Berkeley  MORR Library     37.0   36.0\n",
       "News             12/11/19 9:00 PM  UC Berkeley  NEWS Library     16.0   16.0\n",
       "OPTO             12/11/19 9:00 PM  UC Berkeley  OPTO Library     36.0   41.0\n",
       "PHYS             12/11/19 9:00 PM  UC Berkeley  PHYS Library     21.0   26.0\n",
       "SEAL             12/11/19 9:00 PM  UC Berkeley  SEAL Library     15.0   14.0\n",
       "SOCR             12/11/19 9:00 PM  UC Berkeley  SOCR Library     26.0   22.0\n",
       "Stacks East      12/11/19 9:00 PM  UC Berkeley    DOE STACKS    112.0  145.0\n",
       "TEST             12/11/19 9:00 PM          NaN           NaN      0.0    0.0\n",
       "VLSB1            12/11/19 9:00 PM  UC Berkeley  BIOS Library    106.0  110.0\n",
       "VLSB2            12/11/19 9:00 PM  UC Berkeley  BIOS Library    108.0   74.0"
      ]
     },
     "execution_count": 69,
     "metadata": {},
     "output_type": "execute_result"
    }
   ],
   "source": [
    "lib_traffic.groupby('Entrance').max()"
   ]
  },
  {
   "cell_type": "markdown",
   "metadata": {},
   "source": [
    "## BREAK"
   ]
  },
  {
   "cell_type": "markdown",
   "metadata": {},
   "source": [
    "# Best Practices For Creating Visualizations"
   ]
  },
  {
   "cell_type": "markdown",
   "metadata": {},
   "source": [
    "Visualizations are the visual representation of information that help us:\n",
    "\n",
    "   - Aid understanding\n",
    "   - Explain and explore\n",
    "   - Reinforce cognition\n",
    "    \n",
    "    \n",
    " Why do we visualize?\n",
    "\n",
    "   - For analysis! \n",
    "   - To Provide insight on data beyond descriptive statitics \n",
    "   - Use Visual system to understand information that is not as well expressed in a different medium\n",
    "   - Tranform visual presentation for new understanding\n",
    "    "
   ]
  },
  {
   "cell_type": "markdown",
   "metadata": {},
   "source": [
    "### Affordances "
   ]
  },
  {
   "cell_type": "markdown",
   "metadata": {},
   "source": [
    "Affordances are defined as the aspects inherent to a design that imply how is to be used \n",
    "\n",
    "\n",
    "How can we apply this to visualizations?\n",
    "\n",
    "\n",
    "Lets look at some examples!"
   ]
  },
  {
   "cell_type": "markdown",
   "metadata": {},
   "source": [
    "<div>\n",
    "<img src=\"images/pet pref by gender 1.png\" width=\"800\" style=\"float:center\"/>\n",
    "</div>"
   ]
  },
  {
   "cell_type": "markdown",
   "metadata": {},
   "source": [
    "Whats wrong with this visualization? \n",
    "\n",
    "Lets Break it down\n",
    "\n",
    "   1. The Lines are too thin\n",
    "   2. The Lines are not labeled, and you must look at the legend and back at the line to understand what each color represents \n",
    "   3. The colors do not add any significance\n",
    "   4. The Y-Axis is not even labeled\n",
    "   5. Data is to concentrated in the middle, lots of white space along both sides"
   ]
  },
  {
   "cell_type": "markdown",
   "metadata": {},
   "source": [
    "<div>\n",
    "<img src=\"images/pet pref by gender 2.png\" width=\"800\" style=\"float:center\"/>\n",
    "</div>"
   ]
  },
  {
   "cell_type": "markdown",
   "metadata": {},
   "source": [
    "This new visualization is much better.\n",
    "\n",
    "Lets break down the differences.\n",
    "\n",
    "   1. Line are thicker \n",
    "   2. Labels appear on the line, rather than a legend, makes it easier and faster to read\n",
    "   3. Colors now have signifance, Cats/Dogs are visually different, while both is a combination of those two colors. Neither is a nuetral grey. \n",
    "   4. Y-Axis now reads: Percent Male v Female\n",
    "\n",
    "    \n",
    "\n"
   ]
  },
  {
   "cell_type": "markdown",
   "metadata": {},
   "source": [
    "### Pie Charts"
   ]
  },
  {
   "cell_type": "markdown",
   "metadata": {},
   "source": [
    "Pie charts are poor at communicating data. \n",
    "\n",
    "The amount of space they take compared to the story its trying to tell. \n",
    "\n",
    "\n",
    "The human brain is not very good at copmaring the size of angles and because theres no scale, reading accurate values can be diffucult. \n",
    "\n",
    "Lets Take a Look."
   ]
  },
  {
   "cell_type": "markdown",
   "metadata": {},
   "source": [
    "<div>\n",
    "<img src=\"images/bad pie.png\" width=\"600\" style=\"float:center\"/>\n",
    "</div>"
   ]
  },
  {
   "cell_type": "markdown",
   "metadata": {},
   "source": [
    "In this example, the company is trying to show conceptually adjacent values, in a more categorical format. \n",
    "\n",
    "In simpler terms, the scale of Not at all interested to Extremely interested is not taken into account, even though that scale should be a valueable asset in communicating the findings. "
   ]
  },
  {
   "cell_type": "markdown",
   "metadata": {},
   "source": [
    "## Plotting with Matplotlib\n",
    "\n",
    "<div>\n",
    "<img src=\"images/matplotlib.png\" width=\"650\" style=\"float:center\"/>\n",
    "</div>\n",
    "\n",
    "\n",
    "#### Matplotlib is a Python package that is widely used throughout the scientific Python community to create high-quality and publication-ready graphics. It supports a wide range of raster and vector graphics formats including PNG, PostScript, EPS, PDF and SVG.\n",
    "\n",
    "#### Moreover, matplotlib is the actual engine behind the plotting capabilities of both Pandas and plotnine packages. For example, when we call the .plot method on Pandas data objects, we actually use the matplotlib package.\n",
    "\n",
    "#### To Learn More about Matplotlib, visit their [website!](https://matplotlib.org/3.1.0/index.html)"
   ]
  },
  {
   "cell_type": "markdown",
   "metadata": {},
   "source": [
    "#### Before we actually create a visualization, let's start by asking a question we want to answer with our Visualization. "
   ]
  },
  {
   "cell_type": "markdown",
   "metadata": {},
   "source": [
    "#### Say we are curious as to what hours are the most busy during December 11, 2019 (Finals week) at Moffit Library"
   ]
  },
  {
   "cell_type": "code",
   "execution_count": 266,
   "metadata": {},
   "outputs": [
    {
     "data": {
      "image/png": "[encoded data removed]",
      "text/plain": [
       "<Figure size 432x288 with 1 Axes>"
      ]
     },
     "metadata": {
      "needs_background": "light"
     },
     "output_type": "display_data"
    }
   ],
   "source": [
    "#First thing is first, we have to import the library \n",
    "import matplotlib.pyplot as plt\n",
    "\n",
    "#Here we are selecting only the Moff library as the facility, in the second part we are grabbing only the Date-Time, Facility and Entries Column\n",
    "moffitt = lib_traffic[lib_traffic['Facility'] == 'MOFF Library'][['Date-Time','Facility','Entries']]\n",
    "\n",
    "#Converting Date-Time Column from String to Date-Time Object, this makes the graphing easier\n",
    "moffitt['Date-Time'] = pd.to_datetime(moffitt['Date-Time'])\n",
    "\n",
    "#Lastly, since there are multiple Entrances to Moffit and they are represnted in differnt rows, we must group them together based on their time, and sum them up. \n",
    "moffitt = moffitt.groupby('Date-Time').sum()\n",
    "\n",
    "#Now We get this plot, but we can make it nicer! \n",
    "moffitt.plot();"
   ]
  },
  {
   "cell_type": "code",
   "execution_count": 267,
   "metadata": {},
   "outputs": [
    {
     "data": {
      "image/png": "[encoded data removed]",
      "text/plain": [
       "<Figure size 432x288 with 1 Axes>"
      ]
     },
     "metadata": {
      "needs_background": "dark"
     },
     "output_type": "display_data"
    }
   ],
   "source": [
    "# We can choose a color of the plot by specifying color in plot function, lets use the offical Cal Gold for Moffitt\n",
    "moffitt.plot(color='#FDB515')\n",
    "\n",
    "# plt.ylabel Sets Y label, and has same color argument\n",
    "plt.ylabel('Number of Entrances',color='#FDB515')\n",
    "\n",
    "# plt.xlabel Sets X label, and has same color argument\n",
    "plt.xlabel('Hour of Day',color='#FDB515')\n",
    "\n",
    "# plt.title sets Title of the plot, and again same color argument\n",
    "plt.title('Moffit Entrances on December 11, 2019',color='#FDB515')\n",
    "\n",
    "# We can also specifcy the colors for the parameters. \n",
    "plt.tick_params(axis = 'y',colors='#FDB515')\n",
    "plt.tick_params(axis= 'x',colors='#FDB515')\n",
    "\n",
    "# plt.legend makes sure that legend appears\n",
    "plt.legend()\n",
    "\n",
    "\n",
    "# plt.grid() shows the grid\n",
    "plt.grid()\n",
    "\n",
    "#Lastly, we show the plot\n",
    "plt.show();\n"
   ]
  },
  {
   "cell_type": "markdown",
   "metadata": {},
   "source": [
    "### Now lets do the same for Doe Library "
   ]
  },
  {
   "cell_type": "code",
   "execution_count": 268,
   "metadata": {},
   "outputs": [
    {
     "data": {
      "image/png": "[encoded data removed]",
      "text/plain": [
       "<Figure size 432x288 with 1 Axes>"
      ]
     },
     "metadata": {
      "needs_background": "light"
     },
     "output_type": "display_data"
    }
   ],
   "source": [
    "doe = lib_traffic[lib_traffic['Facility'] == 'DOE Library'][['Date-Time','Facility','Entries']]\n",
    "doe['Date-Time'] = pd.to_datetime(doe['Date-Time'])\n",
    "doe = doe.groupby('Date-Time').sum()\n",
    "\n",
    "#For Doe lets use the official Berkeley Blue\n",
    "doe.plot(color='#003262')\n",
    "plt.ylabel('Number of Entrances',color='#003262')\n",
    "plt.xlabel('Hour of Day',color='#003262')\n",
    "plt.title('Doe Entrances on December 11, 2019',color='#003262')\n",
    "plt.tick_params(axis = 'y', colors='#003262')\n",
    "plt.tick_params(axis= 'x', colors='#003262')\n",
    "plt.legend()\n",
    "plt.grid()\n",
    "plt.show();"
   ]
  },
  {
   "cell_type": "code",
   "execution_count": 269,
   "metadata": {},
   "outputs": [
    {
     "data": {
      "image/png": "[encoded data removed]",
      "text/plain": [
       "<Figure size 432x288 with 1 Axes>"
      ]
     },
     "metadata": {
      "needs_background": "light"
     },
     "output_type": "display_data"
    }
   ],
   "source": [
    "plt.plot(moffitt,label='Moffitt Library',color='#FDB515')\n",
    "plt.plot(doe,label='Doe Library',color='#003262')\n",
    "plt.xticks(rotation=45)\n",
    "plt.title('Number of Entries in Doe Library and Moffitt Library on December 11, 2019')\n",
    "plt.grid(axis='y')\n",
    "plt.legend()\n",
    "plt.show();"
   ]
  },
  {
   "cell_type": "markdown",
   "metadata": {},
   "source": [
    "## Now Let's take a second and see what can learn from the visualization. What trends do we see and around what times? Does one or both of the libraries close at a certain time? If so, can you guess what time they close?"
   ]
  },
  {
   "cell_type": "markdown",
   "metadata": {},
   "source": [
    "Write Your Answer Here!"
   ]
  },
  {
   "cell_type": "markdown",
   "metadata": {},
   "source": [
    "##  Exercise #2, Pick your Own 2 Libraries to graph! "
   ]
  },
  {
   "cell_type": "markdown",
   "metadata": {},
   "source": [
    "For this excerise you will recreate the graphs above with any other 2 libraries in the lib_traffic dataframe. For a refresher here is a list of all the different libraries in the dataset. "
   ]
  },
  {
   "cell_type": "code",
   "execution_count": 270,
   "metadata": {},
   "outputs": [
    {
     "data": {
      "text/plain": [
       "array([nan, 'AHC Library', 'ANTH Library', 'BANC Library', 'BIOS Library',\n",
       "       'CHEM Library', 'DOE Library', 'DOE STACKS', 'EAL Library',\n",
       "       'EART Library', 'ENGI Library', 'ENVI Library', 'GRDS Library',\n",
       "       'HAAS Library', 'MATH Library', 'MOFF Library', 'MORR Library',\n",
       "       'MUSI', 'NEWS Library', 'OPTO Library', 'PHYS Library',\n",
       "       'SEAL Library', 'SOCR Library'], dtype=object)"
      ]
     },
     "execution_count": 270,
     "metadata": {},
     "output_type": "execute_result"
    }
   ],
   "source": [
    "lib_traffic['Facility'].unique()"
   ]
  },
  {
   "cell_type": "markdown",
   "metadata": {},
   "source": [
    "Use the plots above as a guide to help you fill out the code below, the functions are the same you only need to fill out variable names and specify the library you trying to visualize. "
   ]
  },
  {
   "cell_type": "code",
   "execution_count": 271,
   "metadata": {},
   "outputs": [
    {
     "ename": "SyntaxError",
     "evalue": "can't assign to Ellipsis (<ipython-input-271-8d002f35a637>, line 3)",
     "output_type": "error",
     "traceback": [
      "\u001b[1;36m  File \u001b[1;32m\"<ipython-input-271-8d002f35a637>\"\u001b[1;36m, line \u001b[1;32m3\u001b[0m\n\u001b[1;33m    ... = lib_traffic[lib_traffic['Facility'] == '...'][['Date-Time','Facility','Entries']]\u001b[0m\n\u001b[1;37m                                                                                           ^\u001b[0m\n\u001b[1;31mSyntaxError\u001b[0m\u001b[1;31m:\u001b[0m can't assign to Ellipsis\n"
     ]
    }
   ],
   "source": [
    "\n",
    "\n",
    "... = lib_traffic[lib_traffic['Facility'] == '...'][['Date-Time','Facility','Entries']]\n",
    "...['Date-Time'] = pd.to_datetime(...['Date-Time'])\n",
    "... = ....groupby('Date-Time').sum()\n",
    "\n",
    "\n",
    "... = lib_traffic[lib_traffic['Facility'] == '...'][['Date-Time','Facility','Entries']]\n",
    "...['Date-Time'] = pd.to_datetime(...['Date-Time'])\n",
    "... = ....groupby('Date-Time').sum()\n",
    "\n",
    "\n",
    "plt.plot(...,label='...',color='...')\n",
    "plt.plot(...,label='...',color='...')\n",
    "plt.xticks(rotation=45)\n",
    "plt.title('Number of Entries in ... and ... on December 11, 2019')\n",
    "plt.grid(axis='y')\n",
    "plt.legend()\n",
    "plt.show();\n"
   ]
  },
  {
   "cell_type": "markdown",
   "metadata": {},
   "source": [
    "## Plotting with Seaborn\n",
    "\n",
    "<div>\n",
    "<img src=\"images/seaborn.jpg\" width=\"600\" style=\"float:center\"/>\n",
    "</div>\n",
    "\n",
    "#### Seaborn is a library for making statistical graphics in Python. It builds on top of matplotlib and integrates closely with pandas data structures.\n",
    "\n",
    "#### Seaborn helps you explore and understand your data. Its plotting functions operate on dataframes and arrays containing whole datasets and internally perform the necessary semantic mapping and statistical aggregation to produce informative plots. Its dataset-oriented, declarative API lets you focus on what the different elements of your plots mean, rather than on the details of how to draw them.\n",
    "\n",
    "#### [Website](https://seaborn.pydata.org/index.html) \n"
   ]
  },
  {
   "cell_type": "markdown",
   "metadata": {},
   "source": [
    "Before we get into the actual visualizations lets looks at how seaborn functions are set up. \n",
    "Mostly all visualization functions follow the same general formula.\n",
    "\n",
    "Lets Recreate the moffitt library entries visualization.\n"
   ]
  },
  {
   "cell_type": "code",
   "execution_count": 272,
   "metadata": {},
   "outputs": [
    {
     "data": {
      "image/png": "[encoded data removed]",
      "text/plain": [
       "<Figure size 432x288 with 1 Axes>"
      ]
     },
     "metadata": {
      "needs_background": "light"
     },
     "output_type": "display_data"
    }
   ],
   "source": [
    "#It is customary to import seaborn as sns\n",
    "import seaborn as sns\n",
    "\n",
    "# Seaborn reads columns, and not indexs so we must reset the index\n",
    "moffitt = moffitt.reset_index()\n",
    "\n",
    "\n",
    "# This is the formula for Seaborn Plots\n",
    "# sns.[Type of Plot](data = dataframe, x = x, y = y)\n",
    "# There are many other arguments that can be put into the plot function, we will explore some of them. \n",
    "\n",
    "sns.lineplot(data=moffitt,x='Date-Time',y='Entries',color='#FDB515')\n",
    "\n",
    "\n",
    "# Because Seaborn is built on-top on Matplotlib the same functions work! \n",
    "plt.title('Moffit Entrances on December 11, 2019',color='#FDB515')\n",
    "plt.xticks(rotation=45)\n",
    "plt.show();"
   ]
  },
  {
   "cell_type": "markdown",
   "metadata": {},
   "source": [
    "## Now lets say we want to see what libraries had the most total entries in the day."
   ]
  },
  {
   "cell_type": "code",
   "execution_count": 273,
   "metadata": {},
   "outputs": [
    {
     "data": {
      "image/png": "[encoded data removed]",
      "text/plain": [
       "<Figure size 432x288 with 1 Axes>"
      ]
     },
     "metadata": {
      "needs_background": "light"
     },
     "output_type": "display_data"
    }
   ],
   "source": [
    "# Using a groupby and a sum we went over earlier we get the right dataframe\n",
    "total_entries = lib_traffic.groupby('Facility').sum()\n",
    "\n",
    "#Reset the Index so we can specify the columns for Seaborn\n",
    "total_entries = total_entries.reset_index()\n",
    "\n",
    "#Sort Values so the graph comes out sorted \n",
    "total_entries = total_entries.sort_values(by='Entries',ascending = False)\n",
    "\n",
    "#Using sns.barplot and same formula we get our plot\n",
    "sns.barplot(x='Entries', y = 'Facility', data = total_entries)\n",
    "\n",
    "#Add in Title and show\n",
    "plt.title('Total Library Entrances on Decemeber 11, 2019')\n",
    "plt.show();"
   ]
  },
  {
   "cell_type": "markdown",
   "metadata": {},
   "source": [
    "One of my favorite things about Seaborn is the beautiful graident that it automatically generates in bar plots like this, it helps in the aesthetic and you don't have to add any code for it!"
   ]
  },
  {
   "cell_type": "markdown",
   "metadata": {},
   "source": [
    "### Let's do the same visualization, but this time instead of Facility lets do count of Entries by hour of the day  "
   ]
  },
  {
   "cell_type": "code",
   "execution_count": 274,
   "metadata": {},
   "outputs": [
    {
     "data": {
      "text/html": [
       "<div>\n",
       "<style scoped>\n",
       "    .dataframe tbody tr th:only-of-type {\n",
       "        vertical-align: middle;\n",
       "    }\n",
       "\n",
       "    .dataframe tbody tr th {\n",
       "        vertical-align: top;\n",
       "    }\n",
       "\n",
       "    .dataframe thead th {\n",
       "        text-align: right;\n",
       "    }\n",
       "</style>\n",
       "<table border=\"1\" class=\"dataframe\">\n",
       "  <thead>\n",
       "    <tr style=\"text-align: right;\">\n",
       "      <th></th>\n",
       "      <th>Date-Time</th>\n",
       "      <th>Entries</th>\n",
       "      <th>Exits</th>\n",
       "    </tr>\n",
       "  </thead>\n",
       "  <tbody>\n",
       "    <tr>\n",
       "      <th>9</th>\n",
       "      <td>12/11/19 2:00 PM</td>\n",
       "      <td>2649.0</td>\n",
       "      <td>2286.0</td>\n",
       "    </tr>\n",
       "    <tr>\n",
       "      <th>11</th>\n",
       "      <td>12/11/19 3:00 PM</td>\n",
       "      <td>2632.0</td>\n",
       "      <td>2538.0</td>\n",
       "    </tr>\n",
       "    <tr>\n",
       "      <th>7</th>\n",
       "      <td>12/11/19 1:00 PM</td>\n",
       "      <td>2433.0</td>\n",
       "      <td>2100.0</td>\n",
       "    </tr>\n",
       "    <tr>\n",
       "      <th>5</th>\n",
       "      <td>12/11/19 12:00 PM</td>\n",
       "      <td>2178.0</td>\n",
       "      <td>1992.0</td>\n",
       "    </tr>\n",
       "    <tr>\n",
       "      <th>13</th>\n",
       "      <td>12/11/19 4:00 PM</td>\n",
       "      <td>2023.0</td>\n",
       "      <td>2351.0</td>\n",
       "    </tr>\n",
       "    <tr>\n",
       "      <th>2</th>\n",
       "      <td>12/11/19 11:00 AM</td>\n",
       "      <td>1710.0</td>\n",
       "      <td>1393.0</td>\n",
       "    </tr>\n",
       "    <tr>\n",
       "      <th>15</th>\n",
       "      <td>12/11/19 5:00 PM</td>\n",
       "      <td>1556.0</td>\n",
       "      <td>2266.0</td>\n",
       "    </tr>\n",
       "    <tr>\n",
       "      <th>0</th>\n",
       "      <td>12/11/19 10:00 AM</td>\n",
       "      <td>1440.0</td>\n",
       "      <td>797.0</td>\n",
       "    </tr>\n",
       "    <tr>\n",
       "      <th>17</th>\n",
       "      <td>12/11/19 6:00 PM</td>\n",
       "      <td>1329.0</td>\n",
       "      <td>1830.0</td>\n",
       "    </tr>\n",
       "    <tr>\n",
       "      <th>22</th>\n",
       "      <td>12/11/19 9:00 AM</td>\n",
       "      <td>1279.0</td>\n",
       "      <td>501.0</td>\n",
       "    </tr>\n",
       "    <tr>\n",
       "      <th>19</th>\n",
       "      <td>12/11/19 7:00 PM</td>\n",
       "      <td>1058.0</td>\n",
       "      <td>1354.0</td>\n",
       "    </tr>\n",
       "    <tr>\n",
       "      <th>21</th>\n",
       "      <td>12/11/19 8:00 PM</td>\n",
       "      <td>1025.0</td>\n",
       "      <td>1057.0</td>\n",
       "    </tr>\n",
       "    <tr>\n",
       "      <th>23</th>\n",
       "      <td>12/11/19 9:00 PM</td>\n",
       "      <td>933.0</td>\n",
       "      <td>1086.0</td>\n",
       "    </tr>\n",
       "    <tr>\n",
       "      <th>1</th>\n",
       "      <td>12/11/19 10:00 PM</td>\n",
       "      <td>631.0</td>\n",
       "      <td>836.0</td>\n",
       "    </tr>\n",
       "    <tr>\n",
       "      <th>3</th>\n",
       "      <td>12/11/19 11:00 PM</td>\n",
       "      <td>463.0</td>\n",
       "      <td>703.0</td>\n",
       "    </tr>\n",
       "    <tr>\n",
       "      <th>4</th>\n",
       "      <td>12/11/19 12:00 AM</td>\n",
       "      <td>371.0</td>\n",
       "      <td>562.0</td>\n",
       "    </tr>\n",
       "    <tr>\n",
       "      <th>20</th>\n",
       "      <td>12/11/19 8:00 AM</td>\n",
       "      <td>349.0</td>\n",
       "      <td>130.0</td>\n",
       "    </tr>\n",
       "    <tr>\n",
       "      <th>6</th>\n",
       "      <td>12/11/19 1:00 AM</td>\n",
       "      <td>176.0</td>\n",
       "      <td>264.0</td>\n",
       "    </tr>\n",
       "    <tr>\n",
       "      <th>8</th>\n",
       "      <td>12/11/19 2:00 AM</td>\n",
       "      <td>126.0</td>\n",
       "      <td>208.0</td>\n",
       "    </tr>\n",
       "    <tr>\n",
       "      <th>18</th>\n",
       "      <td>12/11/19 7:00 AM</td>\n",
       "      <td>104.0</td>\n",
       "      <td>81.0</td>\n",
       "    </tr>\n",
       "    <tr>\n",
       "      <th>10</th>\n",
       "      <td>12/11/19 3:00 AM</td>\n",
       "      <td>62.0</td>\n",
       "      <td>131.0</td>\n",
       "    </tr>\n",
       "    <tr>\n",
       "      <th>16</th>\n",
       "      <td>12/11/19 6:00 AM</td>\n",
       "      <td>59.0</td>\n",
       "      <td>51.0</td>\n",
       "    </tr>\n",
       "    <tr>\n",
       "      <th>14</th>\n",
       "      <td>12/11/19 5:00 AM</td>\n",
       "      <td>35.0</td>\n",
       "      <td>46.0</td>\n",
       "    </tr>\n",
       "    <tr>\n",
       "      <th>12</th>\n",
       "      <td>12/11/19 4:00 AM</td>\n",
       "      <td>29.0</td>\n",
       "      <td>45.0</td>\n",
       "    </tr>\n",
       "  </tbody>\n",
       "</table>\n",
       "</div>"
      ],
      "text/plain": [
       "            Date-Time  Entries   Exits\n",
       "9    12/11/19 2:00 PM   2649.0  2286.0\n",
       "11   12/11/19 3:00 PM   2632.0  2538.0\n",
       "7    12/11/19 1:00 PM   2433.0  2100.0\n",
       "5   12/11/19 12:00 PM   2178.0  1992.0\n",
       "13   12/11/19 4:00 PM   2023.0  2351.0\n",
       "2   12/11/19 11:00 AM   1710.0  1393.0\n",
       "15   12/11/19 5:00 PM   1556.0  2266.0\n",
       "0   12/11/19 10:00 AM   1440.0   797.0\n",
       "17   12/11/19 6:00 PM   1329.0  1830.0\n",
       "22   12/11/19 9:00 AM   1279.0   501.0\n",
       "19   12/11/19 7:00 PM   1058.0  1354.0\n",
       "21   12/11/19 8:00 PM   1025.0  1057.0\n",
       "23   12/11/19 9:00 PM    933.0  1086.0\n",
       "1   12/11/19 10:00 PM    631.0   836.0\n",
       "3   12/11/19 11:00 PM    463.0   703.0\n",
       "4   12/11/19 12:00 AM    371.0   562.0\n",
       "20   12/11/19 8:00 AM    349.0   130.0\n",
       "6    12/11/19 1:00 AM    176.0   264.0\n",
       "8    12/11/19 2:00 AM    126.0   208.0\n",
       "18   12/11/19 7:00 AM    104.0    81.0\n",
       "10   12/11/19 3:00 AM     62.0   131.0\n",
       "16   12/11/19 6:00 AM     59.0    51.0\n",
       "14   12/11/19 5:00 AM     35.0    46.0\n",
       "12   12/11/19 4:00 AM     29.0    45.0"
      ]
     },
     "execution_count": 274,
     "metadata": {},
     "output_type": "execute_result"
    }
   ],
   "source": [
    "entries_by_time = lib_traffic.groupby('Date-Time').sum()\n",
    "entries_by_time = entries_by_time.reset_index()\n",
    "entries_by_time = entries_by_time.sort_values(by='Entries',ascending = False)\n",
    "entries_by_time"
   ]
  },
  {
   "cell_type": "code",
   "execution_count": 275,
   "metadata": {},
   "outputs": [
    {
     "ename": "AttributeError",
     "evalue": "'ellipsis' object has no attribute 'get'",
     "output_type": "error",
     "traceback": [
      "\u001b[1;31m---------------------------------------------------------------------------\u001b[0m",
      "\u001b[1;31mAttributeError\u001b[0m                            Traceback (most recent call last)",
      "\u001b[1;32m<ipython-input-275-bb49cb83231a>\u001b[0m in \u001b[0;36m<module>\u001b[1;34m\u001b[0m\n\u001b[0;32m      1\u001b[0m \u001b[1;31m# TODO: Fill in\u001b[0m\u001b[1;33m\u001b[0m\u001b[1;33m\u001b[0m\u001b[1;33m\u001b[0m\u001b[0m\n\u001b[0;32m      2\u001b[0m \u001b[1;33m\u001b[0m\u001b[0m\n\u001b[1;32m----> 3\u001b[1;33m \u001b[0msns\u001b[0m\u001b[1;33m.\u001b[0m\u001b[0mbarplot\u001b[0m\u001b[1;33m(\u001b[0m\u001b[0mx\u001b[0m\u001b[1;33m=\u001b[0m\u001b[1;34m'...'\u001b[0m\u001b[1;33m,\u001b[0m \u001b[0my\u001b[0m\u001b[1;33m=\u001b[0m\u001b[1;34m'...'\u001b[0m\u001b[1;33m,\u001b[0m \u001b[0mdata\u001b[0m \u001b[1;33m=\u001b[0m \u001b[1;33m...\u001b[0m\u001b[1;33m)\u001b[0m\u001b[1;33m\u001b[0m\u001b[1;33m\u001b[0m\u001b[0m\n\u001b[0m\u001b[0;32m      4\u001b[0m \u001b[0mplt\u001b[0m\u001b[1;33m.\u001b[0m\u001b[0mtitle\u001b[0m\u001b[1;33m(\u001b[0m\u001b[1;34m'...'\u001b[0m\u001b[1;33m)\u001b[0m\u001b[1;33m\u001b[0m\u001b[1;33m\u001b[0m\u001b[0m\n\u001b[0;32m      5\u001b[0m \u001b[0mplt\u001b[0m\u001b[1;33m.\u001b[0m\u001b[0mshow\u001b[0m\u001b[1;33m(\u001b[0m\u001b[1;33m)\u001b[0m\u001b[1;33m;\u001b[0m\u001b[1;33m\u001b[0m\u001b[1;33m\u001b[0m\u001b[0m\n",
      "\u001b[1;32m~\\Anaconda3\\lib\\site-packages\\seaborn\\categorical.py\u001b[0m in \u001b[0;36mbarplot\u001b[1;34m(x, y, hue, data, order, hue_order, estimator, ci, n_boot, units, orient, color, palette, saturation, errcolor, errwidth, capsize, dodge, ax, **kwargs)\u001b[0m\n\u001b[0;32m   3147\u001b[0m                           \u001b[0mestimator\u001b[0m\u001b[1;33m,\u001b[0m \u001b[0mci\u001b[0m\u001b[1;33m,\u001b[0m \u001b[0mn_boot\u001b[0m\u001b[1;33m,\u001b[0m \u001b[0munits\u001b[0m\u001b[1;33m,\u001b[0m\u001b[1;33m\u001b[0m\u001b[1;33m\u001b[0m\u001b[0m\n\u001b[0;32m   3148\u001b[0m                           \u001b[0morient\u001b[0m\u001b[1;33m,\u001b[0m \u001b[0mcolor\u001b[0m\u001b[1;33m,\u001b[0m \u001b[0mpalette\u001b[0m\u001b[1;33m,\u001b[0m \u001b[0msaturation\u001b[0m\u001b[1;33m,\u001b[0m\u001b[1;33m\u001b[0m\u001b[1;33m\u001b[0m\u001b[0m\n\u001b[1;32m-> 3149\u001b[1;33m                           errcolor, errwidth, capsize, dodge)\n\u001b[0m\u001b[0;32m   3150\u001b[0m \u001b[1;33m\u001b[0m\u001b[0m\n\u001b[0;32m   3151\u001b[0m     \u001b[1;32mif\u001b[0m \u001b[0max\u001b[0m \u001b[1;32mis\u001b[0m \u001b[1;32mNone\u001b[0m\u001b[1;33m:\u001b[0m\u001b[1;33m\u001b[0m\u001b[1;33m\u001b[0m\u001b[0m\n",
      "\u001b[1;32m~\\Anaconda3\\lib\\site-packages\\seaborn\\categorical.py\u001b[0m in \u001b[0;36m__init__\u001b[1;34m(self, x, y, hue, data, order, hue_order, estimator, ci, n_boot, units, orient, color, palette, saturation, errcolor, errwidth, capsize, dodge)\u001b[0m\n\u001b[0;32m   1605\u001b[0m         \u001b[1;34m\"\"\"Initialize the plotter.\"\"\"\u001b[0m\u001b[1;33m\u001b[0m\u001b[1;33m\u001b[0m\u001b[0m\n\u001b[0;32m   1606\u001b[0m         self.establish_variables(x, y, hue, data, orient,\n\u001b[1;32m-> 1607\u001b[1;33m                                  order, hue_order, units)\n\u001b[0m\u001b[0;32m   1608\u001b[0m         \u001b[0mself\u001b[0m\u001b[1;33m.\u001b[0m\u001b[0mestablish_colors\u001b[0m\u001b[1;33m(\u001b[0m\u001b[0mcolor\u001b[0m\u001b[1;33m,\u001b[0m \u001b[0mpalette\u001b[0m\u001b[1;33m,\u001b[0m \u001b[0msaturation\u001b[0m\u001b[1;33m)\u001b[0m\u001b[1;33m\u001b[0m\u001b[1;33m\u001b[0m\u001b[0m\n\u001b[0;32m   1609\u001b[0m         \u001b[0mself\u001b[0m\u001b[1;33m.\u001b[0m\u001b[0mestimate_statistic\u001b[0m\u001b[1;33m(\u001b[0m\u001b[0mestimator\u001b[0m\u001b[1;33m,\u001b[0m \u001b[0mci\u001b[0m\u001b[1;33m,\u001b[0m \u001b[0mn_boot\u001b[0m\u001b[1;33m)\u001b[0m\u001b[1;33m\u001b[0m\u001b[1;33m\u001b[0m\u001b[0m\n",
      "\u001b[1;32m~\\Anaconda3\\lib\\site-packages\\seaborn\\categorical.py\u001b[0m in \u001b[0;36mestablish_variables\u001b[1;34m(self, x, y, hue, data, orient, order, hue_order, units)\u001b[0m\n\u001b[0;32m    144\u001b[0m             \u001b[1;31m# See if we need to get variables from `data`\u001b[0m\u001b[1;33m\u001b[0m\u001b[1;33m\u001b[0m\u001b[1;33m\u001b[0m\u001b[0m\n\u001b[0;32m    145\u001b[0m             \u001b[1;32mif\u001b[0m \u001b[0mdata\u001b[0m \u001b[1;32mis\u001b[0m \u001b[1;32mnot\u001b[0m \u001b[1;32mNone\u001b[0m\u001b[1;33m:\u001b[0m\u001b[1;33m\u001b[0m\u001b[1;33m\u001b[0m\u001b[0m\n\u001b[1;32m--> 146\u001b[1;33m                 \u001b[0mx\u001b[0m \u001b[1;33m=\u001b[0m \u001b[0mdata\u001b[0m\u001b[1;33m.\u001b[0m\u001b[0mget\u001b[0m\u001b[1;33m(\u001b[0m\u001b[0mx\u001b[0m\u001b[1;33m,\u001b[0m \u001b[0mx\u001b[0m\u001b[1;33m)\u001b[0m\u001b[1;33m\u001b[0m\u001b[1;33m\u001b[0m\u001b[0m\n\u001b[0m\u001b[0;32m    147\u001b[0m                 \u001b[0my\u001b[0m \u001b[1;33m=\u001b[0m \u001b[0mdata\u001b[0m\u001b[1;33m.\u001b[0m\u001b[0mget\u001b[0m\u001b[1;33m(\u001b[0m\u001b[0my\u001b[0m\u001b[1;33m,\u001b[0m \u001b[0my\u001b[0m\u001b[1;33m)\u001b[0m\u001b[1;33m\u001b[0m\u001b[1;33m\u001b[0m\u001b[0m\n\u001b[0;32m    148\u001b[0m                 \u001b[0mhue\u001b[0m \u001b[1;33m=\u001b[0m \u001b[0mdata\u001b[0m\u001b[1;33m.\u001b[0m\u001b[0mget\u001b[0m\u001b[1;33m(\u001b[0m\u001b[0mhue\u001b[0m\u001b[1;33m,\u001b[0m \u001b[0mhue\u001b[0m\u001b[1;33m)\u001b[0m\u001b[1;33m\u001b[0m\u001b[1;33m\u001b[0m\u001b[0m\n",
      "\u001b[1;31mAttributeError\u001b[0m: 'ellipsis' object has no attribute 'get'"
     ]
    }
   ],
   "source": [
    "# TODO: Fill in \n",
    "\n",
    "sns.barplot(x='...', y='...', data = ...)\n",
    "plt.title('...')\n",
    "plt.show();"
   ]
  },
  {
   "cell_type": "markdown",
   "metadata": {},
   "source": [
    "### What times are the most busy? What times are least busy?"
   ]
  },
  {
   "cell_type": "markdown",
   "metadata": {},
   "source": [
    "Write Your Answer Here!"
   ]
  },
  {
   "cell_type": "markdown",
   "metadata": {},
   "source": [
    "## More things you can do in Seaborn!\n",
    "\n",
    "Take a look at the [Seaborn Gallery](https://seaborn.pydata.org/examples/index.html) to get a sense all the different things you can do in Seaborn! Take a minute to look at some of the visualizations and the dataframes we made during the workshop, and think of some plots you could make. What questions would they answer? With the visualization what story can you tell? "
   ]
  },
  {
   "cell_type": "markdown",
   "metadata": {},
   "source": [
    "Write Your Answer Here!"
   ]
  },
  {
   "cell_type": "code",
   "execution_count": 257,
   "metadata": {},
   "outputs": [
    {
     "data": {
      "text/html": [
       "<div>\n",
       "<style scoped>\n",
       "    .dataframe tbody tr th:only-of-type {\n",
       "        vertical-align: middle;\n",
       "    }\n",
       "\n",
       "    .dataframe tbody tr th {\n",
       "        vertical-align: top;\n",
       "    }\n",
       "\n",
       "    .dataframe thead th {\n",
       "        text-align: right;\n",
       "    }\n",
       "</style>\n",
       "<table border=\"1\" class=\"dataframe\">\n",
       "  <thead>\n",
       "    <tr style=\"text-align: right;\">\n",
       "      <th></th>\n",
       "      <th>Date-Time</th>\n",
       "      <th>Region</th>\n",
       "      <th>Facility</th>\n",
       "      <th>Entries</th>\n",
       "      <th>Exits</th>\n",
       "    </tr>\n",
       "    <tr>\n",
       "      <th>Entrance</th>\n",
       "      <th></th>\n",
       "      <th></th>\n",
       "      <th></th>\n",
       "      <th></th>\n",
       "      <th></th>\n",
       "    </tr>\n",
       "  </thead>\n",
       "  <tbody>\n",
       "    <tr>\n",
       "      <th>AHC Back</th>\n",
       "      <td>12/11/19 9:00 PM</td>\n",
       "      <td>UC Berkeley</td>\n",
       "      <td>AHC Library</td>\n",
       "      <td>10.0</td>\n",
       "      <td>9.0</td>\n",
       "    </tr>\n",
       "    <tr>\n",
       "      <th>AHC Front</th>\n",
       "      <td>12/11/19 9:00 PM</td>\n",
       "      <td>UC Berkeley</td>\n",
       "      <td>AHC Library</td>\n",
       "      <td>17.0</td>\n",
       "      <td>15.0</td>\n",
       "    </tr>\n",
       "    <tr>\n",
       "      <th>ANTH</th>\n",
       "      <td>12/11/19 9:00 PM</td>\n",
       "      <td>UC Berkeley</td>\n",
       "      <td>ANTH Library</td>\n",
       "      <td>60.0</td>\n",
       "      <td>70.0</td>\n",
       "    </tr>\n",
       "    <tr>\n",
       "      <th>Bancroft</th>\n",
       "      <td>12/11/19 9:00 PM</td>\n",
       "      <td>UC Berkeley</td>\n",
       "      <td>BANC Library</td>\n",
       "      <td>86.0</td>\n",
       "      <td>96.0</td>\n",
       "    </tr>\n",
       "    <tr>\n",
       "      <th>CHEM</th>\n",
       "      <td>12/11/19 9:00 PM</td>\n",
       "      <td>UC Berkeley</td>\n",
       "      <td>CHEM Library</td>\n",
       "      <td>78.0</td>\n",
       "      <td>75.0</td>\n",
       "    </tr>\n",
       "    <tr>\n",
       "      <th>Doe North</th>\n",
       "      <td>12/11/19 9:00 PM</td>\n",
       "      <td>UC Berkeley</td>\n",
       "      <td>DOE Library</td>\n",
       "      <td>243.0</td>\n",
       "      <td>235.0</td>\n",
       "    </tr>\n",
       "    <tr>\n",
       "      <th>Doe South</th>\n",
       "      <td>12/11/19 9:00 PM</td>\n",
       "      <td>UC Berkeley</td>\n",
       "      <td>DOE Library</td>\n",
       "      <td>158.0</td>\n",
       "      <td>186.0</td>\n",
       "    </tr>\n",
       "    <tr>\n",
       "      <th>EAL</th>\n",
       "      <td>12/11/19 9:00 PM</td>\n",
       "      <td>UC Berkeley</td>\n",
       "      <td>EAL Library</td>\n",
       "      <td>94.0</td>\n",
       "      <td>72.0</td>\n",
       "    </tr>\n",
       "    <tr>\n",
       "      <th>ENGI</th>\n",
       "      <td>12/11/19 9:00 PM</td>\n",
       "      <td>UC Berkeley</td>\n",
       "      <td>ENGI Library</td>\n",
       "      <td>245.0</td>\n",
       "      <td>240.0</td>\n",
       "    </tr>\n",
       "    <tr>\n",
       "      <th>ENVI</th>\n",
       "      <td>12/11/19 9:00 PM</td>\n",
       "      <td>UC Berkeley</td>\n",
       "      <td>ENVI Library</td>\n",
       "      <td>152.0</td>\n",
       "      <td>144.0</td>\n",
       "    </tr>\n",
       "    <tr>\n",
       "      <th>Earth North</th>\n",
       "      <td>12/11/19 9:00 PM</td>\n",
       "      <td>UC Berkeley</td>\n",
       "      <td>EART Library</td>\n",
       "      <td>26.0</td>\n",
       "      <td>22.0</td>\n",
       "    </tr>\n",
       "    <tr>\n",
       "      <th>Earth South</th>\n",
       "      <td>12/11/19 9:00 PM</td>\n",
       "      <td>UC Berkeley</td>\n",
       "      <td>EART Library</td>\n",
       "      <td>17.0</td>\n",
       "      <td>22.0</td>\n",
       "    </tr>\n",
       "    <tr>\n",
       "      <th>GRAD</th>\n",
       "      <td>12/11/19 9:00 PM</td>\n",
       "      <td>UC Berkeley</td>\n",
       "      <td>GRDS Library</td>\n",
       "      <td>39.0</td>\n",
       "      <td>30.0</td>\n",
       "    </tr>\n",
       "    <tr>\n",
       "      <th>HAAS 2F</th>\n",
       "      <td>12/11/19 9:00 PM</td>\n",
       "      <td>UC Berkeley</td>\n",
       "      <td>HAAS Library</td>\n",
       "      <td>148.0</td>\n",
       "      <td>137.0</td>\n",
       "    </tr>\n",
       "    <tr>\n",
       "      <th>HAAS 3F</th>\n",
       "      <td>12/11/19 9:00 PM</td>\n",
       "      <td>UC Berkeley</td>\n",
       "      <td>HAAS Library</td>\n",
       "      <td>67.0</td>\n",
       "      <td>80.0</td>\n",
       "    </tr>\n",
       "    <tr>\n",
       "      <th>MATH</th>\n",
       "      <td>12/11/19 9:00 PM</td>\n",
       "      <td>UC Berkeley</td>\n",
       "      <td>MATH Library</td>\n",
       "      <td>60.0</td>\n",
       "      <td>68.0</td>\n",
       "    </tr>\n",
       "    <tr>\n",
       "      <th>MUSI</th>\n",
       "      <td>12/11/19 9:00 PM</td>\n",
       "      <td>UC Berkeley</td>\n",
       "      <td>MUSI</td>\n",
       "      <td>94.0</td>\n",
       "      <td>73.0</td>\n",
       "    </tr>\n",
       "    <tr>\n",
       "      <th>Moffit Corridor</th>\n",
       "      <td>12/11/19 9:00 PM</td>\n",
       "      <td>UC Berkeley</td>\n",
       "      <td>DOE STACKS</td>\n",
       "      <td>196.0</td>\n",
       "      <td>205.0</td>\n",
       "    </tr>\n",
       "    <tr>\n",
       "      <th>Moffit Entry</th>\n",
       "      <td>12/11/19 9:00 PM</td>\n",
       "      <td>UC Berkeley</td>\n",
       "      <td>MOFF Library</td>\n",
       "      <td>405.0</td>\n",
       "      <td>13.0</td>\n",
       "    </tr>\n",
       "    <tr>\n",
       "      <th>Moffit Exit</th>\n",
       "      <td>12/11/19 9:00 PM</td>\n",
       "      <td>UC Berkeley</td>\n",
       "      <td>MOFF Library</td>\n",
       "      <td>3.0</td>\n",
       "      <td>300.0</td>\n",
       "    </tr>\n",
       "    <tr>\n",
       "      <th>Moffitt 4th</th>\n",
       "      <td>12/11/19 9:00 PM</td>\n",
       "      <td>UC Berkeley</td>\n",
       "      <td>MOFF Library</td>\n",
       "      <td>300.0</td>\n",
       "      <td>227.0</td>\n",
       "    </tr>\n",
       "    <tr>\n",
       "      <th>Morrison</th>\n",
       "      <td>12/11/19 9:00 PM</td>\n",
       "      <td>UC Berkeley</td>\n",
       "      <td>MORR Library</td>\n",
       "      <td>37.0</td>\n",
       "      <td>36.0</td>\n",
       "    </tr>\n",
       "    <tr>\n",
       "      <th>News</th>\n",
       "      <td>12/11/19 9:00 PM</td>\n",
       "      <td>UC Berkeley</td>\n",
       "      <td>NEWS Library</td>\n",
       "      <td>16.0</td>\n",
       "      <td>16.0</td>\n",
       "    </tr>\n",
       "    <tr>\n",
       "      <th>OPTO</th>\n",
       "      <td>12/11/19 9:00 PM</td>\n",
       "      <td>UC Berkeley</td>\n",
       "      <td>OPTO Library</td>\n",
       "      <td>36.0</td>\n",
       "      <td>41.0</td>\n",
       "    </tr>\n",
       "    <tr>\n",
       "      <th>PHYS</th>\n",
       "      <td>12/11/19 9:00 PM</td>\n",
       "      <td>UC Berkeley</td>\n",
       "      <td>PHYS Library</td>\n",
       "      <td>21.0</td>\n",
       "      <td>26.0</td>\n",
       "    </tr>\n",
       "    <tr>\n",
       "      <th>SEAL</th>\n",
       "      <td>12/11/19 9:00 PM</td>\n",
       "      <td>UC Berkeley</td>\n",
       "      <td>SEAL Library</td>\n",
       "      <td>15.0</td>\n",
       "      <td>14.0</td>\n",
       "    </tr>\n",
       "    <tr>\n",
       "      <th>SOCR</th>\n",
       "      <td>12/11/19 9:00 PM</td>\n",
       "      <td>UC Berkeley</td>\n",
       "      <td>SOCR Library</td>\n",
       "      <td>26.0</td>\n",
       "      <td>22.0</td>\n",
       "    </tr>\n",
       "    <tr>\n",
       "      <th>Stacks East</th>\n",
       "      <td>12/11/19 9:00 PM</td>\n",
       "      <td>UC Berkeley</td>\n",
       "      <td>DOE STACKS</td>\n",
       "      <td>112.0</td>\n",
       "      <td>145.0</td>\n",
       "    </tr>\n",
       "    <tr>\n",
       "      <th>TEST</th>\n",
       "      <td>12/11/19 9:00 PM</td>\n",
       "      <td>NaN</td>\n",
       "      <td>NaN</td>\n",
       "      <td>0.0</td>\n",
       "      <td>0.0</td>\n",
       "    </tr>\n",
       "    <tr>\n",
       "      <th>VLSB1</th>\n",
       "      <td>12/11/19 9:00 PM</td>\n",
       "      <td>UC Berkeley</td>\n",
       "      <td>BIOS Library</td>\n",
       "      <td>106.0</td>\n",
       "      <td>110.0</td>\n",
       "    </tr>\n",
       "    <tr>\n",
       "      <th>VLSB2</th>\n",
       "      <td>12/11/19 9:00 PM</td>\n",
       "      <td>UC Berkeley</td>\n",
       "      <td>BIOS Library</td>\n",
       "      <td>108.0</td>\n",
       "      <td>74.0</td>\n",
       "    </tr>\n",
       "  </tbody>\n",
       "</table>\n",
       "</div>"
      ],
      "text/plain": [
       "                        Date-Time       Region      Facility  Entries  Exits\n",
       "Entrance                                                                    \n",
       "AHC Back         12/11/19 9:00 PM  UC Berkeley   AHC Library     10.0    9.0\n",
       "AHC Front        12/11/19 9:00 PM  UC Berkeley   AHC Library     17.0   15.0\n",
       "ANTH             12/11/19 9:00 PM  UC Berkeley  ANTH Library     60.0   70.0\n",
       "Bancroft         12/11/19 9:00 PM  UC Berkeley  BANC Library     86.0   96.0\n",
       "CHEM             12/11/19 9:00 PM  UC Berkeley  CHEM Library     78.0   75.0\n",
       "Doe North        12/11/19 9:00 PM  UC Berkeley   DOE Library    243.0  235.0\n",
       "Doe South        12/11/19 9:00 PM  UC Berkeley   DOE Library    158.0  186.0\n",
       "EAL              12/11/19 9:00 PM  UC Berkeley   EAL Library     94.0   72.0\n",
       "ENGI             12/11/19 9:00 PM  UC Berkeley  ENGI Library    245.0  240.0\n",
       "ENVI             12/11/19 9:00 PM  UC Berkeley  ENVI Library    152.0  144.0\n",
       "Earth North      12/11/19 9:00 PM  UC Berkeley  EART Library     26.0   22.0\n",
       "Earth South      12/11/19 9:00 PM  UC Berkeley  EART Library     17.0   22.0\n",
       "GRAD             12/11/19 9:00 PM  UC Berkeley  GRDS Library     39.0   30.0\n",
       "HAAS 2F          12/11/19 9:00 PM  UC Berkeley  HAAS Library    148.0  137.0\n",
       "HAAS 3F          12/11/19 9:00 PM  UC Berkeley  HAAS Library     67.0   80.0\n",
       "MATH             12/11/19 9:00 PM  UC Berkeley  MATH Library     60.0   68.0\n",
       "MUSI             12/11/19 9:00 PM  UC Berkeley          MUSI     94.0   73.0\n",
       "Moffit Corridor  12/11/19 9:00 PM  UC Berkeley    DOE STACKS    196.0  205.0\n",
       "Moffit Entry     12/11/19 9:00 PM  UC Berkeley  MOFF Library    405.0   13.0\n",
       "Moffit Exit      12/11/19 9:00 PM  UC Berkeley  MOFF Library      3.0  300.0\n",
       "Moffitt 4th      12/11/19 9:00 PM  UC Berkeley  MOFF Library    300.0  227.0\n",
       "Morrison         12/11/19 9:00 PM  UC Berkeley  MORR Library     37.0   36.0\n",
       "News             12/11/19 9:00 PM  UC Berkeley  NEWS Library     16.0   16.0\n",
       "OPTO             12/11/19 9:00 PM  UC Berkeley  OPTO Library     36.0   41.0\n",
       "PHYS             12/11/19 9:00 PM  UC Berkeley  PHYS Library     21.0   26.0\n",
       "SEAL             12/11/19 9:00 PM  UC Berkeley  SEAL Library     15.0   14.0\n",
       "SOCR             12/11/19 9:00 PM  UC Berkeley  SOCR Library     26.0   22.0\n",
       "Stacks East      12/11/19 9:00 PM  UC Berkeley    DOE STACKS    112.0  145.0\n",
       "TEST             12/11/19 9:00 PM          NaN           NaN      0.0    0.0\n",
       "VLSB1            12/11/19 9:00 PM  UC Berkeley  BIOS Library    106.0  110.0\n",
       "VLSB2            12/11/19 9:00 PM  UC Berkeley  BIOS Library    108.0   74.0"
      ]
     },
     "execution_count": 257,
     "metadata": {},
     "output_type": "execute_result"
    }
   ],
   "source": [
    "# DataFrames for your perusal \n",
    "\n",
    "lib_traffic.groupby('Entrance').max()"
   ]
  },
  {
   "cell_type": "code",
   "execution_count": 258,
   "metadata": {},
   "outputs": [
    {
     "data": {
      "text/html": [
       "<div>\n",
       "<style scoped>\n",
       "    .dataframe tbody tr th:only-of-type {\n",
       "        vertical-align: middle;\n",
       "    }\n",
       "\n",
       "    .dataframe tbody tr th {\n",
       "        vertical-align: top;\n",
       "    }\n",
       "\n",
       "    .dataframe thead th {\n",
       "        text-align: right;\n",
       "    }\n",
       "</style>\n",
       "<table border=\"1\" class=\"dataframe\">\n",
       "  <thead>\n",
       "    <tr style=\"text-align: right;\">\n",
       "      <th></th>\n",
       "      <th></th>\n",
       "      <th>Entries</th>\n",
       "      <th>Exits</th>\n",
       "    </tr>\n",
       "    <tr>\n",
       "      <th>Date-Time</th>\n",
       "      <th>Facility</th>\n",
       "      <th></th>\n",
       "      <th></th>\n",
       "    </tr>\n",
       "  </thead>\n",
       "  <tbody>\n",
       "    <tr>\n",
       "      <th rowspan=\"22\" valign=\"top\">12/11/19 10:00 AM</th>\n",
       "      <th>AHC Library</th>\n",
       "      <td>6.0</td>\n",
       "      <td>6.0</td>\n",
       "    </tr>\n",
       "    <tr>\n",
       "      <th>ANTH Library</th>\n",
       "      <td>24.0</td>\n",
       "      <td>14.0</td>\n",
       "    </tr>\n",
       "    <tr>\n",
       "      <th>BANC Library</th>\n",
       "      <td>29.0</td>\n",
       "      <td>47.0</td>\n",
       "    </tr>\n",
       "    <tr>\n",
       "      <th>BIOS Library</th>\n",
       "      <td>86.0</td>\n",
       "      <td>39.0</td>\n",
       "    </tr>\n",
       "    <tr>\n",
       "      <th>CHEM Library</th>\n",
       "      <td>45.0</td>\n",
       "      <td>27.0</td>\n",
       "    </tr>\n",
       "    <tr>\n",
       "      <th>DOE Library</th>\n",
       "      <td>238.0</td>\n",
       "      <td>86.0</td>\n",
       "    </tr>\n",
       "    <tr>\n",
       "      <th>DOE STACKS</th>\n",
       "      <td>83.0</td>\n",
       "      <td>147.0</td>\n",
       "    </tr>\n",
       "    <tr>\n",
       "      <th>EAL Library</th>\n",
       "      <td>66.0</td>\n",
       "      <td>18.0</td>\n",
       "    </tr>\n",
       "    <tr>\n",
       "      <th>EART Library</th>\n",
       "      <td>24.0</td>\n",
       "      <td>18.0</td>\n",
       "    </tr>\n",
       "    <tr>\n",
       "      <th>ENGI Library</th>\n",
       "      <td>87.0</td>\n",
       "      <td>24.0</td>\n",
       "    </tr>\n",
       "    <tr>\n",
       "      <th>ENVI Library</th>\n",
       "      <td>122.0</td>\n",
       "      <td>62.0</td>\n",
       "    </tr>\n",
       "    <tr>\n",
       "      <th>GRDS Library</th>\n",
       "      <td>21.0</td>\n",
       "      <td>8.0</td>\n",
       "    </tr>\n",
       "    <tr>\n",
       "      <th>HAAS Library</th>\n",
       "      <td>110.0</td>\n",
       "      <td>56.0</td>\n",
       "    </tr>\n",
       "    <tr>\n",
       "      <th>MATH Library</th>\n",
       "      <td>35.0</td>\n",
       "      <td>32.0</td>\n",
       "    </tr>\n",
       "    <tr>\n",
       "      <th>MOFF Library</th>\n",
       "      <td>322.0</td>\n",
       "      <td>149.0</td>\n",
       "    </tr>\n",
       "    <tr>\n",
       "      <th>MORR Library</th>\n",
       "      <td>20.0</td>\n",
       "      <td>10.0</td>\n",
       "    </tr>\n",
       "    <tr>\n",
       "      <th>MUSI</th>\n",
       "      <td>47.0</td>\n",
       "      <td>14.0</td>\n",
       "    </tr>\n",
       "    <tr>\n",
       "      <th>NEWS Library</th>\n",
       "      <td>11.0</td>\n",
       "      <td>7.0</td>\n",
       "    </tr>\n",
       "    <tr>\n",
       "      <th>OPTO Library</th>\n",
       "      <td>32.0</td>\n",
       "      <td>13.0</td>\n",
       "    </tr>\n",
       "    <tr>\n",
       "      <th>PHYS Library</th>\n",
       "      <td>13.0</td>\n",
       "      <td>6.0</td>\n",
       "    </tr>\n",
       "    <tr>\n",
       "      <th>SEAL Library</th>\n",
       "      <td>6.0</td>\n",
       "      <td>5.0</td>\n",
       "    </tr>\n",
       "    <tr>\n",
       "      <th>SOCR Library</th>\n",
       "      <td>13.0</td>\n",
       "      <td>9.0</td>\n",
       "    </tr>\n",
       "    <tr>\n",
       "      <th rowspan=\"8\" valign=\"top\">12/11/19 10:00 PM</th>\n",
       "      <th>AHC Library</th>\n",
       "      <td>0.0</td>\n",
       "      <td>0.0</td>\n",
       "    </tr>\n",
       "    <tr>\n",
       "      <th>ANTH Library</th>\n",
       "      <td>0.0</td>\n",
       "      <td>0.0</td>\n",
       "    </tr>\n",
       "    <tr>\n",
       "      <th>BANC Library</th>\n",
       "      <td>0.0</td>\n",
       "      <td>0.0</td>\n",
       "    </tr>\n",
       "    <tr>\n",
       "      <th>BIOS Library</th>\n",
       "      <td>6.0</td>\n",
       "      <td>63.0</td>\n",
       "    </tr>\n",
       "    <tr>\n",
       "      <th>CHEM Library</th>\n",
       "      <td>2.0</td>\n",
       "      <td>3.0</td>\n",
       "    </tr>\n",
       "    <tr>\n",
       "      <th>DOE Library</th>\n",
       "      <td>2.0</td>\n",
       "      <td>2.0</td>\n",
       "    </tr>\n",
       "    <tr>\n",
       "      <th>DOE STACKS</th>\n",
       "      <td>184.0</td>\n",
       "      <td>140.0</td>\n",
       "    </tr>\n",
       "    <tr>\n",
       "      <th>EAL Library</th>\n",
       "      <td>1.0</td>\n",
       "      <td>37.0</td>\n",
       "    </tr>\n",
       "    <tr>\n",
       "      <th>...</th>\n",
       "      <th>...</th>\n",
       "      <td>...</td>\n",
       "      <td>...</td>\n",
       "    </tr>\n",
       "    <tr>\n",
       "      <th rowspan=\"8\" valign=\"top\">12/11/19 9:00 AM</th>\n",
       "      <th>MOFF Library</th>\n",
       "      <td>297.0</td>\n",
       "      <td>109.0</td>\n",
       "    </tr>\n",
       "    <tr>\n",
       "      <th>MORR Library</th>\n",
       "      <td>0.0</td>\n",
       "      <td>0.0</td>\n",
       "    </tr>\n",
       "    <tr>\n",
       "      <th>MUSI</th>\n",
       "      <td>56.0</td>\n",
       "      <td>10.0</td>\n",
       "    </tr>\n",
       "    <tr>\n",
       "      <th>NEWS Library</th>\n",
       "      <td>4.0</td>\n",
       "      <td>2.0</td>\n",
       "    </tr>\n",
       "    <tr>\n",
       "      <th>OPTO Library</th>\n",
       "      <td>9.0</td>\n",
       "      <td>5.0</td>\n",
       "    </tr>\n",
       "    <tr>\n",
       "      <th>PHYS Library</th>\n",
       "      <td>10.0</td>\n",
       "      <td>5.0</td>\n",
       "    </tr>\n",
       "    <tr>\n",
       "      <th>SEAL Library</th>\n",
       "      <td>4.0</td>\n",
       "      <td>1.0</td>\n",
       "    </tr>\n",
       "    <tr>\n",
       "      <th>SOCR Library</th>\n",
       "      <td>12.0</td>\n",
       "      <td>5.0</td>\n",
       "    </tr>\n",
       "    <tr>\n",
       "      <th rowspan=\"22\" valign=\"top\">12/11/19 9:00 PM</th>\n",
       "      <th>AHC Library</th>\n",
       "      <td>2.0</td>\n",
       "      <td>4.0</td>\n",
       "    </tr>\n",
       "    <tr>\n",
       "      <th>ANTH Library</th>\n",
       "      <td>0.0</td>\n",
       "      <td>0.0</td>\n",
       "    </tr>\n",
       "    <tr>\n",
       "      <th>BANC Library</th>\n",
       "      <td>0.0</td>\n",
       "      <td>0.0</td>\n",
       "    </tr>\n",
       "    <tr>\n",
       "      <th>BIOS Library</th>\n",
       "      <td>23.0</td>\n",
       "      <td>44.0</td>\n",
       "    </tr>\n",
       "    <tr>\n",
       "      <th>CHEM Library</th>\n",
       "      <td>7.0</td>\n",
       "      <td>6.0</td>\n",
       "    </tr>\n",
       "    <tr>\n",
       "      <th>DOE Library</th>\n",
       "      <td>31.0</td>\n",
       "      <td>127.0</td>\n",
       "    </tr>\n",
       "    <tr>\n",
       "      <th>DOE STACKS</th>\n",
       "      <td>220.0</td>\n",
       "      <td>200.0</td>\n",
       "    </tr>\n",
       "    <tr>\n",
       "      <th>EAL Library</th>\n",
       "      <td>4.0</td>\n",
       "      <td>22.0</td>\n",
       "    </tr>\n",
       "    <tr>\n",
       "      <th>EART Library</th>\n",
       "      <td>0.0</td>\n",
       "      <td>0.0</td>\n",
       "    </tr>\n",
       "    <tr>\n",
       "      <th>ENGI Library</th>\n",
       "      <td>108.0</td>\n",
       "      <td>121.0</td>\n",
       "    </tr>\n",
       "    <tr>\n",
       "      <th>ENVI Library</th>\n",
       "      <td>65.0</td>\n",
       "      <td>67.0</td>\n",
       "    </tr>\n",
       "    <tr>\n",
       "      <th>GRDS Library</th>\n",
       "      <td>0.0</td>\n",
       "      <td>6.0</td>\n",
       "    </tr>\n",
       "    <tr>\n",
       "      <th>HAAS Library</th>\n",
       "      <td>51.0</td>\n",
       "      <td>78.0</td>\n",
       "    </tr>\n",
       "    <tr>\n",
       "      <th>MATH Library</th>\n",
       "      <td>0.0</td>\n",
       "      <td>0.0</td>\n",
       "    </tr>\n",
       "    <tr>\n",
       "      <th>MOFF Library</th>\n",
       "      <td>421.0</td>\n",
       "      <td>404.0</td>\n",
       "    </tr>\n",
       "    <tr>\n",
       "      <th>MORR Library</th>\n",
       "      <td>0.0</td>\n",
       "      <td>0.0</td>\n",
       "    </tr>\n",
       "    <tr>\n",
       "      <th>MUSI</th>\n",
       "      <td>0.0</td>\n",
       "      <td>0.0</td>\n",
       "    </tr>\n",
       "    <tr>\n",
       "      <th>NEWS Library</th>\n",
       "      <td>0.0</td>\n",
       "      <td>0.0</td>\n",
       "    </tr>\n",
       "    <tr>\n",
       "      <th>OPTO Library</th>\n",
       "      <td>0.0</td>\n",
       "      <td>6.0</td>\n",
       "    </tr>\n",
       "    <tr>\n",
       "      <th>PHYS Library</th>\n",
       "      <td>1.0</td>\n",
       "      <td>0.0</td>\n",
       "    </tr>\n",
       "    <tr>\n",
       "      <th>SEAL Library</th>\n",
       "      <td>0.0</td>\n",
       "      <td>0.0</td>\n",
       "    </tr>\n",
       "    <tr>\n",
       "      <th>SOCR Library</th>\n",
       "      <td>0.0</td>\n",
       "      <td>1.0</td>\n",
       "    </tr>\n",
       "  </tbody>\n",
       "</table>\n",
       "<p>528 rows × 2 columns</p>\n",
       "</div>"
      ],
      "text/plain": [
       "                                Entries  Exits\n",
       "Date-Time         Facility                    \n",
       "12/11/19 10:00 AM AHC Library       6.0    6.0\n",
       "                  ANTH Library     24.0   14.0\n",
       "                  BANC Library     29.0   47.0\n",
       "                  BIOS Library     86.0   39.0\n",
       "                  CHEM Library     45.0   27.0\n",
       "                  DOE Library     238.0   86.0\n",
       "                  DOE STACKS       83.0  147.0\n",
       "                  EAL Library      66.0   18.0\n",
       "                  EART Library     24.0   18.0\n",
       "                  ENGI Library     87.0   24.0\n",
       "                  ENVI Library    122.0   62.0\n",
       "                  GRDS Library     21.0    8.0\n",
       "                  HAAS Library    110.0   56.0\n",
       "                  MATH Library     35.0   32.0\n",
       "                  MOFF Library    322.0  149.0\n",
       "                  MORR Library     20.0   10.0\n",
       "                  MUSI             47.0   14.0\n",
       "                  NEWS Library     11.0    7.0\n",
       "                  OPTO Library     32.0   13.0\n",
       "                  PHYS Library     13.0    6.0\n",
       "                  SEAL Library      6.0    5.0\n",
       "                  SOCR Library     13.0    9.0\n",
       "12/11/19 10:00 PM AHC Library       0.0    0.0\n",
       "                  ANTH Library      0.0    0.0\n",
       "                  BANC Library      0.0    0.0\n",
       "                  BIOS Library      6.0   63.0\n",
       "                  CHEM Library      2.0    3.0\n",
       "                  DOE Library       2.0    2.0\n",
       "                  DOE STACKS      184.0  140.0\n",
       "                  EAL Library       1.0   37.0\n",
       "...                                 ...    ...\n",
       "12/11/19 9:00 AM  MOFF Library    297.0  109.0\n",
       "                  MORR Library      0.0    0.0\n",
       "                  MUSI             56.0   10.0\n",
       "                  NEWS Library      4.0    2.0\n",
       "                  OPTO Library      9.0    5.0\n",
       "                  PHYS Library     10.0    5.0\n",
       "                  SEAL Library      4.0    1.0\n",
       "                  SOCR Library     12.0    5.0\n",
       "12/11/19 9:00 PM  AHC Library       2.0    4.0\n",
       "                  ANTH Library      0.0    0.0\n",
       "                  BANC Library      0.0    0.0\n",
       "                  BIOS Library     23.0   44.0\n",
       "                  CHEM Library      7.0    6.0\n",
       "                  DOE Library      31.0  127.0\n",
       "                  DOE STACKS      220.0  200.0\n",
       "                  EAL Library       4.0   22.0\n",
       "                  EART Library      0.0    0.0\n",
       "                  ENGI Library    108.0  121.0\n",
       "                  ENVI Library     65.0   67.0\n",
       "                  GRDS Library      0.0    6.0\n",
       "                  HAAS Library     51.0   78.0\n",
       "                  MATH Library      0.0    0.0\n",
       "                  MOFF Library    421.0  404.0\n",
       "                  MORR Library      0.0    0.0\n",
       "                  MUSI              0.0    0.0\n",
       "                  NEWS Library      0.0    0.0\n",
       "                  OPTO Library      0.0    6.0\n",
       "                  PHYS Library      1.0    0.0\n",
       "                  SEAL Library      0.0    0.0\n",
       "                  SOCR Library      0.0    1.0\n",
       "\n",
       "[528 rows x 2 columns]"
      ]
     },
     "execution_count": 258,
     "metadata": {},
     "output_type": "execute_result"
    }
   ],
   "source": [
    "total_lib_traffic"
   ]
  },
  {
   "cell_type": "markdown",
   "metadata": {},
   "source": [
    "# Thanks for Coming! Now you know how to visualize data!\n",
    "\n",
    "##### *Daniel & Vincent*"
   ]
  },
  {
   "cell_type": "code",
   "execution_count": null,
   "metadata": {},
   "outputs": [],
   "source": []
  },
  {
   "cell_type": "code",
   "execution_count": null,
   "metadata": {},
   "outputs": [],
   "source": []
  },
  {
   "cell_type": "markdown",
   "metadata": {},
   "source": []
  }
 ],
 "metadata": {
  "colab": {
   "collapsed_sections": [
    "qiVIlE3ecVZE",
    "CRclVvBWcVZV",
    "LIddUmPBcVZp",
    "YtJ50hBDcVZ1",
    "qfHAiYsQcVZ-",
    "65oYc7PycVZf",
    "sEtWgqVccVaJ"
   ],
   "name": "Intro to Python.ipynb",
   "provenance": []
  },
  "kernelspec": {
   "display_name": "Python 3",
   "language": "python",
   "name": "python3"
  },
  "language_info": {
   "codemirror_mode": {
    "name": "ipython",
    "version": 3
   },
   "file_extension": ".py",
   "mimetype": "text/x-python",
   "name": "python",
   "nbconvert_exporter": "python",
   "pygments_lexer": "ipython3",
   "version": "3.7.3"
  }
 },
 "nbformat": 4,
 "nbformat_minor": 1
}
