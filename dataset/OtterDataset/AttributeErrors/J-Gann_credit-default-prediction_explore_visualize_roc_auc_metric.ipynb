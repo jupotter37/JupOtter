{
 "cells": [
  {
   "cell_type": "code",
   "execution_count": 1,
   "id": "bbf7c8c9-eed3-4a4e-9e47-6fae5c3ee352",
   "metadata": {},
   "outputs": [],
   "source": [
    "import pandas as pd\n",
    "import numpy as np\n",
    "from metric import amex_metric_np\n",
    "import matplotlib.pyplot as plt\n",
    "import seaborn as sns\n",
    "sns.set_theme(style='whitegrid')"
   ]
  },
  {
   "cell_type": "code",
   "execution_count": 18,
   "id": "34dc2952-08e6-4bac-8e80-85ce36eddb51",
   "metadata": {},
   "outputs": [],
   "source": [
    "truth_np_minority_indices = np.where(truth_np==1)\n",
    "truth_np_majority_indices = np.where(truth_np==0)[:len(truth_np_majority_indices)]\n",
    "\n",
    "truth_np_reduced = np.hstack((truth_np[truth_np_minority_indices], truth_np[truth_np_majority_indices]))\n",
    "truth_np = truth_np_reduced"
   ]
  },
  {
   "cell_type": "code",
   "execution_count": null,
   "id": "8ea9aacf-f3fb-4952-bcec-7ae677ce9811",
   "metadata": {},
   "outputs": [],
   "source": []
  },
  {
   "cell_type": "code",
   "execution_count": 3,
   "id": "8786924c-1252-4d17-b919-b3167ef58b03",
   "metadata": {},
   "outputs": [],
   "source": [
    "# Load Predictions\n",
    "data = {\n",
    "    'GBDT': pd.read_csv('results/preds_catboost.csv', index_col=0).to_numpy().flatten(),\n",
    "    'CNN': pd.read_csv('results/preds_cnn.csv').to_numpy().flatten(),\n",
    "    'FCN': pd.read_csv('results/preds_fcn.csv').to_numpy().flatten(),\n",
    "}"
   ]
  },
  {
   "cell_type": "code",
   "execution_count": 17,
   "id": "72d32c28-daf0-49f9-91f1-73f76a588109",
   "metadata": {},
   "outputs": [],
   "source": [
    "# Reduce to balanced indices\n",
    "for key in data.keys():\n",
    "    data[key] = np.hstack((data[key][truth_np_minority_indices], data[key][truth_np_majority_indices]))"
   ]
  },
  {
   "cell_type": "code",
   "execution_count": 4,
   "id": "ccc8e4f8-6138-40f7-b6dc-a8eedfb36e87",
   "metadata": {},
   "outputs": [],
   "source": [
    "# & Ground Truth\n",
    "truth_csv = 'results/test_y_ownsplit.csv' # Ground truth of our own validation split\n",
    "truth_df = pd.read_csv(truth_csv, index_col=0)\n",
    "truth_np = truth_df.to_numpy().flatten()"
   ]
  },
  {
   "cell_type": "markdown",
   "id": "5879e9f8-a7e5-459a-8cdb-38983fcc6b9e",
   "metadata": {},
   "source": [
    "First, standard AMEX metric."
   ]
  },
  {
   "cell_type": "code",
   "execution_count": 21,
   "id": "de062e70-7696-4bbb-a5cb-9be886257cab",
   "metadata": {},
   "outputs": [
    {
     "name": "stdout",
     "output_type": "stream",
     "text": [
      "Metric for GBDT: 0.781752325648032\n",
      "Metric for CNN: 0.7769457846180265\n",
      "Metric for FCN: 0.7764877714601739\n"
     ]
    }
   ],
   "source": [
    "for method_name, method_arr in data.items():\n",
    "    print(f'Metric for {method_name}: {amex_metric_np(truth_np, method_arr)}')"
   ]
  },
  {
   "cell_type": "markdown",
   "id": "eb7a711e-232c-47b2-b4bf-9cb7b9ea543d",
   "metadata": {},
   "source": [
    "Then, ROC Curve."
   ]
  },
  {
   "cell_type": "code",
   "execution_count": 22,
   "id": "3f9c286c-2375-4a6d-8c5c-5c0dd4ad8174",
   "metadata": {},
   "outputs": [
    {
     "name": "stdout",
     "output_type": "stream",
     "text": [
      "AUROC for GBDT: 0.9590741512810189\n",
      "AUROC for CNN: 0.9569581971825111\n",
      "AUROC for FCN: 0.9567996361923539\n"
     ]
    },
    {
     "data": {
      "image/png": "[encoded data removed]",
      "text/plain": [
       "<Figure size 432x288 with 1 Axes>"
      ]
     },
     "metadata": {
      "needs_background": "light"
     },
     "output_type": "display_data"
    }
   ],
   "source": [
    "for idx, (method_name, method_arr) in enumerate(data.items()):\n",
    "    operating_point = 0.0\n",
    "    operating_point_step = 0.01\n",
    "    sensitivities = []\n",
    "    specificities = []\n",
    "\n",
    "    while operating_point < 1.0:\n",
    "        default_predictions = (method_arr > operating_point).astype(int)\n",
    "        true_positives = np.count_nonzero((default_predictions == 1) & (truth_np == 1))\n",
    "        true_negatives = np.count_nonzero((default_predictions == 0) & (truth_np == 0)) \n",
    "        false_positives = np.count_nonzero((default_predictions == 1) & (truth_np == 0)) \n",
    "        false_negatives = np.count_nonzero((default_predictions == 0) & (truth_np == 1)) \n",
    "        # Proportion of true positive predictions among all positives\n",
    "        sensitivity = (true_positives / (true_positives + false_negatives))\n",
    "        # Proportion of true negative predictions among all negatives\n",
    "        specificity = (true_negatives / (true_negatives + false_positives))\n",
    "\n",
    "        sensitivities.append(sensitivity)\n",
    "        specificities.append(specificity)\n",
    "        operating_point += operating_point_step\n",
    "    # Correct start and end values\n",
    "    sensitivities[-1] = 0\n",
    "    specificities[-1] = 1\n",
    "    sensitivities = np.array(sensitivities)\n",
    "    specificities = np.array(specificities)\n",
    "\n",
    "    \n",
    "    plt.plot(1-specificities, sensitivities)\n",
    "    plt.title(method_name)\n",
    "    plt.ylabel('sensitivity')\n",
    "    plt.xlabel('1 - specificity')\n",
    "    plt.xlim(-.01,1)\n",
    "    plt.ylim(0,1.1)\n",
    "    plt.savefig(f'plots/results_roc_{method_name}.pdf')\n",
    "    \n",
    "    print(f'AUROC for {method_name}: {np.abs(np.trapz(sensitivities, x=1-specificities))}')"
   ]
  },
  {
   "cell_type": "markdown",
   "id": "806b033d-72e8-48b1-a489-ca070301ea17",
   "metadata": {},
   "source": [
    "Now, prepare csv with categorical cross entropy and give it to R for further analysis"
   ]
  },
  {
   "cell_type": "code",
   "execution_count": 35,
   "id": "61200b49-d6ea-45d2-90f0-85a6e56a9cca",
   "metadata": {},
   "outputs": [],
   "source": [
    "dfs = []\n",
    "epsilon = 1e-9 # numerical stability\n",
    "for method_name, method_arr in data.items():\n",
    "    cross_entropy = -(truth_np*np.log(method_arr + epsilon) + (1 - truth_np)*np.log(1 - (method_arr - epsilon)))\n",
    "    l1 = np.abs(truth_np - method_arr)\n",
    "    #cross_entropy[cross_entropy>1]=1. # Clip values at 1\n",
    "    #cross_entropy_one_minus = 1-cross_entropy\n",
    "    #rms = np.sqrt((truth_np - method_arr)**2)\n",
    "    df = pd.DataFrame(np.dstack((truth_np, method_arr, cross_entropy, l1, [method_name] * len(method_arr))).squeeze(), columns=['true', 'pred', 'cross_entropy', 'l1', 'method'])\n",
    "    df['cross_entropy'] = df['cross_entropy'].astype(np.float64)\n",
    "    dfs.append(df)"
   ]
  },
  {
   "cell_type": "code",
   "execution_count": 36,
   "id": "156ec18d-c6f7-402b-a812-0441d00cf37a",
   "metadata": {},
   "outputs": [],
   "source": [
    "df = pd.concat(dfs)\n",
    "df.to_csv('results/preds_processed_for_challenger.csv')"
   ]
  },
  {
   "cell_type": "code",
   "execution_count": 34,
   "id": "58726216-3b01-4d60-98e1-72d707cf1a0d",
   "metadata": {},
   "outputs": [
    {
     "ename": "AttributeError",
     "evalue": "'DataFrame' object has no attribute 'cross_entropy_one_minus'",
     "output_type": "error",
     "traceback": [
      "\u001b[0;31m---------------------------------------------------------------------------\u001b[0m",
      "\u001b[0;31mAttributeError\u001b[0m                            Traceback (most recent call last)",
      "\u001b[0;32m/tmp/ipykernel_164205/1046492187.py\u001b[0m in \u001b[0;36m<module>\u001b[0;34m\u001b[0m\n\u001b[0;32m----> 1\u001b[0;31m \u001b[0mdf\u001b[0m\u001b[0;34m.\u001b[0m\u001b[0mcross_entropy_one_minus\u001b[0m\u001b[0;34m.\u001b[0m\u001b[0mastype\u001b[0m\u001b[0;34m(\u001b[0m\u001b[0mnp\u001b[0m\u001b[0;34m.\u001b[0m\u001b[0mfloat64\u001b[0m\u001b[0;34m)\u001b[0m\u001b[0;34m.\u001b[0m\u001b[0mmax\u001b[0m\u001b[0;34m(\u001b[0m\u001b[0;34m)\u001b[0m\u001b[0;34m\u001b[0m\u001b[0;34m\u001b[0m\u001b[0m\n\u001b[0m",
      "\u001b[0;32m~/.pyenv/versions/3.7.12/envs/220509_aml/lib/python3.7/site-packages/pandas/core/generic.py\u001b[0m in \u001b[0;36m__getattr__\u001b[0;34m(self, name)\u001b[0m\n\u001b[1;32m   5485\u001b[0m         ):\n\u001b[1;32m   5486\u001b[0m             \u001b[0;32mreturn\u001b[0m \u001b[0mself\u001b[0m\u001b[0;34m[\u001b[0m\u001b[0mname\u001b[0m\u001b[0;34m]\u001b[0m\u001b[0;34m\u001b[0m\u001b[0;34m\u001b[0m\u001b[0m\n\u001b[0;32m-> 5487\u001b[0;31m         \u001b[0;32mreturn\u001b[0m \u001b[0mobject\u001b[0m\u001b[0;34m.\u001b[0m\u001b[0m__getattribute__\u001b[0m\u001b[0;34m(\u001b[0m\u001b[0mself\u001b[0m\u001b[0;34m,\u001b[0m \u001b[0mname\u001b[0m\u001b[0;34m)\u001b[0m\u001b[0;34m\u001b[0m\u001b[0;34m\u001b[0m\u001b[0m\n\u001b[0m\u001b[1;32m   5488\u001b[0m \u001b[0;34m\u001b[0m\u001b[0m\n\u001b[1;32m   5489\u001b[0m     \u001b[0;32mdef\u001b[0m \u001b[0m__setattr__\u001b[0m\u001b[0;34m(\u001b[0m\u001b[0mself\u001b[0m\u001b[0;34m,\u001b[0m \u001b[0mname\u001b[0m\u001b[0;34m:\u001b[0m \u001b[0mstr\u001b[0m\u001b[0;34m,\u001b[0m \u001b[0mvalue\u001b[0m\u001b[0;34m)\u001b[0m \u001b[0;34m->\u001b[0m \u001b[0;32mNone\u001b[0m\u001b[0;34m:\u001b[0m\u001b[0;34m\u001b[0m\u001b[0;34m\u001b[0m\u001b[0m\n",
      "\u001b[0;31mAttributeError\u001b[0m: 'DataFrame' object has no attribute 'cross_entropy_one_minus'"
     ]
    }
   ],
   "source": [
    "df.cross_entropy_one_minus.astype(np.float64).max()"
   ]
  },
  {
   "cell_type": "code",
   "execution_count": 28,
   "id": "31024379-2d3c-421f-8d09-bbaed13f93c5",
   "metadata": {},
   "outputs": [
    {
     "data": {
      "text/plain": [
       "array([4.6016600e-03, 4.0517140e-01, 9.2616574e-01, ..., 3.0364661e-05,\n",
       "       3.6544637e-03, 1.9089799e-01])"
      ]
     },
     "execution_count": 28,
     "metadata": {},
     "output_type": "execute_result"
    }
   ],
   "source": [
    "rms"
   ]
  },
  {
   "cell_type": "code",
   "execution_count": 230,
   "id": "a01acf76-002d-41fc-8ff3-13a60652902a",
   "metadata": {},
   "outputs": [],
   "source": []
  },
  {
   "cell_type": "code",
   "execution_count": null,
   "id": "ad547be3-dc91-43f8-8c22-47e4aa11425d",
   "metadata": {},
   "outputs": [],
   "source": []
  }
 ],
 "metadata": {
  "kernelspec": {
   "display_name": "Python 3 (ipykernel)",
   "language": "python",
   "name": "python3"
  },
  "language_info": {
   "codemirror_mode": {
    "name": "ipython",
    "version": 3
   },
   "file_extension": ".py",
   "mimetype": "text/x-python",
   "name": "python",
   "nbconvert_exporter": "python",
   "pygments_lexer": "ipython3",
   "version": "3.7.12"
  }
 },
 "nbformat": 4,
 "nbformat_minor": 5
}
