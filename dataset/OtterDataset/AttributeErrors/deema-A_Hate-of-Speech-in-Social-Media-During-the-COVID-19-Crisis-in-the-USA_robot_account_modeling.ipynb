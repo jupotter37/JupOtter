{
  "nbformat": 4,
  "nbformat_minor": 0,
  "metadata": {
    "colab": {
      "name": "Untitled0.ipynb",
      "provenance": [],
      "collapsed_sections": []
    },
    "kernelspec": {
      "name": "python3",
      "display_name": "Python 3"
    },
    "language_info": {
      "name": "python"
    }
  },
  "cells": [
    {
      "cell_type": "code",
      "metadata": {
        "id": "hxtepERLd2kE"
      },
      "source": [
        "from wordcloud import WordCloud, STOPWORDS\n",
        "import pandas as pd\n",
        "import glob\n",
        "import matplotlib.pyplot as plt\n",
        "\n"
      ],
      "execution_count": 1,
      "outputs": []
    },
    {
      "cell_type": "code",
      "metadata": {
        "colab": {
          "base_uri": "https://localhost:8080/",
          "height": 418
        },
        "id": "sgGibqWUePma",
        "outputId": "259ced20-ff76-45b1-c5af-c14ed1dd7149"
      },
      "source": [
        "\n",
        "\n",
        "header_list = [\"grams\", \"counts\"]\n",
        "\n",
        "path = r\"/content/sample_data/CovidAug\"\n",
        "all_files = glob.glob(path + \"/*.csv\")\n",
        "li = []\n",
        "\n",
        "for filename in all_files:\n",
        "    df = pd.read_csv(filename, index_col=None,  names=header_list)\n",
        "    li.append(df)\n",
        "\n",
        "data1 = pd.concat(li, axis=0, ignore_index=True)\n",
        "S = set([\"china\", \"wuhan\",\"wuhanvirus\",\"hate\",\"democrats\",\"trump\",\"fuck\",\"fucking\",\"realdonaldtrump\",\"ass\",\"iran\",\"lies\",\"shit\",\"chinese\",\"biden\",\"russia\",\"fake\",\"japan\",\"korea\",\"india\",\"asiavirus\",\"damn\"])\n",
        "\n",
        "d = {}\n",
        "for a, x in data1.values:\n",
        "  if(a == 'gram'):\n",
        "    continue\n",
        "\n",
        "  a = str(a).lower()\n",
        "  #     d[a] +=  int(x)\n",
        "  dig = int(x)\n",
        "\n",
        "  # email_contains_service = any(email_service in user_email for email_service in email_services)\n",
        "\n",
        "  if(a in S):\n",
        "    if(a in d):\n",
        "      d[a] += dig\n",
        "    else:\n",
        "      d[a] = dig \n",
        "  if(any(s1 in a for s1 in S)):\n",
        "    if(a in d):\n",
        "      d[a] += dig\n",
        "    else:\n",
        "      d[a] = dig \n",
        "\n",
        "\n",
        "comment_words=\"\";\n",
        "stop_words =[\"nan\", \"get\"]\n",
        "\n",
        "\n",
        "# wordcloud = WordCloud()\n",
        "# wordcloud.generate_from_frequencies(d)\n",
        "# plt.figure()\n",
        "# plt.imshow(wordcloud, interpolation=\"bilinear\")\n",
        "# plt.axis(\"off\")\n",
        "# plt.show()\n",
        "\n",
        "\n",
        "\n",
        "\n",
        "\n",
        "final_wordcloud = WordCloud(width = 800, height = 800, \n",
        "                background_color ='black', \n",
        "                stopwords = STOPWORDS.add(\"nan\"), \n",
        "                min_font_size = 10).generate_from_frequencies(frequencies=d)\n",
        "# Displaying the WordCloud                    \n",
        "plt.figure(figsize = (10, 10), facecolor = None) \n",
        "plt.imshow(final_wordcloud) \n",
        "plt.axis(\"off\") \n",
        "plt.tight_layout(pad = 0) \n",
        "  \n",
        "plt.show()"
      ],
      "execution_count": 2,
      "outputs": [
        {
          "output_type": "error",
          "ename": "ValueError",
          "evalue": "ignored",
          "traceback": [
            "\u001b[0;31m---------------------------------------------------------------------------\u001b[0m",
            "\u001b[0;31mValueError\u001b[0m                                Traceback (most recent call last)",
            "\u001b[0;32m<ipython-input-2-69350b9bd6f3>\u001b[0m in \u001b[0;36m<module>\u001b[0;34m()\u001b[0m\n\u001b[1;32m     11\u001b[0m     \u001b[0mli\u001b[0m\u001b[0;34m.\u001b[0m\u001b[0mappend\u001b[0m\u001b[0;34m(\u001b[0m\u001b[0mdf\u001b[0m\u001b[0;34m)\u001b[0m\u001b[0;34m\u001b[0m\u001b[0;34m\u001b[0m\u001b[0m\n\u001b[1;32m     12\u001b[0m \u001b[0;34m\u001b[0m\u001b[0m\n\u001b[0;32m---> 13\u001b[0;31m \u001b[0mdata1\u001b[0m \u001b[0;34m=\u001b[0m \u001b[0mpd\u001b[0m\u001b[0;34m.\u001b[0m\u001b[0mconcat\u001b[0m\u001b[0;34m(\u001b[0m\u001b[0mli\u001b[0m\u001b[0;34m,\u001b[0m \u001b[0maxis\u001b[0m\u001b[0;34m=\u001b[0m\u001b[0;36m0\u001b[0m\u001b[0;34m,\u001b[0m \u001b[0mignore_index\u001b[0m\u001b[0;34m=\u001b[0m\u001b[0;32mTrue\u001b[0m\u001b[0;34m)\u001b[0m\u001b[0;34m\u001b[0m\u001b[0;34m\u001b[0m\u001b[0m\n\u001b[0m\u001b[1;32m     14\u001b[0m \u001b[0mS\u001b[0m \u001b[0;34m=\u001b[0m \u001b[0mset\u001b[0m\u001b[0;34m(\u001b[0m\u001b[0;34m[\u001b[0m\u001b[0;34m\"china\"\u001b[0m\u001b[0;34m,\u001b[0m \u001b[0;34m\"wuhan\"\u001b[0m\u001b[0;34m,\u001b[0m\u001b[0;34m\"wuhanvirus\"\u001b[0m\u001b[0;34m,\u001b[0m\u001b[0;34m\"hate\"\u001b[0m\u001b[0;34m,\u001b[0m\u001b[0;34m\"democrats\"\u001b[0m\u001b[0;34m,\u001b[0m\u001b[0;34m\"trump\"\u001b[0m\u001b[0;34m,\u001b[0m\u001b[0;34m\"fuck\"\u001b[0m\u001b[0;34m,\u001b[0m\u001b[0;34m\"fucking\"\u001b[0m\u001b[0;34m,\u001b[0m\u001b[0;34m\"realdonaldtrump\"\u001b[0m\u001b[0;34m,\u001b[0m\u001b[0;34m\"ass\"\u001b[0m\u001b[0;34m,\u001b[0m\u001b[0;34m\"iran\"\u001b[0m\u001b[0;34m,\u001b[0m\u001b[0;34m\"lies\"\u001b[0m\u001b[0;34m,\u001b[0m\u001b[0;34m\"shit\"\u001b[0m\u001b[0;34m,\u001b[0m\u001b[0;34m\"chinese\"\u001b[0m\u001b[0;34m,\u001b[0m\u001b[0;34m\"biden\"\u001b[0m\u001b[0;34m,\u001b[0m\u001b[0;34m\"russia\"\u001b[0m\u001b[0;34m,\u001b[0m\u001b[0;34m\"fake\"\u001b[0m\u001b[0;34m,\u001b[0m\u001b[0;34m\"japan\"\u001b[0m\u001b[0;34m,\u001b[0m\u001b[0;34m\"korea\"\u001b[0m\u001b[0;34m,\u001b[0m\u001b[0;34m\"india\"\u001b[0m\u001b[0;34m,\u001b[0m\u001b[0;34m\"asiavirus\"\u001b[0m\u001b[0;34m,\u001b[0m\u001b[0;34m\"damn\"\u001b[0m\u001b[0;34m]\u001b[0m\u001b[0;34m)\u001b[0m\u001b[0;34m\u001b[0m\u001b[0;34m\u001b[0m\u001b[0m\n\u001b[1;32m     15\u001b[0m \u001b[0;34m\u001b[0m\u001b[0m\n",
            "\u001b[0;32m/usr/local/lib/python3.7/dist-packages/pandas/core/reshape/concat.py\u001b[0m in \u001b[0;36mconcat\u001b[0;34m(objs, axis, join, ignore_index, keys, levels, names, verify_integrity, sort, copy)\u001b[0m\n\u001b[1;32m    282\u001b[0m         \u001b[0mverify_integrity\u001b[0m\u001b[0;34m=\u001b[0m\u001b[0mverify_integrity\u001b[0m\u001b[0;34m,\u001b[0m\u001b[0;34m\u001b[0m\u001b[0;34m\u001b[0m\u001b[0m\n\u001b[1;32m    283\u001b[0m         \u001b[0mcopy\u001b[0m\u001b[0;34m=\u001b[0m\u001b[0mcopy\u001b[0m\u001b[0;34m,\u001b[0m\u001b[0;34m\u001b[0m\u001b[0;34m\u001b[0m\u001b[0m\n\u001b[0;32m--> 284\u001b[0;31m         \u001b[0msort\u001b[0m\u001b[0;34m=\u001b[0m\u001b[0msort\u001b[0m\u001b[0;34m,\u001b[0m\u001b[0;34m\u001b[0m\u001b[0;34m\u001b[0m\u001b[0m\n\u001b[0m\u001b[1;32m    285\u001b[0m     )\n\u001b[1;32m    286\u001b[0m \u001b[0;34m\u001b[0m\u001b[0m\n",
            "\u001b[0;32m/usr/local/lib/python3.7/dist-packages/pandas/core/reshape/concat.py\u001b[0m in \u001b[0;36m__init__\u001b[0;34m(self, objs, axis, join, keys, levels, names, ignore_index, verify_integrity, copy, sort)\u001b[0m\n\u001b[1;32m    329\u001b[0m \u001b[0;34m\u001b[0m\u001b[0m\n\u001b[1;32m    330\u001b[0m         \u001b[0;32mif\u001b[0m \u001b[0mlen\u001b[0m\u001b[0;34m(\u001b[0m\u001b[0mobjs\u001b[0m\u001b[0;34m)\u001b[0m \u001b[0;34m==\u001b[0m \u001b[0;36m0\u001b[0m\u001b[0;34m:\u001b[0m\u001b[0;34m\u001b[0m\u001b[0;34m\u001b[0m\u001b[0m\n\u001b[0;32m--> 331\u001b[0;31m             \u001b[0;32mraise\u001b[0m \u001b[0mValueError\u001b[0m\u001b[0;34m(\u001b[0m\u001b[0;34m\"No objects to concatenate\"\u001b[0m\u001b[0;34m)\u001b[0m\u001b[0;34m\u001b[0m\u001b[0;34m\u001b[0m\u001b[0m\n\u001b[0m\u001b[1;32m    332\u001b[0m \u001b[0;34m\u001b[0m\u001b[0m\n\u001b[1;32m    333\u001b[0m         \u001b[0;32mif\u001b[0m \u001b[0mkeys\u001b[0m \u001b[0;32mis\u001b[0m \u001b[0;32mNone\u001b[0m\u001b[0;34m:\u001b[0m\u001b[0;34m\u001b[0m\u001b[0;34m\u001b[0m\u001b[0m\n",
            "\u001b[0;31mValueError\u001b[0m: No objects to concatenate"
          ]
        }
      ]
    },
    {
      "cell_type": "code",
      "source": [
        "\n",
        "\n",
        "header_list = [\"grams\", \"counts\"]\n",
        "\n",
        "path = r\"/content/sample_data/CovidAug\"\n",
        "all_files = glob.glob(path + \"/*.csv\")\n",
        "li = []jfajfjads\n",
        "\n",
        "for filename in all_files:\n",
        "    df = pd.read_csv(filename, index_col=None,  names=header_list)\n",
        "    li.append(df)\n",
        "\n",
        "data1 = pd.concat(li, axis=0, ignore_index=True)\n",
        "S = set([\"china\", \"wuhan\",\"wuhanvirus\",\"hate\",\"democrats\",\"trump\",\"fuck\",\"fucking\",\"realdonaldtrump\",\"ass\",\"iran\",\"lies\",\"shit\",\"chinese\",\"biden\",\"russia\",\"fake\",\"japan\",\"korea\",\"india\",\"asiavirus\",\"damn\"])\n",
        "\n",
        "d = {}\n",
        "for a, x in data1.values:\n",
        "  if(a == 'gram'):\n",
        "    continue\n",
        "\n",
        "  a = str(a).lower()\n",
        "  #     d[a] +=  int(x)\n",
        "  dig = int(x)\n",
        "\n",
        "  # email_contains_service = any(email_service in user_email for email_service in email_services)\n",
        "\n",
        "  if(a in S):\n",
        "    if(a in d):\n",
        "      d[a] += dig\n",
        "    else:\n",
        "      d[a] = dig \n",
        "  if(any(s1 in a for s1 in S)):\n",
        "    if(a in d):\n",
        "      d[a] += dig\n",
        "    else:\n",
        "      d[a] = dig \n",
        "\n",
        "\n",
        "comment_words=\"\";\n",
        "stop_words =[\"nan\", \"get\"]\n",
        "\n",
        "\n",
        "# wordcloud = WordCloud()\n",
        "# wordcloud.generate_from_frequencies(d)\n",
        "# plt.figure()\n",
        "# plt.imshow(wordcloud, interpolation=\"bilinear\")\n",
        "# plt.axis(\"off\")\n",
        "# plt.show()\n",
        "\n",
        "\n",
        "\n",
        "\n",
        "\n",
        "final_wordcloud = WordCloud(width = 800, height = 800, \n",
        "                background_color ='black', \n",
        "                stopwords = STOPWORDS.add(\"nan\"), \n",
        "                min_font_size = 10).generate_from_frequencies(frequencies=d)\n",
        "# Displaying the WordCloud                    \n",
        "plt.figure(figsize = (10, 10), facecolor = None) \n",
        "plt.imshow(final_wordcloud) \n",
        "plt.axis(\"off\") \n",
        "plt.tight_layout(pad = 0) \n",
        "  \n",
        "plt.show()"
      ],
      "metadata": {
        "id": "uAhHAh8M1L3P"
      },
      "execution_count": null,
      "outputs": []
    },
    {
      "cell_type": "markdown",
      "metadata": {
        "id": "_RweHzRWcKmf"
      },
      "source": [
        "# New Section"
      ]
    },
    {
      "cell_type": "markdown",
      "metadata": {
        "id": "HD97oAmrcNEC"
      },
      "source": [
        "# New Section"
      ]
    },
    {
      "cell_type": "code",
      "metadata": {
        "id": "5QkbjDRDcRGI",
        "colab": {
          "base_uri": "https://localhost:8080/",
          "height": 374
        },
        "outputId": "8ee0e1f0-b374-46e8-d07e-5339c32df538"
      },
      "source": [
        "import botometer\n",
        "\n",
        "rapidapi_key = \"ee43f095fbmsh6472d4cf4869843p1fb9f5jsn31ebebc8b0aa\"\n",
        "twitter_app_auth = {\n",
        "    'consumer_key': '7H9bwLeJooVwlk0tE3MkDQroI',\n",
        "    'consumer_secret': '6CheZwTFvWqydGJk5cNp3RAIzbg2E99lHM3xCmXHDzP2ie8ofy',\n",
        "    'access_token': '777934659913150464-1aMcbES1CiL8dUdsFwziPfBF33hqLIw',\n",
        "    'access_token_secret': 'dPXOESltOrfzC3vnhTKnVv4Mw7yAZisaSVu4Gtvsua4To',\n",
        "  }\n",
        "bom = botometer.Botometer(wait_on_ratelimit=True,\n",
        "                          rapidapi_key=rapidapi_key,\n",
        "                          **twitter_app_auth)\n",
        "\n",
        "# Check a single account by screen name\n",
        "result = bom.check_account('@clayadavis')\n",
        "\n",
        "# Check a single account by id\n",
        "result = bom.check_account(1548959833)\n",
        "\n",
        "# Check a sequence of accounts\n",
        "accounts = ['@clayadavis', '@onurvarol', '@jabawack']\n",
        "# for screen_name, result in bom.check_accounts_in(accounts):\n"
      ],
      "execution_count": null,
      "outputs": [
        {
          "output_type": "error",
          "ename": "ModuleNotFoundError",
          "evalue": "ignored",
          "traceback": [
            "\u001b[0;31m---------------------------------------------------------------------------\u001b[0m",
            "\u001b[0;31mModuleNotFoundError\u001b[0m                       Traceback (most recent call last)",
            "\u001b[0;32m<ipython-input-6-86579f82ba4e>\u001b[0m in \u001b[0;36m<module>\u001b[0;34m()\u001b[0m\n\u001b[0;32m----> 1\u001b[0;31m \u001b[0;32mimport\u001b[0m \u001b[0mbotometer\u001b[0m\u001b[0;34m\u001b[0m\u001b[0;34m\u001b[0m\u001b[0m\n\u001b[0m\u001b[1;32m      2\u001b[0m \u001b[0;34m\u001b[0m\u001b[0m\n\u001b[1;32m      3\u001b[0m \u001b[0mrapidapi_key\u001b[0m \u001b[0;34m=\u001b[0m \u001b[0;34m\"ee43f095fbmsh6472d4cf4869843p1fb9f5jsn31ebebc8b0aa\"\u001b[0m\u001b[0;34m\u001b[0m\u001b[0;34m\u001b[0m\u001b[0m\n\u001b[1;32m      4\u001b[0m twitter_app_auth = {\n\u001b[1;32m      5\u001b[0m     \u001b[0;34m'consumer_key'\u001b[0m\u001b[0;34m:\u001b[0m \u001b[0;34m'7H9bwLeJooVwlk0tE3MkDQroI'\u001b[0m\u001b[0;34m,\u001b[0m\u001b[0;34m\u001b[0m\u001b[0;34m\u001b[0m\u001b[0m\n",
            "\u001b[0;31mModuleNotFoundError\u001b[0m: No module named 'botometer'",
            "",
            "\u001b[0;31m---------------------------------------------------------------------------\u001b[0;32m\nNOTE: If your import is failing due to a missing package, you can\nmanually install dependencies using either !pip or !apt.\n\nTo view examples of installing some common dependencies, click the\n\"Open Examples\" button below.\n\u001b[0;31m---------------------------------------------------------------------------\u001b[0m\n"
          ],
          "errorDetails": {
            "actions": [
              {
                "action": "open_url",
                "actionText": "Open Examples",
                "url": "/notebooks/snippets/importing_libraries.ipynb"
              }
            ]
          }
        }
      ]
    },
    {
      "cell_type": "code",
      "metadata": {
        "id": "fNJx5jodilhc"
      },
      "source": [
        "import botometer\n",
        "\n",
        "import glob\n",
        "import pandas as pd\n",
        "import json\n",
        "import matplotlib.pyplot as plt\n",
        "\n",
        "header_list = [\"grams\", \"counts\"]\n",
        "\n",
        "path = r\"/Users/matthew/PycharmProjects/pythonProject4/\"\n",
        "all_files = glob.glob(path + \"/*.csv\")\n",
        "li = []\n",
        "\n",
        "df = pd.read_csv(name, index_col=None)\n",
        "# data1 = pd.concat(li, axis=0, ignore_index=True)\n",
        "# info = ['3976376658']\n",
        "print(\"lenis\", len(df.values))\n",
        "jsonString = []\n",
        "i = 0\n",
        "actusercount = 0;\n",
        "fakeusercount = 0;\n",
        "for id1 in df.values:\n",
        "    i = i + 1\n",
        "    userid = id1[1]\n",
        "    print(\"that id is\", id1[1])\n",
        "\n",
        "    d = json.loads(id1)\n",
        "    print(\"that id is\", d)\n",
        "    rapidapi_key = 'ee43f095fbmsh6472d4cf4869843p1fb9f5jsn31ebebc8b0aa'\n",
        "    twitter_app_auth = {\n",
        "        'consumer_key': '7H9bwLeJooVwlk0tE3MkDQroI',\n",
        "        'consumer_secret': '6CheZwTFvWqydGJk5cNp3RAIzbg2E99lHM3xCmXHDzP2ie8ofy',\n",
        "        'access_token': '777934659913150464-1aMcbES1CiL8dUdsFwziPfBF33hqLIw',\n",
        "        'access_token_secret': 'dPXOESltOrfzC3vnhTKnVv4Mw7yAZisaSVu4Gtvsua4To',\n",
        "      }\n",
        "\n",
        "    twitter_app_auth = {\n",
        "        'consumer_key': '7H9bwLeJooVwlk0tE3MkDQroI',\n",
        "        'consumer_secret': '6CheZwTFvWqydGJk5cNp3RAIzbg2E99lHM3xCmXHDzP2ie8ofy',\n",
        "    }\n",
        "\n",
        "    bom = botometer.Botometer(wait_on_ratelimit=True,\n",
        "                              rapidapi_key=rapidapi_key,\n",
        "                              **twitter_app_auth)\n",
        "\n",
        "    #\n",
        "    bom = botometer.Botometer(wait_on_ratelimit=True,\n",
        "                              rapidapi_key=rapidapi_key,\n",
        "                              **twitter_app_auth)\n",
        "\n",
        "    # Check a single account by screen name\n",
        "    result = bom.check_account('@clayadavis')\n",
        "\n",
        "    # Check a single account by id\n",
        "    result = bom.check_account(userid)\n",
        "    robot_score = result['cap']['universal']\n",
        "    print(\"score info\", robot_score)\n",
        "\n",
        "    print(json.dumps({\"score\": str(robot_score), \"userid\": str(userid)}))\n",
        "    y = json.dumps({\"score\": str(robot_score), \"userid\": str(userid)})\n",
        "    str1 = str(robot_score) + \",\" + str(userid)\n",
        "    jsonString.append(str1)\n",
        "\n",
        "    if float(robot_score) > 0.5:\n",
        "        actusercount += 1\n",
        "    else:\n",
        "        fakeusercount += 1\n",
        "\n",
        "    jsonString.append(y)\n",
        "    dictionary = {'userid': userid, 'score': robot_score }\n",
        "    jsonString = json.dumps(dictionary, indent=4)\n",
        "    print(jsonString)\n",
        "\n",
        "print(actusercount, fakeusercount)\n",
        "with open('aug08.csv', 'w') as f:\n",
        "    f.write(\"user,id\")\n",
        "    f.write('\\n')\n",
        "    for line in jsonString:\n",
        "        f.write(line)\n",
        "        f.write('\\n')\n",
        "\n",
        "# for filename in all_files:\n",
        "#     df = pd.read_csv(filename, index_col=None,  names=header_list)\n",
        "#     print(df)\n",
        "#     li.append(df)\n",
        "\n",
        "# data1 = pd.concat(li, axis=0, ignore_index=True)\n",
        "\n",
        "# S = set([\"china\", \"wuhan\",\"wuhanvirus\",\"hate\",\"democrats\",\"trump\",\"fuck\",\"fucking\",\"realdonaldtrump\",\"ass\",\"iran\",\"lies\",\"shit\",\"chinese\",\"biden\",\"russia\",\"fake\",\"japan\",\"korea\",\"india\",\"asiavirus\",\"damn\"])\n",
        "\n",
        "\n",
        "# Check a sequence of accounts\n",
        "# accounts = ['@clayadavis', '@onurvarol', '@jabawack']\n",
        "# for screen_name, result in bom.check_accounts_in(accounts):\n",
        "\n",
        "\n",
        "blt_twitter = botometer.BotometerLite(rapidapi_key=rapidapi_key, **twitter_app_auth)\n",
        "\n",
        "# Prepare a list of screen_names you want to check.\n",
        "# The list should contain no more than 100 screen_names; please remove the @\n",
        "screen_name_list = ['yang3kc', 'onurvarol', 'clayadavis']\n",
        "blt_scores = blt_twitter.check_accounts_from_screen_names(screen_name_list)\n",
        "\n",
        "# Prepare a list of user_ids you want to check.\n",
        "# The list should contain no more than 100 user_ids.\n",
        "user_id_list = [1133069780917850112, 77436536, 1548959833]\n",
        "blt_scores = blt_twitter.check_accounts_from_user_ids(user_id_list)\n",
        "print(blt_scores)\n",
        "\n",
        "\n",
        "import http.client\n",
        "\n",
        "conn = http.client.HTTPSConnection(\"botometer-pro.p.rapidapi.com\")\n",
        "\n",
        "payload = \"{\\n    \\\"mentions\\\": [\\n        {\\n            \\\"contributors\\\": null,\\n            \\\"coordinates\\\": null,\\n            \\\"created_at\\\": \\\"Fri Aug 07 11:26:56 +0000 2020\\\",\\n            \\\"entities\\\": {\\n                \\\"hashtags\\\": [],\\n                \\\"symbols\\\": [],\\n                \\\"urls\\\": [],\\n                \\\"user_mentions\\\": [\\n                    {\\n                        \\\"id\\\": 11330,\\n                        \\\"id_str\\\": \\\"11330\\\",\\n                        \\\"indices\\\": [\\n                            3,\\n                            11\\n                        ],\\n                        \\\"name\\\": \\\"test user 1\\\",\\n                        \\\"screen_name\\\": \\\"screen_name\\\"\\n                    }\\n                ]\\n            },\\n            \\\"favorite_count\\\": 0,\\n            \\\"favorited\\\": false,\\n            \\\"geo\\\": null,\\n            \\\"id\\\": 1291697,\\n            \\\"id_str\\\": \\\"1291697\\\",\\n            \\\"in_reply_to_screen_name\\\": null,\\n            \\\"in_reply_to_status_id\\\": null,\\n            \\\"in_reply_to_status_id_str\\\": null,\\n            \\\"in_reply_to_user_id\\\": null,\\n            \\\"in_reply_to_user_id_str\\\": null,\\n            \\\"is_quote_status\\\": false,\\n            \\\"lang\\\": \\\"en\\\",\\n            \\\"metadata\\\": {\\n                \\\"iso_language_code\\\": \\\"en\\\",\\n                \\\"result_type\\\": \\\"recent\\\"\\n            },\\n            \\\"place\\\": null,\\n            \\\"retweet_count\\\": 14,\\n            \\\"retweeted\\\": false,\\n            \\\"retweeted_status\\\": {\\n                \\\"contributors\\\": null,\\n                \\\"coordinates\\\": null,\\n                \\\"created_at\\\": \\\"Mon Jul 20 16:03:30 +0000 2020\\\",\\n                \\\"entities\\\": {\\n                    \\\"hashtags\\\": [],\\n                    \\\"symbols\\\": [],\\n                    \\\"urls\\\": [],\\n                    \\\"user_mentions\\\": []\\n                },\\n                \\\"favorite_count\\\": 35,\\n                \\\"favorited\\\": false,\\n                \\\"geo\\\": null,\\n                \\\"id\\\": 128524,\\n                \\\"id_str\\\": \\\"128524\\\",\\n                \\\"in_reply_to_screen_name\\\": null,\\n                \\\"in_reply_to_status_id\\\": null,\\n                \\\"in_reply_to_status_id_str\\\": null,\\n                \\\"in_reply_to_user_id\\\": null,\\n                \\\"in_reply_to_user_id_str\\\": null,\\n                \\\"is_quote_status\\\": false,\\n                \\\"lang\\\": \\\"en\\\",\\n                \\\"metadata\\\": {\\n                    \\\"iso_language_code\\\": \\\"en\\\",\\n                    \\\"result_type\\\": \\\"recent\\\"\\n                },\\n                \\\"place\\\": null,\\n                \\\"possibly_sensitive\\\": false,\\n                \\\"retweet_count\\\": 14,\\n                \\\"retweeted\\\": false,\\n                \\\"source\\\": \\\"<a href=\\\\\\\"https://mobile.twitter.com\\\\\\\" rel=\\\\\\\"nofollow\\\\\\\">Twitter Web App</a>\\\",\\n                \\\"text\\\": \\\"orignial tweet\\\",\\n                \\\"truncated\\\": true,\\n                \\\"user\\\": {\\n                    \\\"contributors_enabled\\\": false,\\n                    \\\"created_at\\\": \\\"Mon May 27 17:57:42 +0000 2019\\\",\\n                    \\\"default_profile\\\": true,\\n                    \\\"default_profile_image\\\": false,\\n                    \\\"description\\\": \\\"description\\\",\\n                    \\\"entities\\\": {},\\n                    \\\"favourites_count\\\": 754,\\n                    \\\"follow_request_sent\\\": false,\\n                    \\\"followers_count\\\": 130,\\n                    \\\"following\\\": false,\\n                    \\\"friends_count\\\": 295,\\n                    \\\"geo_enabled\\\": false,\\n                    \\\"has_extended_profile\\\": true,\\n                    \\\"id\\\": 11330,\\n                    \\\"id_str\\\": \\\"11330\\\",\\n                    \\\"is_translation_enabled\\\": false,\\n                    \\\"is_translator\\\": false,\\n                    \\\"lang\\\": null,\\n                    \\\"listed_count\\\": 3,\\n                    \\\"location\\\": \\\"location\\\",\\n                    \\\"name\\\": \\\"test user 1\\\",\\n                    \\\"notifications\\\": false,\\n                    \\\"profile_background_color\\\": \\\"F5F8FA\\\",\\n                    \\\"profile_background_image_url\\\": null,\\n                    \\\"profile_background_image_url_https\\\": null,\\n                    \\\"profile_background_tile\\\": false,\\n                    \\\"profile_banner_url\\\": null,\\n                    \\\"profile_image_url\\\": null,\\n                    \\\"profile_image_url_https\\\": null,\\n                    \\\"profile_link_color\\\": \\\"1DA1F2\\\",\\n                    \\\"profile_sidebar_border_color\\\": \\\"C0DEED\\\",\\n                    \\\"profile_sidebar_fill_color\\\": \\\"DDEEF6\\\",\\n                    \\\"profile_text_color\\\": \\\"333333\\\",\\n                    \\\"profile_use_background_image\\\": true,\\n                    \\\"protected\\\": false,\\n                    \\\"screen_name\\\": \\\"screen_name\\\",\\n                    \\\"statuses_count\\\": 283,\\n                    \\\"time_zone\\\": null,\\n                    \\\"translator_type\\\": \\\"none\\\",\\n                    \\\"url\\\": null,\\n                    \\\"utc_offset\\\": null,\\n                    \\\"verified\\\": false\\n                }\\n            },\\n            \\\"source\\\": \\\"<a href=\\\\\\\"https://mobile.twitter.com\\\\\\\" rel=\\\\\\\"nofollow\\\\\\\">Twitter Web App</a>\\\",\\n            \\\"text\\\": \\\"RT @test_screen_name: test tweet\\\",\\n            \\\"truncated\\\": false,\\n            \\\"user\\\": {\\n                \\\"contributors_enabled\\\": false,\\n                \\\"created_at\\\": \\\"Fri Jan 28 02:42:39 +0000 2011\\\",\\n                \\\"default_profile\\\": true,\\n                \\\"default_profile_image\\\": false,\\n                \\\"description\\\": \\\"\\\",\\n                \\\"entities\\\": {\\n                    \\\"description\\\": {\\n                        \\\"urls\\\": []\\n                    }\\n                },\\n                \\\"favourites_count\\\": 5756,\\n                \\\"follow_request_sent\\\": false,\\n                \\\"followers_count\\\": 31,\\n                \\\"following\\\": false,\\n                \\\"friends_count\\\": 260,\\n                \\\"geo_enabled\\\": true,\\n                \\\"has_extended_profile\\\": false,\\n                \\\"id\\\": 24391,\\n                \\\"id_str\\\": \\\"24391\\\",\\n                \\\"is_translation_enabled\\\": false,\\n                \\\"is_translator\\\": false,\\n                \\\"lang\\\": null,\\n                \\\"listed_count\\\": 0,\\n                \\\"location\\\": \\\"location\\\",\\n                \\\"name\\\": \\\"test user 2\\\",\\n                \\\"notifications\\\": false,\\n                \\\"profile_background_color\\\": \\\"C0DEED\\\",\\n                \\\"profile_background_image_url\\\": null,\\n                \\\"profile_background_image_url_https\\\": null,\\n                \\\"profile_background_tile\\\": false,\\n                \\\"profile_image_url\\\": null,\\n                \\\"profile_image_url_https\\\": null,\\n                \\\"profile_link_color\\\": \\\"1DA1F2\\\",\\n                \\\"profile_sidebar_border_color\\\": \\\"C0DEED\\\",\\n                \\\"profile_sidebar_fill_color\\\": \\\"DDEEF6\\\",\\n                \\\"profile_text_color\\\": \\\"333333\\\",\\n                \\\"profile_use_background_image\\\": true,\\n                \\\"protected\\\": false,\\n                \\\"screen_name\\\": \\\"test_screen_name_2\\\",\\n                \\\"statuses_count\\\": 351,\\n                \\\"time_zone\\\": null,\\n                \\\"translator_type\\\": \\\"none\\\",\\n                \\\"url\\\": null,\\n                \\\"utc_offset\\\": null,\\n                \\\"verified\\\": false\\n            }\\n        }\\n    ],\\n    \\\"timeline\\\": [\\n        {\\n            \\\"contributors\\\": null,\\n            \\\"coordinates\\\": null,\\n            \\\"created_at\\\": \\\"Fri Aug 07 14:26:36 +0000 2020\\\",\\n            \\\"entities\\\": {\\n                \\\"hashtags\\\": [],\\n                \\\"symbols\\\": [],\\n                \\\"urls\\\": [],\\n                \\\"user_mentions\\\": [\\n                    {\\n                        \\\"id\\\": 2584,\\n                        \\\"id_str\\\": \\\"2584\\\",\\n                        \\\"indices\\\": [\\n                            0,\\n                            12\\n                        ],\\n                        \\\"name\\\": \\\"mentined user\\\",\\n                        \\\"screen_name\\\": \\\"mentioned_user\\\"\\n                    }\\n                ]\\n            },\\n            \\\"favorite_count\\\": 0,\\n            \\\"favorited\\\": false,\\n            \\\"geo\\\": null,\\n            \\\"id\\\": 12917,\\n            \\\"id_str\\\": \\\"12917\\\",\\n            \\\"in_reply_to_screen_name\\\": \\\"mentioned_user\\\",\\n            \\\"in_reply_to_status_id\\\": 1291741,\\n            \\\"in_reply_to_status_id_str\\\": \\\"1291741\\\",\\n            \\\"in_reply_to_user_id\\\": 2584,\\n            \\\"in_reply_to_user_id_str\\\": \\\"2584\\\",\\n            \\\"is_quote_status\\\": false,\\n            \\\"lang\\\": \\\"und\\\",\\n            \\\"place\\\": null,\\n            \\\"retweet_count\\\": 0,\\n            \\\"retweeted\\\": false,\\n            \\\"source\\\": \\\"<a href=\\\\\\\"https://mobile.twitter.com\\\\\\\" rel=\\\\\\\"nofollow\\\\\\\">Twitter Web App</a>\\\",\\n            \\\"text\\\": \\\"@mentioned_user Yes\\\",\\n            \\\"truncated\\\": false,\\n            \\\"user\\\": {\\n                \\\"contributors_enabled\\\": false,\\n                \\\"created_at\\\": \\\"Mon May 27 17:57:42 +0000 2019\\\",\\n                \\\"default_profile\\\": true,\\n                \\\"default_profile_image\\\": false,\\n                \\\"description\\\": \\\"description\\\",\\n                \\\"entities\\\": {\\n                    \\\"description\\\": {\\n                        \\\"urls\\\": []\\n                    },\\n                    \\\"url\\\": {\\n                        \\\"urls\\\": []\\n                    }\\n                },\\n                \\\"favourites_count\\\": 754,\\n                \\\"follow_request_sent\\\": false,\\n                \\\"followers_count\\\": 130,\\n                \\\"following\\\": false,\\n                \\\"friends_count\\\": 295,\\n                \\\"geo_enabled\\\": false,\\n                \\\"has_extended_profile\\\": true,\\n                \\\"id\\\": 11330,\\n                \\\"id_str\\\": \\\"11330\\\",\\n                \\\"is_translation_enabled\\\": false,\\n                \\\"is_translator\\\": false,\\n                \\\"lang\\\": null,\\n                \\\"listed_count\\\": 3,\\n                \\\"location\\\": \\\"location\\\",\\n                \\\"name\\\": \\\"test user 1\\\",\\n                \\\"notifications\\\": false,\\n                \\\"profile_background_color\\\": \\\"F5F8FA\\\",\\n                \\\"profile_background_image_url\\\": null,\\n                \\\"profile_background_image_url_https\\\": null,\\n                \\\"profile_background_tile\\\": false,\\n                \\\"profile_banner_url\\\": null,\\n                \\\"profile_image_url\\\": null,\\n                \\\"profile_image_url_https\\\": null,\\n                \\\"profile_link_color\\\": \\\"1DA1F2\\\",\\n                \\\"profile_sidebar_border_color\\\": \\\"C0DEED\\\",\\n                \\\"profile_sidebar_fill_color\\\": \\\"DDEEF6\\\",\\n                \\\"profile_text_color\\\": \\\"333333\\\",\\n                \\\"profile_use_background_image\\\": true,\\n                \\\"protected\\\": false,\\n                \\\"screen_name\\\": \\\"screen_name_2\\\",\\n                \\\"statuses_count\\\": 283,\\n                \\\"time_zone\\\": null,\\n                \\\"translator_type\\\": \\\"none\\\",\\n                \\\"url\\\": null,\\n                \\\"utc_offset\\\": null,\\n                \\\"verified\\\": false\\n            }\\n        }\\n    ],\\n    \\\"user\\\": {\\n        \\\"id_str\\\": \\\"11330\\\",\\n        \\\"screen_name\\\": \\\"screen_name\\\"\\n    }\\n}\"\n",
        "\n",
        "headers = {\n",
        "    'content-type': \"application/json\",\n",
        "    'x-rapidapi-host': \"botometer-pro.p.rapidapi.com\",\n",
        "    'x-rapidapi-key': \"ee43f095fbmsh6472d4cf4869843p1fb9f5jsn31ebebc8b0aa\"\n",
        "    }\n",
        "\n",
        "conn.request(\"POST\", \"/4/check_account\", payload, headers)\n",
        "\n",
        "res = conn.getresponse()\n",
        "data = res.read()\n",
        "\n",
        "print(data.decode(\"utf-8\"))\n"
      ],
      "execution_count": null,
      "outputs": []
    },
    {
      "cell_type": "code",
      "metadata": {
        "colab": {
          "base_uri": "https://localhost:8080/",
          "height": 954
        },
        "id": "kIMD36lgili2",
        "outputId": "773d6733-26ee-4213-dcef-9e204a264856"
      },
      "source": [
        ""
      ],
      "execution_count": null,
      "outputs": [
        {
          "output_type": "error",
          "ename": "TypeError",
          "evalue": "ignored",
          "traceback": [
            "\u001b[0;31m---------------------------------------------------------------------------\u001b[0m",
            "\u001b[0;31mTypeError\u001b[0m                                 Traceback (most recent call last)",
            "\u001b[0;32m<ipython-input-10-4367b7c4c73d>\u001b[0m in \u001b[0;36m<module>\u001b[0;34m()\u001b[0m\n\u001b[1;32m      1\u001b[0m \u001b[0mplt\u001b[0m\u001b[0;34m.\u001b[0m\u001b[0mfigure\u001b[0m\u001b[0;34m(\u001b[0m\u001b[0mfigsize\u001b[0m \u001b[0;34m=\u001b[0m \u001b[0;34m(\u001b[0m\u001b[0;36m10\u001b[0m\u001b[0;34m,\u001b[0m \u001b[0;36m10\u001b[0m\u001b[0;34m)\u001b[0m\u001b[0;34m,\u001b[0m \u001b[0mfacecolor\u001b[0m \u001b[0;34m=\u001b[0m \u001b[0;32mNone\u001b[0m\u001b[0;34m)\u001b[0m\u001b[0;34m\u001b[0m\u001b[0;34m\u001b[0m\u001b[0m\n\u001b[0;32m----> 2\u001b[0;31m \u001b[0mplt\u001b[0m\u001b[0;34m.\u001b[0m\u001b[0mimshow\u001b[0m\u001b[0;34m(\u001b[0m\u001b[0mdata\u001b[0m\u001b[0;34m)\u001b[0m\u001b[0;34m\u001b[0m\u001b[0;34m\u001b[0m\u001b[0m\n\u001b[0m\u001b[1;32m      3\u001b[0m \u001b[0mplt\u001b[0m\u001b[0;34m.\u001b[0m\u001b[0maxis\u001b[0m\u001b[0;34m(\u001b[0m\u001b[0;34m\"off\"\u001b[0m\u001b[0;34m)\u001b[0m\u001b[0;34m\u001b[0m\u001b[0;34m\u001b[0m\u001b[0m\n\u001b[1;32m      4\u001b[0m \u001b[0mplt\u001b[0m\u001b[0;34m.\u001b[0m\u001b[0mtight_layout\u001b[0m\u001b[0;34m(\u001b[0m\u001b[0mpad\u001b[0m \u001b[0;34m=\u001b[0m \u001b[0;36m0\u001b[0m\u001b[0;34m)\u001b[0m\u001b[0;34m\u001b[0m\u001b[0;34m\u001b[0m\u001b[0m\n\u001b[1;32m      5\u001b[0m \u001b[0;34m\u001b[0m\u001b[0m\n",
            "\u001b[0;32m/usr/local/lib/python3.7/dist-packages/matplotlib/pyplot.py\u001b[0m in \u001b[0;36mimshow\u001b[0;34m(X, cmap, norm, aspect, interpolation, alpha, vmin, vmax, origin, extent, shape, filternorm, filterrad, imlim, resample, url, data, **kwargs)\u001b[0m\n\u001b[1;32m   2649\u001b[0m         \u001b[0mfilternorm\u001b[0m\u001b[0;34m=\u001b[0m\u001b[0mfilternorm\u001b[0m\u001b[0;34m,\u001b[0m \u001b[0mfilterrad\u001b[0m\u001b[0;34m=\u001b[0m\u001b[0mfilterrad\u001b[0m\u001b[0;34m,\u001b[0m \u001b[0mimlim\u001b[0m\u001b[0;34m=\u001b[0m\u001b[0mimlim\u001b[0m\u001b[0;34m,\u001b[0m\u001b[0;34m\u001b[0m\u001b[0;34m\u001b[0m\u001b[0m\n\u001b[1;32m   2650\u001b[0m         resample=resample, url=url, **({\"data\": data} if data is not\n\u001b[0;32m-> 2651\u001b[0;31m         None else {}), **kwargs)\n\u001b[0m\u001b[1;32m   2652\u001b[0m     \u001b[0msci\u001b[0m\u001b[0;34m(\u001b[0m\u001b[0m__ret\u001b[0m\u001b[0;34m)\u001b[0m\u001b[0;34m\u001b[0m\u001b[0;34m\u001b[0m\u001b[0m\n\u001b[1;32m   2653\u001b[0m     \u001b[0;32mreturn\u001b[0m \u001b[0m__ret\u001b[0m\u001b[0;34m\u001b[0m\u001b[0;34m\u001b[0m\u001b[0m\n",
            "\u001b[0;32m/usr/local/lib/python3.7/dist-packages/matplotlib/__init__.py\u001b[0m in \u001b[0;36minner\u001b[0;34m(ax, data, *args, **kwargs)\u001b[0m\n\u001b[1;32m   1563\u001b[0m     \u001b[0;32mdef\u001b[0m \u001b[0minner\u001b[0m\u001b[0;34m(\u001b[0m\u001b[0max\u001b[0m\u001b[0;34m,\u001b[0m \u001b[0;34m*\u001b[0m\u001b[0margs\u001b[0m\u001b[0;34m,\u001b[0m \u001b[0mdata\u001b[0m\u001b[0;34m=\u001b[0m\u001b[0;32mNone\u001b[0m\u001b[0;34m,\u001b[0m \u001b[0;34m**\u001b[0m\u001b[0mkwargs\u001b[0m\u001b[0;34m)\u001b[0m\u001b[0;34m:\u001b[0m\u001b[0;34m\u001b[0m\u001b[0;34m\u001b[0m\u001b[0m\n\u001b[1;32m   1564\u001b[0m         \u001b[0;32mif\u001b[0m \u001b[0mdata\u001b[0m \u001b[0;32mis\u001b[0m \u001b[0;32mNone\u001b[0m\u001b[0;34m:\u001b[0m\u001b[0;34m\u001b[0m\u001b[0;34m\u001b[0m\u001b[0m\n\u001b[0;32m-> 1565\u001b[0;31m             \u001b[0;32mreturn\u001b[0m \u001b[0mfunc\u001b[0m\u001b[0;34m(\u001b[0m\u001b[0max\u001b[0m\u001b[0;34m,\u001b[0m \u001b[0;34m*\u001b[0m\u001b[0mmap\u001b[0m\u001b[0;34m(\u001b[0m\u001b[0msanitize_sequence\u001b[0m\u001b[0;34m,\u001b[0m \u001b[0margs\u001b[0m\u001b[0;34m)\u001b[0m\u001b[0;34m,\u001b[0m \u001b[0;34m**\u001b[0m\u001b[0mkwargs\u001b[0m\u001b[0;34m)\u001b[0m\u001b[0;34m\u001b[0m\u001b[0;34m\u001b[0m\u001b[0m\n\u001b[0m\u001b[1;32m   1566\u001b[0m \u001b[0;34m\u001b[0m\u001b[0m\n\u001b[1;32m   1567\u001b[0m         \u001b[0mbound\u001b[0m \u001b[0;34m=\u001b[0m \u001b[0mnew_sig\u001b[0m\u001b[0;34m.\u001b[0m\u001b[0mbind\u001b[0m\u001b[0;34m(\u001b[0m\u001b[0max\u001b[0m\u001b[0;34m,\u001b[0m \u001b[0;34m*\u001b[0m\u001b[0margs\u001b[0m\u001b[0;34m,\u001b[0m \u001b[0;34m**\u001b[0m\u001b[0mkwargs\u001b[0m\u001b[0;34m)\u001b[0m\u001b[0;34m\u001b[0m\u001b[0;34m\u001b[0m\u001b[0m\n",
            "\u001b[0;32m/usr/local/lib/python3.7/dist-packages/matplotlib/cbook/deprecation.py\u001b[0m in \u001b[0;36mwrapper\u001b[0;34m(*args, **kwargs)\u001b[0m\n\u001b[1;32m    356\u001b[0m                 \u001b[0;34mf\"%(removal)s.  If any parameter follows {name!r}, they \"\u001b[0m\u001b[0;34m\u001b[0m\u001b[0;34m\u001b[0m\u001b[0m\n\u001b[1;32m    357\u001b[0m                 f\"should be pass as keyword, not positionally.\")\n\u001b[0;32m--> 358\u001b[0;31m         \u001b[0;32mreturn\u001b[0m \u001b[0mfunc\u001b[0m\u001b[0;34m(\u001b[0m\u001b[0;34m*\u001b[0m\u001b[0margs\u001b[0m\u001b[0;34m,\u001b[0m \u001b[0;34m**\u001b[0m\u001b[0mkwargs\u001b[0m\u001b[0;34m)\u001b[0m\u001b[0;34m\u001b[0m\u001b[0;34m\u001b[0m\u001b[0m\n\u001b[0m\u001b[1;32m    359\u001b[0m \u001b[0;34m\u001b[0m\u001b[0m\n\u001b[1;32m    360\u001b[0m     \u001b[0;32mreturn\u001b[0m \u001b[0mwrapper\u001b[0m\u001b[0;34m\u001b[0m\u001b[0;34m\u001b[0m\u001b[0m\n",
            "\u001b[0;32m/usr/local/lib/python3.7/dist-packages/matplotlib/cbook/deprecation.py\u001b[0m in \u001b[0;36mwrapper\u001b[0;34m(*args, **kwargs)\u001b[0m\n\u001b[1;32m    356\u001b[0m                 \u001b[0;34mf\"%(removal)s.  If any parameter follows {name!r}, they \"\u001b[0m\u001b[0;34m\u001b[0m\u001b[0;34m\u001b[0m\u001b[0m\n\u001b[1;32m    357\u001b[0m                 f\"should be pass as keyword, not positionally.\")\n\u001b[0;32m--> 358\u001b[0;31m         \u001b[0;32mreturn\u001b[0m \u001b[0mfunc\u001b[0m\u001b[0;34m(\u001b[0m\u001b[0;34m*\u001b[0m\u001b[0margs\u001b[0m\u001b[0;34m,\u001b[0m \u001b[0;34m**\u001b[0m\u001b[0mkwargs\u001b[0m\u001b[0;34m)\u001b[0m\u001b[0;34m\u001b[0m\u001b[0;34m\u001b[0m\u001b[0m\n\u001b[0m\u001b[1;32m    359\u001b[0m \u001b[0;34m\u001b[0m\u001b[0m\n\u001b[1;32m    360\u001b[0m     \u001b[0;32mreturn\u001b[0m \u001b[0mwrapper\u001b[0m\u001b[0;34m\u001b[0m\u001b[0;34m\u001b[0m\u001b[0m\n",
            "\u001b[0;32m/usr/local/lib/python3.7/dist-packages/matplotlib/axes/_axes.py\u001b[0m in \u001b[0;36mimshow\u001b[0;34m(self, X, cmap, norm, aspect, interpolation, alpha, vmin, vmax, origin, extent, shape, filternorm, filterrad, imlim, resample, url, **kwargs)\u001b[0m\n\u001b[1;32m   5624\u001b[0m                               resample=resample, **kwargs)\n\u001b[1;32m   5625\u001b[0m \u001b[0;34m\u001b[0m\u001b[0m\n\u001b[0;32m-> 5626\u001b[0;31m         \u001b[0mim\u001b[0m\u001b[0;34m.\u001b[0m\u001b[0mset_data\u001b[0m\u001b[0;34m(\u001b[0m\u001b[0mX\u001b[0m\u001b[0;34m)\u001b[0m\u001b[0;34m\u001b[0m\u001b[0;34m\u001b[0m\u001b[0m\n\u001b[0m\u001b[1;32m   5627\u001b[0m         \u001b[0mim\u001b[0m\u001b[0;34m.\u001b[0m\u001b[0mset_alpha\u001b[0m\u001b[0;34m(\u001b[0m\u001b[0malpha\u001b[0m\u001b[0;34m)\u001b[0m\u001b[0;34m\u001b[0m\u001b[0;34m\u001b[0m\u001b[0m\n\u001b[1;32m   5628\u001b[0m         \u001b[0;32mif\u001b[0m \u001b[0mim\u001b[0m\u001b[0;34m.\u001b[0m\u001b[0mget_clip_path\u001b[0m\u001b[0;34m(\u001b[0m\u001b[0;34m)\u001b[0m \u001b[0;32mis\u001b[0m \u001b[0;32mNone\u001b[0m\u001b[0;34m:\u001b[0m\u001b[0;34m\u001b[0m\u001b[0;34m\u001b[0m\u001b[0m\n",
            "\u001b[0;32m/usr/local/lib/python3.7/dist-packages/matplotlib/image.py\u001b[0m in \u001b[0;36mset_data\u001b[0;34m(self, A)\u001b[0m\n\u001b[1;32m    692\u001b[0m                 not np.can_cast(self._A.dtype, float, \"same_kind\")):\n\u001b[1;32m    693\u001b[0m             raise TypeError(\"Image data of dtype {} cannot be converted to \"\n\u001b[0;32m--> 694\u001b[0;31m                             \"float\".format(self._A.dtype))\n\u001b[0m\u001b[1;32m    695\u001b[0m \u001b[0;34m\u001b[0m\u001b[0m\n\u001b[1;32m    696\u001b[0m         if not (self._A.ndim == 2\n",
            "\u001b[0;31mTypeError\u001b[0m: Image data of dtype object cannot be converted to float"
          ]
        },
        {
          "output_type": "display_data",
          "data": {
            "image/png": "[encoded data removed]",
            "text/plain": [
              "<Figure size 720x720 with 1 Axes>"
            ]
          },
          "metadata": {
            "needs_background": "light"
          }
        }
      ]
    },
    {
      "cell_type": "code",
      "metadata": {
        "colab": {
          "base_uri": "https://localhost:8080/",
          "height": 351
        },
        "id": "lGF8-NNHhvQW",
        "outputId": "75da1a62-d898-49aa-bce5-89722c001764"
      },
      "source": [
        "for i in data.CONTENT: \n",
        "    i = str(i) \n",
        "    separate = i.split() \n",
        "    for j in range(len(separate)): \n",
        "        separate[j] = separate[j].lower() \n",
        "      \n",
        "    comment_words += \" \".join(separate)+\" \"\n",
        "print(data.CONTENT)"
      ],
      "execution_count": null,
      "outputs": [
        {
          "output_type": "error",
          "ename": "AttributeError",
          "evalue": "ignored",
          "traceback": [
            "\u001b[0;31m---------------------------------------------------------------------------\u001b[0m",
            "\u001b[0;31mAttributeError\u001b[0m                            Traceback (most recent call last)",
            "\u001b[0;32m<ipython-input-9-f44463b8b665>\u001b[0m in \u001b[0;36m<module>\u001b[0;34m()\u001b[0m\n\u001b[0;32m----> 1\u001b[0;31m \u001b[0;32mfor\u001b[0m \u001b[0mi\u001b[0m \u001b[0;32min\u001b[0m \u001b[0mdata\u001b[0m\u001b[0;34m.\u001b[0m\u001b[0mCONTENT\u001b[0m\u001b[0;34m:\u001b[0m\u001b[0;34m\u001b[0m\u001b[0;34m\u001b[0m\u001b[0m\n\u001b[0m\u001b[1;32m      2\u001b[0m     \u001b[0mi\u001b[0m \u001b[0;34m=\u001b[0m \u001b[0mstr\u001b[0m\u001b[0;34m(\u001b[0m\u001b[0mi\u001b[0m\u001b[0;34m)\u001b[0m\u001b[0;34m\u001b[0m\u001b[0;34m\u001b[0m\u001b[0m\n\u001b[1;32m      3\u001b[0m     \u001b[0mseparate\u001b[0m \u001b[0;34m=\u001b[0m \u001b[0mi\u001b[0m\u001b[0;34m.\u001b[0m\u001b[0msplit\u001b[0m\u001b[0;34m(\u001b[0m\u001b[0;34m)\u001b[0m\u001b[0;34m\u001b[0m\u001b[0;34m\u001b[0m\u001b[0m\n\u001b[1;32m      4\u001b[0m     \u001b[0;32mfor\u001b[0m \u001b[0mj\u001b[0m \u001b[0;32min\u001b[0m \u001b[0mrange\u001b[0m\u001b[0;34m(\u001b[0m\u001b[0mlen\u001b[0m\u001b[0;34m(\u001b[0m\u001b[0mseparate\u001b[0m\u001b[0;34m)\u001b[0m\u001b[0;34m)\u001b[0m\u001b[0;34m:\u001b[0m\u001b[0;34m\u001b[0m\u001b[0;34m\u001b[0m\u001b[0m\n\u001b[1;32m      5\u001b[0m         \u001b[0mseparate\u001b[0m\u001b[0;34m[\u001b[0m\u001b[0mj\u001b[0m\u001b[0;34m]\u001b[0m \u001b[0;34m=\u001b[0m \u001b[0mseparate\u001b[0m\u001b[0;34m[\u001b[0m\u001b[0mj\u001b[0m\u001b[0;34m]\u001b[0m\u001b[0;34m.\u001b[0m\u001b[0mlower\u001b[0m\u001b[0;34m(\u001b[0m\u001b[0;34m)\u001b[0m\u001b[0;34m\u001b[0m\u001b[0;34m\u001b[0m\u001b[0m\n",
            "\u001b[0;32m/usr/local/lib/python3.7/dist-packages/pandas/core/generic.py\u001b[0m in \u001b[0;36m__getattr__\u001b[0;34m(self, name)\u001b[0m\n\u001b[1;32m   5139\u001b[0m             \u001b[0;32mif\u001b[0m \u001b[0mself\u001b[0m\u001b[0;34m.\u001b[0m\u001b[0m_info_axis\u001b[0m\u001b[0;34m.\u001b[0m\u001b[0m_can_hold_identifiers_and_holds_name\u001b[0m\u001b[0;34m(\u001b[0m\u001b[0mname\u001b[0m\u001b[0;34m)\u001b[0m\u001b[0;34m:\u001b[0m\u001b[0;34m\u001b[0m\u001b[0;34m\u001b[0m\u001b[0m\n\u001b[1;32m   5140\u001b[0m                 \u001b[0;32mreturn\u001b[0m \u001b[0mself\u001b[0m\u001b[0;34m[\u001b[0m\u001b[0mname\u001b[0m\u001b[0;34m]\u001b[0m\u001b[0;34m\u001b[0m\u001b[0;34m\u001b[0m\u001b[0m\n\u001b[0;32m-> 5141\u001b[0;31m             \u001b[0;32mreturn\u001b[0m \u001b[0mobject\u001b[0m\u001b[0;34m.\u001b[0m\u001b[0m__getattribute__\u001b[0m\u001b[0;34m(\u001b[0m\u001b[0mself\u001b[0m\u001b[0;34m,\u001b[0m \u001b[0mname\u001b[0m\u001b[0;34m)\u001b[0m\u001b[0;34m\u001b[0m\u001b[0;34m\u001b[0m\u001b[0m\n\u001b[0m\u001b[1;32m   5142\u001b[0m \u001b[0;34m\u001b[0m\u001b[0m\n\u001b[1;32m   5143\u001b[0m     \u001b[0;32mdef\u001b[0m \u001b[0m__setattr__\u001b[0m\u001b[0;34m(\u001b[0m\u001b[0mself\u001b[0m\u001b[0;34m,\u001b[0m \u001b[0mname\u001b[0m\u001b[0;34m:\u001b[0m \u001b[0mstr\u001b[0m\u001b[0;34m,\u001b[0m \u001b[0mvalue\u001b[0m\u001b[0;34m)\u001b[0m \u001b[0;34m->\u001b[0m \u001b[0;32mNone\u001b[0m\u001b[0;34m:\u001b[0m\u001b[0;34m\u001b[0m\u001b[0;34m\u001b[0m\u001b[0m\n",
            "\u001b[0;31mAttributeError\u001b[0m: 'DataFrame' object has no attribute 'CONTENT'"
          ]
        }
      ]
    }
  ]
}