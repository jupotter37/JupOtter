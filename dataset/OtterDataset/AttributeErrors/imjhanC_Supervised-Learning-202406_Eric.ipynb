{
 "cells": [
  {
   "cell_type": "code",
   "execution_count": 1,
   "metadata": {},
   "outputs": [],
   "source": [
    "import pandas as pd \n",
    "import matplotlib as plt\n",
    "from scipy import stats"
   ]
  },
  {
   "cell_type": "code",
   "execution_count": 2,
   "metadata": {},
   "outputs": [
    {
     "name": "stdout",
     "output_type": "stream",
     "text": [
      "         date      vaxtype  daily_total  daily_serious_npra  daily_nonserious  \\\n",
      "0  2021-01-13  astrazeneca            5                   0                 5   \n",
      "1  2021-02-25       pfizer            1                   0                 1   \n",
      "2  2021-02-26       pfizer            2                   0                 2   \n",
      "3  2021-02-27       pfizer            4                   0                 4   \n",
      "4  2021-02-28       pfizer           12                   1                11   \n",
      "\n",
      "   daily_nonserious_npra  daily_nonserious_mysj_dose1  \\\n",
      "0                      5                            0   \n",
      "1                      1                            0   \n",
      "2                      2                            0   \n",
      "3                      4                            0   \n",
      "4                     11                            0   \n",
      "\n",
      "   daily_nonserious_mysj_dose2  d1_site_pain  d1_site_swelling  ...  \\\n",
      "0                            0             0                 0  ...   \n",
      "1                            0             0                 0  ...   \n",
      "2                            0             0                 0  ...   \n",
      "3                            0             0                 0  ...   \n",
      "4                            0             0                 0  ...   \n",
      "\n",
      "   d2_site_redness  d2_tiredness  d2_headache  d2_muscle_pain  d2_joint_pain  \\\n",
      "0                0             0            0               0              0   \n",
      "1                0             0            0               0              0   \n",
      "2                0             0            0               0              0   \n",
      "3                0             0            0               0              0   \n",
      "4                0             0            0               0              0   \n",
      "\n",
      "   d2_weakness  d2_fever  d2_vomiting  d2_chills  d2_rash  \n",
      "0            0         0            0          0        0  \n",
      "1            0         0            0          0        0  \n",
      "2            0         0            0          0        0  \n",
      "3            0         0            0          0        0  \n",
      "4            0         0            0          0        0  \n",
      "\n",
      "[5 rows x 32 columns]\n",
      "       daily_total  daily_serious_npra  daily_nonserious  \\\n",
      "count  1521.000000         1521.000000       1521.000000   \n",
      "mean    663.487837            1.220907        662.261670   \n",
      "std    1296.677983            2.262360       1295.746836   \n",
      "min       0.000000            0.000000          0.000000   \n",
      "25%       1.000000            0.000000          1.000000   \n",
      "50%      21.000000            0.000000         20.000000   \n",
      "75%     679.000000            2.000000        674.000000   \n",
      "max    8905.000000           21.000000       8901.000000   \n",
      "\n",
      "       daily_nonserious_npra  daily_nonserious_mysj_dose1  \\\n",
      "count            1521.000000                  1521.000000   \n",
      "mean               16.099934                   606.224852   \n",
      "std                32.543501                  1237.919429   \n",
      "min                 0.000000                     0.000000   \n",
      "25%                 0.000000                     0.000000   \n",
      "50%                 3.000000                     8.000000   \n",
      "75%                14.000000                   535.000000   \n",
      "max               374.000000                  8810.000000   \n",
      "\n",
      "       daily_nonserious_mysj_dose2  d1_site_pain  d1_site_swelling  \\\n",
      "count                  1521.000000   1521.000000       1521.000000   \n",
      "mean                     39.944773    427.847469         98.744247   \n",
      "std                     131.308975    927.087027        242.470757   \n",
      "min                       0.000000      0.000000          0.000000   \n",
      "25%                       0.000000      0.000000          0.000000   \n",
      "50%                       0.000000      6.000000          1.000000   \n",
      "75%                      21.000000    330.000000         58.000000   \n",
      "max                    1787.000000   6854.000000       3839.000000   \n",
      "\n",
      "       d1_site_redness  d1_tiredness  ...  d2_site_redness  d2_tiredness  \\\n",
      "count      1521.000000   1521.000000  ...      1521.000000   1521.000000   \n",
      "mean         32.109139    327.448389  ...         2.238659     18.797502   \n",
      "std          78.417766    734.216588  ...         7.552900     62.278923   \n",
      "min           0.000000      0.000000  ...         0.000000      0.000000   \n",
      "25%           0.000000      0.000000  ...         0.000000      0.000000   \n",
      "50%           1.000000      4.000000  ...         0.000000      0.000000   \n",
      "75%          21.000000    234.000000  ...         1.000000     10.000000   \n",
      "max         927.000000   5883.000000  ...       111.000000    867.000000   \n",
      "\n",
      "       d2_headache  d2_muscle_pain  d2_joint_pain  d2_weakness     d2_fever  \\\n",
      "count  1521.000000     1521.000000    1521.000000  1521.000000  1521.000000   \n",
      "mean     15.786982       10.345168       5.865878    10.736358     6.130178   \n",
      "std      49.273572       35.737454      18.749222    34.865071    19.075960   \n",
      "min       0.000000        0.000000       0.000000     0.000000     0.000000   \n",
      "25%       0.000000        0.000000       0.000000     0.000000     0.000000   \n",
      "50%       0.000000        0.000000       0.000000     0.000000     0.000000   \n",
      "75%       8.000000        5.000000       3.000000     5.000000     4.000000   \n",
      "max     679.000000      503.000000     266.000000   481.000000   216.000000   \n",
      "\n",
      "       d2_vomiting    d2_chills      d2_rash  \n",
      "count  1521.000000  1521.000000  1521.000000  \n",
      "mean      5.038790     4.915187     1.603550  \n",
      "std      17.567253    16.167464     5.800745  \n",
      "min       0.000000     0.000000     0.000000  \n",
      "25%       0.000000     0.000000     0.000000  \n",
      "50%       0.000000     0.000000     0.000000  \n",
      "75%       2.000000     3.000000     1.000000  \n",
      "max     270.000000   199.000000    88.000000  \n",
      "\n",
      "[8 rows x 30 columns]\n",
      "<class 'pandas.core.frame.DataFrame'>\n",
      "RangeIndex: 1521 entries, 0 to 1520\n",
      "Data columns (total 32 columns):\n",
      " #   Column                       Non-Null Count  Dtype \n",
      "---  ------                       --------------  ----- \n",
      " 0   date                         1521 non-null   object\n",
      " 1   vaxtype                      1521 non-null   object\n",
      " 2   daily_total                  1521 non-null   int64 \n",
      " 3   daily_serious_npra           1521 non-null   int64 \n",
      " 4   daily_nonserious             1521 non-null   int64 \n",
      " 5   daily_nonserious_npra        1521 non-null   int64 \n",
      " 6   daily_nonserious_mysj_dose1  1521 non-null   int64 \n",
      " 7   daily_nonserious_mysj_dose2  1521 non-null   int64 \n",
      " 8   d1_site_pain                 1521 non-null   int64 \n",
      " 9   d1_site_swelling             1521 non-null   int64 \n",
      " 10  d1_site_redness              1521 non-null   int64 \n",
      " 11  d1_tiredness                 1521 non-null   int64 \n",
      " 12  d1_headache                  1521 non-null   int64 \n",
      " 13  d1_muscle_pain               1521 non-null   int64 \n",
      " 14  d1_joint_pain                1521 non-null   int64 \n",
      " 15  d1_weakness                  1521 non-null   int64 \n",
      " 16  d1_fever                     1521 non-null   int64 \n",
      " 17  d1_vomiting                  1521 non-null   int64 \n",
      " 18  d1_chills                    1521 non-null   int64 \n",
      " 19  d1_rash                      1521 non-null   int64 \n",
      " 20  d2_site_pain                 1521 non-null   int64 \n",
      " 21  d2_site_swelling             1521 non-null   int64 \n",
      " 22  d2_site_redness              1521 non-null   int64 \n",
      " 23  d2_tiredness                 1521 non-null   int64 \n",
      " 24  d2_headache                  1521 non-null   int64 \n",
      " 25  d2_muscle_pain               1521 non-null   int64 \n",
      " 26  d2_joint_pain                1521 non-null   int64 \n",
      " 27  d2_weakness                  1521 non-null   int64 \n",
      " 28  d2_fever                     1521 non-null   int64 \n",
      " 29  d2_vomiting                  1521 non-null   int64 \n",
      " 30  d2_chills                    1521 non-null   int64 \n",
      " 31  d2_rash                      1521 non-null   int64 \n",
      "dtypes: int64(30), object(2)\n",
      "memory usage: 380.4+ KB\n",
      "None\n",
      "Index(['date', 'vaxtype', 'daily_total', 'daily_serious_npra',\n",
      "       'daily_nonserious', 'daily_nonserious_npra',\n",
      "       'daily_nonserious_mysj_dose1', 'daily_nonserious_mysj_dose2',\n",
      "       'd1_site_pain', 'd1_site_swelling', 'd1_site_redness', 'd1_tiredness',\n",
      "       'd1_headache', 'd1_muscle_pain', 'd1_joint_pain', 'd1_weakness',\n",
      "       'd1_fever', 'd1_vomiting', 'd1_chills', 'd1_rash', 'd2_site_pain',\n",
      "       'd2_site_swelling', 'd2_site_redness', 'd2_tiredness', 'd2_headache',\n",
      "       'd2_muscle_pain', 'd2_joint_pain', 'd2_weakness', 'd2_fever',\n",
      "       'd2_vomiting', 'd2_chills', 'd2_rash'],\n",
      "      dtype='object')\n",
      "(1521, 32)\n",
      "date                           0\n",
      "vaxtype                        0\n",
      "daily_total                    0\n",
      "daily_serious_npra             0\n",
      "daily_nonserious               0\n",
      "daily_nonserious_npra          0\n",
      "daily_nonserious_mysj_dose1    0\n",
      "daily_nonserious_mysj_dose2    0\n",
      "d1_site_pain                   0\n",
      "d1_site_swelling               0\n",
      "d1_site_redness                0\n",
      "d1_tiredness                   0\n",
      "d1_headache                    0\n",
      "d1_muscle_pain                 0\n",
      "d1_joint_pain                  0\n",
      "d1_weakness                    0\n",
      "d1_fever                       0\n",
      "d1_vomiting                    0\n",
      "d1_chills                      0\n",
      "d1_rash                        0\n",
      "d2_site_pain                   0\n",
      "d2_site_swelling               0\n",
      "d2_site_redness                0\n",
      "d2_tiredness                   0\n",
      "d2_headache                    0\n",
      "d2_muscle_pain                 0\n",
      "d2_joint_pain                  0\n",
      "d2_weakness                    0\n",
      "d2_fever                       0\n",
      "d2_vomiting                    0\n",
      "d2_chills                      0\n",
      "d2_rash                        0\n",
      "dtype: int64\n",
      "date                           object\n",
      "vaxtype                        object\n",
      "daily_total                     int64\n",
      "daily_serious_npra              int64\n",
      "daily_nonserious                int64\n",
      "daily_nonserious_npra           int64\n",
      "daily_nonserious_mysj_dose1     int64\n",
      "daily_nonserious_mysj_dose2     int64\n",
      "d1_site_pain                    int64\n",
      "d1_site_swelling                int64\n",
      "d1_site_redness                 int64\n",
      "d1_tiredness                    int64\n",
      "d1_headache                     int64\n",
      "d1_muscle_pain                  int64\n",
      "d1_joint_pain                   int64\n",
      "d1_weakness                     int64\n",
      "d1_fever                        int64\n",
      "d1_vomiting                     int64\n",
      "d1_chills                       int64\n",
      "d1_rash                         int64\n",
      "d2_site_pain                    int64\n",
      "d2_site_swelling                int64\n",
      "d2_site_redness                 int64\n",
      "d2_tiredness                    int64\n",
      "d2_headache                     int64\n",
      "d2_muscle_pain                  int64\n",
      "d2_joint_pain                   int64\n",
      "d2_weakness                     int64\n",
      "d2_fever                        int64\n",
      "d2_vomiting                     int64\n",
      "d2_chills                       int64\n",
      "d2_rash                         int64\n",
      "dtype: object\n"
     ]
    }
   ],
   "source": [
    "file = pd.read_csv('aefi.csv')\n",
    "print(file.head())\n",
    "print(file.describe())\n",
    "print(file.info())\n",
    "print(file.columns)\n",
    "print(file.shape)\n",
    "print(file.isnull().sum())\n",
    "print(file.dtypes)"
   ]
  },
  {
   "cell_type": "code",
   "execution_count": 3,
   "metadata": {},
   "outputs": [
    {
     "name": "stdout",
     "output_type": "stream",
     "text": [
      "0\n"
     ]
    }
   ],
   "source": [
    "# check for duplicates\n",
    "duplicates = file.duplicated()\n",
    "print(duplicates.sum())"
   ]
  },
  {
   "cell_type": "code",
   "execution_count": 4,
   "metadata": {},
   "outputs": [
    {
     "name": "stdout",
     "output_type": "stream",
     "text": [
      "date                           0\n",
      "vaxtype                        0\n",
      "daily_total                    0\n",
      "daily_serious_npra             0\n",
      "daily_nonserious               0\n",
      "daily_nonserious_npra          0\n",
      "daily_nonserious_mysj_dose1    0\n",
      "daily_nonserious_mysj_dose2    0\n",
      "d1_site_pain                   0\n",
      "d1_site_swelling               0\n",
      "d1_site_redness                0\n",
      "d1_tiredness                   0\n",
      "d1_headache                    0\n",
      "d1_muscle_pain                 0\n",
      "d1_joint_pain                  0\n",
      "d1_weakness                    0\n",
      "d1_fever                       0\n",
      "d1_vomiting                    0\n",
      "d1_chills                      0\n",
      "d1_rash                        0\n",
      "d2_site_pain                   0\n",
      "d2_site_swelling               0\n",
      "d2_site_redness                0\n",
      "d2_tiredness                   0\n",
      "d2_headache                    0\n",
      "d2_muscle_pain                 0\n",
      "d2_joint_pain                  0\n",
      "d2_weakness                    0\n",
      "d2_fever                       0\n",
      "d2_vomiting                    0\n",
      "d2_chills                      0\n",
      "d2_rash                        0\n",
      "dtype: int64\n"
     ]
    }
   ],
   "source": [
    "# check for null values\n",
    "null_values = file.isnull().sum()\n",
    "print(null_values)"
   ]
  },
  {
   "cell_type": "code",
   "execution_count": 5,
   "metadata": {},
   "outputs": [
    {
     "name": "stdout",
     "output_type": "stream",
     "text": [
      "Index(['date', 'vaxtype', 'daily_total', 'daily_serious_npra',\n",
      "       'daily_nonserious', 'daily_nonserious_npra',\n",
      "       'daily_nonserious_mysj_dose1', 'daily_nonserious_mysj_dose2',\n",
      "       'd1_site_pain', 'd1_site_swelling', 'd1_site_redness', 'd1_tiredness',\n",
      "       'd1_headache', 'd1_muscle_pain', 'd1_joint_pain', 'd1_weakness',\n",
      "       'd1_fever', 'd1_vomiting', 'd1_chills', 'd1_rash', 'd2_site_pain',\n",
      "       'd2_site_swelling', 'd2_site_redness', 'd2_tiredness', 'd2_headache',\n",
      "       'd2_muscle_pain', 'd2_joint_pain', 'd2_weakness', 'd2_fever',\n",
      "       'd2_vomiting', 'd2_chills', 'd2_rash'],\n",
      "      dtype='object')\n"
     ]
    }
   ],
   "source": [
    "# check for all features\n",
    "features = file.columns\n",
    "print(features)"
   ]
  },
  {
   "cell_type": "code",
   "execution_count": 6,
   "metadata": {},
   "outputs": [
    {
     "name": "stdout",
     "output_type": "stream",
     "text": [
      "Index(['date', 'vaxtype', 'daily_serious_npra', 'daily_nonserious_npra',\n",
      "       'd1_site_pain', 'd1_headache', 'd1_fever', 'd2_site_pain',\n",
      "       'd2_headache', 'd2_fever'],\n",
      "      dtype='object')\n"
     ]
    }
   ],
   "source": [
    "# drop features\n",
    "file.drop(['daily_total','daily_nonserious','daily_nonserious_mysj_dose1',\n",
    "       'daily_nonserious_mysj_dose2','d1_site_swelling',\n",
    "       'd1_site_redness', 'd1_tiredness', 'd1_muscle_pain',\n",
    "       'd1_joint_pain', 'd1_weakness', 'd1_vomiting', 'd1_chills',\n",
    "       'd1_rash',  'd2_site_swelling', 'd2_site_redness',\n",
    "       'd2_tiredness','d2_muscle_pain', 'd2_joint_pain',\n",
    "       'd2_weakness', 'd2_vomiting', 'd2_chills', 'd2_rash'], axis=1, inplace=True)\n",
    "print(file.columns)"
   ]
  },
  {
   "cell_type": "code",
   "execution_count": 7,
   "metadata": {},
   "outputs": [
    {
     "name": "stdout",
     "output_type": "stream",
     "text": [
      "       vaxtype  daily_serious_npra  daily_nonserious_npra  d1_site_pain  \\\n",
      "0  astrazeneca                   0                      5             0   \n",
      "1       pfizer                   0                      1             0   \n",
      "2       pfizer                   0                      2             0   \n",
      "3       pfizer                   0                      4             0   \n",
      "4       pfizer                   1                     11             0   \n",
      "\n",
      "   d1_headache  d1_fever  d2_site_pain  d2_headache  d2_fever  \n",
      "0            0         0             0            0         0  \n",
      "1            0         0             0            0         0  \n",
      "2            0         0             0            0         0  \n",
      "3            0         0             0            0         0  \n",
      "4            0         0             0            0         0  \n"
     ]
    }
   ],
   "source": [
    "# drop the date column\n",
    "file.drop('date', axis=1, inplace=True)\n",
    "print(file.head())\n"
   ]
  },
  {
   "cell_type": "code",
   "execution_count": 8,
   "metadata": {},
   "outputs": [
    {
     "name": "stdout",
     "output_type": "stream",
     "text": [
      "4\n",
      "['astrazeneca' 'pfizer' 'sinovac' 'sinopharm']\n"
     ]
    }
   ],
   "source": [
    "# check number of vaxtype in vaxtype column\n",
    "print(file['vaxtype'].nunique())\n",
    "\n",
    "# print out the vaxtype name\n",
    "vaxtype_name = file['vaxtype'].unique()\n",
    "print(vaxtype_name)"
   ]
  },
  {
   "cell_type": "code",
   "execution_count": 9,
   "metadata": {},
   "outputs": [
    {
     "name": "stdout",
     "output_type": "stream",
     "text": [
      "   vaxtype  daily_serious_npra  daily_nonserious_npra  d1_site_pain  \\\n",
      "0        0                   0                      5             0   \n",
      "1        1                   0                      1             0   \n",
      "2        1                   0                      2             0   \n",
      "3        1                   0                      4             0   \n",
      "4        1                   1                     11             0   \n",
      "\n",
      "   d1_headache  d1_fever  d2_site_pain  d2_headache  d2_fever  \n",
      "0            0         0             0            0         0  \n",
      "1            0         0             0            0         0  \n",
      "2            0         0             0            0         0  \n",
      "3            0         0             0            0         0  \n",
      "4            0         0             0            0         0  \n"
     ]
    }
   ],
   "source": [
    "# convert the vaxtype colummn from category to numerical\n",
    "file['vaxtype'] = file['vaxtype'].astype('category')\n",
    "file['vaxtype'] = file['vaxtype'].cat.codes\n",
    "print(file.head())"
   ]
  },
  {
   "cell_type": "code",
   "execution_count": 10,
   "metadata": {},
   "outputs": [
    {
     "ename": "AttributeError",
     "evalue": "module 'matplotlib' has no attribute 'title'",
     "output_type": "error",
     "traceback": [
      "\u001b[1;31m---------------------------------------------------------------------------\u001b[0m",
      "\u001b[1;31mAttributeError\u001b[0m                            Traceback (most recent call last)",
      "Cell \u001b[1;32mIn[10], line 7\u001b[0m\n\u001b[0;32m      4\u001b[0m vaxtype_freq\u001b[38;5;241m.\u001b[39mplot(kind\u001b[38;5;241m=\u001b[39m\u001b[38;5;124m'\u001b[39m\u001b[38;5;124mbar\u001b[39m\u001b[38;5;124m'\u001b[39m, color\u001b[38;5;241m=\u001b[39m\u001b[38;5;124m'\u001b[39m\u001b[38;5;124mskyblue\u001b[39m\u001b[38;5;124m'\u001b[39m)\n\u001b[0;32m      6\u001b[0m \u001b[38;5;66;03m# Add labels and title\u001b[39;00m\n\u001b[1;32m----> 7\u001b[0m \u001b[43mplt\u001b[49m\u001b[38;5;241;43m.\u001b[39;49m\u001b[43mtitle\u001b[49m(\u001b[38;5;124m'\u001b[39m\u001b[38;5;124mFrequency of Vaccine Types\u001b[39m\u001b[38;5;124m'\u001b[39m)\n\u001b[0;32m      8\u001b[0m plt\u001b[38;5;241m.\u001b[39mxlabel(\u001b[38;5;124m'\u001b[39m\u001b[38;5;124mVaccine Type\u001b[39m\u001b[38;5;124m'\u001b[39m)\n\u001b[0;32m      9\u001b[0m plt\u001b[38;5;241m.\u001b[39mylabel(\u001b[38;5;124m'\u001b[39m\u001b[38;5;124mFrequency\u001b[39m\u001b[38;5;124m'\u001b[39m)\n",
      "File \u001b[1;32mc:\\Users\\cheng\\AppData\\Local\\Programs\\Python\\Python310\\lib\\site-packages\\matplotlib\\_api\\__init__.py:217\u001b[0m, in \u001b[0;36mcaching_module_getattr.<locals>.__getattr__\u001b[1;34m(name)\u001b[0m\n\u001b[0;32m    215\u001b[0m \u001b[38;5;28;01mif\u001b[39;00m name \u001b[38;5;129;01min\u001b[39;00m props:\n\u001b[0;32m    216\u001b[0m     \u001b[38;5;28;01mreturn\u001b[39;00m props[name]\u001b[38;5;241m.\u001b[39m\u001b[38;5;21m__get__\u001b[39m(instance)\n\u001b[1;32m--> 217\u001b[0m \u001b[38;5;28;01mraise\u001b[39;00m \u001b[38;5;167;01mAttributeError\u001b[39;00m(\n\u001b[0;32m    218\u001b[0m     \u001b[38;5;124mf\u001b[39m\u001b[38;5;124m\"\u001b[39m\u001b[38;5;124mmodule \u001b[39m\u001b[38;5;132;01m{\u001b[39;00m\u001b[38;5;28mcls\u001b[39m\u001b[38;5;241m.\u001b[39m\u001b[38;5;18m__module__\u001b[39m\u001b[38;5;132;01m!r}\u001b[39;00m\u001b[38;5;124m has no attribute \u001b[39m\u001b[38;5;132;01m{\u001b[39;00mname\u001b[38;5;132;01m!r}\u001b[39;00m\u001b[38;5;124m\"\u001b[39m)\n",
      "\u001b[1;31mAttributeError\u001b[0m: module 'matplotlib' has no attribute 'title'"
     ]
    },
    {
     "data": {
      "image/png": "[encoded data removed]",
      "text/plain": [
       "<Figure size 640x480 with 1 Axes>"
      ]
     },
     "metadata": {},
     "output_type": "display_data"
    }
   ],
   "source": [
    "# check frequency of vaxtype column and show in graph of frequency vs vaxtype\n",
    "vaxtype_freq = file['vaxtype'].value_counts()\n",
    "# Plot the frequency using a bar chart\n",
    "vaxtype_freq.plot(kind='bar', color='skyblue')\n",
    "\n",
    "# Add labels and title\n",
    "plt.title('Frequency of Vaccine Types')\n",
    "plt.xlabel('Vaccine Type')\n",
    "plt.ylabel('Frequency')\n",
    "\n",
    "# Show the plot\n",
    "plt.show()"
   ]
  },
  {
   "cell_type": "code",
   "execution_count": 46,
   "metadata": {},
   "outputs": [
    {
     "name": "stdout",
     "output_type": "stream",
     "text": [
      "               variables        VIF\n",
      "0                vaxtype   1.249342\n",
      "1     daily_serious_npra   2.751387\n",
      "2  daily_nonserious_npra   2.573962\n",
      "3           d1_site_pain  33.369977\n",
      "4            d1_headache  89.572161\n",
      "5               d1_fever  26.123000\n",
      "6           d2_site_pain  37.577448\n",
      "7            d2_headache  23.873921\n",
      "8               d2_fever  22.325027\n"
     ]
    }
   ],
   "source": [
    "# Do Variance inflation factor to check for multicollinearity\n",
    "def calculate_vif(data):\n",
    "    vif = pd.DataFrame()\n",
    "    vif[\"variables\"] = data.columns\n",
    "    vif[\"VIF\"] = [variance_inflation_factor(data.values, i) for i in range(data.shape[1])]\n",
    "    return(vif)\n",
    "\n",
    "print(calculate_vif(file))\n"
   ]
  },
  {
   "cell_type": "code",
   "execution_count": 47,
   "metadata": {},
   "outputs": [
    {
     "data": {
      "text/plain": [
       "<Axes: >"
      ]
     },
     "execution_count": 47,
     "metadata": {},
     "output_type": "execute_result"
    },
    {
     "data": {
      "image/png": "[encoded data removed]",
      "text/plain": [
       "<Figure size 640x480 with 2 Axes>"
      ]
     },
     "metadata": {},
     "output_type": "display_data"
    }
   ],
   "source": [
    "import seaborn as sns\n",
    "\n",
    "# Check the correlation between all the columns in the dataframe\n",
    "sns.heatmap(file.corr(), annot=True)"
   ]
  },
  {
   "cell_type": "code",
   "execution_count": 48,
   "metadata": {},
   "outputs": [
    {
     "name": "stdout",
     "output_type": "stream",
     "text": [
      "                        vaxtype  daily_serious_npra  daily_nonserious_npra  \\\n",
      "vaxtype                1.000000            0.026468              -0.056364   \n",
      "daily_serious_npra     0.026468            1.000000               0.617329   \n",
      "daily_nonserious_npra -0.056364            0.617329               1.000000   \n",
      "d1_site_pain          -0.256101            0.320326               0.277153   \n",
      "d1_headache           -0.240623            0.264376               0.184878   \n",
      "d1_fever              -0.295282            0.067462               0.017488   \n",
      "d2_site_pain          -0.055163            0.320562               0.481361   \n",
      "d2_headache           -0.033947            0.338055               0.511089   \n",
      "d2_fever              -0.077986            0.317116               0.508994   \n",
      "\n",
      "                       d1_site_pain  d1_headache  d1_fever  d2_site_pain  \\\n",
      "vaxtype                   -0.256101    -0.240623 -0.295282     -0.055163   \n",
      "daily_serious_npra         0.320326     0.264376  0.067462      0.320562   \n",
      "daily_nonserious_npra      0.277153     0.184878  0.017488      0.481361   \n",
      "d1_site_pain               1.000000     0.965903  0.861793      0.304701   \n",
      "d1_headache                0.965903     1.000000  0.944516      0.205801   \n",
      "d1_fever                   0.861793     0.944516  1.000000      0.070629   \n",
      "d2_site_pain               0.304701     0.205801  0.070629      1.000000   \n",
      "d2_headache                0.332743     0.233355  0.079886      0.972263   \n",
      "d2_fever                   0.315980     0.212809  0.081201      0.972817   \n",
      "\n",
      "                       d2_headache  d2_fever  \n",
      "vaxtype                  -0.033947 -0.077986  \n",
      "daily_serious_npra        0.338055  0.317116  \n",
      "daily_nonserious_npra     0.511089  0.508994  \n",
      "d1_site_pain              0.332743  0.315980  \n",
      "d1_headache               0.233355  0.212809  \n",
      "d1_fever                  0.079886  0.081201  \n",
      "d2_site_pain              0.972263  0.972817  \n",
      "d2_headache               1.000000  0.951578  \n",
      "d2_fever                  0.951578  1.000000  \n"
     ]
    }
   ],
   "source": [
    "# check for data balance with SMOTE\n",
    "from imblearn.over_sampling import SMOTE\n",
    "from collections import Counter\n"
   ]
  },
  {
   "cell_type": "code",
   "execution_count": 12,
   "metadata": {},
   "outputs": [
    {
     "name": "stderr",
     "output_type": "stream",
     "text": [
      "C:\\Users\\cheng\\AppData\\Local\\Temp\\ipykernel_2316\\2569278267.py:14: UserWarning: Parsing dates in %Y-%m-%d format when dayfirst=True was specified. Pass `dayfirst=False` or specify a format to silence this warning.\n",
      "  data['date'] = pd.to_datetime(data['date'], dayfirst=True, errors='coerce')\n"
     ]
    },
    {
     "name": "stdout",
     "output_type": "stream",
     "text": [
      "Best Parameters: {'metric': 'manhattan', 'n_neighbors': 3}\n",
      "Cross-validation accuracies for 10 folds: [0.81632653 0.75510204 0.71428571 0.71428571 0.83673469 0.87755102\n",
      " 0.7755102  0.79591837 0.87755102 0.81632653]\n",
      "Mean cross-validation accuracy: 79.80%\n",
      "\n",
      "Final Model Test Accuracy: 88.78%\n",
      "\n",
      "Classification Report:\n",
      "              precision    recall  f1-score   support\n",
      "\n",
      " astrazeneca       0.97      0.94      0.95        33\n",
      "      pfizer       0.86      0.86      0.86        29\n",
      "     sinovac       0.84      0.86      0.85        36\n",
      "\n",
      "    accuracy                           0.89        98\n",
      "   macro avg       0.89      0.89      0.89        98\n",
      "weighted avg       0.89      0.89      0.89        98\n",
      "\n"
     ]
    }
   ],
   "source": [
    "import pandas as pd\n",
    "from sklearn.model_selection import GridSearchCV, train_test_split, cross_val_score\n",
    "from sklearn.preprocessing import LabelEncoder, StandardScaler\n",
    "from sklearn.neighbors import KNeighborsClassifier\n",
    "from sklearn.metrics import accuracy_score, classification_report\n",
    "from scipy import stats\n",
    "import numpy as np\n",
    "\n",
    "# Load the CSV directly from the URL\n",
    "url = \"https://raw.githubusercontent.com/MoH-Malaysia/covid19-public/main/vaccination/aefi.csv\"\n",
    "data = pd.read_csv(url)\n",
    "\n",
    "# Convert the 'date' column to datetime, allowing mixed formats\n",
    "data['date'] = pd.to_datetime(data['date'], dayfirst=True, errors='coerce')\n",
    "\n",
    "# Define the date range\n",
    "start_date = '2021-04-15'\n",
    "end_date = '2021-10-15'\n",
    "\n",
    "# Filter the data within the specified date range\n",
    "filtered_data = data[(data['date'] >= start_date) & (data['date'] <= end_date)]\n",
    "\n",
    "# Keep only the required columns\n",
    "columns_to_keep = [\n",
    "    'vaxtype', 'daily_total', 'daily_serious_npra', 'daily_nonserious_npra', \n",
    "    'd1_site_pain', 'd2_site_pain', 'd1_fever', 'd2_fever', \n",
    "    'd1_headache', 'd2_headache', 'd1_muscle_pain', 'd2_muscle_pain'\n",
    "]\n",
    "filtered_data = filtered_data[columns_to_keep]\n",
    "\n",
    "# =============================\n",
    "# Data Preprocessing\n",
    "# =============================\n",
    "\n",
    "# 1. Handle Missing Data: Drop rows with missing values in 'vaxtype' and other columns\n",
    "filtered_data = filtered_data.dropna()\n",
    "\n",
    "# 2. Feature Scaling: Apply standardization (Z-score normalization) to the features\n",
    "scaler = StandardScaler()\n",
    "scaled_features = scaler.fit_transform(filtered_data.drop(columns='vaxtype'))\n",
    "\n",
    "# 3. Handle Outliers: Remove rows that are outliers using Z-score\n",
    "z_scores = np.abs(stats.zscore(scaled_features))\n",
    "filtered_data = filtered_data[(z_scores < 3).all(axis=1)]\n",
    "\n",
    "# Separate the filtered data after outlier removal into X and y again\n",
    "X = filtered_data.drop(columns='vaxtype')\n",
    "y = filtered_data['vaxtype']\n",
    "\n",
    "# Re-apply scaling after outlier removal\n",
    "X_scaled = scaler.fit_transform(X)\n",
    "\n",
    "# 4. Encode the target labels (vaccine types) to numeric values\n",
    "label_encoder = LabelEncoder()\n",
    "y_encoded = label_encoder.fit_transform(y)\n",
    "\n",
    "# Split data into training and testing sets (80% train, 20% test)\n",
    "X_train, X_test, y_train, y_test = train_test_split(X_scaled, y_encoded, test_size=0.2, random_state=42)\n",
    "\n",
    "# =============================\n",
    "# Part 1: Hyperparameter Tuning (No change needed)\n",
    "# =============================\n",
    "\n",
    "# Define the parameter grid to search over\n",
    "param_grid = {\n",
    "    'n_neighbors': [3, 5, 7, 9],        # Number of neighbors to try\n",
    "    'metric': ['euclidean', 'manhattan', 'minkowski']  # Different distance metrics\n",
    "}\n",
    "\n",
    "# Initialize the KNN model\n",
    "knn = KNeighborsClassifier()\n",
    "\n",
    "# Set up GridSearchCV to search for the best parameters\n",
    "grid_search = GridSearchCV(knn, param_grid, cv=5, scoring='accuracy')\n",
    "\n",
    "# Train the model with different hyperparameter combinations\n",
    "grid_search.fit(X_train, y_train)\n",
    "\n",
    "# Get the best parameters found by the grid search\n",
    "best_params = grid_search.best_params_\n",
    "print(f\"Best Parameters: {best_params}\")\n",
    "\n",
    "# =============================\n",
    "# Part 2: Train Final Model with Best Parameters and K-Fold Cross-Validation\n",
    "# =============================\n",
    "\n",
    "# Initialize the KNN model with the best parameters\n",
    "knn_best = KNeighborsClassifier(n_neighbors=best_params['n_neighbors'], metric=best_params['metric'])\n",
    "\n",
    "# Perform K-Fold cross-validation\n",
    "k = 10\n",
    "cv_scores = cross_val_score(knn_best, X_scaled, y_encoded, cv=k, scoring='accuracy')\n",
    "\n",
    "# Print out the accuracy for each fold and the mean accuracy\n",
    "print(f\"Cross-validation accuracies for {k} folds: {cv_scores}\")\n",
    "print(f\"Mean cross-validation accuracy: {cv_scores.mean() * 100:.2f}%\")\n",
    "\n",
    "# =============================\n",
    "# Part 3: Final Evaluation on Test Data\n",
    "# =============================\n",
    "\n",
    "# Train the model on the entire training dataset\n",
    "knn_best.fit(X_train, y_train)\n",
    "\n",
    "# Make predictions on the test data\n",
    "y_pred = knn_best.predict(X_test)\n",
    "\n",
    "# Calculate the accuracy of the final model on the test data\n",
    "accuracy = accuracy_score(y_test, y_pred)\n",
    "print(f\"\\nFinal Model Test Accuracy: {accuracy * 100:.2f}%\")\n",
    "\n",
    "# Display detailed classification report\n",
    "print(\"\\nClassification Report:\")\n",
    "print(classification_report(y_test, y_pred, target_names=label_encoder.classes_))\n"
   ]
  }
 ],
 "metadata": {
  "kernelspec": {
   "display_name": "Python 3",
   "language": "python",
   "name": "python3"
  },
  "language_info": {
   "codemirror_mode": {
    "name": "ipython",
    "version": 3
   },
   "file_extension": ".py",
   "mimetype": "text/x-python",
   "name": "python",
   "nbconvert_exporter": "python",
   "pygments_lexer": "ipython3",
   "version": "3.10.0"
  }
 },
 "nbformat": 4,
 "nbformat_minor": 2
}
