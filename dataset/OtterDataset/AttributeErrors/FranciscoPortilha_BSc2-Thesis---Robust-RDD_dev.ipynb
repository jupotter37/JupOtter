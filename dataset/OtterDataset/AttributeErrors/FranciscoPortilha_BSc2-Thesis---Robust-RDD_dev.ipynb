{
 "cells": [
  {
   "cell_type": "code",
   "execution_count": 88,
   "metadata": {},
   "outputs": [],
   "source": [
    "import src.simulation as sim\n",
    "import numpy as np\n",
    "import pandas as pd\n",
    "import src.sample as smp\n",
    "import matplotlib.pyplot as plt\n",
    "import src.exports as exp"
   ]
  },
  {
   "cell_type": "code",
   "execution_count": 4,
   "metadata": {},
   "outputs": [],
   "source": [
    "sample = smp.genSample('Basic Linear',250,tau=0.3,alpha=-0.15,beta=1,L=200,outlier=False,outlierMethod='Simple Outside', nOutliers=5,printPlot=False)"
   ]
  },
  {
   "cell_type": "code",
   "execution_count": 50,
   "metadata": {},
   "outputs": [],
   "source": [
    "sample = pd.read_csv(\"application/data.csv\")\n",
    "      "
   ]
  },
  {
   "cell_type": "code",
   "execution_count": 51,
   "metadata": {},
   "outputs": [
    {
     "data": {
      "text/html": [
       "<div>\n",
       "<style scoped>\n",
       "    .dataframe tbody tr th:only-of-type {\n",
       "        vertical-align: middle;\n",
       "    }\n",
       "\n",
       "    .dataframe tbody tr th {\n",
       "        vertical-align: top;\n",
       "    }\n",
       "\n",
       "    .dataframe thead th {\n",
       "        text-align: right;\n",
       "    }\n",
       "</style>\n",
       "<table border=\"1\" class=\"dataframe\">\n",
       "  <thead>\n",
       "    <tr style=\"text-align: right;\">\n",
       "      <th></th>\n",
       "      <th>Unnamed: 0</th>\n",
       "      <th>Y</th>\n",
       "      <th>X</th>\n",
       "      <th>Treatment</th>\n",
       "    </tr>\n",
       "  </thead>\n",
       "  <tbody>\n",
       "    <tr>\n",
       "      <th>0</th>\n",
       "      <td>0</td>\n",
       "      <td>0.0</td>\n",
       "      <td>1418.0</td>\n",
       "      <td>1.0</td>\n",
       "    </tr>\n",
       "    <tr>\n",
       "      <th>1</th>\n",
       "      <td>1</td>\n",
       "      <td>0.0</td>\n",
       "      <td>1418.0</td>\n",
       "      <td>1.0</td>\n",
       "    </tr>\n",
       "    <tr>\n",
       "      <th>2</th>\n",
       "      <td>2</td>\n",
       "      <td>0.0</td>\n",
       "      <td>1418.0</td>\n",
       "      <td>1.0</td>\n",
       "    </tr>\n",
       "    <tr>\n",
       "      <th>3</th>\n",
       "      <td>3</td>\n",
       "      <td>0.0</td>\n",
       "      <td>1418.0</td>\n",
       "      <td>1.0</td>\n",
       "    </tr>\n",
       "    <tr>\n",
       "      <th>4</th>\n",
       "      <td>4</td>\n",
       "      <td>0.0</td>\n",
       "      <td>1418.0</td>\n",
       "      <td>1.0</td>\n",
       "    </tr>\n",
       "    <tr>\n",
       "      <th>...</th>\n",
       "      <td>...</td>\n",
       "      <td>...</td>\n",
       "      <td>...</td>\n",
       "      <td>...</td>\n",
       "    </tr>\n",
       "    <tr>\n",
       "      <th>32505</th>\n",
       "      <td>32505</td>\n",
       "      <td>0.0</td>\n",
       "      <td>1580.0</td>\n",
       "      <td>0.0</td>\n",
       "    </tr>\n",
       "    <tr>\n",
       "      <th>32506</th>\n",
       "      <td>32506</td>\n",
       "      <td>0.0</td>\n",
       "      <td>1545.0</td>\n",
       "      <td>0.0</td>\n",
       "    </tr>\n",
       "    <tr>\n",
       "      <th>32507</th>\n",
       "      <td>32507</td>\n",
       "      <td>0.0</td>\n",
       "      <td>1470.0</td>\n",
       "      <td>1.0</td>\n",
       "    </tr>\n",
       "    <tr>\n",
       "      <th>32508</th>\n",
       "      <td>32508</td>\n",
       "      <td>0.0</td>\n",
       "      <td>1559.0</td>\n",
       "      <td>0.0</td>\n",
       "    </tr>\n",
       "    <tr>\n",
       "      <th>32509</th>\n",
       "      <td>32509</td>\n",
       "      <td>0.0</td>\n",
       "      <td>1570.0</td>\n",
       "      <td>0.0</td>\n",
       "    </tr>\n",
       "  </tbody>\n",
       "</table>\n",
       "<p>32510 rows × 4 columns</p>\n",
       "</div>"
      ],
      "text/plain": [
       "       Unnamed: 0    Y       X  Treatment\n",
       "0               0  0.0  1418.0        1.0\n",
       "1               1  0.0  1418.0        1.0\n",
       "2               2  0.0  1418.0        1.0\n",
       "3               3  0.0  1418.0        1.0\n",
       "4               4  0.0  1418.0        1.0\n",
       "...           ...  ...     ...        ...\n",
       "32505       32505  0.0  1580.0        0.0\n",
       "32506       32506  0.0  1545.0        0.0\n",
       "32507       32507  0.0  1470.0        1.0\n",
       "32508       32508  0.0  1559.0        0.0\n",
       "32509       32509  0.0  1570.0        0.0\n",
       "\n",
       "[32510 rows x 4 columns]"
      ]
     },
     "execution_count": 51,
     "metadata": {},
     "output_type": "execute_result"
    }
   ],
   "source": [
    "sample"
   ]
  },
  {
   "cell_type": "code",
   "execution_count": 52,
   "metadata": {},
   "outputs": [
    {
     "data": {
      "text/plain": [
       "<Axes: >"
      ]
     },
     "execution_count": 52,
     "metadata": {},
     "output_type": "execute_result"
    },
    {
     "data": {
      "image/png": "[encoded data removed]",
      "text/plain": [
       "<Figure size 640x480 with 1 Axes>"
      ]
     },
     "metadata": {},
     "output_type": "display_data"
    }
   ],
   "source": [
    "sample.X.hist(bins= 85)"
   ]
  },
  {
   "cell_type": "code",
   "execution_count": 46,
   "metadata": {},
   "outputs": [],
   "source": [
    "Y_avgs = {}\n",
    "X = {}\n",
    "for i in range(1415,1586):\n",
    "    Y_avgs = np.append(Y_avgs, sample.loc[sample.X==i].mean().iloc[1])\n",
    "    X = np.append(X, i)\n",
    "\n",
    "Y_avgs = np.delete(Y_avgs,0)\n",
    "X = np.delete(X,0)\n",
    "sample = pd.DataFrame(\n",
    "    {\n",
    "        \"Y\": Y_avgs,\n",
    "        \"X\": X,\n",
    "        \"Treatment\": smp.genT(X,1500,False),\n",
    "    }\n",
    ")"
   ]
  },
  {
   "cell_type": "code",
   "execution_count": 49,
   "metadata": {},
   "outputs": [
    {
     "data": {
      "text/plain": [
       "<matplotlib.collections.PathCollection at 0x1a607376570>"
      ]
     },
     "execution_count": 49,
     "metadata": {},
     "output_type": "execute_result"
    },
    {
     "data": {
      "image/png": "[encoded data removed]",
      "text/plain": [
       "<Figure size 640x480 with 1 Axes>"
      ]
     },
     "metadata": {},
     "output_type": "display_data"
    }
   ],
   "source": [
    "plt.scatter(sample.X,sample.Y,s=4)"
   ]
  },
  {
   "cell_type": "code",
   "execution_count": 53,
   "metadata": {},
   "outputs": [],
   "source": [
    "from src.sample import genT\n",
    "df_02 = pd.read_csv(\"application/LinkCO02USDEN.dat\", header=None)\n",
    "\n",
    "Deaths = {}\n",
    "Weights = {}\n",
    "for df in [df_02]:\n",
    "    for i in range(len(df)):\n",
    "        weight = int(df.iloc[i][0][80:84])\n",
    "        death = int(df.iloc[i][0][0])\n",
    "        if (1415 <= weight) & (weight <= 1585):\n",
    "            Weights = np.append(Weights, weight)\n",
    "            if death == 2:\n",
    "                Deaths = np.append(Deaths, 0)\n",
    "            else:\n",
    "                Deaths = np.append(Deaths, 1)\n",
    "\n",
    "Deaths = np.delete(Deaths, 0)\n",
    "Weights = np.delete(Weights, 0)\n",
    "\n",
    "sample = pd.DataFrame(\n",
    "    {\n",
    "        \"Y\": Deaths,\n",
    "        \"X\": Weights,\n",
    "        \"Treatment\": genT(Weights,1500,False),\n",
    "    }\n",
    ")\n",
    "sample.Y = sample.Y.astype(float)\n",
    "sample.X = sample.X.astype(float)\n",
    "sample.Treatment = sample.Treatment.astype(float)"
   ]
  },
  {
   "cell_type": "code",
   "execution_count": 56,
   "metadata": {},
   "outputs": [
    {
     "data": {
      "text/html": [
       "<div>\n",
       "<style scoped>\n",
       "    .dataframe tbody tr th:only-of-type {\n",
       "        vertical-align: middle;\n",
       "    }\n",
       "\n",
       "    .dataframe tbody tr th {\n",
       "        vertical-align: top;\n",
       "    }\n",
       "\n",
       "    .dataframe thead th {\n",
       "        text-align: right;\n",
       "    }\n",
       "</style>\n",
       "<table border=\"1\" class=\"dataframe\">\n",
       "  <thead>\n",
       "    <tr style=\"text-align: right;\">\n",
       "      <th></th>\n",
       "      <th>Y</th>\n",
       "      <th>X</th>\n",
       "      <th>Treatment</th>\n",
       "    </tr>\n",
       "  </thead>\n",
       "  <tbody>\n",
       "    <tr>\n",
       "      <th>0</th>\n",
       "      <td>0.0</td>\n",
       "      <td>1474.0</td>\n",
       "      <td>1.0</td>\n",
       "    </tr>\n",
       "    <tr>\n",
       "      <th>1</th>\n",
       "      <td>0.0</td>\n",
       "      <td>1440.0</td>\n",
       "      <td>1.0</td>\n",
       "    </tr>\n",
       "    <tr>\n",
       "      <th>2</th>\n",
       "      <td>0.0</td>\n",
       "      <td>1418.0</td>\n",
       "      <td>1.0</td>\n",
       "    </tr>\n",
       "    <tr>\n",
       "      <th>3</th>\n",
       "      <td>0.0</td>\n",
       "      <td>1580.0</td>\n",
       "      <td>0.0</td>\n",
       "    </tr>\n",
       "    <tr>\n",
       "      <th>4</th>\n",
       "      <td>0.0</td>\n",
       "      <td>1452.0</td>\n",
       "      <td>1.0</td>\n",
       "    </tr>\n",
       "    <tr>\n",
       "      <th>...</th>\n",
       "      <td>...</td>\n",
       "      <td>...</td>\n",
       "      <td>...</td>\n",
       "    </tr>\n",
       "    <tr>\n",
       "      <th>13570</th>\n",
       "      <td>0.0</td>\n",
       "      <td>1580.0</td>\n",
       "      <td>0.0</td>\n",
       "    </tr>\n",
       "    <tr>\n",
       "      <th>13571</th>\n",
       "      <td>0.0</td>\n",
       "      <td>1545.0</td>\n",
       "      <td>0.0</td>\n",
       "    </tr>\n",
       "    <tr>\n",
       "      <th>13572</th>\n",
       "      <td>0.0</td>\n",
       "      <td>1470.0</td>\n",
       "      <td>1.0</td>\n",
       "    </tr>\n",
       "    <tr>\n",
       "      <th>13573</th>\n",
       "      <td>0.0</td>\n",
       "      <td>1559.0</td>\n",
       "      <td>0.0</td>\n",
       "    </tr>\n",
       "    <tr>\n",
       "      <th>13574</th>\n",
       "      <td>0.0</td>\n",
       "      <td>1570.0</td>\n",
       "      <td>0.0</td>\n",
       "    </tr>\n",
       "  </tbody>\n",
       "</table>\n",
       "<p>13575 rows × 3 columns</p>\n",
       "</div>"
      ],
      "text/plain": [
       "         Y       X  Treatment\n",
       "0      0.0  1474.0        1.0\n",
       "1      0.0  1440.0        1.0\n",
       "2      0.0  1418.0        1.0\n",
       "3      0.0  1580.0        0.0\n",
       "4      0.0  1452.0        1.0\n",
       "...    ...     ...        ...\n",
       "13570  0.0  1580.0        0.0\n",
       "13571  0.0  1545.0        0.0\n",
       "13572  0.0  1470.0        1.0\n",
       "13573  0.0  1559.0        0.0\n",
       "13574  0.0  1570.0        0.0\n",
       "\n",
       "[13575 rows x 3 columns]"
      ]
     },
     "execution_count": 56,
     "metadata": {},
     "output_type": "execute_result"
    }
   ],
   "source": [
    "sample"
   ]
  },
  {
   "cell_type": "code",
   "execution_count": 64,
   "metadata": {},
   "outputs": [
    {
     "ename": "AttributeError",
     "evalue": "'Axes' object has no attribute 'savefig'",
     "output_type": "error",
     "traceback": [
      "\u001b[1;31m---------------------------------------------------------------------------\u001b[0m",
      "\u001b[1;31mAttributeError\u001b[0m                            Traceback (most recent call last)",
      "Cell \u001b[1;32mIn[64], line 1\u001b[0m\n\u001b[1;32m----> 1\u001b[0m \u001b[43msample\u001b[49m\u001b[38;5;241;43m.\u001b[39;49m\u001b[43mX\u001b[49m\u001b[38;5;241;43m.\u001b[39;49m\u001b[43mhist\u001b[49m\u001b[43m(\u001b[49m\u001b[43mbins\u001b[49m\u001b[38;5;241;43m=\u001b[39;49m\u001b[38;5;241;43m60\u001b[39;49m\u001b[43m)\u001b[49m\u001b[38;5;241;43m.\u001b[39;49m\u001b[43msavefig\u001b[49m(\u001b[38;5;124m\"\u001b[39m\u001b[38;5;124mimages/application/histApplication.png\u001b[39m\u001b[38;5;124m\"\u001b[39m)\n",
      "\u001b[1;31mAttributeError\u001b[0m: 'Axes' object has no attribute 'savefig'"
     ]
    },
    {
     "data": {
      "image/png": "[encoded data removed]",
      "text/plain": [
       "<Figure size 640x480 with 1 Axes>"
      ]
     },
     "metadata": {},
     "output_type": "display_data"
    }
   ],
   "source": [
    "sample.X.hist(bins=60).savefig(\"images/application/histApplication.png\")"
   ]
  },
  {
   "cell_type": "code",
   "execution_count": 66,
   "metadata": {},
   "outputs": [
    {
     "name": "stderr",
     "output_type": "stream",
     "text": [
      "C:\\Temp\\ipykernel_3740\\1061799264.py:5: UserWarning: FigureCanvasAgg is non-interactive, and thus cannot be shown\n",
      "  fig.show()\n"
     ]
    },
    {
     "data": {
      "image/png": "[encoded data removed]",
      "text/plain": [
       "<Figure size 640x480 with 1 Axes>"
      ]
     },
     "metadata": {},
     "output_type": "display_data"
    }
   ],
   "source": [
    "fig = plt. figure()\n",
    "ax = fig.subplots()\n",
    "ax.hist(sample.X, bins= 85)\n",
    "\n",
    "fig.show()"
   ]
  },
  {
   "cell_type": "code",
   "execution_count": 59,
   "metadata": {},
   "outputs": [
    {
     "data": {
      "text/plain": [
       "Y               0.044118\n",
       "X            1585.000000\n",
       "Treatment       0.000000\n",
       "dtype: float64"
      ]
     },
     "execution_count": 59,
     "metadata": {},
     "output_type": "execute_result"
    }
   ],
   "source": [
    "sample.loc[sample.X==i].mean()"
   ]
  },
  {
   "cell_type": "code",
   "execution_count": 94,
   "metadata": {},
   "outputs": [],
   "source": [
    "from src.sample import genT"
   ]
  },
  {
   "cell_type": "code",
   "execution_count": 100,
   "metadata": {},
   "outputs": [
    {
     "data": {
      "image/png": "[encoded data removed]",
      "text/plain": [
       "<Figure size 640x480 with 1 Axes>"
      ]
     },
     "metadata": {},
     "output_type": "display_data"
    }
   ],
   "source": [
    "sample = pd.read_csv(\"application/data.csv\")\n",
    "# Transform data\n",
    "Y_avgs = {}\n",
    "X = {}\n",
    "for i in range(1415,1586):\n",
    "    Y_avgs = np.append(Y_avgs, sample.loc[sample.X==i].mean().iloc[0])\n",
    "    X = np.append(X, i-1500)\n",
    "\n",
    "Y_avgs = np.delete(Y_avgs,0)\n",
    "X = np.delete(X,0)\n",
    "sampleTrans = pd.DataFrame(\n",
    "    {\n",
    "        \"Y\": Y_avgs,\n",
    "        \"X\": X,\n",
    "        \"Treatment\": genT(X,-0.1,False),\n",
    "    }\n",
    ")\n",
    "sampleTrans.Y = sampleTrans.Y.astype(float)\n",
    "sampleTrans.X = sampleTrans.X.astype(float)\n",
    "sampleTrans.Treatment = sampleTrans.Treatment.astype(float)\n",
    "\n",
    "# Save data\n",
    "plt.scatter(sampleTrans.X, sampleTrans.Y, s=5)\n",
    "sampleTrans.to_csv(\"application/dataTransformed.csv\", index=False)"
   ]
  },
  {
   "cell_type": "code",
   "execution_count": 90,
   "metadata": {},
   "outputs": [
    {
     "ename": "ImportError",
     "evalue": "cannot import name 'plotApplicationFigure' from 'src.exports' (c:\\Users\\cons046\\OneDrive - Erasmus University Rotterdam\\23-24\\Thesis\\5. Code\\src\\exports.py)",
     "output_type": "error",
     "traceback": [
      "\u001b[1;31m---------------------------------------------------------------------------\u001b[0m",
      "\u001b[1;31mImportError\u001b[0m                               Traceback (most recent call last)",
      "Cell \u001b[1;32mIn[90], line 1\u001b[0m\n\u001b[1;32m----> 1\u001b[0m \u001b[38;5;28;01mfrom\u001b[39;00m \u001b[38;5;21;01msrc\u001b[39;00m\u001b[38;5;21;01m.\u001b[39;00m\u001b[38;5;21;01mexports\u001b[39;00m \u001b[38;5;28;01mimport\u001b[39;00m plotApplicationFigure\n",
      "\u001b[1;31mImportError\u001b[0m: cannot import name 'plotApplicationFigure' from 'src.exports' (c:\\Users\\cons046\\OneDrive - Erasmus University Rotterdam\\23-24\\Thesis\\5. Code\\src\\exports.py)"
     ]
    }
   ],
   "source": [
    "from src.exports import plotApplicationFigure"
   ]
  },
  {
   "cell_type": "code",
   "execution_count": 110,
   "metadata": {},
   "outputs": [],
   "source": [
    "year_dummies = [{},{},{},{},{},{},{},{},{},{},{},{},{},{},{},{},{}]\n",
    "\n"
   ]
  },
  {
   "cell_type": "code",
   "execution_count": 122,
   "metadata": {},
   "outputs": [
    {
     "data": {
      "text/html": [
       "<div>\n",
       "<style scoped>\n",
       "    .dataframe tbody tr th:only-of-type {\n",
       "        vertical-align: middle;\n",
       "    }\n",
       "\n",
       "    .dataframe tbody tr th {\n",
       "        vertical-align: top;\n",
       "    }\n",
       "\n",
       "    .dataframe thead th {\n",
       "        text-align: right;\n",
       "    }\n",
       "</style>\n",
       "<table border=\"1\" class=\"dataframe\">\n",
       "  <thead>\n",
       "    <tr style=\"text-align: right;\">\n",
       "      <th></th>\n",
       "      <th>Y</th>\n",
       "      <th>X</th>\n",
       "      <th>Treatment</th>\n",
       "    </tr>\n",
       "  </thead>\n",
       "  <tbody>\n",
       "    <tr>\n",
       "      <th>0</th>\n",
       "      <td>0.026087</td>\n",
       "      <td>-85.0</td>\n",
       "      <td>1.0</td>\n",
       "    </tr>\n",
       "    <tr>\n",
       "      <th>1</th>\n",
       "      <td>0.000000</td>\n",
       "      <td>-84.0</td>\n",
       "      <td>1.0</td>\n",
       "    </tr>\n",
       "    <tr>\n",
       "      <th>2</th>\n",
       "      <td>0.048128</td>\n",
       "      <td>-83.0</td>\n",
       "      <td>1.0</td>\n",
       "    </tr>\n",
       "    <tr>\n",
       "      <th>3</th>\n",
       "      <td>0.035359</td>\n",
       "      <td>-82.0</td>\n",
       "      <td>1.0</td>\n",
       "    </tr>\n",
       "    <tr>\n",
       "      <th>4</th>\n",
       "      <td>0.032258</td>\n",
       "      <td>-81.0</td>\n",
       "      <td>1.0</td>\n",
       "    </tr>\n",
       "    <tr>\n",
       "      <th>...</th>\n",
       "      <td>...</td>\n",
       "      <td>...</td>\n",
       "      <td>...</td>\n",
       "    </tr>\n",
       "    <tr>\n",
       "      <th>166</th>\n",
       "      <td>0.000000</td>\n",
       "      <td>81.0</td>\n",
       "      <td>0.0</td>\n",
       "    </tr>\n",
       "    <tr>\n",
       "      <th>167</th>\n",
       "      <td>0.000000</td>\n",
       "      <td>82.0</td>\n",
       "      <td>0.0</td>\n",
       "    </tr>\n",
       "    <tr>\n",
       "      <th>168</th>\n",
       "      <td>0.000000</td>\n",
       "      <td>83.0</td>\n",
       "      <td>0.0</td>\n",
       "    </tr>\n",
       "    <tr>\n",
       "      <th>169</th>\n",
       "      <td>0.000000</td>\n",
       "      <td>84.0</td>\n",
       "      <td>0.0</td>\n",
       "    </tr>\n",
       "    <tr>\n",
       "      <th>170</th>\n",
       "      <td>0.036496</td>\n",
       "      <td>85.0</td>\n",
       "      <td>0.0</td>\n",
       "    </tr>\n",
       "  </tbody>\n",
       "</table>\n",
       "<p>171 rows × 3 columns</p>\n",
       "</div>"
      ],
      "text/plain": [
       "            Y     X  Treatment\n",
       "0    0.026087 -85.0        1.0\n",
       "1    0.000000 -84.0        1.0\n",
       "2    0.048128 -83.0        1.0\n",
       "3    0.035359 -82.0        1.0\n",
       "4    0.032258 -81.0        1.0\n",
       "..        ...   ...        ...\n",
       "166  0.000000  81.0        0.0\n",
       "167  0.000000  82.0        0.0\n",
       "168  0.000000  83.0        0.0\n",
       "169  0.000000  84.0        0.0\n",
       "170  0.036496  85.0        0.0\n",
       "\n",
       "[171 rows x 3 columns]"
      ]
     },
     "execution_count": 122,
     "metadata": {},
     "output_type": "execute_result"
    }
   ],
   "source": [
    "df = pd.read_csv(\"application/dataTransformed.csv\")\n",
    "df.X = df.X-1500\n",
    "df\n"
   ]
  },
  {
   "cell_type": "code",
   "execution_count": 118,
   "metadata": {},
   "outputs": [
    {
     "data": {
      "text/plain": [
       "[array([{}, 1, 1, 1], dtype=object),\n",
       " array([{}, 1, 1, 1], dtype=object),\n",
       " array([{}, 1, 1, 1], dtype=object),\n",
       " array([{}, 1, 1, 1], dtype=object),\n",
       " array([{}, 1, 1, 1], dtype=object),\n",
       " array([{}, 1, 1, 1], dtype=object),\n",
       " array([{}, 1, 1, 1], dtype=object),\n",
       " array([{}, 1, 1, 1], dtype=object),\n",
       " array([{}, 1, 1, 1], dtype=object),\n",
       " array([{}, 1, 1, 1], dtype=object),\n",
       " array([{}, 1, 1, 1], dtype=object),\n",
       " array([{}, 1, 1, 1], dtype=object),\n",
       " array([{}, 1, 1, 1], dtype=object),\n",
       " array([{}, 1, 1, 1], dtype=object),\n",
       " array([{}, 1, 1, 1], dtype=object),\n",
       " array([{}, 1, 1, 1], dtype=object),\n",
       " array([{}, 1, 1, 1], dtype=object)]"
      ]
     },
     "execution_count": 118,
     "metadata": {},
     "output_type": "execute_result"
    }
   ],
   "source": [
    "year_dummies"
   ]
  }
 ],
 "metadata": {
  "kernelspec": {
   "display_name": "Python 3",
   "language": "python",
   "name": "python3"
  },
  "language_info": {
   "codemirror_mode": {
    "name": "ipython",
    "version": 3
   },
   "file_extension": ".py",
   "mimetype": "text/x-python",
   "name": "python",
   "nbconvert_exporter": "python",
   "pygments_lexer": "ipython3",
   "version": "3.12.2"
  }
 },
 "nbformat": 4,
 "nbformat_minor": 2
}
