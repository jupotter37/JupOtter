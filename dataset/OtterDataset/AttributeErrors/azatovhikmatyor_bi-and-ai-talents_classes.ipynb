{
 "cells": [
  {
   "cell_type": "markdown",
   "metadata": {},
   "source": [
    "# Classes\n",
    "\n",
    "- Class creation\n",
    "- self – what it means\n",
    "- Dunder methods"
   ]
  },
  {
   "cell_type": "markdown",
   "metadata": {},
   "source": [
    "> Write an application to define points in 2D space, calculate their distance and check the point is inside a circle."
   ]
  },
  {
   "cell_type": "markdown",
   "metadata": {},
   "source": [
    "<div style=\"display:flex;justify-content:center;\">\n",
    "    <img src=\"img/circle_and_points.png\" style=\"width:300px;object-fit:cover;\" />\n",
    "</div>"
   ]
  },
  {
   "cell_type": "code",
   "execution_count": 44,
   "metadata": {},
   "outputs": [
    {
     "name": "stdout",
     "output_type": "stream",
     "text": [
      "Point1: (3, 4)\n",
      "Point2: (16, 8)\n",
      "Distance between Point1 and Point2: 13.601470508735444\n",
      "Is Point1 inside the circle? True\n",
      "Is Point2 inside the circle? False\n"
     ]
    }
   ],
   "source": [
    "# Example 1: Procedural implementation of points\n",
    "import math\n",
    "\n",
    "# Points\n",
    "point1 = (3, 4)\n",
    "point2 = (16, 8)\n",
    "\n",
    "# Circle\n",
    "circle_center = (5, 5)\n",
    "circle_radius = 5\n",
    "\n",
    "\n",
    "def distance(p1, p2):\n",
    "    \"\"\"Calculate the Euclidean distance between two points.\"\"\"\n",
    "    return math.sqrt((p1[0] - p2[0])**2 + (p1[1] - p2[1])**2)\n",
    "\n",
    "\n",
    "def is_inside_circle(center, radius, point):\n",
    "    \"\"\"Check if a point lies within a circle.\"\"\"\n",
    "    return distance(center, point) <= radius\n",
    "\n",
    "\n",
    "print(\"Point1:\", point1)\n",
    "print(\"Point2:\", point2)\n",
    "print(\"Distance between Point1 and Point2:\", distance(point1, point2))\n",
    "print(\"Is Point1 inside the circle?\", is_inside_circle(circle_center, circle_radius, point1))\n",
    "print(\"Is Point2 inside the circle?\", is_inside_circle(circle_center, circle_radius, point2))\n"
   ]
  },
  {
   "cell_type": "markdown",
   "metadata": {},
   "source": [
    "> Write an application for users to create bank accounts, deposit and withdraw money and see balance of their accounts."
   ]
  },
  {
   "cell_type": "code",
   "execution_count": 30,
   "metadata": {},
   "outputs": [
    {
     "name": "stdout",
     "output_type": "stream",
     "text": [
      "Initial balance for Alice: 100\n",
      "Balance after deposit for Alice: 150\n",
      "Balance after withdrawal for Alice: 30\n"
     ]
    }
   ],
   "source": [
    "# Example2: Procedural implementation of a bank account\n",
    "accounts = {}\n",
    "\n",
    "def create_account(account_number, owner, balance=0):\n",
    "    \"\"\"Creates a new account with the given details.\"\"\"\n",
    "    accounts[account_number] = {\"owner\": owner, \"balance\": balance}\n",
    "\n",
    "def deposit(account_number, amount):\n",
    "    \"\"\"Deposits money into the account.\"\"\"\n",
    "    accounts[account_number][\"balance\"] += amount\n",
    "\n",
    "def withdraw(account_number, amount):\n",
    "    \"\"\"Withdraws money from the account if sufficient balance is available.\"\"\"\n",
    "    if accounts[account_number][\"balance\"] >= amount:\n",
    "        accounts[account_number][\"balance\"] -= amount\n",
    "        return True\n",
    "    return False\n",
    "\n",
    "def get_balance(account_number):\n",
    "    \"\"\"Returns the current balance of the account.\"\"\"\n",
    "    return accounts[account_number][\"balance\"]\n",
    "\n",
    "# Example usage\n",
    "create_account(\"12345\", \"Alice\", 100)\n",
    "create_account(\"67890\", \"Bob\", 50)\n",
    "\n",
    "print(\"Initial balance for Alice:\", get_balance(\"12345\"))\n",
    "deposit(\"12345\", 50)\n",
    "print(\"Balance after deposit for Alice:\", get_balance(\"12345\"))\n",
    "withdraw(\"12345\", 120)\n",
    "print(\"Balance after withdrawal for Alice:\", get_balance(\"12345\"))"
   ]
  },
  {
   "cell_type": "code",
   "execution_count": 38,
   "metadata": {},
   "outputs": [
    {
     "data": {
      "text/plain": [
       "'HELLO'"
      ]
     },
     "execution_count": 38,
     "metadata": {},
     "output_type": "execute_result"
    }
   ],
   "source": [
    "a = 'hello'\n",
    "a.upper() # behaviour"
   ]
  },
  {
   "cell_type": "markdown",
   "metadata": {},
   "source": [
    "<div style=\"display:flex;justify-content:center;\">\n",
    "    <img src=\"img/linux_quote.png\" style=\"width:800px;object-fit:cover;\" />\n",
    "</div>"
   ]
  },
  {
   "cell_type": "markdown",
   "metadata": {},
   "source": [
    "### Defining classes"
   ]
  },
  {
   "cell_type": "markdown",
   "metadata": {},
   "source": [
    "Everything in Python is an object. What that means is that everything you create in Python has functions or attributes or both attached to them that you can use. This is because everything in Python comes from a class."
   ]
  },
  {
   "cell_type": "code",
   "execution_count": 65,
   "metadata": {},
   "outputs": [
    {
     "name": "stdout",
     "output_type": "stream",
     "text": [
      "2\n"
     ]
    }
   ],
   "source": [
    "class Point: # blueprint\n",
    "    \n",
    "    def __init__(self, x, y):\n",
    "        self.x = x\n",
    "        self.y = y\n",
    "\n",
    "a = Point(x=2, y=4)\n",
    "print(a.x)"
   ]
  },
  {
   "cell_type": "code",
   "execution_count": 82,
   "metadata": {},
   "outputs": [
    {
     "data": {
      "text/plain": [
       "10.0"
      ]
     },
     "execution_count": 82,
     "metadata": {},
     "output_type": "execute_result"
    }
   ],
   "source": [
    "# example 1\n",
    "class Point: # blueprint    \n",
    "    def __init__(self, x, y):\n",
    "        self.x = x # state\n",
    "        self.y = y # state\n",
    "\n",
    "    def distance(self, p2: Point): # behaviour\n",
    "        \"\"\"Calculate the Euclidean distance between two points.\"\"\"\n",
    "        return math.sqrt((self.x - p2.x)**2 + (self.y - p2.y)**2)\n",
    "\n",
    "\n",
    "a = Point(15, 6)\n",
    "# a.x = 5 # attribute - instance variable\n",
    "# a.y = 6\n",
    "\n",
    "b = Point(5, 6)\n",
    "# b.x = 2 # attribute - instance variable\n",
    "# b.y = 7\n",
    "\n",
    "# print(\"ID a =\", id(a))\n",
    "\n",
    "a.distance(b)"
   ]
  },
  {
   "cell_type": "code",
   "execution_count": 72,
   "metadata": {},
   "outputs": [
    {
     "name": "stdout",
     "output_type": "stream",
     "text": [
      "2975067145152\n",
      "2975089850304\n"
     ]
    }
   ],
   "source": [
    "x = [1, 2]\n",
    "y = [1, 2]\n",
    "print(id(x))\n",
    "print(id(y))"
   ]
  },
  {
   "cell_type": "code",
   "execution_count": 69,
   "metadata": {},
   "outputs": [
    {
     "data": {
      "text/plain": [
       "__main__.Point"
      ]
     },
     "execution_count": 69,
     "metadata": {},
     "output_type": "execute_result"
    }
   ],
   "source": [
    "type(a.y)\n"
   ]
  },
  {
   "cell_type": "code",
   "execution_count": 67,
   "metadata": {},
   "outputs": [
    {
     "name": "stdout",
     "output_type": "stream",
     "text": [
      "5\n"
     ]
    }
   ],
   "source": [
    "print(a.x)"
   ]
  },
  {
   "cell_type": "code",
   "execution_count": 68,
   "metadata": {},
   "outputs": [
    {
     "name": "stdout",
     "output_type": "stream",
     "text": [
      "6\n"
     ]
    }
   ],
   "source": [
    "print(a.y)"
   ]
  },
  {
   "cell_type": "code",
   "execution_count": 54,
   "metadata": {},
   "outputs": [],
   "source": [
    "\n",
    "\n",
    "\n",
    "# def is_inside_circle(center, radius, point):\n",
    "#     \"\"\"Check if a point lies within a circle.\"\"\"\n",
    "#     return distance(center, point) <= radius"
   ]
  },
  {
   "cell_type": "code",
   "execution_count": 55,
   "metadata": {},
   "outputs": [
    {
     "data": {
      "text/plain": [
       "3.1622776601683795"
      ]
     },
     "execution_count": 55,
     "metadata": {},
     "output_type": "execute_result"
    }
   ],
   "source": [
    "distance(a, b)"
   ]
  },
  {
   "cell_type": "markdown",
   "metadata": {},
   "source": [
    "attributes:\n",
    "- distance\n",
    "- is_inside_circle\n",
    "- move\n",
    "- reset"
   ]
  },
  {
   "cell_type": "code",
   "execution_count": null,
   "metadata": {},
   "outputs": [],
   "source": [
    "class Point:\n",
    "    x: float\n",
    "    y: float\n",
    "\n",
    "    def distance(self, other: Point):\n",
    "        pass\n",
    "\n",
    "    # def check_is_in_circle(self, c: Circle)\n",
    "\n",
    "class Circle:\n",
    "    center: Point\n",
    "    r: float\n",
    "\n",
    "    def check_is_in_circle(self, p: Point):\n",
    "        pass"
   ]
  },
  {
   "cell_type": "code",
   "execution_count": null,
   "metadata": {},
   "outputs": [],
   "source": [
    "# Example 1: Object Oriented way of points\n",
    "\n",
    "import math\n",
    "\n",
    "class Point:\n",
    "    def __init__(self, x: float, y: float):\n",
    "        self.x = x\n",
    "        self.y = y\n",
    "\n",
    "    def distance_to(self, other_point: Point):\n",
    "        \"\"\"Calculate the Euclidean distance to another point.\"\"\"\n",
    "        return math.sqrt((self.x - other_point.x)**2 + (self.y - other_point.y)**2)\n",
    "\n",
    "class Circle:\n",
    "    def __init__(self, center: Point, radius):\n",
    "        self.center = center\n",
    "        self.radius = radius\n",
    "\n",
    "    def contains(self, point):\n",
    "        \"\"\"Check if the point lies inside the circle.\"\"\"\n",
    "        return self.center.distance_to(point) <= self.radius\n",
    "\n",
    "\n",
    "point1 = Point(3, 4)\n",
    "point2 = Point(6, 8)\n",
    "circle = Circle(Point(5, 5), 5)\n",
    "\n",
    "print(\"Point1:\", (point1.x, point1.y))\n",
    "print(\"Point1:\", (point2.x, point2.y))\n",
    "print(\"Distance between Point1 and Point2:\", point1.distance_to(point2))\n",
    "print(\"Is Point1 inside the circle?\", circle.contains(point1))\n",
    "print(\"Is Point2 inside the circle?\", circle.contains(point2))\n"
   ]
  },
  {
   "cell_type": "code",
   "execution_count": null,
   "metadata": {},
   "outputs": [],
   "source": [
    "# Example 2: OOP way of bank accounts\n",
    "\n",
    "class BankAccount:\n",
    "    def __init__(self, account_number, owner, balance=0):\n",
    "        self.account_number = account_number\n",
    "        self.owner = owner\n",
    "        self.balance = balance\n",
    "\n",
    "    def deposit(self, amount):\n",
    "        \"\"\"Deposits money into the account.\"\"\"\n",
    "        self.balance += amount\n",
    "\n",
    "    def withdraw(self, amount):\n",
    "        \"\"\"Withdraws money from the account if sufficient balance is available.\"\"\"\n",
    "        if self.balance >= amount:\n",
    "            self.balance -= amount\n",
    "            return True\n",
    "        return False\n",
    "\n",
    "    def get_balance(self):\n",
    "        \"\"\"Returns the current balance of the account.\"\"\"\n",
    "        return self.balance\n",
    "\n",
    "# Example usage\n",
    "alice_account = BankAccount(\"12345\", \"Alice\", 100)\n",
    "bob_account = BankAccount(\"67890\", \"Bob\", 50)\n",
    "\n",
    "print(\"Initial balance for Alice:\", alice_account.get_balance())\n",
    "alice_account.deposit(50)\n",
    "print(\"Balance after deposit for Alice:\", alice_account.get_balance())\n",
    "alice_account.withdraw(120)\n",
    "print(\"Balance after withdrawal for Alice:\", alice_account.get_balance())"
   ]
  },
  {
   "cell_type": "code",
   "execution_count": 123,
   "metadata": {},
   "outputs": [
    {
     "name": "stdout",
     "output_type": "stream",
     "text": [
      "+ executed\n",
      "Vector(x=4, y=8)\n",
      "executed\n",
      "Inequal\n"
     ]
    }
   ],
   "source": [
    "class Vector2D:\n",
    "\n",
    "    def __init__(self, x, y):\n",
    "        self.x = x\n",
    "        self.y = y\n",
    "\n",
    "    def __eq__(self, other):\n",
    "        print('executed')\n",
    "        return self.x == other.x and self.y == other.y\n",
    "    \n",
    "    def __add__(self, other):\n",
    "        print(\"+ executed\")\n",
    "        new_x = self.x + other.x\n",
    "        new_y = self.y + other.y\n",
    "        return Vector2D(new_x, new_y)\n",
    "    \n",
    "\n",
    "    def __sub__(self, other):\n",
    "        return Vector2D(self.x - other.x, self.y - other.y)\n",
    "\n",
    "    def __str__(self):\n",
    "        return f\"Vector(x={self.x}, y={self.y})\"\n",
    "\n",
    "\n",
    "v1 = Vector2D(3, 5)\n",
    "v2 = Vector2D(1, 3)\n",
    "v3 = v1 + v2\n",
    "v4 = v1 - v2\n",
    "\n",
    "print(v3) # Vector(x=4, y=8)\n",
    "\n",
    "if v1 == v2:\n",
    "    print('Equal')\n",
    "else:\n",
    "    print(\"Inequal\")"
   ]
  },
  {
   "cell_type": "code",
   "execution_count": 116,
   "metadata": {},
   "outputs": [
    {
     "ename": "AttributeError",
     "evalue": "'Vector2D' object has no attribute 'z'",
     "output_type": "error",
     "traceback": [
      "\u001b[1;31m---------------------------------------------------------------------------\u001b[0m",
      "\u001b[1;31mAttributeError\u001b[0m                            Traceback (most recent call last)",
      "Cell \u001b[1;32mIn[116], line 4\u001b[0m\n\u001b[0;32m      1\u001b[0m \u001b[38;5;28;01mdef\u001b[39;00m \u001b[38;5;21mtest\u001b[39m(v: Vector2D):\n\u001b[0;32m      2\u001b[0m     \u001b[38;5;28mprint\u001b[39m(v\u001b[38;5;241m.\u001b[39mz)\n\u001b[1;32m----> 4\u001b[0m \u001b[43mtest\u001b[49m\u001b[43m(\u001b[49m\u001b[43mv2\u001b[49m\u001b[43m)\u001b[49m\n",
      "Cell \u001b[1;32mIn[116], line 2\u001b[0m, in \u001b[0;36mtest\u001b[1;34m(v)\u001b[0m\n\u001b[0;32m      1\u001b[0m \u001b[38;5;28;01mdef\u001b[39;00m \u001b[38;5;21mtest\u001b[39m(v: Vector2D):\n\u001b[1;32m----> 2\u001b[0m     \u001b[38;5;28mprint\u001b[39m(\u001b[43mv\u001b[49m\u001b[38;5;241;43m.\u001b[39;49m\u001b[43mz\u001b[49m)\n",
      "\u001b[1;31mAttributeError\u001b[0m: 'Vector2D' object has no attribute 'z'"
     ]
    }
   ],
   "source": [
    "def test(v: Vector2D):\n",
    "    print(v.z)\n",
    "\n",
    "test(v2)"
   ]
  },
  {
   "cell_type": "code",
   "execution_count": 97,
   "metadata": {},
   "outputs": [
    {
     "name": "stdout",
     "output_type": "stream",
     "text": [
      "Vector(x=3, y=5)\n"
     ]
    }
   ],
   "source": [
    "print(v1)"
   ]
  },
  {
   "cell_type": "code",
   "execution_count": 98,
   "metadata": {},
   "outputs": [
    {
     "name": "stdout",
     "output_type": "stream",
     "text": [
      "Vector(x=1, y=3)\n"
     ]
    }
   ],
   "source": [
    "print(v2)"
   ]
  },
  {
   "cell_type": "code",
   "execution_count": 134,
   "metadata": {},
   "outputs": [
    {
     "data": {
      "text/plain": [
       "<__main__.People at 0x2b4afe6e4a0>"
      ]
     },
     "execution_count": 134,
     "metadata": {},
     "output_type": "execute_result"
    }
   ],
   "source": [
    "class People: # blueprint\n",
    "    a = 'this is people class' # class variable\n",
    "\n",
    "    def __init__(self):\n",
    "        # self.a = 5 # instance/obyekt variable\n",
    "        self.people = [1, 2, 3, 4, 5] # instance variable\n",
    "        self.people2 = [1, 2, 3, 4, 5, 5, 6, 7, 7]\n",
    "\n",
    "    def __len__(self):\n",
    "        return len(self.people2)\n",
    "    \n",
    "    def __call__(self):\n",
    "        print(\"Object called as a function\")\n",
    "\n",
    "p = People()\n",
    "p"
   ]
  },
  {
   "cell_type": "code",
   "execution_count": 135,
   "metadata": {},
   "outputs": [
    {
     "data": {
      "text/plain": [
       "'this is people class'"
      ]
     },
     "execution_count": 135,
     "metadata": {},
     "output_type": "execute_result"
    }
   ],
   "source": [
    "People.a"
   ]
  },
  {
   "cell_type": "code",
   "execution_count": 136,
   "metadata": {},
   "outputs": [
    {
     "data": {
      "text/plain": [
       "'this is people class'"
      ]
     },
     "execution_count": 136,
     "metadata": {},
     "output_type": "execute_result"
    }
   ],
   "source": [
    "p.a"
   ]
  },
  {
   "cell_type": "markdown",
   "metadata": {},
   "source": [
    "### Dunder methods\n",
    "```\n",
    "__str__\n",
    "__repr__\n",
    "__eq__\n",
    "__ne__\n",
    "__lt__\n",
    "__gt__\n",
    "__le__\n",
    "__ge__\n",
    "__add__\n",
    "__sub__\n",
    "__mul__\n",
    "__floordiv__\n",
    "__truediv__\n",
    "__mod__\n",
    "__pow__\n",
    "__abs__\n",
    "__len__\n",
    "__getitem__\n",
    "__contains__\n",
    "__iter__\n",
    "__next__\n",
    "__call__\n",
    "__hash__\n",
    "```"
   ]
  },
  {
   "cell_type": "markdown",
   "metadata": {},
   "source": [
    "<div style=\"display:flex;justify-content:center;\">\n",
    "    <img src=\"img/bad code.png\" style=\"width:600px;object-fit:cover;\" />\n",
    "</div>"
   ]
  },
  {
   "cell_type": "code",
   "execution_count": 24,
   "metadata": {},
   "outputs": [
    {
     "name": "stdout",
     "output_type": "stream",
     "text": [
      "Books in library:\n",
      "1984 by George Orwell\n",
      "To Kill a Mockingbird by Harper Lee\n",
      "After removal:\n",
      "To Kill a Mockingbird by Harper Lee\n"
     ]
    }
   ],
   "source": [
    "# Bad Code Example\n",
    "books = []\n",
    "# books2 = []\n",
    "\n",
    "def add_book(title, author):\n",
    "    \"\"\"Adds a book to the library.\"\"\"\n",
    "    books.append({\"title\": title, \"author\": author})\n",
    "\n",
    "def remove_book(title):\n",
    "    \"\"\"Removes a book from the library by title.\"\"\"\n",
    "    global books\n",
    "    books = [book for book in books if book[\"title\"] != title]\n",
    "\n",
    "def list_books():\n",
    "    \"\"\"Lists all books in the library.\"\"\"\n",
    "    for book in books:\n",
    "        print(f\"{book['title']} by {book['author']}\")\n",
    "\n",
    "# Usage\n",
    "add_book(\"1984\", \"George Orwell\")\n",
    "add_book(\"To Kill a Mockingbird\", \"Harper Lee\")\n",
    "print(\"Books in library:\")\n",
    "list_books()\n",
    "remove_book(\"1984\")\n",
    "print(\"After removal:\")\n",
    "list_books()\n"
   ]
  },
  {
   "cell_type": "code",
   "execution_count": null,
   "metadata": {},
   "outputs": [],
   "source": [
    "# Good Code Example\n",
    "class Book:\n",
    "    \"\"\"Represents a book with a title and author.\"\"\"\n",
    "    def __init__(self, title, author):\n",
    "        self.title = title\n",
    "        self.author = author\n",
    "\n",
    "    def __str__(self):\n",
    "        return f\"{self.title} by {self.author}\"\n",
    "\n",
    "class Library:\n",
    "    \"\"\"Manages a collection of books.\"\"\"\n",
    "    def __init__(self):\n",
    "        self.books = []\n",
    "\n",
    "    def add_book(self, book):\n",
    "        \"\"\"Adds a book to the library.\"\"\"\n",
    "        self.books.append(book)\n",
    "\n",
    "    def remove_book(self, title):\n",
    "        \"\"\"Removes a book from the library by title.\"\"\"\n",
    "        self.books = [book for book in self.books if book.title != title]\n",
    "\n",
    "    def list_books(self):\n",
    "        \"\"\"Lists all books in the library.\"\"\"\n",
    "        if not self.books:\n",
    "            print(\"No books in the library.\")\n",
    "        else:\n",
    "            for book in self.books:\n",
    "                print(book)\n",
    "\n",
    "# Usage\n",
    "library = Library()\n",
    "library.add_book(Book(\"1984\", \"George Orwell\"))\n",
    "library.add_book(Book(\"To Kill a Mockingbird\", \"Harper Lee\"))\n",
    "print(\"Books in library:\")\n",
    "library.list_books()\n",
    "library.remove_book(\"1984\")\n",
    "print(\"After removal:\")\n",
    "library.list_books()\n",
    "\n",
    "# is\n",
    "# has"
   ]
  },
  {
   "cell_type": "code",
   "execution_count": null,
   "metadata": {},
   "outputs": [],
   "source": []
  }
 ],
 "metadata": {
  "kernelspec": {
   "display_name": "Python 3",
   "language": "python",
   "name": "python3"
  },
  "language_info": {
   "codemirror_mode": {
    "name": "ipython",
    "version": 3
   },
   "file_extension": ".py",
   "mimetype": "text/x-python",
   "name": "python",
   "nbconvert_exporter": "python",
   "pygments_lexer": "ipython3",
   "version": "3.10.11"
  }
 },
 "nbformat": 4,
 "nbformat_minor": 2
}
