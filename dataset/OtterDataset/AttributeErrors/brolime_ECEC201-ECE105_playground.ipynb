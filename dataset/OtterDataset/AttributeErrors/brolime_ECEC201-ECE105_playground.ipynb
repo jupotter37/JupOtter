{
 "cells": [
  {
   "cell_type": "code",
   "execution_count": 4,
   "metadata": {},
   "outputs": [
    {
     "ename": "AttributeError",
     "evalue": "'AxesSubplot' object has no attribute 'tight_layout'",
     "output_type": "error",
     "traceback": [
      "\u001b[1;31m---------------------------------------------------------------------------\u001b[0m",
      "\u001b[1;31mAttributeError\u001b[0m                            Traceback (most recent call last)",
      "\u001b[1;32mc:\\Users\\dgoul\\Desktop\\ECE105\\playground\\playground.ipynb Cell 1\u001b[0m in \u001b[0;36m<module>\u001b[1;34m\u001b[0m\n\u001b[0;32m      <a href='vscode-notebook-cell:/c%3A/Users/dgoul/Desktop/ECE105/playground/playground.ipynb#W2sZmlsZQ%3D%3D?line=8'>9</a>\u001b[0m ax\u001b[39m.\u001b[39mplot(x, np\u001b[39m.\u001b[39mlog(\u001b[39m1\u001b[39m\u001b[39m+\u001b[39mx))\n\u001b[0;32m     <a href='vscode-notebook-cell:/c%3A/Users/dgoul/Desktop/ECE105/playground/playground.ipynb#W2sZmlsZQ%3D%3D?line=9'>10</a>\u001b[0m ax\u001b[39m.\u001b[39mplot(x, x\u001b[39m/\u001b[39m(x\u001b[39m+\u001b[39m\u001b[39m1\u001b[39m))\n\u001b[1;32m---> <a href='vscode-notebook-cell:/c%3A/Users/dgoul/Desktop/ECE105/playground/playground.ipynb#W2sZmlsZQ%3D%3D?line=10'>11</a>\u001b[0m ax\u001b[39m.\u001b[39;49mtight_layout()\n\u001b[0;32m     <a href='vscode-notebook-cell:/c%3A/Users/dgoul/Desktop/ECE105/playground/playground.ipynb#W2sZmlsZQ%3D%3D?line=11'>12</a>\u001b[0m fig\u001b[39m.\u001b[39msavefig(\u001b[39m\"\u001b[39m\u001b[39mfigure.png\u001b[39m\u001b[39m\"\u001b[39m)\n\u001b[0;32m     <a href='vscode-notebook-cell:/c%3A/Users/dgoul/Desktop/ECE105/playground/playground.ipynb#W2sZmlsZQ%3D%3D?line=12'>13</a>\u001b[0m plt\u001b[39m.\u001b[39mshow()\n",
      "\u001b[1;31mAttributeError\u001b[0m: 'AxesSubplot' object has no attribute 'tight_layout'"
     ]
    },
    {
     "data": {
      "image/png": "[encoded data removed]",
      "text/plain": [
       "<Figure size 432x288 with 1 Axes>"
      ]
     },
     "metadata": {
      "needs_background": "light"
     },
     "output_type": "display_data"
    }
   ],
   "source": [
    "import numpy as np\n",
    "import matplotlib.pyplot as plt\n",
    "\n",
    "fig = plt.figure()\n",
    "ax = fig.add_subplot(111)\n",
    "x = np.linspace(0,2,100)\n",
    "#or x = np.arrange(0, 2.001, 0.02)\n",
    "ax.plot(x, x)\n",
    "ax.plot(x, np.log(1+x))\n",
    "ax.plot(x, x/(x+1))\n",
    "fig.tight_layout()\n",
    "fig.savefig(\"figure.png\")\n",
    "plt.show()"
   ]
  },
  {
   "cell_type": "code",
   "execution_count": 1,
   "metadata": {},
   "outputs": [
    {
     "ename": "NameError",
     "evalue": "name 'x' is not defined",
     "output_type": "error",
     "traceback": [
      "\u001b[1;31m---------------------------------------------------------------------------\u001b[0m",
      "\u001b[1;31mNameError\u001b[0m                                 Traceback (most recent call last)",
      "\u001b[1;32mc:\\Users\\dgoul\\Desktop\\masterworks\\ECE105\\playground\\playground.ipynb Cell 3\u001b[0m in \u001b[0;36m<module>\u001b[1;34m\u001b[0m\n\u001b[0;32m      <a href='vscode-notebook-cell:/c%3A/Users/dgoul/Desktop/masterworks/ECE105/playground/playground.ipynb#W1sZmlsZQ%3D%3D?line=1'>2</a>\u001b[0m \u001b[39mimport\u001b[39;00m \u001b[39mmatplotlib\u001b[39;00m\u001b[39m.\u001b[39;00m\u001b[39mpyplot\u001b[39;00m \u001b[39mas\u001b[39;00m \u001b[39mplt\u001b[39;00m\n\u001b[0;32m      <a href='vscode-notebook-cell:/c%3A/Users/dgoul/Desktop/masterworks/ECE105/playground/playground.ipynb#W1sZmlsZQ%3D%3D?line=2'>3</a>\u001b[0m \u001b[39mimport\u001b[39;00m \u001b[39mcsv\u001b[39;00m\n\u001b[1;32m----> <a href='vscode-notebook-cell:/c%3A/Users/dgoul/Desktop/masterworks/ECE105/playground/playground.ipynb#W1sZmlsZQ%3D%3D?line=3'>4</a>\u001b[0m gram \u001b[39m=\u001b[39m plt\u001b[39m.\u001b[39mhist(x, bins\u001b[39m=\u001b[39m\u001b[39m50\u001b[39m,stacked\u001b[39m=\u001b[39m\u001b[39mTrue\u001b[39;00m,fill\u001b[39m=\u001b[39m\u001b[39mFalse\u001b[39;00m,histtype\u001b[39m=\u001b[39m\u001b[39m'\u001b[39m\u001b[39mstep\u001b[39m\u001b[39m'\u001b[39m)\n",
      "\u001b[1;31mNameError\u001b[0m: name 'x' is not defined"
     ]
    }
   ],
   "source": [
    "import numpy as np\n",
    "import matplotlib.pyplot as plt\n",
    "import csv\n",
    "gram = plt.hist(x, bins=50,stacked=True,fill=False,histtype='step')"
   ]
  },
  {
   "cell_type": "code",
   "execution_count": null,
   "metadata": {},
   "outputs": [
    {
     "name": "stdout",
     "output_type": "stream",
     "text": [
      "[2.71828183 2.71828183]\n"
     ]
    }
   ],
   "source": [
    "import numpy as np\n",
    "import math\n",
    "\n",
    "x = [1, 1]\n",
    "print(np.exp(x))"
   ]
  },
  {
   "cell_type": "code",
   "execution_count": 5,
   "metadata": {},
   "outputs": [
    {
     "name": "stdout",
     "output_type": "stream",
     "text": [
      "Instance:\n",
      "|   9 4       1 3   |\n",
      "|                   |\n",
      "|         7 6     2 |\n",
      "|   8     1         |\n",
      "|   3 2             |\n",
      "|       2       6   |\n",
      "|         5   4     |\n",
      "|           8     7 |\n",
      "|     6 3   4     8 |\n",
      "hi there[[0 9 4 0 0 0 1 3 0]\n",
      " [0 0 0 0 0 0 0 0 0]\n",
      " [0 0 0 0 7 6 0 0 2]\n",
      " [0 8 0 0 1 0 0 0 0]\n",
      " [0 3 2 0 0 0 0 0 0]\n",
      " [0 0 0 2 0 0 0 6 0]\n",
      " [0 0 0 0 5 0 4 0 0]\n",
      " [0 0 0 0 0 8 0 0 7]\n",
      " [0 0 6 3 0 4 0 0 8]]bye\n",
      "len i9\n",
      "here with00\n",
      "post search True and {'row': 0, 'col': 0}\n",
      "[[2 9 4 0 0 0 1 3 0]\n",
      " [0 0 0 0 0 0 0 0 0]\n",
      " [0 0 0 0 7 6 0 0 2]\n",
      " [0 8 0 0 1 0 0 0 0]\n",
      " [0 3 2 0 0 0 0 0 0]\n",
      " [0 0 0 2 0 0 0 6 0]\n",
      " [0 0 0 0 5 0 4 0 0]\n",
      " [0 0 0 0 0 8 0 0 7]\n",
      " [0 0 6 3 0 4 0 0 8]]\n",
      "validFalse\n",
      "[[5 9 4 0 0 0 1 3 0]\n",
      " [0 0 0 0 0 0 0 0 0]\n",
      " [0 0 0 0 7 6 0 0 2]\n",
      " [0 8 0 0 1 0 0 0 0]\n",
      " [0 3 2 0 0 0 0 0 0]\n",
      " [0 0 0 2 0 0 0 6 0]\n",
      " [0 0 0 0 5 0 4 0 0]\n",
      " [0 0 0 0 0 8 0 0 7]\n",
      " [0 0 6 3 0 4 0 0 8]]\n",
      "validFalse\n",
      "[[6 9 4 0 0 0 1 3 0]\n",
      " [0 0 0 0 0 0 0 0 0]\n",
      " [0 0 0 0 7 6 0 0 2]\n",
      " [0 8 0 0 1 0 0 0 0]\n",
      " [0 3 2 0 0 0 0 0 0]\n",
      " [0 0 0 2 0 0 0 6 0]\n",
      " [0 0 0 0 5 0 4 0 0]\n",
      " [0 0 0 0 0 8 0 0 7]\n",
      " [0 0 6 3 0 4 0 0 8]]\n",
      "validFalse\n",
      "[[7 9 4 0 0 0 1 3 0]\n",
      " [0 0 0 0 0 0 0 0 0]\n",
      " [0 0 0 0 7 6 0 0 2]\n",
      " [0 8 0 0 1 0 0 0 0]\n",
      " [0 3 2 0 0 0 0 0 0]\n",
      " [0 0 0 2 0 0 0 6 0]\n",
      " [0 0 0 0 5 0 4 0 0]\n",
      " [0 0 0 0 0 8 0 0 7]\n",
      " [0 0 6 3 0 4 0 0 8]]\n",
      "validFalse\n",
      "[[8 9 4 0 0 0 1 3 0]\n",
      " [0 0 0 0 0 0 0 0 0]\n",
      " [0 0 0 0 7 6 0 0 2]\n",
      " [0 8 0 0 1 0 0 0 0]\n",
      " [0 3 2 0 0 0 0 0 0]\n",
      " [0 0 0 2 0 0 0 6 0]\n",
      " [0 0 0 0 5 0 4 0 0]\n",
      " [0 0 0 0 0 8 0 0 7]\n",
      " [0 0 6 3 0 4 0 0 8]]\n",
      "validFalse\n",
      "Solution:\n",
      "|   9 4       1 3   |\n",
      "|                   |\n",
      "|         7 6     2 |\n",
      "|   8     1         |\n",
      "|   3 2             |\n",
      "|       2       6   |\n",
      "|         5   4     |\n",
      "|           8     7 |\n",
      "|     6 3   4     8 |\n",
      "Verify: False\n"
     ]
    }
   ],
   "source": []
  }
 ],
 "metadata": {
  "kernelspec": {
   "display_name": "Python 3",
   "language": "python",
   "name": "python3"
  },
  "language_info": {
   "codemirror_mode": {
    "name": "ipython",
    "version": 3
   },
   "file_extension": ".py",
   "mimetype": "text/x-python",
   "name": "python",
   "nbconvert_exporter": "python",
   "pygments_lexer": "ipython3",
   "version": "3.10.5"
  },
  "orig_nbformat": 4
 },
 "nbformat": 4,
 "nbformat_minor": 2
}
