{
 "cells": [
  {
   "cell_type": "code",
   "execution_count": null,
   "metadata": {},
   "outputs": [],
   "source": [
    "class abc:"
   ]
  },
  {
   "cell_type": "code",
   "execution_count": null,
   "metadata": {},
   "outputs": [],
   "source": [
    "class abc:\n",
    "    string = \"I Love You Varun K\"\n",
    "    def str_upper(self):   # to let class know that the method str_upper belongs to class abc. Self is an object that is used to reference its class attributes and members.\n",
    "        print(abc.string.upper())\n",
    "        # print(lambda string: string.upper()) # It will provides the memory referencing of the method.\n",
    "        # t = lambda string: string.upper()\n",
    "\n",
    "    pass"
   ]
  },
  {
   "cell_type": "code",
   "execution_count": null,
   "metadata": {},
   "outputs": [],
   "source": [
    "d = abc()\n",
    "type(d)"
   ]
  },
  {
   "cell_type": "code",
   "execution_count": null,
   "metadata": {},
   "outputs": [],
   "source": [
    "d.string"
   ]
  },
  {
   "cell_type": "code",
   "execution_count": null,
   "metadata": {},
   "outputs": [],
   "source": [
    "d.str_upper()"
   ]
  },
  {
   "cell_type": "code",
   "execution_count": null,
   "metadata": {},
   "outputs": [],
   "source": [
    "class student:\n",
    "    \n",
    "    def __init__(self):\n",
    "        \n",
    "        self.roll = int(input(\"Enter the student roll number\"))\n",
    "        self.name = input(\"Enter the name of the student\")\n",
    "        self.email = input(\"Enter the email id of the student\")\n",
    "        self.mob = input(\"Enter the mobile number of the student\")\n",
    "    \n",
    "    def display(self):\n",
    "        \n",
    "        print(\"Student Roll Number: \", self.roll)\n",
    "        print(\"Student Name: \", self.name)\n",
    "        print(\"Student Email: \", self.email)\n",
    "        print(\"Student Mobile Number: \", self.mob)\n"
   ]
  },
  {
   "cell_type": "code",
   "execution_count": null,
   "metadata": {},
   "outputs": [],
   "source": [
    "s = student()"
   ]
  },
  {
   "cell_type": "code",
   "execution_count": null,
   "metadata": {},
   "outputs": [],
   "source": [
    "s.display()"
   ]
  },
  {
   "cell_type": "code",
   "execution_count": null,
   "metadata": {},
   "outputs": [],
   "source": [
    "class student:\n",
    "    \n",
    "    def __init__(self):\n",
    "        \n",
    "        self.roll = int(input(\"Enter the student roll number\"))\n",
    "        self.name = input(\"Enter the name of the student\")\n",
    "        self.email = input(\"Enter the email id of the student\")\n",
    "        self.mob = input(\"Enter the mobile number of the student\")\n",
    "    \n",
    "    def display(self):\n",
    "        \n",
    "        print(\"Student Roll Number: \", self.roll)\n",
    "        print(\"Student Name: \", self.name)\n",
    "        print(\"Student Email: \", self.email)\n",
    "        print(\"Student Mobile Number: \", self.mob)\n"
   ]
  },
  {
   "cell_type": "code",
   "execution_count": null,
   "metadata": {},
   "outputs": [],
   "source": [
    "d = {'name': 'deepika', 'email': 'goeld', 'mob': '9871'}"
   ]
  },
  {
   "cell_type": "code",
   "execution_count": null,
   "metadata": {},
   "outputs": [],
   "source": [
    "d"
   ]
  },
  {
   "cell_type": "code",
   "execution_count": null,
   "metadata": {},
   "outputs": [],
   "source": [
    "d['name'] = 'neha'"
   ]
  },
  {
   "cell_type": "code",
   "execution_count": null,
   "metadata": {},
   "outputs": [],
   "source": [
    "len(d)"
   ]
  },
  {
   "cell_type": "code",
   "execution_count": null,
   "metadata": {},
   "outputs": [],
   "source": [
    "f = []\n",
    "if d['name'] != \" \":\n",
    "    print(d[\"name\"])\n",
    "    f.insert(0, d['name'])\n",
    "    # for i in f:\n",
    "        \n"
   ]
  },
  {
   "cell_type": "code",
   "execution_count": null,
   "metadata": {},
   "outputs": [],
   "source": [
    "f.insert(1,'jui')\n",
    "f"
   ]
  },
  {
   "cell_type": "code",
   "execution_count": null,
   "metadata": {},
   "outputs": [],
   "source": [
    "f.clear()"
   ]
  },
  {
   "cell_type": "code",
   "execution_count": null,
   "metadata": {},
   "outputs": [],
   "source": [
    "f"
   ]
  },
  {
   "cell_type": "code",
   "execution_count": null,
   "metadata": {},
   "outputs": [],
   "source": [
    "d['name'] = ['neha', 'deepika', 'anjily']"
   ]
  },
  {
   "cell_type": "code",
   "execution_count": null,
   "metadata": {},
   "outputs": [],
   "source": [
    "d"
   ]
  },
  {
   "cell_type": "code",
   "execution_count": null,
   "metadata": {},
   "outputs": [],
   "source": [
    "class books:\n",
    "    \n",
    "    def __init__(bk):\n",
    "        \n",
    "        bk.book_id = int(input(\"Enter the book shelf number: \"))\n",
    "        bk.name = input(\"Enter the name of the book\")\n",
    "        bk.num_of_pages = int(input(\"Enter the number of pages\"))\n",
    "    \n",
    "    def display(bk):\n",
    "        \n",
    "        print(\"Student Roll Number: \", bk.book_id)\n",
    "        print(\"Student Name: \", bk.name)\n",
    "        print(\"Student Email: \", bk.num_of_pages)\n"
   ]
  },
  {
   "cell_type": "code",
   "execution_count": null,
   "metadata": {},
   "outputs": [],
   "source": [
    "b1 = books()"
   ]
  },
  {
   "cell_type": "code",
   "execution_count": null,
   "metadata": {},
   "outputs": [],
   "source": [
    "b1.display()"
   ]
  },
  {
   "cell_type": "markdown",
   "metadata": {},
   "source": [
    "POLYMORPHSM (Multiple State Or Multiple Characteristics)\n",
    "\n",
    "One Single Entity but its behaviour will change."
   ]
  },
  {
   "cell_type": "code",
   "execution_count": null,
   "metadata": {},
   "outputs": [],
   "source": [
    "def sum (a, b):\n",
    "    return a + b"
   ]
  },
  {
   "cell_type": "code",
   "execution_count": null,
   "metadata": {},
   "outputs": [],
   "source": [
    "sum(56, 78)"
   ]
  },
  {
   "cell_type": "code",
   "execution_count": null,
   "metadata": {},
   "outputs": [],
   "source": [
    "sum (\"varun \", \"deepika\")"
   ]
  },
  {
   "cell_type": "code",
   "execution_count": null,
   "metadata": {},
   "outputs": [],
   "source": [
    "sum([1,2,3,4,5], [6,7,8,9])"
   ]
  },
  {
   "cell_type": "markdown",
   "metadata": {},
   "source": [
    "Polymorphism with respect to the classes and objects\n",
    "\n",
    "What is Polymorphism: The word polymorphism means having many forms. In programming, polymorphism means the same function name (but different signatures) being used for different types. The key difference is the data types and number of arguments used in function."
   ]
  },
  {
   "cell_type": "code",
   "execution_count": null,
   "metadata": {},
   "outputs": [],
   "source": [
    "class data_science:\n",
    "    def display(self):\n",
    "        print(\"This is Data Science Class Function\")"
   ]
  },
  {
   "cell_type": "code",
   "execution_count": null,
   "metadata": {},
   "outputs": [],
   "source": [
    "class MBA:\n",
    "    def display(self):\n",
    "        print(\"This is MBA Class Function\")"
   ]
  },
  {
   "cell_type": "code",
   "execution_count": null,
   "metadata": {},
   "outputs": [],
   "source": [
    "s = data_science()\n",
    "s.display()"
   ]
  },
  {
   "cell_type": "code",
   "execution_count": null,
   "metadata": {},
   "outputs": [],
   "source": [
    "s = MBA()\n",
    "s.display()"
   ]
  },
  {
   "cell_type": "code",
   "execution_count": null,
   "metadata": {},
   "outputs": [],
   "source": [
    "def display_class(class_obj):\n",
    "    for i in class_obj:\n",
    "        i.display() # behaviour of i keeps on changing."
   ]
  },
  {
   "cell_type": "code",
   "execution_count": null,
   "metadata": {},
   "outputs": [],
   "source": [
    "obj1 = MBA()\n",
    "obj2 = data_science()"
   ]
  },
  {
   "cell_type": "code",
   "execution_count": null,
   "metadata": {},
   "outputs": [],
   "source": [
    "obj = [obj2, obj1]"
   ]
  },
  {
   "cell_type": "code",
   "execution_count": null,
   "metadata": {},
   "outputs": [],
   "source": [
    "display_class(obj)"
   ]
  },
  {
   "cell_type": "markdown",
   "metadata": {},
   "source": [
    "ENCAPSULATION\n",
    "\n",
    "Encapsulation is a method which prevents a user to prevent the direct access of the data or direct manipulation of the data in the OOPS Programming Language."
   ]
  },
  {
   "cell_type": "code",
   "execution_count": null,
   "metadata": {},
   "outputs": [],
   "source": [
    "class employees:\n",
    "    def __init__(self):\n",
    "        self.__name = input(\"Enter the name of the Employee: \") \n",
    "        self.__mob = input(\"Enter the mobile number of the Employee: \")\n",
    "        self.__email = input(\"Enter the email id of the Employee: \")\n",
    "\n",
    "    def __emp_details(self): # This function is encapsulated, cannot be accessed by the external user.\n",
    "        print(\"Employee Name is: \", self.__name)\n",
    "        print(\"Employee Mobile number is: \", self.__mob)\n",
    "        print(\"Employee email id is: \", self.__email)\n",
    "\n",
    "    def print_details(self): #### If anyone wants to access the members functions of the encapsulated class then they can access it if it is called inside the public method.\n",
    "        employees.__emp_details(self) #Syntax is first class_name.function_name(encapsulated) while passing the \"self\" as the argument.\n",
    "    \n",
    "\n",
    "    \n"
   ]
  },
  {
   "cell_type": "code",
   "execution_count": null,
   "metadata": {},
   "outputs": [],
   "source": [
    "emp1 = employees()"
   ]
  },
  {
   "cell_type": "code",
   "execution_count": null,
   "metadata": {},
   "outputs": [],
   "source": [
    "emp1._employees__emp_details() # If we have a function name which we have encapsulated so we are aware of the class name and its corresponding function name then we can access it with first taking class name with \"_\" and then function name with \"__\""
   ]
  },
  {
   "cell_type": "code",
   "execution_count": null,
   "metadata": {},
   "outputs": [],
   "source": [
    "emp1.print_details()"
   ]
  },
  {
   "cell_type": "markdown",
   "metadata": {},
   "source": [
    "Inheritance in OOPS"
   ]
  },
  {
   "cell_type": "code",
   "execution_count": null,
   "metadata": {},
   "outputs": [],
   "source": [
    "class head_branch:\n",
    "    \n",
    "    def __init__(self):\n",
    "        self.name = input(\"Enter the name of the School: \")\n",
    "        self.state = input(\"Enter the state where your school belongs to: \")\n",
    "        self.__school_id = input(\"Enter the school id: \") # private attribute with \"__\"\n",
    "        self._course_number = input(\"Enter the number of courses that are going to run in the school: \") # protected attribute with \"_\"\n",
    "     \n",
    "    def print_check(self):\n",
    "        print(\"Name of the school is: \", self.name)\n",
    "        print(\"Name of the school state is: \", self.state)\n",
    "        print(\"School id is: \", self.__school_id)\n",
    "        print(\"Number of courses that are going to run in the school: \", self._course_number)"
   ]
  },
  {
   "cell_type": "markdown",
   "metadata": {},
   "source": [
    "The super() Function\n",
    "The super() function is a built-in function that returns the objects that represent the parent class. It allows to access the parent class’s methods and attributes in the child class.\n",
    "\n",
    "Example: super() function with simple Python inheritance\n",
    "\n",
    "In this example, we created the object ‘obj’ of the child class. When we called the constructor of the child class ‘Student’, it initialized the data members to the values passed during the object creation. Then using the super() function, we invoked the constructor of the parent class.\n",
    "\n",
    "What is the super () method used for?\n",
    "A method from a parent class can be called in Python using the super() function. It’s typical practice in object-oriented programming to call the methods of the superclass and enable method overriding and inheritance. Even if the current class has replaced those methods with its own implementation, calling super() allows you to access and use the parent class’s methods. By doing this, you may enhance and modify the parent class’s behavior while still gaining from it.\n",
    "\n",
    "Benefits of Super Function\n",
    "Need not remember or specify the parent class name to access its methods. This function can be used both in single and multiple inheritances.\n",
    "This implements modularity (isolating changes) and code reusability as there is no need to rewrite the entire function.\n",
    "The super function in Python is called dynamically because Python is a dynamic language, unlike other languages.\n",
    "How does Inheritance work without  Python super?\n",
    "In the given example, there is an issue with the Emp class’s __init__ method. The Emp class is inherited from the Person class, but in its __init__ method, it is not calling the parent class’s __init__ method to initialize the name and id attributes."
   ]
  },
  {
   "cell_type": "code",
   "execution_count": null,
   "metadata": {},
   "outputs": [],
   "source": [
    "class school1(head_branch):\n",
    "    def __init__(self):\n",
    "        super().__init__()\n",
    "    \n",
    "    def check(self):\n",
    "        super().print_check()\n",
    "    "
   ]
  },
  {
   "cell_type": "code",
   "execution_count": null,
   "metadata": {},
   "outputs": [],
   "source": [
    "s1 = head_branch()"
   ]
  },
  {
   "cell_type": "code",
   "execution_count": null,
   "metadata": {},
   "outputs": [],
   "source": [
    "s1.print_check()"
   ]
  },
  {
   "cell_type": "code",
   "execution_count": null,
   "metadata": {},
   "outputs": [],
   "source": [
    "s2 = school1()\n",
    "# s2._head_branch.__school_id"
   ]
  },
  {
   "cell_type": "code",
   "execution_count": null,
   "metadata": {},
   "outputs": [],
   "source": [
    "s2.check()"
   ]
  },
  {
   "cell_type": "markdown",
   "metadata": {},
   "source": [
    "Different types of Python Inheritance\n",
    "There are 5 different types of inheritance in Python. They are as follows:\n",
    "\n",
    "Single inheritance: When a child class inherits from only one parent class, it is called single inheritance. We saw an example above.\n",
    "Multiple inheritances: When a child class inherits from multiple parent classes, it is called multiple inheritances. \n",
    "Unlike Java, python shows multiple inheritances.\n",
    "\n",
    "In Python, you cannot directly access private attributes (attributes starting with double underscores, e.g., __attribute) of a parent class from a child class. Private attributes are intended to be inaccessible from outside the class in which they are defined, including its subclasses.\n",
    "\n",
    "However, you can access protected attributes (attributes starting with a single underscore, e.g., _attribute) of the parent class from a child class. This is part of Python's convention of \"weak\" privacy, where attributes with a single underscore prefix are meant to be considered non-public, but they can still be accessed from subclasses."
   ]
  },
  {
   "cell_type": "markdown",
   "metadata": {},
   "source": [
    "Example of Multiple Inheritance Implementation\n",
    "\n",
    "Single inheritance: When a child class inherits from only one parent class, it is called single inheritance. We saw an example above.\n",
    "\n",
    "\n",
    "Multiple inheritances: When a child class inherits from multiple parent classes, it is called multiple inheritances."
   ]
  },
  {
   "cell_type": "code",
   "execution_count": null,
   "metadata": {},
   "outputs": [],
   "source": [
    "class electronics:\n",
    "\n",
    "    def __init__(self):\n",
    "        self._electr_id = input(\"Enter the electronic device id: \")\n",
    "        self.name = input(\"Enter the type of the device: \")\n",
    "    \n",
    "    def check(self):\n",
    "        print(\"This is the parent class: \")\n",
    "        "
   ]
  },
  {
   "cell_type": "code",
   "execution_count": null,
   "metadata": {},
   "outputs": [],
   "source": [
    "class tv:\n",
    "\n",
    "    def __init__(self):\n",
    "        # super().__init__()\n",
    "        self.b_name = input(\"Enter the brand name of the TV: \")\n",
    "\n",
    "    def check1(self):\n",
    "        print(\"TV Brand name is: \", self.b_name)"
   ]
  },
  {
   "cell_type": "code",
   "execution_count": null,
   "metadata": {},
   "outputs": [],
   "source": [
    "class mobile:\n",
    "\n",
    "    def __init__(self):\n",
    "        self.m_name = input(\"Enter the brand name of the mobile: \")\n",
    "\n",
    "    def check2(self):\n",
    "        print(\"Mobile brand name is: \", self.m_name)"
   ]
  },
  {
   "cell_type": "code",
   "execution_count": null,
   "metadata": {},
   "outputs": [],
   "source": [
    "class pack (electronics, tv, mobile):\n",
    "    \n",
    "    def __init__(self):\n",
    "        self.dev = input(\"Enter the device number: \")\n",
    "        # super.__init__()\n",
    "        electronics.__init__(self)\n",
    "        tv.__init__(self)\n",
    "        mobile.__init__(self)\n",
    "\n",
    "    def test(self):\n",
    "        if self.dev == self._electr_id:\n",
    "            print(\"Device id of the pack class is: \", self.dev)\n",
    "            print(\"Electronics id of the electronics class is: \", self._electr_id)\n",
    "            print(\"Device selected is either tv or mobile\")\n",
    "        else:\n",
    "            print(\"Not listed\")\n",
    "\n",
    "    def parent_method(self):\n",
    "        super().check()\n",
    "        super().check1()\n",
    "        super().check2()"
   ]
  },
  {
   "cell_type": "code",
   "execution_count": null,
   "metadata": {},
   "outputs": [],
   "source": [
    "j = pack()"
   ]
  },
  {
   "cell_type": "code",
   "execution_count": null,
   "metadata": {},
   "outputs": [],
   "source": [
    "j.parent_method()"
   ]
  },
  {
   "cell_type": "code",
   "execution_count": null,
   "metadata": {},
   "outputs": [],
   "source": [
    "j.test()"
   ]
  },
  {
   "cell_type": "markdown",
   "metadata": {},
   "source": [
    "Implementation of the Multilevel Inheritance: When we have a child and grandchild relationship. This means that a child class will inherit from its parent class, which in turn is inheriting from its parent class."
   ]
  },
  {
   "cell_type": "code",
   "execution_count": null,
   "metadata": {},
   "outputs": [],
   "source": [
    "class electronics:\n",
    "\n",
    "    def __init__(self):\n",
    "        self._electr_id = input(\"Enter the electronic device id: \")\n",
    "        self.name = input(\"Enter the type of the device: \")\n",
    "        \n",
    "    def check(self):\n",
    "        print(\"This is the parent class: \")"
   ]
  },
  {
   "cell_type": "code",
   "execution_count": null,
   "metadata": {},
   "outputs": [],
   "source": [
    "class tv(electronics):\n",
    "\n",
    "    def __init__(self):\n",
    "        # super().__init__()\n",
    "        self.b_name = input(\"Enter the brand name of the TV: \")\n",
    "        electronics.__init__(self)\n",
    "        self._tv_id = input(\"Enter the serial number of the TV device\")\n",
    "\n",
    "    def check1(self):\n",
    "        print(\"TV Brand name is: \", self.b_name)\n",
    "        print(\"Parent class electronic id: \", self._electr_id)"
   ]
  },
  {
   "cell_type": "code",
   "execution_count": null,
   "metadata": {},
   "outputs": [],
   "source": [
    "class mobile(tv):\n",
    "\n",
    "    def __init__(self):\n",
    "        self.m_name = input(\"Enter the brand name of the mobile: \")\n",
    "        tv.__init__(self)\n",
    "\n",
    "    def check2(self):\n",
    "        print(\"Mobile brand name is: \", self.m_name)\n",
    "        print(\"Serial Number of the TV device is: \", self._tv_id)"
   ]
  },
  {
   "cell_type": "code",
   "execution_count": null,
   "metadata": {},
   "outputs": [],
   "source": [
    "d = mobile()"
   ]
  },
  {
   "cell_type": "code",
   "execution_count": null,
   "metadata": {},
   "outputs": [],
   "source": [
    "d.check2()"
   ]
  },
  {
   "cell_type": "markdown",
   "metadata": {},
   "source": [
    "Implementation of Hybrid Inheritance, combining multiple and multilevel inheritance.\n",
    "\n",
    "Hybrid inheritance: This form combines more than one form of inheritance. Basically, it is a blend of more than one type of inheritance."
   ]
  },
  {
   "cell_type": "code",
   "execution_count": 7,
   "metadata": {},
   "outputs": [],
   "source": [
    "class electronics:\n",
    "\n",
    "    def __init__(self):\n",
    "        self._electr_id = input(\"Enter the electronic device id: \")\n",
    "        self.name = input(\"Enter the type of the device: \")\n",
    "        \n",
    "    def check(self):\n",
    "        print(\"This is the parent class: \")"
   ]
  },
  {
   "cell_type": "code",
   "execution_count": 8,
   "metadata": {},
   "outputs": [],
   "source": [
    "class tv(electronics):\n",
    "\n",
    "    def __init__(self):\n",
    "        # super().__init__()\n",
    "        self.b_name = input(\"Enter the brand name of the TV: \")\n",
    "        electronics.__init__(self)\n",
    "        self._tv_id = input(\"Enter the serial number of the TV device\")\n",
    "\n",
    "    def check1(self):\n",
    "        print(\"TV Brand name is: \", self.b_name)\n",
    "        print(\"Parent class electronic id: \", self._electr_id)"
   ]
  },
  {
   "cell_type": "code",
   "execution_count": 9,
   "metadata": {},
   "outputs": [],
   "source": [
    "class mobile(tv):\n",
    "\n",
    "    def __init__(self):\n",
    "        self.m_name = input(\"Enter the brand name of the mobile: \")\n",
    "        tv.__init__(self)\n",
    "\n",
    "    def check2(self):\n",
    "        print(\"Mobile brand name is: \", self.m_name)\n",
    "        print(\"Serial Number of the TV device is: \", self._tv_id)"
   ]
  },
  {
   "cell_type": "code",
   "execution_count": 10,
   "metadata": {},
   "outputs": [],
   "source": [
    "class pack (mobile, tv):\n",
    "    \n",
    "    def __init__(self):\n",
    "        self.dev = input(\"Enter the device number: \")\n",
    "        # super.__init__()\n",
    "        # electronics.__init__(self)\n",
    "        tv.__init__(self)\n",
    "        mobile.__init__(self)\n",
    "\n",
    "    def test(self):\n",
    "        if self.dev == self._electr_id:\n",
    "            print(\"Device id of the pack class is: \", self.dev)\n",
    "            print(\"Electronics id of the electronics class is: \", self._electr_id)\n",
    "            print(\"Device selected is either tv or mobile\")\n",
    "        else:\n",
    "            print(\"Not listed\")\n",
    "\n",
    "    def parent_method(self):\n",
    "        super().check()\n",
    "        super().check1()\n",
    "        super().check2()"
   ]
  },
  {
   "cell_type": "code",
   "execution_count": 11,
   "metadata": {},
   "outputs": [],
   "source": [
    "v = pack()"
   ]
  },
  {
   "cell_type": "code",
   "execution_count": 13,
   "metadata": {},
   "outputs": [
    {
     "name": "stdout",
     "output_type": "stream",
     "text": [
      "This is the parent class: \n",
      "TV Brand name is:  Tata\n",
      "Parent class electronic id:  987\n",
      "Mobile brand name is:  Vivo\n",
      "Serial Number of the TV device is:  009\n"
     ]
    }
   ],
   "source": [
    "v.parent_method()"
   ]
  },
  {
   "cell_type": "code",
   "execution_count": 14,
   "metadata": {},
   "outputs": [
    {
     "name": "stdout",
     "output_type": "stream",
     "text": [
      "Not listed\n"
     ]
    }
   ],
   "source": [
    "v.test()"
   ]
  },
  {
   "cell_type": "markdown",
   "metadata": {},
   "source": [
    "What is Hierarchical Inheritance?\n",
    "Hierarchical Inheritance is a type of inheritance in which a single base class is inherited by multiple derived classes. In this scenario, each derived class shares common attributes and methods from the same base class, forming a hierarchy of classes."
   ]
  },
  {
   "cell_type": "code",
   "execution_count": 1,
   "metadata": {},
   "outputs": [],
   "source": [
    "class electronics:\n",
    "\n",
    "    def __init__(self):\n",
    "        self._electr_id = input(\"Enter the electronic device id: \")\n",
    "        self.name = input(\"Enter the type of the device: \")\n",
    "        \n",
    "    def check(self):\n",
    "        print(\"This is the parent class: \")"
   ]
  },
  {
   "cell_type": "code",
   "execution_count": 2,
   "metadata": {},
   "outputs": [],
   "source": [
    "class tv(electronics):\n",
    "\n",
    "    def __init__(self):\n",
    "        # super().__init__()\n",
    "        self.b_name = input(\"Enter the brand name of the TV: \")\n",
    "        electronics.__init__(self)\n",
    "        self._tv_id = input(\"Enter the serial number of the TV device\")\n",
    "\n",
    "    def check1(self):\n",
    "        print(\"TV Brand name is: \", self.b_name)\n",
    "        print(\"Parent class electronic id: \", self._electr_id)"
   ]
  },
  {
   "cell_type": "code",
   "execution_count": 3,
   "metadata": {},
   "outputs": [],
   "source": [
    "class mobile(electronics):\n",
    "\n",
    "    def __init__(self):\n",
    "        self.m_name = input(\"Enter the brand name of the mobile: \")\n",
    "        electronics.__init__(self)\n",
    "\n",
    "\n",
    "    def check2(self):\n",
    "        print(\"Mobile brand name is: \", self.m_name)\n",
    "        # super.check(self)\n",
    "        # print(\"Serial Number of the TV device is: \", self._tv_id)\n",
    "\n",
    "    def func_check(self):\n",
    "        super().check()"
   ]
  },
  {
   "cell_type": "code",
   "execution_count": 51,
   "metadata": {},
   "outputs": [],
   "source": [
    "d = tv()"
   ]
  },
  {
   "cell_type": "code",
   "execution_count": null,
   "metadata": {},
   "outputs": [],
   "source": [
    "d.check1()"
   ]
  },
  {
   "cell_type": "code",
   "execution_count": 4,
   "metadata": {},
   "outputs": [],
   "source": [
    "v = mobile()"
   ]
  },
  {
   "cell_type": "code",
   "execution_count": 5,
   "metadata": {},
   "outputs": [
    {
     "name": "stdout",
     "output_type": "stream",
     "text": [
      "Mobile brand name is:  Vivo\n"
     ]
    }
   ],
   "source": [
    "v.check2()"
   ]
  },
  {
   "cell_type": "code",
   "execution_count": 6,
   "metadata": {},
   "outputs": [
    {
     "name": "stdout",
     "output_type": "stream",
     "text": [
      "This is the parent class: \n"
     ]
    }
   ],
   "source": [
    "v.func_check()"
   ]
  },
  {
   "cell_type": "markdown",
   "metadata": {},
   "source": [
    "DATA ABSTRACTION"
   ]
  },
  {
   "cell_type": "markdown",
   "metadata": {},
   "source": [
    "Data abstraction is one of the most essential concepts of Python OOPs which is used to hide irrelevant details from the user and show the details that are relevant to the users. For example, the readers of geeksforgeeks only know that a writer can write an article on geeksforgeeks, and when it gets published readers can read the articles but the reader is not aware of the background process of publishing the article."
   ]
  },
  {
   "cell_type": "markdown",
   "metadata": {},
   "source": [
    "Abstraction classes in Python\n"
   ]
  },
  {
   "cell_type": "markdown",
   "metadata": {},
   "source": [
    "Data abstraction in Python is a programming concept that hides complex implementation details while exposing only essential information and functionalities to users. In Python, we can achieve data abstraction by using abstract classes and abstract classes can be created using abc (abstract base class) module and abstractmethod of abc module."
   ]
  },
  {
   "cell_type": "markdown",
   "metadata": {},
   "source": [
    "Abstract Method: In Python, abstract method feature is not a default feature. To create abstract method and abstract classes we have to import the “ABC” and “abstractmethod” classes from abc (Abstract Base Class) library. Abstract method of base class force its child class to write the implementation of the all abstract methods defined in base class. If we do not implement the abstract methods of base class in the child class then our code will give error. In the below code method_1 is a abstract method created using @abstractmethod decorator."
   ]
  },
  {
   "cell_type": "code",
   "execution_count": 1,
   "metadata": {},
   "outputs": [],
   "source": [
    "# from abc import ABC, abstractmethod\n",
    "import abc\n",
    "\n",
    "class status:\n",
    "\n",
    "    @abc.abstractmethod\n",
    "    def capture_mobile(self):\n",
    "        self.mobile = mobile\n",
    "        # pass\n",
    "\n",
    "\n",
    "    @abc.abstractmethod\n",
    "    def capture_email(self):\n",
    "        self.email = email\n",
    "        # pass\n",
    "        \n",
    "    @abc.abstractmethod\n",
    "    def capture_name(self):\n",
    "        self.name = name\n",
    "        # pass"
   ]
  },
  {
   "cell_type": "code",
   "execution_count": 2,
   "metadata": {},
   "outputs": [],
   "source": [
    "class students(status):\n",
    "    \n",
    "    def capture_mobile(self):\n",
    "        self.mobile = input(\"Enter the mobile number of the student: \")\n",
    "\n",
    "    def capture_email(self):\n",
    "        self.email = input(\"Enter the email id of the student: \")\n",
    "\n",
    "    def capture_name(self):\n",
    "        self.name = input(\"Enter the name of the student: \")\n",
    "    \n",
    "    def print_details(self):\n",
    "        print(\"Student Mobile Number is: \", self.mobile)\n",
    "        print(\"Student Email id is: \", self.email)\n",
    "        print(\"Student Name is: \", self.name)"
   ]
  },
  {
   "cell_type": "code",
   "execution_count": 3,
   "metadata": {},
   "outputs": [],
   "source": [
    "v = students()"
   ]
  },
  {
   "cell_type": "code",
   "execution_count": 4,
   "metadata": {},
   "outputs": [],
   "source": [
    "v.capture_email()"
   ]
  },
  {
   "cell_type": "code",
   "execution_count": 5,
   "metadata": {},
   "outputs": [],
   "source": [
    "v.capture_mobile()"
   ]
  },
  {
   "cell_type": "code",
   "execution_count": 6,
   "metadata": {},
   "outputs": [],
   "source": [
    "v.capture_name()"
   ]
  },
  {
   "cell_type": "code",
   "execution_count": 7,
   "metadata": {},
   "outputs": [
    {
     "name": "stdout",
     "output_type": "stream",
     "text": [
      "Student Mobile Number is:  7042836080\n",
      "Student Email id is:  goeld9911@gmail.com\n",
      "Student Name is:  Deepika Goel\n"
     ]
    }
   ],
   "source": [
    "v.print_details()"
   ]
  },
  {
   "cell_type": "markdown",
   "metadata": {},
   "source": [
    "Concrete Method: Concrete methods are the methods defined in an abstract base class with their complete implementation. Concrete methods are required to avoid reprication of code in subclasses. For example, in abstract base class there may be a method that implementation is to be same in all its subclasses, so we write the implementation of that method in abstract base class after which we do not need to write implementation of the concrete method again and again in every subclass. In the below code startEngine is a concrete method."
   ]
  },
  {
   "cell_type": "code",
   "execution_count": 1,
   "metadata": {},
   "outputs": [],
   "source": [
    "# Import required modules \n",
    "from abc import ABC, abstractmethod \n",
    "\n",
    "# Create Abstract base class\n",
    "\n",
    "class Car(ABC): \n",
    "    def __init__(self, brand, model, year, engine_started): \n",
    "        self.brand = brand \n",
    "        self.model = model \n",
    "        self.year = year \n",
    "        self.engine_started = engine_started\n",
    "        \n",
    "    # Create abstract method\t \n",
    "    @abstractmethod\n",
    "    def printDetails(self): \n",
    "        pass\n",
    "\t\n",
    "    # Create concrete method \n",
    "    def accelerate(self):\n",
    "        print(\"speed up ...\") \n",
    "        \n",
    "    def break_applied(self): \n",
    "        print(\"Car stop\") \n",
    "        \n",
    "    \n",
    "    def startEngine(self):   #concrete method in Data Abstraction of Python Code to avoid data definition again and again if same functionality is required to be used by the subclasses\n",
    "        if not self.engine_started:\n",
    "            print(f\"Starting the {self.model}'s engine.\")\n",
    "            self.engine_started = True\n",
    "        else:\n",
    "            print(\"Engine is already running.\")"
   ]
  },
  {
   "cell_type": "code",
   "execution_count": 2,
   "metadata": {},
   "outputs": [],
   "source": [
    "# Create a child class \n",
    "class Hatchback(Car): \n",
    "    def printDetails(self): \n",
    "        print(\"Brand:\", self.brand) \n",
    "        print(\"Model:\", self.model) \n",
    "        print(\"Year:\", self.year)\n",
    "        print(\"Whether self starting engine functionality available ?\", self.engine_started)\n",
    "    \n",
    "    def Sunroof(self): \n",
    "        print(\"Not having this feature\") "
   ]
  },
  {
   "cell_type": "code",
   "execution_count": 3,
   "metadata": {},
   "outputs": [],
   "source": [
    "# Create a child class \n",
    "class Suv(Car): \n",
    "    def printDetails(self): \n",
    "        print(\"Brand:\", self.brand)\n",
    "        print(\"Model:\", self.model)\n",
    "        print(\"Year:\", self.year)\n",
    "        print(\"Whether self starting engine functionality available ?\", self.engine_started)\n",
    "        \n",
    "    def Sunroof(self): \n",
    "        print(\"Available\") "
   ]
  },
  {
   "cell_type": "code",
   "execution_count": 4,
   "metadata": {},
   "outputs": [
    {
     "name": "stdout",
     "output_type": "stream",
     "text": [
      "Brand: Maruti\n",
      "Model: Alto\n",
      "Year: 2022\n",
      "Whether self starting engine functionality available ? False\n",
      "speed up ...\n"
     ]
    }
   ],
   "source": [
    "car1 = Hatchback(\"Maruti\", \"Alto\", \"2022\", False); \n",
    "  \n",
    "car1.printDetails() \n",
    "car1.accelerate() "
   ]
  },
  {
   "cell_type": "code",
   "execution_count": 5,
   "metadata": {},
   "outputs": [
    {
     "name": "stdout",
     "output_type": "stream",
     "text": [
      "Starting the Alto's engine.\n"
     ]
    }
   ],
   "source": [
    "car1.startEngine()"
   ]
  },
  {
   "cell_type": "markdown",
   "metadata": {},
   "source": [
    "Decorators in Python"
   ]
  },
  {
   "cell_type": "markdown",
   "metadata": {},
   "source": [
    "Decorators are a very powerful and useful tool in Python since it allows programmers to modify the behaviour of a function or class. Decorators allow us to wrap another function in order to extend the behaviour of the wrapped function, without permanently modifying it. "
   ]
  },
  {
   "cell_type": "markdown",
   "metadata": {},
   "source": [
    "First Class Objects\n",
    "In Python, functions are first class objects which means that functions in Python can be used or passed as arguments.\n",
    "Properties of first class functions:\n",
    "\n",
    "A function is an instance of the Object type.\n",
    "\n",
    "You can store the function in a variable.\n",
    "\n",
    "You can pass the function as a parameter to another function.\n",
    "\n",
    "You can return the function from a function.\n",
    "\n",
    "You can store them in data structures such as hash tables, lists, …"
   ]
  },
  {
   "cell_type": "code",
   "execution_count": 1,
   "metadata": {},
   "outputs": [],
   "source": [
    "# creating a function where that function is an instance of the Object type.\n",
    "\n",
    "def names(l1):\n",
    "    l2 = []\n",
    "    l2 = [i.upper() for i in l1]\n",
    "    return l2"
   ]
  },
  {
   "cell_type": "code",
   "execution_count": 2,
   "metadata": {},
   "outputs": [
    {
     "data": {
      "text/plain": [
       "['VARUN', 'DEEPIKA', 'NEHA', 'JYOTI']"
      ]
     },
     "execution_count": 2,
     "metadata": {},
     "output_type": "execute_result"
    }
   ],
   "source": [
    "l1 = ['varun', 'deepika', 'neha', 'jyoti']\n",
    "test = names # Here, this will not call the function instead it takes the function object referenced by names and creates a second name pointing to it, test.\n",
    "test(l1)"
   ]
  },
  {
   "cell_type": "code",
   "execution_count": 3,
   "metadata": {},
   "outputs": [],
   "source": [
    "def persons(name):\n",
    "    l1 = ['varun', 'deepika', 'neha']\n",
    "    test = names(l1)\n",
    "    print(test)\n"
   ]
  },
  {
   "cell_type": "code",
   "execution_count": 4,
   "metadata": {},
   "outputs": [
    {
     "name": "stdout",
     "output_type": "stream",
     "text": [
      "['VARUN', 'DEEPIKA', 'NEHA']\n"
     ]
    }
   ],
   "source": [
    "persons(names)"
   ]
  },
  {
   "cell_type": "markdown",
   "metadata": {},
   "source": [
    "Example 3: Returning functions from another function."
   ]
  },
  {
   "cell_type": "code",
   "execution_count": 10,
   "metadata": {},
   "outputs": [],
   "source": [
    "def calculation(x):\n",
    "    def adder(y):\n",
    "        return x + y #return value from inner function\n",
    "    return adder #return function value from outer funtion"
   ]
  },
  {
   "cell_type": "code",
   "execution_count": 11,
   "metadata": {},
   "outputs": [
    {
     "name": "stdout",
     "output_type": "stream",
     "text": [
      "60\n"
     ]
    }
   ],
   "source": [
    "temp_cal = calculation(20)\n",
    "\n",
    "print(temp_cal(40))"
   ]
  },
  {
   "cell_type": "markdown",
   "metadata": {},
   "source": [
    "Decorators\n",
    "\n",
    "As stated above the decorators are used to modify the behaviour of function or class. In Decorators, functions are taken as the argument into another function and then called inside the wrapper function.\n",
    "\n",
    "Syntax for Decorator: \n",
    "\n",
    "@gfg_decorator\n",
    "def hello_decorator():\n",
    "    print(\"Gfg\")\n",
    "\n",
    "'''Above code is equivalent to -\n",
    "\n",
    "def hello_decorator():\n",
    "    print(\"Gfg\")\n",
    "    \n",
    "hello_decorator = gfg_decorator(hello_decorator)'''"
   ]
  },
  {
   "cell_type": "code",
   "execution_count": 12,
   "metadata": {},
   "outputs": [
    {
     "name": "stdout",
     "output_type": "stream",
     "text": [
      "Hello, this is before function execution\n",
      "This is inside the function !!\n",
      "This is after function execution\n"
     ]
    }
   ],
   "source": [
    "# defining a decorator\n",
    "def hello_decorator(func):\n",
    "\n",
    "\t# inner1 is a Wrapper function in which the argument is called\n",
    "\t# inner function can access the outer local functions like in this case \"func\"\n",
    "\tdef inner1():\n",
    "\t\tprint(\"Hello, this is before function execution\")\n",
    "\n",
    "\t\t# calling the actual function now inside the wrapper function.\n",
    "\t\tfunc()\n",
    "\n",
    "\t\tprint(\"This is after function execution\")\n",
    "\t\t\n",
    "\treturn inner1\n",
    "\n",
    "\n",
    "# defining a function, to be called inside wrapper\n",
    "def function_to_be_used():\n",
    "\tprint(\"This is inside the function !!\")\n",
    "\n",
    "\n",
    "# passing 'function_to_be_used' inside the decorator to control its behaviour\n",
    "function_to_be_used = hello_decorator(function_to_be_used)\n",
    "\n",
    "\n",
    "# calling the function\n",
    "function_to_be_used()\n"
   ]
  },
  {
   "attachments": {
    "image-2.png": {
     "image/png": "[encoded data removed]"
    },
    "image.png": {
     "image/png": "[encoded data removed]"
    }
   },
   "cell_type": "markdown",
   "metadata": {},
   "source": [
    "![image.png](attachment:image.png)\n",
    "\n",
    "![image-2.png](attachment:image-2.png)"
   ]
  },
  {
   "cell_type": "code",
   "execution_count": 13,
   "metadata": {},
   "outputs": [
    {
     "name": "stdout",
     "output_type": "stream",
     "text": [
      "3628800\n",
      "Total time taken in :  factorial 2.0019805431365967\n"
     ]
    }
   ],
   "source": [
    "# importing libraries\n",
    "import time\n",
    "import math\n",
    "\n",
    "# decorator to calculate duration\n",
    "# taken by any function.\n",
    "def calculate_time(func):\n",
    "\t\n",
    "\t# added arguments inside the inner1,\n",
    "\t# if function takes any arguments,\n",
    "\t# can be added like this.\n",
    "\tdef inner1(*args, **kwargs):\n",
    "\n",
    "\t\t# storing time before function execution\n",
    "\t\tbegin = time.time()\n",
    "\t\t\n",
    "\t\tfunc(*args, **kwargs)\n",
    "\n",
    "\t\t# storing time after function execution\n",
    "\t\tend = time.time()\n",
    "\t\tprint(\"Total time taken in : \", func.__name__, end - begin)\n",
    "\n",
    "\treturn inner1\n",
    "\n",
    "\n",
    "\n",
    "# this can be added to any function present,\n",
    "# in this case to calculate a factorial\n",
    "@calculate_time\n",
    "def factorial(num):\n",
    "\n",
    "\t# sleep 2 seconds because it takes very less time\n",
    "\t# so that you can see the actual difference\n",
    "\ttime.sleep(2)\n",
    "\tprint(math.factorial(num))\n",
    "\n",
    "# calling the function.\n",
    "factorial(10)\n"
   ]
  },
  {
   "cell_type": "code",
   "execution_count": 1,
   "metadata": {},
   "outputs": [],
   "source": [
    "import functools\n",
    "import math\n",
    "import time\n",
    "import inspect"
   ]
  },
  {
   "cell_type": "code",
   "execution_count": 102,
   "metadata": {},
   "outputs": [],
   "source": [
    "def time_calc(*args, **kwargs):\n",
    "    def decorator(func):\n",
    "    # @functools.wraps(func)\n",
    "        print('Input decorator:', args, kwargs)\n",
    "        def emp1(*args, **kwargs):\n",
    "            m = []\n",
    "            # print(\"Arguments\", args)\n",
    "            # print(\"Keyword Arguments\", kwargs)\n",
    "            \n",
    "            for i in args:\n",
    "                if type(i) == list:\n",
    "                    # print(i)\n",
    "                    for j in i:\n",
    "                        if type(j) == int:\n",
    "                            m.append(j)  \n",
    "\n",
    "                if type(i) == tuple:\n",
    "                    # print(i)\n",
    "                    for j in i:\n",
    "                        if type(j) == int:\n",
    "                            m.append(j)\n",
    "\n",
    "            for i in kwargs.values():\n",
    "                if type(i) == tuple or type(i) == list:\n",
    "                    for j in i:\n",
    "                        if type(j) == int:\n",
    "                            m.append(j)\n",
    "            \n",
    "            print(\"List:\", m)\n",
    "            \n",
    "            return func(*args, **kwargs)\n",
    "\n",
    "        return emp1\n",
    "    if len(kwargs) > 0:\n",
    "        # Decorator is used with arguments, e.g., @functionmethod(arg1=val1, arg2=val2)\n",
    "        return decorator\n",
    "    if len(args) == 0:\n",
    "        return decorator\n",
    "    if len(args) == 1:\n",
    "        return decorator(args[0])"
   ]
  },
  {
   "cell_type": "code",
   "execution_count": 103,
   "metadata": {},
   "outputs": [
    {
     "name": "stdout",
     "output_type": "stream",
     "text": [
      "Input decorator: ((1, 2, 3), 'name', 'email', 3.45, (3+4j), [9, 10]) {'name': {'xyz', 'varun', 'deepika'}, 'mob': (123, 456, 789), 'email': ('1@gmail.com', '2@gmail.com', '3@gmail.com'), 'address': [1, 2, 3]}\n"
     ]
    }
   ],
   "source": [
    "@time_calc((1,2,3),\"name\",\"email\", 3.45, 3+4j, [9, 10], name = {\"varun\", \"deepika\", \"xyz\"}, mob = (123, 456, 789), email = (\"1@gmail.com\", \"2@gmail.com\", \"3@gmail.com\"), address = [1, 2, 3])\n",
    "def example3():\n",
    "    print(f\"function with first arguments: \", {arg1})\n",
    "    print(f\"function with second arguments: \", {arg2})"
   ]
  },
  {
   "cell_type": "code",
   "execution_count": 19,
   "metadata": {},
   "outputs": [],
   "source": [
    "def print_message(func):\n",
    "    def wrapper():\n",
    "        print(\"This is an internal function\")\n",
    "        func()\n",
    "    return wrapper"
   ]
  },
  {
   "cell_type": "code",
   "execution_count": 20,
   "metadata": {},
   "outputs": [],
   "source": [
    "@print_message\n",
    "def print_message1():\n",
    "    print(\"Calling decorator function\")"
   ]
  },
  {
   "cell_type": "code",
   "execution_count": 21,
   "metadata": {},
   "outputs": [
    {
     "name": "stdout",
     "output_type": "stream",
     "text": [
      "This is an internal function\n",
      "Calling decorator function\n"
     ]
    }
   ],
   "source": [
    "print_message1()"
   ]
  },
  {
   "cell_type": "code",
   "execution_count": 23,
   "metadata": {},
   "outputs": [],
   "source": [
    "user = {'name': 'deepika', 'logged_in': False}"
   ]
  },
  {
   "cell_type": "code",
   "execution_count": 1,
   "metadata": {},
   "outputs": [],
   "source": [
    "def verify_user(func):\n",
    "    def wrapper(org_list, element):\n",
    "        new_list = []\n",
    "        print(\"Original List: \", org_list)\n",
    "        new_list = org_list.copy()\n",
    "        new_list.append(element)\n",
    "        print(\"New List is: \", new_list)\n",
    "        if user['logged_in'] == False:\n",
    "            print(\"Error Message: User is not currently logged in into the system\")\n",
    "            return\n",
    "        return func(org_list, new_list, element)\n",
    "    return wrapper"
   ]
  },
  {
   "cell_type": "code",
   "execution_count": 2,
   "metadata": {},
   "outputs": [],
   "source": [
    "@verify_user\n",
    "def user_status(org_list, new_list, element):\n",
    "    print(\"Decorator Function Output\")\n",
    "    \n",
    "    "
   ]
  },
  {
   "cell_type": "code",
   "execution_count": 3,
   "metadata": {},
   "outputs": [
    {
     "name": "stdout",
     "output_type": "stream",
     "text": [
      "Original List:  [7, 8, 9, 10, 11]\n",
      "New List is:  [7, 8, 9, 10, 11, 160]\n"
     ]
    },
    {
     "ename": "NameError",
     "evalue": "name 'user' is not defined",
     "output_type": "error",
     "traceback": [
      "\u001b[1;31m---------------------------------------------------------------------------\u001b[0m",
      "\u001b[1;31mNameError\u001b[0m                                 Traceback (most recent call last)",
      "Input \u001b[1;32mIn [3]\u001b[0m, in \u001b[0;36m<cell line: 5>\u001b[1;34m()\u001b[0m\n\u001b[0;32m      1\u001b[0m num \u001b[38;5;241m=\u001b[39m [\u001b[38;5;241m7\u001b[39m,\u001b[38;5;241m8\u001b[39m,\u001b[38;5;241m9\u001b[39m,\u001b[38;5;241m10\u001b[39m,\u001b[38;5;241m11\u001b[39m]\n\u001b[0;32m      3\u001b[0m \u001b[38;5;66;03m# user = {'name': 'deepika', 'logged_in': False}\u001b[39;00m\n\u001b[1;32m----> 5\u001b[0m \u001b[43muser_status\u001b[49m\u001b[43m(\u001b[49m\u001b[43mnum\u001b[49m\u001b[43m,\u001b[49m\u001b[43m \u001b[49m\u001b[38;5;241;43m160\u001b[39;49m\u001b[43m)\u001b[49m\n",
      "Input \u001b[1;32mIn [1]\u001b[0m, in \u001b[0;36mverify_user.<locals>.wrapper\u001b[1;34m(org_list, element)\u001b[0m\n\u001b[0;32m      6\u001b[0m new_list\u001b[38;5;241m.\u001b[39mappend(element)\n\u001b[0;32m      7\u001b[0m \u001b[38;5;28mprint\u001b[39m(\u001b[38;5;124m\"\u001b[39m\u001b[38;5;124mNew List is: \u001b[39m\u001b[38;5;124m\"\u001b[39m, new_list)\n\u001b[1;32m----> 8\u001b[0m \u001b[38;5;28;01mif\u001b[39;00m \u001b[43muser\u001b[49m[\u001b[38;5;124m'\u001b[39m\u001b[38;5;124mlogged_in\u001b[39m\u001b[38;5;124m'\u001b[39m] \u001b[38;5;241m==\u001b[39m \u001b[38;5;28;01mFalse\u001b[39;00m:\n\u001b[0;32m      9\u001b[0m     \u001b[38;5;28mprint\u001b[39m(\u001b[38;5;124m\"\u001b[39m\u001b[38;5;124mError Message: User is not currently logged in into the system\u001b[39m\u001b[38;5;124m\"\u001b[39m)\n\u001b[0;32m     10\u001b[0m     \u001b[38;5;28;01mreturn\u001b[39;00m\n",
      "\u001b[1;31mNameError\u001b[0m: name 'user' is not defined"
     ]
    }
   ],
   "source": [
    "num = [7,8,9,10,11]\n",
    "\n",
    "# user = {'name': 'deepika', 'logged_in': False}\n",
    "\n",
    "user_status(num, 160)"
   ]
  },
  {
   "cell_type": "code",
   "execution_count": 4,
   "metadata": {},
   "outputs": [
    {
     "name": "stdout",
     "output_type": "stream",
     "text": [
      "Original List:  [7, 8, 9, 10, 11]\n",
      "New List is:  [7, 8, 9, 10, 11, 160]\n",
      "Error Message: User is not currently logged in into the system\n"
     ]
    }
   ],
   "source": [
    "num = [7,8,9,10,11]\n",
    "\n",
    "user = {'name': 'deepika', 'logged_in': False}\n",
    "\n",
    "user_status(num, 160)"
   ]
  },
  {
   "cell_type": "code",
   "execution_count": 5,
   "metadata": {},
   "outputs": [
    {
     "name": "stdout",
     "output_type": "stream",
     "text": [
      "Original List:  [7, 8, 9, 10, 11]\n",
      "New List is:  [7, 8, 9, 10, 11, 120]\n",
      "Decorator Function Output\n"
     ]
    }
   ],
   "source": [
    "num = [7,8,9,10,11]\n",
    "\n",
    "user = {'name': 'deepika', 'logged_in': True}\n",
    "\n",
    "user_status(num, 120)"
   ]
  },
  {
   "cell_type": "code",
   "execution_count": 14,
   "metadata": {},
   "outputs": [],
   "source": [
    "def verify_user(func):\n",
    "    def wrapper(org_list, element, element2):\n",
    "        new_list = []\n",
    "        print(\"Original List: \", org_list)\n",
    "        new_list = org_list.copy()\n",
    "        new_list.append(element)\n",
    "        new_list.append(element2)\n",
    "        print(\"New List is: \", new_list)\n",
    "        if user['logged_in'] == False:\n",
    "            print(f\"Error Message: User is not currently logged in into the system {user['name']}\")\n",
    "            return\n",
    "        else:\n",
    "            print(f\"Information of the user which is currently logged in into the system {user['name']}\")\n",
    "        return func(org_list, element, element2)\n",
    "    return wrapper"
   ]
  },
  {
   "cell_type": "code",
   "execution_count": 15,
   "metadata": {},
   "outputs": [],
   "source": [
    "@verify_user\n",
    "def user_status(org_list, element, element2):\n",
    "    print(\"Decorator Function Output\")"
   ]
  },
  {
   "cell_type": "code",
   "execution_count": 16,
   "metadata": {},
   "outputs": [
    {
     "name": "stdout",
     "output_type": "stream",
     "text": [
      "Original List:  [7, 8, 9, 10, 11]\n",
      "New List is:  [7, 8, 9, 10, 11, 160, 180]\n",
      "Error Message: User is not currently logged in into the system deepika\n"
     ]
    }
   ],
   "source": [
    "num = [7,8,9,10,11]\n",
    "\n",
    "user = {'name': 'deepika', 'logged_in': False}\n",
    "\n",
    "user_status(num, 160, 180)"
   ]
  },
  {
   "cell_type": "code",
   "execution_count": 17,
   "metadata": {},
   "outputs": [
    {
     "name": "stdout",
     "output_type": "stream",
     "text": [
      "Original List:  [7, 8, 9, 10, 11]\n",
      "New List is:  [7, 8, 9, 10, 11, 200, 400]\n",
      "Information of the user which is currently logged in into the system varun\n",
      "Decorator Function Output\n"
     ]
    }
   ],
   "source": [
    "num = [7,8,9,10,11]\n",
    "\n",
    "user = {'name': 'varun', 'logged_in': True}\n",
    "\n",
    "user_status(num, 200, 400)"
   ]
  },
  {
   "cell_type": "markdown",
   "metadata": {},
   "source": [
    "Python Decorator Using args And kwargs\n",
    "Even if the code in the previous section works, this is not an ideal way of handling arguments.\n",
    "\n",
    "Imagine if we had to add multiple arguments to the update_list() function. Every time we have to do that we also need to update the wrapper function in two places.\n",
    "\n",
    "Can we handle this in a better way?\n",
    "\n",
    "Instead of passing exact names for the arguments of the wrapper function, we can pass two arguments that are used in Python to provide an arbitrary number of positional arguments or keyword arguments: args and kwargs.\n",
    "\n",
    "Args is used in Python to pass an arbitrary number of positional arguments to a function (written as *args). Kwargs allows to pass an arbitrary number of keyword arguments to a function (written as *kwargs).\n",
    "\n",
    "We will use *args and **kwargs in two places:\n",
    "\n",
    "In the definition of the wrapper function.\n",
    "When we return the function we are decorating inside the wrapper function."
   ]
  },
  {
   "cell_type": "code",
   "execution_count": 18,
   "metadata": {},
   "outputs": [],
   "source": [
    "def verify_user(func):\n",
    "    def wrapper(*args, **kwargs):\n",
    "        # new_list = []\n",
    "        # print(\"Original List: \", args[0])\n",
    "        # new_list = args[0].copy()\n",
    "        # new_list.append(element)\n",
    "        # new_list.append(element2)\n",
    "        # print(\"New List is: \", new_list)\n",
    "        print(\"Positional Arguments: \", args)\n",
    "        print(\"Keyword Arguments: \", kwargs)\n",
    "        if user['logged_in'] == False:\n",
    "            print(f\"Error Message: User is not currently logged in into the system {user['name']}\")\n",
    "            return\n",
    "        else:\n",
    "            print(f\"Information of the user which is currently logged in into the system {user['name']}\")\n",
    "        return func(*args, **kwargs)\n",
    "    return wrapper"
   ]
  },
  {
   "cell_type": "code",
   "execution_count": 22,
   "metadata": {},
   "outputs": [],
   "source": [
    "@verify_user\n",
    "def user_status(org_list, element, element2, element3):\n",
    "    print(\"Decorator Function Output\")"
   ]
  },
  {
   "cell_type": "code",
   "execution_count": 23,
   "metadata": {},
   "outputs": [
    {
     "name": "stdout",
     "output_type": "stream",
     "text": [
      "Positional Arguments:  ()\n",
      "Keyword Arguments:  {'org_list': [7, 8, 9, 10, 11, 20], 'element': 160, 'element2': 180, 'element3': 700}\n",
      "Error Message: User is not currently logged in into the system deepika\n"
     ]
    }
   ],
   "source": [
    "num = [7,8,9,10,11, 20]\n",
    "\n",
    "user = {'name': 'deepika', 'logged_in': False}\n",
    "\n",
    "user_status(org_list = num, element = 160, element2 = 180, element3 = 700)"
   ]
  },
  {
   "cell_type": "code",
   "execution_count": 24,
   "metadata": {},
   "outputs": [
    {
     "name": "stdout",
     "output_type": "stream",
     "text": [
      "Positional Arguments:  ([7, 8, 9, 10, 11, 20], 160, 180, 700)\n",
      "Keyword Arguments:  {}\n",
      "Error Message: User is not currently logged in into the system deepika\n"
     ]
    }
   ],
   "source": [
    "num = [7,8,9,10,11, 20]\n",
    "\n",
    "user = {'name': 'deepika', 'logged_in': False}\n",
    "\n",
    "user_status(num, 160, 180, 700)"
   ]
  },
  {
   "cell_type": "markdown",
   "metadata": {},
   "source": [
    "How to Define a Python Decorator With Arguments\n",
    "\n",
    "If our application has multiple modules and we want to know which module is logging a specific message.\n",
    "\n",
    "We can do that by passing an application_module to the decorator and then using that value when we print an ERROR or INFO message.\n",
    "\n",
    "In this way when we look at our logs we know immediately which application module has logged a specific message.\n",
    "\n",
    "Here is how we want to use our decorator:\n",
    "\n",
    "@verify_user('SecurityModule')"
   ]
  },
  {
   "cell_type": "code",
   "execution_count": 38,
   "metadata": {},
   "outputs": [],
   "source": [
    "def verify_user(app_module):\n",
    "    def decorator(func):\n",
    "        def wrapper(*args, **kwargs):\n",
    "            print(\"Positional Arguments: \", args)\n",
    "            print(\"Keyword Arguments: \", kwargs)\n",
    "            if user['logged_in'] == False:\n",
    "                print(f\"Error Message: {user['name']} is not currently logged in into the system\")\n",
    "                return\n",
    "            else:\n",
    "                print(app_module,f\"Information! {user['name']} is currently logged in into the system\")\n",
    "            return func(*args, **kwargs)\n",
    "        return wrapper\n",
    "    return decorator"
   ]
  },
  {
   "cell_type": "code",
   "execution_count": 39,
   "metadata": {},
   "outputs": [],
   "source": [
    "@verify_user('SecurityModule')\n",
    "def user_status(org_list, element, element2, element3):\n",
    "    print(\"Decorator Function Output\")"
   ]
  },
  {
   "cell_type": "code",
   "execution_count": 40,
   "metadata": {},
   "outputs": [
    {
     "name": "stdout",
     "output_type": "stream",
     "text": [
      "Positional Arguments:  ([7, 8, 9, 10, 11, 20], 160, 180, 700)\n",
      "Keyword Arguments:  {}\n",
      "Error Message: deepika is not currently logged in into the system\n"
     ]
    }
   ],
   "source": [
    "num = [7,8,9,10,11, 20]\n",
    "\n",
    "user = {'name': 'deepika', 'logged_in': False}\n",
    "\n",
    "user_status(num, 160, 180, 700)"
   ]
  },
  {
   "cell_type": "code",
   "execution_count": 41,
   "metadata": {},
   "outputs": [
    {
     "name": "stdout",
     "output_type": "stream",
     "text": [
      "Positional Arguments:  ([7, 8, 9, 10, 11], 200, 400, 800)\n",
      "Keyword Arguments:  {}\n",
      "SecurityModule Information! varun is currently logged in into the system\n",
      "Decorator Function Output\n"
     ]
    }
   ],
   "source": [
    "num = [7,8,9,10,11]\n",
    "\n",
    "user = {'name': 'varun', 'logged_in': True}\n",
    "\n",
    "user_status(num, 200, 400, 800)"
   ]
  },
  {
   "cell_type": "markdown",
   "metadata": {},
   "source": [
    "Improving Python Decorator With The Functools Wraps Function\n",
    "\n",
    "We will add a docstring to the update_list() function and to the wrapper() function.\n",
    "\n",
    "We will also add two print statements to print the name and the docstring for the function passed to the wrapper function."
   ]
  },
  {
   "cell_type": "code",
   "execution_count": 62,
   "metadata": {},
   "outputs": [],
   "source": [
    "def verify_user(app_module):\n",
    "    def decorator(func):\n",
    "        def wrapper(*args, **kwargs):\n",
    "            \"\"\"Wrapper function for verify_user decorator\"\"\" # Docstring should be mentioned in the first line before the definition of the function.\n",
    "            print(\"Positional Arguments: \", args)\n",
    "            print(\"Keyword Arguments: \", kwargs)\n",
    "            \n",
    "            print(\"The name of the function called is\", func.__name__)\n",
    "            print(\"The docstring of the function called is\", func.__doc__)\n",
    "\n",
    "            if user['logged_in'] == False:\n",
    "                print(f\"Error Message! {user['name']} is not currently logged in into the system\")\n",
    "                return\n",
    "            else:\n",
    "                print(app_module,f\"Info Message! {user['name']} is currently logged in into the system\")\n",
    "            return func(*args, **kwargs)\n",
    "        return wrapper\n",
    "    return decorator"
   ]
  },
  {
   "cell_type": "code",
   "execution_count": 63,
   "metadata": {},
   "outputs": [],
   "source": [
    "@verify_user('User Security Module')\n",
    "def user_status(org_list, element, element2, element3):\n",
    "    \"\"\"Add two elements to a list and Printing the output from a decorator function\"\"\"\n",
    "    print(\"Decorator Function Output\")"
   ]
  },
  {
   "cell_type": "code",
   "execution_count": 64,
   "metadata": {},
   "outputs": [
    {
     "name": "stdout",
     "output_type": "stream",
     "text": [
      "Positional Arguments:  ([7, 8, 9, 10, 11, 20], 160, 180, 700)\n",
      "Keyword Arguments:  {}\n",
      "The name of the function called is user_status\n",
      "The docstring of the function called is Add two elements to a list and Printing the output from a decorator function\n",
      "Error Message! deepika is not currently logged in into the system\n"
     ]
    }
   ],
   "source": [
    "num = [7,8,9,10,11, 20]\n",
    "\n",
    "user = {'name': 'deepika', 'logged_in': False}\n",
    "\n",
    "user_status(num, 160, 180, 700)"
   ]
  },
  {
   "cell_type": "code",
   "execution_count": 65,
   "metadata": {},
   "outputs": [
    {
     "name": "stdout",
     "output_type": "stream",
     "text": [
      "Positional Arguments:  ([7, 8, 9, 10, 11], 200, 400, 800)\n",
      "Keyword Arguments:  {}\n",
      "The name of the function called is user_status\n",
      "The docstring of the function called is Add two elements to a list and Printing the output from a decorator function\n",
      "User Security Module Info Message! varun is currently logged in into the system\n",
      "Decorator Function Output\n"
     ]
    }
   ],
   "source": [
    "num = [7,8,9,10,11]\n",
    "\n",
    "user = {'name': 'varun', 'logged_in': True}\n",
    "\n",
    "user_status(num, 200, 400, 800)"
   ]
  },
  {
   "cell_type": "code",
   "execution_count": 66,
   "metadata": {},
   "outputs": [
    {
     "name": "stdout",
     "output_type": "stream",
     "text": [
      "The name of the function called is wrapper\n",
      "The docstring of the function called is Wrapper function for verify_user decorator\n"
     ]
    }
   ],
   "source": [
    "print(\"The name of the function called is\", user_status.__name__)\n",
    "print(\"The docstring of the function called is\", user_status.__doc__)"
   ]
  },
  {
   "cell_type": "markdown",
   "metadata": {},
   "source": [
    "The wrapper function in our decorator hides the metadata of the decorated function.\n",
    "\n",
    "To solve this problem we can use the wraps function of the functools module.\n",
    "\n",
    "Functools.wraps is a function decorator that preserves the metadata of a decorated function."
   ]
  },
  {
   "cell_type": "code",
   "execution_count": 69,
   "metadata": {},
   "outputs": [],
   "source": [
    "from functools import wraps\n",
    "\n",
    "def verify_user(app_module):\n",
    "    def decorator(func):\n",
    "        @wraps(func)\n",
    "        def wrapper(*args, **kwargs):\n",
    "            \"\"\"Wrapper function to verify user decorator\"\"\" # Docstring should be mentioned in the first line before the definition of the function.\n",
    "            print(\"Positional Arguments: \", args)\n",
    "            print(\"Keyword Arguments: \", kwargs)\n",
    "            \n",
    "            print(\"The name of the function called is\", func.__name__)\n",
    "            print(\"The docstring of the function called is\", func.__doc__)\n",
    "\n",
    "            if user['logged_in'] == False:\n",
    "                print(f\"Error Message! {user['name']} is not currently logged in into the system\")\n",
    "                return\n",
    "            else:\n",
    "                print(app_module,f\"Info Message! {user['name']} is currently logged in into the system\")\n",
    "            return func(*args, **kwargs)\n",
    "        return wrapper\n",
    "    return decorator"
   ]
  },
  {
   "cell_type": "code",
   "execution_count": 70,
   "metadata": {},
   "outputs": [
    {
     "name": "stdout",
     "output_type": "stream",
     "text": [
      "Positional Arguments:  ([7, 8, 9, 10, 11, 20], 160, 180, 700)\n",
      "Keyword Arguments:  {}\n",
      "The name of the function called is user_status\n",
      "The docstring of the function called is Add two elements to a list and Printing the output from a decorator function\n",
      "Error Message! deepika is not currently logged in into the system\n"
     ]
    }
   ],
   "source": [
    "num = [7,8,9,10,11, 20]\n",
    "\n",
    "user = {'name': 'deepika', 'logged_in': False}\n",
    "\n",
    "user_status(num, 160, 180, 700)"
   ]
  },
  {
   "cell_type": "code",
   "execution_count": 71,
   "metadata": {},
   "outputs": [
    {
     "name": "stdout",
     "output_type": "stream",
     "text": [
      "The name of the function called is wrapper\n",
      "The docstring of the function called is Wrapper function for verify_user decorator\n"
     ]
    }
   ],
   "source": [
    "print(\"The name of the function called is\", user_status.__name__)\n",
    "print(\"The docstring of the function called is\", user_status.__doc__)"
   ]
  },
  {
   "cell_type": "code",
   "execution_count": 72,
   "metadata": {},
   "outputs": [],
   "source": [
    "def time_calc(func):\n",
    "    print(\"Function Name\", func.__name__)\n",
    "    # @functools.wraps(func)\n",
    "    # print('Input decorator:', args, kwargs)\n",
    "    def emp1(*args, **kwargs):\n",
    "        m = []\n",
    "        # print(\"Arguments\", args)\n",
    "        # print(\"Keyword Arguments\", kwargs)\n",
    "        \n",
    "        for i in args:\n",
    "            print(\"Arguments: \",i)\n",
    "            # print(\"Data Type of Positional Argument:\", type(i))\n",
    "            if type(i) == list or type(i) == tuple:\n",
    "                # print(i)\n",
    "                for j in i:\n",
    "                    if type(j) == int:\n",
    "                        m.append(j)  \n",
    "\n",
    "            if type(i) == dict:\n",
    "                for j in i.values():\n",
    "                    print(\"Dictionary Items: \", j)\n",
    "                    if type(j) == list or type(j) == tuple:\n",
    "                        # print(i)\n",
    "                        for k in j:\n",
    "                            if type(k) == int:\n",
    "                                m.append(k)  \n",
    "\n",
    "\n",
    "        print(\"List:\", m)\n",
    "        \n",
    "        return func(*args, **kwargs)\n",
    "\n",
    "    return emp1\n",
    "    "
   ]
  },
  {
   "cell_type": "code",
   "execution_count": 73,
   "metadata": {},
   "outputs": [
    {
     "name": "stdout",
     "output_type": "stream",
     "text": [
      "Function Name test\n"
     ]
    }
   ],
   "source": [
    "@time_calc\n",
    "def test(l1, d1):\n",
    "    print(\"Testing the decorator functionality\")\n"
   ]
  },
  {
   "cell_type": "code",
   "execution_count": 74,
   "metadata": {},
   "outputs": [],
   "source": [
    "a, b = (1,2,3,\"name\",\"email\", 3.45, 3+4j, [9, 10]), {'name': {\"varun\", \"deepika\", \"xyz\"}, 'mob' : (123, 456, 789), 'email' : (\"1@gmail.com\", \"2@gmail.com\", \"3@gmail.com\"), 'address' : [1, 2, 3]}"
   ]
  },
  {
   "cell_type": "code",
   "execution_count": 75,
   "metadata": {},
   "outputs": [],
   "source": [
    "# b = {'name': {\"varun\", \"deepika\", \"xyz\"}, 'mob' : (123, 456, 789), 'email' : (\"1@gmail.com\", \"2@gmail.com\", \"3@gmail.com\"), 'address' : [1, 2, 3]}"
   ]
  },
  {
   "cell_type": "code",
   "execution_count": 76,
   "metadata": {},
   "outputs": [
    {
     "name": "stdout",
     "output_type": "stream",
     "text": [
      "Arguments:  (1, 2, 3, 'name', 'email', 3.45, (3+4j), [9, 10])\n",
      "Arguments:  {'name': {'varun', 'deepika', 'xyz'}, 'mob': (123, 456, 789), 'email': ('1@gmail.com', '2@gmail.com', '3@gmail.com'), 'address': [1, 2, 3]}\n",
      "Dictionary Items:  {'varun', 'deepika', 'xyz'}\n",
      "Dictionary Items:  (123, 456, 789)\n",
      "Dictionary Items:  ('1@gmail.com', '2@gmail.com', '3@gmail.com')\n",
      "Dictionary Items:  [1, 2, 3]\n",
      "List: [1, 2, 3, 123, 456, 789, 1, 2, 3]\n",
      "Testing the decorator functionality\n"
     ]
    }
   ],
   "source": [
    "test(a, b)"
   ]
  },
  {
   "cell_type": "markdown",
   "metadata": {},
   "source": [
    "CLASS METHODS"
   ]
  },
  {
   "cell_type": "code",
   "execution_count": 77,
   "metadata": {},
   "outputs": [],
   "source": [
    "class employees:\n",
    "    def __init__(self):\n",
    "        self.name = input(\"Enter the name of the employee\")\n",
    "        self.email = input(\"Enter the email id of the employee\")\n",
    "        self.mobile = input(\"Enter the mobile number of the employee\")\n",
    "\n",
    "    def employee_details(self):\n",
    "        print(f\"Employee name is: {self.name}\")\n",
    "        print(f\"Employee email id is: {self.email}\")\n",
    "        print(f\"Employee Mobile Number is: {self.mobile}\")\n"
   ]
  },
  {
   "cell_type": "code",
   "execution_count": 78,
   "metadata": {},
   "outputs": [],
   "source": [
    "e1 = employees()"
   ]
  },
  {
   "cell_type": "code",
   "execution_count": 79,
   "metadata": {},
   "outputs": [
    {
     "name": "stdout",
     "output_type": "stream",
     "text": [
      "Employee name is: Deepika\n",
      "Employee email id is: goeld9911@gmail.com\n",
      "Employee Mobile Number is: 7042836080\n"
     ]
    }
   ],
   "source": [
    "e1.employee_details()"
   ]
  },
  {
   "cell_type": "code",
   "execution_count": 80,
   "metadata": {},
   "outputs": [
    {
     "data": {
      "text/plain": [
       "'Deepika'"
      ]
     },
     "execution_count": 80,
     "metadata": {},
     "output_type": "execute_result"
    }
   ],
   "source": [
    "e1.name"
   ]
  },
  {
   "cell_type": "code",
   "execution_count": 81,
   "metadata": {},
   "outputs": [
    {
     "data": {
      "text/plain": [
       "'goeld9911@gmail.com'"
      ]
     },
     "execution_count": 81,
     "metadata": {},
     "output_type": "execute_result"
    }
   ],
   "source": [
    "e1.email"
   ]
  },
  {
   "cell_type": "code",
   "execution_count": 82,
   "metadata": {},
   "outputs": [
    {
     "data": {
      "text/plain": [
       "'7042836080'"
      ]
     },
     "execution_count": 82,
     "metadata": {},
     "output_type": "execute_result"
    }
   ],
   "source": [
    "e1.mobile"
   ]
  },
  {
   "cell_type": "code",
   "execution_count": 83,
   "metadata": {},
   "outputs": [],
   "source": [
    "class emp1:\n",
    "    @classmethod\n",
    "    def capture_details(d):\n",
    "        d.name = input(\"Enter the name of the Employee\")\n",
    "        d.email = input(\"Enter the email id of the Employee\")\n",
    "        d.mobile = input(\"Enter the Mobile Number of the Employee\")\n",
    "\n",
    "    def employee_details(self):\n",
    "        print(f\"Employee name is: {self.name}\")\n",
    "        print(f\"Employee email id is: {self.email}\")\n",
    "        print(f\"Employee Mobile Number is: {self.mobile}\")"
   ]
  },
  {
   "cell_type": "code",
   "execution_count": 84,
   "metadata": {},
   "outputs": [],
   "source": [
    "v = emp1()"
   ]
  },
  {
   "cell_type": "code",
   "execution_count": 85,
   "metadata": {},
   "outputs": [],
   "source": [
    "v.capture_details()"
   ]
  },
  {
   "cell_type": "code",
   "execution_count": 86,
   "metadata": {},
   "outputs": [
    {
     "name": "stdout",
     "output_type": "stream",
     "text": [
      "Employee name is: Deepika\n",
      "Employee email id is: goeld\n",
      "Employee Mobile Number is: 8758454\n"
     ]
    }
   ],
   "source": [
    "v.employee_details()"
   ]
  },
  {
   "cell_type": "code",
   "execution_count": 87,
   "metadata": {},
   "outputs": [],
   "source": [
    "class emp1:\n",
    "    # @classmethod\n",
    "    def capture_details(d):\n",
    "        d.name = input(\"Enter the name of the Employee\")\n",
    "        d.email = input(\"Enter the email id of the Employee\")\n",
    "        d.mobile = input(\"Enter the Mobile Number of the Employee\")\n",
    "\n",
    "    def employee_details(self):\n",
    "        print(f\"Employee name is: {self.name}\")\n",
    "        print(f\"Employee email id is: {self.email}\")\n",
    "        print(f\"Employee Mobile Number is: {self.mobile}\")"
   ]
  },
  {
   "cell_type": "code",
   "execution_count": 88,
   "metadata": {},
   "outputs": [],
   "source": [
    "v = emp1()"
   ]
  },
  {
   "cell_type": "code",
   "execution_count": 89,
   "metadata": {},
   "outputs": [],
   "source": [
    "v.capture_details()"
   ]
  },
  {
   "cell_type": "code",
   "execution_count": 90,
   "metadata": {},
   "outputs": [
    {
     "name": "stdout",
     "output_type": "stream",
     "text": [
      "Employee name is: XYZ\n",
      "Employee email id is: fgh\n",
      "Employee Mobile Number is: 45656\n"
     ]
    }
   ],
   "source": [
    "v.employee_details()"
   ]
  },
  {
   "cell_type": "markdown",
   "metadata": {},
   "source": [
    "Example of classmethod in Python\n",
    "\n",
    "Create a simple classmethod\n",
    "\n",
    "In this example, we are going to see how to create a class method in Python. For this, we created a class named “Geeks” with a member variable “course” and created a function named “purchase” which prints the object. Now, we passed the method Geeks.purchase into a class method using the @classmethod decorator, which converts the method to a class method. With the class method in place, we can call the function “purchase” without creating a function object, directly using the class name “Geeks.”"
   ]
  },
  {
   "cell_type": "code",
   "execution_count": 91,
   "metadata": {},
   "outputs": [
    {
     "name": "stdout",
     "output_type": "stream",
     "text": [
      "Purchase course :  DSA\n"
     ]
    }
   ],
   "source": [
    "class geeks:\n",
    "\tcourse = 'DSA'\n",
    "\n",
    "\tdef purchase(obj):\n",
    "\t\tprint(\"Purchase course : \", obj.course)\n",
    "\n",
    "\n",
    "geeks.purchase = classmethod(geeks.purchase)\n",
    "geeks.purchase()\n"
   ]
  },
  {
   "cell_type": "code",
   "execution_count": 93,
   "metadata": {},
   "outputs": [],
   "source": [
    "class emp1:\n",
    "\n",
    "    # @classmethod\n",
    "    def capture_details(d):\n",
    "        d.name = input(\"Enter the name of the Employee\")\n",
    "        d.email = input(\"Enter the email id of the Employee\")\n",
    "        d.mobile = input(\"Enter the Mobile Number of the Employee\")\n",
    "    # @classmethod\n",
    "    def employee_details(v):\n",
    "        print(f\"Employee name is: {v.name}\")\n",
    "        print(f\"Employee email id is: {v.email}\")\n",
    "        print(f\"Employee Mobile Number is: {v.mobile}\")"
   ]
  },
  {
   "cell_type": "code",
   "execution_count": 94,
   "metadata": {},
   "outputs": [],
   "source": [
    "emp1.capture_details = classmethod(emp1.capture_details)\n",
    "emp1.capture_details()"
   ]
  },
  {
   "cell_type": "code",
   "execution_count": 96,
   "metadata": {},
   "outputs": [
    {
     "name": "stdout",
     "output_type": "stream",
     "text": [
      "Employee name is: Deepika\n",
      "Employee email id is: goeld\n",
      "Employee Mobile Number is: 008945674856\n"
     ]
    }
   ],
   "source": [
    "emp1.employee_details = classmethod(emp1.employee_details)\n",
    "emp1.employee_details()"
   ]
  },
  {
   "cell_type": "markdown",
   "metadata": {},
   "source": [
    "Factory method using a Class method\n",
    "\n",
    "Uses of classmethod() function are used in factory design patterns where we want to call many functions with the class name rather than an object."
   ]
  },
  {
   "cell_type": "code",
   "execution_count": 118,
   "metadata": {},
   "outputs": [
    {
     "name": "stdout",
     "output_type": "stream",
     "text": [
      "Name :  deepika\n",
      "Age :  33\n"
     ]
    }
   ],
   "source": [
    "# Python program to demonstrate\n",
    "# use of a class method and static method.\n",
    "from datetime import date\n",
    "\n",
    "class Person:\n",
    "           \n",
    "    def __init__(self, name, age):\n",
    "        self.name = name\n",
    "        self.age = age\n",
    "    \n",
    "    @classmethod\n",
    "    def fromBirthYear(cls, name, year):\n",
    "        return cls(name, date.today().year - year)\n",
    "\n",
    "    def display(self):\n",
    "        print(\"Name : \", self.name)\n",
    "        print( \"Age : \", self.age)\n",
    "        \n",
    "# person = Person('deepika', 33)\n",
    "# person.display()\n",
    "d = person.fromBirthYear('deepika', 1991)\n",
    "d.display()\n"
   ]
  },
  {
   "cell_type": "markdown",
   "metadata": {},
   "source": [
    "How the class method works for the inheritance?\n",
    "\n",
    "\n",
    "In this example, we are making Python class hierarchy with two classes, Person and Man, and demonstrates the usage of class methods and inheritance."
   ]
  },
  {
   "cell_type": "code",
   "execution_count": 127,
   "metadata": {},
   "outputs": [
    {
     "name": "stdout",
     "output_type": "stream",
     "text": [
      "True\n",
      "False\n"
     ]
    }
   ],
   "source": [
    "from datetime import date\n",
    "\n",
    "# random Person\n",
    "class Person:\n",
    "\tdef __init__(self, name, age):\n",
    "\t\tself.name = name\n",
    "\t\tself.age = age\n",
    "\n",
    "\t@staticmethod\n",
    "\tdef from_FathersAge(name, fatherAge, fatherPersonAgeDiff):\n",
    "\t\treturn Person(name, date.today().year - fatherAge + fatherPersonAgeDiff)\n",
    "\n",
    "\t@classmethod\n",
    "\tdef from_BirthYear(cls, name, birthYear):\n",
    "\t\treturn cls(name, date.today().year - birthYear)\n",
    "\n",
    "\tdef display(self):\n",
    "\t\tprint(self.name + \"'s age is: \" + str(self.age))\n",
    "\n",
    "class Man(Person):\n",
    "\tsex = 'Male'\n",
    "\n",
    "man = Man.from_BirthYear('John', 1985)\n",
    "print(isinstance(man, Man))\n",
    "\n",
    "man1 = Man.from_FathersAge('John', 1965, 20)\n",
    "print(isinstance(man1, Man))\n"
   ]
  },
  {
   "cell_type": "code",
   "execution_count": 128,
   "metadata": {},
   "outputs": [
    {
     "data": {
      "text/plain": [
       "39"
      ]
     },
     "execution_count": 128,
     "metadata": {},
     "output_type": "execute_result"
    }
   ],
   "source": [
    "date.today().year - 1985"
   ]
  },
  {
   "cell_type": "code",
   "execution_count": 129,
   "metadata": {},
   "outputs": [
    {
     "data": {
      "text/plain": [
       "79"
      ]
     },
     "execution_count": 129,
     "metadata": {},
     "output_type": "execute_result"
    }
   ],
   "source": [
    "date.today().year - 1965 + 20"
   ]
  },
  {
   "cell_type": "markdown",
   "metadata": {},
   "source": [
    "In Object-oriented programming, when we design a class, we use the following three methods\n",
    "\n",
    "Instance method performs a set of actions on the data/value provided by the instance variables. If we use instance variables inside a method, such methods are called instance methods.\n",
    "\n",
    "Class method is method that is called on the class itself, not on a specific object instance. Therefore, it belongs to a class level, and all class instances share a class method.\n",
    "\n",
    "Static method is a general utility method that performs a task in isolation. This method doesn’t have access to the instance and class variable."
   ]
  },
  {
   "attachments": {
    "image.png": {
     "image/png": "[encoded data removed]"
    }
   },
   "cell_type": "markdown",
   "metadata": {},
   "source": [
    "![image.png](attachment:image.png)"
   ]
  },
  {
   "cell_type": "markdown",
   "metadata": {},
   "source": [
    "Difference #1: Primary Use"
   ]
  },
  {
   "cell_type": "markdown",
   "metadata": {},
   "source": [
    "Class method Used to access or modify the class state. It can modify the class state by changing the value of a class variable that would apply across all the class objects.\n",
    "\n",
    "The instance method acts on an object’s attributes. It can modify the object state by changing the value of instance variables.\n",
    "\n",
    "Static methods have limited use because they don’t have access to the attributes of an object (instance variables) and class attributes (class variables). However, they can be helpful in utility such as conversion form one type to another.\n",
    "\n",
    "Class methods are used as a factory method. Factory methods are those methods that return a class object for different use cases. For example, you need to do some pre-processing on the provided data before creating an object."
   ]
  },
  {
   "cell_type": "markdown",
   "metadata": {},
   "source": [
    "Difference #2: Method Defination\n",
    "\n",
    "Let’s learn how to define instance method, class method, and static method in a class. All three methods are defined in different ways.\n",
    "\n",
    "All three methods are defined inside a class, and it is pretty similar to defining a regular function.\n",
    "Any method we create in a class will automatically be created as an instance method. We must explicitly tell Python that it is a class method or static method.\n",
    "\n",
    "Use the @classmethod decorator or the classmethod() function to define the class method\n",
    "\n",
    "Use the @staticmethod decorator or the staticmethod() function to define a static method.\n",
    "\n",
    "Example:\n",
    "\n",
    "Use self as the first parameter in the instance method when defining it. The self parameter refers to the current object.\n",
    "\n",
    "On the other hand, Use cls as the first parameter in the class method when defining it. The cls refers to the class.\n",
    "\n",
    "A static method doesn’t take instance or class as a parameter because they don’t have access to the instance variables and class variables.\n"
   ]
  },
  {
   "cell_type": "code",
   "execution_count": 1,
   "metadata": {},
   "outputs": [],
   "source": [
    "class Student:\n",
    "    # class variables\n",
    "    school_name = 'ABC School'\n",
    "    subject_name = \"Maths\"\n",
    "    # constructor\n",
    "    def __init__(self, name, age):\n",
    "        # instance variables\n",
    "        self.name = name\n",
    "        self.age = age\n",
    "\n",
    "    # instance variables\n",
    "    def show(self):\n",
    "        print(f\"School name: {self.name}, Age: {self.age}, Class Attribute School Name: {Student.school_name}, Class Attribute Subject Name: {Student.subject_name}\")\n",
    "\n",
    "    @classmethod\n",
    "    def change_School(cls, name):\n",
    "        cls.school_name = name\n",
    "\n",
    "    @staticmethod\n",
    "    def find_notes(subject_name):\n",
    "        return ['chapter 1', 'chapter 2', 'chapter 3']"
   ]
  },
  {
   "cell_type": "markdown",
   "metadata": {},
   "source": [
    "Difference #3: Method Call\n",
    "\n",
    "Class methods and static methods can be called using ClassName or by using a class object.\n",
    "\n",
    "The Instance method can be called only using the object of the class."
   ]
  },
  {
   "cell_type": "code",
   "execution_count": 2,
   "metadata": {},
   "outputs": [],
   "source": [
    "def student_details(cls, name):       # Creating external function and then linking it back to the class.\n",
    "    print(\"Student name:\", name)"
   ]
  },
  {
   "cell_type": "code",
   "execution_count": 3,
   "metadata": {},
   "outputs": [],
   "source": [
    "Student.student_details = classmethod(student_details)  # Creating the instance while mapping the function to the class with the help of the classdecorator classmethod function."
   ]
  },
  {
   "cell_type": "code",
   "execution_count": 4,
   "metadata": {},
   "outputs": [
    {
     "name": "stdout",
     "output_type": "stream",
     "text": [
      "Student name: Deepika\n"
     ]
    }
   ],
   "source": [
    "Student.student_details(\"Deepika\")"
   ]
  },
  {
   "cell_type": "markdown",
   "metadata": {},
   "source": [
    "Deleting the fiunction names or attributes of the class can be done in 2 ways:\n",
    "1. del\n",
    "Syntax: del <classname.funtion name> / <classname.attribute name>\n",
    "\n",
    " 2.delattr()\n",
    "Syntax: delattr(<classname>, <\"function_name\"/\"attribute name\">)"
   ]
  },
  {
   "cell_type": "code",
   "execution_count": 5,
   "metadata": {},
   "outputs": [],
   "source": [
    "del Student.find_notes"
   ]
  },
  {
   "cell_type": "code",
   "execution_count": 6,
   "metadata": {},
   "outputs": [
    {
     "ename": "AttributeError",
     "evalue": "type object 'Student' has no attribute 'find_notes'",
     "output_type": "error",
     "traceback": [
      "\u001b[1;31m---------------------------------------------------------------------------\u001b[0m",
      "\u001b[1;31mAttributeError\u001b[0m                            Traceback (most recent call last)",
      "Input \u001b[1;32mIn [6]\u001b[0m, in \u001b[0;36m<cell line: 1>\u001b[1;34m()\u001b[0m\n\u001b[1;32m----> 1\u001b[0m \u001b[43mStudent\u001b[49m\u001b[38;5;241;43m.\u001b[39;49m\u001b[43mfind_notes\u001b[49m(\u001b[38;5;124m\"\u001b[39m\u001b[38;5;124mmaths\u001b[39m\u001b[38;5;124m\"\u001b[39m)\n",
      "\u001b[1;31mAttributeError\u001b[0m: type object 'Student' has no attribute 'find_notes'"
     ]
    }
   ],
   "source": [
    "Student.find_notes(\"maths\")"
   ]
  },
  {
   "cell_type": "code",
   "execution_count": 7,
   "metadata": {},
   "outputs": [],
   "source": [
    "delattr(Student, \"student_details\")"
   ]
  },
  {
   "cell_type": "code",
   "execution_count": 8,
   "metadata": {},
   "outputs": [
    {
     "ename": "AttributeError",
     "evalue": "type object 'Student' has no attribute 'student_details'",
     "output_type": "error",
     "traceback": [
      "\u001b[1;31m---------------------------------------------------------------------------\u001b[0m",
      "\u001b[1;31mAttributeError\u001b[0m                            Traceback (most recent call last)",
      "Input \u001b[1;32mIn [8]\u001b[0m, in \u001b[0;36m<cell line: 1>\u001b[1;34m()\u001b[0m\n\u001b[1;32m----> 1\u001b[0m \u001b[43mStudent\u001b[49m\u001b[38;5;241;43m.\u001b[39;49m\u001b[43mstudent_details\u001b[49m(\u001b[38;5;124m\"\u001b[39m\u001b[38;5;124mDeepika\u001b[39m\u001b[38;5;124m\"\u001b[39m)\n",
      "\u001b[1;31mAttributeError\u001b[0m: type object 'Student' has no attribute 'student_details'"
     ]
    }
   ],
   "source": [
    "Student.student_details(\"Deepika\")"
   ]
  },
  {
   "cell_type": "code",
   "execution_count": 10,
   "metadata": {},
   "outputs": [],
   "source": [
    "delattr(Student, \"subject_name\")"
   ]
  },
  {
   "cell_type": "code",
   "execution_count": 11,
   "metadata": {},
   "outputs": [
    {
     "ename": "AttributeError",
     "evalue": "type object 'Student' has no attribute 'subject_name'",
     "output_type": "error",
     "traceback": [
      "\u001b[1;31m---------------------------------------------------------------------------\u001b[0m",
      "\u001b[1;31mAttributeError\u001b[0m                            Traceback (most recent call last)",
      "Input \u001b[1;32mIn [11]\u001b[0m, in \u001b[0;36m<cell line: 1>\u001b[1;34m()\u001b[0m\n\u001b[1;32m----> 1\u001b[0m \u001b[43mStudent\u001b[49m\u001b[38;5;241;43m.\u001b[39;49m\u001b[43msubject_name\u001b[49m\n",
      "\u001b[1;31mAttributeError\u001b[0m: type object 'Student' has no attribute 'subject_name'"
     ]
    }
   ],
   "source": [
    "Student.subject_name"
   ]
  },
  {
   "cell_type": "code",
   "execution_count": 12,
   "metadata": {},
   "outputs": [
    {
     "ename": "AttributeError",
     "evalue": "type object 'Student' has no attribute 'subject_name'",
     "output_type": "error",
     "traceback": [
      "\u001b[1;31m---------------------------------------------------------------------------\u001b[0m",
      "\u001b[1;31mAttributeError\u001b[0m                            Traceback (most recent call last)",
      "Input \u001b[1;32mIn [12]\u001b[0m, in \u001b[0;36m<cell line: 4>\u001b[1;34m()\u001b[0m\n\u001b[0;32m      2\u001b[0m jessa \u001b[38;5;241m=\u001b[39m Student(\u001b[38;5;124m'\u001b[39m\u001b[38;5;124mJessa\u001b[39m\u001b[38;5;124m'\u001b[39m, \u001b[38;5;241m50\u001b[39m) \u001b[38;5;66;03m#Attributes of Student class is Name and Age where Jessa is the name and 50 is the age.\u001b[39;00m\n\u001b[0;32m      3\u001b[0m \u001b[38;5;66;03m# call instance method\u001b[39;00m\n\u001b[1;32m----> 4\u001b[0m \u001b[43mjessa\u001b[49m\u001b[38;5;241;43m.\u001b[39;49m\u001b[43mshow\u001b[49m\u001b[43m(\u001b[49m\u001b[43m)\u001b[49m\n\u001b[0;32m      6\u001b[0m \u001b[38;5;66;03m# call class method using the class\u001b[39;00m\n\u001b[0;32m      7\u001b[0m Student\u001b[38;5;241m.\u001b[39mchange_School(\u001b[38;5;124m'\u001b[39m\u001b[38;5;124mXYZ School\u001b[39m\u001b[38;5;124m'\u001b[39m)\n",
      "Input \u001b[1;32mIn [1]\u001b[0m, in \u001b[0;36mStudent.show\u001b[1;34m(self)\u001b[0m\n\u001b[0;32m     12\u001b[0m \u001b[38;5;28;01mdef\u001b[39;00m \u001b[38;5;21mshow\u001b[39m(\u001b[38;5;28mself\u001b[39m):\n\u001b[1;32m---> 13\u001b[0m     \u001b[38;5;28mprint\u001b[39m(\u001b[38;5;124mf\u001b[39m\u001b[38;5;124m\"\u001b[39m\u001b[38;5;124mSchool name: \u001b[39m\u001b[38;5;132;01m{\u001b[39;00m\u001b[38;5;28mself\u001b[39m\u001b[38;5;241m.\u001b[39mname\u001b[38;5;132;01m}\u001b[39;00m\u001b[38;5;124m, Age: \u001b[39m\u001b[38;5;132;01m{\u001b[39;00m\u001b[38;5;28mself\u001b[39m\u001b[38;5;241m.\u001b[39mage\u001b[38;5;132;01m}\u001b[39;00m\u001b[38;5;124m, Class Attribute School Name: \u001b[39m\u001b[38;5;132;01m{\u001b[39;00mStudent\u001b[38;5;241m.\u001b[39mschool_name\u001b[38;5;132;01m}\u001b[39;00m\u001b[38;5;124m, Class Attribute Subject Name: \u001b[39m\u001b[38;5;132;01m{\u001b[39;00mStudent\u001b[38;5;241m.\u001b[39msubject_name\u001b[38;5;132;01m}\u001b[39;00m\u001b[38;5;124m\"\u001b[39m)\n",
      "\u001b[1;31mAttributeError\u001b[0m: type object 'Student' has no attribute 'subject_name'"
     ]
    }
   ],
   "source": [
    "# create object\n",
    "jessa = Student('Jessa', 50) #Attributes of Student class is Name and Age where Jessa is the name and 50 is the age.\n",
    "# call instance method\n",
    "jessa.show()\n",
    "\n",
    "# call class method using the class\n",
    "Student.change_School('XYZ School')\n",
    "jessa.show()\n",
    "# call class method using the object\n",
    "jessa.change_School('PQR School')\n",
    "jessa.show()\n",
    "# call static method using the class\n",
    "print(Student.find_notes('English'))\n",
    "# call class method using the object\n",
    "print(jessa.find_notes('English'))"
   ]
  },
  {
   "cell_type": "markdown",
   "metadata": {},
   "source": [
    "Difference #4: Attribute Access\n",
    "\n",
    "Both class and object have attributes. Class attributes include class variables, and object attributes include instance variables.\n",
    "\n",
    "The instance method can access both class level and object attributes. Therefore, It can modify the object state.\n",
    "\n",
    "Class methods can only access class level attributes. Therefore, It can modify the class state.\n",
    "\n",
    "A static method doesn’t have access to the class attribute and instance attributes. Therefore, it cannot modify the class or object state."
   ]
  },
  {
   "cell_type": "code",
   "execution_count": 13,
   "metadata": {},
   "outputs": [
    {
     "name": "stdout",
     "output_type": "stream",
     "text": [
      "Student: Jessa 12\n",
      "School: ABC School\n",
      "Previous School name: ABC School\n",
      "School name changed to XYZ School\n"
     ]
    }
   ],
   "source": [
    "class Student:\n",
    "    # class variables\n",
    "    # @staticmethod\n",
    "    school_name = 'ABC School'\n",
    "\n",
    "    def __init__(self, name, age):\n",
    "        self.name = name\n",
    "        self.age = age\n",
    "\n",
    "    # instance method\n",
    "    def show(self):\n",
    "        # access instance variables\n",
    "        print('Student:', self.name, self.age)\n",
    "        # access class variables\n",
    "        print('School:', self.school_name)\n",
    "\n",
    "    @classmethod\n",
    "    def change_School(cls, name):\n",
    "        # access class variable\n",
    "        print('Previous School name:', cls.school_name) # Reading the school name as per the instance method.\n",
    "        cls.school_name = name\n",
    "        print('School name changed to', Student.school_name) # Reading the school name as per the class method.\n",
    "\n",
    "    @staticmethod\n",
    "    def find_notes(subject_name):\n",
    "        # can't access instance or class attributes\n",
    "        return ['chapter 1', 'chapter 2', 'chapter 3']\n",
    "\n",
    "# create object\n",
    "jessa = Student('Jessa', 12)\n",
    "# call instance method\n",
    "jessa.show()\n",
    "\n",
    "# call class method\n",
    "Student.change_School('XYZ School')"
   ]
  },
  {
   "cell_type": "markdown",
   "metadata": {},
   "source": [
    "Difference #5: Class Bound and Instance Bound\n",
    "\n",
    "An instance method is bound to the object, so we can access them using the object of the class.\n",
    "\n",
    "Class methods and static methods are bound to the class. So we should access them using the class name."
   ]
  },
  {
   "cell_type": "code",
   "execution_count": 14,
   "metadata": {},
   "outputs": [
    {
     "name": "stdout",
     "output_type": "stream",
     "text": [
      "<bound method Student.show of <__main__.Student object at 0x0000022B1F34DA60>>\n",
      "<bound method Student.change_school of <class '__main__.Student'>>\n",
      "<function Student.find_notes at 0x0000022B1F3D48B0>\n"
     ]
    }
   ],
   "source": [
    "class Student:\n",
    "    def __init__(self, roll_no): self.roll_no = roll_no\n",
    "\n",
    "    # instance method\n",
    "    def show(self):\n",
    "        print('In Instance method')\n",
    "\n",
    "    @classmethod\n",
    "    def change_school(cls, name):\n",
    "        print('In class method')\n",
    "\n",
    "    @staticmethod\n",
    "    def find_notes(subject_name):\n",
    "        print('In Static method')\n",
    "\n",
    "# create two objects\n",
    "jessa = Student(12)\n",
    "\n",
    "# instance method bound to object\n",
    "print(jessa.show)\n",
    "\n",
    "# class method bound to class\n",
    "print(jessa.change_school)\n",
    "\n",
    "# static method bound to class\n",
    "print(jessa.find_notes)\n"
   ]
  },
  {
   "cell_type": "markdown",
   "metadata": {},
   "source": [
    "In Python, a separate copy of the instance methods will be created for every object.\n",
    "\n",
    "Suppose you create five Student objects, then Python has to create five copies of the show() method (separate for each object). So it will consume more memory. On the other hand, the static method has only one copy per class."
   ]
  },
  {
   "cell_type": "code",
   "execution_count": 15,
   "metadata": {},
   "outputs": [
    {
     "name": "stdout",
     "output_type": "stream",
     "text": [
      "False\n",
      "True\n"
     ]
    }
   ],
   "source": [
    "# create two objects\n",
    "jessa = Student(12)\n",
    "kelly = Student(25)\n",
    "\n",
    "# False because two separate copies\n",
    "print(jessa.show is kelly.show)\n",
    "\n",
    "# True objects share same copies of static methods\n",
    "print(jessa.find_notes is kelly.find_notes)"
   ]
  },
  {
   "cell_type": "code",
   "execution_count": 16,
   "metadata": {},
   "outputs": [
    {
     "name": "stdout",
     "output_type": "stream",
     "text": [
      "False\n",
      "True\n"
     ]
    }
   ],
   "source": [
    "# create two objects\n",
    "jessa = Student(12)\n",
    "kelly = Student(12)\n",
    "\n",
    "# False because two separate copies\n",
    "print(jessa.show is kelly.show)\n",
    "\n",
    "# True objects share same copies of static methods\n",
    "print(jessa.find_notes is kelly.find_notes)"
   ]
  },
  {
   "cell_type": "code",
   "execution_count": null,
   "metadata": {},
   "outputs": [],
   "source": []
  },
  {
   "cell_type": "code",
   "execution_count": null,
   "metadata": {},
   "outputs": [],
   "source": []
  }
 ],
 "metadata": {
  "kernelspec": {
   "display_name": "Python 3",
   "language": "python",
   "name": "python3"
  },
  "language_info": {
   "codemirror_mode": {
    "name": "ipython",
    "version": 3
   },
   "file_extension": ".py",
   "mimetype": "text/x-python",
   "name": "python",
   "nbconvert_exporter": "python",
   "pygments_lexer": "ipython3",
   "version": "3.8.8rc1"
  }
 },
 "nbformat": 4,
 "nbformat_minor": 2
}
