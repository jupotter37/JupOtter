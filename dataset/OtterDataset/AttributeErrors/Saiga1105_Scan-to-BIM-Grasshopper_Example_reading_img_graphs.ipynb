{
 "cells": [
  {
   "cell_type": "markdown",
   "metadata": {},
   "source": [
    "# READING IMAGE REFERENCE DATA FOR POSE MAPPING\n",
    "In this notebook, we evaluate the RDF GRAPHS in a session repository.\n",
    "For every POINTCLOUDNODE resource, a POINTCLOUDNODE metadata class is created and its data is loaded. \n",
    "The following files will be imported and represented in memory\n",
    ">pcdnodelist=PointCloudNode[]\n",
    "\n",
    ">This codebase operates on the scan2bim2.yml environment (python 3.8)"
   ]
  },
  {
   "cell_type": "code",
   "execution_count": 13,
   "metadata": {},
   "outputs": [],
   "source": [
    "# import APIs\n",
    "import rdflib\n",
    "from rdflib import Graph, plugin\n",
    "from rdflib.serializer import Serializer #pip install rdflib-jsonld https://pypi.org/project/rdflib-jsonld/\n",
    "from rdflib import Graph\n",
    "from rdflib import URIRef, BNode, Literal\n",
    "from rdflib.namespace import CSVW, DC, DCAT, DCTERMS, DOAP, FOAF, ODRL2, ORG, OWL, \\\n",
    "                           PROF, PROV, RDF, RDFS, SDO, SH, SKOS, SOSA, SSN, TIME, \\\n",
    "                           VOID, XMLNS, XSD\n",
    "\n",
    "import os.path, time\n",
    "import importlib\n",
    "import PIL\n",
    "import PIL.Image as PILimage\n",
    "from PIL import ImageDraw, ImageFont, ImageEnhance\n",
    "from PIL.ExifTags import TAGS, GPSTAGS\n",
    "import xml.etree.ElementTree as ET\n",
    "import numpy as np\n",
    "import open3d as o3d\n",
    "\n",
    "#IMPORT MODULES\n",
    "import Algorithms.linkeddatatools as ld\n",
    "import Classes.imagenode as im\n",
    "import Algorithms.scan2bim as s2b"
   ]
  },
  {
   "cell_type": "markdown",
   "metadata": {},
   "source": [
    "## 1. INITIALIZE SESSION"
   ]
  },
  {
   "cell_type": "code",
   "execution_count": 14,
   "metadata": {},
   "outputs": [],
   "source": [
    "## INPUTS\n",
    "project_path= \"D:\\\\Data\\\\2018-06 Werfopvolging Academiestraat Gent\"\n",
    "session_path = project_path + \"\\\\week 22\\\\PCD\"\n",
    "bim_folderpath = project_path + \"\\\\BIM\"\n",
    "pcd_folderpath = session_path + \"\\\\PCD\"\n",
    "img_folderpath = session_path + \"\\\\IMG\"\n",
    "ortho_folderpath =session_path + \"\\\\ORTHO\"\n",
    "mesh_folderpath = session_path + \"\\\\MESH\""
   ]
  },
  {
   "cell_type": "markdown",
   "metadata": {},
   "source": [
    "## 2. READ AND MERGE All THE RDF GRAPHS IN THE SESSION (save for feature.ttl files)"
   ]
  },
  {
   "cell_type": "code",
   "execution_count": 15,
   "metadata": {},
   "outputs": [
    {
     "name": "stdout",
     "output_type": "stream",
     "text": [
      "imgGraph found with 17170 triples\n"
     ]
    }
   ],
   "source": [
    "## read all graph files in a session and merge them\n",
    "importlib.reload(ld)\n",
    "importlib.reload(im)\n",
    "importlib.reload(s2b)\n",
    "all_session_file_paths=ld.getListOfFiles(session_path) \n",
    "rdf_graph_paths=[]\n",
    "\n",
    "# collect all RDF graphs in the session\n",
    "session_graph = Graph()\n",
    "for file in all_session_file_paths:        \n",
    "    if 'imgGraph' in file: \n",
    "        rdf_graph_paths.append(file)\n",
    "        session_graph.parse(file)     \n",
    "        print('imgGraph found with '+str(len(session_graph)) +' triples')"
   ]
  },
  {
   "cell_type": "code",
   "execution_count": null,
   "metadata": {},
   "outputs": [],
   "source": [
    "#test\n",
    "print(session_graph.serialize())"
   ]
  },
  {
   "cell_type": "markdown",
   "metadata": {},
   "source": [
    "# 3. An ImageNode is created per image subject in the RDF Graph"
   ]
  },
  {
   "cell_type": "code",
   "execution_count": 16,
   "metadata": {},
   "outputs": [
    {
     "name": "stdout",
     "output_type": "stream",
     "text": [
      "715 ImageNodes succesfully created from the session!\n"
     ]
    }
   ],
   "source": [
    "importlib.reload(ld)\n",
    "importlib.reload(im)\n",
    "importlib.reload(s2b)\n",
    "\n",
    "v4d3D=rdflib.Namespace('https://w3id.org/v4d/3D#')\n",
    "session_graph.bind('v4d3D', v4d3D)\n",
    "\n",
    "imgnodelist=[]\n",
    "\n",
    "for s in session_graph.subjects(RDF.type, Literal(v4d3D.ImageNode)):\n",
    "    # print(str(session_graph.value(subject=s,predicate=e57.recordCount) ))  \n",
    "    imgnode=im.create_imagenode_from_rdf(session_graph=session_graph,s=s)\n",
    "    imgnode.session_path=rdf_graph_paths[0] # this technically is not correct if there are more graphs involved\n",
    "    imgnodelist.append(imgnode)\n",
    "\n",
    "print (str(len(imgnodelist))+' ImageNodes succesfully created from the session!')\n",
    "\n",
    "# alternative search options \n",
    "# find all subjects (s) of type (rdf:type) person (foaf:Person)\n",
    "# for s, p, o in session_graph.triples((None, RDF.type, 'v4d3D.PointCloudNode')): #subjects(s), predicates (p) & objects (o) \n",
    "    # print(f\"{s} is a PointCloudNode\")"
   ]
  },
  {
   "cell_type": "markdown",
   "metadata": {},
   "source": [
    "## 4. IMPORT IMAGES AS O3D.IMAGES\n",
    "import o3d.image for each imagenode present"
   ]
  },
  {
   "cell_type": "code",
   "execution_count": 17,
   "metadata": {},
   "outputs": [
    {
     "ename": "AttributeError",
     "evalue": "type object 'ImageNode' has no attribute 'o3d_image'",
     "output_type": "error",
     "traceback": [
      "\u001b[1;31m---------------------------------------------------------------------------\u001b[0m",
      "\u001b[1;31mAttributeError\u001b[0m                            Traceback (most recent call last)",
      "\u001b[1;32m~\\AppData\\Local\\Temp/ipykernel_116088/1034323167.py\u001b[0m in \u001b[0;36m<module>\u001b[1;34m\u001b[0m\n\u001b[0;32m      5\u001b[0m \u001b[1;32mfor\u001b[0m \u001b[0midx\u001b[0m\u001b[1;33m,\u001b[0m\u001b[0mimgnode\u001b[0m \u001b[1;32min\u001b[0m \u001b[0menumerate\u001b[0m\u001b[1;33m(\u001b[0m\u001b[0mimgnodelist\u001b[0m\u001b[1;33m)\u001b[0m\u001b[1;33m:\u001b[0m\u001b[1;33m\u001b[0m\u001b[1;33m\u001b[0m\u001b[0m\n\u001b[0;32m      6\u001b[0m     \u001b[1;32mif\u001b[0m \u001b[0mimgnode\u001b[0m\u001b[1;33m.\u001b[0m\u001b[0mimg_path\u001b[0m \u001b[1;32mis\u001b[0m \u001b[1;32mnot\u001b[0m \u001b[1;32mNone\u001b[0m\u001b[1;33m:\u001b[0m\u001b[1;33m\u001b[0m\u001b[1;33m\u001b[0m\u001b[0m\n\u001b[1;32m----> 7\u001b[1;33m         \u001b[1;32mif\u001b[0m \u001b[0mimgnode\u001b[0m\u001b[1;33m.\u001b[0m\u001b[0mo3d_image\u001b[0m \u001b[1;32mis\u001b[0m \u001b[1;32mNone\u001b[0m\u001b[1;33m:\u001b[0m\u001b[1;33m\u001b[0m\u001b[1;33m\u001b[0m\u001b[0m\n\u001b[0m\u001b[0;32m      8\u001b[0m             \u001b[0mimgnode\u001b[0m\u001b[1;33m.\u001b[0m\u001b[0mo3d_image\u001b[0m\u001b[1;33m=\u001b[0m\u001b[0mo3d\u001b[0m\u001b[1;33m.\u001b[0m\u001b[0mio\u001b[0m\u001b[1;33m.\u001b[0m\u001b[0mread_image\u001b[0m\u001b[1;33m(\u001b[0m\u001b[0mimgnode\u001b[0m\u001b[1;33m.\u001b[0m\u001b[0mimg_path\u001b[0m\u001b[1;33m)\u001b[0m\u001b[1;33m\u001b[0m\u001b[1;33m\u001b[0m\u001b[0m\n\u001b[0;32m      9\u001b[0m         \u001b[0mcounter\u001b[0m \u001b[1;33m+=\u001b[0m\u001b[1;36m1\u001b[0m\u001b[1;33m\u001b[0m\u001b[1;33m\u001b[0m\u001b[0m\n",
      "\u001b[1;31mAttributeError\u001b[0m: type object 'ImageNode' has no attribute 'o3d_image'"
     ]
    }
   ],
   "source": [
    "importlib.reload(ld)\n",
    "importlib.reload(im)\n",
    "importlib.reload(s2b)\n",
    "counter=0\n",
    "for idx,imgnode in enumerate(imgnodelist):\n",
    "    if imgnode.img_path is not None:\n",
    "        if imgnode.o3d_image is None:\n",
    "            imgnode.o3d_image=o3d.io.read_image(imgnode.img_path)\n",
    "        counter +=1\n",
    "    \n",
    "    elif imgnode.get_img_path() is True: # Return TRUE and set file path if file is found      \n",
    "        if imgnode.o3d_image is None:\n",
    "            imgnode.o3d_image=o3d.io.read_image(imgnode.img_path)            \n",
    "        counter +=1\n",
    "\n",
    "print (str(counter)+' of '+str(len(imgnodelist))+ ' ImageNodes have their o3d_image imported!')"
   ]
  }
 ],
 "metadata": {
  "interpreter": {
   "hash": "460e66ca5f23cd63717e22731b88d79e724e92cbf76c04a2890b8d427aa9f0e6"
  },
  "kernelspec": {
   "display_name": "Python 3.8.12 64-bit ('environment': conda)",
   "language": "python",
   "name": "python3"
  },
  "language_info": {
   "codemirror_mode": {
    "name": "ipython",
    "version": 3
   },
   "file_extension": ".py",
   "mimetype": "text/x-python",
   "name": "python",
   "nbconvert_exporter": "python",
   "pygments_lexer": "ipython3",
   "version": "3.8.12"
  },
  "orig_nbformat": 4
 },
 "nbformat": 4,
 "nbformat_minor": 2
}
