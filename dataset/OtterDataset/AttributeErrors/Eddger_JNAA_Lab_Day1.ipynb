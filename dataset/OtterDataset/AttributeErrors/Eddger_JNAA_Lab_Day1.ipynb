{
 "cells": [
  {
   "cell_type": "markdown",
   "id": "2d76b123",
   "metadata": {},
   "source": [
    "DAY1"
   ]
  },
  {
   "cell_type": "markdown",
   "id": "ce6619d6",
   "metadata": {},
   "source": [
    "comments and heading\n",
    "="
   ]
  },
  {
   "cell_type": "code",
   "execution_count": 1,
   "id": "ec198815",
   "metadata": {},
   "outputs": [],
   "source": [
    "#Beginning"
   ]
  },
  {
   "cell_type": "code",
   "execution_count": 2,
   "id": "51c4b9aa",
   "metadata": {},
   "outputs": [
    {
     "name": "stdout",
     "output_type": "stream",
     "text": [
      "Climate\n"
     ]
    }
   ],
   "source": [
    "print('Climate')"
   ]
  },
  {
   "cell_type": "code",
   "execution_count": 3,
   "id": "c25cab5d",
   "metadata": {},
   "outputs": [
    {
     "data": {
      "text/plain": [
       "' Commenting out long paragraphs '"
      ]
     },
     "execution_count": 3,
     "metadata": {},
     "output_type": "execute_result"
    }
   ],
   "source": [
    "''' Commenting out long paragraphs '''"
   ]
  },
  {
   "cell_type": "code",
   "execution_count": null,
   "id": "095588c3",
   "metadata": {},
   "outputs": [],
   "source": []
  },
  {
   "cell_type": "markdown",
   "id": "edce7bda",
   "metadata": {},
   "source": [
    "DATA TYPES\n",
    "="
   ]
  },
  {
   "cell_type": "code",
   "execution_count": 4,
   "id": "d0ad13ec",
   "metadata": {},
   "outputs": [
    {
     "data": {
      "text/plain": [
       "10"
      ]
     },
     "execution_count": 4,
     "metadata": {},
     "output_type": "execute_result"
    }
   ],
   "source": [
    "10"
   ]
  },
  {
   "cell_type": "code",
   "execution_count": 5,
   "id": "85299401",
   "metadata": {},
   "outputs": [
    {
     "data": {
      "text/plain": [
       "int"
      ]
     },
     "execution_count": 5,
     "metadata": {},
     "output_type": "execute_result"
    }
   ],
   "source": [
    "type(10)"
   ]
  },
  {
   "cell_type": "code",
   "execution_count": 6,
   "id": "4146b031",
   "metadata": {
    "scrolled": false
   },
   "outputs": [
    {
     "data": {
      "text/plain": [
       "float"
      ]
     },
     "execution_count": 6,
     "metadata": {},
     "output_type": "execute_result"
    }
   ],
   "source": [
    "type(15.72)"
   ]
  },
  {
   "cell_type": "code",
   "execution_count": 7,
   "id": "cbc91711",
   "metadata": {},
   "outputs": [
    {
     "data": {
      "text/plain": [
       "str"
      ]
     },
     "execution_count": 7,
     "metadata": {},
     "output_type": "execute_result"
    }
   ],
   "source": [
    "type('Jeff')"
   ]
  },
  {
   "cell_type": "code",
   "execution_count": 8,
   "id": "e5bcb59e",
   "metadata": {},
   "outputs": [
    {
     "data": {
      "text/plain": [
       "list"
      ]
     },
     "execution_count": 8,
     "metadata": {},
     "output_type": "execute_result"
    }
   ],
   "source": [
    "h=[1,2,3,4,5]\n",
    "type(h)"
   ]
  },
  {
   "cell_type": "code",
   "execution_count": 9,
   "id": "7aae4841",
   "metadata": {},
   "outputs": [
    {
     "data": {
      "text/plain": [
       "'\\ntuple(), sets{}\\n'"
      ]
     },
     "execution_count": 9,
     "metadata": {},
     "output_type": "execute_result"
    }
   ],
   "source": [
    "'''\n",
    "tuple(), sets{}\n",
    "'''"
   ]
  },
  {
   "cell_type": "markdown",
   "id": "af31ccd7",
   "metadata": {},
   "source": [
    "Variable Assignment\n",
    "="
   ]
  },
  {
   "cell_type": "code",
   "execution_count": 10,
   "id": "e5e9dadf",
   "metadata": {},
   "outputs": [],
   "source": [
    "h = 5\n",
    "k = 6"
   ]
  },
  {
   "cell_type": "code",
   "execution_count": 11,
   "id": "4fd21ad6",
   "metadata": {},
   "outputs": [],
   "source": [
    "zz = h+k "
   ]
  },
  {
   "cell_type": "code",
   "execution_count": 12,
   "id": "faae16ad",
   "metadata": {},
   "outputs": [
    {
     "data": {
      "text/plain": [
       "11"
      ]
     },
     "execution_count": 12,
     "metadata": {},
     "output_type": "execute_result"
    }
   ],
   "source": [
    "zz"
   ]
  },
  {
   "cell_type": "code",
   "execution_count": 13,
   "id": "b64fd0bd",
   "metadata": {},
   "outputs": [],
   "source": [
    "d=70\n",
    "n=30"
   ]
  },
  {
   "cell_type": "code",
   "execution_count": 14,
   "id": "7d25ac64",
   "metadata": {},
   "outputs": [],
   "source": [
    "y=n-d"
   ]
  },
  {
   "cell_type": "code",
   "execution_count": 15,
   "id": "7693a5e2",
   "metadata": {},
   "outputs": [
    {
     "data": {
      "text/plain": [
       "-40"
      ]
     },
     "execution_count": 15,
     "metadata": {},
     "output_type": "execute_result"
    }
   ],
   "source": [
    "y"
   ]
  },
  {
   "cell_type": "markdown",
   "id": "583def24",
   "metadata": {},
   "source": [
    "Print\n",
    "= "
   ]
  },
  {
   "cell_type": "code",
   "execution_count": 16,
   "id": "168ffd60",
   "metadata": {},
   "outputs": [],
   "source": [
    "#Printing statements on one line and new lines"
   ]
  },
  {
   "cell_type": "code",
   "execution_count": 17,
   "id": "c8c327d5",
   "metadata": {},
   "outputs": [
    {
     "name": "stdout",
     "output_type": "stream",
     "text": [
      "Python Programming \n",
      "Its interesting\n"
     ]
    }
   ],
   "source": [
    "print('Python Programming \\nIts interesting')"
   ]
  },
  {
   "cell_type": "code",
   "execution_count": 18,
   "id": "d504f373",
   "metadata": {},
   "outputs": [
    {
     "name": "stdout",
     "output_type": "stream",
     "text": [
      "\n"
     ]
    }
   ],
   "source": [
    "print('')"
   ]
  },
  {
   "cell_type": "code",
   "execution_count": 19,
   "id": "9cea3d3b",
   "metadata": {},
   "outputs": [
    {
     "name": "stdout",
     "output_type": "stream",
     "text": [
      "My name is Gilbert \n",
      "I stay at KNUST\n"
     ]
    }
   ],
   "source": [
    "print('My name is Gilbert \\nI stay at KNUST')"
   ]
  },
  {
   "cell_type": "code",
   "execution_count": 20,
   "id": "b7c56a80",
   "metadata": {},
   "outputs": [
    {
     "name": "stdout",
     "output_type": "stream",
     "text": [
      "-40 11\n"
     ]
    }
   ],
   "source": [
    "print(y,zz)"
   ]
  },
  {
   "cell_type": "code",
   "execution_count": 21,
   "id": "ea0bc742",
   "metadata": {},
   "outputs": [],
   "source": [
    "course = 'Meteorology and Climate Science'"
   ]
  },
  {
   "cell_type": "code",
   "execution_count": 22,
   "id": "b3761668",
   "metadata": {},
   "outputs": [
    {
     "data": {
      "text/plain": [
       "31"
      ]
     },
     "execution_count": 22,
     "metadata": {},
     "output_type": "execute_result"
    }
   ],
   "source": [
    "len(course)"
   ]
  },
  {
   "cell_type": "code",
   "execution_count": 23,
   "id": "e7118f96",
   "metadata": {},
   "outputs": [
    {
     "data": {
      "text/plain": [
       "'MtoooyadCiaeSine'"
      ]
     },
     "execution_count": 23,
     "metadata": {},
     "output_type": "execute_result"
    }
   ],
   "source": [
    "course [::2]"
   ]
  },
  {
   "cell_type": "markdown",
   "id": "7c76e25b",
   "metadata": {},
   "source": [
    "Concantenation\n",
    "="
   ]
  },
  {
   "cell_type": "code",
   "execution_count": 24,
   "id": "29349039",
   "metadata": {},
   "outputs": [],
   "source": [
    "a = 'Meteorology ' \n",
    "b = ' and '\n",
    "c = ' Climate '\n",
    "d = ' Science'"
   ]
  },
  {
   "cell_type": "code",
   "execution_count": 25,
   "id": "f52ad68c",
   "metadata": {},
   "outputs": [
    {
     "name": "stdout",
     "output_type": "stream",
     "text": [
      "Meteorology  and  Climate  Science\n"
     ]
    }
   ],
   "source": [
    "print(a+b+c+d)"
   ]
  },
  {
   "cell_type": "code",
   "execution_count": 26,
   "id": "c7ae835d",
   "metadata": {},
   "outputs": [
    {
     "name": "stdout",
     "output_type": "stream",
     "text": [
      "VOTE FOR RHODA \n",
      "VOTE FOR RHODA \n",
      "VOTE FOR RHODA \n",
      "VOTE FOR RHODA \n",
      "VOTE FOR RHODA \n",
      "\n"
     ]
    }
   ],
   "source": [
    "print('VOTE FOR RHODA \\n'*5)"
   ]
  },
  {
   "cell_type": "markdown",
   "id": "8156a10b",
   "metadata": {},
   "source": [
    "Formatting Strings\n",
    "="
   ]
  },
  {
   "cell_type": "code",
   "execution_count": 27,
   "id": "0518b3f6",
   "metadata": {},
   "outputs": [],
   "source": [
    "a ='Climate Science Is Abstract'"
   ]
  },
  {
   "cell_type": "code",
   "execution_count": 28,
   "id": "adf8c672",
   "metadata": {},
   "outputs": [
    {
     "data": {
      "text/plain": [
       "'climate science is abstract'"
      ]
     },
     "execution_count": 28,
     "metadata": {},
     "output_type": "execute_result"
    }
   ],
   "source": [
    "a.lower()"
   ]
  },
  {
   "cell_type": "code",
   "execution_count": 29,
   "id": "78c48e0d",
   "metadata": {},
   "outputs": [
    {
     "data": {
      "text/plain": [
       "'Climate science is abstract'"
      ]
     },
     "execution_count": 29,
     "metadata": {},
     "output_type": "execute_result"
    }
   ],
   "source": [
    "a.capitalize()"
   ]
  },
  {
   "cell_type": "code",
   "execution_count": 30,
   "id": "6897b3ec",
   "metadata": {},
   "outputs": [
    {
     "data": {
      "text/plain": [
       "['Climate', 'Science', 'Is', 'Abstract']"
      ]
     },
     "execution_count": 30,
     "metadata": {},
     "output_type": "execute_result"
    }
   ],
   "source": [
    "a.split()"
   ]
  },
  {
   "cell_type": "code",
   "execution_count": 31,
   "id": "0b56ac48",
   "metadata": {},
   "outputs": [
    {
     "data": {
      "text/plain": [
       "'Climate Science Is Compound'"
      ]
     },
     "execution_count": 31,
     "metadata": {},
     "output_type": "execute_result"
    }
   ],
   "source": [
    "a.replace('Abstract', 'Compound')"
   ]
  },
  {
   "cell_type": "code",
   "execution_count": 32,
   "id": "4a27662c",
   "metadata": {},
   "outputs": [],
   "source": [
    "first = 'welcome to the {} {prog} organized by {organizers}'.format( 2022, organizers = 'OneQuantum Ghana' , prog = 'python programmming')"
   ]
  },
  {
   "cell_type": "code",
   "execution_count": 33,
   "id": "67b513b3",
   "metadata": {},
   "outputs": [
    {
     "data": {
      "text/plain": [
       "'welcome to the 2022 python programmming organized by OneQuantum Ghana'"
      ]
     },
     "execution_count": 33,
     "metadata": {},
     "output_type": "execute_result"
    }
   ],
   "source": [
    "first"
   ]
  },
  {
   "cell_type": "markdown",
   "id": "9bd024e8",
   "metadata": {},
   "source": [
    "Basic Arthimetic \n",
    "="
   ]
  },
  {
   "cell_type": "code",
   "execution_count": 34,
   "id": "a9061172",
   "metadata": {},
   "outputs": [
    {
     "data": {
      "text/plain": [
       "3"
      ]
     },
     "execution_count": 34,
     "metadata": {},
     "output_type": "execute_result"
    }
   ],
   "source": [
    "7//2 \n",
    "#floor division ; no decimal"
   ]
  },
  {
   "cell_type": "code",
   "execution_count": null,
   "id": "b2f346c6",
   "metadata": {},
   "outputs": [],
   "source": []
  },
  {
   "cell_type": "markdown",
   "id": "8f533d63",
   "metadata": {},
   "source": [
    "Boolean\n",
    "="
   ]
  },
  {
   "cell_type": "code",
   "execution_count": 35,
   "id": "22b5b385",
   "metadata": {},
   "outputs": [
    {
     "data": {
      "text/plain": [
       "False"
      ]
     },
     "execution_count": 35,
     "metadata": {},
     "output_type": "execute_result"
    }
   ],
   "source": [
    "2>7"
   ]
  },
  {
   "cell_type": "code",
   "execution_count": 36,
   "id": "36684655",
   "metadata": {},
   "outputs": [],
   "source": [
    "a = 11.2 == 11.22"
   ]
  },
  {
   "cell_type": "code",
   "execution_count": 37,
   "id": "f2aadd62",
   "metadata": {},
   "outputs": [
    {
     "data": {
      "text/plain": [
       "bool"
      ]
     },
     "execution_count": 37,
     "metadata": {},
     "output_type": "execute_result"
    }
   ],
   "source": [
    "type(a)"
   ]
  },
  {
   "cell_type": "code",
   "execution_count": 38,
   "id": "49d5f81c",
   "metadata": {},
   "outputs": [
    {
     "ename": "AttributeError",
     "evalue": "'bool' object has no attribute 'add'",
     "output_type": "error",
     "traceback": [
      "\u001b[1;31m---------------------------------------------------------------------------\u001b[0m",
      "\u001b[1;31mAttributeError\u001b[0m                            Traceback (most recent call last)",
      "Input \u001b[1;32mIn [38]\u001b[0m, in \u001b[0;36m<cell line: 1>\u001b[1;34m()\u001b[0m\n\u001b[1;32m----> 1\u001b[0m \u001b[43ma\u001b[49m\u001b[38;5;241;43m.\u001b[39;49m\u001b[43madd\u001b[49m\n",
      "\u001b[1;31mAttributeError\u001b[0m: 'bool' object has no attribute 'add'"
     ]
    }
   ],
   "source": [
    "a.add"
   ]
  },
  {
   "cell_type": "code",
   "execution_count": null,
   "id": "37ab1bc8",
   "metadata": {},
   "outputs": [],
   "source": []
  },
  {
   "cell_type": "markdown",
   "id": "73003df5",
   "metadata": {},
   "source": [
    "Dictionary\n",
    "="
   ]
  },
  {
   "cell_type": "code",
   "execution_count": null,
   "id": "e67c91bd",
   "metadata": {},
   "outputs": [],
   "source": [
    "l = {\n",
    "    'Name': 'Gilbert',\n",
    "    'Telephone No.': '0243434258',\n",
    "    'Gender': 'Male'\n",
    "}"
   ]
  },
  {
   "cell_type": "code",
   "execution_count": null,
   "id": "9818ce94",
   "metadata": {},
   "outputs": [],
   "source": [
    "l"
   ]
  },
  {
   "cell_type": "code",
   "execution_count": null,
   "id": "901d0163",
   "metadata": {},
   "outputs": [],
   "source": [
    "type(l)"
   ]
  },
  {
   "cell_type": "code",
   "execution_count": null,
   "id": "3a207a08",
   "metadata": {},
   "outputs": [],
   "source": []
  },
  {
   "cell_type": "markdown",
   "id": "41edb889",
   "metadata": {},
   "source": [
    "Logical Operations\n",
    "="
   ]
  },
  {
   "cell_type": "code",
   "execution_count": null,
   "id": "d5a1f1ba",
   "metadata": {},
   "outputs": [],
   "source": [
    "2<=10"
   ]
  },
  {
   "cell_type": "code",
   "execution_count": null,
   "id": "2ea28f32",
   "metadata": {},
   "outputs": [],
   "source": [
    "(5<2) & (5>3)"
   ]
  },
  {
   "cell_type": "code",
   "execution_count": null,
   "id": "4f1f60e8",
   "metadata": {},
   "outputs": [],
   "source": []
  },
  {
   "cell_type": "markdown",
   "id": "e78acb0a",
   "metadata": {},
   "source": [
    "One Way Decision\n",
    "="
   ]
  },
  {
   "cell_type": "code",
   "execution_count": null,
   "id": "df3c65e0",
   "metadata": {},
   "outputs": [],
   "source": [
    "x =5"
   ]
  },
  {
   "cell_type": "code",
   "execution_count": null,
   "id": "804fbd78",
   "metadata": {},
   "outputs": [],
   "source": [
    "if x == 5:\n",
    "    print('x is not equal to 5')"
   ]
  },
  {
   "cell_type": "code",
   "execution_count": null,
   "id": "669c6fca",
   "metadata": {},
   "outputs": [],
   "source": [
    "if x > 4:\n",
    "    print('x is greater than 4')"
   ]
  },
  {
   "cell_type": "code",
   "execution_count": null,
   "id": "ef240ea5",
   "metadata": {},
   "outputs": [],
   "source": [
    "if x!= 4:\n",
    "    print('x is not equal to 4')"
   ]
  },
  {
   "cell_type": "code",
   "execution_count": null,
   "id": "86b4cdca",
   "metadata": {},
   "outputs": [],
   "source": []
  },
  {
   "cell_type": "markdown",
   "id": "b73edc81",
   "metadata": {},
   "source": [
    "Two way and Multiple Decisions \n",
    "="
   ]
  },
  {
   "cell_type": "code",
   "execution_count": null,
   "id": "6b88637f",
   "metadata": {},
   "outputs": [],
   "source": [
    "input('Enter your name: ')"
   ]
  },
  {
   "cell_type": "code",
   "execution_count": null,
   "id": "f87078ec",
   "metadata": {
    "scrolled": true
   },
   "outputs": [],
   "source": [
    "Name = input(\"enter a your name: \")\n",
    "if Name == 'John':\n",
    "    print(\"You are welcome\",Name)    \n",
    "else:\n",
    "    print (\" I don't know you please\")\n",
    "    \n",
    "\n",
    "print(\"Two decision execution complete\")\n",
    "print(\"####################################\")\n",
    "print(\"Next is Multiple Decision\")"
   ]
  },
  {
   "cell_type": "code",
   "execution_count": null,
   "id": "e65d4c07",
   "metadata": {},
   "outputs": [],
   "source": [
    "Order = input('Welcome to Prisca Haven, What is your order: ')\n",
    "if Order == 'Jollof':\n",
    "    print('Thank you for order of', Order)\n",
    "else:\n",
    "    print(' Sorry we do not handle such orders')"
   ]
  },
  {
   "cell_type": "code",
   "execution_count": null,
   "id": "2ddece0b",
   "metadata": {},
   "outputs": [],
   "source": [
    "grade = int(input('Enter your grade: '))\n",
    "if grade >= 70 and grade <=100:\n",
    "    print('A')\n",
    "elif grade >=60 and grade<=69:\n",
    "    print('B')\n",
    "elif grade <=59 and grade>=40:\n",
    "    print('c')\n",
    "else:\n",
    "    print('Your have failed')\n"
   ]
  },
  {
   "cell_type": "markdown",
   "id": "cb25c0d0",
   "metadata": {},
   "source": [
    "Nested Statements\n",
    "="
   ]
  },
  {
   "cell_type": "code",
   "execution_count": null,
   "id": "313ed716",
   "metadata": {},
   "outputs": [],
   "source": [
    "grade = int(input('Enter your grade: '))\n",
    "if grade > 60:\n",
    "    print('\\tStudent scored a passing grade')\n",
    "    if grade >= 90:\n",
    "        print('\\tpassed with A')\n",
    "        if grade >= 96:\n",
    "            print('\\tpassed with A+')"
   ]
  },
  {
   "cell_type": "code",
   "execution_count": null,
   "id": "d2c9ad74",
   "metadata": {},
   "outputs": [],
   "source": []
  }
 ],
 "metadata": {
  "kernelspec": {
   "display_name": "Python 3 (ipykernel)",
   "language": "python",
   "name": "python3"
  },
  "language_info": {
   "codemirror_mode": {
    "name": "ipython",
    "version": 3
   },
   "file_extension": ".py",
   "mimetype": "text/x-python",
   "name": "python",
   "nbconvert_exporter": "python",
   "pygments_lexer": "ipython3",
   "version": "3.9.12"
  }
 },
 "nbformat": 4,
 "nbformat_minor": 5
}
