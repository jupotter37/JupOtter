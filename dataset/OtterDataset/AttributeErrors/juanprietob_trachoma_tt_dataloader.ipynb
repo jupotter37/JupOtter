{
 "cells": [
  {
   "cell_type": "code",
   "execution_count": 10,
   "id": "9bca673a-1b65-4353-9daf-4f7723fc3fa9",
   "metadata": {},
   "outputs": [],
   "source": [
    "import sys; sys.path.insert(0, '..')\n",
    "\n",
    "import math\n",
    "import os\n",
    "import pandas as pd\n",
    "import numpy as np \n",
    "\n",
    "import torch\n",
    "\n",
    "from torch.utils.data import Dataset, DataLoader\n",
    "import SimpleITK as sitk\n",
    "import nrrd\n",
    "import pytorch_lightning as pl\n",
    "from torchvision import transforms\n",
    "\n",
    "import plotly.express as px\n",
    "import plotly.graph_objects as go"
   ]
  },
  {
   "cell_type": "code",
   "execution_count": 7,
   "id": "c1bf003c-4ab4-48c9-b747-025539c38bfe",
   "metadata": {},
   "outputs": [],
   "source": [
    "mount_point = \"/work/jprieto/data/remote/EGower/jprieto\"\n",
    "train_fn = os.path.join(mount_point, 'Analysis_Set_202208', 'trachoma_bsl_mtss_besrat_field_seg_train_202208_train.csv')\n",
    "valid_fn = os.path.join(mount_point, 'Analysis_Set_202208', 'trachoma_bsl_mtss_besrat_field_seg_train_202208_eval.csv')\n",
    "test_fn = os.path.join(mount_point, 'Analysis_Set_202208', 'trachoma_bsl_mtss_besrat_field_seg_test_202208.csv')\n",
    "\n",
    "df_train = pd.read_csv(train_fn)\n",
    "df_val = pd.read_csv(valid_fn)    \n",
    "df_test = pd.read_csv(test_fn)\n",
    "\n"
   ]
  },
  {
   "cell_type": "code",
   "execution_count": 8,
   "id": "274779f8-0754-47b1-8f22-4e0daabd83ac",
   "metadata": {},
   "outputs": [],
   "source": [
    "class TTDatasetSeg(Dataset):\n",
    "    def __init__(self, df, mount_point=\"./\", transform=None, img_column=\"img_path\", seg_column=\"seg_path\"):\n",
    "        self.df = df\n",
    "        self.mount_point = mount_point\n",
    "        self.transform = transform\n",
    "        self.img_column = img_column\n",
    "        self.seg_column = seg_column\n",
    "    def __len__(self):\n",
    "        return len(self.df)\n",
    "    def __getitem__(self, idx):\n",
    "        row = self.df.loc[idx]\n",
    "        img = os.path.join(self.mount_point, row[self.img_column])\n",
    "        seg = os.path.join(self.mount_point, row[self.seg_column])\n",
    "        img_np = torch.tensor(np.squeeze(sitk.GetArrayFromImage(sitk.ReadImage(img)))).to(torch.float32)\n",
    "        seg_np = torch.tensor(np.squeeze(sitk.GetArrayFromImage(sitk.ReadImage(seg)))).to(torch.float32)\n",
    "\n",
    "        d = {\"img\": img_np, \"seg\": seg_np}\n",
    "        if (self.transform):\n",
    "            d = self.transform(d)\n",
    "        return d[\"img\"], d[\"seg\"]"
   ]
  },
  {
   "cell_type": "code",
   "execution_count": 9,
   "id": "2a903213-9280-44f6-9637-5ece563cc1c3",
   "metadata": {},
   "outputs": [],
   "source": [
    "class TrainTransformsSeg:\n",
    "    def __init__(self):\n",
    "        # image augmentation functions\n",
    "        color_jitter = transforms.ColorJitter(brightness=[.5, 1.8], contrast=[0.5, 1.8], saturation=[.5, 1.8], hue=[-.2, .2])\n",
    "        self.train_transform = Compose(\n",
    "            [\n",
    "                AsChannelFirstd(keys=[\"img\"]),\n",
    "                AddChanneld(keys=[\"seg\"]),\n",
    "                Resized(keys=[\"img\", \"seg\"], spatial_size=[512, 512], mode=['area', 'nearest']),\n",
    "                RandRotated(keys=[\"img\", \"seg\"], prob=0.5, range_x=math.pi/2.0, range_y=math.pi/2.0, mode=[\"bilinear\", \"nearest\"]),\n",
    "                RandZoomd(keys=[\"img\", \"seg\"], prob=0.5, min_zoom=0.8, max_zoom=1.2, mode=[\"area\", \"nearest\"]),\n",
    "                ScaleIntensityd(keys=[\"img\"]),                \n",
    "                Lambdad(keys=['img'], func=lambda x: color_jitter(x))\n",
    "            ]\n",
    "        )\n",
    "    def __call__(self, inp):\n",
    "        return self.train_transform(inp)"
   ]
  },
  {
   "cell_type": "code",
   "execution_count": 13,
   "id": "c7c8553e-5d5f-4f13-8809-d181ced18d18",
   "metadata": {},
   "outputs": [
    {
     "ename": "AttributeError",
     "evalue": "'Tensor' object has no attribute 'to_numpy'",
     "output_type": "error",
     "traceback": [
      "\u001b[0;31m---------------------------------------------------------------------------\u001b[0m",
      "\u001b[0;31mAttributeError\u001b[0m                            Traceback (most recent call last)",
      "\u001b[0;32m/tmp/ipykernel_66530/70353135.py\u001b[0m in \u001b[0;36m<module>\u001b[0;34m\u001b[0m\n\u001b[1;32m      3\u001b[0m \u001b[0mimg\u001b[0m\u001b[0;34m,\u001b[0m \u001b[0mseg\u001b[0m \u001b[0;34m=\u001b[0m \u001b[0mtrain_ds\u001b[0m\u001b[0;34m[\u001b[0m\u001b[0;36m0\u001b[0m\u001b[0;34m]\u001b[0m\u001b[0;34m\u001b[0m\u001b[0;34m\u001b[0m\u001b[0m\n\u001b[1;32m      4\u001b[0m \u001b[0;34m\u001b[0m\u001b[0m\n\u001b[0;32m----> 5\u001b[0;31m \u001b[0mimg_np\u001b[0m \u001b[0;34m=\u001b[0m \u001b[0mimg\u001b[0m\u001b[0;34m.\u001b[0m\u001b[0mto_numpy\u001b[0m\u001b[0;34m(\u001b[0m\u001b[0;34m)\u001b[0m\u001b[0;34m\u001b[0m\u001b[0;34m\u001b[0m\u001b[0m\n\u001b[0m\u001b[1;32m      6\u001b[0m \u001b[0mseg_np\u001b[0m \u001b[0;34m=\u001b[0m \u001b[0mseg\u001b[0m\u001b[0;34m.\u001b[0m\u001b[0mto_\u001b[0m\u001b[0;34m.\u001b[0m\u001b[0mto_numpy\u001b[0m\u001b[0;34m(\u001b[0m\u001b[0;34m)\u001b[0m\u001b[0;34m\u001b[0m\u001b[0;34m\u001b[0m\u001b[0m\n\u001b[1;32m      7\u001b[0m \u001b[0;34m\u001b[0m\u001b[0m\n",
      "\u001b[0;31mAttributeError\u001b[0m: 'Tensor' object has no attribute 'to_numpy'"
     ]
    }
   ],
   "source": [
    "train_ds = TTDatasetSeg(df_train, mount_point, transform=TrainTransformsSeg())\n",
    "\n",
    "img, seg = train_ds[0]\n",
    "\n",
    "img_np = img.numpy()\n",
    "seg_np = seg.numpy()\n",
    "\n",
    "fig_img = go.Figure()\n",
    "\n",
    "print(img_np.shape)\n",
    "# fig_img = px.imshow(img_np, binary_string=True, binary_compression_level=5, binary_backend='pil')\n",
    "\n",
    "fig_img.add_trace(go.Heatmap(z=seg_np, opacity=opacity, colorscale='rdbu'))\n",
    "\n",
    "fig_img.update_layout(\n",
    "    autosize=False,\n",
    "    width=size,\n",
    "    height=size\n",
    ")\n",
    "fig_img"
   ]
  },
  {
   "cell_type": "code",
   "execution_count": null,
   "id": "8a6a86e2-a23d-436c-afb1-6dcefcd5a0e7",
   "metadata": {},
   "outputs": [],
   "source": []
  }
 ],
 "metadata": {
  "kernelspec": {
   "display_name": "Python 3 (ipykernel)",
   "language": "python",
   "name": "python3"
  },
  "language_info": {
   "codemirror_mode": {
    "name": "ipython",
    "version": 3
   },
   "file_extension": ".py",
   "mimetype": "text/x-python",
   "name": "python",
   "nbconvert_exporter": "python",
   "pygments_lexer": "ipython3",
   "version": "3.9.7"
  }
 },
 "nbformat": 4,
 "nbformat_minor": 5
}
