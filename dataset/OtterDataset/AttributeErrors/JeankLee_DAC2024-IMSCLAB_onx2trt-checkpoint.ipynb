{
 "cells": [
  {
   "cell_type": "code",
   "execution_count": 1,
   "id": "01eaf324-c808-4913-a575-521786d27c99",
   "metadata": {},
   "outputs": [],
   "source": [
    "import tensorrt as trt\n",
    "import sys\n",
    "import os"
   ]
  },
  {
   "cell_type": "code",
   "execution_count": 2,
   "id": "6f79bc2a-f47e-4090-a811-3749effda8d3",
   "metadata": {},
   "outputs": [],
   "source": [
    "TRT_LOGGER = trt.Logger(trt.Logger.WARNING)\n",
    "EXPLICIT_BATCH = 1 << (int)(trt.NetworkDefinitionCreationFlag.EXPLICIT_BATCH)\n",
    "\n",
    "def printShape(engine):\n",
    "    for i in range(engine.num_bindings):\n",
    "        if engine.binding_is_input(i):\n",
    "            print(\"input layer: {}, shape is: {} \".format(i, engine.get_binding_shape(i)))\n",
    "        else:\n",
    "            print(\"output layer: {} shape is: {} \".format(i, engine.get_binding_shape(i)))"
   ]
  },
  {
   "cell_type": "code",
   "execution_count": 10,
   "id": "1035bd0f-b6f1-4bad-a5a8-3afd19be9926",
   "metadata": {},
   "outputs": [],
   "source": [
    "def onnx2trt(onnx_path, engine_path):\n",
    "    with trt.Builder(TRT_LOGGER) as builder, builder.create_network(EXPLICIT_BATCH) as network, trt.OnnxParser(network, TRT_LOGGER) as parser:\n",
    "        # builder.max_workspace_size = 1 << 28 # 256MB\n",
    "        config = builder.create_builder_config()\n",
    "        config.max_workspace_size = 1 << 28\n",
    "        with open(onnx_path, 'rb') as model:\n",
    "            parser.parse(model.read())\n",
    "        engine = builder.build_engine(network, config)\n",
    "\n",
    "        printShape(engine)            \n",
    "\n",
    "        with open(engine_path, \"wb\") as f:\n",
    "            f.write(engine.serialize())"
   ]
  },
  {
   "cell_type": "code",
   "execution_count": 11,
   "id": "1b4fdbfa-c88a-44fa-bec9-6a9e22817c50",
   "metadata": {},
   "outputs": [
    {
     "name": "stderr",
     "output_type": "stream",
     "text": [
      "/tmp/ipykernel_17109/2199220387.py:5: DeprecationWarning: Use set_memory_pool_limit instead.\n",
      "  config.max_workspace_size = 1 << 20\n",
      "/tmp/ipykernel_17109/2199220387.py:8: DeprecationWarning: Use build_serialized_network instead.\n",
      "  engine = builder.build_engine(network, config)\n"
     ]
    },
    {
     "name": "stdout",
     "output_type": "stream",
     "text": [
      "[05/02/2024-23:49:34] [TRT] [W] Tactic Device request: 450MB Available: 417MB. Device memory is insufficient to use tactic.\n",
      "[05/02/2024-23:49:35] [TRT] [W] Skipping tactic 1 due to insufficient memory on requested size of 450 detected for tactic 0x00000000000003ea.\n",
      "[05/02/2024-23:52:25] [TRT] [W] Skipping tactic 0 due to insufficient memory on requested size of 88678400 detected for tactic 0x0000000000000000.\n",
      "[05/02/2024-23:52:25] [TRT] [E] 4: [optimizer.cpp::computeCosts::3725] Error Code 4: Internal Error (Could not find any implementation for node {ForeignNode[/backbone/patch_embed1/proj/Constant_output_0.../backbone/block1.0/mlp/dwconv/Transpose + /backbone/block1.0/mlp/dwconv/Reshape]} due to insufficient workspace. See verbose log for requested sizes.)\n"
     ]
    },
    {
     "ename": "AttributeError",
     "evalue": "'NoneType' object has no attribute 'num_bindings'",
     "output_type": "error",
     "traceback": [
      "\u001b[0;31m---------------------------------------------------------------------------\u001b[0m",
      "\u001b[0;31mAttributeError\u001b[0m                            Traceback (most recent call last)",
      "Cell \u001b[0;32mIn[11], line 3\u001b[0m\n\u001b[1;32m      1\u001b[0m input_path \u001b[38;5;241m=\u001b[39m \u001b[38;5;124m\"\u001b[39m\u001b[38;5;124m./segformer.onnx\u001b[39m\u001b[38;5;124m\"\u001b[39m\n\u001b[1;32m      2\u001b[0m output_path \u001b[38;5;241m=\u001b[39m input_path\u001b[38;5;241m.\u001b[39mreplace(\u001b[38;5;124m'\u001b[39m\u001b[38;5;124m.onnx\u001b[39m\u001b[38;5;124m'\u001b[39m, \u001b[38;5;124m'\u001b[39m\u001b[38;5;124m.engine\u001b[39m\u001b[38;5;124m'\u001b[39m)\n\u001b[0;32m----> 3\u001b[0m \u001b[43monnx2trt\u001b[49m\u001b[43m(\u001b[49m\u001b[43minput_path\u001b[49m\u001b[43m,\u001b[49m\u001b[43m \u001b[49m\u001b[43moutput_path\u001b[49m\u001b[43m)\u001b[49m\n",
      "Cell \u001b[0;32mIn[10], line 10\u001b[0m, in \u001b[0;36monnx2trt\u001b[0;34m(onnx_path, engine_path)\u001b[0m\n\u001b[1;32m      7\u001b[0m     parser\u001b[38;5;241m.\u001b[39mparse(model\u001b[38;5;241m.\u001b[39mread())\n\u001b[1;32m      8\u001b[0m engine \u001b[38;5;241m=\u001b[39m builder\u001b[38;5;241m.\u001b[39mbuild_engine(network, config)\n\u001b[0;32m---> 10\u001b[0m \u001b[43mprintShape\u001b[49m\u001b[43m(\u001b[49m\u001b[43mengine\u001b[49m\u001b[43m)\u001b[49m            \n\u001b[1;32m     12\u001b[0m \u001b[38;5;28;01mwith\u001b[39;00m \u001b[38;5;28mopen\u001b[39m(engine_path, \u001b[38;5;124m\"\u001b[39m\u001b[38;5;124mwb\u001b[39m\u001b[38;5;124m\"\u001b[39m) \u001b[38;5;28;01mas\u001b[39;00m f:\n\u001b[1;32m     13\u001b[0m     f\u001b[38;5;241m.\u001b[39mwrite(engine\u001b[38;5;241m.\u001b[39mserialize())\n",
      "Cell \u001b[0;32mIn[2], line 5\u001b[0m, in \u001b[0;36mprintShape\u001b[0;34m(engine)\u001b[0m\n\u001b[1;32m      4\u001b[0m \u001b[38;5;28;01mdef\u001b[39;00m \u001b[38;5;21mprintShape\u001b[39m(engine):\n\u001b[0;32m----> 5\u001b[0m     \u001b[38;5;28;01mfor\u001b[39;00m i \u001b[38;5;129;01min\u001b[39;00m \u001b[38;5;28mrange\u001b[39m(\u001b[43mengine\u001b[49m\u001b[38;5;241;43m.\u001b[39;49m\u001b[43mnum_bindings\u001b[49m):\n\u001b[1;32m      6\u001b[0m         \u001b[38;5;28;01mif\u001b[39;00m engine\u001b[38;5;241m.\u001b[39mbinding_is_input(i):\n\u001b[1;32m      7\u001b[0m             \u001b[38;5;28mprint\u001b[39m(\u001b[38;5;124m\"\u001b[39m\u001b[38;5;124minput layer: \u001b[39m\u001b[38;5;132;01m{}\u001b[39;00m\u001b[38;5;124m, shape is: \u001b[39m\u001b[38;5;132;01m{}\u001b[39;00m\u001b[38;5;124m \u001b[39m\u001b[38;5;124m\"\u001b[39m\u001b[38;5;241m.\u001b[39mformat(i, engine\u001b[38;5;241m.\u001b[39mget_binding_shape(i)))\n",
      "\u001b[0;31mAttributeError\u001b[0m: 'NoneType' object has no attribute 'num_bindings'"
     ]
    }
   ],
   "source": [
    "input_path = \"./segformer.onnx\"\n",
    "output_path = input_path.replace('.onnx', '.engine')\n",
    "onnx2trt(input_path, output_path)"
   ]
  },
  {
   "cell_type": "code",
   "execution_count": 3,
   "id": "9fb558d0-85a0-4664-a0f1-11f39afb03a5",
   "metadata": {},
   "outputs": [
    {
     "name": "stderr",
     "output_type": "stream",
     "text": [
      "/tmp/ipykernel_7133/3076315606.py:10: DeprecationWarning: Use set_memory_pool_limit instead.\n",
      "  config.max_workspace_size = 1 << 28  # 1GB\n",
      "Could not open file darknet.onnx\n",
      "Could not open file darknet.onnx\n"
     ]
    },
    {
     "name": "stdout",
     "output_type": "stream",
     "text": [
      "[05/03/2024-12:35:59] [TRT] [E] ModelImporter.cpp:688: Failed to parse ONNX model from file: darknet.onnx\n"
     ]
    },
    {
     "ename": "AttributeError",
     "evalue": "'NoneType' object has no attribute 'desc'",
     "output_type": "error",
     "traceback": [
      "\u001b[0;31m---------------------------------------------------------------------------\u001b[0m",
      "\u001b[0;31mAttributeError\u001b[0m                            Traceback (most recent call last)",
      "Cell \u001b[0;32mIn[3], line 17\u001b[0m\n\u001b[1;32m     15\u001b[0m success \u001b[38;5;241m=\u001b[39m parser\u001b[38;5;241m.\u001b[39mparse_from_file(\u001b[38;5;124m\"\u001b[39m\u001b[38;5;124mdarknet.onnx\u001b[39m\u001b[38;5;124m\"\u001b[39m)\n\u001b[1;32m     16\u001b[0m \u001b[38;5;28;01mif\u001b[39;00m \u001b[38;5;129;01mnot\u001b[39;00m success:\n\u001b[0;32m---> 17\u001b[0m     \u001b[38;5;28;01mraise\u001b[39;00m \u001b[38;5;167;01mRuntimeError\u001b[39;00m(\u001b[38;5;124mf\u001b[39m\u001b[38;5;124m'\u001b[39m\u001b[38;5;124mFailed to load ONNX file: \u001b[39m\u001b[38;5;132;01m{\u001b[39;00mparser\u001b[38;5;241m.\u001b[39mget_error(\u001b[38;5;241m0\u001b[39m)\u001b[38;5;241m.\u001b[39mdesc()\u001b[38;5;132;01m}\u001b[39;00m\u001b[38;5;124m'\u001b[39m)\n\u001b[1;32m     19\u001b[0m \u001b[38;5;66;03m# Set input shape\u001b[39;00m\n\u001b[1;32m     20\u001b[0m input_shape \u001b[38;5;241m=\u001b[39m [\u001b[38;5;241m1\u001b[39m, \u001b[38;5;241m3\u001b[39m, \u001b[38;5;241m640\u001b[39m, \u001b[38;5;241m640\u001b[39m]\n",
      "\u001b[0;31mAttributeError\u001b[0m: 'NoneType' object has no attribute 'desc'"
     ]
    }
   ],
   "source": [
    "import tensorrt as trt\n",
    "\n",
    "# Set up logger and builder\n",
    "logger = trt.Logger(trt.Logger.WARNING)\n",
    "builder = trt.Builder(logger)\n",
    "network = builder.create_network(1 << int(trt.NetworkDefinitionCreationFlag.EXPLICIT_BATCH))\n",
    "config = builder.create_builder_config()\n",
    "\n",
    "# Set workspace size and enable FP16\n",
    "config.max_workspace_size = 1 << 28  # 1GB\n",
    "config.set_flag(trt.BuilderFlag.FP16)\n",
    "\n",
    "# Parse the ONNX model\n",
    "parser = trt.OnnxParser(network, logger)\n",
    "success = parser.parse_from_file(\"darknet.onnx\")\n",
    "if not success:\n",
    "    raise RuntimeError(f'Failed to load ONNX file: {parser.get_error(0).desc()}')\n",
    "\n",
    "# Set input shape\n",
    "input_shape = [1, 3, 640, 640]\n",
    "input_tensor = network.get_input(0)\n",
    "input_tensor.shape = input_shape\n",
    "\n",
    "# Build the TensorRT engine\n",
    "engine_name = \"darknet_fp16.engine\"\n",
    "with builder.build_engine(network, config) as engine, open(engine_name, \"wb\") as f:\n",
    "    f.write(engine.serialize())\n",
    "\n",
    "print(f\"TensorRT engine saved as {engine_name}\")\n"
   ]
  },
  {
   "cell_type": "code",
   "execution_count": null,
   "id": "61d829f0-ea3e-452f-a9d1-eaf1ac74a351",
   "metadata": {},
   "outputs": [],
   "source": []
  }
 ],
 "metadata": {
  "kernelspec": {
   "display_name": "Python 3 (ipykernel)",
   "language": "python",
   "name": "python3"
  },
  "language_info": {
   "codemirror_mode": {
    "name": "ipython",
    "version": 3
   },
   "file_extension": ".py",
   "mimetype": "text/x-python",
   "name": "python",
   "nbconvert_exporter": "python",
   "pygments_lexer": "ipython3",
   "version": "3.8.10"
  }
 },
 "nbformat": 4,
 "nbformat_minor": 5
}
