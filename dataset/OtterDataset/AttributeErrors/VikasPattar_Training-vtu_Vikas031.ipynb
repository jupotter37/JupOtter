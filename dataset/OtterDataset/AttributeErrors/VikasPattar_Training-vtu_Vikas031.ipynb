{
 "cells": [
  {
   "cell_type": "markdown",
   "id": "3fa230ee",
   "metadata": {},
   "source": [
    "# print(\"hello world !\");"
   ]
  },
  {
   "cell_type": "code",
   "execution_count": 14,
   "id": "fecf4410",
   "metadata": {},
   "outputs": [
    {
     "name": "stdout",
     "output_type": "stream",
     "text": [
      "hello world\n"
     ]
    }
   ],
   "source": [
    "print(\"hello world\")"
   ]
  },
  {
   "cell_type": "markdown",
   "id": "4ecc9da8",
   "metadata": {},
   "source": [
    "# python version check"
   ]
  },
  {
   "cell_type": "code",
   "execution_count": 15,
   "id": "3fa00313",
   "metadata": {},
   "outputs": [
    {
     "name": "stdout",
     "output_type": "stream",
     "text": [
      "<class 'str'>\n"
     ]
    }
   ],
   "source": [
    "from platform import python_version\n",
    "x=python_version()\n",
    "\n",
    "print((x)"
   ]
  },
  {
   "cell_type": "markdown",
   "id": "ee142db1",
   "metadata": {},
   "source": [
    "# calculating simple interest"
   ]
  },
  {
   "cell_type": "code",
   "execution_count": 24,
   "id": "03d732cc",
   "metadata": {},
   "outputs": [
    {
     "name": "stdout",
     "output_type": "stream",
     "text": [
      "principle :10000\n",
      "time :24\n",
      "rate :1.5\n",
      "simple interest is :  3600.0\n"
     ]
    }
   ],
   "source": [
    "p=int(input(\"principle :\"))\n",
    "t=float(input(\"time :\"))\n",
    "r=float(input(\"rate :\"))\n",
    "\n",
    "intrst = float((p*t*r)/100) ;\n",
    "print(\"simple interest is : \",intrst);"
   ]
  },
  {
   "cell_type": "markdown",
   "id": "384f1c6a",
   "metadata": {},
   "source": [
    "# to know the type of variable"
   ]
  },
  {
   "cell_type": "code",
   "execution_count": 31,
   "id": "235170e4",
   "metadata": {},
   "outputs": [
    {
     "name": "stdout",
     "output_type": "stream",
     "text": [
      "q = 5\n",
      "p =  <class 'int'>\n",
      "q =  <class 'str'>\n"
     ]
    }
   ],
   "source": [
    "p=10\n",
    "q=input(\"q = \")\n",
    "print(\"p = \",type(p))\n",
    "print(\"q = \",type(q))"
   ]
  },
  {
   "cell_type": "markdown",
   "id": "ae5cb032",
   "metadata": {},
   "source": [
    "# function creation "
   ]
  },
  {
   "cell_type": "code",
   "execution_count": 41,
   "id": "a2f26a21",
   "metadata": {},
   "outputs": [],
   "source": [
    "def hello() :\n",
    "    print(\"Hello Sourabh\")"
   ]
  },
  {
   "cell_type": "code",
   "execution_count": 42,
   "id": "7d7a54e4",
   "metadata": {},
   "outputs": [
    {
     "name": "stdout",
     "output_type": "stream",
     "text": [
      "Hello Sourabh\n"
     ]
    }
   ],
   "source": [
    "hello()"
   ]
  },
  {
   "cell_type": "markdown",
   "id": "40eee865",
   "metadata": {},
   "source": [
    "#demo function"
   ]
  },
  {
   "cell_type": "code",
   "execution_count": 43,
   "id": "f1f22286",
   "metadata": {},
   "outputs": [],
   "source": [
    "def demo(name,age):\n",
    "    print(name)\n",
    "    print(age)"
   ]
  },
  {
   "cell_type": "code",
   "execution_count": 46,
   "id": "115ea30d",
   "metadata": {},
   "outputs": [
    {
     "name": "stdout",
     "output_type": "stream",
     "text": [
      "Vikas\n",
      "21\n"
     ]
    }
   ],
   "source": [
    "demo(\"Vikas\",21);"
   ]
  },
  {
   "cell_type": "markdown",
   "id": "7e09a623",
   "metadata": {},
   "source": [
    "Function - check whether the given number is even or odd"
   ]
  },
  {
   "cell_type": "code",
   "execution_count": 49,
   "id": "f4a30529",
   "metadata": {},
   "outputs": [],
   "source": [
    "def evenOrOdd(num):\n",
    "    if num%2 ==0 :\n",
    "        print(num,\" is even\")\n",
    "    else : \n",
    "        print(num,\" is Odd\")"
   ]
  },
  {
   "cell_type": "code",
   "execution_count": 51,
   "id": "c28369d1",
   "metadata": {},
   "outputs": [
    {
     "name": "stdout",
     "output_type": "stream",
     "text": [
      "enter x : 6\n",
      "6  is even\n"
     ]
    }
   ],
   "source": [
    "x=int(input(\"enter x : \"));\n",
    "evenOrOdd(x);"
   ]
  },
  {
   "cell_type": "markdown",
   "id": "83dc207b",
   "metadata": {},
   "source": [
    "# lambda anonymous function "
   ]
  },
  {
   "cell_type": "code",
   "execution_count": 58,
   "id": "eb9923ff",
   "metadata": {},
   "outputs": [
    {
     "name": "stdout",
     "output_type": "stream",
     "text": [
      "Enter the year : 2006\n",
      "not leap year\n"
     ]
    }
   ],
   "source": [
    "n=int(input(\"Enter the year : \"));\n",
    "leap = lambda y: (y%4==0 and y%100!=0) or y%400 == 0\n",
    "if leap(n):\n",
    "    print(\"leap year\");\n",
    "    \n",
    "else : \n",
    "    print(\"not leap year\")"
   ]
  },
  {
   "cell_type": "markdown",
   "id": "48c4ef80",
   "metadata": {},
   "source": [
    "# Python files"
   ]
  },
  {
   "cell_type": "code",
   "execution_count": 69,
   "id": "a5eade94",
   "metadata": {},
   "outputs": [
    {
     "ename": "SyntaxError",
     "evalue": "(unicode error) 'unicodeescape' codec can't decode bytes in position 2-3: truncated \\UXXXXXXXX escape (1169568641.py, line 1)",
     "output_type": "error",
     "traceback": [
      "\u001b[1;36m  Cell \u001b[1;32mIn[69], line 1\u001b[1;36m\u001b[0m\n\u001b[1;33m    with open(\"C:\\Users\\HP\\Documents\\vikas031\\vikas.txt\", \"w+\") as file :\u001b[0m\n\u001b[1;37m                                                        ^\u001b[0m\n\u001b[1;31mSyntaxError\u001b[0m\u001b[1;31m:\u001b[0m (unicode error) 'unicodeescape' codec can't decode bytes in position 2-3: truncated \\UXXXXXXXX escape\n"
     ]
    }
   ],
   "source": [
    "with open(\"C:\\Users\\HP\\Documents\\vikas031\\vikas.txt\", \"w+\") as file : \n",
    "    data = file.read()\n",
    "    file.write(\"Hello files in python\")\n",
    "    print(file.read())\n",
    "    "
   ]
  },
  {
   "cell_type": "code",
   "execution_count": 71,
   "id": "b8265f05",
   "metadata": {},
   "outputs": [
    {
     "ename": "SyntaxError",
     "evalue": "(unicode error) 'unicodeescape' codec can't decode bytes in position 2-3: truncated \\UXXXXXXXX escape (760553640.py, line 1)",
     "output_type": "error",
     "traceback": [
      "\u001b[1;36m  Cell \u001b[1;32mIn[71], line 1\u001b[1;36m\u001b[0m\n\u001b[1;33m    file = open(\"C:\\Users\\HP\\Documents\\vikas031\\vikas,txt\");\u001b[0m\n\u001b[1;37m                                                          ^\u001b[0m\n\u001b[1;31mSyntaxError\u001b[0m\u001b[1;31m:\u001b[0m (unicode error) 'unicodeescape' codec can't decode bytes in position 2-3: truncated \\UXXXXXXXX escape\n"
     ]
    }
   ],
   "source": [
    "file = open(\"C:\\Users\\HP\\Documents\\vikas031\\vikas,txt\");\n",
    "print(file.read())"
   ]
  },
  {
   "cell_type": "markdown",
   "id": "cc18b0f3",
   "metadata": {},
   "source": [
    "# Numpy in python"
   ]
  },
  {
   "cell_type": "code",
   "execution_count": null,
   "id": "26e94d2b",
   "metadata": {},
   "outputs": [],
   "source": []
  },
  {
   "cell_type": "code",
   "execution_count": 3,
   "id": "d043d196",
   "metadata": {},
   "outputs": [
    {
     "ename": "AttributeError",
     "evalue": "module 'pandas' has no attribute '_version_'",
     "output_type": "error",
     "traceback": [
      "\u001b[1;31m---------------------------------------------------------------------------\u001b[0m",
      "\u001b[1;31mAttributeError\u001b[0m                            Traceback (most recent call last)",
      "Cell \u001b[1;32mIn[3], line 3\u001b[0m\n\u001b[0;32m      1\u001b[0m \u001b[38;5;28;01mimport\u001b[39;00m \u001b[38;5;21;01mpandas\u001b[39;00m \u001b[38;5;28;01mas\u001b[39;00m \u001b[38;5;21;01mpd\u001b[39;00m\n\u001b[0;32m      2\u001b[0m \u001b[38;5;28;01mimport\u001b[39;00m \u001b[38;5;21;01mnumpy\u001b[39;00m \u001b[38;5;28;01mas\u001b[39;00m \u001b[38;5;21;01mnp\u001b[39;00m\n\u001b[1;32m----> 3\u001b[0m pd\u001b[38;5;241m.\u001b[39m_version_\n",
      "File \u001b[1;32m~\\anaconda3\\New folder\\sad\\Lib\\site-packages\\pandas\\__init__.py:264\u001b[0m, in \u001b[0;36m__getattr__\u001b[1;34m(name)\u001b[0m\n\u001b[0;32m    260\u001b[0m     \u001b[38;5;28;01mfrom\u001b[39;00m \u001b[38;5;21;01mpandas\u001b[39;00m\u001b[38;5;21;01m.\u001b[39;00m\u001b[38;5;21;01mcore\u001b[39;00m\u001b[38;5;21;01m.\u001b[39;00m\u001b[38;5;21;01marrays\u001b[39;00m\u001b[38;5;21;01m.\u001b[39;00m\u001b[38;5;21;01msparse\u001b[39;00m \u001b[38;5;28;01mimport\u001b[39;00m SparseArray \u001b[38;5;28;01mas\u001b[39;00m _SparseArray\n\u001b[0;32m    262\u001b[0m     \u001b[38;5;28;01mreturn\u001b[39;00m _SparseArray\n\u001b[1;32m--> 264\u001b[0m \u001b[38;5;28;01mraise\u001b[39;00m \u001b[38;5;167;01mAttributeError\u001b[39;00m(\u001b[38;5;124mf\u001b[39m\u001b[38;5;124m\"\u001b[39m\u001b[38;5;124mmodule \u001b[39m\u001b[38;5;124m'\u001b[39m\u001b[38;5;124mpandas\u001b[39m\u001b[38;5;124m'\u001b[39m\u001b[38;5;124m has no attribute \u001b[39m\u001b[38;5;124m'\u001b[39m\u001b[38;5;132;01m{\u001b[39;00mname\u001b[38;5;132;01m}\u001b[39;00m\u001b[38;5;124m'\u001b[39m\u001b[38;5;124m\"\u001b[39m)\n",
      "\u001b[1;31mAttributeError\u001b[0m: module 'pandas' has no attribute '_version_'"
     ]
    }
   ],
   "source": [
    "import pandas as pd\n",
    "import numpy as np\n",
    "pd._version_"
   ]
  },
  {
   "cell_type": "code",
   "execution_count": 4,
   "id": "f471a7ff",
   "metadata": {},
   "outputs": [
    {
     "name": "stdout",
     "output_type": "stream",
     "text": [
      "Requirement already satisfied: pandas in c:\\users\\hp\\anaconda3\\new folder\\sad\\lib\\site-packages (1.5.3)\n",
      "Requirement already satisfied: python-dateutil>=2.8.1 in c:\\users\\hp\\anaconda3\\new folder\\sad\\lib\\site-packages (from pandas) (2.8.2)\n",
      "Requirement already satisfied: pytz>=2020.1 in c:\\users\\hp\\anaconda3\\new folder\\sad\\lib\\site-packages (from pandas) (2022.7)\n",
      "Requirement already satisfied: numpy>=1.21.0 in c:\\users\\hp\\anaconda3\\new folder\\sad\\lib\\site-packages (from pandas) (1.24.3)\n",
      "Requirement already satisfied: six>=1.5 in c:\\users\\hp\\anaconda3\\new folder\\sad\\lib\\site-packages (from python-dateutil>=2.8.1->pandas) (1.16.0)\n",
      "Note: you may need to restart the kernel to use updated packages.\n"
     ]
    }
   ],
   "source": [
    "pip install pandas"
   ]
  },
  {
   "cell_type": "code",
   "execution_count": 1,
   "id": "5e51f915",
   "metadata": {},
   "outputs": [
    {
     "name": "stdout",
     "output_type": "stream",
     "text": [
      "Requirement already satisfied: numpy in c:\\users\\hp\\anaconda3\\new folder\\sad\\lib\\site-packages (1.24.3)\n",
      "Note: you may need to restart the kernel to use updated packages.\n"
     ]
    }
   ],
   "source": [
    "pip install numpy"
   ]
  },
  {
   "cell_type": "code",
   "execution_count": 5,
   "id": "7d24d323",
   "metadata": {},
   "outputs": [],
   "source": [
    "#empty_series = pd.Series()\n",
    "#print(empty_series)"
   ]
  },
  {
   "cell_type": "code",
   "execution_count": 2,
   "id": "10b7256a",
   "metadata": {},
   "outputs": [
    {
     "name": "stdout",
     "output_type": "stream",
     "text": [
      "Series([], dtype: float64)\n"
     ]
    },
    {
     "name": "stderr",
     "output_type": "stream",
     "text": [
      "C:\\Windows\\Temp\\ipykernel_19528\\3578525756.py:4: FutureWarning: The default dtype for empty Series will be 'object' instead of 'float64' in a future version. Specify a dtype explicitly to silence this warning.\n",
      "  empty_series = pd.Series()\n"
     ]
    }
   ],
   "source": [
    "import pandas as pd\n",
    "import numpy as np\n",
    "#pd._version_ \n",
    "empty_series = pd.Series()\n",
    "print(empty_series)"
   ]
  },
  {
   "cell_type": "code",
   "execution_count": 6,
   "id": "afc89e4c",
   "metadata": {},
   "outputs": [
    {
     "name": "stdout",
     "output_type": "stream",
     "text": [
      "0    22\n",
      "1    33\n",
      "2    44\n",
      "3    55\n",
      "4    66\n",
      "dtype: int32\n",
      "[22 33 44 55 66]\n"
     ]
    }
   ],
   "source": [
    "arr = np.array([22,33,44,55,66])\n",
    "number_series = pd.Series(arr)\n",
    "print(number_series)\n",
    "#print(arr)"
   ]
  },
  {
   "cell_type": "code",
   "execution_count": 11,
   "id": "91702ee0",
   "metadata": {},
   "outputs": [
    {
     "name": "stdout",
     "output_type": "stream",
     "text": [
      "a    22\n",
      "b    33\n",
      "c    44\n",
      "d    55\n",
      "e    66\n",
      "Name: Number, dtype: int64\n"
     ]
    }
   ],
   "source": [
    "num_list = [22,33,44,55,66];\n",
    "number_series = pd.Series(num_list, index = ['a','b','c','d','e'], name =\"Number\")\n",
    "print(number_series)"
   ]
  },
  {
   "cell_type": "code",
   "execution_count": 12,
   "id": "4a2211f3",
   "metadata": {},
   "outputs": [],
   "source": [
    "data = {\"name \" : ['Sneha','Namitha', 'Sagar','Sowmya'],\"\"}"
   ]
  },
  {
   "cell_type": "code",
   "execution_count": null,
   "id": "421ae7e4",
   "metadata": {},
   "outputs": [],
   "source": []
  }
 ],
 "metadata": {
  "kernelspec": {
   "display_name": "Python 3 (ipykernel)",
   "language": "python",
   "name": "python3"
  },
  "language_info": {
   "codemirror_mode": {
    "name": "ipython",
    "version": 3
   },
   "file_extension": ".py",
   "mimetype": "text/x-python",
   "name": "python",
   "nbconvert_exporter": "python",
   "pygments_lexer": "ipython3",
   "version": "3.11.3"
  }
 },
 "nbformat": 4,
 "nbformat_minor": 5
}
