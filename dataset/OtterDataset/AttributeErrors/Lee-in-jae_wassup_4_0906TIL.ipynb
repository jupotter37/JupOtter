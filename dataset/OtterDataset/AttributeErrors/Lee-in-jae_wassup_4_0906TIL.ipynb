{
 "cells": [
  {
   "cell_type": "code",
   "execution_count": null,
   "id": "e8761026-a51c-4cdf-8906-cecfcc47c468",
   "metadata": {},
   "outputs": [],
   "source": [
    "#101\n",
    "#파이썬에서 True 혹은 False를 갖는 데이터 타입은 무엇인가?\n",
    "#bool"
   ]
  },
  {
   "cell_type": "code",
   "execution_count": 1,
   "id": "cb2c77af-6a24-4839-9966-3dbc4fb7a2e0",
   "metadata": {},
   "outputs": [
    {
     "name": "stdout",
     "output_type": "stream",
     "text": [
      "False\n"
     ]
    }
   ],
   "source": [
    "#102\n",
    "#아래 코드의 출력 결과를 예상하라\n",
    "print(3 == 5)\n",
    "#false"
   ]
  },
  {
   "cell_type": "code",
   "execution_count": 3,
   "id": "a121ded6-9bc0-4dbf-bf90-230119ca92b7",
   "metadata": {},
   "outputs": [
    {
     "name": "stdout",
     "output_type": "stream",
     "text": [
      "True\n"
     ]
    }
   ],
   "source": [
    "#103\n",
    "#아래 코드의 출력 결과를 예상하라\n",
    "print(3 < 5) \n",
    "# true"
   ]
  },
  {
   "cell_type": "code",
   "execution_count": 5,
   "id": "e309dd19-0ebc-43fd-97b3-69a7195a1717",
   "metadata": {},
   "outputs": [
    {
     "name": "stdout",
     "output_type": "stream",
     "text": [
      "True\n"
     ]
    }
   ],
   "source": [
    "#104\n",
    "#아래 코드의 결과를 예상하라.\n",
    "x = 4\n",
    "print(1 < x < 5) \n",
    "#true"
   ]
  },
  {
   "cell_type": "code",
   "execution_count": null,
   "id": "c6477a75-8226-41a6-a52a-26e6d7a671cf",
   "metadata": {},
   "outputs": [],
   "source": [
    "#105\n",
    "#아래 코드의 결과를 예상하라.\n",
    "print ((3 == 3) and (4 != 3))\n",
    "\n",
    "#True"
   ]
  },
  {
   "cell_type": "code",
   "execution_count": null,
   "id": "1f88dd16-2230-4aa4-9339-f4f4c086c7e8",
   "metadata": {},
   "outputs": [],
   "source": [
    "#106\n",
    "#아래 코드에서 에러가 발생하는 원인에 대해 설명하라.\n",
    "#print(3 => 4)"
   ]
  },
  {
   "cell_type": "code",
   "execution_count": 19,
   "id": "0527cf57-21f6-4149-920e-4664b7bd2999",
   "metadata": {},
   "outputs": [],
   "source": [
    "#107\n",
    "#아래 코드의 출력 결과를 예상하라\n",
    "if 4 < 3:\n",
    "    print(\"Hello World\") \n",
    "#출력 안됨"
   ]
  },
  {
   "cell_type": "code",
   "execution_count": 2,
   "id": "3952bf06-b6b2-4468-9a5a-69358d575f5f",
   "metadata": {},
   "outputs": [
    {
     "name": "stdout",
     "output_type": "stream",
     "text": [
      "Hi, there.\n"
     ]
    }
   ],
   "source": [
    "#108\n",
    "#아래 코드의 출력 결과를 예상하라\n",
    "if 4 < 3:\n",
    "    print(\"Hello World.\")\n",
    "else:\n",
    "    print(\"Hi, there.\")\n",
    "\n",
    "# Hi, there"
   ]
  },
  {
   "cell_type": "code",
   "execution_count": 4,
   "id": "c00b685d-275a-463d-826b-805832e3ae49",
   "metadata": {},
   "outputs": [
    {
     "name": "stdout",
     "output_type": "stream",
     "text": [
      "1\n",
      "2\n",
      "4\n"
     ]
    }
   ],
   "source": [
    "#109\n",
    "#아래 코드의 출력 결과를 예상하라\n",
    "if True :\n",
    "    print (\"1\")\n",
    "    print (\"2\")\n",
    "else :\n",
    "    print(\"3\")\n",
    "print(\"4\")\n",
    "\n"
   ]
  },
  {
   "cell_type": "code",
   "execution_count": 6,
   "id": "4a38ee99-79d8-49a5-8ff7-48bc1eccc386",
   "metadata": {},
   "outputs": [
    {
     "name": "stdout",
     "output_type": "stream",
     "text": [
      "3\n",
      "5\n"
     ]
    }
   ],
   "source": [
    "#110\n",
    "#아래 코드의 출력 결과를 예상하라\n",
    "if True :\n",
    "    if False:\n",
    "        print(\"1\")\n",
    "        print(\"2\")\n",
    "    else:\n",
    "        print(\"3\")\n",
    "else :\n",
    "    print(\"4\")\n",
    "print(\"5\")"
   ]
  },
  {
   "cell_type": "code",
   "execution_count": 10,
   "id": "ad844a74-f8a9-450c-998a-72e347628f83",
   "metadata": {},
   "outputs": [
    {
     "name": "stdin",
     "output_type": "stream",
     "text": [
      "입력: quit\n"
     ]
    },
    {
     "name": "stdout",
     "output_type": "stream",
     "text": [
      "quitquit\n"
     ]
    }
   ],
   "source": [
    "#111\n",
    "#사용자로부터 입력받은 문자열을 두 번 출력하라. 아래는 사용자가 \"안녕하세요\"를 입력한 경우의 출력 결과이다.\n",
    "\n",
    "#>> 안녕하세요\n",
    "#안녕하세요안녕하세요\n",
    "\n",
    "user = input(\"입력:\")\n",
    "print(user*2)"
   ]
  },
  {
   "cell_type": "code",
   "execution_count": 14,
   "id": "dad0af1e-b3e7-46e4-b184-f4c7c799d320",
   "metadata": {},
   "outputs": [
    {
     "name": "stdin",
     "output_type": "stream",
     "text": [
      "숫자를 입력하세요: 10\n"
     ]
    },
    {
     "name": "stdout",
     "output_type": "stream",
     "text": [
      "20\n"
     ]
    }
   ],
   "source": [
    "#112\n",
    "#사용자로부터 하나의 숫자를 입력받고, 입력 받은 숫자에 10을 더해 출력하라.\n",
    "\n",
    "#>> 숫자를 입력하세요: 30\n",
    "#40\n",
    "\n",
    "user = input(\"숫자를 입력하세요:\")\n",
    "print(int(user)+10)"
   ]
  },
  {
   "cell_type": "code",
   "execution_count": 16,
   "id": "27e4a2ac-777a-4abb-94d3-ccad11da90b8",
   "metadata": {},
   "outputs": [
    {
     "name": "stdin",
     "output_type": "stream",
     "text": [
      " 5\n"
     ]
    },
    {
     "name": "stdout",
     "output_type": "stream",
     "text": [
      "홀수\n"
     ]
    }
   ],
   "source": [
    "#113\n",
    "#사용자로부터 하나의 숫자를 입력 받고 짝수/홀수를 판별하라.\n",
    "\n",
    "#>> 30\n",
    "#짝수\n",
    "\n",
    "user = input(\"\")\n",
    "if int(user) % 2 == 0:\n",
    "    print(\"짝수\")\n",
    "else:\n",
    "    print(\"홀수\")"
   ]
  },
  {
   "cell_type": "code",
   "execution_count": 18,
   "id": "a2b9eee0-9029-4a68-8f08-c4c2b1bf6014",
   "metadata": {},
   "outputs": [
    {
     "name": "stdin",
     "output_type": "stream",
     "text": [
      "입력: 265\n"
     ]
    },
    {
     "name": "stdout",
     "output_type": "stream",
     "text": [
      "255\n"
     ]
    }
   ],
   "source": [
    "#114\n",
    "#사용자로부터 값을 입력받은 후 해당 값에 20을 더한 값을 출력하라. 단 사용자가 입력한 값과 20을 더한 계산 값이 255를 초과하는 경우 255를 출력해야 한다.\n",
    "\n",
    "#>> 입력값: 200\n",
    "#출력값: 220\n",
    "#>> 입력값: 240\n",
    "#출력값: 255\n",
    "\n",
    "user = input(\"입력:\")\n",
    "num = int(user)+20\n",
    "if num > 255:\n",
    "    print(255)\n",
    "else:\n",
    "    print(num)\n"
   ]
  },
  {
   "cell_type": "code",
   "execution_count": 20,
   "id": "82afbbf9-7ab5-4d97-bc97-45a15efab8c8",
   "metadata": {},
   "outputs": [
    {
     "name": "stdin",
     "output_type": "stream",
     "text": [
      "입력값: 14\n"
     ]
    },
    {
     "name": "stdout",
     "output_type": "stream",
     "text": [
      "0\n"
     ]
    }
   ],
   "source": [
    "#115\n",
    "#사용자로부터 하나의 값을 입력받은 후 해당 값에 20을 뺀 값을 출력하라. 단 출력 값의 범위는 0~255이다. 예를 들어 결괏값이 0보다 작은 값이되는 경우 0을 출력하고 255보다 큰 값이 되는 경우 255를 출력해야 한다.\n",
    "\n",
    "#>> 입력값: 200\n",
    "#출력값: 180\n",
    "#>> 입력값: 15\n",
    "#출력값: 0\n",
    "\n",
    "user = input(\"입력값:\")\n",
    "num = int(user) - 20\n",
    "if num < 0:\n",
    "    print(0)\n",
    "elif num > 255:\n",
    "    print(255)\n",
    "else:\n",
    "    print(num)"
   ]
  },
  {
   "cell_type": "code",
   "execution_count": 22,
   "id": "37cfdfdb-2aec-423b-8a7a-1602091f1f2d",
   "metadata": {},
   "outputs": [
    {
     "name": "stdin",
     "output_type": "stream",
     "text": [
      "현재시간: 12:20\n"
     ]
    },
    {
     "name": "stdout",
     "output_type": "stream",
     "text": [
      "정각이 아닙니다.\n"
     ]
    }
   ],
   "source": [
    "#116\n",
    "#사용자로부터 입력 받은 시간이 정각인지 판별하라.\n",
    "\n",
    "#>> 현재시간:02:00\n",
    "#정각 입니다.\n",
    "#>> 현재시간:03:10\n",
    "#정각이 아닙니다\n",
    "\n",
    "time = input(\"현재시간:\")\n",
    "if time[-2:] == \"00\":\n",
    "    print(\"정각 입니다.\")\n",
    "else:\n",
    "    print(\"정각이 아닙니다.\")"
   ]
  },
  {
   "cell_type": "code",
   "execution_count": 24,
   "id": "2f92846b-9873-47d2-a395-fbcfc6c39b99",
   "metadata": {},
   "outputs": [
    {
     "name": "stdin",
     "output_type": "stream",
     "text": [
      "과일 포도\n"
     ]
    },
    {
     "name": "stdout",
     "output_type": "stream",
     "text": [
      "정답입니다.\n"
     ]
    }
   ],
   "source": [
    "#117\n",
    "#사용자로 입력받은 단어가 아래 fruit 리스트에 포함되어 있는지를 확인하라. 포함되었다면 \"정답입니다\"를 아닐 경우 \"오답입니다\" 출력하라.\n",
    "\n",
    "#fruit = [\"사과\", \"포도\", \"홍시\"]\n",
    "#>> 좋아하는 과일은? 사과\n",
    "#정답입니다.\n",
    "\n",
    "fruit = [\"사과\", \"포도\", \"홍시\"]\n",
    "user = input(\"과일\")\n",
    "if user in fruit:\n",
    "    print(\"정답입니다.\")\n",
    "else:\n",
    "    print(\"오답입니다.\")"
   ]
  },
  {
   "cell_type": "code",
   "execution_count": 26,
   "id": "da6b8679-3748-41c8-95c1-4dc9ce70b0f2",
   "metadata": {},
   "outputs": [
    {
     "name": "stdin",
     "output_type": "stream",
     "text": [
      "종목명:  Google\n"
     ]
    },
    {
     "name": "stdout",
     "output_type": "stream",
     "text": [
      "투자 경고 종목입니다.\n"
     ]
    }
   ],
   "source": [
    "#118\n",
    "#투자 경고 종목 리스트가 있을 때 사용자로부터 종목명을 입력 받은 후 해당 종목이 투자 경고 종목이라면 '투자 경고 종목입니다'를 아니면 \"투자 경고 종목이 아닙니다.\"를 출력하는 프로그램을 작성하라.\n",
    "\n",
    "warn_investment_list = [\"Microsoft\", \"Google\", \"Naver\", \"Kakao\", \"SAMSUNG\", \"LG\"]\n",
    "종목 = input(\"종목명: \")\n",
    "if 종목 in warn_investment_list:\n",
    "    print(\"투자 경고 종목입니다.\")\n",
    "else:\n",
    "    print(\"투자 경고 종목이 아닙니다.\")\n"
   ]
  },
  {
   "cell_type": "code",
   "execution_count": 156,
   "id": "c3e5b8af-6feb-4285-a616-a0957a88738a",
   "metadata": {},
   "outputs": [
    {
     "name": "stdin",
     "output_type": "stream",
     "text": [
      "제가 좋아하는 계절은:  딸기\n"
     ]
    },
    {
     "name": "stdout",
     "output_type": "stream",
     "text": [
      "오답입니다.\n"
     ]
    }
   ],
   "source": [
    "#119\n",
    "#아래와 같이 fruit 딕셔너리가 정의되어 있다. 사용자가 입력한 값이 딕셔너리 키 (key) 값에 포함되었다면 \"정답입니다\"를 아닐 경우 \"오답입니다\" 출력하라.\n",
    "\n",
    "#fruit = {\"봄\" : \"딸기\", \"여름\" : \"토마토\", \"가을\" : \"사과\"}\n",
    "#>> 제가좋아하는계절은: 봄\n",
    "#정답입니다.\n",
    "fruit = {\"봄\" : \"딸기\", \"여름\" : \"토마토\", \"가을\" : \"사과\"}\n",
    "s = input(\"제가 좋아하는 계절은: \")\n",
    "if s in fruit:\n",
    "    print(\"정답입니다.\")\n",
    "else:\n",
    "    print(\"오답입니다.\")"
   ]
  },
  {
   "cell_type": "code",
   "execution_count": 160,
   "id": "130ed4b6-1612-4268-bfc1-7114323a48bb",
   "metadata": {},
   "outputs": [
    {
     "name": "stdin",
     "output_type": "stream",
     "text": [
      "좋아하는과일은?  딸기\n"
     ]
    },
    {
     "ename": "AttributeError",
     "evalue": "'dict' object has no attribute 'valuse'",
     "output_type": "error",
     "traceback": [
      "\u001b[1;31m---------------------------------------------------------------------------\u001b[0m",
      "\u001b[1;31mAttributeError\u001b[0m                            Traceback (most recent call last)",
      "Cell \u001b[1;32mIn[160], line 9\u001b[0m\n\u001b[0;32m      7\u001b[0m fruit \u001b[38;5;241m=\u001b[39m {\u001b[38;5;124m\"\u001b[39m\u001b[38;5;124m봄\u001b[39m\u001b[38;5;124m\"\u001b[39m : \u001b[38;5;124m\"\u001b[39m\u001b[38;5;124m딸기\u001b[39m\u001b[38;5;124m\"\u001b[39m, \u001b[38;5;124m\"\u001b[39m\u001b[38;5;124m여름\u001b[39m\u001b[38;5;124m\"\u001b[39m : \u001b[38;5;124m\"\u001b[39m\u001b[38;5;124m토마토\u001b[39m\u001b[38;5;124m\"\u001b[39m, \u001b[38;5;124m\"\u001b[39m\u001b[38;5;124m가을\u001b[39m\u001b[38;5;124m\"\u001b[39m : \u001b[38;5;124m\"\u001b[39m\u001b[38;5;124m사과\u001b[39m\u001b[38;5;124m\"\u001b[39m}\n\u001b[0;32m      8\u001b[0m f \u001b[38;5;241m=\u001b[39m \u001b[38;5;28minput\u001b[39m(\u001b[38;5;124m\"\u001b[39m\u001b[38;5;124m좋아하는과일은? \u001b[39m\u001b[38;5;124m\"\u001b[39m)\n\u001b[1;32m----> 9\u001b[0m \u001b[38;5;28;01mif\u001b[39;00m f \u001b[38;5;129;01min\u001b[39;00m fruit\u001b[38;5;241m.\u001b[39mvaluse():\n\u001b[0;32m     10\u001b[0m     \u001b[38;5;28mprint\u001b[39m(\u001b[38;5;124m\"\u001b[39m\u001b[38;5;124m정답입니다.\u001b[39m\u001b[38;5;124m\"\u001b[39m)\n\u001b[0;32m     11\u001b[0m \u001b[38;5;28;01melse\u001b[39;00m:\n",
      "\u001b[1;31mAttributeError\u001b[0m: 'dict' object has no attribute 'valuse'"
     ]
    }
   ],
   "source": [
    "#120\n",
    "#아래와 같이 fruit 딕셔너리가 정의되어 있다. 사용자가 입력한 값이 딕셔너리 값 (value)에 포함되었다면 \"정답입니다\"를 아닐 경우 \"오답입니다\" 출력하라.\n",
    "\n",
    "#fruit = {\"봄\" : \"딸기\", \"여름\" : \"토마토\", \"가을\" : \"사과\"}\n",
    "#>> 좋아하는과일은? 한라봉\n",
    "#오답입니다.\n",
    "fruit = {\"봄\" : \"딸기\", \"여름\" : \"토마토\", \"가을\" : \"사과\"}\n",
    "f = input(\"좋아하는과일은? \")\n",
    "if f in fruit.values():\n",
    "    print(\"정답입니다.\")\n",
    "else:\n",
    "    print(\"오답입니다.\")"
   ]
  },
  {
   "cell_type": "code",
   "execution_count": null,
   "id": "19f4ae2c-8337-4904-8303-f0790f09b71b",
   "metadata": {},
   "outputs": [],
   "source": []
  },
  {
   "cell_type": "code",
   "execution_count": null,
   "id": "588bd63a-79f5-4749-9de9-0ff263dc7094",
   "metadata": {},
   "outputs": [],
   "source": []
  },
  {
   "cell_type": "code",
   "execution_count": 42,
   "id": "d3caa3d6-baca-40a9-bd4c-4e5325d0fcde",
   "metadata": {},
   "outputs": [
    {
     "name": "stdin",
     "output_type": "stream",
     "text": [
      "입력: 5 엔\n"
     ]
    },
    {
     "ename": "IndexError",
     "evalue": "list index out of range",
     "output_type": "error",
     "traceback": [
      "\u001b[1;31m---------------------------------------------------------------------------\u001b[0m",
      "\u001b[1;31mIndexError\u001b[0m                                Traceback (most recent call last)",
      "Cell \u001b[1;32mIn[42], line 15\u001b[0m\n\u001b[0;32m     13\u001b[0m a \u001b[38;5;241m=\u001b[39m \u001b[38;5;28minput\u001b[39m(\u001b[38;5;124m\"\u001b[39m\u001b[38;5;124m입력:\u001b[39m\u001b[38;5;124m\"\u001b[39m)\u001b[38;5;241m.\u001b[39msplit(\u001b[38;5;124m\"\u001b[39m\u001b[38;5;124m \u001b[39m\u001b[38;5;124m\"\u001b[39m)\n\u001b[0;32m     14\u001b[0m l \u001b[38;5;241m=\u001b[39m \u001b[38;5;28mint\u001b[39m(a[\u001b[38;5;241m0\u001b[39m])\n\u001b[1;32m---> 15\u001b[0m d \u001b[38;5;241m=\u001b[39m a[l]\n\u001b[0;32m     16\u001b[0m \u001b[38;5;28mprint\u001b[39m(l, \u001b[38;5;28mtype\u001b[39m(l))\n\u001b[0;32m     17\u001b[0m \u001b[38;5;28mprint\u001b[39m(d, \u001b[38;5;28mtype\u001b[39m(d))\n",
      "\u001b[1;31mIndexError\u001b[0m: list index out of range"
     ]
    }
   ],
   "source": [
    "#123\n",
    "#사용자로부터 달러, 엔, 유로, 또는 위안 금액을 입력받은 후 이를 원으로 변환하는 프로그램을 작성하라. \n",
    "#각 통화별 환율은 다음과 같다. 사용자는 100 달러, 1000 엔, 13 유로, 100 위안과 같이 금액과 통화명 사이에 공백을 넣어 입력한다고 가정한다.\n",
    "\n",
    "#통화명\t환율\n",
    "#달러\t1167\n",
    "#엔\t1.096\n",
    "#유로\t1268\n",
    "#위안\t171\n",
    "#>> 입력: 100 달러\n",
    "#116700.00 원\n",
    "r = {\"달러\":1167, \"엔\":1.096, \"유로\":1268, \"위안\":171}\n",
    "a = input(\"입력:\").split(\" \")\n",
    "l = int(a[0])\n",
    "d = a[l]\n",
    "print(l, type(l))\n",
    "print(d, type(d))\n",
    "print(r.get(d))\n",
    "\n",
    "print(l * r.get(d))\n",
    "print(f'l * r.get(d)+\"원\")"
   ]
  },
  {
   "cell_type": "code",
   "execution_count": null,
   "id": "26a9407a-485f-499c-b9a1-1e0dd7be96c9",
   "metadata": {},
   "outputs": [],
   "source": [
    "#124\n",
    "#사용자로부터 세 개의 숫자를 입력 받은 후 가장 큰 숫자를 출력하라.\n",
    "\n",
    "#>> input number1: 10\n",
    "#>> input number2: 9\n",
    "#>> input number3: 20\n",
    "#20\n",
    "\n"
   ]
  },
  {
   "cell_type": "code",
   "execution_count": null,
   "id": "47844dac-cd8c-4829-ae4c-bed0b6294799",
   "metadata": {},
   "outputs": [],
   "source": [
    "#125\n",
    "#휴대폰 번호 앞자리에 따라 통신사는 아래와 같이 구분된다. 사용자로부터 휴대전화 번호를 입력 받고, 통신사를 출력하는 프로그램을 작성하라.\n",
    "\n",
    "#번호\t통신사\n",
    "#011\tSKT\n",
    "#016\tKT\n",
    "#019\tLGU\n",
    "#010\t알수없음\n",
    "#>> 휴대전화 번호 입력: 011-345-1922\n",
    "#당신은 SKT 사용자입니다.\n",
    "\n"
   ]
  },
  {
   "cell_type": "code",
   "execution_count": 46,
   "id": "9f00c960-27e5-44e3-be7e-1b6d19d8cde9",
   "metadata": {},
   "outputs": [
    {
     "name": "stdin",
     "output_type": "stream",
     "text": [
      "우편번호:  01900\n"
     ]
    },
    {
     "name": "stdout",
     "output_type": "stream",
     "text": [
      "노원구\n"
     ]
    }
   ],
   "source": [
    "#126\n",
    "#우편번호는 5자리로 구성되는데, 앞의 세자리는 구를 나타낸다. 예를들어, 강북구의 경우 010, 011, 012 세 자리로 시작한다.\n",
    "\n",
    "#-\t0\t1\t2\t3\t4\t5\t6\t7\t8\t9\n",
    "#01\t강북구\t강북구\t강북구\t도봉구\t도봉구\t도봉구\t노원구\t노원구\t노원구\t노원구\n",
    "#사용자로 부터 5자리 우편번호를 입력받고 구를 판별하라\n",
    "\n",
    "#>> 우편번호: 01400\n",
    "#도봉구\n",
    "\n",
    "a = input(\"우편번호: \")\n",
    "b = a[:3]\n",
    "if b == \"010\" or b ==\"011\" or b ==\"012\":\n",
    "    print(\"강북구\")\n",
    "elif b ==\"013\" or b ==\"014\" or b == \"015\":\n",
    "    print(\"도봉구\")\n",
    "elif b == \"016\" or b == \"017\" or b == \"018\" or b == \"019\":\n",
    "    print(\"노원구\")\n"
   ]
  },
  {
   "cell_type": "code",
   "execution_count": 48,
   "id": "7088edd6-4726-4f05-ac60-31eadd3e7cff",
   "metadata": {},
   "outputs": [
    {
     "name": "stdin",
     "output_type": "stream",
     "text": [
      "주민등로번호:  980407-1254631\n"
     ]
    },
    {
     "name": "stdout",
     "output_type": "stream",
     "text": [
      "남자\n"
     ]
    }
   ],
   "source": [
    "#127\n",
    "#주민등록번호 뒷 자리 7자리 중 첫째 자리는 성별을 나타내는데, 1, 3은 남자 2, 4는 여자를 의미한다. 사용자로부터 13자리의 주민등록번호를 입력 받은 후 성별 (남자, 여자)를 출력하는 프로그램을 작성하라.\n",
    "\n",
    "#>> 주민등록번호: 821010-1635210\n",
    "#남자\n",
    "\n",
    "a = input(\"주민등로번호: \")\n",
    "b = int(a[7])\n",
    "if b == 1 or b == 3:\n",
    "    print(\"남자\")\n",
    "elif b == 2 or b == 4:\n",
    "    print(\"여자\")"
   ]
  },
  {
   "cell_type": "code",
   "execution_count": 52,
   "id": "e970afa1-2bd3-466a-941d-33d9c84d5284",
   "metadata": {},
   "outputs": [
    {
     "name": "stdin",
     "output_type": "stream",
     "text": [
      "주민등록번호:  861010-1015210\n"
     ]
    },
    {
     "name": "stdout",
     "output_type": "stream",
     "text": [
      "서울\n"
     ]
    }
   ],
   "source": [
    "#128\n",
    "#주민등록번호의 뒷 자리 7자리 중 두번째와 세번째는 지역코드를 의미한다. 주민 등록 번호를 입력 받은 후 출생지가 서울인지 아닌지 판단하는 코드를 작성하라\n",
    "\n",
    "#지역코드\t출생지\n",
    "#00 ~ 08\t서울\n",
    "#09 ~ 12\t부산\n",
    "#>> 주민등록번호: 821010-1635210\n",
    "#서울이 아닙니다.\n",
    "#>> 주민등록번호: 861010-1015210\n",
    "#서울 입니다.\n",
    "a = input(\"주민등록번호: \")\n",
    "b = a[8:10]\n",
    "c = int(a[8:10])\n",
    "if c >= 0 and c < 9:\n",
    "    print(\"서울\")\n",
    "else: \n",
    "    print(\"지방\")\n"
   ]
  },
  {
   "cell_type": "code",
   "execution_count": 64,
   "id": "6c75f174-20c9-44bb-9f50-8ab4f68744f8",
   "metadata": {},
   "outputs": [
    {
     "name": "stdin",
     "output_type": "stream",
     "text": [
      "주민등록번호 821010-1635210\n"
     ]
    },
    {
     "name": "stdout",
     "output_type": "stream",
     "text": [
      "유효하지 않음\n"
     ]
    }
   ],
   "source": [
    "# 129\n",
    "# 주민등록번호는 13자리로 구성되는데 마지막 자리수는 주민등록번호의 유효성을 체크하는데 사용된다. 먼저 앞에서부터 12자리의 숫자에 2, 3, 4, 5, 6, 7, 8, 9, 2, 3, 4, 5를 차례로 곱한 뒤 그 값을 전부 더한다. 연산 결과 값을 11로 나누면 나머지가 나오는데 11에서 나머지를 뺀 값이 주민등록번호의 마지막 번호가 된다.\n",
    "\n",
    "#   8 2 1 0 1 0 - 1 6 3 5 2 1 0\n",
    "# x 2 3 4 5 6 7   8 9 2 3 4 5 \n",
    "# -----------------------------\n",
    "# 1차 계산: (8*2 + 2*3 + 1*4 + 0*5 + 1*6 + 0*7 + 1*8 + 6*9 + 3*2 + 5*3 + 2*4 + 1*5) = (128 % 11) = 7\n",
    "# 2차 계산: 11 -7 = 4\n",
    "# 위와 같이 821010-1635210에 대해서 계산을 해보면 마지막 자리는 4가 되어야 함을 알 수 있다. 즉, 821010-1635210은 유효하지 않은 주민등록번호임을 알 수 있다.\n",
    "\n",
    "# 다음과 같이 사용자로부터 주민등록번호를 입력받은 후 주민등록번호가 유효한지를 출력하는 프로그램을 작성하라.\n",
    "\n",
    "# >> 주민등록번호: 821010-1635210\n",
    "# 유효하지 않은 주민등록번호입니다. \n",
    "\n",
    "a = input(\"주민등록번호\")\n",
    "b = int( a[0]*2) + int(a[1]*3) + int(a[3]*5) + int(a[4]*6) + int(a[5]*7) + int(a[7]*8) + int(a[8]*9) + int(a[9]*2) + int(a[10]*3) + int(a[11]*4) + int(a[12]*5)\n",
    "c = b%11\n",
    "d = str(d)\n",
    "if e == int(a[-1]):\n",
    "    print(\"유효\")\n",
    "else:\n",
    "    print(\"유효하지 않음\")"
   ]
  },
  {
   "cell_type": "code",
   "execution_count": 66,
   "id": "06711bd3-bd38-41fa-bb40-7d98b746b99c",
   "metadata": {},
   "outputs": [
    {
     "name": "stdout",
     "output_type": "stream",
     "text": [
      "상승장\n"
     ]
    }
   ],
   "source": [
    "# 130\n",
    "# 아래 코드는 비트코인의 가격 정보를 딕셔너리로 가져오는 코드이다.\n",
    "\n",
    "import requests\n",
    "btc = requests.get(\"https://api.bithumb.com/public/ticker/\").json()['data']\n",
    "# btc 딕셔너리 안에는 시가, 종가, 최고가, 최저가 등이 저장되어 있다. 최고가와 최저가의 차이를 변동폭으로 정의할 때 (시가 + 변동폭)이 최고가 보다 높을 경우 \"상승장\", 그렇지 않은 경우 \"하락장\" 문자열을 출력하라.\n",
    "\n",
    "# Key Name\tDescription\n",
    "# opening_price\t최근 24시간 내 시작 거래금액\n",
    "# closing_price\t최근 24시간 내 마지막 거래금액\n",
    "# min_price\t최근 24시간 내 최저 거래금액\n",
    "# max_price\t최근 24시간 내 최고 거래금액\n",
    "a = float(btc[\"opening_price\"])\n",
    "b = float(btc['max_price']) - float(btc['min_price']) #변동폭\n",
    "c = a+b\n",
    "if c > float(btc['max_price']):\n",
    "    print(\"상승장\")\n",
    "else:\n",
    "    print(\"하락장\")"
   ]
  },
  {
   "cell_type": "code",
   "execution_count": null,
   "id": "e4ea6f97-c78b-4c65-9831-8bd343523e27",
   "metadata": {},
   "outputs": [],
   "source": [
    "# 131\n",
    "# for문의 실행결과를 예측하라.\n",
    "\n",
    "과일 = [\"사과\", \"귤\", \"수박\"]\n",
    "for 변수 in 과일:\n",
    "     print(변수)\n",
    "\n",
    "#\" 사과\", \"귤\", \"수박\""
   ]
  },
  {
   "cell_type": "code",
   "execution_count": null,
   "id": "020ff063-2675-4082-8bde-8bf5fd02c3d1",
   "metadata": {},
   "outputs": [],
   "source": [
    "# 132\n",
    "# for문의 실행결과를 예측하라.\n",
    "\n",
    "# 과일 = [\"사과\", \"귤\", \"수박\"]\n",
    "# for 변수 in 과일:\n",
    "#   print(\"#####\")\n",
    "# \"####\""
   ]
  },
  {
   "cell_type": "code",
   "execution_count": null,
   "id": "83c796a7-ead2-4e20-9768-949d8304bdd2",
   "metadata": {},
   "outputs": [],
   "source": [
    "# 133\n",
    "# 다음 for 문과 동일한 기능을 수행하는 코드를 작성하세요.\n",
    "\n",
    "# for 변수 in [\"A\", \"B\", \"C\"]:\n",
    "#   # print(변수)\n",
    "#\"A\",\"b\",\"c\""
   ]
  },
  {
   "cell_type": "code",
   "execution_count": null,
   "id": "981d3085-4177-418f-bfe4-bc180fa85fc5",
   "metadata": {},
   "outputs": [],
   "source": [
    "# 134\n",
    "# for문을 풀어서 동일한 동작을하는 코드를 작성하라.\n",
    "\n",
    "# for 변수 in [\"A\", \"B\", \"C\"]:\n",
    "#   print(\"출력:\", 변수)\n",
    "\n",
    "# \"출략\", a,b,c"
   ]
  },
  {
   "cell_type": "code",
   "execution_count": 70,
   "id": "34518e62-4a07-48c7-93a0-00a7e7a1dabb",
   "metadata": {},
   "outputs": [
    {
     "ename": "IndentationError",
     "evalue": "expected an indented block after 'for' statement on line 4 (3443683509.py, line 5)",
     "output_type": "error",
     "traceback": [
      "\u001b[1;36m  Cell \u001b[1;32mIn[70], line 5\u001b[1;36m\u001b[0m\n\u001b[1;33m    b = 변수.lower()\u001b[0m\n\u001b[1;37m    ^\u001b[0m\n\u001b[1;31mIndentationError\u001b[0m\u001b[1;31m:\u001b[0m expected an indented block after 'for' statement on line 4\n"
     ]
    }
   ],
   "source": [
    "# 135\n",
    "# for문을 풀어서 동일한 동작을 하는 코드를 작성하라.\n",
    "\n",
    "for 변수 in [\"A\", \"B\", \"C\"]:\n",
    "b = 변수.lower()\n",
    "print(\"변환:\", b)\n",
    "\n"
   ]
  },
  {
   "cell_type": "code",
   "execution_count": 76,
   "id": "a12a242e-f33a-4c1a-8f5c-cdd6df354513",
   "metadata": {},
   "outputs": [
    {
     "name": "stdout",
     "output_type": "stream",
     "text": [
      "10\n",
      "20\n",
      "30\n",
      "10\n",
      "20\n",
      "30\n"
     ]
    }
   ],
   "source": [
    "#136\n",
    "#다음 코드를 for문으로 작성하라.\n",
    "\n",
    "변수 = 10\n",
    "print(변수)\n",
    "변수 = 20\n",
    "print(변수)\n",
    "변수 = 30\n",
    "print(변수)\n",
    "\n",
    "for 변수 in ['10', '20', '30']:\n",
    "    print(변수)"
   ]
  },
  {
   "cell_type": "code",
   "execution_count": 78,
   "id": "f7ede1a8-d505-45dc-b86a-385f6c962f03",
   "metadata": {},
   "outputs": [
    {
     "name": "stdout",
     "output_type": "stream",
     "text": [
      "10\n",
      "20\n",
      "30\n"
     ]
    }
   ],
   "source": [
    "#137\n",
    "#다음 코드를 for문으로 작성하라.\n",
    "\n",
    "#print(10)\n",
    "#print(20)\n",
    "#print(30)\n",
    "\n",
    "for 변수 in [10, 20, 30]:\n",
    "  print(변수)"
   ]
  },
  {
   "cell_type": "code",
   "execution_count": 80,
   "id": "aed5596a-e12e-45df-8193-16bfd62b2feb",
   "metadata": {},
   "outputs": [
    {
     "name": "stdout",
     "output_type": "stream",
     "text": [
      "\"++++\"\n",
      "10\n",
      "20\n",
      "30\n"
     ]
    }
   ],
   "source": [
    "# 138\n",
    "# 다음 코드를 for문으로 작성하라.\n",
    "\n",
    "# print(10)\n",
    "# print(\"-------\")\n",
    "# print(20)\n",
    "# print(\"-------\")\n",
    "# print(30)\n",
    "# print(\"-------\")\n",
    "\n",
    "for a in ['\"++++\"', '10', '20', '30']:\n",
    "    print(a)"
   ]
  },
  {
   "cell_type": "code",
   "execution_count": 84,
   "id": "9ff182b5-6ea1-4abc-b097-6bd284499b76",
   "metadata": {},
   "outputs": [
    {
     "name": "stdout",
     "output_type": "stream",
     "text": [
      "\"++++\"\n",
      "10\n",
      "20\n",
      "30\n"
     ]
    }
   ],
   "source": [
    "# 139\n",
    "# 다음 코드를 for문으로 작성하라.\n",
    "\n",
    "# print(\"++++\")\n",
    "# print(10)\n",
    "# print(20)\n",
    "# print(30)\n",
    "\n",
    "for a in ['\"++++\"', '10', '20', '30']:\n",
    "     print(a)"
   ]
  },
  {
   "cell_type": "code",
   "execution_count": 86,
   "id": "3c2a78f6-6a5f-45af-b237-70c91b69eb07",
   "metadata": {},
   "outputs": [
    {
     "name": "stdout",
     "output_type": "stream",
     "text": [
      "-------\n",
      "-------\n",
      "-------\n",
      "-------\n"
     ]
    }
   ],
   "source": [
    "# 140\n",
    "# 다음 코드를 for문으로 작성하라.\n",
    "\n",
    "# print(\"-------\")\n",
    "# print(\"-------\")\n",
    "# print(\"-------\")\n",
    "# print(\"-------\")\n",
    "\n",
    "for a in ['10', '20', '30', '40']:\n",
    "    print(\"-------\")"
   ]
  },
  {
   "cell_type": "code",
   "execution_count": 88,
   "id": "58f4408b-273c-4339-94ee-b014c014d4c5",
   "metadata": {},
   "outputs": [
    {
     "name": "stdout",
     "output_type": "stream",
     "text": [
      "110\n",
      "210\n",
      "310\n"
     ]
    }
   ],
   "source": [
    "# 141\n",
    "# 다음과 같이 판매가가 저장된 리스트가 있을 때 부가세가 포함된 가격을 for 문을 사용해서 화면에 출력하라. 단 부가세는 10원으로 가정한다.\n",
    "\n",
    "# 리스트 = [100, 200, 300]\n",
    "# 110\n",
    "# 210\n",
    "# 310\n",
    "l1 = [100, 200, 300]\n",
    "for b in l1:\n",
    "    print(int(b) + 10)"
   ]
  },
  {
   "cell_type": "code",
   "execution_count": 92,
   "id": "63e48018-cdea-46cd-bbf3-36597fdcf1af",
   "metadata": {},
   "outputs": [
    {
     "name": "stdout",
     "output_type": "stream",
     "text": [
      "오늘의 메뉴: 김밥\n",
      "오늘의 메뉴: 라면\n",
      "오늘의 메뉴: 튀김\n"
     ]
    }
   ],
   "source": [
    "# 142\n",
    "# for 문을 사용해서 리스트에 저장된 값을 다음과 같이 출력하라.\n",
    "\n",
    "# 리스트 = [\"김밥\", \"라면\", \"튀김\"]\n",
    "# 오늘의 메뉴: 김밥\n",
    "# 오늘의 메뉴: 라면\n",
    "# 오늘의 메뉴: 튀김\n",
    "\n",
    "l1 = [\"김밥\", \"라면\", \"튀김\"]\n",
    "for m in l1:\n",
    "    print(\"오늘의 메뉴: \" + m)"
   ]
  },
  {
   "cell_type": "code",
   "execution_count": 94,
   "id": "e9697a72-fdc4-414c-a165-cfc34a58723f",
   "metadata": {},
   "outputs": [
    {
     "name": "stdout",
     "output_type": "stream",
     "text": [
      "6\n",
      "4\n",
      "4\n"
     ]
    }
   ],
   "source": [
    "# 143\n",
    "# 리스트에 주식 종목이름이 저장돼 있다.\n",
    "\n",
    "# 리스트 = [\"SK하이닉스\", \"삼성전자\", \"LG전자\"]\n",
    "# 저장된 문자열의 길이를 다음과 같이 출력하라.\n",
    "\n",
    "# 6\n",
    "# 4\n",
    "# 4\n",
    "l1 = [\"SK하이닉스\", \"삼성전자\", \"LG전자\"]\n",
    "for c in l1:\n",
    "    print(len(c))\n"
   ]
  },
  {
   "cell_type": "code",
   "execution_count": 96,
   "id": "24d72072-df49-403c-8f0d-d9ed7c0c4a61",
   "metadata": {},
   "outputs": [
    {
     "name": "stdout",
     "output_type": "stream",
     "text": [
      "dog 3\n",
      "cat 3\n",
      "parrot 6\n"
     ]
    }
   ],
   "source": [
    "# 144\n",
    "# 리스트에는 동물이름이 문자열로 저장돼 있다.\n",
    "\n",
    "# 리스트 = ['dog', 'cat', 'parrot']\n",
    "# 동물 이름과 글자수를 다음과 같이 출력하라.\n",
    "\n",
    "# dog 3\n",
    "# cat 3\n",
    "# parrot 6\n",
    "\n",
    "l1 = ['dog', 'cat', 'parrot']\n",
    "for a in l1:\n",
    "    print(a, len(a))"
   ]
  },
  {
   "cell_type": "code",
   "execution_count": 98,
   "id": "3f31440a-1565-44dd-b62e-53f4d029344d",
   "metadata": {},
   "outputs": [
    {
     "name": "stdout",
     "output_type": "stream",
     "text": [
      "d\n",
      "c\n",
      "p\n"
     ]
    }
   ],
   "source": [
    "# 145\n",
    "# 리스트에 동물 이름 저장돼 있다.\n",
    "\n",
    "# 리스트 = ['dog', 'cat', 'parrot']\n",
    "# for문을 사용해서 동물 이름의 첫 글자만 출력하라.\n",
    "\n",
    "# d\n",
    "# c\n",
    "# p\n",
    "\n",
    "l1 = ['dog', 'cat', 'parrot']\n",
    "for a in l1:\n",
    "    print(a[0])"
   ]
  },
  {
   "cell_type": "code",
   "execution_count": 104,
   "id": "552c98a4-032c-42c3-ba5f-7effff8c1d67",
   "metadata": {},
   "outputs": [
    {
     "name": "stdout",
     "output_type": "stream",
     "text": [
      "3 x 1\n",
      "3 x 2\n",
      "3 x 3\n"
     ]
    }
   ],
   "source": [
    "# 146\n",
    "# 리스트에는 세 개의 숫자가 바인딩돼 있다.\n",
    "\n",
    "# 리스트 = [1, 2, 3]\n",
    "# for문을 사용해서 다음과 같이 출력하라.\n",
    "\n",
    "# 3 x 1\n",
    "# 3 x 2\n",
    "# 3 x 3\n",
    "\n",
    "l1 = [1, 2, 3]\n",
    "for n in l1:\n",
    "    print(\"3 x\", n)"
   ]
  },
  {
   "cell_type": "code",
   "execution_count": 110,
   "id": "8186b450-1835-402b-b314-30e7b3146500",
   "metadata": {},
   "outputs": [
    {
     "name": "stdout",
     "output_type": "stream",
     "text": [
      "3 x 1 = 3\n",
      "3 x 2 = 6\n",
      "3 x 3 = 9\n"
     ]
    }
   ],
   "source": [
    "# 147\n",
    "# 리스트에는 세 개의 숫자가 바인딩돼 있다.\n",
    "\n",
    "# 리스트 = [1, 2, 3]\n",
    "# for문을 사용해서 다음과 같이 출력하라.\n",
    "\n",
    "# 3 x 1 = 3\n",
    "# 3 x 2 = 6\n",
    "# 3 x 3 = 9\n",
    "\n",
    "l1 = [1, 2, 3]\n",
    "for n in l1:\n",
    "    print('3 x', n,\"=\", 3*n)"
   ]
  },
  {
   "cell_type": "code",
   "execution_count": 112,
   "id": "289a2a23-9371-4616-a423-ce8e0bef1e7e",
   "metadata": {},
   "outputs": [
    {
     "name": "stdout",
     "output_type": "stream",
     "text": [
      "나\n",
      "다\n",
      "라\n"
     ]
    }
   ],
   "source": [
    "# 148\n",
    "# 리스트에는 네 개의 문자열이 바인딩돼 있다.\n",
    "\n",
    "# 리스트 = [\"가\", \"나\", \"다\", \"라\"]\n",
    "# for문을 사용해서 다음과 같이 출력하라.\n",
    "\n",
    "# 나\n",
    "# 다\n",
    "# 라\n",
    "\n",
    "l1 = [\"가\", \"나\", \"다\", \"라\"]\n",
    "l2 = l1[1:]\n",
    "for h in l2:\n",
    "    print(h)"
   ]
  },
  {
   "cell_type": "code",
   "execution_count": 116,
   "id": "53f90b1b-4796-4a7b-8e3f-1a39c39915f1",
   "metadata": {},
   "outputs": [
    {
     "ename": "SyntaxError",
     "evalue": "invalid syntax (3641457883.py, line 2)",
     "output_type": "error",
     "traceback": [
      "\u001b[1;36m  Cell \u001b[1;32mIn[116], line 2\u001b[1;36m\u001b[0m\n\u001b[1;33m    리스트에는 네 개의 문자열이 바인딩돼 있다.\u001b[0m\n\u001b[1;37m          ^\u001b[0m\n\u001b[1;31mSyntaxError\u001b[0m\u001b[1;31m:\u001b[0m invalid syntax\n"
     ]
    }
   ],
   "source": [
    "149\n",
    "리스트에는 네 개의 문자열이 바인딩돼 있다.\n",
    "\n",
    "리스트 = [\"가\", \"나\", \"다\", \"라\"]\n",
    "for문을 사용해서 다음과 같이 출력하라.\n",
    "\n",
    "가\n",
    "다\n",
    "\n",
    "l1 = [\"가\", \"나\", \"다\", \"라\"]\n",
    "l2 = l1[::2]\n",
    "for h in l2:\n",
    "    print(h)\n"
   ]
  },
  {
   "cell_type": "code",
   "execution_count": 118,
   "id": "c39e7f3b-20da-41d5-8118-9cc394643d5b",
   "metadata": {},
   "outputs": [
    {
     "name": "stdout",
     "output_type": "stream",
     "text": [
      "라\n",
      "다\n",
      "나\n",
      "가\n"
     ]
    }
   ],
   "source": [
    "# 150\n",
    "# 리스트에는 네 개의 문자열이 바인딩돼 있다.\n",
    "\n",
    "# 리스트 = [\"가\", \"나\", \"다\", \"라\"]\n",
    "# for문을 사용해서 다음과 같이 출력하라.\n",
    "\n",
    "# 라\n",
    "# 다\n",
    "# 나\n",
    "# 가\n",
    "\n",
    "l1 = [\"가\", \"나\", \"다\", \"라\"]\n",
    "for r in l1[: :-1]:\n",
    "  print(r)"
   ]
  },
  {
   "cell_type": "code",
   "execution_count": 120,
   "id": "56e788be-2b82-4710-8a68-3772cb6ea0bf",
   "metadata": {},
   "outputs": [
    {
     "name": "stdout",
     "output_type": "stream",
     "text": [
      "-20\n",
      "-3\n"
     ]
    }
   ],
   "source": [
    "# 151\n",
    "# 리스트에는 네 개의 정수가 저장돼 있다.\n",
    "\n",
    "# 리스트 = [3, -20, -3, 44]\n",
    "# for문을 사용해서 리스트의 음수를 출력하라.\n",
    "\n",
    "# -20\n",
    "# -3\n",
    "\n",
    "l1 = [3, -20, -3, 44]\n",
    "l2 = l1[1:3]\n",
    "for 음수 in l2:\n",
    "    print(음수)"
   ]
  },
  {
   "cell_type": "code",
   "execution_count": 122,
   "id": "3d519795-f041-4541-b028-511aa3b46371",
   "metadata": {},
   "outputs": [
    {
     "name": "stdout",
     "output_type": "stream",
     "text": [
      "3\n"
     ]
    }
   ],
   "source": [
    "# 152\n",
    "# for문을 사용해서 3의 배수만을 출력하라.\n",
    "\n",
    "# 리스트 = [3, 100, 23, 44]\n",
    "# 3\n",
    "l1 = [3, 100, 23, 44]\n",
    "for n in l1:\n",
    "    if n % 3 == 0:\n",
    "        print(n)"
   ]
  },
  {
   "cell_type": "code",
   "execution_count": 124,
   "id": "f10cd86d-3db4-472c-87a6-037cd59c9b0a",
   "metadata": {},
   "outputs": [
    {
     "name": "stdout",
     "output_type": "stream",
     "text": [
      "12\n",
      "18\n"
     ]
    }
   ],
   "source": [
    "# 153\n",
    "# 리스트에서 20 보다 작은 3의 배수를 출력하라\n",
    "\n",
    "# 리스트 = [13, 21, 12, 14, 30, 18]\n",
    "# 12\n",
    "# 18\n",
    "l1 = [13, 21, 12, 14, 30, 18]\n",
    "for n in l1:\n",
    "    if n % 3 == 0 and n < 20:\n",
    "        print(n)\n"
   ]
  },
  {
   "cell_type": "code",
   "execution_count": 126,
   "id": "18c4a8a4-4a8f-4ace-88b7-4791a6c576f8",
   "metadata": {},
   "outputs": [
    {
     "name": "stdout",
     "output_type": "stream",
     "text": [
      "study\n",
      "python\n",
      "language\n"
     ]
    }
   ],
   "source": [
    "# 154\n",
    "# 리스트에서 세 글자 이상의 문자를 화면에 출력하라\n",
    "\n",
    "# 리스트 = [\"I\", \"study\", \"python\", \"language\", \"!\"]\n",
    "# study\n",
    "# python\n",
    "# language\n",
    "\n",
    "l1 = [\"I\", \"study\", \"python\", \"language\", \"!\"]\n",
    "for s in l1:\n",
    "    if len(s) >= 3:\n",
    "        print(s)"
   ]
  },
  {
   "cell_type": "code",
   "execution_count": 138,
   "id": "8349a9ed-855b-43c5-a6b4-aab2a907aedc",
   "metadata": {},
   "outputs": [
    {
     "name": "stdout",
     "output_type": "stream",
     "text": [
      "A\n",
      "D\n"
     ]
    }
   ],
   "source": [
    "# 155\n",
    "# 리스트에서 대문자만 화면에 출력하라.\n",
    "\n",
    "# 리스트 = [\"A\", \"b\", \"c\", \"D\"]\n",
    "# A\n",
    "# D\n",
    "# (참고) isupper() 메서드는 대문자 여부를 판별합니다.\n",
    "\n",
    "# >> 변수 = \"A\"\n",
    "# >> 변수.isupper()\n",
    "# True\n",
    "# >> 변수 = \"a\"\n",
    "# >> 변수.isupper()\n",
    "# False\n",
    "\n",
    "l1 = [\"A\", \"b\", \"c\", \"D\"]\n",
    "\n",
    "for a in l1:\n",
    "    if a.isupper() == True:\n",
    "        print(a)"
   ]
  },
  {
   "cell_type": "code",
   "execution_count": 140,
   "id": "cdbad52f-b2d6-412c-9f3d-65a19a4ba6e7",
   "metadata": {},
   "outputs": [
    {
     "name": "stdout",
     "output_type": "stream",
     "text": [
      "b\n",
      "c\n"
     ]
    }
   ],
   "source": [
    "# 156\n",
    "# 리스트에서 소문자만 화면에 출력하라.\n",
    "\n",
    "# 리스트 = [\"A\", \"b\", \"c\", \"D\"]\n",
    "# b\n",
    "# c\n",
    "\n",
    "l1 = [\"A\", \"b\", \"c\", \"D\"]\n",
    "for a in l1:\n",
    "    if a.islower() == True:\n",
    "        print(a)"
   ]
  },
  {
   "cell_type": "code",
   "execution_count": 142,
   "id": "84261107-3717-43ba-89c9-7d9dfbd087d0",
   "metadata": {},
   "outputs": [
    {
     "name": "stdout",
     "output_type": "stream",
     "text": [
      "Dog\n",
      "Cat\n",
      "Parrot\n"
     ]
    }
   ],
   "source": [
    "# 157\n",
    "# 이름의 첫 글자를 대문자로 변경해서 출력하라.\n",
    "\n",
    "# 리스트 = ['dog', 'cat', 'parrot']\n",
    "# Dog\n",
    "# Cat\n",
    "# Parrot\n",
    "# (참고) upper() 메서드는 문자열을 대문자로 변경합니다.\n",
    "\n",
    "# >> 변수 = \"a\"\n",
    "# >> a.upper()\n",
    "# A\n",
    "# >> 변수 = \"abc\"\n",
    "# >> 변수.upper()\n",
    "# ABC\n",
    "l1 = ['dog', 'cat', 'parrot']\n",
    "for a in l1:\n",
    "    print(a.capitalize())"
   ]
  },
  {
   "cell_type": "code",
   "execution_count": 146,
   "id": "34ef830b-81ed-4c77-9871-16f4648fa6e7",
   "metadata": {},
   "outputs": [
    {
     "name": "stdout",
     "output_type": "stream",
     "text": [
      "hello\n",
      "ex01\n",
      "intro\n"
     ]
    }
   ],
   "source": [
    "# 158\n",
    "# 파일 이름이 저장된 리스트에서 확장자를 제거하고 파일 이름만 화면에 출력하라. (힌트: split() 메서드)\n",
    "\n",
    "# 리스트 = ['hello.py', 'ex01.py', 'intro.hwp']\n",
    "# hello\n",
    "# ex01\n",
    "# intro\n",
    "\n",
    "l1 = ['hello.py', 'ex01.py', 'intro.hwp']\n",
    "for f in l1:\n",
    "    print(f.split(\".\")[0])\n"
   ]
  },
  {
   "cell_type": "code",
   "execution_count": 152,
   "id": "8a38fdef-c486-49af-96e8-ee1088a19d02",
   "metadata": {},
   "outputs": [
    {
     "name": "stdout",
     "output_type": "stream",
     "text": [
      "intra.h\n",
      "define.h\n"
     ]
    }
   ],
   "source": [
    "# 159\n",
    "# 파일 이름이 저장된 리스트에서 확장자가 .h인 파일 이름을 출력하라.\n",
    "\n",
    "# 리스트 = ['intra.h', 'intra.c', 'define.h', 'run.py']\n",
    "# intra.h\n",
    "# define.h\n",
    "l1 = ['intra.h', 'intra.c', 'define.h', 'run.py']\n",
    "for f in l1:\n",
    "    if f[-2:] == \".h\":\n",
    "        print(f)"
   ]
  },
  {
   "cell_type": "code",
   "execution_count": 154,
   "id": "4874cb04-d2f4-4d53-bf24-cfc121c6d728",
   "metadata": {},
   "outputs": [
    {
     "name": "stdout",
     "output_type": "stream",
     "text": [
      "intra.h\n",
      "intra.c\n",
      "define.h\n"
     ]
    }
   ],
   "source": [
    "# 160\n",
    "# 파일 이름이 저장된 리스트에서 확장자가 .h나 .c인 파일을 화면에 출력하라.\n",
    "\n",
    "# 리스트 = ['intra.h', 'intra.c', 'define.h', 'run.py']\n",
    "# intra.h\n",
    "# intra.c\n",
    "# define.h\n",
    "l1 = ['intra.h', 'intra.c', 'define.h', 'run.py']\n",
    "for f in l1:\n",
    "    if f[-2:] == \".h\" or f[-2:] == \".c\":\n",
    "        print(f)\n"
   ]
  }
 ],
 "metadata": {
  "kernelspec": {
   "display_name": "Python 3 (ipykernel)",
   "language": "python",
   "name": "python3"
  },
  "language_info": {
   "codemirror_mode": {
    "name": "ipython",
    "version": 3
   },
   "file_extension": ".py",
   "mimetype": "text/x-python",
   "name": "python",
   "nbconvert_exporter": "python",
   "pygments_lexer": "ipython3",
   "version": "3.12.4"
  }
 },
 "nbformat": 4,
 "nbformat_minor": 5
}
