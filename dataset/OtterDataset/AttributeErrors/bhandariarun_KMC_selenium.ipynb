{
 "cells": [
  {
   "cell_type": "code",
   "execution_count": 2,
   "id": "a194634f-0e80-44a1-8824-a7519e481171",
   "metadata": {},
   "outputs": [
    {
     "name": "stdout",
     "output_type": "stream",
     "text": [
      "Collecting selenium\n",
      "  Downloading selenium-4.19.0-py3-none-any.whl.metadata (6.9 kB)\n",
      "Requirement already satisfied: urllib3<3,>=1.26 in c:\\users\\arun\\appdata\\local\\programs\\python\\python39\\lib\\site-packages (from urllib3[socks]<3,>=1.26->selenium) (1.26.16)\n",
      "Collecting trio~=0.17 (from selenium)\n",
      "  Downloading trio-0.25.0-py3-none-any.whl.metadata (8.7 kB)\n",
      "Collecting trio-websocket~=0.9 (from selenium)\n",
      "  Downloading trio_websocket-0.11.1-py3-none-any.whl.metadata (4.7 kB)\n",
      "Requirement already satisfied: certifi>=2021.10.8 in c:\\users\\arun\\appdata\\local\\programs\\python\\python39\\lib\\site-packages (from selenium) (2023.5.7)\n",
      "Collecting typing_extensions>=4.9.0 (from selenium)\n",
      "  Downloading typing_extensions-4.10.0-py3-none-any.whl.metadata (3.0 kB)\n",
      "Collecting attrs>=23.2.0 (from trio~=0.17->selenium)\n",
      "  Downloading attrs-23.2.0-py3-none-any.whl.metadata (9.5 kB)\n",
      "Collecting sortedcontainers (from trio~=0.17->selenium)\n",
      "  Downloading sortedcontainers-2.4.0-py2.py3-none-any.whl.metadata (10 kB)\n",
      "Requirement already satisfied: idna in c:\\users\\arun\\appdata\\local\\programs\\python\\python39\\lib\\site-packages (from trio~=0.17->selenium) (3.4)\n",
      "Collecting outcome (from trio~=0.17->selenium)\n",
      "  Downloading outcome-1.3.0.post0-py2.py3-none-any.whl.metadata (2.6 kB)\n",
      "Requirement already satisfied: sniffio>=1.3.0 in c:\\users\\arun\\appdata\\local\\programs\\python\\python39\\lib\\site-packages (from trio~=0.17->selenium) (1.3.0)\n",
      "Requirement already satisfied: cffi>=1.14 in c:\\users\\arun\\appdata\\local\\programs\\python\\python39\\lib\\site-packages (from trio~=0.17->selenium) (1.16.0)\n",
      "Requirement already satisfied: exceptiongroup in c:\\users\\arun\\appdata\\local\\programs\\python\\python39\\lib\\site-packages (from trio~=0.17->selenium) (1.1.1)\n",
      "Requirement already satisfied: wsproto>=0.14 in c:\\users\\arun\\appdata\\local\\programs\\python\\python39\\lib\\site-packages (from trio-websocket~=0.9->selenium) (1.2.0)\n",
      "Collecting PySocks!=1.5.7,<2.0,>=1.5.6 (from urllib3[socks]<3,>=1.26->selenium)\n",
      "  Downloading PySocks-1.7.1-py3-none-any.whl.metadata (13 kB)\n",
      "Requirement already satisfied: pycparser in c:\\users\\arun\\appdata\\local\\programs\\python\\python39\\lib\\site-packages (from cffi>=1.14->trio~=0.17->selenium) (2.21)\n",
      "Requirement already satisfied: h11<1,>=0.9.0 in c:\\users\\arun\\appdata\\local\\programs\\python\\python39\\lib\\site-packages (from wsproto>=0.14->trio-websocket~=0.9->selenium) (0.14.0)\n",
      "Downloading selenium-4.19.0-py3-none-any.whl (10.5 MB)\n",
      "   ---------------------------------------- 0.0/10.5 MB ? eta -:--:--\n",
      "   ---------------------------------------- 0.0/10.5 MB 660.6 kB/s eta 0:00:16\n",
      "   ---------------------------------------- 0.0/10.5 MB 660.6 kB/s eta 0:00:16\n",
      "   ---------------------------------------- 0.1/10.5 MB 491.5 kB/s eta 0:00:22\n",
      "   ---------------------------------------- 0.1/10.5 MB 581.0 kB/s eta 0:00:18\n",
      "   ---------------------------------------- 0.1/10.5 MB 554.9 kB/s eta 0:00:19\n",
      "    --------------------------------------- 0.2/10.5 MB 551.6 kB/s eta 0:00:19\n",
      "   - -------------------------------------- 0.3/10.5 MB 756.6 kB/s eta 0:00:14\n",
      "   - -------------------------------------- 0.4/10.5 MB 825.0 kB/s eta 0:00:13\n",
      "   - -------------------------------------- 0.5/10.5 MB 1.0 MB/s eta 0:00:10\n",
      "   -- ------------------------------------- 0.6/10.5 MB 1.1 MB/s eta 0:00:09\n",
      "   -- ------------------------------------- 0.7/10.5 MB 1.2 MB/s eta 0:00:09\n",
      "   --- ------------------------------------ 0.8/10.5 MB 1.3 MB/s eta 0:00:08\n",
      "   --- ------------------------------------ 0.9/10.5 MB 1.3 MB/s eta 0:00:08\n",
      "   --- ------------------------------------ 0.9/10.5 MB 1.3 MB/s eta 0:00:08\n",
      "   --- ------------------------------------ 0.9/10.5 MB 1.3 MB/s eta 0:00:08\n",
      "   --- ------------------------------------ 0.9/10.5 MB 1.3 MB/s eta 0:00:08\n",
      "   --- ------------------------------------ 1.0/10.5 MB 1.1 MB/s eta 0:00:09\n",
      "   ----- ---------------------------------- 1.5/10.5 MB 1.7 MB/s eta 0:00:06\n",
      "   ------ --------------------------------- 1.6/10.5 MB 1.7 MB/s eta 0:00:06\n",
      "   ------ --------------------------------- 1.8/10.5 MB 1.7 MB/s eta 0:00:06\n",
      "   ------- -------------------------------- 1.9/10.5 MB 1.8 MB/s eta 0:00:05\n",
      "   -------- ------------------------------- 2.1/10.5 MB 1.9 MB/s eta 0:00:05\n",
      "   -------- ------------------------------- 2.2/10.5 MB 1.9 MB/s eta 0:00:05\n",
      "   --------- ------------------------------ 2.4/10.5 MB 2.0 MB/s eta 0:00:05\n",
      "   --------- ------------------------------ 2.6/10.5 MB 2.0 MB/s eta 0:00:04\n",
      "   ---------- ----------------------------- 2.7/10.5 MB 2.1 MB/s eta 0:00:04\n",
      "   ---------- ----------------------------- 2.7/10.5 MB 2.0 MB/s eta 0:00:04\n",
      "   ---------- ----------------------------- 2.8/10.5 MB 2.0 MB/s eta 0:00:04\n",
      "   ----------- ---------------------------- 3.1/10.5 MB 2.1 MB/s eta 0:00:04\n",
      "   ------------ --------------------------- 3.2/10.5 MB 2.1 MB/s eta 0:00:04\n",
      "   ------------ --------------------------- 3.4/10.5 MB 2.2 MB/s eta 0:00:04\n",
      "   -------------- ------------------------- 3.7/10.5 MB 2.3 MB/s eta 0:00:03\n",
      "   -------------- ------------------------- 3.9/10.5 MB 2.3 MB/s eta 0:00:03\n",
      "   --------------- ------------------------ 4.1/10.5 MB 2.4 MB/s eta 0:00:03\n",
      "   ---------------- ----------------------- 4.3/10.5 MB 2.4 MB/s eta 0:00:03\n",
      "   ---------------- ----------------------- 4.4/10.5 MB 2.4 MB/s eta 0:00:03\n",
      "   ----------------- ---------------------- 4.5/10.5 MB 2.4 MB/s eta 0:00:03\n",
      "   ------------------ --------------------- 4.8/10.5 MB 2.5 MB/s eta 0:00:03\n",
      "   ------------------ --------------------- 4.9/10.5 MB 2.5 MB/s eta 0:00:03\n",
      "   ------------------ --------------------- 4.9/10.5 MB 2.5 MB/s eta 0:00:03\n",
      "   ------------------- -------------------- 5.2/10.5 MB 2.5 MB/s eta 0:00:03\n",
      "   -------------------- ------------------- 5.4/10.5 MB 2.6 MB/s eta 0:00:02\n",
      "   --------------------- ------------------ 5.6/10.5 MB 2.6 MB/s eta 0:00:02\n",
      "   ---------------------- ----------------- 5.9/10.5 MB 2.7 MB/s eta 0:00:02\n",
      "   ---------------------- ----------------- 6.0/10.5 MB 2.7 MB/s eta 0:00:02\n",
      "   ----------------------- ---------------- 6.3/10.5 MB 2.7 MB/s eta 0:00:02\n",
      "   ------------------------ --------------- 6.5/10.5 MB 2.8 MB/s eta 0:00:02\n",
      "   ------------------------- -------------- 6.7/10.5 MB 2.8 MB/s eta 0:00:02\n",
      "   -------------------------- ------------- 6.8/10.5 MB 2.8 MB/s eta 0:00:02\n",
      "   -------------------------- ------------- 7.0/10.5 MB 2.9 MB/s eta 0:00:02\n",
      "   --------------------------- ------------ 7.3/10.5 MB 2.9 MB/s eta 0:00:02\n",
      "   ---------------------------- ----------- 7.6/10.5 MB 2.9 MB/s eta 0:00:01\n",
      "   ----------------------------- ---------- 7.7/10.5 MB 3.0 MB/s eta 0:00:01\n",
      "   ------------------------------- -------- 8.2/10.5 MB 3.0 MB/s eta 0:00:01\n",
      "   -------------------------------- ------- 8.5/10.5 MB 3.0 MB/s eta 0:00:01\n",
      "   --------------------------------- ------ 8.8/10.5 MB 3.1 MB/s eta 0:00:01\n",
      "   ---------------------------------- ----- 9.1/10.5 MB 3.1 MB/s eta 0:00:01\n",
      "   ----------------------------------- ---- 9.3/10.5 MB 3.1 MB/s eta 0:00:01\n",
      "   ----------------------------------- ---- 9.4/10.5 MB 3.1 MB/s eta 0:00:01\n",
      "   ------------------------------------ --- 9.6/10.5 MB 3.1 MB/s eta 0:00:01\n",
      "   ------------------------------------- -- 9.8/10.5 MB 3.1 MB/s eta 0:00:01\n",
      "   ------------------------------------- -- 9.9/10.5 MB 3.1 MB/s eta 0:00:01\n",
      "   -------------------------------------- - 10.1/10.5 MB 3.2 MB/s eta 0:00:01\n",
      "   ---------------------------------------  10.4/10.5 MB 3.5 MB/s eta 0:00:01\n",
      "   ---------------------------------------  10.5/10.5 MB 3.5 MB/s eta 0:00:01\n",
      "   ---------------------------------------- 10.5/10.5 MB 3.5 MB/s eta 0:00:00\n",
      "Downloading trio-0.25.0-py3-none-any.whl (467 kB)\n",
      "   ---------------------------------------- 0.0/467.2 kB ? eta -:--:--\n",
      "   -------------------------- ------------- 307.2/467.2 kB 6.3 MB/s eta 0:00:01\n",
      "   ---------------------------------------- 467.2/467.2 kB 5.8 MB/s eta 0:00:00\n",
      "Downloading trio_websocket-0.11.1-py3-none-any.whl (17 kB)\n",
      "Downloading typing_extensions-4.10.0-py3-none-any.whl (33 kB)\n",
      "Downloading attrs-23.2.0-py3-none-any.whl (60 kB)\n",
      "   ---------------------------------------- 0.0/60.8 kB ? eta -:--:--\n",
      "   ---------------------------------------- 60.8/60.8 kB 3.4 MB/s eta 0:00:00\n",
      "Downloading PySocks-1.7.1-py3-none-any.whl (16 kB)\n",
      "Downloading outcome-1.3.0.post0-py2.py3-none-any.whl (10 kB)\n",
      "Downloading sortedcontainers-2.4.0-py2.py3-none-any.whl (29 kB)\n",
      "Installing collected packages: sortedcontainers, typing_extensions, PySocks, attrs, outcome, trio, trio-websocket, selenium\n",
      "  Attempting uninstall: typing_extensions\n",
      "    Found existing installation: typing_extensions 4.6.3\n",
      "    Uninstalling typing_extensions-4.6.3:\n",
      "      Successfully uninstalled typing_extensions-4.6.3\n",
      "  Attempting uninstall: attrs\n",
      "    Found existing installation: attrs 23.1.0\n",
      "    Uninstalling attrs-23.1.0:\n",
      "      Successfully uninstalled attrs-23.1.0\n",
      "Successfully installed PySocks-1.7.1 attrs-23.2.0 outcome-1.3.0.post0 selenium-4.19.0 sortedcontainers-2.4.0 trio-0.25.0 trio-websocket-0.11.1 typing_extensions-4.10.0\n",
      "Note: you may need to restart the kernel to use updated packages.\n"
     ]
    },
    {
     "name": "stderr",
     "output_type": "stream",
     "text": [
      "WARNING: Ignoring invalid distribution -jango (c:\\users\\arun\\appdata\\local\\programs\\python\\python39\\lib\\site-packages)\n",
      "WARNING: Ignoring invalid distribution -jango (c:\\users\\arun\\appdata\\local\\programs\\python\\python39\\lib\\site-packages)\n",
      "ERROR: pip's dependency resolver does not currently take into account all the packages that are installed. This behaviour is the source of the following dependency conflicts.\n",
      "rasa 3.6.10 requires attrs<22.2,>=19.3, but you have attrs 23.2.0 which is incompatible.\n",
      "rasa 3.6.10 requires certifi>=2023.7.22, but you have certifi 2023.5.7 which is incompatible.\n",
      "rasa 3.6.10 requires jsonschema<4.18,>=3.2, but you have jsonschema 4.20.0 which is incompatible.\n",
      "rasa 3.6.10 requires packaging<21.0,>=20.0, but you have packaging 23.1 which is incompatible.\n",
      "rasa 3.6.10 requires prompt-toolkit<3.0.29,>=3.0, but you have prompt-toolkit 3.0.43 which is incompatible.\n",
      "rasa 3.6.10 requires pytz<2023.0,>=2019.1, but you have pytz 2023.3 which is incompatible.\n",
      "rasa 3.6.10 requires sentry-sdk<1.15.0,>=0.17.0, but you have sentry-sdk 1.26.0 which is incompatible.\n",
      "rasa-sdk 3.6.2 requires prompt-toolkit<3.0.29,>=3.0, but you have prompt-toolkit 3.0.43 which is incompatible.\n",
      "\n",
      "[notice] A new release of pip is available: 23.3.1 -> 24.0\n",
      "[notice] To update, run: python.exe -m pip install --upgrade pip\n"
     ]
    }
   ],
   "source": [
    "pip install selenium"
   ]
  },
  {
   "cell_type": "code",
   "execution_count": 8,
   "id": "8920b9c2-af58-4048-8681-07475db549f2",
   "metadata": {},
   "outputs": [
    {
     "name": "stdout",
     "output_type": "stream",
     "text": [
      "Collecting undetected_chromedriver\n",
      "  Downloading undetected-chromedriver-3.5.5.tar.gz (65 kB)\n",
      "     ---------------------------------------- 0.0/65.4 kB ? eta -:--:--\n",
      "     ------------------ --------------------- 30.7/65.4 kB 1.3 MB/s eta 0:00:01\n",
      "     ----------------------- -------------- 41.0/65.4 kB 393.8 kB/s eta 0:00:01\n",
      "     -------------------------------------- 65.4/65.4 kB 506.1 kB/s eta 0:00:00\n",
      "  Preparing metadata (setup.py): started\n",
      "  Preparing metadata (setup.py): finished with status 'done'\n",
      "Requirement already satisfied: selenium>=4.9.0 in c:\\users\\arun\\appdata\\local\\programs\\python\\python39\\lib\\site-packages (from undetected_chromedriver) (4.19.0)\n",
      "Requirement already satisfied: requests in c:\\users\\arun\\appdata\\local\\programs\\python\\python39\\lib\\site-packages (from undetected_chromedriver) (2.31.0)\n",
      "Requirement already satisfied: websockets in c:\\users\\arun\\appdata\\local\\programs\\python\\python39\\lib\\site-packages (from undetected_chromedriver) (10.4)\n",
      "Requirement already satisfied: urllib3<3,>=1.26 in c:\\users\\arun\\appdata\\local\\programs\\python\\python39\\lib\\site-packages (from urllib3[socks]<3,>=1.26->selenium>=4.9.0->undetected_chromedriver) (1.26.16)\n",
      "Requirement already satisfied: trio~=0.17 in c:\\users\\arun\\appdata\\local\\programs\\python\\python39\\lib\\site-packages (from selenium>=4.9.0->undetected_chromedriver) (0.25.0)\n",
      "Requirement already satisfied: trio-websocket~=0.9 in c:\\users\\arun\\appdata\\local\\programs\\python\\python39\\lib\\site-packages (from selenium>=4.9.0->undetected_chromedriver) (0.11.1)\n",
      "Requirement already satisfied: certifi>=2021.10.8 in c:\\users\\arun\\appdata\\local\\programs\\python\\python39\\lib\\site-packages (from selenium>=4.9.0->undetected_chromedriver) (2023.5.7)\n",
      "Requirement already satisfied: typing_extensions>=4.9.0 in c:\\users\\arun\\appdata\\local\\programs\\python\\python39\\lib\\site-packages (from selenium>=4.9.0->undetected_chromedriver) (4.10.0)\n",
      "Requirement already satisfied: charset-normalizer<4,>=2 in c:\\users\\arun\\appdata\\local\\programs\\python\\python39\\lib\\site-packages (from requests->undetected_chromedriver) (3.1.0)\n",
      "Requirement already satisfied: idna<4,>=2.5 in c:\\users\\arun\\appdata\\local\\programs\\python\\python39\\lib\\site-packages (from requests->undetected_chromedriver) (3.4)\n",
      "Requirement already satisfied: attrs>=23.2.0 in c:\\users\\arun\\appdata\\local\\programs\\python\\python39\\lib\\site-packages (from trio~=0.17->selenium>=4.9.0->undetected_chromedriver) (23.2.0)\n",
      "Requirement already satisfied: sortedcontainers in c:\\users\\arun\\appdata\\local\\programs\\python\\python39\\lib\\site-packages (from trio~=0.17->selenium>=4.9.0->undetected_chromedriver) (2.4.0)\n",
      "Requirement already satisfied: outcome in c:\\users\\arun\\appdata\\local\\programs\\python\\python39\\lib\\site-packages (from trio~=0.17->selenium>=4.9.0->undetected_chromedriver) (1.3.0.post0)\n",
      "Requirement already satisfied: sniffio>=1.3.0 in c:\\users\\arun\\appdata\\local\\programs\\python\\python39\\lib\\site-packages (from trio~=0.17->selenium>=4.9.0->undetected_chromedriver) (1.3.0)\n",
      "Requirement already satisfied: cffi>=1.14 in c:\\users\\arun\\appdata\\local\\programs\\python\\python39\\lib\\site-packages (from trio~=0.17->selenium>=4.9.0->undetected_chromedriver) (1.16.0)\n",
      "Requirement already satisfied: exceptiongroup in c:\\users\\arun\\appdata\\local\\programs\\python\\python39\\lib\\site-packages (from trio~=0.17->selenium>=4.9.0->undetected_chromedriver) (1.1.1)\n",
      "Requirement already satisfied: wsproto>=0.14 in c:\\users\\arun\\appdata\\local\\programs\\python\\python39\\lib\\site-packages (from trio-websocket~=0.9->selenium>=4.9.0->undetected_chromedriver) (1.2.0)\n",
      "Requirement already satisfied: PySocks!=1.5.7,<2.0,>=1.5.6 in c:\\users\\arun\\appdata\\local\\programs\\python\\python39\\lib\\site-packages (from urllib3[socks]<3,>=1.26->selenium>=4.9.0->undetected_chromedriver) (1.7.1)\n",
      "Requirement already satisfied: pycparser in c:\\users\\arun\\appdata\\local\\programs\\python\\python39\\lib\\site-packages (from cffi>=1.14->trio~=0.17->selenium>=4.9.0->undetected_chromedriver) (2.21)\n",
      "Requirement already satisfied: h11<1,>=0.9.0 in c:\\users\\arun\\appdata\\local\\programs\\python\\python39\\lib\\site-packages (from wsproto>=0.14->trio-websocket~=0.9->selenium>=4.9.0->undetected_chromedriver) (0.14.0)\n",
      "Building wheels for collected packages: undetected_chromedriver\n",
      "  Building wheel for undetected_chromedriver (setup.py): started\n",
      "  Building wheel for undetected_chromedriver (setup.py): finished with status 'done'\n",
      "  Created wheel for undetected_chromedriver: filename=undetected_chromedriver-3.5.5-py3-none-any.whl size=47130 sha256=d547e6f52b26d643bf552653b6076ddbcf71d867573d7996720ff946b4111c6a\n",
      "  Stored in directory: c:\\users\\arun\\appdata\\local\\pip\\cache\\wheels\\d1\\9c\\b4\\ccdca75ca356899a9b65190f048a03058f1fe23602c642b88e\n",
      "Successfully built undetected_chromedriver\n",
      "Installing collected packages: undetected_chromedriver\n",
      "Successfully installed undetected_chromedriver-3.5.5\n",
      "Note: you may need to restart the kernel to use updated packages.\n"
     ]
    },
    {
     "name": "stderr",
     "output_type": "stream",
     "text": [
      "WARNING: Ignoring invalid distribution -jango (c:\\users\\arun\\appdata\\local\\programs\\python\\python39\\lib\\site-packages)\n",
      "WARNING: Ignoring invalid distribution -jango (c:\\users\\arun\\appdata\\local\\programs\\python\\python39\\lib\\site-packages)\n",
      "\n",
      "[notice] A new release of pip is available: 23.3.1 -> 24.0\n",
      "[notice] To update, run: python.exe -m pip install --upgrade pip\n"
     ]
    }
   ],
   "source": [
    "pip install undetected_chromedriver"
   ]
  },
  {
   "cell_type": "code",
   "execution_count": 15,
   "id": "c08db4c8-e2c3-422f-82a4-bf23fcca10ff",
   "metadata": {},
   "outputs": [],
   "source": [
    "from selenium import webdriver\n",
    "import undetected_chromedriver as uc\n",
    "from selenium.webdriver.common.keys import Keys"
   ]
  },
  {
   "cell_type": "code",
   "execution_count": 16,
   "id": "e333816c-300c-497b-87b1-fa44dcd19948",
   "metadata": {},
   "outputs": [],
   "source": [
    "PATH = \"D:\\chromedriver.exe\""
   ]
  },
  {
   "cell_type": "code",
   "execution_count": 17,
   "id": "014d18ed-311e-475f-b055-d9de27563c10",
   "metadata": {},
   "outputs": [],
   "source": [
    "browser = uc.Chrome(use_subprocess=True)"
   ]
  },
  {
   "cell_type": "code",
   "execution_count": 18,
   "id": "07a207ab-3094-41aa-a603-035a9b3e910f",
   "metadata": {},
   "outputs": [],
   "source": [
    "c = browser.get(\"https://merolagani.com/LatestMarket.aspx\")"
   ]
  },
  {
   "cell_type": "code",
   "execution_count": 23,
   "id": "9324c41f-0e95-4b18-aeea-729eac60de38",
   "metadata": {},
   "outputs": [
    {
     "ename": "AttributeError",
     "evalue": "'NoneType' object has no attribute 'find'",
     "output_type": "error",
     "traceback": [
      "\u001b[1;31m---------------------------------------------------------------------------\u001b[0m",
      "\u001b[1;31mAttributeError\u001b[0m                            Traceback (most recent call last)",
      "Cell \u001b[1;32mIn[23], line 3\u001b[0m\n\u001b[0;32m      1\u001b[0m \u001b[38;5;66;03m# con = requests.get(url)\u001b[39;00m\n\u001b[0;32m      2\u001b[0m \u001b[38;5;66;03m# soup = BeautifulSoup(con.text,'html.parser')\u001b[39;00m\n\u001b[1;32m----> 3\u001b[0m table \u001b[38;5;241m=\u001b[39m \u001b[43mc\u001b[49m\u001b[38;5;241;43m.\u001b[39;49m\u001b[43mfind\u001b[49m(\u001b[38;5;124m'\u001b[39m\u001b[38;5;124mtable\u001b[39m\u001b[38;5;124m'\u001b[39m, class_\u001b[38;5;241m=\u001b[39m\u001b[38;5;124m\"\u001b[39m\u001b[38;5;124mtable table-hover live-trading sortable\u001b[39m\u001b[38;5;124m\"\u001b[39m)\n\u001b[0;32m      4\u001b[0m \u001b[38;5;28mprint\u001b[39m(table)\n\u001b[0;32m      5\u001b[0m \u001b[38;5;66;03m# headers = [i.text for i in table.find_all('th')]\u001b[39;00m\n\u001b[0;32m      6\u001b[0m \u001b[38;5;66;03m# data = [j for j in table.find_all('tr',{\"class\":[\"decrease-row\",\"increase-row\",\"nochange-row\"]})]\u001b[39;00m\n\u001b[0;32m      7\u001b[0m \n\u001b[0;32m      8\u001b[0m \u001b[38;5;66;03m# result = [{headers[index]:cell.text for index,cell in enumerate(row.find_all(\"td\"))} for row in data]\u001b[39;00m\n\u001b[0;32m      9\u001b[0m \u001b[38;5;66;03m# print(f'\\n{result}')\u001b[39;00m\n",
      "\u001b[1;31mAttributeError\u001b[0m: 'NoneType' object has no attribute 'find'"
     ]
    }
   ],
   "source": [
    "# con = requests.get(url)\n",
    "# soup = BeautifulSoup(con.text,'html.parser')\n",
    "table = c.find('table', class_=\"table table-hover live-trading sortable\")\n",
    "print(table)\n",
    "# headers = [i.text for i in table.find_all('th')]\n",
    "# data = [j for j in table.find_all('tr',{\"class\":[\"decrease-row\",\"increase-row\",\"nochange-row\"]})]\n",
    "\n",
    "# result = [{headers[index]:cell.text for index,cell in enumerate(row.find_all(\"td\"))} for row in data]\n",
    "# print(f'\\n{result}')"
   ]
  },
  {
   "cell_type": "code",
   "execution_count": null,
   "id": "2970790e-b1e4-4a93-8b24-3fa192a4a395",
   "metadata": {},
   "outputs": [],
   "source": []
  },
  {
   "cell_type": "code",
   "execution_count": null,
   "id": "f9841cdd-031f-4954-bbd6-dbf5e643d1ee",
   "metadata": {},
   "outputs": [],
   "source": []
  }
 ],
 "metadata": {
  "kernelspec": {
   "display_name": "Python 3 (ipykernel)",
   "language": "python",
   "name": "python3"
  },
  "language_info": {
   "codemirror_mode": {
    "name": "ipython",
    "version": 3
   },
   "file_extension": ".py",
   "mimetype": "text/x-python",
   "name": "python",
   "nbconvert_exporter": "python",
   "pygments_lexer": "ipython3",
   "version": "3.9.13"
  }
 },
 "nbformat": 4,
 "nbformat_minor": 5
}
