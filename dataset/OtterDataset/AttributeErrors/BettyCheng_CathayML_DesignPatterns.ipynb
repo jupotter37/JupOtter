{
 "cells": [
  {
   "cell_type": "markdown",
   "metadata": {},
   "source": [
    "## 封裝、繼承、多型"
   ]
  },
  {
   "cell_type": "code",
   "execution_count": 73,
   "metadata": {},
   "outputs": [],
   "source": [
    "class father():\n",
    "    \n",
    "    def __init__(self):\n",
    "        self.__secret = 'secret'           # 封裝\n",
    "        self.info = 'PaP\\'s information'\n",
    "    \n",
    "    # 封裝\n",
    "    def __privacy(self):\n",
    "        print('privacy')\n",
    "    \n",
    "    # 多型\n",
    "    def public(self):\n",
    "        print('public')\n",
    "    \n",
    "    def takeit(self):\n",
    "        return self.__secret\n",
    "\n",
    "# 繼承\n",
    "class son(father):\n",
    "    # 多型\n",
    "    def public(self):\n",
    "        print('son\\'s public')\n",
    "    \n",
    "    def pappublic(self):\n",
    "        super().public()"
   ]
  },
  {
   "cell_type": "code",
   "execution_count": 74,
   "metadata": {},
   "outputs": [
    {
     "ename": "AttributeError",
     "evalue": "'son' object has no attribute '__privacy'",
     "output_type": "error",
     "traceback": [
      "\u001b[1;31m---------------------------------------------------------------------------\u001b[0m",
      "\u001b[1;31mAttributeError\u001b[0m                            Traceback (most recent call last)",
      "\u001b[1;32m<ipython-input-74-35b59f9ad250>\u001b[0m in \u001b[0;36m<module>\u001b[1;34m()\u001b[0m\n\u001b[0;32m      1\u001b[0m \u001b[0ma\u001b[0m \u001b[1;33m=\u001b[0m \u001b[0mson\u001b[0m\u001b[1;33m(\u001b[0m\u001b[1;33m)\u001b[0m\u001b[1;33m\u001b[0m\u001b[0m\n\u001b[1;32m----> 2\u001b[1;33m \u001b[0ma\u001b[0m\u001b[1;33m.\u001b[0m\u001b[0m__privacy\u001b[0m\u001b[1;33m(\u001b[0m\u001b[1;33m)\u001b[0m\u001b[1;33m\u001b[0m\u001b[0m\n\u001b[0m",
      "\u001b[1;31mAttributeError\u001b[0m: 'son' object has no attribute '__privacy'"
     ]
    }
   ],
   "source": [
    "a = son()\n",
    "a.__privacy()"
   ]
  },
  {
   "cell_type": "code",
   "execution_count": 75,
   "metadata": {},
   "outputs": [
    {
     "name": "stdout",
     "output_type": "stream",
     "text": [
      "son's public\n",
      "public\n"
     ]
    },
    {
     "data": {
      "text/plain": [
       "\"PaP's information\""
      ]
     },
     "execution_count": 75,
     "metadata": {},
     "output_type": "execute_result"
    }
   ],
   "source": [
    "a.public()\n",
    "a.pappublic()\n",
    "a.info"
   ]
  },
  {
   "cell_type": "code",
   "execution_count": 76,
   "metadata": {},
   "outputs": [
    {
     "data": {
      "text/plain": [
       "'secret'"
      ]
     },
     "execution_count": 76,
     "metadata": {},
     "output_type": "execute_result"
    }
   ],
   "source": [
    "# 挖隱私，破封裝\n",
    "a.takeit()"
   ]
  },
  {
   "cell_type": "code",
   "execution_count": 77,
   "metadata": {},
   "outputs": [],
   "source": [
    "# 參數式多型\n",
    "def polymor(int a):\n",
    "    print('a')\n",
    "def polymor(double b):\n",
    "    print(msg)"
   ]
  },
  {
   "cell_type": "code",
   "execution_count": 78,
   "metadata": {},
   "outputs": [
    {
     "ename": "TypeError",
     "evalue": "polymor() missing 1 required positional argument: 'msg'",
     "output_type": "error",
     "traceback": [
      "\u001b[1;31m---------------------------------------------------------------------------\u001b[0m",
      "\u001b[1;31mTypeError\u001b[0m                                 Traceback (most recent call last)",
      "\u001b[1;32m<ipython-input-78-7387e78a28b1>\u001b[0m in \u001b[0;36m<module>\u001b[1;34m()\u001b[0m\n\u001b[1;32m----> 1\u001b[1;33m \u001b[0mpolymor\u001b[0m\u001b[1;33m(\u001b[0m\u001b[1;33m)\u001b[0m\u001b[1;33m\u001b[0m\u001b[0m\n\u001b[0m\u001b[0;32m      2\u001b[0m \u001b[0mpolymor\u001b[0m\u001b[1;33m(\u001b[0m\u001b[1;34m'msg'\u001b[0m\u001b[1;33m)\u001b[0m\u001b[1;33m\u001b[0m\u001b[0m\n",
      "\u001b[1;31mTypeError\u001b[0m: polymor() missing 1 required positional argument: 'msg'"
     ]
    }
   ],
   "source": [
    "polymor()\n",
    "polymor('msg')"
   ]
  },
  {
   "cell_type": "markdown",
   "metadata": {},
   "source": [
    "## Interface segregation principle"
   ]
  },
  {
   "cell_type": "code",
   "execution_count": 79,
   "metadata": {},
   "outputs": [],
   "source": [
    "from abc import ABC, abstractmethod"
   ]
  },
  {
   "cell_type": "code",
   "execution_count": 81,
   "metadata": {},
   "outputs": [],
   "source": [
    "class Dog(ABC):\n",
    "    @abstractmethod\n",
    "    def eat(self):\n",
    "        pass\n",
    "\n",
    "    @abstractmethod\n",
    "    def walk(self):\n",
    "        pass\n",
    "    \n",
    "    @abstractmethod\n",
    "    def handshake(self):\n",
    "        pass"
   ]
  },
  {
   "cell_type": "code",
   "execution_count": 82,
   "metadata": {},
   "outputs": [
    {
     "name": "stdout",
     "output_type": "stream",
     "text": [
      "吃飯皇帝大\n",
      "放風咯\n",
      "我會握手哦！\n"
     ]
    }
   ],
   "source": [
    "class Maltese(Dog):\n",
    "    def eat(self):\n",
    "        print('吃飯皇帝大')\n",
    "    def walk(self):\n",
    "        print(\"放風咯\")\n",
    "    def handshake(self):\n",
    "        print(\"我會握手哦！\")\n",
    "\n",
    "myMaltese = Maltese()\n",
    "myMaltese.eat()\n",
    "myMaltese.walk()\n",
    "myMaltese.handshake()"
   ]
  },
  {
   "cell_type": "code",
   "execution_count": 88,
   "metadata": {},
   "outputs": [],
   "source": [
    "class Schnauzer(Dog):\n",
    "    def eat(self):\n",
    "        print('吃飯皇帝大')\n",
    "    def walk(self):\n",
    "        print(\"放風咯\")\n",
    "    \n",
    "    # 不會握手，硬實作\n",
    "    # 若不實作，違反里式替換原則(父類能用的地方，子類都要能用)\n",
    "    def handshake(self):\n",
    "        print(\"主人哩咧共蝦會！\")"
   ]
  },
  {
   "cell_type": "code",
   "execution_count": 84,
   "metadata": {},
   "outputs": [],
   "source": [
    "# 拆成兩個介面\n",
    "class Dog(ABC):\n",
    "    @abstractmethod\n",
    "    def eat(self):\n",
    "        pass\n",
    "\n",
    "    @abstractmethod\n",
    "    def walk(self):\n",
    "        pass\n",
    "\n",
    "class Show(ABC):    \n",
    "    @abstractmethod\n",
    "    def handshake(self):\n",
    "        pass"
   ]
  },
  {
   "cell_type": "code",
   "execution_count": 85,
   "metadata": {},
   "outputs": [],
   "source": [
    "class Maltese(Dog, Show):\n",
    "    def eat(self):\n",
    "        print('吃飯皇帝大')\n",
    "    def walk(self):\n",
    "        print(\"放風咯\")\n",
    "    def handshake(self):\n",
    "        print(\"我會握手哦！\")\n",
    "\n",
    "class Schnauzer(Dog):\n",
    "    def eat(self):\n",
    "        print('吃飯皇帝大')\n",
    "    def walk(self):\n",
    "        print(\"放風咯\")"
   ]
  },
  {
   "cell_type": "code",
   "execution_count": 90,
   "metadata": {},
   "outputs": [
    {
     "name": "stdout",
     "output_type": "stream",
     "text": [
      "吃飯皇帝大\n",
      "吃飯皇帝大\n",
      "我會握手哦！\n"
     ]
    }
   ],
   "source": [
    "class Context():\n",
    "    def feed(self, Dog):\n",
    "        Dog.eat()\n",
    "    def play(self, Show):\n",
    "        Show.handshake()\n",
    "\n",
    "myMaltese = Maltese()\n",
    "mySchnauzer = Schnauzer()\n",
    "\n",
    "context = Context()\n",
    "\n",
    "context.feed(myMaltese)\n",
    "context.feed(mySchnauzer)\n",
    "\n",
    "context.play(myMaltese)\n",
    "#context.play(mySchnauzer)"
   ]
  },
  {
   "cell_type": "markdown",
   "metadata": {},
   "source": [
    "## FACTORY METHOD"
   ]
  },
  {
   "cell_type": "code",
   "execution_count": 91,
   "metadata": {},
   "outputs": [],
   "source": [
    "import json\n",
    "import xml.etree.ElementTree as etree\n",
    "\n",
    "class JSONConnector():\n",
    "    def __init__(self, filepath):\n",
    "        self.data = dict()\n",
    "        with open(filepath, mode='r', encoding='utf8') as f:\n",
    "            self.data = json.load(f)\n",
    "\n",
    "    @property\n",
    "    def parsed_data(self):\n",
    "        return self.data\n",
    "\n",
    "\n",
    "class XMLConnector():\n",
    "    def __init__(self, filepath):\n",
    "        self.tree = etree.parse(filepath)\n",
    "\n",
    "    @property\n",
    "    def parsed_data(self):\n",
    "        return self.tree\n",
    "\n",
    "\n",
    "def connection_factory(filepath):\n",
    "    \"\"\" 工廠方法 \"\"\"\n",
    "    if filepath.endswith('json'):\n",
    "        connector = JSONConnector()\n",
    "    elif filepath.endswith('xml'):\n",
    "        connector = XMLConnector()\n",
    "    else:\n",
    "        raise ValueError('Cannot connect to {}'.format(filepath))\n",
    "    return connector(filepath)"
   ]
  },
  {
   "cell_type": "code",
   "execution_count": null,
   "metadata": {},
   "outputs": [],
   "source": [
    "filepath = 'D:\\xxx\\xxx.json'\n",
    "connection_factory(filepath)"
   ]
  },
  {
   "cell_type": "markdown",
   "metadata": {},
   "source": [
    "## Abstract Factory "
   ]
  },
  {
   "cell_type": "code",
   "execution_count": 99,
   "metadata": {},
   "outputs": [],
   "source": [
    "class Frog:\n",
    "    def __init__(self, name):\n",
    "        self.name = name\n",
    "\n",
    "    def __str__(self):\n",
    "        return self.name\n",
    "\n",
    "    def interact_with(self, obstacle):\n",
    "        \"\"\" 不同類型玩家遇到的障礙不同 \"\"\"\n",
    "        print('{} the Frog encounters {} and {}!'.format(\n",
    "            self, obstacle, obstacle.action()))\n",
    "\n",
    "\n",
    "class Bug:\n",
    "    def __str__(self):\n",
    "        return 'a bug'\n",
    "\n",
    "    def action(self):\n",
    "        return 'eats it'\n",
    "\n",
    "\n",
    "class FrogWorld:\n",
    "    def __init__(self, name):\n",
    "        print(self)\n",
    "        self.player_name = name\n",
    "\n",
    "    def __str__(self):\n",
    "        return '\\n\\n\\t----Frog World -----'\n",
    "\n",
    "    def make_character(self):\n",
    "        return Frog(self.player_name)\n",
    "\n",
    "    def make_obstacle(self):\n",
    "        return Bug()\n",
    "\n",
    "\n",
    "class Wizard:\n",
    "    def __init__(self, name):\n",
    "        self.name = name\n",
    "\n",
    "    def __str__(self):\n",
    "        return self.name\n",
    "\n",
    "    def interact_with(self, obstacle):\n",
    "        print('{} the Wizard battles against {} and {}!'.format(\n",
    "            self, obstacle, obstacle.action()))\n",
    "\n",
    "\n",
    "class Ork:\n",
    "    def __str__(self):\n",
    "        return 'an evil ork'\n",
    "\n",
    "    def action(self):\n",
    "        return 'kill it'\n",
    "\n",
    "\n",
    "class WizardWorld:\n",
    "    def __init__(self, name):\n",
    "        print(self)\n",
    "        self.player_name = name\n",
    "\n",
    "    def __str__(self):\n",
    "        return '\\n\\n\\t------ Wizard World -------'\n",
    "\n",
    "    def make_character(self):\n",
    "        return Wizard(self.player_name)\n",
    "\n",
    "    def make_obstacle(self):\n",
    "        return Ork()\n",
    "\n",
    "\n",
    "class GameEnvironment:\n",
    "    \"\"\" 抽象工廠，根據不同的玩家類型創建不同的角色和障礙(遊戲環境)\n",
    "    這裡可以根據年齡判斷，成年人返回『巫師』遊戲，小孩返回『青蛙過河』遊戲\"\"\"\n",
    "    def __init__(self, age, name):\n",
    "        if age >= 18:\n",
    "            world = WizardWorld(name)\n",
    "        else:\n",
    "            world = FrogWorld(name)\n",
    "            \n",
    "        self.hero = world.make_character()\n",
    "        self.obstacle = world.make_obstacle()\n",
    "    \n",
    "    def play(self):\n",
    "        self.hero.interact_with(self.obstacle)"
   ]
  },
  {
   "cell_type": "code",
   "execution_count": 100,
   "metadata": {},
   "outputs": [
    {
     "name": "stdout",
     "output_type": "stream",
     "text": [
      "\n",
      "\n",
      "\t----Frog World -----\n",
      "John the Frog encounters a bug and eats it!\n"
     ]
    }
   ],
   "source": [
    "ge = GameEnvironment(20, 'John')\n",
    "ge.play()"
   ]
  },
  {
   "cell_type": "markdown",
   "metadata": {},
   "source": [
    "## The Builder Pattern"
   ]
  },
  {
   "cell_type": "code",
   "execution_count": 102,
   "metadata": {},
   "outputs": [
    {
     "name": "stdout",
     "output_type": "stream",
     "text": [
      "Model: 1.4GHz Mac mini\n",
      "Memory: 4GB\n",
      "Hard Disk: 500GB\n",
      "Graphics Card: Intel HD Graphics 5000\n"
     ]
    }
   ],
   "source": [
    "# factory pattern\n",
    "MINI14 = '1.4GHz Mac mini'\n",
    "\n",
    "class AppleFactory:\n",
    "\n",
    "    class MacMini14:\n",
    "        def __init__(self):\n",
    "            self.memory = 4  # in gigabytes\n",
    "            self.hdd = 500  # in gigabytes\n",
    "            self.gpu = 'Intel HD Graphics 5000'\n",
    "\n",
    "        def __str__(self):\n",
    "            info = ('Model: {}'.format(MINI14),\n",
    "                    'Memory: {}GB'.format(self.memory),\n",
    "                    'Hard Disk: {}GB'.format(self.hdd),\n",
    "                    'Graphics Card: {}'.format(self.gpu))\n",
    "            return '\\n'.join(info)\n",
    "\n",
    "    def build_computer(self, model):\n",
    "        if model == MINI14:\n",
    "            return self.MacMini14()\n",
    "        else:\n",
    "            print(\"I don't know how to build {}\".format(model))\n",
    "\n",
    "            \n",
    "afac = AppleFactory()\n",
    "mac_mini = afac.build_computer(MINI14)\n",
    "print(mac_mini)"
   ]
  },
  {
   "cell_type": "code",
   "execution_count": 103,
   "metadata": {},
   "outputs": [
    {
     "name": "stdout",
     "output_type": "stream",
     "text": [
      "Memory: 8GB\n",
      "Hard Disk: 500GB\n",
      "Graphics Card: GeForce GTX 650 Ti\n"
     ]
    }
   ],
   "source": [
    "# builder模式\n",
    "\n",
    "class Computer:\n",
    "    def __init__(self, serial_number):\n",
    "        self.serial = serial_number\n",
    "        self.memory = None      # in gigabytes\n",
    "        self.hdd = None         # in gigabytes\n",
    "        self.gpu = None\n",
    "\n",
    "    def __str__(self):\n",
    "        info = ('Memory: {}GB'.format(self.memory),\n",
    "                'Hard Disk: {}GB'.format(self.hdd),\n",
    "                'Graphics Card: {}'.format(self.gpu))\n",
    "        return '\\n'.join(info)\n",
    "\n",
    "\n",
    "class ComputerBuilder:\n",
    "    def __init__(self):\n",
    "        self.computer = Computer('AG23385193')\n",
    "\n",
    "    def configure_memory(self, amount):\n",
    "        self.computer.memory = amount\n",
    "\n",
    "    def configure_hdd(self, amount):\n",
    "        self.computer.hdd = amount\n",
    "\n",
    "    def configure_gpu(self, gpu_model):\n",
    "        self.computer.gpu = gpu_model\n",
    "\n",
    "\n",
    "class HardwareEngineer:\n",
    "    def __init__(self):\n",
    "        self.builder = None\n",
    "\n",
    "    def construct_computer(self, memory, hdd, gpu):\n",
    "        self.builder = ComputerBuilder()\n",
    "        [step for step in (self.builder.configure_memory(memory),\n",
    "                        self.builder.configure_hdd(hdd),\n",
    "                        self.builder.configure_gpu(gpu))]\n",
    "\n",
    "    @property\n",
    "    def computer(self):\n",
    "        return self.builder.computer\n",
    "\n",
    "# 使用buidler，可以建立多個builder類別實現不同的組裝方式\n",
    "engineer = HardwareEngineer()\n",
    "engineer.construct_computer(hdd=500, memory=8, gpu='GeForce GTX 650 Ti')\n",
    "computer = engineer.computer\n",
    "print(computer)"
   ]
  },
  {
   "cell_type": "markdown",
   "metadata": {},
   "source": [
    "## The Prototype Pattern"
   ]
  },
  {
   "cell_type": "code",
   "execution_count": 105,
   "metadata": {},
   "outputs": [
    {
     "name": "stdout",
     "output_type": "stream",
     "text": [
      "authors: ('Brian W. Kernighan', 'Dennis M.Ritchie')\n",
      "length: 228\n",
      "name: The C Programming Language\n",
      "price: 118$\n",
      "publication_date: 1978-02-22\n",
      "publisher: Prentice Hall\n",
      "tags: ('C', 'programming', 'algorithms', 'data structures')\n",
      "\n",
      "ID b1 : 535628962392 != ID b2 : 535628962504\n",
      "authors: ('Brian W. Kernighan', 'Dennis M.Ritchie')\n",
      "edition: 2\n",
      "length: 274\n",
      "name: The C Programming Language (ANSI)\n",
      "price: 48.99$\n",
      "publication_date: 1988-04-01\n",
      "publisher: Prentice Hall\n",
      "tags: ('C', 'programming', 'algorithms', 'data structures')\n",
      "\n",
      "ID b1 : 535628962392 != ID b2 : 535628962504\n"
     ]
    }
   ],
   "source": [
    "import copy\n",
    "from collections import OrderedDict\n",
    "\n",
    "class Book:\n",
    "    def __init__(self, name, authors, price, **rest):\n",
    "        '''Examples of rest: publisher, length, tags, publication\n",
    "        date'''\n",
    "        self.name = name\n",
    "        self.authors = authors\n",
    "        self.price = price      # in US dollars\n",
    "        self.__dict__.update(rest)\n",
    "\n",
    "    def __str__(self):\n",
    "        mylist = []\n",
    "        ordered = OrderedDict(sorted(self.__dict__.items()))\n",
    "        for i in ordered.keys():\n",
    "            mylist.append('{}: {}'.format(i, ordered[i]))\n",
    "            if i == 'price':\n",
    "                mylist.append('$')\n",
    "            mylist.append('\\n')\n",
    "        return ''.join(mylist)\n",
    "\n",
    "\n",
    "class Prototype:\n",
    "    def __init__(self):\n",
    "        self.objects = {}\n",
    "\n",
    "    def register(self, identifier, obj):\n",
    "        self.objects[identifier] = obj\n",
    "\n",
    "    def unregister(self, identifier):\n",
    "        del self.objects[identifier]\n",
    "\n",
    "    def clone(self, identifier, **attr):\n",
    "        \"\"\" 實現物件拷貝 \"\"\"\n",
    "        found = self.objects.get(identifier)\n",
    "        if not found:\n",
    "            raise ValueError('Incorrect object identifier: {}'.format(identifier))\n",
    "        obj = copy.deepcopy(found)   # 指向新的記憶體位置\n",
    "        obj.__dict__.update(attr)    # 實現拷貝時自定義更新\n",
    "        return obj\n",
    "\n",
    "\n",
    "def main():\n",
    "    b1 = Book('The C Programming Language', ('Brian W. Kernighan', 'Dennis M.Ritchie'),\n",
    "            price=118, publisher='Prentice Hall', length=228, publication_date='1978-02-22',\n",
    "            tags=('C', 'programming', 'algorithms', 'data structures'))\n",
    "\n",
    "    prototype = Prototype()\n",
    "    cid = 'k&r-first'\n",
    "    prototype.register(cid, b1)\n",
    "    \n",
    "    b2 = prototype.clone(cid, name='The C Programming Language (ANSI)', price=48.99, length=274,\n",
    "                        publication_date='1988-04-01', edition=2)\n",
    "    for i in (b1, b2):\n",
    "        print(i)\n",
    "        print(\"ID b1 : {} != ID b2 : {}\".format(id(b1), id(b2)))\n",
    "\n",
    "main()"
   ]
  },
  {
   "cell_type": "markdown",
   "metadata": {},
   "source": [
    "## The Adapter Pattern"
   ]
  },
  {
   "cell_type": "code",
   "execution_count": 106,
   "metadata": {},
   "outputs": [
    {
     "name": "stdout",
     "output_type": "stream",
     "text": [
      "the Asus computer execute a program\n",
      "the moog synthesizer is playing an electroinc song\n",
      "the Wnn human says hello\n"
     ]
    }
   ],
   "source": [
    "class Computer:\n",
    "    def __init__(self, name):\n",
    "        self.name = name\n",
    "\n",
    "    def __str__(self):\n",
    "        return 'the {} computer'.format(self.name)\n",
    "\n",
    "    def execute(self):\n",
    "        \"\"\" call by client code \"\"\"\n",
    "        return 'execute a program'\n",
    "\n",
    "\n",
    "class Synthesizer:\n",
    "    def __init__(self, name):\n",
    "        self.name = name\n",
    "\n",
    "    def __str__(self):\n",
    "        return 'the {} synthesizer'.format(self.name)\n",
    "\n",
    "    def play(self):\n",
    "        return 'is playing an electroinc song'\n",
    "\n",
    "\n",
    "class Human:\n",
    "    def __init__(self, name):\n",
    "        self.name = name\n",
    "\n",
    "    def __str__(self):\n",
    "        return 'the {} human'.format(self.name)\n",
    "\n",
    "    def speak(self):\n",
    "        return 'says hello'\n",
    "\n",
    "\n",
    "class Adapter:\n",
    "    def __init__(self, obj, adapted_methods):\n",
    "        \"\"\" 不使用繼承，使用__dict__屬性實現適配器模式 \"\"\"\n",
    "        self.obj = obj\n",
    "        self.__dict__.update(adapted_methods)\n",
    "\n",
    "    def __str__(self):\n",
    "        return str(self.obj)\n",
    "\n",
    "\n",
    "def main():\n",
    "    objs = [Computer('Asus')]\n",
    "    synth = Synthesizer('moog')\n",
    "    objs.append(Adapter(synth, dict(execute=synth.play)))\n",
    "    human = Human('Wnn')\n",
    "    objs.append(Adapter(human, dict(execute=human.speak)))\n",
    "\n",
    "    for o in objs:\n",
    "        # 用統一的execute適配不同物件的方法，這樣在無需修改物件的情況下實現了不同物件的適配\n",
    "        print('{} {}'.format(str(o), o.execute()))\n",
    "\n",
    "\n",
    "main()"
   ]
  },
  {
   "cell_type": "markdown",
   "metadata": {},
   "source": [
    "## The Strategy Pattern"
   ]
  },
  {
   "cell_type": "code",
   "execution_count": 107,
   "metadata": {},
   "outputs": [],
   "source": [
    "def f1(seq):\n",
    "    pass\n",
    "\n",
    "def f2(seq):\n",
    "    pass\n",
    "\n",
    "def f(seq):\n",
    "    if len(seq) >= threshold_value:    # 大于某个阈值\n",
    "        f1(seq)    # 在数量较多时候具有良好的效率\n",
    "    else:\n",
    "        f2(seq)"
   ]
  },
  {
   "cell_type": "markdown",
   "metadata": {},
   "source": [
    "## The Observer Pattern "
   ]
  },
  {
   "cell_type": "code",
   "execution_count": 1,
   "metadata": {},
   "outputs": [
    {
     "name": "stdout",
     "output_type": "stream",
     "text": [
      "當前溫度是：40℃\n",
      "當前溫度是：60℃\n",
      "水已燒好！溫度正好，可以用來洗澡了。\n",
      "當前溫度是：100℃\n",
      "水已燒開！可以用來飲用了。\n"
     ]
    }
   ],
   "source": [
    "## 修改前\n",
    "from abc import ABC, abstractmethod\n",
    "\n",
    "class WaterHeater:\n",
    "\n",
    "    def __init__(self):\n",
    "        self.__observers = []\n",
    "        self.__temperature = 25\n",
    "    def getTemperature(self):\n",
    "        return self.__temperature\n",
    "    def setTemperature(self, temperature):\n",
    "        self.__temperature = temperature\n",
    "        print(\"當前溫度是：\" + str(self.__temperature) + \"℃\")\n",
    "        self.notifies()\n",
    "    def addObserver(self, observer):\n",
    "        self.__observers.append(observer)\n",
    "    def notifies(self):\n",
    "        for o in self.__observers:\n",
    "            o.update(self)\n",
    "\n",
    "class Observer(ABC):\n",
    "    \n",
    "    @abstractmethod\n",
    "    def update(self, waterHeater):\n",
    "        pass\n",
    "\n",
    "class WashingMode(Observer):\n",
    "    \n",
    "    def update(self, waterHeater):\n",
    "        if waterHeater.getTemperature() >= 50 and waterHeater.getTemperature() < 70:\n",
    "            print(\"水已燒好！溫度正好，可以用來洗澡了。\")\n",
    "\n",
    "class DrinkingMode(Observer):\n",
    "    \n",
    "    def update(self, waterHeater):\n",
    "        if waterHeater.getTemperature() >= 100:\n",
    "            print(\"水已燒開！可以用來飲用了。\")\n",
    "\n",
    "heater = WaterHeater()\n",
    "washingObser = WashingMode()\n",
    "drinkingObser = DrinkingMode()\n",
    "heater.addObserver(washingObser)\n",
    "heater.addObserver(drinkingObser)\n",
    "heater.setTemperature(40)\n",
    "heater.setTemperature(60)\n",
    "heater.setTemperature(100)"
   ]
  },
  {
   "cell_type": "code",
   "execution_count": 2,
   "metadata": {},
   "outputs": [],
   "source": [
    "## 修改後\n",
    "class Observer(ABC):\n",
    "\n",
    "    @abstractmethod\n",
    "    def update(self, observable, object):\n",
    "        pass\n",
    "\n",
    "class Observable:\n",
    " \n",
    "    def __init__(self):\n",
    "        self.__observers = []\n",
    "    def addObserver(self, observer):\n",
    "        self.__observers.append(observer)\n",
    "    def removeObserver(self, observer):\n",
    "        self.__observers.remove(observer)\n",
    "    def notifyObservers(self, object=0):\n",
    "        for o in self.__observers:\n",
    "            o.update(self, object)"
   ]
  },
  {
   "cell_type": "code",
   "execution_count": 3,
   "metadata": {},
   "outputs": [
    {
     "name": "stdout",
     "output_type": "stream",
     "text": [
      "當前溫度是：40℃\n",
      "當前溫度是：60℃\n",
      "水已燒好！溫度正好，可以用來洗澡了。\n",
      "當前溫度是：100℃\n",
      "水已燒開！可以用來飲用了。\n"
     ]
    }
   ],
   "source": [
    "class WaterHeater(Observable):\n",
    "\n",
    "    def __init__(self):\n",
    "        super().__init__()\n",
    "        self.__temperature = 25\n",
    "    def getTemperature(self):\n",
    "        return self.__temperature\n",
    "    def setTemperature(self, temperature):\n",
    "        self.__temperature = temperature\n",
    "        print(\"當前溫度是：\" + str(self.__temperature) + \"℃\")\n",
    "        self.notifyObservers()\n",
    "\n",
    "class WashingMode(Observer):\n",
    "    \n",
    "    def update(self, observable, object):\n",
    "        if isinstance(observable, WaterHeater) \\\n",
    "                and observable.getTemperature() >= 50 and observable.getTemperature() < 70:\n",
    "            print(\"水已燒好！溫度正好，可以用來洗澡了。\")\n",
    "\n",
    "class DrinkingMode(Observer):\n",
    "\n",
    "    def update(self, observable, object):\n",
    "        if isinstance(observable, WaterHeater) and observable.getTemperature() >= 100:\n",
    "            print(\"水已燒開！可以用來飲用了。\")\n",
    "\n",
    "heater = WaterHeater()\n",
    "washingObser = WashingMode()\n",
    "drinkingObser = DrinkingMode()\n",
    "heater.addObserver(washingObser)\n",
    "heater.addObserver(drinkingObser)\n",
    "heater.setTemperature(40)\n",
    "heater.setTemperature(60)\n",
    "heater.setTemperature(100)"
   ]
  },
  {
   "cell_type": "markdown",
   "metadata": {},
   "source": [
    "## The Facade Pattern"
   ]
  },
  {
   "cell_type": "code",
   "execution_count": 9,
   "metadata": {},
   "outputs": [
    {
     "name": "stdout",
     "output_type": "stream",
     "text": [
      "你好,Tony同學!\n",
      "繳費中心:收到Tony同學10000元付款，繳費成功！\n",
      "你好,Mary同學! 我是新生報到的志願者Frank，我將帶你完成整個報到流程。\n",
      "活動中心:Mary同學報到成功！\n",
      "繳費中心:收到Mary同學10000元付款，繳費成功！\n",
      "生活中心:Mary同學的生活用品已發放。\n",
      "宿    舍:大家好！這是剛來的Mary同學，是你們未來需要共度四年的室友！相互認識一下……\n"
     ]
    }
   ],
   "source": [
    "class Register:\n",
    "    \"\"\"報到登記\"\"\"\n",
    "    def register(self, name):\n",
    "        print(\"活動中心:%s同學報到成功！\" % name)\n",
    "\n",
    "class Payment:\n",
    "    \"\"\"繳費中心\"\"\"\n",
    "    def pay(self, name, money):\n",
    "        print(\"繳費中心:收到%s同學%s元付款，繳費成功！\" % (name, money) )\n",
    "\n",
    "class DormitoryManagementCenter:\n",
    "    \"\"\"生活中心\"\"\"\n",
    "    def provideLivingGoods(self, name):\n",
    "        print(\"生活中心:%s同學的生活用品已發放。\" % name)\n",
    "\n",
    "class Dormitory:\n",
    "    \"\"\"宿舍\"\"\"\n",
    "    def meetRoommate(self, name):\n",
    "        print(\"宿    舍:\" + \"大家好！這是剛來的%s同學，是你們未來需要共度四年的室友！相互認識一下……\" % name)\n",
    "\n",
    "class Volunteer:\n",
    "    \"\"\"迎新志願者\"\"\"\n",
    "    def __init__(self, name):\n",
    "        self.__name = name\n",
    "        self.__register = Register()\n",
    "        self.__payment = Payment()\n",
    "        self.__lifeCenter = DormitoryManagementCenter()\n",
    "        self.__dormintory = Dormitory()\n",
    "    def welcomeFreshmen(self, name, sex):\n",
    "        if sex.lower() == 'male':\n",
    "            print(\"你好,%s同學!\" % name)\n",
    "            self.__payment.pay(name, 10000)\n",
    "        else:\n",
    "            print(\"你好,%s同學! 我是新生報到的志願者%s，我將帶你完成整個報到流程。\" % (name, self.__name))\n",
    "            self.__register.register(name)\n",
    "            self.__payment.pay(name, 10000)\n",
    "            self.__lifeCenter.provideLivingGoods(name)\n",
    "            self.__dormintory.meetRoommate(name)\n",
    "\n",
    "def testRegister():\n",
    "    volunteer = Volunteer(\"Frank\")\n",
    "    volunteer.welcomeFreshmen(\"Tony\", 'male')\n",
    "    volunteer.welcomeFreshmen(\"Mary\", 'female')\n",
    "\n",
    "testRegister()\n"
   ]
  },
  {
   "cell_type": "markdown",
   "metadata": {},
   "source": [
    "## Strategy mode"
   ]
  },
  {
   "cell_type": "code",
   "execution_count": 12,
   "metadata": {},
   "outputs": [
    {
     "name": "stdout",
     "output_type": "stream",
     "text": [
      "John 騎Ubike 來聚餐！\n",
      "Helen 坐公車 來聚餐！\n",
      "Henry 搭小黃 來聚餐！\n",
      "Ruby 坐捷運 來聚餐！\n"
     ]
    }
   ],
   "source": [
    "from abc import ABC, abstractmethod\n",
    "\n",
    "class IVehicle(ABC):\n",
    "    @abstractmethod\n",
    "    def running(self):\n",
    "        pass\n",
    "\n",
    "class UBike(IVehicle):\n",
    "    def running(self):\n",
    "        print(\"騎Ubike\", end='')\n",
    "\n",
    "class Bus(IVehicle):\n",
    "    def running(self):\n",
    "        print(\"坐公車\", end='')\n",
    "\n",
    "class Taxi(IVehicle):\n",
    "    def running(self):\n",
    "        print(\"搭小黃\", end='')\n",
    "\n",
    "class Metro(IVehicle):\n",
    "    def running(self):\n",
    "        print(\"坐捷運\", end='')\n",
    "\n",
    "class Classmate:\n",
    "    def __init__(self, name, vechicle):\n",
    "        self.__name = name\n",
    "        self.__vechicle = vechicle\n",
    "    def attendTheDinner(self):\n",
    "        print(self.__name + \" \", end='')\n",
    "        self.__vechicle.running()\n",
    "        print(\" 來聚餐！\")\n",
    "\n",
    "def testTheDinner():\n",
    "    uBike = UBike()\n",
    "    John = Classmate(\"John\", uBike)\n",
    "    John.attendTheDinner()\n",
    "    \n",
    "    helen = Classmate(\"Helen\", Bus())\n",
    "    helen.attendTheDinner()\n",
    "    \n",
    "    henry = Classmate(\"Henry\", Taxi())\n",
    "    henry.attendTheDinner()\n",
    "    \n",
    "    ruby = Classmate(\"Ruby\", Metro())\n",
    "    ruby.attendTheDinner()\n",
    "\n",
    "testTheDinner()\n"
   ]
  },
  {
   "cell_type": "markdown",
   "metadata": {},
   "source": [
    "## The Command Pattern"
   ]
  },
  {
   "cell_type": "code",
   "execution_count": 13,
   "metadata": {},
   "outputs": [
    {
     "name": "stdout",
     "output_type": "stream",
     "text": [
      "客戶David：我要一份 清蒸大閘蟹\n",
      "服務員Anna：您的 清蒸大閘蟹 訂單已經收到,請耐心等待\n",
      "大閘蟹清蒸中...\n",
      "服務員Anna：您的餐 清蒸大閘蟹 已經準備好，請您慢用!\n",
      "\n",
      "客戶Tony：我要一份 辣炒大閘蟹\n",
      "服務員Anna：您的 辣炒大閘蟹 訂單已經收到,請耐心等待\n",
      "大閘蟹爆炒中...\n",
      "服務員Anna：您的餐 香辣炒大閘蟹 已經準備好，請您慢用!\n"
     ]
    }
   ],
   "source": [
    "class Chef():\n",
    "    def steamFood(self, originalMaterial):\n",
    "        print(\"%s清蒸中...\" % originalMaterial)\n",
    "        return \"清蒸\" + originalMaterial\n",
    "    def stirFriedFood(self, originalMaterial):\n",
    "        print(\"%s爆炒中...\" % originalMaterial)\n",
    "        return \"香辣炒\" + originalMaterial\n",
    "\n",
    "class Order(ABC):\n",
    "    def __init__(self, name, originalMaterial):\n",
    "        self._chef = Chef()\n",
    "        self._name = name\n",
    "        self._originalMaterial = originalMaterial\n",
    "    def getDisplayName(self):\n",
    "        return self._name + self._originalMaterial\n",
    "    @abstractmethod\n",
    "    def processingOrder(self):\n",
    "        pass\n",
    "\n",
    "class SteamedOrder(Order):\n",
    "    def __init__(self, originalMaterial):\n",
    "        super().__init__(\"清蒸\", originalMaterial)\n",
    "    def processingOrder(self):\n",
    "        if(self._chef is not None):\n",
    "            return self._chef.steamFood(self._originalMaterial)\n",
    "        return \"\"\n",
    "\n",
    "class SpicyOrder(Order):\n",
    "    def __init__(self, originalMaterial):\n",
    "        super().__init__(\"辣炒\", originalMaterial)\n",
    "    def processingOrder(self):\n",
    "        if (self._chef is not None):\n",
    "            return self._chef.stirFriedFood(self._originalMaterial)\n",
    "        return \"\"\n",
    "\n",
    "class Waiter:\n",
    "    def __init__(self, name):\n",
    "        self.__name = name\n",
    "        self.__order = None\n",
    "    def receiveOrder(self, order):\n",
    "        self.__order = order\n",
    "        print(\"服務員%s：您的 %s 訂單已經收到,請耐心等待\" % (self.__name, order.getDisplayName()) )\n",
    "    def placeOrder(self):\n",
    "        food = self.__order.processingOrder()\n",
    "        print(\"服務員%s：您的餐 %s 已經準備好，請您慢用!\" % (self.__name, food) )\n",
    "\n",
    "def testOrder():\n",
    "    waiter = Waiter(\"Anna\")\n",
    "    steamedOrder = SteamedOrder(\"大閘蟹\")\n",
    "    print(\"客戶David：我要一份 %s\" % steamedOrder.getDisplayName())\n",
    "    waiter.receiveOrder(steamedOrder)\n",
    "    waiter.placeOrder()\n",
    "    print()\n",
    "    spicyOrder = SpicyOrder(\"大閘蟹\")\n",
    "    print(\"客戶Tony：我要一份 %s\" % spicyOrder.getDisplayName())\n",
    "    waiter.receiveOrder(spicyOrder)\n",
    "    waiter.placeOrder()\n",
    "\n",
    "testOrder()\n"
   ]
  },
  {
   "cell_type": "code",
   "execution_count": null,
   "metadata": {},
   "outputs": [],
   "source": [
    "from abc import ABC, abstractmethod\n",
    "\n",
    "class Command(ABC):\n",
    "    \"\"\"命令的抽象類別\"\"\"\n",
    "    @abstractmethod\n",
    "    def execute(self):\n",
    "        pass\n",
    "\n",
    "class CommandImpl(Command):\n",
    "    \"\"\"命令的具體實現類別\"\"\"\n",
    "    def __init__(self, receiver):\n",
    "        self.__receiver = receiver\n",
    "    def execute(self):\n",
    "        self.__receiver.doSomething()\n",
    "\n",
    "class Receiver:\n",
    "    \"\"\"命令的接收者\"\"\"\n",
    "    def doSomething(self):\n",
    "        print(\"do something...\")\n",
    "\n",
    "class Invoker:\n",
    "    \"\"\"調度者\"\"\"\n",
    "    def __init__(self):\n",
    "        self.__command = None\n",
    "    def setCommand(self, command):\n",
    "        self.__command = command\n",
    "    def action(self):\n",
    "        if self.__command is not None:\n",
    "            self.__command.execute()"
   ]
  },
  {
   "cell_type": "markdown",
   "metadata": {},
   "source": [
    "## The Template Pattern"
   ]
  },
  {
   "cell_type": "code",
   "execution_count": 14,
   "metadata": {},
   "outputs": [
    {
     "name": "stdout",
     "output_type": "stream",
     "text": [
      "左右平滑:第2頁的內容\n",
      "左右平滑:第1頁的內容\n",
      "模擬翻頁:第2頁的內容\n",
      "模擬翻頁:第1頁的內容\n"
     ]
    }
   ],
   "source": [
    "from abc import ABC, abstractmethod\n",
    "\n",
    "class ReaderView(ABC):\n",
    "    def __init__(self):\n",
    "        self.__curPageNum = 1\n",
    "    def getPage(self, pageNum):\n",
    "        self.__curPageNum = pageNum\n",
    "        return \"第\" + str(pageNum) + \"頁的內容\"\n",
    "    def prePage(self):\n",
    "        content = self.getPage(self.__curPageNum - 1)\n",
    "        self._displayPage(content)\n",
    "    def nextPage(self):\n",
    "        content = self.getPage(self.__curPageNum + 1)\n",
    "        self._displayPage(content)\n",
    "    @abstractmethod\n",
    "    def _displayPage(self, content):\n",
    "        \"\"\"翻頁效果\"\"\"\n",
    "        pass\n",
    "\n",
    "class SmoothView(ReaderView):\n",
    "    def _displayPage(self, content):\n",
    "        print(\"左右平滑:\" + content)\n",
    "\n",
    "class SimulationView(ReaderView):\n",
    "    def _displayPage(self, content):\n",
    "        print(\"模擬翻頁:\" + content)\n",
    "\n",
    "def testReader():\n",
    "    smoothView = SmoothView()\n",
    "    smoothView.nextPage()\n",
    "    smoothView.prePage()\n",
    "\n",
    "    simulationView = SimulationView()\n",
    "    simulationView.nextPage()\n",
    "    simulationView.prePage()\n",
    "\n",
    "testReader()\n"
   ]
  }
 ],
 "metadata": {
  "kernelspec": {
   "display_name": "Python 3",
   "language": "python",
   "name": "python3"
  },
  "language_info": {
   "codemirror_mode": {
    "name": "ipython",
    "version": 3
   },
   "file_extension": ".py",
   "mimetype": "text/x-python",
   "name": "python",
   "nbconvert_exporter": "python",
   "pygments_lexer": "ipython3",
   "version": "3.6.5"
  }
 },
 "nbformat": 4,
 "nbformat_minor": 2
}
