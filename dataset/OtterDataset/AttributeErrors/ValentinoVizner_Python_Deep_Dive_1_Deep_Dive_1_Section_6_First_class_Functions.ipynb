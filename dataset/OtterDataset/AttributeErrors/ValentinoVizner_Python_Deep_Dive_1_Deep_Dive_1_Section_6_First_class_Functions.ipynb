{
  "nbformat": 4,
  "nbformat_minor": 0,
  "metadata": {
    "colab": {
      "name": "Deep_Dive_1_Section_6_First_class_Functions.ipynb",
      "provenance": [],
      "authorship_tag": "ABX9TyNMRGMQC+WnhefABX1uIakC",
      "include_colab_link": true
    },
    "kernelspec": {
      "name": "python3",
      "display_name": "Python 3"
    }
  },
  "cells": [
    {
      "cell_type": "markdown",
      "metadata": {
        "id": "view-in-github",
        "colab_type": "text"
      },
      "source": [
        "<a href=\"https://colab.research.google.com/github/ValentinoVizner/Python_Deep_Dive_1/blob/master/Deep_Dive_1_Section_6_First_class_Functions.ipynb\" target=\"_parent\"><img src=\"https://colab.research.google.com/assets/colab-badge.svg\" alt=\"Open In Colab\"/></a>"
      ]
    },
    {
      "cell_type": "markdown",
      "metadata": {
        "id": "_Yw9TyS1hhwp",
        "colab_type": "text"
      },
      "source": [
        "# 1.Introduction to First Class-Functions"
      ]
    },
    {
      "cell_type": "markdown",
      "metadata": {
        "id": "MbjkBtKSDbt-",
        "colab_type": "text"
      },
      "source": [
        "# New Section"
      ]
    },
    {
      "cell_type": "markdown",
      "metadata": {
        "id": "SQnrpFtzhy9N",
        "colab_type": "text"
      },
      "source": [
        "![alt text](https://drive.google.com/uc?id=1gORWl_Sq0KEb11nNUrUj89O-XvRaRYwi)"
      ]
    },
    {
      "cell_type": "markdown",
      "metadata": {
        "id": "QcmmwQbcbGlz",
        "colab_type": "text"
      },
      "source": [
        "![alt text](https://drive.google.com/uc?id=12x9Am6nU_tCDPBAym0e0ct_aNZ5IKOfN)"
      ]
    },
    {
      "cell_type": "markdown",
      "metadata": {
        "id": "sxEKfhhVbI-N",
        "colab_type": "text"
      },
      "source": [
        "![alt text](https://drive.google.com/uc?id=1GrUyQWFCTtnAcM17_hK58Ni0f-IpbhSa)"
      ]
    },
    {
      "cell_type": "markdown",
      "metadata": {
        "id": "0kfTZRPfbUih",
        "colab_type": "text"
      },
      "source": [
        "# 2.DOCSTRING and Annotations"
      ]
    },
    {
      "cell_type": "markdown",
      "metadata": {
        "id": "VWDWOejFboWk",
        "colab_type": "text"
      },
      "source": [
        "![alt text](https://drive.google.com/uc?id=1VCQ47x7gqSmi2dAYv0awRbLhDYkG7VXn)"
      ]
    },
    {
      "cell_type": "markdown",
      "metadata": {
        "id": "2pQFWnpCbob3",
        "colab_type": "text"
      },
      "source": [
        "![alt text](https://drive.google.com/uc?id=1_-OAKkPpZShvWPFMR2AUNwmhuSguTjni)"
      ]
    },
    {
      "cell_type": "markdown",
      "metadata": {
        "id": "f-ACkQjobohC",
        "colab_type": "text"
      },
      "source": [
        "![alt text](https://drive.google.com/uc?id=1QyrfkJHHLa9z_fUDeEntM4mPWEu7oydZ)"
      ]
    },
    {
      "cell_type": "markdown",
      "metadata": {
        "id": "QE1XHXUhbolx",
        "colab_type": "text"
      },
      "source": [
        "![alt text](https://drive.google.com/uc?id=1Aq-IMjt5KchV2cdhpUKCgWM9yGG5xhDG)"
      ]
    },
    {
      "cell_type": "markdown",
      "metadata": {
        "id": "lMG_c1BsoHIA",
        "colab_type": "text"
      },
      "source": [
        "## CAUTION:\n",
        "Here in 3rd `def my_func()` that has `a repeated + str(max(x,y)) + times`\n",
        "</br>\n",
        "max(x, y) will be calculated only when we define the function, so when we define it we will get `a repeated 5 times` but when we call our function somewhere else in code, it wont change if we pass another pair of arguments to our function.\n",
        "</br>\n",
        "It will be evaluated ONCE!"
      ]
    },
    {
      "cell_type": "markdown",
      "metadata": {
        "id": "t5g0bEX6boqq",
        "colab_type": "text"
      },
      "source": [
        "![alt text](https://drive.google.com/uc?id=1h-En3lvaYfeMD-6nRRMX3rsnClTj1_TW)"
      ]
    },
    {
      "cell_type": "markdown",
      "metadata": {
        "id": "GGWAzqL9bovH",
        "colab_type": "text"
      },
      "source": [
        "![alt text](https://drive.google.com/uc?id=1QzkzIOB2NNDethymNcc49GaR-_e20kK6)"
      ]
    },
    {
      "cell_type": "markdown",
      "metadata": {
        "id": "I4Op1JUXboz4",
        "colab_type": "text"
      },
      "source": [
        "![alt text](https://drive.google.com/uc?id=1LzjarabIBcs7_2cbVMvZbyqPxnkGbbcQ)"
      ]
    },
    {
      "cell_type": "markdown",
      "metadata": {
        "id": "uNU57OyIfXtP",
        "colab_type": "text"
      },
      "source": [
        "## Coding Time"
      ]
    },
    {
      "cell_type": "markdown",
      "metadata": {
        "id": "GQIjgB9af7bH",
        "colab_type": "text"
      },
      "source": [
        "When we call **help()** on a class, function, module, etc, Python will typically display some information:"
      ]
    },
    {
      "cell_type": "code",
      "metadata": {
        "id": "wm1-YIUpbSFl",
        "colab_type": "code",
        "outputId": "07d1eb8b-8ce0-4aaa-954b-5513258a9735",
        "colab": {
          "base_uri": "https://localhost:8080/",
          "height": 221
        }
      },
      "source": [
        "help(print)"
      ],
      "execution_count": 0,
      "outputs": [
        {
          "output_type": "stream",
          "text": [
            "Help on built-in function print in module builtins:\n",
            "\n",
            "print(...)\n",
            "    print(value, ..., sep=' ', end='\\n', file=sys.stdout, flush=False)\n",
            "    \n",
            "    Prints the values to a stream, or to sys.stdout by default.\n",
            "    Optional keyword arguments:\n",
            "    file:  a file-like object (stream); defaults to the current sys.stdout.\n",
            "    sep:   string inserted between values, default a space.\n",
            "    end:   string appended after the last value, default a newline.\n",
            "    flush: whether to forcibly flush the stream.\n",
            "\n"
          ],
          "name": "stdout"
        }
      ]
    },
    {
      "cell_type": "markdown",
      "metadata": {
        "id": "T7b1mDNtgCoq",
        "colab_type": "text"
      },
      "source": [
        "We can define such help using docstrings and annotations."
      ]
    },
    {
      "cell_type": "code",
      "metadata": {
        "id": "Bb6So5RIgAKL",
        "colab_type": "code",
        "colab": {}
      },
      "source": [
        "def my_func(a, b):\n",
        "    return a*b"
      ],
      "execution_count": 0,
      "outputs": []
    },
    {
      "cell_type": "code",
      "metadata": {
        "id": "PltC4gLIgF4S",
        "colab_type": "code",
        "outputId": "e8baa105-1ef0-4755-b547-b17a046ab64f",
        "colab": {
          "base_uri": "https://localhost:8080/",
          "height": 85
        }
      },
      "source": [
        "help(my_func)"
      ],
      "execution_count": 0,
      "outputs": [
        {
          "output_type": "stream",
          "text": [
            "Help on function my_func in module __main__:\n",
            "\n",
            "my_func(a, b)\n",
            "\n"
          ],
          "name": "stdout"
        }
      ]
    },
    {
      "cell_type": "code",
      "metadata": {
        "id": "inyRH8CNgH7N",
        "colab_type": "code",
        "outputId": "73a09cfb-89db-4d0e-9892-34565ecd4c1d",
        "colab": {
          "base_uri": "https://localhost:8080/",
          "height": 102
        }
      },
      "source": [
        "def my_func(a, b):\n",
        "    'Returns the product of a and b'\n",
        "    return a*b\n",
        "\n",
        "help(my_func)"
      ],
      "execution_count": 0,
      "outputs": [
        {
          "output_type": "stream",
          "text": [
            "Help on function my_func in module __main__:\n",
            "\n",
            "my_func(a, b)\n",
            "    Returns the product of a and b\n",
            "\n"
          ],
          "name": "stdout"
        }
      ]
    },
    {
      "cell_type": "markdown",
      "metadata": {
        "id": "-YRHTLZugVBe",
        "colab_type": "text"
      },
      "source": [
        "Docstrings can span multiple lines using a multi-line string literal:"
      ]
    },
    {
      "cell_type": "code",
      "metadata": {
        "id": "etDEcqGPgQ3K",
        "colab_type": "code",
        "outputId": "8d1a9fee-4b33-41a7-d819-ec1e342a096b",
        "colab": {
          "base_uri": "https://localhost:8080/",
          "height": 221
        }
      },
      "source": [
        "def fact(n):\n",
        "    '''Calculates n! (factorial function)\n",
        "    \n",
        "    Inputs\n",
        "    ------\n",
        "        n: non-negative integer\n",
        "    Returns\n",
        "    -------\n",
        "        the factorial of n\n",
        "    '''\n",
        "    \n",
        "    if n < 0:\n",
        "        '''Note that this is not part of the docstring!'''\n",
        "        return 1\n",
        "    else:\n",
        "        return n * fact(n-1)\n",
        "    \n",
        "\n",
        "help(fact)"
      ],
      "execution_count": 0,
      "outputs": [
        {
          "output_type": "stream",
          "text": [
            "Help on function fact in module __main__:\n",
            "\n",
            "fact(n)\n",
            "    Calculates n! (factorial function)\n",
            "    \n",
            "    Inputs\n",
            "    ------\n",
            "        n: non-negative integer\n",
            "    Returns\n",
            "    -------\n",
            "        the factorial of n\n",
            "\n"
          ],
          "name": "stdout"
        }
      ]
    },
    {
      "cell_type": "markdown",
      "metadata": {
        "id": "bxmORuJjglwE",
        "colab_type": "text"
      },
      "source": [
        "Docstrings, when found, are simply attached to the function in the `__doc__` property:"
      ]
    },
    {
      "cell_type": "code",
      "metadata": {
        "id": "-sPdaf_Fgc09",
        "colab_type": "code",
        "outputId": "e88d08be-b0e7-4127-f494-ae1b81becf75",
        "colab": {
          "base_uri": "https://localhost:8080/",
          "height": 54
        }
      },
      "source": [
        "fact.__doc__"
      ],
      "execution_count": 0,
      "outputs": [
        {
          "output_type": "execute_result",
          "data": {
            "text/plain": [
              "'Calculates n! (factorial function)\\n    \\n    Inputs\\n    ------\\n        n: non-negative integer\\n    Returns\\n    -------\\n        the factorial of n\\n    '"
            ]
          },
          "metadata": {
            "tags": []
          },
          "execution_count": 21
        }
      ]
    },
    {
      "cell_type": "markdown",
      "metadata": {
        "id": "-mLWRNr6grdh",
        "colab_type": "text"
      },
      "source": [
        "And the Python **help()** function simply returns the contents of `__doc__`"
      ]
    },
    {
      "cell_type": "markdown",
      "metadata": {
        "id": "AcYXRwSTg_Li",
        "colab_type": "text"
      },
      "source": [
        "### Annotations"
      ]
    },
    {
      "cell_type": "markdown",
      "metadata": {
        "id": "Pmc5gRt9hE6o",
        "colab_type": "text"
      },
      "source": [
        "We can also add metadata annotations to a function's parameters and return. These metadata annotations can be any **expression** (string, type, function call, etc)"
      ]
    },
    {
      "cell_type": "code",
      "metadata": {
        "id": "CN_wAsGmgol1",
        "colab_type": "code",
        "outputId": "0debb7f3-6349-4824-f3f7-fd9bf3ad6868",
        "colab": {
          "base_uri": "https://localhost:8080/",
          "height": 85
        }
      },
      "source": [
        "def my_func(a:'annotation for a', \n",
        "            b:'annotation for b')->'annotation for return':\n",
        "    \n",
        "    return a*b\n",
        "\n",
        "help(my_func)"
      ],
      "execution_count": 0,
      "outputs": [
        {
          "output_type": "stream",
          "text": [
            "Help on function my_func in module __main__:\n",
            "\n",
            "my_func(a:'annotation for a', b:'annotation for b') -> 'annotation for return'\n",
            "\n"
          ],
          "name": "stdout"
        }
      ]
    },
    {
      "cell_type": "markdown",
      "metadata": {
        "id": "H52tNqCij6z-",
        "colab_type": "text"
      },
      "source": [
        "The annotations can be any expression, not just strings:"
      ]
    },
    {
      "cell_type": "code",
      "metadata": {
        "id": "KOqwjppOj3lu",
        "colab_type": "code",
        "outputId": "cb4cf079-9756-4184-8f72-049106948cf0",
        "colab": {
          "base_uri": "https://localhost:8080/",
          "height": 85
        }
      },
      "source": [
        "x = 3\n",
        "y = 5\n",
        "def my_func(a: str) -> 'a repeated ' + str(max(3, 5)) + ' times':\n",
        "\treturn a*max(x, y)\n",
        "help(my_func)"
      ],
      "execution_count": 0,
      "outputs": [
        {
          "output_type": "stream",
          "text": [
            "Help on function my_func in module __main__:\n",
            "\n",
            "my_func(a:str) -> 'a repeated 5 times'\n",
            "\n"
          ],
          "name": "stdout"
        }
      ]
    },
    {
      "cell_type": "markdown",
      "metadata": {
        "id": "h7VGV-6mkOgM",
        "colab_type": "text"
      },
      "source": [
        "Note that these annotations do **not** force a type on the parameters or the return value - they are simply there for documentation purposes within Python and **may** be used by external applications and modules, such as IDE's.\n",
        "</br>\n",
        "</br>\n",
        "Just like docstrings are stored in the `__doc__` property, annotations are stored in the `__annotations__` property - a dictionary whose keys are the parameter names, and values are the annotation."
      ]
    },
    {
      "cell_type": "code",
      "metadata": {
        "id": "veHSUQj3kKUA",
        "colab_type": "code",
        "outputId": "83057f2e-fa6b-49ff-d3b2-3b5320539945",
        "colab": {
          "base_uri": "https://localhost:8080/",
          "height": 34
        }
      },
      "source": [
        "my_func.__annotations__"
      ],
      "execution_count": 0,
      "outputs": [
        {
          "output_type": "execute_result",
          "data": {
            "text/plain": [
              "{'a': str, 'return': 'a repeated 5 times'}"
            ]
          },
          "metadata": {
            "tags": []
          },
          "execution_count": 10
        }
      ]
    },
    {
      "cell_type": "markdown",
      "metadata": {
        "id": "lM6ZWca6keXV",
        "colab_type": "text"
      },
      "source": [
        "Of course we can combine both docstrings and annotations:"
      ]
    },
    {
      "cell_type": "code",
      "metadata": {
        "id": "4suVtkbSkaiO",
        "colab_type": "code",
        "outputId": "3f946221-58cb-4612-afac-a34470b0b7ca",
        "colab": {
          "base_uri": "https://localhost:8080/",
          "height": 187
        }
      },
      "source": [
        "def fact(n: 'int >= 0')->int:\n",
        "    '''Calculates n! (factorial function)\n",
        "    \n",
        "    Inputs:\n",
        "        n: non-negative integer\n",
        "    Returns:\n",
        "        the factorial of n\n",
        "    '''\n",
        "    \n",
        "    if n < 0:\n",
        "        '''Note that this is not part of the docstring!'''\n",
        "        return 1\n",
        "    else:\n",
        "        return n * fact(n-1)\n",
        "\n",
        "help(fact)"
      ],
      "execution_count": 0,
      "outputs": [
        {
          "output_type": "stream",
          "text": [
            "Help on function fact in module __main__:\n",
            "\n",
            "fact(n:'int >= 0') -> int\n",
            "    Calculates n! (factorial function)\n",
            "    \n",
            "    Inputs:\n",
            "        n: non-negative integer\n",
            "    Returns:\n",
            "        the factorial of n\n",
            "\n"
          ],
          "name": "stdout"
        }
      ]
    },
    {
      "cell_type": "markdown",
      "metadata": {
        "id": "O7u15tEskm0I",
        "colab_type": "text"
      },
      "source": [
        "Annotations will work with default parameters too: just specify the default **after** the annotation:"
      ]
    },
    {
      "cell_type": "code",
      "metadata": {
        "id": "K47_mUD_kgQg",
        "colab_type": "code",
        "outputId": "13f521c3-8412-464b-806f-30abb84c40db",
        "colab": {
          "base_uri": "https://localhost:8080/",
          "height": 85
        }
      },
      "source": [
        "def my_func(a:str='a', b:int=1)->str:\n",
        "    return a*b\n",
        "\n",
        "help(my_func)"
      ],
      "execution_count": 0,
      "outputs": [
        {
          "output_type": "stream",
          "text": [
            "Help on function my_func in module __main__:\n",
            "\n",
            "my_func(a:str='a', b:int=1) -> str\n",
            "\n"
          ],
          "name": "stdout"
        }
      ]
    },
    {
      "cell_type": "code",
      "metadata": {
        "id": "l94_BinPkkvp",
        "colab_type": "code",
        "outputId": "3944797a-f178-4a8a-98be-a3f2e72ca61a",
        "colab": {
          "base_uri": "https://localhost:8080/",
          "height": 34
        }
      },
      "source": [
        "my_func()"
      ],
      "execution_count": 0,
      "outputs": [
        {
          "output_type": "execute_result",
          "data": {
            "text/plain": [
              "'a'"
            ]
          },
          "metadata": {
            "tags": []
          },
          "execution_count": 16
        }
      ]
    },
    {
      "cell_type": "code",
      "metadata": {
        "id": "wPJYPwk4kxZu",
        "colab_type": "code",
        "outputId": "cf2868c5-7792-43f2-da09-d34f75a9bfa0",
        "colab": {
          "base_uri": "https://localhost:8080/",
          "height": 34
        }
      },
      "source": [
        "my_func('abc', 3)"
      ],
      "execution_count": 0,
      "outputs": [
        {
          "output_type": "execute_result",
          "data": {
            "text/plain": [
              "'abcabcabc'"
            ]
          },
          "metadata": {
            "tags": []
          },
          "execution_count": 17
        }
      ]
    },
    {
      "cell_type": "code",
      "metadata": {
        "id": "w3eJcJDGkzDK",
        "colab_type": "code",
        "outputId": "0541c7ce-1a83-4a19-aa21-d2925c639649",
        "colab": {
          "base_uri": "https://localhost:8080/",
          "height": 85
        }
      },
      "source": [
        "def my_func(a:int=0, *args:'additional args'):\n",
        "    print(a, args)\n",
        "\n",
        "help(my_func)"
      ],
      "execution_count": 0,
      "outputs": [
        {
          "output_type": "stream",
          "text": [
            "Help on function my_func in module __main__:\n",
            "\n",
            "my_func(a:int=0, *args:'additional args')\n",
            "\n"
          ],
          "name": "stdout"
        }
      ]
    },
    {
      "cell_type": "code",
      "metadata": {
        "id": "gVb4NLd6k3BJ",
        "colab_type": "code",
        "outputId": "1e268ba6-8a39-47e6-9321-5f6231b868a6",
        "colab": {
          "base_uri": "https://localhost:8080/",
          "height": 34
        }
      },
      "source": [
        "my_func.__annotations__"
      ],
      "execution_count": 0,
      "outputs": [
        {
          "output_type": "execute_result",
          "data": {
            "text/plain": [
              "{'a': int, 'args': 'additional args'}"
            ]
          },
          "metadata": {
            "tags": []
          },
          "execution_count": 19
        }
      ]
    },
    {
      "cell_type": "code",
      "metadata": {
        "id": "t539Sj9Hk5CE",
        "colab_type": "code",
        "colab": {}
      },
      "source": [
        "def my_func(a: str,\n",
        "            b: 'int > 0' = 1,\n",
        "            *args: 'some extra positional args',\n",
        "            k1: 'keyword-only arg 1',\n",
        "            k2: 'keyword-only arg 2' = 100,\n",
        "            **kwargs: 'some extra keyword-only args') -> 'something':\n",
        "            print(a, b, args, k1, k2, kwargs)"
      ],
      "execution_count": 0,
      "outputs": []
    },
    {
      "cell_type": "code",
      "metadata": {
        "id": "5VGtbL-1zugp",
        "colab_type": "code",
        "outputId": "eb8a678e-89f5-40f0-81eb-fc9752101662",
        "colab": {
          "base_uri": "https://localhost:8080/",
          "height": 105
        }
      },
      "source": [
        "help(my_func)"
      ],
      "execution_count": 0,
      "outputs": [
        {
          "output_type": "stream",
          "text": [
            "Help on function my_func in module __main__:\n",
            "\n",
            "my_func(a:str, b:'int > 0'=1, *args:'some extra positional args', k1:'keyword-only arg 1', k2:'keyword-only arg 2'=100, **kwargs:'some extra keyword-only args') -> 'something'\n",
            "\n"
          ],
          "name": "stdout"
        }
      ]
    },
    {
      "cell_type": "code",
      "metadata": {
        "id": "slEIPtvhzy99",
        "colab_type": "code",
        "outputId": "7b1696aa-82f9-4a56-f15c-7e6522cf240a",
        "colab": {
          "base_uri": "https://localhost:8080/",
          "height": 136
        }
      },
      "source": [
        "my_func.__annotations__"
      ],
      "execution_count": 0,
      "outputs": [
        {
          "output_type": "execute_result",
          "data": {
            "text/plain": [
              "{'a': str,\n",
              " 'args': 'some extra positional args',\n",
              " 'b': 'int > 0',\n",
              " 'k1': 'keyword-only arg 1',\n",
              " 'k2': 'keyword-only arg 2',\n",
              " 'kwargs': 'some extra keyword-only args',\n",
              " 'return': 'something'}"
            ]
          },
          "metadata": {
            "tags": []
          },
          "execution_count": 3
        }
      ]
    },
    {
      "cell_type": "code",
      "metadata": {
        "id": "rKalyEnkz2dw",
        "colab_type": "code",
        "outputId": "bfcc01eb-b7e2-42a6-fb77-b473828947d6",
        "colab": {
          "base_uri": "https://localhost:8080/",
          "height": 34
        }
      },
      "source": [
        "my_func(1, 2, 3, 4, 55, k1=10, k3=300, k4=600, kakoTo=20202)"
      ],
      "execution_count": 0,
      "outputs": [
        {
          "output_type": "stream",
          "text": [
            "1 2 (3, 4, 55) 10 100 {'k3': 300, 'k4': 600, 'kakoTo': 20202}\n"
          ],
          "name": "stdout"
        }
      ]
    },
    {
      "cell_type": "markdown",
      "metadata": {
        "id": "HHxEnwtJ0Gpb",
        "colab_type": "text"
      },
      "source": [
        "# 3.Lambda Expressions"
      ]
    },
    {
      "cell_type": "markdown",
      "metadata": {
        "id": "jsXTBcp20Lr5",
        "colab_type": "text"
      },
      "source": [
        "![alt text](https://drive.google.com/uc?id=1nQMQAeoI1rbtJtwOUYPN4KUrcLIEH90A)"
      ]
    },
    {
      "cell_type": "markdown",
      "metadata": {
        "id": "WJ7GZhYG0L1g",
        "colab_type": "text"
      },
      "source": [
        "![alt text](https://drive.google.com/uc?id=1FLi5EZfbkDZKnNL9G3Az8IPSuwszJKN1)"
      ]
    },
    {
      "cell_type": "markdown",
      "metadata": {
        "id": "Tja6N9qA1FWf",
        "colab_type": "text"
      },
      "source": [
        "![alt text](https://drive.google.com/uc?id=1XOx69Tt5ZE7zePfk7jv7w293Fd_P0Fsr)"
      ]
    },
    {
      "cell_type": "markdown",
      "metadata": {
        "id": "GYJuLW_31Ffh",
        "colab_type": "text"
      },
      "source": [
        "![alt text](https://drive.google.com/uc?id=14KxubRSxb3BDANuIO0kEJAD3vnzupXeW)"
      ]
    },
    {
      "cell_type": "markdown",
      "metadata": {
        "id": "VRGk_FtS1GWz",
        "colab_type": "text"
      },
      "source": [
        "![alt text](https://drive.google.com/uc?id=143EHD1rWCnnbUzMyYxfz3u5WHAiQXa-I)"
      ]
    },
    {
      "cell_type": "markdown",
      "metadata": {
        "id": "JMZN3Ua9G3e4",
        "colab_type": "text"
      },
      "source": [
        "## Coding time"
      ]
    },
    {
      "cell_type": "code",
      "metadata": {
        "id": "QeAJ2Pnr0BjV",
        "colab_type": "code",
        "outputId": "4c82ebc2-ac74-4d29-b8ae-696323bfca3b",
        "colab": {
          "base_uri": "https://localhost:8080/",
          "height": 34
        }
      },
      "source": [
        "lambda x: x**2"
      ],
      "execution_count": 0,
      "outputs": [
        {
          "output_type": "execute_result",
          "data": {
            "text/plain": [
              "<function __main__.<lambda>>"
            ]
          },
          "metadata": {
            "tags": []
          },
          "execution_count": 1
        }
      ]
    },
    {
      "cell_type": "markdown",
      "metadata": {
        "id": "l90nfO2zHfnt",
        "colab_type": "text"
      },
      "source": [
        "As you can see, the above expression just created a function."
      ]
    },
    {
      "cell_type": "markdown",
      "metadata": {
        "id": "0tb8U1_aHlHF",
        "colab_type": "text"
      },
      "source": [
        "### Assigning to a Variable"
      ]
    },
    {
      "cell_type": "code",
      "metadata": {
        "id": "ZoduGQ58HbM8",
        "colab_type": "code",
        "colab": {}
      },
      "source": [
        "func = lambda x: x**2"
      ],
      "execution_count": 0,
      "outputs": []
    },
    {
      "cell_type": "code",
      "metadata": {
        "id": "K2QF8ozIHyXx",
        "colab_type": "code",
        "outputId": "701379a7-1996-41f0-f853-9f4b1ede41c2",
        "colab": {
          "base_uri": "https://localhost:8080/",
          "height": 34
        }
      },
      "source": [
        "type(func)"
      ],
      "execution_count": 0,
      "outputs": [
        {
          "output_type": "execute_result",
          "data": {
            "text/plain": [
              "function"
            ]
          },
          "metadata": {
            "tags": []
          },
          "execution_count": 4
        }
      ]
    },
    {
      "cell_type": "code",
      "metadata": {
        "id": "YxjTy1BaH0Tn",
        "colab_type": "code",
        "outputId": "8ef6e34c-77a5-4fd7-f6b0-c94acafe351b",
        "colab": {
          "base_uri": "https://localhost:8080/",
          "height": 34
        }
      },
      "source": [
        "func(3)"
      ],
      "execution_count": 0,
      "outputs": [
        {
          "output_type": "execute_result",
          "data": {
            "text/plain": [
              "9"
            ]
          },
          "metadata": {
            "tags": []
          },
          "execution_count": 5
        }
      ]
    },
    {
      "cell_type": "markdown",
      "metadata": {
        "id": "G5G10kCPIDi0",
        "colab_type": "text"
      },
      "source": [
        "We can specify arguments for lambdas just like we would for any function created using **def**, except for annotations:"
      ]
    },
    {
      "cell_type": "code",
      "metadata": {
        "id": "IhV0en7DH-bZ",
        "colab_type": "code",
        "colab": {}
      },
      "source": [
        "func_1 = lambda x, y=10: (x, y)"
      ],
      "execution_count": 0,
      "outputs": []
    },
    {
      "cell_type": "code",
      "metadata": {
        "id": "DG5-6uuYIJsy",
        "colab_type": "code",
        "outputId": "9ca51d6a-f959-47ea-aed3-1d698c6bcc30",
        "colab": {
          "base_uri": "https://localhost:8080/",
          "height": 34
        }
      },
      "source": [
        "func_1(1, 2)"
      ],
      "execution_count": 0,
      "outputs": [
        {
          "output_type": "execute_result",
          "data": {
            "text/plain": [
              "(1, 2)"
            ]
          },
          "metadata": {
            "tags": []
          },
          "execution_count": 2
        }
      ]
    },
    {
      "cell_type": "code",
      "metadata": {
        "id": "liQLnfygP8fu",
        "colab_type": "code",
        "outputId": "1b8fd4d3-e889-4385-9392-3fc68223614a",
        "colab": {
          "base_uri": "https://localhost:8080/",
          "height": 34
        }
      },
      "source": [
        "func_11 = lambda x=10, y=11: (x*y)\n",
        "\n",
        "func_11()"
      ],
      "execution_count": 0,
      "outputs": [
        {
          "output_type": "execute_result",
          "data": {
            "text/plain": [
              "110"
            ]
          },
          "metadata": {
            "tags": []
          },
          "execution_count": 4
        }
      ]
    },
    {
      "cell_type": "code",
      "metadata": {
        "id": "85eerxQvIL29",
        "colab_type": "code",
        "outputId": "e16207d2-6f8d-433a-af08-5204ae1ee04a",
        "colab": {
          "base_uri": "https://localhost:8080/",
          "height": 34
        }
      },
      "source": [
        "func_1(1)"
      ],
      "execution_count": 0,
      "outputs": [
        {
          "output_type": "execute_result",
          "data": {
            "text/plain": [
              "(1, 10)"
            ]
          },
          "metadata": {
            "tags": []
          },
          "execution_count": 8
        }
      ]
    },
    {
      "cell_type": "markdown",
      "metadata": {
        "id": "cfvahN5EIZI0",
        "colab_type": "text"
      },
      "source": [
        "We can even use \\* and \\*\\*:"
      ]
    },
    {
      "cell_type": "code",
      "metadata": {
        "id": "HAASADdpIUKC",
        "colab_type": "code",
        "colab": {}
      },
      "source": [
        "func_2 = lambda x, *args, y, **kwargs: (x, *args, y, {**kwargs})"
      ],
      "execution_count": 0,
      "outputs": []
    },
    {
      "cell_type": "code",
      "metadata": {
        "id": "9pVvcVMiIbej",
        "colab_type": "code",
        "outputId": "efaabe26-6dd0-4d7f-b7b8-542d6adcf73b",
        "colab": {
          "base_uri": "https://localhost:8080/",
          "height": 34
        }
      },
      "source": [
        "func_2(1, 'a', 'b', y=100, a=10, b=20)"
      ],
      "execution_count": 0,
      "outputs": [
        {
          "output_type": "execute_result",
          "data": {
            "text/plain": [
              "(1, 'a', 'b', 100, {'a': 10, 'b': 20})"
            ]
          },
          "metadata": {
            "tags": []
          },
          "execution_count": 10
        }
      ]
    },
    {
      "cell_type": "markdown",
      "metadata": {
        "id": "e9FCDKLdIgWW",
        "colab_type": "text"
      },
      "source": [
        "### Passing as an Argument"
      ]
    },
    {
      "cell_type": "markdown",
      "metadata": {
        "id": "DTIQ4OIAIjt8",
        "colab_type": "text"
      },
      "source": [
        "Lambdas are functions, and can therefore be passed to any other function as an argument (or returned from another function)"
      ]
    },
    {
      "cell_type": "code",
      "metadata": {
        "id": "hc_K2fJ1IdRN",
        "colab_type": "code",
        "colab": {}
      },
      "source": [
        "def apply_func(x, fn):\n",
        "    return fn(x)"
      ],
      "execution_count": 0,
      "outputs": []
    },
    {
      "cell_type": "code",
      "metadata": {
        "id": "r2pQ36YSIm1m",
        "colab_type": "code",
        "outputId": "36518c0e-bab7-4c9b-9352-058711558261",
        "colab": {
          "base_uri": "https://localhost:8080/",
          "height": 34
        }
      },
      "source": [
        "apply_func(3, lambda x: x**2)"
      ],
      "execution_count": 0,
      "outputs": [
        {
          "output_type": "execute_result",
          "data": {
            "text/plain": [
              "9"
            ]
          },
          "metadata": {
            "tags": []
          },
          "execution_count": 12
        }
      ]
    },
    {
      "cell_type": "code",
      "metadata": {
        "id": "XBG3DqOmIpIg",
        "colab_type": "code",
        "outputId": "5e2ea1e1-6150-4f87-854c-65c81a650704",
        "colab": {
          "base_uri": "https://localhost:8080/",
          "height": 34
        }
      },
      "source": [
        "apply_func(3, lambda x: x**3)"
      ],
      "execution_count": 0,
      "outputs": [
        {
          "output_type": "execute_result",
          "data": {
            "text/plain": [
              "27"
            ]
          },
          "metadata": {
            "tags": []
          },
          "execution_count": 13
        }
      ]
    },
    {
      "cell_type": "markdown",
      "metadata": {
        "id": "UwsLC4wpI4l9",
        "colab_type": "text"
      },
      "source": [
        "Of course we can make this even more generic:"
      ]
    },
    {
      "cell_type": "code",
      "metadata": {
        "id": "v6Ncbd1BIrA7",
        "colab_type": "code",
        "outputId": "e8ed682e-26c4-46d2-e246-3d0333ea9230",
        "colab": {
          "base_uri": "https://localhost:8080/",
          "height": 34
        }
      },
      "source": [
        "def apply_func(fn, *args, **kwargs):\n",
        "    return fn(*args, **kwargs)\n",
        "\n",
        "apply_func(lambda x, y: x+y, 1, 2)"
      ],
      "execution_count": 0,
      "outputs": [
        {
          "output_type": "execute_result",
          "data": {
            "text/plain": [
              "3"
            ]
          },
          "metadata": {
            "tags": []
          },
          "execution_count": 14
        }
      ]
    },
    {
      "cell_type": "code",
      "metadata": {
        "id": "Da__EEhUI8iI",
        "colab_type": "code",
        "outputId": "823ec707-7e6a-45cb-bde8-d19e39ac7b02",
        "colab": {
          "base_uri": "https://localhost:8080/",
          "height": 34
        }
      },
      "source": [
        "apply_func(lambda x, *, y: x+y, 1, y=2)"
      ],
      "execution_count": 0,
      "outputs": [
        {
          "output_type": "execute_result",
          "data": {
            "text/plain": [
              "3"
            ]
          },
          "metadata": {
            "tags": []
          },
          "execution_count": 15
        }
      ]
    },
    {
      "cell_type": "code",
      "metadata": {
        "id": "WknWTVTwI_D6",
        "colab_type": "code",
        "outputId": "faa74b4b-8f68-45c7-aefd-3aa58238cfd2",
        "colab": {
          "base_uri": "https://localhost:8080/",
          "height": 34
        }
      },
      "source": [
        "apply_func(lambda *args: sum(args), 1, 2, 3, 4, 5)"
      ],
      "execution_count": 0,
      "outputs": [
        {
          "output_type": "execute_result",
          "data": {
            "text/plain": [
              "15"
            ]
          },
          "metadata": {
            "tags": []
          },
          "execution_count": 16
        }
      ]
    },
    {
      "cell_type": "markdown",
      "metadata": {
        "id": "xYcarznDJCxy",
        "colab_type": "text"
      },
      "source": [
        "Of course in the example above, we really did not need to create a lambda!"
      ]
    },
    {
      "cell_type": "code",
      "metadata": {
        "id": "zc5EHvg3JAw2",
        "colab_type": "code",
        "outputId": "15755765-6082-4fed-e71e-c7c019a78130",
        "colab": {
          "base_uri": "https://localhost:8080/",
          "height": 34
        }
      },
      "source": [
        "apply_func(sum, (1, 2, 3, 4, 5))"
      ],
      "execution_count": 0,
      "outputs": [
        {
          "output_type": "execute_result",
          "data": {
            "text/plain": [
              "15"
            ]
          },
          "metadata": {
            "tags": []
          },
          "execution_count": 17
        }
      ]
    },
    {
      "cell_type": "markdown",
      "metadata": {
        "id": "7Hrd9wfgJGuY",
        "colab_type": "text"
      },
      "source": [
        "Of course, we don't have to use lambdas when calling **apply_func**, we can also pass in a function defined using a **def** statement:"
      ]
    },
    {
      "cell_type": "code",
      "metadata": {
        "id": "jHYZa8auJE53",
        "colab_type": "code",
        "outputId": "b6842266-b215-4c72-c4fe-709b8acd5ab7",
        "colab": {
          "base_uri": "https://localhost:8080/",
          "height": 34
        }
      },
      "source": [
        "def multiply(x, y):\n",
        "    return x * y\n",
        "\n",
        "apply_func(multiply, 'a', 5)"
      ],
      "execution_count": 0,
      "outputs": [
        {
          "output_type": "execute_result",
          "data": {
            "text/plain": [
              "'aaaaa'"
            ]
          },
          "metadata": {
            "tags": []
          },
          "execution_count": 18
        }
      ]
    },
    {
      "cell_type": "code",
      "metadata": {
        "id": "3arbuxddJMAj",
        "colab_type": "code",
        "outputId": "97e95438-7155-4e8f-f6f8-9fc0befa377b",
        "colab": {
          "base_uri": "https://localhost:8080/",
          "height": 34
        }
      },
      "source": [
        "apply_func(lambda x, y: x*y, 'a', 5)"
      ],
      "execution_count": 0,
      "outputs": [
        {
          "output_type": "execute_result",
          "data": {
            "text/plain": [
              "'aaaaa'"
            ]
          },
          "metadata": {
            "tags": []
          },
          "execution_count": 19
        }
      ]
    },
    {
      "cell_type": "markdown",
      "metadata": {
        "id": "mUdELyjAS9jX",
        "colab_type": "text"
      },
      "source": [
        "# 4.Lambdas and Sorting"
      ]
    },
    {
      "cell_type": "markdown",
      "metadata": {
        "id": "Ibw9VokCTEiZ",
        "colab_type": "text"
      },
      "source": [
        "Python has a built-in **sorted** method that can be used to sort any iterable. It will use the default ordering of the particular items, but sometimes you may want to (or need to) specify a different criteria for sorting"
      ]
    },
    {
      "cell_type": "markdown",
      "metadata": {
        "id": "t9qEWQ8eTMPc",
        "colab_type": "text"
      },
      "source": [
        "Let's start with a simple list:"
      ]
    },
    {
      "cell_type": "code",
      "metadata": {
        "id": "gYnn1eeRJORp",
        "colab_type": "code",
        "outputId": "b725adc9-f86c-4ee4-899c-5e7d7af406c3",
        "colab": {
          "base_uri": "https://localhost:8080/",
          "height": 34
        }
      },
      "source": [
        "l = ['a', 'B', 'c', 'D']\n",
        "sorted(l)"
      ],
      "execution_count": 0,
      "outputs": [
        {
          "output_type": "execute_result",
          "data": {
            "text/plain": [
              "['B', 'D', 'a', 'c']"
            ]
          },
          "metadata": {
            "tags": []
          },
          "execution_count": 6
        }
      ]
    },
    {
      "cell_type": "markdown",
      "metadata": {
        "id": "6HoJSSSeTWla",
        "colab_type": "text"
      },
      "source": [
        "As you can see there is a difference between upper and lower-case characters when sorting strings.\n",
        "\n",
        "What if we wanted to make a case-insensitive sort?\n",
        "\n",
        "Python's **sorted** function kas a keyword-only argument that allows us to modify the values that are used to sort the list."
      ]
    },
    {
      "cell_type": "code",
      "metadata": {
        "id": "o5W5yWHrU8uY",
        "colab_type": "code",
        "outputId": "dbd84707-965d-4ab7-ea45-fc9e7b04d982",
        "colab": {
          "base_uri": "https://localhost:8080/",
          "height": 51
        }
      },
      "source": [
        "print(ord('a'))\n",
        "print(ord('B'))"
      ],
      "execution_count": 0,
      "outputs": [
        {
          "output_type": "stream",
          "text": [
            "97\n",
            "66\n"
          ],
          "name": "stdout"
        }
      ]
    },
    {
      "cell_type": "code",
      "metadata": {
        "id": "pRKB5uLbTRfJ",
        "colab_type": "code",
        "outputId": "695571ed-62f0-4950-924f-b2d03fbc1832",
        "colab": {
          "base_uri": "https://localhost:8080/",
          "height": 34
        }
      },
      "source": [
        "sorted(l, key=str.upper)"
      ],
      "execution_count": 0,
      "outputs": [
        {
          "output_type": "execute_result",
          "data": {
            "text/plain": [
              "['a', 'B', 'c', 'D']"
            ]
          },
          "metadata": {
            "tags": []
          },
          "execution_count": 7
        }
      ]
    },
    {
      "cell_type": "markdown",
      "metadata": {
        "id": "qmKvelCPTZvN",
        "colab_type": "text"
      },
      "source": [
        "We could have used a lambda here (but you should not, this is just to illustrate using a lambda in this case):"
      ]
    },
    {
      "cell_type": "code",
      "metadata": {
        "id": "bPz6D9AgTYfM",
        "colab_type": "code",
        "outputId": "0992a295-84e8-4a85-e70b-76e77902c997",
        "colab": {
          "base_uri": "https://localhost:8080/",
          "height": 34
        }
      },
      "source": [
        "sorted(l, key = lambda s: s.upper())"
      ],
      "execution_count": 0,
      "outputs": [
        {
          "output_type": "execute_result",
          "data": {
            "text/plain": [
              "['a', 'B', 'c', 'D']"
            ]
          },
          "metadata": {
            "tags": []
          },
          "execution_count": 8
        }
      ]
    },
    {
      "cell_type": "markdown",
      "metadata": {
        "id": "N6BqzEVBTdiw",
        "colab_type": "text"
      },
      "source": [
        "Let's look at how we might create a sorted list from a dictionary:"
      ]
    },
    {
      "cell_type": "code",
      "metadata": {
        "id": "-KsgW4IgTbVC",
        "colab_type": "code",
        "outputId": "1e4acbe5-8d04-4d09-f825-af98554297e2",
        "colab": {
          "base_uri": "https://localhost:8080/",
          "height": 34
        }
      },
      "source": [
        "d = {'def': 300, 'abc': 200, 'ghi': 100}\n",
        "d"
      ],
      "execution_count": 0,
      "outputs": [
        {
          "output_type": "execute_result",
          "data": {
            "text/plain": [
              "{'abc': 200, 'def': 300, 'ghi': 100}"
            ]
          },
          "metadata": {
            "tags": []
          },
          "execution_count": 10
        }
      ]
    },
    {
      "cell_type": "code",
      "metadata": {
        "id": "gW5GPILETfe2",
        "colab_type": "code",
        "outputId": "cd5d0df5-8f7a-4546-c29b-1d9a50b45b70",
        "colab": {
          "base_uri": "https://localhost:8080/",
          "height": 34
        }
      },
      "source": [
        "sorted(d)"
      ],
      "execution_count": 0,
      "outputs": [
        {
          "output_type": "execute_result",
          "data": {
            "text/plain": [
              "['abc', 'def', 'ghi']"
            ]
          },
          "metadata": {
            "tags": []
          },
          "execution_count": 11
        }
      ]
    },
    {
      "cell_type": "markdown",
      "metadata": {
        "id": "WzfnCLKgTmEX",
        "colab_type": "text"
      },
      "source": [
        "What happened here? \n",
        "\n",
        "Remember that iterating dictionaries actually iterates the keys - so we ended up with tyhe keys sorted alphabetically.\n",
        "\n",
        "What if we want to return the keys sorted by their associated value instead?"
      ]
    },
    {
      "cell_type": "code",
      "metadata": {
        "id": "QKYHjAoHTq3k",
        "colab_type": "code",
        "outputId": "bdca5661-6152-4e92-fe21-45808db3952e",
        "colab": {
          "base_uri": "https://localhost:8080/",
          "height": 34
        }
      },
      "source": [
        "sorted(d, key=lambda k: d[k])"
      ],
      "execution_count": 0,
      "outputs": [
        {
          "output_type": "execute_result",
          "data": {
            "text/plain": [
              "['ghi', 'abc', 'def']"
            ]
          },
          "metadata": {
            "tags": []
          },
          "execution_count": 12
        }
      ]
    },
    {
      "cell_type": "markdown",
      "metadata": {
        "id": "xgIjuDBaToE9",
        "colab_type": "text"
      },
      "source": [
        "Maybe we want to sort complex numbers based on their distance from the origin:"
      ]
    },
    {
      "cell_type": "code",
      "metadata": {
        "id": "7ZP9bOf3TkcK",
        "colab_type": "code",
        "outputId": "1c32d40a-3c83-468f-8570-e4feab481dfa",
        "colab": {
          "base_uri": "https://localhost:8080/",
          "height": 217
        }
      },
      "source": [
        "def dist(x):\n",
        "    return (x.real)**2 + (x.imag)**2\n",
        "\n",
        "l = [3+3j, 1+1j, 0]\n",
        "# Trying to sort this list directly won't work since Python does not have an ordering defined for complex numbers:\n",
        "sorted(l)"
      ],
      "execution_count": 0,
      "outputs": [
        {
          "output_type": "error",
          "ename": "TypeError",
          "evalue": "ignored",
          "traceback": [
            "\u001b[0;31m---------------------------------------------------------------------------\u001b[0m",
            "\u001b[0;31mTypeError\u001b[0m                                 Traceback (most recent call last)",
            "\u001b[0;32m<ipython-input-13-4c3d8720d210>\u001b[0m in \u001b[0;36m<module>\u001b[0;34m()\u001b[0m\n\u001b[1;32m      4\u001b[0m \u001b[0ml\u001b[0m \u001b[0;34m=\u001b[0m \u001b[0;34m[\u001b[0m\u001b[0;36m3\u001b[0m\u001b[0;34m+\u001b[0m\u001b[0;36m3j\u001b[0m\u001b[0;34m,\u001b[0m \u001b[0;36m1\u001b[0m\u001b[0;34m+\u001b[0m\u001b[0;36m1j\u001b[0m\u001b[0;34m,\u001b[0m \u001b[0;36m0\u001b[0m\u001b[0;34m]\u001b[0m\u001b[0;34m\u001b[0m\u001b[0;34m\u001b[0m\u001b[0m\n\u001b[1;32m      5\u001b[0m \u001b[0;31m# Trying to sort this list directly won't work since Python does not have an ordering defined for complex numbers:\u001b[0m\u001b[0;34m\u001b[0m\u001b[0;34m\u001b[0m\u001b[0;34m\u001b[0m\u001b[0m\n\u001b[0;32m----> 6\u001b[0;31m \u001b[0msorted\u001b[0m\u001b[0;34m(\u001b[0m\u001b[0ml\u001b[0m\u001b[0;34m)\u001b[0m\u001b[0;34m\u001b[0m\u001b[0;34m\u001b[0m\u001b[0m\n\u001b[0m",
            "\u001b[0;31mTypeError\u001b[0m: '<' not supported between instances of 'complex' and 'complex'"
          ]
        }
      ]
    },
    {
      "cell_type": "markdown",
      "metadata": {
        "id": "4wnBNX4gT7l2",
        "colab_type": "text"
      },
      "source": [
        "Trying to sort this list directly won't work since Python does not have an ordering defined for complex numbers:"
      ]
    },
    {
      "cell_type": "code",
      "metadata": {
        "id": "tdtXdj0CT43t",
        "colab_type": "code",
        "outputId": "fc11b347-d882-4494-bbdc-8c633a0c73a4",
        "colab": {
          "base_uri": "https://localhost:8080/",
          "height": 34
        }
      },
      "source": [
        "sorted(l, key=dist)"
      ],
      "execution_count": 0,
      "outputs": [
        {
          "output_type": "execute_result",
          "data": {
            "text/plain": [
              "[0, (1+1j), (3+3j)]"
            ]
          },
          "metadata": {
            "tags": []
          },
          "execution_count": 14
        }
      ]
    },
    {
      "cell_type": "markdown",
      "metadata": {
        "id": "OGXoW1uJUARb",
        "colab_type": "text"
      },
      "source": [
        "Of course, if we're only going to use the **dist** function once, we can just do the same thing this way:"
      ]
    },
    {
      "cell_type": "code",
      "metadata": {
        "id": "k1ta1jNLT-3i",
        "colab_type": "code",
        "outputId": "cba87035-4a1f-48a5-ef05-4bba86c88e94",
        "colab": {
          "base_uri": "https://localhost:8080/",
          "height": 34
        }
      },
      "source": [
        "sorted(l, key=lambda x: (x.real)**2 + (x.imag)**2)"
      ],
      "execution_count": 0,
      "outputs": [
        {
          "output_type": "execute_result",
          "data": {
            "text/plain": [
              "[0, (1+1j), (3+3j)]"
            ]
          },
          "metadata": {
            "tags": []
          },
          "execution_count": 15
        }
      ]
    },
    {
      "cell_type": "markdown",
      "metadata": {
        "id": "1SMssufYUEdR",
        "colab_type": "text"
      },
      "source": [
        "And here's another example where we want to sort a list of strings based on the **last character** of the string:"
      ]
    },
    {
      "cell_type": "code",
      "metadata": {
        "id": "HEyG0-7wUDVb",
        "colab_type": "code",
        "outputId": "45aa152e-4534-4281-e581-641bfc679796",
        "colab": {
          "base_uri": "https://localhost:8080/",
          "height": 34
        }
      },
      "source": [
        "l = ['Cleese', 'Idle', 'Palin', 'Chapman', 'Gilliam', 'Jones']\n",
        "sorted(l)"
      ],
      "execution_count": 0,
      "outputs": [
        {
          "output_type": "execute_result",
          "data": {
            "text/plain": [
              "['Chapman', 'Cleese', 'Gilliam', 'Idle', 'Jones', 'Palin']"
            ]
          },
          "metadata": {
            "tags": []
          },
          "execution_count": 16
        }
      ]
    },
    {
      "cell_type": "code",
      "metadata": {
        "id": "42-czgMpUGuG",
        "colab_type": "code",
        "outputId": "94c3846d-2fca-4eb0-c0af-fce8b220fcf0",
        "colab": {
          "base_uri": "https://localhost:8080/",
          "height": 34
        }
      },
      "source": [
        "sorted(l, key=lambda s: s[-1])"
      ],
      "execution_count": 0,
      "outputs": [
        {
          "output_type": "execute_result",
          "data": {
            "text/plain": [
              "['Cleese', 'Idle', 'Gilliam', 'Palin', 'Chapman', 'Jones']"
            ]
          },
          "metadata": {
            "tags": []
          },
          "execution_count": 17
        }
      ]
    },
    {
      "cell_type": "markdown",
      "metadata": {
        "id": "zwN8V3F6e6y0",
        "colab_type": "text"
      },
      "source": [
        "In upper cell we can see that Python `sorted` does not look at first or second character from the behind when we have the same last character.\n",
        "</br>\n",
        "Python use something called stable sort, when we have equal then it will retain order it was written in list."
      ]
    },
    {
      "cell_type": "markdown",
      "metadata": {
        "id": "bafwvbhMfyOg",
        "colab_type": "text"
      },
      "source": [
        "# Everything about Lambda (Calculus) - Real Python"
      ]
    },
    {
      "cell_type": "markdown",
      "metadata": {
        "id": "lvL7eElFgAyc",
        "colab_type": "text"
      },
      "source": [
        "**Lambda calculus**, a language based on pure abstraction, in the 1930s. Lambda functions are also referred to as lambda abstractions, a direct reference to the abstraction model of Alonzo Church’s original creation."
      ]
    },
    {
      "cell_type": "markdown",
      "metadata": {
        "id": "sEDGJRB8gKno",
        "colab_type": "text"
      },
      "source": [
        "It is **Turing complete** (https://simple.wikipedia.org/wiki/Turing_complete), but contrary to the concept of a Turing machine, it is **pure and does not keep any state**."
      ]
    },
    {
      "cell_type": "markdown",
      "metadata": {
        "id": "u8eKePVRhABg",
        "colab_type": "text"
      },
      "source": [
        "Lambda expression is composed of:\n",
        "\n",
        "* **The keyword**: lambda\n",
        "* **A bound variable**: x\n",
        "* **A body**: x\n",
        "\n",
        "`lambda x: x`"
      ]
    },
    {
      "cell_type": "markdown",
      "metadata": {
        "id": "fdw1bA_lhje4",
        "colab_type": "text"
      },
      "source": [
        "Reduction is lambda calculus strategy and it works like this:\n",
        "</br>\n",
        "`(lambda x: x + 1)(2)` \n",
        ">>> = lambda 2: 2 + 1  \n",
        ">>> = 2 + 1  \n",
        ">>> = 3"
      ]
    },
    {
      "cell_type": "markdown",
      "metadata": {
        "id": "PX22bp5dkDOM",
        "colab_type": "text"
      },
      "source": [
        "Another pattern used in other languages like JavaScript is to immediately execute a Python lambda function. This is known as an **Immediately Invoked Function Expression** (IIFE, pronounce “iffy”). Here’s an example:"
      ]
    },
    {
      "cell_type": "code",
      "metadata": {
        "id": "W69S0inPUImM",
        "colab_type": "code",
        "outputId": "20d83069-fe16-421a-de91-30af2fc94828",
        "colab": {
          "base_uri": "https://localhost:8080/",
          "height": 34
        }
      },
      "source": [
        "(lambda x, y: x + y)(2, 3)"
      ],
      "execution_count": 0,
      "outputs": [
        {
          "output_type": "execute_result",
          "data": {
            "text/plain": [
              "5"
            ]
          },
          "metadata": {
            "tags": []
          },
          "execution_count": 19
        }
      ]
    },
    {
      "cell_type": "markdown",
      "metadata": {
        "id": "5C4z0LVrlKqh",
        "colab_type": "text"
      },
      "source": [
        "A lambda function can be a higher-order function by taking a function (normal or lambda) as an argument like in the following contrived example:"
      ]
    },
    {
      "cell_type": "code",
      "metadata": {
        "id": "xc9tECYgkJhd",
        "colab_type": "code",
        "outputId": "9a7c0464-bade-4eb0-fdeb-3022c60f1d48",
        "colab": {
          "base_uri": "https://localhost:8080/",
          "height": 34
        }
      },
      "source": [
        "high_ord_func = lambda x, func: x + func(x)\n",
        "high_ord_func(2, lambda x: x * x)"
      ],
      "execution_count": 0,
      "outputs": [
        {
          "output_type": "execute_result",
          "data": {
            "text/plain": [
              "6"
            ]
          },
          "metadata": {
            "tags": []
          },
          "execution_count": 20
        }
      ]
    },
    {
      "cell_type": "code",
      "metadata": {
        "id": "-fcL9jJolRR9",
        "colab_type": "code",
        "outputId": "87eb08a5-4965-4d16-d9de-89872712cd43",
        "colab": {
          "base_uri": "https://localhost:8080/",
          "height": 34
        }
      },
      "source": [
        "high_ord_func(2, lambda x: x + 3)"
      ],
      "execution_count": 0,
      "outputs": [
        {
          "output_type": "execute_result",
          "data": {
            "text/plain": [
              "7"
            ]
          },
          "metadata": {
            "tags": []
          },
          "execution_count": 21
        }
      ]
    },
    {
      "cell_type": "markdown",
      "metadata": {
        "id": "8b8-RbXylwm0",
        "colab_type": "text"
      },
      "source": [
        "The dis module exposes functions to analyze Python bytecode generated by the Python compiler:"
      ]
    },
    {
      "cell_type": "code",
      "metadata": {
        "id": "bM-T_cPllTmn",
        "colab_type": "code",
        "outputId": "f58fa282-4cc5-4c53-8e7c-8f13b4aacbd7",
        "colab": {
          "base_uri": "https://localhost:8080/",
          "height": 85
        }
      },
      "source": [
        "import dis\n",
        "\n",
        "add = lambda x, y: x + y\n",
        "\n",
        "dis.dis(add)"
      ],
      "execution_count": 0,
      "outputs": [
        {
          "output_type": "stream",
          "text": [
            "  3           0 LOAD_FAST                0 (x)\n",
            "              2 LOAD_FAST                1 (y)\n",
            "              4 BINARY_ADD\n",
            "              6 RETURN_VALUE\n"
          ],
          "name": "stdout"
        }
      ]
    },
    {
      "cell_type": "code",
      "metadata": {
        "id": "g-UlyZJwmBD6",
        "colab_type": "code",
        "outputId": "57a65a59-54cf-491a-c5ab-45bd694f15cd",
        "colab": {
          "base_uri": "https://localhost:8080/",
          "height": 34
        }
      },
      "source": [
        "add"
      ],
      "execution_count": 0,
      "outputs": [
        {
          "output_type": "execute_result",
          "data": {
            "text/plain": [
              "<function __main__.<lambda>>"
            ]
          },
          "metadata": {
            "tags": []
          },
          "execution_count": 23
        }
      ]
    },
    {
      "cell_type": "code",
      "metadata": {
        "id": "j5laJUQzmKFY",
        "colab_type": "code",
        "outputId": "3b30cbfa-692b-4c10-a1f6-4360e2386c56",
        "colab": {
          "base_uri": "https://localhost:8080/",
          "height": 85
        }
      },
      "source": [
        "import dis\n",
        "\n",
        "def add(x, y): return x + y\n",
        "\n",
        "dis.dis(add)"
      ],
      "execution_count": 0,
      "outputs": [
        {
          "output_type": "stream",
          "text": [
            "  3           0 LOAD_FAST                0 (x)\n",
            "              2 LOAD_FAST                1 (y)\n",
            "              4 BINARY_ADD\n",
            "              6 RETURN_VALUE\n"
          ],
          "name": "stdout"
        }
      ]
    },
    {
      "cell_type": "code",
      "metadata": {
        "id": "lwSYWdX6mUkX",
        "colab_type": "code",
        "outputId": "cc1c50d8-ce2a-479c-ab82-aba54fe503a3",
        "colab": {
          "base_uri": "https://localhost:8080/",
          "height": 34
        }
      },
      "source": [
        "add"
      ],
      "execution_count": 0,
      "outputs": [
        {
          "output_type": "execute_result",
          "data": {
            "text/plain": [
              "<function __main__.add>"
            ]
          },
          "metadata": {
            "tags": []
          },
          "execution_count": 25
        }
      ]
    },
    {
      "cell_type": "markdown",
      "metadata": {
        "id": "s4kcrwXWmX6X",
        "colab_type": "text"
      },
      "source": [
        "The bytecode interpreted by Python is the same for both functions. But you may notice that the naming is different: the function name is add for a function defined with def, whereas the Python lambda function is seen as lambda."
      ]
    },
    {
      "cell_type": "markdown",
      "metadata": {
        "id": "ktmjWEsDmtsV",
        "colab_type": "text"
      },
      "source": [
        "## Single Expression"
      ]
    },
    {
      "cell_type": "markdown",
      "metadata": {
        "id": "kt4RSI9MmxM5",
        "colab_type": "text"
      },
      "source": [
        "In contrast to a normal function, a Python lambda function is a single expression. Although, in the body of a lambda, you can spread the expression over several lines using parentheses or a multiline string, it remains a single expression:"
      ]
    },
    {
      "cell_type": "code",
      "metadata": {
        "id": "YR3ScPaPmVNU",
        "colab_type": "code",
        "outputId": "a45258ee-5abb-40f2-c3fb-2e59be205c59",
        "colab": {
          "base_uri": "https://localhost:8080/",
          "height": 34
        }
      },
      "source": [
        "(lambda x: \n",
        "    (x % 2 and 'odd' or 'even'))(3)"
      ],
      "execution_count": 0,
      "outputs": [
        {
          "output_type": "execute_result",
          "data": {
            "text/plain": [
              "'odd'"
            ]
          },
          "metadata": {
            "tags": []
          },
          "execution_count": 27
        }
      ]
    },
    {
      "cell_type": "markdown",
      "metadata": {
        "id": "CbW_bX8ioATV",
        "colab_type": "text"
      },
      "source": [
        "## Decorators"
      ]
    },
    {
      "cell_type": "markdown",
      "metadata": {
        "id": "nIe1Hmp8oHqr",
        "colab_type": "text"
      },
      "source": [
        "A decorator can be applied to a lambda. Although it’s not possible to decorate a lambda with the @decorator syntax, a decorator is just a function, so it can call the lambda function:"
      ]
    },
    {
      "cell_type": "code",
      "metadata": {
        "id": "wx5essN-m12p",
        "colab_type": "code",
        "outputId": "eb2bb333-b5bd-4b58-8ec3-63323f2d6141",
        "colab": {
          "base_uri": "https://localhost:8080/",
          "height": 68
        }
      },
      "source": [
        "# Defining a decorator\n",
        "def trace(f):\n",
        "    def wrap(*args, **kwargs):\n",
        "        print(f\"[TRACE] func: {f.__name__}, args: {args}, kwargs: {kwargs}\")\n",
        "        return f(*args, **kwargs)\n",
        "\n",
        "    return wrap\n",
        "\n",
        "# Applying decorator to a function\n",
        "@trace\n",
        "def add_two(x):\n",
        "    return x + 2\n",
        "\n",
        "# Calling the decorated function\n",
        "add_two(3)\n",
        "\n",
        "# Applying decorator to a lambda\n",
        "print((trace(lambda x: x ** 2))(3))"
      ],
      "execution_count": 0,
      "outputs": [
        {
          "output_type": "stream",
          "text": [
            "[TRACE] func: add_two, args: (3,), kwargs: {}\n",
            "[TRACE] func: <lambda>, args: (3,), kwargs: {}\n",
            "9\n"
          ],
          "name": "stdout"
        }
      ]
    },
    {
      "cell_type": "code",
      "metadata": {
        "id": "UQoZSCKroG09",
        "colab_type": "code",
        "outputId": "6aa000f8-f153-43b5-88e4-3ac20df69eb8",
        "colab": {
          "base_uri": "https://localhost:8080/",
          "height": 85
        }
      },
      "source": [
        "list(map(trace(lambda x: x*2), range(3)))"
      ],
      "execution_count": 0,
      "outputs": [
        {
          "output_type": "stream",
          "text": [
            "[TRACE] func: <lambda>, args: (0,), kwargs: {}\n",
            "[TRACE] func: <lambda>, args: (1,), kwargs: {}\n",
            "[TRACE] func: <lambda>, args: (2,), kwargs: {}\n"
          ],
          "name": "stdout"
        },
        {
          "output_type": "execute_result",
          "data": {
            "text/plain": [
              "[0, 2, 4]"
            ]
          },
          "metadata": {
            "tags": []
          },
          "execution_count": 30
        }
      ]
    },
    {
      "cell_type": "markdown",
      "metadata": {
        "id": "LLkdcqdrpG7X",
        "colab_type": "text"
      },
      "source": [
        "## Closure"
      ]
    },
    {
      "cell_type": "markdown",
      "metadata": {
        "id": "vZ_H1AUJpKUS",
        "colab_type": "text"
      },
      "source": [
        "A closure is a function where every free variable, everything except parameters, used in that function is bound to a specific value defined in the enclosing scope of that function. In effect, closures define the environment in which they run, and so can be called from anywhere.\n",
        "</br>\n",
        "</br>\n",
        "The concepts of lambdas and closures are not necessarily related, although lambda functions can be closures in the same way that normal functions can also be closures. \n",
        "</br>\n",
        "Here’s a closure constructed with a normal Python function:"
      ]
    },
    {
      "cell_type": "code",
      "metadata": {
        "id": "wxx0jye6pEL5",
        "colab_type": "code",
        "outputId": "0546dd64-7df6-41f9-b32b-07a3599fe098",
        "colab": {
          "base_uri": "https://localhost:8080/",
          "height": 119
        }
      },
      "source": [
        "def outer_func(x):\n",
        "    y = 4\n",
        "    def inner_func(z):\n",
        "        print(f\"x = {x}, y = {y}, z = {z}\")\n",
        "        return x + y + z\n",
        "    return inner_func\n",
        "\n",
        "for i in range(3):\n",
        "    closure = outer_func(i)\n",
        "    print(f\"closure({i+5}) = {closure(i+5)}\")"
      ],
      "execution_count": 0,
      "outputs": [
        {
          "output_type": "stream",
          "text": [
            "x = 0, y = 4, z = 5\n",
            "closure(5) = 9\n",
            "x = 1, y = 4, z = 6\n",
            "closure(6) = 11\n",
            "x = 2, y = 4, z = 7\n",
            "closure(7) = 13\n"
          ],
          "name": "stdout"
        }
      ]
    },
    {
      "cell_type": "code",
      "metadata": {
        "id": "xS7sLKUYpZLH",
        "colab_type": "code",
        "outputId": "f3a516e7-c812-474f-ef85-a5b965d26193",
        "colab": {
          "base_uri": "https://localhost:8080/",
          "height": 68
        }
      },
      "source": [
        "def outer_func(x):\n",
        "    y = 4\n",
        "    return lambda z: x + y + z\n",
        "\n",
        "for i in range(3):\n",
        "    closure = outer_func(i)\n",
        "    print(f\"closure({i+5}) = {closure(i+5)}\")"
      ],
      "execution_count": 0,
      "outputs": [
        {
          "output_type": "stream",
          "text": [
            "closure(5) = 9\n",
            "closure(6) = 11\n",
            "closure(7) = 13\n"
          ],
          "name": "stdout"
        }
      ]
    },
    {
      "cell_type": "markdown",
      "metadata": {
        "id": "o4rEq5biqApB",
        "colab_type": "text"
      },
      "source": [
        "## Testing Lambdas"
      ]
    },
    {
      "cell_type": "markdown",
      "metadata": {
        "id": "jWNRsYPDqDjN",
        "colab_type": "text"
      },
      "source": [
        "Python lambdas can be tested similarly to regular functions. It’s possible to use both unittest and doctest.\n",
        "</br>\n",
        "**unittest**"
      ]
    },
    {
      "cell_type": "code",
      "metadata": {
        "id": "6m38T6Nyp0Ot",
        "colab_type": "code",
        "outputId": "e63f6a33-a352-4fca-bbc6-a5f28d3c6bba",
        "colab": {
          "base_uri": "https://localhost:8080/",
          "height": 353
        }
      },
      "source": [
        "import unittest\n",
        "\n",
        "addtwo = lambda x: x + 2\n",
        "\n",
        "class LambdaTest(unittest.TestCase):\n",
        "    def test_add_two(self):\n",
        "        self.assertEqual(addtwo(2), 4)\n",
        "\n",
        "    def test_add_two_point_two(self):\n",
        "        self.assertEqual(addtwo(2.2), 4.2)\n",
        "\n",
        "    def test_add_three(self):\n",
        "        # Should fail\n",
        "        self.assertEqual(addtwo(3), 6)\n",
        "\n",
        "if __name__ == '__main__':\n",
        "    unittest.main(verbosity=2)"
      ],
      "execution_count": 0,
      "outputs": [
        {
          "output_type": "stream",
          "text": [
            "/root/ (unittest.loader._FailedTest) ... ERROR\n",
            "\n",
            "======================================================================\n",
            "ERROR: /root/ (unittest.loader._FailedTest)\n",
            "----------------------------------------------------------------------\n",
            "AttributeError: module '__main__' has no attribute '/root/'\n",
            "\n",
            "----------------------------------------------------------------------\n",
            "Ran 1 test in 0.002s\n",
            "\n",
            "FAILED (errors=1)\n"
          ],
          "name": "stderr"
        },
        {
          "output_type": "error",
          "ename": "SystemExit",
          "evalue": "ignored",
          "traceback": [
            "An exception has occurred, use %tb to see the full traceback.\n",
            "\u001b[0;31mSystemExit\u001b[0m\u001b[0;31m:\u001b[0m True\n"
          ]
        },
        {
          "output_type": "stream",
          "text": [
            "/usr/local/lib/python3.6/dist-packages/IPython/core/interactiveshell.py:2890: UserWarning: To exit: use 'exit', 'quit', or Ctrl-D.\n",
            "  warn(\"To exit: use 'exit', 'quit', or Ctrl-D.\", stacklevel=1)\n"
          ],
          "name": "stderr"
        }
      ]
    },
    {
      "cell_type": "markdown",
      "metadata": {
        "id": "NFkiv22jqMjK",
        "colab_type": "text"
      },
      "source": [
        "SHELL\n",
        "</br>\n",
        "$ python lambda_unittest.py  \n",
        "test_add_three (__main__.LambdaTest) ... FAIL  \n",
        "test_add_two (__main__.LambdaTest) ... ok  \n",
        "test_add_two_point_two (__main__.LambdaTest) ...   \n",
        "ok\n",
        "\n",
        "======================================================================\n",
        "FAIL: test_add_three (__main__.LambdaTest)\n",
        "----------------------------------------------------------------------\n",
        "Traceback (most recent call last):  \n",
        "> File \"lambda_unittest.py\", line 18, in    \n",
        "test_add_three  \n",
        "> self.assertEqual(addtwo(3), 6)  \n",
        "AssertionError: 5 != 6  \n",
        "\n",
        "----------------------------------------------------------------------\n",
        "Ran 3 tests in 0.001s\n",
        "\n",
        "FAILED (failures=1)"
      ]
    },
    {
      "cell_type": "markdown",
      "metadata": {
        "id": "giUqwj6qrFcN",
        "colab_type": "text"
      },
      "source": [
        "**doctest**\n",
        "</br>\n",
        "The doctest module extracts interactive Python code from docstring to execute tests. Although the syntax of Python lambda functions does not support a typical docstring, it is possible to assign a string to the __doc__ element of a named lambda:"
      ]
    },
    {
      "cell_type": "code",
      "metadata": {
        "id": "bhRWVwNWqGfy",
        "colab_type": "code",
        "outputId": "554402d0-33bb-4863-96b7-fc935a777c5f",
        "colab": {
          "base_uri": "https://localhost:8080/",
          "height": 765
        }
      },
      "source": [
        "addtwo = lambda x: x + 2\n",
        "addtwo.__doc__ = \"\"\"Add 2 to a number.\n",
        "    >>> addtwo(2)\n",
        "    4\n",
        "    >>> addtwo(2.2)\n",
        "    4.2\n",
        "    >>> addtwo(3) # Should fail\n",
        "    6\n",
        "    \"\"\"\n",
        "\n",
        "if __name__ == '__main__':\n",
        "    import doctest\n",
        "    doctest.testmod(verbose=True)"
      ],
      "execution_count": 0,
      "outputs": [
        {
          "output_type": "stream",
          "text": [
            "Trying:\n",
            "    addtwo(2)\n",
            "Expecting:\n",
            "    4\n",
            "ok\n",
            "Trying:\n",
            "    addtwo(2.2)\n",
            "Expecting:\n",
            "    4.2\n",
            "ok\n",
            "Trying:\n",
            "    addtwo(3) # Should fail\n",
            "Expecting:\n",
            "    6\n",
            "**********************************************************************\n",
            "File \"__main__\", line 7, in __main__.addtwo\n",
            "Failed example:\n",
            "    addtwo(3) # Should fail\n",
            "Expected:\n",
            "    6\n",
            "Got:\n",
            "    5\n",
            "15 items had no tests:\n",
            "    __main__\n",
            "    __main__.LambdaTest\n",
            "    __main__.LambdaTest.test_add_three\n",
            "    __main__.LambdaTest.test_add_two\n",
            "    __main__.LambdaTest.test_add_two_point_two\n",
            "    __main__._23\n",
            "    __main__.add\n",
            "    __main__.add_two\n",
            "    __main__.closure\n",
            "    __main__.dist\n",
            "    __main__.func_1\n",
            "    __main__.func_11\n",
            "    __main__.high_ord_func\n",
            "    __main__.outer_func\n",
            "    __main__.trace\n",
            "**********************************************************************\n",
            "1 items had failures:\n",
            "   1 of   3 in __main__.addtwo\n",
            "3 tests in 16 items.\n",
            "2 passed and 1 failed.\n",
            "***Test Failed*** 1 failures.\n"
          ],
          "name": "stdout"
        }
      ]
    },
    {
      "cell_type": "markdown",
      "metadata": {
        "id": "feA0797yro2S",
        "colab_type": "text"
      },
      "source": [
        "FULL article here: https://realpython.com/python-lambda/"
      ]
    },
    {
      "cell_type": "markdown",
      "metadata": {
        "id": "IdOK9-wiL8dS",
        "colab_type": "text"
      },
      "source": [
        "## CHALLENGE: Randomize and iterable with sorted"
      ]
    },
    {
      "cell_type": "code",
      "metadata": {
        "id": "tZga7ZkPMDmt",
        "colab_type": "code",
        "outputId": "c2e9820e-6388-4403-c7b6-1d1891b940ac",
        "colab": {
          "base_uri": "https://localhost:8080/",
          "height": 102
        }
      },
      "source": [
        "import random\n",
        "\n",
        "help(random.random)"
      ],
      "execution_count": 0,
      "outputs": [
        {
          "output_type": "stream",
          "text": [
            "Help on built-in function random:\n",
            "\n",
            "random(...) method of random.Random instance\n",
            "    random() -> x in the interval [0, 1).\n",
            "\n"
          ],
          "name": "stdout"
        }
      ]
    },
    {
      "cell_type": "code",
      "metadata": {
        "id": "nwhc3pAcMqFT",
        "colab_type": "code",
        "outputId": "5ed17090-4d4f-40b5-eca0-97f324c1181b",
        "colab": {
          "base_uri": "https://localhost:8080/",
          "height": 173
        }
      },
      "source": [
        "l = [1, 2, 3, 4, 5, 6]\n",
        "\n",
        "help(sorted)"
      ],
      "execution_count": 0,
      "outputs": [
        {
          "output_type": "stream",
          "text": [
            "Help on built-in function sorted in module builtins:\n",
            "\n",
            "sorted(iterable, /, *, key=None, reverse=False)\n",
            "    Return a new list containing all items from the iterable in ascending order.\n",
            "    \n",
            "    A custom key function can be supplied to customize the sort order, and the\n",
            "    reverse flag can be set to request the result in descending order.\n",
            "\n"
          ],
          "name": "stdout"
        }
      ]
    },
    {
      "cell_type": "code",
      "metadata": {
        "id": "5VZt8fQ6MqNS",
        "colab_type": "code",
        "outputId": "cbe72827-798d-46d6-b3d7-7a9530f37db3",
        "colab": {
          "base_uri": "https://localhost:8080/",
          "height": 34
        }
      },
      "source": [
        "sorted(l, key=lambda x: random.random())"
      ],
      "execution_count": 0,
      "outputs": [
        {
          "output_type": "execute_result",
          "data": {
            "text/plain": [
              "[2, 3, 6, 1, 4, 5]"
            ]
          },
          "metadata": {
            "tags": []
          },
          "execution_count": 4
        }
      ]
    },
    {
      "cell_type": "markdown",
      "metadata": {
        "id": "Av_Dwxy9DgJH",
        "colab_type": "text"
      },
      "source": [
        "# 5.Function Introspection - Lecture"
      ]
    },
    {
      "cell_type": "markdown",
      "metadata": {
        "id": "N92kWPlXDt22",
        "colab_type": "text"
      },
      "source": [
        "![alt text](https://drive.google.com/uc?id=1fGEQnJZ-oFXgjnPTzpaxSFymlILmDmQK)"
      ]
    },
    {
      "cell_type": "code",
      "metadata": {
        "id": "snVrzaa6OPhk",
        "colab_type": "code",
        "outputId": "fdd21386-8d37-4134-cf9f-25b0ad3f7310",
        "colab": {
          "base_uri": "https://localhost:8080/",
          "height": 51
        }
      },
      "source": [
        "def my_func(a, b):\n",
        "    return a + b\n",
        "\n",
        "my_func.category = 'math'\n",
        "my_func.sub_category = 'arithmetic'\n",
        "print(my_func.category,'\\n', my_func.sub_category)"
      ],
      "execution_count": 0,
      "outputs": [
        {
          "output_type": "stream",
          "text": [
            "math \n",
            " arithmetic\n"
          ],
          "name": "stdout"
        }
      ]
    },
    {
      "cell_type": "markdown",
      "metadata": {
        "id": "677cvEb2DtuQ",
        "colab_type": "text"
      },
      "source": [
        "![alt text](https://drive.google.com/uc?id=1jnFHzvsYqm3RnJaLP92UJ9XRlSw9gI5n)"
      ]
    },
    {
      "cell_type": "markdown",
      "metadata": {
        "id": "ruW9fCCbAa95",
        "colab_type": "text"
      },
      "source": [
        "We added `category` and `sub_category`"
      ]
    },
    {
      "cell_type": "code",
      "metadata": {
        "id": "hk5Eoh_HPgyE",
        "colab_type": "code",
        "outputId": "f79d861b-60b7-402e-c074-9f3ae8d7b410",
        "colab": {
          "base_uri": "https://localhost:8080/",
          "height": 646
        }
      },
      "source": [
        "dir(my_func)"
      ],
      "execution_count": 0,
      "outputs": [
        {
          "output_type": "execute_result",
          "data": {
            "text/plain": [
              "['__annotations__',\n",
              " '__call__',\n",
              " '__class__',\n",
              " '__closure__',\n",
              " '__code__',\n",
              " '__defaults__',\n",
              " '__delattr__',\n",
              " '__dict__',\n",
              " '__dir__',\n",
              " '__doc__',\n",
              " '__eq__',\n",
              " '__format__',\n",
              " '__ge__',\n",
              " '__get__',\n",
              " '__getattribute__',\n",
              " '__globals__',\n",
              " '__gt__',\n",
              " '__hash__',\n",
              " '__init__',\n",
              " '__init_subclass__',\n",
              " '__kwdefaults__',\n",
              " '__le__',\n",
              " '__lt__',\n",
              " '__module__',\n",
              " '__name__',\n",
              " '__ne__',\n",
              " '__new__',\n",
              " '__qualname__',\n",
              " '__reduce__',\n",
              " '__reduce_ex__',\n",
              " '__repr__',\n",
              " '__setattr__',\n",
              " '__sizeof__',\n",
              " '__str__',\n",
              " '__subclasshook__',\n",
              " 'category',\n",
              " 'sub_category']"
            ]
          },
          "metadata": {
            "tags": []
          },
          "execution_count": 13
        }
      ]
    },
    {
      "cell_type": "markdown",
      "metadata": {
        "id": "GnlUsi32Dtk0",
        "colab_type": "text"
      },
      "source": [
        "![alt text](https://drive.google.com/uc?id=1yb5_qXUMQD6MrHCL8pBLcFiRkej5VBJq)"
      ]
    },
    {
      "cell_type": "markdown",
      "metadata": {
        "id": "EmUzKuqCDtcB",
        "colab_type": "text"
      },
      "source": [
        "![alt text](https://drive.google.com/uc?id=1Q48OFMU8we9boDjXfINL7r_EzIixSi0O)"
      ]
    },
    {
      "cell_type": "markdown",
      "metadata": {
        "id": "x9ILlFbtDtUJ",
        "colab_type": "text"
      },
      "source": [
        "![alt text](https://drive.google.com/uc?id=1xWQmUKeuTyTLpZNMvhIyG8fblM_OF6kG)"
      ]
    },
    {
      "cell_type": "markdown",
      "metadata": {
        "id": "ec_usT5NDtLs",
        "colab_type": "text"
      },
      "source": [
        "![alt text](https://drive.google.com/uc?id=1_7-khgb3ZrdHNG0By48Y8yZWW1gnWAOi)"
      ]
    },
    {
      "cell_type": "markdown",
      "metadata": {
        "id": "aCCoCKi2DtCx",
        "colab_type": "text"
      },
      "source": [
        "![alt text](https://drive.google.com/uc?id=1Fx8kKwmA2I1AO0h7K3hvXPjraJPcjHFC)"
      ]
    },
    {
      "cell_type": "markdown",
      "metadata": {
        "id": "iHvjUKRUDs6G",
        "colab_type": "text"
      },
      "source": [
        "![alt text](https://drive.google.com/uc?id=1pOtW2Uaew_ZYPA4qS0kvYtFGbSo1zRJ7)"
      ]
    },
    {
      "cell_type": "markdown",
      "metadata": {
        "id": "hX31u9NCDsw5",
        "colab_type": "text"
      },
      "source": [
        "![alt text](https://drive.google.com/uc?id=1fkyiNTAc8lA7m8BNFTqDHtvp5qeP3Q8V)"
      ]
    },
    {
      "cell_type": "markdown",
      "metadata": {
        "id": "bQrWJUHeDshs",
        "colab_type": "text"
      },
      "source": [
        "## Coding time"
      ]
    },
    {
      "cell_type": "code",
      "metadata": {
        "id": "w_gqbxmQcwvS",
        "colab_type": "code",
        "colab": {}
      },
      "source": [
        "def my_func(a: \"mandatory positional\",\n",
        "            b: \"optional positional\" = 1,\n",
        "            c=2,\n",
        "            *args: \"add extra positional args here\",\n",
        "            kw1,\n",
        "            kw2=100,\n",
        "            kw3=300,\n",
        "            **kwargs: \"provide extra kw-only args here\")-> \"does nothing\":\n",
        "    \"\"\"This function does nothing LOOOOOOOOL.\n",
        "\n",
        "    \"\"\"\n",
        "    i = 10\n",
        "    j = 20\n",
        "        "
      ],
      "execution_count": 0,
      "outputs": []
    },
    {
      "cell_type": "code",
      "metadata": {
        "id": "lmb2wwO0dtou",
        "colab_type": "code",
        "outputId": "2842a0c4-352c-471b-a9f5-b760f8e447b7",
        "colab": {
          "base_uri": "https://localhost:8080/",
          "height": 34
        }
      },
      "source": [
        "my_func.__doc__"
      ],
      "execution_count": 2,
      "outputs": [
        {
          "output_type": "execute_result",
          "data": {
            "text/plain": [
              "'This function does nothing LOOOOOOOOL.\\n\\n    '"
            ]
          },
          "metadata": {
            "tags": []
          },
          "execution_count": 2
        }
      ]
    },
    {
      "cell_type": "code",
      "metadata": {
        "id": "-BBOOQVodzW5",
        "colab_type": "code",
        "outputId": "c43286bb-7824-4739-ebb9-e4bdf4b81089",
        "colab": {
          "base_uri": "https://localhost:8080/",
          "height": 102
        }
      },
      "source": [
        "my_func.__annotations__"
      ],
      "execution_count": 0,
      "outputs": [
        {
          "output_type": "execute_result",
          "data": {
            "text/plain": [
              "{'a': 'mandatory positional',\n",
              " 'args': 'add extra positional args here',\n",
              " 'b': 'optional positional',\n",
              " 'kwargs': 'provide extra kw-only args here',\n",
              " 'return': 'does nothing'}"
            ]
          },
          "metadata": {
            "tags": []
          },
          "execution_count": 72
        }
      ]
    },
    {
      "cell_type": "code",
      "metadata": {
        "id": "uC6zremed2Y_",
        "colab_type": "code",
        "colab": {}
      },
      "source": [
        "my_func.short_description = \"this is a function that does nothing much\""
      ],
      "execution_count": 0,
      "outputs": []
    },
    {
      "cell_type": "code",
      "metadata": {
        "id": "NccY-TURd83f",
        "colab_type": "code",
        "outputId": "cf80ca9f-e938-4867-c77f-b55d6c36c0af",
        "colab": {
          "base_uri": "https://localhost:8080/",
          "height": 34
        }
      },
      "source": [
        "my_func.short_description"
      ],
      "execution_count": 0,
      "outputs": [
        {
          "output_type": "execute_result",
          "data": {
            "text/plain": [
              "'this is a function that does nothing much'"
            ]
          },
          "metadata": {
            "tags": []
          },
          "execution_count": 74
        }
      ]
    },
    {
      "cell_type": "code",
      "metadata": {
        "id": "ocfRyt-fGBew",
        "colab_type": "code",
        "colab": {
          "base_uri": "https://localhost:8080/",
          "height": 51
        },
        "outputId": "8755c9b3-4247-4000-acc7-aa475b142b1a"
      },
      "source": [
        "def func_call(f):\n",
        "    print(id(f))\n",
        "    print(f.__name__)\n",
        "\n",
        "func_call(my_func)"
      ],
      "execution_count": 4,
      "outputs": [
        {
          "output_type": "stream",
          "text": [
            "140328371876592\n",
            "my_func\n"
          ],
          "name": "stdout"
        }
      ]
    },
    {
      "cell_type": "code",
      "metadata": {
        "id": "xM4ElQGJrLQe",
        "colab_type": "code",
        "colab": {}
      },
      "source": [
        "def fact(n: \"some non-negative integer\") -> \"n! or 0 if n < 0\":\n",
        "    \"\"\"Calculates the factorial of a non-negative integer n\n",
        "    \n",
        "    If n is negative, returns 0.\n",
        "    \"\"\"\n",
        "    if n < 0:\n",
        "        return 0\n",
        "    elif n <= 1:\n",
        "        return 1\n",
        "    else:\n",
        "        return n * fact(n-1)\n",
        "\n",
        "fact.short_description = \"factorial function\""
      ],
      "execution_count": 0,
      "outputs": []
    },
    {
      "cell_type": "markdown",
      "metadata": {
        "id": "B77mJAYgX_7X",
        "colab_type": "text"
      },
      "source": [
        "Since functions are objects,, we can add atributes to a function"
      ]
    },
    {
      "cell_type": "code",
      "metadata": {
        "id": "VrnUdUbUX-C_",
        "colab_type": "code",
        "outputId": "58635d18-1989-446f-afe9-649226e49929",
        "colab": {
          "base_uri": "https://localhost:8080/",
          "height": 34
        }
      },
      "source": [
        "print(fact.short_description)\n"
      ],
      "execution_count": 0,
      "outputs": [
        {
          "output_type": "stream",
          "text": [
            "factorial function\n"
          ],
          "name": "stdout"
        }
      ]
    },
    {
      "cell_type": "markdown",
      "metadata": {
        "id": "0-HuzJhnYOwi",
        "colab_type": "text"
      },
      "source": [
        "We can see all the atributes that belong to a function using the dir function"
      ]
    },
    {
      "cell_type": "code",
      "metadata": {
        "id": "WiRQqE0tYOLl",
        "colab_type": "code",
        "outputId": "49524ce6-225e-45be-f9dd-56ece0baacb2",
        "colab": {
          "base_uri": "https://localhost:8080/",
          "height": 629
        }
      },
      "source": [
        "dir(fact)"
      ],
      "execution_count": 0,
      "outputs": [
        {
          "output_type": "execute_result",
          "data": {
            "text/plain": [
              "['__annotations__',\n",
              " '__call__',\n",
              " '__class__',\n",
              " '__closure__',\n",
              " '__code__',\n",
              " '__defaults__',\n",
              " '__delattr__',\n",
              " '__dict__',\n",
              " '__dir__',\n",
              " '__doc__',\n",
              " '__eq__',\n",
              " '__format__',\n",
              " '__ge__',\n",
              " '__get__',\n",
              " '__getattribute__',\n",
              " '__globals__',\n",
              " '__gt__',\n",
              " '__hash__',\n",
              " '__init__',\n",
              " '__init_subclass__',\n",
              " '__kwdefaults__',\n",
              " '__le__',\n",
              " '__lt__',\n",
              " '__module__',\n",
              " '__name__',\n",
              " '__ne__',\n",
              " '__new__',\n",
              " '__qualname__',\n",
              " '__reduce__',\n",
              " '__reduce_ex__',\n",
              " '__repr__',\n",
              " '__setattr__',\n",
              " '__sizeof__',\n",
              " '__str__',\n",
              " '__subclasshook__',\n",
              " 'short_description']"
            ]
          },
          "metadata": {
            "tags": []
          },
          "execution_count": 16
        }
      ]
    },
    {
      "cell_type": "markdown",
      "metadata": {
        "id": "sQTM1po7YZ-l",
        "colab_type": "text"
      },
      "source": [
        "We can see our **short_description** attribute, as well as some attributes we have seen before: **__annotations__** and **__doc__**:"
      ]
    },
    {
      "cell_type": "code",
      "metadata": {
        "id": "DQz3mAeuYWih",
        "colab_type": "code",
        "outputId": "c42bcf2f-9b5b-4c44-b44f-e6eea5e661f3",
        "colab": {
          "base_uri": "https://localhost:8080/",
          "height": 54
        }
      },
      "source": [
        "fact.__doc__"
      ],
      "execution_count": 0,
      "outputs": [
        {
          "output_type": "execute_result",
          "data": {
            "text/plain": [
              "'Calculates the factorial of a non-negative integer n\\n    \\n    If n is negative, returns 0.\\n    '"
            ]
          },
          "metadata": {
            "tags": []
          },
          "execution_count": 17
        }
      ]
    },
    {
      "cell_type": "code",
      "metadata": {
        "id": "3bM24pFcYdeO",
        "colab_type": "code",
        "outputId": "eb25ecce-59bb-4fbd-949b-b628846e7946",
        "colab": {
          "base_uri": "https://localhost:8080/",
          "height": 34
        }
      },
      "source": [
        "fact.__annotations__"
      ],
      "execution_count": 0,
      "outputs": [
        {
          "output_type": "execute_result",
          "data": {
            "text/plain": [
              "{'n': 'some non-negative integer', 'return': 'n! or 0 if n < 0'}"
            ]
          },
          "metadata": {
            "tags": []
          },
          "execution_count": 18
        }
      ]
    },
    {
      "cell_type": "markdown",
      "metadata": {
        "id": "PuMdbhCXYk18",
        "colab_type": "text"
      },
      "source": [
        "We'll revisit some of these attributes later in this course, but let's take a look at a few here:"
      ]
    },
    {
      "cell_type": "code",
      "metadata": {
        "id": "IDP6evo-YeB_",
        "colab_type": "code",
        "colab": {}
      },
      "source": [
        "def my_func(a, b=2, c=3, *, kw1, kw2=2, **kwargs):\n",
        "    pass"
      ],
      "execution_count": 0,
      "outputs": []
    },
    {
      "cell_type": "markdown",
      "metadata": {
        "id": "dCc3vggsYrST",
        "colab_type": "text"
      },
      "source": [
        "Let's assign my_func to another variable:"
      ]
    },
    {
      "cell_type": "code",
      "metadata": {
        "id": "E2lsBwjpYo_2",
        "colab_type": "code",
        "colab": {}
      },
      "source": [
        "f = my_func"
      ],
      "execution_count": 0,
      "outputs": []
    },
    {
      "cell_type": "markdown",
      "metadata": {
        "id": "9b0ZZvRaYvqn",
        "colab_type": "text"
      },
      "source": [
        "The **__name__** attribute holds the function's name:"
      ]
    },
    {
      "cell_type": "code",
      "metadata": {
        "id": "r4nTtZocYsl_",
        "colab_type": "code",
        "outputId": "060c1003-d938-463f-8e9c-cc16e11405c6",
        "colab": {
          "base_uri": "https://localhost:8080/",
          "height": 34
        }
      },
      "source": [
        "my_func.__name__"
      ],
      "execution_count": 0,
      "outputs": [
        {
          "output_type": "execute_result",
          "data": {
            "text/plain": [
              "'my_func'"
            ]
          },
          "metadata": {
            "tags": []
          },
          "execution_count": 21
        }
      ]
    },
    {
      "cell_type": "code",
      "metadata": {
        "id": "owAQVtShYx7R",
        "colab_type": "code",
        "outputId": "15d08fe4-d7bb-44f8-d01b-8f74deb524a2",
        "colab": {
          "base_uri": "https://localhost:8080/",
          "height": 34
        }
      },
      "source": [
        "f.__name__"
      ],
      "execution_count": 0,
      "outputs": [
        {
          "output_type": "execute_result",
          "data": {
            "text/plain": [
              "'my_func'"
            ]
          },
          "metadata": {
            "tags": []
          },
          "execution_count": 22
        }
      ]
    },
    {
      "cell_type": "markdown",
      "metadata": {
        "id": "Cn8Jr-74Y2xu",
        "colab_type": "text"
      },
      "source": [
        "The **__defaults__** attribute is a tuple containing any positional parameter defaults:"
      ]
    },
    {
      "cell_type": "code",
      "metadata": {
        "id": "clELnOQxYy8m",
        "colab_type": "code",
        "outputId": "28e127ea-8145-4e7f-c324-b2a1744717db",
        "colab": {
          "base_uri": "https://localhost:8080/",
          "height": 34
        }
      },
      "source": [
        "my_func.__defaults__                                "
      ],
      "execution_count": 0,
      "outputs": [
        {
          "output_type": "execute_result",
          "data": {
            "text/plain": [
              "(2, 3)"
            ]
          },
          "metadata": {
            "tags": []
          },
          "execution_count": 23
        }
      ]
    },
    {
      "cell_type": "code",
      "metadata": {
        "id": "NI1YH7C0Y71M",
        "colab_type": "code",
        "outputId": "d9728305-d7af-4149-f8d7-611dc1a845f2",
        "colab": {
          "base_uri": "https://localhost:8080/",
          "height": 34
        }
      },
      "source": [
        "my_func.__kwdefaults__"
      ],
      "execution_count": 0,
      "outputs": [
        {
          "output_type": "execute_result",
          "data": {
            "text/plain": [
              "{'kw2': 2}"
            ]
          },
          "metadata": {
            "tags": []
          },
          "execution_count": 24
        }
      ]
    },
    {
      "cell_type": "markdown",
      "metadata": {
        "id": "JRLSOcEYY-k5",
        "colab_type": "text"
      },
      "source": [
        "Let's create a function with some local variables:"
      ]
    },
    {
      "cell_type": "code",
      "metadata": {
        "id": "Yr5nYrhGY83p",
        "colab_type": "code",
        "outputId": "312176d5-174b-4fc6-af66-80c5ad79eaca",
        "colab": {
          "base_uri": "https://localhost:8080/",
          "height": 34
        }
      },
      "source": [
        "def my_func(a, b=1, *args, **kwargs):\n",
        "    i = 10\n",
        "    b = min(i, b)\n",
        "    return a * b\n",
        "my_func('a', 100)"
      ],
      "execution_count": 0,
      "outputs": [
        {
          "output_type": "execute_result",
          "data": {
            "text/plain": [
              "'aaaaaaaaaa'"
            ]
          },
          "metadata": {
            "tags": []
          },
          "execution_count": 25
        }
      ]
    },
    {
      "cell_type": "markdown",
      "metadata": {
        "id": "a-a1BzMbZF4W",
        "colab_type": "text"
      },
      "source": [
        "The **__code__** attribute contains a **code** object:"
      ]
    },
    {
      "cell_type": "code",
      "metadata": {
        "id": "sdsvXN-yZEab",
        "colab_type": "code",
        "outputId": "7f70ca95-795c-4a4c-df2c-de2effef7b54",
        "colab": {
          "base_uri": "https://localhost:8080/",
          "height": 54
        }
      },
      "source": [
        "my_func.__code__"
      ],
      "execution_count": 0,
      "outputs": [
        {
          "output_type": "execute_result",
          "data": {
            "text/plain": [
              "<code object my_func at 0x7f00d9affb70, file \"<ipython-input-25-66231f5cb2b9>\", line 1>"
            ]
          },
          "metadata": {
            "tags": []
          },
          "execution_count": 26
        }
      ]
    },
    {
      "cell_type": "markdown",
      "metadata": {
        "id": "cljXDb5oZIfr",
        "colab_type": "text"
      },
      "source": [
        "This **code** object itself has various properties:"
      ]
    },
    {
      "cell_type": "code",
      "metadata": {
        "id": "yZGfzweqZHbh",
        "colab_type": "code",
        "outputId": "f9b7e805-b753-4cef-a95b-e6c891e6d5f6",
        "colab": {
          "base_uri": "https://localhost:8080/",
          "height": 663
        }
      },
      "source": [
        "dir(my_func.__code__)"
      ],
      "execution_count": 0,
      "outputs": [
        {
          "output_type": "execute_result",
          "data": {
            "text/plain": [
              "['__class__',\n",
              " '__delattr__',\n",
              " '__dir__',\n",
              " '__doc__',\n",
              " '__eq__',\n",
              " '__format__',\n",
              " '__ge__',\n",
              " '__getattribute__',\n",
              " '__gt__',\n",
              " '__hash__',\n",
              " '__init__',\n",
              " '__init_subclass__',\n",
              " '__le__',\n",
              " '__lt__',\n",
              " '__ne__',\n",
              " '__new__',\n",
              " '__reduce__',\n",
              " '__reduce_ex__',\n",
              " '__repr__',\n",
              " '__setattr__',\n",
              " '__sizeof__',\n",
              " '__str__',\n",
              " '__subclasshook__',\n",
              " 'co_argcount',\n",
              " 'co_cellvars',\n",
              " 'co_code',\n",
              " 'co_consts',\n",
              " 'co_filename',\n",
              " 'co_firstlineno',\n",
              " 'co_flags',\n",
              " 'co_freevars',\n",
              " 'co_kwonlyargcount',\n",
              " 'co_lnotab',\n",
              " 'co_name',\n",
              " 'co_names',\n",
              " 'co_nlocals',\n",
              " 'co_stacksize',\n",
              " 'co_varnames']"
            ]
          },
          "metadata": {
            "tags": []
          },
          "execution_count": 27
        }
      ]
    },
    {
      "cell_type": "markdown",
      "metadata": {
        "id": "BlrOYotRZ_31",
        "colab_type": "text"
      },
      "source": [
        "Attribute **__co_varnames__** is a tuple containing the parameter names and local variables:"
      ]
    },
    {
      "cell_type": "code",
      "metadata": {
        "id": "8McQViH3ZKhv",
        "colab_type": "code",
        "outputId": "e0afb2cf-874c-432b-815f-5d5bff5c2e4f",
        "colab": {
          "base_uri": "https://localhost:8080/",
          "height": 34
        }
      },
      "source": [
        "my_func.__code__.co_varnames"
      ],
      "execution_count": 0,
      "outputs": [
        {
          "output_type": "execute_result",
          "data": {
            "text/plain": [
              "('a', 'b', 'args', 'kwargs', 'i')"
            ]
          },
          "metadata": {
            "tags": []
          },
          "execution_count": 28
        }
      ]
    },
    {
      "cell_type": "markdown",
      "metadata": {
        "id": "z6QbAPfvaEdt",
        "colab_type": "text"
      },
      "source": [
        "Attribute **co_argcount** returns the number of arguments (minus any \\* and \\*\\* args)"
      ]
    },
    {
      "cell_type": "code",
      "metadata": {
        "id": "aAqZytz8aC36",
        "colab_type": "code",
        "outputId": "e5476500-c35d-4afa-d956-34a3e08f3d78",
        "colab": {
          "base_uri": "https://localhost:8080/",
          "height": 34
        }
      },
      "source": [
        "my_func.__code__.co_argcount"
      ],
      "execution_count": 0,
      "outputs": [
        {
          "output_type": "execute_result",
          "data": {
            "text/plain": [
              "2"
            ]
          },
          "metadata": {
            "tags": []
          },
          "execution_count": 29
        }
      ]
    },
    {
      "cell_type": "markdown",
      "metadata": {
        "id": "s9drof3raJOG",
        "colab_type": "text"
      },
      "source": [
        "### The **inspect** module"
      ]
    },
    {
      "cell_type": "markdown",
      "metadata": {
        "id": "PKGak3c3aNLJ",
        "colab_type": "text"
      },
      "source": [
        "It is much easier to use the **inspect** module!"
      ]
    },
    {
      "cell_type": "code",
      "metadata": {
        "id": "CiiqcGNPaGSZ",
        "colab_type": "code",
        "outputId": "03a8079d-a932-4cc5-cda0-81a31c7e0b7d",
        "colab": {
          "base_uri": "https://localhost:8080/",
          "height": 34
        }
      },
      "source": [
        "import inspect\n",
        "\n",
        "inspect.isfunction(my_func)"
      ],
      "execution_count": 0,
      "outputs": [
        {
          "output_type": "execute_result",
          "data": {
            "text/plain": [
              "True"
            ]
          },
          "metadata": {
            "tags": []
          },
          "execution_count": 30
        }
      ]
    },
    {
      "cell_type": "markdown",
      "metadata": {
        "id": "izn1yLODaTo8",
        "colab_type": "text"
      },
      "source": [
        "By the way, there is a difference between a function and a method! A method is a function that is bound to some object:"
      ]
    },
    {
      "cell_type": "code",
      "metadata": {
        "id": "meos9u5MaSGr",
        "colab_type": "code",
        "outputId": "abf7e7d2-2693-4547-89af-3175ab8ef9e5",
        "colab": {
          "base_uri": "https://localhost:8080/",
          "height": 34
        }
      },
      "source": [
        "inspect.ismethod(my_func)"
      ],
      "execution_count": 0,
      "outputs": [
        {
          "output_type": "execute_result",
          "data": {
            "text/plain": [
              "False"
            ]
          },
          "metadata": {
            "tags": []
          },
          "execution_count": 31
        }
      ]
    },
    {
      "cell_type": "code",
      "metadata": {
        "id": "QdP0rxOjaVGp",
        "colab_type": "code",
        "colab": {}
      },
      "source": [
        "class MyClass:\n",
        "    def f_instance(self):\n",
        "        pass\n",
        "    \n",
        "    @classmethod\n",
        "    def f_class(cls):\n",
        "        pass\n",
        "    \n",
        "    @staticmethod\n",
        "    def f_static():\n",
        "        pass"
      ],
      "execution_count": 0,
      "outputs": []
    },
    {
      "cell_type": "markdown",
      "metadata": {
        "id": "58VUFf6_aaFc",
        "colab_type": "text"
      },
      "source": [
        "**Instance methods** are bound to the **instance** of a class (not the class itself)¤"
      ]
    },
    {
      "cell_type": "markdown",
      "metadata": {
        "id": "pADogPxaatkS",
        "colab_type": "text"
      },
      "source": [
        "**Class methods** are bound to the **class**, not instances"
      ]
    },
    {
      "cell_type": "markdown",
      "metadata": {
        "id": "GnXojQ23axIc",
        "colab_type": "text"
      },
      "source": [
        "**Static methods** are no bound either to the class or its instances"
      ]
    },
    {
      "cell_type": "code",
      "metadata": {
        "id": "r51AccCxaW8X",
        "colab_type": "code",
        "outputId": "4271f5a8-3738-4d0a-aef2-17ac1ecfdc25",
        "colab": {
          "base_uri": "https://localhost:8080/",
          "height": 34
        }
      },
      "source": [
        "inspect.isfunction(MyClass.f_instance), inspect.ismethod(MyClass.f_instance)"
      ],
      "execution_count": 0,
      "outputs": [
        {
          "output_type": "execute_result",
          "data": {
            "text/plain": [
              "(True, False)"
            ]
          },
          "metadata": {
            "tags": []
          },
          "execution_count": 33
        }
      ]
    },
    {
      "cell_type": "code",
      "metadata": {
        "id": "lce2Jeoja1VZ",
        "colab_type": "code",
        "outputId": "5d519f9c-68e9-47bc-dd8f-4ebd7f603ed5",
        "colab": {
          "base_uri": "https://localhost:8080/",
          "height": 34
        }
      },
      "source": [
        "inspect.isfunction(MyClass.f_class), inspect.ismethod(MyClass.f_class)"
      ],
      "execution_count": 0,
      "outputs": [
        {
          "output_type": "execute_result",
          "data": {
            "text/plain": [
              "(False, True)"
            ]
          },
          "metadata": {
            "tags": []
          },
          "execution_count": 34
        }
      ]
    },
    {
      "cell_type": "code",
      "metadata": {
        "id": "xJdoTnPGa3Dv",
        "colab_type": "code",
        "outputId": "1117dcdd-3f0c-45b8-8550-e49c3e8fddd6",
        "colab": {
          "base_uri": "https://localhost:8080/",
          "height": 34
        }
      },
      "source": [
        "inspect.isfunction(MyClass.f_static), inspect.ismethod(MyClass.f_static)"
      ],
      "execution_count": 0,
      "outputs": [
        {
          "output_type": "execute_result",
          "data": {
            "text/plain": [
              "(True, False)"
            ]
          },
          "metadata": {
            "tags": []
          },
          "execution_count": 35
        }
      ]
    },
    {
      "cell_type": "code",
      "metadata": {
        "id": "7w6D1Kpqa3yw",
        "colab_type": "code",
        "colab": {}
      },
      "source": [
        "my_obj = MyClass()"
      ],
      "execution_count": 0,
      "outputs": []
    },
    {
      "cell_type": "code",
      "metadata": {
        "id": "3NoPl56ga4ko",
        "colab_type": "code",
        "outputId": "11fad9d7-88e8-49f4-a067-b5515b770e74",
        "colab": {
          "base_uri": "https://localhost:8080/",
          "height": 34
        }
      },
      "source": [
        "inspect.isfunction(my_obj.f_instance), inspect.ismethod(my_obj.f_instance)"
      ],
      "execution_count": 0,
      "outputs": [
        {
          "output_type": "execute_result",
          "data": {
            "text/plain": [
              "(False, True)"
            ]
          },
          "metadata": {
            "tags": []
          },
          "execution_count": 37
        }
      ]
    },
    {
      "cell_type": "code",
      "metadata": {
        "id": "nRp9p8rRa5wd",
        "colab_type": "code",
        "outputId": "4d5f0135-8c53-4436-a2c5-f622f9649361",
        "colab": {
          "base_uri": "https://localhost:8080/",
          "height": 34
        }
      },
      "source": [
        "inspect.isfunction(my_obj.f_class), inspect.ismethod(my_obj.f_class)"
      ],
      "execution_count": 0,
      "outputs": [
        {
          "output_type": "execute_result",
          "data": {
            "text/plain": [
              "(False, True)"
            ]
          },
          "metadata": {
            "tags": []
          },
          "execution_count": 38
        }
      ]
    },
    {
      "cell_type": "code",
      "metadata": {
        "id": "DizzBWQea6vt",
        "colab_type": "code",
        "outputId": "c4e18056-9294-4120-e761-ab4bad727494",
        "colab": {
          "base_uri": "https://localhost:8080/",
          "height": 34
        }
      },
      "source": [
        "inspect.isfunction(my_obj.f_static), inspect.ismethod(my_obj.f_static)"
      ],
      "execution_count": 0,
      "outputs": [
        {
          "output_type": "execute_result",
          "data": {
            "text/plain": [
              "(True, False)"
            ]
          },
          "metadata": {
            "tags": []
          },
          "execution_count": 39
        }
      ]
    },
    {
      "cell_type": "markdown",
      "metadata": {
        "id": "Po_iOKzca9Hd",
        "colab_type": "text"
      },
      "source": [
        "If you just want to know if something is a function or method:"
      ]
    },
    {
      "cell_type": "code",
      "metadata": {
        "id": "kTu65MVxa7yU",
        "colab_type": "code",
        "outputId": "27880206-374e-41b9-cc71-a9f409c47a39",
        "colab": {
          "base_uri": "https://localhost:8080/",
          "height": 34
        }
      },
      "source": [
        "inspect.isroutine(my_func)"
      ],
      "execution_count": 0,
      "outputs": [
        {
          "output_type": "execute_result",
          "data": {
            "text/plain": [
              "True"
            ]
          },
          "metadata": {
            "tags": []
          },
          "execution_count": 42
        }
      ]
    },
    {
      "cell_type": "code",
      "metadata": {
        "id": "doIkoufJbD8D",
        "colab_type": "code",
        "outputId": "51253f67-2df8-43a2-d50c-4e6f4fb260a0",
        "colab": {
          "base_uri": "https://localhost:8080/",
          "height": 34
        }
      },
      "source": [
        "inspect.isroutine(MyClass.f_instance)"
      ],
      "execution_count": 0,
      "outputs": [
        {
          "output_type": "execute_result",
          "data": {
            "text/plain": [
              "True"
            ]
          },
          "metadata": {
            "tags": []
          },
          "execution_count": 41
        }
      ]
    },
    {
      "cell_type": "code",
      "metadata": {
        "id": "SzoEPIOzbFXf",
        "colab_type": "code",
        "outputId": "f0077e9c-15c1-4567-d477-54421cc25943",
        "colab": {
          "base_uri": "https://localhost:8080/",
          "height": 34
        }
      },
      "source": [
        "inspect.isroutine(my_obj.f_class)"
      ],
      "execution_count": 0,
      "outputs": [
        {
          "output_type": "execute_result",
          "data": {
            "text/plain": [
              "True"
            ]
          },
          "metadata": {
            "tags": []
          },
          "execution_count": 43
        }
      ]
    },
    {
      "cell_type": "code",
      "metadata": {
        "id": "1ZAVumHzbO6k",
        "colab_type": "code",
        "outputId": "347dc4b4-5d93-4105-9b23-4de4b5a62a79",
        "colab": {
          "base_uri": "https://localhost:8080/",
          "height": 34
        }
      },
      "source": [
        "inspect.isroutine(my_obj.f_static)"
      ],
      "execution_count": 0,
      "outputs": [
        {
          "output_type": "execute_result",
          "data": {
            "text/plain": [
              "True"
            ]
          },
          "metadata": {
            "tags": []
          },
          "execution_count": 44
        }
      ]
    },
    {
      "cell_type": "markdown",
      "metadata": {
        "id": "dOKmiW7WbRcA",
        "colab_type": "text"
      },
      "source": [
        "We'll revisit this in more detail in section on OOP."
      ]
    },
    {
      "cell_type": "markdown",
      "metadata": {
        "id": "gLw_Dt_6bTre",
        "colab_type": "text"
      },
      "source": [
        "### Introspecting Callable Code"
      ]
    },
    {
      "cell_type": "markdown",
      "metadata": {
        "id": "Tw-AEl2sbYnz",
        "colab_type": "text"
      },
      "source": [
        "We can get back the source code of our function using the **getsource()** method:"
      ]
    },
    {
      "cell_type": "code",
      "metadata": {
        "id": "8wNGkuC7bPzk",
        "colab_type": "code",
        "outputId": "31f44530-7fbf-471d-f3ac-e426960516e1",
        "colab": {
          "base_uri": "https://localhost:8080/",
          "height": 54
        }
      },
      "source": [
        "inspect.getsource(fact)"
      ],
      "execution_count": 0,
      "outputs": [
        {
          "output_type": "execute_result",
          "data": {
            "text/plain": [
              "'def fact(n: \"some non-negative integer\") -> \"n! or 0 if n < 0\":\\n    \"\"\"Calculates the factorial of a non-negative integer n\\n    \\n    If n is negative, returns 0.\\n    \"\"\"\\n    if n < 0:\\n        return 0\\n    elif n <= 1:\\n        return 1\\n    else:\\n        return n * fact(n-1)\\n'"
            ]
          },
          "metadata": {
            "tags": []
          },
          "execution_count": 45
        }
      ]
    },
    {
      "cell_type": "code",
      "metadata": {
        "id": "eFYQH-0kbaMo",
        "colab_type": "code",
        "outputId": "b3c3158b-4a5c-4460-ed6e-01bb982ae065",
        "colab": {
          "base_uri": "https://localhost:8080/",
          "height": 221
        }
      },
      "source": [
        "print(inspect.getsource(fact))"
      ],
      "execution_count": 0,
      "outputs": [
        {
          "output_type": "stream",
          "text": [
            "def fact(n: \"some non-negative integer\") -> \"n! or 0 if n < 0\":\n",
            "    \"\"\"Calculates the factorial of a non-negative integer n\n",
            "    \n",
            "    If n is negative, returns 0.\n",
            "    \"\"\"\n",
            "    if n < 0:\n",
            "        return 0\n",
            "    elif n <= 1:\n",
            "        return 1\n",
            "    else:\n",
            "        return n * fact(n-1)\n",
            "\n"
          ],
          "name": "stdout"
        }
      ]
    },
    {
      "cell_type": "code",
      "metadata": {
        "id": "QrLTRxuubbgP",
        "colab_type": "code",
        "outputId": "66044413-ce57-42aa-e239-ba88d59fec0c",
        "colab": {
          "base_uri": "https://localhost:8080/",
          "height": 34
        }
      },
      "source": [
        "inspect.getsource(MyClass.f_instance)"
      ],
      "execution_count": 0,
      "outputs": [
        {
          "output_type": "execute_result",
          "data": {
            "text/plain": [
              "'    def f_instance(self):\\n        pass\\n'"
            ]
          },
          "metadata": {
            "tags": []
          },
          "execution_count": 47
        }
      ]
    },
    {
      "cell_type": "code",
      "metadata": {
        "id": "PSKDBCf1bclq",
        "colab_type": "code",
        "outputId": "ab30bc40-32e8-4733-9f1f-4b93e44354a7",
        "colab": {
          "base_uri": "https://localhost:8080/",
          "height": 34
        }
      },
      "source": [
        "inspect.getsource(my_obj.f_instance)"
      ],
      "execution_count": 0,
      "outputs": [
        {
          "output_type": "execute_result",
          "data": {
            "text/plain": [
              "'    def f_instance(self):\\n        pass\\n'"
            ]
          },
          "metadata": {
            "tags": []
          },
          "execution_count": 48
        }
      ]
    },
    {
      "cell_type": "markdown",
      "metadata": {
        "id": "oAX5862ibfSp",
        "colab_type": "text"
      },
      "source": [
        "We can also find out where the function was defined:"
      ]
    },
    {
      "cell_type": "code",
      "metadata": {
        "id": "g2KSkE-hbeAO",
        "colab_type": "code",
        "outputId": "7a55963f-88f9-4732-d51e-7c7a61bf4062",
        "colab": {
          "base_uri": "https://localhost:8080/",
          "height": 34
        }
      },
      "source": [
        "inspect.getmodule(fact)"
      ],
      "execution_count": 0,
      "outputs": [
        {
          "output_type": "execute_result",
          "data": {
            "text/plain": [
              "<module '__main__'>"
            ]
          },
          "metadata": {
            "tags": []
          },
          "execution_count": 49
        }
      ]
    },
    {
      "cell_type": "code",
      "metadata": {
        "id": "3mHgExF1bgYX",
        "colab_type": "code",
        "outputId": "301f92d1-0f06-45ad-8cac-eeafe57dbaa2",
        "colab": {
          "base_uri": "https://localhost:8080/",
          "height": 34
        }
      },
      "source": [
        "inspect.getmodule(print)"
      ],
      "execution_count": 0,
      "outputs": [
        {
          "output_type": "execute_result",
          "data": {
            "text/plain": [
              "<module 'builtins' (built-in)>"
            ]
          },
          "metadata": {
            "tags": []
          },
          "execution_count": 50
        }
      ]
    },
    {
      "cell_type": "code",
      "metadata": {
        "id": "7OCzMMKobhLU",
        "colab_type": "code",
        "outputId": "0a1e1908-d5fe-4e8e-901c-f07c2fea6bcb",
        "colab": {
          "base_uri": "https://localhost:8080/",
          "height": 34
        }
      },
      "source": [
        "import math                \n",
        "inspect.getmodule(math.sin)"
      ],
      "execution_count": 0,
      "outputs": [
        {
          "output_type": "execute_result",
          "data": {
            "text/plain": [
              "<module 'math' (built-in)>"
            ]
          },
          "metadata": {
            "tags": []
          },
          "execution_count": 52
        }
      ]
    },
    {
      "cell_type": "code",
      "metadata": {
        "id": "izaKF_DtbodO",
        "colab_type": "code",
        "colab": {}
      },
      "source": [
        "# setting up variable\n",
        "i = 10\n",
        "\n",
        "# comment line 1\n",
        "# comment line 2\n",
        "def my_func(a, b=1):\n",
        "    # comment inside my_func\n",
        "    pass"
      ],
      "execution_count": 0,
      "outputs": []
    },
    {
      "cell_type": "code",
      "metadata": {
        "id": "XCcqcOC4brtN",
        "colab_type": "code",
        "outputId": "2b108c7c-ed29-4dbc-aafa-4b39ea288b6b",
        "colab": {
          "base_uri": "https://localhost:8080/",
          "height": 34
        }
      },
      "source": [
        "inspect.getcomments(my_func)"
      ],
      "execution_count": 0,
      "outputs": [
        {
          "output_type": "execute_result",
          "data": {
            "text/plain": [
              "'# comment line 1\\n# comment line 2\\n'"
            ]
          },
          "metadata": {
            "tags": []
          },
          "execution_count": 54
        }
      ]
    },
    {
      "cell_type": "code",
      "metadata": {
        "id": "0ItAz-LDbszf",
        "colab_type": "code",
        "outputId": "70b05147-f0dc-4b7b-ed61-9ff6cc634aa3",
        "colab": {
          "base_uri": "https://localhost:8080/",
          "height": 68
        }
      },
      "source": [
        "print(inspect.getcomments(my_func))"
      ],
      "execution_count": 0,
      "outputs": [
        {
          "output_type": "stream",
          "text": [
            "# comment line 1\n",
            "# comment line 2\n",
            "\n"
          ],
          "name": "stdout"
        }
      ]
    },
    {
      "cell_type": "markdown",
      "metadata": {
        "id": "4cwTTfZhbwq5",
        "colab_type": "text"
      },
      "source": [
        "### Introspecting Callable Signatures"
      ]
    },
    {
      "cell_type": "code",
      "metadata": {
        "id": "1CmdZHWLbt8o",
        "colab_type": "code",
        "outputId": "b4779dde-5cf2-4567-d57a-b9c3f065f245",
        "colab": {
          "base_uri": "https://localhost:8080/",
          "height": 54
        }
      },
      "source": [
        "# TODO: Provide implementation\n",
        "def my_func(a: 'a string', \n",
        "            b: int = 1, \n",
        "            *args: 'additional positional args', \n",
        "            kw1: 'first keyword-only arg', \n",
        "            kw2: 'second keyword-only arg' = 10,\n",
        "            **kwargs: 'additional keyword-only args') -> str:\n",
        "    \"\"\"does something\n",
        "       or other\"\"\"\n",
        "    pass\n",
        "\n",
        "inspect.signature(my_func)"
      ],
      "execution_count": 0,
      "outputs": [
        {
          "output_type": "execute_result",
          "data": {
            "text/plain": [
              "<Signature (a:'a string', b:int=1, *args:'additional positional args', kw1:'first keyword-only arg', kw2:'second keyword-only arg'=10, **kwargs:'additional keyword-only args') -> str>"
            ]
          },
          "metadata": {
            "tags": []
          },
          "execution_count": 56
        }
      ]
    },
    {
      "cell_type": "code",
      "metadata": {
        "id": "t11BSjppb3pO",
        "colab_type": "code",
        "outputId": "0f31f8af-c1b7-4407-f61e-50620e9e70e7",
        "colab": {
          "base_uri": "https://localhost:8080/",
          "height": 34
        }
      },
      "source": [
        "type(inspect.signature(my_func))"
      ],
      "execution_count": 0,
      "outputs": [
        {
          "output_type": "execute_result",
          "data": {
            "text/plain": [
              "inspect.Signature"
            ]
          },
          "metadata": {
            "tags": []
          },
          "execution_count": 57
        }
      ]
    },
    {
      "cell_type": "code",
      "metadata": {
        "id": "sm0Xb9u4b5g0",
        "colab_type": "code",
        "colab": {}
      },
      "source": [
        "sig = inspect.signature(my_func)"
      ],
      "execution_count": 0,
      "outputs": []
    },
    {
      "cell_type": "code",
      "metadata": {
        "id": "WAoyiKeob6z1",
        "colab_type": "code",
        "outputId": "47d73cec-3555-41db-b50e-1b406d75a4b0",
        "colab": {
          "base_uri": "https://localhost:8080/",
          "height": 714
        }
      },
      "source": [
        "dir(sig)"
      ],
      "execution_count": 0,
      "outputs": [
        {
          "output_type": "execute_result",
          "data": {
            "text/plain": [
              "['__class__',\n",
              " '__delattr__',\n",
              " '__dir__',\n",
              " '__doc__',\n",
              " '__eq__',\n",
              " '__format__',\n",
              " '__ge__',\n",
              " '__getattribute__',\n",
              " '__gt__',\n",
              " '__hash__',\n",
              " '__init__',\n",
              " '__init_subclass__',\n",
              " '__le__',\n",
              " '__lt__',\n",
              " '__module__',\n",
              " '__ne__',\n",
              " '__new__',\n",
              " '__reduce__',\n",
              " '__reduce_ex__',\n",
              " '__repr__',\n",
              " '__setattr__',\n",
              " '__setstate__',\n",
              " '__sizeof__',\n",
              " '__slots__',\n",
              " '__str__',\n",
              " '__subclasshook__',\n",
              " '_bind',\n",
              " '_bound_arguments_cls',\n",
              " '_hash_basis',\n",
              " '_parameter_cls',\n",
              " '_parameters',\n",
              " '_return_annotation',\n",
              " 'bind',\n",
              " 'bind_partial',\n",
              " 'empty',\n",
              " 'from_builtin',\n",
              " 'from_callable',\n",
              " 'from_function',\n",
              " 'parameters',\n",
              " 'replace',\n",
              " 'return_annotation']"
            ]
          },
          "metadata": {
            "tags": []
          },
          "execution_count": 59
        }
      ]
    },
    {
      "cell_type": "code",
      "metadata": {
        "id": "gRJN1oO0b8mF",
        "colab_type": "code",
        "outputId": "ffd2d650-1b03-4abb-ec87-6054fbfc469e",
        "colab": {
          "base_uri": "https://localhost:8080/",
          "height": 119
        }
      },
      "source": [
        "for param_name, param in sig.parameters.items():\n",
        "    print(param_name, param)"
      ],
      "execution_count": 0,
      "outputs": [
        {
          "output_type": "stream",
          "text": [
            "a a:'a string'\n",
            "b b:int=1\n",
            "args *args:'additional positional args'\n",
            "kw1 kw1:'first keyword-only arg'\n",
            "kw2 kw2:'second keyword-only arg'=10\n",
            "kwargs **kwargs:'additional keyword-only args'\n"
          ],
          "name": "stdout"
        }
      ]
    },
    {
      "cell_type": "code",
      "metadata": {
        "id": "9sEMZffib9uZ",
        "colab_type": "code",
        "outputId": "b980637c-4456-4274-ef2b-d543199693ce",
        "colab": {
          "base_uri": "https://localhost:8080/",
          "height": 867
        }
      },
      "source": [
        "def print_info(f: \"callable\") -> None:\n",
        "    print(f.__name__)\n",
        "    print('=' * len(f.__name__), end='\\n\\n')\n",
        "    \n",
        "    print('{0}\\n{1}\\n'.format(inspect.getcomments(f), \n",
        "                              inspect.cleandoc(f.__doc__)))\n",
        "    \n",
        "    print('{0}\\n{1}'.format('Inputs', '-'*len('Inputs')))\n",
        "    \n",
        "    sig = inspect.signature(f)\n",
        "    for param in sig.parameters.values():\n",
        "        print('Name:', param.name)\n",
        "        print('Default:', param.default)\n",
        "        print('Annotation:', param.annotation)\n",
        "        print('Kind:', param.kind)\n",
        "        print('--------------------------\\n')\n",
        "        \n",
        "    print('{0}\\n{1}'.format('\\n\\nOutput', '-'*len('Output')))\n",
        "    print(sig.return_annotation)\n",
        "\n",
        "print_info(my_func)"
      ],
      "execution_count": 0,
      "outputs": [
        {
          "output_type": "stream",
          "text": [
            "my_func\n",
            "=======\n",
            "\n",
            "None\n",
            "does something\n",
            "or other\n",
            "\n",
            "Inputs\n",
            "------\n",
            "Name: a\n",
            "Default: <class 'inspect._empty'>\n",
            "Annotation: a string\n",
            "Kind: POSITIONAL_OR_KEYWORD\n",
            "--------------------------\n",
            "\n",
            "Name: b\n",
            "Default: 1\n",
            "Annotation: <class 'int'>\n",
            "Kind: POSITIONAL_OR_KEYWORD\n",
            "--------------------------\n",
            "\n",
            "Name: args\n",
            "Default: <class 'inspect._empty'>\n",
            "Annotation: additional positional args\n",
            "Kind: VAR_POSITIONAL\n",
            "--------------------------\n",
            "\n",
            "Name: kw1\n",
            "Default: <class 'inspect._empty'>\n",
            "Annotation: first keyword-only arg\n",
            "Kind: KEYWORD_ONLY\n",
            "--------------------------\n",
            "\n",
            "Name: kw2\n",
            "Default: 10\n",
            "Annotation: second keyword-only arg\n",
            "Kind: KEYWORD_ONLY\n",
            "--------------------------\n",
            "\n",
            "Name: kwargs\n",
            "Default: <class 'inspect._empty'>\n",
            "Annotation: additional keyword-only args\n",
            "Kind: VAR_KEYWORD\n",
            "--------------------------\n",
            "\n",
            "\n",
            "\n",
            "Output\n",
            "------\n",
            "<class 'str'>\n"
          ],
          "name": "stdout"
        }
      ]
    },
    {
      "cell_type": "markdown",
      "metadata": {
        "id": "E_rV4EFycDsV",
        "colab_type": "text"
      },
      "source": [
        "### A Side Note on Positional Only Arguments"
      ]
    },
    {
      "cell_type": "markdown",
      "metadata": {
        "id": "SJvsQWMGcHU3",
        "colab_type": "text"
      },
      "source": [
        "Some built-in callables have arguments that are positional only (i.e. cannot be specified using a keyword).\n",
        "\n",
        "However, Python does not currently have any syntax that allows us to define callables with positional only arguments.\n",
        "\n",
        "In general, the documentation uses a **/** character to indicate that all preceding arguments are positional-only. But not always :-("
      ]
    },
    {
      "cell_type": "code",
      "metadata": {
        "id": "jI-anTelcCMY",
        "colab_type": "code",
        "outputId": "53da09c9-e2f9-4999-b3d7-65284a9e34be",
        "colab": {
          "base_uri": "https://localhost:8080/",
          "height": 102
        }
      },
      "source": [
        "help(divmod)"
      ],
      "execution_count": 0,
      "outputs": [
        {
          "output_type": "stream",
          "text": [
            "Help on built-in function divmod in module builtins:\n",
            "\n",
            "divmod(x, y, /)\n",
            "    Return the tuple (x//y, x%y).  Invariant: div*y + mod == x.\n",
            "\n"
          ],
          "name": "stdout"
        }
      ]
    },
    {
      "cell_type": "markdown",
      "metadata": {
        "id": "tlP47gb3cLD1",
        "colab_type": "text"
      },
      "source": [
        "Here we see that the **divmod** function takes two positional-only parameters:"
      ]
    },
    {
      "cell_type": "code",
      "metadata": {
        "id": "XchF770KcJ_o",
        "colab_type": "code",
        "outputId": "e69f05dc-999e-4950-b27b-e5877977562e",
        "colab": {
          "base_uri": "https://localhost:8080/",
          "height": 34
        }
      },
      "source": [
        "divmod(10, 3)"
      ],
      "execution_count": 0,
      "outputs": [
        {
          "output_type": "execute_result",
          "data": {
            "text/plain": [
              "(3, 1)"
            ]
          },
          "metadata": {
            "tags": []
          },
          "execution_count": 63
        }
      ]
    },
    {
      "cell_type": "code",
      "metadata": {
        "id": "dqvighm2cMMa",
        "colab_type": "code",
        "outputId": "266f3e4c-7445-44b5-90c4-6d210ef0d9aa",
        "colab": {
          "base_uri": "https://localhost:8080/",
          "height": 183
        }
      },
      "source": [
        "divmod(x=10, y=3)"
      ],
      "execution_count": 0,
      "outputs": [
        {
          "output_type": "error",
          "ename": "TypeError",
          "evalue": "ignored",
          "traceback": [
            "\u001b[0;31m---------------------------------------------------------------------------\u001b[0m",
            "\u001b[0;31mTypeError\u001b[0m                                 Traceback (most recent call last)",
            "\u001b[0;32m<ipython-input-64-57f645413c6a>\u001b[0m in \u001b[0;36m<module>\u001b[0;34m()\u001b[0m\n\u001b[0;32m----> 1\u001b[0;31m \u001b[0mdivmod\u001b[0m\u001b[0;34m(\u001b[0m\u001b[0mx\u001b[0m\u001b[0;34m=\u001b[0m\u001b[0;36m10\u001b[0m\u001b[0;34m,\u001b[0m \u001b[0my\u001b[0m\u001b[0;34m=\u001b[0m\u001b[0;36m3\u001b[0m\u001b[0;34m)\u001b[0m\u001b[0;34m\u001b[0m\u001b[0;34m\u001b[0m\u001b[0m\n\u001b[0m",
            "\u001b[0;31mTypeError\u001b[0m: divmod() takes no keyword arguments"
          ]
        }
      ]
    },
    {
      "cell_type": "code",
      "metadata": {
        "id": "Fr0GZOkuPTb5",
        "colab_type": "code",
        "colab": {
          "base_uri": "https://localhost:8080/",
          "height": 51
        },
        "outputId": "0bfe7b6d-dec9-4d4d-e239-4a71164e16db"
      },
      "source": [
        "import inspect\n",
        "\n",
        "for param in inspect.signature(divmod).parameters.values():\n",
        "    print(param.kind)"
      ],
      "execution_count": 11,
      "outputs": [
        {
          "output_type": "stream",
          "text": [
            "POSITIONAL_ONLY\n",
            "POSITIONAL_ONLY\n"
          ],
          "name": "stdout"
        }
      ]
    },
    {
      "cell_type": "markdown",
      "metadata": {
        "id": "Kn29RcU_cO5s",
        "colab_type": "text"
      },
      "source": [
        "Similarly, the string **replace** function also takes positional-only arguments, however, the documentation does not indicate this!"
      ]
    },
    {
      "cell_type": "code",
      "metadata": {
        "id": "sD9tLlJTcNAc",
        "colab_type": "code",
        "outputId": "19128635-2af7-4747-e4d1-ba09f7e43743",
        "colab": {
          "base_uri": "https://localhost:8080/",
          "height": 34
        }
      },
      "source": [
        "'abcdefg'.replace('abc', 'xyz')"
      ],
      "execution_count": 0,
      "outputs": [
        {
          "output_type": "execute_result",
          "data": {
            "text/plain": [
              "'xyzdefg'"
            ]
          },
          "metadata": {
            "tags": []
          },
          "execution_count": 65
        }
      ]
    },
    {
      "cell_type": "code",
      "metadata": {
        "id": "ccIDCRawcQc2",
        "colab_type": "code",
        "outputId": "a2a020f2-96c7-44f7-fbe5-106d5eaeef5c",
        "colab": {
          "base_uri": "https://localhost:8080/",
          "height": 34
        }
      },
      "source": [
        "'abcdefg'.replace('abc', 'xyz')"
      ],
      "execution_count": 0,
      "outputs": [
        {
          "output_type": "execute_result",
          "data": {
            "text/plain": [
              "'xyzdefg'"
            ]
          },
          "metadata": {
            "tags": []
          },
          "execution_count": 67
        }
      ]
    },
    {
      "cell_type": "code",
      "metadata": {
        "id": "jZ73I33jcRu4",
        "colab_type": "code",
        "outputId": "5fb84f07-f84c-455d-de74-6f09c7de338b",
        "colab": {
          "base_uri": "https://localhost:8080/",
          "height": 183
        }
      },
      "source": [
        "'abcdefg'.replace(old='abc', new='xyz')"
      ],
      "execution_count": 0,
      "outputs": [
        {
          "output_type": "error",
          "ename": "TypeError",
          "evalue": "ignored",
          "traceback": [
            "\u001b[0;31m---------------------------------------------------------------------------\u001b[0m",
            "\u001b[0;31mTypeError\u001b[0m                                 Traceback (most recent call last)",
            "\u001b[0;32m<ipython-input-69-fee22a209287>\u001b[0m in \u001b[0;36m<module>\u001b[0;34m()\u001b[0m\n\u001b[0;32m----> 1\u001b[0;31m \u001b[0;34m'abcdefg'\u001b[0m\u001b[0;34m.\u001b[0m\u001b[0mreplace\u001b[0m\u001b[0;34m(\u001b[0m\u001b[0mold\u001b[0m\u001b[0;34m=\u001b[0m\u001b[0;34m'abc'\u001b[0m\u001b[0;34m,\u001b[0m \u001b[0mnew\u001b[0m\u001b[0;34m=\u001b[0m\u001b[0;34m'xyz'\u001b[0m\u001b[0;34m)\u001b[0m\u001b[0;34m\u001b[0m\u001b[0;34m\u001b[0m\u001b[0m\n\u001b[0m",
            "\u001b[0;31mTypeError\u001b[0m: replace() takes no keyword arguments"
          ]
        }
      ]
    },
    {
      "cell_type": "code",
      "metadata": {
        "id": "CsaUhQsOcV2m",
        "colab_type": "code",
        "colab": {}
      },
      "source": [
        ""
      ],
      "execution_count": 0,
      "outputs": []
    }
  ]
}