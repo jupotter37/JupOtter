{
 "cells": [
  {
   "cell_type": "markdown",
   "metadata": {},
   "source": [
    "## Logistic Regression Challenge"
   ]
  },
  {
   "cell_type": "code",
   "execution_count": 144,
   "metadata": {},
   "outputs": [],
   "source": [
    "#import the required packages here\n",
    "#import the required packages here\n",
    "import pandas as pd\n",
    "import numpy as np\n",
    "\n",
    "import statsmodels.api as sm\n",
    "\n",
    "import matplotlib.pyplot as plt \n",
    "plt.rc(\"font\", size=14)\n",
    "\n",
    "import seaborn as sns\n",
    "sns.set(style=\"white\")\n",
    "sns.set(style=\"whitegrid\", color_codes=True)\n",
    "\n",
    "from sklearn.preprocessing import StandardScaler\n",
    "from sklearn.model_selection import train_test_split\n",
    "from sklearn.linear_model import LogisticRegression\n",
    "from sklearn.metrics import classification_report, accuracy_score, plot_roc_curve, plot_precision_recall_curve, plot_confusion_matrix\n",
    "from sklearn.metrics import log_loss, roc_auc_score, recall_score, precision_score, average_precision_score,f1_score"
   ]
  },
  {
   "cell_type": "markdown",
   "metadata": {},
   "source": [
    "### Task 1: Download the data and load them into Python.\n",
    "You can find the data [**here**](https://drive.google.com/file/d/0Bz9_0VdXvv9bX0MzUEhVdmpCc3c/view?usp=sharing&resourcekey=0-BirYbvtYO-hSEt09wpEBRw).\n",
    "\n",
    "**Note**\n",
    "- Features and response variables are in different files.\n",
    "- Be careful about number of spaces between the values in the file."
   ]
  },
  {
   "cell_type": "code",
   "execution_count": 184,
   "metadata": {},
   "outputs": [
    {
     "data": {
      "text/html": [
       "<div>\n",
       "<style scoped>\n",
       "    .dataframe tbody tr th:only-of-type {\n",
       "        vertical-align: middle;\n",
       "    }\n",
       "\n",
       "    .dataframe tbody tr th {\n",
       "        vertical-align: top;\n",
       "    }\n",
       "\n",
       "    .dataframe thead th {\n",
       "        text-align: right;\n",
       "    }\n",
       "</style>\n",
       "<table border=\"1\" class=\"dataframe\">\n",
       "  <thead>\n",
       "    <tr style=\"text-align: right;\">\n",
       "      <th></th>\n",
       "      <th>tBodyAcc-mean()-X</th>\n",
       "      <th>tBodyAcc-mean()-Y</th>\n",
       "      <th>tBodyAcc-mean()-Z</th>\n",
       "      <th>tBodyAcc-std()-X</th>\n",
       "      <th>tBodyAcc-std()-Y</th>\n",
       "      <th>tBodyAcc-std()-Z</th>\n",
       "      <th>tBodyAcc-mad()-X</th>\n",
       "      <th>tBodyAcc-mad()-Y</th>\n",
       "      <th>tBodyAcc-mad()-Z</th>\n",
       "      <th>tBodyAcc-max()-X</th>\n",
       "      <th>...</th>\n",
       "      <th>fBodyBodyGyroJerkMag-meanFreq()</th>\n",
       "      <th>fBodyBodyGyroJerkMag-skewness()</th>\n",
       "      <th>fBodyBodyGyroJerkMag-kurtosis()</th>\n",
       "      <th>angle(tBodyAccMean,gravity)</th>\n",
       "      <th>angle(tBodyAccJerkMean),gravityMean)</th>\n",
       "      <th>angle(tBodyGyroMean,gravityMean)</th>\n",
       "      <th>angle(tBodyGyroJerkMean,gravityMean)</th>\n",
       "      <th>angle(X,gravityMean)</th>\n",
       "      <th>angle(Y,gravityMean)</th>\n",
       "      <th>angle(Z,gravityMean)</th>\n",
       "    </tr>\n",
       "  </thead>\n",
       "  <tbody>\n",
       "    <tr>\n",
       "      <th>0</th>\n",
       "      <td>0.278419</td>\n",
       "      <td>-0.016411</td>\n",
       "      <td>-0.123520</td>\n",
       "      <td>-0.998245</td>\n",
       "      <td>-0.975300</td>\n",
       "      <td>-0.960322</td>\n",
       "      <td>-0.998807</td>\n",
       "      <td>-0.974914</td>\n",
       "      <td>-0.957686</td>\n",
       "      <td>-0.943068</td>\n",
       "      <td>...</td>\n",
       "      <td>0.158075</td>\n",
       "      <td>-0.595051</td>\n",
       "      <td>-0.861499</td>\n",
       "      <td>0.053477</td>\n",
       "      <td>-0.007435</td>\n",
       "      <td>-0.732626</td>\n",
       "      <td>0.703511</td>\n",
       "      <td>-0.844788</td>\n",
       "      <td>0.180289</td>\n",
       "      <td>-0.054317</td>\n",
       "    </tr>\n",
       "    <tr>\n",
       "      <th>1</th>\n",
       "      <td>0.279653</td>\n",
       "      <td>-0.019467</td>\n",
       "      <td>-0.113462</td>\n",
       "      <td>-0.995380</td>\n",
       "      <td>-0.967187</td>\n",
       "      <td>-0.978944</td>\n",
       "      <td>-0.996520</td>\n",
       "      <td>-0.963668</td>\n",
       "      <td>-0.977469</td>\n",
       "      <td>-0.938692</td>\n",
       "      <td>...</td>\n",
       "      <td>0.414503</td>\n",
       "      <td>-0.390748</td>\n",
       "      <td>-0.760104</td>\n",
       "      <td>-0.118559</td>\n",
       "      <td>0.177899</td>\n",
       "      <td>0.100699</td>\n",
       "      <td>0.808529</td>\n",
       "      <td>-0.848933</td>\n",
       "      <td>0.180637</td>\n",
       "      <td>-0.049118</td>\n",
       "    </tr>\n",
       "    <tr>\n",
       "      <th>2</th>\n",
       "      <td>0.279174</td>\n",
       "      <td>-0.026201</td>\n",
       "      <td>-0.123283</td>\n",
       "      <td>-0.996091</td>\n",
       "      <td>-0.983403</td>\n",
       "      <td>-0.990675</td>\n",
       "      <td>-0.997099</td>\n",
       "      <td>-0.982750</td>\n",
       "      <td>-0.989302</td>\n",
       "      <td>-0.938692</td>\n",
       "      <td>...</td>\n",
       "      <td>0.404573</td>\n",
       "      <td>-0.117290</td>\n",
       "      <td>-0.482845</td>\n",
       "      <td>-0.036788</td>\n",
       "      <td>-0.012892</td>\n",
       "      <td>0.640011</td>\n",
       "      <td>-0.485366</td>\n",
       "      <td>-0.848649</td>\n",
       "      <td>0.181935</td>\n",
       "      <td>-0.047663</td>\n",
       "    </tr>\n",
       "    <tr>\n",
       "      <th>3</th>\n",
       "      <td>0.276629</td>\n",
       "      <td>-0.016570</td>\n",
       "      <td>-0.115362</td>\n",
       "      <td>-0.998139</td>\n",
       "      <td>-0.980817</td>\n",
       "      <td>-0.990482</td>\n",
       "      <td>-0.998321</td>\n",
       "      <td>-0.979672</td>\n",
       "      <td>-0.990441</td>\n",
       "      <td>-0.942469</td>\n",
       "      <td>...</td>\n",
       "      <td>0.087753</td>\n",
       "      <td>-0.351471</td>\n",
       "      <td>-0.699205</td>\n",
       "      <td>0.123320</td>\n",
       "      <td>0.122542</td>\n",
       "      <td>0.693578</td>\n",
       "      <td>-0.615971</td>\n",
       "      <td>-0.847865</td>\n",
       "      <td>0.185151</td>\n",
       "      <td>-0.043892</td>\n",
       "    </tr>\n",
       "    <tr>\n",
       "      <th>4</th>\n",
       "      <td>0.277199</td>\n",
       "      <td>-0.010098</td>\n",
       "      <td>-0.105137</td>\n",
       "      <td>-0.997335</td>\n",
       "      <td>-0.990487</td>\n",
       "      <td>-0.995420</td>\n",
       "      <td>-0.997627</td>\n",
       "      <td>-0.990218</td>\n",
       "      <td>-0.995549</td>\n",
       "      <td>-0.942469</td>\n",
       "      <td>...</td>\n",
       "      <td>0.019953</td>\n",
       "      <td>-0.545410</td>\n",
       "      <td>-0.844619</td>\n",
       "      <td>0.082632</td>\n",
       "      <td>-0.143439</td>\n",
       "      <td>0.275041</td>\n",
       "      <td>-0.368224</td>\n",
       "      <td>-0.849632</td>\n",
       "      <td>0.184823</td>\n",
       "      <td>-0.042126</td>\n",
       "    </tr>\n",
       "  </tbody>\n",
       "</table>\n",
       "<p>5 rows × 561 columns</p>\n",
       "</div>"
      ],
      "text/plain": [
       "   tBodyAcc-mean()-X  tBodyAcc-mean()-Y  tBodyAcc-mean()-Z  tBodyAcc-std()-X  \\\n",
       "0           0.278419          -0.016411          -0.123520         -0.998245   \n",
       "1           0.279653          -0.019467          -0.113462         -0.995380   \n",
       "2           0.279174          -0.026201          -0.123283         -0.996091   \n",
       "3           0.276629          -0.016570          -0.115362         -0.998139   \n",
       "4           0.277199          -0.010098          -0.105137         -0.997335   \n",
       "\n",
       "   tBodyAcc-std()-Y  tBodyAcc-std()-Z  tBodyAcc-mad()-X  tBodyAcc-mad()-Y  \\\n",
       "0         -0.975300         -0.960322         -0.998807         -0.974914   \n",
       "1         -0.967187         -0.978944         -0.996520         -0.963668   \n",
       "2         -0.983403         -0.990675         -0.997099         -0.982750   \n",
       "3         -0.980817         -0.990482         -0.998321         -0.979672   \n",
       "4         -0.990487         -0.995420         -0.997627         -0.990218   \n",
       "\n",
       "   tBodyAcc-mad()-Z  tBodyAcc-max()-X  ...  fBodyBodyGyroJerkMag-meanFreq()  \\\n",
       "0         -0.957686         -0.943068  ...                         0.158075   \n",
       "1         -0.977469         -0.938692  ...                         0.414503   \n",
       "2         -0.989302         -0.938692  ...                         0.404573   \n",
       "3         -0.990441         -0.942469  ...                         0.087753   \n",
       "4         -0.995549         -0.942469  ...                         0.019953   \n",
       "\n",
       "   fBodyBodyGyroJerkMag-skewness()  fBodyBodyGyroJerkMag-kurtosis()  \\\n",
       "0                        -0.595051                        -0.861499   \n",
       "1                        -0.390748                        -0.760104   \n",
       "2                        -0.117290                        -0.482845   \n",
       "3                        -0.351471                        -0.699205   \n",
       "4                        -0.545410                        -0.844619   \n",
       "\n",
       "   angle(tBodyAccMean,gravity)  angle(tBodyAccJerkMean),gravityMean)  \\\n",
       "0                     0.053477                             -0.007435   \n",
       "1                    -0.118559                              0.177899   \n",
       "2                    -0.036788                             -0.012892   \n",
       "3                     0.123320                              0.122542   \n",
       "4                     0.082632                             -0.143439   \n",
       "\n",
       "   angle(tBodyGyroMean,gravityMean)  angle(tBodyGyroJerkMean,gravityMean)  \\\n",
       "0                         -0.732626                              0.703511   \n",
       "1                          0.100699                              0.808529   \n",
       "2                          0.640011                             -0.485366   \n",
       "3                          0.693578                             -0.615971   \n",
       "4                          0.275041                             -0.368224   \n",
       "\n",
       "   angle(X,gravityMean)  angle(Y,gravityMean)  angle(Z,gravityMean)  \n",
       "0             -0.844788              0.180289             -0.054317  \n",
       "1             -0.848933              0.180637             -0.049118  \n",
       "2             -0.848649              0.181935             -0.047663  \n",
       "3             -0.847865              0.185151             -0.043892  \n",
       "4             -0.849632              0.184823             -0.042126  \n",
       "\n",
       "[5 rows x 561 columns]"
      ]
     },
     "execution_count": 184,
     "metadata": {},
     "output_type": "execute_result"
    }
   ],
   "source": [
    "# LOAD DATA\n",
    "\n",
    "# get labels\n",
    "activity_labels = pd.read_csv('Smartphone_Sensor_Data/activity_labels.txt', sep=\" \", header=None)\n",
    "features_labels = pd.read_csv('Smartphone_Sensor_Data/features.txt', sep=\" \", header=None)\n",
    "# print(features_labels[1].values.size)\n",
    "\n",
    "feature_columns = features_labels[1].values\n",
    "activity_columns = activity_labels[1].values # these are the labels of the y categories\n",
    "\n",
    "# # get data and assign labels ( can't do for y yet)\n",
    "X_train = pd.read_csv('Smartphone_Sensor_Data/train/X_train.txt', sep='\\s+')\n",
    "y_train =  pd.read_csv('Smartphone_Sensor_Data/train/y_train.txt', sep='\\s+', header=None)\n",
    "X_train.columns = feature_columns\n",
    "\n",
    "# y_train.columns = activity_columns\n",
    "\n",
    "# # tab # end of row parameter - error bad line = true - will skip\n",
    " \n",
    "X_train.head()\n"
   ]
  },
  {
   "cell_type": "code",
   "execution_count": 185,
   "metadata": {},
   "outputs": [
    {
     "data": {
      "text/plain": [
       "array(['WALKING', 'WALKING_UPSTAIRS', 'WALKING_DOWNSTAIRS', 'SITTING',\n",
       "       'STANDING', 'LAYING'], dtype=object)"
      ]
     },
     "execution_count": 185,
     "metadata": {},
     "output_type": "execute_result"
    }
   ],
   "source": [
    "activity_label_columns = activity_labels[1].values \n",
    "activity_label_columns"
   ]
  },
  {
   "cell_type": "code",
   "execution_count": null,
   "metadata": {},
   "outputs": [],
   "source": [
    "# ### OKAY SO I GUESS WE TEST/TRAIN SPLIT ON THE original \"TRAIN\" since there's no test"
   ]
  },
  {
   "cell_type": "code",
   "execution_count": 110,
   "metadata": {},
   "outputs": [
    {
     "name": "stdout",
     "output_type": "stream",
     "text": [
      "<class 'pandas.core.frame.DataFrame'>\n",
      "RangeIndex: 7351 entries, 0 to 7350\n",
      "Columns: 561 entries, tBodyAcc-mean()-X to angle(Z,gravityMean)\n",
      "dtypes: float64(561)\n",
      "memory usage: 31.5 MB\n"
     ]
    }
   ],
   "source": [
    "X_train.info()"
   ]
  },
  {
   "cell_type": "markdown",
   "metadata": {},
   "source": [
    "### Task 2: Create a binary target variable: categories 1,2,3 --> 1, categories 4,5,6 --> 0 \n",
    "This will represent a binary variable indicating if person is walking or not."
   ]
  },
  {
   "cell_type": "code",
   "execution_count": 64,
   "metadata": {},
   "outputs": [
    {
     "data": {
      "text/html": [
       "<div>\n",
       "<style scoped>\n",
       "    .dataframe tbody tr th:only-of-type {\n",
       "        vertical-align: middle;\n",
       "    }\n",
       "\n",
       "    .dataframe tbody tr th {\n",
       "        vertical-align: top;\n",
       "    }\n",
       "\n",
       "    .dataframe thead th {\n",
       "        text-align: right;\n",
       "    }\n",
       "</style>\n",
       "<table border=\"1\" class=\"dataframe\">\n",
       "  <thead>\n",
       "    <tr style=\"text-align: right;\">\n",
       "      <th></th>\n",
       "      <th>0</th>\n",
       "    </tr>\n",
       "  </thead>\n",
       "  <tbody>\n",
       "    <tr>\n",
       "      <th>0</th>\n",
       "      <td>5</td>\n",
       "    </tr>\n",
       "    <tr>\n",
       "      <th>1</th>\n",
       "      <td>5</td>\n",
       "    </tr>\n",
       "    <tr>\n",
       "      <th>2</th>\n",
       "      <td>5</td>\n",
       "    </tr>\n",
       "    <tr>\n",
       "      <th>3</th>\n",
       "      <td>5</td>\n",
       "    </tr>\n",
       "    <tr>\n",
       "      <th>4</th>\n",
       "      <td>5</td>\n",
       "    </tr>\n",
       "  </tbody>\n",
       "</table>\n",
       "</div>"
      ],
      "text/plain": [
       "   0\n",
       "0  5\n",
       "1  5\n",
       "2  5\n",
       "3  5\n",
       "4  5"
      ]
     },
     "execution_count": 64,
     "metadata": {},
     "output_type": "execute_result"
    }
   ],
   "source": [
    "y_train.head()"
   ]
  },
  {
   "cell_type": "code",
   "execution_count": 76,
   "metadata": {},
   "outputs": [
    {
     "data": {
      "text/plain": [
       "Int64Index([0], dtype='int64')"
      ]
     },
     "execution_count": 76,
     "metadata": {},
     "output_type": "execute_result"
    }
   ],
   "source": [
    "y_train_binary = y_train.copy()\n",
    "y_train_binary= y_train_binary.replace({2:1, 3:1, 6:0, 5:0, 4:0})\n",
    "\n",
    "y_train_binary.columns"
   ]
  },
  {
   "cell_type": "code",
   "execution_count": null,
   "metadata": {},
   "outputs": [],
   "source": [
    "# ##### CHECK NULL VALUES"
   ]
  },
  {
   "cell_type": "code",
   "execution_count": null,
   "metadata": {},
   "outputs": [],
   "source": []
  },
  {
   "cell_type": "code",
   "execution_count": 136,
   "metadata": {},
   "outputs": [
    {
     "data": {
      "text/plain": [
       "(7351, 562)"
      ]
     },
     "execution_count": 136,
     "metadata": {},
     "output_type": "execute_result"
    }
   ],
   "source": [
    "# COMBINE TO STRATIFY y AND TRAIN/SPLIT\n",
    "df = pd.concat([X_train, y_train_binary], axis = 1)\n",
    "df = df.dropna()\n",
    "\n",
    "random_seed = 88\n",
    "df_train, df_test = train_test_split(df, test_size=0.2, random_state=random_seed, stratify=df[0])\n",
    "df_train.head()\n",
    "df.shape"
   ]
  },
  {
   "cell_type": "code",
   "execution_count": 121,
   "metadata": {},
   "outputs": [],
   "source": [
    "# df_train['tGravityAcc-min()-Y'].isnull().values.any()\n",
    "# df_train['tGravityAcc-min()-Y'].isnull().sum()\n",
    "# df_train = df_train.dropna()"
   ]
  },
  {
   "cell_type": "code",
   "execution_count": 153,
   "metadata": {},
   "outputs": [],
   "source": [
    "y_train_b = df_train[0].to_numpy()\n",
    "X_train_b = df_train['tGravityAcc-min()-Y'].to_numpy()\n",
    "\n",
    "y_test_b = df_test[0].to_numpy()\n",
    "X_test_b = df_test['tGravityAcc-min()-Y'].to_numpy()"
   ]
  },
  {
   "cell_type": "markdown",
   "metadata": {},
   "source": [
    "### Task 3\n",
    "\n",
    "+ Create a Univariate Binary Logistic Regression with feature number 54, which represents `tGravityAcc-min()-Y`: gravity acceleration signals in direction of Y.\n",
    "+ Compare the results of the Logistic regressions from different Python packages (sklearn, statsmodel).\n",
    "+ Plot the **fit** of predicted probabilities to the original values."
   ]
  },
  {
   "cell_type": "code",
   "execution_count": 154,
   "metadata": {},
   "outputs": [
    {
     "data": {
      "text/plain": [
       "(5880,)"
      ]
     },
     "execution_count": 154,
     "metadata": {},
     "output_type": "execute_result"
    }
   ],
   "source": [
    "X_train_b.shape"
   ]
  },
  {
   "cell_type": "code",
   "execution_count": 155,
   "metadata": {},
   "outputs": [
    {
     "data": {
      "text/plain": [
       "(5880,)"
      ]
     },
     "execution_count": 155,
     "metadata": {},
     "output_type": "execute_result"
    }
   ],
   "source": [
    "y_train_b.shape"
   ]
  },
  {
   "cell_type": "code",
   "execution_count": 206,
   "metadata": {},
   "outputs": [
    {
     "data": {
      "text/plain": [
       "0.7593473827328348"
      ]
     },
     "execution_count": 206,
     "metadata": {},
     "output_type": "execute_result"
    }
   ],
   "source": [
    "# # sklearn\n",
    "X_train_b= X_train_b.reshape(-1, 1) ## need to reshape in order to have a 2d array rather than a serries for sklearn\n",
    "X_test_b = X_test_b.reshape(-1,1)\n",
    "\n",
    "clf = LogisticRegression(penalty='none') \n",
    "clf.fit(X_train_b, y_train_b)\n",
    "\n",
    "y_sk = clf.predict(X_test_b)\n",
    "\n",
    "accuracy_score(y_test, y_sk)"
   ]
  },
  {
   "cell_type": "code",
   "execution_count": 157,
   "metadata": {},
   "outputs": [
    {
     "data": {
      "image/png": "[encoded data removed]",
      "text/plain": [
       "<Figure size 432x288 with 1 Axes>"
      ]
     },
     "metadata": {},
     "output_type": "display_data"
    }
   ],
   "source": [
    "from sklearn.metrics import roc_auc_score\n",
    "from sklearn.metrics import roc_curve\n",
    "logit_roc_auc = roc_auc_score(y_test_b, clf.predict(X_test_b))\n",
    "fpr, tpr, thresholds = roc_curve(y_test_b, clf.predict_proba(X_test_b)[:,1])\n",
    "plt.figure()\n",
    "plt.plot(fpr, tpr, label='Logistic Regression (area = %0.2f)' % logit_roc_auc)\n",
    "plt.plot([0, 1], [0, 1],'r--')\n",
    "plt.xlim([0.0, 1.0])\n",
    "plt.ylim([0.0, 1.05])\n",
    "plt.xlabel('False Positive Rate')\n",
    "plt.ylabel('True Positive Rate')\n",
    "plt.title('Receiver operating characteristic')\n",
    "plt.legend(loc=\"lower right\")\n",
    "plt.savefig('Log_ROC')\n",
    "plt.show()"
   ]
  },
  {
   "cell_type": "code",
   "execution_count": 213,
   "metadata": {},
   "outputs": [
    {
     "name": "stdout",
     "output_type": "stream",
     "text": [
      "Optimization terminated successfully.\n",
      "         Current function value: 0.496443\n",
      "         Iterations 7\n",
      "Optimization terminated successfully.\n",
      "         Current function value: 0.496443\n",
      "         Iterations 7\n"
     ]
    },
    {
     "data": {
      "text/html": [
       "<table class=\"simpletable\">\n",
       "<caption>Logit Regression Results</caption>\n",
       "<tr>\n",
       "  <th>Dep. Variable:</th>           <td>y</td>        <th>  No. Observations:  </th>  <td>  5880</td> \n",
       "</tr>\n",
       "<tr>\n",
       "  <th>Model:</th>                 <td>Logit</td>      <th>  Df Residuals:      </th>  <td>  5879</td> \n",
       "</tr>\n",
       "<tr>\n",
       "  <th>Method:</th>                 <td>MLE</td>       <th>  Df Model:          </th>  <td>     0</td> \n",
       "</tr>\n",
       "<tr>\n",
       "  <th>Date:</th>            <td>Tue, 12 Oct 2021</td> <th>  Pseudo R-squ.:     </th>  <td>0.2779</td> \n",
       "</tr>\n",
       "<tr>\n",
       "  <th>Time:</th>                <td>22:10:12</td>     <th>  Log-Likelihood:    </th> <td> -2919.1</td>\n",
       "</tr>\n",
       "<tr>\n",
       "  <th>converged:</th>             <td>True</td>       <th>  LL-Null:           </th> <td> -4042.3</td>\n",
       "</tr>\n",
       "<tr>\n",
       "  <th>Covariance Type:</th>     <td>nonrobust</td>    <th>  LLR p-value:       </th>  <td>   nan</td> \n",
       "</tr>\n",
       "</table>\n",
       "<table class=\"simpletable\">\n",
       "<tr>\n",
       "   <td></td>     <th>coef</th>     <th>std err</th>      <th>z</th>      <th>P>|z|</th>  <th>[0.025</th>    <th>0.975]</th>  \n",
       "</tr>\n",
       "<tr>\n",
       "  <th>x1</th> <td>   -5.0826</td> <td>    0.144</td> <td>  -35.408</td> <td> 0.000</td> <td>   -5.364</td> <td>   -4.801</td>\n",
       "</tr>\n",
       "</table>"
      ],
      "text/plain": [
       "<class 'statsmodels.iolib.summary.Summary'>\n",
       "\"\"\"\n",
       "                           Logit Regression Results                           \n",
       "==============================================================================\n",
       "Dep. Variable:                      y   No. Observations:                 5880\n",
       "Model:                          Logit   Df Residuals:                     5879\n",
       "Method:                           MLE   Df Model:                            0\n",
       "Date:                Tue, 12 Oct 2021   Pseudo R-squ.:                  0.2779\n",
       "Time:                        22:10:12   Log-Likelihood:                -2919.1\n",
       "converged:                       True   LL-Null:                       -4042.3\n",
       "Covariance Type:            nonrobust   LLR p-value:                       nan\n",
       "==============================================================================\n",
       "                 coef    std err          z      P>|z|      [0.025      0.975]\n",
       "------------------------------------------------------------------------------\n",
       "x1            -5.0826      0.144    -35.408      0.000      -5.364      -4.801\n",
       "==============================================================================\n",
       "\"\"\""
      ]
     },
     "execution_count": 213,
     "metadata": {},
     "output_type": "execute_result"
    }
   ],
   "source": [
    "# statsmodel\n",
    "\n",
    "# import statsmodels.discrete.discrete_model as sm\n",
    "\n",
    "import statsmodels.api as sm\n",
    "\n",
    "logit = sm.Logit(y_train_b, X_train_b)\n",
    "logit.fit()\n",
    "\n",
    "# print(logit.summary)\n",
    "y_pred_sm= logit.predict(X_test_b.T) # previous valueerror fix\n",
    "sm.Logit(y_train_b,X_train_b).fit().summary()"
   ]
  },
  {
   "cell_type": "code",
   "execution_count": null,
   "metadata": {},
   "outputs": [],
   "source": [
    "## PROB NEED TO PROCESS THIS ONE - plot with above?"
   ]
  },
  {
   "cell_type": "code",
   "execution_count": null,
   "metadata": {},
   "outputs": [],
   "source": []
  },
  {
   "cell_type": "markdown",
   "metadata": {},
   "source": [
    "### Task 4\n",
    "- Try to fit a Binary Logistic Regression with all the features? How many are significant?"
   ]
  },
  {
   "cell_type": "code",
   "execution_count": 187,
   "metadata": {},
   "outputs": [
    {
     "data": {
      "text/plain": [
       "array([0, 1])"
      ]
     },
     "execution_count": 187,
     "metadata": {},
     "output_type": "execute_result"
    }
   ],
   "source": [
    "y = df_train[0]\n",
    "x = df_train.drop([0], axis=1)\n",
    "\n",
    "# OKAY PROB SCALE FIRST... NEED TO ALSO SCALE TEST X THEN "
   ]
  },
  {
   "cell_type": "code",
   "execution_count": 188,
   "metadata": {},
   "outputs": [],
   "source": [
    "y_train_all_b = df_train[0].to_numpy()\n",
    "X_train_all_b = df_train.drop([0], axis=1).to_numpy()\n",
    "\n",
    "y_test_all_b  = df_test[0].to_numpy()\n",
    "X_test_all_b  = df_train.drop([0], axis=1).to_numpy()"
   ]
  },
  {
   "cell_type": "code",
   "execution_count": 189,
   "metadata": {},
   "outputs": [],
   "source": [
    "clf = LogisticRegression( max_iter= 500) \n",
    "clf.fit(X_train_all_b , y_train_all_b )\n",
    "\n",
    "y_pred = clf.predict(X_test_all_b )"
   ]
  },
  {
   "cell_type": "code",
   "execution_count": 177,
   "metadata": {},
   "outputs": [
    {
     "data": {
      "text/html": [
       "<div>\n",
       "<style scoped>\n",
       "    .dataframe tbody tr th:only-of-type {\n",
       "        vertical-align: middle;\n",
       "    }\n",
       "\n",
       "    .dataframe tbody tr th {\n",
       "        vertical-align: top;\n",
       "    }\n",
       "\n",
       "    .dataframe thead th {\n",
       "        text-align: right;\n",
       "    }\n",
       "</style>\n",
       "<table border=\"1\" class=\"dataframe\">\n",
       "  <thead>\n",
       "    <tr style=\"text-align: right;\">\n",
       "      <th></th>\n",
       "      <th>features</th>\n",
       "      <th>coefficients</th>\n",
       "    </tr>\n",
       "  </thead>\n",
       "  <tbody>\n",
       "    <tr>\n",
       "      <th>0</th>\n",
       "      <td>tBodyAcc-mean()-X</td>\n",
       "      <td>0.481996</td>\n",
       "    </tr>\n",
       "    <tr>\n",
       "      <th>1</th>\n",
       "      <td>tBodyAcc-mean()-Y</td>\n",
       "      <td>-0.024188</td>\n",
       "    </tr>\n",
       "  </tbody>\n",
       "</table>\n",
       "</div>"
      ],
      "text/plain": [
       "            features  coefficients\n",
       "0  tBodyAcc-mean()-X      0.481996\n",
       "1  tBodyAcc-mean()-Y     -0.024188"
      ]
     },
     "execution_count": 177,
     "metadata": {},
     "output_type": "execute_result"
    }
   ],
   "source": [
    "# print(\"Model weights: %s\"%(clf.coef_)) # these are weights\n",
    "# print(\"Model intercept: %s\"%(clf.intercept_)) # this is the bias term\n",
    "data = {'features': x.columns, 'coefficients':clf.coef_[0]}\n",
    "feature_weights = pd.DataFrame(data)\n",
    "feature_weights.head(2)"
   ]
  },
  {
   "cell_type": "code",
   "execution_count": 181,
   "metadata": {},
   "outputs": [
    {
     "data": {
      "text/html": [
       "<div>\n",
       "<style scoped>\n",
       "    .dataframe tbody tr th:only-of-type {\n",
       "        vertical-align: middle;\n",
       "    }\n",
       "\n",
       "    .dataframe tbody tr th {\n",
       "        vertical-align: top;\n",
       "    }\n",
       "\n",
       "    .dataframe thead th {\n",
       "        text-align: right;\n",
       "    }\n",
       "</style>\n",
       "<table border=\"1\" class=\"dataframe\">\n",
       "  <thead>\n",
       "    <tr style=\"text-align: right;\">\n",
       "      <th></th>\n",
       "      <th>features</th>\n",
       "      <th>coefficients</th>\n",
       "      <th>abs_coef</th>\n",
       "    </tr>\n",
       "  </thead>\n",
       "  <tbody>\n",
       "    <tr>\n",
       "      <th>247</th>\n",
       "      <td>tBodyGyroMag-entropy()</td>\n",
       "      <td>1.698134</td>\n",
       "      <td>1.698134</td>\n",
       "    </tr>\n",
       "    <tr>\n",
       "      <th>119</th>\n",
       "      <td>tBodyAccJerk-correlation()-Y,Z</td>\n",
       "      <td>-1.498814</td>\n",
       "      <td>1.498814</td>\n",
       "    </tr>\n",
       "    <tr>\n",
       "      <th>94</th>\n",
       "      <td>tBodyAccJerk-min()-Z</td>\n",
       "      <td>1.414978</td>\n",
       "      <td>1.414978</td>\n",
       "    </tr>\n",
       "    <tr>\n",
       "      <th>537</th>\n",
       "      <td>fBodyBodyGyroMag-maxInds</td>\n",
       "      <td>1.320175</td>\n",
       "      <td>1.320175</td>\n",
       "    </tr>\n",
       "    <tr>\n",
       "      <th>63</th>\n",
       "      <td>tGravityAcc-entropy()-Y</td>\n",
       "      <td>-1.319964</td>\n",
       "      <td>1.319964</td>\n",
       "    </tr>\n",
       "    <tr>\n",
       "      <th>183</th>\n",
       "      <td>tBodyGyroJerk-entropy()-Y</td>\n",
       "      <td>1.275956</td>\n",
       "      <td>1.275956</td>\n",
       "    </tr>\n",
       "    <tr>\n",
       "      <th>246</th>\n",
       "      <td>tBodyGyroMag-iqr()</td>\n",
       "      <td>-1.156675</td>\n",
       "      <td>1.156675</td>\n",
       "    </tr>\n",
       "    <tr>\n",
       "      <th>538</th>\n",
       "      <td>fBodyBodyGyroMag-meanFreq()</td>\n",
       "      <td>1.138058</td>\n",
       "      <td>1.138058</td>\n",
       "    </tr>\n",
       "    <tr>\n",
       "      <th>108</th>\n",
       "      <td>tBodyAccJerk-arCoeff()-X,4</td>\n",
       "      <td>-1.093173</td>\n",
       "      <td>1.093173</td>\n",
       "    </tr>\n",
       "    <tr>\n",
       "      <th>432</th>\n",
       "      <td>fBodyGyro-max()-X</td>\n",
       "      <td>0.996663</td>\n",
       "      <td>0.996663</td>\n",
       "    </tr>\n",
       "    <tr>\n",
       "      <th>38</th>\n",
       "      <td>tBodyAcc-correlation()-X,Z</td>\n",
       "      <td>-0.944125</td>\n",
       "      <td>0.944125</td>\n",
       "    </tr>\n",
       "    <tr>\n",
       "      <th>145</th>\n",
       "      <td>tBodyGyro-arCoeff()-X,1</td>\n",
       "      <td>0.935423</td>\n",
       "      <td>0.935423</td>\n",
       "    </tr>\n",
       "    <tr>\n",
       "      <th>554</th>\n",
       "      <td>angle(tBodyAccMean,gravity)</td>\n",
       "      <td>-0.929255</td>\n",
       "      <td>0.929255</td>\n",
       "    </tr>\n",
       "    <tr>\n",
       "      <th>182</th>\n",
       "      <td>tBodyGyroJerk-entropy()-X</td>\n",
       "      <td>0.877526</td>\n",
       "      <td>0.877526</td>\n",
       "    </tr>\n",
       "    <tr>\n",
       "      <th>160</th>\n",
       "      <td>tBodyGyroJerk-mean()-X</td>\n",
       "      <td>0.869700</td>\n",
       "      <td>0.869700</td>\n",
       "    </tr>\n",
       "    <tr>\n",
       "      <th>189</th>\n",
       "      <td>tBodyGyroJerk-arCoeff()-Y,1</td>\n",
       "      <td>0.848211</td>\n",
       "      <td>0.848211</td>\n",
       "    </tr>\n",
       "    <tr>\n",
       "      <th>150</th>\n",
       "      <td>tBodyGyro-arCoeff()-Y,2</td>\n",
       "      <td>-0.831677</td>\n",
       "      <td>0.831677</td>\n",
       "    </tr>\n",
       "    <tr>\n",
       "      <th>148</th>\n",
       "      <td>tBodyGyro-arCoeff()-X,4</td>\n",
       "      <td>0.831181</td>\n",
       "      <td>0.831181</td>\n",
       "    </tr>\n",
       "    <tr>\n",
       "      <th>446</th>\n",
       "      <td>fBodyGyro-entropy()-Y</td>\n",
       "      <td>0.831113</td>\n",
       "      <td>0.831113</td>\n",
       "    </tr>\n",
       "    <tr>\n",
       "      <th>64</th>\n",
       "      <td>tGravityAcc-entropy()-Z</td>\n",
       "      <td>-0.813520</td>\n",
       "      <td>0.813520</td>\n",
       "    </tr>\n",
       "  </tbody>\n",
       "</table>\n",
       "</div>"
      ],
      "text/plain": [
       "                           features  coefficients  abs_coef\n",
       "247          tBodyGyroMag-entropy()      1.698134  1.698134\n",
       "119  tBodyAccJerk-correlation()-Y,Z     -1.498814  1.498814\n",
       "94             tBodyAccJerk-min()-Z      1.414978  1.414978\n",
       "537        fBodyBodyGyroMag-maxInds      1.320175  1.320175\n",
       "63          tGravityAcc-entropy()-Y     -1.319964  1.319964\n",
       "183       tBodyGyroJerk-entropy()-Y      1.275956  1.275956\n",
       "246              tBodyGyroMag-iqr()     -1.156675  1.156675\n",
       "538     fBodyBodyGyroMag-meanFreq()      1.138058  1.138058\n",
       "108      tBodyAccJerk-arCoeff()-X,4     -1.093173  1.093173\n",
       "432               fBodyGyro-max()-X      0.996663  0.996663\n",
       "38       tBodyAcc-correlation()-X,Z     -0.944125  0.944125\n",
       "145         tBodyGyro-arCoeff()-X,1      0.935423  0.935423\n",
       "554     angle(tBodyAccMean,gravity)     -0.929255  0.929255\n",
       "182       tBodyGyroJerk-entropy()-X      0.877526  0.877526\n",
       "160          tBodyGyroJerk-mean()-X      0.869700  0.869700\n",
       "189     tBodyGyroJerk-arCoeff()-Y,1      0.848211  0.848211\n",
       "150         tBodyGyro-arCoeff()-Y,2     -0.831677  0.831677\n",
       "148         tBodyGyro-arCoeff()-X,4      0.831181  0.831181\n",
       "446           fBodyGyro-entropy()-Y      0.831113  0.831113\n",
       "64          tGravityAcc-entropy()-Z     -0.813520  0.813520"
      ]
     },
     "execution_count": 181,
     "metadata": {},
     "output_type": "execute_result"
    }
   ],
   "source": [
    "feature_weights['abs_coef'] = feature_weights['coefficients'].abs()\n",
    "feature_weights.sort_values('abs_coef', ascending=False).head(20)"
   ]
  },
  {
   "cell_type": "code",
   "execution_count": null,
   "metadata": {},
   "outputs": [],
   "source": [
    "# plot these to see"
   ]
  },
  {
   "cell_type": "code",
   "execution_count": null,
   "metadata": {},
   "outputs": [],
   "source": []
  },
  {
   "cell_type": "code",
   "execution_count": null,
   "metadata": {},
   "outputs": [],
   "source": []
  },
  {
   "cell_type": "markdown",
   "metadata": {},
   "source": [
    "### Task 5\n",
    "Now, let's fit Multinomial Logistic regression to predict all categories. Firstly, we can start with **Univariate** model for these features number separately:\n",
    "+ 4\n",
    "+ 54\n",
    "- 19\n",
    "\n",
    "Check the contingency matrix to see the effect of particular features!! (each feature can be good in predicting different categories)"
   ]
  },
  {
   "cell_type": "code",
   "execution_count": null,
   "metadata": {},
   "outputs": [],
   "source": [
    "# RE-GET Y AND SPLIT DATA\n",
    "# start fresh"
   ]
  },
  {
   "cell_type": "code",
   "execution_count": 264,
   "metadata": {},
   "outputs": [
    {
     "data": {
      "text/plain": [
       "0    6\n",
       "dtype: int64"
      ]
     },
     "execution_count": 264,
     "metadata": {},
     "output_type": "execute_result"
    }
   ],
   "source": [
    "# get labels\n",
    "activity_labels = pd.read_csv('Smartphone_Sensor_Data/activity_labels.txt', sep=\" \", header=None)\n",
    "features_labels = pd.read_csv('Smartphone_Sensor_Data/features.txt', sep=\" \", header=None)\n",
    "# print(features_labels[1].values.size)\n",
    "\n",
    "feature_columns = features_labels[1].values\n",
    "activity_columns = activity_labels[1].values # these are the labels of the y categories\n",
    "\n",
    "# # get data and assign labels ( can't do for y yet)\n",
    "X_train = pd.read_csv('Smartphone_Sensor_Data/train/X_train.txt', sep='\\s+')\n",
    "y_train =  pd.read_csv('Smartphone_Sensor_Data/train/y_train.txt', sep='\\s+', header=None)\n",
    "X_train.columns = feature_columns\n",
    "\n",
    "y_train.nunique()"
   ]
  },
  {
   "cell_type": "code",
   "execution_count": 265,
   "metadata": {},
   "outputs": [],
   "source": [
    "# COMBINE TO STRATIFY y AND TRAIN/SPLIT\n",
    "df = pd.concat([X_train, y_train], axis = 1)\n",
    "df = df.dropna()\n",
    "df.iloc\n",
    "\n",
    "# random_seed = 88\n",
    "# X_train, X_test, y_train, y_test = train_test_split(X_train, y_train, test_size=0.33, random_state=42)\n",
    "df_train, df_test = train_test_split(df, test_size=0.2, random_state=random_seed)#, stratify=df[0])\n"
   ]
  },
  {
   "cell_type": "code",
   "execution_count": 266,
   "metadata": {},
   "outputs": [],
   "source": [
    "y_train = df_train.iloc[:,-1].to_numpy()\n",
    "y_test = df_test.iloc[:,-1].to_numpy()\n",
    "# y_test.unique()"
   ]
  },
  {
   "cell_type": "code",
   "execution_count": 267,
   "metadata": {},
   "outputs": [],
   "source": [
    "import matplotlib.pyplot as plt\n",
    "\n",
    "from sklearn.metrics import confusion_matrix, ConfusionMatrixDisplay\n"
   ]
  },
  {
   "cell_type": "code",
   "execution_count": 250,
   "metadata": {},
   "outputs": [
    {
     "data": {
      "text/plain": [
       "(5880,)"
      ]
     },
     "execution_count": 250,
     "metadata": {},
     "output_type": "execute_result"
    }
   ],
   "source": [
    "xtr_4.shape"
   ]
  },
  {
   "cell_type": "code",
   "execution_count": 251,
   "metadata": {},
   "outputs": [
    {
     "data": {
      "text/plain": [
       "(5880,)"
      ]
     },
     "execution_count": 251,
     "metadata": {},
     "output_type": "execute_result"
    }
   ],
   "source": [
    "y_train.shape"
   ]
  },
  {
   "cell_type": "code",
   "execution_count": 263,
   "metadata": {},
   "outputs": [
    {
     "data": {
      "text/plain": [
       "(1471, 1)"
      ]
     },
     "execution_count": 263,
     "metadata": {},
     "output_type": "execute_result"
    }
   ],
   "source": [
    "xtr_4.shape"
   ]
  },
  {
   "cell_type": "code",
   "execution_count": 276,
   "metadata": {},
   "outputs": [
    {
     "data": {
      "image/png": "[encoded data removed]",
      "text/plain": [
       "<Figure size 432x288 with 2 Axes>"
      ]
     },
     "metadata": {},
     "output_type": "display_data"
    }
   ],
   "source": [
    "from sklearn import metrics\n",
    "\n",
    "# variable 4\n",
    "xtr_4 = df_train.iloc[:,4].to_numpy()\n",
    "xts_4 = df_test.iloc[:,4].to_numpy()\n",
    "\n",
    "xtr_4 = xtr_4.reshape(-1, 1)\n",
    "xts_4 = xts_4.reshape(-1, 1)\n",
    "# y_train.reshape(-1, 1)\n",
    "\n",
    "clf_4 = LogisticRegression(max_iter= 500) \n",
    "clf_4.fit(xtr_4 , y_train)\n",
    "\n",
    "y_pred = clf_4.predict(xts_4)\n",
    "\n",
    "confusion = metrics.confusion_matrix(y_test, y_pred)\n",
    "cm = confusion_matrix(y_test, y_pred)\n",
    "# cm = confusion_matrix(y_test, y_pred, labels=clf_4.classes_)\n",
    "disp = ConfusionMatrixDisplay(confusion_matrix=cm) #,display_labels=clf.classes_)\n",
    "disp.plot()\n",
    "\n",
    "plt.show()\n",
    "# cm"
   ]
  },
  {
   "cell_type": "code",
   "execution_count": 287,
   "metadata": {},
   "outputs": [
    {
     "data": {
      "text/plain": [
       "(5880,)"
      ]
     },
     "execution_count": 287,
     "metadata": {},
     "output_type": "execute_result"
    }
   ],
   "source": [
    "y_test.shape\n",
    "y_pred.shape\n",
    "# xts_54.shape"
   ]
  },
  {
   "cell_type": "code",
   "execution_count": 288,
   "metadata": {},
   "outputs": [
    {
     "data": {
      "image/png": "[encoded data removed]",
      "text/plain": [
       "<Figure size 432x288 with 2 Axes>"
      ]
     },
     "metadata": {},
     "output_type": "display_data"
    }
   ],
   "source": [
    "# variable 54\n",
    "xtr_54 = df_train.iloc[:,54].to_numpy()\n",
    "xts_54 = df_test.iloc[:,54].to_numpy()\n",
    "\n",
    "xtr_54 = xtr_54.reshape(-1, 1)\n",
    "xts_54 = xts_54.reshape(-1, 1)\n",
    "# y_train.reshape(-1, 1)\n",
    "\n",
    "clf_54 = LogisticRegression(max_iter= 500) \n",
    "clf_54.fit(xtr_54 , y_train)\n",
    "\n",
    "y_pred = clf_54.predict(xts_54)\n",
    "\n",
    "confusion = metrics.confusion_matrix(y_test, y_pred)\n",
    "cm = confusion_matrix(y_test, y_pred)\n",
    "disp = ConfusionMatrixDisplay(confusion_matrix=cm) #,display_labels=clf.classes_)\n",
    "disp.plot()\n",
    "\n",
    "plt.show()"
   ]
  },
  {
   "cell_type": "code",
   "execution_count": 290,
   "metadata": {},
   "outputs": [
    {
     "data": {
      "image/png": "[encoded data removed]",
      "text/plain": [
       "<Figure size 432x288 with 2 Axes>"
      ]
     },
     "metadata": {},
     "output_type": "display_data"
    }
   ],
   "source": [
    "# var 19\n",
    "xtr_19 = df_train.iloc[:,19].to_numpy()\n",
    "xts_19 = df_test.iloc[:,19].to_numpy()\n",
    "\n",
    "xtr_19 = xtr_19.reshape(-1, 1)\n",
    "xts_19 = xts_19.reshape(-1, 1)\n",
    "# y_train.reshape(-1, 1)\n",
    "\n",
    "clf_19 = LogisticRegression(max_iter= 500) \n",
    "clf_19.fit(xtr_19 , y_train)\n",
    "\n",
    "y_pred = clf_19.predict(xts_19)\n",
    "\n",
    "confusion = metrics.confusion_matrix(y_test, y_pred)\n",
    "cm = confusion_matrix(y_test, y_pred)\n",
    "disp = ConfusionMatrixDisplay(confusion_matrix=cm) #,display_labels=clf.classes_)\n",
    "disp.plot()\n",
    "\n",
    "plt.show()"
   ]
  },
  {
   "cell_type": "code",
   "execution_count": null,
   "metadata": {},
   "outputs": [],
   "source": []
  },
  {
   "cell_type": "markdown",
   "metadata": {},
   "source": [
    "### Task 6\n",
    "\n",
    "Fit the Multinomial Logistic Regression model again. Now, try to choose **all** the important features we have in the dataset. Compare with your peers on who will get the best predictions with the smallest number of features?"
   ]
  },
  {
   "cell_type": "code",
   "execution_count": 412,
   "metadata": {},
   "outputs": [
    {
     "name": "stdout",
     "output_type": "stream",
     "text": [
      "(5880, 562) (1471, 562)\n"
     ]
    },
    {
     "ename": "KeyError",
     "evalue": "\"['y_true'] not found in axis\"",
     "output_type": "error",
     "traceback": [
      "\u001b[0;31m---------------------------------------------------------------------------\u001b[0m",
      "\u001b[0;31mKeyError\u001b[0m                                  Traceback (most recent call last)",
      "\u001b[0;32m/var/folders/q4/f3xj1m3j2h3fl1lc7921wysh0000gn/T/ipykernel_12237/2323063353.py\u001b[0m in \u001b[0;36m<module>\u001b[0;34m\u001b[0m\n\u001b[1;32m     27\u001b[0m \u001b[0my_test\u001b[0m \u001b[0;34m=\u001b[0m \u001b[0mX_test\u001b[0m\u001b[0;34m.\u001b[0m\u001b[0miloc\u001b[0m\u001b[0;34m[\u001b[0m\u001b[0;34m:\u001b[0m\u001b[0;34m,\u001b[0m\u001b[0;34m-\u001b[0m\u001b[0;36m1\u001b[0m\u001b[0;34m]\u001b[0m\u001b[0;34m.\u001b[0m\u001b[0mto_numpy\u001b[0m\u001b[0;34m(\u001b[0m\u001b[0;34m)\u001b[0m\u001b[0;34m\u001b[0m\u001b[0;34m\u001b[0m\u001b[0m\n\u001b[1;32m     28\u001b[0m \u001b[0;34m\u001b[0m\u001b[0m\n\u001b[0;32m---> 29\u001b[0;31m \u001b[0mX_train\u001b[0m \u001b[0;34m=\u001b[0m \u001b[0mX_train\u001b[0m\u001b[0;34m.\u001b[0m\u001b[0mdrop\u001b[0m\u001b[0;34m(\u001b[0m\u001b[0;34m'y_true'\u001b[0m\u001b[0;34m)\u001b[0m\u001b[0;34m\u001b[0m\u001b[0;34m\u001b[0m\u001b[0m\n\u001b[0m\u001b[1;32m     30\u001b[0m \u001b[0mX_test\u001b[0m \u001b[0;34m=\u001b[0m \u001b[0mX_test\u001b[0m\u001b[0;34m.\u001b[0m\u001b[0miloc\u001b[0m\u001b[0;34m[\u001b[0m\u001b[0;34m:\u001b[0m\u001b[0;34m,\u001b[0m\u001b[0;34m:\u001b[0m\u001b[0;34m-\u001b[0m\u001b[0;36m1\u001b[0m\u001b[0;34m]\u001b[0m\u001b[0;34m.\u001b[0m\u001b[0mto_numpy\u001b[0m\u001b[0;34m(\u001b[0m\u001b[0;34m)\u001b[0m\u001b[0;34m\u001b[0m\u001b[0;34m\u001b[0m\u001b[0m\n",
      "\u001b[0;32m~/opt/anaconda3/lib/python3.8/site-packages/pandas/util/_decorators.py\u001b[0m in \u001b[0;36mwrapper\u001b[0;34m(*args, **kwargs)\u001b[0m\n\u001b[1;32m    309\u001b[0m                     \u001b[0mstacklevel\u001b[0m\u001b[0;34m=\u001b[0m\u001b[0mstacklevel\u001b[0m\u001b[0;34m,\u001b[0m\u001b[0;34m\u001b[0m\u001b[0;34m\u001b[0m\u001b[0m\n\u001b[1;32m    310\u001b[0m                 )\n\u001b[0;32m--> 311\u001b[0;31m             \u001b[0;32mreturn\u001b[0m \u001b[0mfunc\u001b[0m\u001b[0;34m(\u001b[0m\u001b[0;34m*\u001b[0m\u001b[0margs\u001b[0m\u001b[0;34m,\u001b[0m \u001b[0;34m**\u001b[0m\u001b[0mkwargs\u001b[0m\u001b[0;34m)\u001b[0m\u001b[0;34m\u001b[0m\u001b[0;34m\u001b[0m\u001b[0m\n\u001b[0m\u001b[1;32m    312\u001b[0m \u001b[0;34m\u001b[0m\u001b[0m\n\u001b[1;32m    313\u001b[0m         \u001b[0;32mreturn\u001b[0m \u001b[0mwrapper\u001b[0m\u001b[0;34m\u001b[0m\u001b[0;34m\u001b[0m\u001b[0m\n",
      "\u001b[0;32m~/opt/anaconda3/lib/python3.8/site-packages/pandas/core/frame.py\u001b[0m in \u001b[0;36mdrop\u001b[0;34m(self, labels, axis, index, columns, level, inplace, errors)\u001b[0m\n\u001b[1;32m   4904\u001b[0m                 \u001b[0mweight\u001b[0m  \u001b[0;36m1.0\u001b[0m     \u001b[0;36m0.8\u001b[0m\u001b[0;34m\u001b[0m\u001b[0;34m\u001b[0m\u001b[0m\n\u001b[1;32m   4905\u001b[0m         \"\"\"\n\u001b[0;32m-> 4906\u001b[0;31m         return super().drop(\n\u001b[0m\u001b[1;32m   4907\u001b[0m             \u001b[0mlabels\u001b[0m\u001b[0;34m=\u001b[0m\u001b[0mlabels\u001b[0m\u001b[0;34m,\u001b[0m\u001b[0;34m\u001b[0m\u001b[0;34m\u001b[0m\u001b[0m\n\u001b[1;32m   4908\u001b[0m             \u001b[0maxis\u001b[0m\u001b[0;34m=\u001b[0m\u001b[0maxis\u001b[0m\u001b[0;34m,\u001b[0m\u001b[0;34m\u001b[0m\u001b[0;34m\u001b[0m\u001b[0m\n",
      "\u001b[0;32m~/opt/anaconda3/lib/python3.8/site-packages/pandas/core/generic.py\u001b[0m in \u001b[0;36mdrop\u001b[0;34m(self, labels, axis, index, columns, level, inplace, errors)\u001b[0m\n\u001b[1;32m   4148\u001b[0m         \u001b[0;32mfor\u001b[0m \u001b[0maxis\u001b[0m\u001b[0;34m,\u001b[0m \u001b[0mlabels\u001b[0m \u001b[0;32min\u001b[0m \u001b[0maxes\u001b[0m\u001b[0;34m.\u001b[0m\u001b[0mitems\u001b[0m\u001b[0;34m(\u001b[0m\u001b[0;34m)\u001b[0m\u001b[0;34m:\u001b[0m\u001b[0;34m\u001b[0m\u001b[0;34m\u001b[0m\u001b[0m\n\u001b[1;32m   4149\u001b[0m             \u001b[0;32mif\u001b[0m \u001b[0mlabels\u001b[0m \u001b[0;32mis\u001b[0m \u001b[0;32mnot\u001b[0m \u001b[0;32mNone\u001b[0m\u001b[0;34m:\u001b[0m\u001b[0;34m\u001b[0m\u001b[0;34m\u001b[0m\u001b[0m\n\u001b[0;32m-> 4150\u001b[0;31m                 \u001b[0mobj\u001b[0m \u001b[0;34m=\u001b[0m \u001b[0mobj\u001b[0m\u001b[0;34m.\u001b[0m\u001b[0m_drop_axis\u001b[0m\u001b[0;34m(\u001b[0m\u001b[0mlabels\u001b[0m\u001b[0;34m,\u001b[0m \u001b[0maxis\u001b[0m\u001b[0;34m,\u001b[0m \u001b[0mlevel\u001b[0m\u001b[0;34m=\u001b[0m\u001b[0mlevel\u001b[0m\u001b[0;34m,\u001b[0m \u001b[0merrors\u001b[0m\u001b[0;34m=\u001b[0m\u001b[0merrors\u001b[0m\u001b[0;34m)\u001b[0m\u001b[0;34m\u001b[0m\u001b[0;34m\u001b[0m\u001b[0m\n\u001b[0m\u001b[1;32m   4151\u001b[0m \u001b[0;34m\u001b[0m\u001b[0m\n\u001b[1;32m   4152\u001b[0m         \u001b[0;32mif\u001b[0m \u001b[0minplace\u001b[0m\u001b[0;34m:\u001b[0m\u001b[0;34m\u001b[0m\u001b[0;34m\u001b[0m\u001b[0m\n",
      "\u001b[0;32m~/opt/anaconda3/lib/python3.8/site-packages/pandas/core/generic.py\u001b[0m in \u001b[0;36m_drop_axis\u001b[0;34m(self, labels, axis, level, errors)\u001b[0m\n\u001b[1;32m   4183\u001b[0m                 \u001b[0mnew_axis\u001b[0m \u001b[0;34m=\u001b[0m \u001b[0maxis\u001b[0m\u001b[0;34m.\u001b[0m\u001b[0mdrop\u001b[0m\u001b[0;34m(\u001b[0m\u001b[0mlabels\u001b[0m\u001b[0;34m,\u001b[0m \u001b[0mlevel\u001b[0m\u001b[0;34m=\u001b[0m\u001b[0mlevel\u001b[0m\u001b[0;34m,\u001b[0m \u001b[0merrors\u001b[0m\u001b[0;34m=\u001b[0m\u001b[0merrors\u001b[0m\u001b[0;34m)\u001b[0m\u001b[0;34m\u001b[0m\u001b[0;34m\u001b[0m\u001b[0m\n\u001b[1;32m   4184\u001b[0m             \u001b[0;32melse\u001b[0m\u001b[0;34m:\u001b[0m\u001b[0;34m\u001b[0m\u001b[0;34m\u001b[0m\u001b[0m\n\u001b[0;32m-> 4185\u001b[0;31m                 \u001b[0mnew_axis\u001b[0m \u001b[0;34m=\u001b[0m \u001b[0maxis\u001b[0m\u001b[0;34m.\u001b[0m\u001b[0mdrop\u001b[0m\u001b[0;34m(\u001b[0m\u001b[0mlabels\u001b[0m\u001b[0;34m,\u001b[0m \u001b[0merrors\u001b[0m\u001b[0;34m=\u001b[0m\u001b[0merrors\u001b[0m\u001b[0;34m)\u001b[0m\u001b[0;34m\u001b[0m\u001b[0;34m\u001b[0m\u001b[0m\n\u001b[0m\u001b[1;32m   4186\u001b[0m             \u001b[0mresult\u001b[0m \u001b[0;34m=\u001b[0m \u001b[0mself\u001b[0m\u001b[0;34m.\u001b[0m\u001b[0mreindex\u001b[0m\u001b[0;34m(\u001b[0m\u001b[0;34m**\u001b[0m\u001b[0;34m{\u001b[0m\u001b[0maxis_name\u001b[0m\u001b[0;34m:\u001b[0m \u001b[0mnew_axis\u001b[0m\u001b[0;34m}\u001b[0m\u001b[0;34m)\u001b[0m\u001b[0;34m\u001b[0m\u001b[0;34m\u001b[0m\u001b[0m\n\u001b[1;32m   4187\u001b[0m \u001b[0;34m\u001b[0m\u001b[0m\n",
      "\u001b[0;32m~/opt/anaconda3/lib/python3.8/site-packages/pandas/core/indexes/base.py\u001b[0m in \u001b[0;36mdrop\u001b[0;34m(self, labels, errors)\u001b[0m\n\u001b[1;32m   6015\u001b[0m         \u001b[0;32mif\u001b[0m \u001b[0mmask\u001b[0m\u001b[0;34m.\u001b[0m\u001b[0many\u001b[0m\u001b[0;34m(\u001b[0m\u001b[0;34m)\u001b[0m\u001b[0;34m:\u001b[0m\u001b[0;34m\u001b[0m\u001b[0;34m\u001b[0m\u001b[0m\n\u001b[1;32m   6016\u001b[0m             \u001b[0;32mif\u001b[0m \u001b[0merrors\u001b[0m \u001b[0;34m!=\u001b[0m \u001b[0;34m\"ignore\"\u001b[0m\u001b[0;34m:\u001b[0m\u001b[0;34m\u001b[0m\u001b[0;34m\u001b[0m\u001b[0m\n\u001b[0;32m-> 6017\u001b[0;31m                 \u001b[0;32mraise\u001b[0m \u001b[0mKeyError\u001b[0m\u001b[0;34m(\u001b[0m\u001b[0;34mf\"{labels[mask]} not found in axis\"\u001b[0m\u001b[0;34m)\u001b[0m\u001b[0;34m\u001b[0m\u001b[0;34m\u001b[0m\u001b[0m\n\u001b[0m\u001b[1;32m   6018\u001b[0m             \u001b[0mindexer\u001b[0m \u001b[0;34m=\u001b[0m \u001b[0mindexer\u001b[0m\u001b[0;34m[\u001b[0m\u001b[0;34m~\u001b[0m\u001b[0mmask\u001b[0m\u001b[0;34m]\u001b[0m\u001b[0;34m\u001b[0m\u001b[0;34m\u001b[0m\u001b[0m\n\u001b[1;32m   6019\u001b[0m         \u001b[0;32mreturn\u001b[0m \u001b[0mself\u001b[0m\u001b[0;34m.\u001b[0m\u001b[0mdelete\u001b[0m\u001b[0;34m(\u001b[0m\u001b[0mindexer\u001b[0m\u001b[0;34m)\u001b[0m\u001b[0;34m\u001b[0m\u001b[0;34m\u001b[0m\u001b[0m\n",
      "\u001b[0;31mKeyError\u001b[0m: \"['y_true'] not found in axis\""
     ]
    }
   ],
   "source": [
    "# get labels\n",
    "activity_labels = pd.read_csv('Smartphone_Sensor_Data/activity_labels.txt', sep=\" \", header=None)\n",
    "features_labels = pd.read_csv('Smartphone_Sensor_Data/features.txt', sep=\" \", header=None)\n",
    "# print(features_labels[1].values.size)\n",
    "\n",
    "feature_columns = features_labels[1].values\n",
    "activity_columns = activity_labels[1].values # these are the labels of the y categories\n",
    "\n",
    "# # get data and assign labels ( can't do for y yet)\n",
    "X_train = pd.read_csv('Smartphone_Sensor_Data/train/X_train.txt', sep='\\s+')\n",
    "y_train =  pd.read_csv('Smartphone_Sensor_Data/train/y_train.txt', sep='\\s+')\n",
    "X_train.columns = feature_columns\n",
    "y_train.columns = ['y_true']\n",
    "\n",
    "# COMBINE TO STRATIFY y AND TRAIN/SPLIT\n",
    "df = pd.concat([X_train, y_train], axis = 1)\n",
    "df = df.dropna()\n",
    "# print(df.shape)\n",
    "\n",
    "# random_seed = 88\n",
    "# X_train, X_test, y_train, y_test = train_test_split(X_train, y_train, test_size=0.33, random_state=42)\n",
    "X_train, X_test = train_test_split(df, test_size=0.2, random_state=random_seed)#, stratify=df[0])\n",
    "print(df_train.shape, df_test.shape)\n",
    "\n",
    "y_train = X_train.iloc[:,-1].to_numpy()\n",
    "\n",
    "y_test = X_test.iloc[:,-1].to_numpy()\n",
    "\n",
    "X_train = X_train.drop('y_true')\n",
    "X_test = X_test.iloc[:,:-1].to_numpy()\n",
    "\n",
    "# REMOVE Y!!!"
   ]
  },
  {
   "cell_type": "code",
   "execution_count": 411,
   "metadata": {},
   "outputs": [
    {
     "ename": "AttributeError",
     "evalue": "'numpy.ndarray' object has no attribute 'columns'",
     "output_type": "error",
     "traceback": [
      "\u001b[0;31m---------------------------------------------------------------------------\u001b[0m",
      "\u001b[0;31mAttributeError\u001b[0m                            Traceback (most recent call last)",
      "\u001b[0;32m/var/folders/q4/f3xj1m3j2h3fl1lc7921wysh0000gn/T/ipykernel_12237/2958663920.py\u001b[0m in \u001b[0;36m<module>\u001b[0;34m\u001b[0m\n\u001b[0;32m----> 1\u001b[0;31m \u001b[0mX_test\u001b[0m\u001b[0;34m.\u001b[0m\u001b[0mcolumns\u001b[0m\u001b[0;34m\u001b[0m\u001b[0;34m\u001b[0m\u001b[0m\n\u001b[0m",
      "\u001b[0;31mAttributeError\u001b[0m: 'numpy.ndarray' object has no attribute 'columns'"
     ]
    }
   ],
   "source": [
    "X_test.columns"
   ]
  },
  {
   "cell_type": "code",
   "execution_count": 327,
   "metadata": {},
   "outputs": [
    {
     "name": "stdout",
     "output_type": "stream",
     "text": [
      "(1471,) (1471, 562) (5880, 562) (5880,)\n"
     ]
    },
    {
     "data": {
      "text/html": [
       "<div>\n",
       "<style scoped>\n",
       "    .dataframe tbody tr th:only-of-type {\n",
       "        vertical-align: middle;\n",
       "    }\n",
       "\n",
       "    .dataframe tbody tr th {\n",
       "        vertical-align: top;\n",
       "    }\n",
       "\n",
       "    .dataframe thead th {\n",
       "        text-align: right;\n",
       "    }\n",
       "</style>\n",
       "<table border=\"1\" class=\"dataframe\">\n",
       "  <thead>\n",
       "    <tr style=\"text-align: right;\">\n",
       "      <th></th>\n",
       "      <th>tBodyAcc-mean()-X</th>\n",
       "      <th>tBodyAcc-mean()-Y</th>\n",
       "      <th>tBodyAcc-mean()-Z</th>\n",
       "      <th>tBodyAcc-std()-X</th>\n",
       "      <th>tBodyAcc-std()-Y</th>\n",
       "      <th>tBodyAcc-std()-Z</th>\n",
       "      <th>tBodyAcc-mad()-X</th>\n",
       "      <th>tBodyAcc-mad()-Y</th>\n",
       "      <th>tBodyAcc-mad()-Z</th>\n",
       "      <th>tBodyAcc-max()-X</th>\n",
       "      <th>...</th>\n",
       "      <th>fBodyBodyGyroJerkMag-skewness()</th>\n",
       "      <th>fBodyBodyGyroJerkMag-kurtosis()</th>\n",
       "      <th>angle(tBodyAccMean,gravity)</th>\n",
       "      <th>angle(tBodyAccJerkMean),gravityMean)</th>\n",
       "      <th>angle(tBodyGyroMean,gravityMean)</th>\n",
       "      <th>angle(tBodyGyroJerkMean,gravityMean)</th>\n",
       "      <th>angle(X,gravityMean)</th>\n",
       "      <th>angle(Y,gravityMean)</th>\n",
       "      <th>angle(Z,gravityMean)</th>\n",
       "      <th>y_true</th>\n",
       "    </tr>\n",
       "  </thead>\n",
       "  <tbody>\n",
       "    <tr>\n",
       "      <th>3524</th>\n",
       "      <td>0.265302</td>\n",
       "      <td>-0.021532</td>\n",
       "      <td>-0.090546</td>\n",
       "      <td>-0.985704</td>\n",
       "      <td>-0.976354</td>\n",
       "      <td>-0.954929</td>\n",
       "      <td>-0.985036</td>\n",
       "      <td>-0.973211</td>\n",
       "      <td>-0.947121</td>\n",
       "      <td>-0.936614</td>\n",
       "      <td>...</td>\n",
       "      <td>-0.502348</td>\n",
       "      <td>-0.849743</td>\n",
       "      <td>-0.088981</td>\n",
       "      <td>-0.028060</td>\n",
       "      <td>-0.482237</td>\n",
       "      <td>-0.588619</td>\n",
       "      <td>0.394021</td>\n",
       "      <td>-0.552884</td>\n",
       "      <td>-0.423231</td>\n",
       "      <td>6</td>\n",
       "    </tr>\n",
       "    <tr>\n",
       "      <th>5277</th>\n",
       "      <td>0.279868</td>\n",
       "      <td>-0.028164</td>\n",
       "      <td>-0.121730</td>\n",
       "      <td>-0.991782</td>\n",
       "      <td>-0.901434</td>\n",
       "      <td>-0.967255</td>\n",
       "      <td>-0.993475</td>\n",
       "      <td>-0.923363</td>\n",
       "      <td>-0.968263</td>\n",
       "      <td>-0.921891</td>\n",
       "      <td>...</td>\n",
       "      <td>-0.145928</td>\n",
       "      <td>-0.516022</td>\n",
       "      <td>-0.065427</td>\n",
       "      <td>-0.045921</td>\n",
       "      <td>0.141562</td>\n",
       "      <td>0.296854</td>\n",
       "      <td>-0.843448</td>\n",
       "      <td>0.186640</td>\n",
       "      <td>-0.047214</td>\n",
       "      <td>5</td>\n",
       "    </tr>\n",
       "    <tr>\n",
       "      <th>3081</th>\n",
       "      <td>0.283710</td>\n",
       "      <td>-0.019656</td>\n",
       "      <td>-0.107424</td>\n",
       "      <td>-0.995956</td>\n",
       "      <td>-0.984864</td>\n",
       "      <td>-0.970212</td>\n",
       "      <td>-0.996483</td>\n",
       "      <td>-0.982368</td>\n",
       "      <td>-0.969375</td>\n",
       "      <td>-0.937490</td>\n",
       "      <td>...</td>\n",
       "      <td>-0.665626</td>\n",
       "      <td>-0.889483</td>\n",
       "      <td>-0.397648</td>\n",
       "      <td>0.083677</td>\n",
       "      <td>-0.148015</td>\n",
       "      <td>-0.582332</td>\n",
       "      <td>-0.819753</td>\n",
       "      <td>0.039578</td>\n",
       "      <td>0.135062</td>\n",
       "      <td>5</td>\n",
       "    </tr>\n",
       "    <tr>\n",
       "      <th>5741</th>\n",
       "      <td>0.107778</td>\n",
       "      <td>-0.056986</td>\n",
       "      <td>-0.058030</td>\n",
       "      <td>-0.672401</td>\n",
       "      <td>-0.840129</td>\n",
       "      <td>-0.825006</td>\n",
       "      <td>-0.708338</td>\n",
       "      <td>-0.827604</td>\n",
       "      <td>-0.830710</td>\n",
       "      <td>-0.881381</td>\n",
       "      <td>...</td>\n",
       "      <td>0.550653</td>\n",
       "      <td>0.309633</td>\n",
       "      <td>0.106068</td>\n",
       "      <td>0.056814</td>\n",
       "      <td>-0.417187</td>\n",
       "      <td>0.518254</td>\n",
       "      <td>0.621974</td>\n",
       "      <td>-0.582991</td>\n",
       "      <td>-0.420232</td>\n",
       "      <td>6</td>\n",
       "    </tr>\n",
       "    <tr>\n",
       "      <th>5173</th>\n",
       "      <td>0.233513</td>\n",
       "      <td>-0.009197</td>\n",
       "      <td>-0.085181</td>\n",
       "      <td>-0.557972</td>\n",
       "      <td>-0.145740</td>\n",
       "      <td>-0.393489</td>\n",
       "      <td>-0.572629</td>\n",
       "      <td>-0.136529</td>\n",
       "      <td>-0.391882</td>\n",
       "      <td>-0.473186</td>\n",
       "      <td>...</td>\n",
       "      <td>-0.178797</td>\n",
       "      <td>-0.541438</td>\n",
       "      <td>0.378804</td>\n",
       "      <td>-0.592721</td>\n",
       "      <td>-0.230210</td>\n",
       "      <td>-0.548103</td>\n",
       "      <td>-0.698380</td>\n",
       "      <td>0.159338</td>\n",
       "      <td>-0.190076</td>\n",
       "      <td>1</td>\n",
       "    </tr>\n",
       "  </tbody>\n",
       "</table>\n",
       "<p>5 rows × 562 columns</p>\n",
       "</div>"
      ],
      "text/plain": [
       "      tBodyAcc-mean()-X  tBodyAcc-mean()-Y  tBodyAcc-mean()-Z  \\\n",
       "3524           0.265302          -0.021532          -0.090546   \n",
       "5277           0.279868          -0.028164          -0.121730   \n",
       "3081           0.283710          -0.019656          -0.107424   \n",
       "5741           0.107778          -0.056986          -0.058030   \n",
       "5173           0.233513          -0.009197          -0.085181   \n",
       "\n",
       "      tBodyAcc-std()-X  tBodyAcc-std()-Y  tBodyAcc-std()-Z  tBodyAcc-mad()-X  \\\n",
       "3524         -0.985704         -0.976354         -0.954929         -0.985036   \n",
       "5277         -0.991782         -0.901434         -0.967255         -0.993475   \n",
       "3081         -0.995956         -0.984864         -0.970212         -0.996483   \n",
       "5741         -0.672401         -0.840129         -0.825006         -0.708338   \n",
       "5173         -0.557972         -0.145740         -0.393489         -0.572629   \n",
       "\n",
       "      tBodyAcc-mad()-Y  tBodyAcc-mad()-Z  tBodyAcc-max()-X  ...  \\\n",
       "3524         -0.973211         -0.947121         -0.936614  ...   \n",
       "5277         -0.923363         -0.968263         -0.921891  ...   \n",
       "3081         -0.982368         -0.969375         -0.937490  ...   \n",
       "5741         -0.827604         -0.830710         -0.881381  ...   \n",
       "5173         -0.136529         -0.391882         -0.473186  ...   \n",
       "\n",
       "      fBodyBodyGyroJerkMag-skewness()  fBodyBodyGyroJerkMag-kurtosis()  \\\n",
       "3524                        -0.502348                        -0.849743   \n",
       "5277                        -0.145928                        -0.516022   \n",
       "3081                        -0.665626                        -0.889483   \n",
       "5741                         0.550653                         0.309633   \n",
       "5173                        -0.178797                        -0.541438   \n",
       "\n",
       "      angle(tBodyAccMean,gravity)  angle(tBodyAccJerkMean),gravityMean)  \\\n",
       "3524                    -0.088981                             -0.028060   \n",
       "5277                    -0.065427                             -0.045921   \n",
       "3081                    -0.397648                              0.083677   \n",
       "5741                     0.106068                              0.056814   \n",
       "5173                     0.378804                             -0.592721   \n",
       "\n",
       "      angle(tBodyGyroMean,gravityMean)  angle(tBodyGyroJerkMean,gravityMean)  \\\n",
       "3524                         -0.482237                             -0.588619   \n",
       "5277                          0.141562                              0.296854   \n",
       "3081                         -0.148015                             -0.582332   \n",
       "5741                         -0.417187                              0.518254   \n",
       "5173                         -0.230210                             -0.548103   \n",
       "\n",
       "      angle(X,gravityMean)  angle(Y,gravityMean)  angle(Z,gravityMean)  y_true  \n",
       "3524              0.394021             -0.552884             -0.423231       6  \n",
       "5277             -0.843448              0.186640             -0.047214       5  \n",
       "3081             -0.819753              0.039578              0.135062       5  \n",
       "5741              0.621974             -0.582991             -0.420232       6  \n",
       "5173             -0.698380              0.159338             -0.190076       1  \n",
       "\n",
       "[5 rows x 562 columns]"
      ]
     },
     "execution_count": 327,
     "metadata": {},
     "output_type": "execute_result"
    }
   ],
   "source": [
    "print(y_test.shape, X_test.shape, X_train.shape, y_train.shape)\n",
    "X_train.head()"
   ]
  },
  {
   "cell_type": "code",
   "execution_count": 297,
   "metadata": {},
   "outputs": [],
   "source": [
    "# from sklearn.model_selection import RepeatedStratifiedKFold \n",
    "# model = LogisticRegression(multi_class='multinomial')\n",
    "# cv = RepeatedStratifiedKFold(n_splits=10, n_repeats=3, random_state=1)\n",
    "# n_scores = cross_val_score(model, X_train, y_train, scoring='accuracy', cv=cv, n_jobs=-1)\n",
    "# print('Mean Accuracy: %.3f (%.3f)' % (mean(n_scores), std(n_scores)))"
   ]
  },
  {
   "cell_type": "code",
   "execution_count": 328,
   "metadata": {},
   "outputs": [
    {
     "name": "stdout",
     "output_type": "stream",
     "text": [
      "1.0\n"
     ]
    },
    {
     "name": "stderr",
     "output_type": "stream",
     "text": [
      "/Users/lilakelland/opt/anaconda3/lib/python3.8/site-packages/sklearn/linear_model/_logistic.py:814: ConvergenceWarning: lbfgs failed to converge (status=1):\n",
      "STOP: TOTAL NO. of ITERATIONS REACHED LIMIT.\n",
      "\n",
      "Increase the number of iterations (max_iter) or scale the data as shown in:\n",
      "    https://scikit-learn.org/stable/modules/preprocessing.html\n",
      "Please also refer to the documentation for alternative solver options:\n",
      "    https://scikit-learn.org/stable/modules/linear_model.html#logistic-regression\n",
      "  n_iter_i = _check_optimize_result(\n"
     ]
    }
   ],
   "source": [
    "# SHOULD BE DOING CROSS VALIDATION HERE\n",
    "clf = LogisticRegression(max_iter= 800) \n",
    "clf.fit(X_train , y_train)\n",
    "\n",
    "y_pred = clf.predict(X_test)\n",
    "\n",
    "score = clf.score(X_test, y_test)\n",
    "print(score)"
   ]
  },
  {
   "cell_type": "code",
   "execution_count": 331,
   "metadata": {},
   "outputs": [
    {
     "name": "stdout",
     "output_type": "stream",
     "text": [
      "[[250   0   0   0   0   0]\n",
      " [  0 236   0   0   0   0]\n",
      " [  0   0 193   0   0   0]\n",
      " [  0   0   0 224   0   0]\n",
      " [  0   0   0   0 278   0]\n",
      " [  0   0   0   0   0 290]]\n"
     ]
    }
   ],
   "source": [
    "cm = metrics.confusion_matrix(y_test, y_pred)\n",
    "print(cm)"
   ]
  },
  {
   "cell_type": "code",
   "execution_count": 332,
   "metadata": {},
   "outputs": [
    {
     "data": {
      "image/png": "[encoded data removed]",
      "text/plain": [
       "<Figure size 648x648 with 2 Axes>"
      ]
     },
     "metadata": {},
     "output_type": "display_data"
    }
   ],
   "source": [
    "plt.figure(figsize=(9,9))\n",
    "sns.heatmap(cm, annot=True, fmt=\".3f\", linewidths=.5, square = True, cmap = 'Blues_r');\n",
    "plt.ylabel('Actual label');\n",
    "plt.xlabel('Predicted label');\n",
    "all_sample_title = 'Accuracy Score: {0}'.format(score)\n",
    "plt.title(all_sample_title, size = 15);"
   ]
  },
  {
   "cell_type": "code",
   "execution_count": 338,
   "metadata": {},
   "outputs": [
    {
     "data": {
      "text/plain": [
       "(1471, 562)"
      ]
     },
     "execution_count": 338,
     "metadata": {},
     "output_type": "execute_result"
    }
   ],
   "source": [
    "clf.coef_[0].shape\n"
   ]
  },
  {
   "cell_type": "code",
   "execution_count": 339,
   "metadata": {},
   "outputs": [],
   "source": [
    "# w0 = clf.intercept_[0]\n",
    "w = clf.coef_[0]"
   ]
  },
  {
   "cell_type": "code",
   "execution_count": 350,
   "metadata": {},
   "outputs": [
    {
     "data": {
      "image/png": "[encoded data removed]",
      "text/plain": [
       "<Figure size 432x288 with 1 Axes>"
      ]
     },
     "metadata": {},
     "output_type": "display_data"
    }
   ],
   "source": [
    "import math\n",
    "feature_importance = pd.DataFrame(X_test.columns, columns = [\"feature\"])\n",
    "# feature_importance = X_test.columns\n",
    "feature_importance[\"importance\"] = pow(math.e, w)\n",
    "feature_importance = feature_importance.sort_values(by = [\"importance\"], ascending=False).head(100)\n",
    " \n",
    "from sklearn.linear_model import LogisticRegression\n",
    "ax = feature_importance.plot.barh(x='feature', y='importance')\n",
    "plt.show()"
   ]
  },
  {
   "cell_type": "code",
   "execution_count": 351,
   "metadata": {},
   "outputs": [],
   "source": [
    "# feature_importance.head(50)Not a steep drop off try a different mehod?"
   ]
  },
  {
   "cell_type": "code",
   "execution_count": null,
   "metadata": {},
   "outputs": [],
   "source": []
  },
  {
   "cell_type": "code",
   "execution_count": 356,
   "metadata": {},
   "outputs": [],
   "source": [
    "# # test_prob = clf.predict_proba(X_test)[:, 1]\n",
    "# test_pred = clf.predict(X_test)\n",
    "# # print('Log loss = {:.5f}'.format(log_loss(y_test, test_prob)))\n",
    "# # print('AUC = {:.5f}'.format(roc_auc_score(y_test, test_prob)))\n",
    "# # print('Average Precision = {:.5f}'.format(average_precision_score(y_test, test_prob)))\n",
    "# print('\\nUsing 0.5 as threshold:')\n",
    "# print('Accuracy = {:.5f}'.format(accuracy_score(y_test, test_pred)))\n",
    "# print('Precision = {:.5f}'.format(precision_score(y_test, test_pred)))\n",
    "# print('Recall = {:.5f}'.format(recall_score(y_test, test_pred)))\n",
    "# print('F1 score = {:.5f}'.format(f1_score(y_test, test_pred)))\n",
    "\n",
    "# print('\\nClassification Report')\n",
    "# print(classification_report(y_test, test_pred))\n",
    "\n",
    "# THIS DOESN\"S SEE< TO WORK WILL NEED TO ADJUST FOR MULTINOMIAL"
   ]
  },
  {
   "cell_type": "code",
   "execution_count": null,
   "metadata": {},
   "outputs": [],
   "source": [
    "results, names = list(), list()\n",
    "for name, model in models.items():\n",
    "    scores = evaluate_model(model, X, y)\n",
    "    results.append(scores)\n",
    "    names.append(name)\n",
    "    print('>%s %.3f (%.3f)' % (name, mean(scores), std(scores)))\n",
    "# plot model performance for comparison\n",
    "pyplot.boxplot(results, labels=names, showmeans=True)\n",
    "pyplot.show()"
   ]
  },
  {
   "cell_type": "code",
   "execution_count": 374,
   "metadata": {},
   "outputs": [],
   "source": [
    "# # # TRY recursive feature elimination\n",
    "# https://scikit-learn.org/stable/auto_examples/feature_selection/plot_rfe_with_cross_validation.html#sphx-glr-download-auto-examples-feature-selection-plot-rfe-with-cross-validation-py\n",
    "https://machinelearningmastery.com/rfe-feature-selection-in-python/ This one looks good!\n",
    "# LOOK AT ABOVE ADD IN CV\n",
    "\n",
    "from sklearn.feature_selection import RFECV\n",
    "\n",
    "estimator = LogisticRegression(multi_class='multinomial')\n",
    "selector = RFE(estimator,n_features_to_select=12, step=3)\n",
    "selector = selector.fit(X_train, y_train)\n",
    "#\n"
   ]
  },
  {
   "cell_type": "code",
   "execution_count": 390,
   "metadata": {},
   "outputs": [
    {
     "data": {
      "text/plain": [
       "(array([0]),)"
      ]
     },
     "execution_count": 390,
     "metadata": {},
     "output_type": "execute_result"
    }
   ],
   "source": [
    "rank = selector.ranking_\n",
    "rank == 1\n",
    "np.where(np.any(rank==1))"
   ]
  },
  {
   "cell_type": "code",
   "execution_count": 391,
   "metadata": {},
   "outputs": [],
   "source": [
    "# selector.support_\n",
    "\n",
    "# selector.ranking_\n"
   ]
  },
  {
   "cell_type": "code",
   "execution_count": 393,
   "metadata": {},
   "outputs": [
    {
     "data": {
      "text/plain": [
       "[9, 40, 41, 52, 56, 70, 234, 268, 366, 367, 369, 561]"
      ]
     },
     "execution_count": 393,
     "metadata": {},
     "output_type": "execute_result"
    }
   ],
   "source": [
    "x = selector.ranking_\n",
    "y= [i for i, e in enumerate(x) if e == 1]\n",
    "y"
   ]
  },
  {
   "cell_type": "code",
   "execution_count": 366,
   "metadata": {},
   "outputs": [
    {
     "data": {
      "text/plain": [
       "12"
      ]
     },
     "execution_count": 366,
     "metadata": {},
     "output_type": "execute_result"
    }
   ],
   "source": [
    "selector.n_features_"
   ]
  },
  {
   "cell_type": "markdown",
   "metadata": {},
   "source": [
    "### Try again with new subset"
   ]
  },
  {
   "cell_type": "code",
   "execution_count": 398,
   "metadata": {},
   "outputs": [
    {
     "name": "stdout",
     "output_type": "stream",
     "text": [
      "(5880, 562) (1471, 562)\n"
     ]
    }
   ],
   "source": [
    "# get labels\n",
    "activity_labels = pd.read_csv('Smartphone_Sensor_Data/activity_labels.txt', sep=\" \", header=None)\n",
    "features_labels = pd.read_csv('Smartphone_Sensor_Data/features.txt', sep=\" \", header=None)\n",
    "# print(features_labels[1].values.size)\n",
    "\n",
    "feature_columns = features_labels[1].values\n",
    "activity_columns = activity_labels[1].values # these are the labels of the y categories\n",
    "\n",
    "# # get data and assign labels ( can't do for y yet)\n",
    "X_train = pd.read_csv('Smartphone_Sensor_Data/train/X_train.txt', sep='\\s+')\n",
    "y_train =  pd.read_csv('Smartphone_Sensor_Data/train/y_train.txt', sep='\\s+')\n",
    "X_train.columns = feature_columns\n",
    "y_train.columns = ['y_true']\n",
    "\n",
    "# COMBINE TO STRATIFY y AND TRAIN/SPLIT\n",
    "df = pd.concat([X_train, y_train], axis = 1)\n",
    "df = df.dropna()\n",
    "# print(df.shape)\n",
    "df = df.iloc[y]\n",
    "\n",
    "# random_seed = 88\n",
    "# X_train, X_test, y_train, y_test = train_test_split(X_train, y_train, test_size=0.33, random_state=42)\n",
    "X_train, X_test = train_test_split(df, test_size=0.2, random_state=random_seed)#, stratify=df[0])\n",
    "print(df_train.shape, df_test.shape)\n",
    "\n",
    "y_train = X_train.iloc[:,-1].to_numpy()\n",
    "\n",
    "y_test = X_test.iloc[:,-1].to_numpy()"
   ]
  },
  {
   "cell_type": "code",
   "execution_count": 401,
   "metadata": {},
   "outputs": [
    {
     "data": {
      "text/plain": [
       "[9, 40, 41, 52, 56, 70, 234, 268, 366, 367, 369, 561]"
      ]
     },
     "execution_count": 401,
     "metadata": {},
     "output_type": "execute_result"
    }
   ],
   "source": [
    "y"
   ]
  },
  {
   "cell_type": "code",
   "execution_count": 407,
   "metadata": {},
   "outputs": [],
   "source": [
    "# GRAB THESE CREATE DF, SPLIT ETC>>>\n",
    "col = list(df.columns)\n",
    "col_list = []\n",
    "for i in range(len(col)):\n",
    "    if i in y:\n",
    "        col_list.append(col[i])\n",
    "        \n",
    "col_list\n",
    "\n",
    "df = df[col_list]\n",
    "\n",
    "# OHNO Y_TRUE WAS STILL IN THERE ABOVE _ THATS WHY 1?"
   ]
  },
  {
   "cell_type": "code",
   "execution_count": 409,
   "metadata": {},
   "outputs": [
    {
     "data": {
      "text/plain": [
       "['tBodyAcc-max()-X',\n",
       " 'tGravityAcc-mean()-X',\n",
       " 'tGravityAcc-mean()-Y',\n",
       " 'tGravityAcc-min()-X',\n",
       " 'tGravityAcc-energy()-X',\n",
       " 'tGravityAcc-arCoeff()-Y,2',\n",
       " 'tBodyAccJerkMag-entropy()',\n",
       " 'fBodyAcc-std()-X',\n",
       " 'fBodyAccJerk-entropy()-X',\n",
       " 'fBodyAccJerk-entropy()-Y',\n",
       " 'fBodyAccJerk-maxInds-X',\n",
       " 'y_true']"
      ]
     },
     "execution_count": 409,
     "metadata": {},
     "output_type": "execute_result"
    }
   ],
   "source": [
    "col_list"
   ]
  },
  {
   "cell_type": "code",
   "execution_count": null,
   "metadata": {},
   "outputs": [],
   "source": [
    "clf = LogisticRegression(max_iter= 800) \n",
    "clf.fit(X_train , y_train)\n",
    "\n",
    "y_pred = clf.predict(X_test)\n",
    "\n",
    "score = clf.score(X_test, y_test)\n",
    "print(score)"
   ]
  },
  {
   "cell_type": "markdown",
   "metadata": {},
   "source": [
    "### Task 7 (Stretch)\n",
    "Create your own function for Stepwise selection. Use either sklearn or statsmodel."
   ]
  },
  {
   "cell_type": "code",
   "execution_count": null,
   "metadata": {},
   "outputs": [],
   "source": []
  },
  {
   "cell_type": "code",
   "execution_count": null,
   "metadata": {},
   "outputs": [],
   "source": []
  },
  {
   "cell_type": "code",
   "execution_count": null,
   "metadata": {},
   "outputs": [],
   "source": []
  },
  {
   "cell_type": "code",
   "execution_count": null,
   "metadata": {},
   "outputs": [],
   "source": []
  },
  {
   "cell_type": "code",
   "execution_count": null,
   "metadata": {},
   "outputs": [],
   "source": []
  }
 ],
 "metadata": {
  "kernelspec": {
   "display_name": "Python 3 (ipykernel)",
   "language": "python",
   "name": "python3"
  },
  "language_info": {
   "codemirror_mode": {
    "name": "ipython",
    "version": 3
   },
   "file_extension": ".py",
   "mimetype": "text/x-python",
   "name": "python",
   "nbconvert_exporter": "python",
   "pygments_lexer": "ipython3",
   "version": "3.8.11"
  }
 },
 "nbformat": 4,
 "nbformat_minor": 4
}
