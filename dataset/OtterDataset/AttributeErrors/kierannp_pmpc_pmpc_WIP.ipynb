{
 "cells": [
  {
   "cell_type": "code",
   "execution_count": 2,
   "metadata": {},
   "outputs": [],
   "source": [
    "from numpy import pi\n",
    "\n",
    "import mbuild as mb\n",
    "\n",
    "from mbuild.lib.atoms import H\n",
    "from mbuild.lib.surfaces import Betacristobalite\n",
    "from mbuild.lib.recipes.polymer import Polymer\n",
    "from pmpc.mpc import MPC\n",
    "from mbuild.lib.moieties.peg import PegMonomer"
   ]
  },
  {
   "cell_type": "code",
   "execution_count": 3,
   "metadata": {},
   "outputs": [
    {
     "name": "stdout",
     "output_type": "stream",
     "text": [
      "/Users/kieran/pmpc/pmpc\n"
     ]
    }
   ],
   "source": [
    "%cd pmpc"
   ]
  },
  {
   "cell_type": "code",
   "execution_count": 4,
   "metadata": {},
   "outputs": [
    {
     "name": "stdout",
     "output_type": "stream",
     "text": [
      "<MPC 41 particles, non-periodic, 40 bonds, id: 140633733185888>\n",
      "[<Port, anchor: 'C', labels: , id: 140633745728608>, <Port, anchor: 'C', labels: , id: 140633745730192>]\n",
      "<MPC 41 particles, non-periodic, 40 bonds, id: 140633745771920>\n",
      "[<Port, anchor: 'C', labels: , id: 140633745807632>, <Port, anchor: 'C', labels: , id: 140633745809216>]\n",
      "<MPC 41 particles, non-periodic, 40 bonds, id: 140633745858272>\n",
      "[<Port, anchor: 'C', labels: , id: 140633745882560>, <Port, anchor: 'C', labels: , id: 140633745912880>]\n"
     ]
    },
    {
     "name": "stderr",
     "output_type": "stream",
     "text": [
      "/Users/kieran/mbuild-examples/mbuild/mbuild/conversion.py:481: UserWarning: Using parmed reader. Bonds may be inferred from inter-particle distances and standard residue templates. Please check that the bonds in mb.Compound are accurate\n",
      "  warn(\n"
     ]
    },
    {
     "data": {
      "application/vnd.jupyter.widget-view+json": {
       "model_id": "44fcf111eec7450c98a3f8837036f9e9",
       "version_major": 2,
       "version_minor": 0
      },
      "text/plain": []
     },
     "metadata": {},
     "output_type": "display_data"
    },
    {
     "data": {
      "application/vnd.jupyter.widget-view+json": {
       "model_id": "2ea8a88e28b14abb84a2c1049ef3a37e",
       "version_major": 2,
       "version_minor": 0
      },
      "text/plain": [
       "NGLWidget()"
      ]
     },
     "metadata": {},
     "output_type": "display_data"
    }
   ],
   "source": [
    "from numpy import pi\n",
    "\n",
    "import mbuild as mb\n",
    "\n",
    "from mbuild.lib.atoms import H\n",
    "from mbuild.lib.surfaces import Betacristobalite\n",
    "from brush import Brush\n",
    "\n",
    "\n",
    "class PMPCLayer(mb.lib.recipes.Monolayer):\n",
    "    \"\"\"Create a layer of grafted pMPC brushes on a beta-cristobalite surface.\"\"\"\n",
    "    def __init__(self, pattern, tile_x=1, tile_y=1, chain_length=4, alpha=pi / 4):\n",
    "        surface = Betacristobalite()\n",
    "        brush = Brush(chain_length=chain_length, alpha=alpha)\n",
    "        hydrogen = H()\n",
    "        super(PMPCLayer, self).__init__(surface, brush, backfill=hydrogen,\n",
    "                                        pattern=pattern, tile_x=tile_x,\n",
    "                                        tile_y=tile_y)\n",
    "\n",
    "Brush(chain_length=4).visualize(backend='nglview',show_ports=True)"
   ]
  },
  {
   "cell_type": "code",
   "execution_count": null,
   "metadata": {},
   "outputs": [],
   "source": []
  },
  {
   "cell_type": "code",
   "execution_count": 11,
   "metadata": {},
   "outputs": [
    {
     "data": {
      "application/vnd.jupyter.widget-view+json": {
       "model_id": "45e7f4bcf97a45e39752971ca43c7a5a",
       "version_major": 2,
       "version_minor": 0
      },
      "text/plain": [
       "NGLWidget()"
      ]
     },
     "metadata": {},
     "output_type": "display_data"
    }
   ],
   "source": [
    "monomer = MPC()\n",
    "monomer.visualize(backend='nglview')"
   ]
  },
  {
   "cell_type": "code",
   "execution_count": 10,
   "metadata": {},
   "outputs": [
    {
     "name": "stdout",
     "output_type": "stream",
     "text": [
      "<MPC 39 particles, non-periodic, 38 bonds, id: 140358670118720>\n",
      "[<Port, anchor: 'C', labels: , id: 140358674719216>, <Port, anchor: 'C', labels: , id: 140358674720800>, <Port, anchor: 'C', labels: , id: 140358674722384>, <Port, anchor: 'C', labels: , id: 140358674780800>]\n",
      "<MPC 39 particles, non-periodic, 38 bonds, id: 140358674804400>\n",
      "[<Port, anchor: 'C', labels: , id: 140358674866384>, <Port, anchor: 'C', labels: , id: 140358674867968>, <Port, anchor: 'C', labels: , id: 140358674869168>, <Port, anchor: 'C', labels: , id: 140358674907040>]\n",
      "<MPC 39 particles, non-periodic, 38 bonds, id: 140358674804352>\n",
      "[<Port, anchor: 'C', labels: , id: 140358674992144>, <Port, anchor: 'C', labels: , id: 140358675026560>, <Port, anchor: 'C', labels: , id: 140358675028144>, <Port, anchor: 'C', labels: , id: 140358675053728>]\n",
      "<MPC 39 particles, non-periodic, 38 bonds, id: 140358675119600>\n",
      "[<Port, anchor: 'C', labels: , id: 140358675147456>, <Port, anchor: 'C', labels: , id: 140358675173680>, <Port, anchor: 'C', labels: , id: 140358675175264>, <Port, anchor: 'C', labels: , id: 140358675245520>]\n",
      "<MPC 39 particles, non-periodic, 38 bonds, id: 140358675279824>\n",
      "[<Port, anchor: 'C', labels: , id: 140358675338864>, <Port, anchor: 'C', labels: , id: 140358675340448>, <Port, anchor: 'C', labels: , id: 140358675362576>, <Port, anchor: 'C', labels: , id: 140358675396352>]\n",
      "<MPC 39 particles, non-periodic, 38 bonds, id: 140358675422848>\n",
      "[<Port, anchor: 'C', labels: , id: 140358675481936>, <Port, anchor: 'C', labels: , id: 140358675483520>, <Port, anchor: 'C', labels: , id: 140358675509744>, <Port, anchor: 'C', labels: , id: 140358675539040>]\n",
      "<MPC 39 particles, non-periodic, 38 bonds, id: 140358675570304>\n",
      "[<Port, anchor: 'C', labels: , id: 140358675620432>, <Port, anchor: 'C', labels: , id: 140358675422704>, <Port, anchor: 'C', labels: , id: 140358675623216>, <Port, anchor: 'C', labels: , id: 140358675685728>]\n",
      "<MPC 39 particles, non-periodic, 38 bonds, id: 140358675713664>\n",
      "[<Port, anchor: 'C', labels: , id: 140358675746240>, <Port, anchor: 'C', labels: , id: 140358675776560>, <Port, anchor: 'C', labels: , id: 140358675778144>, <Port, anchor: 'C', labels: , id: 140358675807824>]\n",
      "<MPC 39 particles, non-periodic, 38 bonds, id: 140358675856880>\n",
      "[<Port, anchor: 'C', labels: , id: 140358675893408>, <Port, anchor: 'C', labels: , id: 140358675915536>, <Port, anchor: 'C', labels: , id: 140358675917120>, <Port, anchor: 'C', labels: , id: 140358675958704>]\n"
     ]
    },
    {
     "data": {
      "application/vnd.jupyter.widget-view+json": {
       "model_id": "6a45c03f076b4205b13e26c705a6144d",
       "version_major": 2,
       "version_minor": 0
      },
      "text/plain": [
       "NGLWidget()"
      ]
     },
     "metadata": {},
     "output_type": "display_data"
    }
   ],
   "source": [
    "chain = mb.recipes.Polymer()\n",
    "monomer = MPC()\n",
    "chain.add_monomer(monomer, indices=[19, 22], separation = .15,replace=True)\n",
    "# chain.add_end_groups(CH3(), index=30, separation=.15)\n",
    "chain.build(n = 10)\n",
    "chain.visualize(backend='nglview')"
   ]
  },
  {
   "cell_type": "code",
   "execution_count": null,
   "metadata": {},
   "outputs": [],
   "source": []
  },
  {
   "cell_type": "code",
   "execution_count": 2,
   "metadata": {},
   "outputs": [
    {
     "data": {
      "application/vnd.jupyter.widget-view+json": {
       "model_id": "df1eb086cb524cb98cbf11a04d18c721",
       "version_major": 2,
       "version_minor": 0
      },
      "text/plain": []
     },
     "metadata": {},
     "output_type": "display_data"
    },
    {
     "data": {
      "application/vnd.jupyter.widget-view+json": {
       "model_id": "5520c743aedf4171b69f5399e1931489",
       "version_major": 2,
       "version_minor": 0
      },
      "text/plain": [
       "NGLWidget()"
      ]
     },
     "metadata": {},
     "output_type": "display_data"
    }
   ],
   "source": [
    "monomer = MPC()\n",
    "# print(list(enumerate(list(monomer.particles()))))\n",
    "# print(list(monomer.available_ports())[0])\n",
    "# print(list(monomer.available_ports())[1])\n",
    "monomer.visualize(show_ports=True, backend='nglview')\n",
    "# monomer.visualize(show_ports=True)"
   ]
  },
  {
   "cell_type": "code",
   "execution_count": 3,
   "metadata": {},
   "outputs": [
    {
     "name": "stdout",
     "output_type": "stream",
     "text": [
      "<MPC 39 particles, non-periodic, 35 bonds, id: 140486019498288>\n",
      "[<Port, anchor: 'C', labels: , id: 140486020116736>, <Port, anchor: 'C', labels: , id: 140486020118320>, <Port, anchor: 'H', labels: , id: 140486020119904>, <Port, anchor: 'H', labels: , id: 140486020146128>, <Port, anchor: 'C', labels: , id: 140486020147712>]\n"
     ]
    },
    {
     "ename": "AttributeError",
     "evalue": "'NoneType' object has no attribute 'add_bond'",
     "output_type": "error",
     "traceback": [
      "\u001b[0;31m---------------------------------------------------------------------------\u001b[0m",
      "\u001b[0;31mAttributeError\u001b[0m                            Traceback (most recent call last)",
      "Input \u001b[0;32mIn [3]\u001b[0m, in \u001b[0;36m<module>\u001b[0;34m\u001b[0m\n\u001b[1;32m      2\u001b[0m chain\u001b[38;5;241m.\u001b[39madd_monomer(compound\u001b[38;5;241m=\u001b[39mmonomer,\n\u001b[1;32m      3\u001b[0m                 separation\u001b[38;5;241m=\u001b[39m\u001b[38;5;241m.15\u001b[39m,\n\u001b[1;32m      4\u001b[0m                 indices\u001b[38;5;241m=\u001b[39m[\u001b[38;5;241m1\u001b[39m, \u001b[38;5;241m37\u001b[39m])\n\u001b[1;32m      5\u001b[0m \u001b[38;5;66;03m# chain.add_end_groups(H())\u001b[39;00m\n\u001b[0;32m----> 6\u001b[0m \u001b[43mchain\u001b[49m\u001b[38;5;241;43m.\u001b[39;49m\u001b[43mbuild\u001b[49m\u001b[43m(\u001b[49m\u001b[43mn\u001b[49m\u001b[38;5;241;43m=\u001b[39;49m\u001b[38;5;241;43m5\u001b[39;49m\u001b[43m,\u001b[49m\u001b[43m \u001b[49m\u001b[43msequence\u001b[49m\u001b[38;5;241;43m=\u001b[39;49m\u001b[38;5;124;43m'\u001b[39;49m\u001b[38;5;124;43mA\u001b[39;49m\u001b[38;5;124;43m'\u001b[39;49m\u001b[43m)\u001b[49m\n",
      "File \u001b[0;32m~/mbuild-examples/mbuild/mbuild/lib/recipes/polymer.py:163\u001b[0m, in \u001b[0;36mPolymer.build\u001b[0;34m(self, n, sequence, add_hydrogens)\u001b[0m\n\u001b[1;32m    161\u001b[0m     \u001b[38;5;28mprint\u001b[39m(this_part)\n\u001b[1;32m    162\u001b[0m     \u001b[38;5;28mprint\u001b[39m(this_part\u001b[38;5;241m.\u001b[39mall_ports())\n\u001b[0;32m--> 163\u001b[0m     \u001b[43mforce_overlap\u001b[49m\u001b[43m(\u001b[49m\n\u001b[1;32m    164\u001b[0m \u001b[43m        \u001b[49m\u001b[43mthis_part\u001b[49m\u001b[43m,\u001b[49m\n\u001b[1;32m    165\u001b[0m \u001b[43m        \u001b[49m\u001b[43mthis_part\u001b[49m\u001b[38;5;241;43m.\u001b[39;49m\u001b[43mlabels\u001b[49m\u001b[43m[\u001b[49m\u001b[38;5;28;43mself\u001b[39;49m\u001b[38;5;241;43m.\u001b[39;49m\u001b[43m_port_labels\u001b[49m\u001b[43m[\u001b[49m\u001b[38;5;241;43m0\u001b[39;49m\u001b[43m]\u001b[49m\u001b[43m]\u001b[49m\u001b[43m,\u001b[49m\n\u001b[1;32m    166\u001b[0m \u001b[43m        \u001b[49m\u001b[43mlast_part\u001b[49m\u001b[38;5;241;43m.\u001b[39;49m\u001b[43mlabels\u001b[49m\u001b[43m[\u001b[49m\u001b[38;5;28;43mself\u001b[39;49m\u001b[38;5;241;43m.\u001b[39;49m\u001b[43m_port_labels\u001b[49m\u001b[43m[\u001b[49m\u001b[38;5;241;43m1\u001b[39;49m\u001b[43m]\u001b[49m\u001b[43m]\u001b[49m\u001b[43m,\u001b[49m\n\u001b[1;32m    167\u001b[0m \u001b[43m    \u001b[49m\u001b[43m)\u001b[49m\n\u001b[1;32m    168\u001b[0m last_part \u001b[38;5;241m=\u001b[39m this_part\n\u001b[1;32m    169\u001b[0m \u001b[38;5;28;01mif\u001b[39;00m n_added \u001b[38;5;241m==\u001b[39m n \u001b[38;5;241m*\u001b[39m \u001b[38;5;28mlen\u001b[39m(sequence) \u001b[38;5;241m-\u001b[39m \u001b[38;5;241m1\u001b[39m:\n",
      "File \u001b[0;32m~/mbuild-examples/mbuild/mbuild/coordinate_transform.py:79\u001b[0m, in \u001b[0;36mforce_overlap\u001b[0;34m(move_this, from_positions, to_positions, add_bond)\u001b[0m\n\u001b[1;32m     75\u001b[0m \u001b[38;5;28;01melse\u001b[39;00m:\n\u001b[1;32m     76\u001b[0m     from_positions\u001b[38;5;241m.\u001b[39manchor\u001b[38;5;241m.\u001b[39mparent\u001b[38;5;241m.\u001b[39madd_bond(\n\u001b[1;32m     77\u001b[0m         (from_positions\u001b[38;5;241m.\u001b[39manchor, to_positions\u001b[38;5;241m.\u001b[39manchor)\n\u001b[1;32m     78\u001b[0m     )\n\u001b[0;32m---> 79\u001b[0m     \u001b[43mto_positions\u001b[49m\u001b[38;5;241;43m.\u001b[39;49m\u001b[43manchor\u001b[49m\u001b[38;5;241;43m.\u001b[39;49m\u001b[43mparent\u001b[49m\u001b[38;5;241;43m.\u001b[39;49m\u001b[43madd_bond\u001b[49m(\n\u001b[1;32m     80\u001b[0m         (from_positions\u001b[38;5;241m.\u001b[39manchor, to_positions\u001b[38;5;241m.\u001b[39manchor)\n\u001b[1;32m     81\u001b[0m     )\n\u001b[1;32m     82\u001b[0m     from_positions\u001b[38;5;241m.\u001b[39manchor\u001b[38;5;241m.\u001b[39mparent\u001b[38;5;241m.\u001b[39mremove(from_positions)\n\u001b[1;32m     83\u001b[0m     to_positions\u001b[38;5;241m.\u001b[39manchor\u001b[38;5;241m.\u001b[39mparent\u001b[38;5;241m.\u001b[39mremove(to_positions)\n",
      "\u001b[0;31mAttributeError\u001b[0m: 'NoneType' object has no attribute 'add_bond'"
     ]
    }
   ],
   "source": [
    "chain = Polymer()\n",
    "chain.add_monomer(compound=monomer,\n",
    "                separation=.15,\n",
    "                indices=[1, 37])\n",
    "# chain.add_end_groups(H())\n",
    "chain.build(n=5, sequence='A')"
   ]
  },
  {
   "cell_type": "code",
   "execution_count": null,
   "metadata": {},
   "outputs": [],
   "source": []
  }
 ],
 "metadata": {
  "interpreter": {
   "hash": "1b00f379133ff2d4c880ffdb45105c97c9044433ccaebc8f789e20b2fc3b197a"
  },
  "kernelspec": {
   "display_name": "Python 3 (ipykernel)",
   "language": "python",
   "name": "python3"
  },
  "language_info": {
   "codemirror_mode": {
    "name": "ipython",
    "version": 3
   },
   "file_extension": ".py",
   "mimetype": "text/x-python",
   "name": "python",
   "nbconvert_exporter": "python",
   "pygments_lexer": "ipython3",
   "version": "3.9.7"
  }
 },
 "nbformat": 4,
 "nbformat_minor": 2
}
