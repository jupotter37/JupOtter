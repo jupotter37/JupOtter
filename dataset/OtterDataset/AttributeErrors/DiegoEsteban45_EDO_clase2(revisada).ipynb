{
  "cells": [
    {
      "cell_type": "code",
      "execution_count": 2,
      "metadata": {
        "trusted": true
      },
      "outputs": [],
      "source": [
        "import matplotlib.pyplot as plt\n",
        "import sympy as sp\n",
        "import numpy as np"
      ]
    },
    {
      "cell_type": "markdown",
      "metadata": {},
      "source": [
        "# Sympy\n",
        "\n",
        "Es una librería de Python para matemática simbólica. Su objetivo trabajar un sistema de álgebra computacional conocido como CAS, con todas las funciones, manteniendo el código lo más simple posible para que sea fácilmente comprensible.\n",
        "\n",
        "Para ver la documentación completa ver \n",
        "https://www.sympy.org/ "
      ]
    },
    {
      "cell_type": "markdown",
      "metadata": {},
      "source": [
        "## Ejemplo 1:\n",
        "\n",
        "Declarar $\\sqrt[3]{2}$ usando librería numpy y sympy. Observar diferencias."
      ]
    },
    {
      "cell_type": "code",
      "execution_count": 3,
      "metadata": {
        "trusted": true
      },
      "outputs": [
        {
          "data": {
            "text/plain": [
              "1.259921049894873"
            ]
          },
          "execution_count": 3,
          "metadata": {},
          "output_type": "execute_result"
        }
      ],
      "source": [
        "np.cbrt(2)#respuesta numerica"
      ]
    },
    {
      "cell_type": "code",
      "execution_count": 4,
      "metadata": {
        "trusted": true
      },
      "outputs": [
        {
          "data": {
            "text/latex": [
              "$\\displaystyle \\sqrt[3]{2}$"
            ],
            "text/plain": [
              "2**(1/3)"
            ]
          },
          "execution_count": 4,
          "metadata": {},
          "output_type": "execute_result"
        }
      ],
      "source": [
        "sp.cbrt(2)#variable simbolica"
      ]
    },
    {
      "cell_type": "markdown",
      "metadata": {},
      "source": [
        "## Declaración de variables\n",
        "\n",
        "* Forma 1:"
      ]
    },
    {
      "cell_type": "code",
      "execution_count": 5,
      "metadata": {
        "trusted": true
      },
      "outputs": [
        {
          "name": "stdout",
          "output_type": "stream",
          "text": [
            "beta\n"
          ]
        }
      ],
      "source": [
        "x=sp.Symbol(\"beta\")#lo que esta dentro del parantesis es lo que veo ya que es ssimbolico\n",
        "print(x)"
      ]
    },
    {
      "cell_type": "markdown",
      "metadata": {},
      "source": [
        "* Forma 2:\n"
      ]
    },
    {
      "cell_type": "code",
      "execution_count": 6,
      "metadata": {
        "trusted": true
      },
      "outputs": [],
      "source": [
        "\n",
        "# Definición de las variables con valores reales\n",
        "y, z, c, omega = sp.symbols(\"y z c omega\", real=True)\n"
      ]
    },
    {
      "cell_type": "code",
      "execution_count": 7,
      "metadata": {
        "trusted": true
      },
      "outputs": [
        {
          "data": {
            "text/latex": [
              "$\\displaystyle y$"
            ],
            "text/plain": [
              "y"
            ]
          },
          "execution_count": 7,
          "metadata": {},
          "output_type": "execute_result"
        }
      ],
      "source": [
        "y"
      ]
    },
    {
      "cell_type": "markdown",
      "metadata": {},
      "source": [
        "Algunos atributos adicionales\n",
        "\n",
        "* integer=True\n",
        "* real=True\n",
        "* positive=True\n"
      ]
    },
    {
      "cell_type": "markdown",
      "metadata": {},
      "source": [
        "## Ejemplo 3: Resolución de ecuaciones algebraicas\n",
        "\n",
        "La EDO \n",
        "\n",
        "$$(y^5 - 6 y^4 - 5 y^3 - 10 y^2 - 36 y + 56)dx+(y^2+1)dy = 0$$\n",
        "\n",
        "es autónoma. Encontrar los puntos estacionarios de la ecuación."
      ]
    },
    {
      "cell_type": "code",
      "execution_count": 8,
      "metadata": {
        "trusted": true
      },
      "outputs": [
        {
          "data": {
            "text/plain": [
              "[-2, 1, 7]"
            ]
          },
          "execution_count": 8,
          "metadata": {},
          "output_type": "execute_result"
        }
      ],
      "source": [
        "sp.solve((y**5 - 6*y**4 - 5*y**3 - 10*y**2 - 36*y + 56))"
      ]
    },
    {
      "cell_type": "markdown",
      "metadata": {},
      "source": [
        "## Ejemplo 4:\n",
        "\n",
        "Encuentre las soluciones estacionarias de la EDO\n",
        "\n",
        "$$\\sin y \\sqrt{y-1} dx - (x^2-1)dy = 0 $$\n"
      ]
    },
    {
      "cell_type": "code",
      "execution_count": 9,
      "metadata": {
        "trusted": true
      },
      "outputs": [
        {
          "data": {
            "text/latex": [
              "$\\displaystyle \\left\\{1\\right\\} \\cup \\left\\{2 n \\pi\\; \\middle|\\; n \\in \\mathbb{Z}\\right\\} \\cup \\left\\{2 n \\pi + \\pi\\; \\middle|\\; n \\in \\mathbb{Z}\\right\\}$"
            ],
            "text/plain": [
              "Union({1}, ImageSet(Lambda(_n, 2*_n*pi + pi), Integers), ImageSet(Lambda(_n, 2*_n*pi), Integers))"
            ]
          },
          "execution_count": 9,
          "metadata": {},
          "output_type": "execute_result"
        }
      ],
      "source": [
        "sp.solveset(sp.sin(y)*sp.sqrt(y-1)) #solve set me da el dominio de forma bonita"
      ]
    },
    {
      "cell_type": "markdown",
      "metadata": {},
      "source": [
        "## Ejemplo 5: Declaración/Resolución/Comprobación de EDO\n",
        "\n",
        "Declarar y resolver la ecuación diferencial de Bernoulli usando comando `dsolve`\n",
        "\n",
        "$$\\dfrac{dy}{dx} - y = 2e^x y^2 $$"
      ]
    },
    {
      "cell_type": "code",
      "execution_count": 10,
      "metadata": {},
      "outputs": [
        {
          "ename": "AttributeError",
          "evalue": "module 'sympy' has no attribute 'symbol'",
          "output_type": "error",
          "traceback": [
            "\u001b[1;31m---------------------------------------------------------------------------\u001b[0m",
            "\u001b[1;31mAttributeError\u001b[0m                            Traceback (most recent call last)",
            "Cell \u001b[1;32mIn[10], line 1\u001b[0m\n\u001b[1;32m----> 1\u001b[0m x\u001b[38;5;241m=\u001b[39m\u001b[43msp\u001b[49m\u001b[38;5;241;43m.\u001b[39;49m\u001b[43msymbol\u001b[49m(\u001b[38;5;124m\"\u001b[39m\u001b[38;5;124mx\u001b[39m\u001b[38;5;124m\"\u001b[39m, real\u001b[38;5;241m=\u001b[39m\u001b[38;5;28;01mTrue\u001b[39;00m)\n\u001b[0;32m      2\u001b[0m y\u001b[38;5;241m=\u001b[39msp\u001b[38;5;241m.\u001b[39msymbol(\u001b[38;5;124m\"\u001b[39m\u001b[38;5;124my\u001b[39m\u001b[38;5;124m\"\u001b[39m, real\u001b[38;5;241m=\u001b[39m\u001b[38;5;28;01mTrue\u001b[39;00m)\n",
            "\u001b[1;31mAttributeError\u001b[0m: module 'sympy' has no attribute 'symbol'"
          ]
        }
      ],
      "source": [
        "x=sp.symbol(\"x\", real=True)\n",
        "y=sp.symbol(\"y\", real=True)"
      ]
    },
    {
      "cell_type": "code",
      "execution_count": null,
      "metadata": {
        "trusted": true
      },
      "outputs": [],
      "source": [
        "sp.dif(y(x),x,20) #es un ejemplo que que estoy haciendo la derivada 20va de x"
      ]
    },
    {
      "cell_type": "code",
      "execution_count": null,
      "metadata": {
        "trusted": true
      },
      "outputs": [],
      "source": [
        "sp.integrate(y(x),x)#hacer integrales"
      ]
    },
    {
      "cell_type": "markdown",
      "metadata": {},
      "source": [
        "Eq="
      ]
    },
    {
      "cell_type": "markdown",
      "metadata": {},
      "source": [
        "## Ejemplo 6: PVI\n",
        "\n",
        "Resolver el PVI\n",
        "$$\\dfrac{dy}{dx} - y = 2e^x y^2 \\quad ; \\quad y(1)=\\pi$$\n"
      ]
    },
    {
      "cell_type": "code",
      "execution_count": null,
      "metadata": {},
      "outputs": [],
      "source": [
        "sp.dsolve(Eq,y(x), ics{y(1):sp.pi)}"
      ]
    },
    {
      "cell_type": "markdown",
      "metadata": {},
      "source": [
        "## Ejemplo 7: Calculo de derivadas\n",
        "\n",
        "Verificar si la EDO es exacta \n",
        "\n",
        "$$\\left[ \\dfrac{\\ln(\\ln(y))}{x}+\\dfrac{2}{3}xy^3+6x \\right] dx+ \\left[\\dfrac{\\ln(x)}{y\\ln(y)}+x^2y^2+4e^{-2y} \\right]dy=0$$\n"
      ]
    },
    {
      "cell_type": "code",
      "execution_count": 12,
      "metadata": {
        "trusted": true
      },
      "outputs": [],
      "source": [
        "x=sp.symbols(\"x\", real=True)\n",
        "y=sp.symbols(\"y\", real=True)\n",
        "C=sp.symbols(\"C\", real=True)\n",
        "\n",
        "\n",
        "\n"
      ]
    },
    {
      "cell_type": "code",
      "execution_count": 13,
      "metadata": {
        "scrolled": true,
        "trusted": true
      },
      "outputs": [
        {
          "data": {
            "text/latex": [
              "$\\displaystyle \\frac{2 x y^{3}}{3} + 6 x + \\frac{\\log{\\left(\\log{\\left(y \\right)} \\right)}}{x}$"
            ],
            "text/plain": [
              "2*x*y**3/3 + 6*x + log(log(y))/x"
            ]
          },
          "execution_count": 13,
          "metadata": {},
          "output_type": "execute_result"
        }
      ],
      "source": [
        "M=(sp.log((sp.log(y)))/x+sp.Rational(2,3)*x*y**3+6*x)\n",
        "M\n",
        "\n"
      ]
    },
    {
      "cell_type": "code",
      "execution_count": null,
      "metadata": {
        "trusted": true
      },
      "outputs": [
        {
          "data": {
            "text/latex": [
              "$\\displaystyle x^{2} y^{2} + 4 e^{- 2 y} + \\frac{\\log{\\left(x \\right)}}{y \\log{\\left(y \\right)}}$"
            ],
            "text/plain": [
              "x**2*y**2 + 4*exp(-2*y) + log(x)/(y*log(y))"
            ]
          },
          "execution_count": 32,
          "metadata": {},
          "output_type": "execute_result"
        }
      ],
      "source": [
        "N=(sp.log(x)/(y*sp.log(y))+x**2*y**2+4*sp.exp(-2*y))\n",
        "N"
      ]
    },
    {
      "cell_type": "code",
      "execution_count": null,
      "metadata": {
        "trusted": true
      },
      "outputs": [
        {
          "data": {
            "text/latex": [
              "$\\displaystyle 2 x y^{2} + \\frac{1}{x y \\log{\\left(y \\right)}}$"
            ],
            "text/plain": [
              "2*x*y**2 + 1/(x*y*log(y))"
            ]
          },
          "execution_count": 38,
          "metadata": {},
          "output_type": "execute_result"
        }
      ],
      "source": [
        "sp.diff(M,y)"
      ]
    },
    {
      "cell_type": "code",
      "execution_count": null,
      "metadata": {
        "trusted": true
      },
      "outputs": [
        {
          "data": {
            "text/latex": [
              "$\\displaystyle 2 x y^{2} + \\frac{1}{x y \\log{\\left(y \\right)}}$"
            ],
            "text/plain": [
              "2*x*y**2 + 1/(x*y*log(y))"
            ]
          },
          "execution_count": 36,
          "metadata": {},
          "output_type": "execute_result"
        }
      ],
      "source": [
        "sp.diff(N,x)"
      ]
    },
    {
      "cell_type": "markdown",
      "metadata": {},
      "source": [
        "## Ejemplo 8: Calculo de primitivas\n",
        "\n",
        "Resolver la EDO del ejemplo 7."
      ]
    },
    {
      "cell_type": "code",
      "execution_count": null,
      "metadata": {
        "trusted": true
      },
      "outputs": [
        {
          "data": {
            "text/latex": [
              "$\\displaystyle \\frac{x^{2} \\left(y^{3} + 9\\right)}{3} + \\log{\\left(x \\right)} \\log{\\left(\\log{\\left(y \\right)} \\right)}$"
            ],
            "text/plain": [
              "x**2*(y**3 + 9)/3 + log(x)*log(log(y))"
            ]
          },
          "execution_count": 54,
          "metadata": {},
          "output_type": "execute_result"
        }
      ],
      "source": [
        "f=sp.integrate(M,x) #integramos M con respecto a x para sacar fx=f\n",
        "f"
      ]
    },
    {
      "cell_type": "code",
      "execution_count": null,
      "metadata": {
        "trusted": true
      },
      "outputs": [
        {
          "data": {
            "text/latex": [
              "$\\displaystyle x^{2} y^{2} + \\frac{\\log{\\left(x \\right)}}{y \\log{\\left(y \\right)}}$"
            ],
            "text/plain": [
              "x**2*y**2 + log(x)/(y*log(y))"
            ]
          },
          "execution_count": 55,
          "metadata": {},
          "output_type": "execute_result"
        }
      ],
      "source": [
        "sp.diff(f,y) #derivamos f con respecto a \"y\" para despejar la variable g(y) fy=g(y)"
      ]
    },
    {
      "cell_type": "code",
      "execution_count": null,
      "metadata": {
        "trusted": true
      },
      "outputs": [
        {
          "data": {
            "text/latex": [
              "$\\displaystyle - 4 e^{- 2 y}$"
            ],
            "text/plain": [
              "-4*exp(-2*y)"
            ]
          },
          "execution_count": 59,
          "metadata": {},
          "output_type": "execute_result"
        }
      ],
      "source": [
        "gy=(sp.diff(f,y)-N) #sacamos la variable que depende de y es decir g(y) \n",
        "gy"
      ]
    },
    {
      "cell_type": "code",
      "execution_count": null,
      "metadata": {
        "trusted": true
      },
      "outputs": [
        {
          "data": {
            "text/latex": [
              "$\\displaystyle 2 e^{- 2 y}$"
            ],
            "text/plain": [
              "2*exp(-2*y)"
            ]
          },
          "execution_count": 60,
          "metadata": {},
          "output_type": "execute_result"
        }
      ],
      "source": [
        "sp.integrate(gy,y) #integramos g(y) "
      ]
    },
    {
      "cell_type": "code",
      "execution_count": null,
      "metadata": {
        "trusted": true
      },
      "outputs": [
        {
          "name": "stdout",
          "output_type": "stream",
          "text": [
            "c =\n"
          ]
        },
        {
          "data": {
            "text/latex": [
              "$\\displaystyle \\frac{x^{2} \\left(y^{3} + 9\\right)}{3} + \\log{\\left(x \\right)} \\log{\\left(\\log{\\left(y \\right)} \\right)} + 2 e^{- 2 y}$"
            ],
            "text/plain": [
              "x**2*(y**3 + 9)/3 + log(x)*log(log(y)) + 2*exp(-2*y)"
            ]
          },
          "execution_count": 65,
          "metadata": {},
          "output_type": "execute_result"
        }
      ],
      "source": [
        "respuesta_final=sp.integrate((sp.diff(f,y)-N),y)+f #solucion \n",
        "print(\"c =\") \n",
        "respuesta_final"
      ]
    },
    {
      "cell_type": "code",
      "execution_count": 14,
      "metadata": {
        "trusted": true
      },
      "outputs": [
        {
          "data": {
            "text/latex": [
              "$\\displaystyle \\frac{\\left(2 x^{2} + e^{- y}\\right) e^{y}}{x}$"
            ],
            "text/plain": [
              "(2*x**2 + exp(-y))*exp(y)/x"
            ]
          },
          "execution_count": 14,
          "metadata": {},
          "output_type": "execute_result"
        }
      ],
      "source": [
        "m = ((2*x**2+sp.exp(-y))*x**-1*sp.exp(y))\n",
        "m"
      ]
    },
    {
      "cell_type": "code",
      "execution_count": 16,
      "metadata": {
        "trusted": true
      },
      "outputs": [
        {
          "data": {
            "text/latex": [
              "$\\displaystyle \\frac{\\left(x^{3} + x y\\right) e^{y}}{x}$"
            ],
            "text/plain": [
              "(x**3 + x*y)*exp(y)/x"
            ]
          },
          "execution_count": 16,
          "metadata": {},
          "output_type": "execute_result"
        }
      ],
      "source": [
        "n= (x**3+x*y)*x**-1*sp.exp(y)\n",
        "n"
      ]
    },
    {
      "cell_type": "code",
      "execution_count": 21,
      "metadata": {
        "trusted": true
      },
      "outputs": [
        {
          "data": {
            "text/latex": [
              "$\\displaystyle \\frac{\\left(2 x^{2} + e^{- y}\\right) e^{y}}{x} - \\frac{1}{x}$"
            ],
            "text/plain": [
              "(2*x**2 + exp(-y))*exp(y)/x - 1/x"
            ]
          },
          "execution_count": 21,
          "metadata": {},
          "output_type": "execute_result"
        }
      ],
      "source": [
        "my=sp.diff(m,y)\n",
        "my"
      ]
    },
    {
      "cell_type": "code",
      "execution_count": 22,
      "metadata": {},
      "outputs": [
        {
          "data": {
            "text/latex": [
              "$\\displaystyle \\frac{\\left(3 x^{2} + y\\right) e^{y}}{x} - \\frac{\\left(x^{3} + x y\\right) e^{y}}{x^{2}}$"
            ],
            "text/plain": [
              "(3*x**2 + y)*exp(y)/x - (x**3 + x*y)*exp(y)/x**2"
            ]
          },
          "execution_count": 22,
          "metadata": {},
          "output_type": "execute_result"
        }
      ],
      "source": [
        "nx=sp.diff(n,x)\n",
        "nx"
      ]
    },
    {
      "cell_type": "code",
      "execution_count": 25,
      "metadata": {},
      "outputs": [
        {
          "name": "stdout",
          "output_type": "stream",
          "text": [
            "si\n"
          ]
        }
      ],
      "source": [
        "if (sp.simplify(nx)==sp.simplify(my)):\n",
        "    print(\"si\")"
      ]
    },
    {
      "cell_type": "code",
      "execution_count": 26,
      "metadata": {},
      "outputs": [
        {
          "data": {
            "text/latex": [
              "$\\displaystyle x^{2} e^{y} + \\log{\\left(x \\right)}$"
            ],
            "text/plain": [
              "x**2*exp(y) + log(x)"
            ]
          },
          "execution_count": 26,
          "metadata": {},
          "output_type": "execute_result"
        }
      ],
      "source": [
        "F=sp.integrate(m,x)\n",
        "F"
      ]
    },
    {
      "cell_type": "code",
      "execution_count": 27,
      "metadata": {},
      "outputs": [
        {
          "data": {
            "text/latex": [
              "$\\displaystyle x^{2} e^{y}$"
            ],
            "text/plain": [
              "x**2*exp(y)"
            ]
          },
          "execution_count": 27,
          "metadata": {},
          "output_type": "execute_result"
        }
      ],
      "source": [
        "Fy=sp.diff(F,y) #derivamos f con respecto a \"y\" para despejar la variable g(y) fy=g(y)\n",
        "Fy"
      ]
    },
    {
      "cell_type": "code",
      "execution_count": 28,
      "metadata": {},
      "outputs": [
        {
          "data": {
            "text/latex": [
              "$\\displaystyle x^{2} e^{y} - \\frac{\\left(x^{3} + x y\\right) e^{y}}{x}$"
            ],
            "text/plain": [
              "x**2*exp(y) - (x**3 + x*y)*exp(y)/x"
            ]
          },
          "execution_count": 28,
          "metadata": {},
          "output_type": "execute_result"
        }
      ],
      "source": [
        "gy=(Fy-n) #sacamos la variable que depende de y es decir g(y) \n",
        "gy"
      ]
    },
    {
      "cell_type": "code",
      "execution_count": 29,
      "metadata": {},
      "outputs": [
        {
          "data": {
            "text/latex": [
              "$\\displaystyle \\left(1 - y\\right) e^{y}$"
            ],
            "text/plain": [
              "(1 - y)*exp(y)"
            ]
          },
          "execution_count": 29,
          "metadata": {},
          "output_type": "execute_result"
        }
      ],
      "source": [
        "g=sp.integrate(gy,y) #integramos g(y) \n",
        "g"
      ]
    },
    {
      "cell_type": "code",
      "execution_count": 30,
      "metadata": {},
      "outputs": [
        {
          "name": "stdout",
          "output_type": "stream",
          "text": [
            "c =\n"
          ]
        },
        {
          "data": {
            "text/latex": [
              "$\\displaystyle x^{2} e^{y} + \\left(1 - y\\right) e^{y} + \\log{\\left(x \\right)}$"
            ],
            "text/plain": [
              "x**2*exp(y) + (1 - y)*exp(y) + log(x)"
            ]
          },
          "execution_count": 30,
          "metadata": {},
          "output_type": "execute_result"
        }
      ],
      "source": [
        "respuesta_final=g+F #solucion \n",
        "print(\"c =\") \n",
        "respuesta_final"
      ]
    }
  ],
  "metadata": {
    "kernelspec": {
      "display_name": "Python 3",
      "language": "python",
      "name": "python3"
    },
    "language_info": {
      "codemirror_mode": {
        "name": "ipython",
        "version": 3
      },
      "file_extension": ".py",
      "mimetype": "text/x-python",
      "name": "python",
      "nbconvert_exporter": "python",
      "pygments_lexer": "ipython3",
      "version": "3.12.2"
    }
  },
  "nbformat": 4,
  "nbformat_minor": 4
}
