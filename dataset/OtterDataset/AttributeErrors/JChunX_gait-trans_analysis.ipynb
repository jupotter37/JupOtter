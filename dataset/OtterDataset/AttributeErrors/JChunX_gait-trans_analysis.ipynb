{
 "cells": [
  {
   "cell_type": "code",
   "execution_count": 15,
   "metadata": {},
   "outputs": [],
   "source": [
    "import glob\n",
    "\n",
    "import matplotlib.pyplot as plt\n",
    "import numpy as np\n",
    "import cv2\n",
    "\n",
    "from gait_trans.robot import Quadruped\n",
    "from gait_trans.simulator import SimulationData, SimulationStreamer, Simulator\n",
    "from gait_trans.utils import *\n",
    "from gait_trans.videowriter import make_video\n",
    "\n",
    "dt=0.01\n",
    "n_steps = int(1/dt * 3)\n",
    "\n",
    "#state_dict = {0: [1.5, 0.0, np.deg2rad(0)], \n",
    "#              int(1/dt * 1.5): [3.1, 0.0, np.deg2rad(0)]}\n",
    "\n",
    "state_dict = {0: [1.5, 0.0, np.deg2rad(0)]}\n"
   ]
  },
  {
   "attachments": {},
   "cell_type": "markdown",
   "metadata": {},
   "source": [
    "## Gait Period Comparison"
   ]
  },
  {
   "cell_type": "code",
   "execution_count": 14,
   "metadata": {},
   "outputs": [
    {
     "ename": "AttributeError",
     "evalue": "'Quadruped' object has no attribute 'modify_gait_period'",
     "output_type": "error",
     "traceback": [
      "\u001b[0;31m---------------------------------------------------------------------------\u001b[0m",
      "\u001b[0;31mAttributeError\u001b[0m                            Traceback (most recent call last)",
      "\u001b[1;32m/Users/jasonx/Dropbox/repos/gait-trans/analysis.ipynb Cell 2\u001b[0m in \u001b[0;36m<module>\u001b[0;34m\u001b[0m\n\u001b[1;32m      <a href='vscode-notebook-cell:/Users/jasonx/Dropbox/repos/gait-trans/analysis.ipynb#W1sZmlsZQ%3D%3D?line=3'>4</a>\u001b[0m \u001b[39mfor\u001b[39;00m period \u001b[39min\u001b[39;00m trot_periods:\n\u001b[1;32m      <a href='vscode-notebook-cell:/Users/jasonx/Dropbox/repos/gait-trans/analysis.ipynb#W1sZmlsZQ%3D%3D?line=4'>5</a>\u001b[0m     results_raw \u001b[39m=\u001b[39m []\n\u001b[0;32m----> <a href='vscode-notebook-cell:/Users/jasonx/Dropbox/repos/gait-trans/analysis.ipynb#W1sZmlsZQ%3D%3D?line=5'>6</a>\u001b[0m     robot\u001b[39m.\u001b[39;49mmodify_gait_period(\u001b[39m'\u001b[39m\u001b[39mtrot\u001b[39m\u001b[39m'\u001b[39m, period)\n\u001b[1;32m      <a href='vscode-notebook-cell:/Users/jasonx/Dropbox/repos/gait-trans/analysis.ipynb#W1sZmlsZQ%3D%3D?line=6'>7</a>\u001b[0m     \u001b[39mfor\u001b[39;00m i \u001b[39min\u001b[39;00m \u001b[39mrange\u001b[39m(n_steps):\n\u001b[1;32m      <a href='vscode-notebook-cell:/Users/jasonx/Dropbox/repos/gait-trans/analysis.ipynb#W1sZmlsZQ%3D%3D?line=7'>8</a>\u001b[0m         vel, omega \u001b[39m=\u001b[39m sim_stream\u001b[39m.\u001b[39mnext_input()\n",
      "\u001b[0;31mAttributeError\u001b[0m: 'Quadruped' object has no attribute 'modify_gait_period'"
     ]
    },
    {
     "data": {
      "text/plain": [
       "<Figure size 720x720 with 0 Axes>"
      ]
     },
     "metadata": {},
     "output_type": "display_data"
    }
   ],
   "source": [
    "sim_data = SimulationData(dt)\n",
    "sim_stream = SimulationStreamer(state_dict)\n",
    "sim = Simulator(sim_data)\n",
    "robot = Quadruped(sim_data)\n",
    "sim.add_robot(robot)\n",
    "trot_periods = [0.4, 1.0, 2.0]\n",
    "\n",
    "plt.figure(figsize=(20, 20))\n",
    "for period in trot_periods:\n",
    "    results_raw = []\n",
    "    robot.modify_gait_period('trot', period)\n",
    "    for i in range(n_steps):\n",
    "        print(\"Step: {}\".format(i))\n",
    "        vel, omega = sim_stream.next_input()\n",
    "        robot.set_body_cmd_vel(vel)\n",
    "        robot.set_omega(omega)\n",
    "        res = sim.step()\n",
    "        results_raw.append(res)\n",
    "        \n",
    "    plot_com_traj(results_raw[i][\"x_ref\"], results_raw[i][\"x_mpc\"], new_fig=False, label_postfix=\" period = {}\".format(period))\n",
    "    \n",
    "plt.show()\n"
   ]
  },
  {
   "cell_type": "code",
   "execution_count": null,
   "metadata": {},
   "outputs": [],
   "source": []
  }
 ],
 "metadata": {
  "kernelspec": {
   "display_name": "drakeenv",
   "language": "python",
   "name": "python3"
  },
  "language_info": {
   "codemirror_mode": {
    "name": "ipython",
    "version": 3
   },
   "file_extension": ".py",
   "mimetype": "text/x-python",
   "name": "python",
   "nbconvert_exporter": "python",
   "pygments_lexer": "ipython3",
   "version": "3.10.0 (v3.10.0:b494f5935c, Oct  4 2021, 14:59:19) [Clang 12.0.5 (clang-1205.0.22.11)]"
  },
  "orig_nbformat": 4,
  "vscode": {
   "interpreter": {
    "hash": "b76854f75e12a3093398ff05652004cc4db8383b19c80364656429548f841672"
   }
  }
 },
 "nbformat": 4,
 "nbformat_minor": 2
}
