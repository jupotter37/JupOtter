{
 "cells": [
  {
   "cell_type": "markdown",
   "id": "47599173",
   "metadata": {
    "lines_to_next_cell": 2
   },
   "source": [
    "# A `pydantic` Primer\n",
    "\n",
    "Most classes in flodym are based on the `pydantic` library, which provides safety in data handling.\n",
    "More specifically, most classes in flodym are `pydanctic.BaseModel`s.\n",
    "\n",
    "Their main property is that the arguments passed to the class initialization are replaced by so-called fields.\n",
    "While a normal class would be defined and initialized like this:"
   ]
  },
  {
   "cell_type": "code",
   "execution_count": 11,
   "id": "e3a026c5",
   "metadata": {},
   "outputs": [
    {
     "name": "stdout",
     "output_type": "stream",
     "text": [
      "Adam\n"
     ]
    }
   ],
   "source": [
    "class Person:\n",
    "    def __init__(self, name):\n",
    "        self.name = name\n",
    "\n",
    "\n",
    "person_a = Person(\"Adam\")\n",
    "print(person_a.name)"
   ]
  },
  {
   "cell_type": "markdown",
   "id": "0bcac9b6",
   "metadata": {},
   "source": [
    "this would look slightly different for pydantic, where the `__init__` function is pre-implemented:"
   ]
  },
  {
   "cell_type": "code",
   "execution_count": 12,
   "id": "b446138b",
   "metadata": {
    "lines_to_next_cell": 2
   },
   "outputs": [
    {
     "name": "stdout",
     "output_type": "stream",
     "text": [
      "Adam\n"
     ]
    }
   ],
   "source": [
    "from pydantic import BaseModel\n",
    "\n",
    "\n",
    "class Person(BaseModel):\n",
    "    name: str\n",
    "\n",
    "\n",
    "person_a = Person(name=\"Adam\")\n",
    "print(person_a.name)"
   ]
  },
  {
   "cell_type": "markdown",
   "id": "b3ff6b12",
   "metadata": {
    "lines_to_next_cell": 2
   },
   "source": [
    "There are two major differences to normal classes:\n",
    "\n",
    "- The input is type-checked. In the example, `name` has to be a string, and e.g. initializing Person like this: `Person(name=2)` will lead to an error.\n",
    "- Normal classes do not guarantee that parameters passed to init end up as class attributes. So the following will lead to an error:\n",
    "\n"
   ]
  },
  {
   "cell_type": "code",
   "execution_count": 13,
   "id": "62e321e1",
   "metadata": {
    "lines_to_next_cell": 2
   },
   "outputs": [
    {
     "name": "stdout",
     "output_type": "stream",
     "text": [
      "AttributeError: 'Person' object has no attribute 'first_name'\n"
     ]
    }
   ],
   "source": [
    "class Person:\n",
    "    def __init__(self, first_name: str, last_name: str):\n",
    "        self.initials = f\"{first_name[0]}.{last_name[0]}.\"\n",
    "\n",
    "\n",
    "person_a = Person(first_name=\"Adam\", last_name=\"Smith\")\n",
    "\n",
    "try:\n",
    "    print(person_a.first_name)\n",
    "except AttributeError as e:\n",
    "    print(f\"AttributeError: {e}\")"
   ]
  },
  {
   "cell_type": "markdown",
   "id": "0fd41ff8",
   "metadata": {
    "lines_to_next_cell": 2
   },
   "source": [
    "In pydantic, what you put in at initialization is always what you get as attributes.\n",
    "\n",
    "This creates transparency.\n",
    "\n",
    "But on the other hand, it can be more convenient to have some operations done on initialization.\n",
    "\n",
    "Therefore, flodym sometimes offers class methods to create objects from different arguments, like for the example above:"
   ]
  },
  {
   "cell_type": "code",
   "execution_count": 14,
   "id": "f2a6120a",
   "metadata": {},
   "outputs": [
    {
     "name": "stdout",
     "output_type": "stream",
     "text": [
      "A.S.\n"
     ]
    }
   ],
   "source": [
    "class Person(BaseModel):\n",
    "\n",
    "    initials: str\n",
    "\n",
    "    @classmethod\n",
    "    def from_name(cls, first_name: str, last_name: str):\n",
    "        initials = f\"{first_name[0]}.{last_name[0]}.\"\n",
    "        return cls(initials=initials)\n",
    "\n",
    "\n",
    "person_a = Person.from_name(first_name=\"Adam\", last_name=\"Smith\")\n",
    "print(person_a.initials)"
   ]
  },
  {
   "cell_type": "markdown",
   "id": "77c5a741",
   "metadata": {},
   "source": [
    "For further information on pydantic, please refer to the pydantic documentation."
   ]
  }
 ],
 "metadata": {
  "jupytext": {
   "cell_metadata_filter": "-all",
   "main_language": "python",
   "notebook_metadata_filter": "-all"
  },
  "kernelspec": {
   "display_name": ".venv",
   "language": "python",
   "name": "python3"
  },
  "language_info": {
   "codemirror_mode": {
    "name": "ipython",
    "version": 3
   },
   "file_extension": ".py",
   "mimetype": "text/x-python",
   "name": "python",
   "nbconvert_exporter": "python",
   "pygments_lexer": "ipython3",
   "version": "3.10.10"
  },
  "nbsphinx": {
   "allow_errors": true
  }
 },
 "nbformat": 4,
 "nbformat_minor": 5
}
