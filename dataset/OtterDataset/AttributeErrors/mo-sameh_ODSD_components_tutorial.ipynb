{
 "cells": [
  {
   "cell_type": "code",
   "execution_count": 1,
   "metadata": {},
   "outputs": [],
   "source": [
    "from generative.dataset import ScenarioDataset, collate_scenario_batch, split_dataset\n",
    "from generative.components import CondionalEncoder, HeatmapEncoder, HeatmapDecoder\n",
    "from generative.losses import FocalLoss, MaskedL1Loss, MaskedCrossEntropyLoss\n",
    "from dataset_utils.scenario_utils import visualize_sceanrio_2d,visualize_all_cameras, scenario_to_heatmap, visualize_heatmap\n",
    "\n",
    "import matplotlib.pyplot as plt\n",
    "import numpy as np\n",
    "from dataset_utils.constants import id_to_category,MAP_DIR\n",
    "from torch.utils.data import DataLoader\n",
    "\n",
    "# autoreload\n",
    "%load_ext autoreload\n",
    "%autoreload 2"
   ]
  },
  {
   "cell_type": "code",
   "execution_count": 2,
   "metadata": {},
   "outputs": [
    {
     "data": {
      "text/plain": [
       "33"
      ]
     },
     "execution_count": 2,
     "metadata": {},
     "output_type": "execute_result"
    }
   ],
   "source": [
    "scenarios_path = '/home/stud/komo/data/scenarios/nuscenes/scenarios.json'\n",
    "train_set, val_set = split_dataset(scenarios_path, 0.8)\n",
    "dataset = ScenarioDataset(train_set)\n",
    "data_loader = DataLoader(dataset, batch_size=4, shuffle=True, collate_fn=collate_scenario_batch)\n",
    "\n",
    "dataset.num_classes"
   ]
  },
  {
   "cell_type": "code",
   "execution_count": 3,
   "metadata": {},
   "outputs": [],
   "source": [
    "def get_number_of_learnable_paramters(model):\n",
    "    return sum(p.numel() for p in model.parameters() if p.requires_grad) / 1e6"
   ]
  },
  {
   "cell_type": "code",
   "execution_count": 4,
   "metadata": {},
   "outputs": [
    {
     "name": "stdout",
     "output_type": "stream",
     "text": [
      "Number of learnable paramters in millions:  0.012288\n",
      "torch.Size([4, 4, 32, 32])\n"
     ]
    }
   ],
   "source": [
    "sample_batch = next(iter(data_loader))\n",
    "\n",
    "condional_encoder = CondionalEncoder()\n",
    "print(\"Number of learnable paramters in millions: \", get_number_of_learnable_paramters(condional_encoder))\n",
    "latent = condional_encoder( sample_batch[1]['map_information'])\n",
    "print(latent.shape)"
   ]
  },
  {
   "cell_type": "code",
   "execution_count": 5,
   "metadata": {},
   "outputs": [
    {
     "name": "stdout",
     "output_type": "stream",
     "text": [
      "Number of learnable paramters in millions:  2.792854\n",
      "Input shape:  torch.Size([4, 40, 256, 256])\n",
      "torch.Size([4, 32, 32, 32])\n",
      "torch.Size([4, 32, 32, 32])\n"
     ]
    }
   ],
   "source": [
    "IN_CHANNELS = 40\n",
    "heatmap_encoder = HeatmapEncoder(IN_CHANNELS, first_layer_channels=32)\n",
    "print(\"Number of learnable paramters in millions: \", get_number_of_learnable_paramters(heatmap_encoder))\n",
    "print(\"Input shape: \", sample_batch[0].shape)\n",
    "mu,sigmas = heatmap_encoder(sample_batch[0], latent)\n",
    "print(mu.shape)\n",
    "print(sigmas.shape)"
   ]
  },
  {
   "cell_type": "code",
   "execution_count": 6,
   "metadata": {},
   "outputs": [
    {
     "name": "stdout",
     "output_type": "stream",
     "text": [
      "Number of learnable paramters in millions:  1.602184\n",
      "torch.Size([4, 40, 256, 256])\n"
     ]
    }
   ],
   "source": [
    "heatmap_decoder = HeatmapDecoder(IN_CHANNELS, first_layer_channels=32)\n",
    "print(\"Number of learnable paramters in millions: \", get_number_of_learnable_paramters(heatmap_decoder))\n",
    "heatmap = heatmap_decoder(mu, latent)\n",
    "print(heatmap.shape)"
   ]
  },
  {
   "cell_type": "code",
   "execution_count": null,
   "metadata": {},
   "outputs": [
    {
     "name": "stdout",
     "output_type": "stream",
     "text": [
      "torch.Size([4, 256, 256])\n",
      "Road loss:  tensor(1.1369, grad_fn=<RsubBackward1>)\n",
      "Heatmap loss:  tensor(8789.2842, grad_fn=<RsubBackward1>)\n",
      "Offset loss:  tensor(0.)\n",
      "Size loss:  tensor(13.4034, grad_fn=<DivBackward0>)\n",
      "Target classes shape:  torch.Size([4, 256, 256])\n",
      "predicted classes shape:  torch.Size([4, 33, 256, 256])\n",
      "Classes loss:  tensor(3.4692, grad_fn=<DivBackward0>)\n",
      "Classes loss:  tensor(3.4987, grad_fn=<NllLoss2DBackward0>)\n"
     ]
    }
   ],
   "source": [
    "import torch\n",
    "\n",
    "focal_loss = FocalLoss()\n",
    "masked_l1_loss = MaskedL1Loss()\n",
    "BCE = torch.nn.BCELoss()\n",
    "masked_cross_entropy = MaskedCrossEntropyLoss()\n",
    "regular_cross_entropy = torch.nn.CrossEntropyLoss()\n",
    "road_mask = sample_batch[0][:,0,:,:].eq(1)\n",
    "heat_map_mask = sample_batch[0][:,1,:,:].eq(1)\n",
    "print(heat_map_mask.shape)\n",
    "road_loss = focal_loss(heatmap[:,0,:,:], sample_batch[0][:,0,:,:])\n",
    "print(\"Road loss: \", road_loss)\n",
    "heatmap_loss = focal_loss(heatmap[:,1,:,:], sample_batch[0][:,1,:,:])\n",
    "print(\"Heatmap loss: \", heatmap_loss)\n",
    "offset_l1 = masked_l1_loss(heatmap[:,2:4,:,:], sample_batch[0][:,2:4,:,:], heat_map_mask) \n",
    "print(\"Offset loss: \", offset_l1)\n",
    "size_l1 = masked_l1_loss(heatmap[:,4:7,:,:], sample_batch[0][:,4:7,:,:], heat_map_mask)\n",
    "print(\"Size loss: \", size_l1)\n",
    "target_classes = torch.argmax(sample_batch[0][:,7:,:,:], dim=1)\n",
    "print(\"Target classes shape: \", target_classes.shape)\n",
    "print(\"predicted classes shape: \", sample_batch[0][:,7:,:,:].shape)\n",
    "classes_ce = masked_cross_entropy(heatmap[:,7:,:,:], target_classes, heat_map_mask)\n",
    "\n",
    "print(\"Classes loss: \", classes_ce)\n",
    "class_ce = regular_cross_entropy(heatmap[:,7:,:,:], target_classes)\n",
    "print(\"Classes loss: \", class_ce)\n",
    "\n"
   ]
  },
  {
   "cell_type": "code",
   "execution_count": 29,
   "metadata": {},
   "outputs": [
    {
     "name": "stdout",
     "output_type": "stream",
     "text": [
      "Logits shape:  torch.Size([3, 3, 3, 3])\n",
      "Target classes shape:  torch.Size([3, 3, 3])\n",
      "Full mask shape:  torch.Size([3, 3, 3])\n"
     ]
    },
    {
     "ename": "AttributeError",
     "evalue": "'MaskedCrossEntropyLoss' object has no attribute 'loss'",
     "output_type": "error",
     "traceback": [
      "\u001b[0;31m---------------------------------------------------------------------------\u001b[0m",
      "\u001b[0;31mAttributeError\u001b[0m                            Traceback (most recent call last)",
      "Cell \u001b[0;32mIn[29], line 17\u001b[0m\n\u001b[1;32m     15\u001b[0m \u001b[38;5;28mprint\u001b[39m(\u001b[38;5;124m\"\u001b[39m\u001b[38;5;124mTarget classes shape: \u001b[39m\u001b[38;5;124m\"\u001b[39m, target_classes\u001b[38;5;241m.\u001b[39mshape)\n\u001b[1;32m     16\u001b[0m \u001b[38;5;28mprint\u001b[39m(\u001b[38;5;124m\"\u001b[39m\u001b[38;5;124mFull mask shape: \u001b[39m\u001b[38;5;124m\"\u001b[39m, full_mask\u001b[38;5;241m.\u001b[39mshape)\n\u001b[0;32m---> 17\u001b[0m \u001b[38;5;28mprint\u001b[39m(\u001b[38;5;124m\"\u001b[39m\u001b[38;5;124mLoss: \u001b[39m\u001b[38;5;124m\"\u001b[39m, \u001b[43mmasked_cross_entropy\u001b[49m\u001b[43m(\u001b[49m\u001b[43mlogits\u001b[49m\u001b[43m,\u001b[49m\u001b[43m \u001b[49m\u001b[43mtarget_classes\u001b[49m\u001b[43m,\u001b[49m\u001b[43m \u001b[49m\u001b[43mfull_mask\u001b[49m\u001b[43m)\u001b[49m)\n",
      "File \u001b[0;32m~/miniconda3/envs/synthdata/lib/python3.9/site-packages/torch/nn/modules/module.py:1736\u001b[0m, in \u001b[0;36mModule._wrapped_call_impl\u001b[0;34m(self, *args, **kwargs)\u001b[0m\n\u001b[1;32m   1734\u001b[0m     \u001b[38;5;28;01mreturn\u001b[39;00m \u001b[38;5;28mself\u001b[39m\u001b[38;5;241m.\u001b[39m_compiled_call_impl(\u001b[38;5;241m*\u001b[39margs, \u001b[38;5;241m*\u001b[39m\u001b[38;5;241m*\u001b[39mkwargs)  \u001b[38;5;66;03m# type: ignore[misc]\u001b[39;00m\n\u001b[1;32m   1735\u001b[0m \u001b[38;5;28;01melse\u001b[39;00m:\n\u001b[0;32m-> 1736\u001b[0m     \u001b[38;5;28;01mreturn\u001b[39;00m \u001b[38;5;28;43mself\u001b[39;49m\u001b[38;5;241;43m.\u001b[39;49m\u001b[43m_call_impl\u001b[49m\u001b[43m(\u001b[49m\u001b[38;5;241;43m*\u001b[39;49m\u001b[43margs\u001b[49m\u001b[43m,\u001b[49m\u001b[43m \u001b[49m\u001b[38;5;241;43m*\u001b[39;49m\u001b[38;5;241;43m*\u001b[39;49m\u001b[43mkwargs\u001b[49m\u001b[43m)\u001b[49m\n",
      "File \u001b[0;32m~/miniconda3/envs/synthdata/lib/python3.9/site-packages/torch/nn/modules/module.py:1747\u001b[0m, in \u001b[0;36mModule._call_impl\u001b[0;34m(self, *args, **kwargs)\u001b[0m\n\u001b[1;32m   1742\u001b[0m \u001b[38;5;66;03m# If we don't have any hooks, we want to skip the rest of the logic in\u001b[39;00m\n\u001b[1;32m   1743\u001b[0m \u001b[38;5;66;03m# this function, and just call forward.\u001b[39;00m\n\u001b[1;32m   1744\u001b[0m \u001b[38;5;28;01mif\u001b[39;00m \u001b[38;5;129;01mnot\u001b[39;00m (\u001b[38;5;28mself\u001b[39m\u001b[38;5;241m.\u001b[39m_backward_hooks \u001b[38;5;129;01mor\u001b[39;00m \u001b[38;5;28mself\u001b[39m\u001b[38;5;241m.\u001b[39m_backward_pre_hooks \u001b[38;5;129;01mor\u001b[39;00m \u001b[38;5;28mself\u001b[39m\u001b[38;5;241m.\u001b[39m_forward_hooks \u001b[38;5;129;01mor\u001b[39;00m \u001b[38;5;28mself\u001b[39m\u001b[38;5;241m.\u001b[39m_forward_pre_hooks\n\u001b[1;32m   1745\u001b[0m         \u001b[38;5;129;01mor\u001b[39;00m _global_backward_pre_hooks \u001b[38;5;129;01mor\u001b[39;00m _global_backward_hooks\n\u001b[1;32m   1746\u001b[0m         \u001b[38;5;129;01mor\u001b[39;00m _global_forward_hooks \u001b[38;5;129;01mor\u001b[39;00m _global_forward_pre_hooks):\n\u001b[0;32m-> 1747\u001b[0m     \u001b[38;5;28;01mreturn\u001b[39;00m \u001b[43mforward_call\u001b[49m\u001b[43m(\u001b[49m\u001b[38;5;241;43m*\u001b[39;49m\u001b[43margs\u001b[49m\u001b[43m,\u001b[49m\u001b[43m \u001b[49m\u001b[38;5;241;43m*\u001b[39;49m\u001b[38;5;241;43m*\u001b[39;49m\u001b[43mkwargs\u001b[49m\u001b[43m)\u001b[49m\n\u001b[1;32m   1749\u001b[0m result \u001b[38;5;241m=\u001b[39m \u001b[38;5;28;01mNone\u001b[39;00m\n\u001b[1;32m   1750\u001b[0m called_always_called_hooks \u001b[38;5;241m=\u001b[39m \u001b[38;5;28mset\u001b[39m()\n",
      "File \u001b[0;32m~/ODSD/scenariogen/generative/losses.py:69\u001b[0m, in \u001b[0;36mMaskedCrossEntropyLoss.forward\u001b[0;34m(self, out, target, mask)\u001b[0m\n\u001b[1;32m     67\u001b[0m \u001b[38;5;28;01mdef\u001b[39;00m \u001b[38;5;21mforward\u001b[39m(\u001b[38;5;28mself\u001b[39m, out, target, mask):\n\u001b[1;32m     68\u001b[0m     num  \u001b[38;5;241m=\u001b[39m mask\u001b[38;5;241m.\u001b[39mfloat()\u001b[38;5;241m.\u001b[39msum()\n\u001b[0;32m---> 69\u001b[0m     loss \u001b[38;5;241m=\u001b[39m \u001b[38;5;28;43mself\u001b[39;49m\u001b[38;5;241;43m.\u001b[39;49m\u001b[43mloss\u001b[49m(out, target)\n\u001b[1;32m     70\u001b[0m     \u001b[38;5;28mprint\u001b[39m(\u001b[38;5;124m\"\u001b[39m\u001b[38;5;124mgot loss\u001b[39m\u001b[38;5;124m\"\u001b[39m, loss\u001b[38;5;241m.\u001b[39mshape)\n\u001b[1;32m     71\u001b[0m     masked_loss \u001b[38;5;241m=\u001b[39m loss \u001b[38;5;241m*\u001b[39m mask\n",
      "File \u001b[0;32m~/miniconda3/envs/synthdata/lib/python3.9/site-packages/torch/nn/modules/module.py:1931\u001b[0m, in \u001b[0;36mModule.__getattr__\u001b[0;34m(self, name)\u001b[0m\n\u001b[1;32m   1929\u001b[0m     \u001b[38;5;28;01mif\u001b[39;00m name \u001b[38;5;129;01min\u001b[39;00m modules:\n\u001b[1;32m   1930\u001b[0m         \u001b[38;5;28;01mreturn\u001b[39;00m modules[name]\n\u001b[0;32m-> 1931\u001b[0m \u001b[38;5;28;01mraise\u001b[39;00m \u001b[38;5;167;01mAttributeError\u001b[39;00m(\n\u001b[1;32m   1932\u001b[0m     \u001b[38;5;124mf\u001b[39m\u001b[38;5;124m\"\u001b[39m\u001b[38;5;124m'\u001b[39m\u001b[38;5;132;01m{\u001b[39;00m\u001b[38;5;28mtype\u001b[39m(\u001b[38;5;28mself\u001b[39m)\u001b[38;5;241m.\u001b[39m\u001b[38;5;18m__name__\u001b[39m\u001b[38;5;132;01m}\u001b[39;00m\u001b[38;5;124m'\u001b[39m\u001b[38;5;124m object has no attribute \u001b[39m\u001b[38;5;124m'\u001b[39m\u001b[38;5;132;01m{\u001b[39;00mname\u001b[38;5;132;01m}\u001b[39;00m\u001b[38;5;124m'\u001b[39m\u001b[38;5;124m\"\u001b[39m\n\u001b[1;32m   1933\u001b[0m )\n",
      "\u001b[0;31mAttributeError\u001b[0m: 'MaskedCrossEntropyLoss' object has no attribute 'loss'"
     ]
    }
   ],
   "source": [
    "# test out the regular cross entropy loss\n",
    "\n",
    "target_classes = torch.Tensor([0, 1, 2]).long()\n",
    "# add more class to have the shape of (2,3,3)\n",
    "target_classes = target_classes.unsqueeze(0).repeat(3,1)\n",
    "target_classes = target_classes.unsqueeze(0).repeat(3,1,1)\n",
    "\n",
    "logits = torch.Tensor([[10, -10, -10], [-10, 10, -10], [-10, -10, 10]]).float()\n",
    "logits = logits.unsqueeze(0).repeat(3,1,1)\n",
    "logits = logits.unsqueeze(0).repeat(3,1,1,1)\n",
    "full_mask = torch.Tensor([1, 1, 1]).bool()\n",
    "full_mask = full_mask.unsqueeze(0).repeat(3,1)\n",
    "full_mask = full_mask.unsqueeze(0).repeat(3,1,1)\n",
    "print(\"Logits shape: \", logits.shape)\n",
    "print(\"Target classes shape: \", target_classes.shape)\n",
    "print(\"Full mask shape: \", full_mask.shape)\n",
    "print(\"Loss: \", masked_cross_entropy(logits, target_classes, full_mask))\n"
   ]
  },
  {
   "cell_type": "code",
   "execution_count": null,
   "metadata": {},
   "outputs": [],
   "source": []
  }
 ],
 "metadata": {
  "kernelspec": {
   "display_name": "synthdata",
   "language": "python",
   "name": "python3"
  },
  "language_info": {
   "codemirror_mode": {
    "name": "ipython",
    "version": 3
   },
   "file_extension": ".py",
   "mimetype": "text/x-python",
   "name": "python",
   "nbconvert_exporter": "python",
   "pygments_lexer": "ipython3",
   "version": "3.9.20"
  }
 },
 "nbformat": 4,
 "nbformat_minor": 2
}
