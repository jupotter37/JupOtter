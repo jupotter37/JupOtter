{
 "cells": [
  {
   "cell_type": "code",
   "execution_count": 1,
   "id": "f53495ec-156c-4a0d-8b9a-5a54b2b27de8",
   "metadata": {},
   "outputs": [],
   "source": [
    "import numpy as np\n",
    "import pandas as pd\n",
    "import matplotlib.pyplot as plt\n",
    "\n",
    "import os\n",
    "import datetime\n",
    "\n",
    "from helper import make_alphas_state_matrix_with_day_step\n",
    "from helper import instrument_return\n",
    "from helper import AlphaStats, calc_alphas_corr\n",
    "from helper import normalize, neutralize, neutralize_with_dropout\n",
    "\n",
    "import manipulate_alpha as mpa\n",
    "\n",
    "from test import test1, test2, test3\n",
    "\n",
    "SLICE_INDEX = 2436"
   ]
  },
  {
   "cell_type": "markdown",
   "id": "fa6992ef-720b-44ad-9b80-051725d89df5",
   "metadata": {},
   "source": [
    "# Prepare Data"
   ]
  },
  {
   "cell_type": "code",
   "execution_count": 104,
   "id": "7fab074e-36dd-4222-9d74-9fee98793664",
   "metadata": {},
   "outputs": [
    {
     "data": {
      "text/plain": [
       "['Open.csv', 'High.csv', 'Close.csv', 'Low.csv', 'Volume.csv']"
      ]
     },
     "execution_count": 104,
     "metadata": {},
     "output_type": "execute_result"
    }
   ],
   "source": [
    "dataset_dir = './USA_2010-2014_HLOCV'\n",
    "os.listdir(dataset_dir)"
   ]
  },
  {
   "cell_type": "code",
   "execution_count": 125,
   "id": "f8f70642-4a09-49c2-9ccd-4bb05b9c083d",
   "metadata": {},
   "outputs": [],
   "source": [
    "open_df = pd.read_csv(dataset_dir + '/Open.csv')\n",
    "high_df = pd.read_csv(dataset_dir + '/High.csv')\n",
    "close_df = pd.read_csv(dataset_dir + '/Close.csv')\n",
    "low_df = pd.read_csv(dataset_dir + '/Low.csv')\n",
    "volume_df = pd.read_csv(dataset_dir + '/Volume.csv')"
   ]
  },
  {
   "cell_type": "code",
   "execution_count": 126,
   "id": "9405572f-ebc3-4a1d-8489-2a8c3ff1dda2",
   "metadata": {},
   "outputs": [
    {
     "data": {
      "text/plain": [
       "(2436, 1258)"
      ]
     },
     "execution_count": 126,
     "metadata": {},
     "output_type": "execute_result"
    }
   ],
   "source": [
    "open_df.shape"
   ]
  },
  {
   "cell_type": "code",
   "execution_count": 127,
   "id": "07666444-46d9-4f6a-ac68-c6a3c852f28b",
   "metadata": {},
   "outputs": [],
   "source": [
    "open_df = open_df.drop(open_df.columns[0], axis=1)\n",
    "close_df = close_df.drop(close_df.columns[0], axis=1)\n",
    "high_df = high_df.drop(high_df.columns[0], axis=1)\n",
    "low_df = low_df.drop(low_df.columns[0], axis=1)\n",
    "volume_df = volume_df.drop(volume_df.columns[0], axis=1)"
   ]
  },
  {
   "cell_type": "code",
   "execution_count": 128,
   "id": "c9407fce-c7ce-4aca-8dd6-874e8812d114",
   "metadata": {},
   "outputs": [
    {
     "data": {
      "text/plain": [
       "array(['2010', '2011', '2012', '2013', '2014'], dtype='<U4')"
      ]
     },
     "execution_count": 128,
     "metadata": {},
     "output_type": "execute_result"
    }
   ],
   "source": [
    "# Get unique years\n",
    "dates = list(open_df.columns)\n",
    "years = [date.split('-')[0] for date in dates]\n",
    "unique_years = np.sort(np.unique(years))\n",
    "unique_years"
   ]
  },
  {
   "cell_type": "code",
   "execution_count": 129,
   "id": "5802acba-5e9a-4d99-96ee-077a65040fce",
   "metadata": {},
   "outputs": [
    {
     "name": "stdout",
     "output_type": "stream",
     "text": [
      "01-01-2013 \t 01-01-2014\n"
     ]
    }
   ],
   "source": [
    "train_split_date = f'01-01-{unique_years[-2]}'\n",
    "val_split_date = f'01-01-{unique_years[-1]}'\n",
    "\n",
    "print(train_split_date, \"\\t\", val_split_date)"
   ]
  },
  {
   "cell_type": "code",
   "execution_count": 130,
   "id": "3e9f6ffe-44c2-430e-989e-e5d441a9433d",
   "metadata": {},
   "outputs": [
    {
     "data": {
      "text/plain": [
       "(2436, 1257)"
      ]
     },
     "execution_count": 130,
     "metadata": {},
     "output_type": "execute_result"
    }
   ],
   "source": [
    "open_df.shape"
   ]
  },
  {
   "cell_type": "code",
   "execution_count": 131,
   "id": "29e5df8e-2eab-431f-954e-6418ffd49fb9",
   "metadata": {},
   "outputs": [],
   "source": [
    "def split_samples(train_split, val_split, df):\n",
    "    _df = df.T.reset_index()\n",
    "    train_df = _df[pd.to_datetime(_df[_df.columns[0]]) < train_split].drop(_df.columns[0], axis=1).T\n",
    "    val_df = _df[(pd.to_datetime(_df[_df.columns[0]]) >= train_split)&(\n",
    "        pd.to_datetime(_df[_df.columns[0]]) < val_split)].drop(_df.columns[0], axis=1).T\n",
    "    test_df = _df[pd.to_datetime(_df[_df.columns[0]]) >= val_split].drop(_df.columns[0], axis=1).T\n",
    "\n",
    "    return train_df, val_df, test_df"
   ]
  },
  {
   "cell_type": "markdown",
   "id": "1b1fc552-86d4-4004-b9a3-49138946d60c",
   "metadata": {},
   "source": [
    "# Constructing Alphas"
   ]
  },
  {
   "cell_type": "markdown",
   "id": "2e600ed7-70e6-458f-b996-de4599163469",
   "metadata": {},
   "source": [
    "## 1. Reverse Alpha\n",
    "\n",
    "$\\frac{close(d-n)}{close(d-1)}$"
   ]
  },
  {
   "cell_type": "code",
   "execution_count": 132,
   "id": "e9d53a3d-c5c9-4477-acf2-9400257ad770",
   "metadata": {},
   "outputs": [],
   "source": [
    "train_close, val_close, test_close = split_samples(train_split_date, val_split_date, close_df)\n",
    "train_open, val_open, test_open = split_samples(train_split_date, val_split_date, open_df)\n",
    "train_high, val_high, test_high = split_samples(train_split_date, val_split_date, high_df)\n",
    "train_low, val_low, test_low = split_samples(train_split_date, val_split_date, low_df)\n",
    "train_volume, val_volume, test_volume = split_samples(train_split_date, val_split_date, volume_df)"
   ]
  },
  {
   "cell_type": "code",
   "execution_count": 133,
   "id": "6027ce9d-6377-4e83-af68-17d9e99dcdcd",
   "metadata": {},
   "outputs": [],
   "source": [
    "def make_first_alpha(close_df, window):\n",
    "    return (close_df.shift(window)/close_df.shift(1)).fillna(0)"
   ]
  },
  {
   "cell_type": "code",
   "execution_count": 137,
   "id": "91b3755a-2546-431c-aa6b-f5babcb742cc",
   "metadata": {},
   "outputs": [],
   "source": [
    "window = 6\n",
    "alpha_matrix1 = normalize(neutralize(make_first_alpha(train_close, window).T.to_numpy()))"
   ]
  },
  {
   "cell_type": "code",
   "execution_count": 143,
   "id": "79f71693-ec89-4b40-a59b-c8662e495916",
   "metadata": {},
   "outputs": [],
   "source": [
    "alpha = normalize(neutralize(alpha_matrix1))"
   ]
  },
  {
   "cell_type": "code",
   "execution_count": 144,
   "id": "803e2625-e75f-4e44-99b7-7ac77842b0fe",
   "metadata": {},
   "outputs": [
    {
     "name": "stdout",
     "output_type": "stream",
     "text": [
      "Neutrality test passed\n",
      "Normality test passed\n"
     ]
    }
   ],
   "source": [
    "test1(alpha)\n",
    "test2(alpha)"
   ]
  },
  {
   "cell_type": "code",
   "execution_count": 139,
   "id": "956ce648-d149-4e06-a137-47d0580a9b61",
   "metadata": {},
   "outputs": [
    {
     "ename": "AttributeError",
     "evalue": "'int' object has no attribute 'split'",
     "output_type": "error",
     "traceback": [
      "\u001b[0;31m---------------------------------------------------------------------------\u001b[0m",
      "\u001b[0;31mAttributeError\u001b[0m                            Traceback (most recent call last)",
      "Cell \u001b[0;32mIn[139], line 1\u001b[0m\n\u001b[0;32m----> 1\u001b[0m alpha_1_data, alpha_1_cumpnl \u001b[38;5;241m=\u001b[39m \u001b[43mAlphaStats\u001b[49m\u001b[43m(\u001b[49m\u001b[43malpha_matrix1\u001b[49m\u001b[43m,\u001b[49m\u001b[43m \u001b[49m\u001b[43mtrain_close\u001b[49m\u001b[43m)\u001b[49m\n\u001b[1;32m      2\u001b[0m alpha_1_data\u001b[38;5;241m.\u001b[39mhead()\n",
      "File \u001b[0;32m~/Desktop/Sirius Uni/DerivativesControl/helper.py:283\u001b[0m, in \u001b[0;36mAlphaStats\u001b[0;34m(alpha_states, df)\u001b[0m\n\u001b[1;32m    280\u001b[0m dates \u001b[38;5;241m=\u001b[39m df\u001b[38;5;241m.\u001b[39mcolumns[\u001b[38;5;241m1\u001b[39m:]\n\u001b[1;32m    282\u001b[0m \u001b[38;5;66;03m# get unique years in dates list\u001b[39;00m\n\u001b[0;32m--> 283\u001b[0m dates_years \u001b[38;5;241m=\u001b[39m np\u001b[38;5;241m.\u001b[39munique(np\u001b[38;5;241m.\u001b[39marray([date\u001b[38;5;241m.\u001b[39msplit(\u001b[38;5;124m'\u001b[39m\u001b[38;5;124m-\u001b[39m\u001b[38;5;124m'\u001b[39m)[\u001b[38;5;241m0\u001b[39m] \u001b[38;5;28;01mfor\u001b[39;00m date \u001b[38;5;129;01min\u001b[39;00m dates]))\n\u001b[1;32m    285\u001b[0m \u001b[38;5;66;03m# convert date strings into datetime.date to compare\u001b[39;00m\n\u001b[1;32m    286\u001b[0m dates \u001b[38;5;241m=\u001b[39m np\u001b[38;5;241m.\u001b[39marray(pd\u001b[38;5;241m.\u001b[39mto_datetime(dates,\u001b[38;5;28mformat\u001b[39m\u001b[38;5;241m=\u001b[39m\u001b[38;5;124m'\u001b[39m\u001b[38;5;124m%\u001b[39m\u001b[38;5;124mY-\u001b[39m\u001b[38;5;124m%\u001b[39m\u001b[38;5;124mm-\u001b[39m\u001b[38;5;132;01m%d\u001b[39;00m\u001b[38;5;124m'\u001b[39m)\u001b[38;5;241m.\u001b[39mdate)\n",
      "File \u001b[0;32m~/Desktop/Sirius Uni/DerivativesControl/helper.py:283\u001b[0m, in \u001b[0;36m<listcomp>\u001b[0;34m(.0)\u001b[0m\n\u001b[1;32m    280\u001b[0m dates \u001b[38;5;241m=\u001b[39m df\u001b[38;5;241m.\u001b[39mcolumns[\u001b[38;5;241m1\u001b[39m:]\n\u001b[1;32m    282\u001b[0m \u001b[38;5;66;03m# get unique years in dates list\u001b[39;00m\n\u001b[0;32m--> 283\u001b[0m dates_years \u001b[38;5;241m=\u001b[39m np\u001b[38;5;241m.\u001b[39munique(np\u001b[38;5;241m.\u001b[39marray([\u001b[43mdate\u001b[49m\u001b[38;5;241;43m.\u001b[39;49m\u001b[43msplit\u001b[49m(\u001b[38;5;124m'\u001b[39m\u001b[38;5;124m-\u001b[39m\u001b[38;5;124m'\u001b[39m)[\u001b[38;5;241m0\u001b[39m] \u001b[38;5;28;01mfor\u001b[39;00m date \u001b[38;5;129;01min\u001b[39;00m dates]))\n\u001b[1;32m    285\u001b[0m \u001b[38;5;66;03m# convert date strings into datetime.date to compare\u001b[39;00m\n\u001b[1;32m    286\u001b[0m dates \u001b[38;5;241m=\u001b[39m np\u001b[38;5;241m.\u001b[39marray(pd\u001b[38;5;241m.\u001b[39mto_datetime(dates,\u001b[38;5;28mformat\u001b[39m\u001b[38;5;241m=\u001b[39m\u001b[38;5;124m'\u001b[39m\u001b[38;5;124m%\u001b[39m\u001b[38;5;124mY-\u001b[39m\u001b[38;5;124m%\u001b[39m\u001b[38;5;124mm-\u001b[39m\u001b[38;5;132;01m%d\u001b[39;00m\u001b[38;5;124m'\u001b[39m)\u001b[38;5;241m.\u001b[39mdate)\n",
      "\u001b[0;31mAttributeError\u001b[0m: 'int' object has no attribute 'split'"
     ]
    }
   ],
   "source": [
    "alpha_1_data, alpha_1_cumpnl = AlphaStats(alpha_matrix1, train_close)\n",
    "alpha_1_data.head()"
   ]
  },
  {
   "cell_type": "code",
   "execution_count": null,
   "id": "bc4599f8-31d0-4b21-a3b2-827c5724e636",
   "metadata": {},
   "outputs": [],
   "source": []
  }
 ],
 "metadata": {
  "kernelspec": {
   "display_name": "venv",
   "language": "python",
   "name": "venv"
  },
  "language_info": {
   "codemirror_mode": {
    "name": "ipython",
    "version": 3
   },
   "file_extension": ".py",
   "mimetype": "text/x-python",
   "name": "python",
   "nbconvert_exporter": "python",
   "pygments_lexer": "ipython3",
   "version": "3.9.13"
  }
 },
 "nbformat": 4,
 "nbformat_minor": 5
}
