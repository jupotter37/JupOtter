{
 "cells": [
  {
   "cell_type": "code",
   "execution_count": 1,
   "metadata": {},
   "outputs": [],
   "source": [
    "import os"
   ]
  },
  {
   "cell_type": "code",
   "execution_count": 2,
   "metadata": {},
   "outputs": [],
   "source": [
    "os.chdir(r'c:\\Users\\Corey\\Dev\\todo_api')\n",
    "from tasks import TaskList, Task\n",
    "from templates import TemplateList, Template"
   ]
  },
  {
   "cell_type": "code",
   "execution_count": 3,
   "metadata": {},
   "outputs": [],
   "source": [
    "my_list  = TaskList()"
   ]
  },
  {
   "cell_type": "code",
   "execution_count": 4,
   "metadata": {},
   "outputs": [],
   "source": [
    "current = my_list.tasks_by_parent('Tasks')"
   ]
  },
  {
   "cell_type": "code",
   "execution_count": 8,
   "metadata": {},
   "outputs": [
    {
     "name": "stdout",
     "output_type": "stream",
     "text": [
      "[<tasks.Task object at 0x000001E67ECF6250>]\n",
      "{'name': 'Today', 'parent': None, 'status': 'in_progress', 'task_id': 'be444b84-47ed-42dd-9d87-c6e16b1e7f01', 'timestamps': {'created': '2024-08-05T14:08:28.779291+00:00', 'due': '2024-08-05T22:00:00+00:00', 'updated': '2024-08-09T06:46:22.891011+00:00'}, 'ts_created': '2024-08-05T14:08:28.779291+00:00', 'ts_due': '2024-08-05T22:00:00+00:00', 'ts_updated': '2024-08-05T14:51:37.561561+00:00', 'type': 'task'}\n"
     ]
    }
   ],
   "source": [
    "print(current)\n",
    "print(current[0].data)"
   ]
  },
  {
   "cell_type": "code",
   "execution_count": 6,
   "metadata": {},
   "outputs": [
    {
     "ename": "AttributeError",
     "evalue": "'str' object has no attribute 'data'",
     "output_type": "error",
     "traceback": [
      "\u001b[1;31m---------------------------------------------------------------------------\u001b[0m",
      "\u001b[1;31mAttributeError\u001b[0m                            Traceback (most recent call last)",
      "Cell \u001b[1;32mIn[6], line 1\u001b[0m\n\u001b[1;32m----> 1\u001b[0m current \u001b[38;5;241m=\u001b[39m my_list\u001b[38;5;241m.\u001b[39mtasks_by_parent(my_list\u001b[38;5;241m.\u001b[39mtask_by_name(\u001b[38;5;124m'\u001b[39m\u001b[38;5;124mToday\u001b[39m\u001b[38;5;124m'\u001b[39m)\u001b[38;5;241m.\u001b[39mtask_id)\n\u001b[0;32m      2\u001b[0m current\n",
      "File \u001b[1;32mc:\\Users\\corey\\Dev\\todo_api\\tasks.py:196\u001b[0m, in \u001b[0;36mTaskList.task_by_name\u001b[1;34m(self, task_name, parent)\u001b[0m\n\u001b[0;32m    194\u001b[0m current_task_list \u001b[38;5;241m=\u001b[39m \u001b[38;5;28mself\u001b[39m\u001b[38;5;241m.\u001b[39mtasks_by_parent(parent)\n\u001b[0;32m    195\u001b[0m \u001b[38;5;28;01mfor\u001b[39;00m task \u001b[38;5;129;01min\u001b[39;00m current_task_list:\n\u001b[1;32m--> 196\u001b[0m     \u001b[38;5;28;01mif\u001b[39;00m task\u001b[38;5;241m.\u001b[39mdata[\u001b[38;5;124m'\u001b[39m\u001b[38;5;124mname\u001b[39m\u001b[38;5;124m'\u001b[39m] \u001b[38;5;241m==\u001b[39m task_name:\n\u001b[0;32m    197\u001b[0m         \u001b[38;5;28;01mreturn\u001b[39;00m task\n\u001b[0;32m    198\u001b[0m \u001b[38;5;66;03m# not found, check children:\u001b[39;00m\n",
      "\u001b[1;31mAttributeError\u001b[0m: 'str' object has no attribute 'data'"
     ]
    }
   ],
   "source": [
    "current = my_list.tasks_by_parent(my_list.task_by_name('Today').task_id)\n",
    "current"
   ]
  },
  {
   "cell_type": "code",
   "execution_count": null,
   "metadata": {},
   "outputs": [],
   "source": [
    "template_List = TemplateList()"
   ]
  },
  {
   "cell_type": "code",
   "execution_count": null,
   "metadata": {},
   "outputs": [],
   "source": [
    "my_tmp = template_List.templates[0]"
   ]
  },
  {
   "cell_type": "code",
   "execution_count": null,
   "metadata": {},
   "outputs": [
    {
     "data": {
      "text/plain": [
       "{'name': 'Test Template Task Updated',\n",
       " 'template_id': '5f888420-144a-4915-b481-088364226a50',\n",
       " 'timestamps': {'created': '2024-08-09T03:14:23.286651+00:00'},\n",
       " 'type': 'daily',\n",
       " 'days': [0, 1, 2, 3, 4, 5, 6]}"
      ]
     },
     "execution_count": 9,
     "metadata": {},
     "output_type": "execute_result"
    }
   ],
   "source": [
    "my_tmp.data"
   ]
  },
  {
   "cell_type": "code",
   "execution_count": null,
   "metadata": {},
   "outputs": [
    {
     "name": "stdout",
     "output_type": "stream",
     "text": [
      "Test Template Task Updated [daily]: no due date\n"
     ]
    }
   ],
   "source": [
    "print(my_tmp)"
   ]
  },
  {
   "cell_type": "code",
   "execution_count": null,
   "metadata": {},
   "outputs": [],
   "source": [
    "my_tmp.data['days'] = list(range(7))"
   ]
  },
  {
   "cell_type": "code",
   "execution_count": null,
   "metadata": {},
   "outputs": [
    {
     "data": {
      "text/plain": [
       "datetime.datetime(2024, 8, 10, 16, 0, 37, 153893)"
      ]
     },
     "execution_count": 12,
     "metadata": {},
     "output_type": "execute_result"
    }
   ],
   "source": [
    "from datetime import datetime\n",
    "\n",
    "now = datetime.now()\n",
    "now"
   ]
  },
  {
   "cell_type": "code",
   "execution_count": 3,
   "metadata": {},
   "outputs": [
    {
     "name": "stdout",
     "output_type": "stream",
     "text": [
      "{'timestamps': {'due': 'test21'}}\n"
     ]
    }
   ],
   "source": [
    "key = 'timestamps.due'\n",
    "value = 'test21'\n",
    "\n",
    "# Split the key by periods\n",
    "keys = key.split('.')\n",
    "d = {}\n",
    "current_dict = d\n",
    "\n",
    "# Iterate through the keys except the last one to create or traverse nested dictionaries\n",
    "for k in keys[:-1]:\n",
    "    if k not in current_dict:\n",
    "        current_dict[k] = {}\n",
    "    current_dict = current_dict[k]\n",
    "\n",
    "# Set the final key to the value\n",
    "current_dict[keys[-1]] = value\n",
    "\n",
    "print(d)"
   ]
  },
  {
   "cell_type": "code",
   "execution_count": null,
   "metadata": {},
   "outputs": [
    {
     "name": "stdout",
     "output_type": "stream",
     "text": [
      "Apply Test Template Task Updated [daily]: no due date\n",
      "Apply Test Monthly [monthly]: no due date\n",
      "Apply Test Monthly [monthly]: no due date\n"
     ]
    }
   ],
   "source": [
    "template_List.fetch_all()\n",
    "\n",
    "now = datetime.now()\n",
    "for tmplt in template_List.templates:\n",
    "    if tmplt.type == 'daily':\n",
    "        if now.weekday() in tmplt.days:\n",
    "            print(f\"Apply {tmplt}\")\n",
    "            # check to see that a task with template_id = this template_id doesn't already exist with this due_date\n",
    "    if tmplt.type == 'monthly':\n",
    "        if now.day in tmplt.days:\n",
    "            print(f\"Apply {tmplt}\")\n",
    "            # check to see that a task with template_id = this template_id doesn't already exist with this due_date\n",
    "            # FIXME: this should probably look at at teh next N days and populate instead of today.\n",
    "            # or put a days aheadd setting to say when it gets created"
   ]
  },
  {
   "cell_type": "code",
   "execution_count": null,
   "metadata": {},
   "outputs": [
    {
     "name": "stdout",
     "output_type": "stream",
     "text": [
      "{\n",
      "    \"name\": \"Test Monthly\",\n",
      "    \"type\": \"monthly\",\n",
      "    \"days\": [\n",
      "        5,\n",
      "        10,\n",
      "        15,\n",
      "        20,\n",
      "        25,\n",
      "        30\n",
      "    ]\n",
      "}\n"
     ]
    }
   ],
   "source": [
    "new_tmp = {\n",
    "    'name': 'Test Monthly',\n",
    "    'type': 'monthly',\n",
    "    'days': [5, 10, 15, 20, 25, 30]\n",
    "}\n",
    "\n",
    "response = template_List.add_template(template=new_tmp)"
   ]
  },
  {
   "cell_type": "code",
   "execution_count": null,
   "metadata": {},
   "outputs": [
    {
     "data": {
      "text/plain": [
       "{'message': 'Template created successfully',\n",
       " 'template_id': '3a265cfe-c63f-44a6-b2e8-df9d74cca072'}"
      ]
     },
     "execution_count": 33,
     "metadata": {},
     "output_type": "execute_result"
    }
   ],
   "source": [
    "response"
   ]
  },
  {
   "cell_type": "code",
   "execution_count": null,
   "metadata": {},
   "outputs": [
    {
     "data": {
      "text/plain": [
       "[<templates.Template at 0x1e485b40f10>]"
      ]
     },
     "execution_count": 35,
     "metadata": {},
     "output_type": "execute_result"
    }
   ],
   "source": [
    "template_List.templates"
   ]
  },
  {
   "cell_type": "code",
   "execution_count": null,
   "metadata": {},
   "outputs": [],
   "source": [
    "response = template_List.get(path=\"template\")"
   ]
  },
  {
   "cell_type": "code",
   "execution_count": null,
   "metadata": {},
   "outputs": [
    {
     "data": {
      "text/plain": [
       "[{'name': 'Test Template Task Updated',\n",
       "  'template_id': '5f888420-144a-4915-b481-088364226a50',\n",
       "  'timestamps': {'created': '2024-08-09T03:14:23.286651+00:00'},\n",
       "  'type': 'daily'},\n",
       " {'days': [5, 10, 15, 20, 25, 30],\n",
       "  'name': 'Test Monthly',\n",
       "  'template_id': '49802527-5b39-4bae-9bfb-459db075cb1a',\n",
       "  'timestamps': {'created': '2024-08-10T20:50:36.503360+00:00'},\n",
       "  'type': 'monthly'},\n",
       " {'days': [5, 10, 15, 20, 25, 30],\n",
       "  'name': 'Test Monthly',\n",
       "  'template_id': '3a265cfe-c63f-44a6-b2e8-df9d74cca072',\n",
       "  'timestamps': {'created': '2024-08-10T20:54:17.692656+00:00'},\n",
       "  'type': 'monthly'}]"
      ]
     },
     "execution_count": 39,
     "metadata": {},
     "output_type": "execute_result"
    }
   ],
   "source": [
    "response"
   ]
  },
  {
   "cell_type": "code",
   "execution_count": null,
   "metadata": {},
   "outputs": [
    {
     "data": {
      "text/plain": [
       "[<templates.Template at 0x1e485fa4150>,\n",
       " <templates.Template at 0x1e486cbc8d0>,\n",
       " <templates.Template at 0x1e486ce3490>]"
      ]
     },
     "execution_count": 40,
     "metadata": {},
     "output_type": "execute_result"
    }
   ],
   "source": [
    "template_list = template_List\n",
    "t_list = template_list.as_object_list(template_list.get(path=\"template\"))\n",
    "t_list"
   ]
  },
  {
   "cell_type": "code",
   "execution_count": null,
   "metadata": {},
   "outputs": [
    {
     "name": "stdout",
     "output_type": "stream",
     "text": [
      "Test Template Task Updated [daily]: no due date\n",
      "Test Monthly [monthly]: no due date\n",
      "Test Monthly [monthly]: no due date\n"
     ]
    }
   ],
   "source": [
    "for t in t_list:\n",
    "    print(t)"
   ]
  },
  {
   "cell_type": "code",
   "execution_count": null,
   "metadata": {},
   "outputs": [],
   "source": [
    "t_list = template_list.fetch_all()"
   ]
  },
  {
   "cell_type": "code",
   "execution_count": null,
   "metadata": {},
   "outputs": [],
   "source": []
  }
 ],
 "metadata": {
  "kernelspec": {
   "display_name": "Python 3",
   "language": "python",
   "name": "python3"
  },
  "language_info": {
   "codemirror_mode": {
    "name": "ipython",
    "version": 3
   },
   "file_extension": ".py",
   "mimetype": "text/x-python",
   "name": "python",
   "nbconvert_exporter": "python",
   "pygments_lexer": "ipython3",
   "version": "3.11.7"
  }
 },
 "nbformat": 4,
 "nbformat_minor": 2
}
