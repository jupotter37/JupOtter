{
 "cells": [
  {
   "cell_type": "markdown",
   "metadata": {},
   "source": [
    "# Part 1"
   ]
  },
  {
   "cell_type": "code",
   "execution_count": 1,
   "metadata": {},
   "outputs": [],
   "source": [
    "import pandas as pd\n",
    "import numpy as np"
   ]
  },
  {
   "cell_type": "code",
   "execution_count": 217,
   "metadata": {},
   "outputs": [
    {
     "name": "stdout",
     "output_type": "stream",
     "text": [
      "Time:      71530\n",
      "Distance:  940200\n"
     ]
    }
   ],
   "source": [
    "with open(\"input/day5.txt\", \"r\") as file:\n",
    "    contents = file.read()\n",
    "    \n",
    "print(contents)\n"
   ]
  },
  {
   "cell_type": "code",
   "execution_count": 172,
   "metadata": {},
   "outputs": [],
   "source": [
    "contents = contents.split(\"\\n\\n\")"
   ]
  },
  {
   "cell_type": "code",
   "execution_count": 173,
   "metadata": {},
   "outputs": [],
   "source": [
    "seed_list = contents[0].split(\" \")[1:]\n"
   ]
  },
  {
   "cell_type": "code",
   "execution_count": 174,
   "metadata": {},
   "outputs": [],
   "source": [
    "seed_list = [int(seed) for seed in seed_list]"
   ]
  },
  {
   "cell_type": "code",
   "execution_count": null,
   "metadata": {},
   "outputs": [],
   "source": []
  },
  {
   "cell_type": "code",
   "execution_count": 175,
   "metadata": {},
   "outputs": [
    {
     "data": {
      "text/plain": [
       "['4170452318 3837406401 124514978',\n",
       " '2212408060 1593776674 105988696',\n",
       " '3837406401 4016132523 278834773',\n",
       " '1475766470 1699765370 492158296',\n",
       " '3698488336 1475766470 118010204',\n",
       " '2318396756 2191923666 46351359',\n",
       " '4116241174 3961921379 54211144',\n",
       " '2193579298 3791037069 18828762',\n",
       " '2364748115 2578360543 354997036',\n",
       " '3085506703 3439828590 106510622',\n",
       " '1967924766 3546339212 219021823',\n",
       " '2719745151 3765361035 25676034',\n",
       " '2745421185 2238275025 340085518',\n",
       " '2186946589 3809865831 6632709',\n",
       " '3192017325 2933357579 506471011']"
      ]
     },
     "execution_count": 175,
     "metadata": {},
     "output_type": "execute_result"
    }
   ],
   "source": [
    "i = 0\n",
    "wiersz = contents[1:][i].split(\"\\n\")[1:]\n",
    "wiersz"
   ]
  },
  {
   "cell_type": "code",
   "execution_count": 176,
   "metadata": {},
   "outputs": [
    {
     "data": {
      "text/html": [
       "<div>\n",
       "<style scoped>\n",
       "    .dataframe tbody tr th:only-of-type {\n",
       "        vertical-align: middle;\n",
       "    }\n",
       "\n",
       "    .dataframe tbody tr th {\n",
       "        vertical-align: top;\n",
       "    }\n",
       "\n",
       "    .dataframe thead th {\n",
       "        text-align: right;\n",
       "    }\n",
       "</style>\n",
       "<table border=\"1\" class=\"dataframe\">\n",
       "  <thead>\n",
       "    <tr style=\"text-align: right;\">\n",
       "      <th></th>\n",
       "      <th>range-start</th>\n",
       "      <th>source-range-start</th>\n",
       "      <th>length</th>\n",
       "    </tr>\n",
       "  </thead>\n",
       "  <tbody>\n",
       "    <tr>\n",
       "      <th>0</th>\n",
       "      <td>50</td>\n",
       "      <td>98</td>\n",
       "      <td>2</td>\n",
       "    </tr>\n",
       "    <tr>\n",
       "      <th>1</th>\n",
       "      <td>52</td>\n",
       "      <td>50</td>\n",
       "      <td>48</td>\n",
       "    </tr>\n",
       "  </tbody>\n",
       "</table>\n",
       "</div>"
      ],
      "text/plain": [
       "   range-start  source-range-start  length\n",
       "0           50                  98       2\n",
       "1           52                  50      48"
      ]
     },
     "execution_count": 176,
     "metadata": {},
     "output_type": "execute_result"
    }
   ],
   "source": [
    "def df_from_wiersz(wiersz):\n",
    "    df = pd.DataFrame([s.split(\" \") for s in wiersz], \n",
    "                      columns=[\"range-start\",\"source-range-start\", \"length\"])\n",
    "    df['range-start'] = df['range-start'].astype('int64')\n",
    "    df['source-range-start'] = df['source-range-start'].astype('int64')\n",
    "    df['length'] = df['length'].astype('int64')\n",
    "    return df\n",
    "\n",
    "test_wiersz = ['50 98 2', '52 50 48']\n",
    "df_from_wiersz(test_wiersz) == pd.DataFrame([['50', '98', '2'], ['52', '50', '48']], \n",
    "                                            columns=[\"range-start\",\"source-range-start\", \"length\"])\n",
    "df_from_wiersz(test_wiersz)"
   ]
  },
  {
   "cell_type": "code",
   "execution_count": 177,
   "metadata": {},
   "outputs": [],
   "source": [
    "seed = 79\n",
    "# calculate seed \n",
    "df = df_from_wiersz(test_wiersz)\n",
    "\n",
    "def calculate_new_seed_from_map(seed, mapka):\n",
    "    # if seed w danym wierszu, zamien wartosc seed na nowa, odpowiednio przesunieta\n",
    "    for index, wiersz in mapka.iterrows():\n",
    "        if seed >= wiersz['source-range-start'] and seed <= wiersz['source-range-start'] + wiersz['length']:\n",
    "            #print('prawidlowy wiersz: ', wiersz)\n",
    "            przesunac_wartosc_jesli_w_zakresie = wiersz['range-start']-wiersz['source-range-start']\n",
    "            nowa_wartosc = seed + przesunac_wartosc_jesli_w_zakresie\n",
    "            #print('nowa_wartość: ', nowa_wartosc)\n",
    "            return nowa_wartosc\n",
    "        else:\n",
    "            pass\n",
    "    # gdy nie ma w zadnym zbiorze, zwroc seed\n",
    "    return seed\n",
    "\n"
   ]
  },
  {
   "cell_type": "code",
   "execution_count": 178,
   "metadata": {},
   "outputs": [
    {
     "data": {
      "text/plain": [
       "81"
      ]
     },
     "execution_count": 178,
     "metadata": {},
     "output_type": "execute_result"
    }
   ],
   "source": [
    "calculate_new_seed_from_map(seed, df)"
   ]
  },
  {
   "cell_type": "code",
   "execution_count": 179,
   "metadata": {},
   "outputs": [
    {
     "ename": "AttributeError",
     "evalue": "'DataFrame' object has no attribute 'append'",
     "output_type": "error",
     "traceback": [
      "\u001b[1;31m---------------------------------------------------------------------------\u001b[0m",
      "\u001b[1;31mAttributeError\u001b[0m                            Traceback (most recent call last)",
      "\u001b[1;32m~\\AppData\\Local\\Temp\\ipykernel_33608\\301816727.py\u001b[0m in \u001b[0;36m?\u001b[1;34m()\u001b[0m\n\u001b[0;32m      1\u001b[0m \u001b[0mile_map\u001b[0m \u001b[1;33m=\u001b[0m \u001b[0mlen\u001b[0m\u001b[1;33m(\u001b[0m\u001b[0mcontents\u001b[0m\u001b[1;33m)\u001b[0m\u001b[1;33m-\u001b[0m\u001b[1;36m1\u001b[0m\u001b[1;33m\u001b[0m\u001b[1;33m\u001b[0m\u001b[0m\n\u001b[0;32m      2\u001b[0m \u001b[1;33m\u001b[0m\u001b[0m\n\u001b[0;32m      3\u001b[0m \u001b[1;32mfor\u001b[0m \u001b[0mj\u001b[0m \u001b[1;32min\u001b[0m \u001b[0mrange\u001b[0m\u001b[1;33m(\u001b[0m\u001b[0mile_map\u001b[0m\u001b[1;33m)\u001b[0m\u001b[1;33m:\u001b[0m\u001b[1;33m\u001b[0m\u001b[1;33m\u001b[0m\u001b[0m\n\u001b[0;32m      4\u001b[0m     \u001b[0mwiersz\u001b[0m \u001b[1;33m=\u001b[0m \u001b[0mcontents\u001b[0m\u001b[1;33m[\u001b[0m\u001b[1;36m1\u001b[0m\u001b[1;33m:\u001b[0m\u001b[1;33m]\u001b[0m\u001b[1;33m[\u001b[0m\u001b[0mj\u001b[0m\u001b[1;33m]\u001b[0m\u001b[1;33m.\u001b[0m\u001b[0msplit\u001b[0m\u001b[1;33m(\u001b[0m\u001b[1;34m\"\\n\"\u001b[0m\u001b[1;33m)\u001b[0m\u001b[1;33m[\u001b[0m\u001b[1;36m1\u001b[0m\u001b[1;33m:\u001b[0m\u001b[1;33m]\u001b[0m\u001b[1;33m\u001b[0m\u001b[1;33m\u001b[0m\u001b[0m\n\u001b[1;32m----> 5\u001b[1;33m     \u001b[0mdf\u001b[0m\u001b[1;33m.\u001b[0m\u001b[0mappend\u001b[0m\u001b[1;33m(\u001b[0m\u001b[0mdf_from_wiersz\u001b[0m\u001b[1;33m(\u001b[0m\u001b[0mwiersz\u001b[0m\u001b[1;33m)\u001b[0m\u001b[1;33m)\u001b[0m \u001b[1;31m# mapa\u001b[0m\u001b[1;33m\u001b[0m\u001b[1;33m\u001b[0m\u001b[0m\n\u001b[0m\u001b[0;32m      6\u001b[0m \u001b[1;33m\u001b[0m\u001b[0m\n\u001b[0;32m      7\u001b[0m \u001b[0mfinal\u001b[0m \u001b[1;33m=\u001b[0m \u001b[1;33m[\u001b[0m\u001b[1;33m]\u001b[0m\u001b[1;33m\u001b[0m\u001b[1;33m\u001b[0m\u001b[0m\n\u001b[0;32m      8\u001b[0m \u001b[1;32mfor\u001b[0m \u001b[0mseed\u001b[0m \u001b[1;32min\u001b[0m \u001b[0mseed_list\u001b[0m\u001b[1;33m:\u001b[0m\u001b[1;33m\u001b[0m\u001b[1;33m\u001b[0m\u001b[0m\n",
      "\u001b[1;32mc:\\ProgramData\\anaconda3\\Lib\\site-packages\\pandas\\core\\generic.py\u001b[0m in \u001b[0;36m?\u001b[1;34m(self, name)\u001b[0m\n\u001b[0;32m   5985\u001b[0m             \u001b[1;32mand\u001b[0m \u001b[0mname\u001b[0m \u001b[1;32mnot\u001b[0m \u001b[1;32min\u001b[0m \u001b[0mself\u001b[0m\u001b[1;33m.\u001b[0m\u001b[0m_accessors\u001b[0m\u001b[1;33m\u001b[0m\u001b[1;33m\u001b[0m\u001b[0m\n\u001b[0;32m   5986\u001b[0m             \u001b[1;32mand\u001b[0m \u001b[0mself\u001b[0m\u001b[1;33m.\u001b[0m\u001b[0m_info_axis\u001b[0m\u001b[1;33m.\u001b[0m\u001b[0m_can_hold_identifiers_and_holds_name\u001b[0m\u001b[1;33m(\u001b[0m\u001b[0mname\u001b[0m\u001b[1;33m)\u001b[0m\u001b[1;33m\u001b[0m\u001b[1;33m\u001b[0m\u001b[0m\n\u001b[0;32m   5987\u001b[0m         ):\n\u001b[0;32m   5988\u001b[0m             \u001b[1;32mreturn\u001b[0m \u001b[0mself\u001b[0m\u001b[1;33m[\u001b[0m\u001b[0mname\u001b[0m\u001b[1;33m]\u001b[0m\u001b[1;33m\u001b[0m\u001b[1;33m\u001b[0m\u001b[0m\n\u001b[1;32m-> 5989\u001b[1;33m         \u001b[1;32mreturn\u001b[0m \u001b[0mobject\u001b[0m\u001b[1;33m.\u001b[0m\u001b[0m__getattribute__\u001b[0m\u001b[1;33m(\u001b[0m\u001b[0mself\u001b[0m\u001b[1;33m,\u001b[0m \u001b[0mname\u001b[0m\u001b[1;33m)\u001b[0m\u001b[1;33m\u001b[0m\u001b[1;33m\u001b[0m\u001b[0m\n\u001b[0m",
      "\u001b[1;31mAttributeError\u001b[0m: 'DataFrame' object has no attribute 'append'"
     ]
    }
   ],
   "source": [
    "ile_map = len(contents)-1\n",
    "\n",
    "for j in range(ile_map):  \n",
    "    wiersz = contents[1:][j].split(\"\\n\")[1:]\n",
    "    df.append(df_from_wiersz(wiersz)) # mapa\n",
    "\n",
    "final = []\n",
    "for seed in seed_list:\n",
    "    for i in range(ile_map):\n",
    "        seed = calculate_new_seed_from_map(seed, df[i])\n",
    "        #print(seed)\n",
    "    final.append(seed)\n",
    "min(final)"
   ]
  },
  {
   "cell_type": "markdown",
   "metadata": {},
   "source": [
    "min to 484023871 xD"
   ]
  },
  {
   "cell_type": "markdown",
   "metadata": {},
   "source": [
    "# PART 2"
   ]
  },
  {
   "cell_type": "code",
   "execution_count": 180,
   "metadata": {},
   "outputs": [
    {
     "data": {
      "text/plain": [
       "7"
      ]
     },
     "execution_count": 180,
     "metadata": {},
     "output_type": "execute_result"
    }
   ],
   "source": [
    "ile_map = len(contents)-1\n",
    "ile_map"
   ]
  },
  {
   "cell_type": "code",
   "execution_count": 190,
   "metadata": {},
   "outputs": [
    {
     "name": "stdout",
     "output_type": "stream",
     "text": [
      "[2276375722, 160148132, 3424292843, 82110297, 1692203766, 342813967, 3289792522, 103516087, 2590548294, 590357761, 1365412380, 80084180, 3574751516, 584781136, 4207087048, 36194356, 1515742281, 174009980, 6434225, 291842774]\n",
      "1.0  para start\n",
      " caly zbior - tak\n",
      " jest w drugiej polowie\n",
      "2.0  para start\n",
      " caly zbior - tak\n",
      " jest w drugiej polowie\n",
      "3.0  para start\n",
      " caly zbior - tak\n",
      " jest w drugiej polowie\n",
      "4.0  para start\n",
      " caly zbior - tak\n",
      " jest w drugiej polowie\n",
      "5.0  para start\n",
      " caly zbior - tak\n",
      " jest w drugiej polowie\n",
      "6.0  para start\n",
      " caly zbior - nie\n",
      "7.0  para start\n",
      " caly zbior - tak\n",
      " jest w drugiej polowie\n",
      "8.0  para start\n",
      " caly zbior - tak\n",
      " jest w drugiej polowie\n",
      "9.0  para start\n",
      " caly zbior - tak\n",
      " jest w drugiej polowie\n",
      "10.0  para start\n",
      " caly zbior - nie\n"
     ]
    },
    {
     "data": {
      "text/plain": [
       "inf"
      ]
     },
     "execution_count": 190,
     "metadata": {},
     "output_type": "execute_result"
    }
   ],
   "source": [
    "#######\n",
    "print(seed_list)\n",
    "final = float('inf')  # Initialize final with positive infinity\n",
    "df = []\n",
    "\n",
    "for j in range(ile_map):  \n",
    "    wiersz = contents[1:][j].split(\"\\n\")[1:]\n",
    "    df.append(df_from_wiersz(wiersz)) # mapa\n",
    "\n",
    "# dla kazdej pary\n",
    "for i in range(0, len(seed_list), 2):\n",
    "    print(i/2+1,' para start')\n",
    "    start = seed_list[i]\n",
    "    length = seed_list[i+1]\n",
    "\n",
    "    # dla pierwszej mapy\n",
    "    for j in range(0,1):\n",
    "\n",
    "        #sprawdzic tez dla polowek (a potem rekurencja kurwa)\n",
    "        if calculate_new_seed_from_map(start, df[j]) == start and calculate_new_seed_from_map(start+length, df[j]) == start+length:\n",
    "            print(' caly zbior - nie')\n",
    "            \n",
    "\n",
    "        else:\n",
    "            print(' caly zbior - tak')\n",
    "            if calculate_new_seed_from_map(start, df[j]) == start and calculate_new_seed_from_map(start+length/2, df[j]) == start+length/2:\n",
    "                print(' nie ma w pierwszej polowie')\n",
    "            else:\n",
    "                print(' jest w drugiej polowie')\n",
    "\n",
    "            \n",
    "\n",
    "    \n",
    "        # # dla kazdego seeda\n",
    "        # for seed in range(start, start+length):\n",
    "        \n",
    "        # # dla kazdej mapy\n",
    "        #     for j in range(ile_map):\n",
    "        #         seed = calculate_new_seed_from_map(seed, df[j])\n",
    "        #     final = min(final, seed)  # Update final with the minimum seed value\n",
    "final"
   ]
  },
  {
   "cell_type": "markdown",
   "metadata": {},
   "source": [
    "[79, 14, 55, 13]\n",
    "1.0  para start\n",
    "2.0  para start\n",
    "46"
   ]
  },
  {
   "cell_type": "markdown",
   "metadata": {},
   "source": [
    "najdluzej schodzi ze sprawdzeniem tych wsyzstkich liczb\n",
    "> zamiast sprawdzać po kolei to sprawdzić najpierw czy wszystkie el. z pary należą do wiersza, jak tak to zmieniać\n",
    "\n",
    "teraz:\n",
    "seed: x, x+1, x+2 ... x+n \n",
    "przechodzimy przez całość pojedyńczo\n",
    "\n",
    "powinno być: \n",
    "jeśli pierwszy i ostatni mieści się w zakresie\n",
    "    sprawdzaj po kolei seedy\n",
    "    przechodz prez calosc pojedynczo\n",
    "jesli pierwszy i ostatni nie miesci sie w zakresie x:\n",
    "    "
   ]
  },
  {
   "cell_type": "markdown",
   "metadata": {},
   "source": [
    "teraz:\n",
    "sprawdzam pary-> każdy seed -> każda mapa\n",
    "czyli dostaje wynik po kolei dla kazdego seeda\n",
    "\n",
    "test:\n",
    "sprawdzam pary -> każda mapa -> każdy seed\n",
    "dostajemy każdą mapkę przeliczoną po kolei"
   ]
  },
  {
   "cell_type": "code",
   "execution_count": 196,
   "metadata": {},
   "outputs": [],
   "source": [
    "def calculate_new_seed_from_map(seed, j):\n",
    "    # if seed w danym wierszu, zamien wartosc seed na nowa, odpowiednio przesunieta\n",
    "    for index, wiersz in df[j].iterrows():\n",
    "        if seed >= wiersz['source-range-start'] and seed <= wiersz['source-range-start'] + wiersz['length']:\n",
    "            #print('prawidlowy wiersz: ', wiersz)\n",
    "            przesunac_wartosc_jesli_w_zakresie = wiersz['range-start']-wiersz['source-range-start']\n",
    "            nowa_wartosc = seed + przesunac_wartosc_jesli_w_zakresie\n",
    "            #print('nowa_wartość: ', nowa_wartosc)\n",
    "            return nowa_wartosc\n",
    "    # gdy nie ma w zadnym zbiorze, zwroc seed\n",
    "    return seed"
   ]
  },
  {
   "cell_type": "code",
   "execution_count": 202,
   "metadata": {},
   "outputs": [],
   "source": [
    "import itertools\n",
    "import "
   ]
  },
  {
   "cell_type": "code",
   "execution_count": 216,
   "metadata": {},
   "outputs": [
    {
     "name": "stdout",
     "output_type": "stream",
     "text": [
      "[2276375722, 160148132, 3424292843, 82110297, 1692203766, 342813967, 3289792522, 103516087, 2590548294, 590357761, 1365412380, 80084180, 3574751516, 584781136, 4207087048, 36194356, 1515742281, 174009980, 6434225, 291842774]\n",
      "1.0  para start\n",
      "594090181\n",
      "2.0  para start\n",
      "435512313\n",
      "3.0  para start\n",
      "322706170\n",
      "4.0  para start\n",
      "250966993\n",
      "5.0  para start\n",
      "250966993\n",
      "6.0  para start\n",
      "250966993\n",
      "7.0  para start\n",
      "146679088\n",
      "8.0  para start\n",
      "146679088\n",
      "9.0  para start\n",
      "146679088\n",
      "10.0  para start\n",
      "146679088\n"
     ]
    },
    {
     "data": {
      "text/plain": [
       "146679088"
      ]
     },
     "execution_count": 216,
     "metadata": {},
     "output_type": "execute_result"
    }
   ],
   "source": [
    "#######\n",
    "print(seed_list)\n",
    "final = float('inf')  # Initialize final with positive infinity\n",
    "df = []\n",
    "\n",
    "for j in range(ile_map):  \n",
    "    wiersz = contents[1:][j].split(\"\\n\")[1:]\n",
    "    df.append(df_from_wiersz(wiersz)) # mapa\n",
    "\n",
    "# dla kazdej pary\n",
    "for i in range(0, len(seed_list), 2):\n",
    "    print(i/2+1,' para start')\n",
    "    start = seed_list[i]\n",
    "    length = seed_list[i+1]\n",
    "\n",
    "    # co milion\n",
    "    for seed in range(start, start+length, 1000000):\n",
    "    # dla kazdej mapy\n",
    "        pierwotny = seed\n",
    "        for j in range(ile_map):\n",
    "            seed = calculate_new_seed_from_map(seed, j)\n",
    "        final = min(final,seed)  # Update final with the minimum seed value\n",
    "\n",
    "    print(final)\n",
    "final"
   ]
  },
  {
   "cell_type": "markdown",
   "metadata": {},
   "source": [
    "146679088"
   ]
  },
  {
   "cell_type": "code",
   "execution_count": null,
   "metadata": {},
   "outputs": [],
   "source": [
    "\n",
    "for j in range(ile_map):\n",
    "    seed = calculate_new_seed_from_map(seed, j)\n",
    "final = min(final,seed)  # Update final with the minimum seed value\n",
    "print(final)"
   ]
  },
  {
   "cell_type": "code",
   "execution_count": 214,
   "metadata": {},
   "outputs": [
    {
     "name": "stdout",
     "output_type": "stream",
     "text": [
      "7.0  para start\n",
      "146679088\n",
      "7.5  para start\n"
     ]
    },
    {
     "ename": "KeyboardInterrupt",
     "evalue": "",
     "output_type": "error",
     "traceback": [
      "\u001b[1;31m---------------------------------------------------------------------------\u001b[0m",
      "\u001b[1;31mKeyboardInterrupt\u001b[0m                         Traceback (most recent call last)",
      "\u001b[1;32mc:\\Users\\Dell\\Desktop\\projects\\adventofcode2023\\day5.ipynb Cell 23\u001b[0m line \u001b[0;36m1\n\u001b[0;32m      <a href='vscode-notebook-cell:/c%3A/Users/Dell/Desktop/projects/adventofcode2023/day5.ipynb#Y114sZmlsZQ%3D%3D?line=7'>8</a>\u001b[0m \u001b[39mfor\u001b[39;00m seed \u001b[39min\u001b[39;00m \u001b[39mrange\u001b[39m(start, start\u001b[39m+\u001b[39mlength, \u001b[39m100000\u001b[39m):\n\u001b[0;32m      <a href='vscode-notebook-cell:/c%3A/Users/Dell/Desktop/projects/adventofcode2023/day5.ipynb#Y114sZmlsZQ%3D%3D?line=8'>9</a>\u001b[0m \u001b[39m# dla kazdej mapy\u001b[39;00m\n\u001b[0;32m     <a href='vscode-notebook-cell:/c%3A/Users/Dell/Desktop/projects/adventofcode2023/day5.ipynb#Y114sZmlsZQ%3D%3D?line=9'>10</a>\u001b[0m     \u001b[39mfor\u001b[39;00m j \u001b[39min\u001b[39;00m \u001b[39mrange\u001b[39m(ile_map):\n\u001b[1;32m---> <a href='vscode-notebook-cell:/c%3A/Users/Dell/Desktop/projects/adventofcode2023/day5.ipynb#Y114sZmlsZQ%3D%3D?line=10'>11</a>\u001b[0m         seed \u001b[39m=\u001b[39m calculate_new_seed_from_map(seed, j)\n\u001b[0;32m     <a href='vscode-notebook-cell:/c%3A/Users/Dell/Desktop/projects/adventofcode2023/day5.ipynb#Y114sZmlsZQ%3D%3D?line=11'>12</a>\u001b[0m     final \u001b[39m=\u001b[39m \u001b[39mmin\u001b[39m(final,seed)  \u001b[39m# Update final with the minimum seed value\u001b[39;00m\n\u001b[0;32m     <a href='vscode-notebook-cell:/c%3A/Users/Dell/Desktop/projects/adventofcode2023/day5.ipynb#Y114sZmlsZQ%3D%3D?line=12'>13</a>\u001b[0m \u001b[39mprint\u001b[39m(final)\n",
      "\u001b[1;32mc:\\Users\\Dell\\Desktop\\projects\\adventofcode2023\\day5.ipynb Cell 23\u001b[0m line \u001b[0;36m3\n\u001b[0;32m      <a href='vscode-notebook-cell:/c%3A/Users/Dell/Desktop/projects/adventofcode2023/day5.ipynb#Y114sZmlsZQ%3D%3D?line=0'>1</a>\u001b[0m \u001b[39mdef\u001b[39;00m \u001b[39mcalculate_new_seed_from_map\u001b[39m(seed, j):\n\u001b[0;32m      <a href='vscode-notebook-cell:/c%3A/Users/Dell/Desktop/projects/adventofcode2023/day5.ipynb#Y114sZmlsZQ%3D%3D?line=1'>2</a>\u001b[0m     \u001b[39m# if seed w danym wierszu, zamien wartosc seed na nowa, odpowiednio przesunieta\u001b[39;00m\n\u001b[1;32m----> <a href='vscode-notebook-cell:/c%3A/Users/Dell/Desktop/projects/adventofcode2023/day5.ipynb#Y114sZmlsZQ%3D%3D?line=2'>3</a>\u001b[0m     \u001b[39mfor\u001b[39;00m index, wiersz \u001b[39min\u001b[39;00m df[j]\u001b[39m.\u001b[39miterrows():\n\u001b[0;32m      <a href='vscode-notebook-cell:/c%3A/Users/Dell/Desktop/projects/adventofcode2023/day5.ipynb#Y114sZmlsZQ%3D%3D?line=3'>4</a>\u001b[0m         \u001b[39mif\u001b[39;00m seed \u001b[39m>\u001b[39m\u001b[39m=\u001b[39m wiersz[\u001b[39m'\u001b[39m\u001b[39msource-range-start\u001b[39m\u001b[39m'\u001b[39m] \u001b[39mand\u001b[39;00m seed \u001b[39m<\u001b[39m\u001b[39m=\u001b[39m wiersz[\u001b[39m'\u001b[39m\u001b[39msource-range-start\u001b[39m\u001b[39m'\u001b[39m] \u001b[39m+\u001b[39m wiersz[\u001b[39m'\u001b[39m\u001b[39mlength\u001b[39m\u001b[39m'\u001b[39m]:\n\u001b[0;32m      <a href='vscode-notebook-cell:/c%3A/Users/Dell/Desktop/projects/adventofcode2023/day5.ipynb#Y114sZmlsZQ%3D%3D?line=4'>5</a>\u001b[0m             \u001b[39m#print('prawidlowy wiersz: ', wiersz)\u001b[39;00m\n\u001b[0;32m      <a href='vscode-notebook-cell:/c%3A/Users/Dell/Desktop/projects/adventofcode2023/day5.ipynb#Y114sZmlsZQ%3D%3D?line=5'>6</a>\u001b[0m             przesunac_wartosc_jesli_w_zakresie \u001b[39m=\u001b[39m wiersz[\u001b[39m'\u001b[39m\u001b[39mrange-start\u001b[39m\u001b[39m'\u001b[39m]\u001b[39m-\u001b[39mwiersz[\u001b[39m'\u001b[39m\u001b[39msource-range-start\u001b[39m\u001b[39m'\u001b[39m]\n",
      "File \u001b[1;32mc:\\ProgramData\\anaconda3\\Lib\\site-packages\\pandas\\core\\frame.py:1399\u001b[0m, in \u001b[0;36mDataFrame.iterrows\u001b[1;34m(self)\u001b[0m\n\u001b[0;32m   1397\u001b[0m klass \u001b[39m=\u001b[39m \u001b[39mself\u001b[39m\u001b[39m.\u001b[39m_constructor_sliced\n\u001b[0;32m   1398\u001b[0m using_cow \u001b[39m=\u001b[39m using_copy_on_write()\n\u001b[1;32m-> 1399\u001b[0m \u001b[39mfor\u001b[39;00m k, v \u001b[39min\u001b[39;00m \u001b[39mzip\u001b[39m(\u001b[39mself\u001b[39m\u001b[39m.\u001b[39mindex, \u001b[39mself\u001b[39m\u001b[39m.\u001b[39mvalues):\n\u001b[0;32m   1400\u001b[0m     s \u001b[39m=\u001b[39m klass(v, index\u001b[39m=\u001b[39mcolumns, name\u001b[39m=\u001b[39mk)\u001b[39m.\u001b[39m__finalize__(\u001b[39mself\u001b[39m)\n\u001b[0;32m   1401\u001b[0m     \u001b[39mif\u001b[39;00m using_cow \u001b[39mand\u001b[39;00m \u001b[39mself\u001b[39m\u001b[39m.\u001b[39m_mgr\u001b[39m.\u001b[39mis_single_block:\n",
      "File \u001b[1;32mc:\\ProgramData\\anaconda3\\Lib\\site-packages\\pandas\\core\\frame.py:11360\u001b[0m, in \u001b[0;36mDataFrame.values\u001b[1;34m(self)\u001b[0m\n\u001b[0;32m  11286\u001b[0m \u001b[39m@property\u001b[39m\n\u001b[0;32m  11287\u001b[0m \u001b[39mdef\u001b[39;00m \u001b[39mvalues\u001b[39m(\u001b[39mself\u001b[39m) \u001b[39m-\u001b[39m\u001b[39m>\u001b[39m np\u001b[39m.\u001b[39mndarray:\n\u001b[0;32m  11288\u001b[0m \u001b[39m    \u001b[39m\u001b[39m\"\"\"\u001b[39;00m\n\u001b[0;32m  11289\u001b[0m \u001b[39m    Return a Numpy representation of the DataFrame.\u001b[39;00m\n\u001b[0;32m  11290\u001b[0m \n\u001b[1;32m   (...)\u001b[0m\n\u001b[0;32m  11358\u001b[0m \u001b[39m           ['monkey', nan, None]], dtype=object)\u001b[39;00m\n\u001b[0;32m  11359\u001b[0m \u001b[39m    \"\"\"\u001b[39;00m\n\u001b[1;32m> 11360\u001b[0m     \u001b[39mreturn\u001b[39;00m \u001b[39mself\u001b[39m\u001b[39m.\u001b[39m_mgr\u001b[39m.\u001b[39mas_array()\n",
      "File \u001b[1;32mc:\\ProgramData\\anaconda3\\Lib\\site-packages\\pandas\\core\\internals\\managers.py:1732\u001b[0m, in \u001b[0;36mBlockManager.as_array\u001b[1;34m(self, dtype, copy, na_value)\u001b[0m\n\u001b[0;32m   1730\u001b[0m         arr\u001b[39m.\u001b[39mflags\u001b[39m.\u001b[39mwriteable \u001b[39m=\u001b[39m \u001b[39mFalse\u001b[39;00m\n\u001b[0;32m   1731\u001b[0m \u001b[39melse\u001b[39;00m:\n\u001b[1;32m-> 1732\u001b[0m     arr \u001b[39m=\u001b[39m \u001b[39mself\u001b[39m\u001b[39m.\u001b[39m_interleave(dtype\u001b[39m=\u001b[39mdtype, na_value\u001b[39m=\u001b[39mna_value)\n\u001b[0;32m   1733\u001b[0m     \u001b[39m# The underlying data was copied within _interleave, so no need\u001b[39;00m\n\u001b[0;32m   1734\u001b[0m     \u001b[39m# to further copy if copy=True or setting na_value\u001b[39;00m\n\u001b[0;32m   1736\u001b[0m \u001b[39mif\u001b[39;00m na_value \u001b[39mis\u001b[39;00m \u001b[39mnot\u001b[39;00m lib\u001b[39m.\u001b[39mno_default:\n",
      "File \u001b[1;32mc:\\ProgramData\\anaconda3\\Lib\\site-packages\\pandas\\core\\internals\\managers.py:1795\u001b[0m, in \u001b[0;36mBlockManager._interleave\u001b[1;34m(self, dtype, na_value)\u001b[0m\n\u001b[0;32m   1793\u001b[0m         arr \u001b[39m=\u001b[39m blk\u001b[39m.\u001b[39mget_values(dtype)\n\u001b[0;32m   1794\u001b[0m     result[rl\u001b[39m.\u001b[39mindexer] \u001b[39m=\u001b[39m arr\n\u001b[1;32m-> 1795\u001b[0m     itemmask[rl\u001b[39m.\u001b[39mindexer] \u001b[39m=\u001b[39m \u001b[39m1\u001b[39m\n\u001b[0;32m   1797\u001b[0m \u001b[39mif\u001b[39;00m \u001b[39mnot\u001b[39;00m itemmask\u001b[39m.\u001b[39mall():\n\u001b[0;32m   1798\u001b[0m     \u001b[39mraise\u001b[39;00m \u001b[39mAssertionError\u001b[39;00m(\u001b[39m\"\u001b[39m\u001b[39mSome items were not contained in blocks\u001b[39m\u001b[39m\"\u001b[39m)\n",
      "\u001b[1;31mKeyboardInterrupt\u001b[0m: "
     ]
    }
   ],
   "source": [
    "# dla 7 pary\n",
    "for i in range(12, 14):\n",
    "    print(i/2+1,' para start')\n",
    "    start = seed_list[i]\n",
    "    length = seed_list[i+1]\n",
    "\n",
    "    # co 100k\n",
    "    for seed in range(start, start+length, 100000):\n",
    "    # dla kazdej mapy\n",
    "        for j in range(ile_map):\n",
    "            seed = calculate_new_seed_from_map(seed, j)\n",
    "        final = min(final,seed)  # Update final with the minimum seed value\n",
    "    print(final)\n",
    "final"
   ]
  },
  {
   "cell_type": "markdown",
   "metadata": {},
   "source": [
    "4.6s dla +100"
   ]
  },
  {
   "cell_type": "markdown",
   "metadata": {},
   "source": [
    "zrobic liste co milion, wypisac liste\n",
    "zrobic dla +1mln, +1mln co 100k w obie strony, lista\n",
    "146679088"
   ]
  },
  {
   "cell_type": "markdown",
   "metadata": {},
   "source": []
  },
  {
   "cell_type": "code",
   "execution_count": null,
   "metadata": {},
   "outputs": [],
   "source": []
  }
 ],
 "metadata": {
  "kernelspec": {
   "display_name": "base",
   "language": "python",
   "name": "python3"
  },
  "language_info": {
   "codemirror_mode": {
    "name": "ipython",
    "version": 3
   },
   "file_extension": ".py",
   "mimetype": "text/x-python",
   "name": "python",
   "nbconvert_exporter": "python",
   "pygments_lexer": "ipython3",
   "version": "3.11.5"
  }
 },
 "nbformat": 4,
 "nbformat_minor": 2
}
