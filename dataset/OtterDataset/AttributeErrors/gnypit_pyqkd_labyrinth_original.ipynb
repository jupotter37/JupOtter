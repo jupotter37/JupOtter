{
 "cells": [
  {
   "cell_type": "markdown",
   "metadata": {
    "nteract": {
     "transient": {
      "deleting": false
     }
    }
   },
   "source": [
    "W celu wyznaczenia drogi przez labirynt zbudowano algorytm genetyczny z zastosowaniem biblioteki pygad. Do niktórych obliczeń po drodze potrzebna była również biblioteka numpy, natomiast pomiar czasu działania algorytmu był możliwy dzięki bibliotece time."
   ]
  },
  {
   "cell_type": "code",
   "execution_count": 1,
   "metadata": {
    "collapsed": true,
    "execution": {
     "iopub.execute_input": "2022-04-03T20:32:38.534Z",
     "iopub.status.busy": "2022-04-03T20:32:38.530Z",
     "iopub.status.idle": "2022-04-03T20:32:38.541Z",
     "shell.execute_reply": "2022-04-03T20:32:38.635Z"
    },
    "nteract": {
     "transient": {
      "deleting": false
     }
    },
    "ExecuteTime": {
     "end_time": "2023-12-08T09:53:14.836098500Z",
     "start_time": "2023-12-08T09:53:14.468270600Z"
    }
   },
   "outputs": [],
   "source": [
    "import numpy as np\n",
    "import pygad\n",
    "import time"
   ]
  },
  {
   "cell_type": "markdown",
   "metadata": {
    "nteract": {
     "transient": {
      "deleting": false
     }
    }
   },
   "source": [
    "Labirynt zakodowano za pomocą 0 i 1. Zero oznacza pole dozwolone, po którym można się poruszać, natomiast pole czarne oznacza ścianę; na te pola nie wolno wchodzić. Włącznie ze ścianami na granicy labiryntu, ma on wymiary 12x12, zatem współrzędne w python będą numerowane od 0 do 11. Pole startu znajduje się na polu (1,1), a meta na polu (10,10)."
   ]
  },
  {
   "cell_type": "code",
   "execution_count": 2,
   "metadata": {
    "collapsed": true,
    "execution": {
     "iopub.execute_input": "2022-04-03T20:32:38.550Z",
     "iopub.status.busy": "2022-04-03T20:32:38.546Z",
     "iopub.status.idle": "2022-04-03T20:32:38.556Z",
     "shell.execute_reply": "2022-04-03T20:32:38.637Z"
    },
    "nteract": {
     "transient": {
      "deleting": false
     }
    },
    "ExecuteTime": {
     "end_time": "2023-12-08T09:53:17.048919200Z",
     "start_time": "2023-12-08T09:53:17.044907300Z"
    }
   },
   "outputs": [],
   "source": [
    "labyrinth = np.array([\n",
    "            [1, 1, 1, 1, 1, 1, 1, 1, 1, 1, 1, 1],\n",
    "            [1, 0, 0, 0, 1, 0, 0, 0, 1, 0, 0, 1],\n",
    "            [1, 1, 1, 0, 0, 0, 1, 0, 1, 1, 0, 1],\n",
    "            [1, 0, 0, 0, 1, 0, 1, 0, 0, 0, 0, 1],\n",
    "            [1, 0, 1, 0, 1, 1, 0, 0, 1, 1, 0, 1],\n",
    "            [1, 0, 0, 1, 1, 0, 0, 0, 1, 0, 0, 1],\n",
    "            [1, 0, 0, 0, 0, 0, 1, 0, 0, 0, 1, 1],\n",
    "            [1, 0, 1, 0, 0, 1, 1, 0, 1, 0, 0, 1],\n",
    "            [1, 0, 1, 1, 1, 0, 0, 0, 1, 1, 0, 1],\n",
    "            [1, 0, 1, 0, 1, 1, 0, 1, 0, 1, 0, 1],\n",
    "            [1, 0, 1, 0, 0, 0, 0, 0, 0, 0, 0, 1],\n",
    "            [1, 1, 1, 1, 1, 1, 1, 1, 1, 1, 1, 1]\n",
    "        ])"
   ]
  },
  {
   "cell_type": "markdown",
   "metadata": {
    "nteract": {
     "transient": {
      "deleting": false
     }
    }
   },
   "source": [
    "Ruchy przez labirynt zakodowano w następujący sposób:\n",
    "0 - bez ruchu;\n",
    "1 - w lewo;\n",
    "2 - w prawo;\n",
    "3 - w górę;\n",
    "4 - w dół;"
   ]
  },
  {
   "cell_type": "markdown",
   "metadata": {
    "nteract": {
     "transient": {
      "deleting": false
     }
    }
   },
   "source": [
    "Funkcja fitnessu oceniała trasy o długości 30, kodowane za pomocą powyższych genów (0,...,4). Karała za wejście w ścianę oraz stanie w miejscu, dopóki nie dotarto do mety. Ponadto ignorowała ruchy przez ściany. Po dojściu do mety przestawała karać za brak ruchu - zamiast tego nagradzała za pozostanie w mecie. Wartości funkcji fitnessu były ustandaryzowaną sumą z wagami: metryki Manhattan odległości od mety z wagą 2, kar za \"wejścia\" na ściany i powtórzenie pozycji przed osiągnięciem mety z wagami 1 oraz wreszcie bonusu za pozostanie w mecie z wagą 2. Ponieważ maksymalna wartość tej sumy wynosiła 56, to w celu standaryzacji podzielono tę sumę rpzez 56."
   ]
  },
  {
   "cell_type": "code",
   "execution_count": 3,
   "metadata": {
    "collapsed": true,
    "execution": {
     "iopub.execute_input": "2022-04-03T20:32:38.569Z",
     "iopub.status.busy": "2022-04-03T20:32:38.564Z",
     "iopub.status.idle": "2022-04-03T20:32:38.577Z",
     "shell.execute_reply": "2022-04-03T20:32:38.638Z"
    },
    "nteract": {
     "transient": {
      "deleting": false
     }
    },
    "ExecuteTime": {
     "end_time": "2023-12-08T09:53:20.485296300Z",
     "start_time": "2023-12-08T09:53:20.483289600Z"
    }
   },
   "outputs": [],
   "source": [
    "def fitness_fun(route, route_idx=None):\n",
    "\n",
    "    # Zaczynamy w (1, 1)\n",
    "    i, j = 1, 1\n",
    "    position = [0]\n",
    "    is_problem = 0\n",
    "    zero_no = 0\n",
    "    bonus = 0\n",
    "\n",
    "    for move in route:  # Zmieniamy położenie w zależności od wykonanego ruchu\n",
    "\n",
    "        if position[-1] == [10, 10] and move == 0:  # bonus za pozostanie w mecie\n",
    "            bonus += 1\n",
    "            continue\n",
    "\n",
    "        if move == 1:\n",
    "            new_j, new_i = j - 1, i\n",
    "        elif move == 2:\n",
    "            new_j, new_i = j + 1, i\n",
    "        elif move == 3:\n",
    "            new_i, new_j = i - 1, j\n",
    "        elif move == 4:\n",
    "            new_i, new_j = i + 1, j\n",
    "        else:\n",
    "            zero_no += 1\n",
    "            new_i, new_j = i, j\n",
    "\n",
    "        if 0 <= new_i <= 11 and 0 <= new_j <= 11:\n",
    "            if labyrinth[new_i, new_j] == 0:\n",
    "                i, j = new_i, new_j\n",
    "                position.append([i, j])\n",
    "                if position.count([i, j]) > 1:  # kara za powtórzenie pozycji\n",
    "                    is_problem += 1\n",
    "            else:\n",
    "                is_problem += 1.25  # kara za zmarnowanie ruchu na odbicie się od ściany\n",
    "\n",
    "    fitness = ((20 - abs(10 - i) - abs(10 - j)) * 2 - is_problem - zero_no + bonus * 2) / 56\n",
    "\n",
    "    return fitness"
   ]
  },
  {
   "cell_type": "markdown",
   "metadata": {
    "nteract": {
     "transient": {
      "deleting": false
     }
    }
   },
   "source": [
    "Ponieważ koszt obliczeniowy algorytmu genetycznego rośnie rpzede wszysktim z rozmiarem populacji, a nie liczbą generacji, to mimo złożonego problemu nie generowano dużych populacji. Dano za to stosunkowo dużo czasu na wykształcenie się preferowanych chromosomów."
   ]
  },
  {
   "cell_type": "code",
   "execution_count": 4,
   "metadata": {
    "collapsed": true,
    "execution": {
     "iopub.execute_input": "2022-04-03T20:32:38.585Z",
     "iopub.status.busy": "2022-04-03T20:32:38.582Z",
     "iopub.status.idle": "2022-04-03T20:32:38.593Z",
     "shell.execute_reply": "2022-04-03T20:32:38.640Z"
    },
    "nteract": {
     "transient": {
      "deleting": false
     }
    },
    "ExecuteTime": {
     "end_time": "2023-12-08T09:53:22.278155200Z",
     "start_time": "2023-12-08T09:53:22.269622900Z"
    }
   },
   "outputs": [],
   "source": [
    "gene_space = [0, 1, 2, 3, 4]\n",
    "num_generations = 3000\n",
    "sol_per_pop = 500\n",
    "num_parents_mating = 250\n",
    "elite_size = 20\n",
    "num_genes = 30"
   ]
  },
  {
   "cell_type": "code",
   "execution_count": 5,
   "metadata": {
    "collapsed": true,
    "execution": {
     "iopub.execute_input": "2022-04-03T20:32:38.602Z",
     "iopub.status.busy": "2022-04-03T20:32:38.598Z",
     "iopub.status.idle": "2022-04-03T20:32:38.608Z",
     "shell.execute_reply": "2022-04-03T20:32:38.642Z"
    },
    "nteract": {
     "transient": {
      "deleting": false
     }
    },
    "ExecuteTime": {
     "end_time": "2023-12-08T09:53:24.045804200Z",
     "start_time": "2023-12-08T09:53:23.027355200Z"
    }
   },
   "outputs": [
    {
     "name": "stderr",
     "output_type": "stream",
     "text": [
      "In PyGAD 2.20.0, the fitness function must accept 3 parameters:\n",
      "1) The instance of the 'pygad.GA' class.\n",
      "2) A solution to calculate its fitness value.\n",
      "3) The solution's index within the population.\n",
      "\n",
      "The passed fitness function named 'fitness_fun' accepts 2 parameter(s).\n",
      "Traceback (most recent call last):\n",
      "  File \"C:\\Users\\Jakub\\PycharmProjects\\qkd\\venv\\Lib\\site-packages\\pygad\\pygad.py\", line 951, in __init__\n",
      "    raise ValueError(f\"In PyGAD 2.20.0, the fitness function must accept 3 parameters:\\n1) The instance of the 'pygad.GA' class.\\n2) A solution to calculate its fitness value.\\n3) The solution's index within the population.\\n\\nThe passed fitness function named '{fitness_func.__code__.co_name}' accepts {fitness_func.__code__.co_argcount} parameter(s).\")\n",
      "ValueError: In PyGAD 2.20.0, the fitness function must accept 3 parameters:\n",
      "1) The instance of the 'pygad.GA' class.\n",
      "2) A solution to calculate its fitness value.\n",
      "3) The solution's index within the population.\n",
      "\n",
      "The passed fitness function named 'fitness_fun' accepts 2 parameter(s).\n"
     ]
    },
    {
     "ename": "AttributeError",
     "evalue": "'tuple' object has no attribute 'tb_frame'",
     "output_type": "error",
     "traceback": [
      "\u001B[1;31m---------------------------------------------------------------------------\u001B[0m",
      "\u001B[1;31mValueError\u001B[0m                                Traceback (most recent call last)",
      "File \u001B[1;32m~\\PycharmProjects\\qkd\\venv\\Lib\\site-packages\\pygad\\pygad.py:951\u001B[0m, in \u001B[0;36mGA.__init__\u001B[1;34m(self, num_generations, num_parents_mating, fitness_func, fitness_batch_size, initial_population, sol_per_pop, num_genes, init_range_low, init_range_high, gene_type, parent_selection_type, keep_parents, keep_elitism, K_tournament, crossover_type, crossover_probability, mutation_type, mutation_probability, mutation_by_replacement, mutation_percent_genes, mutation_num_genes, random_mutation_min_val, random_mutation_max_val, gene_space, allow_duplicate_genes, on_start, on_fitness, on_parents, on_crossover, on_mutation, on_generation, on_stop, delay_after_gen, save_best_solutions, save_solutions, suppress_warnings, stop_criteria, parallel_processing, random_seed, logger)\u001B[0m\n\u001B[0;32m    950\u001B[0m         \u001B[38;5;28mself\u001B[39m\u001B[38;5;241m.\u001B[39mvalid_parameters \u001B[38;5;241m=\u001B[39m \u001B[38;5;28;01mFalse\u001B[39;00m\n\u001B[1;32m--> 951\u001B[0m         \u001B[38;5;28;01mraise\u001B[39;00m \u001B[38;5;167;01mValueError\u001B[39;00m(\u001B[38;5;124mf\u001B[39m\u001B[38;5;124m\"\u001B[39m\u001B[38;5;124mIn PyGAD 2.20.0, the fitness function must accept 3 parameters:\u001B[39m\u001B[38;5;130;01m\\n\u001B[39;00m\u001B[38;5;124m1) The instance of the \u001B[39m\u001B[38;5;124m'\u001B[39m\u001B[38;5;124mpygad.GA\u001B[39m\u001B[38;5;124m'\u001B[39m\u001B[38;5;124m class.\u001B[39m\u001B[38;5;130;01m\\n\u001B[39;00m\u001B[38;5;124m2) A solution to calculate its fitness value.\u001B[39m\u001B[38;5;130;01m\\n\u001B[39;00m\u001B[38;5;124m3) The solution\u001B[39m\u001B[38;5;124m'\u001B[39m\u001B[38;5;124ms index within the population.\u001B[39m\u001B[38;5;130;01m\\n\u001B[39;00m\u001B[38;5;130;01m\\n\u001B[39;00m\u001B[38;5;124mThe passed fitness function named \u001B[39m\u001B[38;5;124m'\u001B[39m\u001B[38;5;132;01m{\u001B[39;00mfitness_func\u001B[38;5;241m.\u001B[39m\u001B[38;5;18m__code__\u001B[39m\u001B[38;5;241m.\u001B[39mco_name\u001B[38;5;132;01m}\u001B[39;00m\u001B[38;5;124m'\u001B[39m\u001B[38;5;124m accepts \u001B[39m\u001B[38;5;132;01m{\u001B[39;00mfitness_func\u001B[38;5;241m.\u001B[39m\u001B[38;5;18m__code__\u001B[39m\u001B[38;5;241m.\u001B[39mco_argcount\u001B[38;5;132;01m}\u001B[39;00m\u001B[38;5;124m parameter(s).\u001B[39m\u001B[38;5;124m\"\u001B[39m)\n\u001B[0;32m    952\u001B[0m \u001B[38;5;28;01melse\u001B[39;00m:\n",
      "\u001B[1;31mValueError\u001B[0m: In PyGAD 2.20.0, the fitness function must accept 3 parameters:\n1) The instance of the 'pygad.GA' class.\n2) A solution to calculate its fitness value.\n3) The solution's index within the population.\n\nThe passed fitness function named 'fitness_fun' accepts 2 parameter(s).",
      "\nDuring handling of the above exception, another exception occurred:\n",
      "\u001B[1;31mSystemExit\u001B[0m                                Traceback (most recent call last)",
      "    \u001B[1;31m[... skipping hidden 1 frame]\u001B[0m\n",
      "Cell \u001B[1;32mIn[5], line 1\u001B[0m\n\u001B[1;32m----> 1\u001B[0m ga_instance \u001B[38;5;241m=\u001B[39m \u001B[43mpygad\u001B[49m\u001B[38;5;241;43m.\u001B[39;49m\u001B[43mGA\u001B[49m\u001B[43m(\u001B[49m\n\u001B[0;32m      2\u001B[0m \u001B[43m    \u001B[49m\u001B[43mgene_space\u001B[49m\u001B[38;5;241;43m=\u001B[39;49m\u001B[43mgene_space\u001B[49m\u001B[43m,\u001B[49m\n\u001B[0;32m      3\u001B[0m \u001B[43m    \u001B[49m\u001B[43mnum_genes\u001B[49m\u001B[38;5;241;43m=\u001B[39;49m\u001B[43mnum_genes\u001B[49m\u001B[43m,\u001B[49m\n\u001B[0;32m      4\u001B[0m \u001B[43m    \u001B[49m\u001B[43mnum_generations\u001B[49m\u001B[38;5;241;43m=\u001B[39;49m\u001B[43mnum_generations\u001B[49m\u001B[43m,\u001B[49m\n\u001B[0;32m      5\u001B[0m \u001B[43m    \u001B[49m\u001B[43mnum_parents_mating\u001B[49m\u001B[38;5;241;43m=\u001B[39;49m\u001B[43mnum_parents_mating\u001B[49m\u001B[43m,\u001B[49m\n\u001B[0;32m      6\u001B[0m \u001B[43m    \u001B[49m\u001B[43mfitness_func\u001B[49m\u001B[38;5;241;43m=\u001B[39;49m\u001B[43mfitness_fun\u001B[49m\u001B[43m,\u001B[49m\n\u001B[0;32m      7\u001B[0m \u001B[43m    \u001B[49m\u001B[43msol_per_pop\u001B[49m\u001B[38;5;241;43m=\u001B[39;49m\u001B[43msol_per_pop\u001B[49m\u001B[43m,\u001B[49m\n\u001B[0;32m      8\u001B[0m \u001B[43m    \u001B[49m\u001B[43mkeep_parents\u001B[49m\u001B[38;5;241;43m=\u001B[39;49m\u001B[43melite_size\u001B[49m\u001B[43m,\u001B[49m\n\u001B[0;32m      9\u001B[0m \u001B[43m    \u001B[49m\u001B[43mparent_selection_type\u001B[49m\u001B[38;5;241;43m=\u001B[39;49m\u001B[38;5;124;43m\"\u001B[39;49m\u001B[38;5;124;43mrank\u001B[39;49m\u001B[38;5;124;43m\"\u001B[39;49m\u001B[43m,\u001B[49m\n\u001B[0;32m     10\u001B[0m \u001B[43m    \u001B[49m\u001B[43mmutation_type\u001B[49m\u001B[38;5;241;43m=\u001B[39;49m\u001B[38;5;124;43m\"\u001B[39;49m\u001B[38;5;124;43mrandom\u001B[39;49m\u001B[38;5;124;43m\"\u001B[39;49m\u001B[43m,\u001B[49m\n\u001B[0;32m     11\u001B[0m \u001B[43m    \u001B[49m\u001B[43mmutation_probability\u001B[49m\u001B[38;5;241;43m=\u001B[39;49m\u001B[38;5;241;43m0.25\u001B[39;49m\u001B[43m,\u001B[49m\n\u001B[0;32m     12\u001B[0m \u001B[43m    \u001B[49m\u001B[43mstop_criteria\u001B[49m\u001B[38;5;241;43m=\u001B[39;49m\u001B[38;5;124;43m\"\u001B[39;49m\u001B[38;5;124;43mreach_1\u001B[39;49m\u001B[38;5;124;43m\"\u001B[39;49m\n\u001B[0;32m     13\u001B[0m \u001B[43m)\u001B[49m\n",
      "File \u001B[1;32m~\\PycharmProjects\\qkd\\venv\\Lib\\site-packages\\pygad\\pygad.py:1316\u001B[0m, in \u001B[0;36mGA.__init__\u001B[1;34m(self, num_generations, num_parents_mating, fitness_func, fitness_batch_size, initial_population, sol_per_pop, num_genes, init_range_low, init_range_high, gene_type, parent_selection_type, keep_parents, keep_elitism, K_tournament, crossover_type, crossover_probability, mutation_type, mutation_probability, mutation_by_replacement, mutation_percent_genes, mutation_num_genes, random_mutation_min_val, random_mutation_max_val, gene_space, allow_duplicate_genes, on_start, on_fitness, on_parents, on_crossover, on_mutation, on_generation, on_stop, delay_after_gen, save_best_solutions, save_solutions, suppress_warnings, stop_criteria, parallel_processing, random_seed, logger)\u001B[0m\n\u001B[0;32m   1315\u001B[0m \u001B[38;5;28mself\u001B[39m\u001B[38;5;241m.\u001B[39mlogger\u001B[38;5;241m.\u001B[39mexception(e)\n\u001B[1;32m-> 1316\u001B[0m \u001B[43msys\u001B[49m\u001B[38;5;241;43m.\u001B[39;49m\u001B[43mexit\u001B[49m\u001B[43m(\u001B[49m\u001B[38;5;241;43m-\u001B[39;49m\u001B[38;5;241;43m1\u001B[39;49m\u001B[43m)\u001B[49m\n",
      "\u001B[1;31mSystemExit\u001B[0m: -1",
      "\nDuring handling of the above exception, another exception occurred:\n",
      "\u001B[1;31mAttributeError\u001B[0m                            Traceback (most recent call last)",
      "    \u001B[1;31m[... skipping hidden 1 frame]\u001B[0m\n",
      "File \u001B[1;32m~\\PycharmProjects\\qkd\\venv\\Lib\\site-packages\\IPython\\core\\interactiveshell.py:2119\u001B[0m, in \u001B[0;36mInteractiveShell.showtraceback\u001B[1;34m(self, exc_tuple, filename, tb_offset, exception_only, running_compiled_code)\u001B[0m\n\u001B[0;32m   2116\u001B[0m \u001B[38;5;28;01mif\u001B[39;00m exception_only:\n\u001B[0;32m   2117\u001B[0m     stb \u001B[38;5;241m=\u001B[39m [\u001B[38;5;124m'\u001B[39m\u001B[38;5;124mAn exception has occurred, use \u001B[39m\u001B[38;5;124m%\u001B[39m\u001B[38;5;124mtb to see \u001B[39m\u001B[38;5;124m'\u001B[39m\n\u001B[0;32m   2118\u001B[0m            \u001B[38;5;124m'\u001B[39m\u001B[38;5;124mthe full traceback.\u001B[39m\u001B[38;5;130;01m\\n\u001B[39;00m\u001B[38;5;124m'\u001B[39m]\n\u001B[1;32m-> 2119\u001B[0m     stb\u001B[38;5;241m.\u001B[39mextend(\u001B[38;5;28;43mself\u001B[39;49m\u001B[38;5;241;43m.\u001B[39;49m\u001B[43mInteractiveTB\u001B[49m\u001B[38;5;241;43m.\u001B[39;49m\u001B[43mget_exception_only\u001B[49m\u001B[43m(\u001B[49m\u001B[43metype\u001B[49m\u001B[43m,\u001B[49m\n\u001B[0;32m   2120\u001B[0m \u001B[43m                                                     \u001B[49m\u001B[43mvalue\u001B[49m\u001B[43m)\u001B[49m)\n\u001B[0;32m   2121\u001B[0m \u001B[38;5;28;01melse\u001B[39;00m:\n\u001B[0;32m   2123\u001B[0m     \u001B[38;5;28;01mdef\u001B[39;00m \u001B[38;5;21mcontains_exceptiongroup\u001B[39m(val):\n",
      "File \u001B[1;32m~\\PycharmProjects\\qkd\\venv\\Lib\\site-packages\\IPython\\core\\ultratb.py:710\u001B[0m, in \u001B[0;36mListTB.get_exception_only\u001B[1;34m(self, etype, value)\u001B[0m\n\u001B[0;32m    702\u001B[0m \u001B[38;5;28;01mdef\u001B[39;00m \u001B[38;5;21mget_exception_only\u001B[39m(\u001B[38;5;28mself\u001B[39m, etype, value):\n\u001B[0;32m    703\u001B[0m \u001B[38;5;250m    \u001B[39m\u001B[38;5;124;03m\"\"\"Only print the exception type and message, without a traceback.\u001B[39;00m\n\u001B[0;32m    704\u001B[0m \n\u001B[0;32m    705\u001B[0m \u001B[38;5;124;03m    Parameters\u001B[39;00m\n\u001B[1;32m   (...)\u001B[0m\n\u001B[0;32m    708\u001B[0m \u001B[38;5;124;03m    value : exception value\u001B[39;00m\n\u001B[0;32m    709\u001B[0m \u001B[38;5;124;03m    \"\"\"\u001B[39;00m\n\u001B[1;32m--> 710\u001B[0m     \u001B[38;5;28;01mreturn\u001B[39;00m \u001B[43mListTB\u001B[49m\u001B[38;5;241;43m.\u001B[39;49m\u001B[43mstructured_traceback\u001B[49m\u001B[43m(\u001B[49m\u001B[38;5;28;43mself\u001B[39;49m\u001B[43m,\u001B[49m\u001B[43m \u001B[49m\u001B[43metype\u001B[49m\u001B[43m,\u001B[49m\u001B[43m \u001B[49m\u001B[43mvalue\u001B[49m\u001B[43m)\u001B[49m\n",
      "File \u001B[1;32m~\\PycharmProjects\\qkd\\venv\\Lib\\site-packages\\IPython\\core\\ultratb.py:568\u001B[0m, in \u001B[0;36mListTB.structured_traceback\u001B[1;34m(self, etype, evalue, etb, tb_offset, context)\u001B[0m\n\u001B[0;32m    565\u001B[0m     chained_exc_ids\u001B[38;5;241m.\u001B[39madd(\u001B[38;5;28mid\u001B[39m(exception[\u001B[38;5;241m1\u001B[39m]))\n\u001B[0;32m    566\u001B[0m     chained_exceptions_tb_offset \u001B[38;5;241m=\u001B[39m \u001B[38;5;241m0\u001B[39m\n\u001B[0;32m    567\u001B[0m     out_list \u001B[38;5;241m=\u001B[39m (\n\u001B[1;32m--> 568\u001B[0m         \u001B[38;5;28;43mself\u001B[39;49m\u001B[38;5;241;43m.\u001B[39;49m\u001B[43mstructured_traceback\u001B[49m\u001B[43m(\u001B[49m\n\u001B[0;32m    569\u001B[0m \u001B[43m            \u001B[49m\u001B[43metype\u001B[49m\u001B[43m,\u001B[49m\n\u001B[0;32m    570\u001B[0m \u001B[43m            \u001B[49m\u001B[43mevalue\u001B[49m\u001B[43m,\u001B[49m\n\u001B[0;32m    571\u001B[0m \u001B[43m            \u001B[49m\u001B[43m(\u001B[49m\u001B[43metb\u001B[49m\u001B[43m,\u001B[49m\u001B[43m \u001B[49m\u001B[43mchained_exc_ids\u001B[49m\u001B[43m)\u001B[49m\u001B[43m,\u001B[49m\u001B[43m  \u001B[49m\u001B[38;5;66;43;03m# type: ignore\u001B[39;49;00m\n\u001B[0;32m    572\u001B[0m \u001B[43m            \u001B[49m\u001B[43mchained_exceptions_tb_offset\u001B[49m\u001B[43m,\u001B[49m\n\u001B[0;32m    573\u001B[0m \u001B[43m            \u001B[49m\u001B[43mcontext\u001B[49m\u001B[43m,\u001B[49m\n\u001B[0;32m    574\u001B[0m \u001B[43m        \u001B[49m\u001B[43m)\u001B[49m\n\u001B[0;32m    575\u001B[0m         \u001B[38;5;241m+\u001B[39m chained_exception_message\n\u001B[0;32m    576\u001B[0m         \u001B[38;5;241m+\u001B[39m out_list)\n\u001B[0;32m    578\u001B[0m \u001B[38;5;28;01mreturn\u001B[39;00m out_list\n",
      "File \u001B[1;32m~\\PycharmProjects\\qkd\\venv\\Lib\\site-packages\\IPython\\core\\ultratb.py:1435\u001B[0m, in \u001B[0;36mAutoFormattedTB.structured_traceback\u001B[1;34m(self, etype, evalue, etb, tb_offset, number_of_lines_of_context)\u001B[0m\n\u001B[0;32m   1433\u001B[0m \u001B[38;5;28;01melse\u001B[39;00m:\n\u001B[0;32m   1434\u001B[0m     \u001B[38;5;28mself\u001B[39m\u001B[38;5;241m.\u001B[39mtb \u001B[38;5;241m=\u001B[39m etb\n\u001B[1;32m-> 1435\u001B[0m \u001B[38;5;28;01mreturn\u001B[39;00m \u001B[43mFormattedTB\u001B[49m\u001B[38;5;241;43m.\u001B[39;49m\u001B[43mstructured_traceback\u001B[49m\u001B[43m(\u001B[49m\n\u001B[0;32m   1436\u001B[0m \u001B[43m    \u001B[49m\u001B[38;5;28;43mself\u001B[39;49m\u001B[43m,\u001B[49m\u001B[43m \u001B[49m\u001B[43metype\u001B[49m\u001B[43m,\u001B[49m\u001B[43m \u001B[49m\u001B[43mevalue\u001B[49m\u001B[43m,\u001B[49m\u001B[43m \u001B[49m\u001B[43metb\u001B[49m\u001B[43m,\u001B[49m\u001B[43m \u001B[49m\u001B[43mtb_offset\u001B[49m\u001B[43m,\u001B[49m\u001B[43m \u001B[49m\u001B[43mnumber_of_lines_of_context\u001B[49m\n\u001B[0;32m   1437\u001B[0m \u001B[43m\u001B[49m\u001B[43m)\u001B[49m\n",
      "File \u001B[1;32m~\\PycharmProjects\\qkd\\venv\\Lib\\site-packages\\IPython\\core\\ultratb.py:1326\u001B[0m, in \u001B[0;36mFormattedTB.structured_traceback\u001B[1;34m(self, etype, value, tb, tb_offset, number_of_lines_of_context)\u001B[0m\n\u001B[0;32m   1323\u001B[0m mode \u001B[38;5;241m=\u001B[39m \u001B[38;5;28mself\u001B[39m\u001B[38;5;241m.\u001B[39mmode\n\u001B[0;32m   1324\u001B[0m \u001B[38;5;28;01mif\u001B[39;00m mode \u001B[38;5;129;01min\u001B[39;00m \u001B[38;5;28mself\u001B[39m\u001B[38;5;241m.\u001B[39mverbose_modes:\n\u001B[0;32m   1325\u001B[0m     \u001B[38;5;66;03m# Verbose modes need a full traceback\u001B[39;00m\n\u001B[1;32m-> 1326\u001B[0m     \u001B[38;5;28;01mreturn\u001B[39;00m \u001B[43mVerboseTB\u001B[49m\u001B[38;5;241;43m.\u001B[39;49m\u001B[43mstructured_traceback\u001B[49m\u001B[43m(\u001B[49m\n\u001B[0;32m   1327\u001B[0m \u001B[43m        \u001B[49m\u001B[38;5;28;43mself\u001B[39;49m\u001B[43m,\u001B[49m\u001B[43m \u001B[49m\u001B[43metype\u001B[49m\u001B[43m,\u001B[49m\u001B[43m \u001B[49m\u001B[43mvalue\u001B[49m\u001B[43m,\u001B[49m\u001B[43m \u001B[49m\u001B[43mtb\u001B[49m\u001B[43m,\u001B[49m\u001B[43m \u001B[49m\u001B[43mtb_offset\u001B[49m\u001B[43m,\u001B[49m\u001B[43m \u001B[49m\u001B[43mnumber_of_lines_of_context\u001B[49m\n\u001B[0;32m   1328\u001B[0m \u001B[43m    \u001B[49m\u001B[43m)\u001B[49m\n\u001B[0;32m   1329\u001B[0m \u001B[38;5;28;01melif\u001B[39;00m mode \u001B[38;5;241m==\u001B[39m \u001B[38;5;124m'\u001B[39m\u001B[38;5;124mMinimal\u001B[39m\u001B[38;5;124m'\u001B[39m:\n\u001B[0;32m   1330\u001B[0m     \u001B[38;5;28;01mreturn\u001B[39;00m ListTB\u001B[38;5;241m.\u001B[39mget_exception_only(\u001B[38;5;28mself\u001B[39m, etype, value)\n",
      "File \u001B[1;32m~\\PycharmProjects\\qkd\\venv\\Lib\\site-packages\\IPython\\core\\ultratb.py:1173\u001B[0m, in \u001B[0;36mVerboseTB.structured_traceback\u001B[1;34m(self, etype, evalue, etb, tb_offset, number_of_lines_of_context)\u001B[0m\n\u001B[0;32m   1164\u001B[0m \u001B[38;5;28;01mdef\u001B[39;00m \u001B[38;5;21mstructured_traceback\u001B[39m(\n\u001B[0;32m   1165\u001B[0m     \u001B[38;5;28mself\u001B[39m,\n\u001B[0;32m   1166\u001B[0m     etype: \u001B[38;5;28mtype\u001B[39m,\n\u001B[1;32m   (...)\u001B[0m\n\u001B[0;32m   1170\u001B[0m     number_of_lines_of_context: \u001B[38;5;28mint\u001B[39m \u001B[38;5;241m=\u001B[39m \u001B[38;5;241m5\u001B[39m,\n\u001B[0;32m   1171\u001B[0m ):\n\u001B[0;32m   1172\u001B[0m \u001B[38;5;250m    \u001B[39m\u001B[38;5;124;03m\"\"\"Return a nice text document describing the traceback.\"\"\"\u001B[39;00m\n\u001B[1;32m-> 1173\u001B[0m     formatted_exception \u001B[38;5;241m=\u001B[39m \u001B[38;5;28;43mself\u001B[39;49m\u001B[38;5;241;43m.\u001B[39;49m\u001B[43mformat_exception_as_a_whole\u001B[49m\u001B[43m(\u001B[49m\u001B[43metype\u001B[49m\u001B[43m,\u001B[49m\u001B[43m \u001B[49m\u001B[43mevalue\u001B[49m\u001B[43m,\u001B[49m\u001B[43m \u001B[49m\u001B[43metb\u001B[49m\u001B[43m,\u001B[49m\u001B[43m \u001B[49m\u001B[43mnumber_of_lines_of_context\u001B[49m\u001B[43m,\u001B[49m\n\u001B[0;32m   1174\u001B[0m \u001B[43m                                                           \u001B[49m\u001B[43mtb_offset\u001B[49m\u001B[43m)\u001B[49m\n\u001B[0;32m   1176\u001B[0m     colors \u001B[38;5;241m=\u001B[39m \u001B[38;5;28mself\u001B[39m\u001B[38;5;241m.\u001B[39mColors  \u001B[38;5;66;03m# just a shorthand + quicker name lookup\u001B[39;00m\n\u001B[0;32m   1177\u001B[0m     colorsnormal \u001B[38;5;241m=\u001B[39m colors\u001B[38;5;241m.\u001B[39mNormal  \u001B[38;5;66;03m# used a lot\u001B[39;00m\n",
      "File \u001B[1;32m~\\PycharmProjects\\qkd\\venv\\Lib\\site-packages\\IPython\\core\\ultratb.py:1063\u001B[0m, in \u001B[0;36mVerboseTB.format_exception_as_a_whole\u001B[1;34m(self, etype, evalue, etb, number_of_lines_of_context, tb_offset)\u001B[0m\n\u001B[0;32m   1060\u001B[0m \u001B[38;5;28;01massert\u001B[39;00m \u001B[38;5;28misinstance\u001B[39m(tb_offset, \u001B[38;5;28mint\u001B[39m)\n\u001B[0;32m   1061\u001B[0m head \u001B[38;5;241m=\u001B[39m \u001B[38;5;28mself\u001B[39m\u001B[38;5;241m.\u001B[39mprepare_header(\u001B[38;5;28mstr\u001B[39m(etype), \u001B[38;5;28mself\u001B[39m\u001B[38;5;241m.\u001B[39mlong_header)\n\u001B[0;32m   1062\u001B[0m records \u001B[38;5;241m=\u001B[39m (\n\u001B[1;32m-> 1063\u001B[0m     \u001B[38;5;28;43mself\u001B[39;49m\u001B[38;5;241;43m.\u001B[39;49m\u001B[43mget_records\u001B[49m\u001B[43m(\u001B[49m\u001B[43metb\u001B[49m\u001B[43m,\u001B[49m\u001B[43m \u001B[49m\u001B[43mnumber_of_lines_of_context\u001B[49m\u001B[43m,\u001B[49m\u001B[43m \u001B[49m\u001B[43mtb_offset\u001B[49m\u001B[43m)\u001B[49m \u001B[38;5;28;01mif\u001B[39;00m etb \u001B[38;5;28;01melse\u001B[39;00m []\n\u001B[0;32m   1064\u001B[0m )\n\u001B[0;32m   1066\u001B[0m frames \u001B[38;5;241m=\u001B[39m []\n\u001B[0;32m   1067\u001B[0m skipped \u001B[38;5;241m=\u001B[39m \u001B[38;5;241m0\u001B[39m\n",
      "File \u001B[1;32m~\\PycharmProjects\\qkd\\venv\\Lib\\site-packages\\IPython\\core\\ultratb.py:1131\u001B[0m, in \u001B[0;36mVerboseTB.get_records\u001B[1;34m(self, etb, number_of_lines_of_context, tb_offset)\u001B[0m\n\u001B[0;32m   1129\u001B[0m \u001B[38;5;28;01mwhile\u001B[39;00m cf \u001B[38;5;129;01mis\u001B[39;00m \u001B[38;5;129;01mnot\u001B[39;00m \u001B[38;5;28;01mNone\u001B[39;00m:\n\u001B[0;32m   1130\u001B[0m     \u001B[38;5;28;01mtry\u001B[39;00m:\n\u001B[1;32m-> 1131\u001B[0m         mod \u001B[38;5;241m=\u001B[39m inspect\u001B[38;5;241m.\u001B[39mgetmodule(\u001B[43mcf\u001B[49m\u001B[38;5;241;43m.\u001B[39;49m\u001B[43mtb_frame\u001B[49m)\n\u001B[0;32m   1132\u001B[0m         \u001B[38;5;28;01mif\u001B[39;00m mod \u001B[38;5;129;01mis\u001B[39;00m \u001B[38;5;129;01mnot\u001B[39;00m \u001B[38;5;28;01mNone\u001B[39;00m:\n\u001B[0;32m   1133\u001B[0m             mod_name \u001B[38;5;241m=\u001B[39m mod\u001B[38;5;241m.\u001B[39m\u001B[38;5;18m__name__\u001B[39m\n",
      "\u001B[1;31mAttributeError\u001B[0m: 'tuple' object has no attribute 'tb_frame'"
     ]
    }
   ],
   "source": [
    "ga_instance = pygad.GA(\n",
    "    gene_space=gene_space,\n",
    "    num_genes=num_genes,\n",
    "    num_generations=num_generations,\n",
    "    num_parents_mating=num_parents_mating,\n",
    "    fitness_func=fitness_fun,\n",
    "    sol_per_pop=sol_per_pop,\n",
    "    keep_parents=elite_size,\n",
    "    parent_selection_type=\"rank\",\n",
    "    mutation_type=\"random\",\n",
    "    mutation_probability=0.25,\n",
    "    stop_criteria=\"reach_1\"\n",
    ")"
   ]
  },
  {
   "cell_type": "markdown",
   "metadata": {
    "nteract": {
     "transient": {
      "deleting": false
     }
    }
   },
   "source": [
    "Algorytm wykonano 10 razy, za każdym razem zapamiętując czas wykonywania, nr generacji najlepszego rozwiązania, wartość funkcji fitnessu tego rozwiązania oraz oczywiście samo to rozwiązanie."
   ]
  },
  {
   "cell_type": "code",
   "execution_count": 40,
   "metadata": {
    "collapsed": true,
    "execution": {
     "iopub.execute_input": "2022-04-03T20:32:38.616Z",
     "iopub.status.busy": "2022-04-03T20:32:38.613Z",
     "iopub.status.idle": "2022-04-03T20:32:38.623Z",
     "shell.execute_reply": "2022-04-03T20:32:38.644Z"
    },
    "nteract": {
     "transient": {
      "deleting": false
     }
    }
   },
   "outputs": [],
   "source": [
    "fitness_list = []\n",
    "times = []\n",
    "output_list = []\n",
    "generations_no = []"
   ]
  },
  {
   "cell_type": "code",
   "execution_count": 41,
   "metadata": {
    "collapsed": true,
    "execution": {
     "iopub.execute_input": "2022-04-03T20:32:38.631Z",
     "iopub.status.busy": "2022-04-03T20:32:38.627Z",
     "iopub.status.idle": "2022-04-03T20:53:22.378Z",
     "shell.execute_reply": "2022-04-03T20:53:22.453Z"
    },
    "nteract": {
     "transient": {
      "deleting": false
     }
    }
   },
   "outputs": [],
   "source": [
    "for i in range(10):\n",
    "    # Zaczynam pomiar czasu\n",
    "    start = time.time()\n",
    "\n",
    "    # uruchomienie algorytmu\n",
    "    ga_instance.run()\n",
    "\n",
    "    # Kończę pomiar czasu\n",
    "    end = time.time()\n",
    "    times.append(end - start)\n",
    "\n",
    "    # Parametry danego najlepszego rozwiązania\n",
    "    solution, solution_fitness, solution_idx = ga_instance.best_solution()\n",
    "    generations_no.append(ga_instance.best_solution_generation)\n",
    "\n",
    "    fitness_list.append(solution_fitness)\n",
    "    output_list.append(solution)"
   ]
  },
  {
   "cell_type": "markdown",
   "metadata": {
    "nteract": {
     "transient": {
      "deleting": false
     }
    }
   },
   "source": [
    "Następnie wypisano historie wyników i średnie z ich parametrów."
   ]
  },
  {
   "cell_type": "code",
   "execution_count": 42,
   "metadata": {
    "collapsed": true,
    "execution": {
     "iopub.execute_input": "2022-04-03T20:53:22.392Z",
     "iopub.status.busy": "2022-04-03T20:53:22.388Z",
     "iopub.status.idle": "2022-04-03T20:53:22.415Z",
     "shell.execute_reply": "2022-04-03T20:53:22.457Z"
    },
    "nteract": {
     "transient": {
      "deleting": false
     }
    }
   },
   "outputs": [
    {
     "name": "stdout",
     "output_type": "stream",
     "text": [
      "Średni czas działania algorytmu genetycznego: 124.35253026485444\n",
      "Średnia wartość funkcji fitnessu najlepszego rozwiązania: 0.8808035714285714\n",
      "Średnia liczba generacji do najlepszego rozwiązania: 674.7\n",
      "Historia wyników :\n",
      "[2. 2. 4. 2. 2. 3. 2. 2. 3. 4. 4. 4. 1. 4. 2. 4. 2. 2. 4. 1. 2. 4. 4. 4.\n",
      " 1. 2. 0. 0. 0. 0.]\n",
      "[2. 2. 4. 2. 2. 3. 3. 2. 2. 4. 4. 4. 1. 4. 2. 4. 2. 2. 4. 2. 2. 4. 4. 4.\n",
      " 0. 2. 0. 0. 0. 0.]\n",
      "[2. 2. 4. 2. 2. 3. 3. 2. 2. 4. 4. 4. 1. 4. 2. 4. 2. 2. 4. 4. 2. 4. 4. 4.\n",
      " 0. 0. 0. 0. 0. 0.]\n",
      "[2. 2. 4. 2. 2. 3. 1. 2. 2. 4. 4. 4. 1. 4. 2. 4. 2. 2. 4. 2. 3. 4. 4. 4.\n",
      " 0. 0. 0. 0. 0. 0.]\n",
      "[2. 2. 4. 2. 2. 3. 3. 2. 2. 4. 4. 4. 1. 4. 2. 4. 2. 2. 4. 2. 2. 4. 4. 4.\n",
      " 0. 0. 0. 0. 0. 0.]\n",
      "[2. 2. 4. 2. 2. 3. 1. 2. 2. 4. 4. 4. 1. 4. 2. 4. 2. 2. 4. 2. 2. 4. 4. 4.\n",
      " 0. 0. 0. 0. 0. 0.]\n",
      "[2. 2. 4. 2. 2. 3. 1. 2. 2. 4. 4. 4. 1. 4. 2. 4. 2. 2. 4. 2. 4. 4. 4. 4.\n",
      " 0. 0. 0. 0. 0. 0.]\n",
      "[2. 2. 4. 2. 2. 3. 1. 2. 2. 4. 4. 4. 1. 4. 2. 4. 2. 2. 4. 4. 2. 4. 4. 4.\n",
      " 0. 0. 0. 0. 0. 0.]\n",
      "[2. 2. 4. 2. 2. 3. 1. 2. 2. 4. 4. 4. 1. 4. 2. 4. 2. 2. 4. 2. 4. 4. 4. 0.\n",
      " 0. 0. 0. 0. 0. 0.]\n",
      "[2. 2. 4. 2. 2. 3. 1. 2. 2. 4. 4. 4. 1. 4. 2. 4. 2. 2. 4. 2. 4. 4. 4. 0.\n",
      " 0. 0. 0. 0. 0. 0.]\n"
     ]
    }
   ],
   "source": [
    "print(\"Średni czas działania algorytmu genetycznego: {}\".format(np.mean(times)))\n",
    "print(\"Średnia wartość funkcji fitnessu najlepszego rozwiązania: {}\".format(np.mean(fitness_list)))\n",
    "print(\"Średnia liczba generacji do najlepszego rozwiązania: {}\".format(np.mean(generations_no)))\n",
    "\n",
    "print(\"Historia wyników :\")\n",
    "for i in range(len(output_list)):\n",
    "    print(output_list[i])"
   ]
  },
  {
   "cell_type": "code",
   "execution_count": 43,
   "metadata": {
    "collapsed": true,
    "execution": {
     "iopub.execute_input": "2022-04-03T20:53:22.425Z",
     "iopub.status.busy": "2022-04-03T20:53:22.422Z",
     "iopub.status.idle": "2022-04-03T20:53:22.446Z",
     "shell.execute_reply": "2022-04-03T20:53:22.459Z"
    },
    "nteract": {
     "transient": {
      "deleting": false
     }
    }
   },
   "outputs": [
    {
     "name": "stdout",
     "output_type": "stream",
     "text": [
      "[2. 2. 4. 2. 2. 3. 2. 2. 3. 4. 4. 4. 1. 4. 2. 4. 2. 2. 4. 1. 2. 4. 4. 4.\n",
      " 1. 2. 0. 0. 0. 0.]\n",
      "############\n",
      "# XX#XXX#  #\n",
      "###XXX#X## #\n",
      "#   # #X   #\n",
      "# # ##XX## #\n",
      "#  ## XX#  #\n",
      "#     #XXX##\n",
      "# #  ## #XX#\n",
      "# ###   ##X#\n",
      "# # ## # #X#\n",
      "# #      XX#\n",
      "############\n",
      "[2. 2. 4. 2. 2. 3. 3. 2. 2. 4. 4. 4. 1. 4. 2. 4. 2. 2. 4. 2. 2. 4. 4. 4.\n",
      " 0. 2. 0. 0. 0. 0.]\n",
      "############\n",
      "# XX#XXX#  #\n",
      "###XXX#X## #\n",
      "#   # #X   #\n",
      "# # ##XX## #\n",
      "#  ## XX#  #\n",
      "#     #XXX##\n",
      "# #  ## #XX#\n",
      "# ###   ##X#\n",
      "# # ## # #X#\n",
      "# #       X#\n",
      "############\n",
      "[2. 2. 4. 2. 2. 3. 3. 2. 2. 4. 4. 4. 1. 4. 2. 4. 2. 2. 4. 4. 2. 4. 4. 4.\n",
      " 0. 0. 0. 0. 0. 0.]\n",
      "############\n",
      "# XX#XXX#  #\n",
      "###XXX#X## #\n",
      "#   # #X   #\n",
      "# # ##XX## #\n",
      "#  ## XX#  #\n",
      "#     #XXX##\n",
      "# #  ## #XX#\n",
      "# ###   ##X#\n",
      "# # ## # #X#\n",
      "# #       X#\n",
      "############\n",
      "[2. 2. 4. 2. 2. 3. 1. 2. 2. 4. 4. 4. 1. 4. 2. 4. 2. 2. 4. 2. 3. 4. 4. 4.\n",
      " 0. 0. 0. 0. 0. 0.]\n",
      "############\n",
      "# XX#XXX#  #\n",
      "###XXX#X## #\n",
      "#   # #X   #\n",
      "# # ##XX## #\n",
      "#  ## XX#  #\n",
      "#     #XXX##\n",
      "# #  ## #XX#\n",
      "# ###   ##X#\n",
      "# # ## # #X#\n",
      "# #       X#\n",
      "############\n",
      "[2. 2. 4. 2. 2. 3. 3. 2. 2. 4. 4. 4. 1. 4. 2. 4. 2. 2. 4. 2. 2. 4. 4. 4.\n",
      " 0. 0. 0. 0. 0. 0.]\n",
      "############\n",
      "# XX#XXX#  #\n",
      "###XXX#X## #\n",
      "#   # #X   #\n",
      "# # ##XX## #\n",
      "#  ## XX#  #\n",
      "#     #XXX##\n",
      "# #  ## #XX#\n",
      "# ###   ##X#\n",
      "# # ## # #X#\n",
      "# #       X#\n",
      "############\n",
      "[2. 2. 4. 2. 2. 3. 1. 2. 2. 4. 4. 4. 1. 4. 2. 4. 2. 2. 4. 2. 2. 4. 4. 4.\n",
      " 0. 0. 0. 0. 0. 0.]\n",
      "############\n",
      "# XX#XXX#  #\n",
      "###XXX#X## #\n",
      "#   # #X   #\n",
      "# # ##XX## #\n",
      "#  ## XX#  #\n",
      "#     #XXX##\n",
      "# #  ## #XX#\n",
      "# ###   ##X#\n",
      "# # ## # #X#\n",
      "# #       X#\n",
      "############\n",
      "[2. 2. 4. 2. 2. 3. 1. 2. 2. 4. 4. 4. 1. 4. 2. 4. 2. 2. 4. 2. 4. 4. 4. 4.\n",
      " 0. 0. 0. 0. 0. 0.]\n",
      "############\n",
      "# XX#XXX#  #\n",
      "###XXX#X## #\n",
      "#   # #X   #\n",
      "# # ##XX## #\n",
      "#  ## XX#  #\n",
      "#     #XXX##\n",
      "# #  ## #XX#\n",
      "# ###   ##X#\n",
      "# # ## # #X#\n",
      "# #       X#\n",
      "############\n",
      "[2. 2. 4. 2. 2. 3. 1. 2. 2. 4. 4. 4. 1. 4. 2. 4. 2. 2. 4. 4. 2. 4. 4. 4.\n",
      " 0. 0. 0. 0. 0. 0.]\n",
      "############\n",
      "# XX#XXX#  #\n",
      "###XXX#X## #\n",
      "#   # #X   #\n",
      "# # ##XX## #\n",
      "#  ## XX#  #\n",
      "#     #XXX##\n",
      "# #  ## #XX#\n",
      "# ###   ##X#\n",
      "# # ## # #X#\n",
      "# #       X#\n",
      "############\n",
      "[2. 2. 4. 2. 2. 3. 1. 2. 2. 4. 4. 4. 1. 4. 2. 4. 2. 2. 4. 2. 4. 4. 4. 0.\n",
      " 0. 0. 0. 0. 0. 0.]\n",
      "############\n",
      "# XX#XXX#  #\n",
      "###XXX#X## #\n",
      "#   # #X   #\n",
      "# # ##XX## #\n",
      "#  ## XX#  #\n",
      "#     #XXX##\n",
      "# #  ## #XX#\n",
      "# ###   ##X#\n",
      "# # ## # #X#\n",
      "# #       X#\n",
      "############\n",
      "[2. 2. 4. 2. 2. 3. 1. 2. 2. 4. 4. 4. 1. 4. 2. 4. 2. 2. 4. 2. 4. 4. 4. 0.\n",
      " 0. 0. 0. 0. 0. 0.]\n",
      "############\n",
      "# XX#XXX#  #\n",
      "###XXX#X## #\n",
      "#   # #X   #\n",
      "# # ##XX## #\n",
      "#  ## XX#  #\n",
      "#     #XXX##\n",
      "# #  ## #XX#\n",
      "# ###   ##X#\n",
      "# # ## # #X#\n",
      "# #       X#\n",
      "############\n"
     ]
    }
   ],
   "source": [
    "for index in range(len(output_list)):\n",
    "    print(output_list[index])\n",
    "\n",
    "    # Zaczynamy w (1, 1)\n",
    "    i, j = 1, 1\n",
    "    position = [0]\n",
    "    lab_with_route = np.array([  # będę nadpisywać każdorazowo pola, na których był ruch\n",
    "            [1, 1, 1, 1, 1, 1, 1, 1, 1, 1, 1, 1],\n",
    "            [1, 0, 0, 0, 1, 0, 0, 0, 1, 0, 0, 1],\n",
    "            [1, 1, 1, 0, 0, 0, 1, 0, 1, 1, 0, 1],\n",
    "            [1, 0, 0, 0, 1, 0, 1, 0, 0, 0, 0, 1],\n",
    "            [1, 0, 1, 0, 1, 1, 0, 0, 1, 1, 0, 1],\n",
    "            [1, 0, 0, 1, 1, 0, 0, 0, 1, 0, 0, 1],\n",
    "            [1, 0, 0, 0, 0, 0, 1, 0, 0, 0, 1, 1],\n",
    "            [1, 0, 1, 0, 0, 1, 1, 0, 1, 0, 0, 1],\n",
    "            [1, 0, 1, 1, 1, 0, 0, 0, 1, 1, 0, 1],\n",
    "            [1, 0, 1, 0, 1, 1, 0, 1, 0, 1, 0, 1],\n",
    "            [1, 0, 1, 0, 0, 0, 0, 0, 0, 0, 0, 1],\n",
    "            [1, 1, 1, 1, 1, 1, 1, 1, 1, 1, 1, 1]\n",
    "        ])\n",
    "\n",
    "    for move in output_list[index]:  # analogicznie do funkcji fitnessu sprawdzamy kolejne położenia\n",
    "        if position[-1] == [10, 10] and move == 0:\n",
    "            continue\n",
    "\n",
    "        if move == 1:\n",
    "            new_j, new_i = j - 1, i\n",
    "        elif move == 2:\n",
    "            new_j, new_i = j + 1, i\n",
    "        elif move == 3:\n",
    "            new_i, new_j = i - 1, j\n",
    "        elif move == 4:\n",
    "            new_i, new_j = i + 1, j\n",
    "        else:\n",
    "            new_i, new_j = i, j\n",
    "\n",
    "        if 0 <= new_i <= 11 and 0 <= new_j <= 11:\n",
    "            if lab_with_route[new_i, new_j] != 1:\n",
    "                i, j = new_i, new_j\n",
    "                position.append([i, j])\n",
    "                lab_with_route[i, j] = 2\n",
    "\n",
    "    for index1 in range(12):\n",
    "        line = \"\"\n",
    "        for index2 in range(12):\n",
    "            if lab_with_route[index1, index2] == 0:\n",
    "                line += ' '\n",
    "            elif lab_with_route[index1, index2] == 1:\n",
    "                line += '#'\n",
    "            else:\n",
    "                line += 'X'\n",
    "        print(line)\n",
    "    \n",
    "    # print(lab_with_route)"
   ]
  }
 ],
 "metadata": {
  "kernel_info": {
   "name": "python3"
  },
  "kernelspec": {
   "display_name": "Python 3 (ipykernel)",
   "language": "python",
   "name": "python3"
  },
  "language_info": {
   "codemirror_mode": {
    "name": "ipython",
    "version": 3
   },
   "file_extension": ".py",
   "mimetype": "text/x-python",
   "name": "python",
   "nbconvert_exporter": "python",
   "pygments_lexer": "ipython3",
   "version": "3.11.1"
  },
  "nteract": {
   "version": "0.28.0"
  }
 },
 "nbformat": 4,
 "nbformat_minor": 1
}
