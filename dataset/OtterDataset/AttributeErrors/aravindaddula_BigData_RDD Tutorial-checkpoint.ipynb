{
 "cells": [
  {
   "cell_type": "code",
   "execution_count": 11,
   "id": "ec822ef9-ac5f-41de-ba2f-b4b2f5bbf5b4",
   "metadata": {},
   "outputs": [],
   "source": [
    "rdd=sc.textFile('file:///home/tony/BigData/Files/Sample.txt')"
   ]
  },
  {
   "cell_type": "code",
   "execution_count": 70,
   "id": "ba886da9-39f2-48d8-be9e-e3c59701c04e",
   "metadata": {},
   "outputs": [
    {
     "data": {
      "text/plain": [
       "['For example, a SQL query (using the .sql() method) that references your DataFrame will throw an error. To access the data in this way, you have to save it as a temporary table.',\n",
       " \"You can do this using the .createTempView() Spark DataFrame method, which takes as its only argument the name of the temporary table you'd like to register. This method registers the DataFrame as a table in the catalog, but as this table is temporary, it can only be accessed from the specific SparkSession used to create the Spark DataFrame.\"]"
      ]
     },
     "execution_count": 70,
     "metadata": {},
     "output_type": "execute_result"
    }
   ],
   "source": [
    "rdd.take(2)\n",
    "# print(type(rdd))"
   ]
  },
  {
   "cell_type": "code",
   "execution_count": 76,
   "id": "aec1c566-e504-4feb-8d96-5d3715366f78",
   "metadata": {},
   "outputs": [
    {
     "data": {
      "text/plain": [
       "['for',\n",
       " 'example,',\n",
       " 'a',\n",
       " 'sql',\n",
       " 'query',\n",
       " '(using',\n",
       " 'the',\n",
       " '.sql()',\n",
       " 'method)',\n",
       " 'that',\n",
       " 'references',\n",
       " 'your',\n",
       " 'dataframe',\n",
       " 'will',\n",
       " 'throw',\n",
       " 'an',\n",
       " 'error.',\n",
       " 'to',\n",
       " 'access',\n",
       " 'the',\n",
       " 'data',\n",
       " 'in',\n",
       " 'this',\n",
       " 'way,',\n",
       " 'you',\n",
       " 'have',\n",
       " 'to',\n",
       " 'save',\n",
       " 'it',\n",
       " 'as',\n",
       " 'a',\n",
       " 'temporary',\n",
       " 'table.']"
      ]
     },
     "execution_count": 76,
     "metadata": {},
     "output_type": "execute_result"
    }
   ],
   "source": [
    "# create function to convert a paragraph to Words\n",
    "convertToLower=rdd.map(lambda lines:lines.lower().split())\n",
    "convertToLower.take(1)[0]\n",
    "# def convertToLower(lines):\n",
    "#     lines=lines.lower()\n",
    "#     lines=lines.split(',')\n",
    "#     return lines\n",
    "# convertToLower=rdd.map(convertToLower)"
   ]
  },
  {
   "cell_type": "code",
   "execution_count": 72,
   "id": "9e9dfa4b-868d-40d7-8289-da3787c55729",
   "metadata": {},
   "outputs": [
    {
     "ename": "AttributeError",
     "evalue": "'list' object has no attribute 'filter'",
     "output_type": "error",
     "traceback": [
      "\u001b[0;31m---------------------------------------------------------------------------\u001b[0m",
      "\u001b[0;31mAttributeError\u001b[0m                            Traceback (most recent call last)",
      "Cell \u001b[0;32mIn[72], line 2\u001b[0m\n\u001b[1;32m      1\u001b[0m \u001b[38;5;66;03m# print(type(convertToLower.take(1)[0]))\u001b[39;00m\n\u001b[0;32m----> 2\u001b[0m \u001b[43mconvertToLower\u001b[49m\u001b[38;5;241;43m.\u001b[39;49m\u001b[43mtake\u001b[49m\u001b[43m(\u001b[49m\u001b[38;5;241;43m1\u001b[39;49m\u001b[43m)\u001b[49m\u001b[43m[\u001b[49m\u001b[38;5;241;43m0\u001b[39;49m\u001b[43m]\u001b[49m\u001b[38;5;241;43m.\u001b[39;49m\u001b[43mfilter\u001b[49m(\u001b[38;5;28;01mlambda\u001b[39;00m x:\u001b[38;5;28mlen\u001b[39m(x)\u001b[38;5;241m==\u001b[39m\u001b[38;5;241m4\u001b[39m)\n\u001b[1;32m      3\u001b[0m \u001b[38;5;66;03m# vals=splittedList[0]\u001b[39;00m\n\u001b[1;32m      4\u001b[0m \u001b[38;5;66;03m# filter the list elements that has length 4\u001b[39;00m\n\u001b[1;32m      5\u001b[0m \u001b[38;5;66;03m# filterLengthFour=vals.filter(lambda x:len(x)==4)\u001b[39;00m\n\u001b[1;32m      6\u001b[0m \u001b[38;5;66;03m# print(filterLenghFour)\u001b[39;00m\n",
      "\u001b[0;31mAttributeError\u001b[0m: 'list' object has no attribute 'filter'"
     ]
    }
   ],
   "source": [
    "# print(type(convertToLower.take(1)[0]))\n",
    "convertToLower.take(1)[0].filter(lambda x:len(x)==4)\n",
    "# vals=splittedList[0]\n",
    "# filter the list elements that has length 4\n",
    "# filterLengthFour=vals.filter(lambda x:len(x)==4)\n",
    "# print(filterLenghFour)"
   ]
  }
 ],
 "metadata": {
  "kernelspec": {
   "display_name": "Python 3 (ipykernel)",
   "language": "python",
   "name": "python3"
  },
  "language_info": {
   "codemirror_mode": {
    "name": "ipython",
    "version": 3
   },
   "file_extension": ".py",
   "mimetype": "text/x-python",
   "name": "python",
   "nbconvert_exporter": "python",
   "pygments_lexer": "ipython3",
   "version": "3.10.12"
  }
 },
 "nbformat": 4,
 "nbformat_minor": 5
}
