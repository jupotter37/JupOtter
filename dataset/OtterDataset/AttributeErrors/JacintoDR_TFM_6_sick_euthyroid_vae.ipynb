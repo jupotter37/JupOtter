{
 "cells": [
  {
   "cell_type": "markdown",
   "metadata": {
    "id": "qLO_siFYEPSg"
   },
   "source": [
    "# Dealing with imbalanced datasets, combining oversampling with VAE and undersampling to improve model recognition over all classes.  "
   ]
  },
  {
   "cell_type": "markdown",
   "metadata": {
    "id": "IOzC3QPArH_F"
   },
   "source": [
    "Import packages, classifiers and etc."
   ]
  },
  {
   "cell_type": "code",
   "execution_count": 1,
   "metadata": {
    "_cell_guid": "b1076dfc-b9ad-4769-8c92-a6c4dae69d19",
    "_uuid": "8f2839f25d086af736a60e9eeb907d3b93b6e0e5",
    "executionInfo": {
     "elapsed": 4745,
     "status": "ok",
     "timestamp": 1680781530119,
     "user": {
      "displayName": "JACINTO DOMINGUEZ RULL",
      "userId": "04779779024889038949"
     },
     "user_tz": -120
    },
    "id": "GDNB_c5RrH_I"
   },
   "outputs": [],
   "source": [
    "import pandas as pd\n",
    "import numpy as np\n",
    "\n",
    "from sklearn.preprocessing import StandardScaler\n",
    "from sklearn.model_selection import train_test_split, cross_validate\n",
    "\n",
    "from catboost import CatBoostClassifier\n",
    "from lightgbm import LGBMClassifier\n",
    "from xgboost import XGBClassifier\n",
    "from sklearn.ensemble import BaggingClassifier, RandomForestClassifier\n",
    "\n",
    "from sklearn.metrics import confusion_matrix, make_scorer\n",
    "from imblearn.metrics import classification_report_imbalanced, geometric_mean_score\n",
    "from collections import Counter\n",
    "\n",
    "from imblearn.over_sampling import SMOTE, RandomOverSampler"
   ]
  },
  {
   "cell_type": "markdown",
   "metadata": {
    "id": "7qxBXk4fPiJx"
   },
   "source": [
    "Import VAEOversampler."
   ]
  },
  {
   "cell_type": "code",
   "execution_count": 2,
   "metadata": {
    "executionInfo": {
     "elapsed": 7132,
     "status": "ok",
     "timestamp": 1680781537245,
     "user": {
      "displayName": "JACINTO DOMINGUEZ RULL",
      "userId": "04779779024889038949"
     },
     "user_tz": -120
    },
    "id": "DqyRUyWlvryO"
   },
   "outputs": [
    {
     "name": "stderr",
     "output_type": "stream",
     "text": [
      "2023-07-10 16:39:31.852189: W tensorflow/stream_executor/platform/default/dso_loader.cc:64] Could not load dynamic library 'libcudart.so.11.0'; dlerror: libcudart.so.11.0: cannot open shared object file: No such file or directory\n",
      "2023-07-10 16:39:31.852212: I tensorflow/stream_executor/cuda/cudart_stub.cc:29] Ignore above cudart dlerror if you do not have a GPU set up on your machine.\n"
     ]
    }
   ],
   "source": [
    "from VAEOversampler import VAEOversampler"
   ]
  },
  {
   "cell_type": "markdown",
   "metadata": {
    "id": "8UEMO2hTPztj"
   },
   "source": [
    "## Loading data  \n",
    "You can load some dataset from Imbalanced Learn list (https://imbalanced-learn.org/stable/datasets/index.html) or use your own data.  \n"
   ]
  },
  {
   "cell_type": "code",
   "execution_count": 3,
   "metadata": {
    "colab": {
     "base_uri": "https://localhost:8080/"
    },
    "executionInfo": {
     "elapsed": 73951,
     "status": "ok",
     "timestamp": 1680781611184,
     "user": {
      "displayName": "JACINTO DOMINGUEZ RULL",
      "userId": "04779779024889038949"
     },
     "user_tz": -120
    },
    "id": "Xnh_x70FwVCi",
    "outputId": "80020616-33fc-406e-e66f-d29de74c6d9e"
   },
   "outputs": [],
   "source": [
    "from imblearn.datasets import fetch_datasets\n",
    "\n",
    "dset_name = 'sick_euthyroid'\n",
    "dset = fetch_datasets()[dset_name]\n",
    "\n",
    "X, y = StandardScaler().fit_transform(dset.data), dset.target"
   ]
  },
  {
   "cell_type": "code",
   "execution_count": 4,
   "metadata": {
    "colab": {
     "base_uri": "https://localhost:8080/"
    },
    "executionInfo": {
     "elapsed": 20,
     "status": "ok",
     "timestamp": 1680781611187,
     "user": {
      "displayName": "JACINTO DOMINGUEZ RULL",
      "userId": "04779779024889038949"
     },
     "user_tz": -120
    },
    "id": "v_SUvgVSByCD",
    "outputId": "8459fbec-91c6-4170-86bd-edbd4ce8c0ca"
   },
   "outputs": [
    {
     "data": {
      "text/plain": [
       "array([[ 1.04145908, -1.49139564,  1.57590614, ..., -0.4373301 ,\n",
       "         0.29926998, -0.29926998],\n",
       "       [-0.27007446,  0.67051289, -0.63455556, ..., -0.1040866 ,\n",
       "         0.29926998, -0.29926998],\n",
       "       [ 0.65285655,  0.67051289, -0.63455556, ...,  0.04254054,\n",
       "         0.29926998, -0.29926998],\n",
       "       ...,\n",
       "       [ 0.36140465,  0.67051289, -0.63455556, ..., -0.33069218,\n",
       "         0.29926998, -0.29926998],\n",
       "       [-1.04727952,  0.67051289, -0.63455556, ..., -0.29070296,\n",
       "         0.29926998, -0.29926998],\n",
       "       [ 0.26425402,  0.67051289, -0.63455556, ...,  0.30913534,\n",
       "         0.29926998, -0.29926998]])"
      ]
     },
     "execution_count": 4,
     "metadata": {},
     "output_type": "execute_result"
    }
   ],
   "source": [
    "X"
   ]
  },
  {
   "cell_type": "code",
   "execution_count": 5,
   "metadata": {
    "executionInfo": {
     "elapsed": 252,
     "status": "ok",
     "timestamp": 1680781619405,
     "user": {
      "displayName": "JACINTO DOMINGUEZ RULL",
      "userId": "04779779024889038949"
     },
     "user_tz": -120
    },
    "id": "Tb09lFMxPS2J"
   },
   "outputs": [],
   "source": [
    "y[y == -1] = 0"
   ]
  },
  {
   "cell_type": "markdown",
   "metadata": {
    "id": "hpLA_GmKSJwN"
   },
   "source": [
    "We split data into train and test partitions."
   ]
  },
  {
   "cell_type": "code",
   "execution_count": 6,
   "metadata": {
    "executionInfo": {
     "elapsed": 221,
     "status": "ok",
     "timestamp": 1680781622914,
     "user": {
      "displayName": "JACINTO DOMINGUEZ RULL",
      "userId": "04779779024889038949"
     },
     "user_tz": -120
    },
    "id": "ZS-Dd0R9GbBY"
   },
   "outputs": [],
   "source": [
    "X_train, X_test, y_train, y_test = train_test_split(X, y, test_size=0.2, random_state=42, stratify=y)"
   ]
  },
  {
   "cell_type": "markdown",
   "metadata": {
    "id": "Em7Um0N4rH_S"
   },
   "source": [
    "This is a simple function to undersample freely.  "
   ]
  },
  {
   "cell_type": "code",
   "execution_count": 7,
   "metadata": {
    "executionInfo": {
     "elapsed": 9,
     "status": "ok",
     "timestamp": 1680781626758,
     "user": {
      "displayName": "JACINTO DOMINGUEZ RULL",
      "userId": "04779779024889038949"
     },
     "user_tz": -120
    },
    "id": "1cdWcXE3Ofok"
   },
   "outputs": [],
   "source": [
    "# RUS\n",
    "\n",
    "def RUS(X_res, y_res, frac=1, minority_class_id=1, random_state=42):\n",
    "    X_res = pd.DataFrame(X_res)\n",
    "    X_res['Class'] = y_res  \n",
    "    \n",
    "    X_neg = X_res[y_res != minority_class_id].sample(frac=frac, random_state=random_state)\n",
    "    X_pos = X_res[y_res == minority_class_id].sample(frac=1, random_state=random_state)\n",
    "    \n",
    "    X_rus = pd.concat([X_neg, X_pos], ignore_index=True)\n",
    "\n",
    "    X_eq = X_rus.drop('Class', axis=1)\n",
    "    y_eq = X_rus['Class']\n",
    "\n",
    "    return X_eq, y_eq"
   ]
  },
  {
   "cell_type": "code",
   "execution_count": 8,
   "metadata": {
    "executionInfo": {
     "elapsed": 579,
     "status": "ok",
     "timestamp": 1680781628461,
     "user": {
      "displayName": "JACINTO DOMINGUEZ RULL",
      "userId": "04779779024889038949"
     },
     "user_tz": -120
    },
    "id": "1Ep1nUMCES98"
   },
   "outputs": [],
   "source": [
    "def train_val(X, y, Xt, yt, random_state=42):\n",
    "    classifiers = {\n",
    "        \"CatBoostClassifier\": CatBoostClassifier(verbose=False, random_seed=random_state),\n",
    "        \"LGBMClassifier\": LGBMClassifier(random_state=random_state),\n",
    "        \"XGBClassifier\": XGBClassifier(random_state=random_state),\n",
    "        \"BaggingClassifier\": BaggingClassifier(random_state=random_state),\n",
    "        \"RandomForestClassifier\": RandomForestClassifier(random_state=random_state),\n",
    "    }\n",
    "    scores = []\n",
    "    predictions = []\n",
    "    for key, classifier in classifiers.items():\n",
    "        print('_' * 50)\n",
    "        name = key\n",
    "        classifier.fit(X, y)\n",
    "        print(\"Classifier: \", name)\n",
    "        y_pred = classifier.predict(Xt)\n",
    "        cm = confusion_matrix(yt, y_pred)\n",
    "        print(cm)\n",
    "        print('')\n",
    "        predictions.append(y_pred)\n",
    "        tn = cm[0,0]\n",
    "        fp = cm[0,1]\n",
    "        fn = cm[1,0]\n",
    "        tp = cm[1,1]\n",
    "        tnr = tn / (tn + fp)\n",
    "        tpr = tp / (tp + fn)\n",
    "        scores.append(tnr * tpr)\n",
    "        print('TNR:', round(tnr, 5))\n",
    "        print('TPR:', round(tpr, 5))\n",
    "        print('TNRxTPR:', round(tnr * tpr, 5))\n",
    "        print('G-mean:', round(np.sqrt(tnr * tpr), 5))\n",
    "\n",
    "    print('_' * 50)\n",
    "    print('Ensemble predictions (majority voting):')\n",
    "    predictions = np.sum(predictions, axis=0)\n",
    "    predictions[predictions < 3] = 0\n",
    "    predictions[predictions >= 3] = 1\n",
    "\n",
    "    cm = confusion_matrix(yt, predictions)\n",
    "    print(cm)\n",
    "    tn = cm[0,0]\n",
    "    fp = cm[0,1]\n",
    "    fn = cm[1,0]\n",
    "    tp = cm[1,1]\n",
    "    tnr = tn / (tn + fp)\n",
    "    tpr = tp / (tp + fn)\n",
    "    print('')\n",
    "    print('TNR:', round(tnr, 5))\n",
    "    print('TPR:', round(tpr, 5))\n",
    "    print('TNRxTPR:', round(tnr * tpr, 5))\n",
    "    print('G-mean:', round(np.sqrt(tnr * tpr), 5))\n",
    "    "
   ]
  },
  {
   "cell_type": "markdown",
   "metadata": {},
   "source": [
    "## Without resampling (base line) \n",
    "Which is starting score?\n"
   ]
  },
  {
   "cell_type": "code",
   "execution_count": 9,
   "metadata": {},
   "outputs": [
    {
     "name": "stdout",
     "output_type": "stream",
     "text": [
      "Original dataset shape Counter({0: 2870, 1: 293})\n",
      "Ratio-> 9.8 : 1\n"
     ]
    }
   ],
   "source": [
    "print('Original dataset shape %s' % Counter(y))\n",
    "print('Ratio->', round(Counter(y)[0]/Counter(y)[1], 1), ': 1')"
   ]
  },
  {
   "cell_type": "code",
   "execution_count": 10,
   "metadata": {},
   "outputs": [
    {
     "name": "stdout",
     "output_type": "stream",
     "text": [
      "__________________________________________________\n",
      "Classifier:  CatBoostClassifier\n",
      "[[564  10]\n",
      " [  9  50]]\n",
      "\n",
      "TNR: 0.98258\n",
      "TPR: 0.84746\n",
      "TNRxTPR: 0.83269\n",
      "G-mean: 0.91252\n",
      "__________________________________________________\n",
      "Classifier:  LGBMClassifier\n",
      "[[561  13]\n",
      " [  9  50]]\n",
      "\n",
      "TNR: 0.97735\n",
      "TPR: 0.84746\n",
      "TNRxTPR: 0.82826\n",
      "G-mean: 0.91009\n",
      "__________________________________________________\n",
      "Classifier:  XGBClassifier\n",
      "[[562  12]\n",
      " [  9  50]]\n",
      "\n",
      "TNR: 0.97909\n",
      "TPR: 0.84746\n",
      "TNRxTPR: 0.82974\n",
      "G-mean: 0.9109\n",
      "__________________________________________________\n",
      "Classifier:  BaggingClassifier\n",
      "[[562  12]\n",
      " [  9  50]]\n",
      "\n",
      "TNR: 0.97909\n",
      "TPR: 0.84746\n",
      "TNRxTPR: 0.82974\n",
      "G-mean: 0.9109\n",
      "__________________________________________________\n",
      "Classifier:  RandomForestClassifier\n",
      "[[561  13]\n",
      " [  9  50]]\n",
      "\n",
      "TNR: 0.97735\n",
      "TPR: 0.84746\n",
      "TNRxTPR: 0.82826\n",
      "G-mean: 0.91009\n",
      "__________________________________________________\n",
      "Ensemble predictions (majority voting):\n",
      "[[564  10]\n",
      " [  9  50]]\n",
      "\n",
      "TNR: 0.98258\n",
      "TPR: 0.84746\n",
      "TNRxTPR: 0.83269\n",
      "G-mean: 0.91252\n"
     ]
    }
   ],
   "source": [
    "train_val(X_train, y_train, X_test, y_test)"
   ]
  },
  {
   "cell_type": "markdown",
   "metadata": {},
   "source": [
    "## Ratio 1:1  \n",
    "Let's see classifiers scores when dataset is balanced.  \n"
   ]
  },
  {
   "cell_type": "code",
   "execution_count": 10,
   "metadata": {
    "colab": {
     "base_uri": "https://localhost:8080/"
    },
    "executionInfo": {
     "elapsed": 9,
     "status": "ok",
     "timestamp": 1678643391827,
     "user": {
      "displayName": "JACINTO DOMINGUEZ RULL",
      "userId": "04779779024889038949"
     },
     "user_tz": -60
    },
    "id": "BHJ2B9Cx_nsc",
    "outputId": "fc58f853-eb93-4896-fcb4-54fb90ceeaa9"
   },
   "outputs": [
    {
     "name": "stderr",
     "output_type": "stream",
     "text": [
      "Exception ignored on calling ctypes callback function: <function _ThreadpoolInfo._find_modules_with_dl_iterate_phdr.<locals>.match_module_callback at 0x7f80ac4e8040>\n",
      "Traceback (most recent call last):\n",
      "  File \"/home/a/anaconda3/lib/python3.9/site-packages/threadpoolctl.py\", line 400, in match_module_callback\n",
      "    self._make_module_from_path(filepath)\n",
      "  File \"/home/a/anaconda3/lib/python3.9/site-packages/threadpoolctl.py\", line 515, in _make_module_from_path\n",
      "    module = module_class(filepath, prefix, user_api, internal_api)\n",
      "  File \"/home/a/anaconda3/lib/python3.9/site-packages/threadpoolctl.py\", line 606, in __init__\n",
      "    self.version = self.get_version()\n",
      "  File \"/home/a/anaconda3/lib/python3.9/site-packages/threadpoolctl.py\", line 646, in get_version\n",
      "    config = get_config().split()\n",
      "AttributeError: 'NoneType' object has no attribute 'split'\n"
     ]
    }
   ],
   "source": [
    "# SMOTE\n",
    "\n",
    "sm = SMOTE(random_state=42, sampling_strategy=1) # N_rm / N_M\n",
    "X_res, y_res = sm.fit_resample(X_train, y_train)"
   ]
  },
  {
   "cell_type": "code",
   "execution_count": 11,
   "metadata": {},
   "outputs": [
    {
     "name": "stdout",
     "output_type": "stream",
     "text": [
      "Resampled dataset shape Counter({0: 2296, 1: 2296})\n",
      "Ratio->  1 : 1.0\n"
     ]
    }
   ],
   "source": [
    "print('Resampled dataset shape %s' % Counter(y_res))\n",
    "print('Ratio->  1 :', round(Counter(y_res)[1]/Counter(y_res)[0], 1))"
   ]
  },
  {
   "cell_type": "code",
   "execution_count": 12,
   "metadata": {
    "colab": {
     "base_uri": "https://localhost:8080/"
    },
    "executionInfo": {
     "elapsed": 4090,
     "status": "ok",
     "timestamp": 1678643398595,
     "user": {
      "displayName": "JACINTO DOMINGUEZ RULL",
      "userId": "04779779024889038949"
     },
     "user_tz": -60
    },
    "id": "CMGEySDMpTdx",
    "outputId": "7963af02-4a66-40d8-d6e9-7a516be33818",
    "scrolled": false
   },
   "outputs": [
    {
     "name": "stdout",
     "output_type": "stream",
     "text": [
      "__________________________________________________\n",
      "Classifier:  CatBoostClassifier\n",
      "[[557  17]\n",
      " [  7  52]]\n",
      "\n",
      "TNR: 0.97038\n",
      "TPR: 0.88136\n",
      "TNRxTPR: 0.85525\n",
      "G-mean: 0.9248\n",
      "__________________________________________________\n",
      "Classifier:  LGBMClassifier\n",
      "[[557  17]\n",
      " [  8  51]]\n",
      "\n",
      "TNR: 0.97038\n",
      "TPR: 0.86441\n",
      "TNRxTPR: 0.83881\n",
      "G-mean: 0.91586\n",
      "__________________________________________________\n",
      "Classifier:  XGBClassifier\n",
      "[[556  18]\n",
      " [  9  50]]\n",
      "\n",
      "TNR: 0.96864\n",
      "TPR: 0.84746\n",
      "TNRxTPR: 0.82088\n",
      "G-mean: 0.90603\n",
      "__________________________________________________\n",
      "Classifier:  BaggingClassifier\n",
      "[[559  15]\n",
      " [ 10  49]]\n",
      "\n",
      "TNR: 0.97387\n",
      "TPR: 0.83051\n",
      "TNRxTPR: 0.80881\n",
      "G-mean: 0.89934\n",
      "__________________________________________________\n",
      "Classifier:  RandomForestClassifier\n",
      "[[555  19]\n",
      " [  8  51]]\n",
      "\n",
      "TNR: 0.9669\n",
      "TPR: 0.86441\n",
      "TNRxTPR: 0.83579\n",
      "G-mean: 0.91422\n",
      "__________________________________________________\n",
      "Ensemble predictions (majority voting):\n",
      "[[556  18]\n",
      " [  8  51]]\n",
      "\n",
      "TNR: 0.96864\n",
      "TPR: 0.86441\n",
      "TNRxTPR: 0.8373\n",
      "G-mean: 0.91504\n"
     ]
    }
   ],
   "source": [
    "train_val(X_res, y_res, X_test, y_test)"
   ]
  },
  {
   "cell_type": "code",
   "execution_count": 13,
   "metadata": {
    "colab": {
     "base_uri": "https://localhost:8080/"
    },
    "executionInfo": {
     "elapsed": 216,
     "status": "ok",
     "timestamp": 1678643478772,
     "user": {
      "displayName": "JACINTO DOMINGUEZ RULL",
      "userId": "04779779024889038949"
     },
     "user_tz": -60
    },
    "id": "hiRVkg2eUx0U",
    "outputId": "02ae118b-eae6-4fee-86be-85eaa83c3ebd"
   },
   "outputs": [],
   "source": [
    "# ROS\n",
    "\n",
    "ros = RandomOverSampler(random_state=42, sampling_strategy=1) # N_rm / N_M\n",
    "X_res, y_res = ros.fit_resample(X_train, y_train)"
   ]
  },
  {
   "cell_type": "code",
   "execution_count": 14,
   "metadata": {},
   "outputs": [
    {
     "name": "stdout",
     "output_type": "stream",
     "text": [
      "Resampled dataset shape Counter({0: 2296, 1: 2296})\n",
      "Ratio->  1 : 1.0\n"
     ]
    }
   ],
   "source": [
    "print('Resampled dataset shape %s' % Counter(y_res))\n",
    "print('Ratio->  1 :', round(Counter(y_res)[1]/Counter(y_res)[0], 1))"
   ]
  },
  {
   "cell_type": "code",
   "execution_count": 15,
   "metadata": {
    "colab": {
     "base_uri": "https://localhost:8080/"
    },
    "executionInfo": {
     "elapsed": 1682,
     "status": "ok",
     "timestamp": 1678643482664,
     "user": {
      "displayName": "JACINTO DOMINGUEZ RULL",
      "userId": "04779779024889038949"
     },
     "user_tz": -60
    },
    "id": "IMANwdwxUx0b",
    "outputId": "0f94cab4-4e4e-4a0b-acea-6584e212a754",
    "scrolled": false
   },
   "outputs": [
    {
     "name": "stdout",
     "output_type": "stream",
     "text": [
      "__________________________________________________\n",
      "Classifier:  CatBoostClassifier\n",
      "[[559  15]\n",
      " [  8  51]]\n",
      "\n",
      "TNR: 0.97387\n",
      "TPR: 0.86441\n",
      "TNRxTPR: 0.84182\n",
      "G-mean: 0.91751\n",
      "__________________________________________________\n",
      "Classifier:  LGBMClassifier\n",
      "[[561  13]\n",
      " [  8  51]]\n",
      "\n",
      "TNR: 0.97735\n",
      "TPR: 0.86441\n",
      "TNRxTPR: 0.84483\n",
      "G-mean: 0.91915\n",
      "__________________________________________________\n",
      "Classifier:  XGBClassifier\n",
      "[[560  14]\n",
      " [  8  51]]\n",
      "\n",
      "TNR: 0.97561\n",
      "TPR: 0.86441\n",
      "TNRxTPR: 0.84332\n",
      "G-mean: 0.91833\n",
      "__________________________________________________\n",
      "Classifier:  BaggingClassifier\n",
      "[[559  15]\n",
      " [  8  51]]\n",
      "\n",
      "TNR: 0.97387\n",
      "TPR: 0.86441\n",
      "TNRxTPR: 0.84182\n",
      "G-mean: 0.91751\n",
      "__________________________________________________\n",
      "Classifier:  RandomForestClassifier\n",
      "[[561  13]\n",
      " [ 10  49]]\n",
      "\n",
      "TNR: 0.97735\n",
      "TPR: 0.83051\n",
      "TNRxTPR: 0.8117\n",
      "G-mean: 0.90094\n",
      "__________________________________________________\n",
      "Ensemble predictions (majority voting):\n",
      "[[560  14]\n",
      " [  8  51]]\n",
      "\n",
      "TNR: 0.97561\n",
      "TPR: 0.86441\n",
      "TNRxTPR: 0.84332\n",
      "G-mean: 0.91833\n"
     ]
    }
   ],
   "source": [
    "train_val(X_res, y_res, X_test, y_test)"
   ]
  },
  {
   "cell_type": "code",
   "execution_count": 11,
   "metadata": {
    "colab": {
     "base_uri": "https://localhost:8080/"
    },
    "executionInfo": {
     "elapsed": 8054,
     "status": "ok",
     "timestamp": 1680781639220,
     "user": {
      "displayName": "JACINTO DOMINGUEZ RULL",
      "userId": "04779779024889038949"
     },
     "user_tz": -120
    },
    "id": "B065rYa3wO-o",
    "outputId": "a6b36d82-dfe8-422f-bc67-ed0ee80bd43b"
   },
   "outputs": [
    {
     "name": "stderr",
     "output_type": "stream",
     "text": [
      "2023-07-10 16:40:19.812609: W tensorflow/stream_executor/platform/default/dso_loader.cc:64] Could not load dynamic library 'libcuda.so.1'; dlerror: libcuda.so.1: cannot open shared object file: No such file or directory\n",
      "2023-07-10 16:40:19.812640: W tensorflow/stream_executor/cuda/cuda_driver.cc:269] failed call to cuInit: UNKNOWN ERROR (303)\n",
      "2023-07-10 16:40:19.812664: I tensorflow/stream_executor/cuda/cuda_diagnostics.cc:156] kernel driver does not appear to be running on this host (a-Modern-15-A5M): /proc/driver/nvidia/version does not exist\n",
      "2023-07-10 16:40:19.812971: I tensorflow/core/platform/cpu_feature_guard.cc:151] This TensorFlow binary is optimized with oneAPI Deep Neural Network Library (oneDNN) to use the following CPU instructions in performance-critical operations:  AVX2 FMA\n",
      "To enable them in other operations, rebuild TensorFlow with the appropriate compiler flags.\n"
     ]
    }
   ],
   "source": [
    "# VAEOversampler\n",
    "\n",
    "vae_sampler = VAEOversampler(epochs=500,\n",
    "                              intermediate_dim=512,\n",
    "                              batch_size=64,\n",
    "                              random_state=42,\n",
    "                              verbose=False)\n",
    "X_res, y_res = vae_sampler.fit_resample(X_train, y_train)"
   ]
  },
  {
   "cell_type": "code",
   "execution_count": 12,
   "metadata": {
    "colab": {
     "base_uri": "https://localhost:8080/"
    },
    "executionInfo": {
     "elapsed": 13,
     "status": "ok",
     "timestamp": 1680781639221,
     "user": {
      "displayName": "JACINTO DOMINGUEZ RULL",
      "userId": "04779779024889038949"
     },
     "user_tz": -120
    },
    "id": "nOsNattyeSXh",
    "outputId": "3785fbee-89eb-4c1d-a7c3-e16dee7a54fa"
   },
   "outputs": [
    {
     "name": "stdout",
     "output_type": "stream",
     "text": [
      "Resampled dataset shape Counter({0.0: 2296, 1.0: 2296})\n",
      "Ratio->  1 : 1.0\n"
     ]
    }
   ],
   "source": [
    "print('Resampled dataset shape %s' % Counter(y_res))\n",
    "print('Ratio->  1 :', round(Counter(y_res)[1]/Counter(y_res)[0], 1))"
   ]
  },
  {
   "cell_type": "code",
   "execution_count": 13,
   "metadata": {
    "colab": {
     "base_uri": "https://localhost:8080/"
    },
    "executionInfo": {
     "elapsed": 26871,
     "status": "ok",
     "timestamp": 1680781673947,
     "user": {
      "displayName": "JACINTO DOMINGUEZ RULL",
      "userId": "04779779024889038949"
     },
     "user_tz": -120
    },
    "id": "6BNffQSbwO-t",
    "outputId": "531ff526-a2cf-496e-9ca6-a39d5f792077"
   },
   "outputs": [
    {
     "name": "stdout",
     "output_type": "stream",
     "text": [
      "__________________________________________________\n",
      "Classifier:  CatBoostClassifier\n",
      "[[562  12]\n",
      " [  9  50]]\n",
      "\n",
      "TNR: 0.97909\n",
      "TPR: 0.84746\n",
      "TNRxTPR: 0.82974\n",
      "G-mean: 0.9109\n",
      "__________________________________________________\n",
      "Classifier:  LGBMClassifier\n",
      "[[561  13]\n",
      " [  9  50]]\n",
      "\n",
      "TNR: 0.97735\n",
      "TPR: 0.84746\n",
      "TNRxTPR: 0.82826\n",
      "G-mean: 0.91009\n",
      "__________________________________________________\n",
      "Classifier:  XGBClassifier\n",
      "[[561  13]\n",
      " [  9  50]]\n",
      "\n",
      "TNR: 0.97735\n",
      "TPR: 0.84746\n",
      "TNRxTPR: 0.82826\n",
      "G-mean: 0.91009\n",
      "__________________________________________________\n",
      "Classifier:  BaggingClassifier\n",
      "[[562  12]\n",
      " [ 12  47]]\n",
      "\n",
      "TNR: 0.97909\n",
      "TPR: 0.79661\n",
      "TNRxTPR: 0.77996\n",
      "G-mean: 0.88315\n",
      "__________________________________________________\n",
      "Classifier:  RandomForestClassifier\n",
      "[[564  10]\n",
      " [  9  50]]\n",
      "\n",
      "TNR: 0.98258\n",
      "TPR: 0.84746\n",
      "TNRxTPR: 0.83269\n",
      "G-mean: 0.91252\n",
      "__________________________________________________\n",
      "Ensemble predictions (majority voting):\n",
      "[[562  12]\n",
      " [  9  50]]\n",
      "\n",
      "TNR: 0.97909\n",
      "TPR: 0.84746\n",
      "TNRxTPR: 0.82974\n",
      "G-mean: 0.9109\n"
     ]
    }
   ],
   "source": [
    "train_val(X_res, y_res, X_test, y_test)"
   ]
  },
  {
   "cell_type": "markdown",
   "metadata": {
    "id": "w9swp8C1wO-w"
   },
   "source": [
    "## Under/Oversampling combination  \n",
    "Now we can tuning the number of instances for each class to optimize metric.  \n"
   ]
  },
  {
   "cell_type": "code",
   "execution_count": 25,
   "metadata": {
    "colab": {
     "base_uri": "https://localhost:8080/"
    },
    "executionInfo": {
     "elapsed": 9,
     "status": "ok",
     "timestamp": 1678643391827,
     "user": {
      "displayName": "JACINTO DOMINGUEZ RULL",
      "userId": "04779779024889038949"
     },
     "user_tz": -60
    },
    "id": "BHJ2B9Cx_nsc",
    "outputId": "fc58f853-eb93-4896-fcb4-54fb90ceeaa9"
   },
   "outputs": [
    {
     "name": "stderr",
     "output_type": "stream",
     "text": [
      "Exception ignored on calling ctypes callback function: <function _ThreadpoolInfo._find_modules_with_dl_iterate_phdr.<locals>.match_module_callback at 0x7f80eacef1f0>\n",
      "Traceback (most recent call last):\n",
      "  File \"/home/a/anaconda3/lib/python3.9/site-packages/threadpoolctl.py\", line 400, in match_module_callback\n",
      "    self._make_module_from_path(filepath)\n",
      "  File \"/home/a/anaconda3/lib/python3.9/site-packages/threadpoolctl.py\", line 515, in _make_module_from_path\n",
      "    module = module_class(filepath, prefix, user_api, internal_api)\n",
      "  File \"/home/a/anaconda3/lib/python3.9/site-packages/threadpoolctl.py\", line 606, in __init__\n",
      "    self.version = self.get_version()\n",
      "  File \"/home/a/anaconda3/lib/python3.9/site-packages/threadpoolctl.py\", line 646, in get_version\n",
      "    config = get_config().split()\n",
      "AttributeError: 'NoneType' object has no attribute 'split'\n"
     ]
    }
   ],
   "source": [
    "# SMOTE\n",
    "\n",
    "sm = SMOTE(random_state=42, sampling_strategy=1) # N_rm / N_M\n",
    "X_res, y_res = sm.fit_resample(X_train, y_train)"
   ]
  },
  {
   "cell_type": "code",
   "execution_count": 28,
   "metadata": {},
   "outputs": [
    {
     "name": "stdout",
     "output_type": "stream",
     "text": [
      "Resampled dataset shape Counter({1: 2296, 0: 459})\n",
      "Ratio->  1 : 5.0\n"
     ]
    }
   ],
   "source": [
    "# RUS\n",
    "\n",
    "X_eq, y_eq = RUS(X_res, y_res, frac=.2)\n",
    "\n",
    "print('Resampled dataset shape %s' % Counter(y_eq))\n",
    "print('Ratio->  1 :', round(Counter(y_eq)[1]/Counter(y_eq)[0], 1))"
   ]
  },
  {
   "cell_type": "code",
   "execution_count": 29,
   "metadata": {
    "colab": {
     "base_uri": "https://localhost:8080/"
    },
    "executionInfo": {
     "elapsed": 4090,
     "status": "ok",
     "timestamp": 1678643398595,
     "user": {
      "displayName": "JACINTO DOMINGUEZ RULL",
      "userId": "04779779024889038949"
     },
     "user_tz": -60
    },
    "id": "CMGEySDMpTdx",
    "outputId": "7963af02-4a66-40d8-d6e9-7a516be33818",
    "scrolled": false
   },
   "outputs": [
    {
     "name": "stdout",
     "output_type": "stream",
     "text": [
      "__________________________________________________\n",
      "Classifier:  CatBoostClassifier\n",
      "[[534  40]\n",
      " [  4  55]]\n",
      "\n",
      "TNR: 0.93031\n",
      "TPR: 0.9322\n",
      "TNRxTPR: 0.86724\n",
      "G-mean: 0.93126\n",
      "__________________________________________________\n",
      "Classifier:  LGBMClassifier\n",
      "[[530  44]\n",
      " [  3  56]]\n",
      "\n",
      "TNR: 0.92334\n",
      "TPR: 0.94915\n",
      "TNRxTPR: 0.8764\n",
      "G-mean: 0.93616\n",
      "__________________________________________________\n",
      "Classifier:  XGBClassifier\n",
      "[[527  47]\n",
      " [  4  55]]\n",
      "\n",
      "TNR: 0.91812\n",
      "TPR: 0.9322\n",
      "TNRxTPR: 0.85587\n",
      "G-mean: 0.92513\n",
      "__________________________________________________\n",
      "Classifier:  BaggingClassifier\n",
      "[[534  40]\n",
      " [  7  52]]\n",
      "\n",
      "TNR: 0.93031\n",
      "TPR: 0.88136\n",
      "TNRxTPR: 0.81994\n",
      "G-mean: 0.9055\n",
      "__________________________________________________\n",
      "Classifier:  RandomForestClassifier\n",
      "[[529  45]\n",
      " [  5  54]]\n",
      "\n",
      "TNR: 0.9216\n",
      "TPR: 0.91525\n",
      "TNRxTPR: 0.8435\n",
      "G-mean: 0.91842\n",
      "__________________________________________________\n",
      "Ensemble predictions (majority voting):\n",
      "[[536  38]\n",
      " [  4  55]]\n",
      "\n",
      "TNR: 0.9338\n",
      "TPR: 0.9322\n",
      "TNRxTPR: 0.87049\n",
      "G-mean: 0.933\n"
     ]
    }
   ],
   "source": [
    "train_val(X_eq, y_eq, X_test, y_test)"
   ]
  },
  {
   "cell_type": "code",
   "execution_count": 22,
   "metadata": {},
   "outputs": [],
   "source": [
    "# ROS\n",
    "\n",
    "ros = RandomOverSampler(random_state=42, sampling_strategy=1) # N_rm / N_M\n",
    "X_res, y_res = ros.fit_resample(X_train, y_train)"
   ]
  },
  {
   "cell_type": "code",
   "execution_count": 23,
   "metadata": {},
   "outputs": [
    {
     "name": "stdout",
     "output_type": "stream",
     "text": [
      "Resampled dataset shape Counter({1: 2296, 0: 689})\n",
      "Ratio->  1 : 3.3\n"
     ]
    }
   ],
   "source": [
    "# RUS\n",
    "\n",
    "X_eq, y_eq = RUS(X_res, y_res, frac=.3)\n",
    "\n",
    "print('Resampled dataset shape %s' % Counter(y_eq))\n",
    "print('Ratio->  1 :', round(Counter(y_eq)[1]/Counter(y_eq)[0], 1))"
   ]
  },
  {
   "cell_type": "code",
   "execution_count": 24,
   "metadata": {
    "colab": {
     "base_uri": "https://localhost:8080/"
    },
    "executionInfo": {
     "elapsed": 4090,
     "status": "ok",
     "timestamp": 1678643398595,
     "user": {
      "displayName": "JACINTO DOMINGUEZ RULL",
      "userId": "04779779024889038949"
     },
     "user_tz": -60
    },
    "id": "CMGEySDMpTdx",
    "outputId": "7963af02-4a66-40d8-d6e9-7a516be33818",
    "scrolled": false
   },
   "outputs": [
    {
     "name": "stdout",
     "output_type": "stream",
     "text": [
      "__________________________________________________\n",
      "Classifier:  CatBoostClassifier\n",
      "[[544  30]\n",
      " [  6  53]]\n",
      "\n",
      "TNR: 0.94774\n",
      "TPR: 0.89831\n",
      "TNRxTPR: 0.85136\n",
      "G-mean: 0.92269\n",
      "__________________________________________________\n",
      "Classifier:  LGBMClassifier\n",
      "[[548  26]\n",
      " [  6  53]]\n",
      "\n",
      "TNR: 0.9547\n",
      "TPR: 0.89831\n",
      "TNRxTPR: 0.85762\n",
      "G-mean: 0.92608\n",
      "__________________________________________________\n",
      "Classifier:  XGBClassifier\n",
      "[[541  33]\n",
      " [  2  57]]\n",
      "\n",
      "TNR: 0.94251\n",
      "TPR: 0.9661\n",
      "TNRxTPR: 0.91056\n",
      "G-mean: 0.95423\n",
      "__________________________________________________\n",
      "Classifier:  BaggingClassifier\n",
      "[[544  30]\n",
      " [  4  55]]\n",
      "\n",
      "TNR: 0.94774\n",
      "TPR: 0.9322\n",
      "TNRxTPR: 0.88348\n",
      "G-mean: 0.93994\n",
      "__________________________________________________\n",
      "Classifier:  RandomForestClassifier\n",
      "[[548  26]\n",
      " [  7  52]]\n",
      "\n",
      "TNR: 0.9547\n",
      "TPR: 0.88136\n",
      "TNRxTPR: 0.84143\n",
      "G-mean: 0.9173\n",
      "__________________________________________________\n",
      "Ensemble predictions (majority voting):\n",
      "[[547  27]\n",
      " [  5  54]]\n",
      "\n",
      "TNR: 0.95296\n",
      "TPR: 0.91525\n",
      "TNRxTPR: 0.8722\n",
      "G-mean: 0.93392\n"
     ]
    }
   ],
   "source": [
    "train_val(X_eq, y_eq, X_test, y_test)"
   ]
  },
  {
   "cell_type": "code",
   "execution_count": 14,
   "metadata": {
    "colab": {
     "base_uri": "https://localhost:8080/"
    },
    "executionInfo": {
     "elapsed": 1868,
     "status": "ok",
     "timestamp": 1680781738049,
     "user": {
      "displayName": "JACINTO DOMINGUEZ RULL",
      "userId": "04779779024889038949"
     },
     "user_tz": -120
    },
    "id": "T6benPDnCzym",
    "outputId": "152adb4b-751a-41ad-c30c-161b093f5cd1"
   },
   "outputs": [],
   "source": [
    "# VAEOversampler\n",
    "\n",
    "X_res, y_res = vae_sampler.resample(X_train, y_train, sampling_strategy=1)"
   ]
  },
  {
   "cell_type": "code",
   "execution_count": 15,
   "metadata": {
    "colab": {
     "base_uri": "https://localhost:8080/"
    },
    "executionInfo": {
     "elapsed": 452,
     "status": "ok",
     "timestamp": 1680781789407,
     "user": {
      "displayName": "JACINTO DOMINGUEZ RULL",
      "userId": "04779779024889038949"
     },
     "user_tz": -120
    },
    "id": "7a1QqxB6Czyx",
    "outputId": "2b05f53a-776d-4560-dbe6-f14163438c12"
   },
   "outputs": [
    {
     "name": "stdout",
     "output_type": "stream",
     "text": [
      "Resampled dataset shape Counter({1.0: 2296, 0.0: 321})\n",
      "Ratio->  1 : 7.2\n"
     ]
    }
   ],
   "source": [
    "# RUS\n",
    "\n",
    "X_eq, y_eq = RUS(X_res, y_res, frac=.14)\n",
    "\n",
    "print('Resampled dataset shape %s' % Counter(y_eq))\n",
    "print('Ratio->  1 :', round(Counter(y_eq)[1]/Counter(y_eq)[0], 1))"
   ]
  },
  {
   "cell_type": "code",
   "execution_count": 16,
   "metadata": {
    "colab": {
     "base_uri": "https://localhost:8080/"
    },
    "executionInfo": {
     "elapsed": 18111,
     "status": "ok",
     "timestamp": 1680781808511,
     "user": {
      "displayName": "JACINTO DOMINGUEZ RULL",
      "userId": "04779779024889038949"
     },
     "user_tz": -120
    },
    "id": "oAv7STUxCzy0",
    "outputId": "a1ca764e-548c-407f-b5a8-4b3fffdc1270"
   },
   "outputs": [
    {
     "name": "stdout",
     "output_type": "stream",
     "text": [
      "__________________________________________________\n",
      "Classifier:  CatBoostClassifier\n",
      "[[541  33]\n",
      " [  4  55]]\n",
      "\n",
      "TNR: 0.94251\n",
      "TPR: 0.9322\n",
      "TNRxTPR: 0.87861\n",
      "G-mean: 0.93734\n",
      "__________________________________________________\n",
      "Classifier:  LGBMClassifier\n",
      "[[538  36]\n",
      " [  5  54]]\n",
      "\n",
      "TNR: 0.93728\n",
      "TPR: 0.91525\n",
      "TNRxTPR: 0.85785\n",
      "G-mean: 0.9262\n",
      "__________________________________________________\n",
      "Classifier:  XGBClassifier\n",
      "[[537  37]\n",
      " [  3  56]]\n",
      "\n",
      "TNR: 0.93554\n",
      "TPR: 0.94915\n",
      "TNRxTPR: 0.88797\n",
      "G-mean: 0.94232\n",
      "__________________________________________________\n",
      "Classifier:  BaggingClassifier\n",
      "[[534  40]\n",
      " [  6  53]]\n",
      "\n",
      "TNR: 0.93031\n",
      "TPR: 0.89831\n",
      "TNRxTPR: 0.83571\n",
      "G-mean: 0.91417\n",
      "__________________________________________________\n",
      "Classifier:  RandomForestClassifier\n",
      "[[544  30]\n",
      " [  5  54]]\n",
      "\n",
      "TNR: 0.94774\n",
      "TPR: 0.91525\n",
      "TNRxTPR: 0.86742\n",
      "G-mean: 0.93135\n",
      "__________________________________________________\n",
      "Ensemble predictions (majority voting):\n",
      "[[542  32]\n",
      " [  4  55]]\n",
      "\n",
      "TNR: 0.94425\n",
      "TPR: 0.9322\n",
      "TNRxTPR: 0.88023\n",
      "G-mean: 0.93821\n"
     ]
    }
   ],
   "source": [
    "train_val(X_eq, y_eq, X_test, y_test)"
   ]
  },
  {
   "cell_type": "markdown",
   "metadata": {
    "id": "RydFSMjOoD87"
   },
   "source": [
    "## References  \n",
    "\n",
    "  - Classification with Imbalanced Datasets:  \n",
    "    https://sci2s.ugr.es/imbalanced  \n",
    "  - Computer Vision:  Models, Learning, and Inference (Simon J.D. Prince):  \n",
    "    http://www.computervisionmodels.com/  \n",
    "  - Oversampling with VAEs:  \n",
    "    https://towardsdatascience.com/oversampling-with-vaes-e410887fe51  \n"
   ]
  }
 ],
 "metadata": {
  "colab": {
   "provenance": []
  },
  "gpuClass": "standard",
  "kernelspec": {
   "display_name": "Python 3 (ipykernel)",
   "language": "python",
   "name": "python3"
  },
  "language_info": {
   "codemirror_mode": {
    "name": "ipython",
    "version": 3
   },
   "file_extension": ".py",
   "mimetype": "text/x-python",
   "name": "python",
   "nbconvert_exporter": "python",
   "pygments_lexer": "ipython3",
   "version": "3.9.7"
  }
 },
 "nbformat": 4,
 "nbformat_minor": 1
}
