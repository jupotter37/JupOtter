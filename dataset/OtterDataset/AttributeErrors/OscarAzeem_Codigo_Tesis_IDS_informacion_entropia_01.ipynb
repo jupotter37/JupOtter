{
 "cells": [
  {
   "cell_type": "code",
   "execution_count": 2,
   "metadata": {},
   "outputs": [],
   "source": [
    "import pandas as pd\n",
    "import numpy as np"
   ]
  },
  {
   "cell_type": "code",
   "execution_count": 64,
   "metadata": {
    "collapsed": true
   },
   "outputs": [],
   "source": [
    "pd.set_option('display.max_columns', 50)"
   ]
  },
  {
   "cell_type": "code",
   "execution_count": 61,
   "metadata": {
    "collapsed": true
   },
   "outputs": [],
   "source": [
    "test=pd.read_csv(\"./dataset_labeled/nsl_testing_labeled.csv\")\n",
    "tra=pd.read_csv(\"./dataset_labeled/nsl_training_labeled.csv\")"
   ]
  },
  {
   "cell_type": "code",
   "execution_count": 6,
   "metadata": {},
   "outputs": [
    {
     "data": {
      "text/plain": [
       "'REJ'"
      ]
     },
     "execution_count": 6,
     "metadata": {},
     "output_type": "execute_result"
    }
   ],
   "source": [
    "test.loc[0, test.columns[3]]"
   ]
  },
  {
   "cell_type": "code",
   "execution_count": 5,
   "metadata": {},
   "outputs": [
    {
     "data": {
      "text/html": [
       "<div>\n",
       "<style>\n",
       "    .dataframe thead tr:only-child th {\n",
       "        text-align: right;\n",
       "    }\n",
       "\n",
       "    .dataframe thead th {\n",
       "        text-align: left;\n",
       "    }\n",
       "\n",
       "    .dataframe tbody tr th {\n",
       "        vertical-align: top;\n",
       "    }\n",
       "</style>\n",
       "<table border=\"1\" class=\"dataframe\">\n",
       "  <thead>\n",
       "    <tr style=\"text-align: right;\">\n",
       "      <th></th>\n",
       "      <th>Duration</th>\n",
       "      <th>ProtocolType</th>\n",
       "      <th>Service</th>\n",
       "      <th>Flag</th>\n",
       "      <th>SourceBytes</th>\n",
       "      <th>DestinationBytes</th>\n",
       "      <th>Land</th>\n",
       "      <th>WrongFragment</th>\n",
       "      <th>Urgent</th>\n",
       "      <th>Hot</th>\n",
       "      <th>...</th>\n",
       "      <th>DstHostSerrorRate</th>\n",
       "      <th>DstHostSrvSerrorRate</th>\n",
       "      <th>DstHostRerrorRate</th>\n",
       "      <th>DstHostSrvRerrorRate</th>\n",
       "      <th>TypeOfAttack</th>\n",
       "      <th>TimesApparead</th>\n",
       "      <th>Group</th>\n",
       "      <th>IndexAttack</th>\n",
       "      <th>IndexByGroup</th>\n",
       "      <th>IndexBinary</th>\n",
       "    </tr>\n",
       "  </thead>\n",
       "  <tbody>\n",
       "    <tr>\n",
       "      <th>0</th>\n",
       "      <td>0</td>\n",
       "      <td>tcp</td>\n",
       "      <td>private</td>\n",
       "      <td>REJ</td>\n",
       "      <td>0</td>\n",
       "      <td>0</td>\n",
       "      <td>0</td>\n",
       "      <td>0</td>\n",
       "      <td>0</td>\n",
       "      <td>0</td>\n",
       "      <td>...</td>\n",
       "      <td>0.0</td>\n",
       "      <td>0.0</td>\n",
       "      <td>1.00</td>\n",
       "      <td>1.00</td>\n",
       "      <td>neptune</td>\n",
       "      <td>21</td>\n",
       "      <td>dos</td>\n",
       "      <td>14</td>\n",
       "      <td>1</td>\n",
       "      <td>1</td>\n",
       "    </tr>\n",
       "    <tr>\n",
       "      <th>1</th>\n",
       "      <td>0</td>\n",
       "      <td>tcp</td>\n",
       "      <td>private</td>\n",
       "      <td>REJ</td>\n",
       "      <td>0</td>\n",
       "      <td>0</td>\n",
       "      <td>0</td>\n",
       "      <td>0</td>\n",
       "      <td>0</td>\n",
       "      <td>0</td>\n",
       "      <td>...</td>\n",
       "      <td>0.0</td>\n",
       "      <td>0.0</td>\n",
       "      <td>1.00</td>\n",
       "      <td>1.00</td>\n",
       "      <td>neptune</td>\n",
       "      <td>21</td>\n",
       "      <td>dos</td>\n",
       "      <td>14</td>\n",
       "      <td>1</td>\n",
       "      <td>1</td>\n",
       "    </tr>\n",
       "    <tr>\n",
       "      <th>2</th>\n",
       "      <td>2</td>\n",
       "      <td>tcp</td>\n",
       "      <td>ftp_data</td>\n",
       "      <td>SF</td>\n",
       "      <td>12983</td>\n",
       "      <td>0</td>\n",
       "      <td>0</td>\n",
       "      <td>0</td>\n",
       "      <td>0</td>\n",
       "      <td>0</td>\n",
       "      <td>...</td>\n",
       "      <td>0.0</td>\n",
       "      <td>0.0</td>\n",
       "      <td>0.00</td>\n",
       "      <td>0.00</td>\n",
       "      <td>normal</td>\n",
       "      <td>21</td>\n",
       "      <td>normal</td>\n",
       "      <td>16</td>\n",
       "      <td>2</td>\n",
       "      <td>0</td>\n",
       "    </tr>\n",
       "    <tr>\n",
       "      <th>3</th>\n",
       "      <td>0</td>\n",
       "      <td>icmp</td>\n",
       "      <td>eco_i</td>\n",
       "      <td>SF</td>\n",
       "      <td>20</td>\n",
       "      <td>0</td>\n",
       "      <td>0</td>\n",
       "      <td>0</td>\n",
       "      <td>0</td>\n",
       "      <td>0</td>\n",
       "      <td>...</td>\n",
       "      <td>0.0</td>\n",
       "      <td>0.0</td>\n",
       "      <td>0.00</td>\n",
       "      <td>0.00</td>\n",
       "      <td>saint</td>\n",
       "      <td>15</td>\n",
       "      <td>probe</td>\n",
       "      <td>24</td>\n",
       "      <td>3</td>\n",
       "      <td>1</td>\n",
       "    </tr>\n",
       "    <tr>\n",
       "      <th>4</th>\n",
       "      <td>1</td>\n",
       "      <td>tcp</td>\n",
       "      <td>telnet</td>\n",
       "      <td>RSTO</td>\n",
       "      <td>0</td>\n",
       "      <td>15</td>\n",
       "      <td>0</td>\n",
       "      <td>0</td>\n",
       "      <td>0</td>\n",
       "      <td>0</td>\n",
       "      <td>...</td>\n",
       "      <td>0.0</td>\n",
       "      <td>0.0</td>\n",
       "      <td>0.83</td>\n",
       "      <td>0.71</td>\n",
       "      <td>mscan</td>\n",
       "      <td>11</td>\n",
       "      <td>probe</td>\n",
       "      <td>11</td>\n",
       "      <td>3</td>\n",
       "      <td>1</td>\n",
       "    </tr>\n",
       "  </tbody>\n",
       "</table>\n",
       "<p>5 rows × 47 columns</p>\n",
       "</div>"
      ],
      "text/plain": [
       "   Duration ProtocolType   Service  Flag  SourceBytes  DestinationBytes  Land  \\\n",
       "0         0          tcp   private   REJ            0                 0     0   \n",
       "1         0          tcp   private   REJ            0                 0     0   \n",
       "2         2          tcp  ftp_data    SF        12983                 0     0   \n",
       "3         0         icmp     eco_i    SF           20                 0     0   \n",
       "4         1          tcp    telnet  RSTO            0                15     0   \n",
       "\n",
       "   WrongFragment  Urgent  Hot     ...       DstHostSerrorRate  \\\n",
       "0              0       0    0     ...                     0.0   \n",
       "1              0       0    0     ...                     0.0   \n",
       "2              0       0    0     ...                     0.0   \n",
       "3              0       0    0     ...                     0.0   \n",
       "4              0       0    0     ...                     0.0   \n",
       "\n",
       "   DstHostSrvSerrorRate  DstHostRerrorRate  DstHostSrvRerrorRate  \\\n",
       "0                   0.0               1.00                  1.00   \n",
       "1                   0.0               1.00                  1.00   \n",
       "2                   0.0               0.00                  0.00   \n",
       "3                   0.0               0.00                  0.00   \n",
       "4                   0.0               0.83                  0.71   \n",
       "\n",
       "   TypeOfAttack  TimesApparead   Group  IndexAttack  IndexByGroup  IndexBinary  \n",
       "0       neptune             21     dos           14             1            1  \n",
       "1       neptune             21     dos           14             1            1  \n",
       "2        normal             21  normal           16             2            0  \n",
       "3         saint             15   probe           24             3            1  \n",
       "4         mscan             11   probe           11             3            1  \n",
       "\n",
       "[5 rows x 47 columns]"
      ]
     },
     "execution_count": 5,
     "metadata": {},
     "output_type": "execute_result"
    }
   ],
   "source": [
    "test.head()"
   ]
  },
  {
   "cell_type": "code",
   "execution_count": 8,
   "metadata": {},
   "outputs": [
    {
     "data": {
      "text/plain": [
       "array([    0,     1,     2, ..., 22540, 22541, 22542])"
      ]
     },
     "execution_count": 8,
     "metadata": {},
     "output_type": "execute_result"
    }
   ],
   "source": [
    "test.index.values"
   ]
  },
  {
   "cell_type": "code",
   "execution_count": 10,
   "metadata": {},
   "outputs": [
    {
     "data": {
      "text/plain": [
       "<bound method Index.to_series of Index(['Duration', 'ProtocolType', 'Service', 'Flag', 'SourceBytes',\n",
       "       'DestinationBytes', 'Land', 'WrongFragment', 'Urgent', 'Hot',\n",
       "       'FailedLogins', 'LoggedIn', 'NumberOfCompromised', 'RootShell',\n",
       "       'SuAttempted', 'Root', 'NumberOfFileCreations', 'NumberOfShellPrompts',\n",
       "       'NumberOfAccessFiles', 'NumberOfOutbound', 'IsHotLogin', 'IsGuestLogin',\n",
       "       'Count', 'SrvCount', 'SerrorRate', 'SrvSerrorRate', 'RerrorRate',\n",
       "       'SrvRerrorRate', 'SameSrvRate', 'DiffSrvRate', 'SrvDiffHostRate',\n",
       "       'DstHostCount', 'DstHostSrvCount', 'DstHostSameSrvRate',\n",
       "       'DstHostDiffSrvRate', 'DstHostSameSrcPortRate',\n",
       "       'DstHostSrvDiffHostRate', 'DstHostSerrorRate', 'DstHostSrvSerrorRate',\n",
       "       'DstHostRerrorRate', 'DstHostSrvRerrorRate', 'TypeOfAttack',\n",
       "       'TimesApparead', 'Group', 'IndexAttack', 'IndexByGroup', 'IndexBinary'],\n",
       "      dtype='object')>"
      ]
     },
     "execution_count": 10,
     "metadata": {},
     "output_type": "execute_result"
    }
   ],
   "source": [
    "test.columns.to_series"
   ]
  },
  {
   "cell_type": "code",
   "execution_count": 12,
   "metadata": {},
   "outputs": [
    {
     "data": {
      "text/plain": [
       "'Duration'"
      ]
     },
     "execution_count": 12,
     "metadata": {},
     "output_type": "execute_result"
    }
   ],
   "source": [
    "test.columns[0]"
   ]
  },
  {
   "cell_type": "code",
   "execution_count": 13,
   "metadata": {},
   "outputs": [
    {
     "data": {
      "text/html": [
       "<div>\n",
       "<style>\n",
       "    .dataframe thead tr:only-child th {\n",
       "        text-align: right;\n",
       "    }\n",
       "\n",
       "    .dataframe thead th {\n",
       "        text-align: left;\n",
       "    }\n",
       "\n",
       "    .dataframe tbody tr th {\n",
       "        vertical-align: top;\n",
       "    }\n",
       "</style>\n",
       "<table border=\"1\" class=\"dataframe\">\n",
       "  <thead>\n",
       "    <tr style=\"text-align: right;\">\n",
       "      <th></th>\n",
       "      <th>0</th>\n",
       "      <th>1</th>\n",
       "      <th>2</th>\n",
       "      <th>3</th>\n",
       "      <th>4</th>\n",
       "      <th>5</th>\n",
       "      <th>6</th>\n",
       "      <th>7</th>\n",
       "      <th>8</th>\n",
       "      <th>9</th>\n",
       "      <th>...</th>\n",
       "      <th>37</th>\n",
       "      <th>38</th>\n",
       "      <th>39</th>\n",
       "      <th>40</th>\n",
       "      <th>41</th>\n",
       "      <th>42</th>\n",
       "      <th>43</th>\n",
       "      <th>44</th>\n",
       "      <th>45</th>\n",
       "      <th>46</th>\n",
       "    </tr>\n",
       "  </thead>\n",
       "  <tbody>\n",
       "    <tr>\n",
       "      <th>0</th>\n",
       "      <td>0</td>\n",
       "      <td>tcp</td>\n",
       "      <td>private</td>\n",
       "      <td>REJ</td>\n",
       "      <td>0</td>\n",
       "      <td>0</td>\n",
       "      <td>0</td>\n",
       "      <td>0</td>\n",
       "      <td>0</td>\n",
       "      <td>0</td>\n",
       "      <td>...</td>\n",
       "      <td>0.0</td>\n",
       "      <td>0.0</td>\n",
       "      <td>1.00</td>\n",
       "      <td>1.00</td>\n",
       "      <td>neptune</td>\n",
       "      <td>21</td>\n",
       "      <td>dos</td>\n",
       "      <td>14</td>\n",
       "      <td>1</td>\n",
       "      <td>1</td>\n",
       "    </tr>\n",
       "    <tr>\n",
       "      <th>1</th>\n",
       "      <td>0</td>\n",
       "      <td>tcp</td>\n",
       "      <td>private</td>\n",
       "      <td>REJ</td>\n",
       "      <td>0</td>\n",
       "      <td>0</td>\n",
       "      <td>0</td>\n",
       "      <td>0</td>\n",
       "      <td>0</td>\n",
       "      <td>0</td>\n",
       "      <td>...</td>\n",
       "      <td>0.0</td>\n",
       "      <td>0.0</td>\n",
       "      <td>1.00</td>\n",
       "      <td>1.00</td>\n",
       "      <td>neptune</td>\n",
       "      <td>21</td>\n",
       "      <td>dos</td>\n",
       "      <td>14</td>\n",
       "      <td>1</td>\n",
       "      <td>1</td>\n",
       "    </tr>\n",
       "    <tr>\n",
       "      <th>2</th>\n",
       "      <td>2</td>\n",
       "      <td>tcp</td>\n",
       "      <td>ftp_data</td>\n",
       "      <td>SF</td>\n",
       "      <td>12983</td>\n",
       "      <td>0</td>\n",
       "      <td>0</td>\n",
       "      <td>0</td>\n",
       "      <td>0</td>\n",
       "      <td>0</td>\n",
       "      <td>...</td>\n",
       "      <td>0.0</td>\n",
       "      <td>0.0</td>\n",
       "      <td>0.00</td>\n",
       "      <td>0.00</td>\n",
       "      <td>normal</td>\n",
       "      <td>21</td>\n",
       "      <td>normal</td>\n",
       "      <td>16</td>\n",
       "      <td>2</td>\n",
       "      <td>0</td>\n",
       "    </tr>\n",
       "    <tr>\n",
       "      <th>3</th>\n",
       "      <td>0</td>\n",
       "      <td>icmp</td>\n",
       "      <td>eco_i</td>\n",
       "      <td>SF</td>\n",
       "      <td>20</td>\n",
       "      <td>0</td>\n",
       "      <td>0</td>\n",
       "      <td>0</td>\n",
       "      <td>0</td>\n",
       "      <td>0</td>\n",
       "      <td>...</td>\n",
       "      <td>0.0</td>\n",
       "      <td>0.0</td>\n",
       "      <td>0.00</td>\n",
       "      <td>0.00</td>\n",
       "      <td>saint</td>\n",
       "      <td>15</td>\n",
       "      <td>probe</td>\n",
       "      <td>24</td>\n",
       "      <td>3</td>\n",
       "      <td>1</td>\n",
       "    </tr>\n",
       "    <tr>\n",
       "      <th>4</th>\n",
       "      <td>1</td>\n",
       "      <td>tcp</td>\n",
       "      <td>telnet</td>\n",
       "      <td>RSTO</td>\n",
       "      <td>0</td>\n",
       "      <td>15</td>\n",
       "      <td>0</td>\n",
       "      <td>0</td>\n",
       "      <td>0</td>\n",
       "      <td>0</td>\n",
       "      <td>...</td>\n",
       "      <td>0.0</td>\n",
       "      <td>0.0</td>\n",
       "      <td>0.83</td>\n",
       "      <td>0.71</td>\n",
       "      <td>mscan</td>\n",
       "      <td>11</td>\n",
       "      <td>probe</td>\n",
       "      <td>11</td>\n",
       "      <td>3</td>\n",
       "      <td>1</td>\n",
       "    </tr>\n",
       "  </tbody>\n",
       "</table>\n",
       "<p>5 rows × 47 columns</p>\n",
       "</div>"
      ],
      "text/plain": [
       "   0     1         2     3      4   5   6   7   8   9  ...   37   38    39  \\\n",
       "0   0   tcp   private   REJ      0   0   0   0   0   0 ...  0.0  0.0  1.00   \n",
       "1   0   tcp   private   REJ      0   0   0   0   0   0 ...  0.0  0.0  1.00   \n",
       "2   2   tcp  ftp_data    SF  12983   0   0   0   0   0 ...  0.0  0.0  0.00   \n",
       "3   0  icmp     eco_i    SF     20   0   0   0   0   0 ...  0.0  0.0  0.00   \n",
       "4   1   tcp    telnet  RSTO      0  15   0   0   0   0 ...  0.0  0.0  0.83   \n",
       "\n",
       "     40       41  42      43  44  45  46  \n",
       "0  1.00  neptune  21     dos  14   1   1  \n",
       "1  1.00  neptune  21     dos  14   1   1  \n",
       "2  0.00   normal  21  normal  16   2   0  \n",
       "3  0.00    saint  15   probe  24   3   1  \n",
       "4  0.71    mscan  11   probe  11   3   1  \n",
       "\n",
       "[5 rows x 47 columns]"
      ]
     },
     "execution_count": 13,
     "metadata": {},
     "output_type": "execute_result"
    }
   ],
   "source": [
    "t2=test\n",
    "t2.columns=range(0,len(test.columns))\n",
    "t2.head()"
   ]
  },
  {
   "cell_type": "code",
   "execution_count": 18,
   "metadata": {},
   "outputs": [
    {
     "data": {
      "text/html": [
       "<div>\n",
       "<style>\n",
       "    .dataframe thead tr:only-child th {\n",
       "        text-align: right;\n",
       "    }\n",
       "\n",
       "    .dataframe thead th {\n",
       "        text-align: left;\n",
       "    }\n",
       "\n",
       "    .dataframe tbody tr th {\n",
       "        vertical-align: top;\n",
       "    }\n",
       "</style>\n",
       "<table border=\"1\" class=\"dataframe\">\n",
       "  <thead>\n",
       "    <tr style=\"text-align: right;\">\n",
       "      <th></th>\n",
       "      <th>0</th>\n",
       "      <th>1</th>\n",
       "      <th>2</th>\n",
       "      <th>3</th>\n",
       "      <th>4</th>\n",
       "      <th>5</th>\n",
       "      <th>6</th>\n",
       "      <th>7</th>\n",
       "      <th>8</th>\n",
       "      <th>9</th>\n",
       "      <th>10</th>\n",
       "    </tr>\n",
       "  </thead>\n",
       "  <tbody>\n",
       "    <tr>\n",
       "      <th>0</th>\n",
       "      <td>0</td>\n",
       "      <td>tcp</td>\n",
       "      <td>private</td>\n",
       "      <td>REJ</td>\n",
       "      <td>0</td>\n",
       "      <td>0</td>\n",
       "      <td>0</td>\n",
       "      <td>0</td>\n",
       "      <td>0</td>\n",
       "      <td>0</td>\n",
       "      <td>0</td>\n",
       "    </tr>\n",
       "    <tr>\n",
       "      <th>1</th>\n",
       "      <td>0</td>\n",
       "      <td>tcp</td>\n",
       "      <td>private</td>\n",
       "      <td>REJ</td>\n",
       "      <td>0</td>\n",
       "      <td>0</td>\n",
       "      <td>0</td>\n",
       "      <td>0</td>\n",
       "      <td>0</td>\n",
       "      <td>0</td>\n",
       "      <td>0</td>\n",
       "    </tr>\n",
       "    <tr>\n",
       "      <th>2</th>\n",
       "      <td>2</td>\n",
       "      <td>tcp</td>\n",
       "      <td>ftp_data</td>\n",
       "      <td>SF</td>\n",
       "      <td>12983</td>\n",
       "      <td>0</td>\n",
       "      <td>0</td>\n",
       "      <td>0</td>\n",
       "      <td>0</td>\n",
       "      <td>0</td>\n",
       "      <td>0</td>\n",
       "    </tr>\n",
       "    <tr>\n",
       "      <th>3</th>\n",
       "      <td>0</td>\n",
       "      <td>icmp</td>\n",
       "      <td>eco_i</td>\n",
       "      <td>SF</td>\n",
       "      <td>20</td>\n",
       "      <td>0</td>\n",
       "      <td>0</td>\n",
       "      <td>0</td>\n",
       "      <td>0</td>\n",
       "      <td>0</td>\n",
       "      <td>0</td>\n",
       "    </tr>\n",
       "  </tbody>\n",
       "</table>\n",
       "</div>"
      ],
      "text/plain": [
       "   0     1         2    3      4   5   6   7   8   9   10\n",
       "0   0   tcp   private  REJ      0   0   0   0   0   0   0\n",
       "1   0   tcp   private  REJ      0   0   0   0   0   0   0\n",
       "2   2   tcp  ftp_data   SF  12983   0   0   0   0   0   0\n",
       "3   0  icmp     eco_i   SF     20   0   0   0   0   0   0"
      ]
     },
     "execution_count": 18,
     "metadata": {},
     "output_type": "execute_result"
    }
   ],
   "source": [
    "t2.loc[:3,:10]"
   ]
  },
  {
   "cell_type": "code",
   "execution_count": 32,
   "metadata": {},
   "outputs": [],
   "source": [
    "indice=list(range(0,len(test.columns)))"
   ]
  },
  {
   "cell_type": "code",
   "execution_count": 33,
   "metadata": {},
   "outputs": [],
   "source": [
    "subindice=[4,8,12,20]"
   ]
  },
  {
   "cell_type": "code",
   "execution_count": 34,
   "metadata": {
    "collapsed": true
   },
   "outputs": [],
   "source": [
    "indice.extend(subindice)"
   ]
  },
  {
   "cell_type": "code",
   "execution_count": 35,
   "metadata": {
    "scrolled": true
   },
   "outputs": [
    {
     "data": {
      "text/plain": [
       "[0,\n",
       " 1,\n",
       " 2,\n",
       " 3,\n",
       " 4,\n",
       " 5,\n",
       " 6,\n",
       " 7,\n",
       " 8,\n",
       " 9,\n",
       " 10,\n",
       " 11,\n",
       " 12,\n",
       " 13,\n",
       " 14,\n",
       " 15,\n",
       " 16,\n",
       " 17,\n",
       " 18,\n",
       " 19,\n",
       " 20,\n",
       " 21,\n",
       " 22,\n",
       " 23,\n",
       " 24,\n",
       " 25,\n",
       " 26,\n",
       " 27,\n",
       " 28,\n",
       " 29,\n",
       " 30,\n",
       " 31,\n",
       " 32,\n",
       " 33,\n",
       " 34,\n",
       " 35,\n",
       " 36,\n",
       " 37,\n",
       " 38,\n",
       " 39,\n",
       " 40,\n",
       " 41,\n",
       " 42,\n",
       " 43,\n",
       " 44,\n",
       " 45,\n",
       " 46,\n",
       " 4,\n",
       " 8,\n",
       " 12,\n",
       " 20]"
      ]
     },
     "execution_count": 35,
     "metadata": {},
     "output_type": "execute_result"
    }
   ],
   "source": [
    "indice"
   ]
  },
  {
   "cell_type": "code",
   "execution_count": 36,
   "metadata": {},
   "outputs": [
    {
     "data": {
      "text/plain": [
       "list"
      ]
     },
     "execution_count": 36,
     "metadata": {},
     "output_type": "execute_result"
    }
   ],
   "source": [
    "type(indice)"
   ]
  },
  {
   "cell_type": "code",
   "execution_count": 38,
   "metadata": {},
   "outputs": [],
   "source": [
    "serie=pd.Series(indice)"
   ]
  },
  {
   "cell_type": "code",
   "execution_count": 45,
   "metadata": {},
   "outputs": [
    {
     "data": {
      "text/plain": [
       "<bound method Series.unique of 0      0\n",
       "1      1\n",
       "2      2\n",
       "3      3\n",
       "4      4\n",
       "5      5\n",
       "6      6\n",
       "7      7\n",
       "8      8\n",
       "9      9\n",
       "10    10\n",
       "11    11\n",
       "12    12\n",
       "13    13\n",
       "14    14\n",
       "15    15\n",
       "16    16\n",
       "17    17\n",
       "18    18\n",
       "19    19\n",
       "20    20\n",
       "21    21\n",
       "22    22\n",
       "23    23\n",
       "24    24\n",
       "25    25\n",
       "26    26\n",
       "27    27\n",
       "28    28\n",
       "29    29\n",
       "30    30\n",
       "31    31\n",
       "32    32\n",
       "33    33\n",
       "34    34\n",
       "35    35\n",
       "36    36\n",
       "37    37\n",
       "38    38\n",
       "39    39\n",
       "40    40\n",
       "41    41\n",
       "42    42\n",
       "43    43\n",
       "44    44\n",
       "45    45\n",
       "46    46\n",
       "47     4\n",
       "48     8\n",
       "49    12\n",
       "50    20\n",
       "dtype: int64>"
      ]
     },
     "execution_count": 45,
     "metadata": {},
     "output_type": "execute_result"
    }
   ],
   "source": [
    "serie.unique"
   ]
  },
  {
   "cell_type": "code",
   "execution_count": 50,
   "metadata": {
    "scrolled": true
   },
   "outputs": [
    {
     "data": {
      "text/plain": [
       "0      0\n",
       "1      1\n",
       "2      2\n",
       "3      3\n",
       "4      4\n",
       "5      5\n",
       "6      6\n",
       "7      7\n",
       "8      8\n",
       "9      9\n",
       "10    10\n",
       "11    11\n",
       "12    12\n",
       "13    13\n",
       "14    14\n",
       "15    15\n",
       "16    16\n",
       "17    17\n",
       "18    18\n",
       "19    19\n",
       "20    20\n",
       "21    21\n",
       "22    22\n",
       "23    23\n",
       "24    24\n",
       "25    25\n",
       "26    26\n",
       "27    27\n",
       "28    28\n",
       "29    29\n",
       "30    30\n",
       "31    31\n",
       "32    32\n",
       "33    33\n",
       "34    34\n",
       "35    35\n",
       "36    36\n",
       "37    37\n",
       "38    38\n",
       "39    39\n",
       "40    40\n",
       "41    41\n",
       "42    42\n",
       "43    43\n",
       "44    44\n",
       "45    45\n",
       "46    46\n",
       "dtype: int64"
      ]
     },
     "execution_count": 50,
     "metadata": {},
     "output_type": "execute_result"
    }
   ],
   "source": [
    "serie.drop_duplicates()"
   ]
  },
  {
   "cell_type": "code",
   "execution_count": 53,
   "metadata": {
    "scrolled": true
   },
   "outputs": [
    {
     "data": {
      "text/plain": [
       "0      0\n",
       "1      1\n",
       "2      2\n",
       "3      3\n",
       "4      4\n",
       "5      5\n",
       "6      6\n",
       "7      7\n",
       "8      8\n",
       "9      9\n",
       "10    10\n",
       "11    11\n",
       "12    12\n",
       "13    13\n",
       "14    14\n",
       "15    15\n",
       "16    16\n",
       "17    17\n",
       "18    18\n",
       "19    19\n",
       "20    20\n",
       "21    21\n",
       "22    22\n",
       "23    23\n",
       "24    24\n",
       "25    25\n",
       "26    26\n",
       "27    27\n",
       "28    28\n",
       "29    29\n",
       "30    30\n",
       "31    31\n",
       "32    32\n",
       "33    33\n",
       "34    34\n",
       "35    35\n",
       "36    36\n",
       "37    37\n",
       "38    38\n",
       "39    39\n",
       "40    40\n",
       "41    41\n",
       "42    42\n",
       "43    43\n",
       "44    44\n",
       "45    45\n",
       "46    46\n",
       "47     4\n",
       "48     8\n",
       "49    12\n",
       "50    20\n",
       "dtype: int64"
      ]
     },
     "execution_count": 53,
     "metadata": {},
     "output_type": "execute_result"
    }
   ],
   "source": [
    "serie"
   ]
  },
  {
   "cell_type": "code",
   "execution_count": 58,
   "metadata": {
    "collapsed": true
   },
   "outputs": [],
   "source": [
    "# seleccion de ciertas dimensiones (indices). ok"
   ]
  },
  {
   "cell_type": "code",
   "execution_count": 56,
   "metadata": {
    "collapsed": true
   },
   "outputs": [],
   "source": [
    "indice=list(range(0,len(test.columns)))\n",
    "subindice=[4,8,12,20]\n",
    "indice.extend(subindice)\n",
    "s_indice=pd.Series(indice)\n",
    "s_indice=s_indice.drop_duplicates(keep=False)"
   ]
  },
  {
   "cell_type": "code",
   "execution_count": 57,
   "metadata": {
    "scrolled": true
   },
   "outputs": [
    {
     "data": {
      "text/plain": [
       "0      0\n",
       "1      1\n",
       "2      2\n",
       "3      3\n",
       "5      5\n",
       "6      6\n",
       "7      7\n",
       "9      9\n",
       "10    10\n",
       "11    11\n",
       "13    13\n",
       "14    14\n",
       "15    15\n",
       "16    16\n",
       "17    17\n",
       "18    18\n",
       "19    19\n",
       "21    21\n",
       "22    22\n",
       "23    23\n",
       "24    24\n",
       "25    25\n",
       "26    26\n",
       "27    27\n",
       "28    28\n",
       "29    29\n",
       "30    30\n",
       "31    31\n",
       "32    32\n",
       "33    33\n",
       "34    34\n",
       "35    35\n",
       "36    36\n",
       "37    37\n",
       "38    38\n",
       "39    39\n",
       "40    40\n",
       "41    41\n",
       "42    42\n",
       "43    43\n",
       "44    44\n",
       "45    45\n",
       "46    46\n",
       "dtype: int64"
      ]
     },
     "execution_count": 57,
     "metadata": {},
     "output_type": "execute_result"
    }
   ],
   "source": [
    "s_indice"
   ]
  },
  {
   "cell_type": "code",
   "execution_count": 62,
   "metadata": {},
   "outputs": [
    {
     "data": {
      "text/plain": [
       "'Service'"
      ]
     },
     "execution_count": 62,
     "metadata": {},
     "output_type": "execute_result"
    }
   ],
   "source": [
    "test.columns[2]"
   ]
  },
  {
   "cell_type": "code",
   "execution_count": 65,
   "metadata": {},
   "outputs": [
    {
     "data": {
      "text/html": [
       "<div>\n",
       "<style>\n",
       "    .dataframe thead tr:only-child th {\n",
       "        text-align: right;\n",
       "    }\n",
       "\n",
       "    .dataframe thead th {\n",
       "        text-align: left;\n",
       "    }\n",
       "\n",
       "    .dataframe tbody tr th {\n",
       "        vertical-align: top;\n",
       "    }\n",
       "</style>\n",
       "<table border=\"1\" class=\"dataframe\">\n",
       "  <thead>\n",
       "    <tr style=\"text-align: right;\">\n",
       "      <th></th>\n",
       "      <th>Duration</th>\n",
       "      <th>SourceBytes</th>\n",
       "      <th>DestinationBytes</th>\n",
       "      <th>Land</th>\n",
       "      <th>WrongFragment</th>\n",
       "      <th>Urgent</th>\n",
       "      <th>Hot</th>\n",
       "      <th>FailedLogins</th>\n",
       "      <th>LoggedIn</th>\n",
       "      <th>NumberOfCompromised</th>\n",
       "      <th>RootShell</th>\n",
       "      <th>SuAttempted</th>\n",
       "      <th>Root</th>\n",
       "      <th>NumberOfFileCreations</th>\n",
       "      <th>NumberOfShellPrompts</th>\n",
       "      <th>NumberOfAccessFiles</th>\n",
       "      <th>NumberOfOutbound</th>\n",
       "      <th>IsHotLogin</th>\n",
       "      <th>IsGuestLogin</th>\n",
       "      <th>Count</th>\n",
       "      <th>SrvCount</th>\n",
       "      <th>SerrorRate</th>\n",
       "      <th>SrvSerrorRate</th>\n",
       "      <th>RerrorRate</th>\n",
       "      <th>SrvRerrorRate</th>\n",
       "      <th>SameSrvRate</th>\n",
       "      <th>DiffSrvRate</th>\n",
       "      <th>SrvDiffHostRate</th>\n",
       "      <th>DstHostCount</th>\n",
       "      <th>DstHostSrvCount</th>\n",
       "      <th>DstHostSameSrvRate</th>\n",
       "      <th>DstHostDiffSrvRate</th>\n",
       "      <th>DstHostSameSrcPortRate</th>\n",
       "      <th>DstHostSrvDiffHostRate</th>\n",
       "      <th>DstHostSerrorRate</th>\n",
       "      <th>DstHostSrvSerrorRate</th>\n",
       "      <th>DstHostRerrorRate</th>\n",
       "      <th>DstHostSrvRerrorRate</th>\n",
       "      <th>TimesApparead</th>\n",
       "      <th>IndexAttack</th>\n",
       "      <th>IndexByGroup</th>\n",
       "      <th>IndexBinary</th>\n",
       "    </tr>\n",
       "  </thead>\n",
       "  <tbody>\n",
       "    <tr>\n",
       "      <th>count</th>\n",
       "      <td>22543.000000</td>\n",
       "      <td>2.254300e+04</td>\n",
       "      <td>2.254300e+04</td>\n",
       "      <td>22543.000000</td>\n",
       "      <td>22543.000000</td>\n",
       "      <td>22543.000000</td>\n",
       "      <td>22543.000000</td>\n",
       "      <td>22543.000000</td>\n",
       "      <td>22543.000000</td>\n",
       "      <td>22543.000000</td>\n",
       "      <td>22543.000000</td>\n",
       "      <td>22543.000000</td>\n",
       "      <td>22543.000000</td>\n",
       "      <td>22543.000000</td>\n",
       "      <td>22543.000000</td>\n",
       "      <td>22543.000000</td>\n",
       "      <td>22543.0</td>\n",
       "      <td>22543.000000</td>\n",
       "      <td>22543.000000</td>\n",
       "      <td>22543.000000</td>\n",
       "      <td>22543.000000</td>\n",
       "      <td>22543.000000</td>\n",
       "      <td>22543.000000</td>\n",
       "      <td>22543.000000</td>\n",
       "      <td>22543.000000</td>\n",
       "      <td>22543.000000</td>\n",
       "      <td>22543.000000</td>\n",
       "      <td>22543.000000</td>\n",
       "      <td>22543.000000</td>\n",
       "      <td>22543.000000</td>\n",
       "      <td>22543.000000</td>\n",
       "      <td>22543.000000</td>\n",
       "      <td>22543.000000</td>\n",
       "      <td>22543.000000</td>\n",
       "      <td>22543.000000</td>\n",
       "      <td>22543.000000</td>\n",
       "      <td>22543.000000</td>\n",
       "      <td>22543.000000</td>\n",
       "      <td>22543.000000</td>\n",
       "      <td>22543.000000</td>\n",
       "      <td>22543.000000</td>\n",
       "      <td>22543.000000</td>\n",
       "    </tr>\n",
       "    <tr>\n",
       "      <th>mean</th>\n",
       "      <td>218.868784</td>\n",
       "      <td>1.039591e+04</td>\n",
       "      <td>2.056110e+03</td>\n",
       "      <td>0.000311</td>\n",
       "      <td>0.008428</td>\n",
       "      <td>0.000710</td>\n",
       "      <td>0.105399</td>\n",
       "      <td>0.021648</td>\n",
       "      <td>0.442222</td>\n",
       "      <td>0.119904</td>\n",
       "      <td>0.002440</td>\n",
       "      <td>0.000266</td>\n",
       "      <td>0.114670</td>\n",
       "      <td>0.008739</td>\n",
       "      <td>0.001153</td>\n",
       "      <td>0.003549</td>\n",
       "      <td>0.0</td>\n",
       "      <td>0.000488</td>\n",
       "      <td>0.028435</td>\n",
       "      <td>79.028035</td>\n",
       "      <td>31.125449</td>\n",
       "      <td>0.102928</td>\n",
       "      <td>0.103640</td>\n",
       "      <td>0.238474</td>\n",
       "      <td>0.235189</td>\n",
       "      <td>0.740374</td>\n",
       "      <td>0.094057</td>\n",
       "      <td>0.098115</td>\n",
       "      <td>193.866699</td>\n",
       "      <td>140.756465</td>\n",
       "      <td>0.608747</td>\n",
       "      <td>0.090519</td>\n",
       "      <td>0.132236</td>\n",
       "      <td>0.019639</td>\n",
       "      <td>0.097818</td>\n",
       "      <td>0.099430</td>\n",
       "      <td>0.233382</td>\n",
       "      <td>0.226693</td>\n",
       "      <td>18.018498</td>\n",
       "      <td>15.773943</td>\n",
       "      <td>2.047509</td>\n",
       "      <td>0.569268</td>\n",
       "    </tr>\n",
       "    <tr>\n",
       "      <th>std</th>\n",
       "      <td>1407.207069</td>\n",
       "      <td>4.727969e+05</td>\n",
       "      <td>2.121976e+04</td>\n",
       "      <td>0.017619</td>\n",
       "      <td>0.142602</td>\n",
       "      <td>0.036474</td>\n",
       "      <td>0.928448</td>\n",
       "      <td>0.150331</td>\n",
       "      <td>0.496661</td>\n",
       "      <td>7.269758</td>\n",
       "      <td>0.049335</td>\n",
       "      <td>0.021061</td>\n",
       "      <td>8.041792</td>\n",
       "      <td>0.676857</td>\n",
       "      <td>0.048015</td>\n",
       "      <td>0.067831</td>\n",
       "      <td>0.0</td>\n",
       "      <td>0.022085</td>\n",
       "      <td>0.166214</td>\n",
       "      <td>128.542091</td>\n",
       "      <td>89.064362</td>\n",
       "      <td>0.295373</td>\n",
       "      <td>0.298337</td>\n",
       "      <td>0.416124</td>\n",
       "      <td>0.416221</td>\n",
       "      <td>0.412482</td>\n",
       "      <td>0.259131</td>\n",
       "      <td>0.253550</td>\n",
       "      <td>94.036867</td>\n",
       "      <td>111.782902</td>\n",
       "      <td>0.435681</td>\n",
       "      <td>0.220701</td>\n",
       "      <td>0.306253</td>\n",
       "      <td>0.085396</td>\n",
       "      <td>0.273144</td>\n",
       "      <td>0.281872</td>\n",
       "      <td>0.387237</td>\n",
       "      <td>0.400881</td>\n",
       "      <td>4.269705</td>\n",
       "      <td>7.160474</td>\n",
       "      <td>1.002262</td>\n",
       "      <td>0.495190</td>\n",
       "    </tr>\n",
       "    <tr>\n",
       "      <th>min</th>\n",
       "      <td>0.000000</td>\n",
       "      <td>0.000000e+00</td>\n",
       "      <td>0.000000e+00</td>\n",
       "      <td>0.000000</td>\n",
       "      <td>0.000000</td>\n",
       "      <td>0.000000</td>\n",
       "      <td>0.000000</td>\n",
       "      <td>0.000000</td>\n",
       "      <td>0.000000</td>\n",
       "      <td>0.000000</td>\n",
       "      <td>0.000000</td>\n",
       "      <td>0.000000</td>\n",
       "      <td>0.000000</td>\n",
       "      <td>0.000000</td>\n",
       "      <td>0.000000</td>\n",
       "      <td>0.000000</td>\n",
       "      <td>0.0</td>\n",
       "      <td>0.000000</td>\n",
       "      <td>0.000000</td>\n",
       "      <td>0.000000</td>\n",
       "      <td>0.000000</td>\n",
       "      <td>0.000000</td>\n",
       "      <td>0.000000</td>\n",
       "      <td>0.000000</td>\n",
       "      <td>0.000000</td>\n",
       "      <td>0.000000</td>\n",
       "      <td>0.000000</td>\n",
       "      <td>0.000000</td>\n",
       "      <td>0.000000</td>\n",
       "      <td>0.000000</td>\n",
       "      <td>0.000000</td>\n",
       "      <td>0.000000</td>\n",
       "      <td>0.000000</td>\n",
       "      <td>0.000000</td>\n",
       "      <td>0.000000</td>\n",
       "      <td>0.000000</td>\n",
       "      <td>0.000000</td>\n",
       "      <td>0.000000</td>\n",
       "      <td>0.000000</td>\n",
       "      <td>0.000000</td>\n",
       "      <td>1.000000</td>\n",
       "      <td>0.000000</td>\n",
       "    </tr>\n",
       "    <tr>\n",
       "      <th>25%</th>\n",
       "      <td>0.000000</td>\n",
       "      <td>0.000000e+00</td>\n",
       "      <td>0.000000e+00</td>\n",
       "      <td>0.000000</td>\n",
       "      <td>0.000000</td>\n",
       "      <td>0.000000</td>\n",
       "      <td>0.000000</td>\n",
       "      <td>0.000000</td>\n",
       "      <td>0.000000</td>\n",
       "      <td>0.000000</td>\n",
       "      <td>0.000000</td>\n",
       "      <td>0.000000</td>\n",
       "      <td>0.000000</td>\n",
       "      <td>0.000000</td>\n",
       "      <td>0.000000</td>\n",
       "      <td>0.000000</td>\n",
       "      <td>0.0</td>\n",
       "      <td>0.000000</td>\n",
       "      <td>0.000000</td>\n",
       "      <td>1.000000</td>\n",
       "      <td>1.000000</td>\n",
       "      <td>0.000000</td>\n",
       "      <td>0.000000</td>\n",
       "      <td>0.000000</td>\n",
       "      <td>0.000000</td>\n",
       "      <td>0.250000</td>\n",
       "      <td>0.000000</td>\n",
       "      <td>0.000000</td>\n",
       "      <td>121.000000</td>\n",
       "      <td>15.000000</td>\n",
       "      <td>0.070000</td>\n",
       "      <td>0.000000</td>\n",
       "      <td>0.000000</td>\n",
       "      <td>0.000000</td>\n",
       "      <td>0.000000</td>\n",
       "      <td>0.000000</td>\n",
       "      <td>0.000000</td>\n",
       "      <td>0.000000</td>\n",
       "      <td>17.000000</td>\n",
       "      <td>14.000000</td>\n",
       "      <td>1.000000</td>\n",
       "      <td>0.000000</td>\n",
       "    </tr>\n",
       "    <tr>\n",
       "      <th>50%</th>\n",
       "      <td>0.000000</td>\n",
       "      <td>5.400000e+01</td>\n",
       "      <td>4.600000e+01</td>\n",
       "      <td>0.000000</td>\n",
       "      <td>0.000000</td>\n",
       "      <td>0.000000</td>\n",
       "      <td>0.000000</td>\n",
       "      <td>0.000000</td>\n",
       "      <td>0.000000</td>\n",
       "      <td>0.000000</td>\n",
       "      <td>0.000000</td>\n",
       "      <td>0.000000</td>\n",
       "      <td>0.000000</td>\n",
       "      <td>0.000000</td>\n",
       "      <td>0.000000</td>\n",
       "      <td>0.000000</td>\n",
       "      <td>0.0</td>\n",
       "      <td>0.000000</td>\n",
       "      <td>0.000000</td>\n",
       "      <td>8.000000</td>\n",
       "      <td>6.000000</td>\n",
       "      <td>0.000000</td>\n",
       "      <td>0.000000</td>\n",
       "      <td>0.000000</td>\n",
       "      <td>0.000000</td>\n",
       "      <td>1.000000</td>\n",
       "      <td>0.000000</td>\n",
       "      <td>0.000000</td>\n",
       "      <td>255.000000</td>\n",
       "      <td>168.000000</td>\n",
       "      <td>0.920000</td>\n",
       "      <td>0.010000</td>\n",
       "      <td>0.000000</td>\n",
       "      <td>0.000000</td>\n",
       "      <td>0.000000</td>\n",
       "      <td>0.000000</td>\n",
       "      <td>0.000000</td>\n",
       "      <td>0.000000</td>\n",
       "      <td>20.000000</td>\n",
       "      <td>16.000000</td>\n",
       "      <td>2.000000</td>\n",
       "      <td>1.000000</td>\n",
       "    </tr>\n",
       "    <tr>\n",
       "      <th>75%</th>\n",
       "      <td>0.000000</td>\n",
       "      <td>2.870000e+02</td>\n",
       "      <td>6.010000e+02</td>\n",
       "      <td>0.000000</td>\n",
       "      <td>0.000000</td>\n",
       "      <td>0.000000</td>\n",
       "      <td>0.000000</td>\n",
       "      <td>0.000000</td>\n",
       "      <td>1.000000</td>\n",
       "      <td>0.000000</td>\n",
       "      <td>0.000000</td>\n",
       "      <td>0.000000</td>\n",
       "      <td>0.000000</td>\n",
       "      <td>0.000000</td>\n",
       "      <td>0.000000</td>\n",
       "      <td>0.000000</td>\n",
       "      <td>0.0</td>\n",
       "      <td>0.000000</td>\n",
       "      <td>0.000000</td>\n",
       "      <td>123.500000</td>\n",
       "      <td>16.000000</td>\n",
       "      <td>0.000000</td>\n",
       "      <td>0.000000</td>\n",
       "      <td>0.250000</td>\n",
       "      <td>0.075000</td>\n",
       "      <td>1.000000</td>\n",
       "      <td>0.060000</td>\n",
       "      <td>0.000000</td>\n",
       "      <td>255.000000</td>\n",
       "      <td>255.000000</td>\n",
       "      <td>1.000000</td>\n",
       "      <td>0.060000</td>\n",
       "      <td>0.030000</td>\n",
       "      <td>0.010000</td>\n",
       "      <td>0.000000</td>\n",
       "      <td>0.000000</td>\n",
       "      <td>0.360000</td>\n",
       "      <td>0.170000</td>\n",
       "      <td>21.000000</td>\n",
       "      <td>16.000000</td>\n",
       "      <td>2.000000</td>\n",
       "      <td>1.000000</td>\n",
       "    </tr>\n",
       "    <tr>\n",
       "      <th>max</th>\n",
       "      <td>57715.000000</td>\n",
       "      <td>6.282565e+07</td>\n",
       "      <td>1.345927e+06</td>\n",
       "      <td>1.000000</td>\n",
       "      <td>3.000000</td>\n",
       "      <td>3.000000</td>\n",
       "      <td>101.000000</td>\n",
       "      <td>4.000000</td>\n",
       "      <td>1.000000</td>\n",
       "      <td>796.000000</td>\n",
       "      <td>1.000000</td>\n",
       "      <td>2.000000</td>\n",
       "      <td>878.000000</td>\n",
       "      <td>100.000000</td>\n",
       "      <td>5.000000</td>\n",
       "      <td>4.000000</td>\n",
       "      <td>0.0</td>\n",
       "      <td>1.000000</td>\n",
       "      <td>1.000000</td>\n",
       "      <td>511.000000</td>\n",
       "      <td>511.000000</td>\n",
       "      <td>1.000000</td>\n",
       "      <td>1.000000</td>\n",
       "      <td>1.000000</td>\n",
       "      <td>1.000000</td>\n",
       "      <td>1.000000</td>\n",
       "      <td>1.000000</td>\n",
       "      <td>1.000000</td>\n",
       "      <td>255.000000</td>\n",
       "      <td>255.000000</td>\n",
       "      <td>1.000000</td>\n",
       "      <td>1.000000</td>\n",
       "      <td>1.000000</td>\n",
       "      <td>1.000000</td>\n",
       "      <td>1.000000</td>\n",
       "      <td>1.000000</td>\n",
       "      <td>1.000000</td>\n",
       "      <td>1.000000</td>\n",
       "      <td>21.000000</td>\n",
       "      <td>39.000000</td>\n",
       "      <td>5.000000</td>\n",
       "      <td>1.000000</td>\n",
       "    </tr>\n",
       "  </tbody>\n",
       "</table>\n",
       "</div>"
      ],
      "text/plain": [
       "           Duration   SourceBytes  DestinationBytes          Land  \\\n",
       "count  22543.000000  2.254300e+04      2.254300e+04  22543.000000   \n",
       "mean     218.868784  1.039591e+04      2.056110e+03      0.000311   \n",
       "std     1407.207069  4.727969e+05      2.121976e+04      0.017619   \n",
       "min        0.000000  0.000000e+00      0.000000e+00      0.000000   \n",
       "25%        0.000000  0.000000e+00      0.000000e+00      0.000000   \n",
       "50%        0.000000  5.400000e+01      4.600000e+01      0.000000   \n",
       "75%        0.000000  2.870000e+02      6.010000e+02      0.000000   \n",
       "max    57715.000000  6.282565e+07      1.345927e+06      1.000000   \n",
       "\n",
       "       WrongFragment        Urgent           Hot  FailedLogins      LoggedIn  \\\n",
       "count   22543.000000  22543.000000  22543.000000  22543.000000  22543.000000   \n",
       "mean        0.008428      0.000710      0.105399      0.021648      0.442222   \n",
       "std         0.142602      0.036474      0.928448      0.150331      0.496661   \n",
       "min         0.000000      0.000000      0.000000      0.000000      0.000000   \n",
       "25%         0.000000      0.000000      0.000000      0.000000      0.000000   \n",
       "50%         0.000000      0.000000      0.000000      0.000000      0.000000   \n",
       "75%         0.000000      0.000000      0.000000      0.000000      1.000000   \n",
       "max         3.000000      3.000000    101.000000      4.000000      1.000000   \n",
       "\n",
       "       NumberOfCompromised     RootShell   SuAttempted          Root  \\\n",
       "count         22543.000000  22543.000000  22543.000000  22543.000000   \n",
       "mean              0.119904      0.002440      0.000266      0.114670   \n",
       "std               7.269758      0.049335      0.021061      8.041792   \n",
       "min               0.000000      0.000000      0.000000      0.000000   \n",
       "25%               0.000000      0.000000      0.000000      0.000000   \n",
       "50%               0.000000      0.000000      0.000000      0.000000   \n",
       "75%               0.000000      0.000000      0.000000      0.000000   \n",
       "max             796.000000      1.000000      2.000000    878.000000   \n",
       "\n",
       "       NumberOfFileCreations  NumberOfShellPrompts  NumberOfAccessFiles  \\\n",
       "count           22543.000000          22543.000000         22543.000000   \n",
       "mean                0.008739              0.001153             0.003549   \n",
       "std                 0.676857              0.048015             0.067831   \n",
       "min                 0.000000              0.000000             0.000000   \n",
       "25%                 0.000000              0.000000             0.000000   \n",
       "50%                 0.000000              0.000000             0.000000   \n",
       "75%                 0.000000              0.000000             0.000000   \n",
       "max               100.000000              5.000000             4.000000   \n",
       "\n",
       "       NumberOfOutbound    IsHotLogin  IsGuestLogin         Count  \\\n",
       "count           22543.0  22543.000000  22543.000000  22543.000000   \n",
       "mean                0.0      0.000488      0.028435     79.028035   \n",
       "std                 0.0      0.022085      0.166214    128.542091   \n",
       "min                 0.0      0.000000      0.000000      0.000000   \n",
       "25%                 0.0      0.000000      0.000000      1.000000   \n",
       "50%                 0.0      0.000000      0.000000      8.000000   \n",
       "75%                 0.0      0.000000      0.000000    123.500000   \n",
       "max                 0.0      1.000000      1.000000    511.000000   \n",
       "\n",
       "           SrvCount    SerrorRate  SrvSerrorRate    RerrorRate  SrvRerrorRate  \\\n",
       "count  22543.000000  22543.000000   22543.000000  22543.000000   22543.000000   \n",
       "mean      31.125449      0.102928       0.103640      0.238474       0.235189   \n",
       "std       89.064362      0.295373       0.298337      0.416124       0.416221   \n",
       "min        0.000000      0.000000       0.000000      0.000000       0.000000   \n",
       "25%        1.000000      0.000000       0.000000      0.000000       0.000000   \n",
       "50%        6.000000      0.000000       0.000000      0.000000       0.000000   \n",
       "75%       16.000000      0.000000       0.000000      0.250000       0.075000   \n",
       "max      511.000000      1.000000       1.000000      1.000000       1.000000   \n",
       "\n",
       "        SameSrvRate   DiffSrvRate  SrvDiffHostRate  DstHostCount  \\\n",
       "count  22543.000000  22543.000000     22543.000000  22543.000000   \n",
       "mean       0.740374      0.094057         0.098115    193.866699   \n",
       "std        0.412482      0.259131         0.253550     94.036867   \n",
       "min        0.000000      0.000000         0.000000      0.000000   \n",
       "25%        0.250000      0.000000         0.000000    121.000000   \n",
       "50%        1.000000      0.000000         0.000000    255.000000   \n",
       "75%        1.000000      0.060000         0.000000    255.000000   \n",
       "max        1.000000      1.000000         1.000000    255.000000   \n",
       "\n",
       "       DstHostSrvCount  DstHostSameSrvRate  DstHostDiffSrvRate  \\\n",
       "count     22543.000000        22543.000000        22543.000000   \n",
       "mean        140.756465            0.608747            0.090519   \n",
       "std         111.782902            0.435681            0.220701   \n",
       "min           0.000000            0.000000            0.000000   \n",
       "25%          15.000000            0.070000            0.000000   \n",
       "50%         168.000000            0.920000            0.010000   \n",
       "75%         255.000000            1.000000            0.060000   \n",
       "max         255.000000            1.000000            1.000000   \n",
       "\n",
       "       DstHostSameSrcPortRate  DstHostSrvDiffHostRate  DstHostSerrorRate  \\\n",
       "count            22543.000000            22543.000000       22543.000000   \n",
       "mean                 0.132236                0.019639           0.097818   \n",
       "std                  0.306253                0.085396           0.273144   \n",
       "min                  0.000000                0.000000           0.000000   \n",
       "25%                  0.000000                0.000000           0.000000   \n",
       "50%                  0.000000                0.000000           0.000000   \n",
       "75%                  0.030000                0.010000           0.000000   \n",
       "max                  1.000000                1.000000           1.000000   \n",
       "\n",
       "       DstHostSrvSerrorRate  DstHostRerrorRate  DstHostSrvRerrorRate  \\\n",
       "count          22543.000000       22543.000000          22543.000000   \n",
       "mean               0.099430           0.233382              0.226693   \n",
       "std                0.281872           0.387237              0.400881   \n",
       "min                0.000000           0.000000              0.000000   \n",
       "25%                0.000000           0.000000              0.000000   \n",
       "50%                0.000000           0.000000              0.000000   \n",
       "75%                0.000000           0.360000              0.170000   \n",
       "max                1.000000           1.000000              1.000000   \n",
       "\n",
       "       TimesApparead   IndexAttack  IndexByGroup   IndexBinary  \n",
       "count   22543.000000  22543.000000  22543.000000  22543.000000  \n",
       "mean       18.018498     15.773943      2.047509      0.569268  \n",
       "std         4.269705      7.160474      1.002262      0.495190  \n",
       "min         0.000000      0.000000      1.000000      0.000000  \n",
       "25%        17.000000     14.000000      1.000000      0.000000  \n",
       "50%        20.000000     16.000000      2.000000      1.000000  \n",
       "75%        21.000000     16.000000      2.000000      1.000000  \n",
       "max        21.000000     39.000000      5.000000      1.000000  "
      ]
     },
     "execution_count": 65,
     "metadata": {},
     "output_type": "execute_result"
    }
   ],
   "source": [
    "test.describe()"
   ]
  },
  {
   "cell_type": "code",
   "execution_count": 66,
   "metadata": {
    "collapsed": true
   },
   "outputs": [],
   "source": [
    "Service=test[test.columns[2]]"
   ]
  },
  {
   "cell_type": "code",
   "execution_count": 67,
   "metadata": {
    "collapsed": true
   },
   "outputs": [],
   "source": [
    "temp = test[test.columns[2]].value_counts()"
   ]
  },
  {
   "cell_type": "code",
   "execution_count": 72,
   "metadata": {},
   "outputs": [
    {
     "data": {
      "text/plain": [
       "http       7853\n",
       "private    4774\n",
       "telnet     1626\n",
       "pop_3      1019\n",
       "smtp        934\n",
       "Name: Service, dtype: int64"
      ]
     },
     "execution_count": 72,
     "metadata": {},
     "output_type": "execute_result"
    }
   ],
   "source": [
    "temp.head()"
   ]
  },
  {
   "cell_type": "code",
   "execution_count": 69,
   "metadata": {},
   "outputs": [
    {
     "data": {
      "text/plain": [
       "22543"
      ]
     },
     "execution_count": 69,
     "metadata": {},
     "output_type": "execute_result"
    }
   ],
   "source": [
    "temp.sum()"
   ]
  },
  {
   "cell_type": "code",
   "execution_count": 70,
   "metadata": {},
   "outputs": [
    {
     "data": {
      "text/plain": [
       "63"
      ]
     },
     "execution_count": 70,
     "metadata": {},
     "output_type": "execute_result"
    }
   ],
   "source": [
    "len(temp)"
   ]
  },
  {
   "cell_type": "code",
   "execution_count": 73,
   "metadata": {
    "scrolled": true
   },
   "outputs": [
    {
     "data": {
      "text/plain": [
       "7853"
      ]
     },
     "execution_count": 73,
     "metadata": {},
     "output_type": "execute_result"
    }
   ],
   "source": [
    "temp[0]"
   ]
  },
  {
   "cell_type": "code",
   "execution_count": null,
   "metadata": {
    "collapsed": true
   },
   "outputs": [],
   "source": [
    "#probabilidad"
   ]
  },
  {
   "cell_type": "code",
   "execution_count": 74,
   "metadata": {},
   "outputs": [
    {
     "data": {
      "text/plain": [
       "0.3483564742935723"
      ]
     },
     "execution_count": 74,
     "metadata": {},
     "output_type": "execute_result"
    }
   ],
   "source": [
    "temp[0]/temp.sum()"
   ]
  },
  {
   "cell_type": "code",
   "execution_count": 75,
   "metadata": {
    "collapsed": true
   },
   "outputs": [],
   "source": [
    "import math"
   ]
  },
  {
   "cell_type": "code",
   "execution_count": null,
   "metadata": {
    "collapsed": true
   },
   "outputs": [],
   "source": [
    "#informacion"
   ]
  },
  {
   "cell_type": "code",
   "execution_count": 78,
   "metadata": {
    "scrolled": true
   },
   "outputs": [
    {
     "data": {
      "text/plain": [
       "1.521363718492482"
      ]
     },
     "execution_count": 78,
     "metadata": {},
     "output_type": "execute_result"
    }
   ],
   "source": [
    "-1*math.log(temp[0]/temp.sum(),2)"
   ]
  },
  {
   "cell_type": "code",
   "execution_count": 80,
   "metadata": {
    "collapsed": true
   },
   "outputs": [],
   "source": [
    "#probabilidad"
   ]
  },
  {
   "cell_type": "code",
   "execution_count": 79,
   "metadata": {},
   "outputs": [
    {
     "data": {
      "text/plain": [
       "0.52997690109219986"
      ]
     },
     "execution_count": 79,
     "metadata": {},
     "output_type": "execute_result"
    }
   ],
   "source": [
    "-1*temp[0]/temp.sum()*math.log(temp[0]/temp.sum(),2)"
   ]
  },
  {
   "cell_type": "code",
   "execution_count": 120,
   "metadata": {
    "collapsed": true
   },
   "outputs": [],
   "source": [
    "def entropia_informacion(dataset,columnas=[2,3,4,7,12,21,22]):\n",
    "    #cleaning the dataset\n",
    "    #restando uno al subindice, ya que pandas empieza la numeracion en 0\n",
    "    #volviendo un numpy array porque en las listas no hay restas\n",
    "    subindice=np.asarray(columnas)-1\n",
    "    #regresando a la lista\n",
    "    subindice=subindice.tolist()\n",
    "    indice=list(range(0,len(dataset.columns)-6))\n",
    "    indice.extend(subindice)\n",
    "    s_indice=pd.Series(indice)\n",
    "    #eleminando los duplicados en el Series de Pandas\n",
    "    s_indice=s_indice.drop_duplicates(keep=False)\n",
    "    for columna in s_indice:\n",
    "        #serie temporal\n",
    "        st=dataset.loc[:,dataset.columns[columna]]\n",
    "        print(\"Columna no: %d, etiquetada: %s\" %(columna+1,dataset.columns[columna]))\n",
    "        print(\"Su Promedio es: %f\" %(st.mean()))\n",
    "        print(\"Su Desviación Estandar es: %f\" % (st.std()))\n",
    "        informacion=-1*math.log(temp[0]/temp.sum(),2)\n",
    "        print(\"Su informacion es: \")"
   ]
  },
  {
   "cell_type": "code",
   "execution_count": null,
   "metadata": {
    "collapsed": true
   },
   "outputs": [],
   "source": [
    "def informacion(serie):\n",
    "    s_informacion=pd.Series()\n",
    "    for elemento in serie:\n",
    "        s_informacion=s_informacion.append(-1*math.log(serie[elemento]/serieb.sum(),2))\n",
    "        "
   ]
  },
  {
   "cell_type": "code",
   "execution_count": 183,
   "metadata": {
    "collapsed": true
   },
   "outputs": [],
   "source": [
    "#definiendo funcion para calcular la probabilidad\n",
    "s_probabilidad=None\n",
    "def probabilidad(serie):\n",
    "    s_probabilidad=[]\n",
    "    e_agrupados = serie.value_counts()\n",
    "    for elemento in e_agrupados:\n",
    "        info=elemento/e_agrupados.sum()\n",
    "        s_probabilidad.append(info)\n",
    "    ps_probabilidad=pd.Series(s_probabilidad)\n",
    "    return (ps_probabilidad,e_agrupados)"
   ]
  },
  {
   "cell_type": "code",
   "execution_count": null,
   "metadata": {
    "collapsed": true
   },
   "outputs": [],
   "source": [
    "#definiendo funcion para calcular la probabilidad\n",
    "#es la informacion lol\n",
    "s_probabilidad=None\n",
    "def probabilidad(serie):\n",
    "    s_probabilidad=[]\n",
    "    e_agrupados = serie.value_counts()\n",
    "    for elemento in e_agrupados:\n",
    "        info=-1*math.log(elemento/e_agrupados.sum(),2)\n",
    "        s_probabilidad.append(info)\n",
    "    ps_probabilidad=pd.Series(s_probabilidad)\n",
    "    return (ps_probabilidad,e_agrupados)"
   ]
  },
  {
   "cell_type": "code",
   "execution_count": 184,
   "metadata": {},
   "outputs": [],
   "source": [
    "proba,e_agrupados=probabilidad(test.Duration)"
   ]
  },
  {
   "cell_type": "code",
   "execution_count": 185,
   "metadata": {
    "scrolled": true
   },
   "outputs": [
    {
     "data": {
      "text/plain": [
       "0    0.843588\n",
       "1    0.026039\n",
       "2    0.023910\n",
       "3    0.010646\n",
       "4    0.009582\n",
       "dtype: float64"
      ]
     },
     "execution_count": 185,
     "metadata": {},
     "output_type": "execute_result"
    }
   ],
   "source": [
    "proba.head()"
   ]
  },
  {
   "cell_type": "code",
   "execution_count": 186,
   "metadata": {},
   "outputs": [
    {
     "data": {
      "text/plain": [
       "0      19017\n",
       "1        587\n",
       "4        539\n",
       "282      240\n",
       "280      216\n",
       "Name: Duration, dtype: int64"
      ]
     },
     "execution_count": 186,
     "metadata": {},
     "output_type": "execute_result"
    }
   ],
   "source": [
    "e_agrupados.head()"
   ]
  },
  {
   "cell_type": "code",
   "execution_count": 121,
   "metadata": {},
   "outputs": [
    {
     "name": "stdout",
     "output_type": "stream",
     "text": [
      "Columna no: 1, etiquetada: Duration\n",
      "Su Promedio es: 218.868784\n",
      "Su Desviasción Estandar es: 1407.207069\n",
      "Columna no: 5, etiquetada: SourceBytes\n",
      "Su Promedio es: 10395.911325\n",
      "Su Desviasción Estandar es: 472796.912693\n",
      "Columna no: 6, etiquetada: DestinationBytes\n",
      "Su Promedio es: 2056.110012\n",
      "Su Desviasción Estandar es: 21219.763847\n",
      "Columna no: 8, etiquetada: WrongFragment\n",
      "Su Promedio es: 0.008428\n",
      "Su Desviasción Estandar es: 0.142602\n",
      "Columna no: 9, etiquetada: Urgent\n",
      "Su Promedio es: 0.000710\n",
      "Su Desviasción Estandar es: 0.036474\n",
      "Columna no: 10, etiquetada: Hot\n",
      "Su Promedio es: 0.105399\n",
      "Su Desviasción Estandar es: 0.928448\n",
      "Columna no: 11, etiquetada: FailedLogins\n",
      "Su Promedio es: 0.021648\n",
      "Su Desviasción Estandar es: 0.150331\n",
      "Columna no: 13, etiquetada: NumberOfCompromised\n",
      "Su Promedio es: 0.119904\n",
      "Su Desviasción Estandar es: 7.269758\n",
      "Columna no: 14, etiquetada: RootShell\n",
      "Su Promedio es: 0.002440\n",
      "Su Desviasción Estandar es: 0.049335\n",
      "Columna no: 15, etiquetada: SuAttempted\n",
      "Su Promedio es: 0.000266\n",
      "Su Desviasción Estandar es: 0.021061\n",
      "Columna no: 16, etiquetada: Root\n",
      "Su Promedio es: 0.114670\n",
      "Su Desviasción Estandar es: 8.041792\n",
      "Columna no: 17, etiquetada: NumberOfFileCreations\n",
      "Su Promedio es: 0.008739\n",
      "Su Desviasción Estandar es: 0.676857\n",
      "Columna no: 18, etiquetada: NumberOfShellPrompts\n",
      "Su Promedio es: 0.001153\n",
      "Su Desviasción Estandar es: 0.048015\n",
      "Columna no: 19, etiquetada: NumberOfAccessFiles\n",
      "Su Promedio es: 0.003549\n",
      "Su Desviasción Estandar es: 0.067831\n",
      "Columna no: 20, etiquetada: NumberOfOutbound\n",
      "Su Promedio es: 0.000000\n",
      "Su Desviasción Estandar es: 0.000000\n",
      "Columna no: 23, etiquetada: Count\n",
      "Su Promedio es: 79.028035\n",
      "Su Desviasción Estandar es: 128.542091\n",
      "Columna no: 24, etiquetada: SrvCount\n",
      "Su Promedio es: 31.125449\n",
      "Su Desviasción Estandar es: 89.064362\n",
      "Columna no: 25, etiquetada: SerrorRate\n",
      "Su Promedio es: 0.102928\n",
      "Su Desviasción Estandar es: 0.295373\n",
      "Columna no: 26, etiquetada: SrvSerrorRate\n",
      "Su Promedio es: 0.103640\n",
      "Su Desviasción Estandar es: 0.298337\n",
      "Columna no: 27, etiquetada: RerrorRate\n",
      "Su Promedio es: 0.238474\n",
      "Su Desviasción Estandar es: 0.416124\n",
      "Columna no: 28, etiquetada: SrvRerrorRate\n",
      "Su Promedio es: 0.235189\n",
      "Su Desviasción Estandar es: 0.416221\n",
      "Columna no: 29, etiquetada: SameSrvRate\n",
      "Su Promedio es: 0.740374\n",
      "Su Desviasción Estandar es: 0.412482\n",
      "Columna no: 30, etiquetada: DiffSrvRate\n",
      "Su Promedio es: 0.094057\n",
      "Su Desviasción Estandar es: 0.259131\n",
      "Columna no: 31, etiquetada: SrvDiffHostRate\n",
      "Su Promedio es: 0.098115\n",
      "Su Desviasción Estandar es: 0.253550\n",
      "Columna no: 32, etiquetada: DstHostCount\n",
      "Su Promedio es: 193.866699\n",
      "Su Desviasción Estandar es: 94.036867\n",
      "Columna no: 33, etiquetada: DstHostSrvCount\n",
      "Su Promedio es: 140.756465\n",
      "Su Desviasción Estandar es: 111.782902\n",
      "Columna no: 34, etiquetada: DstHostSameSrvRate\n",
      "Su Promedio es: 0.608747\n",
      "Su Desviasción Estandar es: 0.435681\n",
      "Columna no: 35, etiquetada: DstHostDiffSrvRate\n",
      "Su Promedio es: 0.090519\n",
      "Su Desviasción Estandar es: 0.220701\n",
      "Columna no: 36, etiquetada: DstHostSameSrcPortRate\n",
      "Su Promedio es: 0.132236\n",
      "Su Desviasción Estandar es: 0.306253\n",
      "Columna no: 37, etiquetada: DstHostSrvDiffHostRate\n",
      "Su Promedio es: 0.019639\n",
      "Su Desviasción Estandar es: 0.085396\n",
      "Columna no: 38, etiquetada: DstHostSerrorRate\n",
      "Su Promedio es: 0.097818\n",
      "Su Desviasción Estandar es: 0.273144\n",
      "Columna no: 39, etiquetada: DstHostSrvSerrorRate\n",
      "Su Promedio es: 0.099430\n",
      "Su Desviasción Estandar es: 0.281872\n",
      "Columna no: 40, etiquetada: DstHostRerrorRate\n",
      "Su Promedio es: 0.233382\n",
      "Su Desviasción Estandar es: 0.387237\n",
      "Columna no: 41, etiquetada: DstHostSrvRerrorRate\n",
      "Su Promedio es: 0.226693\n",
      "Su Desviasción Estandar es: 0.400881\n"
     ]
    }
   ],
   "source": [
    "entropia_informacion(test)"
   ]
  },
  {
   "cell_type": "code",
   "execution_count": 96,
   "metadata": {},
   "outputs": [
    {
     "data": {
      "text/plain": [
       "'Service'"
      ]
     },
     "execution_count": 96,
     "metadata": {},
     "output_type": "execute_result"
    }
   ],
   "source": [
    "test.columns[2]"
   ]
  },
  {
   "cell_type": "code",
   "execution_count": 87,
   "metadata": {
    "scrolled": true
   },
   "outputs": [],
   "source": [
    "st=test.loc[:,test.columns[2]]"
   ]
  },
  {
   "cell_type": "code",
   "execution_count": 88,
   "metadata": {},
   "outputs": [
    {
     "data": {
      "text/plain": [
       "0     private\n",
       "1     private\n",
       "2    ftp_data\n",
       "3       eco_i\n",
       "4      telnet\n",
       "Name: Service, dtype: object"
      ]
     },
     "execution_count": 88,
     "metadata": {},
     "output_type": "execute_result"
    }
   ],
   "source": [
    "st.head()"
   ]
  },
  {
   "cell_type": "code",
   "execution_count": 97,
   "metadata": {
    "collapsed": true
   },
   "outputs": [],
   "source": [
    "columnas=[2,3,4,7,12,21,22]"
   ]
  },
  {
   "cell_type": "code",
   "execution_count": 99,
   "metadata": {},
   "outputs": [
    {
     "ename": "TypeError",
     "evalue": "unsupported operand type(s) for -: 'list' and 'list'",
     "output_type": "error",
     "traceback": [
      "\u001b[0;31m---------------------------------------------------------------------------\u001b[0m",
      "\u001b[0;31mTypeError\u001b[0m                                 Traceback (most recent call last)",
      "\u001b[0;32m<ipython-input-99-7f63175db185>\u001b[0m in \u001b[0;36m<module>\u001b[0;34m()\u001b[0m\n\u001b[0;32m----> 1\u001b[0;31m \u001b[0mcolumnas\u001b[0m\u001b[0;34m=\u001b[0m\u001b[0mcolumnas\u001b[0m\u001b[0;34m-\u001b[0m\u001b[0mlist\u001b[0m\u001b[0;34m(\u001b[0m\u001b[0mrange\u001b[0m\u001b[0;34m(\u001b[0m\u001b[0;36m0\u001b[0m\u001b[0;34m,\u001b[0m\u001b[0mlen\u001b[0m\u001b[0;34m(\u001b[0m\u001b[0mcolumnas\u001b[0m\u001b[0;34m)\u001b[0m\u001b[0;34m)\u001b[0m\u001b[0;34m)\u001b[0m\u001b[0;34m\u001b[0m\u001b[0m\n\u001b[0m",
      "\u001b[0;31mTypeError\u001b[0m: unsupported operand type(s) for -: 'list' and 'list'"
     ]
    }
   ],
   "source": [
    "columnas=columnas-list(range(0,len(columnas)))"
   ]
  },
  {
   "cell_type": "code",
   "execution_count": 100,
   "metadata": {
    "collapsed": true
   },
   "outputs": [],
   "source": [
    "a=[3,4]\n",
    "b=[2,1]"
   ]
  },
  {
   "cell_type": "code",
   "execution_count": 101,
   "metadata": {},
   "outputs": [
    {
     "ename": "TypeError",
     "evalue": "unsupported operand type(s) for -: 'list' and 'list'",
     "output_type": "error",
     "traceback": [
      "\u001b[0;31m---------------------------------------------------------------------------\u001b[0m",
      "\u001b[0;31mTypeError\u001b[0m                                 Traceback (most recent call last)",
      "\u001b[0;32m<ipython-input-101-7e44b1e9d8e9>\u001b[0m in \u001b[0;36m<module>\u001b[0;34m()\u001b[0m\n\u001b[0;32m----> 1\u001b[0;31m \u001b[0mc\u001b[0m\u001b[0;34m=\u001b[0m\u001b[0ma\u001b[0m\u001b[0;34m-\u001b[0m\u001b[0mb\u001b[0m\u001b[0;34m\u001b[0m\u001b[0m\n\u001b[0m",
      "\u001b[0;31mTypeError\u001b[0m: unsupported operand type(s) for -: 'list' and 'list'"
     ]
    }
   ],
   "source": [
    "c=a-b"
   ]
  },
  {
   "cell_type": "code",
   "execution_count": 102,
   "metadata": {
    "collapsed": true
   },
   "outputs": [],
   "source": [
    "a=np.asarray(a)\n",
    "b=np.asarray(b)"
   ]
  },
  {
   "cell_type": "code",
   "execution_count": 103,
   "metadata": {
    "collapsed": true
   },
   "outputs": [],
   "source": [
    "c=a-b"
   ]
  },
  {
   "cell_type": "code",
   "execution_count": 104,
   "metadata": {},
   "outputs": [
    {
     "data": {
      "text/plain": [
       "array([1, 3])"
      ]
     },
     "execution_count": 104,
     "metadata": {},
     "output_type": "execute_result"
    }
   ],
   "source": [
    "c"
   ]
  },
  {
   "cell_type": "code",
   "execution_count": 105,
   "metadata": {},
   "outputs": [
    {
     "data": {
      "text/plain": [
       "array([0, 2])"
      ]
     },
     "execution_count": 105,
     "metadata": {},
     "output_type": "execute_result"
    }
   ],
   "source": [
    "c-1"
   ]
  },
  {
   "cell_type": "code",
   "execution_count": 106,
   "metadata": {},
   "outputs": [
    {
     "data": {
      "text/plain": [
       "numpy.ndarray"
      ]
     },
     "execution_count": 106,
     "metadata": {},
     "output_type": "execute_result"
    }
   ],
   "source": [
    "type(c)"
   ]
  },
  {
   "cell_type": "code",
   "execution_count": 107,
   "metadata": {
    "collapsed": true
   },
   "outputs": [],
   "source": [
    "c=c.tolist()"
   ]
  },
  {
   "cell_type": "code",
   "execution_count": 108,
   "metadata": {},
   "outputs": [
    {
     "data": {
      "text/plain": [
       "[1, 3]"
      ]
     },
     "execution_count": 108,
     "metadata": {},
     "output_type": "execute_result"
    }
   ],
   "source": [
    "c"
   ]
  },
  {
   "cell_type": "code",
   "execution_count": 111,
   "metadata": {
    "collapsed": true
   },
   "outputs": [],
   "source": [
    "subindice=np.asarray(columnas)-1\n",
    "    #regresando a la lista\n",
    "subindice=subindice.tolist()"
   ]
  },
  {
   "cell_type": "code",
   "execution_count": 112,
   "metadata": {},
   "outputs": [
    {
     "data": {
      "text/plain": [
       "[1, 2, 3, 6, 11, 20, 21]"
      ]
     },
     "execution_count": 112,
     "metadata": {},
     "output_type": "execute_result"
    }
   ],
   "source": [
    "subindice"
   ]
  },
  {
   "cell_type": "code",
   "execution_count": 113,
   "metadata": {},
   "outputs": [
    {
     "data": {
      "text/plain": [
       "[2, 3, 4, 7, 12, 21, 22]"
      ]
     },
     "execution_count": 113,
     "metadata": {},
     "output_type": "execute_result"
    }
   ],
   "source": [
    "columnas"
   ]
  },
  {
   "cell_type": "code",
   "execution_count": 114,
   "metadata": {},
   "outputs": [
    {
     "data": {
      "text/html": [
       "<div>\n",
       "<style>\n",
       "    .dataframe thead tr:only-child th {\n",
       "        text-align: right;\n",
       "    }\n",
       "\n",
       "    .dataframe thead th {\n",
       "        text-align: left;\n",
       "    }\n",
       "\n",
       "    .dataframe tbody tr th {\n",
       "        vertical-align: top;\n",
       "    }\n",
       "</style>\n",
       "<table border=\"1\" class=\"dataframe\">\n",
       "  <thead>\n",
       "    <tr style=\"text-align: right;\">\n",
       "      <th></th>\n",
       "      <th>Duration</th>\n",
       "      <th>ProtocolType</th>\n",
       "      <th>Service</th>\n",
       "      <th>Flag</th>\n",
       "      <th>SourceBytes</th>\n",
       "      <th>DestinationBytes</th>\n",
       "      <th>Land</th>\n",
       "      <th>WrongFragment</th>\n",
       "      <th>Urgent</th>\n",
       "      <th>Hot</th>\n",
       "      <th>FailedLogins</th>\n",
       "      <th>LoggedIn</th>\n",
       "      <th>NumberOfCompromised</th>\n",
       "      <th>RootShell</th>\n",
       "      <th>SuAttempted</th>\n",
       "      <th>Root</th>\n",
       "      <th>NumberOfFileCreations</th>\n",
       "      <th>NumberOfShellPrompts</th>\n",
       "      <th>NumberOfAccessFiles</th>\n",
       "      <th>NumberOfOutbound</th>\n",
       "      <th>IsHotLogin</th>\n",
       "      <th>IsGuestLogin</th>\n",
       "      <th>Count</th>\n",
       "      <th>SrvCount</th>\n",
       "      <th>SerrorRate</th>\n",
       "      <th>SrvSerrorRate</th>\n",
       "      <th>RerrorRate</th>\n",
       "      <th>SrvRerrorRate</th>\n",
       "      <th>SameSrvRate</th>\n",
       "      <th>DiffSrvRate</th>\n",
       "      <th>SrvDiffHostRate</th>\n",
       "      <th>DstHostCount</th>\n",
       "      <th>DstHostSrvCount</th>\n",
       "      <th>DstHostSameSrvRate</th>\n",
       "      <th>DstHostDiffSrvRate</th>\n",
       "      <th>DstHostSameSrcPortRate</th>\n",
       "      <th>DstHostSrvDiffHostRate</th>\n",
       "      <th>DstHostSerrorRate</th>\n",
       "      <th>DstHostSrvSerrorRate</th>\n",
       "      <th>DstHostRerrorRate</th>\n",
       "      <th>DstHostSrvRerrorRate</th>\n",
       "      <th>TypeOfAttack</th>\n",
       "      <th>TimesApparead</th>\n",
       "      <th>Group</th>\n",
       "      <th>IndexAttack</th>\n",
       "      <th>IndexByGroup</th>\n",
       "      <th>IndexBinary</th>\n",
       "    </tr>\n",
       "  </thead>\n",
       "  <tbody>\n",
       "    <tr>\n",
       "      <th>0</th>\n",
       "      <td>0</td>\n",
       "      <td>tcp</td>\n",
       "      <td>private</td>\n",
       "      <td>REJ</td>\n",
       "      <td>0</td>\n",
       "      <td>0</td>\n",
       "      <td>0</td>\n",
       "      <td>0</td>\n",
       "      <td>0</td>\n",
       "      <td>0</td>\n",
       "      <td>0</td>\n",
       "      <td>0</td>\n",
       "      <td>0</td>\n",
       "      <td>0</td>\n",
       "      <td>0</td>\n",
       "      <td>0</td>\n",
       "      <td>0</td>\n",
       "      <td>0</td>\n",
       "      <td>0</td>\n",
       "      <td>0</td>\n",
       "      <td>0</td>\n",
       "      <td>0</td>\n",
       "      <td>229</td>\n",
       "      <td>10</td>\n",
       "      <td>0.0</td>\n",
       "      <td>0.00</td>\n",
       "      <td>1.0</td>\n",
       "      <td>1.0</td>\n",
       "      <td>0.04</td>\n",
       "      <td>0.06</td>\n",
       "      <td>0.00</td>\n",
       "      <td>255</td>\n",
       "      <td>10</td>\n",
       "      <td>0.04</td>\n",
       "      <td>0.06</td>\n",
       "      <td>0.00</td>\n",
       "      <td>0.00</td>\n",
       "      <td>0.0</td>\n",
       "      <td>0.0</td>\n",
       "      <td>1.00</td>\n",
       "      <td>1.00</td>\n",
       "      <td>neptune</td>\n",
       "      <td>21</td>\n",
       "      <td>dos</td>\n",
       "      <td>14</td>\n",
       "      <td>1</td>\n",
       "      <td>1</td>\n",
       "    </tr>\n",
       "    <tr>\n",
       "      <th>1</th>\n",
       "      <td>0</td>\n",
       "      <td>tcp</td>\n",
       "      <td>private</td>\n",
       "      <td>REJ</td>\n",
       "      <td>0</td>\n",
       "      <td>0</td>\n",
       "      <td>0</td>\n",
       "      <td>0</td>\n",
       "      <td>0</td>\n",
       "      <td>0</td>\n",
       "      <td>0</td>\n",
       "      <td>0</td>\n",
       "      <td>0</td>\n",
       "      <td>0</td>\n",
       "      <td>0</td>\n",
       "      <td>0</td>\n",
       "      <td>0</td>\n",
       "      <td>0</td>\n",
       "      <td>0</td>\n",
       "      <td>0</td>\n",
       "      <td>0</td>\n",
       "      <td>0</td>\n",
       "      <td>136</td>\n",
       "      <td>1</td>\n",
       "      <td>0.0</td>\n",
       "      <td>0.00</td>\n",
       "      <td>1.0</td>\n",
       "      <td>1.0</td>\n",
       "      <td>0.01</td>\n",
       "      <td>0.06</td>\n",
       "      <td>0.00</td>\n",
       "      <td>255</td>\n",
       "      <td>1</td>\n",
       "      <td>0.00</td>\n",
       "      <td>0.06</td>\n",
       "      <td>0.00</td>\n",
       "      <td>0.00</td>\n",
       "      <td>0.0</td>\n",
       "      <td>0.0</td>\n",
       "      <td>1.00</td>\n",
       "      <td>1.00</td>\n",
       "      <td>neptune</td>\n",
       "      <td>21</td>\n",
       "      <td>dos</td>\n",
       "      <td>14</td>\n",
       "      <td>1</td>\n",
       "      <td>1</td>\n",
       "    </tr>\n",
       "    <tr>\n",
       "      <th>2</th>\n",
       "      <td>2</td>\n",
       "      <td>tcp</td>\n",
       "      <td>ftp_data</td>\n",
       "      <td>SF</td>\n",
       "      <td>12983</td>\n",
       "      <td>0</td>\n",
       "      <td>0</td>\n",
       "      <td>0</td>\n",
       "      <td>0</td>\n",
       "      <td>0</td>\n",
       "      <td>0</td>\n",
       "      <td>0</td>\n",
       "      <td>0</td>\n",
       "      <td>0</td>\n",
       "      <td>0</td>\n",
       "      <td>0</td>\n",
       "      <td>0</td>\n",
       "      <td>0</td>\n",
       "      <td>0</td>\n",
       "      <td>0</td>\n",
       "      <td>0</td>\n",
       "      <td>0</td>\n",
       "      <td>1</td>\n",
       "      <td>1</td>\n",
       "      <td>0.0</td>\n",
       "      <td>0.00</td>\n",
       "      <td>0.0</td>\n",
       "      <td>0.0</td>\n",
       "      <td>1.00</td>\n",
       "      <td>0.00</td>\n",
       "      <td>0.00</td>\n",
       "      <td>134</td>\n",
       "      <td>86</td>\n",
       "      <td>0.61</td>\n",
       "      <td>0.04</td>\n",
       "      <td>0.61</td>\n",
       "      <td>0.02</td>\n",
       "      <td>0.0</td>\n",
       "      <td>0.0</td>\n",
       "      <td>0.00</td>\n",
       "      <td>0.00</td>\n",
       "      <td>normal</td>\n",
       "      <td>21</td>\n",
       "      <td>normal</td>\n",
       "      <td>16</td>\n",
       "      <td>2</td>\n",
       "      <td>0</td>\n",
       "    </tr>\n",
       "    <tr>\n",
       "      <th>3</th>\n",
       "      <td>0</td>\n",
       "      <td>icmp</td>\n",
       "      <td>eco_i</td>\n",
       "      <td>SF</td>\n",
       "      <td>20</td>\n",
       "      <td>0</td>\n",
       "      <td>0</td>\n",
       "      <td>0</td>\n",
       "      <td>0</td>\n",
       "      <td>0</td>\n",
       "      <td>0</td>\n",
       "      <td>0</td>\n",
       "      <td>0</td>\n",
       "      <td>0</td>\n",
       "      <td>0</td>\n",
       "      <td>0</td>\n",
       "      <td>0</td>\n",
       "      <td>0</td>\n",
       "      <td>0</td>\n",
       "      <td>0</td>\n",
       "      <td>0</td>\n",
       "      <td>0</td>\n",
       "      <td>1</td>\n",
       "      <td>65</td>\n",
       "      <td>0.0</td>\n",
       "      <td>0.00</td>\n",
       "      <td>0.0</td>\n",
       "      <td>0.0</td>\n",
       "      <td>1.00</td>\n",
       "      <td>0.00</td>\n",
       "      <td>1.00</td>\n",
       "      <td>3</td>\n",
       "      <td>57</td>\n",
       "      <td>1.00</td>\n",
       "      <td>0.00</td>\n",
       "      <td>1.00</td>\n",
       "      <td>0.28</td>\n",
       "      <td>0.0</td>\n",
       "      <td>0.0</td>\n",
       "      <td>0.00</td>\n",
       "      <td>0.00</td>\n",
       "      <td>saint</td>\n",
       "      <td>15</td>\n",
       "      <td>probe</td>\n",
       "      <td>24</td>\n",
       "      <td>3</td>\n",
       "      <td>1</td>\n",
       "    </tr>\n",
       "    <tr>\n",
       "      <th>4</th>\n",
       "      <td>1</td>\n",
       "      <td>tcp</td>\n",
       "      <td>telnet</td>\n",
       "      <td>RSTO</td>\n",
       "      <td>0</td>\n",
       "      <td>15</td>\n",
       "      <td>0</td>\n",
       "      <td>0</td>\n",
       "      <td>0</td>\n",
       "      <td>0</td>\n",
       "      <td>0</td>\n",
       "      <td>0</td>\n",
       "      <td>0</td>\n",
       "      <td>0</td>\n",
       "      <td>0</td>\n",
       "      <td>0</td>\n",
       "      <td>0</td>\n",
       "      <td>0</td>\n",
       "      <td>0</td>\n",
       "      <td>0</td>\n",
       "      <td>0</td>\n",
       "      <td>0</td>\n",
       "      <td>1</td>\n",
       "      <td>8</td>\n",
       "      <td>0.0</td>\n",
       "      <td>0.12</td>\n",
       "      <td>1.0</td>\n",
       "      <td>0.5</td>\n",
       "      <td>1.00</td>\n",
       "      <td>0.00</td>\n",
       "      <td>0.75</td>\n",
       "      <td>29</td>\n",
       "      <td>86</td>\n",
       "      <td>0.31</td>\n",
       "      <td>0.17</td>\n",
       "      <td>0.03</td>\n",
       "      <td>0.02</td>\n",
       "      <td>0.0</td>\n",
       "      <td>0.0</td>\n",
       "      <td>0.83</td>\n",
       "      <td>0.71</td>\n",
       "      <td>mscan</td>\n",
       "      <td>11</td>\n",
       "      <td>probe</td>\n",
       "      <td>11</td>\n",
       "      <td>3</td>\n",
       "      <td>1</td>\n",
       "    </tr>\n",
       "  </tbody>\n",
       "</table>\n",
       "</div>"
      ],
      "text/plain": [
       "   Duration ProtocolType   Service  Flag  SourceBytes  DestinationBytes  Land  \\\n",
       "0         0          tcp   private   REJ            0                 0     0   \n",
       "1         0          tcp   private   REJ            0                 0     0   \n",
       "2         2          tcp  ftp_data    SF        12983                 0     0   \n",
       "3         0         icmp     eco_i    SF           20                 0     0   \n",
       "4         1          tcp    telnet  RSTO            0                15     0   \n",
       "\n",
       "   WrongFragment  Urgent  Hot  FailedLogins  LoggedIn  NumberOfCompromised  \\\n",
       "0              0       0    0             0         0                    0   \n",
       "1              0       0    0             0         0                    0   \n",
       "2              0       0    0             0         0                    0   \n",
       "3              0       0    0             0         0                    0   \n",
       "4              0       0    0             0         0                    0   \n",
       "\n",
       "   RootShell  SuAttempted  Root  NumberOfFileCreations  NumberOfShellPrompts  \\\n",
       "0          0            0     0                      0                     0   \n",
       "1          0            0     0                      0                     0   \n",
       "2          0            0     0                      0                     0   \n",
       "3          0            0     0                      0                     0   \n",
       "4          0            0     0                      0                     0   \n",
       "\n",
       "   NumberOfAccessFiles  NumberOfOutbound  IsHotLogin  IsGuestLogin  Count  \\\n",
       "0                    0                 0           0             0    229   \n",
       "1                    0                 0           0             0    136   \n",
       "2                    0                 0           0             0      1   \n",
       "3                    0                 0           0             0      1   \n",
       "4                    0                 0           0             0      1   \n",
       "\n",
       "   SrvCount  SerrorRate  SrvSerrorRate  RerrorRate  SrvRerrorRate  \\\n",
       "0        10         0.0           0.00         1.0            1.0   \n",
       "1         1         0.0           0.00         1.0            1.0   \n",
       "2         1         0.0           0.00         0.0            0.0   \n",
       "3        65         0.0           0.00         0.0            0.0   \n",
       "4         8         0.0           0.12         1.0            0.5   \n",
       "\n",
       "   SameSrvRate  DiffSrvRate  SrvDiffHostRate  DstHostCount  DstHostSrvCount  \\\n",
       "0         0.04         0.06             0.00           255               10   \n",
       "1         0.01         0.06             0.00           255                1   \n",
       "2         1.00         0.00             0.00           134               86   \n",
       "3         1.00         0.00             1.00             3               57   \n",
       "4         1.00         0.00             0.75            29               86   \n",
       "\n",
       "   DstHostSameSrvRate  DstHostDiffSrvRate  DstHostSameSrcPortRate  \\\n",
       "0                0.04                0.06                    0.00   \n",
       "1                0.00                0.06                    0.00   \n",
       "2                0.61                0.04                    0.61   \n",
       "3                1.00                0.00                    1.00   \n",
       "4                0.31                0.17                    0.03   \n",
       "\n",
       "   DstHostSrvDiffHostRate  DstHostSerrorRate  DstHostSrvSerrorRate  \\\n",
       "0                    0.00                0.0                   0.0   \n",
       "1                    0.00                0.0                   0.0   \n",
       "2                    0.02                0.0                   0.0   \n",
       "3                    0.28                0.0                   0.0   \n",
       "4                    0.02                0.0                   0.0   \n",
       "\n",
       "   DstHostRerrorRate  DstHostSrvRerrorRate TypeOfAttack  TimesApparead  \\\n",
       "0               1.00                  1.00      neptune             21   \n",
       "1               1.00                  1.00      neptune             21   \n",
       "2               0.00                  0.00       normal             21   \n",
       "3               0.00                  0.00        saint             15   \n",
       "4               0.83                  0.71        mscan             11   \n",
       "\n",
       "    Group  IndexAttack  IndexByGroup  IndexBinary  \n",
       "0     dos           14             1            1  \n",
       "1     dos           14             1            1  \n",
       "2  normal           16             2            0  \n",
       "3   probe           24             3            1  \n",
       "4   probe           11             3            1  "
      ]
     },
     "execution_count": 114,
     "metadata": {},
     "output_type": "execute_result"
    }
   ],
   "source": [
    "test.head()"
   ]
  },
  {
   "cell_type": "code",
   "execution_count": 117,
   "metadata": {},
   "outputs": [
    {
     "data": {
      "text/plain": [
       "47"
      ]
     },
     "execution_count": 117,
     "metadata": {},
     "output_type": "execute_result"
    }
   ],
   "source": [
    "len(test.columns)"
   ]
  },
  {
   "cell_type": "code",
   "execution_count": 125,
   "metadata": {
    "collapsed": true
   },
   "outputs": [],
   "source": [
    "s_probabilidad=pd.Series()"
   ]
  },
  {
   "cell_type": "code",
   "execution_count": 129,
   "metadata": {},
   "outputs": [
    {
     "ename": "TypeError",
     "evalue": "cannot concatenate a non-NDFrame object",
     "output_type": "error",
     "traceback": [
      "\u001b[0;31m---------------------------------------------------------------------------\u001b[0m",
      "\u001b[0;31mTypeError\u001b[0m                                 Traceback (most recent call last)",
      "\u001b[0;32m<ipython-input-129-c647a75e1222>\u001b[0m in \u001b[0;36m<module>\u001b[0;34m()\u001b[0m\n\u001b[0;32m----> 1\u001b[0;31m \u001b[0ms_probabilidad\u001b[0m\u001b[0;34m.\u001b[0m\u001b[0mappend\u001b[0m\u001b[0;34m(\u001b[0m\u001b[0;34m[\u001b[0m\u001b[0;36m1\u001b[0m\u001b[0;34m]\u001b[0m\u001b[0;34m)\u001b[0m\u001b[0;34m\u001b[0m\u001b[0m\n\u001b[0m",
      "\u001b[0;32m/Users/Azeem/anaconda/lib/python3.6/site-packages/pandas/core/series.py\u001b[0m in \u001b[0;36mappend\u001b[0;34m(self, to_append, ignore_index, verify_integrity)\u001b[0m\n\u001b[1;32m   1551\u001b[0m             \u001b[0mto_concat\u001b[0m \u001b[0;34m=\u001b[0m \u001b[0;34m[\u001b[0m\u001b[0mself\u001b[0m\u001b[0;34m,\u001b[0m \u001b[0mto_append\u001b[0m\u001b[0;34m]\u001b[0m\u001b[0;34m\u001b[0m\u001b[0m\n\u001b[1;32m   1552\u001b[0m         return concat(to_concat, ignore_index=ignore_index,\n\u001b[0;32m-> 1553\u001b[0;31m                       verify_integrity=verify_integrity)\n\u001b[0m\u001b[1;32m   1554\u001b[0m \u001b[0;34m\u001b[0m\u001b[0m\n\u001b[1;32m   1555\u001b[0m     \u001b[0;32mdef\u001b[0m \u001b[0m_binop\u001b[0m\u001b[0;34m(\u001b[0m\u001b[0mself\u001b[0m\u001b[0;34m,\u001b[0m \u001b[0mother\u001b[0m\u001b[0;34m,\u001b[0m \u001b[0mfunc\u001b[0m\u001b[0;34m,\u001b[0m \u001b[0mlevel\u001b[0m\u001b[0;34m=\u001b[0m\u001b[0;32mNone\u001b[0m\u001b[0;34m,\u001b[0m \u001b[0mfill_value\u001b[0m\u001b[0;34m=\u001b[0m\u001b[0;32mNone\u001b[0m\u001b[0;34m)\u001b[0m\u001b[0;34m:\u001b[0m\u001b[0;34m\u001b[0m\u001b[0m\n",
      "\u001b[0;32m/Users/Azeem/anaconda/lib/python3.6/site-packages/pandas/core/reshape/concat.py\u001b[0m in \u001b[0;36mconcat\u001b[0;34m(objs, axis, join, join_axes, ignore_index, keys, levels, names, verify_integrity, copy)\u001b[0m\n\u001b[1;32m    204\u001b[0m                        \u001b[0mkeys\u001b[0m\u001b[0;34m=\u001b[0m\u001b[0mkeys\u001b[0m\u001b[0;34m,\u001b[0m \u001b[0mlevels\u001b[0m\u001b[0;34m=\u001b[0m\u001b[0mlevels\u001b[0m\u001b[0;34m,\u001b[0m \u001b[0mnames\u001b[0m\u001b[0;34m=\u001b[0m\u001b[0mnames\u001b[0m\u001b[0;34m,\u001b[0m\u001b[0;34m\u001b[0m\u001b[0m\n\u001b[1;32m    205\u001b[0m                        \u001b[0mverify_integrity\u001b[0m\u001b[0;34m=\u001b[0m\u001b[0mverify_integrity\u001b[0m\u001b[0;34m,\u001b[0m\u001b[0;34m\u001b[0m\u001b[0m\n\u001b[0;32m--> 206\u001b[0;31m                        copy=copy)\n\u001b[0m\u001b[1;32m    207\u001b[0m     \u001b[0;32mreturn\u001b[0m \u001b[0mop\u001b[0m\u001b[0;34m.\u001b[0m\u001b[0mget_result\u001b[0m\u001b[0;34m(\u001b[0m\u001b[0;34m)\u001b[0m\u001b[0;34m\u001b[0m\u001b[0m\n\u001b[1;32m    208\u001b[0m \u001b[0;34m\u001b[0m\u001b[0m\n",
      "\u001b[0;32m/Users/Azeem/anaconda/lib/python3.6/site-packages/pandas/core/reshape/concat.py\u001b[0m in \u001b[0;36m__init__\u001b[0;34m(self, objs, axis, join, join_axes, keys, levels, names, ignore_index, verify_integrity, copy)\u001b[0m\n\u001b[1;32m    261\u001b[0m         \u001b[0;32mfor\u001b[0m \u001b[0mobj\u001b[0m \u001b[0;32min\u001b[0m \u001b[0mobjs\u001b[0m\u001b[0;34m:\u001b[0m\u001b[0;34m\u001b[0m\u001b[0m\n\u001b[1;32m    262\u001b[0m             \u001b[0;32mif\u001b[0m \u001b[0;32mnot\u001b[0m \u001b[0misinstance\u001b[0m\u001b[0;34m(\u001b[0m\u001b[0mobj\u001b[0m\u001b[0;34m,\u001b[0m \u001b[0mNDFrame\u001b[0m\u001b[0;34m)\u001b[0m\u001b[0;34m:\u001b[0m\u001b[0;34m\u001b[0m\u001b[0m\n\u001b[0;32m--> 263\u001b[0;31m                 \u001b[0;32mraise\u001b[0m \u001b[0mTypeError\u001b[0m\u001b[0;34m(\u001b[0m\u001b[0;34m\"cannot concatenate a non-NDFrame object\"\u001b[0m\u001b[0;34m)\u001b[0m\u001b[0;34m\u001b[0m\u001b[0m\n\u001b[0m\u001b[1;32m    264\u001b[0m \u001b[0;34m\u001b[0m\u001b[0m\n\u001b[1;32m    265\u001b[0m             \u001b[0;31m# consolidate\u001b[0m\u001b[0;34m\u001b[0m\u001b[0;34m\u001b[0m\u001b[0m\n",
      "\u001b[0;31mTypeError\u001b[0m: cannot concatenate a non-NDFrame object"
     ]
    }
   ],
   "source": [
    "s_probabilidad.append([1])"
   ]
  },
  {
   "cell_type": "code",
   "execution_count": 132,
   "metadata": {},
   "outputs": [
    {
     "ename": "AttributeError",
     "evalue": "'Series' object has no attribute 'extend'",
     "output_type": "error",
     "traceback": [
      "\u001b[0;31m---------------------------------------------------------------------------\u001b[0m",
      "\u001b[0;31mAttributeError\u001b[0m                            Traceback (most recent call last)",
      "\u001b[0;32m<ipython-input-132-26d5d7ea0fca>\u001b[0m in \u001b[0;36m<module>\u001b[0;34m()\u001b[0m\n\u001b[0;32m----> 1\u001b[0;31m \u001b[0ms_probabilidad\u001b[0m\u001b[0;34m=\u001b[0m\u001b[0ms_probabilidad\u001b[0m\u001b[0;34m.\u001b[0m\u001b[0mextend\u001b[0m\u001b[0;34m(\u001b[0m\u001b[0;34m-\u001b[0m\u001b[0;36m1\u001b[0m\u001b[0;34m*\u001b[0m\u001b[0mmath\u001b[0m\u001b[0;34m.\u001b[0m\u001b[0mlog\u001b[0m\u001b[0;34m(\u001b[0m\u001b[0me_agrupados\u001b[0m\u001b[0;34m[\u001b[0m\u001b[0melemento\u001b[0m\u001b[0;34m]\u001b[0m\u001b[0;34m/\u001b[0m\u001b[0me_agrupados\u001b[0m\u001b[0;34m.\u001b[0m\u001b[0msum\u001b[0m\u001b[0;34m(\u001b[0m\u001b[0;34m)\u001b[0m\u001b[0;34m,\u001b[0m\u001b[0;36m2\u001b[0m\u001b[0;34m)\u001b[0m\u001b[0;34m)\u001b[0m\u001b[0;34m\u001b[0m\u001b[0m\n\u001b[0m",
      "\u001b[0;32m/Users/Azeem/anaconda/lib/python3.6/site-packages/pandas/core/generic.py\u001b[0m in \u001b[0;36m__getattr__\u001b[0;34m(self, name)\u001b[0m\n\u001b[1;32m   2968\u001b[0m             \u001b[0;32mif\u001b[0m \u001b[0mname\u001b[0m \u001b[0;32min\u001b[0m \u001b[0mself\u001b[0m\u001b[0;34m.\u001b[0m\u001b[0m_info_axis\u001b[0m\u001b[0;34m:\u001b[0m\u001b[0;34m\u001b[0m\u001b[0m\n\u001b[1;32m   2969\u001b[0m                 \u001b[0;32mreturn\u001b[0m \u001b[0mself\u001b[0m\u001b[0;34m[\u001b[0m\u001b[0mname\u001b[0m\u001b[0;34m]\u001b[0m\u001b[0;34m\u001b[0m\u001b[0m\n\u001b[0;32m-> 2970\u001b[0;31m             \u001b[0;32mreturn\u001b[0m \u001b[0mobject\u001b[0m\u001b[0;34m.\u001b[0m\u001b[0m__getattribute__\u001b[0m\u001b[0;34m(\u001b[0m\u001b[0mself\u001b[0m\u001b[0;34m,\u001b[0m \u001b[0mname\u001b[0m\u001b[0;34m)\u001b[0m\u001b[0;34m\u001b[0m\u001b[0m\n\u001b[0m\u001b[1;32m   2971\u001b[0m \u001b[0;34m\u001b[0m\u001b[0m\n\u001b[1;32m   2972\u001b[0m     \u001b[0;32mdef\u001b[0m \u001b[0m__setattr__\u001b[0m\u001b[0;34m(\u001b[0m\u001b[0mself\u001b[0m\u001b[0;34m,\u001b[0m \u001b[0mname\u001b[0m\u001b[0;34m,\u001b[0m \u001b[0mvalue\u001b[0m\u001b[0;34m)\u001b[0m\u001b[0;34m:\u001b[0m\u001b[0;34m\u001b[0m\u001b[0m\n",
      "\u001b[0;31mAttributeError\u001b[0m: 'Series' object has no attribute 'extend'"
     ]
    }
   ],
   "source": [
    "s_probabilidad=[]\n",
    "s_probabilidad=s_probabilidad.extend(-1*math.log(e_agrupados[elemento]/e_agrupados.sum(),2))"
   ]
  },
  {
   "cell_type": "code",
   "execution_count": 136,
   "metadata": {
    "collapsed": true
   },
   "outputs": [],
   "source": [
    "s_probabilidad=None"
   ]
  },
  {
   "cell_type": "code",
   "execution_count": 169,
   "metadata": {},
   "outputs": [],
   "source": [
    "s_probabilidad=None\n",
    "serie=test.Duration\n",
    "s_probabilidad=[]\n",
    "e_agrupados = serie.value_counts()\n",
    "for elemento in e_agrupados:\n",
    "    info=-1*math.log(elemento/e_agrupados.sum(),2)\n",
    "    s_probabilidad.append(info)\n",
    "ps_probabilidad=pd.Series(s_probabilidad)\n",
    "    "
   ]
  },
  {
   "cell_type": "code",
   "execution_count": 170,
   "metadata": {},
   "outputs": [
    {
     "data": {
      "text/plain": [
       "8557.617969493936"
      ]
     },
     "execution_count": 170,
     "metadata": {},
     "output_type": "execute_result"
    }
   ],
   "source": [
    "ps_prababilidad"
   ]
  },
  {
   "cell_type": "code",
   "execution_count": 139,
   "metadata": {},
   "outputs": [
    {
     "data": {
      "text/plain": [
       "0      19017\n",
       "1        587\n",
       "4        539\n",
       "282      240\n",
       "280      216\n",
       "Name: Duration, dtype: int64"
      ]
     },
     "execution_count": 139,
     "metadata": {},
     "output_type": "execute_result"
    }
   ],
   "source": [
    "e_agrupados.head()"
   ]
  },
  {
   "cell_type": "code",
   "execution_count": 141,
   "metadata": {},
   "outputs": [
    {
     "data": {
      "text/plain": [
       "22543"
      ]
     },
     "execution_count": 141,
     "metadata": {},
     "output_type": "execute_result"
    }
   ],
   "source": [
    "e_agrupados.sum()"
   ]
  },
  {
   "cell_type": "code",
   "execution_count": 142,
   "metadata": {},
   "outputs": [
    {
     "data": {
      "text/plain": [
       "0.00456904582353724"
      ]
     },
     "execution_count": 142,
     "metadata": {},
     "output_type": "execute_result"
    }
   ],
   "source": [
    "e_agrupados[2]/e_agrupados.sum()"
   ]
  },
  {
   "cell_type": "code",
   "execution_count": 143,
   "metadata": {},
   "outputs": [
    {
     "data": {
      "text/plain": [
       "103"
      ]
     },
     "execution_count": 143,
     "metadata": {},
     "output_type": "execute_result"
    }
   ],
   "source": [
    "e_agrupados[2]"
   ]
  },
  {
   "cell_type": "code",
   "execution_count": 144,
   "metadata": {},
   "outputs": [
    {
     "data": {
      "text/plain": [
       "0      19017\n",
       "1        587\n",
       "4        539\n",
       "282      240\n",
       "280      216\n",
       "Name: Duration, dtype: int64"
      ]
     },
     "execution_count": 144,
     "metadata": {},
     "output_type": "execute_result"
    }
   ],
   "source": [
    "e_agrupados.head()"
   ]
  },
  {
   "cell_type": "code",
   "execution_count": 152,
   "metadata": {},
   "outputs": [
    {
     "data": {
      "text/plain": [
       "19017"
      ]
     },
     "execution_count": 152,
     "metadata": {},
     "output_type": "execute_result"
    }
   ],
   "source": [
    "e_agrupados.iloc[0]"
   ]
  },
  {
   "cell_type": "code",
   "execution_count": 162,
   "metadata": {},
   "outputs": [
    {
     "data": {
      "text/plain": [
       "0        19017\n",
       "1          587\n",
       "4          539\n",
       "282        240\n",
       "280        216\n",
       "5          146\n",
       "281        145\n",
       "3          120\n",
       "2          103\n",
       "283         85\n",
       "6           35\n",
       "805         30\n",
       "902         26\n",
       "284         21\n",
       "898         16\n",
       "903         16\n",
       "10          15\n",
       "8           15\n",
       "7           15\n",
       "799         14\n",
       "796         14\n",
       "801         14\n",
       "9           12\n",
       "899         12\n",
       "20          12\n",
       "901         11\n",
       "900         11\n",
       "806         10\n",
       "23          10\n",
       "897          9\n",
       "         ...  \n",
       "24           1\n",
       "684          1\n",
       "16500        1\n",
       "72           1\n",
       "136          1\n",
       "7412         1\n",
       "7380         1\n",
       "7364         1\n",
       "8579         1\n",
       "8181         1\n",
       "8233         1\n",
       "8217         1\n",
       "47114        1\n",
       "8201         1\n",
       "2044         1\n",
       "135          1\n",
       "199          1\n",
       "247          1\n",
       "1964         1\n",
       "7348         1\n",
       "8031         1\n",
       "8015         1\n",
       "7999         1\n",
       "7236         1\n",
       "7252         1\n",
       "7268         1\n",
       "7284         1\n",
       "7316         1\n",
       "7332         1\n",
       "4906         1\n",
       "Name: Duration, Length: 624, dtype: int64"
      ]
     },
     "execution_count": 162,
     "metadata": {},
     "output_type": "execute_result"
    }
   ],
   "source": [
    "e_agrupados"
   ]
  },
  {
   "cell_type": "code",
   "execution_count": 163,
   "metadata": {
    "collapsed": true
   },
   "outputs": [],
   "source": [
    "s_probabilidad.append(3)"
   ]
  },
  {
   "cell_type": "code",
   "execution_count": 164,
   "metadata": {},
   "outputs": [
    {
     "data": {
      "text/plain": [
       "[3]"
      ]
     },
     "execution_count": 164,
     "metadata": {},
     "output_type": "execute_result"
    }
   ],
   "source": [
    "s_probabilidad"
   ]
  },
  {
   "cell_type": "code",
   "execution_count": 168,
   "metadata": {},
   "outputs": [
    {
     "ename": "AttributeError",
     "evalue": "'list' object has no attribute 'sum'",
     "output_type": "error",
     "traceback": [
      "\u001b[0;31m---------------------------------------------------------------------------\u001b[0m",
      "\u001b[0;31mAttributeError\u001b[0m                            Traceback (most recent call last)",
      "\u001b[0;32m<ipython-input-168-2517750f94a6>\u001b[0m in \u001b[0;36m<module>\u001b[0;34m()\u001b[0m\n\u001b[0;32m----> 1\u001b[0;31m \u001b[0ms_probabilidad\u001b[0m\u001b[0;34m.\u001b[0m\u001b[0msum\u001b[0m\u001b[0;34m(\u001b[0m\u001b[0;34m)\u001b[0m\u001b[0;34m\u001b[0m\u001b[0m\n\u001b[0m",
      "\u001b[0;31mAttributeError\u001b[0m: 'list' object has no attribute 'sum'"
     ]
    }
   ],
   "source": [
    "s_probabilidad.sum()"
   ]
  },
  {
   "cell_type": "code",
   "execution_count": null,
   "metadata": {
    "collapsed": true
   },
   "outputs": [],
   "source": []
  }
 ],
 "metadata": {
  "kernelspec": {
   "display_name": "Python 3",
   "language": "python",
   "name": "python3"
  },
  "language_info": {
   "codemirror_mode": {
    "name": "ipython",
    "version": 3
   },
   "file_extension": ".py",
   "mimetype": "text/x-python",
   "name": "python",
   "nbconvert_exporter": "python",
   "pygments_lexer": "ipython3",
   "version": "3.6.1"
  }
 },
 "nbformat": 4,
 "nbformat_minor": 2
}
