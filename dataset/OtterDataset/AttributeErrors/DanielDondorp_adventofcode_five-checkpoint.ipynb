{
 "cells": [
  {
   "cell_type": "code",
   "execution_count": 1,
   "id": "4d7f5e69-c26d-464a-a557-6db11991a298",
   "metadata": {},
   "outputs": [],
   "source": [
    "import numpy as np"
   ]
  },
  {
   "cell_type": "code",
   "execution_count": 2,
   "id": "bffdb9be-78fb-4b8a-abf9-df2af55fc0c5",
   "metadata": {},
   "outputs": [],
   "source": [
    "test_input = \"\"\"47|53\n",
    "97|13\n",
    "97|61\n",
    "97|47\n",
    "75|29\n",
    "61|13\n",
    "75|53\n",
    "29|13\n",
    "97|29\n",
    "53|29\n",
    "61|53\n",
    "97|53\n",
    "61|29\n",
    "47|13\n",
    "75|47\n",
    "97|75\n",
    "47|61\n",
    "75|61\n",
    "47|29\n",
    "75|13\n",
    "53|13\n",
    "\n",
    "75,47,61,53,29\n",
    "97,61,53,29,13\n",
    "75,29,13\n",
    "75,97,47,61,53\n",
    "61,13,29\n",
    "97,13,75,29,47\"\"\""
   ]
  },
  {
   "cell_type": "code",
   "execution_count": 48,
   "id": "38cc7fbc-af7a-41a9-b3d7-cd79a0c8b4fe",
   "metadata": {},
   "outputs": [],
   "source": [
    "def parse_rules(rules):\n",
    "    rules = rules.split(\"\\n\")\n",
    "    rules = [[int(x) for x in rule.split(\"|\")] for rule in rules]\n",
    "    rules_before = {}\n",
    "    rules_after = {}\n",
    "    for rule in rules:\n",
    "        print(rule)\n",
    "        if rule[0] not in rules_before.keys():\n",
    "            rules_before[rule[0]] = [rule[1]]\n",
    "        else:\n",
    "            rules_before[rule[0]].append(rule[1])\n",
    "        if rule[1] not in rules_after.keys():\n",
    "            rules_after[rule[1]] = rule[0]\n",
    "        else:\n",
    "            rules_after[rule[1]].append(rule[0])\n",
    "    return rule_dict_before, rule_dict_after\n",
    "\n",
    "def parse_updates(updates):\n",
    "    return [[int(x) for x in update.split(\",\")] for update in updates.split(\"\\n\")]\n",
    "    \n",
    "def parse_input(data):\n",
    "    data = data.split(\"\\n\\n\")\n",
    "    rules = parse_rules(data[0])\n",
    "    updates = parse_updates(data[1])\n",
    "    return rules, updates\n",
    "    \n",
    "    "
   ]
  },
  {
   "cell_type": "code",
   "execution_count": 49,
   "id": "848dc97d-f18a-4894-b092-edd44a176d07",
   "metadata": {},
   "outputs": [
    {
     "ename": "AttributeError",
     "evalue": "'int' object has no attribute 'append'",
     "output_type": "error",
     "traceback": [
      "\u001b[0;31m---------------------------------------------------------------------------\u001b[0m",
      "\u001b[0;31mAttributeError\u001b[0m                            Traceback (most recent call last)",
      "Cell \u001b[0;32mIn[49], line 1\u001b[0m\n\u001b[0;32m----> 1\u001b[0m rules, updates \u001b[38;5;241m=\u001b[39m \u001b[43mparse_input\u001b[49m\u001b[43m(\u001b[49m\u001b[43mtest_input\u001b[49m\u001b[43m)\u001b[49m\n",
      "Cell \u001b[0;32mIn[48], line 22\u001b[0m, in \u001b[0;36mparse_input\u001b[0;34m(data)\u001b[0m\n\u001b[1;32m     20\u001b[0m \u001b[38;5;28;01mdef\u001b[39;00m \u001b[38;5;21mparse_input\u001b[39m(data):\n\u001b[1;32m     21\u001b[0m     data \u001b[38;5;241m=\u001b[39m data\u001b[38;5;241m.\u001b[39msplit(\u001b[38;5;124m\"\u001b[39m\u001b[38;5;130;01m\\n\u001b[39;00m\u001b[38;5;130;01m\\n\u001b[39;00m\u001b[38;5;124m\"\u001b[39m)\n\u001b[0;32m---> 22\u001b[0m     rules \u001b[38;5;241m=\u001b[39m \u001b[43mparse_rules\u001b[49m\u001b[43m(\u001b[49m\u001b[43mdata\u001b[49m\u001b[43m[\u001b[49m\u001b[38;5;241;43m0\u001b[39;49m\u001b[43m]\u001b[49m\u001b[43m)\u001b[49m\n\u001b[1;32m     23\u001b[0m     updates \u001b[38;5;241m=\u001b[39m parse_updates(data[\u001b[38;5;241m1\u001b[39m])\n\u001b[1;32m     24\u001b[0m     \u001b[38;5;28;01mreturn\u001b[39;00m rules, updates\n",
      "Cell \u001b[0;32mIn[48], line 14\u001b[0m, in \u001b[0;36mparse_rules\u001b[0;34m(rules)\u001b[0m\n\u001b[1;32m     12\u001b[0m         rules_after[rule[\u001b[38;5;241m1\u001b[39m]] \u001b[38;5;241m=\u001b[39m rule[\u001b[38;5;241m0\u001b[39m]\n\u001b[1;32m     13\u001b[0m     \u001b[38;5;28;01melse\u001b[39;00m:\n\u001b[0;32m---> 14\u001b[0m         \u001b[43mrules_after\u001b[49m\u001b[43m[\u001b[49m\u001b[43mrule\u001b[49m\u001b[43m[\u001b[49m\u001b[38;5;241;43m1\u001b[39;49m\u001b[43m]\u001b[49m\u001b[43m]\u001b[49m\u001b[38;5;241;43m.\u001b[39;49m\u001b[43mappend\u001b[49m(rule[\u001b[38;5;241m0\u001b[39m])\n\u001b[1;32m     15\u001b[0m \u001b[38;5;28;01mreturn\u001b[39;00m rule_dict_before, rule_dict_after\n",
      "\u001b[0;31mAttributeError\u001b[0m: 'int' object has no attribute 'append'"
     ]
    }
   ],
   "source": [
    "rules, updates = parse_input(test_input)"
   ]
  },
  {
   "cell_type": "code",
   "execution_count": 39,
   "id": "ddc45b22-4ec2-4a37-9977-720b2fa20191",
   "metadata": {},
   "outputs": [
    {
     "data": {
      "text/plain": [
       "{47: [53, 13, 61, 29],\n",
       " 97: [13, 61, 47, 29, 53, 75],\n",
       " 75: [29, 53, 47, 61, 13],\n",
       " 61: [13, 53, 29],\n",
       " 29: [13],\n",
       " 53: [29, 13]}"
      ]
     },
     "execution_count": 39,
     "metadata": {},
     "output_type": "execute_result"
    }
   ],
   "source": [
    "rules"
   ]
  },
  {
   "cell_type": "code",
   "execution_count": 40,
   "id": "df750e0f-7747-4bab-a671-531ebd5b4fe2",
   "metadata": {},
   "outputs": [
    {
     "data": {
      "text/plain": [
       "[[75, 47, 61, 53, 29],\n",
       " [97, 61, 53, 29, 13],\n",
       " [75, 29, 13],\n",
       " [75, 97, 47, 61, 53],\n",
       " [61, 13, 29],\n",
       " [97, 13, 75, 29, 47]]"
      ]
     },
     "execution_count": 40,
     "metadata": {},
     "output_type": "execute_result"
    }
   ],
   "source": [
    "updates"
   ]
  },
  {
   "cell_type": "code",
   "execution_count": null,
   "id": "e1b4d741-36d1-45a9-8fdd-9d4d44caf39f",
   "metadata": {},
   "outputs": [],
   "source": []
  }
 ],
 "metadata": {
  "kernelspec": {
   "display_name": "Python 3 (ipykernel)",
   "language": "python",
   "name": "python3"
  },
  "language_info": {
   "codemirror_mode": {
    "name": "ipython",
    "version": 3
   },
   "file_extension": ".py",
   "mimetype": "text/x-python",
   "name": "python",
   "nbconvert_exporter": "python",
   "pygments_lexer": "ipython3",
   "version": "3.10.12"
  }
 },
 "nbformat": 4,
 "nbformat_minor": 5
}
