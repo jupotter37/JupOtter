{
 "cells": [
  {
   "cell_type": "markdown",
   "metadata": {},
   "source": [
    "## DFO Nutrient Comparison"
   ]
  },
  {
   "cell_type": "code",
   "execution_count": 1,
   "metadata": {
    "collapsed": false
   },
   "outputs": [],
   "source": [
    "import sqlalchemy\n",
    "from sqlalchemy import (create_engine, Column, String, Integer, Float, MetaData, \n",
    "                        Table, type_coerce, ForeignKey, case)\n",
    "from sqlalchemy.orm import mapper, create_session, relationship, aliased, Session\n",
    "from sqlalchemy.ext.declarative import declarative_base\n",
    "from sqlalchemy import case\n",
    "import numpy as np\n",
    "from sqlalchemy.ext.automap import automap_base\n",
    "import matplotlib.pyplot as plt\n",
    "import sqlalchemy.types as types\n",
    "from sqlalchemy.sql import and_, or_, not_, func\n",
    "from sqlalchemy.sql import select\n",
    "import os\n",
    "from os.path import isfile\n",
    "import pandas as pd\n",
    "import netCDF4 as nc\n",
    "import datetime as dt\n",
    "from salishsea_tools import evaltools as et, viz_tools\n",
    "import datetime\n",
    "import glob\n",
    "import gsw\n",
    "\n",
    "%matplotlib inline"
   ]
  },
  {
   "cell_type": "code",
   "execution_count": 6,
   "metadata": {
    "collapsed": false
   },
   "outputs": [
    {
     "data": {
      "text/html": [
       "<div>\n",
       "<style>\n",
       "    .dataframe thead tr:only-child th {\n",
       "        text-align: right;\n",
       "    }\n",
       "\n",
       "    .dataframe thead th {\n",
       "        text-align: left;\n",
       "    }\n",
       "\n",
       "    .dataframe tbody tr th {\n",
       "        vertical-align: top;\n",
       "    }\n",
       "</style>\n",
       "<table border=\"1\" class=\"dataframe\">\n",
       "  <thead>\n",
       "    <tr style=\"text-align: right;\">\n",
       "      <th></th>\n",
       "      <th>Year</th>\n",
       "      <th>Month</th>\n",
       "      <th>Day</th>\n",
       "      <th>Hour</th>\n",
       "      <th>Lat</th>\n",
       "      <th>Lon</th>\n",
       "      <th>Pressure</th>\n",
       "      <th>Depth</th>\n",
       "      <th>Ammonium</th>\n",
       "      <th>Ammonium_units</th>\n",
       "      <th>Chlorophyll_Extracted</th>\n",
       "      <th>Chlorophyll_Extracted_units</th>\n",
       "      <th>N</th>\n",
       "      <th>Si</th>\n",
       "      <th>Silicate_units</th>\n",
       "      <th>AbsSal</th>\n",
       "      <th>T</th>\n",
       "      <th>T_units</th>\n",
       "      <th>Z</th>\n",
       "      <th>dtUTC</th>\n",
       "    </tr>\n",
       "  </thead>\n",
       "  <tbody>\n",
       "    <tr>\n",
       "      <th>0</th>\n",
       "      <td>2015.0</td>\n",
       "      <td>2.0</td>\n",
       "      <td>11.0</td>\n",
       "      <td>11.068611</td>\n",
       "      <td>48.300833</td>\n",
       "      <td>-124.000333</td>\n",
       "      <td>1.9</td>\n",
       "      <td>None</td>\n",
       "      <td>None</td>\n",
       "      <td>None</td>\n",
       "      <td>NaN</td>\n",
       "      <td>mg/m^3</td>\n",
       "      <td>15.31</td>\n",
       "      <td>32.14</td>\n",
       "      <td>umol/L</td>\n",
       "      <td>29.227507</td>\n",
       "      <td>9.7647</td>\n",
       "      <td>'deg_C_(ITS90)'</td>\n",
       "      <td>1.884</td>\n",
       "      <td>2015-02-11 11:04:07</td>\n",
       "    </tr>\n",
       "    <tr>\n",
       "      <th>1</th>\n",
       "      <td>2015.0</td>\n",
       "      <td>2.0</td>\n",
       "      <td>11.0</td>\n",
       "      <td>11.068611</td>\n",
       "      <td>48.300833</td>\n",
       "      <td>-124.000333</td>\n",
       "      <td>6.6</td>\n",
       "      <td>None</td>\n",
       "      <td>None</td>\n",
       "      <td>None</td>\n",
       "      <td>2.57</td>\n",
       "      <td>mg/m^3</td>\n",
       "      <td>17.13</td>\n",
       "      <td>33.90</td>\n",
       "      <td>umol/L</td>\n",
       "      <td>29.484341</td>\n",
       "      <td>9.6880</td>\n",
       "      <td>'deg_C_(ITS90)'</td>\n",
       "      <td>6.54434</td>\n",
       "      <td>2015-02-11 11:04:07</td>\n",
       "    </tr>\n",
       "    <tr>\n",
       "      <th>2</th>\n",
       "      <td>2015.0</td>\n",
       "      <td>2.0</td>\n",
       "      <td>11.0</td>\n",
       "      <td>11.068611</td>\n",
       "      <td>48.300833</td>\n",
       "      <td>-124.000333</td>\n",
       "      <td>6.7</td>\n",
       "      <td>None</td>\n",
       "      <td>None</td>\n",
       "      <td>None</td>\n",
       "      <td>NaN</td>\n",
       "      <td>mg/m^3</td>\n",
       "      <td>NaN</td>\n",
       "      <td>NaN</td>\n",
       "      <td>umol/L</td>\n",
       "      <td>29.484839</td>\n",
       "      <td>9.6828</td>\n",
       "      <td>'deg_C_(ITS90)'</td>\n",
       "      <td>6.6435</td>\n",
       "      <td>2015-02-11 11:04:07</td>\n",
       "    </tr>\n",
       "    <tr>\n",
       "      <th>3</th>\n",
       "      <td>2015.0</td>\n",
       "      <td>2.0</td>\n",
       "      <td>11.0</td>\n",
       "      <td>11.068611</td>\n",
       "      <td>48.300833</td>\n",
       "      <td>-124.000333</td>\n",
       "      <td>11.0</td>\n",
       "      <td>None</td>\n",
       "      <td>None</td>\n",
       "      <td>None</td>\n",
       "      <td>NaN</td>\n",
       "      <td>mg/m^3</td>\n",
       "      <td>NaN</td>\n",
       "      <td>NaN</td>\n",
       "      <td>umol/L</td>\n",
       "      <td>30.144549</td>\n",
       "      <td>9.3646</td>\n",
       "      <td>'deg_C_(ITS90)'</td>\n",
       "      <td>10.9071</td>\n",
       "      <td>2015-02-11 11:04:07</td>\n",
       "    </tr>\n",
       "    <tr>\n",
       "      <th>4</th>\n",
       "      <td>2015.0</td>\n",
       "      <td>2.0</td>\n",
       "      <td>11.0</td>\n",
       "      <td>11.068611</td>\n",
       "      <td>48.300833</td>\n",
       "      <td>-124.000333</td>\n",
       "      <td>11.0</td>\n",
       "      <td>None</td>\n",
       "      <td>None</td>\n",
       "      <td>None</td>\n",
       "      <td>NaN</td>\n",
       "      <td>mg/m^3</td>\n",
       "      <td>20.62</td>\n",
       "      <td>37.65</td>\n",
       "      <td>umol/L</td>\n",
       "      <td>30.157913</td>\n",
       "      <td>9.3586</td>\n",
       "      <td>'deg_C_(ITS90)'</td>\n",
       "      <td>10.9071</td>\n",
       "      <td>2015-02-11 11:04:07</td>\n",
       "    </tr>\n",
       "  </tbody>\n",
       "</table>\n",
       "</div>"
      ],
      "text/plain": [
       "     Year  Month   Day       Hour        Lat         Lon  Pressure Depth  \\\n",
       "0  2015.0    2.0  11.0  11.068611  48.300833 -124.000333       1.9  None   \n",
       "1  2015.0    2.0  11.0  11.068611  48.300833 -124.000333       6.6  None   \n",
       "2  2015.0    2.0  11.0  11.068611  48.300833 -124.000333       6.7  None   \n",
       "3  2015.0    2.0  11.0  11.068611  48.300833 -124.000333      11.0  None   \n",
       "4  2015.0    2.0  11.0  11.068611  48.300833 -124.000333      11.0  None   \n",
       "\n",
       "  Ammonium Ammonium_units  Chlorophyll_Extracted Chlorophyll_Extracted_units  \\\n",
       "0     None           None                    NaN                      mg/m^3   \n",
       "1     None           None                   2.57                      mg/m^3   \n",
       "2     None           None                    NaN                      mg/m^3   \n",
       "3     None           None                    NaN                      mg/m^3   \n",
       "4     None           None                    NaN                      mg/m^3   \n",
       "\n",
       "       N     Si Silicate_units     AbsSal       T          T_units        Z  \\\n",
       "0  15.31  32.14         umol/L  29.227507  9.7647  'deg_C_(ITS90)'    1.884   \n",
       "1  17.13  33.90         umol/L  29.484341  9.6880  'deg_C_(ITS90)'  6.54434   \n",
       "2    NaN    NaN         umol/L  29.484839  9.6828  'deg_C_(ITS90)'   6.6435   \n",
       "3    NaN    NaN         umol/L  30.144549  9.3646  'deg_C_(ITS90)'  10.9071   \n",
       "4  20.62  37.65         umol/L  30.157913  9.3586  'deg_C_(ITS90)'  10.9071   \n",
       "\n",
       "                dtUTC  \n",
       "0 2015-02-11 11:04:07  \n",
       "1 2015-02-11 11:04:07  \n",
       "2 2015-02-11 11:04:07  \n",
       "3 2015-02-11 11:04:07  \n",
       "4 2015-02-11 11:04:07  "
      ]
     },
     "execution_count": 6,
     "metadata": {},
     "output_type": "execute_result"
    }
   ],
   "source": [
    "PATH= '/data/eolson/MEOPAR/SS36runs/CedarRuns/spring2015_T3/'\n",
    "start_date = datetime.datetime(2015,2,6)\n",
    "#end_date = datetime.datetime(2015,10,4)\n",
    "end_date = datetime.datetime(2015,11,12)\n",
    "flen=10\n",
    "varmap={'N':'nitrate','Si':'silicon','Ammonium':'ammonium'}\n",
    "filemap={'nitrate':'ptrc_T','silicon':'ptrc_T','ammonium':'ptrc_T'}\n",
    "gridmap={'nitrate':'tmask','silicon':'tmask','ammonium':'tmask'}\n",
    "fdict={'ptrc_T':1,'grid_T':1}\n",
    "\n",
    "df1=et.loadDFO()\n",
    "df1.head()"
   ]
  },
  {
   "cell_type": "code",
   "execution_count": 7,
   "metadata": {
    "collapsed": false
   },
   "outputs": [
    {
     "ename": "AttributeError",
     "evalue": "'dict' object has no attribute 'view'",
     "output_type": "error",
     "traceback": [
      "\u001b[0;31m---------------------------------------------------------------------------\u001b[0m",
      "\u001b[0;31mAttributeError\u001b[0m                            Traceback (most recent call last)",
      "\u001b[0;32m<ipython-input-7-3d9c623e9b0c>\u001b[0m in \u001b[0;36m<module>\u001b[0;34m()\u001b[0m\n\u001b[0;32m----> 1\u001b[0;31m \u001b[0mdata\u001b[0m\u001b[0;34m,\u001b[0m\u001b[0mvarmap\u001b[0m\u001b[0;34m=\u001b[0m\u001b[0met\u001b[0m\u001b[0;34m.\u001b[0m\u001b[0mmatchData\u001b[0m\u001b[0;34m(\u001b[0m\u001b[0mdf1\u001b[0m\u001b[0;34m,\u001b[0m \u001b[0mvarmap\u001b[0m\u001b[0;34m,\u001b[0m \u001b[0mfilemap\u001b[0m\u001b[0;34m,\u001b[0m \u001b[0mfdict\u001b[0m\u001b[0;34m,\u001b[0m \u001b[0mstart_date\u001b[0m\u001b[0;34m,\u001b[0m \u001b[0mend_date\u001b[0m\u001b[0;34m,\u001b[0m \u001b[0;34m'long'\u001b[0m\u001b[0;34m,\u001b[0m \u001b[0mPATH\u001b[0m\u001b[0;34m,\u001b[0m \u001b[0mflen\u001b[0m\u001b[0;34m)\u001b[0m\u001b[0;34m\u001b[0m\u001b[0m\n\u001b[0m",
      "\u001b[0;32m/data/eolson/MEOPAR/tools/SalishSeaTools/salishsea_tools/evaltools.py\u001b[0m in \u001b[0;36mmatchData\u001b[0;34m(data, filemap, fdict, mod_start, mod_end, mod_nam_fmt, mod_basedir, mod_flen, method, deltat, deltad, meshPath, maskName)\u001b[0m\n\u001b[1;32m    117\u001b[0m \u001b[0;34m\u001b[0m\u001b[0m\n\u001b[1;32m    118\u001b[0m     \u001b[0;31m# adjustments to data dataframe\u001b[0m\u001b[0;34m\u001b[0m\u001b[0;34m\u001b[0m\u001b[0m\n\u001b[0;32m--> 119\u001b[0;31m     \u001b[0mdata\u001b[0m\u001b[0;34m=\u001b[0m\u001b[0mdata\u001b[0m\u001b[0;34m.\u001b[0m\u001b[0mloc\u001b[0m\u001b[0;34m[\u001b[0m\u001b[0;34m(\u001b[0m\u001b[0mdata\u001b[0m\u001b[0;34m.\u001b[0m\u001b[0mdtUTC\u001b[0m\u001b[0;34m>=\u001b[0m\u001b[0mmod_start\u001b[0m\u001b[0;34m)\u001b[0m\u001b[0;34m&\u001b[0m\u001b[0;34m(\u001b[0m\u001b[0mdata\u001b[0m\u001b[0;34m.\u001b[0m\u001b[0mdtUTC\u001b[0m\u001b[0;34m<\u001b[0m\u001b[0mmod_end\u001b[0m\u001b[0;34m)\u001b[0m\u001b[0;34m]\u001b[0m\u001b[0;34m.\u001b[0m\u001b[0mcopy\u001b[0m\u001b[0;34m(\u001b[0m\u001b[0mdeep\u001b[0m\u001b[0;34m=\u001b[0m\u001b[0;32mTrue\u001b[0m\u001b[0;34m)\u001b[0m\u001b[0;34m\u001b[0m\u001b[0m\n\u001b[0m\u001b[1;32m    120\u001b[0m     \u001b[0mdata\u001b[0m\u001b[0;34m=\u001b[0m\u001b[0mdata\u001b[0m\u001b[0;34m.\u001b[0m\u001b[0mdropna\u001b[0m\u001b[0;34m(\u001b[0m\u001b[0mhow\u001b[0m\u001b[0;34m=\u001b[0m\u001b[0;34m'any'\u001b[0m\u001b[0;34m,\u001b[0m\u001b[0msubset\u001b[0m\u001b[0;34m=\u001b[0m\u001b[0;34m[\u001b[0m\u001b[0;34m'dtUTC'\u001b[0m\u001b[0;34m,\u001b[0m\u001b[0;34m'Lat'\u001b[0m\u001b[0;34m,\u001b[0m\u001b[0;34m'Lon'\u001b[0m\u001b[0;34m,\u001b[0m\u001b[0;34m'Z'\u001b[0m\u001b[0;34m]\u001b[0m\u001b[0;34m)\u001b[0m \u001b[0;31m#.dropna(how='all',subset=[*varmap.keys()])\u001b[0m\u001b[0;34m\u001b[0m\u001b[0m\n\u001b[1;32m    121\u001b[0m     \u001b[0mdata\u001b[0m\u001b[0;34m[\u001b[0m\u001b[0;34m'j'\u001b[0m\u001b[0;34m]\u001b[0m\u001b[0;34m=\u001b[0m\u001b[0mnp\u001b[0m\u001b[0;34m.\u001b[0m\u001b[0mzeros\u001b[0m\u001b[0;34m(\u001b[0m\u001b[0;34m(\u001b[0m\u001b[0mlen\u001b[0m\u001b[0;34m(\u001b[0m\u001b[0mdata\u001b[0m\u001b[0;34m)\u001b[0m\u001b[0;34m)\u001b[0m\u001b[0;34m)\u001b[0m\u001b[0;34m.\u001b[0m\u001b[0mastype\u001b[0m\u001b[0;34m(\u001b[0m\u001b[0mint\u001b[0m\u001b[0;34m)\u001b[0m\u001b[0;34m\u001b[0m\u001b[0m\n",
      "\u001b[0;32m~/anaconda3/envs/python36/lib/python3.6/site-packages/pandas/core/ops.py\u001b[0m in \u001b[0;36mwrapper\u001b[0;34m(self, other, axis)\u001b[0m\n\u001b[1;32m    859\u001b[0m \u001b[0;34m\u001b[0m\u001b[0m\n\u001b[1;32m    860\u001b[0m             \u001b[0;32mwith\u001b[0m \u001b[0mnp\u001b[0m\u001b[0;34m.\u001b[0m\u001b[0merrstate\u001b[0m\u001b[0;34m(\u001b[0m\u001b[0mall\u001b[0m\u001b[0;34m=\u001b[0m\u001b[0;34m'ignore'\u001b[0m\u001b[0;34m)\u001b[0m\u001b[0;34m:\u001b[0m\u001b[0;34m\u001b[0m\u001b[0m\n\u001b[0;32m--> 861\u001b[0;31m                 \u001b[0mres\u001b[0m \u001b[0;34m=\u001b[0m \u001b[0mna_op\u001b[0m\u001b[0;34m(\u001b[0m\u001b[0mvalues\u001b[0m\u001b[0;34m,\u001b[0m \u001b[0mother\u001b[0m\u001b[0;34m)\u001b[0m\u001b[0;34m\u001b[0m\u001b[0m\n\u001b[0m\u001b[1;32m    862\u001b[0m             \u001b[0;32mif\u001b[0m \u001b[0mis_scalar\u001b[0m\u001b[0;34m(\u001b[0m\u001b[0mres\u001b[0m\u001b[0;34m)\u001b[0m\u001b[0;34m:\u001b[0m\u001b[0;34m\u001b[0m\u001b[0m\n\u001b[1;32m    863\u001b[0m                 raise TypeError('Could not compare %s type with Series' %\n",
      "\u001b[0;32m~/anaconda3/envs/python36/lib/python3.6/site-packages/pandas/core/ops.py\u001b[0m in \u001b[0;36mna_op\u001b[0;34m(x, y)\u001b[0m\n\u001b[1;32m    791\u001b[0m                 \u001b[0;32melse\u001b[0m\u001b[0;34m:\u001b[0m\u001b[0;34m\u001b[0m\u001b[0m\n\u001b[1;32m    792\u001b[0m                     \u001b[0mmask\u001b[0m \u001b[0;34m=\u001b[0m \u001b[0misnull\u001b[0m\u001b[0;34m(\u001b[0m\u001b[0mx\u001b[0m\u001b[0;34m)\u001b[0m \u001b[0;34m|\u001b[0m \u001b[0misnull\u001b[0m\u001b[0;34m(\u001b[0m\u001b[0my\u001b[0m\u001b[0;34m)\u001b[0m\u001b[0;34m\u001b[0m\u001b[0m\n\u001b[0;32m--> 793\u001b[0;31m                     \u001b[0my\u001b[0m \u001b[0;34m=\u001b[0m \u001b[0my\u001b[0m\u001b[0;34m.\u001b[0m\u001b[0mview\u001b[0m\u001b[0;34m(\u001b[0m\u001b[0;34m'i8'\u001b[0m\u001b[0;34m)\u001b[0m\u001b[0;34m\u001b[0m\u001b[0m\n\u001b[0m\u001b[1;32m    794\u001b[0m                 \u001b[0mx\u001b[0m \u001b[0;34m=\u001b[0m \u001b[0mx\u001b[0m\u001b[0;34m.\u001b[0m\u001b[0mview\u001b[0m\u001b[0;34m(\u001b[0m\u001b[0;34m'i8'\u001b[0m\u001b[0;34m)\u001b[0m\u001b[0;34m\u001b[0m\u001b[0m\n\u001b[1;32m    795\u001b[0m \u001b[0;34m\u001b[0m\u001b[0m\n",
      "\u001b[0;31mAttributeError\u001b[0m: 'dict' object has no attribute 'view'"
     ]
    }
   ],
   "source": [
    "data,varmap=et.matchData(df1, varmap, filemap, fdict, start_date, end_date, 'long', PATH, flen)"
   ]
  },
  {
   "cell_type": "code",
   "execution_count": null,
   "metadata": {
    "collapsed": false
   },
   "outputs": [],
   "source": [
    "fig, ax = plt.subplots(figsize = (10,10))\n",
    "viz_tools.set_aspect(ax, coords = 'map')\n",
    "ax.plot(data['Lon'], data['Lat'], 'ro',label='data')\n",
    "ax.plot(data.loc[(data.Lon < -123.5) & (data.Lat < 48.6),['Lon']], \n",
    "        data.loc[(data.Lon < -123.5) & (data.Lat < 48.6),['Lat']], \n",
    "        'bo', label = 'Juan de Fuca')\n",
    "grid = nc.Dataset('/data/vdo/MEOPAR/NEMO-forcing/grid/bathymetry_201702.nc')\n",
    "viz_tools.plot_coastline(ax, grid, coords = 'map')\n",
    "ax.set_ylim(48, 50.5)\n",
    "ax.legend()\n",
    "ax.set_xlim(-125.7, -122.5);"
   ]
  },
  {
   "cell_type": "code",
   "execution_count": null,
   "metadata": {
    "collapsed": false
   },
   "outputs": [],
   "source": [
    "list_of_cs_ni=data['N']\n",
    "list_of_model_ni=data['mod_nitrate']\n",
    "list_of_depths=data['Z']\n",
    "list_of_lons=data['Lon']\n",
    "list_of_lats=data['Lat']\n",
    "list_of_datetimes=data['dtUTC']\n",
    "list_of_cs_si=data['Si']\n",
    "list_of_model_si=data['mod_silicon']"
   ]
  },
  {
   "cell_type": "code",
   "execution_count": null,
   "metadata": {
    "collapsed": true
   },
   "outputs": [],
   "source": [
    "iii=np.logical_and(~np.isnan(list_of_cs_ni),~np.isnan(list_of_model_ni))\n",
    "test=list_of_cs_ni[iii]\n",
    "test2=list_of_model_ni[iii]\n"
   ]
  },
  {
   "cell_type": "code",
   "execution_count": null,
   "metadata": {
    "collapsed": false
   },
   "outputs": [],
   "source": [
    "fig, ax = plt.subplots(figsize = (8,8))\n",
    "ax.plot(list_of_cs_ni[list_of_depths < 15], list_of_model_ni[list_of_depths < 15], \n",
    "        '.', color = 'Crimson', alpha = 0.5, label = 'surface')\n",
    "ax.plot(list_of_cs_ni[(22 > list_of_depths) & (list_of_depths >= 15)], \n",
    "        list_of_model_ni[(22 > list_of_depths) & (list_of_depths >= 15)], \n",
    "        '.', color = 'DarkOrange', alpha = 0.5, label = 'intermediate')\n",
    "ax.plot(list_of_cs_ni[list_of_depths >= 22], list_of_model_ni[list_of_depths >= 22], \n",
    "        '.', color = 'darkblue', alpha = 0.5, label = 'deep')\n",
    "\n",
    "ax.plot(list_of_cs_ni[(list_of_depths < 15) & (list_of_lons < -123.5) & (list_of_lats < 48.6)], \n",
    "        list_of_model_ni[(list_of_depths < 15) & (list_of_lons < -123.5) \n",
    "                         & (list_of_lats < 48.6)], \n",
    "        '.', color = 'ForestGreen', alpha = 0.5, label = ' Juan de Fuca surface')\n",
    "ax.plot(list_of_cs_ni[(22 > list_of_depths) & (list_of_depths >= 15) \n",
    "                      & (list_of_lons < -123.5) & (list_of_lats < 48.6)], \n",
    "        list_of_model_ni[(22 > list_of_depths) & (list_of_depths >= 15) \n",
    "                         & (list_of_lons < -123.5) & (list_of_lats < 48.6)], \n",
    "        '.', color = 'CornflowerBlue', alpha = 0.5, label = ' Juan de Fuca intermediate')\n",
    "ax.plot(list_of_cs_ni[(list_of_depths >= 22) & (list_of_lons < -123.5) & (list_of_lats < 48.6)], \n",
    "        list_of_model_ni[(list_of_depths >= 22) & (list_of_lons < -123.5) \n",
    "                         & (list_of_lats < 48.6)], \n",
    "        '.', color = 'DarkOrchid', alpha = 0.5, label = ' Juan de Fuca deep')\n",
    "\n",
    "ax.plot(np.arange(0,35), color = 'grey')\n",
    "ax.grid('on')\n",
    "ax.set_title('DFO Nitrate')\n",
    "ax.set_xlabel('DFO')\n",
    "ax.set_ylabel('Nowcast-green');\n",
    "ax.legend(loc=4)\n",
    "\n",
    "N_s, modmean_s, obsmean_s, bias_s, RMSE_s, WSS_s = et.stats(data.loc[data.Z<15,['N']],data.loc[data.Z<15,['mod_nitrate']])\n",
    "print('N_s:', N_s,'modmean_s:',modmean_s, 'obsmean_s:',obsmean_s, 'bias_s\"',bias_s, 'RMSE_s:',RMSE_s, 'WSS_s:', WSS_s)\n",
    "print('surface bias =  ' + str(-np.mean(list_of_cs_ni[list_of_depths < 15]) \n",
    "                               + np.mean(list_of_model_ni[list_of_depths < 15])))\n",
    "print('surface RMSE = ' + str(np.sqrt(np.sum((list_of_model_ni[list_of_depths < 15] \n",
    "                                              - list_of_cs_ni[list_of_depths < 15])**2) /\n",
    "                              len(list_of_cs_ni[list_of_depths < 15]))))\n",
    "xbar = np.mean(list_of_cs_ni[list_of_depths < 15])\n",
    "print('surface Willmott = ' + str(1-(np.sum((list_of_model_ni[list_of_depths < 15] \n",
    "                                             - list_of_cs_ni[list_of_depths < 15])**2)  / \n",
    "                             np.sum((np.abs(list_of_model_ni[list_of_depths < 15] - xbar) \n",
    "                                     + np.abs(list_of_cs_ni[list_of_depths < 15] - xbar))**2))))\n",
    "\n",
    "print('intermediate bias =  ' + str(-np.mean(list_of_cs_ni[(22 > list_of_depths) \n",
    "                                                           & (list_of_depths >= 15)]) \n",
    "                               + np.mean(list_of_model_ni[(22 > list_of_depths) \n",
    "                                                          & (list_of_depths >= 15)])))\n",
    "print('intermediate RMSE = ' + str(np.sqrt(np.sum((list_of_model_ni[(22 > list_of_depths) \n",
    "                                                                    & (list_of_depths >= 15)] \n",
    "                                              - list_of_cs_ni[(22 > list_of_depths) \n",
    "                                                              & (list_of_depths >= 15)])**2) /\n",
    "                              len(list_of_cs_ni[(22 > list_of_depths) & (list_of_depths >= 15)]))))\n",
    "xbar = np.mean(list_of_cs_ni[(22 > list_of_depths) & (list_of_depths >= 15)])\n",
    "print('intermediate Willmott = ' + str(1-(np.sum((list_of_model_ni[(22 > list_of_depths) \n",
    "                                                                   & (list_of_depths >= 15)] \n",
    "                                             - list_of_cs_ni[(22 > list_of_depths) \n",
    "                                                             & (list_of_depths >= 15)])**2)  / \n",
    "                             np.sum((np.abs(list_of_model_ni[(22 > list_of_depths) \n",
    "                                                             & (list_of_depths >= 15)] - xbar) \n",
    "                                     + np.abs(list_of_cs_ni[(22 > list_of_depths) \n",
    "                                                            & (list_of_depths >= 15)] - xbar))**2))))\n",
    "\n",
    "print('deep bias =  ' + str(-np.mean(list_of_cs_ni[list_of_depths >= 22]) \n",
    "                               + np.mean(list_of_model_ni[list_of_depths >= 22])))\n",
    "print('deep RMSE = ' + str(np.sqrt(np.sum((list_of_model_ni[list_of_depths >= 22] \n",
    "                                              - list_of_cs_ni[list_of_depths >= 22])**2) /\n",
    "                              len(list_of_cs_ni[list_of_depths >= 22]))))\n",
    "xbar = np.mean(list_of_cs_ni[list_of_depths >= 22])\n",
    "print('deep Willmott = ' + str(1-(np.sum((list_of_model_ni[list_of_depths >= 22] \n",
    "                                             - list_of_cs_ni[list_of_depths >= 22])**2)  / \n",
    "                             np.sum((np.abs(list_of_model_ni[list_of_depths >= 22] - xbar) \n",
    "                                     + np.abs(list_of_cs_ni[list_of_depths >= 22] - xbar))**2))))\n",
    "\n",
    "print('bias =  ' + str(-np.mean(list_of_cs_ni) + np.mean(list_of_model_ni)))\n",
    "print('RMSE = ' + str(np.sqrt(np.sum((list_of_model_ni - list_of_cs_ni)**2) /\n",
    "                              len(list_of_cs_ni))))\n",
    "xbar = np.mean(list_of_cs_ni)\n",
    "print('Willmott = ' + str(1-(np.sum((list_of_model_ni - list_of_cs_ni)**2)  / \n",
    "                             np.sum((np.abs(list_of_model_ni - xbar) \n",
    "                                     + np.abs(list_of_cs_ni - xbar))**2))))"
   ]
  },
  {
   "cell_type": "code",
   "execution_count": null,
   "metadata": {
    "collapsed": false
   },
   "outputs": [],
   "source": [
    "fig, ax = plt.subplots(figsize = (8,8))\n",
    "ps,ls=et.varvarPlot(ax,data,'N','mod_nitrate')"
   ]
  },
  {
   "cell_type": "code",
   "execution_count": null,
   "metadata": {
    "collapsed": false
   },
   "outputs": [],
   "source": [
    "fig, ax = plt.subplots(figsize = (8,8))\n",
    "ps,ls=et2.varvarPlot(ax,data,'N','mod_nitrate','Z',(15,22),'z','m',('mediumseagreen','skyblue','darkslateblue'))\n",
    "ls"
   ]
  },
  {
   "cell_type": "code",
   "execution_count": null,
   "metadata": {
    "collapsed": false
   },
   "outputs": [],
   "source": [
    "ps"
   ]
  },
  {
   "cell_type": "code",
   "execution_count": null,
   "metadata": {
    "collapsed": false
   },
   "outputs": [],
   "source": [
    "ii=23\n",
    "print(ii,listtemp[ii*10:(ii+1)*10])"
   ]
  },
  {
   "cell_type": "code",
   "execution_count": null,
   "metadata": {
    "collapsed": false
   },
   "outputs": [],
   "source": [
    "data.loc[data.N==23.84]"
   ]
  },
  {
   "cell_type": "code",
   "execution_count": null,
   "metadata": {
    "collapsed": false
   },
   "outputs": [],
   "source": [
    "with nc.Dataset('/ocean/eolson/MEOPAR/NEMO-forcing/grid/mesh_mask201702_noLPE.nc') as f:\n",
    "    dep=np.copy(f.variables['gdept_1d'])\n",
    "    tmask=np.copy(f.variables['tmask'])\n",
    "    lon=np.copy(f.variables['nav_lon'])\n",
    "    lat=np.copy(f.variables['nav_lat'])"
   ]
  },
  {
   "cell_type": "code",
   "execution_count": null,
   "metadata": {
    "collapsed": false
   },
   "outputs": [],
   "source": [
    "tmask[0,:,344,292]"
   ]
  },
  {
   "cell_type": "code",
   "execution_count": null,
   "metadata": {
    "collapsed": false
   },
   "outputs": [],
   "source": [
    "for ii in range(0,40):\n",
    "    print(ii,dep[0,ii],tmask[0,ii,344,292])"
   ]
  },
  {
   "cell_type": "code",
   "execution_count": null,
   "metadata": {
    "collapsed": true
   },
   "outputs": [],
   "source": []
  },
  {
   "cell_type": "code",
   "execution_count": null,
   "metadata": {
    "collapsed": true
   },
   "outputs": [],
   "source": []
  },
  {
   "cell_type": "code",
   "execution_count": null,
   "metadata": {
    "collapsed": true
   },
   "outputs": [],
   "source": []
  },
  {
   "cell_type": "code",
   "execution_count": null,
   "metadata": {
    "collapsed": true
   },
   "outputs": [],
   "source": []
  },
  {
   "cell_type": "code",
   "execution_count": null,
   "metadata": {
    "collapsed": false
   },
   "outputs": [],
   "source": [
    "fig,ax=plt.subplots(1,4,figsize=(24,6))\n",
    "ii=(list_of_depths < 15)&(list_of_datetimes<=dt.datetime(2015,4,1))\n",
    "ax[0].plot(list_of_cs_ni[ii], list_of_model_ni[ii], \n",
    "        '.', color = 'Crimson', alpha = 0.5, label = 'surface')\n",
    "ax[0].set_title('Feb-Mar')\n",
    "print('Feb-Mar')\n",
    "print('bias =  ' + str(-np.mean(list_of_cs_ni[ii]) + np.mean(list_of_model_ni[ii])))\n",
    "print('RMSE = ' + str(np.sqrt(np.sum((list_of_model_ni[ii] - list_of_cs_ni[ii])**2) /\n",
    "                              len(list_of_cs_ni[ii]))))\n",
    "xbar = np.mean(list_of_cs_ni[ii])\n",
    "print('Willmott = ' + str(1-(np.sum((list_of_model_ni[ii] - list_of_cs_ni[ii])**2)  / \n",
    "                             np.sum((np.abs(list_of_model_ni[ii] - xbar) \n",
    "                                     + np.abs(list_of_cs_ni[ii] - xbar))**2))))\n",
    "ii=(list_of_depths < 15)&(list_of_datetimes<=dt.datetime(2015,5,1))&(list_of_datetimes>dt.datetime(2015,4,1))\n",
    "ax[1].plot(list_of_cs_ni[ii], list_of_model_ni[ii], \n",
    "        '.', color = 'Crimson', alpha = 0.5, label = 'surface')\n",
    "ax[1].set_title('April')\n",
    "print('April')\n",
    "print('bias =  ' + str(-np.mean(list_of_cs_ni[ii]) + np.mean(list_of_model_ni[ii])))\n",
    "print('RMSE = ' + str(np.sqrt(np.sum((list_of_model_ni[ii] - list_of_cs_ni[ii])**2) /\n",
    "                              len(list_of_cs_ni[ii]))))\n",
    "xbar = np.mean(list_of_cs_ni[ii])\n",
    "print('Willmott = ' + str(1-(np.sum((list_of_model_ni[ii] - list_of_cs_ni[ii])**2)  / \n",
    "                             np.sum((np.abs(list_of_model_ni[ii] - xbar) \n",
    "                                     + np.abs(list_of_cs_ni[ii] - xbar))**2))))\n",
    "ii=(list_of_depths < 15)&(list_of_datetimes<=dt.datetime(2015,9,1))&(list_of_datetimes>dt.datetime(2015,5,1))\n",
    "cs=ax[2].scatter(list_of_cs_ni[ii], list_of_model_ni[ii], c=np.array([np.float((ii-dt.datetime(2015,3,1)).days) for ii in list_of_datetimes[ii]]), alpha = 0.5, label = 'surface')\n",
    "ax[2].set_title('May-Jun-Jul')\n",
    "plt.colorbar(cs)\n",
    "print('May-Jun-Jul')\n",
    "print('bias =  ' + str(-np.mean(list_of_cs_ni[ii]) + np.mean(list_of_model_ni[ii])))\n",
    "print('RMSE = ' + str(np.sqrt(np.sum((list_of_model_ni[ii] - list_of_cs_ni[ii])**2) /\n",
    "                              len(list_of_cs_ni[ii]))))\n",
    "xbar = np.mean(list_of_cs_ni[ii])\n",
    "print('Willmott = ' + str(1-(np.sum((list_of_model_ni[ii] - list_of_cs_ni[ii])**2)  / \n",
    "                             np.sum((np.abs(list_of_model_ni[ii] - xbar) \n",
    "                                     + np.abs(list_of_cs_ni[ii] - xbar))**2))))\n",
    "ii=(list_of_depths < 15)&(list_of_datetimes<=dt.datetime(2015,12,1))&(list_of_datetimes>dt.datetime(2015,9,1))\n",
    "#ax[3].plot(list_of_cs_ni[ii], list_of_model_ni[ii], \n",
    "#        '.', color = 'Crimson', alpha = 0.5, label = 'surface')\n",
    "#ax[3].set_title('Sep-Oct')\n",
    "#print('Sep-Oct')\n",
    "#print('bias =  ' + str(-np.mean(list_of_cs_ni[ii]) + np.mean(list_of_model_ni[ii])))\n",
    "#print('RMSE = ' + str(np.sqrt(np.sum((list_of_model_ni[ii] - list_of_cs_ni[ii])**2) /\n",
    "#                              len(list_of_cs_ni[ii]))))\n",
    "#xbar = np.mean(list_of_cs_ni[ii])\n",
    "#print('Willmott = ' + str(1-(np.sum((list_of_model_ni[ii] - list_of_cs_ni[ii])**2)  / \n",
    "#                             np.sum((np.abs(list_of_model_ni[ii] - xbar) \n",
    "#                                     + np.abs(list_of_cs_ni[ii] - xbar))**2))))\n",
    "for ii in range(0,4):\n",
    "    ax[ii].plot(np.arange(0,35), color = 'grey')\n",
    "    "
   ]
  },
  {
   "cell_type": "code",
   "execution_count": null,
   "metadata": {
    "collapsed": false
   },
   "outputs": [],
   "source": [
    "fig,ax=plt.subplots(1,1,figsize=(24,1))\n",
    "plt.plot(list_of_datetimes,np.ones(np.shape(list_of_datetimes)),'k.')"
   ]
  },
  {
   "cell_type": "code",
   "execution_count": null,
   "metadata": {
    "collapsed": false
   },
   "outputs": [],
   "source": [
    "fig, ax = plt.subplots(figsize = (8,8))\n",
    "ax.plot(list_of_cs_ni[list_of_depths < 15], list_of_model_ni[list_of_depths < 15], \n",
    "        '.', color = 'Crimson', alpha = 0.8, label = 'surface')\n",
    "ax.plot(list_of_cs_ni[(22 > list_of_depths) & (list_of_depths >= 15)], \n",
    "        list_of_model_ni[(22 > list_of_depths) & (list_of_depths >= 15)], \n",
    "        '.', color = 'DarkOrange', alpha = 0.8, label = 'intermediate')\n",
    "ax.plot(list_of_cs_ni[(list_of_depths < 15) & (list_of_lons < -123.5) & (list_of_lats < 48.6)], \n",
    "        list_of_model_ni[(list_of_depths < 15) & (list_of_lons < -123.5) \n",
    "                         & (list_of_lats < 48.6)], \n",
    "        '.', color = 'ForestGreen', alpha = 0.8, label = ' Juan de Fuca surface')\n",
    "ax.plot(list_of_cs_ni[(22 > list_of_depths) & (list_of_depths >= 15) \n",
    "                      & (list_of_lons < -123.5) & (list_of_lats < 48.6)], \n",
    "        list_of_model_ni[(22 > list_of_depths) & (list_of_depths >= 15) \n",
    "                         & (list_of_lons < -123.5) & (list_of_lats < 48.6)], \n",
    "        '.', color = 'CornflowerBlue', alpha = 0.8, label = ' Juan de Fuca intermediate')\n",
    "\n",
    "ax.plot(np.arange(0,35), color = 'grey')\n",
    "ax.grid('on')\n",
    "ax.set_title('DFO Nitrate')\n",
    "ax.set_xlabel('DFO')\n",
    "ax.set_ylabel('Nowcast-green');\n",
    "ax.legend(loc=4)\n"
   ]
  },
  {
   "cell_type": "code",
   "execution_count": null,
   "metadata": {
    "collapsed": false
   },
   "outputs": [],
   "source": [
    "np.shape(list_of_depths)"
   ]
  },
  {
   "cell_type": "code",
   "execution_count": null,
   "metadata": {
    "collapsed": false
   },
   "outputs": [],
   "source": [
    "fig, ax = plt.subplots(figsize = (8,8))\n",
    "ax.plot(list_of_cs_si[list_of_depths < 15], list_of_model_si[list_of_depths < 15], \n",
    "        '.', color = 'Crimson', alpha = 0.5, label = 'surface')\n",
    "ax.plot(list_of_cs_si[(22 > list_of_depths) & (list_of_depths >= 15)], \n",
    "        list_of_model_si[(22 > list_of_depths) & (list_of_depths >= 15)], \n",
    "        '.', color = 'DarkOrange', alpha = 0.5, label = 'intermediate')\n",
    "ax.plot(list_of_cs_si[list_of_depths >= 22], list_of_model_si[list_of_depths >= 22], \n",
    "        '.', color = 'darkblue', alpha = 0.5, label = 'deep')\n",
    "\n",
    "ax.plot(list_of_cs_si[(list_of_depths < 15) & (list_of_lons < -123.5) & (list_of_lats < 48.6)], \n",
    "        list_of_model_si[(list_of_depths < 15) & (list_of_lons < -123.5) \n",
    "                         & (list_of_lats < 48.6)], \n",
    "        '.', color = 'ForestGreen', alpha = 0.5, label = ' Juan de Fuca surface')\n",
    "ax.plot(list_of_cs_si[(22 > list_of_depths) & (list_of_depths >= 15) \n",
    "                      & (list_of_lons < -123.5) & (list_of_lats < 48.6)], \n",
    "        list_of_model_si[(22 > list_of_depths) & (list_of_depths >= 15) \n",
    "                         & (list_of_lons < -123.5) & (list_of_lats < 48.6)], \n",
    "        '.', color = 'CornflowerBlue', alpha = 0.5, label = ' Juan de Fuca intermediate')\n",
    "ax.plot(list_of_cs_si[(list_of_depths >= 22) & (list_of_lons < -123.5) & (list_of_lats < 48.6)], \n",
    "        list_of_model_si[(list_of_depths >= 22) & (list_of_lons < -123.5) \n",
    "                         & (list_of_lats < 48.6)], \n",
    "        '.', color = 'DarkOrchid', alpha = 0.5, label = ' Juan de Fuca deep')\n",
    "\n",
    "ax.plot(np.arange(0,56), color = 'grey')\n",
    "ax.grid('on')\n",
    "ax.set_title('DFO Silicon')\n",
    "ax.set_xlabel('DFO')\n",
    "ax.set_ylabel('Nowcast-green');\n",
    "ax.legend(loc=4)\n",
    "print('surface bias =  ' + str(-np.mean(list_of_cs_si[list_of_depths < 15]) \n",
    "                               + np.mean(list_of_model_si[list_of_depths < 15])))\n",
    "print('surface RMSE = ' + str(np.sqrt(np.sum((list_of_model_si[list_of_depths < 15] \n",
    "                                              - list_of_cs_si[list_of_depths < 15])**2) /\n",
    "                              len(list_of_cs_si[list_of_depths < 15]))))\n",
    "xbar = np.mean(list_of_cs_si[list_of_depths < 15])\n",
    "print('surface Willmott = ' + str(1-(np.sum((list_of_model_si[list_of_depths < 15] \n",
    "                                             - list_of_cs_si[list_of_depths < 15])**2)  / \n",
    "                             np.sum((np.abs(list_of_model_si[list_of_depths < 15] - xbar) \n",
    "                                     + np.abs(list_of_cs_si[list_of_depths < 15] - xbar))**2))))\n",
    "\n",
    "print('intermediate bias =  ' + str(-np.mean(list_of_cs_si[(22 > list_of_depths) \n",
    "                                                           & (list_of_depths >= 15)]) \n",
    "                               + np.mean(list_of_model_si[(22 > list_of_depths) \n",
    "                                                          & (list_of_depths >= 15)])))\n",
    "print('intermediate RMSE = ' + str(np.sqrt(np.sum((list_of_model_si[(22 > list_of_depths) \n",
    "                                                                    & (list_of_depths >= 15)] \n",
    "                                              - list_of_cs_si[(22 > list_of_depths) \n",
    "                                                              & (list_of_depths >= 15)])**2) /\n",
    "                              len(list_of_cs_si[(22 > list_of_depths) & (list_of_depths >= 15)]))))\n",
    "xbar = np.mean(list_of_cs_si[(22 > list_of_depths) & (list_of_depths >= 15)])\n",
    "print('intermediate Willmott = ' + str(1-(np.sum((list_of_model_si[(22 > list_of_depths) \n",
    "                                                                   & (list_of_depths >= 15)] \n",
    "                                             - list_of_cs_si[(22 > list_of_depths) \n",
    "                                                             & (list_of_depths >= 15)])**2)  / \n",
    "                             np.sum((np.abs(list_of_model_si[(22 > list_of_depths) \n",
    "                                                             & (list_of_depths >= 15)] - xbar) \n",
    "                                     + np.abs(list_of_cs_si[(22 > list_of_depths) \n",
    "                                                            & (list_of_depths >= 15)] - xbar))**2))))\n",
    "\n",
    "print('deep bias =  ' + str(-np.mean(list_of_cs_si[list_of_depths >= 22]) \n",
    "                               + np.mean(list_of_model_si[list_of_depths >= 22])))\n",
    "print('deep RMSE = ' + str(np.sqrt(np.sum((list_of_model_si[list_of_depths >= 22] \n",
    "                                              - list_of_cs_si[list_of_depths >= 22])**2) /\n",
    "                              len(list_of_cs_si[list_of_depths >= 22]))))\n",
    "xbar = np.mean(list_of_cs_si[list_of_depths >= 22])\n",
    "print('deep Willmott = ' + str(1-(np.sum((list_of_model_si[list_of_depths >= 22] \n",
    "                                             - list_of_cs_si[list_of_depths >= 22])**2)  / \n",
    "                             np.sum((np.abs(list_of_model_si[list_of_depths >= 22] - xbar) \n",
    "                                     + np.abs(list_of_cs_si[list_of_depths >= 22] - xbar))**2))))\n",
    "\n",
    "print('bias =  ' + str(-np.mean(list_of_cs_si) + np.mean(list_of_model_si)))\n",
    "print('RMSE = ' + str(np.sqrt(np.sum((list_of_model_si - list_of_cs_si)**2) /\n",
    "                              len(list_of_cs_si))))\n",
    "xbar = np.mean(list_of_cs_si)\n",
    "print('Willmott = ' + str(1-(np.sum((list_of_model_si - list_of_cs_si)**2)  / \n",
    "                             np.sum((np.abs(list_of_model_si - xbar) \n",
    "                                     + np.abs(list_of_cs_si - xbar))**2))))"
   ]
  },
  {
   "cell_type": "code",
   "execution_count": null,
   "metadata": {
    "collapsed": false
   },
   "outputs": [],
   "source": [
    "fig, ax = plt.subplots(1,2, figsize = (16,8))\n",
    "ax[0].plot(list_of_cs_ni[list_of_depths >= 22], list_of_cs_si[list_of_depths >=22], \n",
    "           '.', color = 'darkblue', alpha = 0.5)\n",
    "ax[0].plot(list_of_cs_ni[list_of_depths < 15], list_of_cs_si[list_of_depths < 15], \n",
    "           '.', color = 'Crimson', alpha = 0.5)\n",
    "ax[0].plot(list_of_cs_ni[(22 > list_of_depths) & (list_of_depths >= 15)], \n",
    "           list_of_cs_si[(22 > list_of_depths) & (list_of_depths >= 15)], \n",
    "           '.', color = 'DarkOrange', alpha = 0.5)\n",
    "ax[0].plot(list_of_cs_ni[(list_of_depths >= 22) & (list_of_lons < -123.5) \n",
    "                         & (list_of_lats < 48.6)], \n",
    "           list_of_cs_si[(list_of_depths >= 22) & (list_of_lons < -123.5) \n",
    "                         & (list_of_lats < 48.6)], \n",
    "           '.', color = 'DarkOrchid', alpha = 0.5)\n",
    "ax[0].plot(list_of_cs_ni[(list_of_depths < 15) & (list_of_lons < -123.5) \n",
    "                         & (list_of_lats < 48.6)], \n",
    "           list_of_cs_si[(list_of_depths < 15) & (list_of_lons < -123.5) \n",
    "                         & (list_of_lats < 48.6)], \n",
    "           '.', color = 'ForestGreen', alpha = 0.5)\n",
    "ax[0].plot(list_of_cs_ni[(22 > list_of_depths) & (list_of_depths >= 15) \n",
    "                         & (list_of_lons < -123.5) & (list_of_lats < 48.6)], \n",
    "           list_of_cs_si[(22 > list_of_depths) & (list_of_depths >= 15) \n",
    "                         & (list_of_lons < -123.5) & (list_of_lats < 48.6)], \n",
    "           '.', color = 'CornflowerBlue', alpha = 0.5)\n",
    "#ax[0].plot(np.unique(list_of_cs_ni), \n",
    "#           np.poly1d(np.polyfit(list_of_cs_ni, list_of_cs_si, 1))(np.unique(list_of_cs_ni)))\n",
    "x = np.arange(0,40)\n",
    "ax[0].plot(x, 2*x, 'g-', alpha = 0.3)\n",
    "ax[0].plot(x, 2*x+30, 'y-', alpha = 0.3)\n",
    "\n",
    "ax[1].plot(list_of_model_ni[list_of_depths < 15], list_of_model_si[list_of_depths < 15], \n",
    "           '.', color = 'Crimson', alpha = 0.5, label = 'surface')\n",
    "ax[1].plot(list_of_model_ni[(22 > list_of_depths) & (list_of_depths >= 15)], \n",
    "           list_of_model_si[(22 > list_of_depths) & (list_of_depths >= 15)], \n",
    "           '.', color = 'DarkOrange', alpha = 0.5, label = 'intermediate')\n",
    "ax[1].plot(list_of_model_ni[list_of_depths >= 22], list_of_model_si[list_of_depths >=22], \n",
    "           '.', color = 'darkblue', alpha = 0.5, label = 'deep')\n",
    "ax[1].plot(list_of_model_ni[(list_of_depths < 15) & (list_of_lons < -123.5) \n",
    "                         & (list_of_lats < 48.6)], \n",
    "           list_of_model_si[(list_of_depths < 15) & (list_of_lons < -123.5) \n",
    "                         & (list_of_lats < 48.6)], \n",
    "           '.', color = 'ForestGreen', alpha = 0.5, label = 'Juan de Fuca surface')\n",
    "ax[1].plot(list_of_model_ni[(22 > list_of_depths) & (list_of_depths >= 15) \n",
    "                         & (list_of_lons < -123.5) & (list_of_lats < 48.6)], \n",
    "           list_of_model_si[(22 > list_of_depths) & (list_of_depths >= 15) \n",
    "                         & (list_of_lons < -123.5) & (list_of_lats < 48.6)], \n",
    "           '.', color = 'CornflowerBlue', alpha = 0.5, label = 'Juan de Fuca intermediate')\n",
    "ax[1].plot(list_of_model_ni[(list_of_depths >= 22) & (list_of_lons < -123.5) \n",
    "                         & (list_of_lats < 48.6)], \n",
    "           list_of_model_si[(list_of_depths >= 22) & (list_of_lons < -123.5) \n",
    "                         & (list_of_lats < 48.6)], \n",
    "           '.', color = 'DarkOrchid', alpha = 0.5, label = 'Juan de Fuca deep')\n",
    "ax[1].plot(np.unique(list_of_model_ni), \n",
    "           np.poly1d(np.polyfit(list_of_model_ni, \n",
    "                                list_of_model_si, 1))(np.unique(list_of_model_ni)))\n",
    "x = np.arange(0,40)\n",
    "ax[1].plot(x, 2*x, 'g-', alpha = 0.3, label = 'slope = 2')\n",
    "ax[1].plot(x, 2*x+30, 'y-', alpha = 0.3, label = '2*N + 30')\n",
    "ax[0].set_title('DFO', fontsize = 16)\n",
    "ax[1].set_title('Model', fontsize = 16)\n",
    "for ax in ax:\n",
    "    ax.grid('on')\n",
    "    ax.set_ylabel('Si', fontsize = 14)\n",
    "    ax.set_xlabel('N', fontsize = 14)\n",
    "    ax.set_ylim(0,95)\n",
    "    ax.set_xlim(0,37)\n",
    "plt.legend();"
   ]
  },
  {
   "cell_type": "code",
   "execution_count": null,
   "metadata": {
    "collapsed": false
   },
   "outputs": [],
   "source": [
    "fig, ax = plt.subplots(1,2, figsize = (16,8))\n",
    "ax[0].plot(list_of_cs_ni, list_of_cs_si, \n",
    "           '.', color = 'darkblue', alpha = 0.5)\n",
    "x = np.arange(0,40)\n",
    "ax[0].plot(x, 2*x, 'g-', alpha = 0.3)\n",
    "ax[0].plot(x, 2*x+30, 'y-', alpha = 0.3)\n",
    "\n",
    "ax[1].plot(list_of_model_ni, list_of_model_si, \n",
    "           '.', color = 'Crimson', alpha = 0.5)\n",
    "x = np.arange(0,40)\n",
    "ax[1].plot(x, 2*x, 'g-', alpha = 0.3, label = 'slope = 2')\n",
    "ax[1].plot(x, 2*x+30, 'y-', alpha = 0.3, label = '2*N + 30')\n",
    "ax[0].set_title('DFO', fontsize = 16)\n",
    "ax[1].set_title('Model', fontsize = 16)\n",
    "for ax in ax:\n",
    "    ax.grid('on')\n",
    "    ax.set_ylabel('Si', fontsize = 14)\n",
    "    ax.set_xlabel('N', fontsize = 14)\n",
    "    ax.set_ylim(0,95)\n",
    "    ax.set_xlim(0,37)\n",
    "plt.legend();"
   ]
  },
  {
   "cell_type": "code",
   "execution_count": null,
   "metadata": {
    "collapsed": false
   },
   "outputs": [],
   "source": [
    "fig,ax=plt.subplots(1,4,figsize=(24,6))\n",
    "ii=(list_of_depths < 15)&(list_of_datetimes<=dt.datetime(2015,4,1))\n",
    "ax[0].plot(list_of_cs_si[ii], list_of_model_si[ii], \n",
    "        '.', color = 'Crimson', alpha = 0.5, label = 'surface')\n",
    "ax[0].set_title('Feb-Mar')\n",
    "print('Feb-Mar')\n",
    "print('bias =  ' + str(-np.mean(list_of_cs_si[ii]) + np.mean(list_of_model_si[ii])))\n",
    "print('RMSE = ' + str(np.sqrt(np.sum((list_of_model_si[ii] - list_of_cs_si[ii])**2) /\n",
    "                              len(list_of_cs_si[ii]))))\n",
    "xbar = np.mean(list_of_cs_si[ii])\n",
    "print('Willmott = ' + str(1-(np.sum((list_of_model_si[ii] - list_of_cs_si[ii])**2)  / \n",
    "                             np.sum((np.abs(list_of_model_si[ii] - xbar) \n",
    "                                     + np.abs(list_of_cs_si[ii] - xbar))**2))))\n",
    "ii=(list_of_depths < 15)&(list_of_datetimes<=dt.datetime(2015,5,1))&(list_of_datetimes>dt.datetime(2015,4,1))\n",
    "ax[1].plot(list_of_cs_si[ii], list_of_model_si[ii], \n",
    "        '.', color = 'Crimson', alpha = 0.5, label = 'surface')\n",
    "ax[1].set_title('April')\n",
    "print('April')\n",
    "print('bias =  ' + str(-np.mean(list_of_cs_si[ii]) + np.mean(list_of_model_si[ii])))\n",
    "print('RMSE = ' + str(np.sqrt(np.sum((list_of_model_si[ii] - list_of_cs_si[ii])**2) /\n",
    "                              len(list_of_cs_si[ii]))))\n",
    "xbar = np.mean(list_of_cs_si[ii])\n",
    "print('Willmott = ' + str(1-(np.sum((list_of_model_si[ii] - list_of_cs_si[ii])**2)  / \n",
    "                             np.sum((np.abs(list_of_model_si[ii] - xbar) \n",
    "                                     + np.abs(list_of_cs_si[ii] - xbar))**2))))\n",
    "\n",
    "ii=(list_of_depths < 15)&(list_of_datetimes<=dt.datetime(2015,9,1))&(list_of_datetimes>dt.datetime(2015,5,1))\n",
    "ax[2].plot(list_of_cs_si[ii], list_of_model_si[ii], \n",
    "        '.', color = 'Crimson', alpha = 0.5, label = 'surface')\n",
    "ax[2].set_title('May-Jun-Jul')\n",
    "print('May-Jun-Jul')\n",
    "print('bias =  ' + str(-np.mean(list_of_cs_si[ii]) + np.mean(list_of_model_si[ii])))\n",
    "print('RMSE = ' + str(np.sqrt(np.sum((list_of_model_si[ii] - list_of_cs_si[ii])**2) /\n",
    "                              len(list_of_cs_si[ii]))))\n",
    "xbar = np.mean(list_of_cs_si[ii])\n",
    "print('Willmott = ' + str(1-(np.sum((list_of_model_si[ii] - list_of_cs_si[ii])**2)  / \n",
    "                             np.sum((np.abs(list_of_model_si[ii] - xbar) \n",
    "                                     + np.abs(list_of_cs_si[ii] - xbar))**2))))\n",
    "\n",
    "ii=(list_of_depths < 15)&(list_of_datetimes<=dt.datetime(2015,12,1))&(list_of_datetimes>dt.datetime(2015,9,1))\n",
    "#ax[3].plot(list_of_cs_si[ii], list_of_model_si[ii], \n",
    "#        '.', color = 'Crimson', alpha = 0.5, label = 'surface')\n",
    "#ax[3].set_title('Sep-Oct')\n",
    "#print('Sep-Oct')\n",
    "#print('bias =  ' + str(-np.mean(list_of_cs_si[ii]) + np.mean(list_of_model_si[ii])))\n",
    "#print('RMSE = ' + str(np.sqrt(np.sum((list_of_model_si[ii] - list_of_cs_si[ii])**2) /\n",
    "#                              len(list_of_cs_si[ii]))))\n",
    "#xbar = np.mean(list_of_cs_si[ii])\n",
    "#print('Willmott = ' + str(1-(np.sum((list_of_model_si[ii] - list_of_cs_si[ii])**2)  / \n",
    "#                             np.sum((np.abs(list_of_model_si[ii] - xbar) \n",
    "#                                     + np.abs(list_of_cs_si[ii] - xbar))**2))))\n",
    "\n",
    "for ii in range(0,4):\n",
    "    ax[ii].plot(np.arange(0,35), color = 'grey')"
   ]
  },
  {
   "cell_type": "code",
   "execution_count": null,
   "metadata": {
    "collapsed": false
   },
   "outputs": [],
   "source": [
    "fig, ax = plt.subplots(1,2,figsize = (17,8))\n",
    "iii=(list_of_datetimes>dt.datetime(2015,2,1))\n",
    "cols=('crimson','orangered','darkorange','gold','chartreuse','green','lightseagreen','cyan',\n",
    "      'lightskyblue','blue','mediumslateblue','blueviolet','darkmagenta','fuchsia')\n",
    "for ii in range(2,12):\n",
    "    iii=(list_of_datetimes>=dt.datetime(2015,ii,1))&(list_of_datetimes<dt.datetime(2015,ii+1,1))\n",
    "    ax[0].plot(list_of_model_ni[iii]-list_of_cs_ni[iii], list_of_depths[iii], \n",
    "        '.', color = cols[ii],label=str(ii))\n",
    "    ax[1].plot(list_of_model_si[iii]-list_of_cs_si[iii], list_of_depths[iii], \n",
    "        '.', color = cols[ii],label=str(ii))\n",
    "for axi in (ax[0],ax[1]):\n",
    "    axi.legend(loc=4)\n",
    "    axi.set_ylim(400,0)\n",
    "    axi.set_ylabel('depth (m)')\n",
    "ax[0].set_xlabel('model - obs N')\n",
    "ax[1].set_xlabel('model - obs Si')\n",
    "ax[0].set_xlim(-20,20)\n",
    "ax[1].set_xlim(-40,40)"
   ]
  },
  {
   "cell_type": "code",
   "execution_count": null,
   "metadata": {
    "collapsed": true
   },
   "outputs": [],
   "source": []
  },
  {
   "cell_type": "code",
   "execution_count": null,
   "metadata": {
    "collapsed": true
   },
   "outputs": [],
   "source": []
  },
  {
   "cell_type": "code",
   "execution_count": null,
   "metadata": {
    "collapsed": true
   },
   "outputs": [],
   "source": []
  }
 ],
 "metadata": {
  "anaconda-cloud": {},
  "kernelspec": {
   "display_name": "Python [conda env:python36]",
   "language": "python",
   "name": "conda-env-python36-py"
  },
  "language_info": {
   "codemirror_mode": {
    "name": "ipython",
    "version": 3
   },
   "file_extension": ".py",
   "mimetype": "text/x-python",
   "name": "python",
   "nbconvert_exporter": "python",
   "pygments_lexer": "ipython3",
   "version": "3.6.3"
  }
 },
 "nbformat": 4,
 "nbformat_minor": 2
}
