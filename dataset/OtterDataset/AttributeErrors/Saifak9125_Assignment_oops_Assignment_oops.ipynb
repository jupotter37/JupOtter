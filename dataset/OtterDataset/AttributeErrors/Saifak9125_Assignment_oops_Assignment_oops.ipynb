{
 "cells": [
  {
   "cell_type": "markdown",
   "id": "1224426f-fd1e-4e91-97f0-58e5e10647b0",
   "metadata": {},
   "source": [
    "# Assignment : OOPS"
   ]
  },
  {
   "cell_type": "markdown",
   "id": "5845a9f6-1930-4cf8-9cc4-e758fc799d8e",
   "metadata": {},
   "source": [
    "## 1. What are the five key concepts of Object-Oriented Programming (OOP)?"
   ]
  },
  {
   "cell_type": "markdown",
   "id": "53c04088-efe8-4221-9054-e71f24c13925",
   "metadata": {},
   "source": [
    "### The five key concepts of Object-Oriented Programming (OOP) are:\n",
    "\n",
    "### Class: A blueprint or template for creating objects. It defines the properties (attributes) and behaviors (methods) that the objects created from it will have.\n",
    "\n",
    "### Object: An instance of a class. Objects are individual entities that represent real-world things or concepts, containing specific data (attributes) and functionality (methods).\n",
    "\n",
    "### Encapsulation: The bundling of data (attributes) and methods (functions) that operate on the data into a single unit, or class. It also restricts access to certain components (using access modifiers like private, protected, public), ensuring that the internal state of an object cannot be changed directly from outside.\n",
    "\n",
    "### Inheritance: A mechanism that allows a new class (subclass or derived class) to inherit properties and behaviors from an existing class (superclass or base class). This promotes code reuse and creates a hierarchical relationship between classes.\n",
    "\n",
    "### Polymorphism: The ability to present the same interface for different underlying forms (data types). It allows objects of different classes to be treated as objects of a common superclass. Polymorphism is typically achieved through method overriding (same method name, different class) or method overloading (same method name, different parameters).\n",
    "\n",
    "### These concepts help in designing modular, maintainable, and reusable code."
   ]
  },
  {
   "cell_type": "markdown",
   "id": "3b288882-b779-46ce-9c51-56f3d48df8cb",
   "metadata": {},
   "source": [
    "## 2. Write a Python class for a `Car` with attributes for `make`, `model`, and `year`. Include a method to display the car's information."
   ]
  },
  {
   "cell_type": "code",
   "execution_count": 5,
   "id": "25c1415c-58b6-4a80-998c-1d93814264b3",
   "metadata": {},
   "outputs": [],
   "source": [
    "class Car:\n",
    "    def __init__(self, make, model,year):\n",
    "        self.make = make\n",
    "        self.model = model\n",
    "        self.year = year\n",
    "    def display_car_info(self):\n",
    "        print(f\"Car Information: Make: {self.make}, Model: {self.model}, year: {self.year}\")"
   ]
  },
  {
   "cell_type": "code",
   "execution_count": 6,
   "id": "c3b9340c-3979-4fab-8924-b035951a69d6",
   "metadata": {},
   "outputs": [
    {
     "name": "stdout",
     "output_type": "stream",
     "text": [
      "Car Information: Make: Tata, Model: Nexon, year: 2016\n"
     ]
    }
   ],
   "source": [
    "obj1 = Car(\"Tata\",\"Nexon\",\"2016\")\n",
    "obj1.display_car_info()"
   ]
  },
  {
   "cell_type": "markdown",
   "id": "db50fd2f-8b2e-4cc0-b1ec-1b08f10b9117",
   "metadata": {},
   "source": [
    "## 3. Explain the difference between instance methods and class methods. Provide an example of each."
   ]
  },
  {
   "cell_type": "markdown",
   "id": "4b97c349-024a-436b-91ac-b637808a53f8",
   "metadata": {},
   "source": [
    "### 1.Instance Methods :\n",
    "### >> These methods are tied to an instance of a class and operate on instance data.\n",
    "### >> They take the instance (self) as their first parameter, which gives access to the instance's attributes and other methods.\n",
    "### >> You call instance methods on an object (instance) of a class.\n",
    "\n",
    "### Example :"
   ]
  },
  {
   "cell_type": "code",
   "execution_count": 9,
   "id": "50819744-830b-4cab-83a7-d090d3fe305f",
   "metadata": {},
   "outputs": [],
   "source": [
    "class Car:\n",
    "    def __init__(self, make, model,year):\n",
    "        self.make = make\n",
    "        self.model = model\n",
    "        self.year = year\n",
    "    def display_car_info(self):\n",
    "        print(f\"Car Information: Make: {self.make}, Model: {self.model}, year: {self.year}\")"
   ]
  },
  {
   "cell_type": "code",
   "execution_count": 10,
   "id": "6be1769e-1995-45bf-9252-376a90011c6c",
   "metadata": {},
   "outputs": [
    {
     "name": "stdout",
     "output_type": "stream",
     "text": [
      "Car Information: Make: Tata, Model: Nexon, year: 2016\n"
     ]
    }
   ],
   "source": [
    "obj1 = Car(\"Tata\",\"Nexon\",\"2016\")\n",
    "obj1.display_car_info()"
   ]
  },
  {
   "cell_type": "markdown",
   "id": "afafa58e-2285-444c-a6cf-f9c524dd9f38",
   "metadata": {},
   "source": [
    "### Here `display_car_info` is an instance method because it operate on the attribute of the instance of `obj1`."
   ]
  },
  {
   "cell_type": "markdown",
   "id": "76966108-9637-4a64-88d3-5be7e438b3a0",
   "metadata": {},
   "source": [
    "### 2. Class Methods :\n",
    "### >> Class methods are bound to the class and not the instance.\n",
    "### >> They take the class `(cls)` as the first parameter, allowing them to modify or access class-level data (shared across all instances).\n",
    "### >> You use the `@classmethod` decorator to define class methods.\n",
    "### >> Class methods can be called on the class itself, without creating an instance.\n",
    "\n",
    "### Example:"
   ]
  },
  {
   "cell_type": "code",
   "execution_count": 13,
   "id": "d38f0f0f-e070-4958-908e-1582f929918f",
   "metadata": {},
   "outputs": [
    {
     "name": "stdout",
     "output_type": "stream",
     "text": [
      "Total cars created: 2\n"
     ]
    }
   ],
   "source": [
    "class Car:\n",
    "    total_cars = 0 \n",
    "\n",
    "    def __init__(self, make, model, year):\n",
    "        self.make = make\n",
    "        self.model = model\n",
    "        self.year = year\n",
    "        Car.total_cars += 1\n",
    "\n",
    "    @classmethod\n",
    "    def total_cars_created(cls):\n",
    "        print(f\"Total cars created: {cls.total_cars}\")\n",
    "\n",
    "car1 = Car(\"Toyota\", \"Camry\", 2021)\n",
    "car2 = Car(\"Honda\", \"Civic\", 2022)\n",
    "\n",
    "Car.total_cars_created()"
   ]
  },
  {
   "cell_type": "markdown",
   "id": "058f2e6a-2750-4b6d-b01d-b7aacb727e42",
   "metadata": {},
   "source": [
    "### Here, `total_cars_created` is a class method because it operates on the class itself and accesses the class attribute `total_cars`."
   ]
  },
  {
   "cell_type": "markdown",
   "id": "8e635cea-e927-483e-8f61-2dcbcb60ea5c",
   "metadata": {},
   "source": [
    "## 4. How does Python implement method overloading? Give an example."
   ]
  },
  {
   "cell_type": "markdown",
   "id": "d620d45c-721a-425b-be51-52d480ba57bd",
   "metadata": {},
   "source": [
    "### In many programming languages, method overloading allows multiple methods with the same name to exist but with different parameter signatures (types or number of parameters). However, Python does not support method overloading in the traditional sense.\n",
    "\n",
    "### Example:"
   ]
  },
  {
   "cell_type": "code",
   "execution_count": 14,
   "id": "9626394a-6967-4da7-a437-fd4c4db8fc0c",
   "metadata": {},
   "outputs": [
    {
     "name": "stdout",
     "output_type": "stream",
     "text": [
      "10\n",
      "30\n",
      "60\n"
     ]
    }
   ],
   "source": [
    "#Default arguments: By specifying default values for some parameters, a method can be called with a varying number of arguments\n",
    "\n",
    "class Calculator:\n",
    "    def add(self, a, b=0, c=0):\n",
    "        return a + b + c\n",
    "\n",
    "calc = Calculator()\n",
    "\n",
    "print(calc.add(10))        # Output: 10 (only one argument provided)\n",
    "print(calc.add(10, 20))    # Output: 30 (two arguments provided)\n",
    "print(calc.add(10, 20, 30)) # Output: 60 (three arguments provided)"
   ]
  },
  {
   "cell_type": "markdown",
   "id": "ead97e49-ee7f-48d2-8755-0528dc82c699",
   "metadata": {},
   "source": [
    "## 5. What are the three types of access modifiers in Python? How are they denoted?"
   ]
  },
  {
   "cell_type": "markdown",
   "id": "e7b9daae-b1ae-470f-a754-d09372b6a98c",
   "metadata": {},
   "source": [
    "## The three type of access modifiers in python are :"
   ]
  },
  {
   "cell_type": "markdown",
   "id": "61024e73-7884-4f1f-9a20-b338036bb7fc",
   "metadata": {},
   "source": [
    "## 1. Public Method :\n",
    "### Attributes and methods that are intended to be accessible from both inside and outside the class.\n",
    "### By default, all attributes and methods in Python are public unless specified otherwise.\n",
    "\n",
    "### Example :"
   ]
  },
  {
   "cell_type": "code",
   "execution_count": 17,
   "id": "5ec9188e-238b-4398-8bda-9f1500d4b8ff",
   "metadata": {},
   "outputs": [],
   "source": [
    "class Car:\n",
    "    def __init__(self, make, model,year):\n",
    "        self.make = make\n",
    "        self.model = model\n",
    "        self.year = year\n",
    "    def display_car_info(self): # Public method\n",
    "        print(f\"Car Information: Make: {self.make}, Model: {self.model}, year: {self.year}\")"
   ]
  },
  {
   "cell_type": "code",
   "execution_count": 18,
   "id": "e9992d8f-561a-4d8f-997e-1074ada5b585",
   "metadata": {},
   "outputs": [
    {
     "name": "stdout",
     "output_type": "stream",
     "text": [
      "Car Information: Make: Tata, Model: Nexon, year: 2016\n"
     ]
    }
   ],
   "source": [
    "obj1 = Car(\"Tata\",\"Nexon\",\"2016\")\n",
    "obj1.display_car_info() # Access from outside the class."
   ]
  },
  {
   "cell_type": "markdown",
   "id": "5b0f5c29-3f69-4727-856d-0c1f8743a381",
   "metadata": {},
   "source": [
    "## 2. Private Method :\n",
    "### Attributes and methods that are intended to be inaccessible from outside the class, making them strictly internal.\n",
    "### Denoted by a double underscore `(__)` at the beginning of the name.\n",
    "\n",
    "### Example :"
   ]
  },
  {
   "cell_type": "code",
   "execution_count": 23,
   "id": "9cfb5bd2-a40a-42ae-ad3d-b37a5ee94398",
   "metadata": {},
   "outputs": [],
   "source": [
    "class Car:\n",
    "    def __init__(self, make, model,year):\n",
    "        self.__make = make\n",
    "        self.__model = model\n",
    "        self.__year = year\n",
    "    def __display_car_info(self):\n",
    "        print(f\"Car Information: Make: {self.__make}, Model: {self.__model}, year: {self.__year}\")"
   ]
  },
  {
   "cell_type": "code",
   "execution_count": 28,
   "id": "b753c08c-f18e-411e-8894-2c5ba7ca5fce",
   "metadata": {},
   "outputs": [
    {
     "ename": "AttributeError",
     "evalue": "'Car' object has no attribute '__make'",
     "output_type": "error",
     "traceback": [
      "\u001b[1;31m---------------------------------------------------------------------------\u001b[0m",
      "\u001b[1;31mAttributeError\u001b[0m                            Traceback (most recent call last)",
      "Cell \u001b[1;32mIn[28], line 2\u001b[0m\n\u001b[0;32m      1\u001b[0m obj1 \u001b[38;5;241m=\u001b[39m Car(\u001b[38;5;124m\"\u001b[39m\u001b[38;5;124mTyota\u001b[39m\u001b[38;5;124m\"\u001b[39m,\u001b[38;5;124m\"\u001b[39m\u001b[38;5;124mInova\u001b[39m\u001b[38;5;124m\"\u001b[39m,\u001b[38;5;124m\"\u001b[39m\u001b[38;5;124m2022\u001b[39m\u001b[38;5;124m\"\u001b[39m)\n\u001b[1;32m----> 2\u001b[0m \u001b[43mobj1\u001b[49m\u001b[38;5;241;43m.\u001b[39;49m\u001b[43m__make\u001b[49m \u001b[38;5;66;03m# Raise an Attribute error\u001b[39;00m\n\u001b[0;32m      3\u001b[0m obj1\u001b[38;5;241m.\u001b[39m__display_car_info() \u001b[38;5;66;03m# Raise an Attribute error\u001b[39;00m\n",
      "\u001b[1;31mAttributeError\u001b[0m: 'Car' object has no attribute '__make'"
     ]
    }
   ],
   "source": [
    "obj1 = Car(\"Tyota\",\"Inova\",\"2022\")\n",
    "obj1.__make # Raise an Attribute error\n",
    "obj1.__display_car_info() # Raise an Attribute error"
   ]
  },
  {
   "cell_type": "code",
   "execution_count": 37,
   "id": "6577badc-c05f-4563-ae88-f15138fa47d8",
   "metadata": {},
   "outputs": [
    {
     "name": "stdout",
     "output_type": "stream",
     "text": [
      "Tyota\n",
      "Car Information: Make: Tyota, Model: Inova, year: 2022\n"
     ]
    }
   ],
   "source": [
    "# Accessing private attributes using name mangling\n",
    "print(obj1._Car__make)\n",
    "obj1._Car__display_car_info()"
   ]
  },
  {
   "cell_type": "markdown",
   "id": "0220428f-5a29-4373-894e-00a5ff21b6a9",
   "metadata": {},
   "source": [
    "## 3. Protected Method :\n",
    "### Attributes and methods that are intended to be accessible within the class and its subclasses but not meant for direct access outside these classes.\n",
    "### Denoted by a single underscore `(_)`.\n",
    "\n",
    "### Example:"
   ]
  },
  {
   "cell_type": "code",
   "execution_count": 38,
   "id": "c0838036-1e4d-406c-a7a3-813723f480d3",
   "metadata": {},
   "outputs": [
    {
     "name": "stdout",
     "output_type": "stream",
     "text": [
      "Toyota\n",
      "Toyota Camry\n"
     ]
    }
   ],
   "source": [
    "class Car:\n",
    "    def __init__(self, make, model):\n",
    "        self._make = make  # Protected attribute\n",
    "        self._model = model  # Protected attribute\n",
    "    \n",
    "    def _display_info(self):\n",
    "        print(f\"{self._make} {self._model}\")  # Protected method\n",
    "\n",
    "car = Car(\"Toyota\", \"Camry\")\n",
    "print(car._make)  # Accessing outside the class is possible but discouraged\n",
    "car._display_info()  # Possible but discouraged"
   ]
  },
  {
   "cell_type": "markdown",
   "id": "6c723652-7a6e-41e7-acb9-48b21250a9e2",
   "metadata": {},
   "source": [
    "## 6. Describe the five types of inheritance in Python. Provide a simple example of multiple inheritance."
   ]
  },
  {
   "cell_type": "markdown",
   "id": "abde2c4b-1cd7-4922-9cb2-cacf335763bf",
   "metadata": {},
   "source": [
    "## 1. Single Inheritance :\n",
    "### A Single derived class inherits from Single base class.\n",
    "\n",
    "### Example:"
   ]
  },
  {
   "cell_type": "code",
   "execution_count": 40,
   "id": "2ff213d9-3e91-4c95-827d-f577bd7b3377",
   "metadata": {},
   "outputs": [
    {
     "name": "stdout",
     "output_type": "stream",
     "text": [
      "Vehicle sound\n",
      "Car accelerating\n"
     ]
    }
   ],
   "source": [
    "class Vehicle:\n",
    "    def sound(self):\n",
    "        print(\"Vehicle sound\")\n",
    "class Car(Vehicle):\n",
    "    def accelerate(self):\n",
    "        print(\"Car accelerating\")\n",
    "obj = Car()\n",
    "obj.sound() # inherit property from base class or parent class\n",
    "obj.accelerate()"
   ]
  },
  {
   "cell_type": "markdown",
   "id": "ca920db6-c759-4f88-9ab2-3ce7fe69ec8b",
   "metadata": {},
   "source": [
    "## 2. Multi Level Inheritance :\n",
    "### A class inherits from a class, which itself inherits from another class. It allows a class to inherit properties and methods from multiple parent classes.\n",
    "\n",
    "### Example :"
   ]
  },
  {
   "cell_type": "code",
   "execution_count": 42,
   "id": "af369ffa-8ba6-43f3-9636-1822a79e67e2",
   "metadata": {},
   "outputs": [
    {
     "name": "stdout",
     "output_type": "stream",
     "text": [
      "Vehicle sounding\n",
      "Car accelerating\n",
      "Electric Vehicle\n"
     ]
    }
   ],
   "source": [
    "class Vehicle:\n",
    "    def sound(self):\n",
    "        print(\"Vehicle sounding\")\n",
    "class Car(Vehicle):\n",
    "    def accelerate(self):\n",
    "        print(\"Car accelerating\")\n",
    "class Brand(Car):\n",
    "    def type(self):\n",
    "        print(\"Electric Vehicle\")\n",
    "\n",
    "obj = Brand()\n",
    "obj.sound()\n",
    "obj.accelerate()\n",
    "obj.type()"
   ]
  },
  {
   "cell_type": "markdown",
   "id": "79fdae48-f838-46f6-afec-357b905b081c",
   "metadata": {},
   "source": [
    "## 3. Multiple Inheritance:\n",
    "### A derived class inherits from more than one base class.\n",
    "### This allows the derived class to inherit attributes and methods from all parent classes.\n",
    "\n",
    "### Example :"
   ]
  },
  {
   "cell_type": "code",
   "execution_count": 44,
   "id": "1a66d492-ad67-43ec-8718-3912a43ee957",
   "metadata": {},
   "outputs": [
    {
     "name": "stdout",
     "output_type": "stream",
     "text": [
      "This is method of class A\n",
      "This is method of class B\n",
      "This is method of class c\n"
     ]
    }
   ],
   "source": [
    "class A:\n",
    "    def method1(self):\n",
    "        print(\"This is method of class A\")\n",
    "class B:\n",
    "    def method2(self):\n",
    "        print(\"This is method of class B\")\n",
    "class C(A,B):\n",
    "    def method3(self):\n",
    "        print(\"This is method of class c\")\n",
    "\n",
    "obj = C()\n",
    "obj.method1()\n",
    "obj.method2()\n",
    "obj.method3()"
   ]
  },
  {
   "cell_type": "markdown",
   "id": "ca3096fb-d43d-4159-b8b6-8cb45e90f23f",
   "metadata": {},
   "source": [
    "## 4. Hierarchical Inheritance:\n",
    "### Multiple derived classes inherit from a single base class.\n",
    "\n",
    "### Example:"
   ]
  },
  {
   "cell_type": "code",
   "execution_count": 45,
   "id": "8ec39a89-d9c7-42a7-b804-5de854669e91",
   "metadata": {},
   "outputs": [
    {
     "name": "stdout",
     "output_type": "stream",
     "text": [
      "Parent class\n",
      "Parent class\n"
     ]
    }
   ],
   "source": [
    "class Parent:\n",
    "    def show(self):\n",
    "        print(\"Parent class\")\n",
    "\n",
    "class Child1(Parent):\n",
    "    pass\n",
    "\n",
    "class Child2(Parent):\n",
    "    pass\n",
    "\n",
    "c1 = Child1()\n",
    "c2 = Child2()\n",
    "c1.show()\n",
    "c2.show()  "
   ]
  },
  {
   "cell_type": "markdown",
   "id": "daee9e46-570f-45ee-a8a6-bfac7db48c70",
   "metadata": {},
   "source": [
    "## 5. Hybrid Inheritance:\n",
    "### A combination of two or more types of inheritance (e.g., combining hierarchical and multiple inheritance).\n",
    "\n",
    "### Example:"
   ]
  },
  {
   "cell_type": "code",
   "execution_count": 46,
   "id": "588931ce-92ee-41d4-a98a-b288fd429ac7",
   "metadata": {},
   "outputs": [
    {
     "name": "stdout",
     "output_type": "stream",
     "text": [
      "Parent class\n"
     ]
    }
   ],
   "source": [
    "class Parent:\n",
    "    def show(self):\n",
    "        print(\"Parent class\")\n",
    "\n",
    "class Child1(Parent):\n",
    "    pass\n",
    "\n",
    "class Child2(Parent):\n",
    "    pass\n",
    "\n",
    "class GrandChild(Child1, Child2):\n",
    "    pass\n",
    "\n",
    "gc = GrandChild()\n",
    "gc.show()"
   ]
  },
  {
   "cell_type": "markdown",
   "id": "170b2bb8-0e76-4fb6-8ca8-cc22a462de47",
   "metadata": {},
   "source": [
    "## 7. What is the Method Resolution Order (MRO) in Python? How can you retrieve it programmatically?"
   ]
  },
  {
   "cell_type": "markdown",
   "id": "7573197e-7c06-4c77-abe9-93526ee760a2",
   "metadata": {},
   "source": [
    "## Method Resolution Order (MRO):\n",
    "### Method Resolution Order (MRO) determines the sequence in which Python looks for methods and attributes when a class is involved in inheritance. When a method is called on an object, Python follows the MRO to search through the class hierarchy to find the first matching method or attribute.\n",
    "### The MRO is especially important in cases of multiple inheritance, as it defines how Python decides which parent class to search first. Python uses the C3 Linearization (also known as C3 superclass linearization) algorithm to compute the MRO. This ensures a consistent, linear order of method resolution across the class hierarchy."
   ]
  },
  {
   "cell_type": "markdown",
   "id": "f4925e95-74c3-4e78-985e-0299e6f06aaf",
   "metadata": {},
   "source": [
    "### Example of MRO with multiple inheritance"
   ]
  },
  {
   "cell_type": "code",
   "execution_count": 48,
   "id": "28350e7d-df51-4256-bc07-6ba09127220d",
   "metadata": {},
   "outputs": [
    {
     "name": "stdout",
     "output_type": "stream",
     "text": [
      "C class\n"
     ]
    }
   ],
   "source": [
    "class A:\n",
    "    def show(self):\n",
    "        print(\"A class\")\n",
    "\n",
    "class B(A):\n",
    "    def show(self):\n",
    "        print(\"B class\")\n",
    "\n",
    "class C(A):\n",
    "    def show(self):\n",
    "        print(\"C class\")\n",
    "\n",
    "class D(B, C):\n",
    "    pass\n",
    "\n",
    "d = D()\n",
    "d.show() "
   ]
  },
  {
   "cell_type": "markdown",
   "id": "ae0a55f0-dafd-4dd9-a469-b52e977c99a4",
   "metadata": {},
   "source": [
    "### Retrieving MRO Programmatically:\n",
    "### You can retrieve the MRO of a class using the `mro()` method or the `__mro__` attribute"
   ]
  },
  {
   "cell_type": "code",
   "execution_count": 49,
   "id": "3dda4214-cfb0-414a-85bb-6b38a4e96248",
   "metadata": {},
   "outputs": [
    {
     "name": "stdout",
     "output_type": "stream",
     "text": [
      "[<class '__main__.D'>, <class '__main__.C'>, <class '__main__.B'>, <class '__main__.A'>, <class 'object'>]\n"
     ]
    }
   ],
   "source": [
    "print(D.mro())"
   ]
  },
  {
   "cell_type": "code",
   "execution_count": 50,
   "id": "fd0322de-f72e-4628-9541-fe32f471cd23",
   "metadata": {},
   "outputs": [
    {
     "name": "stdout",
     "output_type": "stream",
     "text": [
      "(<class '__main__.D'>, <class '__main__.C'>, <class '__main__.B'>, <class '__main__.A'>, <class 'object'>)\n"
     ]
    }
   ],
   "source": [
    "print(D.__mro__)"
   ]
  },
  {
   "cell_type": "markdown",
   "id": "e0c99f1c-2b32-44d2-8ece-084e976374fa",
   "metadata": {},
   "source": [
    "## 8. Create an abstract base class `Shape` with an abstract method `area()`. Then create two subclasses `Circle` and `Rectangle` that implement the `area()` method."
   ]
  },
  {
   "cell_type": "code",
   "execution_count": 57,
   "id": "d123659e-9b85-487b-a4b5-02887ca89035",
   "metadata": {},
   "outputs": [
    {
     "name": "stdout",
     "output_type": "stream",
     "text": [
      "Area of Circle : 78.53981633974483\n",
      "Area of Rectangle : 12\n"
     ]
    }
   ],
   "source": [
    "from abc import ABC , abstractmethod\n",
    "import math\n",
    "\n",
    "class Shape(ABC):\n",
    "    @abstractmethod\n",
    "    def area(self):\n",
    "        pass\n",
    "\n",
    "class Circle(Shape):\n",
    "    def __init__(self, radius):\n",
    "        self.radius = radius\n",
    "\n",
    "    def area(self):\n",
    "        return math.pi * (self.radius ** 2)\n",
    "\n",
    "class Ractangle(Shape):\n",
    "    def __init__(self,l,b):\n",
    "        self.l =l\n",
    "        self.b = b\n",
    "    def area(self):\n",
    "        return self.l * self.b\n",
    "\n",
    "circle = Circle(5)\n",
    "rectangle = Ractangle(3,4)\n",
    "print(\"Area of Circle :\", circle.area())\n",
    "print(\"Area of Rectangle :\", rectangle.area())"
   ]
  },
  {
   "cell_type": "markdown",
   "id": "79d1cb07-776b-4ec2-bf21-a187c89351bc",
   "metadata": {},
   "source": [
    "## 9. Demonstrate polymorphism by creating a function that can work with different shape objects to calculate and print their areas."
   ]
  },
  {
   "cell_type": "markdown",
   "id": "e2cd558d-e4ba-46db-92f0-847539acbdb2",
   "metadata": {},
   "source": [
    "## Polymorphism :\n",
    "### Polymorphism allows a single function to operate on different types of objects, provided they share a common interface"
   ]
  },
  {
   "cell_type": "code",
   "execution_count": 58,
   "id": "0f2467e5-da24-4395-afb3-19a2a36be7f3",
   "metadata": {},
   "outputs": [
    {
     "name": "stdout",
     "output_type": "stream",
     "text": [
      "The area is: 78.54\n",
      "The area is: 24.00\n",
      "The area is: 153.94\n",
      "The area is: 30.00\n"
     ]
    }
   ],
   "source": [
    "from abc import ABC, abstractmethod\n",
    "import math\n",
    "\n",
    "# Abstract base class\n",
    "class Shape(ABC):\n",
    "    @abstractmethod\n",
    "    def area(self):\n",
    "        pass\n",
    "\n",
    "# Subclass implementing the area method for a Circle\n",
    "class Circle(Shape):\n",
    "    def __init__(self, radius):\n",
    "        self.radius = radius\n",
    "\n",
    "    def area(self):\n",
    "        return math.pi * (self.radius ** 2)\n",
    "\n",
    "# Subclass implementing the area method for a Rectangle\n",
    "class Rectangle(Shape):\n",
    "    def __init__(self, width, height):\n",
    "        self.width = width\n",
    "        self.height = height\n",
    "\n",
    "    def area(self):\n",
    "        return self.width * self.height\n",
    "\n",
    "# Function demonstrating polymorphism\n",
    "def print_area(shape):\n",
    "    print(f\"The area is: {shape.area():.2f}\")\n",
    "\n",
    "# Example usage with different shapes\n",
    "shapes = [Circle(5), Rectangle(4, 6), Circle(7), Rectangle(10, 3)]\n",
    "\n",
    "for shape in shapes:\n",
    "    print_area(shape)"
   ]
  },
  {
   "cell_type": "markdown",
   "id": "6cb9e01e-5216-48d9-b93f-da6966517534",
   "metadata": {},
   "source": [
    "## 10. Implement encapsulation in a `BankAccount` class with private attributes for `balance` and `account_number`. Include methods for deposit, withdrawal, and balance inquiry."
   ]
  },
  {
   "cell_type": "code",
   "execution_count": 65,
   "id": "58c7f3c9-5103-4ecc-ae5f-0e29543da9f3",
   "metadata": {},
   "outputs": [
    {
     "name": "stdout",
     "output_type": "stream",
     "text": [
      "Account Number: 1234567\n",
      "Initial Balance: 200\n",
      "Deposited : 1000. New Balance : 1200\n",
      "Withdrew : 700. New Balance : 500\n",
      "Final Balance: 500\n"
     ]
    }
   ],
   "source": [
    "class BankAccount:\n",
    "    def __init__(self,account_number, initial_balance = 0):\n",
    "        #private attribute\n",
    "        self.__account_number = account_number\n",
    "        self.__balance = initial_balance\n",
    "    # Method of depositing money\n",
    "    def deposit(self,amount):\n",
    "        if amount > 0:\n",
    "            self.__balance += amount\n",
    "            print(f\"Deposited : {amount}. New Balance : {self.__balance}\")\n",
    "        else:\n",
    "            print(\"Deposited amount must be positive.\")\n",
    "    # Method of withdrawing of money from account\n",
    "    def withdraw(self,amount):\n",
    "        if amount > 0:\n",
    "            if amount <= self.__balance:\n",
    "                self.__balance -= amount\n",
    "                print(f\"Withdrew : {amount}. New Balance : {self.__balance}\")\n",
    "            else:\n",
    "                print(\"Insufficient Balance\")\n",
    "        else:\n",
    "            print(\"Withdrew Amount Must be positive\")\n",
    "    # Method for checking current balance in  bank account\n",
    "    def get_balance(self):\n",
    "        return self.__balance\n",
    "    # Method for retrieving bank account number\n",
    "    def get_account_number(self):\n",
    "        return self.__account_number\n",
    "\n",
    "account = BankAccount(1234567,200)\n",
    "print(f\"Account Number: {account.get_account_number()}\")\n",
    "print(f\"Initial Balance: {account.get_balance()}\")\n",
    "\n",
    "account.deposit(1000)\n",
    "account.withdraw(700)\n",
    "\n",
    "print(f\"Final Balance: {account.get_balance()}\")"
   ]
  },
  {
   "cell_type": "markdown",
   "id": "16da3cb4-15ad-41ba-b778-d2b92df871a7",
   "metadata": {},
   "source": [
    "## 11. Write a class that overrides the `__str__` and `__add__` magic methods. What will these methods allow you to do?"
   ]
  },
  {
   "cell_type": "markdown",
   "id": "7cd842d2-6892-42ec-b86a-1e6f46c56337",
   "metadata": {},
   "source": [
    "### In Python, magic methods (also known as dunder methods) are special methods that allow you to define how objects of your class behave with built-in operations. The __str__ method is used to define a human-readable string representation of an object, while the __add__ method allows you to define the behavior of the addition operator (+) for instances of your class."
   ]
  },
  {
   "cell_type": "code",
   "execution_count": 67,
   "id": "28deb5ad-94f7-443a-9c0e-c80dc88b95ea",
   "metadata": {},
   "outputs": [
    {
     "name": "stdout",
     "output_type": "stream",
     "text": [
      "Vector(2, 3)\n",
      "Vector(5, 7)\n",
      "Vector(7, 10)\n"
     ]
    }
   ],
   "source": [
    "# Here’s a class Vector that overrides both the __str__ and __add__ magic methods:\n",
    "\n",
    "class Vector:\n",
    "    def __init__(self, x, y):\n",
    "        self.x = x\n",
    "        self.y = y\n",
    "    \n",
    "    def __str__(self):\n",
    "        return f\"Vector({self.x}, {self.y})\"  # Human-readable representation\n",
    "\n",
    "    def __add__(self, other):\n",
    "        if isinstance(other, Vector):\n",
    "            return Vector(self.x + other.x, self.y + other.y)  # Define how to add two Vector objects\n",
    "        return NotImplemented  # Return NotImplemented if other is not a Vector\n",
    "\n",
    "# Example usage\n",
    "v1 = Vector(2, 3)\n",
    "v2 = Vector(5, 7)\n",
    "\n",
    "# Printing the vector using __str__\n",
    "print(v1)  # Output: Vector(2, 3)\n",
    "print(v2)  # Output: Vector(5, 7)\n",
    "\n",
    "# Adding two vectors using __add__\n",
    "v3 = v1 + v2\n",
    "print(v3)  # Output: Vector(7, 10)\n"
   ]
  },
  {
   "cell_type": "markdown",
   "id": "0a721188-8981-4696-8fb4-bbb7fa664e40",
   "metadata": {},
   "source": [
    "## 12. Create a decorator that measures and prints the execution time of a function."
   ]
  },
  {
   "cell_type": "code",
   "execution_count": 68,
   "id": "35b01638-91e8-4a7e-b86c-fe3e3beab4e8",
   "metadata": {},
   "outputs": [],
   "source": [
    "import time\n",
    "def timer_decorator(func):\n",
    "    def timer():\n",
    "        start = time.time()\n",
    "        func()\n",
    "        end = time.time()\n",
    "        print(\"The time for executing the code\", end-start)\n",
    "    return timer"
   ]
  },
  {
   "cell_type": "code",
   "execution_count": 69,
   "id": "4ad601e8-e68c-4f9b-9a17-17dfcc316ac1",
   "metadata": {},
   "outputs": [],
   "source": [
    "@timer_decorator\n",
    "def func_time():\n",
    "    print(15*16)"
   ]
  },
  {
   "cell_type": "code",
   "execution_count": 70,
   "id": "f20cbdf2-8bd8-482b-ad9f-3a57e758be22",
   "metadata": {},
   "outputs": [
    {
     "name": "stdout",
     "output_type": "stream",
     "text": [
      "240\n",
      "The time for executing the code 0.0019989013671875\n"
     ]
    }
   ],
   "source": [
    "func_time()"
   ]
  },
  {
   "cell_type": "markdown",
   "id": "24daa629-9394-4180-af89-0aeb9cebc686",
   "metadata": {},
   "source": [
    "## 13. Explain the concept of the Diamond Problem in multiple inheritance. How does Python resolve it?"
   ]
  },
  {
   "cell_type": "markdown",
   "id": "c16cfd7b-a0e6-4756-be21-c5cd9d22da23",
   "metadata": {},
   "source": [
    "## Diamond Problem:\n",
    "### Consider the following class hierarchy:"
   ]
  },
  {
   "cell_type": "raw",
   "id": "d7a261cd-602d-4d19-9d5f-63b0d174d67d",
   "metadata": {},
   "source": [
    "     A\n",
    "    / \\\n",
    "   B   C\n",
    "    \\ /\n",
    "     D"
   ]
  },
  {
   "cell_type": "markdown",
   "id": "b4f9fd27-d6ca-4079-a349-c6151d4c9d7b",
   "metadata": {},
   "source": [
    "### Class A is a base class.\n",
    "### Class B and Class C inherits from Class A\n",
    "### Class D inherits from both Class B and Class C"
   ]
  },
  {
   "cell_type": "markdown",
   "id": "82c1578e-28ee-40c3-84b8-a6413127fec1",
   "metadata": {},
   "source": [
    "### Python uses a Method Resolution Order(MRO) algorithm called C3 Linearization to resolve the ambiguity."
   ]
  },
  {
   "cell_type": "code",
   "execution_count": 73,
   "id": "3baa8e2f-e921-43d5-aa07-d4b7b77a66d5",
   "metadata": {},
   "outputs": [
    {
     "name": "stdout",
     "output_type": "stream",
     "text": [
      "Hello from B\n"
     ]
    }
   ],
   "source": [
    "class A:\n",
    "    def greet(self):\n",
    "        print(\"Hello from A\")\n",
    "\n",
    "class B(A):\n",
    "    def greet(self):\n",
    "        print(\"Hello from B\")\n",
    "\n",
    "class C(A):\n",
    "    def greet(self):\n",
    "        print(\"Hello from C\")\n",
    "\n",
    "class D(B, C):\n",
    "    pass\n",
    "\n",
    "# Create an instance of D\n",
    "d = D()\n",
    "d.greet()"
   ]
  },
  {
   "cell_type": "markdown",
   "id": "6905a5a4-53ab-41be-adcb-150a96619cc5",
   "metadata": {},
   "source": [
    "## 14. Write a class method that keeps track of the number of instances created from a class."
   ]
  },
  {
   "cell_type": "code",
   "execution_count": 74,
   "id": "7b6744bf-304d-4179-b3e3-9b87574a79b0",
   "metadata": {},
   "outputs": [
    {
     "name": "stdout",
     "output_type": "stream",
     "text": [
      "Number of instances created: 3\n"
     ]
    }
   ],
   "source": [
    "class MyClass:\n",
    "    instance_count = 0  # Class variable to keep track of instance count\n",
    "\n",
    "    def __init__(self):\n",
    "        MyClass.increment_instance_count()\n",
    "\n",
    "    @classmethod\n",
    "    def increment_instance_count(cls):\n",
    "        cls.instance_count += 1  # Increment the class variable\n",
    "    \n",
    "    @classmethod\n",
    "    def get_instance_count(cls):\n",
    "        return cls.instance_count  # Return the current instance count\n",
    "\n",
    "# Example usage\n",
    "obj1 = MyClass()\n",
    "obj2 = MyClass()\n",
    "obj3 = MyClass()\n",
    "\n",
    "print(f\"Number of instances created: {MyClass.get_instance_count()}\")"
   ]
  },
  {
   "cell_type": "markdown",
   "id": "3c652a1d-66ae-4815-acd4-a32735ad81fd",
   "metadata": {},
   "source": [
    "## 15. Implement a static method in a class that checks if a given year is a leap year."
   ]
  },
  {
   "cell_type": "code",
   "execution_count": 76,
   "id": "8f8b1d56-78e8-43ed-a999-c8834c0c269a",
   "metadata": {},
   "outputs": [
    {
     "name": "stdout",
     "output_type": "stream",
     "text": [
      "True\n",
      "False\n",
      "True\n"
     ]
    }
   ],
   "source": [
    "class LeapYear:\n",
    "\n",
    "    @staticmethod\n",
    "    def is_leap_year(year):\n",
    "        if (year % 4 == 0 and year % 100 != 0) or (year % 400 == 0):\n",
    "            return True\n",
    "        else:\n",
    "            return False\n",
    "\n",
    "\n",
    "print(LeapYear.is_leap_year(2024))\n",
    "print(LeapYear.is_leap_year(2026))\n",
    "print(LeapYear.is_leap_year(2028))"
   ]
  },
  {
   "cell_type": "code",
   "execution_count": null,
   "id": "35b67e8c-6fe5-43d4-a5fb-bd8fdf2058ff",
   "metadata": {},
   "outputs": [],
   "source": []
  }
 ],
 "metadata": {
  "kernelspec": {
   "display_name": "Python 3 (ipykernel)",
   "language": "python",
   "name": "python3"
  },
  "language_info": {
   "codemirror_mode": {
    "name": "ipython",
    "version": 3
   },
   "file_extension": ".py",
   "mimetype": "text/x-python",
   "name": "python",
   "nbconvert_exporter": "python",
   "pygments_lexer": "ipython3",
   "version": "3.12.5"
  }
 },
 "nbformat": 4,
 "nbformat_minor": 5
}
