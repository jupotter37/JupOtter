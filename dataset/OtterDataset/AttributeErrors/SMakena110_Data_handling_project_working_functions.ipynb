{
 "cells": [
  {
   "cell_type": "code",
   "execution_count": 1,
   "id": "f0d190aa-9196-45e3-9a14-35370d7f75e1",
   "metadata": {},
   "outputs": [],
   "source": [
    "import pandas as pd"
   ]
  },
  {
   "cell_type": "code",
   "execution_count": 2,
   "id": "c1075231-1970-441f-b060-6183f34daa38",
   "metadata": {},
   "outputs": [],
   "source": [
    "df = pd.read_csv('data\\Public Debt (Ksh Million).csv')"
   ]
  },
  {
   "cell_type": "code",
   "execution_count": 37,
   "id": "a3fed507-a791-4898-8da9-0c209972af36",
   "metadata": {},
   "outputs": [],
   "source": [
    "'''\n",
    "    take dataframe column and provide a \n",
    "    sum/total of those column\n",
    "    args:\n",
    "         dataframe column : series\n",
    "         return\n",
    "         sum of values in the column -- float\n",
    "'''\n",
    "def add_numbers(df_col):\n",
    "    column_sum = 0\n",
    "    # convert column to list\n",
    "    df_col = list(df_col)\n",
    "    # for each item in the list add it to sum\n",
    "    for num in df_col:\n",
    "        num = float(num.replace(',',''))\n",
    "        column_sum += num\n",
    "    return column_sum"
   ]
  },
  {
   "cell_type": "code",
   "execution_count": 39,
   "id": "ad5b5a34-e052-47db-ba30-6cce9eee6707",
   "metadata": {},
   "outputs": [
    {
     "data": {
      "text/html": [
       "<div>\n",
       "<style scoped>\n",
       "    .dataframe tbody tr th:only-of-type {\n",
       "        vertical-align: middle;\n",
       "    }\n",
       "\n",
       "    .dataframe tbody tr th {\n",
       "        vertical-align: top;\n",
       "    }\n",
       "\n",
       "    .dataframe thead th {\n",
       "        text-align: right;\n",
       "    }\n",
       "</style>\n",
       "<table border=\"1\" class=\"dataframe\">\n",
       "  <thead>\n",
       "    <tr style=\"text-align: right;\">\n",
       "      <th></th>\n",
       "      <th>Year</th>\n",
       "      <th>Month</th>\n",
       "      <th>Domestic Debt</th>\n",
       "      <th>External Debt</th>\n",
       "      <th>Total</th>\n",
       "    </tr>\n",
       "  </thead>\n",
       "  <tbody>\n",
       "    <tr>\n",
       "      <th>0</th>\n",
       "      <td>2021</td>\n",
       "      <td>December</td>\n",
       "      <td>3959523.3</td>\n",
       "      <td>4,174,371.53</td>\n",
       "      <td>8,206,739.71</td>\n",
       "    </tr>\n",
       "    <tr>\n",
       "      <th>1</th>\n",
       "      <td>2021</td>\n",
       "      <td>November</td>\n",
       "      <td>3959523.3</td>\n",
       "      <td>4,109,282.85</td>\n",
       "      <td>8,117,360.15</td>\n",
       "    </tr>\n",
       "    <tr>\n",
       "      <th>2</th>\n",
       "      <td>2021</td>\n",
       "      <td>October</td>\n",
       "      <td>3959523.3</td>\n",
       "      <td>4,083,124.54</td>\n",
       "      <td>8,042,647.84</td>\n",
       "    </tr>\n",
       "    <tr>\n",
       "      <th>3</th>\n",
       "      <td>2021</td>\n",
       "      <td>September</td>\n",
       "      <td>3959523.3</td>\n",
       "      <td>4,062,504.78</td>\n",
       "      <td>8,000,282.23</td>\n",
       "    </tr>\n",
       "    <tr>\n",
       "      <th>4</th>\n",
       "      <td>2021</td>\n",
       "      <td>August</td>\n",
       "      <td>3959523.3</td>\n",
       "      <td>4,054,862.85</td>\n",
       "      <td>7,919,738.63</td>\n",
       "    </tr>\n",
       "  </tbody>\n",
       "</table>\n",
       "</div>"
      ],
      "text/plain": [
       "   Year      Month  Domestic Debt External Debt         Total\n",
       "0  2021   December      3959523.3  4,174,371.53  8,206,739.71\n",
       "1  2021   November      3959523.3  4,109,282.85  8,117,360.15\n",
       "2  2021    October      3959523.3  4,083,124.54  8,042,647.84\n",
       "3  2021  September      3959523.3  4,062,504.78  8,000,282.23\n",
       "4  2021     August      3959523.3  4,054,862.85  7,919,738.63"
      ]
     },
     "execution_count": 39,
     "metadata": {},
     "output_type": "execute_result"
    }
   ],
   "source": [
    "df.head()"
   ]
  },
  {
   "cell_type": "code",
   "execution_count": 41,
   "id": "f0f749f5-a7ca-444e-bd66-c8f0a9c30b1b",
   "metadata": {},
   "outputs": [
    {
     "data": {
      "text/html": [
       "<div>\n",
       "<style scoped>\n",
       "    .dataframe tbody tr th:only-of-type {\n",
       "        vertical-align: middle;\n",
       "    }\n",
       "\n",
       "    .dataframe tbody tr th {\n",
       "        vertical-align: top;\n",
       "    }\n",
       "\n",
       "    .dataframe thead th {\n",
       "        text-align: right;\n",
       "    }\n",
       "</style>\n",
       "<table border=\"1\" class=\"dataframe\">\n",
       "  <thead>\n",
       "    <tr style=\"text-align: right;\">\n",
       "      <th></th>\n",
       "      <th>Year</th>\n",
       "      <th>Month</th>\n",
       "      <th>Domestic Debt</th>\n",
       "      <th>External Debt</th>\n",
       "      <th>Total</th>\n",
       "    </tr>\n",
       "  </thead>\n",
       "  <tbody>\n",
       "    <tr>\n",
       "      <th>0</th>\n",
       "      <td>2021</td>\n",
       "      <td>December</td>\n",
       "      <td>3959523.3</td>\n",
       "      <td>4,174,371.53</td>\n",
       "      <td>8,206,739.71</td>\n",
       "    </tr>\n",
       "    <tr>\n",
       "      <th>1</th>\n",
       "      <td>2021</td>\n",
       "      <td>November</td>\n",
       "      <td>3959523.3</td>\n",
       "      <td>4,109,282.85</td>\n",
       "      <td>8,117,360.15</td>\n",
       "    </tr>\n",
       "    <tr>\n",
       "      <th>2</th>\n",
       "      <td>2021</td>\n",
       "      <td>October</td>\n",
       "      <td>3959523.3</td>\n",
       "      <td>4,083,124.54</td>\n",
       "      <td>8,042,647.84</td>\n",
       "    </tr>\n",
       "    <tr>\n",
       "      <th>3</th>\n",
       "      <td>2021</td>\n",
       "      <td>September</td>\n",
       "      <td>3959523.3</td>\n",
       "      <td>4,062,504.78</td>\n",
       "      <td>8,000,282.23</td>\n",
       "    </tr>\n",
       "    <tr>\n",
       "      <th>4</th>\n",
       "      <td>2021</td>\n",
       "      <td>August</td>\n",
       "      <td>3959523.3</td>\n",
       "      <td>4,054,862.85</td>\n",
       "      <td>7,919,738.63</td>\n",
       "    </tr>\n",
       "  </tbody>\n",
       "</table>\n",
       "</div>"
      ],
      "text/plain": [
       "   Year      Month  Domestic Debt External Debt         Total\n",
       "0  2021   December      3959523.3  4,174,371.53  8,206,739.71\n",
       "1  2021   November      3959523.3  4,109,282.85  8,117,360.15\n",
       "2  2021    October      3959523.3  4,083,124.54  8,042,647.84\n",
       "3  2021  September      3959523.3  4,062,504.78  8,000,282.23\n",
       "4  2021     August      3959523.3  4,054,862.85  7,919,738.63"
      ]
     },
     "execution_count": 41,
     "metadata": {},
     "output_type": "execute_result"
    }
   ],
   "source": [
    "selected_df = df[:5]\n",
    "selected_df"
   ]
  },
  {
   "cell_type": "code",
   "execution_count": 43,
   "id": "dded246c-c9fa-4b08-9194-dfbd3cc13188",
   "metadata": {},
   "outputs": [
    {
     "ename": "AttributeError",
     "evalue": "'numpy.float64' object has no attribute 'replace'",
     "output_type": "error",
     "traceback": [
      "\u001b[1;31m---------------------------------------------------------------------------\u001b[0m",
      "\u001b[1;31mAttributeError\u001b[0m                            Traceback (most recent call last)",
      "Cell \u001b[1;32mIn[43], line 1\u001b[0m\n\u001b[1;32m----> 1\u001b[0m df[\u001b[38;5;124m\"\u001b[39m\u001b[38;5;124mDomestic Debt\u001b[39m\u001b[38;5;124m\"\u001b[39m] \u001b[38;5;241m=\u001b[39m df[\u001b[38;5;124m\"\u001b[39m\u001b[38;5;124mDomestic Debt\u001b[39m\u001b[38;5;124m\"\u001b[39m][\u001b[38;5;241m2\u001b[39m]\u001b[38;5;241m.\u001b[39mreplace(\u001b[38;5;124m'\u001b[39m\u001b[38;5;124m,\u001b[39m\u001b[38;5;124m'\u001b[39m, \u001b[38;5;124m'\u001b[39m\u001b[38;5;124m'\u001b[39m)\n\u001b[0;32m      2\u001b[0m df[\u001b[38;5;124m\"\u001b[39m\u001b[38;5;124mDomestic Debt\u001b[39m\u001b[38;5;124m\"\u001b[39m] \u001b[38;5;241m=\u001b[39mdf[\u001b[38;5;124m\"\u001b[39m\u001b[38;5;124mDomestic Debt\u001b[39m\u001b[38;5;124m\"\u001b[39m]\u001b[38;5;241m.\u001b[39mastype(\u001b[38;5;28mfloat\u001b[39m)\n",
      "\u001b[1;31mAttributeError\u001b[0m: 'numpy.float64' object has no attribute 'replace'"
     ]
    }
   ],
   "source": [
    "df[\"Domestic Debt\"] = df[\"Domestic Debt\"][2].replace(',', '')\n",
    "df[\"Domestic Debt\"] =df[\"Domestic Debt\"].astype(float)"
   ]
  },
  {
   "cell_type": "code",
   "execution_count": 45,
   "id": "a568ed67-0dca-40a6-8e61-e8bdfe8af80d",
   "metadata": {},
   "outputs": [],
   "source": [
    "df[\"External Debt\"] = df[\"External Debt\"].apply"
   ]
  },
  {
   "cell_type": "code",
   "execution_count": 47,
   "id": "41b53d2c-9ace-49e5-8865-4068aabca065",
   "metadata": {},
   "outputs": [
    {
     "data": {
      "text/plain": [
       "0      8,206,739.71\n",
       "1      8,117,360.15\n",
       "2      8,042,647.84\n",
       "3      8,000,282.23\n",
       "4      7,919,738.63\n",
       "           ...     \n",
       "257      597,029.37\n",
       "258      601,821.00\n",
       "259      598,263.22\n",
       "260      502,253.00\n",
       "261      503,554.00\n",
       "Name: Total, Length: 262, dtype: object"
      ]
     },
     "execution_count": 47,
     "metadata": {},
     "output_type": "execute_result"
    }
   ],
   "source": [
    "df[\"Total\"]"
   ]
  },
  {
   "cell_type": "code",
   "execution_count": 49,
   "id": "107d0c8d-0f8e-4142-ae78-fc156b6d7d7d",
   "metadata": {},
   "outputs": [
    {
     "data": {
      "text/plain": [
       "0    8,206,739.71\n",
       "1    8,117,360.15\n",
       "2    8,042,647.84\n",
       "3    8,000,282.23\n",
       "4    7,919,738.63\n",
       "Name: Total, dtype: object"
      ]
     },
     "execution_count": 49,
     "metadata": {},
     "output_type": "execute_result"
    }
   ],
   "source": [
    "selected_totals = selected_df[\"Total\"]\n",
    "selected_totals"
   ]
  },
  {
   "cell_type": "code",
   "execution_count": 51,
   "id": "6607b7b6-f10c-4d3d-9bd2-41d9219670a6",
   "metadata": {},
   "outputs": [],
   "source": [
    "selected_df = df[:5]"
   ]
  },
  {
   "cell_type": "code",
   "execution_count": 53,
   "id": "a749991a-ce57-4e4a-8e03-25bb79db94f1",
   "metadata": {},
   "outputs": [],
   "source": [
    "selected_totals = selected_df ['Total']\n",
    "selected_external_debt =selected_df ['External Debt']"
   ]
  },
  {
   "cell_type": "code",
   "execution_count": 55,
   "id": "ffc90389-e3cc-448a-b0f7-35b205cbfc2a",
   "metadata": {},
   "outputs": [
    {
     "ename": "AttributeError",
     "evalue": "'function' object has no attribute 'replace'",
     "output_type": "error",
     "traceback": [
      "\u001b[1;31m---------------------------------------------------------------------------\u001b[0m",
      "\u001b[1;31mAttributeError\u001b[0m                            Traceback (most recent call last)",
      "Cell \u001b[1;32mIn[55], line 2\u001b[0m\n\u001b[0;32m      1\u001b[0m total_sum \u001b[38;5;241m=\u001b[39m add_numbers(selected_df [\u001b[38;5;124m'\u001b[39m\u001b[38;5;124mTotal\u001b[39m\u001b[38;5;124m'\u001b[39m])\n\u001b[1;32m----> 2\u001b[0m total_external_debt \u001b[38;5;241m=\u001b[39m add_numbers(selected_df [\u001b[38;5;124m'\u001b[39m\u001b[38;5;124mExternal Debt\u001b[39m\u001b[38;5;124m'\u001b[39m])\n\u001b[0;32m      3\u001b[0m total_external_debt \u001b[38;5;241m=\u001b[39m add_numbers(selected_df [\u001b[38;5;124m'\u001b[39m\u001b[38;5;124mDomestic Debt\u001b[39m\u001b[38;5;124m'\u001b[39m])\n",
      "Cell \u001b[1;32mIn[37], line 15\u001b[0m, in \u001b[0;36madd_numbers\u001b[1;34m(df_col)\u001b[0m\n\u001b[0;32m     13\u001b[0m \u001b[38;5;66;03m# for each item in the list add it to sum\u001b[39;00m\n\u001b[0;32m     14\u001b[0m \u001b[38;5;28;01mfor\u001b[39;00m num \u001b[38;5;129;01min\u001b[39;00m df_col:\n\u001b[1;32m---> 15\u001b[0m     num \u001b[38;5;241m=\u001b[39m \u001b[38;5;28mfloat\u001b[39m(num\u001b[38;5;241m.\u001b[39mreplace(\u001b[38;5;124m'\u001b[39m\u001b[38;5;124m,\u001b[39m\u001b[38;5;124m'\u001b[39m,\u001b[38;5;124m'\u001b[39m\u001b[38;5;124m'\u001b[39m))\n\u001b[0;32m     16\u001b[0m     column_sum \u001b[38;5;241m+\u001b[39m\u001b[38;5;241m=\u001b[39m num\n\u001b[0;32m     17\u001b[0m \u001b[38;5;28;01mreturn\u001b[39;00m column_sum\n",
      "\u001b[1;31mAttributeError\u001b[0m: 'function' object has no attribute 'replace'"
     ]
    }
   ],
   "source": [
    "total_sum = add_numbers(selected_df ['Total'])\n",
    "total_external_debt = add_numbers(selected_df ['External Debt'])\n",
    "total_external_debt = add_numbers(selected_df ['Domestic Debt'])"
   ]
  },
  {
   "cell_type": "code",
   "execution_count": 57,
   "id": "a2a9852c-7dde-4a80-8244-79fad0094ed9",
   "metadata": {},
   "outputs": [
    {
     "ename": "SyntaxError",
     "evalue": "f-string: invalid syntax. Perhaps you forgot a comma? (3568742498.py, line 3)",
     "output_type": "error",
     "traceback": [
      "\u001b[1;36m  Cell \u001b[1;32mIn[57], line 3\u001b[1;36m\u001b[0m\n\u001b[1;33m    and the total domestic debt{Domestic Debt}')\u001b[0m\n\u001b[1;37m     ^\u001b[0m\n\u001b[1;31mSyntaxError\u001b[0m\u001b[1;31m:\u001b[0m f-string: invalid syntax. Perhaps you forgot a comma?\n"
     ]
    }
   ],
   "source": [
    "print(f'The total sum over the years was {total_sum}\\\n",
    "However, the total external debt was {total_external_debt} \\\n",
    "and the total domestic debt{Domestic Debt}')"
   ]
  },
  {
   "cell_type": "code",
   "execution_count": null,
   "id": "208b5b1e-5622-4d79-8e3f-dc6da1a452a6",
   "metadata": {},
   "outputs": [],
   "source": []
  }
 ],
 "metadata": {
  "kernelspec": {
   "display_name": "Python 3 (ipykernel)",
   "language": "python",
   "name": "python3"
  },
  "language_info": {
   "codemirror_mode": {
    "name": "ipython",
    "version": 3
   },
   "file_extension": ".py",
   "mimetype": "text/x-python",
   "name": "python",
   "nbconvert_exporter": "python",
   "pygments_lexer": "ipython3",
   "version": "3.11.7"
  }
 },
 "nbformat": 4,
 "nbformat_minor": 5
}
