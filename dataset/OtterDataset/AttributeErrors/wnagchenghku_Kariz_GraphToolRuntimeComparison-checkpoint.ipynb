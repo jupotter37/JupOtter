{
 "cells": [
  {
   "cell_type": "code",
   "execution_count": 1,
   "metadata": {},
   "outputs": [
    {
     "ename": "NameError",
     "evalue": "name 'hello' is not defined",
     "output_type": "error",
     "traceback": [
      "\u001b[0;31m---------------------------------------------------------------------------\u001b[0m",
      "\u001b[0;31mNameError\u001b[0m                                 Traceback (most recent call last)",
      "\u001b[0;32m<ipython-input-1-1cd80308eb4c>\u001b[0m in \u001b[0;36m<module>\u001b[0;34m\u001b[0m\n\u001b[0;32m----> 1\u001b[0;31m \u001b[0mprint\u001b[0m\u001b[0;34m(\u001b[0m\u001b[0mhello\u001b[0m\u001b[0;34m)\u001b[0m\u001b[0;34m\u001b[0m\u001b[0;34m\u001b[0m\u001b[0m\n\u001b[0m",
      "\u001b[0;31mNameError\u001b[0m: name 'hello' is not defined"
     ]
    }
   ],
   "source": [
    "print(hello)\n"
   ]
  },
  {
   "cell_type": "code",
   "execution_count": 2,
   "metadata": {},
   "outputs": [
    {
     "name": "stdout",
     "output_type": "stream",
     "text": [
      "hello\n"
     ]
    }
   ],
   "source": [
    "print('hello')\n"
   ]
  },
  {
   "cell_type": "code",
   "execution_count": 3,
   "metadata": {},
   "outputs": [
    {
     "ename": "SyntaxError",
     "evalue": "invalid syntax (<ipython-input-3-93584ab89618>, line 1)",
     "output_type": "error",
     "traceback": [
      "\u001b[0;36m  File \u001b[0;32m\"<ipython-input-3-93584ab89618>\"\u001b[0;36m, line \u001b[0;32m1\u001b[0m\n\u001b[0;31m    Last login: Tue Jun 18 18:57:07 on ttys000\u001b[0m\n\u001b[0m             ^\u001b[0m\n\u001b[0;31mSyntaxError\u001b[0m\u001b[0;31m:\u001b[0m invalid syntax\n"
     ]
    }
   ],
   "source": [
    "from graph_tool.all import *\n",
    "import graph_tool.all as gt\n",
    "\n",
    "# Example G\n",
    "\n",
    "g = Graph()\n",
    "v0 = g.add_vertex()\n",
    "v1 = g.add_vertex()\n",
    "v2 = g.add_vertex()\n",
    "v3 = g.add_vertex()\n",
    "v4 = g.add_vertex()\n",
    "v5 = g.add_vertex()\n",
    "v6 = g.add_vertex()\n",
    "v7 = g.add_vertex()\n",
    "v8 = g.add_vertex()\n",
    "v9 = g.add_vertex()\n",
    "v10 = g.add_vertex()\n",
    "v11 = g.add_vertex()\n",
    "v12 = g.add_vertex()\n",
    "v13 = g.add_vertex()\n",
    "v14 = g.add_vertex()\n",
    "v15 = g.add_vertex()\n",
    "g.add_edge(v0,v1)\n",
    "g.add_edge(v0,v2)\n",
    "g.add_edge(v0,v4)\n",
    "g.add_edge(v0,v11)\n",
    "g.add_edge(v1,v3)\n",
    "g.add_edge(v1,v4)\n",
    "g.add_edge(v2,v5)\n",
    "g.add_edge(v3,v6)\n",
    "g.add_edge(v4,v6)\n",
    "g.add_edge(v5,v4)\n",
    "g.add_edge(v5,v6)\n",
    "g.add_edge(v7,v5)\n",
    "g.add_edge(v7,v8)\n",
    "g.add_edge(v9,v8)\n",
    "g.add_edge(v10,v6)\n",
    "g.add_edge(v10,v8)"
   ]
  },
  {
   "cell_type": "code",
   "execution_count": 4,
   "metadata": {},
   "outputs": [],
   "source": [
    "from graph_tool.all import *\n",
    "\n"
   ]
  },
  {
   "cell_type": "code",
   "execution_count": 5,
   "metadata": {},
   "outputs": [],
   "source": [
    "import graph_tool.all as gt\n",
    "\n"
   ]
  },
  {
   "cell_type": "code",
   "execution_count": 6,
   "metadata": {},
   "outputs": [],
   "source": [
    "g = Graph()\n",
    "v0 = g.add_vertex()\n",
    "v1 = g.add_vertex()\n",
    "v2 = g.add_vertex()\n",
    "v3 = g.add_vertex()\n",
    "v4 = g.add_vertex()\n",
    "v5 = g.add_vertex()\n",
    "v6 = g.add_vertex()\n"
   ]
  },
  {
   "cell_type": "code",
   "execution_count": 7,
   "metadata": {},
   "outputs": [
    {
     "data": {
      "text/plain": [
       "<Edge object with source '10' and target '8' at 0x7f73b7e18f30>"
      ]
     },
     "execution_count": 7,
     "metadata": {},
     "output_type": "execute_result"
    }
   ],
   "source": [
    "v7 = g.add_vertex()\n",
    "v8 = g.add_vertex()\n",
    "v9 = g.add_vertex()\n",
    "v10 = g.add_vertex()\n",
    "v11 = g.add_vertex()\n",
    "v12 = g.add_vertex()\n",
    "v13 = g.add_vertex()\n",
    "v14 = g.add_vertex()\n",
    "v15 = g.add_vertex()\n",
    "g.add_edge(v0,v1)\n",
    "g.add_edge(v0,v2)\n",
    "g.add_edge(v0,v4)\n",
    "g.add_edge(v0,v11)\n",
    "g.add_edge(v1,v3)\n",
    "g.add_edge(v1,v4)\n",
    "g.add_edge(v2,v5)\n",
    "g.add_edge(v3,v6)\n",
    "g.add_edge(v4,v6)\n",
    "g.add_edge(v5,v4)\n",
    "g.add_edge(v5,v6)\n",
    "g.add_edge(v7,v5)\n",
    "g.add_edge(v7,v8)\n",
    "g.add_edge(v9,v8)\n",
    "g.add_edge(v10,v6)\n",
    "g.add_edge(v10,v8)\n"
   ]
  },
  {
   "cell_type": "code",
   "execution_count": 8,
   "metadata": {},
   "outputs": [
    {
     "data": {
      "text/plain": [
       "<Edge object with source '13' and target '14' at 0x7f73b7e18eb8>"
      ]
     },
     "execution_count": 8,
     "metadata": {},
     "output_type": "execute_result"
    }
   ],
   "source": [
    "g.add_edge(v10,v12)\n",
    "g.add_edge(v10,v13)\n",
    "g.add_edge(v11,v13)\n",
    "g.add_edge(v13,v14)\n"
   ]
  },
  {
   "cell_type": "code",
   "execution_count": 9,
   "metadata": {},
   "outputs": [
    {
     "data": {
      "text/plain": [
       "<VertexPropertyMap object with value type 'vector<double>', for Graph 0x7f73c0ba2908, at 0x7f73c0ba2c18>"
      ]
     },
     "execution_count": 9,
     "metadata": {},
     "output_type": "execute_result"
    }
   ],
   "source": [
    "graph_draw(g, vertex_text=g.vertex_index, vertex_font_size=18, output_size=(200, 200), output=\"graphG.png\")"
   ]
  },
  {
   "cell_type": "code",
   "execution_count": 10,
   "metadata": {},
   "outputs": [],
   "source": [
    "g.remove_vertex(v15)"
   ]
  },
  {
   "cell_type": "code",
   "execution_count": 11,
   "metadata": {},
   "outputs": [
    {
     "data": {
      "text/plain": [
       "<VertexPropertyMap object with value type 'vector<double>', for Graph 0x7f73c0ba2908, at 0x7f73b5c10898>"
      ]
     },
     "execution_count": 11,
     "metadata": {},
     "output_type": "execute_result"
    }
   ],
   "source": [
    "graph_draw(g, vertex_text=g.vertex_index, vertex_font_size=18, output_size=(200, 200), output=\"graphG.png\")"
   ]
  },
  {
   "cell_type": "code",
   "execution_count": 12,
   "metadata": {},
   "outputs": [
    {
     "data": {
      "text/plain": [
       "<VertexPropertyMap object with value type 'vector<double>', for Graph 0x7f73b5c10c50, at 0x7f73b59f40b8>"
      ]
     },
     "execution_count": 12,
     "metadata": {},
     "output_type": "execute_result"
    }
   ],
   "source": [
    "h = Graph()\n",
    "w0 = h.add_vertex()\n",
    "w1 = h.add_vertex()\n",
    "w2 = h.add_vertex()\n",
    "w3 = h.add_vertex()\n",
    "w4 = h.add_vertex()\n",
    "w5 = h.add_vertex()\n",
    "w6 = h.add_vertex()\n",
    "w7 = h.add_vertex()\n",
    "w8 = h.add_vertex()\n",
    "w9 = h.add_vertex()\n",
    "h.add_edge(w0,w1)\n",
    "h.add_edge(w0,w2)\n",
    "h.add_edge(w0,w5)\n",
    "h.add_edge(w1,w2)\n",
    "h.add_edge(w1,w3)\n",
    "h.add_edge(w2,w3)\n",
    "h.add_edge(w2,w7)\n",
    "h.add_edge(w3,w4)\n",
    "h.add_edge(w6,w5)\n",
    "h.add_edge(w7,w9)\n",
    "h.add_edge(w8,w1)\n",
    "\n",
    "graph_draw(h, vertex_text=h.vertex_index, vertex_font_size=18, output_size=(200, 200), output=\"graphH.png\")\n"
   ]
  },
  {
   "cell_type": "code",
   "execution_count": 13,
   "metadata": {},
   "outputs": [
    {
     "data": {
      "text/plain": [
       "<VertexPropertyMap object with value type 'vector<double>', for Graph 0x7f73b5c104e0, at 0x7f73b5be51d0>"
      ]
     },
     "execution_count": 13,
     "metadata": {},
     "output_type": "execute_result"
    }
   ],
   "source": [
    "i = Graph()\n",
    "x0 = i.add_vertex()\n",
    "x1 = i.add_vertex()\n",
    "x2 = i.add_vertex()\n",
    "x3 = i.add_vertex()\n",
    "x4 = i.add_vertex()\n",
    "x5 = i.add_vertex()\n",
    "x6 = i.add_vertex()\n",
    "x7 = i.add_vertex()\n",
    "x8 = i.add_vertex()\n",
    "i.add_edge(x0,x2)\n",
    "i.add_edge(x0,x4)\n",
    "i.add_edge(x0,x6)\n",
    "i.add_edge(x2,x1)\n",
    "i.add_edge(x4,x3)\n",
    "i.add_edge(x1,x5)\n",
    "i.add_edge(x1,x7)\n",
    "i.add_edge(x3,x5)\n",
    "i.add_edge(x8,x5)\n",
    "\n",
    "graph_draw(i, vertex_text=i.vertex_index, vertex_font_size=18, output_size=(200, 200), output=\"graphI.png\")\n",
    "\n",
    "j = Graph()\n",
    "y0 = j.add_vertex()\n",
    "y1 = j.add_vertex()\n",
    "y2 = j.add_vertex()\n",
    "y3 = j.add_vertex()\n",
    "y4 = j.add_vertex()\n",
    "y5 = j.add_vertex()\n",
    "j.add_edge(y0,y1)\n",
    "j.add_edge(y1,y2)\n",
    "j.add_edge(y2,y3)\n",
    "j.add_edge(y3,y4)\n",
    "j.add_edge(y4,y5)\n",
    "\n",
    "graph_draw(j, vertex_text=j.vertex_index, vertex_font_size=18, output_size=(200, 200), output=\"graphJ.png\")\n",
    "\n"
   ]
  },
  {
   "cell_type": "code",
   "execution_count": 14,
   "metadata": {},
   "outputs": [
    {
     "data": {
      "text/plain": [
       "array([[0, 1],\n",
       "       [1, 2],\n",
       "       [2, 3],\n",
       "       [3, 4],\n",
       "       [4, 5]])"
      ]
     },
     "execution_count": 14,
     "metadata": {},
     "output_type": "execute_result"
    }
   ],
   "source": [
    "j.get_edges()\n",
    "\n"
   ]
  },
  {
   "cell_type": "code",
   "execution_count": 15,
   "metadata": {},
   "outputs": [
    {
     "data": {
      "text/plain": [
       "array([[0, 1, 0],\n",
       "       [1, 2, 1],\n",
       "       [2, 3, 2],\n",
       "       [3, 4, 3],\n",
       "       [4, 5, 4]])"
      ]
     },
     "execution_count": 15,
     "metadata": {},
     "output_type": "execute_result"
    }
   ],
   "source": [
    "j.get_edges([g.edge_index])\n"
   ]
  },
  {
   "cell_type": "code",
   "execution_count": 16,
   "metadata": {},
   "outputs": [],
   "source": [
    "j.list_properties()\n"
   ]
  },
  {
   "cell_type": "code",
   "execution_count": 17,
   "metadata": {},
   "outputs": [
    {
     "name": "stdout",
     "output_type": "stream",
     "text": [
      "(0, 1)\n"
     ]
    }
   ],
   "source": [
    "p = j.edges().next()\n",
    "print(p)"
   ]
  },
  {
   "cell_type": "code",
   "execution_count": 18,
   "metadata": {},
   "outputs": [
    {
     "name": "stdout",
     "output_type": "stream",
     "text": [
      "(0, 1)\n"
     ]
    }
   ],
   "source": [
    "p = j.edges().next()\n",
    "print(p)\n"
   ]
  },
  {
   "cell_type": "code",
   "execution_count": 19,
   "metadata": {},
   "outputs": [
    {
     "ename": "AttributeError",
     "evalue": "'Edge' object has no attribute 'next'",
     "output_type": "error",
     "traceback": [
      "\u001b[0;31m---------------------------------------------------------------------------\u001b[0m",
      "\u001b[0;31mAttributeError\u001b[0m                            Traceback (most recent call last)",
      "\u001b[0;32m<ipython-input-19-975a01aec48e>\u001b[0m in \u001b[0;36m<module>\u001b[0;34m\u001b[0m\n\u001b[0;32m----> 1\u001b[0;31m \u001b[0mp\u001b[0m \u001b[0;34m=\u001b[0m \u001b[0mj\u001b[0m\u001b[0;34m.\u001b[0m\u001b[0medges\u001b[0m\u001b[0;34m(\u001b[0m\u001b[0;34m)\u001b[0m\u001b[0;34m.\u001b[0m\u001b[0mnext\u001b[0m\u001b[0;34m(\u001b[0m\u001b[0;34m)\u001b[0m\u001b[0;34m.\u001b[0m\u001b[0mnext\u001b[0m\u001b[0;34m(\u001b[0m\u001b[0;34m)\u001b[0m\u001b[0;34m\u001b[0m\u001b[0;34m\u001b[0m\u001b[0m\n\u001b[0m\u001b[1;32m      2\u001b[0m \u001b[0mprint\u001b[0m\u001b[0;34m(\u001b[0m\u001b[0mp\u001b[0m\u001b[0;34m)\u001b[0m\u001b[0;34m\u001b[0m\u001b[0;34m\u001b[0m\u001b[0m\n",
      "\u001b[0;31mAttributeError\u001b[0m: 'Edge' object has no attribute 'next'"
     ]
    }
   ],
   "source": [
    "p = j.edges().next().next()\n",
    "print(p)\n"
   ]
  },
  {
   "cell_type": "code",
   "execution_count": 20,
   "metadata": {},
   "outputs": [
    {
     "ename": "TypeError",
     "evalue": "edges() takes 1 positional argument but 2 were given",
     "output_type": "error",
     "traceback": [
      "\u001b[0;31m---------------------------------------------------------------------------\u001b[0m",
      "\u001b[0;31mTypeError\u001b[0m                                 Traceback (most recent call last)",
      "\u001b[0;32m<ipython-input-20-94f745f69a0e>\u001b[0m in \u001b[0;36m<module>\u001b[0;34m\u001b[0m\n\u001b[0;32m----> 1\u001b[0;31m \u001b[0mp\u001b[0m \u001b[0;34m=\u001b[0m \u001b[0mj\u001b[0m\u001b[0;34m.\u001b[0m\u001b[0medges\u001b[0m\u001b[0;34m(\u001b[0m\u001b[0;36m3\u001b[0m\u001b[0;34m)\u001b[0m\u001b[0;34m\u001b[0m\u001b[0;34m\u001b[0m\u001b[0m\n\u001b[0m\u001b[1;32m      2\u001b[0m \u001b[0mprint\u001b[0m\u001b[0;34m(\u001b[0m\u001b[0mp\u001b[0m\u001b[0;34m)\u001b[0m\u001b[0;34m\u001b[0m\u001b[0;34m\u001b[0m\u001b[0m\n",
      "\u001b[0;31mTypeError\u001b[0m: edges() takes 1 positional argument but 2 were given"
     ]
    }
   ],
   "source": [
    "p = j.edges(3)\n",
    "print(p)\n"
   ]
  },
  {
   "cell_type": "code",
   "execution_count": 21,
   "metadata": {},
   "outputs": [
    {
     "ename": "TypeError",
     "evalue": "'EdgeIterator' object does not support indexing",
     "output_type": "error",
     "traceback": [
      "\u001b[0;31m---------------------------------------------------------------------------\u001b[0m",
      "\u001b[0;31mTypeError\u001b[0m                                 Traceback (most recent call last)",
      "\u001b[0;32m<ipython-input-21-442603dbc324>\u001b[0m in \u001b[0;36m<module>\u001b[0;34m\u001b[0m\n\u001b[0;32m----> 1\u001b[0;31m \u001b[0mp\u001b[0m \u001b[0;34m=\u001b[0m \u001b[0mj\u001b[0m\u001b[0;34m.\u001b[0m\u001b[0medges\u001b[0m\u001b[0;34m(\u001b[0m\u001b[0;34m)\u001b[0m\u001b[0;34m[\u001b[0m\u001b[0;36m3\u001b[0m\u001b[0;34m]\u001b[0m\u001b[0;34m\u001b[0m\u001b[0;34m\u001b[0m\u001b[0m\n\u001b[0m\u001b[1;32m      2\u001b[0m \u001b[0mprint\u001b[0m\u001b[0;34m(\u001b[0m\u001b[0mp\u001b[0m\u001b[0;34m)\u001b[0m\u001b[0;34m\u001b[0m\u001b[0;34m\u001b[0m\u001b[0m\n",
      "\u001b[0;31mTypeError\u001b[0m: 'EdgeIterator' object does not support indexing"
     ]
    }
   ],
   "source": [
    "p = j.edges()[3]\n",
    "print(p)"
   ]
  },
  {
   "cell_type": "code",
   "execution_count": 22,
   "metadata": {},
   "outputs": [
    {
     "ename": "ValueError",
     "evalue": "invalid property value type: weight",
     "output_type": "error",
     "traceback": [
      "\u001b[0;31m---------------------------------------------------------------------------\u001b[0m",
      "\u001b[0;31mValueError\u001b[0m                                Traceback (most recent call last)",
      "\u001b[0;32m<ipython-input-22-eadb3cf59cf0>\u001b[0m in \u001b[0;36m<module>\u001b[0;34m\u001b[0m\n\u001b[0;32m----> 1\u001b[0;31m \u001b[0meprop_dict\u001b[0m \u001b[0;34m=\u001b[0m \u001b[0mj\u001b[0m\u001b[0;34m.\u001b[0m\u001b[0mnew_edge_property\u001b[0m\u001b[0;34m(\u001b[0m\u001b[0;34m\"weight\"\u001b[0m\u001b[0;34m)\u001b[0m\u001b[0;34m\u001b[0m\u001b[0;34m\u001b[0m\u001b[0m\n\u001b[0m",
      "\u001b[0;32m/usr/lib/python3/dist-packages/graph_tool/__init__.py\u001b[0m in \u001b[0;36mnew_edge_property\u001b[0;34m(self, value_type, vals, val)\u001b[0m\n\u001b[1;32m   2663\u001b[0m         \u001b[0msequence\u001b[0m \u001b[0;32mor\u001b[0m \u001b[0mby\u001b[0m\u001b[0;31m \u001b[0m\u001b[0;31m`\u001b[0m\u001b[0;31m`\u001b[0m\u001b[0mval\u001b[0m\u001b[0;31m`\u001b[0m\u001b[0;31m`\u001b[0m \u001b[0mwhich\u001b[0m \u001b[0mshould\u001b[0m \u001b[0mbe\u001b[0m \u001b[0ma\u001b[0m \u001b[0msingle\u001b[0m \u001b[0mvalue\u001b[0m\u001b[0;34m.\u001b[0m\u001b[0;34m\u001b[0m\u001b[0;34m\u001b[0m\u001b[0m\n\u001b[1;32m   2664\u001b[0m         \"\"\"\n\u001b[0;32m-> 2665\u001b[0;31m         prop = EdgePropertyMap(new_edge_property(_c_str(_type_alias(value_type)),\n\u001b[0m\u001b[1;32m   2666\u001b[0m                                                  \u001b[0mself\u001b[0m\u001b[0;34m.\u001b[0m\u001b[0m__graph\u001b[0m\u001b[0;34m.\u001b[0m\u001b[0mget_edge_index\u001b[0m\u001b[0;34m(\u001b[0m\u001b[0;34m)\u001b[0m\u001b[0;34m,\u001b[0m\u001b[0;34m\u001b[0m\u001b[0;34m\u001b[0m\u001b[0m\n\u001b[1;32m   2667\u001b[0m                                                  libcore.any()),\n",
      "\u001b[0;32m/usr/lib/python3/dist-packages/graph_tool/__init__.py\u001b[0m in \u001b[0;36m_type_alias\u001b[0;34m(type_name)\u001b[0m\n\u001b[1;32m    229\u001b[0m         \u001b[0;32mif\u001b[0m \u001b[0mt\u001b[0m \u001b[0;32min\u001b[0m \u001b[0malias\u001b[0m\u001b[0;34m:\u001b[0m\u001b[0;34m\u001b[0m\u001b[0;34m\u001b[0m\u001b[0m\n\u001b[1;32m    230\u001b[0m             \u001b[0;32mreturn\u001b[0m \u001b[0;34m\"vector<%s>\"\u001b[0m \u001b[0;34m%\u001b[0m \u001b[0malias\u001b[0m\u001b[0;34m[\u001b[0m\u001b[0mt\u001b[0m\u001b[0;34m]\u001b[0m\u001b[0;34m\u001b[0m\u001b[0;34m\u001b[0m\u001b[0m\n\u001b[0;32m--> 231\u001b[0;31m     \u001b[0;32mraise\u001b[0m \u001b[0mValueError\u001b[0m\u001b[0;34m(\u001b[0m\u001b[0;34m\"invalid property value type: \"\u001b[0m \u001b[0;34m+\u001b[0m \u001b[0mtype_name\u001b[0m\u001b[0;34m)\u001b[0m\u001b[0;34m\u001b[0m\u001b[0;34m\u001b[0m\u001b[0m\n\u001b[0m\u001b[1;32m    232\u001b[0m \u001b[0;34m\u001b[0m\u001b[0m\n\u001b[1;32m    233\u001b[0m \u001b[0;34m\u001b[0m\u001b[0m\n",
      "\u001b[0;31mValueError\u001b[0m: invalid property value type: weight"
     ]
    }
   ],
   "source": [
    "eprop_dict = j.new_edge_property(\"weight\") "
   ]
  },
  {
   "cell_type": "code",
   "execution_count": 23,
   "metadata": {},
   "outputs": [],
   "source": [
    "eprop_dict = j.new_edge_property(\"vector<int>\") "
   ]
  },
  {
   "cell_type": "code",
   "execution_count": 24,
   "metadata": {},
   "outputs": [],
   "source": [
    "eprop_dict = j.new_edge_property(\"object\") "
   ]
  },
  {
   "cell_type": "code",
   "execution_count": 25,
   "metadata": {},
   "outputs": [],
   "source": [
    "eprop_dict[g.edges().next()] = {\"foo\": \"bar\", \"gnu\": 42}"
   ]
  },
  {
   "cell_type": "code",
   "execution_count": 26,
   "metadata": {},
   "outputs": [
    {
     "name": "stdout",
     "output_type": "stream",
     "text": [
      "<EdgePropertyMap object with value type 'python::object', for Graph 0x7f73b5c104e0, at 0x7f73b5bf8668>\n"
     ]
    }
   ],
   "source": [
    "print(eprop_dict)"
   ]
  },
  {
   "cell_type": "code",
   "execution_count": 27,
   "metadata": {},
   "outputs": [
    {
     "name": "stdout",
     "output_type": "stream",
     "text": [
      "<EdgePropertyMap object with value type 'python::object', for Graph 0x7f73b5c104e0, at 0x7f73b5bf8668>\n"
     ]
    }
   ],
   "source": [
    "print(str(eprop_dict))"
   ]
  },
  {
   "cell_type": "code",
   "execution_count": 28,
   "metadata": {},
   "outputs": [],
   "source": [
    "j.list_properties()\n"
   ]
  },
  {
   "cell_type": "code",
   "execution_count": 29,
   "metadata": {},
   "outputs": [
    {
     "name": "stdout",
     "output_type": "stream",
     "text": [
      "None\n"
     ]
    }
   ],
   "source": [
    "print(j.list_properties())"
   ]
  },
  {
   "cell_type": "code",
   "execution_count": 30,
   "metadata": {},
   "outputs": [],
   "source": [
    "eprop_dict[j.edges().next()] = {\"foo\": \"bar\", \"gnu\": 42}"
   ]
  },
  {
   "cell_type": "code",
   "execution_count": 31,
   "metadata": {},
   "outputs": [
    {
     "name": "stdout",
     "output_type": "stream",
     "text": [
      "<EdgePropertyMap object with value type 'python::object', for Graph 0x7f73b5c104e0, at 0x7f73b5bf8668>\n"
     ]
    }
   ],
   "source": [
    "print(str(eprop_dict))"
   ]
  },
  {
   "cell_type": "code",
   "execution_count": 32,
   "metadata": {},
   "outputs": [
    {
     "name": "stdout",
     "output_type": "stream",
     "text": [
      "None\n"
     ]
    }
   ],
   "source": [
    "print(j.list_properties())"
   ]
  },
  {
   "cell_type": "code",
   "execution_count": 33,
   "metadata": {},
   "outputs": [
    {
     "name": "stdout",
     "output_type": "stream",
     "text": [
      "[         0          5          4          5          5          4\n",
      "          5          4          4          6          5          3\n",
      "          5          3          2          5          6          5\n",
      "          6          8          6          4          6          9\n",
      "          3 2147483647          5          8          7          5\n",
      " 2147483647          5          5          7          7          4\n",
      "          5          5          3          3          1          4\n",
      "          4          5          4          3          4          6\n",
      "          4          5          3          7 2147483647          4\n",
      "          2          6          3          6          1          6\n",
      "          2          4          4 2147483647          6          2\n",
      "          4          4          5          5          4          2\n",
      "          4          5          5 2147483647          5          9\n",
      "          4          7          7          4          3          5\n",
      "          5          6          3          6          5          7\n",
      "          4 2147483647          6          5          6          4\n",
      "          5          4          5          4]\n"
     ]
    }
   ],
   "source": [
    "from numpy.random import poisson\n",
    "g = gt.random_graph(100, lambda: (poisson(3), poisson(3)))\n",
    "dist = gt.shortest_distance(g, source=g.vertex(0))\n",
    "print(dist.a)"
   ]
  },
  {
   "cell_type": "code",
   "execution_count": 34,
   "metadata": {},
   "outputs": [
    {
     "name": "stdout",
     "output_type": "stream",
     "text": [
      "4\n",
      "[4 5]\n"
     ]
    }
   ],
   "source": [
    "dist = gt.shortest_distance(g, source=g.vertex(0), target=g.vertex(2))\n",
    "print(dist)\n",
    "dist = gt.shortest_distance(g, source=g.vertex(0), target=[g.vertex(2), g.vertex(6)])\n",
    "print(dist)"
   ]
  },
  {
   "cell_type": "code",
   "execution_count": 35,
   "metadata": {},
   "outputs": [
    {
     "ename": "TypeError",
     "evalue": "int() argument must be a string, a bytes-like object or a number, not 'list'",
     "output_type": "error",
     "traceback": [
      "\u001b[0;31m---------------------------------------------------------------------------\u001b[0m",
      "\u001b[0;31mTypeError\u001b[0m                                 Traceback (most recent call last)",
      "\u001b[0;32m<ipython-input-35-06745dcb95ae>\u001b[0m in \u001b[0;36m<module>\u001b[0;34m\u001b[0m\n\u001b[0;32m----> 1\u001b[0;31m \u001b[0mdist\u001b[0m \u001b[0;34m=\u001b[0m \u001b[0mgt\u001b[0m\u001b[0;34m.\u001b[0m\u001b[0mshortest_distance\u001b[0m\u001b[0;34m(\u001b[0m\u001b[0mg\u001b[0m\u001b[0;34m,\u001b[0m \u001b[0msource\u001b[0m\u001b[0;34m=\u001b[0m\u001b[0;34m[\u001b[0m\u001b[0mg\u001b[0m\u001b[0;34m.\u001b[0m\u001b[0mvertex\u001b[0m\u001b[0;34m(\u001b[0m\u001b[0;36m0\u001b[0m\u001b[0;34m)\u001b[0m\u001b[0;34m,\u001b[0m\u001b[0mg\u001b[0m\u001b[0;34m.\u001b[0m\u001b[0mvertex\u001b[0m\u001b[0;34m(\u001b[0m\u001b[0;36m1\u001b[0m\u001b[0;34m)\u001b[0m\u001b[0;34m]\u001b[0m\u001b[0;34m,\u001b[0m \u001b[0mtarget\u001b[0m\u001b[0;34m=\u001b[0m\u001b[0;34m[\u001b[0m\u001b[0mg\u001b[0m\u001b[0;34m.\u001b[0m\u001b[0mvertex\u001b[0m\u001b[0;34m(\u001b[0m\u001b[0;36m2\u001b[0m\u001b[0;34m)\u001b[0m\u001b[0;34m,\u001b[0m \u001b[0mg\u001b[0m\u001b[0;34m.\u001b[0m\u001b[0mvertex\u001b[0m\u001b[0;34m(\u001b[0m\u001b[0;36m6\u001b[0m\u001b[0;34m)\u001b[0m\u001b[0;34m]\u001b[0m\u001b[0;34m)\u001b[0m\u001b[0;34m\u001b[0m\u001b[0;34m\u001b[0m\u001b[0m\n\u001b[0m\u001b[1;32m      2\u001b[0m \u001b[0mprint\u001b[0m\u001b[0;34m(\u001b[0m\u001b[0mdist\u001b[0m\u001b[0;34m)\u001b[0m\u001b[0;34m\u001b[0m\u001b[0;34m\u001b[0m\u001b[0m\n",
      "\u001b[0;32m/usr/lib/python3/dist-packages/graph_tool/topology/__init__.py\u001b[0m in \u001b[0;36mshortest_distance\u001b[0;34m(g, source, target, weights, negative_weights, max_dist, directed, dense, dist_map, pred_map, return_reached, dag)\u001b[0m\n\u001b[1;32m   1816\u001b[0m         \u001b[0mreached\u001b[0m \u001b[0;34m=\u001b[0m \u001b[0mlibcore\u001b[0m\u001b[0;34m.\u001b[0m\u001b[0mVector_size_t\u001b[0m\u001b[0;34m(\u001b[0m\u001b[0;34m)\u001b[0m\u001b[0;34m\u001b[0m\u001b[0;34m\u001b[0m\u001b[0m\n\u001b[1;32m   1817\u001b[0m         libgraph_tool_topology.get_dists(u._Graph__graph,\n\u001b[0;32m-> 1818\u001b[0;31m                                          \u001b[0mint\u001b[0m\u001b[0;34m(\u001b[0m\u001b[0msource\u001b[0m\u001b[0;34m)\u001b[0m\u001b[0;34m,\u001b[0m\u001b[0;34m\u001b[0m\u001b[0;34m\u001b[0m\u001b[0m\n\u001b[0m\u001b[1;32m   1819\u001b[0m                                          \u001b[0mtarget\u001b[0m\u001b[0;34m,\u001b[0m\u001b[0;34m\u001b[0m\u001b[0;34m\u001b[0m\u001b[0m\n\u001b[1;32m   1820\u001b[0m                                          \u001b[0m_prop\u001b[0m\u001b[0;34m(\u001b[0m\u001b[0;34m\"v\"\u001b[0m\u001b[0;34m,\u001b[0m \u001b[0mu\u001b[0m\u001b[0;34m,\u001b[0m \u001b[0mdist_map\u001b[0m\u001b[0;34m)\u001b[0m\u001b[0;34m,\u001b[0m\u001b[0;34m\u001b[0m\u001b[0;34m\u001b[0m\u001b[0m\n",
      "\u001b[0;31mTypeError\u001b[0m: int() argument must be a string, a bytes-like object or a number, not 'list'"
     ]
    }
   ],
   "source": [
    "dist = gt.shortest_distance(g, source=[g.vertex(0),g.vertex(1)], target=[g.vertex(2), g.vertex(6)])\n",
    "print(dist)"
   ]
  },
  {
   "cell_type": "code",
   "execution_count": 36,
   "metadata": {},
   "outputs": [
    {
     "name": "stdout",
     "output_type": "stream",
     "text": [
      "<VertexPropertyMap object with value type 'vector<int32_t>', for Graph 0x7f73b5be5ba8, at 0x7f73b5bf8c88>\n"
     ]
    }
   ],
   "source": [
    "dist = gt.shortest_distance(g)\n",
    "print(dist)"
   ]
  },
  {
   "cell_type": "code",
   "execution_count": 37,
   "metadata": {},
   "outputs": [
    {
     "name": "stdout",
     "output_type": "stream",
     "text": [
      "<VertexPropertyMap object with value type 'vector<int32_t>', for Graph 0x7f73b5be5ba8, at 0x7f73b5bf8c88>\n"
     ]
    }
   ],
   "source": [
    "print(str(dist))"
   ]
  },
  {
   "cell_type": "code",
   "execution_count": 38,
   "metadata": {},
   "outputs": [
    {
     "ename": "SyntaxError",
     "evalue": "'return' outside function (<ipython-input-38-9d74c47c36ee>, line 1)",
     "output_type": "error",
     "traceback": [
      "\u001b[0;36m  File \u001b[0;32m\"<ipython-input-38-9d74c47c36ee>\"\u001b[0;36m, line \u001b[0;32m1\u001b[0m\n\u001b[0;31m    return dist\u001b[0m\n\u001b[0m               ^\u001b[0m\n\u001b[0;31mSyntaxError\u001b[0m\u001b[0;31m:\u001b[0m 'return' outside function\n"
     ]
    }
   ],
   "source": [
    "return dist"
   ]
  },
  {
   "cell_type": "code",
   "execution_count": 39,
   "metadata": {},
   "outputs": [
    {
     "data": {
      "text/plain": [
       "<VertexPropertyMap object with value type 'vector<int32_t>', for Graph 0x7f73b5be5ba8, at 0x7f73b5bf8c88>"
      ]
     },
     "execution_count": 39,
     "metadata": {},
     "output_type": "execute_result"
    }
   ],
   "source": [
    "dist"
   ]
  },
  {
   "cell_type": "code",
   "execution_count": 40,
   "metadata": {},
   "outputs": [],
   "source": [
    "g = gt.collection.data[\"pgp-strong-2009\"]"
   ]
  },
  {
   "cell_type": "code",
   "execution_count": 41,
   "metadata": {},
   "outputs": [
    {
     "name": "stdout",
     "output_type": "stream",
     "text": [
      "[  92  107 2176 7027   26   21   45]\n",
      "[  92  107 2176 7033   26   21   45]\n",
      "[  92   82   94 5877 5879   34   45]\n",
      "[  92   89   94 5877 5879   34   45]\n"
     ]
    }
   ],
   "source": [
    "for path in gt.all_shortest_paths(g, 92, 45):\n",
    "    print(path)"
   ]
  },
  {
   "cell_type": "code",
   "execution_count": 42,
   "metadata": {},
   "outputs": [
    {
     "name": "stdout",
     "output_type": "stream",
     "text": [
      "weight         (edge)    (type: double)\n"
     ]
    }
   ],
   "source": [
    "import sys\n",
    "import graph_tool as gt\n",
    "from graph_tool.all import *\n",
    "\n",
    "g = gt.Graph(directed=False)\n",
    "num_vertices = 5\n",
    "g.add_vertex(5)\n",
    "edge_weights = g.new_edge_property('double')\n",
    "g.edge_properties['weight'] = edge_weights\n",
    "for i in range(0,num_vertices):\n",
    "   for j in range(i+1,num_vertices):\n",
    "       e = g.add_edge(i,j)\n",
    "       edge_weights[e] = 15\n",
    "       \n",
    "g.list_properties()"
   ]
  },
  {
   "cell_type": "code",
   "execution_count": 43,
   "metadata": {},
   "outputs": [
    {
     "ename": "ValueError",
     "evalue": "Received property map for graph <Graph object, undirected, with 5 vertices and 10 edges at 0x7f73b5d12a20> (base: <Graph object, undirected, with 5 vertices and 10 edges at 0x7f73b5d12a20>), expected: <Graph object, directed, with 6 vertices and 0 edges at 0x7f73b5d12940> (base: <Graph object, directed, with 6 vertices and 0 edges at 0x7f73b5d12940>)",
     "output_type": "error",
     "traceback": [
      "\u001b[0;31m---------------------------------------------------------------------------\u001b[0m",
      "\u001b[0;31mValueError\u001b[0m                                Traceback (most recent call last)",
      "\u001b[0;32m<ipython-input-43-998f4cf6c223>\u001b[0m in \u001b[0;36m<module>\u001b[0;34m\u001b[0m\n\u001b[1;32m      3\u001b[0m \u001b[0mi\u001b[0m\u001b[0;34m.\u001b[0m\u001b[0madd_vertex\u001b[0m\u001b[0;34m(\u001b[0m\u001b[0;36m6\u001b[0m\u001b[0;34m)\u001b[0m\u001b[0;34m\u001b[0m\u001b[0;34m\u001b[0m\u001b[0m\n\u001b[1;32m      4\u001b[0m \u001b[0medge_weights\u001b[0m \u001b[0;34m=\u001b[0m \u001b[0mg\u001b[0m\u001b[0;34m.\u001b[0m\u001b[0mnew_edge_property\u001b[0m\u001b[0;34m(\u001b[0m\u001b[0;34m'double'\u001b[0m\u001b[0;34m)\u001b[0m\u001b[0;34m\u001b[0m\u001b[0;34m\u001b[0m\u001b[0m\n\u001b[0;32m----> 5\u001b[0;31m \u001b[0mi\u001b[0m\u001b[0;34m.\u001b[0m\u001b[0medge_properties\u001b[0m\u001b[0;34m[\u001b[0m\u001b[0;34m'weight'\u001b[0m\u001b[0;34m]\u001b[0m \u001b[0;34m=\u001b[0m \u001b[0medge_weights\u001b[0m\u001b[0;34m\u001b[0m\u001b[0;34m\u001b[0m\u001b[0m\n\u001b[0m\u001b[1;32m      6\u001b[0m \u001b[0;32mfor\u001b[0m \u001b[0mj\u001b[0m \u001b[0;32min\u001b[0m \u001b[0mrange\u001b[0m\u001b[0;34m(\u001b[0m\u001b[0;36m0\u001b[0m\u001b[0;34m,\u001b[0m\u001b[0mnum_vertices\u001b[0m\u001b[0;34m)\u001b[0m\u001b[0;34m:\u001b[0m\u001b[0;34m\u001b[0m\u001b[0;34m\u001b[0m\u001b[0m\n\u001b[1;32m      7\u001b[0m     \u001b[0mk\u001b[0m \u001b[0;34m=\u001b[0m \u001b[0mj\u001b[0m\u001b[0;34m+\u001b[0m\u001b[0;36m1\u001b[0m\u001b[0;34m\u001b[0m\u001b[0;34m\u001b[0m\u001b[0m\n",
      "\u001b[0;32m/usr/lib/python3/dist-packages/graph_tool/__init__.py\u001b[0m in \u001b[0;36m__setitem__\u001b[0;34m(self, key, val)\u001b[0m\n\u001b[1;32m   1469\u001b[0m                 raise ValueError(\"wanted a property map of type '%s', not '%s'\" %\n\u001b[1;32m   1470\u001b[0m                                  (name(self.t), name(val.key_type())))\n\u001b[0;32m-> 1471\u001b[0;31m             \u001b[0mself\u001b[0m\u001b[0;34m.\u001b[0m\u001b[0mproperties\u001b[0m\u001b[0;34m[\u001b[0m\u001b[0mk\u001b[0m\u001b[0;34m]\u001b[0m \u001b[0;34m=\u001b[0m \u001b[0mval\u001b[0m\u001b[0;34m\u001b[0m\u001b[0;34m\u001b[0m\u001b[0m\n\u001b[0m\u001b[1;32m   1472\u001b[0m \u001b[0;34m\u001b[0m\u001b[0m\n\u001b[1;32m   1473\u001b[0m     \u001b[0;32mdef\u001b[0m \u001b[0msetdefault\u001b[0m\u001b[0;34m(\u001b[0m\u001b[0mself\u001b[0m\u001b[0;34m,\u001b[0m \u001b[0mkey\u001b[0m\u001b[0;34m,\u001b[0m \u001b[0mdefault\u001b[0m\u001b[0;34m=\u001b[0m\u001b[0;32mNone\u001b[0m\u001b[0;34m)\u001b[0m\u001b[0;34m:\u001b[0m\u001b[0;34m\u001b[0m\u001b[0;34m\u001b[0m\u001b[0m\n",
      "\u001b[0;32m/usr/lib/python3/dist-packages/graph_tool/decorators.py\u001b[0m in \u001b[0;36mwrapper\u001b[0;34m(*args, **kwargs)\u001b[0m\n\u001b[1;32m    146\u001b[0m                                         (arg_name, type_list, type(arg)))\n\u001b[1;32m    147\u001b[0m \u001b[0;34m\u001b[0m\u001b[0m\n\u001b[0;32m--> 148\u001b[0;31m             \u001b[0;32mreturn\u001b[0m \u001b[0mf\u001b[0m\u001b[0;34m(\u001b[0m\u001b[0;34m*\u001b[0m\u001b[0margs\u001b[0m\u001b[0;34m,\u001b[0m \u001b[0;34m**\u001b[0m\u001b[0mkwargs\u001b[0m\u001b[0;34m)\u001b[0m\u001b[0;34m\u001b[0m\u001b[0;34m\u001b[0m\u001b[0m\n\u001b[0m\u001b[1;32m    149\u001b[0m         \u001b[0mwrapper\u001b[0m\u001b[0;34m.\u001b[0m\u001b[0mwrapped_args\u001b[0m \u001b[0;34m=\u001b[0m \u001b[0mwrapped_args\u001b[0m\u001b[0;34m\u001b[0m\u001b[0;34m\u001b[0m\u001b[0m\n\u001b[1;32m    150\u001b[0m         \u001b[0;32mreturn\u001b[0m \u001b[0mwrapper\u001b[0m\u001b[0;34m\u001b[0m\u001b[0;34m\u001b[0m\u001b[0m\n",
      "\u001b[0;32m/usr/lib/python3/dist-packages/graph_tool/decorators.py\u001b[0m in \u001b[0;36mwrapper\u001b[0;34m(*args, **kwargs)\u001b[0m\n\u001b[1;32m    146\u001b[0m                                         (arg_name, type_list, type(arg)))\n\u001b[1;32m    147\u001b[0m \u001b[0;34m\u001b[0m\u001b[0m\n\u001b[0;32m--> 148\u001b[0;31m             \u001b[0;32mreturn\u001b[0m \u001b[0mf\u001b[0m\u001b[0;34m(\u001b[0m\u001b[0;34m*\u001b[0m\u001b[0margs\u001b[0m\u001b[0;34m,\u001b[0m \u001b[0;34m**\u001b[0m\u001b[0mkwargs\u001b[0m\u001b[0;34m)\u001b[0m\u001b[0;34m\u001b[0m\u001b[0;34m\u001b[0m\u001b[0m\n\u001b[0m\u001b[1;32m    149\u001b[0m         \u001b[0mwrapper\u001b[0m\u001b[0;34m.\u001b[0m\u001b[0mwrapped_args\u001b[0m \u001b[0;34m=\u001b[0m \u001b[0mwrapped_args\u001b[0m\u001b[0;34m\u001b[0m\u001b[0;34m\u001b[0m\u001b[0m\n\u001b[1;32m    150\u001b[0m         \u001b[0;32mreturn\u001b[0m \u001b[0mwrapper\u001b[0m\u001b[0;34m\u001b[0m\u001b[0;34m\u001b[0m\u001b[0m\n",
      "\u001b[0;32m/usr/lib/python3/dist-packages/graph_tool/__init__.py\u001b[0m in \u001b[0;36m__setitem__\u001b[0;34m(self, key, val)\u001b[0m\n\u001b[1;32m   1385\u001b[0m         \u001b[0;32mif\u001b[0m \u001b[0mu\u001b[0m\u001b[0;34m.\u001b[0m\u001b[0mbase\u001b[0m \u001b[0;32mis\u001b[0m \u001b[0;32mnot\u001b[0m \u001b[0mg\u001b[0m\u001b[0;34m.\u001b[0m\u001b[0mbase\u001b[0m\u001b[0;34m:\u001b[0m\u001b[0;34m\u001b[0m\u001b[0;34m\u001b[0m\u001b[0m\n\u001b[1;32m   1386\u001b[0m             raise ValueError(\"Received property map for graph %s (base: %s), expected: %s (base: %s)\" %\n\u001b[0;32m-> 1387\u001b[0;31m                          (str(u), str(u.base), str(g), str(g.base)))\n\u001b[0m\u001b[1;32m   1388\u001b[0m         \u001b[0mself\u001b[0m\u001b[0;34m.\u001b[0m\u001b[0m__set_property\u001b[0m\u001b[0;34m(\u001b[0m\u001b[0mt\u001b[0m\u001b[0;34m,\u001b[0m \u001b[0mk\u001b[0m\u001b[0;34m,\u001b[0m \u001b[0mval\u001b[0m\u001b[0;34m)\u001b[0m\u001b[0;34m\u001b[0m\u001b[0;34m\u001b[0m\u001b[0m\n\u001b[1;32m   1389\u001b[0m \u001b[0;34m\u001b[0m\u001b[0m\n",
      "\u001b[0;31mValueError\u001b[0m: Received property map for graph <Graph object, undirected, with 5 vertices and 10 edges at 0x7f73b5d12a20> (base: <Graph object, undirected, with 5 vertices and 10 edges at 0x7f73b5d12a20>), expected: <Graph object, directed, with 6 vertices and 0 edges at 0x7f73b5d12940> (base: <Graph object, directed, with 6 vertices and 0 edges at 0x7f73b5d12940>)"
     ]
    }
   ],
   "source": [
    "i = Graph()\n",
    "num_vertices = 6\n",
    "i.add_vertex(6)\n",
    "edge_weights = g.new_edge_property('double')\n",
    "i.edge_properties['weight'] = edge_weights\n",
    "for j in range(0,num_vertices):\n",
    "    k = j+1\n",
    "    e = i.add_edge(j,k)\n",
    "    edge_weights[e] = 1\n",
    "    \n",
    "graph_draw(i, vertex_text=i.vertex_index, vertex_font_size=18, output_size=(200, 200), output=\"graphI.png\")\n"
   ]
  },
  {
   "cell_type": "code",
   "execution_count": 44,
   "metadata": {},
   "outputs": [
    {
     "ename": "ValueError",
     "evalue": "Received property map for graph <Graph object, undirected, with 5 vertices and 10 edges at 0x7f73b5d12a20> (base: <Graph object, undirected, with 5 vertices and 10 edges at 0x7f73b5d12a20>), expected: <Graph object, directed, with 6 vertices and 0 edges at 0x7f73b5d12fd0> (base: <Graph object, directed, with 6 vertices and 0 edges at 0x7f73b5d12fd0>)",
     "output_type": "error",
     "traceback": [
      "\u001b[0;31m---------------------------------------------------------------------------\u001b[0m",
      "\u001b[0;31mValueError\u001b[0m                                Traceback (most recent call last)",
      "\u001b[0;32m<ipython-input-44-a1a0243004fb>\u001b[0m in \u001b[0;36m<module>\u001b[0;34m\u001b[0m\n\u001b[1;32m      3\u001b[0m \u001b[0mz\u001b[0m\u001b[0;34m.\u001b[0m\u001b[0madd_vertex\u001b[0m\u001b[0;34m(\u001b[0m\u001b[0;36m6\u001b[0m\u001b[0;34m)\u001b[0m\u001b[0;34m\u001b[0m\u001b[0;34m\u001b[0m\u001b[0m\n\u001b[1;32m      4\u001b[0m \u001b[0medge_weights\u001b[0m \u001b[0;34m=\u001b[0m \u001b[0mg\u001b[0m\u001b[0;34m.\u001b[0m\u001b[0mnew_edge_property\u001b[0m\u001b[0;34m(\u001b[0m\u001b[0;34m'double'\u001b[0m\u001b[0;34m)\u001b[0m\u001b[0;34m\u001b[0m\u001b[0;34m\u001b[0m\u001b[0m\n\u001b[0;32m----> 5\u001b[0;31m \u001b[0mz\u001b[0m\u001b[0;34m.\u001b[0m\u001b[0medge_properties\u001b[0m\u001b[0;34m[\u001b[0m\u001b[0;34m'weight'\u001b[0m\u001b[0;34m]\u001b[0m \u001b[0;34m=\u001b[0m \u001b[0medge_weights\u001b[0m\u001b[0;34m\u001b[0m\u001b[0;34m\u001b[0m\u001b[0m\n\u001b[0m\u001b[1;32m      6\u001b[0m \u001b[0;32mfor\u001b[0m \u001b[0mj\u001b[0m \u001b[0;32min\u001b[0m \u001b[0mrange\u001b[0m\u001b[0;34m(\u001b[0m\u001b[0;36m0\u001b[0m\u001b[0;34m,\u001b[0m\u001b[0mnum_vertices\u001b[0m\u001b[0;34m)\u001b[0m\u001b[0;34m:\u001b[0m\u001b[0;34m\u001b[0m\u001b[0;34m\u001b[0m\u001b[0m\n\u001b[1;32m      7\u001b[0m     \u001b[0mk\u001b[0m \u001b[0;34m=\u001b[0m \u001b[0mj\u001b[0m\u001b[0;34m+\u001b[0m\u001b[0;36m1\u001b[0m\u001b[0;34m\u001b[0m\u001b[0;34m\u001b[0m\u001b[0m\n",
      "\u001b[0;32m/usr/lib/python3/dist-packages/graph_tool/__init__.py\u001b[0m in \u001b[0;36m__setitem__\u001b[0;34m(self, key, val)\u001b[0m\n\u001b[1;32m   1469\u001b[0m                 raise ValueError(\"wanted a property map of type '%s', not '%s'\" %\n\u001b[1;32m   1470\u001b[0m                                  (name(self.t), name(val.key_type())))\n\u001b[0;32m-> 1471\u001b[0;31m             \u001b[0mself\u001b[0m\u001b[0;34m.\u001b[0m\u001b[0mproperties\u001b[0m\u001b[0;34m[\u001b[0m\u001b[0mk\u001b[0m\u001b[0;34m]\u001b[0m \u001b[0;34m=\u001b[0m \u001b[0mval\u001b[0m\u001b[0;34m\u001b[0m\u001b[0;34m\u001b[0m\u001b[0m\n\u001b[0m\u001b[1;32m   1472\u001b[0m \u001b[0;34m\u001b[0m\u001b[0m\n\u001b[1;32m   1473\u001b[0m     \u001b[0;32mdef\u001b[0m \u001b[0msetdefault\u001b[0m\u001b[0;34m(\u001b[0m\u001b[0mself\u001b[0m\u001b[0;34m,\u001b[0m \u001b[0mkey\u001b[0m\u001b[0;34m,\u001b[0m \u001b[0mdefault\u001b[0m\u001b[0;34m=\u001b[0m\u001b[0;32mNone\u001b[0m\u001b[0;34m)\u001b[0m\u001b[0;34m:\u001b[0m\u001b[0;34m\u001b[0m\u001b[0;34m\u001b[0m\u001b[0m\n",
      "\u001b[0;32m/usr/lib/python3/dist-packages/graph_tool/decorators.py\u001b[0m in \u001b[0;36mwrapper\u001b[0;34m(*args, **kwargs)\u001b[0m\n\u001b[1;32m    146\u001b[0m                                         (arg_name, type_list, type(arg)))\n\u001b[1;32m    147\u001b[0m \u001b[0;34m\u001b[0m\u001b[0m\n\u001b[0;32m--> 148\u001b[0;31m             \u001b[0;32mreturn\u001b[0m \u001b[0mf\u001b[0m\u001b[0;34m(\u001b[0m\u001b[0;34m*\u001b[0m\u001b[0margs\u001b[0m\u001b[0;34m,\u001b[0m \u001b[0;34m**\u001b[0m\u001b[0mkwargs\u001b[0m\u001b[0;34m)\u001b[0m\u001b[0;34m\u001b[0m\u001b[0;34m\u001b[0m\u001b[0m\n\u001b[0m\u001b[1;32m    149\u001b[0m         \u001b[0mwrapper\u001b[0m\u001b[0;34m.\u001b[0m\u001b[0mwrapped_args\u001b[0m \u001b[0;34m=\u001b[0m \u001b[0mwrapped_args\u001b[0m\u001b[0;34m\u001b[0m\u001b[0;34m\u001b[0m\u001b[0m\n\u001b[1;32m    150\u001b[0m         \u001b[0;32mreturn\u001b[0m \u001b[0mwrapper\u001b[0m\u001b[0;34m\u001b[0m\u001b[0;34m\u001b[0m\u001b[0m\n",
      "\u001b[0;32m/usr/lib/python3/dist-packages/graph_tool/decorators.py\u001b[0m in \u001b[0;36mwrapper\u001b[0;34m(*args, **kwargs)\u001b[0m\n\u001b[1;32m    146\u001b[0m                                         (arg_name, type_list, type(arg)))\n\u001b[1;32m    147\u001b[0m \u001b[0;34m\u001b[0m\u001b[0m\n\u001b[0;32m--> 148\u001b[0;31m             \u001b[0;32mreturn\u001b[0m \u001b[0mf\u001b[0m\u001b[0;34m(\u001b[0m\u001b[0;34m*\u001b[0m\u001b[0margs\u001b[0m\u001b[0;34m,\u001b[0m \u001b[0;34m**\u001b[0m\u001b[0mkwargs\u001b[0m\u001b[0;34m)\u001b[0m\u001b[0;34m\u001b[0m\u001b[0;34m\u001b[0m\u001b[0m\n\u001b[0m\u001b[1;32m    149\u001b[0m         \u001b[0mwrapper\u001b[0m\u001b[0;34m.\u001b[0m\u001b[0mwrapped_args\u001b[0m \u001b[0;34m=\u001b[0m \u001b[0mwrapped_args\u001b[0m\u001b[0;34m\u001b[0m\u001b[0;34m\u001b[0m\u001b[0m\n\u001b[1;32m    150\u001b[0m         \u001b[0;32mreturn\u001b[0m \u001b[0mwrapper\u001b[0m\u001b[0;34m\u001b[0m\u001b[0;34m\u001b[0m\u001b[0m\n",
      "\u001b[0;32m/usr/lib/python3/dist-packages/graph_tool/__init__.py\u001b[0m in \u001b[0;36m__setitem__\u001b[0;34m(self, key, val)\u001b[0m\n\u001b[1;32m   1385\u001b[0m         \u001b[0;32mif\u001b[0m \u001b[0mu\u001b[0m\u001b[0;34m.\u001b[0m\u001b[0mbase\u001b[0m \u001b[0;32mis\u001b[0m \u001b[0;32mnot\u001b[0m \u001b[0mg\u001b[0m\u001b[0;34m.\u001b[0m\u001b[0mbase\u001b[0m\u001b[0;34m:\u001b[0m\u001b[0;34m\u001b[0m\u001b[0;34m\u001b[0m\u001b[0m\n\u001b[1;32m   1386\u001b[0m             raise ValueError(\"Received property map for graph %s (base: %s), expected: %s (base: %s)\" %\n\u001b[0;32m-> 1387\u001b[0;31m                          (str(u), str(u.base), str(g), str(g.base)))\n\u001b[0m\u001b[1;32m   1388\u001b[0m         \u001b[0mself\u001b[0m\u001b[0;34m.\u001b[0m\u001b[0m__set_property\u001b[0m\u001b[0;34m(\u001b[0m\u001b[0mt\u001b[0m\u001b[0;34m,\u001b[0m \u001b[0mk\u001b[0m\u001b[0;34m,\u001b[0m \u001b[0mval\u001b[0m\u001b[0;34m)\u001b[0m\u001b[0;34m\u001b[0m\u001b[0;34m\u001b[0m\u001b[0m\n\u001b[1;32m   1389\u001b[0m \u001b[0;34m\u001b[0m\u001b[0m\n",
      "\u001b[0;31mValueError\u001b[0m: Received property map for graph <Graph object, undirected, with 5 vertices and 10 edges at 0x7f73b5d12a20> (base: <Graph object, undirected, with 5 vertices and 10 edges at 0x7f73b5d12a20>), expected: <Graph object, directed, with 6 vertices and 0 edges at 0x7f73b5d12fd0> (base: <Graph object, directed, with 6 vertices and 0 edges at 0x7f73b5d12fd0>)"
     ]
    }
   ],
   "source": [
    "z = Graph()\n",
    "num_vertices = 6\n",
    "z.add_vertex(6)\n",
    "edge_weights = g.new_edge_property('double')\n",
    "z.edge_properties['weight'] = edge_weights\n",
    "for j in range(0,num_vertices):\n",
    "    k = j+1\n",
    "    e = z.add_edge(j,k)\n",
    "    edge_weights[e] = 1\n",
    "    \n",
    "graph_draw(z, vertex_text=z.vertex_index, vertex_font_size=18, output_size=(200, 200), output=\"graphZ.png\")\n"
   ]
  },
  {
   "cell_type": "code",
   "execution_count": 45,
   "metadata": {},
   "outputs": [
    {
     "ename": "ValueError",
     "evalue": "Received property map for graph <Graph object, undirected, with 5 vertices and 10 edges at 0x7f73b5d12a20> (base: <Graph object, undirected, with 5 vertices and 10 edges at 0x7f73b5d12a20>), expected: <Graph object, directed, with 6 vertices and 0 edges at 0x7f73b5d123c8> (base: <Graph object, directed, with 6 vertices and 0 edges at 0x7f73b5d123c8>)",
     "output_type": "error",
     "traceback": [
      "\u001b[0;31m---------------------------------------------------------------------------\u001b[0m",
      "\u001b[0;31mValueError\u001b[0m                                Traceback (most recent call last)",
      "\u001b[0;32m<ipython-input-45-c66d95b97694>\u001b[0m in \u001b[0;36m<module>\u001b[0;34m\u001b[0m\n\u001b[1;32m      3\u001b[0m \u001b[0mi\u001b[0m\u001b[0;34m.\u001b[0m\u001b[0madd_vertex\u001b[0m\u001b[0;34m(\u001b[0m\u001b[0;36m6\u001b[0m\u001b[0;34m)\u001b[0m\u001b[0;34m\u001b[0m\u001b[0;34m\u001b[0m\u001b[0m\n\u001b[1;32m      4\u001b[0m \u001b[0medge_weights\u001b[0m \u001b[0;34m=\u001b[0m \u001b[0mg\u001b[0m\u001b[0;34m.\u001b[0m\u001b[0mnew_edge_property\u001b[0m\u001b[0;34m(\u001b[0m\u001b[0;34m'double'\u001b[0m\u001b[0;34m)\u001b[0m\u001b[0;34m\u001b[0m\u001b[0;34m\u001b[0m\u001b[0m\n\u001b[0;32m----> 5\u001b[0;31m \u001b[0mi\u001b[0m\u001b[0;34m.\u001b[0m\u001b[0medge_properties\u001b[0m\u001b[0;34m[\u001b[0m\u001b[0;34m'weight'\u001b[0m\u001b[0;34m]\u001b[0m \u001b[0;34m=\u001b[0m \u001b[0medge_weights\u001b[0m\u001b[0;34m\u001b[0m\u001b[0;34m\u001b[0m\u001b[0m\n\u001b[0m\u001b[1;32m      6\u001b[0m \u001b[0;32mfor\u001b[0m \u001b[0mj\u001b[0m \u001b[0;32min\u001b[0m \u001b[0mrange\u001b[0m\u001b[0;34m(\u001b[0m\u001b[0;36m0\u001b[0m\u001b[0;34m,\u001b[0m\u001b[0mnum_vertices\u001b[0m\u001b[0;34m)\u001b[0m\u001b[0;34m:\u001b[0m\u001b[0;34m\u001b[0m\u001b[0;34m\u001b[0m\u001b[0m\n\u001b[1;32m      7\u001b[0m     \u001b[0mk\u001b[0m \u001b[0;34m=\u001b[0m \u001b[0mj\u001b[0m\u001b[0;34m+\u001b[0m\u001b[0;36m1\u001b[0m\u001b[0;34m\u001b[0m\u001b[0;34m\u001b[0m\u001b[0m\n",
      "\u001b[0;32m/usr/lib/python3/dist-packages/graph_tool/__init__.py\u001b[0m in \u001b[0;36m__setitem__\u001b[0;34m(self, key, val)\u001b[0m\n\u001b[1;32m   1469\u001b[0m                 raise ValueError(\"wanted a property map of type '%s', not '%s'\" %\n\u001b[1;32m   1470\u001b[0m                                  (name(self.t), name(val.key_type())))\n\u001b[0;32m-> 1471\u001b[0;31m             \u001b[0mself\u001b[0m\u001b[0;34m.\u001b[0m\u001b[0mproperties\u001b[0m\u001b[0;34m[\u001b[0m\u001b[0mk\u001b[0m\u001b[0;34m]\u001b[0m \u001b[0;34m=\u001b[0m \u001b[0mval\u001b[0m\u001b[0;34m\u001b[0m\u001b[0;34m\u001b[0m\u001b[0m\n\u001b[0m\u001b[1;32m   1472\u001b[0m \u001b[0;34m\u001b[0m\u001b[0m\n\u001b[1;32m   1473\u001b[0m     \u001b[0;32mdef\u001b[0m \u001b[0msetdefault\u001b[0m\u001b[0;34m(\u001b[0m\u001b[0mself\u001b[0m\u001b[0;34m,\u001b[0m \u001b[0mkey\u001b[0m\u001b[0;34m,\u001b[0m \u001b[0mdefault\u001b[0m\u001b[0;34m=\u001b[0m\u001b[0;32mNone\u001b[0m\u001b[0;34m)\u001b[0m\u001b[0;34m:\u001b[0m\u001b[0;34m\u001b[0m\u001b[0;34m\u001b[0m\u001b[0m\n",
      "\u001b[0;32m/usr/lib/python3/dist-packages/graph_tool/decorators.py\u001b[0m in \u001b[0;36mwrapper\u001b[0;34m(*args, **kwargs)\u001b[0m\n\u001b[1;32m    146\u001b[0m                                         (arg_name, type_list, type(arg)))\n\u001b[1;32m    147\u001b[0m \u001b[0;34m\u001b[0m\u001b[0m\n\u001b[0;32m--> 148\u001b[0;31m             \u001b[0;32mreturn\u001b[0m \u001b[0mf\u001b[0m\u001b[0;34m(\u001b[0m\u001b[0;34m*\u001b[0m\u001b[0margs\u001b[0m\u001b[0;34m,\u001b[0m \u001b[0;34m**\u001b[0m\u001b[0mkwargs\u001b[0m\u001b[0;34m)\u001b[0m\u001b[0;34m\u001b[0m\u001b[0;34m\u001b[0m\u001b[0m\n\u001b[0m\u001b[1;32m    149\u001b[0m         \u001b[0mwrapper\u001b[0m\u001b[0;34m.\u001b[0m\u001b[0mwrapped_args\u001b[0m \u001b[0;34m=\u001b[0m \u001b[0mwrapped_args\u001b[0m\u001b[0;34m\u001b[0m\u001b[0;34m\u001b[0m\u001b[0m\n\u001b[1;32m    150\u001b[0m         \u001b[0;32mreturn\u001b[0m \u001b[0mwrapper\u001b[0m\u001b[0;34m\u001b[0m\u001b[0;34m\u001b[0m\u001b[0m\n",
      "\u001b[0;32m/usr/lib/python3/dist-packages/graph_tool/decorators.py\u001b[0m in \u001b[0;36mwrapper\u001b[0;34m(*args, **kwargs)\u001b[0m\n\u001b[1;32m    146\u001b[0m                                         (arg_name, type_list, type(arg)))\n\u001b[1;32m    147\u001b[0m \u001b[0;34m\u001b[0m\u001b[0m\n\u001b[0;32m--> 148\u001b[0;31m             \u001b[0;32mreturn\u001b[0m \u001b[0mf\u001b[0m\u001b[0;34m(\u001b[0m\u001b[0;34m*\u001b[0m\u001b[0margs\u001b[0m\u001b[0;34m,\u001b[0m \u001b[0;34m**\u001b[0m\u001b[0mkwargs\u001b[0m\u001b[0;34m)\u001b[0m\u001b[0;34m\u001b[0m\u001b[0;34m\u001b[0m\u001b[0m\n\u001b[0m\u001b[1;32m    149\u001b[0m         \u001b[0mwrapper\u001b[0m\u001b[0;34m.\u001b[0m\u001b[0mwrapped_args\u001b[0m \u001b[0;34m=\u001b[0m \u001b[0mwrapped_args\u001b[0m\u001b[0;34m\u001b[0m\u001b[0;34m\u001b[0m\u001b[0m\n\u001b[1;32m    150\u001b[0m         \u001b[0;32mreturn\u001b[0m \u001b[0mwrapper\u001b[0m\u001b[0;34m\u001b[0m\u001b[0;34m\u001b[0m\u001b[0m\n",
      "\u001b[0;32m/usr/lib/python3/dist-packages/graph_tool/__init__.py\u001b[0m in \u001b[0;36m__setitem__\u001b[0;34m(self, key, val)\u001b[0m\n\u001b[1;32m   1385\u001b[0m         \u001b[0;32mif\u001b[0m \u001b[0mu\u001b[0m\u001b[0;34m.\u001b[0m\u001b[0mbase\u001b[0m \u001b[0;32mis\u001b[0m \u001b[0;32mnot\u001b[0m \u001b[0mg\u001b[0m\u001b[0;34m.\u001b[0m\u001b[0mbase\u001b[0m\u001b[0;34m:\u001b[0m\u001b[0;34m\u001b[0m\u001b[0;34m\u001b[0m\u001b[0m\n\u001b[1;32m   1386\u001b[0m             raise ValueError(\"Received property map for graph %s (base: %s), expected: %s (base: %s)\" %\n\u001b[0;32m-> 1387\u001b[0;31m                          (str(u), str(u.base), str(g), str(g.base)))\n\u001b[0m\u001b[1;32m   1388\u001b[0m         \u001b[0mself\u001b[0m\u001b[0;34m.\u001b[0m\u001b[0m__set_property\u001b[0m\u001b[0;34m(\u001b[0m\u001b[0mt\u001b[0m\u001b[0;34m,\u001b[0m \u001b[0mk\u001b[0m\u001b[0;34m,\u001b[0m \u001b[0mval\u001b[0m\u001b[0;34m)\u001b[0m\u001b[0;34m\u001b[0m\u001b[0;34m\u001b[0m\u001b[0m\n\u001b[1;32m   1389\u001b[0m \u001b[0;34m\u001b[0m\u001b[0m\n",
      "\u001b[0;31mValueError\u001b[0m: Received property map for graph <Graph object, undirected, with 5 vertices and 10 edges at 0x7f73b5d12a20> (base: <Graph object, undirected, with 5 vertices and 10 edges at 0x7f73b5d12a20>), expected: <Graph object, directed, with 6 vertices and 0 edges at 0x7f73b5d123c8> (base: <Graph object, directed, with 6 vertices and 0 edges at 0x7f73b5d123c8>)"
     ]
    }
   ],
   "source": [
    "i = Graph()\n",
    "num_vertices = 6\n",
    "i.add_vertex(6)\n",
    "edge_weights = g.new_edge_property('double')\n",
    "i.edge_properties['weight'] = edge_weights\n",
    "for j in range(0,num_vertices):\n",
    "    k = j+1\n",
    "    e = i.add_edge(j,k)\n",
    "    edge_weights[e] = 1\n",
    "    \n",
    "#graph_draw(i, vertex_text=i.vertex_index, vertex_font_size=18, output_size=(200, 200), output=\"graphI.png\")\n"
   ]
  },
  {
   "cell_type": "code",
   "execution_count": 46,
   "metadata": {},
   "outputs": [
    {
     "data": {
      "text/plain": [
       "<VertexPropertyMap object with value type 'vector<double>', for Graph 0x7f73b5bf89e8, at 0x7f73b5d18128>"
      ]
     },
     "execution_count": 46,
     "metadata": {},
     "output_type": "execute_result"
    }
   ],
   "source": [
    "i = Graph()\n",
    "num_vertices = 6\n",
    "i.add_vertex(6)\n",
    "edge_weights = i.new_edge_property('double')\n",
    "i.edge_properties['weight'] = edge_weights\n",
    "for j in range(0,num_vertices):\n",
    "    k = j+1\n",
    "    e = i.add_edge(j,k)\n",
    "    edge_weights[e] = j\n",
    "    \n",
    "graph_draw(i, vertex_text=i.vertex_index, vertex_font_size=18, output_size=(200, 200), output=\"graphI.png\")\n"
   ]
  },
  {
   "cell_type": "code",
   "execution_count": 47,
   "metadata": {},
   "outputs": [
    {
     "data": {
      "text/plain": [
       "<VertexPropertyMap object with value type 'vector<double>', for Graph 0x7f73b5bf8f28, at 0x7f73b5d18198>"
      ]
     },
     "execution_count": 47,
     "metadata": {},
     "output_type": "execute_result"
    }
   ],
   "source": [
    "i = Graph()\n",
    "num_vertices = 5\n",
    "i.add_vertex(5)\n",
    "edge_weights = i.new_edge_property('double')\n",
    "i.edge_properties['weight'] = edge_weights\n",
    "for j in range(0,num_vertices):\n",
    "    k = j+1\n",
    "    e = i.add_edge(j,k)\n",
    "    edge_weights[e] = j\n",
    "    \n",
    "graph_draw(i, vertex_text=i.vertex_index, vertex_font_size=18, output_size=(200, 200), output=\"graphI.png\")\n"
   ]
  },
  {
   "cell_type": "code",
   "execution_count": 48,
   "metadata": {},
   "outputs": [
    {
     "data": {
      "text/plain": [
       "<VertexPropertyMap object with value type 'vector<double>', for Graph 0x7f73b5bf81d0, at 0x7f73b5a02128>"
      ]
     },
     "execution_count": 48,
     "metadata": {},
     "output_type": "execute_result"
    }
   ],
   "source": [
    "i = Graph()\n",
    "num_vertices = 5\n",
    "i.add_vertex(5)\n",
    "edge_weights = i.new_edge_property('double')\n",
    "i.edge_properties['weight'] = edge_weights\n",
    "for j in range(0,num_vertices):\n",
    "    k = j+1\n",
    "    e = i.add_edge(j,k)\n",
    "    edge_weights[e] = j\n",
    "    \n",
    "graph_draw(i, vertex_text=i.vertex_index, vertex_font_size=18, output_size=(200, 200), output=\"graphI.png\")\n"
   ]
  },
  {
   "cell_type": "code",
   "execution_count": 49,
   "metadata": {},
   "outputs": [
    {
     "data": {
      "text/plain": [
       "<VertexPropertyMap object with value type 'vector<double>', for Graph 0x7f73b5bf8908, at 0x7f73b5d18208>"
      ]
     },
     "execution_count": 49,
     "metadata": {},
     "output_type": "execute_result"
    }
   ],
   "source": [
    "i = Graph()\n",
    "num_vertices = 5\n",
    "i.add_vertex(5)\n",
    "edge_weights = i.new_edge_property('double')\n",
    "i.edge_properties['weight'] = edge_weights\n",
    "for j in range(0,num_vertices):\n",
    "    k = j+1\n",
    "    e = i.add_edge(j,k)\n",
    "    edge_weights[e] = 100*j\n",
    "    \n",
    "graph_draw(i, vertex_text=i.vertex_index, vertex_font_size=18, output_size=(200, 200), output=\"graphI.png\")\n"
   ]
  },
  {
   "cell_type": "code",
   "execution_count": 50,
   "metadata": {},
   "outputs": [
    {
     "ename": "AttributeError",
     "evalue": "module 'graph_tool' has no attribute 'shortest_path'",
     "output_type": "error",
     "traceback": [
      "\u001b[0;31m---------------------------------------------------------------------------\u001b[0m",
      "\u001b[0;31mAttributeError\u001b[0m                            Traceback (most recent call last)",
      "\u001b[0;32m<ipython-input-50-31f0e1fc8c2e>\u001b[0m in \u001b[0;36m<module>\u001b[0;34m\u001b[0m\n\u001b[0;32m----> 1\u001b[0;31m \u001b[0mgt\u001b[0m\u001b[0;34m.\u001b[0m\u001b[0mshortest_path\u001b[0m\u001b[0;34m(\u001b[0m\u001b[0mi\u001b[0m\u001b[0;34m,\u001b[0m \u001b[0msource\u001b[0m \u001b[0;34m=\u001b[0m \u001b[0mi\u001b[0m\u001b[0;34m.\u001b[0m\u001b[0mvertex\u001b[0m\u001b[0;34m(\u001b[0m\u001b[0;36m0\u001b[0m\u001b[0;34m)\u001b[0m\u001b[0;34m,\u001b[0m \u001b[0mweights\u001b[0m\u001b[0;34m=\u001b[0m\u001b[0medge_weights\u001b[0m\u001b[0;34m)\u001b[0m\u001b[0;34m\u001b[0m\u001b[0;34m\u001b[0m\u001b[0m\n\u001b[0m",
      "\u001b[0;31mAttributeError\u001b[0m: module 'graph_tool' has no attribute 'shortest_path'"
     ]
    }
   ],
   "source": [
    "gt.shortest_path(i, source = i.vertex(0), weights=edge_weights)"
   ]
  },
  {
   "cell_type": "code",
   "execution_count": 51,
   "metadata": {},
   "outputs": [
    {
     "ename": "AttributeError",
     "evalue": "module 'graph_tool' has no attribute 'shortest_distance'",
     "output_type": "error",
     "traceback": [
      "\u001b[0;31m---------------------------------------------------------------------------\u001b[0m",
      "\u001b[0;31mAttributeError\u001b[0m                            Traceback (most recent call last)",
      "\u001b[0;32m<ipython-input-51-77df3050635d>\u001b[0m in \u001b[0;36m<module>\u001b[0;34m\u001b[0m\n\u001b[0;32m----> 1\u001b[0;31m \u001b[0mipath\u001b[0m \u001b[0;34m=\u001b[0m \u001b[0mgt\u001b[0m\u001b[0;34m.\u001b[0m\u001b[0mshortest_distance\u001b[0m\u001b[0;34m(\u001b[0m\u001b[0mi\u001b[0m\u001b[0;34m,\u001b[0m \u001b[0msource\u001b[0m \u001b[0;34m=\u001b[0m \u001b[0mi\u001b[0m\u001b[0;34m.\u001b[0m\u001b[0mvertex\u001b[0m\u001b[0;34m(\u001b[0m\u001b[0;36m0\u001b[0m\u001b[0;34m)\u001b[0m\u001b[0;34m,\u001b[0m \u001b[0mweights\u001b[0m\u001b[0;34m=\u001b[0m\u001b[0medge_weights\u001b[0m\u001b[0;34m)\u001b[0m\u001b[0;34m\u001b[0m\u001b[0;34m\u001b[0m\u001b[0m\n\u001b[0m\u001b[1;32m      2\u001b[0m \u001b[0mprint\u001b[0m\u001b[0;34m(\u001b[0m\u001b[0mipath\u001b[0m\u001b[0;34m)\u001b[0m\u001b[0;34m\u001b[0m\u001b[0;34m\u001b[0m\u001b[0m\n",
      "\u001b[0;31mAttributeError\u001b[0m: module 'graph_tool' has no attribute 'shortest_distance'"
     ]
    }
   ],
   "source": [
    "ipath = gt.shortest_distance(i, source = i.vertex(0), weights=edge_weights)\n",
    "print(ipath)"
   ]
  },
  {
   "cell_type": "code",
   "execution_count": 52,
   "metadata": {},
   "outputs": [
    {
     "name": "stdout",
     "output_type": "stream",
     "text": [
      "<VertexPropertyMap object with value type 'double', for Graph 0x7f73b5bf8908, at 0x7f73b5c076a0>\n"
     ]
    }
   ],
   "source": [
    "from graph_tool.all import *\n",
    "import graph_tool.all as gt\n",
    "\n",
    "ipath = gt.shortest_distance(i, source = i.vertex(0), weights=edge_weights)\n",
    "print(ipath)"
   ]
  },
  {
   "cell_type": "code",
   "execution_count": 53,
   "metadata": {},
   "outputs": [
    {
     "name": "stdout",
     "output_type": "stream",
     "text": [
      "<VertexPropertyMap object with value type 'double', for Graph 0x7f73b5bf8908, at 0x7f73b5c07908>\n"
     ]
    }
   ],
   "source": [
    "from graph_tool.all import *\n",
    "import graph_tool.all as gt\n",
    "\n",
    "ipath = gt.shortest_distance(i, source = i.vertex(0), weights=edge_weights)\n",
    "print(ipath)"
   ]
  },
  {
   "cell_type": "code",
   "execution_count": 54,
   "metadata": {},
   "outputs": [
    {
     "name": "stdout",
     "output_type": "stream",
     "text": [
      "140134947258096\n"
     ]
    }
   ],
   "source": [
    "from graph_tool.all import *\n",
    "import graph_tool.all as gt\n",
    "\n",
    "ipath = gt.shortest_distance(i, source = i.vertex(0), weights=edge_weights)\n",
    "print(id(ipath))"
   ]
  },
  {
   "cell_type": "code",
   "execution_count": 55,
   "metadata": {},
   "outputs": [],
   "source": [
    "dist = gt.shortest_distance(i, source=i.vertex(0), target=i.vertex(2), weights=i.edge_properties['weight'])"
   ]
  },
  {
   "cell_type": "code",
   "execution_count": 56,
   "metadata": {},
   "outputs": [
    {
     "name": "stdout",
     "output_type": "stream",
     "text": [
      "100.0\n"
     ]
    }
   ],
   "source": [
    "print(dist)"
   ]
  },
  {
   "cell_type": "code",
   "execution_count": 57,
   "metadata": {},
   "outputs": [
    {
     "name": "stdout",
     "output_type": "stream",
     "text": [
      "<VertexPropertyMap object with value type 'double', for Graph 0x7f73b5bf8908, at 0x7f73b5c07668>\n"
     ]
    }
   ],
   "source": [
    "dist = gt.shortest_distance(i, source=i.vertex(0), weights=i.edge_properties['weight'])\n",
    "print(dist)"
   ]
  },
  {
   "cell_type": "code",
   "execution_count": 58,
   "metadata": {},
   "outputs": [
    {
     "name": "stdout",
     "output_type": "stream",
     "text": [
      "1000.0\n"
     ]
    }
   ],
   "source": [
    "dist = gt.shortest_distance(i, source=i.vertex(0), target=i.vertex(5), weights=i.edge_properties['weight'])\n",
    "print(dist)"
   ]
  },
  {
   "cell_type": "code",
   "execution_count": 59,
   "metadata": {},
   "outputs": [
    {
     "name": "stdout",
     "output_type": "stream",
     "text": [
      "500.0\n"
     ]
    }
   ],
   "source": [
    "i = Graph()\n",
    "num_vertices = 5\n",
    "i.add_vertex(5)\n",
    "edge_weights = i.new_edge_property('double')\n",
    "i.edge_properties['weight'] = edge_weights\n",
    "for j in range(0,num_vertices):\n",
    "    k = j+1\n",
    "    e = i.add_edge(j,k)\n",
    "    edge_weights[e] = 100\n",
    "    \n",
    "dist = gt.shortest_distance(i, source=i.vertex(0), target=i.vertex(5), weights=i.edge_properties['weight'])\n",
    "print(dist)"
   ]
  },
  {
   "cell_type": "code",
   "execution_count": 60,
   "metadata": {},
   "outputs": [
    {
     "name": "stdout",
     "output_type": "stream",
     "text": [
      "5.0\n"
     ]
    }
   ],
   "source": [
    "j = Graph()\n",
    "num_vertices = 5\n",
    "j.add_vertex(5)\n",
    "edge_weights = j.new_edge_property('double')\n",
    "j.edge_properties['weight'] = edge_weights\n",
    "for k in range(0,num_vertices):\n",
    "    l = k+1\n",
    "    e = j.add_edge(k,l)\n",
    "    edge_weights[e] = 1\n",
    "\n",
    "graph_draw(j, vertex_text=j.vertex_index, vertex_font_size=18, output_size=(200, 200), output=\"graphJ.png\")\n",
    "\n",
    "dist = gt.shortest_distance(j, source=j.vertex(0), target=j.vertex(5), weights=j.edge_properties['weight'])\n",
    "print(dist)"
   ]
  },
  {
   "cell_type": "code",
   "execution_count": 61,
   "metadata": {},
   "outputs": [
    {
     "name": "stdout",
     "output_type": "stream",
     "text": [
      "5.0\n"
     ]
    }
   ],
   "source": [
    "j = Graph()\n",
    "num_vertices = 5\n",
    "j.add_vertex(5)\n",
    "edge_weights = j.new_edge_property('double')\n",
    "j.edge_properties['weight'] = edge_weights\n",
    "for k in range(0,num_vertices):\n",
    "    l = k+1\n",
    "    e = j.add_edge(k,l)\n",
    "    edge_weights[e] = 1\n",
    "\n",
    "graph_draw(j, vertex_text=j.vertex_index, vertex_font_size=18, output_size=(200, 200), output=\"graphJ.png\")\n",
    "\n",
    "dist = gt.shortest_distance(j, source=j.vertex(0), target=j.vertex(5), weights=j.edge_properties['weight'])\n",
    "print(dist)"
   ]
  },
  {
   "cell_type": "code",
   "execution_count": 62,
   "metadata": {},
   "outputs": [
    {
     "name": "stdout",
     "output_type": "stream",
     "text": [
      "inf\n"
     ]
    }
   ],
   "source": [
    "i = Graph()\n",
    "num_vertices = 8\n",
    "i.add_vertex(8)\n",
    "edge_weights = i.new_edge_property('double')\n",
    "i.edge_properties['weight'] = edge_weights\n",
    "e0 = i.add_edge(0,2)\n",
    "e1 = i.add_edge(0,4)\n",
    "e2 = i.add_edge(0,6)\n",
    "e3 = i.add_edge(2,1)\n",
    "e4 = i.add_edge(4,3)\n",
    "e5 = i.add_edge(1,7)\n",
    "e6 = i.add_edge(1,5)\n",
    "e7 = i.add_edge(3,5)\n",
    "e8 = i.add_edge(8,5)\n",
    "edge_weights[e0] = 1\n",
    "edge_weights[e1] = 1\n",
    "edge_weights[e2] = 1\n",
    "edge_weights[e3] = 1\n",
    "edge_weights[e4] = 1\n",
    "edge_weights[e5] = 1\n",
    "edge_weights[e6] = 2\n",
    "edge_weights[e7] = 3\n",
    "edge_weights[e8] = 1\n",
    "\n",
    "graph_draw(i, vertex_text=i.vertex_index, vertex_font_size=18, output_size=(200, 200), output=\"graphI.png\")\n",
    "\n",
    "dist = gt.shortest_distance(i, source=i.vertex(0), target=i.vertex(5), weights=i.edge_properties['weight'])\n",
    "print(dist)\n"
   ]
  },
  {
   "cell_type": "code",
   "execution_count": 63,
   "metadata": {},
   "outputs": [
    {
     "name": "stdout",
     "output_type": "stream",
     "text": [
      "5\n"
     ]
    }
   ],
   "source": [
    "print(i.vertex(5))"
   ]
  },
  {
   "cell_type": "code",
   "execution_count": 64,
   "metadata": {},
   "outputs": [
    {
     "name": "stdout",
     "output_type": "stream",
     "text": [
      "4.0\n"
     ]
    }
   ],
   "source": [
    "i = Graph()\n",
    "num_vertices = 8\n",
    "i.add_vertex(8)\n",
    "edge_weights = i.new_edge_property('double')\n",
    "i.edge_properties['weight'] = edge_weights\n",
    "e0 = i.add_edge(0,2)\n",
    "e1 = i.add_edge(0,4)\n",
    "e2 = i.add_edge(0,6)\n",
    "e3 = i.add_edge(2,1)\n",
    "e4 = i.add_edge(4,3)\n",
    "e5 = i.add_edge(1,7)\n",
    "e6 = i.add_edge(1,5)\n",
    "e7 = i.add_edge(3,5)\n",
    "e8 = i.add_edge(8,5)\n",
    "edge_weights[e0] = 1\n",
    "edge_weights[e1] = 1\n",
    "edge_weights[e2] = 1\n",
    "edge_weights[e3] = 1\n",
    "edge_weights[e4] = 1\n",
    "edge_weights[e5] = 1\n",
    "edge_weights[e6] = 2\n",
    "edge_weights[e7] = 3\n",
    "edge_weights[e8] = 1\n",
    "\n",
    "graph_draw(i, vertex_text=i.vertex_index, vertex_font_size=18, output_size=(200, 200), output=\"graphI.png\")\n",
    "\n",
    "dist = gt.shortest_distance(i, source=i.vertex(0), target=i.vertex(5), weights=i.edge_properties['weight'])\n",
    "print(dist)\n"
   ]
  },
  {
   "cell_type": "code",
   "execution_count": 65,
   "metadata": {},
   "outputs": [
    {
     "name": "stdout",
     "output_type": "stream",
     "text": [
      "([<Vertex object with index '0' at 0x7f73b57c97b0>, <Vertex object with index '2' at 0x7f73b57c9750>, <Vertex object with index '1' at 0x7f73b5c1db10>, <Vertex object with index '5' at 0x7f73fed944b0>], [<Edge object with source '0' and target '2' at 0x7f73b58f4eb8>, <Edge object with source '2' and target '1' at 0x7f73b58f4e40>, <Edge object with source '1' and target '5' at 0x7f73b58f4dc8>])\n"
     ]
    }
   ],
   "source": [
    "path = gt.shortest_path(i, source=i.vertex(0), target=i.vertex(5), weights=i.edge_properties['weight'])\n",
    "print(path)"
   ]
  },
  {
   "cell_type": "code",
   "execution_count": 66,
   "metadata": {},
   "outputs": [
    {
     "name": "stdout",
     "output_type": "stream",
     "text": [
      "([<Vertex object with index '0' at 0x7f73b57c95d0>, <Vertex object with index '6' at 0x7f73b57c98d0>], [<Edge object with source '0' and target '6' at 0x7f73b58f4d50>])\n"
     ]
    }
   ],
   "source": [
    "path = gt.shortest_path(i, source=i.vertex(0), target=i.vertex(6), weights=i.edge_properties['weight'])\n",
    "print(path)"
   ]
  },
  {
   "cell_type": "code",
   "execution_count": 67,
   "metadata": {},
   "outputs": [
    {
     "name": "stdout",
     "output_type": "stream",
     "text": [
      "1.0\n"
     ]
    }
   ],
   "source": [
    "dist = gt.shortest_distance(i, source=i.vertex(0), target=i.vertex(6), weights=i.edge_properties['weight'])\n",
    "print(dist)"
   ]
  },
  {
   "cell_type": "code",
   "execution_count": 68,
   "metadata": {},
   "outputs": [
    {
     "name": "stdout",
     "output_type": "stream",
     "text": [
      "1.0\n"
     ]
    }
   ],
   "source": [
    "dist = gt.shortest_distance(i, source=i.vertex(0), target=i.vertex(6), weights=i.edge_properties['weight'])\n",
    "print(dist)"
   ]
  },
  {
   "cell_type": "code",
   "execution_count": 69,
   "metadata": {},
   "outputs": [
    {
     "name": "stdout",
     "output_type": "stream",
     "text": [
      "<graph_tool.libgraph_tool_core.CoroGenerator object at 0x7f73b58faf10>\n"
     ]
    }
   ],
   "source": [
    "paths = gt.all_shortest_paths(i, source=i.vertex(0), target=i.vertex(5), weights=i.edge_properties['weight'])\n",
    "print(paths)"
   ]
  },
  {
   "cell_type": "code",
   "execution_count": 70,
   "metadata": {},
   "outputs": [
    {
     "name": "stdout",
     "output_type": "stream",
     "text": [
      "<bound method _in_degree of <Vertex object with index '0' at 0x7f73fed944b0>>\n"
     ]
    }
   ],
   "source": [
    "inDegree = []\n",
    "outDegree = []\n",
    "print(i.vertex(0).in_degree)"
   ]
  },
  {
   "cell_type": "code",
   "execution_count": 71,
   "metadata": {},
   "outputs": [
    {
     "name": "stdout",
     "output_type": "stream",
     "text": [
      "<bound method _in_degree of <Vertex object with index '0' at 0x7f73b5a6a210>>\n"
     ]
    }
   ],
   "source": [
    "degree = i.vertex(0).in_degree\n",
    "print(degree)"
   ]
  },
  {
   "cell_type": "code",
   "execution_count": 72,
   "metadata": {},
   "outputs": [
    {
     "ename": "TypeError",
     "evalue": "int() argument must be a string, a bytes-like object or a number, not 'method'",
     "output_type": "error",
     "traceback": [
      "\u001b[0;31m---------------------------------------------------------------------------\u001b[0m",
      "\u001b[0;31mTypeError\u001b[0m                                 Traceback (most recent call last)",
      "\u001b[0;32m<ipython-input-72-988a4ca6a8d7>\u001b[0m in \u001b[0;36m<module>\u001b[0;34m\u001b[0m\n\u001b[1;32m      1\u001b[0m \u001b[0mdegree\u001b[0m \u001b[0;34m=\u001b[0m \u001b[0mi\u001b[0m\u001b[0;34m.\u001b[0m\u001b[0mvertex\u001b[0m\u001b[0;34m(\u001b[0m\u001b[0;36m0\u001b[0m\u001b[0;34m)\u001b[0m\u001b[0;34m.\u001b[0m\u001b[0min_degree\u001b[0m\u001b[0;34m\u001b[0m\u001b[0;34m\u001b[0m\u001b[0m\n\u001b[0;32m----> 2\u001b[0;31m \u001b[0mprint\u001b[0m\u001b[0;34m(\u001b[0m\u001b[0mint\u001b[0m\u001b[0;34m(\u001b[0m\u001b[0mdegree\u001b[0m\u001b[0;34m)\u001b[0m\u001b[0;34m)\u001b[0m\u001b[0;34m\u001b[0m\u001b[0;34m\u001b[0m\u001b[0m\n\u001b[0m",
      "\u001b[0;31mTypeError\u001b[0m: int() argument must be a string, a bytes-like object or a number, not 'method'"
     ]
    }
   ],
   "source": [
    "degree = i.vertex(0).in_degree\n",
    "print(int(degree))"
   ]
  },
  {
   "cell_type": "code",
   "execution_count": 73,
   "metadata": {},
   "outputs": [
    {
     "name": "stdout",
     "output_type": "stream",
     "text": [
      "0\n"
     ]
    }
   ],
   "source": [
    "v0 = i.vertex(0)\n",
    "print(v0)"
   ]
  },
  {
   "cell_type": "code",
   "execution_count": 78,
   "metadata": {},
   "outputs": [
    {
     "name": "stdout",
     "output_type": "stream",
     "text": [
      "0\n"
     ]
    }
   ],
   "source": [
    "degree = v0.in_degree()\n",
    "print(v0)"
   ]
  },
  {
   "cell_type": "code",
   "execution_count": 75,
   "metadata": {},
   "outputs": [
    {
     "name": "stdout",
     "output_type": "stream",
     "text": [
      "5\n",
      "3\n"
     ]
    }
   ],
   "source": [
    "v5 = i.vertex(5)\n",
    "print(v5)\n",
    "degree = v5.in_degree()\n",
    "print(degree)"
   ]
  },
  {
   "cell_type": "code",
   "execution_count": 76,
   "metadata": {},
   "outputs": [
    {
     "name": "stdout",
     "output_type": "stream",
     "text": [
      "0\n"
     ]
    }
   ],
   "source": [
    "degree = v0.in_degree()\n",
    "print(degree)"
   ]
  },
  {
   "cell_type": "code",
   "execution_count": 77,
   "metadata": {},
   "outputs": [
    {
     "name": "stdout",
     "output_type": "stream",
     "text": [
      "[<Vertex object with index '0' at 0x7f73b5a6a3f0>]\n",
      "[]\n"
     ]
    }
   ],
   "source": [
    "inDegree = []\n",
    "outDegree = []\n",
    "for x in range(num_vertices):\n",
    "    v = i.vertex(x)\n",
    "    if v.in_degree() == 0:\n",
    "        inDegree.append(v)\n",
    "    if v.out_degree == 0:\n",
    "        outDegree.append(v)\n",
    "\n",
    "print(inDegree)\n",
    "print(outDegree)\n",
    "    "
   ]
  },
  {
   "cell_type": "code",
   "execution_count": null,
   "metadata": {},
   "outputs": [],
   "source": [
    "i = Graph()\n",
    "num_vertices = 8\n",
    "i.add_vertex(8)\n",
    "edge_weights = i.new_edge_property('double')\n",
    "i.edge_properties['weight'] = edge_weights\n",
    "e0 = i.add_edge(0,2)\n",
    "e1 = i.add_edge(0,4)\n",
    "e2 = i.add_edge(0,6)\n",
    "e3 = i.add_edge(2,1)\n",
    "e4 = i.add_edge(4,3)\n",
    "e5 = i.add_edge(1,7)\n",
    "e6 = i.add_edge(1,5)\n",
    "e7 = i.add_edge(3,5)\n",
    "e8 = i.add_edge(8,5)\n",
    "edge_weights[e0] = 1\n",
    "edge_weights[e1] = 1\n",
    "edge_weights[e2] = 1\n",
    "edge_weights[e3] = 1\n",
    "edge_weights[e4] = 1\n",
    "edge_weights[e5] = 1\n",
    "edge_weights[e6] = 2\n",
    "edge_weights[e7] = 3\n",
    "edge_weights[e8] = 1\n",
    "\n",
    "inDegree = []\n",
    "outDegree = []\n",
    "for x in range(num_vertices+1):\n",
    "    v = i.vertex(x)\n",
    "    if v.in_degree() == 0:\n",
    "        inDegree.append(x)\n",
    "    if v.out_degree() == 0:\n",
    "        outDegree.append(x)\n",
    "\n",
    "# print(inDegree)\n",
    "# print(outDegree)\n",
    "\n",
    "for degreeIn in inDegree:\n",
    "    minDist = []\n",
    "    minDegree = []\n",
    "    allRoutes = []\n",
    "    for degreeOut in outDegree:\n",
    "        dist = gt.shortest_distance(i, source=i.vertex(degreeIn), target=i.vertex(degreeOut), weights=i.edge_properties['weight'])\n",
    "        if dist != 'inf':\n",
    "            minDist.append(dist)\n",
    "            minDegree.append(degreeOut)\n",
    "#             allRoutes.append(gt.shortest_path(i, source=i.vertex(degreeIn), target=i.vertex(degreeOut), weights=i.edge_properties['weight']))\n",
    "    shortestLen = min(minDist)\n",
    "    shortestDegree = minDegree[minDist.index(shortestLen)]\n",
    "    shortestRoute = allRoutes[minDist.index(shortestLen)]\n",
    "    print(\"Shortest path starting at \",degreeIn, \" ends at \", shortestDegree, \" with length \", shortestLen)\n",
    "#     print(\"The shortest route is \", shortestRoute)\n",
    "   \n",
    "        "
   ]
  },
  {
   "cell_type": "code",
   "execution_count": null,
   "metadata": {},
   "outputs": [],
   "source": []
  },
  {
   "cell_type": "code",
   "execution_count": null,
   "metadata": {},
   "outputs": [],
   "source": []
  }
 ],
 "metadata": {
  "kernelspec": {
   "display_name": "Python 3",
   "language": "python",
   "name": "python3"
  },
  "language_info": {
   "codemirror_mode": {
    "name": "ipython",
    "version": 3
   },
   "file_extension": ".py",
   "mimetype": "text/x-python",
   "name": "python",
   "nbconvert_exporter": "python",
   "pygments_lexer": "ipython3",
   "version": "3.6.8"
  }
 },
 "nbformat": 4,
 "nbformat_minor": 2
}
