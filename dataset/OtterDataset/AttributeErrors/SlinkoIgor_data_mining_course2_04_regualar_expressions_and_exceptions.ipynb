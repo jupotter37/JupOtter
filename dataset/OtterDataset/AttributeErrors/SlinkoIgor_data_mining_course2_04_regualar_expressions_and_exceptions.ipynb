{
 "cells": [
  {
   "cell_type": "markdown",
   "metadata": {},
   "source": [
    "# Try/Except для обработки ошибок"
   ]
  },
  {
   "cell_type": "code",
   "execution_count": 4,
   "metadata": {},
   "outputs": [
    {
     "name": "stdout",
     "output_type": "stream",
     "text": [
      "Текст записан успешно\n"
     ]
    }
   ],
   "source": [
    "try:\n",
    "    f = open('somefile','w')\n",
    "    f.write('Some text')\n",
    "except IOError:\n",
    "    # Это выражение отлавливает только ошибки отсутствия файла в директории\n",
    "    print(\"Ошибка: невозможно найти или прочесть файл\")\n",
    "else:\n",
    "    print(\"Текст записан успешно\")\n",
    "    f.close()\n",
    "\n"
   ]
  },
  {
   "cell_type": "code",
   "execution_count": 5,
   "metadata": {},
   "outputs": [
    {
     "name": "stdout",
     "output_type": "stream",
     "text": [
      "Ошибка: невозможно найти или прочесть файл\n"
     ]
    }
   ],
   "source": [
    "try:\n",
    "    f = open('somefile','r')\n",
    "    f.write('Some text')\n",
    "except IOError:\n",
    "    # Это выражение отлавливает только ошибки отсутствия файла в директории\n",
    "    print(\"Ошибка: невозможно найти или прочесть файл\")\n",
    "else:\n",
    "    print(\"Текст записан успешно\")\n",
    "    f.close()"
   ]
  },
  {
   "cell_type": "code",
   "execution_count": 6,
   "metadata": {},
   "outputs": [
    {
     "name": "stdout",
     "output_type": "stream",
     "text": [
      "Ошибка: невозможно найти или прочесть файл\n"
     ]
    }
   ],
   "source": [
    "try:\n",
    "    f = open('somefile','r')\n",
    "    f.write('Some text')\n",
    "except:\n",
    "    # Это выражение отлавливает все ошибки\n",
    "    print(\"Ошибка: невозможно найти или прочесть файл\")\n",
    "else:\n",
    "    print(\"Текст записан успешно\")\n",
    "    f.close()"
   ]
  },
  {
   "cell_type": "markdown",
   "metadata": {},
   "source": [
    "## Finally"
   ]
  },
  {
   "cell_type": "code",
   "execution_count": 8,
   "metadata": {},
   "outputs": [
    {
     "name": "stdout",
     "output_type": "stream",
     "text": [
      "Всегда выполняемый блок\n"
     ]
    }
   ],
   "source": [
    "try:\n",
    "    f = open('somefile','w')\n",
    "    f.write('Some text')\n",
    "    f.close()\n",
    "finally:\n",
    "    print('Всегда выполняемый блок')\n",
    "    "
   ]
  },
  {
   "cell_type": "code",
   "execution_count": 9,
   "metadata": {},
   "outputs": [
    {
     "name": "stdout",
     "output_type": "stream",
     "text": [
      "Всегда выполняемый блок\n"
     ]
    },
    {
     "ename": "UnsupportedOperation",
     "evalue": "not writable",
     "output_type": "error",
     "traceback": [
      "\u001b[0;31m---------------------------------------------------------------------------\u001b[0m",
      "\u001b[0;31mUnsupportedOperation\u001b[0m                      Traceback (most recent call last)",
      "\u001b[0;32m<ipython-input-9-2fcab26cacc3>\u001b[0m in \u001b[0;36m<module>\u001b[0;34m()\u001b[0m\n\u001b[1;32m      1\u001b[0m \u001b[0;32mtry\u001b[0m\u001b[0;34m:\u001b[0m\u001b[0;34m\u001b[0m\u001b[0m\n\u001b[1;32m      2\u001b[0m     \u001b[0mf\u001b[0m \u001b[0;34m=\u001b[0m \u001b[0mopen\u001b[0m\u001b[0;34m(\u001b[0m\u001b[0;34m'somefile'\u001b[0m\u001b[0;34m,\u001b[0m\u001b[0;34m'r'\u001b[0m\u001b[0;34m)\u001b[0m\u001b[0;34m\u001b[0m\u001b[0m\n\u001b[0;32m----> 3\u001b[0;31m     \u001b[0mf\u001b[0m\u001b[0;34m.\u001b[0m\u001b[0mwrite\u001b[0m\u001b[0;34m(\u001b[0m\u001b[0;34m'Some text'\u001b[0m\u001b[0;34m)\u001b[0m\u001b[0;34m\u001b[0m\u001b[0m\n\u001b[0m\u001b[1;32m      4\u001b[0m     \u001b[0mf\u001b[0m\u001b[0;34m.\u001b[0m\u001b[0mclose\u001b[0m\u001b[0;34m(\u001b[0m\u001b[0;34m)\u001b[0m\u001b[0;34m\u001b[0m\u001b[0m\n\u001b[1;32m      5\u001b[0m \u001b[0;32mfinally\u001b[0m\u001b[0;34m:\u001b[0m\u001b[0;34m\u001b[0m\u001b[0m\n",
      "\u001b[0;31mUnsupportedOperation\u001b[0m: not writable"
     ]
    }
   ],
   "source": [
    "try:\n",
    "    f = open('somefile','r')\n",
    "    f.write('Some text')\n",
    "    f.close()\n",
    "finally:\n",
    "    print('Всегда выполняемый блок')"
   ]
  },
  {
   "cell_type": "code",
   "execution_count": 19,
   "metadata": {},
   "outputs": [],
   "source": [
    "def askint():\n",
    "    while True:\n",
    "        try:\n",
    "            val = int(input(\"Введите целое число: \"))\n",
    "        except:\n",
    "            print(\"Кажется, вы ввели не целое число.\")\n",
    "            continue\n",
    "        else:\n",
    "            print(\"Да, это целое число.\")\n",
    "            break\n",
    "        finally:\n",
    "            print(\"В итоге, финальная часть выполнилась.\")\n",
    "        print(val)"
   ]
  },
  {
   "cell_type": "code",
   "execution_count": null,
   "metadata": {},
   "outputs": [
    {
     "name": "stdout",
     "output_type": "stream",
     "text": [
      "Введите целое число: gyu\n",
      "Кажется, вы ввели не целое число.\n",
      "В итоге, финальная часть выполнилась.\n",
      "Введите целое число: hlj\n",
      "Кажется, вы ввели не целое число.\n",
      "В итоге, финальная часть выполнилась.\n",
      "Введите целое число: jkl'\n",
      "Кажется, вы ввели не целое число.\n",
      "В итоге, финальная часть выполнилась.\n",
      "Введите целое число: 6\n",
      "Да, это целое число.\n",
      "В итоге, финальная часть выполнилась.\n",
      "6\n",
      "Введите целое число: 6\n",
      "Да, это целое число.\n",
      "В итоге, финальная часть выполнилась.\n",
      "6\n",
      "Кажется, вы ввели не целое число.\n",
      "В итоге, финальная часть выполнилась.\n",
      "Кажется, вы ввели не целое число.\n",
      "В итоге, финальная часть выполнилась.\n",
      "Кажется, вы ввели не целое число.\n",
      "В итоге, финальная часть выполнилась.\n",
      "Кажется, вы ввели не целое число.\n",
      "В итоге, финальная часть выполнилась.\n",
      "Кажется, вы ввели не целое число.\n",
      "В итоге, финальная часть выполнилась.\n",
      "Кажется, вы ввели не целое число.\n",
      "В итоге, финальная часть выполнилась.\n"
     ]
    }
   ],
   "source": [
    "askint()"
   ]
  },
  {
   "cell_type": "code",
   "execution_count": 1,
   "metadata": {},
   "outputs": [],
   "source": [
    "def askint():\n",
    "    while True:\n",
    "        try:\n",
    "            val = int(input(\"Введите целое число: \"))\n",
    "        except:\n",
    "            print(\"Кажется, вы ввели не целое число.\")\n",
    "            continue\n",
    "        else:\n",
    "            print(\"Да, это целое число.\")\n",
    "            print(val)\n",
    "            break\n",
    "        finally:\n",
    "            print(\"В итоге, финальная часть выполнилась.\")\n",
    "        "
   ]
  },
  {
   "cell_type": "code",
   "execution_count": 2,
   "metadata": {},
   "outputs": [
    {
     "name": "stdout",
     "output_type": "stream",
     "text": [
      "Введите целое число: 5\n",
      "Да, это целое число.\n",
      "5\n",
      "В итоге, финальная часть выполнилась.\n"
     ]
    }
   ],
   "source": [
    "askint()"
   ]
  },
  {
   "cell_type": "markdown",
   "metadata": {},
   "source": [
    "# Блиц 1\n",
    "1. Перепишите код с помощью try/except так, чтобы ошибка не выводилась."
   ]
  },
  {
   "cell_type": "code",
   "execution_count": 4,
   "metadata": {},
   "outputs": [
    {
     "ename": "TypeError",
     "evalue": "unsupported operand type(s) for ** or pow(): 'str' and 'int'",
     "output_type": "error",
     "traceback": [
      "\u001b[0;31m---------------------------------------------------------------------------\u001b[0m",
      "\u001b[0;31mTypeError\u001b[0m                                 Traceback (most recent call last)",
      "\u001b[0;32m<ipython-input-4-c35f41ad7311>\u001b[0m in \u001b[0;36m<module>\u001b[0;34m()\u001b[0m\n\u001b[1;32m      1\u001b[0m \u001b[0;32mfor\u001b[0m \u001b[0mi\u001b[0m \u001b[0;32min\u001b[0m \u001b[0;34m[\u001b[0m\u001b[0;34m'a'\u001b[0m\u001b[0;34m,\u001b[0m\u001b[0;34m'b'\u001b[0m\u001b[0;34m,\u001b[0m\u001b[0;34m'c'\u001b[0m\u001b[0;34m]\u001b[0m\u001b[0;34m:\u001b[0m\u001b[0;34m\u001b[0m\u001b[0m\n\u001b[0;32m----> 2\u001b[0;31m     \u001b[0mprint\u001b[0m\u001b[0;34m(\u001b[0m\u001b[0mi\u001b[0m\u001b[0;34m**\u001b[0m\u001b[0;36m2\u001b[0m\u001b[0;34m)\u001b[0m\u001b[0;34m\u001b[0m\u001b[0m\n\u001b[0m",
      "\u001b[0;31mTypeError\u001b[0m: unsupported operand type(s) for ** or pow(): 'str' and 'int'"
     ]
    }
   ],
   "source": [
    "for i in ['a','b','c']:\n",
    "    print(i**5)"
   ]
  },
  {
   "cell_type": "code",
   "execution_count": 6,
   "metadata": {},
   "outputs": [],
   "source": [
    "try:\n",
    "    for i in ['a','b','c']:\n",
    "        print(i**5)\n",
    "except:\n",
    "    pass"
   ]
  },
  {
   "cell_type": "markdown",
   "metadata": {},
   "source": [
    "2. Перепишите код с помощью try/except/finally так, чтобы не выводилась ошибка. Используйте специальный exception, который подсказывает ошибка. В конце выведите: \"Дело сделано!\""
   ]
  },
  {
   "cell_type": "code",
   "execution_count": 5,
   "metadata": {},
   "outputs": [
    {
     "ename": "ZeroDivisionError",
     "evalue": "division by zero",
     "output_type": "error",
     "traceback": [
      "\u001b[0;31m---------------------------------------------------------------------------\u001b[0m",
      "\u001b[0;31mZeroDivisionError\u001b[0m                         Traceback (most recent call last)",
      "\u001b[0;32m<ipython-input-5-871ce54118f4>\u001b[0m in \u001b[0;36m<module>\u001b[0;34m()\u001b[0m\n\u001b[1;32m      2\u001b[0m \u001b[0my\u001b[0m \u001b[0;34m=\u001b[0m \u001b[0;36m0\u001b[0m\u001b[0;34m\u001b[0m\u001b[0m\n\u001b[1;32m      3\u001b[0m \u001b[0;34m\u001b[0m\u001b[0m\n\u001b[0;32m----> 4\u001b[0;31m \u001b[0mz\u001b[0m \u001b[0;34m=\u001b[0m \u001b[0mx\u001b[0m\u001b[0;34m/\u001b[0m\u001b[0my\u001b[0m\u001b[0;34m\u001b[0m\u001b[0m\n\u001b[0m",
      "\u001b[0;31mZeroDivisionError\u001b[0m: division by zero"
     ]
    }
   ],
   "source": [
    "x = 42\n",
    "y = 0\n",
    "\n",
    "z = x/y"
   ]
  },
  {
   "cell_type": "code",
   "execution_count": 8,
   "metadata": {},
   "outputs": [
    {
     "name": "stdout",
     "output_type": "stream",
     "text": [
      "Дело сделано!\n"
     ]
    }
   ],
   "source": [
    "x = 42\n",
    "y = 0\n",
    "try:\n",
    "    z = x/y\n",
    "except ZeroDivisionError:\n",
    "    pass\n",
    "finally:\n",
    "    print('Дело сделано!')\n",
    "    "
   ]
  },
  {
   "cell_type": "markdown",
   "metadata": {},
   "source": [
    "3. Напишите функцию, которая спрашивает целое число, пока оно не будет введено, и выводит его квадрат. Используйте while/try/except/else."
   ]
  },
  {
   "cell_type": "code",
   "execution_count": 10,
   "metadata": {},
   "outputs": [],
   "source": [
    "def askint():\n",
    "    while True:\n",
    "        try:\n",
    "            print('Введите целое число.')\n",
    "            val = int(input())\n",
    "        except:\n",
    "            print('Это не целое число.')\n",
    "        else:\n",
    "            print('Квадрат введенного целого числа: ', val)\n",
    "            break"
   ]
  },
  {
   "cell_type": "code",
   "execution_count": 11,
   "metadata": {},
   "outputs": [
    {
     "name": "stdout",
     "output_type": "stream",
     "text": [
      "Введите целое число.\n",
      "six\n",
      "Это не целое число.\n",
      "Введите целое число.\n",
      "null\n",
      "Это не целое число.\n",
      "Введите целое число.\n",
      "0\n",
      "Квадрат введенного целого числа:  0\n"
     ]
    }
   ],
   "source": [
    "askint()"
   ]
  },
  {
   "cell_type": "markdown",
   "metadata": {},
   "source": [
    "# Полезные модули\n",
    "## Collections\n",
    "\n",
    "Этот модуль предоставляет альтернативные контейнерные типы данных. Встроенные контейнерные типы данных: dict, list, set, tuple. И сейчас мы разберем их альтернативы.\n",
    "\n",
    "### Counter\n",
    "\n",
    "Counter - это словарь, который хранит в качестве ключей элементы рассматриваемого итерируемого объекта, а в качестве значений - их количества."
   ]
  },
  {
   "cell_type": "code",
   "execution_count": 1,
   "metadata": {},
   "outputs": [],
   "source": [
    "from collections import Counter"
   ]
  },
  {
   "cell_type": "code",
   "execution_count": 2,
   "metadata": {},
   "outputs": [
    {
     "data": {
      "text/plain": [
       "Counter({1: 4, 2: 3, 3: 2, 4: 1})"
      ]
     },
     "execution_count": 2,
     "metadata": {},
     "output_type": "execute_result"
    }
   ],
   "source": [
    "my_list = [1, 1, 1, 1, 2, 2, 2, 3, 3, 4]\n",
    "\n",
    "Counter(my_list)"
   ]
  },
  {
   "cell_type": "code",
   "execution_count": 3,
   "metadata": {},
   "outputs": [
    {
     "data": {
      "text/plain": [
       "Counter({'a': 3,\n",
       "         'l': 1,\n",
       "         'k': 2,\n",
       "         's': 3,\n",
       "         'b': 2,\n",
       "         'h': 2,\n",
       "         'd': 2,\n",
       "         'j': 3,\n",
       "         'v': 2,\n",
       "         'g': 2,\n",
       "         'c': 1})"
      ]
     },
     "execution_count": 3,
     "metadata": {},
     "output_type": "execute_result"
    }
   ],
   "source": [
    "my_string = 'alksbhasdjvbjgvcsakjhdg'\n",
    "\n",
    "Counter(my_string)"
   ]
  },
  {
   "cell_type": "code",
   "execution_count": 6,
   "metadata": {},
   "outputs": [
    {
     "data": {
      "text/plain": [
       "Counter({'раз': 4, 'два': 2, 'три': 2, 'четыре': 1})"
      ]
     },
     "execution_count": 6,
     "metadata": {},
     "output_type": "execute_result"
    }
   ],
   "source": [
    "my_string2 = 'раз раз раз два три раз два три четыре'\n",
    "string = my_string2.split()\n",
    "\n",
    "Counter(string)"
   ]
  },
  {
   "cell_type": "code",
   "execution_count": 8,
   "metadata": {},
   "outputs": [
    {
     "data": {
      "text/plain": [
       "[('раз', 4), ('два', 2), ('три', 2), ('четыре', 1)]"
      ]
     },
     "execution_count": 8,
     "metadata": {},
     "output_type": "execute_result"
    }
   ],
   "source": [
    "c = Counter(string)\n",
    "\n",
    "c.most_common()"
   ]
  },
  {
   "cell_type": "code",
   "execution_count": 9,
   "metadata": {},
   "outputs": [
    {
     "data": {
      "text/plain": [
       "[('раз', 4), ('два', 2)]"
      ]
     },
     "execution_count": 9,
     "metadata": {},
     "output_type": "execute_result"
    }
   ],
   "source": [
    "c.most_common(2)"
   ]
  },
  {
   "cell_type": "code",
   "execution_count": 10,
   "metadata": {},
   "outputs": [
    {
     "data": {
      "text/plain": [
       "9"
      ]
     },
     "execution_count": 10,
     "metadata": {},
     "output_type": "execute_result"
    }
   ],
   "source": [
    "sum(c.values())"
   ]
  },
  {
   "cell_type": "code",
   "execution_count": 12,
   "metadata": {},
   "outputs": [
    {
     "data": {
      "text/plain": [
       "({'раз': 4, 'два': 2, 'три': 2, 'четыре': 1},\n",
       " {'два', 'раз', 'три', 'четыре'},\n",
       " ['раз', 'два', 'три', 'четыре'])"
      ]
     },
     "execution_count": 12,
     "metadata": {},
     "output_type": "execute_result"
    }
   ],
   "source": [
    "dict(c), set(c), list(c)"
   ]
  },
  {
   "cell_type": "code",
   "execution_count": 13,
   "metadata": {},
   "outputs": [
    {
     "data": {
      "text/plain": [
       "dict_values([4, 2, 2, 1])"
      ]
     },
     "execution_count": 13,
     "metadata": {},
     "output_type": "execute_result"
    }
   ],
   "source": [
    "c.values()"
   ]
  },
  {
   "cell_type": "code",
   "execution_count": 14,
   "metadata": {},
   "outputs": [
    {
     "data": {
      "text/plain": [
       "Counter({'раз': 8, 'два': 4, 'три': 4, 'четыре': 2})"
      ]
     },
     "execution_count": 14,
     "metadata": {},
     "output_type": "execute_result"
    }
   ],
   "source": [
    "c += Counter(string)\n",
    "c"
   ]
  },
  {
   "cell_type": "code",
   "execution_count": 15,
   "metadata": {},
   "outputs": [],
   "source": [
    "c.clear()"
   ]
  },
  {
   "cell_type": "code",
   "execution_count": 16,
   "metadata": {},
   "outputs": [
    {
     "data": {
      "text/plain": [
       "Counter()"
      ]
     },
     "execution_count": 16,
     "metadata": {},
     "output_type": "execute_result"
    }
   ],
   "source": [
    "c"
   ]
  },
  {
   "cell_type": "markdown",
   "metadata": {},
   "source": [
    "### defaultdict\n"
   ]
  },
  {
   "cell_type": "code",
   "execution_count": 17,
   "metadata": {},
   "outputs": [
    {
     "ename": "KeyError",
     "evalue": "'one'",
     "output_type": "error",
     "traceback": [
      "\u001b[0;31m---------------------------------------------------------------------------\u001b[0m",
      "\u001b[0;31mKeyError\u001b[0m                                  Traceback (most recent call last)",
      "\u001b[0;32m<ipython-input-17-2e9654fe7729>\u001b[0m in \u001b[0;36m<module>\u001b[0;34m()\u001b[0m\n\u001b[1;32m      1\u001b[0m \u001b[0md\u001b[0m \u001b[0;34m=\u001b[0m \u001b[0;34m{\u001b[0m\u001b[0;34m}\u001b[0m\u001b[0;34m\u001b[0m\u001b[0m\n\u001b[1;32m      2\u001b[0m \u001b[0;34m\u001b[0m\u001b[0m\n\u001b[0;32m----> 3\u001b[0;31m \u001b[0md\u001b[0m\u001b[0;34m[\u001b[0m\u001b[0;34m'one'\u001b[0m\u001b[0;34m]\u001b[0m\u001b[0;34m\u001b[0m\u001b[0m\n\u001b[0m",
      "\u001b[0;31mKeyError\u001b[0m: 'one'"
     ]
    }
   ],
   "source": [
    "d = {}\n",
    "\n",
    "d['one']"
   ]
  },
  {
   "cell_type": "code",
   "execution_count": 18,
   "metadata": {},
   "outputs": [],
   "source": [
    "from collections import defaultdict"
   ]
  },
  {
   "cell_type": "code",
   "execution_count": 19,
   "metadata": {},
   "outputs": [],
   "source": [
    "d  = defaultdict(object)"
   ]
  },
  {
   "cell_type": "code",
   "execution_count": 20,
   "metadata": {},
   "outputs": [
    {
     "data": {
      "text/plain": [
       "<object at 0x7fa00d06b0b0>"
      ]
     },
     "execution_count": 20,
     "metadata": {},
     "output_type": "execute_result"
    }
   ],
   "source": [
    "d['one']"
   ]
  },
  {
   "cell_type": "code",
   "execution_count": 21,
   "metadata": {},
   "outputs": [
    {
     "name": "stdout",
     "output_type": "stream",
     "text": [
      "one\n"
     ]
    }
   ],
   "source": [
    "for item in d:\n",
    "    print(item)"
   ]
  },
  {
   "cell_type": "code",
   "execution_count": 22,
   "metadata": {},
   "outputs": [],
   "source": [
    "d = defaultdict(lambda: 0)"
   ]
  },
  {
   "cell_type": "code",
   "execution_count": 23,
   "metadata": {},
   "outputs": [
    {
     "data": {
      "text/plain": [
       "0"
      ]
     },
     "execution_count": 23,
     "metadata": {},
     "output_type": "execute_result"
    }
   ],
   "source": [
    "d['one']"
   ]
  },
  {
   "cell_type": "markdown",
   "metadata": {},
   "source": [
    "### OrderedDict\n",
    "Это словарь, который сохраняет порядок элементов таким, как элементы добавлялись в словарь."
   ]
  },
  {
   "cell_type": "code",
   "execution_count": 24,
   "metadata": {},
   "outputs": [
    {
     "name": "stdout",
     "output_type": "stream",
     "text": [
      "Обычный словарь:\n",
      "a 5\n",
      "b 4\n",
      "c 3\n",
      "d 2\n",
      "e 1\n"
     ]
    }
   ],
   "source": [
    "print('Обычный словарь:')\n",
    "\n",
    "d = {}\n",
    "\n",
    "d['a'] = '5'\n",
    "d['b'] = '4'\n",
    "d['c'] = '3'\n",
    "d['d'] = '2'\n",
    "d['e'] = '1'\n",
    "\n",
    "for k, v in d.items():\n",
    "    print(k, v)"
   ]
  },
  {
   "cell_type": "code",
   "execution_count": 25,
   "metadata": {},
   "outputs": [
    {
     "name": "stdout",
     "output_type": "stream",
     "text": [
      "OrderedDict:\n",
      "a 5\n",
      "b 4\n",
      "c 3\n",
      "d 2\n",
      "e 1\n"
     ]
    }
   ],
   "source": [
    "from collections import OrderedDict\n",
    "\n",
    "print('OrderedDict:')\n",
    "\n",
    "d = OrderedDict()\n",
    "\n",
    "d['a'] = '5'\n",
    "d['b'] = '4'\n",
    "d['c'] = '3'\n",
    "d['d'] = '2'\n",
    "d['e'] = '1'\n",
    "\n",
    "for k, v in d.items():\n",
    "    print(k, v)"
   ]
  },
  {
   "cell_type": "code",
   "execution_count": 27,
   "metadata": {},
   "outputs": [
    {
     "name": "stdout",
     "output_type": "stream",
     "text": [
      "Одинаковые ли словари?\n",
      "True\n"
     ]
    }
   ],
   "source": [
    "print('Одинаковые ли словари?')\n",
    "\n",
    "d1 = {}\n",
    "d1['a'] = '2'\n",
    "d1['b'] = '1'\n",
    "\n",
    "d2 = {}\n",
    "d2['b'] = '1'\n",
    "d2['a'] = '2'\n",
    "\n",
    "print(d1==d2)"
   ]
  },
  {
   "cell_type": "code",
   "execution_count": 28,
   "metadata": {},
   "outputs": [
    {
     "name": "stdout",
     "output_type": "stream",
     "text": [
      "Одинаковые ли словари?\n",
      "False\n"
     ]
    }
   ],
   "source": [
    "print('Одинаковые ли словари?')\n",
    "\n",
    "d1 = OrderedDict()\n",
    "d1['a'] = '2'\n",
    "d1['b'] = '1'\n",
    "\n",
    "\n",
    "d2 = OrderedDict()\n",
    "\n",
    "d2['b'] = '1'\n",
    "d2['a'] = '2'\n",
    "\n",
    "print(d1==d2)"
   ]
  },
  {
   "cell_type": "markdown",
   "metadata": {},
   "source": [
    "### namedtuple"
   ]
  },
  {
   "cell_type": "code",
   "execution_count": 1,
   "metadata": {},
   "outputs": [],
   "source": [
    "from collections import namedtuple"
   ]
  },
  {
   "cell_type": "code",
   "execution_count": 2,
   "metadata": {},
   "outputs": [
    {
     "data": {
      "text/plain": [
       "1"
      ]
     },
     "execution_count": 2,
     "metadata": {},
     "output_type": "execute_result"
    }
   ],
   "source": [
    "t = (1, 2, 3)\n",
    "t[0]"
   ]
  },
  {
   "cell_type": "code",
   "execution_count": 3,
   "metadata": {},
   "outputs": [],
   "source": [
    "Dog = namedtuple('Dog', 'age breed name')\n",
    "\n",
    "sam = Dog(age=2, breed='Lab', name='Sammy')\n",
    "\n",
    "frank = Dog(age=2, breed='Shepard',name=\"Frankie\")"
   ]
  },
  {
   "cell_type": "code",
   "execution_count": 4,
   "metadata": {},
   "outputs": [
    {
     "data": {
      "text/plain": [
       "Dog(age=2, breed='Lab', name='Sammy')"
      ]
     },
     "execution_count": 4,
     "metadata": {},
     "output_type": "execute_result"
    }
   ],
   "source": [
    "sam"
   ]
  },
  {
   "cell_type": "code",
   "execution_count": 5,
   "metadata": {},
   "outputs": [
    {
     "data": {
      "text/plain": [
       "2"
      ]
     },
     "execution_count": 5,
     "metadata": {},
     "output_type": "execute_result"
    }
   ],
   "source": [
    "sam.age"
   ]
  },
  {
   "cell_type": "code",
   "execution_count": 6,
   "metadata": {},
   "outputs": [
    {
     "data": {
      "text/plain": [
       "'Shepard'"
      ]
     },
     "execution_count": 6,
     "metadata": {},
     "output_type": "execute_result"
    }
   ],
   "source": [
    "frank.breed"
   ]
  },
  {
   "cell_type": "code",
   "execution_count": 8,
   "metadata": {},
   "outputs": [
    {
     "data": {
      "text/plain": [
       "'Frankie'"
      ]
     },
     "execution_count": 8,
     "metadata": {},
     "output_type": "execute_result"
    }
   ],
   "source": [
    "frank[2]"
   ]
  },
  {
   "cell_type": "code",
   "execution_count": 5,
   "metadata": {},
   "outputs": [
    {
     "ename": "TypeError",
     "evalue": "__new__() missing 1 required positional argument: 'age'",
     "output_type": "error",
     "traceback": [
      "\u001b[0;31m---------------------------------------------------------------------------\u001b[0m",
      "\u001b[0;31mTypeError\u001b[0m                                 Traceback (most recent call last)",
      "\u001b[0;32m<ipython-input-5-dbb42f44865a>\u001b[0m in \u001b[0;36m<module>\u001b[0;34m()\u001b[0m\n\u001b[0;32m----> 1\u001b[0;31m \u001b[0msam\u001b[0m \u001b[0;34m=\u001b[0m \u001b[0mDog\u001b[0m\u001b[0;34m(\u001b[0m\u001b[0mbreed\u001b[0m\u001b[0;34m=\u001b[0m\u001b[0;34m'Lab'\u001b[0m\u001b[0;34m,\u001b[0m \u001b[0mname\u001b[0m\u001b[0;34m=\u001b[0m\u001b[0;34m'Sammy'\u001b[0m\u001b[0;34m)\u001b[0m\u001b[0;34m\u001b[0m\u001b[0m\n\u001b[0m",
      "\u001b[0;31mTypeError\u001b[0m: __new__() missing 1 required positional argument: 'age'"
     ]
    }
   ],
   "source": [
    "sam = Dog(breed='Lab', name='Sammy')\n"
   ]
  },
  {
   "cell_type": "markdown",
   "metadata": {},
   "source": [
    "# Блиц 2\n",
    "1. С помощью Counter отсортируйте словарь по значению. Пример: `{'Pie': 15, 'Chokobar': 10, 'Cake': 20}` -> `{'Cake': 20, 'Pie': 15, 'Chokobar': 10}`\n",
    "2. На вход подается словарь, создать другой словарь, где элементы первого будут в отсортированном по ключу порядке. Пример: `{'Pie': 15, 'Chokobar': 10, 'Cake': 20}` -> `{'Cake': 20, 'Chokobar': 10, 'Pie': 15}`\n"
   ]
  },
  {
   "cell_type": "code",
   "execution_count": 10,
   "metadata": {},
   "outputs": [
    {
     "name": "stdout",
     "output_type": "stream",
     "text": [
      "[('Cake', 20), ('Pie', 15), ('Chokobar', 10)]\n"
     ]
    }
   ],
   "source": [
    "from collections import Counter\n",
    "x = Counter({'Pie': 15, 'Chokobar': 10, 'Cake': 20})\n",
    "print(x.most_common())"
   ]
  },
  {
   "cell_type": "code",
   "execution_count": 13,
   "metadata": {},
   "outputs": [
    {
     "name": "stdout",
     "output_type": "stream",
     "text": [
      "Cake 20\n",
      "Chokobar 10\n",
      "Pie 15\n"
     ]
    }
   ],
   "source": [
    "from collections import OrderedDict\n",
    "a = {'Pie': 15, 'Chokobar': 10, 'Cake': 20}\n",
    "new_dict = OrderedDict(sorted(a.items()))\n",
    "for key in new_dict:\n",
    "    print (key, new_dict[key])"
   ]
  },
  {
   "cell_type": "markdown",
   "metadata": {},
   "source": [
    "## datetime"
   ]
  },
  {
   "cell_type": "code",
   "execution_count": 23,
   "metadata": {},
   "outputs": [
    {
     "name": "stdout",
     "output_type": "stream",
     "text": [
      "19:21:10\n",
      "hour  : 19\n",
      "minute: 21\n",
      "second: 10\n",
      "microsecond: 0\n",
      "tzinfo: None\n"
     ]
    },
    {
     "ename": "AttributeError",
     "evalue": "'datetime.time' object has no attribute 'weekday'",
     "output_type": "error",
     "traceback": [
      "\u001b[0;31m---------------------------------------------------------------------------\u001b[0m",
      "\u001b[0;31mAttributeError\u001b[0m                            Traceback (most recent call last)",
      "\u001b[0;32m<ipython-input-23-9c7c0b515d2a>\u001b[0m in \u001b[0;36m<module>\u001b[0;34m()\u001b[0m\n\u001b[1;32m     10\u001b[0m \u001b[0mprint\u001b[0m\u001b[0;34m(\u001b[0m\u001b[0;34m'microsecond:'\u001b[0m\u001b[0;34m,\u001b[0m \u001b[0mt\u001b[0m\u001b[0;34m.\u001b[0m\u001b[0mmicrosecond\u001b[0m\u001b[0;34m)\u001b[0m\u001b[0;34m\u001b[0m\u001b[0m\n\u001b[1;32m     11\u001b[0m \u001b[0mprint\u001b[0m\u001b[0;34m(\u001b[0m\u001b[0;34m'tzinfo:'\u001b[0m\u001b[0;34m,\u001b[0m \u001b[0mt\u001b[0m\u001b[0;34m.\u001b[0m\u001b[0mtzinfo\u001b[0m\u001b[0;34m)\u001b[0m\u001b[0;34m\u001b[0m\u001b[0m\n\u001b[0;32m---> 12\u001b[0;31m \u001b[0mprint\u001b[0m\u001b[0;34m(\u001b[0m\u001b[0;34m'day of week'\u001b[0m\u001b[0;34m,\u001b[0m \u001b[0mt\u001b[0m\u001b[0;34m.\u001b[0m\u001b[0mweekday\u001b[0m\u001b[0;34m)\u001b[0m\u001b[0;34m\u001b[0m\u001b[0m\n\u001b[0m",
      "\u001b[0;31mAttributeError\u001b[0m: 'datetime.time' object has no attribute 'weekday'"
     ]
    }
   ],
   "source": [
    "import datetime\n",
    "\n",
    "t = datetime.time(19, 21, 10)\n",
    "\n",
    "# Let's show the different components\n",
    "print(t)\n",
    "print('hour  :', t.hour)\n",
    "print('minute:', t.minute)\n",
    "print('second:', t.second)\n",
    "print('microsecond:', t.microsecond)\n",
    "print('tzinfo:', t.tzinfo)\n"
   ]
  },
  {
   "cell_type": "code",
   "execution_count": 12,
   "metadata": {},
   "outputs": [
    {
     "name": "stdout",
     "output_type": "stream",
     "text": [
      "Earliest  : 00:00:00\n",
      "Latest    : 23:59:59.999999\n",
      "Resolution: 0:00:00.000001\n"
     ]
    }
   ],
   "source": [
    "print('Earliest  :', datetime.time.min)\n",
    "print('Latest    :', datetime.time.max)\n",
    "print('Resolution:', datetime.time.resolution)"
   ]
  },
  {
   "cell_type": "code",
   "execution_count": 28,
   "metadata": {},
   "outputs": [
    {
     "name": "stdout",
     "output_type": "stream",
     "text": [
      "2018-10-09\n",
      "ctime: Tue Oct  9 00:00:00 2018\n",
      "tuple: time.struct_time(tm_year=2018, tm_mon=10, tm_mday=9, tm_hour=0, tm_min=0, tm_sec=0, tm_wday=1, tm_yday=282, tm_isdst=-1)\n",
      "ordinal: 736976\n",
      "Year : 2018\n",
      "Month: 10\n",
      "Day  : 9\n",
      "day of week 1\n"
     ]
    }
   ],
   "source": [
    "today = datetime.date.today()\n",
    "print(today)\n",
    "print('ctime:', today.ctime())\n",
    "print('tuple:', today.timetuple())\n",
    "print('ordinal:', today.toordinal())\n",
    "print('Year :', today.year)\n",
    "print('Month:', today.month)\n",
    "print('Day  :', today.day)\n",
    "print('day of week', today.weekday()) #Monday is 0 and Sunday is 6"
   ]
  },
  {
   "cell_type": "code",
   "execution_count": 15,
   "metadata": {},
   "outputs": [
    {
     "name": "stdout",
     "output_type": "stream",
     "text": [
      "d1: 2018-10-11\n",
      "d2: 1990-10-11\n"
     ]
    }
   ],
   "source": [
    "d1 = datetime.date(2018, 10, 11)\n",
    "print('d1:', d1)\n",
    "\n",
    "d2 = d1.replace(year=1990)\n",
    "print('d2:', d2)"
   ]
  },
  {
   "cell_type": "code",
   "execution_count": 16,
   "metadata": {},
   "outputs": [
    {
     "data": {
      "text/plain": [
       "datetime.timedelta(days=10227)"
      ]
     },
     "execution_count": 16,
     "metadata": {},
     "output_type": "execute_result"
    }
   ],
   "source": [
    "d1 - d2"
   ]
  },
  {
   "cell_type": "code",
   "execution_count": 22,
   "metadata": {},
   "outputs": [
    {
     "data": {
      "text/plain": [
       "datetime.date(2018, 9, 10)"
      ]
     },
     "execution_count": 22,
     "metadata": {},
     "output_type": "execute_result"
    }
   ],
   "source": [
    "datetime.date(2018, 9, 15) - datetime.timedelta(days=5)"
   ]
  },
  {
   "cell_type": "code",
   "execution_count": 17,
   "metadata": {},
   "outputs": [
    {
     "data": {
      "text/plain": [
       "datetime.datetime(2018, 10, 8, 11, 47, 54, 790903)"
      ]
     },
     "execution_count": 17,
     "metadata": {},
     "output_type": "execute_result"
    }
   ],
   "source": [
    "datetime.datetime.today()"
   ]
  },
  {
   "cell_type": "markdown",
   "metadata": {},
   "source": [
    "Данный модуль позволяет также задавать формат строки, чтобы получить дату. разные форматы можно посмотреть здесь: http://strftime.org/"
   ]
  },
  {
   "cell_type": "code",
   "execution_count": 19,
   "metadata": {
    "scrolled": true
   },
   "outputs": [
    {
     "data": {
      "text/plain": [
       "datetime.datetime(2018, 12, 30, 14, 43)"
      ]
     },
     "execution_count": 19,
     "metadata": {},
     "output_type": "execute_result"
    }
   ],
   "source": [
    "datetime.datetime.strptime('Dec 30 2018 2:43PM', '%b %d %Y %I:%M%p')"
   ]
  },
  {
   "cell_type": "code",
   "execution_count": 21,
   "metadata": {},
   "outputs": [
    {
     "data": {
      "text/plain": [
       "'Dec 30 2018 02:43PM'"
      ]
     },
     "execution_count": 21,
     "metadata": {},
     "output_type": "execute_result"
    }
   ],
   "source": [
    "datetime.datetime.strftime(datetime.datetime(2018, 12, 30, 14, 43), '%b %d %Y %I:%M%p')"
   ]
  },
  {
   "cell_type": "markdown",
   "metadata": {},
   "source": [
    "## math"
   ]
  },
  {
   "cell_type": "code",
   "execution_count": 38,
   "metadata": {},
   "outputs": [],
   "source": [
    "import math"
   ]
  },
  {
   "cell_type": "code",
   "execution_count": 39,
   "metadata": {},
   "outputs": [
    {
     "name": "stdout",
     "output_type": "stream",
     "text": [
      "['__doc__', '__file__', '__loader__', '__name__', '__package__', '__spec__', 'acos', 'acosh', 'asin', 'asinh', 'atan', 'atan2', 'atanh', 'ceil', 'copysign', 'cos', 'cosh', 'degrees', 'e', 'erf', 'erfc', 'exp', 'expm1', 'fabs', 'factorial', 'floor', 'fmod', 'frexp', 'fsum', 'gamma', 'gcd', 'hypot', 'inf', 'isclose', 'isfinite', 'isinf', 'isnan', 'ldexp', 'lgamma', 'log', 'log10', 'log1p', 'log2', 'modf', 'nan', 'pi', 'pow', 'radians', 'remainder', 'sin', 'sinh', 'sqrt', 'tan', 'tanh', 'tau', 'trunc']\n"
     ]
    }
   ],
   "source": [
    "print(dir(math))"
   ]
  },
  {
   "cell_type": "code",
   "execution_count": 40,
   "metadata": {},
   "outputs": [
    {
     "data": {
      "text/plain": [
       "2.718281828459045"
      ]
     },
     "execution_count": 40,
     "metadata": {},
     "output_type": "execute_result"
    }
   ],
   "source": [
    "math.e"
   ]
  },
  {
   "cell_type": "code",
   "execution_count": 41,
   "metadata": {},
   "outputs": [
    {
     "data": {
      "text/plain": [
       "0.0"
      ]
     },
     "execution_count": 41,
     "metadata": {},
     "output_type": "execute_result"
    }
   ],
   "source": [
    "math.log1p(0)"
   ]
  },
  {
   "cell_type": "code",
   "execution_count": 42,
   "metadata": {},
   "outputs": [
    {
     "ename": "ValueError",
     "evalue": "math domain error",
     "output_type": "error",
     "traceback": [
      "\u001b[0;31m---------------------------------------------------------------------------\u001b[0m",
      "\u001b[0;31mValueError\u001b[0m                                Traceback (most recent call last)",
      "\u001b[0;32m<ipython-input-42-f7278b7c2ed1>\u001b[0m in \u001b[0;36m<module>\u001b[0;34m()\u001b[0m\n\u001b[0;32m----> 1\u001b[0;31m \u001b[0mmath\u001b[0m\u001b[0;34m.\u001b[0m\u001b[0mlog\u001b[0m\u001b[0;34m(\u001b[0m\u001b[0;36m0\u001b[0m\u001b[0;34m)\u001b[0m\u001b[0;34m\u001b[0m\u001b[0m\n\u001b[0m",
      "\u001b[0;31mValueError\u001b[0m: math domain error"
     ]
    }
   ],
   "source": [
    "math.log(0)"
   ]
  },
  {
   "cell_type": "markdown",
   "metadata": {},
   "source": [
    "# Regular Expressions\n",
    "\n",
    "Регулярные выражения используются для поиска текстовых патернов. Для примера используется библиотека re."
   ]
  },
  {
   "cell_type": "code",
   "execution_count": 45,
   "metadata": {},
   "outputs": [],
   "source": [
    "import re"
   ]
  },
  {
   "cell_type": "code",
   "execution_count": 46,
   "metadata": {},
   "outputs": [
    {
     "name": "stdout",
     "output_type": "stream",
     "text": [
      "Поиск выражение1 в:\n",
      "Это строка, имеющая выражение1, но не имеющая второго выражения.\n",
      "\n",
      "Совпадение найдено. \n",
      "\n",
      "Поиск выражение2 в:\n",
      "Это строка, имеющая выражение1, но не имеющая второго выражения.\n",
      "\n",
      "Совпадение не найдено.\n",
      "\n"
     ]
    }
   ],
   "source": [
    "\n",
    "# список патернов\n",
    "patterns = ['выражение1', 'выражение2']\n",
    "\n",
    "# текст для поиска патернов\n",
    "text = 'Это строка, имеющая выражение1, но не имеющая второго выражения.'\n",
    "\n",
    "for pattern in patterns:\n",
    "    print('Поиск {} в:\\n{}\\n'.format(pattern, text))\n",
    "    \n",
    "    # проверка вхождений\n",
    "    if re.search(pattern, text):\n",
    "        print('Совпадение найдено. \\n')\n",
    "    else:\n",
    "        print('Совпадение не найдено.\\n')"
   ]
  },
  {
   "cell_type": "code",
   "execution_count": 47,
   "metadata": {},
   "outputs": [
    {
     "data": {
      "text/plain": [
       "re.Match"
      ]
     },
     "execution_count": 47,
     "metadata": {},
     "output_type": "execute_result"
    }
   ],
   "source": [
    "pattern = 'выражение1'\n",
    "\n",
    "text = 'Это строка, имеющая выражение1, но не имеющая второго выражения.'\n",
    "\n",
    "match = re.search(pattern,text)\n",
    "\n",
    "type(match)"
   ]
  },
  {
   "cell_type": "code",
   "execution_count": 48,
   "metadata": {},
   "outputs": [
    {
     "data": {
      "text/plain": [
       "20"
      ]
     },
     "execution_count": 48,
     "metadata": {},
     "output_type": "execute_result"
    }
   ],
   "source": [
    "match.start()"
   ]
  },
  {
   "cell_type": "code",
   "execution_count": 49,
   "metadata": {},
   "outputs": [
    {
     "data": {
      "text/plain": [
       "['hello', 'gmail.com']"
      ]
     },
     "execution_count": 49,
     "metadata": {},
     "output_type": "execute_result"
    }
   ],
   "source": [
    "split_term = '@'\n",
    "\n",
    "phrase = 'hello@gmail.com'\n",
    "\n",
    "re.split(split_term, phrase)"
   ]
  },
  {
   "cell_type": "code",
   "execution_count": 50,
   "metadata": {},
   "outputs": [],
   "source": [
    "def multi_re_find(patterns,phrase):\n",
    "    '''\n",
    "    Принимает список regex patterns\n",
    "    Выводит список всех матчей\n",
    "    '''\n",
    "    for pattern in patterns:\n",
    "        print('Поиск фраз с помощью re: {}'.format(pattern))\n",
    "        print(re.findall(pattern, phrase))\n",
    "        print('\\n')"
   ]
  },
  {
   "cell_type": "code",
   "execution_count": 51,
   "metadata": {},
   "outputs": [
    {
     "name": "stdout",
     "output_type": "stream",
     "text": [
      "Поиск фраз с помощью re: the\n",
      "['the', 'the']\n",
      "\n",
      "\n",
      "Поиск фраз с помощью re: re\n",
      "['re']\n",
      "\n",
      "\n"
     ]
    }
   ],
   "source": [
    "multi_re_find(['the', 're'], 'Searching the phrase using the re check')"
   ]
  },
  {
   "cell_type": "code",
   "execution_count": 52,
   "metadata": {},
   "outputs": [
    {
     "name": "stdout",
     "output_type": "stream",
     "text": [
      "Поиск фраз с помощью re: сш*\n",
      "['сш', 'сш', 'с', 'с', 'сшшш', 'сшшш', 'сшшш', 'сш', 'с', 'с', 'с', 'с', 'с', 'с', 'сшшшш']\n",
      "\n",
      "\n",
      "Поиск фраз с помощью re: сш+\n",
      "['сш', 'сш', 'сшшш', 'сшшш', 'сшшш', 'сш', 'сшшшш']\n",
      "\n",
      "\n",
      "Поиск фраз с помощью re: сш?\n",
      "['сш', 'сш', 'с', 'с', 'сш', 'сш', 'сш', 'сш', 'с', 'с', 'с', 'с', 'с', 'с', 'сш']\n",
      "\n",
      "\n",
      "Поиск фраз с помощью re: сш{3}\n",
      "['сшшш', 'сшшш', 'сшшш', 'сшшш']\n",
      "\n",
      "\n",
      "Поиск фраз с помощью re: сш{2,3}\n",
      "['сшшш', 'сшшш', 'сшшш', 'сшшш']\n",
      "\n",
      "\n"
     ]
    }
   ],
   "source": [
    "test_phrase = 'сшсш..сссшшш...сшшшсшшш...шсшс...шссссс...сшшшш'\n",
    "\n",
    "test_patterns = ['сш*',         # с, за которой 0 или больше ш\n",
    "                'сш+',          # с, за которой 1 или больше ш\n",
    "                'сш?',          # с, за которой 0 или 1 ш\n",
    "                'сш{3}',        # с, за которой 3 ш\n",
    "                'сш{2,3}',      # с, за которой от 2 до 3 ш\n",
    "                ]\n",
    "\n",
    "multi_re_find(test_patterns, test_phrase)"
   ]
  },
  {
   "cell_type": "code",
   "execution_count": 53,
   "metadata": {},
   "outputs": [
    {
     "name": "stdout",
     "output_type": "stream",
     "text": [
      "Поиск фраз с помощью re: [сш]\n",
      "['с', 'ш', 'с', 'ш', 'с', 'с', 'с', 'ш', 'ш', 'ш', 'с', 'ш', 'ш', 'ш', 'с', 'ш', 'ш', 'ш', 'ш', 'с', 'ш', 'с', 'ш', 'с', 'с', 'с', 'с', 'с', 'с', 'ш', 'ш', 'ш', 'ш']\n",
      "\n",
      "\n",
      "Поиск фраз с помощью re: с[сш]+\n",
      "['сшсш', 'сссшшш', 'сшшшсшшш', 'сшс', 'ссссс', 'сшшшш']\n",
      "\n",
      "\n"
     ]
    }
   ],
   "source": [
    "test_phrase = 'сшсш..сссшшш...сшшшсшшш...шсшс...шссссс...сшшшш'\n",
    "\n",
    "test_patterns = ['[сш]',    # Или с или ш\n",
    "                 'с[сш]+']   # с, за которым 1 или больше с или ш\n",
    "\n",
    "multi_re_find(test_patterns,test_phrase)"
   ]
  },
  {
   "cell_type": "code",
   "execution_count": 54,
   "metadata": {},
   "outputs": [],
   "source": [
    "test_phrase = 'Это строка! Но она имеет знаки пунктуации. Как от них избавиться?'"
   ]
  },
  {
   "cell_type": "code",
   "execution_count": 55,
   "metadata": {},
   "outputs": [
    {
     "data": {
      "text/plain": [
       "['Это',\n",
       " 'строка',\n",
       " 'Но',\n",
       " 'она',\n",
       " 'имеет',\n",
       " 'знаки',\n",
       " 'пунктуации',\n",
       " 'Как',\n",
       " 'от',\n",
       " 'них',\n",
       " 'избавиться']"
      ]
     },
     "execution_count": 55,
     "metadata": {},
     "output_type": "execute_result"
    }
   ],
   "source": [
    "re.findall('[^!.? ]+', test_phrase)"
   ]
  },
  {
   "cell_type": "code",
   "execution_count": 56,
   "metadata": {},
   "outputs": [
    {
     "name": "stdout",
     "output_type": "stream",
     "text": [
      "Поиск фраз с помощью re: [а-я]+\n",
      "['то', 'пример', 'предложения', 'авайте', 'попробуем', 'найти', 'какие', 'нибудь', 'буквы']\n",
      "\n",
      "\n",
      "Поиск фраз с помощью re: [А-Я]+\n",
      "['Э', 'Д']\n",
      "\n",
      "\n",
      "Поиск фраз с помощью re: [а-яА-Я]+\n",
      "['Это', 'пример', 'предложения', 'Давайте', 'попробуем', 'найти', 'какие', 'нибудь', 'буквы']\n",
      "\n",
      "\n",
      "Поиск фраз с помощью re: [А-Я][а-я]+\n",
      "['Это', 'Давайте']\n",
      "\n",
      "\n"
     ]
    }
   ],
   "source": [
    "test_phrase = 'Это пример предложения. Давайте попробуем найти какие-нибудь буквы.'\n",
    "\n",
    "test_patterns=['[а-я]+',      # последовательность букв нижнего регистра\n",
    "               '[А-Я]+',      # последовательность заглавных букв\n",
    "               '[а-яА-Я]+',   # последовательность и заглавных, и строчных букв\n",
    "               '[А-Я][а-я]+'] # Одна заглавная буква, за которой хотя бы одна малая\n",
    "                \n",
    "multi_re_find(test_patterns,test_phrase)"
   ]
  },
  {
   "cell_type": "code",
   "execution_count": 57,
   "metadata": {},
   "outputs": [
    {
     "name": "stdout",
     "output_type": "stream",
     "text": [
      "Поиск фраз с помощью re: \\d+\n",
      "['123']\n",
      "\n",
      "\n",
      "Поиск фраз с помощью re: \\D+\n",
      "['Это строка с какими-то цифрами ', ' и символами #хештег']\n",
      "\n",
      "\n",
      "Поиск фраз с помощью re: \\s+\n",
      "[' ', ' ', ' ', ' ', ' ', ' ', ' ', ' ']\n",
      "\n",
      "\n",
      "Поиск фраз с помощью re: \\S+\n",
      "['Это', 'строка', 'с', 'какими-то', 'цифрами', '123', 'и', 'символами', '#хештег']\n",
      "\n",
      "\n",
      "Поиск фраз с помощью re: \\w+\n",
      "['Это', 'строка', 'с', 'какими', 'то', 'цифрами', '123', 'и', 'символами', 'хештег']\n",
      "\n",
      "\n",
      "Поиск фраз с помощью re: \\W+\n",
      "[' ', ' ', ' ', '-', ' ', ' ', ' ', ' ', ' #']\n",
      "\n",
      "\n"
     ]
    }
   ],
   "source": [
    "test_phrase = 'Это строка с какими-то цифрами 123 и символами #хештег'\n",
    "\n",
    "test_patterns=[ r'\\d+', # последовательность цифр\n",
    "                r'\\D+', # последовательность не цифр\n",
    "                r'\\s+', # последовательность пробелов\n",
    "                r'\\S+', # последовательность не пробелов\n",
    "                r'\\w+', # последовательность цифр и букв\n",
    "                r'\\W+', # последовательность не цифр и не букв\n",
    "                ]\n",
    "\n",
    "multi_re_find(test_patterns,test_phrase)"
   ]
  },
  {
   "cell_type": "code",
   "execution_count": 63,
   "metadata": {},
   "outputs": [
    {
     "name": "stdout",
     "output_type": "stream",
     "text": [
      "hse@mail.ru\n"
     ]
    }
   ],
   "source": [
    "xx = 'email is: hse@mail.ru'\n",
    "match = re.search(r'[\\w.-]+@[\\w.-]+', xx)\n",
    "if match:\n",
    "    print(match.group())  ## 'alice-b@google.com'"
   ]
  },
  {
   "cell_type": "code",
   "execution_count": 67,
   "metadata": {},
   "outputs": [
    {
     "name": "stdout",
     "output_type": "stream",
     "text": [
      "hse@mail.ru\n",
      "mail.ru\n"
     ]
    }
   ],
   "source": [
    "xx = 'email is: hse@mail.ru'\n",
    "match = re.search(r'([\\w.-]+)@([\\w.-]+)', xx)\n",
    "if match:\n",
    "    print(match.group())\n",
    "    print(match.group(2))## 'alice-b@google.com'"
   ]
  }
 ],
 "metadata": {
  "kernelspec": {
   "display_name": "Python 3",
   "language": "python",
   "name": "python3"
  },
  "language_info": {
   "codemirror_mode": {
    "name": "ipython",
    "version": 3
   },
   "file_extension": ".py",
   "mimetype": "text/x-python",
   "name": "python",
   "nbconvert_exporter": "python",
   "pygments_lexer": "ipython3",
   "version": "3.7.0"
  }
 },
 "nbformat": 4,
 "nbformat_minor": 2
}
