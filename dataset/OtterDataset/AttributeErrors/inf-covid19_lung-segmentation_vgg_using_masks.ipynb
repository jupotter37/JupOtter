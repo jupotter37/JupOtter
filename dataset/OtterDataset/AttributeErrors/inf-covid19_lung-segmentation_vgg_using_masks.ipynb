{
 "cells": [
  {
   "cell_type": "code",
   "execution_count": 58,
   "metadata": {},
   "outputs": [],
   "source": [
    "import numpy as np # linear algebra\n",
    "import pandas as pd # data processing, CSV file I/O (e.g. pd.read_csv)\n",
    "import matplotlib.pyplot as plt\n",
    "import random\n",
    "\n",
    "from keras import layers\n",
    "from keras.models import Sequential\n",
    "from keras.layers import Convolution2D\n",
    "from keras.layers import MaxPooling2D\n",
    "from keras.layers import Flatten\n",
    "from keras.layers import Dense\n",
    "from keras.layers import Dropout\n",
    "from keras import models\n",
    "from keras import optimizers\n",
    "from keras.preprocessing.image import load_img, img_to_array, ImageDataGenerator\n",
    "from keras import applications\n",
    "\n",
    "from sklearn.preprocessing import LabelEncoder\n",
    "from sklearn.model_selection import train_test_split\n",
    "from sklearn.linear_model import LogisticRegression\n",
    "from sklearn import metrics\n",
    "\n",
    "import glob\n",
    "import os\n",
    "from datetime import datetime"
   ]
  },
  {
   "cell_type": "code",
   "execution_count": 59,
   "metadata": {},
   "outputs": [
    {
     "data": {
      "text/plain": [
       "['p17',\n",
       " 'p5',\n",
       " 'p7',\n",
       " 'multigif.py',\n",
       " 'p13',\n",
       " 'p11',\n",
       " 'p16',\n",
       " 'p6',\n",
       " 'p8',\n",
       " 'p15',\n",
       " 'p14',\n",
       " 'p1',\n",
       " 'p4',\n",
       " 'p18',\n",
       " 'p3',\n",
       " 'p19',\n",
       " 'p12',\n",
       " 'p9',\n",
       " 'p10',\n",
       " 'p2',\n",
       " 'gifs.zip',\n",
       " 'p20']"
      ]
     },
     "execution_count": 59,
     "metadata": {},
     "output_type": "execute_result"
    }
   ],
   "source": [
    "img_src_folder = \"lung-segmentation/uniq\"\n",
    "os.listdir(img_src_folder)"
   ]
  },
  {
   "cell_type": "code",
   "execution_count": 60,
   "metadata": {},
   "outputs": [],
   "source": [
    "#1-5: normal patients, 11-20: covid patients.\n",
    "other_patients = []\n",
    "covid_patients = []\n",
    "for root, dirs, files in os.walk(img_src_folder):\n",
    "    for d in dirs:\n",
    "        if d[0] == 'p':\n",
    "            num = int(d[1:])\n",
    "            if num <= 10: other_patients.append(d)\n",
    "            elif num >= 11: covid_patients.append(d)\n"
   ]
  },
  {
   "cell_type": "code",
   "execution_count": 61,
   "metadata": {},
   "outputs": [
    {
     "data": {
      "text/plain": [
       "['p1', 'p10', 'p2', 'p3', 'p4', 'p5', 'p6', 'p7', 'p8', 'p9']"
      ]
     },
     "execution_count": 61,
     "metadata": {},
     "output_type": "execute_result"
    }
   ],
   "source": [
    "sorted(other_patients)"
   ]
  },
  {
   "cell_type": "code",
   "execution_count": 62,
   "metadata": {},
   "outputs": [
    {
     "data": {
      "text/plain": [
       "['p11', 'p12', 'p13', 'p14', 'p15', 'p16', 'p17', 'p18', 'p19', 'p20']"
      ]
     },
     "execution_count": 62,
     "metadata": {},
     "output_type": "execute_result"
    }
   ],
   "source": [
    "sorted(covid_patients)"
   ]
  },
  {
   "cell_type": "code",
   "execution_count": 63,
   "metadata": {},
   "outputs": [],
   "source": [
    "now = datetime.now()\n",
    "#defining the minimum number of patients of each class that will be in the test set.\n",
    "test_patients_per_label = 0\n",
    "#building the test set with the declared num of patients of each class\n",
    "TEST_IMG_FOLDERS = sorted(other_patients)[0:test_patients_per_label]\n",
    "TEST_IMG_FOLDERS = sorted(covid_patients)[0:test_patients_per_label]\n",
    "\n",
    "#splitting the test data and the rest (training and validation)\n",
    "if test_patients_per_label > 0:\n",
    "    for n in range(test_patients_per_label):\n",
    "        other_patients.pop(0)\n",
    "        covid_patients.pop(0)\n",
    "        \n",
    "#defining the number of patients in training set\n",
    "num_train_patients = int(0.8*min(len(other_patients), len(covid_patients)))\n",
    "        \n",
    "train_other_folders = sorted(other_patients)[0:num_train_patients]\n",
    "train_label_1 = ['other' for i in range(len(train_other_folders))]\n",
    "\n",
    "validation_other_folders = list(set(other_patients) - set(train_other_folders))\n",
    "validation_label_1 = ['other' for i in range(len(validation_other_folders))]\n",
    "\n",
    "train_covid_folders = sorted(covid_patients)[0:num_train_patients]\n",
    "train_label_2 = ['covid' for i in range(len(train_covid_folders))]\n",
    "\n",
    "validation_covid_folders = list(set(covid_patients) - set(train_covid_folders))\n",
    "validation_label_2 = ['covid' for i in range(len(validation_covid_folders))]\n",
    "\n",
    "#balancing validation set members for each label (other or covid)\n",
    "label_1_size = len(validation_other_folders)\n",
    "label_2_size = len(validation_covid_folders)\n",
    "dif = label_1_size - label_2_size\n",
    "if dif != 0:\n",
    "    greater_label = validation_other_folders #supposing one label as having more elements\n",
    "    if label_2_size > label_1_size:\n",
    "        greater_label = validation_covid_folders\n",
    "        dif = abs(dif)\n",
    "    for n in range(dif): #deletes an random majoritary's label patient until labels are balanced\n",
    "        index = random.randint(0, len(greater_label) - 1)\n",
    "        TEST_IMG_FOLDERS.append(greater_label[index])\n",
    "        greater_label.pop(index)\n",
    "\n",
    "TRAIN_IMG_SRC_FOLDER = img_src_folder\n",
    "VALIDATION_IMG_SRC_FOLDER = img_src_folder\n",
    "TEST_IMG_SRC_FOLDER = img_src_folder\n",
    "\n",
    "TRAIN_IMG_FOLDERS = dict(zip(train_other_folders, train_label_1))\n",
    "TRAIN_IMG_FOLDERS.update(dict(zip(train_covid_folders, train_label_2)))\n",
    "\n",
    "VALIDATION_IMG_FOLDERS = dict(zip(validation_other_folders, validation_label_1))\n",
    "VALIDATION_IMG_FOLDERS.update(dict(zip(validation_covid_folders, validation_label_2)))"
   ]
  },
  {
   "cell_type": "code",
   "execution_count": 64,
   "metadata": {},
   "outputs": [
    {
     "data": {
      "text/plain": [
       "{'p1': 'other',\n",
       " 'p10': 'other',\n",
       " 'p2': 'other',\n",
       " 'p3': 'other',\n",
       " 'p4': 'other',\n",
       " 'p5': 'other',\n",
       " 'p6': 'other',\n",
       " 'p7': 'other',\n",
       " 'p11': 'covid',\n",
       " 'p12': 'covid',\n",
       " 'p13': 'covid',\n",
       " 'p14': 'covid',\n",
       " 'p15': 'covid',\n",
       " 'p16': 'covid',\n",
       " 'p17': 'covid',\n",
       " 'p18': 'covid'}"
      ]
     },
     "execution_count": 64,
     "metadata": {},
     "output_type": "execute_result"
    }
   ],
   "source": [
    "TRAIN_IMG_FOLDERS"
   ]
  },
  {
   "cell_type": "code",
   "execution_count": 65,
   "metadata": {},
   "outputs": [
    {
     "data": {
      "text/plain": [
       "{'p8': 'other', 'p9': 'other', 'p19': 'covid', 'p20': 'covid'}"
      ]
     },
     "execution_count": 65,
     "metadata": {},
     "output_type": "execute_result"
    }
   ],
   "source": [
    "VALIDATION_IMG_FOLDERS"
   ]
  },
  {
   "cell_type": "code",
   "execution_count": 66,
   "metadata": {},
   "outputs": [
    {
     "data": {
      "text/plain": [
       "[]"
      ]
     },
     "execution_count": 66,
     "metadata": {},
     "output_type": "execute_result"
    }
   ],
   "source": [
    "TEST_IMG_FOLDERS"
   ]
  },
  {
   "cell_type": "code",
   "execution_count": 67,
   "metadata": {},
   "outputs": [
    {
     "name": "stdout",
     "output_type": "stream",
     "text": [
      "2\n"
     ]
    }
   ],
   "source": [
    "CLASSES = len(set([label for label in TRAIN_IMG_FOLDERS.values()]))\n",
    "EXAM_SLICE = 200\n",
    "EPOCHS = 15\n",
    "width = 150\n",
    "height = 150\n",
    "print(CLASSES)"
   ]
  },
  {
   "cell_type": "code",
   "execution_count": 68,
   "metadata": {},
   "outputs": [
    {
     "name": "stdout",
     "output_type": "stream",
     "text": [
      "Train fold with 3200 images\n",
      "label\n",
      "covid    1600\n",
      "other    1600\n",
      "Name: label, dtype: int64\n",
      "\n",
      "Validation fold with 800 images\n",
      "label\n",
      "covid    400\n",
      "other    400\n",
      "Name: label, dtype: int64\n",
      "------------------------------\n"
     ]
    }
   ],
   "source": [
    "dfs = []\n",
    "train_images = {\"id\": [], \"label\": []}\n",
    "validation_images = {\"id\": [], \"label\": []}\n",
    "\n",
    "df_config = [\n",
    "    (TRAIN_IMG_SRC_FOLDER, TRAIN_IMG_FOLDERS, train_images),\n",
    "    (VALIDATION_IMG_SRC_FOLDER, VALIDATION_IMG_FOLDERS, validation_images)\n",
    "]\n",
    "\n",
    "def get_file_path(folder, search_filter=''):\n",
    "    paths = []\n",
    "    for root, dirs, files in os.walk(folder):\n",
    "        for file in files:\n",
    "            path = os.path.join(root, file)\n",
    "            if search_filter in path:\n",
    "                paths.append(path)\n",
    "    return paths\n",
    "\n",
    "for (base, folder, dic) in df_config:\n",
    "    for img_folder, img_label in folder.items():\n",
    "        search_folder = \"{}/{}\".format(base, img_folder)\n",
    "        imgs_filename = sorted(get_file_path(search_folder, search_filter = 'masks'))\n",
    "        imgs_filename = imgs_filename[(len(imgs_filename)-EXAM_SLICE)//2:(len(imgs_filename)+EXAM_SLICE)//2]\n",
    "        dic[\"id\"].extend(imgs_filename)\n",
    "        dic[\"label\"].extend([img_label] * len(imgs_filename))\n",
    "        \n",
    "    dfs.append(pd.DataFrame(data=dic))\n",
    "\n",
    "train_df, validation_df = dfs[0], dfs[1]\n",
    "\n",
    "train_df.to_csv('train_df.csv', index=False)\n",
    "validation_df.to_csv('validation_df.csv', index=False)\n",
    "\n",
    "print(\"Train fold with {} images\".format(len(train_df)))\n",
    "print(train_df.groupby(\"label\").label.count())\n",
    "print()\n",
    "print(\"Validation fold with {} images\".format(len(validation_df)))\n",
    "print(validation_df.groupby(\"label\").label.count())\n",
    "print(\"-\" * 30)"
   ]
  },
  {
   "cell_type": "markdown",
   "metadata": {},
   "source": [
    "Random Visualization of Training Data Samples"
   ]
  },
  {
   "cell_type": "code",
   "execution_count": 69,
   "metadata": {},
   "outputs": [],
   "source": [
    "def get_side(img, side_type, side_size=5):\n",
    "    height, width, channel=img.shape\n",
    "    if side_type==\"horizontal\":\n",
    "        return np.ones((height,side_size,  channel), dtype=np.float32)*255\n",
    "        \n",
    "    return np.ones((side_size, width,  channel), dtype=np.float32)*255\n",
    "\n",
    "def show_gallery(show=\"all\"):\n",
    "    n=100\n",
    "    counter=0\n",
    "    images=list()\n",
    "    vertical_images=[]\n",
    "    rng_state = np.random.get_state()\n",
    "    np.random.shuffle(train_images[\"id\"])\n",
    "    np.random.set_state(rng_state)\n",
    "    np.random.shuffle(train_images[\"label\"])\n",
    "    for path, target in zip(train_images[\"id\"], train_images[\"label\"]):\n",
    "        if target!=show and show!=\"all\":\n",
    "            continue\n",
    "        counter=counter+1\n",
    "        if counter%100==0:\n",
    "            break\n",
    "        #Image loading from disk as JpegImageFile file format\n",
    "        img=load_img(path, target_size=(width,height))\n",
    "        #Converting JpegImageFile to numpy array\n",
    "        img=img_to_array(img)\n",
    "        \n",
    "        hside=get_side(img, side_type=\"horizontal\")\n",
    "        images.append(img)\n",
    "        images.append(hside)\n",
    "\n",
    "        if counter%10==0:\n",
    "            himage=np.hstack((images))\n",
    "            vside=get_side(himage, side_type=\"vertical\")\n",
    "            vertical_images.append(himage)\n",
    "            vertical_images.append(vside)\n",
    "            \n",
    "            images=list()\n",
    "\n",
    "    gallery=np.vstack((vertical_images)) \n",
    "    plt.figure(figsize=(12,12))\n",
    "    plt.xticks([])\n",
    "    plt.yticks([])\n",
    "    title = {\"all\":\"All Classifications's\",\n",
    "             \"other\":\"Other\",\n",
    "             \"covid\":\"Covid-19\"}\n",
    "    plt.title(\"100 Samples of {} Patients of the training set\".format(title[show]))\n",
    "    plt.imshow(gallery.astype(np.uint8))"
   ]
  },
  {
   "cell_type": "code",
   "execution_count": 70,
   "metadata": {},
   "outputs": [
    {
     "data": {
      "image/png": "[encoded data removed]",
      "text/plain": [
       "<Figure size 864x864 with 1 Axes>"
      ]
     },
     "metadata": {},
     "output_type": "display_data"
    }
   ],
   "source": [
    "show_gallery(\"all\")"
   ]
  },
  {
   "cell_type": "markdown",
   "metadata": {},
   "source": [
    "Data Generator"
   ]
  },
  {
   "cell_type": "code",
   "execution_count": 71,
   "metadata": {},
   "outputs": [],
   "source": [
    "def get_data_generator(dataframe, x_col, y_col, subset=None, shuffle=True, batch_size=16, class_mode=\"binary\"):\n",
    "    datagen = ImageDataGenerator(\n",
    "    rotation_range=15,\n",
    "    rescale=1./255,\n",
    "    shear_range=0.1,\n",
    "    zoom_range=0.2,\n",
    "    horizontal_flip=False,\n",
    "    width_shift_range=0.1,\n",
    "    height_shift_range=0.1)\n",
    "    \n",
    "    data_generator = datagen.flow_from_dataframe(\n",
    "        dataframe=dataframe,\n",
    "        x_col=x_col,\n",
    "        y_col=y_col,\n",
    "        subset=subset,\n",
    "        target_size=(width, height),\n",
    "        class_mode=class_mode,\n",
    "        # color_mode=\"rgb\",\n",
    "        batch_size=batch_size,\n",
    "        shuffle=shuffle,\n",
    "    )\n",
    "    return data_generator"
   ]
  },
  {
   "cell_type": "markdown",
   "metadata": {},
   "source": [
    "See sample generated images"
   ]
  },
  {
   "cell_type": "code",
   "execution_count": 72,
   "metadata": {},
   "outputs": [
    {
     "name": "stdout",
     "output_type": "stream",
     "text": [
      "Found 1 validated image filenames belonging to 1 classes.\n"
     ]
    },
    {
     "data": {
      "image/png": "[encoded data removed]",
      "text/plain": [
       "<Figure size 864x864 with 9 Axes>"
      ]
     },
     "metadata": {
      "needs_background": "light"
     },
     "output_type": "display_data"
    }
   ],
   "source": [
    "example_df = train_df.sample(n=1).reset_index(drop=True)\n",
    "example_generator = get_data_generator(example_df, \"id\", \"label\", class_mode = \"categorical\")\n",
    "\n",
    "plt.figure(figsize = (12,12))\n",
    "for i in range(0, 9):\n",
    "        plt.subplot(3, 3, i+1)\n",
    "        for X_batch, Y_batch in example_generator:\n",
    "            image = X_batch[0]\n",
    "            plt.imshow(image)\n",
    "            break\n",
    "plt.tight_layout()\n",
    "plt.show()"
   ]
  },
  {
   "cell_type": "markdown",
   "metadata": {},
   "source": [
    "Setting A Model With Transfer Learning"
   ]
  },
  {
   "cell_type": "code",
   "execution_count": 73,
   "metadata": {},
   "outputs": [],
   "source": [
    "def get_model():\n",
    "    from keras.applications import VGG16\n",
    "    \n",
    "    conv_base = VGG16(weights='imagenet', include_top=False, input_shape=(width,height,3))\n",
    "    \n",
    "    conv_base.trainable = True\n",
    "    set_trainable = False\n",
    "    for layer in conv_base.layers:\n",
    "        if layer.name == 'block3_conv1':\n",
    "            set_trainable = True\n",
    "        if set_trainable:\n",
    "            layer.trainable = True\n",
    "        else:\n",
    "            layer.trainable = False\n",
    "    \n",
    "    model = Sequential()\n",
    "    model.add(conv_base)\n",
    "    model.add(Flatten())\n",
    "    model.add(Dropout(0.4))\n",
    "    model.add(Dense(1024, activation='relu'))\n",
    "    model.add(Dense(1024, activation='relu'))\n",
    "    model.add(Dropout(0.4))\n",
    "    model.add(Dense(1, activation = 'sigmoid'))\n",
    "    \n",
    "    model.compile(optimizer=optimizers.RMSprop(lr=2e-5),\n",
    "                  loss='binary_crossentropy', metrics=['accuracy'])\n",
    "    return model\n",
    "    "
   ]
  },
  {
   "cell_type": "code",
   "execution_count": 74,
   "metadata": {},
   "outputs": [],
   "source": [
    "def train_model(model, train_df, validation_df, epochs, callbacks=[]):\n",
    "    batch_size = 16\n",
    "    train_generator = get_data_generator(train_df, \"id\", \"label\", batch_size=batch_size)\n",
    "    validation_generator = get_data_generator(validation_df, \"id\", \"label\",batch_size=batch_size)\n",
    "\n",
    "    #model.compile(\n",
    "    #    optimizer=\"Adam\", loss=\"binary_crossentropy\", metrics=[\"accuracy\"]\n",
    "    #)\n",
    "\n",
    "    step_size_train = train_generator.n // train_generator.batch_size\n",
    "    step_size_validation = validation_generator.n // validation_generator.batch_size\n",
    "\n",
    "    if step_size_train == 0:\n",
    "        step_size_train = train_generator.n // 2\n",
    "        step_size_validation = validation_generator.n // 2\n",
    "\n",
    "    history = model.fit(\n",
    "        train_generator,\n",
    "        steps_per_epoch=step_size_train,\n",
    "        epochs=epochs,\n",
    "        validation_data=validation_generator,\n",
    "        validation_steps=step_size_validation,\n",
    "        callbacks=callbacks\n",
    "    )\n",
    "    \n",
    "    #needed when a model is loaded\n",
    "    np.save('transfer_learning_legend', train_generator.class_indices)\n",
    "    \n",
    "    return history.history"
   ]
  },
  {
   "cell_type": "code",
   "execution_count": 75,
   "metadata": {},
   "outputs": [],
   "source": [
    "def plot_results(history):\n",
    "    acc = history['accuracy']\n",
    "    val_acc = history['val_accuracy']\n",
    "    loss = history['loss']\n",
    "    val_loss = history['val_loss']\n",
    "\n",
    "    epochs = range(1, len(acc) + 1)\n",
    "    plt.plot(epochs, acc, 'bo', label='Training acc')\n",
    "    plt.plot(epochs, val_acc, 'b', label='Validation acc')\n",
    "    plt.title('Training and Validation accuracy')\n",
    "    plt.legend()\n",
    "\n",
    "    plt.figure()\n",
    "\n",
    "    plt.plot(epochs, loss, 'bo', label='Training loss')\n",
    "    plt.plot(epochs, val_loss, 'b', label='Validation loss')\n",
    "    plt.title('Training and Validation loss')\n",
    "    plt.legend()\n",
    "\n",
    "    plt.show()"
   ]
  },
  {
   "cell_type": "markdown",
   "metadata": {},
   "source": [
    "Cross Validation"
   ]
  },
  {
   "cell_type": "code",
   "execution_count": 76,
   "metadata": {},
   "outputs": [],
   "source": [
    "def get_dicts(train_folders_1, train_folders_2, validation_folders_1, validation_folders_2):\n",
    "    train_set = dict(zip(train_folders_1, ['other' for i in range(len(train_folders_1))]))\n",
    "    train_set.update(dict(zip(train_folders_2, ['covid' for i in range(len(train_folders_2))])))\n",
    "    validation_set = dict(zip(validation_folders_1, ['other' for i in range(len(validation_folders_1))]))\n",
    "    validation_set.update(dict(zip(validation_folders_2, ['covid' for i in range(len(validation_folders_2))])))\n",
    "    return train_set, validation_set"
   ]
  },
  {
   "cell_type": "code",
   "execution_count": 77,
   "metadata": {},
   "outputs": [],
   "source": [
    "def get_data(train_img_src_folder, train_img_folders, validation_img_src_folder, validation_img_folders):   \n",
    "    dfs = []\n",
    "    train_images = {\"id\": [], \"label\": []}\n",
    "    validation_images = {\"id\": [], \"label\": []}\n",
    "\n",
    "    df_config = [\n",
    "        (train_img_src_folder, train_img_folders, train_images),\n",
    "        (validation_img_src_folder, validation_img_folders, validation_images)\n",
    "    ]\n",
    "    \n",
    "    for (base, folder, dic) in df_config:\n",
    "        for img_folder, img_label in folder.items():\n",
    "            search_folder = \"{}/{}\".format(base, img_folder)\n",
    "            imgs_filename = sorted(get_file_path(search_folder, search_filter = 'segmented'))\n",
    "            imgs_filename = imgs_filename[(len(imgs_filename)-EXAM_SLICE)//2:(len(imgs_filename)+EXAM_SLICE)//2]\n",
    "            dic[\"id\"].extend(imgs_filename)\n",
    "            dic[\"label\"].extend([img_label] * len(imgs_filename))\n",
    "\n",
    "        dfs.append(pd.DataFrame(data=dic))\n",
    "\n",
    "    train_df, validation_df = dfs[0], dfs[1]\n",
    "\n",
    "    train_df.to_csv('train_df.csv', index=False)\n",
    "    validation_df.to_csv('validation_df.csv', index=False)\n",
    "\n",
    "    print(\"Train fold with {} images\".format(len(train_df)))\n",
    "    print(train_df.groupby(\"label\").label.count())\n",
    "    print()\n",
    "    print(\"Validation fold with {} images\".format(len(validation_df)))\n",
    "    print(validation_df.groupby(\"label\").label.count())\n",
    "    print(\"-\" * 30)\n",
    "    \n",
    "    return train_df, validation_df"
   ]
  },
  {
   "cell_type": "code",
   "execution_count": 78,
   "metadata": {},
   "outputs": [],
   "source": [
    "def plot_all_acc(results):\n",
    "    for history in results:\n",
    "        acc = history['accuracy']\n",
    "        val_acc = history['val_accuracy']\n",
    "        loss = history['loss']\n",
    "        val_loss = history['val_loss']\n",
    "\n",
    "        epochs = range(1, len(acc) + 1)\n",
    "        plt.plot(epochs, acc, 'bo', label='Training acc')\n",
    "        plt.plot(epochs, val_acc, 'b', label='Validation acc')\n",
    "        plt.title('Training and Validation accuracy')\n",
    "        plt.legend()\n",
    "\n",
    "        #plt.figure()\n",
    "        plt.show()"
   ]
  },
  {
   "cell_type": "code",
   "execution_count": 79,
   "metadata": {},
   "outputs": [],
   "source": [
    "def cross_validation(label_1_patients, label_2_patients, valid_num):\n",
    "    all_results = []\n",
    "    for i in range(0, len(label_1_patients), valid_num):\n",
    "        validation_folders_1 = label_1_patients[i:i+valid_num]\n",
    "        validation_folders_2 = label_2_patients[i:i+valid_num]\n",
    "        train_folders_1 = list(set(label_1_patients) - set(validation_folders_1))\n",
    "        train_folders_2 = list(set(label_2_patients) - set(validation_folders_2))\n",
    "        \n",
    "        print('Validating Folders: ', sorted(validation_folders_1), ',', sorted(validation_folders_2))\n",
    "        print('Training Folders: ', sorted(train_folders_1), ',', sorted(train_folders_2))\n",
    "        \n",
    "        train_img_src_folder = img_src_folder\n",
    "        validation_img_src_folder = img_src_folder\n",
    "        \n",
    "        train_set, validation_set = get_dicts(train_folders_1, train_folders_2, validation_folders_1, validation_folders_2)\n",
    "        \n",
    "        EXAM_SLICE = 200\n",
    "        EPOCHS = 15\n",
    "        width = 150\n",
    "        height = 150\n",
    "        \n",
    "        train_df, validation_df = get_data(train_img_src_folder, train_set, validation_img_src_folder, validation_set)\n",
    "        \n",
    "        model = get_model()\n",
    "        #model.summary()\n",
    "        history = train_model(model, train_df, validation_df, EPOCHS)\n",
    "        all_results.append(history)\n",
    "    \n",
    "    return all_results "
   ]
  },
  {
   "cell_type": "code",
   "execution_count": 80,
   "metadata": {},
   "outputs": [],
   "source": [
    "def special_cross_validation(covid_patients, other_patients):\n",
    "    all_results = []\n",
    "    for i in range(0, 5):\n",
    "        validation_other_patients = []\n",
    "        validation_covid_patients = []\n",
    "        \n",
    "        validation_other_patients.append(other_patients[i])\n",
    "        validation_other_patients.append(other_patients[i+5])\n",
    "        \n",
    "        validation_covid_patients.append(covid_patients[i])\n",
    "        validation_covid_patients.append(covid_patients[i+5])\n",
    "        \n",
    "        train_covid_patients = list(set(covid_patients) - set(validation_covid_patients))\n",
    "        train_other_patients = list(set(other_patients) - set(validation_other_patients))\n",
    "        \n",
    "        print('Validating Folders: ', sorted(validation_other_patients), ',', sorted(validation_covid_patients))\n",
    "        print('Training Folders: ', sorted(train_other_patients), ',', sorted(train_covid_patients))\n",
    "        \n",
    "        train_img_src_folder = img_src_folder\n",
    "        validation_img_src_folder = img_src_folder\n",
    "        \n",
    "        train_set, validation_set = get_dicts(train_covid_patients, train_other_patients, validation_covid_patients, validation_other_patients)\n",
    "        \n",
    "        EXAM_SLICE = 200\n",
    "        EPOCHS = 15\n",
    "        width = 150\n",
    "        height = 150\n",
    "        \n",
    "        train_df, validation_df = get_data(train_img_src_folder, train_set, validation_img_src_folder, validation_set)\n",
    "        \n",
    "        model = get_model()\n",
    "        #model.summary()\n",
    "        history = train_model(model, train_df, validation_df, EPOCHS)\n",
    "        all_results.append(history)\n",
    "    \n",
    "    return all_results"
   ]
  },
  {
   "cell_type": "markdown",
   "metadata": {},
   "source": [
    "Fitting Cross Validation and Visualizing Results"
   ]
  },
  {
   "cell_type": "code",
   "execution_count": 81,
   "metadata": {},
   "outputs": [
    {
     "data": {
      "text/plain": [
       "['p1', 'p10', 'p2', 'p3', 'p4', 'p5', 'p6', 'p7', 'p8', 'p9']"
      ]
     },
     "execution_count": 81,
     "metadata": {},
     "output_type": "execute_result"
    }
   ],
   "source": [
    "sorted(other_patients)"
   ]
  },
  {
   "cell_type": "code",
   "execution_count": 82,
   "metadata": {},
   "outputs": [
    {
     "data": {
      "text/plain": [
       "['p11', 'p12', 'p13', 'p14', 'p15', 'p16', 'p17', 'p18', 'p19', 'p20']"
      ]
     },
     "execution_count": 82,
     "metadata": {},
     "output_type": "execute_result"
    }
   ],
   "source": [
    "sorted(covid_patients)"
   ]
  },
  {
   "cell_type": "code",
   "execution_count": 83,
   "metadata": {},
   "outputs": [
    {
     "data": {
      "text/plain": [
       "['p11', 'p12', 'p13', 'p14', 'p15', 'p16', 'p17', 'p18', 'p19', 'p20']"
      ]
     },
     "execution_count": 83,
     "metadata": {},
     "output_type": "execute_result"
    }
   ],
   "source": [
    "covid_patients = sorted(covid_patients)\n",
    "covid_patients"
   ]
  },
  {
   "cell_type": "code",
   "execution_count": 84,
   "metadata": {},
   "outputs": [
    {
     "data": {
      "text/plain": [
       "['p1', 'p2', 'p3', 'p4', 'p5', 'p6', 'p7', 'p8', 'p9', 'p10']"
      ]
     },
     "execution_count": 84,
     "metadata": {},
     "output_type": "execute_result"
    }
   ],
   "source": [
    "other_patients = sorted(other_patients)\n",
    "other_patients.pop(1)\n",
    "other_patients.append('p10')\n",
    "other_patients"
   ]
  },
  {
   "cell_type": "code",
   "execution_count": 85,
   "metadata": {
    "scrolled": true
   },
   "outputs": [
    {
     "name": "stdout",
     "output_type": "stream",
     "text": [
      "Validating Folders:  ['p1', 'p6'] , ['p11', 'p16']\n",
      "Training Folders:  ['p10', 'p2', 'p3', 'p4', 'p5', 'p7', 'p8', 'p9'] , ['p12', 'p13', 'p14', 'p15', 'p17', 'p18', 'p19', 'p20']\n",
      "Train fold with 3200 images\n",
      "label\n",
      "covid    1600\n",
      "other    1600\n",
      "Name: label, dtype: int64\n",
      "\n",
      "Validation fold with 800 images\n",
      "label\n",
      "covid    400\n",
      "other    400\n",
      "Name: label, dtype: int64\n",
      "------------------------------\n",
      "Found 3200 validated image filenames belonging to 2 classes.\n",
      "Found 800 validated image filenames belonging to 2 classes.\n",
      "Epoch 1/15\n",
      "200/200 [==============================] - 142s 709ms/step - loss: 0.2856 - accuracy: 0.8631 - val_loss: 1.3776 - val_accuracy: 0.7200\n",
      "Epoch 2/15\n",
      "200/200 [==============================] - 109s 546ms/step - loss: 0.0550 - accuracy: 0.9797 - val_loss: 0.6325 - val_accuracy: 0.8612\n",
      "Epoch 3/15\n",
      "200/200 [==============================] - 102s 510ms/step - loss: 0.0317 - accuracy: 0.9922 - val_loss: 0.4121 - val_accuracy: 0.9050\n",
      "Epoch 4/15\n",
      "200/200 [==============================] - 51s 254ms/step - loss: 0.0166 - accuracy: 0.9944 - val_loss: 0.4812 - val_accuracy: 0.9013\n",
      "Epoch 5/15\n",
      "200/200 [==============================] - 51s 254ms/step - loss: 0.0085 - accuracy: 0.9975 - val_loss: 0.5736 - val_accuracy: 0.9013\n",
      "Epoch 6/15\n",
      "200/200 [==============================] - 59s 296ms/step - loss: 0.0063 - accuracy: 0.9981 - val_loss: 1.0532 - val_accuracy: 0.8925\n",
      "Epoch 7/15\n",
      "200/200 [==============================] - 53s 263ms/step - loss: 0.0117 - accuracy: 0.9984 - val_loss: 1.6797 - val_accuracy: 0.8388\n",
      "Epoch 8/15\n",
      "200/200 [==============================] - 67s 333ms/step - loss: 0.0127 - accuracy: 0.9978 - val_loss: 0.4716 - val_accuracy: 0.9400\n",
      "Epoch 9/15\n",
      "200/200 [==============================] - 64s 318ms/step - loss: 0.0120 - accuracy: 0.9975 - val_loss: 0.8396 - val_accuracy: 0.8938\n",
      "Epoch 10/15\n",
      "200/200 [==============================] - 62s 309ms/step - loss: 0.0058 - accuracy: 0.9987 - val_loss: 0.9109 - val_accuracy: 0.9112\n",
      "Epoch 11/15\n",
      "200/200 [==============================] - 72s 360ms/step - loss: 0.0017 - accuracy: 0.9987 - val_loss: 0.7438 - val_accuracy: 0.9312\n",
      "Epoch 12/15\n",
      "200/200 [==============================] - 69s 343ms/step - loss: 0.0011 - accuracy: 0.9997 - val_loss: 1.0529 - val_accuracy: 0.9075\n",
      "Epoch 13/15\n",
      "200/200 [==============================] - 64s 322ms/step - loss: 0.0030 - accuracy: 0.9994 - val_loss: 1.1589 - val_accuracy: 0.9175\n",
      "Epoch 14/15\n",
      "200/200 [==============================] - 75s 373ms/step - loss: 0.0027 - accuracy: 0.9991 - val_loss: 1.7214 - val_accuracy: 0.8763\n",
      "Epoch 15/15\n",
      "200/200 [==============================] - 70s 350ms/step - loss: 2.2188e-09 - accuracy: 1.0000 - val_loss: 1.5930 - val_accuracy: 0.8975\n",
      "Validating Folders:  ['p2', 'p7'] , ['p12', 'p17']\n",
      "Training Folders:  ['p1', 'p10', 'p3', 'p4', 'p5', 'p6', 'p8', 'p9'] , ['p11', 'p13', 'p14', 'p15', 'p16', 'p18', 'p19', 'p20']\n",
      "Train fold with 3200 images\n",
      "label\n",
      "covid    1600\n",
      "other    1600\n",
      "Name: label, dtype: int64\n",
      "\n",
      "Validation fold with 800 images\n",
      "label\n",
      "covid    400\n",
      "other    400\n",
      "Name: label, dtype: int64\n",
      "------------------------------\n",
      "Found 3200 validated image filenames belonging to 2 classes.\n",
      "Found 800 validated image filenames belonging to 2 classes.\n",
      "Epoch 1/15\n",
      "200/200 [==============================] - 99s 493ms/step - loss: 0.2837 - accuracy: 0.8681 - val_loss: 0.2160 - val_accuracy: 0.9000\n",
      "Epoch 2/15\n",
      "200/200 [==============================] - 78s 389ms/step - loss: 0.0550 - accuracy: 0.9791 - val_loss: 0.2402 - val_accuracy: 0.9162\n",
      "Epoch 3/15\n",
      "200/200 [==============================] - 72s 362ms/step - loss: 0.0214 - accuracy: 0.9953 - val_loss: 0.4104 - val_accuracy: 0.9000\n",
      "Epoch 4/15\n",
      "200/200 [==============================] - 81s 404ms/step - loss: 0.0306 - accuracy: 0.9931 - val_loss: 0.2484 - val_accuracy: 0.9325\n",
      "Epoch 5/15\n",
      "200/200 [==============================] - 81s 405ms/step - loss: 0.0198 - accuracy: 0.9978 - val_loss: 0.4504 - val_accuracy: 0.9237\n",
      "Epoch 6/15\n",
      "200/200 [==============================] - 77s 383ms/step - loss: 0.0075 - accuracy: 0.9987 - val_loss: 0.6506 - val_accuracy: 0.8913\n",
      "Epoch 7/15\n",
      "200/200 [==============================] - 79s 395ms/step - loss: 0.0290 - accuracy: 0.9978 - val_loss: 2.2669 - val_accuracy: 0.7337\n",
      "Epoch 8/15\n",
      "200/200 [==============================] - 89s 446ms/step - loss: 0.0190 - accuracy: 0.9969 - val_loss: 0.1122 - val_accuracy: 0.9800\n",
      "Epoch 9/15\n",
      "200/200 [==============================] - 94s 470ms/step - loss: 0.0211 - accuracy: 0.9984 - val_loss: 2.8397 - val_accuracy: 0.7400\n",
      "Epoch 10/15\n",
      "200/200 [==============================] - 91s 457ms/step - loss: 0.0048 - accuracy: 0.9991 - val_loss: 0.9347 - val_accuracy: 0.8838\n",
      "Epoch 11/15\n",
      "200/200 [==============================] - 86s 431ms/step - loss: 0.0042 - accuracy: 0.9991 - val_loss: 0.3934 - val_accuracy: 0.9400\n",
      "Epoch 12/15\n",
      "200/200 [==============================] - 83s 414ms/step - loss: 0.0060 - accuracy: 0.9991 - val_loss: 1.3079 - val_accuracy: 0.8763\n",
      "Epoch 13/15\n",
      "200/200 [==============================] - 86s 430ms/step - loss: 0.0062 - accuracy: 0.9991 - val_loss: 0.4350 - val_accuracy: 0.9488\n",
      "Epoch 14/15\n",
      "200/200 [==============================] - 81s 407ms/step - loss: 0.0041 - accuracy: 0.9994 - val_loss: 0.7444 - val_accuracy: 0.9337\n",
      "Epoch 15/15\n",
      "200/200 [==============================] - 87s 436ms/step - loss: 8.5997e-05 - accuracy: 1.0000 - val_loss: 1.0998 - val_accuracy: 0.9100\n",
      "Validating Folders:  ['p3', 'p8'] , ['p13', 'p18']\n",
      "Training Folders:  ['p1', 'p10', 'p2', 'p4', 'p5', 'p6', 'p7', 'p9'] , ['p11', 'p12', 'p14', 'p15', 'p16', 'p17', 'p19', 'p20']\n",
      "Train fold with 3200 images\n",
      "label\n",
      "covid    1600\n",
      "other    1600\n",
      "Name: label, dtype: int64\n",
      "\n",
      "Validation fold with 800 images\n",
      "label\n",
      "covid    400\n",
      "other    400\n",
      "Name: label, dtype: int64\n",
      "------------------------------\n",
      "Found 3200 validated image filenames belonging to 2 classes.\n",
      "Found 800 validated image filenames belonging to 2 classes.\n",
      "Epoch 1/15\n",
      "200/200 [==============================] - 118s 592ms/step - loss: 0.1745 - accuracy: 0.9275 - val_loss: 4.0086 - val_accuracy: 0.5213\n",
      "Epoch 2/15\n",
      "200/200 [==============================] - 96s 481ms/step - loss: 0.0387 - accuracy: 0.9887 - val_loss: 4.4260 - val_accuracy: 0.5487\n",
      "Epoch 3/15\n",
      "200/200 [==============================] - 96s 482ms/step - loss: 0.0124 - accuracy: 0.9975 - val_loss: 6.4308 - val_accuracy: 0.5213\n",
      "Epoch 4/15\n",
      "200/200 [==============================] - 101s 506ms/step - loss: 0.0399 - accuracy: 0.9962 - val_loss: 5.8034 - val_accuracy: 0.4850\n",
      "Epoch 5/15\n",
      "200/200 [==============================] - 110s 549ms/step - loss: 0.0012 - accuracy: 0.9997 - val_loss: 10.2875 - val_accuracy: 0.4737\n",
      "Epoch 6/15\n",
      "200/200 [==============================] - 96s 480ms/step - loss: 0.0037 - accuracy: 0.9994 - val_loss: 11.2529 - val_accuracy: 0.5063\n",
      "Epoch 7/15\n",
      "200/200 [==============================] - 102s 510ms/step - loss: 0.0171 - accuracy: 0.9981 - val_loss: 10.0399 - val_accuracy: 0.5300\n",
      "Epoch 8/15\n",
      "200/200 [==============================] - 111s 557ms/step - loss: 8.0930e-08 - accuracy: 1.0000 - val_loss: 12.7507 - val_accuracy: 0.5263\n",
      "Epoch 9/15\n",
      "200/200 [==============================] - 94s 469ms/step - loss: 2.3078e-09 - accuracy: 1.0000 - val_loss: 13.8076 - val_accuracy: 0.5175\n",
      "Epoch 10/15\n",
      "200/200 [==============================] - 103s 513ms/step - loss: 0.0089 - accuracy: 0.9981 - val_loss: 11.0889 - val_accuracy: 0.4875\n",
      "Epoch 11/15\n",
      "200/200 [==============================] - 94s 469ms/step - loss: 0.0100 - accuracy: 0.9981 - val_loss: 15.3873 - val_accuracy: 0.5063\n",
      "Epoch 12/15\n",
      "200/200 [==============================] - 116s 582ms/step - loss: 0.0044 - accuracy: 0.9991 - val_loss: 12.1530 - val_accuracy: 0.5537\n",
      "Epoch 13/15\n",
      "200/200 [==============================] - 115s 577ms/step - loss: 7.3653e-09 - accuracy: 1.0000 - val_loss: 14.9503 - val_accuracy: 0.5113\n",
      "Epoch 14/15\n",
      "200/200 [==============================] - 131s 656ms/step - loss: 1.9580e-09 - accuracy: 1.0000 - val_loss: 13.7498 - val_accuracy: 0.5913\n",
      "Epoch 15/15\n",
      "200/200 [==============================] - 156s 779ms/step - loss: 0.0073 - accuracy: 0.9994 - val_loss: 14.2138 - val_accuracy: 0.4850\n",
      "Validating Folders:  ['p4', 'p9'] , ['p14', 'p19']\n",
      "Training Folders:  ['p1', 'p10', 'p2', 'p3', 'p5', 'p6', 'p7', 'p8'] , ['p11', 'p12', 'p13', 'p15', 'p16', 'p17', 'p18', 'p20']\n",
      "Train fold with 3200 images\n",
      "label\n",
      "covid    1600\n",
      "other    1600\n",
      "Name: label, dtype: int64\n",
      "\n",
      "Validation fold with 800 images\n",
      "label\n",
      "covid    400\n",
      "other    400\n",
      "Name: label, dtype: int64\n",
      "------------------------------\n"
     ]
    },
    {
     "name": "stdout",
     "output_type": "stream",
     "text": [
      "Found 3200 validated image filenames belonging to 2 classes.\n",
      "Found 800 validated image filenames belonging to 2 classes.\n",
      "Epoch 1/15\n",
      "200/200 [==============================] - 117s 587ms/step - loss: 0.2335 - accuracy: 0.8950 - val_loss: 0.6115 - val_accuracy: 0.7563\n",
      "Epoch 2/15\n",
      "200/200 [==============================] - 122s 609ms/step - loss: 0.0390 - accuracy: 0.9869 - val_loss: 1.0178 - val_accuracy: 0.7200\n",
      "Epoch 3/15\n",
      "200/200 [==============================] - 113s 564ms/step - loss: 0.0187 - accuracy: 0.9959 - val_loss: 0.9916 - val_accuracy: 0.7713\n",
      "Epoch 4/15\n",
      "200/200 [==============================] - 111s 557ms/step - loss: 0.0095 - accuracy: 0.9975 - val_loss: 1.9047 - val_accuracy: 0.7900\n",
      "Epoch 5/15\n",
      "200/200 [==============================] - 112s 561ms/step - loss: 0.0089 - accuracy: 0.9966 - val_loss: 2.1470 - val_accuracy: 0.7175\n",
      "Epoch 6/15\n",
      "200/200 [==============================] - 117s 587ms/step - loss: 0.0041 - accuracy: 0.9987 - val_loss: 3.2039 - val_accuracy: 0.6600\n",
      "Epoch 7/15\n",
      "200/200 [==============================] - 114s 569ms/step - loss: 0.0039 - accuracy: 0.9994 - val_loss: 3.5911 - val_accuracy: 0.6712\n",
      "Epoch 8/15\n",
      "200/200 [==============================] - 114s 572ms/step - loss: 0.0155 - accuracy: 0.9978 - val_loss: 2.2635 - val_accuracy: 0.7437\n",
      "Epoch 9/15\n",
      "200/200 [==============================] - 123s 617ms/step - loss: 0.0205 - accuracy: 0.9984 - val_loss: 3.1079 - val_accuracy: 0.6938\n",
      "Epoch 10/15\n",
      "200/200 [==============================] - 126s 632ms/step - loss: 0.0086 - accuracy: 0.9991 - val_loss: 2.3568 - val_accuracy: 0.7475\n",
      "Epoch 11/15\n",
      "200/200 [==============================] - 119s 595ms/step - loss: 0.0018 - accuracy: 0.9994 - val_loss: 4.0828 - val_accuracy: 0.6600\n",
      "Epoch 12/15\n",
      "200/200 [==============================] - 116s 582ms/step - loss: 0.0100 - accuracy: 0.9981 - val_loss: 2.6612 - val_accuracy: 0.7437\n",
      "Epoch 13/15\n",
      "200/200 [==============================] - 112s 559ms/step - loss: 0.0024 - accuracy: 0.9997 - val_loss: 3.2414 - val_accuracy: 0.7188\n",
      "Epoch 14/15\n",
      "200/200 [==============================] - 116s 581ms/step - loss: 0.0014 - accuracy: 0.9994 - val_loss: 4.4051 - val_accuracy: 0.7387\n",
      "Epoch 15/15\n",
      "200/200 [==============================] - 118s 591ms/step - loss: 0.0079 - accuracy: 0.9984 - val_loss: 3.4500 - val_accuracy: 0.7350\n",
      "Validating Folders:  ['p10', 'p5'] , ['p15', 'p20']\n",
      "Training Folders:  ['p1', 'p2', 'p3', 'p4', 'p6', 'p7', 'p8', 'p9'] , ['p11', 'p12', 'p13', 'p14', 'p16', 'p17', 'p18', 'p19']\n",
      "Train fold with 3200 images\n",
      "label\n",
      "covid    1600\n",
      "other    1600\n",
      "Name: label, dtype: int64\n",
      "\n",
      "Validation fold with 800 images\n",
      "label\n",
      "covid    400\n",
      "other    400\n",
      "Name: label, dtype: int64\n",
      "------------------------------\n",
      "Found 3200 validated image filenames belonging to 2 classes.\n",
      "Found 800 validated image filenames belonging to 2 classes.\n",
      "Epoch 1/15\n",
      "200/200 [==============================] - 204s 1s/step - loss: 0.2901 - accuracy: 0.8612 - val_loss: 0.7768 - val_accuracy: 0.7750\n",
      "Epoch 2/15\n",
      "200/200 [==============================] - 174s 871ms/step - loss: 0.0579 - accuracy: 0.9803 - val_loss: 1.0330 - val_accuracy: 0.8025\n",
      "Epoch 3/15\n",
      "200/200 [==============================] - 206s 1s/step - loss: 0.0253 - accuracy: 0.9922 - val_loss: 1.4094 - val_accuracy: 0.7563\n",
      "Epoch 4/15\n",
      "200/200 [==============================] - 133s 665ms/step - loss: 0.0134 - accuracy: 0.9959 - val_loss: 1.4991 - val_accuracy: 0.7875\n",
      "Epoch 5/15\n",
      "200/200 [==============================] - 100s 499ms/step - loss: 0.0150 - accuracy: 0.9956 - val_loss: 1.6211 - val_accuracy: 0.7862\n",
      "Epoch 6/15\n",
      "200/200 [==============================] - 101s 505ms/step - loss: 0.0095 - accuracy: 0.9978 - val_loss: 3.8233 - val_accuracy: 0.5913\n",
      "Epoch 7/15\n",
      "200/200 [==============================] - 102s 509ms/step - loss: 3.9898e-04 - accuracy: 1.0000 - val_loss: 8.9460 - val_accuracy: 0.5263\n",
      "Epoch 8/15\n",
      "200/200 [==============================] - 101s 503ms/step - loss: 0.0075 - accuracy: 0.9978 - val_loss: 1.7116 - val_accuracy: 0.8450\n",
      "Epoch 9/15\n",
      "200/200 [==============================] - 105s 525ms/step - loss: 3.8361e-06 - accuracy: 1.0000 - val_loss: 3.7776 - val_accuracy: 0.7225\n",
      "Epoch 10/15\n",
      "200/200 [==============================] - 109s 543ms/step - loss: 0.0034 - accuracy: 0.9991 - val_loss: 4.1182 - val_accuracy: 0.7225\n",
      "Epoch 11/15\n",
      "200/200 [==============================] - 118s 592ms/step - loss: 0.0041 - accuracy: 0.9994 - val_loss: 9.2226 - val_accuracy: 0.6050\n",
      "Epoch 12/15\n",
      "200/200 [==============================] - 109s 543ms/step - loss: 1.5099e-05 - accuracy: 1.0000 - val_loss: 5.3024 - val_accuracy: 0.7337\n",
      "Epoch 13/15\n",
      "200/200 [==============================] - 105s 523ms/step - loss: 0.0058 - accuracy: 0.9994 - val_loss: 6.9640 - val_accuracy: 0.5850\n",
      "Epoch 14/15\n",
      "200/200 [==============================] - 100s 500ms/step - loss: 3.9451e-07 - accuracy: 1.0000 - val_loss: 4.6206 - val_accuracy: 0.7325\n",
      "Epoch 15/15\n",
      "200/200 [==============================] - 103s 514ms/step - loss: 0.0039 - accuracy: 0.9994 - val_loss: 3.0679 - val_accuracy: 0.8225\n"
     ]
    }
   ],
   "source": [
    "results = special_cross_validation(covid_patients, other_patients)"
   ]
  },
  {
   "cell_type": "code",
   "execution_count": 86,
   "metadata": {},
   "outputs": [
    {
     "data": {
      "image/png": "[encoded data removed]",
      "text/plain": [
       "<Figure size 432x288 with 1 Axes>"
      ]
     },
     "metadata": {
      "needs_background": "light"
     },
     "output_type": "display_data"
    },
    {
     "data": {
      "image/png": "[encoded data removed]",
      "text/plain": [
       "<Figure size 432x288 with 1 Axes>"
      ]
     },
     "metadata": {
      "needs_background": "light"
     },
     "output_type": "display_data"
    },
    {
     "data": {
      "image/png": "[encoded data removed]",
      "text/plain": [
       "<Figure size 432x288 with 1 Axes>"
      ]
     },
     "metadata": {
      "needs_background": "light"
     },
     "output_type": "display_data"
    },
    {
     "data": {
      "image/png": "[encoded data removed]",
      "text/plain": [
       "<Figure size 432x288 with 1 Axes>"
      ]
     },
     "metadata": {
      "needs_background": "light"
     },
     "output_type": "display_data"
    },
    {
     "data": {
      "image/png": "[encoded data removed]",
      "text/plain": [
       "<Figure size 432x288 with 1 Axes>"
      ]
     },
     "metadata": {
      "needs_background": "light"
     },
     "output_type": "display_data"
    }
   ],
   "source": [
    "plot_all_acc(results)"
   ]
  },
  {
   "cell_type": "markdown",
   "metadata": {},
   "source": [
    "Fitting or Loading a Final Model"
   ]
  },
  {
   "cell_type": "code",
   "execution_count": 14,
   "metadata": {},
   "outputs": [],
   "source": [
    "model = get_model()"
   ]
  },
  {
   "cell_type": "code",
   "execution_count": 17,
   "metadata": {},
   "outputs": [
    {
     "name": "stdout",
     "output_type": "stream",
     "text": [
      "['p11', 'p12', 'p13', 'p14', 'p15', 'p16', 'p17', 'p18', 'p19', 'p20']\n",
      "['p1', 'p10', 'p2', 'p3', 'p4', 'p5', 'p6', 'p7', 'p8', 'p9']\n"
     ]
    }
   ],
   "source": [
    "print(sorted(covid_patients))\n",
    "print(sorted(other_patients))"
   ]
  },
  {
   "cell_type": "code",
   "execution_count": 24,
   "metadata": {},
   "outputs": [],
   "source": [
    "def get_file_path(folder, search_filter=''):\n",
    "    paths = []\n",
    "    for root, dirs, files in os.walk(folder):\n",
    "        for file in files:\n",
    "            path = os.path.join(root, file)\n",
    "            if search_filter in path:\n",
    "                paths.append(path)\n",
    "    return paths"
   ]
  },
  {
   "cell_type": "code",
   "execution_count": 29,
   "metadata": {},
   "outputs": [
    {
     "name": "stdout",
     "output_type": "stream",
     "text": [
      "Validating Folders:  ['p2', 'p7'] ['p12', 'p17']\n",
      "Training Folders:  ['p1', 'p10', 'p3', 'p4', 'p5', 'p6', 'p8', 'p9'] ['p11', 'p13', 'p14', 'p15', 'p16', 'p18', 'p19', 'p20']\n",
      "Train fold with 3200 images\n",
      "label\n",
      "covid    1600\n",
      "other    1600\n",
      "Name: label, dtype: int64\n",
      "\n",
      "Validation fold with 800 images\n",
      "label\n",
      "covid    400\n",
      "other    400\n",
      "Name: label, dtype: int64\n",
      "------------------------------\n",
      "Found 3200 validated image filenames belonging to 2 classes.\n",
      "Found 800 validated image filenames belonging to 2 classes.\n",
      "Epoch 1/15\n",
      "200/200 [==============================] - 140s 702ms/step - loss: 0.2459 - accuracy: 0.8953 - val_loss: 0.1848 - val_accuracy: 0.9125\n",
      "Epoch 2/15\n",
      "200/200 [==============================] - 122s 609ms/step - loss: 0.0407 - accuracy: 0.9869 - val_loss: 0.2954 - val_accuracy: 0.9000\n",
      "Epoch 3/15\n",
      "200/200 [==============================] - 44s 222ms/step - loss: 0.0188 - accuracy: 0.9944 - val_loss: 0.6703 - val_accuracy: 0.8450\n",
      "Epoch 4/15\n",
      "200/200 [==============================] - 41s 207ms/step - loss: 0.0146 - accuracy: 0.9972 - val_loss: 0.5936 - val_accuracy: 0.8737\n",
      "Epoch 5/15\n",
      "200/200 [==============================] - 44s 218ms/step - loss: 0.0074 - accuracy: 0.9975 - val_loss: 0.3563 - val_accuracy: 0.9125\n",
      "Epoch 6/15\n",
      "200/200 [==============================] - 57s 284ms/step - loss: 0.0108 - accuracy: 0.9978 - val_loss: 0.5633 - val_accuracy: 0.8913\n",
      "Epoch 7/15\n",
      "200/200 [==============================] - 51s 257ms/step - loss: 0.0066 - accuracy: 0.9978 - val_loss: 0.9287 - val_accuracy: 0.8575\n",
      "Epoch 8/15\n",
      "200/200 [==============================] - 56s 278ms/step - loss: 0.0101 - accuracy: 0.9972 - val_loss: 0.8819 - val_accuracy: 0.8675\n",
      "Epoch 9/15\n",
      "200/200 [==============================] - 55s 273ms/step - loss: 0.0015 - accuracy: 0.9994 - val_loss: 1.3962 - val_accuracy: 0.8725\n",
      "Epoch 10/15\n",
      "200/200 [==============================] - 55s 276ms/step - loss: 0.0089 - accuracy: 0.9987 - val_loss: 0.2992 - val_accuracy: 0.9475\n",
      "Epoch 11/15\n",
      "200/200 [==============================] - 55s 276ms/step - loss: 0.0059 - accuracy: 0.9987 - val_loss: 0.5257 - val_accuracy: 0.9200\n",
      "Epoch 12/15\n",
      "200/200 [==============================] - 56s 278ms/step - loss: 0.0047 - accuracy: 0.9991 - val_loss: 1.1880 - val_accuracy: 0.8662\n",
      "Epoch 13/15\n",
      "200/200 [==============================] - 56s 279ms/step - loss: 0.0124 - accuracy: 0.9991 - val_loss: 0.6603 - val_accuracy: 0.9062\n",
      "Epoch 14/15\n",
      "200/200 [==============================] - 56s 281ms/step - loss: 0.0051 - accuracy: 0.9991 - val_loss: 5.0343 - val_accuracy: 0.6250\n",
      "Epoch 15/15\n",
      "200/200 [==============================] - 57s 287ms/step - loss: 0.0156 - accuracy: 0.9978 - val_loss: 0.6902 - val_accuracy: 0.9038\n"
     ]
    }
   ],
   "source": [
    "#fitting a model that performed well in cross validation tests\n",
    "validation_other_folders = ['p2', 'p7']\n",
    "validation_covid_folders = ['p12', 'p17']\n",
    "\n",
    "train_other_folders = list(set(other_patients) - set(validation_other_folders))\n",
    "train_covid_folders = list(set(covid_patients) - set(validation_covid_folders))\n",
    "\n",
    "print(\"Validating Folders: \", sorted(validation_other_folders), sorted(validation_covid_folders))\n",
    "print(\"Training Folders: \", sorted(train_other_folders), sorted(train_covid_folders))\n",
    "\n",
    "train_img_src_folder = img_src_folder\n",
    "validation_img_src_folder = img_src_folder\n",
    "\n",
    "train_set, validation_set = get_dicts(train_other_folders, train_covid_folders,\n",
    "                                    validation_other_folders, validation_covid_folders)\n",
    "\n",
    "train_df, validation_df = get_data(train_img_src_folder, train_set, \n",
    "                                  validation_img_src_folder, validation_set)\n",
    "\n",
    "history = train_model(model, train_df, validation_df, EPOCHS)"
   ]
  },
  {
   "cell_type": "code",
   "execution_count": 31,
   "metadata": {},
   "outputs": [],
   "source": [
    "#saving the final model\n",
    "model.save('transfer_learning.h5')"
   ]
  },
  {
   "cell_type": "code",
   "execution_count": 2,
   "metadata": {},
   "outputs": [
    {
     "name": "stdout",
     "output_type": "stream",
     "text": [
      "Model: \"sequential\"\n",
      "_________________________________________________________________\n",
      "Layer (type)                 Output Shape              Param #   \n",
      "=================================================================\n",
      "vgg16 (Model)                (None, 4, 4, 512)         14714688  \n",
      "_________________________________________________________________\n",
      "flatten (Flatten)            (None, 8192)              0         \n",
      "_________________________________________________________________\n",
      "dropout (Dropout)            (None, 8192)              0         \n",
      "_________________________________________________________________\n",
      "dense (Dense)                (None, 256)               2097408   \n",
      "_________________________________________________________________\n",
      "dense_1 (Dense)              (None, 1)                 257       \n",
      "=================================================================\n",
      "Total params: 16,812,353\n",
      "Trainable params: 15,076,865\n",
      "Non-trainable params: 1,735,488\n",
      "_________________________________________________________________\n"
     ]
    }
   ],
   "source": [
    "if os.path.isfile('transfer_learning.h5'):\n",
    "    from keras.models import load_model\n",
    "    model = load_model('transfer_learning.h5')\n",
    "    model.summary()"
   ]
  },
  {
   "cell_type": "markdown",
   "metadata": {},
   "source": [
    "Making Predictions to Patients in Test Set"
   ]
  },
  {
   "cell_type": "code",
   "execution_count": null,
   "metadata": {},
   "outputs": [],
   "source": [
    "test_patients = sorted(TEST_IMG_FOLDERS) \n",
    "test_patients"
   ]
  },
  {
   "cell_type": "code",
   "execution_count": null,
   "metadata": {},
   "outputs": [],
   "source": [
    "if len(test_patients)>0:\n",
    "    batch_size = 16\n",
    "    width = 150\n",
    "    height = 150\n",
    "    results = []\n",
    "    for p in test_patients:\n",
    "        curr_dir = img_src_folder + '/' + p + '/segmented/' \n",
    "        test_filenames = os.listdir(curr_dir)\n",
    "        test_df = pd.DataFrame({\n",
    "                'filename': test_filenames\n",
    "         })\n",
    "        nb_samples = test_df.shape[0]\n",
    "\n",
    "        test_gen = ImageDataGenerator(rescale=1./255)\n",
    "        test_generator = test_gen.flow_from_dataframe(\n",
    "                test_df, \n",
    "                curr_dir, \n",
    "                x_col='filename',\n",
    "                y_col=None,\n",
    "                class_mode=None,\n",
    "                target_size=(width, height),\n",
    "                batch_size=batch_size,\n",
    "                shuffle=False\n",
    "        )\n",
    "\n",
    "        predict = model.predict(test_generator, steps=np.ceil(nb_samples/batch_size))\n",
    "        test_df['category'] = [int(round(p[0])) for p in predict]\n",
    "        results.append(test_df)"
   ]
  },
  {
   "cell_type": "markdown",
   "metadata": {},
   "source": [
    "Class Activation Map"
   ]
  },
  {
   "cell_type": "code",
   "execution_count": 78,
   "metadata": {},
   "outputs": [
    {
     "data": {
      "text/plain": [
       "array([[[[ -75.939,  -96.779, -103.68 ],\n",
       "         [ -75.939,  -96.779, -103.68 ],\n",
       "         [ -75.939,  -96.779, -103.68 ],\n",
       "         ...,\n",
       "         [ -75.939,  -96.779, -103.68 ],\n",
       "         [ -75.939,  -96.779, -103.68 ],\n",
       "         [ -75.939,  -96.779, -103.68 ]],\n",
       "\n",
       "        [[ -75.939,  -96.779, -103.68 ],\n",
       "         [ -75.939,  -96.779, -103.68 ],\n",
       "         [ -75.939,  -96.779, -103.68 ],\n",
       "         ...,\n",
       "         [ -75.939,  -96.779, -103.68 ],\n",
       "         [ -75.939,  -96.779, -103.68 ],\n",
       "         [ -75.939,  -96.779, -103.68 ]],\n",
       "\n",
       "        [[ -75.939,  -96.779, -103.68 ],\n",
       "         [ -75.939,  -96.779, -103.68 ],\n",
       "         [ -75.939,  -96.779, -103.68 ],\n",
       "         ...,\n",
       "         [ -75.939,  -96.779, -103.68 ],\n",
       "         [ -75.939,  -96.779, -103.68 ],\n",
       "         [ -75.939,  -96.779, -103.68 ]],\n",
       "\n",
       "        ...,\n",
       "\n",
       "        [[ -75.939,  -96.779, -103.68 ],\n",
       "         [ -75.939,  -96.779, -103.68 ],\n",
       "         [ -75.939,  -96.779, -103.68 ],\n",
       "         ...,\n",
       "         [ -75.939,  -96.779, -103.68 ],\n",
       "         [ -75.939,  -96.779, -103.68 ],\n",
       "         [ -75.939,  -96.779, -103.68 ]],\n",
       "\n",
       "        [[ -75.939,  -96.779, -103.68 ],\n",
       "         [ -75.939,  -96.779, -103.68 ],\n",
       "         [ -75.939,  -96.779, -103.68 ],\n",
       "         ...,\n",
       "         [ -75.939,  -96.779, -103.68 ],\n",
       "         [ -75.939,  -96.779, -103.68 ],\n",
       "         [ -75.939,  -96.779, -103.68 ]],\n",
       "\n",
       "        [[ -75.939,  -96.779, -103.68 ],\n",
       "         [ -75.939,  -96.779, -103.68 ],\n",
       "         [ -75.939,  -96.779, -103.68 ],\n",
       "         ...,\n",
       "         [ -75.939,  -96.779, -103.68 ],\n",
       "         [ -75.939,  -96.779, -103.68 ],\n",
       "         [ -75.939,  -96.779, -103.68 ]]]], dtype=float32)"
      ]
     },
     "execution_count": 78,
     "metadata": {},
     "output_type": "execute_result"
    }
   ],
   "source": [
    "from keras.preprocessing import image\n",
    "from keras.applications.vgg16 import preprocess_input, decode_predictions\n",
    "import numpy as np\n",
    "\n",
    "img_path = 'lung-segmentation/uniq/p11/segmented/132449.497359_I2350000.png'\n",
    "\n",
    "img = image.load_img(img_path, target_size=(150,150))\n",
    "\n",
    "x = img_to_array(img)\n",
    "\n",
    "x = np.expand_dims(x, axis=0)\n",
    "\n",
    "x = preprocess_input(x)\n",
    "x"
   ]
  },
  {
   "cell_type": "code",
   "execution_count": 45,
   "metadata": {},
   "outputs": [],
   "source": [
    "if os.path.isfile('transfer_learning_legend.npy'):\n",
    "        class_indices = np.load('transfer_learning_legend.npy', allow_pickle=True).item()\n",
    "        class_indices = dict((v,k) for k,v in class_indices.items())"
   ]
  },
  {
   "cell_type": "code",
   "execution_count": 46,
   "metadata": {},
   "outputs": [
    {
     "data": {
      "text/plain": [
       "{0: 'covid', 1: 'other'}"
      ]
     },
     "execution_count": 46,
     "metadata": {},
     "output_type": "execute_result"
    }
   ],
   "source": [
    "class_indices"
   ]
  },
  {
   "cell_type": "code",
   "execution_count": 84,
   "metadata": {},
   "outputs": [
    {
     "data": {
      "text/plain": [
       "'covid'"
      ]
     },
     "execution_count": 84,
     "metadata": {},
     "output_type": "execute_result"
    }
   ],
   "source": [
    "a = [int(round(p[0])) for p in preds]\n",
    "class_indices[a[0]]"
   ]
  },
  {
   "cell_type": "code",
   "execution_count": 80,
   "metadata": {},
   "outputs": [
    {
     "ename": "ValueError",
     "evalue": "`decode_predictions` expects a batch of predictions (i.e. a 2D array of shape (samples, 1000)). Found array with shape: (1, 1)",
     "output_type": "error",
     "traceback": [
      "\u001b[0;31m---------------------------------------------------------------------------\u001b[0m",
      "\u001b[0;31mValueError\u001b[0m                                Traceback (most recent call last)",
      "\u001b[0;32m<ipython-input-80-68b24e3c00c7>\u001b[0m in \u001b[0;36m<module>\u001b[0;34m\u001b[0m\n\u001b[1;32m      1\u001b[0m \u001b[0mpreds\u001b[0m \u001b[0;34m=\u001b[0m \u001b[0mmodel\u001b[0m\u001b[0;34m.\u001b[0m\u001b[0mpredict\u001b[0m\u001b[0;34m(\u001b[0m\u001b[0mx\u001b[0m\u001b[0;34m)\u001b[0m\u001b[0;34m\u001b[0m\u001b[0;34m\u001b[0m\u001b[0m\n\u001b[0;32m----> 2\u001b[0;31m \u001b[0mpredictions\u001b[0m \u001b[0;34m=\u001b[0m \u001b[0mpd\u001b[0m\u001b[0;34m.\u001b[0m\u001b[0mDataFrame\u001b[0m\u001b[0;34m(\u001b[0m\u001b[0mdecode_predictions\u001b[0m\u001b[0;34m(\u001b[0m\u001b[0mpreds\u001b[0m\u001b[0;34m,\u001b[0m \u001b[0mtop\u001b[0m\u001b[0;34m=\u001b[0m\u001b[0;36m3\u001b[0m\u001b[0;34m)\u001b[0m\u001b[0;34m[\u001b[0m\u001b[0;36m0\u001b[0m\u001b[0;34m]\u001b[0m\u001b[0;34m,\u001b[0m\u001b[0mcolumns\u001b[0m\u001b[0;34m=\u001b[0m\u001b[0;34m[\u001b[0m\u001b[0;34m'col1'\u001b[0m\u001b[0;34m,\u001b[0m\u001b[0;34m'category'\u001b[0m\u001b[0;34m,\u001b[0m\u001b[0;34m'probability'\u001b[0m\u001b[0;34m]\u001b[0m\u001b[0;34m)\u001b[0m\u001b[0;34m.\u001b[0m\u001b[0miloc\u001b[0m\u001b[0;34m[\u001b[0m\u001b[0;34m:\u001b[0m\u001b[0;34m,\u001b[0m\u001b[0;36m1\u001b[0m\u001b[0;34m:\u001b[0m\u001b[0;34m]\u001b[0m\u001b[0;34m\u001b[0m\u001b[0;34m\u001b[0m\u001b[0m\n\u001b[0m",
      "\u001b[0;32m~/.conda/envs/ai/lib/python3.8/site-packages/tensorflow/python/keras/applications/vgg16.py\u001b[0m in \u001b[0;36mdecode_predictions\u001b[0;34m(preds, top)\u001b[0m\n\u001b[1;32m    250\u001b[0m     \u001b[0mValueError\u001b[0m\u001b[0;34m:\u001b[0m \u001b[0mIn\u001b[0m \u001b[0mcase\u001b[0m \u001b[0mof\u001b[0m \u001b[0minvalid\u001b[0m \u001b[0mshape\u001b[0m \u001b[0mof\u001b[0m \u001b[0mthe\u001b[0m\u001b[0;31m \u001b[0m\u001b[0;31m`\u001b[0m\u001b[0mpreds\u001b[0m\u001b[0;31m`\u001b[0m \u001b[0marray\u001b[0m \u001b[0;34m(\u001b[0m\u001b[0mmust\u001b[0m \u001b[0mbe\u001b[0m \u001b[0;36m2\u001b[0m\u001b[0mD\u001b[0m\u001b[0;34m)\u001b[0m\u001b[0;34m.\u001b[0m\u001b[0;34m\u001b[0m\u001b[0;34m\u001b[0m\u001b[0m\n\u001b[1;32m    251\u001b[0m   \"\"\"\n\u001b[0;32m--> 252\u001b[0;31m   \u001b[0;32mreturn\u001b[0m \u001b[0mimagenet_utils\u001b[0m\u001b[0;34m.\u001b[0m\u001b[0mdecode_predictions\u001b[0m\u001b[0;34m(\u001b[0m\u001b[0mpreds\u001b[0m\u001b[0;34m,\u001b[0m \u001b[0mtop\u001b[0m\u001b[0;34m=\u001b[0m\u001b[0mtop\u001b[0m\u001b[0;34m)\u001b[0m\u001b[0;34m\u001b[0m\u001b[0;34m\u001b[0m\u001b[0m\n\u001b[0m\u001b[1;32m    253\u001b[0m \u001b[0;34m\u001b[0m\u001b[0m\n\u001b[1;32m    254\u001b[0m \u001b[0;34m\u001b[0m\u001b[0m\n",
      "\u001b[0;32m~/.conda/envs/ai/lib/python3.8/site-packages/tensorflow/python/keras/applications/imagenet_utils.py\u001b[0m in \u001b[0;36mdecode_predictions\u001b[0;34m(preds, top)\u001b[0m\n\u001b[1;32m    135\u001b[0m \u001b[0;34m\u001b[0m\u001b[0m\n\u001b[1;32m    136\u001b[0m   \u001b[0;32mif\u001b[0m \u001b[0mlen\u001b[0m\u001b[0;34m(\u001b[0m\u001b[0mpreds\u001b[0m\u001b[0;34m.\u001b[0m\u001b[0mshape\u001b[0m\u001b[0;34m)\u001b[0m \u001b[0;34m!=\u001b[0m \u001b[0;36m2\u001b[0m \u001b[0;32mor\u001b[0m \u001b[0mpreds\u001b[0m\u001b[0;34m.\u001b[0m\u001b[0mshape\u001b[0m\u001b[0;34m[\u001b[0m\u001b[0;36m1\u001b[0m\u001b[0;34m]\u001b[0m \u001b[0;34m!=\u001b[0m \u001b[0;36m1000\u001b[0m\u001b[0;34m:\u001b[0m\u001b[0;34m\u001b[0m\u001b[0;34m\u001b[0m\u001b[0m\n\u001b[0;32m--> 137\u001b[0;31m     raise ValueError('`decode_predictions` expects '\n\u001b[0m\u001b[1;32m    138\u001b[0m                      \u001b[0;34m'a batch of predictions '\u001b[0m\u001b[0;34m\u001b[0m\u001b[0;34m\u001b[0m\u001b[0m\n\u001b[1;32m    139\u001b[0m                      \u001b[0;34m'(i.e. a 2D array of shape (samples, 1000)). '\u001b[0m\u001b[0;34m\u001b[0m\u001b[0;34m\u001b[0m\u001b[0m\n",
      "\u001b[0;31mValueError\u001b[0m: `decode_predictions` expects a batch of predictions (i.e. a 2D array of shape (samples, 1000)). Found array with shape: (1, 1)"
     ]
    }
   ],
   "source": [
    "preds = model.predict(x)\n",
    "predictions = pd.DataFrame(decode_predictions(preds, top=3)[0],columns=['col1','category','probability']).iloc[:,1:]"
   ]
  },
  {
   "cell_type": "code",
   "execution_count": 77,
   "metadata": {},
   "outputs": [
    {
     "ename": "AttributeError",
     "evalue": "'NoneType' object has no attribute 'dtype'",
     "output_type": "error",
     "traceback": [
      "\u001b[0;31m---------------------------------------------------------------------------\u001b[0m",
      "\u001b[0;31mAttributeError\u001b[0m                            Traceback (most recent call last)",
      "\u001b[0;32m<ipython-input-77-976d4480e178>\u001b[0m in \u001b[0;36m<module>\u001b[0;34m\u001b[0m\n\u001b[1;32m      9\u001b[0m \u001b[0mgrads\u001b[0m \u001b[0;34m=\u001b[0m \u001b[0mK\u001b[0m\u001b[0;34m.\u001b[0m\u001b[0mgradients\u001b[0m\u001b[0;34m(\u001b[0m\u001b[0mcovid_output\u001b[0m\u001b[0;34m,\u001b[0m \u001b[0mlast_conv_layer\u001b[0m\u001b[0;34m.\u001b[0m\u001b[0moutput\u001b[0m\u001b[0;34m)\u001b[0m\u001b[0;34m[\u001b[0m\u001b[0;36m0\u001b[0m\u001b[0;34m]\u001b[0m\u001b[0;34m\u001b[0m\u001b[0;34m\u001b[0m\u001b[0m\n\u001b[1;32m     10\u001b[0m \u001b[0;34m\u001b[0m\u001b[0m\n\u001b[0;32m---> 11\u001b[0;31m \u001b[0mpooled_grads\u001b[0m \u001b[0;34m=\u001b[0m \u001b[0mK\u001b[0m\u001b[0;34m.\u001b[0m\u001b[0mmean\u001b[0m\u001b[0;34m(\u001b[0m\u001b[0mgrads\u001b[0m\u001b[0;34m,\u001b[0m \u001b[0maxis\u001b[0m\u001b[0;34m=\u001b[0m\u001b[0;34m(\u001b[0m\u001b[0;36m0\u001b[0m\u001b[0;34m,\u001b[0m \u001b[0;36m1\u001b[0m\u001b[0;34m,\u001b[0m \u001b[0;36m2\u001b[0m\u001b[0;34m)\u001b[0m\u001b[0;34m)\u001b[0m\u001b[0;34m\u001b[0m\u001b[0;34m\u001b[0m\u001b[0m\n\u001b[0m",
      "\u001b[0;32m~/.conda/envs/ai/lib/python3.8/site-packages/keras/backend/tensorflow_backend.py\u001b[0m in \u001b[0;36mmean\u001b[0;34m(x, axis, keepdims)\u001b[0m\n\u001b[1;32m   1808\u001b[0m     \u001b[0;34m{\u001b[0m\u001b[0;34m{\u001b[0m\u001b[0mnp_implementation\u001b[0m\u001b[0;34m}\u001b[0m\u001b[0;34m}\u001b[0m\u001b[0;34m\u001b[0m\u001b[0;34m\u001b[0m\u001b[0m\n\u001b[1;32m   1809\u001b[0m     \"\"\"\n\u001b[0;32m-> 1810\u001b[0;31m     \u001b[0;32mif\u001b[0m \u001b[0mx\u001b[0m\u001b[0;34m.\u001b[0m\u001b[0mdtype\u001b[0m\u001b[0;34m.\u001b[0m\u001b[0mbase_dtype\u001b[0m \u001b[0;34m==\u001b[0m \u001b[0mtf\u001b[0m\u001b[0;34m.\u001b[0m\u001b[0mbool\u001b[0m\u001b[0;34m:\u001b[0m\u001b[0;34m\u001b[0m\u001b[0;34m\u001b[0m\u001b[0m\n\u001b[0m\u001b[1;32m   1811\u001b[0m         \u001b[0mx\u001b[0m \u001b[0;34m=\u001b[0m \u001b[0mtf\u001b[0m\u001b[0;34m.\u001b[0m\u001b[0mcast\u001b[0m\u001b[0;34m(\u001b[0m\u001b[0mx\u001b[0m\u001b[0;34m,\u001b[0m \u001b[0mfloatx\u001b[0m\u001b[0;34m(\u001b[0m\u001b[0;34m)\u001b[0m\u001b[0;34m)\u001b[0m\u001b[0;34m\u001b[0m\u001b[0;34m\u001b[0m\u001b[0m\n\u001b[1;32m   1812\u001b[0m     \u001b[0;32mreturn\u001b[0m \u001b[0mtf\u001b[0m\u001b[0;34m.\u001b[0m\u001b[0mreduce_mean\u001b[0m\u001b[0;34m(\u001b[0m\u001b[0mx\u001b[0m\u001b[0;34m,\u001b[0m \u001b[0maxis\u001b[0m\u001b[0;34m,\u001b[0m \u001b[0mkeepdims\u001b[0m\u001b[0;34m)\u001b[0m\u001b[0;34m\u001b[0m\u001b[0;34m\u001b[0m\u001b[0m\n",
      "\u001b[0;31mAttributeError\u001b[0m: 'NoneType' object has no attribute 'dtype'"
     ]
    }
   ],
   "source": [
    "from keras import backend as K\n",
    "\n",
    "covid_output = model.output[:, 0]\n",
    "covid_output\n",
    "\n",
    "last_conv_layer = model.get_layer('vgg16')\n",
    "last_conv_layer = last_conv_layer.get_layer('block5_conv3')\n",
    "\n",
    "grads = K.gradients(covid_output, last_conv_layer.output)[0]\n",
    "\n",
    "pooled_grads = K.mean(grads, axis=(0, 1, 2))"
   ]
  },
  {
   "cell_type": "code",
   "execution_count": 55,
   "metadata": {},
   "outputs": [],
   "source": [
    "img_path_y = 'lung-segmentation/uniq/p5/segmented/144924.394315_I1680000.png'\n",
    "\n",
    "img_y = image.load_img(img_path_y, target_size=(150,150))\n",
    "\n",
    "y = img_to_array(img_y)\n",
    "\n",
    "y = np.expand_dims(y, axis=0)\n",
    "\n",
    "y = preprocess_input(y)"
   ]
  },
  {
   "cell_type": "code",
   "execution_count": 56,
   "metadata": {},
   "outputs": [],
   "source": [
    "preds_y = model.predict(y)"
   ]
  },
  {
   "cell_type": "code",
   "execution_count": 57,
   "metadata": {},
   "outputs": [
    {
     "data": {
      "text/plain": [
       "array([[1.]], dtype=float32)"
      ]
     },
     "execution_count": 57,
     "metadata": {},
     "output_type": "execute_result"
    }
   ],
   "source": [
    "preds_y"
   ]
  },
  {
   "cell_type": "code",
   "execution_count": null,
   "metadata": {},
   "outputs": [],
   "source": []
  }
 ],
 "metadata": {
  "kernelspec": {
   "display_name": "Python 3",
   "language": "python",
   "name": "python3"
  },
  "language_info": {
   "codemirror_mode": {
    "name": "ipython",
    "version": 3
   },
   "file_extension": ".py",
   "mimetype": "text/x-python",
   "name": "python",
   "nbconvert_exporter": "python",
   "pygments_lexer": "ipython3",
   "version": "3.8.3"
  }
 },
 "nbformat": 4,
 "nbformat_minor": 4
}
