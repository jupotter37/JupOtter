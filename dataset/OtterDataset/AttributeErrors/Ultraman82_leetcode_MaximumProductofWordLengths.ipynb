{
 "cells": [
  {
   "cell_type": "code",
   "execution_count": 24,
   "metadata": {},
   "outputs": [
    {
     "name": "stdout",
     "output_type": "stream",
     "text": [
      "eae fcf\n",
      "eae dc\n",
      "ea fcf\n",
      "ea dc\n",
      "aaf dc\n",
      "aaf ce\n",
      "bda fcf\n",
      "bda ce\n",
      "fcf dabae\n",
      "15\n"
     ]
    }
   ],
   "source": [
    "from typing import Optional, List\n",
    "class Solution:\n",
    "    def maxProduct(self, words: List[str]) -> int:\n",
    "        max = 0\n",
    "        for i in range(len(words)):            \n",
    "            for j in range(i + 1, len(words)):\n",
    "                a = words[i]\n",
    "                b = words[j]                \n",
    "                # if not (len(a) == len(set(a)) and len(b) == len(set(b))):                    \n",
    "                if not bool(set(a) & set(b)):\n",
    "                    print(a, b)\n",
    "                    len_mul = len(a) * len(b)\n",
    "                    if len_mul > max : max = len_mul\n",
    "        return max\n",
    "        \n",
    "words = [\"eae\",\"ea\",\"aaf\",\"bda\",\"fcf\",\"dc\",\"ac\",\"ce\",\"cefde\",\"dabae\"]\n",
    "ans = Solution()\n",
    "print(ans.maxProduct(words))\n"
   ]
  },
  {
   "cell_type": "code",
   "execution_count": 18,
   "metadata": {},
   "outputs": [
    {
     "ename": "AttributeError",
     "evalue": "'set' object has no attribute 'len'",
     "output_type": "error",
     "traceback": [
      "\u001b[0;31m---------------------------------------------------------------------------\u001b[0m",
      "\u001b[0;31mAttributeError\u001b[0m                            Traceback (most recent call last)",
      "\u001b[1;32m/home/edgar/leetcode/0530/MaximumProductofWordLengths.ipynb Cell 2'\u001b[0m in \u001b[0;36m<cell line: 1>\u001b[0;34m()\u001b[0m\n\u001b[0;32m----> <a href='vscode-notebook-cell://wsl%2Bubuntu-20.04/home/edgar/leetcode/0530/MaximumProductofWordLengths.ipynb#ch0000001vscode-remote?line=0'>1</a>\u001b[0m \u001b[39mset\u001b[39;49m(\u001b[39m\"\u001b[39;49m\u001b[39maaa\u001b[39;49m\u001b[39m\"\u001b[39;49m)\u001b[39m.\u001b[39;49mlen\n",
      "\u001b[0;31mAttributeError\u001b[0m: 'set' object has no attribute 'len'"
     ]
    }
   ],
   "source": [
    "class Solution(object):\n",
    "    def maxProduct(self, words):\n",
    "        d = {}\n",
    "        for w in words:\n",
    "            mask = 0\n",
    "            for c in set(w):\n",
    "                mask |= (1 << (ord(c) - 97))\n",
    "            d[mask] = max(d.get(mask, 0), len(w))\n",
    "        return max([d[x] * d[y] for x in d for y in d if not x & y] or [0])"
   ]
  },
  {
   "cell_type": "code",
   "execution_count": 19,
   "metadata": {},
   "outputs": [
    {
     "data": {
      "text/plain": [
       "1"
      ]
     },
     "execution_count": 19,
     "metadata": {},
     "output_type": "execute_result"
    }
   ],
   "source": [
    "len(set(\"aaa\"))"
   ]
  },
  {
   "cell_type": "code",
   "execution_count": null,
   "metadata": {},
   "outputs": [],
   "source": []
  }
 ],
 "metadata": {
  "interpreter": {
   "hash": "2690c4ade938f830d2b677a28d44942311eb5bf365c90b058b9292674ef26d09"
  },
  "kernelspec": {
   "display_name": "Python 3.8.13 ('base')",
   "language": "python",
   "name": "python3"
  },
  "language_info": {
   "codemirror_mode": {
    "name": "ipython",
    "version": 3
   },
   "file_extension": ".py",
   "mimetype": "text/x-python",
   "name": "python",
   "nbconvert_exporter": "python",
   "pygments_lexer": "ipython3",
   "version": "3.8.13"
  },
  "orig_nbformat": 4
 },
 "nbformat": 4,
 "nbformat_minor": 2
}
