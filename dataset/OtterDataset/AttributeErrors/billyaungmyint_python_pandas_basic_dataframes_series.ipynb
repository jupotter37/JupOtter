{
 "cells": [
  {
   "cell_type": "markdown",
   "id": "e96effdc-3d99-4604-af9a-388eef0587aa",
   "metadata": {},
   "source": [
    "# Python Basic Pandas Dataframes and Series"
   ]
  },
  {
   "cell_type": "markdown",
   "id": "778bb49b-76b9-4f8c-9548-efa357b6960b",
   "metadata": {},
   "source": [
    "### Series is 1D\n",
    "### Dataframes is 2D"
   ]
  },
  {
   "cell_type": "code",
   "execution_count": 1,
   "id": "ec03eccb-ca87-461a-bb7a-849a65af1fae",
   "metadata": {},
   "outputs": [],
   "source": [
    "import pandas as pd"
   ]
  },
  {
   "cell_type": "code",
   "execution_count": 3,
   "id": "63ff7ee0-44db-42c3-a770-31c4f49dca1f",
   "metadata": {},
   "outputs": [
    {
     "data": {
      "text/html": [
       "<div>\n",
       "<style scoped>\n",
       "    .dataframe tbody tr th:only-of-type {\n",
       "        vertical-align: middle;\n",
       "    }\n",
       "\n",
       "    .dataframe tbody tr th {\n",
       "        vertical-align: top;\n",
       "    }\n",
       "\n",
       "    .dataframe thead th {\n",
       "        text-align: right;\n",
       "    }\n",
       "</style>\n",
       "<table border=\"1\" class=\"dataframe\">\n",
       "  <thead>\n",
       "    <tr style=\"text-align: right;\">\n",
       "      <th></th>\n",
       "      <th>Date</th>\n",
       "      <th>Day</th>\n",
       "      <th>Time</th>\n",
       "      <th>Gender</th>\n",
       "      <th>BuyCategory</th>\n",
       "      <th>ItemsOrdered</th>\n",
       "      <th>TotalCost</th>\n",
       "      <th>HighItem</th>\n",
       "      <th>Member</th>\n",
       "      <th>Region</th>\n",
       "    </tr>\n",
       "  </thead>\n",
       "  <tbody>\n",
       "    <tr>\n",
       "      <th>0</th>\n",
       "      <td>6-Mar</td>\n",
       "      <td>Mon</td>\n",
       "      <td>Morning</td>\n",
       "      <td>Female</td>\n",
       "      <td>High</td>\n",
       "      <td>4</td>\n",
       "      <td>136.97</td>\n",
       "      <td>79.97</td>\n",
       "      <td>Yes</td>\n",
       "      <td>West</td>\n",
       "    </tr>\n",
       "    <tr>\n",
       "      <th>1</th>\n",
       "      <td>6-Mar</td>\n",
       "      <td>Mon</td>\n",
       "      <td>Morning</td>\n",
       "      <td>Female</td>\n",
       "      <td>Medium</td>\n",
       "      <td>1</td>\n",
       "      <td>25.55</td>\n",
       "      <td>25.55</td>\n",
       "      <td>No</td>\n",
       "      <td>West</td>\n",
       "    </tr>\n",
       "    <tr>\n",
       "      <th>2</th>\n",
       "      <td>6-Mar</td>\n",
       "      <td>Mon</td>\n",
       "      <td>Afternoon</td>\n",
       "      <td>Female</td>\n",
       "      <td>Medium</td>\n",
       "      <td>5</td>\n",
       "      <td>113.95</td>\n",
       "      <td>90.47</td>\n",
       "      <td>Yes</td>\n",
       "      <td>West</td>\n",
       "    </tr>\n",
       "    <tr>\n",
       "      <th>3</th>\n",
       "      <td>6-Mar</td>\n",
       "      <td>Mon</td>\n",
       "      <td>Afternoon</td>\n",
       "      <td>Female</td>\n",
       "      <td>Low</td>\n",
       "      <td>1</td>\n",
       "      <td>6.82</td>\n",
       "      <td>6.82</td>\n",
       "      <td>No</td>\n",
       "      <td>East</td>\n",
       "    </tr>\n",
       "    <tr>\n",
       "      <th>4</th>\n",
       "      <td>6-Mar</td>\n",
       "      <td>Mon</td>\n",
       "      <td>Afternoon</td>\n",
       "      <td>Male</td>\n",
       "      <td>Medium</td>\n",
       "      <td>4</td>\n",
       "      <td>147.32</td>\n",
       "      <td>83.21</td>\n",
       "      <td>Yes</td>\n",
       "      <td>West</td>\n",
       "    </tr>\n",
       "    <tr>\n",
       "      <th>...</th>\n",
       "      <td>...</td>\n",
       "      <td>...</td>\n",
       "      <td>...</td>\n",
       "      <td>...</td>\n",
       "      <td>...</td>\n",
       "      <td>...</td>\n",
       "      <td>...</td>\n",
       "      <td>...</td>\n",
       "      <td>...</td>\n",
       "      <td>...</td>\n",
       "    </tr>\n",
       "    <tr>\n",
       "      <th>395</th>\n",
       "      <td>25-Jun</td>\n",
       "      <td>Sat</td>\n",
       "      <td>Afternoon</td>\n",
       "      <td>Male</td>\n",
       "      <td>Medium</td>\n",
       "      <td>6</td>\n",
       "      <td>268.39</td>\n",
       "      <td>170.13</td>\n",
       "      <td>No</td>\n",
       "      <td>East</td>\n",
       "    </tr>\n",
       "    <tr>\n",
       "      <th>396</th>\n",
       "      <td>25-Jun</td>\n",
       "      <td>Sat</td>\n",
       "      <td>Afternoon</td>\n",
       "      <td>Female</td>\n",
       "      <td>Medium</td>\n",
       "      <td>3</td>\n",
       "      <td>169.11</td>\n",
       "      <td>80.08</td>\n",
       "      <td>No</td>\n",
       "      <td>East</td>\n",
       "    </tr>\n",
       "    <tr>\n",
       "      <th>397</th>\n",
       "      <td>25-Jun</td>\n",
       "      <td>Sat</td>\n",
       "      <td>Afternoon</td>\n",
       "      <td>Male</td>\n",
       "      <td>Medium</td>\n",
       "      <td>6</td>\n",
       "      <td>242.46</td>\n",
       "      <td>180.66</td>\n",
       "      <td>No</td>\n",
       "      <td>West</td>\n",
       "    </tr>\n",
       "    <tr>\n",
       "      <th>398</th>\n",
       "      <td>25-Jun</td>\n",
       "      <td>Sat</td>\n",
       "      <td>Afternoon</td>\n",
       "      <td>Male</td>\n",
       "      <td>Medium</td>\n",
       "      <td>4</td>\n",
       "      <td>168.64</td>\n",
       "      <td>85.79</td>\n",
       "      <td>No</td>\n",
       "      <td>East</td>\n",
       "    </tr>\n",
       "    <tr>\n",
       "      <th>399</th>\n",
       "      <td>25-Jun</td>\n",
       "      <td>Sat</td>\n",
       "      <td>Afternoon</td>\n",
       "      <td>Female</td>\n",
       "      <td>Low</td>\n",
       "      <td>1</td>\n",
       "      <td>107.59</td>\n",
       "      <td>107.59</td>\n",
       "      <td>No</td>\n",
       "      <td>East</td>\n",
       "    </tr>\n",
       "  </tbody>\n",
       "</table>\n",
       "<p>400 rows × 10 columns</p>\n",
       "</div>"
      ],
      "text/plain": [
       "       Date  Day       Time  Gender BuyCategory  ItemsOrdered  TotalCost  \\\n",
       "0     6-Mar  Mon    Morning  Female        High             4     136.97   \n",
       "1     6-Mar  Mon    Morning  Female      Medium             1      25.55   \n",
       "2     6-Mar  Mon  Afternoon  Female      Medium             5     113.95   \n",
       "3     6-Mar  Mon  Afternoon  Female         Low             1       6.82   \n",
       "4     6-Mar  Mon  Afternoon    Male      Medium             4     147.32   \n",
       "..      ...  ...        ...     ...         ...           ...        ...   \n",
       "395  25-Jun  Sat  Afternoon    Male      Medium             6     268.39   \n",
       "396  25-Jun  Sat  Afternoon  Female      Medium             3     169.11   \n",
       "397  25-Jun  Sat  Afternoon    Male      Medium             6     242.46   \n",
       "398  25-Jun  Sat  Afternoon    Male      Medium             4     168.64   \n",
       "399  25-Jun  Sat  Afternoon  Female         Low             1     107.59   \n",
       "\n",
       "     HighItem Member Region  \n",
       "0       79.97    Yes   West  \n",
       "1       25.55     No   West  \n",
       "2       90.47    Yes   West  \n",
       "3        6.82     No   East  \n",
       "4       83.21    Yes   West  \n",
       "..        ...    ...    ...  \n",
       "395    170.13     No   East  \n",
       "396     80.08     No   East  \n",
       "397    180.66     No   West  \n",
       "398     85.79     No   East  \n",
       "399    107.59     No   East  \n",
       "\n",
       "[400 rows x 10 columns]"
      ]
     },
     "execution_count": 3,
     "metadata": {},
     "output_type": "execute_result"
    }
   ],
   "source": [
    "df = pd.read_csv('../NUS/ChallengerSales.csv')\n",
    "df"
   ]
  },
  {
   "cell_type": "code",
   "execution_count": 4,
   "id": "ae82ac30-ca3a-47f4-80b0-604e7cfc55f4",
   "metadata": {},
   "outputs": [
    {
     "data": {
      "text/html": [
       "<div>\n",
       "<style scoped>\n",
       "    .dataframe tbody tr th:only-of-type {\n",
       "        vertical-align: middle;\n",
       "    }\n",
       "\n",
       "    .dataframe tbody tr th {\n",
       "        vertical-align: top;\n",
       "    }\n",
       "\n",
       "    .dataframe thead th {\n",
       "        text-align: right;\n",
       "    }\n",
       "</style>\n",
       "<table border=\"1\" class=\"dataframe\">\n",
       "  <thead>\n",
       "    <tr style=\"text-align: right;\">\n",
       "      <th></th>\n",
       "      <th>Date</th>\n",
       "      <th>Day</th>\n",
       "      <th>Time</th>\n",
       "      <th>Gender</th>\n",
       "      <th>BuyCategory</th>\n",
       "      <th>ItemsOrdered</th>\n",
       "      <th>TotalCost</th>\n",
       "      <th>HighItem</th>\n",
       "      <th>Member</th>\n",
       "      <th>Region</th>\n",
       "    </tr>\n",
       "  </thead>\n",
       "  <tbody>\n",
       "    <tr>\n",
       "      <th>0</th>\n",
       "      <td>6-Mar</td>\n",
       "      <td>Mon</td>\n",
       "      <td>Morning</td>\n",
       "      <td>Female</td>\n",
       "      <td>High</td>\n",
       "      <td>4</td>\n",
       "      <td>136.97</td>\n",
       "      <td>79.97</td>\n",
       "      <td>Yes</td>\n",
       "      <td>West</td>\n",
       "    </tr>\n",
       "    <tr>\n",
       "      <th>1</th>\n",
       "      <td>6-Mar</td>\n",
       "      <td>Mon</td>\n",
       "      <td>Morning</td>\n",
       "      <td>Female</td>\n",
       "      <td>Medium</td>\n",
       "      <td>1</td>\n",
       "      <td>25.55</td>\n",
       "      <td>25.55</td>\n",
       "      <td>No</td>\n",
       "      <td>West</td>\n",
       "    </tr>\n",
       "    <tr>\n",
       "      <th>2</th>\n",
       "      <td>6-Mar</td>\n",
       "      <td>Mon</td>\n",
       "      <td>Afternoon</td>\n",
       "      <td>Female</td>\n",
       "      <td>Medium</td>\n",
       "      <td>5</td>\n",
       "      <td>113.95</td>\n",
       "      <td>90.47</td>\n",
       "      <td>Yes</td>\n",
       "      <td>West</td>\n",
       "    </tr>\n",
       "    <tr>\n",
       "      <th>3</th>\n",
       "      <td>6-Mar</td>\n",
       "      <td>Mon</td>\n",
       "      <td>Afternoon</td>\n",
       "      <td>Female</td>\n",
       "      <td>Low</td>\n",
       "      <td>1</td>\n",
       "      <td>6.82</td>\n",
       "      <td>6.82</td>\n",
       "      <td>No</td>\n",
       "      <td>East</td>\n",
       "    </tr>\n",
       "    <tr>\n",
       "      <th>4</th>\n",
       "      <td>6-Mar</td>\n",
       "      <td>Mon</td>\n",
       "      <td>Afternoon</td>\n",
       "      <td>Male</td>\n",
       "      <td>Medium</td>\n",
       "      <td>4</td>\n",
       "      <td>147.32</td>\n",
       "      <td>83.21</td>\n",
       "      <td>Yes</td>\n",
       "      <td>West</td>\n",
       "    </tr>\n",
       "  </tbody>\n",
       "</table>\n",
       "</div>"
      ],
      "text/plain": [
       "    Date  Day       Time  Gender BuyCategory  ItemsOrdered  TotalCost  \\\n",
       "0  6-Mar  Mon    Morning  Female        High             4     136.97   \n",
       "1  6-Mar  Mon    Morning  Female      Medium             1      25.55   \n",
       "2  6-Mar  Mon  Afternoon  Female      Medium             5     113.95   \n",
       "3  6-Mar  Mon  Afternoon  Female         Low             1       6.82   \n",
       "4  6-Mar  Mon  Afternoon    Male      Medium             4     147.32   \n",
       "\n",
       "   HighItem Member Region  \n",
       "0     79.97    Yes   West  \n",
       "1     25.55     No   West  \n",
       "2     90.47    Yes   West  \n",
       "3      6.82     No   East  \n",
       "4     83.21    Yes   West  "
      ]
     },
     "execution_count": 4,
     "metadata": {},
     "output_type": "execute_result"
    }
   ],
   "source": [
    "df.head(5)"
   ]
  },
  {
   "cell_type": "code",
   "execution_count": 5,
   "id": "43800004-3561-4893-8619-2b8392d2ff2d",
   "metadata": {},
   "outputs": [
    {
     "data": {
      "text/html": [
       "<div>\n",
       "<style scoped>\n",
       "    .dataframe tbody tr th:only-of-type {\n",
       "        vertical-align: middle;\n",
       "    }\n",
       "\n",
       "    .dataframe tbody tr th {\n",
       "        vertical-align: top;\n",
       "    }\n",
       "\n",
       "    .dataframe thead th {\n",
       "        text-align: right;\n",
       "    }\n",
       "</style>\n",
       "<table border=\"1\" class=\"dataframe\">\n",
       "  <thead>\n",
       "    <tr style=\"text-align: right;\">\n",
       "      <th></th>\n",
       "      <th>Date</th>\n",
       "      <th>Day</th>\n",
       "      <th>Time</th>\n",
       "      <th>Gender</th>\n",
       "      <th>BuyCategory</th>\n",
       "      <th>ItemsOrdered</th>\n",
       "      <th>TotalCost</th>\n",
       "      <th>HighItem</th>\n",
       "      <th>Member</th>\n",
       "      <th>Region</th>\n",
       "    </tr>\n",
       "  </thead>\n",
       "  <tbody>\n",
       "    <tr>\n",
       "      <th>395</th>\n",
       "      <td>25-Jun</td>\n",
       "      <td>Sat</td>\n",
       "      <td>Afternoon</td>\n",
       "      <td>Male</td>\n",
       "      <td>Medium</td>\n",
       "      <td>6</td>\n",
       "      <td>268.39</td>\n",
       "      <td>170.13</td>\n",
       "      <td>No</td>\n",
       "      <td>East</td>\n",
       "    </tr>\n",
       "    <tr>\n",
       "      <th>396</th>\n",
       "      <td>25-Jun</td>\n",
       "      <td>Sat</td>\n",
       "      <td>Afternoon</td>\n",
       "      <td>Female</td>\n",
       "      <td>Medium</td>\n",
       "      <td>3</td>\n",
       "      <td>169.11</td>\n",
       "      <td>80.08</td>\n",
       "      <td>No</td>\n",
       "      <td>East</td>\n",
       "    </tr>\n",
       "    <tr>\n",
       "      <th>397</th>\n",
       "      <td>25-Jun</td>\n",
       "      <td>Sat</td>\n",
       "      <td>Afternoon</td>\n",
       "      <td>Male</td>\n",
       "      <td>Medium</td>\n",
       "      <td>6</td>\n",
       "      <td>242.46</td>\n",
       "      <td>180.66</td>\n",
       "      <td>No</td>\n",
       "      <td>West</td>\n",
       "    </tr>\n",
       "    <tr>\n",
       "      <th>398</th>\n",
       "      <td>25-Jun</td>\n",
       "      <td>Sat</td>\n",
       "      <td>Afternoon</td>\n",
       "      <td>Male</td>\n",
       "      <td>Medium</td>\n",
       "      <td>4</td>\n",
       "      <td>168.64</td>\n",
       "      <td>85.79</td>\n",
       "      <td>No</td>\n",
       "      <td>East</td>\n",
       "    </tr>\n",
       "    <tr>\n",
       "      <th>399</th>\n",
       "      <td>25-Jun</td>\n",
       "      <td>Sat</td>\n",
       "      <td>Afternoon</td>\n",
       "      <td>Female</td>\n",
       "      <td>Low</td>\n",
       "      <td>1</td>\n",
       "      <td>107.59</td>\n",
       "      <td>107.59</td>\n",
       "      <td>No</td>\n",
       "      <td>East</td>\n",
       "    </tr>\n",
       "  </tbody>\n",
       "</table>\n",
       "</div>"
      ],
      "text/plain": [
       "       Date  Day       Time  Gender BuyCategory  ItemsOrdered  TotalCost  \\\n",
       "395  25-Jun  Sat  Afternoon    Male      Medium             6     268.39   \n",
       "396  25-Jun  Sat  Afternoon  Female      Medium             3     169.11   \n",
       "397  25-Jun  Sat  Afternoon    Male      Medium             6     242.46   \n",
       "398  25-Jun  Sat  Afternoon    Male      Medium             4     168.64   \n",
       "399  25-Jun  Sat  Afternoon  Female         Low             1     107.59   \n",
       "\n",
       "     HighItem Member Region  \n",
       "395    170.13     No   East  \n",
       "396     80.08     No   East  \n",
       "397    180.66     No   West  \n",
       "398     85.79     No   East  \n",
       "399    107.59     No   East  "
      ]
     },
     "execution_count": 5,
     "metadata": {},
     "output_type": "execute_result"
    }
   ],
   "source": [
    "df.tail(5)"
   ]
  },
  {
   "cell_type": "code",
   "execution_count": 16,
   "id": "c5a69adf-0fa1-4df8-bc3f-6c930f4b2bb6",
   "metadata": {},
   "outputs": [
    {
     "name": "stdout",
     "output_type": "stream",
     "text": [
      "Date            400\n",
      "Day             400\n",
      "Time            400\n",
      "Gender          400\n",
      "BuyCategory     400\n",
      "ItemsOrdered    400\n",
      "TotalCost       400\n",
      "HighItem        400\n",
      "Member          400\n",
      "Region          400\n",
      "dtype: int64\n",
      "\n",
      "4000\n",
      "\n",
      "(400, 10)\n"
     ]
    }
   ],
   "source": [
    "print(df.count())\n",
    "print()\n",
    "print(df.size)\n",
    "print()\n",
    "print(df.shape)"
   ]
  },
  {
   "cell_type": "code",
   "execution_count": 18,
   "id": "a7a24f5e-09fd-493c-a03a-55b3d72cd6c9",
   "metadata": {},
   "outputs": [
    {
     "name": "stdout",
     "output_type": "stream",
     "text": [
      "       ItemsOrdered   TotalCost    HighItem\n",
      "count    400.000000  400.000000  400.000000\n",
      "mean       3.467500  153.818025  100.442625\n",
      "std        2.022169   97.373038   67.051120\n",
      "min        1.000000    6.820000    6.820000\n",
      "25%        2.000000   83.322500   56.222500\n",
      "50%        3.000000  126.720000   83.395000\n",
      "75%        4.000000  205.245000  119.440000\n",
      "max       11.000000  485.010000  381.330000\n"
     ]
    }
   ],
   "source": [
    "print(df.describe()) "
   ]
  },
  {
   "cell_type": "code",
   "execution_count": 19,
   "id": "ee0ef3d2-d7ec-4af2-8901-4634a27d930e",
   "metadata": {},
   "outputs": [
    {
     "name": "stdout",
     "output_type": "stream",
     "text": [
      "<class 'pandas.core.frame.DataFrame'>\n",
      "RangeIndex: 400 entries, 0 to 399\n",
      "Data columns (total 10 columns):\n",
      " #   Column        Non-Null Count  Dtype  \n",
      "---  ------        --------------  -----  \n",
      " 0   Date          400 non-null    object \n",
      " 1   Day           400 non-null    object \n",
      " 2   Time          400 non-null    object \n",
      " 3   Gender        400 non-null    object \n",
      " 4   BuyCategory   400 non-null    object \n",
      " 5   ItemsOrdered  400 non-null    int64  \n",
      " 6   TotalCost     400 non-null    float64\n",
      " 7   HighItem      400 non-null    float64\n",
      " 8   Member        400 non-null    object \n",
      " 9   Region        400 non-null    object \n",
      "dtypes: float64(2), int64(1), object(7)\n",
      "memory usage: 31.4+ KB\n",
      "None\n"
     ]
    }
   ],
   "source": [
    "print(df.info()) "
   ]
  },
  {
   "cell_type": "code",
   "execution_count": 20,
   "id": "ce8d102c-0c0f-4da8-a1c1-c7d97e3ea611",
   "metadata": {},
   "outputs": [
    {
     "name": "stdout",
     "output_type": "stream",
     "text": [
      "Date             object\n",
      "Day              object\n",
      "Time             object\n",
      "Gender           object\n",
      "BuyCategory      object\n",
      "ItemsOrdered      int64\n",
      "TotalCost       float64\n",
      "HighItem        float64\n",
      "Member           object\n",
      "Region           object\n",
      "dtype: object\n"
     ]
    }
   ],
   "source": [
    "print(df.dtypes)"
   ]
  },
  {
   "cell_type": "code",
   "execution_count": 22,
   "id": "3927fbd3-67c6-44ed-a6d4-e30fcf64528b",
   "metadata": {},
   "outputs": [
    {
     "data": {
      "text/html": [
       "<div>\n",
       "<style scoped>\n",
       "    .dataframe tbody tr th:only-of-type {\n",
       "        vertical-align: middle;\n",
       "    }\n",
       "\n",
       "    .dataframe tbody tr th {\n",
       "        vertical-align: top;\n",
       "    }\n",
       "\n",
       "    .dataframe thead th {\n",
       "        text-align: right;\n",
       "    }\n",
       "</style>\n",
       "<table border=\"1\" class=\"dataframe\">\n",
       "  <thead>\n",
       "    <tr style=\"text-align: right;\">\n",
       "      <th></th>\n",
       "      <th>Date</th>\n",
       "      <th>Day</th>\n",
       "      <th>Time</th>\n",
       "      <th>Gender</th>\n",
       "      <th>BuyCategory</th>\n",
       "      <th>ItemsOrdered</th>\n",
       "      <th>TotalCost</th>\n",
       "      <th>HighItem</th>\n",
       "      <th>Member</th>\n",
       "      <th>Region</th>\n",
       "    </tr>\n",
       "  </thead>\n",
       "  <tbody>\n",
       "    <tr>\n",
       "      <th>0</th>\n",
       "      <td>6-Mar</td>\n",
       "      <td>Mon</td>\n",
       "      <td>Morning</td>\n",
       "      <td>Female</td>\n",
       "      <td>High</td>\n",
       "      <td>4</td>\n",
       "      <td>136.97</td>\n",
       "      <td>79.97</td>\n",
       "      <td>Yes</td>\n",
       "      <td>West</td>\n",
       "    </tr>\n",
       "    <tr>\n",
       "      <th>1</th>\n",
       "      <td>6-Mar</td>\n",
       "      <td>Mon</td>\n",
       "      <td>Morning</td>\n",
       "      <td>Female</td>\n",
       "      <td>Medium</td>\n",
       "      <td>1</td>\n",
       "      <td>25.55</td>\n",
       "      <td>25.55</td>\n",
       "      <td>No</td>\n",
       "      <td>West</td>\n",
       "    </tr>\n",
       "    <tr>\n",
       "      <th>2</th>\n",
       "      <td>6-Mar</td>\n",
       "      <td>Mon</td>\n",
       "      <td>Afternoon</td>\n",
       "      <td>Female</td>\n",
       "      <td>Medium</td>\n",
       "      <td>5</td>\n",
       "      <td>113.95</td>\n",
       "      <td>90.47</td>\n",
       "      <td>Yes</td>\n",
       "      <td>West</td>\n",
       "    </tr>\n",
       "    <tr>\n",
       "      <th>3</th>\n",
       "      <td>6-Mar</td>\n",
       "      <td>Mon</td>\n",
       "      <td>Afternoon</td>\n",
       "      <td>Female</td>\n",
       "      <td>Low</td>\n",
       "      <td>1</td>\n",
       "      <td>6.82</td>\n",
       "      <td>6.82</td>\n",
       "      <td>No</td>\n",
       "      <td>East</td>\n",
       "    </tr>\n",
       "    <tr>\n",
       "      <th>4</th>\n",
       "      <td>6-Mar</td>\n",
       "      <td>Mon</td>\n",
       "      <td>Afternoon</td>\n",
       "      <td>Male</td>\n",
       "      <td>Medium</td>\n",
       "      <td>4</td>\n",
       "      <td>147.32</td>\n",
       "      <td>83.21</td>\n",
       "      <td>Yes</td>\n",
       "      <td>West</td>\n",
       "    </tr>\n",
       "  </tbody>\n",
       "</table>\n",
       "</div>"
      ],
      "text/plain": [
       "    Date  Day       Time  Gender BuyCategory  ItemsOrdered  TotalCost  \\\n",
       "0  6-Mar  Mon    Morning  Female        High             4     136.97   \n",
       "1  6-Mar  Mon    Morning  Female      Medium             1      25.55   \n",
       "2  6-Mar  Mon  Afternoon  Female      Medium             5     113.95   \n",
       "3  6-Mar  Mon  Afternoon  Female         Low             1       6.82   \n",
       "4  6-Mar  Mon  Afternoon    Male      Medium             4     147.32   \n",
       "\n",
       "   HighItem Member Region  \n",
       "0     79.97    Yes   West  \n",
       "1     25.55     No   West  \n",
       "2     90.47    Yes   West  \n",
       "3      6.82     No   East  \n",
       "4     83.21    Yes   West  "
      ]
     },
     "execution_count": 22,
     "metadata": {},
     "output_type": "execute_result"
    }
   ],
   "source": [
    "df.head(5)"
   ]
  },
  {
   "cell_type": "code",
   "execution_count": 30,
   "id": "6729d7a9-cb06-40ac-828a-25eb68eff563",
   "metadata": {},
   "outputs": [
    {
     "data": {
      "text/plain": [
       "Date              9-May\n",
       "Day                 Wed\n",
       "Time            Morning\n",
       "Gender             Male\n",
       "BuyCategory      Medium\n",
       "ItemsOrdered         11\n",
       "TotalCost        485.01\n",
       "HighItem         381.33\n",
       "Member              Yes\n",
       "Region             West\n",
       "dtype: object"
      ]
     },
     "execution_count": 30,
     "metadata": {},
     "output_type": "execute_result"
    }
   ],
   "source": [
    "df.max()"
   ]
  },
  {
   "cell_type": "code",
   "execution_count": 31,
   "id": "8d888a0e-174d-4a43-9211-ca4b40fa2615",
   "metadata": {},
   "outputs": [
    {
     "data": {
      "text/plain": [
       "RangeIndex(start=0, stop=400, step=1)"
      ]
     },
     "execution_count": 31,
     "metadata": {},
     "output_type": "execute_result"
    }
   ],
   "source": [
    "df.index"
   ]
  },
  {
   "cell_type": "code",
   "execution_count": 32,
   "id": "27cfe6d1-823e-4926-87d4-f29478e833f1",
   "metadata": {},
   "outputs": [
    {
     "data": {
      "text/plain": [
       "Index(['Date', 'Day', 'Time', 'Gender', 'BuyCategory', 'ItemsOrdered',\n",
       "       'TotalCost', 'HighItem', 'Member', 'Region'],\n",
       "      dtype='object')"
      ]
     },
     "execution_count": 32,
     "metadata": {},
     "output_type": "execute_result"
    }
   ],
   "source": [
    "df.columns"
   ]
  },
  {
   "cell_type": "code",
   "execution_count": 33,
   "id": "3b6da42f-a7b0-4f59-b880-4bf985147da6",
   "metadata": {},
   "outputs": [
    {
     "data": {
      "text/plain": [
       "array([['6-Mar', 'Mon', 'Morning', ..., 79.97, 'Yes', 'West'],\n",
       "       ['6-Mar', 'Mon', 'Morning', ..., 25.55, 'No', 'West'],\n",
       "       ['6-Mar', 'Mon', 'Afternoon', ..., 90.47, 'Yes', 'West'],\n",
       "       ...,\n",
       "       ['25-Jun', 'Sat', 'Afternoon', ..., 180.66, 'No', 'West'],\n",
       "       ['25-Jun', 'Sat', 'Afternoon', ..., 85.79, 'No', 'East'],\n",
       "       ['25-Jun', 'Sat', 'Afternoon', ..., 107.59, 'No', 'East']],\n",
       "      dtype=object)"
      ]
     },
     "execution_count": 33,
     "metadata": {},
     "output_type": "execute_result"
    }
   ],
   "source": [
    "df.values"
   ]
  },
  {
   "cell_type": "code",
   "execution_count": 34,
   "id": "ce6c9c2a-e4b1-488d-bc8a-c4335e8bd02f",
   "metadata": {},
   "outputs": [
    {
     "data": {
      "text/plain": [
       "Date             object\n",
       "Day              object\n",
       "Time             object\n",
       "Gender           object\n",
       "BuyCategory      object\n",
       "ItemsOrdered      int64\n",
       "TotalCost       float64\n",
       "HighItem        float64\n",
       "Member           object\n",
       "Region           object\n",
       "dtype: object"
      ]
     },
     "execution_count": 34,
     "metadata": {},
     "output_type": "execute_result"
    }
   ],
   "source": [
    "df.dtypes"
   ]
  },
  {
   "cell_type": "code",
   "execution_count": 35,
   "id": "c233395c-75ac-49d1-bc20-71ec992209ae",
   "metadata": {},
   "outputs": [
    {
     "data": {
      "text/plain": [
       "(400, 10)"
      ]
     },
     "execution_count": 35,
     "metadata": {},
     "output_type": "execute_result"
    }
   ],
   "source": [
    "df.shape # 400 rows , 10 columns"
   ]
  },
  {
   "cell_type": "code",
   "execution_count": 42,
   "id": "a32257a2-a622-49d4-a872-1fd0328d6a57",
   "metadata": {},
   "outputs": [
    {
     "data": {
      "text/html": [
       "<div>\n",
       "<style scoped>\n",
       "    .dataframe tbody tr th:only-of-type {\n",
       "        vertical-align: middle;\n",
       "    }\n",
       "\n",
       "    .dataframe tbody tr th {\n",
       "        vertical-align: top;\n",
       "    }\n",
       "\n",
       "    .dataframe thead th {\n",
       "        text-align: right;\n",
       "    }\n",
       "</style>\n",
       "<table border=\"1\" class=\"dataframe\">\n",
       "  <thead>\n",
       "    <tr style=\"text-align: right;\">\n",
       "      <th></th>\n",
       "      <th>Date</th>\n",
       "      <th>Day</th>\n",
       "      <th>Time</th>\n",
       "      <th>Gender</th>\n",
       "      <th>BuyCategory</th>\n",
       "      <th>ItemsOrdered</th>\n",
       "      <th>TotalCost</th>\n",
       "      <th>HighItem</th>\n",
       "      <th>Member</th>\n",
       "      <th>Region</th>\n",
       "    </tr>\n",
       "  </thead>\n",
       "  <tbody>\n",
       "    <tr>\n",
       "      <th>0</th>\n",
       "      <td>6-Mar</td>\n",
       "      <td>Mon</td>\n",
       "      <td>Morning</td>\n",
       "      <td>Female</td>\n",
       "      <td>High</td>\n",
       "      <td>4</td>\n",
       "      <td>136.97</td>\n",
       "      <td>79.97</td>\n",
       "      <td>Yes</td>\n",
       "      <td>West</td>\n",
       "    </tr>\n",
       "    <tr>\n",
       "      <th>2</th>\n",
       "      <td>6-Mar</td>\n",
       "      <td>Mon</td>\n",
       "      <td>Afternoon</td>\n",
       "      <td>Female</td>\n",
       "      <td>Medium</td>\n",
       "      <td>5</td>\n",
       "      <td>113.95</td>\n",
       "      <td>90.47</td>\n",
       "      <td>Yes</td>\n",
       "      <td>West</td>\n",
       "    </tr>\n",
       "    <tr>\n",
       "      <th>4</th>\n",
       "      <td>6-Mar</td>\n",
       "      <td>Mon</td>\n",
       "      <td>Afternoon</td>\n",
       "      <td>Male</td>\n",
       "      <td>Medium</td>\n",
       "      <td>4</td>\n",
       "      <td>147.32</td>\n",
       "      <td>83.21</td>\n",
       "      <td>Yes</td>\n",
       "      <td>West</td>\n",
       "    </tr>\n",
       "    <tr>\n",
       "      <th>5</th>\n",
       "      <td>6-Mar</td>\n",
       "      <td>Mon</td>\n",
       "      <td>Afternoon</td>\n",
       "      <td>Female</td>\n",
       "      <td>Medium</td>\n",
       "      <td>5</td>\n",
       "      <td>142.15</td>\n",
       "      <td>50.90</td>\n",
       "      <td>No</td>\n",
       "      <td>East</td>\n",
       "    </tr>\n",
       "    <tr>\n",
       "      <th>7</th>\n",
       "      <td>7-Mar</td>\n",
       "      <td>Tues</td>\n",
       "      <td>Evening</td>\n",
       "      <td>Male</td>\n",
       "      <td>High</td>\n",
       "      <td>4</td>\n",
       "      <td>178.34</td>\n",
       "      <td>161.93</td>\n",
       "      <td>No</td>\n",
       "      <td>South</td>\n",
       "    </tr>\n",
       "  </tbody>\n",
       "</table>\n",
       "</div>"
      ],
      "text/plain": [
       "    Date   Day       Time  Gender BuyCategory  ItemsOrdered  TotalCost  \\\n",
       "0  6-Mar   Mon    Morning  Female        High             4     136.97   \n",
       "2  6-Mar   Mon  Afternoon  Female      Medium             5     113.95   \n",
       "4  6-Mar   Mon  Afternoon    Male      Medium             4     147.32   \n",
       "5  6-Mar   Mon  Afternoon  Female      Medium             5     142.15   \n",
       "7  7-Mar  Tues    Evening    Male        High             4     178.34   \n",
       "\n",
       "   HighItem Member Region  \n",
       "0     79.97    Yes   West  \n",
       "2     90.47    Yes   West  \n",
       "4     83.21    Yes   West  \n",
       "5     50.90     No   East  \n",
       "7    161.93     No  South  "
      ]
     },
     "execution_count": 42,
     "metadata": {},
     "output_type": "execute_result"
    }
   ],
   "source": [
    "df[df['TotalCost'] > 100].head(5)"
   ]
  },
  {
   "cell_type": "code",
   "execution_count": 43,
   "id": "3720bacf-1eab-49f5-bbac-f6d47491dce2",
   "metadata": {},
   "outputs": [
    {
     "data": {
      "text/html": [
       "<div>\n",
       "<style scoped>\n",
       "    .dataframe tbody tr th:only-of-type {\n",
       "        vertical-align: middle;\n",
       "    }\n",
       "\n",
       "    .dataframe tbody tr th {\n",
       "        vertical-align: top;\n",
       "    }\n",
       "\n",
       "    .dataframe thead th {\n",
       "        text-align: right;\n",
       "    }\n",
       "</style>\n",
       "<table border=\"1\" class=\"dataframe\">\n",
       "  <thead>\n",
       "    <tr style=\"text-align: right;\">\n",
       "      <th></th>\n",
       "      <th>Date</th>\n",
       "      <th>Day</th>\n",
       "      <th>Time</th>\n",
       "      <th>Gender</th>\n",
       "      <th>BuyCategory</th>\n",
       "      <th>ItemsOrdered</th>\n",
       "      <th>TotalCost</th>\n",
       "      <th>HighItem</th>\n",
       "      <th>Member</th>\n",
       "      <th>Region</th>\n",
       "    </tr>\n",
       "  </thead>\n",
       "  <tbody>\n",
       "    <tr>\n",
       "      <th>395</th>\n",
       "      <td>25-Jun</td>\n",
       "      <td>Sat</td>\n",
       "      <td>Afternoon</td>\n",
       "      <td>Male</td>\n",
       "      <td>Medium</td>\n",
       "      <td>6</td>\n",
       "      <td>268.39</td>\n",
       "      <td>170.13</td>\n",
       "      <td>No</td>\n",
       "      <td>East</td>\n",
       "    </tr>\n",
       "    <tr>\n",
       "      <th>396</th>\n",
       "      <td>25-Jun</td>\n",
       "      <td>Sat</td>\n",
       "      <td>Afternoon</td>\n",
       "      <td>Female</td>\n",
       "      <td>Medium</td>\n",
       "      <td>3</td>\n",
       "      <td>169.11</td>\n",
       "      <td>80.08</td>\n",
       "      <td>No</td>\n",
       "      <td>East</td>\n",
       "    </tr>\n",
       "    <tr>\n",
       "      <th>397</th>\n",
       "      <td>25-Jun</td>\n",
       "      <td>Sat</td>\n",
       "      <td>Afternoon</td>\n",
       "      <td>Male</td>\n",
       "      <td>Medium</td>\n",
       "      <td>6</td>\n",
       "      <td>242.46</td>\n",
       "      <td>180.66</td>\n",
       "      <td>No</td>\n",
       "      <td>West</td>\n",
       "    </tr>\n",
       "    <tr>\n",
       "      <th>398</th>\n",
       "      <td>25-Jun</td>\n",
       "      <td>Sat</td>\n",
       "      <td>Afternoon</td>\n",
       "      <td>Male</td>\n",
       "      <td>Medium</td>\n",
       "      <td>4</td>\n",
       "      <td>168.64</td>\n",
       "      <td>85.79</td>\n",
       "      <td>No</td>\n",
       "      <td>East</td>\n",
       "    </tr>\n",
       "    <tr>\n",
       "      <th>399</th>\n",
       "      <td>25-Jun</td>\n",
       "      <td>Sat</td>\n",
       "      <td>Afternoon</td>\n",
       "      <td>Female</td>\n",
       "      <td>Low</td>\n",
       "      <td>1</td>\n",
       "      <td>107.59</td>\n",
       "      <td>107.59</td>\n",
       "      <td>No</td>\n",
       "      <td>East</td>\n",
       "    </tr>\n",
       "  </tbody>\n",
       "</table>\n",
       "</div>"
      ],
      "text/plain": [
       "       Date  Day       Time  Gender BuyCategory  ItemsOrdered  TotalCost  \\\n",
       "395  25-Jun  Sat  Afternoon    Male      Medium             6     268.39   \n",
       "396  25-Jun  Sat  Afternoon  Female      Medium             3     169.11   \n",
       "397  25-Jun  Sat  Afternoon    Male      Medium             6     242.46   \n",
       "398  25-Jun  Sat  Afternoon    Male      Medium             4     168.64   \n",
       "399  25-Jun  Sat  Afternoon  Female         Low             1     107.59   \n",
       "\n",
       "     HighItem Member Region  \n",
       "395    170.13     No   East  \n",
       "396     80.08     No   East  \n",
       "397    180.66     No   West  \n",
       "398     85.79     No   East  \n",
       "399    107.59     No   East  "
      ]
     },
     "execution_count": 43,
     "metadata": {},
     "output_type": "execute_result"
    }
   ],
   "source": [
    "df.tail()"
   ]
  },
  {
   "cell_type": "code",
   "execution_count": 44,
   "id": "357b0719-fbac-4527-94f3-99f1cc7912eb",
   "metadata": {},
   "outputs": [
    {
     "data": {
      "text/plain": [
       "Index(['Date', 'Day', 'Time', 'Gender', 'BuyCategory', 'ItemsOrdered',\n",
       "       'TotalCost', 'HighItem', 'Member', 'Region'],\n",
       "      dtype='object')"
      ]
     },
     "execution_count": 44,
     "metadata": {},
     "output_type": "execute_result"
    }
   ],
   "source": [
    "df.columns"
   ]
  },
  {
   "cell_type": "code",
   "execution_count": 46,
   "id": "64e523ca-0a3f-4953-9e27-7536650d5933",
   "metadata": {},
   "outputs": [
    {
     "data": {
      "text/plain": [
       "pandas.core.frame.DataFrame"
      ]
     },
     "execution_count": 46,
     "metadata": {},
     "output_type": "execute_result"
    }
   ],
   "source": [
    "type(df)"
   ]
  },
  {
   "cell_type": "markdown",
   "id": "f4062b46-6fb7-4a1b-ae17-f3de77d82623",
   "metadata": {},
   "source": [
    "### Series"
   ]
  },
  {
   "cell_type": "code",
   "execution_count": 48,
   "id": "b7b5459c-4f1d-4120-b5fb-84d79ada420c",
   "metadata": {},
   "outputs": [],
   "source": [
    "total_cost = df['TotalCost']"
   ]
  },
  {
   "cell_type": "code",
   "execution_count": 49,
   "id": "13e46ebe-6e41-4a78-836e-0f640aab6670",
   "metadata": {},
   "outputs": [
    {
     "data": {
      "text/plain": [
       "0    136.97\n",
       "1     25.55\n",
       "2    113.95\n",
       "3      6.82\n",
       "4    147.32\n",
       "Name: TotalCost, dtype: float64"
      ]
     },
     "execution_count": 49,
     "metadata": {},
     "output_type": "execute_result"
    }
   ],
   "source": [
    "total_cost.head(5)"
   ]
  },
  {
   "cell_type": "code",
   "execution_count": 50,
   "id": "2d1cdc64-6f3b-4792-b962-d94e64feeb80",
   "metadata": {},
   "outputs": [
    {
     "data": {
      "text/plain": [
       "pandas.core.series.Series"
      ]
     },
     "execution_count": 50,
     "metadata": {},
     "output_type": "execute_result"
    }
   ],
   "source": [
    "type(total_cost)"
   ]
  },
  {
   "cell_type": "code",
   "execution_count": 51,
   "id": "ac01b6b5-3756-4ecd-8d79-1dd7d58c8c0d",
   "metadata": {},
   "outputs": [
    {
     "ename": "AttributeError",
     "evalue": "'Series' object has no attribute 'columns'",
     "output_type": "error",
     "traceback": [
      "\u001b[0;31m---------------------------------------------------------------------------\u001b[0m",
      "\u001b[0;31mAttributeError\u001b[0m                            Traceback (most recent call last)",
      "Input \u001b[0;32mIn [51]\u001b[0m, in \u001b[0;36m<module>\u001b[0;34m\u001b[0m\n\u001b[0;32m----> 1\u001b[0m \u001b[43mtotal_cost\u001b[49m\u001b[38;5;241;43m.\u001b[39;49m\u001b[43mcolumns\u001b[49m\n",
      "File \u001b[0;32m/opt/conda/envs/jupyterhub/lib/python3.9/site-packages/pandas/core/generic.py:5583\u001b[0m, in \u001b[0;36mNDFrame.__getattr__\u001b[0;34m(self, name)\u001b[0m\n\u001b[1;32m   5576\u001b[0m \u001b[38;5;28;01mif\u001b[39;00m (\n\u001b[1;32m   5577\u001b[0m     name \u001b[38;5;129;01mnot\u001b[39;00m \u001b[38;5;129;01min\u001b[39;00m \u001b[38;5;28mself\u001b[39m\u001b[38;5;241m.\u001b[39m_internal_names_set\n\u001b[1;32m   5578\u001b[0m     \u001b[38;5;129;01mand\u001b[39;00m name \u001b[38;5;129;01mnot\u001b[39;00m \u001b[38;5;129;01min\u001b[39;00m \u001b[38;5;28mself\u001b[39m\u001b[38;5;241m.\u001b[39m_metadata\n\u001b[1;32m   5579\u001b[0m     \u001b[38;5;129;01mand\u001b[39;00m name \u001b[38;5;129;01mnot\u001b[39;00m \u001b[38;5;129;01min\u001b[39;00m \u001b[38;5;28mself\u001b[39m\u001b[38;5;241m.\u001b[39m_accessors\n\u001b[1;32m   5580\u001b[0m     \u001b[38;5;129;01mand\u001b[39;00m \u001b[38;5;28mself\u001b[39m\u001b[38;5;241m.\u001b[39m_info_axis\u001b[38;5;241m.\u001b[39m_can_hold_identifiers_and_holds_name(name)\n\u001b[1;32m   5581\u001b[0m ):\n\u001b[1;32m   5582\u001b[0m     \u001b[38;5;28;01mreturn\u001b[39;00m \u001b[38;5;28mself\u001b[39m[name]\n\u001b[0;32m-> 5583\u001b[0m \u001b[38;5;28;01mreturn\u001b[39;00m \u001b[38;5;28;43mobject\u001b[39;49m\u001b[38;5;241;43m.\u001b[39;49m\u001b[38;5;21;43m__getattribute__\u001b[39;49m\u001b[43m(\u001b[49m\u001b[38;5;28;43mself\u001b[39;49m\u001b[43m,\u001b[49m\u001b[43m \u001b[49m\u001b[43mname\u001b[49m\u001b[43m)\u001b[49m\n",
      "\u001b[0;31mAttributeError\u001b[0m: 'Series' object has no attribute 'columns'"
     ]
    }
   ],
   "source": [
    "total_cost.columns #error here since no columns attribute with series , only dataframes"
   ]
  },
  {
   "cell_type": "code",
   "execution_count": 52,
   "id": "e089d0fe-112d-4fcc-ad71-1a8373d3e252",
   "metadata": {},
   "outputs": [
    {
     "data": {
      "text/plain": [
       "RangeIndex(start=0, stop=400, step=1)"
      ]
     },
     "execution_count": 52,
     "metadata": {},
     "output_type": "execute_result"
    }
   ],
   "source": [
    "total_cost.index"
   ]
  },
  {
   "cell_type": "code",
   "execution_count": 53,
   "id": "7eb1cde2-a0d2-4404-a2a7-90057339d70a",
   "metadata": {},
   "outputs": [
    {
     "data": {
      "text/plain": [
       "array([136.97,  25.55, 113.95,   6.82, 147.32, 142.15,  18.65, 178.34,\n",
       "        25.83,  18.13,  54.52,  61.93, 147.68,  27.24,  46.18, 107.44,\n",
       "        96.53,  77.44,  15.19,  45.52, 157.05,  51.95, 429.98,  33.37,\n",
       "        71.84, 139.51,  78.46, 125.13,  14.76,  83.38, 104.91, 101.37,\n",
       "        53.16,  40.63, 286.41,  59.39, 185.45,  35.08,  91.62, 155.5 ,\n",
       "        20.89, 186.29,  42.22,  42.19,  47.86, 139.76, 186.42,  54.08,\n",
       "        84.98,  27.13,  54.7 , 229.54, 124.21,  26.39, 106.97, 377.18,\n",
       "        24.31,  34.47, 106.19,  55.3 ,  82.98, 101.79,  99.28, 100.09,\n",
       "        88.91,  62.58,  28.87, 141.29,  66.54,  69.03,  65.51,  35.59,\n",
       "       320.18, 128.57, 248.42,  50.04, 145.48, 403.6 , 284.14,  81.14,\n",
       "        82.36,  32.65, 200.7 ,  99.13,  85.88, 183.52,  53.87,  44.08,\n",
       "        82.34, 151.29,  87.02,  54.96,  65.11,  76.69,  48.38,  76.64,\n",
       "        54.08, 130.  , 218.29,  38.1 , 100.02, 248.73,  25.8 ,  52.83,\n",
       "       131.89,  82.69,  70.03, 102.86, 174.13,  49.8 ,  29.97,  82.53,\n",
       "       142.76,  72.58,  55.39, 206.39, 245.67, 265.69, 124.46, 206.26,\n",
       "       306.23,  48.12, 113.95, 261.44,  59.9 ,  49.73,  65.06,  97.71,\n",
       "        49.84, 233.94, 370.26, 313.11, 141.77,  27.99,  81.34,  97.15,\n",
       "       352.49,  88.75, 107.95, 186.22, 159.23,  82.43,  99.42,  79.32,\n",
       "       160.01,  51.99, 267.67, 429.22,  46.2 , 240.02, 157.14, 140.4 ,\n",
       "       204.93,  88.18,  95.47, 224.73, 344.73, 185.32, 297.31, 223.32,\n",
       "       164.4 , 123.57, 236.97,  82.75, 307.75, 200.73, 242.06, 215.09,\n",
       "       162.9 , 214.31,  42.07,  69.05, 148.9 , 105.74, 138.32,  61.71,\n",
       "       120.11,  72.8 , 134.86,  89.75, 220.04, 168.39, 277.8 , 130.49,\n",
       "        94.39, 120.48, 304.95, 389.79, 161.08,  69.61,  59.99, 120.78,\n",
       "        82.3 ,  91.88,  87.1 ,  70.1 , 106.67,  34.31,  77.69,  85.31,\n",
       "        65.92,  89.98, 102.07, 199.83, 134.21, 188.41, 102.72,  85.63,\n",
       "       206.87, 141.22, 463.4 , 166.54, 260.62,  79.16, 320.4 ,  79.01,\n",
       "       126.22, 263.45, 135.86,  98.74, 101.05, 361.6 , 120.56,  52.68,\n",
       "        99.51,  85.29, 143.59, 197.13, 190.74, 111.44, 153.39,  65.4 ,\n",
       "       448.2 , 123.19, 210.28, 349.46, 290.63, 103.03, 112.54, 399.36,\n",
       "        68.18, 146.58, 309.5 , 177.96, 119.46, 119.66, 168.87, 192.39,\n",
       "       101.73,  74.94, 291.3 , 161.  , 116.01,  74.39, 226.25, 135.19,\n",
       "       126.16, 156.3 ,  73.42, 310.74, 296.26, 115.29, 212.94,  85.93,\n",
       "        80.02, 286.17, 190.27, 265.24, 353.93, 314.77, 169.23, 149.71,\n",
       "       105.35, 111.47, 441.16, 179.56,  83.15, 262.86,  82.51, 290.27,\n",
       "       223.08, 165.77,  99.81, 158.95, 280.99, 149.89, 363.52,  93.97,\n",
       "       391.97, 275.54, 115.55, 125.  , 103.15, 256.7 , 117.99,  98.55,\n",
       "       112.93,  76.3 , 129.8 , 140.25, 149.79, 172.2 , 139.85,  96.46,\n",
       "       127.83, 215.88, 133.49, 117.33, 107.98, 203.11, 193.33, 343.26,\n",
       "       485.01, 221.93,  94.04, 113.37, 188.26, 170.19, 224.15, 352.32,\n",
       "       257.18, 122.06, 239.95, 124.44, 116.58, 154.46,  76.92, 194.85,\n",
       "       367.7 , 119.5 , 270.94,  94.71, 154.01, 313.3 , 217.99, 127.22,\n",
       "       135.97,  87.14,  96.77,  74.74, 117.48, 132.89, 230.26, 451.03,\n",
       "       153.31, 117.79, 357.32, 374.17, 122.28, 122.57, 134.59, 134.98,\n",
       "       109.45, 131.52,  88.76, 174.28, 100.7 , 387.43, 160.71, 105.91,\n",
       "       101.46, 271.67, 112.74,  96.42, 271.48, 156.79, 249.63, 278.62,\n",
       "        84.46, 221.17, 194.79, 199.22, 141.7 , 191.15, 142.41, 134.53,\n",
       "       374.37, 241.73, 278.58, 106.25, 115.71,  78.34, 216.03, 140.01,\n",
       "       458.51, 210.6 , 189.49, 359.42, 132.06, 252.33, 172.05, 206.19,\n",
       "       143.98, 276.67, 111.67, 268.39, 169.11, 242.46, 168.64, 107.59])"
      ]
     },
     "execution_count": 53,
     "metadata": {},
     "output_type": "execute_result"
    }
   ],
   "source": [
    "total_cost.values #result is 1D numpy array"
   ]
  },
  {
   "cell_type": "code",
   "execution_count": 54,
   "id": "69ee60b1-b87f-4dc8-94d0-48ef46033b8d",
   "metadata": {},
   "outputs": [
    {
     "data": {
      "text/plain": [
       "(400,)"
      ]
     },
     "execution_count": 54,
     "metadata": {},
     "output_type": "execute_result"
    }
   ],
   "source": [
    "total_cost.shape"
   ]
  },
  {
   "cell_type": "code",
   "execution_count": 3,
   "id": "afb7d1bb-7d55-4875-bee7-966aaad373dc",
   "metadata": {},
   "outputs": [
    {
     "data": {
      "text/plain": [
       "['Chcolate', 'Vanilla', 'Strawberry', 'Sum Rasin']"
      ]
     },
     "execution_count": 3,
     "metadata": {},
     "output_type": "execute_result"
    }
   ],
   "source": [
    "import pandas as pd\n",
    "ice_cream = ['Chcolate','Vanilla','Strawberry','Sum Rasin']\n",
    "ice_cream"
   ]
  },
  {
   "cell_type": "code",
   "execution_count": 4,
   "id": "cc5062b9-1660-423e-8371-4f57c0a67caa",
   "metadata": {},
   "outputs": [
    {
     "data": {
      "text/plain": [
       "0      Chcolate\n",
       "1       Vanilla\n",
       "2    Strawberry\n",
       "3     Sum Rasin\n",
       "dtype: object"
      ]
     },
     "execution_count": 4,
     "metadata": {},
     "output_type": "execute_result"
    }
   ],
   "source": [
    "pd.Series(ice_cream) # object means strings as data types"
   ]
  },
  {
   "cell_type": "code",
   "execution_count": 5,
   "id": "4eaefe92-c406-40ab-89a4-b7a1e82f2a69",
   "metadata": {},
   "outputs": [
    {
     "data": {
      "text/plain": [
       "0     4\n",
       "1     8\n",
       "2    15\n",
       "3    16\n",
       "4    23\n",
       "5    42\n",
       "dtype: int64"
      ]
     },
     "execution_count": 5,
     "metadata": {},
     "output_type": "execute_result"
    }
   ],
   "source": [
    "lottery = [4,8,15,16,23,42]\n",
    "pd.Series(lottery)"
   ]
  },
  {
   "cell_type": "code",
   "execution_count": 14,
   "id": "6b6dcce7-404e-4c97-82e8-a24504dc0805",
   "metadata": {},
   "outputs": [
    {
     "data": {
      "text/plain": [
       "{'Aardvark': 'Animal', 'Banana': 'Delicious fruit', 'Cyan': 'A colour'}"
      ]
     },
     "execution_count": 14,
     "metadata": {},
     "output_type": "execute_result"
    }
   ],
   "source": [
    "webster = {\"Aardvark\" : \"Animal\" ,\n",
    "          \"Banana\" : \"Delicious fruit\" ,\n",
    "          \"Cyan\" : \"A colour\"\n",
    "          }\n",
    "webster"
   ]
  },
  {
   "cell_type": "code",
   "execution_count": 15,
   "id": "a95d5efc-52b3-4832-a62d-a577769e4c9b",
   "metadata": {},
   "outputs": [
    {
     "data": {
      "text/plain": [
       "dict"
      ]
     },
     "execution_count": 15,
     "metadata": {},
     "output_type": "execute_result"
    }
   ],
   "source": [
    "type(webster)"
   ]
  },
  {
   "cell_type": "code",
   "execution_count": 17,
   "id": "601cdc3f-11b2-45b7-a8ec-38007598b23b",
   "metadata": {},
   "outputs": [],
   "source": [
    "df_webster = pd.Series(webster)"
   ]
  },
  {
   "cell_type": "code",
   "execution_count": 18,
   "id": "4520276c-3b05-49ea-9ccd-5f0d01f529f1",
   "metadata": {},
   "outputs": [
    {
     "data": {
      "text/plain": [
       "pandas.core.series.Series"
      ]
     },
     "execution_count": 18,
     "metadata": {},
     "output_type": "execute_result"
    }
   ],
   "source": [
    "type(df_webster)"
   ]
  },
  {
   "cell_type": "code",
   "execution_count": 19,
   "id": "c870a185-35c9-4e91-ba55-fb010af299ee",
   "metadata": {},
   "outputs": [
    {
     "data": {
      "text/plain": [
       "Aardvark             Animal\n",
       "Banana      Delicious fruit\n",
       "Cyan               A colour\n",
       "dtype: object"
      ]
     },
     "execution_count": 19,
     "metadata": {},
     "output_type": "execute_result"
    }
   ],
   "source": [
    "df_webster"
   ]
  },
  {
   "cell_type": "code",
   "execution_count": 20,
   "id": "ac443e7f-3945-469f-8323-161ceb0ce4c8",
   "metadata": {},
   "outputs": [],
   "source": [
    "df_webster[\"Blue\"] = \"Another colour\""
   ]
  },
  {
   "cell_type": "code",
   "execution_count": 33,
   "id": "876a5647-fb65-4699-a0f2-948b4488e9ee",
   "metadata": {},
   "outputs": [
    {
     "name": "stdout",
     "output_type": "stream",
     "text": [
      "Index(['Aardvark', 'Banana', 'Cyan', 'Blue'], dtype='object')\n"
     ]
    }
   ],
   "source": [
    "print(df_webster.index)"
   ]
  },
  {
   "cell_type": "markdown",
   "id": "0ba33380-c054-4539-93d1-6ed650660034",
   "metadata": {},
   "source": [
    "### Attributes"
   ]
  },
  {
   "cell_type": "code",
   "execution_count": 24,
   "id": "ec7863a9-e9f6-4ccd-b07a-edd66e232dc5",
   "metadata": {},
   "outputs": [
    {
     "data": {
      "text/plain": [
       "0        Smart\n",
       "1     Handsome\n",
       "2     Charming\n",
       "3    Brilliant\n",
       "4       Humble\n",
       "dtype: object"
      ]
     },
     "execution_count": 24,
     "metadata": {},
     "output_type": "execute_result"
    }
   ],
   "source": [
    "about_me = [\"Smart\",\"Handsome\" , \"Charming\",\"Brilliant\",\"Humble\"]\n",
    "s = pd.Series(about_me)\n",
    "s"
   ]
  },
  {
   "cell_type": "code",
   "execution_count": 26,
   "id": "4c2f6a61-b9d3-4a1b-bf90-265aeb667ec2",
   "metadata": {},
   "outputs": [
    {
     "data": {
      "text/plain": [
       "array(['Smart', 'Handsome', 'Charming', 'Brilliant', 'Humble'],\n",
       "      dtype=object)"
      ]
     },
     "execution_count": 26,
     "metadata": {},
     "output_type": "execute_result"
    }
   ],
   "source": [
    "s.values"
   ]
  },
  {
   "cell_type": "code",
   "execution_count": 27,
   "id": "9a4a0923-1c54-4d07-b296-a37765394d17",
   "metadata": {},
   "outputs": [
    {
     "data": {
      "text/plain": [
       "RangeIndex(start=0, stop=5, step=1)"
      ]
     },
     "execution_count": 27,
     "metadata": {},
     "output_type": "execute_result"
    }
   ],
   "source": [
    "s.index"
   ]
  },
  {
   "cell_type": "code",
   "execution_count": 34,
   "id": "0df9adfb-7617-4a7b-b756-43ed42485d5c",
   "metadata": {},
   "outputs": [
    {
     "data": {
      "text/plain": [
       "dtype('O')"
      ]
     },
     "execution_count": 34,
     "metadata": {},
     "output_type": "execute_result"
    }
   ],
   "source": [
    "s.dtype"
   ]
  },
  {
   "cell_type": "markdown",
   "id": "44b8a26c-c2e3-4b38-8654-95500861efa1",
   "metadata": {},
   "source": [
    "### Methods"
   ]
  },
  {
   "cell_type": "code",
   "execution_count": 37,
   "id": "7a63fb97-a7ba-4a77-a6e8-5448c8986334",
   "metadata": {},
   "outputs": [
    {
     "data": {
      "text/plain": [
       "0    2.99\n",
       "1    4.45\n",
       "2    1.36\n",
       "dtype: float64"
      ]
     },
     "execution_count": 37,
     "metadata": {},
     "output_type": "execute_result"
    }
   ],
   "source": [
    "prices = [2.99,4.45,1.36]\n",
    "s = pd.Series(prices)\n",
    "s"
   ]
  },
  {
   "cell_type": "code",
   "execution_count": 42,
   "id": "895c753c-97e8-41cb-ae4a-d28bdd82ec23",
   "metadata": {},
   "outputs": [
    {
     "data": {
      "text/plain": [
       "8.8"
      ]
     },
     "execution_count": 42,
     "metadata": {},
     "output_type": "execute_result"
    }
   ],
   "source": [
    "s.sum()"
   ]
  },
  {
   "cell_type": "code",
   "execution_count": 43,
   "id": "9b954006-4be7-4cfb-b034-f32df8b90be3",
   "metadata": {},
   "outputs": [
    {
     "data": {
      "text/plain": [
       "18.095480000000006"
      ]
     },
     "execution_count": 43,
     "metadata": {},
     "output_type": "execute_result"
    }
   ],
   "source": [
    "s.product()"
   ]
  },
  {
   "cell_type": "code",
   "execution_count": 44,
   "id": "14bb91f2-6598-4f3f-bde5-49c80475055b",
   "metadata": {},
   "outputs": [
    {
     "data": {
      "text/plain": [
       "2.9333333333333336"
      ]
     },
     "execution_count": 44,
     "metadata": {},
     "output_type": "execute_result"
    }
   ],
   "source": [
    "s.mean()"
   ]
  },
  {
   "cell_type": "code",
   "execution_count": 49,
   "id": "d96aa869-36c0-462d-80eb-e07a6dc94bdc",
   "metadata": {},
   "outputs": [
    {
     "data": {
      "text/plain": [
       "Monday           Apple\n",
       "Tuesday         Orange\n",
       "Wednesday         Plum\n",
       "Thursday         Grape\n",
       "Friday       Blueberry\n",
       "dtype: object"
      ]
     },
     "execution_count": 49,
     "metadata": {},
     "output_type": "execute_result"
    }
   ],
   "source": [
    "fruits = [\"Apple\" ,\"Orange\" , \"Plum\" , \"Grape\" , \"Blueberry\"]\n",
    "weekdays = [\"Monday\",\"Tuesday\",\"Wednesday\",\"Thursday\",\"Friday\"]\n",
    "\n",
    "pd.Series(fruits , weekdays)\n",
    "pd.Series(data = fruits , index = weekdays)\n",
    "pd.Series(fruits , index = weekdays)"
   ]
  },
  {
   "cell_type": "code",
   "execution_count": 50,
   "id": "ee83f1f8-b51a-4fb2-be1a-91e5b4b35c2a",
   "metadata": {},
   "outputs": [
    {
     "data": {
      "text/plain": [
       "Monday            Apple\n",
       "Tuesday          Orange\n",
       "Wednesday          Plum\n",
       "Thursday          Grape\n",
       "Friday        Blueberry\n",
       "Monday       Watermelon\n",
       "dtype: object"
      ]
     },
     "execution_count": 50,
     "metadata": {},
     "output_type": "execute_result"
    }
   ],
   "source": [
    "fruits = [\"Apple\" ,\"Orange\" , \"Plum\" , \"Grape\" , \"Blueberry\" , \"Watermelon\"]\n",
    "weekdays = [\"Monday\",\"Tuesday\",\"Wednesday\",\"Thursday\",\"Friday\", \"Monday\"]\n",
    "\n",
    "\n",
    "pd.Series(data = fruits , index = weekdays)"
   ]
  },
  {
   "cell_type": "code",
   "execution_count": null,
   "id": "bdfa5cc7-654a-461e-88e8-688429d624b6",
   "metadata": {},
   "outputs": [],
   "source": []
  }
 ],
 "metadata": {
  "kernelspec": {
   "display_name": "Python 3 (ipykernel)",
   "language": "python",
   "name": "python3"
  },
  "language_info": {
   "codemirror_mode": {
    "name": "ipython",
    "version": 3
   },
   "file_extension": ".py",
   "mimetype": "text/x-python",
   "name": "python",
   "nbconvert_exporter": "python",
   "pygments_lexer": "ipython3",
   "version": "3.9.10"
  }
 },
 "nbformat": 4,
 "nbformat_minor": 5
}
