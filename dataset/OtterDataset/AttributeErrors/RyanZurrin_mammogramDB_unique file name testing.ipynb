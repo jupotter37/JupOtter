{
 "cells": [
  {
   "cell_type": "code",
   "execution_count": 40,
   "id": "df754595",
   "metadata": {},
   "outputs": [],
   "source": [
    "import sys\n",
    "import time\n",
    "sys.path.insert(0,'../..')\n",
    "import omama as O\n",
    "import random\n",
    "import os\n",
    "import uuid\n",
    "import tempfile as tmp"
   ]
  },
  {
   "cell_type": "code",
   "execution_count": 41,
   "id": "f30b59a1",
   "metadata": {},
   "outputs": [
    {
     "name": "stdout",
     "output_type": "stream",
     "text": [
      "Printing my First UUID of version 1\n",
      "11f0cd4169314fa7b8f4d69dceb70132_1540787_36\n"
     ]
    }
   ],
   "source": [
    "uuidOne = str(uuid.uuid4().hex)+ '_' + str(os.getpid()) + '_' + str(random.randint(1, 999))\n",
    "print (\"Printing my First UUID of version 1\")\n",
    "print(uuidOne)"
   ]
  },
  {
   "cell_type": "code",
   "execution_count": 42,
   "id": "117ab502",
   "metadata": {},
   "outputs": [
    {
     "name": "stdout",
     "output_type": "stream",
     "text": [
      "Printing my First UUID of version 1\n",
      "0aab1656d1d24f0eaaadeebe41e8ce20_1540787_755\n"
     ]
    }
   ],
   "source": [
    "uuidOne = uuidOne = str(uuid.uuid4().hex)+ '_' + str(os.getpid()) + '_' + str(random.randint(1, 999))\n",
    "print (\"Printing my First UUID of version 1\")\n",
    "print(uuidOne)"
   ]
  },
  {
   "cell_type": "code",
   "execution_count": 43,
   "id": "0b6cd4e9",
   "metadata": {},
   "outputs": [
    {
     "data": {
      "text/plain": [
       "'0aab1656d1d24f0eaaadeebe41e8ce20_1540787_755'"
      ]
     },
     "execution_count": 43,
     "metadata": {},
     "output_type": "execute_result"
    }
   ],
   "source": [
    "uuidOne"
   ]
  },
  {
   "cell_type": "code",
   "execution_count": 68,
   "id": "cfd18b92",
   "metadata": {},
   "outputs": [],
   "source": [
    "tempfile = tmp.mkdtemp(suffix=None, prefix=None, dir=\"deepsight_out\")"
   ]
  },
  {
   "cell_type": "code",
   "execution_count": 69,
   "id": "845ce9b3",
   "metadata": {},
   "outputs": [
    {
     "data": {
      "text/plain": [
       "'deepsight_out/tmpfj51hc4x'"
      ]
     },
     "execution_count": 69,
     "metadata": {},
     "output_type": "execute_result"
    }
   ],
   "source": [
    "tempfile"
   ]
  },
  {
   "cell_type": "code",
   "execution_count": 70,
   "id": "dd6d3de4",
   "metadata": {},
   "outputs": [
    {
     "data": {
      "text/plain": [
       "'tmpfj51hc4x'"
      ]
     },
     "execution_count": 70,
     "metadata": {},
     "output_type": "execute_result"
    }
   ],
   "source": [
    "os.path.split(tempfile)[1]"
   ]
  },
  {
   "cell_type": "code",
   "execution_count": 19,
   "id": "679c847e",
   "metadata": {},
   "outputs": [],
   "source": [
    "tempfile2 = tmp.mkdtemp(suffix=None, prefix=None, dir=None)"
   ]
  },
  {
   "cell_type": "code",
   "execution_count": 20,
   "id": "40a0b43a",
   "metadata": {},
   "outputs": [
    {
     "data": {
      "text/plain": [
       "'/tmp/tmpftzh2928'"
      ]
     },
     "execution_count": 20,
     "metadata": {},
     "output_type": "execute_result"
    }
   ],
   "source": [
    "tempfile2"
   ]
  },
  {
   "cell_type": "code",
   "execution_count": 46,
   "id": "9d9518bd",
   "metadata": {},
   "outputs": [
    {
     "ename": "AttributeError",
     "evalue": "'tuple' object has no attribute 'mkstemp'",
     "output_type": "error",
     "traceback": [
      "\u001B[0;31m---------------------------------------------------------------------------\u001B[0m",
      "\u001B[0;31mAttributeError\u001B[0m                            Traceback (most recent call last)",
      "\u001B[0;32m/tmp/ipykernel_1540787/3452794358.py\u001B[0m in \u001B[0;36m<module>\u001B[0;34m\u001B[0m\n\u001B[0;32m----> 1\u001B[0;31m \u001B[0mtest_temp\u001B[0m \u001B[0;34m=\u001B[0m \u001B[0mtempfile\u001B[0m\u001B[0;34m.\u001B[0m\u001B[0mmkstemp\u001B[0m\u001B[0;34m(\u001B[0m\u001B[0msuffix\u001B[0m\u001B[0;34m=\u001B[0m\u001B[0;32mNone\u001B[0m\u001B[0;34m,\u001B[0m \u001B[0mprefix\u001B[0m\u001B[0;34m=\u001B[0m\u001B[0;32mNone\u001B[0m\u001B[0;34m,\u001B[0m \u001B[0mdir\u001B[0m\u001B[0;34m=\u001B[0m\u001B[0;34m'deepsight_out'\u001B[0m\u001B[0;34m,\u001B[0m \u001B[0mtext\u001B[0m\u001B[0;34m=\u001B[0m\u001B[0;32mFalse\u001B[0m\u001B[0;34m)\u001B[0m\u001B[0;34m\u001B[0m\u001B[0;34m\u001B[0m\u001B[0m\n\u001B[0m",
      "\u001B[0;31mAttributeError\u001B[0m: 'tuple' object has no attribute 'mkstemp'"
     ]
    }
   ],
   "source": [
    "test_temp = tempfile.mkstemp(suffix=None, prefix=None, dir='deepsight_out', text=False)"
   ]
  },
  {
   "cell_type": "code",
   "execution_count": 37,
   "id": "ef3d8ed3",
   "metadata": {},
   "outputs": [
    {
     "data": {
      "text/plain": [
       "'/home/ryan.zurrin001/Projects/omama/_EXPERIMENTS/DEEP_SIGHT/deepsight_x1yjdglq'"
      ]
     },
     "execution_count": 37,
     "metadata": {},
     "output_type": "execute_result"
    }
   ],
   "source": [
    "test_temp"
   ]
  },
  {
   "cell_type": "code",
   "execution_count": null,
   "id": "4e360048",
   "metadata": {},
   "outputs": [],
   "source": []
  }
 ],
 "metadata": {
  "kernelspec": {
   "display_name": "Python 3 (ipykernel)",
   "language": "python",
   "name": "python3"
  },
  "language_info": {
   "codemirror_mode": {
    "name": "ipython",
    "version": 3
   },
   "file_extension": ".py",
   "mimetype": "text/x-python",
   "name": "python",
   "nbconvert_exporter": "python",
   "pygments_lexer": "ipython3",
   "version": "3.9.7"
  }
 },
 "nbformat": 4,
 "nbformat_minor": 5
}
