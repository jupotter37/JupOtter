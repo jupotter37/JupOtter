{
 "cells": [
  {
   "cell_type": "code",
   "execution_count": 1,
   "metadata": {
    "ExecuteTime": {
     "end_time": "2019-01-16T23:11:52.498227Z",
     "start_time": "2019-01-16T23:11:52.184624Z"
    }
   },
   "outputs": [
    {
     "name": "stdout",
     "output_type": "stream",
     "text": [
      "Populating the interactive namespace from numpy and matplotlib\n"
     ]
    }
   ],
   "source": [
    "%pylab inline"
   ]
  },
  {
   "cell_type": "code",
   "execution_count": 2,
   "metadata": {
    "ExecuteTime": {
     "end_time": "2019-01-16T23:11:53.392796Z",
     "start_time": "2019-01-16T23:11:53.385668Z"
    }
   },
   "outputs": [],
   "source": [
    "%gui qt"
   ]
  },
  {
   "cell_type": "code",
   "execution_count": 3,
   "metadata": {
    "ExecuteTime": {
     "end_time": "2019-01-16T23:11:58.526791Z",
     "start_time": "2019-01-16T23:11:57.325602Z"
    }
   },
   "outputs": [],
   "source": [
    "from spiketag.base import probe"
   ]
  },
  {
   "cell_type": "code",
   "execution_count": 4,
   "metadata": {
    "ExecuteTime": {
     "end_time": "2019-01-16T23:11:59.450930Z",
     "start_time": "2019-01-16T23:11:59.445412Z"
    }
   },
   "outputs": [],
   "source": [
    "prb = probe()"
   ]
  },
  {
   "cell_type": "code",
   "execution_count": 5,
   "metadata": {
    "ExecuteTime": {
     "end_time": "2019-01-16T23:12:03.046554Z",
     "start_time": "2019-01-16T23:12:03.037119Z"
    }
   },
   "outputs": [],
   "source": [
    "prb.load('./bow_tie_LL.json')"
   ]
  },
  {
   "cell_type": "code",
   "execution_count": 6,
   "metadata": {
    "ExecuteTime": {
     "end_time": "2019-01-16T23:12:07.244244Z",
     "start_time": "2019-01-16T23:12:07.223699Z"
    }
   },
   "outputs": [
    {
     "data": {
      "text/plain": [
       "0:[ 3  5 52 59]\n",
       "1:[10 53 54 60]\n",
       "2:[ 4 12 13 58]\n",
       "3:[ 2 11 55 57]\n",
       "4:[ 1  8 15 51]\n",
       "5:[18 48 50 63]\n",
       "6:[ 0 31 34 47]\n",
       "7:[ 9 25 33 61]\n",
       "8:[14 17 22 62]\n",
       "9:[19 21 37 39]\n",
       "10:[20 35 36 38]\n",
       "11:[26 29 44 45]\n",
       "12:[ 7 24 27 40]\n",
       "13:[16 32 41 42]\n",
       "14:[23 28 43 46]\n",
       "15:[ 67  69 116 123]\n",
       "16:[ 74 117 118 124]\n",
       "17:[ 68  76  77 122]\n",
       "18:[ 66  75 119 121]\n",
       "19:[ 65  72  79 115]\n",
       "20:[ 82 112 114 127]\n",
       "21:[ 64  95  98 111]\n",
       "22:[ 73  89  97 125]\n",
       "23:[ 78  81  86 126]\n",
       "24:[ 83  85 101 103]\n",
       "25:[ 84  99 100 102]\n",
       "26:[ 90  93 108 109]\n",
       "27:[ 71  88  91 104]\n",
       "28:[ 80  96 105 106]\n",
       "29:[ 87  92 107 110]\n",
       "30:[ 6 30 49 56]\n",
       "31:[ 70  94 113 120]\n",
       "32:[128 129 130 131]\n",
       "33:[132 133 134 135]\n",
       "34:[136 137 138 139]\n",
       "35:[140 141 142 143]\n",
       "36:[144 145 146 147]\n",
       "37:[148 149 150 151]\n",
       "38:[152 153 154 155]\n",
       "39:[156 157 158 159]"
      ]
     },
     "execution_count": 6,
     "metadata": {},
     "output_type": "execute_result"
    }
   ],
   "source": [
    "prb"
   ]
  },
  {
   "cell_type": "code",
   "execution_count": 7,
   "metadata": {
    "ExecuteTime": {
     "end_time": "2019-01-16T23:12:10.658490Z",
     "start_time": "2019-01-16T23:12:10.651542Z"
    }
   },
   "outputs": [],
   "source": [
    "for i in range(30,40):\n",
    "    prb.grp_dict.pop(i)"
   ]
  },
  {
   "cell_type": "code",
   "execution_count": 8,
   "metadata": {
    "ExecuteTime": {
     "end_time": "2019-01-16T23:12:12.111571Z",
     "start_time": "2019-01-16T23:12:11.663940Z"
    }
   },
   "outputs": [
    {
     "name": "stderr",
     "output_type": "stream",
     "text": [
      "/disk0/anaconda2/lib/python2.7/site-packages/IPython/config.py:13: ShimWarning: The `IPython.config` package has been deprecated since IPython 4.0. You should import from traitlets.config instead.\n",
      "  \"You should import from traitlets.config instead.\", ShimWarning)\n"
     ]
    }
   ],
   "source": [
    "prb.show()"
   ]
  },
  {
   "cell_type": "code",
   "execution_count": 9,
   "metadata": {
    "ExecuteTime": {
     "end_time": "2019-01-17T00:29:12.143718Z",
     "start_time": "2019-01-17T00:29:12.131437Z"
    }
   },
   "outputs": [
    {
     "data": {
      "text/plain": [
       "array([  3,   5,  52,  59,  10,  53,  54,  60,   4,  12,  13,  58,   2,\n",
       "        11,  55,  57,   1,   8,  15,  51,  18,  48,  50,  63,   0,  31,\n",
       "        34,  47,   9,  25,  33,  61,  14,  17,  22,  62,  19,  21,  37,\n",
       "        39,  20,  35,  36,  38,  26,  29,  44,  45,   7,  24,  27,  40,\n",
       "        16,  32,  41,  42,  23,  28,  43,  46,  67,  69, 116, 123,  74,\n",
       "       117, 118, 124,  68,  76,  77, 122,  66,  75, 119, 121,  65,  72,\n",
       "        79, 115,  82, 112, 114, 127,  64,  95,  98, 111,  73,  89,  97,\n",
       "       125,  78,  81,  86, 126,  83,  85, 101, 103,  84,  99, 100, 102,\n",
       "        90,  93, 108, 109,  71,  88,  91, 104,  80,  96, 105, 106,  87,\n",
       "        92, 107, 110])"
      ]
     },
     "execution_count": 9,
     "metadata": {},
     "output_type": "execute_result"
    },
    {
     "name": "stderr",
     "output_type": "stream",
     "text": [
      "WARNING: QXcbConnection: XCB error: 148 (Unknown), sequence: 739, resource id: 0, major code: 140 (Unknown), minor code: 20\n",
      "WARNING: QXcbConnection: XCB error: 148 (Unknown), sequence: 752, resource id: 0, major code: 140 (Unknown), minor code: 20\n",
      "WARNING: QXcbConnection: XCB error: 148 (Unknown), sequence: 765, resource id: 0, major code: 140 (Unknown), minor code: 20\n",
      "WARNING: QXcbConnection: XCB error: 148 (Unknown), sequence: 778, resource id: 0, major code: 140 (Unknown), minor code: 20\n"
     ]
    }
   ],
   "source": [
    "prb.chs"
   ]
  },
  {
   "cell_type": "code",
   "execution_count": 17,
   "metadata": {
    "ExecuteTime": {
     "end_time": "2019-01-16T23:01:17.426910Z",
     "start_time": "2019-01-16T23:01:17.421036Z"
    }
   },
   "outputs": [],
   "source": [
    "from spiketag.view import probe_view"
   ]
  },
  {
   "cell_type": "code",
   "execution_count": 18,
   "metadata": {
    "ExecuteTime": {
     "end_time": "2019-01-16T23:01:23.678746Z",
     "start_time": "2019-01-16T23:01:23.355891Z"
    }
   },
   "outputs": [],
   "source": [
    "prb_view = probe_view()"
   ]
  },
  {
   "cell_type": "code",
   "execution_count": 19,
   "metadata": {
    "ExecuteTime": {
     "end_time": "2019-01-16T23:01:34.120794Z",
     "start_time": "2019-01-16T23:01:34.074754Z"
    }
   },
   "outputs": [
    {
     "ename": "AttributeError",
     "evalue": "'probe_view' object has no attribute 'electrode_id'",
     "output_type": "error",
     "traceback": [
      "\u001b[0;31m---------------------------------------------------------------------------\u001b[0m",
      "\u001b[0;31mAttributeError\u001b[0m                            Traceback (most recent call last)",
      "\u001b[0;32m<ipython-input-19-96c11f0b1a64>\u001b[0m in \u001b[0;36m<module>\u001b[0;34m()\u001b[0m\n\u001b[0;32m----> 1\u001b[0;31m \u001b[0mprb_view\u001b[0m\u001b[0;34m.\u001b[0m\u001b[0mgrp_2_edges\u001b[0m\u001b[0;34m(\u001b[0m\u001b[0mprb\u001b[0m\u001b[0;34m.\u001b[0m\u001b[0mgrp_dict\u001b[0m\u001b[0;34m)\u001b[0m\u001b[0;34m\u001b[0m\u001b[0m\n\u001b[0m",
      "\u001b[0;32m/disk0/Work/pydev/spiketag/spiketag/view/probe_view.pyc\u001b[0m in \u001b[0;36mgrp_2_edges\u001b[0;34m(self, grp_dict)\u001b[0m\n\u001b[1;32m    122\u001b[0m         \u001b[0m_grp_idx\u001b[0m \u001b[0;34m=\u001b[0m \u001b[0;34m[\u001b[0m\u001b[0;34m]\u001b[0m\u001b[0;34m\u001b[0m\u001b[0m\n\u001b[1;32m    123\u001b[0m         \u001b[0;32mfor\u001b[0m \u001b[0mgrp_id\u001b[0m\u001b[0;34m,\u001b[0m \u001b[0mgrp\u001b[0m \u001b[0;32min\u001b[0m \u001b[0mgrp_dict\u001b[0m\u001b[0;34m.\u001b[0m\u001b[0mitems\u001b[0m\u001b[0;34m(\u001b[0m\u001b[0;34m)\u001b[0m\u001b[0;34m:\u001b[0m\u001b[0;34m\u001b[0m\u001b[0m\n\u001b[0;32m--> 124\u001b[0;31m             \u001b[0m_grp\u001b[0m \u001b[0;34m=\u001b[0m \u001b[0mnp\u001b[0m\u001b[0;34m.\u001b[0m\u001b[0marray\u001b[0m\u001b[0;34m(\u001b[0m\u001b[0;34m[\u001b[0m\u001b[0mnp\u001b[0m\u001b[0;34m.\u001b[0m\u001b[0mwhere\u001b[0m\u001b[0;34m(\u001b[0m\u001b[0mself\u001b[0m\u001b[0;34m.\u001b[0m\u001b[0melectrode_id\u001b[0m\u001b[0;34m==\u001b[0m\u001b[0mi\u001b[0m\u001b[0;34m)\u001b[0m\u001b[0;34m[\u001b[0m\u001b[0;36m0\u001b[0m\u001b[0;34m]\u001b[0m \u001b[0;32mfor\u001b[0m \u001b[0mi\u001b[0m \u001b[0;32min\u001b[0m \u001b[0mgrp\u001b[0m\u001b[0;34m]\u001b[0m\u001b[0;34m)\u001b[0m\u001b[0;34m.\u001b[0m\u001b[0msqueeze\u001b[0m\u001b[0;34m(\u001b[0m\u001b[0;34m)\u001b[0m\u001b[0;34m\u001b[0m\u001b[0m\n\u001b[0m\u001b[1;32m    125\u001b[0m             \u001b[0m_grp_idx\u001b[0m\u001b[0;34m.\u001b[0m\u001b[0mappend\u001b[0m\u001b[0;34m(\u001b[0m\u001b[0m_grp\u001b[0m\u001b[0;34m)\u001b[0m\u001b[0;34m\u001b[0m\u001b[0m\n\u001b[1;32m    126\u001b[0m             \u001b[0;31m# print _grp\u001b[0m\u001b[0;34m\u001b[0m\u001b[0;34m\u001b[0m\u001b[0m\n",
      "\u001b[0;31mAttributeError\u001b[0m: 'probe_view' object has no attribute 'electrode_id'"
     ]
    }
   ],
   "source": [
    "prb_view.grp_2_edges(prb.grp_dict)"
   ]
  },
  {
   "cell_type": "code",
   "execution_count": 21,
   "metadata": {
    "ExecuteTime": {
     "end_time": "2019-01-16T23:02:25.547677Z",
     "start_time": "2019-01-16T23:02:25.534204Z"
    }
   },
   "outputs": [
    {
     "data": {
      "text/plain": [
       "[0,\n",
       " 1,\n",
       " 2,\n",
       " 3,\n",
       " 4,\n",
       " 5,\n",
       " 6,\n",
       " 7,\n",
       " 8,\n",
       " 9,\n",
       " 10,\n",
       " 11,\n",
       " 12,\n",
       " 13,\n",
       " 14,\n",
       " 15,\n",
       " 16,\n",
       " 17,\n",
       " 18,\n",
       " 19,\n",
       " 20,\n",
       " 21,\n",
       " 22,\n",
       " 23,\n",
       " 24,\n",
       " 25,\n",
       " 26,\n",
       " 27,\n",
       " 28,\n",
       " 29,\n",
       " 30,\n",
       " 31,\n",
       " 32,\n",
       " 33,\n",
       " 34,\n",
       " 35,\n",
       " 36,\n",
       " 37,\n",
       " 38,\n",
       " 39]"
      ]
     },
     "execution_count": 21,
     "metadata": {},
     "output_type": "execute_result"
    }
   ],
   "source": [
    "prb.grp_dict.keys()"
   ]
  },
  {
   "cell_type": "code",
   "execution_count": null,
   "metadata": {},
   "outputs": [],
   "source": []
  }
 ],
 "metadata": {
  "kernelspec": {
   "display_name": "Python 2",
   "language": "python",
   "name": "python2"
  },
  "language_info": {
   "codemirror_mode": {
    "name": "ipython",
    "version": 2
   },
   "file_extension": ".py",
   "mimetype": "text/x-python",
   "name": "python",
   "nbconvert_exporter": "python",
   "pygments_lexer": "ipython2",
   "version": "2.7.15"
  }
 },
 "nbformat": 4,
 "nbformat_minor": 2
}
