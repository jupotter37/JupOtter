{
  "nbformat": 4,
  "nbformat_minor": 0,
  "metadata": {
    "colab": {
      "name": "bst.ipynb",
      "provenance": [],
      "authorship_tag": "ABX9TyOCHetLegQiPtRQYTQWkzRb",
      "include_colab_link": true
    },
    "kernelspec": {
      "name": "python3",
      "display_name": "Python 3"
    }
  },
  "cells": [
    {
      "cell_type": "markdown",
      "metadata": {
        "id": "view-in-github",
        "colab_type": "text"
      },
      "source": [
        "<a href=\"https://colab.research.google.com/github/jarrydmartinx/basic-algorithms/blob/master/bst.ipynb\" target=\"_parent\"><img src=\"https://colab.research.google.com/assets/colab-badge.svg\" alt=\"Open In Colab\"/></a>"
      ]
    },
    {
      "cell_type": "markdown",
      "metadata": {
        "id": "6YHitp8boBKq",
        "colab_type": "text"
      },
      "source": [
        "## Binary Search Trees"
      ]
    },
    {
      "cell_type": "markdown",
      "metadata": {
        "id": "kwvyHUfd6Kvq",
        "colab_type": "text"
      },
      "source": [
        "#### Binary Search Tree Properties\n",
        "* Key property: Let $x$ be a node in a binary tree. If $y$ is in the left subtree of $x$, then $y.key < x.key$. If y is in the right subtree of x, then y.key > x.key\n",
        "* Search takes $O(h)$ time where $h$ is the height of the tree. For a complete tree the height is $\\log n$ for a tree wth $n$ nodes"
      ]
    },
    {
      "cell_type": "markdown",
      "metadata": {
        "id": "M8QW3GXp6XhG",
        "colab_type": "text"
      },
      "source": [
        "THis is a cool example of the way that recursive algorithms can be unrolled into iterative algorithms"
      ]
    },
    {
      "cell_type": "code",
      "metadata": {
        "id": "9zh3BWTooIL4",
        "colab_type": "code",
        "colab": {}
      },
      "source": [
        "# Can be used as a dictionary and a priority queue\n",
        "\n",
        "class BinarySearchTree:\n",
        "  \n",
        "  def __init__(self, key, parent=None):\n",
        "    self.key = key\n",
        "    self.left = None\n",
        "    self.right = None\n",
        "    \n",
        "  def __repr__(self):\n",
        "    return '<{}><({},{})>'.format(self.key, repr(self.left), repr(self.right))\n",
        "  \n",
        "  def search_recursive(self, key):\n",
        "    if self.key == key:\n",
        "      return self\n",
        "    if key < self.key and self.left:\n",
        "      return self.left.search(key)\n",
        "    elif self.right: \n",
        "      return self.right.search(key)\n",
        "    else:\n",
        "      return None\n",
        "    \n",
        "  def search(self, key):\n",
        "    node = self\n",
        "    while node and node.key != key:\n",
        "      if key < node.key:\n",
        "        node = node.left\n",
        "      else:\n",
        "        node = node.right\n",
        "    return node\n",
        "        \n",
        "  def insert_recursive(self, key):\n",
        "    if key < self.key:\n",
        "      if not self.left:\n",
        "        self.left = BinarySearchTree(key, parent=self)\n",
        "      else:\n",
        "        self.left.insert_recursive(key)\n",
        "    else:\n",
        "      if not self.right: # if key > self.key\n",
        "        self.right = BinarySearchTree(key, parent=parent)\n",
        "      else:\n",
        "        self.right.insert_recursive(key)\n",
        "\n",
        "  def insert(self, key):\n",
        "    node = self\n",
        "    parent = None\n",
        "    \n",
        "    # Walk down the tree to find the position to add the node\n",
        "    while node:\n",
        "      parent = node\n",
        "      if key < node.key:\n",
        "        node = node.left\n",
        "      else:\n",
        "        node = node.right\n",
        "    # Create and insert the new node    \n",
        "    new_node = BinarySearchTree(key, parent=parent)\n",
        "    if key < parent.key:\n",
        "      parent.left = new_node\n",
        "    else:\n",
        "      parent.right = new_node\n",
        "    \n",
        "  def batch_insert(self, key_list: List[int]):\n",
        "    for key in key_list:\n",
        "      self.insert(key)\n",
        "  \n",
        "  def predecessor(self):\n",
        "    if self.left:\n",
        "      return self.left.maximum()\n",
        "    else:\n",
        "      node = self\n",
        "      parent = self.parent\n",
        "      while node and node == parent.left:\n",
        "        node = parent\n",
        "        parent = parent.parent\n",
        "      return parent\n",
        "  \n",
        "  def successor(self):\n",
        "    if self.right:\n",
        "      return self.right.minimum()\n",
        "    else:\n",
        "      node = self\n",
        "      parent = self.parent\n",
        "      while node and node == parent.right:\n",
        "        node = parent\n",
        "        parent = parent.parent\n",
        "    return parent\n",
        "      \n",
        "  def delete(self):\n",
        "    pass\n",
        "  \n",
        "  def minimum(self):\n",
        "    node = self\n",
        "    while node.left:\n",
        "      node = node.left\n",
        "    return node\n",
        "  \n",
        "  def maximum(self):\n",
        "    node = self\n",
        "    while node.right:\n",
        "      node = node.right\n",
        "    return node  \n",
        "  \n",
        "  def inorder_walk(self):\n",
        "    if self.key:\n",
        "      if self.left:\n",
        "        self.left.inorder_walk()\n",
        "      print(self.key)\n",
        "      if self.right:\n",
        "        self.right.inorder_walk()\n",
        "  \n",
        "  def inorder_walk_as_list(self, key_list=[]):\n",
        "    if self.key:\n",
        "      if self.left:\n",
        "        self.left.inorder_walk_as_list(key_list)\n",
        "      key_list.append(self.key)\n",
        "      if self.right:\n",
        "        self.right.inorder_walk_as_list(key_list)\n",
        "    return key_list"
      ],
      "execution_count": 0,
      "outputs": []
    },
    {
      "cell_type": "code",
      "metadata": {
        "id": "DPYZ9ipDQW6t",
        "colab_type": "code",
        "colab": {}
      },
      "source": [
        "# Example Binary Search Tree for testing\n",
        "# key_list = np.random.randint(100, size=100)\n",
        "key_list = [8,17,20,19,12,10,9,8,4,1]\n",
        "newtree = BinarySearchTree(16)\n",
        "newtree.batch_insert(key_list)"
      ],
      "execution_count": 0,
      "outputs": []
    },
    {
      "cell_type": "code",
      "metadata": {
        "id": "-QqSKtBV_le7",
        "colab_type": "code",
        "outputId": "5fda835f-aad7-4e2b-d081-7a3c34e423d7",
        "colab": {
          "base_uri": "https://localhost:8080/",
          "height": 72
        }
      },
      "source": [
        "print(newtree)\n",
        "newtree.inorder_walk_as_list()"
      ],
      "execution_count": 0,
      "outputs": [
        {
          "output_type": "stream",
          "text": [
            "<16><(<8><(<4><(<1><(<0><(None,None)>,None)>,None)>,<12><(<10><(<9><(<8><(None,None)>,None)>,None)>,<12><(None,<15><(None,None)>)>)>)>,<17><(None,<20><(<19><(None,None)>,<300><(None,None)>)>)>)>\n"
          ],
          "name": "stdout"
        },
        {
          "output_type": "execute_result",
          "data": {
            "text/plain": [
              "[1, 4, 8, 8, 9, 10, 12, 12, 15, 16, 17, 19, 20, 300]"
            ]
          },
          "metadata": {
            "tags": []
          },
          "execution_count": 44
        }
      ]
    },
    {
      "cell_type": "code",
      "metadata": {
        "colab_type": "code",
        "outputId": "06997e3a-bdd3-4038-f06f-036f8818a53d",
        "id": "LqBrF57K_Jpx",
        "colab": {
          "base_uri": "https://localhost:8080/",
          "height": 469
        }
      },
      "source": [
        "# Set of tests for the methods for the BinarySearchTree Class\n",
        "def bst_tester(newtree: BinarySearchTree):\n",
        "  \n",
        "  newtree.insert(12)\n",
        "  newtree.insert(15)\n",
        "  newtree.insert(300)\n",
        "  newtree.insert(0)\n",
        "  \n",
        "  # Test the search method\n",
        "  assert newtree.search(12)\n",
        "  assert newtree.search(15)\n",
        "  assert not newtree.search(101)\n",
        "  assert not newtree.search(171)\n",
        "  \n",
        "  # Test the iterative search method\n",
        "  assert newtree.search_recursive(12) == newtree.search(12)\n",
        "  assert newtree.search_recursive(15)\n",
        "  assert not newtree.search_recursive(101)\n",
        "  assert not newtree.search_recursive(171)\n",
        "  \n",
        "  # Test the maximum/minimum methods\n",
        "  assert newtree.maximum().key == 300\n",
        "  assert newtree.minimum().key == 0\n",
        "  \n",
        "  # Test the successory, predecessory methods\n",
        "  assert newtree.successor().predecessor() == newtree\n",
        "  assert newtree.successor().successor().key == 19\n",
        "  assert newtree.predecessor().predecessor().predecessor().key == 9\n",
        "  \n",
        "  print(\"All tests passed your BST methods work!\")\n",
        "  return True\n",
        "\n",
        "bst_tester(newtree)"
      ],
      "execution_count": 0,
      "outputs": [
        {
          "output_type": "error",
          "ename": "AttributeError",
          "evalue": "ignored",
          "traceback": [
            "\u001b[0;31m---------------------------------------------------------------------------\u001b[0m",
            "\u001b[0;31mAttributeError\u001b[0m                            Traceback (most recent call last)",
            "\u001b[0;32m<ipython-input-41-d9f7d1632ffc>\u001b[0m in \u001b[0;36m<module>\u001b[0;34m()\u001b[0m\n\u001b[1;32m     30\u001b[0m   \u001b[0;32mreturn\u001b[0m \u001b[0;32mTrue\u001b[0m\u001b[0;34m\u001b[0m\u001b[0;34m\u001b[0m\u001b[0m\n\u001b[1;32m     31\u001b[0m \u001b[0;34m\u001b[0m\u001b[0m\n\u001b[0;32m---> 32\u001b[0;31m \u001b[0mbst_tester\u001b[0m\u001b[0;34m(\u001b[0m\u001b[0mnewtree\u001b[0m\u001b[0;34m)\u001b[0m\u001b[0;34m\u001b[0m\u001b[0;34m\u001b[0m\u001b[0m\n\u001b[0m",
            "\u001b[0;32m<ipython-input-41-d9f7d1632ffc>\u001b[0m in \u001b[0;36mbst_tester\u001b[0;34m(newtree)\u001b[0m\n\u001b[1;32m     23\u001b[0m \u001b[0;34m\u001b[0m\u001b[0m\n\u001b[1;32m     24\u001b[0m   \u001b[0;31m# Test the successory, predecessory methods\u001b[0m\u001b[0;34m\u001b[0m\u001b[0;34m\u001b[0m\u001b[0;34m\u001b[0m\u001b[0m\n\u001b[0;32m---> 25\u001b[0;31m   \u001b[0;32massert\u001b[0m \u001b[0mnewtree\u001b[0m\u001b[0;34m.\u001b[0m\u001b[0msuccessor\u001b[0m\u001b[0;34m(\u001b[0m\u001b[0;34m)\u001b[0m\u001b[0;34m.\u001b[0m\u001b[0mpredecessor\u001b[0m\u001b[0;34m(\u001b[0m\u001b[0;34m)\u001b[0m \u001b[0;34m==\u001b[0m \u001b[0mnewtree\u001b[0m\u001b[0;34m\u001b[0m\u001b[0;34m\u001b[0m\u001b[0m\n\u001b[0m\u001b[1;32m     26\u001b[0m   \u001b[0;32massert\u001b[0m \u001b[0mnewtree\u001b[0m\u001b[0;34m.\u001b[0m\u001b[0msuccessor\u001b[0m\u001b[0;34m(\u001b[0m\u001b[0;34m)\u001b[0m\u001b[0;34m.\u001b[0m\u001b[0msuccessor\u001b[0m\u001b[0;34m(\u001b[0m\u001b[0;34m)\u001b[0m\u001b[0;34m.\u001b[0m\u001b[0mkey\u001b[0m \u001b[0;34m==\u001b[0m \u001b[0;36m19\u001b[0m\u001b[0;34m\u001b[0m\u001b[0;34m\u001b[0m\u001b[0m\n\u001b[1;32m     27\u001b[0m   \u001b[0;32massert\u001b[0m \u001b[0mnewtree\u001b[0m\u001b[0;34m.\u001b[0m\u001b[0mpredecessor\u001b[0m\u001b[0;34m(\u001b[0m\u001b[0;34m)\u001b[0m\u001b[0;34m.\u001b[0m\u001b[0mpredecessor\u001b[0m\u001b[0;34m(\u001b[0m\u001b[0;34m)\u001b[0m\u001b[0;34m.\u001b[0m\u001b[0mpredecessor\u001b[0m\u001b[0;34m(\u001b[0m\u001b[0;34m)\u001b[0m\u001b[0;34m.\u001b[0m\u001b[0mkey\u001b[0m \u001b[0;34m==\u001b[0m \u001b[0;36m9\u001b[0m\u001b[0;34m\u001b[0m\u001b[0;34m\u001b[0m\u001b[0m\n",
            "\u001b[0;32m<ipython-input-39-a38fe539b6db>\u001b[0m in \u001b[0;36mpredecessor\u001b[0;34m(self)\u001b[0m\n\u001b[1;32m     68\u001b[0m     \u001b[0;32melse\u001b[0m\u001b[0;34m:\u001b[0m\u001b[0;34m\u001b[0m\u001b[0;34m\u001b[0m\u001b[0m\n\u001b[1;32m     69\u001b[0m       \u001b[0mnode\u001b[0m \u001b[0;34m=\u001b[0m \u001b[0mself\u001b[0m\u001b[0;34m\u001b[0m\u001b[0;34m\u001b[0m\u001b[0m\n\u001b[0;32m---> 70\u001b[0;31m       \u001b[0mparent\u001b[0m \u001b[0;34m=\u001b[0m \u001b[0mself\u001b[0m\u001b[0;34m.\u001b[0m\u001b[0mparent\u001b[0m\u001b[0;34m\u001b[0m\u001b[0;34m\u001b[0m\u001b[0m\n\u001b[0m\u001b[1;32m     71\u001b[0m       \u001b[0;32mwhile\u001b[0m \u001b[0mnode\u001b[0m \u001b[0;32mand\u001b[0m \u001b[0mnode\u001b[0m \u001b[0;34m==\u001b[0m \u001b[0mparent\u001b[0m\u001b[0;34m.\u001b[0m\u001b[0mleft\u001b[0m\u001b[0;34m:\u001b[0m\u001b[0;34m\u001b[0m\u001b[0;34m\u001b[0m\u001b[0m\n\u001b[1;32m     72\u001b[0m         \u001b[0mnode\u001b[0m \u001b[0;34m=\u001b[0m \u001b[0mparent\u001b[0m\u001b[0;34m\u001b[0m\u001b[0;34m\u001b[0m\u001b[0m\n",
            "\u001b[0;31mAttributeError\u001b[0m: 'BinarySearchTree' object has no attribute 'parent'"
          ]
        }
      ]
    },
    {
      "cell_type": "code",
      "metadata": {
        "id": "CE5NC7DnFTZ0",
        "colab_type": "code",
        "outputId": "c7b1c3d2-f6fb-4d87-9839-0573e35808db",
        "colab": {
          "base_uri": "https://localhost:8080/",
          "height": 35
        }
      },
      "source": [
        "newtree"
      ],
      "execution_count": 0,
      "outputs": [
        {
          "output_type": "execute_result",
          "data": {
            "text/plain": [
              "<16><(<0><(None,None)>,<300><(None,None)>)>"
            ]
          },
          "metadata": {
            "tags": []
          },
          "execution_count": 38
        }
      ]
    },
    {
      "cell_type": "code",
      "metadata": {
        "id": "dfDBVMlt_Lcg",
        "colab_type": "code",
        "colab": {}
      },
      "source": [
        ""
      ],
      "execution_count": 0,
      "outputs": []
    }
  ]
}