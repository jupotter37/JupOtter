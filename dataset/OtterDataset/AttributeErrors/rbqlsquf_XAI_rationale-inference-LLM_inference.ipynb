{
 "cells": [
  {
   "cell_type": "code",
   "execution_count": 6,
   "metadata": {},
   "outputs": [
    {
     "name": "stderr",
     "output_type": "stream",
     "text": [
      "Loading checkpoint shards: 100%|██████████| 2/2 [00:02<00:00,  1.46s/it]\n"
     ]
    }
   ],
   "source": [
    "from transformers import AutoTokenizer, AutoModelForCausalLM, Qwen2ForCausalLM\n",
    "from peft import PeftModel\n",
    "import torch\n",
    "\n",
    "model_path = \"results/checkpoint-1250\"\n",
    "# Load the tokenizer (this should include the two new tokens you added)\n",
    "tokenizer = AutoTokenizer.from_pretrained(model_path)\n",
    "\n",
    "# Load the base model\n",
    "base_model = AutoModelForCausalLM.from_pretrained(\"Qwen/Qwen2.5-3B-Instruct\")\n",
    "\n",
    "# Resize token embeddings to match the new tokenizer size\n",
    "base_model.resize_token_embeddings(len(tokenizer))\n",
    "\n",
    "# Load the fine-tuned adapter model, if you're using PEFT\n",
    "model = PeftModel.from_pretrained(base_model, model_path)\n"
   ]
  },
  {
   "cell_type": "code",
   "execution_count": 12,
   "metadata": {},
   "outputs": [
    {
     "ename": "AttributeError",
     "evalue": "'list' object has no attribute 'shape'",
     "output_type": "error",
     "traceback": [
      "\u001b[0;31m---------------------------------------------------------------------------\u001b[0m",
      "\u001b[0;31mAttributeError\u001b[0m                            Traceback (most recent call last)",
      "Cell \u001b[0;32mIn[12], line 7\u001b[0m\n\u001b[1;32m      4\u001b[0m \u001b[38;5;66;03m# input_ids = tokenizer.apply_chat_template(messages, return_tensors=\"pt\", return_dict=True).to(\"cuda\")\u001b[39;00m\n\u001b[1;32m      6\u001b[0m messages \u001b[38;5;241m=\u001b[39m \u001b[38;5;124m\"\u001b[39m\u001b[38;5;124m<|im_start|>system\u001b[39m\u001b[38;5;130;01m\\n\u001b[39;00m\u001b[38;5;124m<|mrc|>True\u001b[39m\u001b[38;5;130;01m\\n\u001b[39;00m\u001b[38;5;124m**Question**\u001b[39m\u001b[38;5;130;01m\\n\u001b[39;00m\u001b[38;5;124mWere Scott Derrickson and Ed Wood of the same nationality?\u001b[39m\u001b[38;5;130;01m\\n\u001b[39;00m\u001b[38;5;124m<|summary|>False<|im_end|>\u001b[39m\u001b[38;5;130;01m\\n\u001b[39;00m\u001b[38;5;124m<|im_start|>user\u001b[39m\u001b[38;5;130;01m\\n\u001b[39;00m\u001b[38;5;124m[1] Ed Wood is a 1994 American biographical period comedy-drama film directed and produced by Tim Burton, and starring Johnny Depp as cult filmmaker Ed Wood.\u001b[39m\u001b[38;5;130;01m\\n\u001b[39;00m\u001b[38;5;124m[2] The film concerns the period in Wood\u001b[39m\u001b[38;5;124m'\u001b[39m\u001b[38;5;124ms life when he made his best-known films as well as his relationship with actor Bela Lugosi, played by Martin Landau.\u001b[39m\u001b[38;5;130;01m\\n\u001b[39;00m\u001b[38;5;124m[3] Sarah Jessica Parker, Patricia Arquette, Jeffrey Jones, Lisa Marie, and Bill Murray are among the supporting cast.\u001b[39m\u001b[38;5;130;01m\\n\u001b[39;00m\u001b[38;5;124m[4] Scott Derrickson (born July 16, 1966) is an American director, screenwriter and producer.\u001b[39m\u001b[38;5;130;01m\\n\u001b[39;00m\u001b[38;5;124m[5] He lives in Los Angeles, California.\u001b[39m\u001b[38;5;130;01m\\n\u001b[39;00m\u001b[38;5;124m[6] He is best known for directing horror films such as \u001b[39m\u001b[38;5;130;01m\\\"\u001b[39;00m\u001b[38;5;124mSinister\u001b[39m\u001b[38;5;130;01m\\\"\u001b[39;00m\u001b[38;5;124m, \u001b[39m\u001b[38;5;130;01m\\\"\u001b[39;00m\u001b[38;5;124mThe Exorcism of Emily Rose\u001b[39m\u001b[38;5;130;01m\\\"\u001b[39;00m\u001b[38;5;124m, and \u001b[39m\u001b[38;5;130;01m\\\"\u001b[39;00m\u001b[38;5;124mDeliver Us From Evil\u001b[39m\u001b[38;5;130;01m\\\"\u001b[39;00m\u001b[38;5;124m, as well as the 2016 Marvel Cinematic Universe installment, \u001b[39m\u001b[38;5;130;01m\\\"\u001b[39;00m\u001b[38;5;124mDoctor Strange.\u001b[39m\u001b[38;5;130;01m\\\"\u001b[39;00m\u001b[38;5;130;01m\\n\u001b[39;00m\u001b[38;5;124m[7] Woodson is a census-designated place (CDP) in Pulaski County, Arkansas, in the United States.\u001b[39m\u001b[38;5;130;01m\\n\u001b[39;00m\u001b[38;5;124m[8] Its population was 403 at the 2010 census.\u001b[39m\u001b[38;5;130;01m\\n\u001b[39;00m\u001b[38;5;124m[9] It is part of the Little Rock–North Little Rock–Conway Metropolitan Statistical Area.\u001b[39m\u001b[38;5;130;01m\\n\u001b[39;00m\u001b[38;5;124m[10] Woodson and its accompanying Woodson Lake and Wood Hollow are the namesake for Ed Wood Sr., a prominent plantation owner, trader, and businessman at the turn of the 20th century.\u001b[39m\u001b[38;5;130;01m\\n\u001b[39;00m\u001b[38;5;124m[11] Woodson is adjacent to the Wood Plantation, the largest of the plantations own by Ed Wood Sr.\u001b[39m\u001b[38;5;130;01m\\n\u001b[39;00m\u001b[38;5;124m[12] Tyler Bates (born June 5, 1965) is an American musician, music producer, and composer for films, television, and video games.\u001b[39m\u001b[38;5;130;01m\\n\u001b[39;00m\u001b[38;5;124m[13] Much of his work is in the action and horror film genres, with films like \u001b[39m\u001b[38;5;130;01m\\\"\u001b[39;00m\u001b[38;5;124mDawn of the Dead, 300, Sucker Punch,\u001b[39m\u001b[38;5;130;01m\\\"\u001b[39;00m\u001b[38;5;124m and \u001b[39m\u001b[38;5;130;01m\\\"\u001b[39;00m\u001b[38;5;124mJohn Wick.\u001b[39m\u001b[38;5;130;01m\\\"\u001b[39;00m\u001b[38;5;130;01m\\n\u001b[39;00m\u001b[38;5;124m[14] He has collaborated with directors like Zack Snyder, Rob Zombie, Neil Marshall, William Friedkin, Scott Derrickson, and James Gunn.\u001b[39m\u001b[38;5;130;01m\\n\u001b[39;00m\u001b[38;5;124m[15] With Gunn, he has scored every one of the director\u001b[39m\u001b[38;5;124m'\u001b[39m\u001b[38;5;124ms films; including \u001b[39m\u001b[38;5;130;01m\\\"\u001b[39;00m\u001b[38;5;124mGuardians of the Galaxy\u001b[39m\u001b[38;5;130;01m\\\"\u001b[39;00m\u001b[38;5;124m, which became one of the highest grossing domestic movies of 2014, and its 2017 sequel.\u001b[39m\u001b[38;5;130;01m\\n\u001b[39;00m\u001b[38;5;124m[16] In addition, he is also the lead guitarist of the American rock band Marilyn Manson, and produced its albums \u001b[39m\u001b[38;5;130;01m\\\"\u001b[39;00m\u001b[38;5;124mThe Pale Emperor\u001b[39m\u001b[38;5;130;01m\\\"\u001b[39;00m\u001b[38;5;124m and \u001b[39m\u001b[38;5;130;01m\\\"\u001b[39;00m\u001b[38;5;124mHeaven Upside Down\u001b[39m\u001b[38;5;130;01m\\\"\u001b[39;00m\u001b[38;5;124m.\u001b[39m\u001b[38;5;130;01m\\n\u001b[39;00m\u001b[38;5;124m[17] Edward Davis Wood Jr. (October 10, 1924 – December 10, 1978) was an American filmmaker, actor, writer, producer, and director.\u001b[39m\u001b[38;5;130;01m\\n\u001b[39;00m\u001b[38;5;124m[18] Deliver Us from Evil is a 2014 American supernatural horror film directed by Scott Derrickson and produced by Jerry Bruckheimer.\u001b[39m\u001b[38;5;130;01m\\n\u001b[39;00m\u001b[38;5;124m[19] The film is officially based on a 2001 non-fiction book entitled \u001b[39m\u001b[38;5;130;01m\\\"\u001b[39;00m\u001b[38;5;124mBeware the Night\u001b[39m\u001b[38;5;130;01m\\\"\u001b[39;00m\u001b[38;5;124m by Ralph Sarchie and Lisa Collier Cool, and its marketing campaign highlighted that it was \u001b[39m\u001b[38;5;130;01m\\\"\u001b[39;00m\u001b[38;5;124minspired by actual accounts\u001b[39m\u001b[38;5;130;01m\\\"\u001b[39;00m\u001b[38;5;124m.\u001b[39m\u001b[38;5;130;01m\\n\u001b[39;00m\u001b[38;5;124m[20] The film stars Eric Bana, Édgar Ramírez, Sean Harris, Olivia Munn, and Joel McHale in the main roles and was released on July 2, 2014.\u001b[39m\u001b[38;5;130;01m\\n\u001b[39;00m\u001b[38;5;124m[21] Adam Collis is an American filmmaker and actor.\u001b[39m\u001b[38;5;130;01m\\n\u001b[39;00m\u001b[38;5;124m[22] He attended the Duke University from 1986 to 1990 and the University of California, Los Angeles from 2007 to 2010.\u001b[39m\u001b[38;5;130;01m\\n\u001b[39;00m\u001b[38;5;124m[23] He also studied cinema at the University of Southern California from 1991 to 1997.\u001b[39m\u001b[38;5;130;01m\\n\u001b[39;00m\u001b[38;5;124m[24] Collis first work was the assistant director for the Scott Derrickson\u001b[39m\u001b[38;5;124m'\u001b[39m\u001b[38;5;124ms short \u001b[39m\u001b[38;5;130;01m\\\"\u001b[39;00m\u001b[38;5;124mLove in the Ruins\u001b[39m\u001b[38;5;130;01m\\\"\u001b[39;00m\u001b[38;5;124m (1995).\u001b[39m\u001b[38;5;130;01m\\n\u001b[39;00m\u001b[38;5;124m[25] In 1998, he played \u001b[39m\u001b[38;5;130;01m\\\"\u001b[39;00m\u001b[38;5;124mCrankshaft\u001b[39m\u001b[38;5;130;01m\\\"\u001b[39;00m\u001b[38;5;124m in Eric Koyanagi\u001b[39m\u001b[38;5;124m'\u001b[39m\u001b[38;5;124ms \u001b[39m\u001b[38;5;130;01m\\\"\u001b[39;00m\u001b[38;5;124mHundred Percent\u001b[39m\u001b[38;5;130;01m\\\"\u001b[39;00m\u001b[38;5;124m.\u001b[39m\u001b[38;5;130;01m\\n\u001b[39;00m\u001b[38;5;124m[26] Sinister is a 2012 supernatural horror film directed by Scott Derrickson and written by Derrickson and C. Robert Cargill.\u001b[39m\u001b[38;5;130;01m\\n\u001b[39;00m\u001b[38;5;124m[27] It stars Ethan Hawke as fictional true-crime writer Ellison Oswalt who discovers a box of home movies in his attic that puts his family in danger.\u001b[39m\u001b[38;5;130;01m\\n\u001b[39;00m\u001b[38;5;124m[28] Conrad Brooks (born Conrad Biedrzycki on January 3, 1931 in Baltimore, Maryland) is an American actor.\u001b[39m\u001b[38;5;130;01m\\n\u001b[39;00m\u001b[38;5;124m[29] He moved to Hollywood, California in 1948 to pursue a career in acting.\u001b[39m\u001b[38;5;130;01m\\n\u001b[39;00m\u001b[38;5;124m[30] He got his start in movies appearing in Ed Wood films such as \u001b[39m\u001b[38;5;130;01m\\\"\u001b[39;00m\u001b[38;5;124mPlan 9 from Outer Space\u001b[39m\u001b[38;5;130;01m\\\"\u001b[39;00m\u001b[38;5;124m, \u001b[39m\u001b[38;5;130;01m\\\"\u001b[39;00m\u001b[38;5;124mGlen or Glenda\u001b[39m\u001b[38;5;130;01m\\\"\u001b[39;00m\u001b[38;5;124m, and \u001b[39m\u001b[38;5;130;01m\\\"\u001b[39;00m\u001b[38;5;124mJail Bait.\u001b[39m\u001b[38;5;130;01m\\\"\u001b[39;00m\u001b[38;5;130;01m\\n\u001b[39;00m\u001b[38;5;124m[31] He took a break from acting during the 1960s and 1970s but due to the ongoing interest in the films of Ed Wood, he reemerged in the 1980s and has become a prolific actor.\u001b[39m\u001b[38;5;130;01m\\n\u001b[39;00m\u001b[38;5;124m[32] He also has since gone on to write, produce and direct several films.\u001b[39m\u001b[38;5;130;01m\\n\u001b[39;00m\u001b[38;5;124m[33] Doctor Strange is a 2016 American superhero film based on the Marvel Comics character of the same name, produced by Marvel Studios and distributed by Walt Disney Studios Motion Pictures.\u001b[39m\u001b[38;5;130;01m\\n\u001b[39;00m\u001b[38;5;124m[34] It is the fourteenth film of the Marvel Cinematic Universe (MCU).\u001b[39m\u001b[38;5;130;01m\\n\u001b[39;00m\u001b[38;5;124m[35] The film was directed by Scott Derrickson, who wrote it with Jon Spaihts and C. Robert Cargill, and stars Benedict Cumberbatch as Stephen Strange, along with Chiwetel Ejiofor, Rachel McAdams, Benedict Wong, Michael Stuhlbarg, Benjamin Bratt, Scott Adkins, Mads Mikkelsen, and Tilda Swinton.\u001b[39m\u001b[38;5;130;01m\\n\u001b[39;00m\u001b[38;5;124m[36] In \u001b[39m\u001b[38;5;130;01m\\\"\u001b[39;00m\u001b[38;5;124mDoctor Strange\u001b[39m\u001b[38;5;130;01m\\\"\u001b[39;00m\u001b[38;5;124m, surgeon Strange learns the mystic arts after a career-ending car accident.<|im_end|>\u001b[39m\u001b[38;5;130;01m\\n\u001b[39;00m\u001b[38;5;124m\"\u001b[39m\n\u001b[0;32m----> 7\u001b[0m input_ids \u001b[38;5;241m=\u001b[39m tokenizer(messages, outputs \u001b[38;5;241m=\u001b[39m \u001b[43mmodel\u001b[49m\u001b[38;5;241;43m.\u001b[39;49m\u001b[43mgenerate\u001b[49m\u001b[43m(\u001b[49m\u001b[38;5;241;43m*\u001b[39;49m\u001b[38;5;241;43m*\u001b[39;49m\u001b[43minput_ids\u001b[49m\u001b[43m,\u001b[49m\u001b[43m \u001b[49m\u001b[43mmax_new_tokens\u001b[49m\u001b[38;5;241;43m=\u001b[39;49m\u001b[38;5;241;43m256\u001b[39;49m\u001b[43m)\u001b[49m)\n\u001b[1;32m      8\u001b[0m \u001b[38;5;66;03m# outputs = model.generate(**input_ids, max_new_tokens=256)\u001b[39;00m\n\u001b[1;32m      9\u001b[0m outputs \u001b[38;5;241m=\u001b[39m model\u001b[38;5;241m.\u001b[39mgenerate(input_ids, max_new_tokens\u001b[38;5;241m=\u001b[39m\u001b[38;5;241m2048\u001b[39m)\n",
      "File \u001b[0;32m~/workspace/XAI_rationale-inference-LLM/.venv/lib/python3.8/site-packages/peft/peft_model.py:1190\u001b[0m, in \u001b[0;36mPeftModelForCausalLM.generate\u001b[0;34m(self, *args, **kwargs)\u001b[0m\n\u001b[1;32m   1188\u001b[0m     \u001b[38;5;28;01mwith\u001b[39;00m \u001b[38;5;28mself\u001b[39m\u001b[38;5;241m.\u001b[39m_enable_peft_forward_hooks(\u001b[38;5;241m*\u001b[39margs, \u001b[38;5;241m*\u001b[39m\u001b[38;5;241m*\u001b[39mkwargs):\n\u001b[1;32m   1189\u001b[0m         kwargs \u001b[38;5;241m=\u001b[39m {k: v \u001b[38;5;28;01mfor\u001b[39;00m k, v \u001b[38;5;129;01min\u001b[39;00m kwargs\u001b[38;5;241m.\u001b[39mitems() \u001b[38;5;28;01mif\u001b[39;00m k \u001b[38;5;129;01mnot\u001b[39;00m \u001b[38;5;129;01min\u001b[39;00m \u001b[38;5;28mself\u001b[39m\u001b[38;5;241m.\u001b[39mspecial_peft_forward_args}\n\u001b[0;32m-> 1190\u001b[0m         outputs \u001b[38;5;241m=\u001b[39m \u001b[38;5;28;43mself\u001b[39;49m\u001b[38;5;241;43m.\u001b[39;49m\u001b[43mbase_model\u001b[49m\u001b[38;5;241;43m.\u001b[39;49m\u001b[43mgenerate\u001b[49m\u001b[43m(\u001b[49m\u001b[38;5;241;43m*\u001b[39;49m\u001b[43margs\u001b[49m\u001b[43m,\u001b[49m\u001b[43m \u001b[49m\u001b[38;5;241;43m*\u001b[39;49m\u001b[38;5;241;43m*\u001b[39;49m\u001b[43mkwargs\u001b[49m\u001b[43m)\u001b[49m\n\u001b[1;32m   1191\u001b[0m \u001b[38;5;28;01melse\u001b[39;00m:\n\u001b[1;32m   1192\u001b[0m     outputs \u001b[38;5;241m=\u001b[39m \u001b[38;5;28mself\u001b[39m\u001b[38;5;241m.\u001b[39mbase_model\u001b[38;5;241m.\u001b[39mgenerate(\u001b[38;5;241m*\u001b[39m\u001b[38;5;241m*\u001b[39mkwargs)\n",
      "File \u001b[0;32m~/workspace/XAI_rationale-inference-LLM/.venv/lib/python3.8/site-packages/torch/utils/_contextlib.py:115\u001b[0m, in \u001b[0;36mcontext_decorator.<locals>.decorate_context\u001b[0;34m(*args, **kwargs)\u001b[0m\n\u001b[1;32m    112\u001b[0m \u001b[38;5;129m@functools\u001b[39m\u001b[38;5;241m.\u001b[39mwraps(func)\n\u001b[1;32m    113\u001b[0m \u001b[38;5;28;01mdef\u001b[39;00m \u001b[38;5;21mdecorate_context\u001b[39m(\u001b[38;5;241m*\u001b[39margs, \u001b[38;5;241m*\u001b[39m\u001b[38;5;241m*\u001b[39mkwargs):\n\u001b[1;32m    114\u001b[0m     \u001b[38;5;28;01mwith\u001b[39;00m ctx_factory():\n\u001b[0;32m--> 115\u001b[0m         \u001b[38;5;28;01mreturn\u001b[39;00m \u001b[43mfunc\u001b[49m\u001b[43m(\u001b[49m\u001b[38;5;241;43m*\u001b[39;49m\u001b[43margs\u001b[49m\u001b[43m,\u001b[49m\u001b[43m \u001b[49m\u001b[38;5;241;43m*\u001b[39;49m\u001b[38;5;241;43m*\u001b[39;49m\u001b[43mkwargs\u001b[49m\u001b[43m)\u001b[49m\n",
      "File \u001b[0;32m~/workspace/XAI_rationale-inference-LLM/.venv/lib/python3.8/site-packages/transformers/generation/utils.py:1698\u001b[0m, in \u001b[0;36mGenerationMixin.generate\u001b[0;34m(self, inputs, generation_config, logits_processor, stopping_criteria, prefix_allowed_tokens_fn, synced_gpus, assistant_model, streamer, negative_prompt_ids, negative_prompt_attention_mask, **kwargs)\u001b[0m\n\u001b[1;32m   1694\u001b[0m \u001b[38;5;66;03m# 3. Define model inputs\u001b[39;00m\n\u001b[1;32m   1695\u001b[0m inputs_tensor, model_input_name, model_kwargs \u001b[38;5;241m=\u001b[39m \u001b[38;5;28mself\u001b[39m\u001b[38;5;241m.\u001b[39m_prepare_model_inputs(\n\u001b[1;32m   1696\u001b[0m     inputs, generation_config\u001b[38;5;241m.\u001b[39mbos_token_id, model_kwargs\n\u001b[1;32m   1697\u001b[0m )\n\u001b[0;32m-> 1698\u001b[0m batch_size \u001b[38;5;241m=\u001b[39m \u001b[43minputs_tensor\u001b[49m\u001b[38;5;241;43m.\u001b[39;49m\u001b[43mshape\u001b[49m[\u001b[38;5;241m0\u001b[39m]\n\u001b[1;32m   1700\u001b[0m device \u001b[38;5;241m=\u001b[39m inputs_tensor\u001b[38;5;241m.\u001b[39mdevice\n\u001b[1;32m   1701\u001b[0m \u001b[38;5;28mself\u001b[39m\u001b[38;5;241m.\u001b[39m_prepare_special_tokens(generation_config, kwargs_has_attention_mask, device\u001b[38;5;241m=\u001b[39mdevice)\n",
      "\u001b[0;31mAttributeError\u001b[0m: 'list' object has no attribute 'shape'"
     ]
    },
    {
     "ename": "",
     "evalue": "",
     "output_type": "error",
     "traceback": [
      "\u001b[1;31m현재 셀 또는 이전 셀에서 코드를 실행하는 동안 Kernel이 충돌했습니다. \n",
      "\u001b[1;31m셀의 코드를 검토하여 가능한 오류 원인을 식별하세요. \n",
      "\u001b[1;31m자세한 내용을 보려면 <a href='https://aka.ms/vscodeJupyterKernelCrash'>여기</a>를 클릭하세요. \n",
      "\u001b[1;31m자세한 내용은 Jupyter <a href='command:jupyter.viewOutput'>로그</a>를 참조하세요."
     ]
    }
   ],
   "source": [
    "instruction = \"<|mrc|>True\\n**Question**\\n{}\\n<|summary|>False\".format(\"Were Scott Derrickson and Ed Wood of the same nationality?\")\n",
    "\"[1] Ed Wood is a 1994 American biographical period comedy-drama film directed and produced by Tim Burton, and starring Johnny Depp as cult filmmaker Ed Wood.\n",
    "\n",
    "prompt = (\n",
    "    \"**Document**\\n{}\".format()\n",
    ")\n",
    "response = \"**Answer**\\n{}\\n**Summary**\\n\".format(answer)\n",
    "# response = \"**Answer**: {}\\n**Supporting Sentences**: {}\".format(answer, supporting_sentence)\n",
    "messages = [\n",
    "    {\"role\": \"system\", \"content\": instruction},\n",
    "    {\"role\": \"user\", \"content\": sentences},\n",
    "    {\"role\": \"assistant\", \"content\": response},\n",
    "]\n",
    "\n",
    "messages = [\n",
    "    {\"role\": \"user\", \"content\": \"Write me a poem about Machine Learning.\"},\n",
    "]\n",
    "# input_ids = tokenizer.apply_chat_template(messages, return_tensors=\"pt\", return_dict=True).to(\"cuda\")\n",
    "\n",
    "\n",
    "\n",
    "messages = \"<|im_start|>system\\n<|mrc|>True\\n**Question**\\nWere Scott Derrickson and Ed Wood of the same nationality?\\n<|summary|>False<|im_end|>\\n<|im_start|>user\\n[1] Ed Wood is a 1994 American biographical period comedy-drama film directed and produced by Tim Burton, and starring Johnny Depp as cult filmmaker Ed Wood.\\n[2] The film concerns the period in Wood's life when he made his best-known films as well as his relationship with actor Bela Lugosi, played by Martin Landau.\\n[3] Sarah Jessica Parker, Patricia Arquette, Jeffrey Jones, Lisa Marie, and Bill Murray are among the supporting cast.\\n[4] Scott Derrickson (born July 16, 1966) is an American director, screenwriter and producer.\\n[5] He lives in Los Angeles, California.\\n[6] He is best known for directing horror films such as \\\"Sinister\\\", \\\"The Exorcism of Emily Rose\\\", and \\\"Deliver Us From Evil\\\", as well as the 2016 Marvel Cinematic Universe installment, \\\"Doctor Strange.\\\"\\n[7] Woodson is a census-designated place (CDP) in Pulaski County, Arkansas, in the United States.\\n[8] Its population was 403 at the 2010 census.\\n[9] It is part of the Little Rock–North Little Rock–Conway Metropolitan Statistical Area.\\n[10] Woodson and its accompanying Woodson Lake and Wood Hollow are the namesake for Ed Wood Sr., a prominent plantation owner, trader, and businessman at the turn of the 20th century.\\n[11] Woodson is adjacent to the Wood Plantation, the largest of the plantations own by Ed Wood Sr.\\n[12] Tyler Bates (born June 5, 1965) is an American musician, music producer, and composer for films, television, and video games.\\n[13] Much of his work is in the action and horror film genres, with films like \\\"Dawn of the Dead, 300, Sucker Punch,\\\" and \\\"John Wick.\\\"\\n[14] He has collaborated with directors like Zack Snyder, Rob Zombie, Neil Marshall, William Friedkin, Scott Derrickson, and James Gunn.\\n[15] With Gunn, he has scored every one of the director's films; including \\\"Guardians of the Galaxy\\\", which became one of the highest grossing domestic movies of 2014, and its 2017 sequel.\\n[16] In addition, he is also the lead guitarist of the American rock band Marilyn Manson, and produced its albums \\\"The Pale Emperor\\\" and \\\"Heaven Upside Down\\\".\\n[17] Edward Davis Wood Jr. (October 10, 1924 – December 10, 1978) was an American filmmaker, actor, writer, producer, and director.\\n[18] Deliver Us from Evil is a 2014 American supernatural horror film directed by Scott Derrickson and produced by Jerry Bruckheimer.\\n[19] The film is officially based on a 2001 non-fiction book entitled \\\"Beware the Night\\\" by Ralph Sarchie and Lisa Collier Cool, and its marketing campaign highlighted that it was \\\"inspired by actual accounts\\\".\\n[20] The film stars Eric Bana, Édgar Ramírez, Sean Harris, Olivia Munn, and Joel McHale in the main roles and was released on July 2, 2014.\\n[21] Adam Collis is an American filmmaker and actor.\\n[22] He attended the Duke University from 1986 to 1990 and the University of California, Los Angeles from 2007 to 2010.\\n[23] He also studied cinema at the University of Southern California from 1991 to 1997.\\n[24] Collis first work was the assistant director for the Scott Derrickson's short \\\"Love in the Ruins\\\" (1995).\\n[25] In 1998, he played \\\"Crankshaft\\\" in Eric Koyanagi's \\\"Hundred Percent\\\".\\n[26] Sinister is a 2012 supernatural horror film directed by Scott Derrickson and written by Derrickson and C. Robert Cargill.\\n[27] It stars Ethan Hawke as fictional true-crime writer Ellison Oswalt who discovers a box of home movies in his attic that puts his family in danger.\\n[28] Conrad Brooks (born Conrad Biedrzycki on January 3, 1931 in Baltimore, Maryland) is an American actor.\\n[29] He moved to Hollywood, California in 1948 to pursue a career in acting.\\n[30] He got his start in movies appearing in Ed Wood films such as \\\"Plan 9 from Outer Space\\\", \\\"Glen or Glenda\\\", and \\\"Jail Bait.\\\"\\n[31] He took a break from acting during the 1960s and 1970s but due to the ongoing interest in the films of Ed Wood, he reemerged in the 1980s and has become a prolific actor.\\n[32] He also has since gone on to write, produce and direct several films.\\n[33] Doctor Strange is a 2016 American superhero film based on the Marvel Comics character of the same name, produced by Marvel Studios and distributed by Walt Disney Studios Motion Pictures.\\n[34] It is the fourteenth film of the Marvel Cinematic Universe (MCU).\\n[35] The film was directed by Scott Derrickson, who wrote it with Jon Spaihts and C. Robert Cargill, and stars Benedict Cumberbatch as Stephen Strange, along with Chiwetel Ejiofor, Rachel McAdams, Benedict Wong, Michael Stuhlbarg, Benjamin Bratt, Scott Adkins, Mads Mikkelsen, and Tilda Swinton.\\n[36] In \\\"Doctor Strange\\\", surgeon Strange learns the mystic arts after a career-ending car accident.<|im_end|>\\n\"\n",
    "input_ids = tokenizer(messages, outputs = model.generate(**input_ids, max_new_tokens=256))\n",
    "# outputs = model.generate(**input_ids, max_new_tokens=256)\n",
    "outputs = model.generate(input_ids, max_new_tokens=2048)\n",
    "print(tokenizer.decode(outputs[0]))\n",
    "\n",
    "\n",
    "# input_ids = tokenizer(input_text, return_tensors=\"pt\")\n",
    "\n",
    "# outputs = model.generate(**input_ids, max_new_tokens=4096)\n",
    "# print(tokenizer.decode(outputs[0]))"
   ]
  },
  {
   "cell_type": "code",
   "execution_count": 3,
   "metadata": {},
   "outputs": [],
   "source": [
    "import json\n",
    "with open(\"data/dev_data.json\", \"r\", encoding=\"utf-8\") as file:\n",
    "    dev_data = json.load(file)"
   ]
  },
  {
   "cell_type": "code",
   "execution_count": 4,
   "metadata": {},
   "outputs": [
    {
     "name": "stdout",
     "output_type": "stream",
     "text": [
      "<|begin_of_text|><|start_header_id|>system<|end_header_id|>\n",
      "\n",
      "<Instruction>\n",
      "Find the correct answer and extract it as is from the related document. Then, extract the supporting evidence sentence by sentence, indicating the sentence number for each sentence as it appears in the document.\n",
      "\n",
      "<Output format>\n",
      "<Answer>: \n",
      "<Reason>: [Sentence number] (sentence extracted from the document)<|eot_id|><|start_header_id|>user<|end_header_id|>\n",
      "\n",
      "<Question>\n",
      "Were Scott Derrickson and Ed Wood of the same nationality?\n",
      "</Question>\n",
      "\n",
      "<Related Document>\n",
      "Document 1 : Ed Wood (film)\n",
      "[1] Ed Wood is a 1994 American biographical period comedy-drama film directed and produced by Tim Burton, and starring Johnny Depp as cult filmmaker Ed Wood.\n",
      "[2]  The film concerns the period in Wood's life when he made his best-known films as well as his relationship with actor Bela Lugosi, played by Martin Landau.\n",
      "[3]  Sarah Jessica Parker, Patricia Arquette, Jeffrey Jones, Lisa Marie, and Bill Murray are among the supporting cast.\n",
      "\n",
      "Document 2 : Scott Derrickson\n",
      "[4] Scott Derrickson (born July 16, 1966) is an American director, screenwriter and producer.\n",
      "[5]  He lives in Los Angeles, California.\n",
      "[6]  He is best known for directing horror films such as \"Sinister\", \"The Exorcism of Emily Rose\", and \"Deliver Us From Evil\", as well as the 2016 Marvel Cinematic Universe installment, \"Doctor Strange.\"\n",
      "\n",
      "Document 3 : Woodson, Arkansas\n",
      "[7] Woodson is a census-designated place (CDP) in Pulaski County, Arkansas, in the United States.\n",
      "[8]  Its population was 403 at the 2010 census.\n",
      "[9]  It is part of the Little Rock–North Little Rock–Conway Metropolitan Statistical Area.\n",
      "[10]  Woodson and its accompanying Woodson Lake and Wood Hollow are the namesake for Ed Wood Sr., a prominent plantation owner, trader, and businessman at the turn of the 20th century.\n",
      "[11]  Woodson is adjacent to the Wood Plantation, the largest of the plantations own by Ed Wood Sr.\n",
      "\n",
      "Document 4 : Tyler Bates\n",
      "[12] Tyler Bates (born June 5, 1965) is an American musician, music producer, and composer for films, television, and video games.\n",
      "[13]  Much of his work is in the action and horror film genres, with films like \"Dawn of the Dead, 300, Sucker Punch,\" and \"John Wick.\"\n",
      "[14]  He has collaborated with directors like Zack Snyder, Rob Zombie, Neil Marshall, William Friedkin, Scott Derrickson, and James Gunn.\n",
      "[15]  With Gunn, he has scored every one of the director's films; including \"Guardians of the Galaxy\", which became one of the highest grossing domestic movies of 2014, and its 2017 sequel.\n",
      "[16]  In addition, he is also the lead guitarist of the American rock band Marilyn Manson, and produced its albums \"The Pale Emperor\" and \"Heaven Upside Down\".\n",
      "\n",
      "Document 5 : Ed Wood\n",
      "[17] Edward Davis Wood Jr. (October 10, 1924 – December 10, 1978) was an American filmmaker, actor, writer, producer, and director.\n",
      "\n",
      "Document 6 : Deliver Us from Evil (2014 film)\n",
      "[18] Deliver Us from Evil is a 2014 American supernatural horror film directed by Scott Derrickson and produced by Jerry Bruckheimer.\n",
      "[19]  The film is officially based on a 2001 non-fiction book entitled \"Beware the Night\" by Ralph Sarchie and Lisa Collier Cool, and its marketing campaign highlighted that it was \"inspired by actual accounts\".\n",
      "[20]  The film stars Eric Bana, Édgar Ramírez, Sean Harris, Olivia Munn, and Joel McHale in the main roles and was released on July 2, 2014.\n",
      "\n",
      "Document 7 : Adam Collis\n",
      "[21] Adam Collis is an American filmmaker and actor.\n",
      "[22]  He attended the Duke University from 1986 to 1990 and the University of California, Los Angeles from 2007 to 2010.\n",
      "[23]  He also studied cinema at the University of Southern California from 1991 to 1997.\n",
      "[24]  Collis first work was the assistant director for the Scott Derrickson's short \"Love in the Ruins\" (1995).\n",
      "[25]  In 1998, he played \"Crankshaft\" in Eric Koyanagi's \"Hundred Percent\".\n",
      "\n",
      "Document 8 : Sinister (film)\n",
      "[26] Sinister is a 2012 supernatural horror film directed by Scott Derrickson and written by Derrickson and C. Robert Cargill.\n",
      "[27]  It stars Ethan Hawke as fictional true-crime writer Ellison Oswalt who discovers a box of home movies in his attic that puts his family in danger.\n",
      "\n",
      "Document 9 : Conrad Brooks\n",
      "[28] Conrad Brooks (born Conrad Biedrzycki on January 3, 1931 in Baltimore, Maryland) is an American actor.\n",
      "[29]  He moved to Hollywood, California in 1948 to pursue a career in acting.\n",
      "[30]  He got his start in movies appearing in Ed Wood films such as \"Plan 9 from Outer Space\", \"Glen or Glenda\", and \"Jail Bait.\"\n",
      "[31]  He took a break from acting during the 1960s and 1970s but due to the ongoing interest in the films of Ed Wood, he reemerged in the 1980s and has become a prolific actor.\n",
      "[32]  He also has since gone on to write, produce and direct several films.\n",
      "\n",
      "Document 10 : Doctor Strange (2016 film)\n",
      "[33] Doctor Strange is a 2016 American superhero film based on the Marvel Comics character of the same name, produced by Marvel Studios and distributed by Walt Disney Studios Motion Pictures.\n",
      "[34]  It is the fourteenth film of the Marvel Cinematic Universe (MCU).\n",
      "[35]  The film was directed by Scott Derrickson, who wrote it with Jon Spaihts and C. Robert Cargill, and stars Benedict Cumberbatch as Stephen Strange, along with Chiwetel Ejiofor, Rachel McAdams, Benedict Wong, Michael Stuhlbarg, Benjamin Bratt, Scott Adkins, Mads Mikkelsen, and Tilda Swinton.\n",
      "[36]  In \"Doctor Strange\", surgeon Strange learns the mystic arts after a career-ending car accident.\n",
      "\n",
      "</Related Document>\n",
      "\n",
      "<Answer>:<|eot_id|>\n"
     ]
    }
   ],
   "source": [
    "print(dev_data[0][\"text\"])"
   ]
  },
  {
   "cell_type": "code",
   "execution_count": 1,
   "metadata": {},
   "outputs": [
    {
     "name": "stdout",
     "output_type": "stream",
     "text": [
      "<bos><start_of_turn>user\n",
      "<Instruction>\n",
      "Read the provided <Related Document>, find the <Answer> to the given <Question>, and extract it from the <Related Document>. Additionally, identify the <Supporting Sentence> in the <Related Document> that is critical for inferring the <Answer>. The <Supporting Sentence> should be extracted using the sentence numbers from the <Related Document>. You must strictly follow the <Output format> and provide valid information for all items. There is nothing that cannot be filled. I repeat, the <Supporting Sentence> must be extracted strictly in the form of sentence numbers. If you output it as the sentence content instead, you will face significant penalties.\n",
      "\n",
      "<Output format>\n",
      "<Answer>:\n",
      "<Supporting Sentence>: [sentence number]\n",
      "\n",
      "<Question>\n",
      "Were Scott Derrickson and Ed Wood of the same nationality?\n",
      "</Question>\n",
      "\n",
      "<Related Document>\n",
      "Document 1 : Ed Wood (film)\n",
      "[1] Ed Wood is a 1994 American biographical period comedy-drama film directed and produced by Tim Burton, and starring Johnny Depp as cult filmmaker Ed Wood.\n",
      "[2]  The film concerns the period in Wood's life when he made his best-known films as well as his relationship with actor Bela Lugosi, played by Martin Landau.\n",
      "[3]  Sarah Jessica Parker, Patricia Arquette, Jeffrey Jones, Lisa Marie, and Bill Murray are among the supporting cast.\n",
      "\n",
      "Document 2 : Scott Derrickson\n",
      "[4] Scott Derrickson (born July 16, 1966) is an American director, screenwriter and producer.\n",
      "[5]  He lives in Los Angeles, California.\n",
      "[6]  He is best known for directing horror films such as \"Sinister\", \"The Exorcism of Emily Rose\", and \"Deliver Us From Evil\", as well as the 2016 Marvel Cinematic Universe installment, \"Doctor Strange.\"\n",
      "\n",
      "Document 3 : Woodson, Arkansas\n",
      "[7] Woodson is a census-designated place (CDP) in Pulaski County, Arkansas, in the United States.\n",
      "[8]  Its population was 403 at the 2010 census.\n",
      "[9]  It is part of the Little Rock–North Little Rock–Conway Metropolitan Statistical Area.\n",
      "[10]  Woodson and its accompanying Woodson Lake and Wood Hollow are the namesake for Ed Wood Sr., a prominent plantation owner, trader, and businessman at the turn of the 20th century.\n",
      "[11]  Woodson is adjacent to the Wood Plantation, the largest of the plantations own by Ed Wood Sr.\n",
      "\n",
      "Document 4 : Tyler Bates\n",
      "[12] Tyler Bates (born June 5, 1965) is an American musician, music producer, and composer for films, television, and video games.\n",
      "[13]  Much of his work is in the action and horror film genres, with films like \"Dawn of the Dead, 300, Sucker Punch,\" and \"John Wick.\"\n",
      "[14]  He has collaborated with directors like Zack Snyder, Rob Zombie, Neil Marshall, William Friedkin, Scott Derrickson, and James Gunn.\n",
      "[15]  With Gunn, he has scored every one of the director's films; including \"Guardians of the Galaxy\", which became one of the highest grossing domestic movies of 2014, and its 2017 sequel.\n",
      "[16]  In addition, he is also the lead guitarist of the American rock band Marilyn Manson, and produced its albums \"The Pale Emperor\" and \"Heaven Upside Down\".\n",
      "\n",
      "Document 5 : Ed Wood\n",
      "[17] Edward Davis Wood Jr. (October 10, 1924 – December 10, 1978) was an American filmmaker, actor, writer, producer, and director.\n",
      "\n",
      "Document 6 : Deliver Us from Evil (2014 film)\n",
      "[18] Deliver Us from Evil is a 2014 American supernatural horror film directed by Scott Derrickson and produced by Jerry Bruckheimer.\n",
      "[19]  The film is officially based on a 2001 non-fiction book entitled \"Beware the Night\" by Ralph Sarchie and Lisa Collier Cool, and its marketing campaign highlighted that it was \"inspired by actual accounts\".\n",
      "[20]  The film stars Eric Bana, Édgar Ramírez, Sean Harris, Olivia Munn, and Joel McHale in the main roles and was released on July 2, 2014.\n",
      "\n",
      "Document 7 : Adam Collis\n",
      "[21] Adam Collis is an American filmmaker and actor.\n",
      "[22]  He attended the Duke University from 1986 to 1990 and the University of California, Los Angeles from 2007 to 2010.\n",
      "[23]  He also studied cinema at the University of Southern California from 1991 to 1997.\n",
      "[24]  Collis first work was the assistant director for the Scott Derrickson's short \"Love in the Ruins\" (1995).\n",
      "[25]  In 1998, he played \"Crankshaft\" in Eric Koyanagi's \"Hundred Percent\".\n",
      "\n",
      "Document 8 : Sinister (film)\n",
      "[26] Sinister is a 2012 supernatural horror film directed by Scott Derrickson and written by Derrickson and C. Robert Cargill.\n",
      "[27]  It stars Ethan Hawke as fictional true-crime writer Ellison Oswalt who discovers a box of home movies in his attic that puts his family in danger.\n",
      "\n",
      "Document 9 : Conrad Brooks\n",
      "[28] Conrad Brooks (born Conrad Biedrzycki on January 3, 1931 in Baltimore, Maryland) is an American actor.\n",
      "[29]  He moved to Hollywood, California in 1948 to pursue a career in acting.\n",
      "[30]  He got his start in movies appearing in Ed Wood films such as \"Plan 9 from Outer Space\", \"Glen or Glenda\", and \"Jail Bait.\"\n",
      "[31]  He took a break from acting during the 1960s and 1970s but due to the ongoing interest in the films of Ed Wood, he reemerged in the 1980s and has become a prolific actor.\n",
      "[32]  He also has since gone on to write, produce and direct several films.\n",
      "\n",
      "Document 10 : Doctor Strange (2016 film)\n",
      "[33] Doctor Strange is a 2016 American superhero film based on the Marvel Comics character of the same name, produced by Marvel Studios and distributed by Walt Disney Studios Motion Pictures.\n",
      "[34]  It is the fourteenth film of the Marvel Cinematic Universe (MCU).\n",
      "[35]  The film was directed by Scott Derrickson, who wrote it with Jon Spaihts and C. Robert Cargill, and stars Benedict Cumberbatch as Stephen Strange, along with Chiwetel Ejiofor, Rachel McAdams, Benedict Wong, Michael Stuhlbarg, Benjamin Bratt, Scott Adkins, Mads Mikkelsen, and Tilda Swinton.\n",
      "[36]  In \"Doctor Strange\", surgeon Strange learns the mystic arts after a career-ending car accident.\n",
      "\n",
      "</Related Document>\n",
      "\n",
      "<Answer>:<end_of_turn>\n",
      "\n"
     ]
    }
   ],
   "source": [
    "print(\"<bos><start_of_turn>user\\n<Instruction>\\nRead the provided <Related Document>, find the <Answer> to the given <Question>, and extract it from the <Related Document>. Additionally, identify the <Supporting Sentence> in the <Related Document> that is critical for inferring the <Answer>. The <Supporting Sentence> should be extracted using the sentence numbers from the <Related Document>. You must strictly follow the <Output format> and provide valid information for all items. There is nothing that cannot be filled. I repeat, the <Supporting Sentence> must be extracted strictly in the form of sentence numbers. If you output it as the sentence content instead, you will face significant penalties.\\n\\n<Output format>\\n<Answer>:\\n<Supporting Sentence>: [sentence number]\\n\\n<Question>\\nWere Scott Derrickson and Ed Wood of the same nationality?\\n</Question>\\n\\n<Related Document>\\nDocument 1 : Ed Wood (film)\\n[1] Ed Wood is a 1994 American biographical period comedy-drama film directed and produced by Tim Burton, and starring Johnny Depp as cult filmmaker Ed Wood.\\n[2]  The film concerns the period in Wood's life when he made his best-known films as well as his relationship with actor Bela Lugosi, played by Martin Landau.\\n[3]  Sarah Jessica Parker, Patricia Arquette, Jeffrey Jones, Lisa Marie, and Bill Murray are among the supporting cast.\\n\\nDocument 2 : Scott Derrickson\\n[4] Scott Derrickson (born July 16, 1966) is an American director, screenwriter and producer.\\n[5]  He lives in Los Angeles, California.\\n[6]  He is best known for directing horror films such as \\\"Sinister\\\", \\\"The Exorcism of Emily Rose\\\", and \\\"Deliver Us From Evil\\\", as well as the 2016 Marvel Cinematic Universe installment, \\\"Doctor Strange.\\\"\\n\\nDocument 3 : Woodson, Arkansas\\n[7] Woodson is a census-designated place (CDP) in Pulaski County, Arkansas, in the United States.\\n[8]  Its population was 403 at the 2010 census.\\n[9]  It is part of the Little Rock–North Little Rock–Conway Metropolitan Statistical Area.\\n[10]  Woodson and its accompanying Woodson Lake and Wood Hollow are the namesake for Ed Wood Sr., a prominent plantation owner, trader, and businessman at the turn of the 20th century.\\n[11]  Woodson is adjacent to the Wood Plantation, the largest of the plantations own by Ed Wood Sr.\\n\\nDocument 4 : Tyler Bates\\n[12] Tyler Bates (born June 5, 1965) is an American musician, music producer, and composer for films, television, and video games.\\n[13]  Much of his work is in the action and horror film genres, with films like \\\"Dawn of the Dead, 300, Sucker Punch,\\\" and \\\"John Wick.\\\"\\n[14]  He has collaborated with directors like Zack Snyder, Rob Zombie, Neil Marshall, William Friedkin, Scott Derrickson, and James Gunn.\\n[15]  With Gunn, he has scored every one of the director's films; including \\\"Guardians of the Galaxy\\\", which became one of the highest grossing domestic movies of 2014, and its 2017 sequel.\\n[16]  In addition, he is also the lead guitarist of the American rock band Marilyn Manson, and produced its albums \\\"The Pale Emperor\\\" and \\\"Heaven Upside Down\\\".\\n\\nDocument 5 : Ed Wood\\n[17] Edward Davis Wood Jr. (October 10, 1924 – December 10, 1978) was an American filmmaker, actor, writer, producer, and director.\\n\\nDocument 6 : Deliver Us from Evil (2014 film)\\n[18] Deliver Us from Evil is a 2014 American supernatural horror film directed by Scott Derrickson and produced by Jerry Bruckheimer.\\n[19]  The film is officially based on a 2001 non-fiction book entitled \\\"Beware the Night\\\" by Ralph Sarchie and Lisa Collier Cool, and its marketing campaign highlighted that it was \\\"inspired by actual accounts\\\".\\n[20]  The film stars Eric Bana, Édgar Ramírez, Sean Harris, Olivia Munn, and Joel McHale in the main roles and was released on July 2, 2014.\\n\\nDocument 7 : Adam Collis\\n[21] Adam Collis is an American filmmaker and actor.\\n[22]  He attended the Duke University from 1986 to 1990 and the University of California, Los Angeles from 2007 to 2010.\\n[23]  He also studied cinema at the University of Southern California from 1991 to 1997.\\n[24]  Collis first work was the assistant director for the Scott Derrickson's short \\\"Love in the Ruins\\\" (1995).\\n[25]  In 1998, he played \\\"Crankshaft\\\" in Eric Koyanagi's \\\"Hundred Percent\\\".\\n\\nDocument 8 : Sinister (film)\\n[26] Sinister is a 2012 supernatural horror film directed by Scott Derrickson and written by Derrickson and C. Robert Cargill.\\n[27]  It stars Ethan Hawke as fictional true-crime writer Ellison Oswalt who discovers a box of home movies in his attic that puts his family in danger.\\n\\nDocument 9 : Conrad Brooks\\n[28] Conrad Brooks (born Conrad Biedrzycki on January 3, 1931 in Baltimore, Maryland) is an American actor.\\n[29]  He moved to Hollywood, California in 1948 to pursue a career in acting.\\n[30]  He got his start in movies appearing in Ed Wood films such as \\\"Plan 9 from Outer Space\\\", \\\"Glen or Glenda\\\", and \\\"Jail Bait.\\\"\\n[31]  He took a break from acting during the 1960s and 1970s but due to the ongoing interest in the films of Ed Wood, he reemerged in the 1980s and has become a prolific actor.\\n[32]  He also has since gone on to write, produce and direct several films.\\n\\nDocument 10 : Doctor Strange (2016 film)\\n[33] Doctor Strange is a 2016 American superhero film based on the Marvel Comics character of the same name, produced by Marvel Studios and distributed by Walt Disney Studios Motion Pictures.\\n[34]  It is the fourteenth film of the Marvel Cinematic Universe (MCU).\\n[35]  The film was directed by Scott Derrickson, who wrote it with Jon Spaihts and C. Robert Cargill, and stars Benedict Cumberbatch as Stephen Strange, along with Chiwetel Ejiofor, Rachel McAdams, Benedict Wong, Michael Stuhlbarg, Benjamin Bratt, Scott Adkins, Mads Mikkelsen, and Tilda Swinton.\\n[36]  In \\\"Doctor Strange\\\", surgeon Strange learns the mystic arts after a career-ending car accident.\\n\\n</Related Document>\\n\\n<Answer>:<end_of_turn>\\n\")"
   ]
  },
  {
   "cell_type": "code",
   "execution_count": null,
   "metadata": {},
   "outputs": [],
   "source": []
  }
 ],
 "metadata": {
  "kernelspec": {
   "display_name": ".venv",
   "language": "python",
   "name": "python3"
  },
  "language_info": {
   "codemirror_mode": {
    "name": "ipython",
    "version": 3
   },
   "file_extension": ".py",
   "mimetype": "text/x-python",
   "name": "python",
   "nbconvert_exporter": "python",
   "pygments_lexer": "ipython3",
   "version": "3.8.10"
  }
 },
 "nbformat": 4,
 "nbformat_minor": 2
}
