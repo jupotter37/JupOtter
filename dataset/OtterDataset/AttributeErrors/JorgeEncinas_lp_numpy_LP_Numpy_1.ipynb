{
  "nbformat": 4,
  "nbformat_minor": 0,
  "metadata": {
    "colab": {
      "provenance": [],
      "authorship_tag": "ABX9TyPCt9FLZT8afXv0GZn+e465",
      "include_colab_link": true
    },
    "kernelspec": {
      "name": "python3",
      "display_name": "Python 3"
    },
    "language_info": {
      "name": "python"
    }
  },
  "cells": [
    {
      "cell_type": "markdown",
      "metadata": {
        "id": "view-in-github",
        "colab_type": "text"
      },
      "source": [
        "<a href=\"https://colab.research.google.com/github/JorgeEncinas/lp_numpy/blob/main/LP_Numpy_1.ipynb\" target=\"_parent\"><img src=\"https://colab.research.google.com/assets/colab-badge.svg\" alt=\"Open In Colab\"/></a>"
      ]
    },
    {
      "cell_type": "code",
      "execution_count": null,
      "metadata": {
        "id": "LNvuraMn-dUl"
      },
      "outputs": [],
      "source": [
        "import numpy as np"
      ]
    },
    {
      "cell_type": "code",
      "source": [
        "L = [1, 2, 3]"
      ],
      "metadata": {
        "id": "01kHgvfGnTKk"
      },
      "execution_count": null,
      "outputs": []
    },
    {
      "cell_type": "code",
      "source": [
        "A = np.array([1, 2, 3])"
      ],
      "metadata": {
        "id": "bhuO5jYJoMxD"
      },
      "execution_count": null,
      "outputs": []
    },
    {
      "cell_type": "code",
      "source": [
        "L, A, A.dtype"
      ],
      "metadata": {
        "colab": {
          "base_uri": "https://localhost:8080/"
        },
        "id": "lHNcf6jIoOrj",
        "outputId": "9af8241b-943c-4fb9-8ae0-dbf9354195fd"
      },
      "execution_count": null,
      "outputs": [
        {
          "output_type": "execute_result",
          "data": {
            "text/plain": [
              "([1, 2, 3], array([1, 2, 3]), dtype('int64'))"
            ]
          },
          "metadata": {},
          "execution_count": 4
        }
      ]
    },
    {
      "cell_type": "code",
      "source": [
        "for l in L:\n",
        "  print(l)"
      ],
      "metadata": {
        "colab": {
          "base_uri": "https://localhost:8080/"
        },
        "id": "pQf-PopNoQBa",
        "outputId": "81f15e73-4ac6-4141-d068-a3a6392ba3c3"
      },
      "execution_count": null,
      "outputs": [
        {
          "output_type": "stream",
          "name": "stdout",
          "text": [
            "1\n",
            "2\n",
            "3\n"
          ]
        }
      ]
    },
    {
      "cell_type": "code",
      "source": [
        "for a in A:\n",
        "  print(a)"
      ],
      "metadata": {
        "colab": {
          "base_uri": "https://localhost:8080/"
        },
        "id": "DtxigIw5oVbj",
        "outputId": "9ddd1f51-df14-4fbe-b6c7-27759cb4893c"
      },
      "execution_count": null,
      "outputs": [
        {
          "output_type": "stream",
          "name": "stdout",
          "text": [
            "1\n",
            "2\n",
            "3\n"
          ]
        }
      ]
    },
    {
      "cell_type": "code",
      "source": [
        "L.append(4)\n",
        "L"
      ],
      "metadata": {
        "colab": {
          "base_uri": "https://localhost:8080/"
        },
        "id": "XqT6rq7ioXNy",
        "outputId": "606bae0b-9f08-42f4-b724-37dfa74ca2b2"
      },
      "execution_count": null,
      "outputs": [
        {
          "output_type": "execute_result",
          "data": {
            "text/plain": [
              "[1, 2, 3, 4]"
            ]
          },
          "metadata": {},
          "execution_count": 7
        }
      ]
    },
    {
      "cell_type": "code",
      "source": [
        "# NumPy has no \"append\" method though.\n",
        "A.append(4)"
      ],
      "metadata": {
        "colab": {
          "base_uri": "https://localhost:8080/",
          "height": 164
        },
        "id": "xM1ZofJSoY-j",
        "outputId": "8c4a7e78-13a4-45ef-a1dd-bbfc9df01679"
      },
      "execution_count": null,
      "outputs": [
        {
          "output_type": "error",
          "ename": "AttributeError",
          "evalue": "'numpy.ndarray' object has no attribute 'append'",
          "traceback": [
            "\u001b[0;31m---------------------------------------------------------------------------\u001b[0m",
            "\u001b[0;31mAttributeError\u001b[0m                            Traceback (most recent call last)",
            "\u001b[0;32m<ipython-input-8-ff2381a1e86a>\u001b[0m in \u001b[0;36m<cell line: 2>\u001b[0;34m()\u001b[0m\n\u001b[1;32m      1\u001b[0m \u001b[0;31m# NumPy has no \"append\" method though.\u001b[0m\u001b[0;34m\u001b[0m\u001b[0;34m\u001b[0m\u001b[0m\n\u001b[0;32m----> 2\u001b[0;31m \u001b[0mA\u001b[0m\u001b[0;34m.\u001b[0m\u001b[0mappend\u001b[0m\u001b[0;34m(\u001b[0m\u001b[0;36m4\u001b[0m\u001b[0;34m)\u001b[0m\u001b[0;34m\u001b[0m\u001b[0;34m\u001b[0m\u001b[0m\n\u001b[0m",
            "\u001b[0;31mAttributeError\u001b[0m: 'numpy.ndarray' object has no attribute 'append'"
          ]
        }
      ]
    },
    {
      "cell_type": "code",
      "source": [
        "L += [5]\n",
        "L"
      ],
      "metadata": {
        "colab": {
          "base_uri": "https://localhost:8080/"
        },
        "id": "-dhB-IdjolTT",
        "outputId": "7f0e8749-1629-4b9b-9ffa-7393cf914a62"
      },
      "execution_count": null,
      "outputs": [
        {
          "output_type": "execute_result",
          "data": {
            "text/plain": [
              "[1, 2, 3, 4, 5]"
            ]
          },
          "metadata": {},
          "execution_count": 9
        }
      ]
    },
    {
      "cell_type": "code",
      "source": [
        "# This will broadcast this Rank-0 across your Rank-1 Vector\n",
        "A + np.array([4])"
      ],
      "metadata": {
        "colab": {
          "base_uri": "https://localhost:8080/"
        },
        "id": "Z7wwO9Z8om46",
        "outputId": "ed27793e-2f26-4685-a8ff-f65318ea1b01"
      },
      "execution_count": null,
      "outputs": [
        {
          "output_type": "execute_result",
          "data": {
            "text/plain": [
              "array([5, 6, 7])"
            ]
          },
          "metadata": {},
          "execution_count": 10
        }
      ]
    },
    {
      "cell_type": "code",
      "source": [
        "A + np.array([1, 2, 3])"
      ],
      "metadata": {
        "colab": {
          "base_uri": "https://localhost:8080/"
        },
        "id": "tsmGrIUcoukT",
        "outputId": "9478f7aa-4957-4f10-966f-9654bc9435d4"
      },
      "execution_count": null,
      "outputs": [
        {
          "output_type": "execute_result",
          "data": {
            "text/plain": [
              "array([2, 4, 6])"
            ]
          },
          "metadata": {},
          "execution_count": 11
        }
      ]
    },
    {
      "cell_type": "code",
      "source": [
        "# Now it must have some intuitive way of broadcasting, otherwise it won't \"get\" it.\n",
        "A + np.array([1, 2])"
      ],
      "metadata": {
        "colab": {
          "base_uri": "https://localhost:8080/",
          "height": 164
        },
        "id": "FkOROu1co3ks",
        "outputId": "31d39a03-4b17-4c24-fab3-7da7cc22b36e"
      },
      "execution_count": null,
      "outputs": [
        {
          "output_type": "error",
          "ename": "ValueError",
          "evalue": "operands could not be broadcast together with shapes (3,) (2,) ",
          "traceback": [
            "\u001b[0;31m---------------------------------------------------------------------------\u001b[0m",
            "\u001b[0;31mValueError\u001b[0m                                Traceback (most recent call last)",
            "\u001b[0;32m<ipython-input-12-9c9c4aa7a024>\u001b[0m in \u001b[0;36m<cell line: 2>\u001b[0;34m()\u001b[0m\n\u001b[1;32m      1\u001b[0m \u001b[0;31m# Now it must have some intuitive way of broadcasting, otherwise it won't \"get\" it.\u001b[0m\u001b[0;34m\u001b[0m\u001b[0;34m\u001b[0m\u001b[0m\n\u001b[0;32m----> 2\u001b[0;31m \u001b[0mA\u001b[0m \u001b[0;34m+\u001b[0m \u001b[0mnp\u001b[0m\u001b[0;34m.\u001b[0m\u001b[0marray\u001b[0m\u001b[0;34m(\u001b[0m\u001b[0;34m[\u001b[0m\u001b[0;36m1\u001b[0m\u001b[0;34m,\u001b[0m \u001b[0;36m2\u001b[0m\u001b[0;34m]\u001b[0m\u001b[0;34m)\u001b[0m\u001b[0;34m\u001b[0m\u001b[0;34m\u001b[0m\u001b[0m\n\u001b[0m",
            "\u001b[0;31mValueError\u001b[0m: operands could not be broadcast together with shapes (3,) (2,) "
          ]
        }
      ]
    },
    {
      "cell_type": "code",
      "source": [
        "#This also broadcasts\n",
        "2 * A"
      ],
      "metadata": {
        "colab": {
          "base_uri": "https://localhost:8080/"
        },
        "id": "LX_SWr7Ro-Vc",
        "outputId": "dc5c09c6-8ca3-456f-a2ff-5731c596f2d0"
      },
      "execution_count": null,
      "outputs": [
        {
          "output_type": "execute_result",
          "data": {
            "text/plain": [
              "array([2, 4, 6])"
            ]
          },
          "metadata": {},
          "execution_count": 13
        }
      ]
    },
    {
      "cell_type": "code",
      "source": [
        "# With a normal list we get a repetition of it instead\n",
        "2 * L"
      ],
      "metadata": {
        "colab": {
          "base_uri": "https://localhost:8080/"
        },
        "id": "brl2N9I-o_pc",
        "outputId": "ad645683-c825-4177-a3c3-b9b629d6b38c"
      },
      "execution_count": null,
      "outputs": [
        {
          "output_type": "execute_result",
          "data": {
            "text/plain": [
              "[1, 2, 3, 4, 5, 1, 2, 3, 4, 5]"
            ]
          },
          "metadata": {},
          "execution_count": 14
        }
      ]
    },
    {
      "cell_type": "code",
      "source": [
        "# Same as adding\n",
        "L + L"
      ],
      "metadata": {
        "colab": {
          "base_uri": "https://localhost:8080/"
        },
        "id": "cJetXA1DpGBE",
        "outputId": "bf545e57-7a48-446f-bb7d-d41237ef3a82"
      },
      "execution_count": null,
      "outputs": [
        {
          "output_type": "execute_result",
          "data": {
            "text/plain": [
              "[1, 2, 3, 4, 5, 1, 2, 3, 4, 5]"
            ]
          },
          "metadata": {},
          "execution_count": 15
        }
      ]
    },
    {
      "cell_type": "code",
      "source": [
        "display(A)\n",
        "np.array([1, 2, 3]) * A"
      ],
      "metadata": {
        "colab": {
          "base_uri": "https://localhost:8080/",
          "height": 53
        },
        "id": "bP4A4cwJpIFL",
        "outputId": "da714ab6-ecdf-4a1b-bb41-d33128742f3b"
      },
      "execution_count": null,
      "outputs": [
        {
          "output_type": "display_data",
          "data": {
            "text/plain": [
              "array([1, 2, 3])"
            ]
          },
          "metadata": {}
        },
        {
          "output_type": "execute_result",
          "data": {
            "text/plain": [
              "array([1, 4, 9])"
            ]
          },
          "metadata": {},
          "execution_count": 16
        }
      ]
    },
    {
      "cell_type": "code",
      "source": [
        "L2 = []\n",
        "for e in L:\n",
        "  L2.append(e + 3)\n",
        "L2"
      ],
      "metadata": {
        "id": "BwTeOwLnpMML",
        "colab": {
          "base_uri": "https://localhost:8080/"
        },
        "outputId": "2d42bf2f-de74-4d41-fa73-5475675d779b"
      },
      "execution_count": null,
      "outputs": [
        {
          "output_type": "execute_result",
          "data": {
            "text/plain": [
              "[4, 5, 6, 7, 8]"
            ]
          },
          "metadata": {},
          "execution_count": 17
        }
      ]
    },
    {
      "cell_type": "code",
      "source": [
        "L2 = [e + 3 for e in L]\n",
        "L2"
      ],
      "metadata": {
        "colab": {
          "base_uri": "https://localhost:8080/"
        },
        "id": "mh8d3fgu88oi",
        "outputId": "5661f0cf-18ae-43ad-f19b-806d0a120240"
      },
      "execution_count": null,
      "outputs": [
        {
          "output_type": "execute_result",
          "data": {
            "text/plain": [
              "[4, 5, 6, 7, 8]"
            ]
          },
          "metadata": {},
          "execution_count": 19
        }
      ]
    },
    {
      "cell_type": "code",
      "source": [
        "L**2"
      ],
      "metadata": {
        "colab": {
          "base_uri": "https://localhost:8080/",
          "height": 146
        },
        "id": "LvxmQ5Kg9A6M",
        "outputId": "c84f6763-2de6-450f-f5e7-1a7361a89167"
      },
      "execution_count": null,
      "outputs": [
        {
          "output_type": "error",
          "ename": "TypeError",
          "evalue": "unsupported operand type(s) for ** or pow(): 'list' and 'int'",
          "traceback": [
            "\u001b[0;31m---------------------------------------------------------------------------\u001b[0m",
            "\u001b[0;31mTypeError\u001b[0m                                 Traceback (most recent call last)",
            "\u001b[0;32m<ipython-input-20-99008242ace2>\u001b[0m in \u001b[0;36m<cell line: 1>\u001b[0;34m()\u001b[0m\n\u001b[0;32m----> 1\u001b[0;31m \u001b[0mL\u001b[0m\u001b[0;34m**\u001b[0m\u001b[0;36m2\u001b[0m\u001b[0;34m\u001b[0m\u001b[0;34m\u001b[0m\u001b[0m\n\u001b[0m",
            "\u001b[0;31mTypeError\u001b[0m: unsupported operand type(s) for ** or pow(): 'list' and 'int'"
          ]
        }
      ]
    },
    {
      "cell_type": "code",
      "source": [
        "L2 = []\n",
        "for e in L:\n",
        "  L2.append(e**2)\n",
        "L2"
      ],
      "metadata": {
        "colab": {
          "base_uri": "https://localhost:8080/"
        },
        "id": "CzmhJd599Ii7",
        "outputId": "a6b24942-9743-4b29-d364-33ad92d95de8"
      },
      "execution_count": null,
      "outputs": [
        {
          "output_type": "execute_result",
          "data": {
            "text/plain": [
              "[1, 4, 9, 16, 25]"
            ]
          },
          "metadata": {},
          "execution_count": 22
        }
      ]
    },
    {
      "cell_type": "code",
      "source": [
        "A**2"
      ],
      "metadata": {
        "colab": {
          "base_uri": "https://localhost:8080/"
        },
        "id": "XsM7m1yt9MEK",
        "outputId": "b127ecde-387d-41cf-f013-40e6573d0cc1"
      },
      "execution_count": null,
      "outputs": [
        {
          "output_type": "execute_result",
          "data": {
            "text/plain": [
              "array([1, 4, 9])"
            ]
          },
          "metadata": {},
          "execution_count": 23
        }
      ]
    },
    {
      "cell_type": "code",
      "source": [
        "# If you apply a function to a numpy array, it usually applies Element-Wise\n",
        "np.log(A)"
      ],
      "metadata": {
        "colab": {
          "base_uri": "https://localhost:8080/"
        },
        "id": "IhRdlwhg9OJY",
        "outputId": "437e7c59-890f-490a-d116-048ada628c8f"
      },
      "execution_count": null,
      "outputs": [
        {
          "output_type": "execute_result",
          "data": {
            "text/plain": [
              "array([0.        , 0.69314718, 1.09861229])"
            ]
          },
          "metadata": {},
          "execution_count": 24
        }
      ]
    },
    {
      "cell_type": "code",
      "source": [
        "np.sqrt(A)"
      ],
      "metadata": {
        "colab": {
          "base_uri": "https://localhost:8080/"
        },
        "id": "_8HL_2lB9UXZ",
        "outputId": "aa900af1-3964-44e9-a6d4-5647aa57a872"
      },
      "execution_count": null,
      "outputs": [
        {
          "output_type": "execute_result",
          "data": {
            "text/plain": [
              "array([1.        , 1.41421356, 1.73205081])"
            ]
          },
          "metadata": {},
          "execution_count": 25
        }
      ]
    },
    {
      "cell_type": "code",
      "source": [
        "np.exp(A)"
      ],
      "metadata": {
        "colab": {
          "base_uri": "https://localhost:8080/"
        },
        "id": "NOdYHqaV9Vp6",
        "outputId": "9b5f05e0-c921-450a-f871-91245e2ee971"
      },
      "execution_count": null,
      "outputs": [
        {
          "output_type": "execute_result",
          "data": {
            "text/plain": [
              "array([ 2.71828183,  7.3890561 , 20.08553692])"
            ]
          },
          "metadata": {},
          "execution_count": 26
        }
      ]
    },
    {
      "cell_type": "code",
      "source": [
        "np.tanh(A)"
      ],
      "metadata": {
        "colab": {
          "base_uri": "https://localhost:8080/"
        },
        "id": "tjnbxjSD9XUS",
        "outputId": "7eaad075-2485-4772-cb45-709185b95744"
      },
      "execution_count": null,
      "outputs": [
        {
          "output_type": "execute_result",
          "data": {
            "text/plain": [
              "array([0.76159416, 0.96402758, 0.99505475])"
            ]
          },
          "metadata": {},
          "execution_count": 27
        }
      ]
    },
    {
      "cell_type": "code",
      "source": [
        "# DOT PRODUCT or INNER PRODUCT in NumPy\n",
        "\n",
        "a = np.array([1, 2])\n",
        "b = np.array([3, 4])"
      ],
      "metadata": {
        "id": "LPR_9P6A9YMS"
      },
      "execution_count": null,
      "outputs": []
    },
    {
      "cell_type": "code",
      "source": [
        "dot = 0\n",
        "for e, f in zip(a, b):\n",
        "  dot += e * f\n",
        "print(dot)"
      ],
      "metadata": {
        "colab": {
          "base_uri": "https://localhost:8080/"
        },
        "id": "8dygbIs49gzL",
        "outputId": "5f315c76-7f08-4909-c2cf-877d0b14eeaa"
      },
      "execution_count": null,
      "outputs": [
        {
          "output_type": "stream",
          "name": "stdout",
          "text": [
            "11\n"
          ]
        }
      ]
    },
    {
      "cell_type": "code",
      "source": [
        "np.dot(a, b)"
      ],
      "metadata": {
        "colab": {
          "base_uri": "https://localhost:8080/"
        },
        "id": "1Q8Lqg_m9nwR",
        "outputId": "f3293e82-95c7-4c7f-d8cb-82d203de3f65"
      },
      "execution_count": null,
      "outputs": [
        {
          "output_type": "execute_result",
          "data": {
            "text/plain": [
              "11"
            ]
          },
          "metadata": {},
          "execution_count": 31
        }
      ]
    },
    {
      "cell_type": "code",
      "source": [
        "dot = 0\n",
        "for i in range(len(a)):\n",
        "  dot += a[i] * b[i]\n",
        "dot"
      ],
      "metadata": {
        "colab": {
          "base_uri": "https://localhost:8080/"
        },
        "id": "z1jY46B09q7e",
        "outputId": "8c95fbf4-18ad-45cc-bc9d-2315d05f8582"
      },
      "execution_count": null,
      "outputs": [
        {
          "output_type": "execute_result",
          "data": {
            "text/plain": [
              "11"
            ]
          },
          "metadata": {},
          "execution_count": 32
        }
      ]
    },
    {
      "cell_type": "code",
      "source": [
        "#Element-wise\n",
        "display(a * b)\n",
        "\n",
        "#Since the Dot Product is just the sum of these elements, we could just sum these.\n",
        "display(np.sum(a*b))"
      ],
      "metadata": {
        "colab": {
          "base_uri": "https://localhost:8080/",
          "height": 53
        },
        "id": "epqsW8oA9wic",
        "outputId": "c1ab1a48-9e6c-4b90-bd00-dcab22bc67c5"
      },
      "execution_count": null,
      "outputs": [
        {
          "output_type": "display_data",
          "data": {
            "text/plain": [
              "array([3, 8])"
            ]
          },
          "metadata": {}
        },
        {
          "output_type": "display_data",
          "data": {
            "text/plain": [
              "11"
            ]
          },
          "metadata": {}
        }
      ]
    },
    {
      "cell_type": "code",
      "source": [
        "(a*b).sum()"
      ],
      "metadata": {
        "colab": {
          "base_uri": "https://localhost:8080/"
        },
        "id": "u4qD8S2t9x_h",
        "outputId": "d67024fc-b1b0-4bb5-c0b6-78297d14de0c"
      },
      "execution_count": null,
      "outputs": [
        {
          "output_type": "execute_result",
          "data": {
            "text/plain": [
              "11"
            ]
          },
          "metadata": {},
          "execution_count": 37
        }
      ]
    },
    {
      "cell_type": "code",
      "source": [
        "a.dot(b)"
      ],
      "metadata": {
        "colab": {
          "base_uri": "https://localhost:8080/"
        },
        "id": "GiAcR3DH9_y6",
        "outputId": "eadcdb50-3400-4ac8-982f-f834b0e3f9b0"
      },
      "execution_count": null,
      "outputs": [
        {
          "output_type": "execute_result",
          "data": {
            "text/plain": [
              "11"
            ]
          },
          "metadata": {},
          "execution_count": 38
        }
      ]
    },
    {
      "cell_type": "code",
      "source": [
        "a @ b #Also the dot product"
      ],
      "metadata": {
        "colab": {
          "base_uri": "https://localhost:8080/"
        },
        "id": "Ie5pRHA--Ecq",
        "outputId": "96e6484a-9c0b-4fb8-db1b-a857c579ff8d"
      },
      "execution_count": null,
      "outputs": [
        {
          "output_type": "execute_result",
          "data": {
            "text/plain": [
              "11"
            ]
          },
          "metadata": {},
          "execution_count": 39
        }
      ]
    },
    {
      "cell_type": "code",
      "source": [
        "# Magnitude of a vector\n",
        "# Square root, of the sum, of all the elements squared\n",
        "\n",
        "# Another way to compute the Dot Product is:\n",
        "# a.T b = ||a|| ||b|| cos (theta_a_b)\n",
        "\n",
        "# Since we don't know the cosine, what we can do is calculate the cosine, given we have all other values.\n",
        "\n",
        "magnitude_a = np.sqrt(np.sum(a**2))\n",
        "magnitude_a"
      ],
      "metadata": {
        "colab": {
          "base_uri": "https://localhost:8080/"
        },
        "id": "YCc7K1IC-G07",
        "outputId": "a3325644-64bb-4faf-d80d-5a61f7bdf94a"
      },
      "execution_count": null,
      "outputs": [
        {
          "output_type": "execute_result",
          "data": {
            "text/plain": [
              "2.23606797749979"
            ]
          },
          "metadata": {},
          "execution_count": 49
        }
      ]
    },
    {
      "cell_type": "code",
      "source": [
        "magnitude_b = np.sqrt(np.sum(b**2))\n",
        "magnitude_b"
      ],
      "metadata": {
        "colab": {
          "base_uri": "https://localhost:8080/"
        },
        "id": "Ua8DRnuP-nej",
        "outputId": "b35b7c7b-9073-4767-e14d-1b4cf236f619"
      },
      "execution_count": null,
      "outputs": [
        {
          "output_type": "execute_result",
          "data": {
            "text/plain": [
              "5.0"
            ]
          },
          "metadata": {},
          "execution_count": 50
        }
      ]
    },
    {
      "cell_type": "code",
      "source": [
        "a.dot(b)"
      ],
      "metadata": {
        "colab": {
          "base_uri": "https://localhost:8080/"
        },
        "id": "d1NSSgL2-sez",
        "outputId": "ee1c4bf3-ac2c-4131-af07-ac0ca860a540"
      },
      "execution_count": null,
      "outputs": [
        {
          "output_type": "execute_result",
          "data": {
            "text/plain": [
              "11"
            ]
          },
          "metadata": {},
          "execution_count": 53
        }
      ]
    },
    {
      "cell_type": "code",
      "source": [
        "np.linalg.norm(a)"
      ],
      "metadata": {
        "colab": {
          "base_uri": "https://localhost:8080/"
        },
        "id": "cf91bhIC-xdk",
        "outputId": "ba9e013f-3888-40f8-afc5-a41caf3c4b84"
      },
      "execution_count": null,
      "outputs": [
        {
          "output_type": "execute_result",
          "data": {
            "text/plain": [
              "2.23606797749979"
            ]
          },
          "metadata": {},
          "execution_count": 52
        }
      ]
    },
    {
      "cell_type": "code",
      "source": [
        "# cosine = a.dot(b) / norm_a * norm_b\n",
        "cosine_angle = (a.dot(b)) / (magnitude_a * magnitude_b)\n",
        "cosine_angle"
      ],
      "metadata": {
        "colab": {
          "base_uri": "https://localhost:8080/"
        },
        "id": "rh8BhQ_z_ZGq",
        "outputId": "de883997-28cf-4746-ab8a-eab342b29812"
      },
      "execution_count": null,
      "outputs": [
        {
          "output_type": "execute_result",
          "data": {
            "text/plain": [
              "0.9838699100999074"
            ]
          },
          "metadata": {},
          "execution_count": 56
        }
      ]
    },
    {
      "cell_type": "code",
      "source": [
        "angle = np.arccos(cosine_angle)\n",
        "angle"
      ],
      "metadata": {
        "colab": {
          "base_uri": "https://localhost:8080/"
        },
        "id": "ZA_hXyFC_mmc",
        "outputId": "593a464f-071b-4ff9-814d-f9a5c670abc7"
      },
      "execution_count": null,
      "outputs": [
        {
          "output_type": "execute_result",
          "data": {
            "text/plain": [
              "0.17985349979247847"
            ]
          },
          "metadata": {},
          "execution_count": 58
        }
      ]
    },
    {
      "cell_type": "markdown",
      "source": [
        "# Speed Test\n",
        "Let's see speed in action"
      ],
      "metadata": {
        "id": "5IsSBDFJqf48"
      }
    },
    {
      "cell_type": "code",
      "source": [
        "from datetime import datetime\n",
        "import numpy as np\n",
        "\n",
        "a = np.random.randn(100)\n",
        "b = np.random.randn(100)\n",
        "T = 100000\n",
        "\n",
        "def slow_dot_product(a, b):\n",
        "  result = 0\n",
        "  for e, f in zip(a, b):\n",
        "    result += e*f\n",
        "  return result\n",
        "\n",
        "t0 = datetime.now()\n",
        "for t in range(T):\n",
        "  slow_dot_product(a, b)\n",
        "dt1 = datetime.now() - t0\n",
        "\n",
        "t0 = datetime.now()\n",
        "for t in range(T):\n",
        "  np.dot(a, b)\n",
        "dt2 = datetime.now() - t0\n",
        "\n",
        "display(dt1.total_seconds())\n",
        "display(dt2.total_seconds())\n",
        "display(dt1.total_seconds() / dt2.total_seconds())"
      ],
      "metadata": {
        "id": "CqGfaIy__wLz",
        "colab": {
          "base_uri": "https://localhost:8080/",
          "height": 70
        },
        "outputId": "426fbba0-6f95-4054-f34b-0b60d8608e0c"
      },
      "execution_count": null,
      "outputs": [
        {
          "output_type": "display_data",
          "data": {
            "text/plain": [
              "4.001476"
            ]
          },
          "metadata": {}
        },
        {
          "output_type": "display_data",
          "data": {
            "text/plain": [
              "0.112513"
            ]
          },
          "metadata": {}
        },
        {
          "output_type": "display_data",
          "data": {
            "text/plain": [
              "35.56456587238808"
            ]
          },
          "metadata": {}
        }
      ]
    },
    {
      "cell_type": "markdown",
      "source": [
        " # Matrices\n",
        " This is just a quick demo.\n",
        " Numpy has a numpy.matrix, which must be 2 dimensional, so it's not recommended.\n",
        " What we use instead is a ndarray. If you see a numpy.matrix object, first transform it into a numpy array"
      ],
      "metadata": {
        "id": "c_-RxSCZr7sJ"
      }
    },
    {
      "cell_type": "code",
      "source": [
        "L = [[1, 2], [3, 4]]\n",
        "L"
      ],
      "metadata": {
        "colab": {
          "base_uri": "https://localhost:8080/"
        },
        "id": "rAdOhNB5q9BN",
        "outputId": "14cb3b20-a9c8-4c78-f883-7df9ba5a3a34"
      },
      "execution_count": null,
      "outputs": [
        {
          "output_type": "execute_result",
          "data": {
            "text/plain": [
              "[[1, 2], [3, 4]]"
            ]
          },
          "metadata": {},
          "execution_count": 8
        }
      ]
    },
    {
      "cell_type": "code",
      "source": [
        "L[0]"
      ],
      "metadata": {
        "colab": {
          "base_uri": "https://localhost:8080/"
        },
        "id": "MTGDyQT9sOHt",
        "outputId": "85f1715e-dfb0-47e5-88c9-3ff57f6e53e0"
      },
      "execution_count": null,
      "outputs": [
        {
          "output_type": "execute_result",
          "data": {
            "text/plain": [
              "[1, 2]"
            ]
          },
          "metadata": {},
          "execution_count": 9
        }
      ]
    },
    {
      "cell_type": "code",
      "source": [
        "L[0][1]"
      ],
      "metadata": {
        "colab": {
          "base_uri": "https://localhost:8080/"
        },
        "id": "OU8MCyaLsQ0V",
        "outputId": "cd657b73-8c41-4f36-93e5-132e58a3faff"
      },
      "execution_count": null,
      "outputs": [
        {
          "output_type": "execute_result",
          "data": {
            "text/plain": [
              "2"
            ]
          },
          "metadata": {},
          "execution_count": 10
        }
      ]
    },
    {
      "cell_type": "code",
      "source": [
        "A = np.array([[1, 2], [3, 4]])\n",
        "A"
      ],
      "metadata": {
        "colab": {
          "base_uri": "https://localhost:8080/"
        },
        "id": "H1lqRPrS3qVR",
        "outputId": "efafb04d-8f2a-416c-cd73-1df4b7249983"
      },
      "execution_count": null,
      "outputs": [
        {
          "output_type": "execute_result",
          "data": {
            "text/plain": [
              "array([[1, 2],\n",
              "       [3, 4]])"
            ]
          },
          "metadata": {},
          "execution_count": 11
        }
      ]
    },
    {
      "cell_type": "code",
      "source": [
        "A[0][1]"
      ],
      "metadata": {
        "colab": {
          "base_uri": "https://localhost:8080/"
        },
        "id": "FOMAwVLf3yho",
        "outputId": "be77b324-f1a3-4d70-8c47-3c92463ec076"
      },
      "execution_count": null,
      "outputs": [
        {
          "output_type": "execute_result",
          "data": {
            "text/plain": [
              "2"
            ]
          },
          "metadata": {},
          "execution_count": 12
        }
      ]
    },
    {
      "cell_type": "code",
      "source": [
        "A[0]"
      ],
      "metadata": {
        "colab": {
          "base_uri": "https://localhost:8080/"
        },
        "id": "ia3plVRc30JY",
        "outputId": "c4050302-40f2-453f-88fd-006514737401"
      },
      "execution_count": null,
      "outputs": [
        {
          "output_type": "execute_result",
          "data": {
            "text/plain": [
              "array([1, 2])"
            ]
          },
          "metadata": {},
          "execution_count": 13
        }
      ]
    },
    {
      "cell_type": "code",
      "source": [
        "A[0, 1]"
      ],
      "metadata": {
        "colab": {
          "base_uri": "https://localhost:8080/"
        },
        "id": "6zkZYliC31Wg",
        "outputId": "5324e876-ca27-475f-c488-4141162accac"
      },
      "execution_count": null,
      "outputs": [
        {
          "output_type": "execute_result",
          "data": {
            "text/plain": [
              "2"
            ]
          },
          "metadata": {},
          "execution_count": 14
        }
      ]
    },
    {
      "cell_type": "code",
      "source": [
        "A[:, 0]"
      ],
      "metadata": {
        "colab": {
          "base_uri": "https://localhost:8080/"
        },
        "id": "mGqAHCJt32Ew",
        "outputId": "91e3337b-e36f-4752-8628-de025aac0237"
      },
      "execution_count": null,
      "outputs": [
        {
          "output_type": "execute_result",
          "data": {
            "text/plain": [
              "array([1, 3])"
            ]
          },
          "metadata": {},
          "execution_count": 15
        }
      ]
    },
    {
      "cell_type": "code",
      "source": [
        "A[0, :]"
      ],
      "metadata": {
        "colab": {
          "base_uri": "https://localhost:8080/"
        },
        "id": "21mg6_2M34aP",
        "outputId": "98d29f71-d8af-4f90-967c-a511662b628e"
      },
      "execution_count": null,
      "outputs": [
        {
          "output_type": "execute_result",
          "data": {
            "text/plain": [
              "array([1, 2])"
            ]
          },
          "metadata": {},
          "execution_count": 16
        }
      ]
    },
    {
      "cell_type": "code",
      "source": [
        "A.T"
      ],
      "metadata": {
        "colab": {
          "base_uri": "https://localhost:8080/"
        },
        "id": "CfKEn8L737CX",
        "outputId": "1d1ea04b-3b4c-447b-87a4-aed8b5f7f652"
      },
      "execution_count": null,
      "outputs": [
        {
          "output_type": "execute_result",
          "data": {
            "text/plain": [
              "array([[1, 3],\n",
              "       [2, 4]])"
            ]
          },
          "metadata": {},
          "execution_count": 17
        }
      ]
    },
    {
      "cell_type": "code",
      "source": [
        "np.exp(A)"
      ],
      "metadata": {
        "colab": {
          "base_uri": "https://localhost:8080/"
        },
        "id": "Wubf2gad38JH",
        "outputId": "8a2a5e8a-755f-4376-e019-58dcecac17e9"
      },
      "execution_count": null,
      "outputs": [
        {
          "output_type": "execute_result",
          "data": {
            "text/plain": [
              "array([[ 2.71828183,  7.3890561 ],\n",
              "       [20.08553692, 54.59815003]])"
            ]
          },
          "metadata": {},
          "execution_count": 18
        }
      ]
    },
    {
      "cell_type": "code",
      "source": [
        "np.exp(L) #Treats it as if it were a NumPy array, even if it's not."
      ],
      "metadata": {
        "colab": {
          "base_uri": "https://localhost:8080/"
        },
        "id": "raKn8S3w3-nA",
        "outputId": "9a2e0bb3-9a7c-45d2-c251-ff58f6ba171d"
      },
      "execution_count": null,
      "outputs": [
        {
          "output_type": "execute_result",
          "data": {
            "text/plain": [
              "array([[ 2.71828183,  7.3890561 ],\n",
              "       [20.08553692, 54.59815003]])"
            ]
          },
          "metadata": {},
          "execution_count": 19
        }
      ]
    },
    {
      "cell_type": "code",
      "source": [
        "B = np.array([[1,2,3], [4,5,6]])"
      ],
      "metadata": {
        "id": "eqQ2ynBn3_iz"
      },
      "execution_count": null,
      "outputs": []
    },
    {
      "cell_type": "code",
      "source": [
        "A.dot(B)"
      ],
      "metadata": {
        "colab": {
          "base_uri": "https://localhost:8080/"
        },
        "id": "co6Zg7HS4I9A",
        "outputId": "11c588fa-3062-4049-f5bd-6455630c8222"
      },
      "execution_count": null,
      "outputs": [
        {
          "output_type": "execute_result",
          "data": {
            "text/plain": [
              "array([[ 9, 12, 15],\n",
              "       [19, 26, 33]])"
            ]
          },
          "metadata": {},
          "execution_count": 21
        }
      ]
    },
    {
      "cell_type": "code",
      "source": [
        "A * B"
      ],
      "metadata": {
        "colab": {
          "base_uri": "https://localhost:8080/",
          "height": 144
        },
        "id": "ilaPtMy84J4A",
        "outputId": "af5a4eab-7b3d-43cb-e08e-47f39f2ce093"
      },
      "execution_count": null,
      "outputs": [
        {
          "output_type": "error",
          "ename": "ValueError",
          "evalue": "operands could not be broadcast together with shapes (2,2) (2,3) ",
          "traceback": [
            "\u001b[0;31m---------------------------------------------------------------------------\u001b[0m",
            "\u001b[0;31mValueError\u001b[0m                                Traceback (most recent call last)",
            "\u001b[0;32m<ipython-input-22-a4cedde81ed0>\u001b[0m in \u001b[0;36m<cell line: 1>\u001b[0;34m()\u001b[0m\n\u001b[0;32m----> 1\u001b[0;31m \u001b[0mA\u001b[0m \u001b[0;34m*\u001b[0m \u001b[0mB\u001b[0m\u001b[0;34m\u001b[0m\u001b[0;34m\u001b[0m\u001b[0m\n\u001b[0m",
            "\u001b[0;31mValueError\u001b[0m: operands could not be broadcast together with shapes (2,2) (2,3) "
          ]
        }
      ]
    },
    {
      "cell_type": "code",
      "source": [
        "B.T.dot(A)"
      ],
      "metadata": {
        "colab": {
          "base_uri": "https://localhost:8080/"
        },
        "id": "xJYkZfvJ4L2_",
        "outputId": "4ecfbf70-7958-4a71-d539-4826f75bb9eb"
      },
      "execution_count": null,
      "outputs": [
        {
          "output_type": "execute_result",
          "data": {
            "text/plain": [
              "array([[13, 18],\n",
              "       [17, 24],\n",
              "       [21, 30]])"
            ]
          },
          "metadata": {},
          "execution_count": 23
        }
      ]
    },
    {
      "cell_type": "code",
      "source": [
        "A.dot(B)"
      ],
      "metadata": {
        "colab": {
          "base_uri": "https://localhost:8080/"
        },
        "id": "92FA9QT24O2o",
        "outputId": "44e9ac34-4855-40c5-d6bb-96824ec37fad"
      },
      "execution_count": null,
      "outputs": [
        {
          "output_type": "execute_result",
          "data": {
            "text/plain": [
              "array([[ 9, 12, 15],\n",
              "       [19, 26, 33]])"
            ]
          },
          "metadata": {},
          "execution_count": 24
        }
      ]
    },
    {
      "cell_type": "code",
      "source": [
        "A.dot(B.T)"
      ],
      "metadata": {
        "colab": {
          "base_uri": "https://localhost:8080/",
          "height": 144
        },
        "id": "LETiK3zM4R5p",
        "outputId": "f4352404-9da8-420a-8bea-e629ba888d16"
      },
      "execution_count": null,
      "outputs": [
        {
          "output_type": "error",
          "ename": "ValueError",
          "evalue": "shapes (2,2) and (3,2) not aligned: 2 (dim 1) != 3 (dim 0)",
          "traceback": [
            "\u001b[0;31m---------------------------------------------------------------------------\u001b[0m",
            "\u001b[0;31mValueError\u001b[0m                                Traceback (most recent call last)",
            "\u001b[0;32m<ipython-input-25-80d79729e8e6>\u001b[0m in \u001b[0;36m<cell line: 1>\u001b[0;34m()\u001b[0m\n\u001b[0;32m----> 1\u001b[0;31m \u001b[0mA\u001b[0m\u001b[0;34m.\u001b[0m\u001b[0mdot\u001b[0m\u001b[0;34m(\u001b[0m\u001b[0mB\u001b[0m\u001b[0;34m.\u001b[0m\u001b[0mT\u001b[0m\u001b[0;34m)\u001b[0m\u001b[0;34m\u001b[0m\u001b[0;34m\u001b[0m\u001b[0m\n\u001b[0m",
            "\u001b[0;31mValueError\u001b[0m: shapes (2,2) and (3,2) not aligned: 2 (dim 1) != 3 (dim 0)"
          ]
        }
      ]
    },
    {
      "cell_type": "markdown",
      "source": [
        "# Other NumPy operations\n",
        "- Determinant\n",
        "- Inverse"
      ],
      "metadata": {
        "id": "KCExR-Za4bKd"
      }
    },
    {
      "cell_type": "code",
      "source": [
        "np.linalg.det(A)"
      ],
      "metadata": {
        "colab": {
          "base_uri": "https://localhost:8080/"
        },
        "id": "32TWb5Ni4S8o",
        "outputId": "0fca0730-8691-4ae0-a4f7-68e30a702e8f"
      },
      "execution_count": null,
      "outputs": [
        {
          "output_type": "execute_result",
          "data": {
            "text/plain": [
              "-2.0000000000000004"
            ]
          },
          "metadata": {},
          "execution_count": 26
        }
      ]
    },
    {
      "cell_type": "code",
      "source": [
        "np.linalg.inv(A)"
      ],
      "metadata": {
        "colab": {
          "base_uri": "https://localhost:8080/"
        },
        "id": "IGGDMnNl4hR4",
        "outputId": "9064dcd0-4964-432f-c9cb-b08aba71dbb3"
      },
      "execution_count": null,
      "outputs": [
        {
          "output_type": "execute_result",
          "data": {
            "text/plain": [
              "array([[-2. ,  1. ],\n",
              "       [ 1.5, -0.5]])"
            ]
          },
          "metadata": {},
          "execution_count": 27
        }
      ]
    },
    {
      "cell_type": "code",
      "source": [
        "np.linalg.inv(A).dot(A)"
      ],
      "metadata": {
        "colab": {
          "base_uri": "https://localhost:8080/"
        },
        "id": "IuFaEIXu4i9X",
        "outputId": "0a3603c5-0c4b-451c-eb55-a283f70b2af4"
      },
      "execution_count": null,
      "outputs": [
        {
          "output_type": "execute_result",
          "data": {
            "text/plain": [
              "array([[1.00000000e+00, 0.00000000e+00],\n",
              "       [1.11022302e-16, 1.00000000e+00]])"
            ]
          },
          "metadata": {},
          "execution_count": 28
        }
      ]
    },
    {
      "cell_type": "markdown",
      "source": [
        "Inverting a Matrix is not an exact operation. It's inaccurate.\n",
        "The algorithms are not exact, so be careful, and check if your equation can be simplified.\n",
        "\n",
        "This inaccuracy in computation is why our Determinant is also not -2 exactly."
      ],
      "metadata": {
        "id": "GidTDjyt4sfl"
      }
    },
    {
      "cell_type": "code",
      "source": [
        "np.trace(A) #Matrix Trace"
      ],
      "metadata": {
        "colab": {
          "base_uri": "https://localhost:8080/"
        },
        "id": "e-1yzLKa4pBI",
        "outputId": "e9063d07-9142-4f30-e3d6-bbae4d62d510"
      },
      "execution_count": null,
      "outputs": [
        {
          "output_type": "execute_result",
          "data": {
            "text/plain": [
              "5"
            ]
          },
          "metadata": {},
          "execution_count": 30
        }
      ]
    },
    {
      "cell_type": "code",
      "source": [
        "np.diag(A) #Diag function."
      ],
      "metadata": {
        "colab": {
          "base_uri": "https://localhost:8080/"
        },
        "id": "N5iTDfUU44fP",
        "outputId": "1a79a54f-7e29-474a-89a0-496a28d2bcd5"
      },
      "execution_count": null,
      "outputs": [
        {
          "output_type": "execute_result",
          "data": {
            "text/plain": [
              "array([1, 4])"
            ]
          },
          "metadata": {},
          "execution_count": 31
        }
      ]
    },
    {
      "cell_type": "code",
      "source": [
        "# If you put in a Vector, it'll turn your diagonal vector into a matrix that has zeros elsewhere\n",
        "# If you put in a Matrix, it returns the diagonal.\n",
        "np.diag([1, 4])"
      ],
      "metadata": {
        "colab": {
          "base_uri": "https://localhost:8080/"
        },
        "id": "PfFUE6nl5AHQ",
        "outputId": "051c9a9b-1363-4dcf-fccc-1e1d8c93d45c"
      },
      "execution_count": null,
      "outputs": [
        {
          "output_type": "execute_result",
          "data": {
            "text/plain": [
              "array([[1, 0],\n",
              "       [0, 4]])"
            ]
          },
          "metadata": {},
          "execution_count": 33
        }
      ]
    },
    {
      "cell_type": "code",
      "source": [
        "# EigenValues and EigenVectors\n",
        "np.linalg.eig(A)"
      ],
      "metadata": {
        "colab": {
          "base_uri": "https://localhost:8080/"
        },
        "id": "XF8c-zha5DUv",
        "outputId": "e29dc81e-d7e9-4b34-a3fb-97921198cfb8"
      },
      "execution_count": null,
      "outputs": [
        {
          "output_type": "execute_result",
          "data": {
            "text/plain": [
              "EigResult(eigenvalues=array([-0.37228132,  5.37228132]), eigenvectors=array([[-0.82456484, -0.41597356],\n",
              "       [ 0.56576746, -0.90937671]]))"
            ]
          },
          "metadata": {},
          "execution_count": 34
        }
      ]
    },
    {
      "cell_type": "code",
      "source": [
        "# What are these?\n",
        "# In Eigen Decomposition, the first returned object is an Array with all the eigenvalues.\n",
        "# The second return value is an array containing all the Eigen Vectors, organized into a Matrix\n",
        "\n",
        "\n",
        "# We can use what we know about Eigen Decomposition to check if this is correct\n",
        "np.linalg.eig(A)"
      ],
      "metadata": {
        "colab": {
          "base_uri": "https://localhost:8080/"
        },
        "id": "GhD4sTkL5WHY",
        "outputId": "fdce5676-5795-4fe7-c01d-a4dff7111968"
      },
      "execution_count": null,
      "outputs": [
        {
          "output_type": "execute_result",
          "data": {
            "text/plain": [
              "EigResult(eigenvalues=array([-0.37228132,  5.37228132]), eigenvectors=array([[-0.82456484, -0.41597356],\n",
              "       [ 0.56576746, -0.90937671]]))"
            ]
          },
          "metadata": {},
          "execution_count": 35
        }
      ]
    },
    {
      "cell_type": "code",
      "source": [
        "Lam, V = np.linalg.eig(A)\n",
        "Lam, V"
      ],
      "metadata": {
        "colab": {
          "base_uri": "https://localhost:8080/"
        },
        "id": "cEaJoyKK5rI4",
        "outputId": "22394c7d-6fa9-47b2-e052-d09853d6eaf5"
      },
      "execution_count": null,
      "outputs": [
        {
          "output_type": "execute_result",
          "data": {
            "text/plain": [
              "(array([-0.37228132,  5.37228132]),\n",
              " array([[-0.82456484, -0.41597356],\n",
              "        [ 0.56576746, -0.90937671]]))"
            ]
          },
          "metadata": {},
          "execution_count": 36
        }
      ]
    },
    {
      "cell_type": "code",
      "source": [
        "V[:,0] * Lam[0] == A @ V[:, 0]"
      ],
      "metadata": {
        "colab": {
          "base_uri": "https://localhost:8080/"
        },
        "id": "eHcxY3LZ5wS4",
        "outputId": "49410446-f538-4545-acb8-3672c2066cac"
      },
      "execution_count": null,
      "outputs": [
        {
          "output_type": "execute_result",
          "data": {
            "text/plain": [
              "array([ True, False])"
            ]
          },
          "metadata": {},
          "execution_count": 37
        }
      ]
    },
    {
      "cell_type": "code",
      "source": [
        "# NumPy applied this similarity element-wise.\n",
        "# Now why is one True, one False?"
      ],
      "metadata": {
        "id": "wIudMDJn53HZ"
      },
      "execution_count": null,
      "outputs": []
    },
    {
      "cell_type": "code",
      "source": [
        "data1 = V[:,0] * Lam[0]\n",
        "data1"
      ],
      "metadata": {
        "colab": {
          "base_uri": "https://localhost:8080/"
        },
        "id": "_twZ4em859Ow",
        "outputId": "e6ee2a09-85bb-4442-d3c1-ed087a6e6872"
      },
      "execution_count": null,
      "outputs": [
        {
          "output_type": "execute_result",
          "data": {
            "text/plain": [
              "array([ 0.30697009, -0.21062466])"
            ]
          },
          "metadata": {},
          "execution_count": 47
        }
      ]
    },
    {
      "cell_type": "code",
      "source": [
        "data2 = A @ V[:, 0]\n",
        "data2"
      ],
      "metadata": {
        "colab": {
          "base_uri": "https://localhost:8080/"
        },
        "id": "O4QCMt9F6BTA",
        "outputId": "550e9cd6-f252-480f-f207-1c8c8dd073c6"
      },
      "execution_count": null,
      "outputs": [
        {
          "output_type": "execute_result",
          "data": {
            "text/plain": [
              "array([ 0.30697009, -0.21062466])"
            ]
          },
          "metadata": {},
          "execution_count": 48
        }
      ]
    },
    {
      "cell_type": "code",
      "source": [
        "# This is due to numerical precision"
      ],
      "metadata": {
        "id": "ULy6l2uI6Do5"
      },
      "execution_count": null,
      "outputs": []
    },
    {
      "cell_type": "code",
      "source": [
        "data1.dtype, data2.dtype"
      ],
      "metadata": {
        "colab": {
          "base_uri": "https://localhost:8080/"
        },
        "id": "BHXP_yUK6IGg",
        "outputId": "66980b20-cdc5-4e6f-fd6a-b04138d7a8ce"
      },
      "execution_count": null,
      "outputs": [
        {
          "output_type": "execute_result",
          "data": {
            "text/plain": [
              "(dtype('float64'), dtype('float64'))"
            ]
          },
          "metadata": {},
          "execution_count": 50
        }
      ]
    },
    {
      "cell_type": "code",
      "source": [
        "#In NumPy, the correct way to compare whether two arrays are the same we must use allclose()\n",
        "np.allclose(data1, data2)"
      ],
      "metadata": {
        "colab": {
          "base_uri": "https://localhost:8080/"
        },
        "id": "fIJaE_qU6QFQ",
        "outputId": "1c5006ea-812c-4f1b-88c6-6069ad59f26b"
      },
      "execution_count": null,
      "outputs": [
        {
          "output_type": "execute_result",
          "data": {
            "text/plain": [
              "True"
            ]
          },
          "metadata": {},
          "execution_count": 51
        }
      ]
    },
    {
      "cell_type": "code",
      "source": [
        "np.allclose(V @ np.diag(Lam), A @ V)"
      ],
      "metadata": {
        "colab": {
          "base_uri": "https://localhost:8080/"
        },
        "id": "fu-PD4G46Z8o",
        "outputId": "94901fe4-bf6d-4795-e657-88b1cee466e4"
      },
      "execution_count": null,
      "outputs": [
        {
          "output_type": "execute_result",
          "data": {
            "text/plain": [
              "True"
            ]
          },
          "metadata": {},
          "execution_count": 52
        }
      ]
    },
    {
      "cell_type": "code",
      "source": [
        "# As a final note, if you know that your matrix is symmetric,\n",
        "# You can use np.linalg.eigh\n",
        "# Which is better for that scenario.\n",
        "# The \"H\" stands for \"Hermitian\" (conjugate symmetric)\n",
        "# Which is the Complex Analogue of the Matrix Transpose.\n",
        "\n",
        "# It does BOTH a Transpose, and takes the Complex Conjugate of the elements.\n",
        "# NumPy DOES handle Complex Numbers, if you're doing Signal Processing or Quantum Mechanics or something like that.\n",
        "\n",
        "# In practice, you'll use Eigen Decomposition on a Symmetric Matrix like the Covariance."
      ],
      "metadata": {
        "id": "HWjD9Wrr6hAB"
      },
      "execution_count": null,
      "outputs": []
    },
    {
      "cell_type": "code",
      "source": [
        "V"
      ],
      "metadata": {
        "colab": {
          "base_uri": "https://localhost:8080/"
        },
        "id": "DQan8qToEWaS",
        "outputId": "e8180053-baae-4b2c-e43d-5e8338b43285"
      },
      "execution_count": null,
      "outputs": [
        {
          "output_type": "execute_result",
          "data": {
            "text/plain": [
              "array([[-0.82456484, -0.41597356],\n",
              "       [ 0.56576746, -0.90937671]])"
            ]
          },
          "metadata": {},
          "execution_count": 54
        }
      ]
    },
    {
      "cell_type": "code",
      "source": [
        "V[:, 0]"
      ],
      "metadata": {
        "colab": {
          "base_uri": "https://localhost:8080/"
        },
        "id": "sojEz_vwEXnz",
        "outputId": "3980ea58-83f7-411a-f60b-307e71d71e1a"
      },
      "execution_count": null,
      "outputs": [
        {
          "output_type": "execute_result",
          "data": {
            "text/plain": [
              "array([-0.82456484,  0.56576746])"
            ]
          },
          "metadata": {},
          "execution_count": 56
        }
      ]
    },
    {
      "cell_type": "code",
      "source": [
        "V[:]"
      ],
      "metadata": {
        "colab": {
          "base_uri": "https://localhost:8080/"
        },
        "id": "99YkhLKqEYh7",
        "outputId": "4d558f10-fc4e-4de7-a4fd-508b89d20213"
      },
      "execution_count": null,
      "outputs": [
        {
          "output_type": "execute_result",
          "data": {
            "text/plain": [
              "array([[-0.82456484, -0.41597356],\n",
              "       [ 0.56576746, -0.90937671]])"
            ]
          },
          "metadata": {},
          "execution_count": 57
        }
      ]
    },
    {
      "cell_type": "code",
      "source": [
        "V[0]"
      ],
      "metadata": {
        "colab": {
          "base_uri": "https://localhost:8080/"
        },
        "id": "zSNfJDFSEfMk",
        "outputId": "6b9d998c-23f2-46c7-974f-c06516d5352d"
      },
      "execution_count": null,
      "outputs": [
        {
          "output_type": "execute_result",
          "data": {
            "text/plain": [
              "array([-0.82456484, -0.41597356])"
            ]
          },
          "metadata": {},
          "execution_count": 58
        }
      ]
    },
    {
      "cell_type": "markdown",
      "source": [
        "# Solving Linear Systems\n",
        "A very common problem in all areas of science. <br/>\n",
        "x_1 + x_2 = 2200 <br/>\n",
        "1.5x_1 + 4x_2 = 5050"
      ],
      "metadata": {
        "id": "gFdq7BYvKxQ2"
      }
    },
    {
      "cell_type": "code",
      "source": [
        "import numpy as np\n",
        "x = np.array([[1, 1]]).T\n",
        "x"
      ],
      "metadata": {
        "colab": {
          "base_uri": "https://localhost:8080/"
        },
        "id": "e_EJjLvGEgQK",
        "outputId": "722879d6-8bc9-455a-e73d-d4e73310c0b4"
      },
      "execution_count": null,
      "outputs": [
        {
          "output_type": "execute_result",
          "data": {
            "text/plain": [
              "array([[1],\n",
              "       [1]])"
            ]
          },
          "metadata": {},
          "execution_count": 1
        }
      ]
    },
    {
      "cell_type": "code",
      "source": [
        "A = np.array([[1, 1], [1.5, 4]])\n",
        "A"
      ],
      "metadata": {
        "colab": {
          "base_uri": "https://localhost:8080/"
        },
        "id": "93EMrc7nZBSL",
        "outputId": "0b6fb253-37d3-49f7-dbe9-8f3cb4e030ee"
      },
      "execution_count": null,
      "outputs": [
        {
          "output_type": "execute_result",
          "data": {
            "text/plain": [
              "array([[1. , 1. ],\n",
              "       [1.5, 4. ]])"
            ]
          },
          "metadata": {},
          "execution_count": 2
        }
      ]
    },
    {
      "cell_type": "code",
      "source": [
        "b = np.array([[2200, 5050]]).T\n",
        "b"
      ],
      "metadata": {
        "colab": {
          "base_uri": "https://localhost:8080/"
        },
        "id": "RdhM2MxaZHBU",
        "outputId": "2a6be261-eb62-4f05-df06-c5ecd20deae9"
      },
      "execution_count": null,
      "outputs": [
        {
          "output_type": "execute_result",
          "data": {
            "text/plain": [
              "array([[2200],\n",
              "       [5050]])"
            ]
          },
          "metadata": {},
          "execution_count": 3
        }
      ]
    },
    {
      "cell_type": "code",
      "source": [
        "x = np.linalg.solve(A, b) #Do this\n",
        "x_otherform = np.linalg.inv(A).dot(b) #Don't do this. It's less precise\n",
        "\n",
        "x, x_otherform"
      ],
      "metadata": {
        "colab": {
          "base_uri": "https://localhost:8080/"
        },
        "id": "EJinVvjkZLLa",
        "outputId": "9c0b3761-cbfd-43a8-9722-91513ac78c41"
      },
      "execution_count": null,
      "outputs": [
        {
          "output_type": "execute_result",
          "data": {
            "text/plain": [
              "(array([[1500.],\n",
              "        [ 700.]]),\n",
              " array([[1500.],\n",
              "        [ 700.]]))"
            ]
          },
          "metadata": {},
          "execution_count": 5
        }
      ]
    },
    {
      "cell_type": "code",
      "source": [
        "# The inverse algorithm is slower and less precise than it could be.\n",
        "# Instead use np.linalg.solve"
      ],
      "metadata": {
        "id": "XJa5ueHNZUuL"
      },
      "execution_count": null,
      "outputs": []
    },
    {
      "cell_type": "code",
      "source": [
        "# Seems like it was possible to do without transposing\n",
        "b = np.array([2200, 5050])\n",
        "x = np.linalg.solve(A, b)\n",
        "x"
      ],
      "metadata": {
        "colab": {
          "base_uri": "https://localhost:8080/"
        },
        "id": "yN0BicLUZhbj",
        "outputId": "4ecfe746-b297-4397-950f-d19cf2101839"
      },
      "execution_count": null,
      "outputs": [
        {
          "output_type": "execute_result",
          "data": {
            "text/plain": [
              "array([1500.,  700.])"
            ]
          },
          "metadata": {},
          "execution_count": 8
        }
      ]
    },
    {
      "cell_type": "code",
      "source": [
        "# You might handle Thousands of dimensions. Use solve() and not .inv().dot() for efficiency and precision."
      ],
      "metadata": {
        "id": "vAlWBcPoZuB7"
      },
      "execution_count": null,
      "outputs": []
    },
    {
      "cell_type": "markdown",
      "source": [
        "# Generating Data\n",
        "Sometimes you need to generate data. For example, Neural Network weight initialization, or creating synthetic datasets to test a model."
      ],
      "metadata": {
        "id": "H1ddHqdnaJ5z"
      }
    },
    {
      "cell_type": "code",
      "source": [
        "# Use np.zeros() to create an array filled with zeros\n",
        "a = np.zeros((2,3))\n",
        "a"
      ],
      "metadata": {
        "colab": {
          "base_uri": "https://localhost:8080/"
        },
        "id": "TD9Ru-FDadxT",
        "outputId": "c8b790cb-f3bf-474f-b720-e307e2b6e9a7"
      },
      "execution_count": null,
      "outputs": [
        {
          "output_type": "execute_result",
          "data": {
            "text/plain": [
              "array([[0., 0., 0.],\n",
              "       [0., 0., 0.]])"
            ]
          },
          "metadata": {},
          "execution_count": 10
        }
      ]
    },
    {
      "cell_type": "code",
      "source": [
        "# np.ones()\n",
        "b = np.ones((2, 3))\n",
        "b"
      ],
      "metadata": {
        "colab": {
          "base_uri": "https://localhost:8080/"
        },
        "id": "vnZJA8FcarVr",
        "outputId": "c7d12f7f-c6e7-43b5-eb28-b1794ecd9292"
      },
      "execution_count": null,
      "outputs": [
        {
          "output_type": "execute_result",
          "data": {
            "text/plain": [
              "array([[1., 1., 1.],\n",
              "       [1., 1., 1.]])"
            ]
          },
          "metadata": {},
          "execution_count": 11
        }
      ]
    },
    {
      "cell_type": "code",
      "source": [
        "# Initialize with any other value\n",
        "a = np.ones((2, 3)) * 10\n",
        "a"
      ],
      "metadata": {
        "colab": {
          "base_uri": "https://localhost:8080/"
        },
        "id": "1nNNd7yDaveq",
        "outputId": "31b4c712-68fa-4a7e-994f-ae0fda796a42"
      },
      "execution_count": null,
      "outputs": [
        {
          "output_type": "execute_result",
          "data": {
            "text/plain": [
              "array([[10., 10., 10.],\n",
              "       [10., 10., 10.]])"
            ]
          },
          "metadata": {},
          "execution_count": 13
        }
      ]
    },
    {
      "cell_type": "code",
      "source": [
        "# Identity Matrix\n",
        "# Matrix Analog of the number 1.\n",
        "\n",
        "c = np.eye(3)\n",
        "c"
      ],
      "metadata": {
        "colab": {
          "base_uri": "https://localhost:8080/"
        },
        "id": "Re7Zq71Waydk",
        "outputId": "aa4cfb9d-55f2-4049-ffda-bb45b35972e8"
      },
      "execution_count": null,
      "outputs": [
        {
          "output_type": "execute_result",
          "data": {
            "text/plain": [
              "array([[1., 0., 0.],\n",
              "       [0., 1., 0.],\n",
              "       [0., 0., 1.]])"
            ]
          },
          "metadata": {},
          "execution_count": 15
        }
      ]
    },
    {
      "cell_type": "code",
      "source": [
        "# Saying eye() is common in other languages and their APIs like MatLab."
      ],
      "metadata": {
        "id": "gkQ3JVOxa_5L"
      },
      "execution_count": null,
      "outputs": []
    },
    {
      "cell_type": "code",
      "source": [
        "# To create random numbers...\n",
        "d = np.random.random()\n",
        "d"
      ],
      "metadata": {
        "colab": {
          "base_uri": "https://localhost:8080/"
        },
        "id": "vVsOJPKLbIez",
        "outputId": "44209f97-9eef-40be-9be3-1ba750e6fc89"
      },
      "execution_count": null,
      "outputs": [
        {
          "output_type": "execute_result",
          "data": {
            "text/plain": [
              "0.8810564930402036"
            ]
          },
          "metadata": {},
          "execution_count": 18
        }
      ]
    },
    {
      "cell_type": "code",
      "source": [
        "np.random.random((2, 3))"
      ],
      "metadata": {
        "colab": {
          "base_uri": "https://localhost:8080/"
        },
        "id": "NJ3teEmZbNza",
        "outputId": "c85a6622-08b7-408c-d044-428ed392cc0c"
      },
      "execution_count": null,
      "outputs": [
        {
          "output_type": "execute_result",
          "data": {
            "text/plain": [
              "array([[0.0924776 , 0.94263745, 0.15621132],\n",
              "       [0.03475935, 0.82621969, 0.7154918 ]])"
            ]
          },
          "metadata": {},
          "execution_count": 19
        }
      ]
    },
    {
      "cell_type": "code",
      "source": [
        "# What distribution did those numbers come from?\n",
        "# You could use a Uniform or a Normal distribution.\n",
        "# Random draws from the uniform distribution."
      ],
      "metadata": {
        "id": "4CEnf2sxbPo7"
      },
      "execution_count": null,
      "outputs": []
    },
    {
      "cell_type": "code",
      "source": [
        "# A common technique is to visualize the data points in a HISTOGRAM.\n",
        "# Now let's see the normal distribution\n",
        "np.random.randn(2, 3)"
      ],
      "metadata": {
        "colab": {
          "base_uri": "https://localhost:8080/"
        },
        "id": "1ZYIgKSybX9j",
        "outputId": "5521e04d-0e1c-46a3-e167-9048d1ae3454"
      },
      "execution_count": null,
      "outputs": [
        {
          "output_type": "execute_result",
          "data": {
            "text/plain": [
              "array([[-0.91797977, -2.10290634,  0.15724408],\n",
              "       [-2.42597467, -0.13188305, -2.6218925 ]])"
            ]
          },
          "metadata": {},
          "execution_count": 21
        }
      ]
    },
    {
      "cell_type": "code",
      "source": [
        "# This data has mean 0 and variance 1\n",
        "# This function does NOT accept a tuple. Instead it receives a separate argument per dimension."
      ],
      "metadata": {
        "id": "PUTyfjVGbf9H"
      },
      "execution_count": null,
      "outputs": []
    },
    {
      "cell_type": "code",
      "source": [
        "R = np.random.randn(10000)\n",
        "R.mean()"
      ],
      "metadata": {
        "colab": {
          "base_uri": "https://localhost:8080/"
        },
        "id": "U1S8FPVHbnA8",
        "outputId": "b32bda6e-cf47-49a1-dad0-985f4b14a472"
      },
      "execution_count": null,
      "outputs": [
        {
          "output_type": "execute_result",
          "data": {
            "text/plain": [
              "-0.00036178621844960477"
            ]
          },
          "metadata": {},
          "execution_count": 24
        }
      ]
    },
    {
      "cell_type": "code",
      "source": [
        "R.var() # Variance"
      ],
      "metadata": {
        "colab": {
          "base_uri": "https://localhost:8080/"
        },
        "id": "uYvvlLgfbqgs",
        "outputId": "efd18db5-f583-4b35-93a8-b27b52ee7416"
      },
      "execution_count": null,
      "outputs": [
        {
          "output_type": "execute_result",
          "data": {
            "text/plain": [
              "1.0011736217730163"
            ]
          },
          "metadata": {},
          "execution_count": 26
        }
      ]
    },
    {
      "cell_type": "code",
      "source": [
        "np.mean(R)"
      ],
      "metadata": {
        "colab": {
          "base_uri": "https://localhost:8080/"
        },
        "id": "S52BxsTFbsKL",
        "outputId": "445bc2c7-a3bc-4eb4-d824-5acde98306a0"
      },
      "execution_count": null,
      "outputs": [
        {
          "output_type": "execute_result",
          "data": {
            "text/plain": [
              "-0.00036178621844960477"
            ]
          },
          "metadata": {},
          "execution_count": 27
        }
      ]
    },
    {
      "cell_type": "code",
      "source": [
        "R.std() # Standard Deviation"
      ],
      "metadata": {
        "colab": {
          "base_uri": "https://localhost:8080/"
        },
        "id": "YlVqvdWzbySz",
        "outputId": "8270bd92-71ae-47c3-e844-cc1089edb3f8"
      },
      "execution_count": null,
      "outputs": [
        {
          "output_type": "execute_result",
          "data": {
            "text/plain": [
              "1.000586638813959"
            ]
          },
          "metadata": {},
          "execution_count": 28
        }
      ]
    },
    {
      "cell_type": "code",
      "source": [
        "R = np.random.randn(10000, 3)"
      ],
      "metadata": {
        "id": "0mRPfQjxb1IM"
      },
      "execution_count": null,
      "outputs": []
    },
    {
      "cell_type": "code",
      "source": [
        "# We usually want to calculate the mean or sum of each column\n",
        "R.mean(axis=0)"
      ],
      "metadata": {
        "colab": {
          "base_uri": "https://localhost:8080/"
        },
        "id": "iiPYbDC-b8ar",
        "outputId": "807dd45f-0896-49e0-d7ad-3c8541509be1"
      },
      "execution_count": null,
      "outputs": [
        {
          "output_type": "execute_result",
          "data": {
            "text/plain": [
              "array([ 0.00529505,  0.00763796, -0.00046847])"
            ]
          },
          "metadata": {},
          "execution_count": 31
        }
      ]
    },
    {
      "cell_type": "code",
      "source": [
        "R.mean(axis=1)"
      ],
      "metadata": {
        "colab": {
          "base_uri": "https://localhost:8080/"
        },
        "id": "A88RoEkncA_L",
        "outputId": "84354567-1066-4291-a632-e9db9ed180a3"
      },
      "execution_count": null,
      "outputs": [
        {
          "output_type": "execute_result",
          "data": {
            "text/plain": [
              "array([ 0.25531414, -0.05510039,  0.27230654, ..., -0.09346405,\n",
              "        0.41103997, -0.00992862])"
            ]
          },
          "metadata": {},
          "execution_count": 32
        }
      ]
    },
    {
      "cell_type": "code",
      "source": [
        "R.mean(axis=1).shape"
      ],
      "metadata": {
        "colab": {
          "base_uri": "https://localhost:8080/"
        },
        "id": "aS08NFC5cEQr",
        "outputId": "f913fc57-8b02-4a60-c24d-3e677fcfe8d4"
      },
      "execution_count": null,
      "outputs": [
        {
          "output_type": "execute_result",
          "data": {
            "text/plain": [
              "(10000,)"
            ]
          },
          "metadata": {},
          "execution_count": 33
        }
      ]
    },
    {
      "cell_type": "code",
      "source": [
        "R.shape"
      ],
      "metadata": {
        "colab": {
          "base_uri": "https://localhost:8080/"
        },
        "id": "vwcSvuLPcFzD",
        "outputId": "c4ac9452-d32c-474d-cfb7-4ab6cf4c910e"
      },
      "execution_count": null,
      "outputs": [
        {
          "output_type": "execute_result",
          "data": {
            "text/plain": [
              "(10000, 3)"
            ]
          },
          "metadata": {},
          "execution_count": 34
        }
      ]
    },
    {
      "cell_type": "code",
      "source": [
        "R.mean(axis=0).shape"
      ],
      "metadata": {
        "colab": {
          "base_uri": "https://localhost:8080/"
        },
        "id": "2HWd78DjcG3b",
        "outputId": "6a0c8279-43b5-4ba0-d05c-30a1b8c8b458"
      },
      "execution_count": null,
      "outputs": [
        {
          "output_type": "execute_result",
          "data": {
            "text/plain": [
              "(3,)"
            ]
          },
          "metadata": {},
          "execution_count": 35
        }
      ]
    },
    {
      "cell_type": "markdown",
      "source": [
        "# Covariance"
      ],
      "metadata": {
        "id": "c_qsy9-zcXrg"
      }
    },
    {
      "cell_type": "code",
      "source": [
        "#When you have vectors, the analog of the Variance is the Covariance\n",
        "np.cov(R).shape"
      ],
      "metadata": {
        "colab": {
          "base_uri": "https://localhost:8080/"
        },
        "id": "m6S9f5jZcJbU",
        "outputId": "80c2180e-f1a0-469f-d6b5-1d066b24b5c6"
      },
      "execution_count": null,
      "outputs": [
        {
          "output_type": "execute_result",
          "data": {
            "text/plain": [
              "(10000, 10000)"
            ]
          },
          "metadata": {},
          "execution_count": 36
        }
      ]
    },
    {
      "cell_type": "code",
      "source": [
        "# The cov function, by default, treats each column as a vector observation.\n",
        "# This is not the convention on the rest of the numpy stack."
      ],
      "metadata": {
        "id": "_I95h-evcadE"
      },
      "execution_count": null,
      "outputs": []
    },
    {
      "cell_type": "code",
      "source": [
        "np.cov(R.T).shape"
      ],
      "metadata": {
        "colab": {
          "base_uri": "https://localhost:8080/"
        },
        "id": "hlyJdmALcluc",
        "outputId": "b24a5f83-0804-40bb-a723-8b2e8b2807f0"
      },
      "execution_count": null,
      "outputs": [
        {
          "output_type": "execute_result",
          "data": {
            "text/plain": [
              "(3, 3)"
            ]
          },
          "metadata": {},
          "execution_count": 38
        }
      ]
    },
    {
      "cell_type": "code",
      "source": [
        "np.cov(R.T)"
      ],
      "metadata": {
        "colab": {
          "base_uri": "https://localhost:8080/"
        },
        "id": "ymjo18j6cnKj",
        "outputId": "17318888-2536-476e-b8a1-8b02a11c1c96"
      },
      "execution_count": null,
      "outputs": [
        {
          "output_type": "execute_result",
          "data": {
            "text/plain": [
              "array([[ 0.98356133,  0.00254066,  0.00124049],\n",
              "       [ 0.00254066,  0.99309368, -0.01521238],\n",
              "       [ 0.00124049, -0.01521238,  1.01601972]])"
            ]
          },
          "metadata": {},
          "execution_count": 39
        }
      ]
    },
    {
      "cell_type": "code",
      "source": [
        "np.cov(R, rowvar=False) #The default is true."
      ],
      "metadata": {
        "colab": {
          "base_uri": "https://localhost:8080/"
        },
        "id": "kVqpd6pucpiL",
        "outputId": "8e41ffa7-7599-443e-b669-4472f97a53f2"
      },
      "execution_count": null,
      "outputs": [
        {
          "output_type": "execute_result",
          "data": {
            "text/plain": [
              "array([[ 0.98356133,  0.00254066,  0.00124049],\n",
              "       [ 0.00254066,  0.99309368, -0.01521238],\n",
              "       [ 0.00124049, -0.01521238,  1.01601972]])"
            ]
          },
          "metadata": {},
          "execution_count": 42
        }
      ]
    },
    {
      "cell_type": "code",
      "source": [
        "np.cov(R.T, rowvar=False)"
      ],
      "metadata": {
        "colab": {
          "base_uri": "https://localhost:8080/"
        },
        "id": "aSR2hFRtctNb",
        "outputId": "8caae368-64c0-479c-b53e-ee83efa748f7"
      },
      "execution_count": null,
      "outputs": [
        {
          "output_type": "execute_result",
          "data": {
            "text/plain": [
              "array([[ 0.4464526 , -0.48389329,  0.07211646, ...,  0.21206015,\n",
              "        -0.69712204, -0.30602068],\n",
              "       [-0.48389329,  0.92706968,  0.52379486, ...,  0.13490869,\n",
              "         1.69863463,  0.0955145 ],\n",
              "       [ 0.07211646,  0.52379486,  0.91169543, ...,  0.579631  ,\n",
              "         1.29743602, -0.40255219],\n",
              "       ...,\n",
              "       [ 0.21206015,  0.13490869,  0.579631  , ...,  0.43119315,\n",
              "         0.52328021, -0.35932699],\n",
              "       [-0.69712204,  1.69863463,  1.29743602, ...,  0.52328021,\n",
              "         3.29755783, -0.0753681 ],\n",
              "       [-0.30602068,  0.0955145 , -0.40255219, ..., -0.35932699,\n",
              "        -0.0753681 ,  0.34830317]])"
            ]
          },
          "metadata": {},
          "execution_count": 43
        }
      ]
    },
    {
      "cell_type": "code",
      "source": [
        "# As you can see, rowvar=False makes it so we compute the variance taking each row as an observation.\n",
        "# From ChatGPT:\n",
        "\"\"\"\n",
        "rowvar=True (default):\n",
        "    Each row represents a variable, and each column represents an observation.\n",
        "    This means that the covariance is computed between rows.\n",
        "\n",
        "rowvar=False:\n",
        "    Each column represents a variable, and each row represents an observation.\n",
        "    In this case, the covariance is computed between columns.\n",
        "\n",
        "For example:\n",
        "    - If your data is organized such that each row contains observations of a variable,\n",
        "      and each column represents a different observation, leave rowvar=True.\n",
        "\n",
        "    - If your data is organized such that each column contains observations of a variable,\n",
        "      and each row represents a different observation, set rowvar=False.\n",
        "\n",
        "\"\"\"\n",
        "###"
      ],
      "metadata": {
        "colab": {
          "base_uri": "https://localhost:8080/",
          "height": 109
        },
        "collapsed": true,
        "id": "C1MBjjNag3OM",
        "outputId": "bc607dfc-6fa8-4d73-87e7-0aab9fc7f2c8"
      },
      "execution_count": null,
      "outputs": [
        {
          "output_type": "execute_result",
          "data": {
            "text/plain": [
              "'\\nrowvar=True (default): \\n    Each row represents a variable, and each column represents an observation. \\n    This means that the covariance is computed between rows.\\n\\nrowvar=False: \\n    Each column represents a variable, and each row represents an observation.\\n    In this case, the covariance is computed between columns.\\n\\nFor example:\\n    - If your data is organized such that each row contains observations of a variable,\\n      and each column represents a different observation, leave rowvar=True.\\n    \\n    - If your data is organized such that each column contains observations of a variable,\\n      and each row represents a different observation, set rowvar=False.\\n\\n'"
            ],
            "application/vnd.google.colaboratory.intrinsic+json": {
              "type": "string"
            }
          },
          "metadata": {},
          "execution_count": 48
        }
      ]
    },
    {
      "cell_type": "code",
      "source": [
        "# Now let's create random arrays with only integers.\n",
        "# For that there exists np.random.randint()\n",
        "# np.random.randint(low, high=None, size=None dtype=\"I\") I think it's I? not quite clear on that"
      ],
      "metadata": {
        "id": "q35yPjlIhANU"
      },
      "execution_count": null,
      "outputs": []
    },
    {
      "cell_type": "code",
      "source": [
        "np.random.randint(0, 10, size=(3, 3))"
      ],
      "metadata": {
        "colab": {
          "base_uri": "https://localhost:8080/"
        },
        "id": "goo1TvqYhp1l",
        "outputId": "c12e9e83-868e-4ddb-a3ed-ce010a985d08"
      },
      "execution_count": null,
      "outputs": [
        {
          "output_type": "execute_result",
          "data": {
            "text/plain": [
              "array([[5, 7, 9],\n",
              "       [3, 7, 2],\n",
              "       [1, 4, 8]])"
            ]
          },
          "metadata": {},
          "execution_count": 50
        }
      ]
    },
    {
      "cell_type": "code",
      "source": [
        "np.random.randint(0, 10)"
      ],
      "metadata": {
        "colab": {
          "base_uri": "https://localhost:8080/"
        },
        "id": "J5PjWiE_hw2N",
        "outputId": "fda7b29a-7bbd-4ad7-8b87-49d853cd89f5"
      },
      "execution_count": null,
      "outputs": [
        {
          "output_type": "execute_result",
          "data": {
            "text/plain": [
              "9"
            ]
          },
          "metadata": {},
          "execution_count": 51
        }
      ]
    },
    {
      "cell_type": "code",
      "source": [
        "#Now let's see numpy.random.choice() to get a selection from a 1-D array\n",
        "# You could see how this helps selecting from a database.\n",
        "\n",
        "# np.random.choice(a, size=None, replace=True, p=None)\n",
        "# a: 1-D array-like or int\n",
        "# size: int or tuple of ints, optional. Output shape. How many samples will be drawn too.\n",
        "#   For example, shape (m, n, k) will have m * n * k samples drawn.\n",
        "# replace: boolean, optional.\n",
        "#     For things like bootstrapping, choose if replacement is possible.\n",
        "# p: 1-D array-like, optional.\n",
        "#     Probabilities associated with each entry in a.\n",
        "#     If not given, the sample assumes a UNIFORM DISTRIBUTION over all entries in \"a\"\n"
      ],
      "metadata": {
        "id": "EVCDcNG0hy1O"
      },
      "execution_count": null,
      "outputs": []
    },
    {
      "cell_type": "code",
      "source": [
        "np.random.choice(10, size=(3, 3))"
      ],
      "metadata": {
        "colab": {
          "base_uri": "https://localhost:8080/"
        },
        "id": "ytpg7UoZib4G",
        "outputId": "282fcb5a-4377-4573-ce60-d2fe82f6a0c2"
      },
      "execution_count": null,
      "outputs": [
        {
          "output_type": "execute_result",
          "data": {
            "text/plain": [
              "array([[5, 3, 1],\n",
              "       [0, 9, 1],\n",
              "       [7, 7, 0]])"
            ]
          },
          "metadata": {},
          "execution_count": 53
        }
      ]
    },
    {
      "cell_type": "markdown",
      "source": [
        "# EXERCISE: Speed Test\n",
        "Do a speed test between Matrix Multiplication and doing it by hand. So implement a matrix multiplication for lists.\n",
        "\n",
        "Bonus: how does time increase with respect to input size? (You'll often see \"with respect to\" abbreviated as \"wrt\", by the way)"
      ],
      "metadata": {
        "id": "YOTiq8RHip5I"
      }
    },
    {
      "cell_type": "code",
      "source": [
        "import numpy as np\n",
        "from datetime import datetime\n",
        "\n",
        "def list_matmul(m1, m2):\n",
        "  def multiply_and_aggregate(m1_row_idx, m2_col_idx):\n",
        "    aggregate = 0\n",
        "    for k in range(0, len(m1[m1_row_idx]), 1):\n",
        "      aggregate += m1[m1_row_idx][k] * m2[k][m2_col_idx]\n",
        "    return aggregate\n",
        "\n",
        "\n",
        "  l1_rows, l1_cols = len(m1), len(m1[0])\n",
        "  l2_rows, l2_cols = len(m2), len(m2[0])\n",
        "  if (l1_cols != l2_rows): #I know a validation would need way more checks than this bc these are lists and not a matrix, but oh well.\n",
        "    raise Exception(\"Inner dimensions must match\")\n",
        "  #result = [[None] * l2_cols] * l1_rows do NOT do this because Python creates the same object in secret. So when you modify one, both are modified.\n",
        "  result = [[[None] for _ in range(0, l2_cols, 1)] for _ in range(0, l1_rows, 1)]\n",
        "  for i in range(0, l2_cols, 1): #Which column we're at?\n",
        "    for j in range(0, l1_rows, 1): #Which row we're at?\n",
        "      aggregation = multiply_and_aggregate(j, i)\n",
        "      result[j][i] = aggregation\n",
        "  return result"
      ],
      "metadata": {
        "id": "K-xkwKBXii4u"
      },
      "execution_count": null,
      "outputs": []
    },
    {
      "cell_type": "code",
      "source": [
        "A_list = [[1, 2, 3], [4, 5, 6]]\n",
        "B_list = [[7], [8], [9]]\n",
        "display(list_matmul(A_list, B_list))\n",
        "\n",
        "A = np.array([[1, 2, 3], [4, 5, 6]])\n",
        "B = np.array([[7], [8], [9]])\n",
        "\n",
        "A.dot(B)"
      ],
      "metadata": {
        "colab": {
          "base_uri": "https://localhost:8080/",
          "height": 70
        },
        "id": "KocOz0KDq5JE",
        "outputId": "cbb80d33-3887-463e-cba4-604b4f863258"
      },
      "execution_count": null,
      "outputs": [
        {
          "output_type": "display_data",
          "data": {
            "text/plain": [
              "[[50], [122]]"
            ]
          },
          "metadata": {}
        },
        {
          "output_type": "execute_result",
          "data": {
            "text/plain": [
              "array([[ 50],\n",
              "       [122]])"
            ]
          },
          "metadata": {},
          "execution_count": 87
        }
      ]
    },
    {
      "cell_type": "code",
      "source": [
        "t0 = datetime.now()\n",
        "manual_result = list_matmul(A_list, B_list)\n",
        "difference_1 = datetime.now() - t0\n",
        "\n",
        "t0 = datetime.now()\n",
        "npresult = A.dot(B)\n",
        "difference_2 = datetime.now() - t0\n",
        "\n",
        "display(manual_result, npresult)\n",
        "difference_1.total_seconds(), difference_2.total_seconds()"
      ],
      "metadata": {
        "colab": {
          "base_uri": "https://localhost:8080/",
          "height": 106
        },
        "id": "SIVdICJiq2p_",
        "outputId": "24267c9d-d05b-4550-d369-812b0fc4d0f8"
      },
      "execution_count": null,
      "outputs": [
        {
          "output_type": "display_data",
          "data": {
            "text/plain": [
              "[[76, 82], [184, 199], [292, 316]]"
            ]
          },
          "metadata": {}
        },
        {
          "output_type": "display_data",
          "data": {
            "text/plain": [
              "array([[ 76,  82],\n",
              "       [184, 199],\n",
              "       [292, 316]])"
            ]
          },
          "metadata": {}
        },
        {
          "output_type": "execute_result",
          "data": {
            "text/plain": [
              "(0.00015, 0.000103)"
            ]
          },
          "metadata": {},
          "execution_count": 89
        }
      ]
    },
    {
      "cell_type": "code",
      "source": [
        "A_list = [[1, 2, 3], [4, 5, 6], [7, 8, 9]]\n",
        "B_list = [[10, 11], [12, 13], [14, 15]]\n",
        "display(list_matmul(A_list, B_list))\n",
        "\n",
        "A = np.array([[1, 2, 3], [4, 5, 6], [7, 8, 9]])\n",
        "B = np.array([[10, 11], [12, 13], [14, 15]])\n",
        "\n",
        "A.dot(B)"
      ],
      "metadata": {
        "colab": {
          "base_uri": "https://localhost:8080/",
          "height": 88
        },
        "id": "kb7K9ennrc1A",
        "outputId": "5d625166-c764-494e-fd34-65f30344bc6c"
      },
      "execution_count": null,
      "outputs": [
        {
          "output_type": "display_data",
          "data": {
            "text/plain": [
              "[[76, 82], [184, 199], [292, 316]]"
            ]
          },
          "metadata": {}
        },
        {
          "output_type": "execute_result",
          "data": {
            "text/plain": [
              "array([[ 76,  82],\n",
              "       [184, 199],\n",
              "       [292, 316]])"
            ]
          },
          "metadata": {},
          "execution_count": 88
        }
      ]
    },
    {
      "cell_type": "code",
      "source": [
        "t0 = datetime.now()\n",
        "manual_result = list_matmul(A_list, B_list)\n",
        "difference_1 = datetime.now() - t0\n",
        "\n",
        "t0 = datetime.now()\n",
        "npresult = A.dot(B)\n",
        "difference_2 = datetime.now() - t0\n",
        "\n",
        "display(manual_result, npresult)\n",
        "difference_1.total_seconds(), difference_2.total_seconds()"
      ],
      "metadata": {
        "colab": {
          "base_uri": "https://localhost:8080/",
          "height": 106
        },
        "id": "WJJ3ioQcu2P_",
        "outputId": "e158d827-ba6b-48ee-ba32-285ecc48fca7"
      },
      "execution_count": null,
      "outputs": [
        {
          "output_type": "display_data",
          "data": {
            "text/plain": [
              "[[76, 82], [184, 199], [292, 316]]"
            ]
          },
          "metadata": {}
        },
        {
          "output_type": "display_data",
          "data": {
            "text/plain": [
              "array([[ 76,  82],\n",
              "       [184, 199],\n",
              "       [292, 316]])"
            ]
          },
          "metadata": {}
        },
        {
          "output_type": "execute_result",
          "data": {
            "text/plain": [
              "(0.00016, 0.001591)"
            ]
          },
          "metadata": {},
          "execution_count": 90
        }
      ]
    },
    {
      "cell_type": "code",
      "source": [
        "# Quite the surprising results!"
      ],
      "metadata": {
        "id": "JlZ93bmgu6PW"
      },
      "execution_count": null,
      "outputs": []
    }
  ]
}