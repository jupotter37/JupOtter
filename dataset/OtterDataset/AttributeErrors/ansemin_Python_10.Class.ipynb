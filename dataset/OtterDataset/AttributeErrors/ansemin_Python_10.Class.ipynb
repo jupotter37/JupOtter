{
 "cells": [
  {
   "cell_type": "code",
   "execution_count": 6,
   "id": "273b77f4",
   "metadata": {},
   "outputs": [],
   "source": [
    "class MyClass:\n",
    "    pass"
   ]
  },
  {
   "cell_type": "code",
   "execution_count": 7,
   "id": "92972b30",
   "metadata": {},
   "outputs": [
    {
     "data": {
      "text/plain": [
       "__main__.MyClass"
      ]
     },
     "execution_count": 7,
     "metadata": {},
     "output_type": "execute_result"
    }
   ],
   "source": [
    "MyClass"
   ]
  },
  {
   "cell_type": "code",
   "execution_count": 8,
   "id": "317059eb",
   "metadata": {},
   "outputs": [
    {
     "data": {
      "text/plain": [
       "type"
      ]
     },
     "execution_count": 8,
     "metadata": {},
     "output_type": "execute_result"
    }
   ],
   "source": [
    "type(MyClass)"
   ]
  },
  {
   "cell_type": "code",
   "execution_count": 14,
   "id": "d022ce90",
   "metadata": {},
   "outputs": [],
   "source": [
    "class Person:\n",
    "    Name='Default Name'#property\n",
    "    def Print(self):#must include 'self' when def under class\n",
    "        print('My name is {}'.format(self.Name))\n",
    "    "
   ]
  },
  {
   "cell_type": "code",
   "execution_count": 16,
   "id": "9158c5c4",
   "metadata": {},
   "outputs": [],
   "source": [
    "son=Person()"
   ]
  },
  {
   "cell_type": "code",
   "execution_count": 17,
   "id": "6be983ec",
   "metadata": {},
   "outputs": [
    {
     "name": "stdout",
     "output_type": "stream",
     "text": [
      "My name is Son Heung Min\n"
     ]
    }
   ],
   "source": [
    "son.Name='Son Heung Min'\n",
    "son.Print()"
   ]
  },
  {
   "cell_type": "code",
   "execution_count": 18,
   "id": "ef4b592d",
   "metadata": {},
   "outputs": [],
   "source": [
    "p1=Person()\n",
    "p2=Person()"
   ]
  },
  {
   "cell_type": "code",
   "execution_count": 19,
   "id": "e15cad20",
   "metadata": {},
   "outputs": [],
   "source": [
    "p1.Name='Anse'\n",
    "p2.Name='Katie'"
   ]
  },
  {
   "cell_type": "code",
   "execution_count": 20,
   "id": "23a4dac5",
   "metadata": {},
   "outputs": [
    {
     "name": "stdout",
     "output_type": "stream",
     "text": [
      "Anse\n"
     ]
    }
   ],
   "source": [
    "print(p1.Name)"
   ]
  },
  {
   "cell_type": "code",
   "execution_count": 21,
   "id": "000fc95b",
   "metadata": {},
   "outputs": [
    {
     "name": "stdout",
     "output_type": "stream",
     "text": [
      "My name is Anse\n",
      "My name is Katie\n"
     ]
    }
   ],
   "source": [
    "p1.Print()\n",
    "p2.Print()"
   ]
  },
  {
   "cell_type": "code",
   "execution_count": 22,
   "id": "aa1d8b1e",
   "metadata": {},
   "outputs": [],
   "source": [
    "#instance\n",
    "\n",
    "Person.title='New Title' #added to the Person function"
   ]
  },
  {
   "cell_type": "code",
   "execution_count": 23,
   "id": "ec951b70",
   "metadata": {},
   "outputs": [
    {
     "data": {
      "text/plain": [
       "'New Title'"
      ]
     },
     "execution_count": 23,
     "metadata": {},
     "output_type": "execute_result"
    }
   ],
   "source": [
    "p1.title"
   ]
  },
  {
   "cell_type": "code",
   "execution_count": 24,
   "id": "70ad55b4",
   "metadata": {},
   "outputs": [],
   "source": [
    "p1.age=20"
   ]
  },
  {
   "cell_type": "code",
   "execution_count": 26,
   "id": "653ac745",
   "metadata": {},
   "outputs": [
    {
     "data": {
      "text/plain": [
       "20"
      ]
     },
     "execution_count": 26,
     "metadata": {},
     "output_type": "execute_result"
    }
   ],
   "source": [
    "p1.age\n"
   ]
  },
  {
   "cell_type": "code",
   "execution_count": 27,
   "id": "d8ca99aa",
   "metadata": {},
   "outputs": [
    {
     "ename": "AttributeError",
     "evalue": "type object 'Person' has no attribute 'age'",
     "output_type": "error",
     "traceback": [
      "\u001b[1;31m---------------------------------------------------------------------------\u001b[0m",
      "\u001b[1;31mAttributeError\u001b[0m                            Traceback (most recent call last)",
      "Input \u001b[1;32mIn [27]\u001b[0m, in \u001b[0;36m<cell line: 1>\u001b[1;34m()\u001b[0m\n\u001b[1;32m----> 1\u001b[0m \u001b[43mPerson\u001b[49m\u001b[38;5;241;43m.\u001b[39;49m\u001b[43mage\u001b[49m\n",
      "\u001b[1;31mAttributeError\u001b[0m: type object 'Person' has no attribute 'age'"
     ]
    }
   ],
   "source": [
    "Person.age #does not get affected because this was added \n",
    "#to the instance"
   ]
  },
  {
   "cell_type": "code",
   "execution_count": 28,
   "id": "7bddaa76",
   "metadata": {},
   "outputs": [
    {
     "ename": "AttributeError",
     "evalue": "'Person' object has no attribute 'age'",
     "output_type": "error",
     "traceback": [
      "\u001b[1;31m---------------------------------------------------------------------------\u001b[0m",
      "\u001b[1;31mAttributeError\u001b[0m                            Traceback (most recent call last)",
      "Input \u001b[1;32mIn [28]\u001b[0m, in \u001b[0;36m<cell line: 1>\u001b[1;34m()\u001b[0m\n\u001b[1;32m----> 1\u001b[0m \u001b[43mp2\u001b[49m\u001b[38;5;241;43m.\u001b[39;49m\u001b[43mage\u001b[49m\n",
      "\u001b[1;31mAttributeError\u001b[0m: 'Person' object has no attribute 'age'"
     ]
    }
   ],
   "source": [
    "p2.age #same reason, only applies to p1"
   ]
  },
  {
   "cell_type": "code",
   "execution_count": 29,
   "id": "3cc12621",
   "metadata": {},
   "outputs": [],
   "source": [
    "#Inheritance\n",
    "class Bird:\n",
    "    pass\n",
    "\n"
   ]
  },
  {
   "cell_type": "code",
   "execution_count": 30,
   "id": "be70143e",
   "metadata": {},
   "outputs": [],
   "source": [
    "class Student(Person):\n",
    "    pass"
   ]
  },
  {
   "cell_type": "code",
   "execution_count": 31,
   "id": "b0c9ded7",
   "metadata": {},
   "outputs": [],
   "source": [
    "p=Person()\n",
    "s=Student()"
   ]
  },
  {
   "cell_type": "code",
   "execution_count": 32,
   "id": "eeebf221",
   "metadata": {},
   "outputs": [
    {
     "data": {
      "text/plain": [
       "True"
      ]
     },
     "execution_count": 32,
     "metadata": {},
     "output_type": "execute_result"
    }
   ],
   "source": [
    "isinstance(p,Person)"
   ]
  },
  {
   "cell_type": "code",
   "execution_count": 33,
   "id": "2e85b67c",
   "metadata": {},
   "outputs": [
    {
     "data": {
      "text/plain": [
       "True"
      ]
     },
     "execution_count": 33,
     "metadata": {},
     "output_type": "execute_result"
    }
   ],
   "source": [
    "isinstance(s,Person) #because Student inherited Person"
   ]
  },
  {
   "cell_type": "code",
   "execution_count": 34,
   "id": "61932e55",
   "metadata": {},
   "outputs": [
    {
     "data": {
      "text/plain": [
       "True"
      ]
     },
     "execution_count": 34,
     "metadata": {},
     "output_type": "execute_result"
    }
   ],
   "source": [
    "isinstance(s,object)#object is related to everything"
   ]
  },
  {
   "cell_type": "code",
   "execution_count": 36,
   "id": "8f3b2980",
   "metadata": {},
   "outputs": [
    {
     "data": {
      "text/plain": [
       "False"
      ]
     },
     "execution_count": 36,
     "metadata": {},
     "output_type": "execute_result"
    }
   ],
   "source": [
    "isinstance(p,Bird)"
   ]
  },
  {
   "cell_type": "code",
   "execution_count": 50,
   "id": "82a9a7e2",
   "metadata": {},
   "outputs": [],
   "source": [
    "#생성자, 소멸자\n",
    "\n",
    "class MyClass:\n",
    "    #생성자\n",
    "    def __init__(self,value): #value is constant;interchangeable\n",
    "        self.Value=value\n",
    "        print('Class is created! Value=',value)\n",
    "        \n",
    "    #소멸자\n",
    "    def __del__(self):\n",
    "        print('Class is deleted')\n",
    "        "
   ]
  },
  {
   "cell_type": "code",
   "execution_count": 51,
   "id": "199e1bb8",
   "metadata": {},
   "outputs": [
    {
     "name": "stdout",
     "output_type": "stream",
     "text": [
      "Class is created! Value= 10\n"
     ]
    }
   ],
   "source": [
    "m=MyClass(10)"
   ]
  },
  {
   "cell_type": "code",
   "execution_count": 52,
   "id": "4e8338c4",
   "metadata": {},
   "outputs": [
    {
     "name": "stdout",
     "output_type": "stream",
     "text": [
      "Class is deleted\n"
     ]
    }
   ],
   "source": [
    "del m"
   ]
  },
  {
   "cell_type": "code",
   "execution_count": 56,
   "id": "5790685e",
   "metadata": {},
   "outputs": [],
   "source": [
    "#정적 매소드\n",
    "\n",
    "class CounterManager:\n",
    "    insCount=0\n",
    "    \n",
    "    def __init__(self):\n",
    "        CounterManager.insCount+=1\n",
    "        \n",
    "    def printInstanceCount():\n",
    "        print('Instance Count:', CounterManager.insCount)"
   ]
  },
  {
   "cell_type": "code",
   "execution_count": 57,
   "id": "6252e2cc",
   "metadata": {},
   "outputs": [],
   "source": [
    "a,b,c=CounterManager(),CounterManager(),CounterManager()\n",
    "\n"
   ]
  },
  {
   "cell_type": "code",
   "execution_count": 58,
   "id": "c6454478",
   "metadata": {},
   "outputs": [
    {
     "name": "stdout",
     "output_type": "stream",
     "text": [
      "Instance Count: 3\n"
     ]
    }
   ],
   "source": [
    "CounterManager.printInstanceCount()"
   ]
  },
  {
   "cell_type": "code",
   "execution_count": 2,
   "id": "1c900483",
   "metadata": {},
   "outputs": [],
   "source": [
    "#상속의 확장\n",
    "\n",
    "class Person:\n",
    "    def __init__(self, name, phone):\n",
    "        self.Name=name\n",
    "        self.Phone=phone\n",
    "        \n",
    "    def PrintInfo(self):\n",
    "        print('info(Name:{0},Phone:{1})'.format(self.Name,\n",
    "                                                self.Phone))\n",
    "        \n",
    "    \n",
    "    def PrintPersonData(self):\n",
    "        print('Person(Name:{0},Phone:{1})'.format(self.Name,\n",
    "                                                  self.Phone))"
   ]
  },
  {
   "cell_type": "code",
   "execution_count": 27,
   "id": "30b28514",
   "metadata": {},
   "outputs": [],
   "source": [
    "class Student(Person):\n",
    "    def __init__(self, name, phone, subject, studentID):\n",
    "        self.Name=name\n",
    "        self.Phone=phone\n",
    "        self.Subject=subject\n",
    "        self.StudentID=studentID\n",
    "    def PrintStudentData(self):\n",
    "        print('Person(Name:{},Phone:{},Subject:{},StudentID:{})'.format(\n",
    "        self.Name,self.Phone,self.Subject,self.StudentID))\n",
    "    \n",
    "    "
   ]
  },
  {
   "cell_type": "code",
   "execution_count": 28,
   "id": "9b77a236",
   "metadata": {},
   "outputs": [],
   "source": [
    "p=Person('IU','777')\n",
    "s=Student('BB','888','socio','999')"
   ]
  },
  {
   "cell_type": "code",
   "execution_count": 29,
   "id": "79a7656e",
   "metadata": {},
   "outputs": [
    {
     "data": {
      "text/plain": [
       "<__main__.Person at 0x1cf87657190>"
      ]
     },
     "execution_count": 29,
     "metadata": {},
     "output_type": "execute_result"
    }
   ],
   "source": [
    "p"
   ]
  },
  {
   "cell_type": "code",
   "execution_count": 30,
   "id": "913a3f21",
   "metadata": {},
   "outputs": [
    {
     "data": {
      "text/plain": [
       "<__main__.Student at 0x1cf87615f40>"
      ]
     },
     "execution_count": 30,
     "metadata": {},
     "output_type": "execute_result"
    }
   ],
   "source": [
    "s"
   ]
  },
  {
   "cell_type": "code",
   "execution_count": 31,
   "id": "5325bb46",
   "metadata": {},
   "outputs": [
    {
     "data": {
      "text/plain": [
       "{'Name': 'IU', 'Phone': '777'}"
      ]
     },
     "execution_count": 31,
     "metadata": {},
     "output_type": "execute_result"
    }
   ],
   "source": [
    "p.__dict__\n"
   ]
  },
  {
   "cell_type": "code",
   "execution_count": 32,
   "id": "d28e9d37",
   "metadata": {},
   "outputs": [
    {
     "data": {
      "text/plain": [
       "{'Name': 'BB', 'Phone': '888', 'Subject': 'socio', 'StudentID': '999'}"
      ]
     },
     "execution_count": 32,
     "metadata": {},
     "output_type": "execute_result"
    }
   ],
   "source": [
    "s.__dict__\n"
   ]
  },
  {
   "cell_type": "code",
   "execution_count": 33,
   "id": "6748725b",
   "metadata": {},
   "outputs": [
    {
     "name": "stdout",
     "output_type": "stream",
     "text": [
      "info(Name:IU,Phone:777)\n"
     ]
    }
   ],
   "source": [
    "p.PrintInfo()"
   ]
  },
  {
   "cell_type": "code",
   "execution_count": 34,
   "id": "9e51b7d7",
   "metadata": {},
   "outputs": [
    {
     "name": "stdout",
     "output_type": "stream",
     "text": [
      "info(Name:BB,Phone:888)\n"
     ]
    }
   ],
   "source": [
    "s.PrintInfo()"
   ]
  },
  {
   "cell_type": "code",
   "execution_count": 35,
   "id": "519a279b",
   "metadata": {},
   "outputs": [
    {
     "name": "stdout",
     "output_type": "stream",
     "text": [
      "Person(Name:BB,Phone:888,Subject:socio,StudentID:999)\n"
     ]
    }
   ],
   "source": [
    "s.PrintStudentData()"
   ]
  },
  {
   "cell_type": "code",
   "execution_count": 83,
   "id": "5b083d8d",
   "metadata": {},
   "outputs": [
    {
     "data": {
      "text/plain": [
       "True"
      ]
     },
     "execution_count": 83,
     "metadata": {},
     "output_type": "execute_result"
    }
   ],
   "source": [
    "#상속 관계의 확인#\n",
    "\n",
    "issubclass(Student,Person)"
   ]
  },
  {
   "cell_type": "code",
   "execution_count": 84,
   "id": "8160a6f5",
   "metadata": {},
   "outputs": [
    {
     "data": {
      "text/plain": [
       "False"
      ]
     },
     "execution_count": 84,
     "metadata": {},
     "output_type": "execute_result"
    }
   ],
   "source": [
    "issubclass(Person,Student)"
   ]
  },
  {
   "cell_type": "code",
   "execution_count": 88,
   "id": "6557288c",
   "metadata": {},
   "outputs": [],
   "source": [
    "#다중 상속\n",
    "\n",
    "class Tiger:\n",
    "    def Jump(self):\n",
    "        print('Tiger Jump')"
   ]
  },
  {
   "cell_type": "code",
   "execution_count": 89,
   "id": "e42d23eb",
   "metadata": {},
   "outputs": [],
   "source": [
    "class Lion:\n",
    "    def Bite(self):\n",
    "        print('Lion Bite')\n",
    "    "
   ]
  },
  {
   "cell_type": "code",
   "execution_count": 90,
   "id": "b2464c91",
   "metadata": {},
   "outputs": [],
   "source": [
    "class Liger(Tiger,Lion):\n",
    "    def Play(self):\n",
    "        print('Liger play')"
   ]
  },
  {
   "cell_type": "code",
   "execution_count": 91,
   "id": "e13db027",
   "metadata": {},
   "outputs": [],
   "source": [
    "l=Liger()"
   ]
  },
  {
   "cell_type": "code",
   "execution_count": 92,
   "id": "8dcaf73d",
   "metadata": {},
   "outputs": [
    {
     "name": "stdout",
     "output_type": "stream",
     "text": [
      "Liger play\n"
     ]
    }
   ],
   "source": [
    "l.Play()"
   ]
  },
  {
   "cell_type": "code",
   "execution_count": 94,
   "id": "43f177c3",
   "metadata": {},
   "outputs": [
    {
     "name": "stdout",
     "output_type": "stream",
     "text": [
      "Lion Bite\n"
     ]
    }
   ],
   "source": [
    "l.Bite()"
   ]
  },
  {
   "cell_type": "code",
   "execution_count": 95,
   "id": "fe2bcf56",
   "metadata": {},
   "outputs": [
    {
     "name": "stdout",
     "output_type": "stream",
     "text": [
      "Tiger Jump\n"
     ]
    }
   ],
   "source": [
    "l.Jump()"
   ]
  },
  {
   "cell_type": "code",
   "execution_count": null,
   "id": "e2b7cd2a",
   "metadata": {},
   "outputs": [],
   "source": []
  }
 ],
 "metadata": {
  "kernelspec": {
   "display_name": "Python 3",
   "language": "python",
   "name": "python3"
  },
  "language_info": {
   "codemirror_mode": {
    "name": "ipython",
    "version": 3
   },
   "file_extension": ".py",
   "mimetype": "text/x-python",
   "name": "python",
   "nbconvert_exporter": "python",
   "pygments_lexer": "ipython3",
   "version": "3.10.9 (tags/v3.10.9:1dd9be6, Dec  6 2022, 20:01:21) [MSC v.1934 64 bit (AMD64)]"
  },
  "vscode": {
   "interpreter": {
    "hash": "7b1f2b33e866b0bf2409397e5f58ba9cdf170d3b7f64c8f359c79998e2f88ad4"
   }
  }
 },
 "nbformat": 4,
 "nbformat_minor": 5
}
