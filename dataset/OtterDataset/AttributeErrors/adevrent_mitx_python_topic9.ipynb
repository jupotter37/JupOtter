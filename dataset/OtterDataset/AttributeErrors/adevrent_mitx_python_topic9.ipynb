{
 "cells": [
  {
   "cell_type": "code",
   "execution_count": 212,
   "metadata": {},
   "outputs": [],
   "source": [
    "# Figure 8.2 Class Person\n",
    "import datetime\n",
    "\n",
    "class Person(object):\n",
    "        def __init__(self, name):\n",
    "            \"\"\"Create a person\"\"\"\n",
    "            self.name = name\n",
    "            try:\n",
    "                lastBlank = name.rindex(' ')\n",
    "                self.lastName = name[lastBlank+1:]\n",
    "            except:\n",
    "                self.lastName = name\n",
    "                self.birthday = None\n",
    "        def getName(self):\n",
    "            \"\"\"Returns self's full name\"\"\"\n",
    "            return self.name\n",
    "        def getLastName(self):\n",
    "            \"\"\"Returns self's last name\"\"\"\n",
    "            return self.lastName\n",
    "        def setBirthday(self, birthdate):\n",
    "            \"\"\"Assumes birthdate is of type datetime.date\n",
    "            Sets self's birthday to birthdate\"\"\"\n",
    "            self.birthday = birthdate\n",
    "        def getAge(self):\n",
    "            \"\"\"Returns self's current age in days\"\"\"\n",
    "            if self.birthday == None:\n",
    "                raise ValueError\n",
    "            return (datetime.date.today() - self.birthday).days\n",
    "        def __lt__(self, other):\n",
    "            \"\"\"Returns True if self precedes other in alphabetical\n",
    "            order, and False otherwise. Comparison is based on last\n",
    "            names, but if these are the same full names are\n",
    "            compared.\"\"\"\n",
    "            if self.lastName == other.lastName:\n",
    "                return self.name < other.name\n",
    "            return self.lastName < other.lastName\n",
    "        def __str__(self):\n",
    "            \"\"\"Returns self's name\"\"\"\n",
    "            return self.name"
   ]
  },
  {
   "cell_type": "code",
   "execution_count": 213,
   "metadata": {},
   "outputs": [
    {
     "name": "stdout",
     "output_type": "stream",
     "text": [
      "Obama\n",
      "Barack Hussein Obama is 22620 days old\n",
      "Barack Hussein Obama\n"
     ]
    }
   ],
   "source": [
    "me = Person('Michael Guttag')\n",
    "him = Person('Barack Hussein Obama')\n",
    "her = Person('Madonna')\n",
    "print(him.getLastName())\n",
    "him.setBirthday(datetime.date(1961, 8, 4))\n",
    "her.setBirthday(datetime.date(1958, 8, 16))\n",
    "print(him.getName(), 'is', him.getAge(), 'days old')\n",
    "print(him)"
   ]
  },
  {
   "cell_type": "code",
   "execution_count": 214,
   "metadata": {},
   "outputs": [
    {
     "name": "stdout",
     "output_type": "stream",
     "text": [
      "Michael Guttag\n",
      "Barack Hussein Obama\n",
      "Madonna\n",
      "Michael Guttag\n",
      "<class '__main__.Person'>\n",
      "Madonna\n",
      "<class '__main__.Person'>\n",
      "Barack Hussein Obama\n",
      "<class '__main__.Person'>\n"
     ]
    }
   ],
   "source": [
    "pList = [me, him, her]\n",
    "for p in pList:\n",
    "    print(p)\n",
    "pList.sort()\n",
    "for p in pList:\n",
    "    print(p)\n",
    "    print(type(p))"
   ]
  },
  {
   "cell_type": "code",
   "execution_count": 215,
   "metadata": {},
   "outputs": [],
   "source": [
    "class Coordinate(object):\n",
    "    def __init__(self, x, y):\n",
    "        self.x = x\n",
    "        self.y = y"
   ]
  },
  {
   "cell_type": "code",
   "execution_count": 216,
   "metadata": {},
   "outputs": [
    {
     "name": "stdout",
     "output_type": "stream",
     "text": [
      "<__main__.Coordinate object at 0x7f7964538e80>\n",
      "<class '__main__.Coordinate'>\n"
     ]
    }
   ],
   "source": [
    "a = Coordinate(3, 4)\n",
    "print(a)  # because Coordinate class has no __str__ method, this merely prints class' RAM ID.\n",
    "print(type(a))"
   ]
  },
  {
   "cell_type": "code",
   "execution_count": 217,
   "metadata": {},
   "outputs": [
    {
     "name": "stdout",
     "output_type": "stream",
     "text": [
      "3\n",
      "0\n"
     ]
    }
   ],
   "source": [
    "c = Coordinate(3, 4)\n",
    "origin = Coordinate(0, 0)\n",
    "print(c.x)\n",
    "print(origin.x)"
   ]
  },
  {
   "cell_type": "code",
   "execution_count": 218,
   "metadata": {},
   "outputs": [],
   "source": [
    "class Coordinate(object):\n",
    "    def __init__(self, x, y):\n",
    "        self.x = x\n",
    "        self.y = y\n",
    "    def distance(self, other):\n",
    "        x_diff_sq = (self.x - other.x) ** 2\n",
    "        y_diff_sq = (self.y - other.y) ** 2\n",
    "        return (x_diff_sq + y_diff_sq) ** 0.5"
   ]
  },
  {
   "cell_type": "code",
   "execution_count": 219,
   "metadata": {},
   "outputs": [],
   "source": [
    "c = Coordinate(3, 4)\n",
    "origin = Coordinate(0, 0)"
   ]
  },
  {
   "cell_type": "code",
   "execution_count": 220,
   "metadata": {},
   "outputs": [
    {
     "name": "stdout",
     "output_type": "stream",
     "text": [
      "5.0\n",
      "True\n",
      "<__main__.Coordinate object at 0x7f7964515330>\n"
     ]
    }
   ],
   "source": [
    "print(c.distance(origin))  # Prints distance between \"c\" and \"origin\"\n",
    "print(origin.distance(c) == c.distance(origin))  # These two arguments mean the same thing, so prints True.\n",
    "print(Coordinate(c, origin))  # This should print 5.0 ???"
   ]
  },
  {
   "cell_type": "code",
   "execution_count": 221,
   "metadata": {},
   "outputs": [],
   "source": [
    "class Coordinate(object):\n",
    "    def __init__(self, x, y):\n",
    "        self.x = x\n",
    "        self.y = y\n",
    "    def distance(self, other):\n",
    "        x_diff_sq = (self.x - other.x) ** 2\n",
    "        y_diff_sq = (self.y - other.y) ** 2\n",
    "        return (x_diff_sq + y_diff_sq) ** 0.5\n",
    "    def __str__(self) -> str:\n",
    "        return \"<\" + str(self.x) + \",\" + str(self.y) + \">\""
   ]
  },
  {
   "cell_type": "code",
   "execution_count": 222,
   "metadata": {},
   "outputs": [
    {
     "name": "stdout",
     "output_type": "stream",
     "text": [
      "<3,4>\n",
      "<0,0>\n"
     ]
    }
   ],
   "source": [
    "c = Coordinate(3, 4)\n",
    "origin = Coordinate(0, 0)\n",
    "print(c)\n",
    "print(origin)"
   ]
  },
  {
   "cell_type": "code",
   "execution_count": 223,
   "metadata": {},
   "outputs": [
    {
     "name": "stdout",
     "output_type": "stream",
     "text": [
      "True\n"
     ]
    }
   ],
   "source": [
    "print(isinstance(c, Coordinate))"
   ]
  },
  {
   "cell_type": "code",
   "execution_count": 224,
   "metadata": {},
   "outputs": [],
   "source": [
    "# List of class special methods here: https://www.pythonlikeyoumeanit.com/Module4_OOP/Special_Methods.html"
   ]
  },
  {
   "cell_type": "code",
   "execution_count": 225,
   "metadata": {},
   "outputs": [],
   "source": [
    "class Coordinate(object):\n",
    "    def __init__(self, x, y):\n",
    "        self.x = x\n",
    "        self.y = y\n",
    "    def distance(self, other):\n",
    "        x_diff_sq = (self.x - other.x) ** 2\n",
    "        y_diff_sq = (self.y - other.y) ** 2\n",
    "        return (x_diff_sq + y_diff_sq) ** 0.5\n",
    "    def __str__(self) -> str:\n",
    "        return \"<\" + str(self.x) + \",\" + str(self.y) + \">\"\n",
    "    def __sub__(self, other):\n",
    "        return Coordinate(self.x - other.x, self.y - other.y)"
   ]
  },
  {
   "cell_type": "code",
   "execution_count": 226,
   "metadata": {},
   "outputs": [
    {
     "name": "stdout",
     "output_type": "stream",
     "text": [
      "<2,3>\n",
      "<2,3>\n"
     ]
    }
   ],
   "source": [
    "c = Coordinate(3, 4)\n",
    "a = Coordinate(1, 1)\n",
    "origin = Coordinate(0, 0)\n",
    "d = c - a\n",
    "print(d)\n",
    "print(c - a)"
   ]
  },
  {
   "cell_type": "code",
   "execution_count": 227,
   "metadata": {},
   "outputs": [
    {
     "name": "stdout",
     "output_type": "stream",
     "text": [
      "5:30\n"
     ]
    }
   ],
   "source": [
    "class Clock(object):\n",
    "    def __init__(self, time):\n",
    "        self.time = time\n",
    "    def print_time(self):\n",
    "        time = '6:30'\n",
    "        print(self.time)\n",
    "\n",
    "clock = Clock('5:30')\n",
    "clock.print_time()"
   ]
  },
  {
   "cell_type": "code",
   "execution_count": 228,
   "metadata": {},
   "outputs": [],
   "source": [
    "class Fraction(object):\n",
    "    def __init__(self, numerator, denominator) -> None:\n",
    "        self.numerator = numerator\n",
    "        self.denominator = denominator\n",
    "    def __mul__(self, other):\n",
    "        return Fraction(self.numerator * other.numerator, self.denominator * other.denominator)\n",
    "    def __str__(self) -> str:\n",
    "        return str(self.numerator) + \" / \" + str(self.denominator)\n",
    "    def getNumer(self):\n",
    "        return self.numerator\n",
    "    def getDenom(self):\n",
    "        return self.denominator\n",
    "        "
   ]
  },
  {
   "cell_type": "code",
   "execution_count": 229,
   "metadata": {},
   "outputs": [
    {
     "name": "stdout",
     "output_type": "stream",
     "text": [
      "3 / 4\n",
      "1 / 2\n",
      "3 / 8\n"
     ]
    }
   ],
   "source": [
    "a = Fraction(3, 4)\n",
    "b = Fraction(1, 2)\n",
    "print(a)\n",
    "print(b)\n",
    "print (a*b)"
   ]
  },
  {
   "cell_type": "code",
   "execution_count": 230,
   "metadata": {},
   "outputs": [
    {
     "name": "stdout",
     "output_type": "stream",
     "text": [
      "3\n",
      "4\n",
      "4\n"
     ]
    }
   ],
   "source": [
    "print(a.getNumer())\n",
    "print(a.getDenom())\n",
    "print(Fraction.getDenom(a))"
   ]
  },
  {
   "cell_type": "code",
   "execution_count": 231,
   "metadata": {},
   "outputs": [],
   "source": [
    "class Fraction(object):\n",
    "    def __init__(self, numerator, denominator) -> None:\n",
    "        self.numerator = numerator\n",
    "        self.denominator = denominator\n",
    "    def __mul__(self, other):\n",
    "        return Fraction(self.numerator * other.numerator, self.denominator * other.denominator)\n",
    "    def __str__(self) -> str:\n",
    "        return str(self.numerator) + \" / \" + str(self.denominator)\n",
    "    def getNumer(self):\n",
    "        return self.numerator\n",
    "    def getDenom(self):\n",
    "        return self.denominator\n",
    "    def __add__(self, other):\n",
    "        newNumer = self.getNumer() * other.getDenom() + other.getNumer() * self.getDenom()\n",
    "        newDenom = self.getDenom() * other.getDenom()\n",
    "        return Fraction(newNumer, newDenom)\n",
    "    def __sub__(self, other):\n",
    "        newNumer = self.getNumer() * other.getDenom() - other.getNumer() * self.getDenom()\n",
    "        newDenom = self.getDenom() * other.getDenom()\n",
    "        return Fraction(newNumer, newDenom)"
   ]
  },
  {
   "cell_type": "code",
   "execution_count": 232,
   "metadata": {},
   "outputs": [
    {
     "name": "stdout",
     "output_type": "stream",
     "text": [
      "3 / 20\n",
      "19 / 20\n",
      "11 / 20\n"
     ]
    }
   ],
   "source": [
    "m = Fraction(3, 4)\n",
    "n = Fraction(1, 5)\n",
    "print(m*n)\n",
    "print(m+n)\n",
    "print(m-n)"
   ]
  },
  {
   "cell_type": "code",
   "execution_count": 233,
   "metadata": {},
   "outputs": [],
   "source": [
    "#Fraction(3, 4) + 4  # Gives AttributeError: 'int' object has no attribute 'getDenom'"
   ]
  },
  {
   "cell_type": "code",
   "execution_count": 234,
   "metadata": {},
   "outputs": [],
   "source": [
    "class IntSet(object):\n",
    "    def __init__(self) -> None:\n",
    "        self.vals = []\n",
    "    def insert(self, e):\n",
    "        if not e in self.vals:\n",
    "            self.vals.append(e)\n",
    "    def member(self, e):\n",
    "        return e in self.vals\n",
    "    def remove(self, e):\n",
    "        try:\n",
    "            self.vals.remove(e)\n",
    "        except:\n",
    "            raise ValueError(str(e) + \" not found\")\n",
    "    def __str__(self) -> str:\n",
    "        self.vals.sort()\n",
    "        result =\"\"\n",
    "        for num in self.vals:\n",
    "            result = result + str(num) + \",\"\n",
    "        return \"{\" + result[:-1] + \"}\""
   ]
  },
  {
   "cell_type": "code",
   "execution_count": 235,
   "metadata": {},
   "outputs": [
    {
     "name": "stdout",
     "output_type": "stream",
     "text": [
      "<class '__main__.IntSet'>\n",
      "{}\n"
     ]
    }
   ],
   "source": [
    "a = IntSet()\n",
    "print(type(a))\n",
    "print(a)"
   ]
  },
  {
   "cell_type": "code",
   "execution_count": 236,
   "metadata": {},
   "outputs": [
    {
     "name": "stdout",
     "output_type": "stream",
     "text": [
      "{2}\n"
     ]
    }
   ],
   "source": [
    "a.insert(2)\n",
    "print(a)"
   ]
  },
  {
   "cell_type": "code",
   "execution_count": 237,
   "metadata": {},
   "outputs": [
    {
     "name": "stdout",
     "output_type": "stream",
     "text": [
      "{2}\n"
     ]
    }
   ],
   "source": [
    "a.insert(2)  # Does not insert the same number again.\n",
    "print(a)"
   ]
  },
  {
   "cell_type": "code",
   "execution_count": 238,
   "metadata": {},
   "outputs": [
    {
     "name": "stdout",
     "output_type": "stream",
     "text": [
      "{2,3,10,100}\n",
      "False\n",
      "True\n"
     ]
    }
   ],
   "source": [
    "a.insert(3)\n",
    "a.insert(10)\n",
    "a.insert(100)\n",
    "print(a)\n",
    "print(a.member(5))\n",
    "print(a.member(10))"
   ]
  },
  {
   "cell_type": "code",
   "execution_count": 239,
   "metadata": {},
   "outputs": [
    {
     "name": "stdout",
     "output_type": "stream",
     "text": [
      "{2,100}\n"
     ]
    }
   ],
   "source": [
    "a.remove(3)\n",
    "a.remove(10)\n",
    "print(a)"
   ]
  },
  {
   "cell_type": "code",
   "execution_count": 240,
   "metadata": {},
   "outputs": [],
   "source": [
    "#a.remove(5)  # Raises ValueError just as we coded."
   ]
  },
  {
   "cell_type": "code",
   "execution_count": 241,
   "metadata": {},
   "outputs": [],
   "source": [
    "class Coordinate(object):\n",
    "    def __init__(self,x,y):\n",
    "        self.x = x\n",
    "        self.y = y\n",
    "\n",
    "    def getX(self):\n",
    "        # Getter method for a Coordinate object's x coordinate.\n",
    "        # Getter methods are better practice than just accessing an attribute directly\n",
    "        return self.x\n",
    "\n",
    "    def getY(self):\n",
    "        # Getter method for a Coordinate object's y coordinate\n",
    "        return self.y\n",
    "\n",
    "    def __str__(self):\n",
    "        return '<' + str(self.getX()) + ',' + str(self.getY()) + '>'\n",
    "    \n",
    "    def __eq__(self, other) -> bool:\n",
    "        return self.getX() == other.getX() and self.getY() == other.getY()\n",
    "    \n",
    "    def __repr__(self) -> str:\n",
    "        return \"Coordinate(%d,%d)\" % (self.getX(), self.getY())"
   ]
  },
  {
   "cell_type": "code",
   "execution_count": 242,
   "metadata": {},
   "outputs": [
    {
     "name": "stdout",
     "output_type": "stream",
     "text": [
      "Coordinate(3,3)\n"
     ]
    }
   ],
   "source": [
    "a = Coordinate(3, 3)\n",
    "print(a.__repr__())"
   ]
  },
  {
   "cell_type": "code",
   "execution_count": 243,
   "metadata": {},
   "outputs": [
    {
     "name": "stdout",
     "output_type": "stream",
     "text": [
      "False\n",
      "True\n"
     ]
    }
   ],
   "source": [
    "a = Coordinate(3, 3)\n",
    "b = Coordinate(3, 2)\n",
    "c = Coordinate(3, 3)\n",
    "print(a == b)\n",
    "print(a == c)"
   ]
  },
  {
   "cell_type": "code",
   "execution_count": 244,
   "metadata": {},
   "outputs": [
    {
     "name": "stdout",
     "output_type": "stream",
     "text": [
      "Coordinate(3,3)\n"
     ]
    },
    {
     "data": {
      "text/plain": [
       "str"
      ]
     },
     "execution_count": 244,
     "metadata": {},
     "output_type": "execute_result"
    }
   ],
   "source": [
    "print(repr(a))\n",
    "type(repr(a))"
   ]
  },
  {
   "cell_type": "code",
   "execution_count": 245,
   "metadata": {},
   "outputs": [],
   "source": [
    "class intSet(object):\n",
    "    \"\"\"An intSet is a set of integers\n",
    "    The value is represented by a list of ints, self.vals.\n",
    "    Each int in the set occurs in self.vals exactly once.\"\"\"\n",
    "\n",
    "    def __init__(self):\n",
    "        \"\"\"Create an empty set of integers\"\"\"\n",
    "        self.vals = []\n",
    "\n",
    "    def insert(self, e):\n",
    "        \"\"\"Assumes e is an integer and inserts e into self\"\"\" \n",
    "        if not e in self.vals:\n",
    "            self.vals.append(e)\n",
    "\n",
    "    def member(self, e):\n",
    "        \"\"\"Assumes e is an integer\n",
    "           Returns True if e is in self, and False otherwise\"\"\"\n",
    "        return e in self.vals\n",
    "\n",
    "    def remove(self, e):\n",
    "        \"\"\"Assumes e is an integer and removes e from self\n",
    "           Raises ValueError if e is not in self\"\"\"\n",
    "        try:\n",
    "            self.vals.remove(e)\n",
    "        except:\n",
    "            raise ValueError(str(e) + ' not found')\n",
    "\n",
    "    def __str__(self):\n",
    "        \"\"\"Returns a string representation of self\"\"\"\n",
    "        self.vals.sort()\n",
    "        return '{' + ','.join([str(e) for e in self.vals]) + '}'\n",
    "    def intersect(self, other):\n",
    "        \"\"\"Returns the intersection of the two sets: self and other.\"\"\"\n",
    "        intersection_set = intSet()\n",
    "        for num in self.vals:\n",
    "            if other.member(num):\n",
    "                intersection_set.insert(num)\n",
    "        return intersection_set\n",
    "    def __len__(self):\n",
    "        return len(self.vals)"
   ]
  },
  {
   "cell_type": "code",
   "execution_count": 248,
   "metadata": {},
   "outputs": [
    {
     "name": "stdout",
     "output_type": "stream",
     "text": [
      "{2}\n",
      "<class '__main__.intSet'>\n",
      "1\n",
      "2\n"
     ]
    }
   ],
   "source": [
    "a = intSet()\n",
    "b = intSet()\n",
    "a.insert(1)\n",
    "a.insert(2)\n",
    "b.insert(2)\n",
    "b.insert(3)\n",
    "c = a.intersect(b)\n",
    "print(c)\n",
    "print(type(c))\n",
    "print(len(c))\n",
    "print(len(a))"
   ]
  },
  {
   "cell_type": "code",
   "execution_count": 262,
   "metadata": {},
   "outputs": [],
   "source": [
    "class Animal(object):\n",
    "    def __init__(self, age) -> None:\n",
    "        self.age = age\n",
    "        self.name = None\n",
    "    def getAge(self):\n",
    "        return self.age\n",
    "    def getName(self):\n",
    "        return self.name\n",
    "    def setName(self, new_name = \"\"):\n",
    "        self.name = new_name\n",
    "    def setAge(self, new_age):\n",
    "        self.age = new_age\n",
    "    def __str__(self) -> str:\n",
    "        return \"animal:\" + str(self.name) + \":\" + str(self.age)"
   ]
  },
  {
   "cell_type": "code",
   "execution_count": 263,
   "metadata": {},
   "outputs": [
    {
     "name": "stdout",
     "output_type": "stream",
     "text": [
      "animal:None:1\n"
     ]
    }
   ],
   "source": [
    "myAnimal = Animal(1)\n",
    "print(myAnimal)"
   ]
  },
  {
   "cell_type": "code",
   "execution_count": 264,
   "metadata": {},
   "outputs": [
    {
     "name": "stdout",
     "output_type": "stream",
     "text": [
      "animal::1\n"
     ]
    }
   ],
   "source": [
    "myAnimal.setName()\n",
    "print(myAnimal)"
   ]
  },
  {
   "cell_type": "code",
   "execution_count": 265,
   "metadata": {},
   "outputs": [
    {
     "name": "stdout",
     "output_type": "stream",
     "text": [
      "animal:Augustus:1\n"
     ]
    }
   ],
   "source": [
    "myAnimal.setName(\"Augustus\")\n",
    "print(myAnimal)"
   ]
  },
  {
   "cell_type": "code",
   "execution_count": 266,
   "metadata": {},
   "outputs": [],
   "source": [
    "class Cat(Animal):  # __init__ method is inherited from Animal class.\n",
    "    def speak(self):  # This is a new functionality.\n",
    "        print(\"meow\")\n",
    "    def __str__(self) -> str:  # This overrides __str__ method inherited from Animal.\n",
    "        return \"cat:\" + str(self.name) + \":\" + str(self.age)"
   ]
  },
  {
   "cell_type": "code",
   "execution_count": 267,
   "metadata": {},
   "outputs": [
    {
     "name": "stdout",
     "output_type": "stream",
     "text": [
      "Accio\n",
      "Summoning Charm Accio\n",
      "This charm summons an object to the caster, potentially over a significant distance.\n",
      "Confundus Charm Confundo\n",
      "Causes the victim to become confused and befuddled.\n"
     ]
    }
   ],
   "source": [
    "class Spell(object):\n",
    "    def __init__(self, incantation, name):\n",
    "        self.name = name\n",
    "        self.incantation = incantation\n",
    "\n",
    "    def __str__(self):\n",
    "        return self.name + ' ' + self.incantation + '\\n' + self.getDescription()\n",
    "              \n",
    "    def getDescription(self):\n",
    "        return 'No description'\n",
    "    \n",
    "    def execute(self):\n",
    "        print(self.incantation)\n",
    "\n",
    "\n",
    "class Accio(Spell):\n",
    "    def __init__(self):\n",
    "        Spell.__init__(self, 'Accio', 'Summoning Charm')\n",
    "    \n",
    "    def getDescription(self):\n",
    "        return \"This charm summons an object to the caster, potentially over a significant distance.\"\n",
    "\n",
    "class Confundo(Spell):\n",
    "    def __init__(self):\n",
    "        Spell.__init__(self, 'Confundo', 'Confundus Charm')\n",
    "\n",
    "    def getDescription(self):\n",
    "        return 'Causes the victim to become confused and befuddled.'\n",
    "\n",
    "def studySpell(spell):\n",
    "    print(spell)\n",
    "\n",
    "spell = Accio()\n",
    "spell.execute()\n",
    "studySpell(spell)\n",
    "studySpell(Confundo())"
   ]
  },
  {
   "cell_type": "code",
   "execution_count": 268,
   "metadata": {},
   "outputs": [],
   "source": [
    "class A(object):\n",
    "    def __init__(self):\n",
    "        self.a = 1\n",
    "    def x(self):\n",
    "        print(\"A.x\")\n",
    "    def y(self):\n",
    "        print(\"A.y\")\n",
    "    def z(self):\n",
    "        print(\"A.z\")\n",
    "\n",
    "class B(A):\n",
    "    def __init__(self):\n",
    "        A.__init__(self)\n",
    "        self.a = 2\n",
    "        self.b = 3\n",
    "    def y(self):\n",
    "        print(\"B.y\")\n",
    "    def z(self):\n",
    "        print(\"B.z\")\n",
    "\n",
    "class C(object):\n",
    "    def __init__(self):\n",
    "        self.a = 4\n",
    "        self.c = 5\n",
    "    def y(self):\n",
    "        print(\"C.y\")\n",
    "    def z(self):\n",
    "        print(\"C.z\")\n",
    "\n",
    "class D(C, B):\n",
    "    def __init__(self):\n",
    "        C.__init__(self)\n",
    "        B.__init__(self)\n",
    "        self.d = 6\n",
    "    def z(self):\n",
    "        print(\"D.z\")"
   ]
  },
  {
   "cell_type": "code",
   "execution_count": 272,
   "metadata": {},
   "outputs": [
    {
     "name": "stdout",
     "output_type": "stream",
     "text": [
      "A.x\n"
     ]
    }
   ],
   "source": []
  }
 ],
 "metadata": {
  "kernelspec": {
   "display_name": ".env",
   "language": "python",
   "name": ".env"
  },
  "language_info": {
   "codemirror_mode": {
    "name": "ipython",
    "version": 3
   },
   "file_extension": ".py",
   "mimetype": "text/x-python",
   "name": "python",
   "nbconvert_exporter": "python",
   "pygments_lexer": "ipython3",
   "version": "3.10.5"
  },
  "orig_nbformat": 4
 },
 "nbformat": 4,
 "nbformat_minor": 2
}
