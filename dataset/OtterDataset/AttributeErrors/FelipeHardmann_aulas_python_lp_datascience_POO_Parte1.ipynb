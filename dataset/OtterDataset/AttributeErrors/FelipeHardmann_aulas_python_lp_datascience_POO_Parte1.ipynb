{
  "nbformat": 4,
  "nbformat_minor": 0,
  "metadata": {
    "colab": {
      "provenance": []
    },
    "kernelspec": {
      "name": "python3",
      "display_name": "Python 3"
    },
    "language_info": {
      "name": "python"
    }
  },
  "cells": [
    {
      "cell_type": "markdown",
      "source": [
        "##Bem-vindo(a) a primeira aula de POO(Programação orientada a objetos)\n",
        "\n",
        "Tópicos da aula de hoje:\n",
        "\n",
        "- 1° Introdução ao *POO*   \n",
        "- 2° Mão na massa em *POO*\n",
        "- 3° Exercícios de *POO*"
      ],
      "metadata": {
        "id": "IYjD0QUXUqdL"
      }
    },
    {
      "cell_type": "markdown",
      "source": [
        "###Introudução ao *POO*\n",
        "\n",
        "####Paradigma de programação\n",
        "\n",
        "O paradigma de uma linguagem de programação é a sua identidade. Corresponde a um conjunto de características que, juntas, definem como ela opera e resolve os problemas. Nesse caso, se entende como paradigma como um conjunto de regras que uma linguagem de programação vai seguir.\n",
        "\n",
        "Um paradigma de programação fornece e determina a visão\n",
        "que o programador possui sobre a estruturação e execução do\n",
        "programa. Por exemplo, em programação orientada a objetos,\n",
        "os programadores podem abstrair um programa como uma\n",
        "coleção de objetos que interagem entre si."
      ],
      "metadata": {
        "id": "oXzI-WimYl6Y"
      }
    },
    {
      "cell_type": "markdown",
      "source": [
        "###Paradigma da programação orientada a objetos\n",
        "\n",
        "A programação orientada a objetos surgiu na década de 60 com Alan Kay.\n",
        "\n",
        "Alguns links para entender a história do *POO*:\n",
        "\n",
        "https://materialpublic.imd.ufrn.br/curso/disciplina/1/8/1/3\n",
        "\n",
        "https://pt.wikipedia.org/wiki/Programa%C3%A7%C3%A3o_orientada_a_objetos\n"
      ],
      "metadata": {
        "id": "sI22AlNXaSmU"
      }
    },
    {
      "cell_type": "markdown",
      "source": [
        "O *POO* foi criado para tentar se aproximar o mundo virtual do mundo real.\n",
        "\n",
        "Nesse paradigma o programador é responsável por moldar o mundo da orientação a objetos, estamos trabalhando com a orientação a objetos desde o começo, você só não percebeu, quando implementamos a orientação a objetos, estamos afirmando que tudo agora no nosso programa é um objeto, assim como no mundo real, onde tudo é um objeto real."
      ],
      "metadata": {
        "id": "eWGR_vt-cB_X"
      }
    },
    {
      "cell_type": "markdown",
      "source": [
        "###Tudo é um objeto!!!!\n",
        "\n",
        "Pense em um objeto como uma \"super variável\":\n",
        "O objeto armazena dados, também, pode-se fazer\n",
        "requisições a esse objeto, pedindo que ele execute\n",
        "operações.\n",
        "\n",
        "Vamos ver um exemplo de quando estavámos utilizando o *POO*"
      ],
      "metadata": {
        "id": "skYPn0wEcTXr"
      }
    },
    {
      "cell_type": "code",
      "source": [
        "# Aqui declaramos a variável do tipo string como hugo\n",
        "name = 'hugo'\n",
        "# Vamos pedir o tipo dessa variável\n",
        "print(type(name))"
      ],
      "metadata": {
        "colab": {
          "base_uri": "https://localhost:8080/"
        },
        "id": "LcRVif-wdQzG",
        "outputId": "f25df691-6b52-4a3c-cab7-c62c439444ba"
      },
      "execution_count": null,
      "outputs": [
        {
          "output_type": "stream",
          "name": "stdout",
          "text": [
            "<class 'str'>\n"
          ]
        }
      ]
    },
    {
      "cell_type": "markdown",
      "source": [
        "Já vimos isso nas primeiras aulas, o retorno da classe *str*.\n",
        "\n",
        "Além disso, vimos que podemos fazer algumas funções dentro desse tipo, certo?"
      ],
      "metadata": {
        "id": "0-BtuNIGd5NH"
      }
    },
    {
      "cell_type": "code",
      "source": [
        "print(name.upper())\n",
        "print(name.lower())\n",
        "print(name.title())"
      ],
      "metadata": {
        "colab": {
          "base_uri": "https://localhost:8080/"
        },
        "id": "DBI5MYm_eMoc",
        "outputId": "ab589933-eb7e-4ea0-f25e-26ce7abae426"
      },
      "execution_count": null,
      "outputs": [
        {
          "output_type": "stream",
          "name": "stdout",
          "text": [
            "HUGO\n",
            "hugo\n",
            "Hugo\n"
          ]
        }
      ]
    },
    {
      "cell_type": "markdown",
      "source": [
        "Certo, mas se estivessémos trabalhando com números?"
      ],
      "metadata": {
        "id": "FPNo6--ieRz6"
      }
    },
    {
      "cell_type": "code",
      "source": [
        "age = 8\n",
        "print(type(age))\n",
        "# Nesse caso, temos o tipo int"
      ],
      "metadata": {
        "colab": {
          "base_uri": "https://localhost:8080/"
        },
        "id": "zY6Kui7teqSF",
        "outputId": "be107046-a3ba-44da-b2d4-faa955fd17dd"
      },
      "execution_count": null,
      "outputs": [
        {
          "output_type": "stream",
          "name": "stdout",
          "text": [
            "<class 'int'>\n"
          ]
        }
      ]
    },
    {
      "cell_type": "markdown",
      "source": [
        "Agora vamos tentar chamar as mesmas funções"
      ],
      "metadata": {
        "id": "bFUmfp3Ceugx"
      }
    },
    {
      "cell_type": "code",
      "source": [
        "age.upper()\n",
        "age.title()"
      ],
      "metadata": {
        "colab": {
          "base_uri": "https://localhost:8080/",
          "height": 203
        },
        "id": "pavwogsUe66h",
        "outputId": "af3d6d3c-741d-461d-80e0-0c0ac07b26b5"
      },
      "execution_count": null,
      "outputs": [
        {
          "output_type": "error",
          "ename": "AttributeError",
          "evalue": "ignored",
          "traceback": [
            "\u001b[0;31m---------------------------------------------------------------------------\u001b[0m",
            "\u001b[0;31mAttributeError\u001b[0m                            Traceback (most recent call last)",
            "\u001b[0;32m<ipython-input-4-a5469fda1c71>\u001b[0m in \u001b[0;36m<cell line: 1>\u001b[0;34m()\u001b[0m\n\u001b[0;32m----> 1\u001b[0;31m \u001b[0mage\u001b[0m\u001b[0;34m.\u001b[0m\u001b[0mupper\u001b[0m\u001b[0;34m(\u001b[0m\u001b[0;34m)\u001b[0m\u001b[0;34m\u001b[0m\u001b[0;34m\u001b[0m\u001b[0m\n\u001b[0m\u001b[1;32m      2\u001b[0m \u001b[0mage\u001b[0m\u001b[0;34m.\u001b[0m\u001b[0mtitle\u001b[0m\u001b[0;34m(\u001b[0m\u001b[0;34m)\u001b[0m\u001b[0;34m\u001b[0m\u001b[0;34m\u001b[0m\u001b[0m\n",
            "\u001b[0;31mAttributeError\u001b[0m: 'int' object has no attribute 'upper'"
          ]
        }
      ]
    },
    {
      "cell_type": "markdown",
      "source": [
        "Perceba que eu não tenho como chamar essas funções, justamente por ela não ser da classe *int*.\n",
        "\n",
        "Ou seja, cada classe que vimos, possuem seus métodos próprios, com responsabilidades únicas.\n",
        "\n",
        "Pensando assim, fazemos requisições a cada objeto para efetuar seus métodos, assim, uma mensagem é uma chamada pertencente a um método em particular."
      ],
      "metadata": {
        "id": "ySTUwCNIe9Pp"
      }
    },
    {
      "cell_type": "markdown",
      "source": [
        "De uma classe se gera um objeto, esses\n",
        "objetos possuem dados e instruções sobre\n",
        "como manipular os dados que estão ligados\n",
        "à solução do problema."
      ],
      "metadata": {
        "id": "YJWQx2NgfT7y"
      }
    },
    {
      "cell_type": "markdown",
      "source": [
        "###Exemplos\n",
        "\n",
        "Vamos ver um exemplo de carros.\n",
        "\n",
        "Podemos descrever um carro através de suas características, que vamos chamar eles de atributos\n",
        "\n",
        "Podemos entender os atributos como variáveis que pertencem aquela classe em específico."
      ],
      "metadata": {
        "id": "V_ke3rdLlFw3"
      }
    },
    {
      "cell_type": "markdown",
      "source": [
        "Vamos visualizar os atributos/características de um carro:\n",
        "\n",
        "- marca\n",
        "- modelo\n",
        "- ano\n",
        "- peso\n",
        "\n",
        "Nossas classes podem possuir quantas características quisermos e nós, como programadores vamos decidir quais essa classe terá.\n",
        "\n",
        "Nesse caso, na programação, as características que classe possui, chamamos de atributos."
      ],
      "metadata": {
        "id": "08tBuIyUn6U8"
      }
    },
    {
      "cell_type": "markdown",
      "source": [
        "Além disso, podemos descrever algumas ações que nosso objeto possui, vamos chamar essas ações de métodos e utilizar as nossas funções."
      ],
      "metadata": {
        "id": "G9znLasBqBPf"
      }
    },
    {
      "cell_type": "markdown",
      "source": [
        "E vemos esses métodos quando chamamos alguma variável de algum tipo específico, por exemplo quando temos a variável do tipo String, possuímos aqueles métodos específicos das Strings, tipo *upper*, *title* e entre outros.\n",
        "\n",
        "Nesse caso do nosso carro, ele possui alguns métodos, ou seja, ações.\n",
        "\n",
        "- *ligar()*\n",
        "- *desligar()*\n",
        "- *acelerar()*\n",
        "- *buzinar()*\n",
        "- *frear()*"
      ],
      "metadata": {
        "id": "DJW0DMh4q51b"
      }
    },
    {
      "cell_type": "markdown",
      "source": [
        "### Objetos\n",
        "\n",
        "Vamos entender um pouco sobre os objetos\n",
        "\n",
        "O objeto é a representação de um conceito/entidade do mundo real, que pode ser física ou conceitual e possui um significado bem definido para o software.\n",
        "\n",
        "De forma bem resumida, o objeto é uma instância de uma classe.\n",
        "\n",
        "Já entendemos que as classes são abstrações que\n",
        "criamos de algo do mundo real, como fazemos para criar\n",
        "algo concreto dessas classes? Ou seja, criar os OBJETOS,\n",
        "que são instâncias da classe."
      ],
      "metadata": {
        "id": "OX4CFrXos7k8"
      }
    },
    {
      "cell_type": "markdown",
      "source": [
        "Vamos criar nossa classe em *Python*, temos a palavra reservada chamada *class*.\n",
        "\n",
        "###Obs:\n",
        "Quando criamos as classes em Python, vamos mudar o nosso estilo de codificação, vamos usar o PascalCase, porém, somente em **CLASSES**."
      ],
      "metadata": {
        "id": "ItJhSUIutD-D"
      }
    },
    {
      "cell_type": "code",
      "source": [
        "class Carro:\n",
        "  ..."
      ],
      "metadata": {
        "id": "LNngEJnttWGa"
      },
      "execution_count": null,
      "outputs": []
    },
    {
      "cell_type": "markdown",
      "source": [
        "### Criando os atributos da classe\n",
        "\n",
        "Para criarmos os atributos de uma classe, utilizamos o método chamado de construtor.\n",
        "\n",
        "Será o método construtor que irá construir algo concreto\n",
        "daquela classe: O objeto.\n",
        "\n",
        "Em Python utilizamos __ ___init___ __ para criar o método\n",
        "construtor de determinada classe."
      ],
      "metadata": {
        "id": "t7cia-jXmtcd"
      }
    },
    {
      "cell_type": "markdown",
      "source": [
        "Agora vamos criar nossos atributos, nossas características.\n",
        "\n",
        "Junto com nosso método construtor."
      ],
      "metadata": {
        "id": "UyP_lizptnNa"
      }
    },
    {
      "cell_type": "code",
      "source": [
        "class Carro:\n",
        "  def __init__(self, marca, modelo, ano, peso):\n",
        "    self.marca = marca\n",
        "    self.modelo = modelo\n",
        "    self.ano = ano\n",
        "    self.peso = peso"
      ],
      "metadata": {
        "id": "icmH0HK0t5c-"
      },
      "execution_count": null,
      "outputs": []
    },
    {
      "cell_type": "markdown",
      "source": [
        "##Quem é Self?\n",
        "\n",
        "Self é um parâmetro que se refere a própria instância da classe. Serve para acessar os atributos e métodos da classe referentes àquele objeto em específico."
      ],
      "metadata": {
        "id": "479Z_VWDvcTW"
      }
    },
    {
      "cell_type": "markdown",
      "source": [
        "###Instanciando nosso objeto\n",
        "\n",
        "Como já vimos acima, estavamos trabalhando com objetos desde o começo, então, sabemos, em parte, como instanciar um objeto."
      ],
      "metadata": {
        "id": "B6-zh9ySnSgU"
      }
    },
    {
      "cell_type": "code",
      "source": [
        "carro1 = Carro('chevrolet', 'Celta', 2009, 1000)"
      ],
      "metadata": {
        "id": "fPiO82pKuCUd"
      },
      "execution_count": null,
      "outputs": []
    },
    {
      "cell_type": "markdown",
      "source": [
        "Certo, agora vamos tentar visualizar esse objeto"
      ],
      "metadata": {
        "id": "vU_7N-oWu7EZ"
      }
    },
    {
      "cell_type": "code",
      "source": [
        "print(carro1)"
      ],
      "metadata": {
        "colab": {
          "base_uri": "https://localhost:8080/"
        },
        "id": "0vGSR7Bsu_Dk",
        "outputId": "709dc9a1-5340-49eb-ce1e-c36d58aee89a"
      },
      "execution_count": null,
      "outputs": [
        {
          "output_type": "stream",
          "name": "stdout",
          "text": [
            "<__main__.Carro object at 0x7ace1d2fcd90>\n"
          ]
        }
      ]
    },
    {
      "cell_type": "markdown",
      "source": [
        "Perceba que ele um pouco diferente, mas evidência a classe, Carro e o valor de valor de memória"
      ],
      "metadata": {
        "id": "gnKzBimgvBRd"
      }
    },
    {
      "cell_type": "markdown",
      "source": [
        "Então, para visualizarmos ele, vai ser um pouco diferente, vamos precisar visualizar ele em forma de dicionário"
      ],
      "metadata": {
        "id": "pSWUw7QKvNge"
      }
    },
    {
      "cell_type": "code",
      "source": [
        "print(carro1.__dict__)"
      ],
      "metadata": {
        "colab": {
          "base_uri": "https://localhost:8080/"
        },
        "id": "LUsSh-LFvW0u",
        "outputId": "fb384a99-2814-4932-d42a-ce5caac27572"
      },
      "execution_count": null,
      "outputs": [
        {
          "output_type": "stream",
          "name": "stdout",
          "text": [
            "{'marca': 'chevrolet', 'modelo': 'Celta', 'ano': 2009, 'peso': 1000}\n"
          ]
        }
      ]
    },
    {
      "cell_type": "markdown",
      "source": [
        "Certo, agora que temos os atributos da classe, podemos criar as ações, ou seja, os métodos.\n",
        "\n",
        "Nesse caso, os métodos são funções padrões"
      ],
      "metadata": {
        "id": "3IQAKaV6vY7W"
      }
    },
    {
      "cell_type": "code",
      "source": [
        "class Carro:\n",
        "  def __init__(self, marca, modelo, ano, peso):\n",
        "    self.marca = marca\n",
        "    self.modelo = modelo\n",
        "    self.ano = ano\n",
        "    self.peso = peso\n",
        "\n",
        "  def ligar_carro(self):\n",
        "    return f'{self.modelo} está ligando'\n",
        "\n",
        "  def desligar_carro(self):\n",
        "    return f'{self.modelo} está desligando'\n",
        "\n",
        "  def acelerar_carro(self):\n",
        "    return f'{self.modelo} está acelerando'"
      ],
      "metadata": {
        "id": "sXiSBAYcv3dz"
      },
      "execution_count": null,
      "outputs": []
    },
    {
      "cell_type": "code",
      "source": [
        "carro1 = Carro('chevrolet', 'Celta', 2009, 1000)"
      ],
      "metadata": {
        "id": "nrKSGEEkv7F8"
      },
      "execution_count": null,
      "outputs": []
    },
    {
      "cell_type": "markdown",
      "source": [
        "Agora vamos ver o que tem de diferente no nosso objeto carro1."
      ],
      "metadata": {
        "id": "MbvyzqaEwfyr"
      }
    },
    {
      "cell_type": "code",
      "source": [
        "print(carro1.ligar_carro())"
      ],
      "metadata": {
        "colab": {
          "base_uri": "https://localhost:8080/"
        },
        "id": "kxNc1YNKwkyb",
        "outputId": "65cf56fc-ca19-497a-e2bd-b62e2c7e261e"
      },
      "execution_count": null,
      "outputs": [
        {
          "output_type": "stream",
          "name": "stdout",
          "text": [
            "Celta está ligando\n"
          ]
        }
      ]
    },
    {
      "cell_type": "markdown",
      "source": [
        "Perceba, agora eu posso acessar as funções do meu carro."
      ],
      "metadata": {
        "id": "uOXJm9Nlwn17"
      }
    },
    {
      "cell_type": "markdown",
      "source": [
        "Nesse caso, vamos fazer nossa primeira atividade sobre POO"
      ],
      "metadata": {
        "id": "mHWqa3XBwtkJ"
      }
    },
    {
      "cell_type": "markdown",
      "source": [
        "##Atividade 1\n",
        "\n",
        "\n",
        "\n",
        "Crie 2 classes com as seguintes características:\n",
        "\n",
        "nome do arquivo : mamiferos.py\n",
        "\n",
        "  Classe Cachorro:\n",
        "  - Atributos\n",
        "      \n",
        "      nome\n",
        "      \n",
        "      raça\n",
        "      \n",
        "      cor\n",
        "  - Métodos\n",
        "      \n",
        "      latir\n",
        "      \n",
        "      andar\n",
        "      \n",
        "      fazer festa\n",
        "\n",
        "Classe Gato:\n",
        "\n",
        "  - Atributos\n",
        "      \n",
        "      nome\n",
        "      \n",
        "      raça\n",
        "      \n",
        "      cor\n",
        "\n",
        "  - Métodos\n",
        "      \n",
        "      miar\n",
        "      \n",
        "      andar\n",
        "      \n",
        "      brincar\n",
        "\n",
        "  OBS : este último método deve ter um parâmetro nomeado com valor 'novelo'\n",
        "\n"
      ],
      "metadata": {
        "id": "sVSIPZbNxMau"
      }
    },
    {
      "cell_type": "markdown",
      "source": [
        "##Atividade 2:\n",
        "\n",
        "Pegue a atividade 1 e padronize ela nos conceitos de type hints, em **TUDO**"
      ],
      "metadata": {
        "id": "RpVEocxUxonc"
      }
    },
    {
      "cell_type": "markdown",
      "source": [
        "##Atividade 3:\n",
        "\n",
        "\n",
        "\n",
        "Crie uma classe chamada produto com as seguintes características:\n",
        "\n",
        "nome do arquivo : produto.py\n",
        "\n",
        "  - Atributos\n",
        "      \n",
        "      nome\n",
        "      \n",
        "      preço\n",
        "            \n",
        "      categoria\n",
        "      \n",
        "      descrição\n",
        "  - Método\n",
        "      \n",
        "      reajustar preço\n",
        "\n"
      ],
      "metadata": {
        "id": "KgjnQwDjyEPa"
      }
    },
    {
      "cell_type": "markdown",
      "source": [
        "### Atividade 4\n",
        "\n",
        "Com base na atividade 3, você deve criar um arquivo *main.py* e esse arquivo deve fazer o cadastro de todos os produtos."
      ],
      "metadata": {
        "id": "Ko6BUm7ZySsF"
      }
    }
  ]
}