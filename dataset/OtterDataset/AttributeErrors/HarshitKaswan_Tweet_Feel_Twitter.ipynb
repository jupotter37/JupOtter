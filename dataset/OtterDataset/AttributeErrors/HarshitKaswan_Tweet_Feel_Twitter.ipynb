{
 "cells": [
  {
   "cell_type": "code",
   "execution_count": 1,
   "id": "1ea279b8-cdaa-42de-bd21-ee2eeeeba193",
   "metadata": {
    "tags": []
   },
   "outputs": [
    {
     "name": "stdout",
     "output_type": "stream",
     "text": [
      "Collecting git+https://github.com/tweepy/tweepy.git\n",
      "  Cloning https://github.com/tweepy/tweepy.git to c:\\users\\hp\\appdata\\local\\temp\\pip-req-build-c8o6d8oe\n",
      "  Resolved https://github.com/tweepy/tweepy.git to commit f32d12dbddbd877470446657812a10a04292d0c9\n",
      "  Preparing metadata (setup.py): started\n",
      "  Preparing metadata (setup.py): finished with status 'done'\n",
      "Requirement already satisfied: oauthlib<4,>=3.2.0 in c:\\users\\hp\\anaconda3\\lib\\site-packages (from tweepy==4.14.0) (3.2.2)\n",
      "Requirement already satisfied: requests<3,>=2.27.0 in c:\\users\\hp\\anaconda3\\lib\\site-packages (from tweepy==4.14.0) (2.31.0)\n",
      "Requirement already satisfied: requests-oauthlib<2,>=1.2.0 in c:\\users\\hp\\anaconda3\\lib\\site-packages (from tweepy==4.14.0) (1.3.1)\n",
      "Requirement already satisfied: charset-normalizer<4,>=2 in c:\\users\\hp\\anaconda3\\lib\\site-packages (from requests<3,>=2.27.0->tweepy==4.14.0) (2.0.4)\n",
      "Requirement already satisfied: idna<4,>=2.5 in c:\\users\\hp\\anaconda3\\lib\\site-packages (from requests<3,>=2.27.0->tweepy==4.14.0) (3.4)\n",
      "Requirement already satisfied: urllib3<3,>=1.21.1 in c:\\users\\hp\\anaconda3\\lib\\site-packages (from requests<3,>=2.27.0->tweepy==4.14.0) (1.26.16)\n",
      "Requirement already satisfied: certifi>=2017.4.17 in c:\\users\\hp\\anaconda3\\lib\\site-packages (from requests<3,>=2.27.0->tweepy==4.14.0) (2023.11.17)\n",
      "Building wheels for collected packages: tweepy\n",
      "  Building wheel for tweepy (setup.py): started\n",
      "  Building wheel for tweepy (setup.py): finished with status 'done'\n",
      "  Created wheel for tweepy: filename=tweepy-4.14.0-py3-none-any.whl size=99906 sha256=b2f2f0cfff7039ef358a3b60800490629ad4c2ec497ac84320891025bb1294ca\n",
      "  Stored in directory: C:\\Users\\HP\\AppData\\Local\\Temp\\pip-ephem-wheel-cache-nuyzw_ah\\wheels\\22\\11\\a0\\47d5804230beb0e66641adbed91d8b3ee2ab2904aa08abb149\n",
      "Successfully built tweepy\n",
      "Installing collected packages: tweepy\n",
      "Successfully installed tweepy-4.14.0\n",
      "Note: you may need to restart the kernel to use updated packages.\n"
     ]
    },
    {
     "name": "stderr",
     "output_type": "stream",
     "text": [
      "  Running command git clone --filter=blob:none --quiet https://github.com/tweepy/tweepy.git 'C:\\Users\\HP\\AppData\\Local\\Temp\\pip-req-build-c8o6d8oe'\n"
     ]
    }
   ],
   "source": [
    "pip install git+https://github.com/tweepy/tweepy.git\n",
    "consumer_key = \"Gr3QAOhcarnH8Y0jzlX166NdY\" #Your API/Consumer key \n",
    "consumer_secret = \"w1UKlLMYUNBxNDaKJvL34J4ses8HDzKvhPBm2eEBPxesPBJ5Xa\" #Your API/Consumer Secret Key\n",
    "access_token = \"1733928604537667584-vZWpSKGlv8y5vJEACKIjbavBobGcF7\"    #Your Access token key\n",
    "access_token_secret = \"yCg74MqBqksBZl8WIyKutD4H41qW2SrxAlRzOxwQC39in\" #Your Access token Secret key"
   ]
  },
  {
   "cell_type": "code",
   "execution_count": 7,
   "id": "04cda54b-28d1-4eea-824a-368629fcea76",
   "metadata": {
    "tags": []
   },
   "outputs": [
    {
     "name": "stdout",
     "output_type": "stream",
     "text": [
      "Status Failed On, 403 Forbidden\n",
      "453 - You currently have access to a subset of Twitter API v2 endpoints and limited v1.1 endpoints (e.g. media post, oauth) only. If you need access to this endpoint, you may need a different access level. You can learn more here: https://developer.twitter.com/en/portal/product\n"
     ]
    }
   ],
   "source": [
    "import tweepy\n",
    "import pandas as pd\n",
    "\n",
    "consumer_key = \"Gr3QAOhcarnH8Y0jzlX166NdY\" #Your API/Consumer key \n",
    "consumer_secret = \"w1UKlLMYUNBxNDaKJvL34J4ses8HDzKvhPBm2eEBPxesPBJ5Xa\" #Your API/Consumer Secret Key\n",
    "access_token = \"1733928604537667584-vZWpSKGlv8y5vJEACKIjbavBobGcF7\"    #Your Access token key\n",
    "access_token_secret = \"yCg74MqBqksBZl8WIyKutD4H41qW2SrxAlRzOxwQC39in\" #Your Access token Secret key\n",
    "\n",
    "#Pass in our twitter API authentication key\n",
    "auth = tweepy.OAuth1UserHandler(\n",
    "    consumer_key, consumer_secret,\n",
    "    access_token, access_token_secret\n",
    ")\n",
    "\n",
    "#Instantiate the tweepy API\n",
    "api = tweepy.API(auth, wait_on_rate_limit=True)\n",
    "\n",
    "\n",
    "search_query = \"'ref''world cup'-filter:retweets AND -filter:replies AND -filter:links\"\n",
    "no_of_tweets = 100\n",
    "\n",
    "try:\n",
    "    #The number of tweets we want to retrieved from the search\n",
    "    tweets = api.search_tweets(q=search_query, lang=\"en\", count=no_of_tweets, tweet_mode ='extended')\n",
    "    \n",
    "    #Pulling Some attributes from the tweet\n",
    "    attributes_container = [[tweet.user.name, tweet.created_at, tweet.favorite_count, tweet.source, tweet.full_text] for tweet in tweets]\n",
    "\n",
    "    #Creation of column list to rename the columns in the dataframe\n",
    "    columns = [\"User\", \"Date Created\", \"Number of Likes\", \"Source of Tweet\", \"Tweet\"]\n",
    "    \n",
    "    #Creation of Dataframe\n",
    "    tweets_df = pd.DataFrame(attributes_container, columns=columns)\n",
    "except BaseException as e:\n",
    "    print('Status Failed On,',str(e))"
   ]
  },
  {
   "cell_type": "code",
   "execution_count": 8,
   "id": "11ca8406-b079-4e6a-b8d3-db9428795004",
   "metadata": {
    "tags": []
   },
   "outputs": [
    {
     "name": "stdout",
     "output_type": "stream",
     "text": [
      "Error: 403, {\"client_id\":\"28160404\",\"detail\":\"When authenticating requests to the Twitter API v2 endpoints, you must use keys and tokens from a Twitter developer App that is attached to a Project. You can create a project via the developer portal.\",\"registration_url\":\"https://developer.twitter.com/en/docs/projects/overview\",\"title\":\"Client Forbidden\",\"required_enrollment\":\"Appropriate Level of API Access\",\"reason\":\"client-not-enrolled\",\"type\":\"https://api.twitter.com/2/problems/client-forbidden\"}\n"
     ]
    }
   ],
   "source": [
    "import requests\n",
    "\n",
    "# Replace this with your Twitter Bearer Token\n",
    "bearer_token = \"AAAAAAAAAAAAAAAAAAAAAJSxrQEAAAAAhTfzMrPQTqSi8ZSUuTAk%2BZIOc%2Bw%3DjgTm5ijXCZ89ncH8VoiUxUXKt5s4xZoCrp89K2zYpHf3CT28gR\"\n",
    "\n",
    "# Twitter username\n",
    "twitter_username = \"elonmusk\"\n",
    "\n",
    "# API v2 endpoint for user tweets\n",
    "endpoint = f\"https://api.twitter.com/2/tweets/search/recent?query=from:{twitter_username}\"\n",
    "\n",
    "# Set up headers with the Bearer Token\n",
    "headers = {\"Authorization\": f\"Bearer {bearer_token}\"}\n",
    "\n",
    "# Make the API request\n",
    "response = requests.get(endpoint, headers=headers)\n",
    "\n",
    "if response.status_code == 200:\n",
    "    data = response.json()\n",
    "    if \"data\" in data:\n",
    "        latest_tweet = data[\"data\"][0][\"text\"]\n",
    "        print(f\"Latest tweet by @{twitter_username}:\")\n",
    "        print(latest_tweet)\n",
    "    else:\n",
    "        print(\"No tweets found.\")\n",
    "else:\n",
    "    print(f\"Error: {response.status_code}, {response.text}\")\n"
   ]
  },
  {
   "cell_type": "code",
   "execution_count": 9,
   "id": "632ba247-3450-4665-a3c8-612a56901c95",
   "metadata": {
    "tags": []
   },
   "outputs": [
    {
     "ename": "AttributeError",
     "evalue": "module 'tweepy' has no attribute 'TweepError'",
     "output_type": "error",
     "traceback": [
      "\u001b[1;31m---------------------------------------------------------------------------\u001b[0m",
      "\u001b[1;31mForbidden\u001b[0m                                 Traceback (most recent call last)",
      "Cell \u001b[1;32mIn[9], line 21\u001b[0m\n\u001b[0;32m     19\u001b[0m \u001b[38;5;28;01mtry\u001b[39;00m:\n\u001b[0;32m     20\u001b[0m     \u001b[38;5;66;03m# Get user timeline\u001b[39;00m\n\u001b[1;32m---> 21\u001b[0m     user_timeline \u001b[38;5;241m=\u001b[39m api\u001b[38;5;241m.\u001b[39muser_timeline(screen_name\u001b[38;5;241m=\u001b[39mtwitter_username, count\u001b[38;5;241m=\u001b[39m\u001b[38;5;241m10\u001b[39m, tweet_mode\u001b[38;5;241m=\u001b[39m\u001b[38;5;124m\"\u001b[39m\u001b[38;5;124mextended\u001b[39m\u001b[38;5;124m\"\u001b[39m)\n\u001b[0;32m     23\u001b[0m     \u001b[38;5;66;03m# Find the first tweet that is marked as \"pinned\"\u001b[39;00m\n",
      "File \u001b[1;32m~\\anaconda3\\Lib\\site-packages\\tweepy\\api.py:33\u001b[0m, in \u001b[0;36mpagination.<locals>.decorator.<locals>.wrapper\u001b[1;34m(*args, **kwargs)\u001b[0m\n\u001b[0;32m     31\u001b[0m \u001b[38;5;129m@functools\u001b[39m\u001b[38;5;241m.\u001b[39mwraps(method)\n\u001b[0;32m     32\u001b[0m \u001b[38;5;28;01mdef\u001b[39;00m \u001b[38;5;21mwrapper\u001b[39m(\u001b[38;5;241m*\u001b[39margs, \u001b[38;5;241m*\u001b[39m\u001b[38;5;241m*\u001b[39mkwargs):\n\u001b[1;32m---> 33\u001b[0m     \u001b[38;5;28;01mreturn\u001b[39;00m method(\u001b[38;5;241m*\u001b[39margs, \u001b[38;5;241m*\u001b[39m\u001b[38;5;241m*\u001b[39mkwargs)\n",
      "File \u001b[1;32m~\\anaconda3\\Lib\\site-packages\\tweepy\\api.py:46\u001b[0m, in \u001b[0;36mpayload.<locals>.decorator.<locals>.wrapper\u001b[1;34m(*args, **kwargs)\u001b[0m\n\u001b[0;32m     45\u001b[0m kwargs[\u001b[38;5;124m'\u001b[39m\u001b[38;5;124mpayload_type\u001b[39m\u001b[38;5;124m'\u001b[39m] \u001b[38;5;241m=\u001b[39m payload_type\n\u001b[1;32m---> 46\u001b[0m \u001b[38;5;28;01mreturn\u001b[39;00m method(\u001b[38;5;241m*\u001b[39margs, \u001b[38;5;241m*\u001b[39m\u001b[38;5;241m*\u001b[39mkwargs)\n",
      "File \u001b[1;32m~\\anaconda3\\Lib\\site-packages\\tweepy\\api.py:414\u001b[0m, in \u001b[0;36mAPI.user_timeline\u001b[1;34m(self, **kwargs)\u001b[0m\n\u001b[0;32m    376\u001b[0m \u001b[38;5;250m\u001b[39m\u001b[38;5;124;03m\"\"\"user_timeline(*, user_id, screen_name, since_id, count, max_id, \\\u001b[39;00m\n\u001b[0;32m    377\u001b[0m \u001b[38;5;124;03m                 trim_user, exclude_replies, include_rts)\u001b[39;00m\n\u001b[0;32m    378\u001b[0m \n\u001b[1;32m   (...)\u001b[0m\n\u001b[0;32m    412\u001b[0m \u001b[38;5;124;03mhttps://developer.twitter.com/en/docs/twitter-api/v1/tweets/timelines/api-reference/get-statuses-user_timeline\u001b[39;00m\n\u001b[0;32m    413\u001b[0m \u001b[38;5;124;03m\"\"\"\u001b[39;00m\n\u001b[1;32m--> 414\u001b[0m \u001b[38;5;28;01mreturn\u001b[39;00m \u001b[38;5;28mself\u001b[39m\u001b[38;5;241m.\u001b[39mrequest(\n\u001b[0;32m    415\u001b[0m     \u001b[38;5;124m'\u001b[39m\u001b[38;5;124mGET\u001b[39m\u001b[38;5;124m'\u001b[39m, \u001b[38;5;124m'\u001b[39m\u001b[38;5;124mstatuses/user_timeline\u001b[39m\u001b[38;5;124m'\u001b[39m, endpoint_parameters\u001b[38;5;241m=\u001b[39m(\n\u001b[0;32m    416\u001b[0m         \u001b[38;5;124m'\u001b[39m\u001b[38;5;124muser_id\u001b[39m\u001b[38;5;124m'\u001b[39m, \u001b[38;5;124m'\u001b[39m\u001b[38;5;124mscreen_name\u001b[39m\u001b[38;5;124m'\u001b[39m, \u001b[38;5;124m'\u001b[39m\u001b[38;5;124msince_id\u001b[39m\u001b[38;5;124m'\u001b[39m, \u001b[38;5;124m'\u001b[39m\u001b[38;5;124mcount\u001b[39m\u001b[38;5;124m'\u001b[39m, \u001b[38;5;124m'\u001b[39m\u001b[38;5;124mmax_id\u001b[39m\u001b[38;5;124m'\u001b[39m,\n\u001b[0;32m    417\u001b[0m         \u001b[38;5;124m'\u001b[39m\u001b[38;5;124mtrim_user\u001b[39m\u001b[38;5;124m'\u001b[39m, \u001b[38;5;124m'\u001b[39m\u001b[38;5;124mexclude_replies\u001b[39m\u001b[38;5;124m'\u001b[39m, \u001b[38;5;124m'\u001b[39m\u001b[38;5;124minclude_rts\u001b[39m\u001b[38;5;124m'\u001b[39m\n\u001b[0;32m    418\u001b[0m     ), \u001b[38;5;241m*\u001b[39m\u001b[38;5;241m*\u001b[39mkwargs\n\u001b[0;32m    419\u001b[0m )\n",
      "File \u001b[1;32m~\\anaconda3\\Lib\\site-packages\\tweepy\\api.py:271\u001b[0m, in \u001b[0;36mAPI.request\u001b[1;34m(self, method, endpoint, endpoint_parameters, params, headers, json_payload, parser, payload_list, payload_type, post_data, files, require_auth, return_cursors, upload_api, use_cache, **kwargs)\u001b[0m\n\u001b[0;32m    270\u001b[0m \u001b[38;5;28;01mif\u001b[39;00m resp\u001b[38;5;241m.\u001b[39mstatus_code \u001b[38;5;241m==\u001b[39m \u001b[38;5;241m403\u001b[39m:\n\u001b[1;32m--> 271\u001b[0m     \u001b[38;5;28;01mraise\u001b[39;00m Forbidden(resp)\n\u001b[0;32m    272\u001b[0m \u001b[38;5;28;01mif\u001b[39;00m resp\u001b[38;5;241m.\u001b[39mstatus_code \u001b[38;5;241m==\u001b[39m \u001b[38;5;241m404\u001b[39m:\n",
      "\u001b[1;31mForbidden\u001b[0m: 403 Forbidden\n453 - You currently have access to a subset of Twitter API v2 endpoints and limited v1.1 endpoints (e.g. media post, oauth) only. If you need access to this endpoint, you may need a different access level. You can learn more here: https://developer.twitter.com/en/portal/product",
      "\nDuring handling of the above exception, another exception occurred:\n",
      "\u001b[1;31mAttributeError\u001b[0m                            Traceback (most recent call last)",
      "Cell \u001b[1;32mIn[9], line 32\u001b[0m\n\u001b[0;32m     29\u001b[0m     \u001b[38;5;28;01melse\u001b[39;00m:\n\u001b[0;32m     30\u001b[0m         \u001b[38;5;28mprint\u001b[39m(\u001b[38;5;124mf\u001b[39m\u001b[38;5;124m\"\u001b[39m\u001b[38;5;124m@\u001b[39m\u001b[38;5;132;01m{\u001b[39;00mtwitter_username\u001b[38;5;132;01m}\u001b[39;00m\u001b[38;5;124m does not have a pinned tweet.\u001b[39m\u001b[38;5;124m\"\u001b[39m)\n\u001b[1;32m---> 32\u001b[0m \u001b[38;5;28;01mexcept\u001b[39;00m tweepy\u001b[38;5;241m.\u001b[39mTweepError \u001b[38;5;28;01mas\u001b[39;00m e:\n\u001b[0;32m     33\u001b[0m     \u001b[38;5;28mprint\u001b[39m(\u001b[38;5;124mf\u001b[39m\u001b[38;5;124m\"\u001b[39m\u001b[38;5;124mError: \u001b[39m\u001b[38;5;132;01m{\u001b[39;00me\u001b[38;5;132;01m}\u001b[39;00m\u001b[38;5;124m\"\u001b[39m)\n",
      "\u001b[1;31mAttributeError\u001b[0m: module 'tweepy' has no attribute 'TweepError'"
     ]
    }
   ],
   "source": [
    "import tweepy\n",
    "\n",
    "# Replace these values with your own from the Twitter Developer portal\n",
    "consumer_key = \"Gr3QAOhcarnH8Y0jzlX166NdY\" #Your API/Consumer key \n",
    "consumer_secret = \"w1UKlLMYUNBxNDaKJvL34J4ses8HDzKvhPBm2eEBPxesPBJ5Xa\" #Your API/Consumer Secret Key\n",
    "access_token = \"1733928604537667584-vZWpSKGlv8y5vJEACKIjbavBobGcF7\"    #Your Access token key\n",
    "access_token_secret = \"yCg74MqBqksBZl8WIyKutD4H41qW2SrxAlRzOxwQC39in\" #Your Access token Secret key\n",
    "\n",
    "# Set up Tweepy with your credentials\n",
    "auth = tweepy.OAuthHandler(consumer_key, consumer_secret)\n",
    "auth.set_access_token(access_token, access_token_secret)\n",
    "\n",
    "# Create the API object\n",
    "api = tweepy.API(auth)\n",
    "\n",
    "# Twitter username\n",
    "twitter_username = \"mehulmpt\"\n",
    "\n",
    "try:\n",
    "    # Get user timeline\n",
    "    user_timeline = api.user_timeline(screen_name=twitter_username, count=10, tweet_mode=\"extended\")\n",
    "\n",
    "    # Find the first tweet that is marked as \"pinned\"\n",
    "    pinned_tweet = next((tweet for tweet in user_timeline if hasattr(tweet, \"pinned\") and tweet.pinned), None)\n",
    "\n",
    "    if pinned_tweet:\n",
    "        print(f\"Pinned tweet by @{twitter_username}:\")\n",
    "        print(pinned_tweet.full_text)\n",
    "    else:\n",
    "        print(f\"@{twitter_username} does not have a pinned tweet.\")\n",
    "\n",
    "except tweepy.TweepError as e:\n",
    "    print(f\"Error: {e}\")\n"
   ]
  },
  {
   "cell_type": "code",
   "execution_count": null,
   "id": "c7163e7b-dab5-4afd-8de7-e99e18186161",
   "metadata": {},
   "outputs": [],
   "source": []
  }
 ],
 "metadata": {
  "kernelspec": {
   "display_name": "Python 3 (ipykernel)",
   "language": "python",
   "name": "python3"
  },
  "language_info": {
   "codemirror_mode": {
    "name": "ipython",
    "version": 3
   },
   "file_extension": ".py",
   "mimetype": "text/x-python",
   "name": "python",
   "nbconvert_exporter": "python",
   "pygments_lexer": "ipython3",
   "version": "3.11.5"
  }
 },
 "nbformat": 4,
 "nbformat_minor": 5
}
