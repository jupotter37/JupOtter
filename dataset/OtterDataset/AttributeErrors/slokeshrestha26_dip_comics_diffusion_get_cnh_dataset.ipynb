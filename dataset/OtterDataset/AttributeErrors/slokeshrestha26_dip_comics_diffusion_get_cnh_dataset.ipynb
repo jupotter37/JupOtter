{
 "cells": [
  {
   "cell_type": "code",
   "execution_count": 3,
   "metadata": {},
   "outputs": [],
   "source": [
    "import os\n",
    "\n",
    "os.makedirs(\"CNH/Parts\", exist_ok=True)\n",
    "\n",
    "urls = [\n",
    "    \"https://ia601007.us.archive.org/1/items/3.yukonho/1.%20Calvin%20and%20Hobbes.pdf\", \n",
    "    \"https://ia801007.us.archive.org/1/items/3.yukonho/2.%20Something%20Under%20the%20Bed%20is%20Drooling.pdf\",\n",
    "    \"https://ia801007.us.archive.org/1/items/3.yukonho/3.%20Yukon%20Ho!.pdf\",\n",
    "    \"https://ia801007.us.archive.org/1/items/3.yukonho/4.%20Weirdos%20from%20Another%20Planet!.pdf\",\n",
    "    \"https://ia601007.us.archive.org/1/items/3.yukonho/5.%20The%20Revenge%20of%20the%20Baby-sat.pdf\",\n",
    "    \"https://ia601007.us.archive.org/1/items/3.yukonho/6.%20Scientific%20Progress%20Goes%20'Boink'.pdf\",\n",
    "    \"https://ia801007.us.archive.org/1/items/3.yukonho/7.%20Attack%20of%20the%20Deranged%20Mutant%20Killer%20Monster%20Snow%20Goons.pdf\",\n",
    "    \"https://ia801007.us.archive.org/1/items/3.yukonho/8.%20The%20Days%20Are%20Just%20Packed.pdf\",\n",
    "    \"https://ia801007.us.archive.org/1/items/3.yukonho/9.%20Homicidal%20Psycho%20Jungle%20Cat.pdf\",\n",
    "    \"https://ia601007.us.archive.org/1/items/3.yukonho/10.%20There's%20Treasure%20Everywhere.pdf\",\n",
    "    \"https://ia801007.us.archive.org/1/items/3.yukonho/11.%20It's%20A%20Magical%20World.pdf\",\n",
    "]"
   ]
  },
  {
   "cell_type": "code",
   "execution_count": 16,
   "metadata": {},
   "outputs": [],
   "source": [
    "# # URLLIB Approach (Faster than Requests)\n",
    "# from urllib.request import urlretrieve\n",
    "\n",
    "# for i, url in enumerate(urls):\n",
    "#     dlloc = f\"CNH/Parts/Part{i+1:02d}.pdf\"\n",
    "#     urlretrieve(url, dlloc)"
   ]
  },
  {
   "cell_type": "code",
   "execution_count": 17,
   "metadata": {},
   "outputs": [],
   "source": [
    "# # Requests Approach (Slower than urllib)\n",
    "# import requests\n",
    "\n",
    "# for i, url in enumerate(urls):\n",
    "#     dlloc = f\"CNH/Parts/Part{i+1:02d}.pdf\"\n",
    "#     response = requests.get(url)\n",
    "#     if response.ok and response.status_code==200:\n",
    "#         with open(dlloc, 'wb') as f:\n",
    "#             f.write(response.content)"
   ]
  },
  {
   "cell_type": "code",
   "execution_count": 20,
   "metadata": {},
   "outputs": [
    {
     "name": "stdout",
     "output_type": "stream",
     "text": [
      "CNH/Part07\n"
     ]
    },
    {
     "ename": "KeyboardInterrupt",
     "evalue": "",
     "output_type": "error",
     "traceback": [
      "\u001b[0;31m---------------------------------------------------------------------------\u001b[0m",
      "\u001b[0;31mKeyboardInterrupt\u001b[0m                         Traceback (most recent call last)",
      "\u001b[1;32m/work/09175/asvin/ls6/dip/dip_comics_diffusion/get_cnh_dataset.ipynb Cell 4\u001b[0m line \u001b[0;36m2\n\u001b[1;32m     <a href='vscode-notebook-cell://ssh-remote%2Bls6.tacc.utexas.edu/work/09175/asvin/ls6/dip/dip_comics_diffusion/get_cnh_dataset.ipynb#W3sdnNjb2RlLXJlbW90ZQ%3D%3D?line=22'>23</a>\u001b[0m os\u001b[39m.\u001b[39mmakedirs(dumploc, exist_ok\u001b[39m=\u001b[39m\u001b[39mTrue\u001b[39;00m)\n\u001b[1;32m     <a href='vscode-notebook-cell://ssh-remote%2Bls6.tacc.utexas.edu/work/09175/asvin/ls6/dip/dip_comics_diffusion/get_cnh_dataset.ipynb#W3sdnNjb2RlLXJlbW90ZQ%3D%3D?line=24'>25</a>\u001b[0m filenamegen \u001b[39m=\u001b[39m getfilename()\n\u001b[0;32m---> <a href='vscode-notebook-cell://ssh-remote%2Bls6.tacc.utexas.edu/work/09175/asvin/ls6/dip/dip_comics_diffusion/get_cnh_dataset.ipynb#W3sdnNjb2RlLXJlbW90ZQ%3D%3D?line=26'>27</a>\u001b[0m pages \u001b[39m=\u001b[39m convert_from_path(comicfile, \u001b[39m1000\u001b[39;49m, fmt\u001b[39m=\u001b[39;49m\u001b[39m'\u001b[39;49m\u001b[39mpng\u001b[39;49m\u001b[39m'\u001b[39;49m, output_folder\u001b[39m=\u001b[39;49mdumploc, output_file\u001b[39m=\u001b[39;49m\u001b[39m'\u001b[39;49m\u001b[39mpage\u001b[39;49m\u001b[39m'\u001b[39;49m)\n\u001b[1;32m     <a href='vscode-notebook-cell://ssh-remote%2Bls6.tacc.utexas.edu/work/09175/asvin/ls6/dip/dip_comics_diffusion/get_cnh_dataset.ipynb#W3sdnNjb2RlLXJlbW90ZQ%3D%3D?line=27'>28</a>\u001b[0m \u001b[39m# for count, page in tqdm(enumerate(pages)):\u001b[39;00m\n\u001b[1;32m     <a href='vscode-notebook-cell://ssh-remote%2Bls6.tacc.utexas.edu/work/09175/asvin/ls6/dip/dip_comics_diffusion/get_cnh_dataset.ipynb#W3sdnNjb2RlLXJlbW90ZQ%3D%3D?line=28'>29</a>\u001b[0m \u001b[39m#     page.save(os.path.join(dumploc,f'page{count:03d}.png'), 'PNG')\u001b[39;00m\n\u001b[1;32m     <a href='vscode-notebook-cell://ssh-remote%2Bls6.tacc.utexas.edu/work/09175/asvin/ls6/dip/dip_comics_diffusion/get_cnh_dataset.ipynb#W3sdnNjb2RlLXJlbW90ZQ%3D%3D?line=29'>30</a>\u001b[0m \u001b[39m#     print(os.path.join(dumploc,f'page{count:03d}.png'))\u001b[39;00m\n",
      "File \u001b[0;32m/work/09175/asvin/ls6/dip/dip_comics_diffusion/dipenv/lib/python3.9/site-packages/pdf2image/pdf2image.py:196\u001b[0m, in \u001b[0;36mconvert_from_path\u001b[0;34m(pdf_path, dpi, output_folder, first_page, last_page, fmt, jpegopt, thread_count, userpw, use_cropbox, strict, transparent, single_file, output_file, poppler_path, grayscale, size, paths_only, use_pdftocairo, timeout)\u001b[0m\n\u001b[1;32m    192\u001b[0m images \u001b[39m=\u001b[39m []\n\u001b[1;32m    194\u001b[0m \u001b[39mfor\u001b[39;00m uid, proc \u001b[39min\u001b[39;00m processes:\n\u001b[1;32m    195\u001b[0m     \u001b[39m#try:\u001b[39;00m\n\u001b[0;32m--> 196\u001b[0m     data, err \u001b[39m=\u001b[39m proc\u001b[39m.\u001b[39;49mcommunicate()\n\u001b[1;32m    197\u001b[0m     \u001b[39m#except TimeoutExpired:\u001b[39;00m\n\u001b[1;32m    198\u001b[0m     \u001b[39m#    proc.kill()\u001b[39;00m\n\u001b[1;32m    199\u001b[0m     \u001b[39m#    outs, errs = proc.communicate()\u001b[39;00m\n\u001b[1;32m    200\u001b[0m     \u001b[39m#    raise PDFPopplerTimeoutError(\"Run poppler poppler timeout.\")\u001b[39;00m\n\u001b[1;32m    202\u001b[0m     \u001b[39mif\u001b[39;00m \u001b[39mb\u001b[39m\u001b[39m\"\u001b[39m\u001b[39mSyntax Error\u001b[39m\u001b[39m\"\u001b[39m \u001b[39min\u001b[39;00m err \u001b[39mand\u001b[39;00m strict:\n",
      "File \u001b[0;32m/opt/apps/intel19/python3/3.9.7/lib/python3.9/subprocess.py:1134\u001b[0m, in \u001b[0;36mPopen.communicate\u001b[0;34m(self, input, timeout)\u001b[0m\n\u001b[1;32m   1131\u001b[0m     endtime \u001b[39m=\u001b[39m \u001b[39mNone\u001b[39;00m\n\u001b[1;32m   1133\u001b[0m \u001b[39mtry\u001b[39;00m:\n\u001b[0;32m-> 1134\u001b[0m     stdout, stderr \u001b[39m=\u001b[39m \u001b[39mself\u001b[39;49m\u001b[39m.\u001b[39;49m_communicate(\u001b[39minput\u001b[39;49m, endtime, timeout)\n\u001b[1;32m   1135\u001b[0m \u001b[39mexcept\u001b[39;00m \u001b[39mKeyboardInterrupt\u001b[39;00m:\n\u001b[1;32m   1136\u001b[0m     \u001b[39m# https://bugs.python.org/issue25942\u001b[39;00m\n\u001b[1;32m   1137\u001b[0m     \u001b[39m# See the detailed comment in .wait().\u001b[39;00m\n\u001b[1;32m   1138\u001b[0m     \u001b[39mif\u001b[39;00m timeout \u001b[39mis\u001b[39;00m \u001b[39mnot\u001b[39;00m \u001b[39mNone\u001b[39;00m:\n",
      "File \u001b[0;32m/opt/apps/intel19/python3/3.9.7/lib/python3.9/subprocess.py:1979\u001b[0m, in \u001b[0;36mPopen._communicate\u001b[0;34m(self, input, endtime, orig_timeout)\u001b[0m\n\u001b[1;32m   1972\u001b[0m     \u001b[39mself\u001b[39m\u001b[39m.\u001b[39m_check_timeout(endtime, orig_timeout,\n\u001b[1;32m   1973\u001b[0m                         stdout, stderr,\n\u001b[1;32m   1974\u001b[0m                         skip_check_and_raise\u001b[39m=\u001b[39m\u001b[39mTrue\u001b[39;00m)\n\u001b[1;32m   1975\u001b[0m     \u001b[39mraise\u001b[39;00m \u001b[39mRuntimeError\u001b[39;00m(  \u001b[39m# Impossible :)\u001b[39;00m\n\u001b[1;32m   1976\u001b[0m         \u001b[39m'\u001b[39m\u001b[39m_check_timeout(..., skip_check_and_raise=True) \u001b[39m\u001b[39m'\u001b[39m\n\u001b[1;32m   1977\u001b[0m         \u001b[39m'\u001b[39m\u001b[39mfailed to raise TimeoutExpired.\u001b[39m\u001b[39m'\u001b[39m)\n\u001b[0;32m-> 1979\u001b[0m ready \u001b[39m=\u001b[39m selector\u001b[39m.\u001b[39;49mselect(timeout)\n\u001b[1;32m   1980\u001b[0m \u001b[39mself\u001b[39m\u001b[39m.\u001b[39m_check_timeout(endtime, orig_timeout, stdout, stderr)\n\u001b[1;32m   1982\u001b[0m \u001b[39m# XXX Rewrite these to use non-blocking I/O on the file\u001b[39;00m\n\u001b[1;32m   1983\u001b[0m \u001b[39m# objects; they are no longer using C stdio!\u001b[39;00m\n",
      "File \u001b[0;32m/opt/apps/intel19/python3/3.9.7/lib/python3.9/selectors.py:416\u001b[0m, in \u001b[0;36m_PollLikeSelector.select\u001b[0;34m(self, timeout)\u001b[0m\n\u001b[1;32m    414\u001b[0m ready \u001b[39m=\u001b[39m []\n\u001b[1;32m    415\u001b[0m \u001b[39mtry\u001b[39;00m:\n\u001b[0;32m--> 416\u001b[0m     fd_event_list \u001b[39m=\u001b[39m \u001b[39mself\u001b[39;49m\u001b[39m.\u001b[39;49m_selector\u001b[39m.\u001b[39;49mpoll(timeout)\n\u001b[1;32m    417\u001b[0m \u001b[39mexcept\u001b[39;00m \u001b[39mInterruptedError\u001b[39;00m:\n\u001b[1;32m    418\u001b[0m     \u001b[39mreturn\u001b[39;00m ready\n",
      "\u001b[0;31mKeyboardInterrupt\u001b[0m: "
     ]
    }
   ],
   "source": [
    "from pdf2image import convert_from_path\n",
    "\n",
    "def getfilename():\n",
    "    count = 1\n",
    "    while True:\n",
    "        yield f'page{count:03d}.png'\n",
    "        count += 1\n",
    "\n",
    "folderbase = 'CNH'\n",
    "partsbase = os.path.join(folderbase,'Parts')\n",
    "itemlist = os.listdir(partsbase)\n",
    "\n",
    "for item in itemlist:\n",
    "    # comicfile = 'CNH/Parts/Part01.pdf'\n",
    "    if item[-3:] != 'pdf':\n",
    "        continue\n",
    "    else:\n",
    "        comicfile = os.path.join(partsbase, item) \n",
    "\n",
    "    partname = os.path.splitext(os.path.basename(comicfile))[0]\n",
    "    dumploc = os.path.join(folderbase, partname)\n",
    "    print(dumploc)\n",
    "    os.makedirs(dumploc, exist_ok=True)\n",
    "\n",
    "    filenamegen = getfilename()\n",
    "\n",
    "    pages = convert_from_path(comicfile, 1000, fmt='png', output_folder=dumploc, output_file='page')\n",
    "    # for count, page in tqdm(enumerate(pages)):\n",
    "    #     page.save(os.path.join(dumploc,f'page{count:03d}.png'), 'PNG')\n",
    "    #     print(os.path.join(dumploc,f'page{count:03d}.png'))"
   ]
  },
  {
   "cell_type": "code",
   "execution_count": 19,
   "metadata": {},
   "outputs": [
    {
     "ename": "AttributeError",
     "evalue": "'generator' object has no attribute 'next'",
     "output_type": "error",
     "traceback": [
      "\u001b[0;31m---------------------------------------------------------------------------\u001b[0m",
      "\u001b[0;31mAttributeError\u001b[0m                            Traceback (most recent call last)",
      "\u001b[1;32m/work/09175/asvin/ls6/dip/dip_comics_diffusion/get_cnh_dataset.ipynb Cell 5\u001b[0m line \u001b[0;36m8\n\u001b[1;32m      <a href='vscode-notebook-cell://ssh-remote%2Bls6.tacc.utexas.edu/work/09175/asvin/ls6/dip/dip_comics_diffusion/get_cnh_dataset.ipynb#W4sdnNjb2RlLXJlbW90ZQ%3D%3D?line=4'>5</a>\u001b[0m         count \u001b[39m+\u001b[39m\u001b[39m=\u001b[39m \u001b[39m1\u001b[39m\n\u001b[1;32m      <a href='vscode-notebook-cell://ssh-remote%2Bls6.tacc.utexas.edu/work/09175/asvin/ls6/dip/dip_comics_diffusion/get_cnh_dataset.ipynb#W4sdnNjb2RlLXJlbW90ZQ%3D%3D?line=6'>7</a>\u001b[0m g \u001b[39m=\u001b[39m getfilename()\n\u001b[0;32m----> <a href='vscode-notebook-cell://ssh-remote%2Bls6.tacc.utexas.edu/work/09175/asvin/ls6/dip/dip_comics_diffusion/get_cnh_dataset.ipynb#W4sdnNjb2RlLXJlbW90ZQ%3D%3D?line=7'>8</a>\u001b[0m g\u001b[39m.\u001b[39;49mnext()\n\u001b[1;32m      <a href='vscode-notebook-cell://ssh-remote%2Bls6.tacc.utexas.edu/work/09175/asvin/ls6/dip/dip_comics_diffusion/get_cnh_dataset.ipynb#W4sdnNjb2RlLXJlbW90ZQ%3D%3D?line=8'>9</a>\u001b[0m \u001b[39mprint\u001b[39m(\u001b[39mnext\u001b[39m(g))\n\u001b[1;32m     <a href='vscode-notebook-cell://ssh-remote%2Bls6.tacc.utexas.edu/work/09175/asvin/ls6/dip/dip_comics_diffusion/get_cnh_dataset.ipynb#W4sdnNjb2RlLXJlbW90ZQ%3D%3D?line=9'>10</a>\u001b[0m \u001b[39mprint\u001b[39m(\u001b[39mnext\u001b[39m(g))\n",
      "\u001b[0;31mAttributeError\u001b[0m: 'generator' object has no attribute 'next'"
     ]
    }
   ],
   "source": [
    "def getfilename():\n",
    "    count = 1\n",
    "    while 1:\n",
    "        yield f'page{count:03d}.png'\n",
    "        count += 1\n",
    "\n",
    "g = getfilename()\n",
    "g.next()\n",
    "print(next(g))\n",
    "print(next(g))\n",
    "print(next(g))"
   ]
  }
 ],
 "metadata": {
  "kernelspec": {
   "display_name": "Python 3",
   "language": "python",
   "name": "python3"
  },
  "language_info": {
   "codemirror_mode": {
    "name": "ipython",
    "version": 3
   },
   "file_extension": ".py",
   "mimetype": "text/x-python",
   "name": "python",
   "nbconvert_exporter": "python",
   "pygments_lexer": "ipython3",
   "version": "3.9.7"
  }
 },
 "nbformat": 4,
 "nbformat_minor": 2
}
