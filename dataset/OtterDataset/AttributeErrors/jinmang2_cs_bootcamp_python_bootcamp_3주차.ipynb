{
 "cells": [
  {
   "cell_type": "markdown",
   "metadata": {},
   "source": [
    "# bootcamp 3주차 막쓰기"
   ]
  },
  {
   "cell_type": "markdown",
   "metadata": {},
   "source": [
    "## 0. Call By Value / Call by Reference\n",
    "-  C코드로 설명하는 call by object / reference\n",
    "- visual studio 때문에 Window를 못떠남...ㅠㅠ"
   ]
  },
  {
   "cell_type": "code",
   "execution_count": null,
   "metadata": {},
   "outputs": [],
   "source": [
    "# Call By Value\n",
    "\n",
    "#include <stdio.h>\n",
    "\n",
    "void change_value(int x, int val) {\n",
    "    x = val;\n",
    "    printf(\"%d in change_value \\n\", x);\n",
    "}\n",
    "\n",
    "int main(void) {\n",
    "    int x = 10;\n",
    "    # call by value\n",
    "    change_value(x, 20);\n",
    "    printf(\"%d in main \\n\", x);\n",
    "    \n",
    "    return 0;\n",
    "}\n",
    "\n",
    ">> 20 in change_value\n",
    ">> 10 in main\n",
    "\n",
    "# x라는 값만 새로운 stackframe에 있는 값만 전달한다고 하여 \"Call By Value\"\n",
    "# 값만 전달했을 뿐, 전혀 다른 메모리 공간에 존재하는 다른 존재!"
   ]
  },
  {
   "cell_type": "code",
   "execution_count": null,
   "metadata": {},
   "outputs": [],
   "source": [
    "# Call By Reference\n",
    "\n",
    "#include <stdio.h>\n",
    "\n",
    "void change_value(int * x, int val) {\n",
    "    # 주소값, 참조할 값을 전달 (참조값 -> 주소값)\n",
    "    *x = val; # dereference\n",
    "    printf(\"%d in change_value \\n\", *x);\n",
    "}\n",
    "\n",
    "int main(void) {\n",
    "    int x = 10;\n",
    "    # call by value\n",
    "    change_value(&x, 20);\n",
    "    printf(\"%d in main \\n\", x);\n",
    "    \n",
    "    return 0;\n",
    "}\n",
    "\n",
    ">> 20 in change_value\n",
    ">> 20 in main\n",
    "\n",
    "# int = 4byte, 주소값 존재\n",
    "# 여기서의 x는 pointer라는 개념!\n",
    "# &x라는 것은 첫번째 주소값을 참고하라는 이야기!(주소값을 전달, 첫번째 주소값을 가리키게 됨)\n",
    "# 즉, 접근하면 역참조를 하여 첫번째 주소값에 간섭하게 됨\n",
    "\n",
    "void change_value(int * x, int val) {\n",
    "    *x = val; # dereference\n",
    "    printf(\"%d in change_value \\n\", *x);\n",
    "}\n",
    "\n",
    "int main(void) {\n",
    "    int x = 10;\n",
    "    # call by value\n",
    "    change_value(&x, 20);\n",
    "    printf(\"%#x in main \\n\", x);\n",
    "    \n",
    "    return 0;\n",
    "}\n",
    "\n",
    ">> (주소값) in change_value\n",
    ">> 20 in main"
   ]
  },
  {
   "cell_type": "markdown",
   "metadata": {},
   "source": [
    "## 1. Call by object-reference\n",
    "- 여러분은 지금부터 지옥을 맛보게 될 것입니다.\n",
    "- Call by assignment라는 말이 훨씬 더 잘 설명하는 용어임."
   ]
  },
  {
   "cell_type": "code",
   "execution_count": 2,
   "metadata": {},
   "outputs": [],
   "source": [
    "def change_value(x, val):\n",
    "    x = val\n",
    "    print(\"%d in change_value\" % x)\n",
    "    #print(\"{} in change_value\".format(x))"
   ]
  },
  {
   "cell_type": "code",
   "execution_count": 4,
   "metadata": {},
   "outputs": [
    {
     "name": "stdout",
     "output_type": "stream",
     "text": [
      "20 in change_value\n",
      "10 in main\n"
     ]
    }
   ],
   "source": [
    "x = 10\n",
    "change_value(x,20)\n",
    "print(\"%d in main\" % x)"
   ]
  },
  {
   "cell_type": "code",
   "execution_count": 7,
   "metadata": {},
   "outputs": [],
   "source": [
    "def change_val(li, idx, val):\n",
    "    li[idx]=val\n",
    "    # list를 바꾼 것이 아니고 list의 값이 참조하고 있는 값을 바꿈!\n",
    "    # 때문에 main memory에 있는 값도 바뀌게 됨\n",
    "    print(str(li) + \" in change_val\")\n",
    "    \n",
    "# 파이썬이 call by value라면 이렇게 했을 때 내부에서 절대 값이 바뀌면 안됌."
   ]
  },
  {
   "cell_type": "code",
   "execution_count": 10,
   "metadata": {},
   "outputs": [
    {
     "name": "stdout",
     "output_type": "stream",
     "text": [
      "[5, 2, 3] in change_val\n",
      "[5, 2, 3] in main\n"
     ]
    }
   ],
   "source": [
    "li = [1,2,3]\n",
    "change_val(li, 0 ,5)\n",
    "print(str(li) + \" in main\")\n",
    "\n",
    "# 어라 그런데 상태가...? 왜 바꼈지??\n",
    "# Call By Value가 아니네!"
   ]
  },
  {
   "cell_type": "markdown",
   "metadata": {},
   "source": [
    "- in python, 인자를 전달 -> 참조값"
   ]
  },
  {
   "cell_type": "code",
   "execution_count": 11,
   "metadata": {},
   "outputs": [],
   "source": [
    "def func(a):\n",
    "    print(hex(id(a)))\n",
    "    \n",
    "# id : 주소값을 가져오는 함수\n",
    "# hex : 16진수로 변환"
   ]
  },
  {
   "cell_type": "code",
   "execution_count": 13,
   "metadata": {},
   "outputs": [
    {
     "name": "stdout",
     "output_type": "stream",
     "text": [
      "0x544e6d60\n",
      "0x544e6d60\n"
     ]
    }
   ],
   "source": [
    "a = 10\n",
    "print(hex(id(a)))\n",
    "func(a)\n",
    "\n",
    "# 만일 두 개가 같다면 같은 참조값을 가리키고 있다는 것!\n",
    "\n",
    "# 제일 처음에는 reference로 시작하는 것이 맞다!"
   ]
  },
  {
   "cell_type": "code",
   "execution_count": 14,
   "metadata": {},
   "outputs": [
    {
     "name": "stdout",
     "output_type": "stream",
     "text": [
      "20 in change_value\n",
      "10 in main\n"
     ]
    }
   ],
   "source": [
    "def change_value(x, val):\n",
    "    x = val\n",
    "    # 이 순간에서 python은 모든 것을 바꿈!\n",
    "    # 제일 처음에는 reference로 시작하는 것이 맞음\n",
    "    # 허나, assignment를 하는 순간, 가리키고 있던 값을 무시하고 할당된 값을 참조\n",
    "    # 그리고 함수가 끝나면 stackframe이 사라지고 원래의 값을(처음 주소값) 가리킴\n",
    "    print(\"%d in change_value\" % x)\n",
    "    \n",
    "x = 10\n",
    "change_value(x,20)\n",
    "print(\"%d in main\" % x)"
   ]
  },
  {
   "cell_type": "markdown",
   "metadata": {},
   "source": [
    "- mutable (변경 가능 객체)\n",
    " - list, dictionary\n",
    "- immutable (변경 불가능 객체)\n",
    " - 수(정수, 실수), 문자열, tuple"
   ]
  },
  {
   "cell_type": "code",
   "execution_count": 15,
   "metadata": {},
   "outputs": [],
   "source": [
    "a = 10\n",
    "a = 20\n",
    "\n",
    "# 10, 20은 절대로 못 바꾸는 객체!\n",
    "# 가리키는 것만 다르게 가리키게 될 것일뿐.\n",
    "# 이것이 python 내부의 동작 구조"
   ]
  },
  {
   "cell_type": "code",
   "execution_count": 16,
   "metadata": {},
   "outputs": [
    {
     "name": "stdout",
     "output_type": "stream",
     "text": [
      "[4, 5, 6] in change_val\n",
      "[1, 2, 3] in main\n"
     ]
    }
   ],
   "source": [
    "def change_val(li, new_li):\n",
    "    li = new_li\n",
    "    print(str(li) + \" in change_val\")\n",
    "li = [1,2,3]\n",
    "change_val(li, [4,5,6])\n",
    "print(str(li) + \" in main\")\n",
    "\n",
    "# 이건 안 바뀐다.\n",
    "\n",
    "# assignment를 어떻게 할 것이냐에 따라 달라지는 것!"
   ]
  },
  {
   "cell_type": "markdown",
   "metadata": {},
   "source": [
    "## 2. Unicode decode error"
   ]
  },
  {
   "cell_type": "markdown",
   "metadata": {},
   "source": [
    "- network에서는 1byte단위로 통신\n",
    "- 네트워크에서 문자열을 전송받는 상황\n",
    "- marp 파일 ㅎㅎ"
   ]
  },
  {
   "cell_type": "code",
   "execution_count": null,
   "metadata": {},
   "outputs": [],
   "source": [
    "f = open(\"from_network.dat\", \"rb\")\n",
    "data = f.read()\n",
    "data\n",
    "type(data)\n",
    "data.decode >> UnicodeDecodeError\n",
    "data.decode('cp949') #utf-8 70%"
   ]
  },
  {
   "cell_type": "markdown",
   "metadata": {},
   "source": [
    "## Definition"
   ]
  },
  {
   "cell_type": "markdown",
   "metadata": {},
   "source": [
    "Character Set\n",
    "- 문자 집합\n",
    "- 문자(Character)을 모아둔 것\n",
    "- ex) 라틴 문자"
   ]
  },
  {
   "cell_type": "markdown",
   "metadata": {},
   "source": [
    "Coded Character Set, CSS\n",
    "- 문자와 문자에 매핑된 코드 포인트를 모아 놓은 집합\n",
    "- Table이 존재"
   ]
  },
  {
   "cell_type": "markdown",
   "metadata": {},
   "source": [
    "Code Point\n",
    "- 코드 포인트\n",
    "- 문자 하나에 정수 하나를 매핑해둠"
   ]
  },
  {
   "cell_type": "markdown",
   "metadata": {},
   "source": [
    "Character encoding\n",
    "- 문자 인코딩\n",
    "- 문자 집합을 메모리에 저장, 통신하기 위해 부호화하는 방식\n",
    "- ex) 모스 부호"
   ]
  },
  {
   "cell_type": "markdown",
   "metadata": {},
   "source": [
    "## ASCII"
   ]
  },
  {
   "cell_type": "markdown",
   "metadata": {},
   "source": [
    "ASCII\n",
    "- 7 bit (2의 7승 : 128가지 문자)\n",
    "- 로마자 및 특수 기호 (한글 포함 안됨)"
   ]
  },
  {
   "cell_type": "code",
   "execution_count": 17,
   "metadata": {},
   "outputs": [
    {
     "data": {
      "text/plain": [
       "65"
      ]
     },
     "execution_count": 17,
     "metadata": {},
     "output_type": "execute_result"
    }
   ],
   "source": [
    "a = \"Aa0\"\n",
    "binary_characters = a.encode()\n",
    "binary_characters[0]"
   ]
  },
  {
   "cell_type": "code",
   "execution_count": 18,
   "metadata": {},
   "outputs": [
    {
     "data": {
      "text/plain": [
       "97"
      ]
     },
     "execution_count": 18,
     "metadata": {},
     "output_type": "execute_result"
    }
   ],
   "source": [
    "binary_characters[1]"
   ]
  },
  {
   "cell_type": "code",
   "execution_count": 19,
   "metadata": {},
   "outputs": [
    {
     "data": {
      "text/plain": [
       "48"
      ]
     },
     "execution_count": 19,
     "metadata": {},
     "output_type": "execute_result"
    }
   ],
   "source": [
    "binary_characters[2]"
   ]
  },
  {
   "cell_type": "markdown",
   "metadata": {},
   "source": [
    "But, 치명적인 단점이 존재. 미국 친구들이 이기적이었음\n",
    "문자가 로마자밖에 존재하지 않음..."
   ]
  },
  {
   "cell_type": "markdown",
   "metadata": {},
   "source": [
    "## Unicode\n",
    "- BMP\n",
    " - 기본 다국어 평면, 이걸 17개나 만듬.\n",
    " - 현재 3개도 못채움\n",
    " - U+0000 ~ U+FFFF\n",
    " - 한글 및 많은 언어 포함\n",
    "- 2의 16승, 2 byte로 표현\n",
    "- ASCII는 embeded됨. 즉, 호환됨\n",
    " - C0 Controls and Basic Latin (로마자 기본) -> 로 호환되있음\n",
    " - Hex로 읽어야함\n",
    "- 한글은 AC00부터 시작"
   ]
  },
  {
   "cell_type": "code",
   "execution_count": 20,
   "metadata": {},
   "outputs": [
    {
     "data": {
      "text/plain": [
       "'가'"
      ]
     },
     "execution_count": 20,
     "metadata": {},
     "output_type": "execute_result"
    }
   ],
   "source": [
    "\"\\uAC00\""
   ]
  },
  {
   "cell_type": "markdown",
   "metadata": {},
   "source": [
    "- python2와 python3는 완전 다름!\n",
    "- python2 문자열은 unicode를 지원 x\n",
    "- python3는 unicode 지원!"
   ]
  },
  {
   "cell_type": "markdown",
   "metadata": {},
   "source": [
    "- utf-16은 00-AC으로 저장하기도 하지만\n",
    "- protocol마다 상이함"
   ]
  },
  {
   "cell_type": "code",
   "execution_count": 21,
   "metadata": {},
   "outputs": [],
   "source": [
    "a = \"가\""
   ]
  },
  {
   "cell_type": "code",
   "execution_count": 22,
   "metadata": {},
   "outputs": [
    {
     "data": {
      "text/plain": [
       "b'\\xea\\xb0\\x80'"
      ]
     },
     "execution_count": 22,
     "metadata": {},
     "output_type": "execute_result"
    }
   ],
   "source": [
    "a.encode()\n",
    "# ea b0 80\n",
    "# 1byte 단위\n",
    "# default = \"utf-8\""
   ]
  },
  {
   "cell_type": "code",
   "execution_count": 23,
   "metadata": {},
   "outputs": [
    {
     "data": {
      "text/plain": [
       "b'\\xff\\xfe\\x00\\xac'"
      ]
     },
     "execution_count": 23,
     "metadata": {},
     "output_type": "execute_result"
    }
   ],
   "source": [
    "a.encode(\"utf-16\")\n",
    "# 00 ac\n",
    "# 포팅하면 AC00\n",
    "# 16bit까지는 2byte로 표현, 나머지는 4byte로 표현"
   ]
  },
  {
   "cell_type": "code",
   "execution_count": 24,
   "metadata": {},
   "outputs": [
    {
     "data": {
      "text/plain": [
       "b'\\xff\\xfe\\x00\\x00\\x00\\xac\\x00\\x00'"
      ]
     },
     "execution_count": 24,
     "metadata": {},
     "output_type": "execute_result"
    }
   ],
   "source": [
    "a.encode(\"utf-32\")\n",
    "# 00 ac 0000\n",
    "# computer는 little 엔디언\n",
    "# 00 00 AC 00\n",
    "# Why 4byte?\n",
    "# 2평면부터는 2byte로 못넣음\n",
    "# 모든 문자를 4byte로 표현"
   ]
  },
  {
   "cell_type": "code",
   "execution_count": 25,
   "metadata": {},
   "outputs": [
    {
     "data": {
      "text/plain": [
       "b'\\xb0\\xa1'"
      ]
     },
     "execution_count": 25,
     "metadata": {},
     "output_type": "execute_result"
    }
   ],
   "source": [
    "a.encode(\"cp949\")\n",
    "# window, microsoft가 만든 친구\n",
    "# b0 a1"
   ]
  },
  {
   "cell_type": "markdown",
   "metadata": {},
   "source": [
    "## 유니코드의 부호화 방식"
   ]
  },
  {
   "cell_type": "markdown",
   "metadata": {},
   "source": [
    "utf-8\n",
    "- 8bit기반\n",
    "- 가변 길이 유니코드 인코딩 시스템"
   ]
  },
  {
   "cell_type": "markdown",
   "metadata": {},
   "source": [
    "- ASCII, utf-8이든 영어는 1byte처리\n",
    "- 한글은 손해를 봄..\n",
    "- utf-16은 2byte\n",
    "- utf-8은 3byte사용"
   ]
  },
  {
   "cell_type": "markdown",
   "metadata": {},
   "source": [
    "cp949\n",
    "- code page 949\n",
    "- 통합형 한글 코드(Unified Hangul Code)\n",
    "- 현대의 모든 한글 수용\n",
    "- 중국은 cp8\n",
    "- window는 개발자들에게 쥐약"
   ]
  },
  {
   "cell_type": "markdown",
   "metadata": {},
   "source": [
    "## \"가\"의 encoding 과정\n",
    "UTF-8 구조\n",
    "- 0800-FFFF\n",
    " - ==> 1110XXX 10XXXXXX 10XXXXXX\n",
    "- \"가\"의 유니코드\n",
    " - ==> U+AC00\n",
    " - ==> 1010 1100 0000 0000\n",
    " - ==> 1010 110000 000000\n",
    "- 11101010 10110000 10000000\n",
    "- 0xEAB080\n",
    "- 즉, 3 바이트로 인코딩"
   ]
  },
  {
   "cell_type": "markdown",
   "metadata": {},
   "source": [
    "- 우리가 만든 protocol 8은 endian less다.\n",
    "- 즉, Endian Neutral이다."
   ]
  },
  {
   "cell_type": "code",
   "execution_count": 26,
   "metadata": {},
   "outputs": [
    {
     "data": {
      "text/plain": [
       "b'\\xea\\xb0\\x80'"
      ]
     },
     "execution_count": 26,
     "metadata": {},
     "output_type": "execute_result"
    }
   ],
   "source": [
    "\"가\".encode(\"utf-8\")\n",
    "# EA B0 80"
   ]
  },
  {
   "cell_type": "code",
   "execution_count": null,
   "metadata": {},
   "outputs": [],
   "source": [
    "f = open(\"from_network.dat\", \"rb\")\n",
    "data = f.read()\n",
    "li = []\n",
    "try:\n",
    "    li.append(data.decode())\n",
    "except UnicodeDecodeError:\n",
    "    pass\n",
    "type(data)\n",
    "data.decode >> UnicodeDecodeError\n",
    "data.decode('cp949') #utf-8 70%"
   ]
  },
  {
   "cell_type": "markdown",
   "metadata": {},
   "source": [
    "## 3. exam parser"
   ]
  },
  {
   "cell_type": "code",
   "execution_count": 27,
   "metadata": {},
   "outputs": [],
   "source": [
    "from openpyxl import load_workbook"
   ]
  },
  {
   "cell_type": "code",
   "execution_count": 47,
   "metadata": {},
   "outputs": [],
   "source": [
    "wb = load_workbook(\"exam.xlsx\")"
   ]
  },
  {
   "cell_type": "code",
   "execution_count": 48,
   "metadata": {},
   "outputs": [
    {
     "data": {
      "text/plain": [
       "<openpyxl.workbook.workbook.Workbook at 0x1cb6581bc18>"
      ]
     },
     "execution_count": 48,
     "metadata": {},
     "output_type": "execute_result"
    }
   ],
   "source": [
    "wb"
   ]
  },
  {
   "cell_type": "code",
   "execution_count": 49,
   "metadata": {},
   "outputs": [
    {
     "data": {
      "text/plain": [
       "['Sheet1']"
      ]
     },
     "execution_count": 49,
     "metadata": {},
     "output_type": "execute_result"
    }
   ],
   "source": [
    "wb.sheetnames"
   ]
  },
  {
   "cell_type": "code",
   "execution_count": 50,
   "metadata": {},
   "outputs": [],
   "source": [
    "ws = wb.active"
   ]
  },
  {
   "cell_type": "code",
   "execution_count": 51,
   "metadata": {},
   "outputs": [
    {
     "data": {
      "text/plain": [
       "<Worksheet \"Sheet1\">"
      ]
     },
     "execution_count": 51,
     "metadata": {},
     "output_type": "execute_result"
    }
   ],
   "source": [
    "ws"
   ]
  },
  {
   "cell_type": "code",
   "execution_count": 52,
   "metadata": {},
   "outputs": [
    {
     "data": {
      "text/plain": [
       "['BREAK_COLUMN',\n",
       " 'BREAK_NONE',\n",
       " 'BREAK_ROW',\n",
       " 'HeaderFooter',\n",
       " 'ORIENTATION_LANDSCAPE',\n",
       " 'ORIENTATION_PORTRAIT',\n",
       " 'PAPERSIZE_A3',\n",
       " 'PAPERSIZE_A4',\n",
       " 'PAPERSIZE_A4_SMALL',\n",
       " 'PAPERSIZE_A5',\n",
       " 'PAPERSIZE_EXECUTIVE',\n",
       " 'PAPERSIZE_LEDGER',\n",
       " 'PAPERSIZE_LEGAL',\n",
       " 'PAPERSIZE_LETTER',\n",
       " 'PAPERSIZE_LETTER_SMALL',\n",
       " 'PAPERSIZE_STATEMENT',\n",
       " 'PAPERSIZE_TABLOID',\n",
       " 'SHEETSTATE_HIDDEN',\n",
       " 'SHEETSTATE_VERYHIDDEN',\n",
       " 'SHEETSTATE_VISIBLE',\n",
       " '_WorkbookChild__parent',\n",
       " '_WorkbookChild__title',\n",
       " '__class__',\n",
       " '__delattr__',\n",
       " '__delitem__',\n",
       " '__dict__',\n",
       " '__dir__',\n",
       " '__doc__',\n",
       " '__eq__',\n",
       " '__format__',\n",
       " '__ge__',\n",
       " '__getattribute__',\n",
       " '__getitem__',\n",
       " '__gt__',\n",
       " '__hash__',\n",
       " '__init__',\n",
       " '__init_subclass__',\n",
       " '__iter__',\n",
       " '__le__',\n",
       " '__lt__',\n",
       " '__module__',\n",
       " '__ne__',\n",
       " '__new__',\n",
       " '__reduce__',\n",
       " '__reduce_ex__',\n",
       " '__repr__',\n",
       " '__setattr__',\n",
       " '__setitem__',\n",
       " '__sizeof__',\n",
       " '__str__',\n",
       " '__subclasshook__',\n",
       " '__weakref__',\n",
       " '_add_cell',\n",
       " '_add_column',\n",
       " '_add_row',\n",
       " '_cells',\n",
       " '_cells_by_col',\n",
       " '_cells_by_row',\n",
       " '_charts',\n",
       " '_clean_merge_range',\n",
       " '_comments',\n",
       " '_current_row',\n",
       " '_default_title',\n",
       " '_drawing',\n",
       " '_get_cell',\n",
       " '_hyperlinks',\n",
       " '_id',\n",
       " '_images',\n",
       " '_invalid_row',\n",
       " '_move_cells',\n",
       " '_path',\n",
       " '_pivots',\n",
       " '_print_area',\n",
       " '_print_cols',\n",
       " '_print_rows',\n",
       " '_rel_type',\n",
       " '_rels',\n",
       " '_setup',\n",
       " '_tables',\n",
       " '_write',\n",
       " 'active_cell',\n",
       " 'add_chart',\n",
       " 'add_data_validation',\n",
       " 'add_image',\n",
       " 'add_pivot',\n",
       " 'add_print_title',\n",
       " 'add_table',\n",
       " 'append',\n",
       " 'auto_filter',\n",
       " 'calculate_dimension',\n",
       " 'cell',\n",
       " 'column_dimensions',\n",
       " 'columns',\n",
       " 'conditional_formatting',\n",
       " 'data_validations',\n",
       " 'delete_cols',\n",
       " 'delete_rows',\n",
       " 'dimensions',\n",
       " 'encoding',\n",
       " 'evenFooter',\n",
       " 'evenHeader',\n",
       " 'firstFooter',\n",
       " 'firstHeader',\n",
       " 'formula_attributes',\n",
       " 'freeze_panes',\n",
       " 'get_cell_collection',\n",
       " 'get_named_range',\n",
       " 'get_squared_range',\n",
       " 'insert_cols',\n",
       " 'insert_rows',\n",
       " 'iter_cols',\n",
       " 'iter_rows',\n",
       " 'legacy_drawing',\n",
       " 'max_column',\n",
       " 'max_row',\n",
       " 'merge_cells',\n",
       " 'merged_cell_ranges',\n",
       " 'merged_cells',\n",
       " 'mime_type',\n",
       " 'min_column',\n",
       " 'min_row',\n",
       " 'oddFooter',\n",
       " 'oddHeader',\n",
       " 'orientation',\n",
       " 'page_breaks',\n",
       " 'page_margins',\n",
       " 'page_setup',\n",
       " 'paper_size',\n",
       " 'parent',\n",
       " 'path',\n",
       " 'print_area',\n",
       " 'print_options',\n",
       " 'print_title_cols',\n",
       " 'print_title_rows',\n",
       " 'print_titles',\n",
       " 'protection',\n",
       " 'row_dimensions',\n",
       " 'rows',\n",
       " 'selected_cell',\n",
       " 'set_printer_settings',\n",
       " 'sheet_format',\n",
       " 'sheet_properties',\n",
       " 'sheet_state',\n",
       " 'sheet_view',\n",
       " 'show_gridlines',\n",
       " 'show_summary_below',\n",
       " 'show_summary_right',\n",
       " 'sort_state',\n",
       " 'title',\n",
       " 'unmerge_cells',\n",
       " 'values',\n",
       " 'vba_code',\n",
       " 'views']"
      ]
     },
     "execution_count": 52,
     "metadata": {},
     "output_type": "execute_result"
    }
   ],
   "source": [
    "dir(ws)"
   ]
  },
  {
   "cell_type": "code",
   "execution_count": 53,
   "metadata": {},
   "outputs": [],
   "source": [
    "g = ws.rows\n",
    "# generator 생성"
   ]
  },
  {
   "cell_type": "code",
   "execution_count": 54,
   "metadata": {},
   "outputs": [
    {
     "data": {
      "text/plain": [
       "<generator object Worksheet._cells_by_row at 0x000001CB658DC780>"
      ]
     },
     "execution_count": 54,
     "metadata": {},
     "output_type": "execute_result"
    }
   ],
   "source": [
    "g"
   ]
  },
  {
   "cell_type": "code",
   "execution_count": 55,
   "metadata": {},
   "outputs": [],
   "source": [
    "cells = next(g)"
   ]
  },
  {
   "cell_type": "code",
   "execution_count": 56,
   "metadata": {},
   "outputs": [
    {
     "data": {
      "text/plain": [
       "(<Cell 'Sheet1'.A1>,\n",
       " <Cell 'Sheet1'.B1>,\n",
       " <Cell 'Sheet1'.C1>,\n",
       " <Cell 'Sheet1'.D1>)"
      ]
     },
     "execution_count": 56,
     "metadata": {},
     "output_type": "execute_result"
    }
   ],
   "source": [
    "cells"
   ]
  },
  {
   "cell_type": "code",
   "execution_count": 57,
   "metadata": {},
   "outputs": [],
   "source": [
    "keys = []\n",
    "for cell in cells:\n",
    "    keys.append(cell.value)"
   ]
  },
  {
   "cell_type": "code",
   "execution_count": 58,
   "metadata": {},
   "outputs": [
    {
     "data": {
      "text/plain": [
       "['name', 'math', 'literature', 'science']"
      ]
     },
     "execution_count": 58,
     "metadata": {},
     "output_type": "execute_result"
    }
   ],
   "source": [
    "keys"
   ]
  },
  {
   "cell_type": "code",
   "execution_count": 59,
   "metadata": {},
   "outputs": [],
   "source": [
    "student_data = []\n",
    "for row in g:\n",
    "    student_data.append(\n",
    "                        { key : cell.value for key, cell in zip(keys, row)}\n",
    "    )"
   ]
  },
  {
   "cell_type": "code",
   "execution_count": 60,
   "metadata": {},
   "outputs": [
    {
     "data": {
      "text/plain": [
       "[{'name': 'greg', 'math': 95, 'literature': 65, 'science': 75},\n",
       " {'name': 'john', 'math': 25, 'literature': 30, 'science': 55},\n",
       " {'name': 'yang', 'math': 50, 'literature': 45, 'science': 40},\n",
       " {'name': 'timothy', 'math': 15, 'literature': 65, 'science': 90},\n",
       " {'name': 'melisa', 'math': 100, 'literature': 100, 'science': 100},\n",
       " {'name': 'thor', 'math': 10, 'literature': 15, 'science': 20},\n",
       " {'name': 'elen', 'math': 25, 'literature': 50, 'science': 100},\n",
       " {'name': 'mark', 'math': 80, 'literature': 75, 'science': 80},\n",
       " {'name': 'steve', 'math': 95, 'literature': 100, 'science': 95},\n",
       " {'name': 'anna', 'math': 20, 'literature': 20, 'science': 20}]"
      ]
     },
     "execution_count": 60,
     "metadata": {},
     "output_type": "execute_result"
    }
   ],
   "source": [
    "student_data"
   ]
  },
  {
   "cell_type": "markdown",
   "metadata": {},
   "source": [
    "## Pratice"
   ]
  },
  {
   "cell_type": "code",
   "execution_count": 61,
   "metadata": {},
   "outputs": [],
   "source": [
    "wb2 = load_workbook(\"population_oecd.xlsx\")"
   ]
  },
  {
   "cell_type": "code",
   "execution_count": 62,
   "metadata": {},
   "outputs": [
    {
     "data": {
      "text/plain": [
       "<openpyxl.workbook.workbook.Workbook at 0x1cb658308d0>"
      ]
     },
     "execution_count": 62,
     "metadata": {},
     "output_type": "execute_result"
    }
   ],
   "source": [
    "wb2"
   ]
  },
  {
   "cell_type": "code",
   "execution_count": 63,
   "metadata": {},
   "outputs": [
    {
     "data": {
      "text/plain": [
       "['OECD.Stat export']"
      ]
     },
     "execution_count": 63,
     "metadata": {},
     "output_type": "execute_result"
    }
   ],
   "source": [
    "wb2.sheetnames"
   ]
  },
  {
   "cell_type": "code",
   "execution_count": 64,
   "metadata": {},
   "outputs": [],
   "source": [
    "ws2 = wb2.active"
   ]
  },
  {
   "cell_type": "code",
   "execution_count": 65,
   "metadata": {},
   "outputs": [
    {
     "data": {
      "text/plain": [
       "<Worksheet \"OECD.Stat export\">"
      ]
     },
     "execution_count": 65,
     "metadata": {},
     "output_type": "execute_result"
    }
   ],
   "source": [
    "ws2"
   ]
  },
  {
   "cell_type": "code",
   "execution_count": 66,
   "metadata": {},
   "outputs": [],
   "source": [
    "g = ws2.rows"
   ]
  },
  {
   "cell_type": "code",
   "execution_count": 67,
   "metadata": {},
   "outputs": [
    {
     "data": {
      "text/plain": [
       "<generator object Worksheet._cells_by_row at 0x000001CB6586BEB8>"
      ]
     },
     "execution_count": 67,
     "metadata": {},
     "output_type": "execute_result"
    }
   ],
   "source": [
    "g"
   ]
  },
  {
   "cell_type": "code",
   "execution_count": 68,
   "metadata": {},
   "outputs": [],
   "source": [
    "dataset = next(g)"
   ]
  },
  {
   "cell_type": "code",
   "execution_count": 70,
   "metadata": {},
   "outputs": [
    {
     "data": {
      "text/plain": [
       "(<Cell 'OECD.Stat export'.A1>,\n",
       " <Cell 'OECD.Stat export'.B1>,\n",
       " <Cell 'OECD.Stat export'.C1>,\n",
       " <Cell 'OECD.Stat export'.D1>,\n",
       " <Cell 'OECD.Stat export'.E1>,\n",
       " <Cell 'OECD.Stat export'.F1>,\n",
       " <Cell 'OECD.Stat export'.G1>,\n",
       " <Cell 'OECD.Stat export'.H1>,\n",
       " <Cell 'OECD.Stat export'.I1>,\n",
       " <Cell 'OECD.Stat export'.J1>,\n",
       " <Cell 'OECD.Stat export'.K1>,\n",
       " <Cell 'OECD.Stat export'.L1>,\n",
       " <Cell 'OECD.Stat export'.M1>,\n",
       " <Cell 'OECD.Stat export'.N1>,\n",
       " <Cell 'OECD.Stat export'.O1>,\n",
       " <Cell 'OECD.Stat export'.P1>,\n",
       " <Cell 'OECD.Stat export'.Q1>)"
      ]
     },
     "execution_count": 70,
     "metadata": {},
     "output_type": "execute_result"
    }
   ],
   "source": [
    "dataset # 이러면 날린거.."
   ]
  },
  {
   "cell_type": "code",
   "execution_count": 76,
   "metadata": {},
   "outputs": [],
   "source": [
    "cells = next(g)"
   ]
  },
  {
   "cell_type": "code",
   "execution_count": 71,
   "metadata": {},
   "outputs": [
    {
     "ename": "AttributeError",
     "evalue": "'generator' object has no attribute 'value'",
     "output_type": "error",
     "traceback": [
      "\u001b[1;31m---------------------------------------------------------------------------\u001b[0m",
      "\u001b[1;31mAttributeError\u001b[0m                            Traceback (most recent call last)",
      "\u001b[1;32m<ipython-input-71-cd2ea145f677>\u001b[0m in \u001b[0;36m<module>\u001b[1;34m()\u001b[0m\n\u001b[0;32m      1\u001b[0m \u001b[0mvariable\u001b[0m \u001b[1;33m=\u001b[0m \u001b[1;33m[\u001b[0m\u001b[1;33m]\u001b[0m\u001b[1;33m\u001b[0m\u001b[0m\n\u001b[0;32m      2\u001b[0m \u001b[1;32mfor\u001b[0m \u001b[0mcell\u001b[0m \u001b[1;32min\u001b[0m \u001b[0mg\u001b[0m\u001b[1;33m:\u001b[0m\u001b[1;33m\u001b[0m\u001b[0m\n\u001b[1;32m----> 3\u001b[1;33m     \u001b[0mvariable\u001b[0m\u001b[1;33m.\u001b[0m\u001b[0mappend\u001b[0m\u001b[1;33m(\u001b[0m\u001b[0mg\u001b[0m\u001b[1;33m.\u001b[0m\u001b[0mvalue\u001b[0m\u001b[1;33m)\u001b[0m\u001b[1;33m\u001b[0m\u001b[0m\n\u001b[0m",
      "\u001b[1;31mAttributeError\u001b[0m: 'generator' object has no attribute 'value'"
     ]
    }
   ],
   "source": [
    "variable = []\n",
    "for cell in g:\n",
    "    variable.append(g.value)"
   ]
  },
  {
   "cell_type": "code",
   "execution_count": 77,
   "metadata": {},
   "outputs": [],
   "source": [
    "variable = []\n",
    "for cell in cells:\n",
    "    variable.append(cell.value)"
   ]
  },
  {
   "cell_type": "code",
   "execution_count": 78,
   "metadata": {},
   "outputs": [
    {
     "data": {
      "text/plain": [
       "['Variables',\n",
       " None,\n",
       " 'Total population of the metropolitan area (persons)',\n",
       " None,\n",
       " None,\n",
       " None,\n",
       " None,\n",
       " None,\n",
       " None,\n",
       " None,\n",
       " None,\n",
       " None,\n",
       " None,\n",
       " None,\n",
       " None,\n",
       " None,\n",
       " None]"
      ]
     },
     "execution_count": 78,
     "metadata": {},
     "output_type": "execute_result"
    }
   ],
   "source": [
    "variable"
   ]
  },
  {
   "cell_type": "code",
   "execution_count": null,
   "metadata": {},
   "outputs": [],
   "source": [
    "pop = []\n",
    "for row in g:\n",
    "    pop.append({ key : cell.value for key, cell in zip(keys, row))"
   ]
  },
  {
   "cell_type": "markdown",
   "metadata": {},
   "source": [
    "sequential -> procedural -> oop"
   ]
  },
  {
   "cell_type": "markdown",
   "metadata": {},
   "source": [
    "- 절차지향, 객체지향을 쓰는 이유는 \"추상화\"\n",
    "- 추상화가 프로그래밍의 시작이자 끝"
   ]
  },
  {
   "cell_type": "markdown",
   "metadata": {},
   "source": [
    "추상화\n",
    "- 내부구현과 인터페이스(함수 시그니처)를 분리하는 것\n",
    "- 인터페이스는 보통 API할 때 많이 씀\n",
    "- filename, 인자, 반환값 : Interface"
   ]
  },
  {
   "cell_type": "code",
   "execution_count": null,
   "metadata": {},
   "outputs": [],
   "source": [
    "## data_analysis_sequential.py\n",
    "\n",
    "import openpyxl\n",
    "import math\n",
    "from functools import reduce\n",
    "#학년 전체 학생의 평균 : 50점\n",
    "\n",
    "#파일에서 데이터 읽기\n",
    "raw_data = {}\n",
    "wb = openpyxl.load_workbook('class_1.xlsx')\n",
    "ws = wb.active\n",
    "g = ws.rows\n",
    "\n",
    "for name, score in g:\n",
    "    raw_data[name.value] = score.value\n",
    "\n",
    "#print(\"raw_data : \", raw_data)\n",
    "\n",
    "#학생들 점수\n",
    "scores = list(raw_data.values())\n",
    "\n",
    "#평균 구하기\n",
    "avrg = reduce(\n",
    "            lambda a, b:\n",
    "            a + b,\n",
    "            scores)/len(scores)\n",
    "\n",
    "#분산 구하기\n",
    "variance = round(\n",
    "    reduce(\n",
    "        lambda a, b:\n",
    "        a + b,\n",
    "        map(\n",
    "            lambda s:\n",
    "            (s-avrg)**2,\n",
    "            scores))/len(scores),\n",
    "    1)\n",
    "\n",
    "#표준 편차 구하기\n",
    "std_dev = round(\n",
    "    math.sqrt(variance),\n",
    "    1)\n",
    "\n",
    "\n",
    "#출력 부분\n",
    "\n",
    "print(\n",
    "    \"평균 :{0}, 분산 : {1}, 표준 편차 : {2}\".format(\n",
    "    avrg, variance, std_dev))\n",
    "\n",
    "if avrg <50 and std_dev >20:\n",
    "    print(\"성적이 너무 저조하고 학생들의 실력 차이가 너무 크다.\")\n",
    "elif avrg > 50 and std_dev >20:\n",
    "    print(\"성적은 평균이상이지만 학생들 실력 차이가 크다. 주의 요망!\")\n",
    "elif avrg < 50 and std_dev <20:\n",
    "    print(\"학생들간 실력차는 나지 않으나 성적이 너무 저조하다. 주의 요망!\")\n",
    "elif avrg > 50 and std_dev <20:\n",
    "    print(\"성적도 평균 이상이고 학생들의 실력차도 크지 않다.\")"
   ]
  }
 ],
 "metadata": {
  "kernelspec": {
   "display_name": "Python 3",
   "language": "python",
   "name": "python3"
  },
  "language_info": {
   "codemirror_mode": {
    "name": "ipython",
    "version": 3
   },
   "file_extension": ".py",
   "mimetype": "text/x-python",
   "name": "python",
   "nbconvert_exporter": "python",
   "pygments_lexer": "ipython3",
   "version": "3.6.5"
  }
 },
 "nbformat": 4,
 "nbformat_minor": 2
}
