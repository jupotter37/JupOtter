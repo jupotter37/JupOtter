{
 "cells": [
  {
   "cell_type": "markdown",
   "metadata": {},
   "source": [
    "# DictFS\n",
    "\n",
    "Turn a dictionary into a file system."
   ]
  },
  {
   "cell_type": "code",
   "execution_count": 84,
   "metadata": {},
   "outputs": [],
   "source": [
    "from fs.base import FS\n",
    "from fs.subfs import SubFS\n",
    "from fs.info import Info\n",
    "from os.path import basename, dirname\n",
    "from fs.errors import ResourceNotFound, ResourceReadOnly\n",
    "from fs.errors import RemoveRootError\n",
    "from fs.errors import DirectoryExists, DirectoryNotEmpty\n",
    "from fs.errors import FileExpected, DirectoryExpected\n",
    "from io import BytesIO\n",
    "from Dcel import Dcel\n",
    "\n",
    "DirectoryTypes = (dict,list,Dcel)\n",
    "ByteableTypes = (bytes,str)\n",
    "FlexibleTypes = (Dcel,)\n",
    "WriteModes = ('w','a')\n",
    "\n",
    "class DictFS(FS):\n",
    "    def __init__(self,fsdict,mode='a'):\n",
    "        if(type(fsdict) is str):\n",
    "            fsdict = { fsdict: fsdict }\n",
    "        self.fsdict = fsdict\n",
    "        self._mode = mode\n",
    "        super().__init__()\n",
    "    \n",
    "    @property\n",
    "    def _addr(self):\n",
    "        return self.fsdict\n",
    "    \n",
    "    def _pathwalk(self,\n",
    "                  path,\n",
    "                  target=None\n",
    "                 ):\n",
    "        if target is None:\n",
    "            target = self.fsdict\n",
    "            \n",
    "        if (not type(target) is dict):\n",
    "            # UPDATE 8/7/2022 - raygan - Return fsdict without lookup.\n",
    "            # This enables Fudge glob where fu/'*' needs to return a list.\n",
    "            if (type(target) is Dcel\n",
    "                or str(type(target)) == \"<class '__main__.Dcel'>\"):\n",
    "                return target._pathwalk(path)\n",
    "            else:\n",
    "                raise TypeError(f\"DictFS internal 'fsdict' type must 'dict' or 'Dcel' not {type(target)}.\")\n",
    "        \n",
    "        if path in (None,\"\",\".\",\"/\"):\n",
    "            return target\n",
    "        \n",
    "        path = path.strip(\"/\")\n",
    "\n",
    "        split_result = path.split('/',1)\n",
    "        if len(split_result) == 2:\n",
    "            seg,nextpath = split_result\n",
    "        else:\n",
    "            seg = split_result[0]\n",
    "            nextpath = None\n",
    "\n",
    "        # lookup seg within target.\n",
    "        # target may be a Dict or Dcel\n",
    "        if not seg in target:\n",
    "            raise ResourceNotFound(path)\n",
    "\n",
    "        nexttarget = target[seg]\n",
    "\n",
    "        if ((type(nexttarget) is dict\n",
    "            or type(nexttarget) is Dcel)\n",
    "            and not nextpath is None):\n",
    "            return self._pathwalk(nextpath,\n",
    "                                  nexttarget)\n",
    "        return nexttarget\n",
    "    \n",
    "    \n",
    "    ####################\n",
    "    # pyfilesystem Api #\n",
    "    ####################\n",
    "    \n",
    "    def getinfo(self, path, namespaces=None):\n",
    "        is_dir = self.isdir(path)\n",
    "            \n",
    "        i = Info({\"basic\":{\n",
    "            \"name\": basename(path.strip('/')),\n",
    "            \"is_dir\": is_dir\n",
    "        }})\n",
    "        \n",
    "        if namespaces != None \\\n",
    "        and \"dcel\" in namespaces:\n",
    "            target = self._pathwalk(path)\n",
    "            i.raw[\"dcel\"] = {\"value\":\n",
    "                             target\n",
    "                            }\n",
    "        return i\n",
    "    \n",
    "    def listdir(self, path):\n",
    "        if self.isdir(path):\n",
    "            target = self._pathwalk(path)\n",
    "            if type(target) != type(None):\n",
    "                try:\n",
    "                    # This might fail if Dcel::iter() doesn't work.\n",
    "                    res = list(target)\n",
    "                except:\n",
    "                    res = None\n",
    "                if type(res) == type(None):\n",
    "                    return []\n",
    "                return list(target)\n",
    "            else:\n",
    "                return []\n",
    "        raise DirectoryExpected(path)\n",
    "    \n",
    "    def isdir(self, path='/'):\n",
    "        target = self._pathwalk(path)\n",
    "        _type = type(target)\n",
    "        \n",
    "        if _type in DirectoryTypes:\n",
    "            return True\n",
    "        if _type in FlexibleTypes:\n",
    "            return target.isdir(path)\n",
    "            # short circuited\n",
    "            _value = target.value\n",
    "            if (hasattr(_value,'__getitem__')\n",
    "               and not issubclass(_type,str)):\n",
    "                return True\n",
    "        else:\n",
    "            return False\n",
    "    \n",
    "    def makedir(self, path, permissions=None, recreate=False):\n",
    "        \n",
    "        if not self._mode in WriteModes:\n",
    "            # raise ReadOnlyFilesystem\n",
    "            return\n",
    "        \n",
    "        parpath = dirname(path)\n",
    "        entryname = basename(path)\n",
    "        target = self._pathwalk(parpath)\n",
    "        if target is None:\n",
    "            raise ResourceNotFound\n",
    "            \n",
    "        if entryname in target\\\n",
    "        and recreate is False:\n",
    "            raise DirectoryExists(path)\n",
    "        \n",
    "        target[entryname] = dict()\n",
    "        \n",
    "        return SubFS(self, path)\n",
    "    \n",
    "    def openbin(self, path, mode='r', buffering=-1, **options):\n",
    "        \n",
    "        if mode in WriteModes\\\n",
    "        and not self._mode in WriteModes:\n",
    "            raise ResourceReadOnly(f\"DictFS: {path}\")\n",
    "        parpath = dirname(path)\n",
    "        entryname = basename(path)\n",
    "        parent = self._pathwalk(parpath)\n",
    "        target = parent[entryname]\n",
    "        targettype = type(target)\n",
    "        \n",
    "        if targettype in DirectoryTypes:\n",
    "            raise FileExpected(path)\n",
    "        \n",
    "        if targettype is str:\n",
    "            buf = target.encode(encoding='utf-8')\n",
    "            # kludge to get writebytes to work\n",
    "            # but it messes up getting strings from DictFS\n",
    "            # parent[entryname] = buf\n",
    "        elif targettype is bytes:\n",
    "            buf = target\n",
    "            \n",
    "        else:\n",
    "            raise FileExpected(path)\n",
    "        \n",
    "        return BytesIO(buf)\n",
    "    \n",
    "    def remove(self, path):\n",
    "        if not self._mode in WriteModes:\n",
    "            # raise ReadOnlyFilesystem\n",
    "            return\n",
    "        \n",
    "        parpath = dirname(path)\n",
    "        entryname = basename(path)\n",
    "        pardir = self._pathwalk(parpath)\n",
    "        if entryname in pardir:\n",
    "            if not type(pardir[entryname]) in DirectoryTypes:\n",
    "                pardir.pop(entryname)\n",
    "            else:\n",
    "                raise FileExpected(path)\n",
    "        else:\n",
    "            raise ResourceNotFound(path)\n",
    "        \n",
    "    def removedir(self, path):\n",
    "        if not self._mode in WriteModes:\n",
    "            # raise ReadOnlyFilesystem\n",
    "            return\n",
    "        \n",
    "        if path == \"/\":\n",
    "            raise RemoveRootError\n",
    "            \n",
    "        parpath = dirname(path)\n",
    "        entryname = basename(path)\n",
    "        pardir = self._pathwalk(parpath)\n",
    "        if entryname in pardir:\n",
    "            if type(pardir[entryname]) in DirectoryTypes:\n",
    "                if pardir[entryname]:\n",
    "                    raise DirectoryNotEmpty(path)\n",
    "                else:\n",
    "                    pardir.pop(entryname)\n",
    "            else:\n",
    "                raise DirectoryExpected(path)\n",
    "        else:\n",
    "            raise ResourceNotFound(path)\n",
    "        \n",
    "        \n",
    "    def setinfo(self, path, info):\n",
    "        if not self._mode in WriteModes:\n",
    "            # raise ReadOnlyFilesystem\n",
    "            return\n",
    "        try:\n",
    "            parpath = dirname(path)\n",
    "            entryname = basename(path)\n",
    "            target = self._pathwalk(parpath)\n",
    "        except:\n",
    "            return\n",
    "        try:\n",
    "            value = info['dcel']['value']\n",
    "            target[entryname] = value\n",
    "        except:\n",
    "            return\n",
    "        \n",
    "    ### pyfilesystem:\n",
    "    #   override methods\n",
    "    \n",
    "    def writetext(self,\n",
    "                  path,\n",
    "                  contents,\n",
    "                  encoding='utf-8',\n",
    "                  errors=None,\n",
    "                  newline=''):\n",
    "        if not self._mode in WriteModes:\n",
    "            raise ResourceReadOnly\n",
    "        try:\n",
    "            # walk to target\n",
    "            parpath = dirname(path)\n",
    "            entryname = basename(path)\n",
    "            target = self._pathwalk(parpath)\n",
    "        except:\n",
    "            return\n",
    "        try:\n",
    "            # set target\n",
    "            result = target[entryname]\n",
    "            if type(result) is Dcel:\n",
    "                result.value = contents\n",
    "            else:\n",
    "                target[entryname] = contents\n",
    "        except:\n",
    "            return\n",
    "    \n",
    "    ####################\n",
    "    #  cosmos API      #\n",
    "    ####################\n",
    "    \n",
    "    # Depricate external use of any API other than pyfilesystem.\n",
    "    # OK to keep if this is internal.\n",
    "\n",
    "    def lookup(self, path, base=None):\n",
    "        return self._pathwalk(path, base)\n",
    "        "
   ]
  },
  {
   "cell_type": "code",
   "execution_count": 38,
   "metadata": {},
   "outputs": [],
   "source": [
    "strdictfs = DictFS('hello')"
   ]
  },
  {
   "cell_type": "code",
   "execution_count": 39,
   "metadata": {},
   "outputs": [
    {
     "name": "stdout",
     "output_type": "stream",
     "text": [
      "hello\n"
     ]
    }
   ],
   "source": [
    "print(strdictfs.readtext('/hello'))"
   ]
  },
  {
   "cell_type": "code",
   "execution_count": 40,
   "metadata": {},
   "outputs": [],
   "source": [
    "\n",
    "dcel = Dcel({'a':'Aye'})\n",
    "dfs = DictFS(dcel)\n",
    "dfs_cel = Dcel(address=dcel, service_class=DictFS)\n"
   ]
  },
  {
   "cell_type": "code",
   "execution_count": 41,
   "metadata": {},
   "outputs": [
    {
     "data": {
      "text/plain": [
       "<dir 'a'>"
      ]
     },
     "execution_count": 41,
     "metadata": {},
     "output_type": "execute_result"
    }
   ],
   "source": [
    "dfs_cel.getinfo('a')"
   ]
  },
  {
   "cell_type": "code",
   "execution_count": 42,
   "metadata": {},
   "outputs": [
    {
     "data": {
      "text/plain": [
       "True"
      ]
     },
     "execution_count": 42,
     "metadata": {},
     "output_type": "execute_result"
    }
   ],
   "source": [
    "dfs_cel.isdir('a')"
   ]
  },
  {
   "cell_type": "code",
   "execution_count": 43,
   "metadata": {},
   "outputs": [
    {
     "name": "stdout",
     "output_type": "stream",
     "text": [
      "DictFS::listdir(): path = /\n"
     ]
    },
    {
     "data": {
      "text/plain": [
       "['a']"
      ]
     },
     "execution_count": 43,
     "metadata": {},
     "output_type": "execute_result"
    }
   ],
   "source": [
    "dfs_cel.listdir('/')"
   ]
  },
  {
   "cell_type": "code",
   "execution_count": 44,
   "metadata": {},
   "outputs": [
    {
     "name": "stdout",
     "output_type": "stream",
     "text": [
      "a b\n"
     ]
    }
   ],
   "source": [
    "res = \"a/b\".split('/',1)\n",
    "if len(res) == 2:\n",
    "    a,b = res\n",
    "else:\n",
    "    a = res[0]\n",
    "    b = None\n",
    "    \n",
    "print(f\"{a} {b}\")"
   ]
  },
  {
   "cell_type": "code",
   "execution_count": 45,
   "metadata": {},
   "outputs": [
    {
     "data": {
      "text/plain": [
       "['A']"
      ]
     },
     "execution_count": 45,
     "metadata": {},
     "output_type": "execute_result"
    }
   ],
   "source": [
    "temp_path = '/A//'\n",
    "temp_path.strip('/').split('/',1)"
   ]
  },
  {
   "cell_type": "markdown",
   "metadata": {},
   "source": [
    "### Test: Use Dcel as dict input for DictFS"
   ]
  },
  {
   "cell_type": "code",
   "execution_count": 46,
   "metadata": {},
   "outputs": [],
   "source": [
    "from Dcel import Dcel"
   ]
  },
  {
   "cell_type": "code",
   "execution_count": 47,
   "metadata": {},
   "outputs": [],
   "source": [
    "dict_dcel = Dcel({\"a\": {\"Aye\": \"A\"}})\n",
    "dictfs_dcel = Dcel(address=dict_dcel, service_class=DictFS)"
   ]
  },
  {
   "cell_type": "code",
   "execution_count": 48,
   "metadata": {},
   "outputs": [
    {
     "name": "stdout",
     "output_type": "stream",
     "text": [
      "address: <class 'str'>:/\n",
      "        abspath: <class 'str'>:/\n",
      "        service: <class '__main__.DictFS'>:<__main__.DictFS object at 0x7f2cf73a29b0>\n",
      "        value: <class 'Dcel.Dcel'>:{'a': {'Aye': 'A'}}\n",
      "        _map: <class 'NoneType'>:None\n",
      "        _dir: <class 'NoneType'>:None\n",
      "        \n",
      "False\n",
      "<dir 'Aye'>\n",
      "A\n",
      "True\n",
      "A\n"
     ]
    }
   ],
   "source": [
    "print(dictfs_dcel.inspect())\n",
    "print(dictfs_dcel.service.exists('/a/Aye/A/B'))\n",
    "print(dictfs_dcel.service.getinfo('a/Aye'))\n",
    "print(dictfs_dcel.service._pathwalk('a/Aye'))\n",
    "print('a' in dictfs_dcel)\n",
    "print(dictfs_dcel.service.fsdict['a']['Aye'])"
   ]
  },
  {
   "cell_type": "code",
   "execution_count": 49,
   "metadata": {},
   "outputs": [
    {
     "name": "stdout",
     "output_type": "stream",
     "text": [
      "address: Address attribute not present.:\n",
      "        abspath: Abspath calulated from `None`.:\n",
      "        service: Service attribute not present.:\n",
      "        value: <class 'dict'>:{'a': {'Aye': 'A'}}\n",
      "        _map: <class 'NoneType'>:None\n",
      "        _dir: <class 'NoneType'>:None\n",
      "        \n"
     ]
    }
   ],
   "source": [
    "print(dict_dcel.inspect())"
   ]
  },
  {
   "cell_type": "code",
   "execution_count": 50,
   "metadata": {},
   "outputs": [
    {
     "name": "stdout",
     "output_type": "stream",
     "text": [
      "address: <class 'str'>:/\n",
      "        abspath: <class 'str'>:/\n",
      "        service: <class '__main__.DictFS'>:<__main__.DictFS object at 0x7f2cf73a29b0>\n",
      "        value: <class 'Dcel.Dcel'>:{'a': {'Aye': 'A'}}\n",
      "        _map: <class 'NoneType'>:None\n",
      "        _dir: <class 'NoneType'>:None\n",
      "        \n"
     ]
    }
   ],
   "source": [
    "print(dictfs_dcel.inspect())"
   ]
  },
  {
   "cell_type": "code",
   "execution_count": 51,
   "metadata": {},
   "outputs": [
    {
     "name": "stdout",
     "output_type": "stream",
     "text": [
      "True\n",
      "True\n"
     ]
    }
   ],
   "source": [
    "### FIXME: DictFS should return True\n",
    "\n",
    "print(dict_dcel.isdir())\n",
    "print(dictfs_dcel.isdir())\n",
    "assert(dict_dcel.isdir() == dictfs_dcel.isdir())"
   ]
  },
  {
   "cell_type": "code",
   "execution_count": 52,
   "metadata": {},
   "outputs": [
    {
     "data": {
      "text/plain": [
       "<Dcel.Dcel at 0x7f2cf73a2b00>"
      ]
     },
     "execution_count": 52,
     "metadata": {},
     "output_type": "execute_result"
    }
   ],
   "source": [
    "dictfs_dcel.service.fsdict"
   ]
  },
  {
   "cell_type": "code",
   "execution_count": 53,
   "metadata": {},
   "outputs": [
    {
     "data": {
      "text/plain": [
       "<Dcel.Dcel at 0x7f2cf73a27a0>"
      ]
     },
     "execution_count": 53,
     "metadata": {},
     "output_type": "execute_result"
    }
   ],
   "source": [
    "dictfs_dcel.service._pathwalk('/a/Aye')"
   ]
  },
  {
   "cell_type": "code",
   "execution_count": 54,
   "metadata": {},
   "outputs": [
    {
     "name": "stdout",
     "output_type": "stream",
     "text": [
      "{'Aye': 'A'}\n"
     ]
    }
   ],
   "source": [
    "print(dictfs_dcel['a'])"
   ]
  },
  {
   "cell_type": "code",
   "execution_count": null,
   "metadata": {},
   "outputs": [],
   "source": []
  },
  {
   "cell_type": "code",
   "execution_count": 55,
   "metadata": {},
   "outputs": [
    {
     "name": "stdout",
     "output_type": "stream",
     "text": [
      "address: <class 'str'>:/\n",
      "        abspath: <class 'str'>:/\n",
      "        service: <class '__main__.DictFS'>:<__main__.DictFS object at 0x7f2cf73a29b0>\n",
      "        value: <class 'Dcel.Dcel'>:{'a': {'Aye': 'A'}}\n",
      "        _map: <class 'NoneType'>:None\n",
      "        _dir: <class 'dict'>:{'a': <Dcel.Dcel object at 0x7f2cf73a3370>}\n",
      "        \n",
      "/\n",
      "True\n",
      "{'a': <Dcel.Dcel object at 0x7f2cf73a3370>}\n"
     ]
    }
   ],
   "source": [
    "print(dictfs_dcel.inspect())\n",
    "print(dictfs_dcel.address)\n",
    "print(dictfs_dcel.isdir('/'))\n",
    "print(dictfs_dcel._dir)"
   ]
  },
  {
   "cell_type": "code",
   "execution_count": 56,
   "metadata": {},
   "outputs": [
    {
     "ename": "KeyError",
     "evalue": "'blue'",
     "output_type": "error",
     "traceback": [
      "\u001b[0;31m---------------------------------------------------------------------------\u001b[0m",
      "\u001b[0;31mValueError\u001b[0m                                Traceback (most recent call last)",
      "\u001b[0;32m~/Cosms/Dboy/Laydbug/dev/cburnfs_py/cburnfs/Dcel.py\u001b[0m in \u001b[0;36m_pathwalk\u001b[0;34m(self, path)\u001b[0m\n\u001b[1;32m    681\u001b[0m         \u001b[0;32mtry\u001b[0m\u001b[0;34m:\u001b[0m\u001b[0;34m\u001b[0m\u001b[0;34m\u001b[0m\u001b[0m\n\u001b[0;32m--> 682\u001b[0;31m             \u001b[0mseg\u001b[0m\u001b[0;34m,\u001b[0m\u001b[0mnextpath\u001b[0m \u001b[0;34m=\u001b[0m \u001b[0mpath\u001b[0m\u001b[0;34m.\u001b[0m\u001b[0msplit\u001b[0m\u001b[0;34m(\u001b[0m\u001b[0;34m'/'\u001b[0m\u001b[0;34m,\u001b[0m\u001b[0;36m1\u001b[0m\u001b[0;34m)\u001b[0m\u001b[0;34m\u001b[0m\u001b[0;34m\u001b[0m\u001b[0m\n\u001b[0m\u001b[1;32m    683\u001b[0m         \u001b[0;32mexcept\u001b[0m\u001b[0;34m:\u001b[0m\u001b[0;34m\u001b[0m\u001b[0;34m\u001b[0m\u001b[0m\n",
      "\u001b[0;31mValueError\u001b[0m: not enough values to unpack (expected 2, got 1)",
      "\nDuring handling of the above exception, another exception occurred:\n",
      "\u001b[0;31mKeyError\u001b[0m                                  Traceback (most recent call last)",
      "\u001b[0;32m/tmp/ipykernel_4142/3828193335.py\u001b[0m in \u001b[0;36m<module>\u001b[0;34m\u001b[0m\n\u001b[0;32m----> 1\u001b[0;31m \u001b[0mprint\u001b[0m\u001b[0;34m(\u001b[0m\u001b[0mdictfs_dcel\u001b[0m\u001b[0;34m.\u001b[0m\u001b[0mservice\u001b[0m\u001b[0;34m.\u001b[0m\u001b[0mexists\u001b[0m\u001b[0;34m(\u001b[0m\u001b[0;34m'blue'\u001b[0m\u001b[0;34m)\u001b[0m\u001b[0;34m)\u001b[0m\u001b[0;34m\u001b[0m\u001b[0;34m\u001b[0m\u001b[0m\n\u001b[0m",
      "\u001b[0;32m/usr/lib/python3/dist-packages/fs/base.py\u001b[0m in \u001b[0;36mexists\u001b[0;34m(self, path)\u001b[0m\n\u001b[1;32m    496\u001b[0m         \"\"\"\n\u001b[1;32m    497\u001b[0m         \u001b[0;32mtry\u001b[0m\u001b[0;34m:\u001b[0m\u001b[0;34m\u001b[0m\u001b[0;34m\u001b[0m\u001b[0m\n\u001b[0;32m--> 498\u001b[0;31m             \u001b[0mself\u001b[0m\u001b[0;34m.\u001b[0m\u001b[0mgetinfo\u001b[0m\u001b[0;34m(\u001b[0m\u001b[0mpath\u001b[0m\u001b[0;34m)\u001b[0m\u001b[0;34m\u001b[0m\u001b[0;34m\u001b[0m\u001b[0m\n\u001b[0m\u001b[1;32m    499\u001b[0m         \u001b[0;32mexcept\u001b[0m \u001b[0merrors\u001b[0m\u001b[0;34m.\u001b[0m\u001b[0mResourceNotFound\u001b[0m\u001b[0;34m:\u001b[0m\u001b[0;34m\u001b[0m\u001b[0;34m\u001b[0m\u001b[0m\n\u001b[1;32m    500\u001b[0m             \u001b[0;32mreturn\u001b[0m \u001b[0;32mFalse\u001b[0m\u001b[0;34m\u001b[0m\u001b[0;34m\u001b[0m\u001b[0m\n",
      "\u001b[0;32m/tmp/ipykernel_4142/1727874900.py\u001b[0m in \u001b[0;36mgetinfo\u001b[0;34m(self, path, namespaces)\u001b[0m\n\u001b[1;32m     75\u001b[0m \u001b[0;34m\u001b[0m\u001b[0m\n\u001b[1;32m     76\u001b[0m     \u001b[0;32mdef\u001b[0m \u001b[0mgetinfo\u001b[0m\u001b[0;34m(\u001b[0m\u001b[0mself\u001b[0m\u001b[0;34m,\u001b[0m \u001b[0mpath\u001b[0m\u001b[0;34m,\u001b[0m \u001b[0mnamespaces\u001b[0m\u001b[0;34m=\u001b[0m\u001b[0;32mNone\u001b[0m\u001b[0;34m)\u001b[0m\u001b[0;34m:\u001b[0m\u001b[0;34m\u001b[0m\u001b[0;34m\u001b[0m\u001b[0m\n\u001b[0;32m---> 77\u001b[0;31m         \u001b[0mis_dir\u001b[0m \u001b[0;34m=\u001b[0m \u001b[0mself\u001b[0m\u001b[0;34m.\u001b[0m\u001b[0misdir\u001b[0m\u001b[0;34m(\u001b[0m\u001b[0mpath\u001b[0m\u001b[0;34m)\u001b[0m\u001b[0;34m\u001b[0m\u001b[0;34m\u001b[0m\u001b[0m\n\u001b[0m\u001b[1;32m     78\u001b[0m \u001b[0;34m\u001b[0m\u001b[0m\n\u001b[1;32m     79\u001b[0m         i = Info({\"basic\":{\n",
      "\u001b[0;32m/tmp/ipykernel_4142/1727874900.py\u001b[0m in \u001b[0;36misdir\u001b[0;34m(self, path)\u001b[0m\n\u001b[1;32m     98\u001b[0m \u001b[0;34m\u001b[0m\u001b[0m\n\u001b[1;32m     99\u001b[0m     \u001b[0;32mdef\u001b[0m \u001b[0misdir\u001b[0m\u001b[0;34m(\u001b[0m\u001b[0mself\u001b[0m\u001b[0;34m,\u001b[0m \u001b[0mpath\u001b[0m\u001b[0;34m=\u001b[0m\u001b[0;34m'/'\u001b[0m\u001b[0;34m)\u001b[0m\u001b[0;34m:\u001b[0m\u001b[0;34m\u001b[0m\u001b[0;34m\u001b[0m\u001b[0m\n\u001b[0;32m--> 100\u001b[0;31m         \u001b[0mtarget\u001b[0m \u001b[0;34m=\u001b[0m \u001b[0mself\u001b[0m\u001b[0;34m.\u001b[0m\u001b[0m_pathwalk\u001b[0m\u001b[0;34m(\u001b[0m\u001b[0mpath\u001b[0m\u001b[0;34m)\u001b[0m\u001b[0;34m\u001b[0m\u001b[0;34m\u001b[0m\u001b[0m\n\u001b[0m\u001b[1;32m    101\u001b[0m         \u001b[0m_type\u001b[0m \u001b[0;34m=\u001b[0m \u001b[0mtype\u001b[0m\u001b[0;34m(\u001b[0m\u001b[0mtarget\u001b[0m\u001b[0;34m)\u001b[0m\u001b[0;34m\u001b[0m\u001b[0;34m\u001b[0m\u001b[0m\n\u001b[1;32m    102\u001b[0m \u001b[0;34m\u001b[0m\u001b[0m\n",
      "\u001b[0;32m/tmp/ipykernel_4142/1727874900.py\u001b[0m in \u001b[0;36m_pathwalk\u001b[0;34m(self, path, target)\u001b[0m\n\u001b[1;32m     39\u001b[0m             if (type(target) is Dcel\n\u001b[1;32m     40\u001b[0m                 or str(type(target)) == \"<class '__main__.Dcel'>\"):\n\u001b[0;32m---> 41\u001b[0;31m                 \u001b[0;32mreturn\u001b[0m \u001b[0mtarget\u001b[0m\u001b[0;34m.\u001b[0m\u001b[0m_pathwalk\u001b[0m\u001b[0;34m(\u001b[0m\u001b[0mpath\u001b[0m\u001b[0;34m)\u001b[0m\u001b[0;34m\u001b[0m\u001b[0;34m\u001b[0m\u001b[0m\n\u001b[0m\u001b[1;32m     42\u001b[0m             \u001b[0;32melse\u001b[0m\u001b[0;34m:\u001b[0m\u001b[0;34m\u001b[0m\u001b[0;34m\u001b[0m\u001b[0m\n\u001b[1;32m     43\u001b[0m                 \u001b[0;32mraise\u001b[0m \u001b[0mTypeError\u001b[0m\u001b[0;34m(\u001b[0m\u001b[0;34mf\"DictFS internal 'fsdict' type must 'dict' or 'Dcel' not {type(target)}.\"\u001b[0m\u001b[0;34m)\u001b[0m\u001b[0;34m\u001b[0m\u001b[0;34m\u001b[0m\u001b[0m\n",
      "\u001b[0;32m~/Cosms/Dboy/Laydbug/dev/cburnfs_py/cburnfs/Dcel.py\u001b[0m in \u001b[0;36m_pathwalk\u001b[0;34m(self, path)\u001b[0m\n\u001b[1;32m    682\u001b[0m             \u001b[0mseg\u001b[0m\u001b[0;34m,\u001b[0m\u001b[0mnextpath\u001b[0m \u001b[0;34m=\u001b[0m \u001b[0mpath\u001b[0m\u001b[0;34m.\u001b[0m\u001b[0msplit\u001b[0m\u001b[0;34m(\u001b[0m\u001b[0;34m'/'\u001b[0m\u001b[0;34m,\u001b[0m\u001b[0;36m1\u001b[0m\u001b[0;34m)\u001b[0m\u001b[0;34m\u001b[0m\u001b[0;34m\u001b[0m\u001b[0m\n\u001b[1;32m    683\u001b[0m         \u001b[0;32mexcept\u001b[0m\u001b[0;34m:\u001b[0m\u001b[0;34m\u001b[0m\u001b[0;34m\u001b[0m\u001b[0m\n\u001b[0;32m--> 684\u001b[0;31m             \u001b[0;32mreturn\u001b[0m \u001b[0mself\u001b[0m\u001b[0;34m[\u001b[0m\u001b[0mpath\u001b[0m\u001b[0;34m]\u001b[0m\u001b[0;34m\u001b[0m\u001b[0;34m\u001b[0m\u001b[0m\n\u001b[0m\u001b[1;32m    685\u001b[0m         \u001b[0;32mtry\u001b[0m\u001b[0;34m:\u001b[0m\u001b[0;34m\u001b[0m\u001b[0;34m\u001b[0m\u001b[0m\n\u001b[1;32m    686\u001b[0m             \u001b[0;32mif\u001b[0m \u001b[0mseg\u001b[0m \u001b[0;32min\u001b[0m \u001b[0;34m[\u001b[0m\u001b[0;34m'/'\u001b[0m\u001b[0;34m,\u001b[0m \u001b[0;34m'.'\u001b[0m\u001b[0;34m,\u001b[0m \u001b[0;34m''\u001b[0m\u001b[0;34m]\u001b[0m\u001b[0;34m:\u001b[0m\u001b[0;34m\u001b[0m\u001b[0;34m\u001b[0m\u001b[0m\n",
      "\u001b[0;32m~/Cosms/Dboy/Laydbug/dev/cburnfs_py/cburnfs/Dcel.py\u001b[0m in \u001b[0;36m__getitem__\u001b[0;34m(self, key)\u001b[0m\n\u001b[1;32m    464\u001b[0m             \u001b[0;32mif\u001b[0m \u001b[0mkey\u001b[0m \u001b[0;32min\u001b[0m \u001b[0;34m[\u001b[0m\u001b[0;34m'/'\u001b[0m\u001b[0;34m,\u001b[0m\u001b[0;34m'.'\u001b[0m\u001b[0;34m,\u001b[0m\u001b[0;34m''\u001b[0m\u001b[0;34m]\u001b[0m\u001b[0;34m:\u001b[0m\u001b[0;34m\u001b[0m\u001b[0;34m\u001b[0m\u001b[0m\n\u001b[1;32m    465\u001b[0m                 \u001b[0;32mreturn\u001b[0m \u001b[0mself\u001b[0m\u001b[0;34m\u001b[0m\u001b[0;34m\u001b[0m\u001b[0m\n\u001b[0;32m--> 466\u001b[0;31m             \u001b[0;32mreturn\u001b[0m \u001b[0mDcel\u001b[0m\u001b[0;34m(\u001b[0m\u001b[0mself\u001b[0m\u001b[0;34m.\u001b[0m\u001b[0mvalue\u001b[0m\u001b[0;34m[\u001b[0m\u001b[0mkey\u001b[0m\u001b[0;34m]\u001b[0m\u001b[0;34m)\u001b[0m\u001b[0;34m\u001b[0m\u001b[0;34m\u001b[0m\u001b[0m\n\u001b[0m\u001b[1;32m    467\u001b[0m \u001b[0;34m\u001b[0m\u001b[0m\n\u001b[1;32m    468\u001b[0m         \u001b[0;31m# testing base address for dir\u001b[0m\u001b[0;34m\u001b[0m\u001b[0;34m\u001b[0m\u001b[0m\n",
      "\u001b[0;31mKeyError\u001b[0m: 'blue'"
     ]
    }
   ],
   "source": [
    "print(dictfs_dcel.service.exists('blue'))"
   ]
  },
  {
   "cell_type": "markdown",
   "metadata": {},
   "source": [
    "### Test geturl()"
   ]
  },
  {
   "cell_type": "code",
   "execution_count": 57,
   "metadata": {},
   "outputs": [
    {
     "name": "stdout",
     "output_type": "stream",
     "text": [
      "<class 'int'>\n",
      "['a']\n",
      "dict_keys(['a'])\n",
      "a\n"
     ]
    }
   ],
   "source": [
    "# temp:\n",
    "print(type(0))\n",
    "d = {\"a\":{\"Aye\":\"A\"}}\n",
    "l = list(d.keys())\n",
    "print(l)\n",
    "\n",
    "print(dict_dcel.keys())\n",
    "#l2 = list(dict_dcel)\n",
    "for each in d:\n",
    "    print(each)"
   ]
  },
  {
   "cell_type": "code",
   "execution_count": 58,
   "metadata": {},
   "outputs": [
    {
     "ename": "NoURL",
     "evalue": "path '/a/apple' has no 'download' URL",
     "output_type": "error",
     "traceback": [
      "\u001b[0;31m---------------------------------------------------------------------------\u001b[0m",
      "\u001b[0;31mNoURL\u001b[0m                                     Traceback (most recent call last)",
      "\u001b[0;32m/tmp/ipykernel_4142/3596165413.py\u001b[0m in \u001b[0;36m<module>\u001b[0;34m\u001b[0m\n\u001b[1;32m      1\u001b[0m \u001b[0ms\u001b[0m \u001b[0;34m=\u001b[0m \u001b[0mDictFS\u001b[0m\u001b[0;34m(\u001b[0m\u001b[0;34m{\u001b[0m\u001b[0;34m\"a\"\u001b[0m\u001b[0;34m:\u001b[0m\u001b[0;34m{\u001b[0m\u001b[0;34m\"apple\"\u001b[0m\u001b[0;34m:\u001b[0m\u001b[0;34m\"True\"\u001b[0m\u001b[0;34m,\u001b[0m\u001b[0;34m\"apricot\"\u001b[0m\u001b[0;34m:\u001b[0m\u001b[0;34m\"True\"\u001b[0m\u001b[0;34m,\u001b[0m\u001b[0;34m\"anchovy\"\u001b[0m\u001b[0;34m:\u001b[0m\u001b[0;34m\"True\"\u001b[0m\u001b[0;34m}\u001b[0m\u001b[0;34m}\u001b[0m\u001b[0;34m)\u001b[0m\u001b[0;34m\u001b[0m\u001b[0;34m\u001b[0m\u001b[0m\n\u001b[0;32m----> 2\u001b[0;31m \u001b[0mprint\u001b[0m\u001b[0;34m(\u001b[0m\u001b[0ms\u001b[0m\u001b[0;34m.\u001b[0m\u001b[0mgeturl\u001b[0m\u001b[0;34m(\u001b[0m\u001b[0;34m'/a/apple'\u001b[0m\u001b[0;34m)\u001b[0m\u001b[0;34m)\u001b[0m\u001b[0;34m\u001b[0m\u001b[0;34m\u001b[0m\u001b[0m\n\u001b[0m\u001b[1;32m      3\u001b[0m \u001b[0mprint\u001b[0m\u001b[0;34m(\u001b[0m\u001b[0ms\u001b[0m\u001b[0;34m.\u001b[0m\u001b[0mgetinfo\u001b[0m\u001b[0;34m(\u001b[0m\u001b[0;34m'/a/apple'\u001b[0m\u001b[0;34m)\u001b[0m\u001b[0;34m.\u001b[0m\u001b[0mraw\u001b[0m\u001b[0;34m)\u001b[0m\u001b[0;34m\u001b[0m\u001b[0;34m\u001b[0m\u001b[0m\n\u001b[1;32m      4\u001b[0m \u001b[0mprint\u001b[0m\u001b[0;34m(\u001b[0m\u001b[0ms\u001b[0m\u001b[0;34m.\u001b[0m\u001b[0mreadtext\u001b[0m\u001b[0;34m(\u001b[0m\u001b[0;34m'/a/apple'\u001b[0m\u001b[0;34m)\u001b[0m\u001b[0;34m)\u001b[0m\u001b[0;34m\u001b[0m\u001b[0;34m\u001b[0m\u001b[0m\n",
      "\u001b[0;32m/usr/lib/python3/dist-packages/fs/base.py\u001b[0m in \u001b[0;36mgeturl\u001b[0;34m(self, path, purpose)\u001b[0m\n\u001b[1;32m    873\u001b[0m \u001b[0;34m\u001b[0m\u001b[0m\n\u001b[1;32m    874\u001b[0m         \"\"\"\n\u001b[0;32m--> 875\u001b[0;31m         \u001b[0;32mraise\u001b[0m \u001b[0merrors\u001b[0m\u001b[0;34m.\u001b[0m\u001b[0mNoURL\u001b[0m\u001b[0;34m(\u001b[0m\u001b[0mpath\u001b[0m\u001b[0;34m,\u001b[0m \u001b[0mpurpose\u001b[0m\u001b[0;34m)\u001b[0m\u001b[0;34m\u001b[0m\u001b[0;34m\u001b[0m\u001b[0m\n\u001b[0m\u001b[1;32m    876\u001b[0m \u001b[0;34m\u001b[0m\u001b[0m\n\u001b[1;32m    877\u001b[0m     \u001b[0;32mdef\u001b[0m \u001b[0mhassyspath\u001b[0m\u001b[0;34m(\u001b[0m\u001b[0mself\u001b[0m\u001b[0;34m,\u001b[0m \u001b[0mpath\u001b[0m\u001b[0;34m)\u001b[0m\u001b[0;34m:\u001b[0m\u001b[0;34m\u001b[0m\u001b[0;34m\u001b[0m\u001b[0m\n",
      "\u001b[0;31mNoURL\u001b[0m: path '/a/apple' has no 'download' URL"
     ]
    }
   ],
   "source": [
    "s = DictFS({\"a\":{\"apple\":\"True\",\"apricot\":\"True\",\"anchovy\":\"True\"}})\n",
    "print(s.geturl('/a/apple'))\n",
    "print(s.getinfo('/a/apple').raw)\n",
    "print(s.readtext('/a/apple'))"
   ]
  },
  {
   "cell_type": "code",
   "execution_count": 59,
   "metadata": {},
   "outputs": [
    {
     "name": "stdout",
     "output_type": "stream",
     "text": [
      "apple a b c carrots\n",
      "{'apple': <Dcel.Dcel object at 0x7f2cf73a2e60>, 'abc': <Dcel.Dcel object at 0x7f2cf73a3730>, 'carrots': <Dcel.Dcel object at 0x7f2cf73a3340>}\n",
      "a b c\n",
      "{'a': <Dcel.Dcel object at 0x7f2cf41e62f0>, 'b': <Dcel.Dcel object at 0x7f2cf41e5b70>, 'c': <Dcel.Dcel object at 0x7f2cf41e57b0>}\n",
      "{'a': <Dcel.Dcel object at 0x7f2cf41e62f0>, 'b': <Dcel.Dcel object at 0x7f2cf41e5b70>, 'c': <Dcel.Dcel object at 0x7f2cf41e57b0>}\n",
      "apple a balloon c carrots\n"
     ]
    }
   ],
   "source": [
    "# Test writethrough with recursive DictFS\n",
    "from Dcel import Dcel\n",
    "baselayer = Dcel(\"apple a b c carrots\")\n",
    "apple = baselayer[0:5]\n",
    "abc = baselayer[6:11]\n",
    "carrots = baselayer[12:]\n",
    "print(f\"{apple} {abc} {carrots}\")\n",
    "\n",
    "based = Dcel({\"apple\": apple,\n",
    "              \"abc\": abc,\n",
    "              \"carrots\": carrots\n",
    "             },\n",
    "             service_class=DictFS\n",
    "            )\n",
    "print(based.service.fsdict)\n",
    "\n",
    "a = abc[0:1]\n",
    "b = abc[2:3]\n",
    "c = abc[4:5]\n",
    "print(f\"{a} {b} {c}\")\n",
    "\n",
    "abcd = Dcel({\"a\":a, \"b\":b, \"c\":c},\n",
    "         service_class=DictFS)\n",
    "print(abcd.service.fsdict)\n",
    "\n",
    "abcd['b'] = 'balloon'\n",
    "print(abcd)\n",
    "print(baselayer)"
   ]
  },
  {
   "cell_type": "code",
   "execution_count": 60,
   "metadata": {},
   "outputs": [
    {
     "name": "stdout",
     "output_type": "stream",
     "text": [
      "/b <__main__.DictFS object at 0x7f2cf41e6cb0>\n"
     ]
    }
   ],
   "source": [
    "abcd['b'].flush()\n",
    "print(f\"{abcd['b'].address} {abcd['b'].service}\")\n",
    "\n",
    "abcd['b'].value.flush()\n"
   ]
  },
  {
   "cell_type": "code",
   "execution_count": 61,
   "metadata": {},
   "outputs": [
    {
     "ename": "AttributeError",
     "evalue": "'str' object has no attribute 'flush'",
     "output_type": "error",
     "traceback": [
      "\u001b[0;31m---------------------------------------------------------------------------\u001b[0m",
      "\u001b[0;31mAttributeError\u001b[0m                            Traceback (most recent call last)",
      "\u001b[0;32m/tmp/ipykernel_4142/1092078200.py\u001b[0m in \u001b[0;36m<module>\u001b[0;34m\u001b[0m\n\u001b[0;32m----> 1\u001b[0;31m \u001b[0mbaselayer\u001b[0m\u001b[0;34m.\u001b[0m\u001b[0mvalue\u001b[0m\u001b[0;34m.\u001b[0m\u001b[0mflush\u001b[0m\u001b[0;34m(\u001b[0m\u001b[0;34m)\u001b[0m\u001b[0;34m\u001b[0m\u001b[0;34m\u001b[0m\u001b[0m\n\u001b[0m",
      "\u001b[0;31mAttributeError\u001b[0m: 'str' object has no attribute 'flush'"
     ]
    }
   ],
   "source": [
    "baselayer.value.flush()"
   ]
  },
  {
   "cell_type": "code",
   "execution_count": 62,
   "metadata": {},
   "outputs": [
    {
     "name": "stdout",
     "output_type": "stream",
     "text": [
      "/b\n",
      "<class 'Dcel.Dcel'>\n",
      "DictFS::listdir(): path = /\n",
      "a: abble <class 'Dcel.Dcel'>\n",
      "b: bb <class 'Dcel.Dcel'>\n",
      "c: carrot <class 'Dcel.Dcel'>\n",
      "abble carrot\n"
     ]
    }
   ],
   "source": [
    "# Test dict with Dcels in the values.\n",
    "from Dcel import Dcel\n",
    "\n",
    "a = Dcel(\"apple\")\n",
    "b = a[1:3]  # test with Dcel slice\n",
    "c = Dcel(\"carrot\")\n",
    "\n",
    "stringbuf = Dcel(\"apple carrot\")\n",
    "a = stringbuf[0:5]\n",
    "b = a[1:3]  # test with Dcel slice\n",
    "c = stringbuf[6:12]\n",
    "fsdict = { \"a\": a, \"b\": b, \"c\": c }\n",
    "\n",
    "d = Dcel(fsdict,service_class=DictFS)\n",
    "print(d[\"b\"].address)\n",
    "print(type(d[\"b\"]))\n",
    "d[\"b\"] = \"bb\"  # this should access the slice\n",
    "\n",
    "for ea in d.listdir():\n",
    "   print(f\"{ea}: {d[ea]} {type(d[ea])}\")\n",
    "\n",
    "print(stringbuf)\n"
   ]
  },
  {
   "cell_type": "code",
   "execution_count": 63,
   "metadata": {},
   "outputs": [],
   "source": [
    "# test data\n",
    "from fs.osfs import OSFS\n",
    "fsdict = { \"colors\":\n",
    "          { \"red\": \"Rose\",\n",
    "            \"green\": \"Grapes\",\n",
    "            \"blue\": \"Berries\"\n",
    "           },\n",
    "           \"services\": { \"file\": OSFS }\n",
    "         }\n",
    "\n",
    "a = DictFS(fsdict)"
   ]
  },
  {
   "cell_type": "code",
   "execution_count": 64,
   "metadata": {},
   "outputs": [
    {
     "data": {
      "text/plain": [
       "'Berries'"
      ]
     },
     "execution_count": 64,
     "metadata": {},
     "output_type": "execute_result"
    }
   ],
   "source": [
    "# lookup()\n",
    "a.lookup(\"colors/blue\")"
   ]
  },
  {
   "cell_type": "code",
   "execution_count": 65,
   "metadata": {},
   "outputs": [
    {
     "name": "stdout",
     "output_type": "stream",
     "text": [
      "True\n",
      "True\n"
     ]
    }
   ],
   "source": [
    "# exists()\n",
    "print(a.exists(\"colors/blue\"))\n",
    "print(a.exists('/' + '/'.lstrip('/')))"
   ]
  },
  {
   "cell_type": "code",
   "execution_count": 66,
   "metadata": {},
   "outputs": [
    {
     "name": "stdout",
     "output_type": "stream",
     "text": [
      "True\n",
      "True\n",
      "False\n"
     ]
    }
   ],
   "source": [
    "# isdir()\n",
    "paths = ['/','colors','colors/blue']\n",
    "for each in paths:\n",
    "    print(a.isdir(each))\n"
   ]
  },
  {
   "cell_type": "code",
   "execution_count": 67,
   "metadata": {},
   "outputs": [
    {
     "name": "stdout",
     "output_type": "stream",
     "text": [
      "Berries\n"
     ]
    }
   ],
   "source": [
    "# readtext()\n",
    "res = a.lookup('/colors/blue')\n",
    "print(res)"
   ]
  },
  {
   "cell_type": "code",
   "execution_count": 68,
   "metadata": {},
   "outputs": [],
   "source": [
    "from Dcel import Dcel\n",
    "d = Dcel(fsdict, service_class=DictFS)"
   ]
  },
  {
   "cell_type": "code",
   "execution_count": 69,
   "metadata": {},
   "outputs": [
    {
     "name": "stdout",
     "output_type": "stream",
     "text": [
      "{'red': 'Rose', 'green': 'Grapes', 'blue': 'Berries'}\n"
     ]
    }
   ],
   "source": [
    "print(d.value['colors'])"
   ]
  },
  {
   "cell_type": "code",
   "execution_count": 70,
   "metadata": {},
   "outputs": [
    {
     "data": {
      "text/plain": [
       "{'basic': {'name': '', 'is_dir': True}}"
      ]
     },
     "execution_count": 70,
     "metadata": {},
     "output_type": "execute_result"
    }
   ],
   "source": [
    "d.getinfo('/').raw\n",
    "#a.readtext('/')\n",
    "#a._addr"
   ]
  },
  {
   "cell_type": "code",
   "execution_count": 71,
   "metadata": {
    "scrolled": false
   },
   "outputs": [
    {
     "name": "stdout",
     "output_type": "stream",
     "text": [
      "<class 'Dcel.Dcel'>\n",
      "Rose\n"
     ]
    }
   ],
   "source": [
    "res = d[\"colors/red\"]\n",
    "print(type(res))\n",
    "print(res)"
   ]
  },
  {
   "cell_type": "code",
   "execution_count": 72,
   "metadata": {},
   "outputs": [
    {
     "name": "stdout",
     "output_type": "stream",
     "text": [
      "Rose\n"
     ]
    }
   ],
   "source": [
    "print(a.readtext(\"colors/red\"))"
   ]
  },
  {
   "cell_type": "code",
   "execution_count": 73,
   "metadata": {},
   "outputs": [],
   "source": [
    "a.writetext(\"colors/red\",\"Fire Truck\")"
   ]
  },
  {
   "cell_type": "code",
   "execution_count": 74,
   "metadata": {},
   "outputs": [],
   "source": [
    "a.remove(\"colors/red\")"
   ]
  },
  {
   "cell_type": "code",
   "execution_count": 75,
   "metadata": {},
   "outputs": [
    {
     "name": "stdout",
     "output_type": "stream",
     "text": [
      "DictFS::listdir(): path = ///colors/\n"
     ]
    },
    {
     "data": {
      "text/plain": [
       "['green', 'blue']"
      ]
     },
     "execution_count": 75,
     "metadata": {},
     "output_type": "execute_result"
    }
   ],
   "source": [
    "a.listdir('///colors/')"
   ]
  },
  {
   "cell_type": "code",
   "execution_count": 76,
   "metadata": {},
   "outputs": [
    {
     "data": {
      "text/plain": [
       "{'basic': {'name': 'file', 'is_dir': False}, 'dcel': {'value': fs.osfs.OSFS}}"
      ]
     },
     "execution_count": 76,
     "metadata": {},
     "output_type": "execute_result"
    }
   ],
   "source": [
    "a.getinfo('/services/file',namespaces=['dcel']).raw"
   ]
  },
  {
   "cell_type": "code",
   "execution_count": 77,
   "metadata": {},
   "outputs": [
    {
     "data": {
      "text/plain": [
       "SubFS(<__main__.DictFS object at 0x7f2cf73a2f80>, '/colors/brown')"
      ]
     },
     "execution_count": 77,
     "metadata": {},
     "output_type": "execute_result"
    }
   ],
   "source": [
    "a.makedir('/colors/grey')\n",
    "a.makedir('/colors/brown')"
   ]
  },
  {
   "cell_type": "code",
   "execution_count": 78,
   "metadata": {},
   "outputs": [],
   "source": [
    "a.removedir('colors/grey')"
   ]
  },
  {
   "cell_type": "code",
   "execution_count": 79,
   "metadata": {},
   "outputs": [
    {
     "data": {
      "text/plain": [
       "['red', '/green/blue']"
      ]
     },
     "execution_count": 79,
     "metadata": {},
     "output_type": "execute_result"
    }
   ],
   "source": [
    "\"//red//green/blue\".strip('/').split('/',1)"
   ]
  },
  {
   "cell_type": "code",
   "execution_count": 80,
   "metadata": {},
   "outputs": [
    {
     "data": {
      "text/plain": [
       "'/blue'"
      ]
     },
     "execution_count": 80,
     "metadata": {},
     "output_type": "execute_result"
    }
   ],
   "source": [
    "from os.path import basename, dirname\n",
    "\n",
    "basename(\"red/green//\")\n",
    "dirname(\"/blue/yellow\")\n"
   ]
  },
  {
   "cell_type": "code",
   "execution_count": 81,
   "metadata": {},
   "outputs": [
    {
     "data": {
      "text/plain": [
       "{1: 2}"
      ]
     },
     "execution_count": 81,
     "metadata": {},
     "output_type": "execute_result"
    }
   ],
   "source": [
    "d = {1:2,3:4}\n",
    "d.pop(3)\n",
    "d"
   ]
  },
  {
   "cell_type": "code",
   "execution_count": 82,
   "metadata": {},
   "outputs": [
    {
     "name": "stdout",
     "output_type": "stream",
     "text": [
      "False\n"
     ]
    }
   ],
   "source": [
    "l = []\n",
    "if l:\n",
    "    print(True)\n",
    "else:\n",
    "    print(False)"
   ]
  },
  {
   "cell_type": "code",
   "execution_count": null,
   "metadata": {},
   "outputs": [],
   "source": []
  }
 ],
 "metadata": {
  "kernelspec": {
   "display_name": "Python 3 (ipykernel)",
   "language": "python",
   "name": "python3"
  },
  "language_info": {
   "codemirror_mode": {
    "name": "ipython",
    "version": 3
   },
   "file_extension": ".py",
   "mimetype": "text/x-python",
   "name": "python",
   "nbconvert_exporter": "python",
   "pygments_lexer": "ipython3",
   "version": "3.10.12"
  }
 },
 "nbformat": 4,
 "nbformat_minor": 2
}
