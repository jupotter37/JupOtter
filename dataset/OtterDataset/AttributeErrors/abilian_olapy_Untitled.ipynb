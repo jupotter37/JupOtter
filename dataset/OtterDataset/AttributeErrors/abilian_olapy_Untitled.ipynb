{
 "cells": [
  {
   "cell_type": "code",
   "execution_count": 4,
   "metadata": {},
   "outputs": [
    {
     "ename": "AttributeError",
     "evalue": "'XMLAProvider' object has no attribute 'getOLAPSource'",
     "output_type": "error",
     "traceback": [
      "\u001b[0;31m---------------------------------------------------------------------------\u001b[0m",
      "\u001b[0;31mAttributeError\u001b[0m                            Traceback (most recent call last)",
      "\u001b[0;32m<ipython-input-4-735b8f4723f3>\u001b[0m in \u001b[0;36m<module>\u001b[0;34m()\u001b[0m\n\u001b[1;32m      3\u001b[0m \u001b[0mp\u001b[0m \u001b[0;34m=\u001b[0m \u001b[0mxmla\u001b[0m\u001b[0;34m.\u001b[0m\u001b[0mXMLAProvider\u001b[0m\u001b[0;34m(\u001b[0m\u001b[0;34m)\u001b[0m\u001b[0;34m\u001b[0m\u001b[0m\n\u001b[1;32m      4\u001b[0m \u001b[0mc\u001b[0m \u001b[0;34m=\u001b[0m \u001b[0mp\u001b[0m\u001b[0;34m.\u001b[0m\u001b[0mconnect\u001b[0m\u001b[0;34m(\u001b[0m\u001b[0mlocation\u001b[0m\u001b[0;34m=\u001b[0m\u001b[0;34m\"http://localhost:8000/xmla\"\u001b[0m\u001b[0;34m)\u001b[0m\u001b[0;34m\u001b[0m\u001b[0m\n\u001b[0;32m----> 5\u001b[0;31m \u001b[0ms\u001b[0m \u001b[0;34m=\u001b[0m \u001b[0mp\u001b[0m\u001b[0;34m.\u001b[0m\u001b[0mgetOLAPSource\u001b[0m\u001b[0;34m(\u001b[0m\u001b[0;34m)\u001b[0m\u001b[0;34m\u001b[0m\u001b[0m\n\u001b[0m\u001b[1;32m      6\u001b[0m \u001b[0;34m\u001b[0m\u001b[0m\n\u001b[1;32m      7\u001b[0m \u001b[0;31m# import olap.interfaces as oi\u001b[0m\u001b[0;34m\u001b[0m\u001b[0;34m\u001b[0m\u001b[0m\n",
      "\u001b[0;31mAttributeError\u001b[0m: 'XMLAProvider' object has no attribute 'getOLAPSource'"
     ]
    }
   ],
   "source": [
    "import olap.xmla.xmla as xmla\n",
    "\n",
    "p = xmla.XMLAProvider()\n",
    "c = p.connect(location=\"http://localhost:8000/xmla\")\n",
    "s = p.getOLAPSource()\n",
    "\n",
    "# import olap.interfaces as oi\n",
    "# oi.IOLAPSource.providedBy(s) == True\n",
    "\n",
    "s.getCatalogs()\n",
    "s.getCatalog(\"FoodMart\").getCubes()\n",
    "s.getCatalog(\"FoodMart\").getCube(\"HR\").getDimensions()\n",
    "s.getCatalog(\"FoodMart\").getCube(\"HR\").getDimension(\"[Department]\").\\\n",
    "getMembers()\n",
    "s.getCatalog(\"FoodMart\").getCube(\"HR\").getDimension(\"[Department]\").\\\n",
    "getMember(\"[Department].[14]\")\n",
    "\n",
    "cmd= \"\"\"select {[Measures].ALLMEMBERS} * {[Time].[1997].[Q2].children} on columns,\n",
    "[Gender].[Gender].ALLMEMBERS on rows\n",
    "from [Sales]\n",
    "\"\"\"\n",
    "res=s.getCatalog(\"FoodMart\").query(cmd)\n",
    "res.getSlice()\n",
    "\n",
    "res"
   ]
  },
  {
   "cell_type": "code",
   "execution_count": 2,
   "metadata": {},
   "outputs": [
    {
     "ename": "NameError",
     "evalue": "name 'res' is not defined",
     "output_type": "error",
     "traceback": [
      "\u001b[0;31m---------------------------------------------------------------------------\u001b[0m",
      "\u001b[0;31mNameError\u001b[0m                                 Traceback (most recent call last)",
      "\u001b[0;32m<ipython-input-2-c08785e04264>\u001b[0m in \u001b[0;36m<module>\u001b[0;34m()\u001b[0m\n\u001b[0;32m----> 1\u001b[0;31m \u001b[0mres\u001b[0m\u001b[0;34m\u001b[0m\u001b[0m\n\u001b[0m",
      "\u001b[0;31mNameError\u001b[0m: name 'res' is not defined"
     ]
    }
   ],
   "source": [
    "res"
   ]
  },
  {
   "cell_type": "code",
   "execution_count": null,
   "metadata": {},
   "outputs": [],
   "source": []
  }
 ],
 "metadata": {
  "kernelspec": {
   "display_name": "Python 2",
   "language": "python",
   "name": "python2"
  },
  "language_info": {
   "codemirror_mode": {
    "name": "ipython",
    "version": 2
   },
   "file_extension": ".py",
   "mimetype": "text/x-python",
   "name": "python",
   "nbconvert_exporter": "python",
   "pygments_lexer": "ipython2",
   "version": "2.7.17"
  }
 },
 "nbformat": 4,
 "nbformat_minor": 2
}
