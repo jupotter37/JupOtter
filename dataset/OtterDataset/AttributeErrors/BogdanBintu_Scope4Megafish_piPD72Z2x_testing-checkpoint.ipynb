{
 "cells": [
  {
   "cell_type": "code",
   "execution_count": 1,
   "metadata": {},
   "outputs": [],
   "source": [
    "%load_ext autoreload\n",
    "%autoreload 2"
   ]
  },
  {
   "cell_type": "code",
   "execution_count": 2,
   "metadata": {},
   "outputs": [],
   "source": [
    "from storm_control.sc_hardware.physikInstrumente.piPD72Z2x import piPD72Z2x"
   ]
  },
  {
   "cell_type": "code",
   "execution_count": 4,
   "metadata": {},
   "outputs": [
    {
     "ename": "AttributeError",
     "evalue": "'NoneType' object has no attribute 'get'",
     "output_type": "error",
     "traceback": [
      "\u001b[1;31m---------------------------------------------------------------------------\u001b[0m",
      "\u001b[1;31mAttributeError\u001b[0m                            Traceback (most recent call last)",
      "\u001b[1;32m<ipython-input-4-2164e8af8441>\u001b[0m in \u001b[0;36m<module>\u001b[1;34m()\u001b[0m\n\u001b[1;32m----> 1\u001b[1;33m \u001b[0mpiezo\u001b[0m \u001b[1;33m=\u001b[0m \u001b[0mpiPD72Z2x\u001b[0m\u001b[1;33m(\u001b[0m\u001b[1;33m)\u001b[0m\u001b[1;33m\u001b[0m\u001b[1;33m\u001b[0m\u001b[0m\n\u001b[0m",
      "\u001b[1;32mc:\\software\\microscope\\storm-control\\storm_control\\sc_hardware\\physikInstrumente\\piPD72Z2x.py\u001b[0m in \u001b[0;36m__init__\u001b[1;34m(self, module_params, qt_settings, **kwds)\u001b[0m\n\u001b[0;32m     17\u001b[0m \u001b[1;33m\u001b[0m\u001b[0m\n\u001b[0;32m     18\u001b[0m     \u001b[1;32mdef\u001b[0m \u001b[0m__init__\u001b[0m\u001b[1;33m(\u001b[0m\u001b[0mself\u001b[0m\u001b[1;33m,\u001b[0m \u001b[0mmodule_params\u001b[0m\u001b[1;33m=\u001b[0m\u001b[1;32mNone\u001b[0m\u001b[1;33m,\u001b[0m \u001b[0mqt_settings\u001b[0m\u001b[1;33m=\u001b[0m\u001b[1;32mNone\u001b[0m\u001b[1;33m,\u001b[0m \u001b[1;33m**\u001b[0m\u001b[0mkwds\u001b[0m\u001b[1;33m)\u001b[0m\u001b[1;33m:\u001b[0m\u001b[1;33m\u001b[0m\u001b[1;33m\u001b[0m\u001b[0m\n\u001b[1;32m---> 19\u001b[1;33m         \u001b[0msuper\u001b[0m\u001b[1;33m(\u001b[0m\u001b[1;33m)\u001b[0m\u001b[1;33m.\u001b[0m\u001b[0m__init__\u001b[0m\u001b[1;33m(\u001b[0m\u001b[0mmodule_params\u001b[0m\u001b[1;33m,\u001b[0m \u001b[0mqt_settings\u001b[0m\u001b[1;33m,\u001b[0m \u001b[1;33m**\u001b[0m\u001b[0mkwds\u001b[0m\u001b[1;33m)\u001b[0m\u001b[1;33m\u001b[0m\u001b[1;33m\u001b[0m\u001b[0m\n\u001b[0m\u001b[0;32m     20\u001b[0m \u001b[1;33m\u001b[0m\u001b[0m\n\u001b[0;32m     21\u001b[0m         \u001b[1;31m## __init__\u001b[0m\u001b[1;33m\u001b[0m\u001b[1;33m\u001b[0m\u001b[1;33m\u001b[0m\u001b[0m\n",
      "\u001b[1;32mc:\\software\\microscope\\storm-control\\storm_control\\sc_hardware\\baseClasses\\voltageZModule.py\u001b[0m in \u001b[0;36m__init__\u001b[1;34m(self, module_params, qt_settings, **kwds)\u001b[0m\n\u001b[0;32m    101\u001b[0m     \u001b[1;32mdef\u001b[0m \u001b[0m__init__\u001b[0m\u001b[1;33m(\u001b[0m\u001b[0mself\u001b[0m\u001b[1;33m,\u001b[0m \u001b[0mmodule_params\u001b[0m \u001b[1;33m=\u001b[0m \u001b[1;32mNone\u001b[0m\u001b[1;33m,\u001b[0m \u001b[0mqt_settings\u001b[0m \u001b[1;33m=\u001b[0m \u001b[1;32mNone\u001b[0m\u001b[1;33m,\u001b[0m \u001b[1;33m**\u001b[0m\u001b[0mkwds\u001b[0m\u001b[1;33m)\u001b[0m\u001b[1;33m:\u001b[0m\u001b[1;33m\u001b[0m\u001b[1;33m\u001b[0m\u001b[0m\n\u001b[0;32m    102\u001b[0m         \u001b[0msuper\u001b[0m\u001b[1;33m(\u001b[0m\u001b[1;33m)\u001b[0m\u001b[1;33m.\u001b[0m\u001b[0m__init__\u001b[0m\u001b[1;33m(\u001b[0m\u001b[1;33m**\u001b[0m\u001b[0mkwds\u001b[0m\u001b[1;33m)\u001b[0m\u001b[1;33m\u001b[0m\u001b[1;33m\u001b[0m\u001b[0m\n\u001b[1;32m--> 103\u001b[1;33m         \u001b[0mself\u001b[0m\u001b[1;33m.\u001b[0m\u001b[0mconfiguration\u001b[0m \u001b[1;33m=\u001b[0m \u001b[0mmodule_params\u001b[0m\u001b[1;33m.\u001b[0m\u001b[0mget\u001b[0m\u001b[1;33m(\u001b[0m\u001b[1;34m\"configuration\"\u001b[0m\u001b[1;33m)\u001b[0m\u001b[1;33m\u001b[0m\u001b[1;33m\u001b[0m\u001b[0m\n\u001b[0m\u001b[0;32m    104\u001b[0m         \u001b[0mself\u001b[0m\u001b[1;33m.\u001b[0m\u001b[0mz_stage_functionality\u001b[0m \u001b[1;33m=\u001b[0m \u001b[1;32mNone\u001b[0m\u001b[1;33m\u001b[0m\u001b[1;33m\u001b[0m\u001b[0m\n\u001b[0;32m    105\u001b[0m \u001b[1;33m\u001b[0m\u001b[0m\n",
      "\u001b[1;31mAttributeError\u001b[0m: 'NoneType' object has no attribute 'get'"
     ]
    }
   ],
   "source": [
    "piezo = piPD72Z2x()"
   ]
  },
  {
   "cell_type": "code",
   "execution_count": 4,
   "metadata": {},
   "outputs": [
    {
     "data": {
      "text/plain": [
       "{'z': 59.91678}"
      ]
     },
     "execution_count": 4,
     "metadata": {},
     "output_type": "execute_result"
    }
   ],
   "source": [
    "piezo.zPosition()"
   ]
  },
  {
   "cell_type": "code",
   "execution_count": 5,
   "metadata": {},
   "outputs": [],
   "source": [
    "import numpy as np"
   ]
  },
  {
   "cell_type": "code",
   "execution_count": 6,
   "metadata": {},
   "outputs": [
    {
     "ename": "InvalidDeviceIDError",
     "evalue": "Device identifier is invalid.\nDevice Specified: empty string\nSuggested Device(s): SimDev1, Dev1\n\nTask Name: _unnamedTask<1>\n\nStatus Code: -200220\n in function DAQmxCreateAOVoltageChan",
     "output_type": "error",
     "traceback": [
      "\u001b[1;31m---------------------------------------------------------------------------\u001b[0m",
      "\u001b[1;31mInvalidDeviceIDError\u001b[0m                      Traceback (most recent call last)",
      "\u001b[1;32m<ipython-input-6-c8c454570e0a>\u001b[0m in \u001b[0;36m<module>\u001b[1;34m()\u001b[0m\n\u001b[1;32m----> 1\u001b[1;33m \u001b[0mpiezo\u001b[0m\u001b[1;33m.\u001b[0m\u001b[0mstartHardwareTimedMove\u001b[0m\u001b[1;33m(\u001b[0m\u001b[0mnp\u001b[0m\u001b[1;33m.\u001b[0m\u001b[0mhstack\u001b[0m\u001b[1;33m(\u001b[0m\u001b[1;33m(\u001b[0m\u001b[0mnp\u001b[0m\u001b[1;33m.\u001b[0m\u001b[0mzeros\u001b[0m\u001b[1;33m(\u001b[0m\u001b[1;36m100\u001b[0m\u001b[1;33m)\u001b[0m\u001b[1;33m,\u001b[0m\u001b[0mnp\u001b[0m\u001b[1;33m.\u001b[0m\u001b[0mones\u001b[0m\u001b[1;33m(\u001b[0m\u001b[1;36m100\u001b[0m\u001b[1;33m)\u001b[0m\u001b[1;33m,\u001b[0m\u001b[1;36m10\u001b[0m\u001b[1;33m*\u001b[0m\u001b[0mnp\u001b[0m\u001b[1;33m.\u001b[0m\u001b[0mones\u001b[0m\u001b[1;33m(\u001b[0m\u001b[1;36m100\u001b[0m\u001b[1;33m)\u001b[0m\u001b[1;33m)\u001b[0m\u001b[1;33m)\u001b[0m\u001b[1;33m)\u001b[0m\u001b[1;33m\u001b[0m\u001b[1;33m\u001b[0m\u001b[0m\n\u001b[0m",
      "\u001b[1;32mc:\\software\\microscope\\storm-control\\storm_control\\sc_hardware\\physikInstrumente\\piPD72Z2x.py\u001b[0m in \u001b[0;36mstartHardwareTimedMove\u001b[1;34m(self, z_positions, max_freq)\u001b[0m\n\u001b[0;32m    103\u001b[0m         \u001b[1;31m# Create hardware timed task\u001b[0m\u001b[1;33m\u001b[0m\u001b[1;33m\u001b[0m\u001b[1;33m\u001b[0m\u001b[0m\n\u001b[0;32m    104\u001b[0m         \u001b[0mself\u001b[0m\u001b[1;33m.\u001b[0m\u001b[0mni_task\u001b[0m \u001b[1;33m=\u001b[0m \u001b[0mnicontrol\u001b[0m\u001b[1;33m.\u001b[0m\u001b[0mAnalogWaveformOutput\u001b[0m\u001b[1;33m(\u001b[0m\u001b[0mself\u001b[0m\u001b[1;33m.\u001b[0m\u001b[0mboard\u001b[0m\u001b[1;33m,\u001b[0m \u001b[0mself\u001b[0m\u001b[1;33m.\u001b[0m\u001b[0mline\u001b[0m\u001b[1;33m)\u001b[0m\u001b[1;33m\u001b[0m\u001b[1;33m\u001b[0m\u001b[0m\n\u001b[1;32m--> 105\u001b[1;33m         \u001b[0mself\u001b[0m\u001b[1;33m.\u001b[0m\u001b[0mni_task\u001b[0m\u001b[1;33m.\u001b[0m\u001b[0maddChannel\u001b[0m\u001b[1;33m(\u001b[0m\u001b[1;34m'ao0'\u001b[0m\u001b[1;33m)\u001b[0m\u001b[1;33m\u001b[0m\u001b[1;33m\u001b[0m\u001b[0m\n\u001b[0m\u001b[0;32m    106\u001b[0m         \u001b[1;31m# Set waveform\u001b[0m\u001b[1;33m\u001b[0m\u001b[1;33m\u001b[0m\u001b[1;33m\u001b[0m\u001b[0m\n\u001b[0;32m    107\u001b[0m         \u001b[0mvoltages\u001b[0m \u001b[1;33m=\u001b[0m \u001b[0mz_positions\u001b[0m \u001b[1;33m*\u001b[0m \u001b[0mself\u001b[0m\u001b[1;33m.\u001b[0m\u001b[0mscale\u001b[0m\u001b[1;33m\u001b[0m\u001b[1;33m\u001b[0m\u001b[0m\n",
      "\u001b[1;32mc:\\software\\microscope\\storm-control\\storm_control\\sc_hardware\\nationalInstruments\\nicontrol.py\u001b[0m in \u001b[0;36maddChannel\u001b[1;34m(self, source)\u001b[0m\n\u001b[0;32m    183\u001b[0m                                      \u001b[0mself\u001b[0m\u001b[1;33m.\u001b[0m\u001b[0mmax_val\u001b[0m\u001b[1;33m,\u001b[0m\u001b[1;33m\u001b[0m\u001b[1;33m\u001b[0m\u001b[0m\n\u001b[0;32m    184\u001b[0m                                      \u001b[0mPyDAQmx\u001b[0m\u001b[1;33m.\u001b[0m\u001b[0mDAQmx_Val_Volts\u001b[0m\u001b[1;33m,\u001b[0m\u001b[1;33m\u001b[0m\u001b[1;33m\u001b[0m\u001b[0m\n\u001b[1;32m--> 185\u001b[1;33m                                      \"\")\n\u001b[0m\u001b[0;32m    186\u001b[0m \u001b[1;33m\u001b[0m\u001b[0m\n\u001b[0;32m    187\u001b[0m     \u001b[1;32mdef\u001b[0m \u001b[0msetWaveforms\u001b[0m\u001b[1;33m(\u001b[0m\u001b[0mself\u001b[0m\u001b[1;33m,\u001b[0m \u001b[0mwaveforms\u001b[0m \u001b[1;33m=\u001b[0m \u001b[1;32mNone\u001b[0m\u001b[1;33m,\u001b[0m \u001b[0msample_rate\u001b[0m \u001b[1;33m=\u001b[0m \u001b[1;32mNone\u001b[0m\u001b[1;33m,\u001b[0m \u001b[0mclock\u001b[0m \u001b[1;33m=\u001b[0m \u001b[1;32mNone\u001b[0m\u001b[1;33m,\u001b[0m \u001b[0mfinite\u001b[0m \u001b[1;33m=\u001b[0m \u001b[1;32mFalse\u001b[0m\u001b[1;33m,\u001b[0m \u001b[0mrising\u001b[0m \u001b[1;33m=\u001b[0m \u001b[1;32mTrue\u001b[0m\u001b[1;33m)\u001b[0m\u001b[1;33m:\u001b[0m\u001b[1;33m\u001b[0m\u001b[1;33m\u001b[0m\u001b[0m\n",
      "\u001b[1;32mC:\\Users\\MERFISH8\\anaconda3\\envs\\stormcontrol\\lib\\site-packages\\PyDAQmx\\Task.py\u001b[0m in \u001b[0;36mCreateAOVoltageChan\u001b[1;34m(self, physicalChannel, nameToAssignToChannel, minVal, maxVal, units, customScaleName)\u001b[0m\n",
      "\u001b[1;32mC:\\Users\\MERFISH8\\anaconda3\\envs\\stormcontrol\\lib\\site-packages\\PyDAQmx\\DAQmxFunctions.py\u001b[0m in \u001b[0;36mfunction\u001b[1;34m(taskHandle, physicalChannel, nameToAssignToChannel, minVal, maxVal, units, customScaleName)\u001b[0m\n",
      "\u001b[1;32mC:\\Users\\MERFISH8\\anaconda3\\envs\\stormcontrol\\lib\\site-packages\\PyDAQmx\\DAQmxFunctions.py\u001b[0m in \u001b[0;36mmafunction\u001b[1;34m(*arg)\u001b[0m\n\u001b[0;32m     60\u001b[0m             \u001b[0mDAQmxGetExtendedErrorInfo\u001b[0m\u001b[1;33m(\u001b[0m\u001b[0merrBuff\u001b[0m\u001b[1;33m,\u001b[0m\u001b[1;36m2048\u001b[0m\u001b[1;33m)\u001b[0m\u001b[1;33m\u001b[0m\u001b[1;33m\u001b[0m\u001b[0m\n\u001b[0;32m     61\u001b[0m             \u001b[0mexception_class\u001b[0m \u001b[1;33m=\u001b[0m \u001b[0merror_by_number\u001b[0m\u001b[1;33m.\u001b[0m\u001b[0mget\u001b[0m\u001b[1;33m(\u001b[0m\u001b[0merror\u001b[0m\u001b[1;33m,\u001b[0m \u001b[0mDAQError\u001b[0m\u001b[1;33m)\u001b[0m\u001b[1;33m\u001b[0m\u001b[1;33m\u001b[0m\u001b[0m\n\u001b[1;32m---> 62\u001b[1;33m             \u001b[1;32mraise\u001b[0m \u001b[0mexception_class\u001b[0m\u001b[1;33m(\u001b[0m\u001b[0merrBuff\u001b[0m\u001b[1;33m.\u001b[0m\u001b[0mvalue\u001b[0m\u001b[1;33m.\u001b[0m\u001b[0mdecode\u001b[0m\u001b[1;33m(\u001b[0m\u001b[1;34m\"utf-8\"\u001b[0m\u001b[1;33m)\u001b[0m\u001b[1;33m,\u001b[0m \u001b[0mf\u001b[0m\u001b[1;33m.\u001b[0m\u001b[0m__name__\u001b[0m\u001b[1;33m)\u001b[0m\u001b[1;33m\u001b[0m\u001b[1;33m\u001b[0m\u001b[0m\n\u001b[0m\u001b[0;32m     63\u001b[0m         \u001b[1;32melif\u001b[0m \u001b[0merror\u001b[0m\u001b[1;33m>\u001b[0m\u001b[1;36m0\u001b[0m\u001b[1;33m:\u001b[0m\u001b[1;33m\u001b[0m\u001b[1;33m\u001b[0m\u001b[0m\n\u001b[0;32m     64\u001b[0m             \u001b[0merrBuff\u001b[0m \u001b[1;33m=\u001b[0m \u001b[0mcreate_string_buffer\u001b[0m\u001b[1;33m(\u001b[0m\u001b[1;36m2048\u001b[0m\u001b[1;33m)\u001b[0m\u001b[1;33m\u001b[0m\u001b[1;33m\u001b[0m\u001b[0m\n",
      "\u001b[1;31mInvalidDeviceIDError\u001b[0m: Device identifier is invalid.\nDevice Specified: empty string\nSuggested Device(s): SimDev1, Dev1\n\nTask Name: _unnamedTask<1>\n\nStatus Code: -200220\n in function DAQmxCreateAOVoltageChan"
     ]
    }
   ],
   "source": [
    "piezo.startHardwareTimedMove(np.hstack((np.zeros(100),np.ones(100),10*np.ones(100))))"
   ]
  },
  {
   "cell_type": "code",
   "execution_count": 2,
   "metadata": {},
   "outputs": [
    {
     "name": "stderr",
     "output_type": "stream",
     "text": [
      "WARNING:root:no GCSTranslator path in Windows registry (HKLM\\SOFTWARE\\PI\\GCSTranslator)\n"
     ]
    },
    {
     "name": "stdout",
     "output_type": "stream",
     "text": [
      "Serial number: 120031914\n",
      "Connected: PHYSIK INSTRUMENTE,E-709,120031914,5.001\n",
      "initialize connected piezo...\n"
     ]
    }
   ],
   "source": [
    "scale=10/250.0\n",
    "#serialnum='120033030'\n",
    "serialnum='120031914'\n",
    "\n",
    "print(f\"Serial number: {serialnum}\")\n",
    "\n",
    "# Connect to piezo\n",
    "pidevice = GCSDevice(CONTROLLERNAME)\n",
    "pidevice.ConnectUSB(serialnum)\n",
    "print(\"Connected: {}\".format(pidevice.qIDN().strip()))\n",
    "\n",
    "# In the module pipython.pitools there are some helper\n",
    "# functions to make using a PI device more convenient. The \"startup\"\n",
    "# function will initialize your system. There are controllers that\n",
    "# cannot discover the connected stages hence we set them with the\n",
    "# \"stages\" argument. The desired referencing method (see controller\n",
    "# user manual) is passed as \"refmode\" argument. All connected axes\n",
    "# will be stopped if they are moving and their servo will be enabled.\n",
    "\n",
    "print('initialize connected piezo...')\n",
    "#pitools.startup(pidevice, stages=STAGES, refmodes=REFMODES)\n"
   ]
  },
  {
   "cell_type": "code",
   "execution_count": 23,
   "metadata": {},
   "outputs": [
    {
     "data": {
      "text/plain": [
       "OrderedDict([('Z', True)])"
      ]
     },
     "execution_count": 23,
     "metadata": {},
     "output_type": "execute_result"
    }
   ],
   "source": [
    "# SVO = False/0 = open loop\n",
    "# SVO = True/1 = closed loop\n",
    "pidevice.qSVO()"
   ]
  },
  {
   "cell_type": "code",
   "execution_count": 27,
   "metadata": {},
   "outputs": [
    {
     "data": {
      "text/plain": [
       "OrderedDict([('Z',\n",
       "              OrderedDict([(97, [0]),\n",
       "                           (100664576, [0]),\n",
       "                           (100664577, [0.0]),\n",
       "                           (117440512, [0.0]),\n",
       "                           (117440513, [250.0]),\n",
       "                           (117441024, [13000.0]),\n",
       "                           (117441025, [100000.0]),\n",
       "                           (117441280, [0.04147204]),\n",
       "                           (117441281, [0.0005862424]),\n",
       "                           (117441282, [0.0]),\n",
       "                           (117441792, [1.0]),\n",
       "                           (117441793, [0.0]),\n",
       "                           (117442048, ['Z']),\n",
       "                           (117442560, [0]),\n",
       "                           (117442562, [0]),\n",
       "                           (117442563, [0]),\n",
       "                           (117442816, [2.5]),\n",
       "                           (117442817, [0.0]),\n",
       "                           (117443072, [-8.0]),\n",
       "                           (117443073, [100.0]),\n",
       "                           (117443584, [0.0]),\n",
       "                           (117443585, [0.0]),\n",
       "                           (117444613, [0.04000001]),\n",
       "                           (117444614, [0.0]),\n",
       "                           (134217984, [135.7419]),\n",
       "                           (134217985, [378.6617]),\n",
       "                           (134218240, [0.05000007]),\n",
       "                           (134218241, [0.05000005]),\n",
       "                           (134218496, [1.0]),\n",
       "                           (134218497, [1.0]),\n",
       "                           (150994944, [0.3468842]),\n",
       "                           (150994945, [0.0]),\n",
       "                           (268436736, [1]),\n",
       "                           (268436738, [0.0]),\n",
       "                           (268436739, [250.0]),\n",
       "                           (352323584, [1]),\n",
       "                           (352328704, [0.0]),\n",
       "                           (352328705, [1.0])])),\n",
       "             ('1',\n",
       "              OrderedDict([(33554688, [1]),\n",
       "                           (33554689, [1]),\n",
       "                           (33554690, [14]),\n",
       "                           (33554944, [162.1039]),\n",
       "                           (33555200, [-1.704545]),\n",
       "                           (33555456, [-3.76909e-05]),\n",
       "                           (33555712, [-8.472824e-08]),\n",
       "                           (33555968, [3.544961e-09]),\n",
       "                           (33556224, [0.0]),\n",
       "                           (50331904, [122.6924]),\n",
       "                           (50331905, [102.1876]),\n",
       "                           (50331906, [109.4424]),\n",
       "                           (50331907, [106.1829]),\n",
       "                           (50332160, [-0.003602603]),\n",
       "                           (50332161, [-0.003427502]),\n",
       "                           (50332162, [-0.003439248]),\n",
       "                           (50332163, [-0.003439807]),\n",
       "                           (50332416, [1.175851e-09]),\n",
       "                           (50332417, [4.745855e-10]),\n",
       "                           (50332418, [-1.690665e-10]),\n",
       "                           (50332419, [7.180614e-11]),\n",
       "                           (50332672, [3.384276e-16]),\n",
       "                           (50332673, [3.136046e-15]),\n",
       "                           (50332674, [2.58964e-15]),\n",
       "                           (50332675, [4.099474e-15]),\n",
       "                           (50332928, [0.0]),\n",
       "                           (50332929, [0.0]),\n",
       "                           (50332930, [0.0]),\n",
       "                           (50332931, [0.0]),\n",
       "                           (50333184, [0.0]),\n",
       "                           (50333185, [0.0]),\n",
       "                           (50333186, [0.0]),\n",
       "                           (50333187, [0.0]),\n",
       "                           (50335744, [0.0]),\n",
       "                           (50336000, [1643.68]),\n",
       "                           (50336256, [0.05547429]),\n",
       "                           (50336512, [-0.02910059]),\n",
       "                           (50336768, [0.0]),\n",
       "                           (50337024, [0.0]),\n",
       "                           (50339840, [0]),\n",
       "                           (67108864, [1.0]),\n",
       "                           (67108865, [1.0]),\n",
       "                           (67108866, [1.987525]),\n",
       "                           (67108867, [2.97626]),\n",
       "                           (67110144, [1.054819]),\n",
       "                           (67110400, [-1522.105]),\n",
       "                           (67110912, [85.0]),\n",
       "                           (67111680, [16]),\n",
       "                           (67111936, [4]),\n",
       "                           (83886080, [1]),\n",
       "                           (83886081, [600.0]),\n",
       "                           (83886082, [2]),\n",
       "                           (83886337, [0.0]),\n",
       "                           (83886338, [0.0]),\n",
       "                           (83886339, [1.0]),\n",
       "                           (83886340, [0.0]),\n",
       "                           (83886341, [0.0]),\n",
       "                           (167772163, [1]),\n",
       "                           (167772164, [1]),\n",
       "                           (167772176, [5956.336]),\n",
       "                           (167772192, [0.8720219]),\n",
       "                           (167772416, [17.0]),\n",
       "                           (184549383, [-30.0]),\n",
       "                           (184549384, [130.0]),\n",
       "                           (201326592, [-30.0]),\n",
       "                           (201326593, [130.0]),\n",
       "                           (218103808, [120031914]),\n",
       "                           (218105600, ['E-709']),\n",
       "                           (218105856, [1]),\n",
       "                           (234881280, [9.999999e-05]),\n",
       "                           (234881536, [9.999999e-05]),\n",
       "                           (234883840, [2]),\n",
       "                           (234883841, [2]),\n",
       "                           (234883842, [1]),\n",
       "                           (234883843, [1]),\n",
       "                           (234883844, [1]),\n",
       "                           (234883845, [2]),\n",
       "                           (251658240, [0]),\n",
       "                           (251658496, ['P-725.2CD']),\n",
       "                           (251658752, [120033030]),\n",
       "                           (268436737, [0]),\n",
       "                           (285213696, [57600]),\n",
       "                           (318767108, [16306]),\n",
       "                           (318767369, [1]),\n",
       "                           (318767370, [6]),\n",
       "                           (318767371, [0.0]),\n",
       "                           (369098752, [1]),\n",
       "                           (369099008, [4]),\n",
       "                           (369099264, [4096]),\n",
       "                           (369099520, [4]),\n",
       "                           (4294901761, [2864944640]),\n",
       "                           (4294901762, [1006524793]),\n",
       "                           (4294901763, [482535212]),\n",
       "                           (4294901764, [16777216]),\n",
       "                           (4294901766, ['E855F0013']),\n",
       "                           (4294901767, ['E855B0009']),\n",
       "                           (4294901768, [327681]),\n",
       "                           (4294901771, [262144]),\n",
       "                           (4294901772, ['TMS320F28335']),\n",
       "                           (4294901773, ['FW', 'for', 'E-709']),\n",
       "                           (4294901774, [26082015]),\n",
       "                           (4294901775, ['JRe']),\n",
       "                           (4294901776, [172244]),\n",
       "                           (4294901777, [4294967295]),\n",
       "                           (4294901778, [128]),\n",
       "                           (4294901779, ['uC']),\n",
       "                           (4294901780, [786432]),\n",
       "                           (4294901781, [3145856]),\n",
       "                           (4294901782, [16])])),\n",
       "             ('2',\n",
       "              OrderedDict([(33554688, [1]),\n",
       "                           (33554689, [1]),\n",
       "                           (33554690, [16]),\n",
       "                           (33554944, [124.9949]),\n",
       "                           (33555200, [1.25006]),\n",
       "                           (33555456, [0.0]),\n",
       "                           (33555712, [0.0]),\n",
       "                           (33555968, [0.0]),\n",
       "                           (33556224, [0.0]),\n",
       "                           (50331904, [-100.0]),\n",
       "                           (50331905, [-100.0]),\n",
       "                           (50331906, [-100.0]),\n",
       "                           (50331907, [-100.0]),\n",
       "                           (50332160, [0.00305176]),\n",
       "                           (50332161, [0.00305176]),\n",
       "                           (50332162, [0.00305176]),\n",
       "                           (50332163, [0.00305176]),\n",
       "                           (50332416, [0.0]),\n",
       "                           (50332417, [0.0]),\n",
       "                           (50332418, [0.0]),\n",
       "                           (50332419, [0.0]),\n",
       "                           (50332672, [0.0]),\n",
       "                           (50332673, [0.0]),\n",
       "                           (50332674, [0.0]),\n",
       "                           (50332675, [0.0]),\n",
       "                           (50332928, [0.0]),\n",
       "                           (50332929, [0.0]),\n",
       "                           (50332930, [0.0]),\n",
       "                           (50332931, [0.0]),\n",
       "                           (50333184, [0.0]),\n",
       "                           (50333185, [0.0]),\n",
       "                           (50333186, [0.0]),\n",
       "                           (50333187, [0.0]),\n",
       "                           (50335744, [0.0]),\n",
       "                           (50336000, [0.0]),\n",
       "                           (50336256, [0.0]),\n",
       "                           (50336512, [0.0]),\n",
       "                           (50336768, [0.0]),\n",
       "                           (50337024, [0.0]),\n",
       "                           (50339840, [0]),\n",
       "                           (67108864, [0.4999999]),\n",
       "                           (67108865, [1.0]),\n",
       "                           (67108866, [2.0]),\n",
       "                           (67108867, [3.0]),\n",
       "                           (67110144, [1.050053]),\n",
       "                           (67110400, [-1545.679]),\n",
       "                           (67110912, [85.0]),\n",
       "                           (67111680, [16]),\n",
       "                           (67111936, [4]),\n",
       "                           (83886080, [0]),\n",
       "                           (83886081, [1000.0]),\n",
       "                           (83886082, [50]),\n",
       "                           (83886337, [0.0]),\n",
       "                           (83886338, [0.0]),\n",
       "                           (83886339, [1.0]),\n",
       "                           (83886340, [0.0]),\n",
       "                           (83886341, [0.0]),\n",
       "                           (167772163, [2]),\n",
       "                           (167772164, ['Z']),\n",
       "                           (167772176, [11317.0]),\n",
       "                           (167772192, [0.8414321]),\n",
       "                           (167772416, [17.0]),\n",
       "                           (184549383, [-10.0]),\n",
       "                           (184549384, [110.0]),\n",
       "                           (201326592, [-10.0]),\n",
       "                           (201326593, [110.0])]))])"
      ]
     },
     "execution_count": 27,
     "metadata": {},
     "output_type": "execute_result"
    }
   ],
   "source": [
    "# current command mode\n",
    "# 0 = digital\n",
    "# 2 = analog\n",
    "pidevice.qSPA()"
   ]
  },
  {
   "cell_type": "code",
   "execution_count": 44,
   "metadata": {},
   "outputs": [],
   "source": [
    "# SPA 0x06000500 is input source"
   ]
  },
  {
   "cell_type": "code",
   "execution_count": 45,
   "metadata": {},
   "outputs": [],
   "source": [
    "pidevice.SPA('Z', 0x06000500, 2)"
   ]
  },
  {
   "cell_type": "code",
   "execution_count": 42,
   "metadata": {},
   "outputs": [
    {
     "data": {
      "text/plain": [
       "OrderedDict([(97, [0]),\n",
       "             (100664576, [0]),\n",
       "             (100664577, [0.0]),\n",
       "             (117440512, [0.0]),\n",
       "             (117440513, [250.0]),\n",
       "             (117441024, [13000.0]),\n",
       "             (117441025, [100000.0]),\n",
       "             (117441280, [0.04147204]),\n",
       "             (117441281, [0.0005862424]),\n",
       "             (117441282, [0.0]),\n",
       "             (117441792, [1.0]),\n",
       "             (117441793, [0.0]),\n",
       "             (117442048, ['Z']),\n",
       "             (117442560, [0]),\n",
       "             (117442562, [0]),\n",
       "             (117442563, [0]),\n",
       "             (117442816, [2.5]),\n",
       "             (117442817, [0.0]),\n",
       "             (117443072, [-8.0]),\n",
       "             (117443073, [100.0]),\n",
       "             (117443584, [0.0]),\n",
       "             (117443585, [0.0]),\n",
       "             (117444613, [0.04000001]),\n",
       "             (117444614, [0.0]),\n",
       "             (134217984, [135.7419]),\n",
       "             (134217985, [378.6617]),\n",
       "             (134218240, [0.05000007]),\n",
       "             (134218241, [0.05000005]),\n",
       "             (134218496, [1.0]),\n",
       "             (134218497, [1.0]),\n",
       "             (150994944, [0.3468842]),\n",
       "             (150994945, [0.0]),\n",
       "             (268436736, [1]),\n",
       "             (268436738, [0.0]),\n",
       "             (268436739, [250.0]),\n",
       "             (352323584, [1]),\n",
       "             (352328704, [0.0]),\n",
       "             (352328705, [1.0])])"
      ]
     },
     "execution_count": 42,
     "metadata": {},
     "output_type": "execute_result"
    }
   ],
   "source": [
    "pidevice.qSPA()['Z']"
   ]
  },
  {
   "cell_type": "code",
   "execution_count": 51,
   "metadata": {},
   "outputs": [
    {
     "data": {
      "text/plain": [
       "OrderedDict([(1, 24.92767), (2, 24.91161)])"
      ]
     },
     "execution_count": 51,
     "metadata": {},
     "output_type": "execute_result"
    }
   ],
   "source": [
    "pidevice.qTSP()"
   ]
  },
  {
   "cell_type": "code",
   "execution_count": 47,
   "metadata": {},
   "outputs": [],
   "source": [
    "def calculate_voltage(x):\n",
    "    return 10*(x/250)"
   ]
  },
  {
   "cell_type": "code",
   "execution_count": 48,
   "metadata": {},
   "outputs": [
    {
     "data": {
      "text/plain": [
       "2.0"
      ]
     },
     "execution_count": 48,
     "metadata": {},
     "output_type": "execute_result"
    }
   ],
   "source": [
    "calculate_voltage(50)"
   ]
  },
  {
   "cell_type": "code",
   "execution_count": 6,
   "metadata": {},
   "outputs": [
    {
     "name": "stdout",
     "output_type": "stream",
     "text": [
      "Connected: PHYSIK INSTRUMENTE,E-709,120031914,5.001\n"
     ]
    }
   ],
   "source": [
    "print(\"Connected: {}\".format(pidevice.qIDN().strip()))\n"
   ]
  },
  {
   "cell_type": "code",
   "execution_count": 8,
   "metadata": {},
   "outputs": [
    {
     "name": "stdout",
     "output_type": "stream",
     "text": [
      "initialize connected stages...\n"
     ]
    },
    {
     "ename": "GCSError",
     "evalue": "Unknown command (2)",
     "output_type": "error",
     "traceback": [
      "\u001b[1;31m---------------------------------------------------------------------------\u001b[0m",
      "\u001b[1;31mGCSError\u001b[0m                                  Traceback (most recent call last)",
      "\u001b[1;32m<ipython-input-8-56434b577a54>\u001b[0m in \u001b[0;36m<module>\u001b[1;34m()\u001b[0m\n\u001b[0;32m      1\u001b[0m \u001b[0mprint\u001b[0m\u001b[1;33m(\u001b[0m\u001b[1;34m'initialize connected stages...'\u001b[0m\u001b[1;33m)\u001b[0m\u001b[1;33m\u001b[0m\u001b[1;33m\u001b[0m\u001b[0m\n\u001b[1;32m----> 2\u001b[1;33m \u001b[0mpitools\u001b[0m\u001b[1;33m.\u001b[0m\u001b[0mstartup\u001b[0m\u001b[1;33m(\u001b[0m\u001b[0mpidevice\u001b[0m\u001b[1;33m,\u001b[0m \u001b[0mstages\u001b[0m\u001b[1;33m=\u001b[0m\u001b[0mSTAGES\u001b[0m\u001b[1;33m)\u001b[0m\u001b[1;33m\u001b[0m\u001b[1;33m\u001b[0m\u001b[0m\n\u001b[0m",
      "\u001b[1;32mC:\\Users\\MERFISH8\\anaconda3\\envs\\stormcontrol\\lib\\site-packages\\pipython-1.3.5.37-py3.7.egg\\pipython\\pitools.py\u001b[0m in \u001b[0;36mstartup\u001b[1;34m(pidevice, stages, refmode)\u001b[0m\n\u001b[0;32m     69\u001b[0m         \u001b[0mstages\u001b[0m \u001b[1;33m=\u001b[0m \u001b[0mstages\u001b[0m\u001b[1;33m[\u001b[0m\u001b[1;33m:\u001b[0m\u001b[0mlen\u001b[0m\u001b[1;33m(\u001b[0m\u001b[0mallaxes\u001b[0m\u001b[1;33m)\u001b[0m\u001b[1;33m]\u001b[0m\u001b[1;33m\u001b[0m\u001b[1;33m\u001b[0m\u001b[0m\n\u001b[0;32m     70\u001b[0m         \u001b[0mallaxes\u001b[0m \u001b[1;33m=\u001b[0m \u001b[0mallaxes\u001b[0m\u001b[1;33m[\u001b[0m\u001b[1;33m:\u001b[0m\u001b[0mlen\u001b[0m\u001b[1;33m(\u001b[0m\u001b[0mstages\u001b[0m\u001b[1;33m)\u001b[0m\u001b[1;33m]\u001b[0m\u001b[1;33m\u001b[0m\u001b[1;33m\u001b[0m\u001b[0m\n\u001b[1;32m---> 71\u001b[1;33m         \u001b[0mpidevice\u001b[0m\u001b[1;33m.\u001b[0m\u001b[0mCST\u001b[0m\u001b[1;33m(\u001b[0m\u001b[0mallaxes\u001b[0m\u001b[1;33m,\u001b[0m \u001b[0mstages\u001b[0m\u001b[1;33m)\u001b[0m\u001b[1;33m\u001b[0m\u001b[1;33m\u001b[0m\u001b[0m\n\u001b[0m\u001b[0;32m     72\u001b[0m     \u001b[1;32mif\u001b[0m \u001b[0mpidevice\u001b[0m\u001b[1;33m.\u001b[0m\u001b[0mHasINI\u001b[0m\u001b[1;33m(\u001b[0m\u001b[1;33m)\u001b[0m\u001b[1;33m:\u001b[0m\u001b[1;33m\u001b[0m\u001b[1;33m\u001b[0m\u001b[0m\n\u001b[0;32m     73\u001b[0m         \u001b[0mpidevice\u001b[0m\u001b[1;33m.\u001b[0m\u001b[0mINI\u001b[0m\u001b[1;33m(\u001b[0m\u001b[1;33m)\u001b[0m\u001b[1;33m\u001b[0m\u001b[1;33m\u001b[0m\u001b[0m\n",
      "\u001b[1;32mC:\\Users\\MERFISH8\\anaconda3\\envs\\stormcontrol\\lib\\site-packages\\pipython-1.3.5.37-py3.7.egg\\pipython\\gcscommands.py\u001b[0m in \u001b[0;36mCST\u001b[1;34m(self, axes, values)\u001b[0m\n\u001b[0;32m   3063\u001b[0m         \u001b[0maxes\u001b[0m\u001b[1;33m,\u001b[0m \u001b[0mvalues\u001b[0m \u001b[1;33m=\u001b[0m \u001b[0mgetitemsvaluestuple\u001b[0m\u001b[1;33m(\u001b[0m\u001b[0maxes\u001b[0m\u001b[1;33m,\u001b[0m \u001b[0mvalues\u001b[0m\u001b[1;33m)\u001b[0m\u001b[1;33m\u001b[0m\u001b[1;33m\u001b[0m\u001b[0m\n\u001b[0;32m   3064\u001b[0m         \u001b[0mcmdstr\u001b[0m \u001b[1;33m=\u001b[0m \u001b[0mself\u001b[0m\u001b[1;33m.\u001b[0m\u001b[0m__getcmdstr\u001b[0m\u001b[1;33m(\u001b[0m\u001b[1;34m'CST'\u001b[0m\u001b[1;33m,\u001b[0m \u001b[0maxes\u001b[0m\u001b[1;33m,\u001b[0m \u001b[0mvalues\u001b[0m\u001b[1;33m)\u001b[0m\u001b[1;33m\u001b[0m\u001b[1;33m\u001b[0m\u001b[0m\n\u001b[1;32m-> 3065\u001b[1;33m         \u001b[0mself\u001b[0m\u001b[1;33m.\u001b[0m\u001b[0m__msgs\u001b[0m\u001b[1;33m.\u001b[0m\u001b[0msend\u001b[0m\u001b[1;33m(\u001b[0m\u001b[0mcmdstr\u001b[0m\u001b[1;33m)\u001b[0m\u001b[1;33m\u001b[0m\u001b[1;33m\u001b[0m\u001b[0m\n\u001b[0m\u001b[0;32m   3066\u001b[0m         \u001b[1;32mdel\u001b[0m \u001b[0mself\u001b[0m\u001b[1;33m.\u001b[0m\u001b[0maxes\u001b[0m\u001b[1;33m\u001b[0m\u001b[1;33m\u001b[0m\u001b[0m\n\u001b[0;32m   3067\u001b[0m \u001b[1;33m\u001b[0m\u001b[0m\n",
      "\u001b[1;32mC:\\Users\\MERFISH8\\anaconda3\\envs\\stormcontrol\\lib\\site-packages\\pipython-1.3.5.37-py3.7.egg\\pipython\\gcsmessages.py\u001b[0m in \u001b[0;36msend\u001b[1;34m(self, tosend)\u001b[0m\n\u001b[0;32m    127\u001b[0m         \u001b[1;32mwith\u001b[0m \u001b[0mself\u001b[0m\u001b[1;33m.\u001b[0m\u001b[0m__lock\u001b[0m\u001b[1;33m:\u001b[0m\u001b[1;33m\u001b[0m\u001b[1;33m\u001b[0m\u001b[0m\n\u001b[0;32m    128\u001b[0m             \u001b[0mself\u001b[0m\u001b[1;33m.\u001b[0m\u001b[0m__send\u001b[0m\u001b[1;33m(\u001b[0m\u001b[0mtosend\u001b[0m\u001b[1;33m)\u001b[0m\u001b[1;33m\u001b[0m\u001b[1;33m\u001b[0m\u001b[0m\n\u001b[1;32m--> 129\u001b[1;33m             \u001b[0mself\u001b[0m\u001b[1;33m.\u001b[0m\u001b[0m__checkerror\u001b[0m\u001b[1;33m(\u001b[0m\u001b[0msenderr\u001b[0m\u001b[1;33m=\u001b[0m\u001b[1;32mnot\u001b[0m \u001b[0mself\u001b[0m\u001b[1;33m.\u001b[0m\u001b[0m__embederr\u001b[0m\u001b[1;33m)\u001b[0m\u001b[1;33m\u001b[0m\u001b[1;33m\u001b[0m\u001b[0m\n\u001b[0m\u001b[0;32m    130\u001b[0m \u001b[1;33m\u001b[0m\u001b[0m\n\u001b[0;32m    131\u001b[0m     \u001b[1;32mdef\u001b[0m \u001b[0mread\u001b[0m\u001b[1;33m(\u001b[0m\u001b[0mself\u001b[0m\u001b[1;33m,\u001b[0m \u001b[0mtosend\u001b[0m\u001b[1;33m,\u001b[0m \u001b[0mgcsdata\u001b[0m\u001b[1;33m=\u001b[0m\u001b[1;36m0\u001b[0m\u001b[1;33m)\u001b[0m\u001b[1;33m:\u001b[0m\u001b[1;33m\u001b[0m\u001b[1;33m\u001b[0m\u001b[0m\n",
      "\u001b[1;32mC:\\Users\\MERFISH8\\anaconda3\\envs\\stormcontrol\\lib\\site-packages\\pipython-1.3.5.37-py3.7.egg\\pipython\\gcsmessages.py\u001b[0m in \u001b[0;36m__checkerror\u001b[1;34m(self, senderr, doraise)\u001b[0m\n\u001b[0;32m    302\u001b[0m                 \u001b[0mexc\u001b[0m \u001b[1;33m=\u001b[0m \u001b[0mGCSError\u001b[0m\u001b[1;33m(\u001b[0m\u001b[0merr\u001b[0m\u001b[1;33m)\u001b[0m\u001b[1;33m\u001b[0m\u001b[1;33m\u001b[0m\u001b[0m\n\u001b[0;32m    303\u001b[0m         \u001b[1;32mif\u001b[0m \u001b[0mexc\u001b[0m \u001b[1;32mand\u001b[0m \u001b[0mdoraise\u001b[0m\u001b[1;33m:\u001b[0m\u001b[1;33m\u001b[0m\u001b[1;33m\u001b[0m\u001b[0m\n\u001b[1;32m--> 304\u001b[1;33m             \u001b[1;32mraise\u001b[0m \u001b[0mexc\u001b[0m  \u001b[1;31m# Raising NoneType while only classes or instances are allowed pylint: disable=E0702\u001b[0m\u001b[1;33m\u001b[0m\u001b[1;33m\u001b[0m\u001b[0m\n\u001b[0m\u001b[0;32m    305\u001b[0m         \u001b[1;32mreturn\u001b[0m \u001b[0mexc\u001b[0m\u001b[1;33m\u001b[0m\u001b[1;33m\u001b[0m\u001b[0m\n",
      "\u001b[1;31mGCSError\u001b[0m: Unknown command (2)"
     ]
    }
   ],
   "source": [
    "print('initialize connected stages...')\n",
    "pitools.startup(pidevice, stages=STAGES)\n"
   ]
  },
  {
   "cell_type": "code",
   "execution_count": 11,
   "metadata": {},
   "outputs": [],
   "source": [
    "# shutdown\n",
    "pidevice.StopAll(noraise=True)\n",
    "pitools.waitonready(pidevice)  # there are controllers that need some time to halt all axes\n",
    "pidevice.CloseConnection()"
   ]
  },
  {
   "cell_type": "code",
   "execution_count": 55,
   "metadata": {},
   "outputs": [
    {
     "data": {
      "text/plain": [
       "24.92767"
      ]
     },
     "execution_count": 55,
     "metadata": {},
     "output_type": "execute_result"
    }
   ],
   "source": [
    "pidevice.qPOS()['Z']"
   ]
  },
  {
   "cell_type": "code",
   "execution_count": 24,
   "metadata": {},
   "outputs": [],
   "source": [
    "?pidevice.MOV"
   ]
  },
  {
   "cell_type": "code",
   "execution_count": 42,
   "metadata": {},
   "outputs": [],
   "source": [
    "pidevice.MOV('Z',0)"
   ]
  },
  {
   "cell_type": "code",
   "execution_count": null,
   "metadata": {},
   "outputs": [],
   "source": []
  }
 ],
 "metadata": {
  "kernelspec": {
   "display_name": "Python 3",
   "language": "python",
   "name": "python3"
  },
  "language_info": {
   "codemirror_mode": {
    "name": "ipython",
    "version": 3
   },
   "file_extension": ".py",
   "mimetype": "text/x-python",
   "name": "python",
   "nbconvert_exporter": "python",
   "pygments_lexer": "ipython3",
   "version": "3.7.8"
  }
 },
 "nbformat": 4,
 "nbformat_minor": 4
}
