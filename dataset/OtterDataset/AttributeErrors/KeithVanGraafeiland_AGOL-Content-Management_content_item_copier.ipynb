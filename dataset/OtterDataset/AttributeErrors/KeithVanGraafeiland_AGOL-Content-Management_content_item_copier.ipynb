{
 "cells": [
  {
   "cell_type": "code",
   "execution_count": 1,
   "metadata": {},
   "outputs": [],
   "source": [
    "import os\n",
    "\n",
    "import arcpy\n",
    "from AGOL_Credentials import username, password\n",
    "# username = '<username>'\n",
    "# password = '<password>'\n",
    "\n",
    "from arcgis.gis import GIS\n",
    "import json"
   ]
  },
  {
   "cell_type": "code",
   "execution_count": 3,
   "metadata": {},
   "outputs": [],
   "source": [
    "# Connect to the GIS\n",
    "# gis = GIS(\"https://esri.mapsdevext.arcgis.com\", username, password)\n",
    "gis = GIS(\"https://esri.maps.arcgis.com\", username, password)"
   ]
  },
  {
   "cell_type": "code",
   "execution_count": null,
   "metadata": {},
   "outputs": [],
   "source": [
    "source_item = '2c8646fb7ecf472d8e2d98d12171da06'\n",
    "target_item = '812868838e8042198bdc514bd39008c7'"
   ]
  },
  {
   "cell_type": "code",
   "execution_count": 7,
   "metadata": {},
   "outputs": [],
   "source": [
    "# Get the source and target items\n",
    "source = gis.content.get(source_item)\n",
    "target = gis.content.get(target_item)"
   ]
  },
  {
   "cell_type": "code",
   "execution_count": 16,
   "metadata": {},
   "outputs": [
    {
     "name": "stdout",
     "output_type": "stream",
     "text": [
      "Title: Annual Fishing Intensity (2020) (Mature Support), Type: Image Service, ID: 4cad56958b1843ee9b4e25df31270c69, CREDITS: Global Fishing Watch, TERMS: <img src='https://licensebuttons.net/l/by/3.0/88x31.png' /> This work is licensed under a Creative Commons by Attribution 4.0 International (CC BY 4.0) license.  See Credits and Map for Attribution.<br /><div><a href='https://creativecommons.org/licenses/by/4.0/legalcode' target='_blank' rel='nofollow ugc noopener noreferrer'><b>View License Deed</b></a> | <a href='https://creativecommons.org/licenses/by/4.0/legalcode' target='_blank' rel='nofollow ugc noopener noreferrer'><b>View Legal Code</b></a></div>, SNIPPET: The amount of fishing activity per square kilometer for the year 2020., TAGS: ['vessel traffic', 'AIS', 'fishing', 'conservation', 'ocean', 'marine', 'marine spatial planning', 'resource protection', 'esri_environment', 'environment', 'mature support', 'deprecated'], DESCRIPTION: This layer shows the amount of fishing activity recorded by Automatic Identification System (AIS) for the year 2020.<div><br /></div><div>This layer has two variables:</div><div><ol><li><b>Hours</b> - Identification of fishing vessels in the AIS data.<br /></li><li><b>Fishing Hours</b> (displayed by default) - Detection of fishing activity.<br /></li></ol></div>Using cloud computing, machine learning and public vessel registry information, Global Fishing Watch (GFW) analyze tens of millions of AIS positions each day to map global apparent fishing effort. Producing such a map involves two key steps: Identification of fishing vessels in the AIS data (Hours) and Detection of fishing activity (Fishing Hours).\n",
      "\n",
      "This annual summary is produced from the daily GFW AIS-based apparent fishing effort data. The daily fishing activity made available by GFW was rasterized at 100th degree resolution then aggregated to produce an annual summary for the given year.   The maps show areas where likely fishing activity occurred in the year 2020 and the estimated level of fishing intensity.  This information can help understand areas where fishing activity might be considered in a marine spatial planning application.<div><br /></div><div>More information: <a href='https://globalfishingwatch.org/dataset-and-code-fishing-effort/' target='_blank' rel='nofollow ugc noopener noreferrer'>https://globalfishingwatch.org/dataset-and-code-fishing-effort/</a></div><div><br /></div><div><p style='margin:0in; font-family:Aptos, sans-serif;'><span style='font-family:&quot;Avenir Next&quot;, Avenir, &quot;Helvetica Neue&quot;, Helvetica, Arial, sans-serif;'><b><font size='4'>Dataset Summary</font></b></span></p><p style='margin:0in;'><span style='font-family:&quot;Avenir Next&quot;, Avenir, &quot;Helvetica Neue&quot;, Helvetica, Arial, sans-serif;'><b>Variable Mapped:</b> </span>Occupancy (hours) and effort (fishing hours) in hours per sq/km</p><p style='margin:0in;'><span style='font-family:&quot;Avenir Next&quot;, Avenir, &quot;Helvetica Neue&quot;, Helvetica, Arial, sans-serif;'><b>Data Projection:</b> </span>GCS WGS84</p><p style='margin:0in; font-family:Aptos, sans-serif;'><span style='font-family:&quot;Avenir Next&quot;, Avenir, &quot;Helvetica Neue&quot;, Helvetica, Arial, sans-serif;'><b>Service Projection:</b> Web Mercator</span></p><p style='margin:0in; font-family:Aptos, sans-serif;'><span style='font-family:&quot;Avenir Next&quot;, Avenir, &quot;Helvetica Neue&quot;, Helvetica, Arial, sans-serif;'><b>Extent:</b> Global</span></p><p style='margin:0in; font-family:Aptos, sans-serif;'><span style='font-family:&quot;Avenir Next&quot;, Avenir, &quot;Helvetica Neue&quot;, Helvetica, Arial, sans-serif;'><b>Cell Size:</b> (~1km)</span></p><p style='margin:0in; font-family:Aptos, sans-serif;'><span style='font-family:&quot;Avenir Next&quot;, Avenir, &quot;Helvetica Neue&quot;, Helvetica, Arial, sans-serif;'><b>Source Type:</b> Scientific/Double</span></p><p style='margin:0in;'><span style='font-family:&quot;Avenir Next&quot;, Avenir, &quot;Helvetica Neue&quot;, Helvetica, Arial, sans-serif;'><b>Data Source:</b> </span><a href='https://globalfishingwatch.org/data-download/datasets/public-fishing-effort' target='_blank' rel='nofollow ugc noopener noreferrer'>Global Fishing Watch</a></p><p style='margin:0in;'><span style='font-family:&quot;Avenir Next&quot;, Avenir, &quot;Helvetica Neue&quot;, Helvetica, Arial, sans-serif;'><b>Data Accessed Date:</b> </span>September 23, 2023</p><p style='margin:0in;'><span style='font-family:&quot;Avenir Next&quot;, Avenir, &quot;Helvetica Neue&quot;, Helvetica, Arial, sans-serif;'><b>Version:</b> </span>2.0, released 18 March 2021</p><p style='margin:0in;'><br /></p><p style='margin:0in; font-family:Aptos, sans-serif;'><span style='font-family:&quot;Avenir Next&quot;, Avenir, &quot;Helvetica Neue&quot;, Helvetica, Arial, sans-serif;'><b>What can you do with this layer?</b></span></p><p style='margin:0in;'>The layer can be used in analysis and visualization. This layer can be used to summarize the values withing a polygon (using zonal statistics).  Fishing effort can be used to understand the areas impacted by fishing and designate marine protection if needed.</p><p style='margin:0in; font-family:Aptos, sans-serif;'><span style='font-family:&quot;Avenir Next&quot;, Avenir, &quot;Helvetica Neue&quot;, Helvetica, Arial, sans-serif;'><br /></span></p></div>\n",
      "\n",
      "See companion layer: <a href='https://arcg.is/18irTb' target='_blank' rel='nofollow ugc noopener noreferrer'>Monthly Fishing Intensity (Year 2020)</a>\n"
     ]
    }
   ],
   "source": [
    "print(f\"Title: {source.title}, Type: {source.type}, ID: {source.id}, CREDITS: {source.accessInformation}, TERMS: {source.licenseInfo}, SNIPPET: {source.snippet}, TAGS: {source.tags}, DESCRIPTION: {source.description}\")"
   ]
  },
  {
   "cell_type": "code",
   "execution_count": 17,
   "metadata": {},
   "outputs": [
    {
     "name": "stdout",
     "output_type": "stream",
     "text": [
      "Title: global fishing watch annual fleet sum fishhours year 2020, Type: Image Service, ID: f3c388a8cc9b49f0bfcc1dbfe2dc19b2\n"
     ]
    },
    {
     "ename": "AttributeError",
     "evalue": "'Item' object has no attribute 'item_properties'",
     "output_type": "error",
     "traceback": [
      "\u001b[1;31m---------------------------------------------------------------------------\u001b[0m",
      "\u001b[1;31mKeyError\u001b[0m                                  Traceback (most recent call last)",
      "\u001b[1;32mc:\\Users\\keit8223\\AppData\\Local\\ESRI\\conda\\envs\\arcgispro-py3-clone\\Lib\\site-packages\\arcgis\\gis\\__init__.py\u001b[0m in \u001b[0;36m__getattr__\u001b[1;34m(self, name)\u001b[0m\n\u001b[0;32m  13554\u001b[0m         \u001b[1;32mtry\u001b[0m\u001b[1;33m:\u001b[0m\u001b[1;33m\u001b[0m\u001b[1;33m\u001b[0m\u001b[0m\n\u001b[1;32m> 13555\u001b[1;33m             \u001b[1;32mreturn\u001b[0m \u001b[0mdict\u001b[0m\u001b[1;33m.\u001b[0m\u001b[0m__getitem__\u001b[0m\u001b[1;33m(\u001b[0m\u001b[0mself\u001b[0m\u001b[1;33m,\u001b[0m \u001b[0mname\u001b[0m\u001b[1;33m)\u001b[0m\u001b[1;33m\u001b[0m\u001b[1;33m\u001b[0m\u001b[0m\n\u001b[0m\u001b[0;32m  13556\u001b[0m         \u001b[1;32mexcept\u001b[0m\u001b[1;33m:\u001b[0m\u001b[1;33m\u001b[0m\u001b[1;33m\u001b[0m\u001b[0m\n",
      "\u001b[1;31mKeyError\u001b[0m: 'item_properties'",
      "\nDuring handling of the above exception, another exception occurred:\n",
      "\u001b[1;31mAttributeError\u001b[0m                            Traceback (most recent call last)",
      "\u001b[1;32mD:\\Temp\\1\\ipykernel_47800\\1340049816.py\u001b[0m in \u001b[0;36m<cell line: 0>\u001b[1;34m()\u001b[0m\n\u001b[0;32m      1\u001b[0m \u001b[0mprint\u001b[0m\u001b[1;33m(\u001b[0m\u001b[1;34mf\"Title: {target.title}, Type: {target.type}, ID: {target.id}\"\u001b[0m\u001b[1;33m)\u001b[0m\u001b[1;33m\u001b[0m\u001b[1;33m\u001b[0m\u001b[0m\n\u001b[0;32m      2\u001b[0m \u001b[0mtarget\u001b[0m\u001b[1;33m\u001b[0m\u001b[1;33m\u001b[0m\u001b[0m\n\u001b[1;32m----> 3\u001b[1;33m \u001b[0mtarget\u001b[0m\u001b[1;33m.\u001b[0m\u001b[0mitem_properties\u001b[0m\u001b[1;33m\u001b[0m\u001b[1;33m\u001b[0m\u001b[0m\n\u001b[0m",
      "\u001b[1;32mc:\\Users\\keit8223\\AppData\\Local\\ESRI\\conda\\envs\\arcgispro-py3-clone\\Lib\\site-packages\\arcgis\\gis\\__init__.py\u001b[0m in \u001b[0;36m__getattr__\u001b[1;34m(self, name)\u001b[0m\n\u001b[0;32m  13555\u001b[0m             \u001b[1;32mreturn\u001b[0m \u001b[0mdict\u001b[0m\u001b[1;33m.\u001b[0m\u001b[0m__getitem__\u001b[0m\u001b[1;33m(\u001b[0m\u001b[0mself\u001b[0m\u001b[1;33m,\u001b[0m \u001b[0mname\u001b[0m\u001b[1;33m)\u001b[0m\u001b[1;33m\u001b[0m\u001b[1;33m\u001b[0m\u001b[0m\n\u001b[0;32m  13556\u001b[0m         \u001b[1;32mexcept\u001b[0m\u001b[1;33m:\u001b[0m\u001b[1;33m\u001b[0m\u001b[1;33m\u001b[0m\u001b[0m\n\u001b[1;32m> 13557\u001b[1;33m             raise AttributeError(\n\u001b[0m\u001b[0;32m  13558\u001b[0m                 \u001b[1;34m\"'%s' object has no attribute '%s'\"\u001b[0m \u001b[1;33m%\u001b[0m \u001b[1;33m(\u001b[0m\u001b[0mtype\u001b[0m\u001b[1;33m(\u001b[0m\u001b[0mself\u001b[0m\u001b[1;33m)\u001b[0m\u001b[1;33m.\u001b[0m\u001b[0m__name__\u001b[0m\u001b[1;33m,\u001b[0m \u001b[0mname\u001b[0m\u001b[1;33m)\u001b[0m\u001b[1;33m\u001b[0m\u001b[1;33m\u001b[0m\u001b[0m\n\u001b[0;32m  13559\u001b[0m             )\n",
      "\u001b[1;31mAttributeError\u001b[0m: 'Item' object has no attribute 'item_properties'"
     ]
    }
   ],
   "source": [
    "print(f\"Title: {target.title}, Type: {target.type}, ID: {target.id}\")\n",
    "target\n",
    "target.item_properties"
   ]
  },
  {
   "cell_type": "code",
   "execution_count": null,
   "metadata": {},
   "outputs": [],
   "source": [
    "\n",
    "# Update the target item properties with the source item properties\n",
    "target.update(item_properties=source.item_properties)"
   ]
  }
 ],
 "metadata": {
  "kernelspec": {
   "display_name": "Python 3",
   "language": "python",
   "name": "python3"
  },
  "language_info": {
   "codemirror_mode": {
    "name": "ipython",
    "version": 3
   },
   "file_extension": ".py",
   "mimetype": "text/x-python",
   "name": "python",
   "nbconvert_exporter": "python",
   "pygments_lexer": "ipython3",
   "version": "3.11.8"
  }
 },
 "nbformat": 4,
 "nbformat_minor": 2
}
