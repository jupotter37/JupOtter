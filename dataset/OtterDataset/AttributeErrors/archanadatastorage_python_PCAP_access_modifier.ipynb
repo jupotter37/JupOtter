{
  "metadata": {
    "kernelspec": {
      "name": "python",
      "display_name": "Python (Pyodide)",
      "language": "python"
    },
    "language_info": {
      "codemirror_mode": {
        "name": "python",
        "version": 3
      },
      "file_extension": ".py",
      "mimetype": "text/x-python",
      "name": "python",
      "nbconvert_exporter": "python",
      "pygments_lexer": "ipython3",
      "version": "3.8"
    }
  },
  "nbformat_minor": 4,
  "nbformat": 4,
  "cells": [
    {
      "cell_type": "code",
      "source": "class sample:\n    def __init__(self,pub,pri,pro):\n        self.pub=pub\n        self._pro = pro\n        self.__pri =pri\n    def __show(self):\n        print(\"Public \",self.pub)\n        print(\"Private :\",self.__pri)\n        print(\"Protected :\",self._pro)",
      "metadata": {
        "trusted": true
      },
      "outputs": [],
      "execution_count": 1
    },
    {
      "cell_type": "code",
      "source": "s1 = sample(1,2,3)",
      "metadata": {
        "trusted": true
      },
      "outputs": [],
      "execution_count": 2
    },
    {
      "cell_type": "code",
      "source": "s1.show()",
      "metadata": {
        "trusted": true
      },
      "outputs": [
        {
          "ename": "<class 'AttributeError'>",
          "evalue": "'sample' object has no attribute 'show'",
          "traceback": [
            "\u001b[0;31m---------------------------------------------------------------------------\u001b[0m",
            "\u001b[0;31mAttributeError\u001b[0m                            Traceback (most recent call last)",
            "Cell \u001b[0;32mIn[3], line 1\u001b[0m\n\u001b[0;32m----> 1\u001b[0m \u001b[43ms1\u001b[49m\u001b[38;5;241;43m.\u001b[39;49m\u001b[43mshow\u001b[49m()\n",
            "\u001b[0;31mAttributeError\u001b[0m: 'sample' object has no attribute 'show'"
          ],
          "output_type": "error"
        }
      ],
      "execution_count": 3
    },
    {
      "cell_type": "code",
      "source": "s1.pub",
      "metadata": {
        "trusted": true
      },
      "outputs": [
        {
          "execution_count": 4,
          "output_type": "execute_result",
          "data": {
            "text/plain": "1"
          },
          "metadata": {}
        }
      ],
      "execution_count": 4
    },
    {
      "cell_type": "code",
      "source": "s1.__pri",
      "metadata": {
        "trusted": true
      },
      "outputs": [
        {
          "ename": "<class 'AttributeError'>",
          "evalue": "'sample' object has no attribute '__pri'",
          "traceback": [
            "\u001b[0;31m---------------------------------------------------------------------------\u001b[0m",
            "\u001b[0;31mAttributeError\u001b[0m                            Traceback (most recent call last)",
            "Cell \u001b[0;32mIn[5], line 1\u001b[0m\n\u001b[0;32m----> 1\u001b[0m \u001b[43ms1\u001b[49m\u001b[38;5;241;43m.\u001b[39;49m\u001b[43m__pri\u001b[49m\n",
            "\u001b[0;31mAttributeError\u001b[0m: 'sample' object has no attribute '__pri'"
          ],
          "output_type": "error"
        }
      ],
      "execution_count": 5
    },
    {
      "cell_type": "code",
      "source": "s1._pro",
      "metadata": {
        "trusted": true
      },
      "outputs": [
        {
          "execution_count": 6,
          "output_type": "execute_result",
          "data": {
            "text/plain": "3"
          },
          "metadata": {}
        }
      ],
      "execution_count": 6
    },
    {
      "cell_type": "code",
      "source": "class Employee:\n    raise_amt=1.04\n    counter=0\n    def __init__(self,first,lastname,pay):\n        self.first= first\n        self.last=lastname\n        self.email = self.first +\".\"+self.last +\"@gmail.com\"\n        self.pay=pay\n        Employee.counter +=1\n\n    def fullname(self):\n        return '{} {}'.format(self.first,self.last)\n    def apply_raise(self):\n        self.pay = self.pay * Employee.raise_amt\n\n    @classmethod\n    def change_raise_amt(cls,amount):\n        cls.raise_amt= amount\n        ",
      "metadata": {
        "trusted": true
      },
      "outputs": [],
      "execution_count": 7
    },
    {
      "cell_type": "code",
      "source": "emp1 = Employee('Ram','Kumar',4567)",
      "metadata": {
        "trusted": true
      },
      "outputs": [],
      "execution_count": 8
    },
    {
      "cell_type": "code",
      "source": "Employee.counter",
      "metadata": {
        "trusted": true
      },
      "outputs": [
        {
          "execution_count": 9,
          "output_type": "execute_result",
          "data": {
            "text/plain": "1"
          },
          "metadata": {}
        }
      ],
      "execution_count": 9
    },
    {
      "cell_type": "code",
      "source": "Employee.change_raise_amt(1.13)",
      "metadata": {
        "trusted": true
      },
      "outputs": [],
      "execution_count": 10
    },
    {
      "cell_type": "code",
      "source": "Employee.raise_amt",
      "metadata": {
        "trusted": true
      },
      "outputs": [
        {
          "execution_count": 11,
          "output_type": "execute_result",
          "data": {
            "text/plain": "1.13"
          },
          "metadata": {}
        }
      ],
      "execution_count": 11
    },
    {
      "cell_type": "code",
      "source": "class Employee:\n    raise_amt=1.04\n    counter=0\n    def __init__(self,first,lastname,pay):\n        self.first= first\n        self.last=lastname\n        self.email = self.first +\".\"+self.last +\"@gmail.com\"\n        self.pay=pay\n        Employee.counter +=1\n\n    def fullname(self):\n        return '{} {}'.format(self.first,self.last)\n    def apply_raise(self):\n        self.pay = self.pay * Employee.raise_amt\n\n    @classmethod\n    def change_raise_amt(cls,amount):\n        cls.raise_amt= amount\n\n    @staticmethod\n    def is_weekday(day):\n        if (day >=5 and day >0):\n            return(\"weekday\")\n        else :\n            return (\"Workingday\")",
      "metadata": {
        "trusted": true
      },
      "outputs": [],
      "execution_count": 12
    },
    {
      "cell_type": "code",
      "source": "emp1 = Employee('Ram','Kumar',4567)",
      "metadata": {
        "trusted": true
      },
      "outputs": [],
      "execution_count": 13
    },
    {
      "cell_type": "code",
      "source": "emp1.is_weekday(2)",
      "metadata": {
        "trusted": true
      },
      "outputs": [
        {
          "execution_count": 14,
          "output_type": "execute_result",
          "data": {
            "text/plain": "'Workingday'"
          },
          "metadata": {}
        }
      ],
      "execution_count": 14
    },
    {
      "cell_type": "code",
      "source": "Employee.__dict__",
      "metadata": {
        "trusted": true
      },
      "outputs": [
        {
          "execution_count": 15,
          "output_type": "execute_result",
          "data": {
            "text/plain": "mappingproxy({'__module__': '__main__',\n              'raise_amt': 1.04,\n              'counter': 1,\n              '__init__': <function __main__.Employee.__init__(self, first, lastname, pay)>,\n              'fullname': <function __main__.Employee.fullname(self)>,\n              'apply_raise': <function __main__.Employee.apply_raise(self)>,\n              'change_raise_amt': <classmethod(<function Employee.change_raise_amt at 0x29df570>)>,\n              'is_weekday': <staticmethod(<function Employee.is_weekday at 0x29d72f8>)>,\n              '__dict__': <attribute '__dict__' of 'Employee' objects>,\n              '__weakref__': <attribute '__weakref__' of 'Employee' objects>,\n              '__doc__': None})"
          },
          "metadata": {}
        }
      ],
      "execution_count": 15
    },
    {
      "cell_type": "code",
      "source": "help(Employee)",
      "metadata": {
        "trusted": true
      },
      "outputs": [
        {
          "name": "stdout",
          "text": "Help on class Employee in module __main__:\n\nclass Employee(builtins.object)\n |  Employee(first, lastname, pay)\n |\n |  Methods defined here:\n |\n |  __init__(self, first, lastname, pay)\n |      Initialize self.  See help(type(self)) for accurate signature.\n |\n |  apply_raise(self)\n |\n |  fullname(self)\n |\n |  ----------------------------------------------------------------------\n |  Class methods defined here:\n |\n |  change_raise_amt(amount) from builtins.type\n |\n |  ----------------------------------------------------------------------\n |  Static methods defined here:\n |\n |  is_weekday(day)\n |\n |  ----------------------------------------------------------------------\n |  Data descriptors defined here:\n |\n |  __dict__\n |      dictionary for instance variables\n |\n |  __weakref__\n |      list of weak references to the object\n |\n |  ----------------------------------------------------------------------\n |  Data and other attributes defined here:\n |\n |  counter = 1\n |\n |  raise_amt = 1.04\n\n",
          "output_type": "stream"
        }
      ],
      "execution_count": 16
    },
    {
      "cell_type": "code",
      "source": "class Developer(Employee):\n    pass",
      "metadata": {
        "trusted": true
      },
      "outputs": [],
      "execution_count": 17
    },
    {
      "cell_type": "code",
      "source": "dev1 = Developer('Ram','Kumar',4567)",
      "metadata": {
        "trusted": true
      },
      "outputs": [],
      "execution_count": 18
    },
    {
      "cell_type": "code",
      "source": "help(Developer)",
      "metadata": {
        "trusted": true
      },
      "outputs": [
        {
          "name": "stdout",
          "text": "Help on class Developer in module __main__:\n\nclass Developer(Employee)\n |  Developer(first, lastname, pay)\n |\n |  Method resolution order:\n |      Developer\n |      Employee\n |      builtins.object\n |\n |  Methods inherited from Employee:\n |\n |  __init__(self, first, lastname, pay)\n |      Initialize self.  See help(type(self)) for accurate signature.\n |\n |  apply_raise(self)\n |\n |  fullname(self)\n |\n |  ----------------------------------------------------------------------\n |  Class methods inherited from Employee:\n |\n |  change_raise_amt(amount) from builtins.type\n |\n |  ----------------------------------------------------------------------\n |  Static methods inherited from Employee:\n |\n |  is_weekday(day)\n |\n |  ----------------------------------------------------------------------\n |  Data descriptors inherited from Employee:\n |\n |  __dict__\n |      dictionary for instance variables\n |\n |  __weakref__\n |      list of weak references to the object\n |\n |  ----------------------------------------------------------------------\n |  Data and other attributes inherited from Employee:\n |\n |  counter = 2\n |\n |  raise_amt = 1.04\n\n",
          "output_type": "stream"
        }
      ],
      "execution_count": 19
    },
    {
      "cell_type": "code",
      "source": "dev1.__dict__",
      "metadata": {
        "trusted": true
      },
      "outputs": [
        {
          "execution_count": 20,
          "output_type": "execute_result",
          "data": {
            "text/plain": "{'first': 'Ram', 'last': 'Kumar', 'email': 'Ram.Kumar@gmail.com', 'pay': 4567}"
          },
          "metadata": {}
        }
      ],
      "execution_count": 20
    },
    {
      "cell_type": "code",
      "source": "dev1.pay",
      "metadata": {
        "trusted": true
      },
      "outputs": [
        {
          "execution_count": 21,
          "output_type": "execute_result",
          "data": {
            "text/plain": "4567"
          },
          "metadata": {}
        }
      ],
      "execution_count": 21
    },
    {
      "cell_type": "code",
      "source": "dev1.apply_raise()",
      "metadata": {
        "trusted": true
      },
      "outputs": [],
      "execution_count": 22
    },
    {
      "cell_type": "code",
      "source": "dev1.pay",
      "metadata": {
        "trusted": true
      },
      "outputs": [
        {
          "execution_count": 23,
          "output_type": "execute_result",
          "data": {
            "text/plain": "4749.68"
          },
          "metadata": {}
        }
      ],
      "execution_count": 23
    },
    {
      "cell_type": "code",
      "source": "class Developer(Employee):\n    def __init__(self,first,lastname,pay,prog_lang):\n        Employee.__init__(self,first,lastname,pay)\n        self.prog_lang = prog_lang\n        ",
      "metadata": {
        "trusted": true
      },
      "outputs": [],
      "execution_count": 24
    },
    {
      "cell_type": "code",
      "source": "dev1 = Developer('Ram','Kumar',4567,'python')",
      "metadata": {
        "trusted": true
      },
      "outputs": [],
      "execution_count": 25
    },
    {
      "cell_type": "code",
      "source": "dev1.first",
      "metadata": {
        "trusted": true
      },
      "outputs": [
        {
          "execution_count": 26,
          "output_type": "execute_result",
          "data": {
            "text/plain": "'Ram'"
          },
          "metadata": {}
        }
      ],
      "execution_count": 26
    },
    {
      "cell_type": "code",
      "source": "dev1.prog_lang",
      "metadata": {
        "trusted": true
      },
      "outputs": [
        {
          "execution_count": 27,
          "output_type": "execute_result",
          "data": {
            "text/plain": "'python'"
          },
          "metadata": {}
        }
      ],
      "execution_count": 27
    },
    {
      "cell_type": "code",
      "source": "class Developer(Employee):\n    def __init__(self,first,lastname,pay,prog_lang):\n        super().__init__(first,lastname,pay)\n        self.prog_lang = prog_lang",
      "metadata": {
        "trusted": true
      },
      "outputs": [],
      "execution_count": 28
    },
    {
      "cell_type": "code",
      "source": "dev2 = Developer('Ram','Kumar',4567,'Java')",
      "metadata": {
        "trusted": true
      },
      "outputs": [],
      "execution_count": 29
    },
    {
      "cell_type": "code",
      "source": "dev2.prog_lang",
      "metadata": {
        "trusted": true
      },
      "outputs": [
        {
          "execution_count": 30,
          "output_type": "execute_result",
          "data": {
            "text/plain": "'Java'"
          },
          "metadata": {}
        }
      ],
      "execution_count": 30
    },
    {
      "cell_type": "code",
      "source": "dev2.pay",
      "metadata": {
        "trusted": true
      },
      "outputs": [
        {
          "execution_count": 31,
          "output_type": "execute_result",
          "data": {
            "text/plain": "4567"
          },
          "metadata": {}
        }
      ],
      "execution_count": 31
    },
    {
      "cell_type": "code",
      "source": "dev1 = Developer('John','Smith',3000,'python')",
      "metadata": {
        "trusted": true
      },
      "outputs": [],
      "execution_count": 32
    },
    {
      "cell_type": "code",
      "source": "Employee.counter",
      "metadata": {
        "trusted": true
      },
      "outputs": [
        {
          "execution_count": 33,
          "output_type": "execute_result",
          "data": {
            "text/plain": "5"
          },
          "metadata": {}
        }
      ],
      "execution_count": 33
    },
    {
      "cell_type": "code",
      "source": "class Manager(Employee):\n    pass",
      "metadata": {
        "trusted": true
      },
      "outputs": [],
      "execution_count": 34
    },
    {
      "cell_type": "code",
      "source": "mgr1 = Manager ('Rubi','Smith',3000)",
      "metadata": {
        "trusted": true
      },
      "outputs": [],
      "execution_count": 35
    },
    {
      "cell_type": "code",
      "source": "help(Manager)",
      "metadata": {
        "trusted": true
      },
      "outputs": [
        {
          "name": "stdout",
          "text": "Help on class Manager in module __main__:\n\nclass Manager(Employee)\n |  Manager(first, lastname, pay)\n |\n |  Method resolution order:\n |      Manager\n |      Employee\n |      builtins.object\n |\n |  Methods inherited from Employee:\n |\n |  __init__(self, first, lastname, pay)\n |      Initialize self.  See help(type(self)) for accurate signature.\n |\n |  apply_raise(self)\n |\n |  fullname(self)\n |\n |  ----------------------------------------------------------------------\n |  Class methods inherited from Employee:\n |\n |  change_raise_amt(amount) from builtins.type\n |\n |  ----------------------------------------------------------------------\n |  Static methods inherited from Employee:\n |\n |  is_weekday(day)\n |\n |  ----------------------------------------------------------------------\n |  Data descriptors inherited from Employee:\n |\n |  __dict__\n |      dictionary for instance variables\n |\n |  __weakref__\n |      list of weak references to the object\n |\n |  ----------------------------------------------------------------------\n |  Data and other attributes inherited from Employee:\n |\n |  counter = 6\n |\n |  raise_amt = 1.04\n\n",
          "output_type": "stream"
        }
      ],
      "execution_count": 36
    },
    {
      "cell_type": "code",
      "source": "class Manager(Employee):\n    def __init__(self ,first,last,pay,employees=None):\n        super().__init__(first,last,pay)\n        if employees is None:\n            self.employees=[]\n        else:\n            self.employees = emp\n    def add_emp(self,emp):\n        if emp not in self.employees:\n            self.employees.append(emp)\n    def remove_emp(self,emp):\n        if emp in self.employees:\n            self.employees.remove(emp)\n    def print_emp(self):\n        print(\"-- \",self.fullname())\n        \n",
      "metadata": {
        "trusted": true
      },
      "outputs": [],
      "execution_count": 37
    },
    {
      "cell_type": "code",
      "source": "mgr2 = Manager(\"Sia\",\"VArma\",5678)",
      "metadata": {
        "trusted": true
      },
      "outputs": [],
      "execution_count": 38
    },
    {
      "cell_type": "code",
      "source": "mgr2.add_emp(dev1)",
      "metadata": {
        "trusted": true
      },
      "outputs": [],
      "execution_count": 39
    },
    {
      "cell_type": "code",
      "source": "mgr2.add_emp(dev2)",
      "metadata": {
        "trusted": true
      },
      "outputs": [],
      "execution_count": 40
    },
    {
      "cell_type": "code",
      "source": "mgr2.print_emp()",
      "metadata": {
        "trusted": true
      },
      "outputs": [
        {
          "name": "stdout",
          "text": "--  Sia VArma\n",
          "output_type": "stream"
        }
      ],
      "execution_count": 41
    },
    {
      "cell_type": "code",
      "source": "mgr2.remove_emp(dev1)",
      "metadata": {
        "trusted": true
      },
      "outputs": [],
      "execution_count": 42
    },
    {
      "cell_type": "code",
      "source": "isinstance(mgr2,Manager)",
      "metadata": {
        "trusted": true
      },
      "outputs": [
        {
          "execution_count": 43,
          "output_type": "execute_result",
          "data": {
            "text/plain": "True"
          },
          "metadata": {}
        }
      ],
      "execution_count": 43
    },
    {
      "cell_type": "code",
      "source": "isinstance(mgr2,Employee)",
      "metadata": {
        "trusted": true
      },
      "outputs": [
        {
          "execution_count": 44,
          "output_type": "execute_result",
          "data": {
            "text/plain": "True"
          },
          "metadata": {}
        }
      ],
      "execution_count": 44
    },
    {
      "cell_type": "code",
      "source": "isinstance(mgr2,Developer)",
      "metadata": {
        "trusted": true
      },
      "outputs": [
        {
          "execution_count": 45,
          "output_type": "execute_result",
          "data": {
            "text/plain": "False"
          },
          "metadata": {}
        }
      ],
      "execution_count": 45
    },
    {
      "cell_type": "code",
      "source": "issubclass(Developer,Employee)",
      "metadata": {
        "trusted": true
      },
      "outputs": [
        {
          "execution_count": 46,
          "output_type": "execute_result",
          "data": {
            "text/plain": "True"
          },
          "metadata": {}
        }
      ],
      "execution_count": 46
    },
    {
      "cell_type": "code",
      "source": "issubclass(Manager,Employee)",
      "metadata": {
        "trusted": true
      },
      "outputs": [
        {
          "execution_count": 47,
          "output_type": "execute_result",
          "data": {
            "text/plain": "True"
          },
          "metadata": {}
        }
      ],
      "execution_count": 47
    },
    {
      "cell_type": "code",
      "source": "issubclass(Developer,Manager)",
      "metadata": {
        "trusted": true
      },
      "outputs": [
        {
          "execution_count": 48,
          "output_type": "execute_result",
          "data": {
            "text/plain": "False"
          },
          "metadata": {}
        }
      ],
      "execution_count": 48
    },
    {
      "cell_type": "code",
      "source": "issubclass(Developer,object)",
      "metadata": {
        "trusted": true
      },
      "outputs": [
        {
          "execution_count": 50,
          "output_type": "execute_result",
          "data": {
            "text/plain": "True"
          },
          "metadata": {}
        }
      ],
      "execution_count": 50
    },
    {
      "cell_type": "code",
      "source": "issubclass(Employee,object)",
      "metadata": {
        "trusted": true
      },
      "outputs": [
        {
          "execution_count": 51,
          "output_type": "execute_result",
          "data": {
            "text/plain": "True"
          },
          "metadata": {}
        }
      ],
      "execution_count": 51
    },
    {
      "cell_type": "code",
      "source": "isinstance(mgr2,object)",
      "metadata": {
        "trusted": true
      },
      "outputs": [
        {
          "execution_count": 52,
          "output_type": "execute_result",
          "data": {
            "text/plain": "True"
          },
          "metadata": {}
        }
      ],
      "execution_count": 52
    },
    {
      "cell_type": "code",
      "source": "isinstance(emp1,object)",
      "metadata": {
        "trusted": true
      },
      "outputs": [
        {
          "execution_count": 54,
          "output_type": "execute_result",
          "data": {
            "text/plain": "True"
          },
          "metadata": {}
        }
      ],
      "execution_count": 54
    },
    {
      "cell_type": "code",
      "source": "help(object)",
      "metadata": {
        "trusted": true
      },
      "outputs": [
        {
          "name": "stdout",
          "text": "Help on class object in module builtins:\n\nclass object\n |  The base class of the class hierarchy.\n |\n |  When called, it accepts no arguments and returns a new featureless\n |  instance that has no instance attributes and cannot be given any.\n |\n |  Built-in subclasses:\n |      anext_awaitable\n |      async_generator\n |      async_generator_asend\n |      async_generator_athrow\n |      ... and 95 other subclasses\n |\n |  Methods defined here:\n |\n |  __delattr__(self, name, /)\n |      Implement delattr(self, name).\n |\n |  __dir__(self, /)\n |      Default dir() implementation.\n |\n |  __eq__(self, value, /)\n |      Return self==value.\n |\n |  __format__(self, format_spec, /)\n |      Default object formatter.\n |\n |      Return str(self) if format_spec is empty. Raise TypeError otherwise.\n |\n |  __ge__(self, value, /)\n |      Return self>=value.\n |\n |  __getattribute__(self, name, /)\n |      Return getattr(self, name).\n |\n |  __getstate__(self, /)\n |      Helper for pickle.\n |\n |  __gt__(self, value, /)\n |      Return self>value.\n |\n |  __hash__(self, /)\n |      Return hash(self).\n |\n |  __init__(self, /, *args, **kwargs)\n |      Initialize self.  See help(type(self)) for accurate signature.\n |\n |  __le__(self, value, /)\n |      Return self<=value.\n |\n |  __lt__(self, value, /)\n |      Return self<value.\n |\n |  __ne__(self, value, /)\n |      Return self!=value.\n |\n |  __reduce__(self, /)\n |      Helper for pickle.\n |\n |  __reduce_ex__(self, protocol, /)\n |      Helper for pickle.\n |\n |  __repr__(self, /)\n |      Return repr(self).\n |\n |  __setattr__(self, name, value, /)\n |      Implement setattr(self, name, value).\n |\n |  __sizeof__(self, /)\n |      Size of object in memory, in bytes.\n |\n |  __str__(self, /)\n |      Return str(self).\n |\n |  ----------------------------------------------------------------------\n |  Class methods defined here:\n |\n |  __init_subclass__(...) from builtins.type\n |      This method is called when a class is subclassed.\n |\n |      The default implementation does nothing. It may be\n |      overridden to extend subclasses.\n |\n |  __subclasshook__(...) from builtins.type\n |      Abstract classes can override this to customize issubclass().\n |\n |      This is invoked early on by abc.ABCMeta.__subclasscheck__().\n |      It should return True, False or NotImplemented.  If it returns\n |      NotImplemented, the normal algorithm is used.  Otherwise, it\n |      overrides the normal algorithm (and the outcome is cached).\n |\n |  ----------------------------------------------------------------------\n |  Static methods defined here:\n |\n |  __new__(*args, **kwargs) from builtins.type\n |      Create and return a new object.  See help(type) for accurate signature.\n |\n |  ----------------------------------------------------------------------\n |  Data and other attributes defined here:\n |\n |  __class__ = <class 'type'>\n |      type(object) -> the object's type\n |      type(name, bases, dict, **kwds) -> a new type\n\n",
          "output_type": "stream"
        }
      ],
      "execution_count": 55
    },
    {
      "cell_type": "code",
      "source": "",
      "metadata": {
        "trusted": true
      },
      "outputs": [],
      "execution_count": null
    }
  ]
}