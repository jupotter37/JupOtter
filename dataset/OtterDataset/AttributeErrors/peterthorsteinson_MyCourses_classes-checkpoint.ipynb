{
 "cells": [
  {
   "cell_type": "code",
   "execution_count": 1,
   "metadata": {},
   "outputs": [
    {
     "name": "stdout",
     "output_type": "stream",
     "text": [
      "---Class MyClass---\n",
      "A simple example class\n",
      "MyClass.i ->  12345\n",
      "MyClass.f ->  <function MyClass.f at 0x000001AE8B6B5288>\n"
     ]
    }
   ],
   "source": [
    "print('---Class MyClass---')\n",
    "class MyClass:\n",
    "    \"\"\"A simple example class\"\"\"\n",
    "    i = 12345\n",
    "    def f(self):\n",
    "        return 'hello world'\n",
    "print(MyClass.__doc__)\n",
    "print(\"MyClass.i -> \", MyClass.i)\n",
    "print(\"MyClass.f -> \", MyClass.f)"
   ]
  },
  {
   "cell_type": "code",
   "execution_count": 2,
   "metadata": {},
   "outputs": [
    {
     "name": "stdout",
     "output_type": "stream",
     "text": [
      "---Class Complex---\n",
      "re: 3.0 im: -4.5\n"
     ]
    }
   ],
   "source": [
    "print('---Class Complex---')\n",
    "class Complex:\n",
    "    def __init__(self, realpart, imagpart):\n",
    "        self.r = realpart\n",
    "        self.i = imagpart\n",
    "x = Complex(3.0, -4.5)\n",
    "print(\"re:\", x.r, \"im:\", x.i) # re: 3.0 im: -4.5"
   ]
  },
  {
   "cell_type": "code",
   "execution_count": 3,
   "metadata": {},
   "outputs": [
    {
     "name": "stdout",
     "output_type": "stream",
     "text": [
      "---Class Dog---\n",
      "Fido\n",
      "canine\n",
      "['roll over']\n",
      "Buddy\n",
      "canine\n",
      "['play dead', 'shake paw']\n"
     ]
    }
   ],
   "source": [
    "print('---Class Dog---')\n",
    "class Dog:\n",
    "    kind = 'canine'         # class variable shared by all instances\n",
    "    def __init__(self, name):\n",
    "        self.name = name    # instance variable unique to each instance\n",
    "        self.tricks = []    # creates a new empty list for each dog\n",
    "    def add_trick(self, trick):\n",
    "        self.tricks.append(trick)\n",
    "fido = Dog('Fido')\n",
    "print(fido.name)\n",
    "print(fido.kind)\n",
    "fido.add_trick('roll over')\n",
    "print(fido.tricks)\n",
    "buddy = Dog('Buddy')\n",
    "print(buddy.name)\n",
    "print(buddy.kind)\n",
    "buddy.add_trick('play dead')\n",
    "buddy.add_trick('shake paw')\n",
    "print(buddy.tricks)"
   ]
  },
  {
   "cell_type": "code",
   "execution_count": 4,
   "metadata": {},
   "outputs": [
    {
     "name": "stdout",
     "output_type": "stream",
     "text": [
      "---Class Inheritance---\n",
      "John Doe\n",
      "John Doe\n",
      "Welcome John Doe to the class of 2019\n"
     ]
    }
   ],
   "source": [
    "print('---Class Inheritance---')\n",
    "class Person:\n",
    "  def __init__(self, fname, lname):\n",
    "    self.firstname = fname\n",
    "    self.lastname = lname\n",
    "  def printname(self):\n",
    "    print(self.firstname, self.lastname)\n",
    "person = Person(\"John\", \"Doe\")\n",
    "person.printname() \n",
    "class Student(Person):\n",
    "  def __init__(self, fname, lname, year):\n",
    "    Person.__init__(self, fname, lname)\n",
    "    self.graduationyear = year\n",
    "  def welcome(self):\n",
    "    print(\"Welcome\",\n",
    "    self.firstname, self.lastname,\n",
    "    \"to the class of\", self.graduationyear)\n",
    "student = Student(\"John\", \"Doe\", 2019)\n",
    "student.printname()\n",
    "student.welcome()"
   ]
  },
  {
   "cell_type": "code",
   "execution_count": 10,
   "metadata": {},
   "outputs": [
    {
     "name": "stdout",
     "output_type": "stream",
     "text": [
      "---Abstract Base Classes (ABCs)---\n",
      "<class 'TypeError'>\n"
     ]
    }
   ],
   "source": [
    "print('---Abstract Base Classes (ABCs)---')\n",
    "# Abstract Base Classes (ABCs) ensure that derived classes implement\n",
    "# particular methods from the base class at instantiation time.\n",
    "# Using ABCs can help avoid bugs and make class hierarchies\n",
    "# easier to maintain.\n",
    "from abc import ABCMeta, abstractmethod\n",
    "class MyAbstractBaseClass(metaclass=ABCMeta):\n",
    "    @abstractmethod\n",
    "    def foo(self):\n",
    "        pass\n",
    "    @abstractmethod\n",
    "    def bar(self):\n",
    "        pass\n",
    "class Concrete(MyAbstractBaseClass):\n",
    "    def foo(self):\n",
    "        pass\n",
    "    # We forget to declare bar()\n",
    "    #def bar(self):\n",
    "    #    pass\n",
    "try:\n",
    "    c = Concrete() #TypeError: Can't instantiate abstract class Concrete with abstract methods bar\n",
    "except TypeError:\n",
    "    print(TypeError)"
   ]
  },
  {
   "cell_type": "code",
   "execution_count": 12,
   "metadata": {},
   "outputs": [
    {
     "name": "stdout",
     "output_type": "stream",
     "text": [
      "\n",
      "myRectangle1.width -> 10\n",
      "myRectangle1.height -> 20\n",
      "myRectangle1.getArea() -> 200\n",
      "\n",
      "myRectangle2.width -> 5\n",
      "myRectangle2.height -> 20\n",
      "myRectangle2.getArea() -> 100\n"
     ]
    }
   ],
   "source": [
    "#classes\n",
    "\n",
    "class Rectangle:\n",
    "    width = 10\n",
    "    height = 20\n",
    "\n",
    "    def getArea(self):\n",
    "        return self.width*self.height\n",
    "\n",
    "myRectangle1 = Rectangle()\n",
    "myRectangle2 = Rectangle()\n",
    "myRectangle2.width = 5\n",
    "\n",
    "print()\n",
    "print(\"myRectangle1.width -> %d\" % myRectangle1.width)\n",
    "print(\"myRectangle1.height -> %d\" % myRectangle1.height)\n",
    "print(\"myRectangle1.getArea() -> %d\" % myRectangle1.getArea())\n",
    "\n",
    "print()\n",
    "print(\"myRectangle2.width -> %d\" % myRectangle2.width)\n",
    "print(\"myRectangle2.height -> %d\" % myRectangle2.height)\n",
    "print(\"myRectangle2.getArea() -> %d\" % myRectangle2.getArea())"
   ]
  },
  {
   "cell_type": "code",
   "execution_count": 13,
   "metadata": {},
   "outputs": [
    {
     "name": "stdout",
     "output_type": "stream",
     "text": [
      "Graham, Chapman\n",
      "Eric, Idle\n",
      "Terry, Gilliam\n",
      "Terry, Jones\n",
      "John, Cleese\n",
      "Michael, Palin\n"
     ]
    }
   ],
   "source": [
    "#object initialization\n",
    "\n",
    "class Comedian:\n",
    "    def __init__(self, first_name, second_name): # object initializer\n",
    "        self.first_name = first_name\n",
    "        self.second_name = second_name\n",
    "    def __str__(self): # used by print method\n",
    "        return self.first_name + \", \" + self.second_name\n",
    "\n",
    "python_troupe_1969  = [\n",
    "    Comedian(\"Graham\", \"Chapman\"),\n",
    "    Comedian(\"Eric\", \"Idle\"),\n",
    "    Comedian(\"Terry\", \"Gilliam\"),\n",
    "    Comedian(\"Terry\", \"Jones\"),\n",
    "    Comedian(\"John\", \"Cleese\"),\n",
    "    Comedian(\"Michael\", \"Palin\")\n",
    "    ]\n",
    "\n",
    "for comedian in python_troupe_1969:\n",
    "    print(comedian)"
   ]
  },
  {
   "cell_type": "code",
   "execution_count": 14,
   "metadata": {},
   "outputs": [
    {
     "name": "stdout",
     "output_type": "stream",
     "text": [
      "55\n",
      "55\n"
     ]
    }
   ],
   "source": [
    "#data hiding\n",
    "\n",
    "# name attributes with double underscore prefix -> private visibility\n",
    "\n",
    "class MyClass:\n",
    "    __secret_member = 42\n",
    "  \n",
    "    def add_number_to_private_member(self, n):\n",
    "        self.__secret_member += n\n",
    "        print(self.__secret_member)\n",
    "\n",
    "mc = MyClass()\n",
    "mc.add_number_to_private_member(13) # OK\n",
    "\n",
    "print(mc._MyClass__secret_member) # can access it via mangled name\n",
    "\n",
    "#print(mc.__secretCount) # uncomment -> AttributeError: 'MyClass' object has no attribute '__secretCount'"
   ]
  },
  {
   "cell_type": "code",
   "execution_count": 15,
   "metadata": {},
   "outputs": [
    {
     "name": "stdout",
     "output_type": "stream",
     "text": [
      "0.05\n",
      "1500\n",
      "1000\n",
      "2000\n",
      "2100.0\n",
      "0.1\n",
      "2310.0\n",
      "5000\n",
      "0.1\n",
      "5500.0\n"
     ]
    }
   ],
   "source": [
    "#class static members\n",
    "\n",
    "class BankAccount:\n",
    "    interest = 0.0 # static field\n",
    "    def __init__(self, initial_balance = 0.0):\n",
    "        self.balance = initial_balance\n",
    "    def deposit(self, amount):\n",
    "        self.balance += amount\n",
    "    def withdraw(self, amount):\n",
    "        self.balance -= amount\n",
    "    def accrue_interest(self):\n",
    "        self.balance += self.balance * BankAccount.interest\n",
    "    @staticmethod\n",
    "    def set_interest(new_interest): # static method\n",
    "        BankAccount.interest = new_interest\n",
    "\n",
    "BankAccount.set_interest(0.05)\n",
    "print(BankAccount.interest)\n",
    "\n",
    "my_account = BankAccount(1500)\n",
    "print(my_account.balance)\n",
    "\n",
    "my_account.withdraw(500)\n",
    "print(my_account.balance)\n",
    "\n",
    "my_account.deposit(1000)\n",
    "print(my_account.balance)\n",
    "\n",
    "my_account.accrue_interest()\n",
    "print(my_account.balance)\n",
    "\n",
    "BankAccount.set_interest(0.10)\n",
    "print(BankAccount.interest)\n",
    "\n",
    "my_account.accrue_interest()\n",
    "print(my_account.balance)\n",
    "\n",
    "my_other_account = BankAccount(5000)\n",
    "print(my_other_account.balance)\n",
    "print(BankAccount.interest)\n",
    "my_other_account.accrue_interest()\n",
    "print(my_other_account.balance)"
   ]
  },
  {
   "cell_type": "code",
   "execution_count": 16,
   "metadata": {},
   "outputs": [
    {
     "name": "stdout",
     "output_type": "stream",
     "text": [
      "Child constructor called\n",
      "Child method (child_method) called\n",
      "Parent method (parent_method) called\n",
      "ParentClass set_attribute called : 13\n",
      "ParentClass get_attribute called : 13\n"
     ]
    },
    {
     "data": {
      "text/plain": [
       "13"
      ]
     },
     "execution_count": 16,
     "metadata": {},
     "output_type": "execute_result"
    }
   ],
   "source": [
    "#class inheritance\n",
    "\n",
    "class ParentClass:\n",
    "    parent_attribute = 42\n",
    "    def __init__(self):\n",
    "        print(\"Parent constructor called\")\n",
    "\n",
    "    def parent_method(self):\n",
    "        print('Parent method (parent_method) called')\n",
    "\n",
    "    def set_attribute(self, attribute):\n",
    "        ParentClass.parent_attribute = attribute\n",
    "        print(\"ParentClass set_attribute called :\", attribute)\n",
    "\n",
    "    def get_attribute(self):\n",
    "        print(\"ParentClass get_attribute called :\", ParentClass.parent_attribute)\n",
    "        return ParentClass.parent_attribute\n",
    "               \n",
    "class ChildClass(ParentClass):\n",
    "    def __init__(self):\n",
    "        print(\"Child constructor called\")\n",
    "\n",
    "    def child_method(self):\n",
    "        print('Child method (child_method) called')\n",
    "\n",
    "cc = ChildClass()\n",
    "cc.child_method()\n",
    "cc.parent_method()\n",
    "cc.set_attribute(13)\n",
    "cc.get_attribute()\n",
    "\n",
    "# NOTE: Python also supports a limited form of multiple inheritance"
   ]
  },
  {
   "cell_type": "code",
   "execution_count": 17,
   "metadata": {},
   "outputs": [
    {
     "name": "stdout",
     "output_type": "stream",
     "text": [
      "Enter Pin A input for gate G1-->1\n",
      "Enter Pin B input for gate G1-->0\n",
      "Enter Pin A input for gate G2-->0\n",
      "Enter Pin B input for gate G2-->1\n",
      "1\n"
     ]
    }
   ],
   "source": [
    "class LogicGate:\n",
    "\n",
    "    def __init__(self,n):\n",
    "        self.name = n\n",
    "        self.output = None\n",
    "\n",
    "    def getLabel(self):\n",
    "        return self.name\n",
    "\n",
    "    def getOutput(self):\n",
    "        self.output = self.performGateLogic()\n",
    "        return self.output\n",
    "\n",
    "\n",
    "class BinaryGate(LogicGate):\n",
    "\n",
    "    def __init__(self,n):\n",
    "        super().__init__(n)\n",
    "\n",
    "        self.pinA = None\n",
    "        self.pinB = None\n",
    "\n",
    "    def getPinA(self):\n",
    "        if self.pinA == None:\n",
    "            return int(input(\"Enter Pin A input for gate \"+self.getLabel()+\"-->\"))\n",
    "        else:\n",
    "            return self.pinA.getFrom().getOutput()\n",
    "\n",
    "    def getPinB(self):\n",
    "        if self.pinB == None:\n",
    "            return int(input(\"Enter Pin B input for gate \"+self.getLabel()+\"-->\"))\n",
    "        else:\n",
    "            return self.pinB.getFrom().getOutput()\n",
    "\n",
    "    def setNextPin(self,source):\n",
    "        if self.pinA == None:\n",
    "            self.pinA = source\n",
    "        else:\n",
    "            if self.pinB == None:\n",
    "                self.pinB = source\n",
    "            else:\n",
    "                print(\"Cannot Connect: NO EMPTY PINS on this gate\")\n",
    "\n",
    "class AndGate(BinaryGate):\n",
    "\n",
    "    def __init__(self,n):\n",
    "        BinaryGate.__init__(self,n)\n",
    "\n",
    "    def performGateLogic(self):\n",
    "\n",
    "        a = self.getPinA()\n",
    "        b = self.getPinB()\n",
    "        if a==1 and b==1:\n",
    "            return 1\n",
    "        else:\n",
    "            return 0\n",
    "\n",
    "class OrGate(BinaryGate):\n",
    "\n",
    "    def __init__(self,n):\n",
    "        BinaryGate.__init__(self,n)\n",
    "\n",
    "    def performGateLogic(self):\n",
    "\n",
    "        a = self.getPinA()\n",
    "        b = self.getPinB()\n",
    "        if a ==1 or b==1:\n",
    "            return 1\n",
    "        else:\n",
    "            return 0\n",
    "\n",
    "class UnaryGate(LogicGate):\n",
    "\n",
    "    def __init__(self,n):\n",
    "        LogicGate.__init__(self,n)\n",
    "\n",
    "        self.pin = None\n",
    "\n",
    "    def getPin(self):\n",
    "        if self.pin == None:\n",
    "            return int(input(\"Enter Pin input for gate \"+self.getLabel()+\"-->\"))\n",
    "        else:\n",
    "            return self.pin.getFrom().getOutput()\n",
    "\n",
    "    def setNextPin(self,source):\n",
    "        if self.pin == None:\n",
    "            self.pin = source\n",
    "        else:\n",
    "            print(\"Cannot Connect: NO EMPTY PINS on this gate\")\n",
    "\n",
    "\n",
    "class NotGate(UnaryGate):\n",
    "\n",
    "    def __init__(self,n):\n",
    "        UnaryGate.__init__(self,n)\n",
    "\n",
    "    def performGateLogic(self):\n",
    "        if self.getPin():\n",
    "            return 0\n",
    "        else:\n",
    "            return 1\n",
    "\n",
    "\n",
    "class Connector:\n",
    "\n",
    "    def __init__(self, fgate, tgate):\n",
    "        self.fromgate = fgate\n",
    "        self.togate = tgate\n",
    "\n",
    "        tgate.setNextPin(self)\n",
    "\n",
    "    def getFrom(self):\n",
    "        return self.fromgate\n",
    "\n",
    "    def getTo(self):\n",
    "        return self.togate\n",
    "\n",
    "\n",
    "def main():\n",
    "   g1 = AndGate(\"G1\")\n",
    "   g2 = AndGate(\"G2\")\n",
    "   g3 = OrGate(\"G3\")\n",
    "   g4 = NotGate(\"G4\")\n",
    "   c1 = Connector(g1,g3)\n",
    "   c2 = Connector(g2,g3)\n",
    "   c3 = Connector(g3,g4)\n",
    "   print(g4.getOutput())\n",
    "\n",
    "main()"
   ]
  },
  {
   "cell_type": "code",
   "execution_count": null,
   "metadata": {},
   "outputs": [],
   "source": []
  }
 ],
 "metadata": {
  "kernelspec": {
   "display_name": "Python 3",
   "language": "python",
   "name": "python3"
  },
  "language_info": {
   "codemirror_mode": {
    "name": "ipython",
    "version": 3
   },
   "file_extension": ".py",
   "mimetype": "text/x-python",
   "name": "python",
   "nbconvert_exporter": "python",
   "pygments_lexer": "ipython3",
   "version": "3.7.6"
  }
 },
 "nbformat": 4,
 "nbformat_minor": 2
}
