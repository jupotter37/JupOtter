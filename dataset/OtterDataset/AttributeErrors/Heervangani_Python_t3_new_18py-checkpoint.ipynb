{
 "cells": [
  {
   "cell_type": "code",
   "execution_count": 1,
   "metadata": {},
   "outputs": [
    {
     "data": {
      "text/plain": [
       "'D:\\\\Heer_T3'"
      ]
     },
     "execution_count": 1,
     "metadata": {},
     "output_type": "execute_result"
    }
   ],
   "source": [
    "pwd"
   ]
  },
  {
   "cell_type": "code",
   "execution_count": 3,
   "metadata": {},
   "outputs": [
    {
     "name": "stdout",
     "output_type": "stream",
     "text": [
      "<_io.TextIOWrapper name='Heer.txt' mode='r' encoding='utf-8'>\n"
     ]
    }
   ],
   "source": [
    "file_object=open('Heer.txt','r',encoding='utf-8')\n",
    "print(file_object)"
   ]
  },
  {
   "cell_type": "code",
   "execution_count": 10,
   "metadata": {},
   "outputs": [
    {
     "name": "stdout",
     "output_type": "stream",
     "text": [
      "<_io.TextIOWrapper name='D:\\\\B7\\\\b7.txt' mode='r' encoding='cp1252'>\n"
     ]
    }
   ],
   "source": [
    "f=open(\"D:\\\\B7\\\\b7.txt\",'r')\n",
    "print(f)\n",
    "f.close()"
   ]
  },
  {
   "cell_type": "code",
   "execution_count": 14,
   "metadata": {},
   "outputs": [
    {
     "ename": "UnsupportedOperation",
     "evalue": "not writable",
     "output_type": "error",
     "traceback": [
      "\u001b[1;31m---------------------------------------------------------------------------\u001b[0m",
      "\u001b[1;31mUnsupportedOperation\u001b[0m                      Traceback (most recent call last)",
      "\u001b[1;32m<ipython-input-14-c31e8a36fcab>\u001b[0m in \u001b[0;36m<module>\u001b[1;34m\u001b[0m\n\u001b[0;32m      1\u001b[0m \u001b[0mf\u001b[0m\u001b[1;33m=\u001b[0m\u001b[0mopen\u001b[0m\u001b[1;33m(\u001b[0m\u001b[1;34m'Heer.txt'\u001b[0m\u001b[1;33m,\u001b[0m\u001b[1;34m'r'\u001b[0m\u001b[1;33m)\u001b[0m\u001b[1;33m\u001b[0m\u001b[1;33m\u001b[0m\u001b[0m\n\u001b[1;32m----> 2\u001b[1;33m \u001b[0mf\u001b[0m\u001b[1;33m.\u001b[0m\u001b[0mwrite\u001b[0m\u001b[1;33m(\u001b[0m\u001b[1;34m'hello'\u001b[0m\u001b[1;33m)\u001b[0m\u001b[1;33m\u001b[0m\u001b[1;33m\u001b[0m\u001b[0m\n\u001b[0m\u001b[0;32m      3\u001b[0m \u001b[0mx\u001b[0m\u001b[1;33m=\u001b[0m\u001b[0mf\u001b[0m\u001b[1;33m.\u001b[0m\u001b[0mread\u001b[0m\u001b[1;33m(\u001b[0m\u001b[1;33m)\u001b[0m\u001b[1;33m\u001b[0m\u001b[1;33m\u001b[0m\u001b[0m\n\u001b[0;32m      4\u001b[0m \u001b[0mprint\u001b[0m\u001b[1;33m(\u001b[0m\u001b[0mx\u001b[0m\u001b[1;33m)\u001b[0m\u001b[1;33m\u001b[0m\u001b[1;33m\u001b[0m\u001b[0m\n\u001b[0;32m      5\u001b[0m \u001b[0my\u001b[0m\u001b[1;33m=\u001b[0m\u001b[0mf\u001b[0m\u001b[1;33m.\u001b[0m\u001b[0mread\u001b[0m\u001b[1;33m(\u001b[0m\u001b[1;33m)\u001b[0m\u001b[1;33m\u001b[0m\u001b[1;33m\u001b[0m\u001b[0m\n",
      "\u001b[1;31mUnsupportedOperation\u001b[0m: not writable"
     ]
    }
   ],
   "source": [
    "f=open('Heer.txt','r')\n",
    "# f.write('hello')\n",
    "x=f.read()\n",
    "print(x)\n",
    "y=f.read()\n",
    "print('>',y)\n",
    "f.close()"
   ]
  },
  {
   "cell_type": "code",
   "execution_count": 17,
   "metadata": {},
   "outputs": [
    {
     "name": "stdout",
     "output_type": "stream",
     "text": [
      "\n"
     ]
    }
   ],
   "source": [
    "f=open('Heer.txt','r+')\n",
    "x=f.read()\n",
    "f.write('123')\n",
    "y=f.read()\n",
    "print(y)\n",
    "f.close()"
   ]
  },
  {
   "cell_type": "code",
   "execution_count": 20,
   "metadata": {
    "scrolled": true
   },
   "outputs": [
    {
     "name": "stdout",
     "output_type": "stream",
     "text": [
      "myself Heer vangani\n",
      "Batch-B6\n",
      "rollNo. 209\n",
      "123123123123123\n",
      "\n"
     ]
    }
   ],
   "source": [
    "f=open('Heer.txt','r+')\n",
    "x=f.read()\n",
    "print(x)\n",
    "f.write('hi')\n",
    "y=f.read()\n",
    "print(y)\n",
    "f.close()"
   ]
  },
  {
   "cell_type": "code",
   "execution_count": 24,
   "metadata": {},
   "outputs": [
    {
     "data": {
      "text/plain": [
       "3"
      ]
     },
     "execution_count": 24,
     "metadata": {},
     "output_type": "execute_result"
    }
   ],
   "source": [
    "f=open('Heer.txt','r+')\n",
    "f.write('v10')\n"
   ]
  },
  {
   "cell_type": "code",
   "execution_count": 26,
   "metadata": {},
   "outputs": [
    {
     "ename": "FileNotFoundError",
     "evalue": "[Errno 2] No such file or directory: 'pqr.txt'",
     "output_type": "error",
     "traceback": [
      "\u001b[1;31m---------------------------------------------------------------------------\u001b[0m",
      "\u001b[1;31mFileNotFoundError\u001b[0m                         Traceback (most recent call last)",
      "\u001b[1;32m<ipython-input-26-0b834760b26d>\u001b[0m in \u001b[0;36m<module>\u001b[1;34m\u001b[0m\n\u001b[1;32m----> 1\u001b[1;33m \u001b[0mf\u001b[0m\u001b[1;33m=\u001b[0m\u001b[0mopen\u001b[0m\u001b[1;33m(\u001b[0m\u001b[1;34m'pqr.txt'\u001b[0m\u001b[1;33m,\u001b[0m\u001b[1;34m'r+'\u001b[0m\u001b[1;33m)\u001b[0m\u001b[1;33m\u001b[0m\u001b[1;33m\u001b[0m\u001b[0m\n\u001b[0m\u001b[0;32m      2\u001b[0m \u001b[0mprint\u001b[0m\u001b[1;33m(\u001b[0m\u001b[0mf\u001b[0m\u001b[1;33m.\u001b[0m\u001b[0mread\u001b[0m\u001b[1;33m(\u001b[0m\u001b[1;33m)\u001b[0m\u001b[1;33m)\u001b[0m\u001b[1;33m\u001b[0m\u001b[1;33m\u001b[0m\u001b[0m\n\u001b[0;32m      3\u001b[0m \u001b[0mf\u001b[0m\u001b[1;33m.\u001b[0m\u001b[0mclose\u001b[0m\u001b[1;33m(\u001b[0m\u001b[1;33m)\u001b[0m\u001b[1;33m\u001b[0m\u001b[1;33m\u001b[0m\u001b[0m\n",
      "\u001b[1;31mFileNotFoundError\u001b[0m: [Errno 2] No such file or directory: 'pqr.txt'"
     ]
    }
   ],
   "source": [
    "f=open('pqr.txt','r+')\n",
    "print(f.read())\n",
    "f.close()"
   ]
  },
  {
   "cell_type": "code",
   "execution_count": 28,
   "metadata": {},
   "outputs": [],
   "source": [
    "f=open('Heer.txt','w')\n",
    "f.write('B6 is best')\n",
    "# print(f.read())\n",
    "f.close()"
   ]
  },
  {
   "cell_type": "code",
   "execution_count": 30,
   "metadata": {},
   "outputs": [],
   "source": [
    "f=open('fdef.txt','w')\n",
    "f.write('B6 is best')\n",
    "# print(f.read())\n",
    "f.close()"
   ]
  },
  {
   "cell_type": "code",
   "execution_count": 31,
   "metadata": {},
   "outputs": [
    {
     "name": "stdout",
     "output_type": "stream",
     "text": [
      "\n"
     ]
    }
   ],
   "source": [
    "f=open('fdef.txt','w+')\n",
    "f.write('B6 is best')\n",
    "print(f.read())\n",
    "f.close()"
   ]
  },
  {
   "cell_type": "code",
   "execution_count": 32,
   "metadata": {},
   "outputs": [],
   "source": [
    "f=open('fdef.txt','a')\n",
    "f.write('B6 is best')\n",
    "# print(f.read())\n",
    "f.close()"
   ]
  },
  {
   "cell_type": "code",
   "execution_count": 33,
   "metadata": {},
   "outputs": [
    {
     "name": "stdout",
     "output_type": "stream",
     "text": [
      "\n"
     ]
    }
   ],
   "source": [
    "f=open('aaaa.txt','a+')\n",
    "print(f.read())\n",
    "f.write('B6 is best')\n",
    "\n",
    "f.close()"
   ]
  },
  {
   "cell_type": "code",
   "execution_count": 34,
   "metadata": {},
   "outputs": [
    {
     "name": "stdout",
     "output_type": "stream",
     "text": [
      "\n"
     ]
    }
   ],
   "source": [
    "f=open('aaaa.txt','a+')\n",
    "print(f.read())\n",
    "f.write('B6 is bestttttttttttt')\n",
    "\n",
    "f.close()"
   ]
  },
  {
   "cell_type": "code",
   "execution_count": 37,
   "metadata": {},
   "outputs": [
    {
     "name": "stdout",
     "output_type": "stream",
     "text": [
      "Heer.txt\n",
      "a+\n",
      "False\n",
      "True\n",
      "True\n"
     ]
    }
   ],
   "source": [
    "f=open('Heer.txt','a+')\n",
    "print(f.name)\n",
    "print(f.mode)\n",
    "print(f.closed)\n",
    "print(f.readable())\n",
    "print(f.writable())\n",
    "f.close()\n"
   ]
  },
  {
   "cell_type": "code",
   "execution_count": 39,
   "metadata": {},
   "outputs": [],
   "source": [
    "f=open('ababa.txt','w')\n",
    "f.write('1234 789')\n",
    "f.writelines(['A\\n','B\\n','C\\n'])\n",
    "f.close()"
   ]
  },
  {
   "cell_type": "code",
   "execution_count": 45,
   "metadata": {},
   "outputs": [
    {
     "name": "stdout",
     "output_type": "stream",
     "text": [
      "HI\n",
      "\n",
      "hel\n",
      "lo\n",
      "welc\n",
      "ome\n",
      "\n"
     ]
    }
   ],
   "source": [
    "f=open('ababa.txt','r')\n",
    "# f.writelines(['HI\\n','hello\\n','welcome\\n'])\n",
    "print(f.read(2))\n",
    "print(f.read(4))\n",
    "print(f.read(7))\n",
    "print(f.read())\n",
    "\n",
    "f.close()"
   ]
  },
  {
   "cell_type": "code",
   "execution_count": 53,
   "metadata": {},
   "outputs": [
    {
     "name": "stdout",
     "output_type": "stream",
     "text": [
      "HI\n",
      "\n",
      "hello\n",
      "\n",
      "we\n",
      "['lcome\\n']\n"
     ]
    }
   ],
   "source": [
    "# at \\n it will cut off if more char given \n",
    "f=open('ababa.txt','r')\n",
    "print(f.readline())\n",
    "print(f.readline(9))\n",
    "print(f.readline(2))\n",
    "# print(f.readlines()) ans in list\n",
    "f.close()\n"
   ]
  },
  {
   "cell_type": "code",
   "execution_count": 56,
   "metadata": {},
   "outputs": [
    {
     "name": "stdout",
     "output_type": "stream",
     "text": [
      "HI\n",
      "\n",
      "h\n",
      "ello\n",
      "\n"
     ]
    }
   ],
   "source": [
    "# not in syllabus\n",
    "f=open('ababa.txt','r')\n",
    "print(f.readline(4))\n",
    "print(f.readline(1))\n",
    "print(f.readline())\n",
    "# print(f.readlines()) ans in list\n",
    "f.close()\n",
    "# "
   ]
  },
  {
   "cell_type": "code",
   "execution_count": 58,
   "metadata": {},
   "outputs": [
    {
     "name": "stdout",
     "output_type": "stream",
     "text": [
      "HI\n",
      "\n",
      "hello\n",
      "\n",
      "welcome\n",
      "\n"
     ]
    }
   ],
   "source": [
    "f=open('ababa.txt','r')\n",
    "for i in f:\n",
    "    print(i)"
   ]
  },
  {
   "cell_type": "code",
   "execution_count": 60,
   "metadata": {},
   "outputs": [
    {
     "name": "stdout",
     "output_type": "stream",
     "text": [
      "0 > HI\n",
      "\n",
      "1 > hello\n",
      "\n",
      "2 > welcome\n",
      "\n"
     ]
    }
   ],
   "source": [
    "f=open('ababa.txt','r')\n",
    "for i,j in enumerate(f):\n",
    "    print(i,'>',j)"
   ]
  },
  {
   "cell_type": "code",
   "execution_count": 61,
   "metadata": {},
   "outputs": [
    {
     "name": "stdout",
     "output_type": "stream",
     "text": [
      "1 > HI\n",
      "\n",
      "2 > hello\n",
      "\n",
      "3 > welcome\n",
      "\n"
     ]
    }
   ],
   "source": [
    "f=open('ababa.txt','r')\n",
    "for i,j in enumerate(f,start=1):\n",
    "    print(i,'>',j)"
   ]
  },
  {
   "cell_type": "code",
   "execution_count": 62,
   "metadata": {
    "scrolled": true
   },
   "outputs": [
    {
     "name": "stdout",
     "output_type": "stream",
     "text": [
      "H\n",
      "I\n",
      "\n",
      "\n",
      "h\n",
      "e\n",
      "l\n",
      "l\n",
      "o\n",
      "\n",
      "\n",
      "w\n",
      "e\n",
      "l\n",
      "c\n",
      "o\n",
      "m\n",
      "e\n",
      "\n",
      "\n"
     ]
    }
   ],
   "source": [
    "f=open('ababa.txt','r')\n",
    "r=f.read()\n",
    "for i in r:\n",
    "    print(i)"
   ]
  },
  {
   "cell_type": "code",
   "execution_count": 65,
   "metadata": {},
   "outputs": [
    {
     "name": "stdout",
     "output_type": "stream",
     "text": [
      "HI\n",
      "hello\n",
      "welcome\n"
     ]
    }
   ],
   "source": [
    "# word by word\n",
    "f=open('ababa.txt','r')\n",
    "for i in f:\n",
    "    for j in i.split():\n",
    "     print(j)"
   ]
  },
  {
   "cell_type": "code",
   "execution_count": 15,
   "metadata": {},
   "outputs": [
    {
     "name": "stdout",
     "output_type": "stream",
     "text": [
      "36\n",
      "38\n",
      "7\n",
      "estB6 is bestHiHiHiHiHiHiHiHiHi\n",
      "7\n"
     ]
    }
   ],
   "source": [
    "#day2\n",
    "f=open(\"fdef.txt\",\"a+\")\n",
    "print(f.tell())\n",
    "f.write(\"Hi\")\n",
    "print(f.tell())\n",
    "f.seek(7)\n",
    "print(f.tell())\n",
    "print(f.read())\n",
    "f.seek(7,0)#seek(offset,where-0-start,1-current,2-end)\n",
    "f.seek(0,1)#exception\n",
    "f.seek(0,2)#exception\n",
    "print(f.tell())"
   ]
  },
  {
   "cell_type": "code",
   "execution_count": 23,
   "metadata": {},
   "outputs": [
    {
     "name": "stdout",
     "output_type": "stream",
     "text": [
      "HI\n",
      "hello\n",
      "welcome\n",
      "\n",
      "True\n"
     ]
    }
   ],
   "source": [
    "with open(\"ababa.txt\",\"r\")as f:\n",
    "    print(f.read())\n",
    "print(f.closed)"
   ]
  },
  {
   "cell_type": "code",
   "execution_count": 27,
   "metadata": {},
   "outputs": [
    {
     "name": "stdout",
     "output_type": "stream",
     "text": [
      "B6 is best in python\n",
      "\n",
      "B6\n",
      "is\n",
      "best\n",
      "in\n",
      "python\n",
      "B6 is best in de\n",
      "\n",
      "B6\n",
      "is\n",
      "best\n",
      "in\n",
      "de\n",
      "B1 is best in python\n",
      "\n",
      "B1\n",
      "is\n",
      "best\n",
      "in\n",
      "python\n",
      "b3 is good in python\n",
      "b3\n",
      "is\n",
      "good\n",
      "in\n",
      "python\n"
     ]
    }
   ],
   "source": [
    "f=open(\"ex.txt\")\n",
    "for line in f:\n",
    "    print(line)\n",
    "#     for word in line.split():\n",
    "#         print(word)"
   ]
  },
  {
   "cell_type": "code",
   "execution_count": 32,
   "metadata": {},
   "outputs": [
    {
     "name": "stdout",
     "output_type": "stream",
     "text": [
      "['B6', 'is', 'best', 'in', 'python']\n",
      "B6\n",
      "is\n",
      "best\n",
      "in\n",
      "python\n",
      "['B6', 'is', 'best', 'in', 'de']\n",
      "B6\n",
      "is\n",
      "best\n",
      "in\n",
      "de\n",
      "['B1', 'is', 'best', 'in', 'python']\n",
      "B1\n",
      "is\n",
      "best\n",
      "in\n",
      "python\n",
      "['b3', 'is', 'good', 'in', 'python']\n",
      "b3\n",
      "is\n",
      "good\n",
      "in\n",
      "python\n",
      "0\n"
     ]
    }
   ],
   "source": [
    "\n",
    " \n",
    "f=open(\"ex.txt\")\n",
    "c=0\n",
    "for line in f:\n",
    "    print(line)\n",
    "    c+=1\n",
    "    for word in line.split():\n",
    "        print(word)\n",
    "        \n",
    "print(len(f.read().split()))\n",
    "# print(len(f.readlines()))\n",
    "\n",
    "    "
   ]
  },
  {
   "cell_type": "code",
   "execution_count": 39,
   "metadata": {},
   "outputs": [
    {
     "name": "stdout",
     "output_type": "stream",
     "text": [
      "['B6', 'is', 'best', 'in', 'python']\n",
      "B6\n",
      "is\n",
      "best\n",
      "in\n",
      "python\n",
      "['B6', 'is', 'best', 'in', 'de']\n",
      "B6\n",
      "is\n",
      "best\n",
      "in\n",
      "de\n",
      "['B1', 'is', 'best', 'in', 'python']\n",
      "B1\n",
      "is\n",
      "best\n",
      "in\n",
      "python\n",
      "['b3', 'is', 'good', 'in', 'python']\n",
      "b3\n",
      "is\n",
      "good\n",
      "in\n",
      "python\n",
      "4\n",
      "20\n",
      "0\n",
      "0\n"
     ]
    }
   ],
   "source": [
    "\n",
    " #wordcount\n",
    "f=open(\"ex.txt\")\n",
    "linecount,wordcount=0,0\n",
    "for line in f:\n",
    "    print(line.split())\n",
    "    linecount+=1\n",
    "    for word in line.split():\n",
    "        print(word)\n",
    "        wordcount+=1\n",
    "\n",
    "print(linecount)\n",
    "print(wordcount)\n",
    "# print(len(f.read().split()))\n",
    "# print(len(f.readlines()))\n",
    "\n",
    "    "
   ]
  },
  {
   "cell_type": "code",
   "execution_count": 41,
   "metadata": {},
   "outputs": [
    {
     "name": "stdout",
     "output_type": "stream",
     "text": [
      "4\n"
     ]
    }
   ],
   "source": [
    "f=open(\"ex.txt\")\n",
    "#print(len(f.read().split()))\n",
    "print(len(f.readlines()))#pointer at last\n"
   ]
  },
  {
   "cell_type": "code",
   "execution_count": 54,
   "metadata": {
    "scrolled": true
   },
   "outputs": [
    {
     "name": "stdout",
     "output_type": "stream",
     "text": [
      "line 2\n",
      "col 7\n"
     ]
    }
   ],
   "source": [
    "# to find diferences between 2 lines between 2 files\n",
    "f1=open(\"ex.txt\")\n",
    "f2=open(\"ex1.txt\")\n",
    "L1=f1.readlines()\n",
    "L2=f2.readlines()\n",
    "for i in range(len(L1)):\n",
    "    if L1[i]!=L2[i]:\n",
    "        for j in range(len(L1[i])):\n",
    "            if L1[i][j]!=L2[i][j]:\n",
    "                print('line',i+1)\n",
    "                print('col',j+1)\n",
    "            \n",
    "       \n",
    "        \n",
    "            \n",
    "    \n"
   ]
  },
  {
   "cell_type": "code",
   "execution_count": 64,
   "metadata": {},
   "outputs": [],
   "source": [
    "#my code withiut nextline\n",
    "f=open(\"ex3.txt\")\n",
    "L=f.readlines()\n",
    "f1=open(\"ex4.txt\",\"w\")\n",
    "for i in range(len(L)):\n",
    "     for j in range(len(L[i])):\n",
    "           \n",
    "            if L[i][j]==\"#\":\n",
    "                break\n",
    "                \n",
    "            \n",
    "            \n",
    "            f1.write(L[i][j])\n",
    "f.close()\n",
    "f1.close()"
   ]
  },
  {
   "cell_type": "code",
   "execution_count": 71,
   "metadata": {},
   "outputs": [],
   "source": [
    "#sircode\n",
    "f1=open(\"ex3.txt\")\n",
    "f2=open(\"ex5.txt\",\"w\")\n",
    "for line in f1:\n",
    "    if '#' not in line:\n",
    "        f2.write(line)\n",
    "    else:\n",
    "        if line.find('#')==0:\n",
    "            continue\n",
    "        else:\n",
    "            a=line.find('#')\n",
    "            f2.write(line[0:a]+\"\\n\")\n",
    "f1.close()\n",
    "f2.close()\n",
    "        \n"
   ]
  },
  {
   "cell_type": "code",
   "execution_count": 73,
   "metadata": {},
   "outputs": [
    {
     "name": "stdout",
     "output_type": "stream",
     "text": [
      "python\n",
      "Best\n",
      "best\n",
      "b3\n",
      "is\n"
     ]
    }
   ],
   "source": [
    "#5 longest word\n",
    "f=open(\"ex5.txt\")\n",
    "L=f.read().split()\n",
    "L=list(set(L))#use set so doesnt repeat\n",
    "L.sort(key=lambda x:len(x),reverse=True)\n",
    "for i in range(5):\n",
    "    print(L[i])\n",
    "\n",
    "            \n",
    "                \n"
   ]
  },
  {
   "cell_type": "code",
   "execution_count": 74,
   "metadata": {},
   "outputs": [
    {
     "name": "stdout",
     "output_type": "stream",
     "text": [
      "python\n",
      "Best\n",
      "best\n",
      "b3\n",
      "is\n"
     ]
    }
   ],
   "source": [
    "#5 longest word\n",
    "f=open(\"ex5.txt\")\n",
    "L=[]\n",
    "for line in f:\n",
    "    for word in line.split():\n",
    "        L.append(word)\n",
    "L=list(set(L))#use set so doesnt repeat\n",
    "L.sort(key=lambda x:len(x),reverse=True)\n",
    "for i in range(5):\n",
    "    print(L[i])\n",
    "\n",
    "            \n",
    "                \n"
   ]
  },
  {
   "cell_type": "code",
   "execution_count": 77,
   "metadata": {},
   "outputs": [],
   "source": [
    "#80 char in one line only\n",
    "f=open(\"ex1.txt\",encoding='UTF-8')\n",
    "L=f.read().split(' ')\n",
    "f1=open(\"file2.txt\",\"w\")\n",
    "c=0\n",
    "for i in L:\n",
    "    if(c+len(i)<=80):\n",
    "        f1.write(i+' ')\n",
    "    else:\n",
    "        f1.write('\\n'+i+'')\n",
    "        c=0\n",
    "    c+=len(i)+1\n",
    "f.close()\n",
    "f1.close()\n",
    "    \n",
    "\n",
    "\n",
    "\n"
   ]
  },
  {
   "cell_type": "code",
   "execution_count": 12,
   "metadata": {},
   "outputs": [
    {
     "name": "stdout",
     "output_type": "stream",
     "text": [
      "stephen.marquard@uct.ac.za\n",
      "louis@media.berkeley.edu\n",
      "zqian@umich.edu\n",
      "rjlowe@iupui.edu\n",
      "zqian@umich.edu\n",
      "rjlowe@iupui.edu\n",
      "cwen@iupui.edu\n",
      "cwen@iupui.edu\n",
      "gsilver@umich.edu\n",
      "gsilver@umich.edu\n",
      "zqian@umich.edu\n",
      "gsilver@umich.edu\n",
      "wagnermr@iupui.edu\n",
      "zqian@umich.edu\n",
      "antranig@caret.cam.ac.uk\n",
      "gopal.ramasammycook@gmail.com\n",
      "david.horwitz@uct.ac.za\n",
      "david.horwitz@uct.ac.za\n",
      "david.horwitz@uct.ac.za\n",
      "david.horwitz@uct.ac.za\n",
      "stephen.marquard@uct.ac.za\n",
      "louis@media.berkeley.edu\n",
      "louis@media.berkeley.edu\n",
      "ray@media.berkeley.edu\n",
      "cwen@iupui.edu\n",
      "cwen@iupui.edu\n",
      "cwen@iupui.edu\n",
      "total count is 27\n"
     ]
    }
   ],
   "source": [
    "# to extract mails\n",
    "file=open(\"mbox-short.txt\",\"r\")\n",
    "c=0\n",
    "for line in file:\n",
    "    if not line.startswith('From '):\n",
    "       \n",
    "        continue\n",
    "        \n",
    "    print(line.split()[1])\n",
    "    c+=1\n",
    "print(f\"total count is {c}\")\n",
    "    \n",
    "            \n",
    "            \n",
    "            \n",
    "            \n",
    "            \n",
    "    "
   ]
  },
  {
   "cell_type": "code",
   "execution_count": 23,
   "metadata": {},
   "outputs": [
    {
     "name": "stdout",
     "output_type": "stream",
     "text": [
      "{'stephen.marquard@uct.ac.za': 2, 'louis@media.berkeley.edu': 3, 'zqian@umich.edu': 4, 'rjlowe@iupui.edu': 2, 'cwen@iupui.edu': 5, 'gsilver@umich.edu': 3, 'wagnermr@iupui.edu': 1, 'antranig@caret.cam.ac.uk': 1, 'gopal.ramasammycook@gmail.com': 1, 'david.horwitz@uct.ac.za': 4, 'ray@media.berkeley.edu': 1}\n",
      "[('stephen.marquard@uct.ac.za', 2), ('louis@media.berkeley.edu', 3), ('zqian@umich.edu', 4), ('rjlowe@iupui.edu', 2), ('cwen@iupui.edu', 5), ('gsilver@umich.edu', 3), ('wagnermr@iupui.edu', 1), ('antranig@caret.cam.ac.uk', 1), ('gopal.ramasammycook@gmail.com', 1), ('david.horwitz@uct.ac.za', 4), ('ray@media.berkeley.edu', 1)]\n",
      "[('cwen@iupui.edu', 5), ('zqian@umich.edu', 4), ('david.horwitz@uct.ac.za', 4), ('louis@media.berkeley.edu', 3), ('gsilver@umich.edu', 3), ('stephen.marquard@uct.ac.za', 2), ('rjlowe@iupui.edu', 2), ('wagnermr@iupui.edu', 1), ('antranig@caret.cam.ac.uk', 1), ('gopal.ramasammycook@gmail.com', 1), ('ray@media.berkeley.edu', 1)]\n",
      "cwen@iupui.edu > 5\n"
     ]
    }
   ],
   "source": [
    "#to find who has sent greatest number of mail \n",
    "file=open(\"mbox-short.txt\",\"r\")\n",
    "L=[]\n",
    "for line in file:\n",
    "    if not line.startswith('From '):\n",
    "       \n",
    "        continue\n",
    "    L.append(line.split()[1])\n",
    "d={}\n",
    "for i in L:\n",
    "    d[i]=d.get(i,0)+1\n",
    "print(d)\n",
    "k=list(d.items())    \n",
    "print(k)\n",
    "k.sort(key=lambda x:x[1],reverse=True)\n",
    "print(k)\n",
    "print(k[0][0],'>',k[0][1])\n",
    "            \n",
    "            \n",
    "            \n",
    "            \n",
    "    "
   ]
  },
  {
   "cell_type": "code",
   "execution_count": 28,
   "metadata": {},
   "outputs": [
    {
     "name": "stdout",
     "output_type": "stream",
     "text": [
      "{'09': 2, '18': 1, '16': 4, '15': 2, '14': 1, '11': 6, '10': 3, '07': 1, '06': 1, '04': 3, '19': 1, '17': 2}\n",
      "[('09', 2), ('18', 1), ('16', 4), ('15', 2), ('14', 1), ('11', 6), ('10', 3), ('07', 1), ('06', 1), ('04', 3), ('19', 1), ('17', 2)]\n",
      "[('11', 6), ('16', 4), ('10', 3), ('04', 3), ('09', 2), ('15', 2), ('17', 2), ('18', 1), ('14', 1), ('07', 1), ('06', 1), ('19', 1)]\n",
      "04 3\n",
      "06 1\n",
      "07 1\n",
      "09 2\n",
      "10 3\n",
      "11 6\n",
      "14 1\n",
      "15 2\n",
      "16 4\n",
      "17 2\n",
      "18 1\n",
      "19 1\n"
     ]
    }
   ],
   "source": [
    "#to fint frequency ofhour\n",
    "file=open(\"mbox-short.txt\",\"r\")\n",
    "L=[]\n",
    "for line in file:\n",
    "    if not line.startswith('From '):\n",
    "       \n",
    "        continue\n",
    "    L.append(line.split()[5].split(':')[0])\n",
    "d={}\n",
    "for i in L:\n",
    "    d[i]=d.get(i,0)+1\n",
    "print(d)\n",
    "k=list(d.items())    \n",
    "print(k)\n",
    "k.sort(key=lambda x:x[1],reverse=True)\n",
    "print(k)\n",
    "k.sort()\n",
    "for i,j in k:\n",
    "    print(i,j)\n",
    "            \n",
    "            \n",
    "            \n",
    "            \n",
    "    "
   ]
  },
  {
   "cell_type": "code",
   "execution_count": 36,
   "metadata": {},
   "outputs": [
    {
     "name": "stdout",
     "output_type": "stream",
     "text": [
      "0.7507185185185187\n"
     ]
    }
   ],
   "source": [
    "# to extract and find avg of float values\n",
    "f=open(\"mbox-short.txt\")\n",
    "sum,count=0,0\n",
    "for line in f:\n",
    "    if not line.startswith('X-DSPAM-Confidence:'):\n",
    "        continue\n",
    "    sum+=float((line.split()[1]))\n",
    "    count+=1\n",
    "print(sum/count)\n",
    "    \n",
    "    \n",
    "    "
   ]
  },
  {
   "cell_type": "code",
   "execution_count": 59,
   "metadata": {},
   "outputs": [
    {
     "name": "stdout",
     "output_type": "stream",
     "text": [
      "Richie 1.700000000000001\n",
      "Armstrong 1.3000000000000007\n",
      "Wirth 2.7666666666666675\n",
      "Matz 2.299999999999999\n",
      "Gosling 1.5500000000000007\n"
     ]
    }
   ],
   "source": [
    "f=open(\"logfile.txt\")\n",
    "for line in f:\n",
    "    L=line.split()\n",
    "    In_time=(L[1].split(':'))\n",
    "    In_h=int(In_time[0])+int(In_time[1])/60\n",
    "    out_time=L[2].split(':')\n",
    "    out_h=int(out_time[0])+int(out_time[1])/60\n",
    "\n",
    "    if(out_h-In_h)>=1:\n",
    "        print(L[0],out_h-In_h)\n",
    "    "
   ]
  },
  {
   "cell_type": "code",
   "execution_count": 95,
   "metadata": {},
   "outputs": [
    {
     "name": "stdout",
     "output_type": "stream",
     "text": [
      "Enter nameVHA\n",
      "Vishal H Acharya\n"
     ]
    }
   ],
   "source": [
    "f=open(\"namelist.txt\")\n",
    "user=input(\"Enter name\")\n",
    "for line in f:\n",
    "    L=line.split()\n",
    "    if len(user)==2:\n",
    "         if (user[0]==L[0][0]) and user[1]==L[-1][0]:\n",
    "            print(\" \".join(L))\n",
    "    if len(user)==3 and len(L)==3:\n",
    "            if user[0]==L[0][0] and user[1]==L[1][0] and user[2]==L[2][0]:\n",
    "                print(\" \".join(L))\n",
    "                \n",
    "    \n",
    "    "
   ]
  },
  {
   "cell_type": "code",
   "execution_count": 5,
   "metadata": {},
   "outputs": [
    {
     "name": "stdout",
     "output_type": "stream",
     "text": [
      "D:\\Heer_T3\n",
      "D:\\mypython\n"
     ]
    }
   ],
   "source": [
    "import os\n",
    "print(os.getcwd())\n",
    "os.mkdir('D:\\\\mypython')\n",
    "os.mkdir('D:\\\\B3')\n",
    "os.chdir(\"D:\\\\mypython\")\n",
    "print(os.getcwd())\n"
   ]
  },
  {
   "cell_type": "code",
   "execution_count": 18,
   "metadata": {},
   "outputs": [
    {
     "name": "stdout",
     "output_type": "stream",
     "text": [
      "D:\\\n",
      "D:\\\n",
      "D:\\\n"
     ]
    },
    {
     "data": {
      "text/plain": [
       "['!qhlogs.doc',\n",
       " '$Recycle.Bin',\n",
       " '$WinREAgent',\n",
       " 'bootTel.dat',\n",
       " 'cfrbackup-QTCNGDNI',\n",
       " 'Config.Msi',\n",
       " 'Documents and Settings',\n",
       " 'DumpStack.log.tmp',\n",
       " 'hiberfil.sys',\n",
       " 'inetpub',\n",
       " 'Insight Files',\n",
       " 'Intel',\n",
       " 'logs',\n",
       " 'msdia80.dll',\n",
       " 'MSOCache',\n",
       " 'New Folder',\n",
       " 'oraclexe',\n",
       " 'pagefile.sys',\n",
       " 'PerfLogs',\n",
       " 'Program Files',\n",
       " 'Program Files (x86)',\n",
       " 'ProgramData',\n",
       " 'Recovery',\n",
       " 'swapfile.sys',\n",
       " 'System Volume Information',\n",
       " 'temp',\n",
       " 'TurboC++',\n",
       " 'Users',\n",
       " 'Windows',\n",
       " 'xampp']"
      ]
     },
     "execution_count": 18,
     "metadata": {},
     "output_type": "execute_result"
    }
   ],
   "source": [
    "import os\n",
    "print(os.getcwd()) \n",
    "# os.mkdir('D:\\\\mypython') # create directory\n",
    "\n",
    "print(os.getcwd())\n",
    "f1=open('v1.txt',\"w\")\n",
    "f1.write('hello')\n",
    "f1.close()\n",
    "f2=open('v2.txt','w')\n",
    "f2.write('welcome')\n",
    "f2.close()\n",
    "# os.remove('D:\\\\mypython\\\\v1.txt') \n",
    "# os.rmdir('D:\\\\B3') #remover or delete empty folder\n",
    "os.chdir('..') #shoes current drive #chdir change the directory\n",
    "print(os.getcwd())\n",
    "os.listdir(\"C:\") #display subfolders\n"
   ]
  },
  {
   "cell_type": "code",
   "execution_count": 19,
   "metadata": {},
   "outputs": [
    {
     "name": "stdout",
     "output_type": "stream",
     "text": [
      "Writing calc.py\n"
     ]
    }
   ],
   "source": [
    "%%writefile calc.py\n",
    "def add(a,b):\n",
    "    ans=a+b\n",
    "    return ans\n",
    "def multi(a,b):\n",
    "    ans=a*b\n",
    "    return ans\n"
   ]
  },
  {
   "cell_type": "code",
   "execution_count": 20,
   "metadata": {},
   "outputs": [],
   "source": [
    "import calc"
   ]
  },
  {
   "cell_type": "code",
   "execution_count": 21,
   "metadata": {},
   "outputs": [
    {
     "data": {
      "text/plain": [
       "7"
      ]
     },
     "execution_count": 21,
     "metadata": {},
     "output_type": "execute_result"
    }
   ],
   "source": [
    "calc.add(3,4)"
   ]
  },
  {
   "cell_type": "code",
   "execution_count": 22,
   "metadata": {},
   "outputs": [
    {
     "data": {
      "text/plain": [
       "6"
      ]
     },
     "execution_count": 22,
     "metadata": {},
     "output_type": "execute_result"
    }
   ],
   "source": [
    "calc.multi(3,2)"
   ]
  },
  {
   "cell_type": "code",
   "execution_count": 24,
   "metadata": {},
   "outputs": [
    {
     "data": {
      "text/plain": [
       "7"
      ]
     },
     "execution_count": 24,
     "metadata": {},
     "output_type": "execute_result"
    }
   ],
   "source": [
    "import calc as c\n",
    "c.add(3,4)"
   ]
  },
  {
   "cell_type": "code",
   "execution_count": 26,
   "metadata": {},
   "outputs": [
    {
     "name": "stdout",
     "output_type": "stream",
     "text": [
      "7\n",
      "56\n"
     ]
    }
   ],
   "source": [
    "from calc import add,multi\n",
    "print(add(3,4))\n",
    "print(multi(7,8))"
   ]
  },
  {
   "cell_type": "code",
   "execution_count": 36,
   "metadata": {},
   "outputs": [
    {
     "name": "stdout",
     "output_type": "stream",
     "text": [
      "Overwriting find.py\n"
     ]
    }
   ],
   "source": [
    "%%writefile find.py\n",
    "# str=input(\"Enter str\")\n",
    "# sub=input(\"enter str to find\")\n",
    "def find(str,sub):\n",
    "    for i in range(len(str)):\n",
    "         if str[i:i+len(sub)]==sub:\n",
    "            return i\n",
    "    return -1\n",
    "def rfind(str,sub): #find from RHS\n",
    "    ans=-1\n",
    "    for i in range(len(str)):\n",
    "        if str[i:i+len(sub)]==sub:\n",
    "            ans=i\n",
    "        \n",
    "    return ans\n",
    "    \n",
    "    \n",
    "\n",
    "    "
   ]
  },
  {
   "cell_type": "code",
   "execution_count": 37,
   "metadata": {},
   "outputs": [
    {
     "name": "stdout",
     "output_type": "stream",
     "text": [
      "10\n",
      "19\n"
     ]
    }
   ],
   "source": [
    "from find import find,rfind\n",
    "print(find(\"vishal is best and best\",\"best\"))\n",
    "print(rfind(\"vishal is best and best\",\"best\"))"
   ]
  },
  {
   "cell_type": "code",
   "execution_count": 38,
   "metadata": {},
   "outputs": [
    {
     "name": "stdout",
     "output_type": "stream",
     "text": [
      "<class 'int'>\n"
     ]
    }
   ],
   "source": [
    "x=5\n",
    "print(type(x))"
   ]
  },
  {
   "cell_type": "code",
   "execution_count": 39,
   "metadata": {},
   "outputs": [
    {
     "ename": "AttributeError",
     "evalue": "'list' object has no attribute 'upper'",
     "output_type": "error",
     "traceback": [
      "\u001b[1;31m---------------------------------------------------------------------------\u001b[0m",
      "\u001b[1;31mAttributeError\u001b[0m                            Traceback (most recent call last)",
      "\u001b[1;32m<ipython-input-39-72ee62ed8293>\u001b[0m in \u001b[0;36m<module>\u001b[1;34m\u001b[0m\n\u001b[0;32m      1\u001b[0m \u001b[0mL\u001b[0m\u001b[1;33m=\u001b[0m\u001b[1;33m[\u001b[0m\u001b[1;36m1\u001b[0m\u001b[1;33m,\u001b[0m\u001b[1;36m2\u001b[0m\u001b[1;33m,\u001b[0m\u001b[1;36m4\u001b[0m\u001b[1;33m]\u001b[0m\u001b[1;33m\u001b[0m\u001b[1;33m\u001b[0m\u001b[0m\n\u001b[1;32m----> 2\u001b[1;33m \u001b[0mL\u001b[0m\u001b[1;33m.\u001b[0m\u001b[0mupper\u001b[0m\u001b[1;33m(\u001b[0m\u001b[1;33m)\u001b[0m\u001b[1;33m\u001b[0m\u001b[1;33m\u001b[0m\u001b[0m\n\u001b[0m",
      "\u001b[1;31mAttributeError\u001b[0m: 'list' object has no attribute 'upper'"
     ]
    }
   ],
   "source": [
    "L=[1,2,4]\n",
    "L.upper()"
   ]
  },
  {
   "cell_type": "code",
   "execution_count": 40,
   "metadata": {},
   "outputs": [
    {
     "name": "stdout",
     "output_type": "stream",
     "text": [
      "<class 'function'>\n"
     ]
    }
   ],
   "source": [
    "def add():\n",
    "    return'fu'\n",
    "print(type(add))"
   ]
  },
  {
   "cell_type": "code",
   "execution_count": 42,
   "metadata": {},
   "outputs": [
    {
     "name": "stdout",
     "output_type": "stream",
     "text": [
      "2228097993664\n",
      "2228097849280\n"
     ]
    }
   ],
   "source": [
    "L=[1,2,3]\n",
    "print(id(L))\n",
    "print(id([1,2,3]))"
   ]
  },
  {
   "cell_type": "code",
   "execution_count": 1,
   "metadata": {},
   "outputs": [],
   "source": [
    "class Lj:\n",
    "    def __init__ (self):\n",
    "        self.name='vishal'\n",
    "        self.grade=10\n",
    "        \n",
    "    "
   ]
  },
  {
   "cell_type": "code",
   "execution_count": 2,
   "metadata": {},
   "outputs": [
    {
     "name": "stdout",
     "output_type": "stream",
     "text": [
      "1821173487744\n",
      "1821173488464\n"
     ]
    }
   ],
   "source": [
    "obj1= Lj()\n",
    "obj2 =Lj()\n",
    "print(id(obj1))\n",
    "print(id(obj2))"
   ]
  },
  {
   "cell_type": "code",
   "execution_count": 3,
   "metadata": {},
   "outputs": [
    {
     "data": {
      "text/plain": [
       "'vishal'"
      ]
     },
     "execution_count": 3,
     "metadata": {},
     "output_type": "execute_result"
    }
   ],
   "source": [
    "obj1.name"
   ]
  },
  {
   "cell_type": "code",
   "execution_count": 27,
   "metadata": {},
   "outputs": [
    {
     "ename": "KeyboardInterrupt",
     "evalue": "Interrupted by user",
     "output_type": "error",
     "traceback": [
      "\u001b[1;31m---------------------------------------------------------------------------\u001b[0m",
      "\u001b[1;31mKeyboardInterrupt\u001b[0m                         Traceback (most recent call last)",
      "\u001b[1;32m<ipython-input-27-057042b49199>\u001b[0m in \u001b[0;36m<module>\u001b[1;34m\u001b[0m\n\u001b[0;32m      9\u001b[0m         \u001b[0mself\u001b[0m\u001b[1;33m.\u001b[0m\u001b[0mname\u001b[0m\u001b[1;33m=\u001b[0m\u001b[0minput\u001b[0m\u001b[1;33m(\u001b[0m\u001b[1;33m)\u001b[0m\u001b[1;33m\u001b[0m\u001b[1;33m\u001b[0m\u001b[0m\n\u001b[0;32m     10\u001b[0m         \u001b[0mself\u001b[0m\u001b[1;33m.\u001b[0m\u001b[0mgrade\u001b[0m\u001b[1;33m=\u001b[0m\u001b[0mint\u001b[0m\u001b[1;33m(\u001b[0m\u001b[0minput\u001b[0m\u001b[1;33m(\u001b[0m\u001b[1;33m)\u001b[0m\u001b[1;33m)\u001b[0m\u001b[1;33m\u001b[0m\u001b[1;33m\u001b[0m\u001b[0m\n\u001b[1;32m---> 11\u001b[1;33m \u001b[0mo1\u001b[0m\u001b[1;33m=\u001b[0m\u001b[0mLj\u001b[0m\u001b[1;33m(\u001b[0m\u001b[1;33m)\u001b[0m\u001b[1;33m\u001b[0m\u001b[1;33m\u001b[0m\u001b[0m\n\u001b[0m\u001b[0;32m     12\u001b[0m \u001b[0mprint\u001b[0m\u001b[1;33m(\u001b[0m\u001b[0mo1\u001b[0m\u001b[1;33m.\u001b[0m\u001b[0mname\u001b[0m\u001b[1;33m)\u001b[0m\u001b[1;33m\u001b[0m\u001b[1;33m\u001b[0m\u001b[0m\n\u001b[0;32m     13\u001b[0m \u001b[0mo1\u001b[0m\u001b[1;33m.\u001b[0m\u001b[0mset\u001b[0m\u001b[1;33m(\u001b[0m\u001b[1;33m)\u001b[0m\u001b[1;33m\u001b[0m\u001b[1;33m\u001b[0m\u001b[0m\n",
      "\u001b[1;32m<ipython-input-27-057042b49199>\u001b[0m in \u001b[0;36m__init__\u001b[1;34m(self)\u001b[0m\n\u001b[0;32m      4\u001b[0m         \u001b[0mself\u001b[0m\u001b[1;33m.\u001b[0m\u001b[0mname\u001b[0m\u001b[1;33m=\u001b[0m\u001b[1;34m'vishal'\u001b[0m\u001b[1;33m\u001b[0m\u001b[1;33m\u001b[0m\u001b[0m\n\u001b[0;32m      5\u001b[0m         \u001b[0mself\u001b[0m\u001b[1;33m.\u001b[0m\u001b[0mgrade\u001b[0m\u001b[1;33m=\u001b[0m\u001b[1;36m10\u001b[0m\u001b[1;33m\u001b[0m\u001b[1;33m\u001b[0m\u001b[0m\n\u001b[1;32m----> 6\u001b[1;33m         \u001b[0mself\u001b[0m\u001b[1;33m.\u001b[0m\u001b[0mset\u001b[0m\u001b[1;33m(\u001b[0m\u001b[1;33m)\u001b[0m\u001b[1;33m\u001b[0m\u001b[1;33m\u001b[0m\u001b[0m\n\u001b[0m\u001b[0;32m      7\u001b[0m \u001b[1;33m\u001b[0m\u001b[0m\n\u001b[0;32m      8\u001b[0m     \u001b[1;32mdef\u001b[0m \u001b[0mset\u001b[0m\u001b[1;33m(\u001b[0m\u001b[0mself\u001b[0m\u001b[1;33m)\u001b[0m\u001b[1;33m:\u001b[0m\u001b[1;33m\u001b[0m\u001b[1;33m\u001b[0m\u001b[0m\n",
      "\u001b[1;32m<ipython-input-27-057042b49199>\u001b[0m in \u001b[0;36mset\u001b[1;34m(self)\u001b[0m\n\u001b[0;32m      7\u001b[0m \u001b[1;33m\u001b[0m\u001b[0m\n\u001b[0;32m      8\u001b[0m     \u001b[1;32mdef\u001b[0m \u001b[0mset\u001b[0m\u001b[1;33m(\u001b[0m\u001b[0mself\u001b[0m\u001b[1;33m)\u001b[0m\u001b[1;33m:\u001b[0m\u001b[1;33m\u001b[0m\u001b[1;33m\u001b[0m\u001b[0m\n\u001b[1;32m----> 9\u001b[1;33m         \u001b[0mself\u001b[0m\u001b[1;33m.\u001b[0m\u001b[0mname\u001b[0m\u001b[1;33m=\u001b[0m\u001b[0minput\u001b[0m\u001b[1;33m(\u001b[0m\u001b[1;33m)\u001b[0m\u001b[1;33m\u001b[0m\u001b[1;33m\u001b[0m\u001b[0m\n\u001b[0m\u001b[0;32m     10\u001b[0m         \u001b[0mself\u001b[0m\u001b[1;33m.\u001b[0m\u001b[0mgrade\u001b[0m\u001b[1;33m=\u001b[0m\u001b[0mint\u001b[0m\u001b[1;33m(\u001b[0m\u001b[0minput\u001b[0m\u001b[1;33m(\u001b[0m\u001b[1;33m)\u001b[0m\u001b[1;33m)\u001b[0m\u001b[1;33m\u001b[0m\u001b[1;33m\u001b[0m\u001b[0m\n\u001b[0;32m     11\u001b[0m \u001b[0mo1\u001b[0m\u001b[1;33m=\u001b[0m\u001b[0mLj\u001b[0m\u001b[1;33m(\u001b[0m\u001b[1;33m)\u001b[0m\u001b[1;33m\u001b[0m\u001b[1;33m\u001b[0m\u001b[0m\n",
      "\u001b[1;32mC:\\ProgramData\\Anaconda3\\lib\\site-packages\\ipykernel\\kernelbase.py\u001b[0m in \u001b[0;36mraw_input\u001b[1;34m(self, prompt)\u001b[0m\n\u001b[0;32m    858\u001b[0m                 \u001b[1;34m\"raw_input was called, but this frontend does not support input requests.\"\u001b[0m\u001b[1;33m\u001b[0m\u001b[1;33m\u001b[0m\u001b[0m\n\u001b[0;32m    859\u001b[0m             )\n\u001b[1;32m--> 860\u001b[1;33m         return self._input_request(str(prompt),\n\u001b[0m\u001b[0;32m    861\u001b[0m             \u001b[0mself\u001b[0m\u001b[1;33m.\u001b[0m\u001b[0m_parent_ident\u001b[0m\u001b[1;33m,\u001b[0m\u001b[1;33m\u001b[0m\u001b[1;33m\u001b[0m\u001b[0m\n\u001b[0;32m    862\u001b[0m             \u001b[0mself\u001b[0m\u001b[1;33m.\u001b[0m\u001b[0m_parent_header\u001b[0m\u001b[1;33m,\u001b[0m\u001b[1;33m\u001b[0m\u001b[1;33m\u001b[0m\u001b[0m\n",
      "\u001b[1;32mC:\\ProgramData\\Anaconda3\\lib\\site-packages\\ipykernel\\kernelbase.py\u001b[0m in \u001b[0;36m_input_request\u001b[1;34m(self, prompt, ident, parent, password)\u001b[0m\n\u001b[0;32m    902\u001b[0m             \u001b[1;32mexcept\u001b[0m \u001b[0mKeyboardInterrupt\u001b[0m\u001b[1;33m:\u001b[0m\u001b[1;33m\u001b[0m\u001b[1;33m\u001b[0m\u001b[0m\n\u001b[0;32m    903\u001b[0m                 \u001b[1;31m# re-raise KeyboardInterrupt, to truncate traceback\u001b[0m\u001b[1;33m\u001b[0m\u001b[1;33m\u001b[0m\u001b[1;33m\u001b[0m\u001b[0m\n\u001b[1;32m--> 904\u001b[1;33m                 \u001b[1;32mraise\u001b[0m \u001b[0mKeyboardInterrupt\u001b[0m\u001b[1;33m(\u001b[0m\u001b[1;34m\"Interrupted by user\"\u001b[0m\u001b[1;33m)\u001b[0m \u001b[1;32mfrom\u001b[0m \u001b[1;32mNone\u001b[0m\u001b[1;33m\u001b[0m\u001b[1;33m\u001b[0m\u001b[0m\n\u001b[0m\u001b[0;32m    905\u001b[0m             \u001b[1;32mexcept\u001b[0m \u001b[0mException\u001b[0m \u001b[1;32mas\u001b[0m \u001b[0me\u001b[0m\u001b[1;33m:\u001b[0m\u001b[1;33m\u001b[0m\u001b[1;33m\u001b[0m\u001b[0m\n\u001b[0;32m    906\u001b[0m                 \u001b[0mself\u001b[0m\u001b[1;33m.\u001b[0m\u001b[0mlog\u001b[0m\u001b[1;33m.\u001b[0m\u001b[0mwarning\u001b[0m\u001b[1;33m(\u001b[0m\u001b[1;34m\"Invalid Message:\"\u001b[0m\u001b[1;33m,\u001b[0m \u001b[0mexc_info\u001b[0m\u001b[1;33m=\u001b[0m\u001b[1;32mTrue\u001b[0m\u001b[1;33m)\u001b[0m\u001b[1;33m\u001b[0m\u001b[1;33m\u001b[0m\u001b[0m\n",
      "\u001b[1;31mKeyboardInterrupt\u001b[0m: Interrupted by user"
     ]
    }
   ],
   "source": [
    "#new\n",
    "class Lj:\n",
    "    def __init__ (self):\n",
    "        self.name='vishal'\n",
    "        self.grade=10\n",
    "        self.set()\n",
    "        \n",
    "    def set(self):\n",
    "        self.name=input()\n",
    "        self.grade=int(input())\n",
    "o1=Lj()\n",
    "print(o1.name)\n",
    "o1.set()\n",
    "print(o1.name)\n",
    "    "
   ]
  },
  {
   "cell_type": "code",
   "execution_count": 26,
   "metadata": {},
   "outputs": [
    {
     "name": "stdout",
     "output_type": "stream",
     "text": [
      "vishal\n",
      "10\n",
      "Heer\n",
      "100\n"
     ]
    }
   ],
   "source": [
    "#new\n",
    "class Lj:\n",
    "    def __init__ (self,name,grade):\n",
    "        self.name=name\n",
    "        self.grade=grade\n",
    "#         self.set()\n",
    "        \n",
    "    def set(self):\n",
    "        self.name=input()\n",
    "        self.grade=int(input())\n",
    "o1=Lj('vishal',10)\n",
    "o2=Lj('Heer',100)\n",
    "print(o1.name)\n",
    "print(o1.grade)\n",
    "print(o2.name)\n",
    "print(o2.grade)\n",
    "\n",
    "    "
   ]
  },
  {
   "cell_type": "code",
   "execution_count": 29,
   "metadata": {},
   "outputs": [
    {
     "name": "stdout",
     "output_type": "stream",
     "text": [
      "12\n"
     ]
    }
   ],
   "source": [
    "class Lj:\n",
    "    def __init__ (self,name,grade):\n",
    "        self.name=name\n",
    "        self.grade=grade\n",
    "        \n",
    "    def set(self,number):\n",
    "        self.grade+=number\n",
    "        print(self.grade)\n",
    "s1=Lj('heer',9)\n",
    "s1.set(3)"
   ]
  },
  {
   "cell_type": "code",
   "execution_count": 35,
   "metadata": {},
   "outputs": [
    {
     "name": "stdout",
     "output_type": "stream",
     "text": [
      "9\n"
     ]
    }
   ],
   "source": [
    "#default constructor\n",
    "class Lj:\n",
    "      def set(self,number):\n",
    "        print(number)\n",
    "s1=Lj()\n",
    "s1.set(9)"
   ]
  },
  {
   "cell_type": "code",
   "execution_count": 42,
   "metadata": {},
   "outputs": [
    {
     "name": "stdout",
     "output_type": "stream",
     "text": [
      "1821190273056\n",
      "1821190273056\n"
     ]
    },
    {
     "ename": "TypeError",
     "evalue": "set() takes 1 positional argument but 2 were given",
     "output_type": "error",
     "traceback": [
      "\u001b[1;31m---------------------------------------------------------------------------\u001b[0m",
      "\u001b[1;31mTypeError\u001b[0m                                 Traceback (most recent call last)",
      "\u001b[1;32m<ipython-input-42-3409501cb1c6>\u001b[0m in \u001b[0;36m<module>\u001b[1;34m\u001b[0m\n\u001b[0;32m     10\u001b[0m \u001b[0ms1\u001b[0m\u001b[1;33m=\u001b[0m\u001b[0mLj\u001b[0m\u001b[1;33m(\u001b[0m\u001b[1;34m'heer'\u001b[0m\u001b[1;33m,\u001b[0m\u001b[1;34m'9'\u001b[0m\u001b[1;33m)\u001b[0m\u001b[1;33m\u001b[0m\u001b[1;33m\u001b[0m\u001b[0m\n\u001b[0;32m     11\u001b[0m \u001b[0mprint\u001b[0m\u001b[1;33m(\u001b[0m\u001b[0mid\u001b[0m\u001b[1;33m(\u001b[0m\u001b[0ms1\u001b[0m\u001b[1;33m)\u001b[0m\u001b[1;33m)\u001b[0m\u001b[1;33m\u001b[0m\u001b[1;33m\u001b[0m\u001b[0m\n\u001b[1;32m---> 12\u001b[1;33m \u001b[0ms1\u001b[0m\u001b[1;33m.\u001b[0m\u001b[0mset\u001b[0m\u001b[1;33m(\u001b[0m\u001b[1;36m5\u001b[0m\u001b[1;33m)\u001b[0m\u001b[1;33m\u001b[0m\u001b[1;33m\u001b[0m\u001b[0m\n\u001b[0m\u001b[0;32m     13\u001b[0m \u001b[0ms2\u001b[0m\u001b[1;33m=\u001b[0m\u001b[0mLj\u001b[0m\u001b[1;33m(\u001b[0m\u001b[1;34m'VBU'\u001b[0m\u001b[1;33m,\u001b[0m\u001b[1;34m'10'\u001b[0m\u001b[1;33m)\u001b[0m\u001b[1;33m\u001b[0m\u001b[1;33m\u001b[0m\u001b[0m\n\u001b[0;32m     14\u001b[0m \u001b[0mprint\u001b[0m\u001b[1;33m(\u001b[0m\u001b[0mid\u001b[0m\u001b[1;33m(\u001b[0m\u001b[0ms2\u001b[0m\u001b[1;33m)\u001b[0m\u001b[1;33m)\u001b[0m\u001b[1;33m\u001b[0m\u001b[1;33m\u001b[0m\u001b[0m\n",
      "\u001b[1;31mTypeError\u001b[0m: set() takes 1 positional argument but 2 were given"
     ]
    }
   ],
   "source": [
    "class Lj:\n",
    "    def __init__ (self,name,grade):\n",
    "        self.name=name\n",
    "        self.grade=grade\n",
    "        print(id(self))\n",
    "        \n",
    "    def set(number):\n",
    "        \n",
    "        print(number)\n",
    "s1=Lj('heer','9')\n",
    "print(id(s1))\n",
    "s1.set(5)\n",
    "s2=Lj('VBU','10')\n",
    "print(id(s2))"
   ]
  },
  {
   "cell_type": "code",
   "execution_count": 47,
   "metadata": {},
   "outputs": [
    {
     "name": "stdout",
     "output_type": "stream",
     "text": [
      "{'name': 'v', 'grade': 10}\n",
      "{'name': 'H', 'grade': 9}\n",
      "{'name': 'vishal', 'grade': 10}\n",
      "{'name': 'vishal', 'grade': 10, 'age': 25}\n",
      "{'name': 'vishal', 'grade': 10, 'age': 25}\n"
     ]
    }
   ],
   "source": [
    "class Lj:\n",
    "    def __init__ (self,name,grade):\n",
    "        self.name=name\n",
    "        self.grade=grade\n",
    "       \n",
    "        \n",
    "    def set(self,number):\n",
    "        print(number)\n",
    "s1=Lj('v',10)\n",
    "print(s1.__dict__)\n",
    "s2=Lj('H',9)\n",
    "print(s2.__dict__)\n",
    "s1.name='vishal'\n",
    "print(s1.__dict__)\n",
    "s1.age=25\n",
    "print(s1.__dict__)\n",
    "print(s1.__dict__)"
   ]
  },
  {
   "cell_type": "code",
   "execution_count": 48,
   "metadata": {},
   "outputs": [],
   "source": [
    "class Vishal:\n",
    "    movie='pushpa'\n",
    "    def __init__(self,bud,rev):\n",
    "        self.bud=1000\n",
    "        self.rev=2000\n",
    "    def set(self):\n",
    "        print(self.movie)\n",
    "    "
   ]
  },
  {
   "cell_type": "code",
   "execution_count": 61,
   "metadata": {},
   "outputs": [
    {
     "name": "stdout",
     "output_type": "stream",
     "text": [
      "pushpa2\n",
      "1000\n",
      "{'bud': 1000, 'rev': 2000}\n",
      "pushpa3\n",
      "50\n",
      "{'bud': 50, 'rev': 2000, 'movie': 'pushpa3'}\n",
      "pushpa2\n",
      "pushpa2\n",
      "pushpa2\n"
     ]
    }
   ],
   "source": [
    "o=Vishal(10,20)\n",
    "print(o.movie)\n",
    "print(o.bud)\n",
    "print(o.__dict__)\n",
    "o.bud=50\n",
    "o.movie='pushpa3'\n",
    "print(o.movie)\n",
    "print(o.bud)\n",
    "print(o.__dict__)\n",
    "print(Vishal.movie)\n",
    "Vishal.movie='pushpa2'\n",
    "print(Vishal.movie)\n",
    "o1=Vishal(70,80)\n",
    "print(o1.movie)"
   ]
  },
  {
   "cell_type": "code",
   "execution_count": 66,
   "metadata": {},
   "outputs": [
    {
     "name": "stdout",
     "output_type": "stream",
     "text": [
      "class B3 is created\n",
      "Hi\n"
     ]
    }
   ],
   "source": [
    "#destructor\n",
    "class Vishal:\n",
    "    def __init__ (self):\n",
    "        print('class B3 is created')\n",
    "    def __int__(self):\n",
    "        print('class B3 is deleted')\n",
    "    def display(self):\n",
    "        print('Hi')\n",
    "V=Vishal()\n",
    "V.display()\n",
    "del V\n",
    "# V.display()"
   ]
  },
  {
   "cell_type": "code",
   "execution_count": 70,
   "metadata": {},
   "outputs": [
    {
     "name": "stdout",
     "output_type": "stream",
     "text": [
      "1\n",
      "4\n",
      "9\n",
      "16\n",
      "25\n",
      "36\n",
      "49\n",
      "64\n",
      "81\n",
      "100\n"
     ]
    }
   ],
   "source": [
    "#generator\n",
    "def square(num):\n",
    "    for i in range(1,num+1):\n",
    "        yield i**2\n",
    "gen=square(10)\n",
    "print(next(gen))\n",
    "print(next(gen))\n",
    "for i in gen:\n",
    "    print(i)"
   ]
  },
  {
   "cell_type": "code",
   "execution_count": 75,
   "metadata": {},
   "outputs": [
    {
     "name": "stdout",
     "output_type": "stream",
     "text": [
      "<generator object <genexpr> at 0x000001A8076802E0>\n",
      "<class 'generator'>\n"
     ]
    }
   ],
   "source": [
    "L=[i for i in range(1,100)]\n",
    "L=(i for i in range(1,100))\n",
    "print(L) #generator\n",
    "print(type(L))"
   ]
  },
  {
   "cell_type": "code",
   "execution_count": null,
   "metadata": {},
   "outputs": [],
   "source": []
  }
 ],
 "metadata": {
  "kernelspec": {
   "display_name": "Python 3",
   "language": "python",
   "name": "python3"
  },
  "language_info": {
   "codemirror_mode": {
    "name": "ipython",
    "version": 3
   },
   "file_extension": ".py",
   "mimetype": "text/x-python",
   "name": "python",
   "nbconvert_exporter": "python",
   "pygments_lexer": "ipython3",
   "version": "3.8.5"
  }
 },
 "nbformat": 4,
 "nbformat_minor": 4
}
