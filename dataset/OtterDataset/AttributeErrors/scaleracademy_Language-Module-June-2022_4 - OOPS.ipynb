{
 "cells": [
  {
   "cell_type": "code",
   "execution_count": 5,
   "id": "6b102e10",
   "metadata": {},
   "outputs": [],
   "source": [
    "class A:\n",
    "    pass"
   ]
  },
  {
   "cell_type": "code",
   "execution_count": 6,
   "id": "5aa63030",
   "metadata": {},
   "outputs": [],
   "source": [
    "a = A()"
   ]
  },
  {
   "cell_type": "code",
   "execution_count": 7,
   "id": "89de3d5e",
   "metadata": {},
   "outputs": [
    {
     "data": {
      "text/plain": [
       "__main__.A"
      ]
     },
     "execution_count": 7,
     "metadata": {},
     "output_type": "execute_result"
    }
   ],
   "source": [
    "type(a)"
   ]
  },
  {
   "cell_type": "code",
   "execution_count": 8,
   "id": "984ec7d5",
   "metadata": {},
   "outputs": [
    {
     "data": {
      "text/plain": [
       "'__main__'"
      ]
     },
     "execution_count": 8,
     "metadata": {},
     "output_type": "execute_result"
    }
   ],
   "source": [
    "__name__"
   ]
  },
  {
   "cell_type": "code",
   "execution_count": 9,
   "id": "9c26f19d",
   "metadata": {},
   "outputs": [
    {
     "data": {
      "text/plain": [
       "8"
      ]
     },
     "execution_count": 9,
     "metadata": {},
     "output_type": "execute_result"
    }
   ],
   "source": [
    "4 + 4"
   ]
  },
  {
   "cell_type": "code",
   "execution_count": 10,
   "id": "f8dff6dc",
   "metadata": {},
   "outputs": [
    {
     "data": {
      "text/plain": [
       "'strstr2'"
      ]
     },
     "execution_count": 10,
     "metadata": {},
     "output_type": "execute_result"
    }
   ],
   "source": [
    "\"str\" + \"str2\""
   ]
  },
  {
   "cell_type": "code",
   "execution_count": 11,
   "id": "a16938e9",
   "metadata": {},
   "outputs": [
    {
     "data": {
      "text/plain": [
       "[1, 3, 4, 3, 4, 5]"
      ]
     },
     "execution_count": 11,
     "metadata": {},
     "output_type": "execute_result"
    }
   ],
   "source": [
    "[1,3,4] + [3,4,5]"
   ]
  },
  {
   "cell_type": "code",
   "execution_count": 12,
   "id": "b3ec5270",
   "metadata": {},
   "outputs": [],
   "source": [
    "class Student:\n",
    "    def __init__(self, name):\n",
    "        self.name = name"
   ]
  },
  {
   "cell_type": "code",
   "execution_count": 14,
   "id": "21333744",
   "metadata": {},
   "outputs": [],
   "source": [
    "s1 = Student(\"bipin\")\n",
    "# Student.__init__(s1, \"bipin\")"
   ]
  },
  {
   "cell_type": "code",
   "execution_count": 15,
   "id": "fe133082",
   "metadata": {},
   "outputs": [
    {
     "data": {
      "text/plain": [
       "'bipin'"
      ]
     },
     "execution_count": 15,
     "metadata": {},
     "output_type": "execute_result"
    }
   ],
   "source": [
    "s1.name"
   ]
  },
  {
   "cell_type": "code",
   "execution_count": 20,
   "id": "f7813fc2",
   "metadata": {},
   "outputs": [],
   "source": [
    "class Random:\n",
    "    def hello(self):\n",
    "        print(\"hello!!!\")"
   ]
  },
  {
   "cell_type": "code",
   "execution_count": 21,
   "id": "d3221351",
   "metadata": {},
   "outputs": [
    {
     "ename": "TypeError",
     "evalue": "hello() missing 1 required positional argument: 'self'",
     "output_type": "error",
     "traceback": [
      "\u001b[0;31m---------------------------------------------------------------------------\u001b[0m",
      "\u001b[0;31mTypeError\u001b[0m                                 Traceback (most recent call last)",
      "\u001b[0;32m/var/folders/nn/c52y0d3j0gq59dpsswchkt2r0000gn/T/ipykernel_94726/2676520676.py\u001b[0m in \u001b[0;36m<module>\u001b[0;34m\u001b[0m\n\u001b[0;32m----> 1\u001b[0;31m \u001b[0mRandom\u001b[0m\u001b[0;34m.\u001b[0m\u001b[0mhello\u001b[0m\u001b[0;34m(\u001b[0m\u001b[0;34m)\u001b[0m\u001b[0;34m\u001b[0m\u001b[0;34m\u001b[0m\u001b[0m\n\u001b[0m",
      "\u001b[0;31mTypeError\u001b[0m: hello() missing 1 required positional argument: 'self'"
     ]
    }
   ],
   "source": [
    "Random.hello()"
   ]
  },
  {
   "cell_type": "code",
   "execution_count": 22,
   "id": "23d77af8",
   "metadata": {},
   "outputs": [],
   "source": [
    "r1 = Random()"
   ]
  },
  {
   "cell_type": "code",
   "execution_count": 23,
   "id": "072b2b19",
   "metadata": {},
   "outputs": [
    {
     "name": "stdout",
     "output_type": "stream",
     "text": [
      "hello!!!\n"
     ]
    }
   ],
   "source": [
    "r1.hello()\n",
    "# Random.hello(r1)"
   ]
  },
  {
   "cell_type": "code",
   "execution_count": 24,
   "id": "3b68ead0",
   "metadata": {},
   "outputs": [],
   "source": [
    "class Student:\n",
    "    def __init__(self, name):\n",
    "        self.name = name"
   ]
  },
  {
   "cell_type": "code",
   "execution_count": 25,
   "id": "df68d8ee",
   "metadata": {},
   "outputs": [],
   "source": [
    "s1 = Student(\"Bipin\")"
   ]
  },
  {
   "cell_type": "code",
   "execution_count": 26,
   "id": "c7106af7",
   "metadata": {},
   "outputs": [
    {
     "data": {
      "text/plain": [
       "'Bipin'"
      ]
     },
     "execution_count": 26,
     "metadata": {},
     "output_type": "execute_result"
    }
   ],
   "source": [
    "s1.name"
   ]
  },
  {
   "cell_type": "code",
   "execution_count": 27,
   "id": "af6171b1",
   "metadata": {},
   "outputs": [],
   "source": [
    "s1.name = \"Some random name\""
   ]
  },
  {
   "cell_type": "code",
   "execution_count": 28,
   "id": "91f2f8ad",
   "metadata": {},
   "outputs": [
    {
     "data": {
      "text/plain": [
       "'Some random name'"
      ]
     },
     "execution_count": 28,
     "metadata": {},
     "output_type": "execute_result"
    }
   ],
   "source": [
    "s1.name"
   ]
  },
  {
   "cell_type": "code",
   "execution_count": null,
   "id": "0bed86a5",
   "metadata": {},
   "outputs": [],
   "source": []
  },
  {
   "cell_type": "code",
   "execution_count": 29,
   "id": "3d5b943f",
   "metadata": {},
   "outputs": [
    {
     "data": {
      "text/plain": [
       "<__main__.Student at 0x7fa2d012bc40>"
      ]
     },
     "execution_count": 29,
     "metadata": {},
     "output_type": "execute_result"
    }
   ],
   "source": [
    "Student(\"bipin\")"
   ]
  },
  {
   "cell_type": "code",
   "execution_count": 31,
   "id": "870ecea9",
   "metadata": {},
   "outputs": [],
   "source": [
    "class A:\n",
    "    dummy_variable = \"random\"\n",
    "    \n",
    "    def __init__(self, value):\n",
    "        self.value = value"
   ]
  },
  {
   "cell_type": "code",
   "execution_count": 32,
   "id": "348df380",
   "metadata": {},
   "outputs": [],
   "source": [
    "a = A(45)"
   ]
  },
  {
   "cell_type": "code",
   "execution_count": 33,
   "id": "551811a0",
   "metadata": {},
   "outputs": [
    {
     "data": {
      "text/plain": [
       "45"
      ]
     },
     "execution_count": 33,
     "metadata": {},
     "output_type": "execute_result"
    }
   ],
   "source": [
    "a.value"
   ]
  },
  {
   "cell_type": "code",
   "execution_count": 34,
   "id": "7acadce7",
   "metadata": {},
   "outputs": [
    {
     "data": {
      "text/plain": [
       "'random'"
      ]
     },
     "execution_count": 34,
     "metadata": {},
     "output_type": "execute_result"
    }
   ],
   "source": [
    "a.dummy_variable"
   ]
  },
  {
   "cell_type": "code",
   "execution_count": 35,
   "id": "55160984",
   "metadata": {},
   "outputs": [],
   "source": [
    "b = A(56)"
   ]
  },
  {
   "cell_type": "code",
   "execution_count": 36,
   "id": "837d218d",
   "metadata": {},
   "outputs": [
    {
     "data": {
      "text/plain": [
       "56"
      ]
     },
     "execution_count": 36,
     "metadata": {},
     "output_type": "execute_result"
    }
   ],
   "source": [
    "b.value"
   ]
  },
  {
   "cell_type": "code",
   "execution_count": 37,
   "id": "628c24a8",
   "metadata": {},
   "outputs": [
    {
     "data": {
      "text/plain": [
       "'random'"
      ]
     },
     "execution_count": 37,
     "metadata": {},
     "output_type": "execute_result"
    }
   ],
   "source": [
    "b.dummy_variable"
   ]
  },
  {
   "cell_type": "code",
   "execution_count": 38,
   "id": "61064f9e",
   "metadata": {},
   "outputs": [
    {
     "data": {
      "text/plain": [
       "'random'"
      ]
     },
     "execution_count": 38,
     "metadata": {},
     "output_type": "execute_result"
    }
   ],
   "source": [
    "A.dummy_variable"
   ]
  },
  {
   "cell_type": "code",
   "execution_count": 39,
   "id": "1faba932",
   "metadata": {},
   "outputs": [
    {
     "ename": "AttributeError",
     "evalue": "type object 'A' has no attribute 'value'",
     "output_type": "error",
     "traceback": [
      "\u001b[0;31m---------------------------------------------------------------------------\u001b[0m",
      "\u001b[0;31mAttributeError\u001b[0m                            Traceback (most recent call last)",
      "\u001b[0;32m/var/folders/nn/c52y0d3j0gq59dpsswchkt2r0000gn/T/ipykernel_94726/488774127.py\u001b[0m in \u001b[0;36m<module>\u001b[0;34m\u001b[0m\n\u001b[0;32m----> 1\u001b[0;31m \u001b[0mA\u001b[0m\u001b[0;34m.\u001b[0m\u001b[0mvalue\u001b[0m\u001b[0;34m\u001b[0m\u001b[0;34m\u001b[0m\u001b[0m\n\u001b[0m",
      "\u001b[0;31mAttributeError\u001b[0m: type object 'A' has no attribute 'value'"
     ]
    }
   ],
   "source": [
    "A.value"
   ]
  },
  {
   "cell_type": "code",
   "execution_count": 62,
   "id": "e8753542",
   "metadata": {},
   "outputs": [],
   "source": [
    "class Dog:\n",
    "    tricks = []\n",
    "    \n",
    "    def __init__(self, name):\n",
    "        self.name = name\n",
    "        self.tricks = []\n",
    "        \n",
    "    def teach_trick(self, trick):\n",
    "        self.tricks.append(trick)"
   ]
  },
  {
   "cell_type": "code",
   "execution_count": 55,
   "id": "fdf3402d",
   "metadata": {},
   "outputs": [],
   "source": [
    "d1 = Dog(\"tuffy\")"
   ]
  },
  {
   "cell_type": "code",
   "execution_count": 56,
   "id": "e0480891",
   "metadata": {},
   "outputs": [],
   "source": [
    "d2 = Dog(\"scooby\")"
   ]
  },
  {
   "cell_type": "code",
   "execution_count": 57,
   "id": "a0e26934",
   "metadata": {},
   "outputs": [
    {
     "data": {
      "text/plain": [
       "'tuffy'"
      ]
     },
     "execution_count": 57,
     "metadata": {},
     "output_type": "execute_result"
    }
   ],
   "source": [
    "d1.name"
   ]
  },
  {
   "cell_type": "code",
   "execution_count": 58,
   "id": "f94f6bad",
   "metadata": {},
   "outputs": [
    {
     "data": {
      "text/plain": [
       "'scooby'"
      ]
     },
     "execution_count": 58,
     "metadata": {},
     "output_type": "execute_result"
    }
   ],
   "source": [
    "d2.name"
   ]
  },
  {
   "cell_type": "code",
   "execution_count": 59,
   "id": "697f3fd7",
   "metadata": {},
   "outputs": [],
   "source": [
    "d1.teach_trick(\"stand\")"
   ]
  },
  {
   "cell_type": "code",
   "execution_count": 60,
   "id": "9c6f18df",
   "metadata": {},
   "outputs": [
    {
     "data": {
      "text/plain": [
       "['stand']"
      ]
     },
     "execution_count": 60,
     "metadata": {},
     "output_type": "execute_result"
    }
   ],
   "source": [
    "d1.tricks"
   ]
  },
  {
   "cell_type": "code",
   "execution_count": 61,
   "id": "4a8bae5a",
   "metadata": {},
   "outputs": [
    {
     "data": {
      "text/plain": [
       "[]"
      ]
     },
     "execution_count": 61,
     "metadata": {},
     "output_type": "execute_result"
    }
   ],
   "source": [
    "d2.tricks"
   ]
  },
  {
   "cell_type": "code",
   "execution_count": 65,
   "id": "1e69a7e6",
   "metadata": {},
   "outputs": [],
   "source": [
    "class Dog:\n",
    "    tricks = []\n",
    "    breed = \"german shepherd\"\n",
    "    \n",
    "    def __init__(self, name):\n",
    "        self.name = name\n",
    "#         self.tricks = []\n",
    "        \n",
    "    def teach_trick(self, trick):\n",
    "        self.tricks.append(trick)"
   ]
  },
  {
   "cell_type": "code",
   "execution_count": 66,
   "id": "cfdfa6ff",
   "metadata": {},
   "outputs": [],
   "source": [
    "d1 = Dog(\"tuffy\")\n",
    "d2 = Dog(\"scooby\")"
   ]
  },
  {
   "cell_type": "code",
   "execution_count": 67,
   "id": "d3f6fd7b",
   "metadata": {},
   "outputs": [
    {
     "data": {
      "text/plain": [
       "'german shepherd'"
      ]
     },
     "execution_count": 67,
     "metadata": {},
     "output_type": "execute_result"
    }
   ],
   "source": [
    "d1.breed"
   ]
  },
  {
   "cell_type": "code",
   "execution_count": 69,
   "id": "da506846",
   "metadata": {},
   "outputs": [
    {
     "data": {
      "text/plain": [
       "'german shepherd'"
      ]
     },
     "execution_count": 69,
     "metadata": {},
     "output_type": "execute_result"
    }
   ],
   "source": [
    "d2.breed"
   ]
  },
  {
   "cell_type": "code",
   "execution_count": 70,
   "id": "b5c2d8fa",
   "metadata": {},
   "outputs": [],
   "source": [
    "d2.breed = \"labra\""
   ]
  },
  {
   "cell_type": "code",
   "execution_count": 71,
   "id": "fe22f4f3",
   "metadata": {},
   "outputs": [
    {
     "data": {
      "text/plain": [
       "'german shepherd'"
      ]
     },
     "execution_count": 71,
     "metadata": {},
     "output_type": "execute_result"
    }
   ],
   "source": [
    "d1.breed"
   ]
  },
  {
   "cell_type": "code",
   "execution_count": 72,
   "id": "5c3d665a",
   "metadata": {},
   "outputs": [
    {
     "data": {
      "text/plain": [
       "'german shepherd'"
      ]
     },
     "execution_count": 72,
     "metadata": {},
     "output_type": "execute_result"
    }
   ],
   "source": [
    "Dog.breed"
   ]
  },
  {
   "cell_type": "code",
   "execution_count": 73,
   "id": "7a84a6a5",
   "metadata": {},
   "outputs": [],
   "source": [
    "Dog.breed = \"random\""
   ]
  },
  {
   "cell_type": "code",
   "execution_count": 74,
   "id": "8f93c1e8",
   "metadata": {},
   "outputs": [
    {
     "data": {
      "text/plain": [
       "'random'"
      ]
     },
     "execution_count": 74,
     "metadata": {},
     "output_type": "execute_result"
    }
   ],
   "source": [
    "Dog.breed"
   ]
  },
  {
   "cell_type": "code",
   "execution_count": 75,
   "id": "484ec96e",
   "metadata": {},
   "outputs": [
    {
     "data": {
      "text/plain": [
       "'labra'"
      ]
     },
     "execution_count": 75,
     "metadata": {},
     "output_type": "execute_result"
    }
   ],
   "source": [
    "d2.breed"
   ]
  },
  {
   "cell_type": "code",
   "execution_count": 76,
   "id": "10fa61d1",
   "metadata": {},
   "outputs": [
    {
     "data": {
      "text/plain": [
       "'random'"
      ]
     },
     "execution_count": 76,
     "metadata": {},
     "output_type": "execute_result"
    }
   ],
   "source": [
    "d1.breed"
   ]
  },
  {
   "cell_type": "markdown",
   "id": "45c941c8",
   "metadata": {},
   "source": [
    "## DUNDERS"
   ]
  },
  {
   "cell_type": "code",
   "execution_count": 101,
   "id": "efbe4962",
   "metadata": {},
   "outputs": [],
   "source": [
    "class Car:\n",
    "    def __init__(self, name, milaege):\n",
    "        self.name = name\n",
    "        self.milaege = milaege\n",
    "        \n",
    "    def __str__(self):\n",
    "        return f\"{self.name} -> {self.milaege}\"\n",
    "    \n",
    "    def __add__(self, other):\n",
    "        return self.milaege + other.milaege\n",
    "    \n",
    "    def __call__(self):\n",
    "        return \"I WAS JUST CALLED! HOW COOL IS THAT?\"\n",
    "    \n",
    "    def __gt__(self, other):\n",
    "        return self.milaege > other.milaege"
   ]
  },
  {
   "cell_type": "code",
   "execution_count": 102,
   "id": "2d936fb5",
   "metadata": {},
   "outputs": [],
   "source": [
    "c1 = Car(\"Nexon\", 13)\n",
    "c2 = Car(\"Altroz\", 15)"
   ]
  },
  {
   "cell_type": "code",
   "execution_count": 103,
   "id": "a4b404fb",
   "metadata": {},
   "outputs": [
    {
     "name": "stdout",
     "output_type": "stream",
     "text": [
      "Nexon -> 13\n"
     ]
    }
   ],
   "source": [
    "print(c1)"
   ]
  },
  {
   "cell_type": "code",
   "execution_count": 104,
   "id": "540df04a",
   "metadata": {},
   "outputs": [
    {
     "data": {
      "text/plain": [
       "28"
      ]
     },
     "execution_count": 104,
     "metadata": {},
     "output_type": "execute_result"
    }
   ],
   "source": [
    "c1 + c2"
   ]
  },
  {
   "cell_type": "code",
   "execution_count": 105,
   "id": "6f1d4f53",
   "metadata": {},
   "outputs": [
    {
     "data": {
      "text/plain": [
       "'I WAS JUST CALLED! HOW COOL IS THAT?'"
      ]
     },
     "execution_count": 105,
     "metadata": {},
     "output_type": "execute_result"
    }
   ],
   "source": [
    "c1()"
   ]
  },
  {
   "cell_type": "code",
   "execution_count": 106,
   "id": "ebbe94a7",
   "metadata": {},
   "outputs": [
    {
     "data": {
      "text/plain": [
       "False"
      ]
     },
     "execution_count": 106,
     "metadata": {},
     "output_type": "execute_result"
    }
   ],
   "source": [
    "c1 > c2"
   ]
  },
  {
   "cell_type": "code",
   "execution_count": 107,
   "id": "5e704d28",
   "metadata": {},
   "outputs": [],
   "source": [
    "it = iter(range(0,5))"
   ]
  },
  {
   "cell_type": "code",
   "execution_count": 108,
   "id": "c5ccc281",
   "metadata": {},
   "outputs": [
    {
     "data": {
      "text/plain": [
       "0"
      ]
     },
     "execution_count": 108,
     "metadata": {},
     "output_type": "execute_result"
    }
   ],
   "source": [
    "next(it)"
   ]
  },
  {
   "cell_type": "code",
   "execution_count": 109,
   "id": "480e8b97",
   "metadata": {},
   "outputs": [],
   "source": [
    "# CREATION OF YOUR OWN CUSTOM ITERABLE"
   ]
  },
  {
   "cell_type": "code",
   "execution_count": 110,
   "id": "7e9b8352",
   "metadata": {},
   "outputs": [],
   "source": [
    "# Inheritence"
   ]
  },
  {
   "cell_type": "code",
   "execution_count": 121,
   "id": "3c825fc5",
   "metadata": {},
   "outputs": [],
   "source": [
    "class SchoolMember:\n",
    "    def __init__(self, name):\n",
    "        self.name = name\n",
    "        \n",
    "class Student(SchoolMember):\n",
    "    def __init__(self, name, grade):\n",
    "#         super().__init__(name)\n",
    "        SchoolMember.__init__(self, name)\n",
    "        self.grade = grade"
   ]
  },
  {
   "cell_type": "code",
   "execution_count": 122,
   "id": "be353c7f",
   "metadata": {},
   "outputs": [],
   "source": [
    "s1 = Student(\"Amit\", \"A1\")"
   ]
  },
  {
   "cell_type": "code",
   "execution_count": 123,
   "id": "1a0c8b83",
   "metadata": {},
   "outputs": [
    {
     "data": {
      "text/plain": [
       "'A1'"
      ]
     },
     "execution_count": 123,
     "metadata": {},
     "output_type": "execute_result"
    }
   ],
   "source": [
    "s1.grade"
   ]
  },
  {
   "cell_type": "code",
   "execution_count": 124,
   "id": "63ced8ee",
   "metadata": {},
   "outputs": [
    {
     "data": {
      "text/plain": [
       "'Amit'"
      ]
     },
     "execution_count": 124,
     "metadata": {},
     "output_type": "execute_result"
    }
   ],
   "source": [
    "s1.name"
   ]
  },
  {
   "cell_type": "code",
   "execution_count": 134,
   "id": "6307004c",
   "metadata": {},
   "outputs": [],
   "source": [
    "class A:\n",
    "    def __init__(self, a):\n",
    "        self.a = a\n",
    "        \n",
    "class B:\n",
    "    def __init__(self, b):\n",
    "        self.b = b\n",
    "        \n",
    "class C(A,B):\n",
    "    def __init__(self, a, b, c):\n",
    "        A.__init__(self, a)\n",
    "        B.__init__(self, b)\n",
    "        self.c = c"
   ]
  },
  {
   "cell_type": "code",
   "execution_count": 135,
   "id": "54181bc9",
   "metadata": {},
   "outputs": [],
   "source": [
    "c = C(3,4,5)"
   ]
  },
  {
   "cell_type": "code",
   "execution_count": 136,
   "id": "f1b518a3",
   "metadata": {},
   "outputs": [
    {
     "data": {
      "text/plain": [
       "3"
      ]
     },
     "execution_count": 136,
     "metadata": {},
     "output_type": "execute_result"
    }
   ],
   "source": [
    "c.a"
   ]
  },
  {
   "cell_type": "code",
   "execution_count": 137,
   "id": "4f69ba30",
   "metadata": {},
   "outputs": [
    {
     "data": {
      "text/plain": [
       "4"
      ]
     },
     "execution_count": 137,
     "metadata": {},
     "output_type": "execute_result"
    }
   ],
   "source": [
    "c.b"
   ]
  },
  {
   "cell_type": "code",
   "execution_count": 138,
   "id": "0882bd95",
   "metadata": {},
   "outputs": [],
   "source": [
    "# HOMEWORK\n",
    "# YOU CAN DO THIS WITH SUPER - TRY IT OUT"
   ]
  },
  {
   "cell_type": "code",
   "execution_count": 152,
   "id": "a4426c76",
   "metadata": {},
   "outputs": [],
   "source": [
    "class BankAccount:\n",
    "    def __init__(self, balance):\n",
    "        self.__balance = balance\n",
    "        \n",
    "    def deposit(self, amount):\n",
    "        self.__balance += amount\n",
    "        \n",
    "    def withdraw(self, amount):\n",
    "        self.__balance -= amount\n",
    "        \n",
    "    def showbalance(self):\n",
    "        return self.__balance"
   ]
  },
  {
   "cell_type": "code",
   "execution_count": 153,
   "id": "4a83a6f2",
   "metadata": {},
   "outputs": [],
   "source": [
    "b1 = BankAccount(10000)"
   ]
  },
  {
   "cell_type": "code",
   "execution_count": 154,
   "id": "8eefec53",
   "metadata": {},
   "outputs": [
    {
     "data": {
      "text/plain": [
       "10000"
      ]
     },
     "execution_count": 154,
     "metadata": {},
     "output_type": "execute_result"
    }
   ],
   "source": [
    "b1.showbalance()"
   ]
  },
  {
   "cell_type": "code",
   "execution_count": 142,
   "id": "1e6cc0ea",
   "metadata": {},
   "outputs": [],
   "source": [
    "b1.deposit(5000)"
   ]
  },
  {
   "cell_type": "code",
   "execution_count": 143,
   "id": "32f05c9d",
   "metadata": {},
   "outputs": [
    {
     "data": {
      "text/plain": [
       "15000"
      ]
     },
     "execution_count": 143,
     "metadata": {},
     "output_type": "execute_result"
    }
   ],
   "source": [
    "b1.balance"
   ]
  },
  {
   "cell_type": "code",
   "execution_count": 144,
   "id": "c8004169",
   "metadata": {},
   "outputs": [],
   "source": [
    "b1.withdraw(15000)"
   ]
  },
  {
   "cell_type": "code",
   "execution_count": 145,
   "id": "45c7d982",
   "metadata": {},
   "outputs": [
    {
     "data": {
      "text/plain": [
       "0"
      ]
     },
     "execution_count": 145,
     "metadata": {},
     "output_type": "execute_result"
    }
   ],
   "source": [
    "b1.balance"
   ]
  },
  {
   "cell_type": "code",
   "execution_count": 146,
   "id": "32b480d0",
   "metadata": {},
   "outputs": [],
   "source": [
    "b1.balance = 1000000000000000000000000000000000"
   ]
  },
  {
   "cell_type": "code",
   "execution_count": 158,
   "id": "ae9adf03",
   "metadata": {},
   "outputs": [],
   "source": [
    "b1._BankAccount__balance = 10000000"
   ]
  },
  {
   "cell_type": "code",
   "execution_count": 159,
   "id": "c0470a54",
   "metadata": {},
   "outputs": [
    {
     "data": {
      "text/plain": [
       "10000000"
      ]
     },
     "execution_count": 159,
     "metadata": {},
     "output_type": "execute_result"
    }
   ],
   "source": [
    "b1._BankAccount__balance"
   ]
  },
  {
   "cell_type": "code",
   "execution_count": 160,
   "id": "42393ed1",
   "metadata": {},
   "outputs": [],
   "source": [
    "b1.__balance = \"what?\""
   ]
  },
  {
   "cell_type": "code",
   "execution_count": 174,
   "id": "572d5913",
   "metadata": {},
   "outputs": [],
   "source": [
    "def sum_cool(a, b, *meri, **marzi):\n",
    "    print(meri)\n",
    "    print(marzi)\n",
    "    return a + b + sum(meri)"
   ]
  },
  {
   "cell_type": "code",
   "execution_count": 175,
   "id": "9f39f95d",
   "metadata": {},
   "outputs": [
    {
     "name": "stdout",
     "output_type": "stream",
     "text": [
      "(6, 7, 8, 3, 5, 5, 65, 76, 2)\n",
      "{'x': 9, 'y': 10, 'z': 20}\n"
     ]
    },
    {
     "data": {
      "text/plain": [
       "186"
      ]
     },
     "execution_count": 175,
     "metadata": {},
     "output_type": "execute_result"
    }
   ],
   "source": [
    "sum_cool(4,5,6,7,8,3,5,5,65,76,2,x=9,y=10,z=20)"
   ]
  },
  {
   "cell_type": "code",
   "execution_count": 167,
   "id": "4fea7375",
   "metadata": {},
   "outputs": [],
   "source": [
    "map?"
   ]
  },
  {
   "cell_type": "code",
   "execution_count": 178,
   "id": "f80afd05",
   "metadata": {},
   "outputs": [],
   "source": [
    "def create_person(name, age, gender, **extra_info):\n",
    "    person = {\n",
    "        \"name\": name,\n",
    "        \"age\": age,\n",
    "        \"gender\": gender\n",
    "    }\n",
    "    \n",
    "    person.update(extra_info)\n",
    "    \n",
    "    return person"
   ]
  },
  {
   "cell_type": "code",
   "execution_count": 179,
   "id": "be9eef80",
   "metadata": {},
   "outputs": [
    {
     "data": {
      "text/plain": [
       "{'name': 'Rahul Shara',\n",
       " 'age': 5000,\n",
       " 'gender': 'Male',\n",
       " 'student_at': 'Scaler',\n",
       " 'active': True,\n",
       " 'nationality': 'INDIAN'}"
      ]
     },
     "execution_count": 179,
     "metadata": {},
     "output_type": "execute_result"
    }
   ],
   "source": [
    "create_person(\"Rahul Shara\", 5000, \"Male\", student_at=\"Scaler\", active=True, nationality=\"INDIAN\")"
   ]
  },
  {
   "cell_type": "code",
   "execution_count": 180,
   "id": "b7069f5e",
   "metadata": {},
   "outputs": [
    {
     "data": {
      "text/plain": [
       "{'name': 'Rahul Shara', 'age': 5000, 'gender': 'Male'}"
      ]
     },
     "execution_count": 180,
     "metadata": {},
     "output_type": "execute_result"
    }
   ],
   "source": [
    "create_person(\"Rahul Shara\", 5000, \"Male\")"
   ]
  },
  {
   "cell_type": "code",
   "execution_count": 194,
   "id": "30699aed",
   "metadata": {},
   "outputs": [],
   "source": [
    "class A:\n",
    "    pass\n",
    "\n",
    "class B(A):\n",
    "    pass\n",
    "\n",
    "class C(B):\n",
    "    x = 10\n",
    "    \n",
    "class D(A):\n",
    "    x = 5\n",
    "    \n",
    "class E(C,D):\n",
    "    pass"
   ]
  },
  {
   "cell_type": "code",
   "execution_count": 195,
   "id": "17ddc099",
   "metadata": {},
   "outputs": [],
   "source": [
    "e = E()"
   ]
  },
  {
   "cell_type": "code",
   "execution_count": 196,
   "id": "b693aa94",
   "metadata": {},
   "outputs": [
    {
     "data": {
      "text/plain": [
       "10"
      ]
     },
     "execution_count": 196,
     "metadata": {},
     "output_type": "execute_result"
    }
   ],
   "source": [
    "e.x"
   ]
  },
  {
   "cell_type": "code",
   "execution_count": 197,
   "id": "db8987aa",
   "metadata": {},
   "outputs": [
    {
     "data": {
      "text/plain": [
       "(__main__.E, __main__.C, __main__.B, __main__.D, __main__.A, object)"
      ]
     },
     "execution_count": 197,
     "metadata": {},
     "output_type": "execute_result"
    }
   ],
   "source": [
    "E.__mro__\n",
    "# method resolution order"
   ]
  },
  {
   "cell_type": "code",
   "execution_count": null,
   "id": "6229e091",
   "metadata": {},
   "outputs": [],
   "source": []
  }
 ],
 "metadata": {
  "kernelspec": {
   "display_name": "Python 3 (ipykernel)",
   "language": "python",
   "name": "python3"
  },
  "language_info": {
   "codemirror_mode": {
    "name": "ipython",
    "version": 3
   },
   "file_extension": ".py",
   "mimetype": "text/x-python",
   "name": "python",
   "nbconvert_exporter": "python",
   "pygments_lexer": "ipython3",
   "version": "3.9.5"
  }
 },
 "nbformat": 4,
 "nbformat_minor": 5
}
