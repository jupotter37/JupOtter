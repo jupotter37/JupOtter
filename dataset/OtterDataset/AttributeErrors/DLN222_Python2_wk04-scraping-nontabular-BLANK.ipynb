{
 "cells": [
  {
   "cell_type": "markdown",
   "id": "58aed9e3",
   "metadata": {},
   "source": [
    "<img src=\"https://sandeepmj.github.io/image-host/green-scrapes.png\" >"
   ]
  },
  {
   "cell_type": "markdown",
   "id": "ce45f07b",
   "metadata": {},
   "source": [
    "# Scraping non-tabular content with ```BeautifulSoup```\n",
    "### We'll learn to some basic scraping techniques using this mock site <a href=\"https://sandeepmj.github.io/scrape-example-page/demo-text.html\">demo page</a>.\n"
   ]
  },
  {
   "cell_type": "code",
   "execution_count": 3,
   "id": "02291c65",
   "metadata": {},
   "outputs": [],
   "source": [
    "## create cells as necessary"
   ]
  },
  {
   "cell_type": "code",
   "execution_count": 6,
   "id": "5c01e31f",
   "metadata": {},
   "outputs": [],
   "source": [
    "import requests"
   ]
  },
  {
   "cell_type": "code",
   "execution_count": 12,
   "id": "231f1f35",
   "metadata": {},
   "outputs": [],
   "source": [
    "## Requesting web content\n",
    "url = \"https://sandeepmj.github.io/scrape-example-page/demo-text.html\"\n",
    "##scrape url website\n",
    "response = requests.get(url)"
   ]
  },
  {
   "cell_type": "code",
   "execution_count": 13,
   "id": "8f188202",
   "metadata": {},
   "outputs": [
    {
     "data": {
      "text/plain": [
       "200"
      ]
     },
     "execution_count": 13,
     "metadata": {},
     "output_type": "execute_result"
    }
   ],
   "source": [
    "response.status_code\n",
    "## 404 is a broken link\n",
    "## no ()"
   ]
  },
  {
   "cell_type": "code",
   "execution_count": 14,
   "id": "310bb7f2",
   "metadata": {},
   "outputs": [
    {
     "data": {
      "text/plain": [
       "requests.models.Response"
      ]
     },
     "execution_count": 14,
     "metadata": {},
     "output_type": "execute_result"
    }
   ],
   "source": [
    "type(response)"
   ]
  },
  {
   "cell_type": "code",
   "execution_count": 15,
   "id": "0ea57b13",
   "metadata": {},
   "outputs": [
    {
     "data": {
      "text/plain": [
       "<Response [200]>"
      ]
     },
     "execution_count": 15,
     "metadata": {},
     "output_type": "execute_result"
    }
   ],
   "source": [
    "response"
   ]
  },
  {
   "cell_type": "markdown",
   "id": "cb40c86b",
   "metadata": {},
   "source": [
    "## Response codes"
   ]
  },
  {
   "cell_type": "code",
   "execution_count": null,
   "id": "61ba957b",
   "metadata": {},
   "outputs": [],
   "source": [
    "When you scrape hundreds of pages, theres chance that one of the URLS might be a dud.\n",
    "We can set up a error control to see what kind of responses we get:\n",
    "    200 \n",
    "    300\n",
    "    403\n",
    "    404\n",
    "    500"
   ]
  },
  {
   "cell_type": "markdown",
   "id": "baa51354",
   "metadata": {},
   "source": [
    "## Pull out what we want using"
   ]
  },
  {
   "cell_type": "code",
   "execution_count": 16,
   "id": "5bcf75c7",
   "metadata": {},
   "outputs": [
    {
     "data": {
      "text/plain": [
       "'<!doctype html>\\n<html lang=\"en\">\\n<head>\\n\\t<title>title tag</title>\\n\\t<style>\\nbody {padding: 20px; max-width: 700px; margin: 0 auto;}\\n</style>\\n</head>\\n\\n<body>\\n\\t<h1 class=\"title\"><b>The title headline is Demo for BeautifulSoup</b></p></h1>\\n\\t<p>Learning to scrape using BeautifulSoup.</p>\\n\\t<div class=\"content article\">\\n\\t\\t<section>\\n\\t\\t<p>Here\\'s some pretty useless info:</p>\\n\\t</section>\\n\\t\\t<section class=\"main\" id=\"all_plants\">\\n\\t\\t\\t<h2 class=\"subhead\" id=\"vegitation\">Plants</h2>\\n\\t\\t\\t<p class=\"article\">Three plants that thrive in deep shade:</p>\\n\\t\\t\\t<ol>\\n\\t\\t\\t\\t<li><a href=\"http://example.com/plant1\" class=\"plants life\" id=\"plant1\">Plant 1</a>: <span class=\"cost\">$10</span></li>\\n\\t\\t\\t\\t<li><a href=\"http://example.com/plant2\" class=\"plants life\" id=\"plant2\">Plant 2</a>: <span class=\"cost\">$20</span></li>\\n\\t\\t\\t\\t<li><a href=\"http://example.com/plant3\" class=\"plants life\" id=\"plant3\">Plant 3</a> <span class=\"cost\">$30</span></li>\\n\\t\\t\\t</ol>\\n\\t\\t</section>\\n\\n\\t\\t<section class=\"main\" id=\"all_animals\">\\n\\t\\t\\t<h2 class=\"subhead\" id=\"creatures\">Animals</h2>\\n\\n\\t\\t\\t<p class=\"article\"> Three animals in the barn:</p>\\n\\t\\t\\t<ol>\\n\\t\\t\\t\\t<li><a href=\"http://example.com/animal1\" class=\"animals life\" id=\"animal1\">Animal 1</a>: <span class=\"cost\">$500</span></li>\\n\\t\\t\\t\\t<li><a href=\"http://example.com/animal2\" class=\"animals life\" id=\"animal2\">Animal 2</a>: <span class=\"cost\">$600</span> </li>\\n\\t\\t\\t\\t<li><a href=\"http://example.com/animal3\" class=\"animals life\" id=\"animal3\">Animal 3</a>: <span class=\"cost\">$700</span></li>\\n\\t\\t\\t</ol>\\n\\t\\t</section>\\n\\t\\t<section>\\n\\t\\t\\t<h2 class=\"subhead\" id=\"objects\">Objects</h2>\\n\\t\\t\\t<p class=\"article\"> Three shiny rocks:</p>\\n\\t\\t\\t<ol>\\n\\t\\t\\t\\t<li><a href=\"http://example.com/rock1\" class=\"rock inanimate\" id=\"rock1\"><span>Rock 1</span></a></li>\\n\\t\\t\\t\\t<li><a href=\"http://example.com/rock2\" class=\"rock inanimate\" id=\"rock2\"><span>Rock 2</span></a></li>\\n\\t\\t\\t\\t<li><a href=\"http://example.com/rock2\" class=\"rock inanimate\" id=\"rock3\"><span>Rock 3</span></a></li>\\n\\t\\t\\t</ol>\\n\\t\\t</section>\\n\\t\\t<section>\\n\\t\\t\\t<h2>The seven classifications of animals</h2>\\n\\t\\t\\t<ul>\\n\\t\\t\\t\\t<li><a class=\"animals\" href=\"http://example.com/kingdom\" >Kingdom</a></li>\\n\\t\\t\\t\\t<li><a class=\"animals\" href=\"http://example.com/phylum\" >Phylum</a></li>\\n\\t\\t\\t\\t<li><a class=\"animals\" href=\"http://example.com/class\" >Class</a></li>\\n\\t\\t\\t\\t<li><a class=\"animals\" href=\"http://example.com/order\" >Order</a></li>\\n\\t\\t\\t\\t<li><a class=\"animals\" href=\"http://example.com/family\" >Family</a></li>\\n\\t\\t\\t\\t<li><a class=\"animals\" href=\"http://example.com/genus\" >Genus</a></li>\\n\\t\\t\\t\\t<li><a class=\"animals\" href=\"http://example.com/species\" >Species</a></li>\\n\\t\\t\\t</ul>\\n\\t\\t</section>\\n\\t</div>\\n</body>\\n</html>\\n'"
      ]
     },
     "execution_count": 16,
     "metadata": {},
     "output_type": "execute_result"
    }
   ],
   "source": [
    "## see reponse.text object\n",
    "# no longer html\n",
    "response.text"
   ]
  },
  {
   "cell_type": "code",
   "execution_count": 17,
   "id": "47991f35",
   "metadata": {},
   "outputs": [
    {
     "data": {
      "text/plain": [
       "str"
      ]
     },
     "execution_count": 17,
     "metadata": {},
     "output_type": "execute_result"
    }
   ],
   "source": [
    "type(response.text)"
   ]
  },
  {
   "cell_type": "code",
   "execution_count": 20,
   "id": "5ab50e50",
   "metadata": {},
   "outputs": [
    {
     "data": {
      "text/plain": [
       "b'<!doctype html>\\n<html lang=\"en\">\\n<head>\\n\\t<title>title tag</title>\\n\\t<style>\\nbody {padding: 20px; max-width: 700px; margin: 0 auto;}\\n</style>\\n</head>\\n\\n<body>\\n\\t<h1 class=\"title\"><b>The title headline is Demo for BeautifulSoup</b></p></h1>\\n\\t<p>Learning to scrape using BeautifulSoup.</p>\\n\\t<div class=\"content article\">\\n\\t\\t<section>\\n\\t\\t<p>Here\\'s some pretty useless info:</p>\\n\\t</section>\\n\\t\\t<section class=\"main\" id=\"all_plants\">\\n\\t\\t\\t<h2 class=\"subhead\" id=\"vegitation\">Plants</h2>\\n\\t\\t\\t<p class=\"article\">Three plants that thrive in deep shade:</p>\\n\\t\\t\\t<ol>\\n\\t\\t\\t\\t<li><a href=\"http://example.com/plant1\" class=\"plants life\" id=\"plant1\">Plant 1</a>: <span class=\"cost\">$10</span></li>\\n\\t\\t\\t\\t<li><a href=\"http://example.com/plant2\" class=\"plants life\" id=\"plant2\">Plant 2</a>: <span class=\"cost\">$20</span></li>\\n\\t\\t\\t\\t<li><a href=\"http://example.com/plant3\" class=\"plants life\" id=\"plant3\">Plant 3</a> <span class=\"cost\">$30</span></li>\\n\\t\\t\\t</ol>\\n\\t\\t</section>\\n\\n\\t\\t<section class=\"main\" id=\"all_animals\">\\n\\t\\t\\t<h2 class=\"subhead\" id=\"creatures\">Animals</h2>\\n\\n\\t\\t\\t<p class=\"article\"> Three animals in the barn:</p>\\n\\t\\t\\t<ol>\\n\\t\\t\\t\\t<li><a href=\"http://example.com/animal1\" class=\"animals life\" id=\"animal1\">Animal 1</a>: <span class=\"cost\">$500</span></li>\\n\\t\\t\\t\\t<li><a href=\"http://example.com/animal2\" class=\"animals life\" id=\"animal2\">Animal 2</a>: <span class=\"cost\">$600</span> </li>\\n\\t\\t\\t\\t<li><a href=\"http://example.com/animal3\" class=\"animals life\" id=\"animal3\">Animal 3</a>: <span class=\"cost\">$700</span></li>\\n\\t\\t\\t</ol>\\n\\t\\t</section>\\n\\t\\t<section>\\n\\t\\t\\t<h2 class=\"subhead\" id=\"objects\">Objects</h2>\\n\\t\\t\\t<p class=\"article\"> Three shiny rocks:</p>\\n\\t\\t\\t<ol>\\n\\t\\t\\t\\t<li><a href=\"http://example.com/rock1\" class=\"rock inanimate\" id=\"rock1\"><span>Rock 1</span></a></li>\\n\\t\\t\\t\\t<li><a href=\"http://example.com/rock2\" class=\"rock inanimate\" id=\"rock2\"><span>Rock 2</span></a></li>\\n\\t\\t\\t\\t<li><a href=\"http://example.com/rock2\" class=\"rock inanimate\" id=\"rock3\"><span>Rock 3</span></a></li>\\n\\t\\t\\t</ol>\\n\\t\\t</section>\\n\\t\\t<section>\\n\\t\\t\\t<h2>The seven classifications of animals</h2>\\n\\t\\t\\t<ul>\\n\\t\\t\\t\\t<li><a class=\"animals\" href=\"http://example.com/kingdom\" >Kingdom</a></li>\\n\\t\\t\\t\\t<li><a class=\"animals\" href=\"http://example.com/phylum\" >Phylum</a></li>\\n\\t\\t\\t\\t<li><a class=\"animals\" href=\"http://example.com/class\" >Class</a></li>\\n\\t\\t\\t\\t<li><a class=\"animals\" href=\"http://example.com/order\" >Order</a></li>\\n\\t\\t\\t\\t<li><a class=\"animals\" href=\"http://example.com/family\" >Family</a></li>\\n\\t\\t\\t\\t<li><a class=\"animals\" href=\"http://example.com/genus\" >Genus</a></li>\\n\\t\\t\\t\\t<li><a class=\"animals\" href=\"http://example.com/species\" >Species</a></li>\\n\\t\\t\\t</ul>\\n\\t\\t</section>\\n\\t</div>\\n</body>\\n</html>\\n'"
      ]
     },
     "execution_count": 20,
     "metadata": {},
     "output_type": "execute_result"
    }
   ],
   "source": [
    "response.content"
   ]
  },
  {
   "cell_type": "code",
   "execution_count": 21,
   "id": "2bea8cc2",
   "metadata": {},
   "outputs": [
    {
     "data": {
      "text/plain": [
       "bytes"
      ]
     },
     "execution_count": 21,
     "metadata": {},
     "output_type": "execute_result"
    }
   ],
   "source": [
    "type(response.content)"
   ]
  },
  {
   "cell_type": "code",
   "execution_count": 22,
   "id": "037198e5",
   "metadata": {},
   "outputs": [],
   "source": [
    "## import BeautifulSoup\n",
    "from bs4 import BeautifulSoup"
   ]
  },
  {
   "cell_type": "code",
   "execution_count": 23,
   "id": "c04885f8",
   "metadata": {},
   "outputs": [],
   "source": [
    "soup = BeautifulSoup(response.text, \"html.parser\")"
   ]
  },
  {
   "cell_type": "code",
   "execution_count": 25,
   "id": "2db4683b",
   "metadata": {},
   "outputs": [
    {
     "name": "stdout",
     "output_type": "stream",
     "text": [
      "<!DOCTYPE html>\n",
      "<html lang=\"en\">\n",
      " <head>\n",
      "  <title>\n",
      "   title tag\n",
      "  </title>\n",
      "  <style>\n",
      "   body {padding: 20px; max-width: 700px; margin: 0 auto;}\n",
      "  </style>\n",
      " </head>\n",
      " <body>\n",
      "  <h1 class=\"title\">\n",
      "   <b>\n",
      "    The title headline is Demo for BeautifulSoup\n",
      "   </b>\n",
      "  </h1>\n",
      "  <p>\n",
      "   Learning to scrape using BeautifulSoup.\n",
      "  </p>\n",
      "  <div class=\"content article\">\n",
      "   <section>\n",
      "    <p>\n",
      "     Here's some pretty useless info:\n",
      "    </p>\n",
      "   </section>\n",
      "   <section class=\"main\" id=\"all_plants\">\n",
      "    <h2 class=\"subhead\" id=\"vegitation\">\n",
      "     Plants\n",
      "    </h2>\n",
      "    <p class=\"article\">\n",
      "     Three plants that thrive in deep shade:\n",
      "    </p>\n",
      "    <ol>\n",
      "     <li>\n",
      "      <a class=\"plants life\" href=\"http://example.com/plant1\" id=\"plant1\">\n",
      "       Plant 1\n",
      "      </a>\n",
      "      :\n",
      "      <span class=\"cost\">\n",
      "       $10\n",
      "      </span>\n",
      "     </li>\n",
      "     <li>\n",
      "      <a class=\"plants life\" href=\"http://example.com/plant2\" id=\"plant2\">\n",
      "       Plant 2\n",
      "      </a>\n",
      "      :\n",
      "      <span class=\"cost\">\n",
      "       $20\n",
      "      </span>\n",
      "     </li>\n",
      "     <li>\n",
      "      <a class=\"plants life\" href=\"http://example.com/plant3\" id=\"plant3\">\n",
      "       Plant 3\n",
      "      </a>\n",
      "      <span class=\"cost\">\n",
      "       $30\n",
      "      </span>\n",
      "     </li>\n",
      "    </ol>\n",
      "   </section>\n",
      "   <section class=\"main\" id=\"all_animals\">\n",
      "    <h2 class=\"subhead\" id=\"creatures\">\n",
      "     Animals\n",
      "    </h2>\n",
      "    <p class=\"article\">\n",
      "     Three animals in the barn:\n",
      "    </p>\n",
      "    <ol>\n",
      "     <li>\n",
      "      <a class=\"animals life\" href=\"http://example.com/animal1\" id=\"animal1\">\n",
      "       Animal 1\n",
      "      </a>\n",
      "      :\n",
      "      <span class=\"cost\">\n",
      "       $500\n",
      "      </span>\n",
      "     </li>\n",
      "     <li>\n",
      "      <a class=\"animals life\" href=\"http://example.com/animal2\" id=\"animal2\">\n",
      "       Animal 2\n",
      "      </a>\n",
      "      :\n",
      "      <span class=\"cost\">\n",
      "       $600\n",
      "      </span>\n",
      "     </li>\n",
      "     <li>\n",
      "      <a class=\"animals life\" href=\"http://example.com/animal3\" id=\"animal3\">\n",
      "       Animal 3\n",
      "      </a>\n",
      "      :\n",
      "      <span class=\"cost\">\n",
      "       $700\n",
      "      </span>\n",
      "     </li>\n",
      "    </ol>\n",
      "   </section>\n",
      "   <section>\n",
      "    <h2 class=\"subhead\" id=\"objects\">\n",
      "     Objects\n",
      "    </h2>\n",
      "    <p class=\"article\">\n",
      "     Three shiny rocks:\n",
      "    </p>\n",
      "    <ol>\n",
      "     <li>\n",
      "      <a class=\"rock inanimate\" href=\"http://example.com/rock1\" id=\"rock1\">\n",
      "       <span>\n",
      "        Rock 1\n",
      "       </span>\n",
      "      </a>\n",
      "     </li>\n",
      "     <li>\n",
      "      <a class=\"rock inanimate\" href=\"http://example.com/rock2\" id=\"rock2\">\n",
      "       <span>\n",
      "        Rock 2\n",
      "       </span>\n",
      "      </a>\n",
      "     </li>\n",
      "     <li>\n",
      "      <a class=\"rock inanimate\" href=\"http://example.com/rock2\" id=\"rock3\">\n",
      "       <span>\n",
      "        Rock 3\n",
      "       </span>\n",
      "      </a>\n",
      "     </li>\n",
      "    </ol>\n",
      "   </section>\n",
      "   <section>\n",
      "    <h2>\n",
      "     The seven classifications of animals\n",
      "    </h2>\n",
      "    <ul>\n",
      "     <li>\n",
      "      <a class=\"animals\" href=\"http://example.com/kingdom\">\n",
      "       Kingdom\n",
      "      </a>\n",
      "     </li>\n",
      "     <li>\n",
      "      <a class=\"animals\" href=\"http://example.com/phylum\">\n",
      "       Phylum\n",
      "      </a>\n",
      "     </li>\n",
      "     <li>\n",
      "      <a class=\"animals\" href=\"http://example.com/class\">\n",
      "       Class\n",
      "      </a>\n",
      "     </li>\n",
      "     <li>\n",
      "      <a class=\"animals\" href=\"http://example.com/order\">\n",
      "       Order\n",
      "      </a>\n",
      "     </li>\n",
      "     <li>\n",
      "      <a class=\"animals\" href=\"http://example.com/family\">\n",
      "       Family\n",
      "      </a>\n",
      "     </li>\n",
      "     <li>\n",
      "      <a class=\"animals\" href=\"http://example.com/genus\">\n",
      "       Genus\n",
      "      </a>\n",
      "     </li>\n",
      "     <li>\n",
      "      <a class=\"animals\" href=\"http://example.com/species\">\n",
      "       Species\n",
      "      </a>\n",
      "     </li>\n",
      "    </ul>\n",
      "   </section>\n",
      "  </div>\n",
      " </body>\n",
      "</html>\n",
      "\n"
     ]
    }
   ],
   "source": [
    "print(soup.prettify())"
   ]
  },
  {
   "cell_type": "code",
   "execution_count": 26,
   "id": "49e78adb",
   "metadata": {},
   "outputs": [
    {
     "data": {
      "text/plain": [
       "bs4.BeautifulSoup"
      ]
     },
     "execution_count": 26,
     "metadata": {},
     "output_type": "execute_result"
    }
   ],
   "source": [
    "type(soup)"
   ]
  },
  {
   "cell_type": "code",
   "execution_count": 27,
   "id": "60312171",
   "metadata": {},
   "outputs": [
    {
     "data": {
      "text/plain": [
       "<title>title tag</title>"
      ]
     },
     "execution_count": 27,
     "metadata": {},
     "output_type": "execute_result"
    }
   ],
   "source": [
    "soup.title"
   ]
  },
  {
   "cell_type": "code",
   "execution_count": 28,
   "id": "b341dfc7",
   "metadata": {},
   "outputs": [
    {
     "data": {
      "text/plain": [
       "<h1 class=\"title\"><b>The title headline is Demo for BeautifulSoup</b></h1>"
      ]
     },
     "execution_count": 28,
     "metadata": {},
     "output_type": "execute_result"
    }
   ],
   "source": [
    "soup.h1"
   ]
  },
  {
   "cell_type": "code",
   "execution_count": 29,
   "id": "a1feb250",
   "metadata": {},
   "outputs": [
    {
     "data": {
      "text/plain": [
       "<h2 class=\"subhead\" id=\"vegitation\">Plants</h2>"
      ]
     },
     "execution_count": 29,
     "metadata": {},
     "output_type": "execute_result"
    }
   ],
   "source": [
    "soup.h2\n",
    "## only returns the first one when you call a tag"
   ]
  },
  {
   "cell_type": "markdown",
   "id": "95d01a45",
   "metadata": {},
   "source": [
    "## Searching for IDs"
   ]
  },
  {
   "cell_type": "code",
   "execution_count": 33,
   "id": "c932627f",
   "metadata": {},
   "outputs": [
    {
     "data": {
      "text/plain": [
       "[<a class=\"animals life\" href=\"http://example.com/animal1\" id=\"animal1\">Animal 1</a>]"
      ]
     },
     "execution_count": 33,
     "metadata": {},
     "output_type": "execute_result"
    }
   ],
   "source": [
    "soup(id=\"plant1\")\n",
    "soup(id=\"animal1\")"
   ]
  },
  {
   "cell_type": "markdown",
   "id": "7bb2b413",
   "metadata": {},
   "source": [
    "## Finding Classes"
   ]
  },
  {
   "cell_type": "code",
   "execution_count": 34,
   "id": "efab8f1e",
   "metadata": {},
   "outputs": [
    {
     "data": {
      "text/plain": [
       "<p>Learning to scrape using BeautifulSoup.</p>"
      ]
     },
     "execution_count": 34,
     "metadata": {},
     "output_type": "execute_result"
    }
   ],
   "source": [
    "soup.p"
   ]
  },
  {
   "cell_type": "markdown",
   "id": "f3cfc238",
   "metadata": {},
   "source": [
    "## Method 1. Target the tag only.\n",
    "# soup.find(\"tag_name)"
   ]
  },
  {
   "cell_type": "code",
   "execution_count": 35,
   "id": "f14e6075",
   "metadata": {},
   "outputs": [
    {
     "data": {
      "text/plain": [
       "<p>Learning to scrape using BeautifulSoup.</p>"
      ]
     },
     "execution_count": 35,
     "metadata": {},
     "output_type": "execute_result"
    }
   ],
   "source": [
    "soup.find(\"p\")"
   ]
  },
  {
   "cell_type": "code",
   "execution_count": 36,
   "id": "4e4efec0",
   "metadata": {},
   "outputs": [
    {
     "data": {
      "text/plain": [
       "<div class=\"content article\">\n",
       "<section>\n",
       "<p>Here's some pretty useless info:</p>\n",
       "</section>\n",
       "<section class=\"main\" id=\"all_plants\">\n",
       "<h2 class=\"subhead\" id=\"vegitation\">Plants</h2>\n",
       "<p class=\"article\">Three plants that thrive in deep shade:</p>\n",
       "<ol>\n",
       "<li><a class=\"plants life\" href=\"http://example.com/plant1\" id=\"plant1\">Plant 1</a>: <span class=\"cost\">$10</span></li>\n",
       "<li><a class=\"plants life\" href=\"http://example.com/plant2\" id=\"plant2\">Plant 2</a>: <span class=\"cost\">$20</span></li>\n",
       "<li><a class=\"plants life\" href=\"http://example.com/plant3\" id=\"plant3\">Plant 3</a> <span class=\"cost\">$30</span></li>\n",
       "</ol>\n",
       "</section>\n",
       "<section class=\"main\" id=\"all_animals\">\n",
       "<h2 class=\"subhead\" id=\"creatures\">Animals</h2>\n",
       "<p class=\"article\"> Three animals in the barn:</p>\n",
       "<ol>\n",
       "<li><a class=\"animals life\" href=\"http://example.com/animal1\" id=\"animal1\">Animal 1</a>: <span class=\"cost\">$500</span></li>\n",
       "<li><a class=\"animals life\" href=\"http://example.com/animal2\" id=\"animal2\">Animal 2</a>: <span class=\"cost\">$600</span> </li>\n",
       "<li><a class=\"animals life\" href=\"http://example.com/animal3\" id=\"animal3\">Animal 3</a>: <span class=\"cost\">$700</span></li>\n",
       "</ol>\n",
       "</section>\n",
       "<section>\n",
       "<h2 class=\"subhead\" id=\"objects\">Objects</h2>\n",
       "<p class=\"article\"> Three shiny rocks:</p>\n",
       "<ol>\n",
       "<li><a class=\"rock inanimate\" href=\"http://example.com/rock1\" id=\"rock1\"><span>Rock 1</span></a></li>\n",
       "<li><a class=\"rock inanimate\" href=\"http://example.com/rock2\" id=\"rock2\"><span>Rock 2</span></a></li>\n",
       "<li><a class=\"rock inanimate\" href=\"http://example.com/rock2\" id=\"rock3\"><span>Rock 3</span></a></li>\n",
       "</ol>\n",
       "</section>\n",
       "<section>\n",
       "<h2>The seven classifications of animals</h2>\n",
       "<ul>\n",
       "<li><a class=\"animals\" href=\"http://example.com/kingdom\">Kingdom</a></li>\n",
       "<li><a class=\"animals\" href=\"http://example.com/phylum\">Phylum</a></li>\n",
       "<li><a class=\"animals\" href=\"http://example.com/class\">Class</a></li>\n",
       "<li><a class=\"animals\" href=\"http://example.com/order\">Order</a></li>\n",
       "<li><a class=\"animals\" href=\"http://example.com/family\">Family</a></li>\n",
       "<li><a class=\"animals\" href=\"http://example.com/genus\">Genus</a></li>\n",
       "<li><a class=\"animals\" href=\"http://example.com/species\">Species</a></li>\n",
       "</ul>\n",
       "</section>\n",
       "</div>"
      ]
     },
     "execution_count": 36,
     "metadata": {},
     "output_type": "execute_result"
    }
   ],
   "source": [
    "soup.find(class_=\"article\")"
   ]
  },
  {
   "cell_type": "markdown",
   "id": "6043d531",
   "metadata": {},
   "source": [
    "## Method 3"
   ]
  },
  {
   "cell_type": "code",
   "execution_count": 38,
   "id": "f59ef725",
   "metadata": {},
   "outputs": [
    {
     "data": {
      "text/plain": [
       "<p class=\"article\">Three plants that thrive in deep shade:</p>"
      ]
     },
     "execution_count": 38,
     "metadata": {},
     "output_type": "execute_result"
    }
   ],
   "source": [
    "soup.find(\"p\", class_=\"article\")\n",
    "## find doesn't return lists"
   ]
  },
  {
   "cell_type": "code",
   "execution_count": 39,
   "id": "247db6cc",
   "metadata": {},
   "outputs": [
    {
     "data": {
      "text/plain": [
       "bs4.element.Tag"
      ]
     },
     "execution_count": 39,
     "metadata": {},
     "output_type": "execute_result"
    }
   ],
   "source": [
    "type(soup.p)"
   ]
  },
  {
   "cell_type": "markdown",
   "id": "8e739f2a",
   "metadata": {},
   "source": [
    "## find_all tage, classes\n",
    "# returns a list\n",
    "# have to iderate through\n",
    "# ie can't capitalized on a list "
   ]
  },
  {
   "cell_type": "code",
   "execution_count": 40,
   "id": "a298a759",
   "metadata": {},
   "outputs": [
    {
     "data": {
      "text/plain": [
       "[<p class=\"article\">Three plants that thrive in deep shade:</p>,\n",
       " <p class=\"article\"> Three animals in the barn:</p>,\n",
       " <p class=\"article\"> Three shiny rocks:</p>]"
      ]
     },
     "execution_count": 40,
     "metadata": {},
     "output_type": "execute_result"
    }
   ],
   "source": [
    "##Return all p tag content with the class \"article\"\n",
    "soup.find_all(\"p\", class_=\"article\")"
   ]
  },
  {
   "cell_type": "code",
   "execution_count": 41,
   "id": "2b183493",
   "metadata": {},
   "outputs": [
    {
     "data": {
      "text/plain": [
       "bs4.element.ResultSet"
      ]
     },
     "execution_count": 41,
     "metadata": {},
     "output_type": "execute_result"
    }
   ],
   "source": [
    "type(soup.find_all(\"p\", class_=\"article\"))\n",
    "## beautifulsoup term for a list"
   ]
  },
  {
   "cell_type": "code",
   "execution_count": 42,
   "id": "85119592",
   "metadata": {},
   "outputs": [
    {
     "data": {
      "text/plain": [
       "3"
      ]
     },
     "execution_count": 42,
     "metadata": {},
     "output_type": "execute_result"
    }
   ],
   "source": [
    "len(soup.find_all(\"p\", class_=\"article\"))"
   ]
  },
  {
   "cell_type": "code",
   "execution_count": 43,
   "id": "d38ca6b4",
   "metadata": {},
   "outputs": [
    {
     "data": {
      "text/plain": [
       "[<p class=\"article\">Three plants that thrive in deep shade:</p>,\n",
       " <p class=\"article\"> Three animals in the barn:</p>,\n",
       " <p class=\"article\"> Three shiny rocks:</p>]"
      ]
     },
     "execution_count": 43,
     "metadata": {},
     "output_type": "execute_result"
    }
   ],
   "source": [
    "the_articles = soup.find_all(\"p\", class_=\"article\")\n",
    "the_articles"
   ]
  },
  {
   "cell_type": "code",
   "execution_count": 44,
   "id": "06be70c9",
   "metadata": {},
   "outputs": [
    {
     "data": {
      "text/plain": [
       "<p class=\"article\">Three plants that thrive in deep shade:</p>"
      ]
     },
     "execution_count": 44,
     "metadata": {},
     "output_type": "execute_result"
    }
   ],
   "source": [
    "the_articles[0]"
   ]
  },
  {
   "cell_type": "code",
   "execution_count": 45,
   "id": "84b92b83",
   "metadata": {},
   "outputs": [
    {
     "data": {
      "text/plain": [
       "bs4.element.Tag"
      ]
     },
     "execution_count": 45,
     "metadata": {},
     "output_type": "execute_result"
    }
   ],
   "source": [
    "type(the_articles[0])"
   ]
  },
  {
   "cell_type": "markdown",
   "id": "10f673e7",
   "metadata": {},
   "source": [
    "## Find all life forms"
   ]
  },
  {
   "cell_type": "code",
   "execution_count": 51,
   "id": "00d2623a",
   "metadata": {},
   "outputs": [
    {
     "data": {
      "text/plain": [
       "[<a class=\"plants life\" href=\"http://example.com/plant1\" id=\"plant1\">Plant 1</a>,\n",
       " <a class=\"plants life\" href=\"http://example.com/plant2\" id=\"plant2\">Plant 2</a>,\n",
       " <a class=\"plants life\" href=\"http://example.com/plant3\" id=\"plant3\">Plant 3</a>,\n",
       " <a class=\"animals life\" href=\"http://example.com/animal1\" id=\"animal1\">Animal 1</a>,\n",
       " <a class=\"animals life\" href=\"http://example.com/animal2\" id=\"animal2\">Animal 2</a>,\n",
       " <a class=\"animals life\" href=\"http://example.com/animal3\" id=\"animal3\">Animal 3</a>]"
      ]
     },
     "execution_count": 51,
     "metadata": {},
     "output_type": "execute_result"
    }
   ],
   "source": [
    "lifeforms = soup.find_all(\"a\", class_=\"life\")\n",
    "lifeforms"
   ]
  },
  {
   "cell_type": "code",
   "execution_count": 48,
   "id": "44bcbb96",
   "metadata": {},
   "outputs": [
    {
     "data": {
      "text/plain": [
       "[<a class=\"plants life\" href=\"http://example.com/plant1\" id=\"plant1\">Plant 1</a>,\n",
       " <a class=\"plants life\" href=\"http://example.com/plant2\" id=\"plant2\">Plant 2</a>,\n",
       " <a class=\"plants life\" href=\"http://example.com/plant3\" id=\"plant3\">Plant 3</a>]"
      ]
     },
     "execution_count": 48,
     "metadata": {},
     "output_type": "execute_result"
    }
   ],
   "source": [
    "##find all plant life only\n",
    "soup.find_all(\"a\", class_=\"plants\")"
   ]
  },
  {
   "cell_type": "markdown",
   "id": "c31066d7",
   "metadata": {},
   "source": [
    "## string v. get_text()"
   ]
  },
  {
   "cell_type": "code",
   "execution_count": 49,
   "id": "0bc09046",
   "metadata": {},
   "outputs": [
    {
     "data": {
      "text/plain": [
       "'The title headline is Demo for BeautifulSoup'"
      ]
     },
     "execution_count": 49,
     "metadata": {},
     "output_type": "execute_result"
    }
   ],
   "source": [
    "soup.h1.get_text()"
   ]
  },
  {
   "cell_type": "code",
   "execution_count": 50,
   "id": "f997a74d",
   "metadata": {},
   "outputs": [
    {
     "data": {
      "text/plain": [
       "\"\\n\\n\\ntitle tag\\n\\n\\n\\nThe title headline is Demo for BeautifulSoup\\nLearning to scrape using BeautifulSoup.\\n\\n\\nHere's some pretty useless info:\\n\\n\\nPlants\\nThree plants that thrive in deep shade:\\n\\nPlant 1: $10\\nPlant 2: $20\\nPlant 3 $30\\n\\n\\n\\nAnimals\\n Three animals in the barn:\\n\\nAnimal 1: $500\\nAnimal 2: $600 \\nAnimal 3: $700\\n\\n\\n\\nObjects\\n Three shiny rocks:\\n\\nRock 1\\nRock 2\\nRock 3\\n\\n\\n\\nThe seven classifications of animals\\n\\nKingdom\\nPhylum\\nClass\\nOrder\\nFamily\\nGenus\\nSpecies\\n\\n\\n\\n\\n\\n\""
      ]
     },
     "execution_count": 50,
     "metadata": {},
     "output_type": "execute_result"
    }
   ],
   "source": [
    "soup.get_text()"
   ]
  },
  {
   "cell_type": "code",
   "execution_count": 52,
   "id": "cfe8e74f",
   "metadata": {},
   "outputs": [
    {
     "data": {
      "text/plain": [
       "[<a class=\"plants life\" href=\"http://example.com/plant1\" id=\"plant1\">Plant 1</a>,\n",
       " <a class=\"plants life\" href=\"http://example.com/plant2\" id=\"plant2\">Plant 2</a>,\n",
       " <a class=\"plants life\" href=\"http://example.com/plant3\" id=\"plant3\">Plant 3</a>,\n",
       " <a class=\"animals life\" href=\"http://example.com/animal1\" id=\"animal1\">Animal 1</a>,\n",
       " <a class=\"animals life\" href=\"http://example.com/animal2\" id=\"animal2\">Animal 2</a>,\n",
       " <a class=\"animals life\" href=\"http://example.com/animal3\" id=\"animal3\">Animal 3</a>]"
      ]
     },
     "execution_count": 52,
     "metadata": {},
     "output_type": "execute_result"
    }
   ],
   "source": [
    "lifeforms"
   ]
  },
  {
   "cell_type": "code",
   "execution_count": 53,
   "id": "23a17b0e",
   "metadata": {},
   "outputs": [
    {
     "ename": "AttributeError",
     "evalue": "ResultSet object has no attribute 'get_text'. You're probably treating a list of elements like a single element. Did you call find_all() when you meant to call find()?",
     "output_type": "error",
     "traceback": [
      "\u001b[0;31m---------------------------------------------------------------------------\u001b[0m",
      "\u001b[0;31mAttributeError\u001b[0m                            Traceback (most recent call last)",
      "Cell \u001b[0;32mIn[53], line 1\u001b[0m\n\u001b[0;32m----> 1\u001b[0m lifeforms\u001b[38;5;241m.\u001b[39mget_text()\n",
      "File \u001b[0;32m~/anaconda3/lib/python3.11/site-packages/bs4/element.py:2428\u001b[0m, in \u001b[0;36mResultSet.__getattr__\u001b[0;34m(self, key)\u001b[0m\n\u001b[1;32m   2426\u001b[0m \u001b[38;5;28;01mdef\u001b[39;00m \u001b[38;5;21m__getattr__\u001b[39m(\u001b[38;5;28mself\u001b[39m, key):\n\u001b[1;32m   2427\u001b[0m \u001b[38;5;250m    \u001b[39m\u001b[38;5;124;03m\"\"\"Raise a helpful exception to explain a common code fix.\"\"\"\u001b[39;00m\n\u001b[0;32m-> 2428\u001b[0m     \u001b[38;5;28;01mraise\u001b[39;00m \u001b[38;5;167;01mAttributeError\u001b[39;00m(\n\u001b[1;32m   2429\u001b[0m         \u001b[38;5;124m\"\u001b[39m\u001b[38;5;124mResultSet object has no attribute \u001b[39m\u001b[38;5;124m'\u001b[39m\u001b[38;5;132;01m%s\u001b[39;00m\u001b[38;5;124m'\u001b[39m\u001b[38;5;124m. You\u001b[39m\u001b[38;5;124m'\u001b[39m\u001b[38;5;124mre probably treating a list of elements like a single element. Did you call find_all() when you meant to call find()?\u001b[39m\u001b[38;5;124m\"\u001b[39m \u001b[38;5;241m%\u001b[39m key\n\u001b[1;32m   2430\u001b[0m     )\n",
      "\u001b[0;31mAttributeError\u001b[0m: ResultSet object has no attribute 'get_text'. You're probably treating a list of elements like a single element. Did you call find_all() when you meant to call find()?"
     ]
    }
   ],
   "source": [
    "lifeforms.get_text()\n",
    "## you cant call text from a list\n"
   ]
  },
  {
   "cell_type": "code",
   "execution_count": 54,
   "id": "abc99d85",
   "metadata": {},
   "outputs": [
    {
     "name": "stdout",
     "output_type": "stream",
     "text": [
      "Plant 1\n",
      "******\n",
      "Plant 2\n",
      "******\n",
      "Plant 3\n",
      "******\n",
      "Animal 1\n",
      "******\n",
      "Animal 2\n",
      "******\n",
      "Animal 3\n",
      "******\n"
     ]
    }
   ],
   "source": [
    "for life in lifeforms:\n",
    "    print(life.get_text())\n",
    "    print(\"******\")"
   ]
  },
  {
   "cell_type": "code",
   "execution_count": 55,
   "id": "e0a1da11",
   "metadata": {},
   "outputs": [
    {
     "data": {
      "text/plain": [
       "['Plant 1', 'Plant 2', 'Plant 3', 'Animal 1', 'Animal 2', 'Animal 3']"
      ]
     },
     "execution_count": 55,
     "metadata": {},
     "output_type": "execute_result"
    }
   ],
   "source": [
    "lifeforms_fl =[]\n",
    "for life in lifeforms:\n",
    "    life = life.get_text()\n",
    "    lifeforms_fl.append(life)\n",
    "    \n",
    "lifeforms_fl"
   ]
  },
  {
   "cell_type": "code",
   "execution_count": null,
   "id": "4a4a013f",
   "metadata": {},
   "outputs": [],
   "source": []
  },
  {
   "cell_type": "code",
   "execution_count": 58,
   "id": "0afa0371",
   "metadata": {},
   "outputs": [
    {
     "data": {
      "text/plain": [
       "['Plant 1', 'Plant 2', 'Plant 3', 'Animal 1', 'Animal 2', 'Animal 3']"
      ]
     },
     "execution_count": 58,
     "metadata": {},
     "output_type": "execute_result"
    }
   ],
   "source": [
    "#lifeforms_lc =[hold-this for single-member in iterable]\n",
    "#another name for a list is an iterable\n",
    "\n",
    "lifeforms_lc = [life.get_text() for life in lifeforms]\n",
    "lifeforms_lc"
   ]
  },
  {
   "cell_type": "code",
   "execution_count": 61,
   "id": "69cb6e74",
   "metadata": {},
   "outputs": [
    {
     "data": {
      "text/plain": [
       "[<a class=\"plants life\" href=\"http://example.com/plant1\" id=\"plant1\">Plant 1</a>,\n",
       " <a class=\"plants life\" href=\"http://example.com/plant2\" id=\"plant2\">Plant 2</a>,\n",
       " <a class=\"plants life\" href=\"http://example.com/plant3\" id=\"plant3\">Plant 3</a>,\n",
       " <a class=\"animals life\" href=\"http://example.com/animal1\" id=\"animal1\">Animal 1</a>,\n",
       " <a class=\"animals life\" href=\"http://example.com/animal2\" id=\"animal2\">Animal 2</a>,\n",
       " <a class=\"animals life\" href=\"http://example.com/animal3\" id=\"animal3\">Animal 3</a>]"
      ]
     },
     "execution_count": 61,
     "metadata": {},
     "output_type": "execute_result"
    }
   ],
   "source": [
    "lifeforms"
   ]
  },
  {
   "cell_type": "code",
   "execution_count": 62,
   "id": "b3c96d9b",
   "metadata": {},
   "outputs": [
    {
     "ename": "AttributeError",
     "evalue": "ResultSet object has no attribute 'get'. You're probably treating a list of elements like a single element. Did you call find_all() when you meant to call find()?",
     "output_type": "error",
     "traceback": [
      "\u001b[0;31m---------------------------------------------------------------------------\u001b[0m",
      "\u001b[0;31mAttributeError\u001b[0m                            Traceback (most recent call last)",
      "Cell \u001b[0;32mIn[62], line 1\u001b[0m\n\u001b[0;32m----> 1\u001b[0m lifeforms\u001b[38;5;241m.\u001b[39mget(\u001b[38;5;124m\"\u001b[39m\u001b[38;5;124mhref\u001b[39m\u001b[38;5;124m\"\u001b[39m)\n",
      "File \u001b[0;32m~/anaconda3/lib/python3.11/site-packages/bs4/element.py:2428\u001b[0m, in \u001b[0;36mResultSet.__getattr__\u001b[0;34m(self, key)\u001b[0m\n\u001b[1;32m   2426\u001b[0m \u001b[38;5;28;01mdef\u001b[39;00m \u001b[38;5;21m__getattr__\u001b[39m(\u001b[38;5;28mself\u001b[39m, key):\n\u001b[1;32m   2427\u001b[0m \u001b[38;5;250m    \u001b[39m\u001b[38;5;124;03m\"\"\"Raise a helpful exception to explain a common code fix.\"\"\"\u001b[39;00m\n\u001b[0;32m-> 2428\u001b[0m     \u001b[38;5;28;01mraise\u001b[39;00m \u001b[38;5;167;01mAttributeError\u001b[39;00m(\n\u001b[1;32m   2429\u001b[0m         \u001b[38;5;124m\"\u001b[39m\u001b[38;5;124mResultSet object has no attribute \u001b[39m\u001b[38;5;124m'\u001b[39m\u001b[38;5;132;01m%s\u001b[39;00m\u001b[38;5;124m'\u001b[39m\u001b[38;5;124m. You\u001b[39m\u001b[38;5;124m'\u001b[39m\u001b[38;5;124mre probably treating a list of elements like a single element. Did you call find_all() when you meant to call find()?\u001b[39m\u001b[38;5;124m\"\u001b[39m \u001b[38;5;241m%\u001b[39m key\n\u001b[1;32m   2430\u001b[0m     )\n",
      "\u001b[0;31mAttributeError\u001b[0m: ResultSet object has no attribute 'get'. You're probably treating a list of elements like a single element. Did you call find_all() when you meant to call find()?"
     ]
    }
   ],
   "source": [
    "lifeforms.get(\"href\")"
   ]
  },
  {
   "cell_type": "code",
   "execution_count": 65,
   "id": "7634feb5",
   "metadata": {},
   "outputs": [
    {
     "name": "stdout",
     "output_type": "stream",
     "text": [
      "http://example.com/plant1\n",
      "http://example.com/plant2\n",
      "http://example.com/plant3\n",
      "http://example.com/animal1\n",
      "http://example.com/animal2\n",
      "http://example.com/animal3\n"
     ]
    }
   ],
   "source": [
    "for anything in lifeforms:\n",
    "    #print(anything)\n",
    "    print(anything.get(\"href\"))"
   ]
  },
  {
   "cell_type": "code",
   "execution_count": 80,
   "id": "3d3b0846",
   "metadata": {},
   "outputs": [
    {
     "data": {
      "text/plain": [
       "['http://example.com/plant1',\n",
       " 'http://example.com/plant2',\n",
       " 'http://example.com/plant3',\n",
       " 'http://example.com/animal1',\n",
       " 'http://example.com/animal2',\n",
       " 'http://example.com/animal3']"
      ]
     },
     "execution_count": 80,
     "metadata": {},
     "output_type": "execute_result"
    }
   ],
   "source": [
    "### sandeeps version\n",
    "links_fl =[]\n",
    "for anything in lifeforms:\n",
    "    links_fl.append(anything.get(\"href\"))\n",
    "    \n",
    "links_fl\n"
   ]
  },
  {
   "cell_type": "code",
   "execution_count": null,
   "id": "31ffaf5c",
   "metadata": {},
   "outputs": [],
   "source": [
    "links_fl =[]\n",
    "for anything in lifeforms:\n",
    "    anything = anything.get(\"href\")\n",
    "    links_fl.append(anything)\n",
    "    \n",
    "links_fl"
   ]
  },
  {
   "cell_type": "code",
   "execution_count": 75,
   "id": "1d09e9f8",
   "metadata": {},
   "outputs": [
    {
     "data": {
      "text/plain": [
       "['http://example.com/plant1',\n",
       " 'http://example.com/plant2',\n",
       " 'http://example.com/plant3',\n",
       " 'http://example.com/animal1',\n",
       " 'http://example.com/animal2',\n",
       " 'http://example.com/animal3']"
      ]
     },
     "execution_count": 75,
     "metadata": {},
     "output_type": "execute_result"
    }
   ],
   "source": [
    "## using list comprehension to save into links_lc\n",
    "\n",
    "links_lc = [life.get(\"href\") for life in lifeforms]\n",
    "links_lc\n"
   ]
  },
  {
   "cell_type": "code",
   "execution_count": 81,
   "id": "89ecaa71",
   "metadata": {},
   "outputs": [
    {
     "data": {
      "text/plain": [
       "[<span class=\"cost\">$10</span>,\n",
       " <span class=\"cost\">$20</span>,\n",
       " <span class=\"cost\">$30</span>,\n",
       " <span class=\"cost\">$500</span>,\n",
       " <span class=\"cost\">$600</span>,\n",
       " <span class=\"cost\">$700</span>]"
      ]
     },
     "execution_count": 81,
     "metadata": {},
     "output_type": "execute_result"
    }
   ],
   "source": [
    "cost = soup.find_all(\"span\", class_=\"cost\")\n",
    "cost"
   ]
  },
  {
   "cell_type": "code",
   "execution_count": 84,
   "id": "04e44d79",
   "metadata": {},
   "outputs": [
    {
     "data": {
      "text/plain": [
       "[<span class=\"cost\">$10</span>,\n",
       " <span class=\"cost\">$20</span>,\n",
       " <span class=\"cost\">$30</span>,\n",
       " <span class=\"cost\">$500</span>,\n",
       " <span class=\"cost\">$600</span>,\n",
       " <span class=\"cost\">$700</span>]"
      ]
     },
     "execution_count": 84,
     "metadata": {},
     "output_type": "execute_result"
    }
   ],
   "source": [
    "costs = soup.find_all(\"span\", class_=\"cost\")\n",
    "costs"
   ]
  },
  {
   "cell_type": "code",
   "execution_count": 87,
   "id": "73d89f40",
   "metadata": {},
   "outputs": [
    {
     "data": {
      "text/plain": [
       "[10, 20, 30, 500, 600, 700]"
      ]
     },
     "execution_count": 87,
     "metadata": {},
     "output_type": "execute_result"
    }
   ],
   "source": [
    "cost_fl =[]\n",
    "\n",
    "cost_fl =[]\n",
    "for cost in costs:\n",
    "    cost_fl.append(int(cost.get_text().replace(\"$\",\"\")))\n",
    "    #colts_fl.append(cost.get_text(.replace(\"$\", \"\")))\n",
    "    \n",
    "cost_fl\n"
   ]
  },
  {
   "cell_type": "code",
   "execution_count": 89,
   "id": "3af7f956",
   "metadata": {},
   "outputs": [
    {
     "data": {
      "text/plain": [
       "[10, 20, 30, 500, 600, 700]"
      ]
     },
     "execution_count": 89,
     "metadata": {},
     "output_type": "execute_result"
    }
   ],
   "source": [
    "costs_lc = [int(cost.get_text().replace(\"$\", \"\")) for cost in costs]\n",
    "costs_lc"
   ]
  },
  {
   "cell_type": "markdown",
   "id": "501a5aa2",
   "metadata": {},
   "source": [
    "### Look at solutions"
   ]
  },
  {
   "cell_type": "code",
   "execution_count": 101,
   "id": "53c2caab",
   "metadata": {},
   "outputs": [],
   "source": [
    "life_list_dict = []\n",
    "for (lifeforms, costs, links) in zip(lifeforms_lc, costs_lc, links_lc):\n",
    "    life_list_dict.append({ \n",
    "        \"product\": lifeforms,\n",
    "        \"cost\": costs,\n",
    "        \"links\": links\n",
    "    })"
   ]
  },
  {
   "cell_type": "code",
   "execution_count": 102,
   "id": "a268d682",
   "metadata": {},
   "outputs": [],
   "source": [
    "import pandas as pd"
   ]
  },
  {
   "cell_type": "code",
   "execution_count": 103,
   "id": "dfd7f4fa",
   "metadata": {},
   "outputs": [
    {
     "ename": "AttributeError",
     "evalue": "module 'pandas' has no attribute 'Dataframe'",
     "output_type": "error",
     "traceback": [
      "\u001b[0;31m---------------------------------------------------------------------------\u001b[0m",
      "\u001b[0;31mAttributeError\u001b[0m                            Traceback (most recent call last)",
      "Cell \u001b[0;32mIn[103], line 1\u001b[0m\n\u001b[0;32m----> 1\u001b[0m pd\u001b[38;5;241m.\u001b[39mDataframe(life_list_dict)\n",
      "\u001b[0;31mAttributeError\u001b[0m: module 'pandas' has no attribute 'Dataframe'"
     ]
    }
   ],
   "source": [
    "pd.Dataframe(life_list_dict)"
   ]
  },
  {
   "cell_type": "code",
   "execution_count": 104,
   "id": "c1fcdbdc",
   "metadata": {},
   "outputs": [
    {
     "data": {
      "text/plain": [
       "[('Plant 1', 10, 'http://example.com/plant1'),\n",
       " ('Plant 2', 20, 'http://example.com/plant2'),\n",
       " ('Plant 3', 30, 'http://example.com/plant3'),\n",
       " ('Animal 1', 500, 'http://example.com/animal1'),\n",
       " ('Animal 2', 600, 'http://example.com/animal2'),\n",
       " ('Animal 3', 700, 'http://example.com/animal3')]"
      ]
     },
     "execution_count": 104,
     "metadata": {},
     "output_type": "execute_result"
    }
   ],
   "source": [
    "life_list = []\n",
    "for my_items in zip(lifeforms_lc, costs_lc, links_lc):\n",
    "    life_list.append(my_items)\n",
    "life_list"
   ]
  },
  {
   "cell_type": "code",
   "execution_count": 105,
   "id": "b1d4ce13",
   "metadata": {},
   "outputs": [
    {
     "data": {
      "text/plain": [
       "tuple"
      ]
     },
     "execution_count": 105,
     "metadata": {},
     "output_type": "execute_result"
    }
   ],
   "source": [
    "type(life_list[0])"
   ]
  },
  {
   "cell_type": "code",
   "execution_count": 108,
   "id": "68b89871",
   "metadata": {},
   "outputs": [
    {
     "data": {
      "text/html": [
       "<div>\n",
       "<style scoped>\n",
       "    .dataframe tbody tr th:only-of-type {\n",
       "        vertical-align: middle;\n",
       "    }\n",
       "\n",
       "    .dataframe tbody tr th {\n",
       "        vertical-align: top;\n",
       "    }\n",
       "\n",
       "    .dataframe thead th {\n",
       "        text-align: right;\n",
       "    }\n",
       "</style>\n",
       "<table border=\"1\" class=\"dataframe\">\n",
       "  <thead>\n",
       "    <tr style=\"text-align: right;\">\n",
       "      <th></th>\n",
       "      <th>0</th>\n",
       "      <th>1</th>\n",
       "      <th>2</th>\n",
       "    </tr>\n",
       "  </thead>\n",
       "  <tbody>\n",
       "    <tr>\n",
       "      <th>0</th>\n",
       "      <td>Plant 1</td>\n",
       "      <td>10</td>\n",
       "      <td>http://example.com/plant1</td>\n",
       "    </tr>\n",
       "    <tr>\n",
       "      <th>1</th>\n",
       "      <td>Plant 2</td>\n",
       "      <td>20</td>\n",
       "      <td>http://example.com/plant2</td>\n",
       "    </tr>\n",
       "    <tr>\n",
       "      <th>2</th>\n",
       "      <td>Plant 3</td>\n",
       "      <td>30</td>\n",
       "      <td>http://example.com/plant3</td>\n",
       "    </tr>\n",
       "    <tr>\n",
       "      <th>3</th>\n",
       "      <td>Animal 1</td>\n",
       "      <td>500</td>\n",
       "      <td>http://example.com/animal1</td>\n",
       "    </tr>\n",
       "    <tr>\n",
       "      <th>4</th>\n",
       "      <td>Animal 2</td>\n",
       "      <td>600</td>\n",
       "      <td>http://example.com/animal2</td>\n",
       "    </tr>\n",
       "    <tr>\n",
       "      <th>5</th>\n",
       "      <td>Animal 3</td>\n",
       "      <td>700</td>\n",
       "      <td>http://example.com/animal3</td>\n",
       "    </tr>\n",
       "  </tbody>\n",
       "</table>\n",
       "</div>"
      ],
      "text/plain": [
       "          0    1                           2\n",
       "0   Plant 1   10   http://example.com/plant1\n",
       "1   Plant 2   20   http://example.com/plant2\n",
       "2   Plant 3   30   http://example.com/plant3\n",
       "3  Animal 1  500  http://example.com/animal1\n",
       "4  Animal 2  600  http://example.com/animal2\n",
       "5  Animal 3  700  http://example.com/animal3"
      ]
     },
     "execution_count": 108,
     "metadata": {},
     "output_type": "execute_result"
    }
   ],
   "source": [
    "df = pd.DataFrame(life_list)\n",
    "df"
   ]
  },
  {
   "cell_type": "code",
   "execution_count": 109,
   "id": "3cc1e3de",
   "metadata": {},
   "outputs": [
    {
     "data": {
      "text/html": [
       "<div>\n",
       "<style scoped>\n",
       "    .dataframe tbody tr th:only-of-type {\n",
       "        vertical-align: middle;\n",
       "    }\n",
       "\n",
       "    .dataframe tbody tr th {\n",
       "        vertical-align: top;\n",
       "    }\n",
       "\n",
       "    .dataframe thead th {\n",
       "        text-align: right;\n",
       "    }\n",
       "</style>\n",
       "<table border=\"1\" class=\"dataframe\">\n",
       "  <thead>\n",
       "    <tr style=\"text-align: right;\">\n",
       "      <th></th>\n",
       "      <th>Product</th>\n",
       "      <th>Cost</th>\n",
       "      <th>More_info</th>\n",
       "    </tr>\n",
       "  </thead>\n",
       "  <tbody>\n",
       "    <tr>\n",
       "      <th>0</th>\n",
       "      <td>Plant 1</td>\n",
       "      <td>10</td>\n",
       "      <td>http://example.com/plant1</td>\n",
       "    </tr>\n",
       "    <tr>\n",
       "      <th>1</th>\n",
       "      <td>Plant 2</td>\n",
       "      <td>20</td>\n",
       "      <td>http://example.com/plant2</td>\n",
       "    </tr>\n",
       "    <tr>\n",
       "      <th>2</th>\n",
       "      <td>Plant 3</td>\n",
       "      <td>30</td>\n",
       "      <td>http://example.com/plant3</td>\n",
       "    </tr>\n",
       "    <tr>\n",
       "      <th>3</th>\n",
       "      <td>Animal 1</td>\n",
       "      <td>500</td>\n",
       "      <td>http://example.com/animal1</td>\n",
       "    </tr>\n",
       "    <tr>\n",
       "      <th>4</th>\n",
       "      <td>Animal 2</td>\n",
       "      <td>600</td>\n",
       "      <td>http://example.com/animal2</td>\n",
       "    </tr>\n",
       "    <tr>\n",
       "      <th>5</th>\n",
       "      <td>Animal 3</td>\n",
       "      <td>700</td>\n",
       "      <td>http://example.com/animal3</td>\n",
       "    </tr>\n",
       "  </tbody>\n",
       "</table>\n",
       "</div>"
      ],
      "text/plain": [
       "    Product  Cost                   More_info\n",
       "0   Plant 1    10   http://example.com/plant1\n",
       "1   Plant 2    20   http://example.com/plant2\n",
       "2   Plant 3    30   http://example.com/plant3\n",
       "3  Animal 1   500  http://example.com/animal1\n",
       "4  Animal 2   600  http://example.com/animal2\n",
       "5  Animal 3   700  http://example.com/animal3"
      ]
     },
     "execution_count": 109,
     "metadata": {},
     "output_type": "execute_result"
    }
   ],
   "source": [
    "df.columns = [\"Product\", \"Cost\", \"More_info\"]\n",
    "df"
   ]
  },
  {
   "cell_type": "code",
   "execution_count": null,
   "id": "d0b454c8",
   "metadata": {},
   "outputs": [],
   "source": []
  }
 ],
 "metadata": {
  "kernelspec": {
   "display_name": "Python 3 (ipykernel)",
   "language": "python",
   "name": "python3"
  },
  "language_info": {
   "codemirror_mode": {
    "name": "ipython",
    "version": 3
   },
   "file_extension": ".py",
   "mimetype": "text/x-python",
   "name": "python",
   "nbconvert_exporter": "python",
   "pygments_lexer": "ipython3",
   "version": "3.11.5"
  }
 },
 "nbformat": 4,
 "nbformat_minor": 5
}
