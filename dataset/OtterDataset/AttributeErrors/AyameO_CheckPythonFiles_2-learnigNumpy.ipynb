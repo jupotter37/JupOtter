{
 "cells": [
  {
   "cell_type": "code",
   "execution_count": 1,
   "id": "bcca19fc-bab5-48d2-aa36-02a0b271688d",
   "metadata": {},
   "outputs": [],
   "source": [
    "import numpy as np"
   ]
  },
  {
   "cell_type": "code",
   "execution_count": 2,
   "id": "648202c6-219b-494f-a75c-ee78480d3b83",
   "metadata": {},
   "outputs": [
    {
     "data": {
      "text/plain": [
       "'%.3f'"
      ]
     },
     "execution_count": 2,
     "metadata": {},
     "output_type": "execute_result"
    }
   ],
   "source": [
    "%precision 3"
   ]
  },
  {
   "cell_type": "code",
   "execution_count": 3,
   "id": "fcfe1d11-0aff-4212-a5cd-9268f38cacd0",
   "metadata": {},
   "outputs": [],
   "source": [
    "data = np.array([9,2,3,7,8,4])"
   ]
  },
  {
   "cell_type": "code",
   "execution_count": 4,
   "id": "85707d45-e02d-4cd4-8d26-28a0cc2bac3e",
   "metadata": {},
   "outputs": [
    {
     "data": {
      "text/plain": [
       "dtype('int64')"
      ]
     },
     "execution_count": 4,
     "metadata": {},
     "output_type": "execute_result"
    }
   ],
   "source": [
    "data.dtype"
   ]
  },
  {
   "cell_type": "code",
   "execution_count": 5,
   "id": "bb0b599d-3ee2-4d09-9662-d545856ad0a5",
   "metadata": {},
   "outputs": [
    {
     "name": "stdout",
     "output_type": "stream",
     "text": [
      "1\n",
      "6\n"
     ]
    }
   ],
   "source": [
    "print(data.ndim)\n",
    "print(data.size)"
   ]
  },
  {
   "cell_type": "code",
   "execution_count": 6,
   "id": "ee490ea1-9a9d-4d48-96d8-60f0ccd23c73",
   "metadata": {},
   "outputs": [
    {
     "data": {
      "text/plain": [
       "array([18,  4,  6, 14, 16,  8])"
      ]
     },
     "execution_count": 6,
     "metadata": {},
     "output_type": "execute_result"
    }
   ],
   "source": [
    "data*2"
   ]
  },
  {
   "cell_type": "code",
   "execution_count": 7,
   "id": "2abf4a0c-8f8d-468f-9fa5-2db6bca6775a",
   "metadata": {},
   "outputs": [
    {
     "data": {
      "text/plain": [
       "array([81,  4,  9, 49, 64, 16])"
      ]
     },
     "execution_count": 7,
     "metadata": {},
     "output_type": "execute_result"
    }
   ],
   "source": [
    "data**2"
   ]
  },
  {
   "cell_type": "code",
   "execution_count": 8,
   "id": "3f9294ec-6064-4856-a57b-63537a61a74d",
   "metadata": {},
   "outputs": [
    {
     "name": "stdout",
     "output_type": "stream",
     "text": [
      "そのまま； [9 2 3 7 8 4]\n"
     ]
    }
   ],
   "source": [
    "print('そのまま；', data)"
   ]
  },
  {
   "cell_type": "code",
   "execution_count": 9,
   "id": "3d71b74b-0708-456a-85e2-5abfd0811e2d",
   "metadata": {},
   "outputs": [
    {
     "name": "stdout",
     "output_type": "stream",
     "text": [
      "ソート後； [2 3 4 7 8 9]\n"
     ]
    }
   ],
   "source": [
    "data.sort()\n",
    "print('ソート後；', data)"
   ]
  },
  {
   "cell_type": "code",
   "execution_count": 10,
   "id": "3069b78e-0604-4b36-bc3f-262bfc0b376e",
   "metadata": {},
   "outputs": [
    {
     "name": "stdout",
     "output_type": "stream",
     "text": [
      "[9 8 7 4 3 2]\n"
     ]
    }
   ],
   "source": [
    "data[::-1].sort()\n",
    "print(data)"
   ]
  },
  {
   "cell_type": "code",
   "execution_count": 11,
   "id": "f9acd410-711a-4717-aba6-83389ee2dc0d",
   "metadata": {},
   "outputs": [
    {
     "data": {
      "text/plain": [
       "9"
      ]
     },
     "execution_count": 11,
     "metadata": {},
     "output_type": "execute_result"
    }
   ],
   "source": [
    "data.max()"
   ]
  },
  {
   "cell_type": "code",
   "execution_count": 12,
   "id": "9a6a2573-2f74-401a-8db8-133dc7aa4f86",
   "metadata": {},
   "outputs": [
    {
     "data": {
      "text/plain": [
       "2"
      ]
     },
     "execution_count": 12,
     "metadata": {},
     "output_type": "execute_result"
    }
   ],
   "source": [
    "data.min()"
   ]
  },
  {
   "cell_type": "code",
   "execution_count": 13,
   "id": "af795a26-b58c-4d85-bac5-ed589ba56176",
   "metadata": {},
   "outputs": [
    {
     "data": {
      "text/plain": [
       "33"
      ]
     },
     "execution_count": 13,
     "metadata": {},
     "output_type": "execute_result"
    }
   ],
   "source": [
    "data.sum()"
   ]
  },
  {
   "cell_type": "code",
   "execution_count": 14,
   "id": "16154871-8a22-4e5a-b5f1-9365b2bf5321",
   "metadata": {},
   "outputs": [
    {
     "data": {
      "text/plain": [
       "array([ 9, 17, 24, 28, 31, 33])"
      ]
     },
     "execution_count": 14,
     "metadata": {},
     "output_type": "execute_result"
    }
   ],
   "source": [
    "data.cumsum()"
   ]
  },
  {
   "cell_type": "code",
   "execution_count": 15,
   "id": "3208f1b6-6e9d-46aa-9bd5-0ca874fae83c",
   "metadata": {},
   "outputs": [
    {
     "data": {
      "text/plain": [
       "array([0.273, 0.515, 0.727, 0.848, 0.939, 1.   ])"
      ]
     },
     "execution_count": 15,
     "metadata": {},
     "output_type": "execute_result"
    }
   ],
   "source": [
    "data.cumsum() / data.sum()"
   ]
  },
  {
   "cell_type": "code",
   "execution_count": 16,
   "id": "cb1d16ed-e0cf-4a60-b9e4-0ff3aa442325",
   "metadata": {},
   "outputs": [],
   "source": [
    "import numpy.random as random"
   ]
  },
  {
   "cell_type": "code",
   "execution_count": 17,
   "id": "eca1a36a-e061-41d8-91d3-e78b43528419",
   "metadata": {},
   "outputs": [
    {
     "ename": "NameError",
     "evalue": "name 'ramdom' is not defined",
     "output_type": "error",
     "traceback": [
      "\u001b[0;31m---------------------------------------------------------------------------\u001b[0m",
      "\u001b[0;31mNameError\u001b[0m                                 Traceback (most recent call last)",
      "Cell \u001b[0;32mIn[17], line 1\u001b[0m\n\u001b[0;32m----> 1\u001b[0m ramdom\u001b[38;5;241m.\u001b[39mseed(\u001b[38;5;241m0\u001b[39m)\n\u001b[1;32m      2\u001b[0m \u001b[38;5;66;03m# 正規分布（平均0、分散1)の乱数を10個発生\u001b[39;00m\n\u001b[1;32m      3\u001b[0m rdn_data \u001b[38;5;241m=\u001b[39m random\u001b[38;5;241m.\u001b[39mrandn(\u001b[38;5;241m10\u001b[39m)\n",
      "\u001b[0;31mNameError\u001b[0m: name 'ramdom' is not defined"
     ]
    }
   ],
   "source": [
    "ramdom.seed(0)\n",
    "# 正規分布（平均0、分散1)の乱数を10個発生\n",
    "rdn_data = random.randn(10)\n",
    "print(rdn_data)"
   ]
  },
  {
   "cell_type": "code",
   "execution_count": 18,
   "id": "537320ab-982f-4942-b6dc-d4121f1d8d2b",
   "metadata": {},
   "outputs": [
    {
     "name": "stdout",
     "output_type": "stream",
     "text": [
      "[ 1.764  0.4    0.979  2.241  1.868 -0.977  0.95  -0.151 -0.103  0.411]\n"
     ]
    }
   ],
   "source": [
    "random.seed(0)\n",
    "rdn_data = random.randn(10)\n",
    "print(rdn_data)"
   ]
  },
  {
   "cell_type": "code",
   "execution_count": 19,
   "id": "07b38643-5425-4255-8097-02bb9223aa19",
   "metadata": {},
   "outputs": [
    {
     "name": "stdout",
     "output_type": "stream",
     "text": [
      "[9 8 2]\n"
     ]
    }
   ],
   "source": [
    "print(random.choice(data,3))"
   ]
  },
  {
   "cell_type": "code",
   "execution_count": 20,
   "id": "6529f40d-159a-4220-83d8-a112ea881bc7",
   "metadata": {},
   "outputs": [
    {
     "name": "stdout",
     "output_type": "stream",
     "text": [
      "[7 4 3 2 9]\n"
     ]
    }
   ],
   "source": [
    "print(random.choice(data,5, replace=False))"
   ]
  },
  {
   "cell_type": "code",
   "execution_count": 21,
   "id": "6356325e-f052-47b5-adda-2e75c2c48d8a",
   "metadata": {},
   "outputs": [
    {
     "data": {
      "text/plain": [
       "array([9, 4, 2])"
      ]
     },
     "execution_count": 21,
     "metadata": {},
     "output_type": "execute_result"
    }
   ],
   "source": [
    "random.choice(data,3)"
   ]
  },
  {
   "cell_type": "code",
   "execution_count": 23,
   "id": "881b0bb9-f180-4901-b5a7-738cce7d9864",
   "metadata": {},
   "outputs": [
    {
     "name": "stdout",
     "output_type": "stream",
     "text": [
      "CPU times: user 5.83 ms, sys: 20 µs, total: 5.85 ms\n",
      "Wall time: 5.87 ms\n",
      "CPU times: user 740 µs, sys: 45 µs, total: 785 µs\n",
      "Wall time: 575 µs\n"
     ]
    },
    {
     "data": {
      "text/plain": [
       "499894.278"
      ]
     },
     "execution_count": 23,
     "metadata": {},
     "output_type": "execute_result"
    }
   ],
   "source": [
    "N = 10**6\n",
    "\n",
    "# Python版\n",
    "normal_data = [random.random() for _ in range(N)]\n",
    "\n",
    "# Numpy版\n",
    "numpy_random_data = np.array(normal_data)\n",
    "\n",
    "# calc time\n",
    "%time sum(normal_data)\n",
    "%time np.sum(numpy_random_data)"
   ]
  },
  {
   "cell_type": "code",
   "execution_count": 24,
   "id": "02837f94-3ef5-4cb9-ab56-3af47f765ea4",
   "metadata": {},
   "outputs": [
    {
     "data": {
      "text/plain": [
       "array(9)"
      ]
     },
     "execution_count": 24,
     "metadata": {},
     "output_type": "execute_result"
    }
   ],
   "source": [
    "np.array(9)"
   ]
  },
  {
   "cell_type": "code",
   "execution_count": 25,
   "id": "6126b6a0-c3b5-4462-92a9-aaf11a7ba094",
   "metadata": {},
   "outputs": [
    {
     "ename": "AttributeError",
     "evalue": "module 'numpy' has no attribute 'arrange'",
     "output_type": "error",
     "traceback": [
      "\u001b[0;31m---------------------------------------------------------------------------\u001b[0m",
      "\u001b[0;31mAttributeError\u001b[0m                            Traceback (most recent call last)",
      "Cell \u001b[0;32mIn[25], line 1\u001b[0m\n\u001b[0;32m----> 1\u001b[0m np\u001b[38;5;241m.\u001b[39marrange(\u001b[38;5;241m9\u001b[39m)\n",
      "File \u001b[0;32m/opt/anaconda3/lib/python3.11/site-packages/numpy/__init__.py:333\u001b[0m, in \u001b[0;36m__getattr__\u001b[0;34m(attr)\u001b[0m\n\u001b[1;32m    330\u001b[0m     \u001b[38;5;124m\"\u001b[39m\u001b[38;5;124mRemoved in NumPy 1.25.0\u001b[39m\u001b[38;5;124m\"\u001b[39m\n\u001b[1;32m    331\u001b[0m     \u001b[38;5;28;01mraise\u001b[39;00m \u001b[38;5;167;01mRuntimeError\u001b[39;00m(\u001b[38;5;124m\"\u001b[39m\u001b[38;5;124mTester was removed in NumPy 1.25.\u001b[39m\u001b[38;5;124m\"\u001b[39m)\n\u001b[0;32m--> 333\u001b[0m \u001b[38;5;28;01mraise\u001b[39;00m \u001b[38;5;167;01mAttributeError\u001b[39;00m(\u001b[38;5;124m\"\u001b[39m\u001b[38;5;124mmodule \u001b[39m\u001b[38;5;132;01m{!r}\u001b[39;00m\u001b[38;5;124m has no attribute \u001b[39m\u001b[38;5;124m\"\u001b[39m\n\u001b[1;32m    334\u001b[0m                      \u001b[38;5;124m\"\u001b[39m\u001b[38;5;132;01m{!r}\u001b[39;00m\u001b[38;5;124m\"\u001b[39m\u001b[38;5;241m.\u001b[39mformat(\u001b[38;5;18m__name__\u001b[39m, attr))\n",
      "\u001b[0;31mAttributeError\u001b[0m: module 'numpy' has no attribute 'arrange'"
     ]
    }
   ],
   "source": [
    "np.arrange(9)"
   ]
  },
  {
   "cell_type": "code",
   "execution_count": 26,
   "id": "2170f58a-8f49-4730-8c42-ff77dd6f1609",
   "metadata": {},
   "outputs": [
    {
     "data": {
      "text/plain": [
       "array([0, 1, 2, 3, 4, 5, 6, 7, 8])"
      ]
     },
     "execution_count": 26,
     "metadata": {},
     "output_type": "execute_result"
    }
   ],
   "source": [
    "np.arange(9)"
   ]
  },
  {
   "cell_type": "code",
   "execution_count": 27,
   "id": "79d9ad27-31d9-40cf-b361-f5085bf2b202",
   "metadata": {},
   "outputs": [
    {
     "name": "stdout",
     "output_type": "stream",
     "text": [
      "[[0 1 2]\n",
      " [3 4 5]\n",
      " [6 7 8]]\n"
     ]
    }
   ],
   "source": [
    "array1 = np.arange(9).reshape(3,3)\n",
    "print(array1)"
   ]
  },
  {
   "cell_type": "code",
   "execution_count": 29,
   "id": "8c87165d-e020-4309-acba-439eb7d370bf",
   "metadata": {},
   "outputs": [
    {
     "name": "stdout",
     "output_type": "stream",
     "text": [
      "[[ 0  1  2]\n",
      " [ 3  4  5]\n",
      " [ 6  7  8]\n",
      " [ 9 10 11]]\n"
     ]
    }
   ],
   "source": [
    "array2 = np.arange(12).reshape(4,3)\n",
    "print(array2)"
   ]
  },
  {
   "cell_type": "code",
   "execution_count": 31,
   "id": "16f72c19-9634-48b7-9b07-253852aae6d2",
   "metadata": {},
   "outputs": [
    {
     "data": {
      "text/plain": [
       "array([0, 1, 2])"
      ]
     },
     "execution_count": 31,
     "metadata": {},
     "output_type": "execute_result"
    }
   ],
   "source": [
    "array1[0,:]"
   ]
  },
  {
   "cell_type": "raw",
   "id": "b80fb70d-15bf-4f69-af46-7e961a550ba7",
   "metadata": {},
   "source": [
    "print(array1[;,0])"
   ]
  },
  {
   "cell_type": "code",
   "execution_count": 33,
   "id": "fc263bc9-fb4c-4744-847d-a931de4a0544",
   "metadata": {},
   "outputs": [
    {
     "name": "stdout",
     "output_type": "stream",
     "text": [
      "[0 3 6]\n"
     ]
    }
   ],
   "source": [
    "print(array1[:,0])"
   ]
  },
  {
   "cell_type": "code",
   "execution_count": 34,
   "id": "665ff6ca-ce2a-4d56-bea7-c70289332e34",
   "metadata": {},
   "outputs": [],
   "source": [
    "array2 = np.arange(9,18).reshape(3,3)"
   ]
  },
  {
   "cell_type": "code",
   "execution_count": 35,
   "id": "b125e865-9ba3-4afe-a446-f39a4dd9a600",
   "metadata": {},
   "outputs": [
    {
     "name": "stdout",
     "output_type": "stream",
     "text": [
      "[[ 9 10 11]\n",
      " [12 13 14]\n",
      " [15 16 17]]\n"
     ]
    }
   ],
   "source": [
    "print(array2)"
   ]
  },
  {
   "cell_type": "code",
   "execution_count": 37,
   "id": "72ef9850-dc36-451e-8158-43102d27b766",
   "metadata": {},
   "outputs": [
    {
     "data": {
      "text/plain": [
       "array([[ 42,  45,  48],\n",
       "       [150, 162, 174],\n",
       "       [258, 279, 300]])"
      ]
     },
     "execution_count": 37,
     "metadata": {},
     "output_type": "execute_result"
    }
   ],
   "source": [
    "#行列の積\n",
    "np.dot(array1,array2)"
   ]
  },
  {
   "cell_type": "code",
   "execution_count": 38,
   "id": "c4bc549e-73b4-4513-a601-649ee5b8ae65",
   "metadata": {},
   "outputs": [
    {
     "data": {
      "text/plain": [
       "array([[  0,  10,  22],\n",
       "       [ 36,  52,  70],\n",
       "       [ 90, 112, 136]])"
      ]
     },
     "execution_count": 38,
     "metadata": {},
     "output_type": "execute_result"
    }
   ],
   "source": [
    "array1*array2"
   ]
  },
  {
   "cell_type": "code",
   "execution_count": 40,
   "id": "50f3faa2-4778-4d69-9a29-a0ba2fd12a0d",
   "metadata": {},
   "outputs": [],
   "source": [
    "array3 = np.ones((5,5), dtype=np.int64)"
   ]
  },
  {
   "cell_type": "code",
   "execution_count": 41,
   "id": "33514995-b7ca-40f4-9f7f-74970be18aa3",
   "metadata": {},
   "outputs": [
    {
     "data": {
      "text/plain": [
       "array([[3, 3, 3, 3, 3],\n",
       "       [3, 3, 3, 3, 3],\n",
       "       [3, 3, 3, 3, 3],\n",
       "       [3, 3, 3, 3, 3],\n",
       "       [3, 3, 3, 3, 3]])"
      ]
     },
     "execution_count": 41,
     "metadata": {},
     "output_type": "execute_result"
    }
   ],
   "source": [
    "array3*3"
   ]
  },
  {
   "cell_type": "raw",
   "id": "65d2f7f3-4385-4f81-ab5e-bc06695fdf5e",
   "metadata": {},
   "source": [
    "array3 = array3*3"
   ]
  },
  {
   "cell_type": "code",
   "execution_count": 42,
   "id": "92dbc428-131a-4ed0-832b-f8747ace94b5",
   "metadata": {},
   "outputs": [
    {
     "data": {
      "text/plain": [
       "array([[5, 5, 5, 5, 5],\n",
       "       [5, 5, 5, 5, 5],\n",
       "       [5, 5, 5, 5, 5],\n",
       "       [5, 5, 5, 5, 5],\n",
       "       [5, 5, 5, 5, 5]])"
      ]
     },
     "execution_count": 42,
     "metadata": {},
     "output_type": "execute_result"
    }
   ],
   "source": [
    "np.dot(array3, array3)"
   ]
  },
  {
   "cell_type": "code",
   "execution_count": 43,
   "id": "753f85e6-f181-4025-96a4-8eedfe734ec2",
   "metadata": {},
   "outputs": [
    {
     "data": {
      "text/plain": [
       "array([[1, 1, 1, 1, 1],\n",
       "       [1, 1, 1, 1, 1],\n",
       "       [1, 1, 1, 1, 1],\n",
       "       [1, 1, 1, 1, 1],\n",
       "       [1, 1, 1, 1, 1]])"
      ]
     },
     "execution_count": 43,
     "metadata": {},
     "output_type": "execute_result"
    }
   ],
   "source": [
    "array3"
   ]
  },
  {
   "cell_type": "code",
   "execution_count": 44,
   "id": "f641e705-c14a-4788-9c42-617ad37f8c77",
   "metadata": {},
   "outputs": [],
   "source": [
    "array3 = array3*3"
   ]
  },
  {
   "cell_type": "code",
   "execution_count": 45,
   "id": "78fd588b-9739-43fc-b13b-2beecd684d95",
   "metadata": {},
   "outputs": [
    {
     "data": {
      "text/plain": [
       "array([[3, 3, 3, 3, 3],\n",
       "       [3, 3, 3, 3, 3],\n",
       "       [3, 3, 3, 3, 3],\n",
       "       [3, 3, 3, 3, 3],\n",
       "       [3, 3, 3, 3, 3]])"
      ]
     },
     "execution_count": 45,
     "metadata": {},
     "output_type": "execute_result"
    }
   ],
   "source": [
    "array3"
   ]
  },
  {
   "cell_type": "code",
   "execution_count": 46,
   "id": "d5c62e4c-7a28-465e-8f3e-ab4f64b4f270",
   "metadata": {},
   "outputs": [
    {
     "data": {
      "text/plain": [
       "array([[45, 45, 45, 45, 45],\n",
       "       [45, 45, 45, 45, 45],\n",
       "       [45, 45, 45, 45, 45],\n",
       "       [45, 45, 45, 45, 45],\n",
       "       [45, 45, 45, 45, 45]])"
      ]
     },
     "execution_count": 46,
     "metadata": {},
     "output_type": "execute_result"
    }
   ],
   "source": [
    "np.dot(array3, array3)"
   ]
  },
  {
   "cell_type": "code",
   "execution_count": null,
   "id": "8cc76052-a790-4fee-bdc3-7e9e5bb4e0d5",
   "metadata": {},
   "outputs": [],
   "source": []
  }
 ],
 "metadata": {
  "kernelspec": {
   "display_name": "Python 3 (ipykernel)",
   "language": "python",
   "name": "python3"
  },
  "language_info": {
   "codemirror_mode": {
    "name": "ipython",
    "version": 3
   },
   "file_extension": ".py",
   "mimetype": "text/x-python",
   "name": "python",
   "nbconvert_exporter": "python",
   "pygments_lexer": "ipython3",
   "version": "3.11.7"
  }
 },
 "nbformat": 4,
 "nbformat_minor": 5
}
