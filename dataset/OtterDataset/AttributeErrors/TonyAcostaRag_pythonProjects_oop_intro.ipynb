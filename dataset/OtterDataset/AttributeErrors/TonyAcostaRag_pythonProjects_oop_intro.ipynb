{
 "cells": [
  {
   "cell_type": "code",
   "execution_count": 6,
   "id": "09c49877-6cc0-49f8-b6bf-2f9a32baad81",
   "metadata": {},
   "outputs": [
    {
     "data": {
      "text/plain": [
       "20"
      ]
     },
     "execution_count": 6,
     "metadata": {},
     "output_type": "execute_result"
    }
   ],
   "source": [
    "class Rectangle:\n",
    "\n",
    "    def __init__(self, width, height):\n",
    "        self.width = width\n",
    "        self.height = height\n",
    "\n",
    "    def get_area(self):\n",
    "        return self.width * self.height\n",
    "\n",
    "rectangle_one = Rectangle(5, 4)\n",
    "rectangle_one.get_area()"
   ]
  },
  {
   "cell_type": "code",
   "execution_count": 11,
   "id": "f700ef34-98e1-47d9-b887-9534bf620386",
   "metadata": {},
   "outputs": [
    {
     "name": "stdout",
     "output_type": "stream",
     "text": [
      "Hello, my name is  Tony  and I'm from Jamay\n"
     ]
    }
   ],
   "source": [
    "class User:\n",
    "\n",
    "    def __init__(self, name, city):\n",
    "        self.name = name\n",
    "        self.city = city\n",
    "\n",
    "    def introduce(self):\n",
    "        print('Hello, my name is ', self.name, ' and I\\'m from', self.city)\n",
    "\n",
    "Tony = User('Tony', 'Jamay')\n",
    "Tony.introduce()"
   ]
  },
  {
   "cell_type": "code",
   "execution_count": 31,
   "id": "e052263d-4dd2-495b-b4ae-28ef4026e3ba",
   "metadata": {},
   "outputs": [
    {
     "name": "stdout",
     "output_type": "stream",
     "text": [
      "0\n",
      "5\n",
      "55\n",
      "25\n",
      "10\n"
     ]
    }
   ],
   "source": [
    "# Encapculation: Objects keeps their states private. Only public method should change the state of the attributes.\n",
    "\n",
    "# Abstraction: Objects keeps the details of how they work for themselves. And only expose the high level operation to the outside world.\n",
    "\n",
    "class Car:\n",
    "\n",
    "    def __init__(self, model, colour, initial_speed=0):\n",
    "        self.model = model\n",
    "        self.colour = colour\n",
    "        if initial_speed < 0:\n",
    "            self.__speed = 0\n",
    "        else:\n",
    "            self.__speed = initial_speed\n",
    "\n",
    "    def speed_up(self, accel=5):\n",
    "        self.__speed += accel\n",
    "\n",
    "    def slow_down(self, deaccel=10):\n",
    "        if self.__speed < deaccel:\n",
    "            self.__speed = 0\n",
    "        else:\n",
    "            self.__speed -= deaccel\n",
    "\n",
    "    def show_curr_speed(self):\n",
    "        return self.__speed\n",
    "\n",
    "car_one = Car('Versa', 'Platinum', -30)\n",
    "\n",
    "print(car_one.show_curr_speed())\n",
    "car_one.speed_up()\n",
    "print(car_one.show_curr_speed())\n",
    "car_one.speed_up(50)\n",
    "print(car_one.show_curr_speed())\n",
    "car_one.slow_down(30)\n",
    "print(car_one.show_curr_speed())\n",
    "car_one.slow_down(15)\n",
    "print(car_one.show_curr_speed())"
   ]
  },
  {
   "cell_type": "code",
   "execution_count": 35,
   "id": "e0f0a115-a177-4470-89d7-1afc63637f76",
   "metadata": {},
   "outputs": [
    {
     "name": "stdout",
     "output_type": "stream",
     "text": [
      "{'name': 'Spike', 'age': 2}\n",
      "{'name': 'Spike', 'age': 2, 'colour': 'Black'}\n",
      "{'age': 2, 'colour': 'Black'}\n"
     ]
    }
   ],
   "source": [
    "# __dict__ : Attribute available for all the objects in Pyhton which displays all the variables of the object.\n",
    "\n",
    "class Dog:\n",
    "\n",
    "    def __init__(self, name, age):\n",
    "        self.name = name\n",
    "        self.age = age\n",
    "\n",
    "my_pet = Dog('Spike', 2)\n",
    "print(my_pet.__dict__)\n",
    "\n",
    "my_pet.colour = 'Black'\n",
    "print(my_pet.__dict__)\n",
    "\n",
    "del my_pet.name\n",
    "print(my_pet.__dict__)"
   ]
  },
  {
   "cell_type": "code",
   "execution_count": 41,
   "id": "343851fa-74d3-490e-9905-f43059c02c6e",
   "metadata": {},
   "outputs": [
    {
     "name": "stdout",
     "output_type": "stream",
     "text": [
      "{'_Dog__name': 'Spike', 'age': 2}\n",
      "{'_Dog__name': 'Spike', 'age': 2, 'colour': 'Black'}\n",
      "{'_Dog__name': 'Spike', 'age': 2, 'colour': 'Black', '__breed': 'Chihuahua'}\n"
     ]
    }
   ],
   "source": [
    "# name mangling is used when adding a private instance variable (_ClassName__PrivateAttribute).\n",
    "# mangling does not work is __ prefix is used outside of the classes like __breed attribute shown below.\n",
    "\n",
    "class Dog:\n",
    "\n",
    "    def __init__(self, name, age):\n",
    "        self.__name = name\n",
    "        self.age = age\n",
    "\n",
    "my_pet = Dog('Spike', 2)\n",
    "print(my_pet.__dict__)\n",
    "\n",
    "my_pet.colour = 'Black'\n",
    "print(my_pet.__dict__)\n",
    "\n",
    "my_pet.__breed = 'Chihuahua'\n",
    "print(my_pet.__dict__)"
   ]
  },
  {
   "cell_type": "code",
   "execution_count": 64,
   "id": "0be6c4cb-c516-4d04-98a1-f107fb51b707",
   "metadata": {},
   "outputs": [
    {
     "name": "stdout",
     "output_type": "stream",
     "text": [
      "{'__module__': '__main__', 'counter': 0, '_Dog__private_counter': 0, '__init__': <function Dog.__init__ at 0x105b323e0>, '__dict__': <attribute '__dict__' of 'Dog' objects>, '__weakref__': <attribute '__weakref__' of 'Dog' objects>, '__doc__': None}\n",
      "1\n",
      "1000\n",
      "2\n",
      "2000\n",
      "2\n",
      "2000\n",
      "True\n",
      "True\n",
      "True\n"
     ]
    }
   ],
   "source": [
    "# Class variables.\n",
    "\n",
    "class Dog:\n",
    "\n",
    "    counter = 0 # This is the variable class.\n",
    "    __private_counter = 0\n",
    "\n",
    "    def __init__(self, name, age):\n",
    "        self.__name = name\n",
    "        self.age = age\n",
    "        Dog.counter += 1\n",
    "        Dog.__private_counter += 1000\n",
    "\n",
    "print(Dog.__dict__)\n",
    "\n",
    "my_pet = Dog('Spike', 2)\n",
    "print(my_pet.counter)\n",
    "print(my_pet._Dog__private_counter)\n",
    "\n",
    "Jess_pet = Dog('Coralee', 4)\n",
    "print(Jess_pet.counter)\n",
    "print(Jess_pet._Dog__private_counter)\n",
    "\n",
    "print(Dog.counter)\n",
    "print(Dog._Dog__private_counter)\n",
    "\n",
    "print(hasattr(Dog, 'counter'))\n",
    "print(hasattr(my_pet, '_Dog__name'))\n",
    "print(hasattr(my_pet, 'age'))\n"
   ]
  },
  {
   "cell_type": "code",
   "execution_count": 65,
   "id": "6db6d13d-1b8e-490e-b349-0b59d805d889",
   "metadata": {},
   "outputs": [
    {
     "name": "stdout",
     "output_type": "stream",
     "text": [
      "Dog\n"
     ]
    }
   ],
   "source": [
    "print(Dog.__name__)"
   ]
  },
  {
   "cell_type": "code",
   "execution_count": 67,
   "id": "15296a33-14da-4c81-a123-8697f3a22d6d",
   "metadata": {},
   "outputs": [
    {
     "name": "stdout",
     "output_type": "stream",
     "text": [
      "<class '__main__.Dog'>\n",
      "Dog\n"
     ]
    }
   ],
   "source": [
    "print(type(my_pet))\n",
    "print(type(my_pet).__name__)"
   ]
  },
  {
   "cell_type": "code",
   "execution_count": 68,
   "id": "8758515a-405e-4136-ac27-e9fec8c9a7f3",
   "metadata": {},
   "outputs": [
    {
     "name": "stdout",
     "output_type": "stream",
     "text": [
      "__main__\n"
     ]
    }
   ],
   "source": [
    "print(Dog.__module__)"
   ]
  },
  {
   "cell_type": "code",
   "execution_count": 69,
   "id": "07f49ff7-c012-4f1e-8e1b-615076121880",
   "metadata": {},
   "outputs": [
    {
     "name": "stdout",
     "output_type": "stream",
     "text": [
      "The house at Luxemburgo 123 as an area of 100 and costs 1000000\n",
      "1\n"
     ]
    }
   ],
   "source": [
    "class House:\n",
    "    counter = 0\n",
    "    def __init__(self, address, area, price):\n",
    "        self.address = address\n",
    "        self.area = area\n",
    "        self.price = price\n",
    "        House.counter += 1\n",
    "\n",
    "    def present(self):\n",
    "        print('The house at', self.address, 'as an area of', self.area, 'and costs', self.price)\n",
    "\n",
    "sohoHouse = House('Luxemburgo 123', 100, 1000000)\n",
    "sohoHouse.present()\n",
    "\n",
    "print(House.counter)"
   ]
  },
  {
   "cell_type": "code",
   "execution_count": 71,
   "id": "6a63d4f3-e9ca-49d0-a936-031254edb3ce",
   "metadata": {},
   "outputs": [
    {
     "ename": "AttributeError",
     "evalue": "'X' object has no attribute 'self'",
     "output_type": "error",
     "traceback": [
      "\u001b[0;31m---------------------------------------------------------------------------\u001b[0m",
      "\u001b[0;31mAttributeError\u001b[0m                            Traceback (most recent call last)",
      "Cell \u001b[0;32mIn[71], line 6\u001b[0m\n\u001b[1;32m      3\u001b[0m         \u001b[38;5;28;01mpass\u001b[39;00m\n\u001b[1;32m      5\u001b[0m x \u001b[38;5;241m=\u001b[39m X()\n\u001b[0;32m----> 6\u001b[0m \u001b[38;5;28mprint\u001b[39m(\u001b[43mx\u001b[49m\u001b[38;5;241;43m.\u001b[39;49m\u001b[43mself\u001b[49m)\n",
      "\u001b[0;31mAttributeError\u001b[0m: 'X' object has no attribute 'self'"
     ]
    }
   ],
   "source": [
    "class X:\n",
    "    def __init__(self):\n",
    "        pass\n",
    "\n",
    "x = X()\n",
    "print(x.self)"
   ]
  },
  {
   "cell_type": "code",
   "execution_count": 72,
   "id": "7734eee0-ab6a-49c8-8922-cdf9d548bf27",
   "metadata": {},
   "outputs": [
    {
     "ename": "TypeError",
     "evalue": "X.__init__() takes 1 positional argument but 2 were given",
     "output_type": "error",
     "traceback": [
      "\u001b[0;31m---------------------------------------------------------------------------\u001b[0m",
      "\u001b[0;31mTypeError\u001b[0m                                 Traceback (most recent call last)",
      "Cell \u001b[0;32mIn[72], line 5\u001b[0m\n\u001b[1;32m      2\u001b[0m     \u001b[38;5;28;01mdef\u001b[39;00m \u001b[38;5;21m__init__\u001b[39m(\u001b[38;5;28mself\u001b[39m):\n\u001b[1;32m      3\u001b[0m         \u001b[38;5;28;01mpass\u001b[39;00m\n\u001b[0;32m----> 5\u001b[0m x \u001b[38;5;241m=\u001b[39m \u001b[43mX\u001b[49m\u001b[43m(\u001b[49m\u001b[38;5;124;43m'\u001b[39;49m\u001b[38;5;124;43mmyobject\u001b[39;49m\u001b[38;5;124;43m'\u001b[39;49m\u001b[43m)\u001b[49m\n\u001b[1;32m      6\u001b[0m \u001b[38;5;28mprint\u001b[39m(x\u001b[38;5;241m.\u001b[39mself)\n",
      "\u001b[0;31mTypeError\u001b[0m: X.__init__() takes 1 positional argument but 2 were given"
     ]
    }
   ],
   "source": [
    "class X:\n",
    "    def __init__(self):\n",
    "        pass\n",
    "\n",
    "x = X('myobject')\n",
    "print(x.self)"
   ]
  },
  {
   "cell_type": "code",
   "execution_count": 73,
   "id": "8ae70e4f-05dd-42e4-a595-362360ba916a",
   "metadata": {},
   "outputs": [
    {
     "name": "stdout",
     "output_type": "stream",
     "text": [
      "10\n"
     ]
    }
   ],
   "source": [
    "class One:\n",
    "    v = 5\n",
    "\n",
    "class Two:\n",
    "    v = 10\n",
    "\n",
    "class Three(Two):\n",
    "    pass\n",
    "\n",
    "\n",
    "print(Three().v)"
   ]
  }
 ],
 "metadata": {
  "kernelspec": {
   "display_name": "Python 3 (ipykernel)",
   "language": "python",
   "name": "python3"
  },
  "language_info": {
   "codemirror_mode": {
    "name": "ipython",
    "version": 3
   },
   "file_extension": ".py",
   "mimetype": "text/x-python",
   "name": "python",
   "nbconvert_exporter": "python",
   "pygments_lexer": "ipython3",
   "version": "3.12.1"
  }
 },
 "nbformat": 4,
 "nbformat_minor": 5
}
