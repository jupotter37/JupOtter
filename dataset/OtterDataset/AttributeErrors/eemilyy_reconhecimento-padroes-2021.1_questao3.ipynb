{
 "cells": [
  {
   "cell_type": "code",
   "execution_count": null,
   "metadata": {},
   "outputs": [],
   "source": [
    "import numpy as np\n",
    "import pandas as pd\n",
    "from sklearn.cluster import AgglomerativeClustering"
   ]
  },
  {
   "cell_type": "code",
   "execution_count": null,
   "metadata": {},
   "outputs": [],
   "source": [
    "df = pd.read_csv(\"maisAssistidos.csv\")\n",
    "\n",
    "x = df[df.columns[1:]].to_numpy()\n",
    "y = df[df.columns[0]].to_numpy()\n",
    "\n",
    "df\n"
   ]
  },
  {
   "cell_type": "code",
   "execution_count": 233,
   "metadata": {},
   "outputs": [
    {
     "ename": "AttributeError",
     "evalue": "'str' object has no attribute 'columns'",
     "output_type": "error",
     "traceback": [
      "\u001b[0;31m---------------------------------------------------------------------------\u001b[0m",
      "\u001b[0;31mAttributeError\u001b[0m                            Traceback (most recent call last)",
      "\u001b[1;32m/home/emily/Área de Trabalho/rp--k-nn/lista 7/questao3.ipynb Cell 3'\u001b[0m in \u001b[0;36m<cell line: 5>\u001b[0;34m()\u001b[0m\n\u001b[1;32m      <a href='vscode-notebook-cell:/home/emily/%C3%81rea%20de%20Trabalho/rp--k-nn/lista%207/questao3.ipynb#ch0000003?line=0'>1</a>\u001b[0m \u001b[39m#colunas = df.columns.values\u001b[39;00m\n\u001b[1;32m      <a href='vscode-notebook-cell:/home/emily/%C3%81rea%20de%20Trabalho/rp--k-nn/lista%207/questao3.ipynb#ch0000003?line=1'>2</a>\u001b[0m \u001b[39m# for i in range(len(x)):\u001b[39;00m\n\u001b[1;32m      <a href='vscode-notebook-cell:/home/emily/%C3%81rea%20de%20Trabalho/rp--k-nn/lista%207/questao3.ipynb#ch0000003?line=2'>3</a>\u001b[0m \u001b[39m#     print(i)\u001b[39;00m\n\u001b[1;32m      <a href='vscode-notebook-cell:/home/emily/%C3%81rea%20de%20Trabalho/rp--k-nn/lista%207/questao3.ipynb#ch0000003?line=3'>4</a>\u001b[0m     \u001b[39m#print(colunas[index])\u001b[39;00m\n\u001b[0;32m----> <a href='vscode-notebook-cell:/home/emily/%C3%81rea%20de%20Trabalho/rp--k-nn/lista%207/questao3.ipynb#ch0000003?line=4'>5</a>\u001b[0m \u001b[39mfor\u001b[39;00m coluna \u001b[39min\u001b[39;00m df[df\u001b[39m.\u001b[39;49mcolumns[\u001b[39m1\u001b[39m:]]:\n\u001b[1;32m      <a href='vscode-notebook-cell:/home/emily/%C3%81rea%20de%20Trabalho/rp--k-nn/lista%207/questao3.ipynb#ch0000003?line=5'>6</a>\u001b[0m     \u001b[39m# print(coluna)\u001b[39;00m\n\u001b[1;32m      <a href='vscode-notebook-cell:/home/emily/%C3%81rea%20de%20Trabalho/rp--k-nn/lista%207/questao3.ipynb#ch0000003?line=6'>7</a>\u001b[0m     aux \u001b[39m=\u001b[39m []\n\u001b[1;32m      <a href='vscode-notebook-cell:/home/emily/%C3%81rea%20de%20Trabalho/rp--k-nn/lista%207/questao3.ipynb#ch0000003?line=7'>8</a>\u001b[0m     media \u001b[39m=\u001b[39m \u001b[39m0\u001b[39m\n",
      "\u001b[0;31mAttributeError\u001b[0m: 'str' object has no attribute 'columns'"
     ]
    }
   ],
   "source": [
    "#colunas = df.columns.values\n",
    "# for i in range(len(x)):\n",
    "#     print(i)\n",
    "    #print(colunas[index])\n",
    "for coluna in df[df.columns[1:]]:\n",
    "    # print(coluna)\n",
    "    aux = []\n",
    "    media = 0\n",
    "    vazio = 0\n",
    "    for j in df[coluna].values:\n",
    "        if(j != '?'):\n",
    "            aux.append(int(j))\n",
    "        # else:\n",
    "        #     vazio += 1\n",
    "        #     continue\n",
    "    media = np.mean(aux)\n",
    "    for i in range(len(coluna)):\n",
    "        if(df[coluna][i] == '?'):\n",
    "            df = df[coluna][i].replace('?', str(media))\n",
    "        #print(row[index])\n",
    "\n"
   ]
  },
  {
   "cell_type": "code",
   "execution_count": null,
   "metadata": {},
   "outputs": [],
   "source": [
    "\n",
    "\n",
    "clustering = AgglomerativeClustering().fit(x)"
   ]
  }
 ],
 "metadata": {
  "interpreter": {
   "hash": "916dbcbb3f70747c44a77c7bcd40155683ae19c65e1c03b4aa3499c5328201f1"
  },
  "kernelspec": {
   "display_name": "Python 3.8.10 64-bit",
   "language": "python",
   "name": "python3"
  },
  "language_info": {
   "codemirror_mode": {
    "name": "ipython",
    "version": 3
   },
   "file_extension": ".py",
   "mimetype": "text/x-python",
   "name": "python",
   "nbconvert_exporter": "python",
   "pygments_lexer": "ipython3",
   "version": "3.8.10"
  },
  "orig_nbformat": 4
 },
 "nbformat": 4,
 "nbformat_minor": 2
}
