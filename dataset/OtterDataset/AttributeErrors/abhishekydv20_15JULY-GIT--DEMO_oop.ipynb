{
  "cells": [
    {
      "cell_type": "markdown",
      "metadata": {
        "id": "view-in-github",
        "colab_type": "text"
      },
      "source": [
        "<a href=\"https://colab.research.google.com/github/abhishekydv20/15JULY-GIT--DEMO/blob/main/oop.ipynb\" target=\"_parent\"><img src=\"https://colab.research.google.com/assets/colab-badge.svg\" alt=\"Open In Colab\"/></a>"
      ]
    },
    {
      "cell_type": "markdown",
      "source": [
        "OBJECT ORIENTED PROGRAMMING\n"
      ],
      "metadata": {
        "id": "zhEyM0pNGsb7"
      }
    },
    {
      "cell_type": "code",
      "source": [
        "class Student:\n",
        "    # class properties\n",
        "    # class variables\n",
        "    student_name = \"Rahul kumar\"\n",
        "    student_college = \"poornima institute\"\n",
        "    college_city = \"Jaipur\"\n",
        "# to access the property of class, you will need an object\n",
        "\n",
        "# object or instance creation\n",
        "obj =  Student()\n",
        "\n"
      ],
      "metadata": {
        "id": "qxfwirlgG3ao"
      },
      "execution_count": 44,
      "outputs": []
    },
    {
      "cell_type": "code",
      "source": [
        "print(obj.student_name)"
      ],
      "metadata": {
        "colab": {
          "base_uri": "https://localhost:8080/"
        },
        "id": "WOM1D4MOKXpQ",
        "outputId": "b56ef7e8-6794-459a-f09c-1436c8a6d7f5"
      },
      "execution_count": 45,
      "outputs": [
        {
          "output_type": "stream",
          "name": "stdout",
          "text": [
            "Rahul kumar\n"
          ]
        }
      ]
    },
    {
      "cell_type": "code",
      "source": [
        "print(obj.student_college)"
      ],
      "metadata": {
        "colab": {
          "base_uri": "https://localhost:8080/"
        },
        "id": "ErHLnQJMaC1X",
        "outputId": "e2692f0c-1424-41de-bbc5-47bf37bbf4fd"
      },
      "execution_count": 46,
      "outputs": [
        {
          "output_type": "stream",
          "name": "stdout",
          "text": [
            "poornima institute\n"
          ]
        }
      ]
    },
    {
      "cell_type": "code",
      "source": [
        "print(obj.college_city)"
      ],
      "metadata": {
        "colab": {
          "base_uri": "https://localhost:8080/"
        },
        "id": "mufUksiIakJO",
        "outputId": "31b84964-d849-4473-abc0-57b5f0a80d85"
      },
      "execution_count": 47,
      "outputs": [
        {
          "output_type": "stream",
          "name": "stdout",
          "text": [
            "Jaipur\n"
          ]
        }
      ]
    },
    {
      "cell_type": "code",
      "source": [
        "class Student:\n",
        "    #class variables\n",
        "    student_name = \"Rohit kumar\"\n",
        "    student_college = \"Poornima\"\n",
        "\n",
        "# instance variables\n",
        "    def __init__(self):\n",
        "        self.student_roll_no = 25\n",
        "        self.student_branch = 'CSE'\n",
        "        self.student_address = \"Vridavan mathura\"\n",
        "        print(\"constructor executed!\")"
      ],
      "metadata": {
        "id": "ZLLLcuFl8cor"
      },
      "execution_count": 48,
      "outputs": []
    },
    {
      "cell_type": "code",
      "source": [
        "obj1 = Student()  # object"
      ],
      "metadata": {
        "colab": {
          "base_uri": "https://localhost:8080/"
        },
        "id": "Pp80X62uBUV0",
        "outputId": "a6598da9-eae0-42ca-d6a3-84c7e785dbd7"
      },
      "execution_count": 49,
      "outputs": [
        {
          "output_type": "stream",
          "name": "stdout",
          "text": [
            "constructor executed!\n"
          ]
        }
      ]
    },
    {
      "cell_type": "code",
      "source": [
        "obj1.student_name"
      ],
      "metadata": {
        "colab": {
          "base_uri": "https://localhost:8080/",
          "height": 36
        },
        "id": "-xaf10GiFEgP",
        "outputId": "93c2ce18-d7c6-4eec-8147-1ce2bfdc37ab"
      },
      "execution_count": 50,
      "outputs": [
        {
          "output_type": "execute_result",
          "data": {
            "text/plain": [
              "'Rohit kumar'"
            ],
            "application/vnd.google.colaboratory.intrinsic+json": {
              "type": "string"
            }
          },
          "metadata": {},
          "execution_count": 50
        }
      ]
    },
    {
      "cell_type": "code",
      "source": [
        "obj1.student_roll_no"
      ],
      "metadata": {
        "colab": {
          "base_uri": "https://localhost:8080/"
        },
        "id": "0Ng6aJz6I1rp",
        "outputId": "e3fac744-4317-4d78-8c76-0704aeb8792b"
      },
      "execution_count": 51,
      "outputs": [
        {
          "output_type": "execute_result",
          "data": {
            "text/plain": [
              "25"
            ]
          },
          "metadata": {},
          "execution_count": 51
        }
      ]
    },
    {
      "cell_type": "code",
      "source": [
        "Student.student_name   # class variables"
      ],
      "metadata": {
        "colab": {
          "base_uri": "https://localhost:8080/",
          "height": 36
        },
        "id": "aDAP6Blo-h68",
        "outputId": "85b3707d-d85b-468e-8366-9ebcd0568bad"
      },
      "execution_count": 52,
      "outputs": [
        {
          "output_type": "execute_result",
          "data": {
            "text/plain": [
              "'Rohit kumar'"
            ],
            "application/vnd.google.colaboratory.intrinsic+json": {
              "type": "string"
            }
          },
          "metadata": {},
          "execution_count": 52
        }
      ]
    },
    {
      "cell_type": "code",
      "source": [
        "Student.student_roll_no\n",
        "#AttributeError"
      ],
      "metadata": {
        "colab": {
          "base_uri": "https://localhost:8080/",
          "height": 158
        },
        "id": "tg8xtSTs-hxI",
        "outputId": "2e616fa1-fc55-4ecf-9de4-064857d45ff5"
      },
      "execution_count": 53,
      "outputs": [
        {
          "output_type": "error",
          "ename": "AttributeError",
          "evalue": "type object 'Student' has no attribute 'student_roll_no'",
          "traceback": [
            "\u001b[0;31m---------------------------------------------------------------------------\u001b[0m",
            "\u001b[0;31mAttributeError\u001b[0m                            Traceback (most recent call last)",
            "\u001b[0;32m<ipython-input-53-fcc31cf957d8>\u001b[0m in \u001b[0;36m<cell line: 1>\u001b[0;34m()\u001b[0m\n\u001b[0;32m----> 1\u001b[0;31m \u001b[0mStudent\u001b[0m\u001b[0;34m.\u001b[0m\u001b[0mstudent_roll_no\u001b[0m\u001b[0;34m\u001b[0m\u001b[0;34m\u001b[0m\u001b[0m\n\u001b[0m\u001b[1;32m      2\u001b[0m \u001b[0;31m#AttributeError\u001b[0m\u001b[0;34m\u001b[0m\u001b[0;34m\u001b[0m\u001b[0m\n",
            "\u001b[0;31mAttributeError\u001b[0m: type object 'Student' has no attribute 'student_roll_no'"
          ]
        }
      ]
    },
    {
      "cell_type": "code",
      "source": [
        "class Student:\n",
        "    #class variables\n",
        "    student_name = \"Rohit kumar\"\n",
        "    student_college = \"Poornima\"\n",
        "\n",
        "# instance variables\n",
        "    def __init__(self,roll_no,branch,address,marks_ls):\n",
        "        self.student_roll_no = roll_no\n",
        "        self.student_branch = branch\n",
        "        self.student_address = address\n",
        "        self.subject_marks = marks_ls\n",
        "        print(\"constructor executed!\")\n",
        "\n",
        "\n",
        "    # function  or method\n",
        "    def marks_average_finder(self):\n",
        "        # block of code\n",
        "        marks = self.subject_marks\n",
        "        total_sum = 0\n",
        "        count = 0\n",
        "        for mark in marks:\n",
        "            total_sum = total_sum + mark\n",
        "            count = count + 1\n",
        "\n",
        "        print(\"YOur average marks is : \",total_sum/count)\n",
        ""
      ],
      "metadata": {
        "id": "v11yacFH-hua"
      },
      "execution_count": 54,
      "outputs": []
    },
    {
      "cell_type": "code",
      "source": [
        "Manshi = Student(roll_no=11,branch=\"CSE\",address=\"Vridavan mathura\",marks_ls=[25,41,35,31,37,39])\n",
        "Sachin = Student(roll_no=12,branch=\"IT\",address='jaipur',marks_ls=[49,41,35,36,38,39])"
      ],
      "metadata": {
        "colab": {
          "base_uri": "https://localhost:8080/"
        },
        "id": "9F3em_4R-hrc",
        "outputId": "d6725705-84e7-463a-df3b-cdc6c74fd60f"
      },
      "execution_count": 55,
      "outputs": [
        {
          "output_type": "stream",
          "name": "stdout",
          "text": [
            "constructor executed!\n",
            "constructor executed!\n"
          ]
        }
      ]
    },
    {
      "cell_type": "code",
      "source": [
        "Sachin.marks_average_finder()"
      ],
      "metadata": {
        "colab": {
          "base_uri": "https://localhost:8080/"
        },
        "id": "s6F9pPkTTDEz",
        "outputId": "daa34589-a06f-4d5f-bf5c-df07d3b0851b"
      },
      "execution_count": 56,
      "outputs": [
        {
          "output_type": "stream",
          "name": "stdout",
          "text": [
            "YOur average marks is :  39.666666666666664\n"
          ]
        }
      ]
    },
    {
      "cell_type": "code",
      "source": [
        "class Prectise:\n",
        "    def __init__(self):\n",
        "        self.random_number = [25,41,63,9,58,75,95,45,68,25,3,4,61,2]\n",
        "    # instance method\n",
        "    def target_finder(target):\n",
        "        pass"
      ],
      "metadata": {
        "id": "QuxCew15ilCz"
      },
      "execution_count": 57,
      "outputs": []
    },
    {
      "cell_type": "code",
      "source": [
        "class Student:\n",
        "    department  = \"Computer science\"\n",
        "    cordinator = \"Himanshu\"\n",
        "    def __init__(self,nm,roll,college,city):\n",
        "        self.name = nm\n",
        "        self.roll_no = roll\n",
        "        self.college_name =  college\n",
        "        self.college_city = city\n",
        "\n",
        "    #METHODS  instance variable\n",
        "    def display(self):\n",
        "        print(self.name)\n",
        "        print(self.roll_no)\n",
        "        print(self.college_name)\n",
        "        print(self.college_city)\n",
        "    @classmethod\n",
        "    def display2(cls):\n",
        "        print(cls.department)\n",
        "        print(cls.cordinator)\n",
        "\n",
        "    @staticmethod\n",
        "    def display3():\n",
        "        print(\"hii i am static method\")"
      ],
      "metadata": {
        "id": "PAA229eUw77S"
      },
      "execution_count": 62,
      "outputs": []
    },
    {
      "cell_type": "code",
      "source": [
        "obj1 = Student(nm=\"rahul\",roll=101,college='poornima',city='jaipur')"
      ],
      "metadata": {
        "id": "-C4SQ7b-xF6n"
      },
      "execution_count": 63,
      "outputs": []
    },
    {
      "cell_type": "code",
      "source": [
        "obj1.college_name"
      ],
      "metadata": {
        "colab": {
          "base_uri": "https://localhost:8080/",
          "height": 36
        },
        "id": "hG1jozcUxKo4",
        "outputId": "ab087a6f-1926-4f5d-eac4-df09471962e9"
      },
      "execution_count": 64,
      "outputs": [
        {
          "output_type": "execute_result",
          "data": {
            "text/plain": [
              "'poornima'"
            ],
            "application/vnd.google.colaboratory.intrinsic+json": {
              "type": "string"
            }
          },
          "metadata": {},
          "execution_count": 64
        }
      ]
    },
    {
      "cell_type": "code",
      "source": [
        "obj1.display()"
      ],
      "metadata": {
        "colab": {
          "base_uri": "https://localhost:8080/"
        },
        "id": "M98NZ_NdxM-b",
        "outputId": "3d11c4e9-411a-4230-ca25-9186642975ed"
      },
      "execution_count": 65,
      "outputs": [
        {
          "output_type": "stream",
          "name": "stdout",
          "text": [
            "rahul\n",
            "101\n",
            "poornima\n",
            "jaipur\n"
          ]
        }
      ]
    },
    {
      "cell_type": "code",
      "source": [
        "obj1.display2()   # class variable"
      ],
      "metadata": {
        "colab": {
          "base_uri": "https://localhost:8080/"
        },
        "id": "bki7-Ct4xM7L",
        "outputId": "65173d48-79e5-4f46-d165-2b6e91a7949b"
      },
      "execution_count": 66,
      "outputs": [
        {
          "output_type": "stream",
          "name": "stdout",
          "text": [
            "Computer science\n",
            "Himanshu\n"
          ]
        }
      ]
    },
    {
      "cell_type": "code",
      "source": [
        "Student.display2()"
      ],
      "metadata": {
        "colab": {
          "base_uri": "https://localhost:8080/"
        },
        "id": "gVfXUTyUxM4Q",
        "outputId": "324bd2c0-75ee-484a-d11d-c81b96e4827e"
      },
      "execution_count": 67,
      "outputs": [
        {
          "output_type": "stream",
          "name": "stdout",
          "text": [
            "Computer science\n",
            "Himanshu\n"
          ]
        }
      ]
    }
  ],
  "metadata": {
    "colab": {
      "provenance": [],
      "authorship_tag": "ABX9TyOLL6bAm/x3DgtnWEOn14xJ",
      "include_colab_link": true
    },
    "kernelspec": {
      "display_name": "Python 3",
      "name": "python3"
    },
    "language_info": {
      "name": "python"
    }
  },
  "nbformat": 4,
  "nbformat_minor": 0
}