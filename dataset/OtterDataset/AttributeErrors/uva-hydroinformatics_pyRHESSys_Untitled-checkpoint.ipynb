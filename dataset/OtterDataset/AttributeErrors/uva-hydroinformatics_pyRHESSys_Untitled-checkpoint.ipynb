{
 "cells": [
  {
   "cell_type": "code",
   "execution_count": 39,
   "metadata": {},
   "outputs": [],
   "source": [
    "import json\n",
    "import pkg_resources"
   ]
  },
  {
   "cell_type": "code",
   "execution_count": 57,
   "metadata": {},
   "outputs": [],
   "source": [
    "PARAMETER_PATH = pkg_resources.resource_filename(\n",
    "        __name__, 'parameter_meta.json')\n",
    "with open(PARAMETER_PATH, 'r') as f:\n",
    "    PARAMETER_META = json.load(f)\n",
    "FILE_PATH = pkg_resources.resource_filename(\n",
    "        __name__, 'file_name.json')\n",
    "with open(FILE_PATH, 'r') as f:\n",
    "    FILE_NAME = json.load(f)"
   ]
  },
  {
   "cell_type": "code",
   "execution_count": 58,
   "metadata": {
    "scrolled": true
   },
   "outputs": [],
   "source": [
    "P = PARAMETER_META\n",
    "F = FILE_NAME"
   ]
  },
  {
   "cell_type": "code",
   "execution_count": 60,
   "metadata": {},
   "outputs": [
    {
     "data": {
      "text/plain": [
       "{'version': 'rhessys5.20.0',\n",
       " 'start_date': '1936 1 1 1',\n",
       " 'end_date': '2013 12 31 1',\n",
       " 'capr': 0.001,\n",
       " 'capMax': 0.01,\n",
       " 'leafDarkRespScalar': 0.5,\n",
       " 'frootRespScalar': 0.25,\n",
       " 'StemWoodRespScalar': 0.05,\n",
       " 'rtz': 2.7,\n",
       " 's1': 2.9,\n",
       " 's2': 1.4,\n",
       " 's3': 20.0,\n",
       " 'sv1': 4.5,\n",
       " 'sv2': 55.6,\n",
       " 'gw1': 0.05,\n",
       " 'gw2': 0.1}"
      ]
     },
     "execution_count": 60,
     "metadata": {},
     "output_type": "execute_result"
    }
   ],
   "source": [
    "P"
   ]
  },
  {
   "cell_type": "code",
   "execution_count": 22,
   "metadata": {},
   "outputs": [
    {
     "data": {
      "text/plain": [
       "str"
      ]
     },
     "execution_count": 22,
     "metadata": {},
     "output_type": "execute_result"
    }
   ],
   "source": [
    "rhessys_run_cmd = ''.join(['{} -st {} -ed {}'.format(fman_dir, fman_dir),\n",
    "                       ' -v {}:{}'.format(settings_path, settings_path),\n",
    "                       ' -v {}:{}'.format(input_path, input_path),\n",
    "                       ' -v {}:{} '.format(output_path, output_path),\n",
    "                       \" --entrypoint '/bin/bash' \",\n",
    "                       self.executable,\n",
    "                       '  -c \"',\n",
    "                       run_cmd, '\"'])"
   ]
  },
  {
   "cell_type": "code",
   "execution_count": 61,
   "metadata": {},
   "outputs": [],
   "source": [
    "rhessys_run_cmd = ''.join(['{} -st {} -ed {}'.format(P['version'], P['start_date'], P['end_date']),\n",
    "                           ' -b -newcaprise -capr {} -gwtoriparian - capMax {}'.format(P['capr'], P['capMax']),\n",
    "                           ' -slowDrain -leafDarkRespScalar {}'.format(P['leafDarkRespScalar']),\n",
    "                           ' -frootRespScalar {} -leafDarkRespScalar {}'.format(P['frootRespScalar'],P['leafDarkRespScalar']),\n",
    "                           ' -t tecfiles{} -w worldfiles{} -whdr worldfiles{}'.format(F['tecfiles'],F['worldfiles1'],F['worldfiles2']),\n",
    "                           ' -r flows{} -rtx {}'.format(F['flows'], P['rtz']),\n",
    "                           ' -pre output{} -s {} {} {} -sv {} {} -gw {} {}'.format(F['prefix'], P['rtz'], P['s1'], P['s2'], P['s3'], P['sv1'], P['sv2'], P['gw1'], P['gw2'])                          \n",
    "                          ])"
   ]
  },
  {
   "cell_type": "code",
   "execution_count": 62,
   "metadata": {},
   "outputs": [
    {
     "data": {
      "text/plain": [
       "'rhessys5.20.0 -st 1936 1 1 1 -ed 2013 12 31 1 -b -newcaprise -capr 0.001 -gwtoriparian - capMax 0.01 -slowDrain -leafDarkRespScalar 0.5 -frootRespScalar 0.25 -leafDarkRespScalar 0.5 -t tecfiles/tec_daily.txt -w worldfiles/world -whdr worldfiles/world.hdr -r flows/flow.txt -rtx 2.7 -pre output/rhessysLOCAL -s 2.7 2.9 1.4 -sv 20.0 4.5 -gw 55.6 0.05'"
      ]
     },
     "execution_count": 62,
     "metadata": {},
     "output_type": "execute_result"
    }
   ],
   "source": [
    "rhessys_run_cmd"
   ]
  },
  {
   "cell_type": "code",
   "execution_count": null,
   "metadata": {},
   "outputs": [],
   "source": []
  },
  {
   "cell_type": "code",
   "execution_count": 79,
   "metadata": {
    "scrolled": false
   },
   "outputs": [
    {
     "name": "stdout",
     "output_type": "stream",
     "text": [
      "Populating the interactive namespace from numpy and matplotlib\n"
     ]
    },
    {
     "ename": "ModuleNotFoundError",
     "evalue": "No module named 'pyrhessys'",
     "output_type": "error",
     "traceback": [
      "\u001b[0;31m---------------------------------------------------------------------------\u001b[0m",
      "\u001b[0;31mModuleNotFoundError\u001b[0m                       Traceback (most recent call last)",
      "\u001b[0;32m<ipython-input-79-bd34f7a95222>\u001b[0m in \u001b[0;36m<module>\u001b[0;34m\u001b[0m\n\u001b[1;32m      1\u001b[0m \u001b[0mget_ipython\u001b[0m\u001b[0;34m(\u001b[0m\u001b[0;34m)\u001b[0m\u001b[0;34m.\u001b[0m\u001b[0mrun_line_magic\u001b[0m\u001b[0;34m(\u001b[0m\u001b[0;34m'pylab'\u001b[0m\u001b[0;34m,\u001b[0m \u001b[0;34m'inline'\u001b[0m\u001b[0;34m)\u001b[0m\u001b[0;34m\u001b[0m\u001b[0;34m\u001b[0m\u001b[0m\n\u001b[0;32m----> 2\u001b[0;31m \u001b[0;32mimport\u001b[0m \u001b[0mpyrhessys\u001b[0m\u001b[0;34m\u001b[0m\u001b[0;34m\u001b[0m\u001b[0m\n\u001b[0m",
      "\u001b[0;31mModuleNotFoundError\u001b[0m: No module named 'pyrhessys'"
     ]
    }
   ],
   "source": [
    "%pylab inline\n",
    "import pyrhessys"
   ]
  },
  {
   "cell_type": "code",
   "execution_count": 8,
   "metadata": {},
   "outputs": [],
   "source": [
    "import pyrhessys as rs"
   ]
  },
  {
   "cell_type": "code",
   "execution_count": 9,
   "metadata": {
    "scrolled": true
   },
   "outputs": [],
   "source": [
    "r = rs.Simulation(\"aa\", \"bb\")"
   ]
  },
  {
   "cell_type": "code",
   "execution_count": 6,
   "metadata": {},
   "outputs": [
    {
     "data": {
      "text/plain": [
       "PosixPath('/media/sf_pysumma/pyRHESSys/pyRHESSys/pyrhessys/bb/clim')"
      ]
     },
     "execution_count": 6,
     "metadata": {},
     "output_type": "execute_result"
    }
   ],
   "source": [
    "r.clim"
   ]
  },
  {
   "cell_type": "code",
   "execution_count": 5,
   "metadata": {},
   "outputs": [
    {
     "ename": "AttributeError",
     "evalue": "type object 'Simulation' has no attribute 'P'",
     "output_type": "error",
     "traceback": [
      "\u001b[0;31m---------------------------------------------------------------------------\u001b[0m",
      "\u001b[0;31mAttributeError\u001b[0m                            Traceback (most recent call last)",
      "\u001b[0;32m<ipython-input-5-c3995f6a45dc>\u001b[0m in \u001b[0;36m<module>\u001b[0;34m\u001b[0m\n\u001b[0;32m----> 1\u001b[0;31m \u001b[0mrs\u001b[0m\u001b[0;34m.\u001b[0m\u001b[0mSimulation\u001b[0m\u001b[0;34m.\u001b[0m\u001b[0mP\u001b[0m\u001b[0;34m\u001b[0m\u001b[0;34m\u001b[0m\u001b[0m\n\u001b[0m",
      "\u001b[0;31mAttributeError\u001b[0m: type object 'Simulation' has no attribute 'P'"
     ]
    }
   ],
   "source": [
    "rs.Simulation."
   ]
  },
  {
   "cell_type": "code",
   "execution_count": 10,
   "metadata": {},
   "outputs": [],
   "source": [
    "r.run(\"local\")"
   ]
  },
  {
   "cell_type": "code",
   "execution_count": null,
   "metadata": {},
   "outputs": [],
   "source": []
  }
 ],
 "metadata": {
  "kernelspec": {
   "display_name": "pyRHESSys",
   "language": "python",
   "name": "pyrhessys"
  },
  "language_info": {
   "codemirror_mode": {
    "name": "ipython",
    "version": 3
   },
   "file_extension": ".py",
   "mimetype": "text/x-python",
   "name": "python",
   "nbconvert_exporter": "python",
   "pygments_lexer": "ipython3",
   "version": "3.7.6"
  }
 },
 "nbformat": 4,
 "nbformat_minor": 2
}
