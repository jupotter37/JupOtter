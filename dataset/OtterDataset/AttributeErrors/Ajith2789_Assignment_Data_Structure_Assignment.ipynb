{
  "nbformat": 4,
  "nbformat_minor": 0,
  "metadata": {
    "colab": {
      "provenance": []
    },
    "kernelspec": {
      "name": "python3",
      "display_name": "Python 3"
    },
    "language_info": {
      "name": "python"
    }
  },
  "cells": [
    {
      "cell_type": "markdown",
      "source": [
        "**1.Discuss string slicing and provide examples?**\n",
        "\n",
        "String slicing is a method in python used to extract a part (sub string) of a string by specifying a range of indices.\n",
        "\n",
        "Examples:"
      ],
      "metadata": {
        "id": "9ToQmKwVw_oz"
      }
    },
    {
      "cell_type": "code",
      "source": [
        "a = \"Ajith\"\n",
        "a[0]  #It gives the index value range and 0 index position is \"A\"."
      ],
      "metadata": {
        "colab": {
          "base_uri": "https://localhost:8080/",
          "height": 36
        },
        "id": "zzaw62y-xwHv",
        "outputId": "babbfb61-fc9e-4910-b5a5-49721bf60132"
      },
      "execution_count": 2,
      "outputs": [
        {
          "output_type": "execute_result",
          "data": {
            "text/plain": [
              "'A'"
            ],
            "application/vnd.google.colaboratory.intrinsic+json": {
              "type": "string"
            }
          },
          "metadata": {},
          "execution_count": 2
        }
      ]
    },
    {
      "cell_type": "code",
      "source": [
        "a[3]"
      ],
      "metadata": {
        "colab": {
          "base_uri": "https://localhost:8080/",
          "height": 36
        },
        "id": "jO-6mTeDx6Sq",
        "outputId": "da8e4b1c-aae8-46f1-9013-02cb86e8b322"
      },
      "execution_count": 3,
      "outputs": [
        {
          "output_type": "execute_result",
          "data": {
            "text/plain": [
              "'t'"
            ],
            "application/vnd.google.colaboratory.intrinsic+json": {
              "type": "string"
            }
          },
          "metadata": {},
          "execution_count": 3
        }
      ]
    },
    {
      "cell_type": "code",
      "source": [
        "a[4]"
      ],
      "metadata": {
        "colab": {
          "base_uri": "https://localhost:8080/",
          "height": 36
        },
        "id": "yEkIDy-syUBs",
        "outputId": "bb143ae6-f9ab-490d-8f9c-5671c4b77966"
      },
      "execution_count": 5,
      "outputs": [
        {
          "output_type": "execute_result",
          "data": {
            "text/plain": [
              "'h'"
            ],
            "application/vnd.google.colaboratory.intrinsic+json": {
              "type": "string"
            }
          },
          "metadata": {},
          "execution_count": 5
        }
      ]
    },
    {
      "cell_type": "code",
      "source": [
        "a[-1]   #Negative index will returns the index position from end of the string."
      ],
      "metadata": {
        "colab": {
          "base_uri": "https://localhost:8080/",
          "height": 36
        },
        "id": "HhEMPZZ5yV2k",
        "outputId": "9f9f8a49-9398-4267-e8a8-3649bd4e1213"
      },
      "execution_count": 6,
      "outputs": [
        {
          "output_type": "execute_result",
          "data": {
            "text/plain": [
              "'h'"
            ],
            "application/vnd.google.colaboratory.intrinsic+json": {
              "type": "string"
            }
          },
          "metadata": {},
          "execution_count": 6
        }
      ]
    },
    {
      "cell_type": "code",
      "source": [
        "a[:3]  #It starts from starting of the string and ends with n-1 value."
      ],
      "metadata": {
        "colab": {
          "base_uri": "https://localhost:8080/",
          "height": 36
        },
        "id": "M2MYu1e_yav7",
        "outputId": "da44baa6-6b53-4a8d-81e7-62ab69d046b0"
      },
      "execution_count": 7,
      "outputs": [
        {
          "output_type": "execute_result",
          "data": {
            "text/plain": [
              "'Aji'"
            ],
            "application/vnd.google.colaboratory.intrinsic+json": {
              "type": "string"
            }
          },
          "metadata": {},
          "execution_count": 7
        }
      ]
    },
    {
      "cell_type": "code",
      "source": [
        "a[0:5]"
      ],
      "metadata": {
        "colab": {
          "base_uri": "https://localhost:8080/",
          "height": 36
        },
        "id": "SH_WIC79y7GG",
        "outputId": "c720c81c-7209-40ed-a09f-77679299e5ec"
      },
      "execution_count": 9,
      "outputs": [
        {
          "output_type": "execute_result",
          "data": {
            "text/plain": [
              "'Ajith'"
            ],
            "application/vnd.google.colaboratory.intrinsic+json": {
              "type": "string"
            }
          },
          "metadata": {},
          "execution_count": 9
        }
      ]
    },
    {
      "cell_type": "code",
      "source": [
        "a[-5:] #Negative indexing"
      ],
      "metadata": {
        "colab": {
          "base_uri": "https://localhost:8080/",
          "height": 36
        },
        "id": "_nFpefxuzSu1",
        "outputId": "1e86db5e-7de1-44b9-90fb-40c7b21030da"
      },
      "execution_count": 16,
      "outputs": [
        {
          "output_type": "execute_result",
          "data": {
            "text/plain": [
              "'Ajith'"
            ],
            "application/vnd.google.colaboratory.intrinsic+json": {
              "type": "string"
            }
          },
          "metadata": {},
          "execution_count": 16
        }
      ]
    },
    {
      "cell_type": "code",
      "source": [
        "for i in a:   #To iterate the whole string we use this.\n",
        "  print(i)"
      ],
      "metadata": {
        "colab": {
          "base_uri": "https://localhost:8080/"
        },
        "id": "kr0iDxc9zbNP",
        "outputId": "5ed276ac-bb8a-474a-c3b2-c7fa34200f32"
      },
      "execution_count": 17,
      "outputs": [
        {
          "output_type": "stream",
          "name": "stdout",
          "text": [
            "A\n",
            "j\n",
            "i\n",
            "t\n",
            "h\n"
          ]
        }
      ]
    },
    {
      "cell_type": "code",
      "source": [
        "string1 = \"I am a good student\"\n",
        "string1[0:4]  #In this 4 is exclusive [a,b] it will result till b-1 index."
      ],
      "metadata": {
        "colab": {
          "base_uri": "https://localhost:8080/",
          "height": 36
        },
        "id": "5_Wam86az2vp",
        "outputId": "446757f3-f70f-4162-ac10-ed229b9fe52b"
      },
      "execution_count": 18,
      "outputs": [
        {
          "output_type": "execute_result",
          "data": {
            "text/plain": [
              "'I am'"
            ],
            "application/vnd.google.colaboratory.intrinsic+json": {
              "type": "string"
            }
          },
          "metadata": {},
          "execution_count": 18
        }
      ]
    },
    {
      "cell_type": "code",
      "source": [
        "string1[5:12]"
      ],
      "metadata": {
        "colab": {
          "base_uri": "https://localhost:8080/",
          "height": 36
        },
        "id": "lLebu-sx0xEK",
        "outputId": "a0ca6a15-7add-427a-c549-f3ae10c02de6"
      },
      "execution_count": 19,
      "outputs": [
        {
          "output_type": "execute_result",
          "data": {
            "text/plain": [
              "'a good '"
            ],
            "application/vnd.google.colaboratory.intrinsic+json": {
              "type": "string"
            }
          },
          "metadata": {},
          "execution_count": 19
        }
      ]
    },
    {
      "cell_type": "code",
      "source": [
        "string1[::]"
      ],
      "metadata": {
        "colab": {
          "base_uri": "https://localhost:8080/",
          "height": 36
        },
        "id": "XuGI0oq80w4d",
        "outputId": "c74a586a-99e7-4417-83fa-9a66dfaaa75d"
      },
      "execution_count": 20,
      "outputs": [
        {
          "output_type": "execute_result",
          "data": {
            "text/plain": [
              "'I am a good student'"
            ],
            "application/vnd.google.colaboratory.intrinsic+json": {
              "type": "string"
            }
          },
          "metadata": {},
          "execution_count": 20
        }
      ]
    },
    {
      "cell_type": "code",
      "source": [
        "string1[0:]  #It will provide you the whole string by default."
      ],
      "metadata": {
        "colab": {
          "base_uri": "https://localhost:8080/",
          "height": 36
        },
        "id": "nuyvIOyX1Bpb",
        "outputId": "23489090-1e63-4a7b-f92d-ae8ecd6fa40c"
      },
      "execution_count": 21,
      "outputs": [
        {
          "output_type": "execute_result",
          "data": {
            "text/plain": [
              "'I am a good student'"
            ],
            "application/vnd.google.colaboratory.intrinsic+json": {
              "type": "string"
            }
          },
          "metadata": {},
          "execution_count": 21
        }
      ]
    },
    {
      "cell_type": "code",
      "source": [
        "string1[3:]"
      ],
      "metadata": {
        "colab": {
          "base_uri": "https://localhost:8080/",
          "height": 36
        },
        "id": "WKbu6bDx1MPN",
        "outputId": "9b49b2a3-1afb-43ba-83ee-3160ddc29a6a"
      },
      "execution_count": 23,
      "outputs": [
        {
          "output_type": "execute_result",
          "data": {
            "text/plain": [
              "'m a good student'"
            ],
            "application/vnd.google.colaboratory.intrinsic+json": {
              "type": "string"
            }
          },
          "metadata": {},
          "execution_count": 23
        }
      ]
    },
    {
      "cell_type": "code",
      "source": [
        "string1[-12]"
      ],
      "metadata": {
        "colab": {
          "base_uri": "https://localhost:8080/",
          "height": 36
        },
        "id": "rGFk30TP1RIs",
        "outputId": "1d8f6af5-8d96-4062-aeae-fcab16c612e8"
      },
      "execution_count": 24,
      "outputs": [
        {
          "output_type": "execute_result",
          "data": {
            "text/plain": [
              "'g'"
            ],
            "application/vnd.google.colaboratory.intrinsic+json": {
              "type": "string"
            }
          },
          "metadata": {},
          "execution_count": 24
        }
      ]
    },
    {
      "cell_type": "code",
      "source": [
        "string1[-12:]"
      ],
      "metadata": {
        "colab": {
          "base_uri": "https://localhost:8080/",
          "height": 36
        },
        "id": "feLGQbBU1UhJ",
        "outputId": "5f8d4129-b386-44d1-de7c-fa54a50e70c2"
      },
      "execution_count": 26,
      "outputs": [
        {
          "output_type": "execute_result",
          "data": {
            "text/plain": [
              "'good student'"
            ],
            "application/vnd.google.colaboratory.intrinsic+json": {
              "type": "string"
            }
          },
          "metadata": {},
          "execution_count": 26
        }
      ]
    },
    {
      "cell_type": "code",
      "source": [
        "string1[:-12]"
      ],
      "metadata": {
        "colab": {
          "base_uri": "https://localhost:8080/",
          "height": 36
        },
        "id": "PQHqmebJ1UdQ",
        "outputId": "1d30df91-4f0c-4e67-b108-9c6a3949f75e"
      },
      "execution_count": 27,
      "outputs": [
        {
          "output_type": "execute_result",
          "data": {
            "text/plain": [
              "'I am a '"
            ],
            "application/vnd.google.colaboratory.intrinsic+json": {
              "type": "string"
            }
          },
          "metadata": {},
          "execution_count": 27
        }
      ]
    },
    {
      "cell_type": "code",
      "source": [
        "string1[-9]"
      ],
      "metadata": {
        "colab": {
          "base_uri": "https://localhost:8080/",
          "height": 36
        },
        "id": "UwxLD5if1qIE",
        "outputId": "9205853e-3a16-4372-ad1c-36532e79981d"
      },
      "execution_count": 28,
      "outputs": [
        {
          "output_type": "execute_result",
          "data": {
            "text/plain": [
              "'d'"
            ],
            "application/vnd.google.colaboratory.intrinsic+json": {
              "type": "string"
            }
          },
          "metadata": {},
          "execution_count": 28
        }
      ]
    },
    {
      "cell_type": "code",
      "source": [
        "string1[-8]"
      ],
      "metadata": {
        "colab": {
          "base_uri": "https://localhost:8080/",
          "height": 36
        },
        "id": "LcPfAIYo1yFG",
        "outputId": "98b0f56d-3ca2-46c6-e5f4-5f249fc8de78"
      },
      "execution_count": 31,
      "outputs": [
        {
          "output_type": "execute_result",
          "data": {
            "text/plain": [
              "' '"
            ],
            "application/vnd.google.colaboratory.intrinsic+json": {
              "type": "string"
            }
          },
          "metadata": {},
          "execution_count": 31
        }
      ]
    },
    {
      "cell_type": "code",
      "source": [
        "string1[::]"
      ],
      "metadata": {
        "colab": {
          "base_uri": "https://localhost:8080/",
          "height": 36
        },
        "id": "9aHRl6KX1sg3",
        "outputId": "8ab54b3c-5999-4715-abdd-c104b83ac43d"
      },
      "execution_count": 29,
      "outputs": [
        {
          "output_type": "execute_result",
          "data": {
            "text/plain": [
              "'I am a good student'"
            ],
            "application/vnd.google.colaboratory.intrinsic+json": {
              "type": "string"
            }
          },
          "metadata": {},
          "execution_count": 29
        }
      ]
    },
    {
      "cell_type": "code",
      "source": [
        "string1[:-3]  #It prints except the last three characters."
      ],
      "metadata": {
        "colab": {
          "base_uri": "https://localhost:8080/",
          "height": 36
        },
        "id": "kscKbf0d1vxE",
        "outputId": "06e09434-5a75-451f-d57f-74c729cea1a5"
      },
      "execution_count": 32,
      "outputs": [
        {
          "output_type": "execute_result",
          "data": {
            "text/plain": [
              "'I am a good stud'"
            ],
            "application/vnd.google.colaboratory.intrinsic+json": {
              "type": "string"
            }
          },
          "metadata": {},
          "execution_count": 32
        }
      ]
    },
    {
      "cell_type": "code",
      "source": [
        "string1[-3:]  #It prints only last three characters."
      ],
      "metadata": {
        "colab": {
          "base_uri": "https://localhost:8080/",
          "height": 36
        },
        "id": "TzB82sBE2BPy",
        "outputId": "0d0b114a-ecd9-444d-b748-863e06430d9e"
      },
      "execution_count": 33,
      "outputs": [
        {
          "output_type": "execute_result",
          "data": {
            "text/plain": [
              "'ent'"
            ],
            "application/vnd.google.colaboratory.intrinsic+json": {
              "type": "string"
            }
          },
          "metadata": {},
          "execution_count": 33
        }
      ]
    },
    {
      "cell_type": "code",
      "source": [
        "string1[0:]"
      ],
      "metadata": {
        "colab": {
          "base_uri": "https://localhost:8080/",
          "height": 36
        },
        "id": "S8JNvEQn2Xyi",
        "outputId": "3e8aeed7-aefc-4a08-c0c4-eb00568256df"
      },
      "execution_count": 34,
      "outputs": [
        {
          "output_type": "execute_result",
          "data": {
            "text/plain": [
              "'I am a good student'"
            ],
            "application/vnd.google.colaboratory.intrinsic+json": {
              "type": "string"
            }
          },
          "metadata": {},
          "execution_count": 34
        }
      ]
    },
    {
      "cell_type": "code",
      "source": [
        "string1[0:5:1]  #by default step is 1"
      ],
      "metadata": {
        "colab": {
          "base_uri": "https://localhost:8080/",
          "height": 36
        },
        "id": "V3sb1jZl2dMF",
        "outputId": "d6cfe297-eb0b-4f0c-931d-87dc7144c113"
      },
      "execution_count": 36,
      "outputs": [
        {
          "output_type": "execute_result",
          "data": {
            "text/plain": [
              "'I am '"
            ],
            "application/vnd.google.colaboratory.intrinsic+json": {
              "type": "string"
            }
          },
          "metadata": {},
          "execution_count": 36
        }
      ]
    },
    {
      "cell_type": "code",
      "source": [
        "string1[0:5:2]  #by default step is 2"
      ],
      "metadata": {
        "colab": {
          "base_uri": "https://localhost:8080/",
          "height": 36
        },
        "id": "zgJYOKRV217U",
        "outputId": "12484900-9f2b-4bdf-ae1e-357283668ebb"
      },
      "execution_count": 43,
      "outputs": [
        {
          "output_type": "execute_result",
          "data": {
            "text/plain": [
              "'Ia '"
            ],
            "application/vnd.google.colaboratory.intrinsic+json": {
              "type": "string"
            }
          },
          "metadata": {},
          "execution_count": 43
        }
      ]
    },
    {
      "cell_type": "code",
      "source": [
        "string1[0:5:3]  #by default step is 3"
      ],
      "metadata": {
        "colab": {
          "base_uri": "https://localhost:8080/",
          "height": 36
        },
        "id": "XJlxSReI24gm",
        "outputId": "040d2abb-8f6b-4f1c-a38f-d4924f6f658e"
      },
      "execution_count": 44,
      "outputs": [
        {
          "output_type": "execute_result",
          "data": {
            "text/plain": [
              "'Im'"
            ],
            "application/vnd.google.colaboratory.intrinsic+json": {
              "type": "string"
            }
          },
          "metadata": {},
          "execution_count": 44
        }
      ]
    },
    {
      "cell_type": "code",
      "source": [
        "string1[::1]  #we are moving from left to right, step size by default 1."
      ],
      "metadata": {
        "colab": {
          "base_uri": "https://localhost:8080/",
          "height": 36
        },
        "id": "NX9Gf5lz3GUg",
        "outputId": "f459ff30-9c7f-45b6-db92-eef276746c55"
      },
      "execution_count": 47,
      "outputs": [
        {
          "output_type": "execute_result",
          "data": {
            "text/plain": [
              "'I am a good student'"
            ],
            "application/vnd.google.colaboratory.intrinsic+json": {
              "type": "string"
            }
          },
          "metadata": {},
          "execution_count": 47
        }
      ]
    },
    {
      "cell_type": "code",
      "source": [
        "string1[::2]  #we are moving from left to right, step size by default 2."
      ],
      "metadata": {
        "colab": {
          "base_uri": "https://localhost:8080/",
          "height": 36
        },
        "id": "r-k5uZfY3pcb",
        "outputId": "43903d27-3501-4c22-b107-1c6ca785eff4"
      },
      "execution_count": 49,
      "outputs": [
        {
          "output_type": "execute_result",
          "data": {
            "text/plain": [
              "'Ia  odsuet'"
            ],
            "application/vnd.google.colaboratory.intrinsic+json": {
              "type": "string"
            }
          },
          "metadata": {},
          "execution_count": 49
        }
      ]
    },
    {
      "cell_type": "code",
      "source": [
        "string1[::-1]  #We will move from right to left."
      ],
      "metadata": {
        "colab": {
          "base_uri": "https://localhost:8080/",
          "height": 36
        },
        "id": "ZZb85B214Im2",
        "outputId": "7d32faa0-487a-4ed7-d915-db1879f9fac1"
      },
      "execution_count": 51,
      "outputs": [
        {
          "output_type": "execute_result",
          "data": {
            "text/plain": [
              "'tneduts doog a ma I'"
            ],
            "application/vnd.google.colaboratory.intrinsic+json": {
              "type": "string"
            }
          },
          "metadata": {},
          "execution_count": 51
        }
      ]
    },
    {
      "cell_type": "code",
      "source": [
        "string1"
      ],
      "metadata": {
        "colab": {
          "base_uri": "https://localhost:8080/",
          "height": 36
        },
        "id": "FIFKwFYZ4IZf",
        "outputId": "a2617b2b-2867-4ada-b74e-cf632606a308"
      },
      "execution_count": 52,
      "outputs": [
        {
          "output_type": "execute_result",
          "data": {
            "text/plain": [
              "'I am a good student'"
            ],
            "application/vnd.google.colaboratory.intrinsic+json": {
              "type": "string"
            }
          },
          "metadata": {},
          "execution_count": 52
        }
      ]
    },
    {
      "cell_type": "markdown",
      "source": [
        "**Use Length factor to see Number of characters.**"
      ],
      "metadata": {
        "id": "5mr0y7KI4iu6"
      }
    },
    {
      "cell_type": "code",
      "source": [
        "string1\n",
        "len(string1)"
      ],
      "metadata": {
        "colab": {
          "base_uri": "https://localhost:8080/"
        },
        "id": "2KNEsZoo4g_N",
        "outputId": "214a9917-f908-48a3-8eb3-f766e3d6140d"
      },
      "execution_count": 54,
      "outputs": [
        {
          "output_type": "execute_result",
          "data": {
            "text/plain": [
              "19"
            ]
          },
          "metadata": {},
          "execution_count": 54
        }
      ]
    },
    {
      "cell_type": "code",
      "source": [
        "str2 = \"pwskills\"\n",
        "len(str2)"
      ],
      "metadata": {
        "colab": {
          "base_uri": "https://localhost:8080/"
        },
        "id": "wsgn68Wf465v",
        "outputId": "81eaab1c-212a-4a7d-d069-d4eedb21b6a3"
      },
      "execution_count": 58,
      "outputs": [
        {
          "output_type": "execute_result",
          "data": {
            "text/plain": [
              "8"
            ]
          },
          "metadata": {},
          "execution_count": 58
        }
      ]
    },
    {
      "cell_type": "code",
      "source": [
        "str3 = \"We are learning data analyst course\"\n",
        "len(str3)"
      ],
      "metadata": {
        "colab": {
          "base_uri": "https://localhost:8080/"
        },
        "id": "yF3mt9KY5MaU",
        "outputId": "c044b89f-4485-4a50-c76f-7d4da17743b3"
      },
      "execution_count": 59,
      "outputs": [
        {
          "output_type": "execute_result",
          "data": {
            "text/plain": [
              "35"
            ]
          },
          "metadata": {},
          "execution_count": 59
        }
      ]
    },
    {
      "cell_type": "markdown",
      "source": [
        "**Modification of string**"
      ],
      "metadata": {
        "id": "V03-EaPo5fTt"
      }
    },
    {
      "cell_type": "code",
      "source": [
        "s = \"I am a student\"\n",
        "s.replace(\"student\", \"teacher\")"
      ],
      "metadata": {
        "colab": {
          "base_uri": "https://localhost:8080/",
          "height": 36
        },
        "id": "ZmDNjmeX5c3A",
        "outputId": "a1ff445e-4b56-40af-bd15-5cc20855aea1"
      },
      "execution_count": 60,
      "outputs": [
        {
          "output_type": "execute_result",
          "data": {
            "text/plain": [
              "'I am a teacher'"
            ],
            "application/vnd.google.colaboratory.intrinsic+json": {
              "type": "string"
            }
          },
          "metadata": {},
          "execution_count": 60
        }
      ]
    },
    {
      "cell_type": "code",
      "source": [
        "s1 = \"Ajith\"\n",
        "s1.replace(\"Ajith\", \"Ajju\")"
      ],
      "metadata": {
        "colab": {
          "base_uri": "https://localhost:8080/",
          "height": 36
        },
        "id": "YQM0N4O35vFD",
        "outputId": "c5249386-89ab-4b40-b8f2-0601ccb38951"
      },
      "execution_count": 61,
      "outputs": [
        {
          "output_type": "execute_result",
          "data": {
            "text/plain": [
              "'Ajju'"
            ],
            "application/vnd.google.colaboratory.intrinsic+json": {
              "type": "string"
            }
          },
          "metadata": {},
          "execution_count": 61
        }
      ]
    },
    {
      "cell_type": "code",
      "source": [
        "s2 = \"I want to become an ML engineering\"\n",
        "s2.replace(\"ML engineering\", \"Data Analyst\")"
      ],
      "metadata": {
        "colab": {
          "base_uri": "https://localhost:8080/",
          "height": 36
        },
        "id": "0Kn-YKP76FCb",
        "outputId": "1dfca21a-94a4-4fbb-f9be-7496e36a140c"
      },
      "execution_count": 64,
      "outputs": [
        {
          "output_type": "execute_result",
          "data": {
            "text/plain": [
              "'I want to become an Data Analyst'"
            ],
            "application/vnd.google.colaboratory.intrinsic+json": {
              "type": "string"
            }
          },
          "metadata": {},
          "execution_count": 64
        }
      ]
    },
    {
      "cell_type": "code",
      "source": [
        "s3 = \"I love bikes\"\n",
        "s3.replace(\"bikes\", \"Cars\")"
      ],
      "metadata": {
        "colab": {
          "base_uri": "https://localhost:8080/",
          "height": 36
        },
        "id": "7IrzIf-g54dr",
        "outputId": "2771aea2-dc3c-4734-b762-92b31b25efc6"
      },
      "execution_count": 63,
      "outputs": [
        {
          "output_type": "execute_result",
          "data": {
            "text/plain": [
              "'I love Cars'"
            ],
            "application/vnd.google.colaboratory.intrinsic+json": {
              "type": "string"
            }
          },
          "metadata": {},
          "execution_count": 63
        }
      ]
    },
    {
      "cell_type": "markdown",
      "source": [
        "**2.Explain the key features of lists in python?**\n",
        "\n",
        "1)Ordered: Elements in a list maintain the order in which they are inserted.\n",
        "\n",
        "2)Mutable: Lists can be modified after creation, like adding, removing, or changing elements.\n",
        "\n",
        "3)Heterogeneous: A list can contain elements of different data types (integer, float, string, etc).\n",
        "\n",
        "4)Dynamic Size: Lists can dynamically grow and shrink in size as elements are added or removed.\n",
        "\n",
        "5)Indexing and slicing: You can access elements in a list using their index(starting from 0), and parts of the list can be retrieved using slicing.\n",
        "\n",
        "6)Duplicate Elements: List can contain multiple occurrences of the same element.\n",
        "\n",
        "7)Built-in-functions: Python provides several functions like len(), min(), max(), and sum() to operate on lists.\n",
        "\n",
        "\n"
      ],
      "metadata": {
        "id": "NH3PPUHX6p1z"
      }
    },
    {
      "cell_type": "code",
      "source": [
        "#Ordered example:\n",
        "fruits = [\"apple\", \"banana\", \"cherry\"]\n",
        "print(fruits)\n",
        "# output: ['apple', 'banana', 'cherry']\n",
        "\n",
        "#Mutable example:\n",
        "fruits[1] = \"blueberry\"\n",
        "print(fruits)\n",
        "# output: ['apple', 'blueberry', 'cherry']\n",
        "\n",
        "#Heterogeneous example:\n",
        "mixed_list = [\"apple\", 1, 2.3, True]\n",
        "print(mixed_list)\n",
        "# output: ['apple', 1, 2.3, True]\n",
        "\n",
        "#Dynamic Size\n",
        "fruits.append(\"Orange\")   #Adds an element in it.\n",
        "fruits.remove(\"apple\")    #Removes an element from it.\n",
        "print(fruits)\n",
        "\n",
        "#Indexing and Slicing\n",
        "print(fruits[0])\n",
        "print(fruits[1:3])\n",
        "\n",
        "#Duplicate Elements\n",
        "numbers = [1, 2, 2, 3]\n",
        "numbers\n",
        "\n",
        "#Built-in Functions\n",
        "numbers = [1, 2, 2, 3]\n",
        "len(numbers)\n",
        "sum(numbers)\n",
        "max(numbers)\n",
        "min(numbers)\n"
      ],
      "metadata": {
        "colab": {
          "base_uri": "https://localhost:8080/"
        },
        "id": "khE8QvPc6A2O",
        "outputId": "94937ec8-d5dc-4d6b-81ea-c2f14536e3fb"
      },
      "execution_count": 86,
      "outputs": [
        {
          "output_type": "stream",
          "name": "stdout",
          "text": [
            "['apple', 'banana', 'cherry']\n",
            "['apple', 'blueberry', 'cherry']\n",
            "['apple', 1, 2.3, True]\n",
            "['blueberry', 'cherry', 'Orange']\n",
            "blueberry\n",
            "['cherry', 'Orange']\n"
          ]
        },
        {
          "output_type": "execute_result",
          "data": {
            "text/plain": [
              "1"
            ]
          },
          "metadata": {},
          "execution_count": 86
        }
      ]
    },
    {
      "cell_type": "markdown",
      "source": [
        "**3.Describe how to access, modify, and delete elements in a list with example?**\n",
        "\n",
        "**1.Accessing Elements:**\n",
        "You can access elements in a list using indexing and slicing.\n",
        "\n",
        "\n",
        "\n",
        "\n"
      ],
      "metadata": {
        "id": "3jpsb61hFjkG"
      }
    },
    {
      "cell_type": "code",
      "source": [
        "\"\"\"Indexing: Access individual elements by their position (index starts from 0)\"\"\"\n",
        "my_list = [10, 20, 30, 40]\n",
        "my_list[1]\n",
        "# output: 20\n",
        "\n",
        "\"\"\"Slicing: Access a range of elements using slicing (start:end) points\"\"\"\n",
        "my_list[1:4]\n",
        "# output: [20, 30, 40]\n",
        "\n",
        "\"\"\"Negative Indexing: Access elements from the end of the list using negative indices\"\"\"\n",
        "my_list[-1]\n",
        "#output: 40"
      ],
      "metadata": {
        "colab": {
          "base_uri": "https://localhost:8080/"
        },
        "id": "s7U3h4UgGAnE",
        "outputId": "95ae9553-19ac-4cef-af50-10b704e84e99"
      },
      "execution_count": 90,
      "outputs": [
        {
          "output_type": "execute_result",
          "data": {
            "text/plain": [
              "40"
            ]
          },
          "metadata": {},
          "execution_count": 90
        }
      ]
    },
    {
      "cell_type": "markdown",
      "source": [
        "**2.Modifying Elements:** You can modify elements by directly assigning a new value to an index or a range."
      ],
      "metadata": {
        "id": "eByVDeGXHWLm"
      }
    },
    {
      "cell_type": "code",
      "source": [
        "\"\"\"Modifya Single Element: Assign a new value to an element at a specific index.\"\"\"\n",
        "my_list[1] = 25\n",
        "my_list\n",
        "# output: [10, 25, 30, 40]\n",
        "\n",
        "\"\"\"Modify Multiple Elements: Use slicing to modify multiple elements at once.\"\"\"\n",
        "my_list[1:3] = [35,45]\n",
        "my_list\n",
        "# output: [10, 35, 45, 40]"
      ],
      "metadata": {
        "colab": {
          "base_uri": "https://localhost:8080/"
        },
        "id": "kv17xB7IGVYy",
        "outputId": "319e5e3a-9f17-49b6-d569-739a347f3dfb"
      },
      "execution_count": 93,
      "outputs": [
        {
          "output_type": "execute_result",
          "data": {
            "text/plain": [
              "[10, 35, 45, 40]"
            ]
          },
          "metadata": {},
          "execution_count": 93
        }
      ]
    },
    {
      "cell_type": "markdown",
      "source": [
        "**3.Deleting Elements:** You can remove elements from a list using del, remove(), pop(), or by assigning an empty list slice."
      ],
      "metadata": {
        "id": "L3MfkYAJI0ps"
      }
    },
    {
      "cell_type": "code",
      "source": [
        "\"\"\"Using del: Deletes an element by its index\"\"\"\n",
        "del my_list[1]\n",
        "my_list\n",
        "#output: [10, 45, 40]\n",
        "\n",
        "\"\"\"Using remove(): Removes the first occurrence of a specified value.\"\"\"\n",
        "my_list.remove(45)\n",
        "my_list\n",
        "#output: [10, 40]\n",
        "\n",
        "\"\"\"Using pop(): Removes and returns the element at the given index (default is the last element)\"\"\"\n",
        "removed_element = my_list.pop(1)\n",
        "print(my_list)\n",
        "print(removed_element)\n",
        "\n",
        "\"\"\"Using Slice Assignment: Assigning an empty list to a slice removes elements\"\"\"\n",
        "my_list = [1, 2, 3, 4, 5]\n",
        "my_list[1:3] = []\n",
        "print(my_list)"
      ],
      "metadata": {
        "id": "S_zxzjfSJfKn"
      },
      "execution_count": null,
      "outputs": []
    },
    {
      "cell_type": "markdown",
      "source": [
        "**4.Compare and contrast tuples and lists with examples?**\n",
        "\n",
        "Both tuples and lists are **used to store collections of items**, but they have some important differences.\n"
      ],
      "metadata": {
        "id": "duO4QXmcM7fV"
      }
    },
    {
      "cell_type": "code",
      "source": [
        "\"\"\" 1.Mutability\n",
        "List: List is Mutable(can be modified after creation).\n",
        "Tuple: Tuple is Immutable (can not be modified after creation).\n",
        "\n",
        "Example:\"\"\"\n",
        "\n",
        "my_list = [1, 2, 3]\n",
        "my_list[1] = 5\n",
        "print(my_list)\n",
        "#output: [1, 5, 3]\n",
        "\n",
        "my_tuple = (1, 2, 3)\n",
        "#my_tuple[1] = 5    Would raise a TypeError.\n",
        "\n",
        "\"\"\" 2.Syntax:\n",
        "List: Defined using square brackets [].\n",
        "Tuple: Defined using parentheses()\"\"\"\n",
        "\n",
        "my_list = [1, 2, 3]\n",
        "my_tuple = (1, 2, 3)\n",
        "\n",
        "\"\"\" 3.Performance:\n",
        "List: Slightly slower because it is mutable and requires extra memory for operations like append and delete.\n",
        "Tuple: Faster than lists due to immutability, which reduces overhead.\"\"\"\n",
        "\n",
        "import timeit\n",
        "print(timeit.timeit(\"x= [1, 2, 3, 4, 5]\", number =1000000))\n",
        "print(timeit.timeit(\"x= (1, 2, 3, 4, 5)\", number =1000000))\n",
        "\n",
        "\"\"\" 4.Use Case:\n",
        "List: Used when you need to store a collection of items that may change over time\n",
        "(e.g., adding, removing, or updating items).\n",
        "Tuple: Used when you want to ensure that the collection of items remains constant\n",
        "(e.g., storing fixed data, like coordinates)\"\"\"\n",
        "\n",
        "# List: Can grow or shrink in size\n",
        "fruits = [\"apple\", \"banana\", \"cherry\"]\n",
        "fruits.append(\"orange\")\n",
        "print(fruits)\n",
        "\n",
        "# Tuple: Fixed size\n",
        "colors = (\"red\", \"green\", \"blue\")\n",
        "#colors.append(\"yellow\")  This will raise an attributeError.\n",
        "\n",
        "\"\"\"\n",
        "5.Methods:\n",
        "List: Has many methods such as append(), remove(), pop(), etc.\n",
        "Tuple: Has limited methods, mainly count() and index().\"\"\"\n",
        "\n",
        "# List Methods\n",
        "my_list = [1, 2, 3]\n",
        "my_list.append(4)\n",
        "print(my_list)  # Output: [1, 2, 3, 4]\n",
        "\n",
        "# Tuple Methods\n",
        "my_tuple = (1, 2, 3, 2)\n",
        "print(my_tuple.count(2))  # Output: 2\n",
        "print(my_tuple.index(3))  #Output: 2\n",
        "\n",
        "\"\"\" 6.Storage:\n",
        "List: Requires more memory due to dynamic resizing.\n",
        "Tuple: Requires less memory because it is immutable and fixed in size.\"\"\""
      ],
      "metadata": {
        "colab": {
          "base_uri": "https://localhost:8080/",
          "height": 263
        },
        "id": "oQ2IzzH-NOuK",
        "outputId": "5331741a-9c53-48cb-891c-bdd584ad2a5c"
      },
      "execution_count": 111,
      "outputs": [
        {
          "output_type": "stream",
          "name": "stdout",
          "text": [
            "[1, 5, 3]\n",
            "0.07806781200088153\n",
            "0.018331200000829995\n",
            "['apple', 'banana', 'cherry', 'orange']\n"
          ]
        },
        {
          "output_type": "error",
          "ename": "AttributeError",
          "evalue": "'tuple' object has no attribute 'append'",
          "traceback": [
            "\u001b[0;31m---------------------------------------------------------------------------\u001b[0m",
            "\u001b[0;31mAttributeError\u001b[0m                            Traceback (most recent call last)",
            "\u001b[0;32m<ipython-input-111-6f40d05b8cc2>\u001b[0m in \u001b[0;36m<cell line: 43>\u001b[0;34m()\u001b[0m\n\u001b[1;32m     41\u001b[0m \u001b[0;31m# Tuple: Fixed size\u001b[0m\u001b[0;34m\u001b[0m\u001b[0;34m\u001b[0m\u001b[0m\n\u001b[1;32m     42\u001b[0m \u001b[0mcolors\u001b[0m \u001b[0;34m=\u001b[0m \u001b[0;34m(\u001b[0m\u001b[0;34m\"red\"\u001b[0m\u001b[0;34m,\u001b[0m \u001b[0;34m\"green\"\u001b[0m\u001b[0;34m,\u001b[0m \u001b[0;34m\"blue\"\u001b[0m\u001b[0;34m)\u001b[0m\u001b[0;34m\u001b[0m\u001b[0;34m\u001b[0m\u001b[0m\n\u001b[0;32m---> 43\u001b[0;31m \u001b[0mcolors\u001b[0m\u001b[0;34m.\u001b[0m\u001b[0mappend\u001b[0m\u001b[0;34m(\u001b[0m\u001b[0;34m\"yellow\"\u001b[0m\u001b[0;34m)\u001b[0m\u001b[0;34m\u001b[0m\u001b[0;34m\u001b[0m\u001b[0m\n\u001b[0m\u001b[1;32m     44\u001b[0m \u001b[0mcolors\u001b[0m\u001b[0;34m\u001b[0m\u001b[0;34m\u001b[0m\u001b[0m\n",
            "\u001b[0;31mAttributeError\u001b[0m: 'tuple' object has no attribute 'append'"
          ]
        }
      ]
    },
    {
      "cell_type": "markdown",
      "source": [
        "**5.Describe the key features of sets and provide examples of their use?**\n"
      ],
      "metadata": {
        "id": "Gh4ZX2fQU117"
      }
    },
    {
      "cell_type": "code",
      "source": [
        "\"\"\" 1.Unordered:\n",
        "Sets do not maintain any particular order for their elements.\"\"\"\n",
        "\n",
        "my_set = {1, 2, 3}\n",
        "my_set\n",
        "\n",
        "\"\"\" 2.No Duplicate Elements:\n",
        "Sets automatically remove duplicates, ensuring each elements is unique.\"\"\"\n",
        "\n",
        "my_set = {1, 2, 2, 3}\n",
        "my_set\n",
        "# Output: {1, 2, 3}\n",
        "\n",
        "\"\"\" 3.Mutable:\n",
        "Sets are mutable, allowing elements to be added or removed, but the elements\n",
        "themselves must be immutable(e.g, numbers, strings, tuples)\"\"\"\n",
        "\n",
        "my_set = {1, 2,3}\n",
        "my_set.add(4)\n",
        "my_set\n",
        "# Output: {1, 2, 3, 4}\n",
        "\n",
        "\"\"\" 4.Efficient Membership Testing:\n",
        "Sets are optimized for checking the existence of elements, making membership tests\n",
        " (in) faster compared to lists.\"\"\"\n",
        "\n",
        "my_set = {1, 2, 3}\n",
        "print(2 in my_set)\n",
        "# Output: True\n",
        "\n",
        "\"\"\" 5.No Indexing:\n",
        "Since sets are unordered, you cannot access elements via an index.\"\"\"\n",
        "\n",
        "#print(my_set[0])\n",
        "#This will raise an error\n",
        "\n",
        "\"\"\" 6. Set Operations:\n",
        "Sets support mathematical operations like union, intersection, difference,\n",
        "and symmetric difference.\"\"\"\n",
        "\n",
        "\n",
        "set_a = {1, 2, 3}\n",
        "set_b = {3, 4, 5}\n",
        "\n",
        "# Union: Elements in either set\n",
        "print(set_a | set_b)  # Output: {1, 2, 3, 4, 5}\n",
        "\n",
        "# Intersection: Elements in both sets\n",
        "print(set_a & set_b)  # Output: {3}\n",
        "\n",
        "# Difference: Elements in set_a but not in set_b\n",
        "print(set_a - set_b)  # Output: {1, 2}\n",
        "\n",
        "# Symmetric Difference: Elements in either set_a or set_b but not both\n",
        "print(set_a ^ set_b)  # Output: {1, 2, 4, 5}\n",
        "\n",
        "\n",
        "\"\"\" 7.Immutability of Elements:\n",
        "\n",
        "Set elements must be immutable types like numbers, strings, or tuples.\n",
        "You cannot use lists or other sets as elements.\"\"\"\n",
        "\n",
        "\n",
        "my_set = {1, (2, 3)}  #Tuple is allowed\n",
        "# my_set = {1, [2, 3]}  # This would raise a TypeError\n",
        "\n",
        "\n",
        "\"\"\" 8.Frozenset:\n",
        "\n",
        "A frozenset is an immutable version of a set.Once created, elements\n",
        "cannot be added or removed.\"\"\"\n",
        "\n",
        "frozen = frozenset([1, 2, 3])\n",
        "# frozen.add(4)     # This would raise an AttributeError"
      ],
      "metadata": {
        "colab": {
          "base_uri": "https://localhost:8080/"
        },
        "id": "9roYqKroOB1W",
        "outputId": "1803e7d4-c31b-4f73-ec9e-e3d8bc5381a5"
      },
      "execution_count": 118,
      "outputs": [
        {
          "output_type": "stream",
          "name": "stdout",
          "text": [
            "True\n",
            "{1, 2, 3, 4, 5}\n",
            "{3}\n",
            "{1, 2}\n",
            "{1, 2, 4, 5}\n"
          ]
        }
      ]
    },
    {
      "cell_type": "markdown",
      "source": [
        "**Example Use Cases:**"
      ],
      "metadata": {
        "id": "cYXRr7beY4TE"
      }
    },
    {
      "cell_type": "code",
      "source": [
        "# Removing Duplicates: Sets can be used to eliminate duplicate entries from a list.\n",
        "\n",
        "my_list = [1, 2, 2, 3, 4, 4, 5]\n",
        "my_set = set(my_list)\n",
        "print(my_set)   # Output: {1, 2, 3, 4, 5}\n",
        "\n",
        "\n",
        "# Membership Testing: Sets are efficient for membership testing, especially with large datasets.\n",
        "\n",
        "big_set = set(range(1000000))\n",
        "print(999999 in big_set)  # Output: True\n",
        "\n",
        "\n",
        "#Mathematical Set Operations: Sets are ideal for handling tasks involving union, intersection,\n",
        "#and other set-related operations.\n",
        "\n",
        "students_in_course_A = {\"Ajith\", \"Ajju\", \"Panda\"}\n",
        "students_in_course_B = {\"Panda\", \"Ajith\", \"Lucci\"}\n",
        "\n",
        "# Students in both courses\n",
        "print(students_in_course_A & students_in_course_B)  # Output: {'Ajith', 'Panda'\n",
        "\n",
        "# Filtering Data: Sets can help in filtering out unwanted data by using difference operations.\n",
        "\n",
        "\n",
        "all_students = {\"Ajith\", \"Ajju\", \"Laddu\", \"Leo\"}\n",
        "graduated_students = {\"Ajith\", \"Laddu\"}\n",
        "\n",
        "# Students who haven't graduated\n",
        "print(all_students - graduated_students)  #Output: {'Ajju', 'Leo'}"
      ],
      "metadata": {
        "colab": {
          "base_uri": "https://localhost:8080/"
        },
        "id": "pJRx8F6lVOfH",
        "outputId": "85c1cfd6-6ca3-403d-8e73-62dd7826cfbe"
      },
      "execution_count": 123,
      "outputs": [
        {
          "output_type": "stream",
          "name": "stdout",
          "text": [
            "{1, 2, 3, 4, 5}\n",
            "True\n",
            "{'Ajith', 'Panda'}\n",
            "{'Ajju', 'Leo'}\n"
          ]
        }
      ]
    },
    {
      "cell_type": "markdown",
      "source": [
        "**6.Discuss the use cases of tuples and sets in python programming?**"
      ],
      "metadata": {
        "id": "_RtRofmjcD41"
      }
    },
    {
      "cell_type": "markdown",
      "source": [
        "**Use Cases of Tuples in Python:**"
      ],
      "metadata": {
        "id": "-cXyAa-QeNVb"
      }
    },
    {
      "cell_type": "code",
      "source": [
        "#1.Data Integrity:\n",
        "\n",
        "\"\"\"When you need immutable data that should not be changed during program execution.\n",
        "Example: Storing constant values like geographic coordinates, dates,\n",
        " or configuration settings.\"\"\"\n",
        "\n",
        "coordinates = (40.7128, 74.0060)  # Latitude and longitude of New York\n",
        "\n",
        "#2.Dictionary Keys:\n",
        "\n",
        "\"\"\"Tuples can be used as keys in dictionaries because they are immutable, unlike lists.\n",
        "Example: Using a tuple to represent a composite key in a dictionary.\"\"\"\n",
        "\n",
        "employee_records = {(\"Ajith\", \"Ajju\"): 12345, (\"Leo\", \"Lucci\"): 67890}\n",
        "print(employee_records[(\"Ajith\", \"Ajju\")])  # Output: 12345\n",
        "\n",
        "#3.Returning Multiple Values from Functions:\n",
        "\n",
        "\"\"\"Tuples are commonly used to return multiple values from a function.\"\"\"\n",
        "\n",
        "def get_coordinates():\n",
        "    return (40.7128, 74.0060)\n",
        "\n",
        "lat, lon = get_coordinates()\n",
        "print(lat, lon)  # Output: 40.7128 74.0060\n",
        "\n",
        "#4.Unpacking:\n",
        "\n",
        "\"\"\"You can use tuple unpacking to assign multiple values in one line.\"\"\"\n",
        "\n",
        "person = (\"Ajith\", \"Ajju\", 28)\n",
        "first_name, last_name, age = person\n",
        "print(first_name, last_name, age)  # Output: Ajith Ajju 28\n",
        "\n",
        "#5.Memory Efficiency:\n",
        "\n",
        "\"\"\"Tuples are more memory efficient than lists. If you have a large collection of data\n",
        "that doesn't need to change, a tuple is more efficient to use than a list.\n",
        "Example: Storing a large number of fixed records like months of the year or days of the week.\"\"\"\n",
        "\n",
        "months = (\"January\", \"February\", \"March\", \"April\")\n"
      ],
      "metadata": {
        "colab": {
          "base_uri": "https://localhost:8080/"
        },
        "id": "OgOOuIw0ZSEn",
        "outputId": "65d938cc-0f28-4345-bbe2-89fc1e1748e8"
      },
      "execution_count": 126,
      "outputs": [
        {
          "output_type": "stream",
          "name": "stdout",
          "text": [
            "12345\n",
            "40.7128 74.006\n",
            "Ajith Ajju 28\n"
          ]
        }
      ]
    },
    {
      "cell_type": "markdown",
      "source": [
        "**Use Cases of Sets in Python:**\n"
      ],
      "metadata": {
        "id": "DBc8ge-heYH6"
      }
    },
    {
      "cell_type": "code",
      "source": [
        "#1.Removing Duplicates from a List:\n",
        "\n",
        "\"\"\"Sets automatically remove duplicates, making them useful when you need a unique collection of elements.\n",
        "Example: Removing duplicate entries in a list.\"\"\"\n",
        "\n",
        "my_list = [1, 2, 2, 3, 4, 4, 5]\n",
        "my_set = set(my_list)\n",
        "print(my_set)  # Output: {1, 2, 3, 4, 5}\n",
        "\n",
        "#2.Membership Testing:\n",
        "\n",
        "\"\"\"Sets are highly efficient for checking the existence of an element. If you need to frequently\n",
        "check whether an item exists in a collection, sets provide faster lookups compared to lists.\n",
        "Example: Quickly checking if a value exists in a large dataset.\"\"\"\n",
        "\n",
        "big_set = set(range(1000000))\n",
        "print(999999 in big_set)  # Output: True\n",
        "\n",
        "#3.Set Operations (Union, Intersection, Difference):\n",
        "\n",
        "\"\"\"Sets are ideal for mathematical operations like union, intersection, difference, and symmetric difference,\n",
        "commonly used in problems involving overlapping or unique data.\n",
        "Example: Finding common and unique students between two courses.\"\"\"\n",
        "\n",
        "course_A = {\"Ajith\", \"Laddu\", \"Ajju\"}\n",
        "course_B = {\"Ajju\", \"Leo\"}\n",
        "\n",
        "# Union: Students in either course\n",
        "print(course_A | course_B)  # Output: {'Ajju', 'Ajith', 'Leo', 'Laddu'}\n",
        "\n",
        "# Intersection: Students in both courses\n",
        "print(course_A & course_B)  # Output: {'Ajju'}\n",
        "\n",
        "#4.Filtering and Deduplication:\n",
        "\n",
        "\"\"\"Sets are useful when you need to filter out unwanted data or identify unique elements.\n",
        "For instance, in data cleaning tasks, a set can help you retain only unique values.\n",
        "Example: Filtering out duplicate emails or names from a contact list.\"\"\"\n",
        "\n",
        "emails = [\"ajith@example.com\", \"ajju@example.com\", \"ajith@example.com\"]\n",
        "unique_emails = set(emails)\n",
        "print(unique_emails)  # Output: {'ajith@example.com', 'ajju@example.com.com'}\n",
        "\n",
        "\n",
        "#5.Handling Large Datasets:\n",
        "\n",
        "\"\"\"Sets are useful for handling large datasets where frequent lookups are required and data\n",
        "duplication needs to be avoided. They are also efficient in tasks like comparing\n",
        "two datasets for unique or shared items.\n",
        "Example: Identifying customers who made purchases on both platforms.\"\"\"\n",
        "\n",
        "platform_A = {\"Ajith\", \"Bob\", \"Nayak\"}\n",
        "platform_B = {\"Nayak\", \"Ajju\", \"Leo\"}\n",
        "\n",
        "# Customers common to both platforms\n",
        "print(platform_A.intersection(platform_B))  # Output: {'Charlie'}\n"
      ],
      "metadata": {
        "colab": {
          "base_uri": "https://localhost:8080/"
        },
        "id": "LdzCz_5mcJZg",
        "outputId": "9661daca-15a2-433b-cabd-eb339cdbe2bf"
      },
      "execution_count": 132,
      "outputs": [
        {
          "output_type": "stream",
          "name": "stdout",
          "text": [
            "{1, 2, 3, 4, 5}\n",
            "True\n",
            "{'Ajju', 'Ajith', 'Leo', 'Laddu'}\n",
            "{'Ajju'}\n",
            "{'ajith@example.com', 'ajju@example.com'}\n",
            "{'Nayak'}\n"
          ]
        }
      ]
    },
    {
      "cell_type": "markdown",
      "source": [
        "**7.Describe how to add, modify, and delete items in a dictionary with examples?**\n",
        "\n",
        "**1. Adding Items to a Dictionary**\n",
        "\n",
        "You can add items to a dictionary by assigning a value to a new key."
      ],
      "metadata": {
        "id": "FwlnVgqth6-E"
      }
    },
    {
      "cell_type": "code",
      "source": [
        "#Adding a New Key-Value Pair: Simply use the syntax dictionary[key] = value.\n",
        "\n",
        "my_dict = {\"name\": \"Ajith\", \"age\": 25}\n",
        "my_dict[\"city\"] = \"France\"  # Adding a new key-value pair\n",
        "print(my_dict)\n",
        "# Output: {'name': 'Ajith', 'age': 25, 'city': 'France'}\n",
        "\n",
        "#Updating Multiple Items at Once: You can use the update() method to add multiple key-value pairs at once.\n",
        "\n",
        "\n",
        "my_dict.update({\"email\": \"ajith@example.com\", \"phone\": \"123-456-7890\"})\n",
        "print(my_dict)\n",
        "# Output: {'name': 'Ajith', 'age': 25, 'city': 'France', 'email': 'ajith@example.com', 'phone': '123-456-7890'}\n"
      ],
      "metadata": {
        "colab": {
          "base_uri": "https://localhost:8080/"
        },
        "id": "0Ybd2xopcJO8",
        "outputId": "9ea283e5-0c52-4dfb-94b7-906e9e454e89"
      },
      "execution_count": 135,
      "outputs": [
        {
          "output_type": "stream",
          "name": "stdout",
          "text": [
            "{'name': 'Ajith', 'age': 25, 'city': 'France'}\n",
            "{'name': 'Ajith', 'age': 25, 'city': 'France', 'email': 'ajith@example.com', 'phone': '123-456-7890'}\n"
          ]
        }
      ]
    },
    {
      "cell_type": "markdown",
      "source": [
        "**2. Modifying Items in a Dictionary**\n",
        "To modify an existing key-value pair, you simply reassign the value to the key.\n",
        "\n",
        "**Modifying the Value of an Existing Key:** Use dictionary[key] = new_value to update the value of a key."
      ],
      "metadata": {
        "id": "VZve_Gncjpo4"
      }
    },
    {
      "cell_type": "code",
      "source": [
        "my_dict = {\"name\": \"Ajith\", \"age\": 25, \"city\": \"France\"}\n",
        "my_dict[\"age\"] = 30  # Modifying the value of the 'age' key\n",
        "print(my_dict)\n",
        "# Output: {'name': 'Ajith', 'age': 30, 'city': 'France'}\n",
        "\n",
        "\"\"\"Using update() to Modify Values: The update() method can also be used to modify\n",
        "the values of multiple keys.\"\"\"\n",
        "\n",
        "my_dict.update({\"city\": \"Los Angeles\", \"age\": 35})\n",
        "print(my_dict)\n",
        "# Output: {'name': 'Ajith', 'age': 35, 'city': 'Los Angeles'}\n",
        "\n"
      ],
      "metadata": {
        "colab": {
          "base_uri": "https://localhost:8080/"
        },
        "id": "RzQv29EqiVlJ",
        "outputId": "967dce3d-a7b6-44c9-ee46-adf500fbd88a"
      },
      "execution_count": 137,
      "outputs": [
        {
          "output_type": "stream",
          "name": "stdout",
          "text": [
            "{'name': 'Ajith', 'age': 30, 'city': 'France'}\n",
            "{'name': 'Ajith', 'age': 35, 'city': 'Los Angeles'}\n"
          ]
        }
      ]
    },
    {
      "cell_type": "markdown",
      "source": [
        "**3. Deleting Items from a Dictionary**\n",
        "You can remove items from a dictionary using different methods such as del, pop(), or popitem().\n",
        "\n",
        "**Using del to Remove a Specific Key-Value Pair:** The del statement is used to delete a specific key and its associated value."
      ],
      "metadata": {
        "id": "0TpecJ53kWZQ"
      }
    },
    {
      "cell_type": "code",
      "source": [
        "my_dict = {\"name\": \"Ajith\", \"age\": 30, \"city\": \"Los Angeles\"}\n",
        "del my_dict[\"age\"]  # Deleting the 'age' key\n",
        "print(my_dict)\n",
        "# Output: {'name': 'Ajith', 'city': 'Los Angeles'}\n",
        "\n",
        "\n",
        "\"\"\"Using pop() to Remove and Return a Specific Value: The pop() method removes a specific key\n",
        "and returns its associated value.\"\"\"\n",
        "\n",
        "city = my_dict.pop(\"city\")\n",
        "print(city)     # Output: 'Los Angeles'\n",
        "print(my_dict)  # Output: {'name': 'Ajith'}\n",
        "\n",
        "\"\"\"Using popitem() to Remove the Last Added Key-Value Pair: The popitem() method removes and\n",
        "returns the last inserted key-value pair\"\"\"\n",
        "\n",
        "my_dict = {\"name\":  \"  Ajith\", \"age\": 30, \"city\": \"Los Angeles\"}\n",
        "last_item = my_dict.popitem()\n",
        "print(last_item)  # Output: ('city', 'Los Angeles')\n",
        "print(my_dict)    # Output: {'name': 'Ajith', 'age': 30}\n",
        "\n",
        "\"\"\"Using clear() to Remove All Items: The clear() method removes all items from the dictionary.\"\"\"\n",
        "\n",
        "my_dict.clear()\n",
        "print(my_dict)  # Output: {}\n",
        "\n"
      ],
      "metadata": {
        "colab": {
          "base_uri": "https://localhost:8080/"
        },
        "id": "a-gCDjhmkfFB",
        "outputId": "e3eb769e-580b-4899-de19-156fadbec5ff"
      },
      "execution_count": 141,
      "outputs": [
        {
          "output_type": "stream",
          "name": "stdout",
          "text": [
            "{'name': 'Ajith', 'city': 'Los Angeles'}\n",
            "Los Angeles\n",
            "{'name': 'Ajith'}\n",
            "('city', 'Los Angeles')\n",
            "{'name': '  Ajith', 'age': 30}\n",
            "{}\n"
          ]
        }
      ]
    },
    {
      "cell_type": "markdown",
      "source": [
        "**8.Discuss the importance of dictionary keys being immutable and provide examples?**"
      ],
      "metadata": {
        "id": "7WB7qjzE6TmQ"
      }
    },
    {
      "cell_type": "code",
      "source": [
        "\"\"\"\n",
        "In Python, dictionary keys must be immutable because dictionaries are implemented as hash maps.\n",
        "The immutability of keys ensures that their hash values (used for quick lookups) remain consistent\n",
        "throughout the lifetime of the dictionary.If the key were mutable, any modification to it would\n",
        "change its hash value,which would cause errors or incorrect behavior when trying to access\n",
        "the corresponding value.\n",
        "\n",
        "Key Reasons for Immutability of Dictionary Keys:\n",
        "1.Hashing Requirement:\n",
        "\n",
        "A dictionary key’s value is hashed when it is inserted, allowing for fast lookups. If the key were mutable,\n",
        "its hash value could change after insertion, breaking the dictionary’s structure.\n",
        "\n",
        "Immutability guarantees that the hash of a key remains constant, so lookups can be done efficiently.\n",
        "\n",
        "2.Consistency and Reliability:\n",
        "\n",
        "Mutable objects, like lists or dictionaries, can change unexpectedly, which would lead to inconsistencies in key-value lookups.\n",
        "\n",
        "Using immutable keys like strings, numbers, or tuples ensures that the key-value pair remains consistent and reliable over time.\n",
        "\n",
        "3.Ensuring Key Integrity:\n",
        "\n",
        "Dictionary operations rely on the integrity of keys. If the key changes during execution, the dictionary’s internal mapping might\n",
        "lose the reference to the value associated with the key.\n",
        "\n",
        "Immutable keys prevent accidental or intentional changes, preserving data integrity.\"\"\""
      ],
      "metadata": {
        "id": "ZOX8D28h6rAe"
      },
      "execution_count": null,
      "outputs": []
    },
    {
      "cell_type": "code",
      "source": [
        "# Immutable Keys (Strings, Numbers, Tuples):\n",
        "\n",
        "#Strings:\n",
        "\n",
        "my_dict = {\"name\": \"Ajith\", \"age\": 25}\n",
        "print(my_dict[\"name\"])  # Output: Ajith\n",
        "\n",
        "#Numbers:\n",
        "\n",
        "my_dict = {1: \"one\", 2: \"two\"}\n",
        "print(my_dict[1])   # Output: One\n",
        "\n",
        "#Tuples:\n",
        "my_dict = {(\"Ajith\", \"Nayak\"): 30}\n",
        "print(my_dict[(\"Ajith\", \"Nayak\")])  # Output: 30\n"
      ],
      "metadata": {
        "colab": {
          "base_uri": "https://localhost:8080/"
        },
        "id": "T9VmERKE_F0b",
        "outputId": "129bf79e-5811-4ce6-8338-b4f2ddae7d50"
      },
      "execution_count": 4,
      "outputs": [
        {
          "output_type": "stream",
          "name": "stdout",
          "text": [
            "Ajith\n",
            "one\n",
            "30\n"
          ]
        }
      ]
    },
    {
      "cell_type": "markdown",
      "source": [
        "**Mutable Keys (Not Allowed - Lists):**\n",
        "\n",
        "Lists are mutable and thus cannot be used as dictionary keys:"
      ],
      "metadata": {
        "id": "S4Pt9Li1AcQA"
      }
    },
    {
      "cell_type": "code",
      "source": [
        "# This will raise a TypeError\n",
        "my_dict = {[1, 2]: \"value\"}  # TypeError: unhashable type: 'list'\n",
        "\n",
        "\n",
        "\n"
      ],
      "metadata": {
        "id": "uwnk90TA_ZjZ"
      },
      "execution_count": null,
      "outputs": []
    },
    {
      "cell_type": "markdown",
      "source": [
        "**Why Mutable Keys Fail:**\n",
        "Let's assume Python allowed mutable keys like lists. If you were to modify the list after it was used as a key, the dictionary would not be able to find it anymore because its hash value would change:"
      ],
      "metadata": {
        "id": "Jmv6DdXLCDBm"
      }
    },
    {
      "cell_type": "code",
      "source": [
        "# Hypothetical scenario if lists were allowed as keys\n",
        "\n",
        "my_list = [1, 2, 3]\n",
        "my_dict = {my_list: \"value\"}\n",
        "print(my_dict[my_list])  # Output: \"value\"\n",
        "\n",
        "my_list.append(4)  # Modifying the list\n",
        "print(my_dict[my_list])  # This would break if lists were allowed as keys\n"
      ],
      "metadata": {
        "colab": {
          "base_uri": "https://localhost:8080/",
          "height": 211
        },
        "id": "8WIPB461COxy",
        "outputId": "55d90b57-9745-4fae-ee0d-20e9d99c6ef6"
      },
      "execution_count": 5,
      "outputs": [
        {
          "output_type": "error",
          "ename": "TypeError",
          "evalue": "unhashable type: 'list'",
          "traceback": [
            "\u001b[0;31m---------------------------------------------------------------------------\u001b[0m",
            "\u001b[0;31mTypeError\u001b[0m                                 Traceback (most recent call last)",
            "\u001b[0;32m<ipython-input-5-47b5b2cf9b5f>\u001b[0m in \u001b[0;36m<cell line: 3>\u001b[0;34m()\u001b[0m\n\u001b[1;32m      1\u001b[0m \u001b[0;31m# Hypothetical scenario if lists were allowed as keys\u001b[0m\u001b[0;34m\u001b[0m\u001b[0;34m\u001b[0m\u001b[0m\n\u001b[1;32m      2\u001b[0m \u001b[0mmy_list\u001b[0m \u001b[0;34m=\u001b[0m \u001b[0;34m[\u001b[0m\u001b[0;36m1\u001b[0m\u001b[0;34m,\u001b[0m \u001b[0;36m2\u001b[0m\u001b[0;34m,\u001b[0m \u001b[0;36m3\u001b[0m\u001b[0;34m]\u001b[0m\u001b[0;34m\u001b[0m\u001b[0;34m\u001b[0m\u001b[0m\n\u001b[0;32m----> 3\u001b[0;31m \u001b[0mmy_dict\u001b[0m \u001b[0;34m=\u001b[0m \u001b[0;34m{\u001b[0m\u001b[0mmy_list\u001b[0m\u001b[0;34m:\u001b[0m \u001b[0;34m\"value\"\u001b[0m\u001b[0;34m}\u001b[0m\u001b[0;34m\u001b[0m\u001b[0;34m\u001b[0m\u001b[0m\n\u001b[0m\u001b[1;32m      4\u001b[0m \u001b[0mprint\u001b[0m\u001b[0;34m(\u001b[0m\u001b[0mmy_dict\u001b[0m\u001b[0;34m[\u001b[0m\u001b[0mmy_list\u001b[0m\u001b[0;34m]\u001b[0m\u001b[0;34m)\u001b[0m  \u001b[0;31m# Output: \"value\"\u001b[0m\u001b[0;34m\u001b[0m\u001b[0;34m\u001b[0m\u001b[0m\n\u001b[1;32m      5\u001b[0m \u001b[0;34m\u001b[0m\u001b[0m\n",
            "\u001b[0;31mTypeError\u001b[0m: unhashable type: 'list'"
          ]
        }
      ]
    }
  ]
}