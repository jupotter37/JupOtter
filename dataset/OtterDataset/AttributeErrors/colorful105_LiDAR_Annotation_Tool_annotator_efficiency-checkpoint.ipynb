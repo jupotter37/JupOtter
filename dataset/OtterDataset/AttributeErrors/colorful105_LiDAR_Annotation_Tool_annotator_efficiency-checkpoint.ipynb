{
 "cells": [
  {
   "cell_type": "code",
   "execution_count": 1,
   "metadata": {},
   "outputs": [],
   "source": [
    "import numpy as np\n",
    "import matplotlib.pyplot as plt\n",
    "from descartes import PolygonPatch\n",
    "import json\n",
    "import os\n",
    "\n",
    "from pprint import pprint\n",
    "import shapely.geometry\n",
    "import shapely.affinity\n",
    "%matplotlib inline"
   ]
  },
  {
   "cell_type": "code",
   "execution_count": 345,
   "metadata": {},
   "outputs": [],
   "source": [
    "\n",
    "\n",
    "with open('../evaluations/test-bichen.json') as f:\n",
    "    data = json.load(f)\n",
    "\n",
    "# pprint(data)"
   ]
  },
  {
   "cell_type": "code",
   "execution_count": 13,
   "metadata": {},
   "outputs": [
    {
     "data": {
      "image/png": "[encoded data removed]",
      "text/plain": [
       "<matplotlib.figure.Figure at 0x1114af780>"
      ]
     },
     "metadata": {},
     "output_type": "display_data"
    }
   ],
   "source": [
    "class RotatedRect:\n",
    "    def __init__(self, cx, cy, w, h, angle):\n",
    "        self.cx = cx\n",
    "        self.cy = cy\n",
    "        self.w = w\n",
    "        self.h = h\n",
    "        self.angle = angle\n",
    "\n",
    "    def get_contour(self):\n",
    "        w = self.w\n",
    "        h = self.h\n",
    "        c = shapely.geometry.box(-w/2.0, -h/2.0, w/2.0, h/2.0)\n",
    "        rc = shapely.affinity.rotate(c, self.angle)\n",
    "        return shapely.affinity.translate(rc, self.cx, self.cy)\n",
    "\n",
    "    def intersection(self, other):\n",
    "        return self.get_contour().intersection(other.get_contour())\n",
    "    \n",
    "    def union(self, other):\n",
    "        return self.get_contour().union(other.get_contour())\n",
    "r1 = RotatedRect(10, 15, 15, 10, 70)\n",
    "r2 = RotatedRect(15, 15, 20, 10, 0)\n",
    "\n",
    "\n",
    "\n",
    "fig = pyplot.figure(1, figsize=(10, 4))\n",
    "ax = fig.add_subplot(121)\n",
    "ax.set_xlim(0, 30)\n",
    "ax.set_ylim(0, 30)\n",
    "\n",
    "ax.add_patch(PolygonPatch(r1.get_contour(), fc='#990000', alpha=0.7))\n",
    "ax.add_patch(PolygonPatch(r2.get_contour(), fc='#000099', alpha=0.7))\n",
    "ax.add_patch(PolygonPatch(r1.intersection(r2), fc='#009900', alpha=1))\n",
    "\n",
    "pyplot.show()"
   ]
  },
  {
   "cell_type": "code",
   "execution_count": 567,
   "metadata": {},
   "outputs": [],
   "source": [
    "class Evaluation():\n",
    "    def __init__(self, json_data):\n",
    "        self.frames = dict()\n",
    "        frames_loaded = [Frame(frame) for frame in json_data[\"frames\"]]\n",
    "        self.filenames = [frame.filename for frame in frames_loaded]\n",
    "        filenames = set(self.filenames)\n",
    "        for frame in frames_loaded:\n",
    "            if frame.filename in filenames:\n",
    "                filenames.remove(frame.filename)\n",
    "                self.frames[frame.filename] = frame\n",
    "    \n",
    "    def get_bounding_boxes(self):\n",
    "        bounding_boxes = []\n",
    "        for filename in self.filenames:\n",
    "            bounding_boxes.extend(self.get_frame(filename).bounding_boxes)\n",
    "        return bounding_boxes\n",
    "    \n",
    "    def get_frame(self, filename):\n",
    "        return self.frames[filename]\n",
    "    \n",
    "    def false_positives(self, other):\n",
    "        false_positives_dict = dict()\n",
    "        for filename in self.filenames:\n",
    "            false_positives_dict[filename] = self.get_frame(filename).false_positives(other.get_frame(filename))\n",
    "        return false_positives_dict\n",
    "    \n",
    "    def false_negatives(self, other):\n",
    "        false_negatives_dict = dict()\n",
    "        for filename in self.filenames:\n",
    "            false_negatives_dict[filename] = self.get_frame(filename).false_negatives(other.get_frame(filename))\n",
    "        return false_negatives_dict\n",
    "    \n",
    "    def IoU(self, other):\n",
    "        IoU_dict = dict()\n",
    "        for filename in self.filenames:\n",
    "            IoU_dict[filename] = self.get_frame(filename).IoU(other.get_frame(filename))\n",
    "        return IoU_dict\n",
    "    \n",
    "    def total_time_elapsed(self):\n",
    "        time_dict = dict()\n",
    "        for filename in self.filenames:\n",
    "            time_dict[filename] = self.get_frame(filename).time_elapsed\n",
    "        return time_dict\n",
    "    \n",
    "    def _3D_time_elapsed(self):\n",
    "        _3D_time_dict = dict()\n",
    "        for filename in self.filenames:\n",
    "            _3D_time_dict[filename] = self.get_frame(filename)._3D_time_elapsed\n",
    "        return _3D_time_dict\n",
    "    \n",
    "class GroundTruth(Evaluation):\n",
    "    def __init__(self, json_data):\n",
    "        Evaluation.__init__(self, json_data)\n",
    "    \n",
    "    def get_bounding_boxes(self):\n",
    "        return Evaluation.get_bounding_boxes(self)\n",
    "        \n",
    "        \n",
    "class Frame():\n",
    "    def __init__(self, json_data):\n",
    "        self._3D_time_elapsed = json_data['_3D_time_elapsed']\n",
    "        self.add_box_count = json_data['add_box_count']\n",
    "        self.camera_angle = json_data['camera_angle']\n",
    "        self.delete_count = json_data['delete_count']\n",
    "        self.filename = json_data['filename']\n",
    "        self.label_count = json_data['label_count']\n",
    "        self.resize_count = json_data['resize_count']\n",
    "        self.rotate_camera_count = json_data['rotate_camera_count']\n",
    "        self.rotate_count = json_data['rotate_count']\n",
    "        self.time_elapsed = json_data['time_elapsed']\n",
    "        self.translate_count = json_data['translate_count']\n",
    "        \n",
    "        self.bounding_boxes = [BoundingBox(box) for box in json_data['bounding_boxes']]\n",
    "        \n",
    "        self.epsilon = 1e-8\n",
    "        \n",
    "    def IoU(self, other):\n",
    "        IoUs = []\n",
    "        remaining_bounding_boxes = set(self.bounding_boxes)\n",
    "        for bounding_box in other.bounding_boxes:\n",
    "            if len(remaining_bounding_boxes):\n",
    "                closest_bounding_box = sorted(list(remaining_bounding_boxes), key=lambda box: bounding_box.IoU(box), reverse=True)[0]\n",
    "                closest_IoU = closest_bounding_box.IoU(bounding_box)\n",
    "                if closest_IoU > self.epsilon:\n",
    "                    IoUs.append(closest_IoU)\n",
    "                remaining_bounding_boxes.remove(closest_bounding_box)\n",
    "        return IoUs\n",
    "    \n",
    "    def false_positives(self, other):\n",
    "        remaining_bounding_boxes = set(self.bounding_boxes)\n",
    "        for bounding_box in other.bounding_boxes:\n",
    "            if len(remaining_bounding_boxes):\n",
    "                closest_bounding_box = sorted(list(remaining_bounding_boxes), key=lambda box: bounding_box.IoU(box), reverse=True)[0]\n",
    "                closest_IoU = closest_bounding_box.IoU(bounding_box)\n",
    "                if closest_IoU > self.epsilon:\n",
    "                    remaining_bounding_boxes.remove(closest_bounding_box)\n",
    "        return len(remaining_bounding_boxes)\n",
    "    \n",
    "    def false_negatives(self, other):\n",
    "        remaining_bounding_boxes = set(other.bounding_boxes)\n",
    "        for bounding_box in self.bounding_boxes:\n",
    "            if len(remaining_bounding_boxes):\n",
    "                closest_bounding_box = sorted(list(remaining_bounding_boxes), key=lambda box: bounding_box.IoU(box), reverse=True)[0]\n",
    "                closest_IoU = closest_bounding_box.IoU(bounding_box)\n",
    "                if closest_IoU > self.epsilon:\n",
    "                    remaining_bounding_boxes.remove(closest_bounding_box)\n",
    "        return len(remaining_bounding_boxes)\n",
    "    \n",
    "class BoundingBox():\n",
    "    def __init__(self, json_data):\n",
    "        # orientation in radians\n",
    "        self.angle = json_data['angle']\n",
    "        self.center = json_data['center']\n",
    "        self.length = json_data['length']\n",
    "        self.width = json_data['width']\n",
    "        self.object_id = json_data['object_id']\n",
    "    \n",
    "    def IoU(self, other):\n",
    "        offset = (max([self.length, self.width, other.length, other.width]) \n",
    "                  + max([0, -self.center['x'], -self.center['y'], -other.center['x'], -other.center['y']]))\n",
    "        r1 = RotatedRect(self.center['x'], self.center['y'], self.width, self.length, self.angle / (2*np.pi) * 360)\n",
    "        r2 = RotatedRect(other.center['x'], other.center['y'], other.width, other.length, other.angle / (2*np.pi) * 360)\n",
    "        \n",
    "        intersection = r1.intersection(r2).area\n",
    "        union = r1.union(r2).area\n",
    "        \n",
    "        return intersection / union"
   ]
  },
  {
   "cell_type": "code",
   "execution_count": 568,
   "metadata": {},
   "outputs": [],
   "source": [
    "class EfficiencyTest():\n",
    "    def __init__(self):\n",
    "        self.evaluations = []\n",
    "        for file in os.listdir(\"../evaluations/\"):\n",
    "            if file.endswith(\".json\") and file != \"ground_truth.json\":\n",
    "                with open('../evaluations/' + file) as f:\n",
    "                    print(file)\n",
    "                    data = json.load(f)\n",
    "                    evaluation = Evaluation(data)\n",
    "                    self.evaluations.append(evaluation)\n",
    "\n",
    "        with open('../evaluations/ground_truth.json') as f:\n",
    "            data = json.load(f)\n",
    "            self.ground_truth = GroundTruth(data)\n",
    "        \n",
    "        self.IoUs = dict()\n",
    "        for evaluation in self.evaluations:\n",
    "            IoU = evaluation.IoU(self.ground_truth)\n",
    "            for key in IoU.keys():\n",
    "                if key in self.IoUs:\n",
    "                    self.IoUs[key].extend(IoU[key])\n",
    "                else:\n",
    "                    self.IoUs[key] = IoU[key]\n",
    "                    \n",
    "        self.time_elapsed = dict()\n",
    "        for evaluation in self.evaluations:\n",
    "            time_elapsed = evaluation.total_time_elapsed()\n",
    "            for key in time_elapsed.keys():\n",
    "                if key in self.time_elapsed:\n",
    "                    self.time_elapsed[key].append(time_elapsed[key])\n",
    "                else:\n",
    "                    self.time_elapsed[key] = [time_elapsed[key]]\n",
    "                    \n",
    "        self._3D_time_elapsed = dict()\n",
    "        for evaluation in self.evaluations:\n",
    "            time_elapsed = evaluation._3D_time_elapsed()\n",
    "            for key in time_elapsed.keys():\n",
    "                if key in self._3D_time_elapsed:\n",
    "                    self._3D_time_elapsed[key].append(time_elapsed[key])\n",
    "                else:\n",
    "                    self._3D_time_elapsed[key] = [time_elapsed[key]]\n",
    "    def total_bounding_boxes(self):\n",
    "        bounding_boxes = []\n",
    "        for evaluation in self.evaluations:\n",
    "            bounding_boxes.extend(evaluation.get_bounding_boxes())\n",
    "        return len(bounding_boxes)\n",
    "    \n",
    "    def get_false_positives(self):\n",
    "        self.false_positives = dict()\n",
    "        for evaluation in self.evaluations:\n",
    "            false_positives = evaluation.false_positives(self.ground_truth)\n",
    "            for key in false_positives.keys():\n",
    "                if key in self.false_positives:\n",
    "                    self.false_positives[key].append(false_positives[key])\n",
    "                else:\n",
    "                    self.false_positives[key] = [false_positives[key]]\n",
    "        false_positives = []\n",
    "        for key in self.false_positives:\n",
    "            false_positives.extend(self.false_positives[key])\n",
    "        return np.sum(np.array(false_positives))\n",
    "    \n",
    "    def get_false_negatives(self):\n",
    "        self.false_negatives = dict()\n",
    "        for evaluation in self.evaluations:\n",
    "            false_negatives = evaluation.false_negatives(self.ground_truth)\n",
    "            for key in false_negatives.keys():\n",
    "                if key in self.false_negatives:\n",
    "                    self.false_negatives[key].append(false_negatives[key])\n",
    "                else:\n",
    "                    self.false_negatives[key] = [false_negatives[key]]\n",
    "        false_negatives = []\n",
    "        for key in self.false_negatives:\n",
    "            false_negatives.extend(self.false_negatives[key])\n",
    "        return np.sum(np.array(false_negatives))\n",
    "    \n",
    "    def num_bounding_boxes(self):\n",
    "        IoUs = []\n",
    "        for key in self.IoUs:\n",
    "            IoUs.extend(self.IoUs[key])\n",
    "        return len(IoUs)\n",
    "                    \n",
    "    def total_time_elapsed(self):\n",
    "        times = []\n",
    "        for key in self.time_elapsed:\n",
    "            times.extend(self.time_elapsed[key])\n",
    "        return np.sum(np.array(times))\n",
    "    \n",
    "    def total_3D_time_elapsed(self):\n",
    "        times = []\n",
    "        for key in self._3D_time_elapsed.keys():\n",
    "            times.extend(self._3D_time_elapsed[key])\n",
    "        return np.sum(np.array(times))\n",
    "    \n",
    "    \n",
    "    def bounding_boxes_per_time(self):\n",
    "        times = []\n",
    "        for key in self.time_elapsed:\n",
    "            times.extend(self.time_elapsed[key])\n",
    "        return self.num_bounding_boxes() / np.sum(np.array(times))\n",
    "    \n",
    "    \n",
    "    def IoU(self):\n",
    "        return self.IoUs\n",
    "\n",
    "    def average_IoU(self):\n",
    "        IoUs = []\n",
    "        for key in self.IoUs:\n",
    "            IoUs.extend(self.IoUs[key])\n",
    "        return np.mean(np.array(IoUs))\n",
    "    \n",
    "    def sd_IoU(self):\n",
    "        IoUs = []\n",
    "        for key in self.IoUs:\n",
    "            IoUs.extend(self.IoUs[key])\n",
    "        return np.std(np.array(IoUs))"
   ]
  },
  {
   "cell_type": "code",
   "execution_count": 569,
   "metadata": {},
   "outputs": [
    {
     "name": "stdout",
     "output_type": "stream",
     "text": [
      "test_1-3_xuanyu.json\n",
      "test_4-6_sicheng.json\n",
      "test-1_liang.json\n",
      "test-bichen.json\n",
      "test_1-3_sicheng.json\n",
      "test-2_liang.json\n",
      "test_4-6_xuanyu.json\n",
      "test_7-10_xuanyu.json\n"
     ]
    }
   ],
   "source": [
    "efficiency_test = EfficiencyTest()"
   ]
  },
  {
   "cell_type": "code",
   "execution_count": 511,
   "metadata": {},
   "outputs": [
    {
     "data": {
      "text/plain": [
       "0.6566458844617779"
      ]
     },
     "execution_count": 511,
     "metadata": {},
     "output_type": "execute_result"
    }
   ],
   "source": [
    "efficiency_test.average_IoU()"
   ]
  },
  {
   "cell_type": "code",
   "execution_count": 507,
   "metadata": {},
   "outputs": [
    {
     "data": {
      "text/plain": [
       "0.2153628557320564"
      ]
     },
     "execution_count": 507,
     "metadata": {},
     "output_type": "execute_result"
    }
   ],
   "source": [
    "efficiency_test.sd_IoU()"
   ]
  },
  {
   "cell_type": "code",
   "execution_count": 496,
   "metadata": {},
   "outputs": [
    {
     "data": {
      "text/plain": [
       "23769.736000000004"
      ]
     },
     "execution_count": 496,
     "metadata": {},
     "output_type": "execute_result"
    }
   ],
   "source": [
    "efficiency_test.total_time_elapsed()"
   ]
  },
  {
   "cell_type": "code",
   "execution_count": 497,
   "metadata": {},
   "outputs": [
    {
     "data": {
      "text/plain": [
       "12432.997000000001"
      ]
     },
     "execution_count": 497,
     "metadata": {},
     "output_type": "execute_result"
    }
   ],
   "source": [
    "efficiency_test.total_3D_time_elapsed()"
   ]
  },
  {
   "cell_type": "code",
   "execution_count": 498,
   "metadata": {},
   "outputs": [
    {
     "data": {
      "text/plain": [
       "0.5230599532110916"
      ]
     },
     "execution_count": 498,
     "metadata": {},
     "output_type": "execute_result"
    }
   ],
   "source": [
    "efficiency_test.total_3D_time_elapsed() / efficiency_test.total_time_elapsed()"
   ]
  },
  {
   "cell_type": "code",
   "execution_count": 468,
   "metadata": {},
   "outputs": [
    {
     "data": {
      "text/plain": [
       "0.7269748389296371"
      ]
     },
     "execution_count": 468,
     "metadata": {},
     "output_type": "execute_result"
    }
   ],
   "source": [
    "efficiency_test.bounding_boxes_per_time() * 60"
   ]
  },
  {
   "cell_type": "code",
   "execution_count": 452,
   "metadata": {},
   "outputs": [
    {
     "data": {
      "text/plain": [
       "279"
      ]
     },
     "execution_count": 452,
     "metadata": {},
     "output_type": "execute_result"
    }
   ],
   "source": [
    "efficiency_test.num_bounding_boxes()"
   ]
  },
  {
   "cell_type": "code",
   "execution_count": 559,
   "metadata": {},
   "outputs": [
    {
     "data": {
      "text/plain": [
       "37"
      ]
     },
     "execution_count": 559,
     "metadata": {},
     "output_type": "execute_result"
    }
   ],
   "source": [
    "efficiency_test.get_false_positives()"
   ]
  },
  {
   "cell_type": "code",
   "execution_count": 560,
   "metadata": {},
   "outputs": [
    {
     "data": {
      "text/plain": [
       "135"
      ]
     },
     "execution_count": 560,
     "metadata": {},
     "output_type": "execute_result"
    }
   ],
   "source": [
    "efficiency_test.get_false_negatives()"
   ]
  },
  {
   "cell_type": "code",
   "execution_count": 561,
   "metadata": {},
   "outputs": [
    {
     "data": {
      "text/plain": [
       "{'0000000001.bin': [2, 0, 2, 2],\n",
       " '0000000003.bin': [3, 1, 0, 6],\n",
       " '0000000013.bin': [3, 0, 2, 0],\n",
       " '0000000019.bin': [7, 7, 6, 4],\n",
       " '0000000022.bin': [6, 8, 8, 11],\n",
       " '0000000023.bin': [0, 1, 1, 3],\n",
       " '0000000049.bin': [5, 4, 6],\n",
       " '0000000060.bin': [2, 5, 5],\n",
       " '0000000128.bin': [4, 8, 2],\n",
       " '0000000133.bin': [6, 5, 0]}"
      ]
     },
     "execution_count": 561,
     "metadata": {},
     "output_type": "execute_result"
    }
   ],
   "source": [
    "efficiency_test.false_negatives"
   ]
  },
  {
   "cell_type": "code",
   "execution_count": 562,
   "metadata": {},
   "outputs": [
    {
     "data": {
      "text/plain": [
       "{'0000000001.bin': [0, 0, 1, 0],\n",
       " '0000000003.bin': [3, 1, 0, 0],\n",
       " '0000000013.bin': [0, 0, 0, 0],\n",
       " '0000000019.bin': [0, 1, 1, 4],\n",
       " '0000000022.bin': [1, 1, 8, 2],\n",
       " '0000000023.bin': [0, 0, 1, 0],\n",
       " '0000000049.bin': [0, 6, 0],\n",
       " '0000000060.bin': [1, 0, 1],\n",
       " '0000000128.bin': [1, 0, 1],\n",
       " '0000000133.bin': [1, 1, 1]}"
      ]
     },
     "execution_count": 562,
     "metadata": {},
     "output_type": "execute_result"
    }
   ],
   "source": [
    "efficiency_test.false_positives"
   ]
  },
  {
   "cell_type": "code",
   "execution_count": 570,
   "metadata": {},
   "outputs": [
    {
     "data": {
      "text/plain": [
       "424"
      ]
     },
     "execution_count": 570,
     "metadata": {},
     "output_type": "execute_result"
    }
   ],
   "source": [
    "efficiency_test.total_bounding_boxes()"
   ]
  },
  {
   "cell_type": "code",
   "execution_count": 572,
   "metadata": {},
   "outputs": [
    {
     "ename": "AttributeError",
     "evalue": "'GroundTruth' object has no attribute 'get_bounding_boxes'",
     "output_type": "error",
     "traceback": [
      "\u001b[0;31m---------------------------------------------------------------------------\u001b[0m",
      "\u001b[0;31mAttributeError\u001b[0m                            Traceback (most recent call last)",
      "\u001b[0;32m<ipython-input-572-ef3356061aeb>\u001b[0m in \u001b[0;36m<module>\u001b[0;34m()\u001b[0m\n\u001b[0;32m----> 1\u001b[0;31m \u001b[0mground_truth\u001b[0m\u001b[0;34m.\u001b[0m\u001b[0mget_bounding_boxes\u001b[0m\u001b[0;34m(\u001b[0m\u001b[0;34m)\u001b[0m\u001b[0;34m\u001b[0m\u001b[0m\n\u001b[0m",
      "\u001b[0;31mAttributeError\u001b[0m: 'GroundTruth' object has no attribute 'get_bounding_boxes'"
     ]
    }
   ],
   "source": [
    "ground_truth.get_bounding_boxes()"
   ]
  },
  {
   "cell_type": "code",
   "execution_count": null,
   "metadata": {},
   "outputs": [],
   "source": []
  }
 ],
 "metadata": {
  "kernelspec": {
   "display_name": "Python 3",
   "language": "python",
   "name": "python3"
  },
  "language_info": {
   "codemirror_mode": {
    "name": "ipython",
    "version": 3
   },
   "file_extension": ".py",
   "mimetype": "text/x-python",
   "name": "python",
   "nbconvert_exporter": "python",
   "pygments_lexer": "ipython3",
   "version": "3.6.4"
  }
 },
 "nbformat": 4,
 "nbformat_minor": 2
}
