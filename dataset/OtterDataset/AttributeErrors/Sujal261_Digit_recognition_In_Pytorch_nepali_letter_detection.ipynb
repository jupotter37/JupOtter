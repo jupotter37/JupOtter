{
  "nbformat": 4,
  "nbformat_minor": 0,
  "metadata": {
    "colab": {
      "provenance": [],
      "authorship_tag": "ABX9TyOUQ/37pb8N0AvveANGXUFT",
      "include_colab_link": true
    },
    "kernelspec": {
      "name": "python3",
      "display_name": "Python 3"
    },
    "language_info": {
      "name": "python"
    },
    "widgets": {
      "application/vnd.jupyter.widget-state+json": {
        "cbcbe3c5e6e54d80ac23820ade99d790": {
          "model_module": "@jupyter-widgets/controls",
          "model_name": "HBoxModel",
          "model_module_version": "1.5.0",
          "state": {
            "_dom_classes": [],
            "_model_module": "@jupyter-widgets/controls",
            "_model_module_version": "1.5.0",
            "_model_name": "HBoxModel",
            "_view_count": null,
            "_view_module": "@jupyter-widgets/controls",
            "_view_module_version": "1.5.0",
            "_view_name": "HBoxView",
            "box_style": "",
            "children": [
              "IPY_MODEL_4a990cced71b4564aac7cd4cc3527316",
              "IPY_MODEL_e4adc7e766944e57a6816939815582dc",
              "IPY_MODEL_9cb7f7faf34a4dd789c6d15f5d2a13a1"
            ],
            "layout": "IPY_MODEL_e3a7bb0569a949e9a4c660c1556fe926"
          }
        },
        "4a990cced71b4564aac7cd4cc3527316": {
          "model_module": "@jupyter-widgets/controls",
          "model_name": "HTMLModel",
          "model_module_version": "1.5.0",
          "state": {
            "_dom_classes": [],
            "_model_module": "@jupyter-widgets/controls",
            "_model_module_version": "1.5.0",
            "_model_name": "HTMLModel",
            "_view_count": null,
            "_view_module": "@jupyter-widgets/controls",
            "_view_module_version": "1.5.0",
            "_view_name": "HTMLView",
            "description": "",
            "description_tooltip": null,
            "layout": "IPY_MODEL_dc8545916eaf47b09b949cb0cf2c0f31",
            "placeholder": "​",
            "style": "IPY_MODEL_dc73fdbab92d422ca1e6a4cf11c021e7",
            "value": "100%"
          }
        },
        "e4adc7e766944e57a6816939815582dc": {
          "model_module": "@jupyter-widgets/controls",
          "model_name": "FloatProgressModel",
          "model_module_version": "1.5.0",
          "state": {
            "_dom_classes": [],
            "_model_module": "@jupyter-widgets/controls",
            "_model_module_version": "1.5.0",
            "_model_name": "FloatProgressModel",
            "_view_count": null,
            "_view_module": "@jupyter-widgets/controls",
            "_view_module_version": "1.5.0",
            "_view_name": "ProgressView",
            "bar_style": "success",
            "description": "",
            "description_tooltip": null,
            "layout": "IPY_MODEL_f00775fbd2e5442eb092d94f7f8a1215",
            "max": 575,
            "min": 0,
            "orientation": "horizontal",
            "style": "IPY_MODEL_b11f7aa0e96f49ee862dfed3548ba620",
            "value": 575
          }
        },
        "9cb7f7faf34a4dd789c6d15f5d2a13a1": {
          "model_module": "@jupyter-widgets/controls",
          "model_name": "HTMLModel",
          "model_module_version": "1.5.0",
          "state": {
            "_dom_classes": [],
            "_model_module": "@jupyter-widgets/controls",
            "_model_module_version": "1.5.0",
            "_model_name": "HTMLModel",
            "_view_count": null,
            "_view_module": "@jupyter-widgets/controls",
            "_view_module_version": "1.5.0",
            "_view_name": "HTMLView",
            "description": "",
            "description_tooltip": null,
            "layout": "IPY_MODEL_e0f6720c0b6b4666854ca9b8a911ca90",
            "placeholder": "​",
            "style": "IPY_MODEL_51e046721b044c2abe5d2bca249a62ca",
            "value": " 575/575 [00:13&lt;00:00, 48.16it/s]"
          }
        },
        "e3a7bb0569a949e9a4c660c1556fe926": {
          "model_module": "@jupyter-widgets/base",
          "model_name": "LayoutModel",
          "model_module_version": "1.2.0",
          "state": {
            "_model_module": "@jupyter-widgets/base",
            "_model_module_version": "1.2.0",
            "_model_name": "LayoutModel",
            "_view_count": null,
            "_view_module": "@jupyter-widgets/base",
            "_view_module_version": "1.2.0",
            "_view_name": "LayoutView",
            "align_content": null,
            "align_items": null,
            "align_self": null,
            "border": null,
            "bottom": null,
            "display": null,
            "flex": null,
            "flex_flow": null,
            "grid_area": null,
            "grid_auto_columns": null,
            "grid_auto_flow": null,
            "grid_auto_rows": null,
            "grid_column": null,
            "grid_gap": null,
            "grid_row": null,
            "grid_template_areas": null,
            "grid_template_columns": null,
            "grid_template_rows": null,
            "height": null,
            "justify_content": null,
            "justify_items": null,
            "left": null,
            "margin": null,
            "max_height": null,
            "max_width": null,
            "min_height": null,
            "min_width": null,
            "object_fit": null,
            "object_position": null,
            "order": null,
            "overflow": null,
            "overflow_x": null,
            "overflow_y": null,
            "padding": null,
            "right": null,
            "top": null,
            "visibility": null,
            "width": null
          }
        },
        "dc8545916eaf47b09b949cb0cf2c0f31": {
          "model_module": "@jupyter-widgets/base",
          "model_name": "LayoutModel",
          "model_module_version": "1.2.0",
          "state": {
            "_model_module": "@jupyter-widgets/base",
            "_model_module_version": "1.2.0",
            "_model_name": "LayoutModel",
            "_view_count": null,
            "_view_module": "@jupyter-widgets/base",
            "_view_module_version": "1.2.0",
            "_view_name": "LayoutView",
            "align_content": null,
            "align_items": null,
            "align_self": null,
            "border": null,
            "bottom": null,
            "display": null,
            "flex": null,
            "flex_flow": null,
            "grid_area": null,
            "grid_auto_columns": null,
            "grid_auto_flow": null,
            "grid_auto_rows": null,
            "grid_column": null,
            "grid_gap": null,
            "grid_row": null,
            "grid_template_areas": null,
            "grid_template_columns": null,
            "grid_template_rows": null,
            "height": null,
            "justify_content": null,
            "justify_items": null,
            "left": null,
            "margin": null,
            "max_height": null,
            "max_width": null,
            "min_height": null,
            "min_width": null,
            "object_fit": null,
            "object_position": null,
            "order": null,
            "overflow": null,
            "overflow_x": null,
            "overflow_y": null,
            "padding": null,
            "right": null,
            "top": null,
            "visibility": null,
            "width": null
          }
        },
        "dc73fdbab92d422ca1e6a4cf11c021e7": {
          "model_module": "@jupyter-widgets/controls",
          "model_name": "DescriptionStyleModel",
          "model_module_version": "1.5.0",
          "state": {
            "_model_module": "@jupyter-widgets/controls",
            "_model_module_version": "1.5.0",
            "_model_name": "DescriptionStyleModel",
            "_view_count": null,
            "_view_module": "@jupyter-widgets/base",
            "_view_module_version": "1.2.0",
            "_view_name": "StyleView",
            "description_width": ""
          }
        },
        "f00775fbd2e5442eb092d94f7f8a1215": {
          "model_module": "@jupyter-widgets/base",
          "model_name": "LayoutModel",
          "model_module_version": "1.2.0",
          "state": {
            "_model_module": "@jupyter-widgets/base",
            "_model_module_version": "1.2.0",
            "_model_name": "LayoutModel",
            "_view_count": null,
            "_view_module": "@jupyter-widgets/base",
            "_view_module_version": "1.2.0",
            "_view_name": "LayoutView",
            "align_content": null,
            "align_items": null,
            "align_self": null,
            "border": null,
            "bottom": null,
            "display": null,
            "flex": null,
            "flex_flow": null,
            "grid_area": null,
            "grid_auto_columns": null,
            "grid_auto_flow": null,
            "grid_auto_rows": null,
            "grid_column": null,
            "grid_gap": null,
            "grid_row": null,
            "grid_template_areas": null,
            "grid_template_columns": null,
            "grid_template_rows": null,
            "height": null,
            "justify_content": null,
            "justify_items": null,
            "left": null,
            "margin": null,
            "max_height": null,
            "max_width": null,
            "min_height": null,
            "min_width": null,
            "object_fit": null,
            "object_position": null,
            "order": null,
            "overflow": null,
            "overflow_x": null,
            "overflow_y": null,
            "padding": null,
            "right": null,
            "top": null,
            "visibility": null,
            "width": null
          }
        },
        "b11f7aa0e96f49ee862dfed3548ba620": {
          "model_module": "@jupyter-widgets/controls",
          "model_name": "ProgressStyleModel",
          "model_module_version": "1.5.0",
          "state": {
            "_model_module": "@jupyter-widgets/controls",
            "_model_module_version": "1.5.0",
            "_model_name": "ProgressStyleModel",
            "_view_count": null,
            "_view_module": "@jupyter-widgets/base",
            "_view_module_version": "1.2.0",
            "_view_name": "StyleView",
            "bar_color": null,
            "description_width": ""
          }
        },
        "e0f6720c0b6b4666854ca9b8a911ca90": {
          "model_module": "@jupyter-widgets/base",
          "model_name": "LayoutModel",
          "model_module_version": "1.2.0",
          "state": {
            "_model_module": "@jupyter-widgets/base",
            "_model_module_version": "1.2.0",
            "_model_name": "LayoutModel",
            "_view_count": null,
            "_view_module": "@jupyter-widgets/base",
            "_view_module_version": "1.2.0",
            "_view_name": "LayoutView",
            "align_content": null,
            "align_items": null,
            "align_self": null,
            "border": null,
            "bottom": null,
            "display": null,
            "flex": null,
            "flex_flow": null,
            "grid_area": null,
            "grid_auto_columns": null,
            "grid_auto_flow": null,
            "grid_auto_rows": null,
            "grid_column": null,
            "grid_gap": null,
            "grid_row": null,
            "grid_template_areas": null,
            "grid_template_columns": null,
            "grid_template_rows": null,
            "height": null,
            "justify_content": null,
            "justify_items": null,
            "left": null,
            "margin": null,
            "max_height": null,
            "max_width": null,
            "min_height": null,
            "min_width": null,
            "object_fit": null,
            "object_position": null,
            "order": null,
            "overflow": null,
            "overflow_x": null,
            "overflow_y": null,
            "padding": null,
            "right": null,
            "top": null,
            "visibility": null,
            "width": null
          }
        },
        "51e046721b044c2abe5d2bca249a62ca": {
          "model_module": "@jupyter-widgets/controls",
          "model_name": "DescriptionStyleModel",
          "model_module_version": "1.5.0",
          "state": {
            "_model_module": "@jupyter-widgets/controls",
            "_model_module_version": "1.5.0",
            "_model_name": "DescriptionStyleModel",
            "_view_count": null,
            "_view_module": "@jupyter-widgets/base",
            "_view_module_version": "1.2.0",
            "_view_name": "StyleView",
            "description_width": ""
          }
        }
      }
    }
  },
  "cells": [
    {
      "cell_type": "markdown",
      "metadata": {
        "id": "view-in-github",
        "colab_type": "text"
      },
      "source": [
        "<a href=\"https://colab.research.google.com/github/Sujal261/Digit_recognition_In_Pytorch/blob/main/nepali_letter_detection.ipynb\" target=\"_parent\"><img src=\"https://colab.research.google.com/assets/colab-badge.svg\" alt=\"Open In Colab\"/></a>"
      ]
    },
    {
      "cell_type": "code",
      "execution_count": null,
      "metadata": {
        "colab": {
          "base_uri": "https://localhost:8080/",
          "height": 1000
        },
        "id": "O8TWzf4Cud6L",
        "outputId": "41439420-e272-4910-fd9e-6d6853f7e4dc"
      },
      "outputs": [
        {
          "output_type": "display_data",
          "data": {
            "text/plain": [
              "<IPython.core.display.HTML object>"
            ],
            "text/html": [
              "\n",
              "     <input type=\"file\" id=\"files-081ee7fd-fb2f-4964-91f9-dc070dc3433b\" name=\"files[]\" multiple disabled\n",
              "        style=\"border:none\" />\n",
              "     <output id=\"result-081ee7fd-fb2f-4964-91f9-dc070dc3433b\">\n",
              "      Upload widget is only available when the cell has been executed in the\n",
              "      current browser session. Please rerun this cell to enable.\n",
              "      </output>\n",
              "      <script>// Copyright 2017 Google LLC\n",
              "//\n",
              "// Licensed under the Apache License, Version 2.0 (the \"License\");\n",
              "// you may not use this file except in compliance with the License.\n",
              "// You may obtain a copy of the License at\n",
              "//\n",
              "//      http://www.apache.org/licenses/LICENSE-2.0\n",
              "//\n",
              "// Unless required by applicable law or agreed to in writing, software\n",
              "// distributed under the License is distributed on an \"AS IS\" BASIS,\n",
              "// WITHOUT WARRANTIES OR CONDITIONS OF ANY KIND, either express or implied.\n",
              "// See the License for the specific language governing permissions and\n",
              "// limitations under the License.\n",
              "\n",
              "/**\n",
              " * @fileoverview Helpers for google.colab Python module.\n",
              " */\n",
              "(function(scope) {\n",
              "function span(text, styleAttributes = {}) {\n",
              "  const element = document.createElement('span');\n",
              "  element.textContent = text;\n",
              "  for (const key of Object.keys(styleAttributes)) {\n",
              "    element.style[key] = styleAttributes[key];\n",
              "  }\n",
              "  return element;\n",
              "}\n",
              "\n",
              "// Max number of bytes which will be uploaded at a time.\n",
              "const MAX_PAYLOAD_SIZE = 100 * 1024;\n",
              "\n",
              "function _uploadFiles(inputId, outputId) {\n",
              "  const steps = uploadFilesStep(inputId, outputId);\n",
              "  const outputElement = document.getElementById(outputId);\n",
              "  // Cache steps on the outputElement to make it available for the next call\n",
              "  // to uploadFilesContinue from Python.\n",
              "  outputElement.steps = steps;\n",
              "\n",
              "  return _uploadFilesContinue(outputId);\n",
              "}\n",
              "\n",
              "// This is roughly an async generator (not supported in the browser yet),\n",
              "// where there are multiple asynchronous steps and the Python side is going\n",
              "// to poll for completion of each step.\n",
              "// This uses a Promise to block the python side on completion of each step,\n",
              "// then passes the result of the previous step as the input to the next step.\n",
              "function _uploadFilesContinue(outputId) {\n",
              "  const outputElement = document.getElementById(outputId);\n",
              "  const steps = outputElement.steps;\n",
              "\n",
              "  const next = steps.next(outputElement.lastPromiseValue);\n",
              "  return Promise.resolve(next.value.promise).then((value) => {\n",
              "    // Cache the last promise value to make it available to the next\n",
              "    // step of the generator.\n",
              "    outputElement.lastPromiseValue = value;\n",
              "    return next.value.response;\n",
              "  });\n",
              "}\n",
              "\n",
              "/**\n",
              " * Generator function which is called between each async step of the upload\n",
              " * process.\n",
              " * @param {string} inputId Element ID of the input file picker element.\n",
              " * @param {string} outputId Element ID of the output display.\n",
              " * @return {!Iterable<!Object>} Iterable of next steps.\n",
              " */\n",
              "function* uploadFilesStep(inputId, outputId) {\n",
              "  const inputElement = document.getElementById(inputId);\n",
              "  inputElement.disabled = false;\n",
              "\n",
              "  const outputElement = document.getElementById(outputId);\n",
              "  outputElement.innerHTML = '';\n",
              "\n",
              "  const pickedPromise = new Promise((resolve) => {\n",
              "    inputElement.addEventListener('change', (e) => {\n",
              "      resolve(e.target.files);\n",
              "    });\n",
              "  });\n",
              "\n",
              "  const cancel = document.createElement('button');\n",
              "  inputElement.parentElement.appendChild(cancel);\n",
              "  cancel.textContent = 'Cancel upload';\n",
              "  const cancelPromise = new Promise((resolve) => {\n",
              "    cancel.onclick = () => {\n",
              "      resolve(null);\n",
              "    };\n",
              "  });\n",
              "\n",
              "  // Wait for the user to pick the files.\n",
              "  const files = yield {\n",
              "    promise: Promise.race([pickedPromise, cancelPromise]),\n",
              "    response: {\n",
              "      action: 'starting',\n",
              "    }\n",
              "  };\n",
              "\n",
              "  cancel.remove();\n",
              "\n",
              "  // Disable the input element since further picks are not allowed.\n",
              "  inputElement.disabled = true;\n",
              "\n",
              "  if (!files) {\n",
              "    return {\n",
              "      response: {\n",
              "        action: 'complete',\n",
              "      }\n",
              "    };\n",
              "  }\n",
              "\n",
              "  for (const file of files) {\n",
              "    const li = document.createElement('li');\n",
              "    li.append(span(file.name, {fontWeight: 'bold'}));\n",
              "    li.append(span(\n",
              "        `(${file.type || 'n/a'}) - ${file.size} bytes, ` +\n",
              "        `last modified: ${\n",
              "            file.lastModifiedDate ? file.lastModifiedDate.toLocaleDateString() :\n",
              "                                    'n/a'} - `));\n",
              "    const percent = span('0% done');\n",
              "    li.appendChild(percent);\n",
              "\n",
              "    outputElement.appendChild(li);\n",
              "\n",
              "    const fileDataPromise = new Promise((resolve) => {\n",
              "      const reader = new FileReader();\n",
              "      reader.onload = (e) => {\n",
              "        resolve(e.target.result);\n",
              "      };\n",
              "      reader.readAsArrayBuffer(file);\n",
              "    });\n",
              "    // Wait for the data to be ready.\n",
              "    let fileData = yield {\n",
              "      promise: fileDataPromise,\n",
              "      response: {\n",
              "        action: 'continue',\n",
              "      }\n",
              "    };\n",
              "\n",
              "    // Use a chunked sending to avoid message size limits. See b/62115660.\n",
              "    let position = 0;\n",
              "    do {\n",
              "      const length = Math.min(fileData.byteLength - position, MAX_PAYLOAD_SIZE);\n",
              "      const chunk = new Uint8Array(fileData, position, length);\n",
              "      position += length;\n",
              "\n",
              "      const base64 = btoa(String.fromCharCode.apply(null, chunk));\n",
              "      yield {\n",
              "        response: {\n",
              "          action: 'append',\n",
              "          file: file.name,\n",
              "          data: base64,\n",
              "        },\n",
              "      };\n",
              "\n",
              "      let percentDone = fileData.byteLength === 0 ?\n",
              "          100 :\n",
              "          Math.round((position / fileData.byteLength) * 100);\n",
              "      percent.textContent = `${percentDone}% done`;\n",
              "\n",
              "    } while (position < fileData.byteLength);\n",
              "  }\n",
              "\n",
              "  // All done.\n",
              "  yield {\n",
              "    response: {\n",
              "      action: 'complete',\n",
              "    }\n",
              "  };\n",
              "}\n",
              "\n",
              "scope.google = scope.google || {};\n",
              "scope.google.colab = scope.google.colab || {};\n",
              "scope.google.colab._files = {\n",
              "  _uploadFiles,\n",
              "  _uploadFilesContinue,\n",
              "};\n",
              "})(self);\n",
              "</script> "
            ]
          },
          "metadata": {}
        },
        {
          "output_type": "stream",
          "name": "stderr",
          "text": [
            "ERROR:root:Internal Python error in the inspect module.\n",
            "Below is the traceback from this internal error.\n",
            "\n"
          ]
        },
        {
          "output_type": "stream",
          "name": "stdout",
          "text": [
            "Traceback (most recent call last):\n",
            "  File \"/usr/local/lib/python3.10/dist-packages/IPython/core/interactiveshell.py\", line 3553, in run_code\n",
            "    exec(code_obj, self.user_global_ns, self.user_ns)\n",
            "  File \"<ipython-input-2-d4c542003131>\", line 4, in <cell line: 4>\n",
            "    uploaded = files.upload()\n",
            "  File \"/usr/local/lib/python3.10/dist-packages/google/colab/files.py\", line 72, in upload\n",
            "    uploaded_files = _upload_files(multiple=True)\n",
            "  File \"/usr/local/lib/python3.10/dist-packages/google/colab/files.py\", line 172, in _upload_files\n",
            "    result = _output.eval_js(\n",
            "  File \"/usr/local/lib/python3.10/dist-packages/google/colab/output/_js.py\", line 40, in eval_js\n",
            "    return _message.read_reply_from_input(request_id, timeout_sec)\n",
            "  File \"/usr/local/lib/python3.10/dist-packages/google/colab/_message.py\", line 96, in read_reply_from_input\n",
            "    time.sleep(0.025)\n",
            "KeyboardInterrupt\n",
            "\n",
            "During handling of the above exception, another exception occurred:\n",
            "\n",
            "Traceback (most recent call last):\n",
            "  File \"/usr/local/lib/python3.10/dist-packages/IPython/core/interactiveshell.py\", line 2099, in showtraceback\n",
            "    stb = value._render_traceback_()\n",
            "AttributeError: 'KeyboardInterrupt' object has no attribute '_render_traceback_'\n",
            "\n",
            "During handling of the above exception, another exception occurred:\n",
            "\n",
            "Traceback (most recent call last):\n",
            "  File \"/usr/local/lib/python3.10/dist-packages/IPython/core/ultratb.py\", line 1101, in get_records\n",
            "    return _fixed_getinnerframes(etb, number_of_lines_of_context, tb_offset)\n",
            "  File \"/usr/local/lib/python3.10/dist-packages/IPython/core/ultratb.py\", line 248, in wrapped\n",
            "    return f(*args, **kwargs)\n",
            "  File \"/usr/local/lib/python3.10/dist-packages/IPython/core/ultratb.py\", line 281, in _fixed_getinnerframes\n",
            "    records = fix_frame_records_filenames(inspect.getinnerframes(etb, context))\n",
            "  File \"/usr/lib/python3.10/inspect.py\", line 1662, in getinnerframes\n",
            "    frameinfo = (tb.tb_frame,) + getframeinfo(tb, context)\n",
            "  File \"/usr/lib/python3.10/inspect.py\", line 1620, in getframeinfo\n",
            "    filename = getsourcefile(frame) or getfile(frame)\n",
            "  File \"/usr/lib/python3.10/inspect.py\", line 829, in getsourcefile\n",
            "    module = getmodule(object, filename)\n",
            "  File \"/usr/lib/python3.10/inspect.py\", line 878, in getmodule\n",
            "    os.path.realpath(f)] = module.__name__\n",
            "  File \"/usr/lib/python3.10/posixpath.py\", line 397, in realpath\n",
            "    return abspath(path)\n",
            "  File \"/usr/lib/python3.10/posixpath.py\", line 386, in abspath\n",
            "    return normpath(path)\n",
            "  File \"/usr/lib/python3.10/posixpath.py\", line 367, in normpath\n",
            "    new_comps.append(comp)\n",
            "KeyboardInterrupt\n"
          ]
        },
        {
          "output_type": "stream",
          "name": "stderr",
          "text": [
            "\n",
            "KeyboardInterrupt\n",
            "\n"
          ]
        }
      ],
      "source": [
        "from google.colab import files\n",
        "\n",
        "# Upload the zip file from your local machine\n",
        "uploaded = files.upload()\n",
        "\n",
        "# This will allow you to choose the file from your local system and upload it\n"
      ]
    },
    {
      "cell_type": "code",
      "source": [
        "import os\n",
        "os.makedirs(\"modular\", exist_ok=True)"
      ],
      "metadata": {
        "id": "G2dzRKtGcJj1"
      },
      "execution_count": 8,
      "outputs": []
    },
    {
      "cell_type": "code",
      "source": [
        "import zipfile\n",
        "from pathlib import Path\n",
        "data_path = Path(\"Images\")\n",
        "path = data_path/\"Images\"\n",
        "with zipfile.ZipFile(\"Images.zip\") as zref:\n",
        "  zref.extractall(data_path)"
      ],
      "metadata": {
        "id": "maIdvEeXxsb8"
      },
      "execution_count": 14,
      "outputs": []
    },
    {
      "cell_type": "code",
      "source": [
        "import os\n",
        "def walk_through(dir_path):\n",
        "  for dirpath, dirnames, filenames in os.walk(dir_path):\n",
        "    print(f\" Total files {len(filenames)} in directory {len(dirnames)}\")"
      ],
      "metadata": {
        "id": "h7r_aeX_ZLF7"
      },
      "execution_count": 15,
      "outputs": []
    },
    {
      "cell_type": "code",
      "source": [
        "walk_through(data_path)"
      ],
      "metadata": {
        "colab": {
          "base_uri": "https://localhost:8080/"
        },
        "id": "OPVPpxreaJKL",
        "outputId": "fdd50069-5654-4f08-d9cf-d70294fb031d"
      },
      "execution_count": 16,
      "outputs": [
        {
          "output_type": "stream",
          "name": "stdout",
          "text": [
            " Total files 0 in directory 1\n",
            " Total files 0 in directory 46\n",
            " Total files 2000 in directory 0\n",
            " Total files 2000 in directory 0\n",
            " Total files 2000 in directory 0\n",
            " Total files 2000 in directory 0\n",
            " Total files 2000 in directory 0\n",
            " Total files 2000 in directory 0\n",
            " Total files 2000 in directory 0\n",
            " Total files 2000 in directory 0\n",
            " Total files 2000 in directory 0\n",
            " Total files 2000 in directory 0\n",
            " Total files 2000 in directory 0\n",
            " Total files 2000 in directory 0\n",
            " Total files 2000 in directory 0\n",
            " Total files 2000 in directory 0\n",
            " Total files 2000 in directory 0\n",
            " Total files 2000 in directory 0\n",
            " Total files 2000 in directory 0\n",
            " Total files 2000 in directory 0\n",
            " Total files 2000 in directory 0\n",
            " Total files 2000 in directory 0\n",
            " Total files 2000 in directory 0\n",
            " Total files 2000 in directory 0\n",
            " Total files 2000 in directory 0\n",
            " Total files 2000 in directory 0\n",
            " Total files 2000 in directory 0\n",
            " Total files 2000 in directory 0\n",
            " Total files 2000 in directory 0\n",
            " Total files 2000 in directory 0\n",
            " Total files 2000 in directory 0\n",
            " Total files 2000 in directory 0\n",
            " Total files 2000 in directory 0\n",
            " Total files 2000 in directory 0\n",
            " Total files 2000 in directory 0\n",
            " Total files 2000 in directory 0\n",
            " Total files 2000 in directory 0\n",
            " Total files 2000 in directory 0\n",
            " Total files 2000 in directory 0\n",
            " Total files 2000 in directory 0\n",
            " Total files 2000 in directory 0\n",
            " Total files 2000 in directory 0\n",
            " Total files 2000 in directory 0\n",
            " Total files 2000 in directory 0\n",
            " Total files 2000 in directory 0\n",
            " Total files 2000 in directory 0\n",
            " Total files 2000 in directory 0\n",
            " Total files 2000 in directory 0\n"
          ]
        }
      ]
    },
    {
      "cell_type": "code",
      "source": [
        "import torch\n",
        "from PIL import Image\n",
        "import random\n",
        "import numpy as np\n",
        "\n",
        "image_path_list = list(data_path.glob(\"*/*/*.png\"))\n",
        "random_image_path = random.choice(image_path_list)\n",
        "img = Image.open(random_image_path)\n",
        "img"
      ],
      "metadata": {
        "colab": {
          "base_uri": "https://localhost:8080/",
          "height": 69
        },
        "id": "uUKIlcVlaM0y",
        "outputId": "63543673-b8c6-4b4c-aa04-a81b40a0c7df"
      },
      "execution_count": 17,
      "outputs": [
        {
          "output_type": "execute_result",
          "data": {
            "text/plain": [
              "<PIL.PngImagePlugin.PngImageFile image mode=L size=32x32>"
            ],
            "image/png": "[encoded data removed]",
            "image/jpeg": "[encoded data removed]"
          },
          "metadata": {},
          "execution_count": 17
        }
      ]
    },
    {
      "cell_type": "code",
      "source": [
        "\n",
        "\n",
        "\n",
        "\n",
        "\n",
        "img1 = np.array(img)"
      ],
      "metadata": {
        "id": "_NQUXgX8gIZQ"
      },
      "execution_count": null,
      "outputs": []
    },
    {
      "cell_type": "code",
      "source": [
        "img1.shape"
      ],
      "metadata": {
        "colab": {
          "base_uri": "https://localhost:8080/"
        },
        "id": "aBBKvJaJhr3o",
        "outputId": "60f41312-1b11-4319-aab1-9083283fdba4"
      },
      "execution_count": null,
      "outputs": [
        {
          "output_type": "execute_result",
          "data": {
            "text/plain": [
              "(32, 32)"
            ]
          },
          "metadata": {},
          "execution_count": 33
        }
      ]
    },
    {
      "cell_type": "code",
      "source": [
        "from torch.utils.data import DataLoader, random_split\n",
        "from torchvision import datasets , transforms\n",
        "\n",
        "data_transform = transforms.Compose([\n",
        "     transforms.Grayscale(num_output_channels=1),\n",
        "     transforms.ToTensor()\n",
        "\n",
        " ])\n",
        "\n",
        "data = datasets.ImageFolder(root = path , transform = data_transform)\n",
        "\n",
        "train_set =0.8*len(data)\n",
        "train_set = int(train_set)\n",
        "test_set = len(data)- (train_set)\n",
        "\n",
        "train_data, test_data = random_split(data, [train_set, test_set])"
      ],
      "metadata": {
        "id": "yMgPYtB7iHIP"
      },
      "execution_count": 18,
      "outputs": []
    },
    {
      "cell_type": "code",
      "source": [
        "len(data)"
      ],
      "metadata": {
        "colab": {
          "base_uri": "https://localhost:8080/"
        },
        "id": "qSKIYFYzjm_f",
        "outputId": "3ec9dd64-301a-4905-eefb-d95ba41bb96f"
      },
      "execution_count": null,
      "outputs": [
        {
          "output_type": "execute_result",
          "data": {
            "text/plain": [
              "92000"
            ]
          },
          "metadata": {},
          "execution_count": 35
        }
      ]
    },
    {
      "cell_type": "code",
      "source": [
        "\n",
        "0.8*len(data)"
      ],
      "metadata": {
        "colab": {
          "base_uri": "https://localhost:8080/"
        },
        "id": "B7oiseOfkESn",
        "outputId": "40cf6551-db04-4f9e-e26d-779e58f0517b"
      },
      "execution_count": null,
      "outputs": [
        {
          "output_type": "execute_result",
          "data": {
            "text/plain": [
              "73600.0"
            ]
          },
          "metadata": {},
          "execution_count": 36
        }
      ]
    },
    {
      "cell_type": "code",
      "source": [
        "train_data.classes"
      ],
      "metadata": {
        "id": "EdGzJ-IwkyOu"
      },
      "execution_count": null,
      "outputs": []
    },
    {
      "cell_type": "code",
      "source": [
        "len(train_data), len(test_data)"
      ],
      "metadata": {
        "id": "EhzlY7luk962"
      },
      "execution_count": null,
      "outputs": []
    },
    {
      "cell_type": "code",
      "source": [
        "data.classes"
      ],
      "metadata": {
        "id": "3H4Z7y6TlIle"
      },
      "execution_count": null,
      "outputs": []
    },
    {
      "cell_type": "code",
      "source": [
        "image, label = train_data[0]"
      ],
      "metadata": {
        "id": "7IZybo-BlNS2"
      },
      "execution_count": null,
      "outputs": []
    },
    {
      "cell_type": "code",
      "source": [
        "image.shape, label"
      ],
      "metadata": {
        "id": "pl6sbO4Ml7mt"
      },
      "execution_count": null,
      "outputs": []
    },
    {
      "cell_type": "code",
      "source": [
        "import matplotlib.pyplot as plt\n",
        "image,label = train_data[6]\n",
        "print(f\"Image shape is :{image.shape}\")\n",
        "plt.imshow(image.squeeze(), cmap = \"gray\")\n",
        "plt.title(label)\n",
        "plt.axis(False)"
      ],
      "metadata": {
        "id": "VK9OzVCjl-E-"
      },
      "execution_count": null,
      "outputs": []
    },
    {
      "cell_type": "code",
      "source": [
        "train_data.classes\n"
      ],
      "metadata": {
        "id": "mdNvaolfmSNJ"
      },
      "execution_count": null,
      "outputs": []
    },
    {
      "cell_type": "code",
      "source": [
        "#Making dataloader\n",
        "train_dataloader = DataLoader(train_data, batch_size = 32, shuffle = True)\n",
        "test_dataloader = DataLoader(test_data, batch_size = 32, shuffle = False)\n"
      ],
      "metadata": {
        "id": "r37c68LAoXld"
      },
      "execution_count": 19,
      "outputs": []
    },
    {
      "cell_type": "code",
      "source": [
        "train_features, train_labels = next(iter(train_dataloader))\n",
        "train_labels"
      ],
      "metadata": {
        "id": "Oll9pLxMo7LE",
        "colab": {
          "base_uri": "https://localhost:8080/"
        },
        "outputId": "b202477d-a12d-4356-84da-12992f320328"
      },
      "execution_count": 20,
      "outputs": [
        {
          "output_type": "execute_result",
          "data": {
            "text/plain": [
              "tensor([40, 36, 42,  1, 16, 17, 35, 34, 37, 39,  0,  4, 30, 36,  6,  6, 35, 10,\n",
              "        37, 10,  5, 24, 15, 24, 36, 13, 39, 33, 43, 38,  8, 10])"
            ]
          },
          "metadata": {},
          "execution_count": 20
        }
      ]
    },
    {
      "cell_type": "code",
      "source": [
        "%%writefile modular/data.py\n",
        "\"\"\"\n",
        "there are functions for createw data loaders\n",
        "\"\"\"\n",
        "\n",
        "from torchvision import datasets, transforms\n",
        "from torch.utils.data import DataLoader\n",
        "from torch.utils.data import random_split\n",
        "\n",
        "import random\n",
        "\n",
        "def create_dataloaders(path, data_transform, Batch_size, Num_workers):\n",
        "  \"\"\"\n",
        "  This functions helps to create datasert for model\n",
        "\n",
        "  Args:\n",
        "  path: it is a path where our datset is located\n",
        "  data_transfor: transform function which transform the data into required shape and size or to tensor\n",
        "  Batch_size = this gives the sample per epoch which we give in model\n",
        "  Num_workers: This gives the workers thart are working for solving\n",
        "  \"\"\"\n",
        "\n",
        "  data = datasets.ImageFolder(root = path, transform = data_transform)\n",
        "  train_set = int(0.8 *(len(data)))\n",
        "  test_set = len(data) - train_set\n",
        "  train_data, test_data = random_split(data,[train_set, test_set] )\n",
        "\n",
        "  train_dataloader = DataLoader(train_data, batch_size= Batch_size , shuffle = False)\n",
        "  test_dataloader = DataLoader(test_data,batch_size = Batch_size , shuffle = False )\n",
        "  class_names = data.classes\n",
        "\n",
        "  return train_dataloader, test_dataloader, class_names\n"
      ],
      "metadata": {
        "id": "5I80ayyhYjB5",
        "colab": {
          "base_uri": "https://localhost:8080/"
        },
        "outputId": "ecb0fd5a-a22b-4346-dd73-79c483993955"
      },
      "execution_count": 54,
      "outputs": [
        {
          "output_type": "stream",
          "name": "stdout",
          "text": [
            "Overwriting modular/data.py\n"
          ]
        }
      ]
    },
    {
      "cell_type": "code",
      "source": [
        "from torch import nn\n",
        "class nepali_digit_model(nn.Module):\n",
        "  def __init__(self, input_shape = 1, hidden_units =int, output_shape =int):\n",
        "    super().__init__()\n",
        "    self.stack1 = nn.Sequential(\n",
        "        nn.Conv2d(in_channels = input_shape,\n",
        "                  out_channels = hidden_units,\n",
        "                  kernel_size = 3,\n",
        "                  stride = 1,\n",
        "                  padding = 1),\n",
        "        nn.ReLU(),\n",
        "        nn.Conv2d(in_channels = hidden_units,\n",
        "                  out_channels = hidden_units,\n",
        "                  kernel_size = 3,\n",
        "                  stride = 1,\n",
        "                  padding = 1),\n",
        "        nn.ReLU(),\n",
        "        nn.MaxPool2d(kernel_size = 2)\n",
        "    )\n",
        "    self.stack2 = nn.Sequential(\n",
        "        nn.Flatten(),\n",
        "        nn.Linear(in_features = hidden_units*16*16,\n",
        "                      out_features = output_shape))\n",
        "\n",
        "\n",
        "  def forward(self, x):\n",
        "    x =self.stack1(x)\n",
        "\n",
        "    x  = self.stack2(x)\n",
        "\n",
        "    return x\n"
      ],
      "metadata": {
        "id": "LBslEW8PpP41"
      },
      "execution_count": 22,
      "outputs": []
    },
    {
      "cell_type": "code",
      "source": [
        "%%writefile modular/make_model.py\n",
        "\"\"\"\n",
        "This is usedf to create model for nepali_digit_recognition\n",
        "\"\"\"\n",
        "from torch import nn\n",
        "class nepali_digit_model(nn.Module):\n",
        "  def __init__(self, input_shape , hidden_units, output_shape):\n",
        "    \"\"\"\n",
        "    This helps to classify yhe neplai letters\n",
        "\n",
        "    Args:\n",
        "    input_shape: This takes the integers indicatingf input channels\n",
        "    output_shape: This takes the intehers indicating output_channes\n",
        "    hidden_units: this takes the integer indicating the number of channels in hidden units\n",
        "\n",
        "    Return:\n",
        "    This returns the value after pssinhg to the model\n",
        "    \"\"\"\n",
        "    super().__init__()\n",
        "    self.layer1 = nn.Sequential(\n",
        "        nn.Conv2d(in_channels = input_shape,\n",
        "                  out_channels =hidden_units,\n",
        "                  kernel_size = 3,\n",
        "                  stride = 1,\n",
        "                  padding = 1\n",
        "                  ),\n",
        "        nn.ReLU(),\n",
        "        nn.Conv2d(in_channels = hidden_units,\n",
        "                  out_channels = hidden_units,\n",
        "                  kernel_size = 3,\n",
        "                  stride = 1,\n",
        "                  padding = 1),\n",
        "        nn.ReLU(),\n",
        "        nn.MaxPool2d(kernel_size = 2))\n",
        "    self.layer2 = nn.Sequential(\n",
        "        nn.Flatten(),\n",
        "        nn.Linear(in_features = hidden_units*16*16, out_features = output_shape))\n",
        "\n",
        "  def forward(self,x):\n",
        "    x = self.layer1(x)\n",
        "    x = self.layer2(x)\n",
        "    return x\n",
        "\n"
      ],
      "metadata": {
        "colab": {
          "base_uri": "https://localhost:8080/"
        },
        "id": "FDVSqByMb3ke",
        "outputId": "1c60e78a-d85f-4acb-afd9-3331e2b5216b"
      },
      "execution_count": 69,
      "outputs": [
        {
          "output_type": "stream",
          "name": "stdout",
          "text": [
            "Overwriting modular/make_model.py\n"
          ]
        }
      ]
    },
    {
      "cell_type": "code",
      "source": [
        "len(data.classes)"
      ],
      "metadata": {
        "id": "q8XLEHJKrrmR"
      },
      "execution_count": null,
      "outputs": []
    },
    {
      "cell_type": "code",
      "source": [
        "torch.manual_seed(42)\n",
        "model_0 = nepali_digit_model(input_shape = 1, hidden_units =10, output_shape = len(data.classes))"
      ],
      "metadata": {
        "id": "VaP8xiYxrugD"
      },
      "execution_count": null,
      "outputs": []
    },
    {
      "cell_type": "code",
      "source": [
        "image_tensor = torch.rand(size = (1,32,32))\n",
        "image_tensor"
      ],
      "metadata": {
        "id": "E6ErI5Rpsk8q"
      },
      "execution_count": null,
      "outputs": []
    },
    {
      "cell_type": "code",
      "source": [
        "model_0(image_tensor.unsqueeze(dim =0 ))"
      ],
      "metadata": {
        "id": "DH_3l-ous3vE"
      },
      "execution_count": null,
      "outputs": []
    },
    {
      "cell_type": "code",
      "source": [
        "def train_step(model:torch.nn.Module,\n",
        "               dataloader: torch.utils.data.DataLoader,\n",
        "               loss_fn : torch.nn.Module,\n",
        "               optimizer : torch.optim.Optimizer\n",
        "               ):\n",
        "  train_loss, train_acc = 0, 0\n",
        "  model.train()\n",
        "  for batch , (X,y) in enumerate(train_dataloader):\n",
        "    y_pred = model(X)\n",
        "    loss = loss_fn(y_pred, y)\n",
        "    train_loss+=loss\n",
        "    optimizer.zero_grad()\n",
        "    loss.backward()\n",
        "    optimizer.step()\n",
        "    y_pred_prob = torch.argmax(y_pred , dim = 1)\n",
        "    train_acc +=(y_pred_prob == y).sum().item()/ len(y_pred_prob)\n",
        "\n",
        "  train_loss = train_loss/len(dataloader)\n",
        "  train_acc = train_acc/len(dataloader)\n",
        "\n",
        "  return train_loss, train_acc\n",
        "\n"
      ],
      "metadata": {
        "id": "hDTZPF0MtEZj"
      },
      "execution_count": 24,
      "outputs": []
    },
    {
      "cell_type": "code",
      "source": [
        "def test_step(model:torch.nn.Module,\n",
        "              dataloader:torch.utils.data.DataLoader,\n",
        "              loss_fn:torch.nn.Module,\n",
        "              optimizer: torch.optim.Optimizer):\n",
        "  test_loss , test_acc = 0, 0\n",
        "  model.eval()\n",
        "  for batch, (X,y) in enumerate(dataloader):\n",
        "    test_pred = model(X)\n",
        "    loss = loss_fn(test_pred, y)\n",
        "    test_loss+=loss\n",
        "    test_pred_prob = torch.argmax(test_pred, dim =1 )\n",
        "    test_acc += (test_pred_prob == y).sum().item()/len(test_pred_prob)\n",
        "\n",
        "  test_acc=test_acc/len(dataloader)\n",
        "  test_loss = test_loss/len(dataloader)\n",
        "\n",
        "\n",
        "  return test_loss, test_acc\n"
      ],
      "metadata": {
        "id": "s1e_H-rJyssw"
      },
      "execution_count": 25,
      "outputs": []
    },
    {
      "cell_type": "code",
      "source": [
        "from tqdm.auto import tqdm\n",
        "def train(model:torch.nn.Module,\n",
        "          train_dataloader: torch.utils.data.DataLoader,\n",
        "          test_dataloader: torch.utils.data.DataLoader,\n",
        "          loss_fn : torch.nn.Module,\n",
        "          optimizer: torch.optim.Optimizer):\n",
        "  epochs = 5\n",
        "  model1={\"train_loss\":[],\n",
        "         \"train_acc\":[],\n",
        "         \"test_loss\":[],\n",
        "         \"test_acc\":[]}\n",
        "\n",
        "  for epoch in tqdm(range(epochs)):\n",
        "\n",
        "    train_loss, train_accuracy = train_step(\n",
        "        model= model,\n",
        "        dataloader = train_dataloader,\n",
        "        loss_fn = loss_fn,\n",
        "        optimizer = optimizer\n",
        "    )\n",
        "    test_loss, test_accuracy = test_step(model = model,\n",
        "                                         dataloader = test_dataloader,\n",
        "                                         loss_fn = loss_fn,\n",
        "                                         optimizer = optimizer)\n",
        "\n",
        "    print(f\" In epoch :{epoch} |train_loss:{train_loss:.4f} | train_acc :{train_accuracy:.4f} | test_loss;{test_loss:.4f} | test_Acc:{test_accuracy:.4f} \")\n",
        "\n",
        "    model1[\"train_loss\"].append(train_loss)\n",
        "    model1[\"train_acc\"].append(train_accuracy)\n",
        "    model1[\"test_loss\"].append(test_loss)\n",
        "    model1[\"test_acc\"].append(test_accuracy)\n",
        "\n"
      ],
      "metadata": {
        "id": "_c3zP6Zl1EKH"
      },
      "execution_count": 26,
      "outputs": []
    },
    {
      "cell_type": "code",
      "source": [
        "%%writefile modular/engine.py\n",
        "import torch\n",
        "def train_step(model:torch.nn.Module,\n",
        "               dataloader: torch.utils.data.DataLoader,\n",
        "               loss_fn : torch.nn.Module,\n",
        "               optimizer : torch.optim.Optimizer\n",
        "               ):\n",
        "  \"\"\"\n",
        "  This function is used to train the model form the dataset\n",
        "\n",
        "  Args:\n",
        "  model:This is the object of model for training the data\n",
        "  dataloader: this consists of dataloader for training\n",
        "  loss_fn: this helps to calculate the loss\n",
        "  optimizer: this is used for optimization\n",
        "\n",
        "  Return:\n",
        "  This function returns the training and testing loss\n",
        "  \"\"\"\n",
        "  train_loss, train_acc = 0, 0\n",
        "  model.train()\n",
        "  for batch , (X,y) in enumerate(dataloader):\n",
        "    y_pred = model(X)\n",
        "    loss = loss_fn(y_pred, y)\n",
        "    train_loss+=loss\n",
        "    optimizer.zero_grad()\n",
        "    loss.backward()\n",
        "    optimizer.step()\n",
        "    y_pred_prob = torch.argmax(y_pred , dim = 1)\n",
        "    train_acc +=(y_pred_prob == y).sum().item()/ len(y_pred_prob)\n",
        "\n",
        "  train_loss = train_loss/len(dataloader)\n",
        "  train_acc = train_acc/len(dataloader)\n",
        "\n",
        "  return train_loss, train_acc\n",
        "\n",
        "\n",
        "def test_step(model:torch.nn.Module,\n",
        "              dataloader:torch.utils.data.DataLoader,\n",
        "              loss_fn:torch.nn.Module,\n",
        "              optimizer: torch.optim.Optimizer):\n",
        "  test_loss , test_acc = 0, 0\n",
        "  model.eval()\n",
        "  for batch, (X,y) in enumerate(dataloader):\n",
        "    test_pred = model(X)\n",
        "    loss = loss_fn(test_pred, y)\n",
        "    test_loss+=loss\n",
        "    test_pred_prob = torch.argmax(test_pred, dim =1 )\n",
        "    test_acc += (test_pred_prob == y).sum().item()/len(test_pred_prob)\n",
        "\n",
        "  test_acc=test_acc/len(dataloader)\n",
        "  test_loss = test_loss/len(dataloader)\n",
        "\n",
        "\n",
        "  return test_loss, test_acc\n",
        "\n",
        "\n",
        "from tqdm.auto import tqdm\n",
        "def train(model:torch.nn.Module,\n",
        "          train_dataloader: torch.utils.data.DataLoader,\n",
        "          test_dataloader: torch.utils.data.DataLoader,\n",
        "          loss_fn : torch.nn.Module,\n",
        "          optimizer: torch.optim.Optimizer):\n",
        "  epochs = 5\n",
        "  model1={\"train_loss\":[],\n",
        "         \"train_acc\":[],\n",
        "         \"test_loss\":[],\n",
        "         \"test_acc\":[]}\n",
        "\n",
        "  for epoch in tqdm(range(epochs)):\n",
        "\n",
        "    train_loss, train_accuracy = train_step(\n",
        "        model= model,\n",
        "        dataloader = train_dataloader,\n",
        "        loss_fn = loss_fn,\n",
        "        optimizer = optimizer\n",
        "    )\n",
        "    test_loss, test_accuracy = test_step(model = model,\n",
        "                                         dataloader = test_dataloader,\n",
        "                                         loss_fn = loss_fn,\n",
        "                                         optimizer = optimizer)\n",
        "\n",
        "    print(f\" In epoch :{epoch} |train_loss:{train_loss:.4f} | train_acc :{train_accuracy:.4f} | test_loss;{test_loss:.4f} | test_Acc:{test_accuracy:.4f} \")\n",
        "\n",
        "    model1[\"train_loss\"].append(train_loss)\n",
        "    model1[\"train_acc\"].append(train_accuracy)\n",
        "    model1[\"test_loss\"].append(test_loss)\n",
        "    model1[\"test_acc\"].append(test_accuracy)\n",
        "\n",
        "  return model1\n",
        "\n",
        "\n",
        "\n",
        "\n",
        "\n",
        "\n"
      ],
      "metadata": {
        "colab": {
          "base_uri": "https://localhost:8080/"
        },
        "id": "JWY-IvbtfFCy",
        "outputId": "6804d29d-fa01-4496-eb56-33ab41ac3077"
      },
      "execution_count": 59,
      "outputs": [
        {
          "output_type": "stream",
          "name": "stdout",
          "text": [
            "Overwriting modular/engine.py\n"
          ]
        }
      ]
    },
    {
      "cell_type": "code",
      "source": [
        "%%writefile modular/utils.py\n",
        "from pathlib import Path\n",
        "import torch\n",
        "from torch import nn\n",
        "\n",
        "def model_save(model:nn.Module,\n",
        "               target_dir: str,\n",
        "               ):\n",
        "  targ_dir_path = Path(target_dir)\n",
        "  targ_dir_path.mkdir(parents = True, exists_ok = True)\n",
        "  model_name= \"nepali_letter.pth\"\n",
        "  model_save_path = targ_dir_path/model_name\n",
        "  print(f\"Saving model to:{model_save_path}\")\n",
        "  torch.save(obj = model.state_dict(), f = model_save_path)\n"
      ],
      "metadata": {
        "id": "H9xk6wdvgYJF",
        "colab": {
          "base_uri": "https://localhost:8080/"
        },
        "outputId": "b0542a6a-5dd1-4e49-ccf0-fb15f045a712"
      },
      "execution_count": 40,
      "outputs": [
        {
          "output_type": "stream",
          "name": "stdout",
          "text": [
            "Overwriting modular/utils.py\n"
          ]
        }
      ]
    },
    {
      "cell_type": "code",
      "source": [
        "torch.manual_seed(42)\n",
        "loss_fn = nn.CrossEntropyLoss()\n",
        "optimizer = torch.optim.SGD(params = model_0.parameters(), lr = 0.1)\n",
        "\n",
        "train(model= model_0,\n",
        "      train_dataloader = train_dataloader,\n",
        "      test_dataloader = test_dataloader,\n",
        "      loss_fn = loss_fn,\n",
        "      optimizer = optimizer)"
      ],
      "metadata": {
        "id": "xNUwtbzu3Dyg"
      },
      "execution_count": null,
      "outputs": []
    },
    {
      "cell_type": "code",
      "source": [
        "from tqdm.auto import tqdm\n",
        "y_preds= []\n",
        "y_true=[]\n",
        "model_0.eval()\n",
        "with torch.inference_mode():\n",
        " for X,y in tqdm(test_dataloader):\n",
        "   y_logit = model_0(X)\n",
        "   y_pred = torch.argmax(y_logit, dim =1 )\n",
        "   y_preds.append(y_pred)\n",
        "   y_true.append(y)\n",
        "\n",
        "y_true_tensor=torch.cat(y_true)\n",
        "y_pred_tensor = torch.cat(y_preds)"
      ],
      "metadata": {
        "colab": {
          "base_uri": "https://localhost:8080/",
          "height": 69,
          "referenced_widgets": [
            "cbcbe3c5e6e54d80ac23820ade99d790",
            "4a990cced71b4564aac7cd4cc3527316",
            "e4adc7e766944e57a6816939815582dc",
            "9cb7f7faf34a4dd789c6d15f5d2a13a1",
            "e3a7bb0569a949e9a4c660c1556fe926",
            "dc8545916eaf47b09b949cb0cf2c0f31",
            "dc73fdbab92d422ca1e6a4cf11c021e7",
            "f00775fbd2e5442eb092d94f7f8a1215",
            "b11f7aa0e96f49ee862dfed3548ba620",
            "e0f6720c0b6b4666854ca9b8a911ca90",
            "51e046721b044c2abe5d2bca249a62ca"
          ]
        },
        "id": "68qDRyJ64cK-",
        "outputId": "f7056a67-0b15-40cf-8daa-1e81453f270a"
      },
      "execution_count": null,
      "outputs": [
        {
          "output_type": "display_data",
          "data": {
            "text/plain": [
              "  0%|          | 0/575 [00:00<?, ?it/s]"
            ],
            "application/vnd.jupyter.widget-view+json": {
              "version_major": 2,
              "version_minor": 0,
              "model_id": "cbcbe3c5e6e54d80ac23820ade99d790"
            }
          },
          "metadata": {}
        }
      ]
    },
    {
      "cell_type": "code",
      "source": [
        "from torchmetrics import ConfusionMatrix\n",
        "from mlxtend.plotting import plot_confusion_matrix\n",
        "\n",
        "confmat =  ConfusionMatrix(task = \"Multiclass\", num_classes = len(data.classes))\n",
        "confmat_tensor = confmat(preds = y_pred_tensor,\n",
        "                         target = y_true_tensor)"
      ],
      "metadata": {
        "id": "3uy8H-ktHyPZ",
        "colab": {
          "base_uri": "https://localhost:8080/",
          "height": 417
        },
        "outputId": "4659c364-2323-407c-cab8-c7b00cc0d050"
      },
      "execution_count": null,
      "outputs": [
        {
          "output_type": "error",
          "ename": "ModuleNotFoundError",
          "evalue": "No module named 'torchmetrics'",
          "traceback": [
            "\u001b[0;31m---------------------------------------------------------------------------\u001b[0m",
            "\u001b[0;31mModuleNotFoundError\u001b[0m                       Traceback (most recent call last)",
            "\u001b[0;32m<ipython-input-48-ee9d67bec98e>\u001b[0m in \u001b[0;36m<cell line: 1>\u001b[0;34m()\u001b[0m\n\u001b[0;32m----> 1\u001b[0;31m \u001b[0;32mfrom\u001b[0m \u001b[0mtorchmetrics\u001b[0m \u001b[0;32mimport\u001b[0m \u001b[0mConfusionMatrix\u001b[0m\u001b[0;34m\u001b[0m\u001b[0;34m\u001b[0m\u001b[0m\n\u001b[0m\u001b[1;32m      2\u001b[0m \u001b[0;32mfrom\u001b[0m \u001b[0mmlxtend\u001b[0m\u001b[0;34m.\u001b[0m\u001b[0mplotting\u001b[0m \u001b[0;32mimport\u001b[0m \u001b[0mplot_confusion_matrix\u001b[0m\u001b[0;34m\u001b[0m\u001b[0;34m\u001b[0m\u001b[0m\n\u001b[1;32m      3\u001b[0m \u001b[0;34m\u001b[0m\u001b[0m\n\u001b[1;32m      4\u001b[0m \u001b[0mconfmat\u001b[0m \u001b[0;34m=\u001b[0m  \u001b[0mConfusionMatrix\u001b[0m\u001b[0;34m(\u001b[0m\u001b[0mtask\u001b[0m \u001b[0;34m=\u001b[0m \u001b[0;34m\"Multiclass\"\u001b[0m\u001b[0;34m,\u001b[0m \u001b[0mnum_classes\u001b[0m \u001b[0;34m=\u001b[0m \u001b[0mlen\u001b[0m\u001b[0;34m(\u001b[0m\u001b[0mdata\u001b[0m\u001b[0;34m.\u001b[0m\u001b[0mclasses\u001b[0m\u001b[0;34m)\u001b[0m\u001b[0;34m)\u001b[0m\u001b[0;34m\u001b[0m\u001b[0;34m\u001b[0m\u001b[0m\n\u001b[1;32m      5\u001b[0m confmat_tensor = confmat(preds = y_pred_tensor,\n",
            "\u001b[0;31mModuleNotFoundError\u001b[0m: No module named 'torchmetrics'",
            "",
            "\u001b[0;31m---------------------------------------------------------------------------\u001b[0;32m\nNOTE: If your import is failing due to a missing package, you can\nmanually install dependencies using either !pip or !apt.\n\nTo view examples of installing some common dependencies, click the\n\"Open Examples\" button below.\n\u001b[0;31m---------------------------------------------------------------------------\u001b[0m\n"
          ],
          "errorDetails": {
            "actions": [
              {
                "action": "open_url",
                "actionText": "Open Examples",
                "url": "/notebooks/snippets/importing_libraries.ipynb"
              }
            ]
          }
        }
      ]
    },
    {
      "cell_type": "code",
      "source": [
        "\n",
        "!pip install torchmetrics\n"
      ],
      "metadata": {
        "id": "OUwoGxSpTB-a"
      },
      "execution_count": null,
      "outputs": []
    },
    {
      "cell_type": "code",
      "source": [
        "fig , ax = plot_confusion_matrix(\n",
        "    conf_mat = confmat_tensor.numpy(),\n",
        "    class_names = data.classes,\n",
        "    figsize= (20,20)\n",
        ")"
      ],
      "metadata": {
        "id": "noPNq9KycDx3"
      },
      "execution_count": null,
      "outputs": []
    },
    {
      "cell_type": "code",
      "source": [
        "!apt-get install git"
      ],
      "metadata": {
        "id": "I1z2GeZ0XNyU"
      },
      "execution_count": null,
      "outputs": []
    },
    {
      "cell_type": "code",
      "source": [
        "!git clone https://github.com/Sujal261/Nepali_Letter_Recognition.git"
      ],
      "metadata": {
        "id": "6ydq0xVmXw-i"
      },
      "execution_count": null,
      "outputs": []
    },
    {
      "cell_type": "code",
      "source": [
        "%%writefile modular/train.py\n",
        "\n",
        "import os\n",
        "import torch\n",
        "import data, make_model, engine, utils\n",
        "\n",
        "from torchvision import transforms\n",
        "\n",
        "NUM_EPOCHS = 5\n",
        "Batch_size= 32\n",
        "Hidden_units = 10\n",
        "learning_rate = 0.01\n",
        "Num_Workers = os.cpu_count()\n",
        "\n",
        "path = \"Images/Images\"\n",
        "\n",
        "data_transforms = transforms.Compose([\n",
        "    transforms.Grayscale(num_output_channels=1),\n",
        "     transforms.ToTensor()\n",
        "])\n",
        "train_dataloader, test_dataloader, class_names = data.create_dataloaders(path = path, data_transform = data_transforms, Batch_size = Batch_size, Num_workers = Num_Workers)\n",
        "model = make_model.nepali_digit_model( input_shape =1,\n",
        "                                      hidden_units = Hidden_units,\n",
        "                                       output_shape = len(class_names)\n",
        "                                      )\n",
        "\n",
        "loss_fn = torch.nn.CrossEntropyLoss()\n",
        "optimizer = torch.optim.SGD(model.parameters(), lr = learning_rate)\n",
        "\n",
        "engine.train(model = model,\n",
        "             train_dataloader = train_dataloader,\n",
        "             test_dataloader = test_dataloader,\n",
        "             loss_fn = loss_fn,\n",
        "             optimizer = optimizer,\n",
        "             )\n",
        "utils.save_model(model = model,\n",
        "                 target_dir = \"models\",\n",
        "                 )"
      ],
      "metadata": {
        "id": "2oFvckBiYCR8",
        "colab": {
          "base_uri": "https://localhost:8080/"
        },
        "outputId": "74665f94-5dd2-4b44-9229-4f7c20edc6a3"
      },
      "execution_count": 70,
      "outputs": [
        {
          "output_type": "stream",
          "name": "stdout",
          "text": [
            "Overwriting modular/train.py\n"
          ]
        }
      ]
    },
    {
      "cell_type": "code",
      "source": [
        "!python modular/train.py"
      ],
      "metadata": {
        "colab": {
          "base_uri": "https://localhost:8080/"
        },
        "id": "-gSRKbgO6ZOK",
        "outputId": "d693c585-de75-4c25-e2c8-b116a1de6f75"
      },
      "execution_count": 71,
      "outputs": [
        {
          "output_type": "stream",
          "name": "stdout",
          "text": [
            "  0% 0/5 [00:00<?, ?it/s] In epoch :0 |train_loss:1.5527 | train_acc :0.5898 | test_loss;1.1030 | test_Acc:0.7093 \n",
            " 20% 1/5 [02:41<10:44, 161.07s/it] In epoch :1 |train_loss:0.8526 | train_acc :0.7693 | test_loss;0.5728 | test_Acc:0.8430 \n",
            " 40% 2/5 [04:23<06:19, 126.47s/it] In epoch :2 |train_loss:0.4410 | train_acc :0.8753 | test_loss;0.4027 | test_Acc:0.8857 \n",
            " 60% 3/5 [06:01<03:47, 113.67s/it] In epoch :3 |train_loss:0.3112 | train_acc :0.9109 | test_loss;0.3472 | test_Acc:0.9015 \n",
            " 80% 4/5 [07:46<01:50, 110.24s/it] In epoch :4 |train_loss:0.2474 | train_acc :0.9289 | test_loss;0.3168 | test_Acc:0.9106 \n",
            "100% 5/5 [10:51<00:00, 130.37s/it]\n",
            "Traceback (most recent call last):\n",
            "  File \"/content/modular/train.py\", line 35, in <module>\n",
            "    utils.save_model(model = model,\n",
            "AttributeError: module 'utils' has no attribute 'save_model'\n"
          ]
        }
      ]
    },
    {
      "cell_type": "code",
      "source": [],
      "metadata": {
        "id": "Nx_w71kmoJZR"
      },
      "execution_count": null,
      "outputs": []
    }
  ]
}