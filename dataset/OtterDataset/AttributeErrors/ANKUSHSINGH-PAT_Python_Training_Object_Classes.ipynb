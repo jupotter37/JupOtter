{
 "cells": [
  {
   "cell_type": "code",
   "execution_count": null,
   "id": "325d4f7b-ccc8-45bf-b4e7-0c39682183bb",
   "metadata": {},
   "outputs": [],
   "source": []
  },
  {
   "cell_type": "raw",
   "id": "37149ac1",
   "metadata": {},
   "source": [
    "# What are classes \n",
    "#A class is logical grouping of attributes(variables) and \n",
    "#methods(functions)\n",
    "#Syntax:\n",
    "#class ClassName:\n",
    " # class body\n",
    " #Example:\n",
    " #class Employee:\n",
    " # class body\n",
    "\n",
    "#What is an object ?\n",
    " #Object is an instance of a class that has access to all the \n",
    "#attributes and methods of that class\n",
    " #Syntax:\n",
    " #objectName = ClassName()\n",
    " #Example:\n",
    " #employee = Employee()\n",
    " # The object employee now has access to all the \n",
    "#attributes and methods of the class Employee. \n",
    "\n",
    "#What is object instantiation ?\n",
    " #The process of creation of an object of a class is called \n",
    "#instantiation\n",
    "\n",
    "#What are data members ?\n",
    "#Data members are attributes declared within a class. They \n",
    "#are properties that further define a class.\n",
    "#There are two types of attributes: class attributes and \n",
    "#instance attributes\n",
    "\n",
    "#What is a class attribute ?\n",
    "# An attribute that is common across all instances of a class is \n",
    "#called a class attribute.\n",
    "# Class attributes are accessed by using class name as the \n",
    "#prefix"
   ]
  },
  {
   "cell_type": "code",
   "execution_count": 1,
   "id": "880d2420",
   "metadata": {},
   "outputs": [
    {
     "name": "stdout",
     "output_type": "stream",
     "text": [
      "40\n",
      "40\n",
      "45\n",
      "45\n",
      "John\n"
     ]
    },
    {
     "ename": "AttributeError",
     "evalue": "'Employee' object has no attribute 'name'",
     "output_type": "error",
     "traceback": [
      "\u001b[1;31m---------------------------------------------------------------------------\u001b[0m",
      "\u001b[1;31mAttributeError\u001b[0m                            Traceback (most recent call last)",
      "Cell \u001b[1;32mIn[1], line 18\u001b[0m\n\u001b[0;32m     15\u001b[0m employeeOne\u001b[38;5;241m.\u001b[39mname\u001b[38;5;241m=\u001b[39m\u001b[38;5;124m'\u001b[39m\u001b[38;5;124mJohn\u001b[39m\u001b[38;5;124m'\u001b[39m\u001b[38;5;66;03m#instance attribute\u001b[39;00m\n\u001b[0;32m     17\u001b[0m \u001b[38;5;28mprint\u001b[39m(employeeOne\u001b[38;5;241m.\u001b[39mname)\n\u001b[1;32m---> 18\u001b[0m \u001b[38;5;28mprint\u001b[39m(\u001b[43memployeeTwo\u001b[49m\u001b[38;5;241;43m.\u001b[39;49m\u001b[43mname\u001b[49m)\n\u001b[0;32m     20\u001b[0m employeeOne\u001b[38;5;241m.\u001b[39mnumberofWrokinghours\u001b[38;5;241m=\u001b[39m\u001b[38;5;241m40\u001b[39m\u001b[38;5;66;03m#we are using the object so we crated instance attribute .It checks first for instance attribute \u001b[39;00m\n\u001b[0;32m     21\u001b[0m \u001b[38;5;66;03m#and then class attribute .\u001b[39;00m\n",
      "\u001b[1;31mAttributeError\u001b[0m: 'Employee' object has no attribute 'name'"
     ]
    }
   ],
   "source": [
    "class Employee:\n",
    "    numberofWrokinghours=40#Class attribute\n",
    "    \n",
    "employeeOne=Employee()#Object instantiation\n",
    "employeeTwo=Employee()#Object instantiation\n",
    "\n",
    "print(employeeOne.numberofWrokinghours)\n",
    "print(employeeTwo.numberofWrokinghours)\n",
    "\n",
    "Employee.numberofWrokinghours=45\n",
    "\n",
    "print(employeeOne.numberofWrokinghours)\n",
    "print(employeeTwo.numberofWrokinghours)\n",
    "\n",
    "employeeOne.name='John'#instance attribute\n",
    "\n",
    "print(employeeOne.name)\n",
    "print(employeeTwo.name)\n",
    "\n",
    "employeeOne.numberofWrokinghours=40#we are using the object so we crated instance attribute .It checks first for instance attribute \n",
    "#and then class attribute .\n",
    "print(employeeOne.numberofWrokinghours)\n",
    "print(employeeTwo.numberofWrokinghours)"
   ]
  },
  {
   "cell_type": "code",
   "execution_count": null,
   "id": "22fb90eb",
   "metadata": {},
   "outputs": [],
   "source": [
    "#Why we need def __init__ and self \n",
    "#What is an init method ?\n",
    "#An init method is the constructor of a class that can be used \n",
    "#to initialize data members of that class.\n",
    "#It is the first method that is being called on creation of an \n",
    "#object.\n",
    "#What is the self parameter ?\n",
    "#Every instance method accepts has a default parameter that \n",
    "#is being accepted. By convention, this parameter is named self.\n",
    "#The self parameter is used to refer to the attributes of that \n",
    "#instance of the class.\n",
    "\n"
   ]
  },
  {
   "cell_type": "code",
   "execution_count": null,
   "id": "50b61071",
   "metadata": {},
   "outputs": [
    {
     "name": "stdout",
     "output_type": "stream",
     "text": [
      "I am here Ankit\n"
     ]
    }
   ],
   "source": [
    "#what if self parameter is not given \n",
    "class Student():\n",
    "    def add_student(self):\n",
    "        self.name=\"Ankit\"\n",
    "        print(\"I am here\",self.name)\n",
    "st_object=Student()\n",
    "st_object.add_student()#Student.add_student(st_object)\n",
    "\n",
    "#It will give error add_student() takes 0 positional arguments but 1 was given\n",
    "#What python does it creates something like  Student.add_student(st_object) and self catches the value of object "
   ]
  },
  {
   "cell_type": "code",
   "execution_count": null,
   "id": "c1e5fcd9",
   "metadata": {},
   "outputs": [
    {
     "name": "stdout",
     "output_type": "stream",
     "text": [
      "DEF\n",
      "13\n",
      "Surbhi Bahl\n",
      "13\n"
     ]
    },
    {
     "ename": "AttributeError",
     "evalue": "'Student' object has no attribute 'work'",
     "output_type": "error",
     "traceback": [
      "\u001b[1;31m-------------------------------------------------------\u001b[0m",
      "\u001b[1;31mAttributeError\u001b[0m        Traceback (most recent call last)",
      "Cell \u001b[1;32mIn[11], line 22\u001b[0m\n\u001b[0;32m     20\u001b[0m st_object_1\u001b[38;5;241m.\u001b[39madd_student()\n\u001b[0;32m     21\u001b[0m st_object_1\u001b[38;5;241m.\u001b[39mprint_details()\n\u001b[1;32m---> 22\u001b[0m \u001b[38;5;28mprint\u001b[39m(\u001b[43mst_object_1\u001b[49m\u001b[38;5;241;43m.\u001b[39;49m\u001b[43mwork\u001b[49m)\n\u001b[0;32m     23\u001b[0m \u001b[38;5;66;03m#Error will be name 'age' is not defined\u001b[39;00m\n",
      "\u001b[1;31mAttributeError\u001b[0m: 'Student' object has no attribute 'work'"
     ]
    }
   ],
   "source": [
    "class Student():\n",
    "\n",
    "    def __init__(self,age,name):#self is the default paramater to catch the name of object\n",
    "        self.age=age#13\n",
    "        self.name=name#\"DEF\"\n",
    "    def add_student(self):\n",
    "        self.name=\"Surbhi Bahl\"\n",
    "        \n",
    "    def print_details(self):\n",
    "        print(self.name)\n",
    "        print(self.age)\n",
    "st_object=Student(12,\"ABC\")\n",
    "st_object_1=Student(13,\"DEF\")\n",
    "\n",
    "st_object.add_student()#Student.add_student(st_object)\n",
    "st_object.print_details()\n",
    "st_object.work=\"ENG\"\n",
    "print(st_object.work)\n",
    "st_object_1.print_details()\n",
    "st_object_1.add_student()\n",
    "st_object_1.print_details()\n",
    "print(st_object_1.work)\n",
    "#Error will be name 'age' is not defined"
   ]
  },
  {
   "cell_type": "code",
   "execution_count": null,
   "id": "4f1da778",
   "metadata": {},
   "outputs": [],
   "source": [
    "#Static method "
   ]
  },
  {
   "cell_type": "code",
   "execution_count": null,
   "id": "b0d016c6",
   "metadata": {},
   "outputs": [
    {
     "name": "stdout",
     "output_type": "stream",
     "text": [
      "Surbhi\n",
      "You are welcome\n",
      "None\n"
     ]
    }
   ],
   "source": [
    "class Employee:\n",
    "    def employeeDetails(self):\n",
    "        self.name=\"Surbhi\"\n",
    "    def PrintingMessage(self):\n",
    "        print(\"You are welcome\")\n",
    "emp=Employee()\n",
    "emp.employeeDetails()\n",
    "print(emp.name)\n",
    "print(emp.PrintingMessage())\n",
    "#But in printing message we are not using anything specific to instance , then why we are using self .Without self it will \n",
    "#give error as eralier .So here come the role of static methods "
   ]
  },
  {
   "cell_type": "code",
   "execution_count": null,
   "id": "7c47ab12",
   "metadata": {},
   "outputs": [
    {
     "name": "stdout",
     "output_type": "stream",
     "text": [
      "Surbhi\n",
      "You are welcome\n"
     ]
    }
   ],
   "source": [
    "class Employee:\n",
    "    def employeeDetails(self):\n",
    "        self.name=\"Surbhi\"\n",
    "    @staticmethod\n",
    "    def PrintingMessage():\n",
    "        print(\"You are welcome\")\n",
    "emp=Employee()\n",
    "emp.employeeDetails()\n",
    "print(emp.name)\n",
    "emp.PrintingMessage()\n",
    "#Now it will be executed without the self parameter .\n"
   ]
  },
  {
   "cell_type": "code",
   "execution_count": 2,
   "id": "1030c0a9",
   "metadata": {},
   "outputs": [
    {
     "name": "stdout",
     "output_type": "stream",
     "text": [
      "Mark\n",
      "Mark\n"
     ]
    }
   ],
   "source": [
    "#init_method -More explanaation \n",
    "class Employee:\n",
    "    def EmployeeDetails(self):\n",
    "        self.name=\"Mark\"\n",
    "    def displayEmployeeDetails(self):\n",
    "        print(self.name)\n",
    "emp=Employee()\n",
    "emp.EmployeeDetails()\n",
    "emp.displayEmployeeDetails()\n",
    "\n",
    "#The other way round\n",
    "class Employee:\n",
    "    def EmployeeDetails(self):\n",
    "        self.name=\"Mark\"\n",
    "    def displayEmployeeDetails(self):\n",
    "        print(self.name)\n",
    "emp=Employee()\n",
    "\n",
    "emp.displayEmployeeDetails()\n",
    "emp.EmployeeDetails()\n",
    "\n",
    "\n",
    "#'Employee' object has no attribute 'name'--It will give you error that because we called 2nd function first ."
   ]
  },
  {
   "cell_type": "code",
   "execution_count": null,
   "id": "54b75468",
   "metadata": {},
   "outputs": [
    {
     "name": "stdout",
     "output_type": "stream",
     "text": [
      "Mark\n"
     ]
    }
   ],
   "source": [
    "class Employee:\n",
    "    def EmployeeDetails(self):\n",
    "        self.name=\"Mark\"\n",
    "    def displayEmployeeDetails(self):\n",
    "        print(self.name)\n",
    "emp=Employee()\n",
    "emp.EmployeeDetails()\n",
    "emp.displayEmployeeDetails()#Employee.EmployeeDetails(emp),Employee.displayEmployeeDetails(emp)\n",
    "#This will work as first function is called first , so to overcome this , we need to add init method "
   ]
  },
  {
   "cell_type": "code",
   "execution_count": null,
   "id": "e42b1cc3",
   "metadata": {},
   "outputs": [
    {
     "name": "stdout",
     "output_type": "stream",
     "text": [
      "Surbhi\n"
     ]
    }
   ],
   "source": [
    "class Employee:\n",
    "    def __init__(self):\n",
    "        self.name=\"Surbhi\"#Special methods in python ends and start with __\n",
    "    \n",
    "    def displayEmployeeDetails(self):\n",
    "        print(self.name)\n",
    "emp=Employee()\n",
    "emp.displayEmployeeDetails()\n",
    "#__init__method called by default ."
   ]
  },
  {
   "cell_type": "code",
   "execution_count": null,
   "id": "6897fbdf",
   "metadata": {},
   "outputs": [
    {
     "name": "stdout",
     "output_type": "stream",
     "text": [
      "surbhi\n",
      "surbhi1\n"
     ]
    }
   ],
   "source": [
    "class Employee:\n",
    "    def __init__(self,name):\n",
    "        self.name=name#Special methods in python ends and start with __\n",
    "    \n",
    "    def displayEmployeeDetails(self):\n",
    "        print(self.name)\n",
    "emp=Employee(\"surbhi\")\n",
    "emp.displayEmployeeDetails()\n",
    "emp1=Employee(\"surbhi1\")\n",
    "emp1.displayEmployeeDetails()"
   ]
  },
  {
   "cell_type": "code",
   "execution_count": null,
   "id": "1c026d48",
   "metadata": {},
   "outputs": [],
   "source": [
    "#Abstraction and Encapsulation \n",
    "#1. What is encapsulation ?\n",
    "# Hiding the implementation details from the end user is called \n",
    "#as encapsulation\n",
    "#2. What is abstraction ?\n",
    "# Abstraction is the process of steps followed to achieve \n",
    "#encapsulation"
   ]
  },
  {
   "cell_type": "code",
   "execution_count": null,
   "id": "a475a44a",
   "metadata": {},
   "outputs": [
    {
     "name": "stdout",
     "output_type": "stream",
     "text": [
      " 1\n"
     ]
    },
    {
     "name": "stdout",
     "output_type": "stream",
     "text": [
      "1. Enter 1 to display the available books .\n",
      "2. Enter 2 to request the book.\n",
      "3. Enter 3 to return the book.\n",
      "4 .Enter 4 to exit .\n",
      "\n",
      "Available books\n",
      "I am alive\n",
      "Wise and OtherWise\n",
      "How I taught my grandmother to read\n"
     ]
    },
    {
     "name": "stdout",
     "output_type": "stream",
     "text": [
      " 2\n"
     ]
    },
    {
     "name": "stdout",
     "output_type": "stream",
     "text": [
      "1. Enter 1 to display the available books .\n",
      "2. Enter 2 to request the book.\n",
      "3. Enter 3 to return the book.\n",
      "4 .Enter 4 to exit .\n",
      "Enter the nameof book you want!!!\n"
     ]
    },
    {
     "name": "stdout",
     "output_type": "stream",
     "text": [
      " I am alive\n"
     ]
    },
    {
     "name": "stdout",
     "output_type": "stream",
     "text": [
      "Requesting\n",
      "I am alive\n",
      "you got a book!!!\n"
     ]
    },
    {
     "name": "stdout",
     "output_type": "stream",
     "text": [
      " 1\n"
     ]
    },
    {
     "name": "stdout",
     "output_type": "stream",
     "text": [
      "1. Enter 1 to display the available books .\n",
      "2. Enter 2 to request the book.\n",
      "3. Enter 3 to return the book.\n",
      "4 .Enter 4 to exit .\n",
      "\n",
      "Available books\n",
      "I am alive\n",
      "Wise and OtherWise\n",
      "How I taught my grandmother to read\n"
     ]
    },
    {
     "name": "stdout",
     "output_type": "stream",
     "text": [
      " 3\n"
     ]
    },
    {
     "name": "stdout",
     "output_type": "stream",
     "text": [
      "1. Enter 1 to display the available books .\n",
      "2. Enter 2 to request the book.\n",
      "3. Enter 3 to return the book.\n",
      "4 .Enter 4 to exit .\n",
      "Enter the name of the book you want to return\n"
     ]
    },
    {
     "name": "stdout",
     "output_type": "stream",
     "text": [
      " I am aive\n"
     ]
    },
    {
     "name": "stdout",
     "output_type": "stream",
     "text": [
      "you have returned book \n"
     ]
    }
   ],
   "source": [
    "class Library:\n",
    "    def __init__(self,ListofBooks):\n",
    "        self.availablebooks=ListofBooks\n",
    "    def displayBooks(self):\n",
    "        print()\n",
    "        print(\"Available books\")\n",
    "        for book in self.availablebooks:\n",
    "            print (book)\n",
    "    def lendBooks(self,requestedbook):\n",
    "        if requestedbook in self.availablebooks:\n",
    "            print(\"you got a book!!!\")\n",
    "            self.availablebooks.remove(requestedbook)\n",
    "        else:\n",
    "            print(\"sorry No such book avaialable\")\n",
    "    def addBooks(self,returnedbook):\n",
    "         self.availablebooks.append(returnedbook)\n",
    "         print(\"you have returned book \")\n",
    "class Customer:\n",
    "    def requestBook(self):\n",
    "        print(\"Enter the nameof book you want!!!\")\n",
    "        self.book=str(input())\n",
    "        return self.book\n",
    "    \n",
    "    def returnBook(self):\n",
    "        print(\"Enter the name of the book you want to return\")\n",
    "        self.book=str(input())\n",
    "        return self.book\n",
    "while True:\n",
    "    library=Library([\"I am alive\",\"Wise and OtherWise\",\"How I taught my grandmother to read\"])\n",
    "    customer=Customer()\n",
    "    userChoice=int(input())\n",
    "    print(\"1. Enter 1 to display the available books .\")\n",
    "    print(\"2. Enter 2 to request the book.\")\n",
    "    print(\"3. Enter 3 to return the book.\")\n",
    "    print(\"4 .Enter 4 to exit .\")\n",
    "    if userChoice == 1:\n",
    "        library.displayBooks()\n",
    "    elif userChoice == 2:\n",
    "        requestedBook=customer.requestBook()\n",
    "        print(\"Requesting\")\n",
    "        print(requestedBook)\n",
    "        library.lendBooks(requestedBook)\n",
    "    elif userChoice == 3:\n",
    "        returnbook=customer.returnBook()\n",
    "        library.addBooks(returnbook)\n",
    "    elif userChoice == 4:\n",
    "        quit()\n",
    "    "
   ]
  },
  {
   "cell_type": "raw",
   "id": "9b2cac55",
   "metadata": {},
   "source": [
    "# Inheritence\n",
    "#Inheriting the attributes and methods of a base class into a \n",
    "#derived class is called Inheritance.\n",
    "#Syntax:\n",
    "# class BaseClass:\n",
    " # Body of BaseClass\n",
    " #class DerivedClass(BaseClass):\n",
    " # Body of DerivedClass\n",
    "#What is multiple inheritance ?\n",
    "# Mechanism in which a derived class inherits from two or more \n",
    "#base classes is called a multiple inheritance\n",
    "#What is multilevel inheritance ?\n",
    " #Mechanism in which a derived class inherits from a base \n",
    "#class which has been derived from another base class is called \n",
    "#a multilevel inheritance"
   ]
  },
  {
   "cell_type": "code",
   "execution_count": null,
   "id": "2bf30a8e",
   "metadata": {},
   "outputs": [
    {
     "name": "stdout",
     "output_type": "stream",
     "text": [
      "It was manufactured in 2017 by Apple Inc.\n",
      "to contact us ,log on to ,self.\n"
     ]
    }
   ],
   "source": [
    "class Apple:\n",
    "    manufacturer=\"Apple Inc.\"\n",
    "    contactWebsite=\"www.apple.com/contact\"\n",
    "    def contactDetails(self):\n",
    "        print(\"to contact us ,log on to ,self.\")\n",
    "class Macbook(Apple):#Macbook is inheriting Apple\n",
    "    def __init__(self):\n",
    "        self.yearofManufacture=2017\n",
    "    def manufacturerDetails(self):\n",
    "        print(\"It was manufactured in {} by {}\".format(self.yearofManufacture,self.manufacturer))\n",
    "#Python first chcek if its an instance attribute , then Class attribute ,then inherited attribute\n",
    "\n",
    "Mac=Macbook()\n",
    "Mac.manufacturerDetails()\n",
    "Mac.contactDetails()"
   ]
  },
  {
   "cell_type": "code",
   "execution_count": null,
   "id": "aa931f19",
   "metadata": {},
   "outputs": [],
   "source": [
    "#Multiple inheritence :-\n",
    "#When a drive class has access to more than one base class.\n"
   ]
  },
  {
   "cell_type": "code",
   "execution_count": null,
   "id": "22b67bac",
   "metadata": {},
   "outputs": [],
   "source": [
    "class Operatingsystem:\n",
    "    multitasking=True \n",
    "    name=\"surbhi\"\n",
    "class Apple:\n",
    "    website=\"www.apple.com\"\n",
    "    name=\"surbhi1\"\n",
    "class macbook(Apple,Operatingsystem):\n",
    "    def __init__(self):\n",
    "        if self.multitasking==True:\n",
    "            print(\"This is multitaksing website{}\".format(self.website))\n",
    "            print(\"This is belongs to {}\".format(self.name))\n",
    "mac=macbook()\n",
    "#If we will change the order you will see the change in the name of person ."
   ]
  },
  {
   "cell_type": "code",
   "execution_count": null,
   "id": "f0cf2517",
   "metadata": {},
   "outputs": [],
   "source": [
    "#Multilevel inheritence \n",
    "class Fruit():\n",
    "    brand=\"Apple\"\n",
    "class Apple(Fruit):\n",
    "    price=12\n",
    "class sweet(Apple):\n",
    "    def __init__(self):\n",
    "        self.sweetnesslevel=6\n",
    "        print(\"The fruit I got is {},in {}, and its sweetnesslevel was {}\".format(self.brand,self.price,self.sweetnesslevel))\n",
    "sweet1=sweet()\n",
    "\n",
    "        "
   ]
  },
  {
   "cell_type": "code",
   "execution_count": null,
   "id": "1b9a56ad",
   "metadata": {},
   "outputs": [],
   "source": [
    "#Public , private and protected .\n",
    "#Public :Class , derived class and anywhere outside the derived class\n",
    "#Protected:Class and dervied class can access .\n",
    "#Private:Only your class can access.\n",
    "\n",
    "#There are some naming convention which are used to make \n",
    "#public =>membername\n",
    "#protected=>_membername(single underscore)\n",
    "#private=>__membername(double underscore)"
   ]
  },
  {
   "cell_type": "code",
   "execution_count": null,
   "id": "e04920ef",
   "metadata": {},
   "outputs": [
    {
     "ename": "AttributeError",
     "evalue": "type object 'super' has no attribute '_student__price'",
     "output_type": "error",
     "traceback": [
      "\u001b[1;31m---------------------------------------------------------------------------\u001b[0m",
      "\u001b[1;31mAttributeError\u001b[0m                            Traceback (most recent call last)",
      "Cell \u001b[1;32mIn[5], line 8\u001b[0m\n\u001b[0;32m      6\u001b[0m     \u001b[38;5;28;01mdef\u001b[39;00m \u001b[38;5;21m__init__\u001b[39m(\u001b[38;5;28mself\u001b[39m):\n\u001b[0;32m      7\u001b[0m         \u001b[38;5;28mprint\u001b[39m(\u001b[38;5;124m\"\u001b[39m\u001b[38;5;124mI have \u001b[39m\u001b[38;5;132;01m{}\u001b[39;00m\u001b[38;5;124m, which costed me \u001b[39m\u001b[38;5;132;01m{}\u001b[39;00m\u001b[38;5;124m, and the colour was \u001b[39m\u001b[38;5;124m\"\u001b[39m\u001b[38;5;241m.\u001b[39mformat(\u001b[38;5;28mself\u001b[39m\u001b[38;5;241m.\u001b[39mpens,\u001b[38;5;28msuper\u001b[39m\u001b[38;5;241m.\u001b[39m__price,\u001b[38;5;28mself\u001b[39m\u001b[38;5;241m.\u001b[39m_color))\n\u001b[1;32m----> 8\u001b[0m st\u001b[38;5;241m=\u001b[39m\u001b[43mstudent\u001b[49m\u001b[43m(\u001b[49m\u001b[43m)\u001b[49m     \n\u001b[0;32m      9\u001b[0m \u001b[38;5;66;03m# 'student' object has no attribute '_student__price'\u001b[39;00m\n",
      "Cell \u001b[1;32mIn[5], line 7\u001b[0m, in \u001b[0;36mstudent.__init__\u001b[1;34m(self)\u001b[0m\n\u001b[0;32m      6\u001b[0m \u001b[38;5;28;01mdef\u001b[39;00m \u001b[38;5;21m__init__\u001b[39m(\u001b[38;5;28mself\u001b[39m):\n\u001b[1;32m----> 7\u001b[0m     \u001b[38;5;28mprint\u001b[39m(\u001b[38;5;124m\"\u001b[39m\u001b[38;5;124mI have \u001b[39m\u001b[38;5;132;01m{}\u001b[39;00m\u001b[38;5;124m, which costed me \u001b[39m\u001b[38;5;132;01m{}\u001b[39;00m\u001b[38;5;124m, and the colour was \u001b[39m\u001b[38;5;124m\"\u001b[39m\u001b[38;5;241m.\u001b[39mformat(\u001b[38;5;28mself\u001b[39m\u001b[38;5;241m.\u001b[39mpens,\u001b[38;5;28;43msuper\u001b[39;49m\u001b[38;5;241;43m.\u001b[39;49m\u001b[43m__price\u001b[49m,\u001b[38;5;28mself\u001b[39m\u001b[38;5;241m.\u001b[39m_color))\n",
      "\u001b[1;31mAttributeError\u001b[0m: type object 'super' has no attribute '_student__price'"
     ]
    }
   ],
   "source": [
    "class statinary:\n",
    "    pens=4#Public\n",
    "    _color=\"Red\"#protected\n",
    "    __price=\"Ballpen\"#private\n",
    "class student(statinary):\n",
    "    def __init__(self):\n",
    "        print(\"I have {}, which costed me {}, and the colour was \".format(self.pens,self.__price,self._color))\n",
    "st=student()     \n",
    "# 'student' object has no attribute '_student__price'"
   ]
  },
  {
   "cell_type": "code",
   "execution_count": null,
   "id": "bd05ac2e",
   "metadata": {},
   "outputs": [
    {
     "name": "stdout",
     "output_type": "stream",
     "text": [
      "My colour is Red\n",
      "My colour is White\n",
      "My colour is Red\n"
     ]
    }
   ],
   "source": [
    "#Polymoriphism :-entity to be presented in more than one form \n",
    "#What is polymorphism ?\n",
    "#The same interface existing in different forms is called polymorphism\n",
    "#Overriding and super method \n",
    "#What is overriding ?\n",
    "#Modifying the inherited behaviour of methods of a base class \n",
    "#in a derived class is called overriding.\n",
    "#Why is super() used ?\n",
    "# super() is used to access the methods of base class.\n",
    "class colour:\n",
    "    def setcolour(self):\n",
    "        self.colour=\"Red\"\n",
    "    def displaycolour(self):\n",
    "        print(\"My colour is {}\".format(self.colour))\n",
    "class colour2(colour):\n",
    "    def setcolour(self):\n",
    "        self.colour=\"White\"\n",
    "    def resetcolour(self):\n",
    "        super().setcolour()\n",
    "col=colour()\n",
    "col.setcolour()\n",
    "col.displaycolour()\n",
    "col2=colour2()\n",
    "col2.setcolour()\n",
    "col2.displaycolour()\n",
    "col2.resetcolour()\n",
    "col2.displaycolour()\n",
    "\n",
    "\n",
    "    \n"
   ]
  },
  {
   "cell_type": "code",
   "execution_count": null,
   "id": "af239c0f",
   "metadata": {},
   "outputs": [],
   "source": [
    "#diamond shape problem \n",
    "Class A---Class B---Class D\n",
    "       ----Class C--Class D\n"
   ]
  },
  {
   "cell_type": "code",
   "execution_count": null,
   "id": "83779e3d",
   "metadata": {},
   "outputs": [
    {
     "name": "stdout",
     "output_type": "stream",
     "text": [
      "this method belongs to Class A\n"
     ]
    }
   ],
   "source": [
    "class A:\n",
    "    def method(self):\n",
    "        print(\"this method belongs to Class A\")\n",
    "class B(A):\n",
    "    pass\n",
    "    \n",
    "class C(A):\n",
    "    pass\n",
    "    \n",
    "class D(B,C):\n",
    "    pass\n",
    "d=D()\n",
    "d.method()"
   ]
  },
  {
   "cell_type": "code",
   "execution_count": null,
   "id": "c48a4c63",
   "metadata": {},
   "outputs": [
    {
     "name": "stdout",
     "output_type": "stream",
     "text": [
      "this method belongs to Class B\n"
     ]
    }
   ],
   "source": [
    "class A:\n",
    "    def method(self):\n",
    "        print(\"this method belongs to Class A\")\n",
    "class B(A):\n",
    "    def method(self):\n",
    "        print(\"this method belongs to Class B\")\n",
    "    \n",
    "class C(A):\n",
    "    pass\n",
    "    \n",
    "class D(B,C):\n",
    "    pass\n",
    "d=D()\n",
    "d.method()"
   ]
  },
  {
   "cell_type": "code",
   "execution_count": null,
   "id": "9a53d0d4",
   "metadata": {},
   "outputs": [
    {
     "name": "stdout",
     "output_type": "stream",
     "text": [
      "this method belongs to Class C\n"
     ]
    }
   ],
   "source": [
    "class A:\n",
    "    def method(self):\n",
    "        print(\"this method belongs to Class A\")\n",
    "class B(A):\n",
    "       pass\n",
    "    \n",
    "class C(A):\n",
    "    def method(self):\n",
    "        print(\"this method belongs to Class C\")\n",
    "    \n",
    "class D(B,C):\n",
    "    pass\n",
    "d=D()\n",
    "d.method()"
   ]
  },
  {
   "cell_type": "code",
   "execution_count": null,
   "id": "1cea58f0",
   "metadata": {},
   "outputs": [
    {
     "name": "stdout",
     "output_type": "stream",
     "text": [
      "this method belongs to Class B\n"
     ]
    }
   ],
   "source": [
    "class A:\n",
    "    def method(self):\n",
    "        print(\"this method belongs to Class A\")\n",
    "class B(A):\n",
    "    def method(self):\n",
    "        print(\"this method belongs to Class B\")\n",
    "    \n",
    "class C(A):\n",
    "    def method(self):\n",
    "        print(\"this method belongs to Class C\")\n",
    "    \n",
    "class D(B,C):#Because the order is B, C and not C,B\n",
    "    pass\n",
    "d=D()\n",
    "d.method()"
   ]
  },
  {
   "cell_type": "code",
   "execution_count": null,
   "id": "2f51c930",
   "metadata": {},
   "outputs": [],
   "source": [
    "#Overloading an operator \n",
    "class Square:\n",
    "    def __init__(self,side):\n",
    "        self.side=side\n",
    "    def __add__(squareOne,squareTwo):\n",
    "        return ((4*squareOne.side) + (4*squareTwo.side))\n",
    "s1=Square(5)\n",
    "s2=Square(10)\n",
    "s3=s1+s2\n",
    "print(s3)"
   ]
  },
  {
   "cell_type": "code",
   "execution_count": null,
   "id": "17601387",
   "metadata": {},
   "outputs": [],
   "source": []
  }
 ],
 "metadata": {
  "kernelspec": {
   "display_name": "Python 3 (ipykernel)",
   "language": "python",
   "name": "python3"
  },
  "language_info": {
   "codemirror_mode": {
    "name": "ipython",
    "version": 3
   },
   "file_extension": ".py",
   "mimetype": "text/x-python",
   "name": "python",
   "nbconvert_exporter": "python",
   "pygments_lexer": "ipython3",
   "version": "3.12.4"
  }
 },
 "nbformat": 4,
 "nbformat_minor": 5
}
