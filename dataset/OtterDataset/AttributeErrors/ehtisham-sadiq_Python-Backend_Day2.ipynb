{
 "cells": [
  {
   "cell_type": "markdown",
   "id": "59fa90c0-52fa-444f-90c9-2bc33caf699e",
   "metadata": {},
   "source": [
    "\n",
    "<h1> Python Built-in Data structures and Control Structures </h1>"
   ]
  },
  {
   "cell_type": "markdown",
   "id": "f9b4e082-49f8-4e48-aafd-d2510db88921",
   "metadata": {},
   "source": [
    "### Learning agenda of this notebook\n",
    "\n",
    "\n",
    "- **Python Indentation**\n",
    "- **Mutable vs Immutable**\n",
    "- **String Data Structure**\n",
    "    - Defining Strings in the Python\n",
    "    - Accessing characters  of  a  String (Indexing)\n",
    "    - Strings  are  immutable(Reassigning String)\n",
    "    - Strings  Slicing \n",
    "    - String  Concatenation\n",
    "    - Create large Strings\n",
    "    - Operations on string Data structure\n",
    "    - Strings method\n",
    "    - String  Deletion\n",
    "    - String Membership test\n",
    "- **List Data Structure**\n",
    "    - How to create lists?\n",
    "    - Proof of concepts: Lists are heterogeneous, ordered, mutable, nested, and allow duplicate elements\n",
    "    - Different ways to access list elements\n",
    "    - Slicing Lists\n",
    "    - List concatenation and repetition\n",
    "    - Modifying/Adding elements to a List using `append()`, `extend()`, and `insert()` methods\n",
    "    - Removing elements from a list using `pop()` and `remove()` methods\n",
    "    - Converting string object to list and vice-versa (using type casting, `split()` and `join()`)\n",
    "    - Aliasing vs Shallow Copy vs Deep Copy\n",
    "    - Sorting a list and Custom sorting\n",
    "- **Branching with `if`, `else`, and `elif`**\n",
    "- **The `pass` statement**"
   ]
  },
  {
   "cell_type": "code",
   "execution_count": null,
   "id": "6008ace9-46f7-43f0-bdc8-c3422ec96193",
   "metadata": {},
   "outputs": [],
   "source": []
  },
  {
   "cell_type": "markdown",
   "id": "5a272bcf-7667-4e33-80cf-c94236c5b127",
   "metadata": {},
   "source": [
    "#### Recap:\n",
    "- **Introduction to Python(Why, and what Python)**\n",
    "- **Code Editor and IDE, why jupyter Notebook?**\n",
    "- **Variables in Python**\n",
    "- **Datatypes**\n",
    "- **Comments in Python**\n",
    "- **Type Casting**\n",
    "- **Operators in Python**"
   ]
  },
  {
   "cell_type": "code",
   "execution_count": null,
   "id": "cb34a3c2-9afa-4b45-a09b-0c92720386fa",
   "metadata": {},
   "outputs": [],
   "source": [
    "int(\"20a\", base=9)"
   ]
  },
  {
   "cell_type": "code",
   "execution_count": null,
   "id": "78e72725-ec9e-43e6-bbd2-ce42200e74f5",
   "metadata": {},
   "outputs": [],
   "source": []
  },
  {
   "cell_type": "code",
   "execution_count": null,
   "id": "5874942f-4a2a-4cd0-b8cc-260fe3779c4c",
   "metadata": {},
   "outputs": [],
   "source": []
  },
  {
   "cell_type": "markdown",
   "id": "5739e9da-d10d-483a-ae20-488232cf0ccf",
   "metadata": {},
   "source": [
    "## Python Expression, Statements and Indentation\n",
    "\n",
    "> **Expressions and Statements**: An expression is some code that evaluates to a value. As a rule of thumb, an expression is anything that can appear on the right side of the assignment operator `=`. On the contrary a statement is an instruction that can be executed. \n",
    "\n",
    "> **Python Indentation**:\n",
    ">- Most programming languages like C, C++, Java use braces { } to define a block of code. \n",
    ">- Python use indentation to tell the interpreter that the group of statements belongs to a particular block of code. \n",
    ">- Python uses 4 spaces as indentation by default. However, the number of spaces is up to you, but a minimum of 1 space has to be used. \n",
    ">- Pressing `Tab` in a Jupyter notebook cell, will indent the code by 4 spaces, and pressing `Shift+Tab` will reduce the indentation by 4 spaces. \n",
    "\n",
    "\n",
    "<br>\n",
    "<br>\n",
    "<img src=\"images/indentation.jpg\" height=700px width=700px>"
   ]
  },
  {
   "cell_type": "code",
   "execution_count": null,
   "id": "de902188-97cb-49ae-a80b-1852f3f206e9",
   "metadata": {},
   "outputs": [],
   "source": [
    "age = 20\n",
    "if age >= 28:\n",
    "    print(\"Voted\")\n",
    "else:\n",
    "    print(\"Not Voted\")\n",
    "    \n",
    "if age == 20:\n",
    "    print(\"Yes\")"
   ]
  },
  {
   "cell_type": "code",
   "execution_count": null,
   "id": "f7a0baea-60fe-4905-9c33-1d2a7636e38e",
   "metadata": {},
   "outputs": [],
   "source": [
    "# == (Values comp) , is (Object References)"
   ]
  },
  {
   "cell_type": "code",
   "execution_count": null,
   "id": "d5f74a13-0662-4ce6-8cc2-b7885ec494fd",
   "metadata": {},
   "outputs": [],
   "source": []
  },
  {
   "cell_type": "markdown",
   "id": "50588f91-e177-4184-9613-c9c298b8b23a",
   "metadata": {},
   "source": [
    "## Mutable vs Immutable\n",
    "<img src=\"images/datatypes1.png\" height=700px width=700px>"
   ]
  },
  {
   "cell_type": "code",
   "execution_count": null,
   "id": "c81856eb-e76f-46f9-bd0e-4ba5956efd27",
   "metadata": {},
   "outputs": [],
   "source": []
  },
  {
   "cell_type": "markdown",
   "id": "2eaff226-2a63-411e-8397-e566b685e8d9",
   "metadata": {},
   "source": [
    "#### Numbers:\n",
    "Number stores numeric values. The `integer`, `float`, and `complex` values belong to a Python `Numbers` data-type. Python provides the `type()` function to know the data-type of the variable.\n",
    "\n",
    "\n",
    "<img src=\"images/numbers-in-python--image.webp\" height=700px width=700px>\n",
    "\n",
    "\n",
    "\n",
    "\n",
    "Python supports three types of numeric data.\n",
    "\n",
    "1. **Int** - Integer value can be any length such as integers 10, 2, 29, -20, -150 etc. Python has no restriction on the length of an integer. Its value belongs to int\n",
    "2. **Float** - Float is used to store floating-point numbers like 1.9, 9.902, 15.2, etc. It is accurate upto 15 decimal points.\n",
    "3. **complex** - A complex number contains an ordered pair, i.e., x + iy where x and y denote the real and imaginary parts, respectively. The complex numbers like 2.14j, 2.0 + 2.3j, etc.\n",
    "4. **Boolean:** Also known as bool data type allows us to choose between two values: True and False. Booleans have the type bool. A Boolean is used to determine whether the logic of an expression or a comparison is correct. It plays a huge role in data comparisons."
   ]
  },
  {
   "cell_type": "code",
   "execution_count": null,
   "id": "933450d2-c6c9-4067-aa8d-34f28e157b43",
   "metadata": {},
   "outputs": [],
   "source": [
    "a = 5  \n",
    "print(\"The type of a\", type(a))  \n",
    "  \n",
    "b = 40.5  \n",
    "print(\"The type of b\", type(b))  \n",
    "  \n",
    "c = 1+3j  \n",
    "print(\"The type of c\", type(c))  "
   ]
  },
  {
   "cell_type": "code",
   "execution_count": null,
   "id": "0c3724c8-530a-4d04-a289-e96e188fd534",
   "metadata": {},
   "outputs": [],
   "source": [
    "# ==, != <, >, >=, <= comparsion operators"
   ]
  },
  {
   "cell_type": "code",
   "execution_count": null,
   "id": "1905e299-b112-4b18-a3b1-84958fc30a83",
   "metadata": {},
   "outputs": [],
   "source": [
    "result = 5 < 2\n",
    "print(result)\n",
    "print(type(result))"
   ]
  },
  {
   "cell_type": "code",
   "execution_count": null,
   "id": "83f5ce0f-5f11-4113-8aa0-303bd09e372b",
   "metadata": {},
   "outputs": [],
   "source": [
    "# In Python, True represents the value as 1 or other than 0 and False as 0. \n",
    "print(bool(1))\n",
    "print(bool(0))\n",
    "\n",
    "print(bool(True))\n",
    "print(bool(False))\n",
    "\n",
    "print(bool(-100))\n",
    "print(bool('ehtisham'))"
   ]
  },
  {
   "cell_type": "markdown",
   "id": "4f09f338-e013-4783-ad8d-18e5cf6fc484",
   "metadata": {},
   "source": [
    "#### **Test Yourself**\n",
    "- What are the data types of the results of the division operators `/` and `//`?\n",
    "- What kind of data does the Boolean data type represent?\n",
    "- Which types of Python operators return booleans as a result?\n",
    "- What happens if you try to use a boolean in arithmetic operation?\n",
    "- How can any value in Python be covered to a boolean?"
   ]
  },
  {
   "cell_type": "code",
   "execution_count": null,
   "id": "69283506-5658-4463-aae3-ccb76a2ff912",
   "metadata": {},
   "outputs": [],
   "source": [
    "# Which types of Python operators return booleans as a result?\n",
    "# - Comparison Operators\n",
    "# - Logical Operations\n",
    "# - Membership\n",
    "# - Identity"
   ]
  },
  {
   "cell_type": "code",
   "execution_count": null,
   "id": "9204214e-f267-4b8b-90c9-0ee75095a757",
   "metadata": {},
   "outputs": [],
   "source": [
    "# True + 100, False*100"
   ]
  },
  {
   "cell_type": "code",
   "execution_count": null,
   "id": "847f47a8-0059-460d-bcd6-3f9ff898adcd",
   "metadata": {},
   "outputs": [],
   "source": [
    "# bool('')"
   ]
  },
  {
   "cell_type": "code",
   "execution_count": null,
   "id": "bd947622-b99a-4f72-b48f-e00fb675e752",
   "metadata": {},
   "outputs": [],
   "source": [
    "92 + False"
   ]
  },
  {
   "cell_type": "code",
   "execution_count": null,
   "id": "65898845-e7e9-4503-93f6-bfc09bfb323b",
   "metadata": {},
   "outputs": [],
   "source": [
    "-10 // 4"
   ]
  },
  {
   "cell_type": "markdown",
   "id": "b1d8074e-ded3-445c-b5dd-425f0cda35be",
   "metadata": {},
   "source": [
    "<h2  > String Data Structure </h2>\n",
    "\n",
    "\n",
    "- What is Data  Structure?\n",
    "- String Data Structure\n",
    "- Accessing characters  of  a  String (Indexing)\n",
    "- Strings  are  immutable(Reassigning String)\n",
    "- Strings  Slicing \n",
    "- String  Concatenation\n",
    "- Create large Strings\n",
    "- Operations on string Data structure\n",
    "- Strings method\n",
    "    - `lower()`, `upper()`, `strip()`, `startswith()`, `endswith()`, `split()`, `join()`, `find()`, `replace()`, `format()`, `len()`, `min()`, `max()`, `sorted()`, `title()/capitalize`, `swapcase()`, `count()`, `find()`, `index()`, `isalnum() / isalpha()`, `isdigit()`, \n",
    "- String  Deletion\n",
    "- String Membership test\n",
    "\n"
   ]
  },
  {
   "cell_type": "markdown",
   "id": "85aefe43-5ae9-434f-b026-ff1fb28f0f39",
   "metadata": {},
   "source": [
    "### What is Data Structure?\n",
    "\n",
    "\n",
    "- Data structure is a particular way of storing and organizing data in a computer so that it can be used efficiently. A data structure is a special format for organizing and storing data .\n",
    "\n",
    "\n",
    "<img src=\"images/data_structure.gif\" height=500px width=500px align=\"center\">"
   ]
  },
  {
   "cell_type": "markdown",
   "id": "b6b186a0-9c12-4295-a5bd-d32a959a4a16",
   "metadata": {},
   "source": [
    "### String Data Structure\n",
    "\n",
    "\n",
    "- Python string is the collection of the characters surrounded by single quotes, double quotes, or triple quotes.\n",
    "\n",
    "<img src=\"images/Ways-to-declare-a-string-In-Python-1024x576.png\" height=600px width=600px align ='left'>\n",
    "<img src=\"images/string-ds.gif\" height=400px width=400px right=\"right\">"
   ]
  },
  {
   "cell_type": "code",
   "execution_count": 2,
   "id": "a04b52b5-4cb5-417d-a4aa-e8ba5f37cfe4",
   "metadata": {},
   "outputs": [],
   "source": [
    "str1 = \"Ehtisham\"\n",
    "str2 = 'Ehtisham'\n",
    "str3 = \"\"\"Ehtisham\"\"\""
   ]
  },
  {
   "cell_type": "code",
   "execution_count": 3,
   "id": "0353f94c-4053-4077-b1d9-5832409f6dc0",
   "metadata": {},
   "outputs": [
    {
     "name": "stdout",
     "output_type": "stream",
     "text": [
      "<class 'str'>\n",
      "<class 'str'>\n",
      "<class 'str'>\n"
     ]
    }
   ],
   "source": [
    "print(type(str1))\n",
    "print(type(str2))\n",
    "print(type(str3))"
   ]
  },
  {
   "cell_type": "code",
   "execution_count": 4,
   "id": "15e6e536-94cb-4ce4-9ba0-74b53217e6b9",
   "metadata": {},
   "outputs": [
    {
     "name": "stdout",
     "output_type": "stream",
     "text": [
      "Hello, This is\n",
      "            multi-line string\n",
      "Hello, This is\n",
      "            multi-line string\n"
     ]
    }
   ],
   "source": [
    "# triple quotes string can extend multiple lines\n",
    "\n",
    "string5 = \"\"\"Hello, This is\n",
    "            multi-line string\"\"\"\n",
    "print(string5)\n",
    "\n",
    "string5 = '''Hello, This is\n",
    "            multi-line string'''\n",
    "print(string5)"
   ]
  },
  {
   "cell_type": "code",
   "execution_count": null,
   "id": "445fe56a-3c11-442b-8a6a-a964878d7e13",
   "metadata": {},
   "outputs": [],
   "source": []
  },
  {
   "cell_type": "code",
   "execution_count": 7,
   "id": "68786bed-f83c-4aa1-939c-a5e0a699ac7a",
   "metadata": {},
   "outputs": [
    {
     "ename": "SyntaxError",
     "evalue": "unterminated string literal (detected at line 2) (3003668550.py, line 2)",
     "output_type": "error",
     "traceback": [
      "\u001b[0;36m  Cell \u001b[0;32mIn[7], line 2\u001b[0;36m\u001b[0m\n\u001b[0;31m    'I' m using single quotes, but will create an error'\u001b[0m\n\u001b[0m                                                       ^\u001b[0m\n\u001b[0;31mSyntaxError\u001b[0m\u001b[0;31m:\u001b[0m unterminated string literal (detected at line 2)\n"
     ]
    }
   ],
   "source": [
    "# Be careful with quotes!\n",
    "'I' m using single quotes, but will create an error'"
   ]
  },
  {
   "cell_type": "markdown",
   "id": "57af8923-c147-4d18-b0bf-fd4c8794d16c",
   "metadata": {},
   "source": [
    "> The reason for the error above is because the single quote in `I'm` stopped the string. You can use combinations of double and single quotes to get the complete statement."
   ]
  },
  {
   "cell_type": "code",
   "execution_count": 6,
   "id": "ddb857f0-30b0-409f-b7a0-37e6aac7e859",
   "metadata": {},
   "outputs": [
    {
     "data": {
      "text/plain": [
       "\"I'm using single quotes, but will create an error\""
      ]
     },
     "execution_count": 6,
     "metadata": {},
     "output_type": "execute_result"
    }
   ],
   "source": [
    "# Be careful with quotes!\n",
    "\"I'm using single quotes, but will create an error\""
   ]
  },
  {
   "cell_type": "code",
   "execution_count": null,
   "id": "bada3836-0ee6-4c31-a5eb-dae7ec22fc41",
   "metadata": {},
   "outputs": [],
   "source": []
  },
  {
   "cell_type": "markdown",
   "id": "55c1a04b-a141-49f8-a1f5-a154895ad994",
   "metadata": {},
   "source": [
    "### **Indexing**: Accessing Characters of a String\n",
    "\n",
    "Like other languages, the indexing of the Python strings starts from 0. Since string is of type sequence, and any component within a sequence can be accessed by entrying an `index within square brackets`. So naturally this work for strings as well List.\n",
    "For example, The string \"HELLO\" is indexed as given in the below figure.\n",
    "\n",
    "![](images/2.png)\n",
    "\n",
    "\n",
    "As shown in Python, the `slice operator []` is used to access the individual characters of the string. However, we can use the `: (colon)` operator in Python to access the substring from the given string. Consider the following example.\n",
    "### Syntax:    \n",
    "**str[start:end-1]**"
   ]
  },
  {
   "cell_type": "code",
   "execution_count": 8,
   "id": "ccfa513d-ae1a-4086-80b9-58d85d84bcd5",
   "metadata": {},
   "outputs": [
    {
     "name": "stdout",
     "output_type": "stream",
     "text": [
      "5\n"
     ]
    }
   ],
   "source": [
    "string = \"HELLO\"  \n",
    "print(len(string)) "
   ]
  },
  {
   "cell_type": "code",
   "execution_count": 9,
   "id": "c3d1701d-1d0f-4fa5-a78c-32f44bfa69d6",
   "metadata": {},
   "outputs": [
    {
     "name": "stdout",
     "output_type": "stream",
     "text": [
      "H\n",
      "E\n",
      "L\n",
      "L\n",
      "O\n"
     ]
    }
   ],
   "source": [
    "print(string[0])  \n",
    "print(string[1])  \n",
    "print(string[2])  \n",
    "print(string[3])  \n",
    "print(string[4]) "
   ]
  },
  {
   "cell_type": "code",
   "execution_count": 10,
   "id": "31f564da-fcba-429c-8627-b86a22a462b2",
   "metadata": {},
   "outputs": [
    {
     "ename": "IndexError",
     "evalue": "string index out of range",
     "output_type": "error",
     "traceback": [
      "\u001b[0;31m---------------------------------------------------------------------------\u001b[0m",
      "\u001b[0;31mIndexError\u001b[0m                                Traceback (most recent call last)",
      "Cell \u001b[0;32mIn[10], line 2\u001b[0m\n\u001b[1;32m      1\u001b[0m \u001b[38;5;66;03m# It returns the IndexError because 6th index doesn't exist  \u001b[39;00m\n\u001b[0;32m----> 2\u001b[0m \u001b[38;5;28mprint\u001b[39m(string[\u001b[38;5;241m6\u001b[39m])\n",
      "\u001b[0;31mIndexError\u001b[0m: string index out of range"
     ]
    }
   ],
   "source": [
    "# It returns the IndexError because 6th index doesn't exist  \n",
    "print(string[6])\n",
    "# 1-4"
   ]
  },
  {
   "cell_type": "markdown",
   "id": "ce097f45-f7ed-4066-a1ee-c7d1c8963f0d",
   "metadata": {},
   "source": [
    "![](images/3.png)\n",
    "\n",
    "Here, we must notice that the upper range given in the slice operator is always exclusive i.e., if str = 'HELLO' is given, then `str[1:3]` will always include `str[1] = 'E'`, `str[2] = 'L'` and nothing else."
   ]
  },
  {
   "cell_type": "code",
   "execution_count": null,
   "id": "e07706c6-47cb-49f4-9be5-1acd1eef1e0d",
   "metadata": {},
   "outputs": [],
   "source": [
    "string2 = \"Dua Sadiq\"  \n",
    "print(len(string2))"
   ]
  },
  {
   "cell_type": "code",
   "execution_count": null,
   "id": "d9dbf0fc-4a48-4734-8895-092ca0fbcb93",
   "metadata": {},
   "outputs": [],
   "source": [
    "# Start Oth index to end  \n",
    "print(string2[0:])  \n",
    "\n",
    "# Starts 1th index to 4th index  \n",
    "print(string2[1:5])  \n",
    "\n",
    "# Starts 2nd index to 3rd index  \n",
    "print(string2[2:4])  \n",
    "\n",
    "# Starts 0th to 2nd index  \n",
    "print(string2[:3])  \n",
    "\n",
    "#Starts 4th to 6th index  \n",
    "print(string2[4:7])  "
   ]
  },
  {
   "cell_type": "markdown",
   "id": "48a342c2-62bb-4780-a1ea-da994f4e2d92",
   "metadata": {},
   "source": [
    "We can do the negative slicing in the string; it starts from the rightmost character, which is indicated as -1. The second rightmost index indicates -2, and so on.\n",
    "\n",
    "\n",
    "![](images/4.png)"
   ]
  },
  {
   "cell_type": "code",
   "execution_count": 11,
   "id": "539c9758-eee9-4a7e-b528-f9bd28ad0a42",
   "metadata": {},
   "outputs": [
    {
     "name": "stdout",
     "output_type": "stream",
     "text": [
      "9\n",
      "q\n",
      "d\n",
      "iq\n",
      "adi\n",
      "i Sad\n"
     ]
    }
   ],
   "source": [
    "string3 = 'Ali Sadiq'  \n",
    "print(len(string3))\n",
    "print(string3[-1])  \n",
    "print(string3[-3])  \n",
    "print(string3[-2:])  \n",
    "print(string3[-4:-1])  \n",
    "print(string3[-7:-2])  "
   ]
  },
  {
   "cell_type": "code",
   "execution_count": 12,
   "id": "789af1bb-9832-4e6e-9af3-98e074c502d9",
   "metadata": {},
   "outputs": [
    {
     "name": "stdout",
     "output_type": "stream",
     "text": [
      "qidaS ilA\n"
     ]
    }
   ],
   "source": [
    "# Reversing the given string  \n",
    "print(string3[::-1])  "
   ]
  },
  {
   "cell_type": "code",
   "execution_count": null,
   "id": "f75af799-841c-4716-b78e-5ca5d8aeeabc",
   "metadata": {},
   "outputs": [],
   "source": [
    "name = \"Ehtisham Sadiq\"\n",
    "# output: \"mahsithE qidaS\""
   ]
  },
  {
   "cell_type": "code",
   "execution_count": 13,
   "id": "ab3b4052-1c45-4552-a48c-87f239b0082a",
   "metadata": {},
   "outputs": [
    {
     "ename": "IndexError",
     "evalue": "string index out of range",
     "output_type": "error",
     "traceback": [
      "\u001b[0;31m---------------------------------------------------------------------------\u001b[0m",
      "\u001b[0;31mIndexError\u001b[0m                                Traceback (most recent call last)",
      "Cell \u001b[0;32mIn[13], line 1\u001b[0m\n\u001b[0;32m----> 1\u001b[0m \u001b[38;5;28mprint\u001b[39m(string3[\u001b[38;5;241m-\u001b[39m\u001b[38;5;241m12\u001b[39m])\n",
      "\u001b[0;31mIndexError\u001b[0m: string index out of range"
     ]
    }
   ],
   "source": [
    "print(string3[-12])"
   ]
  },
  {
   "cell_type": "markdown",
   "id": "e0fcced7-f702-40ec-acf9-8490077d25fe",
   "metadata": {},
   "source": [
    "###  Strings are immutable/ Reassigning Strings\n",
    "Updating the content of the strings is as easy as assigning it to a new string. `The string object doesn't support item assignment` i.e., A string can only be replaced with new string since its content cannot be partially replaced. Strings are immutable in Python."
   ]
  },
  {
   "cell_type": "code",
   "execution_count": 14,
   "id": "854e2129-6e79-4f85-8bca-ae82116d6505",
   "metadata": {},
   "outputs": [
    {
     "ename": "TypeError",
     "evalue": "'str' object does not support item assignment",
     "output_type": "error",
     "traceback": [
      "\u001b[0;31m---------------------------------------------------------------------------\u001b[0m",
      "\u001b[0;31mTypeError\u001b[0m                                 Traceback (most recent call last)",
      "Cell \u001b[0;32mIn[14], line 2\u001b[0m\n\u001b[1;32m      1\u001b[0m str1 \u001b[38;5;241m=\u001b[39m \u001b[38;5;124m\"\u001b[39m\u001b[38;5;124mAyesha Sadiq\u001b[39m\u001b[38;5;124m\"\u001b[39m\n\u001b[0;32m----> 2\u001b[0m str1[\u001b[38;5;241m3\u001b[39m] \u001b[38;5;241m=\u001b[39m \u001b[38;5;124m\"\u001b[39m\u001b[38;5;124mM\u001b[39m\u001b[38;5;124m\"\u001b[39m\n\u001b[1;32m      3\u001b[0m \u001b[38;5;28mprint\u001b[39m(str1)\n",
      "\u001b[0;31mTypeError\u001b[0m: 'str' object does not support item assignment"
     ]
    }
   ],
   "source": [
    "str1 = \"Ayesha Sadiq\"\n",
    "str1[3] = \"M\"\n",
    "print(str1)"
   ]
  },
  {
   "cell_type": "code",
   "execution_count": 15,
   "id": "b8b0fab4-0f82-4bac-bdde-59a030f287a2",
   "metadata": {},
   "outputs": [
    {
     "data": {
      "text/plain": [
       "'AyeMha Sadiq'"
      ]
     },
     "execution_count": 15,
     "metadata": {},
     "output_type": "execute_result"
    }
   ],
   "source": [
    "str1.replace(\"s\", \"M\")"
   ]
  },
  {
   "cell_type": "code",
   "execution_count": 16,
   "id": "608745eb-ad19-4ae2-9c94-21bbba766144",
   "metadata": {},
   "outputs": [
    {
     "name": "stdout",
     "output_type": "stream",
     "text": [
      "4413272496\n",
      "4331471536\n"
     ]
    }
   ],
   "source": [
    "#assigning a new value is valid\n",
    "print(id(str1))\n",
    "str1 = 'python'\n",
    "print(id(str1))"
   ]
  },
  {
   "cell_type": "markdown",
   "id": "e63336a6-45e4-4b46-a8f2-9f8be4f065f9",
   "metadata": {},
   "source": [
    "The object `Ayesha Sadiq` is now orphan, since there is no variable referring to it now and will be collected by Python garbage collector."
   ]
  },
  {
   "cell_type": "code",
   "execution_count": null,
   "id": "7b01e91a-4414-43eb-8f32-46dd2bef379e",
   "metadata": {},
   "outputs": [],
   "source": []
  },
  {
   "cell_type": "markdown",
   "id": "43e673f4-a259-436b-a218-668ef4e37d61",
   "metadata": {},
   "source": [
    "###  String Slicing\n",
    "- Slicing is the process of obtaining a portion (substring) of a string by using its indices.\n",
    "- Given a string, we can use the following syntax to slice it and obtain a substring:\n",
    "```\n",
    "string[start:end]\n",
    "```\n",
    "- **start** is the index from where we want the substring to start. If start is not provided, slicing starts from the beginning.\n",
    "- **end** is the index where we want our substring to end (not inclusive in the substring). If end is not provided, slicing goes till the end of the string (includes the last character of the string).\n",
    "\n",
    "\n",
    "<img src=\"images/Python-String.png\" height=500px width=500px>"
   ]
  },
  {
   "cell_type": "markdown",
   "id": "3d3a886b-2093-4427-af2a-47fa21b5aacb",
   "metadata": {},
   "source": [
    "- `var[:]` -> Full string return\n",
    "- `var[0:]` -> Full string return\n",
    "- `var[:len(string)]` -> Full string return \n",
    "- `var[::-1]` -> Full reverse string return"
   ]
  },
  {
   "cell_type": "code",
   "execution_count": 17,
   "id": "72ae4024-427d-46d1-8e2a-12183c9c40be",
   "metadata": {},
   "outputs": [
    {
     "name": "stdout",
     "output_type": "stream",
     "text": [
      "40\n"
     ]
    }
   ],
   "source": [
    "str1 = 'Introductiontodatasciencewithusingpython'\n",
    "print(len(str1))"
   ]
  },
  {
   "cell_type": "code",
   "execution_count": 18,
   "id": "67c0db36-20cb-4317-8f10-9bc89103ef0f",
   "metadata": {},
   "outputs": [
    {
     "name": "stdout",
     "output_type": "stream",
     "text": [
      "Introductiontodatasciencewithusingpython\n"
     ]
    }
   ],
   "source": [
    "print(str1[::])  # A default step of 1\n"
   ]
  },
  {
   "cell_type": "code",
   "execution_count": 19,
   "id": "3509ae87-b2a3-478d-ba22-031435b4a43a",
   "metadata": {},
   "outputs": [
    {
     "name": "stdout",
     "output_type": "stream",
     "text": [
      "Introductiontodatasciencewithusingpython\n"
     ]
    }
   ],
   "source": [
    "print(str1[::1])  "
   ]
  },
  {
   "cell_type": "code",
   "execution_count": 20,
   "id": "f5e4b765-d7ce-4cf4-b4dc-b0c1f732385a",
   "metadata": {},
   "outputs": [
    {
     "name": "stdout",
     "output_type": "stream",
     "text": [
      "Introductiontodatasciencewithusingpython\n",
      "Itoutotdtsineihsnpto\n"
     ]
    }
   ],
   "source": [
    "print(str1)\n",
    "print(str1[::2])  # A step of 2"
   ]
  },
  {
   "cell_type": "code",
   "execution_count": 21,
   "id": "b358d604-c1fb-46c9-91cb-9444441de445",
   "metadata": {},
   "outputs": [
    {
     "name": "stdout",
     "output_type": "stream",
     "text": [
      "Introductiontodatasciencewithusingpython\n",
      "ootcnwh\n"
     ]
    }
   ],
   "source": [
    "print(str1)\n",
    "print(str1[10:30:3])  # A step of 2"
   ]
  },
  {
   "cell_type": "markdown",
   "id": "f54535f9-7dbd-4b9f-9d32-09c9d90b51df",
   "metadata": {},
   "source": [
    "### String Concatenation\n",
    "- Two strings can be joined or concatenated using the `+` operator"
   ]
  },
  {
   "cell_type": "code",
   "execution_count": null,
   "id": "054a9f3f-08ac-4d38-aab3-80908a059c96",
   "metadata": {},
   "outputs": [],
   "source": []
  },
  {
   "cell_type": "markdown",
   "id": "967b9c91-8704-43e2-ba35-d175c16c6adc",
   "metadata": {},
   "source": [
    "### Creating large strings\n",
    "- A string can be replicated/repeated using the `*` operator"
   ]
  },
  {
   "cell_type": "code",
   "execution_count": 22,
   "id": "019aa314-8309-4bfc-84f9-adcd3c00cb79",
   "metadata": {},
   "outputs": [
    {
     "name": "stdout",
     "output_type": "stream",
     "text": [
      "EhtishamEhtishamEhtishamEhtishamEhtishamEhtishamEhtishamEhtishamEhtishamEhtisham\n"
     ]
    }
   ],
   "source": [
    "str2 = \"Ehtisham\"\n",
    "print(str2 * 10)"
   ]
  },
  {
   "cell_type": "markdown",
   "id": "e5d879c3-8464-4176-9b4b-a9b75d6a14df",
   "metadata": {},
   "source": [
    "###  Operations on String Data Structure \n",
    "\n",
    "\n",
    "|Operator|Description|\n",
    "|--------|-----------|\n",
    "|+|It is known as concatenation operator used to join the strings given either side of the operator. |\n",
    "|*|It is known as repetition operator. It concatenates the multiple copies of the same string. |\n",
    "|[]|It is known as slice operator. It is used to access the sub-strings of a particular string. |\n",
    "|[:]|It is known as range slice operator. It is used to access the characters from the specified range. |\n",
    "|in|It is known as membership operator. It returns if a particular sub-string is present in the specified string. |\n",
    "|not in |It is also a membership operator and does the exact reverse of in. It returns true if a particular substring is not present in the specified string. |\n"
   ]
  },
  {
   "cell_type": "markdown",
   "id": "371c2ff2-dccd-4686-b698-2a7d538e6a9e",
   "metadata": {},
   "source": [
    "### String Membership test using `in` operator"
   ]
  },
  {
   "cell_type": "code",
   "execution_count": 23,
   "id": "97547c42-ec15-459d-9832-b654cb8250d0",
   "metadata": {},
   "outputs": [
    {
     "data": {
      "text/plain": [
       "True"
      ]
     },
     "execution_count": 23,
     "metadata": {},
     "output_type": "execute_result"
    }
   ],
   "source": [
    "'a' in 'DataScience'"
   ]
  },
  {
   "cell_type": "code",
   "execution_count": 24,
   "id": "7edf4225-1433-4988-9d83-eb70bb0e6394",
   "metadata": {},
   "outputs": [
    {
     "data": {
      "text/plain": [
       "True"
      ]
     },
     "execution_count": 24,
     "metadata": {},
     "output_type": "execute_result"
    }
   ],
   "source": [
    "'thf' not in 'python'"
   ]
  },
  {
   "cell_type": "markdown",
   "id": "c2d3312b-7613-4c1b-97eb-7930e942ce43",
   "metadata": {},
   "source": [
    "### String Deletion\n",
    "As we know that strings are immutable. We cannot delete or remove the characters from the string.  But we can delete the entire string using the `del` keyword."
   ]
  },
  {
   "cell_type": "markdown",
   "id": "faa341af-5998-4272-9dd6-82867ad2af2f",
   "metadata": {},
   "source": [
    "###  Comparing two strings using `is` operator and `==` operator"
   ]
  },
  {
   "cell_type": "code",
   "execution_count": 25,
   "id": "4dd2d373-9ebd-4714-ba3d-6c1e8b82def8",
   "metadata": {},
   "outputs": [
    {
     "name": "stderr",
     "output_type": "stream",
     "text": [
      "<>:1: SyntaxWarning: \"is\" with a literal. Did you mean \"==\"?\n",
      "<>:1: SyntaxWarning: \"is\" with a literal. Did you mean \"==\"?\n",
      "/var/folders/qb/lf_2q09x7wj115gvfnkv6tkm0000gn/T/ipykernel_42162/2784403596.py:1: SyntaxWarning: \"is\" with a literal. Did you mean \"==\"?\n",
      "  \"ali\" is \"ALI\", \"ali\" == \"ALI\"\n"
     ]
    },
    {
     "data": {
      "text/plain": [
       "(False, False)"
      ]
     },
     "execution_count": 25,
     "metadata": {},
     "output_type": "execute_result"
    }
   ],
   "source": [
    "\"ali\" is \"ALI\", \"ali\" == \"ALI\""
   ]
  },
  {
   "cell_type": "code",
   "execution_count": 29,
   "id": "57f9b43e-5fe3-4ef8-87bd-aff205f382aa",
   "metadata": {},
   "outputs": [],
   "source": [
    "# # if \"ali\" is \"ALI\":\n",
    "# #     print(\"Yes\")\n",
    "# # print(\"NO\")\n",
    "\n",
    "\n",
    "# else \"ali\" == \"ALI\":\n",
    "#     print(\"Yes\")\n",
    "# print(\"NO\")\n",
    "\n"
   ]
  },
  {
   "cell_type": "code",
   "execution_count": 30,
   "id": "d9c126b2-4532-433b-8c9e-e20fcbea2cf4",
   "metadata": {},
   "outputs": [
    {
     "ename": "SyntaxError",
     "evalue": "expected ':' (3598417541.py, line 5)",
     "output_type": "error",
     "traceback": [
      "\u001b[0;36m  Cell \u001b[0;32mIn[30], line 5\u001b[0;36m\u001b[0m\n\u001b[0;31m    else [2,3,4] in [2,4,3]:\u001b[0m\n\u001b[0m         ^\u001b[0m\n\u001b[0;31mSyntaxError\u001b[0m\u001b[0;31m:\u001b[0m expected ':'\n"
     ]
    }
   ],
   "source": [
    "if \"ali\" in \"ali\":\n",
    "    print(\"Yes\")\n",
    "    return \"Yes\"\n",
    "    print(\"NO\")\n",
    "else [2,3,4] in [2,4,3]:\n",
    "    print(\"Else\")\n",
    "\n",
    "print(\"Done\")"
   ]
  },
  {
   "cell_type": "code",
   "execution_count": 32,
   "id": "b03dc426-0bbb-46ae-83c7-b159cdcba5ac",
   "metadata": {},
   "outputs": [
    {
     "name": "stdout",
     "output_type": "stream",
     "text": [
      "Yes\n",
      "NO\n",
      "Done\n"
     ]
    }
   ],
   "source": [
    "if \"ali\" in \"ali\":\n",
    "    print(\"Yes\")\n",
    "    # return \"Yes\"\n",
    "    print(\"NO\")\n",
    "else:\n",
    "    print(\"Else\")\n",
    "\n",
    "print(\"Done\")"
   ]
  },
  {
   "cell_type": "markdown",
   "id": "24cb021d-72e5-4e02-a1ff-fab940b99ce2",
   "metadata": {},
   "source": [
    "###  String Methods\n",
    "\n",
    "- Now the most important part of a string is string methods which you used everywhere whenever you built any project. Now we will study all-important string methods which are frequently used.\n",
    "\n",
    "####  The `len()`, `str.lower()`, `str.upper()` and `str.capitalize()` methods\n",
    "- The `len()` is a built-in function that returns the number of items of a container data type passed as argument. We can check the length of any data types that are collections with built-in `len()` function.\n",
    "It is considered a built-in function.\n",
    "- The `str.lower()` method return a copy of the string converted to lowercase.\n",
    "- The `str.upper()` method return a copy of the string converted to uppercase.\n",
    "- The `str.capitalize()` method return a capitalized version of the string."
   ]
  },
  {
   "cell_type": "code",
   "execution_count": 33,
   "id": "4b15d6e9-c295-4575-bd2c-26f540a810b8",
   "metadata": {},
   "outputs": [
    {
     "name": "stdout",
     "output_type": "stream",
     "text": [
      "['__add__', '__class__', '__contains__', '__delattr__', '__dir__', '__doc__', '__eq__', '__format__', '__ge__', '__getattribute__', '__getitem__', '__getnewargs__', '__getstate__', '__gt__', '__hash__', '__init__', '__init_subclass__', '__iter__', '__le__', '__len__', '__lt__', '__mod__', '__mul__', '__ne__', '__new__', '__reduce__', '__reduce_ex__', '__repr__', '__rmod__', '__rmul__', '__setattr__', '__sizeof__', '__str__', '__subclasshook__', 'capitalize', 'casefold', 'center', 'count', 'encode', 'endswith', 'expandtabs', 'find', 'format', 'format_map', 'index', 'isalnum', 'isalpha', 'isascii', 'isdecimal', 'isdigit', 'isidentifier', 'islower', 'isnumeric', 'isprintable', 'isspace', 'istitle', 'isupper', 'join', 'ljust', 'lower', 'lstrip', 'maketrans', 'partition', 'removeprefix', 'removesuffix', 'replace', 'rfind', 'rindex', 'rjust', 'rpartition', 'rsplit', 'rstrip', 'split', 'splitlines', 'startswith', 'strip', 'swapcase', 'title', 'translate', 'upper', 'zfill']\n"
     ]
    }
   ],
   "source": [
    "print(dir(str))"
   ]
  },
  {
   "cell_type": "code",
   "execution_count": 34,
   "id": "7706a1c0-cb9a-426c-a48d-1a538567f763",
   "metadata": {},
   "outputs": [],
   "source": [
    "# str."
   ]
  },
  {
   "cell_type": "code",
   "execution_count": 35,
   "id": "30a62e63-43ca-46a9-a03c-70f6319cb999",
   "metadata": {},
   "outputs": [
    {
     "name": "stdout",
     "output_type": "stream",
     "text": [
      "Orignial string =  introduction to Data science using python\n",
      "len(string1) =  41\n"
     ]
    }
   ],
   "source": [
    "string1 = \"introduction to Data science using python\"\n",
    "print('Orignial string = ', string1)\n",
    "\n",
    "rv = len(string1)\n",
    "print('len(string1) = ', rv)"
   ]
  },
  {
   "cell_type": "code",
   "execution_count": null,
   "id": "38a12e8f-c54c-414a-b373-783128c8d093",
   "metadata": {},
   "outputs": [],
   "source": [
    "# string1."
   ]
  },
  {
   "cell_type": "code",
   "execution_count": 36,
   "id": "32823809-85ae-4824-830d-8d05de7b7c65",
   "metadata": {},
   "outputs": [
    {
     "name": "stdout",
     "output_type": "stream",
     "text": [
      "string1.lower() =  introduction to data science using python\n",
      "string1.upper() =  INTRODUCTION TO DATA SCIENCE USING PYTHON\n"
     ]
    }
   ],
   "source": [
    "rv1 = string1.lower()\n",
    "print('string1.lower() = ', rv1)\n",
    "      \n",
    "print('string1.upper() = ', string1.upper())"
   ]
  },
  {
   "cell_type": "markdown",
   "id": "618c34b2-d6c9-4e20-9ea1-6ffda72d0f88",
   "metadata": {},
   "source": [
    "####  The `str.strip()` method\n",
    "- The `str.strip()` method removes whitespace characters from the beginning and end of a string.\n",
    "- The `str.lstrip()` method removes whitespace characters from the beginning of a string.\n",
    "- The `str.rstrip()` method removes whitespace characters from the end of a string."
   ]
  },
  {
   "cell_type": "code",
   "execution_count": 37,
   "id": "46398376-c850-4bf4-a5d7-f9e41e1a603d",
   "metadata": {},
   "outputs": [
    {
     "name": "stdout",
     "output_type": "stream",
     "text": [
      "    hello world, this is       Ehtisham Sadiq      \n",
      "hello world, this is       Ehtisham Sadiq\n"
     ]
    }
   ],
   "source": [
    "buffer =\"    hello world, this is       Ehtisham Sadiq      \"\n",
    "rv = buffer.strip()\n",
    "print(buffer)\n",
    "print(rv)"
   ]
  },
  {
   "cell_type": "code",
   "execution_count": 38,
   "id": "560787f0-17d2-4fe7-957d-d4c106f04ad3",
   "metadata": {},
   "outputs": [
    {
     "name": "stdout",
     "output_type": "stream",
     "text": [
      "    hello world, this is       Ehtisham Sadiq      \n",
      "hello world, this is       Ehtisham Sadiq      \n",
      "    hello world, this is       Ehtisham Sadiq\n"
     ]
    }
   ],
   "source": [
    "print(buffer)\n",
    "print(buffer.lstrip())\n",
    "print(buffer.rstrip())"
   ]
  },
  {
   "cell_type": "markdown",
   "id": "049d3823-1cad-41a7-a8fa-cdcd5ec6343a",
   "metadata": {},
   "source": [
    "#### The `str.split()` and `str.join()` method\n",
    "\n",
    "- The `str.split()` method splits a string into a list of strings at every occurrence of space character by default. You may pass a parameter `sep='i'` to split method to split at that specific character instead.\n",
    "- The `sep.join(list)` method is passed a list/iterable as parameter and is called on a separater character. It joins the strings inside the list to a single string and returns"
   ]
  },
  {
   "cell_type": "code",
   "execution_count": 39,
   "id": "39f0a5fe-fe95-4f63-ada0-089681b46d10",
   "metadata": {},
   "outputs": [
    {
     "data": {
      "text/plain": [
       "['Learning', 'Practical', 'Data', 'Science', 'with', 'Ehtisham', 'Sadiq']"
      ]
     },
     "execution_count": 39,
     "metadata": {},
     "output_type": "execute_result"
    }
   ],
   "source": [
    "str1 =  \"Learning Practical Data Science with Ehtisham Sadiq\"\n",
    "rv = str1.split()\n",
    "rv"
   ]
  },
  {
   "cell_type": "code",
   "execution_count": 48,
   "id": "8e0b7e98-83b6-453c-85f6-c2ae1dc82219",
   "metadata": {},
   "outputs": [
    {
     "data": {
      "text/plain": [
       "['Learn', 'ng Practical Data Science with Ehtisham Sadiq']"
      ]
     },
     "execution_count": 48,
     "metadata": {},
     "output_type": "execute_result"
    }
   ],
   "source": [
    "str1 =  \"Learning Practical Data Science with Ehtisham Sadiq\"\n",
    "rv = str1.split(sep='i', maxsplit=1)\n",
    "rv"
   ]
  },
  {
   "cell_type": "code",
   "execution_count": 41,
   "id": "00622f5b-c025-4f23-9ae0-f37958076d4c",
   "metadata": {},
   "outputs": [],
   "source": [
    "# The join() method takes all items in an iterable and joins them into one string.\n",
    "mylist = ['Learning', 'Practical', 'Data', 'Science', 'with', 'Ehtisham', 'Sadiq']\n",
    "\n",
    "#Note the separator is space character\n",
    "mystr = ' '.join(mylist)"
   ]
  },
  {
   "cell_type": "code",
   "execution_count": 42,
   "id": "f3590799-e606-4281-b765-9edfbedf8621",
   "metadata": {},
   "outputs": [
    {
     "data": {
      "text/plain": [
       "'Learning Practical Data Science with Ehtisham Sadiq'"
      ]
     },
     "execution_count": 42,
     "metadata": {},
     "output_type": "execute_result"
    }
   ],
   "source": [
    "mystr"
   ]
  },
  {
   "cell_type": "code",
   "execution_count": 44,
   "id": "c77b6216-2f82-4eb3-b3be-ffe565d93ffd",
   "metadata": {},
   "outputs": [],
   "source": [
    "# You can call join() method on a separator or your choice\n",
    "mylist = ['Ehtisham', 'Ali', 'Ayesha', 'Dua', 'Adeen', 'Khubaib', str(21), str(18)]\n",
    "\n",
    "#Note the separator is hash character\n",
    "mystr = '#'.join(mylist)"
   ]
  },
  {
   "cell_type": "code",
   "execution_count": 45,
   "id": "3a2bf2a7-a1fe-41ba-9b0a-a7f256360cbc",
   "metadata": {},
   "outputs": [
    {
     "data": {
      "text/plain": [
       "'Ehtisham#Ali#Ayesha#Dua#Adeen#Khubaib#21#18'"
      ]
     },
     "execution_count": 45,
     "metadata": {},
     "output_type": "execute_result"
    }
   ],
   "source": [
    "mystr"
   ]
  },
  {
   "cell_type": "code",
   "execution_count": 46,
   "id": "db56d26e-92c4-47d0-ab33-4ad2d4661410",
   "metadata": {},
   "outputs": [
    {
     "name": "stdout",
     "output_type": "stream",
     "text": [
      "['Ehtisham', 'Ali', 'Ayesha', 'Dua', 'Adeen', 'Khubaib', '21', '18'] <class 'list'>\n",
      "Ehtisham#Ali#Ayesha#Dua#Adeen#Khubaib#21#18 <class 'str'>\n"
     ]
    }
   ],
   "source": [
    "print(mylist, type(mylist))\n",
    "print(mystr, type(mystr))"
   ]
  },
  {
   "cell_type": "markdown",
   "id": "898fda74-cda4-4e31-9b79-95acf152d533",
   "metadata": {},
   "source": [
    "- The `str.startswith()` method\n",
    "- The `str.endsswith()` method\n",
    "- The `str.find()` method\n",
    "- Use `str.replace()` method to find a substring\n",
    "- The `str.format()` method\n"
   ]
  },
  {
   "cell_type": "markdown",
   "id": "9f8aac1f-a9ba-4127-b1a6-2560d613a658",
   "metadata": {},
   "source": [
    "#### Check your Concepts\n",
    "\n",
    "Try answering the following questions to test your understanding of the topics covered in this notebook:\n",
    "\n",
    "1. What are the container types available in Python?\n",
    "2. What kind of data does the String data type represent?\n",
    "3. What are the different ways of creating strings in Python?\n",
    "4. What is the difference between strings created using single quotes, i.e. `'` and `'` vs. those created using double quotes, i.e. `\"` and `\"`?\n",
    "5. How do you create multi-line strings in Python?\n",
    "6. What is the newline character, `\\n`?\n",
    "8. How do you check the length of a string?\n",
    "9. How do you convert a string into a list of characters?\n",
    "10. How do you access a specific character from a string?\n",
    "11. How do you access a range of characters from a string?\n",
    "12. How do you check if a specific character occurs in a string?\n",
    "13. How do you check if a smaller string occurs within a bigger string?\n",
    "14. How do you join two or more strings?\n",
    "15. What are \"methods\" in Python? How are they different from functions?\n",
    "16. What do the `.count`, `.isalnum` and `.isalpha` methods on strings do?\n",
    "17. How do you replace a specific part of a string with something else?\n",
    "18. How do you split the string \"Sun,Mon,Tue,Wed,Thu,Fri,Sat\" into a list of days?\n",
    "19. How do you remove whitespace from the beginning and end of a string?\n",
    "20. What is the string `.format` method used for? Can you give an example?\n",
    "21. What are the benefits of using the `.format` method instead of string concatenation?\n",
    "22. How do you convert a value of another type to a string?\n",
    "23. How do you check if two strings have the same value?\n",
    "24. Where can you find the list of all the methods supported by strings?"
   ]
  },
  {
   "cell_type": "code",
   "execution_count": 1,
   "id": "523332c8-202c-44ca-a711-8f887478ed30",
   "metadata": {},
   "outputs": [
    {
     "data": {
      "text/plain": [
       "('Ehtisham', 'Sadiq')"
      ]
     },
     "execution_count": 1,
     "metadata": {},
     "output_type": "execute_result"
    }
   ],
   "source": [
    "name = \"Ehtisham\", \"Sadiq\" # packing\n",
    "name"
   ]
  },
  {
   "cell_type": "code",
   "execution_count": 2,
   "id": "c47aee80-0e60-4566-ab55-15207ea0d8c1",
   "metadata": {},
   "outputs": [
    {
     "name": "stdout",
     "output_type": "stream",
     "text": [
      "Ehtisham\n",
      "Sadiq\n"
     ]
    }
   ],
   "source": [
    "first_name , last_name = name # unpacking\n",
    "print(first_name)\n",
    "print(last_name)"
   ]
  },
  {
   "cell_type": "code",
   "execution_count": 7,
   "id": "45faa766-dbd4-4f6d-8498-46888798bce0",
   "metadata": {},
   "outputs": [
    {
     "data": {
      "text/plain": [
       "'EhtishamSadiq'"
      ]
     },
     "execution_count": 7,
     "metadata": {},
     "output_type": "execute_result"
    }
   ],
   "source": [
    "name = \"Ehtisham\"                \"Sadiq\"\n",
    "name"
   ]
  },
  {
   "cell_type": "code",
   "execution_count": null,
   "id": "0245ba9a-993a-408b-925b-e728d6d37963",
   "metadata": {},
   "outputs": [],
   "source": []
  },
  {
   "cell_type": "code",
   "execution_count": 5,
   "id": "7c7525d2-fa02-4893-a161-7430de7a42a6",
   "metadata": {},
   "outputs": [
    {
     "name": "stdout",
     "output_type": "stream",
     "text": [
      "My name is Aliand I'm20years old.I have-90in English\n"
     ]
    }
   ],
   "source": [
    "# str1 = \"ALI\"\n",
    "# str1[-1:-5]\n",
    "name = \"Ali\"\n",
    "age = 20\n",
    "marks = -90\n",
    "print(\"My name is \"+name+\"and I'm\"+str(age)+\"years old.\"+\"I have\"+str(marks)+\"in English\")  "
   ]
  },
  {
   "cell_type": "code",
   "execution_count": 9,
   "id": "3829849b-0a79-484b-b64f-2637d55cb9d2",
   "metadata": {},
   "outputs": [
    {
     "data": {
      "text/plain": [
       "-1"
      ]
     },
     "execution_count": 9,
     "metadata": {},
     "output_type": "execute_result"
    }
   ],
   "source": [
    "# \"abcdabefabgh\".find(\"\")"
   ]
  },
  {
   "cell_type": "code",
   "execution_count": null,
   "id": "4b4e0d0c-202a-4963-8854-71eeb8901401",
   "metadata": {},
   "outputs": [],
   "source": []
  },
  {
   "cell_type": "markdown",
   "id": "b5dcc605-0998-48df-93fa-f98d9ac208ab",
   "metadata": {},
   "source": [
    "<h2>List Data Structure</h2>\n",
    "\n",
    "> **A List is a `numerically ordered sequence` of elements that can store elements of `heterogeneous types`, is `iterable`, `mutable` and allows `duplicate` elements.**\n",
    "\n",
    "\n",
    "* **Collections** allows us to put many values in a single variable. Lists, Sets, Tuples, and Dictionaries are some types of Python collections\n",
    "* **Sequences** are collections of objects, however, each object in a sequence is assigned an index and the items of a sequence can be manipulated using its respective index. List and Tuples fall into this category."
   ]
  },
  {
   "cell_type": "code",
   "execution_count": null,
   "id": "16197d10-26c4-4a9f-a3f4-a419edc04913",
   "metadata": {},
   "outputs": [],
   "source": [
    "# collection -> l1=[2,3,4,5,6,7,8]\n",
    " # sequences (l1, l2, set1,set2))"
   ]
  },
  {
   "cell_type": "markdown",
   "id": "a6702052-f3ae-4383-a6c3-47d896f00974",
   "metadata": {},
   "source": [
    "### How to Create Lists?\n",
    ">- **A Python List is a numerically ordered sequence of elements that can store multiple items of heterogeneous types and allows duplicate elements.**\n",
    ">- **A Python List can be created by placing comma separated values in square brackets.**"
   ]
  },
  {
   "cell_type": "code",
   "execution_count": 8,
   "id": "61e7eaa8-6381-4664-a1f1-aa109aab3053",
   "metadata": {},
   "outputs": [
    {
     "name": "stdout",
     "output_type": "stream",
     "text": [
      "[1, 2, 3, 4, 5]\n"
     ]
    },
    {
     "data": {
      "text/plain": [
       "list"
      ]
     },
     "execution_count": 8,
     "metadata": {},
     "output_type": "execute_result"
    }
   ],
   "source": [
    "# It allows us to store elements of different data types (number, boolean, string, list) in one container.\n",
    "\n",
    "list1 = [1,2,3,4,5]   #list of integers\n",
    "print(list1)\n",
    "type(list1)"
   ]
  },
  {
   "cell_type": "code",
   "execution_count": 9,
   "id": "1691b363-f025-403a-9378-1dca669e1ee5",
   "metadata": {},
   "outputs": [
    {
     "name": "stdout",
     "output_type": "stream",
     "text": [
      "[3.7, 6.5, 3.8, 7.95]\n"
     ]
    }
   ],
   "source": [
    "list2 = [3.7, 6.5, 3.8, 7.95 ]   #list of floats\n",
    "print(list2)"
   ]
  },
  {
   "cell_type": "code",
   "execution_count": 10,
   "id": "53cdeee3-ca1d-48d9-9eed-cb4225afbac6",
   "metadata": {},
   "outputs": [
    {
     "name": "stdout",
     "output_type": "stream",
     "text": [
      "['hello', 'this', 'F', 'good show']\n",
      "[True, False, True]\n",
      "[]\n"
     ]
    }
   ],
   "source": [
    "list3 = [\"hello\", \"this\", \"F\", \"good show\"]   #list of strings\n",
    "print(list3)\n",
    "\n",
    "list4 = [True, False, True]   #list of boolean\n",
    "print(list4)\n",
    "\n",
    "list5 = []   #this will create an empty list\n",
    "print(list5)\n"
   ]
  },
  {
   "cell_type": "code",
   "execution_count": null,
   "id": "d6a77e38-03ea-4045-a10c-2699ec1a0d70",
   "metadata": {},
   "outputs": [],
   "source": []
  },
  {
   "cell_type": "markdown",
   "id": "c9dd5e7e-0ec3-4343-a1a5-1b8a1342372b",
   "metadata": {},
   "source": [
    "### Proof of concepts\n",
    "\n",
    "#### a. Lists are heterogeneous\n",
    "- Lists are heterogeneous, as their elements/items can be of any data type"
   ]
  },
  {
   "cell_type": "code",
   "execution_count": 14,
   "id": "d07ef249-8a9b-4a25-9a37-8c71060af82f",
   "metadata": {},
   "outputs": [
    {
     "name": "stdout",
     "output_type": "stream",
     "text": [
      "list1:  ['Ehtisham', 30, 5.5, '', []]\n",
      "Ehtisham Sadiq\n",
      "EhtishamSadiq\n",
      "EhtishamSadiq\n"
     ]
    }
   ],
   "source": [
    "list1 = [\"Ehtisham\", 30, 5.5, \"\", []]\n",
    "print(\"list1: \", list1)\n",
    "print(\"Ehtisham\", \"Sadiq\")\n",
    "print(\"Ehtisham\", \"Sadiq\", sep=\"\")\n",
    "print(\"Ehtisham\"+\"Sadiq\")"
   ]
  },
  {
   "cell_type": "markdown",
   "id": "112d4965-e679-4404-ad76-d9f0ee89de0f",
   "metadata": {},
   "source": [
    "#### b. Lists are ordered\n",
    "- Lists are ordered means every element is associated by an index\n",
    "- Every time you access list elements they will show up in same sequence. \n",
    "- Moreover, `two lists having same elements in different order are not same`."
   ]
  },
  {
   "cell_type": "code",
   "execution_count": 17,
   "id": "ad2e93ab-7d24-4f54-b9ed-dd5b1a50a268",
   "metadata": {},
   "outputs": [
    {
     "name": "stdout",
     "output_type": "stream",
     "text": [
      "4368091520\n",
      "4368097408\n",
      "False\n",
      "False\n"
     ]
    }
   ],
   "source": [
    "a = [1, 2, 3]\n",
    "b = [2, 3, 1]\n",
    "print(id(a), id(b), a is b, a == b, sep=\"\\n\")"
   ]
  },
  {
   "cell_type": "code",
   "execution_count": null,
   "id": "3d86d6ad-f5cb-45ac-bf44-896116e225bb",
   "metadata": {},
   "outputs": [],
   "source": []
  },
  {
   "cell_type": "markdown",
   "id": "1088818f-bd68-4944-bd3f-7e2000d0b437",
   "metadata": {},
   "source": [
    "#### c. Lists are mutable\n",
    "- We have seen in previous session that Strings are **immutable**, i.e., we cannot change the contents of a string, however, we can assign an entirely new string to a variable\n",
    "- List on the contrary are **mutable**, i.e., once a List object is created, you can change an element of the list using the index `[]` and assignment `=' operator"
   ]
  },
  {
   "cell_type": "code",
   "execution_count": 18,
   "id": "ff4bfe91-1f32-4c74-b32a-1e87f24ec7a3",
   "metadata": {},
   "outputs": [
    {
     "data": {
      "text/plain": [
       "[10, 20, 30, 40, 50]"
      ]
     },
     "execution_count": 18,
     "metadata": {},
     "output_type": "execute_result"
    }
   ],
   "source": [
    "numbers = [10, 20, 30, 40, 50]\n",
    "numbers"
   ]
  },
  {
   "cell_type": "code",
   "execution_count": 19,
   "id": "ab75ee50-dc6d-4b4c-bd9a-c519b8745212",
   "metadata": {},
   "outputs": [
    {
     "name": "stdout",
     "output_type": "stream",
     "text": [
      "numbers:  [10, 20, 555, 40, 50]\n"
     ]
    }
   ],
   "source": [
    "numbers[2] = 555\n",
    "\n",
    "print(\"numbers: \", numbers)"
   ]
  },
  {
   "cell_type": "markdown",
   "id": "72f8c87c-a0b2-4567-8c93-31b3e05dbbd3",
   "metadata": {},
   "source": [
    "#### d. Lists can have duplicate emements"
   ]
  },
  {
   "cell_type": "code",
   "execution_count": 20,
   "id": "c39fb063-fec2-4e70-b51c-c91849d64d29",
   "metadata": {},
   "outputs": [
    {
     "data": {
      "text/plain": [
       "['Ehtisham', 'Ali', 'Ayesha', 'Ehtisham', 'Ahmed']"
      ]
     },
     "execution_count": 20,
     "metadata": {},
     "output_type": "execute_result"
    }
   ],
   "source": [
    "# lists allow duplicate elements\n",
    "names = ['Ehtisham', 'Ali', 'Ayesha', 'Ehtisham', 'Ahmed']\n",
    "names"
   ]
  },
  {
   "cell_type": "code",
   "execution_count": 29,
   "id": "a293ae36-cb9e-4b02-9c5a-bfc0a6640d25",
   "metadata": {},
   "outputs": [
    {
     "data": {
      "text/plain": [
       "{'Ahmed', 'Ali', 'Ayesha', 'Ehtisham'}"
      ]
     },
     "execution_count": 29,
     "metadata": {},
     "output_type": "execute_result"
    }
   ],
   "source": [
    "set1 = set(names) # set does not allow duplicate elements\n",
    "set1"
   ]
  },
  {
   "cell_type": "code",
   "execution_count": 24,
   "id": "64b4804c-40a4-415b-9499-57c85bbbb8cf",
   "metadata": {},
   "outputs": [
    {
     "name": "stdout",
     "output_type": "stream",
     "text": [
      "['Ehtisham', 'Ali', 'Ayesha', 'Ehtisham', 'Ahmed']\n",
      "{'Ali', 'Ehtisham', 'Ayesha', 'Ahmed'}\n"
     ]
    }
   ],
   "source": [
    "print(names)\n",
    "print(set1)"
   ]
  },
  {
   "cell_type": "markdown",
   "id": "e48a49c4-86c5-4c91-abcc-ef8530f2b0ba",
   "metadata": {},
   "source": [
    "#### e. Lists can be nested to arbitrary depth\n",
    "- You can have list within list and that can be done to an arbitrary depth. You are only restricted to the available memory on your system"
   ]
  },
  {
   "cell_type": "code",
   "execution_count": 31,
   "id": "d6d64329-7092-451d-9559-9de455b4c7d1",
   "metadata": {},
   "outputs": [
    {
     "name": "stdout",
     "output_type": "stream",
     "text": [
      "[1, 2, 3, [4, 5], [6, 7, 8, 9], 10, 11]\n"
     ]
    },
    {
     "data": {
      "text/plain": [
       "(None, 7)"
      ]
     },
     "execution_count": 31,
     "metadata": {},
     "output_type": "execute_result"
    }
   ],
   "source": [
    "# A list having two sub-lists within it\n",
    "a = [1,2,3,[4,5],[6,7,8,9],10,11]\n",
    "print(a), len(a)"
   ]
  },
  {
   "cell_type": "code",
   "execution_count": 32,
   "id": "e01b8781-f562-4f24-95cd-a3a1cfa0f7d1",
   "metadata": {},
   "outputs": [
    {
     "name": "stdout",
     "output_type": "stream",
     "text": [
      "[1, 2, 3, [4, 5, [6, 7, 8, [9, 10, 11]]]] 4\n"
     ]
    }
   ],
   "source": [
    "# A list having a sublist, which is further having a sublist and that again having a sublist\n",
    "b = [1,2,3,[4,5,[6,7,8,[9,10,11]]]]\n",
    "# a, b\n",
    "print(b , len(b))"
   ]
  },
  {
   "cell_type": "markdown",
   "id": "78750530-5f8e-44b8-9fd3-8a1666033e22",
   "metadata": {},
   "source": [
    "#### f. Packing and Unpacking Lists"
   ]
  },
  {
   "cell_type": "code",
   "execution_count": 33,
   "id": "8ce581ec-6177-46b8-9df0-3e55d4b9b95c",
   "metadata": {},
   "outputs": [
    {
     "data": {
      "text/plain": [
       "['Learning', 'Practical', 'Data', 'Science', 'with', 'Ehtisham', 'Sadiq']"
      ]
     },
     "execution_count": 33,
     "metadata": {},
     "output_type": "execute_result"
    }
   ],
   "source": [
    "# you can unpack list elements\n",
    "mylist = ['Learning', 'Practical', 'Data', 'Science', 'with', 'Ehtisham', 'Sadiq']\n",
    "mylist"
   ]
  },
  {
   "cell_type": "code",
   "execution_count": 34,
   "id": "0db41f3a-b4ef-4010-9e2f-64556f232c2f",
   "metadata": {},
   "outputs": [
    {
     "name": "stdout",
     "output_type": "stream",
     "text": [
      "Learning\n",
      "Practical\n",
      "Data\n",
      "Science\n",
      "with\n",
      "Ehtisham\n",
      "Sadiq\n"
     ]
    }
   ],
   "source": [
    "a, b, c, d, e, f, g = mylist # the number of variables on the left must match the number of elements in the list\n",
    "\n",
    "print (a, b,c,d, e,f,g, sep=\"\\n\")"
   ]
  },
  {
   "cell_type": "code",
   "execution_count": 35,
   "id": "be0ff919-c315-46b6-813e-d11bef375634",
   "metadata": {},
   "outputs": [
    {
     "name": "stdout",
     "output_type": "stream",
     "text": [
      "('Learning', 'Practical', 'Data', 'Science', 'with', 'Ehtisham', 'Sadiq')\n",
      "<class 'tuple'>\n"
     ]
    }
   ],
   "source": [
    "# you can pack individual elements to a list\n",
    "tuple1 = a,b,c,d,e,f,g\n",
    "print(tuple1)\n",
    "print(type(tuple1))"
   ]
  },
  {
   "cell_type": "code",
   "execution_count": 36,
   "id": "be359872-ea80-44a2-bb1b-b22aa1e36513",
   "metadata": {},
   "outputs": [],
   "source": [
    "mylist2 = list(tuple1)"
   ]
  },
  {
   "cell_type": "code",
   "execution_count": 37,
   "id": "176704ce-6897-4b91-81d2-ebe99eaff502",
   "metadata": {},
   "outputs": [
    {
     "name": "stdout",
     "output_type": "stream",
     "text": [
      "['Learning', 'Practical', 'Data', 'Science', 'with', 'Ehtisham', 'Sadiq']\n",
      "<class 'list'>\n"
     ]
    }
   ],
   "source": [
    "print(mylist2)\n",
    "print(type(mylist2))"
   ]
  },
  {
   "cell_type": "code",
   "execution_count": 21,
   "id": "51a855e7-6cc1-478f-be32-c2e072171150",
   "metadata": {},
   "outputs": [
    {
     "data": {
      "text/plain": [
       "[22, 34, 'Ehtisham', 'Ali', 'A', 'y', 'e', 's', 'h', 'a']"
      ]
     },
     "execution_count": 21,
     "metadata": {},
     "output_type": "execute_result"
    }
   ],
   "source": [
    "list1 = [22, 34, \"Ehtisham\", \"Ali\"]\n",
    "list1[4:3] = \"Ayesha\"\n",
    "list1"
   ]
  },
  {
   "cell_type": "markdown",
   "id": "0f4310c1-6846-4b9f-88d5-626c638b24a5",
   "metadata": {},
   "source": [
    "###  `Index()` method to access elements of a list\n",
    "- Since Lists like Strings are of type sequence, and any element within a sequence can be accessed by entrying an index within square brackets. So naturally this must work for Lists as well strings.\n",
    "- Similarly, if we want to find out the index of a specific item/element, we can use the `index()` method of List class"
   ]
  },
  {
   "cell_type": "code",
   "execution_count": 39,
   "id": "03cb51c0-d8b4-4394-832f-22579877f44c",
   "metadata": {},
   "outputs": [
    {
     "data": {
      "text/plain": [
       "[27, 4.5, 'Ehtisham', 64, 'ali', 19, 'Ehtisham']"
      ]
     },
     "execution_count": 39,
     "metadata": {},
     "output_type": "execute_result"
    }
   ],
   "source": [
    "# index(value) method is used when you know the list element and want to get its index\n",
    "# index(value) method returns the index of the first matched item with its only argument\n",
    "mylist = [27, 4.5, 'Ehtisham', 64, 'ali', 19, 'Ehtisham']\n",
    "mylist"
   ]
  },
  {
   "cell_type": "code",
   "execution_count": 40,
   "id": "d0527e86-bf1d-4160-a6f0-6870c4a7550c",
   "metadata": {},
   "outputs": [
    {
     "name": "stdout",
     "output_type": "stream",
     "text": [
      "Help on method_descriptor:\n",
      "\n",
      "index(self, value, start=0, stop=9223372036854775807, /)\n",
      "    Return first index of value.\n",
      "    \n",
      "    Raises ValueError if the value is not present.\n",
      "\n"
     ]
    }
   ],
   "source": [
    "help(list.index)"
   ]
  },
  {
   "cell_type": "code",
   "execution_count": 41,
   "id": "6f1ecea3-35b8-49e5-b151-c424d67d93fa",
   "metadata": {},
   "outputs": [
    {
     "ename": "ValueError",
     "evalue": "'ahmed' is not in list",
     "output_type": "error",
     "traceback": [
      "\u001b[0;31m---------------------------------------------------------------------------\u001b[0m",
      "\u001b[0;31mValueError\u001b[0m                                Traceback (most recent call last)",
      "Cell \u001b[0;32mIn[41], line 1\u001b[0m\n\u001b[0;32m----> 1\u001b[0m mylist\u001b[38;5;241m.\u001b[39mindex(\u001b[38;5;124m'\u001b[39m\u001b[38;5;124mahmed\u001b[39m\u001b[38;5;124m'\u001b[39m)\n",
      "\u001b[0;31mValueError\u001b[0m: 'ahmed' is not in list"
     ]
    }
   ],
   "source": [
    "mylist.index('ahmed')"
   ]
  },
  {
   "cell_type": "code",
   "execution_count": 42,
   "id": "53c1fca9-a58c-4973-9a30-c7f490a10379",
   "metadata": {},
   "outputs": [
    {
     "data": {
      "text/plain": [
       "2"
      ]
     },
     "execution_count": 42,
     "metadata": {},
     "output_type": "execute_result"
    }
   ],
   "source": [
    "mylist.index('Ehtisham')"
   ]
  },
  {
   "cell_type": "code",
   "execution_count": null,
   "id": "a7805d19-18a4-459b-9fcc-16746adced36",
   "metadata": {},
   "outputs": [],
   "source": []
  },
  {
   "cell_type": "markdown",
   "id": "a01dedb8-354f-4958-a140-63c6474bb3ec",
   "metadata": {},
   "source": [
    "### Slicing Lists\n",
    "- Like anyother sequence object we can perform slicing with lists as well.\n",
    "- Slicing is the process of obtaining a portion of a list by using its indices.\n",
    "- Given a list, we can use the following template to slice it and obtain a sublist:\n",
    "```\n",
    "mylist[start:end:step]\n",
    "```\n",
    "\n",
    "- **start** is the index from where we want the sublist to start. If start is not provided, slicing starts from the beginning.\n",
    "- **end** is the index where we want our sublist to end (not inclusive in the sublist). If end is not provided, slicing goes till the last element of the list.\n",
    "- **step** is the step through which we want to skip elements in the list. The default step is 1, so we iterate through every element of the list."
   ]
  },
  {
   "cell_type": "code",
   "execution_count": 43,
   "id": "ceebd7df-0c27-47c0-851e-e95686866655",
   "metadata": {},
   "outputs": [
    {
     "data": {
      "text/plain": [
       "['a', 'b', 'c', 'd', 'e', 'f', 'g', 'h', 'i']"
      ]
     },
     "execution_count": 43,
     "metadata": {},
     "output_type": "execute_result"
    }
   ],
   "source": [
    "list1 = ['a','b','c','d','e','f','g','h','i']\n",
    "list1"
   ]
  },
  {
   "cell_type": "code",
   "execution_count": 44,
   "id": "eb1d65e1-657c-4fde-96c7-ae7f04924600",
   "metadata": {},
   "outputs": [
    {
     "data": {
      "text/plain": [
       "['a', 'b', 'c', 'd', 'e', 'f', 'g', 'h', 'i']"
      ]
     },
     "execution_count": 44,
     "metadata": {},
     "output_type": "execute_result"
    }
   ],
   "source": [
    "list1[::]"
   ]
  },
  {
   "cell_type": "code",
   "execution_count": 45,
   "id": "b85b9a7d-1d52-412f-b61d-c73bea50417a",
   "metadata": {},
   "outputs": [
    {
     "data": {
      "text/plain": [
       "['d', 'e', 'f', 'g', 'h', 'i']"
      ]
     },
     "execution_count": 45,
     "metadata": {},
     "output_type": "execute_result"
    }
   ],
   "source": [
    "list1[3:]"
   ]
  },
  {
   "cell_type": "code",
   "execution_count": 46,
   "id": "64f27f0b-9cfa-41c5-90ed-c33eef2149f2",
   "metadata": {},
   "outputs": [
    {
     "data": {
      "text/plain": [
       "['c', 'd', 'e']"
      ]
     },
     "execution_count": 46,
     "metadata": {},
     "output_type": "execute_result"
    }
   ],
   "source": [
    "list1[2:5]"
   ]
  },
  {
   "cell_type": "code",
   "execution_count": 47,
   "id": "7548fbc0-8c49-48a6-8a89-4a6b19725f76",
   "metadata": {},
   "outputs": [
    {
     "data": {
      "text/plain": [
       "['c', 'e', 'g']"
      ]
     },
     "execution_count": 47,
     "metadata": {},
     "output_type": "execute_result"
    }
   ],
   "source": [
    "list1[2:7:2]"
   ]
  },
  {
   "cell_type": "markdown",
   "id": "4c7485af-5c78-486b-a73a-c3f1d6ada1e5",
   "metadata": {},
   "source": [
    "Here are some experiments you should try out:\n",
    "\n",
    "* Try setting one or both indices of the range are larger than the size of the list, e.g., `a_list[2:10]`\n",
    "* Try setting the start index of the range to be larger than the end index, e.g., `a_list[12:10]`\n",
    "* Try leaving out the start or end index of a range, e.g., `a_list[2:]` or `a_list[:5]`\n",
    "* Try using negative indices for the range, e.g., `a_list[-2:-5]` or `a_list[-5:-2]` (can you explain the results?)\n",
    "\n",
    "> The flexible and interactive nature of Jupyter notebooks makes them an excellent tool for learning and experimentation. If you are new to Python, you can resolve most questions as soon as they arise simply by typing the code into a cell and executing it. **Let your curiosity run wild, discover what Python is capable of and what it isn't!**"
   ]
  },
  {
   "cell_type": "markdown",
   "id": "744cce06-fad7-41a1-b74d-069696367a83",
   "metadata": {},
   "source": [
    "###  List Concatenation and Repetition using `+` and `*`"
   ]
  },
  {
   "cell_type": "code",
   "execution_count": null,
   "id": "a7da64f4-db9b-4010-9e99-530550dfcbdb",
   "metadata": {},
   "outputs": [],
   "source": []
  },
  {
   "cell_type": "markdown",
   "id": "cdbf6a7e-a80d-4fbc-bc2f-a2237e71a914",
   "metadata": {},
   "source": [
    "### Modifying/Adding elements to a list\n",
    "\n",
    "- We have worked on different methods of String class . Similarly there are several built-in methods of the List class. \n",
    "> **Remember, unlike String methods, most methods of List class modify the original List rather than returning a new one.**\n",
    "- Lists are dynamic, as we write our Python program, we can actually make changes to our already created list, whithout having to go for compiling it again. \n",
    "- If we have to add certain elements to an already created list, the original list gorws dynamically without the need of compiling/running the program again (as in case of heap memory in C/C++)\n",
    "\n",
    "- We can use a list methods to perform various tasks on a list object and modify it. \n",
    "- Some list methods that can be used to alter a list are (append, insert, extend, remove, pop, clear, index, count, sort, reverse, split and join)\n",
    "- Check out some common list operations here: https://www.w3schools.com/python/python_ref_list.asp ."
   ]
  },
  {
   "cell_type": "markdown",
   "id": "dcc45680-9ea0-4658-b816-6c3f6bddc31d",
   "metadata": {},
   "source": [
    "#### a. Modifying/Adding elements to a list using [ ] operator"
   ]
  },
  {
   "cell_type": "code",
   "execution_count": 48,
   "id": "b8e9090c-948e-4c0f-901a-0c092c517767",
   "metadata": {},
   "outputs": [
    {
     "name": "stdout",
     "output_type": "stream",
     "text": [
      "Original List :  ['data science', 'machine learning', 2, 5, 7]\n"
     ]
    }
   ],
   "source": [
    "mylist = ['data science', 'machine learning', 2, 5, 7]\n",
    "# Let us change the second element of this list\n",
    "print(\"Original List : \", mylist)"
   ]
  },
  {
   "cell_type": "code",
   "execution_count": 49,
   "id": "b8573836-a721-4628-a184-06f405b6f40e",
   "metadata": {},
   "outputs": [
    {
     "name": "stdout",
     "output_type": "stream",
     "text": [
      "5\n",
      "New List/ Modified List :  ['data science', 'big data', 2, 5, 7]\n"
     ]
    }
   ],
   "source": [
    "mylist[1] = 'big data' #item assignment\n",
    "print(len(mylist))\n",
    "print(\"New List/ Modified List : \",mylist)"
   ]
  },
  {
   "cell_type": "code",
   "execution_count": 50,
   "id": "cde37875-cb0f-42ee-b859-8fcecebbfebd",
   "metadata": {},
   "outputs": [
    {
     "name": "stdout",
     "output_type": "stream",
     "text": [
      "Original List :  ['data science', 'machine learning', 2, 5, 7]\n"
     ]
    }
   ],
   "source": [
    "# We can use the slice index to modify multiple list elements in one go\n",
    "mylist = ['data science', 'machine learning', 2, 5, 7]\n",
    "print(\"Original List : \", mylist)"
   ]
  },
  {
   "cell_type": "code",
   "execution_count": 51,
   "id": "9db61942-8d5b-4215-8507-b9107ca8fe5f",
   "metadata": {},
   "outputs": [
    {
     "name": "stdout",
     "output_type": "stream",
     "text": [
      "5\n",
      "Modified List :  ['english', 'urdu', 2, 5, 7]\n"
     ]
    }
   ],
   "source": [
    "mylist[0:2] = ['english', 'urdu'] # Note we are replacing two elements with two elements\n",
    "print(len(mylist))\n",
    "print(\"Modified List : \", mylist)"
   ]
  },
  {
   "cell_type": "code",
   "execution_count": 52,
   "id": "0e1132d2-f23c-447d-bcaf-661fd1aa57a5",
   "metadata": {},
   "outputs": [
    {
     "data": {
      "text/plain": [
       "['data science', 'machine learning', 2, 5, 7]"
      ]
     },
     "execution_count": 52,
     "metadata": {},
     "output_type": "execute_result"
    }
   ],
   "source": [
    "# We can replace more number of elements with lesser number of elements in a list\n",
    "mylist = ['data science', 'machine learning', 2, 5, 7]\n",
    "mylist"
   ]
  },
  {
   "cell_type": "code",
   "execution_count": 53,
   "id": "2cb914e4-82b3-44c4-8c33-998c775329f9",
   "metadata": {},
   "outputs": [
    {
     "data": {
      "text/plain": [
       "['BIG DATA', 2, 5, 7]"
      ]
     },
     "execution_count": 53,
     "metadata": {},
     "output_type": "execute_result"
    }
   ],
   "source": [
    "mylist[0:2] = ['BIG DATA'] # Note we are replacing two elements with one element\n",
    "mylist"
   ]
  },
  {
   "cell_type": "markdown",
   "id": "63b0c30b-af3f-4695-a804-7e370d4ce685",
   "metadata": {},
   "source": [
    "#### b. Adding elements to a list using `list.append(value)` method\n",
    "- `list.append(value)` method is used when you want to add a single element at the end of the list\n",
    "- It is passed one argument which is the element to be inserted and returns none/void"
   ]
  },
  {
   "cell_type": "code",
   "execution_count": 54,
   "id": "9f4778e8-1714-40c4-b30d-82e29598d568",
   "metadata": {},
   "outputs": [
    {
     "name": "stdout",
     "output_type": "stream",
     "text": [
      "[2, 4, 6, 8]\n"
     ]
    }
   ],
   "source": [
    "list1 = [2, 4, 6, 8]\n",
    "print(list1)"
   ]
  },
  {
   "cell_type": "code",
   "execution_count": 55,
   "id": "779c6359-8dd0-4427-8647-c235b98a133e",
   "metadata": {},
   "outputs": [],
   "source": [
    "list1.append(4.631)"
   ]
  },
  {
   "cell_type": "code",
   "execution_count": 56,
   "id": "d6ec728f-c499-41f0-b81f-80cd2b2d8f1b",
   "metadata": {},
   "outputs": [
    {
     "data": {
      "text/plain": [
       "[2, 4, 6, 8, 4.631]"
      ]
     },
     "execution_count": 56,
     "metadata": {},
     "output_type": "execute_result"
    }
   ],
   "source": [
    "list1"
   ]
  },
  {
   "cell_type": "code",
   "execution_count": 57,
   "id": "7d52e7bf-6ed2-407b-a6ce-24d1eb84e580",
   "metadata": {},
   "outputs": [],
   "source": [
    "# You cannot add multiple elements using an append\n",
    "# If you try it will actually add those elements as a sub-list\n",
    "list1 = [2, 4, 6, 8]\n",
    "list1.append([4.631, 'hello'])"
   ]
  },
  {
   "cell_type": "code",
   "execution_count": 58,
   "id": "7d00d638-4f43-48c7-8866-c2c6b55d620a",
   "metadata": {},
   "outputs": [
    {
     "data": {
      "text/plain": [
       "[2, 4, 6, 8, [4.631, 'hello']]"
      ]
     },
     "execution_count": 58,
     "metadata": {},
     "output_type": "execute_result"
    }
   ],
   "source": [
    "list1"
   ]
  },
  {
   "cell_type": "code",
   "execution_count": null,
   "id": "7877d311-fdf4-4b7b-aa05-98dddd2bf79c",
   "metadata": {},
   "outputs": [],
   "source": []
  },
  {
   "cell_type": "code",
   "execution_count": 27,
   "id": "e009c67b-93cc-409e-99ef-29372ece344b",
   "metadata": {},
   "outputs": [
    {
     "data": {
      "text/plain": [
       "['Ali', 'Ehtisham', 'Ayesha', ['Dua', 'Adeen', ['KHUBAIB', 22, 34, 'waniya']]]"
      ]
     },
     "execution_count": 27,
     "metadata": {},
     "output_type": "execute_result"
    }
   ],
   "source": [
    "list1 = [\"Ali\", \"Ehtisham\", \"Ayesha\", [\"Dua\", \"Adeen\",[\"Khubaib\",22,34,\"waniya\"]]]\n",
    "list1[3][2][0] = list1[3][2][0].upper()\n",
    "list1"
   ]
  },
  {
   "cell_type": "code",
   "execution_count": 22,
   "id": "71bdf25f-006d-4cb9-ac1b-b588b0e8254b",
   "metadata": {},
   "outputs": [
    {
     "ename": "AttributeError",
     "evalue": "'tuple' object has no attribute 'append'",
     "output_type": "error",
     "traceback": [
      "\u001b[0;31m---------------------------------------------------------------------------\u001b[0m",
      "\u001b[0;31mAttributeError\u001b[0m                            Traceback (most recent call last)",
      "Cell \u001b[0;32mIn[22], line 2\u001b[0m\n\u001b[1;32m      1\u001b[0m list1 \u001b[38;5;241m=\u001b[39m [\u001b[38;5;124m\"\u001b[39m\u001b[38;5;124mAli\u001b[39m\u001b[38;5;124m\"\u001b[39m, \u001b[38;5;124m\"\u001b[39m\u001b[38;5;124mEhtisham\u001b[39m\u001b[38;5;124m\"\u001b[39m, \u001b[38;5;124m\"\u001b[39m\u001b[38;5;124mAyesha\u001b[39m\u001b[38;5;124m\"\u001b[39m, [\u001b[38;5;124m\"\u001b[39m\u001b[38;5;124mDua\u001b[39m\u001b[38;5;124m\"\u001b[39m, \u001b[38;5;124m\"\u001b[39m\u001b[38;5;124mAdeen\u001b[39m\u001b[38;5;124m\"\u001b[39m,(\u001b[38;5;124m\"\u001b[39m\u001b[38;5;124mKhubaib\u001b[39m\u001b[38;5;124m\"\u001b[39m,\u001b[38;5;241m22\u001b[39m,\u001b[38;5;241m34\u001b[39m,\u001b[38;5;124m\"\u001b[39m\u001b[38;5;124mwaniya\u001b[39m\u001b[38;5;124m\"\u001b[39m)]]\n\u001b[0;32m----> 2\u001b[0m list1[\u001b[38;5;241m3\u001b[39m][\u001b[38;5;241m2\u001b[39m]\u001b[38;5;241m.\u001b[39mappend(\u001b[38;5;241m3\u001b[39m)\n",
      "\u001b[0;31mAttributeError\u001b[0m: 'tuple' object has no attribute 'append'"
     ]
    }
   ],
   "source": [
    "list1 = [\"Ali\", \"Ehtisham\", \"Ayesha\", [\"Dua\", \"Adeen\",(\"Khubaib\",22,34,\"waniya\")]]\n",
    "list1[3][2].append(3)"
   ]
  },
  {
   "cell_type": "code",
   "execution_count": null,
   "id": "d534f378-06d5-405c-a803-97cbd260119e",
   "metadata": {},
   "outputs": [],
   "source": []
  },
  {
   "cell_type": "code",
   "execution_count": null,
   "id": "f698b7a8-2dbd-48cc-b946-2ddb0279345f",
   "metadata": {},
   "outputs": [],
   "source": []
  },
  {
   "cell_type": "markdown",
   "id": "4a3a4804-1089-4138-b6f8-993dcc93ad21",
   "metadata": {},
   "source": [
    "#### c. Adding elements to a list using `list.extend(sublist)` method\n",
    "- `list.extend(sublist)` method is used when you want to add multiple elements at the end of the list\n",
    "- It is passed a list to be added at the end and returns none/void"
   ]
  },
  {
   "cell_type": "code",
   "execution_count": 28,
   "id": "7ac82963-f408-46a1-8ca5-04b5b2d16f0d",
   "metadata": {},
   "outputs": [
    {
     "name": "stdout",
     "output_type": "stream",
     "text": [
      "Original List :  [2, 4, 6, 8]\n"
     ]
    }
   ],
   "source": [
    "list1 = [2, 4, 6, 8]\n",
    "print(\"Original List : \", list1)\n",
    "list1.extend([4.631, 'hello'])"
   ]
  },
  {
   "cell_type": "code",
   "execution_count": 31,
   "id": "f093c8d1-3240-4a5a-b398-20a00c3e47ab",
   "metadata": {},
   "outputs": [
    {
     "data": {
      "text/plain": [
       "[2, 4, 6, 8, 4.631, 'hello', 'a', 'l', 'i']"
      ]
     },
     "execution_count": 31,
     "metadata": {},
     "output_type": "execute_result"
    }
   ],
   "source": [
    "list1"
   ]
  },
  {
   "cell_type": "code",
   "execution_count": 30,
   "id": "db792b7f-54c7-48b4-9dbe-5c2ad9c2343c",
   "metadata": {},
   "outputs": [],
   "source": [
    "list1.extend(\"ali\")"
   ]
  },
  {
   "cell_type": "code",
   "execution_count": null,
   "id": "47bdfe3c-aa56-45bf-a063-839912dde469",
   "metadata": {},
   "outputs": [],
   "source": []
  },
  {
   "cell_type": "code",
   "execution_count": null,
   "id": "63e00b42-ca0c-434e-94f2-4fdeb31864b0",
   "metadata": {},
   "outputs": [],
   "source": []
  },
  {
   "cell_type": "code",
   "execution_count": null,
   "id": "4bcf0641-7225-4b46-9135-301348bb2436",
   "metadata": {},
   "outputs": [],
   "source": []
  },
  {
   "cell_type": "code",
   "execution_count": null,
   "id": "efaa84ca-3031-46aa-991f-4f8545062602",
   "metadata": {},
   "outputs": [],
   "source": [
    "# list1.extend('Ali')\n",
    "# list1"
   ]
  },
  {
   "cell_type": "markdown",
   "id": "48664b53-72dc-4845-944c-a3a6cb72d325",
   "metadata": {},
   "source": [
    "#### d. Adding elements to a list using `list.insert(index, value)` method\n",
    "- `list.insert(index, value)` method is used when you want to add an element at a specific location in the list\n",
    "- It is passed index and value and returns none/void"
   ]
  },
  {
   "cell_type": "code",
   "execution_count": 61,
   "id": "a1aa9c62-ddf8-4b4c-a1ab-c55b2fb1bd97",
   "metadata": {},
   "outputs": [
    {
     "name": "stdout",
     "output_type": "stream",
     "text": [
      "\n",
      "Original family list:  ['Ehtisham', 'Ali', 'Ayesha']\n"
     ]
    }
   ],
   "source": [
    "myfamily = [\"Ehtisham\", 'Ali', 'Ayesha']\n",
    "\n",
    "print(\"\\nOriginal family list: \", myfamily)"
   ]
  },
  {
   "cell_type": "code",
   "execution_count": 62,
   "id": "185d5bab-907b-4e1b-a5fc-93fa13eb577c",
   "metadata": {},
   "outputs": [
    {
     "name": "stdout",
     "output_type": "stream",
     "text": [
      "After insert:  ['Ehtisham', 'Ali', 'Dua', 'Ayesha']\n"
     ]
    }
   ],
   "source": [
    "myfamily.insert(2,'Dua')\n",
    "print(\"After insert: \", myfamily)"
   ]
  },
  {
   "cell_type": "code",
   "execution_count": 63,
   "id": "e0188e8b-6f8a-4aea-a2b0-55e9e3a43a93",
   "metadata": {},
   "outputs": [
    {
     "name": "stdout",
     "output_type": "stream",
     "text": [
      "After insert:  ['Ehtisham', 'Ali', 'Dua', 'Adeen', 'Ayesha']\n"
     ]
    }
   ],
   "source": [
    "myfamily.insert(3,'Adeen')\n",
    "print(\"After insert: \", myfamily)"
   ]
  },
  {
   "cell_type": "markdown",
   "id": "b4e18ae5-cc35-4ad9-8bbb-c9c48857a21c",
   "metadata": {},
   "source": [
    "###  Removing elements from a list using `list.pop()` and `list.remove()` methods\n",
    "- Lists are dynamic, as we write our Python program, we can actually make changes to our already created list, whithout having to go for compiling it again. \n",
    "- If we have to remove certain elements from an already created list, the original list shrinks dynamically without the need of compiling/running the program again (as in case of heap memory in C/C++)"
   ]
  },
  {
   "cell_type": "markdown",
   "id": "8d53ee2a-b4b8-4b9b-9a0a-b5c02260c4ae",
   "metadata": {},
   "source": [
    "#### a. Removing element from a List using `list.pop(index)` method\n",
    "- The `list.pop()` method without any argument removes the last item (right most element) in the list and returns it\n",
    "- If given an argument/index, will remove that item from list whose index is given and returns it"
   ]
  },
  {
   "cell_type": "code",
   "execution_count": 64,
   "id": "dec2f368-66e5-4e95-9d7e-a77b892de593",
   "metadata": {},
   "outputs": [
    {
     "name": "stdout",
     "output_type": "stream",
     "text": [
      "Original list:  ['Learning', 'Practical', 'Data', 'Science', 'with', 'Ehtisham', 'Sadiq']\n"
     ]
    }
   ],
   "source": [
    "mylist = ['Learning', 'Practical', 'Data', 'Science', 'with', 'Ehtisham', 'Sadiq']\n",
    "print(\"Original list: \", mylist)"
   ]
  },
  {
   "cell_type": "code",
   "execution_count": 65,
   "id": "4446505c-e6b2-42c0-965b-9ba64445e9d5",
   "metadata": {},
   "outputs": [
    {
     "name": "stdout",
     "output_type": "stream",
     "text": [
      "\n",
      "After pop():  ['Learning', 'Practical', 'Data', 'Science', 'with', 'Ehtisham']\n",
      "Element popped is:  Sadiq\n"
     ]
    }
   ],
   "source": [
    "x  = mylist.pop()\n",
    "print(\"\\nAfter pop(): \", mylist)\n",
    "print(\"Element popped is: \", x)"
   ]
  },
  {
   "cell_type": "code",
   "execution_count": 66,
   "id": "b96bc40e-7ea3-4d71-ad2c-c6dfcf69f9d7",
   "metadata": {},
   "outputs": [
    {
     "data": {
      "text/plain": [
       "'Ehtisham'"
      ]
     },
     "execution_count": 66,
     "metadata": {},
     "output_type": "execute_result"
    }
   ],
   "source": [
    "mylist.pop()"
   ]
  },
  {
   "cell_type": "markdown",
   "id": "df7ef568-cf81-499b-bf28-8e2ae169e72e",
   "metadata": {},
   "source": [
    "#### b. Removing element from a list using `list.remove(val)` method\n",
    "- The `list.remove(value)` method is used when you want to remove a specific element without returning it\n",
    "- It is passed exactly one argument, which is the value to be removed and returns none/void\n",
    "- In case of multiple occurrances, it removes the first occurrence of the element"
   ]
  },
  {
   "cell_type": "code",
   "execution_count": 67,
   "id": "bbd4e26d-5b37-4053-9264-2f3d4d251e33",
   "metadata": {},
   "outputs": [
    {
     "name": "stdout",
     "output_type": "stream",
     "text": [
      "\n",
      "Original list:  ['Learning', 'Practical', 'Data', 'Science', 'with', 'Ehtisham', 'Sadiq']\n"
     ]
    }
   ],
   "source": [
    "mylist = ['Learning', 'Practical', 'Data', 'Science', 'with', 'Ehtisham', 'Sadiq']\n",
    "print(\"\\nOriginal list: \", mylist)"
   ]
  },
  {
   "cell_type": "code",
   "execution_count": 68,
   "id": "1c1c4d11-8171-4391-9386-d8d5a28503b4",
   "metadata": {},
   "outputs": [
    {
     "name": "stdout",
     "output_type": "stream",
     "text": [
      "After remove('Data'):  ['Learning', 'Practical', 'Science', 'with', 'Ehtisham', 'Sadiq']\n",
      "Return value of remove() is:  None\n"
     ]
    }
   ],
   "source": [
    "x = mylist.remove('Data')\n",
    "print(\"After remove('Data'): \", mylist)\n",
    "print(\"Return value of remove() is: \", x)"
   ]
  },
  {
   "cell_type": "code",
   "execution_count": 69,
   "id": "65ac0d2a-8b1b-447a-b459-a7749038aecb",
   "metadata": {},
   "outputs": [
    {
     "ename": "ValueError",
     "evalue": "list.remove(x): x not in list",
     "output_type": "error",
     "traceback": [
      "\u001b[0;31m---------------------------------------------------------------------------\u001b[0m",
      "\u001b[0;31mValueError\u001b[0m                                Traceback (most recent call last)",
      "Cell \u001b[0;32mIn[69], line 1\u001b[0m\n\u001b[0;32m----> 1\u001b[0m x \u001b[38;5;241m=\u001b[39m mylist\u001b[38;5;241m.\u001b[39mremove(\u001b[38;5;124m'\u001b[39m\u001b[38;5;124mAli\u001b[39m\u001b[38;5;124m'\u001b[39m)\n\u001b[1;32m      3\u001b[0m \u001b[38;5;28mprint\u001b[39m(\u001b[38;5;124m\"\u001b[39m\u001b[38;5;124mAfter remove(\u001b[39m\u001b[38;5;124m'\u001b[39m\u001b[38;5;124mData\u001b[39m\u001b[38;5;124m'\u001b[39m\u001b[38;5;124m): \u001b[39m\u001b[38;5;124m\"\u001b[39m, mylist)\n\u001b[1;32m      4\u001b[0m \u001b[38;5;28mprint\u001b[39m(\u001b[38;5;124m\"\u001b[39m\u001b[38;5;124mReturn value of remove() is: \u001b[39m\u001b[38;5;124m\"\u001b[39m, x)\n",
      "\u001b[0;31mValueError\u001b[0m: list.remove(x): x not in list"
     ]
    }
   ],
   "source": [
    "x = mylist.remove('Ali')\n",
    "\n",
    "print(\"After remove('Data'): \", mylist)\n",
    "print(\"Return value of remove() is: \", x)"
   ]
  },
  {
   "cell_type": "markdown",
   "id": "46a70346-075d-45d0-bce8-7f8c0d5cd9b1",
   "metadata": {},
   "source": [
    "#### c. Using `list.clear()` method to remove all the list elements"
   ]
  },
  {
   "cell_type": "code",
   "execution_count": null,
   "id": "579e7341-5dc6-4c91-9c33-deda0035106a",
   "metadata": {},
   "outputs": [],
   "source": [
    "# Do by yourself"
   ]
  },
  {
   "cell_type": "markdown",
   "id": "f2058ea0-5136-401e-8960-4175ab5e1883",
   "metadata": {},
   "source": [
    "#### d. Using `del` Keyword to delete one or more list items or delete the list entirely from memory"
   ]
  },
  {
   "cell_type": "markdown",
   "id": "781aeea1-cc00-45ff-bcdf-dc88ae44ca17",
   "metadata": {},
   "source": [
    "### Converting String object to List and vice-versa (IMP)"
   ]
  },
  {
   "cell_type": "code",
   "execution_count": null,
   "id": "7fcbc6a8-34ef-4961-a659-82a0ec001d26",
   "metadata": {},
   "outputs": [],
   "source": [
    "# Name of both methods"
   ]
  },
  {
   "cell_type": "markdown",
   "id": "7c89d4f2-8983-4b5d-87da-cde896fdb815",
   "metadata": {},
   "source": [
    "### Some Built-in Functions that can be used on Lists"
   ]
  },
  {
   "cell_type": "code",
   "execution_count": 70,
   "id": "7f7ab872-ebbb-47c7-a700-73e14358011e",
   "metadata": {},
   "outputs": [
    {
     "data": {
      "text/plain": [
       "[3, 8, 1, 6, 0, 8, 4]"
      ]
     },
     "execution_count": 70,
     "metadata": {},
     "output_type": "execute_result"
    }
   ],
   "source": [
    "list_num = [3, 8, 1, 6, 0, 8, 4]\n",
    "list_num"
   ]
  },
  {
   "cell_type": "code",
   "execution_count": 71,
   "id": "dc0e5629-ec3c-43fa-804b-ccaf40a6804b",
   "metadata": {},
   "outputs": [
    {
     "name": "stdout",
     "output_type": "stream",
     "text": [
      "length of list:  7\n",
      "max element in list:  8\n",
      "min element in list:  0\n",
      "Sum of element in list:  30\n"
     ]
    }
   ],
   "source": [
    "print(\"length of list: \", len(list_num))\n",
    "print(\"max element in list: \", max(list_num))\n",
    "print(\"min element in list: \",min(list_num))\n",
    "print(\"Sum of element in list: \",sum(list_num))"
   ]
  },
  {
   "cell_type": "markdown",
   "id": "d5143dd6-c145-4fef-b78b-5531d42a7140",
   "metadata": {},
   "source": [
    "### Simple Assignment (aliasing) vs Shallow Copy vs Deep Copy\n",
    "\n",
    "<img src=\"images/deep-shallow.png\" height=500px width=500px>"
   ]
  },
  {
   "cell_type": "code",
   "execution_count": null,
   "id": "e44fda25-c079-411c-bdc0-733eb86dcdd4",
   "metadata": {},
   "outputs": [],
   "source": []
  },
  {
   "cell_type": "markdown",
   "id": "357afe04-fb34-4b86-b55a-08e0eab6dd70",
   "metadata": {},
   "source": [
    "###  Sorting a List\n",
    "- You can use following three methods to sort list elements\n",
    "    - The `list.sort()` method can sort the list elements (ascending + descending) on which it is called and returns None (modifies the list on which it is called).\n",
    "    - The `list.reverse()` method simply reverse the list elements on which it is called and returns None (modifies the list on which it is called).\n",
    "    - The `sorted(iterable)` is a built-in function, which returns a sorted version of the list, which is passed to it as parameter (list remains as it is). Limitation is it is a bit slow as it makes a copy of the list. Advantage is that it can sort any iterable."
   ]
  },
  {
   "cell_type": "markdown",
   "id": "772a0c10-0ac3-43cb-8984-5e8f8708a72f",
   "metadata": {},
   "source": [
    "#### a. The `list.sort()` method"
   ]
  },
  {
   "cell_type": "code",
   "execution_count": null,
   "id": "3aa95332-999b-4581-9414-e4df3ee94a9c",
   "metadata": {},
   "outputs": [],
   "source": [
    "list_num = [3, 8, 1, 6, 0, 8, 4]\n",
    "print(\"Original numbers list: \", list_num)"
   ]
  },
  {
   "cell_type": "code",
   "execution_count": null,
   "id": "7a0ba2c6-3ad0-4140-96c4-61fe68f9bba5",
   "metadata": {},
   "outputs": [],
   "source": [
    "list_num.sort()\n",
    "print(\"Ascending Sort: \", list_num)\n",
    "\n",
    "list_num.sort(reverse=True)\n",
    "print(\"Descending Sort: \", list_num)"
   ]
  },
  {
   "cell_type": "code",
   "execution_count": null,
   "id": "9023a338-109a-46be-9182-0fa33162d0da",
   "metadata": {},
   "outputs": [],
   "source": []
  },
  {
   "cell_type": "markdown",
   "id": "daf995cd-140d-43d5-9457-f1099895adfa",
   "metadata": {},
   "source": [
    "#### b. Custom Sorting using `list.sort()` Method\n",
    "**Example 1: Suppose given a list with elements `['ccc', 'aaaaa', 'd', 'bb']` and I want to sort it by length of strings within the list so that the output list is like : `['d', 'bb', 'ccc', 'aaaaa']`**\n",
    "\n",
    "```\n",
    "    list.sort(*, key=None, reverse=False)\n",
    "```\n",
    "- We write a one argument function, and pass that function to the `key` parameter of `list.sort()` method\n",
    "- The `list.sort()` method will run this one argument function on all the elements of the list and return a single value, and build up a shadow list of those new values. \n",
    "- Suppose the one argument function in this case is the Python built-in function `len()`, which when called on every element of `list1` will return a shadow list containing length of every string within the original list containing `[3,4,2,1]`\n",
    "- The `list1.sort()` method will then sort `list1` elements based on the values of the shadow list and generate the required sorted list :)"
   ]
  },
  {
   "cell_type": "code",
   "execution_count": null,
   "id": "bdbaa548-4b53-45c4-8e12-01738906afe0",
   "metadata": {},
   "outputs": [],
   "source": [
    "list1 = ['ccc', 'aaaaa', 'd', 'bb']\n",
    "list1.sort()\n",
    "list1"
   ]
  },
  {
   "cell_type": "code",
   "execution_count": null,
   "id": "eb74fe44-99cb-47a9-a45f-8a9b449ce764",
   "metadata": {},
   "outputs": [],
   "source": [
    "list1 = ['ccc', 'aaaaa', 'd', 'bb']\n",
    "list1.sort(key=len)\n",
    "list1"
   ]
  },
  {
   "cell_type": "code",
   "execution_count": null,
   "id": "1034fef0-6221-4028-92e8-b4b3436f27a4",
   "metadata": {},
   "outputs": [],
   "source": [
    "list1 = ['ccc', 'aaaaa', 'd', 'bb']\n",
    "list1.sort(key=len, reverse=True)\n",
    "list1"
   ]
  },
  {
   "cell_type": "code",
   "execution_count": null,
   "id": "2be06bd7-5470-4c2c-bb4b-3d9b70f80028",
   "metadata": {},
   "outputs": [],
   "source": []
  },
  {
   "cell_type": "markdown",
   "id": "89330233-07a2-4e43-8423-3af5e5ac6d96",
   "metadata": {},
   "source": [
    "**Example 2: Suppose given a list with elements `['abcz', 'xyza', 'bas', 'Ehtisham']` and I want to sort it by last character of strings within the list so that the output list is like : `['xyza', 'Ehtisham', 'bas', 'abcz']`**\n",
    "\n",
    "```\n",
    "    list.sort(*, key=None, reverse=False)\n",
    "```\n",
    "- We write a one argument function, and pass that function to the `key` parameter of `list.sort()` method\n",
    "- The `list.sort()` method will run this one argument function on all the elements of the list and return a single value, and build up a shadow list of those new values. \n",
    "- This time the one argument function is a custom built function that receives a string and returns its last character. When called on every element of `list1` will return a shadow list containing only the last character of every string within the original list containing `['z', 'a', 's', 'f']`\n",
    "- The `list1.sort()` method will then sort `list1` elements based on the values of the shadow list and generate the required sorted list :)"
   ]
  },
  {
   "cell_type": "code",
   "execution_count": null,
   "id": "cd8784f6-818b-496c-b8fd-11970e72852b",
   "metadata": {},
   "outputs": [],
   "source": [
    "def last(s):\n",
    "    return s[-1] \n",
    "last(\"Ehtisham\")"
   ]
  },
  {
   "cell_type": "code",
   "execution_count": null,
   "id": "53a353e6-3e79-4663-aba8-7c7f2bfbc9bf",
   "metadata": {},
   "outputs": [],
   "source": [
    "list1 = ['abcz', 'xyza', 'bas', 'Ehtisham']\n",
    "list1"
   ]
  },
  {
   "cell_type": "code",
   "execution_count": null,
   "id": "06af12b0-35c7-4e03-9ea0-9d89ef6e253a",
   "metadata": {},
   "outputs": [],
   "source": [
    "list1.sort(key=last)\n",
    "list1"
   ]
  },
  {
   "cell_type": "code",
   "execution_count": null,
   "id": "5d6aa6bd-28d3-43a9-8064-ba13e9fa0f9f",
   "metadata": {},
   "outputs": [],
   "source": []
  },
  {
   "cell_type": "markdown",
   "id": "cc9c85c4-1f4e-4da3-bbba-f5d5ea35917e",
   "metadata": {},
   "source": [
    "### More Concepts\n",
    "#### a. Use of  `in` Operator on Lists\n",
    "#### b. Comparing objects and values"
   ]
  },
  {
   "cell_type": "code",
   "execution_count": null,
   "id": "a82e8b30-1ac0-484e-886b-20a111d6a689",
   "metadata": {},
   "outputs": [],
   "source": [
    "# is, =="
   ]
  },
  {
   "cell_type": "code",
   "execution_count": null,
   "id": "0cf06daa-78ff-47ac-8730-5a1ac578a7c4",
   "metadata": {},
   "outputs": [],
   "source": []
  },
  {
   "cell_type": "markdown",
   "id": "75d77813-c1a9-43d1-870a-4dc4cd7b2893",
   "metadata": {},
   "source": [
    "## Check your Concepts\n",
    "\n",
    "Try answering the following questions to test your understanding of the topics covered in this notebook:\n",
    "\n",
    "1. What is a list in Python?\n",
    "2. How do you create a list?\n",
    "3. Can a Python list contain values of different data types?\n",
    "4. Can a list contain another list as an element within it?\n",
    "5. Can you create a list without any values?\n",
    "6. How do you check the length of a list in Python?\n",
    "7. How do you retrieve a value from a list?\n",
    "8. What is the smallest and largest index you can use to access elements from a list containing five elements?\n",
    "9. What happens if you try to access an index equal to or larger than the size of a list?\n",
    "10. What happens if you try to access a negative index within a list?\n",
    "11. How do you access a range of elements from a list?\n",
    "12. How many elements does the list returned by the expression `a_list[2:5]` contain?\n",
    "13. What do the ranges `a_list[:2]` and `a_list[2:]` represent?\n",
    "14. How do you change the item stored at a specific index within a list?\n",
    "15. How do you insert a new item at the beginning, middle, or end of a list?\n",
    "16. How do you remove an item from al list?\n",
    "17. How do you remove the item at a given index from a list?\n",
    "18. How do you check if a list contains a value?\n",
    "19. How do you combine two or most lists to create a larger list?\n",
    "20. How do you create a copy of a list?\n",
    "21. Does the expression `a_new_list = a_list` create a copy of the list `a_list`?\n",
    "22. How can you find the list of all the methods supported by lists?\n",
    "23. Understand the difference between creating an alias of a list, and shallow copy and deep copy"
   ]
  },
  {
   "cell_type": "code",
   "execution_count": null,
   "id": "dd1d1cde-677b-441f-8755-20a1ff858d53",
   "metadata": {},
   "outputs": [],
   "source": []
  },
  {
   "cell_type": "code",
   "execution_count": null,
   "id": "bf01ef9c-dccf-4ec7-a2d1-4b57b15e670a",
   "metadata": {},
   "outputs": [],
   "source": []
  },
  {
   "cell_type": "code",
   "execution_count": null,
   "id": "c1a63f29-b7e6-4eb4-8ff8-34684534f246",
   "metadata": {},
   "outputs": [],
   "source": []
  },
  {
   "cell_type": "code",
   "execution_count": null,
   "id": "da2be196-60aa-46ab-bf20-853dd3316039",
   "metadata": {},
   "outputs": [],
   "source": []
  },
  {
   "cell_type": "code",
   "execution_count": null,
   "id": "545c75bb-03cc-45e7-bb2c-0ec38e67d22d",
   "metadata": {},
   "outputs": [],
   "source": []
  },
  {
   "cell_type": "code",
   "execution_count": null,
   "id": "3adf6be1-8635-43f8-8d7d-462ec6289d50",
   "metadata": {},
   "outputs": [],
   "source": []
  },
  {
   "cell_type": "code",
   "execution_count": null,
   "id": "d949f838-5a5c-41d1-91ca-0c16e94b1e7e",
   "metadata": {},
   "outputs": [],
   "source": []
  },
  {
   "cell_type": "code",
   "execution_count": null,
   "id": "bbab30f3-0170-464c-af74-ad43570f9840",
   "metadata": {},
   "outputs": [],
   "source": []
  },
  {
   "cell_type": "code",
   "execution_count": null,
   "id": "688af94f-db40-43aa-8999-33b597dc245a",
   "metadata": {},
   "outputs": [],
   "source": []
  },
  {
   "cell_type": "code",
   "execution_count": 1,
   "id": "0a40061e-f33b-4b6d-953d-6de035ee3b14",
   "metadata": {},
   "outputs": [
    {
     "data": {
      "text/html": [
       "\n",
       "    <style>\n",
       "        body {\n",
       "            background-color: #f2fff2;\n",
       "        }\n",
       "        h1 {\n",
       "            text-align: center;\n",
       "            font-weight: bold;\n",
       "            font-size: 36px;\n",
       "            color: #4295F4;\n",
       "            text-decoration: underline;\n",
       "            padding-top: 15px;\n",
       "        }\n",
       "        \n",
       "        h2 {\n",
       "            text-align: left;\n",
       "            font-weight: bold;\n",
       "            font-size: 30px;\n",
       "            color: #4A000A;\n",
       "            text-decoration: underline;\n",
       "            padding-top: 10px;\n",
       "        }\n",
       "        \n",
       "        h3 {\n",
       "            text-align: left;\n",
       "            font-weight: bold;\n",
       "            font-size: 30px;\n",
       "            color: #f0081e;\n",
       "            text-decoration: underline;\n",
       "            padding-top: 5px;\n",
       "        }\n",
       "\n",
       "        \n",
       "        p {\n",
       "            text-align: center;\n",
       "            font-size: 12 px;\n",
       "            color: #0B9923;\n",
       "        }\n",
       "    </style>\n",
       "\n",
       "<h1>Hello</h1>\n",
       "<p>Hello World</p>\n",
       "<h2> Hello</h2>\n",
       "<h3> World </h3>\n"
      ],
      "text/plain": [
       "<IPython.core.display.HTML object>"
      ]
     },
     "execution_count": 1,
     "metadata": {},
     "output_type": "execute_result"
    }
   ],
   "source": [
    "from IPython.core.display import HTML\n",
    "\n",
    "style = \"\"\"\n",
    "    <style>\n",
    "        body {\n",
    "            background-color: #f2fff2;\n",
    "        }\n",
    "        h1 {\n",
    "            text-align: center;\n",
    "            font-weight: bold;\n",
    "            font-size: 36px;\n",
    "            color: #4295F4;\n",
    "            text-decoration: underline;\n",
    "            padding-top: 15px;\n",
    "        }\n",
    "        \n",
    "        h2 {\n",
    "            text-align: left;\n",
    "            font-weight: bold;\n",
    "            font-size: 30px;\n",
    "            color: #4A000A;\n",
    "            text-decoration: underline;\n",
    "            padding-top: 10px;\n",
    "        }\n",
    "        \n",
    "        h3 {\n",
    "            text-align: left;\n",
    "            font-weight: bold;\n",
    "            font-size: 30px;\n",
    "            color: #f0081e;\n",
    "            text-decoration: underline;\n",
    "            padding-top: 5px;\n",
    "        }\n",
    "\n",
    "        \n",
    "        p {\n",
    "            text-align: center;\n",
    "            font-size: 12 px;\n",
    "            color: #0B9923;\n",
    "        }\n",
    "    </style>\n",
    "\"\"\"\n",
    "\n",
    "html_content = \"\"\"\n",
    "<h1>Hello</h1>\n",
    "<p>Hello World</p>\n",
    "<h2> Hello</h2>\n",
    "<h3> World </h3>\n",
    "\"\"\"\n",
    "\n",
    "HTML(style + html_content)"
   ]
  },
  {
   "cell_type": "code",
   "execution_count": null,
   "id": "b77ff231-d099-49d1-8ead-7ca9118e7b65",
   "metadata": {},
   "outputs": [],
   "source": []
  }
 ],
 "metadata": {
  "kernelspec": {
   "display_name": "Python 3 (ipykernel)",
   "language": "python",
   "name": "python3"
  },
  "language_info": {
   "codemirror_mode": {
    "name": "ipython",
    "version": 3
   },
   "file_extension": ".py",
   "mimetype": "text/x-python",
   "name": "python",
   "nbconvert_exporter": "python",
   "pygments_lexer": "ipython3",
   "version": "3.11.7"
  }
 },
 "nbformat": 4,
 "nbformat_minor": 5
}
