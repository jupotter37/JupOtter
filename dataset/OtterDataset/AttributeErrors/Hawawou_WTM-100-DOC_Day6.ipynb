{
  "nbformat": 4,
  "nbformat_minor": 0,
  "metadata": {
    "colab": {
      "name": "Day6.ipynb",
      "provenance": [],
      "authorship_tag": "ABX9TyMehn6uoX6HoECTRUAX3c0G",
      "include_colab_link": true
    },
    "kernelspec": {
      "name": "python3",
      "display_name": "Python 3"
    },
    "language_info": {
      "name": "python"
    }
  },
  "cells": [
    {
      "cell_type": "markdown",
      "metadata": {
        "id": "view-in-github",
        "colab_type": "text"
      },
      "source": [
        "<a href=\"https://colab.research.google.com/github/Hawawou/WTM-100-DOC/blob/main/Day6.ipynb\" target=\"_parent\"><img src=\"https://colab.research.google.com/assets/colab-badge.svg\" alt=\"Open In Colab\"/></a>"
      ]
    },
    {
      "cell_type": "code",
      "metadata": {
        "colab": {
          "base_uri": "https://localhost:8080/"
        },
        "id": "Q_Nox0O1WvUo",
        "outputId": "ded2abd2-037a-4eaf-cf51-5d1baa31d45b"
      },
      "source": [
        "#sets - well defined collection of distinct object\n",
        "#immutable objects - tuples, integers, booleans, strings \n",
        "#elements in a set can be objects of different types\n",
        "y = {42, 'foo', 'bar', 3.333, None}\n",
        "x = 5\n",
        "hash(x)\n",
        "print(y)\n",
        " "
      ],
      "execution_count": 19,
      "outputs": [
        {
          "output_type": "stream",
          "name": "stdout",
          "text": [
            "{3.333, 'bar', 42, 'foo', None}\n"
          ]
        }
      ]
    },
    {
      "cell_type": "code",
      "metadata": {
        "colab": {
          "base_uri": "https://localhost:8080/"
        },
        "id": "-3GpLrDVckdq",
        "outputId": "6def8670-368e-46d1-8239-aa0910b9375d"
      },
      "source": [
        "set(['foo', 'bar'])\n",
        "set({\"hello\": 5})\n",
        "set(\"hello\")\n"
      ],
      "execution_count": 9,
      "outputs": [
        {
          "output_type": "execute_result",
          "data": {
            "text/plain": [
              "{'e', 'h', 'l', 'o'}"
            ]
          },
          "metadata": {},
          "execution_count": 9
        }
      ]
    },
    {
      "cell_type": "markdown",
      "metadata": {
        "id": "aGV4cXnLgDg2"
      },
      "source": [
        "sets are unordered."
      ]
    },
    {
      "cell_type": "code",
      "metadata": {
        "id": "FOlH1nHidW1l",
        "colab": {
          "base_uri": "https://localhost:8080/"
        },
        "outputId": "bde98c17-1a73-49ed-e420-02903dc3fe0d"
      },
      "source": [
        "x = set(['foo', 'bar', 'qax', 'qux'])\n",
        "print(x)"
      ],
      "execution_count": 3,
      "outputs": [
        {
          "output_type": "stream",
          "name": "stdout",
          "text": [
            "{'qux', 'foo', 'qax', 'bar'}\n"
          ]
        }
      ]
    },
    {
      "cell_type": "code",
      "metadata": {
        "colab": {
          "base_uri": "https://localhost:8080/"
        },
        "id": "5c9GGV8neWCo",
        "outputId": "0cd7fd0f-353c-48fd-cbd1-f77df6c7de21"
      },
      "source": [
        "x = set(('java', 'C++', 'python'))\n",
        "print(x)"
      ],
      "execution_count": 5,
      "outputs": [
        {
          "output_type": "stream",
          "name": "stdout",
          "text": [
            "{'python', 'C++', 'java'}\n"
          ]
        }
      ]
    },
    {
      "cell_type": "code",
      "metadata": {
        "colab": {
          "base_uri": "https://localhost:8080/"
        },
        "id": "n2onsv2YepTw",
        "outputId": "909e06e0-1b16-4aa6-86b8-dca5ac52b845"
      },
      "source": [
        "s = 'Hawawou'\n",
        "set(s)\n",
        "a = 'Oumarou'\n",
        "list(a)"
      ],
      "execution_count": 10,
      "outputs": [
        {
          "output_type": "execute_result",
          "data": {
            "text/plain": [
              "['O', 'u', 'm', 'a', 'r', 'o', 'u']"
            ]
          },
          "metadata": {},
          "execution_count": 10
        }
      ]
    },
    {
      "cell_type": "code",
      "metadata": {
        "colab": {
          "base_uri": "https://localhost:8080/"
        },
        "id": "hfeQTcYLgj0Q",
        "outputId": "e46c950d-5db4-4cc7-fcc5-524b4faf8854"
      },
      "source": [
        "x = {'foo', 'bar', 'car', 'foo', 'arg'}\n",
        "print(x)"
      ],
      "execution_count": 13,
      "outputs": [
        {
          "output_type": "stream",
          "name": "stdout",
          "text": [
            "{'foo', 'arg', 'car', 'bar'}\n"
          ]
        }
      ]
    },
    {
      "cell_type": "code",
      "metadata": {
        "colab": {
          "base_uri": "https://localhost:8080/"
        },
        "id": "e1jihi3ahLJP",
        "outputId": "232239f9-f2d1-471c-f32b-69199afec78f"
      },
      "source": [
        "x = set() #only way to define empty sets. \n",
        "type(x)"
      ],
      "execution_count": 15,
      "outputs": [
        {
          "output_type": "execute_result",
          "data": {
            "text/plain": [
              "set"
            ]
          },
          "metadata": {},
          "execution_count": 15
        }
      ]
    },
    {
      "cell_type": "markdown",
      "metadata": {
        "id": "m6Y3fnZH0iUD"
      },
      "source": [
        "Curly brackets are considered as dictionaries"
      ]
    },
    {
      "cell_type": "code",
      "metadata": {
        "colab": {
          "base_uri": "https://localhost:8080/"
        },
        "id": "mUp1--1L0paw",
        "outputId": "ab44681c-769b-4c91-834a-f56a01b7304c"
      },
      "source": [
        "x =set() #empty set is falsy\n",
        "bool(x)"
      ],
      "execution_count": 18,
      "outputs": [
        {
          "output_type": "execute_result",
          "data": {
            "text/plain": [
              "False"
            ]
          },
          "metadata": {},
          "execution_count": 18
        }
      ]
    },
    {
      "cell_type": "code",
      "metadata": {
        "colab": {
          "base_uri": "https://localhost:8080/"
        },
        "id": "36l7lz_q1eun",
        "outputId": "e3bd6b8e-9b6f-4bc3-f702-ca3dfcb57436"
      },
      "source": [
        "x = {'java', 'python', 'php'}\n",
        "len(x) #size of a set"
      ],
      "execution_count": 21,
      "outputs": [
        {
          "output_type": "execute_result",
          "data": {
            "text/plain": [
              "3"
            ]
          },
          "metadata": {},
          "execution_count": 21
        }
      ]
    },
    {
      "cell_type": "code",
      "metadata": {
        "colab": {
          "base_uri": "https://localhost:8080/"
        },
        "id": "dFUIYxug2Py2",
        "outputId": "cab4319d-15ee-41b0-9ab9-79f333b453fb"
      },
      "source": [
        "'php' in x"
      ],
      "execution_count": 23,
      "outputs": [
        {
          "output_type": "execute_result",
          "data": {
            "text/plain": [
              "True"
            ]
          },
          "metadata": {},
          "execution_count": 23
        }
      ]
    },
    {
      "cell_type": "code",
      "metadata": {
        "colab": {
          "base_uri": "https://localhost:8080/"
        },
        "id": "okiR-VO-2YDY",
        "outputId": "80c4cbe6-d993-4d50-becd-2058ecb2029e"
      },
      "source": [
        "'ruby' in x"
      ],
      "execution_count": 25,
      "outputs": [
        {
          "output_type": "execute_result",
          "data": {
            "text/plain": [
              "False"
            ]
          },
          "metadata": {},
          "execution_count": 25
        }
      ]
    },
    {
      "cell_type": "code",
      "metadata": {
        "colab": {
          "base_uri": "https://localhost:8080/"
        },
        "id": "3zwaaLzw2f9z",
        "outputId": "2823aaf7-af55-4c39-dde4-6bfa6ab849aa"
      },
      "source": [
        "x1 = {1, 3, 5, 7}\n",
        "x2 = {2, 4, 6, 8}\n",
        "x1 | x2 #operator\n",
        "x1.union(x2)  #method"
      ],
      "execution_count": 28,
      "outputs": [
        {
          "output_type": "execute_result",
          "data": {
            "text/plain": [
              "{1, 2, 3, 4, 5, 6, 7, 8}"
            ]
          },
          "metadata": {},
          "execution_count": 28
        }
      ]
    },
    {
      "cell_type": "markdown",
      "metadata": {
        "id": "26vvsdY43IO4"
      },
      "source": [
        "union of 2 sets. With the operator, both operands must be sets with method takes any iterable as an arguments and convert it to a aset\n"
      ]
    },
    {
      "cell_type": "code",
      "metadata": {
        "colab": {
          "base_uri": "https://localhost:8080/"
        },
        "id": "ODzC-EP5256R",
        "outputId": "17ec1796-eb65-480e-de8d-0993a1841f51"
      },
      "source": [
        "x1.union((2, 3, 4, 6, 9))"
      ],
      "execution_count": 30,
      "outputs": [
        {
          "output_type": "execute_result",
          "data": {
            "text/plain": [
              "{1, 2, 3, 4, 5, 6, 7, 9}"
            ]
          },
          "metadata": {},
          "execution_count": 30
        }
      ]
    },
    {
      "cell_type": "code",
      "metadata": {
        "colab": {
          "base_uri": "https://localhost:8080/",
          "height": 163
        },
        "id": "iELG6EQL35oM",
        "outputId": "60113954-9967-42bb-dff3-09bde6700efd"
      },
      "source": [
        "x1 | (2, 3, 4, 6, 9) #both operands must be sets"
      ],
      "execution_count": 32,
      "outputs": [
        {
          "output_type": "error",
          "ename": "TypeError",
          "evalue": "ignored",
          "traceback": [
            "\u001b[0;31m---------------------------------------------------------------------------\u001b[0m",
            "\u001b[0;31mTypeError\u001b[0m                                 Traceback (most recent call last)",
            "\u001b[0;32m<ipython-input-32-99d6feb3e2cc>\u001b[0m in \u001b[0;36m<module>\u001b[0;34m()\u001b[0m\n\u001b[0;32m----> 1\u001b[0;31m \u001b[0mx1\u001b[0m \u001b[0;34m|\u001b[0m \u001b[0;34m(\u001b[0m\u001b[0;36m2\u001b[0m\u001b[0;34m,\u001b[0m \u001b[0;36m3\u001b[0m\u001b[0;34m,\u001b[0m \u001b[0;36m4\u001b[0m\u001b[0;34m,\u001b[0m \u001b[0;36m6\u001b[0m\u001b[0;34m,\u001b[0m \u001b[0;36m9\u001b[0m\u001b[0;34m)\u001b[0m \u001b[0;31m#both operands must be sets\u001b[0m\u001b[0;34m\u001b[0m\u001b[0;34m\u001b[0m\u001b[0m\n\u001b[0m",
            "\u001b[0;31mTypeError\u001b[0m: unsupported operand type(s) for |: 'set' and 'tuple'"
          ]
        }
      ]
    },
    {
      "cell_type": "code",
      "metadata": {
        "colab": {
          "base_uri": "https://localhost:8080/"
        },
        "id": "78S8yaksB7TH",
        "outputId": "978c0ebc-c3f5-48fd-bb73-9bf6bfe9bb62"
      },
      "source": [
        "a = {1, 2, 3, 4}\n",
        "b = {2, 3, 4, 5}\n",
        "c = {3, 4, 5, 6}\n",
        "d = {4, 5, 6, 7}\n",
        "a | b | c| d"
      ],
      "execution_count": 34,
      "outputs": [
        {
          "output_type": "execute_result",
          "data": {
            "text/plain": [
              "{1, 2, 3, 4, 5, 6, 7}"
            ]
          },
          "metadata": {},
          "execution_count": 34
        }
      ]
    },
    {
      "cell_type": "code",
      "metadata": {
        "colab": {
          "base_uri": "https://localhost:8080/"
        },
        "id": "t2-YtD_ICofQ",
        "outputId": "e68b6479-78ca-41dc-f790-f47f700e3ed3"
      },
      "source": [
        "a.intersection(b, c, d) #method"
      ],
      "execution_count": 36,
      "outputs": [
        {
          "output_type": "execute_result",
          "data": {
            "text/plain": [
              "{4}"
            ]
          },
          "metadata": {},
          "execution_count": 36
        }
      ]
    },
    {
      "cell_type": "code",
      "metadata": {
        "colab": {
          "base_uri": "https://localhost:8080/"
        },
        "id": "G1hIJr1wCy6h",
        "outputId": "4503061f-3b34-4a11-a811-b3a30d075138"
      },
      "source": [
        "a & b & c & d #operaor"
      ],
      "execution_count": 39,
      "outputs": [
        {
          "output_type": "execute_result",
          "data": {
            "text/plain": [
              "{4}"
            ]
          },
          "metadata": {},
          "execution_count": 39
        }
      ]
    },
    {
      "cell_type": "code",
      "metadata": {
        "colab": {
          "base_uri": "https://localhost:8080/"
        },
        "id": "EfyGrCObDG27",
        "outputId": "ba2373da-93dd-45f8-dbf4-19537c4b6bd6"
      },
      "source": [
        "#difference\n",
        "a - b #operator"
      ],
      "execution_count": 41,
      "outputs": [
        {
          "output_type": "execute_result",
          "data": {
            "text/plain": [
              "{1}"
            ]
          },
          "metadata": {},
          "execution_count": 41
        }
      ]
    },
    {
      "cell_type": "code",
      "metadata": {
        "colab": {
          "base_uri": "https://localhost:8080/"
        },
        "id": "HmZSVLgWDPyB",
        "outputId": "3ea9a155-c5f0-4a88-f6dd-9a28813c3697"
      },
      "source": [
        "a.difference(b)"
      ],
      "execution_count": 43,
      "outputs": [
        {
          "output_type": "execute_result",
          "data": {
            "text/plain": [
              "{1}"
            ]
          },
          "metadata": {},
          "execution_count": 43
        }
      ]
    },
    {
      "cell_type": "code",
      "metadata": {
        "colab": {
          "base_uri": "https://localhost:8080/"
        },
        "id": "wiikpqxXDVuC",
        "outputId": "ae6ee2d0-44c6-4951-fe15-954511900519"
      },
      "source": [
        "a.difference(b, c, d)"
      ],
      "execution_count": 45,
      "outputs": [
        {
          "output_type": "execute_result",
          "data": {
            "text/plain": [
              "{1}"
            ]
          },
          "metadata": {},
          "execution_count": 45
        }
      ]
    },
    {
      "cell_type": "code",
      "metadata": {
        "colab": {
          "base_uri": "https://localhost:8080/"
        },
        "id": "RbXpbM0pDiJ7",
        "outputId": "0efb3ae5-e272-489d-c292-d04bb137917e"
      },
      "source": [
        "#symmetric_difference\n",
        "a.symmetric_difference(b) #method"
      ],
      "execution_count": 51,
      "outputs": [
        {
          "output_type": "execute_result",
          "data": {
            "text/plain": [
              "{1, 5}"
            ]
          },
          "metadata": {},
          "execution_count": 51
        }
      ]
    },
    {
      "cell_type": "markdown",
      "metadata": {
        "id": "fpGcxT4KEQnR"
      },
      "source": [
        "symmetric difference returns the set of all elements in either sets but not boths"
      ]
    },
    {
      "cell_type": "code",
      "metadata": {
        "colab": {
          "base_uri": "https://localhost:8080/"
        },
        "id": "0dJ0L4n4EdY4",
        "outputId": "58a2b267-32c2-440d-965b-b662d5a43565"
      },
      "source": [
        "a ^ b #operator"
      ],
      "execution_count": 48,
      "outputs": [
        {
          "output_type": "execute_result",
          "data": {
            "text/plain": [
              "{1, 5}"
            ]
          },
          "metadata": {},
          "execution_count": 48
        }
      ]
    },
    {
      "cell_type": "code",
      "metadata": {
        "colab": {
          "base_uri": "https://localhost:8080/"
        },
        "id": "ekIKbUM3ElhE",
        "outputId": "8a89b465-9d9c-4522-e27e-5d8ddf1a2c5e"
      },
      "source": [
        "a  ^ b ^ c"
      ],
      "execution_count": 49,
      "outputs": [
        {
          "output_type": "execute_result",
          "data": {
            "text/plain": [
              "{1, 3, 4, 6}"
            ]
          },
          "metadata": {},
          "execution_count": 49
        }
      ]
    },
    {
      "cell_type": "markdown",
      "metadata": {
        "id": "oCAexVS5E6Mm"
      },
      "source": [
        "only the operator allows multiple set "
      ]
    },
    {
      "cell_type": "code",
      "metadata": {
        "colab": {
          "base_uri": "https://localhost:8080/"
        },
        "id": "j1QHi6fIFJ6K",
        "outputId": "9870555b-21c7-4129-ca15-30c6987ea45e"
      },
      "source": [
        "#isdisjoint \n",
        "a.isdisjoint(b)"
      ],
      "execution_count": 53,
      "outputs": [
        {
          "output_type": "execute_result",
          "data": {
            "text/plain": [
              "False"
            ]
          },
          "metadata": {},
          "execution_count": 53
        }
      ]
    },
    {
      "cell_type": "markdown",
      "metadata": {
        "id": "J8PV_c17FZU_"
      },
      "source": [
        "Determines whether or not two sets have any elements in common. No operator corresponds to disjoint method"
      ]
    },
    {
      "cell_type": "code",
      "metadata": {
        "colab": {
          "base_uri": "https://localhost:8080/"
        },
        "id": "ZVOr3AkjF2Sy",
        "outputId": "7cd1c468-d95c-4342-89d2-8eb0bc4807c0"
      },
      "source": [
        "x1 = {1, 3, 5}\n",
        "x2 = {2, 4, 6}\n",
        "x1.isdisjoint(x2)"
      ],
      "execution_count": 55,
      "outputs": [
        {
          "output_type": "execute_result",
          "data": {
            "text/plain": [
              "True"
            ]
          },
          "metadata": {},
          "execution_count": 55
        }
      ]
    },
    {
      "cell_type": "code",
      "metadata": {
        "colab": {
          "base_uri": "https://localhost:8080/"
        },
        "id": "djFZtDBIGBdn",
        "outputId": "9f70181e-98d8-4bc6-f92c-d69a8c9b27d4"
      },
      "source": [
        "x1 & x2"
      ],
      "execution_count": 57,
      "outputs": [
        {
          "output_type": "execute_result",
          "data": {
            "text/plain": [
              "set()"
            ]
          },
          "metadata": {},
          "execution_count": 57
        }
      ]
    },
    {
      "cell_type": "code",
      "metadata": {
        "colab": {
          "base_uri": "https://localhost:8080/"
        },
        "id": "TKFSaSLtGIxe",
        "outputId": "f7797a91-1db1-4c70-e96f-770452f094d5"
      },
      "source": [
        "#subset\n",
        "x1 = {2,4,6,8,10,12,14,18,20}\n",
        "x2 = {4,8,12,20}\n",
        "x2.issubset(x1) #method"
      ],
      "execution_count": 69,
      "outputs": [
        {
          "output_type": "execute_result",
          "data": {
            "text/plain": [
              "True"
            ]
          },
          "metadata": {},
          "execution_count": 69
        }
      ]
    },
    {
      "cell_type": "markdown",
      "metadata": {
        "id": "qf7ZvwPxHF2A"
      },
      "source": [
        "every set is a subset of itself"
      ]
    },
    {
      "cell_type": "code",
      "metadata": {
        "colab": {
          "base_uri": "https://localhost:8080/"
        },
        "id": "d2Ihou9HGnNd",
        "outputId": "25d68022-7418-410b-e65c-c92f9b7f0fd9"
      },
      "source": [
        "x2 < x1 #operator"
      ],
      "execution_count": 70,
      "outputs": [
        {
          "output_type": "execute_result",
          "data": {
            "text/plain": [
              "True"
            ]
          },
          "metadata": {},
          "execution_count": 70
        }
      ]
    },
    {
      "cell_type": "code",
      "metadata": {
        "colab": {
          "base_uri": "https://localhost:8080/"
        },
        "id": "tEmRNKx0HAk9",
        "outputId": "2f7285e4-a536-485a-acf1-c53c4ee81158"
      },
      "source": [
        "#proper subset - same as subset but are not equal\n",
        "x1 = {'foo', 'bar', 'baz'}\n",
        "x2 = {'foo', 'bar'}\n",
        "x2 < x1"
      ],
      "execution_count": 65,
      "outputs": [
        {
          "output_type": "execute_result",
          "data": {
            "text/plain": [
              "True"
            ]
          },
          "metadata": {},
          "execution_count": 65
        }
      ]
    },
    {
      "cell_type": "code",
      "metadata": {
        "colab": {
          "base_uri": "https://localhost:8080/"
        },
        "id": "7ETa0rT-Hji_",
        "outputId": "bd1d4c76-bdaa-4b90-ef02-9008fefefd32"
      },
      "source": [
        "x1 = {'foo', 'bar', 'baz'}\n",
        "x2 = {'foo', 'bar', 'bar'}\n",
        "x1 < x2"
      ],
      "execution_count": 66,
      "outputs": [
        {
          "output_type": "execute_result",
          "data": {
            "text/plain": [
              "False"
            ]
          },
          "metadata": {},
          "execution_count": 66
        }
      ]
    },
    {
      "cell_type": "markdown",
      "metadata": {
        "id": "nHi-cXrsHulD"
      },
      "source": [
        "a set is not a proper subset of itself"
      ]
    },
    {
      "cell_type": "code",
      "metadata": {
        "colab": {
          "base_uri": "https://localhost:8080/"
        },
        "id": "t9q-whnmH08O",
        "outputId": "35c77012-abf4-406d-8875-c2f12102931c"
      },
      "source": [
        "x = {1,2,3,4,5}\n",
        "x <= x"
      ],
      "execution_count": 72,
      "outputs": [
        {
          "output_type": "execute_result",
          "data": {
            "text/plain": [
              "True"
            ]
          },
          "metadata": {},
          "execution_count": 72
        }
      ]
    },
    {
      "cell_type": "code",
      "metadata": {
        "colab": {
          "base_uri": "https://localhost:8080/"
        },
        "id": "jQs4drjqIrHq",
        "outputId": "61dcf593-9a39-4f06-ba4f-dd72a88e9472"
      },
      "source": [
        "x < x"
      ],
      "execution_count": 74,
      "outputs": [
        {
          "output_type": "execute_result",
          "data": {
            "text/plain": [
              "False"
            ]
          },
          "metadata": {},
          "execution_count": 74
        }
      ]
    },
    {
      "cell_type": "code",
      "metadata": {
        "colab": {
          "base_uri": "https://localhost:8080/"
        },
        "id": "sZ2W-WPSIynC",
        "outputId": "3af5bbdf-e092-4da0-b463-540e0b757c40"
      },
      "source": [
        "#superset\n",
        "x1 = {1,2,3,4,5,6,7,8,9}\n",
        "x2 = {2,4,6,8}\n",
        "x1.issuperset(x2)"
      ],
      "execution_count": 76,
      "outputs": [
        {
          "output_type": "execute_result",
          "data": {
            "text/plain": [
              "True"
            ]
          },
          "metadata": {},
          "execution_count": 76
        }
      ]
    },
    {
      "cell_type": "markdown",
      "metadata": {
        "id": "JYPreSAkJjPv"
      },
      "source": [
        "A set is considered a super set of itself"
      ]
    },
    {
      "cell_type": "code",
      "metadata": {
        "colab": {
          "base_uri": "https://localhost:8080/"
        },
        "id": "HPaM8AhxJXLf",
        "outputId": "435cd4d9-7911-4b02-9f8a-98fd14353c84"
      },
      "source": [
        "x2.issuperset(x1)"
      ],
      "execution_count": 78,
      "outputs": [
        {
          "output_type": "execute_result",
          "data": {
            "text/plain": [
              "False"
            ]
          },
          "metadata": {},
          "execution_count": 78
        }
      ]
    },
    {
      "cell_type": "code",
      "metadata": {
        "colab": {
          "base_uri": "https://localhost:8080/"
        },
        "id": "BNMqr4o2JpK3",
        "outputId": "ac3eee63-2f38-451b-dd91-71413c8d8fef"
      },
      "source": [
        "x.issuperset(x)"
      ],
      "execution_count": 80,
      "outputs": [
        {
          "output_type": "execute_result",
          "data": {
            "text/plain": [
              "True"
            ]
          },
          "metadata": {},
          "execution_count": 80
        }
      ]
    },
    {
      "cell_type": "code",
      "metadata": {
        "colab": {
          "base_uri": "https://localhost:8080/"
        },
        "id": "nQRYVNX9J1tb",
        "outputId": "7a4ee866-d515-4d9b-cc95-8f22516161f0"
      },
      "source": [
        "#update\n",
        "x1 = {'foo', 'bar', 'baz'}\n",
        "x2 = {'foo', 'baz', 'qux'}\n",
        "x1 |= x2 #operator\n",
        "print(x1)"
      ],
      "execution_count": 83,
      "outputs": [
        {
          "output_type": "stream",
          "name": "stdout",
          "text": [
            "{'qux', 'bar', 'foo', 'baz'}\n"
          ]
        }
      ]
    },
    {
      "cell_type": "code",
      "metadata": {
        "colab": {
          "base_uri": "https://localhost:8080/"
        },
        "id": "UqDy4O_2LKqQ",
        "outputId": "42cde71d-76c8-43fb-cf8f-1599abd7797c"
      },
      "source": [
        "x1.update(['corge', 'car'])\n",
        "print(x1)"
      ],
      "execution_count": 85,
      "outputs": [
        {
          "output_type": "stream",
          "name": "stdout",
          "text": [
            "{'qux', 'car', 'corge', 'bar', 'foo', 'baz'}\n"
          ]
        }
      ]
    },
    {
      "cell_type": "code",
      "metadata": {
        "colab": {
          "base_uri": "https://localhost:8080/"
        },
        "id": "i9oEHBMALqtW",
        "outputId": "49418de4-d00d-4600-bb36-51bc7d3b0edf"
      },
      "source": [
        "#modify by intersection\n",
        "x1 = {'foo', 'bar', 'baz'}\n",
        "x2 = {'foo', 'baz', 'qux'}\n",
        "x1 &= x2\n",
        "print(x1)"
      ],
      "execution_count": 89,
      "outputs": [
        {
          "output_type": "stream",
          "name": "stdout",
          "text": [
            "{'foo', 'baz'}\n"
          ]
        }
      ]
    },
    {
      "cell_type": "code",
      "metadata": {
        "colab": {
          "base_uri": "https://localhost:8080/"
        },
        "id": "4wlo1aXjMbJQ",
        "outputId": "e6107767-cb43-459f-e7c2-746fb66e9dff"
      },
      "source": [
        "x1.intersection_update(x2)\n",
        "print(x1)"
      ],
      "execution_count": 92,
      "outputs": [
        {
          "output_type": "stream",
          "name": "stdout",
          "text": [
            "{'foo', 'baz'}\n"
          ]
        }
      ]
    },
    {
      "cell_type": "code",
      "metadata": {
        "colab": {
          "base_uri": "https://localhost:8080/"
        },
        "id": "uUY_fxG4NTeh",
        "outputId": "836afff5-eb61-4958-d435-9ce3a715f429"
      },
      "source": [
        "#differnce update\n",
        "x1 = {'foo', 'bar', 'baz'}\n",
        "x2 = {'foo', 'baz', 'qux'}\n",
        "x1 -= x2 #x1.difference_update\n",
        "print(x1)"
      ],
      "execution_count": 96,
      "outputs": [
        {
          "output_type": "stream",
          "name": "stdout",
          "text": [
            "{'bar'}\n"
          ]
        }
      ]
    },
    {
      "cell_type": "code",
      "metadata": {
        "colab": {
          "base_uri": "https://localhost:8080/"
        },
        "id": "ZDrvTV01Nrtt",
        "outputId": "2aea46d5-9ec5-4651-c106-b7d3981f1625"
      },
      "source": [
        "x1.symmetric_difference_update(x2) # x1 ^= x2\n",
        "x1"
      ],
      "execution_count": 99,
      "outputs": [
        {
          "output_type": "execute_result",
          "data": {
            "text/plain": [
              "{'bar', 'baz', 'foo', 'qux'}"
            ]
          },
          "metadata": {},
          "execution_count": 99
        }
      ]
    },
    {
      "cell_type": "code",
      "metadata": {
        "colab": {
          "base_uri": "https://localhost:8080/"
        },
        "id": "E26IntUsOMDP",
        "outputId": "815af029-e5aa-40cf-c77e-5b8f3e53bf2a"
      },
      "source": [
        "x = {1,2,3,4,5,6,7}\n",
        "x.add(8)\n",
        "x"
      ],
      "execution_count": 102,
      "outputs": [
        {
          "output_type": "execute_result",
          "data": {
            "text/plain": [
              "{1, 2, 3, 4, 5, 6, 7, 8}"
            ]
          },
          "metadata": {},
          "execution_count": 102
        }
      ]
    },
    {
      "cell_type": "code",
      "metadata": {
        "colab": {
          "base_uri": "https://localhost:8080/"
        },
        "id": "10hNOGsgOtcp",
        "outputId": "c1d669bb-0db1-4c79-fefb-40d89257d53e"
      },
      "source": [
        "a = {2,4,6,8,10}\n",
        "a.remove(2)\n",
        "a"
      ],
      "execution_count": 112,
      "outputs": [
        {
          "output_type": "execute_result",
          "data": {
            "text/plain": [
              "{4, 6, 8, 10}"
            ]
          },
          "metadata": {},
          "execution_count": 112
        }
      ]
    },
    {
      "cell_type": "code",
      "metadata": {
        "colab": {
          "base_uri": "https://localhost:8080/",
          "height": 163
        },
        "id": "-SXm7Rd0P-Fz",
        "outputId": "a7f4ba18-3bcb-48d9-d772-93c5512aac3b"
      },
      "source": [
        "a.remove(3)"
      ],
      "execution_count": 114,
      "outputs": [
        {
          "output_type": "error",
          "ename": "KeyError",
          "evalue": "ignored",
          "traceback": [
            "\u001b[0;31m---------------------------------------------------------------------------\u001b[0m",
            "\u001b[0;31mKeyError\u001b[0m                                  Traceback (most recent call last)",
            "\u001b[0;32m<ipython-input-114-fe741f3ae678>\u001b[0m in \u001b[0;36m<module>\u001b[0;34m()\u001b[0m\n\u001b[0;32m----> 1\u001b[0;31m \u001b[0ma\u001b[0m\u001b[0;34m.\u001b[0m\u001b[0mremove\u001b[0m\u001b[0;34m(\u001b[0m\u001b[0;36m3\u001b[0m\u001b[0;34m)\u001b[0m\u001b[0;34m\u001b[0m\u001b[0;34m\u001b[0m\u001b[0m\n\u001b[0m",
            "\u001b[0;31mKeyError\u001b[0m: 3"
          ]
        }
      ]
    },
    {
      "cell_type": "code",
      "metadata": {
        "colab": {
          "base_uri": "https://localhost:8080/"
        },
        "id": "Q4VeCku-QClf",
        "outputId": "bb94ff81-77f4-4a1d-f64f-79d17be5c884"
      },
      "source": [
        "a.discard(5)\n",
        "a"
      ],
      "execution_count": 117,
      "outputs": [
        {
          "output_type": "execute_result",
          "data": {
            "text/plain": [
              "{4, 6, 8, 10}"
            ]
          },
          "metadata": {},
          "execution_count": 117
        }
      ]
    },
    {
      "cell_type": "code",
      "metadata": {
        "colab": {
          "base_uri": "https://localhost:8080/"
        },
        "id": "txhzjVOvQU64",
        "outputId": "4c040d6a-f83a-4e5f-d252-3d434ec10226"
      },
      "source": [
        "y = {1,2,3,4,5,6,7,8}\n",
        "y.pop()"
      ],
      "execution_count": 120,
      "outputs": [
        {
          "output_type": "execute_result",
          "data": {
            "text/plain": [
              "1"
            ]
          },
          "metadata": {},
          "execution_count": 120
        }
      ]
    },
    {
      "cell_type": "code",
      "metadata": {
        "colab": {
          "base_uri": "https://localhost:8080/"
        },
        "id": "l6L26AQZQhMO",
        "outputId": "2fd75126-0a74-4a7e-eab9-4edc3c146b67"
      },
      "source": [
        "y"
      ],
      "execution_count": 122,
      "outputs": [
        {
          "output_type": "execute_result",
          "data": {
            "text/plain": [
              "{2, 3, 4, 5, 6, 7, 8}"
            ]
          },
          "metadata": {},
          "execution_count": 122
        }
      ]
    },
    {
      "cell_type": "code",
      "metadata": {
        "colab": {
          "base_uri": "https://localhost:8080/"
        },
        "id": "NUwsQe0fQl94",
        "outputId": "8571a398-3218-42cd-de2e-5e876bc14b43"
      },
      "source": [
        "y.clear()\n",
        "y"
      ],
      "execution_count": 125,
      "outputs": [
        {
          "output_type": "execute_result",
          "data": {
            "text/plain": [
              "set()"
            ]
          },
          "metadata": {},
          "execution_count": 125
        }
      ]
    },
    {
      "cell_type": "code",
      "metadata": {
        "colab": {
          "base_uri": "https://localhost:8080/"
        },
        "id": "rUw0VczLQrrN",
        "outputId": "912eed99-a6c7-4b98-d30b-f8fee966c2a9"
      },
      "source": [
        "#frozen set\n",
        "x = frozenset(['foo', 'bar', 'baz'])\n",
        "x"
      ],
      "execution_count": 2,
      "outputs": [
        {
          "output_type": "execute_result",
          "data": {
            "text/plain": [
              "frozenset({'bar', 'baz', 'foo'})"
            ]
          },
          "metadata": {},
          "execution_count": 2
        }
      ]
    },
    {
      "cell_type": "markdown",
      "metadata": {
        "id": "9dK22Ewn-Nla"
      },
      "source": [
        "Frozen set is immutable."
      ]
    },
    {
      "cell_type": "code",
      "metadata": {
        "colab": {
          "base_uri": "https://localhost:8080/"
        },
        "id": "xdjrg2LH-ji2",
        "outputId": "f51a6d19-bdb8-4200-84e4-51a415fccd61"
      },
      "source": [
        "len(x)"
      ],
      "execution_count": 4,
      "outputs": [
        {
          "output_type": "execute_result",
          "data": {
            "text/plain": [
              "3"
            ]
          },
          "metadata": {},
          "execution_count": 4
        }
      ]
    },
    {
      "cell_type": "code",
      "metadata": {
        "colab": {
          "base_uri": "https://localhost:8080/",
          "height": 197
        },
        "id": "WA-iF69Q_BXk",
        "outputId": "cc64eca7-cf50-42f8-e7a7-4e5fd8a78461"
      },
      "source": [
        "#methods that attempt to modify a frozenset\n",
        "x = frozenset(['foo', 'bar', 'baz'])\n",
        "x.add('qux')"
      ],
      "execution_count": 6,
      "outputs": [
        {
          "output_type": "error",
          "ename": "AttributeError",
          "evalue": "ignored",
          "traceback": [
            "\u001b[0;31m---------------------------------------------------------------------------\u001b[0m",
            "\u001b[0;31mAttributeError\u001b[0m                            Traceback (most recent call last)",
            "\u001b[0;32m<ipython-input-6-cff9b61ca963>\u001b[0m in \u001b[0;36m<module>\u001b[0;34m()\u001b[0m\n\u001b[1;32m      1\u001b[0m \u001b[0;31m#methods that attempt to modify a frozenset\u001b[0m\u001b[0;34m\u001b[0m\u001b[0;34m\u001b[0m\u001b[0;34m\u001b[0m\u001b[0m\n\u001b[1;32m      2\u001b[0m \u001b[0mx\u001b[0m \u001b[0;34m=\u001b[0m \u001b[0mfrozenset\u001b[0m\u001b[0;34m(\u001b[0m\u001b[0;34m[\u001b[0m\u001b[0;34m'foo'\u001b[0m\u001b[0;34m,\u001b[0m \u001b[0;34m'bar'\u001b[0m\u001b[0;34m,\u001b[0m \u001b[0;34m'baz'\u001b[0m\u001b[0;34m]\u001b[0m\u001b[0;34m)\u001b[0m\u001b[0;34m\u001b[0m\u001b[0;34m\u001b[0m\u001b[0m\n\u001b[0;32m----> 3\u001b[0;31m \u001b[0mx\u001b[0m\u001b[0;34m.\u001b[0m\u001b[0madd\u001b[0m\u001b[0;34m(\u001b[0m\u001b[0;34m'qux'\u001b[0m\u001b[0;34m)\u001b[0m\u001b[0;34m\u001b[0m\u001b[0;34m\u001b[0m\u001b[0m\n\u001b[0m",
            "\u001b[0;31mAttributeError\u001b[0m: 'frozenset' object has no attribute 'add'"
          ]
        }
      ]
    },
    {
      "cell_type": "code",
      "metadata": {
        "colab": {
          "base_uri": "https://localhost:8080/",
          "height": 163
        },
        "id": "0UJb_pG1_XA3",
        "outputId": "2c0e0d9a-f0ff-4063-babe-d831c51a1ab9"
      },
      "source": [
        "x.pop()"
      ],
      "execution_count": 7,
      "outputs": [
        {
          "output_type": "error",
          "ename": "AttributeError",
          "evalue": "ignored",
          "traceback": [
            "\u001b[0;31m---------------------------------------------------------------------------\u001b[0m",
            "\u001b[0;31mAttributeError\u001b[0m                            Traceback (most recent call last)",
            "\u001b[0;32m<ipython-input-7-22e0729a7b70>\u001b[0m in \u001b[0;36m<module>\u001b[0;34m()\u001b[0m\n\u001b[0;32m----> 1\u001b[0;31m \u001b[0mx\u001b[0m\u001b[0;34m.\u001b[0m\u001b[0mpop\u001b[0m\u001b[0;34m(\u001b[0m\u001b[0;34m)\u001b[0m\u001b[0;34m\u001b[0m\u001b[0;34m\u001b[0m\u001b[0m\n\u001b[0m",
            "\u001b[0;31mAttributeError\u001b[0m: 'frozenset' object has no attribute 'pop'"
          ]
        }
      ]
    },
    {
      "cell_type": "markdown",
      "metadata": {
        "id": "WFD4Yxf__gJW"
      },
      "source": [
        "Conclusion: frozen set cannot be modified"
      ]
    },
    {
      "cell_type": "code",
      "metadata": {
        "colab": {
          "base_uri": "https://localhost:8080/"
        },
        "id": "_T6qD3zN_sZi",
        "outputId": "ee6d0b99-51a6-4fa8-d94a-84eb7040c8bc"
      },
      "source": [
        "id(x)"
      ],
      "execution_count": 10,
      "outputs": [
        {
          "output_type": "execute_result",
          "data": {
            "text/plain": [
              "139819816249536"
            ]
          },
          "metadata": {},
          "execution_count": 10
        }
      ]
    },
    {
      "cell_type": "code",
      "metadata": {
        "id": "AZfg6KNz_x4u"
      },
      "source": [
        "s = {'baz','qux','quux'}\n",
        "x &= s\n"
      ],
      "execution_count": 13,
      "outputs": []
    },
    {
      "cell_type": "code",
      "metadata": {
        "colab": {
          "base_uri": "https://localhost:8080/"
        },
        "id": "nYAvtvyXBM9c",
        "outputId": "912bb7db-382c-4283-b583-3aed58d5f4a5"
      },
      "source": [
        "id(x)"
      ],
      "execution_count": 14,
      "outputs": [
        {
          "output_type": "execute_result",
          "data": {
            "text/plain": [
              "139819816158704"
            ]
          },
          "metadata": {},
          "execution_count": 14
        }
      ]
    }
  ]
}