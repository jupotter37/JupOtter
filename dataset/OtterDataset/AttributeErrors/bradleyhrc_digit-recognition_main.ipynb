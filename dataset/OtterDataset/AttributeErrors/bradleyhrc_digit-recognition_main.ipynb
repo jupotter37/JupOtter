{
 "cells": [
  {
   "cell_type": "code",
   "execution_count": 5,
   "metadata": {},
   "outputs": [],
   "source": [
    "# Keras Library has methods for CNN and datasets we'll use\n",
    "from tensorflow import keras\n",
    "\n",
    "from keras.datasets import mnist\n",
    "from keras.models import Sequential\n",
    "from keras.layers import Dense, Dropout, Flatten, Conv2D, MaxPooling2D\n",
    "from keras.utils import np_utils\n",
    "\n",
    "# CONSTANTS\n",
    "DIGITS = 10\n",
    "dimensions = (28, 28, 1)\n",
    "\n",
    "# Separate data for training and testing\n",
    "(x_train, y_train), (x_test, y_test) = mnist.load_data()\n",
    "\n",
    "# dimension checks\n",
    "assert x_train.shape == (60000, 28, 28)\n",
    "assert x_test.shape == (10000, 28, 28)\n",
    "assert y_train.shape == (60000,)\n",
    "assert y_test.shape == (10000,)\n"
   ]
  },
  {
   "cell_type": "code",
   "execution_count": 7,
   "metadata": {},
   "outputs": [
    {
     "ename": "AttributeError",
     "evalue": "module 'keras.api._v2.keras.utils' has no attribute 'np_utils'",
     "output_type": "error",
     "traceback": [
      "\u001b[0;31m---------------------------------------------------------------------------\u001b[0m",
      "\u001b[0;31mAttributeError\u001b[0m                            Traceback (most recent call last)",
      "\u001b[1;32m/Users/bradleyherctt/Documents/GitHub/digit-recognition/main.ipynb Cell 2\u001b[0m in \u001b[0;36m<cell line: 6>\u001b[0;34m()\u001b[0m\n\u001b[1;32m      <a href='vscode-notebook-cell:/Users/bradleyherctt/Documents/GitHub/digit-recognition/main.ipynb#W1sZmlsZQ%3D%3D?line=2'>3</a>\u001b[0m x_train \u001b[39m=\u001b[39m x_train\u001b[39m.\u001b[39mreshape(x_train\u001b[39m.\u001b[39mshape[\u001b[39m0\u001b[39m], \u001b[39m28\u001b[39m, \u001b[39m28\u001b[39m, \u001b[39m1\u001b[39m) \u001b[39m# 60,000\u001b[39;00m\n\u001b[1;32m      <a href='vscode-notebook-cell:/Users/bradleyherctt/Documents/GitHub/digit-recognition/main.ipynb#W1sZmlsZQ%3D%3D?line=3'>4</a>\u001b[0m x_test \u001b[39m=\u001b[39m x_test\u001b[39m.\u001b[39mreshape(x_test\u001b[39m.\u001b[39mshape[\u001b[39m0\u001b[39m], \u001b[39m28\u001b[39m, \u001b[39m28\u001b[39m, \u001b[39m1\u001b[39m) \n\u001b[0;32m----> <a href='vscode-notebook-cell:/Users/bradleyherctt/Documents/GitHub/digit-recognition/main.ipynb#W1sZmlsZQ%3D%3D?line=5'>6</a>\u001b[0m y_train \u001b[39m=\u001b[39m keras\u001b[39m.\u001b[39;49mutils\u001b[39m.\u001b[39;49mnp_utils\u001b[39m.\u001b[39mto_categorical(y_train, DIGITS) \u001b[39m# number of classes\u001b[39;00m\n\u001b[1;32m      <a href='vscode-notebook-cell:/Users/bradleyherctt/Documents/GitHub/digit-recognition/main.ipynb#W1sZmlsZQ%3D%3D?line=6'>7</a>\u001b[0m y_test \u001b[39m=\u001b[39m keras\u001b[39m.\u001b[39mutils\u001b[39m.\u001b[39mnp_utils\u001b[39m.\u001b[39mto_categorical(y_test, DIGITS)\n\u001b[1;32m      <a href='vscode-notebook-cell:/Users/bradleyherctt/Documents/GitHub/digit-recognition/main.ipynb#W1sZmlsZQ%3D%3D?line=8'>9</a>\u001b[0m x_train \u001b[39m=\u001b[39m x_train\u001b[39m.\u001b[39mastype(\u001b[39m'\u001b[39m\u001b[39mfloat32\u001b[39m\u001b[39m'\u001b[39m)\n",
      "\u001b[0;31mAttributeError\u001b[0m: module 'keras.api._v2.keras.utils' has no attribute 'np_utils'"
     ]
    }
   ],
   "source": [
    "# Requires additional dimension for CNN model\n",
    "# Reshape matrix\n",
    "x_train = x_train.reshape(x_train.shape[0], 28, 28, 1) # 60,000\n",
    "x_test = x_test.reshape(x_test.shape[0], 28, 28, 1) \n",
    "\n",
    "y_train = keras.utils.np_utils.to_categorical(y_train, DIGITS) # number of classes\n",
    "y_test = keras.utils.np_utils.to_categorical(y_test, DIGITS)\n",
    "\n",
    "x_train = x_train.astype('float32')\n",
    "x_test = x_test.astype('float32')\n",
    "x_train /= 255\n",
    "x_test /= 255"
   ]
  },
  {
   "cell_type": "code",
   "execution_count": 28,
   "metadata": {},
   "outputs": [],
   "source": [
    "size, epochs = 128, 10\n",
    "\n",
    "model = Sequential() # initialization\n",
    "model.add(Conv2D(32, kernel_size=(3, 3), activation='relu', input_shape=dimensions)) # spacial convolution for images\n",
    "model.add(Conv2D(64, (3, 3), activation='relu'))\n",
    "model.add(MaxPooling2D(pool_size=(2, 2)))\n",
    "model.add(Dropout(0.25)) # just reduces overfitting\n",
    "model.add(Flatten())\n",
    "model.add(Dense(256, activation='relu'))\n",
    "model.add(Dropout(0.5))\n",
    "model.add(Dense(DIGITS, activation='softmax')) # softmax used as we have DIGITS = 10 classes\n",
    "\n",
    "model.compile(loss=keras.losses.sparse_categorical_crossentropy, optimizer=keras.optimizers.Adadelta(), metrics=['accuracy'])"
   ]
  },
  {
   "cell_type": "code",
   "execution_count": 29,
   "metadata": {},
   "outputs": [
    {
     "name": "stdout",
     "output_type": "stream",
     "text": [
      "Epoch 1/10\n",
      "469/469 [==============================] - 113s 238ms/step - loss: 24.9551 - accuracy: 0.1999 - val_loss: 3.2882 - val_accuracy: 0.6238\n",
      "Epoch 2/10\n",
      "469/469 [==============================] - 111s 236ms/step - loss: 11.4719 - accuracy: 0.3616 - val_loss: 1.6809 - val_accuracy: 0.7524\n",
      "Epoch 3/10\n",
      "469/469 [==============================] - 108s 231ms/step - loss: 6.7914 - accuracy: 0.4660 - val_loss: 1.1226 - val_accuracy: 0.7873\n",
      "Epoch 4/10\n",
      "469/469 [==============================] - 104s 222ms/step - loss: 4.7133 - accuracy: 0.5128 - val_loss: 0.8449 - val_accuracy: 0.7965\n",
      "Epoch 5/10\n",
      "469/469 [==============================] - 100s 212ms/step - loss: 3.5633 - accuracy: 0.5301 - val_loss: 0.7205 - val_accuracy: 0.7998\n",
      "Epoch 6/10\n",
      "469/469 [==============================] - 95s 202ms/step - loss: 2.8162 - accuracy: 0.5436 - val_loss: 0.6995 - val_accuracy: 0.7906\n",
      "Epoch 7/10\n",
      "469/469 [==============================] - 92s 196ms/step - loss: 2.3001 - accuracy: 0.5537 - val_loss: 0.7297 - val_accuracy: 0.7863\n",
      "Epoch 8/10\n",
      "469/469 [==============================] - 95s 202ms/step - loss: 1.9977 - accuracy: 0.5538 - val_loss: 0.7793 - val_accuracy: 0.7821\n",
      "Epoch 9/10\n",
      "469/469 [==============================] - 92s 197ms/step - loss: 1.8027 - accuracy: 0.5630 - val_loss: 0.8119 - val_accuracy: 0.7788\n",
      "Epoch 10/10\n",
      "469/469 [==============================] - 92s 196ms/step - loss: 1.6444 - accuracy: 0.5720 - val_loss: 0.8250 - val_accuracy: 0.7816\n"
     ]
    }
   ],
   "source": [
    "hist = model.fit(x_train, y_train, batch_size=size, epochs=epochs, verbose=1, validation_data=(x_test, y_test))\n"
   ]
  },
  {
   "cell_type": "code",
   "execution_count": 2,
   "metadata": {},
   "outputs": [
    {
     "ename": "NameError",
     "evalue": "name 'model' is not defined",
     "output_type": "error",
     "traceback": [
      "\u001b[0;31m---------------------------------------------------------------------------\u001b[0m",
      "\u001b[0;31mNameError\u001b[0m                                 Traceback (most recent call last)",
      "\u001b[1;32m/Users/bradleyherctt/Documents/GitHub/digit-recognition/main.ipynb Cell 5\u001b[0m in \u001b[0;36m<cell line: 1>\u001b[0;34m()\u001b[0m\n\u001b[0;32m----> <a href='vscode-notebook-cell:/Users/bradleyherctt/Documents/GitHub/digit-recognition/main.ipynb#W4sZmlsZQ%3D%3D?line=0'>1</a>\u001b[0m score \u001b[39m=\u001b[39m model\u001b[39m.\u001b[39mevaluate(x_test, y_test, verbose\u001b[39m=\u001b[39m\u001b[39m0\u001b[39m)\n\u001b[1;32m      <a href='vscode-notebook-cell:/Users/bradleyherctt/Documents/GitHub/digit-recognition/main.ipynb#W4sZmlsZQ%3D%3D?line=1'>2</a>\u001b[0m \u001b[39mprint\u001b[39m(\u001b[39m'\u001b[39m\u001b[39mTest loss:\u001b[39m\u001b[39m'\u001b[39m, score[\u001b[39m0\u001b[39m])\n\u001b[1;32m      <a href='vscode-notebook-cell:/Users/bradleyherctt/Documents/GitHub/digit-recognition/main.ipynb#W4sZmlsZQ%3D%3D?line=2'>3</a>\u001b[0m \u001b[39mprint\u001b[39m(\u001b[39m'\u001b[39m\u001b[39mTest accuracy:\u001b[39m\u001b[39m'\u001b[39m, score[\u001b[39m1\u001b[39m])\n",
      "\u001b[0;31mNameError\u001b[0m: name 'model' is not defined"
     ]
    }
   ],
   "source": [
    "score = model.evaluate(x_test, y_test, verbose=0)\n",
    "print('Test loss:', score[0])\n",
    "print('Test accuracy:', score[1])\n",
    "\n",
    "model.save('model.h5')"
   ]
  }
 ],
 "metadata": {
  "kernelspec": {
   "display_name": "Python 3.10.4 64-bit",
   "language": "python",
   "name": "python3"
  },
  "language_info": {
   "codemirror_mode": {
    "name": "ipython",
    "version": 3
   },
   "file_extension": ".py",
   "mimetype": "text/x-python",
   "name": "python",
   "nbconvert_exporter": "python",
   "pygments_lexer": "ipython3",
   "version": "3.10.4"
  },
  "orig_nbformat": 4,
  "vscode": {
   "interpreter": {
    "hash": "949777d72b0d2535278d3dc13498b2535136f6dfe0678499012e853ee9abcab1"
   }
  }
 },
 "nbformat": 4,
 "nbformat_minor": 2
}
