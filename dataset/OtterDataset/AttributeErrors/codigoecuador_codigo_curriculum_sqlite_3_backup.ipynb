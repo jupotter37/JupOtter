{
 "cells": [
  {
   "cell_type": "markdown",
   "metadata": {},
   "source": [
    "This lesson is optional, but very useful if you want a quick way to make a command line app with a database. My goal in creating it is to give you what I wish I had when I first started learning Python. The cmd library and sql can be combined to create a console application that can gather, process, and display data. \n",
    "\n",
    "In this lesson, we will show you how to construct a command line interface with sqlite and the cmd module. You can build a simple fully fledged data storage application using only the Python standard library!\n",
    "\n",
    "Don't try to memorize this lesson. Think of it as a template that you can cut and paste.\n",
    "\n",
    "We are going to keep our file from the previous database, cities.db. If you want, you can make a copy and use that one."
   ]
  },
  {
   "cell_type": "code",
   "execution_count": 1,
   "metadata": {},
   "outputs": [],
   "source": [
    "#The module that Python uses for the command line is called cmd, lets cut and paste some basic text here.\n",
    "#Let's also import sys, because this module needs to use it to quit.\n",
    "import cmd, sys\n",
    "import sqlite3"
   ]
  },
  {
   "cell_type": "code",
   "execution_count": 2,
   "metadata": {},
   "outputs": [],
   "source": [
    "class CitiesCMD(cmd.Cmd):\n",
    "    '''\n",
    "    This is the command line interface. Everything below this is for command\n",
    "    line items.\n",
    "    '''\n",
    "       \n",
    "    #all commands are prefixed with do_ or help_\n",
    "    #to enter the search command at the cli you type \"search\"\n",
    "    #to get help on it you enter \"help search\"\n",
    "    \n",
    "    intro = \"CityDBShell automates the process of collecting city data.\"\n",
    "    prompt = \"(CityDBShell) \"\n",
    "    entry = \"\"\n",
    "    \n",
    "    \n",
    "    def do_search(self, command):\n",
    "        print('we need to implement the search function')\n",
    "           \n",
    "    def help_search(self):\n",
    "        print('''Search function for finding cities.\n",
    "             ''')\n",
    "    \n",
    "    def do_quit(self, arg):\n",
    "        print(\"Quitting the program\")\n",
    "        sys.exit()\n",
    "        \n",
    "    def help_quit(self):\n",
    "        print('Exits the program')\n",
    "\n",
    "    def default(self, line):       \n",
    "        \"\"\"Called on an input line when the command prefix is not recognized.\n",
    "           In that case we execute the line as Python code.\n",
    "        \"\"\"\n",
    "        try:\n",
    "            exec(line) in self._locals, self._globals\n",
    "        except Exception as e:\n",
    "            print(e.__class__, \":\", e)  \n",
    "\n",
    "def main():\n",
    "    app = CitiesCMD().cmdloop()"
   ]
  },
  {
   "cell_type": "markdown",
   "metadata": {},
   "source": [
    "Confused about what the code above does? Let me tell you a secret. I am confused about it too. So let's test it. We start it by calling the `main()` function."
   ]
  },
  {
   "cell_type": "code",
   "execution_count": 3,
   "metadata": {},
   "outputs": [
    {
     "name": "stdout",
     "output_type": "stream",
     "text": [
      "CityDBShell automates the process of collecting city data.\n"
     ]
    },
    {
     "name": "stdin",
     "output_type": "stream",
     "text": [
      "(CityDBShell)  \n",
      "(CityDBShell)  \n",
      "(CityDBShell)  \n",
      "(CityDBShell)  exit\n"
     ]
    },
    {
     "name": "stdout",
     "output_type": "stream",
     "text": [
      "<class 'AttributeError'> : 'CitiesCMD' object has no attribute '_locals'\n"
     ]
    },
    {
     "name": "stdin",
     "output_type": "stream",
     "text": [
      "(CityDBShell)  quit\n"
     ]
    },
    {
     "name": "stdout",
     "output_type": "stream",
     "text": [
      "Quitting the program\n"
     ]
    },
    {
     "ename": "SystemExit",
     "evalue": "",
     "output_type": "error",
     "traceback": [
      "An exception has occurred, use %tb to see the full traceback.\n",
      "\u001b[0;31mSystemExit\u001b[0m\n"
     ]
    },
    {
     "name": "stderr",
     "output_type": "stream",
     "text": [
      "/Users/thomassullivan/data_science/anaconda3/envs/cy_practice/lib/python3.7/site-packages/IPython/core/interactiveshell.py:3334: UserWarning: To exit: use 'exit', 'quit', or Ctrl-D.\n",
      "  warn(\"To exit: use 'exit', 'quit', or Ctrl-D.\", stacklevel=1)\n"
     ]
    }
   ],
   "source": [
    "#Let's test it out, open it up and type \"search\", \"help search\", \"help\", and then \"quit\".\n",
    "main()"
   ]
  },
  {
   "cell_type": "markdown",
   "metadata": {},
   "source": [
    "Notice how `cmd` uses do_search for the search command function. Then it uses help_search for the search help function"
   ]
  },
  {
   "cell_type": "markdown",
   "metadata": {},
   "source": [
    "Notice how the CMD module creates a default structure for help commands!"
   ]
  },
  {
   "cell_type": "markdown",
   "metadata": {},
   "source": [
    "Let's keep this simple by copying all the functions into our cmd module from the previous lesson. We will start with the database connection. We create two global variables for cursor and db, to allow the cmd module to use those variables. We connect to the database with the db. We will also add the search function to the cmd module."
   ]
  },
  {
   "cell_type": "code",
   "execution_count": 4,
   "metadata": {},
   "outputs": [],
   "source": [
    "import cmd, sys\n",
    "import sqlite3\n",
    "\n",
    "cursor = None #global variable\n",
    "db = None #global variable\n",
    "\n",
    "def find_city(id: int):\n",
    "    sql = '''select name, province, country, population from cities\n",
    "    where id = ?''' #\n",
    "    return cur.execute(sql, (id,)).fetchall()[0]\n",
    "\n",
    "#Notice how we add 'find_city' outside of the CMD function.\n",
    "\n",
    "class CitiesCMD(cmd.Cmd):\n",
    "    '''\n",
    "    This is the command line interface. Everything below this is for command\n",
    "    line items.\n",
    "    '''\n",
    "       \n",
    "    #all commands are prefixed with do_ or help_\n",
    "    #to enter the search command at the cli you type \"search\"\n",
    "    #to get help on it you enter \"help search\"\n",
    "    \n",
    "    intro = \"CityDBShell automates the process of collecting city data.\"\n",
    "    prompt = \"(CityDBShell) \"\n",
    "    entry = \"\"\n",
    "    \n",
    "    def do_search(self, command): #we are only implementing the search function for now.\n",
    "        result = find_city(id=command)\n",
    "        print(result)\n",
    "           \n",
    "    def help_search(self):\n",
    "        print('''Search function for finding cities.\n",
    "             ''')\n",
    "    \n",
    "    def do_quit(self, arg):\n",
    "        print(\"Quitting the program\")\n",
    "        sys.exit()\n",
    "        \n",
    "    def help_quit(self):\n",
    "        print('Exits the program')\n",
    "\n",
    "    def default(self, line):       \n",
    "        \"\"\"Called on an input line when the command prefix is not recognized.\n",
    "           In that case we execute the line as Python code.\n",
    "        \"\"\"\n",
    "        try:\n",
    "            exec(line) in self._locals, self._globals\n",
    "        except Exception as e:\n",
    "            print(e.__class__, \":\", e)  \n",
    "\n",
    "def main():\n",
    "    global cur, db #writes to a global variable from within a function\n",
    "    db = sqlite3.connect('cities.db') #we connected to the database!\n",
    "    cur = db.cursor() #we created the cursor!\n",
    "    app = CitiesCMD().cmdloop()"
   ]
  },
  {
   "cell_type": "markdown",
   "metadata": {},
   "source": [
    "First, let's connect to the database automatically by adding the commands to connect to the main() function."
   ]
  },
  {
   "cell_type": "code",
   "execution_count": 5,
   "metadata": {},
   "outputs": [
    {
     "name": "stdout",
     "output_type": "stream",
     "text": [
      "CityDBShell automates the process of collecting city data.\n"
     ]
    },
    {
     "name": "stdin",
     "output_type": "stream",
     "text": [
      "(CityDBShell)  search 2\n"
     ]
    },
    {
     "name": "stdout",
     "output_type": "stream",
     "text": [
      "('Quito', 'Pichincha', 'Ecuador', 2000000)\n"
     ]
    },
    {
     "name": "stdin",
     "output_type": "stream",
     "text": [
      "(CityDBShell)  search 1\n"
     ]
    },
    {
     "name": "stdout",
     "output_type": "stream",
     "text": [
      "('Quito', 'Pichincha', 'Ecuador', 2000000)\n"
     ]
    },
    {
     "name": "stdin",
     "output_type": "stream",
     "text": [
      "(CityDBShell)  exit\n"
     ]
    },
    {
     "name": "stdout",
     "output_type": "stream",
     "text": [
      "<class 'AttributeError'> : 'CitiesCMD' object has no attribute '_locals'\n"
     ]
    },
    {
     "name": "stdin",
     "output_type": "stream",
     "text": [
      "(CityDBShell)  quit\n"
     ]
    },
    {
     "name": "stdout",
     "output_type": "stream",
     "text": [
      "Quitting the program\n"
     ]
    },
    {
     "ename": "SystemExit",
     "evalue": "",
     "output_type": "error",
     "traceback": [
      "An exception has occurred, use %tb to see the full traceback.\n",
      "\u001b[0;31mSystemExit\u001b[0m\n"
     ]
    }
   ],
   "source": [
    "main()"
   ]
  },
  {
   "cell_type": "markdown",
   "metadata": {},
   "source": [
    "As you can see, we've now gotten the program to print out the information for us just by typing in a command. We've made an app. A simple one for sure but sometimes simple is best. Let's add some functionality to our app by adding the add and delete functions."
   ]
  },
  {
   "cell_type": "code",
   "execution_count": 6,
   "metadata": {},
   "outputs": [],
   "source": [
    "import cmd, sys\n",
    "import sqlite3\n",
    "\n",
    "cursor = None #global variable\n",
    "db = None #global variable\n",
    "\n",
    "def add_city(name: str, province: str, country: str, population: int) -> None: #doesn't return anything\n",
    "    sql = '''insert into cities (name, province, country, population) values (?,?,?,?)'''\n",
    "    cur.execute(sql, (name, province, country, population))\n",
    "\n",
    "def find_city(id: int):\n",
    "    sql = '''select name, province, country, population from cities\n",
    "    where id = ?''' #\n",
    "    return cur.execute(sql, (id,)).fetchall()[0]\n",
    "\n",
    "#Notice how we add 'find_city' outside of the CMD function.\n",
    "\n",
    "class CitiesCMD(cmd.Cmd):\n",
    "    '''\n",
    "    This is the command line interface. Everything below this is for command\n",
    "    line items.\n",
    "    '''\n",
    "       \n",
    "    #all commands are prefixed with do_ or help_\n",
    "    #to enter the search command at the cli you type \"search\"\n",
    "    #to get help on it you enter \"help search\"\n",
    "    \n",
    "    intro = \"CityDBShell automates the process of collecting city data.\"\n",
    "    prompt = \"(CityDBShell) \"\n",
    "    entry = \"\"\n",
    "    \n",
    "    def do_search(self, command): #we are only implementing the search function for now.\n",
    "        result = find_city(id=command)\n",
    "        print(result)\n",
    "           \n",
    "    def help_search(self):\n",
    "        print('''Search function for finding cities.\n",
    "             ''')\n",
    "        \n",
    "    def do_add(self, command):\n",
    "        command=command.split() #split the command string into multiple parts\n",
    "        add_city(name=command[0], province=command[1], country=command[2], population=command[3])\n",
    "    \n",
    "    def do_quit(self, arg):\n",
    "        print(\"Quitting the program\")\n",
    "        cur.close() #close the cursor\n",
    "        db.commit() #commit the changes to the database\n",
    "        db.close() #close the database\n",
    "        sys.exit() #exit the program with sys.exit()\n",
    "        \n",
    "    def help_quit(self):\n",
    "        print('Exits the program')\n",
    "\n",
    "    def default(self, line):       \n",
    "        \"\"\"Called on an input line when the command prefix is not recognized.\n",
    "           In that case we execute the line as Python code.\n",
    "        \"\"\"\n",
    "        try:\n",
    "            exec(line) in self._locals, self._globals\n",
    "        except Exception as e:\n",
    "            print(e.__class__, \":\", e)  \n",
    "\n",
    "def main():\n",
    "    global cur, db #writes to a global variable from within a function\n",
    "    db = sqlite3.connect('cities.db') #we connected to the database!\n",
    "    cur = db.cursor() #we created the cursor!\n",
    "    app = CitiesCMD().cmdloop()"
   ]
  },
  {
   "cell_type": "code",
   "execution_count": 7,
   "metadata": {},
   "outputs": [
    {
     "name": "stdout",
     "output_type": "stream",
     "text": [
      "CityDBShell automates the process of collecting city data.\n"
     ]
    },
    {
     "name": "stdin",
     "output_type": "stream",
     "text": [
      "(CityDBShell)  search 1\n"
     ]
    },
    {
     "name": "stdout",
     "output_type": "stream",
     "text": [
      "('Quito', 'Pichincha', 'Ecuador', 2000000)\n"
     ]
    },
    {
     "name": "stdin",
     "output_type": "stream",
     "text": [
      "(CityDBShell)  exit\n"
     ]
    },
    {
     "name": "stdout",
     "output_type": "stream",
     "text": [
      "<class 'AttributeError'> : 'CitiesCMD' object has no attribute '_locals'\n"
     ]
    },
    {
     "name": "stdin",
     "output_type": "stream",
     "text": [
      "(CityDBShell)  quit\n"
     ]
    },
    {
     "name": "stdout",
     "output_type": "stream",
     "text": [
      "Quitting the program\n"
     ]
    },
    {
     "ename": "SystemExit",
     "evalue": "",
     "output_type": "error",
     "traceback": [
      "An exception has occurred, use %tb to see the full traceback.\n",
      "\u001b[0;31mSystemExit\u001b[0m\n"
     ]
    }
   ],
   "source": [
    "#Let's run the main function\n",
    "#then type \"add Lima Lima Peru 2000000\"\n",
    "#then type search 4 to find Lima by its ID\n",
    "main()"
   ]
  },
  {
   "cell_type": "markdown",
   "metadata": {},
   "source": [
    "Let us continue building our our application by adding commands to edit and delete cities from the database, as well as another function to view every city."
   ]
  },
  {
   "cell_type": "markdown",
   "metadata": {},
   "source": [
    "We will add the delete function in the code below. Notice that it is copied and pasted from the previous lesson:\n",
    "\n",
    "`def delete_city(id: int) -> None: #type hints are optional\n",
    "    sql = '''delete from cities where id = ?'''\n",
    "    cur.execute(sql, (id,))`\n",
    "    \n",
    "And we will add a delete command to make sure it is accessible from the console:\n",
    "\n",
    "`def do_delete(self, command):\n",
    "    delete_city(id=command)`\n",
    "        \n",
    "The delete console command takes its input and feeds it to the `delete_city` function, with the city ID provided as user input.\n",
    "\n",
    "When we create the delete function, we raise the possibility we might search for an article we deleted. We might also delete articles that no longer exist in the database. We protect against this by using a try...except construction. It raises an `IndexError` when we search for an item that does not exist."
   ]
  },
  {
   "cell_type": "code",
   "execution_count": 13,
   "metadata": {},
   "outputs": [],
   "source": [
    "import cmd, sys\n",
    "import sqlite3\n",
    "\n",
    "cursor = None #global variable\n",
    "db = None #global variable\n",
    "\n",
    "def add_city(name: str, province: str, country: str, population: int) -> None: #doesn't return anything\n",
    "    sql = '''insert into cities (name, province, country, population) values (?,?,?,?)'''\n",
    "    cur.execute(sql, (name, province, country, population))\n",
    "\n",
    "def find_city(id: int):\n",
    "    sql = '''select name, province, country, population from cities\n",
    "    where id = ?''' #\n",
    "    return cur.execute(sql, (id,)).fetchall()[0]\n",
    "\n",
    "def find_all_cities(): #takes no argument because we are displaying all the cities.\n",
    "    sql = '''select id, name, province, country, population from cities'''\n",
    "    return cur.execute(sql).fetchall()\n",
    "\n",
    "#Let's copy the delete_city function from chapter 2\n",
    "    \n",
    "def delete_city(id: int) -> None: #type hints are optional\n",
    "    sql = '''delete from cities where id = ?'''\n",
    "    cur.execute(sql, (id,))\n",
    "    \n",
    "#Notice how we add 'find_city' outside of the CMD function.\n",
    "\n",
    "class CitiesCMD(cmd.Cmd):\n",
    "    '''\n",
    "    This is the command line interface. Everything below this is for command\n",
    "    line items.\n",
    "    '''\n",
    "       \n",
    "    #all commands are prefixed with do_ or help_\n",
    "    #to enter the search command at the cli you type \"search\"\n",
    "    #to get help on it you enter \"help search\"\n",
    "    \n",
    "    intro = \"CityDBShell automates the process of collecting city data.\"\n",
    "    prompt = \"(CityDBShell) \"\n",
    "    entry = \"\"\n",
    "    \n",
    "    def do_search(self, command): #we are only implementing the search function for now.\n",
    "        try:\n",
    "            result = find_city(id=command)\n",
    "            print(result)\n",
    "        except IndexError:\n",
    "            print('City does not exist')\n",
    "        \n",
    "    def help_search(self):\n",
    "        print('''Search function for finding cities.\n",
    "             ''')\n",
    "        \n",
    "    def do_find_all(self, command):\n",
    "        result = find_all_cities()\n",
    "        for item in result:\n",
    "            print(item)\n",
    "        \n",
    "    def do_add(self, command):\n",
    "        command=command.split() #split the command string into multiple parts\n",
    "        add_city(name=command[0], province=command[1], country=command[2], population=command[3])    \n",
    "    \n",
    "    def do_delete(self, command):\n",
    "        try:\n",
    "            delete_city(id=command)\n",
    "        except IndexError:\n",
    "            print('City does not exist')\n",
    "    \n",
    "    def do_quit(self, arg):\n",
    "        print(\"Quitting the program\")\n",
    "        cur.close() #close the cursor\n",
    "        db.commit() #commit the changes to the database\n",
    "        db.close() #close the database\n",
    "        sys.exit() #exit the program with sys.exit()\n",
    "        \n",
    "    def help_quit(self):\n",
    "        print('Exits the program')\n",
    "\n",
    "    def default(self, line):       \n",
    "        \"\"\"Called on an input line when the command prefix is not recognized.\n",
    "           In that case we execute the line as Python code.\n",
    "        \"\"\"\n",
    "        try:\n",
    "            exec(line) in self._locals, self._globals\n",
    "        except Exception as e:\n",
    "            print(e.__class__, \":\", e)  \n",
    "\n",
    "def main():\n",
    "    global cur, db #writes to a global variable from within a function\n",
    "    db = sqlite3.connect('cities.db') #we connected to the database!\n",
    "    cur = db.cursor() #we created the cursor!\n",
    "    app = CitiesCMD().cmdloop()"
   ]
  },
  {
   "cell_type": "code",
   "execution_count": 14,
   "metadata": {},
   "outputs": [
    {
     "name": "stdout",
     "output_type": "stream",
     "text": [
      "CityDBShell automates the process of collecting city data.\n"
     ]
    },
    {
     "name": "stdin",
     "output_type": "stream",
     "text": [
      "(CityDBShell)  search 4\n"
     ]
    },
    {
     "name": "stdout",
     "output_type": "stream",
     "text": [
      "City does not exist\n"
     ]
    },
    {
     "name": "stdin",
     "output_type": "stream",
     "text": [
      "(CityDBShell)  exit\n"
     ]
    },
    {
     "name": "stdout",
     "output_type": "stream",
     "text": [
      "<class 'AttributeError'> : 'CitiesCMD' object has no attribute '_locals'\n"
     ]
    },
    {
     "name": "stdin",
     "output_type": "stream",
     "text": [
      "(CityDBShell)  quit\n"
     ]
    },
    {
     "name": "stdout",
     "output_type": "stream",
     "text": [
      "Quitting the program\n"
     ]
    },
    {
     "ename": "SystemExit",
     "evalue": "",
     "output_type": "error",
     "traceback": [
      "An exception has occurred, use %tb to see the full traceback.\n",
      "\u001b[0;31mSystemExit\u001b[0m\n"
     ]
    }
   ],
   "source": [
    "main()"
   ]
  },
  {
   "cell_type": "markdown",
   "metadata": {},
   "source": [
    "So typing in `find_all` displays all of the information about the cities in a Tuple. For a short database like this, it is enough to be able to search for and edit entries specifically. What happens if we ask for help with `find_all` or `add_city`."
   ]
  },
  {
   "cell_type": "markdown",
   "metadata": {},
   "source": [
    "Now let's create an update function."
   ]
  },
  {
   "cell_type": "code",
   "execution_count": 16,
   "metadata": {},
   "outputs": [],
   "source": [
    "#Try deleting a city and then searching for it, you should get a printed message that the city does not exist"
   ]
  },
  {
   "cell_type": "markdown",
   "metadata": {},
   "source": [
    "Now that we have the add function completed, we need to do two more things to finish our cmd/sqlite command line interface.\n",
    "\n",
    "1) Add an update function.\n",
    "2) Document the commands.\n",
    "\n",
    "To illustrate what I mean by documenting commands, let's go back to our app and display the help menu."
   ]
  },
  {
   "cell_type": "code",
   "execution_count": 18,
   "metadata": {},
   "outputs": [
    {
     "name": "stdout",
     "output_type": "stream",
     "text": [
      "CityDBShell automates the process of collecting city data.\n"
     ]
    },
    {
     "name": "stdin",
     "output_type": "stream",
     "text": [
      "(CityDBShell)  search 4\n"
     ]
    },
    {
     "name": "stdout",
     "output_type": "stream",
     "text": [
      "City does not exist\n"
     ]
    },
    {
     "name": "stdin",
     "output_type": "stream",
     "text": [
      "(CityDBShell)  exit 4\n"
     ]
    },
    {
     "name": "stdout",
     "output_type": "stream",
     "text": [
      "<class 'SyntaxError'> : invalid syntax (<string>, line 1)\n"
     ]
    },
    {
     "name": "stdin",
     "output_type": "stream",
     "text": [
      "(CityDBShell)  quit 4\n"
     ]
    },
    {
     "name": "stdout",
     "output_type": "stream",
     "text": [
      "Quitting the program\n"
     ]
    },
    {
     "ename": "SystemExit",
     "evalue": "",
     "output_type": "error",
     "traceback": [
      "An exception has occurred, use %tb to see the full traceback.\n",
      "\u001b[0;31mSystemExit\u001b[0m\n"
     ]
    }
   ],
   "source": [
    "main() #calls the most recent version of the app in a Jupyter notebook. "
   ]
  },
  {
   "cell_type": "markdown",
   "metadata": {},
   "source": [
    "Notice how the `help` command displays certain commands as \"undocumented commands.\" These are because there is no help function associated with them. Let's add the help functions to this program."
   ]
  }
 ],
 "metadata": {
  "kernelspec": {
   "display_name": "Python 3",
   "language": "python",
   "name": "python3"
  },
  "language_info": {
   "codemirror_mode": {
    "name": "ipython",
    "version": 3
   },
   "file_extension": ".py",
   "mimetype": "text/x-python",
   "name": "python",
   "nbconvert_exporter": "python",
   "pygments_lexer": "ipython3",
   "version": "3.7.4"
  }
 },
 "nbformat": 4,
 "nbformat_minor": 4
}
