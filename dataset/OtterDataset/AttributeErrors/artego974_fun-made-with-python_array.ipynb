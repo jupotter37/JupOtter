{
 "cells": [
  {
   "cell_type": "code",
   "execution_count": 25,
   "metadata": {},
   "outputs": [
    {
     "name": "stdout",
     "output_type": "stream",
     "text": [
      "['tv', 'celular', 'tablet', '1']\n"
     ]
    }
   ],
   "source": [
    "n = '1'\n",
    "prod = [\n",
    "    'tv','celular','tablet',n\n",
    "        ]\n",
    "print(prod)"
   ]
  },
  {
   "cell_type": "code",
   "execution_count": 26,
   "metadata": {},
   "outputs": [],
   "source": [
    "venda = [\n",
    "    900,\n",
    "    500,\n",
    "    300,\n",
    "]"
   ]
  },
  {
   "cell_type": "code",
   "execution_count": 27,
   "metadata": {},
   "outputs": [
    {
     "name": "stdout",
     "output_type": "stream",
     "text": [
      "Vendas do produto celular foi de 500 compras\n"
     ]
    }
   ],
   "source": [
    "print('Vendas do produto {} foi de {} compras'.format(prod[1],venda[1]))"
   ]
  },
  {
   "cell_type": "code",
   "execution_count": 28,
   "metadata": {},
   "outputs": [
    {
     "name": "stdout",
     "output_type": "stream",
     "text": [
      "O produto tv teve a quantida de vendas de 900.\n"
     ]
    }
   ],
   "source": [
    "i = prod.index('tv')\n",
    "estoque = venda[i]\n",
    "\n",
    "print ('O produto {} teve a quantida de vendas de {}.'.format(prod[i],estoque))\n"
   ]
  },
  {
   "cell_type": "code",
   "execution_count": 29,
   "metadata": {},
   "outputs": [
    {
     "name": "stdout",
     "output_type": "stream",
     "text": [
      "O produto (a) não foi encontrado o produto ou não existe.\n"
     ]
    }
   ],
   "source": [
    "produto = input('fala ai')\n",
    "if produto in prod:\n",
    "    i = prod.index(produto)\n",
    "    estoque = venda[i]\n",
    "    print('Temos {} do produto {} em estoque.'.format(estoque, produto))\n",
    "else:\n",
    "    print('O produto ({}) não foi encontrado o produto ou não existe.'.format(produto))\n"
   ]
  },
  {
   "cell_type": "markdown",
   "metadata": {},
   "source": [
    "adiciona\n",
    "append adiciona algum item\n",
    "\n",
    "remover \n",
    "(remove e pop)\n",
    "remove pelo nome \n",
    "pop indice\n",
    "\n",
    "try \n",
    "tenta executar \n",
    "except\n",
    "caso de errado"
   ]
  },
  {
   "cell_type": "code",
   "execution_count": 30,
   "metadata": {},
   "outputs": [
    {
     "name": "stdout",
     "output_type": "stream",
     "text": [
      "1000 500\n"
     ]
    }
   ],
   "source": [
    "vendas = [1000, 500, 600]\n",
    "\n",
    "maisVendido = max(vendas)\n",
    "menosVendido = min(vendas)\n",
    "print(maisVendido, menosVendido)"
   ]
  },
  {
   "cell_type": "code",
   "execution_count": 31,
   "metadata": {},
   "outputs": [
    {
     "name": "stdout",
     "output_type": "stream",
     "text": [
      "tv\n"
     ]
    }
   ],
   "source": [
    "i = vendas.index(maisVendido)\n",
    "pdtM = prod[i]\n",
    "print(pdtM)"
   ]
  },
  {
   "cell_type": "markdown",
   "metadata": {},
   "source": [
    "print \"normal\"\n",
    "metodo join -> texto.join(lista)"
   ]
  },
  {
   "cell_type": "code",
   "execution_count": 32,
   "metadata": {},
   "outputs": [
    {
     "name": "stdout",
     "output_type": "stream",
     "text": [
      "['tv', 'celular', 'tablet', '1']\n",
      "tv\n",
      "celular\n",
      "tablet\n",
      "1\n"
     ]
    }
   ],
   "source": [
    "print (prod)\n",
    "\n",
    "print('\\n'.join(prod))"
   ]
  },
  {
   "cell_type": "markdown",
   "metadata": {},
   "source": [
    "split = separador"
   ]
  },
  {
   "cell_type": "code",
   "execution_count": 37,
   "metadata": {},
   "outputs": [
    {
     "ename": "AttributeError",
     "evalue": "'list' object has no attribute 'split'",
     "output_type": "error",
     "traceback": [
      "\u001b[1;31m---------------------------------------------------------------------------\u001b[0m",
      "\u001b[1;31mAttributeError\u001b[0m                            Traceback (most recent call last)",
      "Cell \u001b[1;32mIn[37], line 4\u001b[0m\n\u001b[0;32m      1\u001b[0m prod \u001b[38;5;241m=\u001b[39m [\n\u001b[0;32m      2\u001b[0m     \u001b[38;5;124m'\u001b[39m\u001b[38;5;124mtv\u001b[39m\u001b[38;5;124m'\u001b[39m,\u001b[38;5;124m'\u001b[39m\u001b[38;5;124mcelular\u001b[39m\u001b[38;5;124m'\u001b[39m,\u001b[38;5;124m'\u001b[39m\u001b[38;5;124mtablet\u001b[39m\u001b[38;5;124m'\u001b[39m,\n\u001b[0;32m      3\u001b[0m         ]\n\u001b[1;32m----> 4\u001b[0m lsta \u001b[38;5;241m=\u001b[39m \u001b[43mprod\u001b[49m\u001b[38;5;241;43m.\u001b[39;49m\u001b[43msplit\u001b[49m(\u001b[38;5;124m'\u001b[39m\u001b[38;5;124m, \u001b[39m\u001b[38;5;124m'\u001b[39m)\n\u001b[0;32m      6\u001b[0m \u001b[38;5;28mprint\u001b[39m(lsta)\n",
      "\u001b[1;31mAttributeError\u001b[0m: 'list' object has no attribute 'split'"
     ]
    }
   ],
   "source": [
    "prod = [\n",
    "    'tv','celular','tablet',\n",
    "        ]\n",
    "lista = prod.split(', ')\n",
    "\n",
    "print(lista)"
   ]
  },
  {
   "cell_type": "markdown",
   "metadata": {},
   "source": [
    "array dentro de array\n",
    "vendedor = ['a', 'b']\n",
    "produto = ['ipad', iphone]\n",
    "venda = [\n",
    "    [100, 200],\n",
    "    [100, 300],\n",
    "]"
   ]
  }
 ],
 "metadata": {
  "kernelspec": {
   "display_name": "Python 3",
   "language": "python",
   "name": "python3"
  },
  "language_info": {
   "codemirror_mode": {
    "name": "ipython",
    "version": 3
   },
   "file_extension": ".py",
   "mimetype": "text/x-python",
   "name": "python",
   "nbconvert_exporter": "python",
   "pygments_lexer": "ipython3",
   "version": "3.11.9"
  }
 },
 "nbformat": 4,
 "nbformat_minor": 2
}
