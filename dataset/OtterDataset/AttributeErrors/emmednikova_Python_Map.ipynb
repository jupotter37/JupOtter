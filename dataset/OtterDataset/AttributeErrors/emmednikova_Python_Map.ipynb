{
 "cells": [
  {
   "cell_type": "markdown",
   "id": "53e3625a",
   "metadata": {},
   "source": [
    "## Реализовать структуру данных map (аналогичную словарям в Python) с базовым набором операций. Предоставить возможность пользователю кастомизировать способ разрешения коллизий (метод цепочек и открытой адрессации)."
   ]
  },
  {
   "cell_type": "markdown",
   "id": "ba5952b7",
   "metadata": {},
   "source": [
    "В коде реализована структура данных map с возможностью выбора метода разрешения коллизий. Метод set добавляет пару ключ-значение в map, get возвращает значение по ключу, а delete удаляет пару ключ-значение."
   ]
  },
  {
   "cell_type": "code",
   "execution_count": 1,
   "id": "f7bc61c6",
   "metadata": {},
   "outputs": [],
   "source": [
    "class Map:\n",
    "    def __init__(self, size, resolution_method='chaining'): \n",
    "        # метод init принимает параметры size (размер таблицы) \n",
    "        # и resolution_method (метод разрешения коллизий по умолчанию - chaining)\n",
    "        # затем создается массив map размером size, \n",
    "        # заполненный значениями None, и сохраняются значения size и resolution_method как атрибуты объекта.\n",
    "        self.size = size\n",
    "        self.map = [None] * size\n",
    "        self.resolution_method = resolution_method\n",
    "# метод hash_func используется для вычисления хэш-значения на основе ключа key \n",
    "# он использует встроенную функцию hash, чтобы получить хэш-код ключа \n",
    "# и затем берет остаток от деления на size, чтобы получить индекс, по которому будет храниться значение в таблице\n",
    "    def hash_func(self, key):\n",
    "        return hash(key) % self.size\n",
    "\n",
    "    def set(self, key, value): # ключ и значение (key, value) добавляются в хэш-таблицу для заданного ключа\n",
    "        index = self.hash_func(key)\n",
    "        \n",
    "        if self.resolution_method == 'chaining': \n",
    "# сначала вычисляется индекс для заданного ключа с помощью хэш-функции.\n",
    "# затем код проверяет метод разрешения коллизий (либо chaining, либо open addressing) и выполнит соответствующее действие:\n",
    "# если метод разрешения коллизий - chaining, \n",
    "# то проверяет, является ли элемент с этим индексом равным None, \n",
    "# и если да, то добавляет список, содержащий ключ и значение, на этот индекс\n",
    "# иначе, если элемент уже существует, то создается новый кортеж (key, value) и добавляется к списку на этот индекс\n",
    "# если метод разрешения коллизий - open addressing, то произойдет сдвиг индекса на одну позицию вправо, \n",
    "# пока не будет найден пустой элемент (None), и когда это произойдет, он добавит ключ и значение на этот индекс.\n",
    "\n",
    "            if self.map[index] is None:\n",
    "                self.map[index] = [(key, value)]\n",
    "            else:\n",
    "                self.map[index].append((key, value))\n",
    "        elif self.resolution_method == 'open addressing':\n",
    "            while self.map[index] is not None:\n",
    "                index = (index + 1) % self.size\n",
    "            self.map[index] = (key, value)\n",
    "\n",
    "    def get(self, key):\n",
    "#         получение значения по ключу из хэш-таблицы:\n",
    "#         сначала определяется индекс для ключа с использованием хэш-функции\n",
    "#         затем проверяется метод разрешения коллизий: если используется метод chaining, \n",
    "#         то для каждой записи в цепочке проверяется совпадение ключа, и если такой ключ найден, \n",
    "#         возвращается соответствующее ему значение\n",
    "#         если метод разрешения коллизий - open addressing, то происходит поиск значения \n",
    "#         с помощью метода линейного пробирования, до тех пор пока не будет найдено значение по ключу или не будет обнаружено, \n",
    "#         что в этом месте нет значения по указанному ключу, возвращается None.\n",
    "        index = self.hash_func(key)\n",
    "\n",
    "        if self.resolution_method == 'chaining':\n",
    "            if self.map[index] is None:\n",
    "                  return None\n",
    "            for k, v in self.map[index]:\n",
    "                if k == key:\n",
    "                    return v\n",
    "            return None\n",
    "        elif self.resolution_method == 'open addressing':\n",
    "            while self.map[index] is not None:\n",
    "                k, v = self.map[index]\n",
    "                if k == key:\n",
    "                    return v\n",
    "                index = (index + 1) % self.size\n",
    "            return None\n",
    "\n",
    "    def delete(self, key):\n",
    "        index = self.hash_func(key)\n",
    "\n",
    "        if self.resolution_method == 'chaining':\n",
    "            if self.map[index] is None:\n",
    "                return\n",
    "            for i, (k, v) in enumerate(self.map[index]):\n",
    "                if k == key:\n",
    "                    del self.map[index][i]\n",
    "                    return\n",
    "        elif self.resolution_method == 'open addressing':\n",
    "            while self.map[index] is not None:\n",
    "                k, v = self.map[index]\n",
    "                if k == key:\n",
    "                    self.map[index] = None\n",
    "                    return\n",
    "                index = (index + 1) % self.size \n",
    "                \n",
    "# в данной функции удаляется элемент с определенным ключом из хэш-таблицы\n",
    "\n",
    "# 1. сначала вычисляется индекс для данного ключа при помощи хэш-функции: \n",
    "\n",
    "#    index = self.hash_func(key)\n",
    "\n",
    "# 2. Затем, в зависимости от метода разрешения коллизий (resolution_method), выполняются следующие действия:\n",
    "   \n",
    "#    a. если используется метод chaining:\n",
    "#       - проверяется, что цепочка по данному индексу не пустая (self.map[index] is not None).\n",
    "#       - далее, для каждого элемента в цепочке проверяется совпадение ключа: если находим ключ, удаляем из цепочки значение по этому ключу.\n",
    "   \n",
    "#    b. если используется метод open addressing:\n",
    "#       - пока не будет найден элемент с ключом key, ищем в следующих ячейках, используя метод линейного пробирования.\n",
    "#       - если находим ключ, установливаем значение в данной ячейке в None, чтобы показать, что элемент был удален.\n",
    "#       - если пустая ячейка не найдена, индекс обновляется (индекс увеличивается на 1), чтобы продолжить поиск.\n",
    "      \n",
    "# 3. если элемент с указанным ключом найден и удален, функция завершает работу."
   ]
  },
  {
   "cell_type": "code",
   "execution_count": 3,
   "id": "b8cac83f",
   "metadata": {},
   "outputs": [
    {
     "name": "stderr",
     "output_type": "stream",
     "text": [
      "E\n",
      "======================================================================\n",
      "ERROR: C:\\Users\\1\\AppData\\Roaming\\jupyter\\runtime\\kernel-ca46711e-a5ab-4ceb-ab2f-fe14addebd48 (unittest.loader._FailedTest)\n",
      "----------------------------------------------------------------------\n",
      "AttributeError: module '__main__' has no attribute 'C:\\Users\\1\\AppData\\Roaming\\jupyter\\runtime\\kernel-ca46711e-a5ab-4ceb-ab2f-fe14addebd48'\n",
      "\n",
      "----------------------------------------------------------------------\n",
      "Ran 1 test in 0.005s\n",
      "\n",
      "FAILED (errors=1)\n"
     ]
    },
    {
     "ename": "SystemExit",
     "evalue": "True",
     "output_type": "error",
     "traceback": [
      "An exception has occurred, use %tb to see the full traceback.\n",
      "\u001b[1;31mSystemExit\u001b[0m\u001b[1;31m:\u001b[0m True\n"
     ]
    },
    {
     "name": "stderr",
     "output_type": "stream",
     "text": [
      "C:\\ProgramData\\Anaconda3\\lib\\site-packages\\IPython\\core\\interactiveshell.py:3452: UserWarning: To exit: use 'exit', 'quit', or Ctrl-D.\n",
      "  warn(\"To exit: use 'exit', 'quit', or Ctrl-D.\", stacklevel=1)\n"
     ]
    }
   ],
   "source": [
    "import unittest\n",
    "\n",
    "class TestMap(unittest.TestCase):\n",
    "    def test_map(self):\n",
    "        map1 = Map(10, 'chaining')\n",
    "        map1.set('a', 1)\n",
    "        self.assertEqual(map1.get('a'), 1)\n",
    "        map1.set('b', 2)\n",
    "        self.assertEqual(map1.get('b'), 2)\n",
    "        map1.delete('a')\n",
    "        \n",
    "        map2 = Map(10, 'open addressing')\n",
    "        map2.set('a', 1)\n",
    "        self.assertEqual(map2.get('a'), 1)\n",
    "        map2.set('b', 2)\n",
    "        self.assertEqual(map2.get('b'), 2)\n",
    "        map2.delete('a')\n",
    "        self.assertIsNone(map2.get('a'))\n",
    "\n",
    "if __name__ == '__main__':\n",
    "    unittest.main()"
   ]
  },
  {
   "cell_type": "code",
   "execution_count": null,
   "id": "4bddfb2d",
   "metadata": {},
   "outputs": [],
   "source": []
  }
 ],
 "metadata": {
  "kernelspec": {
   "display_name": "Python 3 (ipykernel)",
   "language": "python",
   "name": "python3"
  },
  "language_info": {
   "codemirror_mode": {
    "name": "ipython",
    "version": 3
   },
   "file_extension": ".py",
   "mimetype": "text/x-python",
   "name": "python",
   "nbconvert_exporter": "python",
   "pygments_lexer": "ipython3",
   "version": "3.9.7"
  }
 },
 "nbformat": 4,
 "nbformat_minor": 5
}
