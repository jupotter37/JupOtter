{
 "cells": [
  {
   "attachments": {},
   "cell_type": "markdown",
   "id": "123456",
   "metadata": {},
   "source": [
    "<div style=\"text-align:left;font-size:2em\"><span style=\"font-weight:bolder;font-size:1.25em\">SP2273 | Learning Portfolio</span><br><br><span style=\"font-weight:bold;color:darkred\">Storing Data (Need)</span></div>"
   ]
  },
  {
   "attachments": {},
   "cell_type": "markdown",
   "id": "ec24a91c",
   "metadata": {},
   "source": [
    "# What to expect in this chapter"
   ]
  },
  {
   "cell_type": "code",
   "execution_count": 2,
   "id": "044b1d29-10e4-4424-995e-4b7c27a53af1",
   "metadata": {},
   "outputs": [],
   "source": [
    "import numpy as np"
   ]
  },
  {
   "attachments": {},
   "cell_type": "markdown",
   "id": "80441cf5",
   "metadata": {},
   "source": [
    "# 1 Lists, Arrays & Dictionaries"
   ]
  },
  {
   "attachments": {},
   "cell_type": "markdown",
   "id": "49aabee2",
   "metadata": {},
   "source": [
    "## 1.1 Let’s compare"
   ]
  },
  {
   "cell_type": "markdown",
   "id": "5dc97dde-f641-49f0-8cb0-47d9a3be0847",
   "metadata": {},
   "source": [
    "**Python Lists**"
   ]
  },
  {
   "cell_type": "code",
   "execution_count": 11,
   "id": "17383b37-c0d1-40e5-9d43-a55413e9fe92",
   "metadata": {},
   "outputs": [],
   "source": [
    "py_super_names = [\"Black Widow\", \"Iron Man\", \"Doctor Strange\"]    # List of super names\n",
    "py_real_names = [\"Natasha Romanoff\", \"Tony Stark\", \"Stephen Strange\"] # List of real names"
   ]
  },
  {
   "cell_type": "code",
   "execution_count": 12,
   "id": "093e2785-7459-4850-92d3-40081c77e3a8",
   "metadata": {},
   "outputs": [],
   "source": [
    "py_fruits = [\"apple\", \"grape\", \"banana\"]         # List of fruits\n",
    "py_vegetables = [\"spinach\", \"corn\", \"potato\"]    # list of vegetables"
   ]
  },
  {
   "cell_type": "markdown",
   "id": "234b288f-ffdd-4021-ad36-0e122f65cd2e",
   "metadata": {},
   "source": [
    "**Numpy Arrays**"
   ]
  },
  {
   "cell_type": "code",
   "execution_count": 8,
   "id": "4d71c972-feb3-4e74-94bd-f476cff5816a",
   "metadata": {},
   "outputs": [],
   "source": [
    "np_super_names = np.array([\"Black Widow\", \"Iron Man\", \"Doctor Strange\"])         # List of super names\n",
    "np_real_names = np.array([\"Natasha Romanoff\", \"Tony Stark\", \"Stephen Strange\"])  # List of real names"
   ]
  },
  {
   "cell_type": "code",
   "execution_count": 9,
   "id": "42c457a6-9cad-475d-a181-ddf7bce3b4a0",
   "metadata": {},
   "outputs": [],
   "source": [
    "np_fruits = np.array([\"apple\", \"grape\", \"banana\"])             # array of fruits\n",
    "np_vegetables = np.array([\"spinach\", \"corn\", \"potato\"])        # array of vegetables"
   ]
  },
  {
   "cell_type": "markdown",
   "id": "f0b9771e-c455-429a-b59c-6a21bbac9531",
   "metadata": {},
   "source": [
    "**Dictionary**"
   ]
  },
  {
   "cell_type": "code",
   "execution_count": 13,
   "id": "adef351b-7496-45cf-a804-d01abbfecc7e",
   "metadata": {},
   "outputs": [],
   "source": [
    "superhero_info = {\n",
    "    \"Natasha Romanoff\": \"Black Widow\",            # Dictionary with superhero names as the key and real names as the associated value\n",
    "    \"Tony Stark\": \"Iron Man\",\n",
    "    \"Stephen Strange\": \"Doctor Strange\"\n",
    "}"
   ]
  },
  {
   "attachments": {},
   "cell_type": "markdown",
   "id": "a0a2f8cb",
   "metadata": {},
   "source": [
    "## 1.2 Accessing data from a list (or array)"
   ]
  },
  {
   "cell_type": "code",
   "execution_count": 22,
   "id": "4054b6cc-5b78-4262-9ed4-338f17dcc93d",
   "metadata": {},
   "outputs": [
    {
     "data": {
      "text/plain": [
       "'Natasha Romanoff'"
      ]
     },
     "execution_count": 22,
     "metadata": {},
     "output_type": "execute_result"
    }
   ],
   "source": [
    "py_real_names[0]     # Accessing data from the value at the 0 position"
   ]
  },
  {
   "cell_type": "code",
   "execution_count": 16,
   "id": "b8555b98-c9e1-4ea8-9542-9d655b6848c7",
   "metadata": {},
   "outputs": [
    {
     "data": {
      "text/plain": [
       "'banana'"
      ]
     },
     "execution_count": 16,
     "metadata": {},
     "output_type": "execute_result"
    }
   ],
   "source": [
    "py_fruits[2]"
   ]
  },
  {
   "cell_type": "code",
   "execution_count": 17,
   "id": "04a61632-48ad-443f-962b-f077517eb1fb",
   "metadata": {},
   "outputs": [
    {
     "data": {
      "text/plain": [
       "'Black Widow'"
      ]
     },
     "execution_count": 17,
     "metadata": {},
     "output_type": "execute_result"
    }
   ],
   "source": [
    "py_super_names[0]"
   ]
  },
  {
   "cell_type": "code",
   "execution_count": 18,
   "id": "bef5d55c-cb80-4301-83bb-661b6ec98349",
   "metadata": {},
   "outputs": [
    {
     "data": {
      "text/plain": [
       "'Doctor Strange'"
      ]
     },
     "execution_count": 18,
     "metadata": {},
     "output_type": "execute_result"
    }
   ],
   "source": [
    "py_super_names[2]    # Forward indexing "
   ]
  },
  {
   "cell_type": "code",
   "execution_count": 19,
   "id": "0e30e3ea-d14e-45af-bdda-bff281f678e6",
   "metadata": {},
   "outputs": [
    {
     "data": {
      "text/plain": [
       "'corn'"
      ]
     },
     "execution_count": 19,
     "metadata": {},
     "output_type": "execute_result"
    }
   ],
   "source": [
    "py_vegetables[-2]     # reverse indexing"
   ]
  },
  {
   "cell_type": "code",
   "execution_count": 20,
   "id": "15e4b3d0-c116-4191-a6d6-d750e58f85ec",
   "metadata": {},
   "outputs": [
    {
     "data": {
      "text/plain": [
       "'Doctor Strange'"
      ]
     },
     "execution_count": 20,
     "metadata": {},
     "output_type": "execute_result"
    }
   ],
   "source": [
    "py_super_names[-1]"
   ]
  },
  {
   "attachments": {},
   "cell_type": "markdown",
   "id": "403ba91c",
   "metadata": {},
   "source": [
    "## 1.3 Accessing data from a dictionary"
   ]
  },
  {
   "cell_type": "code",
   "execution_count": 23,
   "id": "48e68cc6-e3b3-4f97-9535-20fbbf1d8797",
   "metadata": {},
   "outputs": [],
   "source": [
    "superhero_info = {\n",
    "    \"Natasha Romanoff\": \"Black Widow\",\n",
    "    \"Tony Stark\": \"Iron Man\",\n",
    "    \"Stephen Strange\": \"Doctor Strange\"\n",
    "}                  "
   ]
  },
  {
   "cell_type": "code",
   "execution_count": 29,
   "id": "0eb1279e-042a-4d15-a3c7-3755e835cf0d",
   "metadata": {},
   "outputs": [
    {
     "data": {
      "text/plain": [
       "'Black Widow'"
      ]
     },
     "execution_count": 29,
     "metadata": {},
     "output_type": "execute_result"
    }
   ],
   "source": [
    "superhero_info[\"Natasha Romanoff\"]  # retrieving the value of the key 'Natasha Romanoff'"
   ]
  },
  {
   "cell_type": "code",
   "execution_count": 25,
   "id": "10abb3d7-f537-4d32-ae41-1d37ed015c72",
   "metadata": {},
   "outputs": [
    {
     "data": {
      "text/plain": [
       "'Doctor Strange'"
      ]
     },
     "execution_count": 25,
     "metadata": {},
     "output_type": "execute_result"
    }
   ],
   "source": [
    "superhero_info[\"Stephen Strange\"]"
   ]
  },
  {
   "cell_type": "code",
   "execution_count": 27,
   "id": "bd8faea7-9ca6-45ff-9ede-64c8bcc13837",
   "metadata": {},
   "outputs": [
    {
     "data": {
      "text/plain": [
       "dict_keys(['Natasha Romanoff', 'Tony Stark', 'Stephen Strange'])"
      ]
     },
     "execution_count": 27,
     "metadata": {},
     "output_type": "execute_result"
    }
   ],
   "source": [
    "superhero_info.keys()  # access all the keys"
   ]
  },
  {
   "cell_type": "code",
   "execution_count": 28,
   "id": "9c5c24dc-7cd5-4763-93f2-78d45e24972c",
   "metadata": {},
   "outputs": [
    {
     "data": {
      "text/plain": [
       "dict_values(['Black Widow', 'Iron Man', 'Doctor Strange'])"
      ]
     },
     "execution_count": 28,
     "metadata": {},
     "output_type": "execute_result"
    }
   ],
   "source": [
    "superhero_info.values() # access all the values"
   ]
  },
  {
   "attachments": {},
   "cell_type": "markdown",
   "id": "6a8c7a37",
   "metadata": {},
   "source": [
    "## 1.4 Higher dimensional lists"
   ]
  },
  {
   "cell_type": "code",
   "execution_count": 31,
   "id": "a5f8dc56-fdc6-409a-bd92-99b4648efe72",
   "metadata": {},
   "outputs": [],
   "source": [
    "py_superhero_info = [['Natasha Romanoff', 'Black Widow'],\n",
    "                     ['Tony Stark', 'Iron Man'],\n",
    "                     ['Stephen Strange', 'Doctor Strange']]"
   ]
  },
  {
   "attachments": {},
   "cell_type": "markdown",
   "id": "a7042947",
   "metadata": {},
   "source": [
    "# 2 Lists vs. Arrays"
   ]
  },
  {
   "attachments": {},
   "cell_type": "markdown",
   "id": "2e3f82d1",
   "metadata": {},
   "source": [
    "## 2.1 Size"
   ]
  },
  {
   "cell_type": "code",
   "execution_count": 32,
   "id": "aef6b24d-77bf-4fdb-ab4a-47f454482a7c",
   "metadata": {},
   "outputs": [],
   "source": [
    "py_list_2d = [[1, \"A\"], [2, \"B\"], [3, \"C\"], [4, \"D\"],\n",
    "              [5, \"E\"], [6, \"F\"], [7, \"G\"], [8, \"H\"],\n",
    "              [9, \"I\"], [10, \"J\"]]\n",
    "\n",
    "np_array_2d = np.array(py_list_2d)      # Converting the np array to py list"
   ]
  },
  {
   "cell_type": "markdown",
   "id": "78474234-7597-4e9a-becd-946558644819",
   "metadata": {},
   "source": [
    "**List**"
   ]
  },
  {
   "cell_type": "code",
   "execution_count": 36,
   "id": "793f4eb3-9b7e-49bd-8f04-a35ca321294a",
   "metadata": {},
   "outputs": [
    {
     "data": {
      "text/plain": [
       "[[1, 'A'],\n",
       " [2, 'B'],\n",
       " [3, 'C'],\n",
       " [4, 'D'],\n",
       " [5, 'E'],\n",
       " [6, 'F'],\n",
       " [7, 'G'],\n",
       " [8, 'H'],\n",
       " [9, 'I'],\n",
       " [10, 'J']]"
      ]
     },
     "execution_count": 36,
     "metadata": {},
     "output_type": "execute_result"
    }
   ],
   "source": [
    "py_list_2d   # create list"
   ]
  },
  {
   "cell_type": "code",
   "execution_count": 38,
   "id": "a124f2f8-1143-4a6d-85f0-e0762b9ed167",
   "metadata": {},
   "outputs": [
    {
     "data": {
      "text/plain": [
       "10"
      ]
     },
     "execution_count": 38,
     "metadata": {},
     "output_type": "execute_result"
    }
   ],
   "source": [
    "len(py_list_2d)    # To find out the size of list"
   ]
  },
  {
   "cell_type": "markdown",
   "id": "c2bd8db4-27fc-4313-90e6-1c241ac10c4e",
   "metadata": {},
   "source": [
    "**Array**"
   ]
  },
  {
   "cell_type": "code",
   "execution_count": 35,
   "id": "34c9caa3-aa05-4064-927e-8492950dc59f",
   "metadata": {},
   "outputs": [
    {
     "data": {
      "text/plain": [
       "array([['1', 'A'],\n",
       "       ['2', 'B'],\n",
       "       ['3', 'C'],\n",
       "       ['4', 'D'],\n",
       "       ['5', 'E'],\n",
       "       ['6', 'F'],\n",
       "       ['7', 'G'],\n",
       "       ['8', 'H'],\n",
       "       ['9', 'I'],\n",
       "       ['10', 'J']], dtype='<U11')"
      ]
     },
     "execution_count": 35,
     "metadata": {},
     "output_type": "execute_result"
    }
   ],
   "source": [
    "np_array_2d   # list out array  "
   ]
  },
  {
   "cell_type": "code",
   "execution_count": 39,
   "id": "fe6326b8-fc55-4b4c-91c1-cb9154a899b0",
   "metadata": {},
   "outputs": [
    {
     "data": {
      "text/plain": [
       "10"
      ]
     },
     "execution_count": 39,
     "metadata": {},
     "output_type": "execute_result"
    }
   ],
   "source": [
    "len(np_array_2d) # To find out size of array"
   ]
  },
  {
   "cell_type": "code",
   "execution_count": 41,
   "id": "166a0694-874d-4b6f-8b03-65b2377809b9",
   "metadata": {},
   "outputs": [
    {
     "data": {
      "text/plain": [
       "(10, 2)"
      ]
     },
     "execution_count": 41,
     "metadata": {},
     "output_type": "execute_result"
    }
   ],
   "source": [
    "np_array_2d.shape  # To find out how many rows and columns in the 2D array"
   ]
  },
  {
   "attachments": {},
   "cell_type": "markdown",
   "id": "51b604bd",
   "metadata": {},
   "source": [
    "## 2.2 Arrays are fussy about type"
   ]
  },
  {
   "cell_type": "code",
   "execution_count": 43,
   "id": "35ecba12-12ae-4aac-844f-4b8cc13a2191",
   "metadata": {},
   "outputs": [],
   "source": [
    "py_list = [1, 1.5, 'A']\n",
    "np_array = np.array(py_list)"
   ]
  },
  {
   "cell_type": "markdown",
   "id": "1881af70-ac6c-49e6-9694-c4e3a8addc37",
   "metadata": {},
   "source": [
    "**List**"
   ]
  },
  {
   "cell_type": "code",
   "execution_count": 44,
   "id": "28fbebc8-37b9-4c38-8b92-69e9d9a3fc17",
   "metadata": {},
   "outputs": [
    {
     "data": {
      "text/plain": [
       "[1, 1.5, 'A']"
      ]
     },
     "execution_count": 44,
     "metadata": {},
     "output_type": "execute_result"
    }
   ],
   "source": [
    "py_list"
   ]
  },
  {
   "cell_type": "markdown",
   "id": "c47ccab9-5d8e-408c-8b9c-a91dcdd81d4a",
   "metadata": {},
   "source": [
    "**Arrays**"
   ]
  },
  {
   "cell_type": "code",
   "execution_count": 46,
   "id": "3d4e29b2-7ef5-4a90-95d7-94d468163a3c",
   "metadata": {},
   "outputs": [
    {
     "data": {
      "text/plain": [
       "array(['1', '1.5', 'A'], dtype='<U32')"
      ]
     },
     "execution_count": 46,
     "metadata": {},
     "output_type": "execute_result"
    }
   ],
   "source": [
    "np_array    # array can only have a single data type"
   ]
  },
  {
   "attachments": {},
   "cell_type": "markdown",
   "id": "8512554a",
   "metadata": {},
   "source": [
    "## 2.3 Adding a number"
   ]
  },
  {
   "cell_type": "code",
   "execution_count": 48,
   "id": "57f9eeb8-c011-4268-a614-fa053d2b33af",
   "metadata": {},
   "outputs": [],
   "source": [
    "py_list = [1, 2, 3, 4, 5]\n",
    "np_array = np.array(py_list)         # creating a np array from the py list "
   ]
  },
  {
   "cell_type": "markdown",
   "id": "0dd859c6-b075-400a-8092-745aae79edbc",
   "metadata": {},
   "source": [
    "**List**"
   ]
  },
  {
   "cell_type": "code",
   "execution_count": 53,
   "id": "fbe6583d-6c6e-4598-b8dd-6c01b1506683",
   "metadata": {},
   "outputs": [
    {
     "ename": "TypeError",
     "evalue": "can only concatenate list (not \"int\") to list",
     "output_type": "error",
     "traceback": [
      "\u001b[1;31m---------------------------------------------------------------------------\u001b[0m",
      "\u001b[1;31mTypeError\u001b[0m                                 Traceback (most recent call last)",
      "Cell \u001b[1;32mIn[53], line 1\u001b[0m\n\u001b[1;32m----> 1\u001b[0m \u001b[43mpy_list\u001b[49m\u001b[43m \u001b[49m\u001b[38;5;241;43m+\u001b[39;49m\u001b[43m \u001b[49m\u001b[38;5;241;43m10\u001b[39;49m        \u001b[38;5;66;03m# will not work for list\u001b[39;00m\n",
      "\u001b[1;31mTypeError\u001b[0m: can only concatenate list (not \"int\") to list"
     ]
    }
   ],
   "source": [
    "py_list + 10        # will not work for list"
   ]
  },
  {
   "cell_type": "markdown",
   "id": "5da1d2bc-2d8f-43a1-8c7b-80dddb1e06c5",
   "metadata": {},
   "source": [
    "**Arrays**"
   ]
  },
  {
   "cell_type": "code",
   "execution_count": 52,
   "id": "b9448efc-d06f-492e-aa7e-68687a34dce7",
   "metadata": {},
   "outputs": [
    {
     "data": {
      "text/plain": [
       "array([11, 12, 13, 14, 15])"
      ]
     },
     "execution_count": 52,
     "metadata": {},
     "output_type": "execute_result"
    }
   ],
   "source": [
    "np_array + 10              # adding 10 to every element in the array"
   ]
  },
  {
   "cell_type": "code",
   "execution_count": 55,
   "id": "c4fd4473-8d92-43e0-9da7-fb1a1939daab",
   "metadata": {},
   "outputs": [
    {
     "data": {
      "text/plain": [
       "array([101, 102, 103, 104, 105])"
      ]
     },
     "execution_count": 55,
     "metadata": {},
     "output_type": "execute_result"
    }
   ],
   "source": [
    "np_array + 100             # adding 100 to every element in the array"
   ]
  },
  {
   "attachments": {},
   "cell_type": "markdown",
   "id": "2105ed10",
   "metadata": {},
   "source": [
    "## 2.4 Adding another list"
   ]
  },
  {
   "cell_type": "code",
   "execution_count": 57,
   "id": "556c624a-bbdc-4104-9348-bf3dbb0336c4",
   "metadata": {},
   "outputs": [],
   "source": [
    "py_list_1 = [1, 2, 3, 4, 5]\n",
    "py_list_2 = [10, 20, 30, 40, 50]\n",
    "\n",
    "np_array_1 = np.array(py_list_1)\n",
    "np_array_2 = np.array(py_list_2)"
   ]
  },
  {
   "cell_type": "markdown",
   "id": "f9464190-70cd-4f91-bacc-31a20c2f5ddd",
   "metadata": {},
   "source": [
    "**List**"
   ]
  },
  {
   "cell_type": "code",
   "execution_count": 60,
   "id": "cc93602d-870f-48f3-b88f-59bfa36cac41",
   "metadata": {},
   "outputs": [
    {
     "data": {
      "text/plain": [
       "[1, 2, 3, 4, 5, 10, 20, 30, 40, 50]"
      ]
     },
     "execution_count": 60,
     "metadata": {},
     "output_type": "execute_result"
    }
   ],
   "source": [
    "py_list_1 + py_list_2     # adding lists combines the lists"
   ]
  },
  {
   "cell_type": "markdown",
   "id": "3d4915d7-47b1-4af3-a7d1-78a9afb684e9",
   "metadata": {},
   "source": [
    "**Arrays**"
   ]
  },
  {
   "cell_type": "code",
   "execution_count": 59,
   "id": "2e50c92d-169b-4fb3-aebc-3acd62306849",
   "metadata": {},
   "outputs": [
    {
     "data": {
      "text/plain": [
       "array([11, 22, 33, 44, 55])"
      ]
     },
     "execution_count": 59,
     "metadata": {},
     "output_type": "execute_result"
    }
   ],
   "source": [
    "np_array_1 + np_array_2    # adding arrays will allow the elements to add up"
   ]
  },
  {
   "attachments": {},
   "cell_type": "markdown",
   "id": "a666e5aa",
   "metadata": {},
   "source": [
    "## 2.5 Multiplying by a Number"
   ]
  },
  {
   "cell_type": "code",
   "execution_count": 61,
   "id": "7d556e71-9bb1-43fd-be95-f55cc53cfa53",
   "metadata": {},
   "outputs": [],
   "source": [
    "py_list = [1, 2, 3, 4, 5]\n",
    "np_array = np.array(py_list)         "
   ]
  },
  {
   "cell_type": "markdown",
   "id": "1b50a334-15c8-412f-8432-8fc17ab17f3a",
   "metadata": {},
   "source": [
    "**Lists**"
   ]
  },
  {
   "cell_type": "code",
   "execution_count": 64,
   "id": "60dc6a92-4019-4412-878b-75fa79131cb8",
   "metadata": {},
   "outputs": [
    {
     "data": {
      "text/plain": [
       "[1, 2, 3, 4, 5, 1, 2, 3, 4, 5]"
      ]
     },
     "execution_count": 64,
     "metadata": {},
     "output_type": "execute_result"
    }
   ],
   "source": [
    "py_list*2  # multiplying a list by a number will make the list grow"
   ]
  },
  {
   "cell_type": "markdown",
   "id": "eecbd9ac-9c43-4d1e-a7a3-2374a9f688fe",
   "metadata": {},
   "source": [
    "**Arrays**"
   ]
  },
  {
   "cell_type": "code",
   "execution_count": 63,
   "id": "e8a0d6dd-fa1e-4e5c-8d6a-18c8f255ef23",
   "metadata": {},
   "outputs": [
    {
     "data": {
      "text/plain": [
       "array([ 2,  4,  6,  8, 10])"
      ]
     },
     "execution_count": 63,
     "metadata": {},
     "output_type": "execute_result"
    }
   ],
   "source": [
    "np_array*2  # multiplying an array by a number will multiply its elements by the number"
   ]
  },
  {
   "attachments": {},
   "cell_type": "markdown",
   "id": "522367e5",
   "metadata": {},
   "source": [
    "## 2.6 Squaring"
   ]
  },
  {
   "cell_type": "code",
   "execution_count": 65,
   "id": "9a505e34-270f-4888-bdc4-09753e8ac8e9",
   "metadata": {},
   "outputs": [],
   "source": [
    "py_list = [1, 2, 3, 4, 5]\n",
    "np_array = np.array(py_list)"
   ]
  },
  {
   "cell_type": "markdown",
   "id": "13c98d2c-0c01-40cd-be04-161fa82bb4ed",
   "metadata": {},
   "source": [
    "**Lists**"
   ]
  },
  {
   "cell_type": "code",
   "execution_count": 66,
   "id": "ce3a44c7-c2e2-46c4-901c-c4c9cb318f1a",
   "metadata": {},
   "outputs": [
    {
     "ename": "TypeError",
     "evalue": "unsupported operand type(s) for ** or pow(): 'list' and 'int'",
     "output_type": "error",
     "traceback": [
      "\u001b[1;31m---------------------------------------------------------------------------\u001b[0m",
      "\u001b[1;31mTypeError\u001b[0m                                 Traceback (most recent call last)",
      "Cell \u001b[1;32mIn[66], line 1\u001b[0m\n\u001b[1;32m----> 1\u001b[0m \u001b[43mpy_list\u001b[49m\u001b[38;5;241;43m*\u001b[39;49m\u001b[38;5;241;43m*\u001b[39;49m\u001b[38;5;241;43m2\u001b[39;49m                      \u001b[38;5;66;03m# Won't work!  \u001b[39;00m\n",
      "\u001b[1;31mTypeError\u001b[0m: unsupported operand type(s) for ** or pow(): 'list' and 'int'"
     ]
    }
   ],
   "source": [
    "py_list**2                      # List cannot be square rooted as it is not supported"
   ]
  },
  {
   "cell_type": "markdown",
   "id": "7737885c-5894-4e60-97b2-0fb0c65e8e6e",
   "metadata": {},
   "source": [
    "**Arrays**"
   ]
  },
  {
   "cell_type": "code",
   "execution_count": 68,
   "id": "f8e2ea7c-5b01-48de-9df6-9f534bcc570a",
   "metadata": {},
   "outputs": [
    {
     "data": {
      "text/plain": [
       "array([ 1,  4,  9, 16, 25])"
      ]
     },
     "execution_count": 68,
     "metadata": {},
     "output_type": "execute_result"
    }
   ],
   "source": [
    "np_array**2                   # elements in the array can be square rooted "
   ]
  },
  {
   "attachments": {},
   "cell_type": "markdown",
   "id": "70078d1c",
   "metadata": {},
   "source": [
    "## 2.7 Asking questions"
   ]
  },
  {
   "cell_type": "code",
   "execution_count": 69,
   "id": "d5fdc8fc-4a9f-4ed4-8ecd-abd820286c2f",
   "metadata": {},
   "outputs": [],
   "source": [
    "py_list = [1, 2, 3, 4, 5]\n",
    "np_array = np.array(py_list)         "
   ]
  },
  {
   "cell_type": "markdown",
   "id": "ef5448c3-c176-4cdb-b269-b5b1bfef22ef",
   "metadata": {},
   "source": [
    "**Lists**"
   ]
  },
  {
   "cell_type": "markdown",
   "id": "5ff9ad64-902d-4240-867c-89aa89c04f21",
   "metadata": {},
   "source": [
    "Example 1"
   ]
  },
  {
   "cell_type": "code",
   "execution_count": 70,
   "id": "e1b76128-6d37-4811-81b8-b4953aa62726",
   "metadata": {},
   "outputs": [
    {
     "data": {
      "text/plain": [
       "False"
      ]
     },
     "execution_count": 70,
     "metadata": {},
     "output_type": "execute_result"
    }
   ],
   "source": [
    "py_list == 3     # List will not tell you whether an element is present in the list"
   ]
  },
  {
   "cell_type": "markdown",
   "id": "c5d12e50-f623-42e4-bbf8-497af5be0f10",
   "metadata": {},
   "source": [
    "Example 2"
   ]
  },
  {
   "cell_type": "code",
   "execution_count": 71,
   "id": "e22d6da9-1560-47cc-b424-08f65d24d8b6",
   "metadata": {},
   "outputs": [
    {
     "ename": "TypeError",
     "evalue": "'>' not supported between instances of 'list' and 'int'",
     "output_type": "error",
     "traceback": [
      "\u001b[1;31m---------------------------------------------------------------------------\u001b[0m",
      "\u001b[1;31mTypeError\u001b[0m                                 Traceback (most recent call last)",
      "Cell \u001b[1;32mIn[71], line 1\u001b[0m\n\u001b[1;32m----> 1\u001b[0m \u001b[43mpy_list\u001b[49m\u001b[43m \u001b[49m\u001b[38;5;241;43m>\u001b[39;49m\u001b[43m \u001b[49m\u001b[38;5;241;43m3\u001b[39;49m     \n",
      "\u001b[1;31mTypeError\u001b[0m: '>' not supported between instances of 'list' and 'int'"
     ]
    }
   ],
   "source": [
    "py_list > 3     "
   ]
  },
  {
   "cell_type": "markdown",
   "id": "fb1e4251-b0e3-48bc-bc54-853929d48f64",
   "metadata": {},
   "source": [
    "**Arrays**"
   ]
  },
  {
   "cell_type": "markdown",
   "id": "f8a6668a-fffd-4e44-adfa-328037873cb1",
   "metadata": {},
   "source": [
    "Example 1"
   ]
  },
  {
   "cell_type": "code",
   "execution_count": 72,
   "id": "c899bf17-3c35-4a67-8d42-14fbec1b620a",
   "metadata": {},
   "outputs": [
    {
     "data": {
      "text/plain": [
       "array([False, False,  True, False, False])"
      ]
     },
     "execution_count": 72,
     "metadata": {},
     "output_type": "execute_result"
    }
   ],
   "source": [
    "np_array == 3    # Tells you if each element in the array is the element that you have specified "
   ]
  },
  {
   "cell_type": "markdown",
   "id": "85c711c5-4498-434b-acd1-4d7121bec651",
   "metadata": {},
   "source": [
    "Example 2"
   ]
  },
  {
   "cell_type": "code",
   "execution_count": 73,
   "id": "991ac8fb-6d6d-4eaa-b980-53e3122078fd",
   "metadata": {},
   "outputs": [
    {
     "data": {
      "text/plain": [
       "array([False, False, False,  True,  True])"
      ]
     },
     "execution_count": 73,
     "metadata": {},
     "output_type": "execute_result"
    }
   ],
   "source": [
    "np_array > 3 "
   ]
  },
  {
   "cell_type": "code",
   "execution_count": 75,
   "id": "0dc0b6e0-2363-4c7c-b875-aa6143d8025a",
   "metadata": {},
   "outputs": [
    {
     "data": {
      "text/plain": [
       "2"
      ]
     },
     "execution_count": 75,
     "metadata": {},
     "output_type": "execute_result"
    }
   ],
   "source": [
    "sum(np_array > 3)   # Adds up the values present in the array: False = 0, True = 1"
   ]
  },
  {
   "attachments": {},
   "cell_type": "markdown",
   "id": "25b75c5f",
   "metadata": {},
   "source": [
    "## 2.8 Mathematics"
   ]
  },
  {
   "cell_type": "code",
   "execution_count": 76,
   "id": "2ea69d24-be8e-4f96-a50f-0aece89e5acd",
   "metadata": {},
   "outputs": [],
   "source": [
    "py_list = [1, 2, 3, 4, 5]\n",
    "np_array = np.array(py_list)         "
   ]
  },
  {
   "cell_type": "markdown",
   "id": "0411dd80-4033-4bc4-aa0e-964bed27dd1e",
   "metadata": {},
   "source": [
    "**Example 1**"
   ]
  },
  {
   "cell_type": "markdown",
   "id": "d6f78b29-80c5-41a0-9882-4acb66055bc4",
   "metadata": {},
   "source": [
    "**List**"
   ]
  },
  {
   "cell_type": "code",
   "execution_count": 90,
   "id": "a49a3362-fffb-47d6-97fc-90e304f0365b",
   "metadata": {},
   "outputs": [
    {
     "data": {
      "text/plain": [
       "15"
      ]
     },
     "execution_count": 90,
     "metadata": {},
     "output_type": "execute_result"
    }
   ],
   "source": [
    "sum(py_list)     # sum() is a base Python function` # adding up the element in the list"
   ]
  },
  {
   "cell_type": "markdown",
   "id": "99445b31-393d-4946-ba05-32562ea40457",
   "metadata": {},
   "source": [
    "**Arrays**"
   ]
  },
  {
   "cell_type": "code",
   "execution_count": 91,
   "id": "6372d28c-5764-4720-b281-f3e289307871",
   "metadata": {},
   "outputs": [
    {
     "data": {
      "text/plain": [
       "15"
      ]
     },
     "execution_count": 91,
     "metadata": {},
     "output_type": "execute_result"
    }
   ],
   "source": [
    "np_array.sum()  # adding up the elements in the array"
   ]
  },
  {
   "cell_type": "markdown",
   "id": "2039d272-9e22-4d3c-aa87-e7e121aa4c3e",
   "metadata": {},
   "source": [
    "**Example 2**"
   ]
  },
  {
   "cell_type": "markdown",
   "id": "809e861d-1f48-45e3-be10-1b4d0918bd1f",
   "metadata": {},
   "source": [
    "**List**"
   ]
  },
  {
   "cell_type": "code",
   "execution_count": 92,
   "id": "31fd8596-26e4-40f0-96e4-bc183b4ecf91",
   "metadata": {},
   "outputs": [
    {
     "data": {
      "text/plain": [
       "5"
      ]
     },
     "execution_count": 92,
     "metadata": {},
     "output_type": "execute_result"
    }
   ],
   "source": [
    "max(py_list)     # max() is a base Python function  #finding the maximum element in the list"
   ]
  },
  {
   "cell_type": "markdown",
   "id": "15d692af-d475-4a65-8de3-5b38e5cd25b8",
   "metadata": {},
   "source": [
    "**Arrays**"
   ]
  },
  {
   "cell_type": "code",
   "execution_count": 93,
   "id": "da63f77e-b257-4e11-8b02-8d17fc709f25",
   "metadata": {},
   "outputs": [
    {
     "data": {
      "text/plain": [
       "5"
      ]
     },
     "execution_count": 93,
     "metadata": {},
     "output_type": "execute_result"
    }
   ],
   "source": [
    "np_array.max()    #finding the maximum element in the array"
   ]
  },
  {
   "cell_type": "markdown",
   "id": "0d9d85c3-a333-4b3b-9d7f-6a55fad1b218",
   "metadata": {},
   "source": [
    "**Example 3**"
   ]
  },
  {
   "cell_type": "markdown",
   "id": "84a877d9-e397-412c-80c8-5d0a0434a486",
   "metadata": {},
   "source": [
    "**Lists**"
   ]
  },
  {
   "cell_type": "code",
   "execution_count": 94,
   "id": "6fcea58f-1928-4df1-956f-c4ba6426665e",
   "metadata": {},
   "outputs": [
    {
     "data": {
      "text/plain": [
       "1"
      ]
     },
     "execution_count": 94,
     "metadata": {},
     "output_type": "execute_result"
    }
   ],
   "source": [
    "min(py_list)     # min() is a base Python function # finding the minimum element in the list"
   ]
  },
  {
   "cell_type": "markdown",
   "id": "d0d6e263-33c3-48ec-9e11-7b281a751f04",
   "metadata": {},
   "source": [
    "**Arrays**"
   ]
  },
  {
   "cell_type": "code",
   "execution_count": 95,
   "id": "0e90e93e-724b-4e3c-b173-1b76a4382e0c",
   "metadata": {},
   "outputs": [
    {
     "data": {
      "text/plain": [
       "1"
      ]
     },
     "execution_count": 95,
     "metadata": {},
     "output_type": "execute_result"
    }
   ],
   "source": [
    "np_array.min()  # finding the minimum element in the array"
   ]
  },
  {
   "cell_type": "markdown",
   "id": "f81cf765-f9b9-4404-945c-9d7118d6b4b7",
   "metadata": {},
   "source": [
    "**Example 4**\n"
   ]
  },
  {
   "cell_type": "markdown",
   "id": "62a5d3c0-fdd1-465e-825c-6fb4c5efb74d",
   "metadata": {},
   "source": [
    "**Lists**"
   ]
  },
  {
   "cell_type": "code",
   "execution_count": 86,
   "id": "376062b6-05e9-4662-ad03-36081e95135d",
   "metadata": {},
   "outputs": [
    {
     "ename": "AttributeError",
     "evalue": "'list' object has no attribute 'sum'",
     "output_type": "error",
     "traceback": [
      "\u001b[1;31m---------------------------------------------------------------------------\u001b[0m",
      "\u001b[1;31mAttributeError\u001b[0m                            Traceback (most recent call last)",
      "Cell \u001b[1;32mIn[86], line 1\u001b[0m\n\u001b[1;32m----> 1\u001b[0m \u001b[43mpy_list\u001b[49m\u001b[38;5;241;43m.\u001b[39;49m\u001b[43msum\u001b[49m()   \u001b[38;5;66;03m# Won't work!\u001b[39;00m\n",
      "\u001b[1;31mAttributeError\u001b[0m: 'list' object has no attribute 'sum'"
     ]
    }
   ],
   "source": [
    "py_list.sum()   # .sum() will not work as it is not a built-in function for python lists"
   ]
  },
  {
   "cell_type": "code",
   "execution_count": 96,
   "id": "22dbd207-ec17-4d69-a23a-060f2e5eada1",
   "metadata": {},
   "outputs": [
    {
     "data": {
      "text/plain": [
       "15"
      ]
     },
     "execution_count": 96,
     "metadata": {},
     "output_type": "execute_result"
    }
   ],
   "source": [
    "sum(py_list)"
   ]
  },
  {
   "cell_type": "markdown",
   "id": "351490de-0464-49c5-aa70-49630fdf5d38",
   "metadata": {},
   "source": [
    "**Arrays**"
   ]
  },
  {
   "cell_type": "code",
   "execution_count": 87,
   "id": "5fdef9a8-8719-489b-a9ff-e407080ee292",
   "metadata": {},
   "outputs": [
    {
     "data": {
      "text/plain": [
       "3.0"
      ]
     },
     "execution_count": 87,
     "metadata": {},
     "output_type": "execute_result"
    }
   ],
   "source": [
    "np_array.mean()   # finding the mean in the array"
   ]
  },
  {
   "cell_type": "markdown",
   "id": "5886212f-38b4-4af6-b9a8-0c8d16777b88",
   "metadata": {},
   "source": [
    "**Example 5**"
   ]
  },
  {
   "cell_type": "markdown",
   "id": "653e7624-395a-4771-a511-ebcff42b9703",
   "metadata": {},
   "source": [
    "**Arrays**"
   ]
  },
  {
   "cell_type": "code",
   "execution_count": 97,
   "id": "33dc127e-8898-436b-8f33-77e4e88e28b5",
   "metadata": {},
   "outputs": [
    {
     "data": {
      "text/plain": [
       "1.4142135623730951"
      ]
     },
     "execution_count": 97,
     "metadata": {},
     "output_type": "execute_result"
    }
   ],
   "source": [
    "np_array.std()   # finding standard deviation in the array"
   ]
  },
  {
   "attachments": {},
   "cell_type": "markdown",
   "id": "8aed8b9c",
   "metadata": {},
   "source": [
    "# Exercises & Self-Assessment"
   ]
  },
  {
   "cell_type": "code",
   "execution_count": null,
   "id": "5fce8d72",
   "metadata": {},
   "outputs": [],
   "source": [
    "\n",
    "\n",
    "\n",
    "# Your solution here\n",
    "\n",
    "\n"
   ]
  },
  {
   "attachments": {},
   "cell_type": "markdown",
   "id": "de4c3073",
   "metadata": {},
   "source": [
    "## Footnotes"
   ]
  }
 ],
 "metadata": {
  "kernelspec": {
   "display_name": "Python 3 (ipykernel)",
   "language": "python",
   "name": "python3"
  },
  "language_info": {
   "codemirror_mode": {
    "name": "ipython",
    "version": 3
   },
   "file_extension": ".py",
   "mimetype": "text/x-python",
   "name": "python",
   "nbconvert_exporter": "python",
   "pygments_lexer": "ipython3",
   "version": "3.11.5"
  },
  "toc": {
   "base_numbering": 1,
   "nav_menu": {},
   "number_sections": true,
   "sideBar": true,
   "skip_h1_title": false,
   "title_cell": "Table of Contents",
   "title_sidebar": "Contents",
   "toc_cell": false,
   "toc_position": {},
   "toc_section_display": true,
   "toc_window_display": false
  },
  "vscode": {
   "interpreter": {
    "hash": "31f2aee4e71d21fbe5cf8b01ff0e069b9275f58929596ceb00d14d90e3e16cd6"
   }
  }
 },
 "nbformat": 4,
 "nbformat_minor": 5
}
