{
 "cells": [
  {
   "cell_type": "code",
   "execution_count": 1,
   "metadata": {},
   "outputs": [
    {
     "name": "stderr",
     "output_type": "stream",
     "text": [
      "Using TensorFlow backend.\n"
     ]
    }
   ],
   "source": [
    "import numpy as np\n",
    "import os\n",
    "import time\n",
    "from keras import layers, models, optimizers, callbacks, regularizers, activations, layers, initializers, utils\n",
    "from keras import backend as K\n",
    "from PIL import Image\n",
    "from keras.layers import Dense, Input, Activation, Reshape, Add\n",
    "import tensorflow as tf\n",
    "import matplotlib.pyplot as plt\n",
    "#from ar_capsulelayers_test import *\n",
    "from scipy.io import loadmat\n",
    "from sklearn.utils import shuffle\n",
    "import cv2\n",
    "\n",
    "K.set_image_data_format('channels_last')\n",
    "\n",
    "def load_mnist():\n",
    "    # the data, shuffled and split between train and test sets\n",
    "    from keras.datasets import mnist\n",
    "    \n",
    "    (x_train, y_train), (x_test, y_test) = mnist.load_data()\n",
    "\n",
    "    x_train = x_train.reshape(-1, 28, 28, 1).astype('float32') / 255.\n",
    "    x_test = x_test.reshape(-1, 28, 28, 1).astype('float32') / 255.\n",
    "    y_train = utils.to_categorical(y_train.astype('float32'))\n",
    "    y_test = utils.to_categorical(y_test.astype('float32'))\n",
    "#     return (x_train[:500,...], y_train[:500,...]), (x_test, y_test)\n",
    "    return (x_train, y_train), (x_test, y_test)\n",
    "\n",
    "(x_train, y_train), (x_test, y_test) = load_mnist()\n"
   ]
  },
  {
   "cell_type": "code",
   "execution_count": 2,
   "metadata": {},
   "outputs": [
    {
     "name": "stdout",
     "output_type": "stream",
     "text": [
      "(60000, 28, 28, 1)\n",
      "(60000, 40, 40, 1)\n"
     ]
    }
   ],
   "source": [
    "print(x_train.shape)\n",
    "x_train_padded = np.pad(x_train, ((0,0), (6,6),(6,6),(0,0)), mode='constant') \n",
    "#x_test_padded = np.pad(x_test, ((0,0), (6,6),(6,6),(0,0)), mode='constant') \n",
    "print(x_train_padded.shape)\n"
   ]
  },
  {
   "cell_type": "code",
   "execution_count": 3,
   "metadata": {},
   "outputs": [
    {
     "data": {
      "image/png": "[encoded data removed]",
      "text/plain": [
       "<Figure size 432x288 with 1 Axes>"
      ]
     },
     "metadata": {
      "needs_background": "light"
     },
     "output_type": "display_data"
    },
    {
     "data": {
      "image/png": "[encoded data removed]",
      "text/plain": [
       "<Figure size 432x288 with 1 Axes>"
      ]
     },
     "metadata": {
      "needs_background": "light"
     },
     "output_type": "display_data"
    }
   ],
   "source": [
    "x_sample = x_train[0]\n",
    "\n",
    "plt.imshow(x_sample[:,:,0], cmap='gray')\n",
    "plt.show()\n",
    "\n",
    "plt.imshow(x_train_padded[0][:,:,0], cmap='gray')\n",
    "plt.show()"
   ]
  },
  {
   "cell_type": "code",
   "execution_count": 4,
   "metadata": {},
   "outputs": [],
   "source": [
    "def prepare_affNIST(path):\n",
    "    afftest = loadmat(path)\n",
    "    afftest_images = afftest['affNISTdata']['image'][0][0].transpose()\n",
    "    afftest_images = afftest_images.reshape((afftest_images.shape[0], 40, 40, 1)).astype(np.float64) /255.\n",
    "\n",
    "    afftest_labels = afftest['affNISTdata']['label_int'][0][0].transpose()\n",
    "    afftest_labels = afftest_labels.reshape((afftest_labels.shape[0])).astype(np.int64) \n",
    "    afftest_images, afftest_labels = shuffle(afftest_images, afftest_labels)\n",
    "    \n",
    "    return afftest_images, afftest_labels"
   ]
  },
  {
   "cell_type": "code",
   "execution_count": 5,
   "metadata": {},
   "outputs": [],
   "source": [
    "x_val, y_val = prepare_affNIST('./affnist/validation.mat')\n",
    "#x_test, y_test = prepare_affNIST('./affnist/test.mat')\n",
    "\n",
    "y_val = utils.to_categorical(y_val, num_classes=10)\n",
    "#y_test = utils.to_categorical(y_test, num_classes=10)\n",
    "\n"
   ]
  },
  {
   "cell_type": "code",
   "execution_count": 6,
   "metadata": {},
   "outputs": [
    {
     "data": {
      "text/plain": [
       "(320000, 10)"
      ]
     },
     "execution_count": 6,
     "metadata": {},
     "output_type": "execute_result"
    }
   ],
   "source": [
    "y_val.shape"
   ]
  },
  {
   "cell_type": "code",
   "execution_count": 12,
   "metadata": {},
   "outputs": [],
   "source": [
    "from ar_capsulelayers import *\n",
    "\n",
    "def AR_CapsNet(input_shape, args):\n",
    "    dim_caps = int(args.dimcaps)\n",
    "    layernum = int(args.layernum)\n",
    "    print('layer num : ', layernum)\n",
    "    print('dim_caps : ', dim_caps)\n",
    "    \n",
    "    kernel_regularizer=regularizers.l2(0)\n",
    "    input_layer = Input(shape=input_shape)\n",
    "    conv1 = Conv2d_bn(input_tensor = input_layer, filters=64, kernel_size=3, strides=1, padding='same', activation='relu',\n",
    "                     kernel_regularizer=kernel_regularizer)\n",
    "    conv1 = Conv2d_bn(input_tensor = conv1, filters=64, kernel_size=3, strides=1, padding='same', activation='relu',\n",
    "                     kernel_regularizer=kernel_regularizer)\n",
    "    \n",
    "    ## Primary Capsules\n",
    "    primarycaps = PrimaryCap(n_channels=8, dim_capsule=16, decrease_resolution = True, kernel_regularizer=kernel_regularizer)(conv1)\n",
    "    primarycaps = Activation('tanh')(primarycaps)\n",
    "    print('primary caps shape : ', primarycaps.shape)\n",
    "        \n",
    "    ## Convolutional Capsules\n",
    "    if layernum == 0:\n",
    "        out = primarycaps\n",
    "    elif layernum == 1:\n",
    "        ConvCaps1 = ConvCaps(n_channels=8, dim_capsule=dim_caps, decrease_resolution = True, kernel_regularizer=kernel_regularizer)(primarycaps)\n",
    "        ConvCaps1 = Activation('tanh')(ConvCaps1)\n",
    "        print('ConvCaps1 shape : ', ConvCaps1.shape)\n",
    "        out = ConvCaps1\n",
    "        \n",
    "    elif layernum == 2:\n",
    "        ConvCaps1 = ConvCaps(n_channels=8, dim_capsule=dim_caps, decrease_resolution = True, kernel_regularizer=kernel_regularizer)(primarycaps)\n",
    "        ConvCaps1 = Activation('tanh')(ConvCaps1)\n",
    "        print('ConvCaps1 shape : ', ConvCaps1.shape)\n",
    "        \n",
    "        ConvCaps2 = ConvCaps(n_channels=8, dim_capsule=dim_caps, decrease_resolution = False, kernel_regularizer=kernel_regularizer)(ConvCaps1)\n",
    "        ConvCaps2 = Activation('tanh')(Add()([ConvCaps11 , ConvCaps2]))\n",
    "        print('ConvCaps2 shape : ', ConvCaps2.shape)\n",
    "        out = ConvCaps2\n",
    "        \n",
    "    elif layernum == 3:\n",
    "        ConvCaps1 = ConvCaps(n_channels=8, dim_capsule=dim_caps, decrease_resolution = True, kernel_regularizer=kernel_regularizer)(primarycaps)\n",
    "        ConvCaps1 = Activation('tanh')(ConvCaps1)\n",
    "        print('ConvCaps1 shape : ', ConvCaps1.shape)\n",
    "        \n",
    "        ConvCaps2 = ConvCaps(n_channels=8, dim_capsule=dim_caps, decrease_resolution = False, kernel_regularizer=kernel_regularizer)(ConvCaps1)\n",
    "        ConvCaps2 = Activation('tanh')(Add()([ConvCaps1 , ConvCaps2]))\n",
    "        print('ConvCaps2 shape : ', ConvCaps2.shape)\n",
    "        \n",
    "        ConvCaps3 = ConvCaps(n_channels=8, dim_capsule=dim_caps, decrease_resolution = False, kernel_regularizer=kernel_regularizer)(ConvCaps2)\n",
    "        ConvCaps3 = Activation('tanh')(Add()([ConvCaps2 , ConvCaps3]))\n",
    "        print('ConvCaps3 shape : ', ConvCaps3.shape)\n",
    "        out = ConvCaps3\n",
    "        \n",
    "    ## Fully Convolutional Capsules\n",
    "    output_dim_capsule = dim_caps \n",
    "    outputs = FullyConvCaps(n_channels=10, dim_capsule=output_dim_capsule, kernel_regularizer=kernel_regularizer)(out)\n",
    "    outputs = Activation('tanh')(outputs)\n",
    "    print('Final Routing caps shape : ', outputs.shape)\n",
    "    \n",
    "    ## Length Capsules\n",
    "    real_outputs = Length()(outputs)\n",
    "    print('Length shape : ', real_outputs.shape)\n",
    "\n",
    "    n_class=10\n",
    "    y = layers.Input(shape=(n_class,))\n",
    "    masked_by_y = Mask()([outputs, y])  # The true label is used to mask the output of capsule layer. For training\n",
    "    masked = Mask()(outputs)  # Mask using the capsule with maximal length. For prediction\n",
    "\n",
    "    # Shared Decoder model in training and prediction\n",
    "    decoder = models.Sequential(name='decoder')\n",
    "    decoder.add(Dense(512, activation='relu', input_dim=output_dim_capsule*n_class, kernel_regularizer=kernel_regularizer))\n",
    "    decoder.add(Dense(512, activation='relu', kernel_regularizer=kernel_regularizer))\n",
    "    decoder.add(Dense(np.prod(input_shape), activation='sigmoid', kernel_regularizer=kernel_regularizer))\n",
    "    decoder.add(Reshape(target_shape=input_shape, name='out_recon'))\n",
    "\n",
    "    train_model = models.Model([input_layer, y], [real_outputs, decoder(masked_by_y)])\n",
    "    eval_model = models.Model(input_layer, [real_outputs, decoder(masked)])\n",
    "    perturb_input_model = models.Model([input_layer, y], decoder(masked_by_y))\n",
    "\n",
    "    # manipulate model\n",
    "    noise = layers.Input(shape=(n_class, output_dim_capsule))\n",
    "    noised_outputs = layers.Add()([outputs, noise])\n",
    "    masked_noised_y = Mask()([noised_outputs, y])\n",
    "    manipulate_model = models.Model([input_layer, y, noise], [outputs, decoder(masked_noised_y)])\n",
    "    return train_model, eval_model\n",
    "    \n",
    "def train(train_model, x_train, y_train, args):\n",
    "    valid_ratio = 0.1*int(args.validratio)\n",
    "    print('valid_ratio', valid_ratio)\n",
    "    \n",
    "    ##########################################################################################################\n",
    "    # Training without data augmentation.\n",
    "    # callbacks\n",
    "    class TimeHistory(callbacks.Callback):\n",
    "        def on_train_begin(self, logs={}):\n",
    "            self.times = []\n",
    "\n",
    "        def on_epoch_begin(self, batch, logs={}):\n",
    "            self.epoch_time_start = time.time()\n",
    "\n",
    "        def on_epoch_end(self, batch, logs={}):\n",
    "            self.times.append(time.time() - self.epoch_time_start)\n",
    "    \n",
    "    time_callback = TimeHistory()\n",
    "    log = callbacks.CSVLogger(args.save_dir + '/log.csv')\n",
    "    tb = callbacks.TensorBoard(log_dir=args.save_dir + '/tensorboard-logs',\n",
    "                               batch_size=args.batch_size, histogram_freq=int(args.debug))\n",
    "    checkpoint = callbacks.ModelCheckpoint(args.save_dir + '/weights-{epoch:02d}.h5', monitor='val_length_1_acc',\n",
    "                                           save_best_only=True, save_weights_only=False, verbose=1)\n",
    "    def lr_schedule(epoch):\n",
    "        lrate = 0.001\n",
    "        if epoch > 50:\n",
    "            lrate = 0.0005\n",
    "        elif epoch > 200:\n",
    "            lrate = 0.0001\n",
    "        return lrate\n",
    "\n",
    "    initial_lr = 0.005\n",
    "    RMSprop = optimizers.RMSprop(lr=initial_lr, rho=0.9, epsilon=1e-08, decay=1e-4)\n",
    "    train_model.compile(optimizer=RMSprop,\n",
    "                      loss=[margin_loss, 'mse'],\n",
    "                      loss_weights=[1., 0.3],\n",
    "                      metrics=['acc'])\n",
    "    lr_decay = callbacks.LearningRateScheduler(schedule=lambda epoch: initial_lr * (0.99 ** epoch))\n",
    "    \n",
    "    from keras.preprocessing.image import ImageDataGenerator\n",
    "    datagen = ImageDataGenerator(\n",
    "            featurewise_center=False,  # set input mean to 0 over the dataset\n",
    "            samplewise_center=False,  # set each sample mean to 0\n",
    "            featurewise_std_normalization=False,  # divide inputs by std of the dataset\n",
    "            samplewise_std_normalization=False,  # divide each input by its std\n",
    "            zca_whitening=False,  # apply ZCA whitening\n",
    "            zca_epsilon=0,  # epsilon for ZCA whitening\n",
    "            rotation_range=0,  # randomly rotate images in the range (degrees, 0 to 180)\n",
    "            # randomly shift images horizontally (fraction of total width)\n",
    "            width_shift_range=0.2,\n",
    "            # randomly shift images vertically (fraction of total height)\n",
    "            height_shift_range=0.2,\n",
    "            shear_range=0.,  # set range for random shear\n",
    "            zoom_range=0.,  # set range for random zoom\n",
    "            channel_shift_range=0.,  # set range for random channel shifts\n",
    "            # set mode for filling points outside the input boundaries\n",
    "            fill_mode='nearest',\n",
    "            cval=0.,  # value used for fill_mode = \"constant\"\n",
    "            horizontal_flip=True,  # randomly flip images\n",
    "            vertical_flip=False,  # randomly flip images\n",
    "            # set rescaling factor (applied before any other transformation)\n",
    "            rescale=None,\n",
    "            # set function that will be applied on each input\n",
    "            preprocessing_function=None,\n",
    "            # image data format, either \"channels_first\" or \"channels_last\"\n",
    "            data_format=None)\n",
    "\n",
    "    def train_generator(x, y, batch_size):\n",
    "        train_datagen = datagen  \n",
    "\n",
    "        generator = train_datagen.flow(x, y, batch_size=batch_size)\n",
    "        while 1:\n",
    "            x_batch, y_batch = generator.next()\n",
    "            yield ([x_batch, y_batch], [y_batch, x_batch])\n",
    "\n",
    "    hist = train_model.fit_generator(generator=train_generator(x_train_padded, y_train, args.batch_size),\n",
    "                        steps_per_epoch=int(y_train.shape[0] / args.batch_size),\n",
    "                        epochs=args.epochs,\n",
    "                        verbose=1,\n",
    "                        validation_data = [[x_val, y_val], [y_val, x_val]],\n",
    "                        callbacks=[callbacks.LearningRateScheduler(lr_schedule), log, tb, checkpoint, time_callback])\n",
    "\n",
    "    train_model.save(args.save_dir + '/trained_model.h5')\n",
    "    print(time_callback.times)\n",
    "    # writedata.py\n",
    "    f = open(args.save_dir+'/time.txt', 'w')\n",
    "    for t in time_callback.times:\n",
    "        f.write(str(t)+'\\n')\n",
    "    f.close()"
   ]
  },
  {
   "cell_type": "markdown",
   "metadata": {},
   "source": [
    "### Train"
   ]
  },
  {
   "cell_type": "code",
   "execution_count": 8,
   "metadata": {},
   "outputs": [
    {
     "name": "stdout",
     "output_type": "stream",
     "text": [
      "layer num :  1\n",
      "dim_caps :  16\n",
      "WARNING:tensorflow:From C:\\Users\\Choi\\Anaconda3\\envs\\py35\\lib\\site-packages\\tensorflow\\python\\framework\\op_def_library.py:263: colocate_with (from tensorflow.python.framework.ops) is deprecated and will be removed in a future version.\n",
      "Instructions for updating:\n",
      "Colocations handled automatically by placer.\n",
      "primary caps shape :  (?, 40, 40, 16, 8)\n",
      "WARNING:tensorflow:From C:\\Users\\Choi\\Anaconda3\\envs\\py35\\lib\\site-packages\\keras\\backend\\tensorflow_backend.py:3445: calling dropout (from tensorflow.python.ops.nn_ops) with keep_prob is deprecated and will be removed in a future version.\n",
      "Instructions for updating:\n",
      "Please use `rate` instead of `keep_prob`. Rate should be set to `rate = 1 - keep_prob`.\n",
      "ConvCaps1 shape :  (?, 20, 20, 16, 8)\n",
      "Final Routing caps shape :  (?, 10, 16)\n",
      "Length shape :  (?, 10)\n",
      "__________________________________________________________________________________________________\n",
      "Layer (type)                    Output Shape         Param #     Connected to                     \n",
      "==================================================================================================\n",
      "input_1 (InputLayer)            (None, 40, 40, 1)    0                                            \n",
      "__________________________________________________________________________________________________\n",
      "conv2d_1 (Conv2D)               (None, 40, 40, 64)   640         input_1[0][0]                    \n",
      "__________________________________________________________________________________________________\n",
      "batch_normalization_1 (BatchNor (None, 40, 40, 64)   256         conv2d_1[0][0]                   \n",
      "__________________________________________________________________________________________________\n",
      "activation_1 (Activation)       (None, 40, 40, 64)   0           batch_normalization_1[0][0]      \n",
      "__________________________________________________________________________________________________\n",
      "conv2d_2 (Conv2D)               (None, 40, 40, 64)   36928       activation_1[0][0]               \n",
      "__________________________________________________________________________________________________\n",
      "batch_normalization_2 (BatchNor (None, 40, 40, 64)   256         conv2d_2[0][0]                   \n",
      "__________________________________________________________________________________________________\n",
      "activation_2 (Activation)       (None, 40, 40, 64)   0           batch_normalization_2[0][0]      \n",
      "__________________________________________________________________________________________________\n",
      "primary_cap_1 (PrimaryCap)      (None, 40, 40, 16, 8 76032       activation_2[0][0]               \n",
      "__________________________________________________________________________________________________\n",
      "activation_3 (Activation)       (None, 40, 40, 16, 8 0           primary_cap_1[0][0]              \n",
      "__________________________________________________________________________________________________\n",
      "conv_caps_1 (ConvCaps)          (None, 20, 20, 16, 8 158848      activation_3[0][0]               \n",
      "__________________________________________________________________________________________________\n",
      "activation_4 (Activation)       (None, 20, 20, 16, 8 0           conv_caps_1[0][0]                \n",
      "__________________________________________________________________________________________________\n",
      "fully_conv_caps_1 (FullyConvCap (None, 10, 16)       8206240     activation_4[0][0]               \n",
      "__________________________________________________________________________________________________\n",
      "activation_5 (Activation)       (None, 10, 16)       0           fully_conv_caps_1[0][0]          \n",
      "__________________________________________________________________________________________________\n",
      "input_2 (InputLayer)            (None, 10)           0                                            \n",
      "__________________________________________________________________________________________________\n",
      "mask_1 (Mask)                   (None, 160)          0           activation_5[0][0]               \n",
      "                                                                 input_2[0][0]                    \n",
      "__________________________________________________________________________________________________\n",
      "length_1 (Length)               (None, 10)           0           activation_5[0][0]               \n",
      "__________________________________________________________________________________________________\n",
      "decoder (Sequential)            (None, 40, 40, 1)    1165888     mask_1[0][0]                     \n",
      "==================================================================================================\n",
      "Total params: 9,645,088\n",
      "Trainable params: 9,644,832\n",
      "Non-trainable params: 256\n",
      "__________________________________________________________________________________________________\n",
      "None\n",
      "valid_ratio 0.0\n",
      "WARNING:tensorflow:From C:\\Users\\Choi\\Anaconda3\\envs\\py35\\lib\\site-packages\\tensorflow\\python\\ops\\math_ops.py:3066: to_int32 (from tensorflow.python.ops.math_ops) is deprecated and will be removed in a future version.\n",
      "Instructions for updating:\n",
      "Use tf.cast instead.\n",
      "Epoch 1/2\n",
      "600/600 [==============================] - 313s 522ms/step - loss: 0.2658 - length_1_loss: 0.2557 - decoder_loss: 0.0337 - length_1_acc: 0.7035 - decoder_acc: 0.8718 - val_loss: 0.2643 - val_length_1_loss: 0.2535 - val_decoder_loss: 0.0360 - val_length_1_acc: 0.6940 - val_decoder_acc: 0.8763\n",
      "\n",
      "Epoch 00001: val_length_1_acc improved from -inf to 0.69402, saving model to ./result/affnist/4/weights-01.h5\n",
      "Epoch 2/2\n",
      "551/600 [==========================>...] - ETA: 8s - loss: 0.1068 - length_1_loss: 0.0985 - decoder_loss: 0.0276 - length_1_acc: 0.9249 - decoder_acc: 0.8723"
     ]
    },
    {
     "name": "stderr",
     "output_type": "stream",
     "text": [
      "ERROR:root:Internal Python error in the inspect module.\n",
      "Below is the traceback from this internal error.\n",
      "\n"
     ]
    },
    {
     "name": "stdout",
     "output_type": "stream",
     "text": [
      "Traceback (most recent call last):\n",
      "  File \"C:\\Users\\Choi\\Anaconda3\\envs\\py35\\lib\\site-packages\\IPython\\core\\interactiveshell.py\", line 2961, in run_code\n",
      "    exec(code_obj, self.user_global_ns, self.user_ns)\n",
      "  File \"<ipython-input-8-224d04bc0b0b>\", line 21, in <module>\n",
      "    train(model, x_train, y_train, args)\n",
      "  File \"<ipython-input-7-2cbff5b71273>\", line 167, in train\n",
      "    callbacks=[callbacks.LearningRateScheduler(lr_schedule), log, tb, checkpoint, time_callback])\n",
      "  File \"C:\\Users\\Choi\\Anaconda3\\envs\\py35\\lib\\site-packages\\keras\\legacy\\interfaces.py\", line 91, in wrapper\n",
      "    return func(*args, **kwargs)\n",
      "  File \"C:\\Users\\Choi\\Anaconda3\\envs\\py35\\lib\\site-packages\\keras\\engine\\training.py\", line 1418, in fit_generator\n",
      "    initial_epoch=initial_epoch)\n",
      "  File \"C:\\Users\\Choi\\Anaconda3\\envs\\py35\\lib\\site-packages\\keras\\engine\\training_generator.py\", line 217, in fit_generator\n",
      "    class_weight=class_weight)\n",
      "  File \"C:\\Users\\Choi\\Anaconda3\\envs\\py35\\lib\\site-packages\\keras\\engine\\training.py\", line 1217, in train_on_batch\n",
      "    outputs = self.train_function(ins)\n",
      "  File \"C:\\Users\\Choi\\Anaconda3\\envs\\py35\\lib\\site-packages\\keras\\backend\\tensorflow_backend.py\", line 2715, in __call__\n",
      "    return self._call(inputs)\n",
      "  File \"C:\\Users\\Choi\\Anaconda3\\envs\\py35\\lib\\site-packages\\keras\\backend\\tensorflow_backend.py\", line 2675, in _call\n",
      "    fetched = self._callable_fn(*array_vals)\n",
      "  File \"C:\\Users\\Choi\\Anaconda3\\envs\\py35\\lib\\site-packages\\tensorflow\\python\\client\\session.py\", line 1439, in __call__\n",
      "    run_metadata_ptr)\n",
      "KeyboardInterrupt\n",
      "\n",
      "During handling of the above exception, another exception occurred:\n",
      "\n",
      "Traceback (most recent call last):\n",
      "  File \"C:\\Users\\Choi\\Anaconda3\\envs\\py35\\lib\\site-packages\\IPython\\core\\interactiveshell.py\", line 1863, in showtraceback\n",
      "    stb = value._render_traceback_()\n",
      "AttributeError: 'KeyboardInterrupt' object has no attribute '_render_traceback_'\n",
      "\n",
      "During handling of the above exception, another exception occurred:\n",
      "\n",
      "Traceback (most recent call last):\n",
      "  File \"C:\\Users\\Choi\\Anaconda3\\envs\\py35\\lib\\site-packages\\IPython\\core\\ultratb.py\", line 1095, in get_records\n",
      "    return _fixed_getinnerframes(etb, number_of_lines_of_context, tb_offset)\n",
      "  File \"C:\\Users\\Choi\\Anaconda3\\envs\\py35\\lib\\site-packages\\IPython\\core\\ultratb.py\", line 311, in wrapped\n",
      "    return f(*args, **kwargs)\n",
      "  File \"C:\\Users\\Choi\\Anaconda3\\envs\\py35\\lib\\site-packages\\IPython\\core\\ultratb.py\", line 345, in _fixed_getinnerframes\n",
      "    records = fix_frame_records_filenames(inspect.getinnerframes(etb, context))\n",
      "  File \"C:\\Users\\Choi\\Anaconda3\\envs\\py35\\lib\\inspect.py\", line 1459, in getinnerframes\n",
      "    frameinfo = (tb.tb_frame,) + getframeinfo(tb, context)\n",
      "  File \"C:\\Users\\Choi\\Anaconda3\\envs\\py35\\lib\\inspect.py\", line 1417, in getframeinfo\n",
      "    filename = getsourcefile(frame) or getfile(frame)\n",
      "  File \"C:\\Users\\Choi\\Anaconda3\\envs\\py35\\lib\\inspect.py\", line 677, in getsourcefile\n",
      "    if getattr(getmodule(object, filename), '__loader__', None) is not None:\n",
      "  File \"C:\\Users\\Choi\\Anaconda3\\envs\\py35\\lib\\inspect.py\", line 720, in getmodule\n",
      "    f = getabsfile(module)\n",
      "  File \"C:\\Users\\Choi\\Anaconda3\\envs\\py35\\lib\\inspect.py\", line 689, in getabsfile\n",
      "    _filename = getsourcefile(object) or getfile(object)\n",
      "  File \"C:\\Users\\Choi\\Anaconda3\\envs\\py35\\lib\\inspect.py\", line 674, in getsourcefile\n",
      "    if os.path.exists(filename):\n",
      "  File \"C:\\Users\\Choi\\Anaconda3\\envs\\py35\\lib\\genericpath.py\", line 19, in exists\n",
      "    os.stat(path)\n",
      "KeyboardInterrupt\n"
     ]
    },
    {
     "ename": "KeyboardInterrupt",
     "evalue": "",
     "output_type": "error",
     "traceback": [
      "\u001b[1;31m---------------------------------------------------------------------------\u001b[0m"
     ]
    }
   ],
   "source": [
    "class args:\n",
    "    epochs=2\n",
    "    batch_size=100\n",
    "    save_dir='./result/affnist/4'\n",
    "    augment=False\n",
    "    gpu=0\n",
    "    dataset='cifar10'\n",
    "    layernum=1\n",
    "    dimcaps=16\n",
    "    validratio=0\n",
    "    resize=False\n",
    "    debug=False\n",
    "\n",
    "if not os.path.exists(args.save_dir):\n",
    "    os.makedirs(args.save_dir)\n",
    "\n",
    "model, _ = AR_CapsNet(x_train_padded[0].shape, args)\n",
    "\n",
    "print(model.summary())\n",
    "\n",
    "train(model, x_train, y_train, args)"
   ]
  },
  {
   "cell_type": "code",
   "execution_count": null,
   "metadata": {},
   "outputs": [],
   "source": []
  },
  {
   "cell_type": "code",
   "execution_count": null,
   "metadata": {},
   "outputs": [],
   "source": []
  },
  {
   "cell_type": "markdown",
   "metadata": {},
   "source": [
    "### Predict"
   ]
  },
  {
   "cell_type": "code",
   "execution_count": 8,
   "metadata": {},
   "outputs": [],
   "source": [
    "#x_val, y_val = prepare_affNIST('./affnist/validation.mat')\n",
    "x_test, y_test = prepare_affNIST('./affnist/test.mat')\n",
    "\n",
    "#y_val = utils.to_categorical(y_val, num_classes=10)\n",
    "y_test = utils.to_categorical(y_test, num_classes=10)\n"
   ]
  },
  {
   "cell_type": "code",
   "execution_count": 13,
   "metadata": {},
   "outputs": [
    {
     "name": "stdout",
     "output_type": "stream",
     "text": [
      "layer num :  1\n",
      "dim_caps :  16\n",
      "primary caps shape :  (?, 20, 20, 16, 8)\n",
      "ConvCaps1 shape :  (?, 10, 10, 16, 8)\n",
      "Final Routing caps shape :  (?, 10, 16)\n",
      "Length shape :  (?, 10)\n",
      "__________________________________________________________________________________________________\n",
      "Layer (type)                    Output Shape         Param #     Connected to                     \n",
      "==================================================================================================\n",
      "input_7 (InputLayer)            (None, 40, 40, 1)    0                                            \n",
      "__________________________________________________________________________________________________\n",
      "conv2d_5 (Conv2D)               (None, 40, 40, 64)   640         input_7[0][0]                    \n",
      "__________________________________________________________________________________________________\n",
      "batch_normalization_5 (BatchNor (None, 40, 40, 64)   256         conv2d_5[0][0]                   \n",
      "__________________________________________________________________________________________________\n",
      "activation_11 (Activation)      (None, 40, 40, 64)   0           batch_normalization_5[0][0]      \n",
      "__________________________________________________________________________________________________\n",
      "conv2d_6 (Conv2D)               (None, 40, 40, 64)   36928       activation_11[0][0]              \n",
      "__________________________________________________________________________________________________\n",
      "batch_normalization_6 (BatchNor (None, 40, 40, 64)   256         conv2d_6[0][0]                   \n",
      "__________________________________________________________________________________________________\n",
      "activation_12 (Activation)      (None, 40, 40, 64)   0           batch_normalization_6[0][0]      \n",
      "__________________________________________________________________________________________________\n",
      "primary_cap_3 (PrimaryCap)      (None, 20, 20, 16, 8 76032       activation_12[0][0]              \n",
      "__________________________________________________________________________________________________\n",
      "activation_13 (Activation)      (None, 20, 20, 16, 8 0           primary_cap_3[0][0]              \n",
      "__________________________________________________________________________________________________\n",
      "conv_caps_3 (ConvCaps)          (None, 10, 10, 16, 8 158848      activation_13[0][0]              \n",
      "__________________________________________________________________________________________________\n",
      "activation_14 (Activation)      (None, 10, 10, 16, 8 0           conv_caps_3[0][0]                \n",
      "__________________________________________________________________________________________________\n",
      "fully_conv_caps_3 (FullyConvCap (None, 10, 16)       2062240     activation_14[0][0]              \n",
      "__________________________________________________________________________________________________\n",
      "activation_15 (Activation)      (None, 10, 16)       0           fully_conv_caps_3[0][0]          \n",
      "__________________________________________________________________________________________________\n",
      "input_8 (InputLayer)            (None, 10)           0                                            \n",
      "__________________________________________________________________________________________________\n",
      "mask_7 (Mask)                   (None, 160)          0           activation_15[0][0]              \n",
      "                                                                 input_8[0][0]                    \n",
      "__________________________________________________________________________________________________\n",
      "length_3 (Length)               (None, 10)           0           activation_15[0][0]              \n",
      "__________________________________________________________________________________________________\n",
      "decoder (Sequential)            (None, 40, 40, 1)    1165888     mask_7[0][0]                     \n",
      "==================================================================================================\n",
      "Total params: 3,501,088\n",
      "Trainable params: 3,500,832\n",
      "Non-trainable params: 256\n",
      "__________________________________________________________________________________________________\n",
      "None\n"
     ]
    }
   ],
   "source": [
    "class args:\n",
    "    epochs=20\n",
    "    batch_size=100\n",
    "    save_dir='./result/affnist/1'\n",
    "    augment=False\n",
    "    gpu=0\n",
    "    dataset='cifar10'\n",
    "    layernum=1\n",
    "    dimcaps=16\n",
    "    validratio=0\n",
    "    resize=False\n",
    "    debug=False\n",
    "\n",
    "if not os.path.exists(args.save_dir):\n",
    "    os.makedirs(args.save_dir)\n",
    "\n",
    "model, eval_model = AR_CapsNet(x_train_padded[0].shape, args)\n",
    "print(model.summary())\n"
   ]
  },
  {
   "cell_type": "code",
   "execution_count": 17,
   "metadata": {},
   "outputs": [],
   "source": [
    "model_path = './result/affnist/weights-18.h5'\n",
    "eval_model.load_weights(model_path)\n"
   ]
  },
  {
   "cell_type": "code",
   "execution_count": 18,
   "metadata": {},
   "outputs": [
    {
     "data": {
      "text/plain": [
       "(320000, 40, 40, 1)"
      ]
     },
     "execution_count": 18,
     "metadata": {},
     "output_type": "execute_result"
    }
   ],
   "source": [
    "x_test.shape\n",
    "x_val.shape"
   ]
  },
  {
   "cell_type": "code",
   "execution_count": 20,
   "metadata": {},
   "outputs": [
    {
     "name": "stdout",
     "output_type": "stream",
     "text": [
      "pred1\n",
      "acc :  0.9163\n"
     ]
    }
   ],
   "source": [
    "y_label = np.argmax(y_test, axis=1)\n",
    "\n",
    "pred1, _ = eval_model.predict(x=x_test, batch_size=100)\n",
    "print('pred1')\n",
    "pred_label = np.argmax(pred1, axis=1)\n",
    "acc1 = np.sum(y_label == pred_label) / float(y_label.shape[0])\n",
    "print('acc : ', acc1)\n"
   ]
  },
  {
   "cell_type": "code",
   "execution_count": 9,
   "metadata": {},
   "outputs": [
    {
     "name": "stdout",
     "output_type": "stream",
     "text": [
      "pred1\n",
      "acc :  0.91453125\n"
     ]
    }
   ],
   "source": [
    "model_path = './result/affnist/2/weights-18.h5'\n",
    "eval_model.load_weights(model_path)\n",
    "\n",
    "y_label = np.argmax(y_test, axis=1)\n",
    "\n",
    "pred1, _ = eval_model.predict(x=x_test, batch_size=100)\n",
    "print('pred1')\n",
    "pred_label = np.argmax(pred1, axis=1)\n",
    "acc1 = np.sum(y_label == pred_label) / float(y_label.shape[0])\n",
    "print('acc : ', acc1)"
   ]
  },
  {
   "cell_type": "code",
   "execution_count": 11,
   "metadata": {},
   "outputs": [
    {
     "name": "stdout",
     "output_type": "stream",
     "text": [
      "pred1\n",
      "acc :  0.9158375\n"
     ]
    }
   ],
   "source": [
    "model_path = './result/affnist/3/weights-20.h5'\n",
    "eval_model.load_weights(model_path)\n",
    "\n",
    "y_label = np.argmax(y_test, axis=1)\n",
    "\n",
    "pred1, _ = eval_model.predict(x=x_test, batch_size=100)\n",
    "print('pred1')\n",
    "pred_label = np.argmax(pred1, axis=1)\n",
    "acc1 = np.sum(y_label == pred_label) / float(y_label.shape[0])\n",
    "print('acc : ', acc1)"
   ]
  },
  {
   "cell_type": "code",
   "execution_count": null,
   "metadata": {},
   "outputs": [],
   "source": []
  },
  {
   "cell_type": "code",
   "execution_count": null,
   "metadata": {},
   "outputs": [],
   "source": []
  }
 ],
 "metadata": {
  "kernelspec": {
   "display_name": "Python 3",
   "language": "python",
   "name": "python3"
  },
  "language_info": {
   "codemirror_mode": {
    "name": "ipython",
    "version": 3
   },
   "file_extension": ".py",
   "mimetype": "text/x-python",
   "name": "python",
   "nbconvert_exporter": "python",
   "pygments_lexer": "ipython3",
   "version": "3.5.6"
  },
  "varInspector": {
   "cols": {
    "lenName": 16,
    "lenType": 16,
    "lenVar": 40
   },
   "kernels_config": {
    "python": {
     "delete_cmd_postfix": "",
     "delete_cmd_prefix": "del ",
     "library": "var_list.py",
     "varRefreshCmd": "print(var_dic_list())"
    },
    "r": {
     "delete_cmd_postfix": ") ",
     "delete_cmd_prefix": "rm(",
     "library": "var_list.r",
     "varRefreshCmd": "cat(var_dic_list()) "
    }
   },
   "types_to_exclude": [
    "module",
    "function",
    "builtin_function_or_method",
    "instance",
    "_Feature"
   ],
   "window_display": false
  }
 },
 "nbformat": 4,
 "nbformat_minor": 2
}
