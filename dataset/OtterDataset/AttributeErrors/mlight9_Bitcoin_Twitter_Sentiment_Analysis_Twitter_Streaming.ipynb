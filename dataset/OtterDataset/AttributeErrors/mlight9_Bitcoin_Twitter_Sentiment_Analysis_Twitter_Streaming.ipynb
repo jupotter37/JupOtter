{
 "cells": [
  {
   "cell_type": "code",
   "execution_count": 10,
   "metadata": {
    "collapsed": true
   },
   "outputs": [],
   "source": [
    "from tweepy import Stream\n",
    "from tweepy import OAuthHandler\n",
    "from tweepy.streaming import StreamListener\n",
    "import time \n",
    "\n",
    "#1) Retrieving Keys from 'apps.twitter.com'\n",
    "\n",
    "#a) Consumer Key & Secret\n",
    "ckey = 'OjIWRv5sU2VTVhs8aDrQtbyJi'\n",
    "csecret = 'YpfD16bMRrZ95qQs2wqY3wIk1ExNMTzHeZkVTcIgqIKYKqegyK'\n",
    "\n",
    "#b) Access Token & Secret (Permits API reqests on own account above)\n",
    "atoken = '958863702127759360-xGDC6UBeiW257gcLNZzI7oF3oxWL2BT'\n",
    "asecret = 'rcW60Wo5xkOIVFpxrmkv0SentQ8oUQ5vgQDOQRcVffpJh'"
   ]
  },
  {
   "cell_type": "markdown",
   "metadata": {},
   "source": [
    "### Defining Listener Class"
   ]
  },
  {
   "cell_type": "code",
   "execution_count": 11,
   "metadata": {
    "collapsed": true
   },
   "outputs": [],
   "source": [
    "class listener(StreamListener):\n",
    "    \n",
    "    def on_data(self, data):\n",
    "        \n",
    "        #Using Try-except error handling to deal with possible errors putting this to a halt\n",
    "        \n",
    "        try:\n",
    "        \n",
    "            #print(data)#printind 'data'or incoming tweets as a string\n",
    "\n",
    "            #a) Extracting tweet text from large string\n",
    "            tweet = data.split(',\"text\":\"')[1].split(',\"source\":')[0]\n",
    "    #         print(tweet)\n",
    "    #         print('\\n')\n",
    "\n",
    "            #a-1) Extracting language\n",
    "            language = data.split(',\"lang\":\"')[1].split('\",\"contributors_enabled\":')[0]\n",
    "\n",
    "            #a-2) Extracting favourites_count\n",
    "            fav_count = data.split(',\"favourites_count\":')[1].split(',\"statuses_count\":')[0]\n",
    "\n",
    "            #a-3) Extracting followers_count\n",
    "            follower_count = data.split(',\"followers_count\":')[1].split(',\"friends_count\":')[0]\n",
    "\n",
    "\n",
    "            #b) Saving unix timestamp and tweet as single string ( Quadruple colon is delmiter here)\n",
    "            saveThis = str(time.time()) + '::::' + tweet + '::::' + language + '::::' + fav_count + '::::' + follower_count\n",
    "#             print(saveThis)\n",
    "#             print(\"\\n\")\n",
    "\n",
    "            #c) Writing Tweets or data to a csv file\n",
    "            saveFile = open('twitdb_3-1-18.csv', 'a') # 'a' is for appending data to file. If we used 'w' for write it would clear file everytime \n",
    "\n",
    "            saveFile.write(saveThis) #info we want to write to file is stored in 'saveThis'\n",
    "            saveFile.write('\\n')\n",
    "\n",
    "            saveFile.close()\n",
    "\n",
    "            return True\n",
    "        \n",
    "        except BaseException as e: # telling us when an error has occurred and what type of error (i.e., rate limiting, spotty wifi ...)\n",
    "            print(str(time.time()) + \"Streamer Failed: \"+ str(e)) #'e' is acutal error\n",
    "            time.sleep(5)#if we get this error dont run script for 60 seconds\n",
    "        \n",
    "            \n",
    "    #Otherwise print an error\n",
    "    def on_error(self, status):\n",
    "        print(status)\n",
    "    "
   ]
  },
  {
   "cell_type": "markdown",
   "metadata": {},
   "source": [
    "### Authorizing Ourselves & Running Streamer"
   ]
  },
  {
   "cell_type": "code",
   "execution_count": 12,
   "metadata": {
    "scrolled": false
   },
   "outputs": [
    {
     "name": "stdout",
     "output_type": "stream",
     "text": [
      "1520563076.782505Streamer Failed: list index out of range\n",
      "1520563081.792442Streamer Failed: list index out of range\n",
      "1520563086.797086Streamer Failed: list index out of range\n",
      "1520598562.3661509Streamer Failed: list index out of range\n",
      "1520598567.375993Streamer Failed: list index out of range\n",
      "1520598572.384587Streamer Failed: list index out of range\n",
      "1520598577.393774Streamer Failed: list index out of range\n",
      "1520598587.864964Streamer Failed: list index out of range\n",
      "1520598592.875648Streamer Failed: list index out of range\n",
      "1520598597.8813372Streamer Failed: list index out of range\n",
      "1520598602.888801Streamer Failed: list index out of range\n",
      "1520605481.7901702Streamer Failed: list index out of range\n",
      "1520605486.800894Streamer Failed: list index out of range\n",
      "1520605491.811251Streamer Failed: list index out of range\n",
      "1520605496.8259609Streamer Failed: list index out of range\n",
      "1520620508.410763Streamer Failed: list index out of range\n",
      "1520744403.354252Streamer Failed: list index out of range\n",
      "1520759126.551059Streamer Failed: list index out of range\n",
      "1520759131.565938Streamer Failed: list index out of range\n",
      "1520759136.571039Streamer Failed: list index out of range\n",
      "1520759141.585946Streamer Failed: list index out of range\n",
      "1520769885.901097Streamer Failed: list index out of range\n",
      "1520788814.333576Streamer Failed: list index out of range\n",
      "1520790866.99503Streamer Failed: list index out of range\n",
      "1520790871.9975622Streamer Failed: list index out of range\n",
      "1520790877.0046568Streamer Failed: list index out of range\n",
      "1520790882.015102Streamer Failed: list index out of range\n",
      "1520836640.7041678Streamer Failed: list index out of range\n",
      "1520836645.7152698Streamer Failed: list index out of range\n",
      "1520836650.72786Streamer Failed: list index out of range\n",
      "1520836655.738531Streamer Failed: list index out of range\n",
      "1520836848.3013482Streamer Failed: list index out of range\n",
      "1520836853.3078551Streamer Failed: list index out of range\n",
      "1520836858.3147478Streamer Failed: list index out of range\n",
      "1520836863.329262Streamer Failed: list index out of range\n",
      "1520836869.1388512Streamer Failed: list index out of range\n",
      "1520836874.1533298Streamer Failed: list index out of range\n",
      "1520836879.160296Streamer Failed: list index out of range\n",
      "1520838019.902001Streamer Failed: list index out of range\n",
      "1520838132.7859461Streamer Failed: list index out of range\n",
      "1520838161.9207602Streamer Failed: list index out of range\n",
      "1520838209.1217139Streamer Failed: list index out of range\n",
      "1520838214.136349Streamer Failed: list index out of range\n",
      "1520838219.476094Streamer Failed: list index out of range\n",
      "1520838263.679136Streamer Failed: list index out of range\n",
      "1520838270.848165Streamer Failed: list index out of range\n",
      "1520838279.014171Streamer Failed: list index out of range\n",
      "1520838284.025283Streamer Failed: list index out of range\n",
      "1520838300.976794Streamer Failed: list index out of range\n",
      "1520838508.102338Streamer Failed: list index out of range\n",
      "1520839831.457512Streamer Failed: list index out of range\n",
      "1520870403.080526Streamer Failed: list index out of range\n",
      "1520873621.450613Streamer Failed: list index out of range\n",
      "1520876644.713632Streamer Failed: list index out of range\n",
      "1520877005.701623Streamer Failed: list index out of range\n",
      "1520905800.655783Streamer Failed: list index out of range\n",
      "1520924403.0811741Streamer Failed: list index out of range\n",
      "1520931603.512681Streamer Failed: list index out of range\n",
      "1520941224.607454Streamer Failed: list index out of range\n",
      "1520941229.616554Streamer Failed: list index out of range\n",
      "1520941243.84412Streamer Failed: list index out of range\n",
      "1520941272.2489831Streamer Failed: list index out of range\n",
      "1520941277.256141Streamer Failed: list index out of range\n",
      "1520949376.111884Streamer Failed: list index out of range\n",
      "1520949381.1264699Streamer Failed: list index out of range\n",
      "1520949386.131406Streamer Failed: list index out of range\n",
      "1520949391.1459992Streamer Failed: list index out of range\n",
      "1520950926.849792Streamer Failed: list index out of range\n",
      "1520950931.863731Streamer Failed: list index out of range\n",
      "1520950936.877156Streamer Failed: list index out of range\n",
      "1520951548.475822Streamer Failed: list index out of range\n",
      "1520951553.481759Streamer Failed: list index out of range\n",
      "1520951558.496324Streamer Failed: list index out of range\n",
      "1520951563.510157Streamer Failed: list index out of range\n",
      "1520959369.703346Streamer Failed: list index out of range\n",
      "1520959374.709037Streamer Failed: list index out of range\n",
      "1520959379.722108Streamer Failed: list index out of range\n",
      "1520959384.737816Streamer Failed: list index out of range\n",
      "1520959426.2284758Streamer Failed: list index out of range\n",
      "1520959431.239223Streamer Failed: list index out of range\n",
      "1520959436.24612Streamer Failed: list index out of range\n",
      "1520959441.2491882Streamer Failed: list index out of range\n",
      "1520971203.237497Streamer Failed: list index out of range\n",
      "1520985602.9111528Streamer Failed: list index out of range\n"
     ]
    },
    {
     "ename": "AttributeError",
     "evalue": "'NoneType' object has no attribute 'strip'",
     "output_type": "error",
     "traceback": [
      "\u001b[0;31m---------------------------------------------------------------------------\u001b[0m",
      "\u001b[0;31mAttributeError\u001b[0m                            Traceback (most recent call last)",
      "\u001b[0;32m<ipython-input-12-c6e1d0467004>\u001b[0m in \u001b[0;36m<module>\u001b[0;34m()\u001b[0m\n\u001b[1;32m      7\u001b[0m \u001b[0;34m\u001b[0m\u001b[0m\n\u001b[1;32m      8\u001b[0m \u001b[0;31m#Using a Filter on incoming tweets (track = ...)\u001b[0m\u001b[0;34m\u001b[0m\u001b[0;34m\u001b[0m\u001b[0m\n\u001b[0;32m----> 9\u001b[0;31m \u001b[0mtwitterStream\u001b[0m\u001b[0;34m.\u001b[0m\u001b[0mfilter\u001b[0m\u001b[0;34m(\u001b[0m\u001b[0mtrack\u001b[0m\u001b[0;34m=\u001b[0m\u001b[0;34m[\u001b[0m\u001b[0;34m\"bitcoin\"\u001b[0m\u001b[0;34m,\u001b[0m\u001b[0;34m\"Bitcoin\"\u001b[0m\u001b[0;34m,\u001b[0m \u001b[0;34m'btc'\u001b[0m\u001b[0;34m,\u001b[0m\u001b[0;34m'BTC'\u001b[0m\u001b[0;34m]\u001b[0m\u001b[0;34m)\u001b[0m\u001b[0;34m\u001b[0m\u001b[0m\n\u001b[0m",
      "\u001b[0;32m~/anaconda3/lib/python3.6/site-packages/tweepy/streaming.py\u001b[0m in \u001b[0;36mfilter\u001b[0;34m(self, follow, track, async, locations, stall_warnings, languages, encoding, filter_level)\u001b[0m\n\u001b[1;32m    443\u001b[0m         \u001b[0mself\u001b[0m\u001b[0;34m.\u001b[0m\u001b[0msession\u001b[0m\u001b[0;34m.\u001b[0m\u001b[0mparams\u001b[0m \u001b[0;34m=\u001b[0m \u001b[0;34m{\u001b[0m\u001b[0;34m'delimited'\u001b[0m\u001b[0;34m:\u001b[0m \u001b[0;34m'length'\u001b[0m\u001b[0;34m}\u001b[0m\u001b[0;34m\u001b[0m\u001b[0m\n\u001b[1;32m    444\u001b[0m         \u001b[0mself\u001b[0m\u001b[0;34m.\u001b[0m\u001b[0mhost\u001b[0m \u001b[0;34m=\u001b[0m \u001b[0;34m'stream.twitter.com'\u001b[0m\u001b[0;34m\u001b[0m\u001b[0m\n\u001b[0;32m--> 445\u001b[0;31m         \u001b[0mself\u001b[0m\u001b[0;34m.\u001b[0m\u001b[0m_start\u001b[0m\u001b[0;34m(\u001b[0m\u001b[0masync\u001b[0m\u001b[0;34m)\u001b[0m\u001b[0;34m\u001b[0m\u001b[0m\n\u001b[0m\u001b[1;32m    446\u001b[0m \u001b[0;34m\u001b[0m\u001b[0m\n\u001b[1;32m    447\u001b[0m     def sitestream(self, follow, stall_warnings=False,\n",
      "\u001b[0;32m~/anaconda3/lib/python3.6/site-packages/tweepy/streaming.py\u001b[0m in \u001b[0;36m_start\u001b[0;34m(self, async)\u001b[0m\n\u001b[1;32m    359\u001b[0m             \u001b[0mself\u001b[0m\u001b[0;34m.\u001b[0m\u001b[0m_thread\u001b[0m\u001b[0;34m.\u001b[0m\u001b[0mstart\u001b[0m\u001b[0;34m(\u001b[0m\u001b[0;34m)\u001b[0m\u001b[0;34m\u001b[0m\u001b[0m\n\u001b[1;32m    360\u001b[0m         \u001b[0;32melse\u001b[0m\u001b[0;34m:\u001b[0m\u001b[0;34m\u001b[0m\u001b[0m\n\u001b[0;32m--> 361\u001b[0;31m             \u001b[0mself\u001b[0m\u001b[0;34m.\u001b[0m\u001b[0m_run\u001b[0m\u001b[0;34m(\u001b[0m\u001b[0;34m)\u001b[0m\u001b[0;34m\u001b[0m\u001b[0m\n\u001b[0m\u001b[1;32m    362\u001b[0m \u001b[0;34m\u001b[0m\u001b[0m\n\u001b[1;32m    363\u001b[0m     \u001b[0;32mdef\u001b[0m \u001b[0mon_closed\u001b[0m\u001b[0;34m(\u001b[0m\u001b[0mself\u001b[0m\u001b[0;34m,\u001b[0m \u001b[0mresp\u001b[0m\u001b[0;34m)\u001b[0m\u001b[0;34m:\u001b[0m\u001b[0;34m\u001b[0m\u001b[0m\n",
      "\u001b[0;32m~/anaconda3/lib/python3.6/site-packages/tweepy/streaming.py\u001b[0m in \u001b[0;36m_run\u001b[0;34m(self)\u001b[0m\n\u001b[1;32m    292\u001b[0m             \u001b[0;31m# call a handler first so that the exception can be logged.\u001b[0m\u001b[0;34m\u001b[0m\u001b[0;34m\u001b[0m\u001b[0m\n\u001b[1;32m    293\u001b[0m             \u001b[0mself\u001b[0m\u001b[0;34m.\u001b[0m\u001b[0mlistener\u001b[0m\u001b[0;34m.\u001b[0m\u001b[0mon_exception\u001b[0m\u001b[0;34m(\u001b[0m\u001b[0mexception\u001b[0m\u001b[0;34m)\u001b[0m\u001b[0;34m\u001b[0m\u001b[0m\n\u001b[0;32m--> 294\u001b[0;31m             \u001b[0;32mraise\u001b[0m \u001b[0mexception\u001b[0m\u001b[0;34m\u001b[0m\u001b[0m\n\u001b[0m\u001b[1;32m    295\u001b[0m \u001b[0;34m\u001b[0m\u001b[0m\n\u001b[1;32m    296\u001b[0m     \u001b[0;32mdef\u001b[0m \u001b[0m_data\u001b[0m\u001b[0;34m(\u001b[0m\u001b[0mself\u001b[0m\u001b[0;34m,\u001b[0m \u001b[0mdata\u001b[0m\u001b[0;34m)\u001b[0m\u001b[0;34m:\u001b[0m\u001b[0;34m\u001b[0m\u001b[0m\n",
      "\u001b[0;32m~/anaconda3/lib/python3.6/site-packages/tweepy/streaming.py\u001b[0m in \u001b[0;36m_run\u001b[0;34m(self)\u001b[0m\n\u001b[1;32m    261\u001b[0m                     \u001b[0mself\u001b[0m\u001b[0;34m.\u001b[0m\u001b[0msnooze_time\u001b[0m \u001b[0;34m=\u001b[0m \u001b[0mself\u001b[0m\u001b[0;34m.\u001b[0m\u001b[0msnooze_time_step\u001b[0m\u001b[0;34m\u001b[0m\u001b[0m\n\u001b[1;32m    262\u001b[0m                     \u001b[0mself\u001b[0m\u001b[0;34m.\u001b[0m\u001b[0mlistener\u001b[0m\u001b[0;34m.\u001b[0m\u001b[0mon_connect\u001b[0m\u001b[0;34m(\u001b[0m\u001b[0;34m)\u001b[0m\u001b[0;34m\u001b[0m\u001b[0m\n\u001b[0;32m--> 263\u001b[0;31m                     \u001b[0mself\u001b[0m\u001b[0;34m.\u001b[0m\u001b[0m_read_loop\u001b[0m\u001b[0;34m(\u001b[0m\u001b[0mresp\u001b[0m\u001b[0;34m)\u001b[0m\u001b[0;34m\u001b[0m\u001b[0m\n\u001b[0m\u001b[1;32m    264\u001b[0m             \u001b[0;32mexcept\u001b[0m \u001b[0;34m(\u001b[0m\u001b[0mTimeout\u001b[0m\u001b[0;34m,\u001b[0m \u001b[0mssl\u001b[0m\u001b[0;34m.\u001b[0m\u001b[0mSSLError\u001b[0m\u001b[0;34m)\u001b[0m \u001b[0;32mas\u001b[0m \u001b[0mexc\u001b[0m\u001b[0;34m:\u001b[0m\u001b[0;34m\u001b[0m\u001b[0m\n\u001b[1;32m    265\u001b[0m                 \u001b[0;31m# This is still necessary, as a SSLError can actually be\u001b[0m\u001b[0;34m\u001b[0m\u001b[0;34m\u001b[0m\u001b[0m\n",
      "\u001b[0;32m~/anaconda3/lib/python3.6/site-packages/tweepy/streaming.py\u001b[0m in \u001b[0;36m_read_loop\u001b[0;34m(self, resp)\u001b[0m\n\u001b[1;32m    311\u001b[0m             \u001b[0mlength\u001b[0m \u001b[0;34m=\u001b[0m \u001b[0;36m0\u001b[0m\u001b[0;34m\u001b[0m\u001b[0m\n\u001b[1;32m    312\u001b[0m             \u001b[0;32mwhile\u001b[0m \u001b[0;32mnot\u001b[0m \u001b[0mresp\u001b[0m\u001b[0;34m.\u001b[0m\u001b[0mraw\u001b[0m\u001b[0;34m.\u001b[0m\u001b[0mclosed\u001b[0m\u001b[0;34m:\u001b[0m\u001b[0;34m\u001b[0m\u001b[0m\n\u001b[0;32m--> 313\u001b[0;31m                 \u001b[0mline\u001b[0m \u001b[0;34m=\u001b[0m \u001b[0mbuf\u001b[0m\u001b[0;34m.\u001b[0m\u001b[0mread_line\u001b[0m\u001b[0;34m(\u001b[0m\u001b[0;34m)\u001b[0m\u001b[0;34m.\u001b[0m\u001b[0mstrip\u001b[0m\u001b[0;34m(\u001b[0m\u001b[0;34m)\u001b[0m\u001b[0;34m\u001b[0m\u001b[0m\n\u001b[0m\u001b[1;32m    314\u001b[0m                 \u001b[0;32mif\u001b[0m \u001b[0;32mnot\u001b[0m \u001b[0mline\u001b[0m\u001b[0;34m:\u001b[0m\u001b[0;34m\u001b[0m\u001b[0m\n\u001b[1;32m    315\u001b[0m                     \u001b[0mself\u001b[0m\u001b[0;34m.\u001b[0m\u001b[0mlistener\u001b[0m\u001b[0;34m.\u001b[0m\u001b[0mkeep_alive\u001b[0m\u001b[0;34m(\u001b[0m\u001b[0;34m)\u001b[0m  \u001b[0;31m# keep-alive new lines are expected\u001b[0m\u001b[0;34m\u001b[0m\u001b[0m\n",
      "\u001b[0;31mAttributeError\u001b[0m: 'NoneType' object has no attribute 'strip'"
     ]
    }
   ],
   "source": [
    "auth = OAuthHandler(ckey, csecret)\n",
    "\n",
    "auth.set_access_token(atoken, asecret)\n",
    "\n",
    "#To stream we need authentication credentials and 'listener class()' so python knows what to do\n",
    "twitterStream = Stream(auth, listener())\n",
    "\n",
    "#Using a Filter on incoming tweets (track = ...)\n",
    "twitterStream.filter(track=[\"bitcoin\",\"Bitcoin\", 'btc','BTC'])"
   ]
  },
  {
   "cell_type": "code",
   "execution_count": null,
   "metadata": {
    "collapsed": true
   },
   "outputs": [],
   "source": []
  }
 ],
 "metadata": {
  "kernelspec": {
   "display_name": "Python 3",
   "language": "python",
   "name": "python3"
  },
  "language_info": {
   "codemirror_mode": {
    "name": "ipython",
    "version": 3
   },
   "file_extension": ".py",
   "mimetype": "text/x-python",
   "name": "python",
   "nbconvert_exporter": "python",
   "pygments_lexer": "ipython3",
   "version": "3.6.3"
  }
 },
 "nbformat": 4,
 "nbformat_minor": 2
}
