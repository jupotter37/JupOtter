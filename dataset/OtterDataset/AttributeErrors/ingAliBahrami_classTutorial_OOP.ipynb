{
  "nbformat": 4,
  "nbformat_minor": 0,
  "metadata": {
    "colab": {
      "provenance": [],
      "gpuType": "T4",
      "authorship_tag": "ABX9TyNGQADPyDfeaRgSlJoJ1knC",
      "include_colab_link": true
    },
    "kernelspec": {
      "name": "python3",
      "display_name": "Python 3"
    },
    "language_info": {
      "name": "python"
    }
  },
  "cells": [
    {
      "cell_type": "markdown",
      "metadata": {
        "id": "view-in-github",
        "colab_type": "text"
      },
      "source": [
        "<a href=\"https://colab.research.google.com/github/ingAliBahrami/classTutorial/blob/main/OOP.ipynb\" target=\"_parent\"><img src=\"https://colab.research.google.com/assets/colab-badge.svg\" alt=\"Open In Colab\"/></a>"
      ]
    },
    {
      "cell_type": "code",
      "source": [
        "import numpy as np\n",
        "r= np.random.randn()\n",
        "r\n",
        "if r > 0:\n",
        "  outcome =  'positive'\n",
        "else:\n",
        "  outcome = 'negetive'\n",
        "\n",
        "print(f'the number is' + ' ' + outcome)\n"
      ],
      "metadata": {
        "colab": {
          "base_uri": "https://localhost:8080/"
        },
        "id": "fLqlajFvvBhQ",
        "outputId": "8796500b-3283-4a08-ad28-c4fd4b25b34a"
      },
      "execution_count": null,
      "outputs": [
        {
          "output_type": "stream",
          "name": "stdout",
          "text": [
            "the number is negetive\n"
          ]
        }
      ]
    },
    {
      "cell_type": "code",
      "source": [
        "caketype = 'carrot'\n",
        "if caketype == 'carrot':\n",
        "  print('total yam!')\n",
        "elif caketype == 'chocolate':\n",
        "  print('yammy as well!')\n",
        "elif caketype == 'friutcake':\n",
        "  print('is this thing good for me?')\n",
        "else:\n",
        "  print(\"ok, i'll try it.\")\n",
        "\n"
      ],
      "metadata": {
        "colab": {
          "base_uri": "https://localhost:8080/"
        },
        "id": "aZrvjqh4-172",
        "outputId": "264c4ce7-231b-4a6c-9a84-84533ff611a8"
      },
      "execution_count": null,
      "outputs": [
        {
          "output_type": "stream",
          "name": "stdout",
          "text": [
            "total yam!\n"
          ]
        }
      ]
    },
    {
      "cell_type": "code",
      "source": [
        "if 1<3 and 4==4:\n",
        "  print('both conditionals are true')\n",
        "else :\n",
        "  print('at least one conditional is false')"
      ],
      "metadata": {
        "colab": {
          "base_uri": "https://localhost:8080/"
        },
        "id": "wbIINjoyDsD7",
        "outputId": "8208c0f6-9062-411e-b15d-7ca450312c1a"
      },
      "execution_count": null,
      "outputs": [
        {
          "output_type": "stream",
          "name": "stdout",
          "text": [
            "both conditionals are true\n"
          ]
        }
      ]
    },
    {
      "cell_type": "code",
      "source": [
        "import numpy as np\n",
        "def dotproduct(a,b):\n",
        "  # check both vectors are numpy arrays\n",
        "if not (isinstance(a,np.ndarray) and isinstance(b,np.ndarray)):\n",
        "   raise Exception('input must be numpy arrays')\n",
        "  # check both vrctors have same lenght\n",
        "  if not len(a) == len(b):\n",
        "   raise Exception('inputs must be the same lenght')\n",
        "  return sum(a*b)\n",
        "\n",
        "  #return the dot product\n",
        "\n",
        "a = np.array([1,2,3,4])\n",
        "b = np.array([-1,12,3,-4])\n",
        "# np.dot(a,b) # or sum(a*b)\n",
        "dotproduct(a,b)"
      ],
      "metadata": {
        "colab": {
          "base_uri": "https://localhost:8080/"
        },
        "id": "WEROccvd1J5I",
        "outputId": "fca9726a-6f3d-4a43-e839-04f013ddb338"
      },
      "execution_count": null,
      "outputs": [
        {
          "output_type": "execute_result",
          "data": {
            "text/plain": [
              "16"
            ]
          },
          "metadata": {},
          "execution_count": 30
        }
      ]
    },
    {
      "cell_type": "code",
      "source": [
        "import numpy as np\n",
        "numbers = np.linspace(3,17.1,25)\n",
        "\n",
        "for i in range(len(numbers)):\n",
        "  x = numbers[i]\n",
        "  print('iteration'+ ' ' + str(i)+' ' + 'has a value of'+ ' '  + str(x))"
      ],
      "metadata": {
        "colab": {
          "base_uri": "https://localhost:8080/"
        },
        "id": "dQPUKbH8CxAW",
        "outputId": "f3a99871-9bd8-4c44-e344-3d24ca538e36"
      },
      "execution_count": null,
      "outputs": [
        {
          "output_type": "stream",
          "name": "stdout",
          "text": [
            "iteration 0 has a value of 3.0\n",
            "iteration 1 has a value of 3.5875\n",
            "iteration 2 has a value of 4.175\n",
            "iteration 3 has a value of 4.7625\n",
            "iteration 4 has a value of 5.35\n",
            "iteration 5 has a value of 5.9375\n",
            "iteration 6 has a value of 6.525\n",
            "iteration 7 has a value of 7.1125\n",
            "iteration 8 has a value of 7.7\n",
            "iteration 9 has a value of 8.287500000000001\n",
            "iteration 10 has a value of 8.875\n",
            "iteration 11 has a value of 9.4625\n",
            "iteration 12 has a value of 10.05\n",
            "iteration 13 has a value of 10.6375\n",
            "iteration 14 has a value of 11.225\n",
            "iteration 15 has a value of 11.8125\n",
            "iteration 16 has a value of 12.4\n",
            "iteration 17 has a value of 12.9875\n",
            "iteration 18 has a value of 13.575000000000001\n",
            "iteration 19 has a value of 14.1625\n",
            "iteration 20 has a value of 14.75\n",
            "iteration 21 has a value of 15.3375\n",
            "iteration 22 has a value of 15.925\n",
            "iteration 23 has a value of 16.512500000000003\n",
            "iteration 24 has a value of 17.1\n"
          ]
        }
      ]
    },
    {
      "cell_type": "code",
      "source": [
        "for n in range(18):\n",
        "  if n%2 == 0:\n",
        "    print(str(n) +' '+ 'an even number')\n",
        "  else:\n",
        "    print(str(n) +' '+ 'an odd number')\n",
        "\n",
        "  print('done testing')\n",
        "\n"
      ],
      "metadata": {
        "colab": {
          "base_uri": "https://localhost:8080/"
        },
        "id": "O0TomAIyv2QW",
        "outputId": "b3b68af1-3245-488b-e1ae-3b487e9d5f71"
      },
      "execution_count": null,
      "outputs": [
        {
          "output_type": "stream",
          "name": "stdout",
          "text": [
            "0 an even number\n",
            "done testing\n",
            "1 an odd number\n",
            "done testing\n",
            "2 an even number\n",
            "done testing\n",
            "3 an odd number\n",
            "done testing\n",
            "4 an even number\n",
            "done testing\n",
            "5 an odd number\n",
            "done testing\n",
            "6 an even number\n",
            "done testing\n",
            "7 an odd number\n",
            "done testing\n",
            "8 an even number\n",
            "done testing\n",
            "9 an odd number\n",
            "done testing\n",
            "10 an even number\n",
            "done testing\n",
            "11 an odd number\n",
            "done testing\n",
            "12 an even number\n",
            "done testing\n",
            "13 an odd number\n",
            "done testing\n",
            "14 an even number\n",
            "done testing\n",
            "15 an odd number\n",
            "done testing\n",
            "16 an even number\n",
            "done testing\n",
            "17 an odd number\n",
            "done testing\n"
          ]
        }
      ]
    },
    {
      "cell_type": "code",
      "source": [
        "def fibseq(N):\n",
        "  v = [0,1]\n",
        "  for i in range(N):\n",
        "    v.append(sum(v[-2:]))\n",
        "  print(v)\n",
        "\n",
        "fibseq(7)\n"
      ],
      "metadata": {
        "colab": {
          "base_uri": "https://localhost:8080/"
        },
        "id": "QtVVXvdb2I5R",
        "outputId": "6625ca25-489a-43e3-a7fa-c7998a5e8fbe"
      },
      "execution_count": null,
      "outputs": [
        {
          "output_type": "stream",
          "name": "stdout",
          "text": [
            "[0, 1, 1, 2, 3, 5, 8, 13, 21]\n"
          ]
        }
      ]
    },
    {
      "cell_type": "code",
      "source": [
        "import numpy as np\n",
        "ns = np.linspace(-5,5,7)\n",
        "for i,n in enumerate(ns):\n",
        "  print('index' + ' ' + str(i) + ' ' + 'has a value of' + ' ' +str(ns[i]))"
      ],
      "metadata": {
        "colab": {
          "base_uri": "https://localhost:8080/"
        },
        "id": "G5gVA00ZJen_",
        "outputId": "c8a4d4c7-7429-432c-f60b-dfbcd39df40a"
      },
      "execution_count": null,
      "outputs": [
        {
          "output_type": "stream",
          "name": "stdout",
          "text": [
            "index 0 has a value of -5.0\n",
            "index 1 has a value of -3.333333333333333\n",
            "index 2 has a value of -1.6666666666666665\n",
            "index 3 has a value of 0.0\n",
            "index 4 has a value of 1.666666666666667\n",
            "index 5 has a value of 3.333333333333334\n",
            "index 6 has a value of 5.0\n"
          ]
        }
      ]
    },
    {
      "cell_type": "code",
      "source": [
        "text = 'Hello my name is Ali '\n",
        "vowels = np.zeros (len(text))\n",
        "for i,l in enumerate(text):\n",
        "  print(i,l)"
      ],
      "metadata": {
        "colab": {
          "base_uri": "https://localhost:8080/"
        },
        "id": "BoAoe_UzNKTr",
        "outputId": "57ac5919-0b97-48c8-fbfd-dd56b553bd1a"
      },
      "execution_count": null,
      "outputs": [
        {
          "output_type": "stream",
          "name": "stdout",
          "text": [
            "0 H\n",
            "1 e\n",
            "2 l\n",
            "3 l\n",
            "4 o\n",
            "5  \n",
            "6 m\n",
            "7 y\n",
            "8  \n",
            "9 n\n",
            "10 a\n",
            "11 m\n",
            "12 e\n",
            "13  \n",
            "14 i\n",
            "15 s\n",
            "16  \n",
            "17 A\n",
            "18 l\n",
            "19 i\n",
            "20  \n"
          ]
        }
      ]
    },
    {
      "cell_type": "code",
      "source": [
        "lista = [3,4,5,6,3,-17]\n",
        "listb = ['q','w','e','r','t','y']\n",
        "for i in range (len(lista)):\n",
        "  print(str(lista[i]) + ' ' + listb[i])"
      ],
      "metadata": {
        "colab": {
          "base_uri": "https://localhost:8080/"
        },
        "id": "r_55pOYuPE-v",
        "outputId": "0c193ff3-6280-4267-9211-a99b037a2958"
      },
      "execution_count": null,
      "outputs": [
        {
          "output_type": "stream",
          "name": "stdout",
          "text": [
            "3 q\n",
            "4 w\n",
            "5 e\n",
            "6 r\n",
            "3 t\n",
            "-17 y\n"
          ]
        }
      ]
    },
    {
      "cell_type": "code",
      "source": [
        "lista = [3,4,5,6,]\n",
        "listb = ['q','w','e','r','t','y']\n",
        "for a,b in zip(lista, listb):\n",
        "  print (str(a)+ ' ' + str(b))"
      ],
      "metadata": {
        "colab": {
          "base_uri": "https://localhost:8080/"
        },
        "id": "drThSFCHRJcp",
        "outputId": "c710ff4b-e9fc-4e63-c6bc-94219b971463"
      },
      "execution_count": null,
      "outputs": [
        {
          "output_type": "stream",
          "name": "stdout",
          "text": [
            "3 q\n",
            "4 w\n",
            "5 e\n",
            "6 r\n"
          ]
        }
      ]
    },
    {
      "cell_type": "code",
      "source": [
        "names = ['a','b','c','d']\n",
        "values = [10,20,30,40]\n",
        "D = dict(zip(names, values))\n",
        "D\n"
      ],
      "metadata": {
        "colab": {
          "base_uri": "https://localhost:8080/"
        },
        "id": "UxQhuMHSSAi8",
        "outputId": "22984388-7229-4a0d-be16-eb559051e5af"
      },
      "execution_count": null,
      "outputs": [
        {
          "output_type": "execute_result",
          "data": {
            "text/plain": [
              "{'a': 10, 'b': 20, 'c': 30, 'd': 40}"
            ]
          },
          "metadata": {},
          "execution_count": 33
        }
      ]
    },
    {
      "cell_type": "code",
      "source": [
        "for i in range(10):\n",
        "  if i%2 == 0:\n",
        "    continue    # means skip it or ignor it and do the vise versa\n",
        "  print(i)\n",
        "\n",
        "\n"
      ],
      "metadata": {
        "colab": {
          "base_uri": "https://localhost:8080/"
        },
        "id": "P3JMXfDYT2Fp",
        "outputId": "3dd2bf66-4bef-4d6d-99f2-a91cbe3edca5"
      },
      "execution_count": null,
      "outputs": [
        {
          "output_type": "stream",
          "name": "stdout",
          "text": [
            "1\n",
            "3\n",
            "5\n",
            "7\n",
            "9\n"
          ]
        }
      ]
    },
    {
      "cell_type": "code",
      "source": [
        "text = 'Hello my name is Mike'\n",
        "for i in text:\n",
        "  if i in 'aeiou':  # being lowe case and capital letter is essential here\n",
        "    continue\n",
        "  print(i)"
      ],
      "metadata": {
        "colab": {
          "base_uri": "https://localhost:8080/"
        },
        "id": "FYytziX9b8fo",
        "outputId": "ae4b53bd-f074-49c4-9686-bf0af6a217bc"
      },
      "execution_count": null,
      "outputs": [
        {
          "output_type": "stream",
          "name": "stdout",
          "text": [
            "H\n",
            "l\n",
            "l\n",
            " \n",
            "m\n",
            "y\n",
            " \n",
            "n\n",
            "m\n",
            " \n",
            "s\n",
            " \n",
            "M\n",
            "k\n"
          ]
        }
      ]
    },
    {
      "cell_type": "code",
      "source": [
        "# r = np.zeros(10)\n",
        "r = np.full(10,0)\n",
        "r"
      ],
      "metadata": {
        "colab": {
          "base_uri": "https://localhost:8080/",
          "height": 200
        },
        "id": "wF8JvQ6cf-vh",
        "outputId": "06bbf215-f714-4900-8a2c-019dabd89339"
      },
      "execution_count": null,
      "outputs": [
        {
          "output_type": "error",
          "ename": "NameError",
          "evalue": "ignored",
          "traceback": [
            "\u001b[0;31m---------------------------------------------------------------------------\u001b[0m",
            "\u001b[0;31mNameError\u001b[0m                                 Traceback (most recent call last)",
            "\u001b[0;32m<ipython-input-1-bce8cd34d66b>\u001b[0m in \u001b[0;36m<cell line: 2>\u001b[0;34m()\u001b[0m\n\u001b[1;32m      1\u001b[0m \u001b[0;31m# r = np.zeros(10)\u001b[0m\u001b[0;34m\u001b[0m\u001b[0;34m\u001b[0m\u001b[0m\n\u001b[0;32m----> 2\u001b[0;31m \u001b[0mr\u001b[0m \u001b[0;34m=\u001b[0m \u001b[0mnp\u001b[0m\u001b[0;34m.\u001b[0m\u001b[0mfull\u001b[0m\u001b[0;34m(\u001b[0m\u001b[0;36m10\u001b[0m\u001b[0;34m,\u001b[0m\u001b[0;36m0\u001b[0m\u001b[0;34m)\u001b[0m\u001b[0;34m\u001b[0m\u001b[0;34m\u001b[0m\u001b[0m\n\u001b[0m\u001b[1;32m      3\u001b[0m \u001b[0mr\u001b[0m\u001b[0;34m\u001b[0m\u001b[0;34m\u001b[0m\u001b[0m\n",
            "\u001b[0;31mNameError\u001b[0m: name 'np' is not defined"
          ]
        }
      ]
    },
    {
      "cell_type": "code",
      "source": [
        "import numpy as np\n",
        "shape = (4,5)\n",
        "r = np.zeros(shape)\n",
        "r"
      ],
      "metadata": {
        "colab": {
          "base_uri": "https://localhost:8080/"
        },
        "id": "JFZ2psygjlIN",
        "outputId": "218cc612-8cd0-47b0-ad2d-5ad4bed670c9"
      },
      "execution_count": null,
      "outputs": [
        {
          "output_type": "execute_result",
          "data": {
            "text/plain": [
              "array([[0., 0., 0., 0., 0.],\n",
              "       [0., 0., 0., 0., 0.],\n",
              "       [0., 0., 0., 0., 0.],\n",
              "       [0., 0., 0., 0., 0.]])"
            ]
          },
          "metadata": {},
          "execution_count": 2
        }
      ]
    },
    {
      "cell_type": "code",
      "source": [
        "# exercise :to compare tree methods of creating an array\n",
        "# N = 10000\n",
        "# r[i] = i**2\n",
        "# time test\n",
        "import time\n",
        "import numpy as np\n",
        "time.perf_counter()\n",
        "N = 10000\n",
        "toc = [0]*3\n",
        "# list append\n",
        "tic = time.perf_counter()\n",
        "r = []\n",
        "for i in range(N):\n",
        "  r.append( i**2)\n",
        "toc[0] = (time.perf_counter() - tic)*1000 # to convert it to mili second\n",
        "\n",
        "\n",
        "\n",
        "# numpy append\n",
        "tic = time.perf_counter()\n",
        "r = np.array([])\n",
        "for i in range(N):\n",
        "  np.append(r, i**2)\n",
        "toc[1] = (time.perf_counter() - tic)*1000\n",
        "\n",
        "\n",
        "# numpy initialization\n",
        "tic = time.perf_counter()\n",
        "r = np.zeros(N)\n",
        "for i in range(N):\n",
        "  r[i] = i**2\n",
        "toc[2] = (time.perf_counter() - tic)*1000\n",
        "toc\n",
        "\n",
        "\n",
        "\n",
        "\n"
      ],
      "metadata": {
        "colab": {
          "base_uri": "https://localhost:8080/"
        },
        "id": "gk7upNNIlj1V",
        "outputId": "5ec67d38-3b3e-4f0c-9fa8-b466f0a8cd3c"
      },
      "execution_count": null,
      "outputs": [
        {
          "output_type": "execute_result",
          "data": {
            "text/plain": [
              "[5.181577999792353, 43.77786099985315, 4.461446000277647]"
            ]
          },
          "metadata": {},
          "execution_count": 28
        }
      ]
    },
    {
      "cell_type": "code",
      "source": [
        "import random\n",
        "r = random.randint(1,10)\n",
        "print('r is large') if r>5 else print('r is small')"
      ],
      "metadata": {
        "id": "y7X_gtbXsrhM",
        "colab": {
          "base_uri": "https://localhost:8080/"
        },
        "outputId": "70b06035-2094-493e-ae2c-31a42f7ccbc0"
      },
      "execution_count": null,
      "outputs": [
        {
          "output_type": "stream",
          "name": "stdout",
          "text": [
            "r is large\n"
          ]
        }
      ]
    },
    {
      "cell_type": "code",
      "source": [
        "for i in range(10):\n",
        "  print(i**2)"
      ],
      "metadata": {
        "colab": {
          "base_uri": "https://localhost:8080/"
        },
        "id": "KPj7__C7eyyU",
        "outputId": "14953ad0-71e7-4f00-dbcc-195215db1b1d"
      },
      "execution_count": null,
      "outputs": [
        {
          "output_type": "stream",
          "name": "stdout",
          "text": [
            "0\n",
            "1\n",
            "4\n",
            "9\n",
            "16\n",
            "25\n",
            "36\n",
            "49\n",
            "64\n",
            "81\n"
          ]
        }
      ]
    },
    {
      "cell_type": "code",
      "source": [
        "lst = [i**2 for i in range(10) if i>=5]\n",
        "lst"
      ],
      "metadata": {
        "colab": {
          "base_uri": "https://localhost:8080/"
        },
        "id": "nrphcNUAf1SE",
        "outputId": "a0c3791b-74ca-4fba-dff8-241cc0513db8"
      },
      "execution_count": null,
      "outputs": [
        {
          "output_type": "execute_result",
          "data": {
            "text/plain": [
              "[25, 36, 49, 64, 81]"
            ]
          },
          "metadata": {},
          "execution_count": 19
        }
      ]
    },
    {
      "cell_type": "code",
      "source": [
        "# exercise: convert the follwing loops into a single-line loop\n",
        "text = ['promissing', 'yves', 'that', 'home', 'one', 'nob']\n",
        "# for word in text:\n",
        " # print(word[0])\n",
        "\n",
        "[print(word[0]) for word in text];"
      ],
      "metadata": {
        "colab": {
          "base_uri": "https://localhost:8080/"
        },
        "id": "klcBxhSQroDI",
        "outputId": "bfabb4d5-0f0e-474e-a842-6616b5263e7a"
      },
      "execution_count": null,
      "outputs": [
        {
          "output_type": "stream",
          "name": "stdout",
          "text": [
            "p\n",
            "y\n",
            "t\n",
            "h\n",
            "o\n",
            "n\n"
          ]
        }
      ]
    },
    {
      "cell_type": "code",
      "source": [
        "newlist = ['']*10\n",
        "#for i in range(10):\n",
        "  #if 1 % 2 == 1:\n",
        "    #newlist[i] = 'odd'\n",
        "  #else:\n",
        "    #newlist[i] = i\n",
        "\n",
        "#newlist\n",
        "n1 = ['odd' if 1%2==1 else i for i in range(10,0)]\n",
        "n1"
      ],
      "metadata": {
        "colab": {
          "base_uri": "https://localhost:8080/"
        },
        "id": "kMqYUbZ9_QDA",
        "outputId": "59ebff4c-0369-4f2d-c6df-65c2c74b4206"
      },
      "execution_count": null,
      "outputs": [
        {
          "output_type": "execute_result",
          "data": {
            "text/plain": [
              "[]"
            ]
          },
          "metadata": {},
          "execution_count": 1
        }
      ]
    },
    {
      "cell_type": "code",
      "source": [
        "import numpy as np\n",
        "# repeat without using numpy\n",
        "x1 = np.linspace(-3,3,11)\n",
        "y1 = x1**2\n",
        "x2 = [i/(5/3) for i in range(-5,3)]\n",
        "y2 = [i**2 for i in x2]\n",
        "print(x1)\n",
        "print(y1)\n",
        "print('')\n",
        "print('')\n",
        "print(x2)\n",
        "print(y2)\n"
      ],
      "metadata": {
        "colab": {
          "base_uri": "https://localhost:8080/"
        },
        "id": "qV3bmuSzA4mU",
        "outputId": "1477341e-f1c2-45f3-c738-94ecdc5f3c37"
      },
      "execution_count": null,
      "outputs": [
        {
          "output_type": "stream",
          "name": "stdout",
          "text": [
            "[-3.  -2.4 -1.8 -1.2 -0.6  0.   0.6  1.2  1.8  2.4  3. ]\n",
            "[9.   5.76 3.24 1.44 0.36 0.   0.36 1.44 3.24 5.76 9.  ]\n",
            "\n",
            "\n",
            "[-3.0, -2.4, -1.7999999999999998, -1.2, -0.6, 0.0, 0.6, 1.2]\n",
            "[9.0, 5.76, 3.2399999999999993, 1.44, 0.36, 0.0, 0.36, 1.44]\n"
          ]
        }
      ]
    },
    {
      "cell_type": "code",
      "source": [
        "i = 0\n",
        "while True:\n",
        "  print(i)\n",
        "  i += 1\n",
        "  if i==8:\n",
        "    break\n",
        "\n",
        "#i = 0\n",
        "#while i<8:\n",
        " # print(i)\n",
        "  #i += 1\n"
      ],
      "metadata": {
        "colab": {
          "base_uri": "https://localhost:8080/"
        },
        "id": "lXbBaAVBcLZP",
        "outputId": "0040134a-15e5-48da-8238-d6ca21a51921"
      },
      "execution_count": null,
      "outputs": [
        {
          "output_type": "stream",
          "name": "stdout",
          "text": [
            "0\n",
            "1\n",
            "2\n",
            "3\n",
            "4\n",
            "5\n",
            "6\n",
            "7\n"
          ]
        }
      ]
    },
    {
      "cell_type": "code",
      "source": [
        "# exercise: poisson counter\n",
        "# 1) specify a target np.exp(-lambda -> 10)\n",
        "# 2) initialize a counter=0, currval == 1\n",
        "# 3) multipy the currval by a random number u[0,1]\n",
        "# 4) repeat step 3 until currval < target\n",
        "# 5) return the number of times that you go through step 4"
      ],
      "metadata": {
        "id": "2pT8uMTXtao0"
      },
      "execution_count": null,
      "outputs": []
    },
    {
      "cell_type": "code",
      "source": [
        "import numpy as np\n",
        "x=np.array([[1,2,3],\n",
        "            [2,3,4],\n",
        "            [3,4,5],\n",
        "            [4,5,6]])\n",
        "\n",
        "w=np.array([10,20,30])\n",
        "print(x), print(''), print(w);\n",
        "\n",
        "for i in range(x.shape[0]):\n",
        "   x[i,:] += w\n",
        "x"
      ],
      "metadata": {
        "colab": {
          "base_uri": "https://localhost:8080/"
        },
        "id": "ewPIcjtcDKsl",
        "outputId": "fe08d56b-5759-484b-bf49-a5cf93e08800"
      },
      "execution_count": null,
      "outputs": [
        {
          "output_type": "stream",
          "name": "stdout",
          "text": [
            "[[1 2 3]\n",
            " [2 3 4]\n",
            " [3 4 5]\n",
            " [4 5 6]]\n",
            "\n",
            "[10 20 30]\n"
          ]
        },
        {
          "output_type": "execute_result",
          "data": {
            "text/plain": [
              "array([[11, 22, 33],\n",
              "       [12, 23, 34],\n",
              "       [13, 24, 35],\n",
              "       [14, 25, 36]])"
            ]
          },
          "metadata": {},
          "execution_count": 43
        }
      ]
    },
    {
      "cell_type": "code",
      "source": [
        "fimport numpy as np\n",
        "v = np.array([-1,0,1,0],ndmin=2).T\n",
        "print(x), print('')\n",
        "x*v"
      ],
      "metadata": {
        "colab": {
          "base_uri": "https://localhost:8080/",
          "height": 130
        },
        "id": "2pJ5xlAAOXrF",
        "outputId": "a0ad604a-8ac6-4f1f-b7f4-4929cd83df32"
      },
      "execution_count": null,
      "outputs": [
        {
          "output_type": "error",
          "ename": "SyntaxError",
          "evalue": "ignored",
          "traceback": [
            "\u001b[0;36m  File \u001b[0;32m\"<ipython-input-1-c2397cf863c5>\"\u001b[0;36m, line \u001b[0;32m1\u001b[0m\n\u001b[0;31m    fimport numpy as np\u001b[0m\n\u001b[0m            ^\u001b[0m\n\u001b[0;31mSyntaxError\u001b[0m\u001b[0;31m:\u001b[0m invalid syntax\n"
          ]
        }
      ]
    },
    {
      "cell_type": "code",
      "source": [
        "class Shomaresh:\n",
        "  def __init__(self, v: int, i: int ) -> None:\n",
        "    self.val = v\n",
        "    self.incr = i\n",
        "\n",
        "  def afzayesh(self) -> None:\n",
        "    self.val += self.incr\n",
        "  def __repr__(self) -> str:\n",
        "    return str(self.val)\n",
        "\n",
        "\n",
        "\n",
        "\n",
        "\n"
      ],
      "metadata": {
        "id": "KMrD1C5KPYnS"
      },
      "execution_count": null,
      "outputs": []
    },
    {
      "cell_type": "code",
      "source": [
        "from re import X\n",
        "class Point:\n",
        "  \"\"\"\"nemayeshe yek noghte dar 2d.\"\"\"\n",
        "noghte1 = Point()\n",
        "noghte1.x = 10.0\n",
        "noghte1.y = 20.0\n",
        "x = noghte1.x\n",
        "y = noghte1.y\n",
        "'(%g, %g)' %(noghte1.x, noghte1.y)\n",
        "import math\n",
        "fasele = math.sqrt(noghte1.x**2 + noghte1.y**2)\n",
        "fasele"
      ],
      "metadata": {
        "colab": {
          "base_uri": "https://localhost:8080/"
        },
        "id": "zxHXdz6oyILb",
        "outputId": "818c97fd-76e6-4dec-d5ef-fa7241479665"
      },
      "execution_count": null,
      "outputs": [
        {
          "output_type": "execute_result",
          "data": {
            "text/plain": [
              "22.360679774997898"
            ]
          },
          "metadata": {},
          "execution_count": 20
        }
      ]
    },
    {
      "cell_type": "code",
      "source": [
        "def f():\n",
        "  print('ali')\n",
        "f()\n",
        "def g():\n",
        "  return 'ali'\n",
        "g()\n",
        "def h(p):\n",
        "  print(p)\n",
        "h('ali')"
      ],
      "metadata": {
        "colab": {
          "base_uri": "https://localhost:8080/"
        },
        "id": "VtEczmLC7lUa",
        "outputId": "80bcf2e2-f9c7-4910-df44-dfb2fa7cb0f5"
      },
      "execution_count": null,
      "outputs": [
        {
          "output_type": "stream",
          "name": "stdout",
          "text": [
            "ali\n",
            "ali\n"
          ]
        }
      ]
    },
    {
      "cell_type": "code",
      "source": [
        "def fact(n):\n",
        "  if n == 1:\n",
        "    return 1\n",
        "  else:\n",
        "    return n * fact(n-1)\n",
        "\n",
        "fact(5)\n"
      ],
      "metadata": {
        "colab": {
          "base_uri": "https://localhost:8080/"
        },
        "id": "JWovcWQGzHW0",
        "outputId": "eb676d5a-4ece-4305-bdcd-aed26efcbfaf"
      },
      "execution_count": null,
      "outputs": [
        {
          "output_type": "execute_result",
          "data": {
            "text/plain": [
              "120"
            ]
          },
          "metadata": {},
          "execution_count": 10
        }
      ]
    },
    {
      "cell_type": "code",
      "source": [
        "class Test:\n",
        "  ''' class for add & mul'''\n",
        "  def __init__(self, a, b):\n",
        "    self.a = a\n",
        "    self.b = b\n",
        "\n",
        "  def add(self):\n",
        "    return self.a + self.b\n",
        "\n",
        "  def mul(self):\n",
        "    return self.a * self.b\n",
        "\n",
        "ob1 = Test(2, 3)\n",
        "\n",
        "print(ob1.a)\n",
        "print(ob1.b)\n",
        "print(ob1.add())\n",
        "print(ob1.mul())\n",
        "print(ob1.__dict__)\n",
        "print(ob1.__doc__)\n",
        "\n",
        "ob2 = Test(6, 1)\n",
        "x = ob2.add()\n",
        "print(x)\n",
        "print(ob2.a)\n",
        "print(ob2.b)\n",
        "print(ob2.add())\n",
        "print(ob2.mul())\n",
        "print(ob2.__dict__)\n",
        "print(ob2.__doc__)\n",
        "\n",
        "class Test:\n",
        "  ''' class for add & mul'''\n",
        "  def set_var(self, a, b):\n",
        "    self.a = a\n",
        "    self.b = b\n",
        "\n",
        "  def add(self):\n",
        "    return self.a + self.b\n",
        "\n",
        "  def mul(self):\n",
        "    return self.a * self.b\n",
        "\n",
        "ob1 = Test()\n",
        "ob1.set_var(2,3)\n",
        "print(ob1.a)\n",
        "print(ob1.b)\n",
        "print(ob1.add())\n",
        "print(ob1.mul())\n"
      ],
      "metadata": {
        "colab": {
          "base_uri": "https://localhost:8080/"
        },
        "id": "1yuN9Np_4TjE",
        "outputId": "1ae25b59-4ad8-4dc5-b97f-0f9f41a73b1e"
      },
      "execution_count": null,
      "outputs": [
        {
          "output_type": "stream",
          "name": "stdout",
          "text": [
            "2\n",
            "3\n",
            "5\n",
            "6\n",
            "{'a': 2, 'b': 3}\n",
            " class for add & mul\n",
            "7\n",
            "6\n",
            "1\n",
            "7\n",
            "6\n",
            "{'a': 6, 'b': 1}\n",
            " class for add & mul\n",
            "2\n",
            "3\n",
            "5\n",
            "6\n"
          ]
        }
      ]
    },
    {
      "cell_type": "code",
      "source": [
        "import traitlets\n",
        "class Book:\n",
        "  def __init__(self, author, title):\n",
        "    self.author = author\n",
        "    self.title = title\n",
        "\n",
        "  def info(self):\n",
        "    print(self.title, ':' + self.author)\n",
        "\n",
        "x = Book('shirafkan', 'c++')\n",
        "x.info()\n"
      ],
      "metadata": {
        "id": "n42LVboc5zxn"
      },
      "execution_count": null,
      "outputs": []
    },
    {
      "cell_type": "code",
      "source": [
        "class Student:\n",
        "  def __init__(self, name, score = None):\n",
        "    self.d = {}\n",
        "    self.d['name'] = name\n",
        "    self.d['score'] = score\n",
        "\n",
        "  def get_Stu(self):\n",
        "    return self.d\n",
        "\n",
        "lst = []\n",
        "ob1 = Student('mahsa', 20)\n",
        "ob2 = Student ('ali', 17)\n",
        "lst.append(ob1.get_Stu())\n",
        "lst.append(ob2.get_Stu())\n",
        "print(lst)\n",
        "print(lst[0])\n",
        "print(lst[1])"
      ],
      "metadata": {
        "colab": {
          "base_uri": "https://localhost:8080/"
        },
        "id": "nf5EjlmS8y24",
        "outputId": "b07807e0-bf11-47e2-e22e-ed4cbc7cdc69"
      },
      "execution_count": null,
      "outputs": [
        {
          "output_type": "stream",
          "name": "stdout",
          "text": [
            "[{'name': 'mahsa', 'score': 20}, {'name': 'ali', 'score': 17}]\n",
            "{'name': 'mahsa', 'score': 20}\n",
            "{'name': 'ali', 'score': 17}\n"
          ]
        }
      ]
    },
    {
      "cell_type": "code",
      "source": [
        "class Circle:\n",
        "  def __init__(self, r):\n",
        "    self.r = r\n",
        "\n",
        "  def area(self):\n",
        "    return self.r ** 2 * 3.14\n",
        "\n",
        "x= Circle(8)\n",
        "print(x.area())\n",
        "print(isinstance(x, Circle))\n"
      ],
      "metadata": {
        "colab": {
          "base_uri": "https://localhost:8080/"
        },
        "id": "59P45yzgWyav",
        "outputId": "9bc0370f-1b45-4a1a-9a2a-dbd75b7507eb"
      },
      "execution_count": null,
      "outputs": [
        {
          "output_type": "stream",
          "name": "stdout",
          "text": [
            "200.96\n",
            "True\n"
          ]
        }
      ]
    },
    {
      "cell_type": "code",
      "source": [
        "class Counter:\n",
        "  def __init__(self, x):\n",
        "    self.x = x\n",
        "\n",
        "  def up(self):\n",
        "    self.x += 1\n",
        "\n",
        "  def down(self):\n",
        "    self.x -= 1\n",
        "\n",
        "ob = Counter(4)\n",
        "print(ob.x)\n",
        "ob.up()\n",
        "ob.up()\n",
        "print(ob.x)\n",
        "ob.down()\n",
        "print(ob.x)\n",
        "\n",
        "\n"
      ],
      "metadata": {
        "colab": {
          "base_uri": "https://localhost:8080/"
        },
        "id": "E8epLB2jkUa4",
        "outputId": "53089753-b948-4553-d97d-b21c59d6eca1"
      },
      "execution_count": null,
      "outputs": [
        {
          "output_type": "stream",
          "name": "stdout",
          "text": [
            "4\n",
            "6\n",
            "5\n"
          ]
        }
      ]
    },
    {
      "cell_type": "markdown",
      "source": [
        "class C():\n",
        "  def __init__(self):\n",
        "    self.s = ''\n",
        "\n",
        "  def get_string(self):\n",
        "    self.s = input('name more nazara ra vared konid:')\n",
        "\n",
        "  def show(self):\n",
        "    print(self.s.upper())\n",
        "\n",
        "ob = C()\n",
        "ob.get_string()\n",
        "ob.show()\n"
      ],
      "metadata": {
        "id": "UVFkEV6YuF28"
      }
    },
    {
      "cell_type": "code",
      "source": [],
      "metadata": {
        "id": "nxjluHxV9jLj"
      },
      "execution_count": null,
      "outputs": []
    },
    {
      "cell_type": "code",
      "source": [
        "class Email:\n",
        "  def f(self):\n",
        "    self.sent = False\n",
        "\n",
        "  def g(self):\n",
        "    self.sent = True\n",
        "\n",
        "ob = Email()\n",
        "ob.g()\n",
        "print(ob.sent)\n"
      ],
      "metadata": {
        "colab": {
          "base_uri": "https://localhost:8080/"
        },
        "id": "5VGq_agiexDV",
        "outputId": "26de91ef-b6fe-464c-a6a7-c4424cf863d1"
      },
      "execution_count": 9,
      "outputs": [
        {
          "output_type": "stream",
          "name": "stdout",
          "text": [
            "True\n"
          ]
        }
      ]
    },
    {
      "cell_type": "code",
      "source": [
        "class Machine:\n",
        "  model = 'peugeot'\n",
        "  def __init__(self, t):\n",
        "    self.t = t\n",
        "\n",
        "m1 = Machine('206')\n",
        "m2 = Machine('207')\n",
        "print(m1.model)\n",
        "print(m2.model)\n",
        "print(m1.t)\n",
        "print(m2.t)\n"
      ],
      "metadata": {
        "colab": {
          "base_uri": "https://localhost:8080/"
        },
        "id": "ezKKY2Gmmi8o",
        "outputId": "55fb0918-61ef-49c1-d4f8-cc135b8058ab"
      },
      "execution_count": 15,
      "outputs": [
        {
          "output_type": "stream",
          "name": "stdout",
          "text": [
            "peugeot\n",
            "peugeot\n",
            "206\n",
            "207\n"
          ]
        }
      ]
    },
    {
      "cell_type": "code",
      "source": [
        "class C:\n",
        "  lst = []\n",
        "  def __init__(self, name):\n",
        "    self.name = name\n",
        "\n",
        "  def f(self, x):\n",
        "    self.lst.append(x)\n",
        "\n",
        "ob1 = C('A')\n",
        "ob2 = C('B')\n",
        "\n",
        "ob1.f(1)\n",
        "ob1.f(2)\n",
        "ob1.f(3)\n",
        "\n",
        "print(ob1.lst)\n",
        "print(ob2.lst)\n",
        "\n",
        "ob2.f(4)\n",
        "print(ob2.lst)"
      ],
      "metadata": {
        "colab": {
          "base_uri": "https://localhost:8080/"
        },
        "id": "MPYD0VLrpIg2",
        "outputId": "b60ce6b8-a895-46e6-eb45-95986931abda"
      },
      "execution_count": 23,
      "outputs": [
        {
          "output_type": "stream",
          "name": "stdout",
          "text": [
            "[1, 2, 3]\n",
            "[1, 2, 3]\n",
            "[1, 2, 3, 4]\n"
          ]
        }
      ]
    },
    {
      "cell_type": "code",
      "source": [
        "class C:\n",
        "  def __init__(self, name):\n",
        "    self.name = name\n",
        "    self.lst = []\n",
        "\n",
        "  def f(self, x):\n",
        "    self.lst.append(x)\n",
        "\n",
        "ob1 = C('A')\n",
        "ob2 = C('B')\n",
        "\n",
        "ob1.f(1)\n",
        "ob1.f(2)\n",
        "ob1.f(3)\n",
        "\n",
        "print(ob1.lst)\n",
        "print(ob2.lst)\n",
        "\n",
        "ob2.f(4)\n",
        "print(ob2.lst)"
      ],
      "metadata": {
        "colab": {
          "base_uri": "https://localhost:8080/"
        },
        "id": "lfQDEl3xrqC0",
        "outputId": "51d56756-8012-45ad-e58b-b5ded00328cf"
      },
      "execution_count": 25,
      "outputs": [
        {
          "output_type": "stream",
          "name": "stdout",
          "text": [
            "[1, 2, 3]\n",
            "[]\n",
            "[4]\n"
          ]
        }
      ]
    },
    {
      "cell_type": "code",
      "source": [
        "from os import name\n",
        "class Student:\n",
        "  stream = 'cse'  # class variable\n",
        "  def __init__(self, name, score):\n",
        "    self.name = name       #intance variable\n",
        "    self.score = score     #intance variable\n",
        "\n",
        "# objects of Student class\n",
        "s1 = Student('ali', 19)\n",
        "s2 = Student('sara', 18)\n",
        "\n",
        "print(s1.name)\n",
        "print(s2.name)\n",
        "\n",
        "print(s1.stream)\n",
        "print(s2.stream)\n",
        "print(Student.stream)\n",
        "\n",
        "\n",
        "\n"
      ],
      "metadata": {
        "colab": {
          "base_uri": "https://localhost:8080/"
        },
        "id": "cV7sOAoNujLL",
        "outputId": "6cad6874-659e-4124-9e83-56fb97878bf8"
      },
      "execution_count": 33,
      "outputs": [
        {
          "output_type": "stream",
          "name": "stdout",
          "text": [
            "ali\n",
            "sara\n",
            "cse\n",
            "cse\n",
            "cse\n"
          ]
        }
      ]
    },
    {
      "cell_type": "code",
      "source": [
        "class Dog:\n",
        "  animal = 'dog'\n",
        "  def __init__(self, b, c):\n",
        "    self.b = b\n",
        "    self.c = c\n",
        "\n",
        "d1 = Dog('pug', 'brown')\n",
        "d2 = Dog('bulldog', 'black')\n",
        "\n",
        "print(d1.animal)\n",
        "print(d2.animal)\n",
        "\n",
        "print(d1.b)\n",
        "print(d2.b)\n",
        "print(d1.c)\n",
        "print(d2.c)\n"
      ],
      "metadata": {
        "colab": {
          "base_uri": "https://localhost:8080/"
        },
        "id": "9-Gc9upbBvYZ",
        "outputId": "ce66f973-053b-452a-fa99-3e7888b32b38"
      },
      "execution_count": 36,
      "outputs": [
        {
          "output_type": "stream",
          "name": "stdout",
          "text": [
            "dog\n",
            "dog\n",
            "pug\n",
            "bulldog\n",
            "brown\n",
            "black\n"
          ]
        }
      ]
    },
    {
      "cell_type": "code",
      "source": [
        "# Private\n",
        "class Test:\n",
        "  def __init__(self, a, b):\n",
        "    self.a = a    # public\n",
        "    self.__b = b    # private, no access out of class\n",
        "\n",
        "  def f(self):\n",
        "    self.__b = 2     # or += 1 for example\n",
        "    print(self.__b)\n",
        "ob = Test(1, 2)\n",
        "print(ob.a)\n",
        "# print(ob.b)   # error\n",
        "# print(ob.__b)  # attribute error\n",
        "ob.f()\n",
        "print(ob.__dict__)\n",
        "# how we access to private out of class\n",
        "print(ob._Test__b)  # majic method named Mangling\n",
        "# we can modify too\n",
        "ob._Test__b = 8\n",
        "print(ob._Test__b)\n"
      ],
      "metadata": {
        "colab": {
          "base_uri": "https://localhost:8080/"
        },
        "id": "BuHuA2QLJrKz",
        "outputId": "a7334cdb-e8c0-4b87-9704-708d4e53e853"
      },
      "execution_count": 58,
      "outputs": [
        {
          "output_type": "stream",
          "name": "stdout",
          "text": [
            "1\n",
            "2\n",
            "{'a': 1, '_Test__b': 2}\n",
            "2\n",
            "8\n"
          ]
        }
      ]
    },
    {
      "cell_type": "code",
      "source": [
        "# private\n",
        "class S:\n",
        "  def __init__(self, x):\n",
        "    self.__a = x\n",
        "\n",
        "  def f(self):\n",
        "    print(self.__a)\n",
        "    self.__a += 1\n",
        "    return(self.__a)\n",
        "\n",
        "  def g(self, m):\n",
        "    print(m + self.f())\n",
        "\n",
        "ob = S(1)\n",
        "print(ob.__dict__)\n",
        "print(ob.f())\n",
        "ob.g(8)"
      ],
      "metadata": {
        "colab": {
          "base_uri": "https://localhost:8080/"
        },
        "id": "eD14HBY1S34h",
        "outputId": "0e813f04-c754-4861-8da0-fe31da72309e"
      },
      "execution_count": 3,
      "outputs": [
        {
          "output_type": "stream",
          "name": "stdout",
          "text": [
            "{'_S__a': 1}\n",
            "1\n",
            "2\n",
            "2\n",
            "11\n"
          ]
        }
      ]
    },
    {
      "cell_type": "code",
      "source": [
        "class AB:\n",
        "  __x = 3\n",
        "\n",
        "  def show(self):\n",
        "    print(self.__x)\n",
        "\n",
        "ob =  AB()\n",
        "ob.show()\n",
        "print(ob._AB__x)\n"
      ],
      "metadata": {
        "colab": {
          "base_uri": "https://localhost:8080/"
        },
        "id": "JG-lFMGCMopz",
        "outputId": "62968eb7-d8c2-441e-854f-14cef149f4fd"
      },
      "execution_count": 6,
      "outputs": [
        {
          "output_type": "stream",
          "name": "stdout",
          "text": [
            "3\n",
            "3\n"
          ]
        }
      ]
    },
    {
      "cell_type": "code",
      "source": [
        "class ABC:\n",
        "  def __f(self):\n",
        "    print(1)\n",
        "\n",
        "  def g(self):\n",
        "    return(self.__f())\n",
        "\n",
        "ob = ABC()\n",
        "ob.g()\n",
        "# ob.__f(())    # AttributeError: 'ABC' object has no attribute '__f'\n",
        "ob._ABC__f()    # Mangling"
      ],
      "metadata": {
        "colab": {
          "base_uri": "https://localhost:8080/"
        },
        "id": "Y93JhxDFN14q",
        "outputId": "7611308d-ca47-4e37-de1f-285166ffd80e"
      },
      "execution_count": 12,
      "outputs": [
        {
          "output_type": "stream",
          "name": "stdout",
          "text": [
            "1\n",
            "1\n"
          ]
        }
      ]
    }
  ]
}