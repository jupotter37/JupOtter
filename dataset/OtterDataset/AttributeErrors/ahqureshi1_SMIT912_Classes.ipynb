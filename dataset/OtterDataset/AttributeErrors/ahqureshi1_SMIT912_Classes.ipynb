{
 "cells": [
  {
   "cell_type": "code",
   "execution_count": 1,
   "id": "8ed37557-6cad-4868-bef6-ac2fe2ab1bb9",
   "metadata": {},
   "outputs": [
    {
     "data": {
      "text/plain": [
       "['__add__',\n",
       " '__class__',\n",
       " '__class_getitem__',\n",
       " '__contains__',\n",
       " '__delattr__',\n",
       " '__delitem__',\n",
       " '__dir__',\n",
       " '__doc__',\n",
       " '__eq__',\n",
       " '__format__',\n",
       " '__ge__',\n",
       " '__getattribute__',\n",
       " '__getitem__',\n",
       " '__getstate__',\n",
       " '__gt__',\n",
       " '__hash__',\n",
       " '__iadd__',\n",
       " '__imul__',\n",
       " '__init__',\n",
       " '__init_subclass__',\n",
       " '__iter__',\n",
       " '__le__',\n",
       " '__len__',\n",
       " '__lt__',\n",
       " '__mul__',\n",
       " '__ne__',\n",
       " '__new__',\n",
       " '__reduce__',\n",
       " '__reduce_ex__',\n",
       " '__repr__',\n",
       " '__reversed__',\n",
       " '__rmul__',\n",
       " '__setattr__',\n",
       " '__setitem__',\n",
       " '__sizeof__',\n",
       " '__str__',\n",
       " '__subclasshook__',\n",
       " 'append',\n",
       " 'clear',\n",
       " 'copy',\n",
       " 'count',\n",
       " 'extend',\n",
       " 'index',\n",
       " 'insert',\n",
       " 'pop',\n",
       " 'remove',\n",
       " 'reverse',\n",
       " 'sort']"
      ]
     },
     "execution_count": 1,
     "metadata": {},
     "output_type": "execute_result"
    }
   ],
   "source": [
    "list = [\"a\",\"n\"]\n",
    "dir(list)"
   ]
  },
  {
   "cell_type": "code",
   "execution_count": 4,
   "id": "72bc8bc0-bbe2-49b0-a0cc-cd1a0c6dbf4d",
   "metadata": {},
   "outputs": [
    {
     "name": "stdout",
     "output_type": "stream",
     "text": [
      "append\n",
      "clear\n",
      "copy\n",
      "count\n",
      "extend\n",
      "index\n",
      "insert\n",
      "pop\n",
      "remove\n",
      "reverse\n",
      "sort\n"
     ]
    }
   ],
   "source": [
    "for a in dir(list):\n",
    "    if \"__\" not in a:\n",
    "        print(a)"
   ]
  },
  {
   "cell_type": "code",
   "execution_count": 6,
   "id": "87f40934-b59c-4e89-95e0-311794e6f06b",
   "metadata": {},
   "outputs": [
    {
     "name": "stdout",
     "output_type": "stream",
     "text": [
      "['append', 'clear', 'copy', 'count', 'extend', 'index', 'insert', 'pop', 'remove', 'reverse', 'sort']\n"
     ]
    }
   ],
   "source": [
    "a = [x for x in dir(list) if \"__\" not in x]\n",
    "print(a)"
   ]
  },
  {
   "cell_type": "code",
   "execution_count": 9,
   "id": "109d5cd5-8bf8-4d27-a44b-f8255a7e9f32",
   "metadata": {},
   "outputs": [],
   "source": [
    "class automobiles():\n",
    "    def __init__(self, model_year, name, brand, color):\n",
    "        self.model_year = model_year\n",
    "        self.name = name\n",
    "        self.brand = brand\n",
    "        self.color = color\n",
    "\n",
    "    def travel(self, passenger : str) -> None:\n",
    "        print(f\"{passenger} is travelling in {self.name}\")\n",
    "    def carry (self, weight : float, goods : str) -> None:\n",
    "        print(f\"{self.name} is carrying {goods} of weight {weight}\")"
   ]
  },
  {
   "cell_type": "code",
   "execution_count": 10,
   "id": "a11d3db3-d6ed-4450-8015-fc2a6dd1f0ba",
   "metadata": {},
   "outputs": [],
   "source": [
    "car1 = automobiles(2015, \"Suzuki\", \"Bolan\", \"Black\")"
   ]
  },
  {
   "cell_type": "code",
   "execution_count": 11,
   "id": "d21d9e56-c759-4b8c-b10d-5bb9938fe54b",
   "metadata": {},
   "outputs": [
    {
     "name": "stdout",
     "output_type": "stream",
     "text": [
      "Suzuki\n"
     ]
    }
   ],
   "source": [
    "print(car1.name)"
   ]
  },
  {
   "cell_type": "code",
   "execution_count": 12,
   "id": "bcc6ef23-f92e-4ce6-a0c7-5ea37de6b461",
   "metadata": {},
   "outputs": [
    {
     "name": "stdout",
     "output_type": "stream",
     "text": [
      "Bolan\n"
     ]
    }
   ],
   "source": [
    "print(car1.brand)"
   ]
  },
  {
   "cell_type": "code",
   "execution_count": 13,
   "id": "cab37c52-a5bd-42e8-84e8-754cd05a1d65",
   "metadata": {},
   "outputs": [
    {
     "name": "stdout",
     "output_type": "stream",
     "text": [
      "2015\n"
     ]
    }
   ],
   "source": [
    "print(car1.model_year)"
   ]
  },
  {
   "cell_type": "code",
   "execution_count": 14,
   "id": "6782fc3b-f7b3-4337-a7e9-cf1d74ba3a1c",
   "metadata": {},
   "outputs": [
    {
     "name": "stdout",
     "output_type": "stream",
     "text": [
      "Black\n"
     ]
    }
   ],
   "source": [
    "print(car1.color)"
   ]
  },
  {
   "cell_type": "code",
   "execution_count": 15,
   "id": "7f10145a-b1ec-46a9-827f-71be5ae46959",
   "metadata": {},
   "outputs": [
    {
     "name": "stdout",
     "output_type": "stream",
     "text": [
      "Dawood is travelling in Suzuki\n"
     ]
    }
   ],
   "source": [
    "car1.travel(\"Dawood\")"
   ]
  },
  {
   "cell_type": "code",
   "execution_count": 16,
   "id": "81bf1039-a00a-47a8-8715-2a36e9bd2d9f",
   "metadata": {},
   "outputs": [
    {
     "name": "stdout",
     "output_type": "stream",
     "text": [
      "Suzuki is carrying Halwa of weight 5.0\n"
     ]
    }
   ],
   "source": [
    "car1.carry(5.0, \"Halwa\")"
   ]
  },
  {
   "cell_type": "code",
   "execution_count": 27,
   "id": "25fee770-7bed-4ca7-bcea-67adb40834bf",
   "metadata": {},
   "outputs": [],
   "source": [
    "class book:\n",
    "    counter = 0\n",
    "    Library = \"Public Library\"\n",
    "    def __init__(self, title, author):\n",
    "        self.title = title\n",
    "        self.author = author\n",
    "        book.counter +=1\n",
    "    def issued(self, name: str, book: str) ->None:\n",
    "        return f\"{self.name} has taken {self.book}\" \n",
    "    def get_info(self):\n",
    "        return f\" '{self.title}' by {self.author}\""
   ]
  },
  {
   "cell_type": "code",
   "execution_count": 31,
   "id": "f337fff9-f6a1-4688-8262-e34105c150e6",
   "metadata": {},
   "outputs": [
    {
     "ename": "AttributeError",
     "evalue": "'book' object has no attribute 'name'",
     "output_type": "error",
     "traceback": [
      "\u001b[1;31m---------------------------------------------------------------------------\u001b[0m",
      "\u001b[1;31mAttributeError\u001b[0m                            Traceback (most recent call last)",
      "Cell \u001b[1;32mIn[31], line 2\u001b[0m\n\u001b[0;32m      1\u001b[0m bk \u001b[38;5;241m=\u001b[39m book(\u001b[38;5;124m\"\u001b[39m\u001b[38;5;124mAtomic\u001b[39m\u001b[38;5;124m\"\u001b[39m, \u001b[38;5;124m\"\u001b[39m\u001b[38;5;124mCamron\u001b[39m\u001b[38;5;124m\"\u001b[39m)\n\u001b[1;32m----> 2\u001b[0m bk\u001b[38;5;241m.\u001b[39missued(\u001b[38;5;124m\"\u001b[39m\u001b[38;5;124mAtomic\u001b[39m\u001b[38;5;124m\"\u001b[39m, \u001b[38;5;124m\"\u001b[39m\u001b[38;5;124mAkram\u001b[39m\u001b[38;5;124m\"\u001b[39m)\n\u001b[0;32m      3\u001b[0m book\u001b[38;5;241m.\u001b[39mcounter\n",
      "Cell \u001b[1;32mIn[27], line 9\u001b[0m, in \u001b[0;36mbook.issued\u001b[1;34m(self, name, book)\u001b[0m\n\u001b[0;32m      8\u001b[0m \u001b[38;5;28;01mdef\u001b[39;00m \u001b[38;5;21missued\u001b[39m(\u001b[38;5;28mself\u001b[39m, name: \u001b[38;5;28mstr\u001b[39m, book: \u001b[38;5;28mstr\u001b[39m) \u001b[38;5;241m-\u001b[39m\u001b[38;5;241m>\u001b[39m\u001b[38;5;28;01mNone\u001b[39;00m:\n\u001b[1;32m----> 9\u001b[0m     \u001b[38;5;28;01mreturn\u001b[39;00m \u001b[38;5;124mf\u001b[39m\u001b[38;5;124m\"\u001b[39m\u001b[38;5;132;01m{\u001b[39;00m\u001b[38;5;28mself\u001b[39m\u001b[38;5;241m.\u001b[39mname\u001b[38;5;132;01m}\u001b[39;00m\u001b[38;5;124m has taken \u001b[39m\u001b[38;5;132;01m{\u001b[39;00m\u001b[38;5;28mself\u001b[39m\u001b[38;5;241m.\u001b[39mbook\u001b[38;5;132;01m}\u001b[39;00m\u001b[38;5;124m\"\u001b[39m\n",
      "\u001b[1;31mAttributeError\u001b[0m: 'book' object has no attribute 'name'"
     ]
    }
   ],
   "source": [
    "bk = book(\"Atomic\", \"Camron\")\n",
    "bk.issued(\"Atomic\", \"Akram\")\n",
    "book.counter"
   ]
  },
  {
   "cell_type": "code",
   "execution_count": 19,
   "id": "1334c154-c9f1-493b-9a5c-815ac70e115f",
   "metadata": {},
   "outputs": [
    {
     "name": "stdout",
     "output_type": "stream",
     "text": [
      " 'Atomic Habbits' by James Clear\n"
     ]
    }
   ],
   "source": [
    "print(my_book.get_info())"
   ]
  },
  {
   "cell_type": "markdown",
   "id": "38f9ec08-9364-44cb-aff1-ba8cc3685e54",
   "metadata": {},
   "source": [
    "## Static Methods\n",
    "Those mehtods in which regardless of whether or not any instances of the class are generated.\n",
    "        "
   ]
  },
  {
   "cell_type": "code",
   "execution_count": 48,
   "id": "e0b935f6-8675-4d81-a359-888f5683dfed",
   "metadata": {},
   "outputs": [],
   "source": [
    "class MathOperations():\n",
    "    roll_number = '12'\n",
    "    @staticmethod\n",
    "    def add(number1 : int, number2 : int) -> None :\n",
    "        '''Add two numbers'''\n",
    "        sum = number1 + number2\n",
    "        print(f\"Sum of {number1} and {number2} is {sum}\")\n",
    "\n",
    "    def mul(number1 : int, number2 : int) -> None :\n",
    "        '''multiply two numbers'''\n",
    "        sum = number1 * number2\n",
    "        print(f\"Multiply of {number1} and {number2} is {sum}\")\n",
    "\n",
    "    def div(number1 : int, number2 : int) -> None :\n",
    "        '''division two numbers'''\n",
    "        division = number1 / number2\n",
    "        print(f\"division of {number1} and {number2} is {division}\")\n"
   ]
  },
  {
   "cell_type": "code",
   "execution_count": 49,
   "id": "ce597f58-66b1-4fec-8d10-6779acf63c3b",
   "metadata": {},
   "outputs": [
    {
     "name": "stdout",
     "output_type": "stream",
     "text": [
      "Sum of 3 and 4 is 7\n",
      "Multiply of 3 and 4 is 12\n",
      "division of 4 and 2 is 2.0\n"
     ]
    },
    {
     "data": {
      "text/plain": [
       "'12'"
      ]
     },
     "execution_count": 49,
     "metadata": {},
     "output_type": "execute_result"
    }
   ],
   "source": [
    "MathOperations.add(3,4)\n",
    "MathOperations.mul(3,4)\n",
    "MathOperations.div(4,2)\n",
    "MathOperations.roll_number"
   ]
  },
  {
   "cell_type": "code",
   "execution_count": 82,
   "id": "65ac1f36-94f2-4e97-9dd3-2c2b2e7f3ab3",
   "metadata": {},
   "outputs": [],
   "source": [
    "class Parent():\n",
    "\n",
    "    #constructor\n",
    "    def __init__(self, eye_color, skin_color):\n",
    "        self.eye_color = eye_color  #attributes\n",
    "        self.skin_color = skin_color\n",
    "\n",
    "    #Methods\n",
    "    def speak(self):\n",
    "        print(f\"can speak\")\n",
    "\n",
    "class child(Parent):\n",
    "    def programing(self):\n",
    "        print(f\"Can do programming\")"
   ]
  },
  {
   "cell_type": "code",
   "execution_count": 83,
   "id": "8fde6137-7758-412e-89bc-e974522d1666",
   "metadata": {},
   "outputs": [
    {
     "name": "stdout",
     "output_type": "stream",
     "text": [
      "Blue\n",
      "Brown\n",
      "can speak\n",
      "None\n"
     ]
    }
   ],
   "source": [
    "#Parent Class\n",
    "\n",
    "Parent_obj = Parent(\"Blue\", \"Brown\")\n",
    "print(Parent_obj.eye_color)\n",
    "print(Parent_obj.skin_color)\n",
    "print(Parent_obj.speak())"
   ]
  },
  {
   "cell_type": "code",
   "execution_count": 84,
   "id": "0c86a839-1500-4d9f-ac89-d61a7e10fb1f",
   "metadata": {},
   "outputs": [],
   "source": [
    "child_obj = child(\"black\", \"gray\")"
   ]
  },
  {
   "cell_type": "code",
   "execution_count": 86,
   "id": "dca0903e-d1c9-44f1-b672-a1dac0b8347f",
   "metadata": {},
   "outputs": [
    {
     "name": "stdout",
     "output_type": "stream",
     "text": [
      "black\n",
      "gray\n",
      "can speak\n",
      "None\n",
      "Can do programming\n",
      "None\n"
     ]
    }
   ],
   "source": [
    "print(child_obj.eye_color)\n",
    "print(child_obj.skin_color)\n",
    "print(child_obj.speak())\n",
    "print(child_obj.programing())"
   ]
  },
  {
   "cell_type": "code",
   "execution_count": 87,
   "id": "e2b66c4e-3c3e-4852-8d14-aa6f625d19a5",
   "metadata": {},
   "outputs": [],
   "source": [
    "class Parent():\n",
    "\n",
    "    #constructor\n",
    "    def __init__(self, eye_color, skin_color):\n",
    "        self.eye_color = eye_color  #attributes\n",
    "        self.skin_color = skin_color\n",
    "\n",
    "    #Methods\n",
    "    def speak(self):\n",
    "        print(f\"can speak\")\n",
    "\n",
    "# Child class with Inheritance & one new attribute & behavior.\n",
    "class child(Parent):\n",
    "    def __init__(self, eye_color, skin_color, hair_color):\n",
    "        super().__init__(eye_color, skin_color)\n",
    "        self.hair_color = hair_color\n",
    "    def programing(self):\n",
    "        print(f\"Can do programming\")"
   ]
  },
  {
   "cell_type": "code",
   "execution_count": 88,
   "id": "c0d1779d-cab3-46b9-8ab3-0a4e288e5b02",
   "metadata": {},
   "outputs": [
    {
     "name": "stdout",
     "output_type": "stream",
     "text": [
      "black\n",
      "brown\n",
      "white\n"
     ]
    }
   ],
   "source": [
    "ch_obj = child(\"black\", \"brown\", \"white\")\n",
    "print(ch_obj.eye_color)\n",
    "print(ch_obj.skin_color)\n",
    "print(ch_obj.hair_color)"
   ]
  },
  {
   "cell_type": "code",
   "execution_count": 118,
   "id": "d1c9d27d-69b1-4a3a-b4be-c71bcec95315",
   "metadata": {},
   "outputs": [],
   "source": [
    "class Account:\n",
    "    def __init__(self, name: str, id: int, balance: float):\n",
    "        self.name = name\n",
    "        self.id = id\n",
    "        self.balance = balance\n",
    "\n",
    "    def balanceinquiry(self):\n",
    "        print(f\"{self.name} has {self.balance} with id {self.id}\")\n",
    "\n",
    "    def withdrawmoney(self, amount):\n",
    "        if self.balance >= amount:\n",
    "            self.balance -= amount\n",
    "            print(f\"{self.name} has withdrawn the amount of {amount} from account number {self.id}.\")\n",
    "            print(f\"New balance is {self.balance}.\")\n",
    "        else:\n",
    "            print(f\"Insufficient balance! {self.name} has only {self.balance} in account number {self.id}.\")\n",
    "\n",
    "class SBI(Account):\n",
    "    pass\n",
    "\n",
    "class ICICI(Account):\n",
    "    pass\n",
    "\n",
    "\n"
   ]
  },
  {
   "cell_type": "code",
   "execution_count": 120,
   "id": "6637bcdf-72b7-4a00-90e5-896897503761",
   "metadata": {},
   "outputs": [
    {
     "name": "stdout",
     "output_type": "stream",
     "text": [
      "Akram has withdrawn the amount of 45 from account number 45000.\n",
      "New balance is 4522.\n"
     ]
    }
   ],
   "source": [
    "account = Account(\"Akram\", 45000, 4567)\n",
    "account.name\n",
    "account.balance\n",
    "account.withdrawmoney(45)"
   ]
  },
  {
   "cell_type": "code",
   "execution_count": 122,
   "id": "e5f123d2-51e4-449e-95f4-42fe4c195ee7",
   "metadata": {},
   "outputs": [
    {
     "name": "stdout",
     "output_type": "stream",
     "text": [
      "Child's eye color is green, height is 150 cm, and skin color is medium.\n",
      "Father's eye color is blue, height is 165 cm, and skin color is fair.\n",
      "Mother's eye color is blue, height is 165 cm, and skin color is fair.\n"
     ]
    }
   ],
   "source": [
    "class Father:\n",
    "    def __init__(self, eye_color: str, height: float, skin_color: str):\n",
    "        self.eye_color = eye_color\n",
    "        self.height = height\n",
    "        self.skin_color = skin_color\n",
    "\n",
    "    def father_introduce(self):\n",
    "        print(f\"Father's eye color is {self.eye_color}, height is {self.height} cm, and skin color is {self.skin_color}.\")\n",
    "\n",
    "class Mother:\n",
    "    def __init__(self, eye_color: str, height: float, skin_color: str):\n",
    "        self.eye_color = eye_color\n",
    "        self.height = height\n",
    "        self.skin_color = skin_color\n",
    "\n",
    "    def mother_introduce(self):\n",
    "        print(f\"Mother's eye color is {self.eye_color}, height is {self.height} cm, and skin color is {self.skin_color}.\")\n",
    "\n",
    "class Child(Father, Mother):\n",
    "    def __init__(self, father_eye_color: str, father_height: float, father_skin_color: str,\n",
    "                 mother_eye_color: str, mother_height: float, mother_skin_color: str,\n",
    "                 child_eye_color: str, child_height: float, child_skin_color: str):\n",
    "        Father.__init__(self, father_eye_color, father_height, father_skin_color)\n",
    "        Mother.__init__(self, mother_eye_color, mother_height, mother_skin_color)\n",
    "        self.child_eye_color = child_eye_color\n",
    "        self.child_height = child_height\n",
    "        self.child_skin_color = child_skin_color\n",
    "\n",
    "    def child_introduce(self):\n",
    "        print(f\"Child's eye color is {self.child_eye_color}, height is {self.child_height} cm, and skin color is {self.child_skin_color}.\")\n",
    "        self.father_introduce()\n",
    "        self.mother_introduce()\n",
    "\n",
    "\n"
   ]
  },
  {
   "cell_type": "code",
   "execution_count": 124,
   "id": "799a44e2-4907-48a8-b4f2-2386aca3aefc",
   "metadata": {},
   "outputs": [
    {
     "name": "stdout",
     "output_type": "stream",
     "text": [
      "Child's eye color is green, height is 150 cm, and skin color is medium.\n",
      "Father's eye color is blue, height is 165 cm, and skin color is fair.\n",
      "Mother's eye color is blue, height is 165 cm, and skin color is fair.\n"
     ]
    }
   ],
   "source": [
    "child = Child(\"brown\", 180, \"light\", \"blue\", 165, \"fair\", \"green\", 150, \"medium\")\n",
    "child.child_introduce()"
   ]
  },
  {
   "cell_type": "code",
   "execution_count": null,
   "id": "5bafdbb6-f3f2-4684-ba21-8c8d1a02fc7a",
   "metadata": {},
   "outputs": [],
   "source": []
  }
 ],
 "metadata": {
  "kernelspec": {
   "display_name": "Python 3 (ipykernel)",
   "language": "python",
   "name": "python3"
  },
  "language_info": {
   "codemirror_mode": {
    "name": "ipython",
    "version": 3
   },
   "file_extension": ".py",
   "mimetype": "text/x-python",
   "name": "python",
   "nbconvert_exporter": "python",
   "pygments_lexer": "ipython3",
   "version": "3.12.4"
  }
 },
 "nbformat": 4,
 "nbformat_minor": 5
}
