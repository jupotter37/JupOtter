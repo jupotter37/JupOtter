{
 "cells": [
  {
   "cell_type": "code",
   "execution_count": 2,
   "metadata": {},
   "outputs": [
    {
     "data": {
      "text/html": [
       "<div>\n",
       "<style scoped>\n",
       "    .dataframe tbody tr th:only-of-type {\n",
       "        vertical-align: middle;\n",
       "    }\n",
       "\n",
       "    .dataframe tbody tr th {\n",
       "        vertical-align: top;\n",
       "    }\n",
       "\n",
       "    .dataframe thead th {\n",
       "        text-align: right;\n",
       "    }\n",
       "</style>\n",
       "<table border=\"1\" class=\"dataframe\">\n",
       "  <thead>\n",
       "    <tr style=\"text-align: right;\">\n",
       "      <th></th>\n",
       "      <th>Name</th>\n",
       "      <th>Kilometers_Driven</th>\n",
       "      <th>Fuel_Type</th>\n",
       "      <th>Transmission</th>\n",
       "      <th>Owner_Type</th>\n",
       "      <th>Mileage</th>\n",
       "      <th>Engine</th>\n",
       "      <th>Power</th>\n",
       "      <th>Seats</th>\n",
       "      <th>Price</th>\n",
       "      <th>Age</th>\n",
       "    </tr>\n",
       "  </thead>\n",
       "  <tbody>\n",
       "    <tr>\n",
       "      <th>0</th>\n",
       "      <td>Hyundai i10 Era</td>\n",
       "      <td>60000</td>\n",
       "      <td>Petrol</td>\n",
       "      <td>Manual</td>\n",
       "      <td>2</td>\n",
       "      <td>19.81</td>\n",
       "      <td>1086</td>\n",
       "      <td>68.05</td>\n",
       "      <td>5</td>\n",
       "      <td>2650.0</td>\n",
       "      <td>9</td>\n",
       "    </tr>\n",
       "    <tr>\n",
       "      <th>1</th>\n",
       "      <td>Toyota Fortuner 4x2 Manual</td>\n",
       "      <td>73500</td>\n",
       "      <td>Diesel</td>\n",
       "      <td>Manual</td>\n",
       "      <td>1</td>\n",
       "      <td>13.00</td>\n",
       "      <td>2982</td>\n",
       "      <td>168.50</td>\n",
       "      <td>7</td>\n",
       "      <td>22000.0</td>\n",
       "      <td>6</td>\n",
       "    </tr>\n",
       "    <tr>\n",
       "      <th>2</th>\n",
       "      <td>Mercedes-Benz E-Class 230 E AT</td>\n",
       "      <td>28888</td>\n",
       "      <td>Petrol</td>\n",
       "      <td>Automatic</td>\n",
       "      <td>1</td>\n",
       "      <td>10.00</td>\n",
       "      <td>2496</td>\n",
       "      <td>157.70</td>\n",
       "      <td>5</td>\n",
       "      <td>7560.0</td>\n",
       "      <td>12</td>\n",
       "    </tr>\n",
       "    <tr>\n",
       "      <th>3</th>\n",
       "      <td>Volkswagen Polo Petrol Trendline 1.2L</td>\n",
       "      <td>41000</td>\n",
       "      <td>Petrol</td>\n",
       "      <td>Manual</td>\n",
       "      <td>1</td>\n",
       "      <td>16.47</td>\n",
       "      <td>1198</td>\n",
       "      <td>73.90</td>\n",
       "      <td>5</td>\n",
       "      <td>3100.0</td>\n",
       "      <td>9</td>\n",
       "    </tr>\n",
       "    <tr>\n",
       "      <th>4</th>\n",
       "      <td>Land Rover Range Rover Evoque 2.0 TD4 HSE Dynamic</td>\n",
       "      <td>52000</td>\n",
       "      <td>Diesel</td>\n",
       "      <td>Automatic</td>\n",
       "      <td>1</td>\n",
       "      <td>15.68</td>\n",
       "      <td>1999</td>\n",
       "      <td>177.00</td>\n",
       "      <td>5</td>\n",
       "      <td>42000.0</td>\n",
       "      <td>5</td>\n",
       "    </tr>\n",
       "    <tr>\n",
       "      <th>...</th>\n",
       "      <td>...</td>\n",
       "      <td>...</td>\n",
       "      <td>...</td>\n",
       "      <td>...</td>\n",
       "      <td>...</td>\n",
       "      <td>...</td>\n",
       "      <td>...</td>\n",
       "      <td>...</td>\n",
       "      <td>...</td>\n",
       "      <td>...</td>\n",
       "      <td>...</td>\n",
       "    </tr>\n",
       "    <tr>\n",
       "      <th>4902</th>\n",
       "      <td>Toyota Innova 2.5 G (Diesel) 8 Seater</td>\n",
       "      <td>250000</td>\n",
       "      <td>Diesel</td>\n",
       "      <td>Manual</td>\n",
       "      <td>2</td>\n",
       "      <td>12.99</td>\n",
       "      <td>2494</td>\n",
       "      <td>100.60</td>\n",
       "      <td>8</td>\n",
       "      <td>7900.0</td>\n",
       "      <td>8</td>\n",
       "    </tr>\n",
       "    <tr>\n",
       "      <th>4903</th>\n",
       "      <td>Mercedes-Benz New C-Class 220 CDI AT</td>\n",
       "      <td>38000</td>\n",
       "      <td>Diesel</td>\n",
       "      <td>Automatic</td>\n",
       "      <td>1</td>\n",
       "      <td>14.84</td>\n",
       "      <td>2143</td>\n",
       "      <td>170.00</td>\n",
       "      <td>5</td>\n",
       "      <td>13510.0</td>\n",
       "      <td>9</td>\n",
       "    </tr>\n",
       "    <tr>\n",
       "      <th>4904</th>\n",
       "      <td>Toyota Innova Crysta 2.8 ZX AT</td>\n",
       "      <td>40674</td>\n",
       "      <td>Diesel</td>\n",
       "      <td>Automatic</td>\n",
       "      <td>1</td>\n",
       "      <td>11.36</td>\n",
       "      <td>2755</td>\n",
       "      <td>171.50</td>\n",
       "      <td>7</td>\n",
       "      <td>24820.0</td>\n",
       "      <td>2</td>\n",
       "    </tr>\n",
       "    <tr>\n",
       "      <th>4905</th>\n",
       "      <td>Honda City i VTEC V</td>\n",
       "      <td>62505</td>\n",
       "      <td>Petrol</td>\n",
       "      <td>Manual</td>\n",
       "      <td>1</td>\n",
       "      <td>17.40</td>\n",
       "      <td>1497</td>\n",
       "      <td>117.30</td>\n",
       "      <td>5</td>\n",
       "      <td>5950.0</td>\n",
       "      <td>7</td>\n",
       "    </tr>\n",
       "    <tr>\n",
       "      <th>4906</th>\n",
       "      <td>Maruti Swift ZXI</td>\n",
       "      <td>40000</td>\n",
       "      <td>Petrol</td>\n",
       "      <td>Manual</td>\n",
       "      <td>1</td>\n",
       "      <td>20.40</td>\n",
       "      <td>1197</td>\n",
       "      <td>81.80</td>\n",
       "      <td>5</td>\n",
       "      <td>5900.0</td>\n",
       "      <td>6</td>\n",
       "    </tr>\n",
       "  </tbody>\n",
       "</table>\n",
       "<p>4907 rows × 11 columns</p>\n",
       "</div>"
      ],
      "text/plain": [
       "                                                   Name  Kilometers_Driven  \\\n",
       "0                                       Hyundai i10 Era              60000   \n",
       "1                            Toyota Fortuner 4x2 Manual              73500   \n",
       "2                        Mercedes-Benz E-Class 230 E AT              28888   \n",
       "3                 Volkswagen Polo Petrol Trendline 1.2L              41000   \n",
       "4     Land Rover Range Rover Evoque 2.0 TD4 HSE Dynamic              52000   \n",
       "...                                                 ...                ...   \n",
       "4902              Toyota Innova 2.5 G (Diesel) 8 Seater             250000   \n",
       "4903               Mercedes-Benz New C-Class 220 CDI AT              38000   \n",
       "4904                     Toyota Innova Crysta 2.8 ZX AT              40674   \n",
       "4905                                Honda City i VTEC V              62505   \n",
       "4906                                   Maruti Swift ZXI              40000   \n",
       "\n",
       "     Fuel_Type Transmission  Owner_Type  Mileage  Engine   Power  Seats  \\\n",
       "0       Petrol       Manual           2    19.81    1086   68.05      5   \n",
       "1       Diesel       Manual           1    13.00    2982  168.50      7   \n",
       "2       Petrol    Automatic           1    10.00    2496  157.70      5   \n",
       "3       Petrol       Manual           1    16.47    1198   73.90      5   \n",
       "4       Diesel    Automatic           1    15.68    1999  177.00      5   \n",
       "...        ...          ...         ...      ...     ...     ...    ...   \n",
       "4902    Diesel       Manual           2    12.99    2494  100.60      8   \n",
       "4903    Diesel    Automatic           1    14.84    2143  170.00      5   \n",
       "4904    Diesel    Automatic           1    11.36    2755  171.50      7   \n",
       "4905    Petrol       Manual           1    17.40    1497  117.30      5   \n",
       "4906    Petrol       Manual           1    20.40    1197   81.80      5   \n",
       "\n",
       "        Price  Age  \n",
       "0      2650.0    9  \n",
       "1     22000.0    6  \n",
       "2      7560.0   12  \n",
       "3      3100.0    9  \n",
       "4     42000.0    5  \n",
       "...       ...  ...  \n",
       "4902   7900.0    8  \n",
       "4903  13510.0    9  \n",
       "4904  24820.0    2  \n",
       "4905   5950.0    7  \n",
       "4906   5900.0    6  \n",
       "\n",
       "[4907 rows x 11 columns]"
      ]
     },
     "execution_count": 2,
     "metadata": {},
     "output_type": "execute_result"
    }
   ],
   "source": [
    "import pandas as pd\n",
    "df = pd.read_csv('Spotawheel_case_study (1).csv')\n",
    "df"
   ]
  },
  {
   "cell_type": "code",
   "execution_count": 3,
   "metadata": {},
   "outputs": [],
   "source": [
    "df['Brand'] = df['Name'].str.split(' ').str[0]\n",
    "df[\"Fueltype\"]= df[\"Fuel_Type\"].astype('category')\n",
    "df[\"Fueltypecat\"] = df[\"Fueltype\"].cat.codes\n",
    "df[\"Transmissiontype\"]= df[\"Transmission\"].astype('category')\n",
    "df[\"Transmissiontypecat\"] = df[\"Transmissiontype\"].cat.codes\n",
    "df[\"Brandtype\"]= df[\"Brand\"].astype('category')\n",
    "df[\"Brandtypecat\"] = df[\"Brandtype\"].cat.codes"
   ]
  },
  {
   "cell_type": "code",
   "execution_count": 36,
   "metadata": {},
   "outputs": [
    {
     "data": {
      "text/html": [
       "<div>\n",
       "<style scoped>\n",
       "    .dataframe tbody tr th:only-of-type {\n",
       "        vertical-align: middle;\n",
       "    }\n",
       "\n",
       "    .dataframe tbody tr th {\n",
       "        vertical-align: top;\n",
       "    }\n",
       "\n",
       "    .dataframe thead th {\n",
       "        text-align: right;\n",
       "    }\n",
       "</style>\n",
       "<table border=\"1\" class=\"dataframe\">\n",
       "  <thead>\n",
       "    <tr style=\"text-align: right;\">\n",
       "      <th></th>\n",
       "      <th>Name</th>\n",
       "      <th>Kilometers_Driven</th>\n",
       "      <th>Fuel_Type</th>\n",
       "      <th>Transmission</th>\n",
       "      <th>Owner_Type</th>\n",
       "      <th>Mileage</th>\n",
       "      <th>Engine</th>\n",
       "      <th>Power</th>\n",
       "      <th>Seats</th>\n",
       "      <th>Price</th>\n",
       "      <th>Age</th>\n",
       "      <th>Brand</th>\n",
       "      <th>Fueltype</th>\n",
       "      <th>Fueltypecat</th>\n",
       "      <th>Transmissiontype</th>\n",
       "      <th>Transmissiontypecat</th>\n",
       "      <th>Brandtype</th>\n",
       "      <th>Brandtypecat</th>\n",
       "    </tr>\n",
       "  </thead>\n",
       "  <tbody>\n",
       "    <tr>\n",
       "      <th>0</th>\n",
       "      <td>Hyundai i10 Era</td>\n",
       "      <td>60000</td>\n",
       "      <td>Petrol</td>\n",
       "      <td>Manual</td>\n",
       "      <td>2</td>\n",
       "      <td>19.81</td>\n",
       "      <td>1086</td>\n",
       "      <td>68.05</td>\n",
       "      <td>5</td>\n",
       "      <td>2650.0</td>\n",
       "      <td>9</td>\n",
       "      <td>Hyundai</td>\n",
       "      <td>Petrol</td>\n",
       "      <td>3</td>\n",
       "      <td>Manual</td>\n",
       "      <td>1</td>\n",
       "      <td>Hyundai</td>\n",
       "      <td>10</td>\n",
       "    </tr>\n",
       "    <tr>\n",
       "      <th>1</th>\n",
       "      <td>Toyota Fortuner 4x2 Manual</td>\n",
       "      <td>73500</td>\n",
       "      <td>Diesel</td>\n",
       "      <td>Manual</td>\n",
       "      <td>1</td>\n",
       "      <td>13.00</td>\n",
       "      <td>2982</td>\n",
       "      <td>168.50</td>\n",
       "      <td>7</td>\n",
       "      <td>22000.0</td>\n",
       "      <td>6</td>\n",
       "      <td>Toyota</td>\n",
       "      <td>Diesel</td>\n",
       "      <td>1</td>\n",
       "      <td>Manual</td>\n",
       "      <td>1</td>\n",
       "      <td>Toyota</td>\n",
       "      <td>27</td>\n",
       "    </tr>\n",
       "    <tr>\n",
       "      <th>2</th>\n",
       "      <td>Mercedes-Benz E-Class 230 E AT</td>\n",
       "      <td>28888</td>\n",
       "      <td>Petrol</td>\n",
       "      <td>Automatic</td>\n",
       "      <td>1</td>\n",
       "      <td>10.00</td>\n",
       "      <td>2496</td>\n",
       "      <td>157.70</td>\n",
       "      <td>5</td>\n",
       "      <td>7560.0</td>\n",
       "      <td>12</td>\n",
       "      <td>Mercedes-Benz</td>\n",
       "      <td>Petrol</td>\n",
       "      <td>3</td>\n",
       "      <td>Automatic</td>\n",
       "      <td>0</td>\n",
       "      <td>Mercedes-Benz</td>\n",
       "      <td>19</td>\n",
       "    </tr>\n",
       "    <tr>\n",
       "      <th>3</th>\n",
       "      <td>Volkswagen Polo Petrol Trendline 1.2L</td>\n",
       "      <td>41000</td>\n",
       "      <td>Petrol</td>\n",
       "      <td>Manual</td>\n",
       "      <td>1</td>\n",
       "      <td>16.47</td>\n",
       "      <td>1198</td>\n",
       "      <td>73.90</td>\n",
       "      <td>5</td>\n",
       "      <td>3100.0</td>\n",
       "      <td>9</td>\n",
       "      <td>Volkswagen</td>\n",
       "      <td>Petrol</td>\n",
       "      <td>3</td>\n",
       "      <td>Manual</td>\n",
       "      <td>1</td>\n",
       "      <td>Volkswagen</td>\n",
       "      <td>28</td>\n",
       "    </tr>\n",
       "    <tr>\n",
       "      <th>4</th>\n",
       "      <td>Land Rover Range Rover Evoque 2.0 TD4 HSE Dynamic</td>\n",
       "      <td>52000</td>\n",
       "      <td>Diesel</td>\n",
       "      <td>Automatic</td>\n",
       "      <td>1</td>\n",
       "      <td>15.68</td>\n",
       "      <td>1999</td>\n",
       "      <td>177.00</td>\n",
       "      <td>5</td>\n",
       "      <td>42000.0</td>\n",
       "      <td>5</td>\n",
       "      <td>Land</td>\n",
       "      <td>Diesel</td>\n",
       "      <td>1</td>\n",
       "      <td>Automatic</td>\n",
       "      <td>0</td>\n",
       "      <td>Land</td>\n",
       "      <td>16</td>\n",
       "    </tr>\n",
       "    <tr>\n",
       "      <th>...</th>\n",
       "      <td>...</td>\n",
       "      <td>...</td>\n",
       "      <td>...</td>\n",
       "      <td>...</td>\n",
       "      <td>...</td>\n",
       "      <td>...</td>\n",
       "      <td>...</td>\n",
       "      <td>...</td>\n",
       "      <td>...</td>\n",
       "      <td>...</td>\n",
       "      <td>...</td>\n",
       "      <td>...</td>\n",
       "      <td>...</td>\n",
       "      <td>...</td>\n",
       "      <td>...</td>\n",
       "      <td>...</td>\n",
       "      <td>...</td>\n",
       "      <td>...</td>\n",
       "    </tr>\n",
       "    <tr>\n",
       "      <th>4902</th>\n",
       "      <td>Toyota Innova 2.5 G (Diesel) 8 Seater</td>\n",
       "      <td>250000</td>\n",
       "      <td>Diesel</td>\n",
       "      <td>Manual</td>\n",
       "      <td>2</td>\n",
       "      <td>12.99</td>\n",
       "      <td>2494</td>\n",
       "      <td>100.60</td>\n",
       "      <td>8</td>\n",
       "      <td>7900.0</td>\n",
       "      <td>8</td>\n",
       "      <td>Toyota</td>\n",
       "      <td>Diesel</td>\n",
       "      <td>1</td>\n",
       "      <td>Manual</td>\n",
       "      <td>1</td>\n",
       "      <td>Toyota</td>\n",
       "      <td>27</td>\n",
       "    </tr>\n",
       "    <tr>\n",
       "      <th>4903</th>\n",
       "      <td>Mercedes-Benz New C-Class 220 CDI AT</td>\n",
       "      <td>38000</td>\n",
       "      <td>Diesel</td>\n",
       "      <td>Automatic</td>\n",
       "      <td>1</td>\n",
       "      <td>14.84</td>\n",
       "      <td>2143</td>\n",
       "      <td>170.00</td>\n",
       "      <td>5</td>\n",
       "      <td>13510.0</td>\n",
       "      <td>9</td>\n",
       "      <td>Mercedes-Benz</td>\n",
       "      <td>Diesel</td>\n",
       "      <td>1</td>\n",
       "      <td>Automatic</td>\n",
       "      <td>0</td>\n",
       "      <td>Mercedes-Benz</td>\n",
       "      <td>19</td>\n",
       "    </tr>\n",
       "    <tr>\n",
       "      <th>4904</th>\n",
       "      <td>Toyota Innova Crysta 2.8 ZX AT</td>\n",
       "      <td>40674</td>\n",
       "      <td>Diesel</td>\n",
       "      <td>Automatic</td>\n",
       "      <td>1</td>\n",
       "      <td>11.36</td>\n",
       "      <td>2755</td>\n",
       "      <td>171.50</td>\n",
       "      <td>7</td>\n",
       "      <td>24820.0</td>\n",
       "      <td>2</td>\n",
       "      <td>Toyota</td>\n",
       "      <td>Diesel</td>\n",
       "      <td>1</td>\n",
       "      <td>Automatic</td>\n",
       "      <td>0</td>\n",
       "      <td>Toyota</td>\n",
       "      <td>27</td>\n",
       "    </tr>\n",
       "    <tr>\n",
       "      <th>4905</th>\n",
       "      <td>Honda City i VTEC V</td>\n",
       "      <td>62505</td>\n",
       "      <td>Petrol</td>\n",
       "      <td>Manual</td>\n",
       "      <td>1</td>\n",
       "      <td>17.40</td>\n",
       "      <td>1497</td>\n",
       "      <td>117.30</td>\n",
       "      <td>5</td>\n",
       "      <td>5950.0</td>\n",
       "      <td>7</td>\n",
       "      <td>Honda</td>\n",
       "      <td>Petrol</td>\n",
       "      <td>3</td>\n",
       "      <td>Manual</td>\n",
       "      <td>1</td>\n",
       "      <td>Honda</td>\n",
       "      <td>9</td>\n",
       "    </tr>\n",
       "    <tr>\n",
       "      <th>4906</th>\n",
       "      <td>Maruti Swift ZXI</td>\n",
       "      <td>40000</td>\n",
       "      <td>Petrol</td>\n",
       "      <td>Manual</td>\n",
       "      <td>1</td>\n",
       "      <td>20.40</td>\n",
       "      <td>1197</td>\n",
       "      <td>81.80</td>\n",
       "      <td>5</td>\n",
       "      <td>5900.0</td>\n",
       "      <td>6</td>\n",
       "      <td>Maruti</td>\n",
       "      <td>Petrol</td>\n",
       "      <td>3</td>\n",
       "      <td>Manual</td>\n",
       "      <td>1</td>\n",
       "      <td>Maruti</td>\n",
       "      <td>18</td>\n",
       "    </tr>\n",
       "  </tbody>\n",
       "</table>\n",
       "<p>4907 rows × 18 columns</p>\n",
       "</div>"
      ],
      "text/plain": [
       "                                                   Name  Kilometers_Driven  \\\n",
       "0                                       Hyundai i10 Era              60000   \n",
       "1                            Toyota Fortuner 4x2 Manual              73500   \n",
       "2                        Mercedes-Benz E-Class 230 E AT              28888   \n",
       "3                 Volkswagen Polo Petrol Trendline 1.2L              41000   \n",
       "4     Land Rover Range Rover Evoque 2.0 TD4 HSE Dynamic              52000   \n",
       "...                                                 ...                ...   \n",
       "4902              Toyota Innova 2.5 G (Diesel) 8 Seater             250000   \n",
       "4903               Mercedes-Benz New C-Class 220 CDI AT              38000   \n",
       "4904                     Toyota Innova Crysta 2.8 ZX AT              40674   \n",
       "4905                                Honda City i VTEC V              62505   \n",
       "4906                                   Maruti Swift ZXI              40000   \n",
       "\n",
       "     Fuel_Type Transmission  Owner_Type  Mileage  Engine   Power  Seats  \\\n",
       "0       Petrol       Manual           2    19.81    1086   68.05      5   \n",
       "1       Diesel       Manual           1    13.00    2982  168.50      7   \n",
       "2       Petrol    Automatic           1    10.00    2496  157.70      5   \n",
       "3       Petrol       Manual           1    16.47    1198   73.90      5   \n",
       "4       Diesel    Automatic           1    15.68    1999  177.00      5   \n",
       "...        ...          ...         ...      ...     ...     ...    ...   \n",
       "4902    Diesel       Manual           2    12.99    2494  100.60      8   \n",
       "4903    Diesel    Automatic           1    14.84    2143  170.00      5   \n",
       "4904    Diesel    Automatic           1    11.36    2755  171.50      7   \n",
       "4905    Petrol       Manual           1    17.40    1497  117.30      5   \n",
       "4906    Petrol       Manual           1    20.40    1197   81.80      5   \n",
       "\n",
       "        Price  Age          Brand Fueltype  Fueltypecat Transmissiontype  \\\n",
       "0      2650.0    9        Hyundai   Petrol            3           Manual   \n",
       "1     22000.0    6         Toyota   Diesel            1           Manual   \n",
       "2      7560.0   12  Mercedes-Benz   Petrol            3        Automatic   \n",
       "3      3100.0    9     Volkswagen   Petrol            3           Manual   \n",
       "4     42000.0    5           Land   Diesel            1        Automatic   \n",
       "...       ...  ...            ...      ...          ...              ...   \n",
       "4902   7900.0    8         Toyota   Diesel            1           Manual   \n",
       "4903  13510.0    9  Mercedes-Benz   Diesel            1        Automatic   \n",
       "4904  24820.0    2         Toyota   Diesel            1        Automatic   \n",
       "4905   5950.0    7          Honda   Petrol            3           Manual   \n",
       "4906   5900.0    6         Maruti   Petrol            3           Manual   \n",
       "\n",
       "      Transmissiontypecat      Brandtype  Brandtypecat  \n",
       "0                       1        Hyundai            10  \n",
       "1                       1         Toyota            27  \n",
       "2                       0  Mercedes-Benz            19  \n",
       "3                       1     Volkswagen            28  \n",
       "4                       0           Land            16  \n",
       "...                   ...            ...           ...  \n",
       "4902                    1         Toyota            27  \n",
       "4903                    0  Mercedes-Benz            19  \n",
       "4904                    0         Toyota            27  \n",
       "4905                    1          Honda             9  \n",
       "4906                    1         Maruti            18  \n",
       "\n",
       "[4907 rows x 18 columns]"
      ]
     },
     "execution_count": 36,
     "metadata": {},
     "output_type": "execute_result"
    }
   ],
   "source": [
    "df"
   ]
  },
  {
   "cell_type": "code",
   "execution_count": 4,
   "metadata": {},
   "outputs": [
    {
     "data": {
      "text/plain": [
       "['Petrol', 'Diesel', 'CNG', 'LPG']\n",
       "Categories (4, object): ['Petrol', 'Diesel', 'CNG', 'LPG']"
      ]
     },
     "execution_count": 4,
     "metadata": {},
     "output_type": "execute_result"
    }
   ],
   "source": [
    "df[\"Fueltype\"].unique()"
   ]
  },
  {
   "cell_type": "code",
   "execution_count": 5,
   "metadata": {},
   "outputs": [
    {
     "data": {
      "text/plain": [
       "'Petrol'"
      ]
     },
     "execution_count": 5,
     "metadata": {},
     "output_type": "execute_result"
    }
   ],
   "source": [
    "df[\"Fueltype\"].unique()[0]"
   ]
  },
  {
   "cell_type": "code",
   "execution_count": null,
   "metadata": {},
   "outputs": [],
   "source": [
    "[\"foo\", \"bar\", \"baz\"].index(\"bar\")"
   ]
  },
  {
   "cell_type": "code",
   "execution_count": 11,
   "metadata": {},
   "outputs": [
    {
     "data": {
      "text/plain": [
       "CategoricalDtype(categories=['Petrol', 'Diesel', 'CNG', 'LPG'], ordered=False)"
      ]
     },
     "execution_count": 11,
     "metadata": {},
     "output_type": "execute_result"
    }
   ],
   "source": [
    "df[\"Fueltype\"].unique().dtype"
   ]
  },
  {
   "cell_type": "code",
   "execution_count": 14,
   "metadata": {},
   "outputs": [
    {
     "data": {
      "text/plain": [
       "array(['Petrol', 'Diesel', 'CNG', 'LPG'], dtype=object)"
      ]
     },
     "execution_count": 14,
     "metadata": {},
     "output_type": "execute_result"
    }
   ],
   "source": [
    "df[\"Fuel_Type\"].unique()"
   ]
  },
  {
   "cell_type": "code",
   "execution_count": 15,
   "metadata": {},
   "outputs": [
    {
     "data": {
      "text/plain": [
       "dtype('O')"
      ]
     },
     "execution_count": 15,
     "metadata": {},
     "output_type": "execute_result"
    }
   ],
   "source": [
    "df[\"Fuel_Type\"].unique().dtype"
   ]
  },
  {
   "cell_type": "code",
   "execution_count": 18,
   "metadata": {},
   "outputs": [],
   "source": [
    "fuel = df[\"Fuel_Type\"].unique()"
   ]
  },
  {
   "cell_type": "code",
   "execution_count": 19,
   "metadata": {},
   "outputs": [
    {
     "ename": "AttributeError",
     "evalue": "'numpy.ndarray' object has no attribute 'index'",
     "output_type": "error",
     "traceback": [
      "\u001b[0;31m---------------------------------------------------------------------------\u001b[0m",
      "\u001b[0;31mAttributeError\u001b[0m                            Traceback (most recent call last)",
      "\u001b[0;32m<ipython-input-19-5cd3807871c1>\u001b[0m in \u001b[0;36m<module>\u001b[0;34m\u001b[0m\n\u001b[0;32m----> 1\u001b[0;31m \u001b[0mfuel\u001b[0m\u001b[0;34m.\u001b[0m\u001b[0mindex\u001b[0m\u001b[0;34m(\u001b[0m\u001b[0;34m\"Petrol\"\u001b[0m\u001b[0;34m)\u001b[0m\u001b[0;34m\u001b[0m\u001b[0;34m\u001b[0m\u001b[0m\n\u001b[0m",
      "\u001b[0;31mAttributeError\u001b[0m: 'numpy.ndarray' object has no attribute 'index'"
     ]
    }
   ],
   "source": [
    "fuel.index(\"Petrol\")"
   ]
  },
  {
   "cell_type": "code",
   "execution_count": null,
   "metadata": {},
   "outputs": [],
   "source": [
    "mp = [1,2,3,4,5] #python list\n",
    "a = numpy.array(tmp) #numpy array\n",
    "i = list(a).index(2) # "
   ]
  },
  {
   "cell_type": "code",
   "execution_count": 20,
   "metadata": {},
   "outputs": [
    {
     "data": {
      "text/plain": [
       "0"
      ]
     },
     "execution_count": 20,
     "metadata": {},
     "output_type": "execute_result"
    }
   ],
   "source": [
    "list(fuel).index('Petrol')"
   ]
  },
  {
   "cell_type": "code",
   "execution_count": null,
   "metadata": {},
   "outputs": [],
   "source": [
    "have to be the same as the Fueltypecat so that the value is the same as the trained data"
   ]
  },
  {
   "cell_type": "code",
   "execution_count": null,
   "metadata": {},
   "outputs": [],
   "source": [
    "for df[\"Fueltypecat\"] CNG = 0, Diesel= 1, LPG = 2, Petrol=3"
   ]
  },
  {
   "cell_type": "code",
   "execution_count": 40,
   "metadata": {},
   "outputs": [
    {
     "data": {
      "text/plain": [
       "array([3, 1, 0, 2], dtype=int8)"
      ]
     },
     "execution_count": 40,
     "metadata": {},
     "output_type": "execute_result"
    }
   ],
   "source": [
    "df[\"Fueltypecat\"].unique()"
   ]
  },
  {
   "cell_type": "code",
   "execution_count": null,
   "metadata": {},
   "outputs": [],
   "source": [
    "c = language.lang.astype('category')\n",
    "\n",
    "d = dict(enumerate(c.cat.categories))\n",
    "print (d)\n",
    "{0: 'english', 1: 'spanish'}"
   ]
  },
  {
   "cell_type": "code",
   "execution_count": null,
   "metadata": {},
   "outputs": [],
   "source": [
    "f = Fueltypecat"
   ]
  },
  {
   "cell_type": "code",
   "execution_count": 4,
   "metadata": {},
   "outputs": [
    {
     "name": "stdout",
     "output_type": "stream",
     "text": [
      "{0: 'CNG', 1: 'Diesel', 2: 'LPG', 3: 'Petrol'}\n"
     ]
    }
   ],
   "source": [
    "df[\"Fueltype\"]= df[\"Fuel_Type\"].astype('category')\n",
    "f = dict(enumerate(df[\"Fueltype\"].cat.categories))\n",
    "print (f)"
   ]
  },
  {
   "cell_type": "code",
   "execution_count": 5,
   "metadata": {},
   "outputs": [
    {
     "name": "stdout",
     "output_type": "stream",
     "text": [
      "{0: 'Automatic', 1: 'Manual'}\n"
     ]
    }
   ],
   "source": [
    "t = dict(enumerate(df[\"Transmissiontype\"].cat.categories))\n",
    "print (t)"
   ]
  },
  {
   "cell_type": "code",
   "execution_count": 6,
   "metadata": {},
   "outputs": [
    {
     "name": "stdout",
     "output_type": "stream",
     "text": [
      "{0: 'Ambassador', 1: 'Audi', 2: 'BMW', 3: 'Bentley', 4: 'Chevrolet', 5: 'Datsun', 6: 'Fiat', 7: 'Force', 8: 'Ford', 9: 'Honda', 10: 'Hyundai', 11: 'ISUZU', 12: 'Isuzu', 13: 'Jaguar', 14: 'Jeep', 15: 'Lamborghini', 16: 'Land', 17: 'Mahindra', 18: 'Maruti', 19: 'Mercedes-Benz', 20: 'Mini', 21: 'Mitsubishi', 22: 'Nissan', 23: 'Porsche', 24: 'Renault', 25: 'Skoda', 26: 'Tata', 27: 'Toyota', 28: 'Volkswagen', 29: 'Volvo'}\n"
     ]
    }
   ],
   "source": [
    "b = dict(enumerate(df[\"Brandtype\"].cat.categories))\n",
    "print (b)"
   ]
  },
  {
   "cell_type": "code",
   "execution_count": null,
   "metadata": {},
   "outputs": [],
   "source": [
    "fuellist = list(df[\"Fuel_Type\"].unique())\n",
    "fuel = fuellist.index(fuelchoose)"
   ]
  },
  {
   "cell_type": "code",
   "execution_count": 14,
   "metadata": {},
   "outputs": [],
   "source": [
    "fuelchoose = 'Petrol'"
   ]
  },
  {
   "cell_type": "code",
   "execution_count": 10,
   "metadata": {},
   "outputs": [
    {
     "data": {
      "text/plain": [
       "{'CNG': 0, 'Diesel': 1, 'LPG': 2, 'Petrol': 3}"
      ]
     },
     "execution_count": 10,
     "metadata": {},
     "output_type": "execute_result"
    }
   ],
   "source": [
    "reversed_dictionary = dict(map(reversed, f.items()))\n",
    "reversed_dictionary"
   ]
  },
  {
   "cell_type": "code",
   "execution_count": 12,
   "metadata": {},
   "outputs": [
    {
     "data": {
      "text/plain": [
       "3"
      ]
     },
     "execution_count": 12,
     "metadata": {},
     "output_type": "execute_result"
    }
   ],
   "source": [
    "reversed_dictionary['Petrol']"
   ]
  },
  {
   "cell_type": "code",
   "execution_count": null,
   "metadata": {},
   "outputs": [],
   "source": [
    "x = [key for key in areas if input_area in areas[key]]\n",
    "\n",
    "print(x)"
   ]
  },
  {
   "cell_type": "code",
   "execution_count": null,
   "metadata": {},
   "outputs": [],
   "source": [
    "areas={     '1':['a', 'b'],\n",
    "            '2':['c', 'd', 'e'],\n",
    "            '3':['f' 'g', 'h', 'i','j', 'k' ],\n",
    "            '4': ['l', 'm','n'],\n",
    "            '5': ['o' , 'o', 'q', 'r' 's' 't']\n",
    "           }\n",
    "\n",
    "So far, i've tried this, but in both cases I get an empty value (result is []), instead of '2'.\n",
    "\n",
    "input_area='c'\n",
    "x=[key for key in areas_dict if input_area in areas_dict.values()]\n",
    "x\n",
    "\n",
    "input_area='c'\n",
    "x=[k for k, v in areas_dict.items() if input_area==v]\n",
    "x\n"
   ]
  },
  {
   "cell_type": "code",
   "execution_count": 15,
   "metadata": {},
   "outputs": [
    {
     "name": "stdout",
     "output_type": "stream",
     "text": [
      "[3]\n"
     ]
    }
   ],
   "source": [
    "fuel = [key for key in f if fuelchoose in f[key]]\n",
    "print (fuel)"
   ]
  },
  {
   "cell_type": "code",
   "execution_count": 16,
   "metadata": {},
   "outputs": [
    {
     "data": {
      "text/plain": [
       "[3]"
      ]
     },
     "execution_count": 16,
     "metadata": {},
     "output_type": "execute_result"
    }
   ],
   "source": [
    "fuel"
   ]
  },
  {
   "cell_type": "code",
   "execution_count": null,
   "metadata": {},
   "outputs": [],
   "source": []
  },
  {
   "cell_type": "code",
   "execution_count": null,
   "metadata": {},
   "outputs": [],
   "source": []
  },
  {
   "cell_type": "code",
   "execution_count": 26,
   "metadata": {},
   "outputs": [
    {
     "data": {
      "text/plain": [
       "array(['Manual', 'Automatic'], dtype=object)"
      ]
     },
     "execution_count": 26,
     "metadata": {},
     "output_type": "execute_result"
    }
   ],
   "source": [
    "df[\"Transmission\"].unique()"
   ]
  },
  {
   "cell_type": "code",
   "execution_count": 27,
   "metadata": {},
   "outputs": [
    {
     "data": {
      "text/plain": [
       "array([1, 0], dtype=int8)"
      ]
     },
     "execution_count": 27,
     "metadata": {},
     "output_type": "execute_result"
    }
   ],
   "source": [
    "df[\"Transmissiontypecat\"].unique()"
   ]
  },
  {
   "cell_type": "code",
   "execution_count": 21,
   "metadata": {},
   "outputs": [
    {
     "data": {
      "text/plain": [
       "0"
      ]
     },
     "execution_count": 21,
     "metadata": {},
     "output_type": "execute_result"
    }
   ],
   "source": [
    "list(df[\"Transmission\"].unique()).index(\"Manual\")\n",
    "# according to Transmission column, Manual is 0 and Automatic is 1??"
   ]
  },
  {
   "cell_type": "code",
   "execution_count": 22,
   "metadata": {},
   "outputs": [
    {
     "data": {
      "text/plain": [
       "0       1\n",
       "1       1\n",
       "2       0\n",
       "3       1\n",
       "4       0\n",
       "       ..\n",
       "4902    1\n",
       "4903    0\n",
       "4904    0\n",
       "4905    1\n",
       "4906    1\n",
       "Name: Transmissiontypecat, Length: 4907, dtype: int8"
      ]
     },
     "execution_count": 22,
     "metadata": {},
     "output_type": "execute_result"
    }
   ],
   "source": [
    "df[\"Transmissiontypecat\"]"
   ]
  },
  {
   "cell_type": "code",
   "execution_count": 23,
   "metadata": {},
   "outputs": [
    {
     "data": {
      "text/plain": [
       "1"
      ]
     },
     "execution_count": 23,
     "metadata": {},
     "output_type": "execute_result"
    }
   ],
   "source": [
    "df[\"Transmissiontypecat\"][0]"
   ]
  },
  {
   "cell_type": "code",
   "execution_count": 25,
   "metadata": {},
   "outputs": [
    {
     "ename": "AttributeError",
     "evalue": "'numpy.int8' object has no attribute 'values'",
     "output_type": "error",
     "traceback": [
      "\u001b[0;31m---------------------------------------------------------------------------\u001b[0m",
      "\u001b[0;31mAttributeError\u001b[0m                            Traceback (most recent call last)",
      "\u001b[0;32m<ipython-input-25-0eb52c30f3d5>\u001b[0m in \u001b[0;36m<module>\u001b[0;34m\u001b[0m\n\u001b[0;32m----> 1\u001b[0;31m \u001b[0mdf\u001b[0m\u001b[0;34m[\u001b[0m\u001b[0;34m\"Transmissiontypecat\"\u001b[0m\u001b[0;34m]\u001b[0m\u001b[0;34m[\u001b[0m\u001b[0;36m0\u001b[0m\u001b[0;34m]\u001b[0m\u001b[0;34m.\u001b[0m\u001b[0mvalues\u001b[0m\u001b[0;34m\u001b[0m\u001b[0;34m\u001b[0m\u001b[0m\n\u001b[0m",
      "\u001b[0;31mAttributeError\u001b[0m: 'numpy.int8' object has no attribute 'values'"
     ]
    }
   ],
   "source": [
    "df[\"Transmissiontypecat\"][0].values"
   ]
  },
  {
   "cell_type": "code",
   "execution_count": null,
   "metadata": {},
   "outputs": [],
   "source": []
  }
 ],
 "metadata": {
  "kernelspec": {
   "display_name": "Python 3",
   "language": "python",
   "name": "python3"
  },
  "language_info": {
   "codemirror_mode": {
    "name": "ipython",
    "version": 3
   },
   "file_extension": ".py",
   "mimetype": "text/x-python",
   "name": "python",
   "nbconvert_exporter": "python",
   "pygments_lexer": "ipython3",
   "version": "3.8.6"
  }
 },
 "nbformat": 4,
 "nbformat_minor": 4
}
