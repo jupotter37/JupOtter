{
 "cells": [
  {
   "cell_type": "code",
   "execution_count": 3,
   "id": "b3f11758-a3e4-4b4b-8217-0c1bc95194ab",
   "metadata": {},
   "outputs": [
    {
     "name": "stdout",
     "output_type": "stream",
     "text": [
      "[10, 20, 30, 40, 50, 60, 70]\n",
      "[10, 20, 500, 40, 50, 60, 70]\n"
     ]
    }
   ],
   "source": [
    "#how to replace an elements in an existing list\n",
    "x=[10,20,30,40,50,60,70];\n",
    "print(x);\n",
    "x[2]=500\n",
    "print(x)"
   ]
  },
  {
   "cell_type": "code",
   "execution_count": 7,
   "id": "b4918d4d-8817-44f1-ad03-41cc023e50b5",
   "metadata": {},
   "outputs": [
    {
     "name": "stdout",
     "output_type": "stream",
     "text": [
      "[10, 20, 30, 40, 50, 60, 70, 80, 90, 120, 130, 140, 160]\n",
      "[10, 20, 30, 40, 50, 60, 70, 80, 90, 120, 130, 140]\n",
      "[10, 20, 40, 50, 60, 70, 80, 90, 120, 130, 140]\n"
     ]
    }
   ],
   "source": [
    "#delete the last elements of list using pop()\n",
    "abc=[10,20,30,40,50,60,70,80,90,120,130,140,160];\n",
    "print(abc)\n",
    "abc.pop()\n",
    "print(abc)\n",
    "abc.pop(2)\n",
    "print(abc)"
   ]
  },
  {
   "cell_type": "code",
   "execution_count": 11,
   "id": "2c6b250e-6efe-4433-87e4-fe65bc517845",
   "metadata": {},
   "outputs": [
    {
     "name": "stdout",
     "output_type": "stream",
     "text": [
      "[40, 60, 2, 90, 120, 900, 160]\n",
      "[160, 900, 120, 90, 2, 60, 40]\n",
      "[900, 120, 90]\n",
      "[900, 120, 90, 2, 60]\n"
     ]
    }
   ],
   "source": [
    "pqr=[40,60,2,90,120,900,160];\n",
    "print(pqr);\n",
    "print(pqr[::-1])\n",
    "print(pqr[5:2:-1])\n",
    "print(pqr[5:0:-1])"
   ]
  },
  {
   "cell_type": "code",
   "execution_count": 13,
   "id": "24ff373f-9fe1-4a69-9c36-b219b65fff71",
   "metadata": {},
   "outputs": [
    {
     "name": "stdout",
     "output_type": "stream",
     "text": [
      "ATGCGTAGCGATGCGATGCGATAGTTTTTTTT\n",
      "TTTTTTTTGATAGCGTAGCGTAGCGATGCGTA\n"
     ]
    }
   ],
   "source": [
    "x=\"ATGCGTAGCGATGCGATGCGATAGTTTTTTTT\"\n",
    "print(x)\n",
    "print(x[::-1])"
   ]
  },
  {
   "cell_type": "code",
   "execution_count": 18,
   "id": "97c0f186-37d7-490a-92a4-4a111ced52a2",
   "metadata": {},
   "outputs": [
    {
     "name": "stdout",
     "output_type": "stream",
     "text": [
      "90\n",
      "80\n",
      "[40, 50, 60, 70, 80]\n",
      "[40, 50, 60, 70, 80, 90]\n"
     ]
    }
   ],
   "source": [
    "xyz=[10,20,30,40,50,60,70,80,90]\n",
    "print(xyz[-1])\n",
    "print(xyz[-2])\n",
    "print(xyz[-6:-1])\n",
    "len(xyz)\n",
    "print(xyz[-6:len(xyz)])"
   ]
  },
  {
   "cell_type": "code",
   "execution_count": 20,
   "id": "341c9469-030b-4be5-9362-5e678fb51d48",
   "metadata": {},
   "outputs": [
    {
     "name": "stdout",
     "output_type": "stream",
     "text": [
      "[40, 60, 50, 60, 70, 80]\n"
     ]
    }
   ],
   "source": [
    "#copy a list and stoe it another variable\n",
    "pqr=[40,60,50,60,70,80]\n",
    "lmn=pqr.copy()\n",
    "#print(pqr)\n",
    "print(lmn)"
   ]
  },
  {
   "cell_type": "code",
   "execution_count": 23,
   "id": "9cd6954c-c95b-420f-89bd-83642c1ef245",
   "metadata": {},
   "outputs": [
    {
     "name": "stdout",
     "output_type": "stream",
     "text": [
      "[70, 80, 90]\n",
      "[70, 80, 90]\n",
      "[70, 80, 90, 120, 140, 50]\n",
      "[70, 80, 90]\n"
     ]
    }
   ],
   "source": [
    "pqr=[70,80,90]\n",
    "print(pqr);\n",
    "a1=pqr;\n",
    "print(a1)\n",
    "pqr=pqr+[120,140,50];\n",
    "print(pqr)\n",
    "print(a1)"
   ]
  },
  {
   "cell_type": "code",
   "execution_count": 22,
   "id": "5c69cf4d-3329-4454-b091-29d302c47f5c",
   "metadata": {},
   "outputs": [
    {
     "name": "stdout",
     "output_type": "stream",
     "text": [
      "[40, 50, 60, 70, 80, 90]\n",
      "[]\n"
     ]
    }
   ],
   "source": [
    "#empty a list\n",
    "abc=[40,50,60,70,80,90]\n",
    "print(abc)\n",
    "abc.clear()\n",
    "print(abc)\n"
   ]
  },
  {
   "cell_type": "code",
   "execution_count": 24,
   "id": "c3522760-a075-448f-a020-3d3cf2242510",
   "metadata": {},
   "outputs": [
    {
     "name": "stdout",
     "output_type": "stream",
     "text": [
      "3\n"
     ]
    }
   ],
   "source": [
    "abc=[40,50,60,70,80,90]\n",
    "print(abc.index(70))"
   ]
  },
  {
   "cell_type": "code",
   "execution_count": 25,
   "id": "db08c385-fdb3-4fef-ab36-a95b28b57e46",
   "metadata": {},
   "outputs": [
    {
     "name": "stdout",
     "output_type": "stream",
     "text": [
      "20\n"
     ]
    }
   ],
   "source": [
    "#sum function\n",
    "abc=[2,3,4,5,6]\n",
    "print(sum(abc))"
   ]
  },
  {
   "cell_type": "code",
   "execution_count": 30,
   "id": "3da6c40c-51c8-42c1-9aa9-b60f9f2ec562",
   "metadata": {},
   "outputs": [
    {
     "name": "stdout",
     "output_type": "stream",
     "text": [
      "welcome to python class\n",
      "w\n",
      "welcome t\n"
     ]
    }
   ],
   "source": [
    "x=\"welcome to python class\"\n",
    "print(x)\n",
    "print(x[0])\n",
    "print(x[0:9])"
   ]
  },
  {
   "cell_type": "code",
   "execution_count": 34,
   "id": "61338ba4-fd86-4129-b3b1-554d8d137b86",
   "metadata": {},
   "outputs": [
    {
     "name": "stdout",
     "output_type": "stream",
     "text": [
      "happy new year\n",
      "2025\n",
      "happy new year\t2025\n"
     ]
    }
   ],
   "source": [
    "x=\"happy new year\"\n",
    "y=2025\n",
    "print(x)\n",
    "print(y)\n",
    "print(\"%s\\t%d\" %(x, y)) #string formatting"
   ]
  },
  {
   "cell_type": "code",
   "execution_count": 37,
   "id": "ef50d5dd-b1a5-4d34-9fd0-ff6118f8af77",
   "metadata": {},
   "outputs": [
    {
     "name": "stdout",
     "output_type": "stream",
     "text": [
      "['bio', 'info', 'matics', ':']\n"
     ]
    }
   ],
   "source": [
    "#difference between append() and join()\n",
    "#join\n",
    "x1=[\"bio\",\"info\",\"matics\"]\n",
    "x2=\":\"\n",
    "x2.join(x1)\n",
    "\n",
    "#append\n",
    "print(x1+[x2])"
   ]
  },
  {
   "cell_type": "code",
   "execution_count": 38,
   "id": "22a92a8b-3c34-451d-a8c2-880c9542e95d",
   "metadata": {
    "scrolled": true
   },
   "outputs": [
    {
     "name": "stdout",
     "output_type": "stream",
     "text": [
      "BIOINFORMATICS\n",
      "biotechnology\n"
     ]
    }
   ],
   "source": [
    "x=\"bioinformatics\"\n",
    "y=\"BIOTECHNOLOGY\"\n",
    "print(x.upper())\n",
    "print(y.lower())"
   ]
  },
  {
   "cell_type": "code",
   "execution_count": 45,
   "id": "1c64c07a-0029-44da-b09e-cd29514fdbee",
   "metadata": {},
   "outputs": [
    {
     "name": "stdout",
     "output_type": "stream",
     "text": [
      "\n",
      "Dear Gunjiii\n",
      "this is multiple line comments\n",
      "line one\n",
      "line two\n",
      "\n",
      "D\n",
      "\n",
      "Dear G\n"
     ]
    }
   ],
   "source": [
    "#paragraph\n",
    "x=\"\"\"\n",
    "Dear Gunjiii\n",
    "this is multiple line paragrph\n",
    "line one\n",
    "line two\n",
    "\"\"\"\n",
    "print(x)\n",
    "print(x[1])\n",
    "print(x[0:7])"
   ]
  },
  {
   "cell_type": "code",
   "execution_count": 53,
   "id": "43a49e73-4637-43a6-8120-a2c522ea77f0",
   "metadata": {
    "scrolled": true
   },
   "outputs": [
    {
     "name": "stdout",
     "output_type": "stream",
     "text": [
      "(10, 20, 30, 40, 50, 60, 70, 80, 90, 120, 140, 160)\n",
      "10\n",
      "30\n",
      "(30, 40, 50, 60, 70)\n"
     ]
    }
   ],
   "source": [
    "#tuple\n",
    "#how to create a tuple\n",
    "#how to fetch elements from a tuple\n",
    "x=(10,20,30,40,50,60,70,80,90,120,140,160)\n",
    "print(x)\n",
    "print(x[0])\n",
    "print(x[2])\n",
    "print(x[2:7])\n",
    "\n",
    "\n",
    "#tuple dont delete, remove or replace mtlb we cant modify once it is created unlike list"
   ]
  },
  {
   "cell_type": "code",
   "execution_count": 55,
   "id": "874319f4-52d9-4cdd-bfa2-c4fc46476c3f",
   "metadata": {},
   "outputs": [
    {
     "name": "stdout",
     "output_type": "stream",
     "text": [
      "(10, 20, 30, 40, 50, 60, 70, 80, 90, 100)\n"
     ]
    },
    {
     "ename": "TypeError",
     "evalue": "'tuple' object doesn't support item deletion",
     "output_type": "error",
     "traceback": [
      "\u001b[1;31m---------------------------------------------------------------------------\u001b[0m",
      "\u001b[1;31mTypeError\u001b[0m                                 Traceback (most recent call last)",
      "Cell \u001b[1;32mIn[55], line 3\u001b[0m\n\u001b[0;32m      1\u001b[0m abc\u001b[38;5;241m=\u001b[39m(\u001b[38;5;241m10\u001b[39m,\u001b[38;5;241m20\u001b[39m,\u001b[38;5;241m30\u001b[39m,\u001b[38;5;241m40\u001b[39m,\u001b[38;5;241m50\u001b[39m,\u001b[38;5;241m60\u001b[39m,\u001b[38;5;241m70\u001b[39m,\u001b[38;5;241m80\u001b[39m,\u001b[38;5;241m90\u001b[39m,\u001b[38;5;241m100\u001b[39m)\n\u001b[0;32m      2\u001b[0m \u001b[38;5;28mprint\u001b[39m(abc)\n\u001b[1;32m----> 3\u001b[0m \u001b[38;5;28;01mdel\u001b[39;00m \u001b[43mabc\u001b[49m\u001b[43m[\u001b[49m\u001b[38;5;241;43m1\u001b[39;49m\u001b[43m]\u001b[49m\n\u001b[0;32m      4\u001b[0m abc\u001b[38;5;241m.\u001b[39mremove(\u001b[38;5;241m40\u001b[39m)\n\u001b[0;32m      5\u001b[0m abc[\u001b[38;5;241m3\u001b[39m]\u001b[38;5;241m=\u001b[39m\u001b[38;5;241m600\u001b[39m\n",
      "\u001b[1;31mTypeError\u001b[0m: 'tuple' object doesn't support item deletion"
     ]
    }
   ],
   "source": [
    "#we can not delete elements from tuple\n",
    "abc=(10,20,30,40,50,60,70,80,90,100)\n",
    "print(abc)\n",
    "del abc[1]"
   ]
  },
  {
   "cell_type": "code",
   "execution_count": 58,
   "id": "c18ed14b-ee48-42b3-91d5-72dc9e5b32ad",
   "metadata": {},
   "outputs": [
    {
     "ename": "AttributeError",
     "evalue": "'tuple' object has no attribute 'remove'",
     "output_type": "error",
     "traceback": [
      "\u001b[1;31m---------------------------------------------------------------------------\u001b[0m",
      "\u001b[1;31mAttributeError\u001b[0m                            Traceback (most recent call last)",
      "Cell \u001b[1;32mIn[58], line 2\u001b[0m\n\u001b[0;32m      1\u001b[0m abc\u001b[38;5;241m=\u001b[39m(\u001b[38;5;241m10\u001b[39m,\u001b[38;5;241m20\u001b[39m,\u001b[38;5;241m30\u001b[39m,\u001b[38;5;241m40\u001b[39m,\u001b[38;5;241m50\u001b[39m,\u001b[38;5;241m60\u001b[39m,\u001b[38;5;241m70\u001b[39m,\u001b[38;5;241m80\u001b[39m,\u001b[38;5;241m90\u001b[39m,\u001b[38;5;241m100\u001b[39m)\n\u001b[1;32m----> 2\u001b[0m \u001b[43mabc\u001b[49m\u001b[38;5;241;43m.\u001b[39;49m\u001b[43mremove\u001b[49m(\u001b[38;5;241m40\u001b[39m)\n\u001b[0;32m      3\u001b[0m \u001b[38;5;28mprint\u001b[39m(abc)\n",
      "\u001b[1;31mAttributeError\u001b[0m: 'tuple' object has no attribute 'remove'"
     ]
    }
   ],
   "source": [
    "#we can not remove any elements from tupple\n",
    "abc=(10,20,30,40,50,60,70,80,90,100)\n",
    "abc.remove(40)\n",
    "print(abc)"
   ]
  },
  {
   "cell_type": "code",
   "execution_count": 59,
   "id": "d6415cd8-7f4a-48b5-a7a0-f7496aedb0f2",
   "metadata": {},
   "outputs": [
    {
     "ename": "TypeError",
     "evalue": "'tuple' object does not support item assignment",
     "output_type": "error",
     "traceback": [
      "\u001b[1;31m---------------------------------------------------------------------------\u001b[0m",
      "\u001b[1;31mTypeError\u001b[0m                                 Traceback (most recent call last)",
      "Cell \u001b[1;32mIn[59], line 2\u001b[0m\n\u001b[0;32m      1\u001b[0m abc\u001b[38;5;241m=\u001b[39m(\u001b[38;5;241m10\u001b[39m,\u001b[38;5;241m20\u001b[39m,\u001b[38;5;241m30\u001b[39m,\u001b[38;5;241m40\u001b[39m,\u001b[38;5;241m50\u001b[39m,\u001b[38;5;241m60\u001b[39m,\u001b[38;5;241m70\u001b[39m,\u001b[38;5;241m80\u001b[39m,\u001b[38;5;241m90\u001b[39m,\u001b[38;5;241m100\u001b[39m)\n\u001b[1;32m----> 2\u001b[0m \u001b[43mabc\u001b[49m\u001b[43m[\u001b[49m\u001b[38;5;241;43m3\u001b[39;49m\u001b[43m]\u001b[49m\u001b[38;5;241m=\u001b[39m\u001b[38;5;241m600\u001b[39m\n\u001b[0;32m      3\u001b[0m \u001b[38;5;28mprint\u001b[39m(abc)\n",
      "\u001b[1;31mTypeError\u001b[0m: 'tuple' object does not support item assignment"
     ]
    }
   ],
   "source": [
    "#we can not replace any elements from tupple\n",
    "abc=(10,20,30,40,50,60,70,80,90,100)\n",
    "abc[3]=600\n",
    "print(abc)"
   ]
  },
  {
   "cell_type": "code",
   "execution_count": 60,
   "id": "c849ae14-ee63-487b-abf4-fc2a98bb717d",
   "metadata": {},
   "outputs": [
    {
     "name": "stdout",
     "output_type": "stream",
     "text": [
      "(10, 20, 30, 40, 50, 60, 70, 90, 120, 130)\n"
     ]
    }
   ],
   "source": [
    "xyz=(10,20,30,40,50,60,70)\n",
    "xyz=xyz+(90,120,130)\n",
    "print(xyz)"
   ]
  },
  {
   "cell_type": "code",
   "execution_count": 61,
   "id": "0143963b-8d60-4c77-b339-fbe5fb6aa837",
   "metadata": {},
   "outputs": [
    {
     "ename": "AttributeError",
     "evalue": "'tuple' object has no attribute 'insert'",
     "output_type": "error",
     "traceback": [
      "\u001b[1;31m---------------------------------------------------------------------------\u001b[0m",
      "\u001b[1;31mAttributeError\u001b[0m                            Traceback (most recent call last)",
      "Cell \u001b[1;32mIn[61], line 2\u001b[0m\n\u001b[0;32m      1\u001b[0m xyz\u001b[38;5;241m=\u001b[39m(\u001b[38;5;241m10\u001b[39m,\u001b[38;5;241m20\u001b[39m,\u001b[38;5;241m30\u001b[39m,\u001b[38;5;241m40\u001b[39m,\u001b[38;5;241m50\u001b[39m,\u001b[38;5;241m60\u001b[39m,\u001b[38;5;241m70\u001b[39m)\n\u001b[1;32m----> 2\u001b[0m \u001b[43mxyz\u001b[49m\u001b[38;5;241;43m.\u001b[39;49m\u001b[43minsert\u001b[49m(\u001b[38;5;241m3\u001b[39m,\u001b[38;5;241m50\u001b[39m)\n",
      "\u001b[1;31mAttributeError\u001b[0m: 'tuple' object has no attribute 'insert'"
     ]
    }
   ],
   "source": [
    "#we can not insert any elements into an existing tuple\n",
    "xyz=(10,20,30,40,50,60,70)\n",
    "xyz.insert(3,50)"
   ]
  },
  {
   "cell_type": "code",
   "execution_count": 62,
   "id": "a25f81d8-0007-46a8-9384-fff20721f677",
   "metadata": {},
   "outputs": [
    {
     "ename": "AttributeError",
     "evalue": "'tuple' object has no attribute 'append'",
     "output_type": "error",
     "traceback": [
      "\u001b[1;31m---------------------------------------------------------------------------\u001b[0m",
      "\u001b[1;31mAttributeError\u001b[0m                            Traceback (most recent call last)",
      "Cell \u001b[1;32mIn[62], line 2\u001b[0m\n\u001b[0;32m      1\u001b[0m xyz\u001b[38;5;241m=\u001b[39m(\u001b[38;5;241m10\u001b[39m,\u001b[38;5;241m20\u001b[39m,\u001b[38;5;241m30\u001b[39m,\u001b[38;5;241m40\u001b[39m,\u001b[38;5;241m50\u001b[39m,\u001b[38;5;241m60\u001b[39m,\u001b[38;5;241m70\u001b[39m)\n\u001b[1;32m----> 2\u001b[0m \u001b[43mxyz\u001b[49m\u001b[38;5;241;43m.\u001b[39;49m\u001b[43mappend\u001b[49m((\u001b[38;5;241m500\u001b[39m,\u001b[38;5;241m600\u001b[39m,\u001b[38;5;241m700\u001b[39m))\n\u001b[0;32m      3\u001b[0m \u001b[38;5;28mprint\u001b[39m(xyz)\n",
      "\u001b[1;31mAttributeError\u001b[0m: 'tuple' object has no attribute 'append'"
     ]
    }
   ],
   "source": [
    "xyz=(10,20,30,40,50,60,70)\n",
    "xyz.append((500,600,700))\n",
    "print(xyz)"
   ]
  },
  {
   "cell_type": "code",
   "execution_count": 64,
   "id": "8aa0045d-5092-4fad-b0ac-d8706301a819",
   "metadata": {},
   "outputs": [
    {
     "name": "stdout",
     "output_type": "stream",
     "text": [
      "(10, 20, (120, 130, 140, 150), 30, 40, 50, 60, 70)\n",
      "130\n"
     ]
    }
   ],
   "source": [
    "xyz=(10,20,(120,130,140,150),30,40,50,60,70)\n",
    "print(xyz)\n",
    "\n",
    "print(xyz[2][1])"
   ]
  },
  {
   "cell_type": "code",
   "execution_count": 68,
   "id": "db3789ba-80f3-42da-823f-78e6d49e35e7",
   "metadata": {},
   "outputs": [
    {
     "name": "stdout",
     "output_type": "stream",
     "text": [
      "(10, 20, [120, 140, (5200, 5400), 160, 170], 30, (500, 600, 800), 40, 50, (1900, [3100, 3200, 3300], 1200, 1600), 60, 70)\n",
      "(10, 20, [120, 900, 140, (5200, 5400), 160, 170], 30, (500, 600, 800), 40, 50, (1900, [3100, 3200, 3300], 1200, 1600), 60, 70)\n"
     ]
    },
    {
     "ename": "AttributeError",
     "evalue": "'tuple' object has no attribute 'insert'",
     "output_type": "error",
     "traceback": [
      "\u001b[1;31m---------------------------------------------------------------------------\u001b[0m",
      "\u001b[1;31mAttributeError\u001b[0m                            Traceback (most recent call last)",
      "Cell \u001b[1;32mIn[68], line 6\u001b[0m\n\u001b[0;32m      4\u001b[0m abc[\u001b[38;5;241m2\u001b[39m]\u001b[38;5;241m.\u001b[39minsert(\u001b[38;5;241m1\u001b[39m,\u001b[38;5;241m900\u001b[39m)\n\u001b[0;32m      5\u001b[0m \u001b[38;5;28mprint\u001b[39m(abc)\n\u001b[1;32m----> 6\u001b[0m \u001b[43mabc\u001b[49m\u001b[38;5;241;43m.\u001b[39;49m\u001b[43minsert\u001b[49m(\u001b[38;5;241m1\u001b[39m,\u001b[38;5;241m800\u001b[39m)\n\u001b[0;32m      7\u001b[0m \u001b[38;5;28mprint\u001b[39m(abc)\n",
      "\u001b[1;31mAttributeError\u001b[0m: 'tuple' object has no attribute 'insert'"
     ]
    }
   ],
   "source": [
    "#we can insert list inside tuple\n",
    "abc=(10,20,[120,140,(5200,5400),160,170],30,(500,600,800),40,50,(1900,[3100,3200,3300],1200,1600),60,70)\n",
    "print(abc)\n",
    "abc[2].insert(1,900) #here this worked because we are using insert function with list\n",
    "print(abc)\n",
    "abc.insert(1,800) #but here we trying to use function with tuple\n",
    "print(abc)"
   ]
  },
  {
   "cell_type": "code",
   "execution_count": 69,
   "id": "293cdd10-d9e1-4620-ac52-f3a9272d073b",
   "metadata": {},
   "outputs": [
    {
     "name": "stdout",
     "output_type": "stream",
     "text": [
      "(10, 20, [120, 140, (5200, 5400), 160, 170], 30, (500, 600, 800), 40, 50, (1900, [3100, 3200, 3300], 1200, 1600), 60, 70)\n",
      "(10, 20, [120, 140, (5200, 5400), 160, 170], 30, (500, 600, 800), 40, 50, (1900, [3100, 3300], 1200, 1600), 60, 70)\n"
     ]
    }
   ],
   "source": [
    "abc=(10,20,[120,140,(5200,5400),160,170],30,(500,600,800),40,50,(1900,[3100,3200,3300],1200,1600),60,70)\n",
    "print(abc)\n",
    "del abc[7][1][1]\n",
    "print(abc)\n"
   ]
  },
  {
   "cell_type": "code",
   "execution_count": 70,
   "id": "d206112d-30c5-4880-8628-4b576f516a73",
   "metadata": {},
   "outputs": [
    {
     "name": "stdout",
     "output_type": "stream",
     "text": [
      "1\n",
      "2\n"
     ]
    }
   ],
   "source": [
    "abc=(10,20,[120,140,(5200,5400),160,170],30,(500,600,800),40,50,(1900,[3100,3200,3300],1200,1600),60,70)\n",
    "print(abc.index(20))\n",
    "print(abc[7][1].index(3300))"
   ]
  },
  {
   "cell_type": "code",
   "execution_count": null,
   "id": "4bb2db33-b744-41e5-90cc-29017a9395fb",
   "metadata": {},
   "outputs": [],
   "source": []
  }
 ],
 "metadata": {
  "kernelspec": {
   "display_name": "Python 3 (ipykernel)",
   "language": "python",
   "name": "python3"
  },
  "language_info": {
   "codemirror_mode": {
    "name": "ipython",
    "version": 3
   },
   "file_extension": ".py",
   "mimetype": "text/x-python",
   "name": "python",
   "nbconvert_exporter": "python",
   "pygments_lexer": "ipython3",
   "version": "3.12.6"
  }
 },
 "nbformat": 4,
 "nbformat_minor": 5
}
