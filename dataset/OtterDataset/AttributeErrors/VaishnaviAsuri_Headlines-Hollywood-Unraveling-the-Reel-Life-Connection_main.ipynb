{
 "cells": [
  {
   "cell_type": "code",
   "execution_count": 1,
   "id": "430081f3",
   "metadata": {},
   "outputs": [
    {
     "name": "stdout",
     "output_type": "stream",
     "text": [
      "Collecting python-dotenv\n",
      "  Downloading python_dotenv-1.0.0-py3-none-any.whl (19 kB)\n",
      "Installing collected packages: python-dotenv\n",
      "Successfully installed python-dotenv-1.0.0\n"
     ]
    }
   ],
   "source": [
    "!pip install python-dotenv"
   ]
  },
  {
   "cell_type": "code",
   "execution_count": 48,
   "id": "1443874d",
   "metadata": {},
   "outputs": [
    {
     "name": "stdout",
     "output_type": "stream",
     "text": [
      "env: CLIENT_ID=\"d11f46cce25b48f49d3d0ca5995d6c7e\"\n",
      "env: CLIENT_SECRET=\"6683ebe398394dc4ad758f6b070aeea2\"\n"
     ]
    }
   ],
   "source": [
    "%set_env CLIENT_ID= \"d11f46cce25b48f49d3d0ca5995d6c7e\"\n",
    "%set_env CLIENT_SECRET= \"6683ebe398394dc4ad758f6b070aeea2\""
   ]
  },
  {
   "cell_type": "code",
   "execution_count": 3,
   "id": "d862ad52",
   "metadata": {},
   "outputs": [
    {
     "name": "stdout",
     "output_type": "stream",
     "text": [
      "Requirement already satisfied: requests in c:\\users\\asuri\\anaconda3\\lib\\site-packages (2.28.1)\n",
      "Requirement already satisfied: urllib3<1.27,>=1.21.1 in c:\\users\\asuri\\anaconda3\\lib\\site-packages (from requests) (1.26.11)\n",
      "Requirement already satisfied: charset-normalizer<3,>=2 in c:\\users\\asuri\\anaconda3\\lib\\site-packages (from requests) (2.0.4)\n",
      "Requirement already satisfied: certifi>=2017.4.17 in c:\\users\\asuri\\anaconda3\\lib\\site-packages (from requests) (2022.9.14)\n",
      "Requirement already satisfied: idna<4,>=2.5 in c:\\users\\asuri\\anaconda3\\lib\\site-packages (from requests) (3.3)\n",
      "Note: you may need to restart the kernel to use updated packages.\n"
     ]
    }
   ],
   "source": [
    "pip install requests"
   ]
  },
  {
   "cell_type": "code",
   "execution_count": 4,
   "id": "7497d8fe",
   "metadata": {},
   "outputs": [],
   "source": [
    "from dotenv import load_dotenv"
   ]
  },
  {
   "cell_type": "code",
   "execution_count": 6,
   "id": "8ccb217a",
   "metadata": {},
   "outputs": [
    {
     "data": {
      "text/plain": [
       "<function dotenv.main.load_dotenv(dotenv_path: Union[str, ForwardRef('os.PathLike[str]'), NoneType] = None, stream: Optional[IO[str]] = None, verbose: bool = False, override: bool = False, interpolate: bool = True, encoding: Optional[str] = 'utf-8') -> bool>"
      ]
     },
     "execution_count": 6,
     "metadata": {},
     "output_type": "execute_result"
    }
   ],
   "source": [
    "load_dotenv"
   ]
  },
  {
   "cell_type": "code",
   "execution_count": 39,
   "id": "99dae5c7",
   "metadata": {},
   "outputs": [],
   "source": [
    "import os\n",
    "import base64\n",
    "import json\n"
   ]
  },
  {
   "cell_type": "code",
   "execution_count": 19,
   "id": "ddb68b9e",
   "metadata": {},
   "outputs": [],
   "source": [
    "from requests import post"
   ]
  },
  {
   "cell_type": "code",
   "execution_count": 52,
   "id": "9bbe8ba5",
   "metadata": {},
   "outputs": [],
   "source": [
    "client_id = os.getenv(\"CLIENT_ID\")\n",
    "client_secret = os.getenv(\"CLIENT_SECRET\")"
   ]
  },
  {
   "cell_type": "code",
   "execution_count": 53,
   "id": "1d4524e1",
   "metadata": {},
   "outputs": [
    {
     "name": "stdout",
     "output_type": "stream",
     "text": [
      "\"d11f46cce25b48f49d3d0ca5995d6c7e\" \"6683ebe398394dc4ad758f6b070aeea2\"\n"
     ]
    }
   ],
   "source": [
    "print(client_id,client_secret)"
   ]
  },
  {
   "cell_type": "code",
   "execution_count": 54,
   "id": "d0089063",
   "metadata": {},
   "outputs": [],
   "source": [
    "def get_token():\n",
    "    auth_string = client_id +\":\" +client_secret\n",
    "    auth_bytes= auth_string.encode(\"utf-8\")\n",
    "    auth_base64 = str(base64.b64encode(auth_bytes),\"utf-8\")\n",
    "    url = \"https://accounts.spotify.com/api/token\"\n",
    "    headers = {\n",
    "    \"Authorization\" : \"basic\" +auth_base64,\n",
    "    \"Content-Type\" :\"application/x-www-form-urlencoded\"\n",
    "            }\n",
    "\n",
    "    data ={\"grant_type\": \"client_credentials\"}\n",
    "    result = post(url, headers=headers, data=data)\n",
    "    json_result= json.loads(result.content)\n",
    "    token =json_result[\"access_token\"]\n",
    "    return token\n",
    "    "
   ]
  },
  {
   "cell_type": "code",
   "execution_count": 55,
   "id": "f9b98d11",
   "metadata": {},
   "outputs": [],
   "source": [
    "auth_string = client_id +\":\" +client_secret\n",
    "auth_bytes= auth_string.encode(\"utf-8\")\n",
    "auth_base64 = str(base64.b64encode(auth_bytes),\"utf-8\")\n",
    "url = \"https://accounts.spotify.com/api/token\"\n",
    "headers = {\n",
    "\"Authorization\" : \"basic\" +auth_base64,\n",
    "\"Content-Type\" :\"application/x-www-form-urlencoded\"}\n",
    "\n",
    "data ={\"grant_type\": \"client_credentials\"}\n",
    "result = post(url, headers=headers, data=data)\n",
    "json_result= json.loads(result.content)"
   ]
  },
  {
   "cell_type": "code",
   "execution_count": 56,
   "id": "c7314566",
   "metadata": {},
   "outputs": [
    {
     "data": {
      "text/plain": [
       "{'error': 'invalid_client'}"
      ]
     },
     "execution_count": 56,
     "metadata": {},
     "output_type": "execute_result"
    }
   ],
   "source": [
    "json_result"
   ]
  },
  {
   "cell_type": "code",
   "execution_count": 57,
   "id": "dc433a1b",
   "metadata": {},
   "outputs": [],
   "source": [
    "auth_url = 'https://accounts.spotify.com/api/token'"
   ]
  },
  {
   "cell_type": "code",
   "execution_count": 68,
   "id": "05bd44ca",
   "metadata": {},
   "outputs": [],
   "source": [
    "client_id = \"d11f46cce25b48f49d3d0ca5995d6c7e\"\n",
    "client_secret = \"6683ebe398394dc4ad758f6b070aeea2\""
   ]
  },
  {
   "cell_type": "code",
   "execution_count": 69,
   "id": "cda39238",
   "metadata": {},
   "outputs": [],
   "source": [
    "data = {\n",
    "    'grant_type': 'client_credentials',\n",
    "    'client_id': client_id,\n",
    "    'client_secret': client_secret,\n",
    "}"
   ]
  },
  {
   "cell_type": "code",
   "execution_count": 70,
   "id": "640d241a",
   "metadata": {},
   "outputs": [],
   "source": [
    "import requests\n",
    "auth_response = requests.post(auth_url, data=data)"
   ]
  },
  {
   "cell_type": "code",
   "execution_count": 71,
   "id": "3554557c",
   "metadata": {},
   "outputs": [],
   "source": [
    "access_token = auth_response.json().get('access_token')"
   ]
  },
  {
   "cell_type": "code",
   "execution_count": 72,
   "id": "53f4959d",
   "metadata": {},
   "outputs": [
    {
     "name": "stdout",
     "output_type": "stream",
     "text": [
      "BQBu8GaMlvyun-3ksLoCKZb6l5jsHP5rbOocftDumFB99VAGA7jcuJlFgK4pFDEbEyaNV-x0J8gyiUC4OtlAako0_yhdhYJJzGh-GYlORl07edTjlpw\n"
     ]
    }
   ],
   "source": [
    "print(access_token)"
   ]
  },
  {
   "cell_type": "code",
   "execution_count": 89,
   "id": "74e24ec0",
   "metadata": {},
   "outputs": [],
   "source": [
    "base_url = 'https://api.spotify.com/v1/'\n",
    "headers = {\n",
    "    'Authorization': 'Bearer {}'.format(access_token)\n",
    "}\n",
    "featured_playlists_endpoint = 'artists/1McMsnEElThX1knmY4oliG'\n",
    "featured_playlists_url = ''.join([base_url,featured_playlists_endpoint])"
   ]
  },
  {
   "cell_type": "code",
   "execution_count": 90,
   "id": "07c395c0",
   "metadata": {},
   "outputs": [],
   "source": [
    "response = requests.get(featured_playlists_url,headers=headers)"
   ]
  },
  {
   "cell_type": "code",
   "execution_count": 91,
   "id": "82010d4e",
   "metadata": {},
   "outputs": [
    {
     "data": {
      "text/plain": [
       "<Response [200]>"
      ]
     },
     "execution_count": 91,
     "metadata": {},
     "output_type": "execute_result"
    }
   ],
   "source": [
    "response"
   ]
  },
  {
   "cell_type": "code",
   "execution_count": 92,
   "id": "c2ee2d6f",
   "metadata": {},
   "outputs": [
    {
     "data": {
      "text/plain": [
       "{'external_urls': {'spotify': 'https://open.spotify.com/artist/1McMsnEElThX1knmY4oliG'},\n",
       " 'followers': {'href': None, 'total': 28030698},\n",
       " 'genres': ['pop'],\n",
       " 'href': 'https://api.spotify.com/v1/artists/1McMsnEElThX1knmY4oliG',\n",
       " 'id': '1McMsnEElThX1knmY4oliG',\n",
       " 'images': [{'height': 640,\n",
       "   'url': 'https://i.scdn.co/image/ab6761610000e5ebe03a98785f3658f0b6461ec4',\n",
       "   'width': 640},\n",
       "  {'height': 320,\n",
       "   'url': 'https://i.scdn.co/image/ab67616100005174e03a98785f3658f0b6461ec4',\n",
       "   'width': 320},\n",
       "  {'height': 160,\n",
       "   'url': 'https://i.scdn.co/image/ab6761610000f178e03a98785f3658f0b6461ec4',\n",
       "   'width': 160}],\n",
       " 'name': 'Olivia Rodrigo',\n",
       " 'popularity': 90,\n",
       " 'type': 'artist',\n",
       " 'uri': 'spotify:artist:1McMsnEElThX1knmY4oliG'}"
      ]
     },
     "execution_count": 92,
     "metadata": {},
     "output_type": "execute_result"
    }
   ],
   "source": [
    "response.json()"
   ]
  },
  {
   "cell_type": "code",
   "execution_count": null,
   "id": "39afcdbf",
   "metadata": {},
   "outputs": [],
   "source": []
  },
  {
   "cell_type": "code",
   "execution_count": null,
   "id": "60a63bf7",
   "metadata": {},
   "outputs": [],
   "source": []
  },
  {
   "cell_type": "code",
   "execution_count": 93,
   "id": "b6d636ce",
   "metadata": {},
   "outputs": [
    {
     "ename": "AttributeError",
     "evalue": "'NoneType' object has no attribute 'get'",
     "output_type": "error",
     "traceback": [
      "\u001b[1;31m---------------------------------------------------------------------------\u001b[0m",
      "\u001b[1;31mAttributeError\u001b[0m                            Traceback (most recent call last)",
      "\u001b[1;32m~\\AppData\\Local\\Temp\\ipykernel_38264\\3244976905.py\u001b[0m in \u001b[0;36m<module>\u001b[1;34m\u001b[0m\n\u001b[0;32m     40\u001b[0m \u001b[1;32mwhile\u001b[0m \u001b[0mcurrent_date\u001b[0m \u001b[1;33m<=\u001b[0m \u001b[0mend_date\u001b[0m\u001b[1;33m:\u001b[0m\u001b[1;33m\u001b[0m\u001b[1;33m\u001b[0m\u001b[0m\n\u001b[0;32m     41\u001b[0m     \u001b[0mdate_str\u001b[0m \u001b[1;33m=\u001b[0m \u001b[0mcurrent_date\u001b[0m\u001b[1;33m.\u001b[0m\u001b[0mstrftime\u001b[0m\u001b[1;33m(\u001b[0m\u001b[1;34m\"%Y-%m-%d\"\u001b[0m\u001b[1;33m)\u001b[0m\u001b[1;33m\u001b[0m\u001b[1;33m\u001b[0m\u001b[0m\n\u001b[1;32m---> 42\u001b[1;33m     \u001b[0mdownload_csv_for_date\u001b[0m\u001b[1;33m(\u001b[0m\u001b[0mdate_str\u001b[0m\u001b[1;33m)\u001b[0m\u001b[1;33m\u001b[0m\u001b[1;33m\u001b[0m\u001b[0m\n\u001b[0m\u001b[0;32m     43\u001b[0m     \u001b[0mcurrent_date\u001b[0m \u001b[1;33m+=\u001b[0m \u001b[0mtimedelta\u001b[0m\u001b[1;33m(\u001b[0m\u001b[0mdays\u001b[0m\u001b[1;33m=\u001b[0m\u001b[1;36m7\u001b[0m\u001b[1;33m)\u001b[0m\u001b[1;33m\u001b[0m\u001b[1;33m\u001b[0m\u001b[0m\n\u001b[0;32m     44\u001b[0m \u001b[1;33m\u001b[0m\u001b[0m\n",
      "\u001b[1;32m~\\AppData\\Local\\Temp\\ipykernel_38264\\3244976905.py\u001b[0m in \u001b[0;36mdownload_csv_for_date\u001b[1;34m(date_str)\u001b[0m\n\u001b[0;32m     24\u001b[0m     \u001b[1;32mif\u001b[0m \u001b[0mresponse\u001b[0m\u001b[1;33m.\u001b[0m\u001b[0mstatus_code\u001b[0m \u001b[1;33m==\u001b[0m \u001b[1;36m200\u001b[0m\u001b[1;33m:\u001b[0m\u001b[1;33m\u001b[0m\u001b[1;33m\u001b[0m\u001b[0m\n\u001b[0;32m     25\u001b[0m         \u001b[0msoup\u001b[0m \u001b[1;33m=\u001b[0m \u001b[0mBeautifulSoup\u001b[0m\u001b[1;33m(\u001b[0m\u001b[0mresponse\u001b[0m\u001b[1;33m.\u001b[0m\u001b[0mtext\u001b[0m\u001b[1;33m,\u001b[0m \u001b[1;34m'html.parser'\u001b[0m\u001b[1;33m)\u001b[0m\u001b[1;33m\u001b[0m\u001b[1;33m\u001b[0m\u001b[0m\n\u001b[1;32m---> 26\u001b[1;33m         \u001b[0mcsv_link\u001b[0m \u001b[1;33m=\u001b[0m \u001b[0msoup\u001b[0m\u001b[1;33m.\u001b[0m\u001b[0mfind\u001b[0m\u001b[1;33m(\u001b[0m\u001b[1;34m\"a\"\u001b[0m\u001b[1;33m,\u001b[0m \u001b[1;33m{\u001b[0m\u001b[1;34m\"class\"\u001b[0m\u001b[1;33m:\u001b[0m \u001b[1;34m\"chart-csv\"\u001b[0m\u001b[1;33m}\u001b[0m\u001b[1;33m)\u001b[0m\u001b[1;33m.\u001b[0m\u001b[0mget\u001b[0m\u001b[1;33m(\u001b[0m\u001b[1;34m\"href\"\u001b[0m\u001b[1;33m)\u001b[0m\u001b[1;33m\u001b[0m\u001b[1;33m\u001b[0m\u001b[0m\n\u001b[0m\u001b[0;32m     27\u001b[0m         \u001b[0mcsv_url\u001b[0m \u001b[1;33m=\u001b[0m \u001b[1;34mf\"https://charts.spotify.com{csv_link}\"\u001b[0m\u001b[1;33m\u001b[0m\u001b[1;33m\u001b[0m\u001b[0m\n\u001b[0;32m     28\u001b[0m         \u001b[0mresponse\u001b[0m \u001b[1;33m=\u001b[0m \u001b[0mrequests\u001b[0m\u001b[1;33m.\u001b[0m\u001b[0mget\u001b[0m\u001b[1;33m(\u001b[0m\u001b[0mcsv_url\u001b[0m\u001b[1;33m)\u001b[0m\u001b[1;33m\u001b[0m\u001b[1;33m\u001b[0m\u001b[0m\n",
      "\u001b[1;31mAttributeError\u001b[0m: 'NoneType' object has no attribute 'get'"
     ]
    }
   ],
   "source": [
    "import os\n",
    "import requests\n",
    "from bs4 import BeautifulSoup\n",
    "from datetime import date, timedelta\n",
    "import pandas as pd\n",
    "\n",
    "# Define the base URL for Spotify charts\n",
    "base_url = \"https://charts.spotify.com/charts/view/regional-us-weekly/\"\n",
    "\n",
    "# Define the start and end dates\n",
    "start_date = date(2016, 12, 29)\n",
    "end_date = date(2023, 9, 14)\n",
    "\n",
    "# Define the folder where you want to save the CSV files\n",
    "output_folder = \"spotify_charts_csv\"\n",
    "\n",
    "# Create the output folder if it doesn't exist\n",
    "os.makedirs(output_folder, exist_ok=True)\n",
    "\n",
    "# Function to download CSV for a specific date\n",
    "def download_csv_for_date(date_str):\n",
    "    url = base_url + date_str\n",
    "    response = requests.get(url)\n",
    "    if response.status_code == 200:\n",
    "        soup = BeautifulSoup(response.text, 'html.parser')\n",
    "        csv_link = soup.find(\"a\", {\"class\": \"chart-csv\"}).get(\"href\")\n",
    "        csv_url = f\"https://charts.spotify.com{csv_link}\"\n",
    "        response = requests.get(csv_url)\n",
    "        if response.status_code == 200:\n",
    "            with open(os.path.join(output_folder, f\"{date_str}.csv\"), \"wb\") as f:\n",
    "                f.write(response.content)\n",
    "                print(f\"Downloaded {date_str}.csv\")\n",
    "        else:\n",
    "            print(f\"Failed to download {date_str}.csv\")\n",
    "    else:\n",
    "        print(f\"Failed to fetch {url}\")\n",
    "\n",
    "# Loop through the date range and download CSV files\n",
    "current_date = start_date\n",
    "while current_date <= end_date:\n",
    "    date_str = current_date.strftime(\"%Y-%m-%d\")\n",
    "    download_csv_for_date(date_str)\n",
    "    current_date += timedelta(days=7)\n",
    "\n",
    "# Optional: Merge all downloaded CSV files into a single DataFrame\n",
    "csv_files = [os.path.join(output_folder, f\"{date_str}.csv\") for date_str in pd.date_range(start=start_date, end=end_date, freq='7D').strftime(\"%Y-%m-%d\")]\n",
    "combined_df = pd.concat([pd.read_csv(file) for file in csv_files], ignore_index=True)\n",
    "combined_df.to_csv(os.path.join(output_folder, \"combined_spotify_charts.csv\"), index=False)\n",
    "\n",
    "print(\"All CSV files downloaded and merged.\")\n"
   ]
  },
  {
   "cell_type": "code",
   "execution_count": 97,
   "id": "3866e2f7",
   "metadata": {},
   "outputs": [],
   "source": [
    "import os\n",
    "import requests\n",
    "from bs4 import BeautifulSoup\n",
    "from datetime import date, timedelta\n",
    "import pandas as pd\n",
    "\n",
    "# Define the base URL for Spotify charts\n",
    "base_url = \"https://charts.spotify.com/charts/view/regional-us-weekly/\"\n",
    "\n",
    "# Define the start and end dates\n",
    "start_date = date(2016, 12, 29)\n",
    "end_date = date(2023, 9, 14)\n",
    "\n",
    "date_str = current_date.strftime(\"%Y-%m-%d\")"
   ]
  },
  {
   "cell_type": "code",
   "execution_count": 98,
   "id": "0f5a88a5",
   "metadata": {},
   "outputs": [],
   "source": [
    "base_url = \"https://charts.spotify.com/charts/view/regional-us-weekly/\""
   ]
  },
  {
   "cell_type": "code",
   "execution_count": 100,
   "id": "aebd0106",
   "metadata": {},
   "outputs": [],
   "source": [
    "url = base_url + date_str\n",
    "response = requests.get(url)"
   ]
  },
  {
   "cell_type": "code",
   "execution_count": 111,
   "id": "6ce6bdc3",
   "metadata": {},
   "outputs": [
    {
     "data": {
      "text/plain": [
       "'https://charts.spotify.com/charts/view/regional-us-weekly/2019-11-07'"
      ]
     },
     "execution_count": 111,
     "metadata": {},
     "output_type": "execute_result"
    }
   ],
   "source": [
    "url"
   ]
  },
  {
   "cell_type": "code",
   "execution_count": 101,
   "id": "e874979d",
   "metadata": {},
   "outputs": [
    {
     "data": {
      "text/plain": [
       "<Response [200]>"
      ]
     },
     "execution_count": 101,
     "metadata": {},
     "output_type": "execute_result"
    }
   ],
   "source": [
    "response"
   ]
  },
  {
   "cell_type": "code",
   "execution_count": 102,
   "id": "0da964d9",
   "metadata": {},
   "outputs": [],
   "source": [
    "soup = BeautifulSoup(response.text, 'html.parser')"
   ]
  },
  {
   "cell_type": "code",
   "execution_count": 110,
   "id": "1632c2c0",
   "metadata": {},
   "outputs": [
    {
     "data": {
      "text/plain": [
       "<!DOCTYPE html>\n",
       "<html class=\"no-touchevents\" lang=\"en\"><head><meta charset=\"utf-8\"/><meta content=\"IE=edge\" http-equiv=\"X-UA-Compatible\"/><link href=\"/spotifycharts.svg\" rel=\"shortcut icon\"/><link as=\"font\" crossorigin=\"crossorigin\" href=\"https://encore.scdn.co/1.2.3/CircularSpotify-UI-Latin-OS2v3-Book.woff2\" rel=\"preload\" type=\"font/woff2\"/><link as=\"font\" crossorigin=\"crossorigin\" href=\"https://encore.scdn.co/1.2.3/CircularSpotify-UI-Latin-OS2v3-Bold.woff2\" rel=\"preload\" type=\"font/woff2\"/><link as=\"font\" crossorigin=\"crossorigin\" href=\"https://encore.scdn.co/1.2.3/CircularSpotify-UI-Latin-OS2v3-Black.woff2\" rel=\"preload\" type=\"font/woff2\"/><meta charset=\"utf-8\"/><meta content=\"width=device-width, initial-scale=1, shrink-to-fit=no\" name=\"viewport\"/><title>Spotify Charts - Spotify Charts are made by fans</title><meta content=\"The new home for Spotify Charts. Dive into artist, genre, city and local pulse charts to see what music is moving fans around the world.\" name=\"description\"/><meta content=\"Spotify Charts - Spotify Charts are made by fans\" property=\"og:title\"/><meta content=\"The new home for Spotify Charts. Dive into artist, genre, city and local pulse charts to see what music is moving fans around the world.\" property=\"og:description\"/><meta content=\"https://charts-images.scdn.co/csc_assets/thumbnails/embed_thumbnail_1200x630.png\" property=\"og:image\"/><meta content=\"ruWC_F0SbT2WKsLaxexOhIEBbc8MpAqW2mNLiIIEnMs\" name=\"google-site-verification\"/><meta content=\"8\" name=\"next-head-count\"/><link as=\"style\" href=\"https://mrkt-web.scdn.co/charts-spotify-com/_next/static/css/d0a9f291d2c82e84.css\" rel=\"preload\"/><link data-n-g=\"\" href=\"https://mrkt-web.scdn.co/charts-spotify-com/_next/static/css/d0a9f291d2c82e84.css\" rel=\"stylesheet\"/><link as=\"style\" href=\"https://mrkt-web.scdn.co/charts-spotify-com/_next/static/css/703a0d12455970a3.css\" rel=\"preload\"/><link data-n-p=\"\" href=\"https://mrkt-web.scdn.co/charts-spotify-com/_next/static/css/703a0d12455970a3.css\" rel=\"stylesheet\"/><noscript data-n-css=\"\"></noscript><script defer=\"\" nomodule=\"\" src=\"https://mrkt-web.scdn.co/charts-spotify-com/_next/static/chunks/polyfills-5cd94c89d3acac5f.js\"></script><script defer=\"\" src=\"https://mrkt-web.scdn.co/charts-spotify-com/_next/static/chunks/webpack-9b29c3c96fdf5444.js\"></script><script defer=\"\" src=\"https://mrkt-web.scdn.co/charts-spotify-com/_next/static/chunks/framework-dc33c0b5493501f0.js\"></script><script defer=\"\" src=\"https://mrkt-web.scdn.co/charts-spotify-com/_next/static/chunks/main-a10220fda36c7b79.js\"></script><script defer=\"\" src=\"https://mrkt-web.scdn.co/charts-spotify-com/_next/static/chunks/pages/_app-0ec0d406787e20cc.js\"></script><script defer=\"\" src=\"https://mrkt-web.scdn.co/charts-spotify-com/_next/static/chunks/75fc9c18-6268e8a2f6ae8a14.js\"></script><script defer=\"\" src=\"https://mrkt-web.scdn.co/charts-spotify-com/_next/static/chunks/698-086819819b79a4da.js\"></script><script defer=\"\" src=\"https://mrkt-web.scdn.co/charts-spotify-com/_next/static/chunks/759-dd38244401bcc767.js\"></script><script defer=\"\" src=\"https://mrkt-web.scdn.co/charts-spotify-com/_next/static/chunks/660-dc430211873188fc.js\"></script><script defer=\"\" src=\"https://mrkt-web.scdn.co/charts-spotify-com/_next/static/chunks/341-5c935b2bc4f7debe.js\"></script><script defer=\"\" src=\"https://mrkt-web.scdn.co/charts-spotify-com/_next/static/chunks/320-4f7ad9ba7395cc61.js\"></script><script defer=\"\" src=\"https://mrkt-web.scdn.co/charts-spotify-com/_next/static/chunks/94-75209f18322b7720.js\"></script><script defer=\"\" src=\"https://mrkt-web.scdn.co/charts-spotify-com/_next/static/chunks/46-748776ea9ef77216.js\"></script><script defer=\"\" src=\"https://mrkt-web.scdn.co/charts-spotify-com/_next/static/chunks/831-4587d0a6ceefd5a9.js\"></script><script defer=\"\" src=\"https://mrkt-web.scdn.co/charts-spotify-com/_next/static/chunks/214-331a529acae1319d.js\"></script><script defer=\"\" src=\"https://mrkt-web.scdn.co/charts-spotify-com/_next/static/chunks/pages/charts/view/%5Balias%5D/%5Bdate%5D-6239ccf34bc9ebed.js\"></script><script defer=\"\" src=\"https://mrkt-web.scdn.co/charts-spotify-com/_next/static/Q1zV34HcJgf-1M6ASw_4N/_buildManifest.js\"></script><script defer=\"\" src=\"https://mrkt-web.scdn.co/charts-spotify-com/_next/static/Q1zV34HcJgf-1M6ASw_4N/_ssgManifest.js\"></script><script defer=\"\" src=\"https://mrkt-web.scdn.co/charts-spotify-com/_next/static/Q1zV34HcJgf-1M6ASw_4N/_middlewareManifest.js\"></script><style data-styled=\"\" data-styled-version=\"5.3.5\">.bucGtk{box-sizing:border-box;font-family:var(--font-family,spotify-circular),Helvetica,Arial,sans-serif;-webkit-tap-highlight-color:transparent;padding-inline-start:0;padding-inline-end:0;margin-block-start:0;margin-block-end:0;overflow-wrap:break-word;list-style-type:none;}/*!sc*/\n",
       "data-styled.g1[id=\"List-sc-64p3hb-0\"]{content:\"bucGtk,\"}/*!sc*/\n",
       ".kKJlmK{box-sizing:border-box;font-family:var(--font-family,spotify-circular),Helvetica,Arial,sans-serif;-webkit-tap-highlight-color:transparent;list-style-type:none;}/*!sc*/\n",
       "data-styled.g4[id=\"ListItem-sc-14osqn3-0\"]{content:\"kKJlmK,\"}/*!sc*/\n",
       ".lfGOlT{box-sizing:border-box;font-family:var(--font-family,spotify-circular),Helvetica,Arial,sans-serif;-webkit-tap-highlight-color:transparent;margin-block-start:0;margin-block-end:0;font-size:0.875rem;line-height:1.25rem;font-weight:400;color:inherit;}/*!sc*/\n",
       "@media (min-width:768px){.lfGOlT{font-size:0.875rem;line-height:1.25rem;text-transform:none;-webkit-letter-spacing:normal;-moz-letter-spacing:normal;-ms-letter-spacing:normal;letter-spacing:normal;}}/*!sc*/\n",
       "data-styled.g6[id=\"Type__TypeElement-goli3j-0\"]{content:\"lfGOlT,\"}/*!sc*/\n",
       "@media (min-width:768px){.kEOKET{position:fixed;-webkit-block-size:100%;-ms-flex-block-size:100%;block-size:100%;top:0;inline-size:0;left:0;z-index:1030;}[dir='rtl'] .Aside-sc-1wnswz1-0{left:unset;right:0;}}/*!sc*/\n",
       ".docs-story .Aside-sc-1wnswz1-0{position:relative;}/*!sc*/\n",
       "@media (min-width:768px){.docs-story .Aside-sc-1wnswz1-0{position:absolute;}}/*!sc*/\n",
       "data-styled.g12[id=\"Aside-sc-1wnswz1-0\"]{content:\"kEOKET,\"}/*!sc*/\n",
       ".gSnYRE{position:-webkit-sticky;position:sticky;top:0;z-index:1030;}/*!sc*/\n",
       "@media (max-width:767px){.gSnYRE{margin-inline-start:-24px;margin-inline-end:-24px;}}/*!sc*/\n",
       "@media (min-width:768px){.gSnYRE{margin-inline-start:-32px;margin-inline-end:-32px;}}/*!sc*/\n",
       "data-styled.g13[id=\"Banner-sc-1bnzyty-0\"]{content:\"gSnYRE,\"}/*!sc*/\n",
       ".krZEp{box-sizing:border-box;font-family:var(--font-family,spotify-circular),Helvetica,Arial,sans-serif;-webkit-tap-highlight-color:transparent;position:absolute;top:0;left:0;display:-webkit-box;display:-webkit-flex;display:-ms-flexbox;display:flex;-webkit-flex-direction:column;-ms-flex-direction:column;flex-direction:column;inline-size:100%;min-block-size:100%;background:var(--background-base,#ffffff);color:var(--text-base,#000000);overflow-wrap:break-word;}/*!sc*/\n",
       "data-styled.g14[id=\"Container-c1ixcy-0\"]{content:\"krZEp,\"}/*!sc*/\n",
       ".jyvkLv{-webkit-flex:1;-ms-flex:1;flex:1;}/*!sc*/\n",
       "data-styled.g15[id=\"Content-sc-1n5ckz4-0\"]{content:\"jyvkLv,\"}/*!sc*/\n",
       ".flXzSu{display:-webkit-box;display:-webkit-flex;display:-ms-flexbox;display:flex;-webkit-flex-direction:column;-ms-flex-direction:column;flex-direction:column;-webkit-flex:1;-ms-flex:1;flex:1;}/*!sc*/\n",
       "@media (max-width:767px){.flXzSu{padding-inline-start:24px;padding-inline-end:24px;}}/*!sc*/\n",
       "@media (min-width:768px){.flXzSu{padding-inline-start:32px;padding-inline-end:32px;margin-inline-start:0;max-inline-size:100%;}}/*!sc*/\n",
       "data-styled.g16[id=\"Main-tbtyrr-0\"]{content:\"flXzSu,\"}/*!sc*/\n",
       ".fdgJxn{box-sizing:border-box;font-family:var(--font-family,spotify-circular),Helvetica,Arial,sans-serif;-webkit-tap-highlight-color:transparent;display:-webkit-box;display:-webkit-flex;display:-ms-flexbox;display:flex;-webkit-flex-wrap:wrap;-ms-flex-wrap:wrap;flex-wrap:wrap;min-inline-size:0;padding-block-start:24px;padding-block-end:24px;border-block-start:1px solid var(--decorative-subdued,#dedede);}/*!sc*/\n",
       "@media (min-width:768px){.fdgJxn{padding-inline-start:8px;padding-inline-end:8px;}}/*!sc*/\n",
       ".fdgJxn nav{min-inline-size:0;}/*!sc*/\n",
       ".fdgJxn >:last-child{display:-webkit-box;display:-webkit-flex;display:-ms-flexbox;display:flex;-webkit-align-items:flex-end;-webkit-box-align:flex-end;-ms-flex-align:flex-end;align-items:flex-end;-webkit-box-pack:end;-webkit-justify-content:flex-end;-ms-flex-pack:end;justify-content:flex-end;-webkit-box-flex:1;-webkit-flex-grow:1;-ms-flex-positive:1;flex-grow:1;-webkit-flex-shrink:0;-ms-flex-negative:0;flex-shrink:0;}/*!sc*/\n",
       "data-styled.g19[id=\"Container-sc-79vijq-0\"]{content:\"fdgJxn,\"}/*!sc*/\n",
       ".bVuthO{padding-block-end:0;-webkit-flex-shrink:0;-ms-flex-negative:0;flex-shrink:0;font-size:0.6875rem;line-height:1rem;font-weight:400;}/*!sc*/\n",
       "@media (min-width:768px){.bVuthO{font-size:0.6875rem;line-height:1rem;text-transform:none;-webkit-letter-spacing:normal;-moz-letter-spacing:normal;-ms-letter-spacing:normal;letter-spacing:normal;}}/*!sc*/\n",
       "@media (max-width:767px){}/*!sc*/\n",
       "@media (min-width:768px){}/*!sc*/\n",
       "data-styled.g20[id=\"Copyright-sc-15d7gge-0\"]{content:\"bVuthO,\"}/*!sc*/\n",
       ".eXPRFh{min-inline-size:0;color:var(--text-base,#000000);}/*!sc*/\n",
       "@media (max-width:767px){.eXPRFh{padding-block-end:4px;padding-block-start:4px;}.eXPRFh:last-child{padding-block-end:0;}}/*!sc*/\n",
       "@media (min-width:768px){.eXPRFh{padding-inline-end:48px;}.eXPRFh:last-child{-webkit-box-flex:1;-webkit-flex-grow:1;-ms-flex-positive:1;flex-grow:1;padding-inline-end:0;}}/*!sc*/\n",
       "data-styled.g21[id=\"Item-sc-16ne99o-0\"]{content:\"eXPRFh,\"}/*!sc*/\n",
       ".hPPrfs{-webkit-flex-wrap:wrap;-ms-flex-wrap:wrap;flex-wrap:wrap;}/*!sc*/\n",
       "@media (min-width:768px){.hPPrfs{-webkit-align-items:center;-webkit-box-align:center;-ms-flex-align:center;align-items:center;display:-webkit-box;display:-webkit-flex;display:-ms-flexbox;display:flex;-webkit-box-pack:start;-webkit-justify-content:flex-start;-ms-flex-pack:start;justify-content:flex-start;}}/*!sc*/\n",
       "data-styled.g22[id=\"List-vnil8g-0\"]{content:\"hPPrfs,\"}/*!sc*/\n",
       ".bGswfQ{box-sizing:border-box;font-family:var(--font-family,spotify-circular),Helvetica,Arial,sans-serif;-webkit-tap-highlight-color:transparent;color:var(--text-base,#000000);-webkit-align-items:center;-webkit-box-align:center;-ms-flex-align:center;align-items:center;-webkit-text-decoration:none;text-decoration:none;color:var(--text-base,#000000);display:-webkit-inline-box;display:-webkit-inline-flex;display:-ms-inline-flexbox;display:inline-flex;}/*!sc*/\n",
       ".bGswfQ[href],.bGswfQ:hover:not([disabled]){-webkit-text-decoration:underline;text-decoration:underline;}/*!sc*/\n",
       ".bGswfQ[href]:hover{-webkit-text-decoration:underline;text-decoration:underline;color:var(--text-base,#000000);}/*!sc*/\n",
       ".bGswfQ[href]:focus{outline:none;box-shadow:0 3px 0 0;-webkit-transition:box-shadow 200ms ease-in;transition:box-shadow 200ms ease-in;}/*!sc*/\n",
       ".bGswfQ[href]:focus.Link-k8gsk-0[href]:focus{-webkit-text-decoration:none;text-decoration:none;}/*!sc*/\n",
       ".bGswfQ[href]:active{color:var(--text-bright-accent,#117a37);}/*!sc*/\n",
       ".bGswfQ[disabled],.bGswfQ[href][disabled],.bGswfQ[aria-disabled='true']{color:var(--text-subdued,#6a6a6a);opacity:0.3;cursor:not-allowed;}/*!sc*/\n",
       ".bGswfQ,.bGswfQ[href]{-webkit-text-decoration:none;text-decoration:none;}/*!sc*/\n",
       ".bGswfQ[href]:hover,.bGswfQ[href]:hover:focus{-webkit-text-decoration:underline;text-decoration:underline;color:var(--text-subdued,#6a6a6a);}/*!sc*/\n",
       ".bGswfQ[href]:focus{-webkit-text-decoration:none;text-decoration:none;color:var(--text-base,#000000);}/*!sc*/\n",
       ".bGswfQ[href]:active{-webkit-text-decoration:underline;text-decoration:underline;color:var(--text-base,#000000);}/*!sc*/\n",
       ".bGswfQ[disabled],.bGswfQ[href][disabled],.bGswfQ[aria-disabled='true']{-webkit-text-decoration:none;text-decoration:none;}/*!sc*/\n",
       "data-styled.g23[id=\"Link-k8gsk-0\"]{content:\"bGswfQ,\"}/*!sc*/\n",
       ".cMCIWa{display:block;font-size:0.6875rem;line-height:1rem;font-weight:700;}/*!sc*/\n",
       "@media (min-width:768px){.cMCIWa{font-size:0.6875rem;line-height:1rem;text-transform:none;-webkit-letter-spacing:normal;-moz-letter-spacing:normal;-ms-letter-spacing:normal;letter-spacing:normal;}}/*!sc*/\n",
       "@media (max-width:767px){}/*!sc*/\n",
       "@media (min-width:768px){}/*!sc*/\n",
       "@media all and (-ms-high-contrast:none),(-ms-high-contrast:active){.cMCIWa{font-weight:400;}}/*!sc*/\n",
       "@supports (-ms-ime-align:auto){.cMCIWa{font-weight:400;}}/*!sc*/\n",
       "data-styled.g24[id=\"Link-fe80qw-0\"]{content:\"cMCIWa,\"}/*!sc*/\n",
       "*{box-sizing:border-box;}/*!sc*/\n",
       "*::before,*::after{box-sizing:border-box;}/*!sc*/\n",
       "body{font-family:spotify-circular,Helvetica,Arial,sans-serif;margin:0;}/*!sc*/\n",
       "html,body{height:100%;}/*!sc*/\n",
       "data-styled.g135[id=\"sc-global-cKDjoD1\"]{content:\"sc-global-cKDjoD1,\"}/*!sc*/\n",
       "@media (min-width:768px){.btVmFl{padding-left:48px;padding-right:48px;}}/*!sc*/\n",
       "@media (max-width:767px){.btVmFl{padding-left:16px;padding-right:16px;}}/*!sc*/\n",
       "data-styled.g224[id=\"ChartsFooter__StyledAppFooter-sc-68p0np-0\"]{content:\"btVmFl,\"}/*!sc*/\n",
       "@font-face{font-family:spotify-circular;src:url('https://encore.scdn.co/1.2.3/CircularSpotify-UI-Latin-OS2v3-Book.woff2') format('woff2'), url('https://encore.scdn.co/1.2.3/CircularSpotify-UI-Latin-OS2v3-Book.woff') format('woff');font-weight:400;font-style:normal;}/*!sc*/\n",
       "@font-face{font-family:spotify-circular;src:url('https://encore.scdn.co/1.2.3/CircularSpotify-UI-Latin-OS2v3-Bold.woff2') format('woff2'), url('https://encore.scdn.co/1.2.3/CircularSpotify-UI-Latin-OS2v3-Bold.woff') format('woff');font-weight:700;font-style:normal;}/*!sc*/\n",
       "@font-face{font-family:spotify-circular;src:url('https://encore.scdn.co/1.2.3/CircularSpotify-UI-Latin-OS2v3-Black.woff2') format('woff2'), url('https://encore.scdn.co/1.2.3/CircularSpotify-UI-Latin-OS2v3-Black.woff') format('woff');font-weight:900;font-style:normal;}/*!sc*/\n",
       "data-styled.g225[id=\"sc-global-eWgKCs1\"]{content:\"sc-global-eWgKCs1,\"}/*!sc*/\n",
       "</style></head><body data-qa=\"spotify-charts-website\"><div data-reactroot=\"\" id=\"__next\"><div class=\"encore-creator-light-theme\"><div class=\"Container-c1ixcy-0 krZEp encore-base-set\"><aside class=\"Aside-sc-1wnswz1-0 kEOKET\"></aside><main class=\"Main-tbtyrr-0 flXzSu\"><div class=\"Banner-sc-1bnzyty-0 gSnYRE\"></div><div class=\"Content-sc-1n5ckz4-0 jyvkLv\"></div><div><footer class=\"Container-sc-79vijq-0 fdgJxn ChartsFooter__StyledAppFooter-sc-68p0np-0 btVmFl\"><nav><ul class=\"List-sc-64p3hb-0 List-vnil8g-0 bucGtk hPPrfs\" role=\"list\"><li class=\"ListItem-sc-14osqn3-0 Item-sc-16ne99o-0 kKJlmK eXPRFh\"><a class=\"Link-k8gsk-0 bGswfQ Link-fe80qw-0 cMCIWa\" href=\"https://www.spotify.com/legal\" rel=\"noopener noreferrer\" target=\"_blank\">Legal</a></li><li class=\"ListItem-sc-14osqn3-0 Item-sc-16ne99o-0 kKJlmK eXPRFh\"><a class=\"Link-k8gsk-0 bGswfQ Link-fe80qw-0 cMCIWa\" href=\"https://www.spotify.com/legal/privacy-policy/\" rel=\"noopener noreferrer\" target=\"_blank\">Privacy</a></li><li class=\"ListItem-sc-14osqn3-0 Item-sc-16ne99o-0 kKJlmK eXPRFh\"><a class=\"Link-k8gsk-0 bGswfQ Link-fe80qw-0 cMCIWa\" href=\"https://www.spotify.com/legal/cookies-policy/\" rel=\"noopener noreferrer\" target=\"_blank\">Cookies</a></li><li class=\"ListItem-sc-14osqn3-0 Item-sc-16ne99o-0 kKJlmK eXPRFh\"><a class=\"Link-k8gsk-0 bGswfQ Link-fe80qw-0 cMCIWa\" href=\"https://support.spotify.com/us/artists/article/charts/\" rel=\"noopener noreferrer\" target=\"_blank\">FAQ</a></li></ul></nav><div><small class=\"Type__TypeElement-goli3j-0 lfGOlT Type__TypeElement-goli3j-0 lfGOlT Copyright-sc-15d7gge-0 bVuthO\" translate=\"no\">© <!-- -->2023<!-- --> Spotify AB</small></div></footer></div></main></div></div></div><script id=\"__NEXT_DATA__\" type=\"application/json\">{\"props\":{\"pageProps\":{}},\"page\":\"/charts/view/[alias]/[date]\",\"query\":{},\"buildId\":\"Q1zV34HcJgf-1M6ASw_4N\",\"assetPrefix\":\"https://mrkt-web.scdn.co/charts-spotify-com\",\"nextExport\":true,\"autoExport\":true,\"isFallback\":false,\"scriptLoader\":[]}</script></body></html>"
      ]
     },
     "execution_count": 110,
     "metadata": {},
     "output_type": "execute_result"
    }
   ],
   "source": [
    "soup"
   ]
  },
  {
   "cell_type": "code",
   "execution_count": 129,
   "id": "895f3089",
   "metadata": {},
   "outputs": [
    {
     "data": {
      "text/plain": [
       "<title>Spotify Charts - Spotify Charts are made by fans</title>"
      ]
     },
     "execution_count": 129,
     "metadata": {},
     "output_type": "execute_result"
    }
   ],
   "source": [
    "soup.find_all()[10]"
   ]
  },
  {
   "cell_type": "code",
   "execution_count": 106,
   "id": "c705fe16",
   "metadata": {},
   "outputs": [
    {
     "data": {
      "text/plain": [
       "<!DOCTYPE html>\n",
       "<html class=\"no-touchevents\" lang=\"en\"><head><meta charset=\"utf-8\"/><meta content=\"IE=edge\" http-equiv=\"X-UA-Compatible\"/><link href=\"/spotifycharts.svg\" rel=\"shortcut icon\"/><link as=\"font\" crossorigin=\"crossorigin\" href=\"https://encore.scdn.co/1.2.3/CircularSpotify-UI-Latin-OS2v3-Book.woff2\" rel=\"preload\" type=\"font/woff2\"/><link as=\"font\" crossorigin=\"crossorigin\" href=\"https://encore.scdn.co/1.2.3/CircularSpotify-UI-Latin-OS2v3-Bold.woff2\" rel=\"preload\" type=\"font/woff2\"/><link as=\"font\" crossorigin=\"crossorigin\" href=\"https://encore.scdn.co/1.2.3/CircularSpotify-UI-Latin-OS2v3-Black.woff2\" rel=\"preload\" type=\"font/woff2\"/><meta charset=\"utf-8\"/><meta content=\"width=device-width, initial-scale=1, shrink-to-fit=no\" name=\"viewport\"/><title>Spotify Charts - Spotify Charts are made by fans</title><meta content=\"The new home for Spotify Charts. Dive into artist, genre, city and local pulse charts to see what music is moving fans around the world.\" name=\"description\"/><meta content=\"Spotify Charts - Spotify Charts are made by fans\" property=\"og:title\"/><meta content=\"The new home for Spotify Charts. Dive into artist, genre, city and local pulse charts to see what music is moving fans around the world.\" property=\"og:description\"/><meta content=\"https://charts-images.scdn.co/csc_assets/thumbnails/embed_thumbnail_1200x630.png\" property=\"og:image\"/><meta content=\"ruWC_F0SbT2WKsLaxexOhIEBbc8MpAqW2mNLiIIEnMs\" name=\"google-site-verification\"/><meta content=\"8\" name=\"next-head-count\"/><link as=\"style\" href=\"https://mrkt-web.scdn.co/charts-spotify-com/_next/static/css/d0a9f291d2c82e84.css\" rel=\"preload\"/><link data-n-g=\"\" href=\"https://mrkt-web.scdn.co/charts-spotify-com/_next/static/css/d0a9f291d2c82e84.css\" rel=\"stylesheet\"/><link as=\"style\" href=\"https://mrkt-web.scdn.co/charts-spotify-com/_next/static/css/703a0d12455970a3.css\" rel=\"preload\"/><link data-n-p=\"\" href=\"https://mrkt-web.scdn.co/charts-spotify-com/_next/static/css/703a0d12455970a3.css\" rel=\"stylesheet\"/><noscript data-n-css=\"\"></noscript><script defer=\"\" nomodule=\"\" src=\"https://mrkt-web.scdn.co/charts-spotify-com/_next/static/chunks/polyfills-5cd94c89d3acac5f.js\"></script><script defer=\"\" src=\"https://mrkt-web.scdn.co/charts-spotify-com/_next/static/chunks/webpack-9b29c3c96fdf5444.js\"></script><script defer=\"\" src=\"https://mrkt-web.scdn.co/charts-spotify-com/_next/static/chunks/framework-dc33c0b5493501f0.js\"></script><script defer=\"\" src=\"https://mrkt-web.scdn.co/charts-spotify-com/_next/static/chunks/main-a10220fda36c7b79.js\"></script><script defer=\"\" src=\"https://mrkt-web.scdn.co/charts-spotify-com/_next/static/chunks/pages/_app-0ec0d406787e20cc.js\"></script><script defer=\"\" src=\"https://mrkt-web.scdn.co/charts-spotify-com/_next/static/chunks/75fc9c18-6268e8a2f6ae8a14.js\"></script><script defer=\"\" src=\"https://mrkt-web.scdn.co/charts-spotify-com/_next/static/chunks/698-086819819b79a4da.js\"></script><script defer=\"\" src=\"https://mrkt-web.scdn.co/charts-spotify-com/_next/static/chunks/759-dd38244401bcc767.js\"></script><script defer=\"\" src=\"https://mrkt-web.scdn.co/charts-spotify-com/_next/static/chunks/660-dc430211873188fc.js\"></script><script defer=\"\" src=\"https://mrkt-web.scdn.co/charts-spotify-com/_next/static/chunks/341-5c935b2bc4f7debe.js\"></script><script defer=\"\" src=\"https://mrkt-web.scdn.co/charts-spotify-com/_next/static/chunks/320-4f7ad9ba7395cc61.js\"></script><script defer=\"\" src=\"https://mrkt-web.scdn.co/charts-spotify-com/_next/static/chunks/94-75209f18322b7720.js\"></script><script defer=\"\" src=\"https://mrkt-web.scdn.co/charts-spotify-com/_next/static/chunks/46-748776ea9ef77216.js\"></script><script defer=\"\" src=\"https://mrkt-web.scdn.co/charts-spotify-com/_next/static/chunks/831-4587d0a6ceefd5a9.js\"></script><script defer=\"\" src=\"https://mrkt-web.scdn.co/charts-spotify-com/_next/static/chunks/214-331a529acae1319d.js\"></script><script defer=\"\" src=\"https://mrkt-web.scdn.co/charts-spotify-com/_next/static/chunks/pages/charts/view/%5Balias%5D/%5Bdate%5D-6239ccf34bc9ebed.js\"></script><script defer=\"\" src=\"https://mrkt-web.scdn.co/charts-spotify-com/_next/static/Q1zV34HcJgf-1M6ASw_4N/_buildManifest.js\"></script><script defer=\"\" src=\"https://mrkt-web.scdn.co/charts-spotify-com/_next/static/Q1zV34HcJgf-1M6ASw_4N/_ssgManifest.js\"></script><script defer=\"\" src=\"https://mrkt-web.scdn.co/charts-spotify-com/_next/static/Q1zV34HcJgf-1M6ASw_4N/_middlewareManifest.js\"></script><style data-styled=\"\" data-styled-version=\"5.3.5\">.bucGtk{box-sizing:border-box;font-family:var(--font-family,spotify-circular),Helvetica,Arial,sans-serif;-webkit-tap-highlight-color:transparent;padding-inline-start:0;padding-inline-end:0;margin-block-start:0;margin-block-end:0;overflow-wrap:break-word;list-style-type:none;}/*!sc*/\n",
       "data-styled.g1[id=\"List-sc-64p3hb-0\"]{content:\"bucGtk,\"}/*!sc*/\n",
       ".kKJlmK{box-sizing:border-box;font-family:var(--font-family,spotify-circular),Helvetica,Arial,sans-serif;-webkit-tap-highlight-color:transparent;list-style-type:none;}/*!sc*/\n",
       "data-styled.g4[id=\"ListItem-sc-14osqn3-0\"]{content:\"kKJlmK,\"}/*!sc*/\n",
       ".lfGOlT{box-sizing:border-box;font-family:var(--font-family,spotify-circular),Helvetica,Arial,sans-serif;-webkit-tap-highlight-color:transparent;margin-block-start:0;margin-block-end:0;font-size:0.875rem;line-height:1.25rem;font-weight:400;color:inherit;}/*!sc*/\n",
       "@media (min-width:768px){.lfGOlT{font-size:0.875rem;line-height:1.25rem;text-transform:none;-webkit-letter-spacing:normal;-moz-letter-spacing:normal;-ms-letter-spacing:normal;letter-spacing:normal;}}/*!sc*/\n",
       "data-styled.g6[id=\"Type__TypeElement-goli3j-0\"]{content:\"lfGOlT,\"}/*!sc*/\n",
       "@media (min-width:768px){.kEOKET{position:fixed;-webkit-block-size:100%;-ms-flex-block-size:100%;block-size:100%;top:0;inline-size:0;left:0;z-index:1030;}[dir='rtl'] .Aside-sc-1wnswz1-0{left:unset;right:0;}}/*!sc*/\n",
       ".docs-story .Aside-sc-1wnswz1-0{position:relative;}/*!sc*/\n",
       "@media (min-width:768px){.docs-story .Aside-sc-1wnswz1-0{position:absolute;}}/*!sc*/\n",
       "data-styled.g12[id=\"Aside-sc-1wnswz1-0\"]{content:\"kEOKET,\"}/*!sc*/\n",
       ".gSnYRE{position:-webkit-sticky;position:sticky;top:0;z-index:1030;}/*!sc*/\n",
       "@media (max-width:767px){.gSnYRE{margin-inline-start:-24px;margin-inline-end:-24px;}}/*!sc*/\n",
       "@media (min-width:768px){.gSnYRE{margin-inline-start:-32px;margin-inline-end:-32px;}}/*!sc*/\n",
       "data-styled.g13[id=\"Banner-sc-1bnzyty-0\"]{content:\"gSnYRE,\"}/*!sc*/\n",
       ".krZEp{box-sizing:border-box;font-family:var(--font-family,spotify-circular),Helvetica,Arial,sans-serif;-webkit-tap-highlight-color:transparent;position:absolute;top:0;left:0;display:-webkit-box;display:-webkit-flex;display:-ms-flexbox;display:flex;-webkit-flex-direction:column;-ms-flex-direction:column;flex-direction:column;inline-size:100%;min-block-size:100%;background:var(--background-base,#ffffff);color:var(--text-base,#000000);overflow-wrap:break-word;}/*!sc*/\n",
       "data-styled.g14[id=\"Container-c1ixcy-0\"]{content:\"krZEp,\"}/*!sc*/\n",
       ".jyvkLv{-webkit-flex:1;-ms-flex:1;flex:1;}/*!sc*/\n",
       "data-styled.g15[id=\"Content-sc-1n5ckz4-0\"]{content:\"jyvkLv,\"}/*!sc*/\n",
       ".flXzSu{display:-webkit-box;display:-webkit-flex;display:-ms-flexbox;display:flex;-webkit-flex-direction:column;-ms-flex-direction:column;flex-direction:column;-webkit-flex:1;-ms-flex:1;flex:1;}/*!sc*/\n",
       "@media (max-width:767px){.flXzSu{padding-inline-start:24px;padding-inline-end:24px;}}/*!sc*/\n",
       "@media (min-width:768px){.flXzSu{padding-inline-start:32px;padding-inline-end:32px;margin-inline-start:0;max-inline-size:100%;}}/*!sc*/\n",
       "data-styled.g16[id=\"Main-tbtyrr-0\"]{content:\"flXzSu,\"}/*!sc*/\n",
       ".fdgJxn{box-sizing:border-box;font-family:var(--font-family,spotify-circular),Helvetica,Arial,sans-serif;-webkit-tap-highlight-color:transparent;display:-webkit-box;display:-webkit-flex;display:-ms-flexbox;display:flex;-webkit-flex-wrap:wrap;-ms-flex-wrap:wrap;flex-wrap:wrap;min-inline-size:0;padding-block-start:24px;padding-block-end:24px;border-block-start:1px solid var(--decorative-subdued,#dedede);}/*!sc*/\n",
       "@media (min-width:768px){.fdgJxn{padding-inline-start:8px;padding-inline-end:8px;}}/*!sc*/\n",
       ".fdgJxn nav{min-inline-size:0;}/*!sc*/\n",
       ".fdgJxn >:last-child{display:-webkit-box;display:-webkit-flex;display:-ms-flexbox;display:flex;-webkit-align-items:flex-end;-webkit-box-align:flex-end;-ms-flex-align:flex-end;align-items:flex-end;-webkit-box-pack:end;-webkit-justify-content:flex-end;-ms-flex-pack:end;justify-content:flex-end;-webkit-box-flex:1;-webkit-flex-grow:1;-ms-flex-positive:1;flex-grow:1;-webkit-flex-shrink:0;-ms-flex-negative:0;flex-shrink:0;}/*!sc*/\n",
       "data-styled.g19[id=\"Container-sc-79vijq-0\"]{content:\"fdgJxn,\"}/*!sc*/\n",
       ".bVuthO{padding-block-end:0;-webkit-flex-shrink:0;-ms-flex-negative:0;flex-shrink:0;font-size:0.6875rem;line-height:1rem;font-weight:400;}/*!sc*/\n",
       "@media (min-width:768px){.bVuthO{font-size:0.6875rem;line-height:1rem;text-transform:none;-webkit-letter-spacing:normal;-moz-letter-spacing:normal;-ms-letter-spacing:normal;letter-spacing:normal;}}/*!sc*/\n",
       "@media (max-width:767px){}/*!sc*/\n",
       "@media (min-width:768px){}/*!sc*/\n",
       "data-styled.g20[id=\"Copyright-sc-15d7gge-0\"]{content:\"bVuthO,\"}/*!sc*/\n",
       ".eXPRFh{min-inline-size:0;color:var(--text-base,#000000);}/*!sc*/\n",
       "@media (max-width:767px){.eXPRFh{padding-block-end:4px;padding-block-start:4px;}.eXPRFh:last-child{padding-block-end:0;}}/*!sc*/\n",
       "@media (min-width:768px){.eXPRFh{padding-inline-end:48px;}.eXPRFh:last-child{-webkit-box-flex:1;-webkit-flex-grow:1;-ms-flex-positive:1;flex-grow:1;padding-inline-end:0;}}/*!sc*/\n",
       "data-styled.g21[id=\"Item-sc-16ne99o-0\"]{content:\"eXPRFh,\"}/*!sc*/\n",
       ".hPPrfs{-webkit-flex-wrap:wrap;-ms-flex-wrap:wrap;flex-wrap:wrap;}/*!sc*/\n",
       "@media (min-width:768px){.hPPrfs{-webkit-align-items:center;-webkit-box-align:center;-ms-flex-align:center;align-items:center;display:-webkit-box;display:-webkit-flex;display:-ms-flexbox;display:flex;-webkit-box-pack:start;-webkit-justify-content:flex-start;-ms-flex-pack:start;justify-content:flex-start;}}/*!sc*/\n",
       "data-styled.g22[id=\"List-vnil8g-0\"]{content:\"hPPrfs,\"}/*!sc*/\n",
       ".bGswfQ{box-sizing:border-box;font-family:var(--font-family,spotify-circular),Helvetica,Arial,sans-serif;-webkit-tap-highlight-color:transparent;color:var(--text-base,#000000);-webkit-align-items:center;-webkit-box-align:center;-ms-flex-align:center;align-items:center;-webkit-text-decoration:none;text-decoration:none;color:var(--text-base,#000000);display:-webkit-inline-box;display:-webkit-inline-flex;display:-ms-inline-flexbox;display:inline-flex;}/*!sc*/\n",
       ".bGswfQ[href],.bGswfQ:hover:not([disabled]){-webkit-text-decoration:underline;text-decoration:underline;}/*!sc*/\n",
       ".bGswfQ[href]:hover{-webkit-text-decoration:underline;text-decoration:underline;color:var(--text-base,#000000);}/*!sc*/\n",
       ".bGswfQ[href]:focus{outline:none;box-shadow:0 3px 0 0;-webkit-transition:box-shadow 200ms ease-in;transition:box-shadow 200ms ease-in;}/*!sc*/\n",
       ".bGswfQ[href]:focus.Link-k8gsk-0[href]:focus{-webkit-text-decoration:none;text-decoration:none;}/*!sc*/\n",
       ".bGswfQ[href]:active{color:var(--text-bright-accent,#117a37);}/*!sc*/\n",
       ".bGswfQ[disabled],.bGswfQ[href][disabled],.bGswfQ[aria-disabled='true']{color:var(--text-subdued,#6a6a6a);opacity:0.3;cursor:not-allowed;}/*!sc*/\n",
       ".bGswfQ,.bGswfQ[href]{-webkit-text-decoration:none;text-decoration:none;}/*!sc*/\n",
       ".bGswfQ[href]:hover,.bGswfQ[href]:hover:focus{-webkit-text-decoration:underline;text-decoration:underline;color:var(--text-subdued,#6a6a6a);}/*!sc*/\n",
       ".bGswfQ[href]:focus{-webkit-text-decoration:none;text-decoration:none;color:var(--text-base,#000000);}/*!sc*/\n",
       ".bGswfQ[href]:active{-webkit-text-decoration:underline;text-decoration:underline;color:var(--text-base,#000000);}/*!sc*/\n",
       ".bGswfQ[disabled],.bGswfQ[href][disabled],.bGswfQ[aria-disabled='true']{-webkit-text-decoration:none;text-decoration:none;}/*!sc*/\n",
       "data-styled.g23[id=\"Link-k8gsk-0\"]{content:\"bGswfQ,\"}/*!sc*/\n",
       ".cMCIWa{display:block;font-size:0.6875rem;line-height:1rem;font-weight:700;}/*!sc*/\n",
       "@media (min-width:768px){.cMCIWa{font-size:0.6875rem;line-height:1rem;text-transform:none;-webkit-letter-spacing:normal;-moz-letter-spacing:normal;-ms-letter-spacing:normal;letter-spacing:normal;}}/*!sc*/\n",
       "@media (max-width:767px){}/*!sc*/\n",
       "@media (min-width:768px){}/*!sc*/\n",
       "@media all and (-ms-high-contrast:none),(-ms-high-contrast:active){.cMCIWa{font-weight:400;}}/*!sc*/\n",
       "@supports (-ms-ime-align:auto){.cMCIWa{font-weight:400;}}/*!sc*/\n",
       "data-styled.g24[id=\"Link-fe80qw-0\"]{content:\"cMCIWa,\"}/*!sc*/\n",
       "*{box-sizing:border-box;}/*!sc*/\n",
       "*::before,*::after{box-sizing:border-box;}/*!sc*/\n",
       "body{font-family:spotify-circular,Helvetica,Arial,sans-serif;margin:0;}/*!sc*/\n",
       "html,body{height:100%;}/*!sc*/\n",
       "data-styled.g135[id=\"sc-global-cKDjoD1\"]{content:\"sc-global-cKDjoD1,\"}/*!sc*/\n",
       "@media (min-width:768px){.btVmFl{padding-left:48px;padding-right:48px;}}/*!sc*/\n",
       "@media (max-width:767px){.btVmFl{padding-left:16px;padding-right:16px;}}/*!sc*/\n",
       "data-styled.g224[id=\"ChartsFooter__StyledAppFooter-sc-68p0np-0\"]{content:\"btVmFl,\"}/*!sc*/\n",
       "@font-face{font-family:spotify-circular;src:url('https://encore.scdn.co/1.2.3/CircularSpotify-UI-Latin-OS2v3-Book.woff2') format('woff2'), url('https://encore.scdn.co/1.2.3/CircularSpotify-UI-Latin-OS2v3-Book.woff') format('woff');font-weight:400;font-style:normal;}/*!sc*/\n",
       "@font-face{font-family:spotify-circular;src:url('https://encore.scdn.co/1.2.3/CircularSpotify-UI-Latin-OS2v3-Bold.woff2') format('woff2'), url('https://encore.scdn.co/1.2.3/CircularSpotify-UI-Latin-OS2v3-Bold.woff') format('woff');font-weight:700;font-style:normal;}/*!sc*/\n",
       "@font-face{font-family:spotify-circular;src:url('https://encore.scdn.co/1.2.3/CircularSpotify-UI-Latin-OS2v3-Black.woff2') format('woff2'), url('https://encore.scdn.co/1.2.3/CircularSpotify-UI-Latin-OS2v3-Black.woff') format('woff');font-weight:900;font-style:normal;}/*!sc*/\n",
       "data-styled.g225[id=\"sc-global-eWgKCs1\"]{content:\"sc-global-eWgKCs1,\"}/*!sc*/\n",
       "</style></head><body data-qa=\"spotify-charts-website\"><div data-reactroot=\"\" id=\"__next\"><div class=\"encore-creator-light-theme\"><div class=\"Container-c1ixcy-0 krZEp encore-base-set\"><aside class=\"Aside-sc-1wnswz1-0 kEOKET\"></aside><main class=\"Main-tbtyrr-0 flXzSu\"><div class=\"Banner-sc-1bnzyty-0 gSnYRE\"></div><div class=\"Content-sc-1n5ckz4-0 jyvkLv\"></div><div><footer class=\"Container-sc-79vijq-0 fdgJxn ChartsFooter__StyledAppFooter-sc-68p0np-0 btVmFl\"><nav><ul class=\"List-sc-64p3hb-0 List-vnil8g-0 bucGtk hPPrfs\" role=\"list\"><li class=\"ListItem-sc-14osqn3-0 Item-sc-16ne99o-0 kKJlmK eXPRFh\"><a class=\"Link-k8gsk-0 bGswfQ Link-fe80qw-0 cMCIWa\" href=\"https://www.spotify.com/legal\" rel=\"noopener noreferrer\" target=\"_blank\">Legal</a></li><li class=\"ListItem-sc-14osqn3-0 Item-sc-16ne99o-0 kKJlmK eXPRFh\"><a class=\"Link-k8gsk-0 bGswfQ Link-fe80qw-0 cMCIWa\" href=\"https://www.spotify.com/legal/privacy-policy/\" rel=\"noopener noreferrer\" target=\"_blank\">Privacy</a></li><li class=\"ListItem-sc-14osqn3-0 Item-sc-16ne99o-0 kKJlmK eXPRFh\"><a class=\"Link-k8gsk-0 bGswfQ Link-fe80qw-0 cMCIWa\" href=\"https://www.spotify.com/legal/cookies-policy/\" rel=\"noopener noreferrer\" target=\"_blank\">Cookies</a></li><li class=\"ListItem-sc-14osqn3-0 Item-sc-16ne99o-0 kKJlmK eXPRFh\"><a class=\"Link-k8gsk-0 bGswfQ Link-fe80qw-0 cMCIWa\" href=\"https://support.spotify.com/us/artists/article/charts/\" rel=\"noopener noreferrer\" target=\"_blank\">FAQ</a></li></ul></nav><div><small class=\"Type__TypeElement-goli3j-0 lfGOlT Type__TypeElement-goli3j-0 lfGOlT Copyright-sc-15d7gge-0 bVuthO\" translate=\"no\">© <!-- -->2023<!-- --> Spotify AB</small></div></footer></div></main></div></div></div><script id=\"__NEXT_DATA__\" type=\"application/json\">{\"props\":{\"pageProps\":{}},\"page\":\"/charts/view/[alias]/[date]\",\"query\":{},\"buildId\":\"Q1zV34HcJgf-1M6ASw_4N\",\"assetPrefix\":\"https://mrkt-web.scdn.co/charts-spotify-com\",\"nextExport\":true,\"autoExport\":true,\"isFallback\":false,\"scriptLoader\":[]}</script></body></html>"
      ]
     },
     "execution_count": 106,
     "metadata": {},
     "output_type": "execute_result"
    }
   ],
   "source": [
    "soup"
   ]
  },
  {
   "cell_type": "code",
   "execution_count": null,
   "id": "8ca8e4d2",
   "metadata": {},
   "outputs": [],
   "source": []
  },
  {
   "cell_type": "code",
   "execution_count": null,
   "id": "0922bb02",
   "metadata": {},
   "outputs": [],
   "source": []
  },
  {
   "cell_type": "code",
   "execution_count": null,
   "id": "e2946169",
   "metadata": {},
   "outputs": [],
   "source": []
  },
  {
   "cell_type": "code",
   "execution_count": 96,
   "id": "967e27f0",
   "metadata": {},
   "outputs": [
    {
     "name": "stdout",
     "output_type": "stream",
     "text": [
      "No CSV link found for 2016-12-29\n",
      "No CSV link found for 2017-01-05\n",
      "No CSV link found for 2017-01-12\n",
      "No CSV link found for 2017-01-19\n",
      "No CSV link found for 2017-01-26\n",
      "No CSV link found for 2017-02-02\n",
      "No CSV link found for 2017-02-09\n",
      "No CSV link found for 2017-02-16\n",
      "No CSV link found for 2017-02-23\n",
      "No CSV link found for 2017-03-02\n",
      "No CSV link found for 2017-03-09\n",
      "No CSV link found for 2017-03-16\n",
      "No CSV link found for 2017-03-23\n",
      "No CSV link found for 2017-03-30\n",
      "No CSV link found for 2017-04-06\n",
      "No CSV link found for 2017-04-13\n",
      "No CSV link found for 2017-04-20\n",
      "No CSV link found for 2017-04-27\n",
      "No CSV link found for 2017-05-04\n",
      "No CSV link found for 2017-05-11\n",
      "No CSV link found for 2017-05-18\n",
      "No CSV link found for 2017-05-25\n",
      "No CSV link found for 2017-06-01\n",
      "No CSV link found for 2017-06-08\n",
      "No CSV link found for 2017-06-15\n",
      "No CSV link found for 2017-06-22\n",
      "No CSV link found for 2017-06-29\n",
      "No CSV link found for 2017-07-06\n",
      "No CSV link found for 2017-07-13\n",
      "No CSV link found for 2017-07-20\n",
      "No CSV link found for 2017-07-27\n",
      "No CSV link found for 2017-08-03\n",
      "No CSV link found for 2017-08-10\n",
      "No CSV link found for 2017-08-17\n",
      "No CSV link found for 2017-08-24\n",
      "No CSV link found for 2017-08-31\n",
      "No CSV link found for 2017-09-07\n",
      "No CSV link found for 2017-09-14\n",
      "No CSV link found for 2017-09-21\n",
      "No CSV link found for 2017-09-28\n",
      "No CSV link found for 2017-10-05\n",
      "No CSV link found for 2017-10-12\n",
      "No CSV link found for 2017-10-19\n",
      "No CSV link found for 2017-10-26\n",
      "No CSV link found for 2017-11-02\n",
      "No CSV link found for 2017-11-09\n",
      "No CSV link found for 2017-11-16\n",
      "No CSV link found for 2017-11-23\n",
      "No CSV link found for 2017-11-30\n",
      "No CSV link found for 2017-12-07\n",
      "No CSV link found for 2017-12-14\n",
      "No CSV link found for 2017-12-21\n",
      "No CSV link found for 2017-12-28\n",
      "No CSV link found for 2018-01-04\n",
      "No CSV link found for 2018-01-11\n",
      "No CSV link found for 2018-01-18\n",
      "No CSV link found for 2018-01-25\n",
      "No CSV link found for 2018-02-01\n",
      "No CSV link found for 2018-02-08\n",
      "No CSV link found for 2018-02-15\n",
      "No CSV link found for 2018-02-22\n",
      "No CSV link found for 2018-03-01\n",
      "No CSV link found for 2018-03-08\n",
      "No CSV link found for 2018-03-15\n",
      "No CSV link found for 2018-03-22\n",
      "No CSV link found for 2018-03-29\n",
      "No CSV link found for 2018-04-05\n",
      "No CSV link found for 2018-04-12\n",
      "No CSV link found for 2018-04-19\n",
      "No CSV link found for 2018-04-26\n",
      "No CSV link found for 2018-05-03\n",
      "No CSV link found for 2018-05-10\n",
      "No CSV link found for 2018-05-17\n",
      "No CSV link found for 2018-05-24\n",
      "No CSV link found for 2018-05-31\n",
      "No CSV link found for 2018-06-07\n",
      "No CSV link found for 2018-06-14\n",
      "No CSV link found for 2018-06-21\n",
      "No CSV link found for 2018-06-28\n",
      "No CSV link found for 2018-07-05\n",
      "No CSV link found for 2018-07-12\n",
      "No CSV link found for 2018-07-19\n",
      "No CSV link found for 2018-07-26\n",
      "No CSV link found for 2018-08-02\n",
      "No CSV link found for 2018-08-09\n",
      "No CSV link found for 2018-08-16\n",
      "No CSV link found for 2018-08-23\n",
      "No CSV link found for 2018-08-30\n",
      "No CSV link found for 2018-09-06\n",
      "No CSV link found for 2018-09-13\n",
      "No CSV link found for 2018-09-20\n",
      "No CSV link found for 2018-09-27\n",
      "No CSV link found for 2018-10-04\n",
      "No CSV link found for 2018-10-11\n",
      "No CSV link found for 2018-10-18\n",
      "No CSV link found for 2018-10-25\n",
      "No CSV link found for 2018-11-01\n",
      "No CSV link found for 2018-11-08\n",
      "No CSV link found for 2018-11-15\n",
      "No CSV link found for 2018-11-22\n",
      "No CSV link found for 2018-11-29\n",
      "No CSV link found for 2018-12-06\n",
      "No CSV link found for 2018-12-13\n",
      "No CSV link found for 2018-12-20\n",
      "No CSV link found for 2018-12-27\n",
      "No CSV link found for 2019-01-03\n",
      "No CSV link found for 2019-01-10\n",
      "No CSV link found for 2019-01-17\n",
      "No CSV link found for 2019-01-24\n",
      "No CSV link found for 2019-01-31\n",
      "No CSV link found for 2019-02-07\n",
      "No CSV link found for 2019-02-14\n",
      "No CSV link found for 2019-02-21\n",
      "No CSV link found for 2019-02-28\n",
      "No CSV link found for 2019-03-07\n",
      "No CSV link found for 2019-03-14\n",
      "No CSV link found for 2019-03-21\n",
      "No CSV link found for 2019-03-28\n",
      "No CSV link found for 2019-04-04\n",
      "No CSV link found for 2019-04-11\n",
      "No CSV link found for 2019-04-18\n",
      "No CSV link found for 2019-04-25\n",
      "No CSV link found for 2019-05-02\n",
      "No CSV link found for 2019-05-09\n",
      "No CSV link found for 2019-05-16\n",
      "No CSV link found for 2019-05-23\n",
      "No CSV link found for 2019-05-30\n",
      "No CSV link found for 2019-06-06\n",
      "No CSV link found for 2019-06-13\n",
      "No CSV link found for 2019-06-20\n",
      "No CSV link found for 2019-06-27\n",
      "No CSV link found for 2019-07-04\n",
      "No CSV link found for 2019-07-11\n",
      "No CSV link found for 2019-07-18\n",
      "No CSV link found for 2019-07-25\n",
      "No CSV link found for 2019-08-01\n",
      "No CSV link found for 2019-08-08\n",
      "No CSV link found for 2019-08-15\n",
      "No CSV link found for 2019-08-22\n",
      "No CSV link found for 2019-08-29\n",
      "No CSV link found for 2019-09-05\n",
      "No CSV link found for 2019-09-12\n",
      "No CSV link found for 2019-09-19\n",
      "No CSV link found for 2019-09-26\n",
      "No CSV link found for 2019-10-03\n",
      "No CSV link found for 2019-10-10\n",
      "No CSV link found for 2019-10-17\n",
      "No CSV link found for 2019-10-24\n",
      "No CSV link found for 2019-10-31\n"
     ]
    },
    {
     "ename": "KeyboardInterrupt",
     "evalue": "",
     "output_type": "error",
     "traceback": [
      "\u001b[1;31m---------------------------------------------------------------------------\u001b[0m",
      "\u001b[1;31mKeyboardInterrupt\u001b[0m                         Traceback (most recent call last)",
      "\u001b[1;32m~\\AppData\\Local\\Temp\\ipykernel_38264\\3393986005.py\u001b[0m in \u001b[0;36m<module>\u001b[1;34m\u001b[0m\n\u001b[0;32m     43\u001b[0m \u001b[1;32mwhile\u001b[0m \u001b[0mcurrent_date\u001b[0m \u001b[1;33m<=\u001b[0m \u001b[0mend_date\u001b[0m\u001b[1;33m:\u001b[0m\u001b[1;33m\u001b[0m\u001b[1;33m\u001b[0m\u001b[0m\n\u001b[0;32m     44\u001b[0m     \u001b[0mdate_str\u001b[0m \u001b[1;33m=\u001b[0m \u001b[0mcurrent_date\u001b[0m\u001b[1;33m.\u001b[0m\u001b[0mstrftime\u001b[0m\u001b[1;33m(\u001b[0m\u001b[1;34m\"%Y-%m-%d\"\u001b[0m\u001b[1;33m)\u001b[0m\u001b[1;33m\u001b[0m\u001b[1;33m\u001b[0m\u001b[0m\n\u001b[1;32m---> 45\u001b[1;33m     \u001b[0mdownload_csv_for_date\u001b[0m\u001b[1;33m(\u001b[0m\u001b[0mdate_str\u001b[0m\u001b[1;33m)\u001b[0m\u001b[1;33m\u001b[0m\u001b[1;33m\u001b[0m\u001b[0m\n\u001b[0m\u001b[0;32m     46\u001b[0m     \u001b[0mcurrent_date\u001b[0m \u001b[1;33m+=\u001b[0m \u001b[0mtimedelta\u001b[0m\u001b[1;33m(\u001b[0m\u001b[0mdays\u001b[0m\u001b[1;33m=\u001b[0m\u001b[1;36m7\u001b[0m\u001b[1;33m)\u001b[0m\u001b[1;33m\u001b[0m\u001b[1;33m\u001b[0m\u001b[0m\n\u001b[0;32m     47\u001b[0m \u001b[1;33m\u001b[0m\u001b[0m\n",
      "\u001b[1;32m~\\AppData\\Local\\Temp\\ipykernel_38264\\3393986005.py\u001b[0m in \u001b[0;36mdownload_csv_for_date\u001b[1;34m(date_str)\u001b[0m\n\u001b[0;32m     21\u001b[0m \u001b[1;32mdef\u001b[0m \u001b[0mdownload_csv_for_date\u001b[0m\u001b[1;33m(\u001b[0m\u001b[0mdate_str\u001b[0m\u001b[1;33m)\u001b[0m\u001b[1;33m:\u001b[0m\u001b[1;33m\u001b[0m\u001b[1;33m\u001b[0m\u001b[0m\n\u001b[0;32m     22\u001b[0m     \u001b[0murl\u001b[0m \u001b[1;33m=\u001b[0m \u001b[0mbase_url\u001b[0m \u001b[1;33m+\u001b[0m \u001b[0mdate_str\u001b[0m\u001b[1;33m\u001b[0m\u001b[1;33m\u001b[0m\u001b[0m\n\u001b[1;32m---> 23\u001b[1;33m     \u001b[0mresponse\u001b[0m \u001b[1;33m=\u001b[0m \u001b[0mrequests\u001b[0m\u001b[1;33m.\u001b[0m\u001b[0mget\u001b[0m\u001b[1;33m(\u001b[0m\u001b[0murl\u001b[0m\u001b[1;33m)\u001b[0m\u001b[1;33m\u001b[0m\u001b[1;33m\u001b[0m\u001b[0m\n\u001b[0m\u001b[0;32m     24\u001b[0m     \u001b[1;32mif\u001b[0m \u001b[0mresponse\u001b[0m\u001b[1;33m.\u001b[0m\u001b[0mstatus_code\u001b[0m \u001b[1;33m==\u001b[0m \u001b[1;36m200\u001b[0m\u001b[1;33m:\u001b[0m\u001b[1;33m\u001b[0m\u001b[1;33m\u001b[0m\u001b[0m\n\u001b[0;32m     25\u001b[0m         \u001b[0msoup\u001b[0m \u001b[1;33m=\u001b[0m \u001b[0mBeautifulSoup\u001b[0m\u001b[1;33m(\u001b[0m\u001b[0mresponse\u001b[0m\u001b[1;33m.\u001b[0m\u001b[0mtext\u001b[0m\u001b[1;33m,\u001b[0m \u001b[1;34m'html.parser'\u001b[0m\u001b[1;33m)\u001b[0m\u001b[1;33m\u001b[0m\u001b[1;33m\u001b[0m\u001b[0m\n",
      "\u001b[1;32m~\\anaconda3\\lib\\site-packages\\requests\\api.py\u001b[0m in \u001b[0;36mget\u001b[1;34m(url, params, **kwargs)\u001b[0m\n\u001b[0;32m     71\u001b[0m     \"\"\"\n\u001b[0;32m     72\u001b[0m \u001b[1;33m\u001b[0m\u001b[0m\n\u001b[1;32m---> 73\u001b[1;33m     \u001b[1;32mreturn\u001b[0m \u001b[0mrequest\u001b[0m\u001b[1;33m(\u001b[0m\u001b[1;34m\"get\"\u001b[0m\u001b[1;33m,\u001b[0m \u001b[0murl\u001b[0m\u001b[1;33m,\u001b[0m \u001b[0mparams\u001b[0m\u001b[1;33m=\u001b[0m\u001b[0mparams\u001b[0m\u001b[1;33m,\u001b[0m \u001b[1;33m**\u001b[0m\u001b[0mkwargs\u001b[0m\u001b[1;33m)\u001b[0m\u001b[1;33m\u001b[0m\u001b[1;33m\u001b[0m\u001b[0m\n\u001b[0m\u001b[0;32m     74\u001b[0m \u001b[1;33m\u001b[0m\u001b[0m\n\u001b[0;32m     75\u001b[0m \u001b[1;33m\u001b[0m\u001b[0m\n",
      "\u001b[1;32m~\\anaconda3\\lib\\site-packages\\requests\\api.py\u001b[0m in \u001b[0;36mrequest\u001b[1;34m(method, url, **kwargs)\u001b[0m\n\u001b[0;32m     57\u001b[0m     \u001b[1;31m# cases, and look like a memory leak in others.\u001b[0m\u001b[1;33m\u001b[0m\u001b[1;33m\u001b[0m\u001b[0m\n\u001b[0;32m     58\u001b[0m     \u001b[1;32mwith\u001b[0m \u001b[0msessions\u001b[0m\u001b[1;33m.\u001b[0m\u001b[0mSession\u001b[0m\u001b[1;33m(\u001b[0m\u001b[1;33m)\u001b[0m \u001b[1;32mas\u001b[0m \u001b[0msession\u001b[0m\u001b[1;33m:\u001b[0m\u001b[1;33m\u001b[0m\u001b[1;33m\u001b[0m\u001b[0m\n\u001b[1;32m---> 59\u001b[1;33m         \u001b[1;32mreturn\u001b[0m \u001b[0msession\u001b[0m\u001b[1;33m.\u001b[0m\u001b[0mrequest\u001b[0m\u001b[1;33m(\u001b[0m\u001b[0mmethod\u001b[0m\u001b[1;33m=\u001b[0m\u001b[0mmethod\u001b[0m\u001b[1;33m,\u001b[0m \u001b[0murl\u001b[0m\u001b[1;33m=\u001b[0m\u001b[0murl\u001b[0m\u001b[1;33m,\u001b[0m \u001b[1;33m**\u001b[0m\u001b[0mkwargs\u001b[0m\u001b[1;33m)\u001b[0m\u001b[1;33m\u001b[0m\u001b[1;33m\u001b[0m\u001b[0m\n\u001b[0m\u001b[0;32m     60\u001b[0m \u001b[1;33m\u001b[0m\u001b[0m\n\u001b[0;32m     61\u001b[0m \u001b[1;33m\u001b[0m\u001b[0m\n",
      "\u001b[1;32m~\\anaconda3\\lib\\site-packages\\requests\\sessions.py\u001b[0m in \u001b[0;36mrequest\u001b[1;34m(self, method, url, params, data, headers, cookies, files, auth, timeout, allow_redirects, proxies, hooks, stream, verify, cert, json)\u001b[0m\n\u001b[0;32m    585\u001b[0m         }\n\u001b[0;32m    586\u001b[0m         \u001b[0msend_kwargs\u001b[0m\u001b[1;33m.\u001b[0m\u001b[0mupdate\u001b[0m\u001b[1;33m(\u001b[0m\u001b[0msettings\u001b[0m\u001b[1;33m)\u001b[0m\u001b[1;33m\u001b[0m\u001b[1;33m\u001b[0m\u001b[0m\n\u001b[1;32m--> 587\u001b[1;33m         \u001b[0mresp\u001b[0m \u001b[1;33m=\u001b[0m \u001b[0mself\u001b[0m\u001b[1;33m.\u001b[0m\u001b[0msend\u001b[0m\u001b[1;33m(\u001b[0m\u001b[0mprep\u001b[0m\u001b[1;33m,\u001b[0m \u001b[1;33m**\u001b[0m\u001b[0msend_kwargs\u001b[0m\u001b[1;33m)\u001b[0m\u001b[1;33m\u001b[0m\u001b[1;33m\u001b[0m\u001b[0m\n\u001b[0m\u001b[0;32m    588\u001b[0m \u001b[1;33m\u001b[0m\u001b[0m\n\u001b[0;32m    589\u001b[0m         \u001b[1;32mreturn\u001b[0m \u001b[0mresp\u001b[0m\u001b[1;33m\u001b[0m\u001b[1;33m\u001b[0m\u001b[0m\n",
      "\u001b[1;32m~\\anaconda3\\lib\\site-packages\\requests\\sessions.py\u001b[0m in \u001b[0;36msend\u001b[1;34m(self, request, **kwargs)\u001b[0m\n\u001b[0;32m    699\u001b[0m \u001b[1;33m\u001b[0m\u001b[0m\n\u001b[0;32m    700\u001b[0m         \u001b[1;31m# Send the request\u001b[0m\u001b[1;33m\u001b[0m\u001b[1;33m\u001b[0m\u001b[0m\n\u001b[1;32m--> 701\u001b[1;33m         \u001b[0mr\u001b[0m \u001b[1;33m=\u001b[0m \u001b[0madapter\u001b[0m\u001b[1;33m.\u001b[0m\u001b[0msend\u001b[0m\u001b[1;33m(\u001b[0m\u001b[0mrequest\u001b[0m\u001b[1;33m,\u001b[0m \u001b[1;33m**\u001b[0m\u001b[0mkwargs\u001b[0m\u001b[1;33m)\u001b[0m\u001b[1;33m\u001b[0m\u001b[1;33m\u001b[0m\u001b[0m\n\u001b[0m\u001b[0;32m    702\u001b[0m \u001b[1;33m\u001b[0m\u001b[0m\n\u001b[0;32m    703\u001b[0m         \u001b[1;31m# Total elapsed time of the request (approximately)\u001b[0m\u001b[1;33m\u001b[0m\u001b[1;33m\u001b[0m\u001b[0m\n",
      "\u001b[1;32m~\\anaconda3\\lib\\site-packages\\requests\\adapters.py\u001b[0m in \u001b[0;36msend\u001b[1;34m(self, request, stream, timeout, verify, cert, proxies)\u001b[0m\n\u001b[0;32m    487\u001b[0m         \u001b[1;32mtry\u001b[0m\u001b[1;33m:\u001b[0m\u001b[1;33m\u001b[0m\u001b[1;33m\u001b[0m\u001b[0m\n\u001b[0;32m    488\u001b[0m             \u001b[1;32mif\u001b[0m \u001b[1;32mnot\u001b[0m \u001b[0mchunked\u001b[0m\u001b[1;33m:\u001b[0m\u001b[1;33m\u001b[0m\u001b[1;33m\u001b[0m\u001b[0m\n\u001b[1;32m--> 489\u001b[1;33m                 resp = conn.urlopen(\n\u001b[0m\u001b[0;32m    490\u001b[0m                     \u001b[0mmethod\u001b[0m\u001b[1;33m=\u001b[0m\u001b[0mrequest\u001b[0m\u001b[1;33m.\u001b[0m\u001b[0mmethod\u001b[0m\u001b[1;33m,\u001b[0m\u001b[1;33m\u001b[0m\u001b[1;33m\u001b[0m\u001b[0m\n\u001b[0;32m    491\u001b[0m                     \u001b[0murl\u001b[0m\u001b[1;33m=\u001b[0m\u001b[0murl\u001b[0m\u001b[1;33m,\u001b[0m\u001b[1;33m\u001b[0m\u001b[1;33m\u001b[0m\u001b[0m\n",
      "\u001b[1;32m~\\anaconda3\\lib\\site-packages\\urllib3\\connectionpool.py\u001b[0m in \u001b[0;36murlopen\u001b[1;34m(self, method, url, body, headers, retries, redirect, assert_same_host, timeout, pool_timeout, release_conn, chunked, body_pos, **response_kw)\u001b[0m\n\u001b[0;32m    701\u001b[0m \u001b[1;33m\u001b[0m\u001b[0m\n\u001b[0;32m    702\u001b[0m             \u001b[1;31m# Make the request on the httplib connection object.\u001b[0m\u001b[1;33m\u001b[0m\u001b[1;33m\u001b[0m\u001b[0m\n\u001b[1;32m--> 703\u001b[1;33m             httplib_response = self._make_request(\n\u001b[0m\u001b[0;32m    704\u001b[0m                 \u001b[0mconn\u001b[0m\u001b[1;33m,\u001b[0m\u001b[1;33m\u001b[0m\u001b[1;33m\u001b[0m\u001b[0m\n\u001b[0;32m    705\u001b[0m                 \u001b[0mmethod\u001b[0m\u001b[1;33m,\u001b[0m\u001b[1;33m\u001b[0m\u001b[1;33m\u001b[0m\u001b[0m\n",
      "\u001b[1;32m~\\anaconda3\\lib\\site-packages\\urllib3\\connectionpool.py\u001b[0m in \u001b[0;36m_make_request\u001b[1;34m(self, conn, method, url, timeout, chunked, **httplib_request_kw)\u001b[0m\n\u001b[0;32m    384\u001b[0m         \u001b[1;31m# Trigger any extra validation we need to do.\u001b[0m\u001b[1;33m\u001b[0m\u001b[1;33m\u001b[0m\u001b[0m\n\u001b[0;32m    385\u001b[0m         \u001b[1;32mtry\u001b[0m\u001b[1;33m:\u001b[0m\u001b[1;33m\u001b[0m\u001b[1;33m\u001b[0m\u001b[0m\n\u001b[1;32m--> 386\u001b[1;33m             \u001b[0mself\u001b[0m\u001b[1;33m.\u001b[0m\u001b[0m_validate_conn\u001b[0m\u001b[1;33m(\u001b[0m\u001b[0mconn\u001b[0m\u001b[1;33m)\u001b[0m\u001b[1;33m\u001b[0m\u001b[1;33m\u001b[0m\u001b[0m\n\u001b[0m\u001b[0;32m    387\u001b[0m         \u001b[1;32mexcept\u001b[0m \u001b[1;33m(\u001b[0m\u001b[0mSocketTimeout\u001b[0m\u001b[1;33m,\u001b[0m \u001b[0mBaseSSLError\u001b[0m\u001b[1;33m)\u001b[0m \u001b[1;32mas\u001b[0m \u001b[0me\u001b[0m\u001b[1;33m:\u001b[0m\u001b[1;33m\u001b[0m\u001b[1;33m\u001b[0m\u001b[0m\n\u001b[0;32m    388\u001b[0m             \u001b[1;31m# Py2 raises this as a BaseSSLError, Py3 raises it as socket timeout.\u001b[0m\u001b[1;33m\u001b[0m\u001b[1;33m\u001b[0m\u001b[0m\n",
      "\u001b[1;32m~\\anaconda3\\lib\\site-packages\\urllib3\\connectionpool.py\u001b[0m in \u001b[0;36m_validate_conn\u001b[1;34m(self, conn)\u001b[0m\n\u001b[0;32m   1040\u001b[0m         \u001b[1;31m# Force connect early to allow us to validate the connection.\u001b[0m\u001b[1;33m\u001b[0m\u001b[1;33m\u001b[0m\u001b[0m\n\u001b[0;32m   1041\u001b[0m         \u001b[1;32mif\u001b[0m \u001b[1;32mnot\u001b[0m \u001b[0mgetattr\u001b[0m\u001b[1;33m(\u001b[0m\u001b[0mconn\u001b[0m\u001b[1;33m,\u001b[0m \u001b[1;34m\"sock\"\u001b[0m\u001b[1;33m,\u001b[0m \u001b[1;32mNone\u001b[0m\u001b[1;33m)\u001b[0m\u001b[1;33m:\u001b[0m  \u001b[1;31m# AppEngine might not have  `.sock`\u001b[0m\u001b[1;33m\u001b[0m\u001b[1;33m\u001b[0m\u001b[0m\n\u001b[1;32m-> 1042\u001b[1;33m             \u001b[0mconn\u001b[0m\u001b[1;33m.\u001b[0m\u001b[0mconnect\u001b[0m\u001b[1;33m(\u001b[0m\u001b[1;33m)\u001b[0m\u001b[1;33m\u001b[0m\u001b[1;33m\u001b[0m\u001b[0m\n\u001b[0m\u001b[0;32m   1043\u001b[0m \u001b[1;33m\u001b[0m\u001b[0m\n\u001b[0;32m   1044\u001b[0m         \u001b[1;32mif\u001b[0m \u001b[1;32mnot\u001b[0m \u001b[0mconn\u001b[0m\u001b[1;33m.\u001b[0m\u001b[0mis_verified\u001b[0m\u001b[1;33m:\u001b[0m\u001b[1;33m\u001b[0m\u001b[1;33m\u001b[0m\u001b[0m\n",
      "\u001b[1;32m~\\anaconda3\\lib\\site-packages\\urllib3\\connection.py\u001b[0m in \u001b[0;36mconnect\u001b[1;34m(self)\u001b[0m\n\u001b[0;32m    412\u001b[0m             \u001b[0mcontext\u001b[0m\u001b[1;33m.\u001b[0m\u001b[0mload_default_certs\u001b[0m\u001b[1;33m(\u001b[0m\u001b[1;33m)\u001b[0m\u001b[1;33m\u001b[0m\u001b[1;33m\u001b[0m\u001b[0m\n\u001b[0;32m    413\u001b[0m \u001b[1;33m\u001b[0m\u001b[0m\n\u001b[1;32m--> 414\u001b[1;33m         self.sock = ssl_wrap_socket(\n\u001b[0m\u001b[0;32m    415\u001b[0m             \u001b[0msock\u001b[0m\u001b[1;33m=\u001b[0m\u001b[0mconn\u001b[0m\u001b[1;33m,\u001b[0m\u001b[1;33m\u001b[0m\u001b[1;33m\u001b[0m\u001b[0m\n\u001b[0;32m    416\u001b[0m             \u001b[0mkeyfile\u001b[0m\u001b[1;33m=\u001b[0m\u001b[0mself\u001b[0m\u001b[1;33m.\u001b[0m\u001b[0mkey_file\u001b[0m\u001b[1;33m,\u001b[0m\u001b[1;33m\u001b[0m\u001b[1;33m\u001b[0m\u001b[0m\n",
      "\u001b[1;32m~\\anaconda3\\lib\\site-packages\\urllib3\\util\\ssl_.py\u001b[0m in \u001b[0;36mssl_wrap_socket\u001b[1;34m(sock, keyfile, certfile, cert_reqs, ca_certs, server_hostname, ssl_version, ciphers, ssl_context, ca_cert_dir, key_password, ca_cert_data, tls_in_tls)\u001b[0m\n\u001b[0;32m    400\u001b[0m     \u001b[1;32mif\u001b[0m \u001b[0mca_certs\u001b[0m \u001b[1;32mor\u001b[0m \u001b[0mca_cert_dir\u001b[0m \u001b[1;32mor\u001b[0m \u001b[0mca_cert_data\u001b[0m\u001b[1;33m:\u001b[0m\u001b[1;33m\u001b[0m\u001b[1;33m\u001b[0m\u001b[0m\n\u001b[0;32m    401\u001b[0m         \u001b[1;32mtry\u001b[0m\u001b[1;33m:\u001b[0m\u001b[1;33m\u001b[0m\u001b[1;33m\u001b[0m\u001b[0m\n\u001b[1;32m--> 402\u001b[1;33m             \u001b[0mcontext\u001b[0m\u001b[1;33m.\u001b[0m\u001b[0mload_verify_locations\u001b[0m\u001b[1;33m(\u001b[0m\u001b[0mca_certs\u001b[0m\u001b[1;33m,\u001b[0m \u001b[0mca_cert_dir\u001b[0m\u001b[1;33m,\u001b[0m \u001b[0mca_cert_data\u001b[0m\u001b[1;33m)\u001b[0m\u001b[1;33m\u001b[0m\u001b[1;33m\u001b[0m\u001b[0m\n\u001b[0m\u001b[0;32m    403\u001b[0m         \u001b[1;32mexcept\u001b[0m \u001b[1;33m(\u001b[0m\u001b[0mIOError\u001b[0m\u001b[1;33m,\u001b[0m \u001b[0mOSError\u001b[0m\u001b[1;33m)\u001b[0m \u001b[1;32mas\u001b[0m \u001b[0me\u001b[0m\u001b[1;33m:\u001b[0m\u001b[1;33m\u001b[0m\u001b[1;33m\u001b[0m\u001b[0m\n\u001b[0;32m    404\u001b[0m             \u001b[1;32mraise\u001b[0m \u001b[0mSSLError\u001b[0m\u001b[1;33m(\u001b[0m\u001b[0me\u001b[0m\u001b[1;33m)\u001b[0m\u001b[1;33m\u001b[0m\u001b[1;33m\u001b[0m\u001b[0m\n",
      "\u001b[1;31mKeyboardInterrupt\u001b[0m: "
     ]
    }
   ],
   "source": [
    "import os\n",
    "import requests\n",
    "from bs4 import BeautifulSoup\n",
    "from datetime import date, timedelta\n",
    "import pandas as pd\n",
    "\n",
    "# Define the base URL for Spotify charts\n",
    "base_url = \"https://charts.spotify.com/charts/view/regional-us-weekly/\"\n",
    "\n",
    "# Define the start and end dates\n",
    "start_date = date(2016, 12, 29)\n",
    "end_date = date(2023, 9, 14)\n",
    "\n",
    "# Define the folder where you want to save the CSV files\n",
    "output_folder = \"spotify_charts_csv\"\n",
    "\n",
    "# Create the output folder if it doesn't exist\n",
    "os.makedirs(output_folder, exist_ok=True)\n",
    "\n",
    "# Function to download CSV for a specific date\n",
    "def download_csv_for_date(date_str):\n",
    "    url = base_url + date_str\n",
    "    response = requests.get(url)\n",
    "    if response.status_code == 200:\n",
    "        soup = BeautifulSoup(response.text, 'html.parser')\n",
    "        csv_link = soup.find(\"a\", {\"class\": \"styled__CSVLink-sc-135veyd-5 kMpXks\"})\n",
    "        if csv_link:\n",
    "            csv_url = f\"https://charts.spotify.com{csv_link.get('href')}\"\n",
    "            response = requests.get(csv_url)\n",
    "            if response.status_code == 200:\n",
    "                with open(os.path.join(output_folder, f\"{date_str}.csv\"), \"wb\") as f:\n",
    "                    f.write(response.content)\n",
    "                    print(f\"Downloaded {date_str}.csv\")\n",
    "            else:\n",
    "                print(f\"Failed to download {date_str}.csv\")\n",
    "        else:\n",
    "            print(f\"No CSV link found for {date_str}\")\n",
    "    else:\n",
    "        print(f\"Failed to fetch {url}\")\n",
    "\n",
    "# Loop through the date range and download CSV files\n",
    "current_date = start_date\n",
    "while current_date <= end_date:\n",
    "    date_str = current_date.strftime(\"%Y-%m-%d\")\n",
    "    download_csv_for_date(date_str)\n",
    "    current_date += timedelta(days=7)\n",
    "\n",
    "# Optional: Merge all downloaded CSV files into a single DataFrame\n",
    "csv_files = [os.path.join(output_folder, f\"{date_str}.csv\") for date_str in pd.date_range(start=start_date, end=end_date, freq='7D').strftime(\"%Y-%m-%d\")]\n",
    "combined_df = pd.concat([pd.read_csv(file) for file in csv_files], ignore_index=True)\n",
    "combined_df.to_csv(os.path.join(output_folder, \"combined_spotify_charts.csv\"), index=False)\n",
    "\n",
    "print(\"All CSV files downloaded and merged.\")\n"
   ]
  },
  {
   "cell_type": "code",
   "execution_count": 95,
   "id": "203ed34d",
   "metadata": {},
   "outputs": [
    {
     "data": {
      "text/plain": [
       "'https://accounts.spotify.com/api/token'"
      ]
     },
     "execution_count": 95,
     "metadata": {},
     "output_type": "execute_result"
    }
   ],
   "source": [
    "url"
   ]
  },
  {
   "cell_type": "code",
   "execution_count": null,
   "id": "8595afc5",
   "metadata": {},
   "outputs": [],
   "source": [
    "!pip install selenium"
   ]
  },
  {
   "cell_type": "code",
   "execution_count": 137,
   "id": "a984a739",
   "metadata": {},
   "outputs": [
    {
     "name": "stdout",
     "output_type": "stream",
     "text": [
      "Failed to download 2016-12-29.csv: Message: no such element: Unable to locate element: {\"method\":\"xpath\",\"selector\":\"//button[contains(text(),\"Download CSV\")]\"}\n",
      "  (Session info: chrome=116.0.5845.188); For documentation on this error, please visit: https://www.selenium.dev/documentation/webdriver/troubleshooting/errors#no-such-element-exception\n",
      "Stacktrace:\n",
      "\tGetHandleVerifier [0x00007FF7A57352A2+57122]\n",
      "\t(No symbol) [0x00007FF7A56AEA92]\n",
      "\t(No symbol) [0x00007FF7A557E3AB]\n",
      "\t(No symbol) [0x00007FF7A55B7D3E]\n",
      "\t(No symbol) [0x00007FF7A55B7E2C]\n",
      "\t(No symbol) [0x00007FF7A55F0B67]\n",
      "\t(No symbol) [0x00007FF7A55D701F]\n",
      "\t(No symbol) [0x00007FF7A55EEB82]\n",
      "\t(No symbol) [0x00007FF7A55D6DB3]\n",
      "\t(No symbol) [0x00007FF7A55AD2B1]\n",
      "\t(No symbol) [0x00007FF7A55AE494]\n",
      "\tGetHandleVerifier [0x00007FF7A59DEF82+2849794]\n",
      "\tGetHandleVerifier [0x00007FF7A5A31D24+3189156]\n",
      "\tGetHandleVerifier [0x00007FF7A5A2ACAF+3160367]\n",
      "\tGetHandleVerifier [0x00007FF7A57C6D06+653702]\n",
      "\t(No symbol) [0x00007FF7A56BA208]\n",
      "\t(No symbol) [0x00007FF7A56B62C4]\n",
      "\t(No symbol) [0x00007FF7A56B63F6]\n",
      "\t(No symbol) [0x00007FF7A56A67A3]\n",
      "\tBaseThreadInitThunk [0x00007FF84E4726AD+29]\n",
      "\tRtlUserThreadStart [0x00007FF84FC8AA68+40]\n",
      "\n"
     ]
    },
    {
     "ename": "KeyboardInterrupt",
     "evalue": "",
     "output_type": "error",
     "traceback": [
      "\u001b[1;31m---------------------------------------------------------------------------\u001b[0m",
      "\u001b[1;31mKeyboardInterrupt\u001b[0m                         Traceback (most recent call last)",
      "\u001b[1;32m~\\AppData\\Local\\Temp\\ipykernel_38264\\3484687591.py\u001b[0m in \u001b[0;36m<module>\u001b[1;34m\u001b[0m\n\u001b[0;32m     39\u001b[0m \u001b[1;32mwhile\u001b[0m \u001b[0mcurrent_date\u001b[0m \u001b[1;33m<=\u001b[0m \u001b[0mend_date\u001b[0m\u001b[1;33m:\u001b[0m\u001b[1;33m\u001b[0m\u001b[1;33m\u001b[0m\u001b[0m\n\u001b[0;32m     40\u001b[0m     \u001b[0mdate_str\u001b[0m \u001b[1;33m=\u001b[0m \u001b[0mcurrent_date\u001b[0m\u001b[1;33m.\u001b[0m\u001b[0mstrftime\u001b[0m\u001b[1;33m(\u001b[0m\u001b[1;34m\"%Y-%m-%d\"\u001b[0m\u001b[1;33m)\u001b[0m\u001b[1;33m\u001b[0m\u001b[1;33m\u001b[0m\u001b[0m\n\u001b[1;32m---> 41\u001b[1;33m     \u001b[0mdownload_csv_for_date\u001b[0m\u001b[1;33m(\u001b[0m\u001b[0mdate_str\u001b[0m\u001b[1;33m)\u001b[0m\u001b[1;33m\u001b[0m\u001b[1;33m\u001b[0m\u001b[0m\n\u001b[0m\u001b[0;32m     42\u001b[0m     \u001b[0mcurrent_date\u001b[0m \u001b[1;33m+=\u001b[0m \u001b[0mtimedelta\u001b[0m\u001b[1;33m(\u001b[0m\u001b[0mdays\u001b[0m\u001b[1;33m=\u001b[0m\u001b[1;36m7\u001b[0m\u001b[1;33m)\u001b[0m\u001b[1;33m\u001b[0m\u001b[1;33m\u001b[0m\u001b[0m\n\u001b[0;32m     43\u001b[0m \u001b[1;33m\u001b[0m\u001b[0m\n",
      "\u001b[1;32m~\\AppData\\Local\\Temp\\ipykernel_38264\\3484687591.py\u001b[0m in \u001b[0;36mdownload_csv_for_date\u001b[1;34m(date_str)\u001b[0m\n\u001b[0;32m     22\u001b[0m \u001b[1;32mdef\u001b[0m \u001b[0mdownload_csv_for_date\u001b[0m\u001b[1;33m(\u001b[0m\u001b[0mdate_str\u001b[0m\u001b[1;33m)\u001b[0m\u001b[1;33m:\u001b[0m\u001b[1;33m\u001b[0m\u001b[1;33m\u001b[0m\u001b[0m\n\u001b[0;32m     23\u001b[0m     \u001b[0murl\u001b[0m \u001b[1;33m=\u001b[0m \u001b[0mbase_url\u001b[0m \u001b[1;33m+\u001b[0m \u001b[0mdate_str\u001b[0m\u001b[1;33m\u001b[0m\u001b[1;33m\u001b[0m\u001b[0m\n\u001b[1;32m---> 24\u001b[1;33m     \u001b[0mdriver\u001b[0m \u001b[1;33m=\u001b[0m \u001b[0mwebdriver\u001b[0m\u001b[1;33m.\u001b[0m\u001b[0mChrome\u001b[0m\u001b[1;33m(\u001b[0m\u001b[1;33m)\u001b[0m  \u001b[1;31m# You'll need to install and configure the Selenium WebDriver for your browser\u001b[0m\u001b[1;33m\u001b[0m\u001b[1;33m\u001b[0m\u001b[0m\n\u001b[0m\u001b[0;32m     25\u001b[0m     \u001b[0mdriver\u001b[0m\u001b[1;33m.\u001b[0m\u001b[0mget\u001b[0m\u001b[1;33m(\u001b[0m\u001b[0murl\u001b[0m\u001b[1;33m)\u001b[0m\u001b[1;33m\u001b[0m\u001b[1;33m\u001b[0m\u001b[0m\n\u001b[0;32m     26\u001b[0m \u001b[1;33m\u001b[0m\u001b[0m\n",
      "\u001b[1;32m~\\anaconda3\\lib\\site-packages\\selenium\\webdriver\\chrome\\webdriver.py\u001b[0m in \u001b[0;36m__init__\u001b[1;34m(self, options, service, keep_alive)\u001b[0m\n\u001b[0;32m     43\u001b[0m         \u001b[0moptions\u001b[0m \u001b[1;33m=\u001b[0m \u001b[0moptions\u001b[0m \u001b[1;32mif\u001b[0m \u001b[0moptions\u001b[0m \u001b[1;32melse\u001b[0m \u001b[0mOptions\u001b[0m\u001b[1;33m(\u001b[0m\u001b[1;33m)\u001b[0m\u001b[1;33m\u001b[0m\u001b[1;33m\u001b[0m\u001b[0m\n\u001b[0;32m     44\u001b[0m \u001b[1;33m\u001b[0m\u001b[0m\n\u001b[1;32m---> 45\u001b[1;33m         super().__init__(\n\u001b[0m\u001b[0;32m     46\u001b[0m             \u001b[0mDesiredCapabilities\u001b[0m\u001b[1;33m.\u001b[0m\u001b[0mCHROME\u001b[0m\u001b[1;33m[\u001b[0m\u001b[1;34m\"browserName\"\u001b[0m\u001b[1;33m]\u001b[0m\u001b[1;33m,\u001b[0m\u001b[1;33m\u001b[0m\u001b[1;33m\u001b[0m\u001b[0m\n\u001b[0;32m     47\u001b[0m             \u001b[1;34m\"goog\"\u001b[0m\u001b[1;33m,\u001b[0m\u001b[1;33m\u001b[0m\u001b[1;33m\u001b[0m\u001b[0m\n",
      "\u001b[1;32m~\\anaconda3\\lib\\site-packages\\selenium\\webdriver\\chromium\\webdriver.py\u001b[0m in \u001b[0;36m__init__\u001b[1;34m(self, browser_name, vendor_prefix, options, service, keep_alive)\u001b[0m\n\u001b[0;32m     51\u001b[0m         \u001b[0mself\u001b[0m\u001b[1;33m.\u001b[0m\u001b[0mservice\u001b[0m\u001b[1;33m.\u001b[0m\u001b[0mpath\u001b[0m \u001b[1;33m=\u001b[0m \u001b[0mDriverFinder\u001b[0m\u001b[1;33m.\u001b[0m\u001b[0mget_path\u001b[0m\u001b[1;33m(\u001b[0m\u001b[0mself\u001b[0m\u001b[1;33m.\u001b[0m\u001b[0mservice\u001b[0m\u001b[1;33m,\u001b[0m \u001b[0moptions\u001b[0m\u001b[1;33m)\u001b[0m\u001b[1;33m\u001b[0m\u001b[1;33m\u001b[0m\u001b[0m\n\u001b[0;32m     52\u001b[0m \u001b[1;33m\u001b[0m\u001b[0m\n\u001b[1;32m---> 53\u001b[1;33m         \u001b[0mself\u001b[0m\u001b[1;33m.\u001b[0m\u001b[0mservice\u001b[0m\u001b[1;33m.\u001b[0m\u001b[0mstart\u001b[0m\u001b[1;33m(\u001b[0m\u001b[1;33m)\u001b[0m\u001b[1;33m\u001b[0m\u001b[1;33m\u001b[0m\u001b[0m\n\u001b[0m\u001b[0;32m     54\u001b[0m \u001b[1;33m\u001b[0m\u001b[0m\n\u001b[0;32m     55\u001b[0m         \u001b[1;32mtry\u001b[0m\u001b[1;33m:\u001b[0m\u001b[1;33m\u001b[0m\u001b[1;33m\u001b[0m\u001b[0m\n",
      "\u001b[1;32m~\\anaconda3\\lib\\site-packages\\selenium\\webdriver\\common\\service.py\u001b[0m in \u001b[0;36mstart\u001b[1;34m(self)\u001b[0m\n\u001b[0;32m    108\u001b[0m         \u001b[1;32mwhile\u001b[0m \u001b[1;32mTrue\u001b[0m\u001b[1;33m:\u001b[0m\u001b[1;33m\u001b[0m\u001b[1;33m\u001b[0m\u001b[0m\n\u001b[0;32m    109\u001b[0m             \u001b[0mself\u001b[0m\u001b[1;33m.\u001b[0m\u001b[0massert_process_still_running\u001b[0m\u001b[1;33m(\u001b[0m\u001b[1;33m)\u001b[0m\u001b[1;33m\u001b[0m\u001b[1;33m\u001b[0m\u001b[0m\n\u001b[1;32m--> 110\u001b[1;33m             \u001b[1;32mif\u001b[0m \u001b[0mself\u001b[0m\u001b[1;33m.\u001b[0m\u001b[0mis_connectable\u001b[0m\u001b[1;33m(\u001b[0m\u001b[1;33m)\u001b[0m\u001b[1;33m:\u001b[0m\u001b[1;33m\u001b[0m\u001b[1;33m\u001b[0m\u001b[0m\n\u001b[0m\u001b[0;32m    111\u001b[0m                 \u001b[1;32mbreak\u001b[0m\u001b[1;33m\u001b[0m\u001b[1;33m\u001b[0m\u001b[0m\n\u001b[0;32m    112\u001b[0m \u001b[1;33m\u001b[0m\u001b[0m\n",
      "\u001b[1;32m~\\anaconda3\\lib\\site-packages\\selenium\\webdriver\\common\\service.py\u001b[0m in \u001b[0;36mis_connectable\u001b[1;34m(self)\u001b[0m\n\u001b[0;32m    125\u001b[0m         \"\"\"Establishes a socket connection to determine if the service running\n\u001b[0;32m    126\u001b[0m         on the port is accessible.\"\"\"\n\u001b[1;32m--> 127\u001b[1;33m         \u001b[1;32mreturn\u001b[0m \u001b[0mutils\u001b[0m\u001b[1;33m.\u001b[0m\u001b[0mis_connectable\u001b[0m\u001b[1;33m(\u001b[0m\u001b[0mself\u001b[0m\u001b[1;33m.\u001b[0m\u001b[0mport\u001b[0m\u001b[1;33m)\u001b[0m\u001b[1;33m\u001b[0m\u001b[1;33m\u001b[0m\u001b[0m\n\u001b[0m\u001b[0;32m    128\u001b[0m \u001b[1;33m\u001b[0m\u001b[0m\n\u001b[0;32m    129\u001b[0m     \u001b[1;32mdef\u001b[0m \u001b[0msend_remote_shutdown_command\u001b[0m\u001b[1;33m(\u001b[0m\u001b[0mself\u001b[0m\u001b[1;33m)\u001b[0m \u001b[1;33m->\u001b[0m \u001b[1;32mNone\u001b[0m\u001b[1;33m:\u001b[0m\u001b[1;33m\u001b[0m\u001b[1;33m\u001b[0m\u001b[0m\n",
      "\u001b[1;32m~\\anaconda3\\lib\\site-packages\\selenium\\webdriver\\common\\utils.py\u001b[0m in \u001b[0;36mis_connectable\u001b[1;34m(port, host)\u001b[0m\n\u001b[0;32m     99\u001b[0m     \u001b[0msocket_\u001b[0m \u001b[1;33m=\u001b[0m \u001b[1;32mNone\u001b[0m\u001b[1;33m\u001b[0m\u001b[1;33m\u001b[0m\u001b[0m\n\u001b[0;32m    100\u001b[0m     \u001b[1;32mtry\u001b[0m\u001b[1;33m:\u001b[0m\u001b[1;33m\u001b[0m\u001b[1;33m\u001b[0m\u001b[0m\n\u001b[1;32m--> 101\u001b[1;33m         \u001b[0msocket_\u001b[0m \u001b[1;33m=\u001b[0m \u001b[0msocket\u001b[0m\u001b[1;33m.\u001b[0m\u001b[0mcreate_connection\u001b[0m\u001b[1;33m(\u001b[0m\u001b[1;33m(\u001b[0m\u001b[0mhost\u001b[0m\u001b[1;33m,\u001b[0m \u001b[0mport\u001b[0m\u001b[1;33m)\u001b[0m\u001b[1;33m,\u001b[0m \u001b[1;36m1\u001b[0m\u001b[1;33m)\u001b[0m\u001b[1;33m\u001b[0m\u001b[1;33m\u001b[0m\u001b[0m\n\u001b[0m\u001b[0;32m    102\u001b[0m         \u001b[0mresult\u001b[0m \u001b[1;33m=\u001b[0m \u001b[1;32mTrue\u001b[0m\u001b[1;33m\u001b[0m\u001b[1;33m\u001b[0m\u001b[0m\n\u001b[0;32m    103\u001b[0m     \u001b[1;32mexcept\u001b[0m \u001b[0m_is_connectable_exceptions\u001b[0m\u001b[1;33m:\u001b[0m\u001b[1;33m\u001b[0m\u001b[1;33m\u001b[0m\u001b[0m\n",
      "\u001b[1;32m~\\anaconda3\\lib\\socket.py\u001b[0m in \u001b[0;36mcreate_connection\u001b[1;34m(address, timeout, source_address)\u001b[0m\n\u001b[0;32m    830\u001b[0m             \u001b[1;32mif\u001b[0m \u001b[0msource_address\u001b[0m\u001b[1;33m:\u001b[0m\u001b[1;33m\u001b[0m\u001b[1;33m\u001b[0m\u001b[0m\n\u001b[0;32m    831\u001b[0m                 \u001b[0msock\u001b[0m\u001b[1;33m.\u001b[0m\u001b[0mbind\u001b[0m\u001b[1;33m(\u001b[0m\u001b[0msource_address\u001b[0m\u001b[1;33m)\u001b[0m\u001b[1;33m\u001b[0m\u001b[1;33m\u001b[0m\u001b[0m\n\u001b[1;32m--> 832\u001b[1;33m             \u001b[0msock\u001b[0m\u001b[1;33m.\u001b[0m\u001b[0mconnect\u001b[0m\u001b[1;33m(\u001b[0m\u001b[0msa\u001b[0m\u001b[1;33m)\u001b[0m\u001b[1;33m\u001b[0m\u001b[1;33m\u001b[0m\u001b[0m\n\u001b[0m\u001b[0;32m    833\u001b[0m             \u001b[1;31m# Break explicitly a reference cycle\u001b[0m\u001b[1;33m\u001b[0m\u001b[1;33m\u001b[0m\u001b[0m\n\u001b[0;32m    834\u001b[0m             \u001b[0merr\u001b[0m \u001b[1;33m=\u001b[0m \u001b[1;32mNone\u001b[0m\u001b[1;33m\u001b[0m\u001b[1;33m\u001b[0m\u001b[0m\n",
      "\u001b[1;31mKeyboardInterrupt\u001b[0m: "
     ]
    }
   ],
   "source": [
    "import os\n",
    "import pandas as pd\n",
    "from datetime import date, timedelta\n",
    "from selenium import webdriver\n",
    "from selenium.webdriver.common.by import By\n",
    "from selenium.webdriver.common.keys import Keys\n",
    "\n",
    "# Define the base URL for Spotify charts\n",
    "base_url = \"https://charts.spotify.com/charts/view/regional-us-weekly/\"\n",
    "\n",
    "# Define the start and end dates\n",
    "start_date = date(2016, 12, 29)\n",
    "end_date = date(2023, 9, 14)\n",
    "\n",
    "# Define the folder where you want to save the CSV files\n",
    "output_folder = \"spotify_charts_csv\"\n",
    "\n",
    "# Create the output folder if it doesn't exist\n",
    "os.makedirs(output_folder, exist_ok=True)\n",
    "\n",
    "# Function to download CSV for a specific date\n",
    "def download_csv_for_date(date_str):\n",
    "    url = base_url + date_str\n",
    "    driver = webdriver.Chrome()  # You'll need to install and configure the Selenium WebDriver for your browser\n",
    "    driver.get(url)\n",
    "    \n",
    "    try:\n",
    "        # Use a more general XPath to locate the button\n",
    "        csv_button = driver.find_element(By.XPATH, '//button[contains(text(),\"Download CSV\")]')\n",
    "        csv_button.click()\n",
    "        print(f\"Downloaded {date_str}.csv\")\n",
    "    except Exception as e:\n",
    "        print(f\"Failed to download {date_str}.csv: {str(e)}\")\n",
    "    \n",
    "    driver.quit()\n",
    "\n",
    "# Loop through the date range and download CSV files\n",
    "current_date = start_date\n",
    "while current_date <= end_date:\n",
    "    date_str = current_date.strftime(\"%Y-%m-%d\")\n",
    "    download_csv_for_date(date_str)\n",
    "    current_date += timedelta(days=7)\n",
    "\n",
    "print(\"All CSV files downloaded.\")\n"
   ]
  },
  {
   "cell_type": "code",
   "execution_count": 133,
   "id": "5adacd13",
   "metadata": {},
   "outputs": [
    {
     "data": {
      "text/plain": [
       "'2017-06-29'"
      ]
     },
     "execution_count": 133,
     "metadata": {},
     "output_type": "execute_result"
    }
   ],
   "source": []
  },
  {
   "cell_type": "code",
   "execution_count": 134,
   "id": "fb73d791",
   "metadata": {},
   "outputs": [
    {
     "name": "stdout",
     "output_type": "stream",
     "text": [
      "Failed to download 2017-06-29.csv: Message: no such element: Unable to locate element: {\"method\":\"xpath\",\"selector\":\"/html/body/div[1]/div/div/main/div[2]/div[3]/div/div/a\"}\n",
      "  (Session info: chrome=116.0.5845.188); For documentation on this error, please visit: https://www.selenium.dev/documentation/webdriver/troubleshooting/errors#no-such-element-exception\n",
      "Stacktrace:\n",
      "\tGetHandleVerifier [0x00007FF7A57352A2+57122]\n",
      "\t(No symbol) [0x00007FF7A56AEA92]\n",
      "\t(No symbol) [0x00007FF7A557E3AB]\n",
      "\t(No symbol) [0x00007FF7A55B7D3E]\n",
      "\t(No symbol) [0x00007FF7A55B7E2C]\n",
      "\t(No symbol) [0x00007FF7A55F0B67]\n",
      "\t(No symbol) [0x00007FF7A55D701F]\n",
      "\t(No symbol) [0x00007FF7A55EEB82]\n",
      "\t(No symbol) [0x00007FF7A55D6DB3]\n",
      "\t(No symbol) [0x00007FF7A55AD2B1]\n",
      "\t(No symbol) [0x00007FF7A55AE494]\n",
      "\tGetHandleVerifier [0x00007FF7A59DEF82+2849794]\n",
      "\tGetHandleVerifier [0x00007FF7A5A31D24+3189156]\n",
      "\tGetHandleVerifier [0x00007FF7A5A2ACAF+3160367]\n",
      "\tGetHandleVerifier [0x00007FF7A57C6D06+653702]\n",
      "\t(No symbol) [0x00007FF7A56BA208]\n",
      "\t(No symbol) [0x00007FF7A56B62C4]\n",
      "\t(No symbol) [0x00007FF7A56B63F6]\n",
      "\t(No symbol) [0x00007FF7A56A67A3]\n",
      "\tBaseThreadInitThunk [0x00007FF84E4726AD+29]\n",
      "\tRtlUserThreadStart [0x00007FF84FC8AA68+40]\n",
      "\n"
     ]
    }
   ],
   "source": []
  },
  {
   "cell_type": "code",
   "execution_count": null,
   "id": "f293e27c",
   "metadata": {},
   "outputs": [],
   "source": []
  }
 ],
 "metadata": {
  "kernelspec": {
   "display_name": "Python 3 (ipykernel)",
   "language": "python",
   "name": "python3"
  },
  "language_info": {
   "codemirror_mode": {
    "name": "ipython",
    "version": 3
   },
   "file_extension": ".py",
   "mimetype": "text/x-python",
   "name": "python",
   "nbconvert_exporter": "python",
   "pygments_lexer": "ipython3",
   "version": "3.9.13"
  }
 },
 "nbformat": 4,
 "nbformat_minor": 5
}
